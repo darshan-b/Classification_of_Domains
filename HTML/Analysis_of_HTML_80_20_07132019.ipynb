{
 "cells": [
  {
   "cell_type": "markdown",
   "metadata": {},
   "source": [
    "***\n",
    "## Table of Contents\n",
    "<br>\n",
    "  <br>\n",
    "    <ol>\n",
    "        <h2><a href='#1' style=\"text-decoration : none; color : #000000;\">1. Initial Models</a></h2>\n",
    "        <ul>\n",
    "            <a href='#1.A' style=\"text-decoration : none; color : #000000;\"><h3>A. Results </h3></a>\n",
    "        </ul>\n",
    "        <ul>\n",
    "            <a href='#1.B' style=\"text-decoration : none; color : #000000;\"><h3>B. Average Feature Importance   </h3></a>\n",
    "        </ul>\n",
    "     </ol>\n",
    "     <br> \n",
    "\n",
    "<ol>\n",
    "        <h2><a href='#2' style=\"text-decoration : none; color : #000000;\">2. Oversampling </a></h2>\n",
    "        <ul>\n",
    "            <a href='#2.A' style=\"text-decoration : none; color : #000000;\"><h3>A. Results </h3></a>\n",
    "        </ul>\n",
    "        <ul>\n",
    "            <a href='#2.B' style=\"text-decoration : none; color : #000000;\"><h3>B. Average Feature Importance   </h3></a>\n",
    "        </ul>\n",
    "     </ol>\n",
    "     <br>\n",
    "     \n",
    " <ol>\n",
    "        <h2><a href='#3' style=\"text-decoration : none; color : #000000;\">3. Undersampling</a></h2>\n",
    "        <ul>\n",
    "            <a href='#3.A' style=\"text-decoration : none; color : #000000;\"><h3>A. Results </h3></a>\n",
    "        </ul>\n",
    "        <ul>\n",
    "            <a href='#3.B' style=\"text-decoration : none; color : #000000;\"><h3>B. Average Feature Importance   </h3></a>\n",
    "        </ul>\n",
    "     </ol>\n",
    "     <br>\n",
    "     \n",
    " <ol>\n",
    "        <h2><a href='#4' style=\"text-decoration : none; color : #000000;\">4.Feature Transformation with feature selection</a></h2>\n",
    "        <ul>\n",
    "            <a href='#4.A' style=\"text-decoration : none; color : #000000;\"><h3>A. Results </h3></a>\n",
    "        </ul>\n",
    "        <ul>\n",
    "            <a href='#4.B' style=\"text-decoration : none; color : #000000;\"><h3>B. Average Feature Importance   </h3></a>\n",
    "        </ul>\n",
    "     </ol>\n",
    "     <br>\n",
    "     \n",
    "     \n",
    " <ol>\n",
    "        <h2><a href='#5' style=\"text-decoration : none; color : #000000;\">5.Feature Transformation with PCA</a></h2>\n",
    "        <ul>\n",
    "            <a href='#5.A' style=\"text-decoration : none; color : #000000;\"><h3>A. Results </h3></a>\n",
    "        </ul>\n",
    "     </ol>\n",
    "     <br>"
   ]
  },
  {
   "cell_type": "code",
   "execution_count": 43,
   "metadata": {},
   "outputs": [
    {
     "data": {
      "text/html": [
       "<script type=\"text/javascript\">window.PlotlyConfig = {MathJaxConfig: 'local'};</script><script type=\"text/javascript\">if (window.MathJax) {MathJax.Hub.Config({SVG: {font: \"STIX-Web\"}});}</script><script>requirejs.config({paths: { 'plotly': ['https://cdn.plot.ly/plotly-latest.min']},});if(!window._Plotly) {require(['plotly'],function(plotly) {window._Plotly=plotly;});}</script>"
      ],
      "text/vnd.plotly.v1+html": [
       "<script type=\"text/javascript\">window.PlotlyConfig = {MathJaxConfig: 'local'};</script><script type=\"text/javascript\">if (window.MathJax) {MathJax.Hub.Config({SVG: {font: \"STIX-Web\"}});}</script><script>requirejs.config({paths: { 'plotly': ['https://cdn.plot.ly/plotly-latest.min']},});if(!window._Plotly) {require(['plotly'],function(plotly) {window._Plotly=plotly;});}</script>"
      ]
     },
     "metadata": {},
     "output_type": "display_data"
    }
   ],
   "source": [
    "import pandas as pd\n",
    "import numpy as np\n",
    "import copy\n",
    "import matplotlib.pyplot as plt\n",
    "import seaborn as sns\n",
    "%matplotlib inline\n",
    "\n",
    "from IPython.display import display,clear_output,HTML\n",
    "import warnings\n",
    "warnings.filterwarnings(\"ignore\")\n",
    "\n",
    "import keras\n",
    "from keras.layers import Dense,Dropout\n",
    "from keras.models import Sequential\n",
    "warnings.simplefilter(\"ignore\", DeprecationWarning)\n",
    "import researchpy as rp\n",
    "\n",
    "%matplotlib inline\n",
    "pd.set_option('display.max_columns', 500)\n",
    "pd.set_option('display.max_rows',305)\n",
    "\n",
    "from sklearn.feature_selection import SelectKBest,chi2,RFE,RFECV,f_regression,SelectFromModel\n",
    "from sklearn.linear_model import LogisticRegression\n",
    "from sklearn.ensemble import ExtraTreesClassifier,RandomForestClassifier,GradientBoostingClassifier,AdaBoostClassifier,BaggingClassifier\n",
    "from sklearn.neighbors import KNeighborsClassifier\n",
    "from sklearn.model_selection import train_test_split,cross_val_score\n",
    "\n",
    "from sklearn.preprocessing import StandardScaler,MinMaxScaler\n",
    "from sklearn import metrics\n",
    "\n",
    "\n",
    "\n",
    "from sklearn.decomposition import PCA\n",
    "from sklearn.metrics import accuracy_score,auc,roc_curve,recall_score,precision_score,matthews_corrcoef\n",
    "\n",
    "from pandas_ml import ConfusionMatrix\n",
    "\n",
    "\n",
    "from imblearn.over_sampling import SMOTE\n",
    "\n",
    "from plotly.offline import download_plotlyjs, init_notebook_mode, plot, iplot\n",
    "init_notebook_mode(connected=True)\n",
    "import plotly.graph_objs as go\n",
    "\n",
    "import featuretools as ft\n",
    "\n",
    "from scipy import stats\n",
    "import re\n",
    "\n",
    "from xgboost import XGBClassifier\n",
    "from xgboost import plot_importance"
   ]
  },
  {
   "cell_type": "code",
   "execution_count": 44,
   "metadata": {},
   "outputs": [],
   "source": [
    "### Function to plot Feature Importance\n",
    "def feat_impt_plot(feat_impt,y_labels,width_s=1000,height_s=1000):\n",
    "    \n",
    "    m=pd.DataFrame(y_labels,feat_impt).reset_index()\n",
    "    m.columns=['Feature_Importance','Features']\n",
    "    m.sort_values(by='Feature_Importance',inplace=True,ascending=False)\n",
    "    m['Features']=m['Features'].str.replace(\"dom_function_\",\"\")\n",
    "    m['Features']=m['Features'].str.replace(\"js_function_\",\"\")\n",
    "    m['Features']=m['Features'].apply(lambda x: str(x).lstrip('.'))\n",
    "    m['Features']=m['Features'].str.replace(\"(\",\"\")\n",
    "    \n",
    "    data = [go.Bar(x=m.Feature_Importance.values,y=m.Features.values,text=np.round(m.Feature_Importance,4),\n",
    "            textposition = 'outside',\n",
    "            marker=dict(\n",
    "                color='rgb(158,202,225)',\n",
    "                line=dict(\n",
    "                    color='rgb(8,48,107)',\n",
    "                    width=1.5),\n",
    "            ),\n",
    "            opacity=0.6,\n",
    "            orientation='h'\n",
    "        )]\n",
    "    layout = go.Layout(autosize=False,\n",
    "    width=width_s,\n",
    "    height=height_s,\n",
    "    xaxis=dict(title='Feature Importances',\n",
    "        tickfont=dict(\n",
    "            size=12,\n",
    "            color='black'\n",
    "        )),\n",
    "    yaxis=dict(automargin=True))\n",
    "    fig = go.Figure(data=data, layout=layout)\n",
    "    iplot(fig)\n",
    "    \n",
    "def uni_value(data):\n",
    "    lst=[]\n",
    "    for col in data.columns[:]:\n",
    "        lst.append([col,dict(data[col].value_counts()),data[col].value_counts().values[0]>=len(data)*0.95])\n",
    "    col_values=pd.DataFrame(lst,columns=['Feature','Value_Counts','95_%_same_values'])\n",
    "    col_values.set_index('Feature',drop=True,inplace=True)\n",
    "    del lst\n",
    "    return col_values\n",
    "\n",
    "    \n",
    "def check_cat(data):\n",
    "    cat_var=[]\n",
    "    num_var=[]\n",
    "    for col in data.columns:\n",
    "        if col!='Target':\n",
    "            if len(data[col].value_counts())==2:\n",
    "                cat_var.append(col)\n",
    "            else:\n",
    "                num_var.append(col)\n",
    "    return cat_var,num_var\n",
    "\n",
    "\n",
    "def num_stats(data,columns):\n",
    "    lst=[]\n",
    "    c=0\n",
    "    for col in columns:\n",
    "        corr=stats.pointbiserialr(data[col],data.Target)[0]\n",
    "        corr_p=stats.pointbiserialr(data[col],data.Target)[1]\n",
    "        ttest=stats.ttest_ind(data[data.Target==1][col], data[data.Target==0][col], equal_var=False)[0]\n",
    "        ttest_p=stats.ttest_ind(data[data.Target==1][col], data[data.Target==0][col], equal_var=False)[1]\n",
    "        lst.append((corr,corr_p,ttest,ttest_p,col))\n",
    "    stats_data=pd.DataFrame(lst,columns=['Pt. Biserial Corr','Pt. Biserial Corr p-val','ttest','ttest p-val','Feature'])\n",
    "    stats_data.set_index('Feature',drop=True,inplace=True)\n",
    "    stats_data.sort_values(by='ttest',inplace=True)\n",
    "    del lst\n",
    "    return stats_data\n",
    "\n",
    "\n",
    "### Generate statistics for categorical data\n",
    "def cat_stats(data,columns):\n",
    "    lst=[]\n",
    "    c=0\n",
    "    for col in columns:\n",
    "        if col!='Target':\n",
    "            table, results = rp.crosstab(data['Target'], data[col], prop= 'col', test= 'chi-square')\n",
    "            x=results['results'].values.tolist()\n",
    "            x.append(col)\n",
    "            lst.append(x)\n",
    "    chi_df=pd.DataFrame(lst,columns=['Pearson Chi-square','p-value','Cramers V','Feature'])\n",
    "    chi_df.set_index('Feature',drop=True,inplace=True)\n",
    "    chi_df.sort_values(by='Cramers V',ascending=False,inplace=True)\n",
    "    del lst\n",
    "    return chi_df\n",
    "\n",
    "def remove_feat(data):\n",
    "    col_no_unique=[]\n",
    "    for col in data.columns[:]:\n",
    "        if len(data[col].value_counts())<=1:\n",
    "#             print(col)\n",
    "            col_no_unique.append(col)\n",
    "    return col_no_unique\n",
    "\n",
    "### Generate plot for class balance for categorical nature\n",
    "def class_bal(data,title=''):\n",
    "    d = [go.Bar(x=data.Target.value_counts().index.values,\n",
    "               y=data.Target.value_counts().values,\n",
    "               text=data.Target.value_counts().values,\n",
    "               textposition = 'outside',\n",
    "            )]\n",
    "    layout = go.Layout(title=title,xaxis=dict(title='Domain Type',tickfont=dict(size=12,color='black')),\n",
    "                    yaxis=dict(title='Number of Instances'))\n",
    "    fig = go.Figure(data=d, layout=layout)\n",
    "    iplot(fig)"
   ]
  },
  {
   "cell_type": "code",
   "execution_count": 45,
   "metadata": {},
   "outputs": [],
   "source": [
    "def model_build(model,X_train,Y_train,X_test,Y_test,tree=False,feat=None):\n",
    "    \n",
    "    y_pred_train=model.predict(X_train)\n",
    "    acc_train=accuracy_score(Y_train,y_pred_train)\n",
    "    \n",
    "    print(\"Accuracy of the model for training data is:\",acc_train)\n",
    "    print(\"Confusion Matrix for training data is:\")\n",
    "    cm_train=ConfusionMatrix(Y_train,y_pred_train)\n",
    "    display(cm_train)\n",
    "    \n",
    "    \n",
    "    y_pred_test=model.predict(X_test)\n",
    "    acc_test=accuracy_score(Y_test,y_pred_test)\n",
    "    print(\"Accuracy of the model for test data is:\",acc_test)\n",
    "    print(\"Confusion Matrix for test data is:\")\n",
    "    cm_test=ConfusionMatrix(Y_test,y_pred_test)\n",
    "    display(cm_test)\n",
    "\n",
    "    fpr, tpr, threshold = roc_curve(Y_test, y_pred_test)\n",
    "    roc_auc =auc(fpr, tpr)\n",
    "    mcc=matthews_corrcoef(Y_test,y_pred_test)\n",
    "    if tree==True:\n",
    "        feat_impt_plot(model.feature_importances_,feat)\n",
    "        return model,cm_train,cm_test,acc_train,acc_test,roc_auc,model.feature_importances_,mcc\n",
    "    \n",
    "    return model,cm_train,cm_test,acc_train,acc_test,roc_auc,mcc\n",
    "\n",
    "def KNN_model(X_train,Y_train,X_test,Y_test):\n",
    "    print('\\033[1m' + 'K-Nearest Neighbors' + '\\033[0m')\n",
    "    knn=KNeighborsClassifier()\n",
    "    knn.fit(X_train,Y_train)\n",
    "\n",
    "    return model_build(knn,X_train,Y_train,X_test,Y_test)\n",
    "\n",
    "def Logistic_model(X_train,Y_train,X_test,Y_test):\n",
    "    print('\\033[1m' + 'Logistic Regression' + '\\033[0m')\n",
    "    log=LogisticRegression(random_state=0)\n",
    "    log.fit(X_train,Y_train)\n",
    "    \n",
    "    return model_build(log,X_train,Y_train,X_test,Y_test)\n",
    "\n",
    "def RandomForest(X_train,Y_train,X_test,Y_test,feat):\n",
    "    print('\\033[1m' + 'RandomForest Classifier' + '\\033[0m')\n",
    "    rf=RandomForestClassifier(random_state=0)\n",
    "    rf.fit(X_train,Y_train)\n",
    "\n",
    "    \n",
    "    return model_build(rf,X_train,Y_train,X_test,Y_test,True,feat)\n",
    "\n",
    "def AdaBoost(X_train,Y_train,X_test,Y_test,feat):\n",
    "    print('\\033[1m' + 'Adaoost Classifier' + '\\033[0m')\n",
    "    ada=AdaBoostClassifier(random_state=0)\n",
    "    ada.fit(X_train,Y_train)\n",
    "    \n",
    "    return model_build(ada,X_train,Y_train,X_test,Y_test,True,feat)\n",
    "\n",
    "def GradientBoosting(X_train,Y_train,X_test,Y_test,feat):\n",
    "    print('\\033[1m' + 'GradientBoosting Classifier' + '\\033[0m')\n",
    "    gbc=GradientBoostingClassifier(random_state=0)\n",
    "    gbc.fit(X_train,Y_train)\n",
    "    \n",
    "    return model_build(gbc,X_train,Y_train,X_test,Y_test,True,feat)\n",
    "\n",
    "def ExtraTree(X_train,Y_train,X_test,Y_test,feat):\n",
    "    print('\\033[1m' + 'ExtraTree Classifier' + '\\033[0m')\n",
    "    ext_tree=ExtraTreesClassifier(random_state=0)\n",
    "    ext_tree.fit(X_train,Y_train)\n",
    "    \n",
    "    return model_build(ext_tree,X_train,Y_train,X_test,Y_test,True,feat)\n",
    "\n",
    "def Bagging(X_train,Y_train,X_test,Y_test):\n",
    "    print('\\033[1m' + 'Bagging Classifier' + '\\033[0m')\n",
    "    bagging=BaggingClassifier(random_state=0)\n",
    "    bagging.fit(X_train,Y_train)\n",
    "    \n",
    "    return model_build(bagging,X_train,Y_train,X_test,Y_test)\n",
    "\n",
    "def DeepLearning1(X_train,Y_train,X_test,Y_test):\n",
    "    print('\\033[1m' + 'Neural Network-1' + '\\033[0m')\n",
    "    np.random.seed(0)\n",
    "    deep_learning=Sequential()\n",
    "    deep_learning.add(Dense(units=64,activation='relu',use_bias=True,kernel_initializer='uniform',input_dim=X_train.shape[1]))\n",
    "    deep_learning.add(Dense(units=128,activation='relu',use_bias=True,kernel_initializer='uniform'))\n",
    "    deep_learning.add(Dense(units=1,activation='sigmoid',use_bias=True,kernel_initializer='uniform'))\n",
    "    deep_learning.compile(optimizer='adam',loss='binary_crossentropy',metrics=['accuracy'])\n",
    "    deep_learning.fit(X_train,Y_train,batch_size=20,epochs=80,verbose=False)\n",
    "    acc_train=deep_learning.evaluate(X_train,Y_train,verbose=False)[1]\n",
    "    print(\"The accuracy of the model on training data is:\",acc_train)\n",
    "    cm_train=ConfusionMatrix(Y_train,deep_learning.predict_classes(X_train,batch_size=1,verbose=False).reshape(1,len(X_train))[0])\n",
    "    cm_test=ConfusionMatrix(Y_test,deep_learning.predict_classes(X_test,batch_size=1,verbose=False).reshape(1,len(X_test))[0])\n",
    "    display(cm_train)\n",
    "    acc_test=accuracy_score(Y_test,deep_learning.predict_classes(X_test,batch_size=1,verbose=False))\n",
    "    print(\"The accuracy of the model on test data is:\",acc_test)\n",
    "    display(cm_test)\n",
    "    mcc=matthews_corrcoef(Y_test,deep_learning.predict_classes(X_test,batch_size=1,verbose=False))\n",
    "    fpr, tpr, threshold = roc_curve(Y_test, deep_learning.predict_classes(X_test,batch_size=1,verbose=False))\n",
    "    roc_auc =auc(fpr, tpr)\n",
    "    return  deep_learning,cm_train,cm_test,acc_train,acc_test,roc_auc,mcc"
   ]
  },
  {
   "cell_type": "markdown",
   "metadata": {},
   "source": [
    "#### Read Data"
   ]
  },
  {
   "cell_type": "code",
   "execution_count": 46,
   "metadata": {},
   "outputs": [
    {
     "name": "stdout",
     "output_type": "stream",
     "text": [
      "Shape of HTML dataset: (43491, 1461)\n"
     ]
    }
   ],
   "source": [
    "df=pd.read_csv('../html/HTML.csv',index_col='domain')\n",
    "df.drop(['Unnamed: 0'],axis=1,inplace=True)\n",
    "cookie=[col for col in df.columns if 'number' in col]\n",
    "df.drop(cookie,axis=1,inplace=True)\n",
    "print(\"Shape of HTML dataset:\",df.shape)\n",
    "\n",
    "df.Target=df.Target.apply(lambda x: 1 if x=='Malicious' else 0)"
   ]
  },
  {
   "cell_type": "markdown",
   "metadata": {},
   "source": [
    "#### Dropping constants"
   ]
  },
  {
   "cell_type": "code",
   "execution_count": 47,
   "metadata": {},
   "outputs": [
    {
     "name": "stdout",
     "output_type": "stream",
     "text": [
      "0 columns have only one unique value in them rendering them meaningless for classification\n",
      "Shape of our dataset after dropping them: (43491, 1461)\n"
     ]
    }
   ],
   "source": [
    "col_no_unique=[]\n",
    "for col in df.columns[:-1]:\n",
    "    if len(df[col].value_counts())==1:\n",
    "        col_no_unique.append(col)\n",
    "\n",
    "print(\"{} columns have only one unique value in them rendering them meaningless for classification\".format(len(col_no_unique)))\n",
    "### Drop those columns\n",
    "df.drop(col_no_unique,axis=1,inplace=True)\n",
    "\n",
    "print(\"Shape of our dataset after dropping them:\",df.shape)"
   ]
  },
  {
   "cell_type": "markdown",
   "metadata": {},
   "source": [
    "#### 95% same values"
   ]
  },
  {
   "cell_type": "code",
   "execution_count": 48,
   "metadata": {},
   "outputs": [
    {
     "name": "stdout",
     "output_type": "stream",
     "text": [
      "1297 columns have more than 95% same values\n"
     ]
    }
   ],
   "source": [
    "lst=[]\n",
    "for col in df.columns[:-1]:\n",
    "    lst.append([col,dict(df[col].value_counts()),df[col].value_counts().values[0]>=len(df)*0.95])\n",
    "\n",
    "col_values=pd.DataFrame(lst,columns=['Feature','Value_Counts','95_%_same_values'])\n",
    "col_values.set_index('Feature',drop=True,inplace=True)\n",
    "del lst\n",
    "\n",
    "print(\"{} columns have more than 95% same values\".format(len(col_values[col_values['95_%_same_values']==True].index.values)))"
   ]
  },
  {
   "cell_type": "code",
   "execution_count": 49,
   "metadata": {},
   "outputs": [],
   "source": [
    "df.drop(col_values[col_values['95_%_same_values']==True].index.values,axis=1,inplace=True)"
   ]
  },
  {
   "cell_type": "markdown",
   "metadata": {},
   "source": [
    "#### Dropping columns based on high VIF values"
   ]
  },
  {
   "cell_type": "code",
   "execution_count": 50,
   "metadata": {},
   "outputs": [],
   "source": [
    "df_sel=df.copy(deep=True)\n",
    "rem=['a_href_absolute','a_href_relative','a_count','a_href_out_of_domain',\n",
    "     'base_count','base_href_absolute','base_href_out_of_domain',\n",
    "     'iframe_src_absolute','iframe_src_relative','iframe_sandbox_allow_same_origin_count','iframe_src_http',\n",
    "     'img_src_absolute','img_src_http','img_srcset_absolute','img_src_relative','img_srcset_relative','img_count',\n",
    "     'script_src_absolute','script_src_http','script_src_relative','script_count','script_src_https',\n",
    "     'link_rel_wlwmanifest','link_href_absolute','link_href_relative','link_rel_EditURI','link_count',\n",
    "     'link_type_application/wlwmanifest+xml','link_href_https','link_rel_stylesheet','link_href_.png',\n",
    "     'form_action_absolute','form_action_relative','form_count','form_action_https',\n",
    "     'form_enctype_application/x-www-form-urlencoded',\n",
    "     'tbody_count',\n",
    "     'nofollow_count']\n",
    "\n",
    "df_sel.drop(rem,axis=1,inplace=True)"
   ]
  },
  {
   "cell_type": "code",
   "execution_count": 51,
   "metadata": {},
   "outputs": [],
   "source": [
    "X=df_sel.iloc[:,df_sel.columns!='Target']\n",
    "Y=df_sel.Target"
   ]
  },
  {
   "cell_type": "code",
   "execution_count": 53,
   "metadata": {},
   "outputs": [],
   "source": [
    "X_train, X_test, y_train, y_test = train_test_split(X, Y, test_size=0.3, random_state=7)"
   ]
  },
  {
   "cell_type": "code",
   "execution_count": 54,
   "metadata": {},
   "outputs": [
    {
     "name": "stdout",
     "output_type": "stream",
     "text": [
      "Accuracy: 90.11%\n"
     ]
    }
   ],
   "source": [
    "model = XGBClassifier(random_state=0)\n",
    "model.fit(X_train, y_train)\n",
    "y_pred = model.predict(X_test)\n",
    "predictions = [round(value) for value in y_pred]\n",
    "accuracy = accuracy_score(y_test, predictions)\n",
    "print(\"Accuracy: %.2f%%\" % (accuracy * 100.0))\n",
    "thresholds = np.sort(model.feature_importances_)"
   ]
  },
  {
   "cell_type": "code",
   "execution_count": 15,
   "metadata": {
    "scrolled": true
   },
   "outputs": [
    {
     "name": "stdout",
     "output_type": "stream",
     "text": [
      "Accuracy: 90.11%\n",
      "Thresh=0.000, n=125, Accuracy: 90.11%\n",
      "Thresh=0.000, n=125, Accuracy: 90.11%\n",
      "Thresh=0.000, n=125, Accuracy: 90.11%\n",
      "Thresh=0.000, n=125, Accuracy: 90.11%\n",
      "Thresh=0.000, n=125, Accuracy: 90.11%\n",
      "Thresh=0.000, n=125, Accuracy: 90.11%\n",
      "Thresh=0.000, n=125, Accuracy: 90.11%\n",
      "Thresh=0.000, n=125, Accuracy: 90.11%\n",
      "Thresh=0.000, n=125, Accuracy: 90.11%\n",
      "Thresh=0.000, n=125, Accuracy: 90.11%\n",
      "Thresh=0.000, n=125, Accuracy: 90.11%\n",
      "Thresh=0.000, n=125, Accuracy: 90.11%\n",
      "Thresh=0.000, n=125, Accuracy: 90.11%\n",
      "Thresh=0.000, n=125, Accuracy: 90.11%\n",
      "Thresh=0.000, n=125, Accuracy: 90.11%\n",
      "Thresh=0.000, n=125, Accuracy: 90.11%\n",
      "Thresh=0.000, n=125, Accuracy: 90.11%\n",
      "Thresh=0.000, n=125, Accuracy: 90.11%\n",
      "Thresh=0.000, n=125, Accuracy: 90.11%\n",
      "Thresh=0.000, n=125, Accuracy: 90.11%\n",
      "Thresh=0.000, n=125, Accuracy: 90.11%\n",
      "Thresh=0.000, n=125, Accuracy: 90.11%\n",
      "Thresh=0.000, n=125, Accuracy: 90.11%\n",
      "Thresh=0.000, n=125, Accuracy: 90.11%\n",
      "Thresh=0.000, n=125, Accuracy: 90.11%\n",
      "Thresh=0.000, n=125, Accuracy: 90.11%\n",
      "Thresh=0.000, n=125, Accuracy: 90.11%\n",
      "Thresh=0.000, n=125, Accuracy: 90.11%\n",
      "Thresh=0.000, n=125, Accuracy: 90.11%\n",
      "Thresh=0.000, n=125, Accuracy: 90.11%\n",
      "Thresh=0.000, n=125, Accuracy: 90.11%\n",
      "Thresh=0.000, n=125, Accuracy: 90.11%\n",
      "Thresh=0.000, n=125, Accuracy: 90.11%\n",
      "Thresh=0.000, n=125, Accuracy: 90.11%\n",
      "Thresh=0.000, n=125, Accuracy: 90.11%\n",
      "Thresh=0.000, n=125, Accuracy: 90.11%\n",
      "Thresh=0.000, n=125, Accuracy: 90.11%\n",
      "Thresh=0.000, n=125, Accuracy: 90.11%\n",
      "Thresh=0.000, n=125, Accuracy: 90.11%\n",
      "Thresh=0.000, n=125, Accuracy: 90.11%\n",
      "Thresh=0.000, n=125, Accuracy: 90.11%\n",
      "Thresh=0.000, n=125, Accuracy: 90.11%\n",
      "Thresh=0.000, n=125, Accuracy: 90.11%\n",
      "Thresh=0.000, n=125, Accuracy: 90.11%\n",
      "Thresh=0.002, n=81, Accuracy: 90.11%\n",
      "Thresh=0.002, n=81, Accuracy: 90.11%\n",
      "Thresh=0.002, n=81, Accuracy: 90.11%\n",
      "Thresh=0.002, n=81, Accuracy: 90.11%\n",
      "Thresh=0.002, n=81, Accuracy: 90.11%\n",
      "Thresh=0.002, n=81, Accuracy: 90.11%\n",
      "Thresh=0.002, n=81, Accuracy: 90.11%\n",
      "Thresh=0.002, n=81, Accuracy: 90.11%\n",
      "Thresh=0.002, n=81, Accuracy: 90.11%\n",
      "Thresh=0.002, n=81, Accuracy: 90.11%\n",
      "Thresh=0.002, n=81, Accuracy: 90.11%\n",
      "Thresh=0.002, n=81, Accuracy: 90.11%\n",
      "Thresh=0.002, n=81, Accuracy: 90.11%\n",
      "Thresh=0.002, n=81, Accuracy: 90.11%\n",
      "Thresh=0.003, n=67, Accuracy: 90.06%\n",
      "Thresh=0.003, n=67, Accuracy: 90.06%\n",
      "Thresh=0.003, n=67, Accuracy: 90.06%\n",
      "Thresh=0.003, n=67, Accuracy: 90.06%\n",
      "Thresh=0.003, n=67, Accuracy: 90.06%\n",
      "Thresh=0.003, n=67, Accuracy: 90.06%\n",
      "Thresh=0.003, n=67, Accuracy: 90.06%\n",
      "Thresh=0.003, n=67, Accuracy: 90.06%\n",
      "Thresh=0.003, n=67, Accuracy: 90.06%\n",
      "Thresh=0.003, n=67, Accuracy: 90.06%\n",
      "Thresh=0.003, n=67, Accuracy: 90.06%\n",
      "Thresh=0.005, n=56, Accuracy: 90.08%\n",
      "Thresh=0.005, n=56, Accuracy: 90.08%\n",
      "Thresh=0.005, n=56, Accuracy: 90.08%\n",
      "Thresh=0.005, n=56, Accuracy: 90.08%\n",
      "Thresh=0.005, n=56, Accuracy: 90.08%\n",
      "Thresh=0.005, n=56, Accuracy: 90.08%\n",
      "Thresh=0.005, n=56, Accuracy: 90.08%\n",
      "Thresh=0.005, n=56, Accuracy: 90.08%\n",
      "Thresh=0.006, n=48, Accuracy: 90.07%\n",
      "Thresh=0.006, n=48, Accuracy: 90.07%\n",
      "Thresh=0.006, n=48, Accuracy: 90.07%\n",
      "Thresh=0.006, n=48, Accuracy: 90.07%\n",
      "Thresh=0.006, n=48, Accuracy: 90.07%\n",
      "Thresh=0.006, n=48, Accuracy: 90.07%\n",
      "Thresh=0.008, n=42, Accuracy: 90.09%\n",
      "Thresh=0.008, n=42, Accuracy: 90.09%\n",
      "Thresh=0.008, n=42, Accuracy: 90.09%\n",
      "Thresh=0.008, n=42, Accuracy: 90.09%\n",
      "Thresh=0.008, n=42, Accuracy: 90.09%\n",
      "Thresh=0.008, n=42, Accuracy: 90.09%\n",
      "Thresh=0.008, n=42, Accuracy: 90.09%\n",
      "Thresh=0.009, n=35, Accuracy: 90.17%\n",
      "Thresh=0.009, n=35, Accuracy: 90.17%\n",
      "Thresh=0.009, n=35, Accuracy: 90.17%\n",
      "Thresh=0.009, n=35, Accuracy: 90.17%\n",
      "Thresh=0.009, n=35, Accuracy: 90.17%\n",
      "Thresh=0.011, n=30, Accuracy: 90.11%\n",
      "Thresh=0.011, n=30, Accuracy: 90.11%\n",
      "Thresh=0.012, n=28, Accuracy: 90.15%\n",
      "Thresh=0.012, n=28, Accuracy: 90.15%\n",
      "Thresh=0.012, n=28, Accuracy: 90.15%\n",
      "Thresh=0.014, n=25, Accuracy: 90.12%\n",
      "Thresh=0.014, n=25, Accuracy: 90.12%\n",
      "Thresh=0.014, n=25, Accuracy: 90.12%\n",
      "Thresh=0.014, n=25, Accuracy: 90.12%\n",
      "Thresh=0.015, n=21, Accuracy: 90.11%\n",
      "Thresh=0.015, n=21, Accuracy: 90.11%\n",
      "Thresh=0.017, n=19, Accuracy: 89.99%\n",
      "Thresh=0.017, n=19, Accuracy: 89.99%\n",
      "Thresh=0.017, n=19, Accuracy: 89.99%\n",
      "Thresh=0.018, n=16, Accuracy: 90.04%\n",
      "Thresh=0.020, n=15, Accuracy: 90.04%\n",
      "Thresh=0.021, n=14, Accuracy: 90.04%\n",
      "Thresh=0.021, n=14, Accuracy: 90.04%\n",
      "Thresh=0.024, n=12, Accuracy: 90.04%\n",
      "Thresh=0.026, n=11, Accuracy: 90.02%\n",
      "Thresh=0.030, n=10, Accuracy: 89.48%\n",
      "Thresh=0.032, n=9, Accuracy: 89.48%\n",
      "Thresh=0.033, n=8, Accuracy: 88.55%\n",
      "Thresh=0.041, n=7, Accuracy: 88.58%\n",
      "Thresh=0.041, n=7, Accuracy: 88.58%\n",
      "Thresh=0.042, n=5, Accuracy: 87.68%\n",
      "Thresh=0.047, n=4, Accuracy: 87.79%\n",
      "Thresh=0.054, n=3, Accuracy: 87.13%\n",
      "Thresh=0.054, n=3, Accuracy: 87.13%\n",
      "Thresh=0.080, n=1, Accuracy: 85.48%\n"
     ]
    }
   ],
   "source": [
    "for thresh in thresholds:\n",
    "    selection = SelectFromModel(model, threshold=thresh, prefit=True)\n",
    "    select_X_train = selection.transform(X_train)\n",
    "    selection_model = XGBClassifier(random_state=0)\n",
    "    selection_model.fit(select_X_train, y_train)\n",
    "    select_X_test = selection.transform(X_test)\n",
    "    y_pred = selection_model.predict(select_X_test)\n",
    "    predictions = [round(value) for value in y_pred]\n",
    "    accuracy = accuracy_score(y_test, predictions)\n",
    "    print(\"Thresh=%.3f, n=%d, Accuracy: %.2f%%\" % (thresh, select_X_train.shape[1], accuracy*100.0))"
   ]
  },
  {
   "cell_type": "code",
   "execution_count": 55,
   "metadata": {
    "scrolled": true
   },
   "outputs": [],
   "source": [
    "# select features using threshold\n",
    "selection = SelectFromModel(model, threshold=0.009, prefit=True)\n",
    "# selection = SelectFromModel(model, threshold=0.012, prefit=True)\n",
    "select_X_train = selection.transform(X_train)\n",
    "# train model\n",
    "selection_model = XGBClassifier(random_state=0)\n",
    "selection_model.fit(select_X_train, y_train)\n",
    "# eval model\n",
    "select_X_test = selection.transform(X_test)\n",
    "y_pred = selection_model.predict(select_X_test)\n",
    "\n",
    "selection_model = selection.get_support()\n",
    "embeded_rf_feature = X.loc[:,selection_model].columns.tolist()"
   ]
  },
  {
   "cell_type": "code",
   "execution_count": 56,
   "metadata": {},
   "outputs": [
    {
     "data": {
      "text/plain": [
       "['a_href_.aspx',\n",
       " 'a_href_.com',\n",
       " 'a_href_http',\n",
       " 'a_href_https',\n",
       " 'b_count',\n",
       " 'br_count',\n",
       " 'center_count',\n",
       " 'div_count',\n",
       " 'form_action_http',\n",
       " 'form_action_out_of_domain',\n",
       " 'h1_count',\n",
       " 'iframe_src_https',\n",
       " 'img_src_.jpg',\n",
       " 'input_count',\n",
       " 'li_count',\n",
       " 'link_href_.css',\n",
       " 'link_href_0',\n",
       " 'link_href_http',\n",
       " 'link_href_out_of_domain',\n",
       " 'link_rel_shortlink',\n",
       " 'link_type_application/rsd+xml',\n",
       " 'link_type_application/rss+xml',\n",
       " 'link_type_text/css',\n",
       " 'meta_count',\n",
       " 'p_count',\n",
       " 'script_async_true',\n",
       " 'script_charset_UTF-8',\n",
       " 'script_defer_true',\n",
       " 'script_src_.js',\n",
       " 'script_src_out_of_domain',\n",
       " 'script_type_text/javascript',\n",
       " 'section_count',\n",
       " 'span_count',\n",
       " 'strong_count',\n",
       " 'title_count',\n",
       " 'Target']"
      ]
     },
     "execution_count": 56,
     "metadata": {},
     "output_type": "execute_result"
    }
   ],
   "source": [
    "embeded_rf_feature.append('Target')\n",
    "embeded_rf_feature"
   ]
  },
  {
   "cell_type": "markdown",
   "metadata": {},
   "source": [
    "### <a id='1' style=\"text-decoration : none; color : #000000;\"> 2. Initial Models</a>"
   ]
  },
  {
   "cell_type": "code",
   "execution_count": 57,
   "metadata": {},
   "outputs": [],
   "source": [
    "fin_col=embeded_rf_feature"
   ]
  },
  {
   "cell_type": "code",
   "execution_count": 58,
   "metadata": {},
   "outputs": [],
   "source": [
    "df_sel=df_sel[fin_col]"
   ]
  },
  {
   "cell_type": "code",
   "execution_count": 60,
   "metadata": {},
   "outputs": [],
   "source": [
    "train=df_sel.iloc[:34793,:]\n",
    "train_X=train.iloc[:,train.columns!='Target'].values\n",
    "train_Y=train.Target.values\n",
    "\n",
    "scaler=StandardScaler()\n",
    "scaled_X_train=scaler.fit_transform(train_X)\n",
    "\n",
    "test=df_sel[fin_col].iloc[34793:,:]\n",
    "test_X=test.iloc[:,test.columns!='Target'].values\n",
    "test_Y=test.Target.values\n",
    "scaled_X_test=scaler.transform(test_X)"
   ]
  },
  {
   "cell_type": "code",
   "execution_count": 61,
   "metadata": {},
   "outputs": [],
   "source": [
    "columns=fin_col\n",
    "columns.remove('Target')"
   ]
  },
  {
   "cell_type": "code",
   "execution_count": 62,
   "metadata": {
    "scrolled": false
   },
   "outputs": [
    {
     "name": "stdout",
     "output_type": "stream",
     "text": [
      "\u001b[1mK-Nearest Neighbors\u001b[0m\n",
      "Accuracy of the model for training data is: 0.9087747535423792\n",
      "Confusion Matrix for training data is:\n"
     ]
    },
    {
     "data": {
      "text/plain": [
       "Predicted  False  True  __all__\n",
       "Actual                         \n",
       "False      27004  2687    29691\n",
       "True         487  4615     5102\n",
       "__all__    27491  7302    34793"
      ]
     },
     "metadata": {},
     "output_type": "display_data"
    },
    {
     "name": "stdout",
     "output_type": "stream",
     "text": [
      "Accuracy of the model for test data is: 0.9021614164175673\n",
      "Confusion Matrix for test data is:\n"
     ]
    },
    {
     "data": {
      "text/plain": [
       "Predicted  False  True  __all__\n",
       "Actual                         \n",
       "False       6706   717     7423\n",
       "True         134  1141     1275\n",
       "__all__     6840  1858     8698"
      ]
     },
     "metadata": {},
     "output_type": "display_data"
    },
    {
     "name": "stdout",
     "output_type": "stream",
     "text": [
      "\n",
      "\n",
      "\u001b[1mLogistic Regression\u001b[0m\n",
      "Accuracy of the model for training data is: 0.889259333774035\n",
      "Confusion Matrix for training data is:\n"
     ]
    },
    {
     "data": {
      "text/plain": [
       "Predicted  False  True  __all__\n",
       "Actual                         \n",
       "False      27012  2679    29691\n",
       "True        1174  3928     5102\n",
       "__all__    28186  6607    34793"
      ]
     },
     "metadata": {},
     "output_type": "display_data"
    },
    {
     "name": "stdout",
     "output_type": "stream",
     "text": [
      "Accuracy of the model for test data is: 0.8831915382846631\n",
      "Confusion Matrix for test data is:\n"
     ]
    },
    {
     "data": {
      "text/plain": [
       "Predicted  False  True  __all__\n",
       "Actual                         \n",
       "False       6712   711     7423\n",
       "True         305   970     1275\n",
       "__all__     7017  1681     8698"
      ]
     },
     "metadata": {},
     "output_type": "display_data"
    },
    {
     "name": "stdout",
     "output_type": "stream",
     "text": [
      "\n",
      "\n",
      "\u001b[1mRandomForest Classifier\u001b[0m\n",
      "Accuracy of the model for training data is: 0.9188917310953353\n",
      "Confusion Matrix for training data is:\n"
     ]
    },
    {
     "data": {
      "text/plain": [
       "Predicted  False  True  __all__\n",
       "Actual                         \n",
       "False      27088  2603    29691\n",
       "True         219  4883     5102\n",
       "__all__    27307  7486    34793"
      ]
     },
     "metadata": {},
     "output_type": "display_data"
    },
    {
     "name": "stdout",
     "output_type": "stream",
     "text": [
      "Accuracy of the model for test data is: 0.9051506093354794\n",
      "Confusion Matrix for test data is:\n"
     ]
    },
    {
     "data": {
      "text/plain": [
       "Predicted  False  True  __all__\n",
       "Actual                         \n",
       "False       6728   695     7423\n",
       "True         130  1145     1275\n",
       "__all__     6858  1840     8698"
      ]
     },
     "metadata": {},
     "output_type": "display_data"
    },
    {
     "data": {
      "application/vnd.plotly.v1+json": {
       "config": {
        "linkText": "Export to plot.ly",
        "plotlyServerURL": "https://plot.ly",
        "showLink": true
       },
       "data": [
        {
         "marker": {
          "color": "rgb(158,202,225)",
          "line": {
           "color": "rgb(8,48,107)",
           "width": 1.5
          }
         },
         "opacity": 0.6,
         "orientation": "h",
         "text": [
          0.2268,
          0.1158,
          0.0902,
          0.0667,
          0.06,
          0.0518,
          0.0492,
          0.0476,
          0.0355,
          0.027,
          0.0254,
          0.0241,
          0.0204,
          0.0182,
          0.0152,
          0.0128,
          0.0121,
          0.012,
          0.01,
          0.0096,
          0.0082,
          0.008,
          0.0073,
          0.0069,
          0.0065,
          0.0065,
          0.0059,
          0.0052,
          0.0041,
          0.0029,
          0.0025,
          0.0019,
          0.0016,
          0.0016,
          0.0007
         ],
         "textposition": "outside",
         "type": "bar",
         "uid": "e170891b-4d66-4a4a-a23b-6fb23ff7d52b",
         "x": [
          0.22676571235166879,
          0.11579551237985675,
          0.09015831513553704,
          0.06673200955830841,
          0.06003192862412841,
          0.05179133855793859,
          0.04917036794242984,
          0.047588162967509826,
          0.03545538855033113,
          0.026982013442791792,
          0.02541566381310676,
          0.024114090156460037,
          0.02038340715326306,
          0.018239075421465824,
          0.015229247529473976,
          0.012783395048683218,
          0.01206264076355672,
          0.012011441400393192,
          0.009969620426171003,
          0.009573615731514445,
          0.008175893300344291,
          0.007985313047840455,
          0.007284364435758156,
          0.006878005434689263,
          0.006510573575011419,
          0.006502030409791859,
          0.005937824841831116,
          0.0052461985256025525,
          0.004050625219975875,
          0.002850564567217227,
          0.0024906730986982662,
          0.001861030922968352,
          0.0016328449317477406,
          0.001594035677726109,
          0.0007470750562085568
         ],
         "y": [
          "title_count",
          "script_async_true",
          "div_count",
          "script_src_.js",
          "script_src_out_of_domain",
          "a_href_https",
          "br_count",
          "li_count",
          "link_href_out_of_domain",
          "meta_count",
          "p_count",
          "span_count",
          "script_type_text/javascript",
          "a_href_http",
          "link_href_.css",
          "link_type_text/css",
          "strong_count",
          "link_href_http",
          "h1_count",
          "section_count",
          "iframe_src_https",
          "img_src_.jpg",
          "form_action_http",
          "b_count",
          "center_count",
          "input_count",
          "form_action_out_of_domain",
          "script_defer_true",
          "a_href_.com",
          "link_type_application/rss+xml",
          "link_href_0",
          "script_charset_UTF-8",
          "link_rel_shortlink",
          "link_type_application/rsd+xml",
          "a_href_.aspx"
         ]
        }
       ],
       "layout": {
        "autosize": false,
        "height": 1000,
        "width": 1000,
        "xaxis": {
         "tickfont": {
          "color": "black",
          "size": 12
         },
         "title": "Feature Importances"
        },
        "yaxis": {
         "automargin": true
        }
       }
      },
      "text/html": [
       "<div id=\"2900f487-f7d9-4cf6-8252-00df94b2b062\" style=\"height: 1000px; width: 1000px;\" class=\"plotly-graph-div\"></div><script type=\"text/javascript\">require([\"plotly\"], function(Plotly) { window.PLOTLYENV=window.PLOTLYENV || {};window.PLOTLYENV.BASE_URL=\"https://plot.ly\";Plotly.newPlot(\"2900f487-f7d9-4cf6-8252-00df94b2b062\", [{\"marker\": {\"color\": \"rgb(158,202,225)\", \"line\": {\"color\": \"rgb(8,48,107)\", \"width\": 1.5}}, \"opacity\": 0.6, \"orientation\": \"h\", \"text\": [0.2268, 0.1158, 0.0902, 0.0667, 0.06, 0.0518, 0.0492, 0.0476, 0.0355, 0.027, 0.0254, 0.0241, 0.0204, 0.0182, 0.0152, 0.0128, 0.0121, 0.012, 0.01, 0.0096, 0.0082, 0.008, 0.0073, 0.0069, 0.0065, 0.0065, 0.0059, 0.0052, 0.0041, 0.0029, 0.0025, 0.0019, 0.0016, 0.0016, 0.0007], \"textposition\": \"outside\", \"x\": [0.22676571235166879, 0.11579551237985675, 0.09015831513553704, 0.06673200955830841, 0.06003192862412841, 0.05179133855793859, 0.04917036794242984, 0.047588162967509826, 0.03545538855033113, 0.026982013442791792, 0.02541566381310676, 0.024114090156460037, 0.02038340715326306, 0.018239075421465824, 0.015229247529473976, 0.012783395048683218, 0.01206264076355672, 0.012011441400393192, 0.009969620426171003, 0.009573615731514445, 0.008175893300344291, 0.007985313047840455, 0.007284364435758156, 0.006878005434689263, 0.006510573575011419, 0.006502030409791859, 0.005937824841831116, 0.0052461985256025525, 0.004050625219975875, 0.002850564567217227, 0.0024906730986982662, 0.001861030922968352, 0.0016328449317477406, 0.001594035677726109, 0.0007470750562085568], \"y\": [\"title_count\", \"script_async_true\", \"div_count\", \"script_src_.js\", \"script_src_out_of_domain\", \"a_href_https\", \"br_count\", \"li_count\", \"link_href_out_of_domain\", \"meta_count\", \"p_count\", \"span_count\", \"script_type_text/javascript\", \"a_href_http\", \"link_href_.css\", \"link_type_text/css\", \"strong_count\", \"link_href_http\", \"h1_count\", \"section_count\", \"iframe_src_https\", \"img_src_.jpg\", \"form_action_http\", \"b_count\", \"center_count\", \"input_count\", \"form_action_out_of_domain\", \"script_defer_true\", \"a_href_.com\", \"link_type_application/rss+xml\", \"link_href_0\", \"script_charset_UTF-8\", \"link_rel_shortlink\", \"link_type_application/rsd+xml\", \"a_href_.aspx\"], \"type\": \"bar\", \"uid\": \"e170891b-4d66-4a4a-a23b-6fb23ff7d52b\"}], {\"autosize\": false, \"height\": 1000, \"width\": 1000, \"xaxis\": {\"tickfont\": {\"color\": \"black\", \"size\": 12}, \"title\": \"Feature Importances\"}, \"yaxis\": {\"automargin\": true}}, {\"showLink\": true, \"linkText\": \"Export to plot.ly\", \"plotlyServerURL\": \"https://plot.ly\"})});</script>"
      ],
      "text/vnd.plotly.v1+html": [
       "<div id=\"2900f487-f7d9-4cf6-8252-00df94b2b062\" style=\"height: 1000px; width: 1000px;\" class=\"plotly-graph-div\"></div><script type=\"text/javascript\">require([\"plotly\"], function(Plotly) { window.PLOTLYENV=window.PLOTLYENV || {};window.PLOTLYENV.BASE_URL=\"https://plot.ly\";Plotly.newPlot(\"2900f487-f7d9-4cf6-8252-00df94b2b062\", [{\"marker\": {\"color\": \"rgb(158,202,225)\", \"line\": {\"color\": \"rgb(8,48,107)\", \"width\": 1.5}}, \"opacity\": 0.6, \"orientation\": \"h\", \"text\": [0.2268, 0.1158, 0.0902, 0.0667, 0.06, 0.0518, 0.0492, 0.0476, 0.0355, 0.027, 0.0254, 0.0241, 0.0204, 0.0182, 0.0152, 0.0128, 0.0121, 0.012, 0.01, 0.0096, 0.0082, 0.008, 0.0073, 0.0069, 0.0065, 0.0065, 0.0059, 0.0052, 0.0041, 0.0029, 0.0025, 0.0019, 0.0016, 0.0016, 0.0007], \"textposition\": \"outside\", \"x\": [0.22676571235166879, 0.11579551237985675, 0.09015831513553704, 0.06673200955830841, 0.06003192862412841, 0.05179133855793859, 0.04917036794242984, 0.047588162967509826, 0.03545538855033113, 0.026982013442791792, 0.02541566381310676, 0.024114090156460037, 0.02038340715326306, 0.018239075421465824, 0.015229247529473976, 0.012783395048683218, 0.01206264076355672, 0.012011441400393192, 0.009969620426171003, 0.009573615731514445, 0.008175893300344291, 0.007985313047840455, 0.007284364435758156, 0.006878005434689263, 0.006510573575011419, 0.006502030409791859, 0.005937824841831116, 0.0052461985256025525, 0.004050625219975875, 0.002850564567217227, 0.0024906730986982662, 0.001861030922968352, 0.0016328449317477406, 0.001594035677726109, 0.0007470750562085568], \"y\": [\"title_count\", \"script_async_true\", \"div_count\", \"script_src_.js\", \"script_src_out_of_domain\", \"a_href_https\", \"br_count\", \"li_count\", \"link_href_out_of_domain\", \"meta_count\", \"p_count\", \"span_count\", \"script_type_text/javascript\", \"a_href_http\", \"link_href_.css\", \"link_type_text/css\", \"strong_count\", \"link_href_http\", \"h1_count\", \"section_count\", \"iframe_src_https\", \"img_src_.jpg\", \"form_action_http\", \"b_count\", \"center_count\", \"input_count\", \"form_action_out_of_domain\", \"script_defer_true\", \"a_href_.com\", \"link_type_application/rss+xml\", \"link_href_0\", \"script_charset_UTF-8\", \"link_rel_shortlink\", \"link_type_application/rsd+xml\", \"a_href_.aspx\"], \"type\": \"bar\", \"uid\": \"e170891b-4d66-4a4a-a23b-6fb23ff7d52b\"}], {\"autosize\": false, \"height\": 1000, \"width\": 1000, \"xaxis\": {\"tickfont\": {\"color\": \"black\", \"size\": 12}, \"title\": \"Feature Importances\"}, \"yaxis\": {\"automargin\": true}}, {\"showLink\": true, \"linkText\": \"Export to plot.ly\", \"plotlyServerURL\": \"https://plot.ly\"})});</script>"
      ]
     },
     "metadata": {},
     "output_type": "display_data"
    },
    {
     "name": "stdout",
     "output_type": "stream",
     "text": [
      "\n",
      "\n",
      "\u001b[1mAdaoost Classifier\u001b[0m\n",
      "Accuracy of the model for training data is: 0.896042307360676\n",
      "Confusion Matrix for training data is:\n"
     ]
    },
    {
     "data": {
      "text/plain": [
       "Predicted  False  True  __all__\n",
       "Actual                         \n",
       "False      26857  2834    29691\n",
       "True         783  4319     5102\n",
       "__all__    27640  7153    34793"
      ]
     },
     "metadata": {},
     "output_type": "display_data"
    },
    {
     "name": "stdout",
     "output_type": "stream",
     "text": [
      "Accuracy of the model for test data is: 0.8906645205794436\n",
      "Confusion Matrix for test data is:\n"
     ]
    },
    {
     "data": {
      "text/plain": [
       "Predicted  False  True  __all__\n",
       "Actual                         \n",
       "False       6675   748     7423\n",
       "True         203  1072     1275\n",
       "__all__     6878  1820     8698"
      ]
     },
     "metadata": {},
     "output_type": "display_data"
    },
    {
     "data": {
      "application/vnd.plotly.v1+json": {
       "config": {
        "linkText": "Export to plot.ly",
        "plotlyServerURL": "https://plot.ly",
        "showLink": true
       },
       "data": [
        {
         "marker": {
          "color": "rgb(158,202,225)",
          "line": {
           "color": "rgb(8,48,107)",
           "width": 1.5
          }
         },
         "opacity": 0.6,
         "orientation": "h",
         "text": [
          0.1,
          0.08,
          0.08,
          0.08,
          0.08,
          0.06,
          0.04,
          0.04,
          0.04,
          0.04,
          0.04,
          0.04,
          0.02,
          0.02,
          0.02,
          0.02,
          0.02,
          0.02,
          0.02,
          0.02,
          0.02,
          0.02,
          0.02,
          0.02,
          0.02,
          0.02,
          0,
          0,
          0,
          0,
          0,
          0,
          0,
          0,
          0
         ],
         "textposition": "outside",
         "type": "bar",
         "uid": "c6bec826-1c04-49b0-a993-c80200ca6776",
         "x": [
          0.1,
          0.08,
          0.08,
          0.08,
          0.08,
          0.06,
          0.04,
          0.04,
          0.04,
          0.04,
          0.04,
          0.04,
          0.02,
          0.02,
          0.02,
          0.02,
          0.02,
          0.02,
          0.02,
          0.02,
          0.02,
          0.02,
          0.02,
          0.02,
          0.02,
          0.02,
          0,
          0,
          0,
          0,
          0,
          0,
          0,
          0,
          0
         ],
         "y": [
          "title_count",
          "a_href_https",
          "script_async_true",
          "link_href_out_of_domain",
          "li_count",
          "a_href_http",
          "img_src_.jpg",
          "script_defer_true",
          "p_count",
          "link_type_text/css",
          "a_href_.aspx",
          "br_count",
          "meta_count",
          "center_count",
          "strong_count",
          "span_count",
          "section_count",
          "script_src_out_of_domain",
          "b_count",
          "script_charset_UTF-8",
          "link_href_http",
          "link_rel_shortlink",
          "form_action_http",
          "a_href_.com",
          "link_href_0",
          "link_href_.css",
          "link_type_application/rss+xml",
          "div_count",
          "h1_count",
          "link_type_application/rsd+xml",
          "script_src_.js",
          "script_type_text/javascript",
          "form_action_out_of_domain",
          "input_count",
          "iframe_src_https"
         ]
        }
       ],
       "layout": {
        "autosize": false,
        "height": 1000,
        "width": 1000,
        "xaxis": {
         "tickfont": {
          "color": "black",
          "size": 12
         },
         "title": "Feature Importances"
        },
        "yaxis": {
         "automargin": true
        }
       }
      },
      "text/html": [
       "<div id=\"1a34e77b-ee90-42b2-9295-c63d2838bb44\" style=\"height: 1000px; width: 1000px;\" class=\"plotly-graph-div\"></div><script type=\"text/javascript\">require([\"plotly\"], function(Plotly) { window.PLOTLYENV=window.PLOTLYENV || {};window.PLOTLYENV.BASE_URL=\"https://plot.ly\";Plotly.newPlot(\"1a34e77b-ee90-42b2-9295-c63d2838bb44\", [{\"marker\": {\"color\": \"rgb(158,202,225)\", \"line\": {\"color\": \"rgb(8,48,107)\", \"width\": 1.5}}, \"opacity\": 0.6, \"orientation\": \"h\", \"text\": [0.1, 0.08, 0.08, 0.08, 0.08, 0.06, 0.04, 0.04, 0.04, 0.04, 0.04, 0.04, 0.02, 0.02, 0.02, 0.02, 0.02, 0.02, 0.02, 0.02, 0.02, 0.02, 0.02, 0.02, 0.02, 0.02, 0.0, 0.0, 0.0, 0.0, 0.0, 0.0, 0.0, 0.0, 0.0], \"textposition\": \"outside\", \"x\": [0.1, 0.08, 0.08, 0.08, 0.08, 0.06, 0.04, 0.04, 0.04, 0.04, 0.04, 0.04, 0.02, 0.02, 0.02, 0.02, 0.02, 0.02, 0.02, 0.02, 0.02, 0.02, 0.02, 0.02, 0.02, 0.02, 0.0, 0.0, 0.0, 0.0, 0.0, 0.0, 0.0, 0.0, 0.0], \"y\": [\"title_count\", \"a_href_https\", \"script_async_true\", \"link_href_out_of_domain\", \"li_count\", \"a_href_http\", \"img_src_.jpg\", \"script_defer_true\", \"p_count\", \"link_type_text/css\", \"a_href_.aspx\", \"br_count\", \"meta_count\", \"center_count\", \"strong_count\", \"span_count\", \"section_count\", \"script_src_out_of_domain\", \"b_count\", \"script_charset_UTF-8\", \"link_href_http\", \"link_rel_shortlink\", \"form_action_http\", \"a_href_.com\", \"link_href_0\", \"link_href_.css\", \"link_type_application/rss+xml\", \"div_count\", \"h1_count\", \"link_type_application/rsd+xml\", \"script_src_.js\", \"script_type_text/javascript\", \"form_action_out_of_domain\", \"input_count\", \"iframe_src_https\"], \"type\": \"bar\", \"uid\": \"c6bec826-1c04-49b0-a993-c80200ca6776\"}], {\"autosize\": false, \"height\": 1000, \"width\": 1000, \"xaxis\": {\"tickfont\": {\"color\": \"black\", \"size\": 12}, \"title\": \"Feature Importances\"}, \"yaxis\": {\"automargin\": true}}, {\"showLink\": true, \"linkText\": \"Export to plot.ly\", \"plotlyServerURL\": \"https://plot.ly\"})});</script>"
      ],
      "text/vnd.plotly.v1+html": [
       "<div id=\"1a34e77b-ee90-42b2-9295-c63d2838bb44\" style=\"height: 1000px; width: 1000px;\" class=\"plotly-graph-div\"></div><script type=\"text/javascript\">require([\"plotly\"], function(Plotly) { window.PLOTLYENV=window.PLOTLYENV || {};window.PLOTLYENV.BASE_URL=\"https://plot.ly\";Plotly.newPlot(\"1a34e77b-ee90-42b2-9295-c63d2838bb44\", [{\"marker\": {\"color\": \"rgb(158,202,225)\", \"line\": {\"color\": \"rgb(8,48,107)\", \"width\": 1.5}}, \"opacity\": 0.6, \"orientation\": \"h\", \"text\": [0.1, 0.08, 0.08, 0.08, 0.08, 0.06, 0.04, 0.04, 0.04, 0.04, 0.04, 0.04, 0.02, 0.02, 0.02, 0.02, 0.02, 0.02, 0.02, 0.02, 0.02, 0.02, 0.02, 0.02, 0.02, 0.02, 0.0, 0.0, 0.0, 0.0, 0.0, 0.0, 0.0, 0.0, 0.0], \"textposition\": \"outside\", \"x\": [0.1, 0.08, 0.08, 0.08, 0.08, 0.06, 0.04, 0.04, 0.04, 0.04, 0.04, 0.04, 0.02, 0.02, 0.02, 0.02, 0.02, 0.02, 0.02, 0.02, 0.02, 0.02, 0.02, 0.02, 0.02, 0.02, 0.0, 0.0, 0.0, 0.0, 0.0, 0.0, 0.0, 0.0, 0.0], \"y\": [\"title_count\", \"a_href_https\", \"script_async_true\", \"link_href_out_of_domain\", \"li_count\", \"a_href_http\", \"img_src_.jpg\", \"script_defer_true\", \"p_count\", \"link_type_text/css\", \"a_href_.aspx\", \"br_count\", \"meta_count\", \"center_count\", \"strong_count\", \"span_count\", \"section_count\", \"script_src_out_of_domain\", \"b_count\", \"script_charset_UTF-8\", \"link_href_http\", \"link_rel_shortlink\", \"form_action_http\", \"a_href_.com\", \"link_href_0\", \"link_href_.css\", \"link_type_application/rss+xml\", \"div_count\", \"h1_count\", \"link_type_application/rsd+xml\", \"script_src_.js\", \"script_type_text/javascript\", \"form_action_out_of_domain\", \"input_count\", \"iframe_src_https\"], \"type\": \"bar\", \"uid\": \"c6bec826-1c04-49b0-a993-c80200ca6776\"}], {\"autosize\": false, \"height\": 1000, \"width\": 1000, \"xaxis\": {\"tickfont\": {\"color\": \"black\", \"size\": 12}, \"title\": \"Feature Importances\"}, \"yaxis\": {\"automargin\": true}}, {\"showLink\": true, \"linkText\": \"Export to plot.ly\", \"plotlyServerURL\": \"https://plot.ly\"})});</script>"
      ]
     },
     "metadata": {},
     "output_type": "display_data"
    },
    {
     "name": "stdout",
     "output_type": "stream",
     "text": [
      "\n",
      "\n",
      "\u001b[1mGradientBoosting Classifier\u001b[0m\n",
      "Accuracy of the model for training data is: 0.9044635415169718\n",
      "Confusion Matrix for training data is:\n"
     ]
    },
    {
     "data": {
      "text/plain": [
       "Predicted  False  True  __all__\n",
       "Actual                         \n",
       "False      27068  2623    29691\n",
       "True         701  4401     5102\n",
       "__all__    27769  7024    34793"
      ]
     },
     "metadata": {},
     "output_type": "display_data"
    },
    {
     "name": "stdout",
     "output_type": "stream",
     "text": [
      "Accuracy of the model for test data is: 0.8983674407909864\n",
      "Confusion Matrix for test data is:\n"
     ]
    },
    {
     "data": {
      "text/plain": [
       "Predicted  False  True  __all__\n",
       "Actual                         \n",
       "False       6725   698     7423\n",
       "True         186  1089     1275\n",
       "__all__     6911  1787     8698"
      ]
     },
     "metadata": {},
     "output_type": "display_data"
    },
    {
     "name": "stderr",
     "output_type": "stream",
     "text": [
      "distributed.utils - ERROR - \n",
      "Traceback (most recent call last):\n",
      "  File \"/nethomes/darshan/anaconda3/lib/python3.6/site-packages/distributed/utils.py\", line 713, in log_errors\n",
      "    yield\n",
      "  File \"/nethomes/darshan/anaconda3/lib/python3.6/site-packages/distributed/client.py\", line 1223, in _close\n",
      "    quiet_exceptions=(CancelledError,),\n",
      "  File \"/nethomes/darshan/anaconda3/lib/python3.6/site-packages/tornado/gen.py\", line 584, in with_timeout\n",
      "    chain_future(future_converted, result)\n",
      "  File \"/nethomes/darshan/anaconda3/lib/python3.6/site-packages/tornado/concurrent.py\", line 166, in chain_future\n",
      "    future_add_done_callback(a, copy)\n",
      "  File \"/nethomes/darshan/anaconda3/lib/python3.6/site-packages/tornado/concurrent.py\", line 262, in future_add_done_callback\n",
      "    callback(future)\n",
      "  File \"/nethomes/darshan/anaconda3/lib/python3.6/site-packages/tornado/concurrent.py\", line 160, in copy\n",
      "    elif a.exception() is not None:\n",
      "concurrent.futures._base.CancelledError\n",
      "Exception ignored in: <bound method Client.__del__ of <Client: not connected>>\n",
      "Traceback (most recent call last):\n",
      "  File \"/nethomes/darshan/anaconda3/lib/python3.6/site-packages/distributed/client.py\", line 1075, in __del__\n",
      "    self.close()\n",
      "  File \"/nethomes/darshan/anaconda3/lib/python3.6/site-packages/distributed/client.py\", line 1290, in close\n",
      "    sync(self.loop, self._close, fast=True)\n",
      "  File \"/nethomes/darshan/anaconda3/lib/python3.6/site-packages/distributed/utils.py\", line 331, in sync\n",
      "    six.reraise(*error[0])\n",
      "  File \"/nethomes/darshan/anaconda3/lib/python3.6/site-packages/six.py\", line 693, in reraise\n",
      "    raise value\n",
      "  File \"/nethomes/darshan/anaconda3/lib/python3.6/site-packages/distributed/utils.py\", line 316, in f\n",
      "    result[0] = yield future\n",
      "  File \"/nethomes/darshan/anaconda3/lib/python3.6/site-packages/tornado/gen.py\", line 729, in run\n",
      "    value = future.result()\n",
      "  File \"/nethomes/darshan/anaconda3/lib/python3.6/site-packages/tornado/gen.py\", line 209, in wrapper\n",
      "    yielded = next(result)\n",
      "  File \"/nethomes/darshan/anaconda3/lib/python3.6/site-packages/distributed/client.py\", line 1223, in _close\n",
      "    quiet_exceptions=(CancelledError,),\n",
      "  File \"/nethomes/darshan/anaconda3/lib/python3.6/site-packages/tornado/gen.py\", line 584, in with_timeout\n",
      "    chain_future(future_converted, result)\n",
      "  File \"/nethomes/darshan/anaconda3/lib/python3.6/site-packages/tornado/concurrent.py\", line 166, in chain_future\n",
      "    future_add_done_callback(a, copy)\n",
      "  File \"/nethomes/darshan/anaconda3/lib/python3.6/site-packages/tornado/concurrent.py\", line 262, in future_add_done_callback\n",
      "    callback(future)\n",
      "  File \"/nethomes/darshan/anaconda3/lib/python3.6/site-packages/tornado/concurrent.py\", line 160, in copy\n",
      "    elif a.exception() is not None:\n",
      "concurrent.futures._base.CancelledError: \n"
     ]
    },
    {
     "data": {
      "application/vnd.plotly.v1+json": {
       "config": {
        "linkText": "Export to plot.ly",
        "plotlyServerURL": "https://plot.ly",
        "showLink": true
       },
       "data": [
        {
         "marker": {
          "color": "rgb(158,202,225)",
          "line": {
           "color": "rgb(8,48,107)",
           "width": 1.5
          }
         },
         "opacity": 0.6,
         "orientation": "h",
         "text": [
          0.7074,
          0.0642,
          0.0552,
          0.045,
          0.0374,
          0.0191,
          0.0112,
          0.0076,
          0.0063,
          0.0047,
          0.0045,
          0.0041,
          0.0041,
          0.0039,
          0.0037,
          0.0032,
          0.003,
          0.0022,
          0.0019,
          0.0015,
          0.0011,
          0.0011,
          0.001,
          0.001,
          0.0009,
          0.0008,
          0.0007,
          0.0006,
          0.0005,
          0.0004,
          0.0004,
          0.0003,
          0.0003,
          0.0003,
          0
         ],
         "textposition": "outside",
         "type": "bar",
         "uid": "21db4c8f-0901-4307-bfdf-73b97261c426",
         "x": [
          0.707429381748865,
          0.0641861771182138,
          0.05519350895045185,
          0.045008593891260024,
          0.037436406201515504,
          0.019095983373022887,
          0.01117754606413527,
          0.007613288220393403,
          0.006340146303423381,
          0.0047327740506001685,
          0.004486342334276941,
          0.004092531191443135,
          0.004066950529891552,
          0.003935051083888767,
          0.0037146401477332336,
          0.0031987884352345174,
          0.0030210423719335975,
          0.0022270022766084636,
          0.0018986557520417541,
          0.0014763455316001441,
          0.0011390119818991955,
          0.0011136593910452855,
          0.0010474647837948679,
          0.0010277308666356347,
          0.0009048014960968414,
          0.0008051024735226491,
          0.0007491533304414285,
          0.0005912186374653221,
          0.0005203217669831284,
          0.00042782149433888785,
          0.0003729818472384827,
          0.0003379857389509681,
          0.0003229154097832863,
          0.00027830477524092495,
          3.03704300297644e-05
         ],
         "y": [
          "title_count",
          "link_href_out_of_domain",
          "div_count",
          "script_async_true",
          "meta_count",
          "section_count",
          "a_href_https",
          "link_type_text/css",
          "a_href_http",
          "form_action_http",
          "strong_count",
          "script_src_.js",
          "link_href_http",
          "p_count",
          "h1_count",
          "center_count",
          "li_count",
          "link_type_application/rss+xml",
          "script_defer_true",
          "script_type_text/javascript",
          "a_href_.com",
          "script_src_out_of_domain",
          "link_type_application/rsd+xml",
          "b_count",
          "form_action_out_of_domain",
          "br_count",
          "script_charset_UTF-8",
          "span_count",
          "link_rel_shortlink",
          "link_href_.css",
          "link_href_0",
          "input_count",
          "img_src_.jpg",
          "iframe_src_https",
          "a_href_.aspx"
         ]
        }
       ],
       "layout": {
        "autosize": false,
        "height": 1000,
        "width": 1000,
        "xaxis": {
         "tickfont": {
          "color": "black",
          "size": 12
         },
         "title": "Feature Importances"
        },
        "yaxis": {
         "automargin": true
        }
       }
      },
      "text/html": [
       "<div id=\"d6e5eb0a-e603-4621-a464-43f6c3e02c8d\" style=\"height: 1000px; width: 1000px;\" class=\"plotly-graph-div\"></div><script type=\"text/javascript\">require([\"plotly\"], function(Plotly) { window.PLOTLYENV=window.PLOTLYENV || {};window.PLOTLYENV.BASE_URL=\"https://plot.ly\";Plotly.newPlot(\"d6e5eb0a-e603-4621-a464-43f6c3e02c8d\", [{\"marker\": {\"color\": \"rgb(158,202,225)\", \"line\": {\"color\": \"rgb(8,48,107)\", \"width\": 1.5}}, \"opacity\": 0.6, \"orientation\": \"h\", \"text\": [0.7074, 0.0642, 0.0552, 0.045, 0.0374, 0.0191, 0.0112, 0.0076, 0.0063, 0.0047, 0.0045, 0.0041, 0.0041, 0.0039, 0.0037, 0.0032, 0.003, 0.0022, 0.0019, 0.0015, 0.0011, 0.0011, 0.001, 0.001, 0.0009, 0.0008, 0.0007, 0.0006, 0.0005, 0.0004, 0.0004, 0.0003, 0.0003, 0.0003, 0.0], \"textposition\": \"outside\", \"x\": [0.707429381748865, 0.0641861771182138, 0.05519350895045185, 0.045008593891260024, 0.037436406201515504, 0.019095983373022887, 0.01117754606413527, 0.007613288220393403, 0.006340146303423381, 0.0047327740506001685, 0.004486342334276941, 0.004092531191443135, 0.004066950529891552, 0.003935051083888767, 0.0037146401477332336, 0.0031987884352345174, 0.0030210423719335975, 0.0022270022766084636, 0.0018986557520417541, 0.0014763455316001441, 0.0011390119818991955, 0.0011136593910452855, 0.0010474647837948679, 0.0010277308666356347, 0.0009048014960968414, 0.0008051024735226491, 0.0007491533304414285, 0.0005912186374653221, 0.0005203217669831284, 0.00042782149433888785, 0.0003729818472384827, 0.0003379857389509681, 0.0003229154097832863, 0.00027830477524092495, 3.03704300297644e-05], \"y\": [\"title_count\", \"link_href_out_of_domain\", \"div_count\", \"script_async_true\", \"meta_count\", \"section_count\", \"a_href_https\", \"link_type_text/css\", \"a_href_http\", \"form_action_http\", \"strong_count\", \"script_src_.js\", \"link_href_http\", \"p_count\", \"h1_count\", \"center_count\", \"li_count\", \"link_type_application/rss+xml\", \"script_defer_true\", \"script_type_text/javascript\", \"a_href_.com\", \"script_src_out_of_domain\", \"link_type_application/rsd+xml\", \"b_count\", \"form_action_out_of_domain\", \"br_count\", \"script_charset_UTF-8\", \"span_count\", \"link_rel_shortlink\", \"link_href_.css\", \"link_href_0\", \"input_count\", \"img_src_.jpg\", \"iframe_src_https\", \"a_href_.aspx\"], \"type\": \"bar\", \"uid\": \"21db4c8f-0901-4307-bfdf-73b97261c426\"}], {\"autosize\": false, \"height\": 1000, \"width\": 1000, \"xaxis\": {\"tickfont\": {\"color\": \"black\", \"size\": 12}, \"title\": \"Feature Importances\"}, \"yaxis\": {\"automargin\": true}}, {\"showLink\": true, \"linkText\": \"Export to plot.ly\", \"plotlyServerURL\": \"https://plot.ly\"})});</script>"
      ],
      "text/vnd.plotly.v1+html": [
       "<div id=\"d6e5eb0a-e603-4621-a464-43f6c3e02c8d\" style=\"height: 1000px; width: 1000px;\" class=\"plotly-graph-div\"></div><script type=\"text/javascript\">require([\"plotly\"], function(Plotly) { window.PLOTLYENV=window.PLOTLYENV || {};window.PLOTLYENV.BASE_URL=\"https://plot.ly\";Plotly.newPlot(\"d6e5eb0a-e603-4621-a464-43f6c3e02c8d\", [{\"marker\": {\"color\": \"rgb(158,202,225)\", \"line\": {\"color\": \"rgb(8,48,107)\", \"width\": 1.5}}, \"opacity\": 0.6, \"orientation\": \"h\", \"text\": [0.7074, 0.0642, 0.0552, 0.045, 0.0374, 0.0191, 0.0112, 0.0076, 0.0063, 0.0047, 0.0045, 0.0041, 0.0041, 0.0039, 0.0037, 0.0032, 0.003, 0.0022, 0.0019, 0.0015, 0.0011, 0.0011, 0.001, 0.001, 0.0009, 0.0008, 0.0007, 0.0006, 0.0005, 0.0004, 0.0004, 0.0003, 0.0003, 0.0003, 0.0], \"textposition\": \"outside\", \"x\": [0.707429381748865, 0.0641861771182138, 0.05519350895045185, 0.045008593891260024, 0.037436406201515504, 0.019095983373022887, 0.01117754606413527, 0.007613288220393403, 0.006340146303423381, 0.0047327740506001685, 0.004486342334276941, 0.004092531191443135, 0.004066950529891552, 0.003935051083888767, 0.0037146401477332336, 0.0031987884352345174, 0.0030210423719335975, 0.0022270022766084636, 0.0018986557520417541, 0.0014763455316001441, 0.0011390119818991955, 0.0011136593910452855, 0.0010474647837948679, 0.0010277308666356347, 0.0009048014960968414, 0.0008051024735226491, 0.0007491533304414285, 0.0005912186374653221, 0.0005203217669831284, 0.00042782149433888785, 0.0003729818472384827, 0.0003379857389509681, 0.0003229154097832863, 0.00027830477524092495, 3.03704300297644e-05], \"y\": [\"title_count\", \"link_href_out_of_domain\", \"div_count\", \"script_async_true\", \"meta_count\", \"section_count\", \"a_href_https\", \"link_type_text/css\", \"a_href_http\", \"form_action_http\", \"strong_count\", \"script_src_.js\", \"link_href_http\", \"p_count\", \"h1_count\", \"center_count\", \"li_count\", \"link_type_application/rss+xml\", \"script_defer_true\", \"script_type_text/javascript\", \"a_href_.com\", \"script_src_out_of_domain\", \"link_type_application/rsd+xml\", \"b_count\", \"form_action_out_of_domain\", \"br_count\", \"script_charset_UTF-8\", \"span_count\", \"link_rel_shortlink\", \"link_href_.css\", \"link_href_0\", \"input_count\", \"img_src_.jpg\", \"iframe_src_https\", \"a_href_.aspx\"], \"type\": \"bar\", \"uid\": \"21db4c8f-0901-4307-bfdf-73b97261c426\"}], {\"autosize\": false, \"height\": 1000, \"width\": 1000, \"xaxis\": {\"tickfont\": {\"color\": \"black\", \"size\": 12}, \"title\": \"Feature Importances\"}, \"yaxis\": {\"automargin\": true}}, {\"showLink\": true, \"linkText\": \"Export to plot.ly\", \"plotlyServerURL\": \"https://plot.ly\"})});</script>"
      ]
     },
     "metadata": {},
     "output_type": "display_data"
    },
    {
     "name": "stdout",
     "output_type": "stream",
     "text": [
      "\n",
      "\n",
      "\u001b[1mExtraTree Classifier\u001b[0m\n",
      "Accuracy of the model for training data is: 0.9209898542810335\n",
      "Confusion Matrix for training data is:\n"
     ]
    },
    {
     "data": {
      "text/plain": [
       "Predicted  False  True  __all__\n",
       "Actual                         \n",
       "False      27089  2602    29691\n",
       "True         147  4955     5102\n",
       "__all__    27236  7557    34793"
      ]
     },
     "metadata": {},
     "output_type": "display_data"
    },
    {
     "name": "stdout",
     "output_type": "stream",
     "text": [
      "Accuracy of the model for test data is: 0.9054955162106232\n",
      "Confusion Matrix for test data is:\n"
     ]
    },
    {
     "data": {
      "text/plain": [
       "Predicted  False  True  __all__\n",
       "Actual                         \n",
       "False       6727   696     7423\n",
       "True         126  1149     1275\n",
       "__all__     6853  1845     8698"
      ]
     },
     "metadata": {},
     "output_type": "display_data"
    },
    {
     "data": {
      "application/vnd.plotly.v1+json": {
       "config": {
        "linkText": "Export to plot.ly",
        "plotlyServerURL": "https://plot.ly",
        "showLink": true
       },
       "data": [
        {
         "marker": {
          "color": "rgb(158,202,225)",
          "line": {
           "color": "rgb(8,48,107)",
           "width": 1.5
          }
         },
         "opacity": 0.6,
         "orientation": "h",
         "text": [
          0.102,
          0.1005,
          0.0745,
          0.0612,
          0.0555,
          0.04,
          0.0389,
          0.0378,
          0.0364,
          0.0345,
          0.0323,
          0.0302,
          0.0285,
          0.0263,
          0.0263,
          0.024,
          0.0237,
          0.0237,
          0.0228,
          0.02,
          0.019,
          0.0188,
          0.0167,
          0.0163,
          0.0154,
          0.0134,
          0.0114,
          0.0107,
          0.0101,
          0.0081,
          0.0075,
          0.0056,
          0.0042,
          0.0028,
          0.001
         ],
         "textposition": "outside",
         "type": "bar",
         "uid": "21b9f2e2-4f26-4b5c-bc7c-c01deee979c0",
         "x": [
          0.10197443910456432,
          0.10054629401587382,
          0.07452773453353928,
          0.0612390476526139,
          0.05554128511550752,
          0.04000533744415509,
          0.03885062677019776,
          0.03782540821922788,
          0.03638086314873412,
          0.034502944008843905,
          0.03234016186803684,
          0.030161316853224283,
          0.02845241979951203,
          0.026305769576208077,
          0.0262633015515082,
          0.02403998052742075,
          0.02374428129388428,
          0.023682456280184692,
          0.02277028598478728,
          0.02004861195398947,
          0.019046223762478963,
          0.018755830489066268,
          0.01667458321648355,
          0.016302401387147586,
          0.015368881540570072,
          0.013389642583871163,
          0.011386984616203532,
          0.010652911326882727,
          0.010084096919128451,
          0.008136108093579227,
          0.007453678683504045,
          0.0055806512777090865,
          0.004233164612802489,
          0.002776435226768184,
          0.0009558405617911718
         ],
         "y": [
          "script_async_true",
          "script_src_out_of_domain",
          "link_type_text/css",
          "link_href_.css",
          "title_count",
          "img_src_.jpg",
          "script_type_text/javascript",
          "li_count",
          "a_href_http",
          "h1_count",
          "br_count",
          "p_count",
          "iframe_src_https",
          "a_href_https",
          "div_count",
          "form_action_out_of_domain",
          "meta_count",
          "script_src_.js",
          "link_href_http",
          "b_count",
          "link_href_out_of_domain",
          "form_action_http",
          "section_count",
          "span_count",
          "input_count",
          "link_href_0",
          "strong_count",
          "center_count",
          "script_defer_true",
          "link_type_application/rsd+xml",
          "script_charset_UTF-8",
          "a_href_.com",
          "link_type_application/rss+xml",
          "link_rel_shortlink",
          "a_href_.aspx"
         ]
        }
       ],
       "layout": {
        "autosize": false,
        "height": 1000,
        "width": 1000,
        "xaxis": {
         "tickfont": {
          "color": "black",
          "size": 12
         },
         "title": "Feature Importances"
        },
        "yaxis": {
         "automargin": true
        }
       }
      },
      "text/html": [
       "<div id=\"c2fc4379-00ed-4740-a4ec-fc02d17e2014\" style=\"height: 1000px; width: 1000px;\" class=\"plotly-graph-div\"></div><script type=\"text/javascript\">require([\"plotly\"], function(Plotly) { window.PLOTLYENV=window.PLOTLYENV || {};window.PLOTLYENV.BASE_URL=\"https://plot.ly\";Plotly.newPlot(\"c2fc4379-00ed-4740-a4ec-fc02d17e2014\", [{\"marker\": {\"color\": \"rgb(158,202,225)\", \"line\": {\"color\": \"rgb(8,48,107)\", \"width\": 1.5}}, \"opacity\": 0.6, \"orientation\": \"h\", \"text\": [0.102, 0.1005, 0.0745, 0.0612, 0.0555, 0.04, 0.0389, 0.0378, 0.0364, 0.0345, 0.0323, 0.0302, 0.0285, 0.0263, 0.0263, 0.024, 0.0237, 0.0237, 0.0228, 0.02, 0.019, 0.0188, 0.0167, 0.0163, 0.0154, 0.0134, 0.0114, 0.0107, 0.0101, 0.0081, 0.0075, 0.0056, 0.0042, 0.0028, 0.001], \"textposition\": \"outside\", \"x\": [0.10197443910456432, 0.10054629401587382, 0.07452773453353928, 0.0612390476526139, 0.05554128511550752, 0.04000533744415509, 0.03885062677019776, 0.03782540821922788, 0.03638086314873412, 0.034502944008843905, 0.03234016186803684, 0.030161316853224283, 0.02845241979951203, 0.026305769576208077, 0.0262633015515082, 0.02403998052742075, 0.02374428129388428, 0.023682456280184692, 0.02277028598478728, 0.02004861195398947, 0.019046223762478963, 0.018755830489066268, 0.01667458321648355, 0.016302401387147586, 0.015368881540570072, 0.013389642583871163, 0.011386984616203532, 0.010652911326882727, 0.010084096919128451, 0.008136108093579227, 0.007453678683504045, 0.0055806512777090865, 0.004233164612802489, 0.002776435226768184, 0.0009558405617911718], \"y\": [\"script_async_true\", \"script_src_out_of_domain\", \"link_type_text/css\", \"link_href_.css\", \"title_count\", \"img_src_.jpg\", \"script_type_text/javascript\", \"li_count\", \"a_href_http\", \"h1_count\", \"br_count\", \"p_count\", \"iframe_src_https\", \"a_href_https\", \"div_count\", \"form_action_out_of_domain\", \"meta_count\", \"script_src_.js\", \"link_href_http\", \"b_count\", \"link_href_out_of_domain\", \"form_action_http\", \"section_count\", \"span_count\", \"input_count\", \"link_href_0\", \"strong_count\", \"center_count\", \"script_defer_true\", \"link_type_application/rsd+xml\", \"script_charset_UTF-8\", \"a_href_.com\", \"link_type_application/rss+xml\", \"link_rel_shortlink\", \"a_href_.aspx\"], \"type\": \"bar\", \"uid\": \"21b9f2e2-4f26-4b5c-bc7c-c01deee979c0\"}], {\"autosize\": false, \"height\": 1000, \"width\": 1000, \"xaxis\": {\"tickfont\": {\"color\": \"black\", \"size\": 12}, \"title\": \"Feature Importances\"}, \"yaxis\": {\"automargin\": true}}, {\"showLink\": true, \"linkText\": \"Export to plot.ly\", \"plotlyServerURL\": \"https://plot.ly\"})});</script>"
      ],
      "text/vnd.plotly.v1+html": [
       "<div id=\"c2fc4379-00ed-4740-a4ec-fc02d17e2014\" style=\"height: 1000px; width: 1000px;\" class=\"plotly-graph-div\"></div><script type=\"text/javascript\">require([\"plotly\"], function(Plotly) { window.PLOTLYENV=window.PLOTLYENV || {};window.PLOTLYENV.BASE_URL=\"https://plot.ly\";Plotly.newPlot(\"c2fc4379-00ed-4740-a4ec-fc02d17e2014\", [{\"marker\": {\"color\": \"rgb(158,202,225)\", \"line\": {\"color\": \"rgb(8,48,107)\", \"width\": 1.5}}, \"opacity\": 0.6, \"orientation\": \"h\", \"text\": [0.102, 0.1005, 0.0745, 0.0612, 0.0555, 0.04, 0.0389, 0.0378, 0.0364, 0.0345, 0.0323, 0.0302, 0.0285, 0.0263, 0.0263, 0.024, 0.0237, 0.0237, 0.0228, 0.02, 0.019, 0.0188, 0.0167, 0.0163, 0.0154, 0.0134, 0.0114, 0.0107, 0.0101, 0.0081, 0.0075, 0.0056, 0.0042, 0.0028, 0.001], \"textposition\": \"outside\", \"x\": [0.10197443910456432, 0.10054629401587382, 0.07452773453353928, 0.0612390476526139, 0.05554128511550752, 0.04000533744415509, 0.03885062677019776, 0.03782540821922788, 0.03638086314873412, 0.034502944008843905, 0.03234016186803684, 0.030161316853224283, 0.02845241979951203, 0.026305769576208077, 0.0262633015515082, 0.02403998052742075, 0.02374428129388428, 0.023682456280184692, 0.02277028598478728, 0.02004861195398947, 0.019046223762478963, 0.018755830489066268, 0.01667458321648355, 0.016302401387147586, 0.015368881540570072, 0.013389642583871163, 0.011386984616203532, 0.010652911326882727, 0.010084096919128451, 0.008136108093579227, 0.007453678683504045, 0.0055806512777090865, 0.004233164612802489, 0.002776435226768184, 0.0009558405617911718], \"y\": [\"script_async_true\", \"script_src_out_of_domain\", \"link_type_text/css\", \"link_href_.css\", \"title_count\", \"img_src_.jpg\", \"script_type_text/javascript\", \"li_count\", \"a_href_http\", \"h1_count\", \"br_count\", \"p_count\", \"iframe_src_https\", \"a_href_https\", \"div_count\", \"form_action_out_of_domain\", \"meta_count\", \"script_src_.js\", \"link_href_http\", \"b_count\", \"link_href_out_of_domain\", \"form_action_http\", \"section_count\", \"span_count\", \"input_count\", \"link_href_0\", \"strong_count\", \"center_count\", \"script_defer_true\", \"link_type_application/rsd+xml\", \"script_charset_UTF-8\", \"a_href_.com\", \"link_type_application/rss+xml\", \"link_rel_shortlink\", \"a_href_.aspx\"], \"type\": \"bar\", \"uid\": \"21b9f2e2-4f26-4b5c-bc7c-c01deee979c0\"}], {\"autosize\": false, \"height\": 1000, \"width\": 1000, \"xaxis\": {\"tickfont\": {\"color\": \"black\", \"size\": 12}, \"title\": \"Feature Importances\"}, \"yaxis\": {\"automargin\": true}}, {\"showLink\": true, \"linkText\": \"Export to plot.ly\", \"plotlyServerURL\": \"https://plot.ly\"})});</script>"
      ]
     },
     "metadata": {},
     "output_type": "display_data"
    },
    {
     "name": "stdout",
     "output_type": "stream",
     "text": [
      "\n",
      "\n",
      "\u001b[1mBagging Classifier\u001b[0m\n",
      "Accuracy of the model for training data is: 0.9188917310953353\n",
      "Confusion Matrix for training data is:\n"
     ]
    },
    {
     "data": {
      "text/plain": [
       "Predicted  False  True  __all__\n",
       "Actual                         \n",
       "False      27085  2606    29691\n",
       "True         216  4886     5102\n",
       "__all__    27301  7492    34793"
      ]
     },
     "metadata": {},
     "output_type": "display_data"
    },
    {
     "name": "stdout",
     "output_type": "stream",
     "text": [
      "Accuracy of the model for test data is: 0.9043458266268107\n",
      "Confusion Matrix for test data is:\n"
     ]
    },
    {
     "data": {
      "text/plain": [
       "Predicted  False  True  __all__\n",
       "Actual                         \n",
       "False       6717   706     7423\n",
       "True         126  1149     1275\n",
       "__all__     6843  1855     8698"
      ]
     },
     "metadata": {},
     "output_type": "display_data"
    },
    {
     "name": "stdout",
     "output_type": "stream",
     "text": [
      "\n",
      "\n",
      "\u001b[1mNeural Network-1\u001b[0m\n",
      "The accuracy of the model on training data is: 0.9112465151036128\n"
     ]
    },
    {
     "data": {
      "text/plain": [
       "Predicted  False  True  __all__\n",
       "Actual                         \n",
       "False      26958  2733    29691\n",
       "True         355  4747     5102\n",
       "__all__    27313  7480    34793"
      ]
     },
     "metadata": {},
     "output_type": "display_data"
    },
    {
     "name": "stdout",
     "output_type": "stream",
     "text": [
      "The accuracy of the model on test data is: 0.895723154748218\n"
     ]
    },
    {
     "data": {
      "text/plain": [
       "Predicted  False  True  __all__\n",
       "Actual                         \n",
       "False       6660   763     7423\n",
       "True         144  1131     1275\n",
       "__all__     6804  1894     8698"
      ]
     },
     "metadata": {},
     "output_type": "display_data"
    },
    {
     "name": "stdout",
     "output_type": "stream",
     "text": [
      "\n",
      "\n"
     ]
    }
   ],
   "source": [
    "ind_columns=['KNeighborsClassifier','LogisticRegression','RandomForestClassifier','AdaBoostClassifier',\n",
    "             'GradientBoostingClassifier','ExtraTreeClassifier','BaggingClassifier','Neural Network-1']\n",
    "\n",
    "f=[KNN_model,Logistic_model,RandomForest,AdaBoost,GradientBoosting, ExtraTree,Bagging,DeepLearning1]\n",
    "\n",
    "## Table to store training and test measures\n",
    "table_80_50_train=pd.DataFrame(columns=['accuracy','TP','TN','FP','FN','FPR','FNR'])\n",
    "table_80_50_test=pd.DataFrame(columns=['accuracy','TP','TN','FP','FN','FPR','FNR','auc','MCC'])\n",
    "\n",
    "feat_imp=[None]*4\n",
    "j=0\n",
    "for i in range(0,8):\n",
    "    if i>=2 and i<=5:\n",
    "        model,cm_train,cm_test,acc_train,acc_test,roc_auc,feat_imp[j],mcc=f[i](scaled_X_train,train_Y,scaled_X_test,test_Y,columns)\n",
    "        j=j+1\n",
    "    else:\n",
    "        model,cm_train,cm_test,acc_train,acc_test,roc_auc,mcc=f[i](scaled_X_train,train_Y,scaled_X_test,test_Y)\n",
    "    table_80_50_train.loc[i]=   ([acc_train,cm_train.TP,cm_train.TN,cm_train.FP,cm_train.FN,cm_train.FPR,cm_train.FNR])\n",
    "    table_80_50_test.loc[i] =   ([acc_test ,cm_test.TP, cm_test.TN, cm_test.FP, cm_test.FN, cm_test.FPR, cm_test.FNR,roc_auc,mcc])\n",
    "    print(\"\\n\")"
   ]
  },
  {
   "cell_type": "markdown",
   "metadata": {},
   "source": [
    "### <a id='1.A' style=\"text-decoration : none; color : #000000;\"> A Results</a>"
   ]
  },
  {
   "cell_type": "code",
   "execution_count": 63,
   "metadata": {},
   "outputs": [
    {
     "data": {
      "application/vnd.plotly.v1+json": {
       "config": {
        "linkText": "Export to plot.ly",
        "plotlyServerURL": "https://plot.ly",
        "showLink": true
       },
       "data": [
        {
         "mode": "lines",
         "name": "KNN_model",
         "type": "scatter",
         "uid": "2ee12fc7-eb0f-4c22-8560-bb97a8754d0b",
         "x": [
          "accuracy",
          "FPR",
          "FNR",
          "auc"
         ],
         "y": [
          0.9021614164175673,
          0.09659167452512461,
          0.10509803921568628,
          0.8991551431295945
         ]
        },
        {
         "mode": "lines+markers",
         "name": "Logistic Regression",
         "type": "scatter",
         "uid": "081b3ce8-2b16-4aa5-8702-eea8d4fb1d1e",
         "x": [
          "accuracy",
          "FPR",
          "FNR",
          "auc"
         ],
         "y": [
          0.8831915382846631,
          0.0957833759935336,
          0.23921568627450981,
          0.8325004688659783
         ]
        },
        {
         "marker": {
          "symbol": "x"
         },
         "mode": "lines+markers",
         "name": "Random Forest",
         "type": "scatter",
         "uid": "d809693e-c83a-456c-8541-206f68b49c04",
         "x": [
          "accuracy",
          "FPR",
          "FNR",
          "auc"
         ],
         "y": [
          0.9051506093354794,
          0.09362791324262427,
          0.10196078431372549,
          0.9022056512218251
         ]
        },
        {
         "mode": "lines",
         "name": "Ada Boost",
         "type": "scatter",
         "uid": "574516b2-501d-4325-b0e5-2c7c816540cd",
         "x": [
          "accuracy",
          "FPR",
          "FNR",
          "auc"
         ],
         "y": [
          0.8906645205794436,
          0.10076788360501145,
          0.1592156862745098,
          0.8700082150602394
         ]
        },
        {
         "mode": "lines+markers",
         "name": "GradientBoosting",
         "type": "scatter",
         "uid": "83143344-5cf8-402c-8d6a-49abf988d6a0",
         "x": [
          "accuracy",
          "FPR",
          "FNR",
          "auc"
         ],
         "y": [
          0.8983674407909864,
          0.09403206250841978,
          0.14588235294117646,
          0.8800427922752018
         ]
        },
        {
         "marker": {
          "symbol": "x"
         },
         "mode": "lines+markers",
         "name": "ExtraTree Classifier",
         "type": "scatter",
         "uid": "97665048-6db6-4328-9621-f814eeaf0370",
         "x": [
          "accuracy",
          "FPR",
          "FNR",
          "auc"
         ],
         "y": [
          0.9054955162106232,
          0.0937626296645561,
          0.0988235294117647,
          0.9037069204618396
         ]
        },
        {
         "marker": {
          "symbol": "x"
         },
         "mode": "lines+markers",
         "name": "Bagging",
         "type": "scatter",
         "uid": "cf416521-11ef-4e8a-9d37-5be4dddb2601",
         "x": [
          "accuracy",
          "FPR",
          "FNR",
          "auc"
         ],
         "y": [
          0.9043458266268107,
          0.09510979388387444,
          0.0988235294117647,
          0.9030333383521805
         ]
        },
        {
         "marker": {
          "symbol": "x"
         },
         "mode": "lines+markers",
         "name": "Neural Network",
         "type": "scatter",
         "uid": "be69466d-0a4b-4b71-b795-9fe3dc912b4c",
         "x": [
          "accuracy",
          "FPR",
          "FNR",
          "auc"
         ],
         "y": [
          0.895723154748218,
          0.10278862993398895,
          0.11294117647058824,
          0.8921350967977114
         ]
        }
       ],
       "layout": {
        "title": "Result comparision for Features selected in Section 1",
        "yaxis": {
         "dtick": 0.05,
         "tick0": 0
        }
       }
      },
      "text/html": [
       "<div id=\"0cfb85ff-c960-4291-89ce-b3a9ac3a2de3\" style=\"height: 525px; width: 100%;\" class=\"plotly-graph-div\"></div><script type=\"text/javascript\">require([\"plotly\"], function(Plotly) { window.PLOTLYENV=window.PLOTLYENV || {};window.PLOTLYENV.BASE_URL=\"https://plot.ly\";Plotly.newPlot(\"0cfb85ff-c960-4291-89ce-b3a9ac3a2de3\", [{\"mode\": \"lines\", \"name\": \"KNN_model\", \"x\": [\"accuracy\", \"FPR\", \"FNR\", \"auc\"], \"y\": [0.9021614164175673, 0.09659167452512461, 0.10509803921568628, 0.8991551431295945], \"type\": \"scatter\", \"uid\": \"2ee12fc7-eb0f-4c22-8560-bb97a8754d0b\"}, {\"mode\": \"lines+markers\", \"name\": \"Logistic Regression\", \"x\": [\"accuracy\", \"FPR\", \"FNR\", \"auc\"], \"y\": [0.8831915382846631, 0.0957833759935336, 0.23921568627450981, 0.8325004688659783], \"type\": \"scatter\", \"uid\": \"081b3ce8-2b16-4aa5-8702-eea8d4fb1d1e\"}, {\"marker\": {\"symbol\": \"x\"}, \"mode\": \"lines+markers\", \"name\": \"Random Forest\", \"x\": [\"accuracy\", \"FPR\", \"FNR\", \"auc\"], \"y\": [0.9051506093354794, 0.09362791324262427, 0.10196078431372549, 0.9022056512218251], \"type\": \"scatter\", \"uid\": \"d809693e-c83a-456c-8541-206f68b49c04\"}, {\"mode\": \"lines\", \"name\": \"Ada Boost\", \"x\": [\"accuracy\", \"FPR\", \"FNR\", \"auc\"], \"y\": [0.8906645205794436, 0.10076788360501145, 0.1592156862745098, 0.8700082150602394], \"type\": \"scatter\", \"uid\": \"574516b2-501d-4325-b0e5-2c7c816540cd\"}, {\"mode\": \"lines+markers\", \"name\": \"GradientBoosting\", \"x\": [\"accuracy\", \"FPR\", \"FNR\", \"auc\"], \"y\": [0.8983674407909864, 0.09403206250841978, 0.14588235294117646, 0.8800427922752018], \"type\": \"scatter\", \"uid\": \"83143344-5cf8-402c-8d6a-49abf988d6a0\"}, {\"marker\": {\"symbol\": \"x\"}, \"mode\": \"lines+markers\", \"name\": \"ExtraTree Classifier\", \"x\": [\"accuracy\", \"FPR\", \"FNR\", \"auc\"], \"y\": [0.9054955162106232, 0.0937626296645561, 0.0988235294117647, 0.9037069204618396], \"type\": \"scatter\", \"uid\": \"97665048-6db6-4328-9621-f814eeaf0370\"}, {\"marker\": {\"symbol\": \"x\"}, \"mode\": \"lines+markers\", \"name\": \"Bagging\", \"x\": [\"accuracy\", \"FPR\", \"FNR\", \"auc\"], \"y\": [0.9043458266268107, 0.09510979388387444, 0.0988235294117647, 0.9030333383521805], \"type\": \"scatter\", \"uid\": \"cf416521-11ef-4e8a-9d37-5be4dddb2601\"}, {\"marker\": {\"symbol\": \"x\"}, \"mode\": \"lines+markers\", \"name\": \"Neural Network\", \"x\": [\"accuracy\", \"FPR\", \"FNR\", \"auc\"], \"y\": [0.895723154748218, 0.10278862993398895, 0.11294117647058824, 0.8921350967977114], \"type\": \"scatter\", \"uid\": \"be69466d-0a4b-4b71-b795-9fe3dc912b4c\"}], {\"title\": \"Result comparision for Features selected in Section 1\", \"yaxis\": {\"dtick\": 0.05, \"tick0\": 0}}, {\"showLink\": true, \"linkText\": \"Export to plot.ly\", \"plotlyServerURL\": \"https://plot.ly\"})});</script><script type=\"text/javascript\">window.addEventListener(\"resize\", function(){window._Plotly.Plots.resize(document.getElementById(\"0cfb85ff-c960-4291-89ce-b3a9ac3a2de3\"));});</script>"
      ],
      "text/vnd.plotly.v1+html": [
       "<div id=\"0cfb85ff-c960-4291-89ce-b3a9ac3a2de3\" style=\"height: 525px; width: 100%;\" class=\"plotly-graph-div\"></div><script type=\"text/javascript\">require([\"plotly\"], function(Plotly) { window.PLOTLYENV=window.PLOTLYENV || {};window.PLOTLYENV.BASE_URL=\"https://plot.ly\";Plotly.newPlot(\"0cfb85ff-c960-4291-89ce-b3a9ac3a2de3\", [{\"mode\": \"lines\", \"name\": \"KNN_model\", \"x\": [\"accuracy\", \"FPR\", \"FNR\", \"auc\"], \"y\": [0.9021614164175673, 0.09659167452512461, 0.10509803921568628, 0.8991551431295945], \"type\": \"scatter\", \"uid\": \"2ee12fc7-eb0f-4c22-8560-bb97a8754d0b\"}, {\"mode\": \"lines+markers\", \"name\": \"Logistic Regression\", \"x\": [\"accuracy\", \"FPR\", \"FNR\", \"auc\"], \"y\": [0.8831915382846631, 0.0957833759935336, 0.23921568627450981, 0.8325004688659783], \"type\": \"scatter\", \"uid\": \"081b3ce8-2b16-4aa5-8702-eea8d4fb1d1e\"}, {\"marker\": {\"symbol\": \"x\"}, \"mode\": \"lines+markers\", \"name\": \"Random Forest\", \"x\": [\"accuracy\", \"FPR\", \"FNR\", \"auc\"], \"y\": [0.9051506093354794, 0.09362791324262427, 0.10196078431372549, 0.9022056512218251], \"type\": \"scatter\", \"uid\": \"d809693e-c83a-456c-8541-206f68b49c04\"}, {\"mode\": \"lines\", \"name\": \"Ada Boost\", \"x\": [\"accuracy\", \"FPR\", \"FNR\", \"auc\"], \"y\": [0.8906645205794436, 0.10076788360501145, 0.1592156862745098, 0.8700082150602394], \"type\": \"scatter\", \"uid\": \"574516b2-501d-4325-b0e5-2c7c816540cd\"}, {\"mode\": \"lines+markers\", \"name\": \"GradientBoosting\", \"x\": [\"accuracy\", \"FPR\", \"FNR\", \"auc\"], \"y\": [0.8983674407909864, 0.09403206250841978, 0.14588235294117646, 0.8800427922752018], \"type\": \"scatter\", \"uid\": \"83143344-5cf8-402c-8d6a-49abf988d6a0\"}, {\"marker\": {\"symbol\": \"x\"}, \"mode\": \"lines+markers\", \"name\": \"ExtraTree Classifier\", \"x\": [\"accuracy\", \"FPR\", \"FNR\", \"auc\"], \"y\": [0.9054955162106232, 0.0937626296645561, 0.0988235294117647, 0.9037069204618396], \"type\": \"scatter\", \"uid\": \"97665048-6db6-4328-9621-f814eeaf0370\"}, {\"marker\": {\"symbol\": \"x\"}, \"mode\": \"lines+markers\", \"name\": \"Bagging\", \"x\": [\"accuracy\", \"FPR\", \"FNR\", \"auc\"], \"y\": [0.9043458266268107, 0.09510979388387444, 0.0988235294117647, 0.9030333383521805], \"type\": \"scatter\", \"uid\": \"cf416521-11ef-4e8a-9d37-5be4dddb2601\"}, {\"marker\": {\"symbol\": \"x\"}, \"mode\": \"lines+markers\", \"name\": \"Neural Network\", \"x\": [\"accuracy\", \"FPR\", \"FNR\", \"auc\"], \"y\": [0.895723154748218, 0.10278862993398895, 0.11294117647058824, 0.8921350967977114], \"type\": \"scatter\", \"uid\": \"be69466d-0a4b-4b71-b795-9fe3dc912b4c\"}], {\"title\": \"Result comparision for Features selected in Section 1\", \"yaxis\": {\"dtick\": 0.05, \"tick0\": 0}}, {\"showLink\": true, \"linkText\": \"Export to plot.ly\", \"plotlyServerURL\": \"https://plot.ly\"})});</script><script type=\"text/javascript\">window.addEventListener(\"resize\", function(){window._Plotly.Plots.resize(document.getElementById(\"0cfb85ff-c960-4291-89ce-b3a9ac3a2de3\"));});</script>"
      ]
     },
     "metadata": {},
     "output_type": "display_data"
    }
   ],
   "source": [
    "trace0 = go.Scatter(x=table_80_50_test.iloc[0].index.values[[0,5,6,7]],\n",
    "                    y=table_80_50_test.iloc[0].values[[0,5,6,7]],\n",
    "                    mode = 'lines',\n",
    "                    name = 'KNN_model')\n",
    "\n",
    "trace1 = go.Scatter(x=table_80_50_test.iloc[1].index.values[[0,5,6,7]],\n",
    "                    y=table_80_50_test.iloc[1].values[[0,5,6,7]],\n",
    "                    mode = 'lines+markers',\n",
    "                    name = 'Logistic Regression')\n",
    "\n",
    "trace2 = go.Scatter(x=table_80_50_test.iloc[2].index.values[[0,5,6,7]],\n",
    "                    y=table_80_50_test.iloc[2].values[[0,5,6,7]],\n",
    "                    mode = 'lines+markers',marker=dict(symbol='x'),\n",
    "                    name = 'Random Forest')\n",
    "\n",
    "\n",
    "trace3 = go.Scatter(x=table_80_50_test.iloc[3].index.values[[0,5,6,7]],\n",
    "                    y=table_80_50_test.iloc[3].values[[0,5,6,7]],\n",
    "                    mode = 'lines',\n",
    "                    name = 'Ada Boost')\n",
    "\n",
    "trace4 = go.Scatter(x=table_80_50_test.iloc[4].index.values[[0,5,6,7]],\n",
    "                    y=table_80_50_test.iloc[4].values[[0,5,6,7]],\n",
    "                    mode = 'lines+markers',\n",
    "                    name = 'GradientBoosting')\n",
    "\n",
    "trace5 = go.Scatter(x=table_80_50_test.iloc[5].index.values[[0,5,6,7]],\n",
    "                    y=table_80_50_test.iloc[5].values[[0,5,6,7]],\n",
    "                    mode = 'lines+markers',marker=dict(symbol='x'),\n",
    "                    name = 'ExtraTree Classifier')\n",
    "\n",
    "trace6 = go.Scatter(x=table_80_50_test.iloc[6].index.values[[0,5,6,7]],\n",
    "                    y=table_80_50_test.iloc[6].values[[0,5,6,7]],\n",
    "                    mode = 'lines+markers',marker=dict(symbol='x'),\n",
    "                    name = 'Bagging')\n",
    "\n",
    "trace7 = go.Scatter(x=table_80_50_test.iloc[7].index.values[[0,5,6,7]],\n",
    "                    y=table_80_50_test.iloc[7].values[[0,5,6,7]],\n",
    "                    mode = 'lines+markers',marker=dict(symbol='x'),\n",
    "                    name = 'Neural Network')\n",
    "\n",
    "\n",
    "\n",
    "data = [trace0, trace1, trace2, trace3, trace4, trace5, trace6, trace7]\n",
    "layout = go.Layout(yaxis=dict(tick0=0,dtick=0.05),title='Result comparision for Features selected in Section 1')\n",
    "fig = go.Figure(data=data, layout=layout)\n",
    "\n",
    "iplot(fig, filename='Result')"
   ]
  },
  {
   "cell_type": "code",
   "execution_count": 64,
   "metadata": {},
   "outputs": [
    {
     "name": "stdout",
     "output_type": "stream",
     "text": [
      "Training Results\n"
     ]
    },
    {
     "data": {
      "text/html": [
       "<div>\n",
       "<style scoped>\n",
       "    .dataframe tbody tr th:only-of-type {\n",
       "        vertical-align: middle;\n",
       "    }\n",
       "\n",
       "    .dataframe tbody tr th {\n",
       "        vertical-align: top;\n",
       "    }\n",
       "\n",
       "    .dataframe thead th {\n",
       "        text-align: right;\n",
       "    }\n",
       "</style>\n",
       "<table border=\"1\" class=\"dataframe\">\n",
       "  <thead>\n",
       "    <tr style=\"text-align: right;\">\n",
       "      <th></th>\n",
       "      <th>accuracy</th>\n",
       "      <th>TP</th>\n",
       "      <th>TN</th>\n",
       "      <th>FP</th>\n",
       "      <th>FN</th>\n",
       "      <th>FPR</th>\n",
       "      <th>FNR</th>\n",
       "    </tr>\n",
       "    <tr>\n",
       "      <th>index</th>\n",
       "      <th></th>\n",
       "      <th></th>\n",
       "      <th></th>\n",
       "      <th></th>\n",
       "      <th></th>\n",
       "      <th></th>\n",
       "      <th></th>\n",
       "    </tr>\n",
       "  </thead>\n",
       "  <tbody>\n",
       "    <tr>\n",
       "      <th>KNeighborsClassifier</th>\n",
       "      <td>0.908775</td>\n",
       "      <td>4615.0</td>\n",
       "      <td>27004.0</td>\n",
       "      <td>2687.0</td>\n",
       "      <td>487.0</td>\n",
       "      <td>0.090499</td>\n",
       "      <td>0.095453</td>\n",
       "    </tr>\n",
       "    <tr>\n",
       "      <th>LogisticRegression</th>\n",
       "      <td>0.889259</td>\n",
       "      <td>3928.0</td>\n",
       "      <td>27012.0</td>\n",
       "      <td>2679.0</td>\n",
       "      <td>1174.0</td>\n",
       "      <td>0.090229</td>\n",
       "      <td>0.230106</td>\n",
       "    </tr>\n",
       "    <tr>\n",
       "      <th>RandomForestClassifier</th>\n",
       "      <td>0.918892</td>\n",
       "      <td>4883.0</td>\n",
       "      <td>27088.0</td>\n",
       "      <td>2603.0</td>\n",
       "      <td>219.0</td>\n",
       "      <td>0.087670</td>\n",
       "      <td>0.042924</td>\n",
       "    </tr>\n",
       "    <tr>\n",
       "      <th>AdaBoostClassifier</th>\n",
       "      <td>0.896042</td>\n",
       "      <td>4319.0</td>\n",
       "      <td>26857.0</td>\n",
       "      <td>2834.0</td>\n",
       "      <td>783.0</td>\n",
       "      <td>0.095450</td>\n",
       "      <td>0.153469</td>\n",
       "    </tr>\n",
       "    <tr>\n",
       "      <th>GradientBoostingClassifier</th>\n",
       "      <td>0.904464</td>\n",
       "      <td>4401.0</td>\n",
       "      <td>27068.0</td>\n",
       "      <td>2623.0</td>\n",
       "      <td>701.0</td>\n",
       "      <td>0.088343</td>\n",
       "      <td>0.137397</td>\n",
       "    </tr>\n",
       "    <tr>\n",
       "      <th>ExtraTreeClassifier</th>\n",
       "      <td>0.920990</td>\n",
       "      <td>4955.0</td>\n",
       "      <td>27089.0</td>\n",
       "      <td>2602.0</td>\n",
       "      <td>147.0</td>\n",
       "      <td>0.087636</td>\n",
       "      <td>0.028812</td>\n",
       "    </tr>\n",
       "    <tr>\n",
       "      <th>BaggingClassifier</th>\n",
       "      <td>0.918892</td>\n",
       "      <td>4886.0</td>\n",
       "      <td>27085.0</td>\n",
       "      <td>2606.0</td>\n",
       "      <td>216.0</td>\n",
       "      <td>0.087771</td>\n",
       "      <td>0.042336</td>\n",
       "    </tr>\n",
       "    <tr>\n",
       "      <th>Neural Network-1</th>\n",
       "      <td>0.911247</td>\n",
       "      <td>4747.0</td>\n",
       "      <td>26958.0</td>\n",
       "      <td>2733.0</td>\n",
       "      <td>355.0</td>\n",
       "      <td>0.092048</td>\n",
       "      <td>0.069581</td>\n",
       "    </tr>\n",
       "  </tbody>\n",
       "</table>\n",
       "</div>"
      ],
      "text/plain": [
       "                            accuracy      TP       TN      FP      FN  \\\n",
       "index                                                                   \n",
       "KNeighborsClassifier        0.908775  4615.0  27004.0  2687.0   487.0   \n",
       "LogisticRegression          0.889259  3928.0  27012.0  2679.0  1174.0   \n",
       "RandomForestClassifier      0.918892  4883.0  27088.0  2603.0   219.0   \n",
       "AdaBoostClassifier          0.896042  4319.0  26857.0  2834.0   783.0   \n",
       "GradientBoostingClassifier  0.904464  4401.0  27068.0  2623.0   701.0   \n",
       "ExtraTreeClassifier         0.920990  4955.0  27089.0  2602.0   147.0   \n",
       "BaggingClassifier           0.918892  4886.0  27085.0  2606.0   216.0   \n",
       "Neural Network-1            0.911247  4747.0  26958.0  2733.0   355.0   \n",
       "\n",
       "                                 FPR       FNR  \n",
       "index                                           \n",
       "KNeighborsClassifier        0.090499  0.095453  \n",
       "LogisticRegression          0.090229  0.230106  \n",
       "RandomForestClassifier      0.087670  0.042924  \n",
       "AdaBoostClassifier          0.095450  0.153469  \n",
       "GradientBoostingClassifier  0.088343  0.137397  \n",
       "ExtraTreeClassifier         0.087636  0.028812  \n",
       "BaggingClassifier           0.087771  0.042336  \n",
       "Neural Network-1            0.092048  0.069581  "
      ]
     },
     "metadata": {},
     "output_type": "display_data"
    },
    {
     "name": "stdout",
     "output_type": "stream",
     "text": [
      "Test Results\n"
     ]
    },
    {
     "data": {
      "text/html": [
       "<div>\n",
       "<style scoped>\n",
       "    .dataframe tbody tr th:only-of-type {\n",
       "        vertical-align: middle;\n",
       "    }\n",
       "\n",
       "    .dataframe tbody tr th {\n",
       "        vertical-align: top;\n",
       "    }\n",
       "\n",
       "    .dataframe thead th {\n",
       "        text-align: right;\n",
       "    }\n",
       "</style>\n",
       "<table border=\"1\" class=\"dataframe\">\n",
       "  <thead>\n",
       "    <tr style=\"text-align: right;\">\n",
       "      <th></th>\n",
       "      <th>accuracy</th>\n",
       "      <th>TP</th>\n",
       "      <th>TN</th>\n",
       "      <th>FP</th>\n",
       "      <th>FN</th>\n",
       "      <th>FPR</th>\n",
       "      <th>FNR</th>\n",
       "      <th>auc</th>\n",
       "      <th>MCC</th>\n",
       "    </tr>\n",
       "    <tr>\n",
       "      <th>index</th>\n",
       "      <th></th>\n",
       "      <th></th>\n",
       "      <th></th>\n",
       "      <th></th>\n",
       "      <th></th>\n",
       "      <th></th>\n",
       "      <th></th>\n",
       "      <th></th>\n",
       "      <th></th>\n",
       "    </tr>\n",
       "  </thead>\n",
       "  <tbody>\n",
       "    <tr>\n",
       "      <th>KNeighborsClassifier</th>\n",
       "      <td>0.902161</td>\n",
       "      <td>1141.0</td>\n",
       "      <td>6706.0</td>\n",
       "      <td>717.0</td>\n",
       "      <td>134.0</td>\n",
       "      <td>0.096592</td>\n",
       "      <td>0.105098</td>\n",
       "      <td>0.899155</td>\n",
       "      <td>0.688915</td>\n",
       "    </tr>\n",
       "    <tr>\n",
       "      <th>LogisticRegression</th>\n",
       "      <td>0.883192</td>\n",
       "      <td>970.0</td>\n",
       "      <td>6712.0</td>\n",
       "      <td>711.0</td>\n",
       "      <td>305.0</td>\n",
       "      <td>0.095783</td>\n",
       "      <td>0.239216</td>\n",
       "      <td>0.832500</td>\n",
       "      <td>0.595672</td>\n",
       "    </tr>\n",
       "    <tr>\n",
       "      <th>RandomForestClassifier</th>\n",
       "      <td>0.905151</td>\n",
       "      <td>1145.0</td>\n",
       "      <td>6728.0</td>\n",
       "      <td>695.0</td>\n",
       "      <td>130.0</td>\n",
       "      <td>0.093628</td>\n",
       "      <td>0.101961</td>\n",
       "      <td>0.902206</td>\n",
       "      <td>0.696651</td>\n",
       "    </tr>\n",
       "    <tr>\n",
       "      <th>AdaBoostClassifier</th>\n",
       "      <td>0.890665</td>\n",
       "      <td>1072.0</td>\n",
       "      <td>6675.0</td>\n",
       "      <td>748.0</td>\n",
       "      <td>203.0</td>\n",
       "      <td>0.100768</td>\n",
       "      <td>0.159216</td>\n",
       "      <td>0.870008</td>\n",
       "      <td>0.643457</td>\n",
       "    </tr>\n",
       "    <tr>\n",
       "      <th>GradientBoostingClassifier</th>\n",
       "      <td>0.898367</td>\n",
       "      <td>1089.0</td>\n",
       "      <td>6725.0</td>\n",
       "      <td>698.0</td>\n",
       "      <td>186.0</td>\n",
       "      <td>0.094032</td>\n",
       "      <td>0.145882</td>\n",
       "      <td>0.880043</td>\n",
       "      <td>0.665387</td>\n",
       "    </tr>\n",
       "    <tr>\n",
       "      <th>ExtraTreeClassifier</th>\n",
       "      <td>0.905496</td>\n",
       "      <td>1149.0</td>\n",
       "      <td>6727.0</td>\n",
       "      <td>696.0</td>\n",
       "      <td>126.0</td>\n",
       "      <td>0.093763</td>\n",
       "      <td>0.098824</td>\n",
       "      <td>0.903707</td>\n",
       "      <td>0.698558</td>\n",
       "    </tr>\n",
       "    <tr>\n",
       "      <th>BaggingClassifier</th>\n",
       "      <td>0.904346</td>\n",
       "      <td>1149.0</td>\n",
       "      <td>6717.0</td>\n",
       "      <td>706.0</td>\n",
       "      <td>126.0</td>\n",
       "      <td>0.095110</td>\n",
       "      <td>0.098824</td>\n",
       "      <td>0.903033</td>\n",
       "      <td>0.696018</td>\n",
       "    </tr>\n",
       "    <tr>\n",
       "      <th>Neural Network-1</th>\n",
       "      <td>0.895723</td>\n",
       "      <td>1131.0</td>\n",
       "      <td>6660.0</td>\n",
       "      <td>763.0</td>\n",
       "      <td>144.0</td>\n",
       "      <td>0.102789</td>\n",
       "      <td>0.112941</td>\n",
       "      <td>0.892135</td>\n",
       "      <td>0.672107</td>\n",
       "    </tr>\n",
       "  </tbody>\n",
       "</table>\n",
       "</div>"
      ],
      "text/plain": [
       "                            accuracy      TP      TN     FP     FN       FPR  \\\n",
       "index                                                                          \n",
       "KNeighborsClassifier        0.902161  1141.0  6706.0  717.0  134.0  0.096592   \n",
       "LogisticRegression          0.883192   970.0  6712.0  711.0  305.0  0.095783   \n",
       "RandomForestClassifier      0.905151  1145.0  6728.0  695.0  130.0  0.093628   \n",
       "AdaBoostClassifier          0.890665  1072.0  6675.0  748.0  203.0  0.100768   \n",
       "GradientBoostingClassifier  0.898367  1089.0  6725.0  698.0  186.0  0.094032   \n",
       "ExtraTreeClassifier         0.905496  1149.0  6727.0  696.0  126.0  0.093763   \n",
       "BaggingClassifier           0.904346  1149.0  6717.0  706.0  126.0  0.095110   \n",
       "Neural Network-1            0.895723  1131.0  6660.0  763.0  144.0  0.102789   \n",
       "\n",
       "                                 FNR       auc       MCC  \n",
       "index                                                     \n",
       "KNeighborsClassifier        0.105098  0.899155  0.688915  \n",
       "LogisticRegression          0.239216  0.832500  0.595672  \n",
       "RandomForestClassifier      0.101961  0.902206  0.696651  \n",
       "AdaBoostClassifier          0.159216  0.870008  0.643457  \n",
       "GradientBoostingClassifier  0.145882  0.880043  0.665387  \n",
       "ExtraTreeClassifier         0.098824  0.903707  0.698558  \n",
       "BaggingClassifier           0.098824  0.903033  0.696018  \n",
       "Neural Network-1            0.112941  0.892135  0.672107  "
      ]
     },
     "metadata": {},
     "output_type": "display_data"
    }
   ],
   "source": [
    "table_80_50_train['index']=ind_columns\n",
    "table_80_50_test['index']=ind_columns\n",
    "\n",
    "\n",
    "table_80_50_test.set_index(['index'],drop=True,inplace=True)\n",
    "table_80_50_train.set_index(['index'],drop=True,inplace=True)\n",
    "\n",
    "print(\"Training Results\")\n",
    "display(table_80_50_train)\n",
    "print(\"Test Results\")\n",
    "display(table_80_50_test)"
   ]
  },
  {
   "cell_type": "markdown",
   "metadata": {},
   "source": [
    "### <a id='1.B' style=\"text-decoration : none; color : #000000;\"> B. Average Feature Importances</a>"
   ]
  },
  {
   "cell_type": "code",
   "execution_count": 65,
   "metadata": {},
   "outputs": [
    {
     "data": {
      "application/vnd.plotly.v1+json": {
       "config": {
        "linkText": "Export to plot.ly",
        "plotlyServerURL": "https://plot.ly",
        "showLink": true
       },
       "data": [
        {
         "marker": {
          "color": "rgb(158,202,225)",
          "line": {
           "color": "rgb(8,48,107)",
           "width": 1.5
          }
         },
         "opacity": 0.6,
         "orientation": "h",
         "text": [
          0.2724,
          0.0857,
          0.0497,
          0.0454,
          0.0429,
          0.0423,
          0.0421,
          0.0337,
          0.0306,
          0.0302,
          0.027,
          0.0249,
          0.0242,
          0.0236,
          0.0221,
          0.0163,
          0.0153,
          0.0152,
          0.0147,
          0.0143,
          0.0127,
          0.012,
          0.012,
          0.012,
          0.0104,
          0.0101,
          0.0092,
          0.0091,
          0.0077,
          0.0077,
          0.0075,
          0.0062,
          0.0056,
          0.0027,
          0.0023
         ],
         "textposition": "outside",
         "type": "bar",
         "uid": "32b4b44f-3461-4e0f-8a72-438d0129099e",
         "x": [
          0.2724340948040103,
          0.08569463634392027,
          0.04967194735775598,
          0.04542297050776188,
          0.04290378140937427,
          0.042318663549570486,
          0.04210865338966782,
          0.03373110445065398,
          0.030578908070997335,
          0.03024002121840583,
          0.027040675234547895,
          0.02487800793755495,
          0.02422402916910669,
          0.023626749257484057,
          0.022078391475444707,
          0.01633604558025522,
          0.015251927545268235,
          0.01517759486376524,
          0.014712169478768007,
          0.014307237799193191,
          0.01269324224385615,
          0.012046801145687035,
          0.011988587063828594,
          0.0119839919285093,
          0.010433321512007373,
          0.010090568334282166,
          0.009226654468774312,
          0.009063324382451977,
          0.0077206517163371765,
          0.00769257211989604,
          0.007515965734228457,
          0.006232400481374763,
          0.005552224422328225,
          0.0026944021387750507,
          0.0023276828641570447
         ],
         "y": [
          "title_count",
          "script_async_true",
          "link_href_out_of_domain",
          "script_src_out_of_domain",
          "div_count",
          "a_href_https",
          "li_count",
          "link_type_text/css",
          "br_count",
          "a_href_http",
          "meta_count",
          "p_count",
          "link_href_.css",
          "script_src_.js",
          "img_src_.jpg",
          "section_count",
          "span_count",
          "script_type_text/javascript",
          "link_href_http",
          "script_defer_true",
          "form_action_http",
          "h1_count",
          "b_count",
          "strong_count",
          "a_href_.aspx",
          "center_count",
          "iframe_src_https",
          "link_href_0",
          "form_action_out_of_domain",
          "a_href_.com",
          "script_charset_UTF-8",
          "link_rel_shortlink",
          "input_count",
          "link_type_application/rsd+xml",
          "link_type_application/rss+xml"
         ]
        }
       ],
       "layout": {
        "autosize": false,
        "height": 1000,
        "width": 1000,
        "xaxis": {
         "tickfont": {
          "color": "black",
          "size": 12
         },
         "title": "Feature Importances"
        },
        "yaxis": {
         "automargin": true
        }
       }
      },
      "text/html": [
       "<div id=\"6356e4af-051b-49b6-891f-d4fd825ce73b\" style=\"height: 1000px; width: 1000px;\" class=\"plotly-graph-div\"></div><script type=\"text/javascript\">require([\"plotly\"], function(Plotly) { window.PLOTLYENV=window.PLOTLYENV || {};window.PLOTLYENV.BASE_URL=\"https://plot.ly\";Plotly.newPlot(\"6356e4af-051b-49b6-891f-d4fd825ce73b\", [{\"marker\": {\"color\": \"rgb(158,202,225)\", \"line\": {\"color\": \"rgb(8,48,107)\", \"width\": 1.5}}, \"opacity\": 0.6, \"orientation\": \"h\", \"text\": [0.2724, 0.0857, 0.0497, 0.0454, 0.0429, 0.0423, 0.0421, 0.0337, 0.0306, 0.0302, 0.027, 0.0249, 0.0242, 0.0236, 0.0221, 0.0163, 0.0153, 0.0152, 0.0147, 0.0143, 0.0127, 0.012, 0.012, 0.012, 0.0104, 0.0101, 0.0092, 0.0091, 0.0077, 0.0077, 0.0075, 0.0062, 0.0056, 0.0027, 0.0023], \"textposition\": \"outside\", \"x\": [0.2724340948040103, 0.08569463634392027, 0.04967194735775598, 0.04542297050776188, 0.04290378140937427, 0.042318663549570486, 0.04210865338966782, 0.03373110445065398, 0.030578908070997335, 0.03024002121840583, 0.027040675234547895, 0.02487800793755495, 0.02422402916910669, 0.023626749257484057, 0.022078391475444707, 0.01633604558025522, 0.015251927545268235, 0.01517759486376524, 0.014712169478768007, 0.014307237799193191, 0.01269324224385615, 0.012046801145687035, 0.011988587063828594, 0.0119839919285093, 0.010433321512007373, 0.010090568334282166, 0.009226654468774312, 0.009063324382451977, 0.0077206517163371765, 0.00769257211989604, 0.007515965734228457, 0.006232400481374763, 0.005552224422328225, 0.0026944021387750507, 0.0023276828641570447], \"y\": [\"title_count\", \"script_async_true\", \"link_href_out_of_domain\", \"script_src_out_of_domain\", \"div_count\", \"a_href_https\", \"li_count\", \"link_type_text/css\", \"br_count\", \"a_href_http\", \"meta_count\", \"p_count\", \"link_href_.css\", \"script_src_.js\", \"img_src_.jpg\", \"section_count\", \"span_count\", \"script_type_text/javascript\", \"link_href_http\", \"script_defer_true\", \"form_action_http\", \"h1_count\", \"b_count\", \"strong_count\", \"a_href_.aspx\", \"center_count\", \"iframe_src_https\", \"link_href_0\", \"form_action_out_of_domain\", \"a_href_.com\", \"script_charset_UTF-8\", \"link_rel_shortlink\", \"input_count\", \"link_type_application/rsd+xml\", \"link_type_application/rss+xml\"], \"type\": \"bar\", \"uid\": \"32b4b44f-3461-4e0f-8a72-438d0129099e\"}], {\"autosize\": false, \"height\": 1000, \"width\": 1000, \"xaxis\": {\"tickfont\": {\"color\": \"black\", \"size\": 12}, \"title\": \"Feature Importances\"}, \"yaxis\": {\"automargin\": true}}, {\"showLink\": true, \"linkText\": \"Export to plot.ly\", \"plotlyServerURL\": \"https://plot.ly\"})});</script>"
      ],
      "text/vnd.plotly.v1+html": [
       "<div id=\"6356e4af-051b-49b6-891f-d4fd825ce73b\" style=\"height: 1000px; width: 1000px;\" class=\"plotly-graph-div\"></div><script type=\"text/javascript\">require([\"plotly\"], function(Plotly) { window.PLOTLYENV=window.PLOTLYENV || {};window.PLOTLYENV.BASE_URL=\"https://plot.ly\";Plotly.newPlot(\"6356e4af-051b-49b6-891f-d4fd825ce73b\", [{\"marker\": {\"color\": \"rgb(158,202,225)\", \"line\": {\"color\": \"rgb(8,48,107)\", \"width\": 1.5}}, \"opacity\": 0.6, \"orientation\": \"h\", \"text\": [0.2724, 0.0857, 0.0497, 0.0454, 0.0429, 0.0423, 0.0421, 0.0337, 0.0306, 0.0302, 0.027, 0.0249, 0.0242, 0.0236, 0.0221, 0.0163, 0.0153, 0.0152, 0.0147, 0.0143, 0.0127, 0.012, 0.012, 0.012, 0.0104, 0.0101, 0.0092, 0.0091, 0.0077, 0.0077, 0.0075, 0.0062, 0.0056, 0.0027, 0.0023], \"textposition\": \"outside\", \"x\": [0.2724340948040103, 0.08569463634392027, 0.04967194735775598, 0.04542297050776188, 0.04290378140937427, 0.042318663549570486, 0.04210865338966782, 0.03373110445065398, 0.030578908070997335, 0.03024002121840583, 0.027040675234547895, 0.02487800793755495, 0.02422402916910669, 0.023626749257484057, 0.022078391475444707, 0.01633604558025522, 0.015251927545268235, 0.01517759486376524, 0.014712169478768007, 0.014307237799193191, 0.01269324224385615, 0.012046801145687035, 0.011988587063828594, 0.0119839919285093, 0.010433321512007373, 0.010090568334282166, 0.009226654468774312, 0.009063324382451977, 0.0077206517163371765, 0.00769257211989604, 0.007515965734228457, 0.006232400481374763, 0.005552224422328225, 0.0026944021387750507, 0.0023276828641570447], \"y\": [\"title_count\", \"script_async_true\", \"link_href_out_of_domain\", \"script_src_out_of_domain\", \"div_count\", \"a_href_https\", \"li_count\", \"link_type_text/css\", \"br_count\", \"a_href_http\", \"meta_count\", \"p_count\", \"link_href_.css\", \"script_src_.js\", \"img_src_.jpg\", \"section_count\", \"span_count\", \"script_type_text/javascript\", \"link_href_http\", \"script_defer_true\", \"form_action_http\", \"h1_count\", \"b_count\", \"strong_count\", \"a_href_.aspx\", \"center_count\", \"iframe_src_https\", \"link_href_0\", \"form_action_out_of_domain\", \"a_href_.com\", \"script_charset_UTF-8\", \"link_rel_shortlink\", \"input_count\", \"link_type_application/rsd+xml\", \"link_type_application/rss+xml\"], \"type\": \"bar\", \"uid\": \"32b4b44f-3461-4e0f-8a72-438d0129099e\"}], {\"autosize\": false, \"height\": 1000, \"width\": 1000, \"xaxis\": {\"tickfont\": {\"color\": \"black\", \"size\": 12}, \"title\": \"Feature Importances\"}, \"yaxis\": {\"automargin\": true}}, {\"showLink\": true, \"linkText\": \"Export to plot.ly\", \"plotlyServerURL\": \"https://plot.ly\"})});</script>"
      ]
     },
     "metadata": {},
     "output_type": "display_data"
    }
   ],
   "source": [
    "feat_impt_plot(np.average(feat_imp,axis=0),columns)"
   ]
  },
  {
   "cell_type": "markdown",
   "metadata": {},
   "source": [
    "### <a id='2' style=\"text-decoration : none; color : #000000;\"> 2. OverSampling </a>"
   ]
  },
  {
   "cell_type": "code",
   "execution_count": 66,
   "metadata": {},
   "outputs": [],
   "source": [
    "sm = SMOTE(random_state=12, ratio = 1.0)\n",
    "X_train, Y_train = sm.fit_sample(scaled_X_train,train_Y)"
   ]
  },
  {
   "cell_type": "code",
   "execution_count": 67,
   "metadata": {
    "scrolled": false
   },
   "outputs": [
    {
     "name": "stdout",
     "output_type": "stream",
     "text": [
      "\u001b[1mK-Nearest Neighbors\u001b[0m\n"
     ]
    },
    {
     "name": "stderr",
     "output_type": "stream",
     "text": [
      "distributed.core - INFO - Event loop was unresponsive in Nanny for 6.09s.  This is often caused by long-running GIL-holding functions or moving large chunks of data. This can cause timeouts and instability.\n",
      "distributed.core - INFO - Event loop was unresponsive in Nanny for 6.09s.  This is often caused by long-running GIL-holding functions or moving large chunks of data. This can cause timeouts and instability.\n",
      "distributed.core - INFO - Event loop was unresponsive in Nanny for 6.10s.  This is often caused by long-running GIL-holding functions or moving large chunks of data. This can cause timeouts and instability.\n",
      "distributed.core - INFO - Event loop was unresponsive in Nanny for 6.10s.  This is often caused by long-running GIL-holding functions or moving large chunks of data. This can cause timeouts and instability.\n",
      "distributed.core - INFO - Event loop was unresponsive in Nanny for 6.10s.  This is often caused by long-running GIL-holding functions or moving large chunks of data. This can cause timeouts and instability.\n",
      "distributed.core - INFO - Event loop was unresponsive in Nanny for 6.10s.  This is often caused by long-running GIL-holding functions or moving large chunks of data. This can cause timeouts and instability.\n",
      "distributed.core - INFO - Event loop was unresponsive in Nanny for 6.10s.  This is often caused by long-running GIL-holding functions or moving large chunks of data. This can cause timeouts and instability.\n",
      "distributed.core - INFO - Event loop was unresponsive in Nanny for 6.10s.  This is often caused by long-running GIL-holding functions or moving large chunks of data. This can cause timeouts and instability.\n",
      "distributed.core - INFO - Event loop was unresponsive in Nanny for 6.10s.  This is often caused by long-running GIL-holding functions or moving large chunks of data. This can cause timeouts and instability.\n",
      "distributed.core - INFO - Event loop was unresponsive in Nanny for 6.10s.  This is often caused by long-running GIL-holding functions or moving large chunks of data. This can cause timeouts and instability.\n",
      "distributed.core - INFO - Event loop was unresponsive in Nanny for 6.10s.  This is often caused by long-running GIL-holding functions or moving large chunks of data. This can cause timeouts and instability.\n"
     ]
    },
    {
     "name": "stdout",
     "output_type": "stream",
     "text": [
      "Accuracy of the model for training data is: 0.5957866020006063\n",
      "Confusion Matrix for training data is:\n"
     ]
    },
    {
     "data": {
      "text/plain": [
       "Predicted  False  True  __all__\n",
       "Actual                         \n",
       "False      28759   932    29691\n",
       "True       23071  6620    29691\n",
       "__all__    51830  7552    59382"
      ]
     },
     "metadata": {},
     "output_type": "display_data"
    },
    {
     "name": "stdout",
     "output_type": "stream",
     "text": [
      "Accuracy of the model for test data is: 0.8492756955621982\n",
      "Confusion Matrix for test data is:\n"
     ]
    },
    {
     "data": {
      "text/plain": [
       "Predicted  False  True  __all__\n",
       "Actual                         \n",
       "False       7152   271     7423\n",
       "True        1040   235     1275\n",
       "__all__     8192   506     8698"
      ]
     },
     "metadata": {},
     "output_type": "display_data"
    },
    {
     "name": "stdout",
     "output_type": "stream",
     "text": [
      "\n",
      "\n",
      "\u001b[1mLogistic Regression\u001b[0m\n",
      "Accuracy of the model for training data is: 0.8893940924859385\n",
      "Confusion Matrix for training data is:\n"
     ]
    },
    {
     "data": {
      "text/plain": [
       "Predicted  False   True  __all__\n",
       "Actual                          \n",
       "False      24326   5365    29691\n",
       "True        1203  28488    29691\n",
       "__all__    25529  33853    59382"
      ]
     },
     "metadata": {},
     "output_type": "display_data"
    },
    {
     "name": "stdout",
     "output_type": "stream",
     "text": [
      "Accuracy of the model for test data is: 0.8313405380547252\n",
      "Confusion Matrix for test data is:\n"
     ]
    },
    {
     "data": {
      "text/plain": [
       "Predicted  False  True  __all__\n",
       "Actual                         \n",
       "False       6010  1413     7423\n",
       "True          54  1221     1275\n",
       "__all__     6064  2634     8698"
      ]
     },
     "metadata": {},
     "output_type": "display_data"
    },
    {
     "name": "stdout",
     "output_type": "stream",
     "text": [
      "\n",
      "\n",
      "\u001b[1mRandomForest Classifier\u001b[0m\n",
      "Accuracy of the model for training data is: 0.9470209827893975\n",
      "Confusion Matrix for training data is:\n"
     ]
    },
    {
     "data": {
      "text/plain": [
       "Predicted  False   True  __all__\n",
       "Actual                          \n",
       "False      26972   2719    29691\n",
       "True         427  29264    29691\n",
       "__all__    27399  31983    59382"
      ]
     },
     "metadata": {},
     "output_type": "display_data"
    },
    {
     "name": "stdout",
     "output_type": "stream",
     "text": [
      "Accuracy of the model for test data is: 0.9036560128765233\n",
      "Confusion Matrix for test data is:\n"
     ]
    },
    {
     "data": {
      "text/plain": [
       "Predicted  False  True  __all__\n",
       "Actual                         \n",
       "False       6688   735     7423\n",
       "True         103  1172     1275\n",
       "__all__     6791  1907     8698"
      ]
     },
     "metadata": {},
     "output_type": "display_data"
    },
    {
     "data": {
      "application/vnd.plotly.v1+json": {
       "config": {
        "linkText": "Export to plot.ly",
        "plotlyServerURL": "https://plot.ly",
        "showLink": true
       },
       "data": [
        {
         "marker": {
          "color": "rgb(158,202,225)",
          "line": {
           "color": "rgb(8,48,107)",
           "width": 1.5
          }
         },
         "opacity": 0.6,
         "orientation": "h",
         "text": [
          0.2093,
          0.1301,
          0.0895,
          0.0867,
          0.0783,
          0.0664,
          0.0524,
          0.0451,
          0.0377,
          0.0292,
          0.0214,
          0.0138,
          0.0125,
          0.0116,
          0.0112,
          0.011,
          0.0089,
          0.008,
          0.0077,
          0.0075,
          0.0073,
          0.0067,
          0.0062,
          0.0062,
          0.0061,
          0.0057,
          0.005,
          0.0035,
          0.003,
          0.0027,
          0.0026,
          0.0024,
          0.0022,
          0.0017,
          0.0005
         ],
         "textposition": "outside",
         "type": "bar",
         "uid": "ff6b5f06-fcad-4ec9-97da-0b49db6b0e66",
         "x": [
          0.20928739973800692,
          0.1301341342759451,
          0.08953821235561264,
          0.08669003798794417,
          0.07830739124003877,
          0.06642898616624957,
          0.05242795603644953,
          0.045064511250814364,
          0.03772240940073414,
          0.029230870858430392,
          0.021351716717682982,
          0.013796783362465325,
          0.012548490788454863,
          0.011608269758572142,
          0.011172081565793652,
          0.01097941817782569,
          0.008856637391165632,
          0.008028028000262335,
          0.007699812499038225,
          0.007469094574301835,
          0.007302809056842402,
          0.00671227500183553,
          0.006205355409854048,
          0.006156700608339314,
          0.00608678057507078,
          0.00565625726010244,
          0.005015972248777473,
          0.0034629917100437264,
          0.0030373407973104984,
          0.002687401667537062,
          0.0025687334390194663,
          0.0024114604898609927,
          0.002208629804647229,
          0.0016660484318832738,
          0.00047900135308755876
         ],
         "y": [
          "script_async_true",
          "a_href_https",
          "link_href_out_of_domain",
          "div_count",
          "script_src_out_of_domain",
          "title_count",
          "br_count",
          "meta_count",
          "li_count",
          "script_src_.js",
          "a_href_http",
          "p_count",
          "script_type_text/javascript",
          "img_src_.jpg",
          "span_count",
          "link_href_http",
          "h1_count",
          "strong_count",
          "iframe_src_https",
          "link_type_text/css",
          "link_href_.css",
          "script_defer_true",
          "section_count",
          "input_count",
          "form_action_out_of_domain",
          "form_action_http",
          "b_count",
          "link_type_application/rss+xml",
          "link_href_0",
          "a_href_.com",
          "center_count",
          "link_rel_shortlink",
          "link_type_application/rsd+xml",
          "script_charset_UTF-8",
          "a_href_.aspx"
         ]
        }
       ],
       "layout": {
        "autosize": false,
        "height": 1000,
        "width": 1000,
        "xaxis": {
         "tickfont": {
          "color": "black",
          "size": 12
         },
         "title": "Feature Importances"
        },
        "yaxis": {
         "automargin": true
        }
       }
      },
      "text/html": [
       "<div id=\"8b560016-c569-46f5-88b3-06827429f722\" style=\"height: 1000px; width: 1000px;\" class=\"plotly-graph-div\"></div><script type=\"text/javascript\">require([\"plotly\"], function(Plotly) { window.PLOTLYENV=window.PLOTLYENV || {};window.PLOTLYENV.BASE_URL=\"https://plot.ly\";Plotly.newPlot(\"8b560016-c569-46f5-88b3-06827429f722\", [{\"marker\": {\"color\": \"rgb(158,202,225)\", \"line\": {\"color\": \"rgb(8,48,107)\", \"width\": 1.5}}, \"opacity\": 0.6, \"orientation\": \"h\", \"text\": [0.2093, 0.1301, 0.0895, 0.0867, 0.0783, 0.0664, 0.0524, 0.0451, 0.0377, 0.0292, 0.0214, 0.0138, 0.0125, 0.0116, 0.0112, 0.011, 0.0089, 0.008, 0.0077, 0.0075, 0.0073, 0.0067, 0.0062, 0.0062, 0.0061, 0.0057, 0.005, 0.0035, 0.003, 0.0027, 0.0026, 0.0024, 0.0022, 0.0017, 0.0005], \"textposition\": \"outside\", \"x\": [0.20928739973800692, 0.1301341342759451, 0.08953821235561264, 0.08669003798794417, 0.07830739124003877, 0.06642898616624957, 0.05242795603644953, 0.045064511250814364, 0.03772240940073414, 0.029230870858430392, 0.021351716717682982, 0.013796783362465325, 0.012548490788454863, 0.011608269758572142, 0.011172081565793652, 0.01097941817782569, 0.008856637391165632, 0.008028028000262335, 0.007699812499038225, 0.007469094574301835, 0.007302809056842402, 0.00671227500183553, 0.006205355409854048, 0.006156700608339314, 0.00608678057507078, 0.00565625726010244, 0.005015972248777473, 0.0034629917100437264, 0.0030373407973104984, 0.002687401667537062, 0.0025687334390194663, 0.0024114604898609927, 0.002208629804647229, 0.0016660484318832738, 0.00047900135308755876], \"y\": [\"script_async_true\", \"a_href_https\", \"link_href_out_of_domain\", \"div_count\", \"script_src_out_of_domain\", \"title_count\", \"br_count\", \"meta_count\", \"li_count\", \"script_src_.js\", \"a_href_http\", \"p_count\", \"script_type_text/javascript\", \"img_src_.jpg\", \"span_count\", \"link_href_http\", \"h1_count\", \"strong_count\", \"iframe_src_https\", \"link_type_text/css\", \"link_href_.css\", \"script_defer_true\", \"section_count\", \"input_count\", \"form_action_out_of_domain\", \"form_action_http\", \"b_count\", \"link_type_application/rss+xml\", \"link_href_0\", \"a_href_.com\", \"center_count\", \"link_rel_shortlink\", \"link_type_application/rsd+xml\", \"script_charset_UTF-8\", \"a_href_.aspx\"], \"type\": \"bar\", \"uid\": \"ff6b5f06-fcad-4ec9-97da-0b49db6b0e66\"}], {\"autosize\": false, \"height\": 1000, \"width\": 1000, \"xaxis\": {\"tickfont\": {\"color\": \"black\", \"size\": 12}, \"title\": \"Feature Importances\"}, \"yaxis\": {\"automargin\": true}}, {\"showLink\": true, \"linkText\": \"Export to plot.ly\", \"plotlyServerURL\": \"https://plot.ly\"})});</script>"
      ],
      "text/vnd.plotly.v1+html": [
       "<div id=\"8b560016-c569-46f5-88b3-06827429f722\" style=\"height: 1000px; width: 1000px;\" class=\"plotly-graph-div\"></div><script type=\"text/javascript\">require([\"plotly\"], function(Plotly) { window.PLOTLYENV=window.PLOTLYENV || {};window.PLOTLYENV.BASE_URL=\"https://plot.ly\";Plotly.newPlot(\"8b560016-c569-46f5-88b3-06827429f722\", [{\"marker\": {\"color\": \"rgb(158,202,225)\", \"line\": {\"color\": \"rgb(8,48,107)\", \"width\": 1.5}}, \"opacity\": 0.6, \"orientation\": \"h\", \"text\": [0.2093, 0.1301, 0.0895, 0.0867, 0.0783, 0.0664, 0.0524, 0.0451, 0.0377, 0.0292, 0.0214, 0.0138, 0.0125, 0.0116, 0.0112, 0.011, 0.0089, 0.008, 0.0077, 0.0075, 0.0073, 0.0067, 0.0062, 0.0062, 0.0061, 0.0057, 0.005, 0.0035, 0.003, 0.0027, 0.0026, 0.0024, 0.0022, 0.0017, 0.0005], \"textposition\": \"outside\", \"x\": [0.20928739973800692, 0.1301341342759451, 0.08953821235561264, 0.08669003798794417, 0.07830739124003877, 0.06642898616624957, 0.05242795603644953, 0.045064511250814364, 0.03772240940073414, 0.029230870858430392, 0.021351716717682982, 0.013796783362465325, 0.012548490788454863, 0.011608269758572142, 0.011172081565793652, 0.01097941817782569, 0.008856637391165632, 0.008028028000262335, 0.007699812499038225, 0.007469094574301835, 0.007302809056842402, 0.00671227500183553, 0.006205355409854048, 0.006156700608339314, 0.00608678057507078, 0.00565625726010244, 0.005015972248777473, 0.0034629917100437264, 0.0030373407973104984, 0.002687401667537062, 0.0025687334390194663, 0.0024114604898609927, 0.002208629804647229, 0.0016660484318832738, 0.00047900135308755876], \"y\": [\"script_async_true\", \"a_href_https\", \"link_href_out_of_domain\", \"div_count\", \"script_src_out_of_domain\", \"title_count\", \"br_count\", \"meta_count\", \"li_count\", \"script_src_.js\", \"a_href_http\", \"p_count\", \"script_type_text/javascript\", \"img_src_.jpg\", \"span_count\", \"link_href_http\", \"h1_count\", \"strong_count\", \"iframe_src_https\", \"link_type_text/css\", \"link_href_.css\", \"script_defer_true\", \"section_count\", \"input_count\", \"form_action_out_of_domain\", \"form_action_http\", \"b_count\", \"link_type_application/rss+xml\", \"link_href_0\", \"a_href_.com\", \"center_count\", \"link_rel_shortlink\", \"link_type_application/rsd+xml\", \"script_charset_UTF-8\", \"a_href_.aspx\"], \"type\": \"bar\", \"uid\": \"ff6b5f06-fcad-4ec9-97da-0b49db6b0e66\"}], {\"autosize\": false, \"height\": 1000, \"width\": 1000, \"xaxis\": {\"tickfont\": {\"color\": \"black\", \"size\": 12}, \"title\": \"Feature Importances\"}, \"yaxis\": {\"automargin\": true}}, {\"showLink\": true, \"linkText\": \"Export to plot.ly\", \"plotlyServerURL\": \"https://plot.ly\"})});</script>"
      ]
     },
     "metadata": {},
     "output_type": "display_data"
    },
    {
     "name": "stdout",
     "output_type": "stream",
     "text": [
      "\n",
      "\n",
      "\u001b[1mAdaoost Classifier\u001b[0m\n",
      "Accuracy of the model for training data is: 0.9052406453133947\n",
      "Confusion Matrix for training data is:\n"
     ]
    },
    {
     "data": {
      "text/plain": [
       "Predicted  False   True  __all__\n",
       "Actual                          \n",
       "False      25408   4283    29691\n",
       "True        1344  28347    29691\n",
       "__all__    26752  32630    59382"
      ]
     },
     "metadata": {},
     "output_type": "display_data"
    },
    {
     "name": "stdout",
     "output_type": "stream",
     "text": [
      "Accuracy of the model for test data is: 0.8592779949413658\n",
      "Confusion Matrix for test data is:\n"
     ]
    },
    {
     "data": {
      "text/plain": [
       "Predicted  False  True  __all__\n",
       "Actual                         \n",
       "False       6276  1147     7423\n",
       "True          77  1198     1275\n",
       "__all__     6353  2345     8698"
      ]
     },
     "metadata": {},
     "output_type": "display_data"
    },
    {
     "data": {
      "application/vnd.plotly.v1+json": {
       "config": {
        "linkText": "Export to plot.ly",
        "plotlyServerURL": "https://plot.ly",
        "showLink": true
       },
       "data": [
        {
         "marker": {
          "color": "rgb(158,202,225)",
          "line": {
           "color": "rgb(8,48,107)",
           "width": 1.5
          }
         },
         "opacity": 0.6,
         "orientation": "h",
         "text": [
          0.12,
          0.12,
          0.08,
          0.06,
          0.06,
          0.04,
          0.04,
          0.04,
          0.04,
          0.04,
          0.04,
          0.02,
          0.02,
          0.02,
          0.02,
          0.02,
          0.02,
          0.02,
          0.02,
          0.02,
          0.02,
          0.02,
          0.02,
          0.02,
          0.02,
          0.02,
          0.02,
          0,
          0,
          0,
          0,
          0,
          0,
          0,
          0
         ],
         "textposition": "outside",
         "type": "bar",
         "uid": "6b789a6d-effc-49fa-817a-f0a28374fd86",
         "x": [
          0.12,
          0.12,
          0.08,
          0.06,
          0.06,
          0.04,
          0.04,
          0.04,
          0.04,
          0.04,
          0.04,
          0.02,
          0.02,
          0.02,
          0.02,
          0.02,
          0.02,
          0.02,
          0.02,
          0.02,
          0.02,
          0.02,
          0.02,
          0.02,
          0.02,
          0.02,
          0.02,
          0,
          0,
          0,
          0,
          0,
          0,
          0,
          0
         ],
         "y": [
          "div_count",
          "h1_count",
          "script_async_true",
          "title_count",
          "link_href_out_of_domain",
          "br_count",
          "center_count",
          "a_href_https",
          "iframe_src_https",
          "a_href_http",
          "p_count",
          "strong_count",
          "section_count",
          "link_type_application/rsd+xml",
          "script_src_out_of_domain",
          "script_defer_true",
          "meta_count",
          "link_type_text/css",
          "script_type_text/javascript",
          "link_href_http",
          "a_href_.com",
          "link_href_0",
          "li_count",
          "img_src_.jpg",
          "form_action_out_of_domain",
          "form_action_http",
          "b_count",
          "link_rel_shortlink",
          "link_type_application/rss+xml",
          "link_href_.css",
          "script_charset_UTF-8",
          "input_count",
          "script_src_.js",
          "span_count",
          "a_href_.aspx"
         ]
        }
       ],
       "layout": {
        "autosize": false,
        "height": 1000,
        "width": 1000,
        "xaxis": {
         "tickfont": {
          "color": "black",
          "size": 12
         },
         "title": "Feature Importances"
        },
        "yaxis": {
         "automargin": true
        }
       }
      },
      "text/html": [
       "<div id=\"a18343ad-0b5a-43c4-85fa-29eac63ba5db\" style=\"height: 1000px; width: 1000px;\" class=\"plotly-graph-div\"></div><script type=\"text/javascript\">require([\"plotly\"], function(Plotly) { window.PLOTLYENV=window.PLOTLYENV || {};window.PLOTLYENV.BASE_URL=\"https://plot.ly\";Plotly.newPlot(\"a18343ad-0b5a-43c4-85fa-29eac63ba5db\", [{\"marker\": {\"color\": \"rgb(158,202,225)\", \"line\": {\"color\": \"rgb(8,48,107)\", \"width\": 1.5}}, \"opacity\": 0.6, \"orientation\": \"h\", \"text\": [0.12, 0.12, 0.08, 0.06, 0.06, 0.04, 0.04, 0.04, 0.04, 0.04, 0.04, 0.02, 0.02, 0.02, 0.02, 0.02, 0.02, 0.02, 0.02, 0.02, 0.02, 0.02, 0.02, 0.02, 0.02, 0.02, 0.02, 0.0, 0.0, 0.0, 0.0, 0.0, 0.0, 0.0, 0.0], \"textposition\": \"outside\", \"x\": [0.12, 0.12, 0.08, 0.06, 0.06, 0.04, 0.04, 0.04, 0.04, 0.04, 0.04, 0.02, 0.02, 0.02, 0.02, 0.02, 0.02, 0.02, 0.02, 0.02, 0.02, 0.02, 0.02, 0.02, 0.02, 0.02, 0.02, 0.0, 0.0, 0.0, 0.0, 0.0, 0.0, 0.0, 0.0], \"y\": [\"div_count\", \"h1_count\", \"script_async_true\", \"title_count\", \"link_href_out_of_domain\", \"br_count\", \"center_count\", \"a_href_https\", \"iframe_src_https\", \"a_href_http\", \"p_count\", \"strong_count\", \"section_count\", \"link_type_application/rsd+xml\", \"script_src_out_of_domain\", \"script_defer_true\", \"meta_count\", \"link_type_text/css\", \"script_type_text/javascript\", \"link_href_http\", \"a_href_.com\", \"link_href_0\", \"li_count\", \"img_src_.jpg\", \"form_action_out_of_domain\", \"form_action_http\", \"b_count\", \"link_rel_shortlink\", \"link_type_application/rss+xml\", \"link_href_.css\", \"script_charset_UTF-8\", \"input_count\", \"script_src_.js\", \"span_count\", \"a_href_.aspx\"], \"type\": \"bar\", \"uid\": \"6b789a6d-effc-49fa-817a-f0a28374fd86\"}], {\"autosize\": false, \"height\": 1000, \"width\": 1000, \"xaxis\": {\"tickfont\": {\"color\": \"black\", \"size\": 12}, \"title\": \"Feature Importances\"}, \"yaxis\": {\"automargin\": true}}, {\"showLink\": true, \"linkText\": \"Export to plot.ly\", \"plotlyServerURL\": \"https://plot.ly\"})});</script>"
      ],
      "text/vnd.plotly.v1+html": [
       "<div id=\"a18343ad-0b5a-43c4-85fa-29eac63ba5db\" style=\"height: 1000px; width: 1000px;\" class=\"plotly-graph-div\"></div><script type=\"text/javascript\">require([\"plotly\"], function(Plotly) { window.PLOTLYENV=window.PLOTLYENV || {};window.PLOTLYENV.BASE_URL=\"https://plot.ly\";Plotly.newPlot(\"a18343ad-0b5a-43c4-85fa-29eac63ba5db\", [{\"marker\": {\"color\": \"rgb(158,202,225)\", \"line\": {\"color\": \"rgb(8,48,107)\", \"width\": 1.5}}, \"opacity\": 0.6, \"orientation\": \"h\", \"text\": [0.12, 0.12, 0.08, 0.06, 0.06, 0.04, 0.04, 0.04, 0.04, 0.04, 0.04, 0.02, 0.02, 0.02, 0.02, 0.02, 0.02, 0.02, 0.02, 0.02, 0.02, 0.02, 0.02, 0.02, 0.02, 0.02, 0.02, 0.0, 0.0, 0.0, 0.0, 0.0, 0.0, 0.0, 0.0], \"textposition\": \"outside\", \"x\": [0.12, 0.12, 0.08, 0.06, 0.06, 0.04, 0.04, 0.04, 0.04, 0.04, 0.04, 0.02, 0.02, 0.02, 0.02, 0.02, 0.02, 0.02, 0.02, 0.02, 0.02, 0.02, 0.02, 0.02, 0.02, 0.02, 0.02, 0.0, 0.0, 0.0, 0.0, 0.0, 0.0, 0.0, 0.0], \"y\": [\"div_count\", \"h1_count\", \"script_async_true\", \"title_count\", \"link_href_out_of_domain\", \"br_count\", \"center_count\", \"a_href_https\", \"iframe_src_https\", \"a_href_http\", \"p_count\", \"strong_count\", \"section_count\", \"link_type_application/rsd+xml\", \"script_src_out_of_domain\", \"script_defer_true\", \"meta_count\", \"link_type_text/css\", \"script_type_text/javascript\", \"link_href_http\", \"a_href_.com\", \"link_href_0\", \"li_count\", \"img_src_.jpg\", \"form_action_out_of_domain\", \"form_action_http\", \"b_count\", \"link_rel_shortlink\", \"link_type_application/rss+xml\", \"link_href_.css\", \"script_charset_UTF-8\", \"input_count\", \"script_src_.js\", \"span_count\", \"a_href_.aspx\"], \"type\": \"bar\", \"uid\": \"6b789a6d-effc-49fa-817a-f0a28374fd86\"}], {\"autosize\": false, \"height\": 1000, \"width\": 1000, \"xaxis\": {\"tickfont\": {\"color\": \"black\", \"size\": 12}, \"title\": \"Feature Importances\"}, \"yaxis\": {\"automargin\": true}}, {\"showLink\": true, \"linkText\": \"Export to plot.ly\", \"plotlyServerURL\": \"https://plot.ly\"})});</script>"
      ]
     },
     "metadata": {},
     "output_type": "display_data"
    },
    {
     "name": "stdout",
     "output_type": "stream",
     "text": [
      "\n",
      "\n",
      "\u001b[1mGradientBoosting Classifier\u001b[0m\n",
      "Accuracy of the model for training data is: 0.9220302448553434\n",
      "Confusion Matrix for training data is:\n"
     ]
    },
    {
     "data": {
      "text/plain": [
       "Predicted  False   True  __all__\n",
       "Actual                          \n",
       "False      26095   3596    29691\n",
       "True        1034  28657    29691\n",
       "__all__    27129  32253    59382"
      ]
     },
     "metadata": {},
     "output_type": "display_data"
    },
    {
     "name": "stdout",
     "output_type": "stream",
     "text": [
      "Accuracy of the model for test data is: 0.879742469533226\n",
      "Confusion Matrix for test data is:\n"
     ]
    },
    {
     "data": {
      "text/plain": [
       "Predicted  False  True  __all__\n",
       "Actual                         \n",
       "False       6469   954     7423\n",
       "True          92  1183     1275\n",
       "__all__     6561  2137     8698"
      ]
     },
     "metadata": {},
     "output_type": "display_data"
    },
    {
     "data": {
      "application/vnd.plotly.v1+json": {
       "config": {
        "linkText": "Export to plot.ly",
        "plotlyServerURL": "https://plot.ly",
        "showLink": true
       },
       "data": [
        {
         "marker": {
          "color": "rgb(158,202,225)",
          "line": {
           "color": "rgb(8,48,107)",
           "width": 1.5
          }
         },
         "opacity": 0.6,
         "orientation": "h",
         "text": [
          0.3139,
          0.2829,
          0.1361,
          0.11,
          0.0185,
          0.0176,
          0.0129,
          0.0117,
          0.0114,
          0.0092,
          0.009,
          0.0082,
          0.0071,
          0.0066,
          0.0066,
          0.0063,
          0.0044,
          0.0042,
          0.0029,
          0.0028,
          0.0027,
          0.0026,
          0.0023,
          0.0021,
          0.0018,
          0.0015,
          0.0011,
          0.001,
          0.001,
          0.0006,
          0.0004,
          0.0003,
          0.0002,
          0.0001,
          0
         ],
         "textposition": "outside",
         "type": "bar",
         "uid": "11fd15be-a00f-490e-9cf2-269e41a71936",
         "x": [
          0.3139303225489921,
          0.28286174978958406,
          0.13609557547456558,
          0.10995115605782319,
          0.018520143038939833,
          0.017626510647757356,
          0.012923492909889716,
          0.011665523395367994,
          0.011445898447448127,
          0.00921032545304283,
          0.009028466149209368,
          0.008231587186827495,
          0.007092490762225619,
          0.006648179488287174,
          0.006558527087036015,
          0.006332183054073736,
          0.00442691522612289,
          0.004157218197683127,
          0.002917285277194676,
          0.0028443791315096857,
          0.0026942270205185205,
          0.0026145986270066225,
          0.0023047331376126455,
          0.002065766090436049,
          0.0018031743659979902,
          0.001515204468469664,
          0.001093494925046872,
          0.0010408000875315572,
          0.0009645846813715326,
          0.0005565237127094826,
          0.00037900615789079124,
          0.0002506016283688487,
          0.0001720608752745523,
          7.729489818449023e-05,
          0
         ],
         "y": [
          "div_count",
          "link_href_out_of_domain",
          "script_async_true",
          "meta_count",
          "a_href_https",
          "title_count",
          "script_src_.js",
          "a_href_http",
          "strong_count",
          "link_href_http",
          "form_action_out_of_domain",
          "script_defer_true",
          "script_src_out_of_domain",
          "link_type_text/css",
          "center_count",
          "iframe_src_https",
          "a_href_.com",
          "section_count",
          "link_href_0",
          "span_count",
          "form_action_http",
          "br_count",
          "link_rel_shortlink",
          "p_count",
          "link_type_application/rss+xml",
          "img_src_.jpg",
          "li_count",
          "link_type_application/rsd+xml",
          "h1_count",
          "script_charset_UTF-8",
          "b_count",
          "link_href_.css",
          "input_count",
          "script_type_text/javascript",
          "a_href_.aspx"
         ]
        }
       ],
       "layout": {
        "autosize": false,
        "height": 1000,
        "width": 1000,
        "xaxis": {
         "tickfont": {
          "color": "black",
          "size": 12
         },
         "title": "Feature Importances"
        },
        "yaxis": {
         "automargin": true
        }
       }
      },
      "text/html": [
       "<div id=\"5cc47324-fe50-4d90-8d46-604f2ebeb523\" style=\"height: 1000px; width: 1000px;\" class=\"plotly-graph-div\"></div><script type=\"text/javascript\">require([\"plotly\"], function(Plotly) { window.PLOTLYENV=window.PLOTLYENV || {};window.PLOTLYENV.BASE_URL=\"https://plot.ly\";Plotly.newPlot(\"5cc47324-fe50-4d90-8d46-604f2ebeb523\", [{\"marker\": {\"color\": \"rgb(158,202,225)\", \"line\": {\"color\": \"rgb(8,48,107)\", \"width\": 1.5}}, \"opacity\": 0.6, \"orientation\": \"h\", \"text\": [0.3139, 0.2829, 0.1361, 0.11, 0.0185, 0.0176, 0.0129, 0.0117, 0.0114, 0.0092, 0.009, 0.0082, 0.0071, 0.0066, 0.0066, 0.0063, 0.0044, 0.0042, 0.0029, 0.0028, 0.0027, 0.0026, 0.0023, 0.0021, 0.0018, 0.0015, 0.0011, 0.001, 0.001, 0.0006, 0.0004, 0.0003, 0.0002, 0.0001, 0.0], \"textposition\": \"outside\", \"x\": [0.3139303225489921, 0.28286174978958406, 0.13609557547456558, 0.10995115605782319, 0.018520143038939833, 0.017626510647757356, 0.012923492909889716, 0.011665523395367994, 0.011445898447448127, 0.00921032545304283, 0.009028466149209368, 0.008231587186827495, 0.007092490762225619, 0.006648179488287174, 0.006558527087036015, 0.006332183054073736, 0.00442691522612289, 0.004157218197683127, 0.002917285277194676, 0.0028443791315096857, 0.0026942270205185205, 0.0026145986270066225, 0.0023047331376126455, 0.002065766090436049, 0.0018031743659979902, 0.001515204468469664, 0.001093494925046872, 0.0010408000875315572, 0.0009645846813715326, 0.0005565237127094826, 0.00037900615789079124, 0.0002506016283688487, 0.0001720608752745523, 7.729489818449023e-05, 0.0], \"y\": [\"div_count\", \"link_href_out_of_domain\", \"script_async_true\", \"meta_count\", \"a_href_https\", \"title_count\", \"script_src_.js\", \"a_href_http\", \"strong_count\", \"link_href_http\", \"form_action_out_of_domain\", \"script_defer_true\", \"script_src_out_of_domain\", \"link_type_text/css\", \"center_count\", \"iframe_src_https\", \"a_href_.com\", \"section_count\", \"link_href_0\", \"span_count\", \"form_action_http\", \"br_count\", \"link_rel_shortlink\", \"p_count\", \"link_type_application/rss+xml\", \"img_src_.jpg\", \"li_count\", \"link_type_application/rsd+xml\", \"h1_count\", \"script_charset_UTF-8\", \"b_count\", \"link_href_.css\", \"input_count\", \"script_type_text/javascript\", \"a_href_.aspx\"], \"type\": \"bar\", \"uid\": \"11fd15be-a00f-490e-9cf2-269e41a71936\"}], {\"autosize\": false, \"height\": 1000, \"width\": 1000, \"xaxis\": {\"tickfont\": {\"color\": \"black\", \"size\": 12}, \"title\": \"Feature Importances\"}, \"yaxis\": {\"automargin\": true}}, {\"showLink\": true, \"linkText\": \"Export to plot.ly\", \"plotlyServerURL\": \"https://plot.ly\"})});</script>"
      ],
      "text/vnd.plotly.v1+html": [
       "<div id=\"5cc47324-fe50-4d90-8d46-604f2ebeb523\" style=\"height: 1000px; width: 1000px;\" class=\"plotly-graph-div\"></div><script type=\"text/javascript\">require([\"plotly\"], function(Plotly) { window.PLOTLYENV=window.PLOTLYENV || {};window.PLOTLYENV.BASE_URL=\"https://plot.ly\";Plotly.newPlot(\"5cc47324-fe50-4d90-8d46-604f2ebeb523\", [{\"marker\": {\"color\": \"rgb(158,202,225)\", \"line\": {\"color\": \"rgb(8,48,107)\", \"width\": 1.5}}, \"opacity\": 0.6, \"orientation\": \"h\", \"text\": [0.3139, 0.2829, 0.1361, 0.11, 0.0185, 0.0176, 0.0129, 0.0117, 0.0114, 0.0092, 0.009, 0.0082, 0.0071, 0.0066, 0.0066, 0.0063, 0.0044, 0.0042, 0.0029, 0.0028, 0.0027, 0.0026, 0.0023, 0.0021, 0.0018, 0.0015, 0.0011, 0.001, 0.001, 0.0006, 0.0004, 0.0003, 0.0002, 0.0001, 0.0], \"textposition\": \"outside\", \"x\": [0.3139303225489921, 0.28286174978958406, 0.13609557547456558, 0.10995115605782319, 0.018520143038939833, 0.017626510647757356, 0.012923492909889716, 0.011665523395367994, 0.011445898447448127, 0.00921032545304283, 0.009028466149209368, 0.008231587186827495, 0.007092490762225619, 0.006648179488287174, 0.006558527087036015, 0.006332183054073736, 0.00442691522612289, 0.004157218197683127, 0.002917285277194676, 0.0028443791315096857, 0.0026942270205185205, 0.0026145986270066225, 0.0023047331376126455, 0.002065766090436049, 0.0018031743659979902, 0.001515204468469664, 0.001093494925046872, 0.0010408000875315572, 0.0009645846813715326, 0.0005565237127094826, 0.00037900615789079124, 0.0002506016283688487, 0.0001720608752745523, 7.729489818449023e-05, 0.0], \"y\": [\"div_count\", \"link_href_out_of_domain\", \"script_async_true\", \"meta_count\", \"a_href_https\", \"title_count\", \"script_src_.js\", \"a_href_http\", \"strong_count\", \"link_href_http\", \"form_action_out_of_domain\", \"script_defer_true\", \"script_src_out_of_domain\", \"link_type_text/css\", \"center_count\", \"iframe_src_https\", \"a_href_.com\", \"section_count\", \"link_href_0\", \"span_count\", \"form_action_http\", \"br_count\", \"link_rel_shortlink\", \"p_count\", \"link_type_application/rss+xml\", \"img_src_.jpg\", \"li_count\", \"link_type_application/rsd+xml\", \"h1_count\", \"script_charset_UTF-8\", \"b_count\", \"link_href_.css\", \"input_count\", \"script_type_text/javascript\", \"a_href_.aspx\"], \"type\": \"bar\", \"uid\": \"11fd15be-a00f-490e-9cf2-269e41a71936\"}], {\"autosize\": false, \"height\": 1000, \"width\": 1000, \"xaxis\": {\"tickfont\": {\"color\": \"black\", \"size\": 12}, \"title\": \"Feature Importances\"}, \"yaxis\": {\"automargin\": true}}, {\"showLink\": true, \"linkText\": \"Export to plot.ly\", \"plotlyServerURL\": \"https://plot.ly\"})});</script>"
      ]
     },
     "metadata": {},
     "output_type": "display_data"
    },
    {
     "name": "stdout",
     "output_type": "stream",
     "text": [
      "\n",
      "\n",
      "\u001b[1mExtraTree Classifier\u001b[0m\n",
      "Accuracy of the model for training data is: 0.9477619480650702\n",
      "Confusion Matrix for training data is:\n"
     ]
    },
    {
     "data": {
      "text/plain": [
       "Predicted  False   True  __all__\n",
       "Actual                          \n",
       "False      26976   2715    29691\n",
       "True         387  29304    29691\n",
       "__all__    27363  32019    59382"
      ]
     },
     "metadata": {},
     "output_type": "display_data"
    },
    {
     "name": "stdout",
     "output_type": "stream",
     "text": [
      "Accuracy of the model for test data is: 0.9030811680846171\n",
      "Confusion Matrix for test data is:\n"
     ]
    },
    {
     "data": {
      "text/plain": [
       "Predicted  False  True  __all__\n",
       "Actual                         \n",
       "False       6691   732     7423\n",
       "True         111  1164     1275\n",
       "__all__     6802  1896     8698"
      ]
     },
     "metadata": {},
     "output_type": "display_data"
    },
    {
     "data": {
      "application/vnd.plotly.v1+json": {
       "config": {
        "linkText": "Export to plot.ly",
        "plotlyServerURL": "https://plot.ly",
        "showLink": true
       },
       "data": [
        {
         "marker": {
          "color": "rgb(158,202,225)",
          "line": {
           "color": "rgb(8,48,107)",
           "width": 1.5
          }
         },
         "opacity": 0.6,
         "orientation": "h",
         "text": [
          0.1237,
          0.0946,
          0.0755,
          0.0639,
          0.0587,
          0.0576,
          0.0503,
          0.043,
          0.0376,
          0.0345,
          0.0331,
          0.028,
          0.0231,
          0.0199,
          0.0198,
          0.019,
          0.0177,
          0.0176,
          0.0172,
          0.0169,
          0.0167,
          0.0165,
          0.0153,
          0.0145,
          0.013,
          0.0125,
          0.0121,
          0.0102,
          0.007,
          0.0069,
          0.0061,
          0.006,
          0.005,
          0.005,
          0.0015
         ],
         "textposition": "outside",
         "type": "bar",
         "uid": "5c40b8b5-8663-4bd9-91d9-77e7df544b28",
         "x": [
          0.12374823235990667,
          0.09463765829092234,
          0.07550793045584352,
          0.0639279451917122,
          0.058703361230448246,
          0.05761305128421555,
          0.05033365044073877,
          0.042985239848643664,
          0.03761215620774042,
          0.03446604808412648,
          0.03314390252413983,
          0.028025664320272602,
          0.0231384781036178,
          0.0198861280124854,
          0.019754766836363458,
          0.01904760691528595,
          0.017746098008398187,
          0.017591359565565155,
          0.017221389565335154,
          0.016876139298442464,
          0.016650838043847958,
          0.016457204992511115,
          0.015269348610254882,
          0.014451146385875654,
          0.012970495454230844,
          0.012522676382655716,
          0.012136635029161283,
          0.010188569611823102,
          0.007000698510944848,
          0.006851248546096974,
          0.006075010411844972,
          0.005997210676817919,
          0.0049896061895613976,
          0.004979816548842648,
          0.0014926880613269668
         ],
         "y": [
          "script_async_true",
          "script_src_.js",
          "script_src_out_of_domain",
          "li_count",
          "img_src_.jpg",
          "link_type_text/css",
          "script_type_text/javascript",
          "iframe_src_https",
          "br_count",
          "link_href_.css",
          "span_count",
          "a_href_https",
          "a_href_http",
          "div_count",
          "p_count",
          "form_action_http",
          "link_href_0",
          "meta_count",
          "form_action_out_of_domain",
          "link_href_http",
          "title_count",
          "b_count",
          "link_href_out_of_domain",
          "section_count",
          "script_charset_UTF-8",
          "link_type_application/rsd+xml",
          "h1_count",
          "input_count",
          "strong_count",
          "script_defer_true",
          "center_count",
          "a_href_.com",
          "link_type_application/rss+xml",
          "link_rel_shortlink",
          "a_href_.aspx"
         ]
        }
       ],
       "layout": {
        "autosize": false,
        "height": 1000,
        "width": 1000,
        "xaxis": {
         "tickfont": {
          "color": "black",
          "size": 12
         },
         "title": "Feature Importances"
        },
        "yaxis": {
         "automargin": true
        }
       }
      },
      "text/html": [
       "<div id=\"5c0c0d6d-9182-4962-a325-450bae113b8b\" style=\"height: 1000px; width: 1000px;\" class=\"plotly-graph-div\"></div><script type=\"text/javascript\">require([\"plotly\"], function(Plotly) { window.PLOTLYENV=window.PLOTLYENV || {};window.PLOTLYENV.BASE_URL=\"https://plot.ly\";Plotly.newPlot(\"5c0c0d6d-9182-4962-a325-450bae113b8b\", [{\"marker\": {\"color\": \"rgb(158,202,225)\", \"line\": {\"color\": \"rgb(8,48,107)\", \"width\": 1.5}}, \"opacity\": 0.6, \"orientation\": \"h\", \"text\": [0.1237, 0.0946, 0.0755, 0.0639, 0.0587, 0.0576, 0.0503, 0.043, 0.0376, 0.0345, 0.0331, 0.028, 0.0231, 0.0199, 0.0198, 0.019, 0.0177, 0.0176, 0.0172, 0.0169, 0.0167, 0.0165, 0.0153, 0.0145, 0.013, 0.0125, 0.0121, 0.0102, 0.007, 0.0069, 0.0061, 0.006, 0.005, 0.005, 0.0015], \"textposition\": \"outside\", \"x\": [0.12374823235990667, 0.09463765829092234, 0.07550793045584352, 0.0639279451917122, 0.058703361230448246, 0.05761305128421555, 0.05033365044073877, 0.042985239848643664, 0.03761215620774042, 0.03446604808412648, 0.03314390252413983, 0.028025664320272602, 0.0231384781036178, 0.0198861280124854, 0.019754766836363458, 0.01904760691528595, 0.017746098008398187, 0.017591359565565155, 0.017221389565335154, 0.016876139298442464, 0.016650838043847958, 0.016457204992511115, 0.015269348610254882, 0.014451146385875654, 0.012970495454230844, 0.012522676382655716, 0.012136635029161283, 0.010188569611823102, 0.007000698510944848, 0.006851248546096974, 0.006075010411844972, 0.005997210676817919, 0.0049896061895613976, 0.004979816548842648, 0.0014926880613269668], \"y\": [\"script_async_true\", \"script_src_.js\", \"script_src_out_of_domain\", \"li_count\", \"img_src_.jpg\", \"link_type_text/css\", \"script_type_text/javascript\", \"iframe_src_https\", \"br_count\", \"link_href_.css\", \"span_count\", \"a_href_https\", \"a_href_http\", \"div_count\", \"p_count\", \"form_action_http\", \"link_href_0\", \"meta_count\", \"form_action_out_of_domain\", \"link_href_http\", \"title_count\", \"b_count\", \"link_href_out_of_domain\", \"section_count\", \"script_charset_UTF-8\", \"link_type_application/rsd+xml\", \"h1_count\", \"input_count\", \"strong_count\", \"script_defer_true\", \"center_count\", \"a_href_.com\", \"link_type_application/rss+xml\", \"link_rel_shortlink\", \"a_href_.aspx\"], \"type\": \"bar\", \"uid\": \"5c40b8b5-8663-4bd9-91d9-77e7df544b28\"}], {\"autosize\": false, \"height\": 1000, \"width\": 1000, \"xaxis\": {\"tickfont\": {\"color\": \"black\", \"size\": 12}, \"title\": \"Feature Importances\"}, \"yaxis\": {\"automargin\": true}}, {\"showLink\": true, \"linkText\": \"Export to plot.ly\", \"plotlyServerURL\": \"https://plot.ly\"})});</script>"
      ],
      "text/vnd.plotly.v1+html": [
       "<div id=\"5c0c0d6d-9182-4962-a325-450bae113b8b\" style=\"height: 1000px; width: 1000px;\" class=\"plotly-graph-div\"></div><script type=\"text/javascript\">require([\"plotly\"], function(Plotly) { window.PLOTLYENV=window.PLOTLYENV || {};window.PLOTLYENV.BASE_URL=\"https://plot.ly\";Plotly.newPlot(\"5c0c0d6d-9182-4962-a325-450bae113b8b\", [{\"marker\": {\"color\": \"rgb(158,202,225)\", \"line\": {\"color\": \"rgb(8,48,107)\", \"width\": 1.5}}, \"opacity\": 0.6, \"orientation\": \"h\", \"text\": [0.1237, 0.0946, 0.0755, 0.0639, 0.0587, 0.0576, 0.0503, 0.043, 0.0376, 0.0345, 0.0331, 0.028, 0.0231, 0.0199, 0.0198, 0.019, 0.0177, 0.0176, 0.0172, 0.0169, 0.0167, 0.0165, 0.0153, 0.0145, 0.013, 0.0125, 0.0121, 0.0102, 0.007, 0.0069, 0.0061, 0.006, 0.005, 0.005, 0.0015], \"textposition\": \"outside\", \"x\": [0.12374823235990667, 0.09463765829092234, 0.07550793045584352, 0.0639279451917122, 0.058703361230448246, 0.05761305128421555, 0.05033365044073877, 0.042985239848643664, 0.03761215620774042, 0.03446604808412648, 0.03314390252413983, 0.028025664320272602, 0.0231384781036178, 0.0198861280124854, 0.019754766836363458, 0.01904760691528595, 0.017746098008398187, 0.017591359565565155, 0.017221389565335154, 0.016876139298442464, 0.016650838043847958, 0.016457204992511115, 0.015269348610254882, 0.014451146385875654, 0.012970495454230844, 0.012522676382655716, 0.012136635029161283, 0.010188569611823102, 0.007000698510944848, 0.006851248546096974, 0.006075010411844972, 0.005997210676817919, 0.0049896061895613976, 0.004979816548842648, 0.0014926880613269668], \"y\": [\"script_async_true\", \"script_src_.js\", \"script_src_out_of_domain\", \"li_count\", \"img_src_.jpg\", \"link_type_text/css\", \"script_type_text/javascript\", \"iframe_src_https\", \"br_count\", \"link_href_.css\", \"span_count\", \"a_href_https\", \"a_href_http\", \"div_count\", \"p_count\", \"form_action_http\", \"link_href_0\", \"meta_count\", \"form_action_out_of_domain\", \"link_href_http\", \"title_count\", \"b_count\", \"link_href_out_of_domain\", \"section_count\", \"script_charset_UTF-8\", \"link_type_application/rsd+xml\", \"h1_count\", \"input_count\", \"strong_count\", \"script_defer_true\", \"center_count\", \"a_href_.com\", \"link_type_application/rss+xml\", \"link_rel_shortlink\", \"a_href_.aspx\"], \"type\": \"bar\", \"uid\": \"5c40b8b5-8663-4bd9-91d9-77e7df544b28\"}], {\"autosize\": false, \"height\": 1000, \"width\": 1000, \"xaxis\": {\"tickfont\": {\"color\": \"black\", \"size\": 12}, \"title\": \"Feature Importances\"}, \"yaxis\": {\"automargin\": true}}, {\"showLink\": true, \"linkText\": \"Export to plot.ly\", \"plotlyServerURL\": \"https://plot.ly\"})});</script>"
      ]
     },
     "metadata": {},
     "output_type": "display_data"
    },
    {
     "name": "stdout",
     "output_type": "stream",
     "text": [
      "\n",
      "\n",
      "\u001b[1mBagging Classifier\u001b[0m\n",
      "Accuracy of the model for training data is: 0.947088343269004\n",
      "Confusion Matrix for training data is:\n"
     ]
    },
    {
     "data": {
      "text/plain": [
       "Predicted  False   True  __all__\n",
       "Actual                          \n",
       "False      26971   2720    29691\n",
       "True         422  29269    29691\n",
       "__all__    27393  31989    59382"
      ]
     },
     "metadata": {},
     "output_type": "display_data"
    },
    {
     "name": "stdout",
     "output_type": "stream",
     "text": [
      "Accuracy of the model for test data is: 0.9023913543343297\n",
      "Confusion Matrix for test data is:\n"
     ]
    },
    {
     "data": {
      "text/plain": [
       "Predicted  False  True  __all__\n",
       "Actual                         \n",
       "False       6674   749     7423\n",
       "True         100  1175     1275\n",
       "__all__     6774  1924     8698"
      ]
     },
     "metadata": {},
     "output_type": "display_data"
    },
    {
     "name": "stdout",
     "output_type": "stream",
     "text": [
      "\n",
      "\n",
      "\u001b[1mNeural Network-1\u001b[0m\n",
      "The accuracy of the model on training data is: 0.9340204102192983\n"
     ]
    },
    {
     "data": {
      "text/plain": [
       "Predicted  False   True  __all__\n",
       "Actual                          \n",
       "False      26193   3498    29691\n",
       "True         420  29271    29691\n",
       "__all__    26613  32769    59382"
      ]
     },
     "metadata": {},
     "output_type": "display_data"
    },
    {
     "name": "stdout",
     "output_type": "stream",
     "text": [
      "The accuracy of the model on test data is: 0.8736491147390205\n"
     ]
    },
    {
     "data": {
      "text/plain": [
       "Predicted  False  True  __all__\n",
       "Actual                         \n",
       "False       6404  1019     7423\n",
       "True          80  1195     1275\n",
       "__all__     6484  2214     8698"
      ]
     },
     "metadata": {},
     "output_type": "display_data"
    },
    {
     "name": "stdout",
     "output_type": "stream",
     "text": [
      "\n",
      "\n"
     ]
    }
   ],
   "source": [
    "## Table to store training and test measures so we can compare later\n",
    "table_80_80_train=pd.DataFrame(columns=['accuracy','TP','TN','FP','FN','FPR','FNR'])\n",
    "table_80_80_test=pd.DataFrame(columns=['accuracy','TP','TN','FP','FN','FPR','FNR','auc','mcc'])\n",
    "\n",
    "feat_imp=[None]*4\n",
    "j=0\n",
    "for i in range(0,8):\n",
    "    if i>=2 and i<=5:\n",
    "        model,cm_train,cm_test,acc_train,acc_test,roc_auc,feat_imp[j],mcc=f[i](X_train,Y_train,scaled_X_test,test_Y,columns)\n",
    "        j=j+1\n",
    "    else:\n",
    "        model,cm_train,cm_test,acc_train,acc_test,roc_auc,mcc=f[i](X_train,Y_train,scaled_X_test,test_Y)\n",
    "    table_80_80_train.loc[i]=   ([acc_train,cm_train.TP,cm_train.TN,cm_train.FP,cm_train.FN,cm_train.FPR,cm_train.FNR])\n",
    "    table_80_80_test.loc[i] =   ([acc_test ,cm_test.TP, cm_test.TN, cm_test.FP, cm_test.FN, cm_test.FPR, cm_test.FNR,roc_auc,mcc])\n",
    "    print(\"\\n\")"
   ]
  },
  {
   "cell_type": "markdown",
   "metadata": {},
   "source": [
    "### <a id='2.A' style=\"text-decoration : none; color : #000000;\"> A Results</a>"
   ]
  },
  {
   "cell_type": "code",
   "execution_count": 68,
   "metadata": {},
   "outputs": [
    {
     "data": {
      "application/vnd.plotly.v1+json": {
       "config": {
        "linkText": "Export to plot.ly",
        "plotlyServerURL": "https://plot.ly",
        "showLink": true
       },
       "data": [
        {
         "mode": "lines",
         "name": "KNN_model",
         "type": "scatter",
         "uid": "10ace741-4f6e-4ecb-94d1-6c15749d2bdf",
         "x": [
          "accuracy",
          "FPR",
          "FNR",
          "auc"
         ],
         "y": [
          0.8492756955621982,
          0.03650815034352688,
          0.8156862745098039,
          0.5739027875733347
         ]
        },
        {
         "mode": "lines+markers",
         "name": "Logistic Regression",
         "type": "scatter",
         "uid": "86b44b40-ca18-4f03-afa0-d3a9167fb06c",
         "x": [
          "accuracy",
          "FPR",
          "FNR",
          "auc"
         ],
         "y": [
          0.8313405380547252,
          0.19035430418968072,
          0.042352941176470586,
          0.8836463773169243
         ]
        },
        {
         "marker": {
          "symbol": "x"
         },
         "mode": "lines+markers",
         "name": "Random Forest",
         "type": "scatter",
         "uid": "2297a80d-d709-46e0-a7f3-3ecc05f49744",
         "x": [
          "accuracy",
          "FPR",
          "FNR",
          "auc"
         ],
         "y": [
          0.9036560128765233,
          0.09901657011989762,
          0.08078431372549019,
          0.9100995580773061
         ]
        },
        {
         "mode": "lines",
         "name": "Ada Boost",
         "type": "scatter",
         "uid": "c2620f58-cd6a-4196-a46b-e0ad057bea59",
         "x": [
          "accuracy",
          "FPR",
          "FNR",
          "auc"
         ],
         "y": [
          0.8592779949413658,
          0.154519735955813,
          0.0603921568627451,
          0.8925440535907209
         ]
        },
        {
         "mode": "lines+markers",
         "name": "GradientBoosting",
         "type": "scatter",
         "uid": "305f6df1-1040-4451-8c47-08188ea324b0",
         "x": [
          "accuracy",
          "FPR",
          "FNR",
          "auc"
         ],
         "y": [
          0.879742469533226,
          0.12851946652296914,
          0.07215686274509804,
          0.8996618353659663
         ]
        },
        {
         "marker": {
          "symbol": "x"
         },
         "mode": "lines+markers",
         "name": "ExtraTree Classifier",
         "type": "scatter",
         "uid": "bceb9333-201d-4dea-b065-264189fe6b52",
         "x": [
          "accuracy",
          "FPR",
          "FNR",
          "auc"
         ],
         "y": [
          0.9030811680846171,
          0.09861242085410211,
          0.08705882352941176,
          0.907164377808243
         ]
        },
        {
         "marker": {
          "symbol": "x"
         },
         "mode": "lines+markers",
         "name": "Bagging",
         "type": "scatter",
         "uid": "b16ced6f-9cb7-4121-a3f0-b2a5c4c71526",
         "x": [
          "accuracy",
          "FPR",
          "FNR",
          "auc"
         ],
         "y": [
          0.9023913543343297,
          0.10090260002694329,
          0.0784313725490196,
          0.9103330137120185
         ]
        },
        {
         "marker": {
          "symbol": "x"
         },
         "mode": "lines+markers",
         "name": "Neural Network",
         "type": "scatter",
         "uid": "36cb3055-3f04-4d66-bd47-9b6d1e230af1",
         "x": [
          "accuracy",
          "FPR",
          "FNR",
          "auc"
         ],
         "y": [
          0.8736491147390205,
          0.13727603394853832,
          0.06274509803921569,
          0.899989434006123
         ]
        }
       ],
       "layout": {
        "title": "Result comparision for Features selected in Section 1",
        "yaxis": {
         "dtick": 0.05,
         "tick0": 0
        }
       }
      },
      "text/html": [
       "<div id=\"3504fbfa-f79b-4b27-b718-ed870708797f\" style=\"height: 525px; width: 100%;\" class=\"plotly-graph-div\"></div><script type=\"text/javascript\">require([\"plotly\"], function(Plotly) { window.PLOTLYENV=window.PLOTLYENV || {};window.PLOTLYENV.BASE_URL=\"https://plot.ly\";Plotly.newPlot(\"3504fbfa-f79b-4b27-b718-ed870708797f\", [{\"mode\": \"lines\", \"name\": \"KNN_model\", \"x\": [\"accuracy\", \"FPR\", \"FNR\", \"auc\"], \"y\": [0.8492756955621982, 0.03650815034352688, 0.8156862745098039, 0.5739027875733347], \"type\": \"scatter\", \"uid\": \"10ace741-4f6e-4ecb-94d1-6c15749d2bdf\"}, {\"mode\": \"lines+markers\", \"name\": \"Logistic Regression\", \"x\": [\"accuracy\", \"FPR\", \"FNR\", \"auc\"], \"y\": [0.8313405380547252, 0.19035430418968072, 0.042352941176470586, 0.8836463773169243], \"type\": \"scatter\", \"uid\": \"86b44b40-ca18-4f03-afa0-d3a9167fb06c\"}, {\"marker\": {\"symbol\": \"x\"}, \"mode\": \"lines+markers\", \"name\": \"Random Forest\", \"x\": [\"accuracy\", \"FPR\", \"FNR\", \"auc\"], \"y\": [0.9036560128765233, 0.09901657011989762, 0.08078431372549019, 0.9100995580773061], \"type\": \"scatter\", \"uid\": \"2297a80d-d709-46e0-a7f3-3ecc05f49744\"}, {\"mode\": \"lines\", \"name\": \"Ada Boost\", \"x\": [\"accuracy\", \"FPR\", \"FNR\", \"auc\"], \"y\": [0.8592779949413658, 0.154519735955813, 0.0603921568627451, 0.8925440535907209], \"type\": \"scatter\", \"uid\": \"c2620f58-cd6a-4196-a46b-e0ad057bea59\"}, {\"mode\": \"lines+markers\", \"name\": \"GradientBoosting\", \"x\": [\"accuracy\", \"FPR\", \"FNR\", \"auc\"], \"y\": [0.879742469533226, 0.12851946652296914, 0.07215686274509804, 0.8996618353659663], \"type\": \"scatter\", \"uid\": \"305f6df1-1040-4451-8c47-08188ea324b0\"}, {\"marker\": {\"symbol\": \"x\"}, \"mode\": \"lines+markers\", \"name\": \"ExtraTree Classifier\", \"x\": [\"accuracy\", \"FPR\", \"FNR\", \"auc\"], \"y\": [0.9030811680846171, 0.09861242085410211, 0.08705882352941176, 0.907164377808243], \"type\": \"scatter\", \"uid\": \"bceb9333-201d-4dea-b065-264189fe6b52\"}, {\"marker\": {\"symbol\": \"x\"}, \"mode\": \"lines+markers\", \"name\": \"Bagging\", \"x\": [\"accuracy\", \"FPR\", \"FNR\", \"auc\"], \"y\": [0.9023913543343297, 0.10090260002694329, 0.0784313725490196, 0.9103330137120185], \"type\": \"scatter\", \"uid\": \"b16ced6f-9cb7-4121-a3f0-b2a5c4c71526\"}, {\"marker\": {\"symbol\": \"x\"}, \"mode\": \"lines+markers\", \"name\": \"Neural Network\", \"x\": [\"accuracy\", \"FPR\", \"FNR\", \"auc\"], \"y\": [0.8736491147390205, 0.13727603394853832, 0.06274509803921569, 0.899989434006123], \"type\": \"scatter\", \"uid\": \"36cb3055-3f04-4d66-bd47-9b6d1e230af1\"}], {\"title\": \"Result comparision for Features selected in Section 1\", \"yaxis\": {\"dtick\": 0.05, \"tick0\": 0}}, {\"showLink\": true, \"linkText\": \"Export to plot.ly\", \"plotlyServerURL\": \"https://plot.ly\"})});</script><script type=\"text/javascript\">window.addEventListener(\"resize\", function(){window._Plotly.Plots.resize(document.getElementById(\"3504fbfa-f79b-4b27-b718-ed870708797f\"));});</script>"
      ],
      "text/vnd.plotly.v1+html": [
       "<div id=\"3504fbfa-f79b-4b27-b718-ed870708797f\" style=\"height: 525px; width: 100%;\" class=\"plotly-graph-div\"></div><script type=\"text/javascript\">require([\"plotly\"], function(Plotly) { window.PLOTLYENV=window.PLOTLYENV || {};window.PLOTLYENV.BASE_URL=\"https://plot.ly\";Plotly.newPlot(\"3504fbfa-f79b-4b27-b718-ed870708797f\", [{\"mode\": \"lines\", \"name\": \"KNN_model\", \"x\": [\"accuracy\", \"FPR\", \"FNR\", \"auc\"], \"y\": [0.8492756955621982, 0.03650815034352688, 0.8156862745098039, 0.5739027875733347], \"type\": \"scatter\", \"uid\": \"10ace741-4f6e-4ecb-94d1-6c15749d2bdf\"}, {\"mode\": \"lines+markers\", \"name\": \"Logistic Regression\", \"x\": [\"accuracy\", \"FPR\", \"FNR\", \"auc\"], \"y\": [0.8313405380547252, 0.19035430418968072, 0.042352941176470586, 0.8836463773169243], \"type\": \"scatter\", \"uid\": \"86b44b40-ca18-4f03-afa0-d3a9167fb06c\"}, {\"marker\": {\"symbol\": \"x\"}, \"mode\": \"lines+markers\", \"name\": \"Random Forest\", \"x\": [\"accuracy\", \"FPR\", \"FNR\", \"auc\"], \"y\": [0.9036560128765233, 0.09901657011989762, 0.08078431372549019, 0.9100995580773061], \"type\": \"scatter\", \"uid\": \"2297a80d-d709-46e0-a7f3-3ecc05f49744\"}, {\"mode\": \"lines\", \"name\": \"Ada Boost\", \"x\": [\"accuracy\", \"FPR\", \"FNR\", \"auc\"], \"y\": [0.8592779949413658, 0.154519735955813, 0.0603921568627451, 0.8925440535907209], \"type\": \"scatter\", \"uid\": \"c2620f58-cd6a-4196-a46b-e0ad057bea59\"}, {\"mode\": \"lines+markers\", \"name\": \"GradientBoosting\", \"x\": [\"accuracy\", \"FPR\", \"FNR\", \"auc\"], \"y\": [0.879742469533226, 0.12851946652296914, 0.07215686274509804, 0.8996618353659663], \"type\": \"scatter\", \"uid\": \"305f6df1-1040-4451-8c47-08188ea324b0\"}, {\"marker\": {\"symbol\": \"x\"}, \"mode\": \"lines+markers\", \"name\": \"ExtraTree Classifier\", \"x\": [\"accuracy\", \"FPR\", \"FNR\", \"auc\"], \"y\": [0.9030811680846171, 0.09861242085410211, 0.08705882352941176, 0.907164377808243], \"type\": \"scatter\", \"uid\": \"bceb9333-201d-4dea-b065-264189fe6b52\"}, {\"marker\": {\"symbol\": \"x\"}, \"mode\": \"lines+markers\", \"name\": \"Bagging\", \"x\": [\"accuracy\", \"FPR\", \"FNR\", \"auc\"], \"y\": [0.9023913543343297, 0.10090260002694329, 0.0784313725490196, 0.9103330137120185], \"type\": \"scatter\", \"uid\": \"b16ced6f-9cb7-4121-a3f0-b2a5c4c71526\"}, {\"marker\": {\"symbol\": \"x\"}, \"mode\": \"lines+markers\", \"name\": \"Neural Network\", \"x\": [\"accuracy\", \"FPR\", \"FNR\", \"auc\"], \"y\": [0.8736491147390205, 0.13727603394853832, 0.06274509803921569, 0.899989434006123], \"type\": \"scatter\", \"uid\": \"36cb3055-3f04-4d66-bd47-9b6d1e230af1\"}], {\"title\": \"Result comparision for Features selected in Section 1\", \"yaxis\": {\"dtick\": 0.05, \"tick0\": 0}}, {\"showLink\": true, \"linkText\": \"Export to plot.ly\", \"plotlyServerURL\": \"https://plot.ly\"})});</script><script type=\"text/javascript\">window.addEventListener(\"resize\", function(){window._Plotly.Plots.resize(document.getElementById(\"3504fbfa-f79b-4b27-b718-ed870708797f\"));});</script>"
      ]
     },
     "metadata": {},
     "output_type": "display_data"
    }
   ],
   "source": [
    "trace0 = go.Scatter(x=table_80_80_test.iloc[0].index.values[[0,5,6,7]],\n",
    "                    y=table_80_80_test.iloc[0].values[[0,5,6,7]],\n",
    "                    mode = 'lines',\n",
    "                    name = 'KNN_model')\n",
    "\n",
    "trace1 = go.Scatter(x=table_80_80_test.iloc[1].index.values[[0,5,6,7]],\n",
    "                    y=table_80_80_test.iloc[1].values[[0,5,6,7]],\n",
    "                    mode = 'lines+markers',\n",
    "                    name = 'Logistic Regression')\n",
    "\n",
    "trace2 = go.Scatter(x=table_80_80_test.iloc[2].index.values[[0,5,6,7]],\n",
    "                    y=table_80_80_test.iloc[2].values[[0,5,6,7]],\n",
    "                    mode = 'lines+markers',marker=dict(symbol='x'),\n",
    "                    name = 'Random Forest')\n",
    "\n",
    "\n",
    "trace3 = go.Scatter(x=table_80_80_test.iloc[3].index.values[[0,5,6,7]],\n",
    "                    y=table_80_80_test.iloc[3].values[[0,5,6,7]],\n",
    "                    mode = 'lines',\n",
    "                    name = 'Ada Boost')\n",
    "\n",
    "trace4 = go.Scatter(x=table_80_80_test.iloc[4].index.values[[0,5,6,7]],\n",
    "                    y=table_80_80_test.iloc[4].values[[0,5,6,7]],\n",
    "                    mode = 'lines+markers',\n",
    "                    name = 'GradientBoosting')\n",
    "\n",
    "trace5 = go.Scatter(x=table_80_80_test.iloc[5].index.values[[0,5,6,7]],\n",
    "                    y=table_80_80_test.iloc[5].values[[0,5,6,7]],\n",
    "                    mode = 'lines+markers',marker=dict(symbol='x'),\n",
    "                    name = 'ExtraTree Classifier')\n",
    "\n",
    "trace6 = go.Scatter(x=table_80_80_test.iloc[6].index.values[[0,5,6,7]],\n",
    "                    y=table_80_80_test.iloc[6].values[[0,5,6,7]],\n",
    "                    mode = 'lines+markers',marker=dict(symbol='x'),\n",
    "                    name = 'Bagging')\n",
    "\n",
    "trace7 = go.Scatter(x=table_80_80_test.iloc[7].index.values[[0,5,6,7]],\n",
    "                    y=table_80_80_test.iloc[7].values[[0,5,6,7]],\n",
    "                    mode = 'lines+markers',marker=dict(symbol='x'),\n",
    "                    name = 'Neural Network')\n",
    "\n",
    "\n",
    "\n",
    "data = [trace0, trace1, trace2, trace3, trace4, trace5, trace6, trace7]\n",
    "layout = go.Layout(yaxis=dict(tick0=0,dtick=0.05),title='Result comparision for Features selected in Section 1')\n",
    "fig = go.Figure(data=data, layout=layout)\n",
    "\n",
    "iplot(fig, filename='Result')"
   ]
  },
  {
   "cell_type": "code",
   "execution_count": 69,
   "metadata": {},
   "outputs": [
    {
     "name": "stdout",
     "output_type": "stream",
     "text": [
      "Training Results\n"
     ]
    },
    {
     "data": {
      "text/html": [
       "<div>\n",
       "<style scoped>\n",
       "    .dataframe tbody tr th:only-of-type {\n",
       "        vertical-align: middle;\n",
       "    }\n",
       "\n",
       "    .dataframe tbody tr th {\n",
       "        vertical-align: top;\n",
       "    }\n",
       "\n",
       "    .dataframe thead th {\n",
       "        text-align: right;\n",
       "    }\n",
       "</style>\n",
       "<table border=\"1\" class=\"dataframe\">\n",
       "  <thead>\n",
       "    <tr style=\"text-align: right;\">\n",
       "      <th></th>\n",
       "      <th>accuracy</th>\n",
       "      <th>TP</th>\n",
       "      <th>TN</th>\n",
       "      <th>FP</th>\n",
       "      <th>FN</th>\n",
       "      <th>FPR</th>\n",
       "      <th>FNR</th>\n",
       "    </tr>\n",
       "    <tr>\n",
       "      <th>index</th>\n",
       "      <th></th>\n",
       "      <th></th>\n",
       "      <th></th>\n",
       "      <th></th>\n",
       "      <th></th>\n",
       "      <th></th>\n",
       "      <th></th>\n",
       "    </tr>\n",
       "  </thead>\n",
       "  <tbody>\n",
       "    <tr>\n",
       "      <th>KNeighborsClassifier</th>\n",
       "      <td>0.595787</td>\n",
       "      <td>6620.0</td>\n",
       "      <td>28759.0</td>\n",
       "      <td>932.0</td>\n",
       "      <td>23071.0</td>\n",
       "      <td>0.031390</td>\n",
       "      <td>0.777037</td>\n",
       "    </tr>\n",
       "    <tr>\n",
       "      <th>LogisticRegression</th>\n",
       "      <td>0.889394</td>\n",
       "      <td>28488.0</td>\n",
       "      <td>24326.0</td>\n",
       "      <td>5365.0</td>\n",
       "      <td>1203.0</td>\n",
       "      <td>0.180694</td>\n",
       "      <td>0.040517</td>\n",
       "    </tr>\n",
       "    <tr>\n",
       "      <th>RandomForestClassifier</th>\n",
       "      <td>0.947021</td>\n",
       "      <td>29264.0</td>\n",
       "      <td>26972.0</td>\n",
       "      <td>2719.0</td>\n",
       "      <td>427.0</td>\n",
       "      <td>0.091577</td>\n",
       "      <td>0.014381</td>\n",
       "    </tr>\n",
       "    <tr>\n",
       "      <th>AdaBoostClassifier</th>\n",
       "      <td>0.905241</td>\n",
       "      <td>28347.0</td>\n",
       "      <td>25408.0</td>\n",
       "      <td>4283.0</td>\n",
       "      <td>1344.0</td>\n",
       "      <td>0.144252</td>\n",
       "      <td>0.045266</td>\n",
       "    </tr>\n",
       "    <tr>\n",
       "      <th>GradientBoostingClassifier</th>\n",
       "      <td>0.922030</td>\n",
       "      <td>28657.0</td>\n",
       "      <td>26095.0</td>\n",
       "      <td>3596.0</td>\n",
       "      <td>1034.0</td>\n",
       "      <td>0.121114</td>\n",
       "      <td>0.034825</td>\n",
       "    </tr>\n",
       "    <tr>\n",
       "      <th>ExtraTreeClassifier</th>\n",
       "      <td>0.947762</td>\n",
       "      <td>29304.0</td>\n",
       "      <td>26976.0</td>\n",
       "      <td>2715.0</td>\n",
       "      <td>387.0</td>\n",
       "      <td>0.091442</td>\n",
       "      <td>0.013034</td>\n",
       "    </tr>\n",
       "    <tr>\n",
       "      <th>BaggingClassifier</th>\n",
       "      <td>0.947088</td>\n",
       "      <td>29269.0</td>\n",
       "      <td>26971.0</td>\n",
       "      <td>2720.0</td>\n",
       "      <td>422.0</td>\n",
       "      <td>0.091610</td>\n",
       "      <td>0.014213</td>\n",
       "    </tr>\n",
       "    <tr>\n",
       "      <th>Neural Network-1</th>\n",
       "      <td>0.934020</td>\n",
       "      <td>29271.0</td>\n",
       "      <td>26193.0</td>\n",
       "      <td>3498.0</td>\n",
       "      <td>420.0</td>\n",
       "      <td>0.117813</td>\n",
       "      <td>0.014146</td>\n",
       "    </tr>\n",
       "  </tbody>\n",
       "</table>\n",
       "</div>"
      ],
      "text/plain": [
       "                            accuracy       TP       TN      FP       FN  \\\n",
       "index                                                                     \n",
       "KNeighborsClassifier        0.595787   6620.0  28759.0   932.0  23071.0   \n",
       "LogisticRegression          0.889394  28488.0  24326.0  5365.0   1203.0   \n",
       "RandomForestClassifier      0.947021  29264.0  26972.0  2719.0    427.0   \n",
       "AdaBoostClassifier          0.905241  28347.0  25408.0  4283.0   1344.0   \n",
       "GradientBoostingClassifier  0.922030  28657.0  26095.0  3596.0   1034.0   \n",
       "ExtraTreeClassifier         0.947762  29304.0  26976.0  2715.0    387.0   \n",
       "BaggingClassifier           0.947088  29269.0  26971.0  2720.0    422.0   \n",
       "Neural Network-1            0.934020  29271.0  26193.0  3498.0    420.0   \n",
       "\n",
       "                                 FPR       FNR  \n",
       "index                                           \n",
       "KNeighborsClassifier        0.031390  0.777037  \n",
       "LogisticRegression          0.180694  0.040517  \n",
       "RandomForestClassifier      0.091577  0.014381  \n",
       "AdaBoostClassifier          0.144252  0.045266  \n",
       "GradientBoostingClassifier  0.121114  0.034825  \n",
       "ExtraTreeClassifier         0.091442  0.013034  \n",
       "BaggingClassifier           0.091610  0.014213  \n",
       "Neural Network-1            0.117813  0.014146  "
      ]
     },
     "metadata": {},
     "output_type": "display_data"
    },
    {
     "name": "stdout",
     "output_type": "stream",
     "text": [
      "Test Results\n"
     ]
    },
    {
     "data": {
      "text/html": [
       "<div>\n",
       "<style scoped>\n",
       "    .dataframe tbody tr th:only-of-type {\n",
       "        vertical-align: middle;\n",
       "    }\n",
       "\n",
       "    .dataframe tbody tr th {\n",
       "        vertical-align: top;\n",
       "    }\n",
       "\n",
       "    .dataframe thead th {\n",
       "        text-align: right;\n",
       "    }\n",
       "</style>\n",
       "<table border=\"1\" class=\"dataframe\">\n",
       "  <thead>\n",
       "    <tr style=\"text-align: right;\">\n",
       "      <th></th>\n",
       "      <th>accuracy</th>\n",
       "      <th>TP</th>\n",
       "      <th>TN</th>\n",
       "      <th>FP</th>\n",
       "      <th>FN</th>\n",
       "      <th>FPR</th>\n",
       "      <th>FNR</th>\n",
       "      <th>auc</th>\n",
       "      <th>mcc</th>\n",
       "    </tr>\n",
       "    <tr>\n",
       "      <th>index</th>\n",
       "      <th></th>\n",
       "      <th></th>\n",
       "      <th></th>\n",
       "      <th></th>\n",
       "      <th></th>\n",
       "      <th></th>\n",
       "      <th></th>\n",
       "      <th></th>\n",
       "      <th></th>\n",
       "    </tr>\n",
       "  </thead>\n",
       "  <tbody>\n",
       "    <tr>\n",
       "      <th>KNeighborsClassifier</th>\n",
       "      <td>0.849276</td>\n",
       "      <td>235.0</td>\n",
       "      <td>7152.0</td>\n",
       "      <td>271.0</td>\n",
       "      <td>1040.0</td>\n",
       "      <td>0.036508</td>\n",
       "      <td>0.815686</td>\n",
       "      <td>0.573903</td>\n",
       "      <td>0.223339</td>\n",
       "    </tr>\n",
       "    <tr>\n",
       "      <th>LogisticRegression</th>\n",
       "      <td>0.831341</td>\n",
       "      <td>1221.0</td>\n",
       "      <td>6010.0</td>\n",
       "      <td>1413.0</td>\n",
       "      <td>54.0</td>\n",
       "      <td>0.190354</td>\n",
       "      <td>0.042353</td>\n",
       "      <td>0.883646</td>\n",
       "      <td>0.590634</td>\n",
       "    </tr>\n",
       "    <tr>\n",
       "      <th>RandomForestClassifier</th>\n",
       "      <td>0.903656</td>\n",
       "      <td>1172.0</td>\n",
       "      <td>6688.0</td>\n",
       "      <td>735.0</td>\n",
       "      <td>103.0</td>\n",
       "      <td>0.099017</td>\n",
       "      <td>0.080784</td>\n",
       "      <td>0.910100</td>\n",
       "      <td>0.701168</td>\n",
       "    </tr>\n",
       "    <tr>\n",
       "      <th>AdaBoostClassifier</th>\n",
       "      <td>0.859278</td>\n",
       "      <td>1198.0</td>\n",
       "      <td>6276.0</td>\n",
       "      <td>1147.0</td>\n",
       "      <td>77.0</td>\n",
       "      <td>0.154520</td>\n",
       "      <td>0.060392</td>\n",
       "      <td>0.892544</td>\n",
       "      <td>0.625752</td>\n",
       "    </tr>\n",
       "    <tr>\n",
       "      <th>GradientBoostingClassifier</th>\n",
       "      <td>0.879742</td>\n",
       "      <td>1183.0</td>\n",
       "      <td>6469.0</td>\n",
       "      <td>954.0</td>\n",
       "      <td>92.0</td>\n",
       "      <td>0.128519</td>\n",
       "      <td>0.072157</td>\n",
       "      <td>0.899662</td>\n",
       "      <td>0.656720</td>\n",
       "    </tr>\n",
       "    <tr>\n",
       "      <th>ExtraTreeClassifier</th>\n",
       "      <td>0.903081</td>\n",
       "      <td>1164.0</td>\n",
       "      <td>6691.0</td>\n",
       "      <td>732.0</td>\n",
       "      <td>111.0</td>\n",
       "      <td>0.098612</td>\n",
       "      <td>0.087059</td>\n",
       "      <td>0.907164</td>\n",
       "      <td>0.697601</td>\n",
       "    </tr>\n",
       "    <tr>\n",
       "      <th>BaggingClassifier</th>\n",
       "      <td>0.902391</td>\n",
       "      <td>1175.0</td>\n",
       "      <td>6674.0</td>\n",
       "      <td>749.0</td>\n",
       "      <td>100.0</td>\n",
       "      <td>0.100903</td>\n",
       "      <td>0.078431</td>\n",
       "      <td>0.910333</td>\n",
       "      <td>0.699336</td>\n",
       "    </tr>\n",
       "    <tr>\n",
       "      <th>Neural Network-1</th>\n",
       "      <td>0.873649</td>\n",
       "      <td>1195.0</td>\n",
       "      <td>6404.0</td>\n",
       "      <td>1019.0</td>\n",
       "      <td>80.0</td>\n",
       "      <td>0.137276</td>\n",
       "      <td>0.062745</td>\n",
       "      <td>0.899989</td>\n",
       "      <td>0.649551</td>\n",
       "    </tr>\n",
       "  </tbody>\n",
       "</table>\n",
       "</div>"
      ],
      "text/plain": [
       "                            accuracy      TP      TN      FP      FN  \\\n",
       "index                                                                  \n",
       "KNeighborsClassifier        0.849276   235.0  7152.0   271.0  1040.0   \n",
       "LogisticRegression          0.831341  1221.0  6010.0  1413.0    54.0   \n",
       "RandomForestClassifier      0.903656  1172.0  6688.0   735.0   103.0   \n",
       "AdaBoostClassifier          0.859278  1198.0  6276.0  1147.0    77.0   \n",
       "GradientBoostingClassifier  0.879742  1183.0  6469.0   954.0    92.0   \n",
       "ExtraTreeClassifier         0.903081  1164.0  6691.0   732.0   111.0   \n",
       "BaggingClassifier           0.902391  1175.0  6674.0   749.0   100.0   \n",
       "Neural Network-1            0.873649  1195.0  6404.0  1019.0    80.0   \n",
       "\n",
       "                                 FPR       FNR       auc       mcc  \n",
       "index                                                               \n",
       "KNeighborsClassifier        0.036508  0.815686  0.573903  0.223339  \n",
       "LogisticRegression          0.190354  0.042353  0.883646  0.590634  \n",
       "RandomForestClassifier      0.099017  0.080784  0.910100  0.701168  \n",
       "AdaBoostClassifier          0.154520  0.060392  0.892544  0.625752  \n",
       "GradientBoostingClassifier  0.128519  0.072157  0.899662  0.656720  \n",
       "ExtraTreeClassifier         0.098612  0.087059  0.907164  0.697601  \n",
       "BaggingClassifier           0.100903  0.078431  0.910333  0.699336  \n",
       "Neural Network-1            0.137276  0.062745  0.899989  0.649551  "
      ]
     },
     "metadata": {},
     "output_type": "display_data"
    }
   ],
   "source": [
    "table_80_80_train['index']=ind_columns\n",
    "table_80_80_test['index']=ind_columns\n",
    "\n",
    "\n",
    "table_80_80_test.set_index(['index'],drop=True,inplace=True)\n",
    "table_80_80_train.set_index(['index'],drop=True,inplace=True)\n",
    "\n",
    "print(\"Training Results\")\n",
    "display(table_80_80_train)\n",
    "print(\"Test Results\")\n",
    "display(table_80_80_test)"
   ]
  },
  {
   "cell_type": "markdown",
   "metadata": {},
   "source": [
    "### <a id='2.B' style=\"text-decoration : none; color : #000000;\"> B. Average Feature Importances</a>"
   ]
  },
  {
   "cell_type": "code",
   "execution_count": 70,
   "metadata": {},
   "outputs": [
    {
     "data": {
      "application/vnd.plotly.v1+json": {
       "config": {
        "linkText": "Export to plot.ly",
        "plotlyServerURL": "https://plot.ly",
        "showLink": true
       },
       "data": [
        {
         "marker": {
          "color": "rgb(158,202,225)",
          "line": {
           "color": "rgb(8,48,107)",
           "width": 1.5
          }
         },
         "opacity": 0.6,
         "orientation": "h",
         "text": [
          0.1373,
          0.1351,
          0.1119,
          0.0542,
          0.0482,
          0.0452,
          0.0402,
          0.0355,
          0.0342,
          0.0332,
          0.0307,
          0.0243,
          0.024,
          0.023,
          0.0229,
          0.0207,
          0.0189,
          0.0143,
          0.0138,
          0.0131,
          0.0118,
          0.0118,
          0.0116,
          0.0112,
          0.0109,
          0.0105,
          0.0105,
          0.0104,
          0.0089,
          0.0083,
          0.0041,
          0.0038,
          0.0026,
          0.0024,
          0.0005
         ],
         "textposition": "outside",
         "type": "bar",
         "uid": "1de7f6e5-eb8c-451a-9f15-437c8a620c63",
         "x": [
          0.1372828018931198,
          0.1351266221373554,
          0.1119173276888629,
          0.05416998540878939,
          0.048151756718550674,
          0.04522695311452698,
          0.04017658371446372,
          0.03548946427542461,
          0.034198005514810614,
          0.03316367771779914,
          0.030685962379373304,
          0.02425430885043891,
          0.024038929554167195,
          0.022956708864372514,
          0.02293258133670114,
          0.020739859031844533,
          0.018904329072316206,
          0.014266470732327747,
          0.013800567734475114,
          0.013084159072403824,
          0.011849522798976728,
          0.011790090805360792,
          0.011618656239663827,
          0.011203429998353208,
          0.01092518102072584,
          0.010504864692334434,
          0.010463045849794846,
          0.01044877768369,
          0.008943026568708625,
          0.008277881892619469,
          0.004129332773859242,
          0.0037982668997059003,
          0.0025639430664007785,
          0.0024240025440790715,
          0.0004929223536036314
         ],
         "y": [
          "script_async_true",
          "div_count",
          "link_href_out_of_domain",
          "a_href_https",
          "meta_count",
          "script_src_out_of_domain",
          "title_count",
          "h1_count",
          "script_src_.js",
          "br_count",
          "li_count",
          "iframe_src_https",
          "a_href_http",
          "img_src_.jpg",
          "link_type_text/css",
          "script_type_text/javascript",
          "p_count",
          "link_href_http",
          "center_count",
          "form_action_out_of_domain",
          "form_action_http",
          "span_count",
          "strong_count",
          "section_count",
          "link_href_0",
          "link_href_.css",
          "b_count",
          "script_defer_true",
          "link_type_application/rsd+xml",
          "a_href_.com",
          "input_count",
          "script_charset_UTF-8",
          "link_type_application/rss+xml",
          "link_rel_shortlink",
          "a_href_.aspx"
         ]
        }
       ],
       "layout": {
        "autosize": false,
        "height": 1000,
        "width": 1000,
        "xaxis": {
         "tickfont": {
          "color": "black",
          "size": 12
         },
         "title": "Feature Importances"
        },
        "yaxis": {
         "automargin": true
        }
       }
      },
      "text/html": [
       "<div id=\"03bb50d3-b975-4cf7-a33b-991631ab93dc\" style=\"height: 1000px; width: 1000px;\" class=\"plotly-graph-div\"></div><script type=\"text/javascript\">require([\"plotly\"], function(Plotly) { window.PLOTLYENV=window.PLOTLYENV || {};window.PLOTLYENV.BASE_URL=\"https://plot.ly\";Plotly.newPlot(\"03bb50d3-b975-4cf7-a33b-991631ab93dc\", [{\"marker\": {\"color\": \"rgb(158,202,225)\", \"line\": {\"color\": \"rgb(8,48,107)\", \"width\": 1.5}}, \"opacity\": 0.6, \"orientation\": \"h\", \"text\": [0.1373, 0.1351, 0.1119, 0.0542, 0.0482, 0.0452, 0.0402, 0.0355, 0.0342, 0.0332, 0.0307, 0.0243, 0.024, 0.023, 0.0229, 0.0207, 0.0189, 0.0143, 0.0138, 0.0131, 0.0118, 0.0118, 0.0116, 0.0112, 0.0109, 0.0105, 0.0105, 0.0104, 0.0089, 0.0083, 0.0041, 0.0038, 0.0026, 0.0024, 0.0005], \"textposition\": \"outside\", \"x\": [0.1372828018931198, 0.1351266221373554, 0.1119173276888629, 0.05416998540878939, 0.048151756718550674, 0.04522695311452698, 0.04017658371446372, 0.03548946427542461, 0.034198005514810614, 0.03316367771779914, 0.030685962379373304, 0.02425430885043891, 0.024038929554167195, 0.022956708864372514, 0.02293258133670114, 0.020739859031844533, 0.018904329072316206, 0.014266470732327747, 0.013800567734475114, 0.013084159072403824, 0.011849522798976728, 0.011790090805360792, 0.011618656239663827, 0.011203429998353208, 0.01092518102072584, 0.010504864692334434, 0.010463045849794846, 0.01044877768369, 0.008943026568708625, 0.008277881892619469, 0.004129332773859242, 0.0037982668997059003, 0.0025639430664007785, 0.0024240025440790715, 0.0004929223536036314], \"y\": [\"script_async_true\", \"div_count\", \"link_href_out_of_domain\", \"a_href_https\", \"meta_count\", \"script_src_out_of_domain\", \"title_count\", \"h1_count\", \"script_src_.js\", \"br_count\", \"li_count\", \"iframe_src_https\", \"a_href_http\", \"img_src_.jpg\", \"link_type_text/css\", \"script_type_text/javascript\", \"p_count\", \"link_href_http\", \"center_count\", \"form_action_out_of_domain\", \"form_action_http\", \"span_count\", \"strong_count\", \"section_count\", \"link_href_0\", \"link_href_.css\", \"b_count\", \"script_defer_true\", \"link_type_application/rsd+xml\", \"a_href_.com\", \"input_count\", \"script_charset_UTF-8\", \"link_type_application/rss+xml\", \"link_rel_shortlink\", \"a_href_.aspx\"], \"type\": \"bar\", \"uid\": \"1de7f6e5-eb8c-451a-9f15-437c8a620c63\"}], {\"autosize\": false, \"height\": 1000, \"width\": 1000, \"xaxis\": {\"tickfont\": {\"color\": \"black\", \"size\": 12}, \"title\": \"Feature Importances\"}, \"yaxis\": {\"automargin\": true}}, {\"showLink\": true, \"linkText\": \"Export to plot.ly\", \"plotlyServerURL\": \"https://plot.ly\"})});</script>"
      ],
      "text/vnd.plotly.v1+html": [
       "<div id=\"03bb50d3-b975-4cf7-a33b-991631ab93dc\" style=\"height: 1000px; width: 1000px;\" class=\"plotly-graph-div\"></div><script type=\"text/javascript\">require([\"plotly\"], function(Plotly) { window.PLOTLYENV=window.PLOTLYENV || {};window.PLOTLYENV.BASE_URL=\"https://plot.ly\";Plotly.newPlot(\"03bb50d3-b975-4cf7-a33b-991631ab93dc\", [{\"marker\": {\"color\": \"rgb(158,202,225)\", \"line\": {\"color\": \"rgb(8,48,107)\", \"width\": 1.5}}, \"opacity\": 0.6, \"orientation\": \"h\", \"text\": [0.1373, 0.1351, 0.1119, 0.0542, 0.0482, 0.0452, 0.0402, 0.0355, 0.0342, 0.0332, 0.0307, 0.0243, 0.024, 0.023, 0.0229, 0.0207, 0.0189, 0.0143, 0.0138, 0.0131, 0.0118, 0.0118, 0.0116, 0.0112, 0.0109, 0.0105, 0.0105, 0.0104, 0.0089, 0.0083, 0.0041, 0.0038, 0.0026, 0.0024, 0.0005], \"textposition\": \"outside\", \"x\": [0.1372828018931198, 0.1351266221373554, 0.1119173276888629, 0.05416998540878939, 0.048151756718550674, 0.04522695311452698, 0.04017658371446372, 0.03548946427542461, 0.034198005514810614, 0.03316367771779914, 0.030685962379373304, 0.02425430885043891, 0.024038929554167195, 0.022956708864372514, 0.02293258133670114, 0.020739859031844533, 0.018904329072316206, 0.014266470732327747, 0.013800567734475114, 0.013084159072403824, 0.011849522798976728, 0.011790090805360792, 0.011618656239663827, 0.011203429998353208, 0.01092518102072584, 0.010504864692334434, 0.010463045849794846, 0.01044877768369, 0.008943026568708625, 0.008277881892619469, 0.004129332773859242, 0.0037982668997059003, 0.0025639430664007785, 0.0024240025440790715, 0.0004929223536036314], \"y\": [\"script_async_true\", \"div_count\", \"link_href_out_of_domain\", \"a_href_https\", \"meta_count\", \"script_src_out_of_domain\", \"title_count\", \"h1_count\", \"script_src_.js\", \"br_count\", \"li_count\", \"iframe_src_https\", \"a_href_http\", \"img_src_.jpg\", \"link_type_text/css\", \"script_type_text/javascript\", \"p_count\", \"link_href_http\", \"center_count\", \"form_action_out_of_domain\", \"form_action_http\", \"span_count\", \"strong_count\", \"section_count\", \"link_href_0\", \"link_href_.css\", \"b_count\", \"script_defer_true\", \"link_type_application/rsd+xml\", \"a_href_.com\", \"input_count\", \"script_charset_UTF-8\", \"link_type_application/rss+xml\", \"link_rel_shortlink\", \"a_href_.aspx\"], \"type\": \"bar\", \"uid\": \"1de7f6e5-eb8c-451a-9f15-437c8a620c63\"}], {\"autosize\": false, \"height\": 1000, \"width\": 1000, \"xaxis\": {\"tickfont\": {\"color\": \"black\", \"size\": 12}, \"title\": \"Feature Importances\"}, \"yaxis\": {\"automargin\": true}}, {\"showLink\": true, \"linkText\": \"Export to plot.ly\", \"plotlyServerURL\": \"https://plot.ly\"})});</script>"
      ]
     },
     "metadata": {},
     "output_type": "display_data"
    }
   ],
   "source": [
    "feat_impt_plot(np.average(feat_imp,axis=0),columns)"
   ]
  },
  {
   "cell_type": "markdown",
   "metadata": {},
   "source": [
    "### <a id='3' style=\"text-decoration : none; color : #000000;\"> 3. Undersampling</a>"
   ]
  },
  {
   "cell_type": "code",
   "execution_count": 71,
   "metadata": {
    "scrolled": false
   },
   "outputs": [
    {
     "name": "stdout",
     "output_type": "stream",
     "text": [
      "Shape after undersampling (10204, 35)\n",
      "\u001b[1mK-Nearest Neighbors\u001b[0m\n",
      "Accuracy of the model for training data is: 0.5737945903567229\n",
      "Confusion Matrix for training data is:\n"
     ]
    },
    {
     "data": {
      "text/plain": [
       "Predicted  False  True  __all__\n",
       "Actual                         \n",
       "False       4940   162     5102\n",
       "True        4187   915     5102\n",
       "__all__     9127  1077    10204"
      ]
     },
     "metadata": {},
     "output_type": "display_data"
    },
    {
     "name": "stdout",
     "output_type": "stream",
     "text": [
      "Accuracy of the model for test data is: 0.839503334099793\n",
      "Confusion Matrix for test data is:\n"
     ]
    },
    {
     "data": {
      "text/plain": [
       "Predicted  False  True  __all__\n",
       "Actual                         \n",
       "False       7074   349     7423\n",
       "True        1047   228     1275\n",
       "__all__     8121   577     8698"
      ]
     },
     "metadata": {},
     "output_type": "display_data"
    },
    {
     "name": "stdout",
     "output_type": "stream",
     "text": [
      "\n",
      "\n",
      "\u001b[1mLogistic Regression\u001b[0m\n",
      "Accuracy of the model for training data is: 0.8859270874166993\n",
      "Confusion Matrix for training data is:\n"
     ]
    },
    {
     "data": {
      "text/plain": [
       "Predicted  False  True  __all__\n",
       "Actual                         \n",
       "False       4153   949     5102\n",
       "True         215  4887     5102\n",
       "__all__     4368  5836    10204"
      ]
     },
     "metadata": {},
     "output_type": "display_data"
    },
    {
     "name": "stdout",
     "output_type": "stream",
     "text": [
      "Accuracy of the model for test data is: 0.824442400551851\n",
      "Confusion Matrix for test data is:\n"
     ]
    },
    {
     "data": {
      "text/plain": [
       "Predicted  False  True  __all__\n",
       "Actual                         \n",
       "False       5944  1479     7423\n",
       "True          48  1227     1275\n",
       "__all__     5992  2706     8698"
      ]
     },
     "metadata": {},
     "output_type": "display_data"
    },
    {
     "name": "stdout",
     "output_type": "stream",
     "text": [
      "\n",
      "\n",
      "\u001b[1mRandomForest Classifier\u001b[0m\n",
      "Accuracy of the model for training data is: 0.9440415523324187\n",
      "Confusion Matrix for training data is:\n"
     ]
    },
    {
     "data": {
      "text/plain": [
       "Predicted  False  True  __all__\n",
       "Actual                         \n",
       "False       4624   478     5102\n",
       "True          93  5009     5102\n",
       "__all__     4717  5487    10204"
      ]
     },
     "metadata": {},
     "output_type": "display_data"
    },
    {
     "name": "stdout",
     "output_type": "stream",
     "text": [
      "Accuracy of the model for test data is: 0.8950333409979305\n",
      "Confusion Matrix for test data is:\n"
     ]
    },
    {
     "data": {
      "text/plain": [
       "Predicted  False  True  __all__\n",
       "Actual                         \n",
       "False       6595   828     7423\n",
       "True          85  1190     1275\n",
       "__all__     6680  2018     8698"
      ]
     },
     "metadata": {},
     "output_type": "display_data"
    },
    {
     "data": {
      "application/vnd.plotly.v1+json": {
       "config": {
        "linkText": "Export to plot.ly",
        "plotlyServerURL": "https://plot.ly",
        "showLink": true
       },
       "data": [
        {
         "marker": {
          "color": "rgb(158,202,225)",
          "line": {
           "color": "rgb(8,48,107)",
           "width": 1.5
          }
         },
         "opacity": 0.6,
         "orientation": "h",
         "text": [
          0.2014,
          0.1411,
          0.0947,
          0.0889,
          0.0746,
          0.0645,
          0.0511,
          0.0415,
          0.0399,
          0.0293,
          0.0242,
          0.0151,
          0.0144,
          0.0142,
          0.0134,
          0.0111,
          0.0096,
          0.0077,
          0.0069,
          0.0066,
          0.0064,
          0.0064,
          0.0044,
          0.0043,
          0.0041,
          0.0037,
          0.0036,
          0.0032,
          0.0027,
          0.0023,
          0.0022,
          0.0022,
          0.0021,
          0.002,
          0.0003
         ],
         "textposition": "outside",
         "type": "bar",
         "uid": "20ad7c9f-56c5-4829-bb2f-72c8fceda522",
         "x": [
          0.20142494100353212,
          0.14113955136796402,
          0.09471965505043108,
          0.08893002285687648,
          0.07456579284023637,
          0.06447636886883452,
          0.05107988128701528,
          0.041459469284357835,
          0.039872000131723616,
          0.029302627131335128,
          0.0242046371001648,
          0.015051684364644633,
          0.01439515999082415,
          0.014208459868812839,
          0.013370483542484685,
          0.011083527379703645,
          0.009567864299674296,
          0.007677618409700912,
          0.006949050508296563,
          0.006647064434061227,
          0.006417505704355617,
          0.006366462448395574,
          0.004416785844006432,
          0.004274976549768635,
          0.00412515909856866,
          0.0036911464104535476,
          0.0036455673566342254,
          0.003224186712835586,
          0.002669988594076314,
          0.002307782944157303,
          0.0022258533415506357,
          0.0021731055912729896,
          0.0020626584191841776,
          0.00195320253580981,
          0.00031975872825633605
         ],
         "y": [
          "script_async_true",
          "a_href_https",
          "link_href_out_of_domain",
          "div_count",
          "script_src_out_of_domain",
          "title_count",
          "br_count",
          "li_count",
          "meta_count",
          "script_src_.js",
          "a_href_http",
          "input_count",
          "p_count",
          "script_type_text/javascript",
          "form_action_out_of_domain",
          "link_type_text/css",
          "span_count",
          "link_href_http",
          "h1_count",
          "link_href_.css",
          "strong_count",
          "img_src_.jpg",
          "script_defer_true",
          "b_count",
          "center_count",
          "section_count",
          "iframe_src_https",
          "link_type_application/rss+xml",
          "form_action_http",
          "link_type_application/rsd+xml",
          "a_href_.com",
          "script_charset_UTF-8",
          "link_href_0",
          "link_rel_shortlink",
          "a_href_.aspx"
         ]
        }
       ],
       "layout": {
        "autosize": false,
        "height": 1000,
        "width": 1000,
        "xaxis": {
         "tickfont": {
          "color": "black",
          "size": 12
         },
         "title": "Feature Importances"
        },
        "yaxis": {
         "automargin": true
        }
       }
      },
      "text/html": [
       "<div id=\"88a42e28-da0d-42aa-8549-157e864173f9\" style=\"height: 1000px; width: 1000px;\" class=\"plotly-graph-div\"></div><script type=\"text/javascript\">require([\"plotly\"], function(Plotly) { window.PLOTLYENV=window.PLOTLYENV || {};window.PLOTLYENV.BASE_URL=\"https://plot.ly\";Plotly.newPlot(\"88a42e28-da0d-42aa-8549-157e864173f9\", [{\"marker\": {\"color\": \"rgb(158,202,225)\", \"line\": {\"color\": \"rgb(8,48,107)\", \"width\": 1.5}}, \"opacity\": 0.6, \"orientation\": \"h\", \"text\": [0.2014, 0.1411, 0.0947, 0.0889, 0.0746, 0.0645, 0.0511, 0.0415, 0.0399, 0.0293, 0.0242, 0.0151, 0.0144, 0.0142, 0.0134, 0.0111, 0.0096, 0.0077, 0.0069, 0.0066, 0.0064, 0.0064, 0.0044, 0.0043, 0.0041, 0.0037, 0.0036, 0.0032, 0.0027, 0.0023, 0.0022, 0.0022, 0.0021, 0.002, 0.0003], \"textposition\": \"outside\", \"x\": [0.20142494100353212, 0.14113955136796402, 0.09471965505043108, 0.08893002285687648, 0.07456579284023637, 0.06447636886883452, 0.05107988128701528, 0.041459469284357835, 0.039872000131723616, 0.029302627131335128, 0.0242046371001648, 0.015051684364644633, 0.01439515999082415, 0.014208459868812839, 0.013370483542484685, 0.011083527379703645, 0.009567864299674296, 0.007677618409700912, 0.006949050508296563, 0.006647064434061227, 0.006417505704355617, 0.006366462448395574, 0.004416785844006432, 0.004274976549768635, 0.00412515909856866, 0.0036911464104535476, 0.0036455673566342254, 0.003224186712835586, 0.002669988594076314, 0.002307782944157303, 0.0022258533415506357, 0.0021731055912729896, 0.0020626584191841776, 0.00195320253580981, 0.00031975872825633605], \"y\": [\"script_async_true\", \"a_href_https\", \"link_href_out_of_domain\", \"div_count\", \"script_src_out_of_domain\", \"title_count\", \"br_count\", \"li_count\", \"meta_count\", \"script_src_.js\", \"a_href_http\", \"input_count\", \"p_count\", \"script_type_text/javascript\", \"form_action_out_of_domain\", \"link_type_text/css\", \"span_count\", \"link_href_http\", \"h1_count\", \"link_href_.css\", \"strong_count\", \"img_src_.jpg\", \"script_defer_true\", \"b_count\", \"center_count\", \"section_count\", \"iframe_src_https\", \"link_type_application/rss+xml\", \"form_action_http\", \"link_type_application/rsd+xml\", \"a_href_.com\", \"script_charset_UTF-8\", \"link_href_0\", \"link_rel_shortlink\", \"a_href_.aspx\"], \"type\": \"bar\", \"uid\": \"20ad7c9f-56c5-4829-bb2f-72c8fceda522\"}], {\"autosize\": false, \"height\": 1000, \"width\": 1000, \"xaxis\": {\"tickfont\": {\"color\": \"black\", \"size\": 12}, \"title\": \"Feature Importances\"}, \"yaxis\": {\"automargin\": true}}, {\"showLink\": true, \"linkText\": \"Export to plot.ly\", \"plotlyServerURL\": \"https://plot.ly\"})});</script>"
      ],
      "text/vnd.plotly.v1+html": [
       "<div id=\"88a42e28-da0d-42aa-8549-157e864173f9\" style=\"height: 1000px; width: 1000px;\" class=\"plotly-graph-div\"></div><script type=\"text/javascript\">require([\"plotly\"], function(Plotly) { window.PLOTLYENV=window.PLOTLYENV || {};window.PLOTLYENV.BASE_URL=\"https://plot.ly\";Plotly.newPlot(\"88a42e28-da0d-42aa-8549-157e864173f9\", [{\"marker\": {\"color\": \"rgb(158,202,225)\", \"line\": {\"color\": \"rgb(8,48,107)\", \"width\": 1.5}}, \"opacity\": 0.6, \"orientation\": \"h\", \"text\": [0.2014, 0.1411, 0.0947, 0.0889, 0.0746, 0.0645, 0.0511, 0.0415, 0.0399, 0.0293, 0.0242, 0.0151, 0.0144, 0.0142, 0.0134, 0.0111, 0.0096, 0.0077, 0.0069, 0.0066, 0.0064, 0.0064, 0.0044, 0.0043, 0.0041, 0.0037, 0.0036, 0.0032, 0.0027, 0.0023, 0.0022, 0.0022, 0.0021, 0.002, 0.0003], \"textposition\": \"outside\", \"x\": [0.20142494100353212, 0.14113955136796402, 0.09471965505043108, 0.08893002285687648, 0.07456579284023637, 0.06447636886883452, 0.05107988128701528, 0.041459469284357835, 0.039872000131723616, 0.029302627131335128, 0.0242046371001648, 0.015051684364644633, 0.01439515999082415, 0.014208459868812839, 0.013370483542484685, 0.011083527379703645, 0.009567864299674296, 0.007677618409700912, 0.006949050508296563, 0.006647064434061227, 0.006417505704355617, 0.006366462448395574, 0.004416785844006432, 0.004274976549768635, 0.00412515909856866, 0.0036911464104535476, 0.0036455673566342254, 0.003224186712835586, 0.002669988594076314, 0.002307782944157303, 0.0022258533415506357, 0.0021731055912729896, 0.0020626584191841776, 0.00195320253580981, 0.00031975872825633605], \"y\": [\"script_async_true\", \"a_href_https\", \"link_href_out_of_domain\", \"div_count\", \"script_src_out_of_domain\", \"title_count\", \"br_count\", \"li_count\", \"meta_count\", \"script_src_.js\", \"a_href_http\", \"input_count\", \"p_count\", \"script_type_text/javascript\", \"form_action_out_of_domain\", \"link_type_text/css\", \"span_count\", \"link_href_http\", \"h1_count\", \"link_href_.css\", \"strong_count\", \"img_src_.jpg\", \"script_defer_true\", \"b_count\", \"center_count\", \"section_count\", \"iframe_src_https\", \"link_type_application/rss+xml\", \"form_action_http\", \"link_type_application/rsd+xml\", \"a_href_.com\", \"script_charset_UTF-8\", \"link_href_0\", \"link_rel_shortlink\", \"a_href_.aspx\"], \"type\": \"bar\", \"uid\": \"20ad7c9f-56c5-4829-bb2f-72c8fceda522\"}], {\"autosize\": false, \"height\": 1000, \"width\": 1000, \"xaxis\": {\"tickfont\": {\"color\": \"black\", \"size\": 12}, \"title\": \"Feature Importances\"}, \"yaxis\": {\"automargin\": true}}, {\"showLink\": true, \"linkText\": \"Export to plot.ly\", \"plotlyServerURL\": \"https://plot.ly\"})});</script>"
      ]
     },
     "metadata": {},
     "output_type": "display_data"
    },
    {
     "name": "stdout",
     "output_type": "stream",
     "text": [
      "\n",
      "\n",
      "\u001b[1mAdaoost Classifier\u001b[0m\n",
      "Accuracy of the model for training data is: 0.8977851822814582\n",
      "Confusion Matrix for training data is:\n"
     ]
    },
    {
     "data": {
      "text/plain": [
       "Predicted  False  True  __all__\n",
       "Actual                         \n",
       "False       4375   727     5102\n",
       "True         316  4786     5102\n",
       "__all__     4691  5513    10204"
      ]
     },
     "metadata": {},
     "output_type": "display_data"
    },
    {
     "name": "stdout",
     "output_type": "stream",
     "text": [
      "Accuracy of the model for test data is: 0.8549091745228788\n",
      "Confusion Matrix for test data is:\n"
     ]
    },
    {
     "data": {
      "text/plain": [
       "Predicted  False  True  __all__\n",
       "Actual                         \n",
       "False       6238  1185     7423\n",
       "True          77  1198     1275\n",
       "__all__     6315  2383     8698"
      ]
     },
     "metadata": {},
     "output_type": "display_data"
    },
    {
     "data": {
      "application/vnd.plotly.v1+json": {
       "config": {
        "linkText": "Export to plot.ly",
        "plotlyServerURL": "https://plot.ly",
        "showLink": true
       },
       "data": [
        {
         "marker": {
          "color": "rgb(158,202,225)",
          "line": {
           "color": "rgb(8,48,107)",
           "width": 1.5
          }
         },
         "opacity": 0.6,
         "orientation": "h",
         "text": [
          0.14,
          0.1,
          0.08,
          0.06,
          0.06,
          0.04,
          0.04,
          0.04,
          0.04,
          0.04,
          0.04,
          0.02,
          0.02,
          0.02,
          0.02,
          0.02,
          0.02,
          0.02,
          0.02,
          0.02,
          0.02,
          0.02,
          0.02,
          0.02,
          0.02,
          0.02,
          0.02,
          0,
          0,
          0,
          0,
          0,
          0,
          0,
          0
         ],
         "textposition": "outside",
         "type": "bar",
         "uid": "0cfbb608-c178-409a-8a6f-6bfd8e1cf3a0",
         "x": [
          0.14,
          0.1,
          0.08,
          0.06,
          0.06,
          0.04,
          0.04,
          0.04,
          0.04,
          0.04,
          0.04,
          0.02,
          0.02,
          0.02,
          0.02,
          0.02,
          0.02,
          0.02,
          0.02,
          0.02,
          0.02,
          0.02,
          0.02,
          0.02,
          0.02,
          0.02,
          0.02,
          0,
          0,
          0,
          0,
          0,
          0,
          0,
          0
         ],
         "y": [
          "div_count",
          "link_href_out_of_domain",
          "script_async_true",
          "link_type_text/css",
          "a_href_https",
          "p_count",
          "img_src_.jpg",
          "title_count",
          "br_count",
          "span_count",
          "a_href_http",
          "script_src_out_of_domain",
          "link_type_application/rsd+xml",
          "script_defer_true",
          "script_charset_UTF-8",
          "section_count",
          "meta_count",
          "link_type_application/rss+xml",
          "script_src_.js",
          "a_href_.aspx",
          "link_rel_shortlink",
          "a_href_.com",
          "link_href_0",
          "form_action_http",
          "center_count",
          "b_count",
          "link_href_http",
          "link_href_.css",
          "li_count",
          "input_count",
          "iframe_src_https",
          "h1_count",
          "form_action_out_of_domain",
          "script_type_text/javascript",
          "strong_count"
         ]
        }
       ],
       "layout": {
        "autosize": false,
        "height": 1000,
        "width": 1000,
        "xaxis": {
         "tickfont": {
          "color": "black",
          "size": 12
         },
         "title": "Feature Importances"
        },
        "yaxis": {
         "automargin": true
        }
       }
      },
      "text/html": [
       "<div id=\"f28ed108-415c-47b9-97ed-72e2fc8ccbe4\" style=\"height: 1000px; width: 1000px;\" class=\"plotly-graph-div\"></div><script type=\"text/javascript\">require([\"plotly\"], function(Plotly) { window.PLOTLYENV=window.PLOTLYENV || {};window.PLOTLYENV.BASE_URL=\"https://plot.ly\";Plotly.newPlot(\"f28ed108-415c-47b9-97ed-72e2fc8ccbe4\", [{\"marker\": {\"color\": \"rgb(158,202,225)\", \"line\": {\"color\": \"rgb(8,48,107)\", \"width\": 1.5}}, \"opacity\": 0.6, \"orientation\": \"h\", \"text\": [0.14, 0.1, 0.08, 0.06, 0.06, 0.04, 0.04, 0.04, 0.04, 0.04, 0.04, 0.02, 0.02, 0.02, 0.02, 0.02, 0.02, 0.02, 0.02, 0.02, 0.02, 0.02, 0.02, 0.02, 0.02, 0.02, 0.02, 0.0, 0.0, 0.0, 0.0, 0.0, 0.0, 0.0, 0.0], \"textposition\": \"outside\", \"x\": [0.14, 0.1, 0.08, 0.06, 0.06, 0.04, 0.04, 0.04, 0.04, 0.04, 0.04, 0.02, 0.02, 0.02, 0.02, 0.02, 0.02, 0.02, 0.02, 0.02, 0.02, 0.02, 0.02, 0.02, 0.02, 0.02, 0.02, 0.0, 0.0, 0.0, 0.0, 0.0, 0.0, 0.0, 0.0], \"y\": [\"div_count\", \"link_href_out_of_domain\", \"script_async_true\", \"link_type_text/css\", \"a_href_https\", \"p_count\", \"img_src_.jpg\", \"title_count\", \"br_count\", \"span_count\", \"a_href_http\", \"script_src_out_of_domain\", \"link_type_application/rsd+xml\", \"script_defer_true\", \"script_charset_UTF-8\", \"section_count\", \"meta_count\", \"link_type_application/rss+xml\", \"script_src_.js\", \"a_href_.aspx\", \"link_rel_shortlink\", \"a_href_.com\", \"link_href_0\", \"form_action_http\", \"center_count\", \"b_count\", \"link_href_http\", \"link_href_.css\", \"li_count\", \"input_count\", \"iframe_src_https\", \"h1_count\", \"form_action_out_of_domain\", \"script_type_text/javascript\", \"strong_count\"], \"type\": \"bar\", \"uid\": \"0cfbb608-c178-409a-8a6f-6bfd8e1cf3a0\"}], {\"autosize\": false, \"height\": 1000, \"width\": 1000, \"xaxis\": {\"tickfont\": {\"color\": \"black\", \"size\": 12}, \"title\": \"Feature Importances\"}, \"yaxis\": {\"automargin\": true}}, {\"showLink\": true, \"linkText\": \"Export to plot.ly\", \"plotlyServerURL\": \"https://plot.ly\"})});</script>"
      ],
      "text/vnd.plotly.v1+html": [
       "<div id=\"f28ed108-415c-47b9-97ed-72e2fc8ccbe4\" style=\"height: 1000px; width: 1000px;\" class=\"plotly-graph-div\"></div><script type=\"text/javascript\">require([\"plotly\"], function(Plotly) { window.PLOTLYENV=window.PLOTLYENV || {};window.PLOTLYENV.BASE_URL=\"https://plot.ly\";Plotly.newPlot(\"f28ed108-415c-47b9-97ed-72e2fc8ccbe4\", [{\"marker\": {\"color\": \"rgb(158,202,225)\", \"line\": {\"color\": \"rgb(8,48,107)\", \"width\": 1.5}}, \"opacity\": 0.6, \"orientation\": \"h\", \"text\": [0.14, 0.1, 0.08, 0.06, 0.06, 0.04, 0.04, 0.04, 0.04, 0.04, 0.04, 0.02, 0.02, 0.02, 0.02, 0.02, 0.02, 0.02, 0.02, 0.02, 0.02, 0.02, 0.02, 0.02, 0.02, 0.02, 0.02, 0.0, 0.0, 0.0, 0.0, 0.0, 0.0, 0.0, 0.0], \"textposition\": \"outside\", \"x\": [0.14, 0.1, 0.08, 0.06, 0.06, 0.04, 0.04, 0.04, 0.04, 0.04, 0.04, 0.02, 0.02, 0.02, 0.02, 0.02, 0.02, 0.02, 0.02, 0.02, 0.02, 0.02, 0.02, 0.02, 0.02, 0.02, 0.02, 0.0, 0.0, 0.0, 0.0, 0.0, 0.0, 0.0, 0.0], \"y\": [\"div_count\", \"link_href_out_of_domain\", \"script_async_true\", \"link_type_text/css\", \"a_href_https\", \"p_count\", \"img_src_.jpg\", \"title_count\", \"br_count\", \"span_count\", \"a_href_http\", \"script_src_out_of_domain\", \"link_type_application/rsd+xml\", \"script_defer_true\", \"script_charset_UTF-8\", \"section_count\", \"meta_count\", \"link_type_application/rss+xml\", \"script_src_.js\", \"a_href_.aspx\", \"link_rel_shortlink\", \"a_href_.com\", \"link_href_0\", \"form_action_http\", \"center_count\", \"b_count\", \"link_href_http\", \"link_href_.css\", \"li_count\", \"input_count\", \"iframe_src_https\", \"h1_count\", \"form_action_out_of_domain\", \"script_type_text/javascript\", \"strong_count\"], \"type\": \"bar\", \"uid\": \"0cfbb608-c178-409a-8a6f-6bfd8e1cf3a0\"}], {\"autosize\": false, \"height\": 1000, \"width\": 1000, \"xaxis\": {\"tickfont\": {\"color\": \"black\", \"size\": 12}, \"title\": \"Feature Importances\"}, \"yaxis\": {\"automargin\": true}}, {\"showLink\": true, \"linkText\": \"Export to plot.ly\", \"plotlyServerURL\": \"https://plot.ly\"})});</script>"
      ]
     },
     "metadata": {},
     "output_type": "display_data"
    },
    {
     "name": "stdout",
     "output_type": "stream",
     "text": [
      "\n",
      "\n",
      "\u001b[1mGradientBoosting Classifier\u001b[0m\n",
      "Accuracy of the model for training data is: 0.9111132889063113\n",
      "Confusion Matrix for training data is:\n"
     ]
    },
    {
     "data": {
      "text/plain": [
       "Predicted  False  True  __all__\n",
       "Actual                         \n",
       "False       4442   660     5102\n",
       "True         247  4855     5102\n",
       "__all__     4689  5515    10204"
      ]
     },
     "metadata": {},
     "output_type": "display_data"
    },
    {
     "name": "stdout",
     "output_type": "stream",
     "text": [
      "Accuracy of the model for test data is: 0.8680156357783398\n",
      "Confusion Matrix for test data is:\n"
     ]
    },
    {
     "data": {
      "text/plain": [
       "Predicted  False  True  __all__\n",
       "Actual                         \n",
       "False       6343  1080     7423\n",
       "True          68  1207     1275\n",
       "__all__     6411  2287     8698"
      ]
     },
     "metadata": {},
     "output_type": "display_data"
    },
    {
     "data": {
      "application/vnd.plotly.v1+json": {
       "config": {
        "linkText": "Export to plot.ly",
        "plotlyServerURL": "https://plot.ly",
        "showLink": true
       },
       "data": [
        {
         "marker": {
          "color": "rgb(158,202,225)",
          "line": {
           "color": "rgb(8,48,107)",
           "width": 1.5
          }
         },
         "opacity": 0.6,
         "orientation": "h",
         "text": [
          0.442,
          0.3,
          0.0687,
          0.0616,
          0.0281,
          0.0179,
          0.0157,
          0.0075,
          0.0066,
          0.0059,
          0.0053,
          0.0051,
          0.0041,
          0.0039,
          0.0038,
          0.0034,
          0.0026,
          0.0025,
          0.0024,
          0.002,
          0.0016,
          0.0013,
          0.0011,
          0.001,
          0.001,
          0.0008,
          0.0008,
          0.0007,
          0.0007,
          0.0005,
          0.0005,
          0.0004,
          0.0003,
          0.0002,
          0.0001
         ],
         "textposition": "outside",
         "type": "bar",
         "uid": "e833fe8b-3e3b-438a-8d5d-2e53775304f3",
         "x": [
          0.44202537493980193,
          0.2999700078601393,
          0.06872909301843998,
          0.061633432974529924,
          0.02810999251923245,
          0.01788901579509546,
          0.015717654596352403,
          0.007462758848417941,
          0.006623734611773304,
          0.0059248977098497685,
          0.00527899930459712,
          0.00506995246735683,
          0.004118335711819126,
          0.0038891674762950384,
          0.0037886612001909927,
          0.003409555376481478,
          0.0025602912443928377,
          0.002508257711940972,
          0.0023781149069980376,
          0.0019680698479461176,
          0.001590002043324327,
          0.0012533594116172421,
          0.001065830971446068,
          0.0010470936022030188,
          0.0010138391772163357,
          0.0008099818121712509,
          0.0007922057350695199,
          0.000704653648025837,
          0.0006542637033785332,
          0.0005045473825355213,
          0.0004675961680157309,
          0.00044958466704324133,
          0.0003473658554067491,
          0.00018048941565771366,
          6.381828523798997e-05
         ],
         "y": [
          "div_count",
          "link_href_out_of_domain",
          "meta_count",
          "script_async_true",
          "a_href_https",
          "title_count",
          "a_href_http",
          "link_type_text/css",
          "center_count",
          "link_href_http",
          "script_src_.js",
          "script_defer_true",
          "link_type_application/rsd+xml",
          "p_count",
          "li_count",
          "section_count",
          "strong_count",
          "form_action_http",
          "link_rel_shortlink",
          "span_count",
          "a_href_.com",
          "link_href_.css",
          "b_count",
          "br_count",
          "script_charset_UTF-8",
          "h1_count",
          "link_href_0",
          "form_action_out_of_domain",
          "script_type_text/javascript",
          "img_src_.jpg",
          "iframe_src_https",
          "input_count",
          "script_src_out_of_domain",
          "link_type_application/rss+xml",
          "a_href_.aspx"
         ]
        }
       ],
       "layout": {
        "autosize": false,
        "height": 1000,
        "width": 1000,
        "xaxis": {
         "tickfont": {
          "color": "black",
          "size": 12
         },
         "title": "Feature Importances"
        },
        "yaxis": {
         "automargin": true
        }
       }
      },
      "text/html": [
       "<div id=\"234674ee-35de-468d-a2cf-7d23c98abd8f\" style=\"height: 1000px; width: 1000px;\" class=\"plotly-graph-div\"></div><script type=\"text/javascript\">require([\"plotly\"], function(Plotly) { window.PLOTLYENV=window.PLOTLYENV || {};window.PLOTLYENV.BASE_URL=\"https://plot.ly\";Plotly.newPlot(\"234674ee-35de-468d-a2cf-7d23c98abd8f\", [{\"marker\": {\"color\": \"rgb(158,202,225)\", \"line\": {\"color\": \"rgb(8,48,107)\", \"width\": 1.5}}, \"opacity\": 0.6, \"orientation\": \"h\", \"text\": [0.442, 0.3, 0.0687, 0.0616, 0.0281, 0.0179, 0.0157, 0.0075, 0.0066, 0.0059, 0.0053, 0.0051, 0.0041, 0.0039, 0.0038, 0.0034, 0.0026, 0.0025, 0.0024, 0.002, 0.0016, 0.0013, 0.0011, 0.001, 0.001, 0.0008, 0.0008, 0.0007, 0.0007, 0.0005, 0.0005, 0.0004, 0.0003, 0.0002, 0.0001], \"textposition\": \"outside\", \"x\": [0.44202537493980193, 0.2999700078601393, 0.06872909301843998, 0.061633432974529924, 0.02810999251923245, 0.01788901579509546, 0.015717654596352403, 0.007462758848417941, 0.006623734611773304, 0.0059248977098497685, 0.00527899930459712, 0.00506995246735683, 0.004118335711819126, 0.0038891674762950384, 0.0037886612001909927, 0.003409555376481478, 0.0025602912443928377, 0.002508257711940972, 0.0023781149069980376, 0.0019680698479461176, 0.001590002043324327, 0.0012533594116172421, 0.001065830971446068, 0.0010470936022030188, 0.0010138391772163357, 0.0008099818121712509, 0.0007922057350695199, 0.000704653648025837, 0.0006542637033785332, 0.0005045473825355213, 0.0004675961680157309, 0.00044958466704324133, 0.0003473658554067491, 0.00018048941565771366, 6.381828523798997e-05], \"y\": [\"div_count\", \"link_href_out_of_domain\", \"meta_count\", \"script_async_true\", \"a_href_https\", \"title_count\", \"a_href_http\", \"link_type_text/css\", \"center_count\", \"link_href_http\", \"script_src_.js\", \"script_defer_true\", \"link_type_application/rsd+xml\", \"p_count\", \"li_count\", \"section_count\", \"strong_count\", \"form_action_http\", \"link_rel_shortlink\", \"span_count\", \"a_href_.com\", \"link_href_.css\", \"b_count\", \"br_count\", \"script_charset_UTF-8\", \"h1_count\", \"link_href_0\", \"form_action_out_of_domain\", \"script_type_text/javascript\", \"img_src_.jpg\", \"iframe_src_https\", \"input_count\", \"script_src_out_of_domain\", \"link_type_application/rss+xml\", \"a_href_.aspx\"], \"type\": \"bar\", \"uid\": \"e833fe8b-3e3b-438a-8d5d-2e53775304f3\"}], {\"autosize\": false, \"height\": 1000, \"width\": 1000, \"xaxis\": {\"tickfont\": {\"color\": \"black\", \"size\": 12}, \"title\": \"Feature Importances\"}, \"yaxis\": {\"automargin\": true}}, {\"showLink\": true, \"linkText\": \"Export to plot.ly\", \"plotlyServerURL\": \"https://plot.ly\"})});</script>"
      ],
      "text/vnd.plotly.v1+html": [
       "<div id=\"234674ee-35de-468d-a2cf-7d23c98abd8f\" style=\"height: 1000px; width: 1000px;\" class=\"plotly-graph-div\"></div><script type=\"text/javascript\">require([\"plotly\"], function(Plotly) { window.PLOTLYENV=window.PLOTLYENV || {};window.PLOTLYENV.BASE_URL=\"https://plot.ly\";Plotly.newPlot(\"234674ee-35de-468d-a2cf-7d23c98abd8f\", [{\"marker\": {\"color\": \"rgb(158,202,225)\", \"line\": {\"color\": \"rgb(8,48,107)\", \"width\": 1.5}}, \"opacity\": 0.6, \"orientation\": \"h\", \"text\": [0.442, 0.3, 0.0687, 0.0616, 0.0281, 0.0179, 0.0157, 0.0075, 0.0066, 0.0059, 0.0053, 0.0051, 0.0041, 0.0039, 0.0038, 0.0034, 0.0026, 0.0025, 0.0024, 0.002, 0.0016, 0.0013, 0.0011, 0.001, 0.001, 0.0008, 0.0008, 0.0007, 0.0007, 0.0005, 0.0005, 0.0004, 0.0003, 0.0002, 0.0001], \"textposition\": \"outside\", \"x\": [0.44202537493980193, 0.2999700078601393, 0.06872909301843998, 0.061633432974529924, 0.02810999251923245, 0.01788901579509546, 0.015717654596352403, 0.007462758848417941, 0.006623734611773304, 0.0059248977098497685, 0.00527899930459712, 0.00506995246735683, 0.004118335711819126, 0.0038891674762950384, 0.0037886612001909927, 0.003409555376481478, 0.0025602912443928377, 0.002508257711940972, 0.0023781149069980376, 0.0019680698479461176, 0.001590002043324327, 0.0012533594116172421, 0.001065830971446068, 0.0010470936022030188, 0.0010138391772163357, 0.0008099818121712509, 0.0007922057350695199, 0.000704653648025837, 0.0006542637033785332, 0.0005045473825355213, 0.0004675961680157309, 0.00044958466704324133, 0.0003473658554067491, 0.00018048941565771366, 6.381828523798997e-05], \"y\": [\"div_count\", \"link_href_out_of_domain\", \"meta_count\", \"script_async_true\", \"a_href_https\", \"title_count\", \"a_href_http\", \"link_type_text/css\", \"center_count\", \"link_href_http\", \"script_src_.js\", \"script_defer_true\", \"link_type_application/rsd+xml\", \"p_count\", \"li_count\", \"section_count\", \"strong_count\", \"form_action_http\", \"link_rel_shortlink\", \"span_count\", \"a_href_.com\", \"link_href_.css\", \"b_count\", \"br_count\", \"script_charset_UTF-8\", \"h1_count\", \"link_href_0\", \"form_action_out_of_domain\", \"script_type_text/javascript\", \"img_src_.jpg\", \"iframe_src_https\", \"input_count\", \"script_src_out_of_domain\", \"link_type_application/rss+xml\", \"a_href_.aspx\"], \"type\": \"bar\", \"uid\": \"e833fe8b-3e3b-438a-8d5d-2e53775304f3\"}], {\"autosize\": false, \"height\": 1000, \"width\": 1000, \"xaxis\": {\"tickfont\": {\"color\": \"black\", \"size\": 12}, \"title\": \"Feature Importances\"}, \"yaxis\": {\"automargin\": true}}, {\"showLink\": true, \"linkText\": \"Export to plot.ly\", \"plotlyServerURL\": \"https://plot.ly\"})});</script>"
      ]
     },
     "metadata": {},
     "output_type": "display_data"
    },
    {
     "name": "stdout",
     "output_type": "stream",
     "text": [
      "\n",
      "\n",
      "\u001b[1mExtraTree Classifier\u001b[0m\n",
      "Accuracy of the model for training data is: 0.9468835750686005\n",
      "Confusion Matrix for training data is:\n"
     ]
    },
    {
     "data": {
      "text/plain": [
       "Predicted  False  True  __all__\n",
       "Actual                         \n",
       "False       4634   468     5102\n",
       "True          74  5028     5102\n",
       "__all__     4708  5496    10204"
      ]
     },
     "metadata": {},
     "output_type": "display_data"
    },
    {
     "name": "stdout",
     "output_type": "stream",
     "text": [
      "Accuracy of the model for test data is: 0.8968728443320304\n",
      "Confusion Matrix for test data is:\n"
     ]
    },
    {
     "data": {
      "text/plain": [
       "Predicted  False  True  __all__\n",
       "Actual                         \n",
       "False       6614   809     7423\n",
       "True          88  1187     1275\n",
       "__all__     6702  1996     8698"
      ]
     },
     "metadata": {},
     "output_type": "display_data"
    },
    {
     "data": {
      "application/vnd.plotly.v1+json": {
       "config": {
        "linkText": "Export to plot.ly",
        "plotlyServerURL": "https://plot.ly",
        "showLink": true
       },
       "data": [
        {
         "marker": {
          "color": "rgb(158,202,225)",
          "line": {
           "color": "rgb(8,48,107)",
           "width": 1.5
          }
         },
         "opacity": 0.6,
         "orientation": "h",
         "text": [
          0.1451,
          0.072,
          0.0691,
          0.0629,
          0.0517,
          0.0461,
          0.038,
          0.0372,
          0.0339,
          0.0325,
          0.03,
          0.0294,
          0.029,
          0.0282,
          0.0271,
          0.0244,
          0.0236,
          0.0212,
          0.0211,
          0.021,
          0.0196,
          0.0187,
          0.0139,
          0.0132,
          0.0122,
          0.0114,
          0.0108,
          0.0108,
          0.0097,
          0.0095,
          0.0092,
          0.0071,
          0.0048,
          0.0042,
          0.0015
         ],
         "textposition": "outside",
         "type": "bar",
         "uid": "f9394518-c9b1-45bc-8b78-8032646bc7d0",
         "x": [
          0.14505257594194715,
          0.07196991117857512,
          0.06905418587501534,
          0.06293295186765271,
          0.05165981291729209,
          0.04611219150530531,
          0.038021252777711914,
          0.03723759782713526,
          0.0339014861246593,
          0.032470182082915036,
          0.029961668861091455,
          0.029371251415178223,
          0.0289526084970681,
          0.028235024242882364,
          0.027064966781773152,
          0.024403603273423623,
          0.023586453183140926,
          0.021237286737532363,
          0.02111909010482225,
          0.020991215869043827,
          0.01961439235171476,
          0.018655742137351602,
          0.013915457293804619,
          0.013243638813850572,
          0.012245477759477666,
          0.011397799698803678,
          0.01084924910392702,
          0.010818075199833821,
          0.009673391969564094,
          0.009475616791971286,
          0.009221749385003352,
          0.0070880569600558965,
          0.004775475512139115,
          0.004223175842696274,
          0.0014673841156406103
         ],
         "y": [
          "script_async_true",
          "link_type_text/css",
          "script_src_out_of_domain",
          "meta_count",
          "img_src_.jpg",
          "iframe_src_https",
          "script_src_.js",
          "div_count",
          "br_count",
          "form_action_out_of_domain",
          "li_count",
          "link_href_.css",
          "link_href_out_of_domain",
          "a_href_https",
          "script_type_text/javascript",
          "section_count",
          "a_href_http",
          "link_href_http",
          "title_count",
          "b_count",
          "p_count",
          "span_count",
          "link_href_0",
          "h1_count",
          "strong_count",
          "input_count",
          "link_type_application/rsd+xml",
          "form_action_http",
          "link_type_application/rss+xml",
          "script_charset_UTF-8",
          "center_count",
          "script_defer_true",
          "a_href_.com",
          "link_rel_shortlink",
          "a_href_.aspx"
         ]
        }
       ],
       "layout": {
        "autosize": false,
        "height": 1000,
        "width": 1000,
        "xaxis": {
         "tickfont": {
          "color": "black",
          "size": 12
         },
         "title": "Feature Importances"
        },
        "yaxis": {
         "automargin": true
        }
       }
      },
      "text/html": [
       "<div id=\"38862ef0-969e-47a9-9987-655852a68bef\" style=\"height: 1000px; width: 1000px;\" class=\"plotly-graph-div\"></div><script type=\"text/javascript\">require([\"plotly\"], function(Plotly) { window.PLOTLYENV=window.PLOTLYENV || {};window.PLOTLYENV.BASE_URL=\"https://plot.ly\";Plotly.newPlot(\"38862ef0-969e-47a9-9987-655852a68bef\", [{\"marker\": {\"color\": \"rgb(158,202,225)\", \"line\": {\"color\": \"rgb(8,48,107)\", \"width\": 1.5}}, \"opacity\": 0.6, \"orientation\": \"h\", \"text\": [0.1451, 0.072, 0.0691, 0.0629, 0.0517, 0.0461, 0.038, 0.0372, 0.0339, 0.0325, 0.03, 0.0294, 0.029, 0.0282, 0.0271, 0.0244, 0.0236, 0.0212, 0.0211, 0.021, 0.0196, 0.0187, 0.0139, 0.0132, 0.0122, 0.0114, 0.0108, 0.0108, 0.0097, 0.0095, 0.0092, 0.0071, 0.0048, 0.0042, 0.0015], \"textposition\": \"outside\", \"x\": [0.14505257594194715, 0.07196991117857512, 0.06905418587501534, 0.06293295186765271, 0.05165981291729209, 0.04611219150530531, 0.038021252777711914, 0.03723759782713526, 0.0339014861246593, 0.032470182082915036, 0.029961668861091455, 0.029371251415178223, 0.0289526084970681, 0.028235024242882364, 0.027064966781773152, 0.024403603273423623, 0.023586453183140926, 0.021237286737532363, 0.02111909010482225, 0.020991215869043827, 0.01961439235171476, 0.018655742137351602, 0.013915457293804619, 0.013243638813850572, 0.012245477759477666, 0.011397799698803678, 0.01084924910392702, 0.010818075199833821, 0.009673391969564094, 0.009475616791971286, 0.009221749385003352, 0.0070880569600558965, 0.004775475512139115, 0.004223175842696274, 0.0014673841156406103], \"y\": [\"script_async_true\", \"link_type_text/css\", \"script_src_out_of_domain\", \"meta_count\", \"img_src_.jpg\", \"iframe_src_https\", \"script_src_.js\", \"div_count\", \"br_count\", \"form_action_out_of_domain\", \"li_count\", \"link_href_.css\", \"link_href_out_of_domain\", \"a_href_https\", \"script_type_text/javascript\", \"section_count\", \"a_href_http\", \"link_href_http\", \"title_count\", \"b_count\", \"p_count\", \"span_count\", \"link_href_0\", \"h1_count\", \"strong_count\", \"input_count\", \"link_type_application/rsd+xml\", \"form_action_http\", \"link_type_application/rss+xml\", \"script_charset_UTF-8\", \"center_count\", \"script_defer_true\", \"a_href_.com\", \"link_rel_shortlink\", \"a_href_.aspx\"], \"type\": \"bar\", \"uid\": \"f9394518-c9b1-45bc-8b78-8032646bc7d0\"}], {\"autosize\": false, \"height\": 1000, \"width\": 1000, \"xaxis\": {\"tickfont\": {\"color\": \"black\", \"size\": 12}, \"title\": \"Feature Importances\"}, \"yaxis\": {\"automargin\": true}}, {\"showLink\": true, \"linkText\": \"Export to plot.ly\", \"plotlyServerURL\": \"https://plot.ly\"})});</script>"
      ],
      "text/vnd.plotly.v1+html": [
       "<div id=\"38862ef0-969e-47a9-9987-655852a68bef\" style=\"height: 1000px; width: 1000px;\" class=\"plotly-graph-div\"></div><script type=\"text/javascript\">require([\"plotly\"], function(Plotly) { window.PLOTLYENV=window.PLOTLYENV || {};window.PLOTLYENV.BASE_URL=\"https://plot.ly\";Plotly.newPlot(\"38862ef0-969e-47a9-9987-655852a68bef\", [{\"marker\": {\"color\": \"rgb(158,202,225)\", \"line\": {\"color\": \"rgb(8,48,107)\", \"width\": 1.5}}, \"opacity\": 0.6, \"orientation\": \"h\", \"text\": [0.1451, 0.072, 0.0691, 0.0629, 0.0517, 0.0461, 0.038, 0.0372, 0.0339, 0.0325, 0.03, 0.0294, 0.029, 0.0282, 0.0271, 0.0244, 0.0236, 0.0212, 0.0211, 0.021, 0.0196, 0.0187, 0.0139, 0.0132, 0.0122, 0.0114, 0.0108, 0.0108, 0.0097, 0.0095, 0.0092, 0.0071, 0.0048, 0.0042, 0.0015], \"textposition\": \"outside\", \"x\": [0.14505257594194715, 0.07196991117857512, 0.06905418587501534, 0.06293295186765271, 0.05165981291729209, 0.04611219150530531, 0.038021252777711914, 0.03723759782713526, 0.0339014861246593, 0.032470182082915036, 0.029961668861091455, 0.029371251415178223, 0.0289526084970681, 0.028235024242882364, 0.027064966781773152, 0.024403603273423623, 0.023586453183140926, 0.021237286737532363, 0.02111909010482225, 0.020991215869043827, 0.01961439235171476, 0.018655742137351602, 0.013915457293804619, 0.013243638813850572, 0.012245477759477666, 0.011397799698803678, 0.01084924910392702, 0.010818075199833821, 0.009673391969564094, 0.009475616791971286, 0.009221749385003352, 0.0070880569600558965, 0.004775475512139115, 0.004223175842696274, 0.0014673841156406103], \"y\": [\"script_async_true\", \"link_type_text/css\", \"script_src_out_of_domain\", \"meta_count\", \"img_src_.jpg\", \"iframe_src_https\", \"script_src_.js\", \"div_count\", \"br_count\", \"form_action_out_of_domain\", \"li_count\", \"link_href_.css\", \"link_href_out_of_domain\", \"a_href_https\", \"script_type_text/javascript\", \"section_count\", \"a_href_http\", \"link_href_http\", \"title_count\", \"b_count\", \"p_count\", \"span_count\", \"link_href_0\", \"h1_count\", \"strong_count\", \"input_count\", \"link_type_application/rsd+xml\", \"form_action_http\", \"link_type_application/rss+xml\", \"script_charset_UTF-8\", \"center_count\", \"script_defer_true\", \"a_href_.com\", \"link_rel_shortlink\", \"a_href_.aspx\"], \"type\": \"bar\", \"uid\": \"f9394518-c9b1-45bc-8b78-8032646bc7d0\"}], {\"autosize\": false, \"height\": 1000, \"width\": 1000, \"xaxis\": {\"tickfont\": {\"color\": \"black\", \"size\": 12}, \"title\": \"Feature Importances\"}, \"yaxis\": {\"automargin\": true}}, {\"showLink\": true, \"linkText\": \"Export to plot.ly\", \"plotlyServerURL\": \"https://plot.ly\"})});</script>"
      ]
     },
     "metadata": {},
     "output_type": "display_data"
    },
    {
     "name": "stdout",
     "output_type": "stream",
     "text": [
      "\n",
      "\n",
      "\u001b[1mBagging Classifier\u001b[0m\n",
      "Accuracy of the model for training data is: 0.9436495491963935\n",
      "Confusion Matrix for training data is:\n"
     ]
    },
    {
     "data": {
      "text/plain": [
       "Predicted  False  True  __all__\n",
       "Actual                         \n",
       "False       4625   477     5102\n",
       "True          98  5004     5102\n",
       "__all__     4723  5481    10204"
      ]
     },
     "metadata": {},
     "output_type": "display_data"
    },
    {
     "name": "stdout",
     "output_type": "stream",
     "text": [
      "Accuracy of the model for test data is: 0.8875603587031502\n",
      "Confusion Matrix for test data is:\n"
     ]
    },
    {
     "data": {
      "text/plain": [
       "Predicted  False  True  __all__\n",
       "Actual                         \n",
       "False       6526   897     7423\n",
       "True          81  1194     1275\n",
       "__all__     6607  2091     8698"
      ]
     },
     "metadata": {},
     "output_type": "display_data"
    },
    {
     "name": "stdout",
     "output_type": "stream",
     "text": [
      "\n",
      "\n",
      "\u001b[1mNeural Network-1\u001b[0m\n",
      "The accuracy of the model on training data is: 0.927479419765263\n"
     ]
    },
    {
     "data": {
      "text/plain": [
       "Predicted  False  True  __all__\n",
       "Actual                         \n",
       "False       4454   648     5102\n",
       "True          92  5010     5102\n",
       "__all__     4546  5658    10204"
      ]
     },
     "metadata": {},
     "output_type": "display_data"
    },
    {
     "name": "stdout",
     "output_type": "stream",
     "text": [
      "The accuracy of the model on test data is: 0.8595079328581283\n"
     ]
    },
    {
     "data": {
      "text/plain": [
       "Predicted  False  True  __all__\n",
       "Actual                         \n",
       "False       6254  1169     7423\n",
       "True          53  1222     1275\n",
       "__all__     6307  2391     8698"
      ]
     },
     "metadata": {},
     "output_type": "display_data"
    },
    {
     "name": "stdout",
     "output_type": "stream",
     "text": [
      "\n",
      "\n"
     ]
    }
   ],
   "source": [
    "df_non=train[train.Target==0]\n",
    "df_mal=train[train.Target==1]\n",
    "\n",
    "df_non=df_non.sample(frac=len(df_mal)/len(df_non),random_state=0)\n",
    "df_u=df_non.append(df_mal)\n",
    "df_u.Target.value_counts() \n",
    "\n",
    "X_train=df_u[columns]\n",
    "X_train=scaler.transform(X_train)\n",
    "Y_train=df_u.Target.values\n",
    "\n",
    "print(\"Shape after undersampling\",X_train.shape)\n",
    "\n",
    "## Table to store training and test measures so we can compare later\n",
    "table_80_90_train=pd.DataFrame(columns=['accuracy','TP','TN','FP','FN','FPR','FNR'])\n",
    "table_80_90_test=pd.DataFrame(columns=['accuracy','TP','TN','FP','FN','FPR','FNR','auc','mcc'])\n",
    "\n",
    "feat_imp=[None]*4\n",
    "j=0\n",
    "for i in range(0,8):\n",
    "    if i>=2 and i<=5:\n",
    "        model,cm_train,cm_test,acc_train,acc_test,roc_auc,feat_imp[j],mcc=f[i](X_train,Y_train,scaled_X_test,test_Y,columns)\n",
    "        j=j+1\n",
    "    else:\n",
    "        model,cm_train,cm_test,acc_train,acc_test,roc_auc,mcc=f[i](X_train,Y_train,scaled_X_test,test_Y)\n",
    "    table_80_90_train.loc[i]=   ([acc_train,cm_train.TP,cm_train.TN,cm_train.FP,cm_train.FN,cm_train.FPR,cm_train.FNR])\n",
    "    table_80_90_test.loc[i] =   ([acc_test ,cm_test.TP, cm_test.TN, cm_test.FP, cm_test.FN, cm_test.FPR, cm_test.FNR,roc_auc,mcc])\n",
    "    print(\"\\n\")"
   ]
  },
  {
   "cell_type": "markdown",
   "metadata": {},
   "source": [
    "### <a id='3.A' style=\"text-decoration : none; color : #000000;\"> A. Results</a>"
   ]
  },
  {
   "cell_type": "code",
   "execution_count": 72,
   "metadata": {},
   "outputs": [
    {
     "data": {
      "application/vnd.plotly.v1+json": {
       "config": {
        "linkText": "Export to plot.ly",
        "plotlyServerURL": "https://plot.ly",
        "showLink": true
       },
       "data": [
        {
         "mode": "lines",
         "name": "KNN_model",
         "type": "scatter",
         "uid": "176f9fa5-44be-410a-9f94-cce54ddb3d3f",
         "x": [
          "accuracy",
          "FPR",
          "FNR",
          "auc"
         ],
         "y": [
          0.839503334099793,
          0.04701603125420989,
          0.8211764705882353,
          0.5659037490787774
         ]
        },
        {
         "mode": "lines+markers",
         "name": "Logistic Regression",
         "type": "scatter",
         "uid": "732a4c88-17fd-448b-8fa2-8a6b02c61237",
         "x": [
          "accuracy",
          "FPR",
          "FNR",
          "auc"
         ],
         "y": [
          0.824442400551851,
          0.19924558803718173,
          0.03764705882352941,
          0.8815536765696445
         ]
        },
        {
         "marker": {
          "symbol": "x"
         },
         "mode": "lines+markers",
         "name": "Random Forest",
         "type": "scatter",
         "uid": "e828a1b3-1907-4f96-a186-6f717b87d78c",
         "x": [
          "accuracy",
          "FPR",
          "FNR",
          "auc"
         ],
         "y": [
          0.8950333409979305,
          0.11154519735955813,
          0.06666666666666667,
          0.9108940679868877
         ]
        },
        {
         "mode": "lines",
         "name": "Ada Boost",
         "type": "scatter",
         "uid": "46ea5a02-4b66-464e-8e53-817bbf64203e",
         "x": [
          "accuracy",
          "FPR",
          "FNR",
          "auc"
         ],
         "y": [
          0.8549091745228788,
          0.15963895998922267,
          0.0603921568627451,
          0.889984441574016
         ]
        },
        {
         "mode": "lines+markers",
         "name": "GradientBoosting",
         "type": "scatter",
         "uid": "4631f1ef-e465-4248-8f2a-285e347a5844",
         "x": [
          "accuracy",
          "FPR",
          "FNR",
          "auc"
         ],
         "y": [
          0.8680156357783398,
          0.14549373568638016,
          0.05333333333333334,
          0.9005864654901432
         ]
        },
        {
         "marker": {
          "symbol": "x"
         },
         "mode": "lines+markers",
         "name": "ExtraTree Classifier",
         "type": "scatter",
         "uid": "f61d3661-0a54-4fd4-9f31-a0b0b52ac5b8",
         "x": [
          "accuracy",
          "FPR",
          "FNR",
          "auc"
         ],
         "y": [
          0.8968728443320304,
          0.1089855853428533,
          0.06901960784313725,
          0.9109974034070047
         ]
        },
        {
         "marker": {
          "symbol": "x"
         },
         "mode": "lines+markers",
         "name": "Bagging",
         "type": "scatter",
         "uid": "456a6bed-da34-49bd-8ce4-e651a5b32e7a",
         "x": [
          "accuracy",
          "FPR",
          "FNR",
          "auc"
         ],
         "y": [
          0.8875603587031502,
          0.12084063047285463,
          0.06352941176470588,
          0.9078149788812198
         ]
        },
        {
         "marker": {
          "symbol": "x"
         },
         "mode": "lines+markers",
         "name": "Neural Network",
         "type": "scatter",
         "uid": "a2935f5f-0596-404b-8c51-5a9614c2c8f0",
         "x": [
          "accuracy",
          "FPR",
          "FNR",
          "auc"
         ],
         "y": [
          0.8595079328581283,
          0.15748349723831334,
          0.04156862745098039,
          0.9004739376553532
         ]
        }
       ],
       "layout": {
        "title": "Result comparision for Features selected in Section 1",
        "yaxis": {
         "dtick": 0.05,
         "tick0": 0
        }
       }
      },
      "text/html": [
       "<div id=\"a188d1bc-0669-4691-912a-0f42a661f3e2\" style=\"height: 525px; width: 100%;\" class=\"plotly-graph-div\"></div><script type=\"text/javascript\">require([\"plotly\"], function(Plotly) { window.PLOTLYENV=window.PLOTLYENV || {};window.PLOTLYENV.BASE_URL=\"https://plot.ly\";Plotly.newPlot(\"a188d1bc-0669-4691-912a-0f42a661f3e2\", [{\"mode\": \"lines\", \"name\": \"KNN_model\", \"x\": [\"accuracy\", \"FPR\", \"FNR\", \"auc\"], \"y\": [0.839503334099793, 0.04701603125420989, 0.8211764705882353, 0.5659037490787774], \"type\": \"scatter\", \"uid\": \"176f9fa5-44be-410a-9f94-cce54ddb3d3f\"}, {\"mode\": \"lines+markers\", \"name\": \"Logistic Regression\", \"x\": [\"accuracy\", \"FPR\", \"FNR\", \"auc\"], \"y\": [0.824442400551851, 0.19924558803718173, 0.03764705882352941, 0.8815536765696445], \"type\": \"scatter\", \"uid\": \"732a4c88-17fd-448b-8fa2-8a6b02c61237\"}, {\"marker\": {\"symbol\": \"x\"}, \"mode\": \"lines+markers\", \"name\": \"Random Forest\", \"x\": [\"accuracy\", \"FPR\", \"FNR\", \"auc\"], \"y\": [0.8950333409979305, 0.11154519735955813, 0.06666666666666667, 0.9108940679868877], \"type\": \"scatter\", \"uid\": \"e828a1b3-1907-4f96-a186-6f717b87d78c\"}, {\"mode\": \"lines\", \"name\": \"Ada Boost\", \"x\": [\"accuracy\", \"FPR\", \"FNR\", \"auc\"], \"y\": [0.8549091745228788, 0.15963895998922267, 0.0603921568627451, 0.889984441574016], \"type\": \"scatter\", \"uid\": \"46ea5a02-4b66-464e-8e53-817bbf64203e\"}, {\"mode\": \"lines+markers\", \"name\": \"GradientBoosting\", \"x\": [\"accuracy\", \"FPR\", \"FNR\", \"auc\"], \"y\": [0.8680156357783398, 0.14549373568638016, 0.05333333333333334, 0.9005864654901432], \"type\": \"scatter\", \"uid\": \"4631f1ef-e465-4248-8f2a-285e347a5844\"}, {\"marker\": {\"symbol\": \"x\"}, \"mode\": \"lines+markers\", \"name\": \"ExtraTree Classifier\", \"x\": [\"accuracy\", \"FPR\", \"FNR\", \"auc\"], \"y\": [0.8968728443320304, 0.1089855853428533, 0.06901960784313725, 0.9109974034070047], \"type\": \"scatter\", \"uid\": \"f61d3661-0a54-4fd4-9f31-a0b0b52ac5b8\"}, {\"marker\": {\"symbol\": \"x\"}, \"mode\": \"lines+markers\", \"name\": \"Bagging\", \"x\": [\"accuracy\", \"FPR\", \"FNR\", \"auc\"], \"y\": [0.8875603587031502, 0.12084063047285463, 0.06352941176470588, 0.9078149788812198], \"type\": \"scatter\", \"uid\": \"456a6bed-da34-49bd-8ce4-e651a5b32e7a\"}, {\"marker\": {\"symbol\": \"x\"}, \"mode\": \"lines+markers\", \"name\": \"Neural Network\", \"x\": [\"accuracy\", \"FPR\", \"FNR\", \"auc\"], \"y\": [0.8595079328581283, 0.15748349723831334, 0.04156862745098039, 0.9004739376553532], \"type\": \"scatter\", \"uid\": \"a2935f5f-0596-404b-8c51-5a9614c2c8f0\"}], {\"title\": \"Result comparision for Features selected in Section 1\", \"yaxis\": {\"dtick\": 0.05, \"tick0\": 0}}, {\"showLink\": true, \"linkText\": \"Export to plot.ly\", \"plotlyServerURL\": \"https://plot.ly\"})});</script><script type=\"text/javascript\">window.addEventListener(\"resize\", function(){window._Plotly.Plots.resize(document.getElementById(\"a188d1bc-0669-4691-912a-0f42a661f3e2\"));});</script>"
      ],
      "text/vnd.plotly.v1+html": [
       "<div id=\"a188d1bc-0669-4691-912a-0f42a661f3e2\" style=\"height: 525px; width: 100%;\" class=\"plotly-graph-div\"></div><script type=\"text/javascript\">require([\"plotly\"], function(Plotly) { window.PLOTLYENV=window.PLOTLYENV || {};window.PLOTLYENV.BASE_URL=\"https://plot.ly\";Plotly.newPlot(\"a188d1bc-0669-4691-912a-0f42a661f3e2\", [{\"mode\": \"lines\", \"name\": \"KNN_model\", \"x\": [\"accuracy\", \"FPR\", \"FNR\", \"auc\"], \"y\": [0.839503334099793, 0.04701603125420989, 0.8211764705882353, 0.5659037490787774], \"type\": \"scatter\", \"uid\": \"176f9fa5-44be-410a-9f94-cce54ddb3d3f\"}, {\"mode\": \"lines+markers\", \"name\": \"Logistic Regression\", \"x\": [\"accuracy\", \"FPR\", \"FNR\", \"auc\"], \"y\": [0.824442400551851, 0.19924558803718173, 0.03764705882352941, 0.8815536765696445], \"type\": \"scatter\", \"uid\": \"732a4c88-17fd-448b-8fa2-8a6b02c61237\"}, {\"marker\": {\"symbol\": \"x\"}, \"mode\": \"lines+markers\", \"name\": \"Random Forest\", \"x\": [\"accuracy\", \"FPR\", \"FNR\", \"auc\"], \"y\": [0.8950333409979305, 0.11154519735955813, 0.06666666666666667, 0.9108940679868877], \"type\": \"scatter\", \"uid\": \"e828a1b3-1907-4f96-a186-6f717b87d78c\"}, {\"mode\": \"lines\", \"name\": \"Ada Boost\", \"x\": [\"accuracy\", \"FPR\", \"FNR\", \"auc\"], \"y\": [0.8549091745228788, 0.15963895998922267, 0.0603921568627451, 0.889984441574016], \"type\": \"scatter\", \"uid\": \"46ea5a02-4b66-464e-8e53-817bbf64203e\"}, {\"mode\": \"lines+markers\", \"name\": \"GradientBoosting\", \"x\": [\"accuracy\", \"FPR\", \"FNR\", \"auc\"], \"y\": [0.8680156357783398, 0.14549373568638016, 0.05333333333333334, 0.9005864654901432], \"type\": \"scatter\", \"uid\": \"4631f1ef-e465-4248-8f2a-285e347a5844\"}, {\"marker\": {\"symbol\": \"x\"}, \"mode\": \"lines+markers\", \"name\": \"ExtraTree Classifier\", \"x\": [\"accuracy\", \"FPR\", \"FNR\", \"auc\"], \"y\": [0.8968728443320304, 0.1089855853428533, 0.06901960784313725, 0.9109974034070047], \"type\": \"scatter\", \"uid\": \"f61d3661-0a54-4fd4-9f31-a0b0b52ac5b8\"}, {\"marker\": {\"symbol\": \"x\"}, \"mode\": \"lines+markers\", \"name\": \"Bagging\", \"x\": [\"accuracy\", \"FPR\", \"FNR\", \"auc\"], \"y\": [0.8875603587031502, 0.12084063047285463, 0.06352941176470588, 0.9078149788812198], \"type\": \"scatter\", \"uid\": \"456a6bed-da34-49bd-8ce4-e651a5b32e7a\"}, {\"marker\": {\"symbol\": \"x\"}, \"mode\": \"lines+markers\", \"name\": \"Neural Network\", \"x\": [\"accuracy\", \"FPR\", \"FNR\", \"auc\"], \"y\": [0.8595079328581283, 0.15748349723831334, 0.04156862745098039, 0.9004739376553532], \"type\": \"scatter\", \"uid\": \"a2935f5f-0596-404b-8c51-5a9614c2c8f0\"}], {\"title\": \"Result comparision for Features selected in Section 1\", \"yaxis\": {\"dtick\": 0.05, \"tick0\": 0}}, {\"showLink\": true, \"linkText\": \"Export to plot.ly\", \"plotlyServerURL\": \"https://plot.ly\"})});</script><script type=\"text/javascript\">window.addEventListener(\"resize\", function(){window._Plotly.Plots.resize(document.getElementById(\"a188d1bc-0669-4691-912a-0f42a661f3e2\"));});</script>"
      ]
     },
     "metadata": {},
     "output_type": "display_data"
    }
   ],
   "source": [
    "trace0 = go.Scatter(x=table_80_90_test.iloc[0].index.values[[0,5,6,7]],\n",
    "                    y=table_80_90_test.iloc[0].values[[0,5,6,7]],\n",
    "                    mode = 'lines',\n",
    "                    name = 'KNN_model')\n",
    "\n",
    "trace1 = go.Scatter(x=table_80_90_test.iloc[1].index.values[[0,5,6,7]],\n",
    "                    y=table_80_90_test.iloc[1].values[[0,5,6,7]],\n",
    "                    mode = 'lines+markers',\n",
    "                    name = 'Logistic Regression')\n",
    "\n",
    "trace2 = go.Scatter(x=table_80_90_test.iloc[2].index.values[[0,5,6,7]],\n",
    "                    y=table_80_90_test.iloc[2].values[[0,5,6,7]],\n",
    "                    mode = 'lines+markers',marker=dict(symbol='x'),\n",
    "                    name = 'Random Forest')\n",
    "\n",
    "\n",
    "trace3 = go.Scatter(x=table_80_90_test.iloc[3].index.values[[0,5,6,7]],\n",
    "                    y=table_80_90_test.iloc[3].values[[0,5,6,7]],\n",
    "                    mode = 'lines',\n",
    "                    name = 'Ada Boost')\n",
    "\n",
    "trace4 = go.Scatter(x=table_80_90_test.iloc[4].index.values[[0,5,6,7]],\n",
    "                    y=table_80_90_test.iloc[4].values[[0,5,6,7]],\n",
    "                    mode = 'lines+markers',\n",
    "                    name = 'GradientBoosting')\n",
    "\n",
    "trace5 = go.Scatter(x=table_80_90_test.iloc[5].index.values[[0,5,6,7]],\n",
    "                    y=table_80_90_test.iloc[5].values[[0,5,6,7]],\n",
    "                    mode = 'lines+markers',marker=dict(symbol='x'),\n",
    "                    name = 'ExtraTree Classifier')\n",
    "\n",
    "trace6 = go.Scatter(x=table_80_90_test.iloc[6].index.values[[0,5,6,7]],\n",
    "                    y=table_80_90_test.iloc[6].values[[0,5,6,7]],\n",
    "                    mode = 'lines+markers',marker=dict(symbol='x'),\n",
    "                    name = 'Bagging')\n",
    "\n",
    "trace7 = go.Scatter(x=table_80_90_test.iloc[7].index.values[[0,5,6,7]],\n",
    "                    y=table_80_90_test.iloc[7].values[[0,5,6,7]],\n",
    "                    mode = 'lines+markers',marker=dict(symbol='x'),\n",
    "                    name = 'Neural Network')\n",
    "\n",
    "\n",
    "\n",
    "data = [trace0, trace1, trace2, trace3, trace4, trace5, trace6, trace7]\n",
    "layout = go.Layout(yaxis=dict(tick0=0,dtick=0.05),title='Result comparision for Features selected in Section 1')\n",
    "fig = go.Figure(data=data, layout=layout)\n",
    "\n",
    "iplot(fig, filename='Result')"
   ]
  },
  {
   "cell_type": "code",
   "execution_count": 73,
   "metadata": {},
   "outputs": [
    {
     "name": "stdout",
     "output_type": "stream",
     "text": [
      "Training Results\n"
     ]
    },
    {
     "data": {
      "text/html": [
       "<div>\n",
       "<style scoped>\n",
       "    .dataframe tbody tr th:only-of-type {\n",
       "        vertical-align: middle;\n",
       "    }\n",
       "\n",
       "    .dataframe tbody tr th {\n",
       "        vertical-align: top;\n",
       "    }\n",
       "\n",
       "    .dataframe thead th {\n",
       "        text-align: right;\n",
       "    }\n",
       "</style>\n",
       "<table border=\"1\" class=\"dataframe\">\n",
       "  <thead>\n",
       "    <tr style=\"text-align: right;\">\n",
       "      <th></th>\n",
       "      <th>accuracy</th>\n",
       "      <th>TP</th>\n",
       "      <th>TN</th>\n",
       "      <th>FP</th>\n",
       "      <th>FN</th>\n",
       "      <th>FPR</th>\n",
       "      <th>FNR</th>\n",
       "    </tr>\n",
       "    <tr>\n",
       "      <th>index</th>\n",
       "      <th></th>\n",
       "      <th></th>\n",
       "      <th></th>\n",
       "      <th></th>\n",
       "      <th></th>\n",
       "      <th></th>\n",
       "      <th></th>\n",
       "    </tr>\n",
       "  </thead>\n",
       "  <tbody>\n",
       "    <tr>\n",
       "      <th>KNeighborsClassifier</th>\n",
       "      <td>0.573795</td>\n",
       "      <td>915.0</td>\n",
       "      <td>4940.0</td>\n",
       "      <td>162.0</td>\n",
       "      <td>4187.0</td>\n",
       "      <td>0.031752</td>\n",
       "      <td>0.820659</td>\n",
       "    </tr>\n",
       "    <tr>\n",
       "      <th>LogisticRegression</th>\n",
       "      <td>0.885927</td>\n",
       "      <td>4887.0</td>\n",
       "      <td>4153.0</td>\n",
       "      <td>949.0</td>\n",
       "      <td>215.0</td>\n",
       "      <td>0.186005</td>\n",
       "      <td>0.042140</td>\n",
       "    </tr>\n",
       "    <tr>\n",
       "      <th>RandomForestClassifier</th>\n",
       "      <td>0.944042</td>\n",
       "      <td>5009.0</td>\n",
       "      <td>4624.0</td>\n",
       "      <td>478.0</td>\n",
       "      <td>93.0</td>\n",
       "      <td>0.093689</td>\n",
       "      <td>0.018228</td>\n",
       "    </tr>\n",
       "    <tr>\n",
       "      <th>AdaBoostClassifier</th>\n",
       "      <td>0.897785</td>\n",
       "      <td>4786.0</td>\n",
       "      <td>4375.0</td>\n",
       "      <td>727.0</td>\n",
       "      <td>316.0</td>\n",
       "      <td>0.142493</td>\n",
       "      <td>0.061936</td>\n",
       "    </tr>\n",
       "    <tr>\n",
       "      <th>GradientBoostingClassifier</th>\n",
       "      <td>0.911113</td>\n",
       "      <td>4855.0</td>\n",
       "      <td>4442.0</td>\n",
       "      <td>660.0</td>\n",
       "      <td>247.0</td>\n",
       "      <td>0.129361</td>\n",
       "      <td>0.048412</td>\n",
       "    </tr>\n",
       "    <tr>\n",
       "      <th>ExtraTreeClassifier</th>\n",
       "      <td>0.946884</td>\n",
       "      <td>5028.0</td>\n",
       "      <td>4634.0</td>\n",
       "      <td>468.0</td>\n",
       "      <td>74.0</td>\n",
       "      <td>0.091729</td>\n",
       "      <td>0.014504</td>\n",
       "    </tr>\n",
       "    <tr>\n",
       "      <th>BaggingClassifier</th>\n",
       "      <td>0.943650</td>\n",
       "      <td>5004.0</td>\n",
       "      <td>4625.0</td>\n",
       "      <td>477.0</td>\n",
       "      <td>98.0</td>\n",
       "      <td>0.093493</td>\n",
       "      <td>0.019208</td>\n",
       "    </tr>\n",
       "    <tr>\n",
       "      <th>Neural Network-1</th>\n",
       "      <td>0.927479</td>\n",
       "      <td>5010.0</td>\n",
       "      <td>4454.0</td>\n",
       "      <td>648.0</td>\n",
       "      <td>92.0</td>\n",
       "      <td>0.127009</td>\n",
       "      <td>0.018032</td>\n",
       "    </tr>\n",
       "  </tbody>\n",
       "</table>\n",
       "</div>"
      ],
      "text/plain": [
       "                            accuracy      TP      TN     FP      FN       FPR  \\\n",
       "index                                                                           \n",
       "KNeighborsClassifier        0.573795   915.0  4940.0  162.0  4187.0  0.031752   \n",
       "LogisticRegression          0.885927  4887.0  4153.0  949.0   215.0  0.186005   \n",
       "RandomForestClassifier      0.944042  5009.0  4624.0  478.0    93.0  0.093689   \n",
       "AdaBoostClassifier          0.897785  4786.0  4375.0  727.0   316.0  0.142493   \n",
       "GradientBoostingClassifier  0.911113  4855.0  4442.0  660.0   247.0  0.129361   \n",
       "ExtraTreeClassifier         0.946884  5028.0  4634.0  468.0    74.0  0.091729   \n",
       "BaggingClassifier           0.943650  5004.0  4625.0  477.0    98.0  0.093493   \n",
       "Neural Network-1            0.927479  5010.0  4454.0  648.0    92.0  0.127009   \n",
       "\n",
       "                                 FNR  \n",
       "index                                 \n",
       "KNeighborsClassifier        0.820659  \n",
       "LogisticRegression          0.042140  \n",
       "RandomForestClassifier      0.018228  \n",
       "AdaBoostClassifier          0.061936  \n",
       "GradientBoostingClassifier  0.048412  \n",
       "ExtraTreeClassifier         0.014504  \n",
       "BaggingClassifier           0.019208  \n",
       "Neural Network-1            0.018032  "
      ]
     },
     "metadata": {},
     "output_type": "display_data"
    },
    {
     "name": "stdout",
     "output_type": "stream",
     "text": [
      "Test Results\n"
     ]
    },
    {
     "data": {
      "text/html": [
       "<div>\n",
       "<style scoped>\n",
       "    .dataframe tbody tr th:only-of-type {\n",
       "        vertical-align: middle;\n",
       "    }\n",
       "\n",
       "    .dataframe tbody tr th {\n",
       "        vertical-align: top;\n",
       "    }\n",
       "\n",
       "    .dataframe thead th {\n",
       "        text-align: right;\n",
       "    }\n",
       "</style>\n",
       "<table border=\"1\" class=\"dataframe\">\n",
       "  <thead>\n",
       "    <tr style=\"text-align: right;\">\n",
       "      <th></th>\n",
       "      <th>accuracy</th>\n",
       "      <th>TP</th>\n",
       "      <th>TN</th>\n",
       "      <th>FP</th>\n",
       "      <th>FN</th>\n",
       "      <th>FPR</th>\n",
       "      <th>FNR</th>\n",
       "      <th>auc</th>\n",
       "      <th>mcc</th>\n",
       "    </tr>\n",
       "    <tr>\n",
       "      <th>index</th>\n",
       "      <th></th>\n",
       "      <th></th>\n",
       "      <th></th>\n",
       "      <th></th>\n",
       "      <th></th>\n",
       "      <th></th>\n",
       "      <th></th>\n",
       "      <th></th>\n",
       "      <th></th>\n",
       "    </tr>\n",
       "  </thead>\n",
       "  <tbody>\n",
       "    <tr>\n",
       "      <th>KNeighborsClassifier</th>\n",
       "      <td>0.839503</td>\n",
       "      <td>228.0</td>\n",
       "      <td>7074.0</td>\n",
       "      <td>349.0</td>\n",
       "      <td>1047.0</td>\n",
       "      <td>0.047016</td>\n",
       "      <td>0.821176</td>\n",
       "      <td>0.565904</td>\n",
       "      <td>0.187324</td>\n",
       "    </tr>\n",
       "    <tr>\n",
       "      <th>LogisticRegression</th>\n",
       "      <td>0.824442</td>\n",
       "      <td>1227.0</td>\n",
       "      <td>5944.0</td>\n",
       "      <td>1479.0</td>\n",
       "      <td>48.0</td>\n",
       "      <td>0.199246</td>\n",
       "      <td>0.037647</td>\n",
       "      <td>0.881554</td>\n",
       "      <td>0.583016</td>\n",
       "    </tr>\n",
       "    <tr>\n",
       "      <th>RandomForestClassifier</th>\n",
       "      <td>0.895033</td>\n",
       "      <td>1190.0</td>\n",
       "      <td>6595.0</td>\n",
       "      <td>828.0</td>\n",
       "      <td>85.0</td>\n",
       "      <td>0.111545</td>\n",
       "      <td>0.066667</td>\n",
       "      <td>0.910894</td>\n",
       "      <td>0.688582</td>\n",
       "    </tr>\n",
       "    <tr>\n",
       "      <th>AdaBoostClassifier</th>\n",
       "      <td>0.854909</td>\n",
       "      <td>1198.0</td>\n",
       "      <td>6238.0</td>\n",
       "      <td>1185.0</td>\n",
       "      <td>77.0</td>\n",
       "      <td>0.159639</td>\n",
       "      <td>0.060392</td>\n",
       "      <td>0.889984</td>\n",
       "      <td>0.618548</td>\n",
       "    </tr>\n",
       "    <tr>\n",
       "      <th>GradientBoostingClassifier</th>\n",
       "      <td>0.868016</td>\n",
       "      <td>1207.0</td>\n",
       "      <td>6343.0</td>\n",
       "      <td>1080.0</td>\n",
       "      <td>68.0</td>\n",
       "      <td>0.145494</td>\n",
       "      <td>0.053333</td>\n",
       "      <td>0.900586</td>\n",
       "      <td>0.643688</td>\n",
       "    </tr>\n",
       "    <tr>\n",
       "      <th>ExtraTreeClassifier</th>\n",
       "      <td>0.896873</td>\n",
       "      <td>1187.0</td>\n",
       "      <td>6614.0</td>\n",
       "      <td>809.0</td>\n",
       "      <td>88.0</td>\n",
       "      <td>0.108986</td>\n",
       "      <td>0.069020</td>\n",
       "      <td>0.910997</td>\n",
       "      <td>0.691403</td>\n",
       "    </tr>\n",
       "    <tr>\n",
       "      <th>BaggingClassifier</th>\n",
       "      <td>0.887560</td>\n",
       "      <td>1194.0</td>\n",
       "      <td>6526.0</td>\n",
       "      <td>897.0</td>\n",
       "      <td>81.0</td>\n",
       "      <td>0.120841</td>\n",
       "      <td>0.063529</td>\n",
       "      <td>0.907815</td>\n",
       "      <td>0.675086</td>\n",
       "    </tr>\n",
       "    <tr>\n",
       "      <th>Neural Network-1</th>\n",
       "      <td>0.859508</td>\n",
       "      <td>1222.0</td>\n",
       "      <td>6254.0</td>\n",
       "      <td>1169.0</td>\n",
       "      <td>53.0</td>\n",
       "      <td>0.157483</td>\n",
       "      <td>0.041569</td>\n",
       "      <td>0.900474</td>\n",
       "      <td>0.634524</td>\n",
       "    </tr>\n",
       "  </tbody>\n",
       "</table>\n",
       "</div>"
      ],
      "text/plain": [
       "                            accuracy      TP      TN      FP      FN  \\\n",
       "index                                                                  \n",
       "KNeighborsClassifier        0.839503   228.0  7074.0   349.0  1047.0   \n",
       "LogisticRegression          0.824442  1227.0  5944.0  1479.0    48.0   \n",
       "RandomForestClassifier      0.895033  1190.0  6595.0   828.0    85.0   \n",
       "AdaBoostClassifier          0.854909  1198.0  6238.0  1185.0    77.0   \n",
       "GradientBoostingClassifier  0.868016  1207.0  6343.0  1080.0    68.0   \n",
       "ExtraTreeClassifier         0.896873  1187.0  6614.0   809.0    88.0   \n",
       "BaggingClassifier           0.887560  1194.0  6526.0   897.0    81.0   \n",
       "Neural Network-1            0.859508  1222.0  6254.0  1169.0    53.0   \n",
       "\n",
       "                                 FPR       FNR       auc       mcc  \n",
       "index                                                               \n",
       "KNeighborsClassifier        0.047016  0.821176  0.565904  0.187324  \n",
       "LogisticRegression          0.199246  0.037647  0.881554  0.583016  \n",
       "RandomForestClassifier      0.111545  0.066667  0.910894  0.688582  \n",
       "AdaBoostClassifier          0.159639  0.060392  0.889984  0.618548  \n",
       "GradientBoostingClassifier  0.145494  0.053333  0.900586  0.643688  \n",
       "ExtraTreeClassifier         0.108986  0.069020  0.910997  0.691403  \n",
       "BaggingClassifier           0.120841  0.063529  0.907815  0.675086  \n",
       "Neural Network-1            0.157483  0.041569  0.900474  0.634524  "
      ]
     },
     "metadata": {},
     "output_type": "display_data"
    }
   ],
   "source": [
    "table_80_90_train['index']=ind_columns\n",
    "table_80_90_test['index']=ind_columns\n",
    "\n",
    "\n",
    "table_80_90_test.set_index(['index'],drop=True,inplace=True)\n",
    "table_80_90_train.set_index(['index'],drop=True,inplace=True)\n",
    "\n",
    "print(\"Training Results\")\n",
    "display(table_80_90_train)\n",
    "print(\"Test Results\")\n",
    "display(table_80_90_test)"
   ]
  },
  {
   "cell_type": "markdown",
   "metadata": {},
   "source": [
    "### <a id='3.B' style=\"text-decoration : none; color : #000000;\"> B. Average Feature Importances</a>"
   ]
  },
  {
   "cell_type": "code",
   "execution_count": 74,
   "metadata": {},
   "outputs": [
    {
     "data": {
      "application/vnd.plotly.v1+json": {
       "config": {
        "linkText": "Export to plot.ly",
        "plotlyServerURL": "https://plot.ly",
        "showLink": true
       },
       "data": [
        {
         "marker": {
          "color": "rgb(158,202,225)",
          "line": {
           "color": "rgb(8,48,107)",
           "width": 1.5
          }
         },
         "opacity": 0.6,
         "orientation": "h",
         "text": [
          0.177,
          0.1309,
          0.122,
          0.0644,
          0.0479,
          0.041,
          0.0376,
          0.0359,
          0.0315,
          0.0259,
          0.0246,
          0.0232,
          0.0195,
          0.0188,
          0.0175,
          0.0137,
          0.0129,
          0.0126,
          0.0116,
          0.0116,
          0.0105,
          0.01,
          0.0093,
          0.0093,
          0.0092,
          0.0091,
          0.009,
          0.0083,
          0.0082,
          0.0071,
          0.0071,
          0.0067,
          0.0055,
          0.0053,
          0.0053
         ],
         "textposition": "outside",
         "type": "bar",
         "uid": "19047f5f-508a-4525-8a8c-235e9547b101",
         "x": [
          0.17704824890595344,
          0.13091056785190963,
          0.1220277374800023,
          0.06437114203251972,
          0.04788351125445408,
          0.04099183614266462,
          0.037629049351674174,
          0.03587111869218806,
          0.0315071152534694,
          0.025877186219914534,
          0.024632705687055795,
          0.02315071980341104,
          0.019474679954708488,
          0.018802449836410072,
          0.017547919071243003,
          0.01370995071427076,
          0.012876076265089662,
          0.012556338757488817,
          0.01163632981835639,
          0.011583005847564633,
          0.010481922588491132,
          0.009992660773836329,
          0.009318841939975862,
          0.009317918815214174,
          0.00919258036201458,
          0.00914369881785479,
          0.008999080376462777,
          0.008269517024514348,
          0.008165640390115154,
          0.00714783272425352,
          0.00713862332137603,
          0.006724767182622889,
          0.005462740282283734,
          0.00530581867705653,
          0.005250667783579597
         ],
         "y": [
          "div_count",
          "link_href_out_of_domain",
          "script_async_true",
          "a_href_https",
          "meta_count",
          "script_src_out_of_domain",
          "link_type_text/css",
          "title_count",
          "br_count",
          "a_href_http",
          "img_src_.jpg",
          "script_src_.js",
          "p_count",
          "li_count",
          "span_count",
          "link_href_http",
          "section_count",
          "iframe_src_https",
          "form_action_out_of_domain",
          "b_count",
          "script_type_text/javascript",
          "center_count",
          "link_type_application/rsd+xml",
          "link_href_.css",
          "link_href_0",
          "script_defer_true",
          "form_action_http",
          "link_type_application/rss+xml",
          "script_charset_UTF-8",
          "a_href_.com",
          "link_rel_shortlink",
          "input_count",
          "a_href_.aspx",
          "strong_count",
          "h1_count"
         ]
        }
       ],
       "layout": {
        "autosize": false,
        "height": 1000,
        "width": 1000,
        "xaxis": {
         "tickfont": {
          "color": "black",
          "size": 12
         },
         "title": "Feature Importances"
        },
        "yaxis": {
         "automargin": true
        }
       }
      },
      "text/html": [
       "<div id=\"e426bb40-0a44-4ad7-8236-127681771610\" style=\"height: 1000px; width: 1000px;\" class=\"plotly-graph-div\"></div><script type=\"text/javascript\">require([\"plotly\"], function(Plotly) { window.PLOTLYENV=window.PLOTLYENV || {};window.PLOTLYENV.BASE_URL=\"https://plot.ly\";Plotly.newPlot(\"e426bb40-0a44-4ad7-8236-127681771610\", [{\"marker\": {\"color\": \"rgb(158,202,225)\", \"line\": {\"color\": \"rgb(8,48,107)\", \"width\": 1.5}}, \"opacity\": 0.6, \"orientation\": \"h\", \"text\": [0.177, 0.1309, 0.122, 0.0644, 0.0479, 0.041, 0.0376, 0.0359, 0.0315, 0.0259, 0.0246, 0.0232, 0.0195, 0.0188, 0.0175, 0.0137, 0.0129, 0.0126, 0.0116, 0.0116, 0.0105, 0.01, 0.0093, 0.0093, 0.0092, 0.0091, 0.009, 0.0083, 0.0082, 0.0071, 0.0071, 0.0067, 0.0055, 0.0053, 0.0053], \"textposition\": \"outside\", \"x\": [0.17704824890595344, 0.13091056785190963, 0.1220277374800023, 0.06437114203251972, 0.04788351125445408, 0.04099183614266462, 0.037629049351674174, 0.03587111869218806, 0.0315071152534694, 0.025877186219914534, 0.024632705687055795, 0.02315071980341104, 0.019474679954708488, 0.018802449836410072, 0.017547919071243003, 0.01370995071427076, 0.012876076265089662, 0.012556338757488817, 0.01163632981835639, 0.011583005847564633, 0.010481922588491132, 0.009992660773836329, 0.009318841939975862, 0.009317918815214174, 0.00919258036201458, 0.00914369881785479, 0.008999080376462777, 0.008269517024514348, 0.008165640390115154, 0.00714783272425352, 0.00713862332137603, 0.006724767182622889, 0.005462740282283734, 0.00530581867705653, 0.005250667783579597], \"y\": [\"div_count\", \"link_href_out_of_domain\", \"script_async_true\", \"a_href_https\", \"meta_count\", \"script_src_out_of_domain\", \"link_type_text/css\", \"title_count\", \"br_count\", \"a_href_http\", \"img_src_.jpg\", \"script_src_.js\", \"p_count\", \"li_count\", \"span_count\", \"link_href_http\", \"section_count\", \"iframe_src_https\", \"form_action_out_of_domain\", \"b_count\", \"script_type_text/javascript\", \"center_count\", \"link_type_application/rsd+xml\", \"link_href_.css\", \"link_href_0\", \"script_defer_true\", \"form_action_http\", \"link_type_application/rss+xml\", \"script_charset_UTF-8\", \"a_href_.com\", \"link_rel_shortlink\", \"input_count\", \"a_href_.aspx\", \"strong_count\", \"h1_count\"], \"type\": \"bar\", \"uid\": \"19047f5f-508a-4525-8a8c-235e9547b101\"}], {\"autosize\": false, \"height\": 1000, \"width\": 1000, \"xaxis\": {\"tickfont\": {\"color\": \"black\", \"size\": 12}, \"title\": \"Feature Importances\"}, \"yaxis\": {\"automargin\": true}}, {\"showLink\": true, \"linkText\": \"Export to plot.ly\", \"plotlyServerURL\": \"https://plot.ly\"})});</script>"
      ],
      "text/vnd.plotly.v1+html": [
       "<div id=\"e426bb40-0a44-4ad7-8236-127681771610\" style=\"height: 1000px; width: 1000px;\" class=\"plotly-graph-div\"></div><script type=\"text/javascript\">require([\"plotly\"], function(Plotly) { window.PLOTLYENV=window.PLOTLYENV || {};window.PLOTLYENV.BASE_URL=\"https://plot.ly\";Plotly.newPlot(\"e426bb40-0a44-4ad7-8236-127681771610\", [{\"marker\": {\"color\": \"rgb(158,202,225)\", \"line\": {\"color\": \"rgb(8,48,107)\", \"width\": 1.5}}, \"opacity\": 0.6, \"orientation\": \"h\", \"text\": [0.177, 0.1309, 0.122, 0.0644, 0.0479, 0.041, 0.0376, 0.0359, 0.0315, 0.0259, 0.0246, 0.0232, 0.0195, 0.0188, 0.0175, 0.0137, 0.0129, 0.0126, 0.0116, 0.0116, 0.0105, 0.01, 0.0093, 0.0093, 0.0092, 0.0091, 0.009, 0.0083, 0.0082, 0.0071, 0.0071, 0.0067, 0.0055, 0.0053, 0.0053], \"textposition\": \"outside\", \"x\": [0.17704824890595344, 0.13091056785190963, 0.1220277374800023, 0.06437114203251972, 0.04788351125445408, 0.04099183614266462, 0.037629049351674174, 0.03587111869218806, 0.0315071152534694, 0.025877186219914534, 0.024632705687055795, 0.02315071980341104, 0.019474679954708488, 0.018802449836410072, 0.017547919071243003, 0.01370995071427076, 0.012876076265089662, 0.012556338757488817, 0.01163632981835639, 0.011583005847564633, 0.010481922588491132, 0.009992660773836329, 0.009318841939975862, 0.009317918815214174, 0.00919258036201458, 0.00914369881785479, 0.008999080376462777, 0.008269517024514348, 0.008165640390115154, 0.00714783272425352, 0.00713862332137603, 0.006724767182622889, 0.005462740282283734, 0.00530581867705653, 0.005250667783579597], \"y\": [\"div_count\", \"link_href_out_of_domain\", \"script_async_true\", \"a_href_https\", \"meta_count\", \"script_src_out_of_domain\", \"link_type_text/css\", \"title_count\", \"br_count\", \"a_href_http\", \"img_src_.jpg\", \"script_src_.js\", \"p_count\", \"li_count\", \"span_count\", \"link_href_http\", \"section_count\", \"iframe_src_https\", \"form_action_out_of_domain\", \"b_count\", \"script_type_text/javascript\", \"center_count\", \"link_type_application/rsd+xml\", \"link_href_.css\", \"link_href_0\", \"script_defer_true\", \"form_action_http\", \"link_type_application/rss+xml\", \"script_charset_UTF-8\", \"a_href_.com\", \"link_rel_shortlink\", \"input_count\", \"a_href_.aspx\", \"strong_count\", \"h1_count\"], \"type\": \"bar\", \"uid\": \"19047f5f-508a-4525-8a8c-235e9547b101\"}], {\"autosize\": false, \"height\": 1000, \"width\": 1000, \"xaxis\": {\"tickfont\": {\"color\": \"black\", \"size\": 12}, \"title\": \"Feature Importances\"}, \"yaxis\": {\"automargin\": true}}, {\"showLink\": true, \"linkText\": \"Export to plot.ly\", \"plotlyServerURL\": \"https://plot.ly\"})});</script>"
      ]
     },
     "metadata": {},
     "output_type": "display_data"
    }
   ],
   "source": [
    "feat_impt_plot(np.average(feat_imp,axis=0),columns)"
   ]
  },
  {
   "cell_type": "markdown",
   "metadata": {},
   "source": [
    "### <a id='4' style=\"text-decoration : none; color : #000000;\">4. Feature Transformation with feature selection </a>"
   ]
  },
  {
   "cell_type": "code",
   "execution_count": 75,
   "metadata": {},
   "outputs": [
    {
     "name": "stdout",
     "output_type": "stream",
     "text": [
      "Built 2415 features\n",
      "EntitySet scattered to workers in 4.891 seconds\n",
      "Elapsed: 00:12 | Remaining: 00:00 | Progress: 100%|██████████| Calculated: 11/11 chunks\n"
     ]
    },
    {
     "name": "stderr",
     "output_type": "stream",
     "text": [
      "distributed.client - ERROR - Failed to reconnect to scheduler after 10.00 seconds, closing client\n",
      "distributed.utils - ERROR - \n",
      "Traceback (most recent call last):\n",
      "  File \"/nethomes/darshan/anaconda3/lib/python3.6/site-packages/distributed/utils.py\", line 713, in log_errors\n",
      "    yield\n",
      "  File \"/nethomes/darshan/anaconda3/lib/python3.6/site-packages/distributed/client.py\", line 1223, in _close\n",
      "    quiet_exceptions=(CancelledError,),\n",
      "  File \"/nethomes/darshan/anaconda3/lib/python3.6/site-packages/tornado/gen.py\", line 584, in with_timeout\n",
      "    chain_future(future_converted, result)\n",
      "  File \"/nethomes/darshan/anaconda3/lib/python3.6/site-packages/tornado/concurrent.py\", line 166, in chain_future\n",
      "    future_add_done_callback(a, copy)\n",
      "  File \"/nethomes/darshan/anaconda3/lib/python3.6/site-packages/tornado/concurrent.py\", line 262, in future_add_done_callback\n",
      "    callback(future)\n",
      "  File \"/nethomes/darshan/anaconda3/lib/python3.6/site-packages/tornado/concurrent.py\", line 160, in copy\n",
      "    elif a.exception() is not None:\n",
      "concurrent.futures._base.CancelledError\n",
      "distributed.utils - ERROR - \n",
      "Traceback (most recent call last):\n",
      "  File \"/nethomes/darshan/anaconda3/lib/python3.6/site-packages/distributed/utils.py\", line 713, in log_errors\n",
      "    yield\n",
      "  File \"/nethomes/darshan/anaconda3/lib/python3.6/site-packages/distributed/client.py\", line 992, in _reconnect\n",
      "    yield self._close()\n",
      "  File \"/nethomes/darshan/anaconda3/lib/python3.6/site-packages/tornado/gen.py\", line 729, in run\n",
      "    value = future.result()\n",
      "  File \"/nethomes/darshan/anaconda3/lib/python3.6/site-packages/tornado/gen.py\", line 209, in wrapper\n",
      "    yielded = next(result)\n",
      "  File \"/nethomes/darshan/anaconda3/lib/python3.6/site-packages/distributed/client.py\", line 1223, in _close\n",
      "    quiet_exceptions=(CancelledError,),\n",
      "  File \"/nethomes/darshan/anaconda3/lib/python3.6/site-packages/tornado/gen.py\", line 584, in with_timeout\n",
      "    chain_future(future_converted, result)\n",
      "  File \"/nethomes/darshan/anaconda3/lib/python3.6/site-packages/tornado/concurrent.py\", line 166, in chain_future\n",
      "    future_add_done_callback(a, copy)\n",
      "  File \"/nethomes/darshan/anaconda3/lib/python3.6/site-packages/tornado/concurrent.py\", line 262, in future_add_done_callback\n",
      "    callback(future)\n",
      "  File \"/nethomes/darshan/anaconda3/lib/python3.6/site-packages/tornado/concurrent.py\", line 160, in copy\n",
      "    elif a.exception() is not None:\n",
      "concurrent.futures._base.CancelledError\n"
     ]
    }
   ],
   "source": [
    "df_sel.reset_index(inplace=True)\n",
    "\n",
    "# columns=columns.tolist()\n",
    "columns.append('domain')\n",
    "\n",
    "df_min=df_sel[columns]\n",
    "\n",
    "es = ft.EntitySet(id = 'malicious')\n",
    "es.entity_from_dataframe(entity_id = 'data', dataframe = df_min, index = 'domain')\n",
    "\n",
    "feature_matrix_sessions, features_defs = ft.dfs(entityset=es,target_entity=\"data\",\n",
    "                                                trans_primitives = ['add','divide','multiply'],n_jobs=-1,\n",
    "                                                verbose=1,max_depth=1)"
   ]
  },
  {
   "cell_type": "code",
   "execution_count": 76,
   "metadata": {},
   "outputs": [],
   "source": [
    "df_sel.set_index(['domain'],drop=True,inplace=True)\n",
    "fs=pd.merge(feature_matrix_sessions,pd.DataFrame(df_sel.Target),left_index=True, right_index=True)\n",
    "fs.replace([np.inf],0,inplace=True)\n",
    "fs.fillna(value=0,inplace=True)"
   ]
  },
  {
   "cell_type": "code",
   "execution_count": 78,
   "metadata": {},
   "outputs": [],
   "source": [
    "X=fs.loc[:,fs.columns!='Target']\n",
    "y=fs.Target\n",
    "feature_name = X.columns.tolist()"
   ]
  },
  {
   "cell_type": "code",
   "execution_count": 79,
   "metadata": {
    "scrolled": true
   },
   "outputs": [],
   "source": [
    "def cor_selector(X, y):\n",
    "    cor_list = []\n",
    "    # calculate the correlation with y for each feature\n",
    "    for i in X.columns.tolist():\n",
    "        cor = np.corrcoef(X[i], y)[0, 1]\n",
    "        cor_list.append(cor)\n",
    "    # replace NaN with 0\n",
    "    cor_list = [0 if np.isnan(i) else i for i in cor_list]\n",
    "    # feature name\n",
    "    cor_feature = X.iloc[:,np.argsort(np.abs(cor_list))[-100:]].columns.tolist()\n",
    "    # feature selection? 0 for not select, 1 for select\n",
    "    cor_support = [True if i in cor_feature else False for i in feature_name]\n",
    "    return cor_support, cor_feature\n",
    "\n",
    "\n",
    "cor_support, cor_feature = cor_selector(X, y)\n",
    "\n",
    "\n",
    "\n",
    "X_norm = MinMaxScaler().fit_transform(X)\n",
    "chi_selector = SelectKBest(chi2, k=100)\n",
    "chi_selector.fit(X_norm, y)\n",
    "chi_support = chi_selector.get_support()\n",
    "chi_feature = X.loc[:,chi_support].columns.tolist()\n",
    "\n",
    "rfe_selector = RFE(estimator=LogisticRegression(random_state=0), n_features_to_select=100, step=0.3, verbose=False)\n",
    "rfe_selector.fit(X_norm, y)\n",
    "rfe_support = rfe_selector.get_support()\n",
    "rfe_feature = X.loc[:,rfe_support].columns.tolist()\n",
    "\n",
    "embeded_rf_selector = SelectFromModel(RandomForestClassifier(n_estimators=100,random_state=0), threshold='23*median')\n",
    "embeded_rf_selector.fit(X, y)\n",
    "embeded_rf_support = embeded_rf_selector.get_support()\n",
    "embeded_rf_feature = X.loc[:,embeded_rf_support].columns.tolist()\n",
    "\n",
    "feature_selection_df = pd.DataFrame({'Feature':feature_name, 'Pearson':cor_support, 'Chi-2':chi_support, 'RFE':rfe_support,\n",
    "                                    'Random Forest':embeded_rf_support})\n",
    "# count the selected times for each feature\n",
    "feature_selection_df['Total'] = np.sum(feature_selection_df, axis=1)\n",
    "# display the top 100\n",
    "feature_selection_df = feature_selection_df.sort_values(['Total','Feature'] , ascending=False)\n",
    "feature_selection_df.index = range(1, len(feature_selection_df)+1)"
   ]
  },
  {
   "cell_type": "code",
   "execution_count": 80,
   "metadata": {},
   "outputs": [
    {
     "name": "stdout",
     "output_type": "stream",
     "text": [
      "The train/test split ratio is 80:20\n"
     ]
    },
    {
     "data": {
      "text/plain": [
       "(43491, 31)"
      ]
     },
     "execution_count": 80,
     "metadata": {},
     "output_type": "execute_result"
    }
   ],
   "source": [
    "X=fs[feature_selection_df[feature_selection_df.Total>=3]['Feature']]\n",
    "X.fillna(value=0,inplace=True)\n",
    "y=fs.Target.values\n",
    "feature_name = X.columns.tolist()\n",
    "\n",
    "scaler=StandardScaler()\n",
    "scaled_X=scaler.fit_transform(X)\n",
    "\n",
    "print(\"The train/test split ratio is 80:20\")\n",
    "X_train, X_test, Y_train, Y_test = train_test_split(scaled_X,y,random_state=0,test_size=0.2)\n",
    "\n",
    "X.shape"
   ]
  },
  {
   "cell_type": "code",
   "execution_count": 81,
   "metadata": {},
   "outputs": [
    {
     "name": "stdout",
     "output_type": "stream",
     "text": [
      "Features we will be using:\n",
      "\n"
     ]
    },
    {
     "data": {
      "text/plain": [
       "['link_href_0 + script_src_.js',\n",
       " 'form_action_out_of_domain + script_src_.js',\n",
       " 'div_count + meta_count',\n",
       " 'center_count + script_src_.js',\n",
       " 'script_type_text/javascript + title_count',\n",
       " 'script_src_.js / title_count',\n",
       " 'script_src_.js / link_href_.css',\n",
       " 'script_src_.js + script_src_out_of_domain',\n",
       " 'script_src_.js',\n",
       " 'script_async_true + script_src_out_of_domain',\n",
       " 'script_async_true + script_src_.js',\n",
       " 'link_type_text/css + script_src_.js',\n",
       " 'link_type_application/rss+xml + script_src_.js',\n",
       " 'link_type_application/rsd+xml + script_src_.js',\n",
       " 'link_rel_shortlink + script_src_.js',\n",
       " 'link_href_out_of_domain + script_type_text/javascript',\n",
       " 'link_href_out_of_domain + script_async_true',\n",
       " 'link_href_.css + script_src_.js',\n",
       " 'img_src_.jpg + script_src_.js',\n",
       " 'img_src_.jpg + script_async_true',\n",
       " 'img_src_.jpg + link_href_out_of_domain',\n",
       " 'iframe_src_https + script_src_out_of_domain',\n",
       " 'iframe_src_https + script_src_.js',\n",
       " 'form_action_out_of_domain + script_src_out_of_domain',\n",
       " 'form_action_http + script_src_.js',\n",
       " 'div_count + script_src_.js',\n",
       " 'div_count + p_count',\n",
       " 'div_count + li_count',\n",
       " 'br_count + div_count',\n",
       " 'a_href_https + div_count',\n",
       " 'a_href_http + div_count']"
      ]
     },
     "metadata": {},
     "output_type": "display_data"
    }
   ],
   "source": [
    "print('Features we will be using:\\n')\n",
    "display(feature_name)"
   ]
  },
  {
   "cell_type": "code",
   "execution_count": 82,
   "metadata": {},
   "outputs": [],
   "source": [
    "fs=fs.reindex(df_sel.index.values)\n",
    "\n",
    "train=fs.iloc[:34793]\n",
    "train_Y=train.Target.values\n",
    "train_X=train[feature_name].values\n",
    "\n",
    "\n",
    "scaler=StandardScaler()\n",
    "scaled_X_train=scaler.fit_transform(train_X)\n",
    "\n",
    "test=fs.iloc[34793:]\n",
    "test_Y=test.Target.values\n",
    "test_X=test[feature_name]\n",
    "\n",
    "scaled_X_test=scaler.transform(test_X)"
   ]
  },
  {
   "cell_type": "code",
   "execution_count": 83,
   "metadata": {
    "scrolled": false
   },
   "outputs": [
    {
     "name": "stdout",
     "output_type": "stream",
     "text": [
      "\u001b[1mK-Nearest Neighbors\u001b[0m\n",
      "Accuracy of the model for training data is: 0.907682579829276\n",
      "Confusion Matrix for training data is:\n"
     ]
    },
    {
     "data": {
      "text/plain": [
       "Predicted  False  True  __all__\n",
       "Actual                         \n",
       "False      26985  2706    29691\n",
       "True         506  4596     5102\n",
       "__all__    27491  7302    34793"
      ]
     },
     "metadata": {},
     "output_type": "display_data"
    },
    {
     "name": "stdout",
     "output_type": "stream",
     "text": [
      "Accuracy of the model for test data is: 0.8994021614164176\n",
      "Confusion Matrix for test data is:\n"
     ]
    },
    {
     "data": {
      "text/plain": [
       "Predicted  False  True  __all__\n",
       "Actual                         \n",
       "False       6688   735     7423\n",
       "True         140  1135     1275\n",
       "__all__     6828  1870     8698"
      ]
     },
     "metadata": {},
     "output_type": "display_data"
    },
    {
     "name": "stdout",
     "output_type": "stream",
     "text": [
      "\n",
      "\n",
      "\u001b[1mLogistic Regression\u001b[0m\n",
      "Accuracy of the model for training data is: 0.8897766792170839\n",
      "Confusion Matrix for training data is:\n"
     ]
    },
    {
     "data": {
      "text/plain": [
       "Predicted  False  True  __all__\n",
       "Actual                         \n",
       "False      27008  2683    29691\n",
       "True        1152  3950     5102\n",
       "__all__    28160  6633    34793"
      ]
     },
     "metadata": {},
     "output_type": "display_data"
    },
    {
     "name": "stdout",
     "output_type": "stream",
     "text": [
      "Accuracy of the model for test data is: 0.8833065072430444\n",
      "Confusion Matrix for test data is:\n"
     ]
    },
    {
     "data": {
      "text/plain": [
       "Predicted  False  True  __all__\n",
       "Actual                         \n",
       "False       6710   713     7423\n",
       "True         302   973     1275\n",
       "__all__     7012  1686     8698"
      ]
     },
     "metadata": {},
     "output_type": "display_data"
    },
    {
     "name": "stdout",
     "output_type": "stream",
     "text": [
      "\n",
      "\n",
      "\u001b[1mRandomForest Classifier\u001b[0m\n",
      "Accuracy of the model for training data is: 0.9176271089012158\n",
      "Confusion Matrix for training data is:\n"
     ]
    },
    {
     "data": {
      "text/plain": [
       "Predicted  False  True  __all__\n",
       "Actual                         \n",
       "False      27045  2646    29691\n",
       "True         220  4882     5102\n",
       "__all__    27265  7528    34793"
      ]
     },
     "metadata": {},
     "output_type": "display_data"
    },
    {
     "name": "stdout",
     "output_type": "stream",
     "text": [
      "Accuracy of the model for test data is: 0.9036560128765233\n",
      "Confusion Matrix for test data is:\n"
     ]
    },
    {
     "data": {
      "text/plain": [
       "Predicted  False  True  __all__\n",
       "Actual                         \n",
       "False       6715   708     7423\n",
       "True         130  1145     1275\n",
       "__all__     6845  1853     8698"
      ]
     },
     "metadata": {},
     "output_type": "display_data"
    },
    {
     "data": {
      "application/vnd.plotly.v1+json": {
       "config": {
        "linkText": "Export to plot.ly",
        "plotlyServerURL": "https://plot.ly",
        "showLink": true
       },
       "data": [
        {
         "marker": {
          "color": "rgb(158,202,225)",
          "line": {
           "color": "rgb(8,48,107)",
           "width": 1.5
          }
         },
         "opacity": 0.6,
         "orientation": "h",
         "text": [
          0.1414,
          0.1324,
          0.1237,
          0.0881,
          0.081,
          0.0682,
          0.0675,
          0.0338,
          0.032,
          0.0253,
          0.0224,
          0.0215,
          0.0191,
          0.0173,
          0.0163,
          0.0155,
          0.0135,
          0.0124,
          0.0114,
          0.0083,
          0.0063,
          0.0063,
          0.0055,
          0.0055,
          0.0052,
          0.0047,
          0.0037,
          0.0033,
          0.0028,
          0.0028,
          0.0027
         ],
         "textposition": "outside",
         "type": "bar",
         "uid": "6063c0e8-aaf9-4288-842c-e34f63b5227c",
         "x": [
          0.14139294657766172,
          0.13244841529701512,
          0.12368516167235961,
          0.08807528622417479,
          0.08097862882240818,
          0.0682050484978355,
          0.06748347330360215,
          0.03375347191691664,
          0.032037156016100396,
          0.0252954561055026,
          0.022435381501692796,
          0.02151211979365042,
          0.01914818534884915,
          0.017279120543894595,
          0.016281735523302462,
          0.015547811317161648,
          0.013495897236925727,
          0.012427746129984926,
          0.011422552768673423,
          0.00825384119267243,
          0.006342863884423703,
          0.00629544280304814,
          0.0055333911581028974,
          0.005511607142865936,
          0.005155184819910739,
          0.004717492587099923,
          0.0037184806879000617,
          0.0032555113689279325,
          0.002816477463141267,
          0.0027748482179056717,
          0.0027192640762895137
         ],
         "y": [
          "link_href_out_of_domain + script_async_true",
          "script_async_true + script_src_out_of_domain",
          "script_src_.js + script_src_out_of_domain",
          "div_count + meta_count",
          "br_count + div_count",
          "script_async_true + script_src_.js",
          "img_src_.jpg + script_async_true",
          "div_count + p_count",
          "script_type_text/javascript + title_count",
          "center_count + script_src_.js",
          "a_href_https + div_count",
          "a_href_http + div_count",
          "div_count + li_count",
          "link_href_.css + script_src_.js",
          "img_src_.jpg + link_href_out_of_domain",
          "div_count + script_src_.js",
          "link_href_out_of_domain + script_type_text/javascript",
          "link_type_text/css + script_src_.js",
          "script_src_.js / link_href_.css",
          "link_href_0 + script_src_.js",
          "form_action_out_of_domain + script_src_out_of_domain",
          "form_action_http + script_src_.js",
          "iframe_src_https + script_src_out_of_domain",
          "img_src_.jpg + script_src_.js",
          "iframe_src_https + script_src_.js",
          "form_action_out_of_domain + script_src_.js",
          "link_type_application/rsd+xml + script_src_.js",
          "link_type_application/rss+xml + script_src_.js",
          "script_src_.js / title_count",
          "link_rel_shortlink + script_src_.js",
          "script_src_.js"
         ]
        }
       ],
       "layout": {
        "autosize": false,
        "height": 1000,
        "width": 1000,
        "xaxis": {
         "tickfont": {
          "color": "black",
          "size": 12
         },
         "title": "Feature Importances"
        },
        "yaxis": {
         "automargin": true
        }
       }
      },
      "text/html": [
       "<div id=\"1dd043b3-1c31-4f72-a669-389b896af4ba\" style=\"height: 1000px; width: 1000px;\" class=\"plotly-graph-div\"></div><script type=\"text/javascript\">require([\"plotly\"], function(Plotly) { window.PLOTLYENV=window.PLOTLYENV || {};window.PLOTLYENV.BASE_URL=\"https://plot.ly\";Plotly.newPlot(\"1dd043b3-1c31-4f72-a669-389b896af4ba\", [{\"marker\": {\"color\": \"rgb(158,202,225)\", \"line\": {\"color\": \"rgb(8,48,107)\", \"width\": 1.5}}, \"opacity\": 0.6, \"orientation\": \"h\", \"text\": [0.1414, 0.1324, 0.1237, 0.0881, 0.081, 0.0682, 0.0675, 0.0338, 0.032, 0.0253, 0.0224, 0.0215, 0.0191, 0.0173, 0.0163, 0.0155, 0.0135, 0.0124, 0.0114, 0.0083, 0.0063, 0.0063, 0.0055, 0.0055, 0.0052, 0.0047, 0.0037, 0.0033, 0.0028, 0.0028, 0.0027], \"textposition\": \"outside\", \"x\": [0.14139294657766172, 0.13244841529701512, 0.12368516167235961, 0.08807528622417479, 0.08097862882240818, 0.0682050484978355, 0.06748347330360215, 0.03375347191691664, 0.032037156016100396, 0.0252954561055026, 0.022435381501692796, 0.02151211979365042, 0.01914818534884915, 0.017279120543894595, 0.016281735523302462, 0.015547811317161648, 0.013495897236925727, 0.012427746129984926, 0.011422552768673423, 0.00825384119267243, 0.006342863884423703, 0.00629544280304814, 0.0055333911581028974, 0.005511607142865936, 0.005155184819910739, 0.004717492587099923, 0.0037184806879000617, 0.0032555113689279325, 0.002816477463141267, 0.0027748482179056717, 0.0027192640762895137], \"y\": [\"link_href_out_of_domain + script_async_true\", \"script_async_true + script_src_out_of_domain\", \"script_src_.js + script_src_out_of_domain\", \"div_count + meta_count\", \"br_count + div_count\", \"script_async_true + script_src_.js\", \"img_src_.jpg + script_async_true\", \"div_count + p_count\", \"script_type_text/javascript + title_count\", \"center_count + script_src_.js\", \"a_href_https + div_count\", \"a_href_http + div_count\", \"div_count + li_count\", \"link_href_.css + script_src_.js\", \"img_src_.jpg + link_href_out_of_domain\", \"div_count + script_src_.js\", \"link_href_out_of_domain + script_type_text/javascript\", \"link_type_text/css + script_src_.js\", \"script_src_.js / link_href_.css\", \"link_href_0 + script_src_.js\", \"form_action_out_of_domain + script_src_out_of_domain\", \"form_action_http + script_src_.js\", \"iframe_src_https + script_src_out_of_domain\", \"img_src_.jpg + script_src_.js\", \"iframe_src_https + script_src_.js\", \"form_action_out_of_domain + script_src_.js\", \"link_type_application/rsd+xml + script_src_.js\", \"link_type_application/rss+xml + script_src_.js\", \"script_src_.js / title_count\", \"link_rel_shortlink + script_src_.js\", \"script_src_.js\"], \"type\": \"bar\", \"uid\": \"6063c0e8-aaf9-4288-842c-e34f63b5227c\"}], {\"autosize\": false, \"height\": 1000, \"width\": 1000, \"xaxis\": {\"tickfont\": {\"color\": \"black\", \"size\": 12}, \"title\": \"Feature Importances\"}, \"yaxis\": {\"automargin\": true}}, {\"showLink\": true, \"linkText\": \"Export to plot.ly\", \"plotlyServerURL\": \"https://plot.ly\"})});</script>"
      ],
      "text/vnd.plotly.v1+html": [
       "<div id=\"1dd043b3-1c31-4f72-a669-389b896af4ba\" style=\"height: 1000px; width: 1000px;\" class=\"plotly-graph-div\"></div><script type=\"text/javascript\">require([\"plotly\"], function(Plotly) { window.PLOTLYENV=window.PLOTLYENV || {};window.PLOTLYENV.BASE_URL=\"https://plot.ly\";Plotly.newPlot(\"1dd043b3-1c31-4f72-a669-389b896af4ba\", [{\"marker\": {\"color\": \"rgb(158,202,225)\", \"line\": {\"color\": \"rgb(8,48,107)\", \"width\": 1.5}}, \"opacity\": 0.6, \"orientation\": \"h\", \"text\": [0.1414, 0.1324, 0.1237, 0.0881, 0.081, 0.0682, 0.0675, 0.0338, 0.032, 0.0253, 0.0224, 0.0215, 0.0191, 0.0173, 0.0163, 0.0155, 0.0135, 0.0124, 0.0114, 0.0083, 0.0063, 0.0063, 0.0055, 0.0055, 0.0052, 0.0047, 0.0037, 0.0033, 0.0028, 0.0028, 0.0027], \"textposition\": \"outside\", \"x\": [0.14139294657766172, 0.13244841529701512, 0.12368516167235961, 0.08807528622417479, 0.08097862882240818, 0.0682050484978355, 0.06748347330360215, 0.03375347191691664, 0.032037156016100396, 0.0252954561055026, 0.022435381501692796, 0.02151211979365042, 0.01914818534884915, 0.017279120543894595, 0.016281735523302462, 0.015547811317161648, 0.013495897236925727, 0.012427746129984926, 0.011422552768673423, 0.00825384119267243, 0.006342863884423703, 0.00629544280304814, 0.0055333911581028974, 0.005511607142865936, 0.005155184819910739, 0.004717492587099923, 0.0037184806879000617, 0.0032555113689279325, 0.002816477463141267, 0.0027748482179056717, 0.0027192640762895137], \"y\": [\"link_href_out_of_domain + script_async_true\", \"script_async_true + script_src_out_of_domain\", \"script_src_.js + script_src_out_of_domain\", \"div_count + meta_count\", \"br_count + div_count\", \"script_async_true + script_src_.js\", \"img_src_.jpg + script_async_true\", \"div_count + p_count\", \"script_type_text/javascript + title_count\", \"center_count + script_src_.js\", \"a_href_https + div_count\", \"a_href_http + div_count\", \"div_count + li_count\", \"link_href_.css + script_src_.js\", \"img_src_.jpg + link_href_out_of_domain\", \"div_count + script_src_.js\", \"link_href_out_of_domain + script_type_text/javascript\", \"link_type_text/css + script_src_.js\", \"script_src_.js / link_href_.css\", \"link_href_0 + script_src_.js\", \"form_action_out_of_domain + script_src_out_of_domain\", \"form_action_http + script_src_.js\", \"iframe_src_https + script_src_out_of_domain\", \"img_src_.jpg + script_src_.js\", \"iframe_src_https + script_src_.js\", \"form_action_out_of_domain + script_src_.js\", \"link_type_application/rsd+xml + script_src_.js\", \"link_type_application/rss+xml + script_src_.js\", \"script_src_.js / title_count\", \"link_rel_shortlink + script_src_.js\", \"script_src_.js\"], \"type\": \"bar\", \"uid\": \"6063c0e8-aaf9-4288-842c-e34f63b5227c\"}], {\"autosize\": false, \"height\": 1000, \"width\": 1000, \"xaxis\": {\"tickfont\": {\"color\": \"black\", \"size\": 12}, \"title\": \"Feature Importances\"}, \"yaxis\": {\"automargin\": true}}, {\"showLink\": true, \"linkText\": \"Export to plot.ly\", \"plotlyServerURL\": \"https://plot.ly\"})});</script>"
      ]
     },
     "metadata": {},
     "output_type": "display_data"
    },
    {
     "name": "stdout",
     "output_type": "stream",
     "text": [
      "\n",
      "\n",
      "\u001b[1mAdaoost Classifier\u001b[0m\n"
     ]
    },
    {
     "name": "stderr",
     "output_type": "stream",
     "text": [
      "distributed.utils - ERROR - \n",
      "Traceback (most recent call last):\n",
      "  File \"/nethomes/darshan/anaconda3/lib/python3.6/site-packages/distributed/utils.py\", line 713, in log_errors\n",
      "    yield\n",
      "  File \"/nethomes/darshan/anaconda3/lib/python3.6/site-packages/distributed/client.py\", line 1223, in _close\n",
      "    quiet_exceptions=(CancelledError,),\n",
      "  File \"/nethomes/darshan/anaconda3/lib/python3.6/site-packages/tornado/gen.py\", line 584, in with_timeout\n",
      "    chain_future(future_converted, result)\n",
      "  File \"/nethomes/darshan/anaconda3/lib/python3.6/site-packages/tornado/concurrent.py\", line 166, in chain_future\n",
      "    future_add_done_callback(a, copy)\n",
      "  File \"/nethomes/darshan/anaconda3/lib/python3.6/site-packages/tornado/concurrent.py\", line 262, in future_add_done_callback\n",
      "    callback(future)\n",
      "  File \"/nethomes/darshan/anaconda3/lib/python3.6/site-packages/tornado/concurrent.py\", line 160, in copy\n",
      "    elif a.exception() is not None:\n",
      "concurrent.futures._base.CancelledError\n",
      "Exception ignored in: <bound method Client.__del__ of <Client: not connected>>\n",
      "Traceback (most recent call last):\n",
      "  File \"/nethomes/darshan/anaconda3/lib/python3.6/site-packages/distributed/client.py\", line 1075, in __del__\n",
      "    self.close()\n",
      "  File \"/nethomes/darshan/anaconda3/lib/python3.6/site-packages/distributed/client.py\", line 1290, in close\n",
      "    sync(self.loop, self._close, fast=True)\n",
      "  File \"/nethomes/darshan/anaconda3/lib/python3.6/site-packages/distributed/utils.py\", line 331, in sync\n",
      "    six.reraise(*error[0])\n",
      "  File \"/nethomes/darshan/anaconda3/lib/python3.6/site-packages/six.py\", line 693, in reraise\n",
      "    raise value\n",
      "  File \"/nethomes/darshan/anaconda3/lib/python3.6/site-packages/distributed/utils.py\", line 316, in f\n",
      "    result[0] = yield future\n",
      "  File \"/nethomes/darshan/anaconda3/lib/python3.6/site-packages/tornado/gen.py\", line 729, in run\n",
      "    value = future.result()\n",
      "  File \"/nethomes/darshan/anaconda3/lib/python3.6/site-packages/tornado/gen.py\", line 209, in wrapper\n",
      "    yielded = next(result)\n",
      "  File \"/nethomes/darshan/anaconda3/lib/python3.6/site-packages/distributed/client.py\", line 1223, in _close\n",
      "    quiet_exceptions=(CancelledError,),\n",
      "  File \"/nethomes/darshan/anaconda3/lib/python3.6/site-packages/tornado/gen.py\", line 584, in with_timeout\n",
      "    chain_future(future_converted, result)\n",
      "  File \"/nethomes/darshan/anaconda3/lib/python3.6/site-packages/tornado/concurrent.py\", line 166, in chain_future\n",
      "    future_add_done_callback(a, copy)\n",
      "  File \"/nethomes/darshan/anaconda3/lib/python3.6/site-packages/tornado/concurrent.py\", line 262, in future_add_done_callback\n",
      "    callback(future)\n",
      "  File \"/nethomes/darshan/anaconda3/lib/python3.6/site-packages/tornado/concurrent.py\", line 160, in copy\n",
      "    elif a.exception() is not None:\n",
      "concurrent.futures._base.CancelledError: \n"
     ]
    },
    {
     "name": "stdout",
     "output_type": "stream",
     "text": [
      "Accuracy of the model for training data is: 0.8958698588796598\n",
      "Confusion Matrix for training data is:\n"
     ]
    },
    {
     "data": {
      "text/plain": [
       "Predicted  False  True  __all__\n",
       "Actual                         \n",
       "False      26954  2737    29691\n",
       "True         886  4216     5102\n",
       "__all__    27840  6953    34793"
      ]
     },
     "metadata": {},
     "output_type": "display_data"
    },
    {
     "name": "stdout",
     "output_type": "stream",
     "text": [
      "Accuracy of the model for test data is: 0.8912393653713497\n",
      "Confusion Matrix for test data is:\n"
     ]
    },
    {
     "data": {
      "text/plain": [
       "Predicted  False  True  __all__\n",
       "Actual                         \n",
       "False       6704   719     7423\n",
       "True         227  1048     1275\n",
       "__all__     6931  1767     8698"
      ]
     },
     "metadata": {},
     "output_type": "display_data"
    },
    {
     "data": {
      "application/vnd.plotly.v1+json": {
       "config": {
        "linkText": "Export to plot.ly",
        "plotlyServerURL": "https://plot.ly",
        "showLink": true
       },
       "data": [
        {
         "marker": {
          "color": "rgb(158,202,225)",
          "line": {
           "color": "rgb(8,48,107)",
           "width": 1.5
          }
         },
         "opacity": 0.6,
         "orientation": "h",
         "text": [
          0.18,
          0.14,
          0.12,
          0.1,
          0.08,
          0.08,
          0.06,
          0.04,
          0.04,
          0.02,
          0.02,
          0.02,
          0.02,
          0.02,
          0.02,
          0.02,
          0.02,
          0,
          0,
          0,
          0,
          0,
          0,
          0,
          0,
          0,
          0,
          0,
          0,
          0,
          0
         ],
         "textposition": "outside",
         "type": "bar",
         "uid": "72c31578-60b3-47ef-bf18-59dd232bb026",
         "x": [
          0.18,
          0.14,
          0.12,
          0.1,
          0.08,
          0.08,
          0.06,
          0.04,
          0.04,
          0.02,
          0.02,
          0.02,
          0.02,
          0.02,
          0.02,
          0.02,
          0.02,
          0,
          0,
          0,
          0,
          0,
          0,
          0,
          0,
          0,
          0,
          0,
          0,
          0,
          0
         ],
         "y": [
          "link_href_out_of_domain + script_async_true",
          "a_href_https + div_count",
          "script_type_text/javascript + title_count",
          "link_type_text/css + script_src_.js",
          "div_count + p_count",
          "form_action_out_of_domain + script_src_out_of_domain",
          "div_count + script_src_.js",
          "center_count + script_src_.js",
          "img_src_.jpg + script_async_true",
          "link_href_out_of_domain + script_type_text/javascript",
          "img_src_.jpg + script_src_.js",
          "link_href_.css + script_src_.js",
          "script_async_true + script_src_.js",
          "div_count + li_count",
          "script_src_.js + script_src_out_of_domain",
          "script_src_.js / link_href_.css",
          "img_src_.jpg + link_href_out_of_domain",
          "form_action_http + script_src_.js",
          "iframe_src_https + script_src_out_of_domain",
          "iframe_src_https + script_src_.js",
          "br_count + div_count",
          "link_href_0 + script_src_.js",
          "form_action_out_of_domain + script_src_.js",
          "link_rel_shortlink + script_src_.js",
          "link_type_application/rsd+xml + script_src_.js",
          "link_type_application/rss+xml + script_src_.js",
          "script_async_true + script_src_out_of_domain",
          "script_src_.js",
          "script_src_.js / title_count",
          "div_count + meta_count",
          "a_href_http + div_count"
         ]
        }
       ],
       "layout": {
        "autosize": false,
        "height": 1000,
        "width": 1000,
        "xaxis": {
         "tickfont": {
          "color": "black",
          "size": 12
         },
         "title": "Feature Importances"
        },
        "yaxis": {
         "automargin": true
        }
       }
      },
      "text/html": [
       "<div id=\"88a8fbcd-9665-4e8a-8b04-32d5a477d39b\" style=\"height: 1000px; width: 1000px;\" class=\"plotly-graph-div\"></div><script type=\"text/javascript\">require([\"plotly\"], function(Plotly) { window.PLOTLYENV=window.PLOTLYENV || {};window.PLOTLYENV.BASE_URL=\"https://plot.ly\";Plotly.newPlot(\"88a8fbcd-9665-4e8a-8b04-32d5a477d39b\", [{\"marker\": {\"color\": \"rgb(158,202,225)\", \"line\": {\"color\": \"rgb(8,48,107)\", \"width\": 1.5}}, \"opacity\": 0.6, \"orientation\": \"h\", \"text\": [0.18, 0.14, 0.12, 0.1, 0.08, 0.08, 0.06, 0.04, 0.04, 0.02, 0.02, 0.02, 0.02, 0.02, 0.02, 0.02, 0.02, 0.0, 0.0, 0.0, 0.0, 0.0, 0.0, 0.0, 0.0, 0.0, 0.0, 0.0, 0.0, 0.0, 0.0], \"textposition\": \"outside\", \"x\": [0.18, 0.14, 0.12, 0.1, 0.08, 0.08, 0.06, 0.04, 0.04, 0.02, 0.02, 0.02, 0.02, 0.02, 0.02, 0.02, 0.02, 0.0, 0.0, 0.0, 0.0, 0.0, 0.0, 0.0, 0.0, 0.0, 0.0, 0.0, 0.0, 0.0, 0.0], \"y\": [\"link_href_out_of_domain + script_async_true\", \"a_href_https + div_count\", \"script_type_text/javascript + title_count\", \"link_type_text/css + script_src_.js\", \"div_count + p_count\", \"form_action_out_of_domain + script_src_out_of_domain\", \"div_count + script_src_.js\", \"center_count + script_src_.js\", \"img_src_.jpg + script_async_true\", \"link_href_out_of_domain + script_type_text/javascript\", \"img_src_.jpg + script_src_.js\", \"link_href_.css + script_src_.js\", \"script_async_true + script_src_.js\", \"div_count + li_count\", \"script_src_.js + script_src_out_of_domain\", \"script_src_.js / link_href_.css\", \"img_src_.jpg + link_href_out_of_domain\", \"form_action_http + script_src_.js\", \"iframe_src_https + script_src_out_of_domain\", \"iframe_src_https + script_src_.js\", \"br_count + div_count\", \"link_href_0 + script_src_.js\", \"form_action_out_of_domain + script_src_.js\", \"link_rel_shortlink + script_src_.js\", \"link_type_application/rsd+xml + script_src_.js\", \"link_type_application/rss+xml + script_src_.js\", \"script_async_true + script_src_out_of_domain\", \"script_src_.js\", \"script_src_.js / title_count\", \"div_count + meta_count\", \"a_href_http + div_count\"], \"type\": \"bar\", \"uid\": \"72c31578-60b3-47ef-bf18-59dd232bb026\"}], {\"autosize\": false, \"height\": 1000, \"width\": 1000, \"xaxis\": {\"tickfont\": {\"color\": \"black\", \"size\": 12}, \"title\": \"Feature Importances\"}, \"yaxis\": {\"automargin\": true}}, {\"showLink\": true, \"linkText\": \"Export to plot.ly\", \"plotlyServerURL\": \"https://plot.ly\"})});</script>"
      ],
      "text/vnd.plotly.v1+html": [
       "<div id=\"88a8fbcd-9665-4e8a-8b04-32d5a477d39b\" style=\"height: 1000px; width: 1000px;\" class=\"plotly-graph-div\"></div><script type=\"text/javascript\">require([\"plotly\"], function(Plotly) { window.PLOTLYENV=window.PLOTLYENV || {};window.PLOTLYENV.BASE_URL=\"https://plot.ly\";Plotly.newPlot(\"88a8fbcd-9665-4e8a-8b04-32d5a477d39b\", [{\"marker\": {\"color\": \"rgb(158,202,225)\", \"line\": {\"color\": \"rgb(8,48,107)\", \"width\": 1.5}}, \"opacity\": 0.6, \"orientation\": \"h\", \"text\": [0.18, 0.14, 0.12, 0.1, 0.08, 0.08, 0.06, 0.04, 0.04, 0.02, 0.02, 0.02, 0.02, 0.02, 0.02, 0.02, 0.02, 0.0, 0.0, 0.0, 0.0, 0.0, 0.0, 0.0, 0.0, 0.0, 0.0, 0.0, 0.0, 0.0, 0.0], \"textposition\": \"outside\", \"x\": [0.18, 0.14, 0.12, 0.1, 0.08, 0.08, 0.06, 0.04, 0.04, 0.02, 0.02, 0.02, 0.02, 0.02, 0.02, 0.02, 0.02, 0.0, 0.0, 0.0, 0.0, 0.0, 0.0, 0.0, 0.0, 0.0, 0.0, 0.0, 0.0, 0.0, 0.0], \"y\": [\"link_href_out_of_domain + script_async_true\", \"a_href_https + div_count\", \"script_type_text/javascript + title_count\", \"link_type_text/css + script_src_.js\", \"div_count + p_count\", \"form_action_out_of_domain + script_src_out_of_domain\", \"div_count + script_src_.js\", \"center_count + script_src_.js\", \"img_src_.jpg + script_async_true\", \"link_href_out_of_domain + script_type_text/javascript\", \"img_src_.jpg + script_src_.js\", \"link_href_.css + script_src_.js\", \"script_async_true + script_src_.js\", \"div_count + li_count\", \"script_src_.js + script_src_out_of_domain\", \"script_src_.js / link_href_.css\", \"img_src_.jpg + link_href_out_of_domain\", \"form_action_http + script_src_.js\", \"iframe_src_https + script_src_out_of_domain\", \"iframe_src_https + script_src_.js\", \"br_count + div_count\", \"link_href_0 + script_src_.js\", \"form_action_out_of_domain + script_src_.js\", \"link_rel_shortlink + script_src_.js\", \"link_type_application/rsd+xml + script_src_.js\", \"link_type_application/rss+xml + script_src_.js\", \"script_async_true + script_src_out_of_domain\", \"script_src_.js\", \"script_src_.js / title_count\", \"div_count + meta_count\", \"a_href_http + div_count\"], \"type\": \"bar\", \"uid\": \"72c31578-60b3-47ef-bf18-59dd232bb026\"}], {\"autosize\": false, \"height\": 1000, \"width\": 1000, \"xaxis\": {\"tickfont\": {\"color\": \"black\", \"size\": 12}, \"title\": \"Feature Importances\"}, \"yaxis\": {\"automargin\": true}}, {\"showLink\": true, \"linkText\": \"Export to plot.ly\", \"plotlyServerURL\": \"https://plot.ly\"})});</script>"
      ]
     },
     "metadata": {},
     "output_type": "display_data"
    },
    {
     "name": "stdout",
     "output_type": "stream",
     "text": [
      "\n",
      "\n",
      "\u001b[1mGradientBoosting Classifier\u001b[0m\n",
      "Accuracy of the model for training data is: 0.9039461960739229\n",
      "Confusion Matrix for training data is:\n"
     ]
    },
    {
     "data": {
      "text/plain": [
       "Predicted  False  True  __all__\n",
       "Actual                         \n",
       "False      27036  2655    29691\n",
       "True         687  4415     5102\n",
       "__all__    27723  7070    34793"
      ]
     },
     "metadata": {},
     "output_type": "display_data"
    },
    {
     "name": "stdout",
     "output_type": "stream",
     "text": [
      "Accuracy of the model for test data is: 0.897677627040699\n",
      "Confusion Matrix for test data is:\n"
     ]
    },
    {
     "data": {
      "text/plain": [
       "Predicted  False  True  __all__\n",
       "Actual                         \n",
       "False       6712   711     7423\n",
       "True         179  1096     1275\n",
       "__all__     6891  1807     8698"
      ]
     },
     "metadata": {},
     "output_type": "display_data"
    },
    {
     "data": {
      "application/vnd.plotly.v1+json": {
       "config": {
        "linkText": "Export to plot.ly",
        "plotlyServerURL": "https://plot.ly",
        "showLink": true
       },
       "data": [
        {
         "marker": {
          "color": "rgb(158,202,225)",
          "line": {
           "color": "rgb(8,48,107)",
           "width": 1.5
          }
         },
         "opacity": 0.6,
         "orientation": "h",
         "text": [
          0.7159,
          0.1009,
          0.0413,
          0.0273,
          0.0188,
          0.016,
          0.0157,
          0.0129,
          0.0111,
          0.0084,
          0.0058,
          0.0047,
          0.0042,
          0.0027,
          0.0018,
          0.0017,
          0.0017,
          0.0015,
          0.0013,
          0.001,
          0.001,
          0.0009,
          0.0007,
          0.0007,
          0.0005,
          0.0005,
          0.0005,
          0.0002,
          0.0002,
          0,
          0
         ],
         "textposition": "outside",
         "type": "bar",
         "uid": "150ce8fb-2539-4646-a4f1-ac3058feb369",
         "x": [
          0.7158555867830635,
          0.10092310130839935,
          0.04129680493592494,
          0.027348375291131724,
          0.018756649644221163,
          0.016046729215543003,
          0.015679492272211736,
          0.012891355713457413,
          0.011141785890150378,
          0.008400144356926015,
          0.005823186874587659,
          0.004683799712706973,
          0.0041556456304932205,
          0.0026908095014759885,
          0.001826226064586452,
          0.0017162443894609132,
          0.0017027671023870966,
          0.0015116217266714247,
          0.0013023194291869324,
          0.0010471940750855979,
          0.0009854967381143572,
          0.000873946794622793,
          0.000651657368750437,
          0.0006511928574026928,
          0.0005490205515937807,
          0.0005104129323048576,
          0.0004821642988569674,
          0.00024930061316090404,
          0.0002062702382581969,
          3.9698025838887757e-05,
          9.996634245962642e-07
         ],
         "y": [
          "link_href_out_of_domain + script_async_true",
          "script_type_text/javascript + title_count",
          "div_count + p_count",
          "a_href_https + div_count",
          "center_count + script_src_.js",
          "img_src_.jpg + link_href_out_of_domain",
          "script_async_true + script_src_.js",
          "a_href_http + div_count",
          "form_action_out_of_domain + script_src_out_of_domain",
          "link_type_text/css + script_src_.js",
          "link_href_.css + script_src_.js",
          "div_count + meta_count",
          "link_href_out_of_domain + script_type_text/javascript",
          "br_count + div_count",
          "img_src_.jpg + script_async_true",
          "img_src_.jpg + script_src_.js",
          "script_src_.js / link_href_.css",
          "div_count + script_src_.js",
          "iframe_src_https + script_src_out_of_domain",
          "link_rel_shortlink + script_src_.js",
          "form_action_http + script_src_.js",
          "div_count + li_count",
          "link_type_application/rsd+xml + script_src_.js",
          "script_async_true + script_src_out_of_domain",
          "link_type_application/rss+xml + script_src_.js",
          "script_src_.js + script_src_out_of_domain",
          "form_action_out_of_domain + script_src_.js",
          "iframe_src_https + script_src_.js",
          "script_src_.js / title_count",
          "link_href_0 + script_src_.js",
          "script_src_.js"
         ]
        }
       ],
       "layout": {
        "autosize": false,
        "height": 1000,
        "width": 1000,
        "xaxis": {
         "tickfont": {
          "color": "black",
          "size": 12
         },
         "title": "Feature Importances"
        },
        "yaxis": {
         "automargin": true
        }
       }
      },
      "text/html": [
       "<div id=\"7c78e3d6-ae0c-4389-a90b-607768469192\" style=\"height: 1000px; width: 1000px;\" class=\"plotly-graph-div\"></div><script type=\"text/javascript\">require([\"plotly\"], function(Plotly) { window.PLOTLYENV=window.PLOTLYENV || {};window.PLOTLYENV.BASE_URL=\"https://plot.ly\";Plotly.newPlot(\"7c78e3d6-ae0c-4389-a90b-607768469192\", [{\"marker\": {\"color\": \"rgb(158,202,225)\", \"line\": {\"color\": \"rgb(8,48,107)\", \"width\": 1.5}}, \"opacity\": 0.6, \"orientation\": \"h\", \"text\": [0.7159, 0.1009, 0.0413, 0.0273, 0.0188, 0.016, 0.0157, 0.0129, 0.0111, 0.0084, 0.0058, 0.0047, 0.0042, 0.0027, 0.0018, 0.0017, 0.0017, 0.0015, 0.0013, 0.001, 0.001, 0.0009, 0.0007, 0.0007, 0.0005, 0.0005, 0.0005, 0.0002, 0.0002, 0.0, 0.0], \"textposition\": \"outside\", \"x\": [0.7158555867830635, 0.10092310130839935, 0.04129680493592494, 0.027348375291131724, 0.018756649644221163, 0.016046729215543003, 0.015679492272211736, 0.012891355713457413, 0.011141785890150378, 0.008400144356926015, 0.005823186874587659, 0.004683799712706973, 0.0041556456304932205, 0.0026908095014759885, 0.001826226064586452, 0.0017162443894609132, 0.0017027671023870966, 0.0015116217266714247, 0.0013023194291869324, 0.0010471940750855979, 0.0009854967381143572, 0.000873946794622793, 0.000651657368750437, 0.0006511928574026928, 0.0005490205515937807, 0.0005104129323048576, 0.0004821642988569674, 0.00024930061316090404, 0.0002062702382581969, 3.9698025838887757e-05, 9.996634245962642e-07], \"y\": [\"link_href_out_of_domain + script_async_true\", \"script_type_text/javascript + title_count\", \"div_count + p_count\", \"a_href_https + div_count\", \"center_count + script_src_.js\", \"img_src_.jpg + link_href_out_of_domain\", \"script_async_true + script_src_.js\", \"a_href_http + div_count\", \"form_action_out_of_domain + script_src_out_of_domain\", \"link_type_text/css + script_src_.js\", \"link_href_.css + script_src_.js\", \"div_count + meta_count\", \"link_href_out_of_domain + script_type_text/javascript\", \"br_count + div_count\", \"img_src_.jpg + script_async_true\", \"img_src_.jpg + script_src_.js\", \"script_src_.js / link_href_.css\", \"div_count + script_src_.js\", \"iframe_src_https + script_src_out_of_domain\", \"link_rel_shortlink + script_src_.js\", \"form_action_http + script_src_.js\", \"div_count + li_count\", \"link_type_application/rsd+xml + script_src_.js\", \"script_async_true + script_src_out_of_domain\", \"link_type_application/rss+xml + script_src_.js\", \"script_src_.js + script_src_out_of_domain\", \"form_action_out_of_domain + script_src_.js\", \"iframe_src_https + script_src_.js\", \"script_src_.js / title_count\", \"link_href_0 + script_src_.js\", \"script_src_.js\"], \"type\": \"bar\", \"uid\": \"150ce8fb-2539-4646-a4f1-ac3058feb369\"}], {\"autosize\": false, \"height\": 1000, \"width\": 1000, \"xaxis\": {\"tickfont\": {\"color\": \"black\", \"size\": 12}, \"title\": \"Feature Importances\"}, \"yaxis\": {\"automargin\": true}}, {\"showLink\": true, \"linkText\": \"Export to plot.ly\", \"plotlyServerURL\": \"https://plot.ly\"})});</script>"
      ],
      "text/vnd.plotly.v1+html": [
       "<div id=\"7c78e3d6-ae0c-4389-a90b-607768469192\" style=\"height: 1000px; width: 1000px;\" class=\"plotly-graph-div\"></div><script type=\"text/javascript\">require([\"plotly\"], function(Plotly) { window.PLOTLYENV=window.PLOTLYENV || {};window.PLOTLYENV.BASE_URL=\"https://plot.ly\";Plotly.newPlot(\"7c78e3d6-ae0c-4389-a90b-607768469192\", [{\"marker\": {\"color\": \"rgb(158,202,225)\", \"line\": {\"color\": \"rgb(8,48,107)\", \"width\": 1.5}}, \"opacity\": 0.6, \"orientation\": \"h\", \"text\": [0.7159, 0.1009, 0.0413, 0.0273, 0.0188, 0.016, 0.0157, 0.0129, 0.0111, 0.0084, 0.0058, 0.0047, 0.0042, 0.0027, 0.0018, 0.0017, 0.0017, 0.0015, 0.0013, 0.001, 0.001, 0.0009, 0.0007, 0.0007, 0.0005, 0.0005, 0.0005, 0.0002, 0.0002, 0.0, 0.0], \"textposition\": \"outside\", \"x\": [0.7158555867830635, 0.10092310130839935, 0.04129680493592494, 0.027348375291131724, 0.018756649644221163, 0.016046729215543003, 0.015679492272211736, 0.012891355713457413, 0.011141785890150378, 0.008400144356926015, 0.005823186874587659, 0.004683799712706973, 0.0041556456304932205, 0.0026908095014759885, 0.001826226064586452, 0.0017162443894609132, 0.0017027671023870966, 0.0015116217266714247, 0.0013023194291869324, 0.0010471940750855979, 0.0009854967381143572, 0.000873946794622793, 0.000651657368750437, 0.0006511928574026928, 0.0005490205515937807, 0.0005104129323048576, 0.0004821642988569674, 0.00024930061316090404, 0.0002062702382581969, 3.9698025838887757e-05, 9.996634245962642e-07], \"y\": [\"link_href_out_of_domain + script_async_true\", \"script_type_text/javascript + title_count\", \"div_count + p_count\", \"a_href_https + div_count\", \"center_count + script_src_.js\", \"img_src_.jpg + link_href_out_of_domain\", \"script_async_true + script_src_.js\", \"a_href_http + div_count\", \"form_action_out_of_domain + script_src_out_of_domain\", \"link_type_text/css + script_src_.js\", \"link_href_.css + script_src_.js\", \"div_count + meta_count\", \"link_href_out_of_domain + script_type_text/javascript\", \"br_count + div_count\", \"img_src_.jpg + script_async_true\", \"img_src_.jpg + script_src_.js\", \"script_src_.js / link_href_.css\", \"div_count + script_src_.js\", \"iframe_src_https + script_src_out_of_domain\", \"link_rel_shortlink + script_src_.js\", \"form_action_http + script_src_.js\", \"div_count + li_count\", \"link_type_application/rsd+xml + script_src_.js\", \"script_async_true + script_src_out_of_domain\", \"link_type_application/rss+xml + script_src_.js\", \"script_src_.js + script_src_out_of_domain\", \"form_action_out_of_domain + script_src_.js\", \"iframe_src_https + script_src_.js\", \"script_src_.js / title_count\", \"link_href_0 + script_src_.js\", \"script_src_.js\"], \"type\": \"bar\", \"uid\": \"150ce8fb-2539-4646-a4f1-ac3058feb369\"}], {\"autosize\": false, \"height\": 1000, \"width\": 1000, \"xaxis\": {\"tickfont\": {\"color\": \"black\", \"size\": 12}, \"title\": \"Feature Importances\"}, \"yaxis\": {\"automargin\": true}}, {\"showLink\": true, \"linkText\": \"Export to plot.ly\", \"plotlyServerURL\": \"https://plot.ly\"})});</script>"
      ]
     },
     "metadata": {},
     "output_type": "display_data"
    },
    {
     "name": "stdout",
     "output_type": "stream",
     "text": [
      "\n",
      "\n",
      "\u001b[1mExtraTree Classifier\u001b[0m\n",
      "Accuracy of the model for training data is: 0.9199839048084385\n",
      "Confusion Matrix for training data is:\n"
     ]
    },
    {
     "data": {
      "text/plain": [
       "Predicted  False  True  __all__\n",
       "Actual                         \n",
       "False      27047  2644    29691\n",
       "True         140  4962     5102\n",
       "__all__    27187  7606    34793"
      ]
     },
     "metadata": {},
     "output_type": "display_data"
    },
    {
     "name": "stdout",
     "output_type": "stream",
     "text": [
      "Accuracy of the model for test data is: 0.903541043918142\n",
      "Confusion Matrix for test data is:\n"
     ]
    },
    {
     "data": {
      "text/plain": [
       "Predicted  False  True  __all__\n",
       "Actual                         \n",
       "False       6712   711     7423\n",
       "True         128  1147     1275\n",
       "__all__     6840  1858     8698"
      ]
     },
     "metadata": {},
     "output_type": "display_data"
    },
    {
     "data": {
      "application/vnd.plotly.v1+json": {
       "config": {
        "linkText": "Export to plot.ly",
        "plotlyServerURL": "https://plot.ly",
        "showLink": true
       },
       "data": [
        {
         "marker": {
          "color": "rgb(158,202,225)",
          "line": {
           "color": "rgb(8,48,107)",
           "width": 1.5
          }
         },
         "opacity": 0.6,
         "orientation": "h",
         "text": [
          0.1111,
          0.0973,
          0.0791,
          0.0683,
          0.0578,
          0.0445,
          0.0386,
          0.0365,
          0.0364,
          0.0333,
          0.0319,
          0.0315,
          0.03,
          0.0244,
          0.0225,
          0.0219,
          0.0209,
          0.0208,
          0.0204,
          0.0197,
          0.0197,
          0.0159,
          0.0155,
          0.0145,
          0.0143,
          0.0142,
          0.0141,
          0.0138,
          0.0133,
          0.0129,
          0.0049
         ],
         "textposition": "outside",
         "type": "bar",
         "uid": "1287bc85-5f3d-4152-9f61-01395f2fbb4c",
         "x": [
          0.11114234038607497,
          0.09728846998561556,
          0.07913284382431288,
          0.06830973929707022,
          0.05784415471477219,
          0.04448493009734571,
          0.03860142477099638,
          0.03649548149778647,
          0.036376695408315,
          0.03329000896313111,
          0.03191114832759083,
          0.03147896695184294,
          0.030000440265338376,
          0.024393247449012032,
          0.022518986835654505,
          0.021929237401546942,
          0.02085567937850964,
          0.02082535636557545,
          0.02037494932658756,
          0.01974256750157293,
          0.019676320143938407,
          0.015877077819514234,
          0.015542925993173697,
          0.014479478853369983,
          0.014285008129808366,
          0.014162215322233798,
          0.014123315582197272,
          0.013752384836248575,
          0.013251150324779856,
          0.012915482618616565,
          0.0049379716274677845
         ],
         "y": [
          "script_src_.js + script_src_out_of_domain",
          "link_rel_shortlink + script_src_.js",
          "div_count + meta_count",
          "link_type_application/rsd+xml + script_src_.js",
          "script_type_text/javascript + title_count",
          "script_src_.js",
          "link_href_0 + script_src_.js",
          "br_count + div_count",
          "script_src_.js / title_count",
          "link_href_out_of_domain + script_type_text/javascript",
          "link_type_application/rss+xml + script_src_.js",
          "script_async_true + script_src_.js",
          "a_href_https + div_count",
          "center_count + script_src_.js",
          "img_src_.jpg + script_async_true",
          "iframe_src_https + script_src_out_of_domain",
          "div_count + p_count",
          "script_src_.js / link_href_.css",
          "link_href_.css + script_src_.js",
          "form_action_http + script_src_.js",
          "a_href_http + div_count",
          "link_href_out_of_domain + script_async_true",
          "form_action_out_of_domain + script_src_out_of_domain",
          "div_count + script_src_.js",
          "div_count + li_count",
          "link_type_text/css + script_src_.js",
          "img_src_.jpg + link_href_out_of_domain",
          "img_src_.jpg + script_src_.js",
          "script_async_true + script_src_out_of_domain",
          "form_action_out_of_domain + script_src_.js",
          "iframe_src_https + script_src_.js"
         ]
        }
       ],
       "layout": {
        "autosize": false,
        "height": 1000,
        "width": 1000,
        "xaxis": {
         "tickfont": {
          "color": "black",
          "size": 12
         },
         "title": "Feature Importances"
        },
        "yaxis": {
         "automargin": true
        }
       }
      },
      "text/html": [
       "<div id=\"b3a8f123-c192-4c73-a9ee-cfc2fc91d98c\" style=\"height: 1000px; width: 1000px;\" class=\"plotly-graph-div\"></div><script type=\"text/javascript\">require([\"plotly\"], function(Plotly) { window.PLOTLYENV=window.PLOTLYENV || {};window.PLOTLYENV.BASE_URL=\"https://plot.ly\";Plotly.newPlot(\"b3a8f123-c192-4c73-a9ee-cfc2fc91d98c\", [{\"marker\": {\"color\": \"rgb(158,202,225)\", \"line\": {\"color\": \"rgb(8,48,107)\", \"width\": 1.5}}, \"opacity\": 0.6, \"orientation\": \"h\", \"text\": [0.1111, 0.0973, 0.0791, 0.0683, 0.0578, 0.0445, 0.0386, 0.0365, 0.0364, 0.0333, 0.0319, 0.0315, 0.03, 0.0244, 0.0225, 0.0219, 0.0209, 0.0208, 0.0204, 0.0197, 0.0197, 0.0159, 0.0155, 0.0145, 0.0143, 0.0142, 0.0141, 0.0138, 0.0133, 0.0129, 0.0049], \"textposition\": \"outside\", \"x\": [0.11114234038607497, 0.09728846998561556, 0.07913284382431288, 0.06830973929707022, 0.05784415471477219, 0.04448493009734571, 0.03860142477099638, 0.03649548149778647, 0.036376695408315, 0.03329000896313111, 0.03191114832759083, 0.03147896695184294, 0.030000440265338376, 0.024393247449012032, 0.022518986835654505, 0.021929237401546942, 0.02085567937850964, 0.02082535636557545, 0.02037494932658756, 0.01974256750157293, 0.019676320143938407, 0.015877077819514234, 0.015542925993173697, 0.014479478853369983, 0.014285008129808366, 0.014162215322233798, 0.014123315582197272, 0.013752384836248575, 0.013251150324779856, 0.012915482618616565, 0.0049379716274677845], \"y\": [\"script_src_.js + script_src_out_of_domain\", \"link_rel_shortlink + script_src_.js\", \"div_count + meta_count\", \"link_type_application/rsd+xml + script_src_.js\", \"script_type_text/javascript + title_count\", \"script_src_.js\", \"link_href_0 + script_src_.js\", \"br_count + div_count\", \"script_src_.js / title_count\", \"link_href_out_of_domain + script_type_text/javascript\", \"link_type_application/rss+xml + script_src_.js\", \"script_async_true + script_src_.js\", \"a_href_https + div_count\", \"center_count + script_src_.js\", \"img_src_.jpg + script_async_true\", \"iframe_src_https + script_src_out_of_domain\", \"div_count + p_count\", \"script_src_.js / link_href_.css\", \"link_href_.css + script_src_.js\", \"form_action_http + script_src_.js\", \"a_href_http + div_count\", \"link_href_out_of_domain + script_async_true\", \"form_action_out_of_domain + script_src_out_of_domain\", \"div_count + script_src_.js\", \"div_count + li_count\", \"link_type_text/css + script_src_.js\", \"img_src_.jpg + link_href_out_of_domain\", \"img_src_.jpg + script_src_.js\", \"script_async_true + script_src_out_of_domain\", \"form_action_out_of_domain + script_src_.js\", \"iframe_src_https + script_src_.js\"], \"type\": \"bar\", \"uid\": \"1287bc85-5f3d-4152-9f61-01395f2fbb4c\"}], {\"autosize\": false, \"height\": 1000, \"width\": 1000, \"xaxis\": {\"tickfont\": {\"color\": \"black\", \"size\": 12}, \"title\": \"Feature Importances\"}, \"yaxis\": {\"automargin\": true}}, {\"showLink\": true, \"linkText\": \"Export to plot.ly\", \"plotlyServerURL\": \"https://plot.ly\"})});</script>"
      ],
      "text/vnd.plotly.v1+html": [
       "<div id=\"b3a8f123-c192-4c73-a9ee-cfc2fc91d98c\" style=\"height: 1000px; width: 1000px;\" class=\"plotly-graph-div\"></div><script type=\"text/javascript\">require([\"plotly\"], function(Plotly) { window.PLOTLYENV=window.PLOTLYENV || {};window.PLOTLYENV.BASE_URL=\"https://plot.ly\";Plotly.newPlot(\"b3a8f123-c192-4c73-a9ee-cfc2fc91d98c\", [{\"marker\": {\"color\": \"rgb(158,202,225)\", \"line\": {\"color\": \"rgb(8,48,107)\", \"width\": 1.5}}, \"opacity\": 0.6, \"orientation\": \"h\", \"text\": [0.1111, 0.0973, 0.0791, 0.0683, 0.0578, 0.0445, 0.0386, 0.0365, 0.0364, 0.0333, 0.0319, 0.0315, 0.03, 0.0244, 0.0225, 0.0219, 0.0209, 0.0208, 0.0204, 0.0197, 0.0197, 0.0159, 0.0155, 0.0145, 0.0143, 0.0142, 0.0141, 0.0138, 0.0133, 0.0129, 0.0049], \"textposition\": \"outside\", \"x\": [0.11114234038607497, 0.09728846998561556, 0.07913284382431288, 0.06830973929707022, 0.05784415471477219, 0.04448493009734571, 0.03860142477099638, 0.03649548149778647, 0.036376695408315, 0.03329000896313111, 0.03191114832759083, 0.03147896695184294, 0.030000440265338376, 0.024393247449012032, 0.022518986835654505, 0.021929237401546942, 0.02085567937850964, 0.02082535636557545, 0.02037494932658756, 0.01974256750157293, 0.019676320143938407, 0.015877077819514234, 0.015542925993173697, 0.014479478853369983, 0.014285008129808366, 0.014162215322233798, 0.014123315582197272, 0.013752384836248575, 0.013251150324779856, 0.012915482618616565, 0.0049379716274677845], \"y\": [\"script_src_.js + script_src_out_of_domain\", \"link_rel_shortlink + script_src_.js\", \"div_count + meta_count\", \"link_type_application/rsd+xml + script_src_.js\", \"script_type_text/javascript + title_count\", \"script_src_.js\", \"link_href_0 + script_src_.js\", \"br_count + div_count\", \"script_src_.js / title_count\", \"link_href_out_of_domain + script_type_text/javascript\", \"link_type_application/rss+xml + script_src_.js\", \"script_async_true + script_src_.js\", \"a_href_https + div_count\", \"center_count + script_src_.js\", \"img_src_.jpg + script_async_true\", \"iframe_src_https + script_src_out_of_domain\", \"div_count + p_count\", \"script_src_.js / link_href_.css\", \"link_href_.css + script_src_.js\", \"form_action_http + script_src_.js\", \"a_href_http + div_count\", \"link_href_out_of_domain + script_async_true\", \"form_action_out_of_domain + script_src_out_of_domain\", \"div_count + script_src_.js\", \"div_count + li_count\", \"link_type_text/css + script_src_.js\", \"img_src_.jpg + link_href_out_of_domain\", \"img_src_.jpg + script_src_.js\", \"script_async_true + script_src_out_of_domain\", \"form_action_out_of_domain + script_src_.js\", \"iframe_src_https + script_src_.js\"], \"type\": \"bar\", \"uid\": \"1287bc85-5f3d-4152-9f61-01395f2fbb4c\"}], {\"autosize\": false, \"height\": 1000, \"width\": 1000, \"xaxis\": {\"tickfont\": {\"color\": \"black\", \"size\": 12}, \"title\": \"Feature Importances\"}, \"yaxis\": {\"automargin\": true}}, {\"showLink\": true, \"linkText\": \"Export to plot.ly\", \"plotlyServerURL\": \"https://plot.ly\"})});</script>"
      ]
     },
     "metadata": {},
     "output_type": "display_data"
    },
    {
     "name": "stdout",
     "output_type": "stream",
     "text": [
      "\n",
      "\n",
      "\u001b[1mBagging Classifier\u001b[0m\n",
      "Accuracy of the model for training data is: 0.9172534705256804\n",
      "Confusion Matrix for training data is:\n"
     ]
    },
    {
     "data": {
      "text/plain": [
       "Predicted  False  True  __all__\n",
       "Actual                         \n",
       "False      27044  2647    29691\n",
       "True         232  4870     5102\n",
       "__all__    27276  7517    34793"
      ]
     },
     "metadata": {},
     "output_type": "display_data"
    },
    {
     "name": "stdout",
     "output_type": "stream",
     "text": [
      "Accuracy of the model for test data is: 0.902506323292711\n",
      "Confusion Matrix for test data is:\n"
     ]
    },
    {
     "data": {
      "text/plain": [
       "Predicted  False  True  __all__\n",
       "Actual                         \n",
       "False       6699   724     7423\n",
       "True         124  1151     1275\n",
       "__all__     6823  1875     8698"
      ]
     },
     "metadata": {},
     "output_type": "display_data"
    },
    {
     "name": "stdout",
     "output_type": "stream",
     "text": [
      "\n",
      "\n",
      "\u001b[1mNeural Network-1\u001b[0m\n",
      "The accuracy of the model on training data is: 0.8902940246618459\n"
     ]
    },
    {
     "data": {
      "text/plain": [
       "Predicted  False  True  __all__\n",
       "Actual                         \n",
       "False      26349  3342    29691\n",
       "True         475  4627     5102\n",
       "__all__    26824  7969    34793"
      ]
     },
     "metadata": {},
     "output_type": "display_data"
    },
    {
     "name": "stdout",
     "output_type": "stream",
     "text": [
      "The accuracy of the model on test data is: 0.8768682455736951\n"
     ]
    },
    {
     "data": {
      "text/plain": [
       "Predicted  False  True  __all__\n",
       "Actual                         \n",
       "False       6494   929     7423\n",
       "True         142  1133     1275\n",
       "__all__     6636  2062     8698"
      ]
     },
     "metadata": {},
     "output_type": "display_data"
    },
    {
     "name": "stdout",
     "output_type": "stream",
     "text": [
      "\n",
      "\n"
     ]
    }
   ],
   "source": [
    "## Table to store training and test measures so we can compare later\n",
    "table_80_60_train=pd.DataFrame(columns=['accuracy','TP','TN','FP','FN','FPR','FNR'])\n",
    "table_80_60_test=pd.DataFrame(columns=['accuracy','TP','TN','FP','FN','FPR','FNR','auc','mcc'])\n",
    "\n",
    "\n",
    "feat_imp=[None]*4\n",
    "j=0\n",
    "for i in range(0,8):\n",
    "    if i>=2 and i<=5:\n",
    "        model,cm_train,cm_test,acc_train,acc_test,roc_auc,feat_imp[j],mcc=f[i](scaled_X_train,train_Y,scaled_X_test,test_Y,feature_name)\n",
    "        j=j+1\n",
    "    else:\n",
    "        model,cm_train,cm_test,acc_train,acc_test,roc_auc,mcc=f[i](scaled_X_train,train_Y,scaled_X_test,test_Y)\n",
    "    table_80_60_train.loc[i]=   ([acc_train,cm_train.TP,cm_train.TN,cm_train.FP,cm_train.FN,cm_train.FPR,cm_train.FNR])\n",
    "    table_80_60_test.loc[i] =   ([acc_test ,cm_test.TP, cm_test.TN, cm_test.FP, cm_test.FN, cm_test.FPR, cm_test.FNR,roc_auc,mcc])\n",
    "    print(\"\\n\")"
   ]
  },
  {
   "cell_type": "markdown",
   "metadata": {},
   "source": [
    "### <a id='4.A' style=\"text-decoration : none; color : #000000;\"> A. Results</a>"
   ]
  },
  {
   "cell_type": "code",
   "execution_count": 84,
   "metadata": {},
   "outputs": [
    {
     "data": {
      "application/vnd.plotly.v1+json": {
       "config": {
        "linkText": "Export to plot.ly",
        "plotlyServerURL": "https://plot.ly",
        "showLink": true
       },
       "data": [
        {
         "mode": "lines",
         "name": "KNN_model",
         "type": "scatter",
         "uid": "f432400b-9ea5-40bb-a5da-8cb5d43163eb",
         "x": [
          "accuracy",
          "FPR",
          "FNR",
          "auc"
         ],
         "y": [
          0.8994021614164176,
          0.09901657011989762,
          0.10980392156862745,
          0.8955897541557375
         ]
        },
        {
         "mode": "lines+markers",
         "name": "Logistic Regression",
         "type": "scatter",
         "uid": "7f7aa217-6fe8-4635-8273-90b27073b4e9",
         "x": [
          "accuracy",
          "FPR",
          "FNR",
          "auc"
         ],
         "y": [
          0.8833065072430444,
          0.09605280883739728,
          0.23686274509803923,
          0.8335422230322818
         ]
        },
        {
         "marker": {
          "symbol": "x"
         },
         "mode": "lines+markers",
         "name": "Random Forest",
         "type": "scatter",
         "uid": "58d6782d-edbf-47cf-800b-0c32bdbb10f8",
         "x": [
          "accuracy",
          "FPR",
          "FNR",
          "auc"
         ],
         "y": [
          0.9036560128765233,
          0.09537922672773812,
          0.10196078431372549,
          0.9013299944792682
         ]
        },
        {
         "mode": "lines",
         "name": "Ada Boost",
         "type": "scatter",
         "uid": "842b55c5-ae64-49e5-ad4f-7ad69cd7a163",
         "x": [
          "accuracy",
          "FPR",
          "FNR",
          "auc"
         ],
         "y": [
          0.8912393653713497,
          0.09686110736898829,
          0.1780392156862745,
          0.8625498384723687
         ]
        },
        {
         "mode": "lines+markers",
         "name": "GradientBoosting",
         "type": "scatter",
         "uid": "d0620d61-8998-435b-8983-743363a8ef2c",
         "x": [
          "accuracy",
          "FPR",
          "FNR",
          "auc"
         ],
         "y": [
          0.897677627040699,
          0.0957833759935336,
          0.1403921568627451,
          0.8819122335718608
         ]
        },
        {
         "marker": {
          "symbol": "x"
         },
         "mode": "lines+markers",
         "name": "ExtraTree Classifier",
         "type": "scatter",
         "uid": "8c0193c1-7eb0-4282-a7f8-b5397e7cf8ec",
         "x": [
          "accuracy",
          "FPR",
          "FNR",
          "auc"
         ],
         "y": [
          0.903541043918142,
          0.0957833759935336,
          0.1003921568627451,
          0.9019122335718607
         ]
        },
        {
         "marker": {
          "symbol": "x"
         },
         "mode": "lines+markers",
         "name": "Bagging",
         "type": "scatter",
         "uid": "a615613e-d972-4a22-84af-16f212d86abf",
         "x": [
          "accuracy",
          "FPR",
          "FNR",
          "auc"
         ],
         "y": [
          0.902506323292711,
          0.09753468947864745,
          0.09725490196078432,
          0.9026052042802841
         ]
        },
        {
         "marker": {
          "symbol": "x"
         },
         "mode": "lines+markers",
         "name": "Neural Network",
         "type": "scatter",
         "uid": "75281d68-c8d9-47a4-a1cc-84cb2035c240",
         "x": [
          "accuracy",
          "FPR",
          "FNR",
          "auc"
         ],
         "y": [
          0.8768682455736951,
          0.1251515559746733,
          0.11137254901960784,
          0.8817379475028594
         ]
        }
       ],
       "layout": {
        "title": "Result comparision for Features selected in Section 1",
        "yaxis": {
         "dtick": 0.05,
         "tick0": 0
        }
       }
      },
      "text/html": [
       "<div id=\"27a26340-4a48-4c7a-a8cc-922009a595f3\" style=\"height: 525px; width: 100%;\" class=\"plotly-graph-div\"></div><script type=\"text/javascript\">require([\"plotly\"], function(Plotly) { window.PLOTLYENV=window.PLOTLYENV || {};window.PLOTLYENV.BASE_URL=\"https://plot.ly\";Plotly.newPlot(\"27a26340-4a48-4c7a-a8cc-922009a595f3\", [{\"mode\": \"lines\", \"name\": \"KNN_model\", \"x\": [\"accuracy\", \"FPR\", \"FNR\", \"auc\"], \"y\": [0.8994021614164176, 0.09901657011989762, 0.10980392156862745, 0.8955897541557375], \"type\": \"scatter\", \"uid\": \"f432400b-9ea5-40bb-a5da-8cb5d43163eb\"}, {\"mode\": \"lines+markers\", \"name\": \"Logistic Regression\", \"x\": [\"accuracy\", \"FPR\", \"FNR\", \"auc\"], \"y\": [0.8833065072430444, 0.09605280883739728, 0.23686274509803923, 0.8335422230322818], \"type\": \"scatter\", \"uid\": \"7f7aa217-6fe8-4635-8273-90b27073b4e9\"}, {\"marker\": {\"symbol\": \"x\"}, \"mode\": \"lines+markers\", \"name\": \"Random Forest\", \"x\": [\"accuracy\", \"FPR\", \"FNR\", \"auc\"], \"y\": [0.9036560128765233, 0.09537922672773812, 0.10196078431372549, 0.9013299944792682], \"type\": \"scatter\", \"uid\": \"58d6782d-edbf-47cf-800b-0c32bdbb10f8\"}, {\"mode\": \"lines\", \"name\": \"Ada Boost\", \"x\": [\"accuracy\", \"FPR\", \"FNR\", \"auc\"], \"y\": [0.8912393653713497, 0.09686110736898829, 0.1780392156862745, 0.8625498384723687], \"type\": \"scatter\", \"uid\": \"842b55c5-ae64-49e5-ad4f-7ad69cd7a163\"}, {\"mode\": \"lines+markers\", \"name\": \"GradientBoosting\", \"x\": [\"accuracy\", \"FPR\", \"FNR\", \"auc\"], \"y\": [0.897677627040699, 0.0957833759935336, 0.1403921568627451, 0.8819122335718608], \"type\": \"scatter\", \"uid\": \"d0620d61-8998-435b-8983-743363a8ef2c\"}, {\"marker\": {\"symbol\": \"x\"}, \"mode\": \"lines+markers\", \"name\": \"ExtraTree Classifier\", \"x\": [\"accuracy\", \"FPR\", \"FNR\", \"auc\"], \"y\": [0.903541043918142, 0.0957833759935336, 0.1003921568627451, 0.9019122335718607], \"type\": \"scatter\", \"uid\": \"8c0193c1-7eb0-4282-a7f8-b5397e7cf8ec\"}, {\"marker\": {\"symbol\": \"x\"}, \"mode\": \"lines+markers\", \"name\": \"Bagging\", \"x\": [\"accuracy\", \"FPR\", \"FNR\", \"auc\"], \"y\": [0.902506323292711, 0.09753468947864745, 0.09725490196078432, 0.9026052042802841], \"type\": \"scatter\", \"uid\": \"a615613e-d972-4a22-84af-16f212d86abf\"}, {\"marker\": {\"symbol\": \"x\"}, \"mode\": \"lines+markers\", \"name\": \"Neural Network\", \"x\": [\"accuracy\", \"FPR\", \"FNR\", \"auc\"], \"y\": [0.8768682455736951, 0.1251515559746733, 0.11137254901960784, 0.8817379475028594], \"type\": \"scatter\", \"uid\": \"75281d68-c8d9-47a4-a1cc-84cb2035c240\"}], {\"title\": \"Result comparision for Features selected in Section 1\", \"yaxis\": {\"dtick\": 0.05, \"tick0\": 0}}, {\"showLink\": true, \"linkText\": \"Export to plot.ly\", \"plotlyServerURL\": \"https://plot.ly\"})});</script><script type=\"text/javascript\">window.addEventListener(\"resize\", function(){window._Plotly.Plots.resize(document.getElementById(\"27a26340-4a48-4c7a-a8cc-922009a595f3\"));});</script>"
      ],
      "text/vnd.plotly.v1+html": [
       "<div id=\"27a26340-4a48-4c7a-a8cc-922009a595f3\" style=\"height: 525px; width: 100%;\" class=\"plotly-graph-div\"></div><script type=\"text/javascript\">require([\"plotly\"], function(Plotly) { window.PLOTLYENV=window.PLOTLYENV || {};window.PLOTLYENV.BASE_URL=\"https://plot.ly\";Plotly.newPlot(\"27a26340-4a48-4c7a-a8cc-922009a595f3\", [{\"mode\": \"lines\", \"name\": \"KNN_model\", \"x\": [\"accuracy\", \"FPR\", \"FNR\", \"auc\"], \"y\": [0.8994021614164176, 0.09901657011989762, 0.10980392156862745, 0.8955897541557375], \"type\": \"scatter\", \"uid\": \"f432400b-9ea5-40bb-a5da-8cb5d43163eb\"}, {\"mode\": \"lines+markers\", \"name\": \"Logistic Regression\", \"x\": [\"accuracy\", \"FPR\", \"FNR\", \"auc\"], \"y\": [0.8833065072430444, 0.09605280883739728, 0.23686274509803923, 0.8335422230322818], \"type\": \"scatter\", \"uid\": \"7f7aa217-6fe8-4635-8273-90b27073b4e9\"}, {\"marker\": {\"symbol\": \"x\"}, \"mode\": \"lines+markers\", \"name\": \"Random Forest\", \"x\": [\"accuracy\", \"FPR\", \"FNR\", \"auc\"], \"y\": [0.9036560128765233, 0.09537922672773812, 0.10196078431372549, 0.9013299944792682], \"type\": \"scatter\", \"uid\": \"58d6782d-edbf-47cf-800b-0c32bdbb10f8\"}, {\"mode\": \"lines\", \"name\": \"Ada Boost\", \"x\": [\"accuracy\", \"FPR\", \"FNR\", \"auc\"], \"y\": [0.8912393653713497, 0.09686110736898829, 0.1780392156862745, 0.8625498384723687], \"type\": \"scatter\", \"uid\": \"842b55c5-ae64-49e5-ad4f-7ad69cd7a163\"}, {\"mode\": \"lines+markers\", \"name\": \"GradientBoosting\", \"x\": [\"accuracy\", \"FPR\", \"FNR\", \"auc\"], \"y\": [0.897677627040699, 0.0957833759935336, 0.1403921568627451, 0.8819122335718608], \"type\": \"scatter\", \"uid\": \"d0620d61-8998-435b-8983-743363a8ef2c\"}, {\"marker\": {\"symbol\": \"x\"}, \"mode\": \"lines+markers\", \"name\": \"ExtraTree Classifier\", \"x\": [\"accuracy\", \"FPR\", \"FNR\", \"auc\"], \"y\": [0.903541043918142, 0.0957833759935336, 0.1003921568627451, 0.9019122335718607], \"type\": \"scatter\", \"uid\": \"8c0193c1-7eb0-4282-a7f8-b5397e7cf8ec\"}, {\"marker\": {\"symbol\": \"x\"}, \"mode\": \"lines+markers\", \"name\": \"Bagging\", \"x\": [\"accuracy\", \"FPR\", \"FNR\", \"auc\"], \"y\": [0.902506323292711, 0.09753468947864745, 0.09725490196078432, 0.9026052042802841], \"type\": \"scatter\", \"uid\": \"a615613e-d972-4a22-84af-16f212d86abf\"}, {\"marker\": {\"symbol\": \"x\"}, \"mode\": \"lines+markers\", \"name\": \"Neural Network\", \"x\": [\"accuracy\", \"FPR\", \"FNR\", \"auc\"], \"y\": [0.8768682455736951, 0.1251515559746733, 0.11137254901960784, 0.8817379475028594], \"type\": \"scatter\", \"uid\": \"75281d68-c8d9-47a4-a1cc-84cb2035c240\"}], {\"title\": \"Result comparision for Features selected in Section 1\", \"yaxis\": {\"dtick\": 0.05, \"tick0\": 0}}, {\"showLink\": true, \"linkText\": \"Export to plot.ly\", \"plotlyServerURL\": \"https://plot.ly\"})});</script><script type=\"text/javascript\">window.addEventListener(\"resize\", function(){window._Plotly.Plots.resize(document.getElementById(\"27a26340-4a48-4c7a-a8cc-922009a595f3\"));});</script>"
      ]
     },
     "metadata": {},
     "output_type": "display_data"
    }
   ],
   "source": [
    "trace0 = go.Scatter(x=table_80_60_test.iloc[0].index.values[[0,5,6,7]],\n",
    "                    y=table_80_60_test.iloc[0].values[[0,5,6,7]],\n",
    "                    mode = 'lines',\n",
    "                    name = 'KNN_model')\n",
    "\n",
    "trace1 = go.Scatter(x=table_80_60_test.iloc[1].index.values[[0,5,6,7]],\n",
    "                    y=table_80_60_test.iloc[1].values[[0,5,6,7]],\n",
    "                    mode = 'lines+markers',\n",
    "                    name = 'Logistic Regression')\n",
    "\n",
    "trace2 = go.Scatter(x=table_80_60_test.iloc[2].index.values[[0,5,6,7]],\n",
    "                    y=table_80_60_test.iloc[2].values[[0,5,6,7]],\n",
    "                    mode = 'lines+markers',marker=dict(symbol='x'),\n",
    "                    name = 'Random Forest')\n",
    "\n",
    "\n",
    "trace3 = go.Scatter(x=table_80_60_test.iloc[3].index.values[[0,5,6,7]],\n",
    "                    y=table_80_60_test.iloc[3].values[[0,5,6,7]],\n",
    "                    mode = 'lines',\n",
    "                    name = 'Ada Boost')\n",
    "\n",
    "trace4 = go.Scatter(x=table_80_60_test.iloc[4].index.values[[0,5,6,7]],\n",
    "                    y=table_80_60_test.iloc[4].values[[0,5,6,7]],\n",
    "                    mode = 'lines+markers',\n",
    "                    name = 'GradientBoosting')\n",
    "\n",
    "trace5 = go.Scatter(x=table_80_60_test.iloc[5].index.values[[0,5,6,7]],\n",
    "                    y=table_80_60_test.iloc[5].values[[0,5,6,7]],\n",
    "                    mode = 'lines+markers',marker=dict(symbol='x'),\n",
    "                    name = 'ExtraTree Classifier')\n",
    "\n",
    "trace6 = go.Scatter(x=table_80_60_test.iloc[6].index.values[[0,5,6,7]],\n",
    "                    y=table_80_60_test.iloc[6].values[[0,5,6,7]],\n",
    "                    mode = 'lines+markers',marker=dict(symbol='x'),\n",
    "                    name = 'Bagging')\n",
    "\n",
    "trace7 = go.Scatter(x=table_80_60_test.iloc[7].index.values[[0,5,6,7]],\n",
    "                    y=table_80_60_test.iloc[7].values[[0,5,6,7]],\n",
    "                    mode = 'lines+markers',marker=dict(symbol='x'),\n",
    "                    name = 'Neural Network')\n",
    "\n",
    "\n",
    "\n",
    "data = [trace0, trace1, trace2, trace3, trace4, trace5, trace6, trace7]\n",
    "layout = go.Layout(yaxis=dict(tick0=0,dtick=0.05),title='Result comparision for Features selected in Section 1')\n",
    "fig = go.Figure(data=data, layout=layout)\n",
    "\n",
    "iplot(fig, filename='Result')"
   ]
  },
  {
   "cell_type": "code",
   "execution_count": 85,
   "metadata": {},
   "outputs": [
    {
     "name": "stdout",
     "output_type": "stream",
     "text": [
      "Training Results\n"
     ]
    },
    {
     "data": {
      "text/html": [
       "<div>\n",
       "<style scoped>\n",
       "    .dataframe tbody tr th:only-of-type {\n",
       "        vertical-align: middle;\n",
       "    }\n",
       "\n",
       "    .dataframe tbody tr th {\n",
       "        vertical-align: top;\n",
       "    }\n",
       "\n",
       "    .dataframe thead th {\n",
       "        text-align: right;\n",
       "    }\n",
       "</style>\n",
       "<table border=\"1\" class=\"dataframe\">\n",
       "  <thead>\n",
       "    <tr style=\"text-align: right;\">\n",
       "      <th></th>\n",
       "      <th>accuracy</th>\n",
       "      <th>TP</th>\n",
       "      <th>TN</th>\n",
       "      <th>FP</th>\n",
       "      <th>FN</th>\n",
       "      <th>FPR</th>\n",
       "      <th>FNR</th>\n",
       "    </tr>\n",
       "    <tr>\n",
       "      <th>index</th>\n",
       "      <th></th>\n",
       "      <th></th>\n",
       "      <th></th>\n",
       "      <th></th>\n",
       "      <th></th>\n",
       "      <th></th>\n",
       "      <th></th>\n",
       "    </tr>\n",
       "  </thead>\n",
       "  <tbody>\n",
       "    <tr>\n",
       "      <th>KNeighborsClassifier</th>\n",
       "      <td>0.907683</td>\n",
       "      <td>4596.0</td>\n",
       "      <td>26985.0</td>\n",
       "      <td>2706.0</td>\n",
       "      <td>506.0</td>\n",
       "      <td>0.091139</td>\n",
       "      <td>0.099177</td>\n",
       "    </tr>\n",
       "    <tr>\n",
       "      <th>LogisticRegression</th>\n",
       "      <td>0.889777</td>\n",
       "      <td>3950.0</td>\n",
       "      <td>27008.0</td>\n",
       "      <td>2683.0</td>\n",
       "      <td>1152.0</td>\n",
       "      <td>0.090364</td>\n",
       "      <td>0.225794</td>\n",
       "    </tr>\n",
       "    <tr>\n",
       "      <th>RandomForestClassifier</th>\n",
       "      <td>0.917627</td>\n",
       "      <td>4882.0</td>\n",
       "      <td>27045.0</td>\n",
       "      <td>2646.0</td>\n",
       "      <td>220.0</td>\n",
       "      <td>0.089118</td>\n",
       "      <td>0.043120</td>\n",
       "    </tr>\n",
       "    <tr>\n",
       "      <th>AdaBoostClassifier</th>\n",
       "      <td>0.895870</td>\n",
       "      <td>4216.0</td>\n",
       "      <td>26954.0</td>\n",
       "      <td>2737.0</td>\n",
       "      <td>886.0</td>\n",
       "      <td>0.092183</td>\n",
       "      <td>0.173657</td>\n",
       "    </tr>\n",
       "    <tr>\n",
       "      <th>GradientBoostingClassifier</th>\n",
       "      <td>0.903946</td>\n",
       "      <td>4415.0</td>\n",
       "      <td>27036.0</td>\n",
       "      <td>2655.0</td>\n",
       "      <td>687.0</td>\n",
       "      <td>0.089421</td>\n",
       "      <td>0.134653</td>\n",
       "    </tr>\n",
       "    <tr>\n",
       "      <th>ExtraTreeClassifier</th>\n",
       "      <td>0.919984</td>\n",
       "      <td>4962.0</td>\n",
       "      <td>27047.0</td>\n",
       "      <td>2644.0</td>\n",
       "      <td>140.0</td>\n",
       "      <td>0.089051</td>\n",
       "      <td>0.027440</td>\n",
       "    </tr>\n",
       "    <tr>\n",
       "      <th>BaggingClassifier</th>\n",
       "      <td>0.917253</td>\n",
       "      <td>4870.0</td>\n",
       "      <td>27044.0</td>\n",
       "      <td>2647.0</td>\n",
       "      <td>232.0</td>\n",
       "      <td>0.089152</td>\n",
       "      <td>0.045472</td>\n",
       "    </tr>\n",
       "    <tr>\n",
       "      <th>Neural Network-1</th>\n",
       "      <td>0.890294</td>\n",
       "      <td>4627.0</td>\n",
       "      <td>26349.0</td>\n",
       "      <td>3342.0</td>\n",
       "      <td>475.0</td>\n",
       "      <td>0.112559</td>\n",
       "      <td>0.093101</td>\n",
       "    </tr>\n",
       "  </tbody>\n",
       "</table>\n",
       "</div>"
      ],
      "text/plain": [
       "                            accuracy      TP       TN      FP      FN  \\\n",
       "index                                                                   \n",
       "KNeighborsClassifier        0.907683  4596.0  26985.0  2706.0   506.0   \n",
       "LogisticRegression          0.889777  3950.0  27008.0  2683.0  1152.0   \n",
       "RandomForestClassifier      0.917627  4882.0  27045.0  2646.0   220.0   \n",
       "AdaBoostClassifier          0.895870  4216.0  26954.0  2737.0   886.0   \n",
       "GradientBoostingClassifier  0.903946  4415.0  27036.0  2655.0   687.0   \n",
       "ExtraTreeClassifier         0.919984  4962.0  27047.0  2644.0   140.0   \n",
       "BaggingClassifier           0.917253  4870.0  27044.0  2647.0   232.0   \n",
       "Neural Network-1            0.890294  4627.0  26349.0  3342.0   475.0   \n",
       "\n",
       "                                 FPR       FNR  \n",
       "index                                           \n",
       "KNeighborsClassifier        0.091139  0.099177  \n",
       "LogisticRegression          0.090364  0.225794  \n",
       "RandomForestClassifier      0.089118  0.043120  \n",
       "AdaBoostClassifier          0.092183  0.173657  \n",
       "GradientBoostingClassifier  0.089421  0.134653  \n",
       "ExtraTreeClassifier         0.089051  0.027440  \n",
       "BaggingClassifier           0.089152  0.045472  \n",
       "Neural Network-1            0.112559  0.093101  "
      ]
     },
     "metadata": {},
     "output_type": "display_data"
    },
    {
     "name": "stdout",
     "output_type": "stream",
     "text": [
      "Test Results\n"
     ]
    },
    {
     "data": {
      "text/html": [
       "<div>\n",
       "<style scoped>\n",
       "    .dataframe tbody tr th:only-of-type {\n",
       "        vertical-align: middle;\n",
       "    }\n",
       "\n",
       "    .dataframe tbody tr th {\n",
       "        vertical-align: top;\n",
       "    }\n",
       "\n",
       "    .dataframe thead th {\n",
       "        text-align: right;\n",
       "    }\n",
       "</style>\n",
       "<table border=\"1\" class=\"dataframe\">\n",
       "  <thead>\n",
       "    <tr style=\"text-align: right;\">\n",
       "      <th></th>\n",
       "      <th>accuracy</th>\n",
       "      <th>TP</th>\n",
       "      <th>TN</th>\n",
       "      <th>FP</th>\n",
       "      <th>FN</th>\n",
       "      <th>FPR</th>\n",
       "      <th>FNR</th>\n",
       "      <th>auc</th>\n",
       "      <th>mcc</th>\n",
       "    </tr>\n",
       "    <tr>\n",
       "      <th>index</th>\n",
       "      <th></th>\n",
       "      <th></th>\n",
       "      <th></th>\n",
       "      <th></th>\n",
       "      <th></th>\n",
       "      <th></th>\n",
       "      <th></th>\n",
       "      <th></th>\n",
       "      <th></th>\n",
       "    </tr>\n",
       "  </thead>\n",
       "  <tbody>\n",
       "    <tr>\n",
       "      <th>KNeighborsClassifier</th>\n",
       "      <td>0.899402</td>\n",
       "      <td>1135.0</td>\n",
       "      <td>6688.0</td>\n",
       "      <td>735.0</td>\n",
       "      <td>140.0</td>\n",
       "      <td>0.099017</td>\n",
       "      <td>0.109804</td>\n",
       "      <td>0.895590</td>\n",
       "      <td>0.681165</td>\n",
       "    </tr>\n",
       "    <tr>\n",
       "      <th>LogisticRegression</th>\n",
       "      <td>0.883307</td>\n",
       "      <td>973.0</td>\n",
       "      <td>6710.0</td>\n",
       "      <td>713.0</td>\n",
       "      <td>302.0</td>\n",
       "      <td>0.096053</td>\n",
       "      <td>0.236863</td>\n",
       "      <td>0.833542</td>\n",
       "      <td>0.596865</td>\n",
       "    </tr>\n",
       "    <tr>\n",
       "      <th>RandomForestClassifier</th>\n",
       "      <td>0.903656</td>\n",
       "      <td>1145.0</td>\n",
       "      <td>6715.0</td>\n",
       "      <td>708.0</td>\n",
       "      <td>130.0</td>\n",
       "      <td>0.095379</td>\n",
       "      <td>0.101961</td>\n",
       "      <td>0.901330</td>\n",
       "      <td>0.693349</td>\n",
       "    </tr>\n",
       "    <tr>\n",
       "      <th>AdaBoostClassifier</th>\n",
       "      <td>0.891239</td>\n",
       "      <td>1048.0</td>\n",
       "      <td>6704.0</td>\n",
       "      <td>719.0</td>\n",
       "      <td>227.0</td>\n",
       "      <td>0.096861</td>\n",
       "      <td>0.178039</td>\n",
       "      <td>0.862550</td>\n",
       "      <td>0.637421</td>\n",
       "    </tr>\n",
       "    <tr>\n",
       "      <th>GradientBoostingClassifier</th>\n",
       "      <td>0.897678</td>\n",
       "      <td>1096.0</td>\n",
       "      <td>6712.0</td>\n",
       "      <td>711.0</td>\n",
       "      <td>179.0</td>\n",
       "      <td>0.095783</td>\n",
       "      <td>0.140392</td>\n",
       "      <td>0.881912</td>\n",
       "      <td>0.665914</td>\n",
       "    </tr>\n",
       "    <tr>\n",
       "      <th>ExtraTreeClassifier</th>\n",
       "      <td>0.903541</td>\n",
       "      <td>1147.0</td>\n",
       "      <td>6712.0</td>\n",
       "      <td>711.0</td>\n",
       "      <td>128.0</td>\n",
       "      <td>0.095783</td>\n",
       "      <td>0.100392</td>\n",
       "      <td>0.901912</td>\n",
       "      <td>0.693674</td>\n",
       "    </tr>\n",
       "    <tr>\n",
       "      <th>BaggingClassifier</th>\n",
       "      <td>0.902506</td>\n",
       "      <td>1151.0</td>\n",
       "      <td>6699.0</td>\n",
       "      <td>724.0</td>\n",
       "      <td>124.0</td>\n",
       "      <td>0.097535</td>\n",
       "      <td>0.097255</td>\n",
       "      <td>0.902605</td>\n",
       "      <td>0.692574</td>\n",
       "    </tr>\n",
       "    <tr>\n",
       "      <th>Neural Network-1</th>\n",
       "      <td>0.876868</td>\n",
       "      <td>1133.0</td>\n",
       "      <td>6494.0</td>\n",
       "      <td>929.0</td>\n",
       "      <td>142.0</td>\n",
       "      <td>0.125152</td>\n",
       "      <td>0.111373</td>\n",
       "      <td>0.881738</td>\n",
       "      <td>0.634955</td>\n",
       "    </tr>\n",
       "  </tbody>\n",
       "</table>\n",
       "</div>"
      ],
      "text/plain": [
       "                            accuracy      TP      TN     FP     FN       FPR  \\\n",
       "index                                                                          \n",
       "KNeighborsClassifier        0.899402  1135.0  6688.0  735.0  140.0  0.099017   \n",
       "LogisticRegression          0.883307   973.0  6710.0  713.0  302.0  0.096053   \n",
       "RandomForestClassifier      0.903656  1145.0  6715.0  708.0  130.0  0.095379   \n",
       "AdaBoostClassifier          0.891239  1048.0  6704.0  719.0  227.0  0.096861   \n",
       "GradientBoostingClassifier  0.897678  1096.0  6712.0  711.0  179.0  0.095783   \n",
       "ExtraTreeClassifier         0.903541  1147.0  6712.0  711.0  128.0  0.095783   \n",
       "BaggingClassifier           0.902506  1151.0  6699.0  724.0  124.0  0.097535   \n",
       "Neural Network-1            0.876868  1133.0  6494.0  929.0  142.0  0.125152   \n",
       "\n",
       "                                 FNR       auc       mcc  \n",
       "index                                                     \n",
       "KNeighborsClassifier        0.109804  0.895590  0.681165  \n",
       "LogisticRegression          0.236863  0.833542  0.596865  \n",
       "RandomForestClassifier      0.101961  0.901330  0.693349  \n",
       "AdaBoostClassifier          0.178039  0.862550  0.637421  \n",
       "GradientBoostingClassifier  0.140392  0.881912  0.665914  \n",
       "ExtraTreeClassifier         0.100392  0.901912  0.693674  \n",
       "BaggingClassifier           0.097255  0.902605  0.692574  \n",
       "Neural Network-1            0.111373  0.881738  0.634955  "
      ]
     },
     "metadata": {},
     "output_type": "display_data"
    }
   ],
   "source": [
    "table_80_60_train['index']=ind_columns\n",
    "table_80_60_test['index']=ind_columns\n",
    "\n",
    "\n",
    "table_80_60_test.set_index(['index'],drop=True,inplace=True)\n",
    "table_80_60_train.set_index(['index'],drop=True,inplace=True)\n",
    "\n",
    "print(\"Training Results\")\n",
    "display(table_80_60_train)\n",
    "print(\"Test Results\")\n",
    "display(table_80_60_test)"
   ]
  },
  {
   "cell_type": "markdown",
   "metadata": {},
   "source": [
    "### <a id='4.B' style=\"text-decoration : none; color : #000000;\"> B. Average Feature Importances</a>"
   ]
  },
  {
   "cell_type": "code",
   "execution_count": 86,
   "metadata": {},
   "outputs": [
    {
     "data": {
      "application/vnd.plotly.v1+json": {
       "config": {
        "linkText": "Export to plot.ly",
        "plotlyServerURL": "https://plot.ly",
        "showLink": true
       },
       "data": [
        {
         "marker": {
          "color": "rgb(158,202,225)",
          "line": {
           "color": "rgb(8,48,107)",
           "width": 1.5
          }
         },
         "opacity": 0.6,
         "orientation": "h",
         "text": [
          0.2633,
          0.0777,
          0.0638,
          0.0549,
          0.044,
          0.043,
          0.0366,
          0.0338,
          0.0337,
          0.033,
          0.03,
          0.0283,
          0.0271,
          0.0253,
          0.0229,
          0.0182,
          0.0177,
          0.0166,
          0.0159,
          0.0136,
          0.0135,
          0.0135,
          0.0118,
          0.0117,
          0.0102,
          0.0098,
          0.0089,
          0.0072,
          0.0068,
          0.0045,
          0.0026
         ],
         "textposition": "outside",
         "type": "bar",
         "uid": "6c18883e-2a45-4cc5-8f6f-6e974c6a01e6",
         "x": [
          0.2632814027950599,
          0.07770110300981799,
          0.06383447874768486,
          0.05494604926454073,
          0.043976489057837805,
          0.042972982440298665,
          0.03658768961979942,
          0.033840876930472545,
          0.03374752645228619,
          0.03295717155096077,
          0.030041229955417657,
          0.028256893941936943,
          0.02711133829968395,
          0.025277628069651708,
          0.022884727974300766,
          0.01816996933843018,
          0.017735387957637516,
          0.016612945080260684,
          0.015869314186267455,
          0.013576785068320076,
          0.01351994891276156,
          0.013487669059158994,
          0.011801298459264954,
          0.011723740997376924,
          0.010245059092143856,
          0.009849860777428616,
          0.008928920062028136,
          0.007191236997209193,
          0.006755876760683857,
          0.004528784876143364,
          0.0025856142651348567
         ],
         "y": [
          "link_href_out_of_domain + script_async_true",
          "script_type_text/javascript + title_count",
          "script_src_.js + script_src_out_of_domain",
          "a_href_https + div_count",
          "div_count + p_count",
          "div_count + meta_count",
          "script_async_true + script_src_out_of_domain",
          "script_async_true + script_src_.js",
          "link_type_text/css + script_src_.js",
          "img_src_.jpg + script_async_true",
          "br_count + div_count",
          "form_action_out_of_domain + script_src_out_of_domain",
          "center_count + script_src_.js",
          "link_rel_shortlink + script_src_.js",
          "div_count + script_src_.js",
          "link_type_application/rsd+xml + script_src_.js",
          "link_href_out_of_domain + script_type_text/javascript",
          "img_src_.jpg + link_href_out_of_domain",
          "link_href_.css + script_src_.js",
          "div_count + li_count",
          "a_href_http + div_count",
          "script_src_.js / link_href_.css",
          "script_src_.js",
          "link_href_0 + script_src_.js",
          "img_src_.jpg + script_src_.js",
          "script_src_.js / title_count",
          "link_type_application/rss+xml + script_src_.js",
          "iframe_src_https + script_src_out_of_domain",
          "form_action_http + script_src_.js",
          "form_action_out_of_domain + script_src_.js",
          "iframe_src_https + script_src_.js"
         ]
        }
       ],
       "layout": {
        "autosize": false,
        "height": 1000,
        "width": 1000,
        "xaxis": {
         "tickfont": {
          "color": "black",
          "size": 12
         },
         "title": "Feature Importances"
        },
        "yaxis": {
         "automargin": true
        }
       }
      },
      "text/html": [
       "<div id=\"59d17843-61d2-4725-872f-01835292fcc7\" style=\"height: 1000px; width: 1000px;\" class=\"plotly-graph-div\"></div><script type=\"text/javascript\">require([\"plotly\"], function(Plotly) { window.PLOTLYENV=window.PLOTLYENV || {};window.PLOTLYENV.BASE_URL=\"https://plot.ly\";Plotly.newPlot(\"59d17843-61d2-4725-872f-01835292fcc7\", [{\"marker\": {\"color\": \"rgb(158,202,225)\", \"line\": {\"color\": \"rgb(8,48,107)\", \"width\": 1.5}}, \"opacity\": 0.6, \"orientation\": \"h\", \"text\": [0.2633, 0.0777, 0.0638, 0.0549, 0.044, 0.043, 0.0366, 0.0338, 0.0337, 0.033, 0.03, 0.0283, 0.0271, 0.0253, 0.0229, 0.0182, 0.0177, 0.0166, 0.0159, 0.0136, 0.0135, 0.0135, 0.0118, 0.0117, 0.0102, 0.0098, 0.0089, 0.0072, 0.0068, 0.0045, 0.0026], \"textposition\": \"outside\", \"x\": [0.2632814027950599, 0.07770110300981799, 0.06383447874768486, 0.05494604926454073, 0.043976489057837805, 0.042972982440298665, 0.03658768961979942, 0.033840876930472545, 0.03374752645228619, 0.03295717155096077, 0.030041229955417657, 0.028256893941936943, 0.02711133829968395, 0.025277628069651708, 0.022884727974300766, 0.01816996933843018, 0.017735387957637516, 0.016612945080260684, 0.015869314186267455, 0.013576785068320076, 0.01351994891276156, 0.013487669059158994, 0.011801298459264954, 0.011723740997376924, 0.010245059092143856, 0.009849860777428616, 0.008928920062028136, 0.007191236997209193, 0.006755876760683857, 0.004528784876143364, 0.0025856142651348567], \"y\": [\"link_href_out_of_domain + script_async_true\", \"script_type_text/javascript + title_count\", \"script_src_.js + script_src_out_of_domain\", \"a_href_https + div_count\", \"div_count + p_count\", \"div_count + meta_count\", \"script_async_true + script_src_out_of_domain\", \"script_async_true + script_src_.js\", \"link_type_text/css + script_src_.js\", \"img_src_.jpg + script_async_true\", \"br_count + div_count\", \"form_action_out_of_domain + script_src_out_of_domain\", \"center_count + script_src_.js\", \"link_rel_shortlink + script_src_.js\", \"div_count + script_src_.js\", \"link_type_application/rsd+xml + script_src_.js\", \"link_href_out_of_domain + script_type_text/javascript\", \"img_src_.jpg + link_href_out_of_domain\", \"link_href_.css + script_src_.js\", \"div_count + li_count\", \"a_href_http + div_count\", \"script_src_.js / link_href_.css\", \"script_src_.js\", \"link_href_0 + script_src_.js\", \"img_src_.jpg + script_src_.js\", \"script_src_.js / title_count\", \"link_type_application/rss+xml + script_src_.js\", \"iframe_src_https + script_src_out_of_domain\", \"form_action_http + script_src_.js\", \"form_action_out_of_domain + script_src_.js\", \"iframe_src_https + script_src_.js\"], \"type\": \"bar\", \"uid\": \"6c18883e-2a45-4cc5-8f6f-6e974c6a01e6\"}], {\"autosize\": false, \"height\": 1000, \"width\": 1000, \"xaxis\": {\"tickfont\": {\"color\": \"black\", \"size\": 12}, \"title\": \"Feature Importances\"}, \"yaxis\": {\"automargin\": true}}, {\"showLink\": true, \"linkText\": \"Export to plot.ly\", \"plotlyServerURL\": \"https://plot.ly\"})});</script>"
      ],
      "text/vnd.plotly.v1+html": [
       "<div id=\"59d17843-61d2-4725-872f-01835292fcc7\" style=\"height: 1000px; width: 1000px;\" class=\"plotly-graph-div\"></div><script type=\"text/javascript\">require([\"plotly\"], function(Plotly) { window.PLOTLYENV=window.PLOTLYENV || {};window.PLOTLYENV.BASE_URL=\"https://plot.ly\";Plotly.newPlot(\"59d17843-61d2-4725-872f-01835292fcc7\", [{\"marker\": {\"color\": \"rgb(158,202,225)\", \"line\": {\"color\": \"rgb(8,48,107)\", \"width\": 1.5}}, \"opacity\": 0.6, \"orientation\": \"h\", \"text\": [0.2633, 0.0777, 0.0638, 0.0549, 0.044, 0.043, 0.0366, 0.0338, 0.0337, 0.033, 0.03, 0.0283, 0.0271, 0.0253, 0.0229, 0.0182, 0.0177, 0.0166, 0.0159, 0.0136, 0.0135, 0.0135, 0.0118, 0.0117, 0.0102, 0.0098, 0.0089, 0.0072, 0.0068, 0.0045, 0.0026], \"textposition\": \"outside\", \"x\": [0.2632814027950599, 0.07770110300981799, 0.06383447874768486, 0.05494604926454073, 0.043976489057837805, 0.042972982440298665, 0.03658768961979942, 0.033840876930472545, 0.03374752645228619, 0.03295717155096077, 0.030041229955417657, 0.028256893941936943, 0.02711133829968395, 0.025277628069651708, 0.022884727974300766, 0.01816996933843018, 0.017735387957637516, 0.016612945080260684, 0.015869314186267455, 0.013576785068320076, 0.01351994891276156, 0.013487669059158994, 0.011801298459264954, 0.011723740997376924, 0.010245059092143856, 0.009849860777428616, 0.008928920062028136, 0.007191236997209193, 0.006755876760683857, 0.004528784876143364, 0.0025856142651348567], \"y\": [\"link_href_out_of_domain + script_async_true\", \"script_type_text/javascript + title_count\", \"script_src_.js + script_src_out_of_domain\", \"a_href_https + div_count\", \"div_count + p_count\", \"div_count + meta_count\", \"script_async_true + script_src_out_of_domain\", \"script_async_true + script_src_.js\", \"link_type_text/css + script_src_.js\", \"img_src_.jpg + script_async_true\", \"br_count + div_count\", \"form_action_out_of_domain + script_src_out_of_domain\", \"center_count + script_src_.js\", \"link_rel_shortlink + script_src_.js\", \"div_count + script_src_.js\", \"link_type_application/rsd+xml + script_src_.js\", \"link_href_out_of_domain + script_type_text/javascript\", \"img_src_.jpg + link_href_out_of_domain\", \"link_href_.css + script_src_.js\", \"div_count + li_count\", \"a_href_http + div_count\", \"script_src_.js / link_href_.css\", \"script_src_.js\", \"link_href_0 + script_src_.js\", \"img_src_.jpg + script_src_.js\", \"script_src_.js / title_count\", \"link_type_application/rss+xml + script_src_.js\", \"iframe_src_https + script_src_out_of_domain\", \"form_action_http + script_src_.js\", \"form_action_out_of_domain + script_src_.js\", \"iframe_src_https + script_src_.js\"], \"type\": \"bar\", \"uid\": \"6c18883e-2a45-4cc5-8f6f-6e974c6a01e6\"}], {\"autosize\": false, \"height\": 1000, \"width\": 1000, \"xaxis\": {\"tickfont\": {\"color\": \"black\", \"size\": 12}, \"title\": \"Feature Importances\"}, \"yaxis\": {\"automargin\": true}}, {\"showLink\": true, \"linkText\": \"Export to plot.ly\", \"plotlyServerURL\": \"https://plot.ly\"})});</script>"
      ]
     },
     "metadata": {},
     "output_type": "display_data"
    }
   ],
   "source": [
    "feat_impt_plot(np.average(feat_imp,axis=0),feature_name)"
   ]
  },
  {
   "cell_type": "markdown",
   "metadata": {},
   "source": [
    "### <a id='5' style=\"text-decoration : none; color : #000000;\">5. Feature Transformation with PCA </a>"
   ]
  },
  {
   "cell_type": "code",
   "execution_count": 87,
   "metadata": {},
   "outputs": [
    {
     "name": "stderr",
     "output_type": "stream",
     "text": [
      "distributed.core - INFO - Event loop was unresponsive in Nanny for 103.53s.  This is often caused by long-running GIL-holding functions or moving large chunks of data. This can cause timeouts and instability.\n",
      "distributed.core - INFO - Event loop was unresponsive in Nanny for 103.53s.  This is often caused by long-running GIL-holding functions or moving large chunks of data. This can cause timeouts and instability.\n",
      "distributed.core - INFO - Event loop was unresponsive in Nanny for 103.53s.  This is often caused by long-running GIL-holding functions or moving large chunks of data. This can cause timeouts and instability.\n",
      "distributed.core - INFO - Event loop was unresponsive in Nanny for 103.53s.  This is often caused by long-running GIL-holding functions or moving large chunks of data. This can cause timeouts and instability.\n",
      "distributed.core - INFO - Event loop was unresponsive in Nanny for 103.53s.  This is often caused by long-running GIL-holding functions or moving large chunks of data. This can cause timeouts and instability.\n",
      "distributed.core - INFO - Event loop was unresponsive in Nanny for 103.53s.  This is often caused by long-running GIL-holding functions or moving large chunks of data. This can cause timeouts and instability.\n",
      "distributed.core - INFO - Event loop was unresponsive in Nanny for 103.53s.  This is often caused by long-running GIL-holding functions or moving large chunks of data. This can cause timeouts and instability.\n",
      "distributed.core - INFO - Event loop was unresponsive in Nanny for 103.53s.  This is often caused by long-running GIL-holding functions or moving large chunks of data. This can cause timeouts and instability.\n",
      "distributed.core - INFO - Event loop was unresponsive in Nanny for 103.53s.  This is often caused by long-running GIL-holding functions or moving large chunks of data. This can cause timeouts and instability.\n",
      "distributed.core - INFO - Event loop was unresponsive in Nanny for 103.53s.  This is often caused by long-running GIL-holding functions or moving large chunks of data. This can cause timeouts and instability.\n",
      "distributed.core - INFO - Event loop was unresponsive in Nanny for 103.53s.  This is often caused by long-running GIL-holding functions or moving large chunks of data. This can cause timeouts and instability.\n",
      "distributed.core - INFO - Event loop was unresponsive in Nanny for 103.53s.  This is often caused by long-running GIL-holding functions or moving large chunks of data. This can cause timeouts and instability.\n",
      "distributed.core - INFO - Event loop was unresponsive in Nanny for 103.53s.  This is often caused by long-running GIL-holding functions or moving large chunks of data. This can cause timeouts and instability.\n",
      "distributed.core - INFO - Event loop was unresponsive in Nanny for 103.53s.  This is often caused by long-running GIL-holding functions or moving large chunks of data. This can cause timeouts and instability.\n",
      "distributed.core - INFO - Event loop was unresponsive in Nanny for 103.54s.  This is often caused by long-running GIL-holding functions or moving large chunks of data. This can cause timeouts and instability.\n",
      "distributed.core - INFO - Event loop was unresponsive in Nanny for 103.53s.  This is often caused by long-running GIL-holding functions or moving large chunks of data. This can cause timeouts and instability.\n",
      "distributed.core - INFO - Event loop was unresponsive in Nanny for 103.54s.  This is often caused by long-running GIL-holding functions or moving large chunks of data. This can cause timeouts and instability.\n",
      "distributed.core - INFO - Event loop was unresponsive in Nanny for 103.53s.  This is often caused by long-running GIL-holding functions or moving large chunks of data. This can cause timeouts and instability.\n",
      "distributed.core - INFO - Event loop was unresponsive in Nanny for 103.53s.  This is often caused by long-running GIL-holding functions or moving large chunks of data. This can cause timeouts and instability.\n",
      "distributed.core - INFO - Event loop was unresponsive in Nanny for 103.53s.  This is often caused by long-running GIL-holding functions or moving large chunks of data. This can cause timeouts and instability.\n",
      "distributed.core - INFO - Event loop was unresponsive in Nanny for 103.53s.  This is often caused by long-running GIL-holding functions or moving large chunks of data. This can cause timeouts and instability.\n",
      "distributed.core - INFO - Event loop was unresponsive in Nanny for 103.53s.  This is often caused by long-running GIL-holding functions or moving large chunks of data. This can cause timeouts and instability.\n"
     ]
    },
    {
     "data": {
      "image/png": "[encoded data removed]",
      "text/plain": [
       "<Figure size 720x576 with 1 Axes>"
      ]
     },
     "metadata": {},
     "output_type": "display_data"
    }
   ],
   "source": [
    "X=fs.loc[:,fs.columns!='Target']\n",
    "y=fs.Target.values\n",
    "feature_name = X.columns.tolist()\n",
    "X=np.nan_to_num(X)\n",
    "scaler=StandardScaler()\n",
    "scaled_X=scaler.fit_transform(X)\n",
    "\n",
    "sns.set_style('whitegrid')\n",
    "pca = PCA(random_state=0)\n",
    "pca.fit(scaled_X)\n",
    "plt.figure(1, figsize=(10, 8))\n",
    "plt.plot(np.cumsum(pca.explained_variance_ratio_),'--o', linewidth=2)\n",
    "plt.axis('tight')\n",
    "plt.xlabel('Number of Components',size=14)\n",
    "plt.xticks(size=12)\n",
    "plt.xlim([0,200])\n",
    "plt.ylabel('% Explained Variance',size=14)\n",
    "plt.yticks(size=12)\n",
    "plt.title('% Variance Explained by Principal Components',size=14,y=1.05)\n",
    "plt.show()"
   ]
  },
  {
   "cell_type": "code",
   "execution_count": 88,
   "metadata": {},
   "outputs": [
    {
     "name": "stdout",
     "output_type": "stream",
     "text": [
      "Variance explained using 250 components is: 0.8071790914161422\n"
     ]
    }
   ],
   "source": [
    "pca=PCA(n_components=250,whiten=True,random_state=0)\n",
    "X_pca_21=pca.fit_transform(scaled_X)\n",
    "print(\"Variance explained using 250 components is:\",sum(pca.explained_variance_ratio_))"
   ]
  },
  {
   "cell_type": "code",
   "execution_count": 91,
   "metadata": {},
   "outputs": [],
   "source": [
    "X_train=X_pca_21[:34793]\n",
    "Y_train=fs.iloc[:34793]['Target'].values\n",
    "X_test=X_pca_21[34793:]\n",
    "Y_test=fs.iloc[34793:]['Target'].values\n",
    "\n",
    "## Table to store training and test measures so we can compare later\n",
    "table_80_70_train=pd.DataFrame(columns=['accuracy','TP','TN','FP','FN','FPR','FNR'])\n",
    "table_80_70_test=pd.DataFrame(columns=['accuracy','TP','TN','FP','FN','FPR','FNR','auc','mcc'])"
   ]
  },
  {
   "cell_type": "code",
   "execution_count": 92,
   "metadata": {
    "scrolled": false
   },
   "outputs": [
    {
     "name": "stdout",
     "output_type": "stream",
     "text": [
      "\u001b[1mK-Nearest Neighbors\u001b[0m\n",
      "Accuracy of the model for training data is: 0.9075963555887678\n",
      "Confusion Matrix for training data is:\n"
     ]
    },
    {
     "data": {
      "text/plain": [
       "Predicted  False  True  __all__\n",
       "Actual                         \n",
       "False      26974  2717    29691\n",
       "True         498  4604     5102\n",
       "__all__    27472  7321    34793"
      ]
     },
     "metadata": {},
     "output_type": "display_data"
    },
    {
     "name": "stdout",
     "output_type": "stream",
     "text": [
      "Accuracy of the model for test data is: 0.9007817889169925\n",
      "Confusion Matrix for test data is:\n"
     ]
    },
    {
     "data": {
      "text/plain": [
       "Predicted  False  True  __all__\n",
       "Actual                         \n",
       "False       6695   728     7423\n",
       "True         135  1140     1275\n",
       "__all__     6830  1868     8698"
      ]
     },
     "metadata": {},
     "output_type": "display_data"
    },
    {
     "name": "stdout",
     "output_type": "stream",
     "text": [
      "\n",
      "\n",
      "\u001b[1mLogistic Regression\u001b[0m\n",
      "Accuracy of the model for training data is: 0.898973931537953\n",
      "Confusion Matrix for training data is:\n"
     ]
    },
    {
     "data": {
      "text/plain": [
       "Predicted  False  True  __all__\n",
       "Actual                         \n",
       "False      26953  2738    29691\n",
       "True         777  4325     5102\n",
       "__all__    27730  7063    34793"
      ]
     },
     "metadata": {},
     "output_type": "display_data"
    },
    {
     "name": "stdout",
     "output_type": "stream",
     "text": [
      "Accuracy of the model for test data is: 0.8902046447459186\n",
      "Confusion Matrix for test data is:\n"
     ]
    },
    {
     "data": {
      "text/plain": [
       "Predicted  False  True  __all__\n",
       "Actual                         \n",
       "False       6675   748     7423\n",
       "True         207  1068     1275\n",
       "__all__     6882  1816     8698"
      ]
     },
     "metadata": {},
     "output_type": "display_data"
    },
    {
     "name": "stdout",
     "output_type": "stream",
     "text": [
      "\n",
      "\n",
      "\u001b[1mRandomForest Classifier\u001b[0m\n",
      "Accuracy of the model for training data is: 0.9183456442387836\n",
      "Confusion Matrix for training data is:\n"
     ]
    },
    {
     "data": {
      "text/plain": [
       "Predicted  False  True  __all__\n",
       "Actual                         \n",
       "False      27088  2603    29691\n",
       "True         238  4864     5102\n",
       "__all__    27326  7467    34793"
      ]
     },
     "metadata": {},
     "output_type": "display_data"
    },
    {
     "name": "stdout",
     "output_type": "stream",
     "text": [
      "Accuracy of the model for test data is: 0.9049206714187169\n",
      "Confusion Matrix for test data is:\n"
     ]
    },
    {
     "data": {
      "text/plain": [
       "Predicted  False  True  __all__\n",
       "Actual                         \n",
       "False       6738   685     7423\n",
       "True         142  1133     1275\n",
       "__all__     6880  1818     8698"
      ]
     },
     "metadata": {},
     "output_type": "display_data"
    },
    {
     "data": {
      "application/vnd.plotly.v1+json": {
       "config": {
        "linkText": "Export to plot.ly",
        "plotlyServerURL": "https://plot.ly",
        "showLink": true
       },
       "data": [
        {
         "marker": {
          "color": "rgb(158,202,225)",
          "line": {
           "color": "rgb(8,48,107)",
           "width": 1.5
          }
         },
         "opacity": 0.6,
         "orientation": "h",
         "text": [
          0.0764,
          0.0548,
          0.0504,
          0.049,
          0.0391,
          0.0363,
          0.0361,
          0.034,
          0.0259,
          0.0239,
          0.0227,
          0.0219,
          0.0213,
          0.0197,
          0.0197,
          0.0195,
          0.0195,
          0.0189,
          0.0181,
          0.0179,
          0.0174,
          0.0167,
          0.0166,
          0.016,
          0.0107,
          0.01,
          0.0074,
          0.0066,
          0.0053,
          0.0051,
          0.005,
          0.0044,
          0.0044,
          0.0043,
          0.004,
          0.0037,
          0.0032,
          0.003,
          0.003,
          0.0029,
          0.0027,
          0.0026,
          0.0026,
          0.0026,
          0.0025,
          0.0024,
          0.0024,
          0.0024,
          0.0024,
          0.0023,
          0.0022,
          0.0021,
          0.0021,
          0.002,
          0.002,
          0.0019,
          0.0019,
          0.0019,
          0.0018,
          0.0018,
          0.0018,
          0.0017,
          0.0017,
          0.0017,
          0.0017,
          0.0017,
          0.0017,
          0.0017,
          0.0016,
          0.0016,
          0.0016,
          0.0016,
          0.0016,
          0.0016,
          0.0016,
          0.0015,
          0.0015,
          0.0015,
          0.0015,
          0.0015,
          0.0015,
          0.0015,
          0.0015,
          0.0015,
          0.0014,
          0.0014,
          0.0014,
          0.0014,
          0.0014,
          0.0014,
          0.0014,
          0.0014,
          0.0014,
          0.0013,
          0.0013,
          0.0013,
          0.0013,
          0.0013,
          0.0013,
          0.0013,
          0.0013,
          0.0013,
          0.0012,
          0.0012,
          0.0012,
          0.0012,
          0.0012,
          0.0012,
          0.0012,
          0.0012,
          0.0012,
          0.0012,
          0.0012,
          0.0012,
          0.0012,
          0.0011,
          0.0011,
          0.0011,
          0.0011,
          0.0011,
          0.0011,
          0.0011,
          0.0011,
          0.0011,
          0.0011,
          0.0011,
          0.0011,
          0.0011,
          0.0011,
          0.0011,
          0.0011,
          0.001,
          0.001,
          0.001,
          0.001,
          0.001,
          0.001,
          0.001,
          0.001,
          0.001,
          0.001,
          0.001,
          0.001,
          0.001,
          0.001,
          0.001,
          0.0009,
          0.0009,
          0.0009,
          0.0009,
          0.0009,
          0.0009,
          0.0009,
          0.0009,
          0.0009,
          0.0009,
          0.0009,
          0.0009,
          0.0009,
          0.0009,
          0.0009,
          0.0009,
          0.0009,
          0.0008,
          0.0008,
          0.0008,
          0.0008,
          0.0008,
          0.0008,
          0.0008,
          0.0008,
          0.0008,
          0.0008,
          0.0008,
          0.0008,
          0.0008,
          0.0008,
          0.0008,
          0.0008,
          0.0008,
          0.0008,
          0.0008,
          0.0008,
          0.0007,
          0.0007,
          0.0007,
          0.0007,
          0.0007,
          0.0007,
          0.0007,
          0.0007,
          0.0007,
          0.0007,
          0.0007,
          0.0007,
          0.0007,
          0.0007,
          0.0007,
          0.0007,
          0.0007,
          0.0007,
          0.0007,
          0.0007,
          0.0007,
          0.0007,
          0.0007,
          0.0007,
          0.0006,
          0.0006,
          0.0006,
          0.0006,
          0.0006,
          0.0006,
          0.0006,
          0.0006,
          0.0006,
          0.0006,
          0.0006,
          0.0006,
          0.0006,
          0.0006,
          0.0006,
          0.0006,
          0.0006,
          0.0006,
          0.0006,
          0.0005,
          0.0005,
          0.0005,
          0.0005,
          0.0005,
          0.0005,
          0.0005,
          0.0005,
          0.0005,
          0.0005,
          0.0005,
          0.0005,
          0.0005,
          0.0004,
          0.0004,
          0.0004,
          0.0004,
          0.0004,
          0.0004,
          0.0004,
          0.0004,
          0.0003,
          0.0003,
          0.0003
         ],
         "textposition": "outside",
         "type": "bar",
         "uid": "f2ccddf7-e219-4b51-b31e-43c959fe88d4",
         "x": [
          0.07640503808854171,
          0.054831436141464095,
          0.05043846661413628,
          0.048990553906201065,
          0.0391321735770868,
          0.036298456948551404,
          0.03608518360430314,
          0.034006472707787186,
          0.025933498907996566,
          0.023905973713016816,
          0.0226791996475998,
          0.021922725978252684,
          0.02127781833903827,
          0.019737406323877348,
          0.019667535912122495,
          0.019523487126714315,
          0.01948006280099324,
          0.018866333980194317,
          0.01813904567709456,
          0.017871285763297516,
          0.017360972770896384,
          0.016731248293869502,
          0.016560186412999285,
          0.01601204863052564,
          0.010747895130984023,
          0.00999639279463348,
          0.007362670902095972,
          0.006603292329173382,
          0.0052641963355145125,
          0.005057113147568451,
          0.004985367238041388,
          0.004449105872701544,
          0.0043616737517846085,
          0.004255511281741671,
          0.00399960677327904,
          0.003679441894765015,
          0.003160554138910069,
          0.003021557872642994,
          0.003016590770351828,
          0.00289393436879615,
          0.0027019565216708347,
          0.002624320921426403,
          0.0025600764127931656,
          0.002557710878007833,
          0.002526554613898225,
          0.002432594486804126,
          0.002428557348253514,
          0.0024173998510823988,
          0.0023508141388258333,
          0.002298906313340745,
          0.0022101903470815865,
          0.0021367268654063384,
          0.0020556913849808104,
          0.0020333173700331914,
          0.0019634225547244246,
          0.0019122750678670735,
          0.0019021041310915646,
          0.0019000677869349177,
          0.0018186751162583346,
          0.0017674160442329966,
          0.001751314903463292,
          0.0017431223701694215,
          0.0017352157897019323,
          0.0017233718386109342,
          0.0016761501554562463,
          0.0016715091246003518,
          0.0016635031487959098,
          0.0016543893394540485,
          0.0016429654215071754,
          0.001629917599568283,
          0.0016247557173746016,
          0.0015913298180435624,
          0.00158907407498965,
          0.0015853290548445468,
          0.001571405924043744,
          0.001547242160543031,
          0.0015442288355618952,
          0.001542580439140204,
          0.0015395096876671158,
          0.0014933632922665364,
          0.0014876002877879518,
          0.0014810866751768903,
          0.0014790294920190798,
          0.0014590631237276087,
          0.001422844140656438,
          0.0014152339172614843,
          0.00141354577568234,
          0.0013819107111888234,
          0.001376867023573308,
          0.0013740775216364125,
          0.0013736053626123277,
          0.0013679685725736838,
          0.0013558252153549016,
          0.0013479355264128623,
          0.0013406582613995858,
          0.0012940172129235893,
          0.0012827675434401195,
          0.0012691849293395975,
          0.0012652696518216208,
          0.0012574146931234869,
          0.0012512285200272787,
          0.0012500665167881847,
          0.0012490368440619944,
          0.0012434623618998637,
          0.0012373838393250165,
          0.0012335708173734582,
          0.001230635173333375,
          0.001222942550411089,
          0.0012151475002758591,
          0.0012017349720954786,
          0.0012014833647133703,
          0.0012002794455021868,
          0.0011862193021536026,
          0.0011765413581330646,
          0.0011543052412968401,
          0.0011395789258767442,
          0.0011289405009080986,
          0.0011280675955399786,
          0.0011262443101301832,
          0.0011259474044873334,
          0.0011221303506087064,
          0.001116640623844084,
          0.0011115143396050876,
          0.0010976108568538083,
          0.001096858556868426,
          0.001094835237692536,
          0.001091057567696861,
          0.001091034372419196,
          0.0010872664656825463,
          0.0010713122634484241,
          0.0010656166283777757,
          0.0010274051865460368,
          0.0010220173460328806,
          0.0010212673835214615,
          0.0010198505148043332,
          0.0010156639785513203,
          0.0010149214928128942,
          0.0009972714172961565,
          0.0009843141403115224,
          0.0009789573318579195,
          0.0009756067288407489,
          0.0009710676160479508,
          0.0009693011252400391,
          0.0009650247093735718,
          0.0009594762951696696,
          0.0009547371143820337,
          0.0009416958441119958,
          0.0009354755094512643,
          0.0009300198348555168,
          0.0009239768834725104,
          0.0009198160861223249,
          0.000911835422103936,
          0.0009026936573290746,
          0.0008974493417315673,
          0.0008935626900066567,
          0.000868699746740571,
          0.0008666252816528034,
          0.0008615850709824084,
          0.0008603742390849596,
          0.0008600033992802672,
          0.0008592217778648663,
          0.0008590437228140618,
          0.0008507661921259811,
          0.0008478168512327789,
          0.0008452467534860196,
          0.0008305905320995141,
          0.0008299296113241171,
          0.0008198439962908713,
          0.0008191303317530592,
          0.0008122123736706193,
          0.0008074984121341758,
          0.0008063278123562643,
          0.000798698779025846,
          0.0007895644631792901,
          0.0007835803832166388,
          0.0007680808778699763,
          0.0007644612089978575,
          0.0007620740351815934,
          0.0007604955961583079,
          0.0007588738725608164,
          0.0007583204391136573,
          0.0007555797726444141,
          0.0007520355193049783,
          0.000741059525223008,
          0.0007368488557946185,
          0.0007364628031667894,
          0.000729615225887966,
          0.0007288563141744184,
          0.00072815804199944,
          0.0007140072850557869,
          0.000713026674650049,
          0.0007084181985819026,
          0.0007045085943806009,
          0.0007001913851956947,
          0.0006998462869232607,
          0.0006997939705018672,
          0.0006933528483545452,
          0.0006896141229415948,
          0.000689438298555272,
          0.0006887133539473519,
          0.0006854998820533335,
          0.0006700696686335464,
          0.0006648055467384395,
          0.0006600245506605524,
          0.0006545726052803756,
          0.000654417672869605,
          0.000650420810076022,
          0.000645700326326143,
          0.000636672905041842,
          0.0006273441899086586,
          0.0006271924911976371,
          0.0006207942263616731,
          0.000616779962065081,
          0.000614096304410534,
          0.0006124400902728017,
          0.0006101826072826197,
          0.0006044500437903567,
          0.0005984414942312916,
          0.0005942748318480409,
          0.00059138299010676,
          0.00058383990042431,
          0.0005780467576992703,
          0.0005713291802650886,
          0.0005599226032899995,
          0.0005592387792622436,
          0.0005589232539419306,
          0.0005467975531919344,
          0.0005407212633275029,
          0.000536625046866668,
          0.0005251624042410072,
          0.0005201260381851967,
          0.0005015936247068718,
          0.0004959075742466793,
          0.0004886784787118991,
          0.0004869518288905265,
          0.00048673712260989413,
          0.0004813381119399871,
          0.0004704311468982056,
          0.0004608598078070998,
          0.0004250459341508736,
          0.00042459420048000595,
          0.0004165535698909879,
          0.00041158702401624026,
          0.0004108490391106203,
          0.0003980546819005409,
          0.00037933534124910673,
          0.00037226783717112715,
          0.00033554886047215416,
          0.0003155251437418764,
          0.00030067143949664336
         ],
         "y": [
          "0",
          "110",
          "55",
          "59",
          "5",
          "27",
          "112",
          "31",
          "64",
          "85",
          "3",
          "32",
          "34",
          "97",
          "47",
          "57",
          "146",
          "217",
          "7",
          "66",
          "91",
          "191",
          "200",
          "232",
          "142",
          "40",
          "131",
          "72",
          "111",
          "106",
          "75",
          "184",
          "30",
          "6",
          "12",
          "4",
          "114",
          "160",
          "33",
          "149",
          "189",
          "78",
          "130",
          "123",
          "241",
          "21",
          "205",
          "26",
          "140",
          "235",
          "2",
          "208",
          "69",
          "56",
          "223",
          "233",
          "133",
          "224",
          "29",
          "148",
          "19",
          "243",
          "63",
          "101",
          "35",
          "165",
          "16",
          "239",
          "229",
          "95",
          "162",
          "143",
          "28",
          "1",
          "49",
          "157",
          "117",
          "105",
          "22",
          "129",
          "164",
          "176",
          "167",
          "118",
          "82",
          "70",
          "230",
          "45",
          "244",
          "144",
          "36",
          "90",
          "150",
          "210",
          "108",
          "8",
          "248",
          "84",
          "203",
          "113",
          "121",
          "99",
          "166",
          "71",
          "100",
          "218",
          "23",
          "81",
          "24",
          "52",
          "147",
          "50",
          "197",
          "88",
          "37",
          "20",
          "73",
          "25",
          "237",
          "60",
          "246",
          "14",
          "80",
          "115",
          "46",
          "156",
          "126",
          "178",
          "199",
          "9",
          "185",
          "67",
          "103",
          "120",
          "93",
          "213",
          "169",
          "211",
          "174",
          "15",
          "240",
          "161",
          "83",
          "104",
          "227",
          "188",
          "182",
          "173",
          "107",
          "179",
          "89",
          "194",
          "141",
          "236",
          "11",
          "77",
          "153",
          "192",
          "187",
          "231",
          "201",
          "128",
          "74",
          "198",
          "102",
          "155",
          "119",
          "168",
          "51",
          "62",
          "151",
          "61",
          "195",
          "226",
          "228",
          "92",
          "86",
          "42",
          "132",
          "127",
          "247",
          "215",
          "18",
          "225",
          "172",
          "68",
          "193",
          "170",
          "171",
          "221",
          "10",
          "135",
          "186",
          "180",
          "65",
          "79",
          "53",
          "196",
          "242",
          "13",
          "76",
          "109",
          "207",
          "245",
          "125",
          "202",
          "163",
          "190",
          "43",
          "238",
          "177",
          "216",
          "219",
          "206",
          "136",
          "94",
          "145",
          "87",
          "159",
          "44",
          "234",
          "38",
          "175",
          "48",
          "98",
          "58",
          "152",
          "222",
          "124",
          "41",
          "139",
          "17",
          "249",
          "116",
          "54",
          "209",
          "212",
          "158",
          "137",
          "214",
          "183",
          "96",
          "204",
          "134",
          "39",
          "154",
          "122",
          "220",
          "138",
          "181"
         ]
        }
       ],
       "layout": {
        "autosize": false,
        "height": 1000,
        "width": 1000,
        "xaxis": {
         "tickfont": {
          "color": "black",
          "size": 12
         },
         "title": "Feature Importances"
        },
        "yaxis": {
         "automargin": true
        }
       }
      },
      "text/html": [
       "<div id=\"8c656a7c-eba3-494a-8b66-67c9b48759eb\" style=\"height: 1000px; width: 1000px;\" class=\"plotly-graph-div\"></div><script type=\"text/javascript\">require([\"plotly\"], function(Plotly) { window.PLOTLYENV=window.PLOTLYENV || {};window.PLOTLYENV.BASE_URL=\"https://plot.ly\";Plotly.newPlot(\"8c656a7c-eba3-494a-8b66-67c9b48759eb\", [{\"marker\": {\"color\": \"rgb(158,202,225)\", \"line\": {\"color\": \"rgb(8,48,107)\", \"width\": 1.5}}, \"opacity\": 0.6, \"orientation\": \"h\", \"text\": [0.0764, 0.0548, 0.0504, 0.049, 0.0391, 0.0363, 0.0361, 0.034, 0.0259, 0.0239, 0.0227, 0.0219, 0.0213, 0.0197, 0.0197, 0.0195, 0.0195, 0.0189, 0.0181, 0.0179, 0.0174, 0.0167, 0.0166, 0.016, 0.0107, 0.01, 0.0074, 0.0066, 0.0053, 0.0051, 0.005, 0.0044, 0.0044, 0.0043, 0.004, 0.0037, 0.0032, 0.003, 0.003, 0.0029, 0.0027, 0.0026, 0.0026, 0.0026, 0.0025, 0.0024, 0.0024, 0.0024, 0.0024, 0.0023, 0.0022, 0.0021, 0.0021, 0.002, 0.002, 0.0019, 0.0019, 0.0019, 0.0018, 0.0018, 0.0018, 0.0017, 0.0017, 0.0017, 0.0017, 0.0017, 0.0017, 0.0017, 0.0016, 0.0016, 0.0016, 0.0016, 0.0016, 0.0016, 0.0016, 0.0015, 0.0015, 0.0015, 0.0015, 0.0015, 0.0015, 0.0015, 0.0015, 0.0015, 0.0014, 0.0014, 0.0014, 0.0014, 0.0014, 0.0014, 0.0014, 0.0014, 0.0014, 0.0013, 0.0013, 0.0013, 0.0013, 0.0013, 0.0013, 0.0013, 0.0013, 0.0013, 0.0012, 0.0012, 0.0012, 0.0012, 0.0012, 0.0012, 0.0012, 0.0012, 0.0012, 0.0012, 0.0012, 0.0012, 0.0012, 0.0011, 0.0011, 0.0011, 0.0011, 0.0011, 0.0011, 0.0011, 0.0011, 0.0011, 0.0011, 0.0011, 0.0011, 0.0011, 0.0011, 0.0011, 0.0011, 0.001, 0.001, 0.001, 0.001, 0.001, 0.001, 0.001, 0.001, 0.001, 0.001, 0.001, 0.001, 0.001, 0.001, 0.001, 0.0009, 0.0009, 0.0009, 0.0009, 0.0009, 0.0009, 0.0009, 0.0009, 0.0009, 0.0009, 0.0009, 0.0009, 0.0009, 0.0009, 0.0009, 0.0009, 0.0009, 0.0008, 0.0008, 0.0008, 0.0008, 0.0008, 0.0008, 0.0008, 0.0008, 0.0008, 0.0008, 0.0008, 0.0008, 0.0008, 0.0008, 0.0008, 0.0008, 0.0008, 0.0008, 0.0008, 0.0008, 0.0007, 0.0007, 0.0007, 0.0007, 0.0007, 0.0007, 0.0007, 0.0007, 0.0007, 0.0007, 0.0007, 0.0007, 0.0007, 0.0007, 0.0007, 0.0007, 0.0007, 0.0007, 0.0007, 0.0007, 0.0007, 0.0007, 0.0007, 0.0007, 0.0006, 0.0006, 0.0006, 0.0006, 0.0006, 0.0006, 0.0006, 0.0006, 0.0006, 0.0006, 0.0006, 0.0006, 0.0006, 0.0006, 0.0006, 0.0006, 0.0006, 0.0006, 0.0006, 0.0005, 0.0005, 0.0005, 0.0005, 0.0005, 0.0005, 0.0005, 0.0005, 0.0005, 0.0005, 0.0005, 0.0005, 0.0005, 0.0004, 0.0004, 0.0004, 0.0004, 0.0004, 0.0004, 0.0004, 0.0004, 0.0003, 0.0003, 0.0003], \"textposition\": \"outside\", \"x\": [0.07640503808854171, 0.054831436141464095, 0.05043846661413628, 0.048990553906201065, 0.0391321735770868, 0.036298456948551404, 0.03608518360430314, 0.034006472707787186, 0.025933498907996566, 0.023905973713016816, 0.0226791996475998, 0.021922725978252684, 0.02127781833903827, 0.019737406323877348, 0.019667535912122495, 0.019523487126714315, 0.01948006280099324, 0.018866333980194317, 0.01813904567709456, 0.017871285763297516, 0.017360972770896384, 0.016731248293869502, 0.016560186412999285, 0.01601204863052564, 0.010747895130984023, 0.00999639279463348, 0.007362670902095972, 0.006603292329173382, 0.0052641963355145125, 0.005057113147568451, 0.004985367238041388, 0.004449105872701544, 0.0043616737517846085, 0.004255511281741671, 0.00399960677327904, 0.003679441894765015, 0.003160554138910069, 0.003021557872642994, 0.003016590770351828, 0.00289393436879615, 0.0027019565216708347, 0.002624320921426403, 0.0025600764127931656, 0.002557710878007833, 0.002526554613898225, 0.002432594486804126, 0.002428557348253514, 0.0024173998510823988, 0.0023508141388258333, 0.002298906313340745, 0.0022101903470815865, 0.0021367268654063384, 0.0020556913849808104, 0.0020333173700331914, 0.0019634225547244246, 0.0019122750678670735, 0.0019021041310915646, 0.0019000677869349177, 0.0018186751162583346, 0.0017674160442329966, 0.001751314903463292, 0.0017431223701694215, 0.0017352157897019323, 0.0017233718386109342, 0.0016761501554562463, 0.0016715091246003518, 0.0016635031487959098, 0.0016543893394540485, 0.0016429654215071754, 0.001629917599568283, 0.0016247557173746016, 0.0015913298180435624, 0.00158907407498965, 0.0015853290548445468, 0.001571405924043744, 0.001547242160543031, 0.0015442288355618952, 0.001542580439140204, 0.0015395096876671158, 0.0014933632922665364, 0.0014876002877879518, 0.0014810866751768903, 0.0014790294920190798, 0.0014590631237276087, 0.001422844140656438, 0.0014152339172614843, 0.00141354577568234, 0.0013819107111888234, 0.001376867023573308, 0.0013740775216364125, 0.0013736053626123277, 0.0013679685725736838, 0.0013558252153549016, 0.0013479355264128623, 0.0013406582613995858, 0.0012940172129235893, 0.0012827675434401195, 0.0012691849293395975, 0.0012652696518216208, 0.0012574146931234869, 0.0012512285200272787, 0.0012500665167881847, 0.0012490368440619944, 0.0012434623618998637, 0.0012373838393250165, 0.0012335708173734582, 0.001230635173333375, 0.001222942550411089, 0.0012151475002758591, 0.0012017349720954786, 0.0012014833647133703, 0.0012002794455021868, 0.0011862193021536026, 0.0011765413581330646, 0.0011543052412968401, 0.0011395789258767442, 0.0011289405009080986, 0.0011280675955399786, 0.0011262443101301832, 0.0011259474044873334, 0.0011221303506087064, 0.001116640623844084, 0.0011115143396050876, 0.0010976108568538083, 0.001096858556868426, 0.001094835237692536, 0.001091057567696861, 0.001091034372419196, 0.0010872664656825463, 0.0010713122634484241, 0.0010656166283777757, 0.0010274051865460368, 0.0010220173460328806, 0.0010212673835214615, 0.0010198505148043332, 0.0010156639785513203, 0.0010149214928128942, 0.0009972714172961565, 0.0009843141403115224, 0.0009789573318579195, 0.0009756067288407489, 0.0009710676160479508, 0.0009693011252400391, 0.0009650247093735718, 0.0009594762951696696, 0.0009547371143820337, 0.0009416958441119958, 0.0009354755094512643, 0.0009300198348555168, 0.0009239768834725104, 0.0009198160861223249, 0.000911835422103936, 0.0009026936573290746, 0.0008974493417315673, 0.0008935626900066567, 0.000868699746740571, 0.0008666252816528034, 0.0008615850709824084, 0.0008603742390849596, 0.0008600033992802672, 0.0008592217778648663, 0.0008590437228140618, 0.0008507661921259811, 0.0008478168512327789, 0.0008452467534860196, 0.0008305905320995141, 0.0008299296113241171, 0.0008198439962908713, 0.0008191303317530592, 0.0008122123736706193, 0.0008074984121341758, 0.0008063278123562643, 0.000798698779025846, 0.0007895644631792901, 0.0007835803832166388, 0.0007680808778699763, 0.0007644612089978575, 0.0007620740351815934, 0.0007604955961583079, 0.0007588738725608164, 0.0007583204391136573, 0.0007555797726444141, 0.0007520355193049783, 0.000741059525223008, 0.0007368488557946185, 0.0007364628031667894, 0.000729615225887966, 0.0007288563141744184, 0.00072815804199944, 0.0007140072850557869, 0.000713026674650049, 0.0007084181985819026, 0.0007045085943806009, 0.0007001913851956947, 0.0006998462869232607, 0.0006997939705018672, 0.0006933528483545452, 0.0006896141229415948, 0.000689438298555272, 0.0006887133539473519, 0.0006854998820533335, 0.0006700696686335464, 0.0006648055467384395, 0.0006600245506605524, 0.0006545726052803756, 0.000654417672869605, 0.000650420810076022, 0.000645700326326143, 0.000636672905041842, 0.0006273441899086586, 0.0006271924911976371, 0.0006207942263616731, 0.000616779962065081, 0.000614096304410534, 0.0006124400902728017, 0.0006101826072826197, 0.0006044500437903567, 0.0005984414942312916, 0.0005942748318480409, 0.00059138299010676, 0.00058383990042431, 0.0005780467576992703, 0.0005713291802650886, 0.0005599226032899995, 0.0005592387792622436, 0.0005589232539419306, 0.0005467975531919344, 0.0005407212633275029, 0.000536625046866668, 0.0005251624042410072, 0.0005201260381851967, 0.0005015936247068718, 0.0004959075742466793, 0.0004886784787118991, 0.0004869518288905265, 0.00048673712260989413, 0.0004813381119399871, 0.0004704311468982056, 0.0004608598078070998, 0.0004250459341508736, 0.00042459420048000595, 0.0004165535698909879, 0.00041158702401624026, 0.0004108490391106203, 0.0003980546819005409, 0.00037933534124910673, 0.00037226783717112715, 0.00033554886047215416, 0.0003155251437418764, 0.00030067143949664336], \"y\": [\"0\", \"110\", \"55\", \"59\", \"5\", \"27\", \"112\", \"31\", \"64\", \"85\", \"3\", \"32\", \"34\", \"97\", \"47\", \"57\", \"146\", \"217\", \"7\", \"66\", \"91\", \"191\", \"200\", \"232\", \"142\", \"40\", \"131\", \"72\", \"111\", \"106\", \"75\", \"184\", \"30\", \"6\", \"12\", \"4\", \"114\", \"160\", \"33\", \"149\", \"189\", \"78\", \"130\", \"123\", \"241\", \"21\", \"205\", \"26\", \"140\", \"235\", \"2\", \"208\", \"69\", \"56\", \"223\", \"233\", \"133\", \"224\", \"29\", \"148\", \"19\", \"243\", \"63\", \"101\", \"35\", \"165\", \"16\", \"239\", \"229\", \"95\", \"162\", \"143\", \"28\", \"1\", \"49\", \"157\", \"117\", \"105\", \"22\", \"129\", \"164\", \"176\", \"167\", \"118\", \"82\", \"70\", \"230\", \"45\", \"244\", \"144\", \"36\", \"90\", \"150\", \"210\", \"108\", \"8\", \"248\", \"84\", \"203\", \"113\", \"121\", \"99\", \"166\", \"71\", \"100\", \"218\", \"23\", \"81\", \"24\", \"52\", \"147\", \"50\", \"197\", \"88\", \"37\", \"20\", \"73\", \"25\", \"237\", \"60\", \"246\", \"14\", \"80\", \"115\", \"46\", \"156\", \"126\", \"178\", \"199\", \"9\", \"185\", \"67\", \"103\", \"120\", \"93\", \"213\", \"169\", \"211\", \"174\", \"15\", \"240\", \"161\", \"83\", \"104\", \"227\", \"188\", \"182\", \"173\", \"107\", \"179\", \"89\", \"194\", \"141\", \"236\", \"11\", \"77\", \"153\", \"192\", \"187\", \"231\", \"201\", \"128\", \"74\", \"198\", \"102\", \"155\", \"119\", \"168\", \"51\", \"62\", \"151\", \"61\", \"195\", \"226\", \"228\", \"92\", \"86\", \"42\", \"132\", \"127\", \"247\", \"215\", \"18\", \"225\", \"172\", \"68\", \"193\", \"170\", \"171\", \"221\", \"10\", \"135\", \"186\", \"180\", \"65\", \"79\", \"53\", \"196\", \"242\", \"13\", \"76\", \"109\", \"207\", \"245\", \"125\", \"202\", \"163\", \"190\", \"43\", \"238\", \"177\", \"216\", \"219\", \"206\", \"136\", \"94\", \"145\", \"87\", \"159\", \"44\", \"234\", \"38\", \"175\", \"48\", \"98\", \"58\", \"152\", \"222\", \"124\", \"41\", \"139\", \"17\", \"249\", \"116\", \"54\", \"209\", \"212\", \"158\", \"137\", \"214\", \"183\", \"96\", \"204\", \"134\", \"39\", \"154\", \"122\", \"220\", \"138\", \"181\"], \"type\": \"bar\", \"uid\": \"f2ccddf7-e219-4b51-b31e-43c959fe88d4\"}], {\"autosize\": false, \"height\": 1000, \"width\": 1000, \"xaxis\": {\"tickfont\": {\"color\": \"black\", \"size\": 12}, \"title\": \"Feature Importances\"}, \"yaxis\": {\"automargin\": true}}, {\"showLink\": true, \"linkText\": \"Export to plot.ly\", \"plotlyServerURL\": \"https://plot.ly\"})});</script>"
      ],
      "text/vnd.plotly.v1+html": [
       "<div id=\"8c656a7c-eba3-494a-8b66-67c9b48759eb\" style=\"height: 1000px; width: 1000px;\" class=\"plotly-graph-div\"></div><script type=\"text/javascript\">require([\"plotly\"], function(Plotly) { window.PLOTLYENV=window.PLOTLYENV || {};window.PLOTLYENV.BASE_URL=\"https://plot.ly\";Plotly.newPlot(\"8c656a7c-eba3-494a-8b66-67c9b48759eb\", [{\"marker\": {\"color\": \"rgb(158,202,225)\", \"line\": {\"color\": \"rgb(8,48,107)\", \"width\": 1.5}}, \"opacity\": 0.6, \"orientation\": \"h\", \"text\": [0.0764, 0.0548, 0.0504, 0.049, 0.0391, 0.0363, 0.0361, 0.034, 0.0259, 0.0239, 0.0227, 0.0219, 0.0213, 0.0197, 0.0197, 0.0195, 0.0195, 0.0189, 0.0181, 0.0179, 0.0174, 0.0167, 0.0166, 0.016, 0.0107, 0.01, 0.0074, 0.0066, 0.0053, 0.0051, 0.005, 0.0044, 0.0044, 0.0043, 0.004, 0.0037, 0.0032, 0.003, 0.003, 0.0029, 0.0027, 0.0026, 0.0026, 0.0026, 0.0025, 0.0024, 0.0024, 0.0024, 0.0024, 0.0023, 0.0022, 0.0021, 0.0021, 0.002, 0.002, 0.0019, 0.0019, 0.0019, 0.0018, 0.0018, 0.0018, 0.0017, 0.0017, 0.0017, 0.0017, 0.0017, 0.0017, 0.0017, 0.0016, 0.0016, 0.0016, 0.0016, 0.0016, 0.0016, 0.0016, 0.0015, 0.0015, 0.0015, 0.0015, 0.0015, 0.0015, 0.0015, 0.0015, 0.0015, 0.0014, 0.0014, 0.0014, 0.0014, 0.0014, 0.0014, 0.0014, 0.0014, 0.0014, 0.0013, 0.0013, 0.0013, 0.0013, 0.0013, 0.0013, 0.0013, 0.0013, 0.0013, 0.0012, 0.0012, 0.0012, 0.0012, 0.0012, 0.0012, 0.0012, 0.0012, 0.0012, 0.0012, 0.0012, 0.0012, 0.0012, 0.0011, 0.0011, 0.0011, 0.0011, 0.0011, 0.0011, 0.0011, 0.0011, 0.0011, 0.0011, 0.0011, 0.0011, 0.0011, 0.0011, 0.0011, 0.0011, 0.001, 0.001, 0.001, 0.001, 0.001, 0.001, 0.001, 0.001, 0.001, 0.001, 0.001, 0.001, 0.001, 0.001, 0.001, 0.0009, 0.0009, 0.0009, 0.0009, 0.0009, 0.0009, 0.0009, 0.0009, 0.0009, 0.0009, 0.0009, 0.0009, 0.0009, 0.0009, 0.0009, 0.0009, 0.0009, 0.0008, 0.0008, 0.0008, 0.0008, 0.0008, 0.0008, 0.0008, 0.0008, 0.0008, 0.0008, 0.0008, 0.0008, 0.0008, 0.0008, 0.0008, 0.0008, 0.0008, 0.0008, 0.0008, 0.0008, 0.0007, 0.0007, 0.0007, 0.0007, 0.0007, 0.0007, 0.0007, 0.0007, 0.0007, 0.0007, 0.0007, 0.0007, 0.0007, 0.0007, 0.0007, 0.0007, 0.0007, 0.0007, 0.0007, 0.0007, 0.0007, 0.0007, 0.0007, 0.0007, 0.0006, 0.0006, 0.0006, 0.0006, 0.0006, 0.0006, 0.0006, 0.0006, 0.0006, 0.0006, 0.0006, 0.0006, 0.0006, 0.0006, 0.0006, 0.0006, 0.0006, 0.0006, 0.0006, 0.0005, 0.0005, 0.0005, 0.0005, 0.0005, 0.0005, 0.0005, 0.0005, 0.0005, 0.0005, 0.0005, 0.0005, 0.0005, 0.0004, 0.0004, 0.0004, 0.0004, 0.0004, 0.0004, 0.0004, 0.0004, 0.0003, 0.0003, 0.0003], \"textposition\": \"outside\", \"x\": [0.07640503808854171, 0.054831436141464095, 0.05043846661413628, 0.048990553906201065, 0.0391321735770868, 0.036298456948551404, 0.03608518360430314, 0.034006472707787186, 0.025933498907996566, 0.023905973713016816, 0.0226791996475998, 0.021922725978252684, 0.02127781833903827, 0.019737406323877348, 0.019667535912122495, 0.019523487126714315, 0.01948006280099324, 0.018866333980194317, 0.01813904567709456, 0.017871285763297516, 0.017360972770896384, 0.016731248293869502, 0.016560186412999285, 0.01601204863052564, 0.010747895130984023, 0.00999639279463348, 0.007362670902095972, 0.006603292329173382, 0.0052641963355145125, 0.005057113147568451, 0.004985367238041388, 0.004449105872701544, 0.0043616737517846085, 0.004255511281741671, 0.00399960677327904, 0.003679441894765015, 0.003160554138910069, 0.003021557872642994, 0.003016590770351828, 0.00289393436879615, 0.0027019565216708347, 0.002624320921426403, 0.0025600764127931656, 0.002557710878007833, 0.002526554613898225, 0.002432594486804126, 0.002428557348253514, 0.0024173998510823988, 0.0023508141388258333, 0.002298906313340745, 0.0022101903470815865, 0.0021367268654063384, 0.0020556913849808104, 0.0020333173700331914, 0.0019634225547244246, 0.0019122750678670735, 0.0019021041310915646, 0.0019000677869349177, 0.0018186751162583346, 0.0017674160442329966, 0.001751314903463292, 0.0017431223701694215, 0.0017352157897019323, 0.0017233718386109342, 0.0016761501554562463, 0.0016715091246003518, 0.0016635031487959098, 0.0016543893394540485, 0.0016429654215071754, 0.001629917599568283, 0.0016247557173746016, 0.0015913298180435624, 0.00158907407498965, 0.0015853290548445468, 0.001571405924043744, 0.001547242160543031, 0.0015442288355618952, 0.001542580439140204, 0.0015395096876671158, 0.0014933632922665364, 0.0014876002877879518, 0.0014810866751768903, 0.0014790294920190798, 0.0014590631237276087, 0.001422844140656438, 0.0014152339172614843, 0.00141354577568234, 0.0013819107111888234, 0.001376867023573308, 0.0013740775216364125, 0.0013736053626123277, 0.0013679685725736838, 0.0013558252153549016, 0.0013479355264128623, 0.0013406582613995858, 0.0012940172129235893, 0.0012827675434401195, 0.0012691849293395975, 0.0012652696518216208, 0.0012574146931234869, 0.0012512285200272787, 0.0012500665167881847, 0.0012490368440619944, 0.0012434623618998637, 0.0012373838393250165, 0.0012335708173734582, 0.001230635173333375, 0.001222942550411089, 0.0012151475002758591, 0.0012017349720954786, 0.0012014833647133703, 0.0012002794455021868, 0.0011862193021536026, 0.0011765413581330646, 0.0011543052412968401, 0.0011395789258767442, 0.0011289405009080986, 0.0011280675955399786, 0.0011262443101301832, 0.0011259474044873334, 0.0011221303506087064, 0.001116640623844084, 0.0011115143396050876, 0.0010976108568538083, 0.001096858556868426, 0.001094835237692536, 0.001091057567696861, 0.001091034372419196, 0.0010872664656825463, 0.0010713122634484241, 0.0010656166283777757, 0.0010274051865460368, 0.0010220173460328806, 0.0010212673835214615, 0.0010198505148043332, 0.0010156639785513203, 0.0010149214928128942, 0.0009972714172961565, 0.0009843141403115224, 0.0009789573318579195, 0.0009756067288407489, 0.0009710676160479508, 0.0009693011252400391, 0.0009650247093735718, 0.0009594762951696696, 0.0009547371143820337, 0.0009416958441119958, 0.0009354755094512643, 0.0009300198348555168, 0.0009239768834725104, 0.0009198160861223249, 0.000911835422103936, 0.0009026936573290746, 0.0008974493417315673, 0.0008935626900066567, 0.000868699746740571, 0.0008666252816528034, 0.0008615850709824084, 0.0008603742390849596, 0.0008600033992802672, 0.0008592217778648663, 0.0008590437228140618, 0.0008507661921259811, 0.0008478168512327789, 0.0008452467534860196, 0.0008305905320995141, 0.0008299296113241171, 0.0008198439962908713, 0.0008191303317530592, 0.0008122123736706193, 0.0008074984121341758, 0.0008063278123562643, 0.000798698779025846, 0.0007895644631792901, 0.0007835803832166388, 0.0007680808778699763, 0.0007644612089978575, 0.0007620740351815934, 0.0007604955961583079, 0.0007588738725608164, 0.0007583204391136573, 0.0007555797726444141, 0.0007520355193049783, 0.000741059525223008, 0.0007368488557946185, 0.0007364628031667894, 0.000729615225887966, 0.0007288563141744184, 0.00072815804199944, 0.0007140072850557869, 0.000713026674650049, 0.0007084181985819026, 0.0007045085943806009, 0.0007001913851956947, 0.0006998462869232607, 0.0006997939705018672, 0.0006933528483545452, 0.0006896141229415948, 0.000689438298555272, 0.0006887133539473519, 0.0006854998820533335, 0.0006700696686335464, 0.0006648055467384395, 0.0006600245506605524, 0.0006545726052803756, 0.000654417672869605, 0.000650420810076022, 0.000645700326326143, 0.000636672905041842, 0.0006273441899086586, 0.0006271924911976371, 0.0006207942263616731, 0.000616779962065081, 0.000614096304410534, 0.0006124400902728017, 0.0006101826072826197, 0.0006044500437903567, 0.0005984414942312916, 0.0005942748318480409, 0.00059138299010676, 0.00058383990042431, 0.0005780467576992703, 0.0005713291802650886, 0.0005599226032899995, 0.0005592387792622436, 0.0005589232539419306, 0.0005467975531919344, 0.0005407212633275029, 0.000536625046866668, 0.0005251624042410072, 0.0005201260381851967, 0.0005015936247068718, 0.0004959075742466793, 0.0004886784787118991, 0.0004869518288905265, 0.00048673712260989413, 0.0004813381119399871, 0.0004704311468982056, 0.0004608598078070998, 0.0004250459341508736, 0.00042459420048000595, 0.0004165535698909879, 0.00041158702401624026, 0.0004108490391106203, 0.0003980546819005409, 0.00037933534124910673, 0.00037226783717112715, 0.00033554886047215416, 0.0003155251437418764, 0.00030067143949664336], \"y\": [\"0\", \"110\", \"55\", \"59\", \"5\", \"27\", \"112\", \"31\", \"64\", \"85\", \"3\", \"32\", \"34\", \"97\", \"47\", \"57\", \"146\", \"217\", \"7\", \"66\", \"91\", \"191\", \"200\", \"232\", \"142\", \"40\", \"131\", \"72\", \"111\", \"106\", \"75\", \"184\", \"30\", \"6\", \"12\", \"4\", \"114\", \"160\", \"33\", \"149\", \"189\", \"78\", \"130\", \"123\", \"241\", \"21\", \"205\", \"26\", \"140\", \"235\", \"2\", \"208\", \"69\", \"56\", \"223\", \"233\", \"133\", \"224\", \"29\", \"148\", \"19\", \"243\", \"63\", \"101\", \"35\", \"165\", \"16\", \"239\", \"229\", \"95\", \"162\", \"143\", \"28\", \"1\", \"49\", \"157\", \"117\", \"105\", \"22\", \"129\", \"164\", \"176\", \"167\", \"118\", \"82\", \"70\", \"230\", \"45\", \"244\", \"144\", \"36\", \"90\", \"150\", \"210\", \"108\", \"8\", \"248\", \"84\", \"203\", \"113\", \"121\", \"99\", \"166\", \"71\", \"100\", \"218\", \"23\", \"81\", \"24\", \"52\", \"147\", \"50\", \"197\", \"88\", \"37\", \"20\", \"73\", \"25\", \"237\", \"60\", \"246\", \"14\", \"80\", \"115\", \"46\", \"156\", \"126\", \"178\", \"199\", \"9\", \"185\", \"67\", \"103\", \"120\", \"93\", \"213\", \"169\", \"211\", \"174\", \"15\", \"240\", \"161\", \"83\", \"104\", \"227\", \"188\", \"182\", \"173\", \"107\", \"179\", \"89\", \"194\", \"141\", \"236\", \"11\", \"77\", \"153\", \"192\", \"187\", \"231\", \"201\", \"128\", \"74\", \"198\", \"102\", \"155\", \"119\", \"168\", \"51\", \"62\", \"151\", \"61\", \"195\", \"226\", \"228\", \"92\", \"86\", \"42\", \"132\", \"127\", \"247\", \"215\", \"18\", \"225\", \"172\", \"68\", \"193\", \"170\", \"171\", \"221\", \"10\", \"135\", \"186\", \"180\", \"65\", \"79\", \"53\", \"196\", \"242\", \"13\", \"76\", \"109\", \"207\", \"245\", \"125\", \"202\", \"163\", \"190\", \"43\", \"238\", \"177\", \"216\", \"219\", \"206\", \"136\", \"94\", \"145\", \"87\", \"159\", \"44\", \"234\", \"38\", \"175\", \"48\", \"98\", \"58\", \"152\", \"222\", \"124\", \"41\", \"139\", \"17\", \"249\", \"116\", \"54\", \"209\", \"212\", \"158\", \"137\", \"214\", \"183\", \"96\", \"204\", \"134\", \"39\", \"154\", \"122\", \"220\", \"138\", \"181\"], \"type\": \"bar\", \"uid\": \"f2ccddf7-e219-4b51-b31e-43c959fe88d4\"}], {\"autosize\": false, \"height\": 1000, \"width\": 1000, \"xaxis\": {\"tickfont\": {\"color\": \"black\", \"size\": 12}, \"title\": \"Feature Importances\"}, \"yaxis\": {\"automargin\": true}}, {\"showLink\": true, \"linkText\": \"Export to plot.ly\", \"plotlyServerURL\": \"https://plot.ly\"})});</script>"
      ]
     },
     "metadata": {},
     "output_type": "display_data"
    },
    {
     "name": "stdout",
     "output_type": "stream",
     "text": [
      "\n",
      "\n",
      "\u001b[1mAdaoost Classifier\u001b[0m\n",
      "Accuracy of the model for training data is: 0.8999511395970454\n",
      "Confusion Matrix for training data is:\n"
     ]
    },
    {
     "data": {
      "text/plain": [
       "Predicted  False  True  __all__\n",
       "Actual                         \n",
       "False      27021  2670    29691\n",
       "True         811  4291     5102\n",
       "__all__    27832  6961    34793"
      ]
     },
     "metadata": {},
     "output_type": "display_data"
    },
    {
     "name": "stdout",
     "output_type": "stream",
     "text": [
      "Accuracy of the model for test data is: 0.8950333409979305\n",
      "Confusion Matrix for test data is:\n"
     ]
    },
    {
     "data": {
      "text/plain": [
       "Predicted  False  True  __all__\n",
       "Actual                         \n",
       "False       6715   708     7423\n",
       "True         205  1070     1275\n",
       "__all__     6920  1778     8698"
      ]
     },
     "metadata": {},
     "output_type": "display_data"
    },
    {
     "data": {
      "application/vnd.plotly.v1+json": {
       "config": {
        "linkText": "Export to plot.ly",
        "plotlyServerURL": "https://plot.ly",
        "showLink": true
       },
       "data": [
        {
         "marker": {
          "color": "rgb(158,202,225)",
          "line": {
           "color": "rgb(8,48,107)",
           "width": 1.5
          }
         },
         "opacity": 0.6,
         "orientation": "h",
         "text": [
          0.08,
          0.04,
          0.04,
          0.04,
          0.04,
          0.04,
          0.04,
          0.02,
          0.02,
          0.02,
          0.02,
          0.02,
          0.02,
          0.02,
          0.02,
          0.02,
          0.02,
          0.02,
          0.02,
          0.02,
          0.02,
          0.02,
          0.02,
          0.02,
          0.02,
          0.02,
          0.02,
          0.02,
          0.02,
          0.02,
          0.02,
          0.02,
          0.02,
          0.02,
          0.02,
          0.02,
          0.02,
          0.02,
          0.02,
          0.02,
          0.02,
          0,
          0,
          0,
          0,
          0,
          0,
          0,
          0,
          0,
          0,
          0,
          0,
          0,
          0,
          0,
          0,
          0,
          0,
          0,
          0,
          0,
          0,
          0,
          0,
          0,
          0,
          0,
          0,
          0,
          0,
          0,
          0,
          0,
          0,
          0,
          0,
          0,
          0,
          0,
          0,
          0,
          0,
          0,
          0,
          0,
          0,
          0,
          0,
          0,
          0,
          0,
          0,
          0,
          0,
          0,
          0,
          0,
          0,
          0,
          0,
          0,
          0,
          0,
          0,
          0,
          0,
          0,
          0,
          0,
          0,
          0,
          0,
          0,
          0,
          0,
          0,
          0,
          0,
          0,
          0,
          0,
          0,
          0,
          0,
          0,
          0,
          0,
          0,
          0,
          0,
          0,
          0,
          0,
          0,
          0,
          0,
          0,
          0,
          0,
          0,
          0,
          0,
          0,
          0,
          0,
          0,
          0,
          0,
          0,
          0,
          0,
          0,
          0,
          0,
          0,
          0,
          0,
          0,
          0,
          0,
          0,
          0,
          0,
          0,
          0,
          0,
          0,
          0,
          0,
          0,
          0,
          0,
          0,
          0,
          0,
          0,
          0,
          0,
          0,
          0,
          0,
          0,
          0,
          0,
          0,
          0,
          0,
          0,
          0,
          0,
          0,
          0,
          0,
          0,
          0,
          0,
          0,
          0,
          0,
          0,
          0,
          0,
          0,
          0,
          0,
          0,
          0,
          0,
          0,
          0,
          0,
          0,
          0,
          0,
          0,
          0,
          0,
          0,
          0,
          0,
          0,
          0,
          0,
          0,
          0,
          0,
          0,
          0,
          0,
          0,
          0,
          0,
          0,
          0,
          0,
          0,
          0,
          0,
          0,
          0,
          0,
          0,
          0,
          0,
          0,
          0,
          0,
          0,
          0
         ],
         "textposition": "outside",
         "type": "bar",
         "uid": "0353cd2e-df1f-4520-8e77-ec8886e9f0cf",
         "x": [
          0.08,
          0.04,
          0.04,
          0.04,
          0.04,
          0.04,
          0.04,
          0.02,
          0.02,
          0.02,
          0.02,
          0.02,
          0.02,
          0.02,
          0.02,
          0.02,
          0.02,
          0.02,
          0.02,
          0.02,
          0.02,
          0.02,
          0.02,
          0.02,
          0.02,
          0.02,
          0.02,
          0.02,
          0.02,
          0.02,
          0.02,
          0.02,
          0.02,
          0.02,
          0.02,
          0.02,
          0.02,
          0.02,
          0.02,
          0.02,
          0.02,
          0,
          0,
          0,
          0,
          0,
          0,
          0,
          0,
          0,
          0,
          0,
          0,
          0,
          0,
          0,
          0,
          0,
          0,
          0,
          0,
          0,
          0,
          0,
          0,
          0,
          0,
          0,
          0,
          0,
          0,
          0,
          0,
          0,
          0,
          0,
          0,
          0,
          0,
          0,
          0,
          0,
          0,
          0,
          0,
          0,
          0,
          0,
          0,
          0,
          0,
          0,
          0,
          0,
          0,
          0,
          0,
          0,
          0,
          0,
          0,
          0,
          0,
          0,
          0,
          0,
          0,
          0,
          0,
          0,
          0,
          0,
          0,
          0,
          0,
          0,
          0,
          0,
          0,
          0,
          0,
          0,
          0,
          0,
          0,
          0,
          0,
          0,
          0,
          0,
          0,
          0,
          0,
          0,
          0,
          0,
          0,
          0,
          0,
          0,
          0,
          0,
          0,
          0,
          0,
          0,
          0,
          0,
          0,
          0,
          0,
          0,
          0,
          0,
          0,
          0,
          0,
          0,
          0,
          0,
          0,
          0,
          0,
          0,
          0,
          0,
          0,
          0,
          0,
          0,
          0,
          0,
          0,
          0,
          0,
          0,
          0,
          0,
          0,
          0,
          0,
          0,
          0,
          0,
          0,
          0,
          0,
          0,
          0,
          0,
          0,
          0,
          0,
          0,
          0,
          0,
          0,
          0,
          0,
          0,
          0,
          0,
          0,
          0,
          0,
          0,
          0,
          0,
          0,
          0,
          0,
          0,
          0,
          0,
          0,
          0,
          0,
          0,
          0,
          0,
          0,
          0,
          0,
          0,
          0,
          0,
          0,
          0,
          0,
          0,
          0,
          0,
          0,
          0,
          0,
          0,
          0,
          0,
          0,
          0,
          0,
          0,
          0,
          0,
          0,
          0,
          0,
          0,
          0,
          0
         ],
         "y": [
          "0",
          "2",
          "37",
          "23",
          "135",
          "19",
          "98",
          "103",
          "39",
          "83",
          "222",
          "43",
          "165",
          "46",
          "111",
          "171",
          "61",
          "60",
          "29",
          "96",
          "199",
          "140",
          "71",
          "89",
          "87",
          "86",
          "191",
          "190",
          "32",
          "223",
          "187",
          "27",
          "20",
          "1",
          "25",
          "7",
          "11",
          "10",
          "149",
          "3",
          "131",
          "146",
          "177",
          "179",
          "147",
          "180",
          "181",
          "178",
          "182",
          "145",
          "176",
          "183",
          "184",
          "144",
          "143",
          "142",
          "185",
          "186",
          "148",
          "156",
          "175",
          "164",
          "155",
          "158",
          "159",
          "160",
          "161",
          "162",
          "154",
          "163",
          "153",
          "152",
          "174",
          "151",
          "166",
          "167",
          "168",
          "169",
          "170",
          "150",
          "172",
          "157",
          "173",
          "198",
          "188",
          "189",
          "224",
          "225",
          "226",
          "227",
          "228",
          "229",
          "230",
          "231",
          "232",
          "233",
          "234",
          "235",
          "236",
          "237",
          "238",
          "239",
          "240",
          "241",
          "242",
          "243",
          "244",
          "245",
          "246",
          "247",
          "248",
          "221",
          "220",
          "219",
          "205",
          "192",
          "193",
          "194",
          "195",
          "196",
          "197",
          "200",
          "201",
          "202",
          "203",
          "204",
          "206",
          "218",
          "207",
          "208",
          "209",
          "210",
          "211",
          "212",
          "213",
          "214",
          "215",
          "216",
          "217",
          "141",
          "125",
          "139",
          "56",
          "44",
          "45",
          "47",
          "48",
          "49",
          "50",
          "51",
          "52",
          "53",
          "54",
          "55",
          "57",
          "73",
          "58",
          "59",
          "62",
          "63",
          "64",
          "65",
          "66",
          "67",
          "68",
          "69",
          "70",
          "42",
          "41",
          "40",
          "38",
          "4",
          "5",
          "6",
          "8",
          "9",
          "12",
          "13",
          "14",
          "15",
          "16",
          "17",
          "18",
          "21",
          "22",
          "24",
          "26",
          "28",
          "30",
          "31",
          "33",
          "34",
          "35",
          "36",
          "72",
          "74",
          "138",
          "122",
          "110",
          "112",
          "113",
          "114",
          "115",
          "116",
          "117",
          "118",
          "119",
          "120",
          "121",
          "123",
          "75",
          "124",
          "126",
          "127",
          "128",
          "129",
          "130",
          "132",
          "133",
          "134",
          "136",
          "137",
          "109",
          "108",
          "107",
          "106",
          "76",
          "77",
          "78",
          "79",
          "80",
          "81",
          "82",
          "84",
          "85",
          "88",
          "90",
          "91",
          "92",
          "93",
          "94",
          "95",
          "97",
          "99",
          "100",
          "101",
          "102",
          "104",
          "105",
          "249"
         ]
        }
       ],
       "layout": {
        "autosize": false,
        "height": 1000,
        "width": 1000,
        "xaxis": {
         "tickfont": {
          "color": "black",
          "size": 12
         },
         "title": "Feature Importances"
        },
        "yaxis": {
         "automargin": true
        }
       }
      },
      "text/html": [
       "<div id=\"b475b7f0-4502-4961-9293-26e861e3a62e\" style=\"height: 1000px; width: 1000px;\" class=\"plotly-graph-div\"></div><script type=\"text/javascript\">require([\"plotly\"], function(Plotly) { window.PLOTLYENV=window.PLOTLYENV || {};window.PLOTLYENV.BASE_URL=\"https://plot.ly\";Plotly.newPlot(\"b475b7f0-4502-4961-9293-26e861e3a62e\", [{\"marker\": {\"color\": \"rgb(158,202,225)\", \"line\": {\"color\": \"rgb(8,48,107)\", \"width\": 1.5}}, \"opacity\": 0.6, \"orientation\": \"h\", \"text\": [0.08, 0.04, 0.04, 0.04, 0.04, 0.04, 0.04, 0.02, 0.02, 0.02, 0.02, 0.02, 0.02, 0.02, 0.02, 0.02, 0.02, 0.02, 0.02, 0.02, 0.02, 0.02, 0.02, 0.02, 0.02, 0.02, 0.02, 0.02, 0.02, 0.02, 0.02, 0.02, 0.02, 0.02, 0.02, 0.02, 0.02, 0.02, 0.02, 0.02, 0.02, 0.0, 0.0, 0.0, 0.0, 0.0, 0.0, 0.0, 0.0, 0.0, 0.0, 0.0, 0.0, 0.0, 0.0, 0.0, 0.0, 0.0, 0.0, 0.0, 0.0, 0.0, 0.0, 0.0, 0.0, 0.0, 0.0, 0.0, 0.0, 0.0, 0.0, 0.0, 0.0, 0.0, 0.0, 0.0, 0.0, 0.0, 0.0, 0.0, 0.0, 0.0, 0.0, 0.0, 0.0, 0.0, 0.0, 0.0, 0.0, 0.0, 0.0, 0.0, 0.0, 0.0, 0.0, 0.0, 0.0, 0.0, 0.0, 0.0, 0.0, 0.0, 0.0, 0.0, 0.0, 0.0, 0.0, 0.0, 0.0, 0.0, 0.0, 0.0, 0.0, 0.0, 0.0, 0.0, 0.0, 0.0, 0.0, 0.0, 0.0, 0.0, 0.0, 0.0, 0.0, 0.0, 0.0, 0.0, 0.0, 0.0, 0.0, 0.0, 0.0, 0.0, 0.0, 0.0, 0.0, 0.0, 0.0, 0.0, 0.0, 0.0, 0.0, 0.0, 0.0, 0.0, 0.0, 0.0, 0.0, 0.0, 0.0, 0.0, 0.0, 0.0, 0.0, 0.0, 0.0, 0.0, 0.0, 0.0, 0.0, 0.0, 0.0, 0.0, 0.0, 0.0, 0.0, 0.0, 0.0, 0.0, 0.0, 0.0, 0.0, 0.0, 0.0, 0.0, 0.0, 0.0, 0.0, 0.0, 0.0, 0.0, 0.0, 0.0, 0.0, 0.0, 0.0, 0.0, 0.0, 0.0, 0.0, 0.0, 0.0, 0.0, 0.0, 0.0, 0.0, 0.0, 0.0, 0.0, 0.0, 0.0, 0.0, 0.0, 0.0, 0.0, 0.0, 0.0, 0.0, 0.0, 0.0, 0.0, 0.0, 0.0, 0.0, 0.0, 0.0, 0.0, 0.0, 0.0, 0.0, 0.0, 0.0, 0.0, 0.0, 0.0, 0.0, 0.0, 0.0, 0.0, 0.0, 0.0, 0.0, 0.0, 0.0, 0.0, 0.0, 0.0, 0.0, 0.0, 0.0, 0.0, 0.0, 0.0, 0.0, 0.0, 0.0, 0.0, 0.0, 0.0], \"textposition\": \"outside\", \"x\": [0.08, 0.04, 0.04, 0.04, 0.04, 0.04, 0.04, 0.02, 0.02, 0.02, 0.02, 0.02, 0.02, 0.02, 0.02, 0.02, 0.02, 0.02, 0.02, 0.02, 0.02, 0.02, 0.02, 0.02, 0.02, 0.02, 0.02, 0.02, 0.02, 0.02, 0.02, 0.02, 0.02, 0.02, 0.02, 0.02, 0.02, 0.02, 0.02, 0.02, 0.02, 0.0, 0.0, 0.0, 0.0, 0.0, 0.0, 0.0, 0.0, 0.0, 0.0, 0.0, 0.0, 0.0, 0.0, 0.0, 0.0, 0.0, 0.0, 0.0, 0.0, 0.0, 0.0, 0.0, 0.0, 0.0, 0.0, 0.0, 0.0, 0.0, 0.0, 0.0, 0.0, 0.0, 0.0, 0.0, 0.0, 0.0, 0.0, 0.0, 0.0, 0.0, 0.0, 0.0, 0.0, 0.0, 0.0, 0.0, 0.0, 0.0, 0.0, 0.0, 0.0, 0.0, 0.0, 0.0, 0.0, 0.0, 0.0, 0.0, 0.0, 0.0, 0.0, 0.0, 0.0, 0.0, 0.0, 0.0, 0.0, 0.0, 0.0, 0.0, 0.0, 0.0, 0.0, 0.0, 0.0, 0.0, 0.0, 0.0, 0.0, 0.0, 0.0, 0.0, 0.0, 0.0, 0.0, 0.0, 0.0, 0.0, 0.0, 0.0, 0.0, 0.0, 0.0, 0.0, 0.0, 0.0, 0.0, 0.0, 0.0, 0.0, 0.0, 0.0, 0.0, 0.0, 0.0, 0.0, 0.0, 0.0, 0.0, 0.0, 0.0, 0.0, 0.0, 0.0, 0.0, 0.0, 0.0, 0.0, 0.0, 0.0, 0.0, 0.0, 0.0, 0.0, 0.0, 0.0, 0.0, 0.0, 0.0, 0.0, 0.0, 0.0, 0.0, 0.0, 0.0, 0.0, 0.0, 0.0, 0.0, 0.0, 0.0, 0.0, 0.0, 0.0, 0.0, 0.0, 0.0, 0.0, 0.0, 0.0, 0.0, 0.0, 0.0, 0.0, 0.0, 0.0, 0.0, 0.0, 0.0, 0.0, 0.0, 0.0, 0.0, 0.0, 0.0, 0.0, 0.0, 0.0, 0.0, 0.0, 0.0, 0.0, 0.0, 0.0, 0.0, 0.0, 0.0, 0.0, 0.0, 0.0, 0.0, 0.0, 0.0, 0.0, 0.0, 0.0, 0.0, 0.0, 0.0, 0.0, 0.0, 0.0, 0.0, 0.0, 0.0, 0.0, 0.0, 0.0, 0.0, 0.0, 0.0, 0.0, 0.0, 0.0, 0.0, 0.0, 0.0, 0.0], \"y\": [\"0\", \"2\", \"37\", \"23\", \"135\", \"19\", \"98\", \"103\", \"39\", \"83\", \"222\", \"43\", \"165\", \"46\", \"111\", \"171\", \"61\", \"60\", \"29\", \"96\", \"199\", \"140\", \"71\", \"89\", \"87\", \"86\", \"191\", \"190\", \"32\", \"223\", \"187\", \"27\", \"20\", \"1\", \"25\", \"7\", \"11\", \"10\", \"149\", \"3\", \"131\", \"146\", \"177\", \"179\", \"147\", \"180\", \"181\", \"178\", \"182\", \"145\", \"176\", \"183\", \"184\", \"144\", \"143\", \"142\", \"185\", \"186\", \"148\", \"156\", \"175\", \"164\", \"155\", \"158\", \"159\", \"160\", \"161\", \"162\", \"154\", \"163\", \"153\", \"152\", \"174\", \"151\", \"166\", \"167\", \"168\", \"169\", \"170\", \"150\", \"172\", \"157\", \"173\", \"198\", \"188\", \"189\", \"224\", \"225\", \"226\", \"227\", \"228\", \"229\", \"230\", \"231\", \"232\", \"233\", \"234\", \"235\", \"236\", \"237\", \"238\", \"239\", \"240\", \"241\", \"242\", \"243\", \"244\", \"245\", \"246\", \"247\", \"248\", \"221\", \"220\", \"219\", \"205\", \"192\", \"193\", \"194\", \"195\", \"196\", \"197\", \"200\", \"201\", \"202\", \"203\", \"204\", \"206\", \"218\", \"207\", \"208\", \"209\", \"210\", \"211\", \"212\", \"213\", \"214\", \"215\", \"216\", \"217\", \"141\", \"125\", \"139\", \"56\", \"44\", \"45\", \"47\", \"48\", \"49\", \"50\", \"51\", \"52\", \"53\", \"54\", \"55\", \"57\", \"73\", \"58\", \"59\", \"62\", \"63\", \"64\", \"65\", \"66\", \"67\", \"68\", \"69\", \"70\", \"42\", \"41\", \"40\", \"38\", \"4\", \"5\", \"6\", \"8\", \"9\", \"12\", \"13\", \"14\", \"15\", \"16\", \"17\", \"18\", \"21\", \"22\", \"24\", \"26\", \"28\", \"30\", \"31\", \"33\", \"34\", \"35\", \"36\", \"72\", \"74\", \"138\", \"122\", \"110\", \"112\", \"113\", \"114\", \"115\", \"116\", \"117\", \"118\", \"119\", \"120\", \"121\", \"123\", \"75\", \"124\", \"126\", \"127\", \"128\", \"129\", \"130\", \"132\", \"133\", \"134\", \"136\", \"137\", \"109\", \"108\", \"107\", \"106\", \"76\", \"77\", \"78\", \"79\", \"80\", \"81\", \"82\", \"84\", \"85\", \"88\", \"90\", \"91\", \"92\", \"93\", \"94\", \"95\", \"97\", \"99\", \"100\", \"101\", \"102\", \"104\", \"105\", \"249\"], \"type\": \"bar\", \"uid\": \"0353cd2e-df1f-4520-8e77-ec8886e9f0cf\"}], {\"autosize\": false, \"height\": 1000, \"width\": 1000, \"xaxis\": {\"tickfont\": {\"color\": \"black\", \"size\": 12}, \"title\": \"Feature Importances\"}, \"yaxis\": {\"automargin\": true}}, {\"showLink\": true, \"linkText\": \"Export to plot.ly\", \"plotlyServerURL\": \"https://plot.ly\"})});</script>"
      ],
      "text/vnd.plotly.v1+html": [
       "<div id=\"b475b7f0-4502-4961-9293-26e861e3a62e\" style=\"height: 1000px; width: 1000px;\" class=\"plotly-graph-div\"></div><script type=\"text/javascript\">require([\"plotly\"], function(Plotly) { window.PLOTLYENV=window.PLOTLYENV || {};window.PLOTLYENV.BASE_URL=\"https://plot.ly\";Plotly.newPlot(\"b475b7f0-4502-4961-9293-26e861e3a62e\", [{\"marker\": {\"color\": \"rgb(158,202,225)\", \"line\": {\"color\": \"rgb(8,48,107)\", \"width\": 1.5}}, \"opacity\": 0.6, \"orientation\": \"h\", \"text\": [0.08, 0.04, 0.04, 0.04, 0.04, 0.04, 0.04, 0.02, 0.02, 0.02, 0.02, 0.02, 0.02, 0.02, 0.02, 0.02, 0.02, 0.02, 0.02, 0.02, 0.02, 0.02, 0.02, 0.02, 0.02, 0.02, 0.02, 0.02, 0.02, 0.02, 0.02, 0.02, 0.02, 0.02, 0.02, 0.02, 0.02, 0.02, 0.02, 0.02, 0.02, 0.0, 0.0, 0.0, 0.0, 0.0, 0.0, 0.0, 0.0, 0.0, 0.0, 0.0, 0.0, 0.0, 0.0, 0.0, 0.0, 0.0, 0.0, 0.0, 0.0, 0.0, 0.0, 0.0, 0.0, 0.0, 0.0, 0.0, 0.0, 0.0, 0.0, 0.0, 0.0, 0.0, 0.0, 0.0, 0.0, 0.0, 0.0, 0.0, 0.0, 0.0, 0.0, 0.0, 0.0, 0.0, 0.0, 0.0, 0.0, 0.0, 0.0, 0.0, 0.0, 0.0, 0.0, 0.0, 0.0, 0.0, 0.0, 0.0, 0.0, 0.0, 0.0, 0.0, 0.0, 0.0, 0.0, 0.0, 0.0, 0.0, 0.0, 0.0, 0.0, 0.0, 0.0, 0.0, 0.0, 0.0, 0.0, 0.0, 0.0, 0.0, 0.0, 0.0, 0.0, 0.0, 0.0, 0.0, 0.0, 0.0, 0.0, 0.0, 0.0, 0.0, 0.0, 0.0, 0.0, 0.0, 0.0, 0.0, 0.0, 0.0, 0.0, 0.0, 0.0, 0.0, 0.0, 0.0, 0.0, 0.0, 0.0, 0.0, 0.0, 0.0, 0.0, 0.0, 0.0, 0.0, 0.0, 0.0, 0.0, 0.0, 0.0, 0.0, 0.0, 0.0, 0.0, 0.0, 0.0, 0.0, 0.0, 0.0, 0.0, 0.0, 0.0, 0.0, 0.0, 0.0, 0.0, 0.0, 0.0, 0.0, 0.0, 0.0, 0.0, 0.0, 0.0, 0.0, 0.0, 0.0, 0.0, 0.0, 0.0, 0.0, 0.0, 0.0, 0.0, 0.0, 0.0, 0.0, 0.0, 0.0, 0.0, 0.0, 0.0, 0.0, 0.0, 0.0, 0.0, 0.0, 0.0, 0.0, 0.0, 0.0, 0.0, 0.0, 0.0, 0.0, 0.0, 0.0, 0.0, 0.0, 0.0, 0.0, 0.0, 0.0, 0.0, 0.0, 0.0, 0.0, 0.0, 0.0, 0.0, 0.0, 0.0, 0.0, 0.0, 0.0, 0.0, 0.0, 0.0, 0.0, 0.0, 0.0, 0.0, 0.0, 0.0, 0.0, 0.0, 0.0], \"textposition\": \"outside\", \"x\": [0.08, 0.04, 0.04, 0.04, 0.04, 0.04, 0.04, 0.02, 0.02, 0.02, 0.02, 0.02, 0.02, 0.02, 0.02, 0.02, 0.02, 0.02, 0.02, 0.02, 0.02, 0.02, 0.02, 0.02, 0.02, 0.02, 0.02, 0.02, 0.02, 0.02, 0.02, 0.02, 0.02, 0.02, 0.02, 0.02, 0.02, 0.02, 0.02, 0.02, 0.02, 0.0, 0.0, 0.0, 0.0, 0.0, 0.0, 0.0, 0.0, 0.0, 0.0, 0.0, 0.0, 0.0, 0.0, 0.0, 0.0, 0.0, 0.0, 0.0, 0.0, 0.0, 0.0, 0.0, 0.0, 0.0, 0.0, 0.0, 0.0, 0.0, 0.0, 0.0, 0.0, 0.0, 0.0, 0.0, 0.0, 0.0, 0.0, 0.0, 0.0, 0.0, 0.0, 0.0, 0.0, 0.0, 0.0, 0.0, 0.0, 0.0, 0.0, 0.0, 0.0, 0.0, 0.0, 0.0, 0.0, 0.0, 0.0, 0.0, 0.0, 0.0, 0.0, 0.0, 0.0, 0.0, 0.0, 0.0, 0.0, 0.0, 0.0, 0.0, 0.0, 0.0, 0.0, 0.0, 0.0, 0.0, 0.0, 0.0, 0.0, 0.0, 0.0, 0.0, 0.0, 0.0, 0.0, 0.0, 0.0, 0.0, 0.0, 0.0, 0.0, 0.0, 0.0, 0.0, 0.0, 0.0, 0.0, 0.0, 0.0, 0.0, 0.0, 0.0, 0.0, 0.0, 0.0, 0.0, 0.0, 0.0, 0.0, 0.0, 0.0, 0.0, 0.0, 0.0, 0.0, 0.0, 0.0, 0.0, 0.0, 0.0, 0.0, 0.0, 0.0, 0.0, 0.0, 0.0, 0.0, 0.0, 0.0, 0.0, 0.0, 0.0, 0.0, 0.0, 0.0, 0.0, 0.0, 0.0, 0.0, 0.0, 0.0, 0.0, 0.0, 0.0, 0.0, 0.0, 0.0, 0.0, 0.0, 0.0, 0.0, 0.0, 0.0, 0.0, 0.0, 0.0, 0.0, 0.0, 0.0, 0.0, 0.0, 0.0, 0.0, 0.0, 0.0, 0.0, 0.0, 0.0, 0.0, 0.0, 0.0, 0.0, 0.0, 0.0, 0.0, 0.0, 0.0, 0.0, 0.0, 0.0, 0.0, 0.0, 0.0, 0.0, 0.0, 0.0, 0.0, 0.0, 0.0, 0.0, 0.0, 0.0, 0.0, 0.0, 0.0, 0.0, 0.0, 0.0, 0.0, 0.0, 0.0, 0.0, 0.0, 0.0, 0.0, 0.0, 0.0, 0.0], \"y\": [\"0\", \"2\", \"37\", \"23\", \"135\", \"19\", \"98\", \"103\", \"39\", \"83\", \"222\", \"43\", \"165\", \"46\", \"111\", \"171\", \"61\", \"60\", \"29\", \"96\", \"199\", \"140\", \"71\", \"89\", \"87\", \"86\", \"191\", \"190\", \"32\", \"223\", \"187\", \"27\", \"20\", \"1\", \"25\", \"7\", \"11\", \"10\", \"149\", \"3\", \"131\", \"146\", \"177\", \"179\", \"147\", \"180\", \"181\", \"178\", \"182\", \"145\", \"176\", \"183\", \"184\", \"144\", \"143\", \"142\", \"185\", \"186\", \"148\", \"156\", \"175\", \"164\", \"155\", \"158\", \"159\", \"160\", \"161\", \"162\", \"154\", \"163\", \"153\", \"152\", \"174\", \"151\", \"166\", \"167\", \"168\", \"169\", \"170\", \"150\", \"172\", \"157\", \"173\", \"198\", \"188\", \"189\", \"224\", \"225\", \"226\", \"227\", \"228\", \"229\", \"230\", \"231\", \"232\", \"233\", \"234\", \"235\", \"236\", \"237\", \"238\", \"239\", \"240\", \"241\", \"242\", \"243\", \"244\", \"245\", \"246\", \"247\", \"248\", \"221\", \"220\", \"219\", \"205\", \"192\", \"193\", \"194\", \"195\", \"196\", \"197\", \"200\", \"201\", \"202\", \"203\", \"204\", \"206\", \"218\", \"207\", \"208\", \"209\", \"210\", \"211\", \"212\", \"213\", \"214\", \"215\", \"216\", \"217\", \"141\", \"125\", \"139\", \"56\", \"44\", \"45\", \"47\", \"48\", \"49\", \"50\", \"51\", \"52\", \"53\", \"54\", \"55\", \"57\", \"73\", \"58\", \"59\", \"62\", \"63\", \"64\", \"65\", \"66\", \"67\", \"68\", \"69\", \"70\", \"42\", \"41\", \"40\", \"38\", \"4\", \"5\", \"6\", \"8\", \"9\", \"12\", \"13\", \"14\", \"15\", \"16\", \"17\", \"18\", \"21\", \"22\", \"24\", \"26\", \"28\", \"30\", \"31\", \"33\", \"34\", \"35\", \"36\", \"72\", \"74\", \"138\", \"122\", \"110\", \"112\", \"113\", \"114\", \"115\", \"116\", \"117\", \"118\", \"119\", \"120\", \"121\", \"123\", \"75\", \"124\", \"126\", \"127\", \"128\", \"129\", \"130\", \"132\", \"133\", \"134\", \"136\", \"137\", \"109\", \"108\", \"107\", \"106\", \"76\", \"77\", \"78\", \"79\", \"80\", \"81\", \"82\", \"84\", \"85\", \"88\", \"90\", \"91\", \"92\", \"93\", \"94\", \"95\", \"97\", \"99\", \"100\", \"101\", \"102\", \"104\", \"105\", \"249\"], \"type\": \"bar\", \"uid\": \"0353cd2e-df1f-4520-8e77-ec8886e9f0cf\"}], {\"autosize\": false, \"height\": 1000, \"width\": 1000, \"xaxis\": {\"tickfont\": {\"color\": \"black\", \"size\": 12}, \"title\": \"Feature Importances\"}, \"yaxis\": {\"automargin\": true}}, {\"showLink\": true, \"linkText\": \"Export to plot.ly\", \"plotlyServerURL\": \"https://plot.ly\"})});</script>"
      ]
     },
     "metadata": {},
     "output_type": "display_data"
    },
    {
     "name": "stdout",
     "output_type": "stream",
     "text": [
      "\n",
      "\n",
      "\u001b[1mGradientBoosting Classifier\u001b[0m\n",
      "Accuracy of the model for training data is: 0.9080562182048113\n",
      "Confusion Matrix for training data is:\n"
     ]
    },
    {
     "data": {
      "text/plain": [
       "Predicted  False  True  __all__\n",
       "Actual                         \n",
       "False      27098  2593    29691\n",
       "True         606  4496     5102\n",
       "__all__    27704  7089    34793"
      ]
     },
     "metadata": {},
     "output_type": "display_data"
    },
    {
     "name": "stdout",
     "output_type": "stream",
     "text": [
      "Accuracy of the model for test data is: 0.9008967578753736\n",
      "Confusion Matrix for test data is:\n"
     ]
    },
    {
     "data": {
      "text/plain": [
       "Predicted  False  True  __all__\n",
       "Actual                         \n",
       "False       6732   691     7423\n",
       "True         171  1104     1275\n",
       "__all__     6903  1795     8698"
      ]
     },
     "metadata": {},
     "output_type": "display_data"
    },
    {
     "data": {
      "application/vnd.plotly.v1+json": {
       "config": {
        "linkText": "Export to plot.ly",
        "plotlyServerURL": "https://plot.ly",
        "showLink": true
       },
       "data": [
        {
         "marker": {
          "color": "rgb(158,202,225)",
          "line": {
           "color": "rgb(8,48,107)",
           "width": 1.5
          }
         },
         "opacity": 0.6,
         "orientation": "h",
         "text": [
          0.8272,
          0.0235,
          0.0163,
          0.0127,
          0.0097,
          0.0087,
          0.0061,
          0.0056,
          0.0055,
          0.0036,
          0.0036,
          0.0035,
          0.0033,
          0.003,
          0.0028,
          0.0028,
          0.0027,
          0.0025,
          0.0024,
          0.0023,
          0.0021,
          0.002,
          0.0019,
          0.0018,
          0.0017,
          0.0016,
          0.0016,
          0.0015,
          0.0014,
          0.0013,
          0.0011,
          0.0011,
          0.0011,
          0.001,
          0.001,
          0.001,
          0.001,
          0.001,
          0.0009,
          0.0009,
          0.0009,
          0.0008,
          0.0008,
          0.0007,
          0.0007,
          0.0007,
          0.0007,
          0.0006,
          0.0006,
          0.0006,
          0.0006,
          0.0006,
          0.0005,
          0.0005,
          0.0005,
          0.0005,
          0.0005,
          0.0005,
          0.0004,
          0.0004,
          0.0004,
          0.0004,
          0.0004,
          0.0004,
          0.0004,
          0.0003,
          0.0003,
          0.0003,
          0.0003,
          0.0003,
          0.0003,
          0.0003,
          0.0003,
          0.0003,
          0.0003,
          0.0002,
          0.0002,
          0.0002,
          0.0002,
          0.0002,
          0.0002,
          0.0002,
          0.0002,
          0.0002,
          0.0002,
          0.0002,
          0.0002,
          0.0002,
          0.0002,
          0.0002,
          0.0002,
          0.0002,
          0.0002,
          0.0002,
          0.0002,
          0.0002,
          0.0002,
          0.0002,
          0.0002,
          0.0001,
          0.0001,
          0.0001,
          0.0001,
          0.0001,
          0.0001,
          0.0001,
          0.0001,
          0.0001,
          0.0001,
          0.0001,
          0.0001,
          0.0001,
          0.0001,
          0.0001,
          0.0001,
          0.0001,
          0.0001,
          0.0001,
          0.0001,
          0.0001,
          0.0001,
          0.0001,
          0.0001,
          0.0001,
          0.0001,
          0.0001,
          0.0001,
          0.0001,
          0.0001,
          0.0001,
          0.0001,
          0,
          0,
          0,
          0,
          0,
          0,
          0,
          0,
          0,
          0,
          0,
          0,
          0,
          0,
          0,
          0,
          0,
          0,
          0,
          0,
          0,
          0,
          0,
          0,
          0,
          0,
          0,
          0,
          0,
          0,
          0,
          0,
          0,
          0,
          0,
          0,
          0,
          0,
          0,
          0,
          0,
          0,
          0,
          0,
          0,
          0,
          0,
          0,
          0,
          0,
          0,
          0,
          0,
          0,
          0,
          0,
          0,
          0,
          0,
          0,
          0,
          0,
          0,
          0,
          0,
          0,
          0,
          0,
          0,
          0,
          0,
          0,
          0,
          0,
          0,
          0,
          0,
          0,
          0,
          0,
          0,
          0,
          0,
          0,
          0,
          0,
          0,
          0,
          0,
          0,
          0,
          0,
          0,
          0,
          0,
          0,
          0,
          0,
          0,
          0,
          0,
          0,
          0,
          0,
          0,
          0,
          0,
          0,
          0,
          0,
          0,
          0,
          0,
          0,
          0,
          0,
          0,
          0,
          0
         ],
         "textposition": "outside",
         "type": "bar",
         "uid": "bc3045f7-7286-4003-8567-1d4bb24d42aa",
         "x": [
          0.8271616350148903,
          0.023499287846354897,
          0.016301294427423743,
          0.012655700753587993,
          0.009683005002314714,
          0.008663065703712948,
          0.0061115623239670494,
          0.005627769253918418,
          0.005511626271658102,
          0.0035914874606663683,
          0.0035680319279809856,
          0.003535274074915845,
          0.0032933349895721384,
          0.0030093125271149117,
          0.0027682273943684978,
          0.0027548350971137343,
          0.002741755806047432,
          0.0025354928631632946,
          0.002426620262125654,
          0.002300093544188535,
          0.0020753540407095566,
          0.0019596173258816193,
          0.0019129767990292807,
          0.001783623642826001,
          0.0016725897490568616,
          0.001611119810807964,
          0.0015750009483664026,
          0.0014764501551022635,
          0.0013765767728130785,
          0.0012684310109046925,
          0.0011331431454197943,
          0.0011135681855674194,
          0.0010726726447685428,
          0.0010368651149513877,
          0.0010346450282142541,
          0.001023638601414597,
          0.0010211957554303016,
          0.0009884552949784855,
          0.0009107618582098831,
          0.00089650273291659,
          0.0008917945500706225,
          0.0008460309841245627,
          0.0007786604244126832,
          0.0006986661596079803,
          0.0006870867696487269,
          0.0006707178122243978,
          0.0006551983334358343,
          0.0006335987827468032,
          0.0006176968775749656,
          0.0005758693723805089,
          0.0005682381030207796,
          0.0005633191441460296,
          0.0005259134960610141,
          0.0005198455962701243,
          0.0005066452757583654,
          0.0004971916119565756,
          0.00048565999518565913,
          0.0004696288034362999,
          0.00044362464126313124,
          0.00043603110230933535,
          0.000432842303405759,
          0.0004204539953934269,
          0.0003760197715315065,
          0.00037601333907607594,
          0.0003675754138251857,
          0.0003407862191905895,
          0.00033806685626882005,
          0.00032640924283004513,
          0.0003244599159994647,
          0.00032013963869716443,
          0.0003164890398479561,
          0.00029925216211752965,
          0.000272426511248468,
          0.00027166137164903465,
          0.0002595639667100965,
          0.0002477744608157006,
          0.0002469717429345404,
          0.0002451226785333938,
          0.00024102185000739898,
          0.00023723872844099765,
          0.00023541755268883312,
          0.0002345567202583457,
          0.00022520381259177568,
          0.00021584141205234673,
          0.0002122166571256884,
          0.00020923573501894143,
          0.00020555427101643783,
          0.00019025283539222124,
          0.00018778306218664926,
          0.0001837573784502635,
          0.0001833120372390869,
          0.00017554612297442142,
          0.00017513977363512674,
          0.00016688775310152814,
          0.00015973071999330688,
          0.00015802190131013885,
          0.00015698939987659466,
          0.00015249141315188864,
          0.00015002974754919543,
          0.00013709855548796633,
          0.00013267913867408355,
          0.0001322010795500945,
          0.00012875903788282876,
          0.00012652174606538847,
          0.00011958798103564894,
          0.00011759549285536985,
          0.00011555721150998144,
          0.00010957005301803196,
          0.0001077069838980276,
          0.00010514928682120969,
          9.890235998446714e-05,
          9.294746213895383e-05,
          9.086317043173056e-05,
          9.024020596377356e-05,
          8.909639255307176e-05,
          8.878027224556473e-05,
          8.706984011612657e-05,
          8.691577005796233e-05,
          8.499307926719801e-05,
          8.201190761444516e-05,
          7.894874424261407e-05,
          7.180998429015179e-05,
          6.986723552955471e-05,
          6.760128098826309e-05,
          6.433939655644982e-05,
          6.37919146080562e-05,
          6.292144372846545e-05,
          6.28873334438867e-05,
          5.629745942602086e-05,
          5.513307444955245e-05,
          5.1631761944850036e-05,
          4.76517111524667e-05,
          4.6353920932322414e-05,
          4.549440760201547e-05,
          4.282537057836642e-05,
          4.237960981070962e-05,
          3.269816317204744e-05,
          3.203703495217519e-05,
          2.9672166322389438e-05,
          2.8101229480622656e-05,
          2.379321809228013e-05,
          2.3425587440523766e-05,
          2.3247321971629567e-05,
          1.8491934064392073e-05,
          1.8106683423945327e-05,
          1.28900831468405e-05,
          1.0951883627869103e-05,
          6.184903359720095e-08,
          3.435795555161766e-08,
          3.029863586574632e-08,
          0,
          0,
          0,
          0,
          0,
          0,
          0,
          0,
          0,
          0,
          0,
          0,
          0,
          0,
          0,
          0,
          0,
          0,
          0,
          0,
          0,
          0,
          0,
          0,
          0,
          0,
          0,
          0,
          0,
          0,
          0,
          0,
          0,
          0,
          0,
          0,
          0,
          0,
          0,
          0,
          0,
          0,
          0,
          0,
          0,
          0,
          0,
          0,
          0,
          0,
          0,
          0,
          0,
          0,
          0,
          0,
          0,
          0,
          0,
          0,
          0,
          0,
          0,
          0,
          0,
          0,
          0,
          0,
          0,
          0,
          0,
          0,
          0,
          0,
          0,
          0,
          0,
          0,
          0,
          0,
          0,
          0,
          0,
          0,
          0,
          0,
          0,
          0,
          0,
          0,
          0,
          0,
          0,
          0,
          0,
          0,
          0,
          0,
          0,
          0
         ],
         "y": [
          "0",
          "111",
          "195",
          "180",
          "99",
          "58",
          "20",
          "200",
          "202",
          "27",
          "2",
          "109",
          "102",
          "10",
          "198",
          "132",
          "40",
          "173",
          "66",
          "83",
          "19",
          "123",
          "232",
          "37",
          "71",
          "88",
          "7",
          "24",
          "168",
          "72",
          "91",
          "29",
          "243",
          "97",
          "61",
          "25",
          "43",
          "60",
          "1",
          "120",
          "144",
          "32",
          "77",
          "117",
          "78",
          "30",
          "203",
          "137",
          "135",
          "68",
          "150",
          "4",
          "3",
          "79",
          "248",
          "216",
          "113",
          "140",
          "127",
          "204",
          "62",
          "193",
          "38",
          "93",
          "190",
          "207",
          "21",
          "59",
          "17",
          "74",
          "28",
          "35",
          "36",
          "46",
          "107",
          "149",
          "39",
          "122",
          "51",
          "192",
          "239",
          "175",
          "186",
          "31",
          "236",
          "104",
          "223",
          "57",
          "100",
          "221",
          "213",
          "12",
          "215",
          "130",
          "101",
          "49",
          "177",
          "157",
          "86",
          "159",
          "108",
          "171",
          "237",
          "244",
          "41",
          "179",
          "176",
          "114",
          "189",
          "85",
          "42",
          "233",
          "69",
          "131",
          "230",
          "8",
          "13",
          "205",
          "165",
          "191",
          "220",
          "148",
          "231",
          "128",
          "33",
          "14",
          "63",
          "211",
          "75",
          "146",
          "64",
          "246",
          "55",
          "153",
          "142",
          "141",
          "15",
          "217",
          "164",
          "82",
          "218",
          "154",
          "45",
          "199",
          "23",
          "151",
          "183",
          "238",
          "119",
          "44",
          "247",
          "184",
          "182",
          "185",
          "245",
          "187",
          "188",
          "181",
          "194",
          "209",
          "219",
          "225",
          "226",
          "227",
          "228",
          "214",
          "229",
          "212",
          "210",
          "208",
          "196",
          "234",
          "235",
          "206",
          "224",
          "201",
          "240",
          "241",
          "197",
          "242",
          "222",
          "125",
          "178",
          "84",
          "67",
          "70",
          "73",
          "76",
          "80",
          "81",
          "87",
          "174",
          "89",
          "90",
          "92",
          "94",
          "95",
          "96",
          "65",
          "56",
          "54",
          "53",
          "52",
          "50",
          "48",
          "47",
          "34",
          "26",
          "22",
          "18",
          "16",
          "11",
          "9",
          "6",
          "5",
          "98",
          "103",
          "105",
          "145",
          "172",
          "170",
          "169",
          "167",
          "166",
          "163",
          "162",
          "161",
          "160",
          "158",
          "156",
          "155",
          "152",
          "147",
          "143",
          "106",
          "139",
          "138",
          "136",
          "134",
          "133",
          "129",
          "126",
          "124",
          "121",
          "118",
          "116",
          "115",
          "112",
          "110",
          "249"
         ]
        }
       ],
       "layout": {
        "autosize": false,
        "height": 1000,
        "width": 1000,
        "xaxis": {
         "tickfont": {
          "color": "black",
          "size": 12
         },
         "title": "Feature Importances"
        },
        "yaxis": {
         "automargin": true
        }
       }
      },
      "text/html": [
       "<div id=\"823c6811-7cbc-40ec-b362-9a559f67e495\" style=\"height: 1000px; width: 1000px;\" class=\"plotly-graph-div\"></div><script type=\"text/javascript\">require([\"plotly\"], function(Plotly) { window.PLOTLYENV=window.PLOTLYENV || {};window.PLOTLYENV.BASE_URL=\"https://plot.ly\";Plotly.newPlot(\"823c6811-7cbc-40ec-b362-9a559f67e495\", [{\"marker\": {\"color\": \"rgb(158,202,225)\", \"line\": {\"color\": \"rgb(8,48,107)\", \"width\": 1.5}}, \"opacity\": 0.6, \"orientation\": \"h\", \"text\": [0.8272, 0.0235, 0.0163, 0.0127, 0.0097, 0.0087, 0.0061, 0.0056, 0.0055, 0.0036, 0.0036, 0.0035, 0.0033, 0.003, 0.0028, 0.0028, 0.0027, 0.0025, 0.0024, 0.0023, 0.0021, 0.002, 0.0019, 0.0018, 0.0017, 0.0016, 0.0016, 0.0015, 0.0014, 0.0013, 0.0011, 0.0011, 0.0011, 0.001, 0.001, 0.001, 0.001, 0.001, 0.0009, 0.0009, 0.0009, 0.0008, 0.0008, 0.0007, 0.0007, 0.0007, 0.0007, 0.0006, 0.0006, 0.0006, 0.0006, 0.0006, 0.0005, 0.0005, 0.0005, 0.0005, 0.0005, 0.0005, 0.0004, 0.0004, 0.0004, 0.0004, 0.0004, 0.0004, 0.0004, 0.0003, 0.0003, 0.0003, 0.0003, 0.0003, 0.0003, 0.0003, 0.0003, 0.0003, 0.0003, 0.0002, 0.0002, 0.0002, 0.0002, 0.0002, 0.0002, 0.0002, 0.0002, 0.0002, 0.0002, 0.0002, 0.0002, 0.0002, 0.0002, 0.0002, 0.0002, 0.0002, 0.0002, 0.0002, 0.0002, 0.0002, 0.0002, 0.0002, 0.0002, 0.0001, 0.0001, 0.0001, 0.0001, 0.0001, 0.0001, 0.0001, 0.0001, 0.0001, 0.0001, 0.0001, 0.0001, 0.0001, 0.0001, 0.0001, 0.0001, 0.0001, 0.0001, 0.0001, 0.0001, 0.0001, 0.0001, 0.0001, 0.0001, 0.0001, 0.0001, 0.0001, 0.0001, 0.0001, 0.0001, 0.0001, 0.0001, 0.0, 0.0, 0.0, 0.0, 0.0, 0.0, 0.0, 0.0, 0.0, 0.0, 0.0, 0.0, 0.0, 0.0, 0.0, 0.0, 0.0, 0.0, 0.0, 0.0, 0.0, 0.0, 0.0, 0.0, 0.0, 0.0, 0.0, 0.0, 0.0, 0.0, 0.0, 0.0, 0.0, 0.0, 0.0, 0.0, 0.0, 0.0, 0.0, 0.0, 0.0, 0.0, 0.0, 0.0, 0.0, 0.0, 0.0, 0.0, 0.0, 0.0, 0.0, 0.0, 0.0, 0.0, 0.0, 0.0, 0.0, 0.0, 0.0, 0.0, 0.0, 0.0, 0.0, 0.0, 0.0, 0.0, 0.0, 0.0, 0.0, 0.0, 0.0, 0.0, 0.0, 0.0, 0.0, 0.0, 0.0, 0.0, 0.0, 0.0, 0.0, 0.0, 0.0, 0.0, 0.0, 0.0, 0.0, 0.0, 0.0, 0.0, 0.0, 0.0, 0.0, 0.0, 0.0, 0.0, 0.0, 0.0, 0.0, 0.0, 0.0, 0.0, 0.0, 0.0, 0.0, 0.0, 0.0, 0.0, 0.0, 0.0, 0.0, 0.0, 0.0, 0.0, 0.0, 0.0, 0.0, 0.0, 0.0], \"textposition\": \"outside\", \"x\": [0.8271616350148903, 0.023499287846354897, 0.016301294427423743, 0.012655700753587993, 0.009683005002314714, 0.008663065703712948, 0.0061115623239670494, 0.005627769253918418, 0.005511626271658102, 0.0035914874606663683, 0.0035680319279809856, 0.003535274074915845, 0.0032933349895721384, 0.0030093125271149117, 0.0027682273943684978, 0.0027548350971137343, 0.002741755806047432, 0.0025354928631632946, 0.002426620262125654, 0.002300093544188535, 0.0020753540407095566, 0.0019596173258816193, 0.0019129767990292807, 0.001783623642826001, 0.0016725897490568616, 0.001611119810807964, 0.0015750009483664026, 0.0014764501551022635, 0.0013765767728130785, 0.0012684310109046925, 0.0011331431454197943, 0.0011135681855674194, 0.0010726726447685428, 0.0010368651149513877, 0.0010346450282142541, 0.001023638601414597, 0.0010211957554303016, 0.0009884552949784855, 0.0009107618582098831, 0.00089650273291659, 0.0008917945500706225, 0.0008460309841245627, 0.0007786604244126832, 0.0006986661596079803, 0.0006870867696487269, 0.0006707178122243978, 0.0006551983334358343, 0.0006335987827468032, 0.0006176968775749656, 0.0005758693723805089, 0.0005682381030207796, 0.0005633191441460296, 0.0005259134960610141, 0.0005198455962701243, 0.0005066452757583654, 0.0004971916119565756, 0.00048565999518565913, 0.0004696288034362999, 0.00044362464126313124, 0.00043603110230933535, 0.000432842303405759, 0.0004204539953934269, 0.0003760197715315065, 0.00037601333907607594, 0.0003675754138251857, 0.0003407862191905895, 0.00033806685626882005, 0.00032640924283004513, 0.0003244599159994647, 0.00032013963869716443, 0.0003164890398479561, 0.00029925216211752965, 0.000272426511248468, 0.00027166137164903465, 0.0002595639667100965, 0.0002477744608157006, 0.0002469717429345404, 0.0002451226785333938, 0.00024102185000739898, 0.00023723872844099765, 0.00023541755268883312, 0.0002345567202583457, 0.00022520381259177568, 0.00021584141205234673, 0.0002122166571256884, 0.00020923573501894143, 0.00020555427101643783, 0.00019025283539222124, 0.00018778306218664926, 0.0001837573784502635, 0.0001833120372390869, 0.00017554612297442142, 0.00017513977363512674, 0.00016688775310152814, 0.00015973071999330688, 0.00015802190131013885, 0.00015698939987659466, 0.00015249141315188864, 0.00015002974754919543, 0.00013709855548796633, 0.00013267913867408355, 0.0001322010795500945, 0.00012875903788282876, 0.00012652174606538847, 0.00011958798103564894, 0.00011759549285536985, 0.00011555721150998144, 0.00010957005301803196, 0.0001077069838980276, 0.00010514928682120969, 9.890235998446714e-05, 9.294746213895383e-05, 9.086317043173056e-05, 9.024020596377356e-05, 8.909639255307176e-05, 8.878027224556473e-05, 8.706984011612657e-05, 8.691577005796233e-05, 8.499307926719801e-05, 8.201190761444516e-05, 7.894874424261407e-05, 7.180998429015179e-05, 6.986723552955471e-05, 6.760128098826309e-05, 6.433939655644982e-05, 6.37919146080562e-05, 6.292144372846545e-05, 6.28873334438867e-05, 5.629745942602086e-05, 5.513307444955245e-05, 5.1631761944850036e-05, 4.76517111524667e-05, 4.6353920932322414e-05, 4.549440760201547e-05, 4.282537057836642e-05, 4.237960981070962e-05, 3.269816317204744e-05, 3.203703495217519e-05, 2.9672166322389438e-05, 2.8101229480622656e-05, 2.379321809228013e-05, 2.3425587440523766e-05, 2.3247321971629567e-05, 1.8491934064392073e-05, 1.8106683423945327e-05, 1.28900831468405e-05, 1.0951883627869103e-05, 6.184903359720095e-08, 3.435795555161766e-08, 3.029863586574632e-08, 0.0, 0.0, 0.0, 0.0, 0.0, 0.0, 0.0, 0.0, 0.0, 0.0, 0.0, 0.0, 0.0, 0.0, 0.0, 0.0, 0.0, 0.0, 0.0, 0.0, 0.0, 0.0, 0.0, 0.0, 0.0, 0.0, 0.0, 0.0, 0.0, 0.0, 0.0, 0.0, 0.0, 0.0, 0.0, 0.0, 0.0, 0.0, 0.0, 0.0, 0.0, 0.0, 0.0, 0.0, 0.0, 0.0, 0.0, 0.0, 0.0, 0.0, 0.0, 0.0, 0.0, 0.0, 0.0, 0.0, 0.0, 0.0, 0.0, 0.0, 0.0, 0.0, 0.0, 0.0, 0.0, 0.0, 0.0, 0.0, 0.0, 0.0, 0.0, 0.0, 0.0, 0.0, 0.0, 0.0, 0.0, 0.0, 0.0, 0.0, 0.0, 0.0, 0.0, 0.0, 0.0, 0.0, 0.0, 0.0, 0.0, 0.0, 0.0, 0.0, 0.0, 0.0, 0.0, 0.0, 0.0, 0.0, 0.0, 0.0], \"y\": [\"0\", \"111\", \"195\", \"180\", \"99\", \"58\", \"20\", \"200\", \"202\", \"27\", \"2\", \"109\", \"102\", \"10\", \"198\", \"132\", \"40\", \"173\", \"66\", \"83\", \"19\", \"123\", \"232\", \"37\", \"71\", \"88\", \"7\", \"24\", \"168\", \"72\", \"91\", \"29\", \"243\", \"97\", \"61\", \"25\", \"43\", \"60\", \"1\", \"120\", \"144\", \"32\", \"77\", \"117\", \"78\", \"30\", \"203\", \"137\", \"135\", \"68\", \"150\", \"4\", \"3\", \"79\", \"248\", \"216\", \"113\", \"140\", \"127\", \"204\", \"62\", \"193\", \"38\", \"93\", \"190\", \"207\", \"21\", \"59\", \"17\", \"74\", \"28\", \"35\", \"36\", \"46\", \"107\", \"149\", \"39\", \"122\", \"51\", \"192\", \"239\", \"175\", \"186\", \"31\", \"236\", \"104\", \"223\", \"57\", \"100\", \"221\", \"213\", \"12\", \"215\", \"130\", \"101\", \"49\", \"177\", \"157\", \"86\", \"159\", \"108\", \"171\", \"237\", \"244\", \"41\", \"179\", \"176\", \"114\", \"189\", \"85\", \"42\", \"233\", \"69\", \"131\", \"230\", \"8\", \"13\", \"205\", \"165\", \"191\", \"220\", \"148\", \"231\", \"128\", \"33\", \"14\", \"63\", \"211\", \"75\", \"146\", \"64\", \"246\", \"55\", \"153\", \"142\", \"141\", \"15\", \"217\", \"164\", \"82\", \"218\", \"154\", \"45\", \"199\", \"23\", \"151\", \"183\", \"238\", \"119\", \"44\", \"247\", \"184\", \"182\", \"185\", \"245\", \"187\", \"188\", \"181\", \"194\", \"209\", \"219\", \"225\", \"226\", \"227\", \"228\", \"214\", \"229\", \"212\", \"210\", \"208\", \"196\", \"234\", \"235\", \"206\", \"224\", \"201\", \"240\", \"241\", \"197\", \"242\", \"222\", \"125\", \"178\", \"84\", \"67\", \"70\", \"73\", \"76\", \"80\", \"81\", \"87\", \"174\", \"89\", \"90\", \"92\", \"94\", \"95\", \"96\", \"65\", \"56\", \"54\", \"53\", \"52\", \"50\", \"48\", \"47\", \"34\", \"26\", \"22\", \"18\", \"16\", \"11\", \"9\", \"6\", \"5\", \"98\", \"103\", \"105\", \"145\", \"172\", \"170\", \"169\", \"167\", \"166\", \"163\", \"162\", \"161\", \"160\", \"158\", \"156\", \"155\", \"152\", \"147\", \"143\", \"106\", \"139\", \"138\", \"136\", \"134\", \"133\", \"129\", \"126\", \"124\", \"121\", \"118\", \"116\", \"115\", \"112\", \"110\", \"249\"], \"type\": \"bar\", \"uid\": \"bc3045f7-7286-4003-8567-1d4bb24d42aa\"}], {\"autosize\": false, \"height\": 1000, \"width\": 1000, \"xaxis\": {\"tickfont\": {\"color\": \"black\", \"size\": 12}, \"title\": \"Feature Importances\"}, \"yaxis\": {\"automargin\": true}}, {\"showLink\": true, \"linkText\": \"Export to plot.ly\", \"plotlyServerURL\": \"https://plot.ly\"})});</script>"
      ],
      "text/vnd.plotly.v1+html": [
       "<div id=\"823c6811-7cbc-40ec-b362-9a559f67e495\" style=\"height: 1000px; width: 1000px;\" class=\"plotly-graph-div\"></div><script type=\"text/javascript\">require([\"plotly\"], function(Plotly) { window.PLOTLYENV=window.PLOTLYENV || {};window.PLOTLYENV.BASE_URL=\"https://plot.ly\";Plotly.newPlot(\"823c6811-7cbc-40ec-b362-9a559f67e495\", [{\"marker\": {\"color\": \"rgb(158,202,225)\", \"line\": {\"color\": \"rgb(8,48,107)\", \"width\": 1.5}}, \"opacity\": 0.6, \"orientation\": \"h\", \"text\": [0.8272, 0.0235, 0.0163, 0.0127, 0.0097, 0.0087, 0.0061, 0.0056, 0.0055, 0.0036, 0.0036, 0.0035, 0.0033, 0.003, 0.0028, 0.0028, 0.0027, 0.0025, 0.0024, 0.0023, 0.0021, 0.002, 0.0019, 0.0018, 0.0017, 0.0016, 0.0016, 0.0015, 0.0014, 0.0013, 0.0011, 0.0011, 0.0011, 0.001, 0.001, 0.001, 0.001, 0.001, 0.0009, 0.0009, 0.0009, 0.0008, 0.0008, 0.0007, 0.0007, 0.0007, 0.0007, 0.0006, 0.0006, 0.0006, 0.0006, 0.0006, 0.0005, 0.0005, 0.0005, 0.0005, 0.0005, 0.0005, 0.0004, 0.0004, 0.0004, 0.0004, 0.0004, 0.0004, 0.0004, 0.0003, 0.0003, 0.0003, 0.0003, 0.0003, 0.0003, 0.0003, 0.0003, 0.0003, 0.0003, 0.0002, 0.0002, 0.0002, 0.0002, 0.0002, 0.0002, 0.0002, 0.0002, 0.0002, 0.0002, 0.0002, 0.0002, 0.0002, 0.0002, 0.0002, 0.0002, 0.0002, 0.0002, 0.0002, 0.0002, 0.0002, 0.0002, 0.0002, 0.0002, 0.0001, 0.0001, 0.0001, 0.0001, 0.0001, 0.0001, 0.0001, 0.0001, 0.0001, 0.0001, 0.0001, 0.0001, 0.0001, 0.0001, 0.0001, 0.0001, 0.0001, 0.0001, 0.0001, 0.0001, 0.0001, 0.0001, 0.0001, 0.0001, 0.0001, 0.0001, 0.0001, 0.0001, 0.0001, 0.0001, 0.0001, 0.0001, 0.0, 0.0, 0.0, 0.0, 0.0, 0.0, 0.0, 0.0, 0.0, 0.0, 0.0, 0.0, 0.0, 0.0, 0.0, 0.0, 0.0, 0.0, 0.0, 0.0, 0.0, 0.0, 0.0, 0.0, 0.0, 0.0, 0.0, 0.0, 0.0, 0.0, 0.0, 0.0, 0.0, 0.0, 0.0, 0.0, 0.0, 0.0, 0.0, 0.0, 0.0, 0.0, 0.0, 0.0, 0.0, 0.0, 0.0, 0.0, 0.0, 0.0, 0.0, 0.0, 0.0, 0.0, 0.0, 0.0, 0.0, 0.0, 0.0, 0.0, 0.0, 0.0, 0.0, 0.0, 0.0, 0.0, 0.0, 0.0, 0.0, 0.0, 0.0, 0.0, 0.0, 0.0, 0.0, 0.0, 0.0, 0.0, 0.0, 0.0, 0.0, 0.0, 0.0, 0.0, 0.0, 0.0, 0.0, 0.0, 0.0, 0.0, 0.0, 0.0, 0.0, 0.0, 0.0, 0.0, 0.0, 0.0, 0.0, 0.0, 0.0, 0.0, 0.0, 0.0, 0.0, 0.0, 0.0, 0.0, 0.0, 0.0, 0.0, 0.0, 0.0, 0.0, 0.0, 0.0, 0.0, 0.0, 0.0], \"textposition\": \"outside\", \"x\": [0.8271616350148903, 0.023499287846354897, 0.016301294427423743, 0.012655700753587993, 0.009683005002314714, 0.008663065703712948, 0.0061115623239670494, 0.005627769253918418, 0.005511626271658102, 0.0035914874606663683, 0.0035680319279809856, 0.003535274074915845, 0.0032933349895721384, 0.0030093125271149117, 0.0027682273943684978, 0.0027548350971137343, 0.002741755806047432, 0.0025354928631632946, 0.002426620262125654, 0.002300093544188535, 0.0020753540407095566, 0.0019596173258816193, 0.0019129767990292807, 0.001783623642826001, 0.0016725897490568616, 0.001611119810807964, 0.0015750009483664026, 0.0014764501551022635, 0.0013765767728130785, 0.0012684310109046925, 0.0011331431454197943, 0.0011135681855674194, 0.0010726726447685428, 0.0010368651149513877, 0.0010346450282142541, 0.001023638601414597, 0.0010211957554303016, 0.0009884552949784855, 0.0009107618582098831, 0.00089650273291659, 0.0008917945500706225, 0.0008460309841245627, 0.0007786604244126832, 0.0006986661596079803, 0.0006870867696487269, 0.0006707178122243978, 0.0006551983334358343, 0.0006335987827468032, 0.0006176968775749656, 0.0005758693723805089, 0.0005682381030207796, 0.0005633191441460296, 0.0005259134960610141, 0.0005198455962701243, 0.0005066452757583654, 0.0004971916119565756, 0.00048565999518565913, 0.0004696288034362999, 0.00044362464126313124, 0.00043603110230933535, 0.000432842303405759, 0.0004204539953934269, 0.0003760197715315065, 0.00037601333907607594, 0.0003675754138251857, 0.0003407862191905895, 0.00033806685626882005, 0.00032640924283004513, 0.0003244599159994647, 0.00032013963869716443, 0.0003164890398479561, 0.00029925216211752965, 0.000272426511248468, 0.00027166137164903465, 0.0002595639667100965, 0.0002477744608157006, 0.0002469717429345404, 0.0002451226785333938, 0.00024102185000739898, 0.00023723872844099765, 0.00023541755268883312, 0.0002345567202583457, 0.00022520381259177568, 0.00021584141205234673, 0.0002122166571256884, 0.00020923573501894143, 0.00020555427101643783, 0.00019025283539222124, 0.00018778306218664926, 0.0001837573784502635, 0.0001833120372390869, 0.00017554612297442142, 0.00017513977363512674, 0.00016688775310152814, 0.00015973071999330688, 0.00015802190131013885, 0.00015698939987659466, 0.00015249141315188864, 0.00015002974754919543, 0.00013709855548796633, 0.00013267913867408355, 0.0001322010795500945, 0.00012875903788282876, 0.00012652174606538847, 0.00011958798103564894, 0.00011759549285536985, 0.00011555721150998144, 0.00010957005301803196, 0.0001077069838980276, 0.00010514928682120969, 9.890235998446714e-05, 9.294746213895383e-05, 9.086317043173056e-05, 9.024020596377356e-05, 8.909639255307176e-05, 8.878027224556473e-05, 8.706984011612657e-05, 8.691577005796233e-05, 8.499307926719801e-05, 8.201190761444516e-05, 7.894874424261407e-05, 7.180998429015179e-05, 6.986723552955471e-05, 6.760128098826309e-05, 6.433939655644982e-05, 6.37919146080562e-05, 6.292144372846545e-05, 6.28873334438867e-05, 5.629745942602086e-05, 5.513307444955245e-05, 5.1631761944850036e-05, 4.76517111524667e-05, 4.6353920932322414e-05, 4.549440760201547e-05, 4.282537057836642e-05, 4.237960981070962e-05, 3.269816317204744e-05, 3.203703495217519e-05, 2.9672166322389438e-05, 2.8101229480622656e-05, 2.379321809228013e-05, 2.3425587440523766e-05, 2.3247321971629567e-05, 1.8491934064392073e-05, 1.8106683423945327e-05, 1.28900831468405e-05, 1.0951883627869103e-05, 6.184903359720095e-08, 3.435795555161766e-08, 3.029863586574632e-08, 0.0, 0.0, 0.0, 0.0, 0.0, 0.0, 0.0, 0.0, 0.0, 0.0, 0.0, 0.0, 0.0, 0.0, 0.0, 0.0, 0.0, 0.0, 0.0, 0.0, 0.0, 0.0, 0.0, 0.0, 0.0, 0.0, 0.0, 0.0, 0.0, 0.0, 0.0, 0.0, 0.0, 0.0, 0.0, 0.0, 0.0, 0.0, 0.0, 0.0, 0.0, 0.0, 0.0, 0.0, 0.0, 0.0, 0.0, 0.0, 0.0, 0.0, 0.0, 0.0, 0.0, 0.0, 0.0, 0.0, 0.0, 0.0, 0.0, 0.0, 0.0, 0.0, 0.0, 0.0, 0.0, 0.0, 0.0, 0.0, 0.0, 0.0, 0.0, 0.0, 0.0, 0.0, 0.0, 0.0, 0.0, 0.0, 0.0, 0.0, 0.0, 0.0, 0.0, 0.0, 0.0, 0.0, 0.0, 0.0, 0.0, 0.0, 0.0, 0.0, 0.0, 0.0, 0.0, 0.0, 0.0, 0.0, 0.0, 0.0], \"y\": [\"0\", \"111\", \"195\", \"180\", \"99\", \"58\", \"20\", \"200\", \"202\", \"27\", \"2\", \"109\", \"102\", \"10\", \"198\", \"132\", \"40\", \"173\", \"66\", \"83\", \"19\", \"123\", \"232\", \"37\", \"71\", \"88\", \"7\", \"24\", \"168\", \"72\", \"91\", \"29\", \"243\", \"97\", \"61\", \"25\", \"43\", \"60\", \"1\", \"120\", \"144\", \"32\", \"77\", \"117\", \"78\", \"30\", \"203\", \"137\", \"135\", \"68\", \"150\", \"4\", \"3\", \"79\", \"248\", \"216\", \"113\", \"140\", \"127\", \"204\", \"62\", \"193\", \"38\", \"93\", \"190\", \"207\", \"21\", \"59\", \"17\", \"74\", \"28\", \"35\", \"36\", \"46\", \"107\", \"149\", \"39\", \"122\", \"51\", \"192\", \"239\", \"175\", \"186\", \"31\", \"236\", \"104\", \"223\", \"57\", \"100\", \"221\", \"213\", \"12\", \"215\", \"130\", \"101\", \"49\", \"177\", \"157\", \"86\", \"159\", \"108\", \"171\", \"237\", \"244\", \"41\", \"179\", \"176\", \"114\", \"189\", \"85\", \"42\", \"233\", \"69\", \"131\", \"230\", \"8\", \"13\", \"205\", \"165\", \"191\", \"220\", \"148\", \"231\", \"128\", \"33\", \"14\", \"63\", \"211\", \"75\", \"146\", \"64\", \"246\", \"55\", \"153\", \"142\", \"141\", \"15\", \"217\", \"164\", \"82\", \"218\", \"154\", \"45\", \"199\", \"23\", \"151\", \"183\", \"238\", \"119\", \"44\", \"247\", \"184\", \"182\", \"185\", \"245\", \"187\", \"188\", \"181\", \"194\", \"209\", \"219\", \"225\", \"226\", \"227\", \"228\", \"214\", \"229\", \"212\", \"210\", \"208\", \"196\", \"234\", \"235\", \"206\", \"224\", \"201\", \"240\", \"241\", \"197\", \"242\", \"222\", \"125\", \"178\", \"84\", \"67\", \"70\", \"73\", \"76\", \"80\", \"81\", \"87\", \"174\", \"89\", \"90\", \"92\", \"94\", \"95\", \"96\", \"65\", \"56\", \"54\", \"53\", \"52\", \"50\", \"48\", \"47\", \"34\", \"26\", \"22\", \"18\", \"16\", \"11\", \"9\", \"6\", \"5\", \"98\", \"103\", \"105\", \"145\", \"172\", \"170\", \"169\", \"167\", \"166\", \"163\", \"162\", \"161\", \"160\", \"158\", \"156\", \"155\", \"152\", \"147\", \"143\", \"106\", \"139\", \"138\", \"136\", \"134\", \"133\", \"129\", \"126\", \"124\", \"121\", \"118\", \"116\", \"115\", \"112\", \"110\", \"249\"], \"type\": \"bar\", \"uid\": \"bc3045f7-7286-4003-8567-1d4bb24d42aa\"}], {\"autosize\": false, \"height\": 1000, \"width\": 1000, \"xaxis\": {\"tickfont\": {\"color\": \"black\", \"size\": 12}, \"title\": \"Feature Importances\"}, \"yaxis\": {\"automargin\": true}}, {\"showLink\": true, \"linkText\": \"Export to plot.ly\", \"plotlyServerURL\": \"https://plot.ly\"})});</script>"
      ]
     },
     "metadata": {},
     "output_type": "display_data"
    },
    {
     "name": "stdout",
     "output_type": "stream",
     "text": [
      "\n",
      "\n",
      "\u001b[1mExtraTree Classifier\u001b[0m\n",
      "Accuracy of the model for training data is: 0.9209898542810335\n",
      "Confusion Matrix for training data is:\n"
     ]
    },
    {
     "data": {
      "text/plain": [
       "Predicted  False  True  __all__\n",
       "Actual                         \n",
       "False      27089  2602    29691\n",
       "True         147  4955     5102\n",
       "__all__    27236  7557    34793"
      ]
     },
     "metadata": {},
     "output_type": "display_data"
    },
    {
     "name": "stdout",
     "output_type": "stream",
     "text": [
      "Accuracy of the model for test data is: 0.9058404230857668\n",
      "Confusion Matrix for test data is:\n"
     ]
    },
    {
     "data": {
      "text/plain": [
       "Predicted  False  True  __all__\n",
       "Actual                         \n",
       "False       6738   685     7423\n",
       "True         134  1141     1275\n",
       "__all__     6872  1826     8698"
      ]
     },
     "metadata": {},
     "output_type": "display_data"
    },
    {
     "data": {
      "application/vnd.plotly.v1+json": {
       "config": {
        "linkText": "Export to plot.ly",
        "plotlyServerURL": "https://plot.ly",
        "showLink": true
       },
       "data": [
        {
         "marker": {
          "color": "rgb(158,202,225)",
          "line": {
           "color": "rgb(8,48,107)",
           "width": 1.5
          }
         },
         "opacity": 0.6,
         "orientation": "h",
         "text": [
          0.0452,
          0.0249,
          0.0172,
          0.0163,
          0.0158,
          0.014,
          0.0137,
          0.0131,
          0.013,
          0.013,
          0.0123,
          0.0122,
          0.0121,
          0.0116,
          0.0115,
          0.0112,
          0.0112,
          0.0111,
          0.0106,
          0.01,
          0.0099,
          0.0099,
          0.0095,
          0.0094,
          0.009,
          0.009,
          0.0087,
          0.0087,
          0.0086,
          0.0085,
          0.0083,
          0.0081,
          0.0078,
          0.0075,
          0.0074,
          0.0074,
          0.0073,
          0.0073,
          0.0073,
          0.0072,
          0.0071,
          0.0071,
          0.0069,
          0.0068,
          0.0067,
          0.0067,
          0.0067,
          0.0066,
          0.0065,
          0.0065,
          0.0065,
          0.0065,
          0.0064,
          0.0064,
          0.0064,
          0.0063,
          0.0063,
          0.0062,
          0.006,
          0.0059,
          0.0058,
          0.0057,
          0.0056,
          0.0055,
          0.0055,
          0.0053,
          0.0052,
          0.0051,
          0.0051,
          0.005,
          0.0048,
          0.0048,
          0.0047,
          0.0046,
          0.0046,
          0.0045,
          0.0044,
          0.0043,
          0.0043,
          0.004,
          0.0039,
          0.0039,
          0.0038,
          0.0038,
          0.0038,
          0.0038,
          0.0038,
          0.0036,
          0.0036,
          0.0036,
          0.0035,
          0.0035,
          0.0035,
          0.0033,
          0.0033,
          0.0032,
          0.0032,
          0.0032,
          0.0031,
          0.003,
          0.003,
          0.0029,
          0.0029,
          0.0028,
          0.0028,
          0.0028,
          0.0028,
          0.0027,
          0.0027,
          0.0027,
          0.0027,
          0.0026,
          0.0026,
          0.0026,
          0.0025,
          0.0025,
          0.0024,
          0.0024,
          0.0024,
          0.0024,
          0.0024,
          0.0024,
          0.0023,
          0.0023,
          0.0023,
          0.0022,
          0.0022,
          0.0022,
          0.0022,
          0.0022,
          0.0021,
          0.0021,
          0.0021,
          0.0021,
          0.0021,
          0.0021,
          0.0021,
          0.0021,
          0.002,
          0.002,
          0.002,
          0.002,
          0.002,
          0.002,
          0.0019,
          0.0019,
          0.0019,
          0.0019,
          0.0019,
          0.0019,
          0.0018,
          0.0018,
          0.0018,
          0.0018,
          0.0017,
          0.0017,
          0.0017,
          0.0017,
          0.0016,
          0.0016,
          0.0016,
          0.0016,
          0.0016,
          0.0016,
          0.0016,
          0.0016,
          0.0016,
          0.0015,
          0.0015,
          0.0015,
          0.0015,
          0.0015,
          0.0015,
          0.0015,
          0.0014,
          0.0014,
          0.0014,
          0.0014,
          0.0014,
          0.0014,
          0.0014,
          0.0013,
          0.0013,
          0.0013,
          0.0013,
          0.0013,
          0.0013,
          0.0013,
          0.0013,
          0.0013,
          0.0012,
          0.0012,
          0.0012,
          0.0012,
          0.0012,
          0.0012,
          0.0012,
          0.0012,
          0.0012,
          0.0012,
          0.0011,
          0.0011,
          0.0011,
          0.0011,
          0.0011,
          0.0011,
          0.001,
          0.001,
          0.001,
          0.001,
          0.001,
          0.001,
          0.001,
          0.001,
          0.001,
          0.001,
          0.001,
          0.001,
          0.001,
          0.0009,
          0.0009,
          0.0009,
          0.0009,
          0.0009,
          0.0009,
          0.0009,
          0.0009,
          0.0009,
          0.0009,
          0.0009,
          0.0009,
          0.0009,
          0.0009,
          0.0008,
          0.0008,
          0.0008,
          0.0008,
          0.0008,
          0.0008,
          0.0007,
          0.0007,
          0.0007,
          0.0007,
          0.0007,
          0.0007,
          0.0007,
          0.0007,
          0.0006,
          0.0006,
          0.0005
         ],
         "textposition": "outside",
         "type": "bar",
         "uid": "a33e01f6-6641-4508-84ec-d7d42dd5f470",
         "x": [
          0.045234284123859055,
          0.02491238750760652,
          0.01722184726190631,
          0.016339912946407353,
          0.015779730924340075,
          0.013994283466309949,
          0.013743123975483417,
          0.013127319604182033,
          0.01300999839759268,
          0.012989329256593801,
          0.012310561377377903,
          0.012220704142539082,
          0.012094903447374638,
          0.011580601411295844,
          0.011453566753892511,
          0.011208413372215172,
          0.011161455497688228,
          0.011125186855312429,
          0.010566775643618334,
          0.009969181265515128,
          0.009928038337939673,
          0.00990099820295232,
          0.009458243184686339,
          0.009443488870168085,
          0.009046110507944495,
          0.008973098280620274,
          0.00872406833846322,
          0.008716826013651327,
          0.008571334747862046,
          0.008491542508944117,
          0.008253922460563888,
          0.00814084541466408,
          0.0077559276213882075,
          0.007543967565593395,
          0.007442672158699875,
          0.0074059636963666065,
          0.007344198741104045,
          0.0073079238693049015,
          0.0072677102067590805,
          0.0072059481161916294,
          0.0071400681291950725,
          0.007099067728252475,
          0.006910949653126991,
          0.006819974349665808,
          0.0067160423708909345,
          0.0066757298781838035,
          0.006674898862828615,
          0.00659572653592225,
          0.006514574367350402,
          0.006500300945091342,
          0.006493497424157045,
          0.006475247020368948,
          0.0064253432592231525,
          0.006372085265725423,
          0.0063706019600515,
          0.006344185828546523,
          0.0062866651257465185,
          0.006245379070971476,
          0.006003354392116985,
          0.00588247304480889,
          0.0058435111709343205,
          0.005674266720672499,
          0.00561866390962965,
          0.005531601294054183,
          0.005470352485108715,
          0.005338976789205807,
          0.005176953864232528,
          0.00514676587657775,
          0.0050689745072499915,
          0.0050271446910884225,
          0.0047624976624094165,
          0.004756545825447047,
          0.004723760198178976,
          0.004635987212375614,
          0.004592548710351574,
          0.004514597366670597,
          0.004431881077125481,
          0.004301627178410245,
          0.004267188819103355,
          0.003988243415202165,
          0.0039060769921828256,
          0.003854911288508444,
          0.003807327807584797,
          0.0037852551247164017,
          0.0037782705376551893,
          0.0037741697468316173,
          0.003752764002121294,
          0.0036377575088419336,
          0.003616499284975881,
          0.0035755189734952113,
          0.003544766136264679,
          0.0035277215264238543,
          0.003476326086502159,
          0.003321471878427533,
          0.003316668594714118,
          0.003226856682382564,
          0.0032041913419494487,
          0.003157523844309329,
          0.0030923298935223763,
          0.003049644034544579,
          0.0029956621427493207,
          0.0029401908696802567,
          0.0029116118624592977,
          0.002841155406458455,
          0.0028202812550086305,
          0.0028084955974796272,
          0.002792855776000432,
          0.0027393600275515653,
          0.002735771861791838,
          0.002680403716517764,
          0.0026727925281523303,
          0.002614376607342474,
          0.0025966759490550486,
          0.002570691162952154,
          0.0025415891549213825,
          0.0025325376206015706,
          0.002447453634908146,
          0.0024459277406359238,
          0.002418357886372731,
          0.002411850426969672,
          0.002411085670824128,
          0.002363048682883753,
          0.0023418616537574906,
          0.0023302019301720545,
          0.0023151876992540494,
          0.002241237420489467,
          0.002237361789547031,
          0.0022369187590687853,
          0.002232827456876249,
          0.0021594188369577863,
          0.0021404429744957395,
          0.0021208998377286897,
          0.0021147970339494442,
          0.002096452769505806,
          0.002095424786670737,
          0.0020795816731567847,
          0.00207165191350388,
          0.0020655621189072135,
          0.0020348700191678845,
          0.0020308839650542893,
          0.0020069746934843003,
          0.0019982019663531683,
          0.001972568828989678,
          0.0019507864336513186,
          0.001941313756289453,
          0.0019129353339734038,
          0.0018983975082791948,
          0.0018982307892983457,
          0.0018782359583430033,
          0.001851899237731516,
          0.0018241373529386674,
          0.0018001081578727682,
          0.001781487020882103,
          0.0017680803149442118,
          0.0017052031874353907,
          0.001690219057458588,
          0.001668781345458253,
          0.001664634367032771,
          0.0016392970187390314,
          0.0016248625050384019,
          0.0016247731409394835,
          0.0016191028121678008,
          0.0016019641912914909,
          0.001570002411059992,
          0.0015632015567378196,
          0.0015566192986920496,
          0.0015501598747868599,
          0.0015388610763905535,
          0.0015353556028186437,
          0.0015114016306923513,
          0.0015092560561027074,
          0.001482923797656687,
          0.0014809988344436599,
          0.0014531168803990312,
          0.001426805181800251,
          0.0014192338056272273,
          0.0013963268779622659,
          0.0013783755561623424,
          0.0013671980160993868,
          0.0013638132191457274,
          0.0013574970945856835,
          0.001336647028860496,
          0.0013323206271847112,
          0.001318275499204977,
          0.0013023969844320684,
          0.001300694989939046,
          0.001288071290485077,
          0.0012876319106811455,
          0.0012777607606631305,
          0.001259878211578579,
          0.0012392872094263464,
          0.001224170651962424,
          0.0012213656564714383,
          0.0012026302398427057,
          0.001197371674340503,
          0.0011968734463579202,
          0.001184028596697859,
          0.0011714774394710956,
          0.001170529385018421,
          0.0011543099165742712,
          0.0011382340206498407,
          0.0011349065050046312,
          0.0011181330184933502,
          0.001100110820219588,
          0.0010997254845394008,
          0.0010934039463032668,
          0.001045770841805791,
          0.0010337989483542739,
          0.0010207059878146597,
          0.0010196017102971047,
          0.0010067479845031597,
          0.0010059825441082948,
          0.0010058606470352196,
          0.0009866390632786233,
          0.0009835031424722824,
          0.0009689389176313845,
          0.0009614738738802514,
          0.0009571687603779206,
          0.0009526766242161138,
          0.0009484440659577849,
          0.000945458463464722,
          0.0009423773109083128,
          0.0009394821479789362,
          0.0009092826038321856,
          0.0008991091287480384,
          0.0008975660826294384,
          0.0008917044525272703,
          0.0008712022058435813,
          0.0008711655737937621,
          0.0008644494474210531,
          0.0008640415353644654,
          0.0008571907731689182,
          0.0008557981656365012,
          0.0008474493989708342,
          0.0008394221416672931,
          0.0008194793560932792,
          0.0008156204586824694,
          0.0007925981423596163,
          0.0007703682943020985,
          0.0007484348113432765,
          0.0007444991441270682,
          0.000710352099429704,
          0.0007095356361755705,
          0.0007030042827958694,
          0.0006996433514014755,
          0.0006933148691979746,
          0.0006824094248674675,
          0.0006375253977519918,
          0.0005932014681226886,
          0.0005249640887387264
         ],
         "y": [
          "0",
          "190",
          "95",
          "46",
          "31",
          "107",
          "65",
          "100",
          "140",
          "75",
          "172",
          "106",
          "45",
          "33",
          "96",
          "40",
          "131",
          "143",
          "58",
          "233",
          "186",
          "215",
          "137",
          "244",
          "141",
          "198",
          "68",
          "178",
          "192",
          "52",
          "82",
          "213",
          "231",
          "59",
          "147",
          "1",
          "152",
          "5",
          "32",
          "176",
          "235",
          "124",
          "62",
          "209",
          "112",
          "180",
          "103",
          "212",
          "161",
          "47",
          "127",
          "168",
          "79",
          "153",
          "64",
          "42",
          "202",
          "72",
          "67",
          "30",
          "226",
          "61",
          "9",
          "57",
          "66",
          "174",
          "237",
          "142",
          "223",
          "240",
          "12",
          "27",
          "69",
          "110",
          "41",
          "217",
          "43",
          "246",
          "126",
          "238",
          "139",
          "248",
          "177",
          "2",
          "144",
          "88",
          "170",
          "189",
          "167",
          "87",
          "29",
          "20",
          "15",
          "151",
          "211",
          "184",
          "60",
          "175",
          "48",
          "148",
          "24",
          "108",
          "155",
          "138",
          "154",
          "118",
          "90",
          "49",
          "86",
          "193",
          "80",
          "185",
          "35",
          "34",
          "54",
          "191",
          "125",
          "99",
          "36",
          "145",
          "133",
          "73",
          "214",
          "150",
          "14",
          "28",
          "21",
          "241",
          "149",
          "101",
          "91",
          "249",
          "53",
          "227",
          "116",
          "121",
          "97",
          "23",
          "232",
          "10",
          "182",
          "188",
          "197",
          "164",
          "51",
          "219",
          "183",
          "123",
          "243",
          "229",
          "146",
          "11",
          "70",
          "165",
          "221",
          "159",
          "160",
          "228",
          "128",
          "204",
          "230",
          "83",
          "203",
          "205",
          "44",
          "114",
          "196",
          "63",
          "6",
          "242",
          "113",
          "200",
          "239",
          "157",
          "71",
          "199",
          "156",
          "206",
          "77",
          "22",
          "25",
          "135",
          "130",
          "111",
          "8",
          "39",
          "84",
          "122",
          "109",
          "37",
          "158",
          "163",
          "136",
          "247",
          "225",
          "218",
          "173",
          "76",
          "201",
          "171",
          "179",
          "102",
          "181",
          "117",
          "169",
          "78",
          "104",
          "208",
          "187",
          "38",
          "81",
          "50",
          "210",
          "85",
          "132",
          "92",
          "7",
          "26",
          "119",
          "129",
          "216",
          "220",
          "222",
          "115",
          "207",
          "98",
          "18",
          "105",
          "224",
          "236",
          "162",
          "16",
          "234",
          "245",
          "195",
          "120",
          "19",
          "55",
          "74",
          "94",
          "56",
          "93",
          "194",
          "166",
          "3",
          "89",
          "4",
          "134",
          "17",
          "13"
         ]
        }
       ],
       "layout": {
        "autosize": false,
        "height": 1000,
        "width": 1000,
        "xaxis": {
         "tickfont": {
          "color": "black",
          "size": 12
         },
         "title": "Feature Importances"
        },
        "yaxis": {
         "automargin": true
        }
       }
      },
      "text/html": [
       "<div id=\"ac38ad33-631b-4e79-ac3c-e6e6fd26efdd\" style=\"height: 1000px; width: 1000px;\" class=\"plotly-graph-div\"></div><script type=\"text/javascript\">require([\"plotly\"], function(Plotly) { window.PLOTLYENV=window.PLOTLYENV || {};window.PLOTLYENV.BASE_URL=\"https://plot.ly\";Plotly.newPlot(\"ac38ad33-631b-4e79-ac3c-e6e6fd26efdd\", [{\"marker\": {\"color\": \"rgb(158,202,225)\", \"line\": {\"color\": \"rgb(8,48,107)\", \"width\": 1.5}}, \"opacity\": 0.6, \"orientation\": \"h\", \"text\": [0.0452, 0.0249, 0.0172, 0.0163, 0.0158, 0.014, 0.0137, 0.0131, 0.013, 0.013, 0.0123, 0.0122, 0.0121, 0.0116, 0.0115, 0.0112, 0.0112, 0.0111, 0.0106, 0.01, 0.0099, 0.0099, 0.0095, 0.0094, 0.009, 0.009, 0.0087, 0.0087, 0.0086, 0.0085, 0.0083, 0.0081, 0.0078, 0.0075, 0.0074, 0.0074, 0.0073, 0.0073, 0.0073, 0.0072, 0.0071, 0.0071, 0.0069, 0.0068, 0.0067, 0.0067, 0.0067, 0.0066, 0.0065, 0.0065, 0.0065, 0.0065, 0.0064, 0.0064, 0.0064, 0.0063, 0.0063, 0.0062, 0.006, 0.0059, 0.0058, 0.0057, 0.0056, 0.0055, 0.0055, 0.0053, 0.0052, 0.0051, 0.0051, 0.005, 0.0048, 0.0048, 0.0047, 0.0046, 0.0046, 0.0045, 0.0044, 0.0043, 0.0043, 0.004, 0.0039, 0.0039, 0.0038, 0.0038, 0.0038, 0.0038, 0.0038, 0.0036, 0.0036, 0.0036, 0.0035, 0.0035, 0.0035, 0.0033, 0.0033, 0.0032, 0.0032, 0.0032, 0.0031, 0.003, 0.003, 0.0029, 0.0029, 0.0028, 0.0028, 0.0028, 0.0028, 0.0027, 0.0027, 0.0027, 0.0027, 0.0026, 0.0026, 0.0026, 0.0025, 0.0025, 0.0024, 0.0024, 0.0024, 0.0024, 0.0024, 0.0024, 0.0023, 0.0023, 0.0023, 0.0022, 0.0022, 0.0022, 0.0022, 0.0022, 0.0021, 0.0021, 0.0021, 0.0021, 0.0021, 0.0021, 0.0021, 0.0021, 0.002, 0.002, 0.002, 0.002, 0.002, 0.002, 0.0019, 0.0019, 0.0019, 0.0019, 0.0019, 0.0019, 0.0018, 0.0018, 0.0018, 0.0018, 0.0017, 0.0017, 0.0017, 0.0017, 0.0016, 0.0016, 0.0016, 0.0016, 0.0016, 0.0016, 0.0016, 0.0016, 0.0016, 0.0015, 0.0015, 0.0015, 0.0015, 0.0015, 0.0015, 0.0015, 0.0014, 0.0014, 0.0014, 0.0014, 0.0014, 0.0014, 0.0014, 0.0013, 0.0013, 0.0013, 0.0013, 0.0013, 0.0013, 0.0013, 0.0013, 0.0013, 0.0012, 0.0012, 0.0012, 0.0012, 0.0012, 0.0012, 0.0012, 0.0012, 0.0012, 0.0012, 0.0011, 0.0011, 0.0011, 0.0011, 0.0011, 0.0011, 0.001, 0.001, 0.001, 0.001, 0.001, 0.001, 0.001, 0.001, 0.001, 0.001, 0.001, 0.001, 0.001, 0.0009, 0.0009, 0.0009, 0.0009, 0.0009, 0.0009, 0.0009, 0.0009, 0.0009, 0.0009, 0.0009, 0.0009, 0.0009, 0.0009, 0.0008, 0.0008, 0.0008, 0.0008, 0.0008, 0.0008, 0.0007, 0.0007, 0.0007, 0.0007, 0.0007, 0.0007, 0.0007, 0.0007, 0.0006, 0.0006, 0.0005], \"textposition\": \"outside\", \"x\": [0.045234284123859055, 0.02491238750760652, 0.01722184726190631, 0.016339912946407353, 0.015779730924340075, 0.013994283466309949, 0.013743123975483417, 0.013127319604182033, 0.01300999839759268, 0.012989329256593801, 0.012310561377377903, 0.012220704142539082, 0.012094903447374638, 0.011580601411295844, 0.011453566753892511, 0.011208413372215172, 0.011161455497688228, 0.011125186855312429, 0.010566775643618334, 0.009969181265515128, 0.009928038337939673, 0.00990099820295232, 0.009458243184686339, 0.009443488870168085, 0.009046110507944495, 0.008973098280620274, 0.00872406833846322, 0.008716826013651327, 0.008571334747862046, 0.008491542508944117, 0.008253922460563888, 0.00814084541466408, 0.0077559276213882075, 0.007543967565593395, 0.007442672158699875, 0.0074059636963666065, 0.007344198741104045, 0.0073079238693049015, 0.0072677102067590805, 0.0072059481161916294, 0.0071400681291950725, 0.007099067728252475, 0.006910949653126991, 0.006819974349665808, 0.0067160423708909345, 0.0066757298781838035, 0.006674898862828615, 0.00659572653592225, 0.006514574367350402, 0.006500300945091342, 0.006493497424157045, 0.006475247020368948, 0.0064253432592231525, 0.006372085265725423, 0.0063706019600515, 0.006344185828546523, 0.0062866651257465185, 0.006245379070971476, 0.006003354392116985, 0.00588247304480889, 0.0058435111709343205, 0.005674266720672499, 0.00561866390962965, 0.005531601294054183, 0.005470352485108715, 0.005338976789205807, 0.005176953864232528, 0.00514676587657775, 0.0050689745072499915, 0.0050271446910884225, 0.0047624976624094165, 0.004756545825447047, 0.004723760198178976, 0.004635987212375614, 0.004592548710351574, 0.004514597366670597, 0.004431881077125481, 0.004301627178410245, 0.004267188819103355, 0.003988243415202165, 0.0039060769921828256, 0.003854911288508444, 0.003807327807584797, 0.0037852551247164017, 0.0037782705376551893, 0.0037741697468316173, 0.003752764002121294, 0.0036377575088419336, 0.003616499284975881, 0.0035755189734952113, 0.003544766136264679, 0.0035277215264238543, 0.003476326086502159, 0.003321471878427533, 0.003316668594714118, 0.003226856682382564, 0.0032041913419494487, 0.003157523844309329, 0.0030923298935223763, 0.003049644034544579, 0.0029956621427493207, 0.0029401908696802567, 0.0029116118624592977, 0.002841155406458455, 0.0028202812550086305, 0.0028084955974796272, 0.002792855776000432, 0.0027393600275515653, 0.002735771861791838, 0.002680403716517764, 0.0026727925281523303, 0.002614376607342474, 0.0025966759490550486, 0.002570691162952154, 0.0025415891549213825, 0.0025325376206015706, 0.002447453634908146, 0.0024459277406359238, 0.002418357886372731, 0.002411850426969672, 0.002411085670824128, 0.002363048682883753, 0.0023418616537574906, 0.0023302019301720545, 0.0023151876992540494, 0.002241237420489467, 0.002237361789547031, 0.0022369187590687853, 0.002232827456876249, 0.0021594188369577863, 0.0021404429744957395, 0.0021208998377286897, 0.0021147970339494442, 0.002096452769505806, 0.002095424786670737, 0.0020795816731567847, 0.00207165191350388, 0.0020655621189072135, 0.0020348700191678845, 0.0020308839650542893, 0.0020069746934843003, 0.0019982019663531683, 0.001972568828989678, 0.0019507864336513186, 0.001941313756289453, 0.0019129353339734038, 0.0018983975082791948, 0.0018982307892983457, 0.0018782359583430033, 0.001851899237731516, 0.0018241373529386674, 0.0018001081578727682, 0.001781487020882103, 0.0017680803149442118, 0.0017052031874353907, 0.001690219057458588, 0.001668781345458253, 0.001664634367032771, 0.0016392970187390314, 0.0016248625050384019, 0.0016247731409394835, 0.0016191028121678008, 0.0016019641912914909, 0.001570002411059992, 0.0015632015567378196, 0.0015566192986920496, 0.0015501598747868599, 0.0015388610763905535, 0.0015353556028186437, 0.0015114016306923513, 0.0015092560561027074, 0.001482923797656687, 0.0014809988344436599, 0.0014531168803990312, 0.001426805181800251, 0.0014192338056272273, 0.0013963268779622659, 0.0013783755561623424, 0.0013671980160993868, 0.0013638132191457274, 0.0013574970945856835, 0.001336647028860496, 0.0013323206271847112, 0.001318275499204977, 0.0013023969844320684, 0.001300694989939046, 0.001288071290485077, 0.0012876319106811455, 0.0012777607606631305, 0.001259878211578579, 0.0012392872094263464, 0.001224170651962424, 0.0012213656564714383, 0.0012026302398427057, 0.001197371674340503, 0.0011968734463579202, 0.001184028596697859, 0.0011714774394710956, 0.001170529385018421, 0.0011543099165742712, 0.0011382340206498407, 0.0011349065050046312, 0.0011181330184933502, 0.001100110820219588, 0.0010997254845394008, 0.0010934039463032668, 0.001045770841805791, 0.0010337989483542739, 0.0010207059878146597, 0.0010196017102971047, 0.0010067479845031597, 0.0010059825441082948, 0.0010058606470352196, 0.0009866390632786233, 0.0009835031424722824, 0.0009689389176313845, 0.0009614738738802514, 0.0009571687603779206, 0.0009526766242161138, 0.0009484440659577849, 0.000945458463464722, 0.0009423773109083128, 0.0009394821479789362, 0.0009092826038321856, 0.0008991091287480384, 0.0008975660826294384, 0.0008917044525272703, 0.0008712022058435813, 0.0008711655737937621, 0.0008644494474210531, 0.0008640415353644654, 0.0008571907731689182, 0.0008557981656365012, 0.0008474493989708342, 0.0008394221416672931, 0.0008194793560932792, 0.0008156204586824694, 0.0007925981423596163, 0.0007703682943020985, 0.0007484348113432765, 0.0007444991441270682, 0.000710352099429704, 0.0007095356361755705, 0.0007030042827958694, 0.0006996433514014755, 0.0006933148691979746, 0.0006824094248674675, 0.0006375253977519918, 0.0005932014681226886, 0.0005249640887387264], \"y\": [\"0\", \"190\", \"95\", \"46\", \"31\", \"107\", \"65\", \"100\", \"140\", \"75\", \"172\", \"106\", \"45\", \"33\", \"96\", \"40\", \"131\", \"143\", \"58\", \"233\", \"186\", \"215\", \"137\", \"244\", \"141\", \"198\", \"68\", \"178\", \"192\", \"52\", \"82\", \"213\", \"231\", \"59\", \"147\", \"1\", \"152\", \"5\", \"32\", \"176\", \"235\", \"124\", \"62\", \"209\", \"112\", \"180\", \"103\", \"212\", \"161\", \"47\", \"127\", \"168\", \"79\", \"153\", \"64\", \"42\", \"202\", \"72\", \"67\", \"30\", \"226\", \"61\", \"9\", \"57\", \"66\", \"174\", \"237\", \"142\", \"223\", \"240\", \"12\", \"27\", \"69\", \"110\", \"41\", \"217\", \"43\", \"246\", \"126\", \"238\", \"139\", \"248\", \"177\", \"2\", \"144\", \"88\", \"170\", \"189\", \"167\", \"87\", \"29\", \"20\", \"15\", \"151\", \"211\", \"184\", \"60\", \"175\", \"48\", \"148\", \"24\", \"108\", \"155\", \"138\", \"154\", \"118\", \"90\", \"49\", \"86\", \"193\", \"80\", \"185\", \"35\", \"34\", \"54\", \"191\", \"125\", \"99\", \"36\", \"145\", \"133\", \"73\", \"214\", \"150\", \"14\", \"28\", \"21\", \"241\", \"149\", \"101\", \"91\", \"249\", \"53\", \"227\", \"116\", \"121\", \"97\", \"23\", \"232\", \"10\", \"182\", \"188\", \"197\", \"164\", \"51\", \"219\", \"183\", \"123\", \"243\", \"229\", \"146\", \"11\", \"70\", \"165\", \"221\", \"159\", \"160\", \"228\", \"128\", \"204\", \"230\", \"83\", \"203\", \"205\", \"44\", \"114\", \"196\", \"63\", \"6\", \"242\", \"113\", \"200\", \"239\", \"157\", \"71\", \"199\", \"156\", \"206\", \"77\", \"22\", \"25\", \"135\", \"130\", \"111\", \"8\", \"39\", \"84\", \"122\", \"109\", \"37\", \"158\", \"163\", \"136\", \"247\", \"225\", \"218\", \"173\", \"76\", \"201\", \"171\", \"179\", \"102\", \"181\", \"117\", \"169\", \"78\", \"104\", \"208\", \"187\", \"38\", \"81\", \"50\", \"210\", \"85\", \"132\", \"92\", \"7\", \"26\", \"119\", \"129\", \"216\", \"220\", \"222\", \"115\", \"207\", \"98\", \"18\", \"105\", \"224\", \"236\", \"162\", \"16\", \"234\", \"245\", \"195\", \"120\", \"19\", \"55\", \"74\", \"94\", \"56\", \"93\", \"194\", \"166\", \"3\", \"89\", \"4\", \"134\", \"17\", \"13\"], \"type\": \"bar\", \"uid\": \"a33e01f6-6641-4508-84ec-d7d42dd5f470\"}], {\"autosize\": false, \"height\": 1000, \"width\": 1000, \"xaxis\": {\"tickfont\": {\"color\": \"black\", \"size\": 12}, \"title\": \"Feature Importances\"}, \"yaxis\": {\"automargin\": true}}, {\"showLink\": true, \"linkText\": \"Export to plot.ly\", \"plotlyServerURL\": \"https://plot.ly\"})});</script>"
      ],
      "text/vnd.plotly.v1+html": [
       "<div id=\"ac38ad33-631b-4e79-ac3c-e6e6fd26efdd\" style=\"height: 1000px; width: 1000px;\" class=\"plotly-graph-div\"></div><script type=\"text/javascript\">require([\"plotly\"], function(Plotly) { window.PLOTLYENV=window.PLOTLYENV || {};window.PLOTLYENV.BASE_URL=\"https://plot.ly\";Plotly.newPlot(\"ac38ad33-631b-4e79-ac3c-e6e6fd26efdd\", [{\"marker\": {\"color\": \"rgb(158,202,225)\", \"line\": {\"color\": \"rgb(8,48,107)\", \"width\": 1.5}}, \"opacity\": 0.6, \"orientation\": \"h\", \"text\": [0.0452, 0.0249, 0.0172, 0.0163, 0.0158, 0.014, 0.0137, 0.0131, 0.013, 0.013, 0.0123, 0.0122, 0.0121, 0.0116, 0.0115, 0.0112, 0.0112, 0.0111, 0.0106, 0.01, 0.0099, 0.0099, 0.0095, 0.0094, 0.009, 0.009, 0.0087, 0.0087, 0.0086, 0.0085, 0.0083, 0.0081, 0.0078, 0.0075, 0.0074, 0.0074, 0.0073, 0.0073, 0.0073, 0.0072, 0.0071, 0.0071, 0.0069, 0.0068, 0.0067, 0.0067, 0.0067, 0.0066, 0.0065, 0.0065, 0.0065, 0.0065, 0.0064, 0.0064, 0.0064, 0.0063, 0.0063, 0.0062, 0.006, 0.0059, 0.0058, 0.0057, 0.0056, 0.0055, 0.0055, 0.0053, 0.0052, 0.0051, 0.0051, 0.005, 0.0048, 0.0048, 0.0047, 0.0046, 0.0046, 0.0045, 0.0044, 0.0043, 0.0043, 0.004, 0.0039, 0.0039, 0.0038, 0.0038, 0.0038, 0.0038, 0.0038, 0.0036, 0.0036, 0.0036, 0.0035, 0.0035, 0.0035, 0.0033, 0.0033, 0.0032, 0.0032, 0.0032, 0.0031, 0.003, 0.003, 0.0029, 0.0029, 0.0028, 0.0028, 0.0028, 0.0028, 0.0027, 0.0027, 0.0027, 0.0027, 0.0026, 0.0026, 0.0026, 0.0025, 0.0025, 0.0024, 0.0024, 0.0024, 0.0024, 0.0024, 0.0024, 0.0023, 0.0023, 0.0023, 0.0022, 0.0022, 0.0022, 0.0022, 0.0022, 0.0021, 0.0021, 0.0021, 0.0021, 0.0021, 0.0021, 0.0021, 0.0021, 0.002, 0.002, 0.002, 0.002, 0.002, 0.002, 0.0019, 0.0019, 0.0019, 0.0019, 0.0019, 0.0019, 0.0018, 0.0018, 0.0018, 0.0018, 0.0017, 0.0017, 0.0017, 0.0017, 0.0016, 0.0016, 0.0016, 0.0016, 0.0016, 0.0016, 0.0016, 0.0016, 0.0016, 0.0015, 0.0015, 0.0015, 0.0015, 0.0015, 0.0015, 0.0015, 0.0014, 0.0014, 0.0014, 0.0014, 0.0014, 0.0014, 0.0014, 0.0013, 0.0013, 0.0013, 0.0013, 0.0013, 0.0013, 0.0013, 0.0013, 0.0013, 0.0012, 0.0012, 0.0012, 0.0012, 0.0012, 0.0012, 0.0012, 0.0012, 0.0012, 0.0012, 0.0011, 0.0011, 0.0011, 0.0011, 0.0011, 0.0011, 0.001, 0.001, 0.001, 0.001, 0.001, 0.001, 0.001, 0.001, 0.001, 0.001, 0.001, 0.001, 0.001, 0.0009, 0.0009, 0.0009, 0.0009, 0.0009, 0.0009, 0.0009, 0.0009, 0.0009, 0.0009, 0.0009, 0.0009, 0.0009, 0.0009, 0.0008, 0.0008, 0.0008, 0.0008, 0.0008, 0.0008, 0.0007, 0.0007, 0.0007, 0.0007, 0.0007, 0.0007, 0.0007, 0.0007, 0.0006, 0.0006, 0.0005], \"textposition\": \"outside\", \"x\": [0.045234284123859055, 0.02491238750760652, 0.01722184726190631, 0.016339912946407353, 0.015779730924340075, 0.013994283466309949, 0.013743123975483417, 0.013127319604182033, 0.01300999839759268, 0.012989329256593801, 0.012310561377377903, 0.012220704142539082, 0.012094903447374638, 0.011580601411295844, 0.011453566753892511, 0.011208413372215172, 0.011161455497688228, 0.011125186855312429, 0.010566775643618334, 0.009969181265515128, 0.009928038337939673, 0.00990099820295232, 0.009458243184686339, 0.009443488870168085, 0.009046110507944495, 0.008973098280620274, 0.00872406833846322, 0.008716826013651327, 0.008571334747862046, 0.008491542508944117, 0.008253922460563888, 0.00814084541466408, 0.0077559276213882075, 0.007543967565593395, 0.007442672158699875, 0.0074059636963666065, 0.007344198741104045, 0.0073079238693049015, 0.0072677102067590805, 0.0072059481161916294, 0.0071400681291950725, 0.007099067728252475, 0.006910949653126991, 0.006819974349665808, 0.0067160423708909345, 0.0066757298781838035, 0.006674898862828615, 0.00659572653592225, 0.006514574367350402, 0.006500300945091342, 0.006493497424157045, 0.006475247020368948, 0.0064253432592231525, 0.006372085265725423, 0.0063706019600515, 0.006344185828546523, 0.0062866651257465185, 0.006245379070971476, 0.006003354392116985, 0.00588247304480889, 0.0058435111709343205, 0.005674266720672499, 0.00561866390962965, 0.005531601294054183, 0.005470352485108715, 0.005338976789205807, 0.005176953864232528, 0.00514676587657775, 0.0050689745072499915, 0.0050271446910884225, 0.0047624976624094165, 0.004756545825447047, 0.004723760198178976, 0.004635987212375614, 0.004592548710351574, 0.004514597366670597, 0.004431881077125481, 0.004301627178410245, 0.004267188819103355, 0.003988243415202165, 0.0039060769921828256, 0.003854911288508444, 0.003807327807584797, 0.0037852551247164017, 0.0037782705376551893, 0.0037741697468316173, 0.003752764002121294, 0.0036377575088419336, 0.003616499284975881, 0.0035755189734952113, 0.003544766136264679, 0.0035277215264238543, 0.003476326086502159, 0.003321471878427533, 0.003316668594714118, 0.003226856682382564, 0.0032041913419494487, 0.003157523844309329, 0.0030923298935223763, 0.003049644034544579, 0.0029956621427493207, 0.0029401908696802567, 0.0029116118624592977, 0.002841155406458455, 0.0028202812550086305, 0.0028084955974796272, 0.002792855776000432, 0.0027393600275515653, 0.002735771861791838, 0.002680403716517764, 0.0026727925281523303, 0.002614376607342474, 0.0025966759490550486, 0.002570691162952154, 0.0025415891549213825, 0.0025325376206015706, 0.002447453634908146, 0.0024459277406359238, 0.002418357886372731, 0.002411850426969672, 0.002411085670824128, 0.002363048682883753, 0.0023418616537574906, 0.0023302019301720545, 0.0023151876992540494, 0.002241237420489467, 0.002237361789547031, 0.0022369187590687853, 0.002232827456876249, 0.0021594188369577863, 0.0021404429744957395, 0.0021208998377286897, 0.0021147970339494442, 0.002096452769505806, 0.002095424786670737, 0.0020795816731567847, 0.00207165191350388, 0.0020655621189072135, 0.0020348700191678845, 0.0020308839650542893, 0.0020069746934843003, 0.0019982019663531683, 0.001972568828989678, 0.0019507864336513186, 0.001941313756289453, 0.0019129353339734038, 0.0018983975082791948, 0.0018982307892983457, 0.0018782359583430033, 0.001851899237731516, 0.0018241373529386674, 0.0018001081578727682, 0.001781487020882103, 0.0017680803149442118, 0.0017052031874353907, 0.001690219057458588, 0.001668781345458253, 0.001664634367032771, 0.0016392970187390314, 0.0016248625050384019, 0.0016247731409394835, 0.0016191028121678008, 0.0016019641912914909, 0.001570002411059992, 0.0015632015567378196, 0.0015566192986920496, 0.0015501598747868599, 0.0015388610763905535, 0.0015353556028186437, 0.0015114016306923513, 0.0015092560561027074, 0.001482923797656687, 0.0014809988344436599, 0.0014531168803990312, 0.001426805181800251, 0.0014192338056272273, 0.0013963268779622659, 0.0013783755561623424, 0.0013671980160993868, 0.0013638132191457274, 0.0013574970945856835, 0.001336647028860496, 0.0013323206271847112, 0.001318275499204977, 0.0013023969844320684, 0.001300694989939046, 0.001288071290485077, 0.0012876319106811455, 0.0012777607606631305, 0.001259878211578579, 0.0012392872094263464, 0.001224170651962424, 0.0012213656564714383, 0.0012026302398427057, 0.001197371674340503, 0.0011968734463579202, 0.001184028596697859, 0.0011714774394710956, 0.001170529385018421, 0.0011543099165742712, 0.0011382340206498407, 0.0011349065050046312, 0.0011181330184933502, 0.001100110820219588, 0.0010997254845394008, 0.0010934039463032668, 0.001045770841805791, 0.0010337989483542739, 0.0010207059878146597, 0.0010196017102971047, 0.0010067479845031597, 0.0010059825441082948, 0.0010058606470352196, 0.0009866390632786233, 0.0009835031424722824, 0.0009689389176313845, 0.0009614738738802514, 0.0009571687603779206, 0.0009526766242161138, 0.0009484440659577849, 0.000945458463464722, 0.0009423773109083128, 0.0009394821479789362, 0.0009092826038321856, 0.0008991091287480384, 0.0008975660826294384, 0.0008917044525272703, 0.0008712022058435813, 0.0008711655737937621, 0.0008644494474210531, 0.0008640415353644654, 0.0008571907731689182, 0.0008557981656365012, 0.0008474493989708342, 0.0008394221416672931, 0.0008194793560932792, 0.0008156204586824694, 0.0007925981423596163, 0.0007703682943020985, 0.0007484348113432765, 0.0007444991441270682, 0.000710352099429704, 0.0007095356361755705, 0.0007030042827958694, 0.0006996433514014755, 0.0006933148691979746, 0.0006824094248674675, 0.0006375253977519918, 0.0005932014681226886, 0.0005249640887387264], \"y\": [\"0\", \"190\", \"95\", \"46\", \"31\", \"107\", \"65\", \"100\", \"140\", \"75\", \"172\", \"106\", \"45\", \"33\", \"96\", \"40\", \"131\", \"143\", \"58\", \"233\", \"186\", \"215\", \"137\", \"244\", \"141\", \"198\", \"68\", \"178\", \"192\", \"52\", \"82\", \"213\", \"231\", \"59\", \"147\", \"1\", \"152\", \"5\", \"32\", \"176\", \"235\", \"124\", \"62\", \"209\", \"112\", \"180\", \"103\", \"212\", \"161\", \"47\", \"127\", \"168\", \"79\", \"153\", \"64\", \"42\", \"202\", \"72\", \"67\", \"30\", \"226\", \"61\", \"9\", \"57\", \"66\", \"174\", \"237\", \"142\", \"223\", \"240\", \"12\", \"27\", \"69\", \"110\", \"41\", \"217\", \"43\", \"246\", \"126\", \"238\", \"139\", \"248\", \"177\", \"2\", \"144\", \"88\", \"170\", \"189\", \"167\", \"87\", \"29\", \"20\", \"15\", \"151\", \"211\", \"184\", \"60\", \"175\", \"48\", \"148\", \"24\", \"108\", \"155\", \"138\", \"154\", \"118\", \"90\", \"49\", \"86\", \"193\", \"80\", \"185\", \"35\", \"34\", \"54\", \"191\", \"125\", \"99\", \"36\", \"145\", \"133\", \"73\", \"214\", \"150\", \"14\", \"28\", \"21\", \"241\", \"149\", \"101\", \"91\", \"249\", \"53\", \"227\", \"116\", \"121\", \"97\", \"23\", \"232\", \"10\", \"182\", \"188\", \"197\", \"164\", \"51\", \"219\", \"183\", \"123\", \"243\", \"229\", \"146\", \"11\", \"70\", \"165\", \"221\", \"159\", \"160\", \"228\", \"128\", \"204\", \"230\", \"83\", \"203\", \"205\", \"44\", \"114\", \"196\", \"63\", \"6\", \"242\", \"113\", \"200\", \"239\", \"157\", \"71\", \"199\", \"156\", \"206\", \"77\", \"22\", \"25\", \"135\", \"130\", \"111\", \"8\", \"39\", \"84\", \"122\", \"109\", \"37\", \"158\", \"163\", \"136\", \"247\", \"225\", \"218\", \"173\", \"76\", \"201\", \"171\", \"179\", \"102\", \"181\", \"117\", \"169\", \"78\", \"104\", \"208\", \"187\", \"38\", \"81\", \"50\", \"210\", \"85\", \"132\", \"92\", \"7\", \"26\", \"119\", \"129\", \"216\", \"220\", \"222\", \"115\", \"207\", \"98\", \"18\", \"105\", \"224\", \"236\", \"162\", \"16\", \"234\", \"245\", \"195\", \"120\", \"19\", \"55\", \"74\", \"94\", \"56\", \"93\", \"194\", \"166\", \"3\", \"89\", \"4\", \"134\", \"17\", \"13\"], \"type\": \"bar\", \"uid\": \"a33e01f6-6641-4508-84ec-d7d42dd5f470\"}], {\"autosize\": false, \"height\": 1000, \"width\": 1000, \"xaxis\": {\"tickfont\": {\"color\": \"black\", \"size\": 12}, \"title\": \"Feature Importances\"}, \"yaxis\": {\"automargin\": true}}, {\"showLink\": true, \"linkText\": \"Export to plot.ly\", \"plotlyServerURL\": \"https://plot.ly\"})});</script>"
      ]
     },
     "metadata": {},
     "output_type": "display_data"
    },
    {
     "name": "stdout",
     "output_type": "stream",
     "text": [
      "\n",
      "\n",
      "\u001b[1mBagging Classifier\u001b[0m\n",
      "Accuracy of the model for training data is: 0.9183456442387836\n",
      "Confusion Matrix for training data is:\n"
     ]
    },
    {
     "data": {
      "text/plain": [
       "Predicted  False  True  __all__\n",
       "Actual                         \n",
       "False      27088  2603    29691\n",
       "True         238  4864     5102\n",
       "__all__    27326  7467    34793"
      ]
     },
     "metadata": {},
     "output_type": "display_data"
    },
    {
     "name": "stdout",
     "output_type": "stream",
     "text": [
      "Accuracy of the model for test data is: 0.9046907335019545\n",
      "Confusion Matrix for test data is:\n"
     ]
    },
    {
     "data": {
      "text/plain": [
       "Predicted  False  True  __all__\n",
       "Actual                         \n",
       "False       6728   695     7423\n",
       "True         134  1141     1275\n",
       "__all__     6862  1836     8698"
      ]
     },
     "metadata": {},
     "output_type": "display_data"
    },
    {
     "name": "stdout",
     "output_type": "stream",
     "text": [
      "\n",
      "\n",
      "\u001b[1mNeural Network-1\u001b[0m\n",
      "The accuracy of the model on training data is: 0.9140056908015867\n"
     ]
    },
    {
     "data": {
      "text/plain": [
       "Predicted  False  True  __all__\n",
       "Actual                         \n",
       "False      26848  2843    29691\n",
       "True         149  4953     5102\n",
       "__all__    26997  7796    34793"
      ]
     },
     "metadata": {},
     "output_type": "display_data"
    },
    {
     "name": "stdout",
     "output_type": "stream",
     "text": [
      "The accuracy of the model on test data is: 0.8938836514141182\n"
     ]
    },
    {
     "data": {
      "text/plain": [
       "Predicted  False  True  __all__\n",
       "Actual                         \n",
       "False       6600   823     7423\n",
       "True         100  1175     1275\n",
       "__all__     6700  1998     8698"
      ]
     },
     "metadata": {},
     "output_type": "display_data"
    },
    {
     "name": "stdout",
     "output_type": "stream",
     "text": [
      "\n",
      "\n"
     ]
    }
   ],
   "source": [
    "feat_imp=[None]*4\n",
    "j=0\n",
    "for i in range(0,8):\n",
    "    if i>=2 and i<=5:\n",
    "        model,cm_train,cm_test,acc_train,acc_test,roc_auc,feat_imp[j],mcc=f[i](X_train,Y_train,X_test,Y_test,np.arange(0,250).astype(str))\n",
    "        j=j+1\n",
    "    else:\n",
    "        model,cm_train,cm_test,acc_train,acc_test,roc_auc,mcc=f[i](X_train,Y_train,X_test,Y_test)\n",
    "    table_80_70_train.loc[i]=   ([acc_train,cm_train.TP,cm_train.TN,cm_train.FP,cm_train.FN,cm_train.FPR,cm_train.FNR])\n",
    "    table_80_70_test.loc[i] =   ([acc_test ,cm_test.TP, cm_test.TN, cm_test.FP, cm_test.FN, cm_test.FPR, cm_test.FNR,roc_auc,mcc])\n",
    "    print(\"\\n\")"
   ]
  },
  {
   "cell_type": "markdown",
   "metadata": {},
   "source": [
    "### <a id='5.A' style=\"text-decoration : none; color : #000000;\"> A. Results</a>"
   ]
  },
  {
   "cell_type": "code",
   "execution_count": 93,
   "metadata": {},
   "outputs": [
    {
     "data": {
      "application/vnd.plotly.v1+json": {
       "config": {
        "linkText": "Export to plot.ly",
        "plotlyServerURL": "https://plot.ly",
        "showLink": true
       },
       "data": [
        {
         "mode": "lines",
         "name": "KNN_model",
         "type": "scatter",
         "uid": "68b96b4b-e6a3-4698-ab71-0ac86e3a584c",
         "x": [
          "accuracy",
          "FPR",
          "FNR",
          "auc"
         ],
         "y": [
          0.9007817889169925,
          0.09807355516637478,
          0.10588235294117647,
          0.8980220459462244
         ]
        },
        {
         "mode": "lines+markers",
         "name": "Logistic Regression",
         "type": "scatter",
         "uid": "c0793cf9-e711-4098-bb9c-33b373d98a92",
         "x": [
          "accuracy",
          "FPR",
          "FNR",
          "auc"
         ],
         "y": [
          0.8902046447459186,
          0.10076788360501145,
          0.1623529411764706,
          0.868439587609259
         ]
        },
        {
         "marker": {
          "symbol": "x"
         },
         "mode": "lines+markers",
         "name": "Random Forest",
         "type": "scatter",
         "uid": "cc11b2b7-a9e9-4404-9d5a-b94d2f0c877a",
         "x": [
          "accuracy",
          "FPR",
          "FNR",
          "auc"
         ],
         "y": [
          0.9049206714187169,
          0.09228074902330594,
          0.11137254901960784,
          0.8981733509785431
         ]
        },
        {
         "mode": "lines",
         "name": "Ada Boost",
         "type": "scatter",
         "uid": "cc2bc96c-c972-42c2-a833-0a13c98d9b01",
         "x": [
          "accuracy",
          "FPR",
          "FNR",
          "auc"
         ],
         "y": [
          0.8950333409979305,
          0.09537922672773812,
          0.1607843137254902,
          0.8719182297733858
         ]
        },
        {
         "mode": "lines+markers",
         "name": "GradientBoosting",
         "type": "scatter",
         "uid": "f0f1bed2-46b5-444f-8faf-24d883817a01",
         "x": [
          "accuracy",
          "FPR",
          "FNR",
          "auc"
         ],
         "y": [
          0.9008967578753736,
          0.09308904755489694,
          0.13411764705882354,
          0.8863966526931398
         ]
        },
        {
         "marker": {
          "symbol": "x"
         },
         "mode": "lines+markers",
         "name": "ExtraTree Classifier",
         "type": "scatter",
         "uid": "78a0f320-04c8-4de2-9689-aca73d49e0f5",
         "x": [
          "accuracy",
          "FPR",
          "FNR",
          "auc"
         ],
         "y": [
          0.9058404230857668,
          0.09228074902330594,
          0.10509803921568628,
          0.9013106058805038
         ]
        },
        {
         "marker": {
          "symbol": "x"
         },
         "mode": "lines+markers",
         "name": "Bagging",
         "type": "scatter",
         "uid": "6c4a0ba2-45a9-47ab-9779-5c19fef8fec6",
         "x": [
          "accuracy",
          "FPR",
          "FNR",
          "auc"
         ],
         "y": [
          0.9046907335019545,
          0.09362791324262427,
          0.10509803921568628,
          0.9006370237708448
         ]
        },
        {
         "marker": {
          "symbol": "x"
         },
         "mode": "lines+markers",
         "name": "Neural Network",
         "type": "scatter",
         "uid": "0fd65e11-07ec-4db5-bd74-69ce46246b28",
         "x": [
          "accuracy",
          "FPR",
          "FNR",
          "auc"
         ],
         "y": [
          0.8938836514141182,
          0.11087161524989897,
          0.0784313725490196,
          0.9053485061005406
         ]
        }
       ],
       "layout": {
        "title": "Result comparision for Features selected in Section 1",
        "yaxis": {
         "dtick": 0.05,
         "tick0": 0
        }
       }
      },
      "text/html": [
       "<div id=\"63281942-27b2-431b-b51d-7b60e136a5f2\" style=\"height: 525px; width: 100%;\" class=\"plotly-graph-div\"></div><script type=\"text/javascript\">require([\"plotly\"], function(Plotly) { window.PLOTLYENV=window.PLOTLYENV || {};window.PLOTLYENV.BASE_URL=\"https://plot.ly\";Plotly.newPlot(\"63281942-27b2-431b-b51d-7b60e136a5f2\", [{\"mode\": \"lines\", \"name\": \"KNN_model\", \"x\": [\"accuracy\", \"FPR\", \"FNR\", \"auc\"], \"y\": [0.9007817889169925, 0.09807355516637478, 0.10588235294117647, 0.8980220459462244], \"type\": \"scatter\", \"uid\": \"68b96b4b-e6a3-4698-ab71-0ac86e3a584c\"}, {\"mode\": \"lines+markers\", \"name\": \"Logistic Regression\", \"x\": [\"accuracy\", \"FPR\", \"FNR\", \"auc\"], \"y\": [0.8902046447459186, 0.10076788360501145, 0.1623529411764706, 0.868439587609259], \"type\": \"scatter\", \"uid\": \"c0793cf9-e711-4098-bb9c-33b373d98a92\"}, {\"marker\": {\"symbol\": \"x\"}, \"mode\": \"lines+markers\", \"name\": \"Random Forest\", \"x\": [\"accuracy\", \"FPR\", \"FNR\", \"auc\"], \"y\": [0.9049206714187169, 0.09228074902330594, 0.11137254901960784, 0.8981733509785431], \"type\": \"scatter\", \"uid\": \"cc11b2b7-a9e9-4404-9d5a-b94d2f0c877a\"}, {\"mode\": \"lines\", \"name\": \"Ada Boost\", \"x\": [\"accuracy\", \"FPR\", \"FNR\", \"auc\"], \"y\": [0.8950333409979305, 0.09537922672773812, 0.1607843137254902, 0.8719182297733858], \"type\": \"scatter\", \"uid\": \"cc2bc96c-c972-42c2-a833-0a13c98d9b01\"}, {\"mode\": \"lines+markers\", \"name\": \"GradientBoosting\", \"x\": [\"accuracy\", \"FPR\", \"FNR\", \"auc\"], \"y\": [0.9008967578753736, 0.09308904755489694, 0.13411764705882354, 0.8863966526931398], \"type\": \"scatter\", \"uid\": \"f0f1bed2-46b5-444f-8faf-24d883817a01\"}, {\"marker\": {\"symbol\": \"x\"}, \"mode\": \"lines+markers\", \"name\": \"ExtraTree Classifier\", \"x\": [\"accuracy\", \"FPR\", \"FNR\", \"auc\"], \"y\": [0.9058404230857668, 0.09228074902330594, 0.10509803921568628, 0.9013106058805038], \"type\": \"scatter\", \"uid\": \"78a0f320-04c8-4de2-9689-aca73d49e0f5\"}, {\"marker\": {\"symbol\": \"x\"}, \"mode\": \"lines+markers\", \"name\": \"Bagging\", \"x\": [\"accuracy\", \"FPR\", \"FNR\", \"auc\"], \"y\": [0.9046907335019545, 0.09362791324262427, 0.10509803921568628, 0.9006370237708448], \"type\": \"scatter\", \"uid\": \"6c4a0ba2-45a9-47ab-9779-5c19fef8fec6\"}, {\"marker\": {\"symbol\": \"x\"}, \"mode\": \"lines+markers\", \"name\": \"Neural Network\", \"x\": [\"accuracy\", \"FPR\", \"FNR\", \"auc\"], \"y\": [0.8938836514141182, 0.11087161524989897, 0.0784313725490196, 0.9053485061005406], \"type\": \"scatter\", \"uid\": \"0fd65e11-07ec-4db5-bd74-69ce46246b28\"}], {\"title\": \"Result comparision for Features selected in Section 1\", \"yaxis\": {\"dtick\": 0.05, \"tick0\": 0}}, {\"showLink\": true, \"linkText\": \"Export to plot.ly\", \"plotlyServerURL\": \"https://plot.ly\"})});</script><script type=\"text/javascript\">window.addEventListener(\"resize\", function(){window._Plotly.Plots.resize(document.getElementById(\"63281942-27b2-431b-b51d-7b60e136a5f2\"));});</script>"
      ],
      "text/vnd.plotly.v1+html": [
       "<div id=\"63281942-27b2-431b-b51d-7b60e136a5f2\" style=\"height: 525px; width: 100%;\" class=\"plotly-graph-div\"></div><script type=\"text/javascript\">require([\"plotly\"], function(Plotly) { window.PLOTLYENV=window.PLOTLYENV || {};window.PLOTLYENV.BASE_URL=\"https://plot.ly\";Plotly.newPlot(\"63281942-27b2-431b-b51d-7b60e136a5f2\", [{\"mode\": \"lines\", \"name\": \"KNN_model\", \"x\": [\"accuracy\", \"FPR\", \"FNR\", \"auc\"], \"y\": [0.9007817889169925, 0.09807355516637478, 0.10588235294117647, 0.8980220459462244], \"type\": \"scatter\", \"uid\": \"68b96b4b-e6a3-4698-ab71-0ac86e3a584c\"}, {\"mode\": \"lines+markers\", \"name\": \"Logistic Regression\", \"x\": [\"accuracy\", \"FPR\", \"FNR\", \"auc\"], \"y\": [0.8902046447459186, 0.10076788360501145, 0.1623529411764706, 0.868439587609259], \"type\": \"scatter\", \"uid\": \"c0793cf9-e711-4098-bb9c-33b373d98a92\"}, {\"marker\": {\"symbol\": \"x\"}, \"mode\": \"lines+markers\", \"name\": \"Random Forest\", \"x\": [\"accuracy\", \"FPR\", \"FNR\", \"auc\"], \"y\": [0.9049206714187169, 0.09228074902330594, 0.11137254901960784, 0.8981733509785431], \"type\": \"scatter\", \"uid\": \"cc11b2b7-a9e9-4404-9d5a-b94d2f0c877a\"}, {\"mode\": \"lines\", \"name\": \"Ada Boost\", \"x\": [\"accuracy\", \"FPR\", \"FNR\", \"auc\"], \"y\": [0.8950333409979305, 0.09537922672773812, 0.1607843137254902, 0.8719182297733858], \"type\": \"scatter\", \"uid\": \"cc2bc96c-c972-42c2-a833-0a13c98d9b01\"}, {\"mode\": \"lines+markers\", \"name\": \"GradientBoosting\", \"x\": [\"accuracy\", \"FPR\", \"FNR\", \"auc\"], \"y\": [0.9008967578753736, 0.09308904755489694, 0.13411764705882354, 0.8863966526931398], \"type\": \"scatter\", \"uid\": \"f0f1bed2-46b5-444f-8faf-24d883817a01\"}, {\"marker\": {\"symbol\": \"x\"}, \"mode\": \"lines+markers\", \"name\": \"ExtraTree Classifier\", \"x\": [\"accuracy\", \"FPR\", \"FNR\", \"auc\"], \"y\": [0.9058404230857668, 0.09228074902330594, 0.10509803921568628, 0.9013106058805038], \"type\": \"scatter\", \"uid\": \"78a0f320-04c8-4de2-9689-aca73d49e0f5\"}, {\"marker\": {\"symbol\": \"x\"}, \"mode\": \"lines+markers\", \"name\": \"Bagging\", \"x\": [\"accuracy\", \"FPR\", \"FNR\", \"auc\"], \"y\": [0.9046907335019545, 0.09362791324262427, 0.10509803921568628, 0.9006370237708448], \"type\": \"scatter\", \"uid\": \"6c4a0ba2-45a9-47ab-9779-5c19fef8fec6\"}, {\"marker\": {\"symbol\": \"x\"}, \"mode\": \"lines+markers\", \"name\": \"Neural Network\", \"x\": [\"accuracy\", \"FPR\", \"FNR\", \"auc\"], \"y\": [0.8938836514141182, 0.11087161524989897, 0.0784313725490196, 0.9053485061005406], \"type\": \"scatter\", \"uid\": \"0fd65e11-07ec-4db5-bd74-69ce46246b28\"}], {\"title\": \"Result comparision for Features selected in Section 1\", \"yaxis\": {\"dtick\": 0.05, \"tick0\": 0}}, {\"showLink\": true, \"linkText\": \"Export to plot.ly\", \"plotlyServerURL\": \"https://plot.ly\"})});</script><script type=\"text/javascript\">window.addEventListener(\"resize\", function(){window._Plotly.Plots.resize(document.getElementById(\"63281942-27b2-431b-b51d-7b60e136a5f2\"));});</script>"
      ]
     },
     "metadata": {},
     "output_type": "display_data"
    }
   ],
   "source": [
    "trace0 = go.Scatter(x=table_80_70_test.iloc[0].index.values[[0,5,6,7]],\n",
    "                    y=table_80_70_test.iloc[0].values[[0,5,6,7]],\n",
    "                    mode = 'lines',\n",
    "                    name = 'KNN_model')\n",
    "\n",
    "trace1 = go.Scatter(x=table_80_70_test.iloc[1].index.values[[0,5,6,7]],\n",
    "                    y=table_80_70_test.iloc[1].values[[0,5,6,7]],\n",
    "                    mode = 'lines+markers',\n",
    "                    name = 'Logistic Regression')\n",
    "\n",
    "trace2 = go.Scatter(x=table_80_70_test.iloc[2].index.values[[0,5,6,7]],\n",
    "                    y=table_80_70_test.iloc[2].values[[0,5,6,7]],\n",
    "                    mode = 'lines+markers',marker=dict(symbol='x'),\n",
    "                    name = 'Random Forest')\n",
    "\n",
    "\n",
    "trace3 = go.Scatter(x=table_80_70_test.iloc[3].index.values[[0,5,6,7]],\n",
    "                    y=table_80_70_test.iloc[3].values[[0,5,6,7]],\n",
    "                    mode = 'lines',\n",
    "                    name = 'Ada Boost')\n",
    "\n",
    "trace4 = go.Scatter(x=table_80_70_test.iloc[4].index.values[[0,5,6,7]],\n",
    "                    y=table_80_70_test.iloc[4].values[[0,5,6,7]],\n",
    "                    mode = 'lines+markers',\n",
    "                    name = 'GradientBoosting')\n",
    "\n",
    "trace5 = go.Scatter(x=table_80_70_test.iloc[5].index.values[[0,5,6,7]],\n",
    "                    y=table_80_70_test.iloc[5].values[[0,5,6,7]],\n",
    "                    mode = 'lines+markers',marker=dict(symbol='x'),\n",
    "                    name = 'ExtraTree Classifier')\n",
    "\n",
    "trace6 = go.Scatter(x=table_80_70_test.iloc[6].index.values[[0,5,6,7]],\n",
    "                    y=table_80_70_test.iloc[6].values[[0,5,6,7]],\n",
    "                    mode = 'lines+markers',marker=dict(symbol='x'),\n",
    "                    name = 'Bagging')\n",
    "\n",
    "trace7 = go.Scatter(x=table_80_70_test.iloc[7].index.values[[0,5,6,7]],\n",
    "                    y=table_80_70_test.iloc[7].values[[0,5,6,7]],\n",
    "                    mode = 'lines+markers',marker=dict(symbol='x'),\n",
    "                    name = 'Neural Network')\n",
    "\n",
    "\n",
    "\n",
    "data = [trace0, trace1, trace2, trace3, trace4, trace5, trace6, trace7]\n",
    "layout = go.Layout(yaxis=dict(tick0=0,dtick=0.05),title='Result comparision for Features selected in Section 1')\n",
    "fig = go.Figure(data=data, layout=layout)\n",
    "\n",
    "iplot(fig, filename='Result')"
   ]
  },
  {
   "cell_type": "code",
   "execution_count": 94,
   "metadata": {},
   "outputs": [
    {
     "name": "stdout",
     "output_type": "stream",
     "text": [
      "Training Results\n"
     ]
    },
    {
     "data": {
      "text/html": [
       "<div>\n",
       "<style scoped>\n",
       "    .dataframe tbody tr th:only-of-type {\n",
       "        vertical-align: middle;\n",
       "    }\n",
       "\n",
       "    .dataframe tbody tr th {\n",
       "        vertical-align: top;\n",
       "    }\n",
       "\n",
       "    .dataframe thead th {\n",
       "        text-align: right;\n",
       "    }\n",
       "</style>\n",
       "<table border=\"1\" class=\"dataframe\">\n",
       "  <thead>\n",
       "    <tr style=\"text-align: right;\">\n",
       "      <th></th>\n",
       "      <th>accuracy</th>\n",
       "      <th>TP</th>\n",
       "      <th>TN</th>\n",
       "      <th>FP</th>\n",
       "      <th>FN</th>\n",
       "      <th>FPR</th>\n",
       "      <th>FNR</th>\n",
       "    </tr>\n",
       "    <tr>\n",
       "      <th>index</th>\n",
       "      <th></th>\n",
       "      <th></th>\n",
       "      <th></th>\n",
       "      <th></th>\n",
       "      <th></th>\n",
       "      <th></th>\n",
       "      <th></th>\n",
       "    </tr>\n",
       "  </thead>\n",
       "  <tbody>\n",
       "    <tr>\n",
       "      <th>KNeighborsClassifier</th>\n",
       "      <td>0.907596</td>\n",
       "      <td>4604.0</td>\n",
       "      <td>26974.0</td>\n",
       "      <td>2717.0</td>\n",
       "      <td>498.0</td>\n",
       "      <td>0.091509</td>\n",
       "      <td>0.097609</td>\n",
       "    </tr>\n",
       "    <tr>\n",
       "      <th>LogisticRegression</th>\n",
       "      <td>0.898974</td>\n",
       "      <td>4325.0</td>\n",
       "      <td>26953.0</td>\n",
       "      <td>2738.0</td>\n",
       "      <td>777.0</td>\n",
       "      <td>0.092216</td>\n",
       "      <td>0.152293</td>\n",
       "    </tr>\n",
       "    <tr>\n",
       "      <th>RandomForestClassifier</th>\n",
       "      <td>0.918346</td>\n",
       "      <td>4864.0</td>\n",
       "      <td>27088.0</td>\n",
       "      <td>2603.0</td>\n",
       "      <td>238.0</td>\n",
       "      <td>0.087670</td>\n",
       "      <td>0.046648</td>\n",
       "    </tr>\n",
       "    <tr>\n",
       "      <th>AdaBoostClassifier</th>\n",
       "      <td>0.899951</td>\n",
       "      <td>4291.0</td>\n",
       "      <td>27021.0</td>\n",
       "      <td>2670.0</td>\n",
       "      <td>811.0</td>\n",
       "      <td>0.089926</td>\n",
       "      <td>0.158957</td>\n",
       "    </tr>\n",
       "    <tr>\n",
       "      <th>GradientBoostingClassifier</th>\n",
       "      <td>0.908056</td>\n",
       "      <td>4496.0</td>\n",
       "      <td>27098.0</td>\n",
       "      <td>2593.0</td>\n",
       "      <td>606.0</td>\n",
       "      <td>0.087333</td>\n",
       "      <td>0.118777</td>\n",
       "    </tr>\n",
       "    <tr>\n",
       "      <th>ExtraTreeClassifier</th>\n",
       "      <td>0.920990</td>\n",
       "      <td>4955.0</td>\n",
       "      <td>27089.0</td>\n",
       "      <td>2602.0</td>\n",
       "      <td>147.0</td>\n",
       "      <td>0.087636</td>\n",
       "      <td>0.028812</td>\n",
       "    </tr>\n",
       "    <tr>\n",
       "      <th>BaggingClassifier</th>\n",
       "      <td>0.918346</td>\n",
       "      <td>4864.0</td>\n",
       "      <td>27088.0</td>\n",
       "      <td>2603.0</td>\n",
       "      <td>238.0</td>\n",
       "      <td>0.087670</td>\n",
       "      <td>0.046648</td>\n",
       "    </tr>\n",
       "    <tr>\n",
       "      <th>Neural Network-1</th>\n",
       "      <td>0.914006</td>\n",
       "      <td>4953.0</td>\n",
       "      <td>26848.0</td>\n",
       "      <td>2843.0</td>\n",
       "      <td>149.0</td>\n",
       "      <td>0.095753</td>\n",
       "      <td>0.029204</td>\n",
       "    </tr>\n",
       "  </tbody>\n",
       "</table>\n",
       "</div>"
      ],
      "text/plain": [
       "                            accuracy      TP       TN      FP     FN  \\\n",
       "index                                                                  \n",
       "KNeighborsClassifier        0.907596  4604.0  26974.0  2717.0  498.0   \n",
       "LogisticRegression          0.898974  4325.0  26953.0  2738.0  777.0   \n",
       "RandomForestClassifier      0.918346  4864.0  27088.0  2603.0  238.0   \n",
       "AdaBoostClassifier          0.899951  4291.0  27021.0  2670.0  811.0   \n",
       "GradientBoostingClassifier  0.908056  4496.0  27098.0  2593.0  606.0   \n",
       "ExtraTreeClassifier         0.920990  4955.0  27089.0  2602.0  147.0   \n",
       "BaggingClassifier           0.918346  4864.0  27088.0  2603.0  238.0   \n",
       "Neural Network-1            0.914006  4953.0  26848.0  2843.0  149.0   \n",
       "\n",
       "                                 FPR       FNR  \n",
       "index                                           \n",
       "KNeighborsClassifier        0.091509  0.097609  \n",
       "LogisticRegression          0.092216  0.152293  \n",
       "RandomForestClassifier      0.087670  0.046648  \n",
       "AdaBoostClassifier          0.089926  0.158957  \n",
       "GradientBoostingClassifier  0.087333  0.118777  \n",
       "ExtraTreeClassifier         0.087636  0.028812  \n",
       "BaggingClassifier           0.087670  0.046648  \n",
       "Neural Network-1            0.095753  0.029204  "
      ]
     },
     "metadata": {},
     "output_type": "display_data"
    },
    {
     "name": "stdout",
     "output_type": "stream",
     "text": [
      "Test Results\n"
     ]
    },
    {
     "data": {
      "text/html": [
       "<div>\n",
       "<style scoped>\n",
       "    .dataframe tbody tr th:only-of-type {\n",
       "        vertical-align: middle;\n",
       "    }\n",
       "\n",
       "    .dataframe tbody tr th {\n",
       "        vertical-align: top;\n",
       "    }\n",
       "\n",
       "    .dataframe thead th {\n",
       "        text-align: right;\n",
       "    }\n",
       "</style>\n",
       "<table border=\"1\" class=\"dataframe\">\n",
       "  <thead>\n",
       "    <tr style=\"text-align: right;\">\n",
       "      <th></th>\n",
       "      <th>accuracy</th>\n",
       "      <th>TP</th>\n",
       "      <th>TN</th>\n",
       "      <th>FP</th>\n",
       "      <th>FN</th>\n",
       "      <th>FPR</th>\n",
       "      <th>FNR</th>\n",
       "      <th>auc</th>\n",
       "      <th>mcc</th>\n",
       "    </tr>\n",
       "    <tr>\n",
       "      <th>index</th>\n",
       "      <th></th>\n",
       "      <th></th>\n",
       "      <th></th>\n",
       "      <th></th>\n",
       "      <th></th>\n",
       "      <th></th>\n",
       "      <th></th>\n",
       "      <th></th>\n",
       "      <th></th>\n",
       "    </tr>\n",
       "  </thead>\n",
       "  <tbody>\n",
       "    <tr>\n",
       "      <th>KNeighborsClassifier</th>\n",
       "      <td>0.900782</td>\n",
       "      <td>1140.0</td>\n",
       "      <td>6695.0</td>\n",
       "      <td>728.0</td>\n",
       "      <td>135.0</td>\n",
       "      <td>0.098074</td>\n",
       "      <td>0.105882</td>\n",
       "      <td>0.898022</td>\n",
       "      <td>0.685619</td>\n",
       "    </tr>\n",
       "    <tr>\n",
       "      <th>LogisticRegression</th>\n",
       "      <td>0.890205</td>\n",
       "      <td>1068.0</td>\n",
       "      <td>6675.0</td>\n",
       "      <td>748.0</td>\n",
       "      <td>207.0</td>\n",
       "      <td>0.100768</td>\n",
       "      <td>0.162353</td>\n",
       "      <td>0.868440</td>\n",
       "      <td>0.641248</td>\n",
       "    </tr>\n",
       "    <tr>\n",
       "      <th>RandomForestClassifier</th>\n",
       "      <td>0.904921</td>\n",
       "      <td>1133.0</td>\n",
       "      <td>6738.0</td>\n",
       "      <td>685.0</td>\n",
       "      <td>142.0</td>\n",
       "      <td>0.092281</td>\n",
       "      <td>0.111373</td>\n",
       "      <td>0.898173</td>\n",
       "      <td>0.692717</td>\n",
       "    </tr>\n",
       "    <tr>\n",
       "      <th>AdaBoostClassifier</th>\n",
       "      <td>0.895033</td>\n",
       "      <td>1070.0</td>\n",
       "      <td>6715.0</td>\n",
       "      <td>708.0</td>\n",
       "      <td>205.0</td>\n",
       "      <td>0.095379</td>\n",
       "      <td>0.160784</td>\n",
       "      <td>0.871918</td>\n",
       "      <td>0.652384</td>\n",
       "    </tr>\n",
       "    <tr>\n",
       "      <th>GradientBoostingClassifier</th>\n",
       "      <td>0.900897</td>\n",
       "      <td>1104.0</td>\n",
       "      <td>6732.0</td>\n",
       "      <td>691.0</td>\n",
       "      <td>171.0</td>\n",
       "      <td>0.093089</td>\n",
       "      <td>0.134118</td>\n",
       "      <td>0.886397</td>\n",
       "      <td>0.675394</td>\n",
       "    </tr>\n",
       "    <tr>\n",
       "      <th>ExtraTreeClassifier</th>\n",
       "      <td>0.905840</td>\n",
       "      <td>1141.0</td>\n",
       "      <td>6738.0</td>\n",
       "      <td>685.0</td>\n",
       "      <td>134.0</td>\n",
       "      <td>0.092281</td>\n",
       "      <td>0.105098</td>\n",
       "      <td>0.901311</td>\n",
       "      <td>0.697049</td>\n",
       "    </tr>\n",
       "    <tr>\n",
       "      <th>BaggingClassifier</th>\n",
       "      <td>0.904691</td>\n",
       "      <td>1141.0</td>\n",
       "      <td>6728.0</td>\n",
       "      <td>695.0</td>\n",
       "      <td>134.0</td>\n",
       "      <td>0.093628</td>\n",
       "      <td>0.105098</td>\n",
       "      <td>0.900637</td>\n",
       "      <td>0.694487</td>\n",
       "    </tr>\n",
       "    <tr>\n",
       "      <th>Neural Network-1</th>\n",
       "      <td>0.893884</td>\n",
       "      <td>1175.0</td>\n",
       "      <td>6600.0</td>\n",
       "      <td>823.0</td>\n",
       "      <td>100.0</td>\n",
       "      <td>0.110872</td>\n",
       "      <td>0.078431</td>\n",
       "      <td>0.905349</td>\n",
       "      <td>0.681661</td>\n",
       "    </tr>\n",
       "  </tbody>\n",
       "</table>\n",
       "</div>"
      ],
      "text/plain": [
       "                            accuracy      TP      TN     FP     FN       FPR  \\\n",
       "index                                                                          \n",
       "KNeighborsClassifier        0.900782  1140.0  6695.0  728.0  135.0  0.098074   \n",
       "LogisticRegression          0.890205  1068.0  6675.0  748.0  207.0  0.100768   \n",
       "RandomForestClassifier      0.904921  1133.0  6738.0  685.0  142.0  0.092281   \n",
       "AdaBoostClassifier          0.895033  1070.0  6715.0  708.0  205.0  0.095379   \n",
       "GradientBoostingClassifier  0.900897  1104.0  6732.0  691.0  171.0  0.093089   \n",
       "ExtraTreeClassifier         0.905840  1141.0  6738.0  685.0  134.0  0.092281   \n",
       "BaggingClassifier           0.904691  1141.0  6728.0  695.0  134.0  0.093628   \n",
       "Neural Network-1            0.893884  1175.0  6600.0  823.0  100.0  0.110872   \n",
       "\n",
       "                                 FNR       auc       mcc  \n",
       "index                                                     \n",
       "KNeighborsClassifier        0.105882  0.898022  0.685619  \n",
       "LogisticRegression          0.162353  0.868440  0.641248  \n",
       "RandomForestClassifier      0.111373  0.898173  0.692717  \n",
       "AdaBoostClassifier          0.160784  0.871918  0.652384  \n",
       "GradientBoostingClassifier  0.134118  0.886397  0.675394  \n",
       "ExtraTreeClassifier         0.105098  0.901311  0.697049  \n",
       "BaggingClassifier           0.105098  0.900637  0.694487  \n",
       "Neural Network-1            0.078431  0.905349  0.681661  "
      ]
     },
     "metadata": {},
     "output_type": "display_data"
    }
   ],
   "source": [
    "table_80_70_train['index']=ind_columns\n",
    "table_80_70_test['index']=ind_columns\n",
    "\n",
    "\n",
    "table_80_70_test.set_index(['index'],drop=True,inplace=True)\n",
    "table_80_70_train.set_index(['index'],drop=True,inplace=True)\n",
    "\n",
    "print(\"Training Results\")\n",
    "display(table_80_70_train)\n",
    "print(\"Test Results\")\n",
    "display(table_80_70_test)"
   ]
  },
  {
   "cell_type": "code",
   "execution_count": 95,
   "metadata": {},
   "outputs": [
    {
     "data": {
      "text/html": [
       "<script>\n",
       "code_show=true; \n",
       "function code_toggle() {\n",
       " if (code_show){\n",
       " $('div.input').hide();\n",
       " } else {\n",
       " $('div.input').show();\n",
       " }\n",
       " code_show = !code_show\n",
       "} \n",
       "$( document ).ready(code_toggle);\n",
       "</script>\n",
       "To toggle code, click <a href=\"javascript:code_toggle()\">here</a>."
      ],
      "text/plain": [
       "<IPython.core.display.HTML object>"
      ]
     },
     "execution_count": 95,
     "metadata": {},
     "output_type": "execute_result"
    }
   ],
   "source": [
    "### Original Creator : Darshan Bhansali\n",
    "### HTML code to hide the input cells \n",
    "HTML('''<script>\n",
    "code_show=true; \n",
    "function code_toggle() {\n",
    " if (code_show){\n",
    " $('div.input').hide();\n",
    " } else {\n",
    " $('div.input').show();\n",
    " }\n",
    " code_show = !code_show\n",
    "} \n",
    "$( document ).ready(code_toggle);\n",
    "</script>\n",
    "To toggle code, click <a href=\"javascript:code_toggle()\">here</a>.''')"
   ]
  }
 ],
 "metadata": {
  "kernelspec": {
   "display_name": "Python 3",
   "language": "python",
   "name": "python3"
  },
  "language_info": {
   "codemirror_mode": {
    "name": "ipython",
    "version": 3
   },
   "file_extension": ".py",
   "mimetype": "text/x-python",
   "name": "python",
   "nbconvert_exporter": "python",
   "pygments_lexer": "ipython3",
   "version": "3.6.8"
  }
 },
 "nbformat": 4,
 "nbformat_minor": 2
}
