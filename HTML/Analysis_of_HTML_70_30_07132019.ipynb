{
 "cells": [
  {
   "cell_type": "markdown",
   "metadata": {},
   "source": [
    "***\n",
    "## Table of Contents\n",
    "<br>\n",
    "  <br>\n",
    "    <ol>\n",
    "        <h2><a href='#1' style=\"text-decoration : none; color : #000000;\">1. Initial Models</a></h2>\n",
    "        <ul>\n",
    "            <a href='#1.A' style=\"text-decoration : none; color : #000000;\"><h3>A. Results </h3></a>\n",
    "        </ul>\n",
    "        <ul>\n",
    "            <a href='#1.B' style=\"text-decoration : none; color : #000000;\"><h3>B. Average Feature Importance   </h3></a>\n",
    "        </ul>\n",
    "     </ol>\n",
    "     <br> \n",
    "\n",
    "<ol>\n",
    "        <h2><a href='#2' style=\"text-decoration : none; color : #000000;\">2. Oversampling </a></h2>\n",
    "        <ul>\n",
    "            <a href='#2.A' style=\"text-decoration : none; color : #000000;\"><h3>A. Results </h3></a>\n",
    "        </ul>\n",
    "        <ul>\n",
    "            <a href='#2.B' style=\"text-decoration : none; color : #000000;\"><h3>B. Average Feature Importance   </h3></a>\n",
    "        </ul>\n",
    "     </ol>\n",
    "     <br>\n",
    "     \n",
    " <ol>\n",
    "        <h2><a href='#3' style=\"text-decoration : none; color : #000000;\">3. Undersampling</a></h2>\n",
    "        <ul>\n",
    "            <a href='#3.A' style=\"text-decoration : none; color : #000000;\"><h3>A. Results </h3></a>\n",
    "        </ul>\n",
    "        <ul>\n",
    "            <a href='#3.B' style=\"text-decoration : none; color : #000000;\"><h3>B. Average Feature Importance   </h3></a>\n",
    "        </ul>\n",
    "     </ol>\n",
    "     <br>\n",
    "     \n",
    " <ol>\n",
    "        <h2><a href='#4' style=\"text-decoration : none; color : #000000;\">4.Feature Transformation with feature selection</a></h2>\n",
    "        <ul>\n",
    "            <a href='#4.A' style=\"text-decoration : none; color : #000000;\"><h3>A. Results </h3></a>\n",
    "        </ul>\n",
    "        <ul>\n",
    "            <a href='#4.B' style=\"text-decoration : none; color : #000000;\"><h3>B. Average Feature Importance   </h3></a>\n",
    "        </ul>\n",
    "     </ol>\n",
    "     <br>\n",
    "     \n",
    "     \n",
    " <ol>\n",
    "        <h2><a href='#5' style=\"text-decoration : none; color : #000000;\">5.Feature Transformation with PCA</a></h2>\n",
    "        <ul>\n",
    "            <a href='#5.A' style=\"text-decoration : none; color : #000000;\"><h3>A. Results </h3></a>\n",
    "        </ul>\n",
    "     </ol>\n",
    "     <br>"
   ]
  },
  {
   "cell_type": "code",
   "execution_count": 2,
   "metadata": {},
   "outputs": [
    {
     "data": {
      "text/html": [
       "<script type=\"text/javascript\">window.PlotlyConfig = {MathJaxConfig: 'local'};</script><script type=\"text/javascript\">if (window.MathJax) {MathJax.Hub.Config({SVG: {font: \"STIX-Web\"}});}</script><script>requirejs.config({paths: { 'plotly': ['https://cdn.plot.ly/plotly-latest.min']},});if(!window._Plotly) {require(['plotly'],function(plotly) {window._Plotly=plotly;});}</script>"
      ],
      "text/vnd.plotly.v1+html": [
       "<script type=\"text/javascript\">window.PlotlyConfig = {MathJaxConfig: 'local'};</script><script type=\"text/javascript\">if (window.MathJax) {MathJax.Hub.Config({SVG: {font: \"STIX-Web\"}});}</script><script>requirejs.config({paths: { 'plotly': ['https://cdn.plot.ly/plotly-latest.min']},});if(!window._Plotly) {require(['plotly'],function(plotly) {window._Plotly=plotly;});}</script>"
      ]
     },
     "metadata": {},
     "output_type": "display_data"
    }
   ],
   "source": [
    "import pandas as pd\n",
    "import numpy as np\n",
    "import copy\n",
    "import matplotlib.pyplot as plt\n",
    "import seaborn as sns\n",
    "%matplotlib inline\n",
    "\n",
    "from IPython.display import display,clear_output,HTML\n",
    "import warnings\n",
    "warnings.filterwarnings(\"ignore\")\n",
    "\n",
    "import keras\n",
    "from keras.layers import Dense,Dropout\n",
    "from keras.models import Sequential\n",
    "warnings.simplefilter(\"ignore\", DeprecationWarning)\n",
    "import researchpy as rp\n",
    "\n",
    "%matplotlib inline\n",
    "pd.set_option('display.max_columns', 500)\n",
    "pd.set_option('display.max_rows',305)\n",
    "\n",
    "from sklearn.feature_selection import SelectKBest,chi2,RFE,RFECV,f_regression,SelectFromModel\n",
    "from sklearn.linear_model import LogisticRegression\n",
    "from sklearn.ensemble import ExtraTreesClassifier,RandomForestClassifier,GradientBoostingClassifier,AdaBoostClassifier,BaggingClassifier\n",
    "from sklearn.neighbors import KNeighborsClassifier\n",
    "from sklearn.model_selection import train_test_split,cross_val_score\n",
    "\n",
    "from sklearn.preprocessing import StandardScaler,MinMaxScaler\n",
    "from sklearn import metrics\n",
    "\n",
    "\n",
    "\n",
    "from sklearn.decomposition import PCA\n",
    "from sklearn.metrics import accuracy_score,auc,roc_curve,recall_score,precision_score,matthews_corrcoef\n",
    "\n",
    "from pandas_ml import ConfusionMatrix\n",
    "\n",
    "\n",
    "from imblearn.over_sampling import SMOTE\n",
    "\n",
    "from plotly.offline import download_plotlyjs, init_notebook_mode, plot, iplot\n",
    "init_notebook_mode(connected=True)\n",
    "import plotly.graph_objs as go\n",
    "\n",
    "import featuretools as ft\n",
    "\n",
    "from scipy import stats\n",
    "import re\n",
    "\n",
    "from xgboost import XGBClassifier\n",
    "from xgboost import plot_importance"
   ]
  },
  {
   "cell_type": "code",
   "execution_count": 3,
   "metadata": {},
   "outputs": [],
   "source": [
    "### Function to plot Feature Importance\n",
    "def feat_impt_plot(feat_impt,y_labels,width_s=1000,height_s=1000):\n",
    "    \n",
    "    m=pd.DataFrame(y_labels,feat_impt).reset_index()\n",
    "    m.columns=['Feature_Importance','Features']\n",
    "    m.sort_values(by='Feature_Importance',inplace=True,ascending=False)\n",
    "    m['Features']=m['Features'].str.replace(\"dom_function_\",\"\")\n",
    "    m['Features']=m['Features'].str.replace(\"js_function_\",\"\")\n",
    "    m['Features']=m['Features'].apply(lambda x: str(x).lstrip('.'))\n",
    "    m['Features']=m['Features'].str.replace(\"(\",\"\")\n",
    "    \n",
    "    data = [go.Bar(x=m.Feature_Importance.values,y=m.Features.values,text=np.round(m.Feature_Importance,4),\n",
    "            textposition = 'outside',\n",
    "            marker=dict(\n",
    "                color='rgb(158,202,225)',\n",
    "                line=dict(\n",
    "                    color='rgb(8,48,107)',\n",
    "                    width=1.5),\n",
    "            ),\n",
    "            opacity=0.6,\n",
    "            orientation='h'\n",
    "        )]\n",
    "    layout = go.Layout(autosize=False,\n",
    "    width=width_s,\n",
    "    height=height_s,\n",
    "    xaxis=dict(title='Feature Importances',\n",
    "        tickfont=dict(\n",
    "            size=12,\n",
    "            color='black'\n",
    "        )),\n",
    "    yaxis=dict(automargin=True))\n",
    "    fig = go.Figure(data=data, layout=layout)\n",
    "    iplot(fig)\n",
    "    \n",
    "def uni_value(data):\n",
    "    lst=[]\n",
    "    for col in data.columns[:]:\n",
    "        lst.append([col,dict(data[col].value_counts()),data[col].value_counts().values[0]>=len(data)*0.95])\n",
    "    col_values=pd.DataFrame(lst,columns=['Feature','Value_Counts','95_%_same_values'])\n",
    "    col_values.set_index('Feature',drop=True,inplace=True)\n",
    "    del lst\n",
    "    return col_values\n",
    "\n",
    "    \n",
    "def check_cat(data):\n",
    "    cat_var=[]\n",
    "    num_var=[]\n",
    "    for col in data.columns:\n",
    "        if col!='Target':\n",
    "            if len(data[col].value_counts())==2:\n",
    "                cat_var.append(col)\n",
    "            else:\n",
    "                num_var.append(col)\n",
    "    return cat_var,num_var\n",
    "\n",
    "\n",
    "def num_stats(data,columns):\n",
    "    lst=[]\n",
    "    c=0\n",
    "    for col in columns:\n",
    "        corr=stats.pointbiserialr(data[col],data.Target)[0]\n",
    "        corr_p=stats.pointbiserialr(data[col],data.Target)[1]\n",
    "        ttest=stats.ttest_ind(data[data.Target==1][col], data[data.Target==0][col], equal_var=False)[0]\n",
    "        ttest_p=stats.ttest_ind(data[data.Target==1][col], data[data.Target==0][col], equal_var=False)[1]\n",
    "        lst.append((corr,corr_p,ttest,ttest_p,col))\n",
    "    stats_data=pd.DataFrame(lst,columns=['Pt. Biserial Corr','Pt. Biserial Corr p-val','ttest','ttest p-val','Feature'])\n",
    "    stats_data.set_index('Feature',drop=True,inplace=True)\n",
    "    stats_data.sort_values(by='ttest',inplace=True)\n",
    "    del lst\n",
    "    return stats_data\n",
    "\n",
    "\n",
    "### Generate statistics for categorical data\n",
    "def cat_stats(data,columns):\n",
    "    lst=[]\n",
    "    c=0\n",
    "    for col in columns:\n",
    "        if col!='Target':\n",
    "            table, results = rp.crosstab(data['Target'], data[col], prop= 'col', test= 'chi-square')\n",
    "            x=results['results'].values.tolist()\n",
    "            x.append(col)\n",
    "            lst.append(x)\n",
    "    chi_df=pd.DataFrame(lst,columns=['Pearson Chi-square','p-value','Cramers V','Feature'])\n",
    "    chi_df.set_index('Feature',drop=True,inplace=True)\n",
    "    chi_df.sort_values(by='Cramers V',ascending=False,inplace=True)\n",
    "    del lst\n",
    "    return chi_df\n",
    "\n",
    "def remove_feat(data):\n",
    "    col_no_unique=[]\n",
    "    for col in data.columns[:]:\n",
    "        if len(data[col].value_counts())<=1:\n",
    "#             print(col)\n",
    "            col_no_unique.append(col)\n",
    "    return col_no_unique\n",
    "\n",
    "### Generate plot for class balance for categorical nature\n",
    "def class_bal(data,title=''):\n",
    "    d = [go.Bar(x=data.Target.value_counts().index.values,\n",
    "               y=data.Target.value_counts().values,\n",
    "               text=data.Target.value_counts().values,\n",
    "               textposition = 'outside',\n",
    "            )]\n",
    "    layout = go.Layout(title=title,xaxis=dict(title='Domain Type',tickfont=dict(size=12,color='black')),\n",
    "                    yaxis=dict(title='Number of Instances'))\n",
    "    fig = go.Figure(data=d, layout=layout)\n",
    "    iplot(fig)"
   ]
  },
  {
   "cell_type": "code",
   "execution_count": 4,
   "metadata": {},
   "outputs": [],
   "source": [
    "def model_build(model,X_train,Y_train,X_test,Y_test,tree=False,feat=None):\n",
    "    \n",
    "    y_pred_train=model.predict(X_train)\n",
    "    acc_train=accuracy_score(Y_train,y_pred_train)\n",
    "    \n",
    "    print(\"Accuracy of the model for training data is:\",acc_train)\n",
    "    print(\"Confusion Matrix for training data is:\")\n",
    "    cm_train=ConfusionMatrix(Y_train,y_pred_train)\n",
    "    display(cm_train)\n",
    "    \n",
    "    \n",
    "    y_pred_test=model.predict(X_test)\n",
    "    acc_test=accuracy_score(Y_test,y_pred_test)\n",
    "    print(\"Accuracy of the model for test data is:\",acc_test)\n",
    "    print(\"Confusion Matrix for test data is:\")\n",
    "    cm_test=ConfusionMatrix(Y_test,y_pred_test)\n",
    "    display(cm_test)\n",
    "\n",
    "    fpr, tpr, threshold = roc_curve(Y_test, y_pred_test)\n",
    "    roc_auc =auc(fpr, tpr)\n",
    "    mcc=matthews_corrcoef(Y_test,y_pred_test)\n",
    "    if tree==True:\n",
    "        feat_impt_plot(model.feature_importances_,feat)\n",
    "        return model,cm_train,cm_test,acc_train,acc_test,roc_auc,model.feature_importances_,mcc\n",
    "    \n",
    "    return model,cm_train,cm_test,acc_train,acc_test,roc_auc,mcc\n",
    "\n",
    "def KNN_model(X_train,Y_train,X_test,Y_test):\n",
    "    print('\\033[1m' + 'K-Nearest Neighbors' + '\\033[0m')\n",
    "    knn=KNeighborsClassifier()\n",
    "    knn.fit(X_train,Y_train)\n",
    "\n",
    "    return model_build(knn,X_train,Y_train,X_test,Y_test)\n",
    "\n",
    "def Logistic_model(X_train,Y_train,X_test,Y_test):\n",
    "    print('\\033[1m' + 'Logistic Regression' + '\\033[0m')\n",
    "    log=LogisticRegression(random_state=0)\n",
    "    log.fit(X_train,Y_train)\n",
    "    \n",
    "    return model_build(log,X_train,Y_train,X_test,Y_test)\n",
    "\n",
    "def RandomForest(X_train,Y_train,X_test,Y_test,feat):\n",
    "    print('\\033[1m' + 'RandomForest Classifier' + '\\033[0m')\n",
    "    rf=RandomForestClassifier(random_state=0)\n",
    "    rf.fit(X_train,Y_train)\n",
    "\n",
    "    \n",
    "    return model_build(rf,X_train,Y_train,X_test,Y_test,True,feat)\n",
    "\n",
    "def AdaBoost(X_train,Y_train,X_test,Y_test,feat):\n",
    "    print('\\033[1m' + 'Adaoost Classifier' + '\\033[0m')\n",
    "    ada=AdaBoostClassifier(random_state=0)\n",
    "    ada.fit(X_train,Y_train)\n",
    "    \n",
    "    return model_build(ada,X_train,Y_train,X_test,Y_test,True,feat)\n",
    "\n",
    "def GradientBoosting(X_train,Y_train,X_test,Y_test,feat):\n",
    "    print('\\033[1m' + 'GradientBoosting Classifier' + '\\033[0m')\n",
    "    gbc=GradientBoostingClassifier(random_state=0)\n",
    "    gbc.fit(X_train,Y_train)\n",
    "    \n",
    "    return model_build(gbc,X_train,Y_train,X_test,Y_test,True,feat)\n",
    "\n",
    "def ExtraTree(X_train,Y_train,X_test,Y_test,feat):\n",
    "    print('\\033[1m' + 'ExtraTree Classifier' + '\\033[0m')\n",
    "    ext_tree=ExtraTreesClassifier(random_state=0)\n",
    "    ext_tree.fit(X_train,Y_train)\n",
    "    \n",
    "    return model_build(ext_tree,X_train,Y_train,X_test,Y_test,True,feat)\n",
    "\n",
    "def Bagging(X_train,Y_train,X_test,Y_test):\n",
    "    print('\\033[1m' + 'Bagging Classifier' + '\\033[0m')\n",
    "    bagging=BaggingClassifier(random_state=0)\n",
    "    bagging.fit(X_train,Y_train)\n",
    "    \n",
    "    return model_build(bagging,X_train,Y_train,X_test,Y_test)\n",
    "\n",
    "def DeepLearning1(X_train,Y_train,X_test,Y_test):\n",
    "    print('\\033[1m' + 'Neural Network-1' + '\\033[0m')\n",
    "    np.random.seed(0)\n",
    "    deep_learning=Sequential()\n",
    "    deep_learning.add(Dense(units=64,activation='relu',use_bias=True,kernel_initializer='uniform',input_dim=X_train.shape[1]))\n",
    "    deep_learning.add(Dense(units=128,activation='relu',use_bias=True,kernel_initializer='uniform'))\n",
    "    deep_learning.add(Dense(units=1,activation='sigmoid',use_bias=True,kernel_initializer='uniform'))\n",
    "    deep_learning.compile(optimizer='adam',loss='binary_crossentropy',metrics=['accuracy'])\n",
    "    deep_learning.fit(X_train,Y_train,batch_size=20,epochs=80,verbose=False)\n",
    "    acc_train=deep_learning.evaluate(X_train,Y_train,verbose=False)[1]\n",
    "    print(\"The accuracy of the model on training data is:\",acc_train)\n",
    "    cm_train=ConfusionMatrix(Y_train,deep_learning.predict_classes(X_train,batch_size=1,verbose=False).reshape(1,len(X_train))[0])\n",
    "    cm_test=ConfusionMatrix(Y_test,deep_learning.predict_classes(X_test,batch_size=1,verbose=False).reshape(1,len(X_test))[0])\n",
    "    display(cm_train)\n",
    "    acc_test=accuracy_score(Y_test,deep_learning.predict_classes(X_test,batch_size=1,verbose=False))\n",
    "    print(\"The accuracy of the model on test data is:\",acc_test)\n",
    "    display(cm_test)\n",
    "    mcc=matthews_corrcoef(Y_test,deep_learning.predict_classes(X_test,batch_size=1,verbose=False))\n",
    "    fpr, tpr, threshold = roc_curve(Y_test, deep_learning.predict_classes(X_test,batch_size=1,verbose=False))\n",
    "    roc_auc =auc(fpr, tpr)\n",
    "    return  deep_learning,cm_train,cm_test,acc_train,acc_test,roc_auc,mcc"
   ]
  },
  {
   "cell_type": "markdown",
   "metadata": {},
   "source": [
    "#### Read Data"
   ]
  },
  {
   "cell_type": "code",
   "execution_count": 5,
   "metadata": {},
   "outputs": [
    {
     "name": "stdout",
     "output_type": "stream",
     "text": [
      "Shape of HTML dataset: (43491, 1461)\n"
     ]
    }
   ],
   "source": [
    "df=pd.read_csv('../html/HTML.csv',index_col='domain')\n",
    "df.drop(['Unnamed: 0'],axis=1,inplace=True)\n",
    "cookie=[col for col in df.columns if 'number' in col]\n",
    "df.drop(cookie,axis=1,inplace=True)\n",
    "print(\"Shape of HTML dataset:\",df.shape)\n",
    "\n",
    "df.Target=df.Target.apply(lambda x: 1 if x=='Malicious' else 0)"
   ]
  },
  {
   "cell_type": "markdown",
   "metadata": {},
   "source": [
    "#### Dropping constants"
   ]
  },
  {
   "cell_type": "code",
   "execution_count": 6,
   "metadata": {},
   "outputs": [
    {
     "name": "stdout",
     "output_type": "stream",
     "text": [
      "0 columns have only one unique value in them rendering them meaningless for classification\n",
      "Shape of our dataset after dropping them: (43491, 1461)\n"
     ]
    }
   ],
   "source": [
    "col_no_unique=[]\n",
    "for col in df.columns[:-1]:\n",
    "    if len(df[col].value_counts())==1:\n",
    "        col_no_unique.append(col)\n",
    "\n",
    "print(\"{} columns have only one unique value in them rendering them meaningless for classification\".format(len(col_no_unique)))\n",
    "### Drop those columns\n",
    "df.drop(col_no_unique,axis=1,inplace=True)\n",
    "\n",
    "print(\"Shape of our dataset after dropping them:\",df.shape)"
   ]
  },
  {
   "cell_type": "markdown",
   "metadata": {},
   "source": [
    "#### 95% same values"
   ]
  },
  {
   "cell_type": "code",
   "execution_count": 7,
   "metadata": {},
   "outputs": [
    {
     "name": "stdout",
     "output_type": "stream",
     "text": [
      "1297 columns have more than 95% same values\n"
     ]
    }
   ],
   "source": [
    "lst=[]\n",
    "for col in df.columns[:-1]:\n",
    "    lst.append([col,dict(df[col].value_counts()),df[col].value_counts().values[0]>=len(df)*0.95])\n",
    "\n",
    "col_values=pd.DataFrame(lst,columns=['Feature','Value_Counts','95_%_same_values'])\n",
    "col_values.set_index('Feature',drop=True,inplace=True)\n",
    "del lst\n",
    "\n",
    "print(\"{} columns have more than 95% same values\".format(len(col_values[col_values['95_%_same_values']==True].index.values)))"
   ]
  },
  {
   "cell_type": "code",
   "execution_count": 8,
   "metadata": {},
   "outputs": [],
   "source": [
    "df.drop(col_values[col_values['95_%_same_values']==True].index.values,axis=1,inplace=True)"
   ]
  },
  {
   "cell_type": "markdown",
   "metadata": {},
   "source": [
    "#### Dropping columns based on high VIF values"
   ]
  },
  {
   "cell_type": "code",
   "execution_count": 9,
   "metadata": {},
   "outputs": [],
   "source": [
    "df_sel=df.copy(deep=True)\n",
    "rem=['a_href_absolute','a_href_relative','a_count','a_href_out_of_domain',\n",
    "     'base_count','base_href_absolute','base_href_out_of_domain',\n",
    "     'iframe_src_absolute','iframe_src_relative','iframe_sandbox_allow_same_origin_count','iframe_src_http',\n",
    "     'img_src_absolute','img_src_http','img_srcset_absolute','img_src_relative','img_srcset_relative','img_count',\n",
    "     'script_src_absolute','script_src_http','script_src_relative','script_count','script_src_https',\n",
    "     'link_rel_wlwmanifest','link_href_absolute','link_href_relative','link_rel_EditURI','link_count',\n",
    "     'link_type_application/wlwmanifest+xml','link_href_https','link_rel_stylesheet','link_href_.png',\n",
    "     'form_action_absolute','form_action_relative','form_count','form_action_https',\n",
    "     'form_enctype_application/x-www-form-urlencoded',\n",
    "     'tbody_count',\n",
    "     'nofollow_count']\n",
    "\n",
    "df_sel.drop(rem,axis=1,inplace=True)"
   ]
  },
  {
   "cell_type": "code",
   "execution_count": 10,
   "metadata": {},
   "outputs": [],
   "source": [
    "X=df_sel.iloc[:,df_sel.columns!='Target']\n",
    "Y=df_sel.Target"
   ]
  },
  {
   "cell_type": "code",
   "execution_count": 11,
   "metadata": {},
   "outputs": [],
   "source": [
    "X_train, X_test, y_train, y_test = train_test_split(X, Y, test_size=0.3, random_state=7)"
   ]
  },
  {
   "cell_type": "code",
   "execution_count": 12,
   "metadata": {},
   "outputs": [
    {
     "name": "stdout",
     "output_type": "stream",
     "text": [
      "Accuracy: 90.11%\n"
     ]
    }
   ],
   "source": [
    "model = XGBClassifier(random_state=0)\n",
    "model.fit(X_train, y_train)\n",
    "y_pred = model.predict(X_test)\n",
    "predictions = [round(value) for value in y_pred]\n",
    "accuracy = accuracy_score(y_test, predictions)\n",
    "print(\"Accuracy: %.2f%%\" % (accuracy * 100.0))\n",
    "thresholds = np.sort(model.feature_importances_)"
   ]
  },
  {
   "cell_type": "code",
   "execution_count": 15,
   "metadata": {
    "scrolled": true
   },
   "outputs": [
    {
     "name": "stdout",
     "output_type": "stream",
     "text": [
      "Accuracy: 90.11%\n",
      "Thresh=0.000, n=125, Accuracy: 90.11%\n",
      "Thresh=0.000, n=125, Accuracy: 90.11%\n",
      "Thresh=0.000, n=125, Accuracy: 90.11%\n",
      "Thresh=0.000, n=125, Accuracy: 90.11%\n",
      "Thresh=0.000, n=125, Accuracy: 90.11%\n",
      "Thresh=0.000, n=125, Accuracy: 90.11%\n",
      "Thresh=0.000, n=125, Accuracy: 90.11%\n",
      "Thresh=0.000, n=125, Accuracy: 90.11%\n",
      "Thresh=0.000, n=125, Accuracy: 90.11%\n",
      "Thresh=0.000, n=125, Accuracy: 90.11%\n",
      "Thresh=0.000, n=125, Accuracy: 90.11%\n",
      "Thresh=0.000, n=125, Accuracy: 90.11%\n",
      "Thresh=0.000, n=125, Accuracy: 90.11%\n",
      "Thresh=0.000, n=125, Accuracy: 90.11%\n",
      "Thresh=0.000, n=125, Accuracy: 90.11%\n",
      "Thresh=0.000, n=125, Accuracy: 90.11%\n",
      "Thresh=0.000, n=125, Accuracy: 90.11%\n",
      "Thresh=0.000, n=125, Accuracy: 90.11%\n",
      "Thresh=0.000, n=125, Accuracy: 90.11%\n",
      "Thresh=0.000, n=125, Accuracy: 90.11%\n",
      "Thresh=0.000, n=125, Accuracy: 90.11%\n",
      "Thresh=0.000, n=125, Accuracy: 90.11%\n",
      "Thresh=0.000, n=125, Accuracy: 90.11%\n",
      "Thresh=0.000, n=125, Accuracy: 90.11%\n",
      "Thresh=0.000, n=125, Accuracy: 90.11%\n",
      "Thresh=0.000, n=125, Accuracy: 90.11%\n",
      "Thresh=0.000, n=125, Accuracy: 90.11%\n",
      "Thresh=0.000, n=125, Accuracy: 90.11%\n",
      "Thresh=0.000, n=125, Accuracy: 90.11%\n",
      "Thresh=0.000, n=125, Accuracy: 90.11%\n",
      "Thresh=0.000, n=125, Accuracy: 90.11%\n",
      "Thresh=0.000, n=125, Accuracy: 90.11%\n",
      "Thresh=0.000, n=125, Accuracy: 90.11%\n",
      "Thresh=0.000, n=125, Accuracy: 90.11%\n",
      "Thresh=0.000, n=125, Accuracy: 90.11%\n",
      "Thresh=0.000, n=125, Accuracy: 90.11%\n",
      "Thresh=0.000, n=125, Accuracy: 90.11%\n",
      "Thresh=0.000, n=125, Accuracy: 90.11%\n",
      "Thresh=0.000, n=125, Accuracy: 90.11%\n",
      "Thresh=0.000, n=125, Accuracy: 90.11%\n",
      "Thresh=0.000, n=125, Accuracy: 90.11%\n",
      "Thresh=0.000, n=125, Accuracy: 90.11%\n",
      "Thresh=0.000, n=125, Accuracy: 90.11%\n",
      "Thresh=0.000, n=125, Accuracy: 90.11%\n",
      "Thresh=0.002, n=81, Accuracy: 90.11%\n",
      "Thresh=0.002, n=81, Accuracy: 90.11%\n",
      "Thresh=0.002, n=81, Accuracy: 90.11%\n",
      "Thresh=0.002, n=81, Accuracy: 90.11%\n",
      "Thresh=0.002, n=81, Accuracy: 90.11%\n",
      "Thresh=0.002, n=81, Accuracy: 90.11%\n",
      "Thresh=0.002, n=81, Accuracy: 90.11%\n",
      "Thresh=0.002, n=81, Accuracy: 90.11%\n",
      "Thresh=0.002, n=81, Accuracy: 90.11%\n",
      "Thresh=0.002, n=81, Accuracy: 90.11%\n",
      "Thresh=0.002, n=81, Accuracy: 90.11%\n",
      "Thresh=0.002, n=81, Accuracy: 90.11%\n",
      "Thresh=0.002, n=81, Accuracy: 90.11%\n",
      "Thresh=0.002, n=81, Accuracy: 90.11%\n",
      "Thresh=0.003, n=67, Accuracy: 90.06%\n",
      "Thresh=0.003, n=67, Accuracy: 90.06%\n",
      "Thresh=0.003, n=67, Accuracy: 90.06%\n",
      "Thresh=0.003, n=67, Accuracy: 90.06%\n",
      "Thresh=0.003, n=67, Accuracy: 90.06%\n",
      "Thresh=0.003, n=67, Accuracy: 90.06%\n",
      "Thresh=0.003, n=67, Accuracy: 90.06%\n",
      "Thresh=0.003, n=67, Accuracy: 90.06%\n",
      "Thresh=0.003, n=67, Accuracy: 90.06%\n",
      "Thresh=0.003, n=67, Accuracy: 90.06%\n",
      "Thresh=0.003, n=67, Accuracy: 90.06%\n",
      "Thresh=0.005, n=56, Accuracy: 90.08%\n",
      "Thresh=0.005, n=56, Accuracy: 90.08%\n",
      "Thresh=0.005, n=56, Accuracy: 90.08%\n",
      "Thresh=0.005, n=56, Accuracy: 90.08%\n",
      "Thresh=0.005, n=56, Accuracy: 90.08%\n",
      "Thresh=0.005, n=56, Accuracy: 90.08%\n",
      "Thresh=0.005, n=56, Accuracy: 90.08%\n",
      "Thresh=0.005, n=56, Accuracy: 90.08%\n",
      "Thresh=0.006, n=48, Accuracy: 90.07%\n",
      "Thresh=0.006, n=48, Accuracy: 90.07%\n",
      "Thresh=0.006, n=48, Accuracy: 90.07%\n",
      "Thresh=0.006, n=48, Accuracy: 90.07%\n",
      "Thresh=0.006, n=48, Accuracy: 90.07%\n",
      "Thresh=0.006, n=48, Accuracy: 90.07%\n",
      "Thresh=0.008, n=42, Accuracy: 90.09%\n",
      "Thresh=0.008, n=42, Accuracy: 90.09%\n",
      "Thresh=0.008, n=42, Accuracy: 90.09%\n",
      "Thresh=0.008, n=42, Accuracy: 90.09%\n",
      "Thresh=0.008, n=42, Accuracy: 90.09%\n",
      "Thresh=0.008, n=42, Accuracy: 90.09%\n",
      "Thresh=0.008, n=42, Accuracy: 90.09%\n",
      "Thresh=0.009, n=35, Accuracy: 90.17%\n",
      "Thresh=0.009, n=35, Accuracy: 90.17%\n",
      "Thresh=0.009, n=35, Accuracy: 90.17%\n",
      "Thresh=0.009, n=35, Accuracy: 90.17%\n",
      "Thresh=0.009, n=35, Accuracy: 90.17%\n",
      "Thresh=0.011, n=30, Accuracy: 90.11%\n",
      "Thresh=0.011, n=30, Accuracy: 90.11%\n",
      "Thresh=0.012, n=28, Accuracy: 90.15%\n",
      "Thresh=0.012, n=28, Accuracy: 90.15%\n",
      "Thresh=0.012, n=28, Accuracy: 90.15%\n",
      "Thresh=0.014, n=25, Accuracy: 90.12%\n",
      "Thresh=0.014, n=25, Accuracy: 90.12%\n",
      "Thresh=0.014, n=25, Accuracy: 90.12%\n",
      "Thresh=0.014, n=25, Accuracy: 90.12%\n",
      "Thresh=0.015, n=21, Accuracy: 90.11%\n",
      "Thresh=0.015, n=21, Accuracy: 90.11%\n",
      "Thresh=0.017, n=19, Accuracy: 89.99%\n",
      "Thresh=0.017, n=19, Accuracy: 89.99%\n",
      "Thresh=0.017, n=19, Accuracy: 89.99%\n",
      "Thresh=0.018, n=16, Accuracy: 90.04%\n",
      "Thresh=0.020, n=15, Accuracy: 90.04%\n",
      "Thresh=0.021, n=14, Accuracy: 90.04%\n",
      "Thresh=0.021, n=14, Accuracy: 90.04%\n",
      "Thresh=0.024, n=12, Accuracy: 90.04%\n",
      "Thresh=0.026, n=11, Accuracy: 90.02%\n",
      "Thresh=0.030, n=10, Accuracy: 89.48%\n",
      "Thresh=0.032, n=9, Accuracy: 89.48%\n",
      "Thresh=0.033, n=8, Accuracy: 88.55%\n",
      "Thresh=0.041, n=7, Accuracy: 88.58%\n",
      "Thresh=0.041, n=7, Accuracy: 88.58%\n",
      "Thresh=0.042, n=5, Accuracy: 87.68%\n",
      "Thresh=0.047, n=4, Accuracy: 87.79%\n",
      "Thresh=0.054, n=3, Accuracy: 87.13%\n",
      "Thresh=0.054, n=3, Accuracy: 87.13%\n",
      "Thresh=0.080, n=1, Accuracy: 85.48%\n"
     ]
    }
   ],
   "source": [
    "for thresh in thresholds:\n",
    "    selection = SelectFromModel(model, threshold=thresh, prefit=True)\n",
    "    select_X_train = selection.transform(X_train)\n",
    "    selection_model = XGBClassifier(random_state=0)\n",
    "    selection_model.fit(select_X_train, y_train)\n",
    "    select_X_test = selection.transform(X_test)\n",
    "    y_pred = selection_model.predict(select_X_test)\n",
    "    predictions = [round(value) for value in y_pred]\n",
    "    accuracy = accuracy_score(y_test, predictions)\n",
    "    print(\"Thresh=%.3f, n=%d, Accuracy: %.2f%%\" % (thresh, select_X_train.shape[1], accuracy*100.0))"
   ]
  },
  {
   "cell_type": "code",
   "execution_count": 13,
   "metadata": {
    "scrolled": true
   },
   "outputs": [],
   "source": [
    "# select features using threshold\n",
    "selection = SelectFromModel(model, threshold=0.009, prefit=True)\n",
    "# selection = SelectFromModel(model, threshold=0.012, prefit=True)\n",
    "select_X_train = selection.transform(X_train)\n",
    "# train model\n",
    "selection_model = XGBClassifier(random_state=0)\n",
    "selection_model.fit(select_X_train, y_train)\n",
    "# eval model\n",
    "select_X_test = selection.transform(X_test)\n",
    "y_pred = selection_model.predict(select_X_test)\n",
    "\n",
    "selection_model = selection.get_support()\n",
    "embeded_rf_feature = X.loc[:,selection_model].columns.tolist()"
   ]
  },
  {
   "cell_type": "code",
   "execution_count": 14,
   "metadata": {},
   "outputs": [
    {
     "data": {
      "text/plain": [
       "['a_href_.aspx',\n",
       " 'a_href_.com',\n",
       " 'a_href_http',\n",
       " 'a_href_https',\n",
       " 'b_count',\n",
       " 'br_count',\n",
       " 'center_count',\n",
       " 'div_count',\n",
       " 'form_action_http',\n",
       " 'form_action_out_of_domain',\n",
       " 'h1_count',\n",
       " 'iframe_src_https',\n",
       " 'img_src_.jpg',\n",
       " 'input_count',\n",
       " 'li_count',\n",
       " 'link_href_.css',\n",
       " 'link_href_0',\n",
       " 'link_href_http',\n",
       " 'link_href_out_of_domain',\n",
       " 'link_rel_shortlink',\n",
       " 'link_type_application/rsd+xml',\n",
       " 'link_type_application/rss+xml',\n",
       " 'link_type_text/css',\n",
       " 'meta_count',\n",
       " 'p_count',\n",
       " 'script_async_true',\n",
       " 'script_charset_UTF-8',\n",
       " 'script_defer_true',\n",
       " 'script_src_.js',\n",
       " 'script_src_out_of_domain',\n",
       " 'script_type_text/javascript',\n",
       " 'section_count',\n",
       " 'span_count',\n",
       " 'strong_count',\n",
       " 'title_count',\n",
       " 'Target']"
      ]
     },
     "execution_count": 14,
     "metadata": {},
     "output_type": "execute_result"
    }
   ],
   "source": [
    "embeded_rf_feature.append('Target')\n",
    "embeded_rf_feature"
   ]
  },
  {
   "cell_type": "markdown",
   "metadata": {},
   "source": [
    "### <a id='1' style=\"text-decoration : none; color : #000000;\"> 2. Initial Models</a>"
   ]
  },
  {
   "cell_type": "code",
   "execution_count": 15,
   "metadata": {},
   "outputs": [],
   "source": [
    "fin_col=embeded_rf_feature"
   ]
  },
  {
   "cell_type": "code",
   "execution_count": 16,
   "metadata": {},
   "outputs": [],
   "source": [
    "df_sel=df_sel[fin_col]"
   ]
  },
  {
   "cell_type": "code",
   "execution_count": 18,
   "metadata": {},
   "outputs": [],
   "source": [
    "train=df_sel.iloc[:30444,:]\n",
    "train_X=train.iloc[:,train.columns!='Target'].values\n",
    "train_Y=train.Target.values\n",
    "\n",
    "scaler=StandardScaler()\n",
    "scaled_X_train=scaler.fit_transform(train_X)\n",
    "\n",
    "test=df_sel[fin_col].iloc[30444:,:]\n",
    "test_X=test.iloc[:,test.columns!='Target'].values\n",
    "test_Y=test.Target.values\n",
    "scaled_X_test=scaler.transform(test_X)"
   ]
  },
  {
   "cell_type": "code",
   "execution_count": 19,
   "metadata": {},
   "outputs": [],
   "source": [
    "columns=fin_col\n",
    "columns.remove('Target')"
   ]
  },
  {
   "cell_type": "code",
   "execution_count": 20,
   "metadata": {
    "scrolled": false
   },
   "outputs": [
    {
     "name": "stdout",
     "output_type": "stream",
     "text": [
      "\u001b[1mK-Nearest Neighbors\u001b[0m\n",
      "Accuracy of the model for training data is: 0.9069767441860465\n",
      "Confusion Matrix for training data is:\n"
     ]
    },
    {
     "data": {
      "text/plain": [
       "Predicted  False  True  __all__\n",
       "Actual                         \n",
       "False      23628  2388    26016\n",
       "True         444  3984     4428\n",
       "__all__    24072  6372    30444"
      ]
     },
     "metadata": {},
     "output_type": "display_data"
    },
    {
     "name": "stdout",
     "output_type": "stream",
     "text": [
      "Accuracy of the model for test data is: 0.9054955162106232\n",
      "Confusion Matrix for test data is:\n"
     ]
    },
    {
     "data": {
      "text/plain": [
       "Predicted  False  True  __all__\n",
       "Actual                         \n",
       "False      10073  1025    11098\n",
       "True         208  1741     1949\n",
       "__all__    10281  2766    13047"
      ]
     },
     "metadata": {},
     "output_type": "display_data"
    },
    {
     "name": "stdout",
     "output_type": "stream",
     "text": [
      "\n",
      "\n",
      "\u001b[1mLogistic Regression\u001b[0m\n",
      "Accuracy of the model for training data is: 0.8881881487320983\n",
      "Confusion Matrix for training data is:\n"
     ]
    },
    {
     "data": {
      "text/plain": [
       "Predicted  False  True  __all__\n",
       "Actual                         \n",
       "False      23638  2378    26016\n",
       "True        1026  3402     4428\n",
       "__all__    24664  5780    30444"
      ]
     },
     "metadata": {},
     "output_type": "display_data"
    },
    {
     "name": "stdout",
     "output_type": "stream",
     "text": [
      "Accuracy of the model for test data is: 0.8877136506476585\n",
      "Confusion Matrix for test data is:\n"
     ]
    },
    {
     "data": {
      "text/plain": [
       "Predicted  False  True  __all__\n",
       "Actual                         \n",
       "False      10085  1013    11098\n",
       "True         452  1497     1949\n",
       "__all__    10537  2510    13047"
      ]
     },
     "metadata": {},
     "output_type": "display_data"
    },
    {
     "name": "stdout",
     "output_type": "stream",
     "text": [
      "\n",
      "\n",
      "\u001b[1mRandomForest Classifier\u001b[0m\n",
      "Accuracy of the model for training data is: 0.9174221521482065\n",
      "Confusion Matrix for training data is:\n"
     ]
    },
    {
     "data": {
      "text/plain": [
       "Predicted  False  True  __all__\n",
       "Actual                         \n",
       "False      23700  2316    26016\n",
       "True         198  4230     4428\n",
       "__all__    23898  6546    30444"
      ]
     },
     "metadata": {},
     "output_type": "display_data"
    },
    {
     "name": "stdout",
     "output_type": "stream",
     "text": [
      "Accuracy of the model for test data is: 0.9082547712117728\n",
      "Confusion Matrix for test data is:\n"
     ]
    },
    {
     "data": {
      "text/plain": [
       "Predicted  False  True  __all__\n",
       "Actual                         \n",
       "False      10101   997    11098\n",
       "True         200  1749     1949\n",
       "__all__    10301  2746    13047"
      ]
     },
     "metadata": {},
     "output_type": "display_data"
    },
    {
     "data": {
      "application/vnd.plotly.v1+json": {
       "config": {
        "linkText": "Export to plot.ly",
        "plotlyServerURL": "https://plot.ly",
        "showLink": true
       },
       "data": [
        {
         "marker": {
          "color": "rgb(158,202,225)",
          "line": {
           "color": "rgb(8,48,107)",
           "width": 1.5
          }
         },
         "opacity": 0.6,
         "orientation": "h",
         "text": [
          0.2278,
          0.1151,
          0.0847,
          0.0654,
          0.0566,
          0.0507,
          0.048,
          0.047,
          0.0342,
          0.0303,
          0.0237,
          0.0225,
          0.0224,
          0.0204,
          0.0182,
          0.015,
          0.0132,
          0.0129,
          0.0118,
          0.011,
          0.0088,
          0.0085,
          0.0073,
          0.0072,
          0.0072,
          0.0056,
          0.005,
          0.0044,
          0.004,
          0.0035,
          0.0021,
          0.0018,
          0.0015,
          0.0013,
          0.0005
         ],
         "textposition": "outside",
         "type": "bar",
         "uid": "1d139229-58cc-4e75-b150-4d21660e5bf3",
         "x": [
          0.22779891246068534,
          0.11512675413977991,
          0.08471882691439879,
          0.06535215413606432,
          0.05663160297176466,
          0.05070318775539345,
          0.04801391803415647,
          0.047016584003622054,
          0.03424081058069114,
          0.0302785391224508,
          0.023714665803389347,
          0.02251562425130859,
          0.02241699598483218,
          0.020400792409007103,
          0.018242360022239296,
          0.014990239124024802,
          0.013194866003808361,
          0.01294950638394809,
          0.01179473526991095,
          0.011034368711957763,
          0.008815296768535477,
          0.008472202474311725,
          0.007285357343799667,
          0.0072334616076015655,
          0.007167350706824854,
          0.005628854672886345,
          0.005014374983120808,
          0.004415040476998767,
          0.00399639082507935,
          0.003537048745197746,
          0.0020999695437554115,
          0.0018225492088141271,
          0.0015413383398381903,
          0.0013269194037500097,
          0.0005084008160525235
         ],
         "y": [
          "title_count",
          "script_async_true",
          "div_count",
          "script_src_.js",
          "script_src_out_of_domain",
          "a_href_https",
          "li_count",
          "br_count",
          "link_href_out_of_domain",
          "meta_count",
          "p_count",
          "a_href_http",
          "script_type_text/javascript",
          "span_count",
          "section_count",
          "link_type_text/css",
          "h1_count",
          "link_href_http",
          "link_href_.css",
          "strong_count",
          "iframe_src_https",
          "input_count",
          "form_action_out_of_domain",
          "b_count",
          "img_src_.jpg",
          "center_count",
          "script_defer_true",
          "form_action_http",
          "link_href_0",
          "a_href_.com",
          "link_type_application/rss+xml",
          "link_type_application/rsd+xml",
          "script_charset_UTF-8",
          "link_rel_shortlink",
          "a_href_.aspx"
         ]
        }
       ],
       "layout": {
        "autosize": false,
        "height": 1000,
        "width": 1000,
        "xaxis": {
         "tickfont": {
          "color": "black",
          "size": 12
         },
         "title": "Feature Importances"
        },
        "yaxis": {
         "automargin": true
        }
       }
      },
      "text/html": [
       "<div id=\"b6e5dc03-78ef-4034-b220-23c8cc03995e\" style=\"height: 1000px; width: 1000px;\" class=\"plotly-graph-div\"></div><script type=\"text/javascript\">require([\"plotly\"], function(Plotly) { window.PLOTLYENV=window.PLOTLYENV || {};window.PLOTLYENV.BASE_URL=\"https://plot.ly\";Plotly.newPlot(\"b6e5dc03-78ef-4034-b220-23c8cc03995e\", [{\"marker\": {\"color\": \"rgb(158,202,225)\", \"line\": {\"color\": \"rgb(8,48,107)\", \"width\": 1.5}}, \"opacity\": 0.6, \"orientation\": \"h\", \"text\": [0.2278, 0.1151, 0.0847, 0.0654, 0.0566, 0.0507, 0.048, 0.047, 0.0342, 0.0303, 0.0237, 0.0225, 0.0224, 0.0204, 0.0182, 0.015, 0.0132, 0.0129, 0.0118, 0.011, 0.0088, 0.0085, 0.0073, 0.0072, 0.0072, 0.0056, 0.005, 0.0044, 0.004, 0.0035, 0.0021, 0.0018, 0.0015, 0.0013, 0.0005], \"textposition\": \"outside\", \"x\": [0.22779891246068534, 0.11512675413977991, 0.08471882691439879, 0.06535215413606432, 0.05663160297176466, 0.05070318775539345, 0.04801391803415647, 0.047016584003622054, 0.03424081058069114, 0.0302785391224508, 0.023714665803389347, 0.02251562425130859, 0.02241699598483218, 0.020400792409007103, 0.018242360022239296, 0.014990239124024802, 0.013194866003808361, 0.01294950638394809, 0.01179473526991095, 0.011034368711957763, 0.008815296768535477, 0.008472202474311725, 0.007285357343799667, 0.0072334616076015655, 0.007167350706824854, 0.005628854672886345, 0.005014374983120808, 0.004415040476998767, 0.00399639082507935, 0.003537048745197746, 0.0020999695437554115, 0.0018225492088141271, 0.0015413383398381903, 0.0013269194037500097, 0.0005084008160525235], \"y\": [\"title_count\", \"script_async_true\", \"div_count\", \"script_src_.js\", \"script_src_out_of_domain\", \"a_href_https\", \"li_count\", \"br_count\", \"link_href_out_of_domain\", \"meta_count\", \"p_count\", \"a_href_http\", \"script_type_text/javascript\", \"span_count\", \"section_count\", \"link_type_text/css\", \"h1_count\", \"link_href_http\", \"link_href_.css\", \"strong_count\", \"iframe_src_https\", \"input_count\", \"form_action_out_of_domain\", \"b_count\", \"img_src_.jpg\", \"center_count\", \"script_defer_true\", \"form_action_http\", \"link_href_0\", \"a_href_.com\", \"link_type_application/rss+xml\", \"link_type_application/rsd+xml\", \"script_charset_UTF-8\", \"link_rel_shortlink\", \"a_href_.aspx\"], \"type\": \"bar\", \"uid\": \"1d139229-58cc-4e75-b150-4d21660e5bf3\"}], {\"autosize\": false, \"height\": 1000, \"width\": 1000, \"xaxis\": {\"tickfont\": {\"color\": \"black\", \"size\": 12}, \"title\": \"Feature Importances\"}, \"yaxis\": {\"automargin\": true}}, {\"showLink\": true, \"linkText\": \"Export to plot.ly\", \"plotlyServerURL\": \"https://plot.ly\"})});</script>"
      ],
      "text/vnd.plotly.v1+html": [
       "<div id=\"b6e5dc03-78ef-4034-b220-23c8cc03995e\" style=\"height: 1000px; width: 1000px;\" class=\"plotly-graph-div\"></div><script type=\"text/javascript\">require([\"plotly\"], function(Plotly) { window.PLOTLYENV=window.PLOTLYENV || {};window.PLOTLYENV.BASE_URL=\"https://plot.ly\";Plotly.newPlot(\"b6e5dc03-78ef-4034-b220-23c8cc03995e\", [{\"marker\": {\"color\": \"rgb(158,202,225)\", \"line\": {\"color\": \"rgb(8,48,107)\", \"width\": 1.5}}, \"opacity\": 0.6, \"orientation\": \"h\", \"text\": [0.2278, 0.1151, 0.0847, 0.0654, 0.0566, 0.0507, 0.048, 0.047, 0.0342, 0.0303, 0.0237, 0.0225, 0.0224, 0.0204, 0.0182, 0.015, 0.0132, 0.0129, 0.0118, 0.011, 0.0088, 0.0085, 0.0073, 0.0072, 0.0072, 0.0056, 0.005, 0.0044, 0.004, 0.0035, 0.0021, 0.0018, 0.0015, 0.0013, 0.0005], \"textposition\": \"outside\", \"x\": [0.22779891246068534, 0.11512675413977991, 0.08471882691439879, 0.06535215413606432, 0.05663160297176466, 0.05070318775539345, 0.04801391803415647, 0.047016584003622054, 0.03424081058069114, 0.0302785391224508, 0.023714665803389347, 0.02251562425130859, 0.02241699598483218, 0.020400792409007103, 0.018242360022239296, 0.014990239124024802, 0.013194866003808361, 0.01294950638394809, 0.01179473526991095, 0.011034368711957763, 0.008815296768535477, 0.008472202474311725, 0.007285357343799667, 0.0072334616076015655, 0.007167350706824854, 0.005628854672886345, 0.005014374983120808, 0.004415040476998767, 0.00399639082507935, 0.003537048745197746, 0.0020999695437554115, 0.0018225492088141271, 0.0015413383398381903, 0.0013269194037500097, 0.0005084008160525235], \"y\": [\"title_count\", \"script_async_true\", \"div_count\", \"script_src_.js\", \"script_src_out_of_domain\", \"a_href_https\", \"li_count\", \"br_count\", \"link_href_out_of_domain\", \"meta_count\", \"p_count\", \"a_href_http\", \"script_type_text/javascript\", \"span_count\", \"section_count\", \"link_type_text/css\", \"h1_count\", \"link_href_http\", \"link_href_.css\", \"strong_count\", \"iframe_src_https\", \"input_count\", \"form_action_out_of_domain\", \"b_count\", \"img_src_.jpg\", \"center_count\", \"script_defer_true\", \"form_action_http\", \"link_href_0\", \"a_href_.com\", \"link_type_application/rss+xml\", \"link_type_application/rsd+xml\", \"script_charset_UTF-8\", \"link_rel_shortlink\", \"a_href_.aspx\"], \"type\": \"bar\", \"uid\": \"1d139229-58cc-4e75-b150-4d21660e5bf3\"}], {\"autosize\": false, \"height\": 1000, \"width\": 1000, \"xaxis\": {\"tickfont\": {\"color\": \"black\", \"size\": 12}, \"title\": \"Feature Importances\"}, \"yaxis\": {\"automargin\": true}}, {\"showLink\": true, \"linkText\": \"Export to plot.ly\", \"plotlyServerURL\": \"https://plot.ly\"})});</script>"
      ]
     },
     "metadata": {},
     "output_type": "display_data"
    },
    {
     "name": "stdout",
     "output_type": "stream",
     "text": [
      "\n",
      "\n",
      "\u001b[1mAdaoost Classifier\u001b[0m\n",
      "Accuracy of the model for training data is: 0.8955130731835501\n",
      "Confusion Matrix for training data is:\n"
     ]
    },
    {
     "data": {
      "text/plain": [
       "Predicted  False  True  __all__\n",
       "Actual                         \n",
       "False      23541  2475    26016\n",
       "True         706  3722     4428\n",
       "__all__    24247  6197    30444"
      ]
     },
     "metadata": {},
     "output_type": "display_data"
    },
    {
     "name": "stdout",
     "output_type": "stream",
     "text": [
      "Accuracy of the model for test data is: 0.8953016019008201\n",
      "Confusion Matrix for test data is:\n"
     ]
    },
    {
     "data": {
      "text/plain": [
       "Predicted  False  True  __all__\n",
       "Actual                         \n",
       "False      10040  1058    11098\n",
       "True         308  1641     1949\n",
       "__all__    10348  2699    13047"
      ]
     },
     "metadata": {},
     "output_type": "display_data"
    },
    {
     "data": {
      "application/vnd.plotly.v1+json": {
       "config": {
        "linkText": "Export to plot.ly",
        "plotlyServerURL": "https://plot.ly",
        "showLink": true
       },
       "data": [
        {
         "marker": {
          "color": "rgb(158,202,225)",
          "line": {
           "color": "rgb(8,48,107)",
           "width": 1.5
          }
         },
         "opacity": 0.6,
         "orientation": "h",
         "text": [
          0.08,
          0.06,
          0.06,
          0.06,
          0.06,
          0.04,
          0.04,
          0.04,
          0.04,
          0.04,
          0.04,
          0.04,
          0.04,
          0.04,
          0.04,
          0.02,
          0.02,
          0.02,
          0.02,
          0.02,
          0.02,
          0.02,
          0.02,
          0.02,
          0.02,
          0.02,
          0.02,
          0.02,
          0.02,
          0,
          0,
          0,
          0,
          0,
          0
         ],
         "textposition": "outside",
         "type": "bar",
         "uid": "b65a3790-e656-440b-a58d-1e6fbefab88c",
         "x": [
          0.08,
          0.06,
          0.06,
          0.06,
          0.06,
          0.04,
          0.04,
          0.04,
          0.04,
          0.04,
          0.04,
          0.04,
          0.04,
          0.04,
          0.04,
          0.02,
          0.02,
          0.02,
          0.02,
          0.02,
          0.02,
          0.02,
          0.02,
          0.02,
          0.02,
          0.02,
          0.02,
          0.02,
          0.02,
          0,
          0,
          0,
          0,
          0,
          0
         ],
         "y": [
          "title_count",
          "a_href_https",
          "b_count",
          "script_async_true",
          "li_count",
          "img_src_.jpg",
          "link_href_out_of_domain",
          "meta_count",
          "p_count",
          "input_count",
          "script_defer_true",
          "span_count",
          "br_count",
          "a_href_http",
          "link_type_text/css",
          "script_charset_UTF-8",
          "link_type_application/rsd+xml",
          "script_src_out_of_domain",
          "section_count",
          "strong_count",
          "a_href_.aspx",
          "link_rel_shortlink",
          "a_href_.com",
          "link_href_0",
          "link_href_.css",
          "iframe_src_https",
          "form_action_http",
          "center_count",
          "link_href_http",
          "link_type_application/rss+xml",
          "h1_count",
          "script_src_.js",
          "form_action_out_of_domain",
          "script_type_text/javascript",
          "div_count"
         ]
        }
       ],
       "layout": {
        "autosize": false,
        "height": 1000,
        "width": 1000,
        "xaxis": {
         "tickfont": {
          "color": "black",
          "size": 12
         },
         "title": "Feature Importances"
        },
        "yaxis": {
         "automargin": true
        }
       }
      },
      "text/html": [
       "<div id=\"3eb28bff-f02f-44e9-9bf3-f96c63aa3a4d\" style=\"height: 1000px; width: 1000px;\" class=\"plotly-graph-div\"></div><script type=\"text/javascript\">require([\"plotly\"], function(Plotly) { window.PLOTLYENV=window.PLOTLYENV || {};window.PLOTLYENV.BASE_URL=\"https://plot.ly\";Plotly.newPlot(\"3eb28bff-f02f-44e9-9bf3-f96c63aa3a4d\", [{\"marker\": {\"color\": \"rgb(158,202,225)\", \"line\": {\"color\": \"rgb(8,48,107)\", \"width\": 1.5}}, \"opacity\": 0.6, \"orientation\": \"h\", \"text\": [0.08, 0.06, 0.06, 0.06, 0.06, 0.04, 0.04, 0.04, 0.04, 0.04, 0.04, 0.04, 0.04, 0.04, 0.04, 0.02, 0.02, 0.02, 0.02, 0.02, 0.02, 0.02, 0.02, 0.02, 0.02, 0.02, 0.02, 0.02, 0.02, 0.0, 0.0, 0.0, 0.0, 0.0, 0.0], \"textposition\": \"outside\", \"x\": [0.08, 0.06, 0.06, 0.06, 0.06, 0.04, 0.04, 0.04, 0.04, 0.04, 0.04, 0.04, 0.04, 0.04, 0.04, 0.02, 0.02, 0.02, 0.02, 0.02, 0.02, 0.02, 0.02, 0.02, 0.02, 0.02, 0.02, 0.02, 0.02, 0.0, 0.0, 0.0, 0.0, 0.0, 0.0], \"y\": [\"title_count\", \"a_href_https\", \"b_count\", \"script_async_true\", \"li_count\", \"img_src_.jpg\", \"link_href_out_of_domain\", \"meta_count\", \"p_count\", \"input_count\", \"script_defer_true\", \"span_count\", \"br_count\", \"a_href_http\", \"link_type_text/css\", \"script_charset_UTF-8\", \"link_type_application/rsd+xml\", \"script_src_out_of_domain\", \"section_count\", \"strong_count\", \"a_href_.aspx\", \"link_rel_shortlink\", \"a_href_.com\", \"link_href_0\", \"link_href_.css\", \"iframe_src_https\", \"form_action_http\", \"center_count\", \"link_href_http\", \"link_type_application/rss+xml\", \"h1_count\", \"script_src_.js\", \"form_action_out_of_domain\", \"script_type_text/javascript\", \"div_count\"], \"type\": \"bar\", \"uid\": \"b65a3790-e656-440b-a58d-1e6fbefab88c\"}], {\"autosize\": false, \"height\": 1000, \"width\": 1000, \"xaxis\": {\"tickfont\": {\"color\": \"black\", \"size\": 12}, \"title\": \"Feature Importances\"}, \"yaxis\": {\"automargin\": true}}, {\"showLink\": true, \"linkText\": \"Export to plot.ly\", \"plotlyServerURL\": \"https://plot.ly\"})});</script>"
      ],
      "text/vnd.plotly.v1+html": [
       "<div id=\"3eb28bff-f02f-44e9-9bf3-f96c63aa3a4d\" style=\"height: 1000px; width: 1000px;\" class=\"plotly-graph-div\"></div><script type=\"text/javascript\">require([\"plotly\"], function(Plotly) { window.PLOTLYENV=window.PLOTLYENV || {};window.PLOTLYENV.BASE_URL=\"https://plot.ly\";Plotly.newPlot(\"3eb28bff-f02f-44e9-9bf3-f96c63aa3a4d\", [{\"marker\": {\"color\": \"rgb(158,202,225)\", \"line\": {\"color\": \"rgb(8,48,107)\", \"width\": 1.5}}, \"opacity\": 0.6, \"orientation\": \"h\", \"text\": [0.08, 0.06, 0.06, 0.06, 0.06, 0.04, 0.04, 0.04, 0.04, 0.04, 0.04, 0.04, 0.04, 0.04, 0.04, 0.02, 0.02, 0.02, 0.02, 0.02, 0.02, 0.02, 0.02, 0.02, 0.02, 0.02, 0.02, 0.02, 0.02, 0.0, 0.0, 0.0, 0.0, 0.0, 0.0], \"textposition\": \"outside\", \"x\": [0.08, 0.06, 0.06, 0.06, 0.06, 0.04, 0.04, 0.04, 0.04, 0.04, 0.04, 0.04, 0.04, 0.04, 0.04, 0.02, 0.02, 0.02, 0.02, 0.02, 0.02, 0.02, 0.02, 0.02, 0.02, 0.02, 0.02, 0.02, 0.02, 0.0, 0.0, 0.0, 0.0, 0.0, 0.0], \"y\": [\"title_count\", \"a_href_https\", \"b_count\", \"script_async_true\", \"li_count\", \"img_src_.jpg\", \"link_href_out_of_domain\", \"meta_count\", \"p_count\", \"input_count\", \"script_defer_true\", \"span_count\", \"br_count\", \"a_href_http\", \"link_type_text/css\", \"script_charset_UTF-8\", \"link_type_application/rsd+xml\", \"script_src_out_of_domain\", \"section_count\", \"strong_count\", \"a_href_.aspx\", \"link_rel_shortlink\", \"a_href_.com\", \"link_href_0\", \"link_href_.css\", \"iframe_src_https\", \"form_action_http\", \"center_count\", \"link_href_http\", \"link_type_application/rss+xml\", \"h1_count\", \"script_src_.js\", \"form_action_out_of_domain\", \"script_type_text/javascript\", \"div_count\"], \"type\": \"bar\", \"uid\": \"b65a3790-e656-440b-a58d-1e6fbefab88c\"}], {\"autosize\": false, \"height\": 1000, \"width\": 1000, \"xaxis\": {\"tickfont\": {\"color\": \"black\", \"size\": 12}, \"title\": \"Feature Importances\"}, \"yaxis\": {\"automargin\": true}}, {\"showLink\": true, \"linkText\": \"Export to plot.ly\", \"plotlyServerURL\": \"https://plot.ly\"})});</script>"
      ]
     },
     "metadata": {},
     "output_type": "display_data"
    },
    {
     "name": "stdout",
     "output_type": "stream",
     "text": [
      "\n",
      "\n",
      "\u001b[1mGradientBoosting Classifier\u001b[0m\n",
      "Accuracy of the model for training data is: 0.9036263303113914\n",
      "Confusion Matrix for training data is:\n"
     ]
    },
    {
     "data": {
      "text/plain": [
       "Predicted  False  True  __all__\n",
       "Actual                         \n",
       "False      23682  2334    26016\n",
       "True         600  3828     4428\n",
       "__all__    24282  6162    30444"
      ]
     },
     "metadata": {},
     "output_type": "display_data"
    },
    {
     "name": "stdout",
     "output_type": "stream",
     "text": [
      "Accuracy of the model for test data is: 0.902046447459186\n",
      "Confusion Matrix for test data is:\n"
     ]
    },
    {
     "data": {
      "text/plain": [
       "Predicted  False  True  __all__\n",
       "Actual                         \n",
       "False      10094  1004    11098\n",
       "True         274  1675     1949\n",
       "__all__    10368  2679    13047"
      ]
     },
     "metadata": {},
     "output_type": "display_data"
    },
    {
     "data": {
      "application/vnd.plotly.v1+json": {
       "config": {
        "linkText": "Export to plot.ly",
        "plotlyServerURL": "https://plot.ly",
        "showLink": true
       },
       "data": [
        {
         "marker": {
          "color": "rgb(158,202,225)",
          "line": {
           "color": "rgb(8,48,107)",
           "width": 1.5
          }
         },
         "opacity": 0.6,
         "orientation": "h",
         "text": [
          0.7017,
          0.0594,
          0.0541,
          0.0462,
          0.0418,
          0.0168,
          0.0103,
          0.0102,
          0.0092,
          0.007,
          0.0055,
          0.0049,
          0.0046,
          0.0039,
          0.0033,
          0.0028,
          0.0022,
          0.0018,
          0.0017,
          0.0016,
          0.0016,
          0.0012,
          0.0012,
          0.0012,
          0.0008,
          0.0007,
          0.0007,
          0.0007,
          0.0006,
          0.0005,
          0.0005,
          0.0005,
          0.0004,
          0.0003,
          0
         ],
         "textposition": "outside",
         "type": "bar",
         "uid": "ee2f0607-aeab-43e9-97e6-1b5c0c1d75c5",
         "x": [
          0.7017292764103401,
          0.059405794001211175,
          0.05407752751559487,
          0.0461673126124378,
          0.041758043267702966,
          0.01679086101260893,
          0.01029827918961068,
          0.01015285518551194,
          0.00920524749722456,
          0.007017282054833363,
          0.005458517052872577,
          0.004930441075081347,
          0.0045974281991023,
          0.003930896247715816,
          0.0033362950473124304,
          0.0027776968010577254,
          0.002206343205614016,
          0.0018465314398569915,
          0.001736138833674222,
          0.0016028768197026083,
          0.0015811935818195988,
          0.001217770926398892,
          0.0011914820756505546,
          0.0011903594846170344,
          0.0007522980643325607,
          0.0007335219674348019,
          0.0007105942066347987,
          0.000699353606207789,
          0.0005664342420552531,
          0.0005477649842014031,
          0.0005240223244358734,
          0.0004643384573270886,
          0.0004474345354654622,
          0.00030083485830622003,
          4.695321604625312e-05
         ],
         "y": [
          "title_count",
          "link_href_out_of_domain",
          "div_count",
          "script_async_true",
          "meta_count",
          "section_count",
          "link_type_text/css",
          "a_href_https",
          "form_action_http",
          "a_href_http",
          "script_src_.js",
          "link_href_http",
          "p_count",
          "strong_count",
          "h1_count",
          "center_count",
          "li_count",
          "script_type_text/javascript",
          "input_count",
          "link_type_application/rss+xml",
          "link_rel_shortlink",
          "script_defer_true",
          "script_src_out_of_domain",
          "script_charset_UTF-8",
          "form_action_out_of_domain",
          "b_count",
          "br_count",
          "link_type_application/rsd+xml",
          "iframe_src_https",
          "span_count",
          "a_href_.com",
          "img_src_.jpg",
          "link_href_.css",
          "link_href_0",
          "a_href_.aspx"
         ]
        }
       ],
       "layout": {
        "autosize": false,
        "height": 1000,
        "width": 1000,
        "xaxis": {
         "tickfont": {
          "color": "black",
          "size": 12
         },
         "title": "Feature Importances"
        },
        "yaxis": {
         "automargin": true
        }
       }
      },
      "text/html": [
       "<div id=\"bbb70882-7235-48a7-9f4c-2c7d773305f4\" style=\"height: 1000px; width: 1000px;\" class=\"plotly-graph-div\"></div><script type=\"text/javascript\">require([\"plotly\"], function(Plotly) { window.PLOTLYENV=window.PLOTLYENV || {};window.PLOTLYENV.BASE_URL=\"https://plot.ly\";Plotly.newPlot(\"bbb70882-7235-48a7-9f4c-2c7d773305f4\", [{\"marker\": {\"color\": \"rgb(158,202,225)\", \"line\": {\"color\": \"rgb(8,48,107)\", \"width\": 1.5}}, \"opacity\": 0.6, \"orientation\": \"h\", \"text\": [0.7017, 0.0594, 0.0541, 0.0462, 0.0418, 0.0168, 0.0103, 0.0102, 0.0092, 0.007, 0.0055, 0.0049, 0.0046, 0.0039, 0.0033, 0.0028, 0.0022, 0.0018, 0.0017, 0.0016, 0.0016, 0.0012, 0.0012, 0.0012, 0.0008, 0.0007, 0.0007, 0.0007, 0.0006, 0.0005, 0.0005, 0.0005, 0.0004, 0.0003, 0.0], \"textposition\": \"outside\", \"x\": [0.7017292764103401, 0.059405794001211175, 0.05407752751559487, 0.0461673126124378, 0.041758043267702966, 0.01679086101260893, 0.01029827918961068, 0.01015285518551194, 0.00920524749722456, 0.007017282054833363, 0.005458517052872577, 0.004930441075081347, 0.0045974281991023, 0.003930896247715816, 0.0033362950473124304, 0.0027776968010577254, 0.002206343205614016, 0.0018465314398569915, 0.001736138833674222, 0.0016028768197026083, 0.0015811935818195988, 0.001217770926398892, 0.0011914820756505546, 0.0011903594846170344, 0.0007522980643325607, 0.0007335219674348019, 0.0007105942066347987, 0.000699353606207789, 0.0005664342420552531, 0.0005477649842014031, 0.0005240223244358734, 0.0004643384573270886, 0.0004474345354654622, 0.00030083485830622003, 4.695321604625312e-05], \"y\": [\"title_count\", \"link_href_out_of_domain\", \"div_count\", \"script_async_true\", \"meta_count\", \"section_count\", \"link_type_text/css\", \"a_href_https\", \"form_action_http\", \"a_href_http\", \"script_src_.js\", \"link_href_http\", \"p_count\", \"strong_count\", \"h1_count\", \"center_count\", \"li_count\", \"script_type_text/javascript\", \"input_count\", \"link_type_application/rss+xml\", \"link_rel_shortlink\", \"script_defer_true\", \"script_src_out_of_domain\", \"script_charset_UTF-8\", \"form_action_out_of_domain\", \"b_count\", \"br_count\", \"link_type_application/rsd+xml\", \"iframe_src_https\", \"span_count\", \"a_href_.com\", \"img_src_.jpg\", \"link_href_.css\", \"link_href_0\", \"a_href_.aspx\"], \"type\": \"bar\", \"uid\": \"ee2f0607-aeab-43e9-97e6-1b5c0c1d75c5\"}], {\"autosize\": false, \"height\": 1000, \"width\": 1000, \"xaxis\": {\"tickfont\": {\"color\": \"black\", \"size\": 12}, \"title\": \"Feature Importances\"}, \"yaxis\": {\"automargin\": true}}, {\"showLink\": true, \"linkText\": \"Export to plot.ly\", \"plotlyServerURL\": \"https://plot.ly\"})});</script>"
      ],
      "text/vnd.plotly.v1+html": [
       "<div id=\"bbb70882-7235-48a7-9f4c-2c7d773305f4\" style=\"height: 1000px; width: 1000px;\" class=\"plotly-graph-div\"></div><script type=\"text/javascript\">require([\"plotly\"], function(Plotly) { window.PLOTLYENV=window.PLOTLYENV || {};window.PLOTLYENV.BASE_URL=\"https://plot.ly\";Plotly.newPlot(\"bbb70882-7235-48a7-9f4c-2c7d773305f4\", [{\"marker\": {\"color\": \"rgb(158,202,225)\", \"line\": {\"color\": \"rgb(8,48,107)\", \"width\": 1.5}}, \"opacity\": 0.6, \"orientation\": \"h\", \"text\": [0.7017, 0.0594, 0.0541, 0.0462, 0.0418, 0.0168, 0.0103, 0.0102, 0.0092, 0.007, 0.0055, 0.0049, 0.0046, 0.0039, 0.0033, 0.0028, 0.0022, 0.0018, 0.0017, 0.0016, 0.0016, 0.0012, 0.0012, 0.0012, 0.0008, 0.0007, 0.0007, 0.0007, 0.0006, 0.0005, 0.0005, 0.0005, 0.0004, 0.0003, 0.0], \"textposition\": \"outside\", \"x\": [0.7017292764103401, 0.059405794001211175, 0.05407752751559487, 0.0461673126124378, 0.041758043267702966, 0.01679086101260893, 0.01029827918961068, 0.01015285518551194, 0.00920524749722456, 0.007017282054833363, 0.005458517052872577, 0.004930441075081347, 0.0045974281991023, 0.003930896247715816, 0.0033362950473124304, 0.0027776968010577254, 0.002206343205614016, 0.0018465314398569915, 0.001736138833674222, 0.0016028768197026083, 0.0015811935818195988, 0.001217770926398892, 0.0011914820756505546, 0.0011903594846170344, 0.0007522980643325607, 0.0007335219674348019, 0.0007105942066347987, 0.000699353606207789, 0.0005664342420552531, 0.0005477649842014031, 0.0005240223244358734, 0.0004643384573270886, 0.0004474345354654622, 0.00030083485830622003, 4.695321604625312e-05], \"y\": [\"title_count\", \"link_href_out_of_domain\", \"div_count\", \"script_async_true\", \"meta_count\", \"section_count\", \"link_type_text/css\", \"a_href_https\", \"form_action_http\", \"a_href_http\", \"script_src_.js\", \"link_href_http\", \"p_count\", \"strong_count\", \"h1_count\", \"center_count\", \"li_count\", \"script_type_text/javascript\", \"input_count\", \"link_type_application/rss+xml\", \"link_rel_shortlink\", \"script_defer_true\", \"script_src_out_of_domain\", \"script_charset_UTF-8\", \"form_action_out_of_domain\", \"b_count\", \"br_count\", \"link_type_application/rsd+xml\", \"iframe_src_https\", \"span_count\", \"a_href_.com\", \"img_src_.jpg\", \"link_href_.css\", \"link_href_0\", \"a_href_.aspx\"], \"type\": \"bar\", \"uid\": \"ee2f0607-aeab-43e9-97e6-1b5c0c1d75c5\"}], {\"autosize\": false, \"height\": 1000, \"width\": 1000, \"xaxis\": {\"tickfont\": {\"color\": \"black\", \"size\": 12}, \"title\": \"Feature Importances\"}, \"yaxis\": {\"automargin\": true}}, {\"showLink\": true, \"linkText\": \"Export to plot.ly\", \"plotlyServerURL\": \"https://plot.ly\"})});</script>"
      ]
     },
     "metadata": {},
     "output_type": "display_data"
    },
    {
     "name": "stdout",
     "output_type": "stream",
     "text": [
      "\n",
      "\n",
      "\u001b[1mExtraTree Classifier\u001b[0m\n",
      "Accuracy of the model for training data is: 0.9199513861516226\n",
      "Confusion Matrix for training data is:\n"
     ]
    },
    {
     "data": {
      "text/plain": [
       "Predicted  False  True  __all__\n",
       "Actual                         \n",
       "False      23706  2310    26016\n",
       "True         127  4301     4428\n",
       "__all__    23833  6611    30444"
      ]
     },
     "metadata": {},
     "output_type": "display_data"
    },
    {
     "name": "stdout",
     "output_type": "stream",
     "text": [
      "Accuracy of the model for test data is: 0.9091745228788227\n",
      "Confusion Matrix for test data is:\n"
     ]
    },
    {
     "data": {
      "text/plain": [
       "Predicted  False  True  __all__\n",
       "Actual                         \n",
       "False      10109   989    11098\n",
       "True         196  1753     1949\n",
       "__all__    10305  2742    13047"
      ]
     },
     "metadata": {},
     "output_type": "display_data"
    },
    {
     "data": {
      "application/vnd.plotly.v1+json": {
       "config": {
        "linkText": "Export to plot.ly",
        "plotlyServerURL": "https://plot.ly",
        "showLink": true
       },
       "data": [
        {
         "marker": {
          "color": "rgb(158,202,225)",
          "line": {
           "color": "rgb(8,48,107)",
           "width": 1.5
          }
         },
         "opacity": 0.6,
         "orientation": "h",
         "text": [
          0.1068,
          0.0961,
          0.0734,
          0.0689,
          0.0458,
          0.0434,
          0.0417,
          0.0409,
          0.0376,
          0.0319,
          0.0303,
          0.029,
          0.0285,
          0.0275,
          0.0261,
          0.0259,
          0.0244,
          0.0219,
          0.0217,
          0.0206,
          0.0204,
          0.0182,
          0.018,
          0.0177,
          0.0161,
          0.0128,
          0.0095,
          0.0094,
          0.0082,
          0.0071,
          0.0069,
          0.0055,
          0.0044,
          0.0025,
          0.001
         ],
         "textposition": "outside",
         "type": "bar",
         "uid": "afd9f9ef-b825-4ca8-ab36-2566fc77da7d",
         "x": [
          0.10680134910675403,
          0.09608439186223028,
          0.07337991134601805,
          0.06894585940544794,
          0.04582151711126048,
          0.043407412495165006,
          0.041708137133879754,
          0.04093012326027085,
          0.03757182215956479,
          0.03189910199352894,
          0.030321075384271878,
          0.029036696164881415,
          0.02847056541126731,
          0.02748257990066842,
          0.02611221927635066,
          0.025854615553249458,
          0.02435125301609467,
          0.021911450982580415,
          0.02167711264198666,
          0.020598739602845046,
          0.02037388425021174,
          0.01816900817358078,
          0.018013477999283812,
          0.017690006084470303,
          0.016098884525506774,
          0.012800559962412417,
          0.009474337210964434,
          0.009439650766212284,
          0.008184812930909816,
          0.007058350655187671,
          0.00692653507206344,
          0.005520310047653055,
          0.004393523953535724,
          0.002516603180026151,
          0.0009741213796653802
         ],
         "y": [
          "script_async_true",
          "script_src_out_of_domain",
          "link_href_.css",
          "link_type_text/css",
          "script_type_text/javascript",
          "h1_count",
          "img_src_.jpg",
          "li_count",
          "meta_count",
          "a_href_http",
          "br_count",
          "title_count",
          "a_href_https",
          "p_count",
          "form_action_out_of_domain",
          "link_href_http",
          "iframe_src_https",
          "div_count",
          "script_src_.js",
          "b_count",
          "section_count",
          "form_action_http",
          "link_href_out_of_domain",
          "input_count",
          "span_count",
          "link_href_0",
          "center_count",
          "strong_count",
          "link_type_application/rsd+xml",
          "script_defer_true",
          "script_charset_UTF-8",
          "a_href_.com",
          "link_type_application/rss+xml",
          "link_rel_shortlink",
          "a_href_.aspx"
         ]
        }
       ],
       "layout": {
        "autosize": false,
        "height": 1000,
        "width": 1000,
        "xaxis": {
         "tickfont": {
          "color": "black",
          "size": 12
         },
         "title": "Feature Importances"
        },
        "yaxis": {
         "automargin": true
        }
       }
      },
      "text/html": [
       "<div id=\"42283f33-dcae-4d7d-874e-38da0bf55ba0\" style=\"height: 1000px; width: 1000px;\" class=\"plotly-graph-div\"></div><script type=\"text/javascript\">require([\"plotly\"], function(Plotly) { window.PLOTLYENV=window.PLOTLYENV || {};window.PLOTLYENV.BASE_URL=\"https://plot.ly\";Plotly.newPlot(\"42283f33-dcae-4d7d-874e-38da0bf55ba0\", [{\"marker\": {\"color\": \"rgb(158,202,225)\", \"line\": {\"color\": \"rgb(8,48,107)\", \"width\": 1.5}}, \"opacity\": 0.6, \"orientation\": \"h\", \"text\": [0.1068, 0.0961, 0.0734, 0.0689, 0.0458, 0.0434, 0.0417, 0.0409, 0.0376, 0.0319, 0.0303, 0.029, 0.0285, 0.0275, 0.0261, 0.0259, 0.0244, 0.0219, 0.0217, 0.0206, 0.0204, 0.0182, 0.018, 0.0177, 0.0161, 0.0128, 0.0095, 0.0094, 0.0082, 0.0071, 0.0069, 0.0055, 0.0044, 0.0025, 0.001], \"textposition\": \"outside\", \"x\": [0.10680134910675403, 0.09608439186223028, 0.07337991134601805, 0.06894585940544794, 0.04582151711126048, 0.043407412495165006, 0.041708137133879754, 0.04093012326027085, 0.03757182215956479, 0.03189910199352894, 0.030321075384271878, 0.029036696164881415, 0.02847056541126731, 0.02748257990066842, 0.02611221927635066, 0.025854615553249458, 0.02435125301609467, 0.021911450982580415, 0.02167711264198666, 0.020598739602845046, 0.02037388425021174, 0.01816900817358078, 0.018013477999283812, 0.017690006084470303, 0.016098884525506774, 0.012800559962412417, 0.009474337210964434, 0.009439650766212284, 0.008184812930909816, 0.007058350655187671, 0.00692653507206344, 0.005520310047653055, 0.004393523953535724, 0.002516603180026151, 0.0009741213796653802], \"y\": [\"script_async_true\", \"script_src_out_of_domain\", \"link_href_.css\", \"link_type_text/css\", \"script_type_text/javascript\", \"h1_count\", \"img_src_.jpg\", \"li_count\", \"meta_count\", \"a_href_http\", \"br_count\", \"title_count\", \"a_href_https\", \"p_count\", \"form_action_out_of_domain\", \"link_href_http\", \"iframe_src_https\", \"div_count\", \"script_src_.js\", \"b_count\", \"section_count\", \"form_action_http\", \"link_href_out_of_domain\", \"input_count\", \"span_count\", \"link_href_0\", \"center_count\", \"strong_count\", \"link_type_application/rsd+xml\", \"script_defer_true\", \"script_charset_UTF-8\", \"a_href_.com\", \"link_type_application/rss+xml\", \"link_rel_shortlink\", \"a_href_.aspx\"], \"type\": \"bar\", \"uid\": \"afd9f9ef-b825-4ca8-ab36-2566fc77da7d\"}], {\"autosize\": false, \"height\": 1000, \"width\": 1000, \"xaxis\": {\"tickfont\": {\"color\": \"black\", \"size\": 12}, \"title\": \"Feature Importances\"}, \"yaxis\": {\"automargin\": true}}, {\"showLink\": true, \"linkText\": \"Export to plot.ly\", \"plotlyServerURL\": \"https://plot.ly\"})});</script>"
      ],
      "text/vnd.plotly.v1+html": [
       "<div id=\"42283f33-dcae-4d7d-874e-38da0bf55ba0\" style=\"height: 1000px; width: 1000px;\" class=\"plotly-graph-div\"></div><script type=\"text/javascript\">require([\"plotly\"], function(Plotly) { window.PLOTLYENV=window.PLOTLYENV || {};window.PLOTLYENV.BASE_URL=\"https://plot.ly\";Plotly.newPlot(\"42283f33-dcae-4d7d-874e-38da0bf55ba0\", [{\"marker\": {\"color\": \"rgb(158,202,225)\", \"line\": {\"color\": \"rgb(8,48,107)\", \"width\": 1.5}}, \"opacity\": 0.6, \"orientation\": \"h\", \"text\": [0.1068, 0.0961, 0.0734, 0.0689, 0.0458, 0.0434, 0.0417, 0.0409, 0.0376, 0.0319, 0.0303, 0.029, 0.0285, 0.0275, 0.0261, 0.0259, 0.0244, 0.0219, 0.0217, 0.0206, 0.0204, 0.0182, 0.018, 0.0177, 0.0161, 0.0128, 0.0095, 0.0094, 0.0082, 0.0071, 0.0069, 0.0055, 0.0044, 0.0025, 0.001], \"textposition\": \"outside\", \"x\": [0.10680134910675403, 0.09608439186223028, 0.07337991134601805, 0.06894585940544794, 0.04582151711126048, 0.043407412495165006, 0.041708137133879754, 0.04093012326027085, 0.03757182215956479, 0.03189910199352894, 0.030321075384271878, 0.029036696164881415, 0.02847056541126731, 0.02748257990066842, 0.02611221927635066, 0.025854615553249458, 0.02435125301609467, 0.021911450982580415, 0.02167711264198666, 0.020598739602845046, 0.02037388425021174, 0.01816900817358078, 0.018013477999283812, 0.017690006084470303, 0.016098884525506774, 0.012800559962412417, 0.009474337210964434, 0.009439650766212284, 0.008184812930909816, 0.007058350655187671, 0.00692653507206344, 0.005520310047653055, 0.004393523953535724, 0.002516603180026151, 0.0009741213796653802], \"y\": [\"script_async_true\", \"script_src_out_of_domain\", \"link_href_.css\", \"link_type_text/css\", \"script_type_text/javascript\", \"h1_count\", \"img_src_.jpg\", \"li_count\", \"meta_count\", \"a_href_http\", \"br_count\", \"title_count\", \"a_href_https\", \"p_count\", \"form_action_out_of_domain\", \"link_href_http\", \"iframe_src_https\", \"div_count\", \"script_src_.js\", \"b_count\", \"section_count\", \"form_action_http\", \"link_href_out_of_domain\", \"input_count\", \"span_count\", \"link_href_0\", \"center_count\", \"strong_count\", \"link_type_application/rsd+xml\", \"script_defer_true\", \"script_charset_UTF-8\", \"a_href_.com\", \"link_type_application/rss+xml\", \"link_rel_shortlink\", \"a_href_.aspx\"], \"type\": \"bar\", \"uid\": \"afd9f9ef-b825-4ca8-ab36-2566fc77da7d\"}], {\"autosize\": false, \"height\": 1000, \"width\": 1000, \"xaxis\": {\"tickfont\": {\"color\": \"black\", \"size\": 12}, \"title\": \"Feature Importances\"}, \"yaxis\": {\"automargin\": true}}, {\"showLink\": true, \"linkText\": \"Export to plot.ly\", \"plotlyServerURL\": \"https://plot.ly\"})});</script>"
      ]
     },
     "metadata": {},
     "output_type": "display_data"
    },
    {
     "name": "stdout",
     "output_type": "stream",
     "text": [
      "\n",
      "\n",
      "\u001b[1mBagging Classifier\u001b[0m\n",
      "Accuracy of the model for training data is: 0.917684929707003\n",
      "Confusion Matrix for training data is:\n"
     ]
    },
    {
     "data": {
      "text/plain": [
       "Predicted  False  True  __all__\n",
       "Actual                         \n",
       "False      23700  2316    26016\n",
       "True         190  4238     4428\n",
       "__all__    23890  6554    30444"
      ]
     },
     "metadata": {},
     "output_type": "display_data"
    },
    {
     "name": "stdout",
     "output_type": "stream",
     "text": [
      "Accuracy of the model for test data is: 0.9071817276002146\n",
      "Confusion Matrix for test data is:\n"
     ]
    },
    {
     "data": {
      "text/plain": [
       "Predicted  False  True  __all__\n",
       "Actual                         \n",
       "False      10078  1020    11098\n",
       "True         191  1758     1949\n",
       "__all__    10269  2778    13047"
      ]
     },
     "metadata": {},
     "output_type": "display_data"
    },
    {
     "name": "stdout",
     "output_type": "stream",
     "text": [
      "\n",
      "\n",
      "\u001b[1mNeural Network-1\u001b[0m\n",
      "The accuracy of the model on training data is: 0.911345421101038\n"
     ]
    },
    {
     "data": {
      "text/plain": [
       "Predicted  False  True  __all__\n",
       "Actual                         \n",
       "False      23624  2392    26016\n",
       "True         307  4121     4428\n",
       "__all__    23931  6513    30444"
      ]
     },
     "metadata": {},
     "output_type": "display_data"
    },
    {
     "name": "stdout",
     "output_type": "stream",
     "text": [
      "The accuracy of the model on test data is: 0.8982907948187323\n"
     ]
    },
    {
     "data": {
      "text/plain": [
       "Predicted  False  True  __all__\n",
       "Actual                         \n",
       "False      10002  1096    11098\n",
       "True         231  1718     1949\n",
       "__all__    10233  2814    13047"
      ]
     },
     "metadata": {},
     "output_type": "display_data"
    },
    {
     "name": "stdout",
     "output_type": "stream",
     "text": [
      "\n",
      "\n"
     ]
    }
   ],
   "source": [
    "ind_columns=['KNeighborsClassifier','LogisticRegression','RandomForestClassifier','AdaBoostClassifier',\n",
    "             'GradientBoostingClassifier','ExtraTreeClassifier','BaggingClassifier','Neural Network-1']\n",
    "\n",
    "f=[KNN_model,Logistic_model,RandomForest,AdaBoost,GradientBoosting, ExtraTree,Bagging,DeepLearning1]\n",
    "\n",
    "## Table to store training and test measures\n",
    "table_80_50_train=pd.DataFrame(columns=['accuracy','TP','TN','FP','FN','FPR','FNR'])\n",
    "table_80_50_test=pd.DataFrame(columns=['accuracy','TP','TN','FP','FN','FPR','FNR','auc','MCC'])\n",
    "\n",
    "feat_imp=[None]*4\n",
    "j=0\n",
    "for i in range(0,8):\n",
    "    if i>=2 and i<=5:\n",
    "        model,cm_train,cm_test,acc_train,acc_test,roc_auc,feat_imp[j],mcc=f[i](scaled_X_train,train_Y,scaled_X_test,test_Y,columns)\n",
    "        j=j+1\n",
    "    else:\n",
    "        model,cm_train,cm_test,acc_train,acc_test,roc_auc,mcc=f[i](scaled_X_train,train_Y,scaled_X_test,test_Y)\n",
    "    table_80_50_train.loc[i]=   ([acc_train,cm_train.TP,cm_train.TN,cm_train.FP,cm_train.FN,cm_train.FPR,cm_train.FNR])\n",
    "    table_80_50_test.loc[i] =   ([acc_test ,cm_test.TP, cm_test.TN, cm_test.FP, cm_test.FN, cm_test.FPR, cm_test.FNR,roc_auc,mcc])\n",
    "    print(\"\\n\")"
   ]
  },
  {
   "cell_type": "markdown",
   "metadata": {},
   "source": [
    "### <a id='1.A' style=\"text-decoration : none; color : #000000;\"> A Results</a>"
   ]
  },
  {
   "cell_type": "code",
   "execution_count": 21,
   "metadata": {},
   "outputs": [
    {
     "data": {
      "application/vnd.plotly.v1+json": {
       "config": {
        "linkText": "Export to plot.ly",
        "plotlyServerURL": "https://plot.ly",
        "showLink": true
       },
       "data": [
        {
         "mode": "lines",
         "name": "KNN_model",
         "type": "scatter",
         "uid": "f0429853-4007-487b-8718-a24c6e5a0f93",
         "x": [
          "accuracy",
          "FPR",
          "FNR",
          "auc"
         ],
         "y": [
          0.9054955162106232,
          0.09235898360064877,
          0.10672139558748076,
          0.9004598104059351
         ]
        },
        {
         "mode": "lines+markers",
         "name": "Logistic Regression",
         "type": "scatter",
         "uid": "92e68974-2ad6-4eb4-9f8f-73be559e98ed",
         "x": [
          "accuracy",
          "FPR",
          "FNR",
          "auc"
         ],
         "y": [
          0.8877136506476585,
          0.0912777076950802,
          0.2319138019497178,
          0.838404245177601
         ]
        },
        {
         "marker": {
          "symbol": "x"
         },
         "mode": "lines+markers",
         "name": "Random Forest",
         "type": "scatter",
         "uid": "069b754f-0975-424e-8098-0dd9d399b74f",
         "x": [
          "accuracy",
          "FPR",
          "FNR",
          "auc"
         ],
         "y": [
          0.9082547712117728,
          0.08983600648765544,
          0.10261672652642381,
          0.9037736334929605
         ]
        },
        {
         "mode": "lines",
         "name": "Ada Boost",
         "type": "scatter",
         "uid": "d2d39bc4-5b3a-4782-aed0-5dc6e66d2e9f",
         "x": [
          "accuracy",
          "FPR",
          "FNR",
          "auc"
         ],
         "y": [
          0.8953016019008201,
          0.09533249234096233,
          0.15802975885069268,
          0.8733188744041724
         ]
        },
        {
         "mode": "lines+markers",
         "name": "GradientBoosting",
         "type": "scatter",
         "uid": "505c9155-1e6d-482b-8197-a4abdebfb14f",
         "x": [
          "accuracy",
          "FPR",
          "FNR",
          "auc"
         ],
         "y": [
          0.902046447459186,
          0.09046675076590377,
          0.14058491534120063,
          0.8844741669464478
         ]
        },
        {
         "marker": {
          "symbol": "x"
         },
         "mode": "lines+markers",
         "name": "ExtraTree Classifier",
         "type": "scatter",
         "uid": "84109923-f205-47ff-be8a-513b4045e568",
         "x": [
          "accuracy",
          "FPR",
          "FNR",
          "auc"
         ],
         "y": [
          0.9091745228788227,
          0.08911515588394306,
          0.10056439199589533,
          0.905160226060081
         ]
        },
        {
         "marker": {
          "symbol": "x"
         },
         "mode": "lines+markers",
         "name": "Bagging",
         "type": "scatter",
         "uid": "82d26e67-ed6b-471a-9d69-7e9dbfe099a6",
         "x": [
          "accuracy",
          "FPR",
          "FNR",
          "auc"
         ],
         "y": [
          0.9071817276002146,
          0.09190845197332853,
          0.09799897383273473,
          0.9050462870969684
         ]
        },
        {
         "marker": {
          "symbol": "x"
         },
         "mode": "lines+markers",
         "name": "Neural Network",
         "type": "scatter",
         "uid": "7f36b09e-6e83-42bf-92bd-8f7dad3823fd",
         "x": [
          "accuracy",
          "FPR",
          "FNR",
          "auc"
         ],
         "y": [
          0.8982907948187323,
          0.09875653270859615,
          0.1185223191380195,
          0.8913605740766921
         ]
        }
       ],
       "layout": {
        "title": "Result comparision for Features selected in Section 1",
        "yaxis": {
         "dtick": 0.05,
         "tick0": 0
        }
       }
      },
      "text/html": [
       "<div id=\"40def7bb-e89c-4b79-8ae2-3e6eafc6b9db\" style=\"height: 525px; width: 100%;\" class=\"plotly-graph-div\"></div><script type=\"text/javascript\">require([\"plotly\"], function(Plotly) { window.PLOTLYENV=window.PLOTLYENV || {};window.PLOTLYENV.BASE_URL=\"https://plot.ly\";Plotly.newPlot(\"40def7bb-e89c-4b79-8ae2-3e6eafc6b9db\", [{\"mode\": \"lines\", \"name\": \"KNN_model\", \"x\": [\"accuracy\", \"FPR\", \"FNR\", \"auc\"], \"y\": [0.9054955162106232, 0.09235898360064877, 0.10672139558748076, 0.9004598104059351], \"type\": \"scatter\", \"uid\": \"f0429853-4007-487b-8718-a24c6e5a0f93\"}, {\"mode\": \"lines+markers\", \"name\": \"Logistic Regression\", \"x\": [\"accuracy\", \"FPR\", \"FNR\", \"auc\"], \"y\": [0.8877136506476585, 0.0912777076950802, 0.2319138019497178, 0.838404245177601], \"type\": \"scatter\", \"uid\": \"92e68974-2ad6-4eb4-9f8f-73be559e98ed\"}, {\"marker\": {\"symbol\": \"x\"}, \"mode\": \"lines+markers\", \"name\": \"Random Forest\", \"x\": [\"accuracy\", \"FPR\", \"FNR\", \"auc\"], \"y\": [0.9082547712117728, 0.08983600648765544, 0.10261672652642381, 0.9037736334929605], \"type\": \"scatter\", \"uid\": \"069b754f-0975-424e-8098-0dd9d399b74f\"}, {\"mode\": \"lines\", \"name\": \"Ada Boost\", \"x\": [\"accuracy\", \"FPR\", \"FNR\", \"auc\"], \"y\": [0.8953016019008201, 0.09533249234096233, 0.15802975885069268, 0.8733188744041724], \"type\": \"scatter\", \"uid\": \"d2d39bc4-5b3a-4782-aed0-5dc6e66d2e9f\"}, {\"mode\": \"lines+markers\", \"name\": \"GradientBoosting\", \"x\": [\"accuracy\", \"FPR\", \"FNR\", \"auc\"], \"y\": [0.902046447459186, 0.09046675076590377, 0.14058491534120063, 0.8844741669464478], \"type\": \"scatter\", \"uid\": \"505c9155-1e6d-482b-8197-a4abdebfb14f\"}, {\"marker\": {\"symbol\": \"x\"}, \"mode\": \"lines+markers\", \"name\": \"ExtraTree Classifier\", \"x\": [\"accuracy\", \"FPR\", \"FNR\", \"auc\"], \"y\": [0.9091745228788227, 0.08911515588394306, 0.10056439199589533, 0.905160226060081], \"type\": \"scatter\", \"uid\": \"84109923-f205-47ff-be8a-513b4045e568\"}, {\"marker\": {\"symbol\": \"x\"}, \"mode\": \"lines+markers\", \"name\": \"Bagging\", \"x\": [\"accuracy\", \"FPR\", \"FNR\", \"auc\"], \"y\": [0.9071817276002146, 0.09190845197332853, 0.09799897383273473, 0.9050462870969684], \"type\": \"scatter\", \"uid\": \"82d26e67-ed6b-471a-9d69-7e9dbfe099a6\"}, {\"marker\": {\"symbol\": \"x\"}, \"mode\": \"lines+markers\", \"name\": \"Neural Network\", \"x\": [\"accuracy\", \"FPR\", \"FNR\", \"auc\"], \"y\": [0.8982907948187323, 0.09875653270859615, 0.1185223191380195, 0.8913605740766921], \"type\": \"scatter\", \"uid\": \"7f36b09e-6e83-42bf-92bd-8f7dad3823fd\"}], {\"title\": \"Result comparision for Features selected in Section 1\", \"yaxis\": {\"dtick\": 0.05, \"tick0\": 0}}, {\"showLink\": true, \"linkText\": \"Export to plot.ly\", \"plotlyServerURL\": \"https://plot.ly\"})});</script><script type=\"text/javascript\">window.addEventListener(\"resize\", function(){window._Plotly.Plots.resize(document.getElementById(\"40def7bb-e89c-4b79-8ae2-3e6eafc6b9db\"));});</script>"
      ],
      "text/vnd.plotly.v1+html": [
       "<div id=\"40def7bb-e89c-4b79-8ae2-3e6eafc6b9db\" style=\"height: 525px; width: 100%;\" class=\"plotly-graph-div\"></div><script type=\"text/javascript\">require([\"plotly\"], function(Plotly) { window.PLOTLYENV=window.PLOTLYENV || {};window.PLOTLYENV.BASE_URL=\"https://plot.ly\";Plotly.newPlot(\"40def7bb-e89c-4b79-8ae2-3e6eafc6b9db\", [{\"mode\": \"lines\", \"name\": \"KNN_model\", \"x\": [\"accuracy\", \"FPR\", \"FNR\", \"auc\"], \"y\": [0.9054955162106232, 0.09235898360064877, 0.10672139558748076, 0.9004598104059351], \"type\": \"scatter\", \"uid\": \"f0429853-4007-487b-8718-a24c6e5a0f93\"}, {\"mode\": \"lines+markers\", \"name\": \"Logistic Regression\", \"x\": [\"accuracy\", \"FPR\", \"FNR\", \"auc\"], \"y\": [0.8877136506476585, 0.0912777076950802, 0.2319138019497178, 0.838404245177601], \"type\": \"scatter\", \"uid\": \"92e68974-2ad6-4eb4-9f8f-73be559e98ed\"}, {\"marker\": {\"symbol\": \"x\"}, \"mode\": \"lines+markers\", \"name\": \"Random Forest\", \"x\": [\"accuracy\", \"FPR\", \"FNR\", \"auc\"], \"y\": [0.9082547712117728, 0.08983600648765544, 0.10261672652642381, 0.9037736334929605], \"type\": \"scatter\", \"uid\": \"069b754f-0975-424e-8098-0dd9d399b74f\"}, {\"mode\": \"lines\", \"name\": \"Ada Boost\", \"x\": [\"accuracy\", \"FPR\", \"FNR\", \"auc\"], \"y\": [0.8953016019008201, 0.09533249234096233, 0.15802975885069268, 0.8733188744041724], \"type\": \"scatter\", \"uid\": \"d2d39bc4-5b3a-4782-aed0-5dc6e66d2e9f\"}, {\"mode\": \"lines+markers\", \"name\": \"GradientBoosting\", \"x\": [\"accuracy\", \"FPR\", \"FNR\", \"auc\"], \"y\": [0.902046447459186, 0.09046675076590377, 0.14058491534120063, 0.8844741669464478], \"type\": \"scatter\", \"uid\": \"505c9155-1e6d-482b-8197-a4abdebfb14f\"}, {\"marker\": {\"symbol\": \"x\"}, \"mode\": \"lines+markers\", \"name\": \"ExtraTree Classifier\", \"x\": [\"accuracy\", \"FPR\", \"FNR\", \"auc\"], \"y\": [0.9091745228788227, 0.08911515588394306, 0.10056439199589533, 0.905160226060081], \"type\": \"scatter\", \"uid\": \"84109923-f205-47ff-be8a-513b4045e568\"}, {\"marker\": {\"symbol\": \"x\"}, \"mode\": \"lines+markers\", \"name\": \"Bagging\", \"x\": [\"accuracy\", \"FPR\", \"FNR\", \"auc\"], \"y\": [0.9071817276002146, 0.09190845197332853, 0.09799897383273473, 0.9050462870969684], \"type\": \"scatter\", \"uid\": \"82d26e67-ed6b-471a-9d69-7e9dbfe099a6\"}, {\"marker\": {\"symbol\": \"x\"}, \"mode\": \"lines+markers\", \"name\": \"Neural Network\", \"x\": [\"accuracy\", \"FPR\", \"FNR\", \"auc\"], \"y\": [0.8982907948187323, 0.09875653270859615, 0.1185223191380195, 0.8913605740766921], \"type\": \"scatter\", \"uid\": \"7f36b09e-6e83-42bf-92bd-8f7dad3823fd\"}], {\"title\": \"Result comparision for Features selected in Section 1\", \"yaxis\": {\"dtick\": 0.05, \"tick0\": 0}}, {\"showLink\": true, \"linkText\": \"Export to plot.ly\", \"plotlyServerURL\": \"https://plot.ly\"})});</script><script type=\"text/javascript\">window.addEventListener(\"resize\", function(){window._Plotly.Plots.resize(document.getElementById(\"40def7bb-e89c-4b79-8ae2-3e6eafc6b9db\"));});</script>"
      ]
     },
     "metadata": {},
     "output_type": "display_data"
    }
   ],
   "source": [
    "trace0 = go.Scatter(x=table_80_50_test.iloc[0].index.values[[0,5,6,7]],\n",
    "                    y=table_80_50_test.iloc[0].values[[0,5,6,7]],\n",
    "                    mode = 'lines',\n",
    "                    name = 'KNN_model')\n",
    "\n",
    "trace1 = go.Scatter(x=table_80_50_test.iloc[1].index.values[[0,5,6,7]],\n",
    "                    y=table_80_50_test.iloc[1].values[[0,5,6,7]],\n",
    "                    mode = 'lines+markers',\n",
    "                    name = 'Logistic Regression')\n",
    "\n",
    "trace2 = go.Scatter(x=table_80_50_test.iloc[2].index.values[[0,5,6,7]],\n",
    "                    y=table_80_50_test.iloc[2].values[[0,5,6,7]],\n",
    "                    mode = 'lines+markers',marker=dict(symbol='x'),\n",
    "                    name = 'Random Forest')\n",
    "\n",
    "\n",
    "trace3 = go.Scatter(x=table_80_50_test.iloc[3].index.values[[0,5,6,7]],\n",
    "                    y=table_80_50_test.iloc[3].values[[0,5,6,7]],\n",
    "                    mode = 'lines',\n",
    "                    name = 'Ada Boost')\n",
    "\n",
    "trace4 = go.Scatter(x=table_80_50_test.iloc[4].index.values[[0,5,6,7]],\n",
    "                    y=table_80_50_test.iloc[4].values[[0,5,6,7]],\n",
    "                    mode = 'lines+markers',\n",
    "                    name = 'GradientBoosting')\n",
    "\n",
    "trace5 = go.Scatter(x=table_80_50_test.iloc[5].index.values[[0,5,6,7]],\n",
    "                    y=table_80_50_test.iloc[5].values[[0,5,6,7]],\n",
    "                    mode = 'lines+markers',marker=dict(symbol='x'),\n",
    "                    name = 'ExtraTree Classifier')\n",
    "\n",
    "trace6 = go.Scatter(x=table_80_50_test.iloc[6].index.values[[0,5,6,7]],\n",
    "                    y=table_80_50_test.iloc[6].values[[0,5,6,7]],\n",
    "                    mode = 'lines+markers',marker=dict(symbol='x'),\n",
    "                    name = 'Bagging')\n",
    "\n",
    "trace7 = go.Scatter(x=table_80_50_test.iloc[7].index.values[[0,5,6,7]],\n",
    "                    y=table_80_50_test.iloc[7].values[[0,5,6,7]],\n",
    "                    mode = 'lines+markers',marker=dict(symbol='x'),\n",
    "                    name = 'Neural Network')\n",
    "\n",
    "\n",
    "\n",
    "data = [trace0, trace1, trace2, trace3, trace4, trace5, trace6, trace7]\n",
    "layout = go.Layout(yaxis=dict(tick0=0,dtick=0.05),title='Result comparision for Features selected in Section 1')\n",
    "fig = go.Figure(data=data, layout=layout)\n",
    "\n",
    "iplot(fig, filename='Result')"
   ]
  },
  {
   "cell_type": "code",
   "execution_count": 22,
   "metadata": {},
   "outputs": [
    {
     "name": "stdout",
     "output_type": "stream",
     "text": [
      "Training Results\n"
     ]
    },
    {
     "data": {
      "text/html": [
       "<div>\n",
       "<style scoped>\n",
       "    .dataframe tbody tr th:only-of-type {\n",
       "        vertical-align: middle;\n",
       "    }\n",
       "\n",
       "    .dataframe tbody tr th {\n",
       "        vertical-align: top;\n",
       "    }\n",
       "\n",
       "    .dataframe thead th {\n",
       "        text-align: right;\n",
       "    }\n",
       "</style>\n",
       "<table border=\"1\" class=\"dataframe\">\n",
       "  <thead>\n",
       "    <tr style=\"text-align: right;\">\n",
       "      <th></th>\n",
       "      <th>accuracy</th>\n",
       "      <th>TP</th>\n",
       "      <th>TN</th>\n",
       "      <th>FP</th>\n",
       "      <th>FN</th>\n",
       "      <th>FPR</th>\n",
       "      <th>FNR</th>\n",
       "    </tr>\n",
       "    <tr>\n",
       "      <th>index</th>\n",
       "      <th></th>\n",
       "      <th></th>\n",
       "      <th></th>\n",
       "      <th></th>\n",
       "      <th></th>\n",
       "      <th></th>\n",
       "      <th></th>\n",
       "    </tr>\n",
       "  </thead>\n",
       "  <tbody>\n",
       "    <tr>\n",
       "      <th>KNeighborsClassifier</th>\n",
       "      <td>0.906977</td>\n",
       "      <td>3984.0</td>\n",
       "      <td>23628.0</td>\n",
       "      <td>2388.0</td>\n",
       "      <td>444.0</td>\n",
       "      <td>0.091790</td>\n",
       "      <td>0.100271</td>\n",
       "    </tr>\n",
       "    <tr>\n",
       "      <th>LogisticRegression</th>\n",
       "      <td>0.888188</td>\n",
       "      <td>3402.0</td>\n",
       "      <td>23638.0</td>\n",
       "      <td>2378.0</td>\n",
       "      <td>1026.0</td>\n",
       "      <td>0.091405</td>\n",
       "      <td>0.231707</td>\n",
       "    </tr>\n",
       "    <tr>\n",
       "      <th>RandomForestClassifier</th>\n",
       "      <td>0.917422</td>\n",
       "      <td>4230.0</td>\n",
       "      <td>23700.0</td>\n",
       "      <td>2316.0</td>\n",
       "      <td>198.0</td>\n",
       "      <td>0.089022</td>\n",
       "      <td>0.044715</td>\n",
       "    </tr>\n",
       "    <tr>\n",
       "      <th>AdaBoostClassifier</th>\n",
       "      <td>0.895513</td>\n",
       "      <td>3722.0</td>\n",
       "      <td>23541.0</td>\n",
       "      <td>2475.0</td>\n",
       "      <td>706.0</td>\n",
       "      <td>0.095134</td>\n",
       "      <td>0.159440</td>\n",
       "    </tr>\n",
       "    <tr>\n",
       "      <th>GradientBoostingClassifier</th>\n",
       "      <td>0.903626</td>\n",
       "      <td>3828.0</td>\n",
       "      <td>23682.0</td>\n",
       "      <td>2334.0</td>\n",
       "      <td>600.0</td>\n",
       "      <td>0.089714</td>\n",
       "      <td>0.135501</td>\n",
       "    </tr>\n",
       "    <tr>\n",
       "      <th>ExtraTreeClassifier</th>\n",
       "      <td>0.919951</td>\n",
       "      <td>4301.0</td>\n",
       "      <td>23706.0</td>\n",
       "      <td>2310.0</td>\n",
       "      <td>127.0</td>\n",
       "      <td>0.088792</td>\n",
       "      <td>0.028681</td>\n",
       "    </tr>\n",
       "    <tr>\n",
       "      <th>BaggingClassifier</th>\n",
       "      <td>0.917685</td>\n",
       "      <td>4238.0</td>\n",
       "      <td>23700.0</td>\n",
       "      <td>2316.0</td>\n",
       "      <td>190.0</td>\n",
       "      <td>0.089022</td>\n",
       "      <td>0.042909</td>\n",
       "    </tr>\n",
       "    <tr>\n",
       "      <th>Neural Network-1</th>\n",
       "      <td>0.911345</td>\n",
       "      <td>4121.0</td>\n",
       "      <td>23624.0</td>\n",
       "      <td>2392.0</td>\n",
       "      <td>307.0</td>\n",
       "      <td>0.091943</td>\n",
       "      <td>0.069332</td>\n",
       "    </tr>\n",
       "  </tbody>\n",
       "</table>\n",
       "</div>"
      ],
      "text/plain": [
       "                            accuracy      TP       TN      FP      FN  \\\n",
       "index                                                                   \n",
       "KNeighborsClassifier        0.906977  3984.0  23628.0  2388.0   444.0   \n",
       "LogisticRegression          0.888188  3402.0  23638.0  2378.0  1026.0   \n",
       "RandomForestClassifier      0.917422  4230.0  23700.0  2316.0   198.0   \n",
       "AdaBoostClassifier          0.895513  3722.0  23541.0  2475.0   706.0   \n",
       "GradientBoostingClassifier  0.903626  3828.0  23682.0  2334.0   600.0   \n",
       "ExtraTreeClassifier         0.919951  4301.0  23706.0  2310.0   127.0   \n",
       "BaggingClassifier           0.917685  4238.0  23700.0  2316.0   190.0   \n",
       "Neural Network-1            0.911345  4121.0  23624.0  2392.0   307.0   \n",
       "\n",
       "                                 FPR       FNR  \n",
       "index                                           \n",
       "KNeighborsClassifier        0.091790  0.100271  \n",
       "LogisticRegression          0.091405  0.231707  \n",
       "RandomForestClassifier      0.089022  0.044715  \n",
       "AdaBoostClassifier          0.095134  0.159440  \n",
       "GradientBoostingClassifier  0.089714  0.135501  \n",
       "ExtraTreeClassifier         0.088792  0.028681  \n",
       "BaggingClassifier           0.089022  0.042909  \n",
       "Neural Network-1            0.091943  0.069332  "
      ]
     },
     "metadata": {},
     "output_type": "display_data"
    },
    {
     "name": "stdout",
     "output_type": "stream",
     "text": [
      "Test Results\n"
     ]
    },
    {
     "data": {
      "text/html": [
       "<div>\n",
       "<style scoped>\n",
       "    .dataframe tbody tr th:only-of-type {\n",
       "        vertical-align: middle;\n",
       "    }\n",
       "\n",
       "    .dataframe tbody tr th {\n",
       "        vertical-align: top;\n",
       "    }\n",
       "\n",
       "    .dataframe thead th {\n",
       "        text-align: right;\n",
       "    }\n",
       "</style>\n",
       "<table border=\"1\" class=\"dataframe\">\n",
       "  <thead>\n",
       "    <tr style=\"text-align: right;\">\n",
       "      <th></th>\n",
       "      <th>accuracy</th>\n",
       "      <th>TP</th>\n",
       "      <th>TN</th>\n",
       "      <th>FP</th>\n",
       "      <th>FN</th>\n",
       "      <th>FPR</th>\n",
       "      <th>FNR</th>\n",
       "      <th>auc</th>\n",
       "      <th>MCC</th>\n",
       "    </tr>\n",
       "    <tr>\n",
       "      <th>index</th>\n",
       "      <th></th>\n",
       "      <th></th>\n",
       "      <th></th>\n",
       "      <th></th>\n",
       "      <th></th>\n",
       "      <th></th>\n",
       "      <th></th>\n",
       "      <th></th>\n",
       "      <th></th>\n",
       "    </tr>\n",
       "  </thead>\n",
       "  <tbody>\n",
       "    <tr>\n",
       "      <th>KNeighborsClassifier</th>\n",
       "      <td>0.905496</td>\n",
       "      <td>1741.0</td>\n",
       "      <td>10073.0</td>\n",
       "      <td>1025.0</td>\n",
       "      <td>208.0</td>\n",
       "      <td>0.092359</td>\n",
       "      <td>0.106721</td>\n",
       "      <td>0.900460</td>\n",
       "      <td>0.698511</td>\n",
       "    </tr>\n",
       "    <tr>\n",
       "      <th>LogisticRegression</th>\n",
       "      <td>0.887714</td>\n",
       "      <td>1497.0</td>\n",
       "      <td>10085.0</td>\n",
       "      <td>1013.0</td>\n",
       "      <td>452.0</td>\n",
       "      <td>0.091278</td>\n",
       "      <td>0.231914</td>\n",
       "      <td>0.838404</td>\n",
       "      <td>0.612067</td>\n",
       "    </tr>\n",
       "    <tr>\n",
       "      <th>RandomForestClassifier</th>\n",
       "      <td>0.908255</td>\n",
       "      <td>1749.0</td>\n",
       "      <td>10101.0</td>\n",
       "      <td>997.0</td>\n",
       "      <td>200.0</td>\n",
       "      <td>0.089836</td>\n",
       "      <td>0.102617</td>\n",
       "      <td>0.903774</td>\n",
       "      <td>0.706165</td>\n",
       "    </tr>\n",
       "    <tr>\n",
       "      <th>AdaBoostClassifier</th>\n",
       "      <td>0.895302</td>\n",
       "      <td>1641.0</td>\n",
       "      <td>10040.0</td>\n",
       "      <td>1058.0</td>\n",
       "      <td>308.0</td>\n",
       "      <td>0.095332</td>\n",
       "      <td>0.158030</td>\n",
       "      <td>0.873319</td>\n",
       "      <td>0.657065</td>\n",
       "    </tr>\n",
       "    <tr>\n",
       "      <th>GradientBoostingClassifier</th>\n",
       "      <td>0.902046</td>\n",
       "      <td>1675.0</td>\n",
       "      <td>10094.0</td>\n",
       "      <td>1004.0</td>\n",
       "      <td>274.0</td>\n",
       "      <td>0.090467</td>\n",
       "      <td>0.140585</td>\n",
       "      <td>0.884474</td>\n",
       "      <td>0.678565</td>\n",
       "    </tr>\n",
       "    <tr>\n",
       "      <th>ExtraTreeClassifier</th>\n",
       "      <td>0.909175</td>\n",
       "      <td>1753.0</td>\n",
       "      <td>10109.0</td>\n",
       "      <td>989.0</td>\n",
       "      <td>196.0</td>\n",
       "      <td>0.089115</td>\n",
       "      <td>0.100564</td>\n",
       "      <td>0.905160</td>\n",
       "      <td>0.708969</td>\n",
       "    </tr>\n",
       "    <tr>\n",
       "      <th>BaggingClassifier</th>\n",
       "      <td>0.907182</td>\n",
       "      <td>1758.0</td>\n",
       "      <td>10078.0</td>\n",
       "      <td>1020.0</td>\n",
       "      <td>191.0</td>\n",
       "      <td>0.091908</td>\n",
       "      <td>0.097999</td>\n",
       "      <td>0.905046</td>\n",
       "      <td>0.705396</td>\n",
       "    </tr>\n",
       "    <tr>\n",
       "      <th>Neural Network-1</th>\n",
       "      <td>0.898291</td>\n",
       "      <td>1718.0</td>\n",
       "      <td>10002.0</td>\n",
       "      <td>1096.0</td>\n",
       "      <td>231.0</td>\n",
       "      <td>0.098757</td>\n",
       "      <td>0.118522</td>\n",
       "      <td>0.891361</td>\n",
       "      <td>0.678378</td>\n",
       "    </tr>\n",
       "  </tbody>\n",
       "</table>\n",
       "</div>"
      ],
      "text/plain": [
       "                            accuracy      TP       TN      FP     FN  \\\n",
       "index                                                                  \n",
       "KNeighborsClassifier        0.905496  1741.0  10073.0  1025.0  208.0   \n",
       "LogisticRegression          0.887714  1497.0  10085.0  1013.0  452.0   \n",
       "RandomForestClassifier      0.908255  1749.0  10101.0   997.0  200.0   \n",
       "AdaBoostClassifier          0.895302  1641.0  10040.0  1058.0  308.0   \n",
       "GradientBoostingClassifier  0.902046  1675.0  10094.0  1004.0  274.0   \n",
       "ExtraTreeClassifier         0.909175  1753.0  10109.0   989.0  196.0   \n",
       "BaggingClassifier           0.907182  1758.0  10078.0  1020.0  191.0   \n",
       "Neural Network-1            0.898291  1718.0  10002.0  1096.0  231.0   \n",
       "\n",
       "                                 FPR       FNR       auc       MCC  \n",
       "index                                                               \n",
       "KNeighborsClassifier        0.092359  0.106721  0.900460  0.698511  \n",
       "LogisticRegression          0.091278  0.231914  0.838404  0.612067  \n",
       "RandomForestClassifier      0.089836  0.102617  0.903774  0.706165  \n",
       "AdaBoostClassifier          0.095332  0.158030  0.873319  0.657065  \n",
       "GradientBoostingClassifier  0.090467  0.140585  0.884474  0.678565  \n",
       "ExtraTreeClassifier         0.089115  0.100564  0.905160  0.708969  \n",
       "BaggingClassifier           0.091908  0.097999  0.905046  0.705396  \n",
       "Neural Network-1            0.098757  0.118522  0.891361  0.678378  "
      ]
     },
     "metadata": {},
     "output_type": "display_data"
    }
   ],
   "source": [
    "table_80_50_train['index']=ind_columns\n",
    "table_80_50_test['index']=ind_columns\n",
    "\n",
    "\n",
    "table_80_50_test.set_index(['index'],drop=True,inplace=True)\n",
    "table_80_50_train.set_index(['index'],drop=True,inplace=True)\n",
    "\n",
    "print(\"Training Results\")\n",
    "display(table_80_50_train)\n",
    "print(\"Test Results\")\n",
    "display(table_80_50_test)"
   ]
  },
  {
   "cell_type": "markdown",
   "metadata": {},
   "source": [
    "### <a id='1.B' style=\"text-decoration : none; color : #000000;\"> B. Average Feature Importances</a>"
   ]
  },
  {
   "cell_type": "code",
   "execution_count": 23,
   "metadata": {},
   "outputs": [
    {
     "data": {
      "application/vnd.plotly.v1+json": {
       "config": {
        "linkText": "Export to plot.ly",
        "plotlyServerURL": "https://plot.ly",
        "showLink": true
       },
       "data": [
        {
         "marker": {
          "color": "rgb(158,202,225)",
          "line": {
           "color": "rgb(8,48,107)",
           "width": 1.5
          }
         },
         "opacity": 0.6,
         "orientation": "h",
         "text": [
          0.2596,
          0.082,
          0.0435,
          0.0402,
          0.0379,
          0.0378,
          0.0374,
          0.0373,
          0.0336,
          0.0295,
          0.0264,
          0.0254,
          0.0239,
          0.0231,
          0.0223,
          0.0221,
          0.0193,
          0.0189,
          0.0175,
          0.017,
          0.0159,
          0.015,
          0.0134,
          0.0133,
          0.0129,
          0.0111,
          0.0095,
          0.0093,
          0.0085,
          0.0077,
          0.0074,
          0.0074,
          0.0064,
          0.0054,
          0.002
         ],
         "textposition": "outside",
         "type": "bar",
         "uid": "b79517ac-4d64-40ec-9ba1-9ba3015630e6",
         "x": [
          0.2596412212589767,
          0.08202385396474293,
          0.04347686922741137,
          0.04017695135314352,
          0.03791502064529653,
          0.037787596125010335,
          0.03740210113742964,
          0.03733165208804318,
          0.033558594429770855,
          0.029512063398632184,
          0.026405520287848615,
          0.025358002074917722,
          0.023948668475790018,
          0.02312194595773089,
          0.022334956574507923,
          0.02214143079447035,
          0.01926186047967882,
          0.01885177632126499,
          0.017521261133987415,
          0.016974586848114065,
          0.015933640753069724,
          0.014984643386571449,
          0.01343324600667135,
          0.013322624141176844,
          0.012947324036951025,
          0.011101228931471465,
          0.009470222171227127,
          0.009274446411449498,
          0.008537468671120721,
          0.007676678936482934,
          0.007414558224129667,
          0.0073953452793216684,
          0.00635617904139894,
          0.005382368852941039,
          0.002024092579248436
         ],
         "y": [
          "title_count",
          "script_async_true",
          "script_src_out_of_domain",
          "div_count",
          "link_href_out_of_domain",
          "li_count",
          "meta_count",
          "a_href_https",
          "link_type_text/css",
          "br_count",
          "link_href_.css",
          "a_href_http",
          "p_count",
          "script_src_.js",
          "img_src_.jpg",
          "b_count",
          "span_count",
          "section_count",
          "script_type_text/javascript",
          "input_count",
          "link_href_http",
          "h1_count",
          "iframe_src_https",
          "script_defer_true",
          "form_action_http",
          "strong_count",
          "center_count",
          "link_href_0",
          "form_action_out_of_domain",
          "link_type_application/rsd+xml",
          "script_charset_UTF-8",
          "a_href_.com",
          "link_rel_shortlink",
          "a_href_.aspx",
          "link_type_application/rss+xml"
         ]
        }
       ],
       "layout": {
        "autosize": false,
        "height": 1000,
        "width": 1000,
        "xaxis": {
         "tickfont": {
          "color": "black",
          "size": 12
         },
         "title": "Feature Importances"
        },
        "yaxis": {
         "automargin": true
        }
       }
      },
      "text/html": [
       "<div id=\"56d3085b-ba1c-4cf4-bbcd-063a3eb3bc06\" style=\"height: 1000px; width: 1000px;\" class=\"plotly-graph-div\"></div><script type=\"text/javascript\">require([\"plotly\"], function(Plotly) { window.PLOTLYENV=window.PLOTLYENV || {};window.PLOTLYENV.BASE_URL=\"https://plot.ly\";Plotly.newPlot(\"56d3085b-ba1c-4cf4-bbcd-063a3eb3bc06\", [{\"marker\": {\"color\": \"rgb(158,202,225)\", \"line\": {\"color\": \"rgb(8,48,107)\", \"width\": 1.5}}, \"opacity\": 0.6, \"orientation\": \"h\", \"text\": [0.2596, 0.082, 0.0435, 0.0402, 0.0379, 0.0378, 0.0374, 0.0373, 0.0336, 0.0295, 0.0264, 0.0254, 0.0239, 0.0231, 0.0223, 0.0221, 0.0193, 0.0189, 0.0175, 0.017, 0.0159, 0.015, 0.0134, 0.0133, 0.0129, 0.0111, 0.0095, 0.0093, 0.0085, 0.0077, 0.0074, 0.0074, 0.0064, 0.0054, 0.002], \"textposition\": \"outside\", \"x\": [0.2596412212589767, 0.08202385396474293, 0.04347686922741137, 0.04017695135314352, 0.03791502064529653, 0.037787596125010335, 0.03740210113742964, 0.03733165208804318, 0.033558594429770855, 0.029512063398632184, 0.026405520287848615, 0.025358002074917722, 0.023948668475790018, 0.02312194595773089, 0.022334956574507923, 0.02214143079447035, 0.01926186047967882, 0.01885177632126499, 0.017521261133987415, 0.016974586848114065, 0.015933640753069724, 0.014984643386571449, 0.01343324600667135, 0.013322624141176844, 0.012947324036951025, 0.011101228931471465, 0.009470222171227127, 0.009274446411449498, 0.008537468671120721, 0.007676678936482934, 0.007414558224129667, 0.0073953452793216684, 0.00635617904139894, 0.005382368852941039, 0.002024092579248436], \"y\": [\"title_count\", \"script_async_true\", \"script_src_out_of_domain\", \"div_count\", \"link_href_out_of_domain\", \"li_count\", \"meta_count\", \"a_href_https\", \"link_type_text/css\", \"br_count\", \"link_href_.css\", \"a_href_http\", \"p_count\", \"script_src_.js\", \"img_src_.jpg\", \"b_count\", \"span_count\", \"section_count\", \"script_type_text/javascript\", \"input_count\", \"link_href_http\", \"h1_count\", \"iframe_src_https\", \"script_defer_true\", \"form_action_http\", \"strong_count\", \"center_count\", \"link_href_0\", \"form_action_out_of_domain\", \"link_type_application/rsd+xml\", \"script_charset_UTF-8\", \"a_href_.com\", \"link_rel_shortlink\", \"a_href_.aspx\", \"link_type_application/rss+xml\"], \"type\": \"bar\", \"uid\": \"b79517ac-4d64-40ec-9ba1-9ba3015630e6\"}], {\"autosize\": false, \"height\": 1000, \"width\": 1000, \"xaxis\": {\"tickfont\": {\"color\": \"black\", \"size\": 12}, \"title\": \"Feature Importances\"}, \"yaxis\": {\"automargin\": true}}, {\"showLink\": true, \"linkText\": \"Export to plot.ly\", \"plotlyServerURL\": \"https://plot.ly\"})});</script>"
      ],
      "text/vnd.plotly.v1+html": [
       "<div id=\"56d3085b-ba1c-4cf4-bbcd-063a3eb3bc06\" style=\"height: 1000px; width: 1000px;\" class=\"plotly-graph-div\"></div><script type=\"text/javascript\">require([\"plotly\"], function(Plotly) { window.PLOTLYENV=window.PLOTLYENV || {};window.PLOTLYENV.BASE_URL=\"https://plot.ly\";Plotly.newPlot(\"56d3085b-ba1c-4cf4-bbcd-063a3eb3bc06\", [{\"marker\": {\"color\": \"rgb(158,202,225)\", \"line\": {\"color\": \"rgb(8,48,107)\", \"width\": 1.5}}, \"opacity\": 0.6, \"orientation\": \"h\", \"text\": [0.2596, 0.082, 0.0435, 0.0402, 0.0379, 0.0378, 0.0374, 0.0373, 0.0336, 0.0295, 0.0264, 0.0254, 0.0239, 0.0231, 0.0223, 0.0221, 0.0193, 0.0189, 0.0175, 0.017, 0.0159, 0.015, 0.0134, 0.0133, 0.0129, 0.0111, 0.0095, 0.0093, 0.0085, 0.0077, 0.0074, 0.0074, 0.0064, 0.0054, 0.002], \"textposition\": \"outside\", \"x\": [0.2596412212589767, 0.08202385396474293, 0.04347686922741137, 0.04017695135314352, 0.03791502064529653, 0.037787596125010335, 0.03740210113742964, 0.03733165208804318, 0.033558594429770855, 0.029512063398632184, 0.026405520287848615, 0.025358002074917722, 0.023948668475790018, 0.02312194595773089, 0.022334956574507923, 0.02214143079447035, 0.01926186047967882, 0.01885177632126499, 0.017521261133987415, 0.016974586848114065, 0.015933640753069724, 0.014984643386571449, 0.01343324600667135, 0.013322624141176844, 0.012947324036951025, 0.011101228931471465, 0.009470222171227127, 0.009274446411449498, 0.008537468671120721, 0.007676678936482934, 0.007414558224129667, 0.0073953452793216684, 0.00635617904139894, 0.005382368852941039, 0.002024092579248436], \"y\": [\"title_count\", \"script_async_true\", \"script_src_out_of_domain\", \"div_count\", \"link_href_out_of_domain\", \"li_count\", \"meta_count\", \"a_href_https\", \"link_type_text/css\", \"br_count\", \"link_href_.css\", \"a_href_http\", \"p_count\", \"script_src_.js\", \"img_src_.jpg\", \"b_count\", \"span_count\", \"section_count\", \"script_type_text/javascript\", \"input_count\", \"link_href_http\", \"h1_count\", \"iframe_src_https\", \"script_defer_true\", \"form_action_http\", \"strong_count\", \"center_count\", \"link_href_0\", \"form_action_out_of_domain\", \"link_type_application/rsd+xml\", \"script_charset_UTF-8\", \"a_href_.com\", \"link_rel_shortlink\", \"a_href_.aspx\", \"link_type_application/rss+xml\"], \"type\": \"bar\", \"uid\": \"b79517ac-4d64-40ec-9ba1-9ba3015630e6\"}], {\"autosize\": false, \"height\": 1000, \"width\": 1000, \"xaxis\": {\"tickfont\": {\"color\": \"black\", \"size\": 12}, \"title\": \"Feature Importances\"}, \"yaxis\": {\"automargin\": true}}, {\"showLink\": true, \"linkText\": \"Export to plot.ly\", \"plotlyServerURL\": \"https://plot.ly\"})});</script>"
      ]
     },
     "metadata": {},
     "output_type": "display_data"
    }
   ],
   "source": [
    "feat_impt_plot(np.average(feat_imp,axis=0),columns)"
   ]
  },
  {
   "cell_type": "markdown",
   "metadata": {},
   "source": [
    "### <a id='2' style=\"text-decoration : none; color : #000000;\"> 2. OverSampling </a>"
   ]
  },
  {
   "cell_type": "code",
   "execution_count": 24,
   "metadata": {},
   "outputs": [],
   "source": [
    "sm = SMOTE(random_state=12, ratio = 1.0)\n",
    "X_train, Y_train = sm.fit_sample(scaled_X_train,train_Y)"
   ]
  },
  {
   "cell_type": "code",
   "execution_count": 25,
   "metadata": {
    "scrolled": false
   },
   "outputs": [
    {
     "name": "stdout",
     "output_type": "stream",
     "text": [
      "\u001b[1mK-Nearest Neighbors\u001b[0m\n",
      "Accuracy of the model for training data is: 0.5963253382533825\n",
      "Confusion Matrix for training data is:\n"
     ]
    },
    {
     "data": {
      "text/plain": [
       "Predicted  False  True  __all__\n",
       "Actual                         \n",
       "False      24993  1023    26016\n",
       "True       19981  6035    26016\n",
       "__all__    44974  7058    52032"
      ]
     },
     "metadata": {},
     "output_type": "display_data"
    },
    {
     "name": "stdout",
     "output_type": "stream",
     "text": [
      "Accuracy of the model for test data is: 0.836590787154135\n",
      "Confusion Matrix for test data is:\n"
     ]
    },
    {
     "data": {
      "text/plain": [
       "Predicted  False  True  __all__\n",
       "Actual                         \n",
       "False      10551   547    11098\n",
       "True        1585   364     1949\n",
       "__all__    12136   911    13047"
      ]
     },
     "metadata": {},
     "output_type": "display_data"
    },
    {
     "name": "stdout",
     "output_type": "stream",
     "text": [
      "\n",
      "\n",
      "\u001b[1mLogistic Regression\u001b[0m\n",
      "Accuracy of the model for training data is: 0.885570418204182\n",
      "Confusion Matrix for training data is:\n"
     ]
    },
    {
     "data": {
      "text/plain": [
       "Predicted  False   True  __all__\n",
       "Actual                          \n",
       "False      21180   4836    26016\n",
       "True        1118  24898    26016\n",
       "__all__    22298  29734    52032"
      ]
     },
     "metadata": {},
     "output_type": "display_data"
    },
    {
     "name": "stdout",
     "output_type": "stream",
     "text": [
      "Accuracy of the model for test data is: 0.8318387368743773\n",
      "Confusion Matrix for test data is:\n"
     ]
    },
    {
     "data": {
      "text/plain": [
       "Predicted  False  True  __all__\n",
       "Actual                         \n",
       "False       8976  2122    11098\n",
       "True          72  1877     1949\n",
       "__all__     9048  3999    13047"
      ]
     },
     "metadata": {},
     "output_type": "display_data"
    },
    {
     "name": "stdout",
     "output_type": "stream",
     "text": [
      "\n",
      "\n",
      "\u001b[1mRandomForest Classifier\u001b[0m\n",
      "Accuracy of the model for training data is: 0.9463407134071341\n",
      "Confusion Matrix for training data is:\n"
     ]
    },
    {
     "data": {
      "text/plain": [
       "Predicted  False   True  __all__\n",
       "Actual                          \n",
       "False      23603   2413    26016\n",
       "True         379  25637    26016\n",
       "__all__    23982  28050    52032"
      ]
     },
     "metadata": {},
     "output_type": "display_data"
    },
    {
     "name": "stdout",
     "output_type": "stream",
     "text": [
      "Accuracy of the model for test data is: 0.9067218517666896\n",
      "Confusion Matrix for test data is:\n"
     ]
    },
    {
     "data": {
      "text/plain": [
       "Predicted  False  True  __all__\n",
       "Actual                         \n",
       "False      10038  1060    11098\n",
       "True         157  1792     1949\n",
       "__all__    10195  2852    13047"
      ]
     },
     "metadata": {},
     "output_type": "display_data"
    },
    {
     "data": {
      "application/vnd.plotly.v1+json": {
       "config": {
        "linkText": "Export to plot.ly",
        "plotlyServerURL": "https://plot.ly",
        "showLink": true
       },
       "data": [
        {
         "marker": {
          "color": "rgb(158,202,225)",
          "line": {
           "color": "rgb(8,48,107)",
           "width": 1.5
          }
         },
         "opacity": 0.6,
         "orientation": "h",
         "text": [
          0.2065,
          0.1315,
          0.0913,
          0.0831,
          0.0778,
          0.0656,
          0.0522,
          0.0514,
          0.0477,
          0.0253,
          0.0203,
          0.0136,
          0.0117,
          0.0109,
          0.0102,
          0.0099,
          0.0093,
          0.0079,
          0.007,
          0.007,
          0.0065,
          0.0064,
          0.0059,
          0.0057,
          0.0056,
          0.0053,
          0.0043,
          0.0036,
          0.0034,
          0.0034,
          0.003,
          0.0025,
          0.0019,
          0.0018,
          0.0004
         ],
         "textposition": "outside",
         "type": "bar",
         "uid": "05374d13-0f73-4205-a9b0-d895333c07d3",
         "x": [
          0.2065139499875382,
          0.13151127129461698,
          0.09131602713003766,
          0.08305151150610098,
          0.07779304481356542,
          0.0656099665062562,
          0.05218050021653187,
          0.05140405106687548,
          0.047749307258574965,
          0.025349208378540055,
          0.02031226007978352,
          0.013609383041297196,
          0.011690795103560098,
          0.010909164189418029,
          0.010218668749299152,
          0.009903332155137454,
          0.009335942315411683,
          0.007867583267072679,
          0.007042075931301022,
          0.006991852409804626,
          0.006479121643745424,
          0.006400100131857071,
          0.0058649452596084084,
          0.005747370211817508,
          0.005619069059598463,
          0.005277829093591338,
          0.004301516508226745,
          0.003569880794877466,
          0.0034455209698624777,
          0.0034163148614242697,
          0.002984303977932804,
          0.002462070066231922,
          0.0019032869835718016,
          0.0018025193244241024,
          0.00036625571250696056
         ],
         "y": [
          "script_async_true",
          "a_href_https",
          "link_href_out_of_domain",
          "div_count",
          "script_src_out_of_domain",
          "title_count",
          "li_count",
          "br_count",
          "meta_count",
          "script_src_.js",
          "a_href_http",
          "p_count",
          "script_type_text/javascript",
          "span_count",
          "iframe_src_https",
          "strong_count",
          "link_href_http",
          "h1_count",
          "link_type_text/css",
          "link_href_.css",
          "form_action_out_of_domain",
          "section_count",
          "img_src_.jpg",
          "script_defer_true",
          "link_href_0",
          "form_action_http",
          "input_count",
          "b_count",
          "center_count",
          "a_href_.com",
          "link_type_application/rsd+xml",
          "link_type_application/rss+xml",
          "link_rel_shortlink",
          "script_charset_UTF-8",
          "a_href_.aspx"
         ]
        }
       ],
       "layout": {
        "autosize": false,
        "height": 1000,
        "width": 1000,
        "xaxis": {
         "tickfont": {
          "color": "black",
          "size": 12
         },
         "title": "Feature Importances"
        },
        "yaxis": {
         "automargin": true
        }
       }
      },
      "text/html": [
       "<div id=\"8710498d-6c6b-4ce9-8cd4-672e7fc3c779\" style=\"height: 1000px; width: 1000px;\" class=\"plotly-graph-div\"></div><script type=\"text/javascript\">require([\"plotly\"], function(Plotly) { window.PLOTLYENV=window.PLOTLYENV || {};window.PLOTLYENV.BASE_URL=\"https://plot.ly\";Plotly.newPlot(\"8710498d-6c6b-4ce9-8cd4-672e7fc3c779\", [{\"marker\": {\"color\": \"rgb(158,202,225)\", \"line\": {\"color\": \"rgb(8,48,107)\", \"width\": 1.5}}, \"opacity\": 0.6, \"orientation\": \"h\", \"text\": [0.2065, 0.1315, 0.0913, 0.0831, 0.0778, 0.0656, 0.0522, 0.0514, 0.0477, 0.0253, 0.0203, 0.0136, 0.0117, 0.0109, 0.0102, 0.0099, 0.0093, 0.0079, 0.007, 0.007, 0.0065, 0.0064, 0.0059, 0.0057, 0.0056, 0.0053, 0.0043, 0.0036, 0.0034, 0.0034, 0.003, 0.0025, 0.0019, 0.0018, 0.0004], \"textposition\": \"outside\", \"x\": [0.2065139499875382, 0.13151127129461698, 0.09131602713003766, 0.08305151150610098, 0.07779304481356542, 0.0656099665062562, 0.05218050021653187, 0.05140405106687548, 0.047749307258574965, 0.025349208378540055, 0.02031226007978352, 0.013609383041297196, 0.011690795103560098, 0.010909164189418029, 0.010218668749299152, 0.009903332155137454, 0.009335942315411683, 0.007867583267072679, 0.007042075931301022, 0.006991852409804626, 0.006479121643745424, 0.006400100131857071, 0.0058649452596084084, 0.005747370211817508, 0.005619069059598463, 0.005277829093591338, 0.004301516508226745, 0.003569880794877466, 0.0034455209698624777, 0.0034163148614242697, 0.002984303977932804, 0.002462070066231922, 0.0019032869835718016, 0.0018025193244241024, 0.00036625571250696056], \"y\": [\"script_async_true\", \"a_href_https\", \"link_href_out_of_domain\", \"div_count\", \"script_src_out_of_domain\", \"title_count\", \"li_count\", \"br_count\", \"meta_count\", \"script_src_.js\", \"a_href_http\", \"p_count\", \"script_type_text/javascript\", \"span_count\", \"iframe_src_https\", \"strong_count\", \"link_href_http\", \"h1_count\", \"link_type_text/css\", \"link_href_.css\", \"form_action_out_of_domain\", \"section_count\", \"img_src_.jpg\", \"script_defer_true\", \"link_href_0\", \"form_action_http\", \"input_count\", \"b_count\", \"center_count\", \"a_href_.com\", \"link_type_application/rsd+xml\", \"link_type_application/rss+xml\", \"link_rel_shortlink\", \"script_charset_UTF-8\", \"a_href_.aspx\"], \"type\": \"bar\", \"uid\": \"05374d13-0f73-4205-a9b0-d895333c07d3\"}], {\"autosize\": false, \"height\": 1000, \"width\": 1000, \"xaxis\": {\"tickfont\": {\"color\": \"black\", \"size\": 12}, \"title\": \"Feature Importances\"}, \"yaxis\": {\"automargin\": true}}, {\"showLink\": true, \"linkText\": \"Export to plot.ly\", \"plotlyServerURL\": \"https://plot.ly\"})});</script>"
      ],
      "text/vnd.plotly.v1+html": [
       "<div id=\"8710498d-6c6b-4ce9-8cd4-672e7fc3c779\" style=\"height: 1000px; width: 1000px;\" class=\"plotly-graph-div\"></div><script type=\"text/javascript\">require([\"plotly\"], function(Plotly) { window.PLOTLYENV=window.PLOTLYENV || {};window.PLOTLYENV.BASE_URL=\"https://plot.ly\";Plotly.newPlot(\"8710498d-6c6b-4ce9-8cd4-672e7fc3c779\", [{\"marker\": {\"color\": \"rgb(158,202,225)\", \"line\": {\"color\": \"rgb(8,48,107)\", \"width\": 1.5}}, \"opacity\": 0.6, \"orientation\": \"h\", \"text\": [0.2065, 0.1315, 0.0913, 0.0831, 0.0778, 0.0656, 0.0522, 0.0514, 0.0477, 0.0253, 0.0203, 0.0136, 0.0117, 0.0109, 0.0102, 0.0099, 0.0093, 0.0079, 0.007, 0.007, 0.0065, 0.0064, 0.0059, 0.0057, 0.0056, 0.0053, 0.0043, 0.0036, 0.0034, 0.0034, 0.003, 0.0025, 0.0019, 0.0018, 0.0004], \"textposition\": \"outside\", \"x\": [0.2065139499875382, 0.13151127129461698, 0.09131602713003766, 0.08305151150610098, 0.07779304481356542, 0.0656099665062562, 0.05218050021653187, 0.05140405106687548, 0.047749307258574965, 0.025349208378540055, 0.02031226007978352, 0.013609383041297196, 0.011690795103560098, 0.010909164189418029, 0.010218668749299152, 0.009903332155137454, 0.009335942315411683, 0.007867583267072679, 0.007042075931301022, 0.006991852409804626, 0.006479121643745424, 0.006400100131857071, 0.0058649452596084084, 0.005747370211817508, 0.005619069059598463, 0.005277829093591338, 0.004301516508226745, 0.003569880794877466, 0.0034455209698624777, 0.0034163148614242697, 0.002984303977932804, 0.002462070066231922, 0.0019032869835718016, 0.0018025193244241024, 0.00036625571250696056], \"y\": [\"script_async_true\", \"a_href_https\", \"link_href_out_of_domain\", \"div_count\", \"script_src_out_of_domain\", \"title_count\", \"li_count\", \"br_count\", \"meta_count\", \"script_src_.js\", \"a_href_http\", \"p_count\", \"script_type_text/javascript\", \"span_count\", \"iframe_src_https\", \"strong_count\", \"link_href_http\", \"h1_count\", \"link_type_text/css\", \"link_href_.css\", \"form_action_out_of_domain\", \"section_count\", \"img_src_.jpg\", \"script_defer_true\", \"link_href_0\", \"form_action_http\", \"input_count\", \"b_count\", \"center_count\", \"a_href_.com\", \"link_type_application/rsd+xml\", \"link_type_application/rss+xml\", \"link_rel_shortlink\", \"script_charset_UTF-8\", \"a_href_.aspx\"], \"type\": \"bar\", \"uid\": \"05374d13-0f73-4205-a9b0-d895333c07d3\"}], {\"autosize\": false, \"height\": 1000, \"width\": 1000, \"xaxis\": {\"tickfont\": {\"color\": \"black\", \"size\": 12}, \"title\": \"Feature Importances\"}, \"yaxis\": {\"automargin\": true}}, {\"showLink\": true, \"linkText\": \"Export to plot.ly\", \"plotlyServerURL\": \"https://plot.ly\"})});</script>"
      ]
     },
     "metadata": {},
     "output_type": "display_data"
    },
    {
     "name": "stdout",
     "output_type": "stream",
     "text": [
      "\n",
      "\n",
      "\u001b[1mAdaoost Classifier\u001b[0m\n",
      "Accuracy of the model for training data is: 0.9030212177121771\n",
      "Confusion Matrix for training data is:\n"
     ]
    },
    {
     "data": {
      "text/plain": [
       "Predicted  False   True  __all__\n",
       "Actual                          \n",
       "False      22289   3727    26016\n",
       "True        1319  24697    26016\n",
       "__all__    23608  28424    52032"
      ]
     },
     "metadata": {},
     "output_type": "display_data"
    },
    {
     "name": "stdout",
     "output_type": "stream",
     "text": [
      "Accuracy of the model for test data is: 0.8677856978615773\n",
      "Confusion Matrix for test data is:\n"
     ]
    },
    {
     "data": {
      "text/plain": [
       "Predicted  False  True  __all__\n",
       "Actual                         \n",
       "False       9498  1600    11098\n",
       "True         125  1824     1949\n",
       "__all__     9623  3424    13047"
      ]
     },
     "metadata": {},
     "output_type": "display_data"
    },
    {
     "data": {
      "application/vnd.plotly.v1+json": {
       "config": {
        "linkText": "Export to plot.ly",
        "plotlyServerURL": "https://plot.ly",
        "showLink": true
       },
       "data": [
        {
         "marker": {
          "color": "rgb(158,202,225)",
          "line": {
           "color": "rgb(8,48,107)",
           "width": 1.5
          }
         },
         "opacity": 0.6,
         "orientation": "h",
         "text": [
          0.1,
          0.08,
          0.08,
          0.06,
          0.06,
          0.06,
          0.04,
          0.04,
          0.04,
          0.04,
          0.04,
          0.04,
          0.04,
          0.04,
          0.04,
          0.02,
          0.02,
          0.02,
          0.02,
          0.02,
          0.02,
          0.02,
          0.02,
          0.02,
          0.02,
          0,
          0,
          0,
          0,
          0,
          0,
          0,
          0,
          0,
          0
         ],
         "textposition": "outside",
         "type": "bar",
         "uid": "79aa6562-aaec-458e-975e-43c9e44e0238",
         "x": [
          0.1,
          0.08,
          0.08,
          0.06,
          0.06,
          0.06,
          0.04,
          0.04,
          0.04,
          0.04,
          0.04,
          0.04,
          0.04,
          0.04,
          0.04,
          0.02,
          0.02,
          0.02,
          0.02,
          0.02,
          0.02,
          0.02,
          0.02,
          0.02,
          0.02,
          0,
          0,
          0,
          0,
          0,
          0,
          0,
          0,
          0,
          0
         ],
         "y": [
          "link_href_out_of_domain",
          "title_count",
          "script_async_true",
          "a_href_https",
          "b_count",
          "link_href_0",
          "iframe_src_https",
          "a_href_.com",
          "p_count",
          "script_defer_true",
          "h1_count",
          "form_action_http",
          "center_count",
          "br_count",
          "a_href_http",
          "link_type_text/css",
          "script_src_out_of_domain",
          "section_count",
          "strong_count",
          "meta_count",
          "a_href_.aspx",
          "link_rel_shortlink",
          "link_href_.css",
          "img_src_.jpg",
          "link_href_http",
          "link_type_application/rss+xml",
          "link_type_application/rsd+xml",
          "li_count",
          "script_charset_UTF-8",
          "input_count",
          "script_src_.js",
          "script_type_text/javascript",
          "form_action_out_of_domain",
          "span_count",
          "div_count"
         ]
        }
       ],
       "layout": {
        "autosize": false,
        "height": 1000,
        "width": 1000,
        "xaxis": {
         "tickfont": {
          "color": "black",
          "size": 12
         },
         "title": "Feature Importances"
        },
        "yaxis": {
         "automargin": true
        }
       }
      },
      "text/html": [
       "<div id=\"32e7aa43-9b51-4881-98c1-225c324ca66c\" style=\"height: 1000px; width: 1000px;\" class=\"plotly-graph-div\"></div><script type=\"text/javascript\">require([\"plotly\"], function(Plotly) { window.PLOTLYENV=window.PLOTLYENV || {};window.PLOTLYENV.BASE_URL=\"https://plot.ly\";Plotly.newPlot(\"32e7aa43-9b51-4881-98c1-225c324ca66c\", [{\"marker\": {\"color\": \"rgb(158,202,225)\", \"line\": {\"color\": \"rgb(8,48,107)\", \"width\": 1.5}}, \"opacity\": 0.6, \"orientation\": \"h\", \"text\": [0.1, 0.08, 0.08, 0.06, 0.06, 0.06, 0.04, 0.04, 0.04, 0.04, 0.04, 0.04, 0.04, 0.04, 0.04, 0.02, 0.02, 0.02, 0.02, 0.02, 0.02, 0.02, 0.02, 0.02, 0.02, 0.0, 0.0, 0.0, 0.0, 0.0, 0.0, 0.0, 0.0, 0.0, 0.0], \"textposition\": \"outside\", \"x\": [0.1, 0.08, 0.08, 0.06, 0.06, 0.06, 0.04, 0.04, 0.04, 0.04, 0.04, 0.04, 0.04, 0.04, 0.04, 0.02, 0.02, 0.02, 0.02, 0.02, 0.02, 0.02, 0.02, 0.02, 0.02, 0.0, 0.0, 0.0, 0.0, 0.0, 0.0, 0.0, 0.0, 0.0, 0.0], \"y\": [\"link_href_out_of_domain\", \"title_count\", \"script_async_true\", \"a_href_https\", \"b_count\", \"link_href_0\", \"iframe_src_https\", \"a_href_.com\", \"p_count\", \"script_defer_true\", \"h1_count\", \"form_action_http\", \"center_count\", \"br_count\", \"a_href_http\", \"link_type_text/css\", \"script_src_out_of_domain\", \"section_count\", \"strong_count\", \"meta_count\", \"a_href_.aspx\", \"link_rel_shortlink\", \"link_href_.css\", \"img_src_.jpg\", \"link_href_http\", \"link_type_application/rss+xml\", \"link_type_application/rsd+xml\", \"li_count\", \"script_charset_UTF-8\", \"input_count\", \"script_src_.js\", \"script_type_text/javascript\", \"form_action_out_of_domain\", \"span_count\", \"div_count\"], \"type\": \"bar\", \"uid\": \"79aa6562-aaec-458e-975e-43c9e44e0238\"}], {\"autosize\": false, \"height\": 1000, \"width\": 1000, \"xaxis\": {\"tickfont\": {\"color\": \"black\", \"size\": 12}, \"title\": \"Feature Importances\"}, \"yaxis\": {\"automargin\": true}}, {\"showLink\": true, \"linkText\": \"Export to plot.ly\", \"plotlyServerURL\": \"https://plot.ly\"})});</script>"
      ],
      "text/vnd.plotly.v1+html": [
       "<div id=\"32e7aa43-9b51-4881-98c1-225c324ca66c\" style=\"height: 1000px; width: 1000px;\" class=\"plotly-graph-div\"></div><script type=\"text/javascript\">require([\"plotly\"], function(Plotly) { window.PLOTLYENV=window.PLOTLYENV || {};window.PLOTLYENV.BASE_URL=\"https://plot.ly\";Plotly.newPlot(\"32e7aa43-9b51-4881-98c1-225c324ca66c\", [{\"marker\": {\"color\": \"rgb(158,202,225)\", \"line\": {\"color\": \"rgb(8,48,107)\", \"width\": 1.5}}, \"opacity\": 0.6, \"orientation\": \"h\", \"text\": [0.1, 0.08, 0.08, 0.06, 0.06, 0.06, 0.04, 0.04, 0.04, 0.04, 0.04, 0.04, 0.04, 0.04, 0.04, 0.02, 0.02, 0.02, 0.02, 0.02, 0.02, 0.02, 0.02, 0.02, 0.02, 0.0, 0.0, 0.0, 0.0, 0.0, 0.0, 0.0, 0.0, 0.0, 0.0], \"textposition\": \"outside\", \"x\": [0.1, 0.08, 0.08, 0.06, 0.06, 0.06, 0.04, 0.04, 0.04, 0.04, 0.04, 0.04, 0.04, 0.04, 0.04, 0.02, 0.02, 0.02, 0.02, 0.02, 0.02, 0.02, 0.02, 0.02, 0.02, 0.0, 0.0, 0.0, 0.0, 0.0, 0.0, 0.0, 0.0, 0.0, 0.0], \"y\": [\"link_href_out_of_domain\", \"title_count\", \"script_async_true\", \"a_href_https\", \"b_count\", \"link_href_0\", \"iframe_src_https\", \"a_href_.com\", \"p_count\", \"script_defer_true\", \"h1_count\", \"form_action_http\", \"center_count\", \"br_count\", \"a_href_http\", \"link_type_text/css\", \"script_src_out_of_domain\", \"section_count\", \"strong_count\", \"meta_count\", \"a_href_.aspx\", \"link_rel_shortlink\", \"link_href_.css\", \"img_src_.jpg\", \"link_href_http\", \"link_type_application/rss+xml\", \"link_type_application/rsd+xml\", \"li_count\", \"script_charset_UTF-8\", \"input_count\", \"script_src_.js\", \"script_type_text/javascript\", \"form_action_out_of_domain\", \"span_count\", \"div_count\"], \"type\": \"bar\", \"uid\": \"79aa6562-aaec-458e-975e-43c9e44e0238\"}], {\"autosize\": false, \"height\": 1000, \"width\": 1000, \"xaxis\": {\"tickfont\": {\"color\": \"black\", \"size\": 12}, \"title\": \"Feature Importances\"}, \"yaxis\": {\"automargin\": true}}, {\"showLink\": true, \"linkText\": \"Export to plot.ly\", \"plotlyServerURL\": \"https://plot.ly\"})});</script>"
      ]
     },
     "metadata": {},
     "output_type": "display_data"
    },
    {
     "name": "stdout",
     "output_type": "stream",
     "text": [
      "\n",
      "\n",
      "\u001b[1mGradientBoosting Classifier\u001b[0m\n",
      "Accuracy of the model for training data is: 0.9224707872078721\n",
      "Confusion Matrix for training data is:\n"
     ]
    },
    {
     "data": {
      "text/plain": [
       "Predicted  False   True  __all__\n",
       "Actual                          \n",
       "False      22829   3187    26016\n",
       "True         847  25169    26016\n",
       "__all__    23676  28356    52032"
      ]
     },
     "metadata": {},
     "output_type": "display_data"
    },
    {
     "name": "stdout",
     "output_type": "stream",
     "text": [
      "Accuracy of the model for test data is: 0.8835747681459339\n",
      "Confusion Matrix for test data is:\n"
     ]
    },
    {
     "data": {
      "text/plain": [
       "Predicted  False  True  __all__\n",
       "Actual                         \n",
       "False       9718  1380    11098\n",
       "True         139  1810     1949\n",
       "__all__     9857  3190    13047"
      ]
     },
     "metadata": {},
     "output_type": "display_data"
    },
    {
     "data": {
      "application/vnd.plotly.v1+json": {
       "config": {
        "linkText": "Export to plot.ly",
        "plotlyServerURL": "https://plot.ly",
        "showLink": true
       },
       "data": [
        {
         "marker": {
          "color": "rgb(158,202,225)",
          "line": {
           "color": "rgb(8,48,107)",
           "width": 1.5
          }
         },
         "opacity": 0.6,
         "orientation": "h",
         "text": [
          0.3858,
          0.1958,
          0.1689,
          0.067,
          0.0295,
          0.0252,
          0.0199,
          0.0114,
          0.0106,
          0.01,
          0.0083,
          0.008,
          0.0079,
          0.0068,
          0.0055,
          0.0046,
          0.004,
          0.0038,
          0.0037,
          0.0035,
          0.0031,
          0.0029,
          0.0028,
          0.0026,
          0.0024,
          0.0016,
          0.0012,
          0.0009,
          0.0008,
          0.0007,
          0.0004,
          0.0003,
          0.0001,
          0,
          0
         ],
         "textposition": "outside",
         "type": "bar",
         "uid": "497984d2-b6d6-4905-8ca8-c4296e7104a7",
         "x": [
          0.3857663958260139,
          0.19575797465807734,
          0.1688510596267681,
          0.06695483563084739,
          0.029470619798555746,
          0.02516501008310132,
          0.019864501517146943,
          0.011361749925415441,
          0.010586236872523603,
          0.01001003717307622,
          0.008342068679150216,
          0.00803513794841398,
          0.007907746720210145,
          0.006797125401065619,
          0.005517505601102908,
          0.0046483262375738195,
          0.004025439969092507,
          0.0038407780702904106,
          0.003670983764501394,
          0.00346445805892657,
          0.0030845147948224635,
          0.0029119123487355574,
          0.00276682889974523,
          0.002626860657763447,
          0.00242641967228323,
          0.001633693308122319,
          0.0011840093464019173,
          0.0009388807988737,
          0.0008281822610057134,
          0.0006910236557272101,
          0.00040361365832123844,
          0.0003140316347021142,
          7.685188237076349e-05,
          3.789995923795639e-05,
          3.72855600337207e-05
         ],
         "y": [
          "link_href_out_of_domain",
          "div_count",
          "meta_count",
          "script_async_true",
          "script_src_.js",
          "a_href_https",
          "title_count",
          "a_href_http",
          "strong_count",
          "link_href_http",
          "iframe_src_https",
          "script_defer_true",
          "form_action_out_of_domain",
          "center_count",
          "section_count",
          "link_type_text/css",
          "link_href_0",
          "br_count",
          "a_href_.com",
          "h1_count",
          "script_src_out_of_domain",
          "li_count",
          "form_action_http",
          "p_count",
          "link_rel_shortlink",
          "img_src_.jpg",
          "span_count",
          "link_type_application/rsd+xml",
          "link_type_application/rss+xml",
          "link_href_.css",
          "b_count",
          "script_charset_UTF-8",
          "script_type_text/javascript",
          "a_href_.aspx",
          "input_count"
         ]
        }
       ],
       "layout": {
        "autosize": false,
        "height": 1000,
        "width": 1000,
        "xaxis": {
         "tickfont": {
          "color": "black",
          "size": 12
         },
         "title": "Feature Importances"
        },
        "yaxis": {
         "automargin": true
        }
       }
      },
      "text/html": [
       "<div id=\"77783fc3-ea5e-45b1-a5df-b8de5f709d83\" style=\"height: 1000px; width: 1000px;\" class=\"plotly-graph-div\"></div><script type=\"text/javascript\">require([\"plotly\"], function(Plotly) { window.PLOTLYENV=window.PLOTLYENV || {};window.PLOTLYENV.BASE_URL=\"https://plot.ly\";Plotly.newPlot(\"77783fc3-ea5e-45b1-a5df-b8de5f709d83\", [{\"marker\": {\"color\": \"rgb(158,202,225)\", \"line\": {\"color\": \"rgb(8,48,107)\", \"width\": 1.5}}, \"opacity\": 0.6, \"orientation\": \"h\", \"text\": [0.3858, 0.1958, 0.1689, 0.067, 0.0295, 0.0252, 0.0199, 0.0114, 0.0106, 0.01, 0.0083, 0.008, 0.0079, 0.0068, 0.0055, 0.0046, 0.004, 0.0038, 0.0037, 0.0035, 0.0031, 0.0029, 0.0028, 0.0026, 0.0024, 0.0016, 0.0012, 0.0009, 0.0008, 0.0007, 0.0004, 0.0003, 0.0001, 0.0, 0.0], \"textposition\": \"outside\", \"x\": [0.3857663958260139, 0.19575797465807734, 0.1688510596267681, 0.06695483563084739, 0.029470619798555746, 0.02516501008310132, 0.019864501517146943, 0.011361749925415441, 0.010586236872523603, 0.01001003717307622, 0.008342068679150216, 0.00803513794841398, 0.007907746720210145, 0.006797125401065619, 0.005517505601102908, 0.0046483262375738195, 0.004025439969092507, 0.0038407780702904106, 0.003670983764501394, 0.00346445805892657, 0.0030845147948224635, 0.0029119123487355574, 0.00276682889974523, 0.002626860657763447, 0.00242641967228323, 0.001633693308122319, 0.0011840093464019173, 0.0009388807988737, 0.0008281822610057134, 0.0006910236557272101, 0.00040361365832123844, 0.0003140316347021142, 7.685188237076349e-05, 3.789995923795639e-05, 3.72855600337207e-05], \"y\": [\"link_href_out_of_domain\", \"div_count\", \"meta_count\", \"script_async_true\", \"script_src_.js\", \"a_href_https\", \"title_count\", \"a_href_http\", \"strong_count\", \"link_href_http\", \"iframe_src_https\", \"script_defer_true\", \"form_action_out_of_domain\", \"center_count\", \"section_count\", \"link_type_text/css\", \"link_href_0\", \"br_count\", \"a_href_.com\", \"h1_count\", \"script_src_out_of_domain\", \"li_count\", \"form_action_http\", \"p_count\", \"link_rel_shortlink\", \"img_src_.jpg\", \"span_count\", \"link_type_application/rsd+xml\", \"link_type_application/rss+xml\", \"link_href_.css\", \"b_count\", \"script_charset_UTF-8\", \"script_type_text/javascript\", \"a_href_.aspx\", \"input_count\"], \"type\": \"bar\", \"uid\": \"497984d2-b6d6-4905-8ca8-c4296e7104a7\"}], {\"autosize\": false, \"height\": 1000, \"width\": 1000, \"xaxis\": {\"tickfont\": {\"color\": \"black\", \"size\": 12}, \"title\": \"Feature Importances\"}, \"yaxis\": {\"automargin\": true}}, {\"showLink\": true, \"linkText\": \"Export to plot.ly\", \"plotlyServerURL\": \"https://plot.ly\"})});</script>"
      ],
      "text/vnd.plotly.v1+html": [
       "<div id=\"77783fc3-ea5e-45b1-a5df-b8de5f709d83\" style=\"height: 1000px; width: 1000px;\" class=\"plotly-graph-div\"></div><script type=\"text/javascript\">require([\"plotly\"], function(Plotly) { window.PLOTLYENV=window.PLOTLYENV || {};window.PLOTLYENV.BASE_URL=\"https://plot.ly\";Plotly.newPlot(\"77783fc3-ea5e-45b1-a5df-b8de5f709d83\", [{\"marker\": {\"color\": \"rgb(158,202,225)\", \"line\": {\"color\": \"rgb(8,48,107)\", \"width\": 1.5}}, \"opacity\": 0.6, \"orientation\": \"h\", \"text\": [0.3858, 0.1958, 0.1689, 0.067, 0.0295, 0.0252, 0.0199, 0.0114, 0.0106, 0.01, 0.0083, 0.008, 0.0079, 0.0068, 0.0055, 0.0046, 0.004, 0.0038, 0.0037, 0.0035, 0.0031, 0.0029, 0.0028, 0.0026, 0.0024, 0.0016, 0.0012, 0.0009, 0.0008, 0.0007, 0.0004, 0.0003, 0.0001, 0.0, 0.0], \"textposition\": \"outside\", \"x\": [0.3857663958260139, 0.19575797465807734, 0.1688510596267681, 0.06695483563084739, 0.029470619798555746, 0.02516501008310132, 0.019864501517146943, 0.011361749925415441, 0.010586236872523603, 0.01001003717307622, 0.008342068679150216, 0.00803513794841398, 0.007907746720210145, 0.006797125401065619, 0.005517505601102908, 0.0046483262375738195, 0.004025439969092507, 0.0038407780702904106, 0.003670983764501394, 0.00346445805892657, 0.0030845147948224635, 0.0029119123487355574, 0.00276682889974523, 0.002626860657763447, 0.00242641967228323, 0.001633693308122319, 0.0011840093464019173, 0.0009388807988737, 0.0008281822610057134, 0.0006910236557272101, 0.00040361365832123844, 0.0003140316347021142, 7.685188237076349e-05, 3.789995923795639e-05, 3.72855600337207e-05], \"y\": [\"link_href_out_of_domain\", \"div_count\", \"meta_count\", \"script_async_true\", \"script_src_.js\", \"a_href_https\", \"title_count\", \"a_href_http\", \"strong_count\", \"link_href_http\", \"iframe_src_https\", \"script_defer_true\", \"form_action_out_of_domain\", \"center_count\", \"section_count\", \"link_type_text/css\", \"link_href_0\", \"br_count\", \"a_href_.com\", \"h1_count\", \"script_src_out_of_domain\", \"li_count\", \"form_action_http\", \"p_count\", \"link_rel_shortlink\", \"img_src_.jpg\", \"span_count\", \"link_type_application/rsd+xml\", \"link_type_application/rss+xml\", \"link_href_.css\", \"b_count\", \"script_charset_UTF-8\", \"script_type_text/javascript\", \"a_href_.aspx\", \"input_count\"], \"type\": \"bar\", \"uid\": \"497984d2-b6d6-4905-8ca8-c4296e7104a7\"}], {\"autosize\": false, \"height\": 1000, \"width\": 1000, \"xaxis\": {\"tickfont\": {\"color\": \"black\", \"size\": 12}, \"title\": \"Feature Importances\"}, \"yaxis\": {\"automargin\": true}}, {\"showLink\": true, \"linkText\": \"Export to plot.ly\", \"plotlyServerURL\": \"https://plot.ly\"})});</script>"
      ]
     },
     "metadata": {},
     "output_type": "display_data"
    },
    {
     "name": "stdout",
     "output_type": "stream",
     "text": [
      "\n",
      "\n",
      "\u001b[1mExtraTree Classifier\u001b[0m\n",
      "Accuracy of the model for training data is: 0.947109471094711\n",
      "Confusion Matrix for training data is:\n"
     ]
    },
    {
     "data": {
      "text/plain": [
       "Predicted  False   True  __all__\n",
       "Actual                          \n",
       "False      23610   2406    26016\n",
       "True         346  25670    26016\n",
       "__all__    23956  28076    52032"
      ]
     },
     "metadata": {},
     "output_type": "display_data"
    },
    {
     "name": "stdout",
     "output_type": "stream",
     "text": [
      "Accuracy of the model for test data is: 0.9075649574614854\n",
      "Confusion Matrix for test data is:\n"
     ]
    },
    {
     "data": {
      "text/plain": [
       "Predicted  False  True  __all__\n",
       "Actual                         \n",
       "False      10051  1047    11098\n",
       "True         159  1790     1949\n",
       "__all__    10210  2837    13047"
      ]
     },
     "metadata": {},
     "output_type": "display_data"
    },
    {
     "data": {
      "application/vnd.plotly.v1+json": {
       "config": {
        "linkText": "Export to plot.ly",
        "plotlyServerURL": "https://plot.ly",
        "showLink": true
       },
       "data": [
        {
         "marker": {
          "color": "rgb(158,202,225)",
          "line": {
           "color": "rgb(8,48,107)",
           "width": 1.5
          }
         },
         "opacity": 0.6,
         "orientation": "h",
         "text": [
          0.1404,
          0.0796,
          0.0743,
          0.058,
          0.0552,
          0.0545,
          0.0533,
          0.0479,
          0.0446,
          0.0394,
          0.0309,
          0.028,
          0.0247,
          0.0229,
          0.0209,
          0.0183,
          0.0176,
          0.0171,
          0.0166,
          0.0152,
          0.0152,
          0.0144,
          0.0128,
          0.0126,
          0.0125,
          0.012,
          0.0106,
          0.0102,
          0.0093,
          0.0076,
          0.0061,
          0.0057,
          0.0053,
          0.0045,
          0.0016
         ],
         "textposition": "outside",
         "type": "bar",
         "uid": "b8570094-65ff-4089-9510-09ca37f59a42",
         "x": [
          0.14036406954531438,
          0.07964740738394456,
          0.07426447105499458,
          0.05803407703723098,
          0.05520987157171496,
          0.05450546980726876,
          0.053277525551888694,
          0.047901136875637365,
          0.04460048761946615,
          0.039428545350419876,
          0.03091724551863012,
          0.027970603145575968,
          0.024731652453657653,
          0.022932438231110554,
          0.020924696337291597,
          0.018276905738429494,
          0.017561047073881807,
          0.01711425259143306,
          0.01655615458362971,
          0.015242133977618233,
          0.015187879532826826,
          0.014447459992764486,
          0.012832151252575466,
          0.012611586967157223,
          0.012458792843261695,
          0.01200008160259008,
          0.010589821857740708,
          0.010221030685280165,
          0.009293973792041868,
          0.007644344489432538,
          0.006134762201625182,
          0.005734449675689008,
          0.005321379929386192,
          0.004471817438981955,
          0.0015902762895080795
         ],
         "y": [
          "script_async_true",
          "script_src_.js",
          "script_src_out_of_domain",
          "img_src_.jpg",
          "li_count",
          "link_type_text/css",
          "script_type_text/javascript",
          "a_href_https",
          "iframe_src_https",
          "br_count",
          "span_count",
          "link_href_.css",
          "meta_count",
          "a_href_http",
          "p_count",
          "link_href_out_of_domain",
          "form_action_http",
          "div_count",
          "link_href_0",
          "form_action_out_of_domain",
          "link_href_http",
          "section_count",
          "script_charset_UTF-8",
          "link_type_application/rsd+xml",
          "h1_count",
          "b_count",
          "title_count",
          "input_count",
          "strong_count",
          "center_count",
          "script_defer_true",
          "a_href_.com",
          "link_type_application/rss+xml",
          "link_rel_shortlink",
          "a_href_.aspx"
         ]
        }
       ],
       "layout": {
        "autosize": false,
        "height": 1000,
        "width": 1000,
        "xaxis": {
         "tickfont": {
          "color": "black",
          "size": 12
         },
         "title": "Feature Importances"
        },
        "yaxis": {
         "automargin": true
        }
       }
      },
      "text/html": [
       "<div id=\"ac9bfb07-a9f2-49d3-8dd8-a2f938f7a1a1\" style=\"height: 1000px; width: 1000px;\" class=\"plotly-graph-div\"></div><script type=\"text/javascript\">require([\"plotly\"], function(Plotly) { window.PLOTLYENV=window.PLOTLYENV || {};window.PLOTLYENV.BASE_URL=\"https://plot.ly\";Plotly.newPlot(\"ac9bfb07-a9f2-49d3-8dd8-a2f938f7a1a1\", [{\"marker\": {\"color\": \"rgb(158,202,225)\", \"line\": {\"color\": \"rgb(8,48,107)\", \"width\": 1.5}}, \"opacity\": 0.6, \"orientation\": \"h\", \"text\": [0.1404, 0.0796, 0.0743, 0.058, 0.0552, 0.0545, 0.0533, 0.0479, 0.0446, 0.0394, 0.0309, 0.028, 0.0247, 0.0229, 0.0209, 0.0183, 0.0176, 0.0171, 0.0166, 0.0152, 0.0152, 0.0144, 0.0128, 0.0126, 0.0125, 0.012, 0.0106, 0.0102, 0.0093, 0.0076, 0.0061, 0.0057, 0.0053, 0.0045, 0.0016], \"textposition\": \"outside\", \"x\": [0.14036406954531438, 0.07964740738394456, 0.07426447105499458, 0.05803407703723098, 0.05520987157171496, 0.05450546980726876, 0.053277525551888694, 0.047901136875637365, 0.04460048761946615, 0.039428545350419876, 0.03091724551863012, 0.027970603145575968, 0.024731652453657653, 0.022932438231110554, 0.020924696337291597, 0.018276905738429494, 0.017561047073881807, 0.01711425259143306, 0.01655615458362971, 0.015242133977618233, 0.015187879532826826, 0.014447459992764486, 0.012832151252575466, 0.012611586967157223, 0.012458792843261695, 0.01200008160259008, 0.010589821857740708, 0.010221030685280165, 0.009293973792041868, 0.007644344489432538, 0.006134762201625182, 0.005734449675689008, 0.005321379929386192, 0.004471817438981955, 0.0015902762895080795], \"y\": [\"script_async_true\", \"script_src_.js\", \"script_src_out_of_domain\", \"img_src_.jpg\", \"li_count\", \"link_type_text/css\", \"script_type_text/javascript\", \"a_href_https\", \"iframe_src_https\", \"br_count\", \"span_count\", \"link_href_.css\", \"meta_count\", \"a_href_http\", \"p_count\", \"link_href_out_of_domain\", \"form_action_http\", \"div_count\", \"link_href_0\", \"form_action_out_of_domain\", \"link_href_http\", \"section_count\", \"script_charset_UTF-8\", \"link_type_application/rsd+xml\", \"h1_count\", \"b_count\", \"title_count\", \"input_count\", \"strong_count\", \"center_count\", \"script_defer_true\", \"a_href_.com\", \"link_type_application/rss+xml\", \"link_rel_shortlink\", \"a_href_.aspx\"], \"type\": \"bar\", \"uid\": \"b8570094-65ff-4089-9510-09ca37f59a42\"}], {\"autosize\": false, \"height\": 1000, \"width\": 1000, \"xaxis\": {\"tickfont\": {\"color\": \"black\", \"size\": 12}, \"title\": \"Feature Importances\"}, \"yaxis\": {\"automargin\": true}}, {\"showLink\": true, \"linkText\": \"Export to plot.ly\", \"plotlyServerURL\": \"https://plot.ly\"})});</script>"
      ],
      "text/vnd.plotly.v1+html": [
       "<div id=\"ac9bfb07-a9f2-49d3-8dd8-a2f938f7a1a1\" style=\"height: 1000px; width: 1000px;\" class=\"plotly-graph-div\"></div><script type=\"text/javascript\">require([\"plotly\"], function(Plotly) { window.PLOTLYENV=window.PLOTLYENV || {};window.PLOTLYENV.BASE_URL=\"https://plot.ly\";Plotly.newPlot(\"ac9bfb07-a9f2-49d3-8dd8-a2f938f7a1a1\", [{\"marker\": {\"color\": \"rgb(158,202,225)\", \"line\": {\"color\": \"rgb(8,48,107)\", \"width\": 1.5}}, \"opacity\": 0.6, \"orientation\": \"h\", \"text\": [0.1404, 0.0796, 0.0743, 0.058, 0.0552, 0.0545, 0.0533, 0.0479, 0.0446, 0.0394, 0.0309, 0.028, 0.0247, 0.0229, 0.0209, 0.0183, 0.0176, 0.0171, 0.0166, 0.0152, 0.0152, 0.0144, 0.0128, 0.0126, 0.0125, 0.012, 0.0106, 0.0102, 0.0093, 0.0076, 0.0061, 0.0057, 0.0053, 0.0045, 0.0016], \"textposition\": \"outside\", \"x\": [0.14036406954531438, 0.07964740738394456, 0.07426447105499458, 0.05803407703723098, 0.05520987157171496, 0.05450546980726876, 0.053277525551888694, 0.047901136875637365, 0.04460048761946615, 0.039428545350419876, 0.03091724551863012, 0.027970603145575968, 0.024731652453657653, 0.022932438231110554, 0.020924696337291597, 0.018276905738429494, 0.017561047073881807, 0.01711425259143306, 0.01655615458362971, 0.015242133977618233, 0.015187879532826826, 0.014447459992764486, 0.012832151252575466, 0.012611586967157223, 0.012458792843261695, 0.01200008160259008, 0.010589821857740708, 0.010221030685280165, 0.009293973792041868, 0.007644344489432538, 0.006134762201625182, 0.005734449675689008, 0.005321379929386192, 0.004471817438981955, 0.0015902762895080795], \"y\": [\"script_async_true\", \"script_src_.js\", \"script_src_out_of_domain\", \"img_src_.jpg\", \"li_count\", \"link_type_text/css\", \"script_type_text/javascript\", \"a_href_https\", \"iframe_src_https\", \"br_count\", \"span_count\", \"link_href_.css\", \"meta_count\", \"a_href_http\", \"p_count\", \"link_href_out_of_domain\", \"form_action_http\", \"div_count\", \"link_href_0\", \"form_action_out_of_domain\", \"link_href_http\", \"section_count\", \"script_charset_UTF-8\", \"link_type_application/rsd+xml\", \"h1_count\", \"b_count\", \"title_count\", \"input_count\", \"strong_count\", \"center_count\", \"script_defer_true\", \"a_href_.com\", \"link_type_application/rss+xml\", \"link_rel_shortlink\", \"a_href_.aspx\"], \"type\": \"bar\", \"uid\": \"b8570094-65ff-4089-9510-09ca37f59a42\"}], {\"autosize\": false, \"height\": 1000, \"width\": 1000, \"xaxis\": {\"tickfont\": {\"color\": \"black\", \"size\": 12}, \"title\": \"Feature Importances\"}, \"yaxis\": {\"automargin\": true}}, {\"showLink\": true, \"linkText\": \"Export to plot.ly\", \"plotlyServerURL\": \"https://plot.ly\"})});</script>"
      ]
     },
     "metadata": {},
     "output_type": "display_data"
    },
    {
     "name": "stdout",
     "output_type": "stream",
     "text": [
      "\n",
      "\n",
      "\u001b[1mBagging Classifier\u001b[0m\n",
      "Accuracy of the model for training data is: 0.9463599323493235\n",
      "Confusion Matrix for training data is:\n"
     ]
    },
    {
     "data": {
      "text/plain": [
       "Predicted  False   True  __all__\n",
       "Actual                          \n",
       "False      23605   2411    26016\n",
       "True         380  25636    26016\n",
       "__all__    23985  28047    52032"
      ]
     },
     "metadata": {},
     "output_type": "display_data"
    },
    {
     "name": "stdout",
     "output_type": "stream",
     "text": [
      "Accuracy of the model for test data is: 0.9051889323216065\n",
      "Confusion Matrix for test data is:\n"
     ]
    },
    {
     "data": {
      "text/plain": [
       "Predicted  False  True  __all__\n",
       "Actual                         \n",
       "False      10016  1082    11098\n",
       "True         155  1794     1949\n",
       "__all__    10171  2876    13047"
      ]
     },
     "metadata": {},
     "output_type": "display_data"
    },
    {
     "name": "stdout",
     "output_type": "stream",
     "text": [
      "\n",
      "\n",
      "\u001b[1mNeural Network-1\u001b[0m\n",
      "The accuracy of the model on training data is: 0.9357895141451414\n"
     ]
    },
    {
     "data": {
      "text/plain": [
       "Predicted  False   True  __all__\n",
       "Actual                          \n",
       "False      23077   2939    26016\n",
       "True         402  25614    26016\n",
       "__all__    23479  28553    52032"
      ]
     },
     "metadata": {},
     "output_type": "display_data"
    },
    {
     "name": "stdout",
     "output_type": "stream",
     "text": [
      "The accuracy of the model on test data is: 0.8842645818962214\n"
     ]
    },
    {
     "data": {
      "text/plain": [
       "Predicted  False  True  __all__\n",
       "Actual                         \n",
       "False       9723  1375    11098\n",
       "True         135  1814     1949\n",
       "__all__     9858  3189    13047"
      ]
     },
     "metadata": {},
     "output_type": "display_data"
    },
    {
     "name": "stdout",
     "output_type": "stream",
     "text": [
      "\n",
      "\n"
     ]
    }
   ],
   "source": [
    "## Table to store training and test measures so we can compare later\n",
    "table_80_80_train=pd.DataFrame(columns=['accuracy','TP','TN','FP','FN','FPR','FNR'])\n",
    "table_80_80_test=pd.DataFrame(columns=['accuracy','TP','TN','FP','FN','FPR','FNR','auc','mcc'])\n",
    "\n",
    "feat_imp=[None]*4\n",
    "j=0\n",
    "for i in range(0,8):\n",
    "    if i>=2 and i<=5:\n",
    "        model,cm_train,cm_test,acc_train,acc_test,roc_auc,feat_imp[j],mcc=f[i](X_train,Y_train,scaled_X_test,test_Y,columns)\n",
    "        j=j+1\n",
    "    else:\n",
    "        model,cm_train,cm_test,acc_train,acc_test,roc_auc,mcc=f[i](X_train,Y_train,scaled_X_test,test_Y)\n",
    "    table_80_80_train.loc[i]=   ([acc_train,cm_train.TP,cm_train.TN,cm_train.FP,cm_train.FN,cm_train.FPR,cm_train.FNR])\n",
    "    table_80_80_test.loc[i] =   ([acc_test ,cm_test.TP, cm_test.TN, cm_test.FP, cm_test.FN, cm_test.FPR, cm_test.FNR,roc_auc,mcc])\n",
    "    print(\"\\n\")"
   ]
  },
  {
   "cell_type": "markdown",
   "metadata": {},
   "source": [
    "### <a id='2.A' style=\"text-decoration : none; color : #000000;\"> A Results</a>"
   ]
  },
  {
   "cell_type": "code",
   "execution_count": 26,
   "metadata": {},
   "outputs": [
    {
     "data": {
      "application/vnd.plotly.v1+json": {
       "config": {
        "linkText": "Export to plot.ly",
        "plotlyServerURL": "https://plot.ly",
        "showLink": true
       },
       "data": [
        {
         "mode": "lines",
         "name": "KNN_model",
         "type": "scatter",
         "uid": "69f33760-e7c7-4fe5-b263-411bdbe539a4",
         "x": [
          "accuracy",
          "FPR",
          "FNR",
          "auc"
         ],
         "y": [
          0.836590787154135,
          0.04928816002883402,
          0.8132375577219086,
          0.5687371411246286
         ]
        },
        {
         "mode": "lines+markers",
         "name": "Logistic Regression",
         "type": "scatter",
         "uid": "d7b9461b-27cc-436e-a8b9-65461229c68e",
         "x": [
          "accuracy",
          "FPR",
          "FNR",
          "auc"
         ],
         "y": [
          0.8318387368743773,
          0.19120562263470894,
          0.03694202154951257,
          0.8859261779078892
         ]
        },
        {
         "marker": {
          "symbol": "x"
         },
         "mode": "lines+markers",
         "name": "Random Forest",
         "type": "scatter",
         "uid": "ae460bdd-66b2-47fe-89e8-933e27e652d8",
         "x": [
          "accuracy",
          "FPR",
          "FNR",
          "auc"
         ],
         "y": [
          0.9067218517666896,
          0.09551270499189043,
          0.08055413032324268,
          0.9119665823424334
         ]
        },
        {
         "mode": "lines",
         "name": "Ada Boost",
         "type": "scatter",
         "uid": "16f45578-181a-47fe-bb8a-5963b9d18e47",
         "x": [
          "accuracy",
          "FPR",
          "FNR",
          "auc"
         ],
         "y": [
          0.8677856978615773,
          0.14417012074247612,
          0.06413545407901487,
          0.8958472125892545
         ]
        },
        {
         "mode": "lines+markers",
         "name": "GradientBoosting",
         "type": "scatter",
         "uid": "481bf4f7-9fff-46d8-9941-d764d35efe09",
         "x": [
          "accuracy",
          "FPR",
          "FNR",
          "auc"
         ],
         "y": [
          0.8835747681459339,
          0.12434672914038565,
          0.07131862493586455,
          0.9021673229618747
         ]
        },
        {
         "marker": {
          "symbol": "x"
         },
         "mode": "lines+markers",
         "name": "ExtraTree Classifier",
         "type": "scatter",
         "uid": "37096576-6811-4067-a4f1-08090b1035c9",
         "x": [
          "accuracy",
          "FPR",
          "FNR",
          "auc"
         ],
         "y": [
          0.9075649574614854,
          0.09434132276085781,
          0.08158029758850692,
          0.9120391898253176
         ]
        },
        {
         "marker": {
          "symbol": "x"
         },
         "mode": "lines+markers",
         "name": "Bagging",
         "type": "scatter",
         "uid": "4398612e-4c3b-4dec-95d6-42564b596f4c",
         "x": [
          "accuracy",
          "FPR",
          "FNR",
          "auc"
         ],
         "y": [
          0.9051889323216065,
          0.09749504415209947,
          0.07952796305797845,
          0.9114884963949611
         ]
        },
        {
         "marker": {
          "symbol": "x"
         },
         "mode": "lines+markers",
         "name": "Neural Network",
         "type": "scatter",
         "uid": "dc49d4ee-d6a9-4064-9673-746624edd9c8",
         "x": [
          "accuracy",
          "FPR",
          "FNR",
          "auc"
         ],
         "y": [
          0.8842645818962214,
          0.12389619751306542,
          0.06926629040533606,
          0.9034187560407992
         ]
        }
       ],
       "layout": {
        "title": "Result comparision for Features selected in Section 1",
        "yaxis": {
         "dtick": 0.05,
         "tick0": 0
        }
       }
      },
      "text/html": [
       "<div id=\"e3111ce6-a8a8-4135-9cbf-3cce2a38e1c1\" style=\"height: 525px; width: 100%;\" class=\"plotly-graph-div\"></div><script type=\"text/javascript\">require([\"plotly\"], function(Plotly) { window.PLOTLYENV=window.PLOTLYENV || {};window.PLOTLYENV.BASE_URL=\"https://plot.ly\";Plotly.newPlot(\"e3111ce6-a8a8-4135-9cbf-3cce2a38e1c1\", [{\"mode\": \"lines\", \"name\": \"KNN_model\", \"x\": [\"accuracy\", \"FPR\", \"FNR\", \"auc\"], \"y\": [0.836590787154135, 0.04928816002883402, 0.8132375577219086, 0.5687371411246286], \"type\": \"scatter\", \"uid\": \"69f33760-e7c7-4fe5-b263-411bdbe539a4\"}, {\"mode\": \"lines+markers\", \"name\": \"Logistic Regression\", \"x\": [\"accuracy\", \"FPR\", \"FNR\", \"auc\"], \"y\": [0.8318387368743773, 0.19120562263470894, 0.03694202154951257, 0.8859261779078892], \"type\": \"scatter\", \"uid\": \"d7b9461b-27cc-436e-a8b9-65461229c68e\"}, {\"marker\": {\"symbol\": \"x\"}, \"mode\": \"lines+markers\", \"name\": \"Random Forest\", \"x\": [\"accuracy\", \"FPR\", \"FNR\", \"auc\"], \"y\": [0.9067218517666896, 0.09551270499189043, 0.08055413032324268, 0.9119665823424334], \"type\": \"scatter\", \"uid\": \"ae460bdd-66b2-47fe-89e8-933e27e652d8\"}, {\"mode\": \"lines\", \"name\": \"Ada Boost\", \"x\": [\"accuracy\", \"FPR\", \"FNR\", \"auc\"], \"y\": [0.8677856978615773, 0.14417012074247612, 0.06413545407901487, 0.8958472125892545], \"type\": \"scatter\", \"uid\": \"16f45578-181a-47fe-bb8a-5963b9d18e47\"}, {\"mode\": \"lines+markers\", \"name\": \"GradientBoosting\", \"x\": [\"accuracy\", \"FPR\", \"FNR\", \"auc\"], \"y\": [0.8835747681459339, 0.12434672914038565, 0.07131862493586455, 0.9021673229618747], \"type\": \"scatter\", \"uid\": \"481bf4f7-9fff-46d8-9941-d764d35efe09\"}, {\"marker\": {\"symbol\": \"x\"}, \"mode\": \"lines+markers\", \"name\": \"ExtraTree Classifier\", \"x\": [\"accuracy\", \"FPR\", \"FNR\", \"auc\"], \"y\": [0.9075649574614854, 0.09434132276085781, 0.08158029758850692, 0.9120391898253176], \"type\": \"scatter\", \"uid\": \"37096576-6811-4067-a4f1-08090b1035c9\"}, {\"marker\": {\"symbol\": \"x\"}, \"mode\": \"lines+markers\", \"name\": \"Bagging\", \"x\": [\"accuracy\", \"FPR\", \"FNR\", \"auc\"], \"y\": [0.9051889323216065, 0.09749504415209947, 0.07952796305797845, 0.9114884963949611], \"type\": \"scatter\", \"uid\": \"4398612e-4c3b-4dec-95d6-42564b596f4c\"}, {\"marker\": {\"symbol\": \"x\"}, \"mode\": \"lines+markers\", \"name\": \"Neural Network\", \"x\": [\"accuracy\", \"FPR\", \"FNR\", \"auc\"], \"y\": [0.8842645818962214, 0.12389619751306542, 0.06926629040533606, 0.9034187560407992], \"type\": \"scatter\", \"uid\": \"dc49d4ee-d6a9-4064-9673-746624edd9c8\"}], {\"title\": \"Result comparision for Features selected in Section 1\", \"yaxis\": {\"dtick\": 0.05, \"tick0\": 0}}, {\"showLink\": true, \"linkText\": \"Export to plot.ly\", \"plotlyServerURL\": \"https://plot.ly\"})});</script><script type=\"text/javascript\">window.addEventListener(\"resize\", function(){window._Plotly.Plots.resize(document.getElementById(\"e3111ce6-a8a8-4135-9cbf-3cce2a38e1c1\"));});</script>"
      ],
      "text/vnd.plotly.v1+html": [
       "<div id=\"e3111ce6-a8a8-4135-9cbf-3cce2a38e1c1\" style=\"height: 525px; width: 100%;\" class=\"plotly-graph-div\"></div><script type=\"text/javascript\">require([\"plotly\"], function(Plotly) { window.PLOTLYENV=window.PLOTLYENV || {};window.PLOTLYENV.BASE_URL=\"https://plot.ly\";Plotly.newPlot(\"e3111ce6-a8a8-4135-9cbf-3cce2a38e1c1\", [{\"mode\": \"lines\", \"name\": \"KNN_model\", \"x\": [\"accuracy\", \"FPR\", \"FNR\", \"auc\"], \"y\": [0.836590787154135, 0.04928816002883402, 0.8132375577219086, 0.5687371411246286], \"type\": \"scatter\", \"uid\": \"69f33760-e7c7-4fe5-b263-411bdbe539a4\"}, {\"mode\": \"lines+markers\", \"name\": \"Logistic Regression\", \"x\": [\"accuracy\", \"FPR\", \"FNR\", \"auc\"], \"y\": [0.8318387368743773, 0.19120562263470894, 0.03694202154951257, 0.8859261779078892], \"type\": \"scatter\", \"uid\": \"d7b9461b-27cc-436e-a8b9-65461229c68e\"}, {\"marker\": {\"symbol\": \"x\"}, \"mode\": \"lines+markers\", \"name\": \"Random Forest\", \"x\": [\"accuracy\", \"FPR\", \"FNR\", \"auc\"], \"y\": [0.9067218517666896, 0.09551270499189043, 0.08055413032324268, 0.9119665823424334], \"type\": \"scatter\", \"uid\": \"ae460bdd-66b2-47fe-89e8-933e27e652d8\"}, {\"mode\": \"lines\", \"name\": \"Ada Boost\", \"x\": [\"accuracy\", \"FPR\", \"FNR\", \"auc\"], \"y\": [0.8677856978615773, 0.14417012074247612, 0.06413545407901487, 0.8958472125892545], \"type\": \"scatter\", \"uid\": \"16f45578-181a-47fe-bb8a-5963b9d18e47\"}, {\"mode\": \"lines+markers\", \"name\": \"GradientBoosting\", \"x\": [\"accuracy\", \"FPR\", \"FNR\", \"auc\"], \"y\": [0.8835747681459339, 0.12434672914038565, 0.07131862493586455, 0.9021673229618747], \"type\": \"scatter\", \"uid\": \"481bf4f7-9fff-46d8-9941-d764d35efe09\"}, {\"marker\": {\"symbol\": \"x\"}, \"mode\": \"lines+markers\", \"name\": \"ExtraTree Classifier\", \"x\": [\"accuracy\", \"FPR\", \"FNR\", \"auc\"], \"y\": [0.9075649574614854, 0.09434132276085781, 0.08158029758850692, 0.9120391898253176], \"type\": \"scatter\", \"uid\": \"37096576-6811-4067-a4f1-08090b1035c9\"}, {\"marker\": {\"symbol\": \"x\"}, \"mode\": \"lines+markers\", \"name\": \"Bagging\", \"x\": [\"accuracy\", \"FPR\", \"FNR\", \"auc\"], \"y\": [0.9051889323216065, 0.09749504415209947, 0.07952796305797845, 0.9114884963949611], \"type\": \"scatter\", \"uid\": \"4398612e-4c3b-4dec-95d6-42564b596f4c\"}, {\"marker\": {\"symbol\": \"x\"}, \"mode\": \"lines+markers\", \"name\": \"Neural Network\", \"x\": [\"accuracy\", \"FPR\", \"FNR\", \"auc\"], \"y\": [0.8842645818962214, 0.12389619751306542, 0.06926629040533606, 0.9034187560407992], \"type\": \"scatter\", \"uid\": \"dc49d4ee-d6a9-4064-9673-746624edd9c8\"}], {\"title\": \"Result comparision for Features selected in Section 1\", \"yaxis\": {\"dtick\": 0.05, \"tick0\": 0}}, {\"showLink\": true, \"linkText\": \"Export to plot.ly\", \"plotlyServerURL\": \"https://plot.ly\"})});</script><script type=\"text/javascript\">window.addEventListener(\"resize\", function(){window._Plotly.Plots.resize(document.getElementById(\"e3111ce6-a8a8-4135-9cbf-3cce2a38e1c1\"));});</script>"
      ]
     },
     "metadata": {},
     "output_type": "display_data"
    }
   ],
   "source": [
    "trace0 = go.Scatter(x=table_80_80_test.iloc[0].index.values[[0,5,6,7]],\n",
    "                    y=table_80_80_test.iloc[0].values[[0,5,6,7]],\n",
    "                    mode = 'lines',\n",
    "                    name = 'KNN_model')\n",
    "\n",
    "trace1 = go.Scatter(x=table_80_80_test.iloc[1].index.values[[0,5,6,7]],\n",
    "                    y=table_80_80_test.iloc[1].values[[0,5,6,7]],\n",
    "                    mode = 'lines+markers',\n",
    "                    name = 'Logistic Regression')\n",
    "\n",
    "trace2 = go.Scatter(x=table_80_80_test.iloc[2].index.values[[0,5,6,7]],\n",
    "                    y=table_80_80_test.iloc[2].values[[0,5,6,7]],\n",
    "                    mode = 'lines+markers',marker=dict(symbol='x'),\n",
    "                    name = 'Random Forest')\n",
    "\n",
    "\n",
    "trace3 = go.Scatter(x=table_80_80_test.iloc[3].index.values[[0,5,6,7]],\n",
    "                    y=table_80_80_test.iloc[3].values[[0,5,6,7]],\n",
    "                    mode = 'lines',\n",
    "                    name = 'Ada Boost')\n",
    "\n",
    "trace4 = go.Scatter(x=table_80_80_test.iloc[4].index.values[[0,5,6,7]],\n",
    "                    y=table_80_80_test.iloc[4].values[[0,5,6,7]],\n",
    "                    mode = 'lines+markers',\n",
    "                    name = 'GradientBoosting')\n",
    "\n",
    "trace5 = go.Scatter(x=table_80_80_test.iloc[5].index.values[[0,5,6,7]],\n",
    "                    y=table_80_80_test.iloc[5].values[[0,5,6,7]],\n",
    "                    mode = 'lines+markers',marker=dict(symbol='x'),\n",
    "                    name = 'ExtraTree Classifier')\n",
    "\n",
    "trace6 = go.Scatter(x=table_80_80_test.iloc[6].index.values[[0,5,6,7]],\n",
    "                    y=table_80_80_test.iloc[6].values[[0,5,6,7]],\n",
    "                    mode = 'lines+markers',marker=dict(symbol='x'),\n",
    "                    name = 'Bagging')\n",
    "\n",
    "trace7 = go.Scatter(x=table_80_80_test.iloc[7].index.values[[0,5,6,7]],\n",
    "                    y=table_80_80_test.iloc[7].values[[0,5,6,7]],\n",
    "                    mode = 'lines+markers',marker=dict(symbol='x'),\n",
    "                    name = 'Neural Network')\n",
    "\n",
    "\n",
    "\n",
    "data = [trace0, trace1, trace2, trace3, trace4, trace5, trace6, trace7]\n",
    "layout = go.Layout(yaxis=dict(tick0=0,dtick=0.05),title='Result comparision for Features selected in Section 1')\n",
    "fig = go.Figure(data=data, layout=layout)\n",
    "\n",
    "iplot(fig, filename='Result')"
   ]
  },
  {
   "cell_type": "code",
   "execution_count": 27,
   "metadata": {},
   "outputs": [
    {
     "name": "stdout",
     "output_type": "stream",
     "text": [
      "Training Results\n"
     ]
    },
    {
     "data": {
      "text/html": [
       "<div>\n",
       "<style scoped>\n",
       "    .dataframe tbody tr th:only-of-type {\n",
       "        vertical-align: middle;\n",
       "    }\n",
       "\n",
       "    .dataframe tbody tr th {\n",
       "        vertical-align: top;\n",
       "    }\n",
       "\n",
       "    .dataframe thead th {\n",
       "        text-align: right;\n",
       "    }\n",
       "</style>\n",
       "<table border=\"1\" class=\"dataframe\">\n",
       "  <thead>\n",
       "    <tr style=\"text-align: right;\">\n",
       "      <th></th>\n",
       "      <th>accuracy</th>\n",
       "      <th>TP</th>\n",
       "      <th>TN</th>\n",
       "      <th>FP</th>\n",
       "      <th>FN</th>\n",
       "      <th>FPR</th>\n",
       "      <th>FNR</th>\n",
       "    </tr>\n",
       "    <tr>\n",
       "      <th>index</th>\n",
       "      <th></th>\n",
       "      <th></th>\n",
       "      <th></th>\n",
       "      <th></th>\n",
       "      <th></th>\n",
       "      <th></th>\n",
       "      <th></th>\n",
       "    </tr>\n",
       "  </thead>\n",
       "  <tbody>\n",
       "    <tr>\n",
       "      <th>KNeighborsClassifier</th>\n",
       "      <td>0.596325</td>\n",
       "      <td>6035.0</td>\n",
       "      <td>24993.0</td>\n",
       "      <td>1023.0</td>\n",
       "      <td>19981.0</td>\n",
       "      <td>0.039322</td>\n",
       "      <td>0.768027</td>\n",
       "    </tr>\n",
       "    <tr>\n",
       "      <th>LogisticRegression</th>\n",
       "      <td>0.885570</td>\n",
       "      <td>24898.0</td>\n",
       "      <td>21180.0</td>\n",
       "      <td>4836.0</td>\n",
       "      <td>1118.0</td>\n",
       "      <td>0.185886</td>\n",
       "      <td>0.042974</td>\n",
       "    </tr>\n",
       "    <tr>\n",
       "      <th>RandomForestClassifier</th>\n",
       "      <td>0.946341</td>\n",
       "      <td>25637.0</td>\n",
       "      <td>23603.0</td>\n",
       "      <td>2413.0</td>\n",
       "      <td>379.0</td>\n",
       "      <td>0.092751</td>\n",
       "      <td>0.014568</td>\n",
       "    </tr>\n",
       "    <tr>\n",
       "      <th>AdaBoostClassifier</th>\n",
       "      <td>0.903021</td>\n",
       "      <td>24697.0</td>\n",
       "      <td>22289.0</td>\n",
       "      <td>3727.0</td>\n",
       "      <td>1319.0</td>\n",
       "      <td>0.143258</td>\n",
       "      <td>0.050700</td>\n",
       "    </tr>\n",
       "    <tr>\n",
       "      <th>GradientBoostingClassifier</th>\n",
       "      <td>0.922471</td>\n",
       "      <td>25169.0</td>\n",
       "      <td>22829.0</td>\n",
       "      <td>3187.0</td>\n",
       "      <td>847.0</td>\n",
       "      <td>0.122502</td>\n",
       "      <td>0.032557</td>\n",
       "    </tr>\n",
       "    <tr>\n",
       "      <th>ExtraTreeClassifier</th>\n",
       "      <td>0.947109</td>\n",
       "      <td>25670.0</td>\n",
       "      <td>23610.0</td>\n",
       "      <td>2406.0</td>\n",
       "      <td>346.0</td>\n",
       "      <td>0.092482</td>\n",
       "      <td>0.013300</td>\n",
       "    </tr>\n",
       "    <tr>\n",
       "      <th>BaggingClassifier</th>\n",
       "      <td>0.946360</td>\n",
       "      <td>25636.0</td>\n",
       "      <td>23605.0</td>\n",
       "      <td>2411.0</td>\n",
       "      <td>380.0</td>\n",
       "      <td>0.092674</td>\n",
       "      <td>0.014606</td>\n",
       "    </tr>\n",
       "    <tr>\n",
       "      <th>Neural Network-1</th>\n",
       "      <td>0.935790</td>\n",
       "      <td>25614.0</td>\n",
       "      <td>23077.0</td>\n",
       "      <td>2939.0</td>\n",
       "      <td>402.0</td>\n",
       "      <td>0.112969</td>\n",
       "      <td>0.015452</td>\n",
       "    </tr>\n",
       "  </tbody>\n",
       "</table>\n",
       "</div>"
      ],
      "text/plain": [
       "                            accuracy       TP       TN      FP       FN  \\\n",
       "index                                                                     \n",
       "KNeighborsClassifier        0.596325   6035.0  24993.0  1023.0  19981.0   \n",
       "LogisticRegression          0.885570  24898.0  21180.0  4836.0   1118.0   \n",
       "RandomForestClassifier      0.946341  25637.0  23603.0  2413.0    379.0   \n",
       "AdaBoostClassifier          0.903021  24697.0  22289.0  3727.0   1319.0   \n",
       "GradientBoostingClassifier  0.922471  25169.0  22829.0  3187.0    847.0   \n",
       "ExtraTreeClassifier         0.947109  25670.0  23610.0  2406.0    346.0   \n",
       "BaggingClassifier           0.946360  25636.0  23605.0  2411.0    380.0   \n",
       "Neural Network-1            0.935790  25614.0  23077.0  2939.0    402.0   \n",
       "\n",
       "                                 FPR       FNR  \n",
       "index                                           \n",
       "KNeighborsClassifier        0.039322  0.768027  \n",
       "LogisticRegression          0.185886  0.042974  \n",
       "RandomForestClassifier      0.092751  0.014568  \n",
       "AdaBoostClassifier          0.143258  0.050700  \n",
       "GradientBoostingClassifier  0.122502  0.032557  \n",
       "ExtraTreeClassifier         0.092482  0.013300  \n",
       "BaggingClassifier           0.092674  0.014606  \n",
       "Neural Network-1            0.112969  0.015452  "
      ]
     },
     "metadata": {},
     "output_type": "display_data"
    },
    {
     "name": "stdout",
     "output_type": "stream",
     "text": [
      "Test Results\n"
     ]
    },
    {
     "data": {
      "text/html": [
       "<div>\n",
       "<style scoped>\n",
       "    .dataframe tbody tr th:only-of-type {\n",
       "        vertical-align: middle;\n",
       "    }\n",
       "\n",
       "    .dataframe tbody tr th {\n",
       "        vertical-align: top;\n",
       "    }\n",
       "\n",
       "    .dataframe thead th {\n",
       "        text-align: right;\n",
       "    }\n",
       "</style>\n",
       "<table border=\"1\" class=\"dataframe\">\n",
       "  <thead>\n",
       "    <tr style=\"text-align: right;\">\n",
       "      <th></th>\n",
       "      <th>accuracy</th>\n",
       "      <th>TP</th>\n",
       "      <th>TN</th>\n",
       "      <th>FP</th>\n",
       "      <th>FN</th>\n",
       "      <th>FPR</th>\n",
       "      <th>FNR</th>\n",
       "      <th>auc</th>\n",
       "      <th>mcc</th>\n",
       "    </tr>\n",
       "    <tr>\n",
       "      <th>index</th>\n",
       "      <th></th>\n",
       "      <th></th>\n",
       "      <th></th>\n",
       "      <th></th>\n",
       "      <th></th>\n",
       "      <th></th>\n",
       "      <th></th>\n",
       "      <th></th>\n",
       "      <th></th>\n",
       "    </tr>\n",
       "  </thead>\n",
       "  <tbody>\n",
       "    <tr>\n",
       "      <th>KNeighborsClassifier</th>\n",
       "      <td>0.836591</td>\n",
       "      <td>364.0</td>\n",
       "      <td>10551.0</td>\n",
       "      <td>547.0</td>\n",
       "      <td>1585.0</td>\n",
       "      <td>0.049288</td>\n",
       "      <td>0.813238</td>\n",
       "      <td>0.568737</td>\n",
       "      <td>0.192288</td>\n",
       "    </tr>\n",
       "    <tr>\n",
       "      <th>LogisticRegression</th>\n",
       "      <td>0.831839</td>\n",
       "      <td>1877.0</td>\n",
       "      <td>8976.0</td>\n",
       "      <td>2122.0</td>\n",
       "      <td>72.0</td>\n",
       "      <td>0.191206</td>\n",
       "      <td>0.036942</td>\n",
       "      <td>0.885926</td>\n",
       "      <td>0.596775</td>\n",
       "    </tr>\n",
       "    <tr>\n",
       "      <th>RandomForestClassifier</th>\n",
       "      <td>0.906722</td>\n",
       "      <td>1792.0</td>\n",
       "      <td>10038.0</td>\n",
       "      <td>1060.0</td>\n",
       "      <td>157.0</td>\n",
       "      <td>0.095513</td>\n",
       "      <td>0.080554</td>\n",
       "      <td>0.911967</td>\n",
       "      <td>0.710644</td>\n",
       "    </tr>\n",
       "    <tr>\n",
       "      <th>AdaBoostClassifier</th>\n",
       "      <td>0.867786</td>\n",
       "      <td>1824.0</td>\n",
       "      <td>9498.0</td>\n",
       "      <td>1600.0</td>\n",
       "      <td>125.0</td>\n",
       "      <td>0.144170</td>\n",
       "      <td>0.064135</td>\n",
       "      <td>0.895847</td>\n",
       "      <td>0.641451</td>\n",
       "    </tr>\n",
       "    <tr>\n",
       "      <th>GradientBoostingClassifier</th>\n",
       "      <td>0.883575</td>\n",
       "      <td>1810.0</td>\n",
       "      <td>9718.0</td>\n",
       "      <td>1380.0</td>\n",
       "      <td>139.0</td>\n",
       "      <td>0.124347</td>\n",
       "      <td>0.071319</td>\n",
       "      <td>0.902167</td>\n",
       "      <td>0.667110</td>\n",
       "    </tr>\n",
       "    <tr>\n",
       "      <th>ExtraTreeClassifier</th>\n",
       "      <td>0.907565</td>\n",
       "      <td>1790.0</td>\n",
       "      <td>10051.0</td>\n",
       "      <td>1047.0</td>\n",
       "      <td>159.0</td>\n",
       "      <td>0.094341</td>\n",
       "      <td>0.081580</td>\n",
       "      <td>0.912039</td>\n",
       "      <td>0.712122</td>\n",
       "    </tr>\n",
       "    <tr>\n",
       "      <th>BaggingClassifier</th>\n",
       "      <td>0.905189</td>\n",
       "      <td>1794.0</td>\n",
       "      <td>10016.0</td>\n",
       "      <td>1082.0</td>\n",
       "      <td>155.0</td>\n",
       "      <td>0.097495</td>\n",
       "      <td>0.079528</td>\n",
       "      <td>0.911488</td>\n",
       "      <td>0.707685</td>\n",
       "    </tr>\n",
       "    <tr>\n",
       "      <th>Neural Network-1</th>\n",
       "      <td>0.884265</td>\n",
       "      <td>1814.0</td>\n",
       "      <td>9723.0</td>\n",
       "      <td>1375.0</td>\n",
       "      <td>135.0</td>\n",
       "      <td>0.123896</td>\n",
       "      <td>0.069266</td>\n",
       "      <td>0.903419</td>\n",
       "      <td>0.669257</td>\n",
       "    </tr>\n",
       "  </tbody>\n",
       "</table>\n",
       "</div>"
      ],
      "text/plain": [
       "                            accuracy      TP       TN      FP      FN  \\\n",
       "index                                                                   \n",
       "KNeighborsClassifier        0.836591   364.0  10551.0   547.0  1585.0   \n",
       "LogisticRegression          0.831839  1877.0   8976.0  2122.0    72.0   \n",
       "RandomForestClassifier      0.906722  1792.0  10038.0  1060.0   157.0   \n",
       "AdaBoostClassifier          0.867786  1824.0   9498.0  1600.0   125.0   \n",
       "GradientBoostingClassifier  0.883575  1810.0   9718.0  1380.0   139.0   \n",
       "ExtraTreeClassifier         0.907565  1790.0  10051.0  1047.0   159.0   \n",
       "BaggingClassifier           0.905189  1794.0  10016.0  1082.0   155.0   \n",
       "Neural Network-1            0.884265  1814.0   9723.0  1375.0   135.0   \n",
       "\n",
       "                                 FPR       FNR       auc       mcc  \n",
       "index                                                               \n",
       "KNeighborsClassifier        0.049288  0.813238  0.568737  0.192288  \n",
       "LogisticRegression          0.191206  0.036942  0.885926  0.596775  \n",
       "RandomForestClassifier      0.095513  0.080554  0.911967  0.710644  \n",
       "AdaBoostClassifier          0.144170  0.064135  0.895847  0.641451  \n",
       "GradientBoostingClassifier  0.124347  0.071319  0.902167  0.667110  \n",
       "ExtraTreeClassifier         0.094341  0.081580  0.912039  0.712122  \n",
       "BaggingClassifier           0.097495  0.079528  0.911488  0.707685  \n",
       "Neural Network-1            0.123896  0.069266  0.903419  0.669257  "
      ]
     },
     "metadata": {},
     "output_type": "display_data"
    }
   ],
   "source": [
    "table_80_80_train['index']=ind_columns\n",
    "table_80_80_test['index']=ind_columns\n",
    "\n",
    "\n",
    "table_80_80_test.set_index(['index'],drop=True,inplace=True)\n",
    "table_80_80_train.set_index(['index'],drop=True,inplace=True)\n",
    "\n",
    "print(\"Training Results\")\n",
    "display(table_80_80_train)\n",
    "print(\"Test Results\")\n",
    "display(table_80_80_test)"
   ]
  },
  {
   "cell_type": "markdown",
   "metadata": {},
   "source": [
    "### <a id='2.B' style=\"text-decoration : none; color : #000000;\"> B. Average Feature Importances</a>"
   ]
  },
  {
   "cell_type": "code",
   "execution_count": 28,
   "metadata": {},
   "outputs": [
    {
     "data": {
      "application/vnd.plotly.v1+json": {
       "config": {
        "linkText": "Export to plot.ly",
        "plotlyServerURL": "https://plot.ly",
        "showLink": true
       },
       "data": [
        {
         "marker": {
          "color": "rgb(158,202,225)",
          "line": {
           "color": "rgb(8,48,107)",
           "width": 1.5
          }
         },
         "opacity": 0.6,
         "orientation": "h",
         "text": [
          0.1488,
          0.1235,
          0.074,
          0.0661,
          0.0653,
          0.044,
          0.0438,
          0.0337,
          0.0336,
          0.0276,
          0.0258,
          0.0237,
          0.0216,
          0.0215,
          0.0214,
          0.0193,
          0.019,
          0.0164,
          0.0163,
          0.0159,
          0.015,
          0.0145,
          0.0139,
          0.0136,
          0.0132,
          0.0124,
          0.0116,
          0.0108,
          0.0074,
          0.0072,
          0.0055,
          0.0041,
          0.0037,
          0.0036,
          0.0022
         ],
         "textposition": "outside",
         "type": "bar",
         "uid": "952e276a-2335-46db-ba47-2b5f74b7ec9a",
         "x": [
          0.1488398321736203,
          0.12345821379092499,
          0.07398093468890285,
          0.06614435456333892,
          0.06533300483475019,
          0.04401607247028596,
          0.043785507665845616,
          0.03366834362189644,
          0.033616808890260086,
          0.027575571034245596,
          0.025790306261978882,
          0.023651612059077377,
          0.02155016590308017,
          0.021548967994035897,
          0.021383178901240425,
          0.01929023500908806,
          0.018993394013947198,
          0.016401426266804596,
          0.016261293134454888,
          0.015947708542315236,
          0.014979317590464168,
          0.014471747715090159,
          0.013913369802776951,
          0.013633464755328683,
          0.013205437075403668,
          0.012445885704925731,
          0.011591266431431116,
          0.010752604763612516,
          0.0074072505853934505,
          0.007200381023709246,
          0.005498607990313249,
          0.004133692935990932,
          0.0037371755529254204,
          0.0036399581883851577,
          0.002152908064155957
         ],
         "y": [
          "link_href_out_of_domain",
          "script_async_true",
          "div_count",
          "a_href_https",
          "meta_count",
          "title_count",
          "script_src_out_of_domain",
          "br_count",
          "script_src_.js",
          "li_count",
          "iframe_src_https",
          "a_href_http",
          "link_href_0",
          "link_type_text/css",
          "img_src_.jpg",
          "p_count",
          "b_count",
          "form_action_http",
          "script_type_text/javascript",
          "h1_count",
          "script_defer_true",
          "center_count",
          "link_href_.css",
          "link_href_http",
          "a_href_.com",
          "strong_count",
          "section_count",
          "span_count",
          "form_action_out_of_domain",
          "link_rel_shortlink",
          "a_href_.aspx",
          "link_type_application/rsd+xml",
          "script_charset_UTF-8",
          "input_count",
          "link_type_application/rss+xml"
         ]
        }
       ],
       "layout": {
        "autosize": false,
        "height": 1000,
        "width": 1000,
        "xaxis": {
         "tickfont": {
          "color": "black",
          "size": 12
         },
         "title": "Feature Importances"
        },
        "yaxis": {
         "automargin": true
        }
       }
      },
      "text/html": [
       "<div id=\"5956d1a0-1134-458c-897d-557b17a092a2\" style=\"height: 1000px; width: 1000px;\" class=\"plotly-graph-div\"></div><script type=\"text/javascript\">require([\"plotly\"], function(Plotly) { window.PLOTLYENV=window.PLOTLYENV || {};window.PLOTLYENV.BASE_URL=\"https://plot.ly\";Plotly.newPlot(\"5956d1a0-1134-458c-897d-557b17a092a2\", [{\"marker\": {\"color\": \"rgb(158,202,225)\", \"line\": {\"color\": \"rgb(8,48,107)\", \"width\": 1.5}}, \"opacity\": 0.6, \"orientation\": \"h\", \"text\": [0.1488, 0.1235, 0.074, 0.0661, 0.0653, 0.044, 0.0438, 0.0337, 0.0336, 0.0276, 0.0258, 0.0237, 0.0216, 0.0215, 0.0214, 0.0193, 0.019, 0.0164, 0.0163, 0.0159, 0.015, 0.0145, 0.0139, 0.0136, 0.0132, 0.0124, 0.0116, 0.0108, 0.0074, 0.0072, 0.0055, 0.0041, 0.0037, 0.0036, 0.0022], \"textposition\": \"outside\", \"x\": [0.1488398321736203, 0.12345821379092499, 0.07398093468890285, 0.06614435456333892, 0.06533300483475019, 0.04401607247028596, 0.043785507665845616, 0.03366834362189644, 0.033616808890260086, 0.027575571034245596, 0.025790306261978882, 0.023651612059077377, 0.02155016590308017, 0.021548967994035897, 0.021383178901240425, 0.01929023500908806, 0.018993394013947198, 0.016401426266804596, 0.016261293134454888, 0.015947708542315236, 0.014979317590464168, 0.014471747715090159, 0.013913369802776951, 0.013633464755328683, 0.013205437075403668, 0.012445885704925731, 0.011591266431431116, 0.010752604763612516, 0.0074072505853934505, 0.007200381023709246, 0.005498607990313249, 0.004133692935990932, 0.0037371755529254204, 0.0036399581883851577, 0.002152908064155957], \"y\": [\"link_href_out_of_domain\", \"script_async_true\", \"div_count\", \"a_href_https\", \"meta_count\", \"title_count\", \"script_src_out_of_domain\", \"br_count\", \"script_src_.js\", \"li_count\", \"iframe_src_https\", \"a_href_http\", \"link_href_0\", \"link_type_text/css\", \"img_src_.jpg\", \"p_count\", \"b_count\", \"form_action_http\", \"script_type_text/javascript\", \"h1_count\", \"script_defer_true\", \"center_count\", \"link_href_.css\", \"link_href_http\", \"a_href_.com\", \"strong_count\", \"section_count\", \"span_count\", \"form_action_out_of_domain\", \"link_rel_shortlink\", \"a_href_.aspx\", \"link_type_application/rsd+xml\", \"script_charset_UTF-8\", \"input_count\", \"link_type_application/rss+xml\"], \"type\": \"bar\", \"uid\": \"952e276a-2335-46db-ba47-2b5f74b7ec9a\"}], {\"autosize\": false, \"height\": 1000, \"width\": 1000, \"xaxis\": {\"tickfont\": {\"color\": \"black\", \"size\": 12}, \"title\": \"Feature Importances\"}, \"yaxis\": {\"automargin\": true}}, {\"showLink\": true, \"linkText\": \"Export to plot.ly\", \"plotlyServerURL\": \"https://plot.ly\"})});</script>"
      ],
      "text/vnd.plotly.v1+html": [
       "<div id=\"5956d1a0-1134-458c-897d-557b17a092a2\" style=\"height: 1000px; width: 1000px;\" class=\"plotly-graph-div\"></div><script type=\"text/javascript\">require([\"plotly\"], function(Plotly) { window.PLOTLYENV=window.PLOTLYENV || {};window.PLOTLYENV.BASE_URL=\"https://plot.ly\";Plotly.newPlot(\"5956d1a0-1134-458c-897d-557b17a092a2\", [{\"marker\": {\"color\": \"rgb(158,202,225)\", \"line\": {\"color\": \"rgb(8,48,107)\", \"width\": 1.5}}, \"opacity\": 0.6, \"orientation\": \"h\", \"text\": [0.1488, 0.1235, 0.074, 0.0661, 0.0653, 0.044, 0.0438, 0.0337, 0.0336, 0.0276, 0.0258, 0.0237, 0.0216, 0.0215, 0.0214, 0.0193, 0.019, 0.0164, 0.0163, 0.0159, 0.015, 0.0145, 0.0139, 0.0136, 0.0132, 0.0124, 0.0116, 0.0108, 0.0074, 0.0072, 0.0055, 0.0041, 0.0037, 0.0036, 0.0022], \"textposition\": \"outside\", \"x\": [0.1488398321736203, 0.12345821379092499, 0.07398093468890285, 0.06614435456333892, 0.06533300483475019, 0.04401607247028596, 0.043785507665845616, 0.03366834362189644, 0.033616808890260086, 0.027575571034245596, 0.025790306261978882, 0.023651612059077377, 0.02155016590308017, 0.021548967994035897, 0.021383178901240425, 0.01929023500908806, 0.018993394013947198, 0.016401426266804596, 0.016261293134454888, 0.015947708542315236, 0.014979317590464168, 0.014471747715090159, 0.013913369802776951, 0.013633464755328683, 0.013205437075403668, 0.012445885704925731, 0.011591266431431116, 0.010752604763612516, 0.0074072505853934505, 0.007200381023709246, 0.005498607990313249, 0.004133692935990932, 0.0037371755529254204, 0.0036399581883851577, 0.002152908064155957], \"y\": [\"link_href_out_of_domain\", \"script_async_true\", \"div_count\", \"a_href_https\", \"meta_count\", \"title_count\", \"script_src_out_of_domain\", \"br_count\", \"script_src_.js\", \"li_count\", \"iframe_src_https\", \"a_href_http\", \"link_href_0\", \"link_type_text/css\", \"img_src_.jpg\", \"p_count\", \"b_count\", \"form_action_http\", \"script_type_text/javascript\", \"h1_count\", \"script_defer_true\", \"center_count\", \"link_href_.css\", \"link_href_http\", \"a_href_.com\", \"strong_count\", \"section_count\", \"span_count\", \"form_action_out_of_domain\", \"link_rel_shortlink\", \"a_href_.aspx\", \"link_type_application/rsd+xml\", \"script_charset_UTF-8\", \"input_count\", \"link_type_application/rss+xml\"], \"type\": \"bar\", \"uid\": \"952e276a-2335-46db-ba47-2b5f74b7ec9a\"}], {\"autosize\": false, \"height\": 1000, \"width\": 1000, \"xaxis\": {\"tickfont\": {\"color\": \"black\", \"size\": 12}, \"title\": \"Feature Importances\"}, \"yaxis\": {\"automargin\": true}}, {\"showLink\": true, \"linkText\": \"Export to plot.ly\", \"plotlyServerURL\": \"https://plot.ly\"})});</script>"
      ]
     },
     "metadata": {},
     "output_type": "display_data"
    }
   ],
   "source": [
    "feat_impt_plot(np.average(feat_imp,axis=0),columns)"
   ]
  },
  {
   "cell_type": "markdown",
   "metadata": {},
   "source": [
    "### <a id='3' style=\"text-decoration : none; color : #000000;\"> 3. Undersampling</a>"
   ]
  },
  {
   "cell_type": "code",
   "execution_count": 29,
   "metadata": {
    "scrolled": false
   },
   "outputs": [
    {
     "name": "stdout",
     "output_type": "stream",
     "text": [
      "Shape after undersampling (8856, 35)\n",
      "\u001b[1mK-Nearest Neighbors\u001b[0m\n",
      "Accuracy of the model for training data is: 0.5722673893405601\n",
      "Confusion Matrix for training data is:\n"
     ]
    },
    {
     "data": {
      "text/plain": [
       "Predicted  False  True  __all__\n",
       "Actual                         \n",
       "False       4279   149     4428\n",
       "True        3639   789     4428\n",
       "__all__     7918   938     8856"
      ]
     },
     "metadata": {},
     "output_type": "display_data"
    },
    {
     "name": "stdout",
     "output_type": "stream",
     "text": [
      "Accuracy of the model for test data is: 0.8349812217367978\n",
      "Confusion Matrix for test data is:\n"
     ]
    },
    {
     "data": {
      "text/plain": [
       "Predicted  False  True  __all__\n",
       "Actual                         \n",
       "False      10553   545    11098\n",
       "True        1608   341     1949\n",
       "__all__    12161   886    13047"
      ]
     },
     "metadata": {},
     "output_type": "display_data"
    },
    {
     "name": "stdout",
     "output_type": "stream",
     "text": [
      "\n",
      "\n",
      "\u001b[1mLogistic Regression\u001b[0m\n",
      "Accuracy of the model for training data is: 0.8827913279132791\n",
      "Confusion Matrix for training data is:\n"
     ]
    },
    {
     "data": {
      "text/plain": [
       "Predicted  False  True  __all__\n",
       "Actual                         \n",
       "False       3580   848     4428\n",
       "True         190  4238     4428\n",
       "__all__     3770  5086     8856"
      ]
     },
     "metadata": {},
     "output_type": "display_data"
    },
    {
     "name": "stdout",
     "output_type": "stream",
     "text": [
      "Accuracy of the model for test data is: 0.8261669349275695\n",
      "Confusion Matrix for test data is:\n"
     ]
    },
    {
     "data": {
      "text/plain": [
       "Predicted  False  True  __all__\n",
       "Actual                         \n",
       "False       8894  2204    11098\n",
       "True          64  1885     1949\n",
       "__all__     8958  4089    13047"
      ]
     },
     "metadata": {},
     "output_type": "display_data"
    },
    {
     "name": "stdout",
     "output_type": "stream",
     "text": [
      "\n",
      "\n",
      "\u001b[1mRandomForest Classifier\u001b[0m\n",
      "Accuracy of the model for training data is: 0.9437669376693767\n",
      "Confusion Matrix for training data is:\n"
     ]
    },
    {
     "data": {
      "text/plain": [
       "Predicted  False  True  __all__\n",
       "Actual                         \n",
       "False       4027   401     4428\n",
       "True          97  4331     4428\n",
       "__all__     4124  4732     8856"
      ]
     },
     "metadata": {},
     "output_type": "display_data"
    },
    {
     "name": "stdout",
     "output_type": "stream",
     "text": [
      "Accuracy of the model for test data is: 0.8997470682915613\n",
      "Confusion Matrix for test data is:\n"
     ]
    },
    {
     "data": {
      "text/plain": [
       "Predicted  False  True  __all__\n",
       "Actual                         \n",
       "False       9908  1190    11098\n",
       "True         118  1831     1949\n",
       "__all__    10026  3021    13047"
      ]
     },
     "metadata": {},
     "output_type": "display_data"
    },
    {
     "data": {
      "application/vnd.plotly.v1+json": {
       "config": {
        "linkText": "Export to plot.ly",
        "plotlyServerURL": "https://plot.ly",
        "showLink": true
       },
       "data": [
        {
         "marker": {
          "color": "rgb(158,202,225)",
          "line": {
           "color": "rgb(8,48,107)",
           "width": 1.5
          }
         },
         "opacity": 0.6,
         "orientation": "h",
         "text": [
          0.1332,
          0.122,
          0.1052,
          0.0903,
          0.0891,
          0.0844,
          0.0788,
          0.0513,
          0.047,
          0.0285,
          0.0179,
          0.0154,
          0.0148,
          0.0131,
          0.0114,
          0.0105,
          0.0091,
          0.0086,
          0.0085,
          0.0076,
          0.0075,
          0.0065,
          0.0053,
          0.0046,
          0.0041,
          0.004,
          0.004,
          0.0032,
          0.0031,
          0.0024,
          0.0022,
          0.0022,
          0.0019,
          0.0017,
          0.0006
         ],
         "textposition": "outside",
         "type": "bar",
         "uid": "9b211b82-90ec-4521-9d6d-b1a1cf236d8f",
         "x": [
          0.13323391324472061,
          0.12197383281315552,
          0.10518718004505438,
          0.09027746557658202,
          0.08906137193098058,
          0.08442283057923641,
          0.07876789597924255,
          0.0512695077298115,
          0.046976801217176276,
          0.028506345103740303,
          0.017901113054488046,
          0.015405886737876092,
          0.014819153480709465,
          0.013134067846029444,
          0.011446211677662934,
          0.01054395155103186,
          0.009102464283943835,
          0.008563122498506374,
          0.0084659795335667,
          0.007576472364782374,
          0.007478442504639507,
          0.006468558248851055,
          0.0052905383786997755,
          0.004645021412008924,
          0.004101236451030572,
          0.0040110182602124626,
          0.003993221279392098,
          0.003234735336046811,
          0.0031287739281883726,
          0.002396370287786489,
          0.0022113850364193664,
          0.002204724292963338,
          0.0019367112423651917,
          0.0016565395530219458,
          0.0006071565400767611
         ],
         "y": [
          "script_async_true",
          "title_count",
          "div_count",
          "link_href_out_of_domain",
          "script_src_.js",
          "a_href_https",
          "script_src_out_of_domain",
          "br_count",
          "li_count",
          "meta_count",
          "p_count",
          "script_type_text/javascript",
          "a_href_http",
          "span_count",
          "link_href_.css",
          "link_type_text/css",
          "link_href_http",
          "input_count",
          "img_src_.jpg",
          "iframe_src_https",
          "h1_count",
          "form_action_http",
          "strong_count",
          "section_count",
          "center_count",
          "form_action_out_of_domain",
          "script_defer_true",
          "b_count",
          "link_type_application/rss+xml",
          "a_href_.com",
          "link_href_0",
          "link_rel_shortlink",
          "script_charset_UTF-8",
          "link_type_application/rsd+xml",
          "a_href_.aspx"
         ]
        }
       ],
       "layout": {
        "autosize": false,
        "height": 1000,
        "width": 1000,
        "xaxis": {
         "tickfont": {
          "color": "black",
          "size": 12
         },
         "title": "Feature Importances"
        },
        "yaxis": {
         "automargin": true
        }
       }
      },
      "text/html": [
       "<div id=\"357c9e8f-0033-437d-8510-8582cb7be306\" style=\"height: 1000px; width: 1000px;\" class=\"plotly-graph-div\"></div><script type=\"text/javascript\">require([\"plotly\"], function(Plotly) { window.PLOTLYENV=window.PLOTLYENV || {};window.PLOTLYENV.BASE_URL=\"https://plot.ly\";Plotly.newPlot(\"357c9e8f-0033-437d-8510-8582cb7be306\", [{\"marker\": {\"color\": \"rgb(158,202,225)\", \"line\": {\"color\": \"rgb(8,48,107)\", \"width\": 1.5}}, \"opacity\": 0.6, \"orientation\": \"h\", \"text\": [0.1332, 0.122, 0.1052, 0.0903, 0.0891, 0.0844, 0.0788, 0.0513, 0.047, 0.0285, 0.0179, 0.0154, 0.0148, 0.0131, 0.0114, 0.0105, 0.0091, 0.0086, 0.0085, 0.0076, 0.0075, 0.0065, 0.0053, 0.0046, 0.0041, 0.004, 0.004, 0.0032, 0.0031, 0.0024, 0.0022, 0.0022, 0.0019, 0.0017, 0.0006], \"textposition\": \"outside\", \"x\": [0.13323391324472061, 0.12197383281315552, 0.10518718004505438, 0.09027746557658202, 0.08906137193098058, 0.08442283057923641, 0.07876789597924255, 0.0512695077298115, 0.046976801217176276, 0.028506345103740303, 0.017901113054488046, 0.015405886737876092, 0.014819153480709465, 0.013134067846029444, 0.011446211677662934, 0.01054395155103186, 0.009102464283943835, 0.008563122498506374, 0.0084659795335667, 0.007576472364782374, 0.007478442504639507, 0.006468558248851055, 0.0052905383786997755, 0.004645021412008924, 0.004101236451030572, 0.0040110182602124626, 0.003993221279392098, 0.003234735336046811, 0.0031287739281883726, 0.002396370287786489, 0.0022113850364193664, 0.002204724292963338, 0.0019367112423651917, 0.0016565395530219458, 0.0006071565400767611], \"y\": [\"script_async_true\", \"title_count\", \"div_count\", \"link_href_out_of_domain\", \"script_src_.js\", \"a_href_https\", \"script_src_out_of_domain\", \"br_count\", \"li_count\", \"meta_count\", \"p_count\", \"script_type_text/javascript\", \"a_href_http\", \"span_count\", \"link_href_.css\", \"link_type_text/css\", \"link_href_http\", \"input_count\", \"img_src_.jpg\", \"iframe_src_https\", \"h1_count\", \"form_action_http\", \"strong_count\", \"section_count\", \"center_count\", \"form_action_out_of_domain\", \"script_defer_true\", \"b_count\", \"link_type_application/rss+xml\", \"a_href_.com\", \"link_href_0\", \"link_rel_shortlink\", \"script_charset_UTF-8\", \"link_type_application/rsd+xml\", \"a_href_.aspx\"], \"type\": \"bar\", \"uid\": \"9b211b82-90ec-4521-9d6d-b1a1cf236d8f\"}], {\"autosize\": false, \"height\": 1000, \"width\": 1000, \"xaxis\": {\"tickfont\": {\"color\": \"black\", \"size\": 12}, \"title\": \"Feature Importances\"}, \"yaxis\": {\"automargin\": true}}, {\"showLink\": true, \"linkText\": \"Export to plot.ly\", \"plotlyServerURL\": \"https://plot.ly\"})});</script>"
      ],
      "text/vnd.plotly.v1+html": [
       "<div id=\"357c9e8f-0033-437d-8510-8582cb7be306\" style=\"height: 1000px; width: 1000px;\" class=\"plotly-graph-div\"></div><script type=\"text/javascript\">require([\"plotly\"], function(Plotly) { window.PLOTLYENV=window.PLOTLYENV || {};window.PLOTLYENV.BASE_URL=\"https://plot.ly\";Plotly.newPlot(\"357c9e8f-0033-437d-8510-8582cb7be306\", [{\"marker\": {\"color\": \"rgb(158,202,225)\", \"line\": {\"color\": \"rgb(8,48,107)\", \"width\": 1.5}}, \"opacity\": 0.6, \"orientation\": \"h\", \"text\": [0.1332, 0.122, 0.1052, 0.0903, 0.0891, 0.0844, 0.0788, 0.0513, 0.047, 0.0285, 0.0179, 0.0154, 0.0148, 0.0131, 0.0114, 0.0105, 0.0091, 0.0086, 0.0085, 0.0076, 0.0075, 0.0065, 0.0053, 0.0046, 0.0041, 0.004, 0.004, 0.0032, 0.0031, 0.0024, 0.0022, 0.0022, 0.0019, 0.0017, 0.0006], \"textposition\": \"outside\", \"x\": [0.13323391324472061, 0.12197383281315552, 0.10518718004505438, 0.09027746557658202, 0.08906137193098058, 0.08442283057923641, 0.07876789597924255, 0.0512695077298115, 0.046976801217176276, 0.028506345103740303, 0.017901113054488046, 0.015405886737876092, 0.014819153480709465, 0.013134067846029444, 0.011446211677662934, 0.01054395155103186, 0.009102464283943835, 0.008563122498506374, 0.0084659795335667, 0.007576472364782374, 0.007478442504639507, 0.006468558248851055, 0.0052905383786997755, 0.004645021412008924, 0.004101236451030572, 0.0040110182602124626, 0.003993221279392098, 0.003234735336046811, 0.0031287739281883726, 0.002396370287786489, 0.0022113850364193664, 0.002204724292963338, 0.0019367112423651917, 0.0016565395530219458, 0.0006071565400767611], \"y\": [\"script_async_true\", \"title_count\", \"div_count\", \"link_href_out_of_domain\", \"script_src_.js\", \"a_href_https\", \"script_src_out_of_domain\", \"br_count\", \"li_count\", \"meta_count\", \"p_count\", \"script_type_text/javascript\", \"a_href_http\", \"span_count\", \"link_href_.css\", \"link_type_text/css\", \"link_href_http\", \"input_count\", \"img_src_.jpg\", \"iframe_src_https\", \"h1_count\", \"form_action_http\", \"strong_count\", \"section_count\", \"center_count\", \"form_action_out_of_domain\", \"script_defer_true\", \"b_count\", \"link_type_application/rss+xml\", \"a_href_.com\", \"link_href_0\", \"link_rel_shortlink\", \"script_charset_UTF-8\", \"link_type_application/rsd+xml\", \"a_href_.aspx\"], \"type\": \"bar\", \"uid\": \"9b211b82-90ec-4521-9d6d-b1a1cf236d8f\"}], {\"autosize\": false, \"height\": 1000, \"width\": 1000, \"xaxis\": {\"tickfont\": {\"color\": \"black\", \"size\": 12}, \"title\": \"Feature Importances\"}, \"yaxis\": {\"automargin\": true}}, {\"showLink\": true, \"linkText\": \"Export to plot.ly\", \"plotlyServerURL\": \"https://plot.ly\"})});</script>"
      ]
     },
     "metadata": {},
     "output_type": "display_data"
    },
    {
     "name": "stdout",
     "output_type": "stream",
     "text": [
      "\n",
      "\n",
      "\u001b[1mAdaoost Classifier\u001b[0m\n",
      "Accuracy of the model for training data is: 0.8910343270099368\n",
      "Confusion Matrix for training data is:\n"
     ]
    },
    {
     "data": {
      "text/plain": [
       "Predicted  False  True  __all__\n",
       "Actual                         \n",
       "False       3776   652     4428\n",
       "True         313  4115     4428\n",
       "__all__     4089  4767     8856"
      ]
     },
     "metadata": {},
     "output_type": "display_data"
    },
    {
     "name": "stdout",
     "output_type": "stream",
     "text": [
      "Accuracy of the model for test data is: 0.8620372499425155\n",
      "Confusion Matrix for test data is:\n"
     ]
    },
    {
     "data": {
      "text/plain": [
       "Predicted  False  True  __all__\n",
       "Actual                         \n",
       "False       9422  1676    11098\n",
       "True         124  1825     1949\n",
       "__all__     9546  3501    13047"
      ]
     },
     "metadata": {},
     "output_type": "display_data"
    },
    {
     "data": {
      "application/vnd.plotly.v1+json": {
       "config": {
        "linkText": "Export to plot.ly",
        "plotlyServerURL": "https://plot.ly",
        "showLink": true
       },
       "data": [
        {
         "marker": {
          "color": "rgb(158,202,225)",
          "line": {
           "color": "rgb(8,48,107)",
           "width": 1.5
          }
         },
         "opacity": 0.6,
         "orientation": "h",
         "text": [
          0.16,
          0.08,
          0.06,
          0.06,
          0.04,
          0.04,
          0.04,
          0.04,
          0.04,
          0.04,
          0.04,
          0.04,
          0.02,
          0.02,
          0.02,
          0.02,
          0.02,
          0.02,
          0.02,
          0.02,
          0.02,
          0.02,
          0.02,
          0.02,
          0.02,
          0.02,
          0.02,
          0.02,
          0,
          0,
          0,
          0,
          0,
          0,
          0
         ],
         "textposition": "outside",
         "type": "bar",
         "uid": "e89b1d46-38bc-4ac4-801b-56fa427170a7",
         "x": [
          0.16,
          0.08,
          0.06,
          0.06,
          0.04,
          0.04,
          0.04,
          0.04,
          0.04,
          0.04,
          0.04,
          0.04,
          0.02,
          0.02,
          0.02,
          0.02,
          0.02,
          0.02,
          0.02,
          0.02,
          0.02,
          0.02,
          0.02,
          0.02,
          0.02,
          0.02,
          0.02,
          0.02,
          0,
          0,
          0,
          0,
          0,
          0,
          0
         ],
         "y": [
          "link_href_out_of_domain",
          "script_async_true",
          "a_href_http",
          "span_count",
          "script_defer_true",
          "link_type_text/css",
          "p_count",
          "img_src_.jpg",
          "title_count",
          "center_count",
          "br_count",
          "a_href_https",
          "link_rel_shortlink",
          "section_count",
          "script_charset_UTF-8",
          "strong_count",
          "meta_count",
          "link_type_application/rsd+xml",
          "script_src_out_of_domain",
          "a_href_.aspx",
          "a_href_.com",
          "link_href_.css",
          "input_count",
          "iframe_src_https",
          "h1_count",
          "form_action_http",
          "b_count",
          "link_href_http",
          "link_type_application/rss+xml",
          "link_href_0",
          "li_count",
          "script_src_.js",
          "form_action_out_of_domain",
          "script_type_text/javascript",
          "div_count"
         ]
        }
       ],
       "layout": {
        "autosize": false,
        "height": 1000,
        "width": 1000,
        "xaxis": {
         "tickfont": {
          "color": "black",
          "size": 12
         },
         "title": "Feature Importances"
        },
        "yaxis": {
         "automargin": true
        }
       }
      },
      "text/html": [
       "<div id=\"09ad590c-6c44-4325-b3a8-834d0b4b5419\" style=\"height: 1000px; width: 1000px;\" class=\"plotly-graph-div\"></div><script type=\"text/javascript\">require([\"plotly\"], function(Plotly) { window.PLOTLYENV=window.PLOTLYENV || {};window.PLOTLYENV.BASE_URL=\"https://plot.ly\";Plotly.newPlot(\"09ad590c-6c44-4325-b3a8-834d0b4b5419\", [{\"marker\": {\"color\": \"rgb(158,202,225)\", \"line\": {\"color\": \"rgb(8,48,107)\", \"width\": 1.5}}, \"opacity\": 0.6, \"orientation\": \"h\", \"text\": [0.16, 0.08, 0.06, 0.06, 0.04, 0.04, 0.04, 0.04, 0.04, 0.04, 0.04, 0.04, 0.02, 0.02, 0.02, 0.02, 0.02, 0.02, 0.02, 0.02, 0.02, 0.02, 0.02, 0.02, 0.02, 0.02, 0.02, 0.02, 0.0, 0.0, 0.0, 0.0, 0.0, 0.0, 0.0], \"textposition\": \"outside\", \"x\": [0.16, 0.08, 0.06, 0.06, 0.04, 0.04, 0.04, 0.04, 0.04, 0.04, 0.04, 0.04, 0.02, 0.02, 0.02, 0.02, 0.02, 0.02, 0.02, 0.02, 0.02, 0.02, 0.02, 0.02, 0.02, 0.02, 0.02, 0.02, 0.0, 0.0, 0.0, 0.0, 0.0, 0.0, 0.0], \"y\": [\"link_href_out_of_domain\", \"script_async_true\", \"a_href_http\", \"span_count\", \"script_defer_true\", \"link_type_text/css\", \"p_count\", \"img_src_.jpg\", \"title_count\", \"center_count\", \"br_count\", \"a_href_https\", \"link_rel_shortlink\", \"section_count\", \"script_charset_UTF-8\", \"strong_count\", \"meta_count\", \"link_type_application/rsd+xml\", \"script_src_out_of_domain\", \"a_href_.aspx\", \"a_href_.com\", \"link_href_.css\", \"input_count\", \"iframe_src_https\", \"h1_count\", \"form_action_http\", \"b_count\", \"link_href_http\", \"link_type_application/rss+xml\", \"link_href_0\", \"li_count\", \"script_src_.js\", \"form_action_out_of_domain\", \"script_type_text/javascript\", \"div_count\"], \"type\": \"bar\", \"uid\": \"e89b1d46-38bc-4ac4-801b-56fa427170a7\"}], {\"autosize\": false, \"height\": 1000, \"width\": 1000, \"xaxis\": {\"tickfont\": {\"color\": \"black\", \"size\": 12}, \"title\": \"Feature Importances\"}, \"yaxis\": {\"automargin\": true}}, {\"showLink\": true, \"linkText\": \"Export to plot.ly\", \"plotlyServerURL\": \"https://plot.ly\"})});</script>"
      ],
      "text/vnd.plotly.v1+html": [
       "<div id=\"09ad590c-6c44-4325-b3a8-834d0b4b5419\" style=\"height: 1000px; width: 1000px;\" class=\"plotly-graph-div\"></div><script type=\"text/javascript\">require([\"plotly\"], function(Plotly) { window.PLOTLYENV=window.PLOTLYENV || {};window.PLOTLYENV.BASE_URL=\"https://plot.ly\";Plotly.newPlot(\"09ad590c-6c44-4325-b3a8-834d0b4b5419\", [{\"marker\": {\"color\": \"rgb(158,202,225)\", \"line\": {\"color\": \"rgb(8,48,107)\", \"width\": 1.5}}, \"opacity\": 0.6, \"orientation\": \"h\", \"text\": [0.16, 0.08, 0.06, 0.06, 0.04, 0.04, 0.04, 0.04, 0.04, 0.04, 0.04, 0.04, 0.02, 0.02, 0.02, 0.02, 0.02, 0.02, 0.02, 0.02, 0.02, 0.02, 0.02, 0.02, 0.02, 0.02, 0.02, 0.02, 0.0, 0.0, 0.0, 0.0, 0.0, 0.0, 0.0], \"textposition\": \"outside\", \"x\": [0.16, 0.08, 0.06, 0.06, 0.04, 0.04, 0.04, 0.04, 0.04, 0.04, 0.04, 0.04, 0.02, 0.02, 0.02, 0.02, 0.02, 0.02, 0.02, 0.02, 0.02, 0.02, 0.02, 0.02, 0.02, 0.02, 0.02, 0.02, 0.0, 0.0, 0.0, 0.0, 0.0, 0.0, 0.0], \"y\": [\"link_href_out_of_domain\", \"script_async_true\", \"a_href_http\", \"span_count\", \"script_defer_true\", \"link_type_text/css\", \"p_count\", \"img_src_.jpg\", \"title_count\", \"center_count\", \"br_count\", \"a_href_https\", \"link_rel_shortlink\", \"section_count\", \"script_charset_UTF-8\", \"strong_count\", \"meta_count\", \"link_type_application/rsd+xml\", \"script_src_out_of_domain\", \"a_href_.aspx\", \"a_href_.com\", \"link_href_.css\", \"input_count\", \"iframe_src_https\", \"h1_count\", \"form_action_http\", \"b_count\", \"link_href_http\", \"link_type_application/rss+xml\", \"link_href_0\", \"li_count\", \"script_src_.js\", \"form_action_out_of_domain\", \"script_type_text/javascript\", \"div_count\"], \"type\": \"bar\", \"uid\": \"e89b1d46-38bc-4ac4-801b-56fa427170a7\"}], {\"autosize\": false, \"height\": 1000, \"width\": 1000, \"xaxis\": {\"tickfont\": {\"color\": \"black\", \"size\": 12}, \"title\": \"Feature Importances\"}, \"yaxis\": {\"automargin\": true}}, {\"showLink\": true, \"linkText\": \"Export to plot.ly\", \"plotlyServerURL\": \"https://plot.ly\"})});</script>"
      ]
     },
     "metadata": {},
     "output_type": "display_data"
    },
    {
     "name": "stdout",
     "output_type": "stream",
     "text": [
      "\n",
      "\n",
      "\u001b[1mGradientBoosting Classifier\u001b[0m\n",
      "Accuracy of the model for training data is: 0.9107949412827462\n",
      "Confusion Matrix for training data is:\n"
     ]
    },
    {
     "data": {
      "text/plain": [
       "Predicted  False  True  __all__\n",
       "Actual                         \n",
       "False       3872   556     4428\n",
       "True         234  4194     4428\n",
       "__all__     4106  4750     8856"
      ]
     },
     "metadata": {},
     "output_type": "display_data"
    },
    {
     "name": "stdout",
     "output_type": "stream",
     "text": [
      "Accuracy of the model for test data is: 0.8765999846708056\n",
      "Confusion Matrix for test data is:\n"
     ]
    },
    {
     "data": {
      "text/plain": [
       "Predicted  False  True  __all__\n",
       "Actual                         \n",
       "False       9584  1514    11098\n",
       "True          96  1853     1949\n",
       "__all__     9680  3367    13047"
      ]
     },
     "metadata": {},
     "output_type": "display_data"
    },
    {
     "data": {
      "application/vnd.plotly.v1+json": {
       "config": {
        "linkText": "Export to plot.ly",
        "plotlyServerURL": "https://plot.ly",
        "showLink": true
       },
       "data": [
        {
         "marker": {
          "color": "rgb(158,202,225)",
          "line": {
           "color": "rgb(8,48,107)",
           "width": 1.5
          }
         },
         "opacity": 0.6,
         "orientation": "h",
         "text": [
          0.3659,
          0.3173,
          0.13,
          0.0339,
          0.0333,
          0.0234,
          0.0168,
          0.0093,
          0.0086,
          0.0076,
          0.0072,
          0.006,
          0.0037,
          0.0035,
          0.0034,
          0.0027,
          0.0025,
          0.0023,
          0.0022,
          0.0021,
          0.0021,
          0.002,
          0.0019,
          0.0019,
          0.0019,
          0.0018,
          0.0018,
          0.0015,
          0.001,
          0.0008,
          0.0004,
          0.0004,
          0.0004,
          0.0004,
          0
         ],
         "textposition": "outside",
         "type": "bar",
         "uid": "fb599221-8f40-4096-9f73-4b5a0ff0b5ad",
         "x": [
          0.3658502597246502,
          0.31725142928568445,
          0.13004430011569182,
          0.033884044169616975,
          0.03331333226353392,
          0.023434390304364963,
          0.016812763354655504,
          0.00929264236472112,
          0.008613675423650618,
          0.0076211958190636865,
          0.007150083365478689,
          0.005992078334704017,
          0.0036710404966360383,
          0.003484191782645559,
          0.003400712040856642,
          0.0027034399937883027,
          0.002507154546624903,
          0.0022994824456721028,
          0.0022371975776814463,
          0.0021443065484297234,
          0.002055203571826277,
          0.002013678393985645,
          0.0019302373791832061,
          0.001901179841087999,
          0.0018883878377917505,
          0.0017844796527111057,
          0.0017501317499053477,
          0.0014649305109743728,
          0.001042887066312574,
          0.0007828457598313416,
          0.0004466152919913601,
          0.00043008169861240763,
          0.0004221153846322531,
          0.00037950590300367333,
          0
         ],
         "y": [
          "link_href_out_of_domain",
          "div_count",
          "meta_count",
          "script_async_true",
          "a_href_https",
          "title_count",
          "a_href_http",
          "li_count",
          "center_count",
          "link_type_text/css",
          "script_src_.js",
          "link_href_http",
          "script_defer_true",
          "link_type_application/rsd+xml",
          "strong_count",
          "span_count",
          "link_href_.css",
          "p_count",
          "section_count",
          "script_src_out_of_domain",
          "h1_count",
          "link_rel_shortlink",
          "script_type_text/javascript",
          "iframe_src_https",
          "form_action_http",
          "script_charset_UTF-8",
          "a_href_.com",
          "br_count",
          "form_action_out_of_domain",
          "img_src_.jpg",
          "a_href_.aspx",
          "input_count",
          "b_count",
          "link_href_0",
          "link_type_application/rss+xml"
         ]
        }
       ],
       "layout": {
        "autosize": false,
        "height": 1000,
        "width": 1000,
        "xaxis": {
         "tickfont": {
          "color": "black",
          "size": 12
         },
         "title": "Feature Importances"
        },
        "yaxis": {
         "automargin": true
        }
       }
      },
      "text/html": [
       "<div id=\"612a0b5e-d7fc-4ec1-8108-448174696965\" style=\"height: 1000px; width: 1000px;\" class=\"plotly-graph-div\"></div><script type=\"text/javascript\">require([\"plotly\"], function(Plotly) { window.PLOTLYENV=window.PLOTLYENV || {};window.PLOTLYENV.BASE_URL=\"https://plot.ly\";Plotly.newPlot(\"612a0b5e-d7fc-4ec1-8108-448174696965\", [{\"marker\": {\"color\": \"rgb(158,202,225)\", \"line\": {\"color\": \"rgb(8,48,107)\", \"width\": 1.5}}, \"opacity\": 0.6, \"orientation\": \"h\", \"text\": [0.3659, 0.3173, 0.13, 0.0339, 0.0333, 0.0234, 0.0168, 0.0093, 0.0086, 0.0076, 0.0072, 0.006, 0.0037, 0.0035, 0.0034, 0.0027, 0.0025, 0.0023, 0.0022, 0.0021, 0.0021, 0.002, 0.0019, 0.0019, 0.0019, 0.0018, 0.0018, 0.0015, 0.001, 0.0008, 0.0004, 0.0004, 0.0004, 0.0004, 0.0], \"textposition\": \"outside\", \"x\": [0.3658502597246502, 0.31725142928568445, 0.13004430011569182, 0.033884044169616975, 0.03331333226353392, 0.023434390304364963, 0.016812763354655504, 0.00929264236472112, 0.008613675423650618, 0.0076211958190636865, 0.007150083365478689, 0.005992078334704017, 0.0036710404966360383, 0.003484191782645559, 0.003400712040856642, 0.0027034399937883027, 0.002507154546624903, 0.0022994824456721028, 0.0022371975776814463, 0.0021443065484297234, 0.002055203571826277, 0.002013678393985645, 0.0019302373791832061, 0.001901179841087999, 0.0018883878377917505, 0.0017844796527111057, 0.0017501317499053477, 0.0014649305109743728, 0.001042887066312574, 0.0007828457598313416, 0.0004466152919913601, 0.00043008169861240763, 0.0004221153846322531, 0.00037950590300367333, 0.0], \"y\": [\"link_href_out_of_domain\", \"div_count\", \"meta_count\", \"script_async_true\", \"a_href_https\", \"title_count\", \"a_href_http\", \"li_count\", \"center_count\", \"link_type_text/css\", \"script_src_.js\", \"link_href_http\", \"script_defer_true\", \"link_type_application/rsd+xml\", \"strong_count\", \"span_count\", \"link_href_.css\", \"p_count\", \"section_count\", \"script_src_out_of_domain\", \"h1_count\", \"link_rel_shortlink\", \"script_type_text/javascript\", \"iframe_src_https\", \"form_action_http\", \"script_charset_UTF-8\", \"a_href_.com\", \"br_count\", \"form_action_out_of_domain\", \"img_src_.jpg\", \"a_href_.aspx\", \"input_count\", \"b_count\", \"link_href_0\", \"link_type_application/rss+xml\"], \"type\": \"bar\", \"uid\": \"fb599221-8f40-4096-9f73-4b5a0ff0b5ad\"}], {\"autosize\": false, \"height\": 1000, \"width\": 1000, \"xaxis\": {\"tickfont\": {\"color\": \"black\", \"size\": 12}, \"title\": \"Feature Importances\"}, \"yaxis\": {\"automargin\": true}}, {\"showLink\": true, \"linkText\": \"Export to plot.ly\", \"plotlyServerURL\": \"https://plot.ly\"})});</script>"
      ],
      "text/vnd.plotly.v1+html": [
       "<div id=\"612a0b5e-d7fc-4ec1-8108-448174696965\" style=\"height: 1000px; width: 1000px;\" class=\"plotly-graph-div\"></div><script type=\"text/javascript\">require([\"plotly\"], function(Plotly) { window.PLOTLYENV=window.PLOTLYENV || {};window.PLOTLYENV.BASE_URL=\"https://plot.ly\";Plotly.newPlot(\"612a0b5e-d7fc-4ec1-8108-448174696965\", [{\"marker\": {\"color\": \"rgb(158,202,225)\", \"line\": {\"color\": \"rgb(8,48,107)\", \"width\": 1.5}}, \"opacity\": 0.6, \"orientation\": \"h\", \"text\": [0.3659, 0.3173, 0.13, 0.0339, 0.0333, 0.0234, 0.0168, 0.0093, 0.0086, 0.0076, 0.0072, 0.006, 0.0037, 0.0035, 0.0034, 0.0027, 0.0025, 0.0023, 0.0022, 0.0021, 0.0021, 0.002, 0.0019, 0.0019, 0.0019, 0.0018, 0.0018, 0.0015, 0.001, 0.0008, 0.0004, 0.0004, 0.0004, 0.0004, 0.0], \"textposition\": \"outside\", \"x\": [0.3658502597246502, 0.31725142928568445, 0.13004430011569182, 0.033884044169616975, 0.03331333226353392, 0.023434390304364963, 0.016812763354655504, 0.00929264236472112, 0.008613675423650618, 0.0076211958190636865, 0.007150083365478689, 0.005992078334704017, 0.0036710404966360383, 0.003484191782645559, 0.003400712040856642, 0.0027034399937883027, 0.002507154546624903, 0.0022994824456721028, 0.0022371975776814463, 0.0021443065484297234, 0.002055203571826277, 0.002013678393985645, 0.0019302373791832061, 0.001901179841087999, 0.0018883878377917505, 0.0017844796527111057, 0.0017501317499053477, 0.0014649305109743728, 0.001042887066312574, 0.0007828457598313416, 0.0004466152919913601, 0.00043008169861240763, 0.0004221153846322531, 0.00037950590300367333, 0.0], \"y\": [\"link_href_out_of_domain\", \"div_count\", \"meta_count\", \"script_async_true\", \"a_href_https\", \"title_count\", \"a_href_http\", \"li_count\", \"center_count\", \"link_type_text/css\", \"script_src_.js\", \"link_href_http\", \"script_defer_true\", \"link_type_application/rsd+xml\", \"strong_count\", \"span_count\", \"link_href_.css\", \"p_count\", \"section_count\", \"script_src_out_of_domain\", \"h1_count\", \"link_rel_shortlink\", \"script_type_text/javascript\", \"iframe_src_https\", \"form_action_http\", \"script_charset_UTF-8\", \"a_href_.com\", \"br_count\", \"form_action_out_of_domain\", \"img_src_.jpg\", \"a_href_.aspx\", \"input_count\", \"b_count\", \"link_href_0\", \"link_type_application/rss+xml\"], \"type\": \"bar\", \"uid\": \"fb599221-8f40-4096-9f73-4b5a0ff0b5ad\"}], {\"autosize\": false, \"height\": 1000, \"width\": 1000, \"xaxis\": {\"tickfont\": {\"color\": \"black\", \"size\": 12}, \"title\": \"Feature Importances\"}, \"yaxis\": {\"automargin\": true}}, {\"showLink\": true, \"linkText\": \"Export to plot.ly\", \"plotlyServerURL\": \"https://plot.ly\"})});</script>"
      ]
     },
     "metadata": {},
     "output_type": "display_data"
    },
    {
     "name": "stdout",
     "output_type": "stream",
     "text": [
      "\n",
      "\n",
      "\u001b[1mExtraTree Classifier\u001b[0m\n",
      "Accuracy of the model for training data is: 0.9471544715447154\n",
      "Confusion Matrix for training data is:\n"
     ]
    },
    {
     "data": {
      "text/plain": [
       "Predicted  False  True  __all__\n",
       "Actual                         \n",
       "False       4038   390     4428\n",
       "True          78  4350     4428\n",
       "__all__     4116  4740     8856"
      ]
     },
     "metadata": {},
     "output_type": "display_data"
    },
    {
     "name": "stdout",
     "output_type": "stream",
     "text": [
      "Accuracy of the model for test data is: 0.9012799877366444\n",
      "Confusion Matrix for test data is:\n"
     ]
    },
    {
     "data": {
      "text/plain": [
       "Predicted  False  True  __all__\n",
       "Actual                         \n",
       "False       9946  1152    11098\n",
       "True         136  1813     1949\n",
       "__all__    10082  2965    13047"
      ]
     },
     "metadata": {},
     "output_type": "display_data"
    },
    {
     "data": {
      "application/vnd.plotly.v1+json": {
       "config": {
        "linkText": "Export to plot.ly",
        "plotlyServerURL": "https://plot.ly",
        "showLink": true
       },
       "data": [
        {
         "marker": {
          "color": "rgb(158,202,225)",
          "line": {
           "color": "rgb(8,48,107)",
           "width": 1.5
          }
         },
         "opacity": 0.6,
         "orientation": "h",
         "text": [
          0.1537,
          0.1271,
          0.0557,
          0.0557,
          0.0463,
          0.041,
          0.0405,
          0.0399,
          0.0377,
          0.0344,
          0.0342,
          0.0253,
          0.0232,
          0.0229,
          0.0228,
          0.0221,
          0.0214,
          0.0206,
          0.0198,
          0.0192,
          0.0166,
          0.014,
          0.0138,
          0.013,
          0.0107,
          0.0097,
          0.0091,
          0.0088,
          0.0088,
          0.008,
          0.0073,
          0.0073,
          0.0046,
          0.0027,
          0.0018
         ],
         "textposition": "outside",
         "type": "bar",
         "uid": "44f4c26f-d4b5-43e7-ba3d-87eaf5ab1b9c",
         "x": [
          0.1537432772010626,
          0.12708726486073013,
          0.05573528872464621,
          0.055673538265285365,
          0.046341548455188224,
          0.041048451509616425,
          0.040518849196420126,
          0.039945980586272,
          0.03773319412025439,
          0.034416115873766744,
          0.034245165144947826,
          0.025321770324676505,
          0.023212615521367896,
          0.022915597015410318,
          0.022802971330362427,
          0.02209625810018799,
          0.021350043914223366,
          0.020584337256375186,
          0.019845067704548094,
          0.019186525107535393,
          0.01661519389962636,
          0.01396928259074106,
          0.01378679240474895,
          0.012964422079478174,
          0.010713707956257998,
          0.009746405335771625,
          0.009070534970971596,
          0.008811111375481967,
          0.008810056833277544,
          0.007966789306703166,
          0.007313233865913911,
          0.007305137368116557,
          0.004609806164774998,
          0.00269103089007631,
          0.0018226347451827149
         ],
         "y": [
          "script_type_text/javascript",
          "script_async_true",
          "img_src_.jpg",
          "link_type_text/css",
          "title_count",
          "script_src_out_of_domain",
          "script_src_.js",
          "div_count",
          "meta_count",
          "br_count",
          "li_count",
          "section_count",
          "link_href_http",
          "link_href_.css",
          "form_action_out_of_domain",
          "a_href_http",
          "span_count",
          "a_href_https",
          "b_count",
          "p_count",
          "iframe_src_https",
          "h1_count",
          "link_href_0",
          "link_href_out_of_domain",
          "link_type_application/rsd+xml",
          "input_count",
          "script_charset_UTF-8",
          "link_type_application/rss+xml",
          "strong_count",
          "center_count",
          "script_defer_true",
          "form_action_http",
          "a_href_.com",
          "link_rel_shortlink",
          "a_href_.aspx"
         ]
        }
       ],
       "layout": {
        "autosize": false,
        "height": 1000,
        "width": 1000,
        "xaxis": {
         "tickfont": {
          "color": "black",
          "size": 12
         },
         "title": "Feature Importances"
        },
        "yaxis": {
         "automargin": true
        }
       }
      },
      "text/html": [
       "<div id=\"d008c27c-11e9-4a8d-a149-7324e5cdaf0b\" style=\"height: 1000px; width: 1000px;\" class=\"plotly-graph-div\"></div><script type=\"text/javascript\">require([\"plotly\"], function(Plotly) { window.PLOTLYENV=window.PLOTLYENV || {};window.PLOTLYENV.BASE_URL=\"https://plot.ly\";Plotly.newPlot(\"d008c27c-11e9-4a8d-a149-7324e5cdaf0b\", [{\"marker\": {\"color\": \"rgb(158,202,225)\", \"line\": {\"color\": \"rgb(8,48,107)\", \"width\": 1.5}}, \"opacity\": 0.6, \"orientation\": \"h\", \"text\": [0.1537, 0.1271, 0.0557, 0.0557, 0.0463, 0.041, 0.0405, 0.0399, 0.0377, 0.0344, 0.0342, 0.0253, 0.0232, 0.0229, 0.0228, 0.0221, 0.0214, 0.0206, 0.0198, 0.0192, 0.0166, 0.014, 0.0138, 0.013, 0.0107, 0.0097, 0.0091, 0.0088, 0.0088, 0.008, 0.0073, 0.0073, 0.0046, 0.0027, 0.0018], \"textposition\": \"outside\", \"x\": [0.1537432772010626, 0.12708726486073013, 0.05573528872464621, 0.055673538265285365, 0.046341548455188224, 0.041048451509616425, 0.040518849196420126, 0.039945980586272, 0.03773319412025439, 0.034416115873766744, 0.034245165144947826, 0.025321770324676505, 0.023212615521367896, 0.022915597015410318, 0.022802971330362427, 0.02209625810018799, 0.021350043914223366, 0.020584337256375186, 0.019845067704548094, 0.019186525107535393, 0.01661519389962636, 0.01396928259074106, 0.01378679240474895, 0.012964422079478174, 0.010713707956257998, 0.009746405335771625, 0.009070534970971596, 0.008811111375481967, 0.008810056833277544, 0.007966789306703166, 0.007313233865913911, 0.007305137368116557, 0.004609806164774998, 0.00269103089007631, 0.0018226347451827149], \"y\": [\"script_type_text/javascript\", \"script_async_true\", \"img_src_.jpg\", \"link_type_text/css\", \"title_count\", \"script_src_out_of_domain\", \"script_src_.js\", \"div_count\", \"meta_count\", \"br_count\", \"li_count\", \"section_count\", \"link_href_http\", \"link_href_.css\", \"form_action_out_of_domain\", \"a_href_http\", \"span_count\", \"a_href_https\", \"b_count\", \"p_count\", \"iframe_src_https\", \"h1_count\", \"link_href_0\", \"link_href_out_of_domain\", \"link_type_application/rsd+xml\", \"input_count\", \"script_charset_UTF-8\", \"link_type_application/rss+xml\", \"strong_count\", \"center_count\", \"script_defer_true\", \"form_action_http\", \"a_href_.com\", \"link_rel_shortlink\", \"a_href_.aspx\"], \"type\": \"bar\", \"uid\": \"44f4c26f-d4b5-43e7-ba3d-87eaf5ab1b9c\"}], {\"autosize\": false, \"height\": 1000, \"width\": 1000, \"xaxis\": {\"tickfont\": {\"color\": \"black\", \"size\": 12}, \"title\": \"Feature Importances\"}, \"yaxis\": {\"automargin\": true}}, {\"showLink\": true, \"linkText\": \"Export to plot.ly\", \"plotlyServerURL\": \"https://plot.ly\"})});</script>"
      ],
      "text/vnd.plotly.v1+html": [
       "<div id=\"d008c27c-11e9-4a8d-a149-7324e5cdaf0b\" style=\"height: 1000px; width: 1000px;\" class=\"plotly-graph-div\"></div><script type=\"text/javascript\">require([\"plotly\"], function(Plotly) { window.PLOTLYENV=window.PLOTLYENV || {};window.PLOTLYENV.BASE_URL=\"https://plot.ly\";Plotly.newPlot(\"d008c27c-11e9-4a8d-a149-7324e5cdaf0b\", [{\"marker\": {\"color\": \"rgb(158,202,225)\", \"line\": {\"color\": \"rgb(8,48,107)\", \"width\": 1.5}}, \"opacity\": 0.6, \"orientation\": \"h\", \"text\": [0.1537, 0.1271, 0.0557, 0.0557, 0.0463, 0.041, 0.0405, 0.0399, 0.0377, 0.0344, 0.0342, 0.0253, 0.0232, 0.0229, 0.0228, 0.0221, 0.0214, 0.0206, 0.0198, 0.0192, 0.0166, 0.014, 0.0138, 0.013, 0.0107, 0.0097, 0.0091, 0.0088, 0.0088, 0.008, 0.0073, 0.0073, 0.0046, 0.0027, 0.0018], \"textposition\": \"outside\", \"x\": [0.1537432772010626, 0.12708726486073013, 0.05573528872464621, 0.055673538265285365, 0.046341548455188224, 0.041048451509616425, 0.040518849196420126, 0.039945980586272, 0.03773319412025439, 0.034416115873766744, 0.034245165144947826, 0.025321770324676505, 0.023212615521367896, 0.022915597015410318, 0.022802971330362427, 0.02209625810018799, 0.021350043914223366, 0.020584337256375186, 0.019845067704548094, 0.019186525107535393, 0.01661519389962636, 0.01396928259074106, 0.01378679240474895, 0.012964422079478174, 0.010713707956257998, 0.009746405335771625, 0.009070534970971596, 0.008811111375481967, 0.008810056833277544, 0.007966789306703166, 0.007313233865913911, 0.007305137368116557, 0.004609806164774998, 0.00269103089007631, 0.0018226347451827149], \"y\": [\"script_type_text/javascript\", \"script_async_true\", \"img_src_.jpg\", \"link_type_text/css\", \"title_count\", \"script_src_out_of_domain\", \"script_src_.js\", \"div_count\", \"meta_count\", \"br_count\", \"li_count\", \"section_count\", \"link_href_http\", \"link_href_.css\", \"form_action_out_of_domain\", \"a_href_http\", \"span_count\", \"a_href_https\", \"b_count\", \"p_count\", \"iframe_src_https\", \"h1_count\", \"link_href_0\", \"link_href_out_of_domain\", \"link_type_application/rsd+xml\", \"input_count\", \"script_charset_UTF-8\", \"link_type_application/rss+xml\", \"strong_count\", \"center_count\", \"script_defer_true\", \"form_action_http\", \"a_href_.com\", \"link_rel_shortlink\", \"a_href_.aspx\"], \"type\": \"bar\", \"uid\": \"44f4c26f-d4b5-43e7-ba3d-87eaf5ab1b9c\"}], {\"autosize\": false, \"height\": 1000, \"width\": 1000, \"xaxis\": {\"tickfont\": {\"color\": \"black\", \"size\": 12}, \"title\": \"Feature Importances\"}, \"yaxis\": {\"automargin\": true}}, {\"showLink\": true, \"linkText\": \"Export to plot.ly\", \"plotlyServerURL\": \"https://plot.ly\"})});</script>"
      ]
     },
     "metadata": {},
     "output_type": "display_data"
    },
    {
     "name": "stdout",
     "output_type": "stream",
     "text": [
      "\n",
      "\n",
      "\u001b[1mBagging Classifier\u001b[0m\n",
      "Accuracy of the model for training data is: 0.9426377597109304\n",
      "Confusion Matrix for training data is:\n"
     ]
    },
    {
     "data": {
      "text/plain": [
       "Predicted  False  True  __all__\n",
       "Actual                         \n",
       "False       4026   402     4428\n",
       "True         106  4322     4428\n",
       "__all__     4132  4724     8856"
      ]
     },
     "metadata": {},
     "output_type": "display_data"
    },
    {
     "name": "stdout",
     "output_type": "stream",
     "text": [
      "Accuracy of the model for test data is: 0.8934620985667203\n",
      "Confusion Matrix for test data is:\n"
     ]
    },
    {
     "data": {
      "text/plain": [
       "Predicted  False  True  __all__\n",
       "Actual                         \n",
       "False       9823  1275    11098\n",
       "True         115  1834     1949\n",
       "__all__     9938  3109    13047"
      ]
     },
     "metadata": {},
     "output_type": "display_data"
    },
    {
     "name": "stdout",
     "output_type": "stream",
     "text": [
      "\n",
      "\n",
      "\u001b[1mNeural Network-1\u001b[0m\n",
      "The accuracy of the model on training data is: 0.9276196928097519\n"
     ]
    },
    {
     "data": {
      "text/plain": [
       "Predicted  False  True  __all__\n",
       "Actual                         \n",
       "False       3879   549     4428\n",
       "True          92  4336     4428\n",
       "__all__     3971  4885     8856"
      ]
     },
     "metadata": {},
     "output_type": "display_data"
    },
    {
     "name": "stdout",
     "output_type": "stream",
     "text": [
      "The accuracy of the model on test data is: 0.8592779949413658\n"
     ]
    },
    {
     "data": {
      "text/plain": [
       "Predicted  False  True  __all__\n",
       "Actual                         \n",
       "False       9349  1749    11098\n",
       "True          87  1862     1949\n",
       "__all__     9436  3611    13047"
      ]
     },
     "metadata": {},
     "output_type": "display_data"
    },
    {
     "name": "stdout",
     "output_type": "stream",
     "text": [
      "\n",
      "\n"
     ]
    }
   ],
   "source": [
    "df_non=train[train.Target==0]\n",
    "df_mal=train[train.Target==1]\n",
    "\n",
    "df_non=df_non.sample(frac=len(df_mal)/len(df_non),random_state=0)\n",
    "df_u=df_non.append(df_mal)\n",
    "df_u.Target.value_counts() \n",
    "\n",
    "X_train=df_u[columns]\n",
    "X_train=scaler.transform(X_train)\n",
    "Y_train=df_u.Target.values\n",
    "\n",
    "print(\"Shape after undersampling\",X_train.shape)\n",
    "\n",
    "## Table to store training and test measures so we can compare later\n",
    "table_80_90_train=pd.DataFrame(columns=['accuracy','TP','TN','FP','FN','FPR','FNR'])\n",
    "table_80_90_test=pd.DataFrame(columns=['accuracy','TP','TN','FP','FN','FPR','FNR','auc','mcc'])\n",
    "\n",
    "feat_imp=[None]*4\n",
    "j=0\n",
    "for i in range(0,8):\n",
    "    if i>=2 and i<=5:\n",
    "        model,cm_train,cm_test,acc_train,acc_test,roc_auc,feat_imp[j],mcc=f[i](X_train,Y_train,scaled_X_test,test_Y,columns)\n",
    "        j=j+1\n",
    "    else:\n",
    "        model,cm_train,cm_test,acc_train,acc_test,roc_auc,mcc=f[i](X_train,Y_train,scaled_X_test,test_Y)\n",
    "    table_80_90_train.loc[i]=   ([acc_train,cm_train.TP,cm_train.TN,cm_train.FP,cm_train.FN,cm_train.FPR,cm_train.FNR])\n",
    "    table_80_90_test.loc[i] =   ([acc_test ,cm_test.TP, cm_test.TN, cm_test.FP, cm_test.FN, cm_test.FPR, cm_test.FNR,roc_auc,mcc])\n",
    "    print(\"\\n\")"
   ]
  },
  {
   "cell_type": "markdown",
   "metadata": {},
   "source": [
    "### <a id='3.A' style=\"text-decoration : none; color : #000000;\"> A. Results</a>"
   ]
  },
  {
   "cell_type": "code",
   "execution_count": 30,
   "metadata": {},
   "outputs": [
    {
     "data": {
      "application/vnd.plotly.v1+json": {
       "config": {
        "linkText": "Export to plot.ly",
        "plotlyServerURL": "https://plot.ly",
        "showLink": true
       },
       "data": [
        {
         "mode": "lines",
         "name": "KNN_model",
         "type": "scatter",
         "uid": "b7d35136-d1e0-40ed-b0aa-ebdc19943439",
         "x": [
          "accuracy",
          "FPR",
          "FNR",
          "auc"
         ],
         "y": [
          0.8349812217367978,
          0.04910794737790593,
          0.8250384812724474,
          0.5629267856748235
         ]
        },
        {
         "mode": "lines+markers",
         "name": "Logistic Regression",
         "type": "scatter",
         "uid": "d16db7ac-3fee-4c04-9836-17f5456fa601",
         "x": [
          "accuracy",
          "FPR",
          "FNR",
          "auc"
         ],
         "y": [
          0.8261669349275695,
          0.19859434132276085,
          0.032837352488455616,
          0.8842841530943918
         ]
        },
        {
         "marker": {
          "symbol": "x"
         },
         "mode": "lines+markers",
         "name": "Random Forest",
         "type": "scatter",
         "uid": "ce2300ee-0b86-4985-8613-a0389175fc70",
         "x": [
          "accuracy",
          "FPR",
          "FNR",
          "auc"
         ],
         "y": [
          0.8997470682915613,
          0.10722652730221661,
          0.06054386865059005,
          0.9161148020235966
         ]
        },
        {
         "mode": "lines",
         "name": "Ada Boost",
         "type": "scatter",
         "uid": "ff4a1068-88ad-40a9-822a-557d8f264209",
         "x": [
          "accuracy",
          "FPR",
          "FNR",
          "auc"
         ],
         "y": [
          0.8620372499425155,
          0.15101820147774372,
          0.06362237044638276,
          0.8926797140379369
         ]
        },
        {
         "mode": "lines+markers",
         "name": "GradientBoosting",
         "type": "scatter",
         "uid": "375da351-23be-469b-bf51-a9250d01d7ac",
         "x": [
          "accuracy",
          "FPR",
          "FNR",
          "auc"
         ],
         "y": [
          0.8765999846708056,
          0.13642097675256804,
          0.04925602873268343,
          0.9071614972573742
         ]
        },
        {
         "marker": {
          "symbol": "x"
         },
         "mode": "lines+markers",
         "name": "ExtraTree Classifier",
         "type": "scatter",
         "uid": "6bee5a80-95a0-4af8-b4ef-9f604a2a4a0c",
         "x": [
          "accuracy",
          "FPR",
          "FNR",
          "auc"
         ],
         "y": [
          0.9012799877366444,
          0.10380248693458281,
          0.06977937403796819,
          0.9132090695137245
         ]
        },
        {
         "marker": {
          "symbol": "x"
         },
         "mode": "lines+markers",
         "name": "Bagging",
         "type": "scatter",
         "uid": "9d99a85f-800a-4b27-83b3-992777f56bd9",
         "x": [
          "accuracy",
          "FPR",
          "FNR",
          "auc"
         ],
         "y": [
          0.8934620985667203,
          0.11488556496666066,
          0.05900461775269369,
          0.9130549086403228
         ]
        },
        {
         "marker": {
          "symbol": "x"
         },
         "mode": "lines+markers",
         "name": "Neural Network",
         "type": "scatter",
         "uid": "20dcae08-cf5a-4a05-b1c0-45054d2e6abb",
         "x": [
          "accuracy",
          "FPR",
          "FNR",
          "auc"
         ],
         "y": [
          0.8592779949413658,
          0.1575959632366192,
          0.044638276038994354,
          0.8988828803621932
         ]
        }
       ],
       "layout": {
        "title": "Result comparision for Features selected in Section 1",
        "yaxis": {
         "dtick": 0.05,
         "tick0": 0
        }
       }
      },
      "text/html": [
       "<div id=\"20aedcfe-6e0e-4f2f-b9b8-e2fdfcafe601\" style=\"height: 525px; width: 100%;\" class=\"plotly-graph-div\"></div><script type=\"text/javascript\">require([\"plotly\"], function(Plotly) { window.PLOTLYENV=window.PLOTLYENV || {};window.PLOTLYENV.BASE_URL=\"https://plot.ly\";Plotly.newPlot(\"20aedcfe-6e0e-4f2f-b9b8-e2fdfcafe601\", [{\"mode\": \"lines\", \"name\": \"KNN_model\", \"x\": [\"accuracy\", \"FPR\", \"FNR\", \"auc\"], \"y\": [0.8349812217367978, 0.04910794737790593, 0.8250384812724474, 0.5629267856748235], \"type\": \"scatter\", \"uid\": \"b7d35136-d1e0-40ed-b0aa-ebdc19943439\"}, {\"mode\": \"lines+markers\", \"name\": \"Logistic Regression\", \"x\": [\"accuracy\", \"FPR\", \"FNR\", \"auc\"], \"y\": [0.8261669349275695, 0.19859434132276085, 0.032837352488455616, 0.8842841530943918], \"type\": \"scatter\", \"uid\": \"d16db7ac-3fee-4c04-9836-17f5456fa601\"}, {\"marker\": {\"symbol\": \"x\"}, \"mode\": \"lines+markers\", \"name\": \"Random Forest\", \"x\": [\"accuracy\", \"FPR\", \"FNR\", \"auc\"], \"y\": [0.8997470682915613, 0.10722652730221661, 0.06054386865059005, 0.9161148020235966], \"type\": \"scatter\", \"uid\": \"ce2300ee-0b86-4985-8613-a0389175fc70\"}, {\"mode\": \"lines\", \"name\": \"Ada Boost\", \"x\": [\"accuracy\", \"FPR\", \"FNR\", \"auc\"], \"y\": [0.8620372499425155, 0.15101820147774372, 0.06362237044638276, 0.8926797140379369], \"type\": \"scatter\", \"uid\": \"ff4a1068-88ad-40a9-822a-557d8f264209\"}, {\"mode\": \"lines+markers\", \"name\": \"GradientBoosting\", \"x\": [\"accuracy\", \"FPR\", \"FNR\", \"auc\"], \"y\": [0.8765999846708056, 0.13642097675256804, 0.04925602873268343, 0.9071614972573742], \"type\": \"scatter\", \"uid\": \"375da351-23be-469b-bf51-a9250d01d7ac\"}, {\"marker\": {\"symbol\": \"x\"}, \"mode\": \"lines+markers\", \"name\": \"ExtraTree Classifier\", \"x\": [\"accuracy\", \"FPR\", \"FNR\", \"auc\"], \"y\": [0.9012799877366444, 0.10380248693458281, 0.06977937403796819, 0.9132090695137245], \"type\": \"scatter\", \"uid\": \"6bee5a80-95a0-4af8-b4ef-9f604a2a4a0c\"}, {\"marker\": {\"symbol\": \"x\"}, \"mode\": \"lines+markers\", \"name\": \"Bagging\", \"x\": [\"accuracy\", \"FPR\", \"FNR\", \"auc\"], \"y\": [0.8934620985667203, 0.11488556496666066, 0.05900461775269369, 0.9130549086403228], \"type\": \"scatter\", \"uid\": \"9d99a85f-800a-4b27-83b3-992777f56bd9\"}, {\"marker\": {\"symbol\": \"x\"}, \"mode\": \"lines+markers\", \"name\": \"Neural Network\", \"x\": [\"accuracy\", \"FPR\", \"FNR\", \"auc\"], \"y\": [0.8592779949413658, 0.1575959632366192, 0.044638276038994354, 0.8988828803621932], \"type\": \"scatter\", \"uid\": \"20dcae08-cf5a-4a05-b1c0-45054d2e6abb\"}], {\"title\": \"Result comparision for Features selected in Section 1\", \"yaxis\": {\"dtick\": 0.05, \"tick0\": 0}}, {\"showLink\": true, \"linkText\": \"Export to plot.ly\", \"plotlyServerURL\": \"https://plot.ly\"})});</script><script type=\"text/javascript\">window.addEventListener(\"resize\", function(){window._Plotly.Plots.resize(document.getElementById(\"20aedcfe-6e0e-4f2f-b9b8-e2fdfcafe601\"));});</script>"
      ],
      "text/vnd.plotly.v1+html": [
       "<div id=\"20aedcfe-6e0e-4f2f-b9b8-e2fdfcafe601\" style=\"height: 525px; width: 100%;\" class=\"plotly-graph-div\"></div><script type=\"text/javascript\">require([\"plotly\"], function(Plotly) { window.PLOTLYENV=window.PLOTLYENV || {};window.PLOTLYENV.BASE_URL=\"https://plot.ly\";Plotly.newPlot(\"20aedcfe-6e0e-4f2f-b9b8-e2fdfcafe601\", [{\"mode\": \"lines\", \"name\": \"KNN_model\", \"x\": [\"accuracy\", \"FPR\", \"FNR\", \"auc\"], \"y\": [0.8349812217367978, 0.04910794737790593, 0.8250384812724474, 0.5629267856748235], \"type\": \"scatter\", \"uid\": \"b7d35136-d1e0-40ed-b0aa-ebdc19943439\"}, {\"mode\": \"lines+markers\", \"name\": \"Logistic Regression\", \"x\": [\"accuracy\", \"FPR\", \"FNR\", \"auc\"], \"y\": [0.8261669349275695, 0.19859434132276085, 0.032837352488455616, 0.8842841530943918], \"type\": \"scatter\", \"uid\": \"d16db7ac-3fee-4c04-9836-17f5456fa601\"}, {\"marker\": {\"symbol\": \"x\"}, \"mode\": \"lines+markers\", \"name\": \"Random Forest\", \"x\": [\"accuracy\", \"FPR\", \"FNR\", \"auc\"], \"y\": [0.8997470682915613, 0.10722652730221661, 0.06054386865059005, 0.9161148020235966], \"type\": \"scatter\", \"uid\": \"ce2300ee-0b86-4985-8613-a0389175fc70\"}, {\"mode\": \"lines\", \"name\": \"Ada Boost\", \"x\": [\"accuracy\", \"FPR\", \"FNR\", \"auc\"], \"y\": [0.8620372499425155, 0.15101820147774372, 0.06362237044638276, 0.8926797140379369], \"type\": \"scatter\", \"uid\": \"ff4a1068-88ad-40a9-822a-557d8f264209\"}, {\"mode\": \"lines+markers\", \"name\": \"GradientBoosting\", \"x\": [\"accuracy\", \"FPR\", \"FNR\", \"auc\"], \"y\": [0.8765999846708056, 0.13642097675256804, 0.04925602873268343, 0.9071614972573742], \"type\": \"scatter\", \"uid\": \"375da351-23be-469b-bf51-a9250d01d7ac\"}, {\"marker\": {\"symbol\": \"x\"}, \"mode\": \"lines+markers\", \"name\": \"ExtraTree Classifier\", \"x\": [\"accuracy\", \"FPR\", \"FNR\", \"auc\"], \"y\": [0.9012799877366444, 0.10380248693458281, 0.06977937403796819, 0.9132090695137245], \"type\": \"scatter\", \"uid\": \"6bee5a80-95a0-4af8-b4ef-9f604a2a4a0c\"}, {\"marker\": {\"symbol\": \"x\"}, \"mode\": \"lines+markers\", \"name\": \"Bagging\", \"x\": [\"accuracy\", \"FPR\", \"FNR\", \"auc\"], \"y\": [0.8934620985667203, 0.11488556496666066, 0.05900461775269369, 0.9130549086403228], \"type\": \"scatter\", \"uid\": \"9d99a85f-800a-4b27-83b3-992777f56bd9\"}, {\"marker\": {\"symbol\": \"x\"}, \"mode\": \"lines+markers\", \"name\": \"Neural Network\", \"x\": [\"accuracy\", \"FPR\", \"FNR\", \"auc\"], \"y\": [0.8592779949413658, 0.1575959632366192, 0.044638276038994354, 0.8988828803621932], \"type\": \"scatter\", \"uid\": \"20dcae08-cf5a-4a05-b1c0-45054d2e6abb\"}], {\"title\": \"Result comparision for Features selected in Section 1\", \"yaxis\": {\"dtick\": 0.05, \"tick0\": 0}}, {\"showLink\": true, \"linkText\": \"Export to plot.ly\", \"plotlyServerURL\": \"https://plot.ly\"})});</script><script type=\"text/javascript\">window.addEventListener(\"resize\", function(){window._Plotly.Plots.resize(document.getElementById(\"20aedcfe-6e0e-4f2f-b9b8-e2fdfcafe601\"));});</script>"
      ]
     },
     "metadata": {},
     "output_type": "display_data"
    }
   ],
   "source": [
    "trace0 = go.Scatter(x=table_80_90_test.iloc[0].index.values[[0,5,6,7]],\n",
    "                    y=table_80_90_test.iloc[0].values[[0,5,6,7]],\n",
    "                    mode = 'lines',\n",
    "                    name = 'KNN_model')\n",
    "\n",
    "trace1 = go.Scatter(x=table_80_90_test.iloc[1].index.values[[0,5,6,7]],\n",
    "                    y=table_80_90_test.iloc[1].values[[0,5,6,7]],\n",
    "                    mode = 'lines+markers',\n",
    "                    name = 'Logistic Regression')\n",
    "\n",
    "trace2 = go.Scatter(x=table_80_90_test.iloc[2].index.values[[0,5,6,7]],\n",
    "                    y=table_80_90_test.iloc[2].values[[0,5,6,7]],\n",
    "                    mode = 'lines+markers',marker=dict(symbol='x'),\n",
    "                    name = 'Random Forest')\n",
    "\n",
    "\n",
    "trace3 = go.Scatter(x=table_80_90_test.iloc[3].index.values[[0,5,6,7]],\n",
    "                    y=table_80_90_test.iloc[3].values[[0,5,6,7]],\n",
    "                    mode = 'lines',\n",
    "                    name = 'Ada Boost')\n",
    "\n",
    "trace4 = go.Scatter(x=table_80_90_test.iloc[4].index.values[[0,5,6,7]],\n",
    "                    y=table_80_90_test.iloc[4].values[[0,5,6,7]],\n",
    "                    mode = 'lines+markers',\n",
    "                    name = 'GradientBoosting')\n",
    "\n",
    "trace5 = go.Scatter(x=table_80_90_test.iloc[5].index.values[[0,5,6,7]],\n",
    "                    y=table_80_90_test.iloc[5].values[[0,5,6,7]],\n",
    "                    mode = 'lines+markers',marker=dict(symbol='x'),\n",
    "                    name = 'ExtraTree Classifier')\n",
    "\n",
    "trace6 = go.Scatter(x=table_80_90_test.iloc[6].index.values[[0,5,6,7]],\n",
    "                    y=table_80_90_test.iloc[6].values[[0,5,6,7]],\n",
    "                    mode = 'lines+markers',marker=dict(symbol='x'),\n",
    "                    name = 'Bagging')\n",
    "\n",
    "trace7 = go.Scatter(x=table_80_90_test.iloc[7].index.values[[0,5,6,7]],\n",
    "                    y=table_80_90_test.iloc[7].values[[0,5,6,7]],\n",
    "                    mode = 'lines+markers',marker=dict(symbol='x'),\n",
    "                    name = 'Neural Network')\n",
    "\n",
    "\n",
    "\n",
    "data = [trace0, trace1, trace2, trace3, trace4, trace5, trace6, trace7]\n",
    "layout = go.Layout(yaxis=dict(tick0=0,dtick=0.05),title='Result comparision for Features selected in Section 1')\n",
    "fig = go.Figure(data=data, layout=layout)\n",
    "\n",
    "iplot(fig, filename='Result')"
   ]
  },
  {
   "cell_type": "code",
   "execution_count": 31,
   "metadata": {},
   "outputs": [
    {
     "name": "stdout",
     "output_type": "stream",
     "text": [
      "Training Results\n"
     ]
    },
    {
     "data": {
      "text/html": [
       "<div>\n",
       "<style scoped>\n",
       "    .dataframe tbody tr th:only-of-type {\n",
       "        vertical-align: middle;\n",
       "    }\n",
       "\n",
       "    .dataframe tbody tr th {\n",
       "        vertical-align: top;\n",
       "    }\n",
       "\n",
       "    .dataframe thead th {\n",
       "        text-align: right;\n",
       "    }\n",
       "</style>\n",
       "<table border=\"1\" class=\"dataframe\">\n",
       "  <thead>\n",
       "    <tr style=\"text-align: right;\">\n",
       "      <th></th>\n",
       "      <th>accuracy</th>\n",
       "      <th>TP</th>\n",
       "      <th>TN</th>\n",
       "      <th>FP</th>\n",
       "      <th>FN</th>\n",
       "      <th>FPR</th>\n",
       "      <th>FNR</th>\n",
       "    </tr>\n",
       "    <tr>\n",
       "      <th>index</th>\n",
       "      <th></th>\n",
       "      <th></th>\n",
       "      <th></th>\n",
       "      <th></th>\n",
       "      <th></th>\n",
       "      <th></th>\n",
       "      <th></th>\n",
       "    </tr>\n",
       "  </thead>\n",
       "  <tbody>\n",
       "    <tr>\n",
       "      <th>KNeighborsClassifier</th>\n",
       "      <td>0.572267</td>\n",
       "      <td>789.0</td>\n",
       "      <td>4279.0</td>\n",
       "      <td>149.0</td>\n",
       "      <td>3639.0</td>\n",
       "      <td>0.033650</td>\n",
       "      <td>0.821816</td>\n",
       "    </tr>\n",
       "    <tr>\n",
       "      <th>LogisticRegression</th>\n",
       "      <td>0.882791</td>\n",
       "      <td>4238.0</td>\n",
       "      <td>3580.0</td>\n",
       "      <td>848.0</td>\n",
       "      <td>190.0</td>\n",
       "      <td>0.191509</td>\n",
       "      <td>0.042909</td>\n",
       "    </tr>\n",
       "    <tr>\n",
       "      <th>RandomForestClassifier</th>\n",
       "      <td>0.943767</td>\n",
       "      <td>4331.0</td>\n",
       "      <td>4027.0</td>\n",
       "      <td>401.0</td>\n",
       "      <td>97.0</td>\n",
       "      <td>0.090560</td>\n",
       "      <td>0.021906</td>\n",
       "    </tr>\n",
       "    <tr>\n",
       "      <th>AdaBoostClassifier</th>\n",
       "      <td>0.891034</td>\n",
       "      <td>4115.0</td>\n",
       "      <td>3776.0</td>\n",
       "      <td>652.0</td>\n",
       "      <td>313.0</td>\n",
       "      <td>0.147245</td>\n",
       "      <td>0.070687</td>\n",
       "    </tr>\n",
       "    <tr>\n",
       "      <th>GradientBoostingClassifier</th>\n",
       "      <td>0.910795</td>\n",
       "      <td>4194.0</td>\n",
       "      <td>3872.0</td>\n",
       "      <td>556.0</td>\n",
       "      <td>234.0</td>\n",
       "      <td>0.125565</td>\n",
       "      <td>0.052846</td>\n",
       "    </tr>\n",
       "    <tr>\n",
       "      <th>ExtraTreeClassifier</th>\n",
       "      <td>0.947154</td>\n",
       "      <td>4350.0</td>\n",
       "      <td>4038.0</td>\n",
       "      <td>390.0</td>\n",
       "      <td>78.0</td>\n",
       "      <td>0.088076</td>\n",
       "      <td>0.017615</td>\n",
       "    </tr>\n",
       "    <tr>\n",
       "      <th>BaggingClassifier</th>\n",
       "      <td>0.942638</td>\n",
       "      <td>4322.0</td>\n",
       "      <td>4026.0</td>\n",
       "      <td>402.0</td>\n",
       "      <td>106.0</td>\n",
       "      <td>0.090786</td>\n",
       "      <td>0.023939</td>\n",
       "    </tr>\n",
       "    <tr>\n",
       "      <th>Neural Network-1</th>\n",
       "      <td>0.927620</td>\n",
       "      <td>4336.0</td>\n",
       "      <td>3879.0</td>\n",
       "      <td>549.0</td>\n",
       "      <td>92.0</td>\n",
       "      <td>0.123984</td>\n",
       "      <td>0.020777</td>\n",
       "    </tr>\n",
       "  </tbody>\n",
       "</table>\n",
       "</div>"
      ],
      "text/plain": [
       "                            accuracy      TP      TN     FP      FN       FPR  \\\n",
       "index                                                                           \n",
       "KNeighborsClassifier        0.572267   789.0  4279.0  149.0  3639.0  0.033650   \n",
       "LogisticRegression          0.882791  4238.0  3580.0  848.0   190.0  0.191509   \n",
       "RandomForestClassifier      0.943767  4331.0  4027.0  401.0    97.0  0.090560   \n",
       "AdaBoostClassifier          0.891034  4115.0  3776.0  652.0   313.0  0.147245   \n",
       "GradientBoostingClassifier  0.910795  4194.0  3872.0  556.0   234.0  0.125565   \n",
       "ExtraTreeClassifier         0.947154  4350.0  4038.0  390.0    78.0  0.088076   \n",
       "BaggingClassifier           0.942638  4322.0  4026.0  402.0   106.0  0.090786   \n",
       "Neural Network-1            0.927620  4336.0  3879.0  549.0    92.0  0.123984   \n",
       "\n",
       "                                 FNR  \n",
       "index                                 \n",
       "KNeighborsClassifier        0.821816  \n",
       "LogisticRegression          0.042909  \n",
       "RandomForestClassifier      0.021906  \n",
       "AdaBoostClassifier          0.070687  \n",
       "GradientBoostingClassifier  0.052846  \n",
       "ExtraTreeClassifier         0.017615  \n",
       "BaggingClassifier           0.023939  \n",
       "Neural Network-1            0.020777  "
      ]
     },
     "metadata": {},
     "output_type": "display_data"
    },
    {
     "name": "stdout",
     "output_type": "stream",
     "text": [
      "Test Results\n"
     ]
    },
    {
     "data": {
      "text/html": [
       "<div>\n",
       "<style scoped>\n",
       "    .dataframe tbody tr th:only-of-type {\n",
       "        vertical-align: middle;\n",
       "    }\n",
       "\n",
       "    .dataframe tbody tr th {\n",
       "        vertical-align: top;\n",
       "    }\n",
       "\n",
       "    .dataframe thead th {\n",
       "        text-align: right;\n",
       "    }\n",
       "</style>\n",
       "<table border=\"1\" class=\"dataframe\">\n",
       "  <thead>\n",
       "    <tr style=\"text-align: right;\">\n",
       "      <th></th>\n",
       "      <th>accuracy</th>\n",
       "      <th>TP</th>\n",
       "      <th>TN</th>\n",
       "      <th>FP</th>\n",
       "      <th>FN</th>\n",
       "      <th>FPR</th>\n",
       "      <th>FNR</th>\n",
       "      <th>auc</th>\n",
       "      <th>mcc</th>\n",
       "    </tr>\n",
       "    <tr>\n",
       "      <th>index</th>\n",
       "      <th></th>\n",
       "      <th></th>\n",
       "      <th></th>\n",
       "      <th></th>\n",
       "      <th></th>\n",
       "      <th></th>\n",
       "      <th></th>\n",
       "      <th></th>\n",
       "      <th></th>\n",
       "    </tr>\n",
       "  </thead>\n",
       "  <tbody>\n",
       "    <tr>\n",
       "      <th>KNeighborsClassifier</th>\n",
       "      <td>0.834981</td>\n",
       "      <td>341.0</td>\n",
       "      <td>10553.0</td>\n",
       "      <td>545.0</td>\n",
       "      <td>1608.0</td>\n",
       "      <td>0.049108</td>\n",
       "      <td>0.825038</td>\n",
       "      <td>0.562927</td>\n",
       "      <td>0.178317</td>\n",
       "    </tr>\n",
       "    <tr>\n",
       "      <th>LogisticRegression</th>\n",
       "      <td>0.826167</td>\n",
       "      <td>1885.0</td>\n",
       "      <td>8894.0</td>\n",
       "      <td>2204.0</td>\n",
       "      <td>64.0</td>\n",
       "      <td>0.198594</td>\n",
       "      <td>0.032837</td>\n",
       "      <td>0.884284</td>\n",
       "      <td>0.590604</td>\n",
       "    </tr>\n",
       "    <tr>\n",
       "      <th>RandomForestClassifier</th>\n",
       "      <td>0.899747</td>\n",
       "      <td>1831.0</td>\n",
       "      <td>9908.0</td>\n",
       "      <td>1190.0</td>\n",
       "      <td>118.0</td>\n",
       "      <td>0.107227</td>\n",
       "      <td>0.060544</td>\n",
       "      <td>0.916115</td>\n",
       "      <td>0.703286</td>\n",
       "    </tr>\n",
       "    <tr>\n",
       "      <th>AdaBoostClassifier</th>\n",
       "      <td>0.862037</td>\n",
       "      <td>1825.0</td>\n",
       "      <td>9422.0</td>\n",
       "      <td>1676.0</td>\n",
       "      <td>124.0</td>\n",
       "      <td>0.151018</td>\n",
       "      <td>0.063622</td>\n",
       "      <td>0.892680</td>\n",
       "      <td>0.631815</td>\n",
       "    </tr>\n",
       "    <tr>\n",
       "      <th>GradientBoostingClassifier</th>\n",
       "      <td>0.876600</td>\n",
       "      <td>1853.0</td>\n",
       "      <td>9584.0</td>\n",
       "      <td>1514.0</td>\n",
       "      <td>96.0</td>\n",
       "      <td>0.136421</td>\n",
       "      <td>0.049256</td>\n",
       "      <td>0.907161</td>\n",
       "      <td>0.663385</td>\n",
       "    </tr>\n",
       "    <tr>\n",
       "      <th>ExtraTreeClassifier</th>\n",
       "      <td>0.901280</td>\n",
       "      <td>1813.0</td>\n",
       "      <td>9946.0</td>\n",
       "      <td>1152.0</td>\n",
       "      <td>136.0</td>\n",
       "      <td>0.103802</td>\n",
       "      <td>0.069779</td>\n",
       "      <td>0.913209</td>\n",
       "      <td>0.702979</td>\n",
       "    </tr>\n",
       "    <tr>\n",
       "      <th>BaggingClassifier</th>\n",
       "      <td>0.893462</td>\n",
       "      <td>1834.0</td>\n",
       "      <td>9823.0</td>\n",
       "      <td>1275.0</td>\n",
       "      <td>115.0</td>\n",
       "      <td>0.114886</td>\n",
       "      <td>0.059005</td>\n",
       "      <td>0.913055</td>\n",
       "      <td>0.691204</td>\n",
       "    </tr>\n",
       "    <tr>\n",
       "      <th>Neural Network-1</th>\n",
       "      <td>0.859278</td>\n",
       "      <td>1862.0</td>\n",
       "      <td>9349.0</td>\n",
       "      <td>1749.0</td>\n",
       "      <td>87.0</td>\n",
       "      <td>0.157596</td>\n",
       "      <td>0.044638</td>\n",
       "      <td>0.898883</td>\n",
       "      <td>0.635618</td>\n",
       "    </tr>\n",
       "  </tbody>\n",
       "</table>\n",
       "</div>"
      ],
      "text/plain": [
       "                            accuracy      TP       TN      FP      FN  \\\n",
       "index                                                                   \n",
       "KNeighborsClassifier        0.834981   341.0  10553.0   545.0  1608.0   \n",
       "LogisticRegression          0.826167  1885.0   8894.0  2204.0    64.0   \n",
       "RandomForestClassifier      0.899747  1831.0   9908.0  1190.0   118.0   \n",
       "AdaBoostClassifier          0.862037  1825.0   9422.0  1676.0   124.0   \n",
       "GradientBoostingClassifier  0.876600  1853.0   9584.0  1514.0    96.0   \n",
       "ExtraTreeClassifier         0.901280  1813.0   9946.0  1152.0   136.0   \n",
       "BaggingClassifier           0.893462  1834.0   9823.0  1275.0   115.0   \n",
       "Neural Network-1            0.859278  1862.0   9349.0  1749.0    87.0   \n",
       "\n",
       "                                 FPR       FNR       auc       mcc  \n",
       "index                                                               \n",
       "KNeighborsClassifier        0.049108  0.825038  0.562927  0.178317  \n",
       "LogisticRegression          0.198594  0.032837  0.884284  0.590604  \n",
       "RandomForestClassifier      0.107227  0.060544  0.916115  0.703286  \n",
       "AdaBoostClassifier          0.151018  0.063622  0.892680  0.631815  \n",
       "GradientBoostingClassifier  0.136421  0.049256  0.907161  0.663385  \n",
       "ExtraTreeClassifier         0.103802  0.069779  0.913209  0.702979  \n",
       "BaggingClassifier           0.114886  0.059005  0.913055  0.691204  \n",
       "Neural Network-1            0.157596  0.044638  0.898883  0.635618  "
      ]
     },
     "metadata": {},
     "output_type": "display_data"
    }
   ],
   "source": [
    "table_80_90_train['index']=ind_columns\n",
    "table_80_90_test['index']=ind_columns\n",
    "\n",
    "\n",
    "table_80_90_test.set_index(['index'],drop=True,inplace=True)\n",
    "table_80_90_train.set_index(['index'],drop=True,inplace=True)\n",
    "\n",
    "print(\"Training Results\")\n",
    "display(table_80_90_train)\n",
    "print(\"Test Results\")\n",
    "display(table_80_90_test)"
   ]
  },
  {
   "cell_type": "markdown",
   "metadata": {},
   "source": [
    "### <a id='3.B' style=\"text-decoration : none; color : #000000;\"> B. Average Feature Importances</a>"
   ]
  },
  {
   "cell_type": "code",
   "execution_count": 32,
   "metadata": {},
   "outputs": [
    {
     "data": {
      "application/vnd.plotly.v1+json": {
       "config": {
        "linkText": "Export to plot.ly",
        "plotlyServerURL": "https://plot.ly",
        "showLink": true
       },
       "data": [
        {
         "marker": {
          "color": "rgb(158,202,225)",
          "line": {
           "color": "rgb(8,48,107)",
           "width": 1.5
          }
         },
         "opacity": 0.6,
         "orientation": "h",
         "text": [
          0.1573,
          0.1156,
          0.0936,
          0.0579,
          0.0541,
          0.0446,
          0.0428,
          0.0355,
          0.0342,
          0.0318,
          0.0285,
          0.0284,
          0.0262,
          0.0243,
          0.0226,
          0.0198,
          0.0152,
          0.0146,
          0.0142,
          0.0137,
          0.0131,
          0.0115,
          0.0109,
          0.0109,
          0.0097,
          0.0094,
          0.009,
          0.0089,
          0.0082,
          0.0072,
          0.007,
          0.0067,
          0.0057,
          0.0041,
          0.003
         ],
         "textposition": "outside",
         "type": "bar",
         "uid": "c91fcbad-ad56-42f9-8185-58d5bc4be65c",
         "x": [
          0.1572730368451776,
          0.11559614747925272,
          0.09355130556876694,
          0.05793744289317718,
          0.05407095983492163,
          0.04458012502478638,
          0.04276985032953047,
          0.03549016350932217,
          0.03418257612321985,
          0.031787638528638154,
          0.028459671408845227,
          0.02843204373388824,
          0.026246028504511063,
          0.024296887938510276,
          0.022628652181711305,
          0.019846780151923885,
          0.01517042529534609,
          0.014576789535003937,
          0.01421724080992454,
          0.013744373910485512,
          0.013050997328591718,
          0.011523211526374184,
          0.01087573216680171,
          0.01087547960630679,
          0.009684902383222602,
          0.00937532681320849,
          0.008963609822981377,
          0.00891552086368984,
          0.008197931466511973,
          0.007189077050616708,
          0.006964219164221866,
          0.006727358394256323,
          0.005719101644312709,
          0.0040944208360429975,
          0.002984971325917585
         ],
         "y": [
          "link_href_out_of_domain",
          "div_count",
          "script_async_true",
          "title_count",
          "meta_count",
          "a_href_https",
          "script_type_text/javascript",
          "script_src_out_of_domain",
          "script_src_.js",
          "br_count",
          "link_type_text/css",
          "a_href_http",
          "img_src_.jpg",
          "span_count",
          "li_count",
          "p_count",
          "center_count",
          "link_href_http",
          "link_href_.css",
          "script_defer_true",
          "section_count",
          "iframe_src_https",
          "h1_count",
          "b_count",
          "input_count",
          "strong_count",
          "link_type_application/rsd+xml",
          "form_action_http",
          "script_charset_UTF-8",
          "a_href_.com",
          "form_action_out_of_domain",
          "link_rel_shortlink",
          "a_href_.aspx",
          "link_href_0",
          "link_type_application/rss+xml"
         ]
        }
       ],
       "layout": {
        "autosize": false,
        "height": 1000,
        "width": 1000,
        "xaxis": {
         "tickfont": {
          "color": "black",
          "size": 12
         },
         "title": "Feature Importances"
        },
        "yaxis": {
         "automargin": true
        }
       }
      },
      "text/html": [
       "<div id=\"ee78b579-b7e4-44af-b18b-674540b73394\" style=\"height: 1000px; width: 1000px;\" class=\"plotly-graph-div\"></div><script type=\"text/javascript\">require([\"plotly\"], function(Plotly) { window.PLOTLYENV=window.PLOTLYENV || {};window.PLOTLYENV.BASE_URL=\"https://plot.ly\";Plotly.newPlot(\"ee78b579-b7e4-44af-b18b-674540b73394\", [{\"marker\": {\"color\": \"rgb(158,202,225)\", \"line\": {\"color\": \"rgb(8,48,107)\", \"width\": 1.5}}, \"opacity\": 0.6, \"orientation\": \"h\", \"text\": [0.1573, 0.1156, 0.0936, 0.0579, 0.0541, 0.0446, 0.0428, 0.0355, 0.0342, 0.0318, 0.0285, 0.0284, 0.0262, 0.0243, 0.0226, 0.0198, 0.0152, 0.0146, 0.0142, 0.0137, 0.0131, 0.0115, 0.0109, 0.0109, 0.0097, 0.0094, 0.009, 0.0089, 0.0082, 0.0072, 0.007, 0.0067, 0.0057, 0.0041, 0.003], \"textposition\": \"outside\", \"x\": [0.1572730368451776, 0.11559614747925272, 0.09355130556876694, 0.05793744289317718, 0.05407095983492163, 0.04458012502478638, 0.04276985032953047, 0.03549016350932217, 0.03418257612321985, 0.031787638528638154, 0.028459671408845227, 0.02843204373388824, 0.026246028504511063, 0.024296887938510276, 0.022628652181711305, 0.019846780151923885, 0.01517042529534609, 0.014576789535003937, 0.01421724080992454, 0.013744373910485512, 0.013050997328591718, 0.011523211526374184, 0.01087573216680171, 0.01087547960630679, 0.009684902383222602, 0.00937532681320849, 0.008963609822981377, 0.00891552086368984, 0.008197931466511973, 0.007189077050616708, 0.006964219164221866, 0.006727358394256323, 0.005719101644312709, 0.0040944208360429975, 0.002984971325917585], \"y\": [\"link_href_out_of_domain\", \"div_count\", \"script_async_true\", \"title_count\", \"meta_count\", \"a_href_https\", \"script_type_text/javascript\", \"script_src_out_of_domain\", \"script_src_.js\", \"br_count\", \"link_type_text/css\", \"a_href_http\", \"img_src_.jpg\", \"span_count\", \"li_count\", \"p_count\", \"center_count\", \"link_href_http\", \"link_href_.css\", \"script_defer_true\", \"section_count\", \"iframe_src_https\", \"h1_count\", \"b_count\", \"input_count\", \"strong_count\", \"link_type_application/rsd+xml\", \"form_action_http\", \"script_charset_UTF-8\", \"a_href_.com\", \"form_action_out_of_domain\", \"link_rel_shortlink\", \"a_href_.aspx\", \"link_href_0\", \"link_type_application/rss+xml\"], \"type\": \"bar\", \"uid\": \"c91fcbad-ad56-42f9-8185-58d5bc4be65c\"}], {\"autosize\": false, \"height\": 1000, \"width\": 1000, \"xaxis\": {\"tickfont\": {\"color\": \"black\", \"size\": 12}, \"title\": \"Feature Importances\"}, \"yaxis\": {\"automargin\": true}}, {\"showLink\": true, \"linkText\": \"Export to plot.ly\", \"plotlyServerURL\": \"https://plot.ly\"})});</script>"
      ],
      "text/vnd.plotly.v1+html": [
       "<div id=\"ee78b579-b7e4-44af-b18b-674540b73394\" style=\"height: 1000px; width: 1000px;\" class=\"plotly-graph-div\"></div><script type=\"text/javascript\">require([\"plotly\"], function(Plotly) { window.PLOTLYENV=window.PLOTLYENV || {};window.PLOTLYENV.BASE_URL=\"https://plot.ly\";Plotly.newPlot(\"ee78b579-b7e4-44af-b18b-674540b73394\", [{\"marker\": {\"color\": \"rgb(158,202,225)\", \"line\": {\"color\": \"rgb(8,48,107)\", \"width\": 1.5}}, \"opacity\": 0.6, \"orientation\": \"h\", \"text\": [0.1573, 0.1156, 0.0936, 0.0579, 0.0541, 0.0446, 0.0428, 0.0355, 0.0342, 0.0318, 0.0285, 0.0284, 0.0262, 0.0243, 0.0226, 0.0198, 0.0152, 0.0146, 0.0142, 0.0137, 0.0131, 0.0115, 0.0109, 0.0109, 0.0097, 0.0094, 0.009, 0.0089, 0.0082, 0.0072, 0.007, 0.0067, 0.0057, 0.0041, 0.003], \"textposition\": \"outside\", \"x\": [0.1572730368451776, 0.11559614747925272, 0.09355130556876694, 0.05793744289317718, 0.05407095983492163, 0.04458012502478638, 0.04276985032953047, 0.03549016350932217, 0.03418257612321985, 0.031787638528638154, 0.028459671408845227, 0.02843204373388824, 0.026246028504511063, 0.024296887938510276, 0.022628652181711305, 0.019846780151923885, 0.01517042529534609, 0.014576789535003937, 0.01421724080992454, 0.013744373910485512, 0.013050997328591718, 0.011523211526374184, 0.01087573216680171, 0.01087547960630679, 0.009684902383222602, 0.00937532681320849, 0.008963609822981377, 0.00891552086368984, 0.008197931466511973, 0.007189077050616708, 0.006964219164221866, 0.006727358394256323, 0.005719101644312709, 0.0040944208360429975, 0.002984971325917585], \"y\": [\"link_href_out_of_domain\", \"div_count\", \"script_async_true\", \"title_count\", \"meta_count\", \"a_href_https\", \"script_type_text/javascript\", \"script_src_out_of_domain\", \"script_src_.js\", \"br_count\", \"link_type_text/css\", \"a_href_http\", \"img_src_.jpg\", \"span_count\", \"li_count\", \"p_count\", \"center_count\", \"link_href_http\", \"link_href_.css\", \"script_defer_true\", \"section_count\", \"iframe_src_https\", \"h1_count\", \"b_count\", \"input_count\", \"strong_count\", \"link_type_application/rsd+xml\", \"form_action_http\", \"script_charset_UTF-8\", \"a_href_.com\", \"form_action_out_of_domain\", \"link_rel_shortlink\", \"a_href_.aspx\", \"link_href_0\", \"link_type_application/rss+xml\"], \"type\": \"bar\", \"uid\": \"c91fcbad-ad56-42f9-8185-58d5bc4be65c\"}], {\"autosize\": false, \"height\": 1000, \"width\": 1000, \"xaxis\": {\"tickfont\": {\"color\": \"black\", \"size\": 12}, \"title\": \"Feature Importances\"}, \"yaxis\": {\"automargin\": true}}, {\"showLink\": true, \"linkText\": \"Export to plot.ly\", \"plotlyServerURL\": \"https://plot.ly\"})});</script>"
      ]
     },
     "metadata": {},
     "output_type": "display_data"
    }
   ],
   "source": [
    "feat_impt_plot(np.average(feat_imp,axis=0),columns)"
   ]
  },
  {
   "cell_type": "markdown",
   "metadata": {},
   "source": [
    "### <a id='4' style=\"text-decoration : none; color : #000000;\">4. Feature Transformation with feature selection </a>"
   ]
  },
  {
   "cell_type": "code",
   "execution_count": 33,
   "metadata": {},
   "outputs": [
    {
     "name": "stdout",
     "output_type": "stream",
     "text": [
      "Built 2415 features\n",
      "EntitySet scattered to workers in 4.655 seconds\n",
      "Elapsed: 00:13 | Remaining: 00:00 | Progress: 100%|██████████| Calculated: 11/11 chunks\n"
     ]
    }
   ],
   "source": [
    "df_sel.reset_index(inplace=True)\n",
    "\n",
    "# columns=columns.tolist()\n",
    "columns.append('domain')\n",
    "\n",
    "df_min=df_sel[columns]\n",
    "\n",
    "es = ft.EntitySet(id = 'malicious')\n",
    "es.entity_from_dataframe(entity_id = 'data', dataframe = df_min, index = 'domain')\n",
    "\n",
    "feature_matrix_sessions, features_defs = ft.dfs(entityset=es,target_entity=\"data\",\n",
    "                                                trans_primitives = ['add','divide','multiply'],n_jobs=-1,\n",
    "                                                verbose=1,max_depth=1)"
   ]
  },
  {
   "cell_type": "code",
   "execution_count": 34,
   "metadata": {},
   "outputs": [],
   "source": [
    "df_sel.set_index(['domain'],drop=True,inplace=True)\n",
    "fs=pd.merge(feature_matrix_sessions,pd.DataFrame(df_sel.Target),left_index=True, right_index=True)\n",
    "fs.replace([np.inf],0,inplace=True)\n",
    "fs.fillna(value=0,inplace=True)"
   ]
  },
  {
   "cell_type": "code",
   "execution_count": 35,
   "metadata": {},
   "outputs": [],
   "source": [
    "X=fs.loc[:,fs.columns!='Target']\n",
    "y=fs.Target\n",
    "feature_name = X.columns.tolist()"
   ]
  },
  {
   "cell_type": "code",
   "execution_count": 36,
   "metadata": {
    "scrolled": true
   },
   "outputs": [
    {
     "name": "stderr",
     "output_type": "stream",
     "text": [
      "distributed.client - ERROR - Failed to reconnect to scheduler after 10.00 seconds, closing client\n",
      "distributed.utils - ERROR - \n",
      "Traceback (most recent call last):\n",
      "  File \"/nethomes/darshan/anaconda3/lib/python3.6/site-packages/distributed/utils.py\", line 713, in log_errors\n",
      "    yield\n",
      "  File \"/nethomes/darshan/anaconda3/lib/python3.6/site-packages/distributed/client.py\", line 1223, in _close\n",
      "    quiet_exceptions=(CancelledError,),\n",
      "  File \"/nethomes/darshan/anaconda3/lib/python3.6/site-packages/tornado/gen.py\", line 584, in with_timeout\n",
      "    chain_future(future_converted, result)\n",
      "  File \"/nethomes/darshan/anaconda3/lib/python3.6/site-packages/tornado/concurrent.py\", line 166, in chain_future\n",
      "    future_add_done_callback(a, copy)\n",
      "  File \"/nethomes/darshan/anaconda3/lib/python3.6/site-packages/tornado/concurrent.py\", line 262, in future_add_done_callback\n",
      "    callback(future)\n",
      "  File \"/nethomes/darshan/anaconda3/lib/python3.6/site-packages/tornado/concurrent.py\", line 160, in copy\n",
      "    elif a.exception() is not None:\n",
      "concurrent.futures._base.CancelledError\n",
      "distributed.utils - ERROR - \n",
      "Traceback (most recent call last):\n",
      "  File \"/nethomes/darshan/anaconda3/lib/python3.6/site-packages/distributed/utils.py\", line 713, in log_errors\n",
      "    yield\n",
      "  File \"/nethomes/darshan/anaconda3/lib/python3.6/site-packages/distributed/client.py\", line 992, in _reconnect\n",
      "    yield self._close()\n",
      "  File \"/nethomes/darshan/anaconda3/lib/python3.6/site-packages/tornado/gen.py\", line 729, in run\n",
      "    value = future.result()\n",
      "  File \"/nethomes/darshan/anaconda3/lib/python3.6/site-packages/tornado/gen.py\", line 209, in wrapper\n",
      "    yielded = next(result)\n",
      "  File \"/nethomes/darshan/anaconda3/lib/python3.6/site-packages/distributed/client.py\", line 1223, in _close\n",
      "    quiet_exceptions=(CancelledError,),\n",
      "  File \"/nethomes/darshan/anaconda3/lib/python3.6/site-packages/tornado/gen.py\", line 584, in with_timeout\n",
      "    chain_future(future_converted, result)\n",
      "  File \"/nethomes/darshan/anaconda3/lib/python3.6/site-packages/tornado/concurrent.py\", line 166, in chain_future\n",
      "    future_add_done_callback(a, copy)\n",
      "  File \"/nethomes/darshan/anaconda3/lib/python3.6/site-packages/tornado/concurrent.py\", line 262, in future_add_done_callback\n",
      "    callback(future)\n",
      "  File \"/nethomes/darshan/anaconda3/lib/python3.6/site-packages/tornado/concurrent.py\", line 160, in copy\n",
      "    elif a.exception() is not None:\n",
      "concurrent.futures._base.CancelledError\n"
     ]
    }
   ],
   "source": [
    "def cor_selector(X, y):\n",
    "    cor_list = []\n",
    "    # calculate the correlation with y for each feature\n",
    "    for i in X.columns.tolist():\n",
    "        cor = np.corrcoef(X[i], y)[0, 1]\n",
    "        cor_list.append(cor)\n",
    "    # replace NaN with 0\n",
    "    cor_list = [0 if np.isnan(i) else i for i in cor_list]\n",
    "    # feature name\n",
    "    cor_feature = X.iloc[:,np.argsort(np.abs(cor_list))[-100:]].columns.tolist()\n",
    "    # feature selection? 0 for not select, 1 for select\n",
    "    cor_support = [True if i in cor_feature else False for i in feature_name]\n",
    "    return cor_support, cor_feature\n",
    "\n",
    "\n",
    "cor_support, cor_feature = cor_selector(X, y)\n",
    "\n",
    "\n",
    "\n",
    "X_norm = MinMaxScaler().fit_transform(X)\n",
    "chi_selector = SelectKBest(chi2, k=100)\n",
    "chi_selector.fit(X_norm, y)\n",
    "chi_support = chi_selector.get_support()\n",
    "chi_feature = X.loc[:,chi_support].columns.tolist()\n",
    "\n",
    "rfe_selector = RFE(estimator=LogisticRegression(random_state=0), n_features_to_select=100, step=0.3, verbose=False)\n",
    "rfe_selector.fit(X_norm, y)\n",
    "rfe_support = rfe_selector.get_support()\n",
    "rfe_feature = X.loc[:,rfe_support].columns.tolist()\n",
    "\n",
    "embeded_rf_selector = SelectFromModel(RandomForestClassifier(n_estimators=100,random_state=0), threshold='23*median')\n",
    "embeded_rf_selector.fit(X, y)\n",
    "embeded_rf_support = embeded_rf_selector.get_support()\n",
    "embeded_rf_feature = X.loc[:,embeded_rf_support].columns.tolist()\n",
    "\n",
    "feature_selection_df = pd.DataFrame({'Feature':feature_name, 'Pearson':cor_support, 'Chi-2':chi_support, 'RFE':rfe_support,\n",
    "                                    'Random Forest':embeded_rf_support})\n",
    "# count the selected times for each feature\n",
    "feature_selection_df['Total'] = np.sum(feature_selection_df, axis=1)\n",
    "# display the top 100\n",
    "feature_selection_df = feature_selection_df.sort_values(['Total','Feature'] , ascending=False)\n",
    "feature_selection_df.index = range(1, len(feature_selection_df)+1)"
   ]
  },
  {
   "cell_type": "code",
   "execution_count": 40,
   "metadata": {},
   "outputs": [],
   "source": [
    "columns_mod=['link_href_0 + script_src_.js',\n",
    " 'form_action_out_of_domain + script_src_.js',\n",
    " 'div_count + meta_count',\n",
    " 'center_count + script_src_.js',\n",
    " 'script_type_text/javascript + title_count',\n",
    " 'script_src_.js / title_count',\n",
    " 'script_src_.js / link_href_.css',\n",
    " 'script_src_.js + script_src_out_of_domain',\n",
    " 'script_src_.js',\n",
    " 'script_async_true + script_src_out_of_domain',\n",
    " 'script_async_true + script_src_.js',\n",
    " 'link_type_text/css + script_src_.js',\n",
    " 'link_type_application/rss+xml + script_src_.js',\n",
    " 'link_type_application/rsd+xml + script_src_.js',\n",
    " 'link_rel_shortlink + script_src_.js',\n",
    " 'link_href_out_of_domain + script_type_text/javascript',\n",
    " 'link_href_out_of_domain + script_async_true',\n",
    " 'link_href_.css + script_src_.js',\n",
    " 'img_src_.jpg + script_src_.js',\n",
    " 'img_src_.jpg + script_async_true',\n",
    " 'img_src_.jpg + link_href_out_of_domain',\n",
    " 'iframe_src_https + script_src_out_of_domain',\n",
    " 'iframe_src_https + script_src_.js',\n",
    " 'form_action_out_of_domain + script_src_out_of_domain',\n",
    " 'form_action_http + script_src_.js',\n",
    " 'div_count + script_src_.js',\n",
    " 'div_count + p_count',\n",
    " 'div_count + li_count',\n",
    " 'br_count + div_count',\n",
    " 'a_href_https + div_count',\n",
    " 'a_href_http + div_count']"
   ]
  },
  {
   "cell_type": "code",
   "execution_count": 41,
   "metadata": {},
   "outputs": [
    {
     "name": "stdout",
     "output_type": "stream",
     "text": [
      "The train/test split ratio is 80:20\n"
     ]
    },
    {
     "data": {
      "text/plain": [
       "(43491, 31)"
      ]
     },
     "execution_count": 41,
     "metadata": {},
     "output_type": "execute_result"
    }
   ],
   "source": [
    "X=fs[columns_mod]\n",
    "X.fillna(value=0,inplace=True)\n",
    "y=fs.Target.values\n",
    "feature_name = X.columns.tolist()\n",
    "\n",
    "scaler=StandardScaler()\n",
    "scaled_X=scaler.fit_transform(X)\n",
    "\n",
    "print(\"The train/test split ratio is 80:20\")\n",
    "X_train, X_test, Y_train, Y_test = train_test_split(scaled_X,y,random_state=0,test_size=0.2)\n",
    "\n",
    "X.shape"
   ]
  },
  {
   "cell_type": "code",
   "execution_count": 42,
   "metadata": {},
   "outputs": [
    {
     "name": "stdout",
     "output_type": "stream",
     "text": [
      "Features we will be using:\n",
      "\n"
     ]
    },
    {
     "data": {
      "text/plain": [
       "['link_href_0 + script_src_.js',\n",
       " 'form_action_out_of_domain + script_src_.js',\n",
       " 'div_count + meta_count',\n",
       " 'center_count + script_src_.js',\n",
       " 'script_type_text/javascript + title_count',\n",
       " 'script_src_.js / title_count',\n",
       " 'script_src_.js / link_href_.css',\n",
       " 'script_src_.js + script_src_out_of_domain',\n",
       " 'script_src_.js',\n",
       " 'script_async_true + script_src_out_of_domain',\n",
       " 'script_async_true + script_src_.js',\n",
       " 'link_type_text/css + script_src_.js',\n",
       " 'link_type_application/rss+xml + script_src_.js',\n",
       " 'link_type_application/rsd+xml + script_src_.js',\n",
       " 'link_rel_shortlink + script_src_.js',\n",
       " 'link_href_out_of_domain + script_type_text/javascript',\n",
       " 'link_href_out_of_domain + script_async_true',\n",
       " 'link_href_.css + script_src_.js',\n",
       " 'img_src_.jpg + script_src_.js',\n",
       " 'img_src_.jpg + script_async_true',\n",
       " 'img_src_.jpg + link_href_out_of_domain',\n",
       " 'iframe_src_https + script_src_out_of_domain',\n",
       " 'iframe_src_https + script_src_.js',\n",
       " 'form_action_out_of_domain + script_src_out_of_domain',\n",
       " 'form_action_http + script_src_.js',\n",
       " 'div_count + script_src_.js',\n",
       " 'div_count + p_count',\n",
       " 'div_count + li_count',\n",
       " 'br_count + div_count',\n",
       " 'a_href_https + div_count',\n",
       " 'a_href_http + div_count']"
      ]
     },
     "metadata": {},
     "output_type": "display_data"
    }
   ],
   "source": [
    "print('Features we will be using:\\n')\n",
    "display(feature_name)"
   ]
  },
  {
   "cell_type": "code",
   "execution_count": 43,
   "metadata": {},
   "outputs": [],
   "source": [
    "fs=fs.reindex(df_sel.index.values)\n",
    "\n",
    "train=fs.iloc[:30444]\n",
    "train_Y=train.Target.values\n",
    "train_X=train[feature_name].values\n",
    "\n",
    "\n",
    "scaler=StandardScaler()\n",
    "scaled_X_train=scaler.fit_transform(train_X)\n",
    "\n",
    "test=fs.iloc[30444:]\n",
    "test_Y=test.Target.values\n",
    "test_X=test[feature_name]\n",
    "\n",
    "scaled_X_test=scaler.transform(test_X)"
   ]
  },
  {
   "cell_type": "code",
   "execution_count": 44,
   "metadata": {
    "scrolled": false
   },
   "outputs": [
    {
     "name": "stdout",
     "output_type": "stream",
     "text": [
      "\u001b[1mK-Nearest Neighbors\u001b[0m\n",
      "Accuracy of the model for training data is: 0.9054986204178164\n",
      "Confusion Matrix for training data is:\n"
     ]
    },
    {
     "data": {
      "text/plain": [
       "Predicted  False  True  __all__\n",
       "Actual                         \n",
       "False      23578  2438    26016\n",
       "True         439  3989     4428\n",
       "__all__    24017  6427    30444"
      ]
     },
     "metadata": {},
     "output_type": "display_data"
    },
    {
     "name": "stdout",
     "output_type": "stream",
     "text": [
      "Accuracy of the model for test data is: 0.9038093048210316\n",
      "Confusion Matrix for test data is:\n"
     ]
    },
    {
     "data": {
      "text/plain": [
       "Predicted  False  True  __all__\n",
       "Actual                         \n",
       "False      10041  1057    11098\n",
       "True         198  1751     1949\n",
       "__all__    10239  2808    13047"
      ]
     },
     "metadata": {},
     "output_type": "display_data"
    },
    {
     "name": "stdout",
     "output_type": "stream",
     "text": [
      "\n",
      "\n",
      "\u001b[1mLogistic Regression\u001b[0m\n",
      "Accuracy of the model for training data is: 0.8891407173827355\n",
      "Confusion Matrix for training data is:\n"
     ]
    },
    {
     "data": {
      "text/plain": [
       "Predicted  False  True  __all__\n",
       "Actual                         \n",
       "False      23676  2340    26016\n",
       "True        1035  3393     4428\n",
       "__all__    24711  5733    30444"
      ]
     },
     "metadata": {},
     "output_type": "display_data"
    },
    {
     "name": "stdout",
     "output_type": "stream",
     "text": [
      "Accuracy of the model for test data is: 0.8879435885644209\n",
      "Confusion Matrix for test data is:\n"
     ]
    },
    {
     "data": {
      "text/plain": [
       "Predicted  False  True  __all__\n",
       "Actual                         \n",
       "False      10096  1002    11098\n",
       "True         460  1489     1949\n",
       "__all__    10556  2491    13047"
      ]
     },
     "metadata": {},
     "output_type": "display_data"
    },
    {
     "name": "stdout",
     "output_type": "stream",
     "text": [
      "\n",
      "\n",
      "\u001b[1mRandomForest Classifier\u001b[0m\n",
      "Accuracy of the model for training data is: 0.916338194718171\n",
      "Confusion Matrix for training data is:\n"
     ]
    },
    {
     "data": {
      "text/plain": [
       "Predicted  False  True  __all__\n",
       "Actual                         \n",
       "False      23667  2349    26016\n",
       "True         198  4230     4428\n",
       "__all__    23865  6579    30444"
      ]
     },
     "metadata": {},
     "output_type": "display_data"
    },
    {
     "name": "stdout",
     "output_type": "stream",
     "text": [
      "Accuracy of the model for test data is: 0.907411665516977\n",
      "Confusion Matrix for test data is:\n"
     ]
    },
    {
     "data": {
      "text/plain": [
       "Predicted  False  True  __all__\n",
       "Actual                         \n",
       "False      10087  1011    11098\n",
       "True         197  1752     1949\n",
       "__all__    10284  2763    13047"
      ]
     },
     "metadata": {},
     "output_type": "display_data"
    },
    {
     "data": {
      "application/vnd.plotly.v1+json": {
       "config": {
        "linkText": "Export to plot.ly",
        "plotlyServerURL": "https://plot.ly",
        "showLink": true
       },
       "data": [
        {
         "marker": {
          "color": "rgb(158,202,225)",
          "line": {
           "color": "rgb(8,48,107)",
           "width": 1.5
          }
         },
         "opacity": 0.6,
         "orientation": "h",
         "text": [
          0.1802,
          0.1408,
          0.1289,
          0.0844,
          0.0715,
          0.0713,
          0.0366,
          0.0305,
          0.0276,
          0.0219,
          0.0185,
          0.0184,
          0.0183,
          0.0178,
          0.0154,
          0.0137,
          0.0133,
          0.0119,
          0.0103,
          0.0096,
          0.0078,
          0.0069,
          0.0066,
          0.0066,
          0.0063,
          0.0057,
          0.0056,
          0.0043,
          0.0035,
          0.0035,
          0.0021
         ],
         "textposition": "outside",
         "type": "bar",
         "uid": "62077b7d-c602-4a82-aafe-1f4c8c3dbcb2",
         "x": [
          0.1802365506801929,
          0.14080645591528457,
          0.1289270524805482,
          0.08444823225927618,
          0.07147145418525762,
          0.07130632161894357,
          0.036580708518562814,
          0.03053219021856687,
          0.027610743341180286,
          0.021868652232168034,
          0.018533322475607444,
          0.018422538067973906,
          0.0183150766552571,
          0.017832978448104313,
          0.015410551195641999,
          0.013682746116620119,
          0.013340483368739086,
          0.011924503142135159,
          0.01025597300018185,
          0.00964998012050337,
          0.007777068383813045,
          0.006901966230907005,
          0.006561763690207014,
          0.006556618001776041,
          0.006332089834069999,
          0.00574337158700733,
          0.005647140204697777,
          0.004266424138023295,
          0.0035329644212163105,
          0.0034551108434951613,
          0.002068968624041788
         ],
         "y": [
          "script_src_.js + script_src_out_of_domain",
          "link_href_out_of_domain + script_async_true",
          "script_async_true + script_src_out_of_domain",
          "br_count + div_count",
          "script_async_true + script_src_.js",
          "img_src_.jpg + script_async_true",
          "div_count + p_count",
          "script_type_text/javascript + title_count",
          "div_count + meta_count",
          "center_count + script_src_.js",
          "div_count + li_count",
          "div_count + script_src_.js",
          "a_href_http + div_count",
          "a_href_https + div_count",
          "img_src_.jpg + link_href_out_of_domain",
          "link_href_out_of_domain + script_type_text/javascript",
          "link_href_.css + script_src_.js",
          "link_type_text/css + script_src_.js",
          "form_action_http + script_src_.js",
          "img_src_.jpg + script_src_.js",
          "form_action_out_of_domain + script_src_out_of_domain",
          "script_src_.js / link_href_.css",
          "link_href_0 + script_src_.js",
          "iframe_src_https + script_src_.js",
          "link_type_application/rss+xml + script_src_.js",
          "link_rel_shortlink + script_src_.js",
          "iframe_src_https + script_src_out_of_domain",
          "form_action_out_of_domain + script_src_.js",
          "script_src_.js / title_count",
          "link_type_application/rsd+xml + script_src_.js",
          "script_src_.js"
         ]
        }
       ],
       "layout": {
        "autosize": false,
        "height": 1000,
        "width": 1000,
        "xaxis": {
         "tickfont": {
          "color": "black",
          "size": 12
         },
         "title": "Feature Importances"
        },
        "yaxis": {
         "automargin": true
        }
       }
      },
      "text/html": [
       "<div id=\"95befd63-8db3-45f1-a00b-06555a30e75e\" style=\"height: 1000px; width: 1000px;\" class=\"plotly-graph-div\"></div><script type=\"text/javascript\">require([\"plotly\"], function(Plotly) { window.PLOTLYENV=window.PLOTLYENV || {};window.PLOTLYENV.BASE_URL=\"https://plot.ly\";Plotly.newPlot(\"95befd63-8db3-45f1-a00b-06555a30e75e\", [{\"marker\": {\"color\": \"rgb(158,202,225)\", \"line\": {\"color\": \"rgb(8,48,107)\", \"width\": 1.5}}, \"opacity\": 0.6, \"orientation\": \"h\", \"text\": [0.1802, 0.1408, 0.1289, 0.0844, 0.0715, 0.0713, 0.0366, 0.0305, 0.0276, 0.0219, 0.0185, 0.0184, 0.0183, 0.0178, 0.0154, 0.0137, 0.0133, 0.0119, 0.0103, 0.0096, 0.0078, 0.0069, 0.0066, 0.0066, 0.0063, 0.0057, 0.0056, 0.0043, 0.0035, 0.0035, 0.0021], \"textposition\": \"outside\", \"x\": [0.1802365506801929, 0.14080645591528457, 0.1289270524805482, 0.08444823225927618, 0.07147145418525762, 0.07130632161894357, 0.036580708518562814, 0.03053219021856687, 0.027610743341180286, 0.021868652232168034, 0.018533322475607444, 0.018422538067973906, 0.0183150766552571, 0.017832978448104313, 0.015410551195641999, 0.013682746116620119, 0.013340483368739086, 0.011924503142135159, 0.01025597300018185, 0.00964998012050337, 0.007777068383813045, 0.006901966230907005, 0.006561763690207014, 0.006556618001776041, 0.006332089834069999, 0.00574337158700733, 0.005647140204697777, 0.004266424138023295, 0.0035329644212163105, 0.0034551108434951613, 0.002068968624041788], \"y\": [\"script_src_.js + script_src_out_of_domain\", \"link_href_out_of_domain + script_async_true\", \"script_async_true + script_src_out_of_domain\", \"br_count + div_count\", \"script_async_true + script_src_.js\", \"img_src_.jpg + script_async_true\", \"div_count + p_count\", \"script_type_text/javascript + title_count\", \"div_count + meta_count\", \"center_count + script_src_.js\", \"div_count + li_count\", \"div_count + script_src_.js\", \"a_href_http + div_count\", \"a_href_https + div_count\", \"img_src_.jpg + link_href_out_of_domain\", \"link_href_out_of_domain + script_type_text/javascript\", \"link_href_.css + script_src_.js\", \"link_type_text/css + script_src_.js\", \"form_action_http + script_src_.js\", \"img_src_.jpg + script_src_.js\", \"form_action_out_of_domain + script_src_out_of_domain\", \"script_src_.js / link_href_.css\", \"link_href_0 + script_src_.js\", \"iframe_src_https + script_src_.js\", \"link_type_application/rss+xml + script_src_.js\", \"link_rel_shortlink + script_src_.js\", \"iframe_src_https + script_src_out_of_domain\", \"form_action_out_of_domain + script_src_.js\", \"script_src_.js / title_count\", \"link_type_application/rsd+xml + script_src_.js\", \"script_src_.js\"], \"type\": \"bar\", \"uid\": \"62077b7d-c602-4a82-aafe-1f4c8c3dbcb2\"}], {\"autosize\": false, \"height\": 1000, \"width\": 1000, \"xaxis\": {\"tickfont\": {\"color\": \"black\", \"size\": 12}, \"title\": \"Feature Importances\"}, \"yaxis\": {\"automargin\": true}}, {\"showLink\": true, \"linkText\": \"Export to plot.ly\", \"plotlyServerURL\": \"https://plot.ly\"})});</script>"
      ],
      "text/vnd.plotly.v1+html": [
       "<div id=\"95befd63-8db3-45f1-a00b-06555a30e75e\" style=\"height: 1000px; width: 1000px;\" class=\"plotly-graph-div\"></div><script type=\"text/javascript\">require([\"plotly\"], function(Plotly) { window.PLOTLYENV=window.PLOTLYENV || {};window.PLOTLYENV.BASE_URL=\"https://plot.ly\";Plotly.newPlot(\"95befd63-8db3-45f1-a00b-06555a30e75e\", [{\"marker\": {\"color\": \"rgb(158,202,225)\", \"line\": {\"color\": \"rgb(8,48,107)\", \"width\": 1.5}}, \"opacity\": 0.6, \"orientation\": \"h\", \"text\": [0.1802, 0.1408, 0.1289, 0.0844, 0.0715, 0.0713, 0.0366, 0.0305, 0.0276, 0.0219, 0.0185, 0.0184, 0.0183, 0.0178, 0.0154, 0.0137, 0.0133, 0.0119, 0.0103, 0.0096, 0.0078, 0.0069, 0.0066, 0.0066, 0.0063, 0.0057, 0.0056, 0.0043, 0.0035, 0.0035, 0.0021], \"textposition\": \"outside\", \"x\": [0.1802365506801929, 0.14080645591528457, 0.1289270524805482, 0.08444823225927618, 0.07147145418525762, 0.07130632161894357, 0.036580708518562814, 0.03053219021856687, 0.027610743341180286, 0.021868652232168034, 0.018533322475607444, 0.018422538067973906, 0.0183150766552571, 0.017832978448104313, 0.015410551195641999, 0.013682746116620119, 0.013340483368739086, 0.011924503142135159, 0.01025597300018185, 0.00964998012050337, 0.007777068383813045, 0.006901966230907005, 0.006561763690207014, 0.006556618001776041, 0.006332089834069999, 0.00574337158700733, 0.005647140204697777, 0.004266424138023295, 0.0035329644212163105, 0.0034551108434951613, 0.002068968624041788], \"y\": [\"script_src_.js + script_src_out_of_domain\", \"link_href_out_of_domain + script_async_true\", \"script_async_true + script_src_out_of_domain\", \"br_count + div_count\", \"script_async_true + script_src_.js\", \"img_src_.jpg + script_async_true\", \"div_count + p_count\", \"script_type_text/javascript + title_count\", \"div_count + meta_count\", \"center_count + script_src_.js\", \"div_count + li_count\", \"div_count + script_src_.js\", \"a_href_http + div_count\", \"a_href_https + div_count\", \"img_src_.jpg + link_href_out_of_domain\", \"link_href_out_of_domain + script_type_text/javascript\", \"link_href_.css + script_src_.js\", \"link_type_text/css + script_src_.js\", \"form_action_http + script_src_.js\", \"img_src_.jpg + script_src_.js\", \"form_action_out_of_domain + script_src_out_of_domain\", \"script_src_.js / link_href_.css\", \"link_href_0 + script_src_.js\", \"iframe_src_https + script_src_.js\", \"link_type_application/rss+xml + script_src_.js\", \"link_rel_shortlink + script_src_.js\", \"iframe_src_https + script_src_out_of_domain\", \"form_action_out_of_domain + script_src_.js\", \"script_src_.js / title_count\", \"link_type_application/rsd+xml + script_src_.js\", \"script_src_.js\"], \"type\": \"bar\", \"uid\": \"62077b7d-c602-4a82-aafe-1f4c8c3dbcb2\"}], {\"autosize\": false, \"height\": 1000, \"width\": 1000, \"xaxis\": {\"tickfont\": {\"color\": \"black\", \"size\": 12}, \"title\": \"Feature Importances\"}, \"yaxis\": {\"automargin\": true}}, {\"showLink\": true, \"linkText\": \"Export to plot.ly\", \"plotlyServerURL\": \"https://plot.ly\"})});</script>"
      ]
     },
     "metadata": {},
     "output_type": "display_data"
    },
    {
     "name": "stdout",
     "output_type": "stream",
     "text": [
      "\n",
      "\n",
      "\u001b[1mAdaoost Classifier\u001b[0m\n",
      "Accuracy of the model for training data is: 0.8946590461174616\n",
      "Confusion Matrix for training data is:\n"
     ]
    },
    {
     "data": {
      "text/plain": [
       "Predicted  False  True  __all__\n",
       "Actual                         \n",
       "False      23588  2428    26016\n",
       "True         779  3649     4428\n",
       "__all__    24367  6077    30444"
      ]
     },
     "metadata": {},
     "output_type": "display_data"
    },
    {
     "name": "stdout",
     "output_type": "stream",
     "text": [
      "Accuracy of the model for test data is: 0.8956081857898367\n",
      "Confusion Matrix for test data is:\n"
     ]
    },
    {
     "data": {
      "text/plain": [
       "Predicted  False  True  __all__\n",
       "Actual                         \n",
       "False      10072  1026    11098\n",
       "True         336  1613     1949\n",
       "__all__    10408  2639    13047"
      ]
     },
     "metadata": {},
     "output_type": "display_data"
    },
    {
     "data": {
      "application/vnd.plotly.v1+json": {
       "config": {
        "linkText": "Export to plot.ly",
        "plotlyServerURL": "https://plot.ly",
        "showLink": true
       },
       "data": [
        {
         "marker": {
          "color": "rgb(158,202,225)",
          "line": {
           "color": "rgb(8,48,107)",
           "width": 1.5
          }
         },
         "opacity": 0.6,
         "orientation": "h",
         "text": [
          0.16,
          0.16,
          0.16,
          0.12,
          0.08,
          0.06,
          0.06,
          0.04,
          0.04,
          0.02,
          0.02,
          0.02,
          0.02,
          0.02,
          0.02,
          0,
          0,
          0,
          0,
          0,
          0,
          0,
          0,
          0,
          0,
          0,
          0,
          0,
          0,
          0,
          0
         ],
         "textposition": "outside",
         "type": "bar",
         "uid": "34ecddd9-0abf-415c-943b-ba68664758e9",
         "x": [
          0.16,
          0.16,
          0.16,
          0.12,
          0.08,
          0.06,
          0.06,
          0.04,
          0.04,
          0.02,
          0.02,
          0.02,
          0.02,
          0.02,
          0.02,
          0,
          0,
          0,
          0,
          0,
          0,
          0,
          0,
          0,
          0,
          0,
          0,
          0,
          0,
          0,
          0
         ],
         "y": [
          "a_href_https + div_count",
          "link_href_out_of_domain + script_async_true",
          "script_type_text/javascript + title_count",
          "div_count + p_count",
          "link_type_text/css + script_src_.js",
          "img_src_.jpg + script_async_true",
          "form_action_out_of_domain + script_src_out_of_domain",
          "img_src_.jpg + link_href_out_of_domain",
          "script_src_.js / link_href_.css",
          "div_count + li_count",
          "script_async_true + script_src_.js",
          "div_count + script_src_.js",
          "script_src_.js / title_count",
          "center_count + script_src_.js",
          "link_href_out_of_domain + script_type_text/javascript",
          "br_count + div_count",
          "form_action_http + script_src_.js",
          "iframe_src_https + script_src_.js",
          "iframe_src_https + script_src_out_of_domain",
          "link_href_0 + script_src_.js",
          "img_src_.jpg + script_src_.js",
          "link_href_.css + script_src_.js",
          "form_action_out_of_domain + script_src_.js",
          "link_rel_shortlink + script_src_.js",
          "link_type_application/rsd+xml + script_src_.js",
          "link_type_application/rss+xml + script_src_.js",
          "script_async_true + script_src_out_of_domain",
          "script_src_.js",
          "script_src_.js + script_src_out_of_domain",
          "div_count + meta_count",
          "a_href_http + div_count"
         ]
        }
       ],
       "layout": {
        "autosize": false,
        "height": 1000,
        "width": 1000,
        "xaxis": {
         "tickfont": {
          "color": "black",
          "size": 12
         },
         "title": "Feature Importances"
        },
        "yaxis": {
         "automargin": true
        }
       }
      },
      "text/html": [
       "<div id=\"b67d970e-f0a7-418d-b69e-2d00dd1c1c30\" style=\"height: 1000px; width: 1000px;\" class=\"plotly-graph-div\"></div><script type=\"text/javascript\">require([\"plotly\"], function(Plotly) { window.PLOTLYENV=window.PLOTLYENV || {};window.PLOTLYENV.BASE_URL=\"https://plot.ly\";Plotly.newPlot(\"b67d970e-f0a7-418d-b69e-2d00dd1c1c30\", [{\"marker\": {\"color\": \"rgb(158,202,225)\", \"line\": {\"color\": \"rgb(8,48,107)\", \"width\": 1.5}}, \"opacity\": 0.6, \"orientation\": \"h\", \"text\": [0.16, 0.16, 0.16, 0.12, 0.08, 0.06, 0.06, 0.04, 0.04, 0.02, 0.02, 0.02, 0.02, 0.02, 0.02, 0.0, 0.0, 0.0, 0.0, 0.0, 0.0, 0.0, 0.0, 0.0, 0.0, 0.0, 0.0, 0.0, 0.0, 0.0, 0.0], \"textposition\": \"outside\", \"x\": [0.16, 0.16, 0.16, 0.12, 0.08, 0.06, 0.06, 0.04, 0.04, 0.02, 0.02, 0.02, 0.02, 0.02, 0.02, 0.0, 0.0, 0.0, 0.0, 0.0, 0.0, 0.0, 0.0, 0.0, 0.0, 0.0, 0.0, 0.0, 0.0, 0.0, 0.0], \"y\": [\"a_href_https + div_count\", \"link_href_out_of_domain + script_async_true\", \"script_type_text/javascript + title_count\", \"div_count + p_count\", \"link_type_text/css + script_src_.js\", \"img_src_.jpg + script_async_true\", \"form_action_out_of_domain + script_src_out_of_domain\", \"img_src_.jpg + link_href_out_of_domain\", \"script_src_.js / link_href_.css\", \"div_count + li_count\", \"script_async_true + script_src_.js\", \"div_count + script_src_.js\", \"script_src_.js / title_count\", \"center_count + script_src_.js\", \"link_href_out_of_domain + script_type_text/javascript\", \"br_count + div_count\", \"form_action_http + script_src_.js\", \"iframe_src_https + script_src_.js\", \"iframe_src_https + script_src_out_of_domain\", \"link_href_0 + script_src_.js\", \"img_src_.jpg + script_src_.js\", \"link_href_.css + script_src_.js\", \"form_action_out_of_domain + script_src_.js\", \"link_rel_shortlink + script_src_.js\", \"link_type_application/rsd+xml + script_src_.js\", \"link_type_application/rss+xml + script_src_.js\", \"script_async_true + script_src_out_of_domain\", \"script_src_.js\", \"script_src_.js + script_src_out_of_domain\", \"div_count + meta_count\", \"a_href_http + div_count\"], \"type\": \"bar\", \"uid\": \"34ecddd9-0abf-415c-943b-ba68664758e9\"}], {\"autosize\": false, \"height\": 1000, \"width\": 1000, \"xaxis\": {\"tickfont\": {\"color\": \"black\", \"size\": 12}, \"title\": \"Feature Importances\"}, \"yaxis\": {\"automargin\": true}}, {\"showLink\": true, \"linkText\": \"Export to plot.ly\", \"plotlyServerURL\": \"https://plot.ly\"})});</script>"
      ],
      "text/vnd.plotly.v1+html": [
       "<div id=\"b67d970e-f0a7-418d-b69e-2d00dd1c1c30\" style=\"height: 1000px; width: 1000px;\" class=\"plotly-graph-div\"></div><script type=\"text/javascript\">require([\"plotly\"], function(Plotly) { window.PLOTLYENV=window.PLOTLYENV || {};window.PLOTLYENV.BASE_URL=\"https://plot.ly\";Plotly.newPlot(\"b67d970e-f0a7-418d-b69e-2d00dd1c1c30\", [{\"marker\": {\"color\": \"rgb(158,202,225)\", \"line\": {\"color\": \"rgb(8,48,107)\", \"width\": 1.5}}, \"opacity\": 0.6, \"orientation\": \"h\", \"text\": [0.16, 0.16, 0.16, 0.12, 0.08, 0.06, 0.06, 0.04, 0.04, 0.02, 0.02, 0.02, 0.02, 0.02, 0.02, 0.0, 0.0, 0.0, 0.0, 0.0, 0.0, 0.0, 0.0, 0.0, 0.0, 0.0, 0.0, 0.0, 0.0, 0.0, 0.0], \"textposition\": \"outside\", \"x\": [0.16, 0.16, 0.16, 0.12, 0.08, 0.06, 0.06, 0.04, 0.04, 0.02, 0.02, 0.02, 0.02, 0.02, 0.02, 0.0, 0.0, 0.0, 0.0, 0.0, 0.0, 0.0, 0.0, 0.0, 0.0, 0.0, 0.0, 0.0, 0.0, 0.0, 0.0], \"y\": [\"a_href_https + div_count\", \"link_href_out_of_domain + script_async_true\", \"script_type_text/javascript + title_count\", \"div_count + p_count\", \"link_type_text/css + script_src_.js\", \"img_src_.jpg + script_async_true\", \"form_action_out_of_domain + script_src_out_of_domain\", \"img_src_.jpg + link_href_out_of_domain\", \"script_src_.js / link_href_.css\", \"div_count + li_count\", \"script_async_true + script_src_.js\", \"div_count + script_src_.js\", \"script_src_.js / title_count\", \"center_count + script_src_.js\", \"link_href_out_of_domain + script_type_text/javascript\", \"br_count + div_count\", \"form_action_http + script_src_.js\", \"iframe_src_https + script_src_.js\", \"iframe_src_https + script_src_out_of_domain\", \"link_href_0 + script_src_.js\", \"img_src_.jpg + script_src_.js\", \"link_href_.css + script_src_.js\", \"form_action_out_of_domain + script_src_.js\", \"link_rel_shortlink + script_src_.js\", \"link_type_application/rsd+xml + script_src_.js\", \"link_type_application/rss+xml + script_src_.js\", \"script_async_true + script_src_out_of_domain\", \"script_src_.js\", \"script_src_.js + script_src_out_of_domain\", \"div_count + meta_count\", \"a_href_http + div_count\"], \"type\": \"bar\", \"uid\": \"34ecddd9-0abf-415c-943b-ba68664758e9\"}], {\"autosize\": false, \"height\": 1000, \"width\": 1000, \"xaxis\": {\"tickfont\": {\"color\": \"black\", \"size\": 12}, \"title\": \"Feature Importances\"}, \"yaxis\": {\"automargin\": true}}, {\"showLink\": true, \"linkText\": \"Export to plot.ly\", \"plotlyServerURL\": \"https://plot.ly\"})});</script>"
      ]
     },
     "metadata": {},
     "output_type": "display_data"
    },
    {
     "name": "stdout",
     "output_type": "stream",
     "text": [
      "\n",
      "\n",
      "\u001b[1mGradientBoosting Classifier\u001b[0m\n",
      "Accuracy of the model for training data is: 0.9019511233740638\n",
      "Confusion Matrix for training data is:\n"
     ]
    },
    {
     "data": {
      "text/plain": [
       "Predicted  False  True  __all__\n",
       "Actual                         \n",
       "False      23664  2352    26016\n",
       "True         633  3795     4428\n",
       "__all__    24297  6147    30444"
      ]
     },
     "metadata": {},
     "output_type": "display_data"
    },
    {
     "name": "stdout",
     "output_type": "stream",
     "text": [
      "Accuracy of the model for test data is: 0.9011266957921361\n",
      "Confusion Matrix for test data is:\n"
     ]
    },
    {
     "data": {
      "text/plain": [
       "Predicted  False  True  __all__\n",
       "Actual                         \n",
       "False      10089  1009    11098\n",
       "True         281  1668     1949\n",
       "__all__    10370  2677    13047"
      ]
     },
     "metadata": {},
     "output_type": "display_data"
    },
    {
     "data": {
      "application/vnd.plotly.v1+json": {
       "config": {
        "linkText": "Export to plot.ly",
        "plotlyServerURL": "https://plot.ly",
        "showLink": true
       },
       "data": [
        {
         "marker": {
          "color": "rgb(158,202,225)",
          "line": {
           "color": "rgb(8,48,107)",
           "width": 1.5
          }
         },
         "opacity": 0.6,
         "orientation": "h",
         "text": [
          0.7164,
          0.0978,
          0.0375,
          0.0304,
          0.0171,
          0.0165,
          0.0141,
          0.0112,
          0.009,
          0.0084,
          0.0078,
          0.0052,
          0.0038,
          0.0035,
          0.0035,
          0.0025,
          0.0024,
          0.0023,
          0.0017,
          0.0013,
          0.0012,
          0.0012,
          0.0009,
          0.0009,
          0.0007,
          0.0007,
          0.0007,
          0.0007,
          0.0003,
          0.0003,
          0.0001
         ],
         "textposition": "outside",
         "type": "bar",
         "uid": "e3adc4fd-4f4a-4582-b76c-be40fc7d05b9",
         "x": [
          0.7164275102047911,
          0.09780370983749806,
          0.037453607620729815,
          0.03037424774996241,
          0.017136313378848328,
          0.01648018656973768,
          0.014055697791552895,
          0.011199414115683502,
          0.008990730722541045,
          0.008409228608475134,
          0.007802619978314861,
          0.005194769969121516,
          0.0037943873397720254,
          0.003514660579289289,
          0.003451118915934226,
          0.0025399085826833885,
          0.0024003394943062613,
          0.002272151887480421,
          0.0016611474900716519,
          0.0013408286588341646,
          0.0012284641175517865,
          0.0011752632993291359,
          0.0008853341559281421,
          0.000852699284677787,
          0.0007295725381058736,
          0.0007099104987437711,
          0.0007016986929743712,
          0.0006756765965823162,
          0.0003097157993289821,
          0.00030878294669637083,
          0.0001203025744536176
         ],
         "y": [
          "link_href_out_of_domain + script_async_true",
          "script_type_text/javascript + title_count",
          "div_count + p_count",
          "a_href_https + div_count",
          "script_async_true + script_src_.js",
          "img_src_.jpg + link_href_out_of_domain",
          "center_count + script_src_.js",
          "form_action_out_of_domain + script_src_out_of_domain",
          "link_type_text/css + script_src_.js",
          "a_href_http + div_count",
          "link_href_.css + script_src_.js",
          "br_count + div_count",
          "div_count + meta_count",
          "div_count + li_count",
          "link_href_out_of_domain + script_type_text/javascript",
          "form_action_out_of_domain + script_src_.js",
          "script_src_.js / link_href_.css",
          "img_src_.jpg + script_async_true",
          "div_count + script_src_.js",
          "form_action_http + script_src_.js",
          "script_src_.js + script_src_out_of_domain",
          "iframe_src_https + script_src_out_of_domain",
          "link_type_application/rss+xml + script_src_.js",
          "link_type_application/rsd+xml + script_src_.js",
          "script_src_.js / title_count",
          "link_rel_shortlink + script_src_.js",
          "iframe_src_https + script_src_.js",
          "script_async_true + script_src_out_of_domain",
          "img_src_.jpg + script_src_.js",
          "script_src_.js",
          "link_href_0 + script_src_.js"
         ]
        }
       ],
       "layout": {
        "autosize": false,
        "height": 1000,
        "width": 1000,
        "xaxis": {
         "tickfont": {
          "color": "black",
          "size": 12
         },
         "title": "Feature Importances"
        },
        "yaxis": {
         "automargin": true
        }
       }
      },
      "text/html": [
       "<div id=\"bafb4b29-7a45-40c1-b774-d8a3a1b99e10\" style=\"height: 1000px; width: 1000px;\" class=\"plotly-graph-div\"></div><script type=\"text/javascript\">require([\"plotly\"], function(Plotly) { window.PLOTLYENV=window.PLOTLYENV || {};window.PLOTLYENV.BASE_URL=\"https://plot.ly\";Plotly.newPlot(\"bafb4b29-7a45-40c1-b774-d8a3a1b99e10\", [{\"marker\": {\"color\": \"rgb(158,202,225)\", \"line\": {\"color\": \"rgb(8,48,107)\", \"width\": 1.5}}, \"opacity\": 0.6, \"orientation\": \"h\", \"text\": [0.7164, 0.0978, 0.0375, 0.0304, 0.0171, 0.0165, 0.0141, 0.0112, 0.009, 0.0084, 0.0078, 0.0052, 0.0038, 0.0035, 0.0035, 0.0025, 0.0024, 0.0023, 0.0017, 0.0013, 0.0012, 0.0012, 0.0009, 0.0009, 0.0007, 0.0007, 0.0007, 0.0007, 0.0003, 0.0003, 0.0001], \"textposition\": \"outside\", \"x\": [0.7164275102047911, 0.09780370983749806, 0.037453607620729815, 0.03037424774996241, 0.017136313378848328, 0.01648018656973768, 0.014055697791552895, 0.011199414115683502, 0.008990730722541045, 0.008409228608475134, 0.007802619978314861, 0.005194769969121516, 0.0037943873397720254, 0.003514660579289289, 0.003451118915934226, 0.0025399085826833885, 0.0024003394943062613, 0.002272151887480421, 0.0016611474900716519, 0.0013408286588341646, 0.0012284641175517865, 0.0011752632993291359, 0.0008853341559281421, 0.000852699284677787, 0.0007295725381058736, 0.0007099104987437711, 0.0007016986929743712, 0.0006756765965823162, 0.0003097157993289821, 0.00030878294669637083, 0.0001203025744536176], \"y\": [\"link_href_out_of_domain + script_async_true\", \"script_type_text/javascript + title_count\", \"div_count + p_count\", \"a_href_https + div_count\", \"script_async_true + script_src_.js\", \"img_src_.jpg + link_href_out_of_domain\", \"center_count + script_src_.js\", \"form_action_out_of_domain + script_src_out_of_domain\", \"link_type_text/css + script_src_.js\", \"a_href_http + div_count\", \"link_href_.css + script_src_.js\", \"br_count + div_count\", \"div_count + meta_count\", \"div_count + li_count\", \"link_href_out_of_domain + script_type_text/javascript\", \"form_action_out_of_domain + script_src_.js\", \"script_src_.js / link_href_.css\", \"img_src_.jpg + script_async_true\", \"div_count + script_src_.js\", \"form_action_http + script_src_.js\", \"script_src_.js + script_src_out_of_domain\", \"iframe_src_https + script_src_out_of_domain\", \"link_type_application/rss+xml + script_src_.js\", \"link_type_application/rsd+xml + script_src_.js\", \"script_src_.js / title_count\", \"link_rel_shortlink + script_src_.js\", \"iframe_src_https + script_src_.js\", \"script_async_true + script_src_out_of_domain\", \"img_src_.jpg + script_src_.js\", \"script_src_.js\", \"link_href_0 + script_src_.js\"], \"type\": \"bar\", \"uid\": \"e3adc4fd-4f4a-4582-b76c-be40fc7d05b9\"}], {\"autosize\": false, \"height\": 1000, \"width\": 1000, \"xaxis\": {\"tickfont\": {\"color\": \"black\", \"size\": 12}, \"title\": \"Feature Importances\"}, \"yaxis\": {\"automargin\": true}}, {\"showLink\": true, \"linkText\": \"Export to plot.ly\", \"plotlyServerURL\": \"https://plot.ly\"})});</script>"
      ],
      "text/vnd.plotly.v1+html": [
       "<div id=\"bafb4b29-7a45-40c1-b774-d8a3a1b99e10\" style=\"height: 1000px; width: 1000px;\" class=\"plotly-graph-div\"></div><script type=\"text/javascript\">require([\"plotly\"], function(Plotly) { window.PLOTLYENV=window.PLOTLYENV || {};window.PLOTLYENV.BASE_URL=\"https://plot.ly\";Plotly.newPlot(\"bafb4b29-7a45-40c1-b774-d8a3a1b99e10\", [{\"marker\": {\"color\": \"rgb(158,202,225)\", \"line\": {\"color\": \"rgb(8,48,107)\", \"width\": 1.5}}, \"opacity\": 0.6, \"orientation\": \"h\", \"text\": [0.7164, 0.0978, 0.0375, 0.0304, 0.0171, 0.0165, 0.0141, 0.0112, 0.009, 0.0084, 0.0078, 0.0052, 0.0038, 0.0035, 0.0035, 0.0025, 0.0024, 0.0023, 0.0017, 0.0013, 0.0012, 0.0012, 0.0009, 0.0009, 0.0007, 0.0007, 0.0007, 0.0007, 0.0003, 0.0003, 0.0001], \"textposition\": \"outside\", \"x\": [0.7164275102047911, 0.09780370983749806, 0.037453607620729815, 0.03037424774996241, 0.017136313378848328, 0.01648018656973768, 0.014055697791552895, 0.011199414115683502, 0.008990730722541045, 0.008409228608475134, 0.007802619978314861, 0.005194769969121516, 0.0037943873397720254, 0.003514660579289289, 0.003451118915934226, 0.0025399085826833885, 0.0024003394943062613, 0.002272151887480421, 0.0016611474900716519, 0.0013408286588341646, 0.0012284641175517865, 0.0011752632993291359, 0.0008853341559281421, 0.000852699284677787, 0.0007295725381058736, 0.0007099104987437711, 0.0007016986929743712, 0.0006756765965823162, 0.0003097157993289821, 0.00030878294669637083, 0.0001203025744536176], \"y\": [\"link_href_out_of_domain + script_async_true\", \"script_type_text/javascript + title_count\", \"div_count + p_count\", \"a_href_https + div_count\", \"script_async_true + script_src_.js\", \"img_src_.jpg + link_href_out_of_domain\", \"center_count + script_src_.js\", \"form_action_out_of_domain + script_src_out_of_domain\", \"link_type_text/css + script_src_.js\", \"a_href_http + div_count\", \"link_href_.css + script_src_.js\", \"br_count + div_count\", \"div_count + meta_count\", \"div_count + li_count\", \"link_href_out_of_domain + script_type_text/javascript\", \"form_action_out_of_domain + script_src_.js\", \"script_src_.js / link_href_.css\", \"img_src_.jpg + script_async_true\", \"div_count + script_src_.js\", \"form_action_http + script_src_.js\", \"script_src_.js + script_src_out_of_domain\", \"iframe_src_https + script_src_out_of_domain\", \"link_type_application/rss+xml + script_src_.js\", \"link_type_application/rsd+xml + script_src_.js\", \"script_src_.js / title_count\", \"link_rel_shortlink + script_src_.js\", \"iframe_src_https + script_src_.js\", \"script_async_true + script_src_out_of_domain\", \"img_src_.jpg + script_src_.js\", \"script_src_.js\", \"link_href_0 + script_src_.js\"], \"type\": \"bar\", \"uid\": \"e3adc4fd-4f4a-4582-b76c-be40fc7d05b9\"}], {\"autosize\": false, \"height\": 1000, \"width\": 1000, \"xaxis\": {\"tickfont\": {\"color\": \"black\", \"size\": 12}, \"title\": \"Feature Importances\"}, \"yaxis\": {\"automargin\": true}}, {\"showLink\": true, \"linkText\": \"Export to plot.ly\", \"plotlyServerURL\": \"https://plot.ly\"})});</script>"
      ]
     },
     "metadata": {},
     "output_type": "display_data"
    },
    {
     "name": "stdout",
     "output_type": "stream",
     "text": [
      "\n",
      "\n",
      "\u001b[1mExtraTree Classifier\u001b[0m\n",
      "Accuracy of the model for training data is: 0.9189659703061358\n",
      "Confusion Matrix for training data is:\n"
     ]
    },
    {
     "data": {
      "text/plain": [
       "Predicted  False  True  __all__\n",
       "Actual                         \n",
       "False      23670  2346    26016\n",
       "True         121  4307     4428\n",
       "__all__    23791  6653    30444"
      ]
     },
     "metadata": {},
     "output_type": "display_data"
    },
    {
     "name": "stdout",
     "output_type": "stream",
     "text": [
      "Accuracy of the model for test data is: 0.907335019544723\n",
      "Confusion Matrix for test data is:\n"
     ]
    },
    {
     "data": {
      "text/plain": [
       "Predicted  False  True  __all__\n",
       "Actual                         \n",
       "False      10079  1019    11098\n",
       "True         190  1759     1949\n",
       "__all__    10269  2778    13047"
      ]
     },
     "metadata": {},
     "output_type": "display_data"
    },
    {
     "data": {
      "application/vnd.plotly.v1+json": {
       "config": {
        "linkText": "Export to plot.ly",
        "plotlyServerURL": "https://plot.ly",
        "showLink": true
       },
       "data": [
        {
         "marker": {
          "color": "rgb(158,202,225)",
          "line": {
           "color": "rgb(8,48,107)",
           "width": 1.5
          }
         },
         "opacity": 0.6,
         "orientation": "h",
         "text": [
          0.1033,
          0.1005,
          0.0758,
          0.0679,
          0.0673,
          0.0432,
          0.0406,
          0.0362,
          0.0361,
          0.0342,
          0.032,
          0.0318,
          0.0286,
          0.0247,
          0.0237,
          0.0226,
          0.0215,
          0.0206,
          0.0197,
          0.019,
          0.0189,
          0.0174,
          0.0156,
          0.0144,
          0.0143,
          0.0141,
          0.014,
          0.0134,
          0.0115,
          0.0109,
          0.0057
         ],
         "textposition": "outside",
         "type": "bar",
         "uid": "3ed20b21-e003-4888-9741-9ff4f325d5f9",
         "x": [
          0.10328990115837233,
          0.10051227970051027,
          0.07577479184009081,
          0.0679257810393875,
          0.06726257873693474,
          0.043206929451916086,
          0.040644265227908004,
          0.036172186488979435,
          0.03612332076719899,
          0.03421902872579941,
          0.03201722853746377,
          0.03177473827942608,
          0.028649084714537466,
          0.024722129501702307,
          0.023743765787509096,
          0.0226427352109282,
          0.02147334797564609,
          0.02062323302835151,
          0.019737648711917168,
          0.019031857277987625,
          0.018947894884213286,
          0.017436336034347726,
          0.01564125411424015,
          0.014355834526362785,
          0.014336062304250946,
          0.014115237909666668,
          0.014043405424761507,
          0.013416338069410205,
          0.011496115224286441,
          0.010942164277417782,
          0.005722525068475623
         ],
         "y": [
          "link_rel_shortlink + script_src_.js",
          "script_src_.js + script_src_out_of_domain",
          "div_count + meta_count",
          "script_type_text/javascript + title_count",
          "link_type_application/rsd+xml + script_src_.js",
          "link_href_0 + script_src_.js",
          "script_src_.js",
          "script_src_.js / title_count",
          "br_count + div_count",
          "link_type_application/rss+xml + script_src_.js",
          "script_async_true + script_src_.js",
          "link_href_out_of_domain + script_type_text/javascript",
          "a_href_https + div_count",
          "div_count + p_count",
          "center_count + script_src_.js",
          "link_href_.css + script_src_.js",
          "form_action_out_of_domain + script_src_.js",
          "a_href_http + div_count",
          "img_src_.jpg + script_async_true",
          "iframe_src_https + script_src_out_of_domain",
          "form_action_http + script_src_.js",
          "script_src_.js / link_href_.css",
          "link_type_text/css + script_src_.js",
          "link_href_out_of_domain + script_async_true",
          "div_count + li_count",
          "script_async_true + script_src_out_of_domain",
          "div_count + script_src_.js",
          "img_src_.jpg + script_src_.js",
          "img_src_.jpg + link_href_out_of_domain",
          "form_action_out_of_domain + script_src_out_of_domain",
          "iframe_src_https + script_src_.js"
         ]
        }
       ],
       "layout": {
        "autosize": false,
        "height": 1000,
        "width": 1000,
        "xaxis": {
         "tickfont": {
          "color": "black",
          "size": 12
         },
         "title": "Feature Importances"
        },
        "yaxis": {
         "automargin": true
        }
       }
      },
      "text/html": [
       "<div id=\"1c215cf8-1aa8-4f1d-9fd0-d1b09948aacb\" style=\"height: 1000px; width: 1000px;\" class=\"plotly-graph-div\"></div><script type=\"text/javascript\">require([\"plotly\"], function(Plotly) { window.PLOTLYENV=window.PLOTLYENV || {};window.PLOTLYENV.BASE_URL=\"https://plot.ly\";Plotly.newPlot(\"1c215cf8-1aa8-4f1d-9fd0-d1b09948aacb\", [{\"marker\": {\"color\": \"rgb(158,202,225)\", \"line\": {\"color\": \"rgb(8,48,107)\", \"width\": 1.5}}, \"opacity\": 0.6, \"orientation\": \"h\", \"text\": [0.1033, 0.1005, 0.0758, 0.0679, 0.0673, 0.0432, 0.0406, 0.0362, 0.0361, 0.0342, 0.032, 0.0318, 0.0286, 0.0247, 0.0237, 0.0226, 0.0215, 0.0206, 0.0197, 0.019, 0.0189, 0.0174, 0.0156, 0.0144, 0.0143, 0.0141, 0.014, 0.0134, 0.0115, 0.0109, 0.0057], \"textposition\": \"outside\", \"x\": [0.10328990115837233, 0.10051227970051027, 0.07577479184009081, 0.0679257810393875, 0.06726257873693474, 0.043206929451916086, 0.040644265227908004, 0.036172186488979435, 0.03612332076719899, 0.03421902872579941, 0.03201722853746377, 0.03177473827942608, 0.028649084714537466, 0.024722129501702307, 0.023743765787509096, 0.0226427352109282, 0.02147334797564609, 0.02062323302835151, 0.019737648711917168, 0.019031857277987625, 0.018947894884213286, 0.017436336034347726, 0.01564125411424015, 0.014355834526362785, 0.014336062304250946, 0.014115237909666668, 0.014043405424761507, 0.013416338069410205, 0.011496115224286441, 0.010942164277417782, 0.005722525068475623], \"y\": [\"link_rel_shortlink + script_src_.js\", \"script_src_.js + script_src_out_of_domain\", \"div_count + meta_count\", \"script_type_text/javascript + title_count\", \"link_type_application/rsd+xml + script_src_.js\", \"link_href_0 + script_src_.js\", \"script_src_.js\", \"script_src_.js / title_count\", \"br_count + div_count\", \"link_type_application/rss+xml + script_src_.js\", \"script_async_true + script_src_.js\", \"link_href_out_of_domain + script_type_text/javascript\", \"a_href_https + div_count\", \"div_count + p_count\", \"center_count + script_src_.js\", \"link_href_.css + script_src_.js\", \"form_action_out_of_domain + script_src_.js\", \"a_href_http + div_count\", \"img_src_.jpg + script_async_true\", \"iframe_src_https + script_src_out_of_domain\", \"form_action_http + script_src_.js\", \"script_src_.js / link_href_.css\", \"link_type_text/css + script_src_.js\", \"link_href_out_of_domain + script_async_true\", \"div_count + li_count\", \"script_async_true + script_src_out_of_domain\", \"div_count + script_src_.js\", \"img_src_.jpg + script_src_.js\", \"img_src_.jpg + link_href_out_of_domain\", \"form_action_out_of_domain + script_src_out_of_domain\", \"iframe_src_https + script_src_.js\"], \"type\": \"bar\", \"uid\": \"3ed20b21-e003-4888-9741-9ff4f325d5f9\"}], {\"autosize\": false, \"height\": 1000, \"width\": 1000, \"xaxis\": {\"tickfont\": {\"color\": \"black\", \"size\": 12}, \"title\": \"Feature Importances\"}, \"yaxis\": {\"automargin\": true}}, {\"showLink\": true, \"linkText\": \"Export to plot.ly\", \"plotlyServerURL\": \"https://plot.ly\"})});</script>"
      ],
      "text/vnd.plotly.v1+html": [
       "<div id=\"1c215cf8-1aa8-4f1d-9fd0-d1b09948aacb\" style=\"height: 1000px; width: 1000px;\" class=\"plotly-graph-div\"></div><script type=\"text/javascript\">require([\"plotly\"], function(Plotly) { window.PLOTLYENV=window.PLOTLYENV || {};window.PLOTLYENV.BASE_URL=\"https://plot.ly\";Plotly.newPlot(\"1c215cf8-1aa8-4f1d-9fd0-d1b09948aacb\", [{\"marker\": {\"color\": \"rgb(158,202,225)\", \"line\": {\"color\": \"rgb(8,48,107)\", \"width\": 1.5}}, \"opacity\": 0.6, \"orientation\": \"h\", \"text\": [0.1033, 0.1005, 0.0758, 0.0679, 0.0673, 0.0432, 0.0406, 0.0362, 0.0361, 0.0342, 0.032, 0.0318, 0.0286, 0.0247, 0.0237, 0.0226, 0.0215, 0.0206, 0.0197, 0.019, 0.0189, 0.0174, 0.0156, 0.0144, 0.0143, 0.0141, 0.014, 0.0134, 0.0115, 0.0109, 0.0057], \"textposition\": \"outside\", \"x\": [0.10328990115837233, 0.10051227970051027, 0.07577479184009081, 0.0679257810393875, 0.06726257873693474, 0.043206929451916086, 0.040644265227908004, 0.036172186488979435, 0.03612332076719899, 0.03421902872579941, 0.03201722853746377, 0.03177473827942608, 0.028649084714537466, 0.024722129501702307, 0.023743765787509096, 0.0226427352109282, 0.02147334797564609, 0.02062323302835151, 0.019737648711917168, 0.019031857277987625, 0.018947894884213286, 0.017436336034347726, 0.01564125411424015, 0.014355834526362785, 0.014336062304250946, 0.014115237909666668, 0.014043405424761507, 0.013416338069410205, 0.011496115224286441, 0.010942164277417782, 0.005722525068475623], \"y\": [\"link_rel_shortlink + script_src_.js\", \"script_src_.js + script_src_out_of_domain\", \"div_count + meta_count\", \"script_type_text/javascript + title_count\", \"link_type_application/rsd+xml + script_src_.js\", \"link_href_0 + script_src_.js\", \"script_src_.js\", \"script_src_.js / title_count\", \"br_count + div_count\", \"link_type_application/rss+xml + script_src_.js\", \"script_async_true + script_src_.js\", \"link_href_out_of_domain + script_type_text/javascript\", \"a_href_https + div_count\", \"div_count + p_count\", \"center_count + script_src_.js\", \"link_href_.css + script_src_.js\", \"form_action_out_of_domain + script_src_.js\", \"a_href_http + div_count\", \"img_src_.jpg + script_async_true\", \"iframe_src_https + script_src_out_of_domain\", \"form_action_http + script_src_.js\", \"script_src_.js / link_href_.css\", \"link_type_text/css + script_src_.js\", \"link_href_out_of_domain + script_async_true\", \"div_count + li_count\", \"script_async_true + script_src_out_of_domain\", \"div_count + script_src_.js\", \"img_src_.jpg + script_src_.js\", \"img_src_.jpg + link_href_out_of_domain\", \"form_action_out_of_domain + script_src_out_of_domain\", \"iframe_src_https + script_src_.js\"], \"type\": \"bar\", \"uid\": \"3ed20b21-e003-4888-9741-9ff4f325d5f9\"}], {\"autosize\": false, \"height\": 1000, \"width\": 1000, \"xaxis\": {\"tickfont\": {\"color\": \"black\", \"size\": 12}, \"title\": \"Feature Importances\"}, \"yaxis\": {\"automargin\": true}}, {\"showLink\": true, \"linkText\": \"Export to plot.ly\", \"plotlyServerURL\": \"https://plot.ly\"})});</script>"
      ]
     },
     "metadata": {},
     "output_type": "display_data"
    },
    {
     "name": "stdout",
     "output_type": "stream",
     "text": [
      "\n",
      "\n",
      "\u001b[1mBagging Classifier\u001b[0m\n",
      "Accuracy of the model for training data is: 0.9163710419130207\n",
      "Confusion Matrix for training data is:\n"
     ]
    },
    {
     "data": {
      "text/plain": [
       "Predicted  False  True  __all__\n",
       "Actual                         \n",
       "False      23667  2349    26016\n",
       "True         197  4231     4428\n",
       "__all__    23864  6580    30444"
      ]
     },
     "metadata": {},
     "output_type": "display_data"
    },
    {
     "name": "stdout",
     "output_type": "stream",
     "text": [
      "Accuracy of the model for test data is: 0.9064919138499272\n",
      "Confusion Matrix for test data is:\n"
     ]
    },
    {
     "data": {
      "text/plain": [
       "Predicted  False  True  __all__\n",
       "Actual                         \n",
       "False      10071  1027    11098\n",
       "True         193  1756     1949\n",
       "__all__    10264  2783    13047"
      ]
     },
     "metadata": {},
     "output_type": "display_data"
    },
    {
     "name": "stdout",
     "output_type": "stream",
     "text": [
      "\n",
      "\n",
      "\u001b[1mNeural Network-1\u001b[0m\n"
     ]
    },
    {
     "name": "stderr",
     "output_type": "stream",
     "text": [
      "distributed.utils - ERROR - \n",
      "Traceback (most recent call last):\n",
      "  File \"/nethomes/darshan/anaconda3/lib/python3.6/site-packages/distributed/utils.py\", line 713, in log_errors\n",
      "    yield\n",
      "  File \"/nethomes/darshan/anaconda3/lib/python3.6/site-packages/distributed/client.py\", line 1223, in _close\n",
      "    quiet_exceptions=(CancelledError,),\n",
      "  File \"/nethomes/darshan/anaconda3/lib/python3.6/site-packages/tornado/gen.py\", line 584, in with_timeout\n",
      "    chain_future(future_converted, result)\n",
      "  File \"/nethomes/darshan/anaconda3/lib/python3.6/site-packages/tornado/concurrent.py\", line 166, in chain_future\n",
      "    future_add_done_callback(a, copy)\n",
      "  File \"/nethomes/darshan/anaconda3/lib/python3.6/site-packages/tornado/concurrent.py\", line 262, in future_add_done_callback\n",
      "    callback(future)\n",
      "  File \"/nethomes/darshan/anaconda3/lib/python3.6/site-packages/tornado/concurrent.py\", line 160, in copy\n",
      "    elif a.exception() is not None:\n",
      "concurrent.futures._base.CancelledError\n",
      "Exception ignored in: <bound method Client.__del__ of <Client: not connected>>\n",
      "Traceback (most recent call last):\n",
      "  File \"/nethomes/darshan/anaconda3/lib/python3.6/site-packages/distributed/client.py\", line 1075, in __del__\n",
      "    self.close()\n",
      "  File \"/nethomes/darshan/anaconda3/lib/python3.6/site-packages/distributed/client.py\", line 1290, in close\n",
      "    sync(self.loop, self._close, fast=True)\n",
      "  File \"/nethomes/darshan/anaconda3/lib/python3.6/site-packages/distributed/utils.py\", line 331, in sync\n",
      "    six.reraise(*error[0])\n",
      "  File \"/nethomes/darshan/anaconda3/lib/python3.6/site-packages/six.py\", line 693, in reraise\n",
      "    raise value\n",
      "  File \"/nethomes/darshan/anaconda3/lib/python3.6/site-packages/distributed/utils.py\", line 316, in f\n",
      "    result[0] = yield future\n",
      "  File \"/nethomes/darshan/anaconda3/lib/python3.6/site-packages/tornado/gen.py\", line 729, in run\n",
      "    value = future.result()\n",
      "  File \"/nethomes/darshan/anaconda3/lib/python3.6/site-packages/tornado/gen.py\", line 209, in wrapper\n",
      "    yielded = next(result)\n",
      "  File \"/nethomes/darshan/anaconda3/lib/python3.6/site-packages/distributed/client.py\", line 1223, in _close\n",
      "    quiet_exceptions=(CancelledError,),\n",
      "  File \"/nethomes/darshan/anaconda3/lib/python3.6/site-packages/tornado/gen.py\", line 584, in with_timeout\n",
      "    chain_future(future_converted, result)\n",
      "  File \"/nethomes/darshan/anaconda3/lib/python3.6/site-packages/tornado/concurrent.py\", line 166, in chain_future\n",
      "    future_add_done_callback(a, copy)\n",
      "  File \"/nethomes/darshan/anaconda3/lib/python3.6/site-packages/tornado/concurrent.py\", line 262, in future_add_done_callback\n",
      "    callback(future)\n",
      "  File \"/nethomes/darshan/anaconda3/lib/python3.6/site-packages/tornado/concurrent.py\", line 160, in copy\n",
      "    elif a.exception() is not None:\n",
      "concurrent.futures._base.CancelledError: \n"
     ]
    },
    {
     "name": "stdout",
     "output_type": "stream",
     "text": [
      "The accuracy of the model on training data is: 0.900374458021285\n"
     ]
    },
    {
     "data": {
      "text/plain": [
       "Predicted  False  True  __all__\n",
       "Actual                         \n",
       "False      23628  2388    26016\n",
       "True         645  3783     4428\n",
       "__all__    24273  6171    30444"
      ]
     },
     "metadata": {},
     "output_type": "display_data"
    },
    {
     "name": "stdout",
     "output_type": "stream",
     "text": [
      "The accuracy of the model on test data is: 0.8976009810684449\n"
     ]
    },
    {
     "data": {
      "text/plain": [
       "Predicted  False  True  __all__\n",
       "Actual                         \n",
       "False      10066  1032    11098\n",
       "True         304  1645     1949\n",
       "__all__    10370  2677    13047"
      ]
     },
     "metadata": {},
     "output_type": "display_data"
    },
    {
     "name": "stdout",
     "output_type": "stream",
     "text": [
      "\n",
      "\n"
     ]
    }
   ],
   "source": [
    "## Table to store training and test measures so we can compare later\n",
    "table_80_60_train=pd.DataFrame(columns=['accuracy','TP','TN','FP','FN','FPR','FNR'])\n",
    "table_80_60_test=pd.DataFrame(columns=['accuracy','TP','TN','FP','FN','FPR','FNR','auc','mcc'])\n",
    "\n",
    "\n",
    "feat_imp=[None]*4\n",
    "j=0\n",
    "for i in range(0,8):\n",
    "    if i>=2 and i<=5:\n",
    "        model,cm_train,cm_test,acc_train,acc_test,roc_auc,feat_imp[j],mcc=f[i](scaled_X_train,train_Y,scaled_X_test,test_Y,feature_name)\n",
    "        j=j+1\n",
    "    else:\n",
    "        model,cm_train,cm_test,acc_train,acc_test,roc_auc,mcc=f[i](scaled_X_train,train_Y,scaled_X_test,test_Y)\n",
    "    table_80_60_train.loc[i]=   ([acc_train,cm_train.TP,cm_train.TN,cm_train.FP,cm_train.FN,cm_train.FPR,cm_train.FNR])\n",
    "    table_80_60_test.loc[i] =   ([acc_test ,cm_test.TP, cm_test.TN, cm_test.FP, cm_test.FN, cm_test.FPR, cm_test.FNR,roc_auc,mcc])\n",
    "    print(\"\\n\")"
   ]
  },
  {
   "cell_type": "markdown",
   "metadata": {},
   "source": [
    "### <a id='4.A' style=\"text-decoration : none; color : #000000;\"> A. Results</a>"
   ]
  },
  {
   "cell_type": "code",
   "execution_count": 45,
   "metadata": {},
   "outputs": [
    {
     "data": {
      "application/vnd.plotly.v1+json": {
       "config": {
        "linkText": "Export to plot.ly",
        "plotlyServerURL": "https://plot.ly",
        "showLink": true
       },
       "data": [
        {
         "mode": "lines",
         "name": "KNN_model",
         "type": "scatter",
         "uid": "35f3b317-ed9b-4181-b108-f777b5093caf",
         "x": [
          "accuracy",
          "FPR",
          "FNR",
          "auc"
         ],
         "y": [
          0.9038093048210316,
          0.09524238601549828,
          0.10159055926115956,
          0.9015835273616711
         ]
        },
        {
         "mode": "lines+markers",
         "name": "Logistic Regression",
         "type": "scatter",
         "uid": "190b207a-df25-4f12-863c-5229dc2522de",
         "x": [
          "accuracy",
          "FPR",
          "FNR",
          "auc"
         ],
         "y": [
          0.8879435885644209,
          0.09028653811497567,
          0.23601847101077475,
          0.8368474954371248
         ]
        },
        {
         "marker": {
          "symbol": "x"
         },
         "mode": "lines+markers",
         "name": "Random Forest",
         "type": "scatter",
         "uid": "308e81a7-0189-4a8f-831d-51e9a5b94460",
         "x": [
          "accuracy",
          "FPR",
          "FNR",
          "auc"
         ],
         "y": [
          0.907411665516977,
          0.0910974950441521,
          0.10107747562852745,
          0.9039125146636603
         ]
        },
        {
         "mode": "lines",
         "name": "Ada Boost",
         "type": "scatter",
         "uid": "ff919b21-0290-4aa0-86d3-ec5b5a9ff3fa",
         "x": [
          "accuracy",
          "FPR",
          "FNR",
          "auc"
         ],
         "y": [
          0.8956081857898367,
          0.09244908992611281,
          0.172396100564392,
          0.8675774047547476
         ]
        },
        {
         "mode": "lines+markers",
         "name": "GradientBoosting",
         "type": "scatter",
         "uid": "7517a9ee-5529-4bb2-aa9e-b4b211a98fb6",
         "x": [
          "accuracy",
          "FPR",
          "FNR",
          "auc"
         ],
         "y": [
          0.9011266957921361,
          0.09091728239322401,
          0.14417650076962546,
          0.8824531084185753
         ]
        },
        {
         "marker": {
          "symbol": "x"
         },
         "mode": "lines+markers",
         "name": "ExtraTree Classifier",
         "type": "scatter",
         "uid": "844d3c1b-6d29-4212-b841-9bf33aff012c",
         "x": [
          "accuracy",
          "FPR",
          "FNR",
          "auc"
         ],
         "y": [
          0.907335019544723,
          0.09181834564786448,
          0.09748589020010262,
          0.9053478820760165
         ]
        },
        {
         "marker": {
          "symbol": "x"
         },
         "mode": "lines+markers",
         "name": "Bagging",
         "type": "scatter",
         "uid": "df24bcce-3b18-469e-84b7-518c120ab545",
         "x": [
          "accuracy",
          "FPR",
          "FNR",
          "auc"
         ],
         "y": [
          0.9064919138499272,
          0.09253919625157686,
          0.09902514109799897,
          0.904217831325212
         ]
        },
        {
         "marker": {
          "symbol": "x"
         },
         "mode": "lines+markers",
         "name": "Neural Network",
         "type": "scatter",
         "uid": "67dc10ac-b9cd-4121-bf51-6a11cdb6fb4d",
         "x": [
          "accuracy",
          "FPR",
          "FNR",
          "auc"
         ],
         "y": [
          0.8976009810684449,
          0.0929897278788971,
          0.15597742432016418,
          0.8755164239004694
         ]
        }
       ],
       "layout": {
        "title": "Result comparision for Features selected in Section 1",
        "yaxis": {
         "dtick": 0.05,
         "tick0": 0
        }
       }
      },
      "text/html": [
       "<div id=\"721aa750-95ae-4573-acd2-0ed0afa5e0e4\" style=\"height: 525px; width: 100%;\" class=\"plotly-graph-div\"></div><script type=\"text/javascript\">require([\"plotly\"], function(Plotly) { window.PLOTLYENV=window.PLOTLYENV || {};window.PLOTLYENV.BASE_URL=\"https://plot.ly\";Plotly.newPlot(\"721aa750-95ae-4573-acd2-0ed0afa5e0e4\", [{\"mode\": \"lines\", \"name\": \"KNN_model\", \"x\": [\"accuracy\", \"FPR\", \"FNR\", \"auc\"], \"y\": [0.9038093048210316, 0.09524238601549828, 0.10159055926115956, 0.9015835273616711], \"type\": \"scatter\", \"uid\": \"35f3b317-ed9b-4181-b108-f777b5093caf\"}, {\"mode\": \"lines+markers\", \"name\": \"Logistic Regression\", \"x\": [\"accuracy\", \"FPR\", \"FNR\", \"auc\"], \"y\": [0.8879435885644209, 0.09028653811497567, 0.23601847101077475, 0.8368474954371248], \"type\": \"scatter\", \"uid\": \"190b207a-df25-4f12-863c-5229dc2522de\"}, {\"marker\": {\"symbol\": \"x\"}, \"mode\": \"lines+markers\", \"name\": \"Random Forest\", \"x\": [\"accuracy\", \"FPR\", \"FNR\", \"auc\"], \"y\": [0.907411665516977, 0.0910974950441521, 0.10107747562852745, 0.9039125146636603], \"type\": \"scatter\", \"uid\": \"308e81a7-0189-4a8f-831d-51e9a5b94460\"}, {\"mode\": \"lines\", \"name\": \"Ada Boost\", \"x\": [\"accuracy\", \"FPR\", \"FNR\", \"auc\"], \"y\": [0.8956081857898367, 0.09244908992611281, 0.172396100564392, 0.8675774047547476], \"type\": \"scatter\", \"uid\": \"ff919b21-0290-4aa0-86d3-ec5b5a9ff3fa\"}, {\"mode\": \"lines+markers\", \"name\": \"GradientBoosting\", \"x\": [\"accuracy\", \"FPR\", \"FNR\", \"auc\"], \"y\": [0.9011266957921361, 0.09091728239322401, 0.14417650076962546, 0.8824531084185753], \"type\": \"scatter\", \"uid\": \"7517a9ee-5529-4bb2-aa9e-b4b211a98fb6\"}, {\"marker\": {\"symbol\": \"x\"}, \"mode\": \"lines+markers\", \"name\": \"ExtraTree Classifier\", \"x\": [\"accuracy\", \"FPR\", \"FNR\", \"auc\"], \"y\": [0.907335019544723, 0.09181834564786448, 0.09748589020010262, 0.9053478820760165], \"type\": \"scatter\", \"uid\": \"844d3c1b-6d29-4212-b841-9bf33aff012c\"}, {\"marker\": {\"symbol\": \"x\"}, \"mode\": \"lines+markers\", \"name\": \"Bagging\", \"x\": [\"accuracy\", \"FPR\", \"FNR\", \"auc\"], \"y\": [0.9064919138499272, 0.09253919625157686, 0.09902514109799897, 0.904217831325212], \"type\": \"scatter\", \"uid\": \"df24bcce-3b18-469e-84b7-518c120ab545\"}, {\"marker\": {\"symbol\": \"x\"}, \"mode\": \"lines+markers\", \"name\": \"Neural Network\", \"x\": [\"accuracy\", \"FPR\", \"FNR\", \"auc\"], \"y\": [0.8976009810684449, 0.0929897278788971, 0.15597742432016418, 0.8755164239004694], \"type\": \"scatter\", \"uid\": \"67dc10ac-b9cd-4121-bf51-6a11cdb6fb4d\"}], {\"title\": \"Result comparision for Features selected in Section 1\", \"yaxis\": {\"dtick\": 0.05, \"tick0\": 0}}, {\"showLink\": true, \"linkText\": \"Export to plot.ly\", \"plotlyServerURL\": \"https://plot.ly\"})});</script><script type=\"text/javascript\">window.addEventListener(\"resize\", function(){window._Plotly.Plots.resize(document.getElementById(\"721aa750-95ae-4573-acd2-0ed0afa5e0e4\"));});</script>"
      ],
      "text/vnd.plotly.v1+html": [
       "<div id=\"721aa750-95ae-4573-acd2-0ed0afa5e0e4\" style=\"height: 525px; width: 100%;\" class=\"plotly-graph-div\"></div><script type=\"text/javascript\">require([\"plotly\"], function(Plotly) { window.PLOTLYENV=window.PLOTLYENV || {};window.PLOTLYENV.BASE_URL=\"https://plot.ly\";Plotly.newPlot(\"721aa750-95ae-4573-acd2-0ed0afa5e0e4\", [{\"mode\": \"lines\", \"name\": \"KNN_model\", \"x\": [\"accuracy\", \"FPR\", \"FNR\", \"auc\"], \"y\": [0.9038093048210316, 0.09524238601549828, 0.10159055926115956, 0.9015835273616711], \"type\": \"scatter\", \"uid\": \"35f3b317-ed9b-4181-b108-f777b5093caf\"}, {\"mode\": \"lines+markers\", \"name\": \"Logistic Regression\", \"x\": [\"accuracy\", \"FPR\", \"FNR\", \"auc\"], \"y\": [0.8879435885644209, 0.09028653811497567, 0.23601847101077475, 0.8368474954371248], \"type\": \"scatter\", \"uid\": \"190b207a-df25-4f12-863c-5229dc2522de\"}, {\"marker\": {\"symbol\": \"x\"}, \"mode\": \"lines+markers\", \"name\": \"Random Forest\", \"x\": [\"accuracy\", \"FPR\", \"FNR\", \"auc\"], \"y\": [0.907411665516977, 0.0910974950441521, 0.10107747562852745, 0.9039125146636603], \"type\": \"scatter\", \"uid\": \"308e81a7-0189-4a8f-831d-51e9a5b94460\"}, {\"mode\": \"lines\", \"name\": \"Ada Boost\", \"x\": [\"accuracy\", \"FPR\", \"FNR\", \"auc\"], \"y\": [0.8956081857898367, 0.09244908992611281, 0.172396100564392, 0.8675774047547476], \"type\": \"scatter\", \"uid\": \"ff919b21-0290-4aa0-86d3-ec5b5a9ff3fa\"}, {\"mode\": \"lines+markers\", \"name\": \"GradientBoosting\", \"x\": [\"accuracy\", \"FPR\", \"FNR\", \"auc\"], \"y\": [0.9011266957921361, 0.09091728239322401, 0.14417650076962546, 0.8824531084185753], \"type\": \"scatter\", \"uid\": \"7517a9ee-5529-4bb2-aa9e-b4b211a98fb6\"}, {\"marker\": {\"symbol\": \"x\"}, \"mode\": \"lines+markers\", \"name\": \"ExtraTree Classifier\", \"x\": [\"accuracy\", \"FPR\", \"FNR\", \"auc\"], \"y\": [0.907335019544723, 0.09181834564786448, 0.09748589020010262, 0.9053478820760165], \"type\": \"scatter\", \"uid\": \"844d3c1b-6d29-4212-b841-9bf33aff012c\"}, {\"marker\": {\"symbol\": \"x\"}, \"mode\": \"lines+markers\", \"name\": \"Bagging\", \"x\": [\"accuracy\", \"FPR\", \"FNR\", \"auc\"], \"y\": [0.9064919138499272, 0.09253919625157686, 0.09902514109799897, 0.904217831325212], \"type\": \"scatter\", \"uid\": \"df24bcce-3b18-469e-84b7-518c120ab545\"}, {\"marker\": {\"symbol\": \"x\"}, \"mode\": \"lines+markers\", \"name\": \"Neural Network\", \"x\": [\"accuracy\", \"FPR\", \"FNR\", \"auc\"], \"y\": [0.8976009810684449, 0.0929897278788971, 0.15597742432016418, 0.8755164239004694], \"type\": \"scatter\", \"uid\": \"67dc10ac-b9cd-4121-bf51-6a11cdb6fb4d\"}], {\"title\": \"Result comparision for Features selected in Section 1\", \"yaxis\": {\"dtick\": 0.05, \"tick0\": 0}}, {\"showLink\": true, \"linkText\": \"Export to plot.ly\", \"plotlyServerURL\": \"https://plot.ly\"})});</script><script type=\"text/javascript\">window.addEventListener(\"resize\", function(){window._Plotly.Plots.resize(document.getElementById(\"721aa750-95ae-4573-acd2-0ed0afa5e0e4\"));});</script>"
      ]
     },
     "metadata": {},
     "output_type": "display_data"
    }
   ],
   "source": [
    "trace0 = go.Scatter(x=table_80_60_test.iloc[0].index.values[[0,5,6,7]],\n",
    "                    y=table_80_60_test.iloc[0].values[[0,5,6,7]],\n",
    "                    mode = 'lines',\n",
    "                    name = 'KNN_model')\n",
    "\n",
    "trace1 = go.Scatter(x=table_80_60_test.iloc[1].index.values[[0,5,6,7]],\n",
    "                    y=table_80_60_test.iloc[1].values[[0,5,6,7]],\n",
    "                    mode = 'lines+markers',\n",
    "                    name = 'Logistic Regression')\n",
    "\n",
    "trace2 = go.Scatter(x=table_80_60_test.iloc[2].index.values[[0,5,6,7]],\n",
    "                    y=table_80_60_test.iloc[2].values[[0,5,6,7]],\n",
    "                    mode = 'lines+markers',marker=dict(symbol='x'),\n",
    "                    name = 'Random Forest')\n",
    "\n",
    "\n",
    "trace3 = go.Scatter(x=table_80_60_test.iloc[3].index.values[[0,5,6,7]],\n",
    "                    y=table_80_60_test.iloc[3].values[[0,5,6,7]],\n",
    "                    mode = 'lines',\n",
    "                    name = 'Ada Boost')\n",
    "\n",
    "trace4 = go.Scatter(x=table_80_60_test.iloc[4].index.values[[0,5,6,7]],\n",
    "                    y=table_80_60_test.iloc[4].values[[0,5,6,7]],\n",
    "                    mode = 'lines+markers',\n",
    "                    name = 'GradientBoosting')\n",
    "\n",
    "trace5 = go.Scatter(x=table_80_60_test.iloc[5].index.values[[0,5,6,7]],\n",
    "                    y=table_80_60_test.iloc[5].values[[0,5,6,7]],\n",
    "                    mode = 'lines+markers',marker=dict(symbol='x'),\n",
    "                    name = 'ExtraTree Classifier')\n",
    "\n",
    "trace6 = go.Scatter(x=table_80_60_test.iloc[6].index.values[[0,5,6,7]],\n",
    "                    y=table_80_60_test.iloc[6].values[[0,5,6,7]],\n",
    "                    mode = 'lines+markers',marker=dict(symbol='x'),\n",
    "                    name = 'Bagging')\n",
    "\n",
    "trace7 = go.Scatter(x=table_80_60_test.iloc[7].index.values[[0,5,6,7]],\n",
    "                    y=table_80_60_test.iloc[7].values[[0,5,6,7]],\n",
    "                    mode = 'lines+markers',marker=dict(symbol='x'),\n",
    "                    name = 'Neural Network')\n",
    "\n",
    "\n",
    "\n",
    "data = [trace0, trace1, trace2, trace3, trace4, trace5, trace6, trace7]\n",
    "layout = go.Layout(yaxis=dict(tick0=0,dtick=0.05),title='Result comparision for Features selected in Section 1')\n",
    "fig = go.Figure(data=data, layout=layout)\n",
    "\n",
    "iplot(fig, filename='Result')"
   ]
  },
  {
   "cell_type": "code",
   "execution_count": 46,
   "metadata": {},
   "outputs": [
    {
     "name": "stdout",
     "output_type": "stream",
     "text": [
      "Training Results\n"
     ]
    },
    {
     "data": {
      "text/html": [
       "<div>\n",
       "<style scoped>\n",
       "    .dataframe tbody tr th:only-of-type {\n",
       "        vertical-align: middle;\n",
       "    }\n",
       "\n",
       "    .dataframe tbody tr th {\n",
       "        vertical-align: top;\n",
       "    }\n",
       "\n",
       "    .dataframe thead th {\n",
       "        text-align: right;\n",
       "    }\n",
       "</style>\n",
       "<table border=\"1\" class=\"dataframe\">\n",
       "  <thead>\n",
       "    <tr style=\"text-align: right;\">\n",
       "      <th></th>\n",
       "      <th>accuracy</th>\n",
       "      <th>TP</th>\n",
       "      <th>TN</th>\n",
       "      <th>FP</th>\n",
       "      <th>FN</th>\n",
       "      <th>FPR</th>\n",
       "      <th>FNR</th>\n",
       "    </tr>\n",
       "    <tr>\n",
       "      <th>index</th>\n",
       "      <th></th>\n",
       "      <th></th>\n",
       "      <th></th>\n",
       "      <th></th>\n",
       "      <th></th>\n",
       "      <th></th>\n",
       "      <th></th>\n",
       "    </tr>\n",
       "  </thead>\n",
       "  <tbody>\n",
       "    <tr>\n",
       "      <th>KNeighborsClassifier</th>\n",
       "      <td>0.905499</td>\n",
       "      <td>3989.0</td>\n",
       "      <td>23578.0</td>\n",
       "      <td>2438.0</td>\n",
       "      <td>439.0</td>\n",
       "      <td>0.093712</td>\n",
       "      <td>0.099142</td>\n",
       "    </tr>\n",
       "    <tr>\n",
       "      <th>LogisticRegression</th>\n",
       "      <td>0.889141</td>\n",
       "      <td>3393.0</td>\n",
       "      <td>23676.0</td>\n",
       "      <td>2340.0</td>\n",
       "      <td>1035.0</td>\n",
       "      <td>0.089945</td>\n",
       "      <td>0.233740</td>\n",
       "    </tr>\n",
       "    <tr>\n",
       "      <th>RandomForestClassifier</th>\n",
       "      <td>0.916338</td>\n",
       "      <td>4230.0</td>\n",
       "      <td>23667.0</td>\n",
       "      <td>2349.0</td>\n",
       "      <td>198.0</td>\n",
       "      <td>0.090291</td>\n",
       "      <td>0.044715</td>\n",
       "    </tr>\n",
       "    <tr>\n",
       "      <th>AdaBoostClassifier</th>\n",
       "      <td>0.894659</td>\n",
       "      <td>3649.0</td>\n",
       "      <td>23588.0</td>\n",
       "      <td>2428.0</td>\n",
       "      <td>779.0</td>\n",
       "      <td>0.093327</td>\n",
       "      <td>0.175926</td>\n",
       "    </tr>\n",
       "    <tr>\n",
       "      <th>GradientBoostingClassifier</th>\n",
       "      <td>0.901951</td>\n",
       "      <td>3795.0</td>\n",
       "      <td>23664.0</td>\n",
       "      <td>2352.0</td>\n",
       "      <td>633.0</td>\n",
       "      <td>0.090406</td>\n",
       "      <td>0.142954</td>\n",
       "    </tr>\n",
       "    <tr>\n",
       "      <th>ExtraTreeClassifier</th>\n",
       "      <td>0.918966</td>\n",
       "      <td>4307.0</td>\n",
       "      <td>23670.0</td>\n",
       "      <td>2346.0</td>\n",
       "      <td>121.0</td>\n",
       "      <td>0.090175</td>\n",
       "      <td>0.027326</td>\n",
       "    </tr>\n",
       "    <tr>\n",
       "      <th>BaggingClassifier</th>\n",
       "      <td>0.916371</td>\n",
       "      <td>4231.0</td>\n",
       "      <td>23667.0</td>\n",
       "      <td>2349.0</td>\n",
       "      <td>197.0</td>\n",
       "      <td>0.090291</td>\n",
       "      <td>0.044490</td>\n",
       "    </tr>\n",
       "    <tr>\n",
       "      <th>Neural Network-1</th>\n",
       "      <td>0.900374</td>\n",
       "      <td>3783.0</td>\n",
       "      <td>23628.0</td>\n",
       "      <td>2388.0</td>\n",
       "      <td>645.0</td>\n",
       "      <td>0.091790</td>\n",
       "      <td>0.145664</td>\n",
       "    </tr>\n",
       "  </tbody>\n",
       "</table>\n",
       "</div>"
      ],
      "text/plain": [
       "                            accuracy      TP       TN      FP      FN  \\\n",
       "index                                                                   \n",
       "KNeighborsClassifier        0.905499  3989.0  23578.0  2438.0   439.0   \n",
       "LogisticRegression          0.889141  3393.0  23676.0  2340.0  1035.0   \n",
       "RandomForestClassifier      0.916338  4230.0  23667.0  2349.0   198.0   \n",
       "AdaBoostClassifier          0.894659  3649.0  23588.0  2428.0   779.0   \n",
       "GradientBoostingClassifier  0.901951  3795.0  23664.0  2352.0   633.0   \n",
       "ExtraTreeClassifier         0.918966  4307.0  23670.0  2346.0   121.0   \n",
       "BaggingClassifier           0.916371  4231.0  23667.0  2349.0   197.0   \n",
       "Neural Network-1            0.900374  3783.0  23628.0  2388.0   645.0   \n",
       "\n",
       "                                 FPR       FNR  \n",
       "index                                           \n",
       "KNeighborsClassifier        0.093712  0.099142  \n",
       "LogisticRegression          0.089945  0.233740  \n",
       "RandomForestClassifier      0.090291  0.044715  \n",
       "AdaBoostClassifier          0.093327  0.175926  \n",
       "GradientBoostingClassifier  0.090406  0.142954  \n",
       "ExtraTreeClassifier         0.090175  0.027326  \n",
       "BaggingClassifier           0.090291  0.044490  \n",
       "Neural Network-1            0.091790  0.145664  "
      ]
     },
     "metadata": {},
     "output_type": "display_data"
    },
    {
     "name": "stdout",
     "output_type": "stream",
     "text": [
      "Test Results\n"
     ]
    },
    {
     "data": {
      "text/html": [
       "<div>\n",
       "<style scoped>\n",
       "    .dataframe tbody tr th:only-of-type {\n",
       "        vertical-align: middle;\n",
       "    }\n",
       "\n",
       "    .dataframe tbody tr th {\n",
       "        vertical-align: top;\n",
       "    }\n",
       "\n",
       "    .dataframe thead th {\n",
       "        text-align: right;\n",
       "    }\n",
       "</style>\n",
       "<table border=\"1\" class=\"dataframe\">\n",
       "  <thead>\n",
       "    <tr style=\"text-align: right;\">\n",
       "      <th></th>\n",
       "      <th>accuracy</th>\n",
       "      <th>TP</th>\n",
       "      <th>TN</th>\n",
       "      <th>FP</th>\n",
       "      <th>FN</th>\n",
       "      <th>FPR</th>\n",
       "      <th>FNR</th>\n",
       "      <th>auc</th>\n",
       "      <th>mcc</th>\n",
       "    </tr>\n",
       "    <tr>\n",
       "      <th>index</th>\n",
       "      <th></th>\n",
       "      <th></th>\n",
       "      <th></th>\n",
       "      <th></th>\n",
       "      <th></th>\n",
       "      <th></th>\n",
       "      <th></th>\n",
       "      <th></th>\n",
       "      <th></th>\n",
       "    </tr>\n",
       "  </thead>\n",
       "  <tbody>\n",
       "    <tr>\n",
       "      <th>KNeighborsClassifier</th>\n",
       "      <td>0.903809</td>\n",
       "      <td>1751.0</td>\n",
       "      <td>10041.0</td>\n",
       "      <td>1057.0</td>\n",
       "      <td>198.0</td>\n",
       "      <td>0.095242</td>\n",
       "      <td>0.101591</td>\n",
       "      <td>0.901584</td>\n",
       "      <td>0.696637</td>\n",
       "    </tr>\n",
       "    <tr>\n",
       "      <th>LogisticRegression</th>\n",
       "      <td>0.887944</td>\n",
       "      <td>1489.0</td>\n",
       "      <td>10096.0</td>\n",
       "      <td>1002.0</td>\n",
       "      <td>460.0</td>\n",
       "      <td>0.090287</td>\n",
       "      <td>0.236018</td>\n",
       "      <td>0.836847</td>\n",
       "      <td>0.611019</td>\n",
       "    </tr>\n",
       "    <tr>\n",
       "      <th>RandomForestClassifier</th>\n",
       "      <td>0.907412</td>\n",
       "      <td>1752.0</td>\n",
       "      <td>10087.0</td>\n",
       "      <td>1011.0</td>\n",
       "      <td>197.0</td>\n",
       "      <td>0.091097</td>\n",
       "      <td>0.101077</td>\n",
       "      <td>0.903913</td>\n",
       "      <td>0.704813</td>\n",
       "    </tr>\n",
       "    <tr>\n",
       "      <th>AdaBoostClassifier</th>\n",
       "      <td>0.895608</td>\n",
       "      <td>1613.0</td>\n",
       "      <td>10072.0</td>\n",
       "      <td>1026.0</td>\n",
       "      <td>336.0</td>\n",
       "      <td>0.092449</td>\n",
       "      <td>0.172396</td>\n",
       "      <td>0.867577</td>\n",
       "      <td>0.652385</td>\n",
       "    </tr>\n",
       "    <tr>\n",
       "      <th>GradientBoostingClassifier</th>\n",
       "      <td>0.901127</td>\n",
       "      <td>1668.0</td>\n",
       "      <td>10089.0</td>\n",
       "      <td>1009.0</td>\n",
       "      <td>281.0</td>\n",
       "      <td>0.090917</td>\n",
       "      <td>0.144177</td>\n",
       "      <td>0.882453</td>\n",
       "      <td>0.675185</td>\n",
       "    </tr>\n",
       "    <tr>\n",
       "      <th>ExtraTreeClassifier</th>\n",
       "      <td>0.907335</td>\n",
       "      <td>1759.0</td>\n",
       "      <td>10079.0</td>\n",
       "      <td>1019.0</td>\n",
       "      <td>190.0</td>\n",
       "      <td>0.091818</td>\n",
       "      <td>0.097486</td>\n",
       "      <td>0.905348</td>\n",
       "      <td>0.705921</td>\n",
       "    </tr>\n",
       "    <tr>\n",
       "      <th>BaggingClassifier</th>\n",
       "      <td>0.906492</td>\n",
       "      <td>1756.0</td>\n",
       "      <td>10071.0</td>\n",
       "      <td>1027.0</td>\n",
       "      <td>193.0</td>\n",
       "      <td>0.092539</td>\n",
       "      <td>0.099025</td>\n",
       "      <td>0.904218</td>\n",
       "      <td>0.703491</td>\n",
       "    </tr>\n",
       "    <tr>\n",
       "      <th>Neural Network-1</th>\n",
       "      <td>0.897601</td>\n",
       "      <td>1645.0</td>\n",
       "      <td>10066.0</td>\n",
       "      <td>1032.0</td>\n",
       "      <td>304.0</td>\n",
       "      <td>0.092990</td>\n",
       "      <td>0.155977</td>\n",
       "      <td>0.875516</td>\n",
       "      <td>0.662939</td>\n",
       "    </tr>\n",
       "  </tbody>\n",
       "</table>\n",
       "</div>"
      ],
      "text/plain": [
       "                            accuracy      TP       TN      FP     FN  \\\n",
       "index                                                                  \n",
       "KNeighborsClassifier        0.903809  1751.0  10041.0  1057.0  198.0   \n",
       "LogisticRegression          0.887944  1489.0  10096.0  1002.0  460.0   \n",
       "RandomForestClassifier      0.907412  1752.0  10087.0  1011.0  197.0   \n",
       "AdaBoostClassifier          0.895608  1613.0  10072.0  1026.0  336.0   \n",
       "GradientBoostingClassifier  0.901127  1668.0  10089.0  1009.0  281.0   \n",
       "ExtraTreeClassifier         0.907335  1759.0  10079.0  1019.0  190.0   \n",
       "BaggingClassifier           0.906492  1756.0  10071.0  1027.0  193.0   \n",
       "Neural Network-1            0.897601  1645.0  10066.0  1032.0  304.0   \n",
       "\n",
       "                                 FPR       FNR       auc       mcc  \n",
       "index                                                               \n",
       "KNeighborsClassifier        0.095242  0.101591  0.901584  0.696637  \n",
       "LogisticRegression          0.090287  0.236018  0.836847  0.611019  \n",
       "RandomForestClassifier      0.091097  0.101077  0.903913  0.704813  \n",
       "AdaBoostClassifier          0.092449  0.172396  0.867577  0.652385  \n",
       "GradientBoostingClassifier  0.090917  0.144177  0.882453  0.675185  \n",
       "ExtraTreeClassifier         0.091818  0.097486  0.905348  0.705921  \n",
       "BaggingClassifier           0.092539  0.099025  0.904218  0.703491  \n",
       "Neural Network-1            0.092990  0.155977  0.875516  0.662939  "
      ]
     },
     "metadata": {},
     "output_type": "display_data"
    }
   ],
   "source": [
    "table_80_60_train['index']=ind_columns\n",
    "table_80_60_test['index']=ind_columns\n",
    "\n",
    "\n",
    "table_80_60_test.set_index(['index'],drop=True,inplace=True)\n",
    "table_80_60_train.set_index(['index'],drop=True,inplace=True)\n",
    "\n",
    "print(\"Training Results\")\n",
    "display(table_80_60_train)\n",
    "print(\"Test Results\")\n",
    "display(table_80_60_test)"
   ]
  },
  {
   "cell_type": "markdown",
   "metadata": {},
   "source": [
    "### <a id='4.B' style=\"text-decoration : none; color : #000000;\"> B. Average Feature Importances</a>"
   ]
  },
  {
   "cell_type": "code",
   "execution_count": 47,
   "metadata": {},
   "outputs": [
    {
     "data": {
      "application/vnd.plotly.v1+json": {
       "config": {
        "linkText": "Export to plot.ly",
        "plotlyServerURL": "https://plot.ly",
        "showLink": true
       },
       "data": [
        {
         "marker": {
          "color": "rgb(158,202,225)",
          "line": {
           "color": "rgb(8,48,107)",
           "width": 1.5
          }
         },
         "opacity": 0.6,
         "orientation": "h",
         "text": [
          0.2579,
          0.0891,
          0.0705,
          0.0592,
          0.0547,
          0.0383,
          0.0359,
          0.0352,
          0.0314,
          0.0291,
          0.0274,
          0.0268,
          0.0225,
          0.0208,
          0.0199,
          0.0179,
          0.0172,
          0.0167,
          0.0151,
          0.0141,
          0.0135,
          0.0125,
          0.0118,
          0.0109,
          0.0108,
          0.0104,
          0.0076,
          0.0071,
          0.0065,
          0.0058,
          0.0032
         ],
         "textposition": "outside",
         "type": "bar",
         "uid": "b30b9734-0947-4eeb-bd93-5d7c4c8bc816",
         "x": [
          0.2578974501616096,
          0.0890654202738631,
          0.07049432362456373,
          0.05921407772815105,
          0.05468911141024873,
          0.03832903055458529,
          0.0359294917466993,
          0.03515624902539243,
          0.031441580748899176,
          0.029139121994729088,
          0.02743579581103086,
          0.02679498063026078,
          0.022479661694228582,
          0.02084671324741653,
          0.019917028952807506,
          0.017892597216276923,
          0.017227150827995107,
          0.01668466043989025,
          0.015108680862075405,
          0.01409601133978692,
          0.013531772745701767,
          0.01247224892914418,
          0.011836884573020935,
          0.010946459639495537,
          0.01075550419966154,
          0.010359113178949388,
          0.0076361741358073245,
          0.007069920174088193,
          0.006463565195503635,
          0.005844008497310639,
          0.0032452104408065086
         ],
         "y": [
          "link_href_out_of_domain + script_async_true",
          "script_type_text/javascript + title_count",
          "script_src_.js + script_src_out_of_domain",
          "a_href_https + div_count",
          "div_count + p_count",
          "img_src_.jpg + script_async_true",
          "script_async_true + script_src_out_of_domain",
          "script_async_true + script_src_.js",
          "br_count + div_count",
          "link_type_text/css + script_src_.js",
          "link_rel_shortlink + script_src_.js",
          "div_count + meta_count",
          "form_action_out_of_domain + script_src_out_of_domain",
          "img_src_.jpg + link_href_out_of_domain",
          "center_count + script_src_.js",
          "link_type_application/rsd+xml + script_src_.js",
          "link_href_out_of_domain + script_type_text/javascript",
          "script_src_.js / link_href_.css",
          "script_src_.js / title_count",
          "div_count + li_count",
          "div_count + script_src_.js",
          "link_href_0 + script_src_.js",
          "a_href_http + div_count",
          "link_href_.css + script_src_.js",
          "script_src_.js",
          "link_type_application/rss+xml + script_src_.js",
          "form_action_http + script_src_.js",
          "form_action_out_of_domain + script_src_.js",
          "iframe_src_https + script_src_out_of_domain",
          "img_src_.jpg + script_src_.js",
          "iframe_src_https + script_src_.js"
         ]
        }
       ],
       "layout": {
        "autosize": false,
        "height": 1000,
        "width": 1000,
        "xaxis": {
         "tickfont": {
          "color": "black",
          "size": 12
         },
         "title": "Feature Importances"
        },
        "yaxis": {
         "automargin": true
        }
       }
      },
      "text/html": [
       "<div id=\"41264361-a06e-4748-92d5-37866eda9c70\" style=\"height: 1000px; width: 1000px;\" class=\"plotly-graph-div\"></div><script type=\"text/javascript\">require([\"plotly\"], function(Plotly) { window.PLOTLYENV=window.PLOTLYENV || {};window.PLOTLYENV.BASE_URL=\"https://plot.ly\";Plotly.newPlot(\"41264361-a06e-4748-92d5-37866eda9c70\", [{\"marker\": {\"color\": \"rgb(158,202,225)\", \"line\": {\"color\": \"rgb(8,48,107)\", \"width\": 1.5}}, \"opacity\": 0.6, \"orientation\": \"h\", \"text\": [0.2579, 0.0891, 0.0705, 0.0592, 0.0547, 0.0383, 0.0359, 0.0352, 0.0314, 0.0291, 0.0274, 0.0268, 0.0225, 0.0208, 0.0199, 0.0179, 0.0172, 0.0167, 0.0151, 0.0141, 0.0135, 0.0125, 0.0118, 0.0109, 0.0108, 0.0104, 0.0076, 0.0071, 0.0065, 0.0058, 0.0032], \"textposition\": \"outside\", \"x\": [0.2578974501616096, 0.0890654202738631, 0.07049432362456373, 0.05921407772815105, 0.05468911141024873, 0.03832903055458529, 0.0359294917466993, 0.03515624902539243, 0.031441580748899176, 0.029139121994729088, 0.02743579581103086, 0.02679498063026078, 0.022479661694228582, 0.02084671324741653, 0.019917028952807506, 0.017892597216276923, 0.017227150827995107, 0.01668466043989025, 0.015108680862075405, 0.01409601133978692, 0.013531772745701767, 0.01247224892914418, 0.011836884573020935, 0.010946459639495537, 0.01075550419966154, 0.010359113178949388, 0.0076361741358073245, 0.007069920174088193, 0.006463565195503635, 0.005844008497310639, 0.0032452104408065086], \"y\": [\"link_href_out_of_domain + script_async_true\", \"script_type_text/javascript + title_count\", \"script_src_.js + script_src_out_of_domain\", \"a_href_https + div_count\", \"div_count + p_count\", \"img_src_.jpg + script_async_true\", \"script_async_true + script_src_out_of_domain\", \"script_async_true + script_src_.js\", \"br_count + div_count\", \"link_type_text/css + script_src_.js\", \"link_rel_shortlink + script_src_.js\", \"div_count + meta_count\", \"form_action_out_of_domain + script_src_out_of_domain\", \"img_src_.jpg + link_href_out_of_domain\", \"center_count + script_src_.js\", \"link_type_application/rsd+xml + script_src_.js\", \"link_href_out_of_domain + script_type_text/javascript\", \"script_src_.js / link_href_.css\", \"script_src_.js / title_count\", \"div_count + li_count\", \"div_count + script_src_.js\", \"link_href_0 + script_src_.js\", \"a_href_http + div_count\", \"link_href_.css + script_src_.js\", \"script_src_.js\", \"link_type_application/rss+xml + script_src_.js\", \"form_action_http + script_src_.js\", \"form_action_out_of_domain + script_src_.js\", \"iframe_src_https + script_src_out_of_domain\", \"img_src_.jpg + script_src_.js\", \"iframe_src_https + script_src_.js\"], \"type\": \"bar\", \"uid\": \"b30b9734-0947-4eeb-bd93-5d7c4c8bc816\"}], {\"autosize\": false, \"height\": 1000, \"width\": 1000, \"xaxis\": {\"tickfont\": {\"color\": \"black\", \"size\": 12}, \"title\": \"Feature Importances\"}, \"yaxis\": {\"automargin\": true}}, {\"showLink\": true, \"linkText\": \"Export to plot.ly\", \"plotlyServerURL\": \"https://plot.ly\"})});</script>"
      ],
      "text/vnd.plotly.v1+html": [
       "<div id=\"41264361-a06e-4748-92d5-37866eda9c70\" style=\"height: 1000px; width: 1000px;\" class=\"plotly-graph-div\"></div><script type=\"text/javascript\">require([\"plotly\"], function(Plotly) { window.PLOTLYENV=window.PLOTLYENV || {};window.PLOTLYENV.BASE_URL=\"https://plot.ly\";Plotly.newPlot(\"41264361-a06e-4748-92d5-37866eda9c70\", [{\"marker\": {\"color\": \"rgb(158,202,225)\", \"line\": {\"color\": \"rgb(8,48,107)\", \"width\": 1.5}}, \"opacity\": 0.6, \"orientation\": \"h\", \"text\": [0.2579, 0.0891, 0.0705, 0.0592, 0.0547, 0.0383, 0.0359, 0.0352, 0.0314, 0.0291, 0.0274, 0.0268, 0.0225, 0.0208, 0.0199, 0.0179, 0.0172, 0.0167, 0.0151, 0.0141, 0.0135, 0.0125, 0.0118, 0.0109, 0.0108, 0.0104, 0.0076, 0.0071, 0.0065, 0.0058, 0.0032], \"textposition\": \"outside\", \"x\": [0.2578974501616096, 0.0890654202738631, 0.07049432362456373, 0.05921407772815105, 0.05468911141024873, 0.03832903055458529, 0.0359294917466993, 0.03515624902539243, 0.031441580748899176, 0.029139121994729088, 0.02743579581103086, 0.02679498063026078, 0.022479661694228582, 0.02084671324741653, 0.019917028952807506, 0.017892597216276923, 0.017227150827995107, 0.01668466043989025, 0.015108680862075405, 0.01409601133978692, 0.013531772745701767, 0.01247224892914418, 0.011836884573020935, 0.010946459639495537, 0.01075550419966154, 0.010359113178949388, 0.0076361741358073245, 0.007069920174088193, 0.006463565195503635, 0.005844008497310639, 0.0032452104408065086], \"y\": [\"link_href_out_of_domain + script_async_true\", \"script_type_text/javascript + title_count\", \"script_src_.js + script_src_out_of_domain\", \"a_href_https + div_count\", \"div_count + p_count\", \"img_src_.jpg + script_async_true\", \"script_async_true + script_src_out_of_domain\", \"script_async_true + script_src_.js\", \"br_count + div_count\", \"link_type_text/css + script_src_.js\", \"link_rel_shortlink + script_src_.js\", \"div_count + meta_count\", \"form_action_out_of_domain + script_src_out_of_domain\", \"img_src_.jpg + link_href_out_of_domain\", \"center_count + script_src_.js\", \"link_type_application/rsd+xml + script_src_.js\", \"link_href_out_of_domain + script_type_text/javascript\", \"script_src_.js / link_href_.css\", \"script_src_.js / title_count\", \"div_count + li_count\", \"div_count + script_src_.js\", \"link_href_0 + script_src_.js\", \"a_href_http + div_count\", \"link_href_.css + script_src_.js\", \"script_src_.js\", \"link_type_application/rss+xml + script_src_.js\", \"form_action_http + script_src_.js\", \"form_action_out_of_domain + script_src_.js\", \"iframe_src_https + script_src_out_of_domain\", \"img_src_.jpg + script_src_.js\", \"iframe_src_https + script_src_.js\"], \"type\": \"bar\", \"uid\": \"b30b9734-0947-4eeb-bd93-5d7c4c8bc816\"}], {\"autosize\": false, \"height\": 1000, \"width\": 1000, \"xaxis\": {\"tickfont\": {\"color\": \"black\", \"size\": 12}, \"title\": \"Feature Importances\"}, \"yaxis\": {\"automargin\": true}}, {\"showLink\": true, \"linkText\": \"Export to plot.ly\", \"plotlyServerURL\": \"https://plot.ly\"})});</script>"
      ]
     },
     "metadata": {},
     "output_type": "display_data"
    }
   ],
   "source": [
    "feat_impt_plot(np.average(feat_imp,axis=0),feature_name)"
   ]
  },
  {
   "cell_type": "markdown",
   "metadata": {},
   "source": [
    "### <a id='5' style=\"text-decoration : none; color : #000000;\">5. Feature Transformation with PCA </a>"
   ]
  },
  {
   "cell_type": "code",
   "execution_count": 48,
   "metadata": {},
   "outputs": [
    {
     "name": "stderr",
     "output_type": "stream",
     "text": [
      "distributed.core - INFO - Event loop was unresponsive in Nanny for 102.95s.  This is often caused by long-running GIL-holding functions or moving large chunks of data. This can cause timeouts and instability.\n",
      "distributed.core - INFO - Event loop was unresponsive in Nanny for 102.95s.  This is often caused by long-running GIL-holding functions or moving large chunks of data. This can cause timeouts and instability.\n",
      "distributed.core - INFO - Event loop was unresponsive in Nanny for 102.94s.  This is often caused by long-running GIL-holding functions or moving large chunks of data. This can cause timeouts and instability.\n",
      "distributed.core - INFO - Event loop was unresponsive in Nanny for 102.94s.  This is often caused by long-running GIL-holding functions or moving large chunks of data. This can cause timeouts and instability.\n",
      "distributed.core - INFO - Event loop was unresponsive in Nanny for 102.94s.  This is often caused by long-running GIL-holding functions or moving large chunks of data. This can cause timeouts and instability.\n",
      "distributed.core - INFO - Event loop was unresponsive in Nanny for 102.94s.  This is often caused by long-running GIL-holding functions or moving large chunks of data. This can cause timeouts and instability.\n",
      "distributed.core - INFO - Event loop was unresponsive in Nanny for 102.94s.  This is often caused by long-running GIL-holding functions or moving large chunks of data. This can cause timeouts and instability.\n",
      "distributed.core - INFO - Event loop was unresponsive in Nanny for 102.94s.  This is often caused by long-running GIL-holding functions or moving large chunks of data. This can cause timeouts and instability.\n",
      "distributed.core - INFO - Event loop was unresponsive in Nanny for 102.94s.  This is often caused by long-running GIL-holding functions or moving large chunks of data. This can cause timeouts and instability.\n",
      "distributed.core - INFO - Event loop was unresponsive in Nanny for 102.94s.  This is often caused by long-running GIL-holding functions or moving large chunks of data. This can cause timeouts and instability.\n",
      "distributed.core - INFO - Event loop was unresponsive in Nanny for 102.94s.  This is often caused by long-running GIL-holding functions or moving large chunks of data. This can cause timeouts and instability.\n"
     ]
    },
    {
     "data": {
      "image/png": "[encoded data removed]",
      "text/plain": [
       "<Figure size 720x576 with 1 Axes>"
      ]
     },
     "metadata": {},
     "output_type": "display_data"
    }
   ],
   "source": [
    "X=fs.loc[:,fs.columns!='Target']\n",
    "y=fs.Target.values\n",
    "feature_name = X.columns.tolist()\n",
    "X=np.nan_to_num(X)\n",
    "scaler=StandardScaler()\n",
    "scaled_X=scaler.fit_transform(X)\n",
    "\n",
    "sns.set_style('whitegrid')\n",
    "pca = PCA(random_state=0)\n",
    "pca.fit(scaled_X)\n",
    "plt.figure(1, figsize=(10, 8))\n",
    "plt.plot(np.cumsum(pca.explained_variance_ratio_),'--o', linewidth=2)\n",
    "plt.axis('tight')\n",
    "plt.xlabel('Number of Components',size=14)\n",
    "plt.xticks(size=12)\n",
    "plt.xlim([0,200])\n",
    "plt.ylabel('% Explained Variance',size=14)\n",
    "plt.yticks(size=12)\n",
    "plt.title('% Variance Explained by Principal Components',size=14,y=1.05)\n",
    "plt.show()"
   ]
  },
  {
   "cell_type": "code",
   "execution_count": 49,
   "metadata": {},
   "outputs": [
    {
     "name": "stdout",
     "output_type": "stream",
     "text": [
      "Variance explained using 250 components is: 0.8071736720285988\n"
     ]
    }
   ],
   "source": [
    "pca=PCA(n_components=250,whiten=True,random_state=0)\n",
    "X_pca_21=pca.fit_transform(scaled_X)\n",
    "print(\"Variance explained using 250 components is:\",sum(pca.explained_variance_ratio_))"
   ]
  },
  {
   "cell_type": "code",
   "execution_count": 50,
   "metadata": {},
   "outputs": [],
   "source": [
    "X_train=X_pca_21[:30444]\n",
    "Y_train=fs.iloc[:30444]['Target'].values\n",
    "X_test=X_pca_21[30444:]\n",
    "Y_test=fs.iloc[30444:]['Target'].values\n",
    "\n",
    "## Table to store training and test measures so we can compare later\n",
    "table_80_70_train=pd.DataFrame(columns=['accuracy','TP','TN','FP','FN','FPR','FNR'])\n",
    "table_80_70_test=pd.DataFrame(columns=['accuracy','TP','TN','FP','FN','FPR','FNR','auc','mcc'])"
   ]
  },
  {
   "cell_type": "code",
   "execution_count": 51,
   "metadata": {
    "scrolled": false
   },
   "outputs": [
    {
     "name": "stdout",
     "output_type": "stream",
     "text": [
      "\u001b[1mK-Nearest Neighbors\u001b[0m\n",
      "Accuracy of the model for training data is: 0.9060241755354093\n",
      "Confusion Matrix for training data is:\n"
     ]
    },
    {
     "data": {
      "text/plain": [
       "Predicted  False  True  __all__\n",
       "Actual                         \n",
       "False      23610  2406    26016\n",
       "True         455  3973     4428\n",
       "__all__    24065  6379    30444"
      ]
     },
     "metadata": {},
     "output_type": "display_data"
    },
    {
     "name": "stdout",
     "output_type": "stream",
     "text": [
      "Accuracy of the model for test data is: 0.903502720932015\n",
      "Confusion Matrix for test data is:\n"
     ]
    },
    {
     "data": {
      "text/plain": [
       "Predicted  False  True  __all__\n",
       "Actual                         \n",
       "False      10051  1047    11098\n",
       "True         212  1737     1949\n",
       "__all__    10263  2784    13047"
      ]
     },
     "metadata": {},
     "output_type": "display_data"
    },
    {
     "name": "stdout",
     "output_type": "stream",
     "text": [
      "\n",
      "\n",
      "\u001b[1mLogistic Regression\u001b[0m\n",
      "Accuracy of the model for training data is: 0.8978780712127185\n",
      "Confusion Matrix for training data is:\n"
     ]
    },
    {
     "data": {
      "text/plain": [
       "Predicted  False  True  __all__\n",
       "Actual                         \n",
       "False      23580  2436    26016\n",
       "True         673  3755     4428\n",
       "__all__    24253  6191    30444"
      ]
     },
     "metadata": {},
     "output_type": "display_data"
    },
    {
     "name": "stdout",
     "output_type": "stream",
     "text": [
      "Accuracy of the model for test data is: 0.8933854525944661\n",
      "Confusion Matrix for test data is:\n"
     ]
    },
    {
     "data": {
      "text/plain": [
       "Predicted  False  True  __all__\n",
       "Actual                         \n",
       "False      10013  1085    11098\n",
       "True         306  1643     1949\n",
       "__all__    10319  2728    13047"
      ]
     },
     "metadata": {},
     "output_type": "display_data"
    },
    {
     "name": "stdout",
     "output_type": "stream",
     "text": [
      "\n",
      "\n",
      "\u001b[1mRandomForest Classifier\u001b[0m\n",
      "Accuracy of the model for training data is: 0.9169951386151622\n",
      "Confusion Matrix for training data is:\n"
     ]
    },
    {
     "data": {
      "text/plain": [
       "Predicted  False  True  __all__\n",
       "Actual                         \n",
       "False      23702  2314    26016\n",
       "True         213  4215     4428\n",
       "__all__    23915  6529    30444"
      ]
     },
     "metadata": {},
     "output_type": "display_data"
    },
    {
     "name": "stdout",
     "output_type": "stream",
     "text": [
      "Accuracy of the model for test data is: 0.9089445849620602\n",
      "Confusion Matrix for test data is:\n"
     ]
    },
    {
     "data": {
      "text/plain": [
       "Predicted  False  True  __all__\n",
       "Actual                         \n",
       "False      10120   978    11098\n",
       "True         210  1739     1949\n",
       "__all__    10330  2717    13047"
      ]
     },
     "metadata": {},
     "output_type": "display_data"
    },
    {
     "data": {
      "application/vnd.plotly.v1+json": {
       "config": {
        "linkText": "Export to plot.ly",
        "plotlyServerURL": "https://plot.ly",
        "showLink": true
       },
       "data": [
        {
         "marker": {
          "color": "rgb(158,202,225)",
          "line": {
           "color": "rgb(8,48,107)",
           "width": 1.5
          }
         },
         "opacity": 0.6,
         "orientation": "h",
         "text": [
          0.0574,
          0.0574,
          0.0487,
          0.0484,
          0.0479,
          0.0419,
          0.0339,
          0.0333,
          0.0315,
          0.0249,
          0.0245,
          0.0229,
          0.0225,
          0.0208,
          0.0205,
          0.0191,
          0.0187,
          0.0187,
          0.0181,
          0.0172,
          0.0165,
          0.0159,
          0.0118,
          0.0105,
          0.0099,
          0.0093,
          0.0082,
          0.006,
          0.0053,
          0.0049,
          0.0049,
          0.0047,
          0.0047,
          0.0045,
          0.0043,
          0.0041,
          0.0038,
          0.0036,
          0.0035,
          0.0035,
          0.0034,
          0.0032,
          0.0031,
          0.003,
          0.0029,
          0.0028,
          0.0026,
          0.0024,
          0.0024,
          0.0023,
          0.0022,
          0.0022,
          0.0022,
          0.0021,
          0.0021,
          0.002,
          0.002,
          0.002,
          0.0019,
          0.0019,
          0.0018,
          0.0018,
          0.0018,
          0.0018,
          0.0018,
          0.0018,
          0.0017,
          0.0017,
          0.0017,
          0.0016,
          0.0016,
          0.0016,
          0.0016,
          0.0016,
          0.0016,
          0.0016,
          0.0016,
          0.0016,
          0.0016,
          0.0015,
          0.0015,
          0.0015,
          0.0015,
          0.0015,
          0.0015,
          0.0015,
          0.0014,
          0.0014,
          0.0014,
          0.0014,
          0.0014,
          0.0014,
          0.0014,
          0.0014,
          0.0014,
          0.0014,
          0.0013,
          0.0013,
          0.0013,
          0.0013,
          0.0013,
          0.0013,
          0.0013,
          0.0013,
          0.0013,
          0.0012,
          0.0012,
          0.0012,
          0.0012,
          0.0012,
          0.0012,
          0.0012,
          0.0012,
          0.0012,
          0.0012,
          0.0012,
          0.0012,
          0.0012,
          0.0011,
          0.0011,
          0.0011,
          0.0011,
          0.0011,
          0.0011,
          0.0011,
          0.0011,
          0.0011,
          0.0011,
          0.0011,
          0.0011,
          0.0011,
          0.0011,
          0.0011,
          0.0011,
          0.0011,
          0.001,
          0.001,
          0.001,
          0.001,
          0.001,
          0.001,
          0.001,
          0.001,
          0.001,
          0.001,
          0.001,
          0.001,
          0.001,
          0.001,
          0.001,
          0.001,
          0.0009,
          0.0009,
          0.0009,
          0.0009,
          0.0009,
          0.0009,
          0.0009,
          0.0009,
          0.0009,
          0.0009,
          0.0009,
          0.0009,
          0.0009,
          0.0009,
          0.0009,
          0.0008,
          0.0008,
          0.0008,
          0.0008,
          0.0008,
          0.0008,
          0.0008,
          0.0008,
          0.0008,
          0.0008,
          0.0008,
          0.0008,
          0.0008,
          0.0008,
          0.0008,
          0.0008,
          0.0008,
          0.0008,
          0.0008,
          0.0008,
          0.0007,
          0.0007,
          0.0007,
          0.0007,
          0.0007,
          0.0007,
          0.0007,
          0.0007,
          0.0007,
          0.0007,
          0.0007,
          0.0007,
          0.0007,
          0.0007,
          0.0007,
          0.0007,
          0.0007,
          0.0006,
          0.0006,
          0.0006,
          0.0006,
          0.0006,
          0.0006,
          0.0006,
          0.0006,
          0.0006,
          0.0006,
          0.0006,
          0.0006,
          0.0006,
          0.0006,
          0.0006,
          0.0006,
          0.0006,
          0.0005,
          0.0005,
          0.0005,
          0.0005,
          0.0005,
          0.0005,
          0.0005,
          0.0005,
          0.0005,
          0.0005,
          0.0005,
          0.0005,
          0.0005,
          0.0005,
          0.0005,
          0.0005,
          0.0004,
          0.0004,
          0.0004,
          0.0004,
          0.0004,
          0.0004,
          0.0004,
          0.0004,
          0.0004,
          0.0003,
          0.0003,
          0.0003,
          0.0002,
          0.0002
         ],
         "textposition": "outside",
         "type": "bar",
         "uid": "85c3b884-84d2-4321-b49b-822b32147a63",
         "x": [
          0.057440646289921536,
          0.05736086011242642,
          0.048746728692386006,
          0.048403728105174876,
          0.04793175941847664,
          0.04189740894928661,
          0.03391895253916919,
          0.033257424824464636,
          0.031489917045096544,
          0.024923105937772395,
          0.02454616680191318,
          0.022885149331086218,
          0.022546491664071886,
          0.020811575253621126,
          0.020472510125868773,
          0.019054111076862258,
          0.018735652740477067,
          0.018670017331375504,
          0.01807320104540327,
          0.017154743299062625,
          0.016475362239092208,
          0.015876185016843316,
          0.011796778530408556,
          0.010518342241295102,
          0.00988115541711034,
          0.009273087390449472,
          0.008156711162983983,
          0.006000448193086274,
          0.005301360453998649,
          0.00494006364305199,
          0.004933686368287832,
          0.004709070909686179,
          0.004689396430052965,
          0.0045166419096627445,
          0.004299722758455773,
          0.004146956715371981,
          0.0038417499084904207,
          0.003560005159745433,
          0.003513118184655153,
          0.003511123693347622,
          0.003379275517062872,
          0.003168779723825473,
          0.0031372890530471844,
          0.0029995838883414175,
          0.0028816555984901102,
          0.0027872105659753027,
          0.002567161703057427,
          0.00241495841234598,
          0.0024057609050073953,
          0.0023423803989866664,
          0.002210395893831107,
          0.002198645354191914,
          0.002195361448075228,
          0.0020870903784743476,
          0.002082367852430107,
          0.002009128779729885,
          0.0019721754863346874,
          0.0019707106051581606,
          0.0019475227616134944,
          0.0019008480270455974,
          0.0018256528541405947,
          0.0018041041857334817,
          0.001773397015703133,
          0.001762426515054155,
          0.001762119057292584,
          0.001758833538021184,
          0.0017405118990746074,
          0.0017257719558351479,
          0.0016734973177992415,
          0.001636540925222896,
          0.0016301753094551316,
          0.001619898003758515,
          0.0016114460177660348,
          0.0016091589701592941,
          0.0015959302638564345,
          0.0015953465590633016,
          0.0015733054570949265,
          0.0015602865585775739,
          0.0015565359938453712,
          0.0015327116983897592,
          0.0015307906475257064,
          0.0015305252499188161,
          0.0015268944144352194,
          0.0015103297374475778,
          0.0014909360057273836,
          0.001486040113523894,
          0.0014444280348206678,
          0.0014441791841697741,
          0.001438310898022564,
          0.0014220661259440738,
          0.0014072060108376182,
          0.0014067825953192584,
          0.0013808760592407012,
          0.001367026966590163,
          0.0013639317636028581,
          0.0013554460061736282,
          0.001348783456424,
          0.0013335545535131733,
          0.0013296540741206788,
          0.00132405405747127,
          0.0013072579887727673,
          0.0012963698935426662,
          0.0012868212912991934,
          0.0012611543080543865,
          0.0012521492096916062,
          0.0012448106992784447,
          0.0012446989058729466,
          0.0012432292343585022,
          0.001227853369436083,
          0.0012206761538983146,
          0.0011879658922679828,
          0.00118675074084719,
          0.001182867625728933,
          0.0011814422380535111,
          0.0011670638783705036,
          0.0011622819475915144,
          0.0011602659151976418,
          0.0011511023487630995,
          0.0011480058671787328,
          0.0011471662682892316,
          0.0011300652309759898,
          0.001127630249764616,
          0.001108662094495914,
          0.0011035461475457553,
          0.001103034483532441,
          0.0011024056821169101,
          0.0010995122463901645,
          0.0010816458792371878,
          0.0010677844833158227,
          0.0010655872837741567,
          0.0010631329762902104,
          0.00106180912785002,
          0.001059844909717936,
          0.0010560923710211728,
          0.0010541883120915843,
          0.0010431396869570344,
          0.0010402273727589332,
          0.0010347692042513247,
          0.001032204143161538,
          0.0010241785521553901,
          0.0010218395950183602,
          0.001013720095564229,
          0.0010135101676308454,
          0.001013433375769138,
          0.0010099440500700421,
          0.001003686952654107,
          0.0010024776134151248,
          0.000996579277745163,
          0.0009704615433799387,
          0.0009665356892310026,
          0.0009527490798550516,
          0.000948286806518532,
          0.0009478202186756888,
          0.0009396901815229779,
          0.0009341986708635489,
          0.0009301778369995064,
          0.0009207049601500996,
          0.0009099307090096599,
          0.000905940303371276,
          0.000883213868629561,
          0.0008801330718989966,
          0.0008760855076761551,
          0.0008652045334094608,
          0.0008595078785562525,
          0.0008548886213048888,
          0.0008522696059878299,
          0.000845699452999862,
          0.0008442889463974513,
          0.000838381855933948,
          0.0008380005102424646,
          0.0008360483258757161,
          0.000832674833561894,
          0.0008326649321214987,
          0.000825093289723917,
          0.0008228602048786795,
          0.0008209126623985802,
          0.0008195670701232273,
          0.0008186363524616438,
          0.0008122816194350002,
          0.0007975099321176888,
          0.0007947728858887427,
          0.0007932371453618138,
          0.0007721983801711518,
          0.0007689176079178929,
          0.0007602927848687757,
          0.0007562067364314233,
          0.0007469791956136153,
          0.0007420086607565696,
          0.0007307472958541855,
          0.0007127789372040554,
          0.0007126305388095801,
          0.000706811371013066,
          0.0007034586523150127,
          0.0006987385997178559,
          0.0006919367884256608,
          0.0006899848245021778,
          0.0006881301501945038,
          0.0006870554650454826,
          0.0006857809003379885,
          0.0006847181175533396,
          0.000669825863010548,
          0.0006583845349553132,
          0.0006544539918792554,
          0.0006475998823744043,
          0.0006385469080059887,
          0.0006328914268182667,
          0.0006259971419227602,
          0.000623467957001522,
          0.0006171456340994133,
          0.0006071608540523498,
          0.0006049965373492358,
          0.0006000031219773648,
          0.0005936822868412564,
          0.0005934834180658416,
          0.0005842919803491067,
          0.0005814814849625252,
          0.0005750875426502976,
          0.0005573130168055869,
          0.0005540389549007263,
          0.0005525852421954841,
          0.0005399390956457083,
          0.0005349477300987741,
          0.0005275662333912096,
          0.0005261093438191783,
          0.0005251999793334484,
          0.0005239009615798277,
          0.0005235362405766326,
          0.000518738933863571,
          0.0005112035791401936,
          0.0005001858710049701,
          0.0004789398655879091,
          0.000475609403408909,
          0.0004674806981425285,
          0.0004643203512967057,
          0.000463184746375055,
          0.00045245798215291317,
          0.0004270132725803547,
          0.0004167010745355623,
          0.00041100086535764287,
          0.0004078529460179857,
          0.00038616377661205924,
          0.00037764997088772284,
          0.0003672562790651969,
          0.0003666852133687217,
          0.0003569505049591829,
          0.0003250665437170478,
          0.00028893288646996443,
          0.00027575551585421555,
          0.00021274642166907345,
          0.00016119116452184315
         ],
         "y": [
          "110",
          "28",
          "146",
          "160",
          "31",
          "27",
          "59",
          "30",
          "0",
          "40",
          "4",
          "85",
          "32",
          "66",
          "34",
          "60",
          "150",
          "7",
          "55",
          "119",
          "5",
          "194",
          "81",
          "98",
          "197",
          "91",
          "24",
          "23",
          "204",
          "44",
          "77",
          "95",
          "111",
          "187",
          "107",
          "58",
          "106",
          "71",
          "157",
          "171",
          "19",
          "210",
          "83",
          "237",
          "223",
          "90",
          "2",
          "190",
          "108",
          "139",
          "8",
          "212",
          "64",
          "202",
          "133",
          "195",
          "144",
          "38",
          "174",
          "29",
          "86",
          "67",
          "53",
          "11",
          "180",
          "80",
          "45",
          "236",
          "245",
          "35",
          "220",
          "13",
          "129",
          "61",
          "14",
          "49",
          "198",
          "132",
          "1",
          "26",
          "25",
          "185",
          "203",
          "167",
          "217",
          "21",
          "33",
          "121",
          "6",
          "74",
          "193",
          "88",
          "154",
          "62",
          "79",
          "109",
          "218",
          "135",
          "182",
          "47",
          "209",
          "235",
          "39",
          "124",
          "127",
          "155",
          "145",
          "165",
          "232",
          "166",
          "93",
          "82",
          "15",
          "177",
          "143",
          "36",
          "221",
          "118",
          "126",
          "116",
          "216",
          "50",
          "229",
          "131",
          "192",
          "207",
          "186",
          "78",
          "3",
          "140",
          "153",
          "249",
          "152",
          "10",
          "246",
          "43",
          "141",
          "113",
          "63",
          "72",
          "130",
          "57",
          "115",
          "248",
          "183",
          "22",
          "12",
          "114",
          "112",
          "101",
          "84",
          "54",
          "173",
          "20",
          "117",
          "94",
          "17",
          "213",
          "247",
          "46",
          "206",
          "97",
          "200",
          "201",
          "219",
          "102",
          "244",
          "16",
          "69",
          "215",
          "136",
          "164",
          "188",
          "222",
          "239",
          "225",
          "96",
          "52",
          "9",
          "181",
          "70",
          "68",
          "104",
          "92",
          "158",
          "51",
          "224",
          "243",
          "199",
          "208",
          "18",
          "191",
          "214",
          "37",
          "233",
          "41",
          "134",
          "162",
          "89",
          "175",
          "161",
          "56",
          "123",
          "178",
          "172",
          "238",
          "120",
          "168",
          "240",
          "125",
          "156",
          "179",
          "169",
          "42",
          "228",
          "87",
          "65",
          "226",
          "242",
          "100",
          "76",
          "48",
          "196",
          "227",
          "151",
          "142",
          "159",
          "147",
          "75",
          "184",
          "105",
          "163",
          "138",
          "148",
          "73",
          "149",
          "189",
          "128",
          "241",
          "205",
          "176",
          "99",
          "211",
          "234",
          "170",
          "230",
          "122",
          "103",
          "231",
          "137"
         ]
        }
       ],
       "layout": {
        "autosize": false,
        "height": 1000,
        "width": 1000,
        "xaxis": {
         "tickfont": {
          "color": "black",
          "size": 12
         },
         "title": "Feature Importances"
        },
        "yaxis": {
         "automargin": true
        }
       }
      },
      "text/html": [
       "<div id=\"97097669-ec72-4fcb-9894-87436906b4f8\" style=\"height: 1000px; width: 1000px;\" class=\"plotly-graph-div\"></div><script type=\"text/javascript\">require([\"plotly\"], function(Plotly) { window.PLOTLYENV=window.PLOTLYENV || {};window.PLOTLYENV.BASE_URL=\"https://plot.ly\";Plotly.newPlot(\"97097669-ec72-4fcb-9894-87436906b4f8\", [{\"marker\": {\"color\": \"rgb(158,202,225)\", \"line\": {\"color\": \"rgb(8,48,107)\", \"width\": 1.5}}, \"opacity\": 0.6, \"orientation\": \"h\", \"text\": [0.0574, 0.0574, 0.0487, 0.0484, 0.0479, 0.0419, 0.0339, 0.0333, 0.0315, 0.0249, 0.0245, 0.0229, 0.0225, 0.0208, 0.0205, 0.0191, 0.0187, 0.0187, 0.0181, 0.0172, 0.0165, 0.0159, 0.0118, 0.0105, 0.0099, 0.0093, 0.0082, 0.006, 0.0053, 0.0049, 0.0049, 0.0047, 0.0047, 0.0045, 0.0043, 0.0041, 0.0038, 0.0036, 0.0035, 0.0035, 0.0034, 0.0032, 0.0031, 0.003, 0.0029, 0.0028, 0.0026, 0.0024, 0.0024, 0.0023, 0.0022, 0.0022, 0.0022, 0.0021, 0.0021, 0.002, 0.002, 0.002, 0.0019, 0.0019, 0.0018, 0.0018, 0.0018, 0.0018, 0.0018, 0.0018, 0.0017, 0.0017, 0.0017, 0.0016, 0.0016, 0.0016, 0.0016, 0.0016, 0.0016, 0.0016, 0.0016, 0.0016, 0.0016, 0.0015, 0.0015, 0.0015, 0.0015, 0.0015, 0.0015, 0.0015, 0.0014, 0.0014, 0.0014, 0.0014, 0.0014, 0.0014, 0.0014, 0.0014, 0.0014, 0.0014, 0.0013, 0.0013, 0.0013, 0.0013, 0.0013, 0.0013, 0.0013, 0.0013, 0.0013, 0.0012, 0.0012, 0.0012, 0.0012, 0.0012, 0.0012, 0.0012, 0.0012, 0.0012, 0.0012, 0.0012, 0.0012, 0.0012, 0.0011, 0.0011, 0.0011, 0.0011, 0.0011, 0.0011, 0.0011, 0.0011, 0.0011, 0.0011, 0.0011, 0.0011, 0.0011, 0.0011, 0.0011, 0.0011, 0.0011, 0.001, 0.001, 0.001, 0.001, 0.001, 0.001, 0.001, 0.001, 0.001, 0.001, 0.001, 0.001, 0.001, 0.001, 0.001, 0.001, 0.0009, 0.0009, 0.0009, 0.0009, 0.0009, 0.0009, 0.0009, 0.0009, 0.0009, 0.0009, 0.0009, 0.0009, 0.0009, 0.0009, 0.0009, 0.0008, 0.0008, 0.0008, 0.0008, 0.0008, 0.0008, 0.0008, 0.0008, 0.0008, 0.0008, 0.0008, 0.0008, 0.0008, 0.0008, 0.0008, 0.0008, 0.0008, 0.0008, 0.0008, 0.0008, 0.0007, 0.0007, 0.0007, 0.0007, 0.0007, 0.0007, 0.0007, 0.0007, 0.0007, 0.0007, 0.0007, 0.0007, 0.0007, 0.0007, 0.0007, 0.0007, 0.0007, 0.0006, 0.0006, 0.0006, 0.0006, 0.0006, 0.0006, 0.0006, 0.0006, 0.0006, 0.0006, 0.0006, 0.0006, 0.0006, 0.0006, 0.0006, 0.0006, 0.0006, 0.0005, 0.0005, 0.0005, 0.0005, 0.0005, 0.0005, 0.0005, 0.0005, 0.0005, 0.0005, 0.0005, 0.0005, 0.0005, 0.0005, 0.0005, 0.0005, 0.0004, 0.0004, 0.0004, 0.0004, 0.0004, 0.0004, 0.0004, 0.0004, 0.0004, 0.0003, 0.0003, 0.0003, 0.0002, 0.0002], \"textposition\": \"outside\", \"x\": [0.057440646289921536, 0.05736086011242642, 0.048746728692386006, 0.048403728105174876, 0.04793175941847664, 0.04189740894928661, 0.03391895253916919, 0.033257424824464636, 0.031489917045096544, 0.024923105937772395, 0.02454616680191318, 0.022885149331086218, 0.022546491664071886, 0.020811575253621126, 0.020472510125868773, 0.019054111076862258, 0.018735652740477067, 0.018670017331375504, 0.01807320104540327, 0.017154743299062625, 0.016475362239092208, 0.015876185016843316, 0.011796778530408556, 0.010518342241295102, 0.00988115541711034, 0.009273087390449472, 0.008156711162983983, 0.006000448193086274, 0.005301360453998649, 0.00494006364305199, 0.004933686368287832, 0.004709070909686179, 0.004689396430052965, 0.0045166419096627445, 0.004299722758455773, 0.004146956715371981, 0.0038417499084904207, 0.003560005159745433, 0.003513118184655153, 0.003511123693347622, 0.003379275517062872, 0.003168779723825473, 0.0031372890530471844, 0.0029995838883414175, 0.0028816555984901102, 0.0027872105659753027, 0.002567161703057427, 0.00241495841234598, 0.0024057609050073953, 0.0023423803989866664, 0.002210395893831107, 0.002198645354191914, 0.002195361448075228, 0.0020870903784743476, 0.002082367852430107, 0.002009128779729885, 0.0019721754863346874, 0.0019707106051581606, 0.0019475227616134944, 0.0019008480270455974, 0.0018256528541405947, 0.0018041041857334817, 0.001773397015703133, 0.001762426515054155, 0.001762119057292584, 0.001758833538021184, 0.0017405118990746074, 0.0017257719558351479, 0.0016734973177992415, 0.001636540925222896, 0.0016301753094551316, 0.001619898003758515, 0.0016114460177660348, 0.0016091589701592941, 0.0015959302638564345, 0.0015953465590633016, 0.0015733054570949265, 0.0015602865585775739, 0.0015565359938453712, 0.0015327116983897592, 0.0015307906475257064, 0.0015305252499188161, 0.0015268944144352194, 0.0015103297374475778, 0.0014909360057273836, 0.001486040113523894, 0.0014444280348206678, 0.0014441791841697741, 0.001438310898022564, 0.0014220661259440738, 0.0014072060108376182, 0.0014067825953192584, 0.0013808760592407012, 0.001367026966590163, 0.0013639317636028581, 0.0013554460061736282, 0.001348783456424, 0.0013335545535131733, 0.0013296540741206788, 0.00132405405747127, 0.0013072579887727673, 0.0012963698935426662, 0.0012868212912991934, 0.0012611543080543865, 0.0012521492096916062, 0.0012448106992784447, 0.0012446989058729466, 0.0012432292343585022, 0.001227853369436083, 0.0012206761538983146, 0.0011879658922679828, 0.00118675074084719, 0.001182867625728933, 0.0011814422380535111, 0.0011670638783705036, 0.0011622819475915144, 0.0011602659151976418, 0.0011511023487630995, 0.0011480058671787328, 0.0011471662682892316, 0.0011300652309759898, 0.001127630249764616, 0.001108662094495914, 0.0011035461475457553, 0.001103034483532441, 0.0011024056821169101, 0.0010995122463901645, 0.0010816458792371878, 0.0010677844833158227, 0.0010655872837741567, 0.0010631329762902104, 0.00106180912785002, 0.001059844909717936, 0.0010560923710211728, 0.0010541883120915843, 0.0010431396869570344, 0.0010402273727589332, 0.0010347692042513247, 0.001032204143161538, 0.0010241785521553901, 0.0010218395950183602, 0.001013720095564229, 0.0010135101676308454, 0.001013433375769138, 0.0010099440500700421, 0.001003686952654107, 0.0010024776134151248, 0.000996579277745163, 0.0009704615433799387, 0.0009665356892310026, 0.0009527490798550516, 0.000948286806518532, 0.0009478202186756888, 0.0009396901815229779, 0.0009341986708635489, 0.0009301778369995064, 0.0009207049601500996, 0.0009099307090096599, 0.000905940303371276, 0.000883213868629561, 0.0008801330718989966, 0.0008760855076761551, 0.0008652045334094608, 0.0008595078785562525, 0.0008548886213048888, 0.0008522696059878299, 0.000845699452999862, 0.0008442889463974513, 0.000838381855933948, 0.0008380005102424646, 0.0008360483258757161, 0.000832674833561894, 0.0008326649321214987, 0.000825093289723917, 0.0008228602048786795, 0.0008209126623985802, 0.0008195670701232273, 0.0008186363524616438, 0.0008122816194350002, 0.0007975099321176888, 0.0007947728858887427, 0.0007932371453618138, 0.0007721983801711518, 0.0007689176079178929, 0.0007602927848687757, 0.0007562067364314233, 0.0007469791956136153, 0.0007420086607565696, 0.0007307472958541855, 0.0007127789372040554, 0.0007126305388095801, 0.000706811371013066, 0.0007034586523150127, 0.0006987385997178559, 0.0006919367884256608, 0.0006899848245021778, 0.0006881301501945038, 0.0006870554650454826, 0.0006857809003379885, 0.0006847181175533396, 0.000669825863010548, 0.0006583845349553132, 0.0006544539918792554, 0.0006475998823744043, 0.0006385469080059887, 0.0006328914268182667, 0.0006259971419227602, 0.000623467957001522, 0.0006171456340994133, 0.0006071608540523498, 0.0006049965373492358, 0.0006000031219773648, 0.0005936822868412564, 0.0005934834180658416, 0.0005842919803491067, 0.0005814814849625252, 0.0005750875426502976, 0.0005573130168055869, 0.0005540389549007263, 0.0005525852421954841, 0.0005399390956457083, 0.0005349477300987741, 0.0005275662333912096, 0.0005261093438191783, 0.0005251999793334484, 0.0005239009615798277, 0.0005235362405766326, 0.000518738933863571, 0.0005112035791401936, 0.0005001858710049701, 0.0004789398655879091, 0.000475609403408909, 0.0004674806981425285, 0.0004643203512967057, 0.000463184746375055, 0.00045245798215291317, 0.0004270132725803547, 0.0004167010745355623, 0.00041100086535764287, 0.0004078529460179857, 0.00038616377661205924, 0.00037764997088772284, 0.0003672562790651969, 0.0003666852133687217, 0.0003569505049591829, 0.0003250665437170478, 0.00028893288646996443, 0.00027575551585421555, 0.00021274642166907345, 0.00016119116452184315], \"y\": [\"110\", \"28\", \"146\", \"160\", \"31\", \"27\", \"59\", \"30\", \"0\", \"40\", \"4\", \"85\", \"32\", \"66\", \"34\", \"60\", \"150\", \"7\", \"55\", \"119\", \"5\", \"194\", \"81\", \"98\", \"197\", \"91\", \"24\", \"23\", \"204\", \"44\", \"77\", \"95\", \"111\", \"187\", \"107\", \"58\", \"106\", \"71\", \"157\", \"171\", \"19\", \"210\", \"83\", \"237\", \"223\", \"90\", \"2\", \"190\", \"108\", \"139\", \"8\", \"212\", \"64\", \"202\", \"133\", \"195\", \"144\", \"38\", \"174\", \"29\", \"86\", \"67\", \"53\", \"11\", \"180\", \"80\", \"45\", \"236\", \"245\", \"35\", \"220\", \"13\", \"129\", \"61\", \"14\", \"49\", \"198\", \"132\", \"1\", \"26\", \"25\", \"185\", \"203\", \"167\", \"217\", \"21\", \"33\", \"121\", \"6\", \"74\", \"193\", \"88\", \"154\", \"62\", \"79\", \"109\", \"218\", \"135\", \"182\", \"47\", \"209\", \"235\", \"39\", \"124\", \"127\", \"155\", \"145\", \"165\", \"232\", \"166\", \"93\", \"82\", \"15\", \"177\", \"143\", \"36\", \"221\", \"118\", \"126\", \"116\", \"216\", \"50\", \"229\", \"131\", \"192\", \"207\", \"186\", \"78\", \"3\", \"140\", \"153\", \"249\", \"152\", \"10\", \"246\", \"43\", \"141\", \"113\", \"63\", \"72\", \"130\", \"57\", \"115\", \"248\", \"183\", \"22\", \"12\", \"114\", \"112\", \"101\", \"84\", \"54\", \"173\", \"20\", \"117\", \"94\", \"17\", \"213\", \"247\", \"46\", \"206\", \"97\", \"200\", \"201\", \"219\", \"102\", \"244\", \"16\", \"69\", \"215\", \"136\", \"164\", \"188\", \"222\", \"239\", \"225\", \"96\", \"52\", \"9\", \"181\", \"70\", \"68\", \"104\", \"92\", \"158\", \"51\", \"224\", \"243\", \"199\", \"208\", \"18\", \"191\", \"214\", \"37\", \"233\", \"41\", \"134\", \"162\", \"89\", \"175\", \"161\", \"56\", \"123\", \"178\", \"172\", \"238\", \"120\", \"168\", \"240\", \"125\", \"156\", \"179\", \"169\", \"42\", \"228\", \"87\", \"65\", \"226\", \"242\", \"100\", \"76\", \"48\", \"196\", \"227\", \"151\", \"142\", \"159\", \"147\", \"75\", \"184\", \"105\", \"163\", \"138\", \"148\", \"73\", \"149\", \"189\", \"128\", \"241\", \"205\", \"176\", \"99\", \"211\", \"234\", \"170\", \"230\", \"122\", \"103\", \"231\", \"137\"], \"type\": \"bar\", \"uid\": \"85c3b884-84d2-4321-b49b-822b32147a63\"}], {\"autosize\": false, \"height\": 1000, \"width\": 1000, \"xaxis\": {\"tickfont\": {\"color\": \"black\", \"size\": 12}, \"title\": \"Feature Importances\"}, \"yaxis\": {\"automargin\": true}}, {\"showLink\": true, \"linkText\": \"Export to plot.ly\", \"plotlyServerURL\": \"https://plot.ly\"})});</script>"
      ],
      "text/vnd.plotly.v1+html": [
       "<div id=\"97097669-ec72-4fcb-9894-87436906b4f8\" style=\"height: 1000px; width: 1000px;\" class=\"plotly-graph-div\"></div><script type=\"text/javascript\">require([\"plotly\"], function(Plotly) { window.PLOTLYENV=window.PLOTLYENV || {};window.PLOTLYENV.BASE_URL=\"https://plot.ly\";Plotly.newPlot(\"97097669-ec72-4fcb-9894-87436906b4f8\", [{\"marker\": {\"color\": \"rgb(158,202,225)\", \"line\": {\"color\": \"rgb(8,48,107)\", \"width\": 1.5}}, \"opacity\": 0.6, \"orientation\": \"h\", \"text\": [0.0574, 0.0574, 0.0487, 0.0484, 0.0479, 0.0419, 0.0339, 0.0333, 0.0315, 0.0249, 0.0245, 0.0229, 0.0225, 0.0208, 0.0205, 0.0191, 0.0187, 0.0187, 0.0181, 0.0172, 0.0165, 0.0159, 0.0118, 0.0105, 0.0099, 0.0093, 0.0082, 0.006, 0.0053, 0.0049, 0.0049, 0.0047, 0.0047, 0.0045, 0.0043, 0.0041, 0.0038, 0.0036, 0.0035, 0.0035, 0.0034, 0.0032, 0.0031, 0.003, 0.0029, 0.0028, 0.0026, 0.0024, 0.0024, 0.0023, 0.0022, 0.0022, 0.0022, 0.0021, 0.0021, 0.002, 0.002, 0.002, 0.0019, 0.0019, 0.0018, 0.0018, 0.0018, 0.0018, 0.0018, 0.0018, 0.0017, 0.0017, 0.0017, 0.0016, 0.0016, 0.0016, 0.0016, 0.0016, 0.0016, 0.0016, 0.0016, 0.0016, 0.0016, 0.0015, 0.0015, 0.0015, 0.0015, 0.0015, 0.0015, 0.0015, 0.0014, 0.0014, 0.0014, 0.0014, 0.0014, 0.0014, 0.0014, 0.0014, 0.0014, 0.0014, 0.0013, 0.0013, 0.0013, 0.0013, 0.0013, 0.0013, 0.0013, 0.0013, 0.0013, 0.0012, 0.0012, 0.0012, 0.0012, 0.0012, 0.0012, 0.0012, 0.0012, 0.0012, 0.0012, 0.0012, 0.0012, 0.0012, 0.0011, 0.0011, 0.0011, 0.0011, 0.0011, 0.0011, 0.0011, 0.0011, 0.0011, 0.0011, 0.0011, 0.0011, 0.0011, 0.0011, 0.0011, 0.0011, 0.0011, 0.001, 0.001, 0.001, 0.001, 0.001, 0.001, 0.001, 0.001, 0.001, 0.001, 0.001, 0.001, 0.001, 0.001, 0.001, 0.001, 0.0009, 0.0009, 0.0009, 0.0009, 0.0009, 0.0009, 0.0009, 0.0009, 0.0009, 0.0009, 0.0009, 0.0009, 0.0009, 0.0009, 0.0009, 0.0008, 0.0008, 0.0008, 0.0008, 0.0008, 0.0008, 0.0008, 0.0008, 0.0008, 0.0008, 0.0008, 0.0008, 0.0008, 0.0008, 0.0008, 0.0008, 0.0008, 0.0008, 0.0008, 0.0008, 0.0007, 0.0007, 0.0007, 0.0007, 0.0007, 0.0007, 0.0007, 0.0007, 0.0007, 0.0007, 0.0007, 0.0007, 0.0007, 0.0007, 0.0007, 0.0007, 0.0007, 0.0006, 0.0006, 0.0006, 0.0006, 0.0006, 0.0006, 0.0006, 0.0006, 0.0006, 0.0006, 0.0006, 0.0006, 0.0006, 0.0006, 0.0006, 0.0006, 0.0006, 0.0005, 0.0005, 0.0005, 0.0005, 0.0005, 0.0005, 0.0005, 0.0005, 0.0005, 0.0005, 0.0005, 0.0005, 0.0005, 0.0005, 0.0005, 0.0005, 0.0004, 0.0004, 0.0004, 0.0004, 0.0004, 0.0004, 0.0004, 0.0004, 0.0004, 0.0003, 0.0003, 0.0003, 0.0002, 0.0002], \"textposition\": \"outside\", \"x\": [0.057440646289921536, 0.05736086011242642, 0.048746728692386006, 0.048403728105174876, 0.04793175941847664, 0.04189740894928661, 0.03391895253916919, 0.033257424824464636, 0.031489917045096544, 0.024923105937772395, 0.02454616680191318, 0.022885149331086218, 0.022546491664071886, 0.020811575253621126, 0.020472510125868773, 0.019054111076862258, 0.018735652740477067, 0.018670017331375504, 0.01807320104540327, 0.017154743299062625, 0.016475362239092208, 0.015876185016843316, 0.011796778530408556, 0.010518342241295102, 0.00988115541711034, 0.009273087390449472, 0.008156711162983983, 0.006000448193086274, 0.005301360453998649, 0.00494006364305199, 0.004933686368287832, 0.004709070909686179, 0.004689396430052965, 0.0045166419096627445, 0.004299722758455773, 0.004146956715371981, 0.0038417499084904207, 0.003560005159745433, 0.003513118184655153, 0.003511123693347622, 0.003379275517062872, 0.003168779723825473, 0.0031372890530471844, 0.0029995838883414175, 0.0028816555984901102, 0.0027872105659753027, 0.002567161703057427, 0.00241495841234598, 0.0024057609050073953, 0.0023423803989866664, 0.002210395893831107, 0.002198645354191914, 0.002195361448075228, 0.0020870903784743476, 0.002082367852430107, 0.002009128779729885, 0.0019721754863346874, 0.0019707106051581606, 0.0019475227616134944, 0.0019008480270455974, 0.0018256528541405947, 0.0018041041857334817, 0.001773397015703133, 0.001762426515054155, 0.001762119057292584, 0.001758833538021184, 0.0017405118990746074, 0.0017257719558351479, 0.0016734973177992415, 0.001636540925222896, 0.0016301753094551316, 0.001619898003758515, 0.0016114460177660348, 0.0016091589701592941, 0.0015959302638564345, 0.0015953465590633016, 0.0015733054570949265, 0.0015602865585775739, 0.0015565359938453712, 0.0015327116983897592, 0.0015307906475257064, 0.0015305252499188161, 0.0015268944144352194, 0.0015103297374475778, 0.0014909360057273836, 0.001486040113523894, 0.0014444280348206678, 0.0014441791841697741, 0.001438310898022564, 0.0014220661259440738, 0.0014072060108376182, 0.0014067825953192584, 0.0013808760592407012, 0.001367026966590163, 0.0013639317636028581, 0.0013554460061736282, 0.001348783456424, 0.0013335545535131733, 0.0013296540741206788, 0.00132405405747127, 0.0013072579887727673, 0.0012963698935426662, 0.0012868212912991934, 0.0012611543080543865, 0.0012521492096916062, 0.0012448106992784447, 0.0012446989058729466, 0.0012432292343585022, 0.001227853369436083, 0.0012206761538983146, 0.0011879658922679828, 0.00118675074084719, 0.001182867625728933, 0.0011814422380535111, 0.0011670638783705036, 0.0011622819475915144, 0.0011602659151976418, 0.0011511023487630995, 0.0011480058671787328, 0.0011471662682892316, 0.0011300652309759898, 0.001127630249764616, 0.001108662094495914, 0.0011035461475457553, 0.001103034483532441, 0.0011024056821169101, 0.0010995122463901645, 0.0010816458792371878, 0.0010677844833158227, 0.0010655872837741567, 0.0010631329762902104, 0.00106180912785002, 0.001059844909717936, 0.0010560923710211728, 0.0010541883120915843, 0.0010431396869570344, 0.0010402273727589332, 0.0010347692042513247, 0.001032204143161538, 0.0010241785521553901, 0.0010218395950183602, 0.001013720095564229, 0.0010135101676308454, 0.001013433375769138, 0.0010099440500700421, 0.001003686952654107, 0.0010024776134151248, 0.000996579277745163, 0.0009704615433799387, 0.0009665356892310026, 0.0009527490798550516, 0.000948286806518532, 0.0009478202186756888, 0.0009396901815229779, 0.0009341986708635489, 0.0009301778369995064, 0.0009207049601500996, 0.0009099307090096599, 0.000905940303371276, 0.000883213868629561, 0.0008801330718989966, 0.0008760855076761551, 0.0008652045334094608, 0.0008595078785562525, 0.0008548886213048888, 0.0008522696059878299, 0.000845699452999862, 0.0008442889463974513, 0.000838381855933948, 0.0008380005102424646, 0.0008360483258757161, 0.000832674833561894, 0.0008326649321214987, 0.000825093289723917, 0.0008228602048786795, 0.0008209126623985802, 0.0008195670701232273, 0.0008186363524616438, 0.0008122816194350002, 0.0007975099321176888, 0.0007947728858887427, 0.0007932371453618138, 0.0007721983801711518, 0.0007689176079178929, 0.0007602927848687757, 0.0007562067364314233, 0.0007469791956136153, 0.0007420086607565696, 0.0007307472958541855, 0.0007127789372040554, 0.0007126305388095801, 0.000706811371013066, 0.0007034586523150127, 0.0006987385997178559, 0.0006919367884256608, 0.0006899848245021778, 0.0006881301501945038, 0.0006870554650454826, 0.0006857809003379885, 0.0006847181175533396, 0.000669825863010548, 0.0006583845349553132, 0.0006544539918792554, 0.0006475998823744043, 0.0006385469080059887, 0.0006328914268182667, 0.0006259971419227602, 0.000623467957001522, 0.0006171456340994133, 0.0006071608540523498, 0.0006049965373492358, 0.0006000031219773648, 0.0005936822868412564, 0.0005934834180658416, 0.0005842919803491067, 0.0005814814849625252, 0.0005750875426502976, 0.0005573130168055869, 0.0005540389549007263, 0.0005525852421954841, 0.0005399390956457083, 0.0005349477300987741, 0.0005275662333912096, 0.0005261093438191783, 0.0005251999793334484, 0.0005239009615798277, 0.0005235362405766326, 0.000518738933863571, 0.0005112035791401936, 0.0005001858710049701, 0.0004789398655879091, 0.000475609403408909, 0.0004674806981425285, 0.0004643203512967057, 0.000463184746375055, 0.00045245798215291317, 0.0004270132725803547, 0.0004167010745355623, 0.00041100086535764287, 0.0004078529460179857, 0.00038616377661205924, 0.00037764997088772284, 0.0003672562790651969, 0.0003666852133687217, 0.0003569505049591829, 0.0003250665437170478, 0.00028893288646996443, 0.00027575551585421555, 0.00021274642166907345, 0.00016119116452184315], \"y\": [\"110\", \"28\", \"146\", \"160\", \"31\", \"27\", \"59\", \"30\", \"0\", \"40\", \"4\", \"85\", \"32\", \"66\", \"34\", \"60\", \"150\", \"7\", \"55\", \"119\", \"5\", \"194\", \"81\", \"98\", \"197\", \"91\", \"24\", \"23\", \"204\", \"44\", \"77\", \"95\", \"111\", \"187\", \"107\", \"58\", \"106\", \"71\", \"157\", \"171\", \"19\", \"210\", \"83\", \"237\", \"223\", \"90\", \"2\", \"190\", \"108\", \"139\", \"8\", \"212\", \"64\", \"202\", \"133\", \"195\", \"144\", \"38\", \"174\", \"29\", \"86\", \"67\", \"53\", \"11\", \"180\", \"80\", \"45\", \"236\", \"245\", \"35\", \"220\", \"13\", \"129\", \"61\", \"14\", \"49\", \"198\", \"132\", \"1\", \"26\", \"25\", \"185\", \"203\", \"167\", \"217\", \"21\", \"33\", \"121\", \"6\", \"74\", \"193\", \"88\", \"154\", \"62\", \"79\", \"109\", \"218\", \"135\", \"182\", \"47\", \"209\", \"235\", \"39\", \"124\", \"127\", \"155\", \"145\", \"165\", \"232\", \"166\", \"93\", \"82\", \"15\", \"177\", \"143\", \"36\", \"221\", \"118\", \"126\", \"116\", \"216\", \"50\", \"229\", \"131\", \"192\", \"207\", \"186\", \"78\", \"3\", \"140\", \"153\", \"249\", \"152\", \"10\", \"246\", \"43\", \"141\", \"113\", \"63\", \"72\", \"130\", \"57\", \"115\", \"248\", \"183\", \"22\", \"12\", \"114\", \"112\", \"101\", \"84\", \"54\", \"173\", \"20\", \"117\", \"94\", \"17\", \"213\", \"247\", \"46\", \"206\", \"97\", \"200\", \"201\", \"219\", \"102\", \"244\", \"16\", \"69\", \"215\", \"136\", \"164\", \"188\", \"222\", \"239\", \"225\", \"96\", \"52\", \"9\", \"181\", \"70\", \"68\", \"104\", \"92\", \"158\", \"51\", \"224\", \"243\", \"199\", \"208\", \"18\", \"191\", \"214\", \"37\", \"233\", \"41\", \"134\", \"162\", \"89\", \"175\", \"161\", \"56\", \"123\", \"178\", \"172\", \"238\", \"120\", \"168\", \"240\", \"125\", \"156\", \"179\", \"169\", \"42\", \"228\", \"87\", \"65\", \"226\", \"242\", \"100\", \"76\", \"48\", \"196\", \"227\", \"151\", \"142\", \"159\", \"147\", \"75\", \"184\", \"105\", \"163\", \"138\", \"148\", \"73\", \"149\", \"189\", \"128\", \"241\", \"205\", \"176\", \"99\", \"211\", \"234\", \"170\", \"230\", \"122\", \"103\", \"231\", \"137\"], \"type\": \"bar\", \"uid\": \"85c3b884-84d2-4321-b49b-822b32147a63\"}], {\"autosize\": false, \"height\": 1000, \"width\": 1000, \"xaxis\": {\"tickfont\": {\"color\": \"black\", \"size\": 12}, \"title\": \"Feature Importances\"}, \"yaxis\": {\"automargin\": true}}, {\"showLink\": true, \"linkText\": \"Export to plot.ly\", \"plotlyServerURL\": \"https://plot.ly\"})});</script>"
      ]
     },
     "metadata": {},
     "output_type": "display_data"
    },
    {
     "name": "stdout",
     "output_type": "stream",
     "text": [
      "\n",
      "\n",
      "\u001b[1mAdaoost Classifier\u001b[0m\n",
      "Accuracy of the model for training data is: 0.9010314019182761\n",
      "Confusion Matrix for training data is:\n"
     ]
    },
    {
     "data": {
      "text/plain": [
       "Predicted  False  True  __all__\n",
       "Actual                         \n",
       "False      23640  2376    26016\n",
       "True         637  3791     4428\n",
       "__all__    24277  6167    30444"
      ]
     },
     "metadata": {},
     "output_type": "display_data"
    },
    {
     "name": "stdout",
     "output_type": "stream",
     "text": [
      "Accuracy of the model for test data is: 0.9018165095424235\n",
      "Confusion Matrix for test data is:\n"
     ]
    },
    {
     "data": {
      "text/plain": [
       "Predicted  False  True  __all__\n",
       "Actual                         \n",
       "False      10088  1010    11098\n",
       "True         271  1678     1949\n",
       "__all__    10359  2688    13047"
      ]
     },
     "metadata": {},
     "output_type": "display_data"
    },
    {
     "data": {
      "application/vnd.plotly.v1+json": {
       "config": {
        "linkText": "Export to plot.ly",
        "plotlyServerURL": "https://plot.ly",
        "showLink": true
       },
       "data": [
        {
         "marker": {
          "color": "rgb(158,202,225)",
          "line": {
           "color": "rgb(8,48,107)",
           "width": 1.5
          }
         },
         "opacity": 0.6,
         "orientation": "h",
         "text": [
          0.08,
          0.04,
          0.04,
          0.04,
          0.02,
          0.02,
          0.02,
          0.02,
          0.02,
          0.02,
          0.02,
          0.02,
          0.02,
          0.02,
          0.02,
          0.02,
          0.02,
          0.02,
          0.02,
          0.02,
          0.02,
          0.02,
          0.02,
          0.02,
          0.02,
          0.02,
          0.02,
          0.02,
          0.02,
          0.02,
          0.02,
          0.02,
          0.02,
          0.02,
          0.02,
          0.02,
          0.02,
          0.02,
          0.02,
          0.02,
          0.02,
          0.02,
          0.02,
          0.02,
          0,
          0,
          0,
          0,
          0,
          0,
          0,
          0,
          0,
          0,
          0,
          0,
          0,
          0,
          0,
          0,
          0,
          0,
          0,
          0,
          0,
          0,
          0,
          0,
          0,
          0,
          0,
          0,
          0,
          0,
          0,
          0,
          0,
          0,
          0,
          0,
          0,
          0,
          0,
          0,
          0,
          0,
          0,
          0,
          0,
          0,
          0,
          0,
          0,
          0,
          0,
          0,
          0,
          0,
          0,
          0,
          0,
          0,
          0,
          0,
          0,
          0,
          0,
          0,
          0,
          0,
          0,
          0,
          0,
          0,
          0,
          0,
          0,
          0,
          0,
          0,
          0,
          0,
          0,
          0,
          0,
          0,
          0,
          0,
          0,
          0,
          0,
          0,
          0,
          0,
          0,
          0,
          0,
          0,
          0,
          0,
          0,
          0,
          0,
          0,
          0,
          0,
          0,
          0,
          0,
          0,
          0,
          0,
          0,
          0,
          0,
          0,
          0,
          0,
          0,
          0,
          0,
          0,
          0,
          0,
          0,
          0,
          0,
          0,
          0,
          0,
          0,
          0,
          0,
          0,
          0,
          0,
          0,
          0,
          0,
          0,
          0,
          0,
          0,
          0,
          0,
          0,
          0,
          0,
          0,
          0,
          0,
          0,
          0,
          0,
          0,
          0,
          0,
          0,
          0,
          0,
          0,
          0,
          0,
          0,
          0,
          0,
          0,
          0,
          0,
          0,
          0,
          0,
          0,
          0,
          0,
          0,
          0,
          0,
          0,
          0,
          0,
          0,
          0,
          0,
          0,
          0,
          0,
          0,
          0,
          0,
          0,
          0,
          0,
          0,
          0,
          0,
          0,
          0,
          0,
          0,
          0,
          0,
          0,
          0,
          0,
          0,
          0,
          0,
          0,
          0
         ],
         "textposition": "outside",
         "type": "bar",
         "uid": "3f918d15-0841-4551-a5b9-6609f94b5fe0",
         "x": [
          0.08,
          0.04,
          0.04,
          0.04,
          0.02,
          0.02,
          0.02,
          0.02,
          0.02,
          0.02,
          0.02,
          0.02,
          0.02,
          0.02,
          0.02,
          0.02,
          0.02,
          0.02,
          0.02,
          0.02,
          0.02,
          0.02,
          0.02,
          0.02,
          0.02,
          0.02,
          0.02,
          0.02,
          0.02,
          0.02,
          0.02,
          0.02,
          0.02,
          0.02,
          0.02,
          0.02,
          0.02,
          0.02,
          0.02,
          0.02,
          0.02,
          0.02,
          0.02,
          0.02,
          0,
          0,
          0,
          0,
          0,
          0,
          0,
          0,
          0,
          0,
          0,
          0,
          0,
          0,
          0,
          0,
          0,
          0,
          0,
          0,
          0,
          0,
          0,
          0,
          0,
          0,
          0,
          0,
          0,
          0,
          0,
          0,
          0,
          0,
          0,
          0,
          0,
          0,
          0,
          0,
          0,
          0,
          0,
          0,
          0,
          0,
          0,
          0,
          0,
          0,
          0,
          0,
          0,
          0,
          0,
          0,
          0,
          0,
          0,
          0,
          0,
          0,
          0,
          0,
          0,
          0,
          0,
          0,
          0,
          0,
          0,
          0,
          0,
          0,
          0,
          0,
          0,
          0,
          0,
          0,
          0,
          0,
          0,
          0,
          0,
          0,
          0,
          0,
          0,
          0,
          0,
          0,
          0,
          0,
          0,
          0,
          0,
          0,
          0,
          0,
          0,
          0,
          0,
          0,
          0,
          0,
          0,
          0,
          0,
          0,
          0,
          0,
          0,
          0,
          0,
          0,
          0,
          0,
          0,
          0,
          0,
          0,
          0,
          0,
          0,
          0,
          0,
          0,
          0,
          0,
          0,
          0,
          0,
          0,
          0,
          0,
          0,
          0,
          0,
          0,
          0,
          0,
          0,
          0,
          0,
          0,
          0,
          0,
          0,
          0,
          0,
          0,
          0,
          0,
          0,
          0,
          0,
          0,
          0,
          0,
          0,
          0,
          0,
          0,
          0,
          0,
          0,
          0,
          0,
          0,
          0,
          0,
          0,
          0,
          0,
          0,
          0,
          0,
          0,
          0,
          0,
          0,
          0,
          0,
          0,
          0,
          0,
          0,
          0,
          0,
          0,
          0,
          0,
          0,
          0,
          0,
          0,
          0,
          0,
          0,
          0,
          0,
          0,
          0,
          0,
          0
         ],
         "y": [
          "0",
          "2",
          "37",
          "98",
          "104",
          "32",
          "116",
          "39",
          "188",
          "165",
          "43",
          "166",
          "46",
          "171",
          "212",
          "57",
          "102",
          "158",
          "176",
          "60",
          "61",
          "63",
          "97",
          "67",
          "94",
          "71",
          "91",
          "86",
          "228",
          "83",
          "157",
          "23",
          "3",
          "246",
          "7",
          "10",
          "131",
          "156",
          "19",
          "20",
          "15",
          "234",
          "1",
          "27",
          "163",
          "181",
          "145",
          "178",
          "160",
          "179",
          "159",
          "180",
          "144",
          "182",
          "143",
          "161",
          "183",
          "184",
          "185",
          "186",
          "187",
          "146",
          "147",
          "177",
          "151",
          "153",
          "167",
          "168",
          "169",
          "170",
          "152",
          "172",
          "173",
          "154",
          "150",
          "174",
          "155",
          "162",
          "175",
          "149",
          "148",
          "164",
          "199",
          "189",
          "219",
          "221",
          "222",
          "223",
          "224",
          "225",
          "226",
          "227",
          "229",
          "230",
          "231",
          "232",
          "233",
          "235",
          "236",
          "237",
          "238",
          "239",
          "240",
          "241",
          "242",
          "243",
          "244",
          "245",
          "247",
          "248",
          "220",
          "218",
          "190",
          "217",
          "191",
          "192",
          "193",
          "194",
          "195",
          "196",
          "197",
          "198",
          "141",
          "200",
          "201",
          "202",
          "203",
          "204",
          "205",
          "206",
          "207",
          "208",
          "209",
          "210",
          "211",
          "213",
          "214",
          "215",
          "216",
          "142",
          "125",
          "140",
          "54",
          "41",
          "42",
          "44",
          "45",
          "47",
          "48",
          "49",
          "50",
          "51",
          "52",
          "53",
          "55",
          "74",
          "56",
          "58",
          "59",
          "62",
          "64",
          "65",
          "66",
          "68",
          "69",
          "70",
          "72",
          "40",
          "38",
          "36",
          "35",
          "4",
          "5",
          "6",
          "8",
          "9",
          "11",
          "12",
          "13",
          "14",
          "16",
          "17",
          "18",
          "21",
          "22",
          "24",
          "25",
          "26",
          "28",
          "29",
          "30",
          "31",
          "33",
          "34",
          "73",
          "75",
          "139",
          "124",
          "112",
          "113",
          "114",
          "115",
          "117",
          "118",
          "119",
          "120",
          "121",
          "122",
          "123",
          "126",
          "76",
          "127",
          "128",
          "129",
          "130",
          "132",
          "133",
          "134",
          "135",
          "136",
          "137",
          "138",
          "111",
          "110",
          "109",
          "108",
          "77",
          "78",
          "79",
          "80",
          "81",
          "82",
          "84",
          "85",
          "87",
          "88",
          "89",
          "90",
          "92",
          "93",
          "95",
          "96",
          "99",
          "100",
          "101",
          "103",
          "105",
          "106",
          "107",
          "249"
         ]
        }
       ],
       "layout": {
        "autosize": false,
        "height": 1000,
        "width": 1000,
        "xaxis": {
         "tickfont": {
          "color": "black",
          "size": 12
         },
         "title": "Feature Importances"
        },
        "yaxis": {
         "automargin": true
        }
       }
      },
      "text/html": [
       "<div id=\"337f5253-3f94-40e5-881f-bebb5bd0f71a\" style=\"height: 1000px; width: 1000px;\" class=\"plotly-graph-div\"></div><script type=\"text/javascript\">require([\"plotly\"], function(Plotly) { window.PLOTLYENV=window.PLOTLYENV || {};window.PLOTLYENV.BASE_URL=\"https://plot.ly\";Plotly.newPlot(\"337f5253-3f94-40e5-881f-bebb5bd0f71a\", [{\"marker\": {\"color\": \"rgb(158,202,225)\", \"line\": {\"color\": \"rgb(8,48,107)\", \"width\": 1.5}}, \"opacity\": 0.6, \"orientation\": \"h\", \"text\": [0.08, 0.04, 0.04, 0.04, 0.02, 0.02, 0.02, 0.02, 0.02, 0.02, 0.02, 0.02, 0.02, 0.02, 0.02, 0.02, 0.02, 0.02, 0.02, 0.02, 0.02, 0.02, 0.02, 0.02, 0.02, 0.02, 0.02, 0.02, 0.02, 0.02, 0.02, 0.02, 0.02, 0.02, 0.02, 0.02, 0.02, 0.02, 0.02, 0.02, 0.02, 0.02, 0.02, 0.02, 0.0, 0.0, 0.0, 0.0, 0.0, 0.0, 0.0, 0.0, 0.0, 0.0, 0.0, 0.0, 0.0, 0.0, 0.0, 0.0, 0.0, 0.0, 0.0, 0.0, 0.0, 0.0, 0.0, 0.0, 0.0, 0.0, 0.0, 0.0, 0.0, 0.0, 0.0, 0.0, 0.0, 0.0, 0.0, 0.0, 0.0, 0.0, 0.0, 0.0, 0.0, 0.0, 0.0, 0.0, 0.0, 0.0, 0.0, 0.0, 0.0, 0.0, 0.0, 0.0, 0.0, 0.0, 0.0, 0.0, 0.0, 0.0, 0.0, 0.0, 0.0, 0.0, 0.0, 0.0, 0.0, 0.0, 0.0, 0.0, 0.0, 0.0, 0.0, 0.0, 0.0, 0.0, 0.0, 0.0, 0.0, 0.0, 0.0, 0.0, 0.0, 0.0, 0.0, 0.0, 0.0, 0.0, 0.0, 0.0, 0.0, 0.0, 0.0, 0.0, 0.0, 0.0, 0.0, 0.0, 0.0, 0.0, 0.0, 0.0, 0.0, 0.0, 0.0, 0.0, 0.0, 0.0, 0.0, 0.0, 0.0, 0.0, 0.0, 0.0, 0.0, 0.0, 0.0, 0.0, 0.0, 0.0, 0.0, 0.0, 0.0, 0.0, 0.0, 0.0, 0.0, 0.0, 0.0, 0.0, 0.0, 0.0, 0.0, 0.0, 0.0, 0.0, 0.0, 0.0, 0.0, 0.0, 0.0, 0.0, 0.0, 0.0, 0.0, 0.0, 0.0, 0.0, 0.0, 0.0, 0.0, 0.0, 0.0, 0.0, 0.0, 0.0, 0.0, 0.0, 0.0, 0.0, 0.0, 0.0, 0.0, 0.0, 0.0, 0.0, 0.0, 0.0, 0.0, 0.0, 0.0, 0.0, 0.0, 0.0, 0.0, 0.0, 0.0, 0.0, 0.0, 0.0, 0.0, 0.0, 0.0, 0.0, 0.0, 0.0, 0.0, 0.0, 0.0, 0.0, 0.0, 0.0, 0.0, 0.0, 0.0, 0.0, 0.0, 0.0, 0.0, 0.0, 0.0, 0.0, 0.0, 0.0, 0.0, 0.0, 0.0, 0.0], \"textposition\": \"outside\", \"x\": [0.08, 0.04, 0.04, 0.04, 0.02, 0.02, 0.02, 0.02, 0.02, 0.02, 0.02, 0.02, 0.02, 0.02, 0.02, 0.02, 0.02, 0.02, 0.02, 0.02, 0.02, 0.02, 0.02, 0.02, 0.02, 0.02, 0.02, 0.02, 0.02, 0.02, 0.02, 0.02, 0.02, 0.02, 0.02, 0.02, 0.02, 0.02, 0.02, 0.02, 0.02, 0.02, 0.02, 0.02, 0.0, 0.0, 0.0, 0.0, 0.0, 0.0, 0.0, 0.0, 0.0, 0.0, 0.0, 0.0, 0.0, 0.0, 0.0, 0.0, 0.0, 0.0, 0.0, 0.0, 0.0, 0.0, 0.0, 0.0, 0.0, 0.0, 0.0, 0.0, 0.0, 0.0, 0.0, 0.0, 0.0, 0.0, 0.0, 0.0, 0.0, 0.0, 0.0, 0.0, 0.0, 0.0, 0.0, 0.0, 0.0, 0.0, 0.0, 0.0, 0.0, 0.0, 0.0, 0.0, 0.0, 0.0, 0.0, 0.0, 0.0, 0.0, 0.0, 0.0, 0.0, 0.0, 0.0, 0.0, 0.0, 0.0, 0.0, 0.0, 0.0, 0.0, 0.0, 0.0, 0.0, 0.0, 0.0, 0.0, 0.0, 0.0, 0.0, 0.0, 0.0, 0.0, 0.0, 0.0, 0.0, 0.0, 0.0, 0.0, 0.0, 0.0, 0.0, 0.0, 0.0, 0.0, 0.0, 0.0, 0.0, 0.0, 0.0, 0.0, 0.0, 0.0, 0.0, 0.0, 0.0, 0.0, 0.0, 0.0, 0.0, 0.0, 0.0, 0.0, 0.0, 0.0, 0.0, 0.0, 0.0, 0.0, 0.0, 0.0, 0.0, 0.0, 0.0, 0.0, 0.0, 0.0, 0.0, 0.0, 0.0, 0.0, 0.0, 0.0, 0.0, 0.0, 0.0, 0.0, 0.0, 0.0, 0.0, 0.0, 0.0, 0.0, 0.0, 0.0, 0.0, 0.0, 0.0, 0.0, 0.0, 0.0, 0.0, 0.0, 0.0, 0.0, 0.0, 0.0, 0.0, 0.0, 0.0, 0.0, 0.0, 0.0, 0.0, 0.0, 0.0, 0.0, 0.0, 0.0, 0.0, 0.0, 0.0, 0.0, 0.0, 0.0, 0.0, 0.0, 0.0, 0.0, 0.0, 0.0, 0.0, 0.0, 0.0, 0.0, 0.0, 0.0, 0.0, 0.0, 0.0, 0.0, 0.0, 0.0, 0.0, 0.0, 0.0, 0.0, 0.0, 0.0, 0.0, 0.0, 0.0, 0.0, 0.0, 0.0, 0.0, 0.0], \"y\": [\"0\", \"2\", \"37\", \"98\", \"104\", \"32\", \"116\", \"39\", \"188\", \"165\", \"43\", \"166\", \"46\", \"171\", \"212\", \"57\", \"102\", \"158\", \"176\", \"60\", \"61\", \"63\", \"97\", \"67\", \"94\", \"71\", \"91\", \"86\", \"228\", \"83\", \"157\", \"23\", \"3\", \"246\", \"7\", \"10\", \"131\", \"156\", \"19\", \"20\", \"15\", \"234\", \"1\", \"27\", \"163\", \"181\", \"145\", \"178\", \"160\", \"179\", \"159\", \"180\", \"144\", \"182\", \"143\", \"161\", \"183\", \"184\", \"185\", \"186\", \"187\", \"146\", \"147\", \"177\", \"151\", \"153\", \"167\", \"168\", \"169\", \"170\", \"152\", \"172\", \"173\", \"154\", \"150\", \"174\", \"155\", \"162\", \"175\", \"149\", \"148\", \"164\", \"199\", \"189\", \"219\", \"221\", \"222\", \"223\", \"224\", \"225\", \"226\", \"227\", \"229\", \"230\", \"231\", \"232\", \"233\", \"235\", \"236\", \"237\", \"238\", \"239\", \"240\", \"241\", \"242\", \"243\", \"244\", \"245\", \"247\", \"248\", \"220\", \"218\", \"190\", \"217\", \"191\", \"192\", \"193\", \"194\", \"195\", \"196\", \"197\", \"198\", \"141\", \"200\", \"201\", \"202\", \"203\", \"204\", \"205\", \"206\", \"207\", \"208\", \"209\", \"210\", \"211\", \"213\", \"214\", \"215\", \"216\", \"142\", \"125\", \"140\", \"54\", \"41\", \"42\", \"44\", \"45\", \"47\", \"48\", \"49\", \"50\", \"51\", \"52\", \"53\", \"55\", \"74\", \"56\", \"58\", \"59\", \"62\", \"64\", \"65\", \"66\", \"68\", \"69\", \"70\", \"72\", \"40\", \"38\", \"36\", \"35\", \"4\", \"5\", \"6\", \"8\", \"9\", \"11\", \"12\", \"13\", \"14\", \"16\", \"17\", \"18\", \"21\", \"22\", \"24\", \"25\", \"26\", \"28\", \"29\", \"30\", \"31\", \"33\", \"34\", \"73\", \"75\", \"139\", \"124\", \"112\", \"113\", \"114\", \"115\", \"117\", \"118\", \"119\", \"120\", \"121\", \"122\", \"123\", \"126\", \"76\", \"127\", \"128\", \"129\", \"130\", \"132\", \"133\", \"134\", \"135\", \"136\", \"137\", \"138\", \"111\", \"110\", \"109\", \"108\", \"77\", \"78\", \"79\", \"80\", \"81\", \"82\", \"84\", \"85\", \"87\", \"88\", \"89\", \"90\", \"92\", \"93\", \"95\", \"96\", \"99\", \"100\", \"101\", \"103\", \"105\", \"106\", \"107\", \"249\"], \"type\": \"bar\", \"uid\": \"3f918d15-0841-4551-a5b9-6609f94b5fe0\"}], {\"autosize\": false, \"height\": 1000, \"width\": 1000, \"xaxis\": {\"tickfont\": {\"color\": \"black\", \"size\": 12}, \"title\": \"Feature Importances\"}, \"yaxis\": {\"automargin\": true}}, {\"showLink\": true, \"linkText\": \"Export to plot.ly\", \"plotlyServerURL\": \"https://plot.ly\"})});</script>"
      ],
      "text/vnd.plotly.v1+html": [
       "<div id=\"337f5253-3f94-40e5-881f-bebb5bd0f71a\" style=\"height: 1000px; width: 1000px;\" class=\"plotly-graph-div\"></div><script type=\"text/javascript\">require([\"plotly\"], function(Plotly) { window.PLOTLYENV=window.PLOTLYENV || {};window.PLOTLYENV.BASE_URL=\"https://plot.ly\";Plotly.newPlot(\"337f5253-3f94-40e5-881f-bebb5bd0f71a\", [{\"marker\": {\"color\": \"rgb(158,202,225)\", \"line\": {\"color\": \"rgb(8,48,107)\", \"width\": 1.5}}, \"opacity\": 0.6, \"orientation\": \"h\", \"text\": [0.08, 0.04, 0.04, 0.04, 0.02, 0.02, 0.02, 0.02, 0.02, 0.02, 0.02, 0.02, 0.02, 0.02, 0.02, 0.02, 0.02, 0.02, 0.02, 0.02, 0.02, 0.02, 0.02, 0.02, 0.02, 0.02, 0.02, 0.02, 0.02, 0.02, 0.02, 0.02, 0.02, 0.02, 0.02, 0.02, 0.02, 0.02, 0.02, 0.02, 0.02, 0.02, 0.02, 0.02, 0.0, 0.0, 0.0, 0.0, 0.0, 0.0, 0.0, 0.0, 0.0, 0.0, 0.0, 0.0, 0.0, 0.0, 0.0, 0.0, 0.0, 0.0, 0.0, 0.0, 0.0, 0.0, 0.0, 0.0, 0.0, 0.0, 0.0, 0.0, 0.0, 0.0, 0.0, 0.0, 0.0, 0.0, 0.0, 0.0, 0.0, 0.0, 0.0, 0.0, 0.0, 0.0, 0.0, 0.0, 0.0, 0.0, 0.0, 0.0, 0.0, 0.0, 0.0, 0.0, 0.0, 0.0, 0.0, 0.0, 0.0, 0.0, 0.0, 0.0, 0.0, 0.0, 0.0, 0.0, 0.0, 0.0, 0.0, 0.0, 0.0, 0.0, 0.0, 0.0, 0.0, 0.0, 0.0, 0.0, 0.0, 0.0, 0.0, 0.0, 0.0, 0.0, 0.0, 0.0, 0.0, 0.0, 0.0, 0.0, 0.0, 0.0, 0.0, 0.0, 0.0, 0.0, 0.0, 0.0, 0.0, 0.0, 0.0, 0.0, 0.0, 0.0, 0.0, 0.0, 0.0, 0.0, 0.0, 0.0, 0.0, 0.0, 0.0, 0.0, 0.0, 0.0, 0.0, 0.0, 0.0, 0.0, 0.0, 0.0, 0.0, 0.0, 0.0, 0.0, 0.0, 0.0, 0.0, 0.0, 0.0, 0.0, 0.0, 0.0, 0.0, 0.0, 0.0, 0.0, 0.0, 0.0, 0.0, 0.0, 0.0, 0.0, 0.0, 0.0, 0.0, 0.0, 0.0, 0.0, 0.0, 0.0, 0.0, 0.0, 0.0, 0.0, 0.0, 0.0, 0.0, 0.0, 0.0, 0.0, 0.0, 0.0, 0.0, 0.0, 0.0, 0.0, 0.0, 0.0, 0.0, 0.0, 0.0, 0.0, 0.0, 0.0, 0.0, 0.0, 0.0, 0.0, 0.0, 0.0, 0.0, 0.0, 0.0, 0.0, 0.0, 0.0, 0.0, 0.0, 0.0, 0.0, 0.0, 0.0, 0.0, 0.0, 0.0, 0.0, 0.0, 0.0, 0.0, 0.0, 0.0, 0.0, 0.0, 0.0, 0.0, 0.0], \"textposition\": \"outside\", \"x\": [0.08, 0.04, 0.04, 0.04, 0.02, 0.02, 0.02, 0.02, 0.02, 0.02, 0.02, 0.02, 0.02, 0.02, 0.02, 0.02, 0.02, 0.02, 0.02, 0.02, 0.02, 0.02, 0.02, 0.02, 0.02, 0.02, 0.02, 0.02, 0.02, 0.02, 0.02, 0.02, 0.02, 0.02, 0.02, 0.02, 0.02, 0.02, 0.02, 0.02, 0.02, 0.02, 0.02, 0.02, 0.0, 0.0, 0.0, 0.0, 0.0, 0.0, 0.0, 0.0, 0.0, 0.0, 0.0, 0.0, 0.0, 0.0, 0.0, 0.0, 0.0, 0.0, 0.0, 0.0, 0.0, 0.0, 0.0, 0.0, 0.0, 0.0, 0.0, 0.0, 0.0, 0.0, 0.0, 0.0, 0.0, 0.0, 0.0, 0.0, 0.0, 0.0, 0.0, 0.0, 0.0, 0.0, 0.0, 0.0, 0.0, 0.0, 0.0, 0.0, 0.0, 0.0, 0.0, 0.0, 0.0, 0.0, 0.0, 0.0, 0.0, 0.0, 0.0, 0.0, 0.0, 0.0, 0.0, 0.0, 0.0, 0.0, 0.0, 0.0, 0.0, 0.0, 0.0, 0.0, 0.0, 0.0, 0.0, 0.0, 0.0, 0.0, 0.0, 0.0, 0.0, 0.0, 0.0, 0.0, 0.0, 0.0, 0.0, 0.0, 0.0, 0.0, 0.0, 0.0, 0.0, 0.0, 0.0, 0.0, 0.0, 0.0, 0.0, 0.0, 0.0, 0.0, 0.0, 0.0, 0.0, 0.0, 0.0, 0.0, 0.0, 0.0, 0.0, 0.0, 0.0, 0.0, 0.0, 0.0, 0.0, 0.0, 0.0, 0.0, 0.0, 0.0, 0.0, 0.0, 0.0, 0.0, 0.0, 0.0, 0.0, 0.0, 0.0, 0.0, 0.0, 0.0, 0.0, 0.0, 0.0, 0.0, 0.0, 0.0, 0.0, 0.0, 0.0, 0.0, 0.0, 0.0, 0.0, 0.0, 0.0, 0.0, 0.0, 0.0, 0.0, 0.0, 0.0, 0.0, 0.0, 0.0, 0.0, 0.0, 0.0, 0.0, 0.0, 0.0, 0.0, 0.0, 0.0, 0.0, 0.0, 0.0, 0.0, 0.0, 0.0, 0.0, 0.0, 0.0, 0.0, 0.0, 0.0, 0.0, 0.0, 0.0, 0.0, 0.0, 0.0, 0.0, 0.0, 0.0, 0.0, 0.0, 0.0, 0.0, 0.0, 0.0, 0.0, 0.0, 0.0, 0.0, 0.0, 0.0, 0.0, 0.0, 0.0, 0.0, 0.0, 0.0], \"y\": [\"0\", \"2\", \"37\", \"98\", \"104\", \"32\", \"116\", \"39\", \"188\", \"165\", \"43\", \"166\", \"46\", \"171\", \"212\", \"57\", \"102\", \"158\", \"176\", \"60\", \"61\", \"63\", \"97\", \"67\", \"94\", \"71\", \"91\", \"86\", \"228\", \"83\", \"157\", \"23\", \"3\", \"246\", \"7\", \"10\", \"131\", \"156\", \"19\", \"20\", \"15\", \"234\", \"1\", \"27\", \"163\", \"181\", \"145\", \"178\", \"160\", \"179\", \"159\", \"180\", \"144\", \"182\", \"143\", \"161\", \"183\", \"184\", \"185\", \"186\", \"187\", \"146\", \"147\", \"177\", \"151\", \"153\", \"167\", \"168\", \"169\", \"170\", \"152\", \"172\", \"173\", \"154\", \"150\", \"174\", \"155\", \"162\", \"175\", \"149\", \"148\", \"164\", \"199\", \"189\", \"219\", \"221\", \"222\", \"223\", \"224\", \"225\", \"226\", \"227\", \"229\", \"230\", \"231\", \"232\", \"233\", \"235\", \"236\", \"237\", \"238\", \"239\", \"240\", \"241\", \"242\", \"243\", \"244\", \"245\", \"247\", \"248\", \"220\", \"218\", \"190\", \"217\", \"191\", \"192\", \"193\", \"194\", \"195\", \"196\", \"197\", \"198\", \"141\", \"200\", \"201\", \"202\", \"203\", \"204\", \"205\", \"206\", \"207\", \"208\", \"209\", \"210\", \"211\", \"213\", \"214\", \"215\", \"216\", \"142\", \"125\", \"140\", \"54\", \"41\", \"42\", \"44\", \"45\", \"47\", \"48\", \"49\", \"50\", \"51\", \"52\", \"53\", \"55\", \"74\", \"56\", \"58\", \"59\", \"62\", \"64\", \"65\", \"66\", \"68\", \"69\", \"70\", \"72\", \"40\", \"38\", \"36\", \"35\", \"4\", \"5\", \"6\", \"8\", \"9\", \"11\", \"12\", \"13\", \"14\", \"16\", \"17\", \"18\", \"21\", \"22\", \"24\", \"25\", \"26\", \"28\", \"29\", \"30\", \"31\", \"33\", \"34\", \"73\", \"75\", \"139\", \"124\", \"112\", \"113\", \"114\", \"115\", \"117\", \"118\", \"119\", \"120\", \"121\", \"122\", \"123\", \"126\", \"76\", \"127\", \"128\", \"129\", \"130\", \"132\", \"133\", \"134\", \"135\", \"136\", \"137\", \"138\", \"111\", \"110\", \"109\", \"108\", \"77\", \"78\", \"79\", \"80\", \"81\", \"82\", \"84\", \"85\", \"87\", \"88\", \"89\", \"90\", \"92\", \"93\", \"95\", \"96\", \"99\", \"100\", \"101\", \"103\", \"105\", \"106\", \"107\", \"249\"], \"type\": \"bar\", \"uid\": \"3f918d15-0841-4551-a5b9-6609f94b5fe0\"}], {\"autosize\": false, \"height\": 1000, \"width\": 1000, \"xaxis\": {\"tickfont\": {\"color\": \"black\", \"size\": 12}, \"title\": \"Feature Importances\"}, \"yaxis\": {\"automargin\": true}}, {\"showLink\": true, \"linkText\": \"Export to plot.ly\", \"plotlyServerURL\": \"https://plot.ly\"})});</script>"
      ]
     },
     "metadata": {},
     "output_type": "display_data"
    },
    {
     "name": "stdout",
     "output_type": "stream",
     "text": [
      "\n",
      "\n",
      "\u001b[1mGradientBoosting Classifier\u001b[0m\n",
      "Accuracy of the model for training data is: 0.9069767441860465\n",
      "Confusion Matrix for training data is:\n"
     ]
    },
    {
     "data": {
      "text/plain": [
       "Predicted  False  True  __all__\n",
       "Actual                         \n",
       "False      23711  2305    26016\n",
       "True         527  3901     4428\n",
       "__all__    24238  6206    30444"
      ]
     },
     "metadata": {},
     "output_type": "display_data"
    },
    {
     "name": "stdout",
     "output_type": "stream",
     "text": [
      "Accuracy of the model for test data is: 0.905418870238369\n",
      "Confusion Matrix for test data is:\n"
     ]
    },
    {
     "data": {
      "text/plain": [
       "Predicted  False  True  __all__\n",
       "Actual                         \n",
       "False      10116   982    11098\n",
       "True         252  1697     1949\n",
       "__all__    10368  2679    13047"
      ]
     },
     "metadata": {},
     "output_type": "display_data"
    },
    {
     "data": {
      "application/vnd.plotly.v1+json": {
       "config": {
        "linkText": "Export to plot.ly",
        "plotlyServerURL": "https://plot.ly",
        "showLink": true
       },
       "data": [
        {
         "marker": {
          "color": "rgb(158,202,225)",
          "line": {
           "color": "rgb(8,48,107)",
           "width": 1.5
          }
         },
         "opacity": 0.6,
         "orientation": "h",
         "text": [
          0.8268,
          0.0285,
          0.0158,
          0.0087,
          0.008,
          0.0071,
          0.006,
          0.0059,
          0.0058,
          0.0047,
          0.0044,
          0.004,
          0.004,
          0.0038,
          0.0029,
          0.0028,
          0.0026,
          0.0025,
          0.0025,
          0.0024,
          0.0021,
          0.002,
          0.002,
          0.002,
          0.0019,
          0.0018,
          0.0017,
          0.0017,
          0.0015,
          0.0015,
          0.0015,
          0.0015,
          0.0014,
          0.001,
          0.001,
          0.0009,
          0.0009,
          0.0009,
          0.0009,
          0.0009,
          0.0008,
          0.0008,
          0.0008,
          0.0007,
          0.0007,
          0.0006,
          0.0006,
          0.0006,
          0.0005,
          0.0005,
          0.0005,
          0.0005,
          0.0005,
          0.0005,
          0.0004,
          0.0004,
          0.0004,
          0.0004,
          0.0004,
          0.0003,
          0.0003,
          0.0003,
          0.0003,
          0.0003,
          0.0003,
          0.0003,
          0.0003,
          0.0003,
          0.0003,
          0.0003,
          0.0003,
          0.0003,
          0.0002,
          0.0002,
          0.0002,
          0.0002,
          0.0002,
          0.0002,
          0.0002,
          0.0002,
          0.0002,
          0.0002,
          0.0002,
          0.0002,
          0.0002,
          0.0002,
          0.0002,
          0.0002,
          0.0002,
          0.0001,
          0.0001,
          0.0001,
          0.0001,
          0.0001,
          0.0001,
          0.0001,
          0.0001,
          0.0001,
          0.0001,
          0.0001,
          0.0001,
          0.0001,
          0.0001,
          0.0001,
          0.0001,
          0.0001,
          0.0001,
          0.0001,
          0.0001,
          0.0001,
          0.0001,
          0.0001,
          0.0001,
          0.0001,
          0.0001,
          0.0001,
          0.0001,
          0.0001,
          0.0001,
          0.0001,
          0.0001,
          0.0001,
          0.0001,
          0,
          0,
          0,
          0,
          0,
          0,
          0,
          0,
          0,
          0,
          0,
          0,
          0,
          0,
          0,
          0,
          0,
          0,
          0,
          0,
          0,
          0,
          0,
          0,
          0,
          0,
          0,
          0,
          0,
          0,
          0,
          0,
          0,
          0,
          0,
          0,
          0,
          0,
          0,
          0,
          0,
          0,
          0,
          0,
          0,
          0,
          0,
          0,
          0,
          0,
          0,
          0,
          0,
          0,
          0,
          0,
          0,
          0,
          0,
          0,
          0,
          0,
          0,
          0,
          0,
          0,
          0,
          0,
          0,
          0,
          0,
          0,
          0,
          0,
          0,
          0,
          0,
          0,
          0,
          0,
          0,
          0,
          0,
          0,
          0,
          0,
          0,
          0,
          0,
          0,
          0,
          0,
          0,
          0,
          0,
          0,
          0,
          0,
          0,
          0,
          0,
          0,
          0,
          0,
          0,
          0,
          0,
          0,
          0,
          0,
          0,
          0,
          0,
          0,
          0,
          0,
          0,
          0,
          0,
          0,
          0,
          0,
          0,
          0,
          0,
          0,
          0
         ],
         "textposition": "outside",
         "type": "bar",
         "uid": "8562a4ca-dc75-41fc-8c74-6c543acdbf4f",
         "x": [
          0.82681538246344,
          0.02848674295471929,
          0.015804823825357084,
          0.00872205192682972,
          0.007976473210206067,
          0.007141605346055211,
          0.005962154198890892,
          0.005921103485200757,
          0.005754174297903793,
          0.0046626195917577355,
          0.004378711264339272,
          0.004019615487656798,
          0.004007893165164686,
          0.0038124991511564437,
          0.0029370827278456914,
          0.0028380245696171887,
          0.002560444082724243,
          0.002535044166772783,
          0.002462679688635972,
          0.0023599227326541227,
          0.0021431054415988375,
          0.0019885213497520047,
          0.0019708978999388818,
          0.001951884820873713,
          0.0018638057726957273,
          0.0017540167336694782,
          0.0017263735989262476,
          0.0016866850413134581,
          0.0015426575553765835,
          0.0015037186837324305,
          0.0014990583147344247,
          0.0014559836590939484,
          0.001372303162803201,
          0.0010382948435649687,
          0.0010067167372272091,
          0.0009485737366232844,
          0.000947847039221833,
          0.0009206513845335208,
          0.0008883447472063413,
          0.0008554719744771424,
          0.0007942685015791402,
          0.0007825439991172199,
          0.0007648864499361867,
          0.0006924033092681741,
          0.0006811722987475544,
          0.0006473990347623666,
          0.0005781956133366931,
          0.0005766077000417361,
          0.0005317546731346955,
          0.0005154586490689988,
          0.0005116688141274313,
          0.00047929164633622495,
          0.0004757395035929305,
          0.0004609526982501926,
          0.00042397141736439856,
          0.0003948035312663228,
          0.00038306669871413,
          0.00037549197911452355,
          0.00036035887396504147,
          0.00034918452144164865,
          0.0003431752868726125,
          0.0003403722708533311,
          0.00032607089040322893,
          0.00032494288790674205,
          0.0003194914534126988,
          0.0003101021960343593,
          0.00030112903591138977,
          0.00030096162185373906,
          0.00029615432778933514,
          0.0002716793397290074,
          0.00026942145458980937,
          0.0002593772788754881,
          0.00024833980575887546,
          0.0002478185074931685,
          0.0002442004515447261,
          0.00023518242815404196,
          0.00022498883949249328,
          0.0002194127778472739,
          0.000218487781899903,
          0.00021457478810195518,
          0.00020722149472661251,
          0.000206605181064423,
          0.00020016426003027101,
          0.00019941503052322873,
          0.00018696641793998823,
          0.0001842046407601206,
          0.00018398663928217442,
          0.00016823638623342807,
          0.00015503432679939735,
          0.00014067622380549427,
          0.00013531660065921498,
          0.00013202911537264748,
          0.0001295794252882773,
          0.00012902571684257475,
          0.00012817535719547503,
          0.00012747133546088518,
          0.00011691347953063484,
          0.00011603549253095741,
          0.00011592982369472427,
          0.00011204824444992766,
          0.0001100191347345399,
          0.00010776195378352213,
          0.00010749750713647125,
          0.00010651692576511194,
          0.00010371061255149352,
          9.92151329289717e-05,
          9.871789913373247e-05,
          9.685624286403636e-05,
          9.505976569294321e-05,
          8.773683143062795e-05,
          8.505374001213093e-05,
          8.339695155030822e-05,
          8.301575757111999e-05,
          8.216719913012621e-05,
          7.978591958036904e-05,
          7.701685148740485e-05,
          6.969827742728053e-05,
          6.571684981464626e-05,
          6.541785409489519e-05,
          6.348572610643312e-05,
          6.337245664993542e-05,
          5.6537292720025625e-05,
          5.494202801776459e-05,
          4.992508572740204e-05,
          4.5765074547895844e-05,
          3.858721741124143e-05,
          3.837718213476282e-05,
          3.746382761894072e-05,
          3.572791490068083e-05,
          3.1320416571057764e-05,
          2.9522465799303818e-05,
          2.6346728980626628e-05,
          2.375530617186956e-05,
          2.285346741205217e-05,
          1.8461890498761422e-05,
          1.8323696966536253e-05,
          1.3391221218092274e-05,
          1.1895177494556312e-05,
          9.269686562736542e-06,
          8.37903839040614e-06,
          2.221588217292146e-06,
          8.83588411307939e-07,
          5.472338728056244e-07,
          1.3408173501524118e-07,
          4.9835001626106154e-08,
          0,
          0,
          0,
          0,
          0,
          0,
          0,
          0,
          0,
          0,
          0,
          0,
          0,
          0,
          0,
          0,
          0,
          0,
          0,
          0,
          0,
          0,
          0,
          0,
          0,
          0,
          0,
          0,
          0,
          0,
          0,
          0,
          0,
          0,
          0,
          0,
          0,
          0,
          0,
          0,
          0,
          0,
          0,
          0,
          0,
          0,
          0,
          0,
          0,
          0,
          0,
          0,
          0,
          0,
          0,
          0,
          0,
          0,
          0,
          0,
          0,
          0,
          0,
          0,
          0,
          0,
          0,
          0,
          0,
          0,
          0,
          0,
          0,
          0,
          0,
          0,
          0,
          0,
          0,
          0,
          0,
          0,
          0,
          0,
          0,
          0,
          0,
          0,
          0,
          0,
          0,
          0,
          0,
          0,
          0,
          0,
          0,
          0,
          0,
          0,
          0,
          0,
          0,
          0,
          0
         ],
         "y": [
          "0",
          "111",
          "209",
          "27",
          "58",
          "99",
          "154",
          "212",
          "20",
          "197",
          "3",
          "158",
          "204",
          "109",
          "2",
          "102",
          "132",
          "10",
          "236",
          "40",
          "185",
          "19",
          "142",
          "7",
          "61",
          "156",
          "71",
          "66",
          "97",
          "91",
          "137",
          "150",
          "187",
          "1",
          "25",
          "232",
          "72",
          "205",
          "181",
          "29",
          "24",
          "36",
          "60",
          "32",
          "107",
          "117",
          "135",
          "17",
          "101",
          "83",
          "42",
          "127",
          "77",
          "74",
          "28",
          "242",
          "57",
          "120",
          "229",
          "63",
          "59",
          "55",
          "249",
          "239",
          "85",
          "5",
          "128",
          "49",
          "155",
          "136",
          "4",
          "125",
          "202",
          "48",
          "228",
          "123",
          "21",
          "118",
          "188",
          "191",
          "70",
          "131",
          "75",
          "64",
          "211",
          "113",
          "62",
          "41",
          "37",
          "198",
          "46",
          "18",
          "190",
          "44",
          "86",
          "122",
          "35",
          "43",
          "108",
          "30",
          "13",
          "126",
          "67",
          "140",
          "11",
          "84",
          "31",
          "73",
          "105",
          "147",
          "176",
          "170",
          "172",
          "167",
          "178",
          "130",
          "15",
          "106",
          "38",
          "179",
          "114",
          "56",
          "163",
          "222",
          "195",
          "14",
          "88",
          "96",
          "152",
          "225",
          "81",
          "207",
          "145",
          "33",
          "243",
          "238",
          "248",
          "51",
          "52",
          "206",
          "78",
          "39",
          "201",
          "214",
          "112",
          "237",
          "54",
          "245",
          "244",
          "203",
          "196",
          "247",
          "246",
          "240",
          "199",
          "53",
          "192",
          "194",
          "241",
          "200",
          "65",
          "193",
          "8",
          "210",
          "12",
          "233",
          "230",
          "231",
          "68",
          "227",
          "6",
          "226",
          "224",
          "223",
          "189",
          "221",
          "220",
          "208",
          "234",
          "219",
          "218",
          "217",
          "235",
          "216",
          "215",
          "213",
          "9",
          "69",
          "87",
          "168",
          "186",
          "16",
          "138",
          "134",
          "133",
          "34",
          "79",
          "129",
          "80",
          "124",
          "121",
          "119",
          "82",
          "116",
          "115",
          "50",
          "110",
          "104",
          "103",
          "45",
          "100",
          "47",
          "98",
          "95",
          "94",
          "93",
          "92",
          "90",
          "89",
          "139",
          "141",
          "143",
          "164",
          "184",
          "183",
          "182",
          "180",
          "177",
          "175",
          "174",
          "173",
          "171",
          "169",
          "166",
          "165",
          "162",
          "144",
          "161",
          "160",
          "159",
          "157",
          "76",
          "23",
          "153",
          "151",
          "26",
          "149",
          "148",
          "146",
          "22"
         ]
        }
       ],
       "layout": {
        "autosize": false,
        "height": 1000,
        "width": 1000,
        "xaxis": {
         "tickfont": {
          "color": "black",
          "size": 12
         },
         "title": "Feature Importances"
        },
        "yaxis": {
         "automargin": true
        }
       }
      },
      "text/html": [
       "<div id=\"f9459325-dd39-4f22-8336-ae622911499b\" style=\"height: 1000px; width: 1000px;\" class=\"plotly-graph-div\"></div><script type=\"text/javascript\">require([\"plotly\"], function(Plotly) { window.PLOTLYENV=window.PLOTLYENV || {};window.PLOTLYENV.BASE_URL=\"https://plot.ly\";Plotly.newPlot(\"f9459325-dd39-4f22-8336-ae622911499b\", [{\"marker\": {\"color\": \"rgb(158,202,225)\", \"line\": {\"color\": \"rgb(8,48,107)\", \"width\": 1.5}}, \"opacity\": 0.6, \"orientation\": \"h\", \"text\": [0.8268, 0.0285, 0.0158, 0.0087, 0.008, 0.0071, 0.006, 0.0059, 0.0058, 0.0047, 0.0044, 0.004, 0.004, 0.0038, 0.0029, 0.0028, 0.0026, 0.0025, 0.0025, 0.0024, 0.0021, 0.002, 0.002, 0.002, 0.0019, 0.0018, 0.0017, 0.0017, 0.0015, 0.0015, 0.0015, 0.0015, 0.0014, 0.001, 0.001, 0.0009, 0.0009, 0.0009, 0.0009, 0.0009, 0.0008, 0.0008, 0.0008, 0.0007, 0.0007, 0.0006, 0.0006, 0.0006, 0.0005, 0.0005, 0.0005, 0.0005, 0.0005, 0.0005, 0.0004, 0.0004, 0.0004, 0.0004, 0.0004, 0.0003, 0.0003, 0.0003, 0.0003, 0.0003, 0.0003, 0.0003, 0.0003, 0.0003, 0.0003, 0.0003, 0.0003, 0.0003, 0.0002, 0.0002, 0.0002, 0.0002, 0.0002, 0.0002, 0.0002, 0.0002, 0.0002, 0.0002, 0.0002, 0.0002, 0.0002, 0.0002, 0.0002, 0.0002, 0.0002, 0.0001, 0.0001, 0.0001, 0.0001, 0.0001, 0.0001, 0.0001, 0.0001, 0.0001, 0.0001, 0.0001, 0.0001, 0.0001, 0.0001, 0.0001, 0.0001, 0.0001, 0.0001, 0.0001, 0.0001, 0.0001, 0.0001, 0.0001, 0.0001, 0.0001, 0.0001, 0.0001, 0.0001, 0.0001, 0.0001, 0.0001, 0.0001, 0.0001, 0.0001, 0.0, 0.0, 0.0, 0.0, 0.0, 0.0, 0.0, 0.0, 0.0, 0.0, 0.0, 0.0, 0.0, 0.0, 0.0, 0.0, 0.0, 0.0, 0.0, 0.0, 0.0, 0.0, 0.0, 0.0, 0.0, 0.0, 0.0, 0.0, 0.0, 0.0, 0.0, 0.0, 0.0, 0.0, 0.0, 0.0, 0.0, 0.0, 0.0, 0.0, 0.0, 0.0, 0.0, 0.0, 0.0, 0.0, 0.0, 0.0, 0.0, 0.0, 0.0, 0.0, 0.0, 0.0, 0.0, 0.0, 0.0, 0.0, 0.0, 0.0, 0.0, 0.0, 0.0, 0.0, 0.0, 0.0, 0.0, 0.0, 0.0, 0.0, 0.0, 0.0, 0.0, 0.0, 0.0, 0.0, 0.0, 0.0, 0.0, 0.0, 0.0, 0.0, 0.0, 0.0, 0.0, 0.0, 0.0, 0.0, 0.0, 0.0, 0.0, 0.0, 0.0, 0.0, 0.0, 0.0, 0.0, 0.0, 0.0, 0.0, 0.0, 0.0, 0.0, 0.0, 0.0, 0.0, 0.0, 0.0, 0.0, 0.0, 0.0, 0.0, 0.0, 0.0, 0.0, 0.0, 0.0, 0.0, 0.0, 0.0, 0.0, 0.0, 0.0, 0.0, 0.0, 0.0, 0.0], \"textposition\": \"outside\", \"x\": [0.82681538246344, 0.02848674295471929, 0.015804823825357084, 0.00872205192682972, 0.007976473210206067, 0.007141605346055211, 0.005962154198890892, 0.005921103485200757, 0.005754174297903793, 0.0046626195917577355, 0.004378711264339272, 0.004019615487656798, 0.004007893165164686, 0.0038124991511564437, 0.0029370827278456914, 0.0028380245696171887, 0.002560444082724243, 0.002535044166772783, 0.002462679688635972, 0.0023599227326541227, 0.0021431054415988375, 0.0019885213497520047, 0.0019708978999388818, 0.001951884820873713, 0.0018638057726957273, 0.0017540167336694782, 0.0017263735989262476, 0.0016866850413134581, 0.0015426575553765835, 0.0015037186837324305, 0.0014990583147344247, 0.0014559836590939484, 0.001372303162803201, 0.0010382948435649687, 0.0010067167372272091, 0.0009485737366232844, 0.000947847039221833, 0.0009206513845335208, 0.0008883447472063413, 0.0008554719744771424, 0.0007942685015791402, 0.0007825439991172199, 0.0007648864499361867, 0.0006924033092681741, 0.0006811722987475544, 0.0006473990347623666, 0.0005781956133366931, 0.0005766077000417361, 0.0005317546731346955, 0.0005154586490689988, 0.0005116688141274313, 0.00047929164633622495, 0.0004757395035929305, 0.0004609526982501926, 0.00042397141736439856, 0.0003948035312663228, 0.00038306669871413, 0.00037549197911452355, 0.00036035887396504147, 0.00034918452144164865, 0.0003431752868726125, 0.0003403722708533311, 0.00032607089040322893, 0.00032494288790674205, 0.0003194914534126988, 0.0003101021960343593, 0.00030112903591138977, 0.00030096162185373906, 0.00029615432778933514, 0.0002716793397290074, 0.00026942145458980937, 0.0002593772788754881, 0.00024833980575887546, 0.0002478185074931685, 0.0002442004515447261, 0.00023518242815404196, 0.00022498883949249328, 0.0002194127778472739, 0.000218487781899903, 0.00021457478810195518, 0.00020722149472661251, 0.000206605181064423, 0.00020016426003027101, 0.00019941503052322873, 0.00018696641793998823, 0.0001842046407601206, 0.00018398663928217442, 0.00016823638623342807, 0.00015503432679939735, 0.00014067622380549427, 0.00013531660065921498, 0.00013202911537264748, 0.0001295794252882773, 0.00012902571684257475, 0.00012817535719547503, 0.00012747133546088518, 0.00011691347953063484, 0.00011603549253095741, 0.00011592982369472427, 0.00011204824444992766, 0.0001100191347345399, 0.00010776195378352213, 0.00010749750713647125, 0.00010651692576511194, 0.00010371061255149352, 9.92151329289717e-05, 9.871789913373247e-05, 9.685624286403636e-05, 9.505976569294321e-05, 8.773683143062795e-05, 8.505374001213093e-05, 8.339695155030822e-05, 8.301575757111999e-05, 8.216719913012621e-05, 7.978591958036904e-05, 7.701685148740485e-05, 6.969827742728053e-05, 6.571684981464626e-05, 6.541785409489519e-05, 6.348572610643312e-05, 6.337245664993542e-05, 5.6537292720025625e-05, 5.494202801776459e-05, 4.992508572740204e-05, 4.5765074547895844e-05, 3.858721741124143e-05, 3.837718213476282e-05, 3.746382761894072e-05, 3.572791490068083e-05, 3.1320416571057764e-05, 2.9522465799303818e-05, 2.6346728980626628e-05, 2.375530617186956e-05, 2.285346741205217e-05, 1.8461890498761422e-05, 1.8323696966536253e-05, 1.3391221218092274e-05, 1.1895177494556312e-05, 9.269686562736542e-06, 8.37903839040614e-06, 2.221588217292146e-06, 8.83588411307939e-07, 5.472338728056244e-07, 1.3408173501524118e-07, 4.9835001626106154e-08, 0.0, 0.0, 0.0, 0.0, 0.0, 0.0, 0.0, 0.0, 0.0, 0.0, 0.0, 0.0, 0.0, 0.0, 0.0, 0.0, 0.0, 0.0, 0.0, 0.0, 0.0, 0.0, 0.0, 0.0, 0.0, 0.0, 0.0, 0.0, 0.0, 0.0, 0.0, 0.0, 0.0, 0.0, 0.0, 0.0, 0.0, 0.0, 0.0, 0.0, 0.0, 0.0, 0.0, 0.0, 0.0, 0.0, 0.0, 0.0, 0.0, 0.0, 0.0, 0.0, 0.0, 0.0, 0.0, 0.0, 0.0, 0.0, 0.0, 0.0, 0.0, 0.0, 0.0, 0.0, 0.0, 0.0, 0.0, 0.0, 0.0, 0.0, 0.0, 0.0, 0.0, 0.0, 0.0, 0.0, 0.0, 0.0, 0.0, 0.0, 0.0, 0.0, 0.0, 0.0, 0.0, 0.0, 0.0, 0.0, 0.0, 0.0, 0.0, 0.0, 0.0, 0.0, 0.0, 0.0, 0.0, 0.0, 0.0, 0.0, 0.0, 0.0, 0.0, 0.0, 0.0], \"y\": [\"0\", \"111\", \"209\", \"27\", \"58\", \"99\", \"154\", \"212\", \"20\", \"197\", \"3\", \"158\", \"204\", \"109\", \"2\", \"102\", \"132\", \"10\", \"236\", \"40\", \"185\", \"19\", \"142\", \"7\", \"61\", \"156\", \"71\", \"66\", \"97\", \"91\", \"137\", \"150\", \"187\", \"1\", \"25\", \"232\", \"72\", \"205\", \"181\", \"29\", \"24\", \"36\", \"60\", \"32\", \"107\", \"117\", \"135\", \"17\", \"101\", \"83\", \"42\", \"127\", \"77\", \"74\", \"28\", \"242\", \"57\", \"120\", \"229\", \"63\", \"59\", \"55\", \"249\", \"239\", \"85\", \"5\", \"128\", \"49\", \"155\", \"136\", \"4\", \"125\", \"202\", \"48\", \"228\", \"123\", \"21\", \"118\", \"188\", \"191\", \"70\", \"131\", \"75\", \"64\", \"211\", \"113\", \"62\", \"41\", \"37\", \"198\", \"46\", \"18\", \"190\", \"44\", \"86\", \"122\", \"35\", \"43\", \"108\", \"30\", \"13\", \"126\", \"67\", \"140\", \"11\", \"84\", \"31\", \"73\", \"105\", \"147\", \"176\", \"170\", \"172\", \"167\", \"178\", \"130\", \"15\", \"106\", \"38\", \"179\", \"114\", \"56\", \"163\", \"222\", \"195\", \"14\", \"88\", \"96\", \"152\", \"225\", \"81\", \"207\", \"145\", \"33\", \"243\", \"238\", \"248\", \"51\", \"52\", \"206\", \"78\", \"39\", \"201\", \"214\", \"112\", \"237\", \"54\", \"245\", \"244\", \"203\", \"196\", \"247\", \"246\", \"240\", \"199\", \"53\", \"192\", \"194\", \"241\", \"200\", \"65\", \"193\", \"8\", \"210\", \"12\", \"233\", \"230\", \"231\", \"68\", \"227\", \"6\", \"226\", \"224\", \"223\", \"189\", \"221\", \"220\", \"208\", \"234\", \"219\", \"218\", \"217\", \"235\", \"216\", \"215\", \"213\", \"9\", \"69\", \"87\", \"168\", \"186\", \"16\", \"138\", \"134\", \"133\", \"34\", \"79\", \"129\", \"80\", \"124\", \"121\", \"119\", \"82\", \"116\", \"115\", \"50\", \"110\", \"104\", \"103\", \"45\", \"100\", \"47\", \"98\", \"95\", \"94\", \"93\", \"92\", \"90\", \"89\", \"139\", \"141\", \"143\", \"164\", \"184\", \"183\", \"182\", \"180\", \"177\", \"175\", \"174\", \"173\", \"171\", \"169\", \"166\", \"165\", \"162\", \"144\", \"161\", \"160\", \"159\", \"157\", \"76\", \"23\", \"153\", \"151\", \"26\", \"149\", \"148\", \"146\", \"22\"], \"type\": \"bar\", \"uid\": \"8562a4ca-dc75-41fc-8c74-6c543acdbf4f\"}], {\"autosize\": false, \"height\": 1000, \"width\": 1000, \"xaxis\": {\"tickfont\": {\"color\": \"black\", \"size\": 12}, \"title\": \"Feature Importances\"}, \"yaxis\": {\"automargin\": true}}, {\"showLink\": true, \"linkText\": \"Export to plot.ly\", \"plotlyServerURL\": \"https://plot.ly\"})});</script>"
      ],
      "text/vnd.plotly.v1+html": [
       "<div id=\"f9459325-dd39-4f22-8336-ae622911499b\" style=\"height: 1000px; width: 1000px;\" class=\"plotly-graph-div\"></div><script type=\"text/javascript\">require([\"plotly\"], function(Plotly) { window.PLOTLYENV=window.PLOTLYENV || {};window.PLOTLYENV.BASE_URL=\"https://plot.ly\";Plotly.newPlot(\"f9459325-dd39-4f22-8336-ae622911499b\", [{\"marker\": {\"color\": \"rgb(158,202,225)\", \"line\": {\"color\": \"rgb(8,48,107)\", \"width\": 1.5}}, \"opacity\": 0.6, \"orientation\": \"h\", \"text\": [0.8268, 0.0285, 0.0158, 0.0087, 0.008, 0.0071, 0.006, 0.0059, 0.0058, 0.0047, 0.0044, 0.004, 0.004, 0.0038, 0.0029, 0.0028, 0.0026, 0.0025, 0.0025, 0.0024, 0.0021, 0.002, 0.002, 0.002, 0.0019, 0.0018, 0.0017, 0.0017, 0.0015, 0.0015, 0.0015, 0.0015, 0.0014, 0.001, 0.001, 0.0009, 0.0009, 0.0009, 0.0009, 0.0009, 0.0008, 0.0008, 0.0008, 0.0007, 0.0007, 0.0006, 0.0006, 0.0006, 0.0005, 0.0005, 0.0005, 0.0005, 0.0005, 0.0005, 0.0004, 0.0004, 0.0004, 0.0004, 0.0004, 0.0003, 0.0003, 0.0003, 0.0003, 0.0003, 0.0003, 0.0003, 0.0003, 0.0003, 0.0003, 0.0003, 0.0003, 0.0003, 0.0002, 0.0002, 0.0002, 0.0002, 0.0002, 0.0002, 0.0002, 0.0002, 0.0002, 0.0002, 0.0002, 0.0002, 0.0002, 0.0002, 0.0002, 0.0002, 0.0002, 0.0001, 0.0001, 0.0001, 0.0001, 0.0001, 0.0001, 0.0001, 0.0001, 0.0001, 0.0001, 0.0001, 0.0001, 0.0001, 0.0001, 0.0001, 0.0001, 0.0001, 0.0001, 0.0001, 0.0001, 0.0001, 0.0001, 0.0001, 0.0001, 0.0001, 0.0001, 0.0001, 0.0001, 0.0001, 0.0001, 0.0001, 0.0001, 0.0001, 0.0001, 0.0, 0.0, 0.0, 0.0, 0.0, 0.0, 0.0, 0.0, 0.0, 0.0, 0.0, 0.0, 0.0, 0.0, 0.0, 0.0, 0.0, 0.0, 0.0, 0.0, 0.0, 0.0, 0.0, 0.0, 0.0, 0.0, 0.0, 0.0, 0.0, 0.0, 0.0, 0.0, 0.0, 0.0, 0.0, 0.0, 0.0, 0.0, 0.0, 0.0, 0.0, 0.0, 0.0, 0.0, 0.0, 0.0, 0.0, 0.0, 0.0, 0.0, 0.0, 0.0, 0.0, 0.0, 0.0, 0.0, 0.0, 0.0, 0.0, 0.0, 0.0, 0.0, 0.0, 0.0, 0.0, 0.0, 0.0, 0.0, 0.0, 0.0, 0.0, 0.0, 0.0, 0.0, 0.0, 0.0, 0.0, 0.0, 0.0, 0.0, 0.0, 0.0, 0.0, 0.0, 0.0, 0.0, 0.0, 0.0, 0.0, 0.0, 0.0, 0.0, 0.0, 0.0, 0.0, 0.0, 0.0, 0.0, 0.0, 0.0, 0.0, 0.0, 0.0, 0.0, 0.0, 0.0, 0.0, 0.0, 0.0, 0.0, 0.0, 0.0, 0.0, 0.0, 0.0, 0.0, 0.0, 0.0, 0.0, 0.0, 0.0, 0.0, 0.0, 0.0, 0.0, 0.0, 0.0], \"textposition\": \"outside\", \"x\": [0.82681538246344, 0.02848674295471929, 0.015804823825357084, 0.00872205192682972, 0.007976473210206067, 0.007141605346055211, 0.005962154198890892, 0.005921103485200757, 0.005754174297903793, 0.0046626195917577355, 0.004378711264339272, 0.004019615487656798, 0.004007893165164686, 0.0038124991511564437, 0.0029370827278456914, 0.0028380245696171887, 0.002560444082724243, 0.002535044166772783, 0.002462679688635972, 0.0023599227326541227, 0.0021431054415988375, 0.0019885213497520047, 0.0019708978999388818, 0.001951884820873713, 0.0018638057726957273, 0.0017540167336694782, 0.0017263735989262476, 0.0016866850413134581, 0.0015426575553765835, 0.0015037186837324305, 0.0014990583147344247, 0.0014559836590939484, 0.001372303162803201, 0.0010382948435649687, 0.0010067167372272091, 0.0009485737366232844, 0.000947847039221833, 0.0009206513845335208, 0.0008883447472063413, 0.0008554719744771424, 0.0007942685015791402, 0.0007825439991172199, 0.0007648864499361867, 0.0006924033092681741, 0.0006811722987475544, 0.0006473990347623666, 0.0005781956133366931, 0.0005766077000417361, 0.0005317546731346955, 0.0005154586490689988, 0.0005116688141274313, 0.00047929164633622495, 0.0004757395035929305, 0.0004609526982501926, 0.00042397141736439856, 0.0003948035312663228, 0.00038306669871413, 0.00037549197911452355, 0.00036035887396504147, 0.00034918452144164865, 0.0003431752868726125, 0.0003403722708533311, 0.00032607089040322893, 0.00032494288790674205, 0.0003194914534126988, 0.0003101021960343593, 0.00030112903591138977, 0.00030096162185373906, 0.00029615432778933514, 0.0002716793397290074, 0.00026942145458980937, 0.0002593772788754881, 0.00024833980575887546, 0.0002478185074931685, 0.0002442004515447261, 0.00023518242815404196, 0.00022498883949249328, 0.0002194127778472739, 0.000218487781899903, 0.00021457478810195518, 0.00020722149472661251, 0.000206605181064423, 0.00020016426003027101, 0.00019941503052322873, 0.00018696641793998823, 0.0001842046407601206, 0.00018398663928217442, 0.00016823638623342807, 0.00015503432679939735, 0.00014067622380549427, 0.00013531660065921498, 0.00013202911537264748, 0.0001295794252882773, 0.00012902571684257475, 0.00012817535719547503, 0.00012747133546088518, 0.00011691347953063484, 0.00011603549253095741, 0.00011592982369472427, 0.00011204824444992766, 0.0001100191347345399, 0.00010776195378352213, 0.00010749750713647125, 0.00010651692576511194, 0.00010371061255149352, 9.92151329289717e-05, 9.871789913373247e-05, 9.685624286403636e-05, 9.505976569294321e-05, 8.773683143062795e-05, 8.505374001213093e-05, 8.339695155030822e-05, 8.301575757111999e-05, 8.216719913012621e-05, 7.978591958036904e-05, 7.701685148740485e-05, 6.969827742728053e-05, 6.571684981464626e-05, 6.541785409489519e-05, 6.348572610643312e-05, 6.337245664993542e-05, 5.6537292720025625e-05, 5.494202801776459e-05, 4.992508572740204e-05, 4.5765074547895844e-05, 3.858721741124143e-05, 3.837718213476282e-05, 3.746382761894072e-05, 3.572791490068083e-05, 3.1320416571057764e-05, 2.9522465799303818e-05, 2.6346728980626628e-05, 2.375530617186956e-05, 2.285346741205217e-05, 1.8461890498761422e-05, 1.8323696966536253e-05, 1.3391221218092274e-05, 1.1895177494556312e-05, 9.269686562736542e-06, 8.37903839040614e-06, 2.221588217292146e-06, 8.83588411307939e-07, 5.472338728056244e-07, 1.3408173501524118e-07, 4.9835001626106154e-08, 0.0, 0.0, 0.0, 0.0, 0.0, 0.0, 0.0, 0.0, 0.0, 0.0, 0.0, 0.0, 0.0, 0.0, 0.0, 0.0, 0.0, 0.0, 0.0, 0.0, 0.0, 0.0, 0.0, 0.0, 0.0, 0.0, 0.0, 0.0, 0.0, 0.0, 0.0, 0.0, 0.0, 0.0, 0.0, 0.0, 0.0, 0.0, 0.0, 0.0, 0.0, 0.0, 0.0, 0.0, 0.0, 0.0, 0.0, 0.0, 0.0, 0.0, 0.0, 0.0, 0.0, 0.0, 0.0, 0.0, 0.0, 0.0, 0.0, 0.0, 0.0, 0.0, 0.0, 0.0, 0.0, 0.0, 0.0, 0.0, 0.0, 0.0, 0.0, 0.0, 0.0, 0.0, 0.0, 0.0, 0.0, 0.0, 0.0, 0.0, 0.0, 0.0, 0.0, 0.0, 0.0, 0.0, 0.0, 0.0, 0.0, 0.0, 0.0, 0.0, 0.0, 0.0, 0.0, 0.0, 0.0, 0.0, 0.0, 0.0, 0.0, 0.0, 0.0, 0.0, 0.0], \"y\": [\"0\", \"111\", \"209\", \"27\", \"58\", \"99\", \"154\", \"212\", \"20\", \"197\", \"3\", \"158\", \"204\", \"109\", \"2\", \"102\", \"132\", \"10\", \"236\", \"40\", \"185\", \"19\", \"142\", \"7\", \"61\", \"156\", \"71\", \"66\", \"97\", \"91\", \"137\", \"150\", \"187\", \"1\", \"25\", \"232\", \"72\", \"205\", \"181\", \"29\", \"24\", \"36\", \"60\", \"32\", \"107\", \"117\", \"135\", \"17\", \"101\", \"83\", \"42\", \"127\", \"77\", \"74\", \"28\", \"242\", \"57\", \"120\", \"229\", \"63\", \"59\", \"55\", \"249\", \"239\", \"85\", \"5\", \"128\", \"49\", \"155\", \"136\", \"4\", \"125\", \"202\", \"48\", \"228\", \"123\", \"21\", \"118\", \"188\", \"191\", \"70\", \"131\", \"75\", \"64\", \"211\", \"113\", \"62\", \"41\", \"37\", \"198\", \"46\", \"18\", \"190\", \"44\", \"86\", \"122\", \"35\", \"43\", \"108\", \"30\", \"13\", \"126\", \"67\", \"140\", \"11\", \"84\", \"31\", \"73\", \"105\", \"147\", \"176\", \"170\", \"172\", \"167\", \"178\", \"130\", \"15\", \"106\", \"38\", \"179\", \"114\", \"56\", \"163\", \"222\", \"195\", \"14\", \"88\", \"96\", \"152\", \"225\", \"81\", \"207\", \"145\", \"33\", \"243\", \"238\", \"248\", \"51\", \"52\", \"206\", \"78\", \"39\", \"201\", \"214\", \"112\", \"237\", \"54\", \"245\", \"244\", \"203\", \"196\", \"247\", \"246\", \"240\", \"199\", \"53\", \"192\", \"194\", \"241\", \"200\", \"65\", \"193\", \"8\", \"210\", \"12\", \"233\", \"230\", \"231\", \"68\", \"227\", \"6\", \"226\", \"224\", \"223\", \"189\", \"221\", \"220\", \"208\", \"234\", \"219\", \"218\", \"217\", \"235\", \"216\", \"215\", \"213\", \"9\", \"69\", \"87\", \"168\", \"186\", \"16\", \"138\", \"134\", \"133\", \"34\", \"79\", \"129\", \"80\", \"124\", \"121\", \"119\", \"82\", \"116\", \"115\", \"50\", \"110\", \"104\", \"103\", \"45\", \"100\", \"47\", \"98\", \"95\", \"94\", \"93\", \"92\", \"90\", \"89\", \"139\", \"141\", \"143\", \"164\", \"184\", \"183\", \"182\", \"180\", \"177\", \"175\", \"174\", \"173\", \"171\", \"169\", \"166\", \"165\", \"162\", \"144\", \"161\", \"160\", \"159\", \"157\", \"76\", \"23\", \"153\", \"151\", \"26\", \"149\", \"148\", \"146\", \"22\"], \"type\": \"bar\", \"uid\": \"8562a4ca-dc75-41fc-8c74-6c543acdbf4f\"}], {\"autosize\": false, \"height\": 1000, \"width\": 1000, \"xaxis\": {\"tickfont\": {\"color\": \"black\", \"size\": 12}, \"title\": \"Feature Importances\"}, \"yaxis\": {\"automargin\": true}}, {\"showLink\": true, \"linkText\": \"Export to plot.ly\", \"plotlyServerURL\": \"https://plot.ly\"})});</script>"
      ]
     },
     "metadata": {},
     "output_type": "display_data"
    },
    {
     "name": "stdout",
     "output_type": "stream",
     "text": [
      "\n",
      "\n",
      "\u001b[1mExtraTree Classifier\u001b[0m\n",
      "Accuracy of the model for training data is: 0.9199513861516226\n",
      "Confusion Matrix for training data is:\n"
     ]
    },
    {
     "data": {
      "text/plain": [
       "Predicted  False  True  __all__\n",
       "Actual                         \n",
       "False      23706  2310    26016\n",
       "True         127  4301     4428\n",
       "__all__    23833  6611    30444"
      ]
     },
     "metadata": {},
     "output_type": "display_data"
    },
    {
     "name": "stdout",
     "output_type": "stream",
     "text": [
      "Accuracy of the model for test data is: 0.9085613551007895\n",
      "Confusion Matrix for test data is:\n"
     ]
    },
    {
     "data": {
      "text/plain": [
       "Predicted  False  True  __all__\n",
       "Actual                         \n",
       "False      10114   984    11098\n",
       "True         209  1740     1949\n",
       "__all__    10323  2724    13047"
      ]
     },
     "metadata": {},
     "output_type": "display_data"
    },
    {
     "data": {
      "application/vnd.plotly.v1+json": {
       "config": {
        "linkText": "Export to plot.ly",
        "plotlyServerURL": "https://plot.ly",
        "showLink": true
       },
       "data": [
        {
         "marker": {
          "color": "rgb(158,202,225)",
          "line": {
           "color": "rgb(8,48,107)",
           "width": 1.5
          }
         },
         "opacity": 0.6,
         "orientation": "h",
         "text": [
          0.0313,
          0.0245,
          0.0171,
          0.0169,
          0.0164,
          0.0162,
          0.0161,
          0.0153,
          0.0142,
          0.0132,
          0.0131,
          0.0127,
          0.0124,
          0.0124,
          0.0121,
          0.0118,
          0.0113,
          0.011,
          0.011,
          0.011,
          0.0109,
          0.0103,
          0.0103,
          0.0098,
          0.0097,
          0.0097,
          0.0096,
          0.0095,
          0.0093,
          0.0092,
          0.0092,
          0.0091,
          0.0089,
          0.0084,
          0.0082,
          0.0081,
          0.0078,
          0.0077,
          0.0076,
          0.0075,
          0.0075,
          0.0075,
          0.0072,
          0.0072,
          0.0071,
          0.0068,
          0.0066,
          0.0065,
          0.0064,
          0.0063,
          0.0063,
          0.0061,
          0.006,
          0.006,
          0.0059,
          0.0059,
          0.0058,
          0.0058,
          0.0058,
          0.0056,
          0.0056,
          0.0056,
          0.0056,
          0.0054,
          0.0053,
          0.0052,
          0.005,
          0.0049,
          0.0049,
          0.0047,
          0.0045,
          0.0045,
          0.0045,
          0.0044,
          0.0043,
          0.0042,
          0.0042,
          0.004,
          0.004,
          0.004,
          0.004,
          0.0039,
          0.0038,
          0.0037,
          0.0037,
          0.0036,
          0.0035,
          0.0034,
          0.0034,
          0.0034,
          0.0034,
          0.0033,
          0.0033,
          0.0033,
          0.0032,
          0.0032,
          0.0032,
          0.0031,
          0.0031,
          0.0031,
          0.0031,
          0.003,
          0.0029,
          0.0029,
          0.0029,
          0.0029,
          0.0027,
          0.0027,
          0.0026,
          0.0026,
          0.0026,
          0.0026,
          0.0025,
          0.0025,
          0.0024,
          0.0024,
          0.0024,
          0.0024,
          0.0024,
          0.0023,
          0.0023,
          0.0023,
          0.0023,
          0.0023,
          0.0022,
          0.0022,
          0.0022,
          0.0022,
          0.0021,
          0.0021,
          0.0021,
          0.0021,
          0.0019,
          0.0019,
          0.0019,
          0.0019,
          0.0019,
          0.0018,
          0.0018,
          0.0018,
          0.0018,
          0.0018,
          0.0018,
          0.0018,
          0.0018,
          0.0018,
          0.0017,
          0.0017,
          0.0017,
          0.0017,
          0.0017,
          0.0017,
          0.0017,
          0.0016,
          0.0016,
          0.0016,
          0.0016,
          0.0016,
          0.0016,
          0.0016,
          0.0015,
          0.0015,
          0.0015,
          0.0015,
          0.0015,
          0.0015,
          0.0015,
          0.0015,
          0.0015,
          0.0015,
          0.0014,
          0.0014,
          0.0014,
          0.0014,
          0.0014,
          0.0014,
          0.0014,
          0.0014,
          0.0013,
          0.0013,
          0.0013,
          0.0013,
          0.0013,
          0.0013,
          0.0013,
          0.0013,
          0.0013,
          0.0013,
          0.0012,
          0.0012,
          0.0012,
          0.0012,
          0.0012,
          0.0012,
          0.0012,
          0.0012,
          0.0012,
          0.0012,
          0.0012,
          0.0012,
          0.0011,
          0.0011,
          0.0011,
          0.0011,
          0.0011,
          0.0011,
          0.0011,
          0.0011,
          0.0011,
          0.0011,
          0.0011,
          0.0011,
          0.0011,
          0.0011,
          0.0011,
          0.0011,
          0.0011,
          0.001,
          0.001,
          0.001,
          0.001,
          0.001,
          0.0009,
          0.0009,
          0.0009,
          0.0009,
          0.0009,
          0.0009,
          0.0009,
          0.0008,
          0.0008,
          0.0008,
          0.0008,
          0.0008,
          0.0008,
          0.0008,
          0.0008,
          0.0008,
          0.0008,
          0.0008,
          0.0008,
          0.0008,
          0.0008,
          0.0008,
          0.0008,
          0.0008,
          0.0007,
          0.0007,
          0.0006,
          0.0004
         ],
         "textposition": "outside",
         "type": "bar",
         "uid": "77b40671-0ab0-455d-a878-0485e8f10ce8",
         "x": [
          0.03126471275811566,
          0.02454095384145213,
          0.01714718356727622,
          0.01691690661946126,
          0.016431071412318053,
          0.016220458728889713,
          0.01612247583261993,
          0.015313586142266754,
          0.014241410338974168,
          0.013235978413295185,
          0.013143021326038387,
          0.012734508660936094,
          0.012415690187173773,
          0.012357462435948475,
          0.012145063126105382,
          0.011826310439890549,
          0.011295999033272126,
          0.011021555227494439,
          0.011002949401306267,
          0.010967056261767768,
          0.010899240923954697,
          0.010276415841396694,
          0.010266057842069718,
          0.009785972128224275,
          0.009672472330306141,
          0.009658714099523884,
          0.009566896205613018,
          0.0095023679528436,
          0.009288669696490347,
          0.009232446944165593,
          0.009169572848340822,
          0.009129287542913131,
          0.008918340883728209,
          0.00838317509634645,
          0.008181164952183125,
          0.008051544800309302,
          0.007760653160469958,
          0.007726739299867169,
          0.007578999908728061,
          0.0075259171627305565,
          0.007503000021103837,
          0.007480034474544267,
          0.007209974125521259,
          0.00716556910795305,
          0.00710742981683671,
          0.0067531716940444474,
          0.006555964995820729,
          0.006476743426366718,
          0.0063717336663582785,
          0.00634963792256499,
          0.0062538460879293465,
          0.006074623020020755,
          0.00602277052019989,
          0.005984373097775179,
          0.005894558670112368,
          0.005881511967272298,
          0.005828380588330078,
          0.0057691274639267934,
          0.005768393237659698,
          0.005609291393075151,
          0.0055957006684870135,
          0.005580957545501497,
          0.0055635078815791114,
          0.0053794112457994855,
          0.005331542038824766,
          0.005228985181408635,
          0.00499461713530395,
          0.0049223995930127275,
          0.004886193001028988,
          0.004738966923463644,
          0.004541315097695553,
          0.004459860167342297,
          0.004459720017093065,
          0.004402675897492791,
          0.004275999856230987,
          0.004182153260975723,
          0.004160101775929037,
          0.004042584233501526,
          0.004026509754797328,
          0.003965367031473382,
          0.003951214142560552,
          0.003873212200289375,
          0.0038173390644952953,
          0.003692486234178981,
          0.003662747930969948,
          0.00364726710652217,
          0.0035492504437551627,
          0.0034406471409706776,
          0.003421566479990318,
          0.003371738957927713,
          0.0033618768307902497,
          0.003346195869909128,
          0.003282404008742765,
          0.0032586272722174257,
          0.003224268786204243,
          0.003219961632585447,
          0.003212475007744621,
          0.0031048174866041742,
          0.003100488595275239,
          0.0030907750625056756,
          0.003075564615700191,
          0.0030361863857518924,
          0.00292231947413489,
          0.0029162215589471313,
          0.002903490999859823,
          0.0028842833734492967,
          0.0026860497718630633,
          0.002685322766589887,
          0.0026479146798623248,
          0.0026321682890357015,
          0.002580971525184424,
          0.002567345912883071,
          0.0025166976013834366,
          0.002501095867237271,
          0.002449682708807987,
          0.0024113313567441725,
          0.002398833460885246,
          0.002394859834439183,
          0.002376859903702612,
          0.002348022955539034,
          0.0023430045148646007,
          0.0023319377154182395,
          0.002318285276952839,
          0.0022739785885065554,
          0.0022257619444150884,
          0.0022021817224371553,
          0.0021899067750810832,
          0.00215520725067957,
          0.002114363278673999,
          0.002099281797989918,
          0.0020928585489997384,
          0.002059964524547336,
          0.00191669039438416,
          0.0019150278751679979,
          0.0018950084631505454,
          0.0018720402740086532,
          0.0018719310292499396,
          0.0018461011405581519,
          0.0018180878844695262,
          0.0018116432760996737,
          0.001793287563554595,
          0.0017905448788270186,
          0.0017766195856873286,
          0.0017710799653322979,
          0.0017646722924898044,
          0.00176071684205704,
          0.001737581924816457,
          0.0017148338390562394,
          0.0016964113676228927,
          0.0016926799563738507,
          0.0016903228739220157,
          0.0016850898982691538,
          0.0016592087700580366,
          0.0016481480334658654,
          0.0016403559853098576,
          0.001633236164389874,
          0.00163223564310545,
          0.001615534030241611,
          0.0015679406434569673,
          0.0015669771430119755,
          0.001543484886809989,
          0.0015427091291884487,
          0.0015388825637164402,
          0.001494196059465889,
          0.0014941603328855802,
          0.0014936821472325275,
          0.0014906133898041519,
          0.001478502681006324,
          0.0014775712086250756,
          0.0014573755260165228,
          0.0014422225333504907,
          0.001418779564125632,
          0.0014147076568117008,
          0.0014117995556290155,
          0.0014098023705835482,
          0.0013951736444746529,
          0.0013772946338523248,
          0.0013609593149050202,
          0.0013286800719402845,
          0.001324678710978732,
          0.001312189949429904,
          0.0013030301334556727,
          0.001292090093776089,
          0.00128084654989969,
          0.001280727990417539,
          0.0012715870501486775,
          0.0012669257265501429,
          0.0012600240493363768,
          0.001249512849489764,
          0.0012376286727536082,
          0.0012338173567000294,
          0.001230741730405995,
          0.0012296731256381832,
          0.001223417877058338,
          0.001211980588268862,
          0.0012109485026451058,
          0.0011867713455666028,
          0.0011751283481983411,
          0.0011719463888628882,
          0.0011526781815959395,
          0.0011490889035683364,
          0.0011402581360024002,
          0.001124043381990803,
          0.0011152081362185522,
          0.0011137948347981516,
          0.00111240092790765,
          0.0010986938031958438,
          0.0010937206764359375,
          0.0010916224213732748,
          0.0010868924984368603,
          0.0010848110647881308,
          0.0010820324915898616,
          0.0010787079633788905,
          0.0010741736447302769,
          0.0010567603514121358,
          0.0010542198131875359,
          0.0010527213001588491,
          0.0010342309226628985,
          0.0010308762241172608,
          0.0010122460021914199,
          0.000978396810141234,
          0.0009660710277946446,
          0.0009428025705694968,
          0.0009251708590371809,
          0.0009166984133569939,
          0.0009007374388813945,
          0.0008945638220233792,
          0.0008661981334775216,
          0.0008581786831562933,
          0.0008419404625671239,
          0.000841351542169624,
          0.0008399932835708397,
          0.0008266429044235162,
          0.0008215612379985016,
          0.0008181241721836466,
          0.0008162490018891446,
          0.0008156519543714672,
          0.0007718009681559367,
          0.0007693342752472744,
          0.0007676754759968813,
          0.0007629228149073925,
          0.0007574536039939787,
          0.0007572750913617607,
          0.0007535480388203564,
          0.0007524458856583883,
          0.0007523613699830973,
          0.0007119196321259596,
          0.0006832891318983055,
          0.0006473873198602064,
          0.0004057781325259711
         ],
         "y": [
          "132",
          "41",
          "53",
          "62",
          "81",
          "243",
          "90",
          "214",
          "46",
          "177",
          "150",
          "158",
          "84",
          "82",
          "226",
          "50",
          "154",
          "220",
          "237",
          "101",
          "12",
          "100",
          "230",
          "206",
          "97",
          "164",
          "246",
          "8",
          "168",
          "115",
          "57",
          "213",
          "66",
          "229",
          "72",
          "116",
          "217",
          "232",
          "85",
          "140",
          "114",
          "123",
          "3",
          "162",
          "25",
          "222",
          "178",
          "209",
          "74",
          "102",
          "191",
          "122",
          "73",
          "44",
          "54",
          "176",
          "63",
          "195",
          "124",
          "204",
          "77",
          "47",
          "185",
          "2",
          "1",
          "119",
          "21",
          "139",
          "103",
          "64",
          "197",
          "7",
          "155",
          "108",
          "98",
          "133",
          "247",
          "26",
          "4",
          "131",
          "43",
          "70",
          "159",
          "0",
          "107",
          "207",
          "165",
          "248",
          "49",
          "106",
          "149",
          "205",
          "137",
          "216",
          "80",
          "180",
          "19",
          "30",
          "235",
          "236",
          "24",
          "151",
          "141",
          "40",
          "16",
          "33",
          "241",
          "242",
          "9",
          "96",
          "94",
          "51",
          "58",
          "198",
          "160",
          "128",
          "48",
          "68",
          "192",
          "36",
          "20",
          "27",
          "227",
          "167",
          "129",
          "182",
          "148",
          "189",
          "134",
          "89",
          "45",
          "87",
          "157",
          "83",
          "121",
          "183",
          "15",
          "126",
          "104",
          "11",
          "23",
          "99",
          "147",
          "14",
          "32",
          "234",
          "112",
          "210",
          "152",
          "143",
          "249",
          "240",
          "28",
          "202",
          "215",
          "76",
          "187",
          "173",
          "239",
          "95",
          "136",
          "55",
          "211",
          "175",
          "59",
          "37",
          "71",
          "153",
          "42",
          "34",
          "146",
          "113",
          "225",
          "79",
          "111",
          "117",
          "166",
          "78",
          "233",
          "218",
          "31",
          "144",
          "201",
          "92",
          "219",
          "118",
          "212",
          "120",
          "203",
          "69",
          "52",
          "174",
          "60",
          "29",
          "88",
          "193",
          "91",
          "186",
          "245",
          "93",
          "184",
          "208",
          "142",
          "188",
          "67",
          "179",
          "200",
          "105",
          "199",
          "238",
          "223",
          "171",
          "35",
          "172",
          "231",
          "145",
          "6",
          "135",
          "61",
          "224",
          "110",
          "75",
          "65",
          "127",
          "56",
          "194",
          "125",
          "17",
          "181",
          "18",
          "196",
          "169",
          "5",
          "13",
          "109",
          "228",
          "190",
          "161",
          "170",
          "163",
          "156",
          "244",
          "38",
          "39",
          "130",
          "221",
          "10",
          "86",
          "138",
          "22"
         ]
        }
       ],
       "layout": {
        "autosize": false,
        "height": 1000,
        "width": 1000,
        "xaxis": {
         "tickfont": {
          "color": "black",
          "size": 12
         },
         "title": "Feature Importances"
        },
        "yaxis": {
         "automargin": true
        }
       }
      },
      "text/html": [
       "<div id=\"40274b0a-9a4c-4683-9a29-51e8e934301b\" style=\"height: 1000px; width: 1000px;\" class=\"plotly-graph-div\"></div><script type=\"text/javascript\">require([\"plotly\"], function(Plotly) { window.PLOTLYENV=window.PLOTLYENV || {};window.PLOTLYENV.BASE_URL=\"https://plot.ly\";Plotly.newPlot(\"40274b0a-9a4c-4683-9a29-51e8e934301b\", [{\"marker\": {\"color\": \"rgb(158,202,225)\", \"line\": {\"color\": \"rgb(8,48,107)\", \"width\": 1.5}}, \"opacity\": 0.6, \"orientation\": \"h\", \"text\": [0.0313, 0.0245, 0.0171, 0.0169, 0.0164, 0.0162, 0.0161, 0.0153, 0.0142, 0.0132, 0.0131, 0.0127, 0.0124, 0.0124, 0.0121, 0.0118, 0.0113, 0.011, 0.011, 0.011, 0.0109, 0.0103, 0.0103, 0.0098, 0.0097, 0.0097, 0.0096, 0.0095, 0.0093, 0.0092, 0.0092, 0.0091, 0.0089, 0.0084, 0.0082, 0.0081, 0.0078, 0.0077, 0.0076, 0.0075, 0.0075, 0.0075, 0.0072, 0.0072, 0.0071, 0.0068, 0.0066, 0.0065, 0.0064, 0.0063, 0.0063, 0.0061, 0.006, 0.006, 0.0059, 0.0059, 0.0058, 0.0058, 0.0058, 0.0056, 0.0056, 0.0056, 0.0056, 0.0054, 0.0053, 0.0052, 0.005, 0.0049, 0.0049, 0.0047, 0.0045, 0.0045, 0.0045, 0.0044, 0.0043, 0.0042, 0.0042, 0.004, 0.004, 0.004, 0.004, 0.0039, 0.0038, 0.0037, 0.0037, 0.0036, 0.0035, 0.0034, 0.0034, 0.0034, 0.0034, 0.0033, 0.0033, 0.0033, 0.0032, 0.0032, 0.0032, 0.0031, 0.0031, 0.0031, 0.0031, 0.003, 0.0029, 0.0029, 0.0029, 0.0029, 0.0027, 0.0027, 0.0026, 0.0026, 0.0026, 0.0026, 0.0025, 0.0025, 0.0024, 0.0024, 0.0024, 0.0024, 0.0024, 0.0023, 0.0023, 0.0023, 0.0023, 0.0023, 0.0022, 0.0022, 0.0022, 0.0022, 0.0021, 0.0021, 0.0021, 0.0021, 0.0019, 0.0019, 0.0019, 0.0019, 0.0019, 0.0018, 0.0018, 0.0018, 0.0018, 0.0018, 0.0018, 0.0018, 0.0018, 0.0018, 0.0017, 0.0017, 0.0017, 0.0017, 0.0017, 0.0017, 0.0017, 0.0016, 0.0016, 0.0016, 0.0016, 0.0016, 0.0016, 0.0016, 0.0015, 0.0015, 0.0015, 0.0015, 0.0015, 0.0015, 0.0015, 0.0015, 0.0015, 0.0015, 0.0014, 0.0014, 0.0014, 0.0014, 0.0014, 0.0014, 0.0014, 0.0014, 0.0013, 0.0013, 0.0013, 0.0013, 0.0013, 0.0013, 0.0013, 0.0013, 0.0013, 0.0013, 0.0012, 0.0012, 0.0012, 0.0012, 0.0012, 0.0012, 0.0012, 0.0012, 0.0012, 0.0012, 0.0012, 0.0012, 0.0011, 0.0011, 0.0011, 0.0011, 0.0011, 0.0011, 0.0011, 0.0011, 0.0011, 0.0011, 0.0011, 0.0011, 0.0011, 0.0011, 0.0011, 0.0011, 0.0011, 0.001, 0.001, 0.001, 0.001, 0.001, 0.0009, 0.0009, 0.0009, 0.0009, 0.0009, 0.0009, 0.0009, 0.0008, 0.0008, 0.0008, 0.0008, 0.0008, 0.0008, 0.0008, 0.0008, 0.0008, 0.0008, 0.0008, 0.0008, 0.0008, 0.0008, 0.0008, 0.0008, 0.0008, 0.0007, 0.0007, 0.0006, 0.0004], \"textposition\": \"outside\", \"x\": [0.03126471275811566, 0.02454095384145213, 0.01714718356727622, 0.01691690661946126, 0.016431071412318053, 0.016220458728889713, 0.01612247583261993, 0.015313586142266754, 0.014241410338974168, 0.013235978413295185, 0.013143021326038387, 0.012734508660936094, 0.012415690187173773, 0.012357462435948475, 0.012145063126105382, 0.011826310439890549, 0.011295999033272126, 0.011021555227494439, 0.011002949401306267, 0.010967056261767768, 0.010899240923954697, 0.010276415841396694, 0.010266057842069718, 0.009785972128224275, 0.009672472330306141, 0.009658714099523884, 0.009566896205613018, 0.0095023679528436, 0.009288669696490347, 0.009232446944165593, 0.009169572848340822, 0.009129287542913131, 0.008918340883728209, 0.00838317509634645, 0.008181164952183125, 0.008051544800309302, 0.007760653160469958, 0.007726739299867169, 0.007578999908728061, 0.0075259171627305565, 0.007503000021103837, 0.007480034474544267, 0.007209974125521259, 0.00716556910795305, 0.00710742981683671, 0.0067531716940444474, 0.006555964995820729, 0.006476743426366718, 0.0063717336663582785, 0.00634963792256499, 0.0062538460879293465, 0.006074623020020755, 0.00602277052019989, 0.005984373097775179, 0.005894558670112368, 0.005881511967272298, 0.005828380588330078, 0.0057691274639267934, 0.005768393237659698, 0.005609291393075151, 0.0055957006684870135, 0.005580957545501497, 0.0055635078815791114, 0.0053794112457994855, 0.005331542038824766, 0.005228985181408635, 0.00499461713530395, 0.0049223995930127275, 0.004886193001028988, 0.004738966923463644, 0.004541315097695553, 0.004459860167342297, 0.004459720017093065, 0.004402675897492791, 0.004275999856230987, 0.004182153260975723, 0.004160101775929037, 0.004042584233501526, 0.004026509754797328, 0.003965367031473382, 0.003951214142560552, 0.003873212200289375, 0.0038173390644952953, 0.003692486234178981, 0.003662747930969948, 0.00364726710652217, 0.0035492504437551627, 0.0034406471409706776, 0.003421566479990318, 0.003371738957927713, 0.0033618768307902497, 0.003346195869909128, 0.003282404008742765, 0.0032586272722174257, 0.003224268786204243, 0.003219961632585447, 0.003212475007744621, 0.0031048174866041742, 0.003100488595275239, 0.0030907750625056756, 0.003075564615700191, 0.0030361863857518924, 0.00292231947413489, 0.0029162215589471313, 0.002903490999859823, 0.0028842833734492967, 0.0026860497718630633, 0.002685322766589887, 0.0026479146798623248, 0.0026321682890357015, 0.002580971525184424, 0.002567345912883071, 0.0025166976013834366, 0.002501095867237271, 0.002449682708807987, 0.0024113313567441725, 0.002398833460885246, 0.002394859834439183, 0.002376859903702612, 0.002348022955539034, 0.0023430045148646007, 0.0023319377154182395, 0.002318285276952839, 0.0022739785885065554, 0.0022257619444150884, 0.0022021817224371553, 0.0021899067750810832, 0.00215520725067957, 0.002114363278673999, 0.002099281797989918, 0.0020928585489997384, 0.002059964524547336, 0.00191669039438416, 0.0019150278751679979, 0.0018950084631505454, 0.0018720402740086532, 0.0018719310292499396, 0.0018461011405581519, 0.0018180878844695262, 0.0018116432760996737, 0.001793287563554595, 0.0017905448788270186, 0.0017766195856873286, 0.0017710799653322979, 0.0017646722924898044, 0.00176071684205704, 0.001737581924816457, 0.0017148338390562394, 0.0016964113676228927, 0.0016926799563738507, 0.0016903228739220157, 0.0016850898982691538, 0.0016592087700580366, 0.0016481480334658654, 0.0016403559853098576, 0.001633236164389874, 0.00163223564310545, 0.001615534030241611, 0.0015679406434569673, 0.0015669771430119755, 0.001543484886809989, 0.0015427091291884487, 0.0015388825637164402, 0.001494196059465889, 0.0014941603328855802, 0.0014936821472325275, 0.0014906133898041519, 0.001478502681006324, 0.0014775712086250756, 0.0014573755260165228, 0.0014422225333504907, 0.001418779564125632, 0.0014147076568117008, 0.0014117995556290155, 0.0014098023705835482, 0.0013951736444746529, 0.0013772946338523248, 0.0013609593149050202, 0.0013286800719402845, 0.001324678710978732, 0.001312189949429904, 0.0013030301334556727, 0.001292090093776089, 0.00128084654989969, 0.001280727990417539, 0.0012715870501486775, 0.0012669257265501429, 0.0012600240493363768, 0.001249512849489764, 0.0012376286727536082, 0.0012338173567000294, 0.001230741730405995, 0.0012296731256381832, 0.001223417877058338, 0.001211980588268862, 0.0012109485026451058, 0.0011867713455666028, 0.0011751283481983411, 0.0011719463888628882, 0.0011526781815959395, 0.0011490889035683364, 0.0011402581360024002, 0.001124043381990803, 0.0011152081362185522, 0.0011137948347981516, 0.00111240092790765, 0.0010986938031958438, 0.0010937206764359375, 0.0010916224213732748, 0.0010868924984368603, 0.0010848110647881308, 0.0010820324915898616, 0.0010787079633788905, 0.0010741736447302769, 0.0010567603514121358, 0.0010542198131875359, 0.0010527213001588491, 0.0010342309226628985, 0.0010308762241172608, 0.0010122460021914199, 0.000978396810141234, 0.0009660710277946446, 0.0009428025705694968, 0.0009251708590371809, 0.0009166984133569939, 0.0009007374388813945, 0.0008945638220233792, 0.0008661981334775216, 0.0008581786831562933, 0.0008419404625671239, 0.000841351542169624, 0.0008399932835708397, 0.0008266429044235162, 0.0008215612379985016, 0.0008181241721836466, 0.0008162490018891446, 0.0008156519543714672, 0.0007718009681559367, 0.0007693342752472744, 0.0007676754759968813, 0.0007629228149073925, 0.0007574536039939787, 0.0007572750913617607, 0.0007535480388203564, 0.0007524458856583883, 0.0007523613699830973, 0.0007119196321259596, 0.0006832891318983055, 0.0006473873198602064, 0.0004057781325259711], \"y\": [\"132\", \"41\", \"53\", \"62\", \"81\", \"243\", \"90\", \"214\", \"46\", \"177\", \"150\", \"158\", \"84\", \"82\", \"226\", \"50\", \"154\", \"220\", \"237\", \"101\", \"12\", \"100\", \"230\", \"206\", \"97\", \"164\", \"246\", \"8\", \"168\", \"115\", \"57\", \"213\", \"66\", \"229\", \"72\", \"116\", \"217\", \"232\", \"85\", \"140\", \"114\", \"123\", \"3\", \"162\", \"25\", \"222\", \"178\", \"209\", \"74\", \"102\", \"191\", \"122\", \"73\", \"44\", \"54\", \"176\", \"63\", \"195\", \"124\", \"204\", \"77\", \"47\", \"185\", \"2\", \"1\", \"119\", \"21\", \"139\", \"103\", \"64\", \"197\", \"7\", \"155\", \"108\", \"98\", \"133\", \"247\", \"26\", \"4\", \"131\", \"43\", \"70\", \"159\", \"0\", \"107\", \"207\", \"165\", \"248\", \"49\", \"106\", \"149\", \"205\", \"137\", \"216\", \"80\", \"180\", \"19\", \"30\", \"235\", \"236\", \"24\", \"151\", \"141\", \"40\", \"16\", \"33\", \"241\", \"242\", \"9\", \"96\", \"94\", \"51\", \"58\", \"198\", \"160\", \"128\", \"48\", \"68\", \"192\", \"36\", \"20\", \"27\", \"227\", \"167\", \"129\", \"182\", \"148\", \"189\", \"134\", \"89\", \"45\", \"87\", \"157\", \"83\", \"121\", \"183\", \"15\", \"126\", \"104\", \"11\", \"23\", \"99\", \"147\", \"14\", \"32\", \"234\", \"112\", \"210\", \"152\", \"143\", \"249\", \"240\", \"28\", \"202\", \"215\", \"76\", \"187\", \"173\", \"239\", \"95\", \"136\", \"55\", \"211\", \"175\", \"59\", \"37\", \"71\", \"153\", \"42\", \"34\", \"146\", \"113\", \"225\", \"79\", \"111\", \"117\", \"166\", \"78\", \"233\", \"218\", \"31\", \"144\", \"201\", \"92\", \"219\", \"118\", \"212\", \"120\", \"203\", \"69\", \"52\", \"174\", \"60\", \"29\", \"88\", \"193\", \"91\", \"186\", \"245\", \"93\", \"184\", \"208\", \"142\", \"188\", \"67\", \"179\", \"200\", \"105\", \"199\", \"238\", \"223\", \"171\", \"35\", \"172\", \"231\", \"145\", \"6\", \"135\", \"61\", \"224\", \"110\", \"75\", \"65\", \"127\", \"56\", \"194\", \"125\", \"17\", \"181\", \"18\", \"196\", \"169\", \"5\", \"13\", \"109\", \"228\", \"190\", \"161\", \"170\", \"163\", \"156\", \"244\", \"38\", \"39\", \"130\", \"221\", \"10\", \"86\", \"138\", \"22\"], \"type\": \"bar\", \"uid\": \"77b40671-0ab0-455d-a878-0485e8f10ce8\"}], {\"autosize\": false, \"height\": 1000, \"width\": 1000, \"xaxis\": {\"tickfont\": {\"color\": \"black\", \"size\": 12}, \"title\": \"Feature Importances\"}, \"yaxis\": {\"automargin\": true}}, {\"showLink\": true, \"linkText\": \"Export to plot.ly\", \"plotlyServerURL\": \"https://plot.ly\"})});</script>"
      ],
      "text/vnd.plotly.v1+html": [
       "<div id=\"40274b0a-9a4c-4683-9a29-51e8e934301b\" style=\"height: 1000px; width: 1000px;\" class=\"plotly-graph-div\"></div><script type=\"text/javascript\">require([\"plotly\"], function(Plotly) { window.PLOTLYENV=window.PLOTLYENV || {};window.PLOTLYENV.BASE_URL=\"https://plot.ly\";Plotly.newPlot(\"40274b0a-9a4c-4683-9a29-51e8e934301b\", [{\"marker\": {\"color\": \"rgb(158,202,225)\", \"line\": {\"color\": \"rgb(8,48,107)\", \"width\": 1.5}}, \"opacity\": 0.6, \"orientation\": \"h\", \"text\": [0.0313, 0.0245, 0.0171, 0.0169, 0.0164, 0.0162, 0.0161, 0.0153, 0.0142, 0.0132, 0.0131, 0.0127, 0.0124, 0.0124, 0.0121, 0.0118, 0.0113, 0.011, 0.011, 0.011, 0.0109, 0.0103, 0.0103, 0.0098, 0.0097, 0.0097, 0.0096, 0.0095, 0.0093, 0.0092, 0.0092, 0.0091, 0.0089, 0.0084, 0.0082, 0.0081, 0.0078, 0.0077, 0.0076, 0.0075, 0.0075, 0.0075, 0.0072, 0.0072, 0.0071, 0.0068, 0.0066, 0.0065, 0.0064, 0.0063, 0.0063, 0.0061, 0.006, 0.006, 0.0059, 0.0059, 0.0058, 0.0058, 0.0058, 0.0056, 0.0056, 0.0056, 0.0056, 0.0054, 0.0053, 0.0052, 0.005, 0.0049, 0.0049, 0.0047, 0.0045, 0.0045, 0.0045, 0.0044, 0.0043, 0.0042, 0.0042, 0.004, 0.004, 0.004, 0.004, 0.0039, 0.0038, 0.0037, 0.0037, 0.0036, 0.0035, 0.0034, 0.0034, 0.0034, 0.0034, 0.0033, 0.0033, 0.0033, 0.0032, 0.0032, 0.0032, 0.0031, 0.0031, 0.0031, 0.0031, 0.003, 0.0029, 0.0029, 0.0029, 0.0029, 0.0027, 0.0027, 0.0026, 0.0026, 0.0026, 0.0026, 0.0025, 0.0025, 0.0024, 0.0024, 0.0024, 0.0024, 0.0024, 0.0023, 0.0023, 0.0023, 0.0023, 0.0023, 0.0022, 0.0022, 0.0022, 0.0022, 0.0021, 0.0021, 0.0021, 0.0021, 0.0019, 0.0019, 0.0019, 0.0019, 0.0019, 0.0018, 0.0018, 0.0018, 0.0018, 0.0018, 0.0018, 0.0018, 0.0018, 0.0018, 0.0017, 0.0017, 0.0017, 0.0017, 0.0017, 0.0017, 0.0017, 0.0016, 0.0016, 0.0016, 0.0016, 0.0016, 0.0016, 0.0016, 0.0015, 0.0015, 0.0015, 0.0015, 0.0015, 0.0015, 0.0015, 0.0015, 0.0015, 0.0015, 0.0014, 0.0014, 0.0014, 0.0014, 0.0014, 0.0014, 0.0014, 0.0014, 0.0013, 0.0013, 0.0013, 0.0013, 0.0013, 0.0013, 0.0013, 0.0013, 0.0013, 0.0013, 0.0012, 0.0012, 0.0012, 0.0012, 0.0012, 0.0012, 0.0012, 0.0012, 0.0012, 0.0012, 0.0012, 0.0012, 0.0011, 0.0011, 0.0011, 0.0011, 0.0011, 0.0011, 0.0011, 0.0011, 0.0011, 0.0011, 0.0011, 0.0011, 0.0011, 0.0011, 0.0011, 0.0011, 0.0011, 0.001, 0.001, 0.001, 0.001, 0.001, 0.0009, 0.0009, 0.0009, 0.0009, 0.0009, 0.0009, 0.0009, 0.0008, 0.0008, 0.0008, 0.0008, 0.0008, 0.0008, 0.0008, 0.0008, 0.0008, 0.0008, 0.0008, 0.0008, 0.0008, 0.0008, 0.0008, 0.0008, 0.0008, 0.0007, 0.0007, 0.0006, 0.0004], \"textposition\": \"outside\", \"x\": [0.03126471275811566, 0.02454095384145213, 0.01714718356727622, 0.01691690661946126, 0.016431071412318053, 0.016220458728889713, 0.01612247583261993, 0.015313586142266754, 0.014241410338974168, 0.013235978413295185, 0.013143021326038387, 0.012734508660936094, 0.012415690187173773, 0.012357462435948475, 0.012145063126105382, 0.011826310439890549, 0.011295999033272126, 0.011021555227494439, 0.011002949401306267, 0.010967056261767768, 0.010899240923954697, 0.010276415841396694, 0.010266057842069718, 0.009785972128224275, 0.009672472330306141, 0.009658714099523884, 0.009566896205613018, 0.0095023679528436, 0.009288669696490347, 0.009232446944165593, 0.009169572848340822, 0.009129287542913131, 0.008918340883728209, 0.00838317509634645, 0.008181164952183125, 0.008051544800309302, 0.007760653160469958, 0.007726739299867169, 0.007578999908728061, 0.0075259171627305565, 0.007503000021103837, 0.007480034474544267, 0.007209974125521259, 0.00716556910795305, 0.00710742981683671, 0.0067531716940444474, 0.006555964995820729, 0.006476743426366718, 0.0063717336663582785, 0.00634963792256499, 0.0062538460879293465, 0.006074623020020755, 0.00602277052019989, 0.005984373097775179, 0.005894558670112368, 0.005881511967272298, 0.005828380588330078, 0.0057691274639267934, 0.005768393237659698, 0.005609291393075151, 0.0055957006684870135, 0.005580957545501497, 0.0055635078815791114, 0.0053794112457994855, 0.005331542038824766, 0.005228985181408635, 0.00499461713530395, 0.0049223995930127275, 0.004886193001028988, 0.004738966923463644, 0.004541315097695553, 0.004459860167342297, 0.004459720017093065, 0.004402675897492791, 0.004275999856230987, 0.004182153260975723, 0.004160101775929037, 0.004042584233501526, 0.004026509754797328, 0.003965367031473382, 0.003951214142560552, 0.003873212200289375, 0.0038173390644952953, 0.003692486234178981, 0.003662747930969948, 0.00364726710652217, 0.0035492504437551627, 0.0034406471409706776, 0.003421566479990318, 0.003371738957927713, 0.0033618768307902497, 0.003346195869909128, 0.003282404008742765, 0.0032586272722174257, 0.003224268786204243, 0.003219961632585447, 0.003212475007744621, 0.0031048174866041742, 0.003100488595275239, 0.0030907750625056756, 0.003075564615700191, 0.0030361863857518924, 0.00292231947413489, 0.0029162215589471313, 0.002903490999859823, 0.0028842833734492967, 0.0026860497718630633, 0.002685322766589887, 0.0026479146798623248, 0.0026321682890357015, 0.002580971525184424, 0.002567345912883071, 0.0025166976013834366, 0.002501095867237271, 0.002449682708807987, 0.0024113313567441725, 0.002398833460885246, 0.002394859834439183, 0.002376859903702612, 0.002348022955539034, 0.0023430045148646007, 0.0023319377154182395, 0.002318285276952839, 0.0022739785885065554, 0.0022257619444150884, 0.0022021817224371553, 0.0021899067750810832, 0.00215520725067957, 0.002114363278673999, 0.002099281797989918, 0.0020928585489997384, 0.002059964524547336, 0.00191669039438416, 0.0019150278751679979, 0.0018950084631505454, 0.0018720402740086532, 0.0018719310292499396, 0.0018461011405581519, 0.0018180878844695262, 0.0018116432760996737, 0.001793287563554595, 0.0017905448788270186, 0.0017766195856873286, 0.0017710799653322979, 0.0017646722924898044, 0.00176071684205704, 0.001737581924816457, 0.0017148338390562394, 0.0016964113676228927, 0.0016926799563738507, 0.0016903228739220157, 0.0016850898982691538, 0.0016592087700580366, 0.0016481480334658654, 0.0016403559853098576, 0.001633236164389874, 0.00163223564310545, 0.001615534030241611, 0.0015679406434569673, 0.0015669771430119755, 0.001543484886809989, 0.0015427091291884487, 0.0015388825637164402, 0.001494196059465889, 0.0014941603328855802, 0.0014936821472325275, 0.0014906133898041519, 0.001478502681006324, 0.0014775712086250756, 0.0014573755260165228, 0.0014422225333504907, 0.001418779564125632, 0.0014147076568117008, 0.0014117995556290155, 0.0014098023705835482, 0.0013951736444746529, 0.0013772946338523248, 0.0013609593149050202, 0.0013286800719402845, 0.001324678710978732, 0.001312189949429904, 0.0013030301334556727, 0.001292090093776089, 0.00128084654989969, 0.001280727990417539, 0.0012715870501486775, 0.0012669257265501429, 0.0012600240493363768, 0.001249512849489764, 0.0012376286727536082, 0.0012338173567000294, 0.001230741730405995, 0.0012296731256381832, 0.001223417877058338, 0.001211980588268862, 0.0012109485026451058, 0.0011867713455666028, 0.0011751283481983411, 0.0011719463888628882, 0.0011526781815959395, 0.0011490889035683364, 0.0011402581360024002, 0.001124043381990803, 0.0011152081362185522, 0.0011137948347981516, 0.00111240092790765, 0.0010986938031958438, 0.0010937206764359375, 0.0010916224213732748, 0.0010868924984368603, 0.0010848110647881308, 0.0010820324915898616, 0.0010787079633788905, 0.0010741736447302769, 0.0010567603514121358, 0.0010542198131875359, 0.0010527213001588491, 0.0010342309226628985, 0.0010308762241172608, 0.0010122460021914199, 0.000978396810141234, 0.0009660710277946446, 0.0009428025705694968, 0.0009251708590371809, 0.0009166984133569939, 0.0009007374388813945, 0.0008945638220233792, 0.0008661981334775216, 0.0008581786831562933, 0.0008419404625671239, 0.000841351542169624, 0.0008399932835708397, 0.0008266429044235162, 0.0008215612379985016, 0.0008181241721836466, 0.0008162490018891446, 0.0008156519543714672, 0.0007718009681559367, 0.0007693342752472744, 0.0007676754759968813, 0.0007629228149073925, 0.0007574536039939787, 0.0007572750913617607, 0.0007535480388203564, 0.0007524458856583883, 0.0007523613699830973, 0.0007119196321259596, 0.0006832891318983055, 0.0006473873198602064, 0.0004057781325259711], \"y\": [\"132\", \"41\", \"53\", \"62\", \"81\", \"243\", \"90\", \"214\", \"46\", \"177\", \"150\", \"158\", \"84\", \"82\", \"226\", \"50\", \"154\", \"220\", \"237\", \"101\", \"12\", \"100\", \"230\", \"206\", \"97\", \"164\", \"246\", \"8\", \"168\", \"115\", \"57\", \"213\", \"66\", \"229\", \"72\", \"116\", \"217\", \"232\", \"85\", \"140\", \"114\", \"123\", \"3\", \"162\", \"25\", \"222\", \"178\", \"209\", \"74\", \"102\", \"191\", \"122\", \"73\", \"44\", \"54\", \"176\", \"63\", \"195\", \"124\", \"204\", \"77\", \"47\", \"185\", \"2\", \"1\", \"119\", \"21\", \"139\", \"103\", \"64\", \"197\", \"7\", \"155\", \"108\", \"98\", \"133\", \"247\", \"26\", \"4\", \"131\", \"43\", \"70\", \"159\", \"0\", \"107\", \"207\", \"165\", \"248\", \"49\", \"106\", \"149\", \"205\", \"137\", \"216\", \"80\", \"180\", \"19\", \"30\", \"235\", \"236\", \"24\", \"151\", \"141\", \"40\", \"16\", \"33\", \"241\", \"242\", \"9\", \"96\", \"94\", \"51\", \"58\", \"198\", \"160\", \"128\", \"48\", \"68\", \"192\", \"36\", \"20\", \"27\", \"227\", \"167\", \"129\", \"182\", \"148\", \"189\", \"134\", \"89\", \"45\", \"87\", \"157\", \"83\", \"121\", \"183\", \"15\", \"126\", \"104\", \"11\", \"23\", \"99\", \"147\", \"14\", \"32\", \"234\", \"112\", \"210\", \"152\", \"143\", \"249\", \"240\", \"28\", \"202\", \"215\", \"76\", \"187\", \"173\", \"239\", \"95\", \"136\", \"55\", \"211\", \"175\", \"59\", \"37\", \"71\", \"153\", \"42\", \"34\", \"146\", \"113\", \"225\", \"79\", \"111\", \"117\", \"166\", \"78\", \"233\", \"218\", \"31\", \"144\", \"201\", \"92\", \"219\", \"118\", \"212\", \"120\", \"203\", \"69\", \"52\", \"174\", \"60\", \"29\", \"88\", \"193\", \"91\", \"186\", \"245\", \"93\", \"184\", \"208\", \"142\", \"188\", \"67\", \"179\", \"200\", \"105\", \"199\", \"238\", \"223\", \"171\", \"35\", \"172\", \"231\", \"145\", \"6\", \"135\", \"61\", \"224\", \"110\", \"75\", \"65\", \"127\", \"56\", \"194\", \"125\", \"17\", \"181\", \"18\", \"196\", \"169\", \"5\", \"13\", \"109\", \"228\", \"190\", \"161\", \"170\", \"163\", \"156\", \"244\", \"38\", \"39\", \"130\", \"221\", \"10\", \"86\", \"138\", \"22\"], \"type\": \"bar\", \"uid\": \"77b40671-0ab0-455d-a878-0485e8f10ce8\"}], {\"autosize\": false, \"height\": 1000, \"width\": 1000, \"xaxis\": {\"tickfont\": {\"color\": \"black\", \"size\": 12}, \"title\": \"Feature Importances\"}, \"yaxis\": {\"automargin\": true}}, {\"showLink\": true, \"linkText\": \"Export to plot.ly\", \"plotlyServerURL\": \"https://plot.ly\"})});</script>"
      ]
     },
     "metadata": {},
     "output_type": "display_data"
    },
    {
     "name": "stdout",
     "output_type": "stream",
     "text": [
      "\n",
      "\n",
      "\u001b[1mBagging Classifier\u001b[0m\n",
      "Accuracy of the model for training data is: 0.9171593745894101\n",
      "Confusion Matrix for training data is:\n"
     ]
    },
    {
     "data": {
      "text/plain": [
       "Predicted  False  True  __all__\n",
       "Actual                         \n",
       "False      23702  2314    26016\n",
       "True         208  4220     4428\n",
       "__all__    23910  6534    30444"
      ]
     },
     "metadata": {},
     "output_type": "display_data"
    },
    {
     "name": "stdout",
     "output_type": "stream",
     "text": [
      "Accuracy of the model for test data is: 0.907411665516977\n",
      "Confusion Matrix for test data is:\n"
     ]
    },
    {
     "data": {
      "text/plain": [
       "Predicted  False  True  __all__\n",
       "Actual                         \n",
       "False      10102   996    11098\n",
       "True         212  1737     1949\n",
       "__all__    10314  2733    13047"
      ]
     },
     "metadata": {},
     "output_type": "display_data"
    },
    {
     "name": "stdout",
     "output_type": "stream",
     "text": [
      "\n",
      "\n",
      "\u001b[1mNeural Network-1\u001b[0m\n",
      "The accuracy of the model on training data is: 0.9151556957035869\n"
     ]
    },
    {
     "data": {
      "text/plain": [
       "Predicted  False  True  __all__\n",
       "Actual                         \n",
       "False      23638  2378    26016\n",
       "True         205  4223     4428\n",
       "__all__    23843  6601    30444"
      ]
     },
     "metadata": {},
     "output_type": "display_data"
    },
    {
     "name": "stdout",
     "output_type": "stream",
     "text": [
      "The accuracy of the model on test data is: 0.9001302981528321\n"
     ]
    },
    {
     "data": {
      "text/plain": [
       "Predicted  False  True  __all__\n",
       "Actual                         \n",
       "False       9994  1104    11098\n",
       "True         199  1750     1949\n",
       "__all__    10193  2854    13047"
      ]
     },
     "metadata": {},
     "output_type": "display_data"
    },
    {
     "name": "stdout",
     "output_type": "stream",
     "text": [
      "\n",
      "\n"
     ]
    }
   ],
   "source": [
    "feat_imp=[None]*4\n",
    "j=0\n",
    "for i in range(0,8):\n",
    "    if i>=2 and i<=5:\n",
    "        model,cm_train,cm_test,acc_train,acc_test,roc_auc,feat_imp[j],mcc=f[i](X_train,Y_train,X_test,Y_test,np.arange(0,250).astype(str))\n",
    "        j=j+1\n",
    "    else:\n",
    "        model,cm_train,cm_test,acc_train,acc_test,roc_auc,mcc=f[i](X_train,Y_train,X_test,Y_test)\n",
    "    table_80_70_train.loc[i]=   ([acc_train,cm_train.TP,cm_train.TN,cm_train.FP,cm_train.FN,cm_train.FPR,cm_train.FNR])\n",
    "    table_80_70_test.loc[i] =   ([acc_test ,cm_test.TP, cm_test.TN, cm_test.FP, cm_test.FN, cm_test.FPR, cm_test.FNR,roc_auc,mcc])\n",
    "    print(\"\\n\")"
   ]
  },
  {
   "cell_type": "markdown",
   "metadata": {},
   "source": [
    "### <a id='5.A' style=\"text-decoration : none; color : #000000;\"> A. Results</a>"
   ]
  },
  {
   "cell_type": "code",
   "execution_count": 52,
   "metadata": {},
   "outputs": [
    {
     "data": {
      "application/vnd.plotly.v1+json": {
       "config": {
        "linkText": "Export to plot.ly",
        "plotlyServerURL": "https://plot.ly",
        "showLink": true
       },
       "data": [
        {
         "mode": "lines",
         "name": "KNN_model",
         "type": "scatter",
         "uid": "a6ce5e79-1e8b-4c14-a76e-8920df962677",
         "x": [
          "accuracy",
          "FPR",
          "FNR",
          "auc"
         ],
         "y": [
          0.903502720932015,
          0.09434132276085781,
          0.10877373011800924,
          0.8984424735605664
         ]
        },
        {
         "mode": "lines+markers",
         "name": "Logistic Regression",
         "type": "scatter",
         "uid": "ee6c52d2-442a-43b1-8a8c-66ed8d822082",
         "x": [
          "accuracy",
          "FPR",
          "FNR",
          "auc"
         ],
         "y": [
          0.8933854525944661,
          0.09776536312849161,
          0.15700359158542843,
          0.87261552264304
         ]
        },
        {
         "marker": {
          "symbol": "x"
         },
         "mode": "lines+markers",
         "name": "Random Forest",
         "type": "scatter",
         "uid": "929f79bc-22cf-4c42-80ac-050684df1f04",
         "x": [
          "accuracy",
          "FPR",
          "FNR",
          "auc"
         ],
         "y": [
          0.9089445849620602,
          0.08812398630383853,
          0.10774756285274499,
          0.9020642254217082
         ]
        },
        {
         "mode": "lines",
         "name": "Ada Boost",
         "type": "scatter",
         "uid": "73b4554a-d064-457e-9ced-d3ea996ee424",
         "x": [
          "accuracy",
          "FPR",
          "FNR",
          "auc"
         ],
         "y": [
          0.9018165095424235,
          0.09100738871868805,
          0.13904566444330427,
          0.8849734734190038
         ]
        },
        {
         "mode": "lines+markers",
         "name": "GradientBoosting",
         "type": "scatter",
         "uid": "d3306913-a984-49f3-96b9-b389c30cf057",
         "x": [
          "accuracy",
          "FPR",
          "FNR",
          "auc"
         ],
         "y": [
          0.905418870238369,
          0.08848441160569472,
          0.129297075423294,
          0.8911092564855057
         ]
        },
        {
         "marker": {
          "symbol": "x"
         },
         "mode": "lines+markers",
         "name": "ExtraTree Classifier",
         "type": "scatter",
         "uid": "cab27e48-8a2b-45ed-9ecc-6ed574bcb06f",
         "x": [
          "accuracy",
          "FPR",
          "FNR",
          "auc"
         ],
         "y": [
          0.9085613551007895,
          0.08866462425662282,
          0.10723447922011288,
          0.9020504482616322
         ]
        },
        {
         "marker": {
          "symbol": "x"
         },
         "mode": "lines+markers",
         "name": "Bagging",
         "type": "scatter",
         "uid": "094528c1-a51a-4e3c-867c-b483c13a501e",
         "x": [
          "accuracy",
          "FPR",
          "FNR",
          "auc"
         ],
         "y": [
          0.907411665516977,
          0.08974590016219139,
          0.10877373011800924,
          0.9007401848598996
         ]
        },
        {
         "marker": {
          "symbol": "x"
         },
         "mode": "lines+markers",
         "name": "Neural Network",
         "type": "scatter",
         "uid": "a9266975-613d-41b0-9c3f-4ec336863815",
         "x": [
          "accuracy",
          "FPR",
          "FNR",
          "auc"
         ],
         "y": [
          0.9001302981528321,
          0.09947738331230853,
          0.10210364289379169,
          0.89920948689695
         ]
        }
       ],
       "layout": {
        "title": "Result comparision for Features selected in Section 1",
        "yaxis": {
         "dtick": 0.05,
         "tick0": 0
        }
       }
      },
      "text/html": [
       "<div id=\"1f932d16-b775-442b-ad9d-e506633d531a\" style=\"height: 525px; width: 100%;\" class=\"plotly-graph-div\"></div><script type=\"text/javascript\">require([\"plotly\"], function(Plotly) { window.PLOTLYENV=window.PLOTLYENV || {};window.PLOTLYENV.BASE_URL=\"https://plot.ly\";Plotly.newPlot(\"1f932d16-b775-442b-ad9d-e506633d531a\", [{\"mode\": \"lines\", \"name\": \"KNN_model\", \"x\": [\"accuracy\", \"FPR\", \"FNR\", \"auc\"], \"y\": [0.903502720932015, 0.09434132276085781, 0.10877373011800924, 0.8984424735605664], \"type\": \"scatter\", \"uid\": \"a6ce5e79-1e8b-4c14-a76e-8920df962677\"}, {\"mode\": \"lines+markers\", \"name\": \"Logistic Regression\", \"x\": [\"accuracy\", \"FPR\", \"FNR\", \"auc\"], \"y\": [0.8933854525944661, 0.09776536312849161, 0.15700359158542843, 0.87261552264304], \"type\": \"scatter\", \"uid\": \"ee6c52d2-442a-43b1-8a8c-66ed8d822082\"}, {\"marker\": {\"symbol\": \"x\"}, \"mode\": \"lines+markers\", \"name\": \"Random Forest\", \"x\": [\"accuracy\", \"FPR\", \"FNR\", \"auc\"], \"y\": [0.9089445849620602, 0.08812398630383853, 0.10774756285274499, 0.9020642254217082], \"type\": \"scatter\", \"uid\": \"929f79bc-22cf-4c42-80ac-050684df1f04\"}, {\"mode\": \"lines\", \"name\": \"Ada Boost\", \"x\": [\"accuracy\", \"FPR\", \"FNR\", \"auc\"], \"y\": [0.9018165095424235, 0.09100738871868805, 0.13904566444330427, 0.8849734734190038], \"type\": \"scatter\", \"uid\": \"73b4554a-d064-457e-9ced-d3ea996ee424\"}, {\"mode\": \"lines+markers\", \"name\": \"GradientBoosting\", \"x\": [\"accuracy\", \"FPR\", \"FNR\", \"auc\"], \"y\": [0.905418870238369, 0.08848441160569472, 0.129297075423294, 0.8911092564855057], \"type\": \"scatter\", \"uid\": \"d3306913-a984-49f3-96b9-b389c30cf057\"}, {\"marker\": {\"symbol\": \"x\"}, \"mode\": \"lines+markers\", \"name\": \"ExtraTree Classifier\", \"x\": [\"accuracy\", \"FPR\", \"FNR\", \"auc\"], \"y\": [0.9085613551007895, 0.08866462425662282, 0.10723447922011288, 0.9020504482616322], \"type\": \"scatter\", \"uid\": \"cab27e48-8a2b-45ed-9ecc-6ed574bcb06f\"}, {\"marker\": {\"symbol\": \"x\"}, \"mode\": \"lines+markers\", \"name\": \"Bagging\", \"x\": [\"accuracy\", \"FPR\", \"FNR\", \"auc\"], \"y\": [0.907411665516977, 0.08974590016219139, 0.10877373011800924, 0.9007401848598996], \"type\": \"scatter\", \"uid\": \"094528c1-a51a-4e3c-867c-b483c13a501e\"}, {\"marker\": {\"symbol\": \"x\"}, \"mode\": \"lines+markers\", \"name\": \"Neural Network\", \"x\": [\"accuracy\", \"FPR\", \"FNR\", \"auc\"], \"y\": [0.9001302981528321, 0.09947738331230853, 0.10210364289379169, 0.89920948689695], \"type\": \"scatter\", \"uid\": \"a9266975-613d-41b0-9c3f-4ec336863815\"}], {\"title\": \"Result comparision for Features selected in Section 1\", \"yaxis\": {\"dtick\": 0.05, \"tick0\": 0}}, {\"showLink\": true, \"linkText\": \"Export to plot.ly\", \"plotlyServerURL\": \"https://plot.ly\"})});</script><script type=\"text/javascript\">window.addEventListener(\"resize\", function(){window._Plotly.Plots.resize(document.getElementById(\"1f932d16-b775-442b-ad9d-e506633d531a\"));});</script>"
      ],
      "text/vnd.plotly.v1+html": [
       "<div id=\"1f932d16-b775-442b-ad9d-e506633d531a\" style=\"height: 525px; width: 100%;\" class=\"plotly-graph-div\"></div><script type=\"text/javascript\">require([\"plotly\"], function(Plotly) { window.PLOTLYENV=window.PLOTLYENV || {};window.PLOTLYENV.BASE_URL=\"https://plot.ly\";Plotly.newPlot(\"1f932d16-b775-442b-ad9d-e506633d531a\", [{\"mode\": \"lines\", \"name\": \"KNN_model\", \"x\": [\"accuracy\", \"FPR\", \"FNR\", \"auc\"], \"y\": [0.903502720932015, 0.09434132276085781, 0.10877373011800924, 0.8984424735605664], \"type\": \"scatter\", \"uid\": \"a6ce5e79-1e8b-4c14-a76e-8920df962677\"}, {\"mode\": \"lines+markers\", \"name\": \"Logistic Regression\", \"x\": [\"accuracy\", \"FPR\", \"FNR\", \"auc\"], \"y\": [0.8933854525944661, 0.09776536312849161, 0.15700359158542843, 0.87261552264304], \"type\": \"scatter\", \"uid\": \"ee6c52d2-442a-43b1-8a8c-66ed8d822082\"}, {\"marker\": {\"symbol\": \"x\"}, \"mode\": \"lines+markers\", \"name\": \"Random Forest\", \"x\": [\"accuracy\", \"FPR\", \"FNR\", \"auc\"], \"y\": [0.9089445849620602, 0.08812398630383853, 0.10774756285274499, 0.9020642254217082], \"type\": \"scatter\", \"uid\": \"929f79bc-22cf-4c42-80ac-050684df1f04\"}, {\"mode\": \"lines\", \"name\": \"Ada Boost\", \"x\": [\"accuracy\", \"FPR\", \"FNR\", \"auc\"], \"y\": [0.9018165095424235, 0.09100738871868805, 0.13904566444330427, 0.8849734734190038], \"type\": \"scatter\", \"uid\": \"73b4554a-d064-457e-9ced-d3ea996ee424\"}, {\"mode\": \"lines+markers\", \"name\": \"GradientBoosting\", \"x\": [\"accuracy\", \"FPR\", \"FNR\", \"auc\"], \"y\": [0.905418870238369, 0.08848441160569472, 0.129297075423294, 0.8911092564855057], \"type\": \"scatter\", \"uid\": \"d3306913-a984-49f3-96b9-b389c30cf057\"}, {\"marker\": {\"symbol\": \"x\"}, \"mode\": \"lines+markers\", \"name\": \"ExtraTree Classifier\", \"x\": [\"accuracy\", \"FPR\", \"FNR\", \"auc\"], \"y\": [0.9085613551007895, 0.08866462425662282, 0.10723447922011288, 0.9020504482616322], \"type\": \"scatter\", \"uid\": \"cab27e48-8a2b-45ed-9ecc-6ed574bcb06f\"}, {\"marker\": {\"symbol\": \"x\"}, \"mode\": \"lines+markers\", \"name\": \"Bagging\", \"x\": [\"accuracy\", \"FPR\", \"FNR\", \"auc\"], \"y\": [0.907411665516977, 0.08974590016219139, 0.10877373011800924, 0.9007401848598996], \"type\": \"scatter\", \"uid\": \"094528c1-a51a-4e3c-867c-b483c13a501e\"}, {\"marker\": {\"symbol\": \"x\"}, \"mode\": \"lines+markers\", \"name\": \"Neural Network\", \"x\": [\"accuracy\", \"FPR\", \"FNR\", \"auc\"], \"y\": [0.9001302981528321, 0.09947738331230853, 0.10210364289379169, 0.89920948689695], \"type\": \"scatter\", \"uid\": \"a9266975-613d-41b0-9c3f-4ec336863815\"}], {\"title\": \"Result comparision for Features selected in Section 1\", \"yaxis\": {\"dtick\": 0.05, \"tick0\": 0}}, {\"showLink\": true, \"linkText\": \"Export to plot.ly\", \"plotlyServerURL\": \"https://plot.ly\"})});</script><script type=\"text/javascript\">window.addEventListener(\"resize\", function(){window._Plotly.Plots.resize(document.getElementById(\"1f932d16-b775-442b-ad9d-e506633d531a\"));});</script>"
      ]
     },
     "metadata": {},
     "output_type": "display_data"
    }
   ],
   "source": [
    "trace0 = go.Scatter(x=table_80_70_test.iloc[0].index.values[[0,5,6,7]],\n",
    "                    y=table_80_70_test.iloc[0].values[[0,5,6,7]],\n",
    "                    mode = 'lines',\n",
    "                    name = 'KNN_model')\n",
    "\n",
    "trace1 = go.Scatter(x=table_80_70_test.iloc[1].index.values[[0,5,6,7]],\n",
    "                    y=table_80_70_test.iloc[1].values[[0,5,6,7]],\n",
    "                    mode = 'lines+markers',\n",
    "                    name = 'Logistic Regression')\n",
    "\n",
    "trace2 = go.Scatter(x=table_80_70_test.iloc[2].index.values[[0,5,6,7]],\n",
    "                    y=table_80_70_test.iloc[2].values[[0,5,6,7]],\n",
    "                    mode = 'lines+markers',marker=dict(symbol='x'),\n",
    "                    name = 'Random Forest')\n",
    "\n",
    "\n",
    "trace3 = go.Scatter(x=table_80_70_test.iloc[3].index.values[[0,5,6,7]],\n",
    "                    y=table_80_70_test.iloc[3].values[[0,5,6,7]],\n",
    "                    mode = 'lines',\n",
    "                    name = 'Ada Boost')\n",
    "\n",
    "trace4 = go.Scatter(x=table_80_70_test.iloc[4].index.values[[0,5,6,7]],\n",
    "                    y=table_80_70_test.iloc[4].values[[0,5,6,7]],\n",
    "                    mode = 'lines+markers',\n",
    "                    name = 'GradientBoosting')\n",
    "\n",
    "trace5 = go.Scatter(x=table_80_70_test.iloc[5].index.values[[0,5,6,7]],\n",
    "                    y=table_80_70_test.iloc[5].values[[0,5,6,7]],\n",
    "                    mode = 'lines+markers',marker=dict(symbol='x'),\n",
    "                    name = 'ExtraTree Classifier')\n",
    "\n",
    "trace6 = go.Scatter(x=table_80_70_test.iloc[6].index.values[[0,5,6,7]],\n",
    "                    y=table_80_70_test.iloc[6].values[[0,5,6,7]],\n",
    "                    mode = 'lines+markers',marker=dict(symbol='x'),\n",
    "                    name = 'Bagging')\n",
    "\n",
    "trace7 = go.Scatter(x=table_80_70_test.iloc[7].index.values[[0,5,6,7]],\n",
    "                    y=table_80_70_test.iloc[7].values[[0,5,6,7]],\n",
    "                    mode = 'lines+markers',marker=dict(symbol='x'),\n",
    "                    name = 'Neural Network')\n",
    "\n",
    "\n",
    "\n",
    "data = [trace0, trace1, trace2, trace3, trace4, trace5, trace6, trace7]\n",
    "layout = go.Layout(yaxis=dict(tick0=0,dtick=0.05),title='Result comparision for Features selected in Section 1')\n",
    "fig = go.Figure(data=data, layout=layout)\n",
    "\n",
    "iplot(fig, filename='Result')"
   ]
  },
  {
   "cell_type": "code",
   "execution_count": 53,
   "metadata": {},
   "outputs": [
    {
     "name": "stdout",
     "output_type": "stream",
     "text": [
      "Training Results\n"
     ]
    },
    {
     "data": {
      "text/html": [
       "<div>\n",
       "<style scoped>\n",
       "    .dataframe tbody tr th:only-of-type {\n",
       "        vertical-align: middle;\n",
       "    }\n",
       "\n",
       "    .dataframe tbody tr th {\n",
       "        vertical-align: top;\n",
       "    }\n",
       "\n",
       "    .dataframe thead th {\n",
       "        text-align: right;\n",
       "    }\n",
       "</style>\n",
       "<table border=\"1\" class=\"dataframe\">\n",
       "  <thead>\n",
       "    <tr style=\"text-align: right;\">\n",
       "      <th></th>\n",
       "      <th>accuracy</th>\n",
       "      <th>TP</th>\n",
       "      <th>TN</th>\n",
       "      <th>FP</th>\n",
       "      <th>FN</th>\n",
       "      <th>FPR</th>\n",
       "      <th>FNR</th>\n",
       "    </tr>\n",
       "    <tr>\n",
       "      <th>index</th>\n",
       "      <th></th>\n",
       "      <th></th>\n",
       "      <th></th>\n",
       "      <th></th>\n",
       "      <th></th>\n",
       "      <th></th>\n",
       "      <th></th>\n",
       "    </tr>\n",
       "  </thead>\n",
       "  <tbody>\n",
       "    <tr>\n",
       "      <th>KNeighborsClassifier</th>\n",
       "      <td>0.906024</td>\n",
       "      <td>3973.0</td>\n",
       "      <td>23610.0</td>\n",
       "      <td>2406.0</td>\n",
       "      <td>455.0</td>\n",
       "      <td>0.092482</td>\n",
       "      <td>0.102755</td>\n",
       "    </tr>\n",
       "    <tr>\n",
       "      <th>LogisticRegression</th>\n",
       "      <td>0.897878</td>\n",
       "      <td>3755.0</td>\n",
       "      <td>23580.0</td>\n",
       "      <td>2436.0</td>\n",
       "      <td>673.0</td>\n",
       "      <td>0.093635</td>\n",
       "      <td>0.151987</td>\n",
       "    </tr>\n",
       "    <tr>\n",
       "      <th>RandomForestClassifier</th>\n",
       "      <td>0.916995</td>\n",
       "      <td>4215.0</td>\n",
       "      <td>23702.0</td>\n",
       "      <td>2314.0</td>\n",
       "      <td>213.0</td>\n",
       "      <td>0.088945</td>\n",
       "      <td>0.048103</td>\n",
       "    </tr>\n",
       "    <tr>\n",
       "      <th>AdaBoostClassifier</th>\n",
       "      <td>0.901031</td>\n",
       "      <td>3791.0</td>\n",
       "      <td>23640.0</td>\n",
       "      <td>2376.0</td>\n",
       "      <td>637.0</td>\n",
       "      <td>0.091328</td>\n",
       "      <td>0.143857</td>\n",
       "    </tr>\n",
       "    <tr>\n",
       "      <th>GradientBoostingClassifier</th>\n",
       "      <td>0.906977</td>\n",
       "      <td>3901.0</td>\n",
       "      <td>23711.0</td>\n",
       "      <td>2305.0</td>\n",
       "      <td>527.0</td>\n",
       "      <td>0.088599</td>\n",
       "      <td>0.119015</td>\n",
       "    </tr>\n",
       "    <tr>\n",
       "      <th>ExtraTreeClassifier</th>\n",
       "      <td>0.919951</td>\n",
       "      <td>4301.0</td>\n",
       "      <td>23706.0</td>\n",
       "      <td>2310.0</td>\n",
       "      <td>127.0</td>\n",
       "      <td>0.088792</td>\n",
       "      <td>0.028681</td>\n",
       "    </tr>\n",
       "    <tr>\n",
       "      <th>BaggingClassifier</th>\n",
       "      <td>0.917159</td>\n",
       "      <td>4220.0</td>\n",
       "      <td>23702.0</td>\n",
       "      <td>2314.0</td>\n",
       "      <td>208.0</td>\n",
       "      <td>0.088945</td>\n",
       "      <td>0.046974</td>\n",
       "    </tr>\n",
       "    <tr>\n",
       "      <th>Neural Network-1</th>\n",
       "      <td>0.915156</td>\n",
       "      <td>4223.0</td>\n",
       "      <td>23638.0</td>\n",
       "      <td>2378.0</td>\n",
       "      <td>205.0</td>\n",
       "      <td>0.091405</td>\n",
       "      <td>0.046296</td>\n",
       "    </tr>\n",
       "  </tbody>\n",
       "</table>\n",
       "</div>"
      ],
      "text/plain": [
       "                            accuracy      TP       TN      FP     FN  \\\n",
       "index                                                                  \n",
       "KNeighborsClassifier        0.906024  3973.0  23610.0  2406.0  455.0   \n",
       "LogisticRegression          0.897878  3755.0  23580.0  2436.0  673.0   \n",
       "RandomForestClassifier      0.916995  4215.0  23702.0  2314.0  213.0   \n",
       "AdaBoostClassifier          0.901031  3791.0  23640.0  2376.0  637.0   \n",
       "GradientBoostingClassifier  0.906977  3901.0  23711.0  2305.0  527.0   \n",
       "ExtraTreeClassifier         0.919951  4301.0  23706.0  2310.0  127.0   \n",
       "BaggingClassifier           0.917159  4220.0  23702.0  2314.0  208.0   \n",
       "Neural Network-1            0.915156  4223.0  23638.0  2378.0  205.0   \n",
       "\n",
       "                                 FPR       FNR  \n",
       "index                                           \n",
       "KNeighborsClassifier        0.092482  0.102755  \n",
       "LogisticRegression          0.093635  0.151987  \n",
       "RandomForestClassifier      0.088945  0.048103  \n",
       "AdaBoostClassifier          0.091328  0.143857  \n",
       "GradientBoostingClassifier  0.088599  0.119015  \n",
       "ExtraTreeClassifier         0.088792  0.028681  \n",
       "BaggingClassifier           0.088945  0.046974  \n",
       "Neural Network-1            0.091405  0.046296  "
      ]
     },
     "metadata": {},
     "output_type": "display_data"
    },
    {
     "name": "stdout",
     "output_type": "stream",
     "text": [
      "Test Results\n"
     ]
    },
    {
     "data": {
      "text/html": [
       "<div>\n",
       "<style scoped>\n",
       "    .dataframe tbody tr th:only-of-type {\n",
       "        vertical-align: middle;\n",
       "    }\n",
       "\n",
       "    .dataframe tbody tr th {\n",
       "        vertical-align: top;\n",
       "    }\n",
       "\n",
       "    .dataframe thead th {\n",
       "        text-align: right;\n",
       "    }\n",
       "</style>\n",
       "<table border=\"1\" class=\"dataframe\">\n",
       "  <thead>\n",
       "    <tr style=\"text-align: right;\">\n",
       "      <th></th>\n",
       "      <th>accuracy</th>\n",
       "      <th>TP</th>\n",
       "      <th>TN</th>\n",
       "      <th>FP</th>\n",
       "      <th>FN</th>\n",
       "      <th>FPR</th>\n",
       "      <th>FNR</th>\n",
       "      <th>auc</th>\n",
       "      <th>mcc</th>\n",
       "    </tr>\n",
       "    <tr>\n",
       "      <th>index</th>\n",
       "      <th></th>\n",
       "      <th></th>\n",
       "      <th></th>\n",
       "      <th></th>\n",
       "      <th></th>\n",
       "      <th></th>\n",
       "      <th></th>\n",
       "      <th></th>\n",
       "      <th></th>\n",
       "    </tr>\n",
       "  </thead>\n",
       "  <tbody>\n",
       "    <tr>\n",
       "      <th>KNeighborsClassifier</th>\n",
       "      <td>0.903503</td>\n",
       "      <td>1737.0</td>\n",
       "      <td>10051.0</td>\n",
       "      <td>1047.0</td>\n",
       "      <td>212.0</td>\n",
       "      <td>0.094341</td>\n",
       "      <td>0.108774</td>\n",
       "      <td>0.898442</td>\n",
       "      <td>0.693349</td>\n",
       "    </tr>\n",
       "    <tr>\n",
       "      <th>LogisticRegression</th>\n",
       "      <td>0.893385</td>\n",
       "      <td>1643.0</td>\n",
       "      <td>10013.0</td>\n",
       "      <td>1085.0</td>\n",
       "      <td>306.0</td>\n",
       "      <td>0.097765</td>\n",
       "      <td>0.157004</td>\n",
       "      <td>0.872616</td>\n",
       "      <td>0.653248</td>\n",
       "    </tr>\n",
       "    <tr>\n",
       "      <th>RandomForestClassifier</th>\n",
       "      <td>0.908945</td>\n",
       "      <td>1739.0</td>\n",
       "      <td>10120.0</td>\n",
       "      <td>978.0</td>\n",
       "      <td>210.0</td>\n",
       "      <td>0.088124</td>\n",
       "      <td>0.107748</td>\n",
       "      <td>0.902064</td>\n",
       "      <td>0.705925</td>\n",
       "    </tr>\n",
       "    <tr>\n",
       "      <th>AdaBoostClassifier</th>\n",
       "      <td>0.901817</td>\n",
       "      <td>1678.0</td>\n",
       "      <td>10088.0</td>\n",
       "      <td>1010.0</td>\n",
       "      <td>271.0</td>\n",
       "      <td>0.091007</td>\n",
       "      <td>0.139046</td>\n",
       "      <td>0.884973</td>\n",
       "      <td>0.678603</td>\n",
       "    </tr>\n",
       "    <tr>\n",
       "      <th>GradientBoostingClassifier</th>\n",
       "      <td>0.905419</td>\n",
       "      <td>1697.0</td>\n",
       "      <td>10116.0</td>\n",
       "      <td>982.0</td>\n",
       "      <td>252.0</td>\n",
       "      <td>0.088484</td>\n",
       "      <td>0.129297</td>\n",
       "      <td>0.891109</td>\n",
       "      <td>0.690276</td>\n",
       "    </tr>\n",
       "    <tr>\n",
       "      <th>ExtraTreeClassifier</th>\n",
       "      <td>0.908561</td>\n",
       "      <td>1740.0</td>\n",
       "      <td>10114.0</td>\n",
       "      <td>984.0</td>\n",
       "      <td>209.0</td>\n",
       "      <td>0.088665</td>\n",
       "      <td>0.107234</td>\n",
       "      <td>0.902050</td>\n",
       "      <td>0.705232</td>\n",
       "    </tr>\n",
       "    <tr>\n",
       "      <th>BaggingClassifier</th>\n",
       "      <td>0.907412</td>\n",
       "      <td>1737.0</td>\n",
       "      <td>10102.0</td>\n",
       "      <td>996.0</td>\n",
       "      <td>212.0</td>\n",
       "      <td>0.089746</td>\n",
       "      <td>0.108774</td>\n",
       "      <td>0.900740</td>\n",
       "      <td>0.702082</td>\n",
       "    </tr>\n",
       "    <tr>\n",
       "      <th>Neural Network-1</th>\n",
       "      <td>0.900130</td>\n",
       "      <td>1750.0</td>\n",
       "      <td>9994.0</td>\n",
       "      <td>1104.0</td>\n",
       "      <td>199.0</td>\n",
       "      <td>0.099477</td>\n",
       "      <td>0.102104</td>\n",
       "      <td>0.899209</td>\n",
       "      <td>0.688464</td>\n",
       "    </tr>\n",
       "  </tbody>\n",
       "</table>\n",
       "</div>"
      ],
      "text/plain": [
       "                            accuracy      TP       TN      FP     FN  \\\n",
       "index                                                                  \n",
       "KNeighborsClassifier        0.903503  1737.0  10051.0  1047.0  212.0   \n",
       "LogisticRegression          0.893385  1643.0  10013.0  1085.0  306.0   \n",
       "RandomForestClassifier      0.908945  1739.0  10120.0   978.0  210.0   \n",
       "AdaBoostClassifier          0.901817  1678.0  10088.0  1010.0  271.0   \n",
       "GradientBoostingClassifier  0.905419  1697.0  10116.0   982.0  252.0   \n",
       "ExtraTreeClassifier         0.908561  1740.0  10114.0   984.0  209.0   \n",
       "BaggingClassifier           0.907412  1737.0  10102.0   996.0  212.0   \n",
       "Neural Network-1            0.900130  1750.0   9994.0  1104.0  199.0   \n",
       "\n",
       "                                 FPR       FNR       auc       mcc  \n",
       "index                                                               \n",
       "KNeighborsClassifier        0.094341  0.108774  0.898442  0.693349  \n",
       "LogisticRegression          0.097765  0.157004  0.872616  0.653248  \n",
       "RandomForestClassifier      0.088124  0.107748  0.902064  0.705925  \n",
       "AdaBoostClassifier          0.091007  0.139046  0.884973  0.678603  \n",
       "GradientBoostingClassifier  0.088484  0.129297  0.891109  0.690276  \n",
       "ExtraTreeClassifier         0.088665  0.107234  0.902050  0.705232  \n",
       "BaggingClassifier           0.089746  0.108774  0.900740  0.702082  \n",
       "Neural Network-1            0.099477  0.102104  0.899209  0.688464  "
      ]
     },
     "metadata": {},
     "output_type": "display_data"
    }
   ],
   "source": [
    "table_80_70_train['index']=ind_columns\n",
    "table_80_70_test['index']=ind_columns\n",
    "\n",
    "\n",
    "table_80_70_test.set_index(['index'],drop=True,inplace=True)\n",
    "table_80_70_train.set_index(['index'],drop=True,inplace=True)\n",
    "\n",
    "print(\"Training Results\")\n",
    "display(table_80_70_train)\n",
    "print(\"Test Results\")\n",
    "display(table_80_70_test)"
   ]
  },
  {
   "cell_type": "code",
   "execution_count": 54,
   "metadata": {},
   "outputs": [
    {
     "data": {
      "text/html": [
       "<script>\n",
       "code_show=true; \n",
       "function code_toggle() {\n",
       " if (code_show){\n",
       " $('div.input').hide();\n",
       " } else {\n",
       " $('div.input').show();\n",
       " }\n",
       " code_show = !code_show\n",
       "} \n",
       "$( document ).ready(code_toggle);\n",
       "</script>\n",
       "To toggle code, click <a href=\"javascript:code_toggle()\">here</a>."
      ],
      "text/plain": [
       "<IPython.core.display.HTML object>"
      ]
     },
     "execution_count": 54,
     "metadata": {},
     "output_type": "execute_result"
    }
   ],
   "source": [
    "### Original Creator : Darshan Bhansali\n",
    "### HTML code to hide the input cells \n",
    "HTML('''<script>\n",
    "code_show=true; \n",
    "function code_toggle() {\n",
    " if (code_show){\n",
    " $('div.input').hide();\n",
    " } else {\n",
    " $('div.input').show();\n",
    " }\n",
    " code_show = !code_show\n",
    "} \n",
    "$( document ).ready(code_toggle);\n",
    "</script>\n",
    "To toggle code, click <a href=\"javascript:code_toggle()\">here</a>.''')"
   ]
  }
 ],
 "metadata": {
  "kernelspec": {
   "display_name": "Python 3",
   "language": "python",
   "name": "python3"
  },
  "language_info": {
   "codemirror_mode": {
    "name": "ipython",
    "version": 3
   },
   "file_extension": ".py",
   "mimetype": "text/x-python",
   "name": "python",
   "nbconvert_exporter": "python",
   "pygments_lexer": "ipython3",
   "version": "3.6.8"
  }
 },
 "nbformat": 4,
 "nbformat_minor": 2
}
