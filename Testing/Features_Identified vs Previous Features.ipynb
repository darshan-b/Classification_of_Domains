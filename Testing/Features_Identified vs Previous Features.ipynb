{
 "cells": [
  {
   "cell_type": "code",
   "execution_count": 44,
   "metadata": {},
   "outputs": [],
   "source": [
    "import pandas as pd\n",
    "from sklearn.preprocessing import StandardScaler\n",
    "from sklearn.ensemble import BaggingClassifier,RandomForestClassifier\n",
    "from sklearn.metrics import accuracy_score,auc,roc_curve,recall_score,precision_score,matthews_corrcoef\n",
    "from pandas_ml import ConfusionMatrix\n",
    "import pickle\n",
    "import matplotlib.pyplot as plt\n",
    "%matplotlib inline\n",
    "from IPython.display import display,clear_output,HTML"
   ]
  },
  {
   "cell_type": "markdown",
   "metadata": {},
   "source": [
    "### Features we Identified\n",
    "\n",
    "#### On Training data using the best model"
   ]
  },
  {
   "cell_type": "code",
   "execution_count": 2,
   "metadata": {},
   "outputs": [
    {
     "name": "stdout",
     "output_type": "stream",
     "text": [
      "Accuracy of the model for training data is: 0.9873987111593185\n",
      "Confusion Matrix for training data is:\n"
     ]
    },
    {
     "data": {
      "text/plain": [
       "Predicted  False  True  __all__\n",
       "Actual                         \n",
       "False      27731    74    27805\n",
       "True         321  3220     3541\n",
       "__all__    28052  3294    31346"
      ]
     },
     "metadata": {},
     "output_type": "display_data"
    },
    {
     "name": "stdout",
     "output_type": "stream",
     "text": [
      "Accuracy of the model for test data is: 0.9790736251116499\n",
      "Confusion Matrix for test data is:\n"
     ]
    },
    {
     "data": {
      "text/plain": [
       "Predicted  False  True  __all__\n",
       "Actual                         \n",
       "False       6893    44     6937\n",
       "True         120   780      900\n",
       "__all__     7013   824     7837"
      ]
     },
     "metadata": {},
     "output_type": "display_data"
    },
    {
     "name": "stdout",
     "output_type": "stream",
     "text": [
      "ROC_AUC: 0.9301619335928115\n",
      "MCC: 0.89423887926436\n"
     ]
    }
   ],
   "source": [
    "df=pd.read_csv('../Data/df_training.csv',index_col='domain')\n",
    "columns=df.columns.tolist()\n",
    "\n",
    "train=df.iloc[:31346,:]\n",
    "train_X=train.iloc[:,train.columns!='Target'].values\n",
    "train_Y=train.Target.values\n",
    "\n",
    "scaler=StandardScaler()\n",
    "scaled_X_train=scaler.fit_transform(train_X)\n",
    "\n",
    "test=df.iloc[31346:,:]\n",
    "test_X=test.iloc[:,test.columns!='Target'].values\n",
    "test_Y=test.Target.values\n",
    "scaled_X_test=scaler.transform(test_X)\n",
    "columns.remove('Target')\n",
    "\n",
    "file = open(\"RF_80_20.sav\",'rb')\n",
    "rf = pickle.load(file)\n",
    "\n",
    "print(\"Accuracy of the model for training data is:\",accuracy_score(train_Y,rf.predict(scaled_X_train)))\n",
    "print(\"Confusion Matrix for training data is:\")\n",
    "y_pred_train=rf.predict(scaled_X_train)\n",
    "cm_train=ConfusionMatrix(train_Y,y_pred_train)\n",
    "display(cm_train)\n",
    "    \n",
    "y_pred_test=rf.predict(scaled_X_test)\n",
    "acc_test=accuracy_score(test_Y,y_pred_test)\n",
    "print(\"Accuracy of the model for test data is:\",acc_test)\n",
    "print(\"Confusion Matrix for test data is:\")\n",
    "cm_test=ConfusionMatrix(test_Y,y_pred_test)\n",
    "display(cm_test)\n",
    "fpr, tpr, threshold = roc_curve(test_Y, y_pred_test)\n",
    "roc_auc =auc(fpr, tpr)\n",
    "print(\"ROC_AUC:\",roc_auc)\n",
    "mcc=matthews_corrcoef(test_Y,y_pred_test)\n",
    "print(\"MCC:\",mcc)"
   ]
  },
  {
   "cell_type": "markdown",
   "metadata": {},
   "source": [
    "#### On Validation data "
   ]
  },
  {
   "cell_type": "code",
   "execution_count": 3,
   "metadata": {},
   "outputs": [],
   "source": [
    "df_val=pd.read_csv('../Data/df_fin.csv',index_col='domain')\n",
    "df_val.reset_index(inplace=True)\n",
    "\n",
    "df_mal=pd.read_csv('../Data/Malicious_domains.csv')\n",
    "mal_domains=df_mal.queried_domain.values.tolist()\n",
    "\n",
    "df_val['Target']=df_val['domain'].apply(lambda x: 1 if x in mal_domains else 0)\n",
    "df_val.set_index(['domain'],inplace=True)"
   ]
  },
  {
   "cell_type": "code",
   "execution_count": 5,
   "metadata": {},
   "outputs": [],
   "source": [
    "val_X=df_val.iloc[:,df_val.columns!='Target'].values\n",
    "scaled_X_val=scaler.transform(val_X)\n",
    "val_Y=df_val.Target.values"
   ]
  },
  {
   "cell_type": "code",
   "execution_count": 15,
   "metadata": {},
   "outputs": [],
   "source": [
    "y_pred_val_prob=rf.predict_proba(scaled_X_val)"
   ]
  },
  {
   "cell_type": "code",
   "execution_count": 6,
   "metadata": {},
   "outputs": [
    {
     "name": "stdout",
     "output_type": "stream",
     "text": [
      "Accuracy of the model for val data is: 0.4405540639628102\n",
      "Confusion Matrix for val data is:\n"
     ]
    },
    {
     "data": {
      "text/plain": [
       "Predicted   False    True  __all__\n",
       "Actual                            \n",
       "False      376379  484533   860912\n",
       "True        18264   19565    37829\n",
       "__all__    394643  504098   898741"
      ]
     },
     "metadata": {},
     "output_type": "display_data"
    },
    {
     "name": "stdout",
     "output_type": "stream",
     "text": [
      "ROC_AUC: 0.47719109062900944\n",
      "MCC: -0.01845723481003823\n"
     ]
    }
   ],
   "source": [
    "y_pred_val=rf.predict(scaled_X_val)\n",
    "acc_val=accuracy_score(val_Y,y_pred_val)\n",
    "print(\"Accuracy of the model for val data is:\",acc_val)\n",
    "print(\"Confusion Matrix for val data is:\")\n",
    "cm_val=ConfusionMatrix(val_Y,y_pred_val)\n",
    "display(cm_val)\n",
    "fpr, tpr, threshold = roc_curve(val_Y, y_pred_val)\n",
    "roc_auc =auc(fpr, tpr)\n",
    "print(\"ROC_AUC:\",roc_auc)\n",
    "mcc=matthews_corrcoef(val_Y,y_pred_val)\n",
    "print(\"MCC:\",mcc)"
   ]
  },
  {
   "cell_type": "code",
   "execution_count": 20,
   "metadata": {},
   "outputs": [],
   "source": [
    "pd.concat([pd.DataFrame(df_val.index),pd.DataFrame(y_pred_val),pd.DataFrame(y_pred_val_prob[::,1]),pd.DataFrame(df_val.Target.values)],axis=1).to_csv('Predictions_with_training_features_we_identified.csv')"
   ]
  },
  {
   "cell_type": "markdown",
   "metadata": {},
   "source": [
    "### Features previously used\n",
    "#### On Training data using best model"
   ]
  },
  {
   "cell_type": "code",
   "execution_count": 23,
   "metadata": {},
   "outputs": [],
   "source": [
    "df=pd.read_csv('../Data/df_training_prev.csv',index_col='domain')\n",
    "columns=df.columns.tolist()"
   ]
  },
  {
   "cell_type": "code",
   "execution_count": 24,
   "metadata": {},
   "outputs": [],
   "source": [
    "train=df.iloc[:31346,:]\n",
    "train_X=train.iloc[:,train.columns!='Target'].values\n",
    "train_Y=train.Target.values\n",
    "\n",
    "scaler=StandardScaler()\n",
    "scaled_X_train=scaler.fit_transform(train_X)\n",
    "\n",
    "test=df.iloc[31346:,:]\n",
    "test_X=test.iloc[:,test.columns!='Target'].values\n",
    "test_Y=test.Target.values\n",
    "scaled_X_test=scaler.transform(test_X)\n",
    "columns.remove('Target')"
   ]
  },
  {
   "cell_type": "code",
   "execution_count": 40,
   "metadata": {},
   "outputs": [
    {
     "name": "stdout",
     "output_type": "stream",
     "text": [
      "Accuracy of the model for training data is: 1.0\n",
      "Confusion Matrix for training data is:\n"
     ]
    },
    {
     "data": {
      "text/plain": [
       "Predicted  False  True  __all__\n",
       "Actual                         \n",
       "False      27805     0    27805\n",
       "True           0  3541     3541\n",
       "__all__    27805  3541    31346"
      ]
     },
     "metadata": {},
     "output_type": "display_data"
    },
    {
     "name": "stdout",
     "output_type": "stream",
     "text": [
      "Accuracy of the model for test data is: 0.9809876228148526\n",
      "Confusion Matrix for test data is:\n"
     ]
    },
    {
     "data": {
      "text/plain": [
       "Predicted  False  True  __all__\n",
       "Actual                         \n",
       "False       6903    34     6937\n",
       "True         115   785      900\n",
       "__all__     7018   819     7837"
      ]
     },
     "metadata": {},
     "output_type": "display_data"
    },
    {
     "name": "stdout",
     "output_type": "stream",
     "text": [
      "ROC_AUC: 0.9336604840388897\n",
      "MCC: 0.9039373157680968\n"
     ]
    }
   ],
   "source": [
    "rf_random=BaggingClassifier(bootstrap=True,max_features=0.7,max_samples=1.0,n_estimators=100,random_state=0)\n",
    "rf_random.fit(scaled_X_train,train_Y)\n",
    "print(\"Accuracy of the model for training data is:\",accuracy_score(train_Y,rf_random.predict(scaled_X_train)))\n",
    "print(\"Confusion Matrix for training data is:\")\n",
    "y_pred_train=rf_random.predict(scaled_X_train)\n",
    "cm_train=ConfusionMatrix(train_Y,y_pred_train)\n",
    "display(cm_train)\n",
    "    \n",
    "y_pred_test=rf_random.predict(scaled_X_test)\n",
    "acc_test=accuracy_score(test_Y,y_pred_test)\n",
    "print(\"Accuracy of the model for test data is:\",acc_test)\n",
    "print(\"Confusion Matrix for test data is:\")\n",
    "cm_test=ConfusionMatrix(test_Y,y_pred_test)\n",
    "display(cm_test)\n",
    "fpr, tpr, threshold = roc_curve(test_Y, y_pred_test)\n",
    "roc_auc =auc(fpr, tpr)\n",
    "print(\"ROC_AUC:\",roc_auc)\n",
    "mcc=matthews_corrcoef(test_Y,y_pred_test)\n",
    "print(\"MCC:\",mcc)"
   ]
  },
  {
   "cell_type": "markdown",
   "metadata": {},
   "source": [
    "#### On Validation Data"
   ]
  },
  {
   "cell_type": "code",
   "execution_count": 41,
   "metadata": {},
   "outputs": [],
   "source": [
    "df_val=pd.read_csv('../Data/df_fin_prev.csv',index_col='domain')\n",
    "val_X=df_val.iloc[:,df_val.columns!='Target'].values\n",
    "scaled_X_val=scaler.transform(val_X)\n",
    "val_Y=df_val.Target.values"
   ]
  },
  {
   "cell_type": "code",
   "execution_count": 42,
   "metadata": {},
   "outputs": [
    {
     "name": "stdout",
     "output_type": "stream",
     "text": [
      "Accuracy of the model for val data is: 0.920307441131408\n",
      "Confusion Matrix for val data is:\n"
     ]
    },
    {
     "data": {
      "text/plain": [
       "Predicted   False   True  __all__\n",
       "Actual                           \n",
       "False      831579  35609   867188\n",
       "True        36535   1556    38091\n",
       "__all__    868114  37165   905279"
      ]
     },
     "metadata": {},
     "output_type": "display_data"
    },
    {
     "name": "stdout",
     "output_type": "stream",
     "text": [
      "ROC_AUC: 0.4998934687784668\n",
      "MCC: -0.00021558536269955576\n"
     ]
    }
   ],
   "source": [
    "y_pred_val_prob=rf_random.predict_proba(scaled_X_val)\n",
    "y_pred_val=rf_random.predict(scaled_X_val)\n",
    "acc_val=accuracy_score(val_Y,y_pred_val)\n",
    "print(\"Accuracy of the model for val data is:\",acc_val)\n",
    "print(\"Confusion Matrix for val data is:\")\n",
    "cm_val=ConfusionMatrix(val_Y,y_pred_val)\n",
    "display(cm_val)\n",
    "fpr, tpr, threshold = roc_curve(val_Y, y_pred_val)\n",
    "roc_auc =auc(fpr, tpr)\n",
    "print(\"ROC_AUC:\",roc_auc)\n",
    "mcc=matthews_corrcoef(val_Y,y_pred_val)\n",
    "print(\"MCC:\",mcc)"
   ]
  },
  {
   "cell_type": "code",
   "execution_count": 43,
   "metadata": {},
   "outputs": [],
   "source": [
    "pd.concat([pd.DataFrame(df_val.index),pd.DataFrame(y_pred_val),pd.DataFrame(y_pred_val_prob[::,1]),pd.DataFrame(df_val.Target.values)],axis=1).to_csv('Predictions_with_training_prev_used_features.csv')"
   ]
  },
  {
   "cell_type": "code",
   "execution_count": 45,
   "metadata": {},
   "outputs": [
    {
     "data": {
      "text/html": [
       "<script>\n",
       "code_show=true; \n",
       "function code_toggle() {\n",
       " if (code_show){\n",
       " $('div.input').hide();\n",
       " } else {\n",
       " $('div.input').show();\n",
       " }\n",
       " code_show = !code_show\n",
       "} \n",
       "$( document ).ready(code_toggle);\n",
       "</script>\n",
       "To toggle code, click <a href=\"javascript:code_toggle()\">here</a>."
      ],
      "text/plain": [
       "<IPython.core.display.HTML object>"
      ]
     },
     "execution_count": 45,
     "metadata": {},
     "output_type": "execute_result"
    }
   ],
   "source": [
    "### Original Creator : Darshan Bhansali\n",
    "### HTML code to hide the input cells \n",
    "HTML('''<script>\n",
    "code_show=true; \n",
    "function code_toggle() {\n",
    " if (code_show){\n",
    " $('div.input').hide();\n",
    " } else {\n",
    " $('div.input').show();\n",
    " }\n",
    " code_show = !code_show\n",
    "} \n",
    "$( document ).ready(code_toggle);\n",
    "</script>\n",
    "To toggle code, click <a href=\"javascript:code_toggle()\">here</a>.''')"
   ]
  },
  {
   "cell_type": "code",
   "execution_count": null,
   "metadata": {},
   "outputs": [],
   "source": []
  }
 ],
 "metadata": {
  "kernelspec": {
   "display_name": "Python 3",
   "language": "python",
   "name": "python3"
  },
  "language_info": {
   "codemirror_mode": {
    "name": "ipython",
    "version": 3
   },
   "file_extension": ".py",
   "mimetype": "text/x-python",
   "name": "python",
   "nbconvert_exporter": "python",
   "pygments_lexer": "ipython3",
   "version": "3.6.7"
  }
 },
 "nbformat": 4,
 "nbformat_minor": 2
}
