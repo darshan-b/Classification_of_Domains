{
 "cells": [
  {
   "cell_type": "markdown",
   "metadata": {},
   "source": [
    "***\n",
    "## Table of Contents\n",
    "<br>\n",
    "  <br>\n",
    "    <ol>\n",
    "        <h2><a href='#1' style=\"text-decoration : none; color : #000000;\">1. Initial Models</a></h2>\n",
    "        <ul>\n",
    "            <a href='#1.A' style=\"text-decoration : none; color : #000000;\"><h3>A. Results </h3></a>\n",
    "        </ul>\n",
    "        <ul>\n",
    "            <a href='#1.B' style=\"text-decoration : none; color : #000000;\"><h3>B. Average Feature Importance   </h3></a>\n",
    "        </ul>\n",
    "     </ol>\n",
    "     <br> \n",
    "\n",
    "<ol>\n",
    "        <h2><a href='#2' style=\"text-decoration : none; color : #000000;\">2. Oversampling </a></h2>\n",
    "        <ul>\n",
    "            <a href='#2.A' style=\"text-decoration : none; color : #000000;\"><h3>A. Results </h3></a>\n",
    "        </ul>\n",
    "        <ul>\n",
    "            <a href='#2.B' style=\"text-decoration : none; color : #000000;\"><h3>B. Average Feature Importance   </h3></a>\n",
    "        </ul>\n",
    "     </ol>\n",
    "     <br>\n",
    "     \n",
    " <ol>\n",
    "        <h2><a href='#3' style=\"text-decoration : none; color : #000000;\">3. Undersampling</a></h2>\n",
    "        <ul>\n",
    "            <a href='#3.A' style=\"text-decoration : none; color : #000000;\"><h3>A. Results </h3></a>\n",
    "        </ul>\n",
    "        <ul>\n",
    "            <a href='#3.B' style=\"text-decoration : none; color : #000000;\"><h3>B. Average Feature Importance   </h3></a>\n",
    "        </ul>\n",
    "     </ol>\n",
    "     <br>\n",
    "     \n",
    " <ol>\n",
    "        <h2><a href='#4' style=\"text-decoration : none; color : #000000;\">4.Feature Transformation with feature selection</a></h2>\n",
    "        <ul>\n",
    "            <a href='#4.A' style=\"text-decoration : none; color : #000000;\"><h3>A. Results </h3></a>\n",
    "        </ul>\n",
    "        <ul>\n",
    "            <a href='#4.B' style=\"text-decoration : none; color : #000000;\"><h3>B. Average Feature Importance   </h3></a>\n",
    "        </ul>\n",
    "     </ol>\n",
    "     <br>\n",
    "     \n",
    "     \n",
    " <ol>\n",
    "        <h2><a href='#5' style=\"text-decoration : none; color : #000000;\">5.Feature Transformation with PCA</a></h2>\n",
    "        <ul>\n",
    "            <a href='#5.A' style=\"text-decoration : none; color : #000000;\"><h3>A. Results </h3></a>\n",
    "        </ul>\n",
    "        <ul>\n",
    "            <a href='#5.B' style=\"text-decoration : none; color : #000000;\"><h3>B. Average Feature Importance   </h3></a>\n",
    "        </ul>\n",
    "     </ol>\n",
    "     <br>"
   ]
  },
  {
   "cell_type": "code",
   "execution_count": 50,
   "metadata": {},
   "outputs": [
    {
     "data": {
      "text/html": [
       "<script type=\"text/javascript\">window.PlotlyConfig = {MathJaxConfig: 'local'};</script><script type=\"text/javascript\">if (window.MathJax) {MathJax.Hub.Config({SVG: {font: \"STIX-Web\"}});}</script><script>requirejs.config({paths: { 'plotly': ['https://cdn.plot.ly/plotly-latest.min']},});if(!window._Plotly) {require(['plotly'],function(plotly) {window._Plotly=plotly;});}</script>"
      ],
      "text/vnd.plotly.v1+html": [
       "<script type=\"text/javascript\">window.PlotlyConfig = {MathJaxConfig: 'local'};</script><script type=\"text/javascript\">if (window.MathJax) {MathJax.Hub.Config({SVG: {font: \"STIX-Web\"}});}</script><script>requirejs.config({paths: { 'plotly': ['https://cdn.plot.ly/plotly-latest.min']},});if(!window._Plotly) {require(['plotly'],function(plotly) {window._Plotly=plotly;});}</script>"
      ]
     },
     "metadata": {},
     "output_type": "display_data"
    }
   ],
   "source": [
    "import pandas as pd\n",
    "import numpy as np\n",
    "import os\n",
    "import matplotlib.pyplot as plt\n",
    "import seaborn as sns\n",
    "%matplotlib inline\n",
    "\n",
    "from IPython.display import display,clear_output,HTML\n",
    "import warnings\n",
    "warnings.filterwarnings(\"ignore\")\n",
    "\n",
    "import keras\n",
    "from keras.layers import Dense,Dropout\n",
    "from keras.models import Sequential\n",
    "warnings.simplefilter(\"ignore\", DeprecationWarning)\n",
    "import researchpy as rp\n",
    "\n",
    "%matplotlib inline\n",
    "pd.set_option('display.max_columns', 500)\n",
    "pd.set_option('display.max_rows',305)\n",
    "\n",
    "from sklearn.feature_selection import SelectKBest,chi2,RFE,RFECV,f_regression,SelectFromModel\n",
    "from sklearn.linear_model import LogisticRegression\n",
    "from sklearn.ensemble import ExtraTreesClassifier,RandomForestClassifier,GradientBoostingClassifier,AdaBoostClassifier,BaggingClassifier\n",
    "from sklearn.neighbors import KNeighborsClassifier\n",
    "from sklearn.model_selection import train_test_split,cross_val_score\n",
    "\n",
    "from sklearn.preprocessing import StandardScaler,MinMaxScaler\n",
    "from sklearn import metrics\n",
    "\n",
    "\n",
    "\n",
    "from sklearn.decomposition import PCA\n",
    "from sklearn.metrics import accuracy_score,auc,roc_curve,recall_score,precision_score,matthews_corrcoef\n",
    "\n",
    "from pandas_ml import ConfusionMatrix\n",
    "\n",
    "\n",
    "from imblearn.over_sampling import SMOTE\n",
    "\n",
    "from plotly.offline import download_plotlyjs, init_notebook_mode, plot, iplot\n",
    "init_notebook_mode(connected=True)\n",
    "import plotly.graph_objs as go\n",
    "\n",
    "import featuretools as ft\n",
    "\n",
    "from scipy import stats"
   ]
  },
  {
   "cell_type": "code",
   "execution_count": 51,
   "metadata": {},
   "outputs": [],
   "source": [
    "### Function to plot Feature Importance\n",
    "def feat_impt_plot(feat_impt,y_labels,width_s=1000,height_s=1000):\n",
    "    \n",
    "    m=pd.DataFrame(y_labels,feat_impt).reset_index()\n",
    "    m.columns=['Feature_Importance','Features']\n",
    "    m.sort_values(by='Feature_Importance',inplace=True,ascending=False)\n",
    "#     m['Features']=m['Features'].str.replace(\"dom_function_\",\"\")\n",
    "#     m['Features']=m['Features'].str.replace(\"js_function_\",\"\")\n",
    "#     m['Features']=m['Features'].apply(lambda x: str(x).lstrip('.'))\n",
    "#     m['Features']=m['Features'].str.replace(\"(\",\"\")\n",
    "    \n",
    "    data = [go.Bar(x=m.Feature_Importance.values,y=m.Features.values,text=np.round(m.Feature_Importance,4),\n",
    "            textposition = 'outside',\n",
    "            marker=dict(\n",
    "                color='rgb(158,202,225)',\n",
    "                line=dict(\n",
    "                    color='rgb(8,48,107)',\n",
    "                    width=1.5),\n",
    "            ),\n",
    "            opacity=0.6,\n",
    "            orientation='h'\n",
    "        )]\n",
    "    layout = go.Layout(autosize=False,\n",
    "    width=width_s,\n",
    "    height=height_s,\n",
    "    xaxis=dict(title='Feature Importances',\n",
    "        tickfont=dict(\n",
    "            size=12,\n",
    "            color='black'\n",
    "        )),\n",
    "    yaxis=dict(automargin=True))\n",
    "    fig = go.Figure(data=data, layout=layout)\n",
    "    iplot(fig)\n",
    "\n",
    "    \n",
    "def check_cat(data):\n",
    "    cat_var=[]\n",
    "    num_var=[]\n",
    "    for col in data.columns:\n",
    "        if col!='Target':\n",
    "            if len(data[col].value_counts())==2:\n",
    "                cat_var.append(col)\n",
    "            else:\n",
    "                num_var.append(col)\n",
    "    return cat_var,num_var\n",
    "\n",
    "\n",
    "def num_stats(data,columns):\n",
    "    lst=[]\n",
    "    for col in columns:\n",
    "        corr=stats.pointbiserialr(data[col],data.Target)[0]\n",
    "        corr_p=stats.pointbiserialr(data[col],data.Target)[1]\n",
    "        ttest=stats.ttest_ind(data[data.Target==1][col], data[data.Target==0][col], equal_var=False)[0]\n",
    "        ttest_p=stats.ttest_ind(data[data.Target==1][col], data[data.Target==0][col], equal_var=False)[1]\n",
    "        lst.append((corr,corr_p,ttest,ttest_p,col))\n",
    "    stats_data=pd.DataFrame(lst,columns=['Pt. Biserial Corr','Pt. Biserial Corr p-val','ttest','ttest p-val','Feature'])\n",
    "    stats_data.set_index('Feature',drop=True,inplace=True)\n",
    "    stats_data.sort_values(by='ttest',inplace=True)\n",
    "    del lst\n",
    "    return stats_data\n",
    "\n",
    "\n",
    "### Generate statistics for categorical data\n",
    "def cat_stats(data,columns):\n",
    "    lst=[]\n",
    "    for col in columns:\n",
    "        if col!='Target':\n",
    "            table, results = rp.crosstab(data['Target'], data[col], prop= 'col', test= 'chi-square')\n",
    "            x=results['results'].values.tolist()\n",
    "            x.append(col)\n",
    "            lst.append(x)\n",
    "    chi_df=pd.DataFrame(lst,columns=['Pearson Chi-square','p-value','Cramers V','Feature'])\n",
    "    chi_df.set_index('Feature',drop=True,inplace=True)\n",
    "    chi_df.sort_values(by='Cramers V',ascending=False,inplace=True)\n",
    "    del lst\n",
    "    return chi_df"
   ]
  },
  {
   "cell_type": "code",
   "execution_count": 52,
   "metadata": {},
   "outputs": [],
   "source": [
    "def model_build(model,X_train,Y_train,X_test,Y_test,tree=False,feat=None):\n",
    "    \n",
    "    y_pred_train=model.predict(X_train)\n",
    "    acc_train=accuracy_score(Y_train,y_pred_train)\n",
    "    \n",
    "    print(\"Accuracy of the model for training data is:\",acc_train)\n",
    "    print(\"Confusion Matrix for training data is:\")\n",
    "    cm_train=ConfusionMatrix(Y_train,y_pred_train)\n",
    "    display(cm_train)\n",
    "    \n",
    "    \n",
    "    y_pred_test=model.predict(X_test)\n",
    "    acc_test=accuracy_score(Y_test,y_pred_test)\n",
    "    print(\"Accuracy of the model for test data is:\",acc_test)\n",
    "    print(\"Confusion Matrix for test data is:\")\n",
    "    cm_test=ConfusionMatrix(Y_test,y_pred_test)\n",
    "    display(cm_test)\n",
    "\n",
    "    fpr, tpr, threshold = roc_curve(Y_test, y_pred_test)\n",
    "    roc_auc =auc(fpr, tpr)\n",
    "    mcc=matthews_corrcoef(Y_test,y_pred_test)\n",
    "    if tree==True:\n",
    "        feat_impt_plot(model.feature_importances_,feat)\n",
    "        return model,cm_train,cm_test,acc_train,acc_test,roc_auc,model.feature_importances_,mcc\n",
    "    \n",
    "    return model,cm_train,cm_test,acc_train,acc_test,roc_auc,mcc\n",
    "\n",
    "def KNN_model(X_train,Y_train,X_test,Y_test):\n",
    "    print('\\033[1m' + 'K-Nearest Neighbors' + '\\033[0m')\n",
    "    knn=KNeighborsClassifier()\n",
    "    knn.fit(X_train,Y_train)\n",
    "\n",
    "    return model_build(knn,X_train,Y_train,X_test,Y_test)\n",
    "\n",
    "def Logistic_model(X_train,Y_train,X_test,Y_test):\n",
    "    print('\\033[1m' + 'Logistic Regression' + '\\033[0m')\n",
    "    log=LogisticRegression()\n",
    "    log.fit(X_train,Y_train)\n",
    "    \n",
    "    return model_build(log,X_train,Y_train,X_test,Y_test)\n",
    "\n",
    "def RandomForest(X_train,Y_train,X_test,Y_test,feat):\n",
    "    print('\\033[1m' + 'RandomForest Classifier' + '\\033[0m')\n",
    "    rf=RandomForestClassifier()\n",
    "    rf.fit(X_train,Y_train)\n",
    "\n",
    "    \n",
    "    return model_build(rf,X_train,Y_train,X_test,Y_test,True,feat)\n",
    "\n",
    "def AdaBoost(X_train,Y_train,X_test,Y_test,feat):\n",
    "    print('\\033[1m' + 'Adaoost Classifier' + '\\033[0m')\n",
    "    ada=AdaBoostClassifier()\n",
    "    ada.fit(X_train,Y_train)\n",
    "    \n",
    "    return model_build(ada,X_train,Y_train,X_test,Y_test,True,feat)\n",
    "\n",
    "def GradientBoosting(X_train,Y_train,X_test,Y_test,feat):\n",
    "    print('\\033[1m' + 'GradientBoosting Classifier' + '\\033[0m')\n",
    "    gbc=GradientBoostingClassifier()\n",
    "    gbc.fit(X_train,Y_train)\n",
    "    \n",
    "    return model_build(gbc,X_train,Y_train,X_test,Y_test,True,feat)\n",
    "\n",
    "def ExtraTree(X_train,Y_train,X_test,Y_test,feat):\n",
    "    print('\\033[1m' + 'ExtraTree Classifier' + '\\033[0m')\n",
    "    ext_tree=ExtraTreesClassifier()\n",
    "    ext_tree.fit(X_train,Y_train)\n",
    "    \n",
    "    return model_build(ext_tree,X_train,Y_train,X_test,Y_test,True,feat)\n",
    "\n",
    "def Bagging(X_train,Y_train,X_test,Y_test):\n",
    "    print('\\033[1m' + 'Bagging Classifier' + '\\033[0m')\n",
    "    bagging=BaggingClassifier()\n",
    "    bagging.fit(X_train,Y_train)\n",
    "    \n",
    "    return model_build(bagging,X_train,Y_train,X_test,Y_test)\n",
    "\n",
    "def DeepLearning1(X_train,Y_train,X_test,Y_test):\n",
    "    print('\\033[1m' + 'Neural Network-1' + '\\033[0m')\n",
    "    np.random.seed(0)\n",
    "    deep_learning=Sequential()\n",
    "    deep_learning.add(Dense(units=64,activation='relu',use_bias=True,kernel_initializer='uniform',input_dim=X_train.shape[1]))\n",
    "    deep_learning.add(Dense(units=128,activation='relu',use_bias=True,kernel_initializer='uniform'))\n",
    "    deep_learning.add(Dense(units=1,activation='sigmoid',use_bias=True,kernel_initializer='uniform'))\n",
    "    deep_learning.compile(optimizer='adam',loss='binary_crossentropy',metrics=['accuracy'])\n",
    "    deep_learning.fit(X_train,Y_train,batch_size=20,epochs=80,verbose=False)\n",
    "    acc_train=deep_learning.evaluate(X_train,Y_train,verbose=False)[1]\n",
    "    print(\"The accuracy of the model on training data is:\",acc_train)\n",
    "    cm_train=ConfusionMatrix(Y_train,deep_learning.predict_classes(X_train,batch_size=1,verbose=False).reshape(1,len(X_train))[0])\n",
    "    cm_test=ConfusionMatrix(Y_test,deep_learning.predict_classes(X_test,batch_size=1,verbose=False).reshape(1,len(X_test))[0])\n",
    "    display(cm_train)\n",
    "    acc_test=accuracy_score(Y_test,deep_learning.predict_classes(X_test,batch_size=1,verbose=False))\n",
    "    print(\"The accuracy of the model on test data is:\",acc_test)\n",
    "    display(cm_test)\n",
    "    mcc=matthews_corrcoef(Y_test,deep_learning.predict_classes(X_test,batch_size=1,verbose=False))\n",
    "    return  deep_learning,cm_train,cm_test,acc_train,acc_test,roc_auc,mcc"
   ]
  },
  {
   "cell_type": "code",
   "execution_count": 53,
   "metadata": {},
   "outputs": [],
   "source": [
    "columns=['http_header_cache-control_set_max-age',\n",
    " 'http_header_cache-control_set_must-revalidate',\n",
    " 'http_header_cache-control_set_no-cache',\n",
    " 'http_header_cache-control_set_no-store',\n",
    " 'http_header_cache-control_set_private',\n",
    " 'http_header_cache-control_set_public',\n",
    " 'http_header_connection_close',\n",
    " 'http_header_connection_keep-alive',\n",
    " 'http_header_content-encoding_gzip',\n",
    " 'http_header_content-language_text/html',\n",
    " 'http_header_content-length',\n",
    " 'http_header_expect-ctmax-age',\n",
    " 'http_header_pragmano-cache',\n",
    " 'http_header_server_apache',\n",
    " 'http_header_server_nginx',\n",
    " 'http_header_strict-transport-security_max-age',\n",
    " 'http_header_transfer-encoding_chunked',\n",
    " 'http_header_vary_accept',\n",
    " 'http_header_vary_age',\n",
    " 'http_header_via_1.1',\n",
    " 'http_header_x-cintent-type-options_nosniff',\n",
    " 'http_header_x-xss-enabled','Target','domain']"
   ]
  },
  {
   "cell_type": "code",
   "execution_count": 54,
   "metadata": {},
   "outputs": [
    {
     "name": "stdout",
     "output_type": "stream",
     "text": [
      "Shape of our dataset: (45856, 23)\n"
     ]
    }
   ],
   "source": [
    "df=pd.read_csv('Modified_http.csv',usecols=columns)\n",
    "\n",
    "df.rename(columns={'Malicious':'Target'},inplace=True)\n",
    "df.fillna(value=0,inplace=True)\n",
    "\n",
    "cookies=[columns for columns in df.columns if 'number' in columns]\n",
    "df.drop(cookies,axis=1,inplace=True)\n",
    "\n",
    "df=df[df['domain']!=0]\n",
    "\n",
    "df.sort_values(by='Target',inplace=True,ascending=False)\n",
    "df.drop_duplicates(['domain'], keep='first',inplace=True)\n",
    "\n",
    "df=df.sample(frac=1,random_state=0)\n",
    "df.set_index(['domain'],drop=True,inplace=True)\n",
    "print(\"Shape of our dataset:\",df.shape)"
   ]
  },
  {
   "cell_type": "code",
   "execution_count": 55,
   "metadata": {
    "scrolled": true
   },
   "outputs": [
    {
     "data": {
      "text/plain": [
       "0    39835\n",
       "1     6021\n",
       "Name: Target, dtype: int64"
      ]
     },
     "execution_count": 55,
     "metadata": {},
     "output_type": "execute_result"
    }
   ],
   "source": [
    "df.Target.value_counts()"
   ]
  },
  {
   "cell_type": "code",
   "execution_count": 56,
   "metadata": {},
   "outputs": [],
   "source": [
    "train=df.iloc[:32100,:]\n",
    "train_X=train.iloc[:,train.columns!='Target'].values\n",
    "train_Y=train.Target.values\n",
    "\n",
    "scaler=StandardScaler()\n",
    "scaled_X_train=scaler.fit_transform(train_X)"
   ]
  },
  {
   "cell_type": "code",
   "execution_count": 57,
   "metadata": {},
   "outputs": [],
   "source": [
    "test=df.iloc[32100:,:]\n",
    "test_X=test.iloc[:,test.columns!='Target'].values\n",
    "test_Y=test.Target.values\n",
    "scaled_X_test=scaler.transform(test_X)"
   ]
  },
  {
   "cell_type": "markdown",
   "metadata": {},
   "source": [
    "### <a id='1' style=\"text-decoration : none; color : #000000;\"> 2. Initial Models</a>"
   ]
  },
  {
   "cell_type": "code",
   "execution_count": 58,
   "metadata": {},
   "outputs": [],
   "source": [
    "ind_columns=['KNeighborsClassifier','LogisticRegression','RandomForestClassifier','AdaBoostClassifier',\n",
    "             'GradientBoostingClassifier','ExtraTreeClassifier','BaggingClassifier','Neural Network-1']\n",
    "\n",
    "f=[KNN_model,Logistic_model,RandomForest,AdaBoost,GradientBoosting, ExtraTree,Bagging,DeepLearning1]\n",
    "\n",
    "## Table to store training and test measures\n",
    "table_80_50_train=pd.DataFrame(columns=['accuracy','TP','TN','FP','FN','FPR','FNR'])\n",
    "table_80_50_test=pd.DataFrame(columns=['accuracy','TP','TN','FP','FN','FPR','FNR','auc','MCC'])"
   ]
  },
  {
   "cell_type": "code",
   "execution_count": 24,
   "metadata": {
    "scrolled": false
   },
   "outputs": [
    {
     "name": "stdout",
     "output_type": "stream",
     "text": [
      "\u001b[1mK-Nearest Neighbors\u001b[0m\n",
      "Accuracy of the model for training data is: 0.9119003115264798\n",
      "Confusion Matrix for training data is:\n"
     ]
    },
    {
     "data": {
      "text/plain": [
       "Predicted  False  True  __all__\n",
       "Actual                         \n",
       "False      25654  2226    27880\n",
       "True         602  3618     4220\n",
       "__all__    26256  5844    32100"
      ]
     },
     "metadata": {},
     "output_type": "display_data"
    },
    {
     "name": "stdout",
     "output_type": "stream",
     "text": [
      "Accuracy of the model for test data is: 0.9100756033730736\n",
      "Confusion Matrix for test data is:\n"
     ]
    },
    {
     "data": {
      "text/plain": [
       "Predicted  False  True  __all__\n",
       "Actual                         \n",
       "False      10981   974    11955\n",
       "True         263  1538     1801\n",
       "__all__    11244  2512    13756"
      ]
     },
     "metadata": {},
     "output_type": "display_data"
    },
    {
     "name": "stdout",
     "output_type": "stream",
     "text": [
      "\n",
      "\n",
      "\u001b[1mLogistic Regression\u001b[0m\n",
      "Accuracy of the model for training data is: 0.8838940809968847\n",
      "Confusion Matrix for training data is:\n"
     ]
    },
    {
     "data": {
      "text/plain": [
       "Predicted  False  True  __all__\n",
       "Actual                         \n",
       "False      25471  2409    27880\n",
       "True        1318  2902     4220\n",
       "__all__    26789  5311    32100"
      ]
     },
     "metadata": {},
     "output_type": "display_data"
    },
    {
     "name": "stdout",
     "output_type": "stream",
     "text": [
      "Accuracy of the model for test data is: 0.8827420761849375\n",
      "Confusion Matrix for test data is:\n"
     ]
    },
    {
     "data": {
      "text/plain": [
       "Predicted  False  True  __all__\n",
       "Actual                         \n",
       "False      10929  1026    11955\n",
       "True         587  1214     1801\n",
       "__all__    11516  2240    13756"
      ]
     },
     "metadata": {},
     "output_type": "display_data"
    },
    {
     "name": "stdout",
     "output_type": "stream",
     "text": [
      "\n",
      "\n",
      "\u001b[1mRandomForest Classifier\u001b[0m\n",
      "Accuracy of the model for training data is: 0.9193146417445482\n",
      "Confusion Matrix for training data is:\n"
     ]
    },
    {
     "data": {
      "text/plain": [
       "Predicted  False  True  __all__\n",
       "Actual                         \n",
       "False      25699  2181    27880\n",
       "True         409  3811     4220\n",
       "__all__    26108  5992    32100"
      ]
     },
     "metadata": {},
     "output_type": "display_data"
    },
    {
     "name": "stdout",
     "output_type": "stream",
     "text": [
      "Accuracy of the model for test data is: 0.9089851701075894\n",
      "Confusion Matrix for test data is:\n"
     ]
    },
    {
     "data": {
      "text/plain": [
       "Predicted  False  True  __all__\n",
       "Actual                         \n",
       "False      10959   996    11955\n",
       "True         256  1545     1801\n",
       "__all__    11215  2541    13756"
      ]
     },
     "metadata": {},
     "output_type": "display_data"
    },
    {
     "data": {
      "application/vnd.plotly.v1+json": {
       "config": {
        "linkText": "Export to plot.ly",
        "plotlyServerURL": "https://plot.ly",
        "showLink": true
       },
       "data": [
        {
         "marker": {
          "color": "rgb(158,202,225)",
          "line": {
           "color": "rgb(8,48,107)",
           "width": 1.5
          }
         },
         "opacity": 0.6,
         "orientation": "h",
         "text": [
          0.3318,
          0.1893,
          0.0859,
          0.0771,
          0.0554,
          0.0366,
          0.032,
          0.0293,
          0.0246,
          0.0219,
          0.0217,
          0.0181,
          0.018,
          0.0116,
          0.0094,
          0.0077,
          0.0065,
          0.006,
          0.006,
          0.0049,
          0.004,
          0.0022
         ],
         "textposition": "outside",
         "type": "bar",
         "uid": "e348aec7-db4f-49fe-a722-bbbce176c73e",
         "x": [
          0.3317562345652798,
          0.18926236203439303,
          0.08594439908498014,
          0.07710986377079225,
          0.055399052446389103,
          0.03664696711750836,
          0.03195459240168554,
          0.02934590670520888,
          0.02460315966465892,
          0.02191916008184047,
          0.021676951580656027,
          0.018144615086423024,
          0.017998477305304208,
          0.011602630960368527,
          0.009383157340724748,
          0.007686657552757662,
          0.006473348945312308,
          0.006040134476325863,
          0.005969831755287098,
          0.004876778087928765,
          0.004010681022473705,
          0.002195038013701706
         ],
         "y": [
          "http_header_content-length",
          "http_header_content-language_text/html",
          "http_header_transfer-encoding_chunked",
          "http_header_vary_accept",
          "http_header_content-encoding_gzip",
          "http_header_server_apache",
          "http_header_connection_keep-alive",
          "http_header_cache-control_set_max-age",
          "http_header_pragmano-cache",
          "http_header_cache-control_set_must-revalidate",
          "http_header_connection_close",
          "http_header_cache-control_set_no-store",
          "http_header_server_nginx",
          "http_header_cache-control_set_private",
          "http_header_cache-control_set_no-cache",
          "http_header_vary_age",
          "http_header_via_1.1",
          "http_header_strict-transport-security_max-age",
          "http_header_x-cintent-type-options_nosniff",
          "http_header_expect-ctmax-age",
          "http_header_x-xss-enabled",
          "http_header_cache-control_set_public"
         ]
        }
       ],
       "layout": {
        "autosize": false,
        "height": 1000,
        "width": 1000,
        "xaxis": {
         "tickfont": {
          "color": "black",
          "size": 12
         },
         "title": "Feature Importances"
        },
        "yaxis": {
         "automargin": true
        }
       }
      },
      "text/html": [
       "<div id=\"9aa3b076-d460-49fd-afff-deb7ec6879fb\" style=\"height: 1000px; width: 1000px;\" class=\"plotly-graph-div\"></div><script type=\"text/javascript\">require([\"plotly\"], function(Plotly) { window.PLOTLYENV=window.PLOTLYENV || {};window.PLOTLYENV.BASE_URL=\"https://plot.ly\";Plotly.newPlot(\"9aa3b076-d460-49fd-afff-deb7ec6879fb\", [{\"marker\": {\"color\": \"rgb(158,202,225)\", \"line\": {\"color\": \"rgb(8,48,107)\", \"width\": 1.5}}, \"opacity\": 0.6, \"orientation\": \"h\", \"text\": [0.3318, 0.1893, 0.0859, 0.0771, 0.0554, 0.0366, 0.032, 0.0293, 0.0246, 0.0219, 0.0217, 0.0181, 0.018, 0.0116, 0.0094, 0.0077, 0.0065, 0.006, 0.006, 0.0049, 0.004, 0.0022], \"textposition\": \"outside\", \"x\": [0.3317562345652798, 0.18926236203439303, 0.08594439908498014, 0.07710986377079225, 0.055399052446389103, 0.03664696711750836, 0.03195459240168554, 0.02934590670520888, 0.02460315966465892, 0.02191916008184047, 0.021676951580656027, 0.018144615086423024, 0.017998477305304208, 0.011602630960368527, 0.009383157340724748, 0.007686657552757662, 0.006473348945312308, 0.006040134476325863, 0.005969831755287098, 0.004876778087928765, 0.004010681022473705, 0.002195038013701706], \"y\": [\"http_header_content-length\", \"http_header_content-language_text/html\", \"http_header_transfer-encoding_chunked\", \"http_header_vary_accept\", \"http_header_content-encoding_gzip\", \"http_header_server_apache\", \"http_header_connection_keep-alive\", \"http_header_cache-control_set_max-age\", \"http_header_pragmano-cache\", \"http_header_cache-control_set_must-revalidate\", \"http_header_connection_close\", \"http_header_cache-control_set_no-store\", \"http_header_server_nginx\", \"http_header_cache-control_set_private\", \"http_header_cache-control_set_no-cache\", \"http_header_vary_age\", \"http_header_via_1.1\", \"http_header_strict-transport-security_max-age\", \"http_header_x-cintent-type-options_nosniff\", \"http_header_expect-ctmax-age\", \"http_header_x-xss-enabled\", \"http_header_cache-control_set_public\"], \"type\": \"bar\", \"uid\": \"e348aec7-db4f-49fe-a722-bbbce176c73e\"}], {\"autosize\": false, \"height\": 1000, \"width\": 1000, \"xaxis\": {\"tickfont\": {\"color\": \"black\", \"size\": 12}, \"title\": \"Feature Importances\"}, \"yaxis\": {\"automargin\": true}}, {\"showLink\": true, \"linkText\": \"Export to plot.ly\", \"plotlyServerURL\": \"https://plot.ly\"})});</script>"
      ],
      "text/vnd.plotly.v1+html": [
       "<div id=\"9aa3b076-d460-49fd-afff-deb7ec6879fb\" style=\"height: 1000px; width: 1000px;\" class=\"plotly-graph-div\"></div><script type=\"text/javascript\">require([\"plotly\"], function(Plotly) { window.PLOTLYENV=window.PLOTLYENV || {};window.PLOTLYENV.BASE_URL=\"https://plot.ly\";Plotly.newPlot(\"9aa3b076-d460-49fd-afff-deb7ec6879fb\", [{\"marker\": {\"color\": \"rgb(158,202,225)\", \"line\": {\"color\": \"rgb(8,48,107)\", \"width\": 1.5}}, \"opacity\": 0.6, \"orientation\": \"h\", \"text\": [0.3318, 0.1893, 0.0859, 0.0771, 0.0554, 0.0366, 0.032, 0.0293, 0.0246, 0.0219, 0.0217, 0.0181, 0.018, 0.0116, 0.0094, 0.0077, 0.0065, 0.006, 0.006, 0.0049, 0.004, 0.0022], \"textposition\": \"outside\", \"x\": [0.3317562345652798, 0.18926236203439303, 0.08594439908498014, 0.07710986377079225, 0.055399052446389103, 0.03664696711750836, 0.03195459240168554, 0.02934590670520888, 0.02460315966465892, 0.02191916008184047, 0.021676951580656027, 0.018144615086423024, 0.017998477305304208, 0.011602630960368527, 0.009383157340724748, 0.007686657552757662, 0.006473348945312308, 0.006040134476325863, 0.005969831755287098, 0.004876778087928765, 0.004010681022473705, 0.002195038013701706], \"y\": [\"http_header_content-length\", \"http_header_content-language_text/html\", \"http_header_transfer-encoding_chunked\", \"http_header_vary_accept\", \"http_header_content-encoding_gzip\", \"http_header_server_apache\", \"http_header_connection_keep-alive\", \"http_header_cache-control_set_max-age\", \"http_header_pragmano-cache\", \"http_header_cache-control_set_must-revalidate\", \"http_header_connection_close\", \"http_header_cache-control_set_no-store\", \"http_header_server_nginx\", \"http_header_cache-control_set_private\", \"http_header_cache-control_set_no-cache\", \"http_header_vary_age\", \"http_header_via_1.1\", \"http_header_strict-transport-security_max-age\", \"http_header_x-cintent-type-options_nosniff\", \"http_header_expect-ctmax-age\", \"http_header_x-xss-enabled\", \"http_header_cache-control_set_public\"], \"type\": \"bar\", \"uid\": \"e348aec7-db4f-49fe-a722-bbbce176c73e\"}], {\"autosize\": false, \"height\": 1000, \"width\": 1000, \"xaxis\": {\"tickfont\": {\"color\": \"black\", \"size\": 12}, \"title\": \"Feature Importances\"}, \"yaxis\": {\"automargin\": true}}, {\"showLink\": true, \"linkText\": \"Export to plot.ly\", \"plotlyServerURL\": \"https://plot.ly\"})});</script>"
      ]
     },
     "metadata": {},
     "output_type": "display_data"
    },
    {
     "name": "stdout",
     "output_type": "stream",
     "text": [
      "\n",
      "\n",
      "\u001b[1mAdaoost Classifier\u001b[0m\n",
      "Accuracy of the model for training data is: 0.894797507788162\n",
      "Confusion Matrix for training data is:\n"
     ]
    },
    {
     "data": {
      "text/plain": [
       "Predicted  False  True  __all__\n",
       "Actual                         \n",
       "False      25644  2236    27880\n",
       "True        1141  3079     4220\n",
       "__all__    26785  5315    32100"
      ]
     },
     "metadata": {},
     "output_type": "display_data"
    },
    {
     "name": "stdout",
     "output_type": "stream",
     "text": [
      "Accuracy of the model for test data is: 0.8955364931666182\n",
      "Confusion Matrix for test data is:\n"
     ]
    },
    {
     "data": {
      "text/plain": [
       "Predicted  False  True  __all__\n",
       "Actual                         \n",
       "False      10999   956    11955\n",
       "True         481  1320     1801\n",
       "__all__    11480  2276    13756"
      ]
     },
     "metadata": {},
     "output_type": "display_data"
    },
    {
     "data": {
      "application/vnd.plotly.v1+json": {
       "config": {
        "linkText": "Export to plot.ly",
        "plotlyServerURL": "https://plot.ly",
        "showLink": true
       },
       "data": [
        {
         "marker": {
          "color": "rgb(158,202,225)",
          "line": {
           "color": "rgb(8,48,107)",
           "width": 1.5
          }
         },
         "opacity": 0.6,
         "orientation": "h",
         "text": [
          0.38,
          0.12,
          0.1,
          0.06,
          0.04,
          0.04,
          0.04,
          0.04,
          0.02,
          0.02,
          0.02,
          0.02,
          0.02,
          0.02,
          0.02,
          0.02,
          0.02,
          0,
          0,
          0,
          0,
          0
         ],
         "textposition": "outside",
         "type": "bar",
         "uid": "58a02a27-717c-44b0-9aac-b952b33b92af",
         "x": [
          0.38,
          0.12,
          0.1,
          0.06,
          0.04,
          0.04,
          0.04,
          0.04,
          0.02,
          0.02,
          0.02,
          0.02,
          0.02,
          0.02,
          0.02,
          0.02,
          0.02,
          0,
          0,
          0,
          0,
          0
         ],
         "y": [
          "http_header_content-length",
          "http_header_content-language_text/html",
          "http_header_transfer-encoding_chunked",
          "http_header_server_apache",
          "http_header_cache-control_set_max-age",
          "http_header_cache-control_set_no-store",
          "http_header_content-encoding_gzip",
          "http_header_pragmano-cache",
          "http_header_x-cintent-type-options_nosniff",
          "http_header_via_1.1",
          "http_header_vary_accept",
          "http_header_strict-transport-security_max-age",
          "http_header_server_nginx",
          "http_header_expect-ctmax-age",
          "http_header_connection_keep-alive",
          "http_header_cache-control_set_private",
          "http_header_x-xss-enabled",
          "http_header_cache-control_set_must-revalidate",
          "http_header_connection_close",
          "http_header_cache-control_set_public",
          "http_header_vary_age",
          "http_header_cache-control_set_no-cache"
         ]
        }
       ],
       "layout": {
        "autosize": false,
        "height": 1000,
        "width": 1000,
        "xaxis": {
         "tickfont": {
          "color": "black",
          "size": 12
         },
         "title": "Feature Importances"
        },
        "yaxis": {
         "automargin": true
        }
       }
      },
      "text/html": [
       "<div id=\"78f7d39e-3868-4ab7-8ae8-9f24d3fb0ead\" style=\"height: 1000px; width: 1000px;\" class=\"plotly-graph-div\"></div><script type=\"text/javascript\">require([\"plotly\"], function(Plotly) { window.PLOTLYENV=window.PLOTLYENV || {};window.PLOTLYENV.BASE_URL=\"https://plot.ly\";Plotly.newPlot(\"78f7d39e-3868-4ab7-8ae8-9f24d3fb0ead\", [{\"marker\": {\"color\": \"rgb(158,202,225)\", \"line\": {\"color\": \"rgb(8,48,107)\", \"width\": 1.5}}, \"opacity\": 0.6, \"orientation\": \"h\", \"text\": [0.38, 0.12, 0.1, 0.06, 0.04, 0.04, 0.04, 0.04, 0.02, 0.02, 0.02, 0.02, 0.02, 0.02, 0.02, 0.02, 0.02, 0.0, 0.0, 0.0, 0.0, 0.0], \"textposition\": \"outside\", \"x\": [0.38, 0.12, 0.1, 0.06, 0.04, 0.04, 0.04, 0.04, 0.02, 0.02, 0.02, 0.02, 0.02, 0.02, 0.02, 0.02, 0.02, 0.0, 0.0, 0.0, 0.0, 0.0], \"y\": [\"http_header_content-length\", \"http_header_content-language_text/html\", \"http_header_transfer-encoding_chunked\", \"http_header_server_apache\", \"http_header_cache-control_set_max-age\", \"http_header_cache-control_set_no-store\", \"http_header_content-encoding_gzip\", \"http_header_pragmano-cache\", \"http_header_x-cintent-type-options_nosniff\", \"http_header_via_1.1\", \"http_header_vary_accept\", \"http_header_strict-transport-security_max-age\", \"http_header_server_nginx\", \"http_header_expect-ctmax-age\", \"http_header_connection_keep-alive\", \"http_header_cache-control_set_private\", \"http_header_x-xss-enabled\", \"http_header_cache-control_set_must-revalidate\", \"http_header_connection_close\", \"http_header_cache-control_set_public\", \"http_header_vary_age\", \"http_header_cache-control_set_no-cache\"], \"type\": \"bar\", \"uid\": \"58a02a27-717c-44b0-9aac-b952b33b92af\"}], {\"autosize\": false, \"height\": 1000, \"width\": 1000, \"xaxis\": {\"tickfont\": {\"color\": \"black\", \"size\": 12}, \"title\": \"Feature Importances\"}, \"yaxis\": {\"automargin\": true}}, {\"showLink\": true, \"linkText\": \"Export to plot.ly\", \"plotlyServerURL\": \"https://plot.ly\"})});</script>"
      ],
      "text/vnd.plotly.v1+html": [
       "<div id=\"78f7d39e-3868-4ab7-8ae8-9f24d3fb0ead\" style=\"height: 1000px; width: 1000px;\" class=\"plotly-graph-div\"></div><script type=\"text/javascript\">require([\"plotly\"], function(Plotly) { window.PLOTLYENV=window.PLOTLYENV || {};window.PLOTLYENV.BASE_URL=\"https://plot.ly\";Plotly.newPlot(\"78f7d39e-3868-4ab7-8ae8-9f24d3fb0ead\", [{\"marker\": {\"color\": \"rgb(158,202,225)\", \"line\": {\"color\": \"rgb(8,48,107)\", \"width\": 1.5}}, \"opacity\": 0.6, \"orientation\": \"h\", \"text\": [0.38, 0.12, 0.1, 0.06, 0.04, 0.04, 0.04, 0.04, 0.02, 0.02, 0.02, 0.02, 0.02, 0.02, 0.02, 0.02, 0.02, 0.0, 0.0, 0.0, 0.0, 0.0], \"textposition\": \"outside\", \"x\": [0.38, 0.12, 0.1, 0.06, 0.04, 0.04, 0.04, 0.04, 0.02, 0.02, 0.02, 0.02, 0.02, 0.02, 0.02, 0.02, 0.02, 0.0, 0.0, 0.0, 0.0, 0.0], \"y\": [\"http_header_content-length\", \"http_header_content-language_text/html\", \"http_header_transfer-encoding_chunked\", \"http_header_server_apache\", \"http_header_cache-control_set_max-age\", \"http_header_cache-control_set_no-store\", \"http_header_content-encoding_gzip\", \"http_header_pragmano-cache\", \"http_header_x-cintent-type-options_nosniff\", \"http_header_via_1.1\", \"http_header_vary_accept\", \"http_header_strict-transport-security_max-age\", \"http_header_server_nginx\", \"http_header_expect-ctmax-age\", \"http_header_connection_keep-alive\", \"http_header_cache-control_set_private\", \"http_header_x-xss-enabled\", \"http_header_cache-control_set_must-revalidate\", \"http_header_connection_close\", \"http_header_cache-control_set_public\", \"http_header_vary_age\", \"http_header_cache-control_set_no-cache\"], \"type\": \"bar\", \"uid\": \"58a02a27-717c-44b0-9aac-b952b33b92af\"}], {\"autosize\": false, \"height\": 1000, \"width\": 1000, \"xaxis\": {\"tickfont\": {\"color\": \"black\", \"size\": 12}, \"title\": \"Feature Importances\"}, \"yaxis\": {\"automargin\": true}}, {\"showLink\": true, \"linkText\": \"Export to plot.ly\", \"plotlyServerURL\": \"https://plot.ly\"})});</script>"
      ]
     },
     "metadata": {},
     "output_type": "display_data"
    },
    {
     "name": "stdout",
     "output_type": "stream",
     "text": [
      "\n",
      "\n",
      "\u001b[1mGradientBoosting Classifier\u001b[0m\n",
      "Accuracy of the model for training data is: 0.9064485981308411\n",
      "Confusion Matrix for training data is:\n"
     ]
    },
    {
     "data": {
      "text/plain": [
       "Predicted  False  True  __all__\n",
       "Actual                         \n",
       "False      25672  2208    27880\n",
       "True         795  3425     4220\n",
       "__all__    26467  5633    32100"
      ]
     },
     "metadata": {},
     "output_type": "display_data"
    },
    {
     "name": "stdout",
     "output_type": "stream",
     "text": [
      "Accuracy of the model for test data is: 0.9055684792090724\n",
      "Confusion Matrix for test data is:\n"
     ]
    },
    {
     "data": {
      "text/plain": [
       "Predicted  False  True  __all__\n",
       "Actual                         \n",
       "False      11003   952    11955\n",
       "True         347  1454     1801\n",
       "__all__    11350  2406    13756"
      ]
     },
     "metadata": {},
     "output_type": "display_data"
    },
    {
     "data": {
      "application/vnd.plotly.v1+json": {
       "config": {
        "linkText": "Export to plot.ly",
        "plotlyServerURL": "https://plot.ly",
        "showLink": true
       },
       "data": [
        {
         "marker": {
          "color": "rgb(158,202,225)",
          "line": {
           "color": "rgb(8,48,107)",
           "width": 1.5
          }
         },
         "opacity": 0.6,
         "orientation": "h",
         "text": [
          0.3872,
          0.2594,
          0.1472,
          0.0776,
          0.0591,
          0.0174,
          0.0114,
          0.0097,
          0.0057,
          0.0057,
          0.0044,
          0.003,
          0.0026,
          0.0023,
          0.0019,
          0.0016,
          0.0012,
          0.0007,
          0.0006,
          0.0006,
          0.0004,
          0.0003
         ],
         "textposition": "outside",
         "type": "bar",
         "uid": "c93d2c71-2a63-4c7b-9a45-e4d78ca67f66",
         "x": [
          0.38719091898288527,
          0.2593697714721409,
          0.14717161004152102,
          0.07760800651693714,
          0.05910121253263242,
          0.017380388351049877,
          0.011358015724018428,
          0.009654838672216285,
          0.005745343130405369,
          0.005722681039501717,
          0.004375192641430449,
          0.0029908615777616567,
          0.002601387163218317,
          0.0022589255511354786,
          0.0019169213101464144,
          0.0015764629452601588,
          0.0012449109635363357,
          0.0007134972355928034,
          0.0006324577248259182,
          0.0006142429963879452,
          0.0004254729461603339,
          0.000346880481235688
         ],
         "y": [
          "http_header_content-encoding_gzip",
          "http_header_content-length",
          "http_header_content-language_text/html",
          "http_header_transfer-encoding_chunked",
          "http_header_server_apache",
          "http_header_cache-control_set_must-revalidate",
          "http_header_connection_keep-alive",
          "http_header_pragmano-cache",
          "http_header_cache-control_set_max-age",
          "http_header_connection_close",
          "http_header_vary_age",
          "http_header_cache-control_set_no-cache",
          "http_header_vary_accept",
          "http_header_via_1.1",
          "http_header_server_nginx",
          "http_header_cache-control_set_no-store",
          "http_header_expect-ctmax-age",
          "http_header_strict-transport-security_max-age",
          "http_header_x-xss-enabled",
          "http_header_cache-control_set_private",
          "http_header_x-cintent-type-options_nosniff",
          "http_header_cache-control_set_public"
         ]
        }
       ],
       "layout": {
        "autosize": false,
        "height": 1000,
        "width": 1000,
        "xaxis": {
         "tickfont": {
          "color": "black",
          "size": 12
         },
         "title": "Feature Importances"
        },
        "yaxis": {
         "automargin": true
        }
       }
      },
      "text/html": [
       "<div id=\"e02e0b92-4c50-4773-945c-63eb2bca365a\" style=\"height: 1000px; width: 1000px;\" class=\"plotly-graph-div\"></div><script type=\"text/javascript\">require([\"plotly\"], function(Plotly) { window.PLOTLYENV=window.PLOTLYENV || {};window.PLOTLYENV.BASE_URL=\"https://plot.ly\";Plotly.newPlot(\"e02e0b92-4c50-4773-945c-63eb2bca365a\", [{\"marker\": {\"color\": \"rgb(158,202,225)\", \"line\": {\"color\": \"rgb(8,48,107)\", \"width\": 1.5}}, \"opacity\": 0.6, \"orientation\": \"h\", \"text\": [0.3872, 0.2594, 0.1472, 0.0776, 0.0591, 0.0174, 0.0114, 0.0097, 0.0057, 0.0057, 0.0044, 0.003, 0.0026, 0.0023, 0.0019, 0.0016, 0.0012, 0.0007, 0.0006, 0.0006, 0.0004, 0.0003], \"textposition\": \"outside\", \"x\": [0.38719091898288527, 0.2593697714721409, 0.14717161004152102, 0.07760800651693714, 0.05910121253263242, 0.017380388351049877, 0.011358015724018428, 0.009654838672216285, 0.005745343130405369, 0.005722681039501717, 0.004375192641430449, 0.0029908615777616567, 0.002601387163218317, 0.0022589255511354786, 0.0019169213101464144, 0.0015764629452601588, 0.0012449109635363357, 0.0007134972355928034, 0.0006324577248259182, 0.0006142429963879452, 0.0004254729461603339, 0.000346880481235688], \"y\": [\"http_header_content-encoding_gzip\", \"http_header_content-length\", \"http_header_content-language_text/html\", \"http_header_transfer-encoding_chunked\", \"http_header_server_apache\", \"http_header_cache-control_set_must-revalidate\", \"http_header_connection_keep-alive\", \"http_header_pragmano-cache\", \"http_header_cache-control_set_max-age\", \"http_header_connection_close\", \"http_header_vary_age\", \"http_header_cache-control_set_no-cache\", \"http_header_vary_accept\", \"http_header_via_1.1\", \"http_header_server_nginx\", \"http_header_cache-control_set_no-store\", \"http_header_expect-ctmax-age\", \"http_header_strict-transport-security_max-age\", \"http_header_x-xss-enabled\", \"http_header_cache-control_set_private\", \"http_header_x-cintent-type-options_nosniff\", \"http_header_cache-control_set_public\"], \"type\": \"bar\", \"uid\": \"c93d2c71-2a63-4c7b-9a45-e4d78ca67f66\"}], {\"autosize\": false, \"height\": 1000, \"width\": 1000, \"xaxis\": {\"tickfont\": {\"color\": \"black\", \"size\": 12}, \"title\": \"Feature Importances\"}, \"yaxis\": {\"automargin\": true}}, {\"showLink\": true, \"linkText\": \"Export to plot.ly\", \"plotlyServerURL\": \"https://plot.ly\"})});</script>"
      ],
      "text/vnd.plotly.v1+html": [
       "<div id=\"e02e0b92-4c50-4773-945c-63eb2bca365a\" style=\"height: 1000px; width: 1000px;\" class=\"plotly-graph-div\"></div><script type=\"text/javascript\">require([\"plotly\"], function(Plotly) { window.PLOTLYENV=window.PLOTLYENV || {};window.PLOTLYENV.BASE_URL=\"https://plot.ly\";Plotly.newPlot(\"e02e0b92-4c50-4773-945c-63eb2bca365a\", [{\"marker\": {\"color\": \"rgb(158,202,225)\", \"line\": {\"color\": \"rgb(8,48,107)\", \"width\": 1.5}}, \"opacity\": 0.6, \"orientation\": \"h\", \"text\": [0.3872, 0.2594, 0.1472, 0.0776, 0.0591, 0.0174, 0.0114, 0.0097, 0.0057, 0.0057, 0.0044, 0.003, 0.0026, 0.0023, 0.0019, 0.0016, 0.0012, 0.0007, 0.0006, 0.0006, 0.0004, 0.0003], \"textposition\": \"outside\", \"x\": [0.38719091898288527, 0.2593697714721409, 0.14717161004152102, 0.07760800651693714, 0.05910121253263242, 0.017380388351049877, 0.011358015724018428, 0.009654838672216285, 0.005745343130405369, 0.005722681039501717, 0.004375192641430449, 0.0029908615777616567, 0.002601387163218317, 0.0022589255511354786, 0.0019169213101464144, 0.0015764629452601588, 0.0012449109635363357, 0.0007134972355928034, 0.0006324577248259182, 0.0006142429963879452, 0.0004254729461603339, 0.000346880481235688], \"y\": [\"http_header_content-encoding_gzip\", \"http_header_content-length\", \"http_header_content-language_text/html\", \"http_header_transfer-encoding_chunked\", \"http_header_server_apache\", \"http_header_cache-control_set_must-revalidate\", \"http_header_connection_keep-alive\", \"http_header_pragmano-cache\", \"http_header_cache-control_set_max-age\", \"http_header_connection_close\", \"http_header_vary_age\", \"http_header_cache-control_set_no-cache\", \"http_header_vary_accept\", \"http_header_via_1.1\", \"http_header_server_nginx\", \"http_header_cache-control_set_no-store\", \"http_header_expect-ctmax-age\", \"http_header_strict-transport-security_max-age\", \"http_header_x-xss-enabled\", \"http_header_cache-control_set_private\", \"http_header_x-cintent-type-options_nosniff\", \"http_header_cache-control_set_public\"], \"type\": \"bar\", \"uid\": \"c93d2c71-2a63-4c7b-9a45-e4d78ca67f66\"}], {\"autosize\": false, \"height\": 1000, \"width\": 1000, \"xaxis\": {\"tickfont\": {\"color\": \"black\", \"size\": 12}, \"title\": \"Feature Importances\"}, \"yaxis\": {\"automargin\": true}}, {\"showLink\": true, \"linkText\": \"Export to plot.ly\", \"plotlyServerURL\": \"https://plot.ly\"})});</script>"
      ]
     },
     "metadata": {},
     "output_type": "display_data"
    },
    {
     "name": "stdout",
     "output_type": "stream",
     "text": [
      "\n",
      "\n",
      "\u001b[1mExtraTree Classifier\u001b[0m\n",
      "Accuracy of the model for training data is: 0.9210903426791277\n",
      "Confusion Matrix for training data is:\n"
     ]
    },
    {
     "data": {
      "text/plain": [
       "Predicted  False  True  __all__\n",
       "Actual                         \n",
       "False      25729  2151    27880\n",
       "True         382  3838     4220\n",
       "__all__    26111  5989    32100"
      ]
     },
     "metadata": {},
     "output_type": "display_data"
    },
    {
     "name": "stdout",
     "output_type": "stream",
     "text": [
      "Accuracy of the model for test data is: 0.9088397790055248\n",
      "Confusion Matrix for test data is:\n"
     ]
    },
    {
     "data": {
      "text/plain": [
       "Predicted  False  True  __all__\n",
       "Actual                         \n",
       "False      10948  1007    11955\n",
       "True         247  1554     1801\n",
       "__all__    11195  2561    13756"
      ]
     },
     "metadata": {},
     "output_type": "display_data"
    },
    {
     "data": {
      "application/vnd.plotly.v1+json": {
       "config": {
        "linkText": "Export to plot.ly",
        "plotlyServerURL": "https://plot.ly",
        "showLink": true
       },
       "data": [
        {
         "marker": {
          "color": "rgb(158,202,225)",
          "line": {
           "color": "rgb(8,48,107)",
           "width": 1.5
          }
         },
         "opacity": 0.6,
         "orientation": "h",
         "text": [
          0.2326,
          0.1891,
          0.0879,
          0.0782,
          0.0713,
          0.0695,
          0.0517,
          0.033,
          0.0287,
          0.0226,
          0.0225,
          0.0219,
          0.0177,
          0.0126,
          0.0126,
          0.0122,
          0.0084,
          0.0083,
          0.0071,
          0.0062,
          0.0038,
          0.002
         ],
         "textposition": "outside",
         "type": "bar",
         "uid": "b5d90fc6-727d-4281-8959-37fdb66323fd",
         "x": [
          0.23257087729416506,
          0.18908490571298292,
          0.08787060262671607,
          0.078237390321447,
          0.0713164430380211,
          0.06947346500434946,
          0.05174005288103684,
          0.03303096272882635,
          0.028670922081466953,
          0.02263734322528171,
          0.022545580912948664,
          0.021899612609035137,
          0.017661497836607764,
          0.012617056122185746,
          0.012592117526919104,
          0.012163778223506047,
          0.00844160887991705,
          0.008260603164558252,
          0.007129583154550306,
          0.006209998314218235,
          0.0038331075385442037,
          0.0020124908027161705
         ],
         "y": [
          "http_header_content-length",
          "http_header_content-encoding_gzip",
          "http_header_transfer-encoding_chunked",
          "http_header_server_apache",
          "http_header_connection_keep-alive",
          "http_header_content-language_text/html",
          "http_header_vary_accept",
          "http_header_cache-control_set_max-age",
          "http_header_cache-control_set_must-revalidate",
          "http_header_vary_age",
          "http_header_cache-control_set_private",
          "http_header_cache-control_set_no-store",
          "http_header_connection_close",
          "http_header_pragmano-cache",
          "http_header_server_nginx",
          "http_header_cache-control_set_no-cache",
          "http_header_strict-transport-security_max-age",
          "http_header_via_1.1",
          "http_header_x-xss-enabled",
          "http_header_x-cintent-type-options_nosniff",
          "http_header_cache-control_set_public",
          "http_header_expect-ctmax-age"
         ]
        }
       ],
       "layout": {
        "autosize": false,
        "height": 1000,
        "width": 1000,
        "xaxis": {
         "tickfont": {
          "color": "black",
          "size": 12
         },
         "title": "Feature Importances"
        },
        "yaxis": {
         "automargin": true
        }
       }
      },
      "text/html": [
       "<div id=\"3e8b273d-4ef2-4d51-ba6a-b16cb03b8367\" style=\"height: 1000px; width: 1000px;\" class=\"plotly-graph-div\"></div><script type=\"text/javascript\">require([\"plotly\"], function(Plotly) { window.PLOTLYENV=window.PLOTLYENV || {};window.PLOTLYENV.BASE_URL=\"https://plot.ly\";Plotly.newPlot(\"3e8b273d-4ef2-4d51-ba6a-b16cb03b8367\", [{\"marker\": {\"color\": \"rgb(158,202,225)\", \"line\": {\"color\": \"rgb(8,48,107)\", \"width\": 1.5}}, \"opacity\": 0.6, \"orientation\": \"h\", \"text\": [0.2326, 0.1891, 0.0879, 0.0782, 0.0713, 0.0695, 0.0517, 0.033, 0.0287, 0.0226, 0.0225, 0.0219, 0.0177, 0.0126, 0.0126, 0.0122, 0.0084, 0.0083, 0.0071, 0.0062, 0.0038, 0.002], \"textposition\": \"outside\", \"x\": [0.23257087729416506, 0.18908490571298292, 0.08787060262671607, 0.078237390321447, 0.0713164430380211, 0.06947346500434946, 0.05174005288103684, 0.03303096272882635, 0.028670922081466953, 0.02263734322528171, 0.022545580912948664, 0.021899612609035137, 0.017661497836607764, 0.012617056122185746, 0.012592117526919104, 0.012163778223506047, 0.00844160887991705, 0.008260603164558252, 0.007129583154550306, 0.006209998314218235, 0.0038331075385442037, 0.0020124908027161705], \"y\": [\"http_header_content-length\", \"http_header_content-encoding_gzip\", \"http_header_transfer-encoding_chunked\", \"http_header_server_apache\", \"http_header_connection_keep-alive\", \"http_header_content-language_text/html\", \"http_header_vary_accept\", \"http_header_cache-control_set_max-age\", \"http_header_cache-control_set_must-revalidate\", \"http_header_vary_age\", \"http_header_cache-control_set_private\", \"http_header_cache-control_set_no-store\", \"http_header_connection_close\", \"http_header_pragmano-cache\", \"http_header_server_nginx\", \"http_header_cache-control_set_no-cache\", \"http_header_strict-transport-security_max-age\", \"http_header_via_1.1\", \"http_header_x-xss-enabled\", \"http_header_x-cintent-type-options_nosniff\", \"http_header_cache-control_set_public\", \"http_header_expect-ctmax-age\"], \"type\": \"bar\", \"uid\": \"b5d90fc6-727d-4281-8959-37fdb66323fd\"}], {\"autosize\": false, \"height\": 1000, \"width\": 1000, \"xaxis\": {\"tickfont\": {\"color\": \"black\", \"size\": 12}, \"title\": \"Feature Importances\"}, \"yaxis\": {\"automargin\": true}}, {\"showLink\": true, \"linkText\": \"Export to plot.ly\", \"plotlyServerURL\": \"https://plot.ly\"})});</script>"
      ],
      "text/vnd.plotly.v1+html": [
       "<div id=\"3e8b273d-4ef2-4d51-ba6a-b16cb03b8367\" style=\"height: 1000px; width: 1000px;\" class=\"plotly-graph-div\"></div><script type=\"text/javascript\">require([\"plotly\"], function(Plotly) { window.PLOTLYENV=window.PLOTLYENV || {};window.PLOTLYENV.BASE_URL=\"https://plot.ly\";Plotly.newPlot(\"3e8b273d-4ef2-4d51-ba6a-b16cb03b8367\", [{\"marker\": {\"color\": \"rgb(158,202,225)\", \"line\": {\"color\": \"rgb(8,48,107)\", \"width\": 1.5}}, \"opacity\": 0.6, \"orientation\": \"h\", \"text\": [0.2326, 0.1891, 0.0879, 0.0782, 0.0713, 0.0695, 0.0517, 0.033, 0.0287, 0.0226, 0.0225, 0.0219, 0.0177, 0.0126, 0.0126, 0.0122, 0.0084, 0.0083, 0.0071, 0.0062, 0.0038, 0.002], \"textposition\": \"outside\", \"x\": [0.23257087729416506, 0.18908490571298292, 0.08787060262671607, 0.078237390321447, 0.0713164430380211, 0.06947346500434946, 0.05174005288103684, 0.03303096272882635, 0.028670922081466953, 0.02263734322528171, 0.022545580912948664, 0.021899612609035137, 0.017661497836607764, 0.012617056122185746, 0.012592117526919104, 0.012163778223506047, 0.00844160887991705, 0.008260603164558252, 0.007129583154550306, 0.006209998314218235, 0.0038331075385442037, 0.0020124908027161705], \"y\": [\"http_header_content-length\", \"http_header_content-encoding_gzip\", \"http_header_transfer-encoding_chunked\", \"http_header_server_apache\", \"http_header_connection_keep-alive\", \"http_header_content-language_text/html\", \"http_header_vary_accept\", \"http_header_cache-control_set_max-age\", \"http_header_cache-control_set_must-revalidate\", \"http_header_vary_age\", \"http_header_cache-control_set_private\", \"http_header_cache-control_set_no-store\", \"http_header_connection_close\", \"http_header_pragmano-cache\", \"http_header_server_nginx\", \"http_header_cache-control_set_no-cache\", \"http_header_strict-transport-security_max-age\", \"http_header_via_1.1\", \"http_header_x-xss-enabled\", \"http_header_x-cintent-type-options_nosniff\", \"http_header_cache-control_set_public\", \"http_header_expect-ctmax-age\"], \"type\": \"bar\", \"uid\": \"b5d90fc6-727d-4281-8959-37fdb66323fd\"}], {\"autosize\": false, \"height\": 1000, \"width\": 1000, \"xaxis\": {\"tickfont\": {\"color\": \"black\", \"size\": 12}, \"title\": \"Feature Importances\"}, \"yaxis\": {\"automargin\": true}}, {\"showLink\": true, \"linkText\": \"Export to plot.ly\", \"plotlyServerURL\": \"https://plot.ly\"})});</script>"
      ]
     },
     "metadata": {},
     "output_type": "display_data"
    },
    {
     "name": "stdout",
     "output_type": "stream",
     "text": [
      "\n",
      "\n",
      "\u001b[1mBagging Classifier\u001b[0m\n",
      "Accuracy of the model for training data is: 0.9194080996884735\n",
      "Confusion Matrix for training data is:\n"
     ]
    },
    {
     "data": {
      "text/plain": [
       "Predicted  False  True  __all__\n",
       "Actual                         \n",
       "False      25713  2167    27880\n",
       "True         420  3800     4220\n",
       "__all__    26133  5967    32100"
      ]
     },
     "metadata": {},
     "output_type": "display_data"
    },
    {
     "name": "stdout",
     "output_type": "stream",
     "text": [
      "Accuracy of the model for test data is: 0.9097121256179121\n",
      "Confusion Matrix for test data is:\n"
     ]
    },
    {
     "data": {
      "text/plain": [
       "Predicted  False  True  __all__\n",
       "Actual                         \n",
       "False      10972   983    11955\n",
       "True         259  1542     1801\n",
       "__all__    11231  2525    13756"
      ]
     },
     "metadata": {},
     "output_type": "display_data"
    },
    {
     "name": "stdout",
     "output_type": "stream",
     "text": [
      "\n",
      "\n",
      "\u001b[1mNeural Network-1\u001b[0m\n",
      "The accuracy of the model on training data is: 0.8986292834890965\n"
     ]
    },
    {
     "data": {
      "text/plain": [
       "Predicted  False  True  __all__\n",
       "Actual                         \n",
       "False      27575   305    27880\n",
       "True        2949  1271     4220\n",
       "__all__    30524  1576    32100"
      ]
     },
     "metadata": {},
     "output_type": "display_data"
    },
    {
     "name": "stdout",
     "output_type": "stream",
     "text": [
      "The accuracy of the model on test data is: 0.8993166618202966\n"
     ]
    },
    {
     "data": {
      "text/plain": [
       "Predicted  False  True  __all__\n",
       "Actual                         \n",
       "False      11843   112    11955\n",
       "True        1273   528     1801\n",
       "__all__    13116   640    13756"
      ]
     },
     "metadata": {},
     "output_type": "display_data"
    },
    {
     "name": "stdout",
     "output_type": "stream",
     "text": [
      "\n",
      "\n"
     ]
    }
   ],
   "source": [
    "feat_imp=[None]*4\n",
    "j=0\n",
    "for i in range(0,8):\n",
    "    if i>=2 and i<=5:\n",
    "        model,cm_train,cm_test,acc_train,acc_test,roc_auc,feat_imp[j],mcc=f[i](scaled_X_train,train_Y,scaled_X_test,test_Y,columns[:-2])\n",
    "        j=j+1\n",
    "    else:\n",
    "        model,cm_train,cm_test,acc_train,acc_test,roc_auc,mcc=f[i](scaled_X_train,train_Y,scaled_X_test,test_Y)\n",
    "    table_80_50_train.loc[i]=   ([acc_train,cm_train.TP,cm_train.TN,cm_train.FP,cm_train.FN,cm_train.FPR,cm_train.FNR])\n",
    "    table_80_50_test.loc[i] =   ([acc_test ,cm_test.TP, cm_test.TN, cm_test.FP, cm_test.FN, cm_test.FPR, cm_test.FNR,roc_auc,mcc])\n",
    "    print(\"\\n\")"
   ]
  },
  {
   "cell_type": "markdown",
   "metadata": {},
   "source": [
    "### <a id='1.A' style=\"text-decoration : none; color : #000000;\"> A Results</a>"
   ]
  },
  {
   "cell_type": "code",
   "execution_count": 25,
   "metadata": {},
   "outputs": [
    {
     "data": {
      "application/vnd.plotly.v1+json": {
       "config": {
        "linkText": "Export to plot.ly",
        "plotlyServerURL": "https://plot.ly",
        "showLink": true
       },
       "data": [
        {
         "mode": "lines",
         "name": "KNN_model",
         "type": "scatter",
         "uid": "ce2c540b-2b7c-49c9-9028-04f64b353677",
         "x": [
          "accuracy",
          "FPR",
          "FNR",
          "auc"
         ],
         "y": [
          0.9100756033730736,
          0.08147218736930155,
          0.14602998334258746,
          0.8862489146440556
         ]
        },
        {
         "mode": "lines+markers",
         "name": "Logistic Regression",
         "type": "scatter",
         "uid": "86abd064-26b0-4dc1-ba62-2b8984f10179",
         "x": [
          "accuracy",
          "FPR",
          "FNR",
          "auc"
         ],
         "y": [
          0.8827420761849375,
          0.08582183186951066,
          0.32593003886729593,
          0.7941240646315966
         ]
        },
        {
         "marker": {
          "symbol": "x"
         },
         "mode": "lines+markers",
         "name": "Random Forest",
         "type": "scatter",
         "uid": "e8a7e24d-9b8b-4047-aee1-f01639886ca2",
         "x": [
          "accuracy",
          "FPR",
          "FNR",
          "auc"
         ],
         "y": [
          0.9089851701075894,
          0.08331242158092848,
          0.14214325374791784,
          0.887272162335577
         ]
        },
        {
         "mode": "lines",
         "name": "Ada Boost",
         "type": "scatter",
         "uid": "da01cb28-b709-435f-ab17-2a432ca72fed",
         "x": [
          "accuracy",
          "FPR",
          "FNR",
          "auc"
         ],
         "y": [
          0.8955364931666182,
          0.07996654119615224,
          0.2670738478622987,
          0.8264798054707745
         ]
        },
        {
         "mode": "lines+markers",
         "name": "GradientBoosting",
         "type": "scatter",
         "uid": "3a92b8a2-ca5d-48d8-a182-5e6cddb517a5",
         "x": [
          "accuracy",
          "FPR",
          "FNR",
          "auc"
         ],
         "y": [
          0.9055684792090724,
          0.07963195315767461,
          0.19267073847862298,
          0.8638486541818512
         ]
        },
        {
         "marker": {
          "symbol": "x"
         },
         "mode": "lines+markers",
         "name": "ExtraTree Classifier",
         "type": "scatter",
         "uid": "a4862ab7-a6bf-45e4-91ce-5bf2ab49d9d4",
         "x": [
          "accuracy",
          "FPR",
          "FNR",
          "auc"
         ],
         "y": [
          0.9088397790055248,
          0.08423253868674195,
          0.13714602998334258,
          0.8893107156649578
         ]
        },
        {
         "marker": {
          "symbol": "x"
         },
         "mode": "lines+markers",
         "name": "Bagging",
         "type": "scatter",
         "uid": "52dd5d8e-bce2-4f82-bf63-d969cfe08876",
         "x": [
          "accuracy",
          "FPR",
          "FNR",
          "auc"
         ],
         "y": [
          0.9097121256179121,
          0.0822250104558762,
          0.14380899500277625,
          0.886982997270674
         ]
        },
        {
         "marker": {
          "symbol": "x"
         },
         "mode": "lines+markers",
         "name": "Neural Network",
         "type": "scatter",
         "uid": "f09841e2-5174-4786-94f8-3a47116ed8c1",
         "x": [
          "accuracy",
          "FPR",
          "FNR",
          "auc"
         ],
         "y": [
          0.8993166618202966,
          0.009368465077373484,
          0.7068295391449195,
          0.886982997270674
         ]
        }
       ],
       "layout": {
        "title": "Result comparision for Features selected in Section 1",
        "yaxis": {
         "dtick": 0.05,
         "tick0": 0
        }
       }
      },
      "text/html": [
       "<div id=\"a21f2795-ae90-4ccd-88b1-53d98464f6bd\" style=\"height: 525px; width: 100%;\" class=\"plotly-graph-div\"></div><script type=\"text/javascript\">require([\"plotly\"], function(Plotly) { window.PLOTLYENV=window.PLOTLYENV || {};window.PLOTLYENV.BASE_URL=\"https://plot.ly\";Plotly.newPlot(\"a21f2795-ae90-4ccd-88b1-53d98464f6bd\", [{\"mode\": \"lines\", \"name\": \"KNN_model\", \"x\": [\"accuracy\", \"FPR\", \"FNR\", \"auc\"], \"y\": [0.9100756033730736, 0.08147218736930155, 0.14602998334258746, 0.8862489146440556], \"type\": \"scatter\", \"uid\": \"ce2c540b-2b7c-49c9-9028-04f64b353677\"}, {\"mode\": \"lines+markers\", \"name\": \"Logistic Regression\", \"x\": [\"accuracy\", \"FPR\", \"FNR\", \"auc\"], \"y\": [0.8827420761849375, 0.08582183186951066, 0.32593003886729593, 0.7941240646315966], \"type\": \"scatter\", \"uid\": \"86abd064-26b0-4dc1-ba62-2b8984f10179\"}, {\"marker\": {\"symbol\": \"x\"}, \"mode\": \"lines+markers\", \"name\": \"Random Forest\", \"x\": [\"accuracy\", \"FPR\", \"FNR\", \"auc\"], \"y\": [0.9089851701075894, 0.08331242158092848, 0.14214325374791784, 0.887272162335577], \"type\": \"scatter\", \"uid\": \"e8a7e24d-9b8b-4047-aee1-f01639886ca2\"}, {\"mode\": \"lines\", \"name\": \"Ada Boost\", \"x\": [\"accuracy\", \"FPR\", \"FNR\", \"auc\"], \"y\": [0.8955364931666182, 0.07996654119615224, 0.2670738478622987, 0.8264798054707745], \"type\": \"scatter\", \"uid\": \"da01cb28-b709-435f-ab17-2a432ca72fed\"}, {\"mode\": \"lines+markers\", \"name\": \"GradientBoosting\", \"x\": [\"accuracy\", \"FPR\", \"FNR\", \"auc\"], \"y\": [0.9055684792090724, 0.07963195315767461, 0.19267073847862298, 0.8638486541818512], \"type\": \"scatter\", \"uid\": \"3a92b8a2-ca5d-48d8-a182-5e6cddb517a5\"}, {\"marker\": {\"symbol\": \"x\"}, \"mode\": \"lines+markers\", \"name\": \"ExtraTree Classifier\", \"x\": [\"accuracy\", \"FPR\", \"FNR\", \"auc\"], \"y\": [0.9088397790055248, 0.08423253868674195, 0.13714602998334258, 0.8893107156649578], \"type\": \"scatter\", \"uid\": \"a4862ab7-a6bf-45e4-91ce-5bf2ab49d9d4\"}, {\"marker\": {\"symbol\": \"x\"}, \"mode\": \"lines+markers\", \"name\": \"Bagging\", \"x\": [\"accuracy\", \"FPR\", \"FNR\", \"auc\"], \"y\": [0.9097121256179121, 0.0822250104558762, 0.14380899500277625, 0.886982997270674], \"type\": \"scatter\", \"uid\": \"52dd5d8e-bce2-4f82-bf63-d969cfe08876\"}, {\"marker\": {\"symbol\": \"x\"}, \"mode\": \"lines+markers\", \"name\": \"Neural Network\", \"x\": [\"accuracy\", \"FPR\", \"FNR\", \"auc\"], \"y\": [0.8993166618202966, 0.009368465077373484, 0.7068295391449195, 0.886982997270674], \"type\": \"scatter\", \"uid\": \"f09841e2-5174-4786-94f8-3a47116ed8c1\"}], {\"title\": \"Result comparision for Features selected in Section 1\", \"yaxis\": {\"dtick\": 0.05, \"tick0\": 0}}, {\"showLink\": true, \"linkText\": \"Export to plot.ly\", \"plotlyServerURL\": \"https://plot.ly\"})});</script><script type=\"text/javascript\">window.addEventListener(\"resize\", function(){window._Plotly.Plots.resize(document.getElementById(\"a21f2795-ae90-4ccd-88b1-53d98464f6bd\"));});</script>"
      ],
      "text/vnd.plotly.v1+html": [
       "<div id=\"a21f2795-ae90-4ccd-88b1-53d98464f6bd\" style=\"height: 525px; width: 100%;\" class=\"plotly-graph-div\"></div><script type=\"text/javascript\">require([\"plotly\"], function(Plotly) { window.PLOTLYENV=window.PLOTLYENV || {};window.PLOTLYENV.BASE_URL=\"https://plot.ly\";Plotly.newPlot(\"a21f2795-ae90-4ccd-88b1-53d98464f6bd\", [{\"mode\": \"lines\", \"name\": \"KNN_model\", \"x\": [\"accuracy\", \"FPR\", \"FNR\", \"auc\"], \"y\": [0.9100756033730736, 0.08147218736930155, 0.14602998334258746, 0.8862489146440556], \"type\": \"scatter\", \"uid\": \"ce2c540b-2b7c-49c9-9028-04f64b353677\"}, {\"mode\": \"lines+markers\", \"name\": \"Logistic Regression\", \"x\": [\"accuracy\", \"FPR\", \"FNR\", \"auc\"], \"y\": [0.8827420761849375, 0.08582183186951066, 0.32593003886729593, 0.7941240646315966], \"type\": \"scatter\", \"uid\": \"86abd064-26b0-4dc1-ba62-2b8984f10179\"}, {\"marker\": {\"symbol\": \"x\"}, \"mode\": \"lines+markers\", \"name\": \"Random Forest\", \"x\": [\"accuracy\", \"FPR\", \"FNR\", \"auc\"], \"y\": [0.9089851701075894, 0.08331242158092848, 0.14214325374791784, 0.887272162335577], \"type\": \"scatter\", \"uid\": \"e8a7e24d-9b8b-4047-aee1-f01639886ca2\"}, {\"mode\": \"lines\", \"name\": \"Ada Boost\", \"x\": [\"accuracy\", \"FPR\", \"FNR\", \"auc\"], \"y\": [0.8955364931666182, 0.07996654119615224, 0.2670738478622987, 0.8264798054707745], \"type\": \"scatter\", \"uid\": \"da01cb28-b709-435f-ab17-2a432ca72fed\"}, {\"mode\": \"lines+markers\", \"name\": \"GradientBoosting\", \"x\": [\"accuracy\", \"FPR\", \"FNR\", \"auc\"], \"y\": [0.9055684792090724, 0.07963195315767461, 0.19267073847862298, 0.8638486541818512], \"type\": \"scatter\", \"uid\": \"3a92b8a2-ca5d-48d8-a182-5e6cddb517a5\"}, {\"marker\": {\"symbol\": \"x\"}, \"mode\": \"lines+markers\", \"name\": \"ExtraTree Classifier\", \"x\": [\"accuracy\", \"FPR\", \"FNR\", \"auc\"], \"y\": [0.9088397790055248, 0.08423253868674195, 0.13714602998334258, 0.8893107156649578], \"type\": \"scatter\", \"uid\": \"a4862ab7-a6bf-45e4-91ce-5bf2ab49d9d4\"}, {\"marker\": {\"symbol\": \"x\"}, \"mode\": \"lines+markers\", \"name\": \"Bagging\", \"x\": [\"accuracy\", \"FPR\", \"FNR\", \"auc\"], \"y\": [0.9097121256179121, 0.0822250104558762, 0.14380899500277625, 0.886982997270674], \"type\": \"scatter\", \"uid\": \"52dd5d8e-bce2-4f82-bf63-d969cfe08876\"}, {\"marker\": {\"symbol\": \"x\"}, \"mode\": \"lines+markers\", \"name\": \"Neural Network\", \"x\": [\"accuracy\", \"FPR\", \"FNR\", \"auc\"], \"y\": [0.8993166618202966, 0.009368465077373484, 0.7068295391449195, 0.886982997270674], \"type\": \"scatter\", \"uid\": \"f09841e2-5174-4786-94f8-3a47116ed8c1\"}], {\"title\": \"Result comparision for Features selected in Section 1\", \"yaxis\": {\"dtick\": 0.05, \"tick0\": 0}}, {\"showLink\": true, \"linkText\": \"Export to plot.ly\", \"plotlyServerURL\": \"https://plot.ly\"})});</script><script type=\"text/javascript\">window.addEventListener(\"resize\", function(){window._Plotly.Plots.resize(document.getElementById(\"a21f2795-ae90-4ccd-88b1-53d98464f6bd\"));});</script>"
      ]
     },
     "metadata": {},
     "output_type": "display_data"
    }
   ],
   "source": [
    "trace0 = go.Scatter(x=table_80_50_test.iloc[0].index.values[[0,5,6,7]],\n",
    "                    y=table_80_50_test.iloc[0].values[[0,5,6,7]],\n",
    "                    mode = 'lines',\n",
    "                    name = 'KNN_model')\n",
    "\n",
    "trace1 = go.Scatter(x=table_80_50_test.iloc[1].index.values[[0,5,6,7]],\n",
    "                    y=table_80_50_test.iloc[1].values[[0,5,6,7]],\n",
    "                    mode = 'lines+markers',\n",
    "                    name = 'Logistic Regression')\n",
    "\n",
    "trace2 = go.Scatter(x=table_80_50_test.iloc[2].index.values[[0,5,6,7]],\n",
    "                    y=table_80_50_test.iloc[2].values[[0,5,6,7]],\n",
    "                    mode = 'lines+markers',marker=dict(symbol='x'),\n",
    "                    name = 'Random Forest')\n",
    "\n",
    "\n",
    "trace3 = go.Scatter(x=table_80_50_test.iloc[3].index.values[[0,5,6,7]],\n",
    "                    y=table_80_50_test.iloc[3].values[[0,5,6,7]],\n",
    "                    mode = 'lines',\n",
    "                    name = 'Ada Boost')\n",
    "\n",
    "trace4 = go.Scatter(x=table_80_50_test.iloc[4].index.values[[0,5,6,7]],\n",
    "                    y=table_80_50_test.iloc[4].values[[0,5,6,7]],\n",
    "                    mode = 'lines+markers',\n",
    "                    name = 'GradientBoosting')\n",
    "\n",
    "trace5 = go.Scatter(x=table_80_50_test.iloc[5].index.values[[0,5,6,7]],\n",
    "                    y=table_80_50_test.iloc[5].values[[0,5,6,7]],\n",
    "                    mode = 'lines+markers',marker=dict(symbol='x'),\n",
    "                    name = 'ExtraTree Classifier')\n",
    "\n",
    "trace6 = go.Scatter(x=table_80_50_test.iloc[6].index.values[[0,5,6,7]],\n",
    "                    y=table_80_50_test.iloc[6].values[[0,5,6,7]],\n",
    "                    mode = 'lines+markers',marker=dict(symbol='x'),\n",
    "                    name = 'Bagging')\n",
    "\n",
    "trace7 = go.Scatter(x=table_80_50_test.iloc[7].index.values[[0,5,6,7]],\n",
    "                    y=table_80_50_test.iloc[7].values[[0,5,6,7]],\n",
    "                    mode = 'lines+markers',marker=dict(symbol='x'),\n",
    "                    name = 'Neural Network')\n",
    "\n",
    "\n",
    "\n",
    "data = [trace0, trace1, trace2, trace3, trace4, trace5, trace6, trace7]\n",
    "layout = go.Layout(yaxis=dict(tick0=0,dtick=0.05),title='Result comparision for Features selected in Section 1')\n",
    "fig = go.Figure(data=data, layout=layout)\n",
    "\n",
    "iplot(fig, filename='Result')"
   ]
  },
  {
   "cell_type": "code",
   "execution_count": 26,
   "metadata": {},
   "outputs": [
    {
     "name": "stdout",
     "output_type": "stream",
     "text": [
      "Training Results\n"
     ]
    },
    {
     "data": {
      "text/html": [
       "<div>\n",
       "<style scoped>\n",
       "    .dataframe tbody tr th:only-of-type {\n",
       "        vertical-align: middle;\n",
       "    }\n",
       "\n",
       "    .dataframe tbody tr th {\n",
       "        vertical-align: top;\n",
       "    }\n",
       "\n",
       "    .dataframe thead th {\n",
       "        text-align: right;\n",
       "    }\n",
       "</style>\n",
       "<table border=\"1\" class=\"dataframe\">\n",
       "  <thead>\n",
       "    <tr style=\"text-align: right;\">\n",
       "      <th></th>\n",
       "      <th>accuracy</th>\n",
       "      <th>TP</th>\n",
       "      <th>TN</th>\n",
       "      <th>FP</th>\n",
       "      <th>FN</th>\n",
       "      <th>FPR</th>\n",
       "      <th>FNR</th>\n",
       "    </tr>\n",
       "    <tr>\n",
       "      <th>index</th>\n",
       "      <th></th>\n",
       "      <th></th>\n",
       "      <th></th>\n",
       "      <th></th>\n",
       "      <th></th>\n",
       "      <th></th>\n",
       "      <th></th>\n",
       "    </tr>\n",
       "  </thead>\n",
       "  <tbody>\n",
       "    <tr>\n",
       "      <th>KNeighborsClassifier</th>\n",
       "      <td>0.911900</td>\n",
       "      <td>3618.0</td>\n",
       "      <td>25654.0</td>\n",
       "      <td>2226.0</td>\n",
       "      <td>602.0</td>\n",
       "      <td>0.079842</td>\n",
       "      <td>0.142654</td>\n",
       "    </tr>\n",
       "    <tr>\n",
       "      <th>LogisticRegression</th>\n",
       "      <td>0.883894</td>\n",
       "      <td>2902.0</td>\n",
       "      <td>25471.0</td>\n",
       "      <td>2409.0</td>\n",
       "      <td>1318.0</td>\n",
       "      <td>0.086406</td>\n",
       "      <td>0.312322</td>\n",
       "    </tr>\n",
       "    <tr>\n",
       "      <th>RandomForestClassifier</th>\n",
       "      <td>0.919315</td>\n",
       "      <td>3811.0</td>\n",
       "      <td>25699.0</td>\n",
       "      <td>2181.0</td>\n",
       "      <td>409.0</td>\n",
       "      <td>0.078228</td>\n",
       "      <td>0.096919</td>\n",
       "    </tr>\n",
       "    <tr>\n",
       "      <th>AdaBoostClassifier</th>\n",
       "      <td>0.894798</td>\n",
       "      <td>3079.0</td>\n",
       "      <td>25644.0</td>\n",
       "      <td>2236.0</td>\n",
       "      <td>1141.0</td>\n",
       "      <td>0.080201</td>\n",
       "      <td>0.270379</td>\n",
       "    </tr>\n",
       "    <tr>\n",
       "      <th>GradientBoostingClassifier</th>\n",
       "      <td>0.906449</td>\n",
       "      <td>3425.0</td>\n",
       "      <td>25672.0</td>\n",
       "      <td>2208.0</td>\n",
       "      <td>795.0</td>\n",
       "      <td>0.079197</td>\n",
       "      <td>0.188389</td>\n",
       "    </tr>\n",
       "    <tr>\n",
       "      <th>ExtraTreeClassifier</th>\n",
       "      <td>0.921090</td>\n",
       "      <td>3838.0</td>\n",
       "      <td>25729.0</td>\n",
       "      <td>2151.0</td>\n",
       "      <td>382.0</td>\n",
       "      <td>0.077152</td>\n",
       "      <td>0.090521</td>\n",
       "    </tr>\n",
       "    <tr>\n",
       "      <th>BaggingClassifier</th>\n",
       "      <td>0.919408</td>\n",
       "      <td>3800.0</td>\n",
       "      <td>25713.0</td>\n",
       "      <td>2167.0</td>\n",
       "      <td>420.0</td>\n",
       "      <td>0.077726</td>\n",
       "      <td>0.099526</td>\n",
       "    </tr>\n",
       "    <tr>\n",
       "      <th>Neural Network-1</th>\n",
       "      <td>0.898629</td>\n",
       "      <td>1271.0</td>\n",
       "      <td>27575.0</td>\n",
       "      <td>305.0</td>\n",
       "      <td>2949.0</td>\n",
       "      <td>0.010940</td>\n",
       "      <td>0.698815</td>\n",
       "    </tr>\n",
       "  </tbody>\n",
       "</table>\n",
       "</div>"
      ],
      "text/plain": [
       "                            accuracy      TP       TN      FP      FN  \\\n",
       "index                                                                   \n",
       "KNeighborsClassifier        0.911900  3618.0  25654.0  2226.0   602.0   \n",
       "LogisticRegression          0.883894  2902.0  25471.0  2409.0  1318.0   \n",
       "RandomForestClassifier      0.919315  3811.0  25699.0  2181.0   409.0   \n",
       "AdaBoostClassifier          0.894798  3079.0  25644.0  2236.0  1141.0   \n",
       "GradientBoostingClassifier  0.906449  3425.0  25672.0  2208.0   795.0   \n",
       "ExtraTreeClassifier         0.921090  3838.0  25729.0  2151.0   382.0   \n",
       "BaggingClassifier           0.919408  3800.0  25713.0  2167.0   420.0   \n",
       "Neural Network-1            0.898629  1271.0  27575.0   305.0  2949.0   \n",
       "\n",
       "                                 FPR       FNR  \n",
       "index                                           \n",
       "KNeighborsClassifier        0.079842  0.142654  \n",
       "LogisticRegression          0.086406  0.312322  \n",
       "RandomForestClassifier      0.078228  0.096919  \n",
       "AdaBoostClassifier          0.080201  0.270379  \n",
       "GradientBoostingClassifier  0.079197  0.188389  \n",
       "ExtraTreeClassifier         0.077152  0.090521  \n",
       "BaggingClassifier           0.077726  0.099526  \n",
       "Neural Network-1            0.010940  0.698815  "
      ]
     },
     "metadata": {},
     "output_type": "display_data"
    },
    {
     "name": "stdout",
     "output_type": "stream",
     "text": [
      "Test Results\n"
     ]
    },
    {
     "data": {
      "text/html": [
       "<div>\n",
       "<style scoped>\n",
       "    .dataframe tbody tr th:only-of-type {\n",
       "        vertical-align: middle;\n",
       "    }\n",
       "\n",
       "    .dataframe tbody tr th {\n",
       "        vertical-align: top;\n",
       "    }\n",
       "\n",
       "    .dataframe thead th {\n",
       "        text-align: right;\n",
       "    }\n",
       "</style>\n",
       "<table border=\"1\" class=\"dataframe\">\n",
       "  <thead>\n",
       "    <tr style=\"text-align: right;\">\n",
       "      <th></th>\n",
       "      <th>accuracy</th>\n",
       "      <th>TP</th>\n",
       "      <th>TN</th>\n",
       "      <th>FP</th>\n",
       "      <th>FN</th>\n",
       "      <th>FPR</th>\n",
       "      <th>FNR</th>\n",
       "      <th>auc</th>\n",
       "      <th>MCC</th>\n",
       "    </tr>\n",
       "    <tr>\n",
       "      <th>index</th>\n",
       "      <th></th>\n",
       "      <th></th>\n",
       "      <th></th>\n",
       "      <th></th>\n",
       "      <th></th>\n",
       "      <th></th>\n",
       "      <th></th>\n",
       "      <th></th>\n",
       "      <th></th>\n",
       "    </tr>\n",
       "  </thead>\n",
       "  <tbody>\n",
       "    <tr>\n",
       "      <th>KNeighborsClassifier</th>\n",
       "      <td>0.910076</td>\n",
       "      <td>1538.0</td>\n",
       "      <td>10981.0</td>\n",
       "      <td>974.0</td>\n",
       "      <td>263.0</td>\n",
       "      <td>0.081472</td>\n",
       "      <td>0.146030</td>\n",
       "      <td>0.886249</td>\n",
       "      <td>0.674464</td>\n",
       "    </tr>\n",
       "    <tr>\n",
       "      <th>LogisticRegression</th>\n",
       "      <td>0.882742</td>\n",
       "      <td>1214.0</td>\n",
       "      <td>10929.0</td>\n",
       "      <td>1026.0</td>\n",
       "      <td>587.0</td>\n",
       "      <td>0.085822</td>\n",
       "      <td>0.325930</td>\n",
       "      <td>0.794124</td>\n",
       "      <td>0.537424</td>\n",
       "    </tr>\n",
       "    <tr>\n",
       "      <th>RandomForestClassifier</th>\n",
       "      <td>0.908985</td>\n",
       "      <td>1545.0</td>\n",
       "      <td>10959.0</td>\n",
       "      <td>996.0</td>\n",
       "      <td>256.0</td>\n",
       "      <td>0.083312</td>\n",
       "      <td>0.142143</td>\n",
       "      <td>0.887272</td>\n",
       "      <td>0.673249</td>\n",
       "    </tr>\n",
       "    <tr>\n",
       "      <th>AdaBoostClassifier</th>\n",
       "      <td>0.895536</td>\n",
       "      <td>1320.0</td>\n",
       "      <td>10999.0</td>\n",
       "      <td>956.0</td>\n",
       "      <td>481.0</td>\n",
       "      <td>0.079967</td>\n",
       "      <td>0.267074</td>\n",
       "      <td>0.826480</td>\n",
       "      <td>0.592735</td>\n",
       "    </tr>\n",
       "    <tr>\n",
       "      <th>GradientBoostingClassifier</th>\n",
       "      <td>0.905568</td>\n",
       "      <td>1454.0</td>\n",
       "      <td>11003.0</td>\n",
       "      <td>952.0</td>\n",
       "      <td>347.0</td>\n",
       "      <td>0.079632</td>\n",
       "      <td>0.192671</td>\n",
       "      <td>0.863849</td>\n",
       "      <td>0.646155</td>\n",
       "    </tr>\n",
       "    <tr>\n",
       "      <th>ExtraTreeClassifier</th>\n",
       "      <td>0.908840</td>\n",
       "      <td>1554.0</td>\n",
       "      <td>10948.0</td>\n",
       "      <td>1007.0</td>\n",
       "      <td>247.0</td>\n",
       "      <td>0.084233</td>\n",
       "      <td>0.137146</td>\n",
       "      <td>0.889311</td>\n",
       "      <td>0.674747</td>\n",
       "    </tr>\n",
       "    <tr>\n",
       "      <th>BaggingClassifier</th>\n",
       "      <td>0.909712</td>\n",
       "      <td>1542.0</td>\n",
       "      <td>10972.0</td>\n",
       "      <td>983.0</td>\n",
       "      <td>259.0</td>\n",
       "      <td>0.082225</td>\n",
       "      <td>0.143809</td>\n",
       "      <td>0.886983</td>\n",
       "      <td>0.674394</td>\n",
       "    </tr>\n",
       "    <tr>\n",
       "      <th>Neural Network-1</th>\n",
       "      <td>0.899317</td>\n",
       "      <td>528.0</td>\n",
       "      <td>11843.0</td>\n",
       "      <td>112.0</td>\n",
       "      <td>1273.0</td>\n",
       "      <td>0.009368</td>\n",
       "      <td>0.706830</td>\n",
       "      <td>0.886983</td>\n",
       "      <td>0.454524</td>\n",
       "    </tr>\n",
       "  </tbody>\n",
       "</table>\n",
       "</div>"
      ],
      "text/plain": [
       "                            accuracy      TP       TN      FP      FN  \\\n",
       "index                                                                   \n",
       "KNeighborsClassifier        0.910076  1538.0  10981.0   974.0   263.0   \n",
       "LogisticRegression          0.882742  1214.0  10929.0  1026.0   587.0   \n",
       "RandomForestClassifier      0.908985  1545.0  10959.0   996.0   256.0   \n",
       "AdaBoostClassifier          0.895536  1320.0  10999.0   956.0   481.0   \n",
       "GradientBoostingClassifier  0.905568  1454.0  11003.0   952.0   347.0   \n",
       "ExtraTreeClassifier         0.908840  1554.0  10948.0  1007.0   247.0   \n",
       "BaggingClassifier           0.909712  1542.0  10972.0   983.0   259.0   \n",
       "Neural Network-1            0.899317   528.0  11843.0   112.0  1273.0   \n",
       "\n",
       "                                 FPR       FNR       auc       MCC  \n",
       "index                                                               \n",
       "KNeighborsClassifier        0.081472  0.146030  0.886249  0.674464  \n",
       "LogisticRegression          0.085822  0.325930  0.794124  0.537424  \n",
       "RandomForestClassifier      0.083312  0.142143  0.887272  0.673249  \n",
       "AdaBoostClassifier          0.079967  0.267074  0.826480  0.592735  \n",
       "GradientBoostingClassifier  0.079632  0.192671  0.863849  0.646155  \n",
       "ExtraTreeClassifier         0.084233  0.137146  0.889311  0.674747  \n",
       "BaggingClassifier           0.082225  0.143809  0.886983  0.674394  \n",
       "Neural Network-1            0.009368  0.706830  0.886983  0.454524  "
      ]
     },
     "metadata": {},
     "output_type": "display_data"
    }
   ],
   "source": [
    "table_80_50_train['index']=ind_columns\n",
    "table_80_50_test['index']=ind_columns\n",
    "\n",
    "\n",
    "table_80_50_test.set_index(['index'],drop=True,inplace=True)\n",
    "table_80_50_train.set_index(['index'],drop=True,inplace=True)\n",
    "\n",
    "print(\"Training Results\")\n",
    "display(table_80_50_train)\n",
    "print(\"Test Results\")\n",
    "display(table_80_50_test)"
   ]
  },
  {
   "cell_type": "markdown",
   "metadata": {},
   "source": [
    "### <a id='1.B' style=\"text-decoration : none; color : #000000;\"> B. Average Feature Importances</a>"
   ]
  },
  {
   "cell_type": "code",
   "execution_count": 27,
   "metadata": {},
   "outputs": [
    {
     "data": {
      "application/vnd.plotly.v1+json": {
       "config": {
        "linkText": "Export to plot.ly",
        "plotlyServerURL": "https://plot.ly",
        "showLink": true
       },
       "data": [
        {
         "marker": {
          "color": "rgb(158,202,225)",
          "line": {
           "color": "rgb(8,48,107)",
           "width": 1.5
          }
         },
         "opacity": 0.6,
         "orientation": "h",
         "text": [
          0.3009,
          0.1679,
          0.1315,
          0.0879,
          0.0585,
          0.0379,
          0.0337,
          0.027,
          0.0217,
          0.0204,
          0.017,
          0.0137,
          0.0131,
          0.0113,
          0.0092,
          0.0088,
          0.0087,
          0.0082,
          0.0079,
          0.007,
          0.0061,
          0.0016
         ],
         "textposition": "outside",
         "type": "bar",
         "uid": "001ca4ca-88ed-443c-ac98-2ea1ffc173e9",
         "x": [
          0.30092422083289644,
          0.16791871928556434,
          0.1314768592700659,
          0.08785575205715834,
          0.05849639249289695,
          0.03786282595376185,
          0.033657262790931265,
          0.02703055314111015,
          0.021718763614765237,
          0.02040517266017958,
          0.016992617628589324,
          0.013690613717426284,
          0.013126879035592433,
          0.011265282614191376,
          0.00924821941525151,
          0.008798810147958929,
          0.008674798354867456,
          0.008151325753916416,
          0.007943180475462483,
          0.007033544963545317,
          0.006134449285498113,
          0.0015937565083703994
         ],
         "y": [
          "http_header_content-length",
          "http_header_content-encoding_gzip",
          "http_header_content-language_text/html",
          "http_header_transfer-encoding_chunked",
          "http_header_server_apache",
          "http_header_vary_accept",
          "http_header_connection_keep-alive",
          "http_header_cache-control_set_max-age",
          "http_header_pragmano-cache",
          "http_header_cache-control_set_no-store",
          "http_header_cache-control_set_must-revalidate",
          "http_header_cache-control_set_private",
          "http_header_server_nginx",
          "http_header_connection_close",
          "http_header_via_1.1",
          "http_header_strict-transport-security_max-age",
          "http_header_vary_age",
          "http_header_x-cintent-type-options_nosniff",
          "http_header_x-xss-enabled",
          "http_header_expect-ctmax-age",
          "http_header_cache-control_set_no-cache",
          "http_header_cache-control_set_public"
         ]
        }
       ],
       "layout": {
        "autosize": false,
        "height": 1000,
        "width": 1000,
        "xaxis": {
         "tickfont": {
          "color": "black",
          "size": 12
         },
         "title": "Feature Importances"
        },
        "yaxis": {
         "automargin": true
        }
       }
      },
      "text/html": [
       "<div id=\"ce442a58-2742-463f-8c75-c24f65ad7984\" style=\"height: 1000px; width: 1000px;\" class=\"plotly-graph-div\"></div><script type=\"text/javascript\">require([\"plotly\"], function(Plotly) { window.PLOTLYENV=window.PLOTLYENV || {};window.PLOTLYENV.BASE_URL=\"https://plot.ly\";Plotly.newPlot(\"ce442a58-2742-463f-8c75-c24f65ad7984\", [{\"marker\": {\"color\": \"rgb(158,202,225)\", \"line\": {\"color\": \"rgb(8,48,107)\", \"width\": 1.5}}, \"opacity\": 0.6, \"orientation\": \"h\", \"text\": [0.3009, 0.1679, 0.1315, 0.0879, 0.0585, 0.0379, 0.0337, 0.027, 0.0217, 0.0204, 0.017, 0.0137, 0.0131, 0.0113, 0.0092, 0.0088, 0.0087, 0.0082, 0.0079, 0.007, 0.0061, 0.0016], \"textposition\": \"outside\", \"x\": [0.30092422083289644, 0.16791871928556434, 0.1314768592700659, 0.08785575205715834, 0.05849639249289695, 0.03786282595376185, 0.033657262790931265, 0.02703055314111015, 0.021718763614765237, 0.02040517266017958, 0.016992617628589324, 0.013690613717426284, 0.013126879035592433, 0.011265282614191376, 0.00924821941525151, 0.008798810147958929, 0.008674798354867456, 0.008151325753916416, 0.007943180475462483, 0.007033544963545317, 0.006134449285498113, 0.0015937565083703994], \"y\": [\"http_header_content-length\", \"http_header_content-encoding_gzip\", \"http_header_content-language_text/html\", \"http_header_transfer-encoding_chunked\", \"http_header_server_apache\", \"http_header_vary_accept\", \"http_header_connection_keep-alive\", \"http_header_cache-control_set_max-age\", \"http_header_pragmano-cache\", \"http_header_cache-control_set_no-store\", \"http_header_cache-control_set_must-revalidate\", \"http_header_cache-control_set_private\", \"http_header_server_nginx\", \"http_header_connection_close\", \"http_header_via_1.1\", \"http_header_strict-transport-security_max-age\", \"http_header_vary_age\", \"http_header_x-cintent-type-options_nosniff\", \"http_header_x-xss-enabled\", \"http_header_expect-ctmax-age\", \"http_header_cache-control_set_no-cache\", \"http_header_cache-control_set_public\"], \"type\": \"bar\", \"uid\": \"001ca4ca-88ed-443c-ac98-2ea1ffc173e9\"}], {\"autosize\": false, \"height\": 1000, \"width\": 1000, \"xaxis\": {\"tickfont\": {\"color\": \"black\", \"size\": 12}, \"title\": \"Feature Importances\"}, \"yaxis\": {\"automargin\": true}}, {\"showLink\": true, \"linkText\": \"Export to plot.ly\", \"plotlyServerURL\": \"https://plot.ly\"})});</script>"
      ],
      "text/vnd.plotly.v1+html": [
       "<div id=\"ce442a58-2742-463f-8c75-c24f65ad7984\" style=\"height: 1000px; width: 1000px;\" class=\"plotly-graph-div\"></div><script type=\"text/javascript\">require([\"plotly\"], function(Plotly) { window.PLOTLYENV=window.PLOTLYENV || {};window.PLOTLYENV.BASE_URL=\"https://plot.ly\";Plotly.newPlot(\"ce442a58-2742-463f-8c75-c24f65ad7984\", [{\"marker\": {\"color\": \"rgb(158,202,225)\", \"line\": {\"color\": \"rgb(8,48,107)\", \"width\": 1.5}}, \"opacity\": 0.6, \"orientation\": \"h\", \"text\": [0.3009, 0.1679, 0.1315, 0.0879, 0.0585, 0.0379, 0.0337, 0.027, 0.0217, 0.0204, 0.017, 0.0137, 0.0131, 0.0113, 0.0092, 0.0088, 0.0087, 0.0082, 0.0079, 0.007, 0.0061, 0.0016], \"textposition\": \"outside\", \"x\": [0.30092422083289644, 0.16791871928556434, 0.1314768592700659, 0.08785575205715834, 0.05849639249289695, 0.03786282595376185, 0.033657262790931265, 0.02703055314111015, 0.021718763614765237, 0.02040517266017958, 0.016992617628589324, 0.013690613717426284, 0.013126879035592433, 0.011265282614191376, 0.00924821941525151, 0.008798810147958929, 0.008674798354867456, 0.008151325753916416, 0.007943180475462483, 0.007033544963545317, 0.006134449285498113, 0.0015937565083703994], \"y\": [\"http_header_content-length\", \"http_header_content-encoding_gzip\", \"http_header_content-language_text/html\", \"http_header_transfer-encoding_chunked\", \"http_header_server_apache\", \"http_header_vary_accept\", \"http_header_connection_keep-alive\", \"http_header_cache-control_set_max-age\", \"http_header_pragmano-cache\", \"http_header_cache-control_set_no-store\", \"http_header_cache-control_set_must-revalidate\", \"http_header_cache-control_set_private\", \"http_header_server_nginx\", \"http_header_connection_close\", \"http_header_via_1.1\", \"http_header_strict-transport-security_max-age\", \"http_header_vary_age\", \"http_header_x-cintent-type-options_nosniff\", \"http_header_x-xss-enabled\", \"http_header_expect-ctmax-age\", \"http_header_cache-control_set_no-cache\", \"http_header_cache-control_set_public\"], \"type\": \"bar\", \"uid\": \"001ca4ca-88ed-443c-ac98-2ea1ffc173e9\"}], {\"autosize\": false, \"height\": 1000, \"width\": 1000, \"xaxis\": {\"tickfont\": {\"color\": \"black\", \"size\": 12}, \"title\": \"Feature Importances\"}, \"yaxis\": {\"automargin\": true}}, {\"showLink\": true, \"linkText\": \"Export to plot.ly\", \"plotlyServerURL\": \"https://plot.ly\"})});</script>"
      ]
     },
     "metadata": {},
     "output_type": "display_data"
    }
   ],
   "source": [
    "feat_impt_plot(np.average(feat_imp,axis=0),columns[:-2])"
   ]
  },
  {
   "cell_type": "markdown",
   "metadata": {},
   "source": [
    "### <a id='2' style=\"text-decoration : none; color : #000000;\"> 2. OverSampling </a>"
   ]
  },
  {
   "cell_type": "code",
   "execution_count": 28,
   "metadata": {},
   "outputs": [],
   "source": [
    "sm = SMOTE(random_state=12, ratio = 1.0)\n",
    "X_train, Y_train = sm.fit_sample(scaled_X_train,train_Y)"
   ]
  },
  {
   "cell_type": "code",
   "execution_count": 29,
   "metadata": {},
   "outputs": [],
   "source": [
    "## Table to store training and test measures so we can compare later\n",
    "table_80_80_train=pd.DataFrame(columns=['accuracy','TP','TN','FP','FN','FPR','FNR'])\n",
    "table_80_80_test=pd.DataFrame(columns=['accuracy','TP','TN','FP','FN','FPR','FNR','auc','mcc'])"
   ]
  },
  {
   "cell_type": "code",
   "execution_count": 30,
   "metadata": {
    "scrolled": false
   },
   "outputs": [
    {
     "name": "stdout",
     "output_type": "stream",
     "text": [
      "\u001b[1mK-Nearest Neighbors\u001b[0m\n",
      "Accuracy of the model for training data is: 0.911316355810617\n",
      "Confusion Matrix for training data is:\n"
     ]
    },
    {
     "data": {
      "text/plain": [
       "Predicted  False   True  __all__\n",
       "Actual                          \n",
       "False      25288   2592    27880\n",
       "True        2353  25527    27880\n",
       "__all__    27641  28119    55760"
      ]
     },
     "metadata": {},
     "output_type": "display_data"
    },
    {
     "name": "stdout",
     "output_type": "stream",
     "text": [
      "Accuracy of the model for test data is: 0.8969177086362314\n",
      "Confusion Matrix for test data is:\n"
     ]
    },
    {
     "data": {
      "text/plain": [
       "Predicted  False  True  __all__\n",
       "Actual                         \n",
       "False      10765  1190    11955\n",
       "True         228  1573     1801\n",
       "__all__    10993  2763    13756"
      ]
     },
     "metadata": {},
     "output_type": "display_data"
    },
    {
     "name": "stdout",
     "output_type": "stream",
     "text": [
      "\n",
      "\n",
      "\u001b[1mLogistic Regression\u001b[0m\n",
      "Accuracy of the model for training data is: 0.8664454806312769\n",
      "Confusion Matrix for training data is:\n"
     ]
    },
    {
     "data": {
      "text/plain": [
       "Predicted  False   True  __all__\n",
       "Actual                          \n",
       "False      23090   4790    27880\n",
       "True        2657  25223    27880\n",
       "__all__    25747  30013    55760"
      ]
     },
     "metadata": {},
     "output_type": "display_data"
    },
    {
     "name": "stdout",
     "output_type": "stream",
     "text": [
      "Accuracy of the model for test data is: 0.8423960453620238\n",
      "Confusion Matrix for test data is:\n"
     ]
    },
    {
     "data": {
      "text/plain": [
       "Predicted  False  True  __all__\n",
       "Actual                         \n",
       "False       9971  1984    11955\n",
       "True         184  1617     1801\n",
       "__all__    10155  3601    13756"
      ]
     },
     "metadata": {},
     "output_type": "display_data"
    },
    {
     "name": "stdout",
     "output_type": "stream",
     "text": [
      "\n",
      "\n",
      "\u001b[1mRandomForest Classifier\u001b[0m\n",
      "Accuracy of the model for training data is: 0.9329626972740316\n",
      "Confusion Matrix for training data is:\n"
     ]
    },
    {
     "data": {
      "text/plain": [
       "Predicted  False   True  __all__\n",
       "Actual                          \n",
       "False      24951   2929    27880\n",
       "True         809  27071    27880\n",
       "__all__    25760  30000    55760"
      ]
     },
     "metadata": {},
     "output_type": "display_data"
    },
    {
     "name": "stdout",
     "output_type": "stream",
     "text": [
      "Accuracy of the model for test data is: 0.88601337598139\n",
      "Confusion Matrix for test data is:\n"
     ]
    },
    {
     "data": {
      "text/plain": [
       "Predicted  False  True  __all__\n",
       "Actual                         \n",
       "False      10532  1423    11955\n",
       "True         145  1656     1801\n",
       "__all__    10677  3079    13756"
      ]
     },
     "metadata": {},
     "output_type": "display_data"
    },
    {
     "data": {
      "application/vnd.plotly.v1+json": {
       "config": {
        "linkText": "Export to plot.ly",
        "plotlyServerURL": "https://plot.ly",
        "showLink": true
       },
       "data": [
        {
         "marker": {
          "color": "rgb(158,202,225)",
          "line": {
           "color": "rgb(8,48,107)",
           "width": 1.5
          }
         },
         "opacity": 0.6,
         "orientation": "h",
         "text": [
          0.1977,
          0.1506,
          0.1372,
          0.1314,
          0.0622,
          0.0558,
          0.0448,
          0.0405,
          0.021,
          0.0191,
          0.0178,
          0.017,
          0.0147,
          0.0141,
          0.0135,
          0.0129,
          0.0104,
          0.01,
          0.0088,
          0.0087,
          0.0082,
          0.0035
         ],
         "textposition": "outside",
         "type": "bar",
         "uid": "f5c0cac0-8f78-4f32-acbf-7981b117410e",
         "x": [
          0.19773199759727583,
          0.1505710457050124,
          0.1371704515405095,
          0.1313975409362817,
          0.06215751050951688,
          0.05584907086081124,
          0.04482462774905495,
          0.040531181276795315,
          0.021042689382291264,
          0.019063253134066992,
          0.0178458075504798,
          0.017024137868895627,
          0.014662415888226171,
          0.01414820090283076,
          0.013451972759768569,
          0.012918509763341898,
          0.010445079043539732,
          0.009957585728894755,
          0.008840570542377173,
          0.008677119489617793,
          0.008228117833754472,
          0.0034611139366572093
         ],
         "y": [
          "http_header_content-length",
          "http_header_content-encoding_gzip",
          "http_header_content-language_text/html",
          "http_header_transfer-encoding_chunked",
          "http_header_connection_keep-alive",
          "http_header_cache-control_set_max-age",
          "http_header_vary_accept",
          "http_header_server_apache",
          "http_header_cache-control_set_no-cache",
          "http_header_cache-control_set_private",
          "http_header_server_nginx",
          "http_header_cache-control_set_no-store",
          "http_header_x-cintent-type-options_nosniff",
          "http_header_strict-transport-security_max-age",
          "http_header_pragmano-cache",
          "http_header_x-xss-enabled",
          "http_header_expect-ctmax-age",
          "http_header_connection_close",
          "http_header_cache-control_set_must-revalidate",
          "http_header_vary_age",
          "http_header_via_1.1",
          "http_header_cache-control_set_public"
         ]
        }
       ],
       "layout": {
        "autosize": false,
        "height": 1000,
        "width": 1000,
        "xaxis": {
         "tickfont": {
          "color": "black",
          "size": 12
         },
         "title": "Feature Importances"
        },
        "yaxis": {
         "automargin": true
        }
       }
      },
      "text/html": [
       "<div id=\"d14a5b04-151b-4daf-93e6-048e8405fac5\" style=\"height: 1000px; width: 1000px;\" class=\"plotly-graph-div\"></div><script type=\"text/javascript\">require([\"plotly\"], function(Plotly) { window.PLOTLYENV=window.PLOTLYENV || {};window.PLOTLYENV.BASE_URL=\"https://plot.ly\";Plotly.newPlot(\"d14a5b04-151b-4daf-93e6-048e8405fac5\", [{\"marker\": {\"color\": \"rgb(158,202,225)\", \"line\": {\"color\": \"rgb(8,48,107)\", \"width\": 1.5}}, \"opacity\": 0.6, \"orientation\": \"h\", \"text\": [0.1977, 0.1506, 0.1372, 0.1314, 0.0622, 0.0558, 0.0448, 0.0405, 0.021, 0.0191, 0.0178, 0.017, 0.0147, 0.0141, 0.0135, 0.0129, 0.0104, 0.01, 0.0088, 0.0087, 0.0082, 0.0035], \"textposition\": \"outside\", \"x\": [0.19773199759727583, 0.1505710457050124, 0.1371704515405095, 0.1313975409362817, 0.06215751050951688, 0.05584907086081124, 0.04482462774905495, 0.040531181276795315, 0.021042689382291264, 0.019063253134066992, 0.0178458075504798, 0.017024137868895627, 0.014662415888226171, 0.01414820090283076, 0.013451972759768569, 0.012918509763341898, 0.010445079043539732, 0.009957585728894755, 0.008840570542377173, 0.008677119489617793, 0.008228117833754472, 0.0034611139366572093], \"y\": [\"http_header_content-length\", \"http_header_content-encoding_gzip\", \"http_header_content-language_text/html\", \"http_header_transfer-encoding_chunked\", \"http_header_connection_keep-alive\", \"http_header_cache-control_set_max-age\", \"http_header_vary_accept\", \"http_header_server_apache\", \"http_header_cache-control_set_no-cache\", \"http_header_cache-control_set_private\", \"http_header_server_nginx\", \"http_header_cache-control_set_no-store\", \"http_header_x-cintent-type-options_nosniff\", \"http_header_strict-transport-security_max-age\", \"http_header_pragmano-cache\", \"http_header_x-xss-enabled\", \"http_header_expect-ctmax-age\", \"http_header_connection_close\", \"http_header_cache-control_set_must-revalidate\", \"http_header_vary_age\", \"http_header_via_1.1\", \"http_header_cache-control_set_public\"], \"type\": \"bar\", \"uid\": \"f5c0cac0-8f78-4f32-acbf-7981b117410e\"}], {\"autosize\": false, \"height\": 1000, \"width\": 1000, \"xaxis\": {\"tickfont\": {\"color\": \"black\", \"size\": 12}, \"title\": \"Feature Importances\"}, \"yaxis\": {\"automargin\": true}}, {\"showLink\": true, \"linkText\": \"Export to plot.ly\", \"plotlyServerURL\": \"https://plot.ly\"})});</script>"
      ],
      "text/vnd.plotly.v1+html": [
       "<div id=\"d14a5b04-151b-4daf-93e6-048e8405fac5\" style=\"height: 1000px; width: 1000px;\" class=\"plotly-graph-div\"></div><script type=\"text/javascript\">require([\"plotly\"], function(Plotly) { window.PLOTLYENV=window.PLOTLYENV || {};window.PLOTLYENV.BASE_URL=\"https://plot.ly\";Plotly.newPlot(\"d14a5b04-151b-4daf-93e6-048e8405fac5\", [{\"marker\": {\"color\": \"rgb(158,202,225)\", \"line\": {\"color\": \"rgb(8,48,107)\", \"width\": 1.5}}, \"opacity\": 0.6, \"orientation\": \"h\", \"text\": [0.1977, 0.1506, 0.1372, 0.1314, 0.0622, 0.0558, 0.0448, 0.0405, 0.021, 0.0191, 0.0178, 0.017, 0.0147, 0.0141, 0.0135, 0.0129, 0.0104, 0.01, 0.0088, 0.0087, 0.0082, 0.0035], \"textposition\": \"outside\", \"x\": [0.19773199759727583, 0.1505710457050124, 0.1371704515405095, 0.1313975409362817, 0.06215751050951688, 0.05584907086081124, 0.04482462774905495, 0.040531181276795315, 0.021042689382291264, 0.019063253134066992, 0.0178458075504798, 0.017024137868895627, 0.014662415888226171, 0.01414820090283076, 0.013451972759768569, 0.012918509763341898, 0.010445079043539732, 0.009957585728894755, 0.008840570542377173, 0.008677119489617793, 0.008228117833754472, 0.0034611139366572093], \"y\": [\"http_header_content-length\", \"http_header_content-encoding_gzip\", \"http_header_content-language_text/html\", \"http_header_transfer-encoding_chunked\", \"http_header_connection_keep-alive\", \"http_header_cache-control_set_max-age\", \"http_header_vary_accept\", \"http_header_server_apache\", \"http_header_cache-control_set_no-cache\", \"http_header_cache-control_set_private\", \"http_header_server_nginx\", \"http_header_cache-control_set_no-store\", \"http_header_x-cintent-type-options_nosniff\", \"http_header_strict-transport-security_max-age\", \"http_header_pragmano-cache\", \"http_header_x-xss-enabled\", \"http_header_expect-ctmax-age\", \"http_header_connection_close\", \"http_header_cache-control_set_must-revalidate\", \"http_header_vary_age\", \"http_header_via_1.1\", \"http_header_cache-control_set_public\"], \"type\": \"bar\", \"uid\": \"f5c0cac0-8f78-4f32-acbf-7981b117410e\"}], {\"autosize\": false, \"height\": 1000, \"width\": 1000, \"xaxis\": {\"tickfont\": {\"color\": \"black\", \"size\": 12}, \"title\": \"Feature Importances\"}, \"yaxis\": {\"automargin\": true}}, {\"showLink\": true, \"linkText\": \"Export to plot.ly\", \"plotlyServerURL\": \"https://plot.ly\"})});</script>"
      ]
     },
     "metadata": {},
     "output_type": "display_data"
    },
    {
     "name": "stdout",
     "output_type": "stream",
     "text": [
      "\n",
      "\n",
      "\u001b[1mAdaoost Classifier\u001b[0m\n",
      "Accuracy of the model for training data is: 0.8738163558106169\n",
      "Confusion Matrix for training data is:\n"
     ]
    },
    {
     "data": {
      "text/plain": [
       "Predicted  False   True  __all__\n",
       "Actual                          \n",
       "False      23517   4363    27880\n",
       "True        2673  25207    27880\n",
       "__all__    26190  29570    55760"
      ]
     },
     "metadata": {},
     "output_type": "display_data"
    },
    {
     "name": "stdout",
     "output_type": "stream",
     "text": [
      "Accuracy of the model for test data is: 0.8507560337307357\n",
      "Confusion Matrix for test data is:\n"
     ]
    },
    {
     "data": {
      "text/plain": [
       "Predicted  False  True  __all__\n",
       "Actual                         \n",
       "False      10101  1854    11955\n",
       "True         199  1602     1801\n",
       "__all__    10300  3456    13756"
      ]
     },
     "metadata": {},
     "output_type": "display_data"
    },
    {
     "data": {
      "application/vnd.plotly.v1+json": {
       "config": {
        "linkText": "Export to plot.ly",
        "plotlyServerURL": "https://plot.ly",
        "showLink": true
       },
       "data": [
        {
         "marker": {
          "color": "rgb(158,202,225)",
          "line": {
           "color": "rgb(8,48,107)",
           "width": 1.5
          }
         },
         "opacity": 0.6,
         "orientation": "h",
         "text": [
          0.36,
          0.12,
          0.08,
          0.06,
          0.04,
          0.04,
          0.04,
          0.04,
          0.04,
          0.04,
          0.04,
          0.02,
          0.02,
          0.02,
          0.02,
          0.02,
          0,
          0,
          0,
          0,
          0,
          0
         ],
         "textposition": "outside",
         "type": "bar",
         "uid": "aa2b10f2-68d7-4124-8bec-07045cd98b2a",
         "x": [
          0.36,
          0.12,
          0.08,
          0.06,
          0.04,
          0.04,
          0.04,
          0.04,
          0.04,
          0.04,
          0.04,
          0.02,
          0.02,
          0.02,
          0.02,
          0.02,
          0,
          0,
          0,
          0,
          0,
          0
         ],
         "y": [
          "http_header_content-length",
          "http_header_content-encoding_gzip",
          "http_header_transfer-encoding_chunked",
          "http_header_cache-control_set_no-store",
          "http_header_cache-control_set_max-age",
          "http_header_via_1.1",
          "http_header_vary_accept",
          "http_header_strict-transport-security_max-age",
          "http_header_pragmano-cache",
          "http_header_expect-ctmax-age",
          "http_header_connection_keep-alive",
          "http_header_server_apache",
          "http_header_server_nginx",
          "http_header_cache-control_set_public",
          "http_header_cache-control_set_private",
          "http_header_x-cintent-type-options_nosniff",
          "http_header_content-language_text/html",
          "http_header_cache-control_set_must-revalidate",
          "http_header_connection_close",
          "http_header_vary_age",
          "http_header_cache-control_set_no-cache",
          "http_header_x-xss-enabled"
         ]
        }
       ],
       "layout": {
        "autosize": false,
        "height": 1000,
        "width": 1000,
        "xaxis": {
         "tickfont": {
          "color": "black",
          "size": 12
         },
         "title": "Feature Importances"
        },
        "yaxis": {
         "automargin": true
        }
       }
      },
      "text/html": [
       "<div id=\"db98fcea-f7ef-4d72-be7e-0f60e8b08e6c\" style=\"height: 1000px; width: 1000px;\" class=\"plotly-graph-div\"></div><script type=\"text/javascript\">require([\"plotly\"], function(Plotly) { window.PLOTLYENV=window.PLOTLYENV || {};window.PLOTLYENV.BASE_URL=\"https://plot.ly\";Plotly.newPlot(\"db98fcea-f7ef-4d72-be7e-0f60e8b08e6c\", [{\"marker\": {\"color\": \"rgb(158,202,225)\", \"line\": {\"color\": \"rgb(8,48,107)\", \"width\": 1.5}}, \"opacity\": 0.6, \"orientation\": \"h\", \"text\": [0.36, 0.12, 0.08, 0.06, 0.04, 0.04, 0.04, 0.04, 0.04, 0.04, 0.04, 0.02, 0.02, 0.02, 0.02, 0.02, 0.0, 0.0, 0.0, 0.0, 0.0, 0.0], \"textposition\": \"outside\", \"x\": [0.36, 0.12, 0.08, 0.06, 0.04, 0.04, 0.04, 0.04, 0.04, 0.04, 0.04, 0.02, 0.02, 0.02, 0.02, 0.02, 0.0, 0.0, 0.0, 0.0, 0.0, 0.0], \"y\": [\"http_header_content-length\", \"http_header_content-encoding_gzip\", \"http_header_transfer-encoding_chunked\", \"http_header_cache-control_set_no-store\", \"http_header_cache-control_set_max-age\", \"http_header_via_1.1\", \"http_header_vary_accept\", \"http_header_strict-transport-security_max-age\", \"http_header_pragmano-cache\", \"http_header_expect-ctmax-age\", \"http_header_connection_keep-alive\", \"http_header_server_apache\", \"http_header_server_nginx\", \"http_header_cache-control_set_public\", \"http_header_cache-control_set_private\", \"http_header_x-cintent-type-options_nosniff\", \"http_header_content-language_text/html\", \"http_header_cache-control_set_must-revalidate\", \"http_header_connection_close\", \"http_header_vary_age\", \"http_header_cache-control_set_no-cache\", \"http_header_x-xss-enabled\"], \"type\": \"bar\", \"uid\": \"aa2b10f2-68d7-4124-8bec-07045cd98b2a\"}], {\"autosize\": false, \"height\": 1000, \"width\": 1000, \"xaxis\": {\"tickfont\": {\"color\": \"black\", \"size\": 12}, \"title\": \"Feature Importances\"}, \"yaxis\": {\"automargin\": true}}, {\"showLink\": true, \"linkText\": \"Export to plot.ly\", \"plotlyServerURL\": \"https://plot.ly\"})});</script>"
      ],
      "text/vnd.plotly.v1+html": [
       "<div id=\"db98fcea-f7ef-4d72-be7e-0f60e8b08e6c\" style=\"height: 1000px; width: 1000px;\" class=\"plotly-graph-div\"></div><script type=\"text/javascript\">require([\"plotly\"], function(Plotly) { window.PLOTLYENV=window.PLOTLYENV || {};window.PLOTLYENV.BASE_URL=\"https://plot.ly\";Plotly.newPlot(\"db98fcea-f7ef-4d72-be7e-0f60e8b08e6c\", [{\"marker\": {\"color\": \"rgb(158,202,225)\", \"line\": {\"color\": \"rgb(8,48,107)\", \"width\": 1.5}}, \"opacity\": 0.6, \"orientation\": \"h\", \"text\": [0.36, 0.12, 0.08, 0.06, 0.04, 0.04, 0.04, 0.04, 0.04, 0.04, 0.04, 0.02, 0.02, 0.02, 0.02, 0.02, 0.0, 0.0, 0.0, 0.0, 0.0, 0.0], \"textposition\": \"outside\", \"x\": [0.36, 0.12, 0.08, 0.06, 0.04, 0.04, 0.04, 0.04, 0.04, 0.04, 0.04, 0.02, 0.02, 0.02, 0.02, 0.02, 0.0, 0.0, 0.0, 0.0, 0.0, 0.0], \"y\": [\"http_header_content-length\", \"http_header_content-encoding_gzip\", \"http_header_transfer-encoding_chunked\", \"http_header_cache-control_set_no-store\", \"http_header_cache-control_set_max-age\", \"http_header_via_1.1\", \"http_header_vary_accept\", \"http_header_strict-transport-security_max-age\", \"http_header_pragmano-cache\", \"http_header_expect-ctmax-age\", \"http_header_connection_keep-alive\", \"http_header_server_apache\", \"http_header_server_nginx\", \"http_header_cache-control_set_public\", \"http_header_cache-control_set_private\", \"http_header_x-cintent-type-options_nosniff\", \"http_header_content-language_text/html\", \"http_header_cache-control_set_must-revalidate\", \"http_header_connection_close\", \"http_header_vary_age\", \"http_header_cache-control_set_no-cache\", \"http_header_x-xss-enabled\"], \"type\": \"bar\", \"uid\": \"aa2b10f2-68d7-4124-8bec-07045cd98b2a\"}], {\"autosize\": false, \"height\": 1000, \"width\": 1000, \"xaxis\": {\"tickfont\": {\"color\": \"black\", \"size\": 12}, \"title\": \"Feature Importances\"}, \"yaxis\": {\"automargin\": true}}, {\"showLink\": true, \"linkText\": \"Export to plot.ly\", \"plotlyServerURL\": \"https://plot.ly\"})});</script>"
      ]
     },
     "metadata": {},
     "output_type": "display_data"
    },
    {
     "name": "stdout",
     "output_type": "stream",
     "text": [
      "\n",
      "\n",
      "\u001b[1mGradientBoosting Classifier\u001b[0m\n",
      "Accuracy of the model for training data is: 0.8951398852223816\n",
      "Confusion Matrix for training data is:\n"
     ]
    },
    {
     "data": {
      "text/plain": [
       "Predicted  False   True  __all__\n",
       "Actual                          \n",
       "False      24400   3480    27880\n",
       "True        2367  25513    27880\n",
       "__all__    26767  28993    55760"
      ]
     },
     "metadata": {},
     "output_type": "display_data"
    },
    {
     "name": "stdout",
     "output_type": "stream",
     "text": [
      "Accuracy of the model for test data is: 0.8801977318988078\n",
      "Confusion Matrix for test data is:\n"
     ]
    },
    {
     "data": {
      "text/plain": [
       "Predicted  False  True  __all__\n",
       "Actual                         \n",
       "False      10493  1462    11955\n",
       "True         186  1615     1801\n",
       "__all__    10679  3077    13756"
      ]
     },
     "metadata": {},
     "output_type": "display_data"
    },
    {
     "data": {
      "application/vnd.plotly.v1+json": {
       "config": {
        "linkText": "Export to plot.ly",
        "plotlyServerURL": "https://plot.ly",
        "showLink": true
       },
       "data": [
        {
         "marker": {
          "color": "rgb(158,202,225)",
          "line": {
           "color": "rgb(8,48,107)",
           "width": 1.5
          }
         },
         "opacity": 0.6,
         "orientation": "h",
         "text": [
          0.5709,
          0.1905,
          0.075,
          0.0308,
          0.0265,
          0.0132,
          0.0113,
          0.0105,
          0.0089,
          0.0084,
          0.0082,
          0.0081,
          0.0079,
          0.006,
          0.0057,
          0.0054,
          0.0033,
          0.0032,
          0.0024,
          0.0021,
          0.0011,
          0.0007
         ],
         "textposition": "outside",
         "type": "bar",
         "uid": "21e6c502-9ae8-4d75-b46e-ee6b56a2ac5a",
         "x": [
          0.5709454390487765,
          0.19050044999493157,
          0.07500477992878313,
          0.030773354311034156,
          0.026480712405665095,
          0.013198984495177354,
          0.011330014502625486,
          0.010515698308200714,
          0.008871951377119637,
          0.008391906418416592,
          0.008172552331491816,
          0.008109741848409088,
          0.007885828659664794,
          0.005996840668888489,
          0.005684949992794073,
          0.005412117588065977,
          0.003284976799280963,
          0.0031602650285183008,
          0.0024180062170262684,
          0.002122305448466264,
          0.0010881787621567663,
          0.0006509458645069217
         ],
         "y": [
          "http_header_content-encoding_gzip",
          "http_header_content-length",
          "http_header_transfer-encoding_chunked",
          "http_header_cache-control_set_max-age",
          "http_header_server_apache",
          "http_header_vary_accept",
          "http_header_cache-control_set_must-revalidate",
          "http_header_via_1.1",
          "http_header_connection_close",
          "http_header_server_nginx",
          "http_header_strict-transport-security_max-age",
          "http_header_pragmano-cache",
          "http_header_vary_age",
          "http_header_cache-control_set_private",
          "http_header_cache-control_set_no-store",
          "http_header_connection_keep-alive",
          "http_header_content-language_text/html",
          "http_header_expect-ctmax-age",
          "http_header_x-xss-enabled",
          "http_header_x-cintent-type-options_nosniff",
          "http_header_cache-control_set_no-cache",
          "http_header_cache-control_set_public"
         ]
        }
       ],
       "layout": {
        "autosize": false,
        "height": 1000,
        "width": 1000,
        "xaxis": {
         "tickfont": {
          "color": "black",
          "size": 12
         },
         "title": "Feature Importances"
        },
        "yaxis": {
         "automargin": true
        }
       }
      },
      "text/html": [
       "<div id=\"8dd81e64-9456-4089-9297-4b3249b459ba\" style=\"height: 1000px; width: 1000px;\" class=\"plotly-graph-div\"></div><script type=\"text/javascript\">require([\"plotly\"], function(Plotly) { window.PLOTLYENV=window.PLOTLYENV || {};window.PLOTLYENV.BASE_URL=\"https://plot.ly\";Plotly.newPlot(\"8dd81e64-9456-4089-9297-4b3249b459ba\", [{\"marker\": {\"color\": \"rgb(158,202,225)\", \"line\": {\"color\": \"rgb(8,48,107)\", \"width\": 1.5}}, \"opacity\": 0.6, \"orientation\": \"h\", \"text\": [0.5709, 0.1905, 0.075, 0.0308, 0.0265, 0.0132, 0.0113, 0.0105, 0.0089, 0.0084, 0.0082, 0.0081, 0.0079, 0.006, 0.0057, 0.0054, 0.0033, 0.0032, 0.0024, 0.0021, 0.0011, 0.0007], \"textposition\": \"outside\", \"x\": [0.5709454390487765, 0.19050044999493157, 0.07500477992878313, 0.030773354311034156, 0.026480712405665095, 0.013198984495177354, 0.011330014502625486, 0.010515698308200714, 0.008871951377119637, 0.008391906418416592, 0.008172552331491816, 0.008109741848409088, 0.007885828659664794, 0.005996840668888489, 0.005684949992794073, 0.005412117588065977, 0.003284976799280963, 0.0031602650285183008, 0.0024180062170262684, 0.002122305448466264, 0.0010881787621567663, 0.0006509458645069217], \"y\": [\"http_header_content-encoding_gzip\", \"http_header_content-length\", \"http_header_transfer-encoding_chunked\", \"http_header_cache-control_set_max-age\", \"http_header_server_apache\", \"http_header_vary_accept\", \"http_header_cache-control_set_must-revalidate\", \"http_header_via_1.1\", \"http_header_connection_close\", \"http_header_server_nginx\", \"http_header_strict-transport-security_max-age\", \"http_header_pragmano-cache\", \"http_header_vary_age\", \"http_header_cache-control_set_private\", \"http_header_cache-control_set_no-store\", \"http_header_connection_keep-alive\", \"http_header_content-language_text/html\", \"http_header_expect-ctmax-age\", \"http_header_x-xss-enabled\", \"http_header_x-cintent-type-options_nosniff\", \"http_header_cache-control_set_no-cache\", \"http_header_cache-control_set_public\"], \"type\": \"bar\", \"uid\": \"21e6c502-9ae8-4d75-b46e-ee6b56a2ac5a\"}], {\"autosize\": false, \"height\": 1000, \"width\": 1000, \"xaxis\": {\"tickfont\": {\"color\": \"black\", \"size\": 12}, \"title\": \"Feature Importances\"}, \"yaxis\": {\"automargin\": true}}, {\"showLink\": true, \"linkText\": \"Export to plot.ly\", \"plotlyServerURL\": \"https://plot.ly\"})});</script>"
      ],
      "text/vnd.plotly.v1+html": [
       "<div id=\"8dd81e64-9456-4089-9297-4b3249b459ba\" style=\"height: 1000px; width: 1000px;\" class=\"plotly-graph-div\"></div><script type=\"text/javascript\">require([\"plotly\"], function(Plotly) { window.PLOTLYENV=window.PLOTLYENV || {};window.PLOTLYENV.BASE_URL=\"https://plot.ly\";Plotly.newPlot(\"8dd81e64-9456-4089-9297-4b3249b459ba\", [{\"marker\": {\"color\": \"rgb(158,202,225)\", \"line\": {\"color\": \"rgb(8,48,107)\", \"width\": 1.5}}, \"opacity\": 0.6, \"orientation\": \"h\", \"text\": [0.5709, 0.1905, 0.075, 0.0308, 0.0265, 0.0132, 0.0113, 0.0105, 0.0089, 0.0084, 0.0082, 0.0081, 0.0079, 0.006, 0.0057, 0.0054, 0.0033, 0.0032, 0.0024, 0.0021, 0.0011, 0.0007], \"textposition\": \"outside\", \"x\": [0.5709454390487765, 0.19050044999493157, 0.07500477992878313, 0.030773354311034156, 0.026480712405665095, 0.013198984495177354, 0.011330014502625486, 0.010515698308200714, 0.008871951377119637, 0.008391906418416592, 0.008172552331491816, 0.008109741848409088, 0.007885828659664794, 0.005996840668888489, 0.005684949992794073, 0.005412117588065977, 0.003284976799280963, 0.0031602650285183008, 0.0024180062170262684, 0.002122305448466264, 0.0010881787621567663, 0.0006509458645069217], \"y\": [\"http_header_content-encoding_gzip\", \"http_header_content-length\", \"http_header_transfer-encoding_chunked\", \"http_header_cache-control_set_max-age\", \"http_header_server_apache\", \"http_header_vary_accept\", \"http_header_cache-control_set_must-revalidate\", \"http_header_via_1.1\", \"http_header_connection_close\", \"http_header_server_nginx\", \"http_header_strict-transport-security_max-age\", \"http_header_pragmano-cache\", \"http_header_vary_age\", \"http_header_cache-control_set_private\", \"http_header_cache-control_set_no-store\", \"http_header_connection_keep-alive\", \"http_header_content-language_text/html\", \"http_header_expect-ctmax-age\", \"http_header_x-xss-enabled\", \"http_header_x-cintent-type-options_nosniff\", \"http_header_cache-control_set_no-cache\", \"http_header_cache-control_set_public\"], \"type\": \"bar\", \"uid\": \"21e6c502-9ae8-4d75-b46e-ee6b56a2ac5a\"}], {\"autosize\": false, \"height\": 1000, \"width\": 1000, \"xaxis\": {\"tickfont\": {\"color\": \"black\", \"size\": 12}, \"title\": \"Feature Importances\"}, \"yaxis\": {\"automargin\": true}}, {\"showLink\": true, \"linkText\": \"Export to plot.ly\", \"plotlyServerURL\": \"https://plot.ly\"})});</script>"
      ]
     },
     "metadata": {},
     "output_type": "display_data"
    },
    {
     "name": "stdout",
     "output_type": "stream",
     "text": [
      "\n",
      "\n",
      "\u001b[1mExtraTree Classifier\u001b[0m\n",
      "Accuracy of the model for training data is: 0.9352941176470588\n",
      "Confusion Matrix for training data is:\n"
     ]
    },
    {
     "data": {
      "text/plain": [
       "Predicted  False   True  __all__\n",
       "Actual                          \n",
       "False      25002   2878    27880\n",
       "True         730  27150    27880\n",
       "__all__    25732  30028    55760"
      ]
     },
     "metadata": {},
     "output_type": "display_data"
    },
    {
     "name": "stdout",
     "output_type": "stream",
     "text": [
      "Accuracy of the model for test data is: 0.8846321605117767\n",
      "Confusion Matrix for test data is:\n"
     ]
    },
    {
     "data": {
      "text/plain": [
       "Predicted  False  True  __all__\n",
       "Actual                         \n",
       "False      10516  1439    11955\n",
       "True         148  1653     1801\n",
       "__all__    10664  3092    13756"
      ]
     },
     "metadata": {},
     "output_type": "display_data"
    },
    {
     "data": {
      "application/vnd.plotly.v1+json": {
       "config": {
        "linkText": "Export to plot.ly",
        "plotlyServerURL": "https://plot.ly",
        "showLink": true
       },
       "data": [
        {
         "marker": {
          "color": "rgb(158,202,225)",
          "line": {
           "color": "rgb(8,48,107)",
           "width": 1.5
          }
         },
         "opacity": 0.6,
         "orientation": "h",
         "text": [
          0.2402,
          0.1225,
          0.1189,
          0.076,
          0.0671,
          0.0628,
          0.0618,
          0.0465,
          0.0248,
          0.0214,
          0.0212,
          0.0194,
          0.0193,
          0.0179,
          0.0163,
          0.0135,
          0.012,
          0.0117,
          0.0087,
          0.0086,
          0.0058,
          0.0036
         ],
         "textposition": "outside",
         "type": "bar",
         "uid": "4e1ac262-968f-4ca6-964b-81d74dbd7251",
         "x": [
          0.24024686290405559,
          0.1224749882593016,
          0.11891130594869635,
          0.07599026434701726,
          0.06710694652430768,
          0.06278487087103196,
          0.06183974629596501,
          0.04649356340799645,
          0.024813077321252063,
          0.021375962834077063,
          0.021216758402265043,
          0.019394384550864216,
          0.019324009923840795,
          0.017856363967185637,
          0.01628871106706968,
          0.013507784576395317,
          0.012027041344648397,
          0.011716979742588056,
          0.008665216680537234,
          0.008587877142671445,
          0.005806147154279557,
          0.0035711367339537076
         ],
         "y": [
          "http_header_content-encoding_gzip",
          "http_header_content-length",
          "http_header_content-language_text/html",
          "http_header_cache-control_set_max-age",
          "http_header_transfer-encoding_chunked",
          "http_header_server_apache",
          "http_header_connection_keep-alive",
          "http_header_vary_accept",
          "http_header_pragmano-cache",
          "http_header_cache-control_set_private",
          "http_header_server_nginx",
          "http_header_cache-control_set_no-store",
          "http_header_vary_age",
          "http_header_cache-control_set_no-cache",
          "http_header_cache-control_set_must-revalidate",
          "http_header_via_1.1",
          "http_header_connection_close",
          "http_header_strict-transport-security_max-age",
          "http_header_expect-ctmax-age",
          "http_header_x-xss-enabled",
          "http_header_x-cintent-type-options_nosniff",
          "http_header_cache-control_set_public"
         ]
        }
       ],
       "layout": {
        "autosize": false,
        "height": 1000,
        "width": 1000,
        "xaxis": {
         "tickfont": {
          "color": "black",
          "size": 12
         },
         "title": "Feature Importances"
        },
        "yaxis": {
         "automargin": true
        }
       }
      },
      "text/html": [
       "<div id=\"c74113fb-79d9-45e4-aaff-6c7adf9a173f\" style=\"height: 1000px; width: 1000px;\" class=\"plotly-graph-div\"></div><script type=\"text/javascript\">require([\"plotly\"], function(Plotly) { window.PLOTLYENV=window.PLOTLYENV || {};window.PLOTLYENV.BASE_URL=\"https://plot.ly\";Plotly.newPlot(\"c74113fb-79d9-45e4-aaff-6c7adf9a173f\", [{\"marker\": {\"color\": \"rgb(158,202,225)\", \"line\": {\"color\": \"rgb(8,48,107)\", \"width\": 1.5}}, \"opacity\": 0.6, \"orientation\": \"h\", \"text\": [0.2402, 0.1225, 0.1189, 0.076, 0.0671, 0.0628, 0.0618, 0.0465, 0.0248, 0.0214, 0.0212, 0.0194, 0.0193, 0.0179, 0.0163, 0.0135, 0.012, 0.0117, 0.0087, 0.0086, 0.0058, 0.0036], \"textposition\": \"outside\", \"x\": [0.24024686290405559, 0.1224749882593016, 0.11891130594869635, 0.07599026434701726, 0.06710694652430768, 0.06278487087103196, 0.06183974629596501, 0.04649356340799645, 0.024813077321252063, 0.021375962834077063, 0.021216758402265043, 0.019394384550864216, 0.019324009923840795, 0.017856363967185637, 0.01628871106706968, 0.013507784576395317, 0.012027041344648397, 0.011716979742588056, 0.008665216680537234, 0.008587877142671445, 0.005806147154279557, 0.0035711367339537076], \"y\": [\"http_header_content-encoding_gzip\", \"http_header_content-length\", \"http_header_content-language_text/html\", \"http_header_cache-control_set_max-age\", \"http_header_transfer-encoding_chunked\", \"http_header_server_apache\", \"http_header_connection_keep-alive\", \"http_header_vary_accept\", \"http_header_pragmano-cache\", \"http_header_cache-control_set_private\", \"http_header_server_nginx\", \"http_header_cache-control_set_no-store\", \"http_header_vary_age\", \"http_header_cache-control_set_no-cache\", \"http_header_cache-control_set_must-revalidate\", \"http_header_via_1.1\", \"http_header_connection_close\", \"http_header_strict-transport-security_max-age\", \"http_header_expect-ctmax-age\", \"http_header_x-xss-enabled\", \"http_header_x-cintent-type-options_nosniff\", \"http_header_cache-control_set_public\"], \"type\": \"bar\", \"uid\": \"4e1ac262-968f-4ca6-964b-81d74dbd7251\"}], {\"autosize\": false, \"height\": 1000, \"width\": 1000, \"xaxis\": {\"tickfont\": {\"color\": \"black\", \"size\": 12}, \"title\": \"Feature Importances\"}, \"yaxis\": {\"automargin\": true}}, {\"showLink\": true, \"linkText\": \"Export to plot.ly\", \"plotlyServerURL\": \"https://plot.ly\"})});</script>"
      ],
      "text/vnd.plotly.v1+html": [
       "<div id=\"c74113fb-79d9-45e4-aaff-6c7adf9a173f\" style=\"height: 1000px; width: 1000px;\" class=\"plotly-graph-div\"></div><script type=\"text/javascript\">require([\"plotly\"], function(Plotly) { window.PLOTLYENV=window.PLOTLYENV || {};window.PLOTLYENV.BASE_URL=\"https://plot.ly\";Plotly.newPlot(\"c74113fb-79d9-45e4-aaff-6c7adf9a173f\", [{\"marker\": {\"color\": \"rgb(158,202,225)\", \"line\": {\"color\": \"rgb(8,48,107)\", \"width\": 1.5}}, \"opacity\": 0.6, \"orientation\": \"h\", \"text\": [0.2402, 0.1225, 0.1189, 0.076, 0.0671, 0.0628, 0.0618, 0.0465, 0.0248, 0.0214, 0.0212, 0.0194, 0.0193, 0.0179, 0.0163, 0.0135, 0.012, 0.0117, 0.0087, 0.0086, 0.0058, 0.0036], \"textposition\": \"outside\", \"x\": [0.24024686290405559, 0.1224749882593016, 0.11891130594869635, 0.07599026434701726, 0.06710694652430768, 0.06278487087103196, 0.06183974629596501, 0.04649356340799645, 0.024813077321252063, 0.021375962834077063, 0.021216758402265043, 0.019394384550864216, 0.019324009923840795, 0.017856363967185637, 0.01628871106706968, 0.013507784576395317, 0.012027041344648397, 0.011716979742588056, 0.008665216680537234, 0.008587877142671445, 0.005806147154279557, 0.0035711367339537076], \"y\": [\"http_header_content-encoding_gzip\", \"http_header_content-length\", \"http_header_content-language_text/html\", \"http_header_cache-control_set_max-age\", \"http_header_transfer-encoding_chunked\", \"http_header_server_apache\", \"http_header_connection_keep-alive\", \"http_header_vary_accept\", \"http_header_pragmano-cache\", \"http_header_cache-control_set_private\", \"http_header_server_nginx\", \"http_header_cache-control_set_no-store\", \"http_header_vary_age\", \"http_header_cache-control_set_no-cache\", \"http_header_cache-control_set_must-revalidate\", \"http_header_via_1.1\", \"http_header_connection_close\", \"http_header_strict-transport-security_max-age\", \"http_header_expect-ctmax-age\", \"http_header_x-xss-enabled\", \"http_header_x-cintent-type-options_nosniff\", \"http_header_cache-control_set_public\"], \"type\": \"bar\", \"uid\": \"4e1ac262-968f-4ca6-964b-81d74dbd7251\"}], {\"autosize\": false, \"height\": 1000, \"width\": 1000, \"xaxis\": {\"tickfont\": {\"color\": \"black\", \"size\": 12}, \"title\": \"Feature Importances\"}, \"yaxis\": {\"automargin\": true}}, {\"showLink\": true, \"linkText\": \"Export to plot.ly\", \"plotlyServerURL\": \"https://plot.ly\"})});</script>"
      ]
     },
     "metadata": {},
     "output_type": "display_data"
    },
    {
     "name": "stdout",
     "output_type": "stream",
     "text": [
      "\n",
      "\n",
      "\u001b[1mBagging Classifier\u001b[0m\n",
      "Accuracy of the model for training data is: 0.9329088952654232\n",
      "Confusion Matrix for training data is:\n"
     ]
    },
    {
     "data": {
      "text/plain": [
       "Predicted  False   True  __all__\n",
       "Actual                          \n",
       "False      24962   2918    27880\n",
       "True         823  27057    27880\n",
       "__all__    25785  29975    55760"
      ]
     },
     "metadata": {},
     "output_type": "display_data"
    },
    {
     "name": "stdout",
     "output_type": "stream",
     "text": [
      "Accuracy of the model for test data is: 0.8854318115731318\n",
      "Confusion Matrix for test data is:\n"
     ]
    },
    {
     "data": {
      "text/plain": [
       "Predicted  False  True  __all__\n",
       "Actual                         \n",
       "False      10518  1437    11955\n",
       "True         139  1662     1801\n",
       "__all__    10657  3099    13756"
      ]
     },
     "metadata": {},
     "output_type": "display_data"
    },
    {
     "name": "stdout",
     "output_type": "stream",
     "text": [
      "\n",
      "\n",
      "\u001b[1mNeural Network-1\u001b[0m\n",
      "The accuracy of the model on training data is: 0.9097560975609756\n"
     ]
    },
    {
     "data": {
      "text/plain": [
       "Predicted  False   True  __all__\n",
       "Actual                          \n",
       "False      24013   3867    27880\n",
       "True        1165  26715    27880\n",
       "__all__    25178  30582    55760"
      ]
     },
     "metadata": {},
     "output_type": "display_data"
    },
    {
     "name": "stdout",
     "output_type": "stream",
     "text": [
      "The accuracy of the model on test data is: 0.8711107880197732\n"
     ]
    },
    {
     "data": {
      "text/plain": [
       "Predicted  False  True  __all__\n",
       "Actual                         \n",
       "False      10317  1638    11955\n",
       "True         135  1666     1801\n",
       "__all__    10452  3304    13756"
      ]
     },
     "metadata": {},
     "output_type": "display_data"
    },
    {
     "name": "stdout",
     "output_type": "stream",
     "text": [
      "\n",
      "\n"
     ]
    }
   ],
   "source": [
    "feat_imp=[None]*4\n",
    "j=0\n",
    "for i in range(0,8):\n",
    "    if i>=2 and i<=5:\n",
    "        model,cm_train,cm_test,acc_train,acc_test,roc_auc,feat_imp[j],mcc=f[i](X_train,Y_train,scaled_X_test,test_Y,columns[:-2])\n",
    "        j=j+1\n",
    "    else:\n",
    "        model,cm_train,cm_test,acc_train,acc_test,roc_auc,mcc=f[i](X_train,Y_train,scaled_X_test,test_Y)\n",
    "    table_80_80_train.loc[i]=   ([acc_train,cm_train.TP,cm_train.TN,cm_train.FP,cm_train.FN,cm_train.FPR,cm_train.FNR])\n",
    "    table_80_80_test.loc[i] =   ([acc_test ,cm_test.TP, cm_test.TN, cm_test.FP, cm_test.FN, cm_test.FPR, cm_test.FNR,roc_auc,mcc])\n",
    "    print(\"\\n\")"
   ]
  },
  {
   "cell_type": "markdown",
   "metadata": {},
   "source": [
    "### <a id='2.A' style=\"text-decoration : none; color : #000000;\"> A Results</a>"
   ]
  },
  {
   "cell_type": "code",
   "execution_count": 31,
   "metadata": {},
   "outputs": [
    {
     "data": {
      "application/vnd.plotly.v1+json": {
       "config": {
        "linkText": "Export to plot.ly",
        "plotlyServerURL": "https://plot.ly",
        "showLink": true
       },
       "data": [
        {
         "mode": "lines",
         "name": "KNN_model",
         "type": "scatter",
         "uid": "d932f87d-7f1e-4e3b-a6ed-65edef4d3280",
         "x": [
          "accuracy",
          "FPR",
          "FNR",
          "auc"
         ],
         "y": [
          0.8969177086362314,
          0.09953994144709327,
          0.1265963353692393,
          0.8869318615918338
         ]
        },
        {
         "mode": "lines+markers",
         "name": "Logistic Regression",
         "type": "scatter",
         "uid": "d8f4ac5f-f23b-4b08-adcf-9bc1dc6c2b50",
         "x": [
          "accuracy",
          "FPR",
          "FNR",
          "auc"
         ],
         "y": [
          0.8423960453620238,
          0.16595566708490173,
          0.10216546363131594,
          0.8659394346418913
         ]
        },
        {
         "marker": {
          "symbol": "x"
         },
         "mode": "lines+markers",
         "name": "Random Forest",
         "type": "scatter",
         "uid": "6e34c097-5083-469a-bdf7-a0ccc99665c4",
         "x": [
          "accuracy",
          "FPR",
          "FNR",
          "auc"
         ],
         "y": [
          0.88601337598139,
          0.11902969468841489,
          0.08051082731815658,
          0.9002297389967143
         ]
        },
        {
         "mode": "lines",
         "name": "Ada Boost",
         "type": "scatter",
         "uid": "fca14ffc-695a-4e03-bfb9-bd9710e8e2c7",
         "x": [
          "accuracy",
          "FPR",
          "FNR",
          "auc"
         ],
         "y": [
          0.8507560337307357,
          0.1550815558343789,
          0.110494169905608,
          0.8672121371300067
         ]
        },
        {
         "mode": "lines+markers",
         "name": "GradientBoosting",
         "type": "scatter",
         "uid": "abe1a3bd-54b2-47f4-b4f7-92fc71d30727",
         "x": [
          "accuracy",
          "FPR",
          "FNR",
          "auc"
         ],
         "y": [
          0.8801977318988078,
          0.12229192806357173,
          0.10327595780122155,
          0.8872160570676034
         ]
        },
        {
         "marker": {
          "symbol": "x"
         },
         "mode": "lines+markers",
         "name": "ExtraTree Classifier",
         "type": "scatter",
         "uid": "9e6b5df4-9dda-4174-95a8-5e9de88468f2",
         "x": [
          "accuracy",
          "FPR",
          "FNR",
          "auc"
         ],
         "y": [
          0.8846321605117767,
          0.12036804684232538,
          0.08217656857301499,
          0.8987276922923297
         ]
        },
        {
         "marker": {
          "symbol": "x"
         },
         "mode": "lines+markers",
         "name": "Bagging",
         "type": "scatter",
         "uid": "5cc24866-797c-45e7-9e9f-716b8d47c49a",
         "x": [
          "accuracy",
          "FPR",
          "FNR",
          "auc"
         ],
         "y": [
          0.8854318115731318,
          0.12020075282308658,
          0.07717934480843976,
          0.9013099511842368
         ]
        },
        {
         "marker": {
          "symbol": "x"
         },
         "mode": "lines+markers",
         "name": "Neural Network",
         "type": "scatter",
         "uid": "c903de80-5856-46c0-a1a2-88fe72b21ed6",
         "x": [
          "accuracy",
          "FPR",
          "FNR",
          "auc"
         ],
         "y": [
          0.8711107880197732,
          0.1370138017565872,
          0.07495835646862854,
          0.9013099511842368
         ]
        }
       ],
       "layout": {
        "title": "Result comparision for Features selected in Section 1",
        "yaxis": {
         "dtick": 0.05,
         "tick0": 0
        }
       }
      },
      "text/html": [
       "<div id=\"6fcf1fec-5409-487e-8c9d-8271a347625e\" style=\"height: 525px; width: 100%;\" class=\"plotly-graph-div\"></div><script type=\"text/javascript\">require([\"plotly\"], function(Plotly) { window.PLOTLYENV=window.PLOTLYENV || {};window.PLOTLYENV.BASE_URL=\"https://plot.ly\";Plotly.newPlot(\"6fcf1fec-5409-487e-8c9d-8271a347625e\", [{\"mode\": \"lines\", \"name\": \"KNN_model\", \"x\": [\"accuracy\", \"FPR\", \"FNR\", \"auc\"], \"y\": [0.8969177086362314, 0.09953994144709327, 0.1265963353692393, 0.8869318615918338], \"type\": \"scatter\", \"uid\": \"d932f87d-7f1e-4e3b-a6ed-65edef4d3280\"}, {\"mode\": \"lines+markers\", \"name\": \"Logistic Regression\", \"x\": [\"accuracy\", \"FPR\", \"FNR\", \"auc\"], \"y\": [0.8423960453620238, 0.16595566708490173, 0.10216546363131594, 0.8659394346418913], \"type\": \"scatter\", \"uid\": \"d8f4ac5f-f23b-4b08-adcf-9bc1dc6c2b50\"}, {\"marker\": {\"symbol\": \"x\"}, \"mode\": \"lines+markers\", \"name\": \"Random Forest\", \"x\": [\"accuracy\", \"FPR\", \"FNR\", \"auc\"], \"y\": [0.88601337598139, 0.11902969468841489, 0.08051082731815658, 0.9002297389967143], \"type\": \"scatter\", \"uid\": \"6e34c097-5083-469a-bdf7-a0ccc99665c4\"}, {\"mode\": \"lines\", \"name\": \"Ada Boost\", \"x\": [\"accuracy\", \"FPR\", \"FNR\", \"auc\"], \"y\": [0.8507560337307357, 0.1550815558343789, 0.110494169905608, 0.8672121371300067], \"type\": \"scatter\", \"uid\": \"fca14ffc-695a-4e03-bfb9-bd9710e8e2c7\"}, {\"mode\": \"lines+markers\", \"name\": \"GradientBoosting\", \"x\": [\"accuracy\", \"FPR\", \"FNR\", \"auc\"], \"y\": [0.8801977318988078, 0.12229192806357173, 0.10327595780122155, 0.8872160570676034], \"type\": \"scatter\", \"uid\": \"abe1a3bd-54b2-47f4-b4f7-92fc71d30727\"}, {\"marker\": {\"symbol\": \"x\"}, \"mode\": \"lines+markers\", \"name\": \"ExtraTree Classifier\", \"x\": [\"accuracy\", \"FPR\", \"FNR\", \"auc\"], \"y\": [0.8846321605117767, 0.12036804684232538, 0.08217656857301499, 0.8987276922923297], \"type\": \"scatter\", \"uid\": \"9e6b5df4-9dda-4174-95a8-5e9de88468f2\"}, {\"marker\": {\"symbol\": \"x\"}, \"mode\": \"lines+markers\", \"name\": \"Bagging\", \"x\": [\"accuracy\", \"FPR\", \"FNR\", \"auc\"], \"y\": [0.8854318115731318, 0.12020075282308658, 0.07717934480843976, 0.9013099511842368], \"type\": \"scatter\", \"uid\": \"5cc24866-797c-45e7-9e9f-716b8d47c49a\"}, {\"marker\": {\"symbol\": \"x\"}, \"mode\": \"lines+markers\", \"name\": \"Neural Network\", \"x\": [\"accuracy\", \"FPR\", \"FNR\", \"auc\"], \"y\": [0.8711107880197732, 0.1370138017565872, 0.07495835646862854, 0.9013099511842368], \"type\": \"scatter\", \"uid\": \"c903de80-5856-46c0-a1a2-88fe72b21ed6\"}], {\"title\": \"Result comparision for Features selected in Section 1\", \"yaxis\": {\"dtick\": 0.05, \"tick0\": 0}}, {\"showLink\": true, \"linkText\": \"Export to plot.ly\", \"plotlyServerURL\": \"https://plot.ly\"})});</script><script type=\"text/javascript\">window.addEventListener(\"resize\", function(){window._Plotly.Plots.resize(document.getElementById(\"6fcf1fec-5409-487e-8c9d-8271a347625e\"));});</script>"
      ],
      "text/vnd.plotly.v1+html": [
       "<div id=\"6fcf1fec-5409-487e-8c9d-8271a347625e\" style=\"height: 525px; width: 100%;\" class=\"plotly-graph-div\"></div><script type=\"text/javascript\">require([\"plotly\"], function(Plotly) { window.PLOTLYENV=window.PLOTLYENV || {};window.PLOTLYENV.BASE_URL=\"https://plot.ly\";Plotly.newPlot(\"6fcf1fec-5409-487e-8c9d-8271a347625e\", [{\"mode\": \"lines\", \"name\": \"KNN_model\", \"x\": [\"accuracy\", \"FPR\", \"FNR\", \"auc\"], \"y\": [0.8969177086362314, 0.09953994144709327, 0.1265963353692393, 0.8869318615918338], \"type\": \"scatter\", \"uid\": \"d932f87d-7f1e-4e3b-a6ed-65edef4d3280\"}, {\"mode\": \"lines+markers\", \"name\": \"Logistic Regression\", \"x\": [\"accuracy\", \"FPR\", \"FNR\", \"auc\"], \"y\": [0.8423960453620238, 0.16595566708490173, 0.10216546363131594, 0.8659394346418913], \"type\": \"scatter\", \"uid\": \"d8f4ac5f-f23b-4b08-adcf-9bc1dc6c2b50\"}, {\"marker\": {\"symbol\": \"x\"}, \"mode\": \"lines+markers\", \"name\": \"Random Forest\", \"x\": [\"accuracy\", \"FPR\", \"FNR\", \"auc\"], \"y\": [0.88601337598139, 0.11902969468841489, 0.08051082731815658, 0.9002297389967143], \"type\": \"scatter\", \"uid\": \"6e34c097-5083-469a-bdf7-a0ccc99665c4\"}, {\"mode\": \"lines\", \"name\": \"Ada Boost\", \"x\": [\"accuracy\", \"FPR\", \"FNR\", \"auc\"], \"y\": [0.8507560337307357, 0.1550815558343789, 0.110494169905608, 0.8672121371300067], \"type\": \"scatter\", \"uid\": \"fca14ffc-695a-4e03-bfb9-bd9710e8e2c7\"}, {\"mode\": \"lines+markers\", \"name\": \"GradientBoosting\", \"x\": [\"accuracy\", \"FPR\", \"FNR\", \"auc\"], \"y\": [0.8801977318988078, 0.12229192806357173, 0.10327595780122155, 0.8872160570676034], \"type\": \"scatter\", \"uid\": \"abe1a3bd-54b2-47f4-b4f7-92fc71d30727\"}, {\"marker\": {\"symbol\": \"x\"}, \"mode\": \"lines+markers\", \"name\": \"ExtraTree Classifier\", \"x\": [\"accuracy\", \"FPR\", \"FNR\", \"auc\"], \"y\": [0.8846321605117767, 0.12036804684232538, 0.08217656857301499, 0.8987276922923297], \"type\": \"scatter\", \"uid\": \"9e6b5df4-9dda-4174-95a8-5e9de88468f2\"}, {\"marker\": {\"symbol\": \"x\"}, \"mode\": \"lines+markers\", \"name\": \"Bagging\", \"x\": [\"accuracy\", \"FPR\", \"FNR\", \"auc\"], \"y\": [0.8854318115731318, 0.12020075282308658, 0.07717934480843976, 0.9013099511842368], \"type\": \"scatter\", \"uid\": \"5cc24866-797c-45e7-9e9f-716b8d47c49a\"}, {\"marker\": {\"symbol\": \"x\"}, \"mode\": \"lines+markers\", \"name\": \"Neural Network\", \"x\": [\"accuracy\", \"FPR\", \"FNR\", \"auc\"], \"y\": [0.8711107880197732, 0.1370138017565872, 0.07495835646862854, 0.9013099511842368], \"type\": \"scatter\", \"uid\": \"c903de80-5856-46c0-a1a2-88fe72b21ed6\"}], {\"title\": \"Result comparision for Features selected in Section 1\", \"yaxis\": {\"dtick\": 0.05, \"tick0\": 0}}, {\"showLink\": true, \"linkText\": \"Export to plot.ly\", \"plotlyServerURL\": \"https://plot.ly\"})});</script><script type=\"text/javascript\">window.addEventListener(\"resize\", function(){window._Plotly.Plots.resize(document.getElementById(\"6fcf1fec-5409-487e-8c9d-8271a347625e\"));});</script>"
      ]
     },
     "metadata": {},
     "output_type": "display_data"
    }
   ],
   "source": [
    "trace0 = go.Scatter(x=table_80_80_test.iloc[0].index.values[[0,5,6,7]],\n",
    "                    y=table_80_80_test.iloc[0].values[[0,5,6,7]],\n",
    "                    mode = 'lines',\n",
    "                    name = 'KNN_model')\n",
    "\n",
    "trace1 = go.Scatter(x=table_80_80_test.iloc[1].index.values[[0,5,6,7]],\n",
    "                    y=table_80_80_test.iloc[1].values[[0,5,6,7]],\n",
    "                    mode = 'lines+markers',\n",
    "                    name = 'Logistic Regression')\n",
    "\n",
    "trace2 = go.Scatter(x=table_80_80_test.iloc[2].index.values[[0,5,6,7]],\n",
    "                    y=table_80_80_test.iloc[2].values[[0,5,6,7]],\n",
    "                    mode = 'lines+markers',marker=dict(symbol='x'),\n",
    "                    name = 'Random Forest')\n",
    "\n",
    "\n",
    "trace3 = go.Scatter(x=table_80_80_test.iloc[3].index.values[[0,5,6,7]],\n",
    "                    y=table_80_80_test.iloc[3].values[[0,5,6,7]],\n",
    "                    mode = 'lines',\n",
    "                    name = 'Ada Boost')\n",
    "\n",
    "trace4 = go.Scatter(x=table_80_80_test.iloc[4].index.values[[0,5,6,7]],\n",
    "                    y=table_80_80_test.iloc[4].values[[0,5,6,7]],\n",
    "                    mode = 'lines+markers',\n",
    "                    name = 'GradientBoosting')\n",
    "\n",
    "trace5 = go.Scatter(x=table_80_80_test.iloc[5].index.values[[0,5,6,7]],\n",
    "                    y=table_80_80_test.iloc[5].values[[0,5,6,7]],\n",
    "                    mode = 'lines+markers',marker=dict(symbol='x'),\n",
    "                    name = 'ExtraTree Classifier')\n",
    "\n",
    "trace6 = go.Scatter(x=table_80_80_test.iloc[6].index.values[[0,5,6,7]],\n",
    "                    y=table_80_80_test.iloc[6].values[[0,5,6,7]],\n",
    "                    mode = 'lines+markers',marker=dict(symbol='x'),\n",
    "                    name = 'Bagging')\n",
    "\n",
    "trace7 = go.Scatter(x=table_80_80_test.iloc[7].index.values[[0,5,6,7]],\n",
    "                    y=table_80_80_test.iloc[7].values[[0,5,6,7]],\n",
    "                    mode = 'lines+markers',marker=dict(symbol='x'),\n",
    "                    name = 'Neural Network')\n",
    "\n",
    "\n",
    "\n",
    "data = [trace0, trace1, trace2, trace3, trace4, trace5, trace6, trace7]\n",
    "layout = go.Layout(yaxis=dict(tick0=0,dtick=0.05),title='Result comparision for Features selected in Section 1')\n",
    "fig = go.Figure(data=data, layout=layout)\n",
    "\n",
    "iplot(fig, filename='Result')"
   ]
  },
  {
   "cell_type": "code",
   "execution_count": 32,
   "metadata": {},
   "outputs": [
    {
     "name": "stdout",
     "output_type": "stream",
     "text": [
      "Training Results\n"
     ]
    },
    {
     "data": {
      "text/html": [
       "<div>\n",
       "<style scoped>\n",
       "    .dataframe tbody tr th:only-of-type {\n",
       "        vertical-align: middle;\n",
       "    }\n",
       "\n",
       "    .dataframe tbody tr th {\n",
       "        vertical-align: top;\n",
       "    }\n",
       "\n",
       "    .dataframe thead th {\n",
       "        text-align: right;\n",
       "    }\n",
       "</style>\n",
       "<table border=\"1\" class=\"dataframe\">\n",
       "  <thead>\n",
       "    <tr style=\"text-align: right;\">\n",
       "      <th></th>\n",
       "      <th>accuracy</th>\n",
       "      <th>TP</th>\n",
       "      <th>TN</th>\n",
       "      <th>FP</th>\n",
       "      <th>FN</th>\n",
       "      <th>FPR</th>\n",
       "      <th>FNR</th>\n",
       "    </tr>\n",
       "    <tr>\n",
       "      <th>index</th>\n",
       "      <th></th>\n",
       "      <th></th>\n",
       "      <th></th>\n",
       "      <th></th>\n",
       "      <th></th>\n",
       "      <th></th>\n",
       "      <th></th>\n",
       "    </tr>\n",
       "  </thead>\n",
       "  <tbody>\n",
       "    <tr>\n",
       "      <th>KNeighborsClassifier</th>\n",
       "      <td>0.911316</td>\n",
       "      <td>25527.0</td>\n",
       "      <td>25288.0</td>\n",
       "      <td>2592.0</td>\n",
       "      <td>2353.0</td>\n",
       "      <td>0.092970</td>\n",
       "      <td>0.084397</td>\n",
       "    </tr>\n",
       "    <tr>\n",
       "      <th>LogisticRegression</th>\n",
       "      <td>0.866445</td>\n",
       "      <td>25223.0</td>\n",
       "      <td>23090.0</td>\n",
       "      <td>4790.0</td>\n",
       "      <td>2657.0</td>\n",
       "      <td>0.171808</td>\n",
       "      <td>0.095301</td>\n",
       "    </tr>\n",
       "    <tr>\n",
       "      <th>RandomForestClassifier</th>\n",
       "      <td>0.932963</td>\n",
       "      <td>27071.0</td>\n",
       "      <td>24951.0</td>\n",
       "      <td>2929.0</td>\n",
       "      <td>809.0</td>\n",
       "      <td>0.105057</td>\n",
       "      <td>0.029017</td>\n",
       "    </tr>\n",
       "    <tr>\n",
       "      <th>AdaBoostClassifier</th>\n",
       "      <td>0.873816</td>\n",
       "      <td>25207.0</td>\n",
       "      <td>23517.0</td>\n",
       "      <td>4363.0</td>\n",
       "      <td>2673.0</td>\n",
       "      <td>0.156492</td>\n",
       "      <td>0.095875</td>\n",
       "    </tr>\n",
       "    <tr>\n",
       "      <th>GradientBoostingClassifier</th>\n",
       "      <td>0.895140</td>\n",
       "      <td>25513.0</td>\n",
       "      <td>24400.0</td>\n",
       "      <td>3480.0</td>\n",
       "      <td>2367.0</td>\n",
       "      <td>0.124821</td>\n",
       "      <td>0.084900</td>\n",
       "    </tr>\n",
       "    <tr>\n",
       "      <th>ExtraTreeClassifier</th>\n",
       "      <td>0.935294</td>\n",
       "      <td>27150.0</td>\n",
       "      <td>25002.0</td>\n",
       "      <td>2878.0</td>\n",
       "      <td>730.0</td>\n",
       "      <td>0.103228</td>\n",
       "      <td>0.026184</td>\n",
       "    </tr>\n",
       "    <tr>\n",
       "      <th>BaggingClassifier</th>\n",
       "      <td>0.932909</td>\n",
       "      <td>27057.0</td>\n",
       "      <td>24962.0</td>\n",
       "      <td>2918.0</td>\n",
       "      <td>823.0</td>\n",
       "      <td>0.104663</td>\n",
       "      <td>0.029519</td>\n",
       "    </tr>\n",
       "    <tr>\n",
       "      <th>Neural Network-1</th>\n",
       "      <td>0.909756</td>\n",
       "      <td>26715.0</td>\n",
       "      <td>24013.0</td>\n",
       "      <td>3867.0</td>\n",
       "      <td>1165.0</td>\n",
       "      <td>0.138702</td>\n",
       "      <td>0.041786</td>\n",
       "    </tr>\n",
       "  </tbody>\n",
       "</table>\n",
       "</div>"
      ],
      "text/plain": [
       "                            accuracy       TP       TN      FP      FN  \\\n",
       "index                                                                    \n",
       "KNeighborsClassifier        0.911316  25527.0  25288.0  2592.0  2353.0   \n",
       "LogisticRegression          0.866445  25223.0  23090.0  4790.0  2657.0   \n",
       "RandomForestClassifier      0.932963  27071.0  24951.0  2929.0   809.0   \n",
       "AdaBoostClassifier          0.873816  25207.0  23517.0  4363.0  2673.0   \n",
       "GradientBoostingClassifier  0.895140  25513.0  24400.0  3480.0  2367.0   \n",
       "ExtraTreeClassifier         0.935294  27150.0  25002.0  2878.0   730.0   \n",
       "BaggingClassifier           0.932909  27057.0  24962.0  2918.0   823.0   \n",
       "Neural Network-1            0.909756  26715.0  24013.0  3867.0  1165.0   \n",
       "\n",
       "                                 FPR       FNR  \n",
       "index                                           \n",
       "KNeighborsClassifier        0.092970  0.084397  \n",
       "LogisticRegression          0.171808  0.095301  \n",
       "RandomForestClassifier      0.105057  0.029017  \n",
       "AdaBoostClassifier          0.156492  0.095875  \n",
       "GradientBoostingClassifier  0.124821  0.084900  \n",
       "ExtraTreeClassifier         0.103228  0.026184  \n",
       "BaggingClassifier           0.104663  0.029519  \n",
       "Neural Network-1            0.138702  0.041786  "
      ]
     },
     "metadata": {},
     "output_type": "display_data"
    },
    {
     "name": "stdout",
     "output_type": "stream",
     "text": [
      "Test Results\n"
     ]
    },
    {
     "data": {
      "text/html": [
       "<div>\n",
       "<style scoped>\n",
       "    .dataframe tbody tr th:only-of-type {\n",
       "        vertical-align: middle;\n",
       "    }\n",
       "\n",
       "    .dataframe tbody tr th {\n",
       "        vertical-align: top;\n",
       "    }\n",
       "\n",
       "    .dataframe thead th {\n",
       "        text-align: right;\n",
       "    }\n",
       "</style>\n",
       "<table border=\"1\" class=\"dataframe\">\n",
       "  <thead>\n",
       "    <tr style=\"text-align: right;\">\n",
       "      <th></th>\n",
       "      <th>accuracy</th>\n",
       "      <th>TP</th>\n",
       "      <th>TN</th>\n",
       "      <th>FP</th>\n",
       "      <th>FN</th>\n",
       "      <th>FPR</th>\n",
       "      <th>FNR</th>\n",
       "      <th>auc</th>\n",
       "      <th>mcc</th>\n",
       "    </tr>\n",
       "    <tr>\n",
       "      <th>index</th>\n",
       "      <th></th>\n",
       "      <th></th>\n",
       "      <th></th>\n",
       "      <th></th>\n",
       "      <th></th>\n",
       "      <th></th>\n",
       "      <th></th>\n",
       "      <th></th>\n",
       "      <th></th>\n",
       "    </tr>\n",
       "  </thead>\n",
       "  <tbody>\n",
       "    <tr>\n",
       "      <th>KNeighborsClassifier</th>\n",
       "      <td>0.896918</td>\n",
       "      <td>1573.0</td>\n",
       "      <td>10765.0</td>\n",
       "      <td>1190.0</td>\n",
       "      <td>228.0</td>\n",
       "      <td>0.099540</td>\n",
       "      <td>0.126596</td>\n",
       "      <td>0.886932</td>\n",
       "      <td>0.651550</td>\n",
       "    </tr>\n",
       "    <tr>\n",
       "      <th>LogisticRegression</th>\n",
       "      <td>0.842396</td>\n",
       "      <td>1617.0</td>\n",
       "      <td>9971.0</td>\n",
       "      <td>1984.0</td>\n",
       "      <td>184.0</td>\n",
       "      <td>0.165956</td>\n",
       "      <td>0.102165</td>\n",
       "      <td>0.865939</td>\n",
       "      <td>0.561590</td>\n",
       "    </tr>\n",
       "    <tr>\n",
       "      <th>RandomForestClassifier</th>\n",
       "      <td>0.886013</td>\n",
       "      <td>1656.0</td>\n",
       "      <td>10532.0</td>\n",
       "      <td>1423.0</td>\n",
       "      <td>145.0</td>\n",
       "      <td>0.119030</td>\n",
       "      <td>0.080511</td>\n",
       "      <td>0.900230</td>\n",
       "      <td>0.647801</td>\n",
       "    </tr>\n",
       "    <tr>\n",
       "      <th>AdaBoostClassifier</th>\n",
       "      <td>0.850756</td>\n",
       "      <td>1602.0</td>\n",
       "      <td>10101.0</td>\n",
       "      <td>1854.0</td>\n",
       "      <td>199.0</td>\n",
       "      <td>0.155082</td>\n",
       "      <td>0.110494</td>\n",
       "      <td>0.867212</td>\n",
       "      <td>0.571180</td>\n",
       "    </tr>\n",
       "    <tr>\n",
       "      <th>GradientBoostingClassifier</th>\n",
       "      <td>0.880198</td>\n",
       "      <td>1615.0</td>\n",
       "      <td>10493.0</td>\n",
       "      <td>1462.0</td>\n",
       "      <td>186.0</td>\n",
       "      <td>0.122292</td>\n",
       "      <td>0.103276</td>\n",
       "      <td>0.887216</td>\n",
       "      <td>0.626882</td>\n",
       "    </tr>\n",
       "    <tr>\n",
       "      <th>ExtraTreeClassifier</th>\n",
       "      <td>0.884632</td>\n",
       "      <td>1653.0</td>\n",
       "      <td>10516.0</td>\n",
       "      <td>1439.0</td>\n",
       "      <td>148.0</td>\n",
       "      <td>0.120368</td>\n",
       "      <td>0.082177</td>\n",
       "      <td>0.898728</td>\n",
       "      <td>0.644404</td>\n",
       "    </tr>\n",
       "    <tr>\n",
       "      <th>BaggingClassifier</th>\n",
       "      <td>0.885432</td>\n",
       "      <td>1662.0</td>\n",
       "      <td>10518.0</td>\n",
       "      <td>1437.0</td>\n",
       "      <td>139.0</td>\n",
       "      <td>0.120201</td>\n",
       "      <td>0.077179</td>\n",
       "      <td>0.901310</td>\n",
       "      <td>0.648057</td>\n",
       "    </tr>\n",
       "    <tr>\n",
       "      <th>Neural Network-1</th>\n",
       "      <td>0.871111</td>\n",
       "      <td>1666.0</td>\n",
       "      <td>10317.0</td>\n",
       "      <td>1638.0</td>\n",
       "      <td>135.0</td>\n",
       "      <td>0.137014</td>\n",
       "      <td>0.074958</td>\n",
       "      <td>0.901310</td>\n",
       "      <td>0.622234</td>\n",
       "    </tr>\n",
       "  </tbody>\n",
       "</table>\n",
       "</div>"
      ],
      "text/plain": [
       "                            accuracy      TP       TN      FP     FN  \\\n",
       "index                                                                  \n",
       "KNeighborsClassifier        0.896918  1573.0  10765.0  1190.0  228.0   \n",
       "LogisticRegression          0.842396  1617.0   9971.0  1984.0  184.0   \n",
       "RandomForestClassifier      0.886013  1656.0  10532.0  1423.0  145.0   \n",
       "AdaBoostClassifier          0.850756  1602.0  10101.0  1854.0  199.0   \n",
       "GradientBoostingClassifier  0.880198  1615.0  10493.0  1462.0  186.0   \n",
       "ExtraTreeClassifier         0.884632  1653.0  10516.0  1439.0  148.0   \n",
       "BaggingClassifier           0.885432  1662.0  10518.0  1437.0  139.0   \n",
       "Neural Network-1            0.871111  1666.0  10317.0  1638.0  135.0   \n",
       "\n",
       "                                 FPR       FNR       auc       mcc  \n",
       "index                                                               \n",
       "KNeighborsClassifier        0.099540  0.126596  0.886932  0.651550  \n",
       "LogisticRegression          0.165956  0.102165  0.865939  0.561590  \n",
       "RandomForestClassifier      0.119030  0.080511  0.900230  0.647801  \n",
       "AdaBoostClassifier          0.155082  0.110494  0.867212  0.571180  \n",
       "GradientBoostingClassifier  0.122292  0.103276  0.887216  0.626882  \n",
       "ExtraTreeClassifier         0.120368  0.082177  0.898728  0.644404  \n",
       "BaggingClassifier           0.120201  0.077179  0.901310  0.648057  \n",
       "Neural Network-1            0.137014  0.074958  0.901310  0.622234  "
      ]
     },
     "metadata": {},
     "output_type": "display_data"
    }
   ],
   "source": [
    "table_80_80_train['index']=ind_columns\n",
    "table_80_80_test['index']=ind_columns\n",
    "\n",
    "\n",
    "table_80_80_test.set_index(['index'],drop=True,inplace=True)\n",
    "table_80_80_train.set_index(['index'],drop=True,inplace=True)\n",
    "\n",
    "print(\"Training Results\")\n",
    "display(table_80_80_train)\n",
    "print(\"Test Results\")\n",
    "display(table_80_80_test)"
   ]
  },
  {
   "cell_type": "markdown",
   "metadata": {},
   "source": [
    "### <a id='2.B' style=\"text-decoration : none; color : #000000;\"> B. Average Feature Importances</a>"
   ]
  },
  {
   "cell_type": "code",
   "execution_count": 37,
   "metadata": {},
   "outputs": [
    {
     "data": {
      "application/vnd.plotly.v1+json": {
       "config": {
        "linkText": "Export to plot.ly",
        "plotlyServerURL": "https://plot.ly",
        "showLink": true
       },
       "data": [
        {
         "marker": {
          "color": "rgb(158,202,225)",
          "line": {
           "color": "rgb(8,48,107)",
           "width": 1.5
          }
         },
         "opacity": 0.6,
         "orientation": "h",
         "text": [
          0.2512,
          0.2208,
          0.0904,
          0.0862,
          0.0487,
          0.0388,
          0.0375,
          0.028,
          0.0226,
          0.0213,
          0.0189,
          0.0187,
          0.0181,
          0.0171,
          0.017,
          0.0118,
          0.0102,
          0.0102,
          0.0099,
          0.0093,
          0.0072,
          0.0059
         ],
         "textposition": "outside",
         "type": "bar",
         "uid": "f9446e5a-e97d-4790-86cd-5805e20430b5",
         "x": [
          0.25124104711270057,
          0.22082943024397317,
          0.0904479502786386,
          0.08622863044972398,
          0.04869486533295972,
          0.03883422669659007,
          0.037495140276878704,
          0.027967579230055467,
          0.02258730396294133,
          0.02131759323234633,
          0.018938936453348154,
          0.018674500119050256,
          0.018097351381663757,
          0.01714376172407655,
          0.0169724542412672,
          0.011780791406891089,
          0.01019896058178841,
          0.010161101375096297,
          0.00987784034322959,
          0.009343775863523963,
          0.007245356972746504,
          0.005921402720510262
         ],
         "y": [
          "http_header_content-encoding_gzip",
          "http_header_content-length",
          "http_header_vary_accept",
          "http_header_transfer-encoding_chunked",
          "http_header_cache-control_set_max-age",
          "http_header_content-language_text/html",
          "http_header_server_apache",
          "http_header_connection_keep-alive",
          "http_header_server_nginx",
          "http_header_pragmano-cache",
          "http_header_via_1.1",
          "http_header_cache-control_set_no-store",
          "http_header_strict-transport-security_max-age",
          "http_header_expect-ctmax-age",
          "http_header_cache-control_set_private",
          "http_header_cache-control_set_must-revalidate",
          "http_header_cache-control_set_no-cache",
          "http_header_vary_age",
          "http_header_x-cintent-type-options_nosniff",
          "http_header_connection_close",
          "http_header_cache-control_set_public",
          "http_header_x-xss-enabled"
         ]
        }
       ],
       "layout": {
        "autosize": false,
        "height": 1000,
        "width": 1000,
        "xaxis": {
         "tickfont": {
          "color": "black",
          "size": 12
         },
         "title": "Feature Importances"
        },
        "yaxis": {
         "automargin": true
        }
       }
      },
      "text/html": [
       "<div id=\"18f5a90c-b75a-43a6-b976-7e05bb3a11f8\" style=\"height: 1000px; width: 1000px;\" class=\"plotly-graph-div\"></div><script type=\"text/javascript\">require([\"plotly\"], function(Plotly) { window.PLOTLYENV=window.PLOTLYENV || {};window.PLOTLYENV.BASE_URL=\"https://plot.ly\";Plotly.newPlot(\"18f5a90c-b75a-43a6-b976-7e05bb3a11f8\", [{\"marker\": {\"color\": \"rgb(158,202,225)\", \"line\": {\"color\": \"rgb(8,48,107)\", \"width\": 1.5}}, \"opacity\": 0.6, \"orientation\": \"h\", \"text\": [0.2512, 0.2208, 0.0904, 0.0862, 0.0487, 0.0388, 0.0375, 0.028, 0.0226, 0.0213, 0.0189, 0.0187, 0.0181, 0.0171, 0.017, 0.0118, 0.0102, 0.0102, 0.0099, 0.0093, 0.0072, 0.0059], \"textposition\": \"outside\", \"x\": [0.25124104711270057, 0.22082943024397317, 0.0904479502786386, 0.08622863044972398, 0.04869486533295972, 0.03883422669659007, 0.037495140276878704, 0.027967579230055467, 0.02258730396294133, 0.02131759323234633, 0.018938936453348154, 0.018674500119050256, 0.018097351381663757, 0.01714376172407655, 0.0169724542412672, 0.011780791406891089, 0.01019896058178841, 0.010161101375096297, 0.00987784034322959, 0.009343775863523963, 0.007245356972746504, 0.005921402720510262], \"y\": [\"http_header_content-encoding_gzip\", \"http_header_content-length\", \"http_header_vary_accept\", \"http_header_transfer-encoding_chunked\", \"http_header_cache-control_set_max-age\", \"http_header_content-language_text/html\", \"http_header_server_apache\", \"http_header_connection_keep-alive\", \"http_header_server_nginx\", \"http_header_pragmano-cache\", \"http_header_via_1.1\", \"http_header_cache-control_set_no-store\", \"http_header_strict-transport-security_max-age\", \"http_header_expect-ctmax-age\", \"http_header_cache-control_set_private\", \"http_header_cache-control_set_must-revalidate\", \"http_header_cache-control_set_no-cache\", \"http_header_vary_age\", \"http_header_x-cintent-type-options_nosniff\", \"http_header_connection_close\", \"http_header_cache-control_set_public\", \"http_header_x-xss-enabled\"], \"type\": \"bar\", \"uid\": \"f9446e5a-e97d-4790-86cd-5805e20430b5\"}], {\"autosize\": false, \"height\": 1000, \"width\": 1000, \"xaxis\": {\"tickfont\": {\"color\": \"black\", \"size\": 12}, \"title\": \"Feature Importances\"}, \"yaxis\": {\"automargin\": true}}, {\"showLink\": true, \"linkText\": \"Export to plot.ly\", \"plotlyServerURL\": \"https://plot.ly\"})});</script>"
      ],
      "text/vnd.plotly.v1+html": [
       "<div id=\"18f5a90c-b75a-43a6-b976-7e05bb3a11f8\" style=\"height: 1000px; width: 1000px;\" class=\"plotly-graph-div\"></div><script type=\"text/javascript\">require([\"plotly\"], function(Plotly) { window.PLOTLYENV=window.PLOTLYENV || {};window.PLOTLYENV.BASE_URL=\"https://plot.ly\";Plotly.newPlot(\"18f5a90c-b75a-43a6-b976-7e05bb3a11f8\", [{\"marker\": {\"color\": \"rgb(158,202,225)\", \"line\": {\"color\": \"rgb(8,48,107)\", \"width\": 1.5}}, \"opacity\": 0.6, \"orientation\": \"h\", \"text\": [0.2512, 0.2208, 0.0904, 0.0862, 0.0487, 0.0388, 0.0375, 0.028, 0.0226, 0.0213, 0.0189, 0.0187, 0.0181, 0.0171, 0.017, 0.0118, 0.0102, 0.0102, 0.0099, 0.0093, 0.0072, 0.0059], \"textposition\": \"outside\", \"x\": [0.25124104711270057, 0.22082943024397317, 0.0904479502786386, 0.08622863044972398, 0.04869486533295972, 0.03883422669659007, 0.037495140276878704, 0.027967579230055467, 0.02258730396294133, 0.02131759323234633, 0.018938936453348154, 0.018674500119050256, 0.018097351381663757, 0.01714376172407655, 0.0169724542412672, 0.011780791406891089, 0.01019896058178841, 0.010161101375096297, 0.00987784034322959, 0.009343775863523963, 0.007245356972746504, 0.005921402720510262], \"y\": [\"http_header_content-encoding_gzip\", \"http_header_content-length\", \"http_header_vary_accept\", \"http_header_transfer-encoding_chunked\", \"http_header_cache-control_set_max-age\", \"http_header_content-language_text/html\", \"http_header_server_apache\", \"http_header_connection_keep-alive\", \"http_header_server_nginx\", \"http_header_pragmano-cache\", \"http_header_via_1.1\", \"http_header_cache-control_set_no-store\", \"http_header_strict-transport-security_max-age\", \"http_header_expect-ctmax-age\", \"http_header_cache-control_set_private\", \"http_header_cache-control_set_must-revalidate\", \"http_header_cache-control_set_no-cache\", \"http_header_vary_age\", \"http_header_x-cintent-type-options_nosniff\", \"http_header_connection_close\", \"http_header_cache-control_set_public\", \"http_header_x-xss-enabled\"], \"type\": \"bar\", \"uid\": \"f9446e5a-e97d-4790-86cd-5805e20430b5\"}], {\"autosize\": false, \"height\": 1000, \"width\": 1000, \"xaxis\": {\"tickfont\": {\"color\": \"black\", \"size\": 12}, \"title\": \"Feature Importances\"}, \"yaxis\": {\"automargin\": true}}, {\"showLink\": true, \"linkText\": \"Export to plot.ly\", \"plotlyServerURL\": \"https://plot.ly\"})});</script>"
      ]
     },
     "metadata": {},
     "output_type": "display_data"
    }
   ],
   "source": [
    "feat_impt_plot(np.average(feat_imp,axis=0),columns[:-2])"
   ]
  },
  {
   "cell_type": "markdown",
   "metadata": {},
   "source": [
    "### <a id='3' style=\"text-decoration : none; color : #000000;\"> 3. Undersampling</a>"
   ]
  },
  {
   "cell_type": "code",
   "execution_count": 33,
   "metadata": {},
   "outputs": [
    {
     "name": "stdout",
     "output_type": "stream",
     "text": [
      "Shape after undersampling (8440, 22)\n"
     ]
    }
   ],
   "source": [
    "df_non=train[train.Target==0]\n",
    "df_mal=train[train.Target==1]\n",
    "\n",
    "df_non=df_non.sample(frac=len(df_mal)/len(df_non),random_state=0)\n",
    "df_u=df_non.append(df_mal)\n",
    "df_u.Target.value_counts() \n",
    "\n",
    "X_train=df_u[columns[:-2]]\n",
    "X_train=scaler.transform(X_train)\n",
    "Y_train=df_u.Target.values\n",
    "\n",
    "print(\"Shape after undersampling\",X_train.shape)\n"
   ]
  },
  {
   "cell_type": "code",
   "execution_count": 34,
   "metadata": {},
   "outputs": [],
   "source": [
    "## Table to store training and test measures so we can compare later\n",
    "table_80_90_train=pd.DataFrame(columns=['accuracy','TP','TN','FP','FN','FPR','FNR'])\n",
    "table_80_90_test=pd.DataFrame(columns=['accuracy','TP','TN','FP','FN','FPR','FNR','auc','mcc'])"
   ]
  },
  {
   "cell_type": "code",
   "execution_count": 35,
   "metadata": {
    "scrolled": false
   },
   "outputs": [
    {
     "name": "stdout",
     "output_type": "stream",
     "text": [
      "\u001b[1mK-Nearest Neighbors\u001b[0m\n",
      "Accuracy of the model for training data is: 0.8917061611374407\n",
      "Confusion Matrix for training data is:\n"
     ]
    },
    {
     "data": {
      "text/plain": [
       "Predicted  False  True  __all__\n",
       "Actual                         \n",
       "False       3832   388     4220\n",
       "True         526  3694     4220\n",
       "__all__     4358  4082     8440"
      ]
     },
     "metadata": {},
     "output_type": "display_data"
    },
    {
     "name": "stdout",
     "output_type": "stream",
     "text": [
      "Accuracy of the model for test data is: 0.8867403314917127\n",
      "Confusion Matrix for test data is:\n"
     ]
    },
    {
     "data": {
      "text/plain": [
       "Predicted  False  True  __all__\n",
       "Actual                         \n",
       "False      10647  1308    11955\n",
       "True         250  1551     1801\n",
       "__all__    10897  2859    13756"
      ]
     },
     "metadata": {},
     "output_type": "display_data"
    },
    {
     "name": "stdout",
     "output_type": "stream",
     "text": [
      "\n",
      "\n",
      "\u001b[1mLogistic Regression\u001b[0m\n",
      "Accuracy of the model for training data is: 0.8670616113744076\n",
      "Confusion Matrix for training data is:\n"
     ]
    },
    {
     "data": {
      "text/plain": [
       "Predicted  False  True  __all__\n",
       "Actual                         \n",
       "False       3515   705     4220\n",
       "True         417  3803     4220\n",
       "__all__     3932  4508     8440"
      ]
     },
     "metadata": {},
     "output_type": "display_data"
    },
    {
     "name": "stdout",
     "output_type": "stream",
     "text": [
      "Accuracy of the model for test data is: 0.8398517010758941\n",
      "Confusion Matrix for test data is:\n"
     ]
    },
    {
     "data": {
      "text/plain": [
       "Predicted  False  True  __all__\n",
       "Actual                         \n",
       "False       9936  2019    11955\n",
       "True         184  1617     1801\n",
       "__all__    10120  3636    13756"
      ]
     },
     "metadata": {},
     "output_type": "display_data"
    },
    {
     "name": "stdout",
     "output_type": "stream",
     "text": [
      "\n",
      "\n",
      "\u001b[1mRandomForest Classifier\u001b[0m\n",
      "Accuracy of the model for training data is: 0.9273696682464455\n",
      "Confusion Matrix for training data is:\n"
     ]
    },
    {
     "data": {
      "text/plain": [
       "Predicted  False  True  __all__\n",
       "Actual                         \n",
       "False       3779   441     4220\n",
       "True         172  4048     4220\n",
       "__all__     3951  4489     8440"
      ]
     },
     "metadata": {},
     "output_type": "display_data"
    },
    {
     "name": "stdout",
     "output_type": "stream",
     "text": [
      "Accuracy of the model for test data is: 0.8756179121837744\n",
      "Confusion Matrix for test data is:\n"
     ]
    },
    {
     "data": {
      "text/plain": [
       "Predicted  False  True  __all__\n",
       "Actual                         \n",
       "False      10382  1573    11955\n",
       "True         138  1663     1801\n",
       "__all__    10520  3236    13756"
      ]
     },
     "metadata": {},
     "output_type": "display_data"
    },
    {
     "data": {
      "application/vnd.plotly.v1+json": {
       "config": {
        "linkText": "Export to plot.ly",
        "plotlyServerURL": "https://plot.ly",
        "showLink": true
       },
       "data": [
        {
         "marker": {
          "color": "rgb(158,202,225)",
          "line": {
           "color": "rgb(8,48,107)",
           "width": 1.5
          }
         },
         "opacity": 0.6,
         "orientation": "h",
         "text": [
          0.1957,
          0.1801,
          0.1271,
          0.1003,
          0.0773,
          0.0632,
          0.0454,
          0.0317,
          0.0198,
          0.0197,
          0.0167,
          0.0157,
          0.0156,
          0.0151,
          0.0138,
          0.0124,
          0.0112,
          0.0107,
          0.0105,
          0.0093,
          0.0045,
          0.0044
         ],
         "textposition": "outside",
         "type": "bar",
         "uid": "f2db59df-d270-4b5b-81d8-831d2567a9d7",
         "x": [
          0.19570909954778626,
          0.180054296176056,
          0.12709680388947903,
          0.1002884500442319,
          0.07726740511100197,
          0.06316868651483408,
          0.045416236849710793,
          0.03174395538588311,
          0.019753032163325364,
          0.01967518899412809,
          0.016675073638624683,
          0.01565151126104606,
          0.015641463089907003,
          0.015077974528991164,
          0.013758656511644604,
          0.012363337769448687,
          0.011153147036938302,
          0.010737003135239018,
          0.010530154551317047,
          0.009279541805518555,
          0.004524437986537939,
          0.004434544008350377
         ],
         "y": [
          "http_header_content-length",
          "http_header_content-encoding_gzip",
          "http_header_content-language_text/html",
          "http_header_transfer-encoding_chunked",
          "http_header_cache-control_set_max-age",
          "http_header_vary_accept",
          "http_header_server_apache",
          "http_header_x-cintent-type-options_nosniff",
          "http_header_cache-control_set_private",
          "http_header_server_nginx",
          "http_header_pragmano-cache",
          "http_header_vary_age",
          "http_header_connection_keep-alive",
          "http_header_cache-control_set_no-cache",
          "http_header_cache-control_set_must-revalidate",
          "http_header_via_1.1",
          "http_header_connection_close",
          "http_header_strict-transport-security_max-age",
          "http_header_cache-control_set_no-store",
          "http_header_expect-ctmax-age",
          "http_header_x-xss-enabled",
          "http_header_cache-control_set_public"
         ]
        }
       ],
       "layout": {
        "autosize": false,
        "height": 1000,
        "width": 1000,
        "xaxis": {
         "tickfont": {
          "color": "black",
          "size": 12
         },
         "title": "Feature Importances"
        },
        "yaxis": {
         "automargin": true
        }
       }
      },
      "text/html": [
       "<div id=\"e1bb8b0e-07d6-43e0-8298-d494f51ac0b2\" style=\"height: 1000px; width: 1000px;\" class=\"plotly-graph-div\"></div><script type=\"text/javascript\">require([\"plotly\"], function(Plotly) { window.PLOTLYENV=window.PLOTLYENV || {};window.PLOTLYENV.BASE_URL=\"https://plot.ly\";Plotly.newPlot(\"e1bb8b0e-07d6-43e0-8298-d494f51ac0b2\", [{\"marker\": {\"color\": \"rgb(158,202,225)\", \"line\": {\"color\": \"rgb(8,48,107)\", \"width\": 1.5}}, \"opacity\": 0.6, \"orientation\": \"h\", \"text\": [0.1957, 0.1801, 0.1271, 0.1003, 0.0773, 0.0632, 0.0454, 0.0317, 0.0198, 0.0197, 0.0167, 0.0157, 0.0156, 0.0151, 0.0138, 0.0124, 0.0112, 0.0107, 0.0105, 0.0093, 0.0045, 0.0044], \"textposition\": \"outside\", \"x\": [0.19570909954778626, 0.180054296176056, 0.12709680388947903, 0.1002884500442319, 0.07726740511100197, 0.06316868651483408, 0.045416236849710793, 0.03174395538588311, 0.019753032163325364, 0.01967518899412809, 0.016675073638624683, 0.01565151126104606, 0.015641463089907003, 0.015077974528991164, 0.013758656511644604, 0.012363337769448687, 0.011153147036938302, 0.010737003135239018, 0.010530154551317047, 0.009279541805518555, 0.004524437986537939, 0.004434544008350377], \"y\": [\"http_header_content-length\", \"http_header_content-encoding_gzip\", \"http_header_content-language_text/html\", \"http_header_transfer-encoding_chunked\", \"http_header_cache-control_set_max-age\", \"http_header_vary_accept\", \"http_header_server_apache\", \"http_header_x-cintent-type-options_nosniff\", \"http_header_cache-control_set_private\", \"http_header_server_nginx\", \"http_header_pragmano-cache\", \"http_header_vary_age\", \"http_header_connection_keep-alive\", \"http_header_cache-control_set_no-cache\", \"http_header_cache-control_set_must-revalidate\", \"http_header_via_1.1\", \"http_header_connection_close\", \"http_header_strict-transport-security_max-age\", \"http_header_cache-control_set_no-store\", \"http_header_expect-ctmax-age\", \"http_header_x-xss-enabled\", \"http_header_cache-control_set_public\"], \"type\": \"bar\", \"uid\": \"f2db59df-d270-4b5b-81d8-831d2567a9d7\"}], {\"autosize\": false, \"height\": 1000, \"width\": 1000, \"xaxis\": {\"tickfont\": {\"color\": \"black\", \"size\": 12}, \"title\": \"Feature Importances\"}, \"yaxis\": {\"automargin\": true}}, {\"showLink\": true, \"linkText\": \"Export to plot.ly\", \"plotlyServerURL\": \"https://plot.ly\"})});</script>"
      ],
      "text/vnd.plotly.v1+html": [
       "<div id=\"e1bb8b0e-07d6-43e0-8298-d494f51ac0b2\" style=\"height: 1000px; width: 1000px;\" class=\"plotly-graph-div\"></div><script type=\"text/javascript\">require([\"plotly\"], function(Plotly) { window.PLOTLYENV=window.PLOTLYENV || {};window.PLOTLYENV.BASE_URL=\"https://plot.ly\";Plotly.newPlot(\"e1bb8b0e-07d6-43e0-8298-d494f51ac0b2\", [{\"marker\": {\"color\": \"rgb(158,202,225)\", \"line\": {\"color\": \"rgb(8,48,107)\", \"width\": 1.5}}, \"opacity\": 0.6, \"orientation\": \"h\", \"text\": [0.1957, 0.1801, 0.1271, 0.1003, 0.0773, 0.0632, 0.0454, 0.0317, 0.0198, 0.0197, 0.0167, 0.0157, 0.0156, 0.0151, 0.0138, 0.0124, 0.0112, 0.0107, 0.0105, 0.0093, 0.0045, 0.0044], \"textposition\": \"outside\", \"x\": [0.19570909954778626, 0.180054296176056, 0.12709680388947903, 0.1002884500442319, 0.07726740511100197, 0.06316868651483408, 0.045416236849710793, 0.03174395538588311, 0.019753032163325364, 0.01967518899412809, 0.016675073638624683, 0.01565151126104606, 0.015641463089907003, 0.015077974528991164, 0.013758656511644604, 0.012363337769448687, 0.011153147036938302, 0.010737003135239018, 0.010530154551317047, 0.009279541805518555, 0.004524437986537939, 0.004434544008350377], \"y\": [\"http_header_content-length\", \"http_header_content-encoding_gzip\", \"http_header_content-language_text/html\", \"http_header_transfer-encoding_chunked\", \"http_header_cache-control_set_max-age\", \"http_header_vary_accept\", \"http_header_server_apache\", \"http_header_x-cintent-type-options_nosniff\", \"http_header_cache-control_set_private\", \"http_header_server_nginx\", \"http_header_pragmano-cache\", \"http_header_vary_age\", \"http_header_connection_keep-alive\", \"http_header_cache-control_set_no-cache\", \"http_header_cache-control_set_must-revalidate\", \"http_header_via_1.1\", \"http_header_connection_close\", \"http_header_strict-transport-security_max-age\", \"http_header_cache-control_set_no-store\", \"http_header_expect-ctmax-age\", \"http_header_x-xss-enabled\", \"http_header_cache-control_set_public\"], \"type\": \"bar\", \"uid\": \"f2db59df-d270-4b5b-81d8-831d2567a9d7\"}], {\"autosize\": false, \"height\": 1000, \"width\": 1000, \"xaxis\": {\"tickfont\": {\"color\": \"black\", \"size\": 12}, \"title\": \"Feature Importances\"}, \"yaxis\": {\"automargin\": true}}, {\"showLink\": true, \"linkText\": \"Export to plot.ly\", \"plotlyServerURL\": \"https://plot.ly\"})});</script>"
      ]
     },
     "metadata": {},
     "output_type": "display_data"
    },
    {
     "name": "stdout",
     "output_type": "stream",
     "text": [
      "\n",
      "\n",
      "\u001b[1mAdaoost Classifier\u001b[0m\n",
      "Accuracy of the model for training data is: 0.8696682464454977\n",
      "Confusion Matrix for training data is:\n"
     ]
    },
    {
     "data": {
      "text/plain": [
       "Predicted  False  True  __all__\n",
       "Actual                         \n",
       "False       3555   665     4220\n",
       "True         435  3785     4220\n",
       "__all__     3990  4450     8440"
      ]
     },
     "metadata": {},
     "output_type": "display_data"
    },
    {
     "name": "stdout",
     "output_type": "stream",
     "text": [
      "Accuracy of the model for test data is: 0.8466850828729282\n",
      "Confusion Matrix for test data is:\n"
     ]
    },
    {
     "data": {
      "text/plain": [
       "Predicted  False  True  __all__\n",
       "Actual                         \n",
       "False      10039  1916    11955\n",
       "True         193  1608     1801\n",
       "__all__    10232  3524    13756"
      ]
     },
     "metadata": {},
     "output_type": "display_data"
    },
    {
     "data": {
      "application/vnd.plotly.v1+json": {
       "config": {
        "linkText": "Export to plot.ly",
        "plotlyServerURL": "https://plot.ly",
        "showLink": true
       },
       "data": [
        {
         "marker": {
          "color": "rgb(158,202,225)",
          "line": {
           "color": "rgb(8,48,107)",
           "width": 1.5
          }
         },
         "opacity": 0.6,
         "orientation": "h",
         "text": [
          0.46,
          0.1,
          0.08,
          0.06,
          0.04,
          0.04,
          0.04,
          0.02,
          0.02,
          0.02,
          0.02,
          0.02,
          0.02,
          0.02,
          0.02,
          0.02,
          0,
          0,
          0,
          0,
          0,
          0
         ],
         "textposition": "outside",
         "type": "bar",
         "uid": "22727bc0-15f7-4538-a631-c947975f1c07",
         "x": [
          0.46,
          0.1,
          0.08,
          0.06,
          0.04,
          0.04,
          0.04,
          0.02,
          0.02,
          0.02,
          0.02,
          0.02,
          0.02,
          0.02,
          0.02,
          0.02,
          0,
          0,
          0,
          0,
          0,
          0
         ],
         "y": [
          "http_header_content-length",
          "http_header_content-encoding_gzip",
          "http_header_transfer-encoding_chunked",
          "http_header_cache-control_set_no-store",
          "http_header_cache-control_set_max-age",
          "http_header_pragmano-cache",
          "http_header_connection_keep-alive",
          "http_header_x-cintent-type-options_nosniff",
          "http_header_via_1.1",
          "http_header_vary_accept",
          "http_header_server_nginx",
          "http_header_server_apache",
          "http_header_expect-ctmax-age",
          "http_header_cache-control_set_public",
          "http_header_cache-control_set_private",
          "http_header_x-xss-enabled",
          "http_header_cache-control_set_must-revalidate",
          "http_header_content-language_text/html",
          "http_header_strict-transport-security_max-age",
          "http_header_connection_close",
          "http_header_vary_age",
          "http_header_cache-control_set_no-cache"
         ]
        }
       ],
       "layout": {
        "autosize": false,
        "height": 1000,
        "width": 1000,
        "xaxis": {
         "tickfont": {
          "color": "black",
          "size": 12
         },
         "title": "Feature Importances"
        },
        "yaxis": {
         "automargin": true
        }
       }
      },
      "text/html": [
       "<div id=\"19ecdc03-eeca-4010-9108-51913f29f9d5\" style=\"height: 1000px; width: 1000px;\" class=\"plotly-graph-div\"></div><script type=\"text/javascript\">require([\"plotly\"], function(Plotly) { window.PLOTLYENV=window.PLOTLYENV || {};window.PLOTLYENV.BASE_URL=\"https://plot.ly\";Plotly.newPlot(\"19ecdc03-eeca-4010-9108-51913f29f9d5\", [{\"marker\": {\"color\": \"rgb(158,202,225)\", \"line\": {\"color\": \"rgb(8,48,107)\", \"width\": 1.5}}, \"opacity\": 0.6, \"orientation\": \"h\", \"text\": [0.46, 0.1, 0.08, 0.06, 0.04, 0.04, 0.04, 0.02, 0.02, 0.02, 0.02, 0.02, 0.02, 0.02, 0.02, 0.02, 0.0, 0.0, 0.0, 0.0, 0.0, 0.0], \"textposition\": \"outside\", \"x\": [0.46, 0.1, 0.08, 0.06, 0.04, 0.04, 0.04, 0.02, 0.02, 0.02, 0.02, 0.02, 0.02, 0.02, 0.02, 0.02, 0.0, 0.0, 0.0, 0.0, 0.0, 0.0], \"y\": [\"http_header_content-length\", \"http_header_content-encoding_gzip\", \"http_header_transfer-encoding_chunked\", \"http_header_cache-control_set_no-store\", \"http_header_cache-control_set_max-age\", \"http_header_pragmano-cache\", \"http_header_connection_keep-alive\", \"http_header_x-cintent-type-options_nosniff\", \"http_header_via_1.1\", \"http_header_vary_accept\", \"http_header_server_nginx\", \"http_header_server_apache\", \"http_header_expect-ctmax-age\", \"http_header_cache-control_set_public\", \"http_header_cache-control_set_private\", \"http_header_x-xss-enabled\", \"http_header_cache-control_set_must-revalidate\", \"http_header_content-language_text/html\", \"http_header_strict-transport-security_max-age\", \"http_header_connection_close\", \"http_header_vary_age\", \"http_header_cache-control_set_no-cache\"], \"type\": \"bar\", \"uid\": \"22727bc0-15f7-4538-a631-c947975f1c07\"}], {\"autosize\": false, \"height\": 1000, \"width\": 1000, \"xaxis\": {\"tickfont\": {\"color\": \"black\", \"size\": 12}, \"title\": \"Feature Importances\"}, \"yaxis\": {\"automargin\": true}}, {\"showLink\": true, \"linkText\": \"Export to plot.ly\", \"plotlyServerURL\": \"https://plot.ly\"})});</script>"
      ],
      "text/vnd.plotly.v1+html": [
       "<div id=\"19ecdc03-eeca-4010-9108-51913f29f9d5\" style=\"height: 1000px; width: 1000px;\" class=\"plotly-graph-div\"></div><script type=\"text/javascript\">require([\"plotly\"], function(Plotly) { window.PLOTLYENV=window.PLOTLYENV || {};window.PLOTLYENV.BASE_URL=\"https://plot.ly\";Plotly.newPlot(\"19ecdc03-eeca-4010-9108-51913f29f9d5\", [{\"marker\": {\"color\": \"rgb(158,202,225)\", \"line\": {\"color\": \"rgb(8,48,107)\", \"width\": 1.5}}, \"opacity\": 0.6, \"orientation\": \"h\", \"text\": [0.46, 0.1, 0.08, 0.06, 0.04, 0.04, 0.04, 0.02, 0.02, 0.02, 0.02, 0.02, 0.02, 0.02, 0.02, 0.02, 0.0, 0.0, 0.0, 0.0, 0.0, 0.0], \"textposition\": \"outside\", \"x\": [0.46, 0.1, 0.08, 0.06, 0.04, 0.04, 0.04, 0.02, 0.02, 0.02, 0.02, 0.02, 0.02, 0.02, 0.02, 0.02, 0.0, 0.0, 0.0, 0.0, 0.0, 0.0], \"y\": [\"http_header_content-length\", \"http_header_content-encoding_gzip\", \"http_header_transfer-encoding_chunked\", \"http_header_cache-control_set_no-store\", \"http_header_cache-control_set_max-age\", \"http_header_pragmano-cache\", \"http_header_connection_keep-alive\", \"http_header_x-cintent-type-options_nosniff\", \"http_header_via_1.1\", \"http_header_vary_accept\", \"http_header_server_nginx\", \"http_header_server_apache\", \"http_header_expect-ctmax-age\", \"http_header_cache-control_set_public\", \"http_header_cache-control_set_private\", \"http_header_x-xss-enabled\", \"http_header_cache-control_set_must-revalidate\", \"http_header_content-language_text/html\", \"http_header_strict-transport-security_max-age\", \"http_header_connection_close\", \"http_header_vary_age\", \"http_header_cache-control_set_no-cache\"], \"type\": \"bar\", \"uid\": \"22727bc0-15f7-4538-a631-c947975f1c07\"}], {\"autosize\": false, \"height\": 1000, \"width\": 1000, \"xaxis\": {\"tickfont\": {\"color\": \"black\", \"size\": 12}, \"title\": \"Feature Importances\"}, \"yaxis\": {\"automargin\": true}}, {\"showLink\": true, \"linkText\": \"Export to plot.ly\", \"plotlyServerURL\": \"https://plot.ly\"})});</script>"
      ]
     },
     "metadata": {},
     "output_type": "display_data"
    },
    {
     "name": "stdout",
     "output_type": "stream",
     "text": [
      "\n",
      "\n",
      "\u001b[1mGradientBoosting Classifier\u001b[0m\n",
      "Accuracy of the model for training data is: 0.8901658767772512\n",
      "Confusion Matrix for training data is:\n"
     ]
    },
    {
     "data": {
      "text/plain": [
       "Predicted  False  True  __all__\n",
       "Actual                         \n",
       "False       3716   504     4220\n",
       "True         423  3797     4220\n",
       "__all__     4139  4301     8440"
      ]
     },
     "metadata": {},
     "output_type": "display_data"
    },
    {
     "name": "stdout",
     "output_type": "stream",
     "text": [
      "Accuracy of the model for test data is: 0.8758359988368711\n",
      "Confusion Matrix for test data is:\n"
     ]
    },
    {
     "data": {
      "text/plain": [
       "Predicted  False  True  __all__\n",
       "Actual                         \n",
       "False      10433  1522    11955\n",
       "True         186  1615     1801\n",
       "__all__    10619  3137    13756"
      ]
     },
     "metadata": {},
     "output_type": "display_data"
    },
    {
     "data": {
      "application/vnd.plotly.v1+json": {
       "config": {
        "linkText": "Export to plot.ly",
        "plotlyServerURL": "https://plot.ly",
        "showLink": true
       },
       "data": [
        {
         "marker": {
          "color": "rgb(158,202,225)",
          "line": {
           "color": "rgb(8,48,107)",
           "width": 1.5
          }
         },
         "opacity": 0.6,
         "orientation": "h",
         "text": [
          0.5853,
          0.2175,
          0.0649,
          0.0281,
          0.0193,
          0.0155,
          0.0112,
          0.0088,
          0.0079,
          0.0077,
          0.006,
          0.0057,
          0.0049,
          0.0036,
          0.003,
          0.0027,
          0.0023,
          0.0022,
          0.0017,
          0.0013,
          0.0003,
          0.0002
         ],
         "textposition": "outside",
         "type": "bar",
         "uid": "079cdb0b-b844-40f0-b9d8-a70321e90a2e",
         "x": [
          0.5853276196308156,
          0.21751755566977848,
          0.06486735370828277,
          0.02810804389431748,
          0.019288594244257502,
          0.015475442036796435,
          0.011185357311298962,
          0.00878156633695277,
          0.007943612737491711,
          0.007679264534404437,
          0.005990252289447125,
          0.005706152079193382,
          0.004940201969231444,
          0.003560771529520286,
          0.0029948846101768263,
          0.0026530476106194265,
          0.0023406439345786323,
          0.002225688934619744,
          0.0016863350485177534,
          0.0012884813396579506,
          0.000284709114704987,
          0.0001544214353363094
         ],
         "y": [
          "http_header_content-encoding_gzip",
          "http_header_content-length",
          "http_header_transfer-encoding_chunked",
          "http_header_server_apache",
          "http_header_cache-control_set_max-age",
          "http_header_pragmano-cache",
          "http_header_via_1.1",
          "http_header_cache-control_set_private",
          "http_header_vary_age",
          "http_header_connection_keep-alive",
          "http_header_cache-control_set_no-store",
          "http_header_vary_accept",
          "http_header_connection_close",
          "http_header_server_nginx",
          "http_header_expect-ctmax-age",
          "http_header_content-language_text/html",
          "http_header_x-xss-enabled",
          "http_header_strict-transport-security_max-age",
          "http_header_cache-control_set_must-revalidate",
          "http_header_x-cintent-type-options_nosniff",
          "http_header_cache-control_set_no-cache",
          "http_header_cache-control_set_public"
         ]
        }
       ],
       "layout": {
        "autosize": false,
        "height": 1000,
        "width": 1000,
        "xaxis": {
         "tickfont": {
          "color": "black",
          "size": 12
         },
         "title": "Feature Importances"
        },
        "yaxis": {
         "automargin": true
        }
       }
      },
      "text/html": [
       "<div id=\"68f2bd14-fece-4973-950d-cb8697b08c3b\" style=\"height: 1000px; width: 1000px;\" class=\"plotly-graph-div\"></div><script type=\"text/javascript\">require([\"plotly\"], function(Plotly) { window.PLOTLYENV=window.PLOTLYENV || {};window.PLOTLYENV.BASE_URL=\"https://plot.ly\";Plotly.newPlot(\"68f2bd14-fece-4973-950d-cb8697b08c3b\", [{\"marker\": {\"color\": \"rgb(158,202,225)\", \"line\": {\"color\": \"rgb(8,48,107)\", \"width\": 1.5}}, \"opacity\": 0.6, \"orientation\": \"h\", \"text\": [0.5853, 0.2175, 0.0649, 0.0281, 0.0193, 0.0155, 0.0112, 0.0088, 0.0079, 0.0077, 0.006, 0.0057, 0.0049, 0.0036, 0.003, 0.0027, 0.0023, 0.0022, 0.0017, 0.0013, 0.0003, 0.0002], \"textposition\": \"outside\", \"x\": [0.5853276196308156, 0.21751755566977848, 0.06486735370828277, 0.02810804389431748, 0.019288594244257502, 0.015475442036796435, 0.011185357311298962, 0.00878156633695277, 0.007943612737491711, 0.007679264534404437, 0.005990252289447125, 0.005706152079193382, 0.004940201969231444, 0.003560771529520286, 0.0029948846101768263, 0.0026530476106194265, 0.0023406439345786323, 0.002225688934619744, 0.0016863350485177534, 0.0012884813396579506, 0.000284709114704987, 0.0001544214353363094], \"y\": [\"http_header_content-encoding_gzip\", \"http_header_content-length\", \"http_header_transfer-encoding_chunked\", \"http_header_server_apache\", \"http_header_cache-control_set_max-age\", \"http_header_pragmano-cache\", \"http_header_via_1.1\", \"http_header_cache-control_set_private\", \"http_header_vary_age\", \"http_header_connection_keep-alive\", \"http_header_cache-control_set_no-store\", \"http_header_vary_accept\", \"http_header_connection_close\", \"http_header_server_nginx\", \"http_header_expect-ctmax-age\", \"http_header_content-language_text/html\", \"http_header_x-xss-enabled\", \"http_header_strict-transport-security_max-age\", \"http_header_cache-control_set_must-revalidate\", \"http_header_x-cintent-type-options_nosniff\", \"http_header_cache-control_set_no-cache\", \"http_header_cache-control_set_public\"], \"type\": \"bar\", \"uid\": \"079cdb0b-b844-40f0-b9d8-a70321e90a2e\"}], {\"autosize\": false, \"height\": 1000, \"width\": 1000, \"xaxis\": {\"tickfont\": {\"color\": \"black\", \"size\": 12}, \"title\": \"Feature Importances\"}, \"yaxis\": {\"automargin\": true}}, {\"showLink\": true, \"linkText\": \"Export to plot.ly\", \"plotlyServerURL\": \"https://plot.ly\"})});</script>"
      ],
      "text/vnd.plotly.v1+html": [
       "<div id=\"68f2bd14-fece-4973-950d-cb8697b08c3b\" style=\"height: 1000px; width: 1000px;\" class=\"plotly-graph-div\"></div><script type=\"text/javascript\">require([\"plotly\"], function(Plotly) { window.PLOTLYENV=window.PLOTLYENV || {};window.PLOTLYENV.BASE_URL=\"https://plot.ly\";Plotly.newPlot(\"68f2bd14-fece-4973-950d-cb8697b08c3b\", [{\"marker\": {\"color\": \"rgb(158,202,225)\", \"line\": {\"color\": \"rgb(8,48,107)\", \"width\": 1.5}}, \"opacity\": 0.6, \"orientation\": \"h\", \"text\": [0.5853, 0.2175, 0.0649, 0.0281, 0.0193, 0.0155, 0.0112, 0.0088, 0.0079, 0.0077, 0.006, 0.0057, 0.0049, 0.0036, 0.003, 0.0027, 0.0023, 0.0022, 0.0017, 0.0013, 0.0003, 0.0002], \"textposition\": \"outside\", \"x\": [0.5853276196308156, 0.21751755566977848, 0.06486735370828277, 0.02810804389431748, 0.019288594244257502, 0.015475442036796435, 0.011185357311298962, 0.00878156633695277, 0.007943612737491711, 0.007679264534404437, 0.005990252289447125, 0.005706152079193382, 0.004940201969231444, 0.003560771529520286, 0.0029948846101768263, 0.0026530476106194265, 0.0023406439345786323, 0.002225688934619744, 0.0016863350485177534, 0.0012884813396579506, 0.000284709114704987, 0.0001544214353363094], \"y\": [\"http_header_content-encoding_gzip\", \"http_header_content-length\", \"http_header_transfer-encoding_chunked\", \"http_header_server_apache\", \"http_header_cache-control_set_max-age\", \"http_header_pragmano-cache\", \"http_header_via_1.1\", \"http_header_cache-control_set_private\", \"http_header_vary_age\", \"http_header_connection_keep-alive\", \"http_header_cache-control_set_no-store\", \"http_header_vary_accept\", \"http_header_connection_close\", \"http_header_server_nginx\", \"http_header_expect-ctmax-age\", \"http_header_content-language_text/html\", \"http_header_x-xss-enabled\", \"http_header_strict-transport-security_max-age\", \"http_header_cache-control_set_must-revalidate\", \"http_header_x-cintent-type-options_nosniff\", \"http_header_cache-control_set_no-cache\", \"http_header_cache-control_set_public\"], \"type\": \"bar\", \"uid\": \"079cdb0b-b844-40f0-b9d8-a70321e90a2e\"}], {\"autosize\": false, \"height\": 1000, \"width\": 1000, \"xaxis\": {\"tickfont\": {\"color\": \"black\", \"size\": 12}, \"title\": \"Feature Importances\"}, \"yaxis\": {\"automargin\": true}}, {\"showLink\": true, \"linkText\": \"Export to plot.ly\", \"plotlyServerURL\": \"https://plot.ly\"})});</script>"
      ]
     },
     "metadata": {},
     "output_type": "display_data"
    },
    {
     "name": "stdout",
     "output_type": "stream",
     "text": [
      "\n",
      "\n",
      "\u001b[1mExtraTree Classifier\u001b[0m\n",
      "Accuracy of the model for training data is: 0.9304502369668246\n",
      "Confusion Matrix for training data is:\n"
     ]
    },
    {
     "data": {
      "text/plain": [
       "Predicted  False  True  __all__\n",
       "Actual                         \n",
       "False       3792   428     4220\n",
       "True         159  4061     4220\n",
       "__all__     3951  4489     8440"
      ]
     },
     "metadata": {},
     "output_type": "display_data"
    },
    {
     "name": "stdout",
     "output_type": "stream",
     "text": [
      "Accuracy of the model for test data is: 0.8733643501017738\n",
      "Confusion Matrix for test data is:\n"
     ]
    },
    {
     "data": {
      "text/plain": [
       "Predicted  False  True  __all__\n",
       "Actual                         \n",
       "False      10347  1608    11955\n",
       "True         134  1667     1801\n",
       "__all__    10481  3275    13756"
      ]
     },
     "metadata": {},
     "output_type": "display_data"
    },
    {
     "data": {
      "application/vnd.plotly.v1+json": {
       "config": {
        "linkText": "Export to plot.ly",
        "plotlyServerURL": "https://plot.ly",
        "showLink": true
       },
       "data": [
        {
         "marker": {
          "color": "rgb(158,202,225)",
          "line": {
           "color": "rgb(8,48,107)",
           "width": 1.5
          }
         },
         "opacity": 0.6,
         "orientation": "h",
         "text": [
          0.271,
          0.1386,
          0.1076,
          0.1056,
          0.0564,
          0.0497,
          0.0292,
          0.0283,
          0.0259,
          0.0258,
          0.0252,
          0.0226,
          0.0194,
          0.016,
          0.0145,
          0.0133,
          0.0113,
          0.0112,
          0.01,
          0.0087,
          0.006,
          0.0037
         ],
         "textposition": "outside",
         "type": "bar",
         "uid": "3be28e27-76b5-48bf-8b75-0e1050aeecad",
         "x": [
          0.2710011294832548,
          0.13861960389207234,
          0.10760520827704152,
          0.10556476702562385,
          0.05638807111882162,
          0.04966164733196849,
          0.029231804892319226,
          0.028255366243019463,
          0.025909996621947446,
          0.025809799679272133,
          0.025241322496626008,
          0.02256640076219995,
          0.01936299994925502,
          0.015991309966057857,
          0.014522699563437486,
          0.013330565805423735,
          0.011267484762834111,
          0.01119151822956604,
          0.010003984821577338,
          0.008717622712144078,
          0.00604353165897851,
          0.003713164706559003
         ],
         "y": [
          "http_header_content-encoding_gzip",
          "http_header_content-length",
          "http_header_transfer-encoding_chunked",
          "http_header_vary_accept",
          "http_header_cache-control_set_max-age",
          "http_header_server_apache",
          "http_header_content-language_text/html",
          "http_header_server_nginx",
          "http_header_pragmano-cache",
          "http_header_connection_keep-alive",
          "http_header_cache-control_set_no-cache",
          "http_header_vary_age",
          "http_header_cache-control_set_private",
          "http_header_cache-control_set_must-revalidate",
          "http_header_cache-control_set_no-store",
          "http_header_via_1.1",
          "http_header_connection_close",
          "http_header_strict-transport-security_max-age",
          "http_header_expect-ctmax-age",
          "http_header_x-xss-enabled",
          "http_header_x-cintent-type-options_nosniff",
          "http_header_cache-control_set_public"
         ]
        }
       ],
       "layout": {
        "autosize": false,
        "height": 1000,
        "width": 1000,
        "xaxis": {
         "tickfont": {
          "color": "black",
          "size": 12
         },
         "title": "Feature Importances"
        },
        "yaxis": {
         "automargin": true
        }
       }
      },
      "text/html": [
       "<div id=\"1929d990-7c6c-4019-946f-5b3c66a3998c\" style=\"height: 1000px; width: 1000px;\" class=\"plotly-graph-div\"></div><script type=\"text/javascript\">require([\"plotly\"], function(Plotly) { window.PLOTLYENV=window.PLOTLYENV || {};window.PLOTLYENV.BASE_URL=\"https://plot.ly\";Plotly.newPlot(\"1929d990-7c6c-4019-946f-5b3c66a3998c\", [{\"marker\": {\"color\": \"rgb(158,202,225)\", \"line\": {\"color\": \"rgb(8,48,107)\", \"width\": 1.5}}, \"opacity\": 0.6, \"orientation\": \"h\", \"text\": [0.271, 0.1386, 0.1076, 0.1056, 0.0564, 0.0497, 0.0292, 0.0283, 0.0259, 0.0258, 0.0252, 0.0226, 0.0194, 0.016, 0.0145, 0.0133, 0.0113, 0.0112, 0.01, 0.0087, 0.006, 0.0037], \"textposition\": \"outside\", \"x\": [0.2710011294832548, 0.13861960389207234, 0.10760520827704152, 0.10556476702562385, 0.05638807111882162, 0.04966164733196849, 0.029231804892319226, 0.028255366243019463, 0.025909996621947446, 0.025809799679272133, 0.025241322496626008, 0.02256640076219995, 0.01936299994925502, 0.015991309966057857, 0.014522699563437486, 0.013330565805423735, 0.011267484762834111, 0.01119151822956604, 0.010003984821577338, 0.008717622712144078, 0.00604353165897851, 0.003713164706559003], \"y\": [\"http_header_content-encoding_gzip\", \"http_header_content-length\", \"http_header_transfer-encoding_chunked\", \"http_header_vary_accept\", \"http_header_cache-control_set_max-age\", \"http_header_server_apache\", \"http_header_content-language_text/html\", \"http_header_server_nginx\", \"http_header_pragmano-cache\", \"http_header_connection_keep-alive\", \"http_header_cache-control_set_no-cache\", \"http_header_vary_age\", \"http_header_cache-control_set_private\", \"http_header_cache-control_set_must-revalidate\", \"http_header_cache-control_set_no-store\", \"http_header_via_1.1\", \"http_header_connection_close\", \"http_header_strict-transport-security_max-age\", \"http_header_expect-ctmax-age\", \"http_header_x-xss-enabled\", \"http_header_x-cintent-type-options_nosniff\", \"http_header_cache-control_set_public\"], \"type\": \"bar\", \"uid\": \"3be28e27-76b5-48bf-8b75-0e1050aeecad\"}], {\"autosize\": false, \"height\": 1000, \"width\": 1000, \"xaxis\": {\"tickfont\": {\"color\": \"black\", \"size\": 12}, \"title\": \"Feature Importances\"}, \"yaxis\": {\"automargin\": true}}, {\"showLink\": true, \"linkText\": \"Export to plot.ly\", \"plotlyServerURL\": \"https://plot.ly\"})});</script>"
      ],
      "text/vnd.plotly.v1+html": [
       "<div id=\"1929d990-7c6c-4019-946f-5b3c66a3998c\" style=\"height: 1000px; width: 1000px;\" class=\"plotly-graph-div\"></div><script type=\"text/javascript\">require([\"plotly\"], function(Plotly) { window.PLOTLYENV=window.PLOTLYENV || {};window.PLOTLYENV.BASE_URL=\"https://plot.ly\";Plotly.newPlot(\"1929d990-7c6c-4019-946f-5b3c66a3998c\", [{\"marker\": {\"color\": \"rgb(158,202,225)\", \"line\": {\"color\": \"rgb(8,48,107)\", \"width\": 1.5}}, \"opacity\": 0.6, \"orientation\": \"h\", \"text\": [0.271, 0.1386, 0.1076, 0.1056, 0.0564, 0.0497, 0.0292, 0.0283, 0.0259, 0.0258, 0.0252, 0.0226, 0.0194, 0.016, 0.0145, 0.0133, 0.0113, 0.0112, 0.01, 0.0087, 0.006, 0.0037], \"textposition\": \"outside\", \"x\": [0.2710011294832548, 0.13861960389207234, 0.10760520827704152, 0.10556476702562385, 0.05638807111882162, 0.04966164733196849, 0.029231804892319226, 0.028255366243019463, 0.025909996621947446, 0.025809799679272133, 0.025241322496626008, 0.02256640076219995, 0.01936299994925502, 0.015991309966057857, 0.014522699563437486, 0.013330565805423735, 0.011267484762834111, 0.01119151822956604, 0.010003984821577338, 0.008717622712144078, 0.00604353165897851, 0.003713164706559003], \"y\": [\"http_header_content-encoding_gzip\", \"http_header_content-length\", \"http_header_transfer-encoding_chunked\", \"http_header_vary_accept\", \"http_header_cache-control_set_max-age\", \"http_header_server_apache\", \"http_header_content-language_text/html\", \"http_header_server_nginx\", \"http_header_pragmano-cache\", \"http_header_connection_keep-alive\", \"http_header_cache-control_set_no-cache\", \"http_header_vary_age\", \"http_header_cache-control_set_private\", \"http_header_cache-control_set_must-revalidate\", \"http_header_cache-control_set_no-store\", \"http_header_via_1.1\", \"http_header_connection_close\", \"http_header_strict-transport-security_max-age\", \"http_header_expect-ctmax-age\", \"http_header_x-xss-enabled\", \"http_header_x-cintent-type-options_nosniff\", \"http_header_cache-control_set_public\"], \"type\": \"bar\", \"uid\": \"3be28e27-76b5-48bf-8b75-0e1050aeecad\"}], {\"autosize\": false, \"height\": 1000, \"width\": 1000, \"xaxis\": {\"tickfont\": {\"color\": \"black\", \"size\": 12}, \"title\": \"Feature Importances\"}, \"yaxis\": {\"automargin\": true}}, {\"showLink\": true, \"linkText\": \"Export to plot.ly\", \"plotlyServerURL\": \"https://plot.ly\"})});</script>"
      ]
     },
     "metadata": {},
     "output_type": "display_data"
    },
    {
     "name": "stdout",
     "output_type": "stream",
     "text": [
      "\n",
      "\n",
      "\u001b[1mBagging Classifier\u001b[0m\n",
      "Accuracy of the model for training data is: 0.9265402843601895\n",
      "Confusion Matrix for training data is:\n"
     ]
    },
    {
     "data": {
      "text/plain": [
       "Predicted  False  True  __all__\n",
       "Actual                         \n",
       "False       3782   438     4220\n",
       "True         182  4038     4220\n",
       "__all__     3964  4476     8440"
      ]
     },
     "metadata": {},
     "output_type": "display_data"
    },
    {
     "name": "stdout",
     "output_type": "stream",
     "text": [
      "Accuracy of the model for test data is: 0.8715469613259669\n",
      "Confusion Matrix for test data is:\n"
     ]
    },
    {
     "data": {
      "text/plain": [
       "Predicted  False  True  __all__\n",
       "Actual                         \n",
       "False      10325  1630    11955\n",
       "True         137  1664     1801\n",
       "__all__    10462  3294    13756"
      ]
     },
     "metadata": {},
     "output_type": "display_data"
    },
    {
     "name": "stdout",
     "output_type": "stream",
     "text": [
      "\n",
      "\n",
      "\u001b[1mNeural Network-1\u001b[0m\n",
      "The accuracy of the model on training data is: 0.9053317534980051\n"
     ]
    },
    {
     "data": {
      "text/plain": [
       "Predicted  False  True  __all__\n",
       "Actual                         \n",
       "False       3686   534     4220\n",
       "True         265  3955     4220\n",
       "__all__     3951  4489     8440"
      ]
     },
     "metadata": {},
     "output_type": "display_data"
    },
    {
     "name": "stdout",
     "output_type": "stream",
     "text": [
      "The accuracy of the model on test data is: 0.8701657458563536\n"
     ]
    },
    {
     "data": {
      "text/plain": [
       "Predicted  False  True  __all__\n",
       "Actual                         \n",
       "False      10306  1649    11955\n",
       "True         137  1664     1801\n",
       "__all__    10443  3313    13756"
      ]
     },
     "metadata": {},
     "output_type": "display_data"
    },
    {
     "name": "stdout",
     "output_type": "stream",
     "text": [
      "\n",
      "\n"
     ]
    }
   ],
   "source": [
    "feat_imp=[None]*4\n",
    "j=0\n",
    "for i in range(0,8):\n",
    "    if i>=2 and i<=5:\n",
    "        model,cm_train,cm_test,acc_train,acc_test,roc_auc,feat_imp[j],mcc=f[i](X_train,Y_train,scaled_X_test,test_Y,columns[:-2])\n",
    "        j=j+1\n",
    "    else:\n",
    "        model,cm_train,cm_test,acc_train,acc_test,roc_auc,mcc=f[i](X_train,Y_train,scaled_X_test,test_Y)\n",
    "    table_80_90_train.loc[i]=   ([acc_train,cm_train.TP,cm_train.TN,cm_train.FP,cm_train.FN,cm_train.FPR,cm_train.FNR])\n",
    "    table_80_90_test.loc[i] =   ([acc_test ,cm_test.TP, cm_test.TN, cm_test.FP, cm_test.FN, cm_test.FPR, cm_test.FNR,roc_auc,mcc])\n",
    "    print(\"\\n\")"
   ]
  },
  {
   "cell_type": "markdown",
   "metadata": {},
   "source": [
    "### <a id='3.A' style=\"text-decoration : none; color : #000000;\"> A. Results</a>"
   ]
  },
  {
   "cell_type": "code",
   "execution_count": 36,
   "metadata": {},
   "outputs": [
    {
     "data": {
      "application/vnd.plotly.v1+json": {
       "config": {
        "linkText": "Export to plot.ly",
        "plotlyServerURL": "https://plot.ly",
        "showLink": true
       },
       "data": [
        {
         "mode": "lines",
         "name": "KNN_model",
         "type": "scatter",
         "uid": "aa9fa661-fd16-4985-9ce0-095a63d26d8c",
         "x": [
          "accuracy",
          "FPR",
          "FNR",
          "auc"
         ],
         "y": [
          0.8867403314917127,
          0.10941028858218318,
          0.138811771238201,
          0.8758889700898079
         ]
        },
        {
         "mode": "lines+markers",
         "name": "Logistic Regression",
         "type": "scatter",
         "uid": "6ff2d581-2e8e-4d24-8150-f04b73a8a4de",
         "x": [
          "accuracy",
          "FPR",
          "FNR",
          "auc"
         ],
         "y": [
          0.8398517010758941,
          0.16888331242158092,
          0.10216546363131594,
          0.8644756119735516
         ]
        },
        {
         "marker": {
          "symbol": "x"
         },
         "mode": "lines+markers",
         "name": "Random Forest",
         "type": "scatter",
         "uid": "35114f8f-5421-461c-9b25-bba67ad266a3",
         "x": [
          "accuracy",
          "FPR",
          "FNR",
          "auc"
         ],
         "y": [
          0.8756179121837744,
          0.1315767461313258,
          0.07662409772348695,
          0.8958995780725938
         ]
        },
        {
         "mode": "lines",
         "name": "Ada Boost",
         "type": "scatter",
         "uid": "253ba3f6-4baf-4f8d-ad90-9e00d39e1b85",
         "x": [
          "accuracy",
          "FPR",
          "FNR",
          "auc"
         ],
         "y": [
          0.8466850828729282,
          0.1602676704307821,
          0.10716268739589117,
          0.8662848210866634
         ]
        },
        {
         "mode": "lines+markers",
         "name": "GradientBoosting",
         "type": "scatter",
         "uid": "29205ac3-4d95-469e-82f2-105f8f1b67d8",
         "x": [
          "accuracy",
          "FPR",
          "FNR",
          "auc"
         ],
         "y": [
          0.8758359988368711,
          0.1273107486407361,
          0.10327595780122155,
          0.8847066467790212
         ]
        },
        {
         "marker": {
          "symbol": "x"
         },
         "mode": "lines+markers",
         "name": "ExtraTree Classifier",
         "type": "scatter",
         "uid": "2311cac7-74e7-4be5-a871-48d76f9be671",
         "x": [
          "accuracy",
          "FPR",
          "FNR",
          "auc"
         ],
         "y": [
          0.8733643501017738,
          0.13450439146800502,
          0.07440310938367574,
          0.8955462495741595
         ]
        },
        {
         "marker": {
          "symbol": "x"
         },
         "mode": "lines+markers",
         "name": "Bagging",
         "type": "scatter",
         "uid": "ea395f24-b0e3-4fc8-bd8c-7c29bc461ddc",
         "x": [
          "accuracy",
          "FPR",
          "FNR",
          "auc"
         ],
         "y": [
          0.8715469613259669,
          0.13634462567963196,
          0.07606885063853415,
          0.893793261840917
         ]
        },
        {
         "marker": {
          "symbol": "x"
         },
         "mode": "lines+markers",
         "name": "Neural Network",
         "type": "scatter",
         "uid": "b1fac318-fa7c-4521-af67-9677cb1f55e6",
         "x": [
          "accuracy",
          "FPR",
          "FNR",
          "auc"
         ],
         "y": [
          0.8701657458563536,
          0.13793391886240067,
          0.07606885063853415,
          0.893793261840917
         ]
        }
       ],
       "layout": {
        "title": "Result comparision for Features selected in Section 1",
        "yaxis": {
         "dtick": 0.05,
         "tick0": 0
        }
       }
      },
      "text/html": [
       "<div id=\"814fe671-91f1-4157-ae6d-a85d9649bb12\" style=\"height: 525px; width: 100%;\" class=\"plotly-graph-div\"></div><script type=\"text/javascript\">require([\"plotly\"], function(Plotly) { window.PLOTLYENV=window.PLOTLYENV || {};window.PLOTLYENV.BASE_URL=\"https://plot.ly\";Plotly.newPlot(\"814fe671-91f1-4157-ae6d-a85d9649bb12\", [{\"mode\": \"lines\", \"name\": \"KNN_model\", \"x\": [\"accuracy\", \"FPR\", \"FNR\", \"auc\"], \"y\": [0.8867403314917127, 0.10941028858218318, 0.138811771238201, 0.8758889700898079], \"type\": \"scatter\", \"uid\": \"aa9fa661-fd16-4985-9ce0-095a63d26d8c\"}, {\"mode\": \"lines+markers\", \"name\": \"Logistic Regression\", \"x\": [\"accuracy\", \"FPR\", \"FNR\", \"auc\"], \"y\": [0.8398517010758941, 0.16888331242158092, 0.10216546363131594, 0.8644756119735516], \"type\": \"scatter\", \"uid\": \"6ff2d581-2e8e-4d24-8150-f04b73a8a4de\"}, {\"marker\": {\"symbol\": \"x\"}, \"mode\": \"lines+markers\", \"name\": \"Random Forest\", \"x\": [\"accuracy\", \"FPR\", \"FNR\", \"auc\"], \"y\": [0.8756179121837744, 0.1315767461313258, 0.07662409772348695, 0.8958995780725938], \"type\": \"scatter\", \"uid\": \"35114f8f-5421-461c-9b25-bba67ad266a3\"}, {\"mode\": \"lines\", \"name\": \"Ada Boost\", \"x\": [\"accuracy\", \"FPR\", \"FNR\", \"auc\"], \"y\": [0.8466850828729282, 0.1602676704307821, 0.10716268739589117, 0.8662848210866634], \"type\": \"scatter\", \"uid\": \"253ba3f6-4baf-4f8d-ad90-9e00d39e1b85\"}, {\"mode\": \"lines+markers\", \"name\": \"GradientBoosting\", \"x\": [\"accuracy\", \"FPR\", \"FNR\", \"auc\"], \"y\": [0.8758359988368711, 0.1273107486407361, 0.10327595780122155, 0.8847066467790212], \"type\": \"scatter\", \"uid\": \"29205ac3-4d95-469e-82f2-105f8f1b67d8\"}, {\"marker\": {\"symbol\": \"x\"}, \"mode\": \"lines+markers\", \"name\": \"ExtraTree Classifier\", \"x\": [\"accuracy\", \"FPR\", \"FNR\", \"auc\"], \"y\": [0.8733643501017738, 0.13450439146800502, 0.07440310938367574, 0.8955462495741595], \"type\": \"scatter\", \"uid\": \"2311cac7-74e7-4be5-a871-48d76f9be671\"}, {\"marker\": {\"symbol\": \"x\"}, \"mode\": \"lines+markers\", \"name\": \"Bagging\", \"x\": [\"accuracy\", \"FPR\", \"FNR\", \"auc\"], \"y\": [0.8715469613259669, 0.13634462567963196, 0.07606885063853415, 0.893793261840917], \"type\": \"scatter\", \"uid\": \"ea395f24-b0e3-4fc8-bd8c-7c29bc461ddc\"}, {\"marker\": {\"symbol\": \"x\"}, \"mode\": \"lines+markers\", \"name\": \"Neural Network\", \"x\": [\"accuracy\", \"FPR\", \"FNR\", \"auc\"], \"y\": [0.8701657458563536, 0.13793391886240067, 0.07606885063853415, 0.893793261840917], \"type\": \"scatter\", \"uid\": \"b1fac318-fa7c-4521-af67-9677cb1f55e6\"}], {\"title\": \"Result comparision for Features selected in Section 1\", \"yaxis\": {\"dtick\": 0.05, \"tick0\": 0}}, {\"showLink\": true, \"linkText\": \"Export to plot.ly\", \"plotlyServerURL\": \"https://plot.ly\"})});</script><script type=\"text/javascript\">window.addEventListener(\"resize\", function(){window._Plotly.Plots.resize(document.getElementById(\"814fe671-91f1-4157-ae6d-a85d9649bb12\"));});</script>"
      ],
      "text/vnd.plotly.v1+html": [
       "<div id=\"814fe671-91f1-4157-ae6d-a85d9649bb12\" style=\"height: 525px; width: 100%;\" class=\"plotly-graph-div\"></div><script type=\"text/javascript\">require([\"plotly\"], function(Plotly) { window.PLOTLYENV=window.PLOTLYENV || {};window.PLOTLYENV.BASE_URL=\"https://plot.ly\";Plotly.newPlot(\"814fe671-91f1-4157-ae6d-a85d9649bb12\", [{\"mode\": \"lines\", \"name\": \"KNN_model\", \"x\": [\"accuracy\", \"FPR\", \"FNR\", \"auc\"], \"y\": [0.8867403314917127, 0.10941028858218318, 0.138811771238201, 0.8758889700898079], \"type\": \"scatter\", \"uid\": \"aa9fa661-fd16-4985-9ce0-095a63d26d8c\"}, {\"mode\": \"lines+markers\", \"name\": \"Logistic Regression\", \"x\": [\"accuracy\", \"FPR\", \"FNR\", \"auc\"], \"y\": [0.8398517010758941, 0.16888331242158092, 0.10216546363131594, 0.8644756119735516], \"type\": \"scatter\", \"uid\": \"6ff2d581-2e8e-4d24-8150-f04b73a8a4de\"}, {\"marker\": {\"symbol\": \"x\"}, \"mode\": \"lines+markers\", \"name\": \"Random Forest\", \"x\": [\"accuracy\", \"FPR\", \"FNR\", \"auc\"], \"y\": [0.8756179121837744, 0.1315767461313258, 0.07662409772348695, 0.8958995780725938], \"type\": \"scatter\", \"uid\": \"35114f8f-5421-461c-9b25-bba67ad266a3\"}, {\"mode\": \"lines\", \"name\": \"Ada Boost\", \"x\": [\"accuracy\", \"FPR\", \"FNR\", \"auc\"], \"y\": [0.8466850828729282, 0.1602676704307821, 0.10716268739589117, 0.8662848210866634], \"type\": \"scatter\", \"uid\": \"253ba3f6-4baf-4f8d-ad90-9e00d39e1b85\"}, {\"mode\": \"lines+markers\", \"name\": \"GradientBoosting\", \"x\": [\"accuracy\", \"FPR\", \"FNR\", \"auc\"], \"y\": [0.8758359988368711, 0.1273107486407361, 0.10327595780122155, 0.8847066467790212], \"type\": \"scatter\", \"uid\": \"29205ac3-4d95-469e-82f2-105f8f1b67d8\"}, {\"marker\": {\"symbol\": \"x\"}, \"mode\": \"lines+markers\", \"name\": \"ExtraTree Classifier\", \"x\": [\"accuracy\", \"FPR\", \"FNR\", \"auc\"], \"y\": [0.8733643501017738, 0.13450439146800502, 0.07440310938367574, 0.8955462495741595], \"type\": \"scatter\", \"uid\": \"2311cac7-74e7-4be5-a871-48d76f9be671\"}, {\"marker\": {\"symbol\": \"x\"}, \"mode\": \"lines+markers\", \"name\": \"Bagging\", \"x\": [\"accuracy\", \"FPR\", \"FNR\", \"auc\"], \"y\": [0.8715469613259669, 0.13634462567963196, 0.07606885063853415, 0.893793261840917], \"type\": \"scatter\", \"uid\": \"ea395f24-b0e3-4fc8-bd8c-7c29bc461ddc\"}, {\"marker\": {\"symbol\": \"x\"}, \"mode\": \"lines+markers\", \"name\": \"Neural Network\", \"x\": [\"accuracy\", \"FPR\", \"FNR\", \"auc\"], \"y\": [0.8701657458563536, 0.13793391886240067, 0.07606885063853415, 0.893793261840917], \"type\": \"scatter\", \"uid\": \"b1fac318-fa7c-4521-af67-9677cb1f55e6\"}], {\"title\": \"Result comparision for Features selected in Section 1\", \"yaxis\": {\"dtick\": 0.05, \"tick0\": 0}}, {\"showLink\": true, \"linkText\": \"Export to plot.ly\", \"plotlyServerURL\": \"https://plot.ly\"})});</script><script type=\"text/javascript\">window.addEventListener(\"resize\", function(){window._Plotly.Plots.resize(document.getElementById(\"814fe671-91f1-4157-ae6d-a85d9649bb12\"));});</script>"
      ]
     },
     "metadata": {},
     "output_type": "display_data"
    }
   ],
   "source": [
    "trace0 = go.Scatter(x=table_80_90_test.iloc[0].index.values[[0,5,6,7]],\n",
    "                    y=table_80_90_test.iloc[0].values[[0,5,6,7]],\n",
    "                    mode = 'lines',\n",
    "                    name = 'KNN_model')\n",
    "\n",
    "trace1 = go.Scatter(x=table_80_90_test.iloc[1].index.values[[0,5,6,7]],\n",
    "                    y=table_80_90_test.iloc[1].values[[0,5,6,7]],\n",
    "                    mode = 'lines+markers',\n",
    "                    name = 'Logistic Regression')\n",
    "\n",
    "trace2 = go.Scatter(x=table_80_90_test.iloc[2].index.values[[0,5,6,7]],\n",
    "                    y=table_80_90_test.iloc[2].values[[0,5,6,7]],\n",
    "                    mode = 'lines+markers',marker=dict(symbol='x'),\n",
    "                    name = 'Random Forest')\n",
    "\n",
    "\n",
    "trace3 = go.Scatter(x=table_80_90_test.iloc[3].index.values[[0,5,6,7]],\n",
    "                    y=table_80_90_test.iloc[3].values[[0,5,6,7]],\n",
    "                    mode = 'lines',\n",
    "                    name = 'Ada Boost')\n",
    "\n",
    "trace4 = go.Scatter(x=table_80_90_test.iloc[4].index.values[[0,5,6,7]],\n",
    "                    y=table_80_90_test.iloc[4].values[[0,5,6,7]],\n",
    "                    mode = 'lines+markers',\n",
    "                    name = 'GradientBoosting')\n",
    "\n",
    "trace5 = go.Scatter(x=table_80_90_test.iloc[5].index.values[[0,5,6,7]],\n",
    "                    y=table_80_90_test.iloc[5].values[[0,5,6,7]],\n",
    "                    mode = 'lines+markers',marker=dict(symbol='x'),\n",
    "                    name = 'ExtraTree Classifier')\n",
    "\n",
    "trace6 = go.Scatter(x=table_80_90_test.iloc[6].index.values[[0,5,6,7]],\n",
    "                    y=table_80_90_test.iloc[6].values[[0,5,6,7]],\n",
    "                    mode = 'lines+markers',marker=dict(symbol='x'),\n",
    "                    name = 'Bagging')\n",
    "\n",
    "trace7 = go.Scatter(x=table_80_90_test.iloc[7].index.values[[0,5,6,7]],\n",
    "                    y=table_80_90_test.iloc[7].values[[0,5,6,7]],\n",
    "                    mode = 'lines+markers',marker=dict(symbol='x'),\n",
    "                    name = 'Neural Network')\n",
    "\n",
    "\n",
    "\n",
    "data = [trace0, trace1, trace2, trace3, trace4, trace5, trace6, trace7]\n",
    "layout = go.Layout(yaxis=dict(tick0=0,dtick=0.05),title='Result comparision for Features selected in Section 1')\n",
    "fig = go.Figure(data=data, layout=layout)\n",
    "\n",
    "iplot(fig, filename='Result')"
   ]
  },
  {
   "cell_type": "code",
   "execution_count": 37,
   "metadata": {},
   "outputs": [
    {
     "name": "stdout",
     "output_type": "stream",
     "text": [
      "Training Results\n"
     ]
    },
    {
     "data": {
      "text/html": [
       "<div>\n",
       "<style scoped>\n",
       "    .dataframe tbody tr th:only-of-type {\n",
       "        vertical-align: middle;\n",
       "    }\n",
       "\n",
       "    .dataframe tbody tr th {\n",
       "        vertical-align: top;\n",
       "    }\n",
       "\n",
       "    .dataframe thead th {\n",
       "        text-align: right;\n",
       "    }\n",
       "</style>\n",
       "<table border=\"1\" class=\"dataframe\">\n",
       "  <thead>\n",
       "    <tr style=\"text-align: right;\">\n",
       "      <th></th>\n",
       "      <th>accuracy</th>\n",
       "      <th>TP</th>\n",
       "      <th>TN</th>\n",
       "      <th>FP</th>\n",
       "      <th>FN</th>\n",
       "      <th>FPR</th>\n",
       "      <th>FNR</th>\n",
       "    </tr>\n",
       "    <tr>\n",
       "      <th>index</th>\n",
       "      <th></th>\n",
       "      <th></th>\n",
       "      <th></th>\n",
       "      <th></th>\n",
       "      <th></th>\n",
       "      <th></th>\n",
       "      <th></th>\n",
       "    </tr>\n",
       "  </thead>\n",
       "  <tbody>\n",
       "    <tr>\n",
       "      <th>KNeighborsClassifier</th>\n",
       "      <td>0.891706</td>\n",
       "      <td>3694.0</td>\n",
       "      <td>3832.0</td>\n",
       "      <td>388.0</td>\n",
       "      <td>526.0</td>\n",
       "      <td>0.091943</td>\n",
       "      <td>0.124645</td>\n",
       "    </tr>\n",
       "    <tr>\n",
       "      <th>LogisticRegression</th>\n",
       "      <td>0.867062</td>\n",
       "      <td>3803.0</td>\n",
       "      <td>3515.0</td>\n",
       "      <td>705.0</td>\n",
       "      <td>417.0</td>\n",
       "      <td>0.167062</td>\n",
       "      <td>0.098815</td>\n",
       "    </tr>\n",
       "    <tr>\n",
       "      <th>RandomForestClassifier</th>\n",
       "      <td>0.927370</td>\n",
       "      <td>4048.0</td>\n",
       "      <td>3779.0</td>\n",
       "      <td>441.0</td>\n",
       "      <td>172.0</td>\n",
       "      <td>0.104502</td>\n",
       "      <td>0.040758</td>\n",
       "    </tr>\n",
       "    <tr>\n",
       "      <th>AdaBoostClassifier</th>\n",
       "      <td>0.869668</td>\n",
       "      <td>3785.0</td>\n",
       "      <td>3555.0</td>\n",
       "      <td>665.0</td>\n",
       "      <td>435.0</td>\n",
       "      <td>0.157583</td>\n",
       "      <td>0.103081</td>\n",
       "    </tr>\n",
       "    <tr>\n",
       "      <th>GradientBoostingClassifier</th>\n",
       "      <td>0.890166</td>\n",
       "      <td>3797.0</td>\n",
       "      <td>3716.0</td>\n",
       "      <td>504.0</td>\n",
       "      <td>423.0</td>\n",
       "      <td>0.119431</td>\n",
       "      <td>0.100237</td>\n",
       "    </tr>\n",
       "    <tr>\n",
       "      <th>ExtraTreeClassifier</th>\n",
       "      <td>0.930450</td>\n",
       "      <td>4061.0</td>\n",
       "      <td>3792.0</td>\n",
       "      <td>428.0</td>\n",
       "      <td>159.0</td>\n",
       "      <td>0.101422</td>\n",
       "      <td>0.037678</td>\n",
       "    </tr>\n",
       "    <tr>\n",
       "      <th>BaggingClassifier</th>\n",
       "      <td>0.926540</td>\n",
       "      <td>4038.0</td>\n",
       "      <td>3782.0</td>\n",
       "      <td>438.0</td>\n",
       "      <td>182.0</td>\n",
       "      <td>0.103791</td>\n",
       "      <td>0.043128</td>\n",
       "    </tr>\n",
       "    <tr>\n",
       "      <th>Neural Network-1</th>\n",
       "      <td>0.905332</td>\n",
       "      <td>3955.0</td>\n",
       "      <td>3686.0</td>\n",
       "      <td>534.0</td>\n",
       "      <td>265.0</td>\n",
       "      <td>0.126540</td>\n",
       "      <td>0.062796</td>\n",
       "    </tr>\n",
       "  </tbody>\n",
       "</table>\n",
       "</div>"
      ],
      "text/plain": [
       "                            accuracy      TP      TN     FP     FN       FPR  \\\n",
       "index                                                                          \n",
       "KNeighborsClassifier        0.891706  3694.0  3832.0  388.0  526.0  0.091943   \n",
       "LogisticRegression          0.867062  3803.0  3515.0  705.0  417.0  0.167062   \n",
       "RandomForestClassifier      0.927370  4048.0  3779.0  441.0  172.0  0.104502   \n",
       "AdaBoostClassifier          0.869668  3785.0  3555.0  665.0  435.0  0.157583   \n",
       "GradientBoostingClassifier  0.890166  3797.0  3716.0  504.0  423.0  0.119431   \n",
       "ExtraTreeClassifier         0.930450  4061.0  3792.0  428.0  159.0  0.101422   \n",
       "BaggingClassifier           0.926540  4038.0  3782.0  438.0  182.0  0.103791   \n",
       "Neural Network-1            0.905332  3955.0  3686.0  534.0  265.0  0.126540   \n",
       "\n",
       "                                 FNR  \n",
       "index                                 \n",
       "KNeighborsClassifier        0.124645  \n",
       "LogisticRegression          0.098815  \n",
       "RandomForestClassifier      0.040758  \n",
       "AdaBoostClassifier          0.103081  \n",
       "GradientBoostingClassifier  0.100237  \n",
       "ExtraTreeClassifier         0.037678  \n",
       "BaggingClassifier           0.043128  \n",
       "Neural Network-1            0.062796  "
      ]
     },
     "metadata": {},
     "output_type": "display_data"
    },
    {
     "name": "stdout",
     "output_type": "stream",
     "text": [
      "Test Results\n"
     ]
    },
    {
     "data": {
      "text/html": [
       "<div>\n",
       "<style scoped>\n",
       "    .dataframe tbody tr th:only-of-type {\n",
       "        vertical-align: middle;\n",
       "    }\n",
       "\n",
       "    .dataframe tbody tr th {\n",
       "        vertical-align: top;\n",
       "    }\n",
       "\n",
       "    .dataframe thead th {\n",
       "        text-align: right;\n",
       "    }\n",
       "</style>\n",
       "<table border=\"1\" class=\"dataframe\">\n",
       "  <thead>\n",
       "    <tr style=\"text-align: right;\">\n",
       "      <th></th>\n",
       "      <th>accuracy</th>\n",
       "      <th>TP</th>\n",
       "      <th>TN</th>\n",
       "      <th>FP</th>\n",
       "      <th>FN</th>\n",
       "      <th>FPR</th>\n",
       "      <th>FNR</th>\n",
       "      <th>auc</th>\n",
       "      <th>mcc</th>\n",
       "    </tr>\n",
       "    <tr>\n",
       "      <th>index</th>\n",
       "      <th></th>\n",
       "      <th></th>\n",
       "      <th></th>\n",
       "      <th></th>\n",
       "      <th></th>\n",
       "      <th></th>\n",
       "      <th></th>\n",
       "      <th></th>\n",
       "      <th></th>\n",
       "    </tr>\n",
       "  </thead>\n",
       "  <tbody>\n",
       "    <tr>\n",
       "      <th>KNeighborsClassifier</th>\n",
       "      <td>0.886740</td>\n",
       "      <td>1551.0</td>\n",
       "      <td>10647.0</td>\n",
       "      <td>1308.0</td>\n",
       "      <td>250.0</td>\n",
       "      <td>0.109410</td>\n",
       "      <td>0.138812</td>\n",
       "      <td>0.875889</td>\n",
       "      <td>0.624972</td>\n",
       "    </tr>\n",
       "    <tr>\n",
       "      <th>LogisticRegression</th>\n",
       "      <td>0.839852</td>\n",
       "      <td>1617.0</td>\n",
       "      <td>9936.0</td>\n",
       "      <td>2019.0</td>\n",
       "      <td>184.0</td>\n",
       "      <td>0.168883</td>\n",
       "      <td>0.102165</td>\n",
       "      <td>0.864476</td>\n",
       "      <td>0.557607</td>\n",
       "    </tr>\n",
       "    <tr>\n",
       "      <th>RandomForestClassifier</th>\n",
       "      <td>0.875618</td>\n",
       "      <td>1663.0</td>\n",
       "      <td>10382.0</td>\n",
       "      <td>1573.0</td>\n",
       "      <td>138.0</td>\n",
       "      <td>0.131577</td>\n",
       "      <td>0.076624</td>\n",
       "      <td>0.895900</td>\n",
       "      <td>0.629701</td>\n",
       "    </tr>\n",
       "    <tr>\n",
       "      <th>AdaBoostClassifier</th>\n",
       "      <td>0.846685</td>\n",
       "      <td>1608.0</td>\n",
       "      <td>10039.0</td>\n",
       "      <td>1916.0</td>\n",
       "      <td>193.0</td>\n",
       "      <td>0.160268</td>\n",
       "      <td>0.107163</td>\n",
       "      <td>0.866285</td>\n",
       "      <td>0.566086</td>\n",
       "    </tr>\n",
       "    <tr>\n",
       "      <th>GradientBoostingClassifier</th>\n",
       "      <td>0.875836</td>\n",
       "      <td>1615.0</td>\n",
       "      <td>10433.0</td>\n",
       "      <td>1522.0</td>\n",
       "      <td>186.0</td>\n",
       "      <td>0.127311</td>\n",
       "      <td>0.103276</td>\n",
       "      <td>0.884707</td>\n",
       "      <td>0.618575</td>\n",
       "    </tr>\n",
       "    <tr>\n",
       "      <th>ExtraTreeClassifier</th>\n",
       "      <td>0.873364</td>\n",
       "      <td>1667.0</td>\n",
       "      <td>10347.0</td>\n",
       "      <td>1608.0</td>\n",
       "      <td>134.0</td>\n",
       "      <td>0.134504</td>\n",
       "      <td>0.074403</td>\n",
       "      <td>0.895546</td>\n",
       "      <td>0.626544</td>\n",
       "    </tr>\n",
       "    <tr>\n",
       "      <th>BaggingClassifier</th>\n",
       "      <td>0.871547</td>\n",
       "      <td>1664.0</td>\n",
       "      <td>10325.0</td>\n",
       "      <td>1630.0</td>\n",
       "      <td>137.0</td>\n",
       "      <td>0.136345</td>\n",
       "      <td>0.076069</td>\n",
       "      <td>0.893793</td>\n",
       "      <td>0.622531</td>\n",
       "    </tr>\n",
       "    <tr>\n",
       "      <th>Neural Network-1</th>\n",
       "      <td>0.870166</td>\n",
       "      <td>1664.0</td>\n",
       "      <td>10306.0</td>\n",
       "      <td>1649.0</td>\n",
       "      <td>137.0</td>\n",
       "      <td>0.137934</td>\n",
       "      <td>0.076069</td>\n",
       "      <td>0.893793</td>\n",
       "      <td>0.620054</td>\n",
       "    </tr>\n",
       "  </tbody>\n",
       "</table>\n",
       "</div>"
      ],
      "text/plain": [
       "                            accuracy      TP       TN      FP     FN  \\\n",
       "index                                                                  \n",
       "KNeighborsClassifier        0.886740  1551.0  10647.0  1308.0  250.0   \n",
       "LogisticRegression          0.839852  1617.0   9936.0  2019.0  184.0   \n",
       "RandomForestClassifier      0.875618  1663.0  10382.0  1573.0  138.0   \n",
       "AdaBoostClassifier          0.846685  1608.0  10039.0  1916.0  193.0   \n",
       "GradientBoostingClassifier  0.875836  1615.0  10433.0  1522.0  186.0   \n",
       "ExtraTreeClassifier         0.873364  1667.0  10347.0  1608.0  134.0   \n",
       "BaggingClassifier           0.871547  1664.0  10325.0  1630.0  137.0   \n",
       "Neural Network-1            0.870166  1664.0  10306.0  1649.0  137.0   \n",
       "\n",
       "                                 FPR       FNR       auc       mcc  \n",
       "index                                                               \n",
       "KNeighborsClassifier        0.109410  0.138812  0.875889  0.624972  \n",
       "LogisticRegression          0.168883  0.102165  0.864476  0.557607  \n",
       "RandomForestClassifier      0.131577  0.076624  0.895900  0.629701  \n",
       "AdaBoostClassifier          0.160268  0.107163  0.866285  0.566086  \n",
       "GradientBoostingClassifier  0.127311  0.103276  0.884707  0.618575  \n",
       "ExtraTreeClassifier         0.134504  0.074403  0.895546  0.626544  \n",
       "BaggingClassifier           0.136345  0.076069  0.893793  0.622531  \n",
       "Neural Network-1            0.137934  0.076069  0.893793  0.620054  "
      ]
     },
     "metadata": {},
     "output_type": "display_data"
    }
   ],
   "source": [
    "table_80_90_train['index']=ind_columns\n",
    "table_80_90_test['index']=ind_columns\n",
    "\n",
    "\n",
    "table_80_90_test.set_index(['index'],drop=True,inplace=True)\n",
    "table_80_90_train.set_index(['index'],drop=True,inplace=True)\n",
    "\n",
    "print(\"Training Results\")\n",
    "display(table_80_90_train)\n",
    "print(\"Test Results\")\n",
    "display(table_80_90_test)"
   ]
  },
  {
   "cell_type": "markdown",
   "metadata": {},
   "source": [
    "### <a id='3.B' style=\"text-decoration : none; color : #000000;\"> B. Average Feature Importances</a>"
   ]
  },
  {
   "cell_type": "code",
   "execution_count": 38,
   "metadata": {},
   "outputs": [
    {
     "data": {
      "application/vnd.plotly.v1+json": {
       "config": {
        "linkText": "Export to plot.ly",
        "plotlyServerURL": "https://plot.ly",
        "showLink": true
       },
       "data": [
        {
         "marker": {
          "color": "rgb(158,202,225)",
          "line": {
           "color": "rgb(8,48,107)",
           "width": 1.5
          }
         },
         "opacity": 0.6,
         "orientation": "h",
         "text": [
          0.2841,
          0.253,
          0.0882,
          0.0486,
          0.0482,
          0.0397,
          0.0358,
          0.0245,
          0.0228,
          0.0223,
          0.0179,
          0.017,
          0.0148,
          0.0142,
          0.0115,
          0.0106,
          0.0102,
          0.0089,
          0.0079,
          0.0071,
          0.0068,
          0.006
         ],
         "textposition": "outside",
         "type": "bar",
         "uid": "746fe4ca-c224-4a3b-bd1a-19149a6ae22a",
         "x": [
          0.2840957613225316,
          0.2529615647774093,
          0.08819025300738904,
          0.04860990140491283,
          0.04823601761852027,
          0.03974541409810442,
          0.03579648201899919,
          0.02451512807434214,
          0.022760776601050414,
          0.022282631825895894,
          0.01787283169166696,
          0.016974399612383288,
          0.014768992096129892,
          0.014219815221542849,
          0.01154038119018443,
          0.01056960280931818,
          0.010151001535080539,
          0.008895676158315161,
          0.007859075381555053,
          0.007075532537561423,
          0.006840208442250964,
          0.006038552574856201
         ],
         "y": [
          "http_header_content-encoding_gzip",
          "http_header_content-length",
          "http_header_transfer-encoding_chunked",
          "http_header_vary_accept",
          "http_header_cache-control_set_max-age",
          "http_header_content-language_text/html",
          "http_header_server_apache",
          "http_header_pragmano-cache",
          "http_header_cache-control_set_no-store",
          "http_header_connection_keep-alive",
          "http_header_server_nginx",
          "http_header_cache-control_set_private",
          "http_header_x-cintent-type-options_nosniff",
          "http_header_via_1.1",
          "http_header_vary_age",
          "http_header_expect-ctmax-age",
          "http_header_cache-control_set_no-cache",
          "http_header_x-xss-enabled",
          "http_header_cache-control_set_must-revalidate",
          "http_header_cache-control_set_public",
          "http_header_connection_close",
          "http_header_strict-transport-security_max-age"
         ]
        }
       ],
       "layout": {
        "autosize": false,
        "height": 1000,
        "width": 1000,
        "xaxis": {
         "tickfont": {
          "color": "black",
          "size": 12
         },
         "title": "Feature Importances"
        },
        "yaxis": {
         "automargin": true
        }
       }
      },
      "text/html": [
       "<div id=\"2849f5e9-8d69-43df-beb3-25e43d109bc8\" style=\"height: 1000px; width: 1000px;\" class=\"plotly-graph-div\"></div><script type=\"text/javascript\">require([\"plotly\"], function(Plotly) { window.PLOTLYENV=window.PLOTLYENV || {};window.PLOTLYENV.BASE_URL=\"https://plot.ly\";Plotly.newPlot(\"2849f5e9-8d69-43df-beb3-25e43d109bc8\", [{\"marker\": {\"color\": \"rgb(158,202,225)\", \"line\": {\"color\": \"rgb(8,48,107)\", \"width\": 1.5}}, \"opacity\": 0.6, \"orientation\": \"h\", \"text\": [0.2841, 0.253, 0.0882, 0.0486, 0.0482, 0.0397, 0.0358, 0.0245, 0.0228, 0.0223, 0.0179, 0.017, 0.0148, 0.0142, 0.0115, 0.0106, 0.0102, 0.0089, 0.0079, 0.0071, 0.0068, 0.006], \"textposition\": \"outside\", \"x\": [0.2840957613225316, 0.2529615647774093, 0.08819025300738904, 0.04860990140491283, 0.04823601761852027, 0.03974541409810442, 0.03579648201899919, 0.02451512807434214, 0.022760776601050414, 0.022282631825895894, 0.01787283169166696, 0.016974399612383288, 0.014768992096129892, 0.014219815221542849, 0.01154038119018443, 0.01056960280931818, 0.010151001535080539, 0.008895676158315161, 0.007859075381555053, 0.007075532537561423, 0.006840208442250964, 0.006038552574856201], \"y\": [\"http_header_content-encoding_gzip\", \"http_header_content-length\", \"http_header_transfer-encoding_chunked\", \"http_header_vary_accept\", \"http_header_cache-control_set_max-age\", \"http_header_content-language_text/html\", \"http_header_server_apache\", \"http_header_pragmano-cache\", \"http_header_cache-control_set_no-store\", \"http_header_connection_keep-alive\", \"http_header_server_nginx\", \"http_header_cache-control_set_private\", \"http_header_x-cintent-type-options_nosniff\", \"http_header_via_1.1\", \"http_header_vary_age\", \"http_header_expect-ctmax-age\", \"http_header_cache-control_set_no-cache\", \"http_header_x-xss-enabled\", \"http_header_cache-control_set_must-revalidate\", \"http_header_cache-control_set_public\", \"http_header_connection_close\", \"http_header_strict-transport-security_max-age\"], \"type\": \"bar\", \"uid\": \"746fe4ca-c224-4a3b-bd1a-19149a6ae22a\"}], {\"autosize\": false, \"height\": 1000, \"width\": 1000, \"xaxis\": {\"tickfont\": {\"color\": \"black\", \"size\": 12}, \"title\": \"Feature Importances\"}, \"yaxis\": {\"automargin\": true}}, {\"showLink\": true, \"linkText\": \"Export to plot.ly\", \"plotlyServerURL\": \"https://plot.ly\"})});</script>"
      ],
      "text/vnd.plotly.v1+html": [
       "<div id=\"2849f5e9-8d69-43df-beb3-25e43d109bc8\" style=\"height: 1000px; width: 1000px;\" class=\"plotly-graph-div\"></div><script type=\"text/javascript\">require([\"plotly\"], function(Plotly) { window.PLOTLYENV=window.PLOTLYENV || {};window.PLOTLYENV.BASE_URL=\"https://plot.ly\";Plotly.newPlot(\"2849f5e9-8d69-43df-beb3-25e43d109bc8\", [{\"marker\": {\"color\": \"rgb(158,202,225)\", \"line\": {\"color\": \"rgb(8,48,107)\", \"width\": 1.5}}, \"opacity\": 0.6, \"orientation\": \"h\", \"text\": [0.2841, 0.253, 0.0882, 0.0486, 0.0482, 0.0397, 0.0358, 0.0245, 0.0228, 0.0223, 0.0179, 0.017, 0.0148, 0.0142, 0.0115, 0.0106, 0.0102, 0.0089, 0.0079, 0.0071, 0.0068, 0.006], \"textposition\": \"outside\", \"x\": [0.2840957613225316, 0.2529615647774093, 0.08819025300738904, 0.04860990140491283, 0.04823601761852027, 0.03974541409810442, 0.03579648201899919, 0.02451512807434214, 0.022760776601050414, 0.022282631825895894, 0.01787283169166696, 0.016974399612383288, 0.014768992096129892, 0.014219815221542849, 0.01154038119018443, 0.01056960280931818, 0.010151001535080539, 0.008895676158315161, 0.007859075381555053, 0.007075532537561423, 0.006840208442250964, 0.006038552574856201], \"y\": [\"http_header_content-encoding_gzip\", \"http_header_content-length\", \"http_header_transfer-encoding_chunked\", \"http_header_vary_accept\", \"http_header_cache-control_set_max-age\", \"http_header_content-language_text/html\", \"http_header_server_apache\", \"http_header_pragmano-cache\", \"http_header_cache-control_set_no-store\", \"http_header_connection_keep-alive\", \"http_header_server_nginx\", \"http_header_cache-control_set_private\", \"http_header_x-cintent-type-options_nosniff\", \"http_header_via_1.1\", \"http_header_vary_age\", \"http_header_expect-ctmax-age\", \"http_header_cache-control_set_no-cache\", \"http_header_x-xss-enabled\", \"http_header_cache-control_set_must-revalidate\", \"http_header_cache-control_set_public\", \"http_header_connection_close\", \"http_header_strict-transport-security_max-age\"], \"type\": \"bar\", \"uid\": \"746fe4ca-c224-4a3b-bd1a-19149a6ae22a\"}], {\"autosize\": false, \"height\": 1000, \"width\": 1000, \"xaxis\": {\"tickfont\": {\"color\": \"black\", \"size\": 12}, \"title\": \"Feature Importances\"}, \"yaxis\": {\"automargin\": true}}, {\"showLink\": true, \"linkText\": \"Export to plot.ly\", \"plotlyServerURL\": \"https://plot.ly\"})});</script>"
      ]
     },
     "metadata": {},
     "output_type": "display_data"
    }
   ],
   "source": [
    "feat_impt_plot(np.average(feat_imp,axis=0),columns[:-2])"
   ]
  },
  {
   "cell_type": "markdown",
   "metadata": {},
   "source": [
    "### <a id='4' style=\"text-decoration : none; color : #000000;\">4. Feature Transformation with feature selection </a>"
   ]
  },
  {
   "cell_type": "code",
   "execution_count": 59,
   "metadata": {
    "scrolled": true
   },
   "outputs": [
    {
     "name": "stdout",
     "output_type": "stream",
     "text": [
      "Built 946 features\n",
      "EntitySet scattered to workers in 4.439 seconds\n",
      "Elapsed: 00:03 | Remaining: 00:33 | Progress:   9%|▉         | Calculated: 1/11 chunks"
     ]
    },
    {
     "name": "stderr",
     "output_type": "stream",
     "text": [
      "distributed.utils - ERROR - \n",
      "Traceback (most recent call last):\n",
      "  File \"/nethomes/darshan/anaconda3/lib/python3.6/site-packages/distributed/utils.py\", line 713, in log_errors\n",
      "    yield\n",
      "  File \"/nethomes/darshan/anaconda3/lib/python3.6/site-packages/distributed/client.py\", line 1223, in _close\n",
      "    quiet_exceptions=(CancelledError,),\n",
      "  File \"/nethomes/darshan/anaconda3/lib/python3.6/site-packages/tornado/gen.py\", line 584, in with_timeout\n",
      "    chain_future(future_converted, result)\n",
      "  File \"/nethomes/darshan/anaconda3/lib/python3.6/site-packages/tornado/concurrent.py\", line 166, in chain_future\n",
      "    future_add_done_callback(a, copy)\n",
      "  File \"/nethomes/darshan/anaconda3/lib/python3.6/site-packages/tornado/concurrent.py\", line 262, in future_add_done_callback\n",
      "    callback(future)\n",
      "  File \"/nethomes/darshan/anaconda3/lib/python3.6/site-packages/tornado/concurrent.py\", line 160, in copy\n",
      "    elif a.exception() is not None:\n",
      "concurrent.futures._base.CancelledError\n"
     ]
    },
    {
     "name": "stdout",
     "output_type": "stream",
     "text": [
      "\r",
      "Elapsed: 00:04 | Remaining: 00:23 | Progress:  18%|█▊        | Calculated: 2/11 chunks"
     ]
    },
    {
     "name": "stderr",
     "output_type": "stream",
     "text": [
      "Exception ignored in: <bound method Client.__del__ of <Client: not connected>>\n",
      "Traceback (most recent call last):\n",
      "  File \"/nethomes/darshan/anaconda3/lib/python3.6/site-packages/distributed/client.py\", line 1075, in __del__\n",
      "    self.close()\n",
      "  File \"/nethomes/darshan/anaconda3/lib/python3.6/site-packages/distributed/client.py\", line 1290, in close\n",
      "    sync(self.loop, self._close, fast=True)\n",
      "  File \"/nethomes/darshan/anaconda3/lib/python3.6/site-packages/distributed/utils.py\", line 331, in sync\n",
      "    six.reraise(*error[0])\n",
      "  File \"/nethomes/darshan/anaconda3/lib/python3.6/site-packages/six.py\", line 693, in reraise\n",
      "    raise value\n",
      "  File \"/nethomes/darshan/anaconda3/lib/python3.6/site-packages/distributed/utils.py\", line 316, in f\n",
      "    result[0] = yield future\n",
      "  File \"/nethomes/darshan/anaconda3/lib/python3.6/site-packages/tornado/gen.py\", line 729, in run\n",
      "    value = future.result()\n",
      "  File \"/nethomes/darshan/anaconda3/lib/python3.6/site-packages/tornado/gen.py\", line 209, in wrapper\n",
      "    yielded = next(result)\n",
      "  File \"/nethomes/darshan/anaconda3/lib/python3.6/site-packages/distributed/client.py\", line 1223, in _close\n",
      "    quiet_exceptions=(CancelledError,),\n",
      "  File \"/nethomes/darshan/anaconda3/lib/python3.6/site-packages/tornado/gen.py\", line 584, in with_timeout\n",
      "    chain_future(future_converted, result)\n",
      "  File \"/nethomes/darshan/anaconda3/lib/python3.6/site-packages/tornado/concurrent.py\", line 166, in chain_future\n",
      "    future_add_done_callback(a, copy)\n",
      "  File \"/nethomes/darshan/anaconda3/lib/python3.6/site-packages/tornado/concurrent.py\", line 262, in future_add_done_callback\n",
      "    callback(future)\n",
      "  File \"/nethomes/darshan/anaconda3/lib/python3.6/site-packages/tornado/concurrent.py\", line 160, in copy\n",
      "    elif a.exception() is not None:\n",
      "concurrent.futures._base.CancelledError: \n"
     ]
    },
    {
     "name": "stdout",
     "output_type": "stream",
     "text": [
      "Elapsed: 00:05 | Remaining: 00:00 | Progress: 100%|██████████| Calculated: 11/11 chunks\n"
     ]
    }
   ],
   "source": [
    "df.reset_index(inplace=True)\n",
    "columns.remove('Target')\n",
    "df_min=df[columns]\n",
    "\n",
    "es = ft.EntitySet(id = 'malicious')\n",
    "es.entity_from_dataframe(entity_id = 'data', dataframe = df_min, index = 'domain')\n",
    "\n",
    "feature_matrix_sessions, features_defs = ft.dfs(entityset=es,target_entity=\"data\",\n",
    "                                                trans_primitives = ['add','divide','multiply'],n_jobs=-1,\n",
    "                                                verbose=1,max_depth=1)"
   ]
  },
  {
   "cell_type": "code",
   "execution_count": 60,
   "metadata": {
    "scrolled": true
   },
   "outputs": [
    {
     "name": "stderr",
     "output_type": "stream",
     "text": [
      "distributed.core - INFO - Event loop was unresponsive in Nanny for 3.12s.  This is often caused by long-running GIL-holding functions or moving large chunks of data. This can cause timeouts and instability.\n",
      "distributed.core - INFO - Event loop was unresponsive in Nanny for 3.12s.  This is often caused by long-running GIL-holding functions or moving large chunks of data. This can cause timeouts and instability.\n",
      "distributed.core - INFO - Event loop was unresponsive in Nanny for 3.21s.  This is often caused by long-running GIL-holding functions or moving large chunks of data. This can cause timeouts and instability.\n",
      "distributed.core - INFO - Event loop was unresponsive in Nanny for 3.33s.  This is often caused by long-running GIL-holding functions or moving large chunks of data. This can cause timeouts and instability.\n",
      "distributed.core - INFO - Event loop was unresponsive in Nanny for 3.36s.  This is often caused by long-running GIL-holding functions or moving large chunks of data. This can cause timeouts and instability.\n",
      "distributed.core - INFO - Event loop was unresponsive in Nanny for 3.36s.  This is often caused by long-running GIL-holding functions or moving large chunks of data. This can cause timeouts and instability.\n",
      "distributed.core - INFO - Event loop was unresponsive in Nanny for 3.44s.  This is often caused by long-running GIL-holding functions or moving large chunks of data. This can cause timeouts and instability.\n",
      "distributed.core - INFO - Event loop was unresponsive in Nanny for 3.45s.  This is often caused by long-running GIL-holding functions or moving large chunks of data. This can cause timeouts and instability.\n",
      "distributed.core - INFO - Event loop was unresponsive in Nanny for 3.58s.  This is often caused by long-running GIL-holding functions or moving large chunks of data. This can cause timeouts and instability.\n",
      "distributed.core - INFO - Event loop was unresponsive in Nanny for 3.94s.  This is often caused by long-running GIL-holding functions or moving large chunks of data. This can cause timeouts and instability.\n",
      "distributed.core - INFO - Event loop was unresponsive in Nanny for 4.10s.  This is often caused by long-running GIL-holding functions or moving large chunks of data. This can cause timeouts and instability.\n",
      "distributed.core - INFO - Event loop was unresponsive in Nanny for 3.25s.  This is often caused by long-running GIL-holding functions or moving large chunks of data. This can cause timeouts and instability.\n",
      "distributed.core - INFO - Event loop was unresponsive in Nanny for 3.40s.  This is often caused by long-running GIL-holding functions or moving large chunks of data. This can cause timeouts and instability.\n",
      "distributed.core - INFO - Event loop was unresponsive in Nanny for 3.41s.  This is often caused by long-running GIL-holding functions or moving large chunks of data. This can cause timeouts and instability.\n",
      "distributed.core - INFO - Event loop was unresponsive in Nanny for 3.54s.  This is often caused by long-running GIL-holding functions or moving large chunks of data. This can cause timeouts and instability.\n",
      "distributed.core - INFO - Event loop was unresponsive in Nanny for 3.54s.  This is often caused by long-running GIL-holding functions or moving large chunks of data. This can cause timeouts and instability.\n",
      "distributed.core - INFO - Event loop was unresponsive in Nanny for 3.69s.  This is often caused by long-running GIL-holding functions or moving large chunks of data. This can cause timeouts and instability.\n",
      "distributed.core - INFO - Event loop was unresponsive in Nanny for 3.77s.  This is often caused by long-running GIL-holding functions or moving large chunks of data. This can cause timeouts and instability.\n",
      "distributed.core - INFO - Event loop was unresponsive in Nanny for 3.93s.  This is often caused by long-running GIL-holding functions or moving large chunks of data. This can cause timeouts and instability.\n",
      "distributed.core - INFO - Event loop was unresponsive in Nanny for 4.04s.  This is often caused by long-running GIL-holding functions or moving large chunks of data. This can cause timeouts and instability.\n",
      "distributed.core - INFO - Event loop was unresponsive in Nanny for 4.18s.  This is often caused by long-running GIL-holding functions or moving large chunks of data. This can cause timeouts and instability.\n",
      "distributed.core - INFO - Event loop was unresponsive in Nanny for 4.42s.  This is often caused by long-running GIL-holding functions or moving large chunks of data. This can cause timeouts and instability.\n",
      "distributed.core - INFO - Event loop was unresponsive in Nanny for 3.35s.  This is often caused by long-running GIL-holding functions or moving large chunks of data. This can cause timeouts and instability.\n",
      "distributed.core - INFO - Event loop was unresponsive in Nanny for 3.35s.  This is often caused by long-running GIL-holding functions or moving large chunks of data. This can cause timeouts and instability.\n",
      "distributed.core - INFO - Event loop was unresponsive in Nanny for 3.61s.  This is often caused by long-running GIL-holding functions or moving large chunks of data. This can cause timeouts and instability.\n",
      "distributed.core - INFO - Event loop was unresponsive in Nanny for 3.67s.  This is often caused by long-running GIL-holding functions or moving large chunks of data. This can cause timeouts and instability.\n",
      "distributed.core - INFO - Event loop was unresponsive in Nanny for 3.76s.  This is often caused by long-running GIL-holding functions or moving large chunks of data. This can cause timeouts and instability.\n",
      "distributed.core - INFO - Event loop was unresponsive in Nanny for 4.32s.  This is often caused by long-running GIL-holding functions or moving large chunks of data. This can cause timeouts and instability.\n",
      "distributed.core - INFO - Event loop was unresponsive in Nanny for 4.24s.  This is often caused by long-running GIL-holding functions or moving large chunks of data. This can cause timeouts and instability.\n",
      "distributed.core - INFO - Event loop was unresponsive in Nanny for 4.39s.  This is often caused by long-running GIL-holding functions or moving large chunks of data. This can cause timeouts and instability.\n",
      "distributed.core - INFO - Event loop was unresponsive in Nanny for 4.37s.  This is often caused by long-running GIL-holding functions or moving large chunks of data. This can cause timeouts and instability.\n",
      "distributed.core - INFO - Event loop was unresponsive in Nanny for 4.01s.  This is often caused by long-running GIL-holding functions or moving large chunks of data. This can cause timeouts and instability.\n",
      "distributed.core - INFO - Event loop was unresponsive in Nanny for 3.86s.  This is often caused by long-running GIL-holding functions or moving large chunks of data. This can cause timeouts and instability.\n",
      "distributed.client - ERROR - Failed to reconnect to scheduler after 10.00 seconds, closing client\n",
      "distributed.utils - ERROR - \n",
      "Traceback (most recent call last):\n",
      "  File \"/nethomes/darshan/anaconda3/lib/python3.6/site-packages/distributed/utils.py\", line 713, in log_errors\n",
      "    yield\n",
      "  File \"/nethomes/darshan/anaconda3/lib/python3.6/site-packages/distributed/client.py\", line 1223, in _close\n",
      "    quiet_exceptions=(CancelledError,),\n",
      "  File \"/nethomes/darshan/anaconda3/lib/python3.6/site-packages/tornado/gen.py\", line 584, in with_timeout\n",
      "    chain_future(future_converted, result)\n",
      "  File \"/nethomes/darshan/anaconda3/lib/python3.6/site-packages/tornado/concurrent.py\", line 166, in chain_future\n",
      "    future_add_done_callback(a, copy)\n",
      "  File \"/nethomes/darshan/anaconda3/lib/python3.6/site-packages/tornado/concurrent.py\", line 262, in future_add_done_callback\n",
      "    callback(future)\n",
      "  File \"/nethomes/darshan/anaconda3/lib/python3.6/site-packages/tornado/concurrent.py\", line 160, in copy\n",
      "    elif a.exception() is not None:\n",
      "concurrent.futures._base.CancelledError\n",
      "distributed.utils - ERROR - \n",
      "Traceback (most recent call last):\n",
      "  File \"/nethomes/darshan/anaconda3/lib/python3.6/site-packages/distributed/utils.py\", line 713, in log_errors\n",
      "    yield\n",
      "  File \"/nethomes/darshan/anaconda3/lib/python3.6/site-packages/distributed/client.py\", line 992, in _reconnect\n",
      "    yield self._close()\n",
      "  File \"/nethomes/darshan/anaconda3/lib/python3.6/site-packages/tornado/gen.py\", line 729, in run\n",
      "    value = future.result()\n",
      "  File \"/nethomes/darshan/anaconda3/lib/python3.6/site-packages/tornado/gen.py\", line 209, in wrapper\n",
      "    yielded = next(result)\n",
      "  File \"/nethomes/darshan/anaconda3/lib/python3.6/site-packages/distributed/client.py\", line 1223, in _close\n",
      "    quiet_exceptions=(CancelledError,),\n",
      "  File \"/nethomes/darshan/anaconda3/lib/python3.6/site-packages/tornado/gen.py\", line 584, in with_timeout\n",
      "    chain_future(future_converted, result)\n",
      "  File \"/nethomes/darshan/anaconda3/lib/python3.6/site-packages/tornado/concurrent.py\", line 166, in chain_future\n",
      "    future_add_done_callback(a, copy)\n",
      "  File \"/nethomes/darshan/anaconda3/lib/python3.6/site-packages/tornado/concurrent.py\", line 262, in future_add_done_callback\n",
      "    callback(future)\n",
      "  File \"/nethomes/darshan/anaconda3/lib/python3.6/site-packages/tornado/concurrent.py\", line 160, in copy\n",
      "    elif a.exception() is not None:\n",
      "concurrent.futures._base.CancelledError\n"
     ]
    },
    {
     "name": "stderr",
     "output_type": "stream",
     "text": [
      "distributed.core - INFO - Event loop was unresponsive in Nanny for 4.45s.  This is often caused by long-running GIL-holding functions or moving large chunks of data. This can cause timeouts and instability.\n",
      "distributed.core - INFO - Event loop was unresponsive in Nanny for 4.30s.  This is often caused by long-running GIL-holding functions or moving large chunks of data. This can cause timeouts and instability.\n",
      "distributed.core - INFO - Event loop was unresponsive in Nanny for 4.55s.  This is often caused by long-running GIL-holding functions or moving large chunks of data. This can cause timeouts and instability.\n",
      "distributed.core - INFO - Event loop was unresponsive in Nanny for 4.45s.  This is often caused by long-running GIL-holding functions or moving large chunks of data. This can cause timeouts and instability.\n",
      "distributed.core - INFO - Event loop was unresponsive in Nanny for 4.65s.  This is often caused by long-running GIL-holding functions or moving large chunks of data. This can cause timeouts and instability.\n",
      "distributed.core - INFO - Event loop was unresponsive in Nanny for 4.62s.  This is often caused by long-running GIL-holding functions or moving large chunks of data. This can cause timeouts and instability.\n",
      "distributed.core - INFO - Event loop was unresponsive in Nanny for 4.53s.  This is often caused by long-running GIL-holding functions or moving large chunks of data. This can cause timeouts and instability.\n",
      "distributed.core - INFO - Event loop was unresponsive in Nanny for 4.38s.  This is often caused by long-running GIL-holding functions or moving large chunks of data. This can cause timeouts and instability.\n",
      "distributed.core - INFO - Event loop was unresponsive in Nanny for 4.45s.  This is often caused by long-running GIL-holding functions or moving large chunks of data. This can cause timeouts and instability.\n",
      "distributed.core - INFO - Event loop was unresponsive in Nanny for 4.31s.  This is often caused by long-running GIL-holding functions or moving large chunks of data. This can cause timeouts and instability.\n",
      "distributed.core - INFO - Event loop was unresponsive in Nanny for 4.16s.  This is often caused by long-running GIL-holding functions or moving large chunks of data. This can cause timeouts and instability.\n",
      "distributed.core - INFO - Event loop was unresponsive in Nanny for 3.80s.  This is often caused by long-running GIL-holding functions or moving large chunks of data. This can cause timeouts and instability.\n",
      "distributed.core - INFO - Event loop was unresponsive in Nanny for 4.02s.  This is often caused by long-running GIL-holding functions or moving large chunks of data. This can cause timeouts and instability.\n",
      "distributed.core - INFO - Event loop was unresponsive in Nanny for 4.28s.  This is often caused by long-running GIL-holding functions or moving large chunks of data. This can cause timeouts and instability.\n",
      "distributed.core - INFO - Event loop was unresponsive in Nanny for 4.26s.  This is often caused by long-running GIL-holding functions or moving large chunks of data. This can cause timeouts and instability.\n",
      "distributed.core - INFO - Event loop was unresponsive in Nanny for 4.22s.  This is often caused by long-running GIL-holding functions or moving large chunks of data. This can cause timeouts and instability.\n",
      "distributed.core - INFO - Event loop was unresponsive in Nanny for 3.91s.  This is often caused by long-running GIL-holding functions or moving large chunks of data. This can cause timeouts and instability.\n",
      "distributed.core - INFO - Event loop was unresponsive in Nanny for 3.92s.  This is often caused by long-running GIL-holding functions or moving large chunks of data. This can cause timeouts and instability.\n",
      "distributed.core - INFO - Event loop was unresponsive in Nanny for 3.79s.  This is often caused by long-running GIL-holding functions or moving large chunks of data. This can cause timeouts and instability.\n",
      "distributed.core - INFO - Event loop was unresponsive in Nanny for 3.68s.  This is often caused by long-running GIL-holding functions or moving large chunks of data. This can cause timeouts and instability.\n",
      "distributed.core - INFO - Event loop was unresponsive in Nanny for 3.68s.  This is often caused by long-running GIL-holding functions or moving large chunks of data. This can cause timeouts and instability.\n",
      "distributed.core - INFO - Event loop was unresponsive in Nanny for 3.68s.  This is often caused by long-running GIL-holding functions or moving large chunks of data. This can cause timeouts and instability.\n"
     ]
    }
   ],
   "source": [
    "df.set_index(['domain'],drop=True,inplace=True)\n",
    "fs=pd.merge(feature_matrix_sessions,pd.DataFrame(df.Target),left_index=True, right_index=True)\n",
    "fs.replace([np.inf],0,inplace=True)\n",
    "fs.fillna(value=0,inplace=True)"
   ]
  },
  {
   "cell_type": "code",
   "execution_count": 61,
   "metadata": {},
   "outputs": [],
   "source": [
    "X=fs.loc[:,fs.columns!='Target']\n",
    "y=fs.Target\n",
    "feature_name = X.columns.tolist()"
   ]
  },
  {
   "cell_type": "code",
   "execution_count": 62,
   "metadata": {},
   "outputs": [],
   "source": [
    "def cor_selector(X, y):\n",
    "    cor_list = []\n",
    "    # calculate the correlation with y for each feature\n",
    "    for i in X.columns.tolist():\n",
    "        cor = np.corrcoef(X[i], y)[0, 1]\n",
    "        cor_list.append(cor)\n",
    "    # replace NaN with 0\n",
    "    cor_list = [0 if np.isnan(i) else i for i in cor_list]\n",
    "    # feature name\n",
    "    cor_feature = X.iloc[:,np.argsort(np.abs(cor_list))[-100:]].columns.tolist()\n",
    "    # feature selection? 0 for not select, 1 for select\n",
    "    cor_support = [True if i in cor_feature else False for i in feature_name]\n",
    "    return cor_support, cor_feature\n",
    "\n",
    "\n",
    "cor_support, cor_feature = cor_selector(X, y)"
   ]
  },
  {
   "cell_type": "code",
   "execution_count": 63,
   "metadata": {},
   "outputs": [],
   "source": [
    "X_norm = MinMaxScaler().fit_transform(X)\n",
    "chi_selector = SelectKBest(chi2, k=100)\n",
    "chi_selector.fit(X_norm, y)\n",
    "chi_support = chi_selector.get_support()\n",
    "chi_feature = X.loc[:,chi_support].columns.tolist()"
   ]
  },
  {
   "cell_type": "code",
   "execution_count": 64,
   "metadata": {},
   "outputs": [],
   "source": [
    "rfe_selector = RFE(estimator=LogisticRegression(random_state=0), n_features_to_select=100, step=0.3, verbose=False)\n",
    "rfe_selector.fit(X_norm, y)\n",
    "rfe_support = rfe_selector.get_support()\n",
    "rfe_feature = X.loc[:,rfe_support].columns.tolist()"
   ]
  },
  {
   "cell_type": "code",
   "execution_count": 65,
   "metadata": {},
   "outputs": [],
   "source": [
    "embeded_rf_selector = SelectFromModel(RandomForestClassifier(n_estimators=100,random_state=0), threshold='23*median')\n",
    "embeded_rf_selector.fit(X, y)\n",
    "embeded_rf_support = embeded_rf_selector.get_support()\n",
    "embeded_rf_feature = X.loc[:,embeded_rf_support].columns.tolist()"
   ]
  },
  {
   "cell_type": "code",
   "execution_count": 66,
   "metadata": {},
   "outputs": [],
   "source": [
    "feature_selection_df = pd.DataFrame({'Feature':feature_name, 'Pearson':cor_support, 'Chi-2':chi_support, 'RFE':rfe_support,\n",
    "                                    'Random Forest':embeded_rf_support})\n",
    "# count the selected times for each feature\n",
    "feature_selection_df['Total'] = np.sum(feature_selection_df, axis=1)\n",
    "# display the top 100\n",
    "feature_selection_df = feature_selection_df.sort_values(['Total','Feature'] , ascending=False)\n",
    "feature_selection_df.index = range(1, len(feature_selection_df)+1)"
   ]
  },
  {
   "cell_type": "code",
   "execution_count": 67,
   "metadata": {},
   "outputs": [],
   "source": [
    "columns=feature_selection_df[feature_selection_df.Total>=3]['Feature'].values"
   ]
  },
  {
   "cell_type": "code",
   "execution_count": 69,
   "metadata": {},
   "outputs": [],
   "source": [
    "fs=fs.reindex(df.index.values)\n",
    "train=fs.iloc[:32100]\n",
    "train_Y=train.Target.values\n",
    "train_X=train[columns].values\n",
    "\n",
    "\n",
    "scaler=StandardScaler()\n",
    "scaled_X_train=scaler.fit_transform(train_X)\n",
    "\n",
    "test=fs.iloc[32100:]\n",
    "test_Y=test.Target.values\n",
    "test_X=test[columns]\n",
    "\n",
    "scaled_X_test=scaler.transform(test_X)"
   ]
  },
  {
   "cell_type": "code",
   "execution_count": 70,
   "metadata": {},
   "outputs": [
    {
     "name": "stdout",
     "output_type": "stream",
     "text": [
      "Features we will be using:\n",
      "\n"
     ]
    },
    {
     "data": {
      "text/plain": [
       "array(['http_header_content-language_text/html + http_header_transfer-encoding_chunked',\n",
       "       'http_header_vary_age / http_header_content-length',\n",
       "       'http_header_vary_accept / http_header_content-language_text/html',\n",
       "       'http_header_vary_accept + http_header_via_1.1',\n",
       "       'http_header_transfer-encoding_chunked + http_header_x-xss-enabled',\n",
       "       'http_header_transfer-encoding_chunked + http_header_vary_accept',\n",
       "       'http_header_server_nginx + http_header_transfer-encoding_chunked',\n",
       "       'http_header_content-language_text/html / http_header_transfer-encoding_chunked',\n",
       "       'http_header_content-language_text/html / http_header_connection_keep-alive',\n",
       "       'http_header_content-language_text/html + http_header_via_1.1',\n",
       "       'http_header_content-language_text/html + http_header_vary_accept',\n",
       "       'http_header_content-language_text/html + http_header_server_nginx',\n",
       "       'http_header_content-language_text/html + http_header_expect-ctmax-age',\n",
       "       'http_header_content-language_text/html * http_header_transfer-encoding_chunked',\n",
       "       'http_header_content-language_text/html',\n",
       "       'http_header_content-encoding_gzip / http_header_content-language_text/html',\n",
       "       'http_header_content-encoding_gzip + http_header_x-xss-enabled',\n",
       "       'http_header_content-encoding_gzip + http_header_via_1.1',\n",
       "       'http_header_content-encoding_gzip + http_header_vary_age',\n",
       "       'http_header_content-encoding_gzip + http_header_vary_accept',\n",
       "       'http_header_content-encoding_gzip + http_header_transfer-encoding_chunked',\n",
       "       'http_header_content-encoding_gzip + http_header_server_nginx',\n",
       "       'http_header_content-encoding_gzip + http_header_pragmano-cache',\n",
       "       'http_header_content-encoding_gzip + http_header_expect-ctmax-age',\n",
       "       'http_header_content-encoding_gzip + http_header_content-language_text/html',\n",
       "       'http_header_content-encoding_gzip',\n",
       "       'http_header_connection_keep-alive / http_header_content-language_text/html',\n",
       "       'http_header_connection_keep-alive + http_header_vary_accept',\n",
       "       'http_header_connection_keep-alive + http_header_content-language_text/html',\n",
       "       'http_header_connection_keep-alive * http_header_content-language_text/html',\n",
       "       'http_header_connection_close + http_header_content-language_text/html',\n",
       "       'http_header_connection_close + http_header_content-encoding_gzip',\n",
       "       'http_header_cache-control_set_public + http_header_transfer-encoding_chunked',\n",
       "       'http_header_cache-control_set_public + http_header_content-encoding_gzip',\n",
       "       'http_header_cache-control_set_private + http_header_vary_accept',\n",
       "       'http_header_cache-control_set_private + http_header_content-encoding_gzip',\n",
       "       'http_header_cache-control_set_no-cache + http_header_content-encoding_gzip',\n",
       "       'http_header_cache-control_set_must-revalidate + http_header_content-encoding_gzip',\n",
       "       'http_header_cache-control_set_max-age + http_header_vary_accept',\n",
       "       'http_header_cache-control_set_max-age + http_header_transfer-encoding_chunked',\n",
       "       'http_header_cache-control_set_max-age + http_header_content-language_text/html',\n",
       "       'http_header_cache-control_set_max-age + http_header_content-encoding_gzip'],\n",
       "      dtype=object)"
      ]
     },
     "metadata": {},
     "output_type": "display_data"
    }
   ],
   "source": [
    "print('Features we will be using:\\n')\n",
    "display(columns)"
   ]
  },
  {
   "cell_type": "code",
   "execution_count": 71,
   "metadata": {},
   "outputs": [],
   "source": [
    "## Table to store training and test measures so we can compare later\n",
    "table_80_60_train=pd.DataFrame(columns=['accuracy','TP','TN','FP','FN','FPR','FNR'])\n",
    "table_80_60_test=pd.DataFrame(columns=['accuracy','TP','TN','FP','FN','FPR','FNR','auc','mcc'])"
   ]
  },
  {
   "cell_type": "code",
   "execution_count": 72,
   "metadata": {
    "scrolled": false
   },
   "outputs": [
    {
     "name": "stdout",
     "output_type": "stream",
     "text": [
      "\u001b[1mK-Nearest Neighbors\u001b[0m\n",
      "Accuracy of the model for training data is: 0.8777570093457944\n",
      "Confusion Matrix for training data is:\n"
     ]
    },
    {
     "data": {
      "text/plain": [
       "Predicted  False  True  __all__\n",
       "Actual                         \n",
       "False      27505   375    27880\n",
       "True        3549   671     4220\n",
       "__all__    31054  1046    32100"
      ]
     },
     "metadata": {},
     "output_type": "display_data"
    },
    {
     "name": "stdout",
     "output_type": "stream",
     "text": [
      "Accuracy of the model for test data is: 0.8814335562663564\n",
      "Confusion Matrix for test data is:\n"
     ]
    },
    {
     "data": {
      "text/plain": [
       "Predicted  False  True  __all__\n",
       "Actual                         \n",
       "False      11824   131    11955\n",
       "True        1500   301     1801\n",
       "__all__    13324   432    13756"
      ]
     },
     "metadata": {},
     "output_type": "display_data"
    },
    {
     "name": "stdout",
     "output_type": "stream",
     "text": [
      "\n",
      "\n",
      "\u001b[1mLogistic Regression\u001b[0m\n",
      "Accuracy of the model for training data is: 0.8808411214953271\n",
      "Confusion Matrix for training data is:\n"
     ]
    },
    {
     "data": {
      "text/plain": [
       "Predicted  False  True  __all__\n",
       "Actual                         \n",
       "False      25727  2153    27880\n",
       "True        1672  2548     4220\n",
       "__all__    27399  4701    32100"
      ]
     },
     "metadata": {},
     "output_type": "display_data"
    },
    {
     "name": "stdout",
     "output_type": "stream",
     "text": [
      "Accuracy of the model for test data is: 0.8782349520209363\n",
      "Confusion Matrix for test data is:\n"
     ]
    },
    {
     "data": {
      "text/plain": [
       "Predicted  False  True  __all__\n",
       "Actual                         \n",
       "False      11025   930    11955\n",
       "True         745  1056     1801\n",
       "__all__    11770  1986    13756"
      ]
     },
     "metadata": {},
     "output_type": "display_data"
    },
    {
     "name": "stdout",
     "output_type": "stream",
     "text": [
      "\n",
      "\n",
      "\u001b[1mRandomForest Classifier\u001b[0m\n",
      "Accuracy of the model for training data is: 0.8974766355140187\n",
      "Confusion Matrix for training data is:\n"
     ]
    },
    {
     "data": {
      "text/plain": [
       "Predicted  False  True  __all__\n",
       "Actual                         \n",
       "False      25332  2548    27880\n",
       "True         743  3477     4220\n",
       "__all__    26075  6025    32100"
      ]
     },
     "metadata": {},
     "output_type": "display_data"
    },
    {
     "name": "stdout",
     "output_type": "stream",
     "text": [
      "Accuracy of the model for test data is: 0.897862750799651\n",
      "Confusion Matrix for test data is:\n"
     ]
    },
    {
     "data": {
      "text/plain": [
       "Predicted  False  True  __all__\n",
       "Actual                         \n",
       "False      10881  1074    11955\n",
       "True         331  1470     1801\n",
       "__all__    11212  2544    13756"
      ]
     },
     "metadata": {},
     "output_type": "display_data"
    },
    {
     "data": {
      "application/vnd.plotly.v1+json": {
       "config": {
        "linkText": "Export to plot.ly",
        "plotlyServerURL": "https://plot.ly",
        "showLink": true
       },
       "data": [
        {
         "marker": {
          "color": "rgb(158,202,225)",
          "line": {
           "color": "rgb(8,48,107)",
           "width": 1.5
          }
         },
         "opacity": 0.6,
         "orientation": "h",
         "text": [
          0.1474,
          0.1259,
          0.1238,
          0.1132,
          0.0528,
          0.0513,
          0.0507,
          0.0447,
          0.0359,
          0.0277,
          0.0243,
          0.021,
          0.016,
          0.0151,
          0.0122,
          0.0116,
          0.0115,
          0.011,
          0.0106,
          0.0102,
          0.01,
          0.0095,
          0.0094,
          0.0091,
          0.0084,
          0.0067,
          0.005,
          0.0039,
          0.0036,
          0.003,
          0.0029,
          0.0026,
          0.0023,
          0.0023,
          0.0017,
          0.0007,
          0.0005,
          0.0005,
          0.0004,
          0.0004,
          0.0002,
          0
         ],
         "textposition": "outside",
         "type": "bar",
         "uid": "693ce8fd-a977-445f-8923-31da8c986da2",
         "x": [
          0.1474185076787785,
          0.12590087097633051,
          0.12380738193556715,
          0.11324240305295612,
          0.052776201713325276,
          0.05129922954270598,
          0.0506602051419334,
          0.04470104548595498,
          0.03588098437700471,
          0.02765032370230381,
          0.024319943789468224,
          0.021042828980172838,
          0.015962609000934123,
          0.015084093741010288,
          0.012242839379978106,
          0.01162642361644101,
          0.011457454701479868,
          0.010991804415392449,
          0.010551981960570337,
          0.010227801937526825,
          0.010017459512759787,
          0.0095493000099716,
          0.00943536485598704,
          0.009064964822411285,
          0.008409868844970853,
          0.006682280480794556,
          0.005046220918087876,
          0.003855967591472131,
          0.0035630241971354795,
          0.0029672893752676582,
          0.002940428691698474,
          0.002641386041770167,
          0.0023404043025460858,
          0.0023280198898703174,
          0.0016951578852109142,
          0.0006552449127918303,
          0.0005096913940156619,
          0.0005046556401537823,
          0.00043018811997922536,
          0.00036523606132479226,
          0.00015215584770615832,
          7.554742398243725e-07
         ],
         "y": [
          "http_header_content-encoding_gzip + http_header_via_1.1",
          "http_header_cache-control_set_max-age + http_header_content-encoding_gzip",
          "http_header_connection_keep-alive + http_header_content-language_text/html",
          "http_header_vary_age / http_header_content-length",
          "http_header_content-encoding_gzip + http_header_server_nginx",
          "http_header_content-language_text/html + http_header_transfer-encoding_chunked",
          "http_header_content-language_text/html + http_header_via_1.1",
          "http_header_cache-control_set_must-revalidate + http_header_content-encoding_gzip",
          "http_header_content-language_text/html + http_header_server_nginx",
          "http_header_content-encoding_gzip + http_header_pragmano-cache",
          "http_header_connection_close + http_header_content-language_text/html",
          "http_header_transfer-encoding_chunked + http_header_x-xss-enabled",
          "http_header_cache-control_set_no-cache + http_header_content-encoding_gzip",
          "http_header_cache-control_set_max-age + http_header_transfer-encoding_chunked",
          "http_header_content-language_text/html / http_header_connection_keep-alive",
          "http_header_server_nginx + http_header_transfer-encoding_chunked",
          "http_header_content-encoding_gzip + http_header_vary_accept",
          "http_header_content-language_text/html + http_header_expect-ctmax-age",
          "http_header_cache-control_set_private + http_header_vary_accept",
          "http_header_content-encoding_gzip + http_header_vary_age",
          "http_header_connection_close + http_header_content-encoding_gzip",
          "http_header_content-encoding_gzip / http_header_content-language_text/html",
          "http_header_cache-control_set_private + http_header_content-encoding_gzip",
          "http_header_transfer-encoding_chunked + http_header_vary_accept",
          "http_header_connection_keep-alive / http_header_content-language_text/html",
          "http_header_connection_keep-alive + http_header_vary_accept",
          "http_header_vary_accept + http_header_via_1.1",
          "http_header_content-encoding_gzip + http_header_x-xss-enabled",
          "http_header_cache-control_set_max-age + http_header_vary_accept",
          "http_header_cache-control_set_max-age + http_header_content-language_text/html",
          "http_header_cache-control_set_public + http_header_transfer-encoding_chunked",
          "http_header_content-language_text/html / http_header_transfer-encoding_chunked",
          "http_header_connection_keep-alive * http_header_content-language_text/html",
          "http_header_cache-control_set_public + http_header_content-encoding_gzip",
          "http_header_content-encoding_gzip + http_header_expect-ctmax-age",
          "http_header_vary_accept / http_header_content-language_text/html",
          "http_header_content-encoding_gzip + http_header_content-language_text/html",
          "http_header_content-encoding_gzip + http_header_transfer-encoding_chunked",
          "http_header_content-language_text/html + http_header_vary_accept",
          "http_header_content-language_text/html * http_header_transfer-encoding_chunked",
          "http_header_content-language_text/html",
          "http_header_content-encoding_gzip"
         ]
        }
       ],
       "layout": {
        "autosize": false,
        "height": 1000,
        "width": 1000,
        "xaxis": {
         "tickfont": {
          "color": "black",
          "size": 12
         },
         "title": "Feature Importances"
        },
        "yaxis": {
         "automargin": true
        }
       }
      },
      "text/html": [
       "<div id=\"d7f0ca71-b763-4a7d-b8b1-cf15c88b6872\" style=\"height: 1000px; width: 1000px;\" class=\"plotly-graph-div\"></div><script type=\"text/javascript\">require([\"plotly\"], function(Plotly) { window.PLOTLYENV=window.PLOTLYENV || {};window.PLOTLYENV.BASE_URL=\"https://plot.ly\";Plotly.newPlot(\"d7f0ca71-b763-4a7d-b8b1-cf15c88b6872\", [{\"marker\": {\"color\": \"rgb(158,202,225)\", \"line\": {\"color\": \"rgb(8,48,107)\", \"width\": 1.5}}, \"opacity\": 0.6, \"orientation\": \"h\", \"text\": [0.1474, 0.1259, 0.1238, 0.1132, 0.0528, 0.0513, 0.0507, 0.0447, 0.0359, 0.0277, 0.0243, 0.021, 0.016, 0.0151, 0.0122, 0.0116, 0.0115, 0.011, 0.0106, 0.0102, 0.01, 0.0095, 0.0094, 0.0091, 0.0084, 0.0067, 0.005, 0.0039, 0.0036, 0.003, 0.0029, 0.0026, 0.0023, 0.0023, 0.0017, 0.0007, 0.0005, 0.0005, 0.0004, 0.0004, 0.0002, 0.0], \"textposition\": \"outside\", \"x\": [0.1474185076787785, 0.12590087097633051, 0.12380738193556715, 0.11324240305295612, 0.052776201713325276, 0.05129922954270598, 0.0506602051419334, 0.04470104548595498, 0.03588098437700471, 0.02765032370230381, 0.024319943789468224, 0.021042828980172838, 0.015962609000934123, 0.015084093741010288, 0.012242839379978106, 0.01162642361644101, 0.011457454701479868, 0.010991804415392449, 0.010551981960570337, 0.010227801937526825, 0.010017459512759787, 0.0095493000099716, 0.00943536485598704, 0.009064964822411285, 0.008409868844970853, 0.006682280480794556, 0.005046220918087876, 0.003855967591472131, 0.0035630241971354795, 0.0029672893752676582, 0.002940428691698474, 0.002641386041770167, 0.0023404043025460858, 0.0023280198898703174, 0.0016951578852109142, 0.0006552449127918303, 0.0005096913940156619, 0.0005046556401537823, 0.00043018811997922536, 0.00036523606132479226, 0.00015215584770615832, 7.554742398243725e-07], \"y\": [\"http_header_content-encoding_gzip + http_header_via_1.1\", \"http_header_cache-control_set_max-age + http_header_content-encoding_gzip\", \"http_header_connection_keep-alive + http_header_content-language_text/html\", \"http_header_vary_age / http_header_content-length\", \"http_header_content-encoding_gzip + http_header_server_nginx\", \"http_header_content-language_text/html + http_header_transfer-encoding_chunked\", \"http_header_content-language_text/html + http_header_via_1.1\", \"http_header_cache-control_set_must-revalidate + http_header_content-encoding_gzip\", \"http_header_content-language_text/html + http_header_server_nginx\", \"http_header_content-encoding_gzip + http_header_pragmano-cache\", \"http_header_connection_close + http_header_content-language_text/html\", \"http_header_transfer-encoding_chunked + http_header_x-xss-enabled\", \"http_header_cache-control_set_no-cache + http_header_content-encoding_gzip\", \"http_header_cache-control_set_max-age + http_header_transfer-encoding_chunked\", \"http_header_content-language_text/html / http_header_connection_keep-alive\", \"http_header_server_nginx + http_header_transfer-encoding_chunked\", \"http_header_content-encoding_gzip + http_header_vary_accept\", \"http_header_content-language_text/html + http_header_expect-ctmax-age\", \"http_header_cache-control_set_private + http_header_vary_accept\", \"http_header_content-encoding_gzip + http_header_vary_age\", \"http_header_connection_close + http_header_content-encoding_gzip\", \"http_header_content-encoding_gzip / http_header_content-language_text/html\", \"http_header_cache-control_set_private + http_header_content-encoding_gzip\", \"http_header_transfer-encoding_chunked + http_header_vary_accept\", \"http_header_connection_keep-alive / http_header_content-language_text/html\", \"http_header_connection_keep-alive + http_header_vary_accept\", \"http_header_vary_accept + http_header_via_1.1\", \"http_header_content-encoding_gzip + http_header_x-xss-enabled\", \"http_header_cache-control_set_max-age + http_header_vary_accept\", \"http_header_cache-control_set_max-age + http_header_content-language_text/html\", \"http_header_cache-control_set_public + http_header_transfer-encoding_chunked\", \"http_header_content-language_text/html / http_header_transfer-encoding_chunked\", \"http_header_connection_keep-alive * http_header_content-language_text/html\", \"http_header_cache-control_set_public + http_header_content-encoding_gzip\", \"http_header_content-encoding_gzip + http_header_expect-ctmax-age\", \"http_header_vary_accept / http_header_content-language_text/html\", \"http_header_content-encoding_gzip + http_header_content-language_text/html\", \"http_header_content-encoding_gzip + http_header_transfer-encoding_chunked\", \"http_header_content-language_text/html + http_header_vary_accept\", \"http_header_content-language_text/html * http_header_transfer-encoding_chunked\", \"http_header_content-language_text/html\", \"http_header_content-encoding_gzip\"], \"type\": \"bar\", \"uid\": \"693ce8fd-a977-445f-8923-31da8c986da2\"}], {\"autosize\": false, \"height\": 1000, \"width\": 1000, \"xaxis\": {\"tickfont\": {\"color\": \"black\", \"size\": 12}, \"title\": \"Feature Importances\"}, \"yaxis\": {\"automargin\": true}}, {\"showLink\": true, \"linkText\": \"Export to plot.ly\", \"plotlyServerURL\": \"https://plot.ly\"})});</script>"
      ],
      "text/vnd.plotly.v1+html": [
       "<div id=\"d7f0ca71-b763-4a7d-b8b1-cf15c88b6872\" style=\"height: 1000px; width: 1000px;\" class=\"plotly-graph-div\"></div><script type=\"text/javascript\">require([\"plotly\"], function(Plotly) { window.PLOTLYENV=window.PLOTLYENV || {};window.PLOTLYENV.BASE_URL=\"https://plot.ly\";Plotly.newPlot(\"d7f0ca71-b763-4a7d-b8b1-cf15c88b6872\", [{\"marker\": {\"color\": \"rgb(158,202,225)\", \"line\": {\"color\": \"rgb(8,48,107)\", \"width\": 1.5}}, \"opacity\": 0.6, \"orientation\": \"h\", \"text\": [0.1474, 0.1259, 0.1238, 0.1132, 0.0528, 0.0513, 0.0507, 0.0447, 0.0359, 0.0277, 0.0243, 0.021, 0.016, 0.0151, 0.0122, 0.0116, 0.0115, 0.011, 0.0106, 0.0102, 0.01, 0.0095, 0.0094, 0.0091, 0.0084, 0.0067, 0.005, 0.0039, 0.0036, 0.003, 0.0029, 0.0026, 0.0023, 0.0023, 0.0017, 0.0007, 0.0005, 0.0005, 0.0004, 0.0004, 0.0002, 0.0], \"textposition\": \"outside\", \"x\": [0.1474185076787785, 0.12590087097633051, 0.12380738193556715, 0.11324240305295612, 0.052776201713325276, 0.05129922954270598, 0.0506602051419334, 0.04470104548595498, 0.03588098437700471, 0.02765032370230381, 0.024319943789468224, 0.021042828980172838, 0.015962609000934123, 0.015084093741010288, 0.012242839379978106, 0.01162642361644101, 0.011457454701479868, 0.010991804415392449, 0.010551981960570337, 0.010227801937526825, 0.010017459512759787, 0.0095493000099716, 0.00943536485598704, 0.009064964822411285, 0.008409868844970853, 0.006682280480794556, 0.005046220918087876, 0.003855967591472131, 0.0035630241971354795, 0.0029672893752676582, 0.002940428691698474, 0.002641386041770167, 0.0023404043025460858, 0.0023280198898703174, 0.0016951578852109142, 0.0006552449127918303, 0.0005096913940156619, 0.0005046556401537823, 0.00043018811997922536, 0.00036523606132479226, 0.00015215584770615832, 7.554742398243725e-07], \"y\": [\"http_header_content-encoding_gzip + http_header_via_1.1\", \"http_header_cache-control_set_max-age + http_header_content-encoding_gzip\", \"http_header_connection_keep-alive + http_header_content-language_text/html\", \"http_header_vary_age / http_header_content-length\", \"http_header_content-encoding_gzip + http_header_server_nginx\", \"http_header_content-language_text/html + http_header_transfer-encoding_chunked\", \"http_header_content-language_text/html + http_header_via_1.1\", \"http_header_cache-control_set_must-revalidate + http_header_content-encoding_gzip\", \"http_header_content-language_text/html + http_header_server_nginx\", \"http_header_content-encoding_gzip + http_header_pragmano-cache\", \"http_header_connection_close + http_header_content-language_text/html\", \"http_header_transfer-encoding_chunked + http_header_x-xss-enabled\", \"http_header_cache-control_set_no-cache + http_header_content-encoding_gzip\", \"http_header_cache-control_set_max-age + http_header_transfer-encoding_chunked\", \"http_header_content-language_text/html / http_header_connection_keep-alive\", \"http_header_server_nginx + http_header_transfer-encoding_chunked\", \"http_header_content-encoding_gzip + http_header_vary_accept\", \"http_header_content-language_text/html + http_header_expect-ctmax-age\", \"http_header_cache-control_set_private + http_header_vary_accept\", \"http_header_content-encoding_gzip + http_header_vary_age\", \"http_header_connection_close + http_header_content-encoding_gzip\", \"http_header_content-encoding_gzip / http_header_content-language_text/html\", \"http_header_cache-control_set_private + http_header_content-encoding_gzip\", \"http_header_transfer-encoding_chunked + http_header_vary_accept\", \"http_header_connection_keep-alive / http_header_content-language_text/html\", \"http_header_connection_keep-alive + http_header_vary_accept\", \"http_header_vary_accept + http_header_via_1.1\", \"http_header_content-encoding_gzip + http_header_x-xss-enabled\", \"http_header_cache-control_set_max-age + http_header_vary_accept\", \"http_header_cache-control_set_max-age + http_header_content-language_text/html\", \"http_header_cache-control_set_public + http_header_transfer-encoding_chunked\", \"http_header_content-language_text/html / http_header_transfer-encoding_chunked\", \"http_header_connection_keep-alive * http_header_content-language_text/html\", \"http_header_cache-control_set_public + http_header_content-encoding_gzip\", \"http_header_content-encoding_gzip + http_header_expect-ctmax-age\", \"http_header_vary_accept / http_header_content-language_text/html\", \"http_header_content-encoding_gzip + http_header_content-language_text/html\", \"http_header_content-encoding_gzip + http_header_transfer-encoding_chunked\", \"http_header_content-language_text/html + http_header_vary_accept\", \"http_header_content-language_text/html * http_header_transfer-encoding_chunked\", \"http_header_content-language_text/html\", \"http_header_content-encoding_gzip\"], \"type\": \"bar\", \"uid\": \"693ce8fd-a977-445f-8923-31da8c986da2\"}], {\"autosize\": false, \"height\": 1000, \"width\": 1000, \"xaxis\": {\"tickfont\": {\"color\": \"black\", \"size\": 12}, \"title\": \"Feature Importances\"}, \"yaxis\": {\"automargin\": true}}, {\"showLink\": true, \"linkText\": \"Export to plot.ly\", \"plotlyServerURL\": \"https://plot.ly\"})});</script>"
      ]
     },
     "metadata": {},
     "output_type": "display_data"
    },
    {
     "name": "stdout",
     "output_type": "stream",
     "text": [
      "\n",
      "\n",
      "\u001b[1mAdaoost Classifier\u001b[0m\n",
      "Accuracy of the model for training data is: 0.8805607476635514\n",
      "Confusion Matrix for training data is:\n"
     ]
    },
    {
     "data": {
      "text/plain": [
       "Predicted  False  True  __all__\n",
       "Actual                         \n",
       "False      25714  2166    27880\n",
       "True        1668  2552     4220\n",
       "__all__    27382  4718    32100"
      ]
     },
     "metadata": {},
     "output_type": "display_data"
    },
    {
     "name": "stdout",
     "output_type": "stream",
     "text": [
      "Accuracy of the model for test data is: 0.8777987787147427\n",
      "Confusion Matrix for test data is:\n"
     ]
    },
    {
     "data": {
      "text/plain": [
       "Predicted  False  True  __all__\n",
       "Actual                         \n",
       "False      11015   940    11955\n",
       "True         741  1060     1801\n",
       "__all__    11756  2000    13756"
      ]
     },
     "metadata": {},
     "output_type": "display_data"
    },
    {
     "data": {
      "application/vnd.plotly.v1+json": {
       "config": {
        "linkText": "Export to plot.ly",
        "plotlyServerURL": "https://plot.ly",
        "showLink": true
       },
       "data": [
        {
         "marker": {
          "color": "rgb(158,202,225)",
          "line": {
           "color": "rgb(8,48,107)",
           "width": 1.5
          }
         },
         "opacity": 0.6,
         "orientation": "h",
         "text": [
          0.1,
          0.1,
          0.1,
          0.08,
          0.08,
          0.08,
          0.04,
          0.04,
          0.04,
          0.04,
          0.04,
          0.02,
          0.02,
          0.02,
          0.02,
          0.02,
          0.02,
          0.02,
          0.02,
          0.02,
          0.02,
          0.02,
          0.02,
          0.02,
          0,
          0,
          0,
          0,
          0,
          0,
          0,
          0,
          0,
          0,
          0,
          0,
          0,
          0,
          0,
          0,
          0,
          0
         ],
         "textposition": "outside",
         "type": "bar",
         "uid": "6fe686c5-0e3e-44bf-a13c-c8e4acee6136",
         "x": [
          0.1,
          0.1,
          0.1,
          0.08,
          0.08,
          0.08,
          0.04,
          0.04,
          0.04,
          0.04,
          0.04,
          0.02,
          0.02,
          0.02,
          0.02,
          0.02,
          0.02,
          0.02,
          0.02,
          0.02,
          0.02,
          0.02,
          0.02,
          0.02,
          0,
          0,
          0,
          0,
          0,
          0,
          0,
          0,
          0,
          0,
          0,
          0,
          0,
          0,
          0,
          0,
          0,
          0
         ],
         "y": [
          "http_header_connection_keep-alive + http_header_content-language_text/html",
          "http_header_vary_age / http_header_content-length",
          "http_header_content-encoding_gzip + http_header_transfer-encoding_chunked",
          "http_header_cache-control_set_private + http_header_content-encoding_gzip",
          "http_header_server_nginx + http_header_transfer-encoding_chunked",
          "http_header_cache-control_set_must-revalidate + http_header_content-encoding_gzip",
          "http_header_cache-control_set_private + http_header_vary_accept",
          "http_header_connection_keep-alive * http_header_content-language_text/html",
          "http_header_content-encoding_gzip + http_header_pragmano-cache",
          "http_header_content-language_text/html + http_header_server_nginx",
          "http_header_connection_keep-alive + http_header_vary_accept",
          "http_header_content-language_text/html + http_header_via_1.1",
          "http_header_content-language_text/html + http_header_expect-ctmax-age",
          "http_header_connection_keep-alive / http_header_content-language_text/html",
          "http_header_cache-control_set_public + http_header_content-encoding_gzip",
          "http_header_content-encoding_gzip + http_header_x-xss-enabled",
          "http_header_connection_close + http_header_content-encoding_gzip",
          "http_header_content-encoding_gzip + http_header_vary_age",
          "http_header_connection_close + http_header_content-language_text/html",
          "http_header_transfer-encoding_chunked + http_header_vary_accept",
          "http_header_cache-control_set_max-age + http_header_vary_accept",
          "http_header_cache-control_set_max-age + http_header_transfer-encoding_chunked",
          "http_header_cache-control_set_max-age + http_header_content-language_text/html",
          "http_header_content-encoding_gzip + http_header_server_nginx",
          "http_header_cache-control_set_public + http_header_transfer-encoding_chunked",
          "http_header_cache-control_set_no-cache + http_header_content-encoding_gzip",
          "http_header_content-language_text/html + http_header_transfer-encoding_chunked",
          "http_header_content-encoding_gzip",
          "http_header_content-encoding_gzip + http_header_content-language_text/html",
          "http_header_content-encoding_gzip + http_header_expect-ctmax-age",
          "http_header_content-encoding_gzip + http_header_vary_accept",
          "http_header_content-encoding_gzip + http_header_via_1.1",
          "http_header_content-encoding_gzip / http_header_content-language_text/html",
          "http_header_content-language_text/html",
          "http_header_content-language_text/html * http_header_transfer-encoding_chunked",
          "http_header_content-language_text/html + http_header_vary_accept",
          "http_header_content-language_text/html / http_header_connection_keep-alive",
          "http_header_content-language_text/html / http_header_transfer-encoding_chunked",
          "http_header_transfer-encoding_chunked + http_header_x-xss-enabled",
          "http_header_vary_accept + http_header_via_1.1",
          "http_header_vary_accept / http_header_content-language_text/html",
          "http_header_cache-control_set_max-age + http_header_content-encoding_gzip"
         ]
        }
       ],
       "layout": {
        "autosize": false,
        "height": 1000,
        "width": 1000,
        "xaxis": {
         "tickfont": {
          "color": "black",
          "size": 12
         },
         "title": "Feature Importances"
        },
        "yaxis": {
         "automargin": true
        }
       }
      },
      "text/html": [
       "<div id=\"b8437cd3-d155-420a-933e-88a5a38a780f\" style=\"height: 1000px; width: 1000px;\" class=\"plotly-graph-div\"></div><script type=\"text/javascript\">require([\"plotly\"], function(Plotly) { window.PLOTLYENV=window.PLOTLYENV || {};window.PLOTLYENV.BASE_URL=\"https://plot.ly\";Plotly.newPlot(\"b8437cd3-d155-420a-933e-88a5a38a780f\", [{\"marker\": {\"color\": \"rgb(158,202,225)\", \"line\": {\"color\": \"rgb(8,48,107)\", \"width\": 1.5}}, \"opacity\": 0.6, \"orientation\": \"h\", \"text\": [0.1, 0.1, 0.1, 0.08, 0.08, 0.08, 0.04, 0.04, 0.04, 0.04, 0.04, 0.02, 0.02, 0.02, 0.02, 0.02, 0.02, 0.02, 0.02, 0.02, 0.02, 0.02, 0.02, 0.02, 0.0, 0.0, 0.0, 0.0, 0.0, 0.0, 0.0, 0.0, 0.0, 0.0, 0.0, 0.0, 0.0, 0.0, 0.0, 0.0, 0.0, 0.0], \"textposition\": \"outside\", \"x\": [0.1, 0.1, 0.1, 0.08, 0.08, 0.08, 0.04, 0.04, 0.04, 0.04, 0.04, 0.02, 0.02, 0.02, 0.02, 0.02, 0.02, 0.02, 0.02, 0.02, 0.02, 0.02, 0.02, 0.02, 0.0, 0.0, 0.0, 0.0, 0.0, 0.0, 0.0, 0.0, 0.0, 0.0, 0.0, 0.0, 0.0, 0.0, 0.0, 0.0, 0.0, 0.0], \"y\": [\"http_header_connection_keep-alive + http_header_content-language_text/html\", \"http_header_vary_age / http_header_content-length\", \"http_header_content-encoding_gzip + http_header_transfer-encoding_chunked\", \"http_header_cache-control_set_private + http_header_content-encoding_gzip\", \"http_header_server_nginx + http_header_transfer-encoding_chunked\", \"http_header_cache-control_set_must-revalidate + http_header_content-encoding_gzip\", \"http_header_cache-control_set_private + http_header_vary_accept\", \"http_header_connection_keep-alive * http_header_content-language_text/html\", \"http_header_content-encoding_gzip + http_header_pragmano-cache\", \"http_header_content-language_text/html + http_header_server_nginx\", \"http_header_connection_keep-alive + http_header_vary_accept\", \"http_header_content-language_text/html + http_header_via_1.1\", \"http_header_content-language_text/html + http_header_expect-ctmax-age\", \"http_header_connection_keep-alive / http_header_content-language_text/html\", \"http_header_cache-control_set_public + http_header_content-encoding_gzip\", \"http_header_content-encoding_gzip + http_header_x-xss-enabled\", \"http_header_connection_close + http_header_content-encoding_gzip\", \"http_header_content-encoding_gzip + http_header_vary_age\", \"http_header_connection_close + http_header_content-language_text/html\", \"http_header_transfer-encoding_chunked + http_header_vary_accept\", \"http_header_cache-control_set_max-age + http_header_vary_accept\", \"http_header_cache-control_set_max-age + http_header_transfer-encoding_chunked\", \"http_header_cache-control_set_max-age + http_header_content-language_text/html\", \"http_header_content-encoding_gzip + http_header_server_nginx\", \"http_header_cache-control_set_public + http_header_transfer-encoding_chunked\", \"http_header_cache-control_set_no-cache + http_header_content-encoding_gzip\", \"http_header_content-language_text/html + http_header_transfer-encoding_chunked\", \"http_header_content-encoding_gzip\", \"http_header_content-encoding_gzip + http_header_content-language_text/html\", \"http_header_content-encoding_gzip + http_header_expect-ctmax-age\", \"http_header_content-encoding_gzip + http_header_vary_accept\", \"http_header_content-encoding_gzip + http_header_via_1.1\", \"http_header_content-encoding_gzip / http_header_content-language_text/html\", \"http_header_content-language_text/html\", \"http_header_content-language_text/html * http_header_transfer-encoding_chunked\", \"http_header_content-language_text/html + http_header_vary_accept\", \"http_header_content-language_text/html / http_header_connection_keep-alive\", \"http_header_content-language_text/html / http_header_transfer-encoding_chunked\", \"http_header_transfer-encoding_chunked + http_header_x-xss-enabled\", \"http_header_vary_accept + http_header_via_1.1\", \"http_header_vary_accept / http_header_content-language_text/html\", \"http_header_cache-control_set_max-age + http_header_content-encoding_gzip\"], \"type\": \"bar\", \"uid\": \"6fe686c5-0e3e-44bf-a13c-c8e4acee6136\"}], {\"autosize\": false, \"height\": 1000, \"width\": 1000, \"xaxis\": {\"tickfont\": {\"color\": \"black\", \"size\": 12}, \"title\": \"Feature Importances\"}, \"yaxis\": {\"automargin\": true}}, {\"showLink\": true, \"linkText\": \"Export to plot.ly\", \"plotlyServerURL\": \"https://plot.ly\"})});</script>"
      ],
      "text/vnd.plotly.v1+html": [
       "<div id=\"b8437cd3-d155-420a-933e-88a5a38a780f\" style=\"height: 1000px; width: 1000px;\" class=\"plotly-graph-div\"></div><script type=\"text/javascript\">require([\"plotly\"], function(Plotly) { window.PLOTLYENV=window.PLOTLYENV || {};window.PLOTLYENV.BASE_URL=\"https://plot.ly\";Plotly.newPlot(\"b8437cd3-d155-420a-933e-88a5a38a780f\", [{\"marker\": {\"color\": \"rgb(158,202,225)\", \"line\": {\"color\": \"rgb(8,48,107)\", \"width\": 1.5}}, \"opacity\": 0.6, \"orientation\": \"h\", \"text\": [0.1, 0.1, 0.1, 0.08, 0.08, 0.08, 0.04, 0.04, 0.04, 0.04, 0.04, 0.02, 0.02, 0.02, 0.02, 0.02, 0.02, 0.02, 0.02, 0.02, 0.02, 0.02, 0.02, 0.02, 0.0, 0.0, 0.0, 0.0, 0.0, 0.0, 0.0, 0.0, 0.0, 0.0, 0.0, 0.0, 0.0, 0.0, 0.0, 0.0, 0.0, 0.0], \"textposition\": \"outside\", \"x\": [0.1, 0.1, 0.1, 0.08, 0.08, 0.08, 0.04, 0.04, 0.04, 0.04, 0.04, 0.02, 0.02, 0.02, 0.02, 0.02, 0.02, 0.02, 0.02, 0.02, 0.02, 0.02, 0.02, 0.02, 0.0, 0.0, 0.0, 0.0, 0.0, 0.0, 0.0, 0.0, 0.0, 0.0, 0.0, 0.0, 0.0, 0.0, 0.0, 0.0, 0.0, 0.0], \"y\": [\"http_header_connection_keep-alive + http_header_content-language_text/html\", \"http_header_vary_age / http_header_content-length\", \"http_header_content-encoding_gzip + http_header_transfer-encoding_chunked\", \"http_header_cache-control_set_private + http_header_content-encoding_gzip\", \"http_header_server_nginx + http_header_transfer-encoding_chunked\", \"http_header_cache-control_set_must-revalidate + http_header_content-encoding_gzip\", \"http_header_cache-control_set_private + http_header_vary_accept\", \"http_header_connection_keep-alive * http_header_content-language_text/html\", \"http_header_content-encoding_gzip + http_header_pragmano-cache\", \"http_header_content-language_text/html + http_header_server_nginx\", \"http_header_connection_keep-alive + http_header_vary_accept\", \"http_header_content-language_text/html + http_header_via_1.1\", \"http_header_content-language_text/html + http_header_expect-ctmax-age\", \"http_header_connection_keep-alive / http_header_content-language_text/html\", \"http_header_cache-control_set_public + http_header_content-encoding_gzip\", \"http_header_content-encoding_gzip + http_header_x-xss-enabled\", \"http_header_connection_close + http_header_content-encoding_gzip\", \"http_header_content-encoding_gzip + http_header_vary_age\", \"http_header_connection_close + http_header_content-language_text/html\", \"http_header_transfer-encoding_chunked + http_header_vary_accept\", \"http_header_cache-control_set_max-age + http_header_vary_accept\", \"http_header_cache-control_set_max-age + http_header_transfer-encoding_chunked\", \"http_header_cache-control_set_max-age + http_header_content-language_text/html\", \"http_header_content-encoding_gzip + http_header_server_nginx\", \"http_header_cache-control_set_public + http_header_transfer-encoding_chunked\", \"http_header_cache-control_set_no-cache + http_header_content-encoding_gzip\", \"http_header_content-language_text/html + http_header_transfer-encoding_chunked\", \"http_header_content-encoding_gzip\", \"http_header_content-encoding_gzip + http_header_content-language_text/html\", \"http_header_content-encoding_gzip + http_header_expect-ctmax-age\", \"http_header_content-encoding_gzip + http_header_vary_accept\", \"http_header_content-encoding_gzip + http_header_via_1.1\", \"http_header_content-encoding_gzip / http_header_content-language_text/html\", \"http_header_content-language_text/html\", \"http_header_content-language_text/html * http_header_transfer-encoding_chunked\", \"http_header_content-language_text/html + http_header_vary_accept\", \"http_header_content-language_text/html / http_header_connection_keep-alive\", \"http_header_content-language_text/html / http_header_transfer-encoding_chunked\", \"http_header_transfer-encoding_chunked + http_header_x-xss-enabled\", \"http_header_vary_accept + http_header_via_1.1\", \"http_header_vary_accept / http_header_content-language_text/html\", \"http_header_cache-control_set_max-age + http_header_content-encoding_gzip\"], \"type\": \"bar\", \"uid\": \"6fe686c5-0e3e-44bf-a13c-c8e4acee6136\"}], {\"autosize\": false, \"height\": 1000, \"width\": 1000, \"xaxis\": {\"tickfont\": {\"color\": \"black\", \"size\": 12}, \"title\": \"Feature Importances\"}, \"yaxis\": {\"automargin\": true}}, {\"showLink\": true, \"linkText\": \"Export to plot.ly\", \"plotlyServerURL\": \"https://plot.ly\"})});</script>"
      ]
     },
     "metadata": {},
     "output_type": "display_data"
    },
    {
     "name": "stdout",
     "output_type": "stream",
     "text": [
      "\n",
      "\n",
      "\u001b[1mGradientBoosting Classifier\u001b[0m\n",
      "Accuracy of the model for training data is: 0.8945482866043614\n",
      "Confusion Matrix for training data is:\n"
     ]
    },
    {
     "data": {
      "text/plain": [
       "Predicted  False  True  __all__\n",
       "Actual                         \n",
       "False      25339  2541    27880\n",
       "True         844  3376     4220\n",
       "__all__    26183  5917    32100"
      ]
     },
     "metadata": {},
     "output_type": "display_data"
    },
    {
     "name": "stdout",
     "output_type": "stream",
     "text": [
      "Accuracy of the model for test data is: 0.894446059901134\n",
      "Confusion Matrix for test data is:\n"
     ]
    },
    {
     "data": {
      "text/plain": [
       "Predicted  False  True  __all__\n",
       "Actual                         \n",
       "False      10881  1074    11955\n",
       "True         378  1423     1801\n",
       "__all__    11259  2497    13756"
      ]
     },
     "metadata": {},
     "output_type": "display_data"
    },
    {
     "name": "stderr",
     "output_type": "stream",
     "text": [
      "distributed.utils - ERROR - \n",
      "Traceback (most recent call last):\n",
      "  File \"/nethomes/darshan/anaconda3/lib/python3.6/site-packages/distributed/utils.py\", line 713, in log_errors\n",
      "    yield\n",
      "  File \"/nethomes/darshan/anaconda3/lib/python3.6/site-packages/distributed/client.py\", line 1223, in _close\n",
      "    quiet_exceptions=(CancelledError,),\n",
      "  File \"/nethomes/darshan/anaconda3/lib/python3.6/site-packages/tornado/gen.py\", line 584, in with_timeout\n",
      "    chain_future(future_converted, result)\n",
      "  File \"/nethomes/darshan/anaconda3/lib/python3.6/site-packages/tornado/concurrent.py\", line 166, in chain_future\n",
      "    future_add_done_callback(a, copy)\n",
      "  File \"/nethomes/darshan/anaconda3/lib/python3.6/site-packages/tornado/concurrent.py\", line 262, in future_add_done_callback\n",
      "    callback(future)\n",
      "  File \"/nethomes/darshan/anaconda3/lib/python3.6/site-packages/tornado/concurrent.py\", line 160, in copy\n",
      "    elif a.exception() is not None:\n",
      "concurrent.futures._base.CancelledError\n",
      "Exception ignored in: <bound method Client.__del__ of <Client: not connected>>\n",
      "Traceback (most recent call last):\n",
      "  File \"/nethomes/darshan/anaconda3/lib/python3.6/site-packages/distributed/client.py\", line 1075, in __del__\n",
      "    self.close()\n",
      "  File \"/nethomes/darshan/anaconda3/lib/python3.6/site-packages/distributed/client.py\", line 1290, in close\n",
      "    sync(self.loop, self._close, fast=True)\n",
      "  File \"/nethomes/darshan/anaconda3/lib/python3.6/site-packages/distributed/utils.py\", line 331, in sync\n",
      "    six.reraise(*error[0])\n",
      "  File \"/nethomes/darshan/anaconda3/lib/python3.6/site-packages/six.py\", line 693, in reraise\n",
      "    raise value\n",
      "  File \"/nethomes/darshan/anaconda3/lib/python3.6/site-packages/distributed/utils.py\", line 316, in f\n",
      "    result[0] = yield future\n",
      "  File \"/nethomes/darshan/anaconda3/lib/python3.6/site-packages/tornado/gen.py\", line 729, in run\n",
      "    value = future.result()\n",
      "  File \"/nethomes/darshan/anaconda3/lib/python3.6/site-packages/tornado/gen.py\", line 209, in wrapper\n",
      "    yielded = next(result)\n",
      "  File \"/nethomes/darshan/anaconda3/lib/python3.6/site-packages/distributed/client.py\", line 1223, in _close\n",
      "    quiet_exceptions=(CancelledError,),\n",
      "  File \"/nethomes/darshan/anaconda3/lib/python3.6/site-packages/tornado/gen.py\", line 584, in with_timeout\n",
      "    chain_future(future_converted, result)\n",
      "  File \"/nethomes/darshan/anaconda3/lib/python3.6/site-packages/tornado/concurrent.py\", line 166, in chain_future\n",
      "    future_add_done_callback(a, copy)\n",
      "  File \"/nethomes/darshan/anaconda3/lib/python3.6/site-packages/tornado/concurrent.py\", line 262, in future_add_done_callback\n",
      "    callback(future)\n",
      "  File \"/nethomes/darshan/anaconda3/lib/python3.6/site-packages/tornado/concurrent.py\", line 160, in copy\n",
      "    elif a.exception() is not None:\n",
      "concurrent.futures._base.CancelledError: \n"
     ]
    },
    {
     "data": {
      "application/vnd.plotly.v1+json": {
       "config": {
        "linkText": "Export to plot.ly",
        "plotlyServerURL": "https://plot.ly",
        "showLink": true
       },
       "data": [
        {
         "marker": {
          "color": "rgb(158,202,225)",
          "line": {
           "color": "rgb(8,48,107)",
           "width": 1.5
          }
         },
         "opacity": 0.6,
         "orientation": "h",
         "text": [
          0.5006,
          0.13,
          0.0655,
          0.0598,
          0.0584,
          0.0315,
          0.0236,
          0.0215,
          0.0183,
          0.0139,
          0.0131,
          0.0116,
          0.0107,
          0.0076,
          0.004,
          0.0033,
          0.003,
          0.003,
          0.0028,
          0.0024,
          0.0023,
          0.0021,
          0.002,
          0.0018,
          0.0018,
          0.001,
          0.0008,
          0.0007,
          0.0007,
          0.0005,
          0.0005,
          0.0005,
          0.0004,
          0.0002,
          0.0001,
          0,
          0,
          0,
          0,
          0,
          0,
          0
         ],
         "textposition": "outside",
         "type": "bar",
         "uid": "e71556a8-542d-456b-9738-f832edaf126b",
         "x": [
          0.5006240346033799,
          0.12998926883619066,
          0.06553278274673247,
          0.05983485779091151,
          0.05842638486708137,
          0.0315168744410247,
          0.02355609002648148,
          0.02147433761230051,
          0.018342859585096943,
          0.013945112450337643,
          0.013051626445830135,
          0.011558029592416119,
          0.010742245466260006,
          0.007616374937314838,
          0.004002168997584604,
          0.003254353222322371,
          0.003026346384846466,
          0.0029932434020161847,
          0.0028498589522885755,
          0.0023828351673116617,
          0.0022857522197592462,
          0.0020580213773797704,
          0.0020319920542576993,
          0.0018371016341640668,
          0.0017926247669485717,
          0.0009906632196617646,
          0.0007861033829362864,
          0.0006786295666467084,
          0.0006663176966366143,
          0.00048812705298366085,
          0.000486835460539999,
          0.00047555275118419673,
          0.0003686494810951376,
          0.00019880326836952197,
          0.00013251162340327977,
          2.114307331311428e-06,
          5.14608974016421e-07,
          0,
          0,
          0,
          0,
          0
         ],
         "y": [
          "http_header_content-encoding_gzip + http_header_transfer-encoding_chunked",
          "http_header_vary_age / http_header_content-length",
          "http_header_cache-control_set_private + http_header_content-encoding_gzip",
          "http_header_connection_keep-alive + http_header_content-language_text/html",
          "http_header_cache-control_set_must-revalidate + http_header_content-encoding_gzip",
          "http_header_server_nginx + http_header_transfer-encoding_chunked",
          "http_header_cache-control_set_max-age + http_header_vary_accept",
          "http_header_content-encoding_gzip + http_header_via_1.1",
          "http_header_cache-control_set_max-age + http_header_content-encoding_gzip",
          "http_header_cache-control_set_private + http_header_vary_accept",
          "http_header_content-encoding_gzip + http_header_server_nginx",
          "http_header_cache-control_set_max-age + http_header_transfer-encoding_chunked",
          "http_header_connection_close + http_header_content-encoding_gzip",
          "http_header_vary_accept + http_header_via_1.1",
          "http_header_connection_close + http_header_content-language_text/html",
          "http_header_connection_keep-alive / http_header_content-language_text/html",
          "http_header_content-language_text/html + http_header_server_nginx",
          "http_header_cache-control_set_no-cache + http_header_content-encoding_gzip",
          "http_header_content-encoding_gzip + http_header_x-xss-enabled",
          "http_header_content-encoding_gzip + http_header_pragmano-cache",
          "http_header_connection_keep-alive + http_header_vary_accept",
          "http_header_content-language_text/html + http_header_via_1.1",
          "http_header_cache-control_set_max-age + http_header_content-language_text/html",
          "http_header_content-language_text/html / http_header_connection_keep-alive",
          "http_header_transfer-encoding_chunked + http_header_vary_accept",
          "http_header_transfer-encoding_chunked + http_header_x-xss-enabled",
          "http_header_content-language_text/html + http_header_expect-ctmax-age",
          "http_header_connection_keep-alive * http_header_content-language_text/html",
          "http_header_content-language_text/html + http_header_transfer-encoding_chunked",
          "http_header_content-encoding_gzip + http_header_vary_age",
          "http_header_content-encoding_gzip + http_header_expect-ctmax-age",
          "http_header_cache-control_set_public + http_header_content-encoding_gzip",
          "http_header_content-encoding_gzip + http_header_vary_accept",
          "http_header_content-encoding_gzip + http_header_content-language_text/html",
          "http_header_cache-control_set_public + http_header_transfer-encoding_chunked",
          "http_header_content-encoding_gzip / http_header_content-language_text/html",
          "http_header_content-language_text/html",
          "http_header_content-language_text/html / http_header_transfer-encoding_chunked",
          "http_header_content-encoding_gzip",
          "http_header_vary_accept / http_header_content-language_text/html",
          "http_header_content-language_text/html * http_header_transfer-encoding_chunked",
          "http_header_content-language_text/html + http_header_vary_accept"
         ]
        }
       ],
       "layout": {
        "autosize": false,
        "height": 1000,
        "width": 1000,
        "xaxis": {
         "tickfont": {
          "color": "black",
          "size": 12
         },
         "title": "Feature Importances"
        },
        "yaxis": {
         "automargin": true
        }
       }
      },
      "text/html": [
       "<div id=\"66ec7fd7-8a5f-4d23-bef4-b7b6e67e1300\" style=\"height: 1000px; width: 1000px;\" class=\"plotly-graph-div\"></div><script type=\"text/javascript\">require([\"plotly\"], function(Plotly) { window.PLOTLYENV=window.PLOTLYENV || {};window.PLOTLYENV.BASE_URL=\"https://plot.ly\";Plotly.newPlot(\"66ec7fd7-8a5f-4d23-bef4-b7b6e67e1300\", [{\"marker\": {\"color\": \"rgb(158,202,225)\", \"line\": {\"color\": \"rgb(8,48,107)\", \"width\": 1.5}}, \"opacity\": 0.6, \"orientation\": \"h\", \"text\": [0.5006, 0.13, 0.0655, 0.0598, 0.0584, 0.0315, 0.0236, 0.0215, 0.0183, 0.0139, 0.0131, 0.0116, 0.0107, 0.0076, 0.004, 0.0033, 0.003, 0.003, 0.0028, 0.0024, 0.0023, 0.0021, 0.002, 0.0018, 0.0018, 0.001, 0.0008, 0.0007, 0.0007, 0.0005, 0.0005, 0.0005, 0.0004, 0.0002, 0.0001, 0.0, 0.0, 0.0, 0.0, 0.0, 0.0, 0.0], \"textposition\": \"outside\", \"x\": [0.5006240346033799, 0.12998926883619066, 0.06553278274673247, 0.05983485779091151, 0.05842638486708137, 0.0315168744410247, 0.02355609002648148, 0.02147433761230051, 0.018342859585096943, 0.013945112450337643, 0.013051626445830135, 0.011558029592416119, 0.010742245466260006, 0.007616374937314838, 0.004002168997584604, 0.003254353222322371, 0.003026346384846466, 0.0029932434020161847, 0.0028498589522885755, 0.0023828351673116617, 0.0022857522197592462, 0.0020580213773797704, 0.0020319920542576993, 0.0018371016341640668, 0.0017926247669485717, 0.0009906632196617646, 0.0007861033829362864, 0.0006786295666467084, 0.0006663176966366143, 0.00048812705298366085, 0.000486835460539999, 0.00047555275118419673, 0.0003686494810951376, 0.00019880326836952197, 0.00013251162340327977, 2.114307331311428e-06, 5.14608974016421e-07, 0.0, 0.0, 0.0, 0.0, 0.0], \"y\": [\"http_header_content-encoding_gzip + http_header_transfer-encoding_chunked\", \"http_header_vary_age / http_header_content-length\", \"http_header_cache-control_set_private + http_header_content-encoding_gzip\", \"http_header_connection_keep-alive + http_header_content-language_text/html\", \"http_header_cache-control_set_must-revalidate + http_header_content-encoding_gzip\", \"http_header_server_nginx + http_header_transfer-encoding_chunked\", \"http_header_cache-control_set_max-age + http_header_vary_accept\", \"http_header_content-encoding_gzip + http_header_via_1.1\", \"http_header_cache-control_set_max-age + http_header_content-encoding_gzip\", \"http_header_cache-control_set_private + http_header_vary_accept\", \"http_header_content-encoding_gzip + http_header_server_nginx\", \"http_header_cache-control_set_max-age + http_header_transfer-encoding_chunked\", \"http_header_connection_close + http_header_content-encoding_gzip\", \"http_header_vary_accept + http_header_via_1.1\", \"http_header_connection_close + http_header_content-language_text/html\", \"http_header_connection_keep-alive / http_header_content-language_text/html\", \"http_header_content-language_text/html + http_header_server_nginx\", \"http_header_cache-control_set_no-cache + http_header_content-encoding_gzip\", \"http_header_content-encoding_gzip + http_header_x-xss-enabled\", \"http_header_content-encoding_gzip + http_header_pragmano-cache\", \"http_header_connection_keep-alive + http_header_vary_accept\", \"http_header_content-language_text/html + http_header_via_1.1\", \"http_header_cache-control_set_max-age + http_header_content-language_text/html\", \"http_header_content-language_text/html / http_header_connection_keep-alive\", \"http_header_transfer-encoding_chunked + http_header_vary_accept\", \"http_header_transfer-encoding_chunked + http_header_x-xss-enabled\", \"http_header_content-language_text/html + http_header_expect-ctmax-age\", \"http_header_connection_keep-alive * http_header_content-language_text/html\", \"http_header_content-language_text/html + http_header_transfer-encoding_chunked\", \"http_header_content-encoding_gzip + http_header_vary_age\", \"http_header_content-encoding_gzip + http_header_expect-ctmax-age\", \"http_header_cache-control_set_public + http_header_content-encoding_gzip\", \"http_header_content-encoding_gzip + http_header_vary_accept\", \"http_header_content-encoding_gzip + http_header_content-language_text/html\", \"http_header_cache-control_set_public + http_header_transfer-encoding_chunked\", \"http_header_content-encoding_gzip / http_header_content-language_text/html\", \"http_header_content-language_text/html\", \"http_header_content-language_text/html / http_header_transfer-encoding_chunked\", \"http_header_content-encoding_gzip\", \"http_header_vary_accept / http_header_content-language_text/html\", \"http_header_content-language_text/html * http_header_transfer-encoding_chunked\", \"http_header_content-language_text/html + http_header_vary_accept\"], \"type\": \"bar\", \"uid\": \"e71556a8-542d-456b-9738-f832edaf126b\"}], {\"autosize\": false, \"height\": 1000, \"width\": 1000, \"xaxis\": {\"tickfont\": {\"color\": \"black\", \"size\": 12}, \"title\": \"Feature Importances\"}, \"yaxis\": {\"automargin\": true}}, {\"showLink\": true, \"linkText\": \"Export to plot.ly\", \"plotlyServerURL\": \"https://plot.ly\"})});</script>"
      ],
      "text/vnd.plotly.v1+html": [
       "<div id=\"66ec7fd7-8a5f-4d23-bef4-b7b6e67e1300\" style=\"height: 1000px; width: 1000px;\" class=\"plotly-graph-div\"></div><script type=\"text/javascript\">require([\"plotly\"], function(Plotly) { window.PLOTLYENV=window.PLOTLYENV || {};window.PLOTLYENV.BASE_URL=\"https://plot.ly\";Plotly.newPlot(\"66ec7fd7-8a5f-4d23-bef4-b7b6e67e1300\", [{\"marker\": {\"color\": \"rgb(158,202,225)\", \"line\": {\"color\": \"rgb(8,48,107)\", \"width\": 1.5}}, \"opacity\": 0.6, \"orientation\": \"h\", \"text\": [0.5006, 0.13, 0.0655, 0.0598, 0.0584, 0.0315, 0.0236, 0.0215, 0.0183, 0.0139, 0.0131, 0.0116, 0.0107, 0.0076, 0.004, 0.0033, 0.003, 0.003, 0.0028, 0.0024, 0.0023, 0.0021, 0.002, 0.0018, 0.0018, 0.001, 0.0008, 0.0007, 0.0007, 0.0005, 0.0005, 0.0005, 0.0004, 0.0002, 0.0001, 0.0, 0.0, 0.0, 0.0, 0.0, 0.0, 0.0], \"textposition\": \"outside\", \"x\": [0.5006240346033799, 0.12998926883619066, 0.06553278274673247, 0.05983485779091151, 0.05842638486708137, 0.0315168744410247, 0.02355609002648148, 0.02147433761230051, 0.018342859585096943, 0.013945112450337643, 0.013051626445830135, 0.011558029592416119, 0.010742245466260006, 0.007616374937314838, 0.004002168997584604, 0.003254353222322371, 0.003026346384846466, 0.0029932434020161847, 0.0028498589522885755, 0.0023828351673116617, 0.0022857522197592462, 0.0020580213773797704, 0.0020319920542576993, 0.0018371016341640668, 0.0017926247669485717, 0.0009906632196617646, 0.0007861033829362864, 0.0006786295666467084, 0.0006663176966366143, 0.00048812705298366085, 0.000486835460539999, 0.00047555275118419673, 0.0003686494810951376, 0.00019880326836952197, 0.00013251162340327977, 2.114307331311428e-06, 5.14608974016421e-07, 0.0, 0.0, 0.0, 0.0, 0.0], \"y\": [\"http_header_content-encoding_gzip + http_header_transfer-encoding_chunked\", \"http_header_vary_age / http_header_content-length\", \"http_header_cache-control_set_private + http_header_content-encoding_gzip\", \"http_header_connection_keep-alive + http_header_content-language_text/html\", \"http_header_cache-control_set_must-revalidate + http_header_content-encoding_gzip\", \"http_header_server_nginx + http_header_transfer-encoding_chunked\", \"http_header_cache-control_set_max-age + http_header_vary_accept\", \"http_header_content-encoding_gzip + http_header_via_1.1\", \"http_header_cache-control_set_max-age + http_header_content-encoding_gzip\", \"http_header_cache-control_set_private + http_header_vary_accept\", \"http_header_content-encoding_gzip + http_header_server_nginx\", \"http_header_cache-control_set_max-age + http_header_transfer-encoding_chunked\", \"http_header_connection_close + http_header_content-encoding_gzip\", \"http_header_vary_accept + http_header_via_1.1\", \"http_header_connection_close + http_header_content-language_text/html\", \"http_header_connection_keep-alive / http_header_content-language_text/html\", \"http_header_content-language_text/html + http_header_server_nginx\", \"http_header_cache-control_set_no-cache + http_header_content-encoding_gzip\", \"http_header_content-encoding_gzip + http_header_x-xss-enabled\", \"http_header_content-encoding_gzip + http_header_pragmano-cache\", \"http_header_connection_keep-alive + http_header_vary_accept\", \"http_header_content-language_text/html + http_header_via_1.1\", \"http_header_cache-control_set_max-age + http_header_content-language_text/html\", \"http_header_content-language_text/html / http_header_connection_keep-alive\", \"http_header_transfer-encoding_chunked + http_header_vary_accept\", \"http_header_transfer-encoding_chunked + http_header_x-xss-enabled\", \"http_header_content-language_text/html + http_header_expect-ctmax-age\", \"http_header_connection_keep-alive * http_header_content-language_text/html\", \"http_header_content-language_text/html + http_header_transfer-encoding_chunked\", \"http_header_content-encoding_gzip + http_header_vary_age\", \"http_header_content-encoding_gzip + http_header_expect-ctmax-age\", \"http_header_cache-control_set_public + http_header_content-encoding_gzip\", \"http_header_content-encoding_gzip + http_header_vary_accept\", \"http_header_content-encoding_gzip + http_header_content-language_text/html\", \"http_header_cache-control_set_public + http_header_transfer-encoding_chunked\", \"http_header_content-encoding_gzip / http_header_content-language_text/html\", \"http_header_content-language_text/html\", \"http_header_content-language_text/html / http_header_transfer-encoding_chunked\", \"http_header_content-encoding_gzip\", \"http_header_vary_accept / http_header_content-language_text/html\", \"http_header_content-language_text/html * http_header_transfer-encoding_chunked\", \"http_header_content-language_text/html + http_header_vary_accept\"], \"type\": \"bar\", \"uid\": \"e71556a8-542d-456b-9738-f832edaf126b\"}], {\"autosize\": false, \"height\": 1000, \"width\": 1000, \"xaxis\": {\"tickfont\": {\"color\": \"black\", \"size\": 12}, \"title\": \"Feature Importances\"}, \"yaxis\": {\"automargin\": true}}, {\"showLink\": true, \"linkText\": \"Export to plot.ly\", \"plotlyServerURL\": \"https://plot.ly\"})});</script>"
      ]
     },
     "metadata": {},
     "output_type": "display_data"
    },
    {
     "name": "stdout",
     "output_type": "stream",
     "text": [
      "\n",
      "\n",
      "\u001b[1mExtraTree Classifier\u001b[0m\n",
      "Accuracy of the model for training data is: 0.8978193146417446\n",
      "Confusion Matrix for training data is:\n"
     ]
    },
    {
     "data": {
      "text/plain": [
       "Predicted  False  True  __all__\n",
       "Actual                         \n",
       "False      25334  2546    27880\n",
       "True         734  3486     4220\n",
       "__all__    26068  6032    32100"
      ]
     },
     "metadata": {},
     "output_type": "display_data"
    },
    {
     "name": "stdout",
     "output_type": "stream",
     "text": [
      "Accuracy of the model for test data is: 0.8975719685955219\n",
      "Confusion Matrix for test data is:\n"
     ]
    },
    {
     "data": {
      "text/plain": [
       "Predicted  False  True  __all__\n",
       "Actual                         \n",
       "False      10875  1080    11955\n",
       "True         329  1472     1801\n",
       "__all__    11204  2552    13756"
      ]
     },
     "metadata": {},
     "output_type": "display_data"
    },
    {
     "data": {
      "application/vnd.plotly.v1+json": {
       "config": {
        "linkText": "Export to plot.ly",
        "plotlyServerURL": "https://plot.ly",
        "showLink": true
       },
       "data": [
        {
         "marker": {
          "color": "rgb(158,202,225)",
          "line": {
           "color": "rgb(8,48,107)",
           "width": 1.5
          }
         },
         "opacity": 0.6,
         "orientation": "h",
         "text": [
          0.1072,
          0.0937,
          0.0699,
          0.0669,
          0.0663,
          0.0631,
          0.0611,
          0.0606,
          0.0564,
          0.0562,
          0.0558,
          0.0258,
          0.0205,
          0.0194,
          0.0174,
          0.0168,
          0.0142,
          0.0122,
          0.0116,
          0.0109,
          0.0097,
          0.0087,
          0.0077,
          0.0074,
          0.0072,
          0.0069,
          0.0069,
          0.0062,
          0.0059,
          0.0058,
          0.0049,
          0.0038,
          0.0031,
          0.0023,
          0.0022,
          0.0017,
          0.0013,
          0.0012,
          0.001,
          0.0001,
          0,
          0
         ],
         "textposition": "outside",
         "type": "bar",
         "uid": "a553480f-8e98-49a7-8228-23f9eb8bd677",
         "x": [
          0.10715113689307865,
          0.09373069859769106,
          0.06989198045917551,
          0.06689896721561697,
          0.06633827178348631,
          0.06306054254462612,
          0.06113272387827432,
          0.06064139647604007,
          0.05636100279098775,
          0.056224104034960164,
          0.0557891047000781,
          0.025815167918145178,
          0.020491316442808057,
          0.019383009359157138,
          0.017377850595909693,
          0.016759781431966013,
          0.014215774617805677,
          0.01216837682690387,
          0.011614882905859224,
          0.010904086108562496,
          0.009733118522696186,
          0.00873599593959647,
          0.00771430016585604,
          0.007352436043822058,
          0.007210334504435717,
          0.0069153774992577795,
          0.006880032949141998,
          0.006217796791471255,
          0.005941659656595268,
          0.005767637325093161,
          0.004912999731653581,
          0.0037547016674435102,
          0.0030574476605446763,
          0.002272825271484516,
          0.002218891590962813,
          0.0016659629961847393,
          0.0012906124069995831,
          0.001222705343379522,
          0.0010320742375338732,
          0.00011042238716452927,
          2.912765710738504e-05,
          1.3364070442985681e-05
         ],
         "y": [
          "http_header_vary_age / http_header_content-length",
          "http_header_content-language_text/html + http_header_expect-ctmax-age",
          "http_header_content-language_text/html + http_header_server_nginx",
          "http_header_content-encoding_gzip + http_header_x-xss-enabled",
          "http_header_content-language_text/html + http_header_via_1.1",
          "http_header_content-encoding_gzip + http_header_server_nginx",
          "http_header_connection_close + http_header_content-language_text/html",
          "http_header_cache-control_set_public + http_header_content-encoding_gzip",
          "http_header_content-encoding_gzip + http_header_vary_age",
          "http_header_connection_keep-alive + http_header_content-language_text/html",
          "http_header_cache-control_set_must-revalidate + http_header_content-encoding_gzip",
          "http_header_content-encoding_gzip + http_header_pragmano-cache",
          "http_header_cache-control_set_no-cache + http_header_content-encoding_gzip",
          "http_header_server_nginx + http_header_transfer-encoding_chunked",
          "http_header_connection_keep-alive / http_header_content-language_text/html",
          "http_header_cache-control_set_max-age + http_header_content-encoding_gzip",
          "http_header_content-encoding_gzip + http_header_via_1.1",
          "http_header_content-encoding_gzip",
          "http_header_connection_close + http_header_content-encoding_gzip",
          "http_header_cache-control_set_max-age + http_header_vary_accept",
          "http_header_transfer-encoding_chunked + http_header_x-xss-enabled",
          "http_header_cache-control_set_private + http_header_vary_accept",
          "http_header_content-language_text/html / http_header_transfer-encoding_chunked",
          "http_header_connection_keep-alive * http_header_content-language_text/html",
          "http_header_cache-control_set_max-age + http_header_transfer-encoding_chunked",
          "http_header_content-language_text/html / http_header_connection_keep-alive",
          "http_header_cache-control_set_private + http_header_content-encoding_gzip",
          "http_header_connection_keep-alive + http_header_vary_accept",
          "http_header_content-language_text/html + http_header_transfer-encoding_chunked",
          "http_header_cache-control_set_public + http_header_transfer-encoding_chunked",
          "http_header_transfer-encoding_chunked + http_header_vary_accept",
          "http_header_content-language_text/html * http_header_transfer-encoding_chunked",
          "http_header_vary_accept + http_header_via_1.1",
          "http_header_content-encoding_gzip + http_header_vary_accept",
          "http_header_cache-control_set_max-age + http_header_content-language_text/html",
          "http_header_content-encoding_gzip + http_header_expect-ctmax-age",
          "http_header_vary_accept / http_header_content-language_text/html",
          "http_header_content-encoding_gzip + http_header_transfer-encoding_chunked",
          "http_header_content-language_text/html + http_header_vary_accept",
          "http_header_content-encoding_gzip + http_header_content-language_text/html",
          "http_header_content-encoding_gzip / http_header_content-language_text/html",
          "http_header_content-language_text/html"
         ]
        }
       ],
       "layout": {
        "autosize": false,
        "height": 1000,
        "width": 1000,
        "xaxis": {
         "tickfont": {
          "color": "black",
          "size": 12
         },
         "title": "Feature Importances"
        },
        "yaxis": {
         "automargin": true
        }
       }
      },
      "text/html": [
       "<div id=\"14e63039-3fd8-4ebb-ac47-c4f76a715fea\" style=\"height: 1000px; width: 1000px;\" class=\"plotly-graph-div\"></div><script type=\"text/javascript\">require([\"plotly\"], function(Plotly) { window.PLOTLYENV=window.PLOTLYENV || {};window.PLOTLYENV.BASE_URL=\"https://plot.ly\";Plotly.newPlot(\"14e63039-3fd8-4ebb-ac47-c4f76a715fea\", [{\"marker\": {\"color\": \"rgb(158,202,225)\", \"line\": {\"color\": \"rgb(8,48,107)\", \"width\": 1.5}}, \"opacity\": 0.6, \"orientation\": \"h\", \"text\": [0.1072, 0.0937, 0.0699, 0.0669, 0.0663, 0.0631, 0.0611, 0.0606, 0.0564, 0.0562, 0.0558, 0.0258, 0.0205, 0.0194, 0.0174, 0.0168, 0.0142, 0.0122, 0.0116, 0.0109, 0.0097, 0.0087, 0.0077, 0.0074, 0.0072, 0.0069, 0.0069, 0.0062, 0.0059, 0.0058, 0.0049, 0.0038, 0.0031, 0.0023, 0.0022, 0.0017, 0.0013, 0.0012, 0.001, 0.0001, 0.0, 0.0], \"textposition\": \"outside\", \"x\": [0.10715113689307865, 0.09373069859769106, 0.06989198045917551, 0.06689896721561697, 0.06633827178348631, 0.06306054254462612, 0.06113272387827432, 0.06064139647604007, 0.05636100279098775, 0.056224104034960164, 0.0557891047000781, 0.025815167918145178, 0.020491316442808057, 0.019383009359157138, 0.017377850595909693, 0.016759781431966013, 0.014215774617805677, 0.01216837682690387, 0.011614882905859224, 0.010904086108562496, 0.009733118522696186, 0.00873599593959647, 0.00771430016585604, 0.007352436043822058, 0.007210334504435717, 0.0069153774992577795, 0.006880032949141998, 0.006217796791471255, 0.005941659656595268, 0.005767637325093161, 0.004912999731653581, 0.0037547016674435102, 0.0030574476605446763, 0.002272825271484516, 0.002218891590962813, 0.0016659629961847393, 0.0012906124069995831, 0.001222705343379522, 0.0010320742375338732, 0.00011042238716452927, 2.912765710738504e-05, 1.3364070442985681e-05], \"y\": [\"http_header_vary_age / http_header_content-length\", \"http_header_content-language_text/html + http_header_expect-ctmax-age\", \"http_header_content-language_text/html + http_header_server_nginx\", \"http_header_content-encoding_gzip + http_header_x-xss-enabled\", \"http_header_content-language_text/html + http_header_via_1.1\", \"http_header_content-encoding_gzip + http_header_server_nginx\", \"http_header_connection_close + http_header_content-language_text/html\", \"http_header_cache-control_set_public + http_header_content-encoding_gzip\", \"http_header_content-encoding_gzip + http_header_vary_age\", \"http_header_connection_keep-alive + http_header_content-language_text/html\", \"http_header_cache-control_set_must-revalidate + http_header_content-encoding_gzip\", \"http_header_content-encoding_gzip + http_header_pragmano-cache\", \"http_header_cache-control_set_no-cache + http_header_content-encoding_gzip\", \"http_header_server_nginx + http_header_transfer-encoding_chunked\", \"http_header_connection_keep-alive / http_header_content-language_text/html\", \"http_header_cache-control_set_max-age + http_header_content-encoding_gzip\", \"http_header_content-encoding_gzip + http_header_via_1.1\", \"http_header_content-encoding_gzip\", \"http_header_connection_close + http_header_content-encoding_gzip\", \"http_header_cache-control_set_max-age + http_header_vary_accept\", \"http_header_transfer-encoding_chunked + http_header_x-xss-enabled\", \"http_header_cache-control_set_private + http_header_vary_accept\", \"http_header_content-language_text/html / http_header_transfer-encoding_chunked\", \"http_header_connection_keep-alive * http_header_content-language_text/html\", \"http_header_cache-control_set_max-age + http_header_transfer-encoding_chunked\", \"http_header_content-language_text/html / http_header_connection_keep-alive\", \"http_header_cache-control_set_private + http_header_content-encoding_gzip\", \"http_header_connection_keep-alive + http_header_vary_accept\", \"http_header_content-language_text/html + http_header_transfer-encoding_chunked\", \"http_header_cache-control_set_public + http_header_transfer-encoding_chunked\", \"http_header_transfer-encoding_chunked + http_header_vary_accept\", \"http_header_content-language_text/html * http_header_transfer-encoding_chunked\", \"http_header_vary_accept + http_header_via_1.1\", \"http_header_content-encoding_gzip + http_header_vary_accept\", \"http_header_cache-control_set_max-age + http_header_content-language_text/html\", \"http_header_content-encoding_gzip + http_header_expect-ctmax-age\", \"http_header_vary_accept / http_header_content-language_text/html\", \"http_header_content-encoding_gzip + http_header_transfer-encoding_chunked\", \"http_header_content-language_text/html + http_header_vary_accept\", \"http_header_content-encoding_gzip + http_header_content-language_text/html\", \"http_header_content-encoding_gzip / http_header_content-language_text/html\", \"http_header_content-language_text/html\"], \"type\": \"bar\", \"uid\": \"a553480f-8e98-49a7-8228-23f9eb8bd677\"}], {\"autosize\": false, \"height\": 1000, \"width\": 1000, \"xaxis\": {\"tickfont\": {\"color\": \"black\", \"size\": 12}, \"title\": \"Feature Importances\"}, \"yaxis\": {\"automargin\": true}}, {\"showLink\": true, \"linkText\": \"Export to plot.ly\", \"plotlyServerURL\": \"https://plot.ly\"})});</script>"
      ],
      "text/vnd.plotly.v1+html": [
       "<div id=\"14e63039-3fd8-4ebb-ac47-c4f76a715fea\" style=\"height: 1000px; width: 1000px;\" class=\"plotly-graph-div\"></div><script type=\"text/javascript\">require([\"plotly\"], function(Plotly) { window.PLOTLYENV=window.PLOTLYENV || {};window.PLOTLYENV.BASE_URL=\"https://plot.ly\";Plotly.newPlot(\"14e63039-3fd8-4ebb-ac47-c4f76a715fea\", [{\"marker\": {\"color\": \"rgb(158,202,225)\", \"line\": {\"color\": \"rgb(8,48,107)\", \"width\": 1.5}}, \"opacity\": 0.6, \"orientation\": \"h\", \"text\": [0.1072, 0.0937, 0.0699, 0.0669, 0.0663, 0.0631, 0.0611, 0.0606, 0.0564, 0.0562, 0.0558, 0.0258, 0.0205, 0.0194, 0.0174, 0.0168, 0.0142, 0.0122, 0.0116, 0.0109, 0.0097, 0.0087, 0.0077, 0.0074, 0.0072, 0.0069, 0.0069, 0.0062, 0.0059, 0.0058, 0.0049, 0.0038, 0.0031, 0.0023, 0.0022, 0.0017, 0.0013, 0.0012, 0.001, 0.0001, 0.0, 0.0], \"textposition\": \"outside\", \"x\": [0.10715113689307865, 0.09373069859769106, 0.06989198045917551, 0.06689896721561697, 0.06633827178348631, 0.06306054254462612, 0.06113272387827432, 0.06064139647604007, 0.05636100279098775, 0.056224104034960164, 0.0557891047000781, 0.025815167918145178, 0.020491316442808057, 0.019383009359157138, 0.017377850595909693, 0.016759781431966013, 0.014215774617805677, 0.01216837682690387, 0.011614882905859224, 0.010904086108562496, 0.009733118522696186, 0.00873599593959647, 0.00771430016585604, 0.007352436043822058, 0.007210334504435717, 0.0069153774992577795, 0.006880032949141998, 0.006217796791471255, 0.005941659656595268, 0.005767637325093161, 0.004912999731653581, 0.0037547016674435102, 0.0030574476605446763, 0.002272825271484516, 0.002218891590962813, 0.0016659629961847393, 0.0012906124069995831, 0.001222705343379522, 0.0010320742375338732, 0.00011042238716452927, 2.912765710738504e-05, 1.3364070442985681e-05], \"y\": [\"http_header_vary_age / http_header_content-length\", \"http_header_content-language_text/html + http_header_expect-ctmax-age\", \"http_header_content-language_text/html + http_header_server_nginx\", \"http_header_content-encoding_gzip + http_header_x-xss-enabled\", \"http_header_content-language_text/html + http_header_via_1.1\", \"http_header_content-encoding_gzip + http_header_server_nginx\", \"http_header_connection_close + http_header_content-language_text/html\", \"http_header_cache-control_set_public + http_header_content-encoding_gzip\", \"http_header_content-encoding_gzip + http_header_vary_age\", \"http_header_connection_keep-alive + http_header_content-language_text/html\", \"http_header_cache-control_set_must-revalidate + http_header_content-encoding_gzip\", \"http_header_content-encoding_gzip + http_header_pragmano-cache\", \"http_header_cache-control_set_no-cache + http_header_content-encoding_gzip\", \"http_header_server_nginx + http_header_transfer-encoding_chunked\", \"http_header_connection_keep-alive / http_header_content-language_text/html\", \"http_header_cache-control_set_max-age + http_header_content-encoding_gzip\", \"http_header_content-encoding_gzip + http_header_via_1.1\", \"http_header_content-encoding_gzip\", \"http_header_connection_close + http_header_content-encoding_gzip\", \"http_header_cache-control_set_max-age + http_header_vary_accept\", \"http_header_transfer-encoding_chunked + http_header_x-xss-enabled\", \"http_header_cache-control_set_private + http_header_vary_accept\", \"http_header_content-language_text/html / http_header_transfer-encoding_chunked\", \"http_header_connection_keep-alive * http_header_content-language_text/html\", \"http_header_cache-control_set_max-age + http_header_transfer-encoding_chunked\", \"http_header_content-language_text/html / http_header_connection_keep-alive\", \"http_header_cache-control_set_private + http_header_content-encoding_gzip\", \"http_header_connection_keep-alive + http_header_vary_accept\", \"http_header_content-language_text/html + http_header_transfer-encoding_chunked\", \"http_header_cache-control_set_public + http_header_transfer-encoding_chunked\", \"http_header_transfer-encoding_chunked + http_header_vary_accept\", \"http_header_content-language_text/html * http_header_transfer-encoding_chunked\", \"http_header_vary_accept + http_header_via_1.1\", \"http_header_content-encoding_gzip + http_header_vary_accept\", \"http_header_cache-control_set_max-age + http_header_content-language_text/html\", \"http_header_content-encoding_gzip + http_header_expect-ctmax-age\", \"http_header_vary_accept / http_header_content-language_text/html\", \"http_header_content-encoding_gzip + http_header_transfer-encoding_chunked\", \"http_header_content-language_text/html + http_header_vary_accept\", \"http_header_content-encoding_gzip + http_header_content-language_text/html\", \"http_header_content-encoding_gzip / http_header_content-language_text/html\", \"http_header_content-language_text/html\"], \"type\": \"bar\", \"uid\": \"a553480f-8e98-49a7-8228-23f9eb8bd677\"}], {\"autosize\": false, \"height\": 1000, \"width\": 1000, \"xaxis\": {\"tickfont\": {\"color\": \"black\", \"size\": 12}, \"title\": \"Feature Importances\"}, \"yaxis\": {\"automargin\": true}}, {\"showLink\": true, \"linkText\": \"Export to plot.ly\", \"plotlyServerURL\": \"https://plot.ly\"})});</script>"
      ]
     },
     "metadata": {},
     "output_type": "display_data"
    },
    {
     "name": "stdout",
     "output_type": "stream",
     "text": [
      "\n",
      "\n",
      "\u001b[1mBagging Classifier\u001b[0m\n",
      "Accuracy of the model for training data is: 0.8975700934579439\n",
      "Confusion Matrix for training data is:\n"
     ]
    },
    {
     "data": {
      "text/plain": [
       "Predicted  False  True  __all__\n",
       "Actual                         \n",
       "False      25331  2549    27880\n",
       "True         739  3481     4220\n",
       "__all__    26070  6030    32100"
      ]
     },
     "metadata": {},
     "output_type": "display_data"
    },
    {
     "name": "stdout",
     "output_type": "stream",
     "text": [
      "Accuracy of the model for test data is: 0.8977173596975865\n",
      "Confusion Matrix for test data is:\n"
     ]
    },
    {
     "data": {
      "text/plain": [
       "Predicted  False  True  __all__\n",
       "Actual                         \n",
       "False      10878  1077    11955\n",
       "True         330  1471     1801\n",
       "__all__    11208  2548    13756"
      ]
     },
     "metadata": {},
     "output_type": "display_data"
    },
    {
     "name": "stdout",
     "output_type": "stream",
     "text": [
      "\n",
      "\n",
      "\u001b[1mNeural Network-1\u001b[0m\n",
      "The accuracy of the model on training data is: 0.890373831775701\n"
     ]
    },
    {
     "data": {
      "text/plain": [
       "Predicted  False  True  __all__\n",
       "Actual                         \n",
       "False      25322  2558    27880\n",
       "True         961  3259     4220\n",
       "__all__    26283  5817    32100"
      ]
     },
     "metadata": {},
     "output_type": "display_data"
    },
    {
     "name": "stdout",
     "output_type": "stream",
     "text": [
      "The accuracy of the model on test data is: 0.8924832800232626\n"
     ]
    },
    {
     "data": {
      "text/plain": [
       "Predicted  False  True  __all__\n",
       "Actual                         \n",
       "False      10884  1071    11955\n",
       "True         408  1393     1801\n",
       "__all__    11292  2464    13756"
      ]
     },
     "metadata": {},
     "output_type": "display_data"
    },
    {
     "name": "stdout",
     "output_type": "stream",
     "text": [
      "\n",
      "\n"
     ]
    }
   ],
   "source": [
    "feat_imp=[None]*4\n",
    "j=0\n",
    "for i in range(0,8):\n",
    "    if i>=2 and i<=5:\n",
    "        model,cm_train,cm_test,acc_train,acc_test,roc_auc,feat_imp[j],mcc=f[i](scaled_X_train,train_Y,scaled_X_test,test_Y,columns)\n",
    "        j=j+1\n",
    "    else:\n",
    "        model,cm_train,cm_test,acc_train,acc_test,roc_auc,mcc=f[i](scaled_X_train,train_Y,scaled_X_test,test_Y)\n",
    "    table_80_60_train.loc[i]=   ([acc_train,cm_train.TP,cm_train.TN,cm_train.FP,cm_train.FN,cm_train.FPR,cm_train.FNR])\n",
    "    table_80_60_test.loc[i] =   ([acc_test ,cm_test.TP, cm_test.TN, cm_test.FP, cm_test.FN, cm_test.FPR, cm_test.FNR,roc_auc,mcc])\n",
    "    print(\"\\n\")"
   ]
  },
  {
   "cell_type": "markdown",
   "metadata": {},
   "source": [
    "### <a id='4.A' style=\"text-decoration : none; color : #000000;\"> A. Results</a>"
   ]
  },
  {
   "cell_type": "code",
   "execution_count": 73,
   "metadata": {},
   "outputs": [
    {
     "data": {
      "application/vnd.plotly.v1+json": {
       "config": {
        "linkText": "Export to plot.ly",
        "plotlyServerURL": "https://plot.ly",
        "showLink": true
       },
       "data": [
        {
         "mode": "lines",
         "name": "KNN_model",
         "type": "scatter",
         "uid": "52c6c5f2-6a5a-4fe4-a6c9-3c9e82761d3e",
         "x": [
          "accuracy",
          "FPR",
          "FNR",
          "auc"
         ],
         "y": [
          0.8814335562663564,
          0.0109577582601422,
          0.832870627429206,
          0.5780858071553259
         ]
        },
        {
         "mode": "lines+markers",
         "name": "Logistic Regression",
         "type": "scatter",
         "uid": "1bef6243-4333-4c38-bf03-6ef5da0fa7fe",
         "x": [
          "accuracy",
          "FPR",
          "FNR",
          "auc"
         ],
         "y": [
          0.8782349520209363,
          0.07779171894604768,
          0.413659078289839,
          0.7542746013820567
         ]
        },
        {
         "marker": {
          "symbol": "x"
         },
         "mode": "lines+markers",
         "name": "Random Forest",
         "type": "scatter",
         "uid": "83b3a756-1814-4590-bc8f-3aaa2ade6499",
         "x": [
          "accuracy",
          "FPR",
          "FNR",
          "auc"
         ],
         "y": [
          0.897862750799651,
          0.08983688833124216,
          0.18378678511937813,
          0.86318816327469
         ]
        },
        {
         "mode": "lines",
         "name": "Ada Boost",
         "type": "scatter",
         "uid": "4434bd8d-164d-4be5-ad0a-3e72e4745ab7",
         "x": [
          "accuracy",
          "FPR",
          "FNR",
          "auc"
         ],
         "y": [
          0.8777987787147427,
          0.07862818904224174,
          0.4114380899500278,
          0.7549668605038652
         ]
        },
        {
         "mode": "lines+markers",
         "name": "GradientBoosting",
         "type": "scatter",
         "uid": "898da7d1-cef7-4606-92d1-01b01919fbc9",
         "x": [
          "accuracy",
          "FPR",
          "FNR",
          "auc"
         ],
         "y": [
          0.894446059901134,
          0.08983688833124216,
          0.20988339811215992,
          0.850139856778299
         ]
        },
        {
         "marker": {
          "symbol": "x"
         },
         "mode": "lines+markers",
         "name": "ExtraTree Classifier",
         "type": "scatter",
         "uid": "2d6976dd-e758-41ef-9575-9a119fedf2ac",
         "x": [
          "accuracy",
          "FPR",
          "FNR",
          "auc"
         ],
         "y": [
          0.8975719685955219,
          0.0903387703889586,
          0.18267629094947252,
          0.8634924693307844
         ]
        },
        {
         "marker": {
          "symbol": "x"
         },
         "mode": "lines+markers",
         "name": "Bagging",
         "type": "scatter",
         "uid": "efc6a01d-fb63-49d8-b671-8f83e72b5347",
         "x": [
          "accuracy",
          "FPR",
          "FNR",
          "auc"
         ],
         "y": [
          0.8977173596975865,
          0.09008782936010037,
          0.18323153803442532,
          0.8633403163027372
         ]
        },
        {
         "marker": {
          "symbol": "x"
         },
         "mode": "lines+markers",
         "name": "Neural Network",
         "type": "scatter",
         "uid": "2003e404-2472-49aa-a163-883c74b669f4",
         "x": [
          "accuracy",
          "FPR",
          "FNR",
          "auc"
         ],
         "y": [
          0.8924832800232626,
          0.08958594730238394,
          0.22654081066074402,
          0.8633403163027372
         ]
        }
       ],
       "layout": {
        "title": "Result comparision for Features selected in Section 1",
        "yaxis": {
         "dtick": 0.05,
         "tick0": 0
        }
       }
      },
      "text/html": [
       "<div id=\"31c94c6b-9a98-45d5-b8c2-c0767f712e18\" style=\"height: 525px; width: 100%;\" class=\"plotly-graph-div\"></div><script type=\"text/javascript\">require([\"plotly\"], function(Plotly) { window.PLOTLYENV=window.PLOTLYENV || {};window.PLOTLYENV.BASE_URL=\"https://plot.ly\";Plotly.newPlot(\"31c94c6b-9a98-45d5-b8c2-c0767f712e18\", [{\"mode\": \"lines\", \"name\": \"KNN_model\", \"x\": [\"accuracy\", \"FPR\", \"FNR\", \"auc\"], \"y\": [0.8814335562663564, 0.0109577582601422, 0.832870627429206, 0.5780858071553259], \"type\": \"scatter\", \"uid\": \"52c6c5f2-6a5a-4fe4-a6c9-3c9e82761d3e\"}, {\"mode\": \"lines+markers\", \"name\": \"Logistic Regression\", \"x\": [\"accuracy\", \"FPR\", \"FNR\", \"auc\"], \"y\": [0.8782349520209363, 0.07779171894604768, 0.413659078289839, 0.7542746013820567], \"type\": \"scatter\", \"uid\": \"1bef6243-4333-4c38-bf03-6ef5da0fa7fe\"}, {\"marker\": {\"symbol\": \"x\"}, \"mode\": \"lines+markers\", \"name\": \"Random Forest\", \"x\": [\"accuracy\", \"FPR\", \"FNR\", \"auc\"], \"y\": [0.897862750799651, 0.08983688833124216, 0.18378678511937813, 0.86318816327469], \"type\": \"scatter\", \"uid\": \"83b3a756-1814-4590-bc8f-3aaa2ade6499\"}, {\"mode\": \"lines\", \"name\": \"Ada Boost\", \"x\": [\"accuracy\", \"FPR\", \"FNR\", \"auc\"], \"y\": [0.8777987787147427, 0.07862818904224174, 0.4114380899500278, 0.7549668605038652], \"type\": \"scatter\", \"uid\": \"4434bd8d-164d-4be5-ad0a-3e72e4745ab7\"}, {\"mode\": \"lines+markers\", \"name\": \"GradientBoosting\", \"x\": [\"accuracy\", \"FPR\", \"FNR\", \"auc\"], \"y\": [0.894446059901134, 0.08983688833124216, 0.20988339811215992, 0.850139856778299], \"type\": \"scatter\", \"uid\": \"898da7d1-cef7-4606-92d1-01b01919fbc9\"}, {\"marker\": {\"symbol\": \"x\"}, \"mode\": \"lines+markers\", \"name\": \"ExtraTree Classifier\", \"x\": [\"accuracy\", \"FPR\", \"FNR\", \"auc\"], \"y\": [0.8975719685955219, 0.0903387703889586, 0.18267629094947252, 0.8634924693307844], \"type\": \"scatter\", \"uid\": \"2d6976dd-e758-41ef-9575-9a119fedf2ac\"}, {\"marker\": {\"symbol\": \"x\"}, \"mode\": \"lines+markers\", \"name\": \"Bagging\", \"x\": [\"accuracy\", \"FPR\", \"FNR\", \"auc\"], \"y\": [0.8977173596975865, 0.09008782936010037, 0.18323153803442532, 0.8633403163027372], \"type\": \"scatter\", \"uid\": \"efc6a01d-fb63-49d8-b671-8f83e72b5347\"}, {\"marker\": {\"symbol\": \"x\"}, \"mode\": \"lines+markers\", \"name\": \"Neural Network\", \"x\": [\"accuracy\", \"FPR\", \"FNR\", \"auc\"], \"y\": [0.8924832800232626, 0.08958594730238394, 0.22654081066074402, 0.8633403163027372], \"type\": \"scatter\", \"uid\": \"2003e404-2472-49aa-a163-883c74b669f4\"}], {\"title\": \"Result comparision for Features selected in Section 1\", \"yaxis\": {\"dtick\": 0.05, \"tick0\": 0}}, {\"showLink\": true, \"linkText\": \"Export to plot.ly\", \"plotlyServerURL\": \"https://plot.ly\"})});</script><script type=\"text/javascript\">window.addEventListener(\"resize\", function(){window._Plotly.Plots.resize(document.getElementById(\"31c94c6b-9a98-45d5-b8c2-c0767f712e18\"));});</script>"
      ],
      "text/vnd.plotly.v1+html": [
       "<div id=\"31c94c6b-9a98-45d5-b8c2-c0767f712e18\" style=\"height: 525px; width: 100%;\" class=\"plotly-graph-div\"></div><script type=\"text/javascript\">require([\"plotly\"], function(Plotly) { window.PLOTLYENV=window.PLOTLYENV || {};window.PLOTLYENV.BASE_URL=\"https://plot.ly\";Plotly.newPlot(\"31c94c6b-9a98-45d5-b8c2-c0767f712e18\", [{\"mode\": \"lines\", \"name\": \"KNN_model\", \"x\": [\"accuracy\", \"FPR\", \"FNR\", \"auc\"], \"y\": [0.8814335562663564, 0.0109577582601422, 0.832870627429206, 0.5780858071553259], \"type\": \"scatter\", \"uid\": \"52c6c5f2-6a5a-4fe4-a6c9-3c9e82761d3e\"}, {\"mode\": \"lines+markers\", \"name\": \"Logistic Regression\", \"x\": [\"accuracy\", \"FPR\", \"FNR\", \"auc\"], \"y\": [0.8782349520209363, 0.07779171894604768, 0.413659078289839, 0.7542746013820567], \"type\": \"scatter\", \"uid\": \"1bef6243-4333-4c38-bf03-6ef5da0fa7fe\"}, {\"marker\": {\"symbol\": \"x\"}, \"mode\": \"lines+markers\", \"name\": \"Random Forest\", \"x\": [\"accuracy\", \"FPR\", \"FNR\", \"auc\"], \"y\": [0.897862750799651, 0.08983688833124216, 0.18378678511937813, 0.86318816327469], \"type\": \"scatter\", \"uid\": \"83b3a756-1814-4590-bc8f-3aaa2ade6499\"}, {\"mode\": \"lines\", \"name\": \"Ada Boost\", \"x\": [\"accuracy\", \"FPR\", \"FNR\", \"auc\"], \"y\": [0.8777987787147427, 0.07862818904224174, 0.4114380899500278, 0.7549668605038652], \"type\": \"scatter\", \"uid\": \"4434bd8d-164d-4be5-ad0a-3e72e4745ab7\"}, {\"mode\": \"lines+markers\", \"name\": \"GradientBoosting\", \"x\": [\"accuracy\", \"FPR\", \"FNR\", \"auc\"], \"y\": [0.894446059901134, 0.08983688833124216, 0.20988339811215992, 0.850139856778299], \"type\": \"scatter\", \"uid\": \"898da7d1-cef7-4606-92d1-01b01919fbc9\"}, {\"marker\": {\"symbol\": \"x\"}, \"mode\": \"lines+markers\", \"name\": \"ExtraTree Classifier\", \"x\": [\"accuracy\", \"FPR\", \"FNR\", \"auc\"], \"y\": [0.8975719685955219, 0.0903387703889586, 0.18267629094947252, 0.8634924693307844], \"type\": \"scatter\", \"uid\": \"2d6976dd-e758-41ef-9575-9a119fedf2ac\"}, {\"marker\": {\"symbol\": \"x\"}, \"mode\": \"lines+markers\", \"name\": \"Bagging\", \"x\": [\"accuracy\", \"FPR\", \"FNR\", \"auc\"], \"y\": [0.8977173596975865, 0.09008782936010037, 0.18323153803442532, 0.8633403163027372], \"type\": \"scatter\", \"uid\": \"efc6a01d-fb63-49d8-b671-8f83e72b5347\"}, {\"marker\": {\"symbol\": \"x\"}, \"mode\": \"lines+markers\", \"name\": \"Neural Network\", \"x\": [\"accuracy\", \"FPR\", \"FNR\", \"auc\"], \"y\": [0.8924832800232626, 0.08958594730238394, 0.22654081066074402, 0.8633403163027372], \"type\": \"scatter\", \"uid\": \"2003e404-2472-49aa-a163-883c74b669f4\"}], {\"title\": \"Result comparision for Features selected in Section 1\", \"yaxis\": {\"dtick\": 0.05, \"tick0\": 0}}, {\"showLink\": true, \"linkText\": \"Export to plot.ly\", \"plotlyServerURL\": \"https://plot.ly\"})});</script><script type=\"text/javascript\">window.addEventListener(\"resize\", function(){window._Plotly.Plots.resize(document.getElementById(\"31c94c6b-9a98-45d5-b8c2-c0767f712e18\"));});</script>"
      ]
     },
     "metadata": {},
     "output_type": "display_data"
    }
   ],
   "source": [
    "trace0 = go.Scatter(x=table_80_60_test.iloc[0].index.values[[0,5,6,7]],\n",
    "                    y=table_80_60_test.iloc[0].values[[0,5,6,7]],\n",
    "                    mode = 'lines',\n",
    "                    name = 'KNN_model')\n",
    "\n",
    "trace1 = go.Scatter(x=table_80_60_test.iloc[1].index.values[[0,5,6,7]],\n",
    "                    y=table_80_60_test.iloc[1].values[[0,5,6,7]],\n",
    "                    mode = 'lines+markers',\n",
    "                    name = 'Logistic Regression')\n",
    "\n",
    "trace2 = go.Scatter(x=table_80_60_test.iloc[2].index.values[[0,5,6,7]],\n",
    "                    y=table_80_60_test.iloc[2].values[[0,5,6,7]],\n",
    "                    mode = 'lines+markers',marker=dict(symbol='x'),\n",
    "                    name = 'Random Forest')\n",
    "\n",
    "\n",
    "trace3 = go.Scatter(x=table_80_60_test.iloc[3].index.values[[0,5,6,7]],\n",
    "                    y=table_80_60_test.iloc[3].values[[0,5,6,7]],\n",
    "                    mode = 'lines',\n",
    "                    name = 'Ada Boost')\n",
    "\n",
    "trace4 = go.Scatter(x=table_80_60_test.iloc[4].index.values[[0,5,6,7]],\n",
    "                    y=table_80_60_test.iloc[4].values[[0,5,6,7]],\n",
    "                    mode = 'lines+markers',\n",
    "                    name = 'GradientBoosting')\n",
    "\n",
    "trace5 = go.Scatter(x=table_80_60_test.iloc[5].index.values[[0,5,6,7]],\n",
    "                    y=table_80_60_test.iloc[5].values[[0,5,6,7]],\n",
    "                    mode = 'lines+markers',marker=dict(symbol='x'),\n",
    "                    name = 'ExtraTree Classifier')\n",
    "\n",
    "trace6 = go.Scatter(x=table_80_60_test.iloc[6].index.values[[0,5,6,7]],\n",
    "                    y=table_80_60_test.iloc[6].values[[0,5,6,7]],\n",
    "                    mode = 'lines+markers',marker=dict(symbol='x'),\n",
    "                    name = 'Bagging')\n",
    "\n",
    "trace7 = go.Scatter(x=table_80_60_test.iloc[7].index.values[[0,5,6,7]],\n",
    "                    y=table_80_60_test.iloc[7].values[[0,5,6,7]],\n",
    "                    mode = 'lines+markers',marker=dict(symbol='x'),\n",
    "                    name = 'Neural Network')\n",
    "\n",
    "\n",
    "\n",
    "data = [trace0, trace1, trace2, trace3, trace4, trace5, trace6, trace7]\n",
    "layout = go.Layout(yaxis=dict(tick0=0,dtick=0.05),title='Result comparision for Features selected in Section 1')\n",
    "fig = go.Figure(data=data, layout=layout)\n",
    "\n",
    "iplot(fig, filename='Result')"
   ]
  },
  {
   "cell_type": "code",
   "execution_count": 74,
   "metadata": {},
   "outputs": [
    {
     "name": "stdout",
     "output_type": "stream",
     "text": [
      "Training Results\n"
     ]
    },
    {
     "data": {
      "text/html": [
       "<div>\n",
       "<style scoped>\n",
       "    .dataframe tbody tr th:only-of-type {\n",
       "        vertical-align: middle;\n",
       "    }\n",
       "\n",
       "    .dataframe tbody tr th {\n",
       "        vertical-align: top;\n",
       "    }\n",
       "\n",
       "    .dataframe thead th {\n",
       "        text-align: right;\n",
       "    }\n",
       "</style>\n",
       "<table border=\"1\" class=\"dataframe\">\n",
       "  <thead>\n",
       "    <tr style=\"text-align: right;\">\n",
       "      <th></th>\n",
       "      <th>accuracy</th>\n",
       "      <th>TP</th>\n",
       "      <th>TN</th>\n",
       "      <th>FP</th>\n",
       "      <th>FN</th>\n",
       "      <th>FPR</th>\n",
       "      <th>FNR</th>\n",
       "    </tr>\n",
       "    <tr>\n",
       "      <th>index</th>\n",
       "      <th></th>\n",
       "      <th></th>\n",
       "      <th></th>\n",
       "      <th></th>\n",
       "      <th></th>\n",
       "      <th></th>\n",
       "      <th></th>\n",
       "    </tr>\n",
       "  </thead>\n",
       "  <tbody>\n",
       "    <tr>\n",
       "      <th>KNeighborsClassifier</th>\n",
       "      <td>0.877757</td>\n",
       "      <td>671.0</td>\n",
       "      <td>27505.0</td>\n",
       "      <td>375.0</td>\n",
       "      <td>3549.0</td>\n",
       "      <td>0.013451</td>\n",
       "      <td>0.840995</td>\n",
       "    </tr>\n",
       "    <tr>\n",
       "      <th>LogisticRegression</th>\n",
       "      <td>0.880841</td>\n",
       "      <td>2548.0</td>\n",
       "      <td>25727.0</td>\n",
       "      <td>2153.0</td>\n",
       "      <td>1672.0</td>\n",
       "      <td>0.077224</td>\n",
       "      <td>0.396209</td>\n",
       "    </tr>\n",
       "    <tr>\n",
       "      <th>RandomForestClassifier</th>\n",
       "      <td>0.897477</td>\n",
       "      <td>3477.0</td>\n",
       "      <td>25332.0</td>\n",
       "      <td>2548.0</td>\n",
       "      <td>743.0</td>\n",
       "      <td>0.091392</td>\n",
       "      <td>0.176066</td>\n",
       "    </tr>\n",
       "    <tr>\n",
       "      <th>AdaBoostClassifier</th>\n",
       "      <td>0.880561</td>\n",
       "      <td>2552.0</td>\n",
       "      <td>25714.0</td>\n",
       "      <td>2166.0</td>\n",
       "      <td>1668.0</td>\n",
       "      <td>0.077690</td>\n",
       "      <td>0.395261</td>\n",
       "    </tr>\n",
       "    <tr>\n",
       "      <th>GradientBoostingClassifier</th>\n",
       "      <td>0.894548</td>\n",
       "      <td>3376.0</td>\n",
       "      <td>25339.0</td>\n",
       "      <td>2541.0</td>\n",
       "      <td>844.0</td>\n",
       "      <td>0.091141</td>\n",
       "      <td>0.200000</td>\n",
       "    </tr>\n",
       "    <tr>\n",
       "      <th>ExtraTreeClassifier</th>\n",
       "      <td>0.897819</td>\n",
       "      <td>3486.0</td>\n",
       "      <td>25334.0</td>\n",
       "      <td>2546.0</td>\n",
       "      <td>734.0</td>\n",
       "      <td>0.091320</td>\n",
       "      <td>0.173934</td>\n",
       "    </tr>\n",
       "    <tr>\n",
       "      <th>BaggingClassifier</th>\n",
       "      <td>0.897570</td>\n",
       "      <td>3481.0</td>\n",
       "      <td>25331.0</td>\n",
       "      <td>2549.0</td>\n",
       "      <td>739.0</td>\n",
       "      <td>0.091428</td>\n",
       "      <td>0.175118</td>\n",
       "    </tr>\n",
       "    <tr>\n",
       "      <th>Neural Network-1</th>\n",
       "      <td>0.890374</td>\n",
       "      <td>3259.0</td>\n",
       "      <td>25322.0</td>\n",
       "      <td>2558.0</td>\n",
       "      <td>961.0</td>\n",
       "      <td>0.091750</td>\n",
       "      <td>0.227725</td>\n",
       "    </tr>\n",
       "  </tbody>\n",
       "</table>\n",
       "</div>"
      ],
      "text/plain": [
       "                            accuracy      TP       TN      FP      FN  \\\n",
       "index                                                                   \n",
       "KNeighborsClassifier        0.877757   671.0  27505.0   375.0  3549.0   \n",
       "LogisticRegression          0.880841  2548.0  25727.0  2153.0  1672.0   \n",
       "RandomForestClassifier      0.897477  3477.0  25332.0  2548.0   743.0   \n",
       "AdaBoostClassifier          0.880561  2552.0  25714.0  2166.0  1668.0   \n",
       "GradientBoostingClassifier  0.894548  3376.0  25339.0  2541.0   844.0   \n",
       "ExtraTreeClassifier         0.897819  3486.0  25334.0  2546.0   734.0   \n",
       "BaggingClassifier           0.897570  3481.0  25331.0  2549.0   739.0   \n",
       "Neural Network-1            0.890374  3259.0  25322.0  2558.0   961.0   \n",
       "\n",
       "                                 FPR       FNR  \n",
       "index                                           \n",
       "KNeighborsClassifier        0.013451  0.840995  \n",
       "LogisticRegression          0.077224  0.396209  \n",
       "RandomForestClassifier      0.091392  0.176066  \n",
       "AdaBoostClassifier          0.077690  0.395261  \n",
       "GradientBoostingClassifier  0.091141  0.200000  \n",
       "ExtraTreeClassifier         0.091320  0.173934  \n",
       "BaggingClassifier           0.091428  0.175118  \n",
       "Neural Network-1            0.091750  0.227725  "
      ]
     },
     "metadata": {},
     "output_type": "display_data"
    },
    {
     "name": "stdout",
     "output_type": "stream",
     "text": [
      "Test Results\n"
     ]
    },
    {
     "data": {
      "text/html": [
       "<div>\n",
       "<style scoped>\n",
       "    .dataframe tbody tr th:only-of-type {\n",
       "        vertical-align: middle;\n",
       "    }\n",
       "\n",
       "    .dataframe tbody tr th {\n",
       "        vertical-align: top;\n",
       "    }\n",
       "\n",
       "    .dataframe thead th {\n",
       "        text-align: right;\n",
       "    }\n",
       "</style>\n",
       "<table border=\"1\" class=\"dataframe\">\n",
       "  <thead>\n",
       "    <tr style=\"text-align: right;\">\n",
       "      <th></th>\n",
       "      <th>accuracy</th>\n",
       "      <th>TP</th>\n",
       "      <th>TN</th>\n",
       "      <th>FP</th>\n",
       "      <th>FN</th>\n",
       "      <th>FPR</th>\n",
       "      <th>FNR</th>\n",
       "      <th>auc</th>\n",
       "      <th>mcc</th>\n",
       "    </tr>\n",
       "    <tr>\n",
       "      <th>index</th>\n",
       "      <th></th>\n",
       "      <th></th>\n",
       "      <th></th>\n",
       "      <th></th>\n",
       "      <th></th>\n",
       "      <th></th>\n",
       "      <th></th>\n",
       "      <th></th>\n",
       "      <th></th>\n",
       "    </tr>\n",
       "  </thead>\n",
       "  <tbody>\n",
       "    <tr>\n",
       "      <th>KNeighborsClassifier</th>\n",
       "      <td>0.881434</td>\n",
       "      <td>301.0</td>\n",
       "      <td>11824.0</td>\n",
       "      <td>131.0</td>\n",
       "      <td>1500.0</td>\n",
       "      <td>0.010958</td>\n",
       "      <td>0.832871</td>\n",
       "      <td>0.578086</td>\n",
       "      <td>0.302047</td>\n",
       "    </tr>\n",
       "    <tr>\n",
       "      <th>LogisticRegression</th>\n",
       "      <td>0.878235</td>\n",
       "      <td>1056.0</td>\n",
       "      <td>11025.0</td>\n",
       "      <td>930.0</td>\n",
       "      <td>745.0</td>\n",
       "      <td>0.077792</td>\n",
       "      <td>0.413659</td>\n",
       "      <td>0.754275</td>\n",
       "      <td>0.488075</td>\n",
       "    </tr>\n",
       "    <tr>\n",
       "      <th>RandomForestClassifier</th>\n",
       "      <td>0.897863</td>\n",
       "      <td>1470.0</td>\n",
       "      <td>10881.0</td>\n",
       "      <td>1074.0</td>\n",
       "      <td>331.0</td>\n",
       "      <td>0.089837</td>\n",
       "      <td>0.183787</td>\n",
       "      <td>0.863188</td>\n",
       "      <td>0.631093</td>\n",
       "    </tr>\n",
       "    <tr>\n",
       "      <th>AdaBoostClassifier</th>\n",
       "      <td>0.877799</td>\n",
       "      <td>1060.0</td>\n",
       "      <td>11015.0</td>\n",
       "      <td>940.0</td>\n",
       "      <td>741.0</td>\n",
       "      <td>0.078628</td>\n",
       "      <td>0.411438</td>\n",
       "      <td>0.754967</td>\n",
       "      <td>0.487978</td>\n",
       "    </tr>\n",
       "    <tr>\n",
       "      <th>GradientBoostingClassifier</th>\n",
       "      <td>0.894446</td>\n",
       "      <td>1423.0</td>\n",
       "      <td>10881.0</td>\n",
       "      <td>1074.0</td>\n",
       "      <td>378.0</td>\n",
       "      <td>0.089837</td>\n",
       "      <td>0.209883</td>\n",
       "      <td>0.850140</td>\n",
       "      <td>0.612836</td>\n",
       "    </tr>\n",
       "    <tr>\n",
       "      <th>ExtraTreeClassifier</th>\n",
       "      <td>0.897572</td>\n",
       "      <td>1472.0</td>\n",
       "      <td>10875.0</td>\n",
       "      <td>1080.0</td>\n",
       "      <td>329.0</td>\n",
       "      <td>0.090339</td>\n",
       "      <td>0.182676</td>\n",
       "      <td>0.863492</td>\n",
       "      <td>0.630856</td>\n",
       "    </tr>\n",
       "    <tr>\n",
       "      <th>BaggingClassifier</th>\n",
       "      <td>0.897717</td>\n",
       "      <td>1471.0</td>\n",
       "      <td>10878.0</td>\n",
       "      <td>1077.0</td>\n",
       "      <td>330.0</td>\n",
       "      <td>0.090088</td>\n",
       "      <td>0.183232</td>\n",
       "      <td>0.863340</td>\n",
       "      <td>0.630974</td>\n",
       "    </tr>\n",
       "    <tr>\n",
       "      <th>Neural Network-1</th>\n",
       "      <td>0.892483</td>\n",
       "      <td>1393.0</td>\n",
       "      <td>10884.0</td>\n",
       "      <td>1071.0</td>\n",
       "      <td>408.0</td>\n",
       "      <td>0.089586</td>\n",
       "      <td>0.226541</td>\n",
       "      <td>0.863340</td>\n",
       "      <td>0.601591</td>\n",
       "    </tr>\n",
       "  </tbody>\n",
       "</table>\n",
       "</div>"
      ],
      "text/plain": [
       "                            accuracy      TP       TN      FP      FN  \\\n",
       "index                                                                   \n",
       "KNeighborsClassifier        0.881434   301.0  11824.0   131.0  1500.0   \n",
       "LogisticRegression          0.878235  1056.0  11025.0   930.0   745.0   \n",
       "RandomForestClassifier      0.897863  1470.0  10881.0  1074.0   331.0   \n",
       "AdaBoostClassifier          0.877799  1060.0  11015.0   940.0   741.0   \n",
       "GradientBoostingClassifier  0.894446  1423.0  10881.0  1074.0   378.0   \n",
       "ExtraTreeClassifier         0.897572  1472.0  10875.0  1080.0   329.0   \n",
       "BaggingClassifier           0.897717  1471.0  10878.0  1077.0   330.0   \n",
       "Neural Network-1            0.892483  1393.0  10884.0  1071.0   408.0   \n",
       "\n",
       "                                 FPR       FNR       auc       mcc  \n",
       "index                                                               \n",
       "KNeighborsClassifier        0.010958  0.832871  0.578086  0.302047  \n",
       "LogisticRegression          0.077792  0.413659  0.754275  0.488075  \n",
       "RandomForestClassifier      0.089837  0.183787  0.863188  0.631093  \n",
       "AdaBoostClassifier          0.078628  0.411438  0.754967  0.487978  \n",
       "GradientBoostingClassifier  0.089837  0.209883  0.850140  0.612836  \n",
       "ExtraTreeClassifier         0.090339  0.182676  0.863492  0.630856  \n",
       "BaggingClassifier           0.090088  0.183232  0.863340  0.630974  \n",
       "Neural Network-1            0.089586  0.226541  0.863340  0.601591  "
      ]
     },
     "metadata": {},
     "output_type": "display_data"
    }
   ],
   "source": [
    "table_80_60_train['index']=ind_columns\n",
    "table_80_60_test['index']=ind_columns\n",
    "\n",
    "\n",
    "table_80_60_test.set_index(['index'],drop=True,inplace=True)\n",
    "table_80_60_train.set_index(['index'],drop=True,inplace=True)\n",
    "\n",
    "print(\"Training Results\")\n",
    "display(table_80_60_train)\n",
    "print(\"Test Results\")\n",
    "display(table_80_60_test)"
   ]
  },
  {
   "cell_type": "markdown",
   "metadata": {},
   "source": [
    "### <a id='4.B' style=\"text-decoration : none; color : #000000;\"> B. Average Feature Importances</a>"
   ]
  },
  {
   "cell_type": "code",
   "execution_count": 75,
   "metadata": {},
   "outputs": [
    {
     "data": {
      "application/vnd.plotly.v1+json": {
       "config": {
        "linkText": "Export to plot.ly",
        "plotlyServerURL": "https://plot.ly",
        "showLink": true
       },
       "data": [
        {
         "marker": {
          "color": "rgb(158,202,225)",
          "line": {
           "color": "rgb(8,48,107)",
           "width": 1.5
          }
         },
         "opacity": 0.6,
         "orientation": "h",
         "text": [
          0.1506,
          0.1126,
          0.085,
          0.0597,
          0.0458,
          0.0405,
          0.0403,
          0.0372,
          0.0372,
          0.0356,
          0.0348,
          0.0314,
          0.0274,
          0.024,
          0.0234,
          0.0218,
          0.0209,
          0.0183,
          0.0145,
          0.0145,
          0.0138,
          0.0135,
          0.0131,
          0.0126,
          0.0123,
          0.0099,
          0.0089,
          0.0079,
          0.0068,
          0.0052,
          0.0039,
          0.0035,
          0.003,
          0.0026,
          0.0024,
          0.0022,
          0.001,
          0.001,
          0.0005,
          0.0004,
          0.0002,
          0
         ],
         "textposition": "outside",
         "type": "bar",
         "uid": "d4b8a7f9-b517-4bf8-929e-b053e8037a68",
         "x": [
          0.1505878488967283,
          0.11259570219555635,
          0.0849665859403597,
          0.05972913376327861,
          0.04577715497722117,
          0.04046204513796538,
          0.04025087799834837,
          0.03722209267594538,
          0.03719982780525667,
          0.03563157685415571,
          0.03476412457569987,
          0.03137715159900495,
          0.02736370916633179,
          0.02396208169694016,
          0.02340119843984442,
          0.02176923294537456,
          0.020861242279273644,
          0.01830827258762611,
          0.014505800083044865,
          0.014476801723984465,
          0.013796457373006265,
          0.013463114459465532,
          0.013093646971219754,
          0.012592867478253713,
          0.012260518165800729,
          0.009861792211439591,
          0.008942647330253359,
          0.007941652680632696,
          0.006804543255122043,
          0.005248829628349988,
          0.003930010878986848,
          0.0035247323635148806,
          0.0030422830752859236,
          0.002588921551906552,
          0.002395135493602574,
          0.0022101444100487283,
          0.0010299844321920756,
          0.0009619890854839131,
          0.00048646432994785336,
          0.00036556558937827463,
          0.00020472926238742828,
          4.15086317807901e-05
         ],
         "y": [
          "http_header_content-encoding_gzip + http_header_transfer-encoding_chunked",
          "http_header_vary_age / http_header_content-length",
          "http_header_connection_keep-alive + http_header_content-language_text/html",
          "http_header_cache-control_set_must-revalidate + http_header_content-encoding_gzip",
          "http_header_content-encoding_gzip + http_header_via_1.1",
          "http_header_cache-control_set_private + http_header_content-encoding_gzip",
          "http_header_cache-control_set_max-age + http_header_content-encoding_gzip",
          "http_header_content-encoding_gzip + http_header_server_nginx",
          "http_header_content-language_text/html + http_header_server_nginx",
          "http_header_server_nginx + http_header_transfer-encoding_chunked",
          "http_header_content-language_text/html + http_header_via_1.1",
          "http_header_content-language_text/html + http_header_expect-ctmax-age",
          "http_header_connection_close + http_header_content-language_text/html",
          "http_header_content-encoding_gzip + http_header_pragmano-cache",
          "http_header_content-encoding_gzip + http_header_x-xss-enabled",
          "http_header_content-encoding_gzip + http_header_vary_age",
          "http_header_cache-control_set_public + http_header_content-encoding_gzip",
          "http_header_cache-control_set_private + http_header_vary_accept",
          "http_header_cache-control_set_max-age + http_header_vary_accept",
          "http_header_content-language_text/html + http_header_transfer-encoding_chunked",
          "http_header_connection_keep-alive + http_header_vary_accept",
          "http_header_cache-control_set_max-age + http_header_transfer-encoding_chunked",
          "http_header_connection_close + http_header_content-encoding_gzip",
          "http_header_connection_keep-alive * http_header_content-language_text/html",
          "http_header_connection_keep-alive / http_header_content-language_text/html",
          "http_header_cache-control_set_no-cache + http_header_content-encoding_gzip",
          "http_header_transfer-encoding_chunked + http_header_vary_accept",
          "http_header_transfer-encoding_chunked + http_header_x-xss-enabled",
          "http_header_cache-control_set_max-age + http_header_content-language_text/html",
          "http_header_content-language_text/html / http_header_connection_keep-alive",
          "http_header_vary_accept + http_header_via_1.1",
          "http_header_content-encoding_gzip + http_header_vary_accept",
          "http_header_content-encoding_gzip",
          "http_header_content-language_text/html / http_header_transfer-encoding_chunked",
          "http_header_content-encoding_gzip / http_header_content-language_text/html",
          "http_header_cache-control_set_public + http_header_transfer-encoding_chunked",
          "http_header_content-language_text/html * http_header_transfer-encoding_chunked",
          "http_header_content-encoding_gzip + http_header_expect-ctmax-age",
          "http_header_vary_accept / http_header_content-language_text/html",
          "http_header_content-language_text/html + http_header_vary_accept",
          "http_header_content-encoding_gzip + http_header_content-language_text/html",
          "http_header_content-language_text/html"
         ]
        }
       ],
       "layout": {
        "autosize": false,
        "height": 1000,
        "width": 1000,
        "xaxis": {
         "tickfont": {
          "color": "black",
          "size": 12
         },
         "title": "Feature Importances"
        },
        "yaxis": {
         "automargin": true
        }
       }
      },
      "text/html": [
       "<div id=\"19f892e4-45b3-4bb1-8710-c90cd1eeae10\" style=\"height: 1000px; width: 1000px;\" class=\"plotly-graph-div\"></div><script type=\"text/javascript\">require([\"plotly\"], function(Plotly) { window.PLOTLYENV=window.PLOTLYENV || {};window.PLOTLYENV.BASE_URL=\"https://plot.ly\";Plotly.newPlot(\"19f892e4-45b3-4bb1-8710-c90cd1eeae10\", [{\"marker\": {\"color\": \"rgb(158,202,225)\", \"line\": {\"color\": \"rgb(8,48,107)\", \"width\": 1.5}}, \"opacity\": 0.6, \"orientation\": \"h\", \"text\": [0.1506, 0.1126, 0.085, 0.0597, 0.0458, 0.0405, 0.0403, 0.0372, 0.0372, 0.0356, 0.0348, 0.0314, 0.0274, 0.024, 0.0234, 0.0218, 0.0209, 0.0183, 0.0145, 0.0145, 0.0138, 0.0135, 0.0131, 0.0126, 0.0123, 0.0099, 0.0089, 0.0079, 0.0068, 0.0052, 0.0039, 0.0035, 0.003, 0.0026, 0.0024, 0.0022, 0.001, 0.001, 0.0005, 0.0004, 0.0002, 0.0], \"textposition\": \"outside\", \"x\": [0.1505878488967283, 0.11259570219555635, 0.0849665859403597, 0.05972913376327861, 0.04577715497722117, 0.04046204513796538, 0.04025087799834837, 0.03722209267594538, 0.03719982780525667, 0.03563157685415571, 0.03476412457569987, 0.03137715159900495, 0.02736370916633179, 0.02396208169694016, 0.02340119843984442, 0.02176923294537456, 0.020861242279273644, 0.01830827258762611, 0.014505800083044865, 0.014476801723984465, 0.013796457373006265, 0.013463114459465532, 0.013093646971219754, 0.012592867478253713, 0.012260518165800729, 0.009861792211439591, 0.008942647330253359, 0.007941652680632696, 0.006804543255122043, 0.005248829628349988, 0.003930010878986848, 0.0035247323635148806, 0.0030422830752859236, 0.002588921551906552, 0.002395135493602574, 0.0022101444100487283, 0.0010299844321920756, 0.0009619890854839131, 0.00048646432994785336, 0.00036556558937827463, 0.00020472926238742828, 4.15086317807901e-05], \"y\": [\"http_header_content-encoding_gzip + http_header_transfer-encoding_chunked\", \"http_header_vary_age / http_header_content-length\", \"http_header_connection_keep-alive + http_header_content-language_text/html\", \"http_header_cache-control_set_must-revalidate + http_header_content-encoding_gzip\", \"http_header_content-encoding_gzip + http_header_via_1.1\", \"http_header_cache-control_set_private + http_header_content-encoding_gzip\", \"http_header_cache-control_set_max-age + http_header_content-encoding_gzip\", \"http_header_content-encoding_gzip + http_header_server_nginx\", \"http_header_content-language_text/html + http_header_server_nginx\", \"http_header_server_nginx + http_header_transfer-encoding_chunked\", \"http_header_content-language_text/html + http_header_via_1.1\", \"http_header_content-language_text/html + http_header_expect-ctmax-age\", \"http_header_connection_close + http_header_content-language_text/html\", \"http_header_content-encoding_gzip + http_header_pragmano-cache\", \"http_header_content-encoding_gzip + http_header_x-xss-enabled\", \"http_header_content-encoding_gzip + http_header_vary_age\", \"http_header_cache-control_set_public + http_header_content-encoding_gzip\", \"http_header_cache-control_set_private + http_header_vary_accept\", \"http_header_cache-control_set_max-age + http_header_vary_accept\", \"http_header_content-language_text/html + http_header_transfer-encoding_chunked\", \"http_header_connection_keep-alive + http_header_vary_accept\", \"http_header_cache-control_set_max-age + http_header_transfer-encoding_chunked\", \"http_header_connection_close + http_header_content-encoding_gzip\", \"http_header_connection_keep-alive * http_header_content-language_text/html\", \"http_header_connection_keep-alive / http_header_content-language_text/html\", \"http_header_cache-control_set_no-cache + http_header_content-encoding_gzip\", \"http_header_transfer-encoding_chunked + http_header_vary_accept\", \"http_header_transfer-encoding_chunked + http_header_x-xss-enabled\", \"http_header_cache-control_set_max-age + http_header_content-language_text/html\", \"http_header_content-language_text/html / http_header_connection_keep-alive\", \"http_header_vary_accept + http_header_via_1.1\", \"http_header_content-encoding_gzip + http_header_vary_accept\", \"http_header_content-encoding_gzip\", \"http_header_content-language_text/html / http_header_transfer-encoding_chunked\", \"http_header_content-encoding_gzip / http_header_content-language_text/html\", \"http_header_cache-control_set_public + http_header_transfer-encoding_chunked\", \"http_header_content-language_text/html * http_header_transfer-encoding_chunked\", \"http_header_content-encoding_gzip + http_header_expect-ctmax-age\", \"http_header_vary_accept / http_header_content-language_text/html\", \"http_header_content-language_text/html + http_header_vary_accept\", \"http_header_content-encoding_gzip + http_header_content-language_text/html\", \"http_header_content-language_text/html\"], \"type\": \"bar\", \"uid\": \"d4b8a7f9-b517-4bf8-929e-b053e8037a68\"}], {\"autosize\": false, \"height\": 1000, \"width\": 1000, \"xaxis\": {\"tickfont\": {\"color\": \"black\", \"size\": 12}, \"title\": \"Feature Importances\"}, \"yaxis\": {\"automargin\": true}}, {\"showLink\": true, \"linkText\": \"Export to plot.ly\", \"plotlyServerURL\": \"https://plot.ly\"})});</script>"
      ],
      "text/vnd.plotly.v1+html": [
       "<div id=\"19f892e4-45b3-4bb1-8710-c90cd1eeae10\" style=\"height: 1000px; width: 1000px;\" class=\"plotly-graph-div\"></div><script type=\"text/javascript\">require([\"plotly\"], function(Plotly) { window.PLOTLYENV=window.PLOTLYENV || {};window.PLOTLYENV.BASE_URL=\"https://plot.ly\";Plotly.newPlot(\"19f892e4-45b3-4bb1-8710-c90cd1eeae10\", [{\"marker\": {\"color\": \"rgb(158,202,225)\", \"line\": {\"color\": \"rgb(8,48,107)\", \"width\": 1.5}}, \"opacity\": 0.6, \"orientation\": \"h\", \"text\": [0.1506, 0.1126, 0.085, 0.0597, 0.0458, 0.0405, 0.0403, 0.0372, 0.0372, 0.0356, 0.0348, 0.0314, 0.0274, 0.024, 0.0234, 0.0218, 0.0209, 0.0183, 0.0145, 0.0145, 0.0138, 0.0135, 0.0131, 0.0126, 0.0123, 0.0099, 0.0089, 0.0079, 0.0068, 0.0052, 0.0039, 0.0035, 0.003, 0.0026, 0.0024, 0.0022, 0.001, 0.001, 0.0005, 0.0004, 0.0002, 0.0], \"textposition\": \"outside\", \"x\": [0.1505878488967283, 0.11259570219555635, 0.0849665859403597, 0.05972913376327861, 0.04577715497722117, 0.04046204513796538, 0.04025087799834837, 0.03722209267594538, 0.03719982780525667, 0.03563157685415571, 0.03476412457569987, 0.03137715159900495, 0.02736370916633179, 0.02396208169694016, 0.02340119843984442, 0.02176923294537456, 0.020861242279273644, 0.01830827258762611, 0.014505800083044865, 0.014476801723984465, 0.013796457373006265, 0.013463114459465532, 0.013093646971219754, 0.012592867478253713, 0.012260518165800729, 0.009861792211439591, 0.008942647330253359, 0.007941652680632696, 0.006804543255122043, 0.005248829628349988, 0.003930010878986848, 0.0035247323635148806, 0.0030422830752859236, 0.002588921551906552, 0.002395135493602574, 0.0022101444100487283, 0.0010299844321920756, 0.0009619890854839131, 0.00048646432994785336, 0.00036556558937827463, 0.00020472926238742828, 4.15086317807901e-05], \"y\": [\"http_header_content-encoding_gzip + http_header_transfer-encoding_chunked\", \"http_header_vary_age / http_header_content-length\", \"http_header_connection_keep-alive + http_header_content-language_text/html\", \"http_header_cache-control_set_must-revalidate + http_header_content-encoding_gzip\", \"http_header_content-encoding_gzip + http_header_via_1.1\", \"http_header_cache-control_set_private + http_header_content-encoding_gzip\", \"http_header_cache-control_set_max-age + http_header_content-encoding_gzip\", \"http_header_content-encoding_gzip + http_header_server_nginx\", \"http_header_content-language_text/html + http_header_server_nginx\", \"http_header_server_nginx + http_header_transfer-encoding_chunked\", \"http_header_content-language_text/html + http_header_via_1.1\", \"http_header_content-language_text/html + http_header_expect-ctmax-age\", \"http_header_connection_close + http_header_content-language_text/html\", \"http_header_content-encoding_gzip + http_header_pragmano-cache\", \"http_header_content-encoding_gzip + http_header_x-xss-enabled\", \"http_header_content-encoding_gzip + http_header_vary_age\", \"http_header_cache-control_set_public + http_header_content-encoding_gzip\", \"http_header_cache-control_set_private + http_header_vary_accept\", \"http_header_cache-control_set_max-age + http_header_vary_accept\", \"http_header_content-language_text/html + http_header_transfer-encoding_chunked\", \"http_header_connection_keep-alive + http_header_vary_accept\", \"http_header_cache-control_set_max-age + http_header_transfer-encoding_chunked\", \"http_header_connection_close + http_header_content-encoding_gzip\", \"http_header_connection_keep-alive * http_header_content-language_text/html\", \"http_header_connection_keep-alive / http_header_content-language_text/html\", \"http_header_cache-control_set_no-cache + http_header_content-encoding_gzip\", \"http_header_transfer-encoding_chunked + http_header_vary_accept\", \"http_header_transfer-encoding_chunked + http_header_x-xss-enabled\", \"http_header_cache-control_set_max-age + http_header_content-language_text/html\", \"http_header_content-language_text/html / http_header_connection_keep-alive\", \"http_header_vary_accept + http_header_via_1.1\", \"http_header_content-encoding_gzip + http_header_vary_accept\", \"http_header_content-encoding_gzip\", \"http_header_content-language_text/html / http_header_transfer-encoding_chunked\", \"http_header_content-encoding_gzip / http_header_content-language_text/html\", \"http_header_cache-control_set_public + http_header_transfer-encoding_chunked\", \"http_header_content-language_text/html * http_header_transfer-encoding_chunked\", \"http_header_content-encoding_gzip + http_header_expect-ctmax-age\", \"http_header_vary_accept / http_header_content-language_text/html\", \"http_header_content-language_text/html + http_header_vary_accept\", \"http_header_content-encoding_gzip + http_header_content-language_text/html\", \"http_header_content-language_text/html\"], \"type\": \"bar\", \"uid\": \"d4b8a7f9-b517-4bf8-929e-b053e8037a68\"}], {\"autosize\": false, \"height\": 1000, \"width\": 1000, \"xaxis\": {\"tickfont\": {\"color\": \"black\", \"size\": 12}, \"title\": \"Feature Importances\"}, \"yaxis\": {\"automargin\": true}}, {\"showLink\": true, \"linkText\": \"Export to plot.ly\", \"plotlyServerURL\": \"https://plot.ly\"})});</script>"
      ]
     },
     "metadata": {},
     "output_type": "display_data"
    }
   ],
   "source": [
    "feat_impt_plot(np.average(feat_imp,axis=0),columns)"
   ]
  },
  {
   "cell_type": "markdown",
   "metadata": {},
   "source": [
    "### <a id='5' style=\"text-decoration : none; color : #000000;\">5. Feature Transformation with PCA </a>"
   ]
  },
  {
   "cell_type": "code",
   "execution_count": 76,
   "metadata": {},
   "outputs": [],
   "source": [
    "X=fs.loc[:,fs.columns!='Target']\n",
    "y=fs.Target.values\n",
    "feature_name = X.columns.tolist()\n",
    "X=np.nan_to_num(X)\n",
    "scaler=StandardScaler()\n",
    "scaled_X=scaler.fit_transform(X)"
   ]
  },
  {
   "cell_type": "code",
   "execution_count": 78,
   "metadata": {},
   "outputs": [
    {
     "name": "stderr",
     "output_type": "stream",
     "text": [
      "distributed.core - INFO - Event loop was unresponsive in Nanny for 5.46s.  This is often caused by long-running GIL-holding functions or moving large chunks of data. This can cause timeouts and instability.\n",
      "distributed.core - INFO - Event loop was unresponsive in Nanny for 5.47s.  This is often caused by long-running GIL-holding functions or moving large chunks of data. This can cause timeouts and instability.\n",
      "distributed.core - INFO - Event loop was unresponsive in Nanny for 5.47s.  This is often caused by long-running GIL-holding functions or moving large chunks of data. This can cause timeouts and instability.\n",
      "distributed.core - INFO - Event loop was unresponsive in Nanny for 5.47s.  This is often caused by long-running GIL-holding functions or moving large chunks of data. This can cause timeouts and instability.\n",
      "distributed.core - INFO - Event loop was unresponsive in Nanny for 5.47s.  This is often caused by long-running GIL-holding functions or moving large chunks of data. This can cause timeouts and instability.\n",
      "distributed.core - INFO - Event loop was unresponsive in Nanny for 5.47s.  This is often caused by long-running GIL-holding functions or moving large chunks of data. This can cause timeouts and instability.\n",
      "distributed.core - INFO - Event loop was unresponsive in Nanny for 5.47s.  This is often caused by long-running GIL-holding functions or moving large chunks of data. This can cause timeouts and instability.\n",
      "distributed.core - INFO - Event loop was unresponsive in Nanny for 5.47s.  This is often caused by long-running GIL-holding functions or moving large chunks of data. This can cause timeouts and instability.\n",
      "distributed.core - INFO - Event loop was unresponsive in Nanny for 5.47s.  This is often caused by long-running GIL-holding functions or moving large chunks of data. This can cause timeouts and instability.\n",
      "distributed.core - INFO - Event loop was unresponsive in Nanny for 5.48s.  This is often caused by long-running GIL-holding functions or moving large chunks of data. This can cause timeouts and instability.\n",
      "distributed.core - INFO - Event loop was unresponsive in Nanny for 5.48s.  This is often caused by long-running GIL-holding functions or moving large chunks of data. This can cause timeouts and instability.\n",
      "distributed.core - INFO - Event loop was unresponsive in Nanny for 5.47s.  This is often caused by long-running GIL-holding functions or moving large chunks of data. This can cause timeouts and instability.\n",
      "distributed.core - INFO - Event loop was unresponsive in Nanny for 5.48s.  This is often caused by long-running GIL-holding functions or moving large chunks of data. This can cause timeouts and instability.\n",
      "distributed.core - INFO - Event loop was unresponsive in Nanny for 5.48s.  This is often caused by long-running GIL-holding functions or moving large chunks of data. This can cause timeouts and instability.\n",
      "distributed.core - INFO - Event loop was unresponsive in Nanny for 5.48s.  This is often caused by long-running GIL-holding functions or moving large chunks of data. This can cause timeouts and instability.\n",
      "distributed.core - INFO - Event loop was unresponsive in Nanny for 5.48s.  This is often caused by long-running GIL-holding functions or moving large chunks of data. This can cause timeouts and instability.\n",
      "distributed.core - INFO - Event loop was unresponsive in Nanny for 5.48s.  This is often caused by long-running GIL-holding functions or moving large chunks of data. This can cause timeouts and instability.\n",
      "distributed.core - INFO - Event loop was unresponsive in Nanny for 5.48s.  This is often caused by long-running GIL-holding functions or moving large chunks of data. This can cause timeouts and instability.\n",
      "distributed.core - INFO - Event loop was unresponsive in Nanny for 5.50s.  This is often caused by long-running GIL-holding functions or moving large chunks of data. This can cause timeouts and instability.\n",
      "distributed.core - INFO - Event loop was unresponsive in Nanny for 5.50s.  This is often caused by long-running GIL-holding functions or moving large chunks of data. This can cause timeouts and instability.\n",
      "distributed.core - INFO - Event loop was unresponsive in Nanny for 5.50s.  This is often caused by long-running GIL-holding functions or moving large chunks of data. This can cause timeouts and instability.\n",
      "distributed.core - INFO - Event loop was unresponsive in Nanny for 5.50s.  This is often caused by long-running GIL-holding functions or moving large chunks of data. This can cause timeouts and instability.\n"
     ]
    },
    {
     "data": {
      "image/png": "[encoded data removed]",
      "text/plain": [
       "<Figure size 720x576 with 1 Axes>"
      ]
     },
     "metadata": {},
     "output_type": "display_data"
    }
   ],
   "source": [
    "sns.set_style('whitegrid')\n",
    "pca = PCA(random_state=0)\n",
    "pca.fit(scaled_X)\n",
    "plt.figure(1, figsize=(10, 8))\n",
    "plt.plot(np.cumsum(pca.explained_variance_ratio_),'--o', linewidth=2)\n",
    "plt.axis('tight')\n",
    "plt.xlabel('Number of Components',size=14)\n",
    "plt.xticks(size=12)\n",
    "plt.xlim([0,200])\n",
    "plt.ylabel('% Explained Variance',size=14)\n",
    "plt.yticks(size=12)\n",
    "plt.title('% Variance Explained by Principal Components',size=14,y=1.05)\n",
    "plt.show()"
   ]
  },
  {
   "cell_type": "code",
   "execution_count": 79,
   "metadata": {},
   "outputs": [
    {
     "name": "stdout",
     "output_type": "stream",
     "text": [
      "Variance explained using 100 components is: 0.9295353936069971\n"
     ]
    }
   ],
   "source": [
    "pca=PCA(n_components=100,whiten=True,random_state=0)\n",
    "X_pca_21=pca.fit_transform(scaled_X)\n",
    "print(\"Variance explained using 100 components is:\",sum(pca.explained_variance_ratio_))"
   ]
  },
  {
   "cell_type": "code",
   "execution_count": 80,
   "metadata": {},
   "outputs": [],
   "source": [
    "X_train=X_pca_21[:32100]\n",
    "Y_train=fs.iloc[:32100]['Target'].values\n",
    "X_test=X_pca_21[32100:]\n",
    "Y_test=fs.iloc[32100:]['Target'].values\n",
    "\n",
    "## Table to store training and test measures so we can compare later\n",
    "table_80_70_train=pd.DataFrame(columns=['accuracy','TP','TN','FP','FN','FPR','FNR'])\n",
    "table_80_70_test=pd.DataFrame(columns=['accuracy','TP','TN','FP','FN','FPR','FNR','auc','mcc'])"
   ]
  },
  {
   "cell_type": "code",
   "execution_count": 83,
   "metadata": {
    "scrolled": false
   },
   "outputs": [
    {
     "name": "stdout",
     "output_type": "stream",
     "text": [
      "\u001b[1mK-Nearest Neighbors\u001b[0m\n",
      "Accuracy of the model for training data is: 0.9028660436137071\n",
      "Confusion Matrix for training data is:\n"
     ]
    },
    {
     "data": {
      "text/plain": [
       "Predicted  False  True  __all__\n",
       "Actual                         \n",
       "False      27752   128    27880\n",
       "True        2990  1230     4220\n",
       "__all__    30742  1358    32100"
      ]
     },
     "metadata": {},
     "output_type": "display_data"
    },
    {
     "name": "stdout",
     "output_type": "stream",
     "text": [
      "Accuracy of the model for test data is: 0.9023698749636522\n",
      "Confusion Matrix for test data is:\n"
     ]
    },
    {
     "data": {
      "text/plain": [
       "Predicted  False  True  __all__\n",
       "Actual                         \n",
       "False      11880    75    11955\n",
       "True        1268   533     1801\n",
       "__all__    13148   608    13756"
      ]
     },
     "metadata": {},
     "output_type": "display_data"
    },
    {
     "name": "stdout",
     "output_type": "stream",
     "text": [
      "\n",
      "\n",
      "\u001b[1mLogistic Regression\u001b[0m\n",
      "Accuracy of the model for training data is: 0.8996573208722741\n",
      "Confusion Matrix for training data is:\n"
     ]
    },
    {
     "data": {
      "text/plain": [
       "Predicted  False  True  __all__\n",
       "Actual                         \n",
       "False      25499  2381    27880\n",
       "True         840  3380     4220\n",
       "__all__    26339  5761    32100"
      ]
     },
     "metadata": {},
     "output_type": "display_data"
    },
    {
     "name": "stdout",
     "output_type": "stream",
     "text": [
      "Accuracy of the model for test data is: 0.8989531840651352\n",
      "Confusion Matrix for test data is:\n"
     ]
    },
    {
     "data": {
      "text/plain": [
       "Predicted  False  True  __all__\n",
       "Actual                         \n",
       "False      10944  1011    11955\n",
       "True         379  1422     1801\n",
       "__all__    11323  2433    13756"
      ]
     },
     "metadata": {},
     "output_type": "display_data"
    },
    {
     "name": "stdout",
     "output_type": "stream",
     "text": [
      "\n",
      "\n",
      "\u001b[1mRandomForest Classifier\u001b[0m\n",
      "Accuracy of the model for training data is: 0.9196884735202492\n",
      "Confusion Matrix for training data is:\n"
     ]
    },
    {
     "data": {
      "text/plain": [
       "Predicted  False  True  __all__\n",
       "Actual                         \n",
       "False      25708  2172    27880\n",
       "True         406  3814     4220\n",
       "__all__    26114  5986    32100"
      ]
     },
     "metadata": {},
     "output_type": "display_data"
    },
    {
     "name": "stdout",
     "output_type": "stream",
     "text": [
      "Accuracy of the model for test data is: 0.9086216923524281\n",
      "Confusion Matrix for test data is:\n"
     ]
    },
    {
     "data": {
      "text/plain": [
       "Predicted  False  True  __all__\n",
       "Actual                         \n",
       "False      10956   999    11955\n",
       "True         258  1543     1801\n",
       "__all__    11214  2542    13756"
      ]
     },
     "metadata": {},
     "output_type": "display_data"
    },
    {
     "data": {
      "application/vnd.plotly.v1+json": {
       "config": {
        "linkText": "Export to plot.ly",
        "plotlyServerURL": "https://plot.ly",
        "showLink": true
       },
       "data": [
        {
         "marker": {
          "color": "rgb(158,202,225)",
          "line": {
           "color": "rgb(8,48,107)",
           "width": 1.5
          }
         },
         "opacity": 0.6,
         "orientation": "h",
         "text": [
          0.0777,
          0.0629,
          0.0606,
          0.0575,
          0.0482,
          0.0416,
          0.0365,
          0.0302,
          0.0298,
          0.0267,
          0.0233,
          0.0223,
          0.0208,
          0.0201,
          0.0201,
          0.0199,
          0.0196,
          0.0171,
          0.017,
          0.0161,
          0.0137,
          0.0127,
          0.0124,
          0.0111,
          0.0107,
          0.0105,
          0.01,
          0.0079,
          0.0076,
          0.0076,
          0.0074,
          0.0074,
          0.0071,
          0.007,
          0.0066,
          0.0061,
          0.006,
          0.0057,
          0.0053,
          0.0052,
          0.0052,
          0.005,
          0.005,
          0.0047,
          0.0046,
          0.0046,
          0.0043,
          0.0041,
          0.004,
          0.0039,
          0.0037,
          0.0037,
          0.0037,
          0.0035,
          0.0034,
          0.0034,
          0.0034,
          0.0034,
          0.0034,
          0.0033,
          0.0033,
          0.0032,
          0.0031,
          0.0029,
          0.0028,
          0.0027,
          0.0027,
          0.0027,
          0.0027,
          0.0027,
          0.0027,
          0.0025,
          0.0025,
          0.0024,
          0.0024,
          0.0023,
          0.0023,
          0.0023,
          0.0022,
          0.0022,
          0.0022,
          0.002,
          0.0019,
          0.0019,
          0.0018,
          0.0017,
          0.0017,
          0.0016,
          0.0016,
          0.0016,
          0.0016,
          0.0016,
          0.0015,
          0.0015,
          0.0015,
          0.0014,
          0.0013,
          0.0013,
          0.0012,
          0.0007
         ],
         "textposition": "outside",
         "type": "bar",
         "uid": "8600c59b-10f2-4249-8320-5bfaacddbf45",
         "x": [
          0.07767238619572951,
          0.06290743299523217,
          0.0606093110936651,
          0.0574636159399016,
          0.04817694036722853,
          0.04163837768016745,
          0.03646019067039174,
          0.030177612893252343,
          0.02980355791332472,
          0.026719172546510152,
          0.023251396240666664,
          0.02226668637644947,
          0.02075464478984218,
          0.020106285249426908,
          0.020098029369233314,
          0.01989576294079403,
          0.019603407019328275,
          0.017123000949558695,
          0.01703584292590003,
          0.016123307232732306,
          0.013714400136339422,
          0.012713188339869633,
          0.012350454030288442,
          0.011075632257955867,
          0.010657538777089236,
          0.010450013356903582,
          0.010036354495652466,
          0.007861404517963534,
          0.0075994044729745455,
          0.007578801166438565,
          0.007401426059001812,
          0.007351391463556761,
          0.00711100001665411,
          0.006963944149402559,
          0.006647740328015481,
          0.006073663052880928,
          0.0060058588247073105,
          0.005745626543418692,
          0.005286957577711149,
          0.005249430315235788,
          0.005218855249375797,
          0.005044619548517381,
          0.005019396680968635,
          0.00471536509260573,
          0.004620287347249621,
          0.0045944078158010595,
          0.004340835784040123,
          0.0040970497434580375,
          0.004011076491676402,
          0.003851074603164335,
          0.0037081386867796953,
          0.0036641005506543056,
          0.0036572898756052673,
          0.0034508522172373556,
          0.003447378516436391,
          0.0034327638786527514,
          0.003392537929385286,
          0.0033638286843555368,
          0.003352582042614162,
          0.0033356070708541346,
          0.0032673288089603418,
          0.003158938420006342,
          0.003056183166578809,
          0.0029157281971105794,
          0.002750610387089498,
          0.0027392460916385412,
          0.0027214169778274765,
          0.0026854267434115787,
          0.0026786348961118684,
          0.002677885850299186,
          0.002650193391083609,
          0.002507535719991318,
          0.0024574546737721036,
          0.002438359353010007,
          0.0024274822080867695,
          0.002341117134475022,
          0.0022764944291137324,
          0.0022514704284562746,
          0.0022463382352568002,
          0.0021809116769302274,
          0.0021541101251107172,
          0.0019805498586410166,
          0.001938830259140968,
          0.0019236561183726235,
          0.0018072591167081426,
          0.0016686922456552865,
          0.0016652046903913938,
          0.0016339574207937153,
          0.0016302464941647873,
          0.001594683667559188,
          0.0015889702954424317,
          0.0015796433139737003,
          0.0015448322728519222,
          0.0015044969781545018,
          0.0014521069252928388,
          0.0013903124791624455,
          0.001279733317554762,
          0.0012543412042556067,
          0.0011660636395110053,
          0.0007343137072259418
         ],
         "y": [
          "30",
          "95",
          "0",
          "4",
          "72",
          "1",
          "21",
          "43",
          "14",
          "78",
          "33",
          "2",
          "6",
          "48",
          "60",
          "87",
          "97",
          "12",
          "9",
          "73",
          "82",
          "94",
          "27",
          "50",
          "28",
          "84",
          "24",
          "55",
          "5",
          "76",
          "51",
          "22",
          "68",
          "47",
          "83",
          "74",
          "10",
          "18",
          "49",
          "26",
          "77",
          "29",
          "96",
          "46",
          "45",
          "23",
          "93",
          "88",
          "58",
          "66",
          "62",
          "3",
          "86",
          "15",
          "41",
          "44",
          "80",
          "70",
          "98",
          "89",
          "92",
          "39",
          "35",
          "42",
          "40",
          "57",
          "37",
          "90",
          "7",
          "69",
          "32",
          "53",
          "38",
          "56",
          "79",
          "61",
          "54",
          "25",
          "71",
          "13",
          "16",
          "59",
          "17",
          "64",
          "67",
          "31",
          "91",
          "36",
          "19",
          "75",
          "11",
          "99",
          "85",
          "81",
          "34",
          "20",
          "8",
          "65",
          "63",
          "52"
         ]
        }
       ],
       "layout": {
        "autosize": false,
        "height": 1000,
        "width": 1000,
        "xaxis": {
         "tickfont": {
          "color": "black",
          "size": 12
         },
         "title": "Feature Importances"
        },
        "yaxis": {
         "automargin": true
        }
       }
      },
      "text/html": [
       "<div id=\"08fee376-e20c-4d7a-a1c3-240428084ee1\" style=\"height: 1000px; width: 1000px;\" class=\"plotly-graph-div\"></div><script type=\"text/javascript\">require([\"plotly\"], function(Plotly) { window.PLOTLYENV=window.PLOTLYENV || {};window.PLOTLYENV.BASE_URL=\"https://plot.ly\";Plotly.newPlot(\"08fee376-e20c-4d7a-a1c3-240428084ee1\", [{\"marker\": {\"color\": \"rgb(158,202,225)\", \"line\": {\"color\": \"rgb(8,48,107)\", \"width\": 1.5}}, \"opacity\": 0.6, \"orientation\": \"h\", \"text\": [0.0777, 0.0629, 0.0606, 0.0575, 0.0482, 0.0416, 0.0365, 0.0302, 0.0298, 0.0267, 0.0233, 0.0223, 0.0208, 0.0201, 0.0201, 0.0199, 0.0196, 0.0171, 0.017, 0.0161, 0.0137, 0.0127, 0.0124, 0.0111, 0.0107, 0.0105, 0.01, 0.0079, 0.0076, 0.0076, 0.0074, 0.0074, 0.0071, 0.007, 0.0066, 0.0061, 0.006, 0.0057, 0.0053, 0.0052, 0.0052, 0.005, 0.005, 0.0047, 0.0046, 0.0046, 0.0043, 0.0041, 0.004, 0.0039, 0.0037, 0.0037, 0.0037, 0.0035, 0.0034, 0.0034, 0.0034, 0.0034, 0.0034, 0.0033, 0.0033, 0.0032, 0.0031, 0.0029, 0.0028, 0.0027, 0.0027, 0.0027, 0.0027, 0.0027, 0.0027, 0.0025, 0.0025, 0.0024, 0.0024, 0.0023, 0.0023, 0.0023, 0.0022, 0.0022, 0.0022, 0.002, 0.0019, 0.0019, 0.0018, 0.0017, 0.0017, 0.0016, 0.0016, 0.0016, 0.0016, 0.0016, 0.0015, 0.0015, 0.0015, 0.0014, 0.0013, 0.0013, 0.0012, 0.0007], \"textposition\": \"outside\", \"x\": [0.07767238619572951, 0.06290743299523217, 0.0606093110936651, 0.0574636159399016, 0.04817694036722853, 0.04163837768016745, 0.03646019067039174, 0.030177612893252343, 0.02980355791332472, 0.026719172546510152, 0.023251396240666664, 0.02226668637644947, 0.02075464478984218, 0.020106285249426908, 0.020098029369233314, 0.01989576294079403, 0.019603407019328275, 0.017123000949558695, 0.01703584292590003, 0.016123307232732306, 0.013714400136339422, 0.012713188339869633, 0.012350454030288442, 0.011075632257955867, 0.010657538777089236, 0.010450013356903582, 0.010036354495652466, 0.007861404517963534, 0.0075994044729745455, 0.007578801166438565, 0.007401426059001812, 0.007351391463556761, 0.00711100001665411, 0.006963944149402559, 0.006647740328015481, 0.006073663052880928, 0.0060058588247073105, 0.005745626543418692, 0.005286957577711149, 0.005249430315235788, 0.005218855249375797, 0.005044619548517381, 0.005019396680968635, 0.00471536509260573, 0.004620287347249621, 0.0045944078158010595, 0.004340835784040123, 0.0040970497434580375, 0.004011076491676402, 0.003851074603164335, 0.0037081386867796953, 0.0036641005506543056, 0.0036572898756052673, 0.0034508522172373556, 0.003447378516436391, 0.0034327638786527514, 0.003392537929385286, 0.0033638286843555368, 0.003352582042614162, 0.0033356070708541346, 0.0032673288089603418, 0.003158938420006342, 0.003056183166578809, 0.0029157281971105794, 0.002750610387089498, 0.0027392460916385412, 0.0027214169778274765, 0.0026854267434115787, 0.0026786348961118684, 0.002677885850299186, 0.002650193391083609, 0.002507535719991318, 0.0024574546737721036, 0.002438359353010007, 0.0024274822080867695, 0.002341117134475022, 0.0022764944291137324, 0.0022514704284562746, 0.0022463382352568002, 0.0021809116769302274, 0.0021541101251107172, 0.0019805498586410166, 0.001938830259140968, 0.0019236561183726235, 0.0018072591167081426, 0.0016686922456552865, 0.0016652046903913938, 0.0016339574207937153, 0.0016302464941647873, 0.001594683667559188, 0.0015889702954424317, 0.0015796433139737003, 0.0015448322728519222, 0.0015044969781545018, 0.0014521069252928388, 0.0013903124791624455, 0.001279733317554762, 0.0012543412042556067, 0.0011660636395110053, 0.0007343137072259418], \"y\": [\"30\", \"95\", \"0\", \"4\", \"72\", \"1\", \"21\", \"43\", \"14\", \"78\", \"33\", \"2\", \"6\", \"48\", \"60\", \"87\", \"97\", \"12\", \"9\", \"73\", \"82\", \"94\", \"27\", \"50\", \"28\", \"84\", \"24\", \"55\", \"5\", \"76\", \"51\", \"22\", \"68\", \"47\", \"83\", \"74\", \"10\", \"18\", \"49\", \"26\", \"77\", \"29\", \"96\", \"46\", \"45\", \"23\", \"93\", \"88\", \"58\", \"66\", \"62\", \"3\", \"86\", \"15\", \"41\", \"44\", \"80\", \"70\", \"98\", \"89\", \"92\", \"39\", \"35\", \"42\", \"40\", \"57\", \"37\", \"90\", \"7\", \"69\", \"32\", \"53\", \"38\", \"56\", \"79\", \"61\", \"54\", \"25\", \"71\", \"13\", \"16\", \"59\", \"17\", \"64\", \"67\", \"31\", \"91\", \"36\", \"19\", \"75\", \"11\", \"99\", \"85\", \"81\", \"34\", \"20\", \"8\", \"65\", \"63\", \"52\"], \"type\": \"bar\", \"uid\": \"8600c59b-10f2-4249-8320-5bfaacddbf45\"}], {\"autosize\": false, \"height\": 1000, \"width\": 1000, \"xaxis\": {\"tickfont\": {\"color\": \"black\", \"size\": 12}, \"title\": \"Feature Importances\"}, \"yaxis\": {\"automargin\": true}}, {\"showLink\": true, \"linkText\": \"Export to plot.ly\", \"plotlyServerURL\": \"https://plot.ly\"})});</script>"
      ],
      "text/vnd.plotly.v1+html": [
       "<div id=\"08fee376-e20c-4d7a-a1c3-240428084ee1\" style=\"height: 1000px; width: 1000px;\" class=\"plotly-graph-div\"></div><script type=\"text/javascript\">require([\"plotly\"], function(Plotly) { window.PLOTLYENV=window.PLOTLYENV || {};window.PLOTLYENV.BASE_URL=\"https://plot.ly\";Plotly.newPlot(\"08fee376-e20c-4d7a-a1c3-240428084ee1\", [{\"marker\": {\"color\": \"rgb(158,202,225)\", \"line\": {\"color\": \"rgb(8,48,107)\", \"width\": 1.5}}, \"opacity\": 0.6, \"orientation\": \"h\", \"text\": [0.0777, 0.0629, 0.0606, 0.0575, 0.0482, 0.0416, 0.0365, 0.0302, 0.0298, 0.0267, 0.0233, 0.0223, 0.0208, 0.0201, 0.0201, 0.0199, 0.0196, 0.0171, 0.017, 0.0161, 0.0137, 0.0127, 0.0124, 0.0111, 0.0107, 0.0105, 0.01, 0.0079, 0.0076, 0.0076, 0.0074, 0.0074, 0.0071, 0.007, 0.0066, 0.0061, 0.006, 0.0057, 0.0053, 0.0052, 0.0052, 0.005, 0.005, 0.0047, 0.0046, 0.0046, 0.0043, 0.0041, 0.004, 0.0039, 0.0037, 0.0037, 0.0037, 0.0035, 0.0034, 0.0034, 0.0034, 0.0034, 0.0034, 0.0033, 0.0033, 0.0032, 0.0031, 0.0029, 0.0028, 0.0027, 0.0027, 0.0027, 0.0027, 0.0027, 0.0027, 0.0025, 0.0025, 0.0024, 0.0024, 0.0023, 0.0023, 0.0023, 0.0022, 0.0022, 0.0022, 0.002, 0.0019, 0.0019, 0.0018, 0.0017, 0.0017, 0.0016, 0.0016, 0.0016, 0.0016, 0.0016, 0.0015, 0.0015, 0.0015, 0.0014, 0.0013, 0.0013, 0.0012, 0.0007], \"textposition\": \"outside\", \"x\": [0.07767238619572951, 0.06290743299523217, 0.0606093110936651, 0.0574636159399016, 0.04817694036722853, 0.04163837768016745, 0.03646019067039174, 0.030177612893252343, 0.02980355791332472, 0.026719172546510152, 0.023251396240666664, 0.02226668637644947, 0.02075464478984218, 0.020106285249426908, 0.020098029369233314, 0.01989576294079403, 0.019603407019328275, 0.017123000949558695, 0.01703584292590003, 0.016123307232732306, 0.013714400136339422, 0.012713188339869633, 0.012350454030288442, 0.011075632257955867, 0.010657538777089236, 0.010450013356903582, 0.010036354495652466, 0.007861404517963534, 0.0075994044729745455, 0.007578801166438565, 0.007401426059001812, 0.007351391463556761, 0.00711100001665411, 0.006963944149402559, 0.006647740328015481, 0.006073663052880928, 0.0060058588247073105, 0.005745626543418692, 0.005286957577711149, 0.005249430315235788, 0.005218855249375797, 0.005044619548517381, 0.005019396680968635, 0.00471536509260573, 0.004620287347249621, 0.0045944078158010595, 0.004340835784040123, 0.0040970497434580375, 0.004011076491676402, 0.003851074603164335, 0.0037081386867796953, 0.0036641005506543056, 0.0036572898756052673, 0.0034508522172373556, 0.003447378516436391, 0.0034327638786527514, 0.003392537929385286, 0.0033638286843555368, 0.003352582042614162, 0.0033356070708541346, 0.0032673288089603418, 0.003158938420006342, 0.003056183166578809, 0.0029157281971105794, 0.002750610387089498, 0.0027392460916385412, 0.0027214169778274765, 0.0026854267434115787, 0.0026786348961118684, 0.002677885850299186, 0.002650193391083609, 0.002507535719991318, 0.0024574546737721036, 0.002438359353010007, 0.0024274822080867695, 0.002341117134475022, 0.0022764944291137324, 0.0022514704284562746, 0.0022463382352568002, 0.0021809116769302274, 0.0021541101251107172, 0.0019805498586410166, 0.001938830259140968, 0.0019236561183726235, 0.0018072591167081426, 0.0016686922456552865, 0.0016652046903913938, 0.0016339574207937153, 0.0016302464941647873, 0.001594683667559188, 0.0015889702954424317, 0.0015796433139737003, 0.0015448322728519222, 0.0015044969781545018, 0.0014521069252928388, 0.0013903124791624455, 0.001279733317554762, 0.0012543412042556067, 0.0011660636395110053, 0.0007343137072259418], \"y\": [\"30\", \"95\", \"0\", \"4\", \"72\", \"1\", \"21\", \"43\", \"14\", \"78\", \"33\", \"2\", \"6\", \"48\", \"60\", \"87\", \"97\", \"12\", \"9\", \"73\", \"82\", \"94\", \"27\", \"50\", \"28\", \"84\", \"24\", \"55\", \"5\", \"76\", \"51\", \"22\", \"68\", \"47\", \"83\", \"74\", \"10\", \"18\", \"49\", \"26\", \"77\", \"29\", \"96\", \"46\", \"45\", \"23\", \"93\", \"88\", \"58\", \"66\", \"62\", \"3\", \"86\", \"15\", \"41\", \"44\", \"80\", \"70\", \"98\", \"89\", \"92\", \"39\", \"35\", \"42\", \"40\", \"57\", \"37\", \"90\", \"7\", \"69\", \"32\", \"53\", \"38\", \"56\", \"79\", \"61\", \"54\", \"25\", \"71\", \"13\", \"16\", \"59\", \"17\", \"64\", \"67\", \"31\", \"91\", \"36\", \"19\", \"75\", \"11\", \"99\", \"85\", \"81\", \"34\", \"20\", \"8\", \"65\", \"63\", \"52\"], \"type\": \"bar\", \"uid\": \"8600c59b-10f2-4249-8320-5bfaacddbf45\"}], {\"autosize\": false, \"height\": 1000, \"width\": 1000, \"xaxis\": {\"tickfont\": {\"color\": \"black\", \"size\": 12}, \"title\": \"Feature Importances\"}, \"yaxis\": {\"automargin\": true}}, {\"showLink\": true, \"linkText\": \"Export to plot.ly\", \"plotlyServerURL\": \"https://plot.ly\"})});</script>"
      ]
     },
     "metadata": {},
     "output_type": "display_data"
    },
    {
     "name": "stdout",
     "output_type": "stream",
     "text": [
      "\n",
      "\n",
      "\u001b[1mAdaoost Classifier\u001b[0m\n",
      "Accuracy of the model for training data is: 0.905202492211838\n",
      "Confusion Matrix for training data is:\n"
     ]
    },
    {
     "data": {
      "text/plain": [
       "Predicted  False  True  __all__\n",
       "Actual                         \n",
       "False      25600  2280    27880\n",
       "True         763  3457     4220\n",
       "__all__    26363  5737    32100"
      ]
     },
     "metadata": {},
     "output_type": "display_data"
    },
    {
     "name": "stdout",
     "output_type": "stream",
     "text": [
      "Accuracy of the model for test data is: 0.904405350392556\n",
      "Confusion Matrix for test data is:\n"
     ]
    },
    {
     "data": {
      "text/plain": [
       "Predicted  False  True  __all__\n",
       "Actual                         \n",
       "False      10974   981    11955\n",
       "True         334  1467     1801\n",
       "__all__    11308  2448    13756"
      ]
     },
     "metadata": {},
     "output_type": "display_data"
    },
    {
     "data": {
      "application/vnd.plotly.v1+json": {
       "config": {
        "linkText": "Export to plot.ly",
        "plotlyServerURL": "https://plot.ly",
        "showLink": true
       },
       "data": [
        {
         "marker": {
          "color": "rgb(158,202,225)",
          "line": {
           "color": "rgb(8,48,107)",
           "width": 1.5
          }
         },
         "opacity": 0.6,
         "orientation": "h",
         "text": [
          0.06,
          0.06,
          0.04,
          0.04,
          0.04,
          0.04,
          0.04,
          0.04,
          0.02,
          0.02,
          0.02,
          0.02,
          0.02,
          0.02,
          0.02,
          0.02,
          0.02,
          0.02,
          0.02,
          0.02,
          0.02,
          0.02,
          0.02,
          0.02,
          0.02,
          0.02,
          0.02,
          0.02,
          0.02,
          0.02,
          0.02,
          0.02,
          0.02,
          0.02,
          0.02,
          0.02,
          0.02,
          0.02,
          0.02,
          0.02,
          0,
          0,
          0,
          0,
          0,
          0,
          0,
          0,
          0,
          0,
          0,
          0,
          0,
          0,
          0,
          0,
          0,
          0,
          0,
          0,
          0,
          0,
          0,
          0,
          0,
          0,
          0,
          0,
          0,
          0,
          0,
          0,
          0,
          0,
          0,
          0,
          0,
          0,
          0,
          0,
          0,
          0,
          0,
          0,
          0,
          0,
          0,
          0,
          0,
          0,
          0,
          0,
          0,
          0,
          0,
          0,
          0,
          0,
          0,
          0
         ],
         "textposition": "outside",
         "type": "bar",
         "uid": "7482ad72-fc6c-4c1a-8e40-98cf4fe4dea4",
         "x": [
          0.06,
          0.06,
          0.04,
          0.04,
          0.04,
          0.04,
          0.04,
          0.04,
          0.02,
          0.02,
          0.02,
          0.02,
          0.02,
          0.02,
          0.02,
          0.02,
          0.02,
          0.02,
          0.02,
          0.02,
          0.02,
          0.02,
          0.02,
          0.02,
          0.02,
          0.02,
          0.02,
          0.02,
          0.02,
          0.02,
          0.02,
          0.02,
          0.02,
          0.02,
          0.02,
          0.02,
          0.02,
          0.02,
          0.02,
          0.02,
          0,
          0,
          0,
          0,
          0,
          0,
          0,
          0,
          0,
          0,
          0,
          0,
          0,
          0,
          0,
          0,
          0,
          0,
          0,
          0,
          0,
          0,
          0,
          0,
          0,
          0,
          0,
          0,
          0,
          0,
          0,
          0,
          0,
          0,
          0,
          0,
          0,
          0,
          0,
          0,
          0,
          0,
          0,
          0,
          0,
          0,
          0,
          0,
          0,
          0,
          0,
          0,
          0,
          0,
          0,
          0,
          0,
          0,
          0,
          0
         ],
         "y": [
          "26",
          "1",
          "0",
          "86",
          "23",
          "62",
          "83",
          "14",
          "90",
          "95",
          "37",
          "98",
          "39",
          "45",
          "97",
          "48",
          "49",
          "96",
          "65",
          "91",
          "68",
          "70",
          "72",
          "30",
          "73",
          "82",
          "94",
          "84",
          "31",
          "50",
          "29",
          "21",
          "6",
          "7",
          "10",
          "11",
          "28",
          "19",
          "99",
          "27",
          "25",
          "34",
          "15",
          "13",
          "74",
          "75",
          "76",
          "77",
          "78",
          "79",
          "80",
          "81",
          "12",
          "35",
          "85",
          "16",
          "9",
          "87",
          "88",
          "89",
          "8",
          "33",
          "92",
          "93",
          "32",
          "5",
          "4",
          "3",
          "2",
          "71",
          "69",
          "40",
          "53",
          "41",
          "42",
          "43",
          "44",
          "24",
          "46",
          "47",
          "22",
          "38",
          "20",
          "51",
          "52",
          "54",
          "17",
          "55",
          "56",
          "57",
          "58",
          "59",
          "60",
          "61",
          "63",
          "64",
          "36",
          "66",
          "67",
          "18"
         ]
        }
       ],
       "layout": {
        "autosize": false,
        "height": 1000,
        "width": 1000,
        "xaxis": {
         "tickfont": {
          "color": "black",
          "size": 12
         },
         "title": "Feature Importances"
        },
        "yaxis": {
         "automargin": true
        }
       }
      },
      "text/html": [
       "<div id=\"7815d633-a955-46a1-92db-c4b7ef970c9c\" style=\"height: 1000px; width: 1000px;\" class=\"plotly-graph-div\"></div><script type=\"text/javascript\">require([\"plotly\"], function(Plotly) { window.PLOTLYENV=window.PLOTLYENV || {};window.PLOTLYENV.BASE_URL=\"https://plot.ly\";Plotly.newPlot(\"7815d633-a955-46a1-92db-c4b7ef970c9c\", [{\"marker\": {\"color\": \"rgb(158,202,225)\", \"line\": {\"color\": \"rgb(8,48,107)\", \"width\": 1.5}}, \"opacity\": 0.6, \"orientation\": \"h\", \"text\": [0.06, 0.06, 0.04, 0.04, 0.04, 0.04, 0.04, 0.04, 0.02, 0.02, 0.02, 0.02, 0.02, 0.02, 0.02, 0.02, 0.02, 0.02, 0.02, 0.02, 0.02, 0.02, 0.02, 0.02, 0.02, 0.02, 0.02, 0.02, 0.02, 0.02, 0.02, 0.02, 0.02, 0.02, 0.02, 0.02, 0.02, 0.02, 0.02, 0.02, 0.0, 0.0, 0.0, 0.0, 0.0, 0.0, 0.0, 0.0, 0.0, 0.0, 0.0, 0.0, 0.0, 0.0, 0.0, 0.0, 0.0, 0.0, 0.0, 0.0, 0.0, 0.0, 0.0, 0.0, 0.0, 0.0, 0.0, 0.0, 0.0, 0.0, 0.0, 0.0, 0.0, 0.0, 0.0, 0.0, 0.0, 0.0, 0.0, 0.0, 0.0, 0.0, 0.0, 0.0, 0.0, 0.0, 0.0, 0.0, 0.0, 0.0, 0.0, 0.0, 0.0, 0.0, 0.0, 0.0, 0.0, 0.0, 0.0, 0.0], \"textposition\": \"outside\", \"x\": [0.06, 0.06, 0.04, 0.04, 0.04, 0.04, 0.04, 0.04, 0.02, 0.02, 0.02, 0.02, 0.02, 0.02, 0.02, 0.02, 0.02, 0.02, 0.02, 0.02, 0.02, 0.02, 0.02, 0.02, 0.02, 0.02, 0.02, 0.02, 0.02, 0.02, 0.02, 0.02, 0.02, 0.02, 0.02, 0.02, 0.02, 0.02, 0.02, 0.02, 0.0, 0.0, 0.0, 0.0, 0.0, 0.0, 0.0, 0.0, 0.0, 0.0, 0.0, 0.0, 0.0, 0.0, 0.0, 0.0, 0.0, 0.0, 0.0, 0.0, 0.0, 0.0, 0.0, 0.0, 0.0, 0.0, 0.0, 0.0, 0.0, 0.0, 0.0, 0.0, 0.0, 0.0, 0.0, 0.0, 0.0, 0.0, 0.0, 0.0, 0.0, 0.0, 0.0, 0.0, 0.0, 0.0, 0.0, 0.0, 0.0, 0.0, 0.0, 0.0, 0.0, 0.0, 0.0, 0.0, 0.0, 0.0, 0.0, 0.0], \"y\": [\"26\", \"1\", \"0\", \"86\", \"23\", \"62\", \"83\", \"14\", \"90\", \"95\", \"37\", \"98\", \"39\", \"45\", \"97\", \"48\", \"49\", \"96\", \"65\", \"91\", \"68\", \"70\", \"72\", \"30\", \"73\", \"82\", \"94\", \"84\", \"31\", \"50\", \"29\", \"21\", \"6\", \"7\", \"10\", \"11\", \"28\", \"19\", \"99\", \"27\", \"25\", \"34\", \"15\", \"13\", \"74\", \"75\", \"76\", \"77\", \"78\", \"79\", \"80\", \"81\", \"12\", \"35\", \"85\", \"16\", \"9\", \"87\", \"88\", \"89\", \"8\", \"33\", \"92\", \"93\", \"32\", \"5\", \"4\", \"3\", \"2\", \"71\", \"69\", \"40\", \"53\", \"41\", \"42\", \"43\", \"44\", \"24\", \"46\", \"47\", \"22\", \"38\", \"20\", \"51\", \"52\", \"54\", \"17\", \"55\", \"56\", \"57\", \"58\", \"59\", \"60\", \"61\", \"63\", \"64\", \"36\", \"66\", \"67\", \"18\"], \"type\": \"bar\", \"uid\": \"7482ad72-fc6c-4c1a-8e40-98cf4fe4dea4\"}], {\"autosize\": false, \"height\": 1000, \"width\": 1000, \"xaxis\": {\"tickfont\": {\"color\": \"black\", \"size\": 12}, \"title\": \"Feature Importances\"}, \"yaxis\": {\"automargin\": true}}, {\"showLink\": true, \"linkText\": \"Export to plot.ly\", \"plotlyServerURL\": \"https://plot.ly\"})});</script>"
      ],
      "text/vnd.plotly.v1+html": [
       "<div id=\"7815d633-a955-46a1-92db-c4b7ef970c9c\" style=\"height: 1000px; width: 1000px;\" class=\"plotly-graph-div\"></div><script type=\"text/javascript\">require([\"plotly\"], function(Plotly) { window.PLOTLYENV=window.PLOTLYENV || {};window.PLOTLYENV.BASE_URL=\"https://plot.ly\";Plotly.newPlot(\"7815d633-a955-46a1-92db-c4b7ef970c9c\", [{\"marker\": {\"color\": \"rgb(158,202,225)\", \"line\": {\"color\": \"rgb(8,48,107)\", \"width\": 1.5}}, \"opacity\": 0.6, \"orientation\": \"h\", \"text\": [0.06, 0.06, 0.04, 0.04, 0.04, 0.04, 0.04, 0.04, 0.02, 0.02, 0.02, 0.02, 0.02, 0.02, 0.02, 0.02, 0.02, 0.02, 0.02, 0.02, 0.02, 0.02, 0.02, 0.02, 0.02, 0.02, 0.02, 0.02, 0.02, 0.02, 0.02, 0.02, 0.02, 0.02, 0.02, 0.02, 0.02, 0.02, 0.02, 0.02, 0.0, 0.0, 0.0, 0.0, 0.0, 0.0, 0.0, 0.0, 0.0, 0.0, 0.0, 0.0, 0.0, 0.0, 0.0, 0.0, 0.0, 0.0, 0.0, 0.0, 0.0, 0.0, 0.0, 0.0, 0.0, 0.0, 0.0, 0.0, 0.0, 0.0, 0.0, 0.0, 0.0, 0.0, 0.0, 0.0, 0.0, 0.0, 0.0, 0.0, 0.0, 0.0, 0.0, 0.0, 0.0, 0.0, 0.0, 0.0, 0.0, 0.0, 0.0, 0.0, 0.0, 0.0, 0.0, 0.0, 0.0, 0.0, 0.0, 0.0], \"textposition\": \"outside\", \"x\": [0.06, 0.06, 0.04, 0.04, 0.04, 0.04, 0.04, 0.04, 0.02, 0.02, 0.02, 0.02, 0.02, 0.02, 0.02, 0.02, 0.02, 0.02, 0.02, 0.02, 0.02, 0.02, 0.02, 0.02, 0.02, 0.02, 0.02, 0.02, 0.02, 0.02, 0.02, 0.02, 0.02, 0.02, 0.02, 0.02, 0.02, 0.02, 0.02, 0.02, 0.0, 0.0, 0.0, 0.0, 0.0, 0.0, 0.0, 0.0, 0.0, 0.0, 0.0, 0.0, 0.0, 0.0, 0.0, 0.0, 0.0, 0.0, 0.0, 0.0, 0.0, 0.0, 0.0, 0.0, 0.0, 0.0, 0.0, 0.0, 0.0, 0.0, 0.0, 0.0, 0.0, 0.0, 0.0, 0.0, 0.0, 0.0, 0.0, 0.0, 0.0, 0.0, 0.0, 0.0, 0.0, 0.0, 0.0, 0.0, 0.0, 0.0, 0.0, 0.0, 0.0, 0.0, 0.0, 0.0, 0.0, 0.0, 0.0, 0.0], \"y\": [\"26\", \"1\", \"0\", \"86\", \"23\", \"62\", \"83\", \"14\", \"90\", \"95\", \"37\", \"98\", \"39\", \"45\", \"97\", \"48\", \"49\", \"96\", \"65\", \"91\", \"68\", \"70\", \"72\", \"30\", \"73\", \"82\", \"94\", \"84\", \"31\", \"50\", \"29\", \"21\", \"6\", \"7\", \"10\", \"11\", \"28\", \"19\", \"99\", \"27\", \"25\", \"34\", \"15\", \"13\", \"74\", \"75\", \"76\", \"77\", \"78\", \"79\", \"80\", \"81\", \"12\", \"35\", \"85\", \"16\", \"9\", \"87\", \"88\", \"89\", \"8\", \"33\", \"92\", \"93\", \"32\", \"5\", \"4\", \"3\", \"2\", \"71\", \"69\", \"40\", \"53\", \"41\", \"42\", \"43\", \"44\", \"24\", \"46\", \"47\", \"22\", \"38\", \"20\", \"51\", \"52\", \"54\", \"17\", \"55\", \"56\", \"57\", \"58\", \"59\", \"60\", \"61\", \"63\", \"64\", \"36\", \"66\", \"67\", \"18\"], \"type\": \"bar\", \"uid\": \"7482ad72-fc6c-4c1a-8e40-98cf4fe4dea4\"}], {\"autosize\": false, \"height\": 1000, \"width\": 1000, \"xaxis\": {\"tickfont\": {\"color\": \"black\", \"size\": 12}, \"title\": \"Feature Importances\"}, \"yaxis\": {\"automargin\": true}}, {\"showLink\": true, \"linkText\": \"Export to plot.ly\", \"plotlyServerURL\": \"https://plot.ly\"})});</script>"
      ]
     },
     "metadata": {},
     "output_type": "display_data"
    },
    {
     "name": "stdout",
     "output_type": "stream",
     "text": [
      "\n",
      "\n",
      "\u001b[1mGradientBoosting Classifier\u001b[0m\n",
      "Accuracy of the model for training data is: 0.9114018691588786\n",
      "Confusion Matrix for training data is:\n"
     ]
    },
    {
     "data": {
      "text/plain": [
       "Predicted  False  True  __all__\n",
       "Actual                         \n",
       "False      25690  2190    27880\n",
       "True         654  3566     4220\n",
       "__all__    26344  5756    32100"
      ]
     },
     "metadata": {},
     "output_type": "display_data"
    },
    {
     "name": "stdout",
     "output_type": "stream",
     "text": [
      "Accuracy of the model for test data is: 0.9093486478627508\n",
      "Confusion Matrix for test data is:\n"
     ]
    },
    {
     "data": {
      "text/plain": [
       "Predicted  False  True  __all__\n",
       "Actual                         \n",
       "False      11003   952    11955\n",
       "True         295  1506     1801\n",
       "__all__    11298  2458    13756"
      ]
     },
     "metadata": {},
     "output_type": "display_data"
    },
    {
     "data": {
      "application/vnd.plotly.v1+json": {
       "config": {
        "linkText": "Export to plot.ly",
        "plotlyServerURL": "https://plot.ly",
        "showLink": true
       },
       "data": [
        {
         "marker": {
          "color": "rgb(158,202,225)",
          "line": {
           "color": "rgb(8,48,107)",
           "width": 1.5
          }
         },
         "opacity": 0.6,
         "orientation": "h",
         "text": [
          0.5128,
          0.1237,
          0.0631,
          0.0499,
          0.0459,
          0.0333,
          0.026,
          0.0164,
          0.0122,
          0.0107,
          0.0099,
          0.0095,
          0.0092,
          0.0069,
          0.0059,
          0.0043,
          0.0041,
          0.0039,
          0.0035,
          0.0034,
          0.0029,
          0.0025,
          0.0024,
          0.0023,
          0.0022,
          0.002,
          0.0019,
          0.0015,
          0.0015,
          0.0015,
          0.0013,
          0.0013,
          0.0012,
          0.0012,
          0.0012,
          0.0011,
          0.001,
          0.0009,
          0.0009,
          0.0009,
          0.0008,
          0.0008,
          0.0007,
          0.0007,
          0.0006,
          0.0006,
          0.0006,
          0.0005,
          0.0005,
          0.0005,
          0.0005,
          0.0005,
          0.0004,
          0.0003,
          0.0003,
          0.0003,
          0.0003,
          0.0003,
          0.0003,
          0.0003,
          0.0003,
          0.0002,
          0.0002,
          0.0002,
          0.0002,
          0.0002,
          0.0002,
          0.0002,
          0.0002,
          0.0002,
          0.0001,
          0.0001,
          0.0001,
          0.0001,
          0.0001,
          0.0001,
          0.0001,
          0.0001,
          0.0001,
          0.0001,
          0.0001,
          0.0001,
          0.0001,
          0.0001,
          0.0001,
          0.0001,
          0.0001,
          0,
          0,
          0,
          0,
          0,
          0,
          0,
          0,
          0,
          0,
          0,
          0,
          0
         ],
         "textposition": "outside",
         "type": "bar",
         "uid": "893d9964-d73d-47fd-874c-61915a408d7c",
         "x": [
          0.5128203993105653,
          0.12371073484385038,
          0.06307436429654853,
          0.04987967599632691,
          0.045910754903990006,
          0.033279428043335425,
          0.026012009539172248,
          0.016435325862537903,
          0.012233190893701932,
          0.010725832000466225,
          0.00991838423501262,
          0.009502787077539224,
          0.009218095505561436,
          0.006882587720297939,
          0.005937480567597891,
          0.004273337852806341,
          0.004134639259190017,
          0.0038912053684642648,
          0.0034828399185167554,
          0.0033558608895512226,
          0.002858841363956679,
          0.0024942682603184083,
          0.0024296238548594017,
          0.0022799369994917656,
          0.0021804847638731326,
          0.0020049080207156953,
          0.001944020140900357,
          0.0015329442627536125,
          0.0015259783140092336,
          0.001494427231577235,
          0.001326429293613928,
          0.001286393375181235,
          0.0012009407189506975,
          0.001189057658253809,
          0.0011699839791385243,
          0.0011082362808247784,
          0.0009658591027362539,
          0.0009032340251857294,
          0.0008884417622751795,
          0.0008704532298924721,
          0.0008343835161680968,
          0.0007771430292366554,
          0.0007396250150032607,
          0.0006528712004292343,
          0.0006155320373066196,
          0.0005952090228875135,
          0.0005584892586820786,
          0.0005175991088214331,
          0.0005123412971946552,
          0.0005099985347086412,
          0.0004852181588727979,
          0.0004780639569475537,
          0.00037605230623112296,
          0.00032292056331899814,
          0.0003223605172422187,
          0.00030079988473663864,
          0.0002914559283996631,
          0.000275094059141797,
          0.0002718901172218664,
          0.00026233746680795846,
          0.0002570765255298344,
          0.0002475062325445147,
          0.00023188840441933922,
          0.00023015094905571863,
          0.0002232249288342131,
          0.0002180011911793469,
          0.00021408207680162923,
          0.00016985536208099125,
          0.00016952779892306412,
          0.0001530137438313644,
          0.00014410567528915064,
          0.00014159912250964851,
          0.0001341722030046747,
          0.00012986599739384683,
          0.0001294469323033391,
          0.00012156313490575492,
          0.00011651452604489218,
          0.0001105802257369505,
          0.00010407798170002552,
          9.91852836439977e-05,
          9.349159489105162e-05,
          8.400725253436046e-05,
          7.932914131027095e-05,
          7.244790970094189e-05,
          7.18085863885377e-05,
          6.341054125494054e-05,
          6.281925188244194e-05,
          4.347186599056459e-05,
          2.6291378168821615e-05,
          2.465010679823894e-05,
          5.237244802670318e-08,
          0,
          0,
          0,
          0,
          0,
          0,
          0,
          0,
          0
         ],
         "y": [
          "0",
          "16",
          "24",
          "50",
          "41",
          "28",
          "73",
          "1",
          "29",
          "26",
          "23",
          "4",
          "10",
          "2",
          "92",
          "8",
          "36",
          "6",
          "17",
          "54",
          "38",
          "15",
          "93",
          "55",
          "65",
          "96",
          "75",
          "94",
          "90",
          "11",
          "87",
          "5",
          "14",
          "12",
          "85",
          "82",
          "45",
          "71",
          "39",
          "9",
          "98",
          "57",
          "31",
          "43",
          "95",
          "83",
          "62",
          "74",
          "64",
          "47",
          "70",
          "3",
          "68",
          "18",
          "72",
          "44",
          "63",
          "40",
          "32",
          "19",
          "56",
          "61",
          "7",
          "37",
          "97",
          "78",
          "46",
          "20",
          "30",
          "52",
          "89",
          "21",
          "34",
          "25",
          "79",
          "77",
          "88",
          "59",
          "76",
          "58",
          "66",
          "27",
          "99",
          "33",
          "60",
          "51",
          "86",
          "84",
          "69",
          "80",
          "91",
          "42",
          "35",
          "67",
          "49",
          "81",
          "22",
          "53",
          "13",
          "48"
         ]
        }
       ],
       "layout": {
        "autosize": false,
        "height": 1000,
        "width": 1000,
        "xaxis": {
         "tickfont": {
          "color": "black",
          "size": 12
         },
         "title": "Feature Importances"
        },
        "yaxis": {
         "automargin": true
        }
       }
      },
      "text/html": [
       "<div id=\"f4cbbd47-1ec0-4f49-ba35-2e87682627af\" style=\"height: 1000px; width: 1000px;\" class=\"plotly-graph-div\"></div><script type=\"text/javascript\">require([\"plotly\"], function(Plotly) { window.PLOTLYENV=window.PLOTLYENV || {};window.PLOTLYENV.BASE_URL=\"https://plot.ly\";Plotly.newPlot(\"f4cbbd47-1ec0-4f49-ba35-2e87682627af\", [{\"marker\": {\"color\": \"rgb(158,202,225)\", \"line\": {\"color\": \"rgb(8,48,107)\", \"width\": 1.5}}, \"opacity\": 0.6, \"orientation\": \"h\", \"text\": [0.5128, 0.1237, 0.0631, 0.0499, 0.0459, 0.0333, 0.026, 0.0164, 0.0122, 0.0107, 0.0099, 0.0095, 0.0092, 0.0069, 0.0059, 0.0043, 0.0041, 0.0039, 0.0035, 0.0034, 0.0029, 0.0025, 0.0024, 0.0023, 0.0022, 0.002, 0.0019, 0.0015, 0.0015, 0.0015, 0.0013, 0.0013, 0.0012, 0.0012, 0.0012, 0.0011, 0.001, 0.0009, 0.0009, 0.0009, 0.0008, 0.0008, 0.0007, 0.0007, 0.0006, 0.0006, 0.0006, 0.0005, 0.0005, 0.0005, 0.0005, 0.0005, 0.0004, 0.0003, 0.0003, 0.0003, 0.0003, 0.0003, 0.0003, 0.0003, 0.0003, 0.0002, 0.0002, 0.0002, 0.0002, 0.0002, 0.0002, 0.0002, 0.0002, 0.0002, 0.0001, 0.0001, 0.0001, 0.0001, 0.0001, 0.0001, 0.0001, 0.0001, 0.0001, 0.0001, 0.0001, 0.0001, 0.0001, 0.0001, 0.0001, 0.0001, 0.0001, 0.0, 0.0, 0.0, 0.0, 0.0, 0.0, 0.0, 0.0, 0.0, 0.0, 0.0, 0.0, 0.0], \"textposition\": \"outside\", \"x\": [0.5128203993105653, 0.12371073484385038, 0.06307436429654853, 0.04987967599632691, 0.045910754903990006, 0.033279428043335425, 0.026012009539172248, 0.016435325862537903, 0.012233190893701932, 0.010725832000466225, 0.00991838423501262, 0.009502787077539224, 0.009218095505561436, 0.006882587720297939, 0.005937480567597891, 0.004273337852806341, 0.004134639259190017, 0.0038912053684642648, 0.0034828399185167554, 0.0033558608895512226, 0.002858841363956679, 0.0024942682603184083, 0.0024296238548594017, 0.0022799369994917656, 0.0021804847638731326, 0.0020049080207156953, 0.001944020140900357, 0.0015329442627536125, 0.0015259783140092336, 0.001494427231577235, 0.001326429293613928, 0.001286393375181235, 0.0012009407189506975, 0.001189057658253809, 0.0011699839791385243, 0.0011082362808247784, 0.0009658591027362539, 0.0009032340251857294, 0.0008884417622751795, 0.0008704532298924721, 0.0008343835161680968, 0.0007771430292366554, 0.0007396250150032607, 0.0006528712004292343, 0.0006155320373066196, 0.0005952090228875135, 0.0005584892586820786, 0.0005175991088214331, 0.0005123412971946552, 0.0005099985347086412, 0.0004852181588727979, 0.0004780639569475537, 0.00037605230623112296, 0.00032292056331899814, 0.0003223605172422187, 0.00030079988473663864, 0.0002914559283996631, 0.000275094059141797, 0.0002718901172218664, 0.00026233746680795846, 0.0002570765255298344, 0.0002475062325445147, 0.00023188840441933922, 0.00023015094905571863, 0.0002232249288342131, 0.0002180011911793469, 0.00021408207680162923, 0.00016985536208099125, 0.00016952779892306412, 0.0001530137438313644, 0.00014410567528915064, 0.00014159912250964851, 0.0001341722030046747, 0.00012986599739384683, 0.0001294469323033391, 0.00012156313490575492, 0.00011651452604489218, 0.0001105802257369505, 0.00010407798170002552, 9.91852836439977e-05, 9.349159489105162e-05, 8.400725253436046e-05, 7.932914131027095e-05, 7.244790970094189e-05, 7.18085863885377e-05, 6.341054125494054e-05, 6.281925188244194e-05, 4.347186599056459e-05, 2.6291378168821615e-05, 2.465010679823894e-05, 5.237244802670318e-08, 0.0, 0.0, 0.0, 0.0, 0.0, 0.0, 0.0, 0.0, 0.0], \"y\": [\"0\", \"16\", \"24\", \"50\", \"41\", \"28\", \"73\", \"1\", \"29\", \"26\", \"23\", \"4\", \"10\", \"2\", \"92\", \"8\", \"36\", \"6\", \"17\", \"54\", \"38\", \"15\", \"93\", \"55\", \"65\", \"96\", \"75\", \"94\", \"90\", \"11\", \"87\", \"5\", \"14\", \"12\", \"85\", \"82\", \"45\", \"71\", \"39\", \"9\", \"98\", \"57\", \"31\", \"43\", \"95\", \"83\", \"62\", \"74\", \"64\", \"47\", \"70\", \"3\", \"68\", \"18\", \"72\", \"44\", \"63\", \"40\", \"32\", \"19\", \"56\", \"61\", \"7\", \"37\", \"97\", \"78\", \"46\", \"20\", \"30\", \"52\", \"89\", \"21\", \"34\", \"25\", \"79\", \"77\", \"88\", \"59\", \"76\", \"58\", \"66\", \"27\", \"99\", \"33\", \"60\", \"51\", \"86\", \"84\", \"69\", \"80\", \"91\", \"42\", \"35\", \"67\", \"49\", \"81\", \"22\", \"53\", \"13\", \"48\"], \"type\": \"bar\", \"uid\": \"893d9964-d73d-47fd-874c-61915a408d7c\"}], {\"autosize\": false, \"height\": 1000, \"width\": 1000, \"xaxis\": {\"tickfont\": {\"color\": \"black\", \"size\": 12}, \"title\": \"Feature Importances\"}, \"yaxis\": {\"automargin\": true}}, {\"showLink\": true, \"linkText\": \"Export to plot.ly\", \"plotlyServerURL\": \"https://plot.ly\"})});</script>"
      ],
      "text/vnd.plotly.v1+html": [
       "<div id=\"f4cbbd47-1ec0-4f49-ba35-2e87682627af\" style=\"height: 1000px; width: 1000px;\" class=\"plotly-graph-div\"></div><script type=\"text/javascript\">require([\"plotly\"], function(Plotly) { window.PLOTLYENV=window.PLOTLYENV || {};window.PLOTLYENV.BASE_URL=\"https://plot.ly\";Plotly.newPlot(\"f4cbbd47-1ec0-4f49-ba35-2e87682627af\", [{\"marker\": {\"color\": \"rgb(158,202,225)\", \"line\": {\"color\": \"rgb(8,48,107)\", \"width\": 1.5}}, \"opacity\": 0.6, \"orientation\": \"h\", \"text\": [0.5128, 0.1237, 0.0631, 0.0499, 0.0459, 0.0333, 0.026, 0.0164, 0.0122, 0.0107, 0.0099, 0.0095, 0.0092, 0.0069, 0.0059, 0.0043, 0.0041, 0.0039, 0.0035, 0.0034, 0.0029, 0.0025, 0.0024, 0.0023, 0.0022, 0.002, 0.0019, 0.0015, 0.0015, 0.0015, 0.0013, 0.0013, 0.0012, 0.0012, 0.0012, 0.0011, 0.001, 0.0009, 0.0009, 0.0009, 0.0008, 0.0008, 0.0007, 0.0007, 0.0006, 0.0006, 0.0006, 0.0005, 0.0005, 0.0005, 0.0005, 0.0005, 0.0004, 0.0003, 0.0003, 0.0003, 0.0003, 0.0003, 0.0003, 0.0003, 0.0003, 0.0002, 0.0002, 0.0002, 0.0002, 0.0002, 0.0002, 0.0002, 0.0002, 0.0002, 0.0001, 0.0001, 0.0001, 0.0001, 0.0001, 0.0001, 0.0001, 0.0001, 0.0001, 0.0001, 0.0001, 0.0001, 0.0001, 0.0001, 0.0001, 0.0001, 0.0001, 0.0, 0.0, 0.0, 0.0, 0.0, 0.0, 0.0, 0.0, 0.0, 0.0, 0.0, 0.0, 0.0], \"textposition\": \"outside\", \"x\": [0.5128203993105653, 0.12371073484385038, 0.06307436429654853, 0.04987967599632691, 0.045910754903990006, 0.033279428043335425, 0.026012009539172248, 0.016435325862537903, 0.012233190893701932, 0.010725832000466225, 0.00991838423501262, 0.009502787077539224, 0.009218095505561436, 0.006882587720297939, 0.005937480567597891, 0.004273337852806341, 0.004134639259190017, 0.0038912053684642648, 0.0034828399185167554, 0.0033558608895512226, 0.002858841363956679, 0.0024942682603184083, 0.0024296238548594017, 0.0022799369994917656, 0.0021804847638731326, 0.0020049080207156953, 0.001944020140900357, 0.0015329442627536125, 0.0015259783140092336, 0.001494427231577235, 0.001326429293613928, 0.001286393375181235, 0.0012009407189506975, 0.001189057658253809, 0.0011699839791385243, 0.0011082362808247784, 0.0009658591027362539, 0.0009032340251857294, 0.0008884417622751795, 0.0008704532298924721, 0.0008343835161680968, 0.0007771430292366554, 0.0007396250150032607, 0.0006528712004292343, 0.0006155320373066196, 0.0005952090228875135, 0.0005584892586820786, 0.0005175991088214331, 0.0005123412971946552, 0.0005099985347086412, 0.0004852181588727979, 0.0004780639569475537, 0.00037605230623112296, 0.00032292056331899814, 0.0003223605172422187, 0.00030079988473663864, 0.0002914559283996631, 0.000275094059141797, 0.0002718901172218664, 0.00026233746680795846, 0.0002570765255298344, 0.0002475062325445147, 0.00023188840441933922, 0.00023015094905571863, 0.0002232249288342131, 0.0002180011911793469, 0.00021408207680162923, 0.00016985536208099125, 0.00016952779892306412, 0.0001530137438313644, 0.00014410567528915064, 0.00014159912250964851, 0.0001341722030046747, 0.00012986599739384683, 0.0001294469323033391, 0.00012156313490575492, 0.00011651452604489218, 0.0001105802257369505, 0.00010407798170002552, 9.91852836439977e-05, 9.349159489105162e-05, 8.400725253436046e-05, 7.932914131027095e-05, 7.244790970094189e-05, 7.18085863885377e-05, 6.341054125494054e-05, 6.281925188244194e-05, 4.347186599056459e-05, 2.6291378168821615e-05, 2.465010679823894e-05, 5.237244802670318e-08, 0.0, 0.0, 0.0, 0.0, 0.0, 0.0, 0.0, 0.0, 0.0], \"y\": [\"0\", \"16\", \"24\", \"50\", \"41\", \"28\", \"73\", \"1\", \"29\", \"26\", \"23\", \"4\", \"10\", \"2\", \"92\", \"8\", \"36\", \"6\", \"17\", \"54\", \"38\", \"15\", \"93\", \"55\", \"65\", \"96\", \"75\", \"94\", \"90\", \"11\", \"87\", \"5\", \"14\", \"12\", \"85\", \"82\", \"45\", \"71\", \"39\", \"9\", \"98\", \"57\", \"31\", \"43\", \"95\", \"83\", \"62\", \"74\", \"64\", \"47\", \"70\", \"3\", \"68\", \"18\", \"72\", \"44\", \"63\", \"40\", \"32\", \"19\", \"56\", \"61\", \"7\", \"37\", \"97\", \"78\", \"46\", \"20\", \"30\", \"52\", \"89\", \"21\", \"34\", \"25\", \"79\", \"77\", \"88\", \"59\", \"76\", \"58\", \"66\", \"27\", \"99\", \"33\", \"60\", \"51\", \"86\", \"84\", \"69\", \"80\", \"91\", \"42\", \"35\", \"67\", \"49\", \"81\", \"22\", \"53\", \"13\", \"48\"], \"type\": \"bar\", \"uid\": \"893d9964-d73d-47fd-874c-61915a408d7c\"}], {\"autosize\": false, \"height\": 1000, \"width\": 1000, \"xaxis\": {\"tickfont\": {\"color\": \"black\", \"size\": 12}, \"title\": \"Feature Importances\"}, \"yaxis\": {\"automargin\": true}}, {\"showLink\": true, \"linkText\": \"Export to plot.ly\", \"plotlyServerURL\": \"https://plot.ly\"})});</script>"
      ]
     },
     "metadata": {},
     "output_type": "display_data"
    },
    {
     "name": "stdout",
     "output_type": "stream",
     "text": [
      "\n",
      "\n",
      "\u001b[1mExtraTree Classifier\u001b[0m\n",
      "Accuracy of the model for training data is: 0.9210903426791277\n",
      "Confusion Matrix for training data is:\n"
     ]
    },
    {
     "data": {
      "text/plain": [
       "Predicted  False  True  __all__\n",
       "Actual                         \n",
       "False      25729  2151    27880\n",
       "True         382  3838     4220\n",
       "__all__    26111  5989    32100"
      ]
     },
     "metadata": {},
     "output_type": "display_data"
    },
    {
     "name": "stdout",
     "output_type": "stream",
     "text": [
      "Accuracy of the model for test data is: 0.9084036056993312\n",
      "Confusion Matrix for test data is:\n"
     ]
    },
    {
     "data": {
      "text/plain": [
       "Predicted  False  True  __all__\n",
       "Actual                         \n",
       "False      10947  1008    11955\n",
       "True         252  1549     1801\n",
       "__all__    11199  2557    13756"
      ]
     },
     "metadata": {},
     "output_type": "display_data"
    },
    {
     "data": {
      "application/vnd.plotly.v1+json": {
       "config": {
        "linkText": "Export to plot.ly",
        "plotlyServerURL": "https://plot.ly",
        "showLink": true
       },
       "data": [
        {
         "marker": {
          "color": "rgb(158,202,225)",
          "line": {
           "color": "rgb(8,48,107)",
           "width": 1.5
          }
         },
         "opacity": 0.6,
         "orientation": "h",
         "text": [
          0.0699,
          0.053,
          0.0268,
          0.0264,
          0.025,
          0.0246,
          0.0234,
          0.0229,
          0.0225,
          0.0197,
          0.0172,
          0.017,
          0.0168,
          0.0155,
          0.0152,
          0.0146,
          0.0144,
          0.014,
          0.0139,
          0.0139,
          0.0134,
          0.0133,
          0.0127,
          0.0126,
          0.0121,
          0.0116,
          0.0107,
          0.0106,
          0.0105,
          0.0103,
          0.01,
          0.01,
          0.01,
          0.01,
          0.01,
          0.0097,
          0.0097,
          0.0095,
          0.0095,
          0.0095,
          0.009,
          0.0088,
          0.0087,
          0.0085,
          0.0085,
          0.0082,
          0.0082,
          0.0081,
          0.008,
          0.008,
          0.0079,
          0.0079,
          0.0078,
          0.0077,
          0.0075,
          0.0075,
          0.0071,
          0.0069,
          0.0069,
          0.0068,
          0.0067,
          0.0065,
          0.0062,
          0.0061,
          0.0057,
          0.0056,
          0.0055,
          0.0055,
          0.0052,
          0.0051,
          0.0051,
          0.005,
          0.005,
          0.0049,
          0.0047,
          0.0047,
          0.0045,
          0.0043,
          0.0043,
          0.004,
          0.0038,
          0.0036,
          0.0036,
          0.0035,
          0.0035,
          0.0035,
          0.0033,
          0.0032,
          0.003,
          0.0028,
          0.0025,
          0.0024,
          0.0022,
          0.0022,
          0.0021,
          0.0021,
          0.0021,
          0.002,
          0.0019,
          0.0016
         ],
         "textposition": "outside",
         "type": "bar",
         "uid": "f0959a14-a36f-44b7-a71c-05cb212251d1",
         "x": [
          0.06992263294581703,
          0.052965260338097134,
          0.026797182576247212,
          0.026436400729609778,
          0.024952501612215443,
          0.024577322544143458,
          0.023436022453754177,
          0.02292048175335066,
          0.02248044473481645,
          0.01970503742785059,
          0.01722991097100862,
          0.01697440749721345,
          0.01683848199973311,
          0.015514571754635487,
          0.015162181634712654,
          0.014569466551084362,
          0.01441480520416675,
          0.014030852503201685,
          0.013891587610034789,
          0.013864468184523198,
          0.013370018963449023,
          0.01325640466032832,
          0.012703288678680216,
          0.012550331091538825,
          0.012146622360335339,
          0.0115805232776315,
          0.010678490857660608,
          0.01057949376425225,
          0.010512585628648033,
          0.010311724843913846,
          0.01004344885530965,
          0.010031976348021773,
          0.010026196645974626,
          0.009997508694647212,
          0.009988041278642276,
          0.009736720130623582,
          0.009702399595416971,
          0.009541704432981113,
          0.00948865595831833,
          0.009461085891482951,
          0.00901705969963815,
          0.008843644110952283,
          0.008704424826284422,
          0.008539476244891363,
          0.00846981410213061,
          0.008247977223676746,
          0.008217073958913683,
          0.008140094165282899,
          0.008037477819582464,
          0.008006497088930538,
          0.00791025012571638,
          0.007872579119301905,
          0.007759391227815172,
          0.007714223491504369,
          0.007512467385604139,
          0.007450568173785648,
          0.007060782777440407,
          0.006942862112248149,
          0.006897316295394846,
          0.006847772524252484,
          0.006650790624830927,
          0.006515482923135675,
          0.006177427851463755,
          0.006072136412159615,
          0.005722153047951272,
          0.005599598792528016,
          0.005543492130309453,
          0.005467859514155562,
          0.0052480511000825274,
          0.00512843064726491,
          0.00506200591014245,
          0.005015877535570114,
          0.005014499799207844,
          0.004857110686622467,
          0.004745035756100484,
          0.004685331829101138,
          0.004529820978648476,
          0.004339023522168077,
          0.004298613739550988,
          0.004008085425301024,
          0.003797329972556625,
          0.0035610731317200087,
          0.0035588648084421727,
          0.0034845702666913446,
          0.003477386307170635,
          0.003467083094840525,
          0.0033473501460484375,
          0.003216173082467309,
          0.0029572155237782595,
          0.002756365687526169,
          0.0024705866750759633,
          0.0024434704045228546,
          0.0022303233747010074,
          0.002192298365651649,
          0.0021253007033142104,
          0.0020775113241452417,
          0.0020683977794505436,
          0.001972837019845028,
          0.0019027163275166085,
          0.0016293223208215363
         ],
         "y": [
          "1",
          "0",
          "5",
          "17",
          "49",
          "9",
          "22",
          "95",
          "4",
          "16",
          "70",
          "25",
          "39",
          "43",
          "21",
          "15",
          "44",
          "7",
          "6",
          "29",
          "48",
          "33",
          "88",
          "24",
          "28",
          "90",
          "13",
          "54",
          "58",
          "83",
          "85",
          "3",
          "42",
          "96",
          "67",
          "81",
          "34",
          "64",
          "84",
          "14",
          "11",
          "60",
          "2",
          "12",
          "94",
          "62",
          "75",
          "35",
          "89",
          "59",
          "91",
          "73",
          "65",
          "53",
          "45",
          "72",
          "80",
          "76",
          "40",
          "97",
          "66",
          "26",
          "30",
          "77",
          "61",
          "31",
          "32",
          "19",
          "82",
          "20",
          "38",
          "71",
          "93",
          "78",
          "98",
          "69",
          "52",
          "50",
          "51",
          "57",
          "23",
          "47",
          "27",
          "63",
          "8",
          "92",
          "56",
          "79",
          "46",
          "18",
          "68",
          "37",
          "41",
          "36",
          "87",
          "74",
          "99",
          "55",
          "10",
          "86"
         ]
        }
       ],
       "layout": {
        "autosize": false,
        "height": 1000,
        "width": 1000,
        "xaxis": {
         "tickfont": {
          "color": "black",
          "size": 12
         },
         "title": "Feature Importances"
        },
        "yaxis": {
         "automargin": true
        }
       }
      },
      "text/html": [
       "<div id=\"101c088b-1459-4901-a050-c6730c9b958d\" style=\"height: 1000px; width: 1000px;\" class=\"plotly-graph-div\"></div><script type=\"text/javascript\">require([\"plotly\"], function(Plotly) { window.PLOTLYENV=window.PLOTLYENV || {};window.PLOTLYENV.BASE_URL=\"https://plot.ly\";Plotly.newPlot(\"101c088b-1459-4901-a050-c6730c9b958d\", [{\"marker\": {\"color\": \"rgb(158,202,225)\", \"line\": {\"color\": \"rgb(8,48,107)\", \"width\": 1.5}}, \"opacity\": 0.6, \"orientation\": \"h\", \"text\": [0.0699, 0.053, 0.0268, 0.0264, 0.025, 0.0246, 0.0234, 0.0229, 0.0225, 0.0197, 0.0172, 0.017, 0.0168, 0.0155, 0.0152, 0.0146, 0.0144, 0.014, 0.0139, 0.0139, 0.0134, 0.0133, 0.0127, 0.0126, 0.0121, 0.0116, 0.0107, 0.0106, 0.0105, 0.0103, 0.01, 0.01, 0.01, 0.01, 0.01, 0.0097, 0.0097, 0.0095, 0.0095, 0.0095, 0.009, 0.0088, 0.0087, 0.0085, 0.0085, 0.0082, 0.0082, 0.0081, 0.008, 0.008, 0.0079, 0.0079, 0.0078, 0.0077, 0.0075, 0.0075, 0.0071, 0.0069, 0.0069, 0.0068, 0.0067, 0.0065, 0.0062, 0.0061, 0.0057, 0.0056, 0.0055, 0.0055, 0.0052, 0.0051, 0.0051, 0.005, 0.005, 0.0049, 0.0047, 0.0047, 0.0045, 0.0043, 0.0043, 0.004, 0.0038, 0.0036, 0.0036, 0.0035, 0.0035, 0.0035, 0.0033, 0.0032, 0.003, 0.0028, 0.0025, 0.0024, 0.0022, 0.0022, 0.0021, 0.0021, 0.0021, 0.002, 0.0019, 0.0016], \"textposition\": \"outside\", \"x\": [0.06992263294581703, 0.052965260338097134, 0.026797182576247212, 0.026436400729609778, 0.024952501612215443, 0.024577322544143458, 0.023436022453754177, 0.02292048175335066, 0.02248044473481645, 0.01970503742785059, 0.01722991097100862, 0.01697440749721345, 0.01683848199973311, 0.015514571754635487, 0.015162181634712654, 0.014569466551084362, 0.01441480520416675, 0.014030852503201685, 0.013891587610034789, 0.013864468184523198, 0.013370018963449023, 0.01325640466032832, 0.012703288678680216, 0.012550331091538825, 0.012146622360335339, 0.0115805232776315, 0.010678490857660608, 0.01057949376425225, 0.010512585628648033, 0.010311724843913846, 0.01004344885530965, 0.010031976348021773, 0.010026196645974626, 0.009997508694647212, 0.009988041278642276, 0.009736720130623582, 0.009702399595416971, 0.009541704432981113, 0.00948865595831833, 0.009461085891482951, 0.00901705969963815, 0.008843644110952283, 0.008704424826284422, 0.008539476244891363, 0.00846981410213061, 0.008247977223676746, 0.008217073958913683, 0.008140094165282899, 0.008037477819582464, 0.008006497088930538, 0.00791025012571638, 0.007872579119301905, 0.007759391227815172, 0.007714223491504369, 0.007512467385604139, 0.007450568173785648, 0.007060782777440407, 0.006942862112248149, 0.006897316295394846, 0.006847772524252484, 0.006650790624830927, 0.006515482923135675, 0.006177427851463755, 0.006072136412159615, 0.005722153047951272, 0.005599598792528016, 0.005543492130309453, 0.005467859514155562, 0.0052480511000825274, 0.00512843064726491, 0.00506200591014245, 0.005015877535570114, 0.005014499799207844, 0.004857110686622467, 0.004745035756100484, 0.004685331829101138, 0.004529820978648476, 0.004339023522168077, 0.004298613739550988, 0.004008085425301024, 0.003797329972556625, 0.0035610731317200087, 0.0035588648084421727, 0.0034845702666913446, 0.003477386307170635, 0.003467083094840525, 0.0033473501460484375, 0.003216173082467309, 0.0029572155237782595, 0.002756365687526169, 0.0024705866750759633, 0.0024434704045228546, 0.0022303233747010074, 0.002192298365651649, 0.0021253007033142104, 0.0020775113241452417, 0.0020683977794505436, 0.001972837019845028, 0.0019027163275166085, 0.0016293223208215363], \"y\": [\"1\", \"0\", \"5\", \"17\", \"49\", \"9\", \"22\", \"95\", \"4\", \"16\", \"70\", \"25\", \"39\", \"43\", \"21\", \"15\", \"44\", \"7\", \"6\", \"29\", \"48\", \"33\", \"88\", \"24\", \"28\", \"90\", \"13\", \"54\", \"58\", \"83\", \"85\", \"3\", \"42\", \"96\", \"67\", \"81\", \"34\", \"64\", \"84\", \"14\", \"11\", \"60\", \"2\", \"12\", \"94\", \"62\", \"75\", \"35\", \"89\", \"59\", \"91\", \"73\", \"65\", \"53\", \"45\", \"72\", \"80\", \"76\", \"40\", \"97\", \"66\", \"26\", \"30\", \"77\", \"61\", \"31\", \"32\", \"19\", \"82\", \"20\", \"38\", \"71\", \"93\", \"78\", \"98\", \"69\", \"52\", \"50\", \"51\", \"57\", \"23\", \"47\", \"27\", \"63\", \"8\", \"92\", \"56\", \"79\", \"46\", \"18\", \"68\", \"37\", \"41\", \"36\", \"87\", \"74\", \"99\", \"55\", \"10\", \"86\"], \"type\": \"bar\", \"uid\": \"f0959a14-a36f-44b7-a71c-05cb212251d1\"}], {\"autosize\": false, \"height\": 1000, \"width\": 1000, \"xaxis\": {\"tickfont\": {\"color\": \"black\", \"size\": 12}, \"title\": \"Feature Importances\"}, \"yaxis\": {\"automargin\": true}}, {\"showLink\": true, \"linkText\": \"Export to plot.ly\", \"plotlyServerURL\": \"https://plot.ly\"})});</script>"
      ],
      "text/vnd.plotly.v1+html": [
       "<div id=\"101c088b-1459-4901-a050-c6730c9b958d\" style=\"height: 1000px; width: 1000px;\" class=\"plotly-graph-div\"></div><script type=\"text/javascript\">require([\"plotly\"], function(Plotly) { window.PLOTLYENV=window.PLOTLYENV || {};window.PLOTLYENV.BASE_URL=\"https://plot.ly\";Plotly.newPlot(\"101c088b-1459-4901-a050-c6730c9b958d\", [{\"marker\": {\"color\": \"rgb(158,202,225)\", \"line\": {\"color\": \"rgb(8,48,107)\", \"width\": 1.5}}, \"opacity\": 0.6, \"orientation\": \"h\", \"text\": [0.0699, 0.053, 0.0268, 0.0264, 0.025, 0.0246, 0.0234, 0.0229, 0.0225, 0.0197, 0.0172, 0.017, 0.0168, 0.0155, 0.0152, 0.0146, 0.0144, 0.014, 0.0139, 0.0139, 0.0134, 0.0133, 0.0127, 0.0126, 0.0121, 0.0116, 0.0107, 0.0106, 0.0105, 0.0103, 0.01, 0.01, 0.01, 0.01, 0.01, 0.0097, 0.0097, 0.0095, 0.0095, 0.0095, 0.009, 0.0088, 0.0087, 0.0085, 0.0085, 0.0082, 0.0082, 0.0081, 0.008, 0.008, 0.0079, 0.0079, 0.0078, 0.0077, 0.0075, 0.0075, 0.0071, 0.0069, 0.0069, 0.0068, 0.0067, 0.0065, 0.0062, 0.0061, 0.0057, 0.0056, 0.0055, 0.0055, 0.0052, 0.0051, 0.0051, 0.005, 0.005, 0.0049, 0.0047, 0.0047, 0.0045, 0.0043, 0.0043, 0.004, 0.0038, 0.0036, 0.0036, 0.0035, 0.0035, 0.0035, 0.0033, 0.0032, 0.003, 0.0028, 0.0025, 0.0024, 0.0022, 0.0022, 0.0021, 0.0021, 0.0021, 0.002, 0.0019, 0.0016], \"textposition\": \"outside\", \"x\": [0.06992263294581703, 0.052965260338097134, 0.026797182576247212, 0.026436400729609778, 0.024952501612215443, 0.024577322544143458, 0.023436022453754177, 0.02292048175335066, 0.02248044473481645, 0.01970503742785059, 0.01722991097100862, 0.01697440749721345, 0.01683848199973311, 0.015514571754635487, 0.015162181634712654, 0.014569466551084362, 0.01441480520416675, 0.014030852503201685, 0.013891587610034789, 0.013864468184523198, 0.013370018963449023, 0.01325640466032832, 0.012703288678680216, 0.012550331091538825, 0.012146622360335339, 0.0115805232776315, 0.010678490857660608, 0.01057949376425225, 0.010512585628648033, 0.010311724843913846, 0.01004344885530965, 0.010031976348021773, 0.010026196645974626, 0.009997508694647212, 0.009988041278642276, 0.009736720130623582, 0.009702399595416971, 0.009541704432981113, 0.00948865595831833, 0.009461085891482951, 0.00901705969963815, 0.008843644110952283, 0.008704424826284422, 0.008539476244891363, 0.00846981410213061, 0.008247977223676746, 0.008217073958913683, 0.008140094165282899, 0.008037477819582464, 0.008006497088930538, 0.00791025012571638, 0.007872579119301905, 0.007759391227815172, 0.007714223491504369, 0.007512467385604139, 0.007450568173785648, 0.007060782777440407, 0.006942862112248149, 0.006897316295394846, 0.006847772524252484, 0.006650790624830927, 0.006515482923135675, 0.006177427851463755, 0.006072136412159615, 0.005722153047951272, 0.005599598792528016, 0.005543492130309453, 0.005467859514155562, 0.0052480511000825274, 0.00512843064726491, 0.00506200591014245, 0.005015877535570114, 0.005014499799207844, 0.004857110686622467, 0.004745035756100484, 0.004685331829101138, 0.004529820978648476, 0.004339023522168077, 0.004298613739550988, 0.004008085425301024, 0.003797329972556625, 0.0035610731317200087, 0.0035588648084421727, 0.0034845702666913446, 0.003477386307170635, 0.003467083094840525, 0.0033473501460484375, 0.003216173082467309, 0.0029572155237782595, 0.002756365687526169, 0.0024705866750759633, 0.0024434704045228546, 0.0022303233747010074, 0.002192298365651649, 0.0021253007033142104, 0.0020775113241452417, 0.0020683977794505436, 0.001972837019845028, 0.0019027163275166085, 0.0016293223208215363], \"y\": [\"1\", \"0\", \"5\", \"17\", \"49\", \"9\", \"22\", \"95\", \"4\", \"16\", \"70\", \"25\", \"39\", \"43\", \"21\", \"15\", \"44\", \"7\", \"6\", \"29\", \"48\", \"33\", \"88\", \"24\", \"28\", \"90\", \"13\", \"54\", \"58\", \"83\", \"85\", \"3\", \"42\", \"96\", \"67\", \"81\", \"34\", \"64\", \"84\", \"14\", \"11\", \"60\", \"2\", \"12\", \"94\", \"62\", \"75\", \"35\", \"89\", \"59\", \"91\", \"73\", \"65\", \"53\", \"45\", \"72\", \"80\", \"76\", \"40\", \"97\", \"66\", \"26\", \"30\", \"77\", \"61\", \"31\", \"32\", \"19\", \"82\", \"20\", \"38\", \"71\", \"93\", \"78\", \"98\", \"69\", \"52\", \"50\", \"51\", \"57\", \"23\", \"47\", \"27\", \"63\", \"8\", \"92\", \"56\", \"79\", \"46\", \"18\", \"68\", \"37\", \"41\", \"36\", \"87\", \"74\", \"99\", \"55\", \"10\", \"86\"], \"type\": \"bar\", \"uid\": \"f0959a14-a36f-44b7-a71c-05cb212251d1\"}], {\"autosize\": false, \"height\": 1000, \"width\": 1000, \"xaxis\": {\"tickfont\": {\"color\": \"black\", \"size\": 12}, \"title\": \"Feature Importances\"}, \"yaxis\": {\"automargin\": true}}, {\"showLink\": true, \"linkText\": \"Export to plot.ly\", \"plotlyServerURL\": \"https://plot.ly\"})});</script>"
      ]
     },
     "metadata": {},
     "output_type": "display_data"
    },
    {
     "name": "stdout",
     "output_type": "stream",
     "text": [
      "\n",
      "\n",
      "\u001b[1mBagging Classifier\u001b[0m\n",
      "Accuracy of the model for training data is: 0.9190654205607477\n",
      "Confusion Matrix for training data is:\n"
     ]
    },
    {
     "data": {
      "text/plain": [
       "Predicted  False  True  __all__\n",
       "Actual                         \n",
       "False      25703  2177    27880\n",
       "True         421  3799     4220\n",
       "__all__    26124  5976    32100"
      ]
     },
     "metadata": {},
     "output_type": "display_data"
    },
    {
     "name": "stdout",
     "output_type": "stream",
     "text": [
      "Accuracy of the model for test data is: 0.909930212271009\n",
      "Confusion Matrix for test data is:\n"
     ]
    },
    {
     "data": {
      "text/plain": [
       "Predicted  False  True  __all__\n",
       "Actual                         \n",
       "False      10966   989    11955\n",
       "True         250  1551     1801\n",
       "__all__    11216  2540    13756"
      ]
     },
     "metadata": {},
     "output_type": "display_data"
    },
    {
     "name": "stdout",
     "output_type": "stream",
     "text": [
      "\n",
      "\n",
      "\u001b[1mNeural Network-1\u001b[0m\n",
      "The accuracy of the model on training data is: 0.9097196261682243\n"
     ]
    },
    {
     "data": {
      "text/plain": [
       "Predicted  False  True  __all__\n",
       "Actual                         \n",
       "False      25609  2271    27880\n",
       "True         627  3593     4220\n",
       "__all__    26236  5864    32100"
      ]
     },
     "metadata": {},
     "output_type": "display_data"
    },
    {
     "name": "stdout",
     "output_type": "stream",
     "text": [
      "The accuracy of the model on test data is: 0.9076039546379762\n"
     ]
    },
    {
     "data": {
      "text/plain": [
       "Predicted  False  True  __all__\n",
       "Actual                         \n",
       "False      10976   979    11955\n",
       "True         292  1509     1801\n",
       "__all__    11268  2488    13756"
      ]
     },
     "metadata": {},
     "output_type": "display_data"
    },
    {
     "name": "stdout",
     "output_type": "stream",
     "text": [
      "\n",
      "\n"
     ]
    }
   ],
   "source": [
    "feat_imp=[None]*4\n",
    "j=0\n",
    "for i in range(0,8):\n",
    "    if i>=2 and i<=5:\n",
    "        model,cm_train,cm_test,acc_train,acc_test,roc_auc,feat_imp[j],mcc=f[i](X_train,Y_train,X_test,Y_test,np.arange(0,100).astype(str))\n",
    "        j=j+1\n",
    "    else:\n",
    "        model,cm_train,cm_test,acc_train,acc_test,roc_auc,mcc=f[i](X_train,Y_train,X_test,Y_test)\n",
    "    table_80_70_train.loc[i]=   ([acc_train,cm_train.TP,cm_train.TN,cm_train.FP,cm_train.FN,cm_train.FPR,cm_train.FNR])\n",
    "    table_80_70_test.loc[i] =   ([acc_test ,cm_test.TP, cm_test.TN, cm_test.FP, cm_test.FN, cm_test.FPR, cm_test.FNR,roc_auc,mcc])\n",
    "    print(\"\\n\")"
   ]
  },
  {
   "cell_type": "markdown",
   "metadata": {},
   "source": [
    "### <a id='5.A' style=\"text-decoration : none; color : #000000;\"> A. Results</a>"
   ]
  },
  {
   "cell_type": "code",
   "execution_count": 84,
   "metadata": {},
   "outputs": [
    {
     "data": {
      "application/vnd.plotly.v1+json": {
       "config": {
        "linkText": "Export to plot.ly",
        "plotlyServerURL": "https://plot.ly",
        "showLink": true
       },
       "data": [
        {
         "mode": "lines",
         "name": "KNN_model",
         "type": "scatter",
         "uid": "5092d249-17f2-49d5-93d3-6c61adc0f299",
         "x": [
          "accuracy",
          "FPR",
          "FNR",
          "auc"
         ],
         "y": [
          0.9023698749636522,
          0.006273525721455458,
          0.7040533037201555,
          0.6448365852791945
         ]
        },
        {
         "mode": "lines+markers",
         "name": "Logistic Regression",
         "type": "scatter",
         "uid": "9485da5b-c1d2-42b0-9b81-b208597a44bf",
         "x": [
          "accuracy",
          "FPR",
          "FNR",
          "auc"
         ],
         "y": [
          0.8989531840651352,
          0.08456712672521957,
          0.21043864519711272,
          0.8524971140388338
         ]
        },
        {
         "marker": {
          "symbol": "x"
         },
         "mode": "lines+markers",
         "name": "Random Forest",
         "type": "scatter",
         "uid": "2c4d34ed-85de-4e84-9e11-82cbd933b3a3",
         "x": [
          "accuracy",
          "FPR",
          "FNR",
          "auc"
         ],
         "y": [
          0.9086216923524281,
          0.0835633626097867,
          0.14325374791782344,
          0.886591444736195
         ]
        },
        {
         "mode": "lines",
         "name": "Ada Boost",
         "type": "scatter",
         "uid": "5afac653-5d5d-40ee-8ad1-7953b864c8cf",
         "x": [
          "accuracy",
          "FPR",
          "FNR",
          "auc"
         ],
         "y": [
          0.904405350392556,
          0.0820577164366374,
          0.18545252637423654,
          0.8662448785945631
         ]
        },
        {
         "mode": "lines+markers",
         "name": "GradientBoosting",
         "type": "scatter",
         "uid": "9f292ad3-c163-4f38-b31a-998ca102c180",
         "x": [
          "accuracy",
          "FPR",
          "FNR",
          "auc"
         ],
         "y": [
          0.9093486478627508,
          0.07963195315767461,
          0.16379789006107717,
          0.8782850783906242
         ]
        },
        {
         "marker": {
          "symbol": "x"
         },
         "mode": "lines+markers",
         "name": "ExtraTree Classifier",
         "type": "scatter",
         "uid": "2659e507-9646-48a3-a54d-4a9a56b2937e",
         "x": [
          "accuracy",
          "FPR",
          "FNR",
          "auc"
         ],
         "y": [
          0.9084036056993312,
          0.08431618569636136,
          0.1399222654081066,
          0.8878807744477661
         ]
        },
        {
         "marker": {
          "symbol": "x"
         },
         "mode": "lines+markers",
         "name": "Bagging",
         "type": "scatter",
         "uid": "111f8ef0-4c44-4c7a-bc81-952c68054524",
         "x": [
          "accuracy",
          "FPR",
          "FNR",
          "auc"
         ],
         "y": [
          0.909930212271009,
          0.08272689251359264,
          0.138811771238201,
          0.8892306681241032
         ]
        },
        {
         "marker": {
          "symbol": "x"
         },
         "mode": "lines+markers",
         "name": "Neural Network",
         "type": "scatter",
         "uid": "392ccff9-95ff-4651-ae4c-2affb751aef7",
         "x": [
          "accuracy",
          "FPR",
          "FNR",
          "auc"
         ],
         "y": [
          0.9076039546379762,
          0.08189042241739858,
          0.16213214880621876,
          0.8892306681241032
         ]
        }
       ],
       "layout": {
        "title": "Result comparision for Features selected in Section 1",
        "yaxis": {
         "dtick": 0.05,
         "tick0": 0
        }
       }
      },
      "text/html": [
       "<div id=\"37ad3f08-c61a-4a44-8049-66a5d439b732\" style=\"height: 525px; width: 100%;\" class=\"plotly-graph-div\"></div><script type=\"text/javascript\">require([\"plotly\"], function(Plotly) { window.PLOTLYENV=window.PLOTLYENV || {};window.PLOTLYENV.BASE_URL=\"https://plot.ly\";Plotly.newPlot(\"37ad3f08-c61a-4a44-8049-66a5d439b732\", [{\"mode\": \"lines\", \"name\": \"KNN_model\", \"x\": [\"accuracy\", \"FPR\", \"FNR\", \"auc\"], \"y\": [0.9023698749636522, 0.006273525721455458, 0.7040533037201555, 0.6448365852791945], \"type\": \"scatter\", \"uid\": \"5092d249-17f2-49d5-93d3-6c61adc0f299\"}, {\"mode\": \"lines+markers\", \"name\": \"Logistic Regression\", \"x\": [\"accuracy\", \"FPR\", \"FNR\", \"auc\"], \"y\": [0.8989531840651352, 0.08456712672521957, 0.21043864519711272, 0.8524971140388338], \"type\": \"scatter\", \"uid\": \"9485da5b-c1d2-42b0-9b81-b208597a44bf\"}, {\"marker\": {\"symbol\": \"x\"}, \"mode\": \"lines+markers\", \"name\": \"Random Forest\", \"x\": [\"accuracy\", \"FPR\", \"FNR\", \"auc\"], \"y\": [0.9086216923524281, 0.0835633626097867, 0.14325374791782344, 0.886591444736195], \"type\": \"scatter\", \"uid\": \"2c4d34ed-85de-4e84-9e11-82cbd933b3a3\"}, {\"mode\": \"lines\", \"name\": \"Ada Boost\", \"x\": [\"accuracy\", \"FPR\", \"FNR\", \"auc\"], \"y\": [0.904405350392556, 0.0820577164366374, 0.18545252637423654, 0.8662448785945631], \"type\": \"scatter\", \"uid\": \"5afac653-5d5d-40ee-8ad1-7953b864c8cf\"}, {\"mode\": \"lines+markers\", \"name\": \"GradientBoosting\", \"x\": [\"accuracy\", \"FPR\", \"FNR\", \"auc\"], \"y\": [0.9093486478627508, 0.07963195315767461, 0.16379789006107717, 0.8782850783906242], \"type\": \"scatter\", \"uid\": \"9f292ad3-c163-4f38-b31a-998ca102c180\"}, {\"marker\": {\"symbol\": \"x\"}, \"mode\": \"lines+markers\", \"name\": \"ExtraTree Classifier\", \"x\": [\"accuracy\", \"FPR\", \"FNR\", \"auc\"], \"y\": [0.9084036056993312, 0.08431618569636136, 0.1399222654081066, 0.8878807744477661], \"type\": \"scatter\", \"uid\": \"2659e507-9646-48a3-a54d-4a9a56b2937e\"}, {\"marker\": {\"symbol\": \"x\"}, \"mode\": \"lines+markers\", \"name\": \"Bagging\", \"x\": [\"accuracy\", \"FPR\", \"FNR\", \"auc\"], \"y\": [0.909930212271009, 0.08272689251359264, 0.138811771238201, 0.8892306681241032], \"type\": \"scatter\", \"uid\": \"111f8ef0-4c44-4c7a-bc81-952c68054524\"}, {\"marker\": {\"symbol\": \"x\"}, \"mode\": \"lines+markers\", \"name\": \"Neural Network\", \"x\": [\"accuracy\", \"FPR\", \"FNR\", \"auc\"], \"y\": [0.9076039546379762, 0.08189042241739858, 0.16213214880621876, 0.8892306681241032], \"type\": \"scatter\", \"uid\": \"392ccff9-95ff-4651-ae4c-2affb751aef7\"}], {\"title\": \"Result comparision for Features selected in Section 1\", \"yaxis\": {\"dtick\": 0.05, \"tick0\": 0}}, {\"showLink\": true, \"linkText\": \"Export to plot.ly\", \"plotlyServerURL\": \"https://plot.ly\"})});</script><script type=\"text/javascript\">window.addEventListener(\"resize\", function(){window._Plotly.Plots.resize(document.getElementById(\"37ad3f08-c61a-4a44-8049-66a5d439b732\"));});</script>"
      ],
      "text/vnd.plotly.v1+html": [
       "<div id=\"37ad3f08-c61a-4a44-8049-66a5d439b732\" style=\"height: 525px; width: 100%;\" class=\"plotly-graph-div\"></div><script type=\"text/javascript\">require([\"plotly\"], function(Plotly) { window.PLOTLYENV=window.PLOTLYENV || {};window.PLOTLYENV.BASE_URL=\"https://plot.ly\";Plotly.newPlot(\"37ad3f08-c61a-4a44-8049-66a5d439b732\", [{\"mode\": \"lines\", \"name\": \"KNN_model\", \"x\": [\"accuracy\", \"FPR\", \"FNR\", \"auc\"], \"y\": [0.9023698749636522, 0.006273525721455458, 0.7040533037201555, 0.6448365852791945], \"type\": \"scatter\", \"uid\": \"5092d249-17f2-49d5-93d3-6c61adc0f299\"}, {\"mode\": \"lines+markers\", \"name\": \"Logistic Regression\", \"x\": [\"accuracy\", \"FPR\", \"FNR\", \"auc\"], \"y\": [0.8989531840651352, 0.08456712672521957, 0.21043864519711272, 0.8524971140388338], \"type\": \"scatter\", \"uid\": \"9485da5b-c1d2-42b0-9b81-b208597a44bf\"}, {\"marker\": {\"symbol\": \"x\"}, \"mode\": \"lines+markers\", \"name\": \"Random Forest\", \"x\": [\"accuracy\", \"FPR\", \"FNR\", \"auc\"], \"y\": [0.9086216923524281, 0.0835633626097867, 0.14325374791782344, 0.886591444736195], \"type\": \"scatter\", \"uid\": \"2c4d34ed-85de-4e84-9e11-82cbd933b3a3\"}, {\"mode\": \"lines\", \"name\": \"Ada Boost\", \"x\": [\"accuracy\", \"FPR\", \"FNR\", \"auc\"], \"y\": [0.904405350392556, 0.0820577164366374, 0.18545252637423654, 0.8662448785945631], \"type\": \"scatter\", \"uid\": \"5afac653-5d5d-40ee-8ad1-7953b864c8cf\"}, {\"mode\": \"lines+markers\", \"name\": \"GradientBoosting\", \"x\": [\"accuracy\", \"FPR\", \"FNR\", \"auc\"], \"y\": [0.9093486478627508, 0.07963195315767461, 0.16379789006107717, 0.8782850783906242], \"type\": \"scatter\", \"uid\": \"9f292ad3-c163-4f38-b31a-998ca102c180\"}, {\"marker\": {\"symbol\": \"x\"}, \"mode\": \"lines+markers\", \"name\": \"ExtraTree Classifier\", \"x\": [\"accuracy\", \"FPR\", \"FNR\", \"auc\"], \"y\": [0.9084036056993312, 0.08431618569636136, 0.1399222654081066, 0.8878807744477661], \"type\": \"scatter\", \"uid\": \"2659e507-9646-48a3-a54d-4a9a56b2937e\"}, {\"marker\": {\"symbol\": \"x\"}, \"mode\": \"lines+markers\", \"name\": \"Bagging\", \"x\": [\"accuracy\", \"FPR\", \"FNR\", \"auc\"], \"y\": [0.909930212271009, 0.08272689251359264, 0.138811771238201, 0.8892306681241032], \"type\": \"scatter\", \"uid\": \"111f8ef0-4c44-4c7a-bc81-952c68054524\"}, {\"marker\": {\"symbol\": \"x\"}, \"mode\": \"lines+markers\", \"name\": \"Neural Network\", \"x\": [\"accuracy\", \"FPR\", \"FNR\", \"auc\"], \"y\": [0.9076039546379762, 0.08189042241739858, 0.16213214880621876, 0.8892306681241032], \"type\": \"scatter\", \"uid\": \"392ccff9-95ff-4651-ae4c-2affb751aef7\"}], {\"title\": \"Result comparision for Features selected in Section 1\", \"yaxis\": {\"dtick\": 0.05, \"tick0\": 0}}, {\"showLink\": true, \"linkText\": \"Export to plot.ly\", \"plotlyServerURL\": \"https://plot.ly\"})});</script><script type=\"text/javascript\">window.addEventListener(\"resize\", function(){window._Plotly.Plots.resize(document.getElementById(\"37ad3f08-c61a-4a44-8049-66a5d439b732\"));});</script>"
      ]
     },
     "metadata": {},
     "output_type": "display_data"
    }
   ],
   "source": [
    "trace0 = go.Scatter(x=table_80_70_test.iloc[0].index.values[[0,5,6,7]],\n",
    "                    y=table_80_70_test.iloc[0].values[[0,5,6,7]],\n",
    "                    mode = 'lines',\n",
    "                    name = 'KNN_model')\n",
    "\n",
    "trace1 = go.Scatter(x=table_80_70_test.iloc[1].index.values[[0,5,6,7]],\n",
    "                    y=table_80_70_test.iloc[1].values[[0,5,6,7]],\n",
    "                    mode = 'lines+markers',\n",
    "                    name = 'Logistic Regression')\n",
    "\n",
    "trace2 = go.Scatter(x=table_80_70_test.iloc[2].index.values[[0,5,6,7]],\n",
    "                    y=table_80_70_test.iloc[2].values[[0,5,6,7]],\n",
    "                    mode = 'lines+markers',marker=dict(symbol='x'),\n",
    "                    name = 'Random Forest')\n",
    "\n",
    "\n",
    "trace3 = go.Scatter(x=table_80_70_test.iloc[3].index.values[[0,5,6,7]],\n",
    "                    y=table_80_70_test.iloc[3].values[[0,5,6,7]],\n",
    "                    mode = 'lines',\n",
    "                    name = 'Ada Boost')\n",
    "\n",
    "trace4 = go.Scatter(x=table_80_70_test.iloc[4].index.values[[0,5,6,7]],\n",
    "                    y=table_80_70_test.iloc[4].values[[0,5,6,7]],\n",
    "                    mode = 'lines+markers',\n",
    "                    name = 'GradientBoosting')\n",
    "\n",
    "trace5 = go.Scatter(x=table_80_70_test.iloc[5].index.values[[0,5,6,7]],\n",
    "                    y=table_80_70_test.iloc[5].values[[0,5,6,7]],\n",
    "                    mode = 'lines+markers',marker=dict(symbol='x'),\n",
    "                    name = 'ExtraTree Classifier')\n",
    "\n",
    "trace6 = go.Scatter(x=table_80_70_test.iloc[6].index.values[[0,5,6,7]],\n",
    "                    y=table_80_70_test.iloc[6].values[[0,5,6,7]],\n",
    "                    mode = 'lines+markers',marker=dict(symbol='x'),\n",
    "                    name = 'Bagging')\n",
    "\n",
    "trace7 = go.Scatter(x=table_80_70_test.iloc[7].index.values[[0,5,6,7]],\n",
    "                    y=table_80_70_test.iloc[7].values[[0,5,6,7]],\n",
    "                    mode = 'lines+markers',marker=dict(symbol='x'),\n",
    "                    name = 'Neural Network')\n",
    "\n",
    "\n",
    "\n",
    "data = [trace0, trace1, trace2, trace3, trace4, trace5, trace6, trace7]\n",
    "layout = go.Layout(yaxis=dict(tick0=0,dtick=0.05),title='Result comparision for Features selected in Section 1')\n",
    "fig = go.Figure(data=data, layout=layout)\n",
    "\n",
    "iplot(fig, filename='Result')"
   ]
  },
  {
   "cell_type": "code",
   "execution_count": 85,
   "metadata": {},
   "outputs": [
    {
     "name": "stdout",
     "output_type": "stream",
     "text": [
      "Training Results\n"
     ]
    },
    {
     "data": {
      "text/html": [
       "<div>\n",
       "<style scoped>\n",
       "    .dataframe tbody tr th:only-of-type {\n",
       "        vertical-align: middle;\n",
       "    }\n",
       "\n",
       "    .dataframe tbody tr th {\n",
       "        vertical-align: top;\n",
       "    }\n",
       "\n",
       "    .dataframe thead th {\n",
       "        text-align: right;\n",
       "    }\n",
       "</style>\n",
       "<table border=\"1\" class=\"dataframe\">\n",
       "  <thead>\n",
       "    <tr style=\"text-align: right;\">\n",
       "      <th></th>\n",
       "      <th>accuracy</th>\n",
       "      <th>TP</th>\n",
       "      <th>TN</th>\n",
       "      <th>FP</th>\n",
       "      <th>FN</th>\n",
       "      <th>FPR</th>\n",
       "      <th>FNR</th>\n",
       "    </tr>\n",
       "    <tr>\n",
       "      <th>index</th>\n",
       "      <th></th>\n",
       "      <th></th>\n",
       "      <th></th>\n",
       "      <th></th>\n",
       "      <th></th>\n",
       "      <th></th>\n",
       "      <th></th>\n",
       "    </tr>\n",
       "  </thead>\n",
       "  <tbody>\n",
       "    <tr>\n",
       "      <th>KNeighborsClassifier</th>\n",
       "      <td>0.902866</td>\n",
       "      <td>1230.0</td>\n",
       "      <td>27752.0</td>\n",
       "      <td>128.0</td>\n",
       "      <td>2990.0</td>\n",
       "      <td>0.004591</td>\n",
       "      <td>0.708531</td>\n",
       "    </tr>\n",
       "    <tr>\n",
       "      <th>LogisticRegression</th>\n",
       "      <td>0.899657</td>\n",
       "      <td>3380.0</td>\n",
       "      <td>25499.0</td>\n",
       "      <td>2381.0</td>\n",
       "      <td>840.0</td>\n",
       "      <td>0.085402</td>\n",
       "      <td>0.199052</td>\n",
       "    </tr>\n",
       "    <tr>\n",
       "      <th>RandomForestClassifier</th>\n",
       "      <td>0.919688</td>\n",
       "      <td>3814.0</td>\n",
       "      <td>25708.0</td>\n",
       "      <td>2172.0</td>\n",
       "      <td>406.0</td>\n",
       "      <td>0.077905</td>\n",
       "      <td>0.096209</td>\n",
       "    </tr>\n",
       "    <tr>\n",
       "      <th>AdaBoostClassifier</th>\n",
       "      <td>0.905202</td>\n",
       "      <td>3457.0</td>\n",
       "      <td>25600.0</td>\n",
       "      <td>2280.0</td>\n",
       "      <td>763.0</td>\n",
       "      <td>0.081779</td>\n",
       "      <td>0.180806</td>\n",
       "    </tr>\n",
       "    <tr>\n",
       "      <th>GradientBoostingClassifier</th>\n",
       "      <td>0.911402</td>\n",
       "      <td>3566.0</td>\n",
       "      <td>25690.0</td>\n",
       "      <td>2190.0</td>\n",
       "      <td>654.0</td>\n",
       "      <td>0.078551</td>\n",
       "      <td>0.154976</td>\n",
       "    </tr>\n",
       "    <tr>\n",
       "      <th>ExtraTreeClassifier</th>\n",
       "      <td>0.921090</td>\n",
       "      <td>3838.0</td>\n",
       "      <td>25729.0</td>\n",
       "      <td>2151.0</td>\n",
       "      <td>382.0</td>\n",
       "      <td>0.077152</td>\n",
       "      <td>0.090521</td>\n",
       "    </tr>\n",
       "    <tr>\n",
       "      <th>BaggingClassifier</th>\n",
       "      <td>0.919065</td>\n",
       "      <td>3799.0</td>\n",
       "      <td>25703.0</td>\n",
       "      <td>2177.0</td>\n",
       "      <td>421.0</td>\n",
       "      <td>0.078085</td>\n",
       "      <td>0.099763</td>\n",
       "    </tr>\n",
       "    <tr>\n",
       "      <th>Neural Network-1</th>\n",
       "      <td>0.909720</td>\n",
       "      <td>3593.0</td>\n",
       "      <td>25609.0</td>\n",
       "      <td>2271.0</td>\n",
       "      <td>627.0</td>\n",
       "      <td>0.081456</td>\n",
       "      <td>0.148578</td>\n",
       "    </tr>\n",
       "  </tbody>\n",
       "</table>\n",
       "</div>"
      ],
      "text/plain": [
       "                            accuracy      TP       TN      FP      FN  \\\n",
       "index                                                                   \n",
       "KNeighborsClassifier        0.902866  1230.0  27752.0   128.0  2990.0   \n",
       "LogisticRegression          0.899657  3380.0  25499.0  2381.0   840.0   \n",
       "RandomForestClassifier      0.919688  3814.0  25708.0  2172.0   406.0   \n",
       "AdaBoostClassifier          0.905202  3457.0  25600.0  2280.0   763.0   \n",
       "GradientBoostingClassifier  0.911402  3566.0  25690.0  2190.0   654.0   \n",
       "ExtraTreeClassifier         0.921090  3838.0  25729.0  2151.0   382.0   \n",
       "BaggingClassifier           0.919065  3799.0  25703.0  2177.0   421.0   \n",
       "Neural Network-1            0.909720  3593.0  25609.0  2271.0   627.0   \n",
       "\n",
       "                                 FPR       FNR  \n",
       "index                                           \n",
       "KNeighborsClassifier        0.004591  0.708531  \n",
       "LogisticRegression          0.085402  0.199052  \n",
       "RandomForestClassifier      0.077905  0.096209  \n",
       "AdaBoostClassifier          0.081779  0.180806  \n",
       "GradientBoostingClassifier  0.078551  0.154976  \n",
       "ExtraTreeClassifier         0.077152  0.090521  \n",
       "BaggingClassifier           0.078085  0.099763  \n",
       "Neural Network-1            0.081456  0.148578  "
      ]
     },
     "metadata": {},
     "output_type": "display_data"
    },
    {
     "name": "stdout",
     "output_type": "stream",
     "text": [
      "Test Results\n"
     ]
    },
    {
     "data": {
      "text/html": [
       "<div>\n",
       "<style scoped>\n",
       "    .dataframe tbody tr th:only-of-type {\n",
       "        vertical-align: middle;\n",
       "    }\n",
       "\n",
       "    .dataframe tbody tr th {\n",
       "        vertical-align: top;\n",
       "    }\n",
       "\n",
       "    .dataframe thead th {\n",
       "        text-align: right;\n",
       "    }\n",
       "</style>\n",
       "<table border=\"1\" class=\"dataframe\">\n",
       "  <thead>\n",
       "    <tr style=\"text-align: right;\">\n",
       "      <th></th>\n",
       "      <th>accuracy</th>\n",
       "      <th>TP</th>\n",
       "      <th>TN</th>\n",
       "      <th>FP</th>\n",
       "      <th>FN</th>\n",
       "      <th>FPR</th>\n",
       "      <th>FNR</th>\n",
       "      <th>auc</th>\n",
       "      <th>mcc</th>\n",
       "    </tr>\n",
       "    <tr>\n",
       "      <th>index</th>\n",
       "      <th></th>\n",
       "      <th></th>\n",
       "      <th></th>\n",
       "      <th></th>\n",
       "      <th></th>\n",
       "      <th></th>\n",
       "      <th></th>\n",
       "      <th></th>\n",
       "      <th></th>\n",
       "    </tr>\n",
       "  </thead>\n",
       "  <tbody>\n",
       "    <tr>\n",
       "      <th>KNeighborsClassifier</th>\n",
       "      <td>0.902370</td>\n",
       "      <td>533.0</td>\n",
       "      <td>11880.0</td>\n",
       "      <td>75.0</td>\n",
       "      <td>1268.0</td>\n",
       "      <td>0.006274</td>\n",
       "      <td>0.704053</td>\n",
       "      <td>0.644837</td>\n",
       "      <td>0.475399</td>\n",
       "    </tr>\n",
       "    <tr>\n",
       "      <th>LogisticRegression</th>\n",
       "      <td>0.898953</td>\n",
       "      <td>1422.0</td>\n",
       "      <td>10944.0</td>\n",
       "      <td>1011.0</td>\n",
       "      <td>379.0</td>\n",
       "      <td>0.084567</td>\n",
       "      <td>0.210439</td>\n",
       "      <td>0.852497</td>\n",
       "      <td>0.623254</td>\n",
       "    </tr>\n",
       "    <tr>\n",
       "      <th>RandomForestClassifier</th>\n",
       "      <td>0.908622</td>\n",
       "      <td>1543.0</td>\n",
       "      <td>10956.0</td>\n",
       "      <td>999.0</td>\n",
       "      <td>258.0</td>\n",
       "      <td>0.083563</td>\n",
       "      <td>0.143254</td>\n",
       "      <td>0.886591</td>\n",
       "      <td>0.671964</td>\n",
       "    </tr>\n",
       "    <tr>\n",
       "      <th>AdaBoostClassifier</th>\n",
       "      <td>0.904405</td>\n",
       "      <td>1467.0</td>\n",
       "      <td>10974.0</td>\n",
       "      <td>981.0</td>\n",
       "      <td>334.0</td>\n",
       "      <td>0.082058</td>\n",
       "      <td>0.185453</td>\n",
       "      <td>0.866245</td>\n",
       "      <td>0.646003</td>\n",
       "    </tr>\n",
       "    <tr>\n",
       "      <th>GradientBoostingClassifier</th>\n",
       "      <td>0.909349</td>\n",
       "      <td>1506.0</td>\n",
       "      <td>11003.0</td>\n",
       "      <td>952.0</td>\n",
       "      <td>295.0</td>\n",
       "      <td>0.079632</td>\n",
       "      <td>0.163798</td>\n",
       "      <td>0.878285</td>\n",
       "      <td>0.666176</td>\n",
       "    </tr>\n",
       "    <tr>\n",
       "      <th>ExtraTreeClassifier</th>\n",
       "      <td>0.908404</td>\n",
       "      <td>1549.0</td>\n",
       "      <td>10947.0</td>\n",
       "      <td>1008.0</td>\n",
       "      <td>252.0</td>\n",
       "      <td>0.084316</td>\n",
       "      <td>0.139922</td>\n",
       "      <td>0.887881</td>\n",
       "      <td>0.672674</td>\n",
       "    </tr>\n",
       "    <tr>\n",
       "      <th>BaggingClassifier</th>\n",
       "      <td>0.909930</td>\n",
       "      <td>1551.0</td>\n",
       "      <td>10966.0</td>\n",
       "      <td>989.0</td>\n",
       "      <td>250.0</td>\n",
       "      <td>0.082727</td>\n",
       "      <td>0.138812</td>\n",
       "      <td>0.889231</td>\n",
       "      <td>0.676757</td>\n",
       "    </tr>\n",
       "    <tr>\n",
       "      <th>Neural Network-1</th>\n",
       "      <td>0.907604</td>\n",
       "      <td>1509.0</td>\n",
       "      <td>10976.0</td>\n",
       "      <td>979.0</td>\n",
       "      <td>292.0</td>\n",
       "      <td>0.081890</td>\n",
       "      <td>0.162132</td>\n",
       "      <td>0.889231</td>\n",
       "      <td>0.662509</td>\n",
       "    </tr>\n",
       "  </tbody>\n",
       "</table>\n",
       "</div>"
      ],
      "text/plain": [
       "                            accuracy      TP       TN      FP      FN  \\\n",
       "index                                                                   \n",
       "KNeighborsClassifier        0.902370   533.0  11880.0    75.0  1268.0   \n",
       "LogisticRegression          0.898953  1422.0  10944.0  1011.0   379.0   \n",
       "RandomForestClassifier      0.908622  1543.0  10956.0   999.0   258.0   \n",
       "AdaBoostClassifier          0.904405  1467.0  10974.0   981.0   334.0   \n",
       "GradientBoostingClassifier  0.909349  1506.0  11003.0   952.0   295.0   \n",
       "ExtraTreeClassifier         0.908404  1549.0  10947.0  1008.0   252.0   \n",
       "BaggingClassifier           0.909930  1551.0  10966.0   989.0   250.0   \n",
       "Neural Network-1            0.907604  1509.0  10976.0   979.0   292.0   \n",
       "\n",
       "                                 FPR       FNR       auc       mcc  \n",
       "index                                                               \n",
       "KNeighborsClassifier        0.006274  0.704053  0.644837  0.475399  \n",
       "LogisticRegression          0.084567  0.210439  0.852497  0.623254  \n",
       "RandomForestClassifier      0.083563  0.143254  0.886591  0.671964  \n",
       "AdaBoostClassifier          0.082058  0.185453  0.866245  0.646003  \n",
       "GradientBoostingClassifier  0.079632  0.163798  0.878285  0.666176  \n",
       "ExtraTreeClassifier         0.084316  0.139922  0.887881  0.672674  \n",
       "BaggingClassifier           0.082727  0.138812  0.889231  0.676757  \n",
       "Neural Network-1            0.081890  0.162132  0.889231  0.662509  "
      ]
     },
     "metadata": {},
     "output_type": "display_data"
    }
   ],
   "source": [
    "table_80_70_train['index']=ind_columns\n",
    "table_80_70_test['index']=ind_columns\n",
    "\n",
    "\n",
    "table_80_70_test.set_index(['index'],drop=True,inplace=True)\n",
    "table_80_70_train.set_index(['index'],drop=True,inplace=True)\n",
    "\n",
    "print(\"Training Results\")\n",
    "display(table_80_70_train)\n",
    "print(\"Test Results\")\n",
    "display(table_80_70_test)"
   ]
  },
  {
   "cell_type": "code",
   "execution_count": 86,
   "metadata": {},
   "outputs": [
    {
     "data": {
      "text/html": [
       "<script>\n",
       "code_show=true; \n",
       "function code_toggle() {\n",
       " if (code_show){\n",
       " $('div.input').hide();\n",
       " } else {\n",
       " $('div.input').show();\n",
       " }\n",
       " code_show = !code_show\n",
       "} \n",
       "$( document ).ready(code_toggle);\n",
       "</script>\n",
       "To toggle code, click <a href=\"javascript:code_toggle()\">here</a>."
      ],
      "text/plain": [
       "<IPython.core.display.HTML object>"
      ]
     },
     "execution_count": 86,
     "metadata": {},
     "output_type": "execute_result"
    }
   ],
   "source": [
    "### Original Creator : Darshan Bhansali\n",
    "### HTML code to hide the input cells \n",
    "HTML('''<script>\n",
    "code_show=true; \n",
    "function code_toggle() {\n",
    " if (code_show){\n",
    " $('div.input').hide();\n",
    " } else {\n",
    " $('div.input').show();\n",
    " }\n",
    " code_show = !code_show\n",
    "} \n",
    "$( document ).ready(code_toggle);\n",
    "</script>\n",
    "To toggle code, click <a href=\"javascript:code_toggle()\">here</a>.''')"
   ]
  }
 ],
 "metadata": {
  "kernelspec": {
   "display_name": "Python 3",
   "language": "python",
   "name": "python3"
  },
  "language_info": {
   "codemirror_mode": {
    "name": "ipython",
    "version": 3
   },
   "file_extension": ".py",
   "mimetype": "text/x-python",
   "name": "python",
   "nbconvert_exporter": "python",
   "pygments_lexer": "ipython3",
   "version": "3.6.8"
  }
 },
 "nbformat": 4,
 "nbformat_minor": 2
}
