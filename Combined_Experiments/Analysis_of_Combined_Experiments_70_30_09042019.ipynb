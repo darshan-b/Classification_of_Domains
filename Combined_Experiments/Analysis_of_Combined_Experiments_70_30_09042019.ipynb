{
 "cells": [
  {
   "cell_type": "code",
   "execution_count": 1,
   "metadata": {},
   "outputs": [
    {
     "name": "stderr",
     "output_type": "stream",
     "text": [
      "Using TensorFlow backend.\n",
      "/nethomes/darshan/anaconda3/lib/python3.6/site-packages/sklearn/externals/six.py:31: DeprecationWarning: The module is deprecated in version 0.21 and will be removed in version 0.23 since we've dropped support for Python 2.7. Please rely on the official version of six (https://pypi.org/project/six/).\n",
      "  \"(https://pypi.org/project/six/).\", DeprecationWarning)\n",
      "/nethomes/darshan/anaconda3/lib/python3.6/site-packages/sklearn/externals/joblib/__init__.py:15: DeprecationWarning: sklearn.externals.joblib is deprecated in 0.21 and will be removed in 0.23. Please import this functionality directly from joblib, which can be installed with: pip install joblib. If this warning is raised when loading pickled models, you may need to re-serialize those models with scikit-learn 0.21+.\n",
      "  warnings.warn(msg, category=DeprecationWarning)\n"
     ]
    },
    {
     "data": {
      "text/html": [
       "<script type=\"text/javascript\">window.PlotlyConfig = {MathJaxConfig: 'local'};</script><script type=\"text/javascript\">if (window.MathJax) {MathJax.Hub.Config({SVG: {font: \"STIX-Web\"}});}</script><script>requirejs.config({paths: { 'plotly': ['https://cdn.plot.ly/plotly-latest.min']},});if(!window._Plotly) {require(['plotly'],function(plotly) {window._Plotly=plotly;});}</script>"
      ],
      "text/vnd.plotly.v1+html": [
       "<script type=\"text/javascript\">window.PlotlyConfig = {MathJaxConfig: 'local'};</script><script type=\"text/javascript\">if (window.MathJax) {MathJax.Hub.Config({SVG: {font: \"STIX-Web\"}});}</script><script>requirejs.config({paths: { 'plotly': ['https://cdn.plot.ly/plotly-latest.min']},});if(!window._Plotly) {require(['plotly'],function(plotly) {window._Plotly=plotly;});}</script>"
      ]
     },
     "metadata": {},
     "output_type": "display_data"
    }
   ],
   "source": [
    "import pandas as pd\n",
    "import numpy as np\n",
    "import copy\n",
    "import matplotlib.pyplot as plt\n",
    "import seaborn as sns\n",
    "%matplotlib inline\n",
    "\n",
    "from IPython.display import display,clear_output,HTML\n",
    "import warnings\n",
    "warnings.filterwarnings(\"ignore\")\n",
    "\n",
    "import keras\n",
    "from keras.layers import Dense,Dropout\n",
    "from keras.models import Sequential\n",
    "\n",
    "import researchpy as rp\n",
    "\n",
    "%matplotlib inline\n",
    "pd.set_option('display.max_columns', 500)\n",
    "pd.set_option('display.max_rows',305)\n",
    "\n",
    "from sklearn.feature_selection import SelectKBest,chi2,RFE,RFECV,f_regression,SelectFromModel,f_classif\n",
    "from sklearn.linear_model import LogisticRegression\n",
    "from sklearn.ensemble import ExtraTreesClassifier,RandomForestClassifier,GradientBoostingClassifier,AdaBoostClassifier,BaggingClassifier\n",
    "from sklearn.neighbors import KNeighborsClassifier\n",
    "from sklearn.model_selection import train_test_split,cross_val_score\n",
    "\n",
    "from sklearn.preprocessing import StandardScaler,MinMaxScaler\n",
    "from sklearn import metrics\n",
    "\n",
    "from xgboost import XGBClassifier\n",
    "\n",
    "\n",
    "from sklearn.decomposition import PCA\n",
    "from sklearn.metrics import accuracy_score,auc,roc_curve,recall_score,precision_score,matthews_corrcoef\n",
    "\n",
    "from pandas_ml import ConfusionMatrix\n",
    "\n",
    "\n",
    "from imblearn.over_sampling import SMOTE\n",
    "\n",
    "from plotly.offline import download_plotlyjs, init_notebook_mode, plot, iplot\n",
    "init_notebook_mode(connected=True)\n",
    "import plotly.graph_objs as go\n",
    "\n",
    "import featuretools as ft\n",
    "\n",
    "from scipy import stats\n",
    "import re\n",
    "\n",
    "from statsmodels.stats.outliers_influence import variance_inflation_factor\n",
    "from statsmodels.tools.tools import add_constant"
   ]
  },
  {
   "cell_type": "code",
   "execution_count": 2,
   "metadata": {},
   "outputs": [],
   "source": [
    "### Function to plot Feature Importance\n",
    "def feat_impt_plot(feat_impt,y_labels,width_s=1000,height_s=1000):\n",
    "    \n",
    "    m=pd.DataFrame(y_labels,feat_impt).reset_index()\n",
    "    m.columns=['Feature_Importance','Features']\n",
    "    m.sort_values(by='Feature_Importance',inplace=True,ascending=False)\n",
    "    m['Features']=m['Features'].str.replace(\"dom_function_\",\"\")\n",
    "    m['Features']=m['Features'].str.replace(\"js_function_\",\"\")\n",
    "    m['Features']=m['Features'].apply(lambda x: str(x).lstrip('.'))\n",
    "    m['Features']=m['Features'].str.replace(\"(\",\"\")\n",
    "    \n",
    "    data = [go.Bar(x=m.Feature_Importance.values,y=m.Features.values,text=np.round(m.Feature_Importance,4),\n",
    "            textposition = 'outside',\n",
    "            marker=dict(\n",
    "                color='rgb(158,202,225)',\n",
    "                line=dict(\n",
    "                    color='rgb(8,48,107)',\n",
    "                    width=1.5),\n",
    "            ),\n",
    "            opacity=0.6,\n",
    "            orientation='h'\n",
    "        )]\n",
    "    layout = go.Layout(autosize=False,\n",
    "    width=width_s,\n",
    "    height=height_s,\n",
    "    xaxis=dict(title='Feature Importances',\n",
    "        tickfont=dict(\n",
    "            size=12,\n",
    "            color='black'\n",
    "        )),\n",
    "    yaxis=dict(automargin=True))\n",
    "    fig = go.Figure(data=data, layout=layout)\n",
    "    iplot(fig)"
   ]
  },
  {
   "cell_type": "code",
   "execution_count": 3,
   "metadata": {},
   "outputs": [],
   "source": [
    "def model_build(model,X_train,Y_train,X_test,Y_test,tree=False,feat=None):\n",
    "    \n",
    "    y_pred_train=model.predict(X_train)\n",
    "    acc_train=accuracy_score(Y_train,y_pred_train)\n",
    "    \n",
    "    print(\"Accuracy of the model for training data is:\",acc_train)\n",
    "    print(\"Confusion Matrix for training data is:\")\n",
    "    cm_train=ConfusionMatrix(Y_train,y_pred_train)\n",
    "    display(cm_train)\n",
    "    \n",
    "    \n",
    "    y_pred_test=model.predict(X_test)\n",
    "    acc_test=accuracy_score(Y_test,y_pred_test)\n",
    "    print(\"Accuracy of the model for test data is:\",acc_test)\n",
    "    print(\"Confusion Matrix for test data is:\")\n",
    "    cm_test=ConfusionMatrix(Y_test,y_pred_test)\n",
    "    display(cm_test)\n",
    "\n",
    "    fpr, tpr, threshold = roc_curve(Y_test, y_pred_test)\n",
    "    roc_auc =auc(fpr, tpr)\n",
    "    mcc=matthews_corrcoef(Y_test,y_pred_test)\n",
    "    \n",
    "    precision=precision_score(Y_test,y_pred_test)\n",
    "    recall=recall_score(Y_test,y_pred_test)\n",
    "    if tree==True:\n",
    "        feat_impt_plot(model.feature_importances_,feat)\n",
    "        return model,cm_train,cm_test,acc_train,acc_test,roc_auc,model.feature_importances_,mcc,precision,recall\n",
    "    \n",
    "    return model,cm_train,cm_test,acc_train,acc_test,roc_auc,mcc,precision,recall\n",
    "\n",
    "def KNN_model(X_train,Y_train,X_test,Y_test):\n",
    "    print('\\033[1m' + 'K-Nearest Neighbors' + '\\033[0m')\n",
    "    knn=KNeighborsClassifier()\n",
    "    knn.fit(X_train,Y_train)\n",
    "\n",
    "    return model_build(knn,X_train,Y_train,X_test,Y_test)\n",
    "\n",
    "# def Logistic_model(X_train,Y_train,X_test,Y_test):\n",
    "#     print('\\033[1m' + 'Logistic Regression' + '\\033[0m')\n",
    "#     log=LogisticRegression()\n",
    "#     log.fit(X_train,Y_train)\n",
    "    \n",
    "#     return model_build(log,X_train,Y_train,X_test,Y_test)\n",
    "\n",
    "def RandomForest(X_train,Y_train,X_test,Y_test,feat):\n",
    "    print('\\033[1m' + 'RandomForest Classifier' + '\\033[0m')\n",
    "    rf=RandomForestClassifier(random_state=0)\n",
    "    rf.fit(X_train,Y_train)\n",
    "\n",
    "    \n",
    "    return model_build(rf,X_train,Y_train,X_test,Y_test,True,feat)\n",
    "\n",
    "def AdaBoost(X_train,Y_train,X_test,Y_test,feat):\n",
    "    print('\\033[1m' + 'Adaoost Classifier' + '\\033[0m')\n",
    "    ada=AdaBoostClassifier(random_state=0)\n",
    "    ada.fit(X_train,Y_train)\n",
    "    \n",
    "    return model_build(ada,X_train,Y_train,X_test,Y_test,True,feat)\n",
    "\n",
    "def GradientBoosting(X_train,Y_train,X_test,Y_test,feat):\n",
    "    print('\\033[1m' + 'GradientBoosting Classifier' + '\\033[0m')\n",
    "    gbc=GradientBoostingClassifier(random_state=0)\n",
    "    gbc.fit(X_train,Y_train)\n",
    "    \n",
    "    return model_build(gbc,X_train,Y_train,X_test,Y_test,True,feat)\n",
    "\n",
    "def ExtraTree(X_train,Y_train,X_test,Y_test,feat):\n",
    "    print('\\033[1m' + 'ExtraTree Classifier' + '\\033[0m')\n",
    "    ext_tree=ExtraTreesClassifier(random_state=0)\n",
    "    ext_tree.fit(X_train,Y_train)\n",
    "    \n",
    "    return model_build(ext_tree,X_train,Y_train,X_test,Y_test,True,feat)\n",
    "\n",
    "def XGB(X_train,Y_train,X_test,Y_test,feat):\n",
    "    print('\\033[1m' + 'XGB Classifier' + '\\033[0m')\n",
    "    xgb=XGBClassifier(random_state=0)\n",
    "    xgb.fit(X_train,Y_train)\n",
    "    \n",
    "    return model_build(xgb,X_train,Y_train,X_test,Y_test,True,feat)\n",
    "\n",
    "def Bagging(X_train,Y_train,X_test,Y_test):\n",
    "    print('\\033[1m' + 'Bagging Classifier' + '\\033[0m')\n",
    "    bagging=BaggingClassifier(random_state=0)\n",
    "    bagging.fit(X_train,Y_train)\n",
    "    \n",
    "    return model_build(bagging,X_train,Y_train,X_test,Y_test)\n",
    "\n",
    "def XGB(X_train,Y_train,X_test,Y_test,feat):\n",
    "    print('\\033[1m' + 'XGB Classifier' + '\\033[0m')\n",
    "    xgb=XGBClassifier(random_state=0)\n",
    "    xgb.fit(X_train,Y_train)\n",
    "    \n",
    "    return model_build(xgb,X_train,Y_train,X_test,Y_test,True,feat)\n",
    "\n",
    "def DeepLearning1(X_train,Y_train,X_test,Y_test):\n",
    "    print('\\033[1m' + 'Neural Network-1' + '\\033[0m')\n",
    "    np.random.seed(0)\n",
    "    deep_learning=Sequential()\n",
    "    deep_learning.add(Dense(units=64,activation='relu',use_bias=True,kernel_initializer='uniform',input_dim=X_train.shape[1]))\n",
    "    deep_learning.add(Dense(units=128,activation='relu',use_bias=True,kernel_initializer='uniform'))\n",
    "    deep_learning.add(Dense(units=1,activation='sigmoid',use_bias=True,kernel_initializer='uniform'))\n",
    "    deep_learning.compile(optimizer='adam',loss='binary_crossentropy',metrics=['accuracy'])\n",
    "    deep_learning.fit(X_train,Y_train,batch_size=20,epochs=80,verbose=False)\n",
    "    acc_train=deep_learning.evaluate(X_train,Y_train,verbose=False)[1]\n",
    "    print(\"The accuracy of the model on training data is:\",acc_train)\n",
    "    cm_train=ConfusionMatrix(Y_train,deep_learning.predict_classes(X_train,batch_size=1,verbose=False).reshape(1,len(X_train))[0])\n",
    "    cm_test=ConfusionMatrix(Y_test,deep_learning.predict_classes(X_test,batch_size=1,verbose=False).reshape(1,len(X_test))[0])\n",
    "    display(cm_train)\n",
    "    acc_test=accuracy_score(Y_test,deep_learning.predict_classes(X_test,batch_size=1,verbose=False))\n",
    "    print(\"The accuracy of the model on test data is:\",acc_test)\n",
    "    display(cm_test)\n",
    "    mcc=matthews_corrcoef(Y_test,deep_learning.predict_classes(X_test,batch_size=1,verbose=False))\n",
    "    precision=precision_score(Y_test,deep_learning.predict_classes(X_test,batch_size=1,verbose=False))\n",
    "    recall=recall_score(Y_test,deep_learning.predict_classes(X_test,batch_size=1,verbose=False))\n",
    "    return  deep_learning,cm_train,cm_test,acc_train,acc_test,roc_auc,mcc,precision,recall"
   ]
  },
  {
   "cell_type": "code",
   "execution_count": 4,
   "metadata": {},
   "outputs": [
    {
     "name": "stdout",
     "output_type": "stream",
     "text": [
      "Shape of HTML dataset: (43491, 1461)\n",
      "Shape of JS,DOM dataset: (43294, 401)\n",
      "Shape of HTTP dataset: (45856, 672)\n",
      "Shape of URL dataset: (46771, 4194)\n"
     ]
    }
   ],
   "source": [
    "### Read HTML \n",
    "df_html=pd.read_csv('../html/HTML.csv',index_col='domain')\n",
    "df_html.drop(['Unnamed: 0'],axis=1,inplace=True)\n",
    "cookie=[col for col in df_html.columns if 'number' in col]\n",
    "df_html.drop(cookie,axis=1,inplace=True)\n",
    "print(\"Shape of HTML dataset:\",df_html.shape)\n",
    "df_html.Target=df_html.Target.apply(lambda x: 1 if x=='Malicious' else 0)\n",
    "count_columns=[col for col in df_html.columns if col.endswith('count')]\n",
    "df_html['total_count']=df_html[count_columns].sum(axis=1)\n",
    "\n",
    "href_columns=[col for col in df_html.columns if (('href_absolute' in col) | ('href_relative' in col) | ('href_page' in col))  ]\n",
    "df_html['total_href']=df_html[href_columns].sum(axis=1)\n",
    "\n",
    "total_img_src=[col for col in df_html.columns if 'img_src_' in col]\n",
    "df_html['total_img_src']=df_html[total_img_src].sum(axis=1)\n",
    "\n",
    "\n",
    "### Read JS \n",
    "df_js=pd.read_csv('Javascript.csv',low_memory=False,index_col='domain')\n",
    "cookie=[col for col in df_js.columns if 'number' in col]\n",
    "df_js.drop(cookie,axis=1,inplace=True)\n",
    "df_js.rename(columns={'Malicious':'Target'},inplace=True)\n",
    "print(\"Shape of JS,DOM dataset:\",df_js.shape)\n",
    "df_js.Target=df_js.Target.apply(lambda x: 1 if x=='Malicious' else 0)\n",
    "\n",
    "\n",
    "### Read HTTP\n",
    "df_http=pd.read_csv('HTTP.csv')\n",
    "df_http.rename(columns={'Malicious':'Target'},inplace=True)\n",
    "df_http.fillna(value=0,inplace=True)\n",
    "cookies=[columns for columns in df_http.columns if 'number' in columns]\n",
    "df_http.drop(cookies,axis=1,inplace=True)\n",
    "df_http=df_http[df_http['domain']!=0]\n",
    "df_http.sort_values(by='Target',inplace=True,ascending=False)\n",
    "df_http.drop_duplicates(['domain'], keep='first',inplace=True)\n",
    "df_http=df_http.sample(frac=1,random_state=0)\n",
    "df_http.set_index(['domain'],drop=True,inplace=True)\n",
    "print(\"Shape of HTTP dataset:\",df_http.shape)\n",
    "\n",
    "\n",
    "\n",
    "### Read URL\n",
    "df_url=pd.read_csv('URL.csv')\n",
    "df_url.fillna(value=0,inplace=True)\n",
    "cookies=[columns for columns in df_url.columns if 'number' in columns]\n",
    "df_url.drop(cookies,axis=1,inplace=True)\n",
    "df_url.drop(['url_host','url_ip'],axis=1,inplace=True)\n",
    "df_url=df_url[df_url['domain']!=0]\n",
    "df_url.sort_values(by='Target',inplace=True,ascending=False)\n",
    "df_url.drop_duplicates(['domain'], keep='first',inplace=True)\n",
    "df_url=df_url.sample(frac=1,random_state=0)\n",
    "print(\"Shape of URL dataset:\",df_url.shape)\n",
    "df_url.set_index('domain',inplace=True,drop=True)"
   ]
  },
  {
   "cell_type": "code",
   "execution_count": 5,
   "metadata": {},
   "outputs": [
    {
     "name": "stdout",
     "output_type": "stream",
     "text": [
      "Shape of combined dataset: (39183, 6726)\n"
     ]
    },
    {
     "data": {
      "text/plain": [
       "0    34742\n",
       "1     4441\n",
       "Name: Target, dtype: int64"
      ]
     },
     "execution_count": 5,
     "metadata": {},
     "output_type": "execute_result"
    }
   ],
   "source": [
    "df=pd.concat([df_js,df_html,df_http,df_url],axis=1,join='inner')\n",
    "df.drop(['Unnamed: 0'],axis=1,inplace=True)\n",
    "df['Target_z']=df[['Target','Target','Target','Target']].apply(max,axis=1)\n",
    "df.drop(['Target','Target','Target','Target'],axis=1,inplace=True)\n",
    "print(\"Shape of combined dataset:\",df.shape)\n",
    "df.rename(columns={'Target_z':'Target'},inplace=True)\n",
    "df.Target.value_counts()"
   ]
  },
  {
   "cell_type": "code",
   "execution_count": 6,
   "metadata": {},
   "outputs": [
    {
     "name": "stdout",
     "output_type": "stream",
     "text": [
      "features being used\n"
     ]
    },
    {
     "data": {
      "text/plain": [
       "['js_function_.push(',\n",
       " 'a_count',\n",
       " 'a_href_http',\n",
       " 'a_href_https',\n",
       " 'a_href_out_of_domain',\n",
       " 'a_href_relative',\n",
       " 'center_count',\n",
       " 'form_action_http',\n",
       " 'iframe_src_.html',\n",
       " 'img_src_http',\n",
       " 'link_href_out_of_domain',\n",
       " 'link_type_text/css',\n",
       " 'meta_count',\n",
       " 'p_count',\n",
       " 'script_async_true',\n",
       " 'total_count',\n",
       " 'total_href',\n",
       " 'http_header_cache-control_set_max-age',\n",
       " 'http_header_content-encoding_gzip',\n",
       " 'http_header_server_apache',\n",
       " 'http_header_transfer-encoding_chunked',\n",
       " 'http_header_vary_user-agent',\n",
       " 'http_header_via_1.1',\n",
       " 'url_char_.',\n",
       " 'url_char_f',\n",
       " 'url_char_i',\n",
       " 'url_char_l',\n",
       " 'url_char_p',\n",
       " 'url_char_w',\n",
       " 'url_char_y',\n",
       " 'url_char_z',\n",
       " 'url_extension_.c',\n",
       " 'url_extension_.com',\n",
       " 'url_extension_endswith_.com',\n",
       " 'url_extensions',\n",
       " 'url_length',\n",
       " 'Target']"
      ]
     },
     "metadata": {},
     "output_type": "display_data"
    }
   ],
   "source": [
    "columns=['js_function_.push(',\n",
    " 'a_count',\n",
    " 'a_href_http',\n",
    " 'a_href_https',\n",
    " 'a_href_out_of_domain',\n",
    " 'a_href_relative',\n",
    " 'center_count',\n",
    " 'form_action_http',\n",
    " 'iframe_src_.html',\n",
    " 'img_src_http',\n",
    " 'link_href_out_of_domain',\n",
    " 'link_type_text/css',\n",
    " 'meta_count',\n",
    " 'p_count',\n",
    " 'script_async_true',\n",
    " 'total_count',\n",
    " 'total_href',\n",
    " 'http_header_cache-control_set_max-age',\n",
    " 'http_header_content-encoding_gzip',\n",
    " 'http_header_server_apache',\n",
    " 'http_header_transfer-encoding_chunked',\n",
    " 'http_header_vary_user-agent',\n",
    " 'http_header_via_1.1',\n",
    " 'url_char_.',\n",
    " 'url_char_f',\n",
    " 'url_char_i',\n",
    " 'url_char_l',\n",
    " 'url_char_p',\n",
    " 'url_char_w',\n",
    " 'url_char_y',\n",
    " 'url_char_z',\n",
    " 'url_extension_.c',\n",
    " 'url_extension_.com',\n",
    " 'url_extension_endswith_.com',\n",
    " 'url_extensions',\n",
    " 'url_length',\n",
    " 'Target']\n",
    "\n",
    "print(\"features being used\")\n",
    "display(columns)"
   ]
  },
  {
   "cell_type": "code",
   "execution_count": 7,
   "metadata": {},
   "outputs": [],
   "source": [
    "df['url_extension_endswith_.com']=df['url_extension_endswith_.com'].apply(lambda x: 1 if x==True else x)\n",
    "df['url_extension_endswith_.com']=df['url_extension_endswith_.com'].astype(int)"
   ]
  },
  {
   "cell_type": "markdown",
   "metadata": {},
   "source": [
    "### <a id='1' style=\"text-decoration : none; color : #000000;\"> 1. Initial Models</a>"
   ]
  },
  {
   "cell_type": "code",
   "execution_count": 8,
   "metadata": {
    "scrolled": false
   },
   "outputs": [
    {
     "name": "stdout",
     "output_type": "stream",
     "text": [
      "\u001b[1mK-Nearest Neighbors\u001b[0m\n",
      "Accuracy of the model for training data is: 0.9817339944582179\n",
      "Confusion Matrix for training data is:\n"
     ]
    },
    {
     "data": {
      "text/plain": [
       "Predicted  False  True  __all__\n",
       "Actual                         \n",
       "False      24195   132    24327\n",
       "True         369  2732     3101\n",
       "__all__    24564  2864    27428"
      ]
     },
     "metadata": {},
     "output_type": "display_data"
    },
    {
     "name": "stdout",
     "output_type": "stream",
     "text": [
      "Accuracy of the model for test data is: 0.9756699276903446\n",
      "Confusion Matrix for test data is:\n"
     ]
    },
    {
     "data": {
      "text/plain": [
       "Predicted  False  True  __all__\n",
       "Actual                         \n",
       "False      10338    77    10415\n",
       "True         209  1131     1340\n",
       "__all__    10547  1208    11755"
      ]
     },
     "metadata": {},
     "output_type": "display_data"
    },
    {
     "name": "stdout",
     "output_type": "stream",
     "text": [
      "\n",
      "\n",
      "\u001b[1mRandomForest Classifier\u001b[0m\n",
      "Accuracy of the model for training data is: 0.9969738952894852\n",
      "Confusion Matrix for training data is:\n"
     ]
    },
    {
     "data": {
      "text/plain": [
       "Predicted  False  True  __all__\n",
       "Actual                         \n",
       "False      24315    12    24327\n",
       "True          71  3030     3101\n",
       "__all__    24386  3042    27428"
      ]
     },
     "metadata": {},
     "output_type": "display_data"
    },
    {
     "name": "stdout",
     "output_type": "stream",
     "text": [
      "Accuracy of the model for test data is: 0.980093577201191\n",
      "Confusion Matrix for test data is:\n"
     ]
    },
    {
     "data": {
      "text/plain": [
       "Predicted  False  True  __all__\n",
       "Actual                         \n",
       "False      10363    52    10415\n",
       "True         182  1158     1340\n",
       "__all__    10545  1210    11755"
      ]
     },
     "metadata": {},
     "output_type": "display_data"
    },
    {
     "data": {
      "application/vnd.plotly.v1+json": {
       "config": {
        "linkText": "Export to plot.ly",
        "plotlyServerURL": "https://plot.ly",
        "showLink": true
       },
       "data": [
        {
         "marker": {
          "color": "rgb(158,202,225)",
          "line": {
           "color": "rgb(8,48,107)",
           "width": 1.5
          }
         },
         "opacity": 0.6,
         "orientation": "h",
         "text": [
          0.2105,
          0.1271,
          0.102,
          0.0513,
          0.0486,
          0.0477,
          0.0441,
          0.0381,
          0.0244,
          0.0224,
          0.0218,
          0.0214,
          0.0204,
          0.02,
          0.0177,
          0.0169,
          0.0166,
          0.0159,
          0.0143,
          0.0134,
          0.0125,
          0.0113,
          0.0112,
          0.011,
          0.0091,
          0.0082,
          0.008,
          0.0063,
          0.006,
          0.0058,
          0.0055,
          0.0039,
          0.003,
          0.0019,
          0.0015,
          0.0001
         ],
         "textposition": "outside",
         "type": "bar",
         "uid": "a16b0815-bc35-4352-ab2d-6ead6fa57078",
         "x": [
          0.21053322253069323,
          0.1270832386264607,
          0.10199930788453915,
          0.05127325767088271,
          0.04860512830963745,
          0.04768406352098505,
          0.044089890575147915,
          0.038135720197684055,
          0.024415306491498513,
          0.02239455818036328,
          0.021845173377542364,
          0.02138419057187283,
          0.02043448633736487,
          0.0200123656406535,
          0.017673582716158175,
          0.016879385333040797,
          0.016551260563650215,
          0.015885787478061558,
          0.014256682249116045,
          0.013437533467291703,
          0.012466521797688535,
          0.011283600118944115,
          0.011197270128811448,
          0.011047036983649856,
          0.009070626090776605,
          0.008212405945262369,
          0.00802971334553693,
          0.006314844066710272,
          0.005950735504108599,
          0.005844965608022252,
          0.005508227921674426,
          0.003931467666966461,
          0.0030230601214622926,
          0.0018909070446563488,
          0.0015249806588352665,
          0.00012949527425011966
         ],
         "y": [
          "url_extensions",
          "url_length",
          "a_count",
          "total_href",
          "url_char_w",
          "meta_count",
          "url_char_.",
          "total_count",
          "link_href_out_of_domain",
          "a_href_relative",
          "http_header_server_apache",
          "a_href_out_of_domain",
          "url_char_i",
          "url_char_l",
          "url_char_z",
          "a_href_http",
          "link_type_text/css",
          "url_extension_endswith_.com",
          "http_header_content-encoding_gzip",
          "url_char_p",
          "url_char_y",
          "p_count",
          "http_header_vary_user-agent",
          "url_extension_.c",
          "url_char_f",
          "url_extension_.com",
          "push",
          "script_async_true",
          "http_header_transfer-encoding_chunked",
          "a_href_https",
          "form_action_http",
          "img_src_http",
          "http_header_cache-control_set_max-age",
          "center_count",
          "http_header_via_1.1",
          "iframe_src_.html"
         ]
        }
       ],
       "layout": {
        "autosize": false,
        "height": 1000,
        "width": 1000,
        "xaxis": {
         "tickfont": {
          "color": "black",
          "size": 12
         },
         "title": "Feature Importances"
        },
        "yaxis": {
         "automargin": true
        }
       }
      },
      "text/html": [
       "<div id=\"ca283e02-b3fa-4b39-8485-602f9ebdd676\" style=\"height: 1000px; width: 1000px;\" class=\"plotly-graph-div\"></div><script type=\"text/javascript\">require([\"plotly\"], function(Plotly) { window.PLOTLYENV=window.PLOTLYENV || {};window.PLOTLYENV.BASE_URL=\"https://plot.ly\";Plotly.newPlot(\"ca283e02-b3fa-4b39-8485-602f9ebdd676\", [{\"marker\": {\"color\": \"rgb(158,202,225)\", \"line\": {\"color\": \"rgb(8,48,107)\", \"width\": 1.5}}, \"opacity\": 0.6, \"orientation\": \"h\", \"text\": [0.2105, 0.1271, 0.102, 0.0513, 0.0486, 0.0477, 0.0441, 0.0381, 0.0244, 0.0224, 0.0218, 0.0214, 0.0204, 0.02, 0.0177, 0.0169, 0.0166, 0.0159, 0.0143, 0.0134, 0.0125, 0.0113, 0.0112, 0.011, 0.0091, 0.0082, 0.008, 0.0063, 0.006, 0.0058, 0.0055, 0.0039, 0.003, 0.0019, 0.0015, 0.0001], \"textposition\": \"outside\", \"x\": [0.21053322253069323, 0.1270832386264607, 0.10199930788453915, 0.05127325767088271, 0.04860512830963745, 0.04768406352098505, 0.044089890575147915, 0.038135720197684055, 0.024415306491498513, 0.02239455818036328, 0.021845173377542364, 0.02138419057187283, 0.02043448633736487, 0.0200123656406535, 0.017673582716158175, 0.016879385333040797, 0.016551260563650215, 0.015885787478061558, 0.014256682249116045, 0.013437533467291703, 0.012466521797688535, 0.011283600118944115, 0.011197270128811448, 0.011047036983649856, 0.009070626090776605, 0.008212405945262369, 0.00802971334553693, 0.006314844066710272, 0.005950735504108599, 0.005844965608022252, 0.005508227921674426, 0.003931467666966461, 0.0030230601214622926, 0.0018909070446563488, 0.0015249806588352665, 0.00012949527425011966], \"y\": [\"url_extensions\", \"url_length\", \"a_count\", \"total_href\", \"url_char_w\", \"meta_count\", \"url_char_.\", \"total_count\", \"link_href_out_of_domain\", \"a_href_relative\", \"http_header_server_apache\", \"a_href_out_of_domain\", \"url_char_i\", \"url_char_l\", \"url_char_z\", \"a_href_http\", \"link_type_text/css\", \"url_extension_endswith_.com\", \"http_header_content-encoding_gzip\", \"url_char_p\", \"url_char_y\", \"p_count\", \"http_header_vary_user-agent\", \"url_extension_.c\", \"url_char_f\", \"url_extension_.com\", \"push\", \"script_async_true\", \"http_header_transfer-encoding_chunked\", \"a_href_https\", \"form_action_http\", \"img_src_http\", \"http_header_cache-control_set_max-age\", \"center_count\", \"http_header_via_1.1\", \"iframe_src_.html\"], \"type\": \"bar\", \"uid\": \"a16b0815-bc35-4352-ab2d-6ead6fa57078\"}], {\"autosize\": false, \"height\": 1000, \"width\": 1000, \"xaxis\": {\"tickfont\": {\"color\": \"black\", \"size\": 12}, \"title\": \"Feature Importances\"}, \"yaxis\": {\"automargin\": true}}, {\"showLink\": true, \"linkText\": \"Export to plot.ly\", \"plotlyServerURL\": \"https://plot.ly\"})});</script>"
      ],
      "text/vnd.plotly.v1+html": [
       "<div id=\"ca283e02-b3fa-4b39-8485-602f9ebdd676\" style=\"height: 1000px; width: 1000px;\" class=\"plotly-graph-div\"></div><script type=\"text/javascript\">require([\"plotly\"], function(Plotly) { window.PLOTLYENV=window.PLOTLYENV || {};window.PLOTLYENV.BASE_URL=\"https://plot.ly\";Plotly.newPlot(\"ca283e02-b3fa-4b39-8485-602f9ebdd676\", [{\"marker\": {\"color\": \"rgb(158,202,225)\", \"line\": {\"color\": \"rgb(8,48,107)\", \"width\": 1.5}}, \"opacity\": 0.6, \"orientation\": \"h\", \"text\": [0.2105, 0.1271, 0.102, 0.0513, 0.0486, 0.0477, 0.0441, 0.0381, 0.0244, 0.0224, 0.0218, 0.0214, 0.0204, 0.02, 0.0177, 0.0169, 0.0166, 0.0159, 0.0143, 0.0134, 0.0125, 0.0113, 0.0112, 0.011, 0.0091, 0.0082, 0.008, 0.0063, 0.006, 0.0058, 0.0055, 0.0039, 0.003, 0.0019, 0.0015, 0.0001], \"textposition\": \"outside\", \"x\": [0.21053322253069323, 0.1270832386264607, 0.10199930788453915, 0.05127325767088271, 0.04860512830963745, 0.04768406352098505, 0.044089890575147915, 0.038135720197684055, 0.024415306491498513, 0.02239455818036328, 0.021845173377542364, 0.02138419057187283, 0.02043448633736487, 0.0200123656406535, 0.017673582716158175, 0.016879385333040797, 0.016551260563650215, 0.015885787478061558, 0.014256682249116045, 0.013437533467291703, 0.012466521797688535, 0.011283600118944115, 0.011197270128811448, 0.011047036983649856, 0.009070626090776605, 0.008212405945262369, 0.00802971334553693, 0.006314844066710272, 0.005950735504108599, 0.005844965608022252, 0.005508227921674426, 0.003931467666966461, 0.0030230601214622926, 0.0018909070446563488, 0.0015249806588352665, 0.00012949527425011966], \"y\": [\"url_extensions\", \"url_length\", \"a_count\", \"total_href\", \"url_char_w\", \"meta_count\", \"url_char_.\", \"total_count\", \"link_href_out_of_domain\", \"a_href_relative\", \"http_header_server_apache\", \"a_href_out_of_domain\", \"url_char_i\", \"url_char_l\", \"url_char_z\", \"a_href_http\", \"link_type_text/css\", \"url_extension_endswith_.com\", \"http_header_content-encoding_gzip\", \"url_char_p\", \"url_char_y\", \"p_count\", \"http_header_vary_user-agent\", \"url_extension_.c\", \"url_char_f\", \"url_extension_.com\", \"push\", \"script_async_true\", \"http_header_transfer-encoding_chunked\", \"a_href_https\", \"form_action_http\", \"img_src_http\", \"http_header_cache-control_set_max-age\", \"center_count\", \"http_header_via_1.1\", \"iframe_src_.html\"], \"type\": \"bar\", \"uid\": \"a16b0815-bc35-4352-ab2d-6ead6fa57078\"}], {\"autosize\": false, \"height\": 1000, \"width\": 1000, \"xaxis\": {\"tickfont\": {\"color\": \"black\", \"size\": 12}, \"title\": \"Feature Importances\"}, \"yaxis\": {\"automargin\": true}}, {\"showLink\": true, \"linkText\": \"Export to plot.ly\", \"plotlyServerURL\": \"https://plot.ly\"})});</script>"
      ]
     },
     "metadata": {},
     "output_type": "display_data"
    },
    {
     "name": "stdout",
     "output_type": "stream",
     "text": [
      "\n",
      "\n",
      "\u001b[1mAdaoost Classifier\u001b[0m\n",
      "Accuracy of the model for training data is: 0.9726556803266735\n",
      "Confusion Matrix for training data is:\n"
     ]
    },
    {
     "data": {
      "text/plain": [
       "Predicted  False  True  __all__\n",
       "Actual                         \n",
       "False      23997   330    24327\n",
       "True         420  2681     3101\n",
       "__all__    24417  3011    27428"
      ]
     },
     "metadata": {},
     "output_type": "display_data"
    },
    {
     "name": "stdout",
     "output_type": "stream",
     "text": [
      "Accuracy of the model for test data is: 0.9706507868991918\n",
      "Confusion Matrix for test data is:\n"
     ]
    },
    {
     "data": {
      "text/plain": [
       "Predicted  False  True  __all__\n",
       "Actual                         \n",
       "False      10267   148    10415\n",
       "True         197  1143     1340\n",
       "__all__    10464  1291    11755"
      ]
     },
     "metadata": {},
     "output_type": "display_data"
    },
    {
     "data": {
      "application/vnd.plotly.v1+json": {
       "config": {
        "linkText": "Export to plot.ly",
        "plotlyServerURL": "https://plot.ly",
        "showLink": true
       },
       "data": [
        {
         "marker": {
          "color": "rgb(158,202,225)",
          "line": {
           "color": "rgb(8,48,107)",
           "width": 1.5
          }
         },
         "opacity": 0.6,
         "orientation": "h",
         "text": [
          0.12,
          0.1,
          0.08,
          0.08,
          0.06,
          0.06,
          0.06,
          0.06,
          0.04,
          0.02,
          0.02,
          0.02,
          0.02,
          0.02,
          0.02,
          0.02,
          0.02,
          0.02,
          0.02,
          0.02,
          0.02,
          0.02,
          0.02,
          0.02,
          0.02,
          0.02,
          0,
          0,
          0,
          0,
          0,
          0,
          0,
          0,
          0,
          0
         ],
         "textposition": "outside",
         "type": "bar",
         "uid": "227e9ba9-4305-4a56-bf70-f83d29dd7790",
         "x": [
          0.12,
          0.1,
          0.08,
          0.08,
          0.06,
          0.06,
          0.06,
          0.06,
          0.04,
          0.02,
          0.02,
          0.02,
          0.02,
          0.02,
          0.02,
          0.02,
          0.02,
          0.02,
          0.02,
          0.02,
          0.02,
          0.02,
          0.02,
          0.02,
          0.02,
          0.02,
          0,
          0,
          0,
          0,
          0,
          0,
          0,
          0,
          0,
          0
         ],
         "y": [
          "total_count",
          "a_href_out_of_domain",
          "url_length",
          "url_extensions",
          "img_src_http",
          "url_char_w",
          "p_count",
          "push",
          "a_href_https",
          "iframe_src_.html",
          "http_header_server_apache",
          "a_href_http",
          "url_extension_.com",
          "url_char_z",
          "url_char_y",
          "url_char_i",
          "url_char_f",
          "form_action_http",
          "http_header_vary_user-agent",
          "http_header_via_1.1",
          "http_header_cache-control_set_max-age",
          "center_count",
          "meta_count",
          "link_type_text/css",
          "link_href_out_of_domain",
          "http_header_content-encoding_gzip",
          "http_header_transfer-encoding_chunked",
          "a_count",
          "url_char_.",
          "total_href",
          "a_href_relative",
          "url_char_l",
          "url_char_p",
          "script_async_true",
          "url_extension_.c",
          "url_extension_endswith_.com"
         ]
        }
       ],
       "layout": {
        "autosize": false,
        "height": 1000,
        "width": 1000,
        "xaxis": {
         "tickfont": {
          "color": "black",
          "size": 12
         },
         "title": "Feature Importances"
        },
        "yaxis": {
         "automargin": true
        }
       }
      },
      "text/html": [
       "<div id=\"deef43e6-d62f-4269-a63e-6714f8e3e843\" style=\"height: 1000px; width: 1000px;\" class=\"plotly-graph-div\"></div><script type=\"text/javascript\">require([\"plotly\"], function(Plotly) { window.PLOTLYENV=window.PLOTLYENV || {};window.PLOTLYENV.BASE_URL=\"https://plot.ly\";Plotly.newPlot(\"deef43e6-d62f-4269-a63e-6714f8e3e843\", [{\"marker\": {\"color\": \"rgb(158,202,225)\", \"line\": {\"color\": \"rgb(8,48,107)\", \"width\": 1.5}}, \"opacity\": 0.6, \"orientation\": \"h\", \"text\": [0.12, 0.1, 0.08, 0.08, 0.06, 0.06, 0.06, 0.06, 0.04, 0.02, 0.02, 0.02, 0.02, 0.02, 0.02, 0.02, 0.02, 0.02, 0.02, 0.02, 0.02, 0.02, 0.02, 0.02, 0.02, 0.02, 0.0, 0.0, 0.0, 0.0, 0.0, 0.0, 0.0, 0.0, 0.0, 0.0], \"textposition\": \"outside\", \"x\": [0.12, 0.1, 0.08, 0.08, 0.06, 0.06, 0.06, 0.06, 0.04, 0.02, 0.02, 0.02, 0.02, 0.02, 0.02, 0.02, 0.02, 0.02, 0.02, 0.02, 0.02, 0.02, 0.02, 0.02, 0.02, 0.02, 0.0, 0.0, 0.0, 0.0, 0.0, 0.0, 0.0, 0.0, 0.0, 0.0], \"y\": [\"total_count\", \"a_href_out_of_domain\", \"url_length\", \"url_extensions\", \"img_src_http\", \"url_char_w\", \"p_count\", \"push\", \"a_href_https\", \"iframe_src_.html\", \"http_header_server_apache\", \"a_href_http\", \"url_extension_.com\", \"url_char_z\", \"url_char_y\", \"url_char_i\", \"url_char_f\", \"form_action_http\", \"http_header_vary_user-agent\", \"http_header_via_1.1\", \"http_header_cache-control_set_max-age\", \"center_count\", \"meta_count\", \"link_type_text/css\", \"link_href_out_of_domain\", \"http_header_content-encoding_gzip\", \"http_header_transfer-encoding_chunked\", \"a_count\", \"url_char_.\", \"total_href\", \"a_href_relative\", \"url_char_l\", \"url_char_p\", \"script_async_true\", \"url_extension_.c\", \"url_extension_endswith_.com\"], \"type\": \"bar\", \"uid\": \"227e9ba9-4305-4a56-bf70-f83d29dd7790\"}], {\"autosize\": false, \"height\": 1000, \"width\": 1000, \"xaxis\": {\"tickfont\": {\"color\": \"black\", \"size\": 12}, \"title\": \"Feature Importances\"}, \"yaxis\": {\"automargin\": true}}, {\"showLink\": true, \"linkText\": \"Export to plot.ly\", \"plotlyServerURL\": \"https://plot.ly\"})});</script>"
      ],
      "text/vnd.plotly.v1+html": [
       "<div id=\"deef43e6-d62f-4269-a63e-6714f8e3e843\" style=\"height: 1000px; width: 1000px;\" class=\"plotly-graph-div\"></div><script type=\"text/javascript\">require([\"plotly\"], function(Plotly) { window.PLOTLYENV=window.PLOTLYENV || {};window.PLOTLYENV.BASE_URL=\"https://plot.ly\";Plotly.newPlot(\"deef43e6-d62f-4269-a63e-6714f8e3e843\", [{\"marker\": {\"color\": \"rgb(158,202,225)\", \"line\": {\"color\": \"rgb(8,48,107)\", \"width\": 1.5}}, \"opacity\": 0.6, \"orientation\": \"h\", \"text\": [0.12, 0.1, 0.08, 0.08, 0.06, 0.06, 0.06, 0.06, 0.04, 0.02, 0.02, 0.02, 0.02, 0.02, 0.02, 0.02, 0.02, 0.02, 0.02, 0.02, 0.02, 0.02, 0.02, 0.02, 0.02, 0.02, 0.0, 0.0, 0.0, 0.0, 0.0, 0.0, 0.0, 0.0, 0.0, 0.0], \"textposition\": \"outside\", \"x\": [0.12, 0.1, 0.08, 0.08, 0.06, 0.06, 0.06, 0.06, 0.04, 0.02, 0.02, 0.02, 0.02, 0.02, 0.02, 0.02, 0.02, 0.02, 0.02, 0.02, 0.02, 0.02, 0.02, 0.02, 0.02, 0.02, 0.0, 0.0, 0.0, 0.0, 0.0, 0.0, 0.0, 0.0, 0.0, 0.0], \"y\": [\"total_count\", \"a_href_out_of_domain\", \"url_length\", \"url_extensions\", \"img_src_http\", \"url_char_w\", \"p_count\", \"push\", \"a_href_https\", \"iframe_src_.html\", \"http_header_server_apache\", \"a_href_http\", \"url_extension_.com\", \"url_char_z\", \"url_char_y\", \"url_char_i\", \"url_char_f\", \"form_action_http\", \"http_header_vary_user-agent\", \"http_header_via_1.1\", \"http_header_cache-control_set_max-age\", \"center_count\", \"meta_count\", \"link_type_text/css\", \"link_href_out_of_domain\", \"http_header_content-encoding_gzip\", \"http_header_transfer-encoding_chunked\", \"a_count\", \"url_char_.\", \"total_href\", \"a_href_relative\", \"url_char_l\", \"url_char_p\", \"script_async_true\", \"url_extension_.c\", \"url_extension_endswith_.com\"], \"type\": \"bar\", \"uid\": \"227e9ba9-4305-4a56-bf70-f83d29dd7790\"}], {\"autosize\": false, \"height\": 1000, \"width\": 1000, \"xaxis\": {\"tickfont\": {\"color\": \"black\", \"size\": 12}, \"title\": \"Feature Importances\"}, \"yaxis\": {\"automargin\": true}}, {\"showLink\": true, \"linkText\": \"Export to plot.ly\", \"plotlyServerURL\": \"https://plot.ly\"})});</script>"
      ]
     },
     "metadata": {},
     "output_type": "display_data"
    },
    {
     "name": "stdout",
     "output_type": "stream",
     "text": [
      "\n",
      "\n",
      "\u001b[1mGradientBoosting Classifier\u001b[0m\n",
      "Accuracy of the model for training data is: 0.9804214671138982\n",
      "Confusion Matrix for training data is:\n"
     ]
    },
    {
     "data": {
      "text/plain": [
       "Predicted  False  True  __all__\n",
       "Actual                         \n",
       "False      24187   140    24327\n",
       "True         397  2704     3101\n",
       "__all__    24584  2844    27428"
      ]
     },
     "metadata": {},
     "output_type": "display_data"
    },
    {
     "name": "stdout",
     "output_type": "stream",
     "text": [
      "Accuracy of the model for test data is: 0.976860910250957\n",
      "Confusion Matrix for test data is:\n"
     ]
    },
    {
     "data": {
      "text/plain": [
       "Predicted  False  True  __all__\n",
       "Actual                         \n",
       "False      10340    75    10415\n",
       "True         197  1143     1340\n",
       "__all__    10537  1218    11755"
      ]
     },
     "metadata": {},
     "output_type": "display_data"
    },
    {
     "data": {
      "application/vnd.plotly.v1+json": {
       "config": {
        "linkText": "Export to plot.ly",
        "plotlyServerURL": "https://plot.ly",
        "showLink": true
       },
       "data": [
        {
         "marker": {
          "color": "rgb(158,202,225)",
          "line": {
           "color": "rgb(8,48,107)",
           "width": 1.5
          }
         },
         "opacity": 0.6,
         "orientation": "h",
         "text": [
          0.2886,
          0.2804,
          0.1342,
          0.0802,
          0.0366,
          0.0338,
          0.028,
          0.0263,
          0.0204,
          0.0126,
          0.0108,
          0.0106,
          0.0101,
          0.0047,
          0.004,
          0.0038,
          0.0035,
          0.0031,
          0.0017,
          0.0012,
          0.0011,
          0.0006,
          0.0006,
          0.0006,
          0.0005,
          0.0005,
          0.0003,
          0.0003,
          0.0003,
          0.0003,
          0.0002,
          0.0002,
          0.0001,
          0.0001,
          0.0001,
          0
         ],
         "textposition": "outside",
         "type": "bar",
         "uid": "c4433737-046d-4888-9a6b-31e7dedf3998",
         "x": [
          0.2885669624692231,
          0.2804031786725422,
          0.13415046135026015,
          0.08020268668786902,
          0.03660378359958288,
          0.033841631367022285,
          0.02799480644940061,
          0.026284054877175368,
          0.020375953208983204,
          0.012565664677716207,
          0.010762524948288329,
          0.010612685671102328,
          0.010093729286928043,
          0.00470002301198965,
          0.003977759784979584,
          0.003771977183037332,
          0.003542827324446488,
          0.003097983426888141,
          0.0017483961493156635,
          0.001159088603043407,
          0.0011125306585906963,
          0.0006159565452430978,
          0.0005538293378105646,
          0.000551459741388315,
          0.0005226481091439744,
          0.00045605310537851233,
          0.00032178276883504484,
          0.0002667330465349732,
          0.00026436944319130725,
          0.0002563061577737976,
          0.00019769950587038914,
          0.00015596621942120967,
          9.789728662363097e-05,
          8.742867283215185e-05,
          6.912082616259082e-05,
          1.4039825405724503e-05
         ],
         "y": [
          "total_count",
          "url_extensions",
          "url_length",
          "url_char_w",
          "total_href",
          "a_href_relative",
          "meta_count",
          "http_header_server_apache",
          "url_char_.",
          "http_header_vary_user-agent",
          "a_href_out_of_domain",
          "http_header_content-encoding_gzip",
          "url_char_z",
          "a_href_https",
          "form_action_http",
          "push",
          "url_extension_endswith_.com",
          "url_extension_.com",
          "http_header_cache-control_set_max-age",
          "url_char_l",
          "p_count",
          "url_char_p",
          "img_src_http",
          "link_href_out_of_domain",
          "url_char_y",
          "a_href_http",
          "url_extension_.c",
          "url_char_f",
          "link_type_text/css",
          "http_header_via_1.1",
          "url_char_i",
          "http_header_transfer-encoding_chunked",
          "script_async_true",
          "a_count",
          "iframe_src_.html",
          "center_count"
         ]
        }
       ],
       "layout": {
        "autosize": false,
        "height": 1000,
        "width": 1000,
        "xaxis": {
         "tickfont": {
          "color": "black",
          "size": 12
         },
         "title": "Feature Importances"
        },
        "yaxis": {
         "automargin": true
        }
       }
      },
      "text/html": [
       "<div id=\"ce6faee5-e338-4263-9f97-470da189f17e\" style=\"height: 1000px; width: 1000px;\" class=\"plotly-graph-div\"></div><script type=\"text/javascript\">require([\"plotly\"], function(Plotly) { window.PLOTLYENV=window.PLOTLYENV || {};window.PLOTLYENV.BASE_URL=\"https://plot.ly\";Plotly.newPlot(\"ce6faee5-e338-4263-9f97-470da189f17e\", [{\"marker\": {\"color\": \"rgb(158,202,225)\", \"line\": {\"color\": \"rgb(8,48,107)\", \"width\": 1.5}}, \"opacity\": 0.6, \"orientation\": \"h\", \"text\": [0.2886, 0.2804, 0.1342, 0.0802, 0.0366, 0.0338, 0.028, 0.0263, 0.0204, 0.0126, 0.0108, 0.0106, 0.0101, 0.0047, 0.004, 0.0038, 0.0035, 0.0031, 0.0017, 0.0012, 0.0011, 0.0006, 0.0006, 0.0006, 0.0005, 0.0005, 0.0003, 0.0003, 0.0003, 0.0003, 0.0002, 0.0002, 0.0001, 0.0001, 0.0001, 0.0], \"textposition\": \"outside\", \"x\": [0.2885669624692231, 0.2804031786725422, 0.13415046135026015, 0.08020268668786902, 0.03660378359958288, 0.033841631367022285, 0.02799480644940061, 0.026284054877175368, 0.020375953208983204, 0.012565664677716207, 0.010762524948288329, 0.010612685671102328, 0.010093729286928043, 0.00470002301198965, 0.003977759784979584, 0.003771977183037332, 0.003542827324446488, 0.003097983426888141, 0.0017483961493156635, 0.001159088603043407, 0.0011125306585906963, 0.0006159565452430978, 0.0005538293378105646, 0.000551459741388315, 0.0005226481091439744, 0.00045605310537851233, 0.00032178276883504484, 0.0002667330465349732, 0.00026436944319130725, 0.0002563061577737976, 0.00019769950587038914, 0.00015596621942120967, 9.789728662363097e-05, 8.742867283215185e-05, 6.912082616259082e-05, 1.4039825405724503e-05], \"y\": [\"total_count\", \"url_extensions\", \"url_length\", \"url_char_w\", \"total_href\", \"a_href_relative\", \"meta_count\", \"http_header_server_apache\", \"url_char_.\", \"http_header_vary_user-agent\", \"a_href_out_of_domain\", \"http_header_content-encoding_gzip\", \"url_char_z\", \"a_href_https\", \"form_action_http\", \"push\", \"url_extension_endswith_.com\", \"url_extension_.com\", \"http_header_cache-control_set_max-age\", \"url_char_l\", \"p_count\", \"url_char_p\", \"img_src_http\", \"link_href_out_of_domain\", \"url_char_y\", \"a_href_http\", \"url_extension_.c\", \"url_char_f\", \"link_type_text/css\", \"http_header_via_1.1\", \"url_char_i\", \"http_header_transfer-encoding_chunked\", \"script_async_true\", \"a_count\", \"iframe_src_.html\", \"center_count\"], \"type\": \"bar\", \"uid\": \"c4433737-046d-4888-9a6b-31e7dedf3998\"}], {\"autosize\": false, \"height\": 1000, \"width\": 1000, \"xaxis\": {\"tickfont\": {\"color\": \"black\", \"size\": 12}, \"title\": \"Feature Importances\"}, \"yaxis\": {\"automargin\": true}}, {\"showLink\": true, \"linkText\": \"Export to plot.ly\", \"plotlyServerURL\": \"https://plot.ly\"})});</script>"
      ],
      "text/vnd.plotly.v1+html": [
       "<div id=\"ce6faee5-e338-4263-9f97-470da189f17e\" style=\"height: 1000px; width: 1000px;\" class=\"plotly-graph-div\"></div><script type=\"text/javascript\">require([\"plotly\"], function(Plotly) { window.PLOTLYENV=window.PLOTLYENV || {};window.PLOTLYENV.BASE_URL=\"https://plot.ly\";Plotly.newPlot(\"ce6faee5-e338-4263-9f97-470da189f17e\", [{\"marker\": {\"color\": \"rgb(158,202,225)\", \"line\": {\"color\": \"rgb(8,48,107)\", \"width\": 1.5}}, \"opacity\": 0.6, \"orientation\": \"h\", \"text\": [0.2886, 0.2804, 0.1342, 0.0802, 0.0366, 0.0338, 0.028, 0.0263, 0.0204, 0.0126, 0.0108, 0.0106, 0.0101, 0.0047, 0.004, 0.0038, 0.0035, 0.0031, 0.0017, 0.0012, 0.0011, 0.0006, 0.0006, 0.0006, 0.0005, 0.0005, 0.0003, 0.0003, 0.0003, 0.0003, 0.0002, 0.0002, 0.0001, 0.0001, 0.0001, 0.0], \"textposition\": \"outside\", \"x\": [0.2885669624692231, 0.2804031786725422, 0.13415046135026015, 0.08020268668786902, 0.03660378359958288, 0.033841631367022285, 0.02799480644940061, 0.026284054877175368, 0.020375953208983204, 0.012565664677716207, 0.010762524948288329, 0.010612685671102328, 0.010093729286928043, 0.00470002301198965, 0.003977759784979584, 0.003771977183037332, 0.003542827324446488, 0.003097983426888141, 0.0017483961493156635, 0.001159088603043407, 0.0011125306585906963, 0.0006159565452430978, 0.0005538293378105646, 0.000551459741388315, 0.0005226481091439744, 0.00045605310537851233, 0.00032178276883504484, 0.0002667330465349732, 0.00026436944319130725, 0.0002563061577737976, 0.00019769950587038914, 0.00015596621942120967, 9.789728662363097e-05, 8.742867283215185e-05, 6.912082616259082e-05, 1.4039825405724503e-05], \"y\": [\"total_count\", \"url_extensions\", \"url_length\", \"url_char_w\", \"total_href\", \"a_href_relative\", \"meta_count\", \"http_header_server_apache\", \"url_char_.\", \"http_header_vary_user-agent\", \"a_href_out_of_domain\", \"http_header_content-encoding_gzip\", \"url_char_z\", \"a_href_https\", \"form_action_http\", \"push\", \"url_extension_endswith_.com\", \"url_extension_.com\", \"http_header_cache-control_set_max-age\", \"url_char_l\", \"p_count\", \"url_char_p\", \"img_src_http\", \"link_href_out_of_domain\", \"url_char_y\", \"a_href_http\", \"url_extension_.c\", \"url_char_f\", \"link_type_text/css\", \"http_header_via_1.1\", \"url_char_i\", \"http_header_transfer-encoding_chunked\", \"script_async_true\", \"a_count\", \"iframe_src_.html\", \"center_count\"], \"type\": \"bar\", \"uid\": \"c4433737-046d-4888-9a6b-31e7dedf3998\"}], {\"autosize\": false, \"height\": 1000, \"width\": 1000, \"xaxis\": {\"tickfont\": {\"color\": \"black\", \"size\": 12}, \"title\": \"Feature Importances\"}, \"yaxis\": {\"automargin\": true}}, {\"showLink\": true, \"linkText\": \"Export to plot.ly\", \"plotlyServerURL\": \"https://plot.ly\"})});</script>"
      ]
     },
     "metadata": {},
     "output_type": "display_data"
    },
    {
     "name": "stdout",
     "output_type": "stream",
     "text": [
      "\n",
      "\n",
      "\u001b[1mExtraTree Classifier\u001b[0m\n",
      "Accuracy of the model for training data is: 0.9985416362840892\n",
      "Confusion Matrix for training data is:\n"
     ]
    },
    {
     "data": {
      "text/plain": [
       "Predicted  False  True  __all__\n",
       "Actual                         \n",
       "False      24324     3    24327\n",
       "True          37  3064     3101\n",
       "__all__    24361  3067    27428"
      ]
     },
     "metadata": {},
     "output_type": "display_data"
    },
    {
     "name": "stdout",
     "output_type": "stream",
     "text": [
      "Accuracy of the model for test data is: 0.9796682262866865\n",
      "Confusion Matrix for test data is:\n"
     ]
    },
    {
     "data": {
      "text/plain": [
       "Predicted  False  True  __all__\n",
       "Actual                         \n",
       "False      10362    53    10415\n",
       "True         186  1154     1340\n",
       "__all__    10548  1207    11755"
      ]
     },
     "metadata": {},
     "output_type": "display_data"
    },
    {
     "data": {
      "application/vnd.plotly.v1+json": {
       "config": {
        "linkText": "Export to plot.ly",
        "plotlyServerURL": "https://plot.ly",
        "showLink": true
       },
       "data": [
        {
         "marker": {
          "color": "rgb(158,202,225)",
          "line": {
           "color": "rgb(8,48,107)",
           "width": 1.5
          }
         },
         "opacity": 0.6,
         "orientation": "h",
         "text": [
          0.1233,
          0.1074,
          0.0937,
          0.0878,
          0.08,
          0.0461,
          0.0348,
          0.0327,
          0.0318,
          0.026,
          0.0253,
          0.0204,
          0.0204,
          0.0202,
          0.0199,
          0.0181,
          0.018,
          0.0179,
          0.0164,
          0.015,
          0.0147,
          0.0146,
          0.0146,
          0.014,
          0.0107,
          0.0103,
          0.0102,
          0.0093,
          0.0087,
          0.008,
          0.0072,
          0.0062,
          0.0058,
          0.0057,
          0.0023,
          0.0022
         ],
         "textposition": "outside",
         "type": "bar",
         "uid": "8e4fbc41-0383-4cba-8490-bd03e0136a4f",
         "x": [
          0.12332034499766535,
          0.10739030213935294,
          0.09374658821340753,
          0.08780599225279484,
          0.08004139413030499,
          0.046084783080762665,
          0.03477078124030077,
          0.03274953346657596,
          0.03181460009429773,
          0.0259802083436449,
          0.025321574168497948,
          0.020408910895488623,
          0.02039904902219652,
          0.020186839475631872,
          0.01991432724917643,
          0.018064788734020724,
          0.017988987878928213,
          0.017880785363035775,
          0.016398668505034894,
          0.014981470060581164,
          0.014748976647548647,
          0.014597382229543378,
          0.014592036030260628,
          0.01401666424930262,
          0.010716352743928584,
          0.010303619279837957,
          0.01022490267531533,
          0.009320663446450266,
          0.008729485520154122,
          0.008028680207200881,
          0.007229278072878392,
          0.006242949465035522,
          0.00584053991052529,
          0.005681838385714034,
          0.0023132521922053545,
          0.002163449632399326
         ],
         "y": [
          "http_header_content-encoding_gzip",
          "url_extensions",
          "url_char_.",
          "url_char_w",
          "url_length",
          "http_header_transfer-encoding_chunked",
          "url_char_z",
          "url_char_y",
          "url_char_l",
          "url_char_i",
          "url_extension_endswith_.com",
          "link_type_text/css",
          "total_count",
          "http_header_server_apache",
          "a_href_out_of_domain",
          "url_char_p",
          "total_href",
          "url_extension_.com",
          "meta_count",
          "url_extension_.c",
          "a_href_relative",
          "p_count",
          "url_char_f",
          "http_header_cache-control_set_max-age",
          "script_async_true",
          "a_count",
          "http_header_vary_user-agent",
          "link_href_out_of_domain",
          "a_href_http",
          "iframe_src_.html",
          "push",
          "form_action_http",
          "a_href_https",
          "img_src_http",
          "http_header_via_1.1",
          "center_count"
         ]
        }
       ],
       "layout": {
        "autosize": false,
        "height": 1000,
        "width": 1000,
        "xaxis": {
         "tickfont": {
          "color": "black",
          "size": 12
         },
         "title": "Feature Importances"
        },
        "yaxis": {
         "automargin": true
        }
       }
      },
      "text/html": [
       "<div id=\"284f9a5d-bf7f-4ca8-99ba-5bccfacb5839\" style=\"height: 1000px; width: 1000px;\" class=\"plotly-graph-div\"></div><script type=\"text/javascript\">require([\"plotly\"], function(Plotly) { window.PLOTLYENV=window.PLOTLYENV || {};window.PLOTLYENV.BASE_URL=\"https://plot.ly\";Plotly.newPlot(\"284f9a5d-bf7f-4ca8-99ba-5bccfacb5839\", [{\"marker\": {\"color\": \"rgb(158,202,225)\", \"line\": {\"color\": \"rgb(8,48,107)\", \"width\": 1.5}}, \"opacity\": 0.6, \"orientation\": \"h\", \"text\": [0.1233, 0.1074, 0.0937, 0.0878, 0.08, 0.0461, 0.0348, 0.0327, 0.0318, 0.026, 0.0253, 0.0204, 0.0204, 0.0202, 0.0199, 0.0181, 0.018, 0.0179, 0.0164, 0.015, 0.0147, 0.0146, 0.0146, 0.014, 0.0107, 0.0103, 0.0102, 0.0093, 0.0087, 0.008, 0.0072, 0.0062, 0.0058, 0.0057, 0.0023, 0.0022], \"textposition\": \"outside\", \"x\": [0.12332034499766535, 0.10739030213935294, 0.09374658821340753, 0.08780599225279484, 0.08004139413030499, 0.046084783080762665, 0.03477078124030077, 0.03274953346657596, 0.03181460009429773, 0.0259802083436449, 0.025321574168497948, 0.020408910895488623, 0.02039904902219652, 0.020186839475631872, 0.01991432724917643, 0.018064788734020724, 0.017988987878928213, 0.017880785363035775, 0.016398668505034894, 0.014981470060581164, 0.014748976647548647, 0.014597382229543378, 0.014592036030260628, 0.01401666424930262, 0.010716352743928584, 0.010303619279837957, 0.01022490267531533, 0.009320663446450266, 0.008729485520154122, 0.008028680207200881, 0.007229278072878392, 0.006242949465035522, 0.00584053991052529, 0.005681838385714034, 0.0023132521922053545, 0.002163449632399326], \"y\": [\"http_header_content-encoding_gzip\", \"url_extensions\", \"url_char_.\", \"url_char_w\", \"url_length\", \"http_header_transfer-encoding_chunked\", \"url_char_z\", \"url_char_y\", \"url_char_l\", \"url_char_i\", \"url_extension_endswith_.com\", \"link_type_text/css\", \"total_count\", \"http_header_server_apache\", \"a_href_out_of_domain\", \"url_char_p\", \"total_href\", \"url_extension_.com\", \"meta_count\", \"url_extension_.c\", \"a_href_relative\", \"p_count\", \"url_char_f\", \"http_header_cache-control_set_max-age\", \"script_async_true\", \"a_count\", \"http_header_vary_user-agent\", \"link_href_out_of_domain\", \"a_href_http\", \"iframe_src_.html\", \"push\", \"form_action_http\", \"a_href_https\", \"img_src_http\", \"http_header_via_1.1\", \"center_count\"], \"type\": \"bar\", \"uid\": \"8e4fbc41-0383-4cba-8490-bd03e0136a4f\"}], {\"autosize\": false, \"height\": 1000, \"width\": 1000, \"xaxis\": {\"tickfont\": {\"color\": \"black\", \"size\": 12}, \"title\": \"Feature Importances\"}, \"yaxis\": {\"automargin\": true}}, {\"showLink\": true, \"linkText\": \"Export to plot.ly\", \"plotlyServerURL\": \"https://plot.ly\"})});</script>"
      ],
      "text/vnd.plotly.v1+html": [
       "<div id=\"284f9a5d-bf7f-4ca8-99ba-5bccfacb5839\" style=\"height: 1000px; width: 1000px;\" class=\"plotly-graph-div\"></div><script type=\"text/javascript\">require([\"plotly\"], function(Plotly) { window.PLOTLYENV=window.PLOTLYENV || {};window.PLOTLYENV.BASE_URL=\"https://plot.ly\";Plotly.newPlot(\"284f9a5d-bf7f-4ca8-99ba-5bccfacb5839\", [{\"marker\": {\"color\": \"rgb(158,202,225)\", \"line\": {\"color\": \"rgb(8,48,107)\", \"width\": 1.5}}, \"opacity\": 0.6, \"orientation\": \"h\", \"text\": [0.1233, 0.1074, 0.0937, 0.0878, 0.08, 0.0461, 0.0348, 0.0327, 0.0318, 0.026, 0.0253, 0.0204, 0.0204, 0.0202, 0.0199, 0.0181, 0.018, 0.0179, 0.0164, 0.015, 0.0147, 0.0146, 0.0146, 0.014, 0.0107, 0.0103, 0.0102, 0.0093, 0.0087, 0.008, 0.0072, 0.0062, 0.0058, 0.0057, 0.0023, 0.0022], \"textposition\": \"outside\", \"x\": [0.12332034499766535, 0.10739030213935294, 0.09374658821340753, 0.08780599225279484, 0.08004139413030499, 0.046084783080762665, 0.03477078124030077, 0.03274953346657596, 0.03181460009429773, 0.0259802083436449, 0.025321574168497948, 0.020408910895488623, 0.02039904902219652, 0.020186839475631872, 0.01991432724917643, 0.018064788734020724, 0.017988987878928213, 0.017880785363035775, 0.016398668505034894, 0.014981470060581164, 0.014748976647548647, 0.014597382229543378, 0.014592036030260628, 0.01401666424930262, 0.010716352743928584, 0.010303619279837957, 0.01022490267531533, 0.009320663446450266, 0.008729485520154122, 0.008028680207200881, 0.007229278072878392, 0.006242949465035522, 0.00584053991052529, 0.005681838385714034, 0.0023132521922053545, 0.002163449632399326], \"y\": [\"http_header_content-encoding_gzip\", \"url_extensions\", \"url_char_.\", \"url_char_w\", \"url_length\", \"http_header_transfer-encoding_chunked\", \"url_char_z\", \"url_char_y\", \"url_char_l\", \"url_char_i\", \"url_extension_endswith_.com\", \"link_type_text/css\", \"total_count\", \"http_header_server_apache\", \"a_href_out_of_domain\", \"url_char_p\", \"total_href\", \"url_extension_.com\", \"meta_count\", \"url_extension_.c\", \"a_href_relative\", \"p_count\", \"url_char_f\", \"http_header_cache-control_set_max-age\", \"script_async_true\", \"a_count\", \"http_header_vary_user-agent\", \"link_href_out_of_domain\", \"a_href_http\", \"iframe_src_.html\", \"push\", \"form_action_http\", \"a_href_https\", \"img_src_http\", \"http_header_via_1.1\", \"center_count\"], \"type\": \"bar\", \"uid\": \"8e4fbc41-0383-4cba-8490-bd03e0136a4f\"}], {\"autosize\": false, \"height\": 1000, \"width\": 1000, \"xaxis\": {\"tickfont\": {\"color\": \"black\", \"size\": 12}, \"title\": \"Feature Importances\"}, \"yaxis\": {\"automargin\": true}}, {\"showLink\": true, \"linkText\": \"Export to plot.ly\", \"plotlyServerURL\": \"https://plot.ly\"})});</script>"
      ]
     },
     "metadata": {},
     "output_type": "display_data"
    },
    {
     "name": "stdout",
     "output_type": "stream",
     "text": [
      "\n",
      "\n",
      "\u001b[1mXGB Classifier\u001b[0m\n",
      "Accuracy of the model for training data is: 0.9795464488843517\n",
      "Confusion Matrix for training data is:\n"
     ]
    },
    {
     "data": {
      "text/plain": [
       "Predicted  False  True  __all__\n",
       "Actual                         \n",
       "False      24188   139    24327\n",
       "True         422  2679     3101\n",
       "__all__    24610  2818    27428"
      ]
     },
     "metadata": {},
     "output_type": "display_data"
    },
    {
     "name": "stdout",
     "output_type": "stream",
     "text": [
      "Accuracy of the model for test data is: 0.9754147171416419\n",
      "Confusion Matrix for test data is:\n"
     ]
    },
    {
     "data": {
      "text/plain": [
       "Predicted  False  True  __all__\n",
       "Actual                         \n",
       "False      10335    80    10415\n",
       "True         209  1131     1340\n",
       "__all__    10544  1211    11755"
      ]
     },
     "metadata": {},
     "output_type": "display_data"
    },
    {
     "data": {
      "application/vnd.plotly.v1+json": {
       "config": {
        "linkText": "Export to plot.ly",
        "plotlyServerURL": "https://plot.ly",
        "showLink": true
       },
       "data": [
        {
         "marker": {
          "color": "rgb(158,202,225)",
          "line": {
           "color": "rgb(8,48,107)",
           "width": 1.5
          }
         },
         "opacity": 0.6,
         "orientation": "h",
         "text": [
          0.1422,
          0.1026,
          0.0674,
          0.0499,
          0.0484,
          0.0484,
          0.0367,
          0.0337,
          0.0308,
          0.0308,
          0.0264,
          0.0264,
          0.0264,
          0.0249,
          0.0235,
          0.0235,
          0.0205,
          0.0205,
          0.0191,
          0.0176,
          0.0176,
          0.0176,
          0.0176,
          0.0161,
          0.0161,
          0.0132,
          0.0132,
          0.0117,
          0.0117,
          0.0103,
          0.0103,
          0.0088,
          0.0073,
          0.0059,
          0.0029,
          0
         ],
         "textposition": "outside",
         "type": "bar",
         "uid": "e08d4332-d53b-4c61-a3ad-514108dfad5b",
         "x": [
          0.14222873747348785,
          0.10263929516077042,
          0.0674486830830574,
          0.0498533733189106,
          0.04838709533214569,
          0.04838709533214569,
          0.03665689006447792,
          0.0337243415415287,
          0.030791789293289185,
          0.030791789293289185,
          0.026392962783575058,
          0.026392962783575058,
          0.026392962783575058,
          0.0249266866594553,
          0.02346041053533554,
          0.02346041053533554,
          0.020527860149741173,
          0.020527860149741173,
          0.019061584025621414,
          0.017595307901501656,
          0.017595307901501656,
          0.017595307901501656,
          0.017595307901501656,
          0.016129031777381897,
          0.016129031777381897,
          0.013196481391787529,
          0.013196481391787529,
          0.01173020526766777,
          0.01173020526766777,
          0.010263930074870586,
          0.010263930074870586,
          0.008797653950750828,
          0.0073313782922923565,
          0.005865102633833885,
          0.0029325513169169426,
          0
         ],
         "y": [
          "url_length",
          "url_char_w",
          "url_char_.",
          "a_href_out_of_domain",
          "url_extensions",
          "total_count",
          "p_count",
          "form_action_http",
          "http_header_server_apache",
          "link_type_text/css",
          "url_extension_.com",
          "url_char_z",
          "http_header_content-encoding_gzip",
          "total_href",
          "push",
          "a_href_https",
          "http_header_cache-control_set_max-age",
          "img_src_http",
          "url_extension_endswith_.com",
          "http_header_via_1.1",
          "a_href_relative",
          "url_char_i",
          "url_char_p",
          "http_header_vary_user-agent",
          "url_char_l",
          "link_href_out_of_domain",
          "script_async_true",
          "center_count",
          "url_char_f",
          "a_href_http",
          "meta_count",
          "http_header_transfer-encoding_chunked",
          "url_extension_.c",
          "url_char_y",
          "iframe_src_.html",
          "a_count"
         ]
        }
       ],
       "layout": {
        "autosize": false,
        "height": 1000,
        "width": 1000,
        "xaxis": {
         "tickfont": {
          "color": "black",
          "size": 12
         },
         "title": "Feature Importances"
        },
        "yaxis": {
         "automargin": true
        }
       }
      },
      "text/html": [
       "<div id=\"aeca6436-4424-4389-b93b-d73df5f6c0a5\" style=\"height: 1000px; width: 1000px;\" class=\"plotly-graph-div\"></div><script type=\"text/javascript\">require([\"plotly\"], function(Plotly) { window.PLOTLYENV=window.PLOTLYENV || {};window.PLOTLYENV.BASE_URL=\"https://plot.ly\";Plotly.newPlot(\"aeca6436-4424-4389-b93b-d73df5f6c0a5\", [{\"marker\": {\"color\": \"rgb(158,202,225)\", \"line\": {\"color\": \"rgb(8,48,107)\", \"width\": 1.5}}, \"opacity\": 0.6, \"orientation\": \"h\", \"text\": [0.1422, 0.1026, 0.0674, 0.0499, 0.0484, 0.0484, 0.0367, 0.0337, 0.0308, 0.0308, 0.0264, 0.0264, 0.0264, 0.0249, 0.0235, 0.0235, 0.0205, 0.0205, 0.0191, 0.0176, 0.0176, 0.0176, 0.0176, 0.0161, 0.0161, 0.0132, 0.0132, 0.0117, 0.0117, 0.0103, 0.0103, 0.0088, 0.0073, 0.0059, 0.0029, 0.0], \"textposition\": \"outside\", \"x\": [0.14222873747348785, 0.10263929516077042, 0.0674486830830574, 0.0498533733189106, 0.04838709533214569, 0.04838709533214569, 0.03665689006447792, 0.0337243415415287, 0.030791789293289185, 0.030791789293289185, 0.026392962783575058, 0.026392962783575058, 0.026392962783575058, 0.0249266866594553, 0.02346041053533554, 0.02346041053533554, 0.020527860149741173, 0.020527860149741173, 0.019061584025621414, 0.017595307901501656, 0.017595307901501656, 0.017595307901501656, 0.017595307901501656, 0.016129031777381897, 0.016129031777381897, 0.013196481391787529, 0.013196481391787529, 0.01173020526766777, 0.01173020526766777, 0.010263930074870586, 0.010263930074870586, 0.008797653950750828, 0.0073313782922923565, 0.005865102633833885, 0.0029325513169169426, 0.0], \"y\": [\"url_length\", \"url_char_w\", \"url_char_.\", \"a_href_out_of_domain\", \"url_extensions\", \"total_count\", \"p_count\", \"form_action_http\", \"http_header_server_apache\", \"link_type_text/css\", \"url_extension_.com\", \"url_char_z\", \"http_header_content-encoding_gzip\", \"total_href\", \"push\", \"a_href_https\", \"http_header_cache-control_set_max-age\", \"img_src_http\", \"url_extension_endswith_.com\", \"http_header_via_1.1\", \"a_href_relative\", \"url_char_i\", \"url_char_p\", \"http_header_vary_user-agent\", \"url_char_l\", \"link_href_out_of_domain\", \"script_async_true\", \"center_count\", \"url_char_f\", \"a_href_http\", \"meta_count\", \"http_header_transfer-encoding_chunked\", \"url_extension_.c\", \"url_char_y\", \"iframe_src_.html\", \"a_count\"], \"type\": \"bar\", \"uid\": \"e08d4332-d53b-4c61-a3ad-514108dfad5b\"}], {\"autosize\": false, \"height\": 1000, \"width\": 1000, \"xaxis\": {\"tickfont\": {\"color\": \"black\", \"size\": 12}, \"title\": \"Feature Importances\"}, \"yaxis\": {\"automargin\": true}}, {\"showLink\": true, \"linkText\": \"Export to plot.ly\", \"plotlyServerURL\": \"https://plot.ly\"})});</script>"
      ],
      "text/vnd.plotly.v1+html": [
       "<div id=\"aeca6436-4424-4389-b93b-d73df5f6c0a5\" style=\"height: 1000px; width: 1000px;\" class=\"plotly-graph-div\"></div><script type=\"text/javascript\">require([\"plotly\"], function(Plotly) { window.PLOTLYENV=window.PLOTLYENV || {};window.PLOTLYENV.BASE_URL=\"https://plot.ly\";Plotly.newPlot(\"aeca6436-4424-4389-b93b-d73df5f6c0a5\", [{\"marker\": {\"color\": \"rgb(158,202,225)\", \"line\": {\"color\": \"rgb(8,48,107)\", \"width\": 1.5}}, \"opacity\": 0.6, \"orientation\": \"h\", \"text\": [0.1422, 0.1026, 0.0674, 0.0499, 0.0484, 0.0484, 0.0367, 0.0337, 0.0308, 0.0308, 0.0264, 0.0264, 0.0264, 0.0249, 0.0235, 0.0235, 0.0205, 0.0205, 0.0191, 0.0176, 0.0176, 0.0176, 0.0176, 0.0161, 0.0161, 0.0132, 0.0132, 0.0117, 0.0117, 0.0103, 0.0103, 0.0088, 0.0073, 0.0059, 0.0029, 0.0], \"textposition\": \"outside\", \"x\": [0.14222873747348785, 0.10263929516077042, 0.0674486830830574, 0.0498533733189106, 0.04838709533214569, 0.04838709533214569, 0.03665689006447792, 0.0337243415415287, 0.030791789293289185, 0.030791789293289185, 0.026392962783575058, 0.026392962783575058, 0.026392962783575058, 0.0249266866594553, 0.02346041053533554, 0.02346041053533554, 0.020527860149741173, 0.020527860149741173, 0.019061584025621414, 0.017595307901501656, 0.017595307901501656, 0.017595307901501656, 0.017595307901501656, 0.016129031777381897, 0.016129031777381897, 0.013196481391787529, 0.013196481391787529, 0.01173020526766777, 0.01173020526766777, 0.010263930074870586, 0.010263930074870586, 0.008797653950750828, 0.0073313782922923565, 0.005865102633833885, 0.0029325513169169426, 0.0], \"y\": [\"url_length\", \"url_char_w\", \"url_char_.\", \"a_href_out_of_domain\", \"url_extensions\", \"total_count\", \"p_count\", \"form_action_http\", \"http_header_server_apache\", \"link_type_text/css\", \"url_extension_.com\", \"url_char_z\", \"http_header_content-encoding_gzip\", \"total_href\", \"push\", \"a_href_https\", \"http_header_cache-control_set_max-age\", \"img_src_http\", \"url_extension_endswith_.com\", \"http_header_via_1.1\", \"a_href_relative\", \"url_char_i\", \"url_char_p\", \"http_header_vary_user-agent\", \"url_char_l\", \"link_href_out_of_domain\", \"script_async_true\", \"center_count\", \"url_char_f\", \"a_href_http\", \"meta_count\", \"http_header_transfer-encoding_chunked\", \"url_extension_.c\", \"url_char_y\", \"iframe_src_.html\", \"a_count\"], \"type\": \"bar\", \"uid\": \"e08d4332-d53b-4c61-a3ad-514108dfad5b\"}], {\"autosize\": false, \"height\": 1000, \"width\": 1000, \"xaxis\": {\"tickfont\": {\"color\": \"black\", \"size\": 12}, \"title\": \"Feature Importances\"}, \"yaxis\": {\"automargin\": true}}, {\"showLink\": true, \"linkText\": \"Export to plot.ly\", \"plotlyServerURL\": \"https://plot.ly\"})});</script>"
      ]
     },
     "metadata": {},
     "output_type": "display_data"
    },
    {
     "name": "stdout",
     "output_type": "stream",
     "text": [
      "\n",
      "\n",
      "\u001b[1mBagging Classifier\u001b[0m\n",
      "Accuracy of the model for training data is: 0.9967186816392009\n",
      "Confusion Matrix for training data is:\n"
     ]
    },
    {
     "data": {
      "text/plain": [
       "Predicted  False  True  __all__\n",
       "Actual                         \n",
       "False      24314    13    24327\n",
       "True          77  3024     3101\n",
       "__all__    24391  3037    27428"
      ]
     },
     "metadata": {},
     "output_type": "display_data"
    },
    {
     "name": "stdout",
     "output_type": "stream",
     "text": [
      "Accuracy of the model for test data is: 0.9779668226286686\n",
      "Confusion Matrix for test data is:\n"
     ]
    },
    {
     "data": {
      "text/plain": [
       "Predicted  False  True  __all__\n",
       "Actual                         \n",
       "False      10343    72    10415\n",
       "True         187  1153     1340\n",
       "__all__    10530  1225    11755"
      ]
     },
     "metadata": {},
     "output_type": "display_data"
    },
    {
     "name": "stdout",
     "output_type": "stream",
     "text": [
      "\n",
      "\n",
      "\u001b[1mNeural Network-1\u001b[0m\n",
      "The accuracy of the model on training data is: 0.9940571678576637\n"
     ]
    },
    {
     "data": {
      "text/plain": [
       "Predicted  False  True  __all__\n",
       "Actual                         \n",
       "False      24269    58    24327\n",
       "True         105  2996     3101\n",
       "__all__    24374  3054    27428"
      ]
     },
     "metadata": {},
     "output_type": "display_data"
    },
    {
     "name": "stdout",
     "output_type": "stream",
     "text": [
      "The accuracy of the model on test data is: 0.9757549978732454\n"
     ]
    },
    {
     "data": {
      "text/plain": [
       "Predicted  False  True  __all__\n",
       "Actual                         \n",
       "False      10304   111    10415\n",
       "True         174  1166     1340\n",
       "__all__    10478  1277    11755"
      ]
     },
     "metadata": {},
     "output_type": "display_data"
    },
    {
     "name": "stdout",
     "output_type": "stream",
     "text": [
      "\n",
      "\n"
     ]
    }
   ],
   "source": [
    "df_sel=df[columns].copy(deep=True)\n",
    "\n",
    "train=df_sel.iloc[:27428,:]\n",
    "train_X=train.iloc[:,train.columns!='Target'].values\n",
    "train_Y=train.Target.values\n",
    "\n",
    "scaler=StandardScaler()\n",
    "scaled_X_train=scaler.fit_transform(train_X)\n",
    "\n",
    "test=df_sel.iloc[27428:,:]\n",
    "test_X=test.iloc[:,test.columns!='Target'].values\n",
    "test_Y=test.Target.values\n",
    "scaled_X_test=scaler.transform(test_X)\n",
    "columns.remove('Target')\n",
    "\n",
    "ind_columns=['KNeighborsClassifier','RandomForestClassifier','AdaBoostClassifier',\n",
    "             'GradientBoostingClassifier','ExtraTreeClassifier','XGB','BaggingClassifier','Neural Network-1']\n",
    "\n",
    "f=[KNN_model,RandomForest,AdaBoost,GradientBoosting, ExtraTree,XGB,Bagging,DeepLearning1]\n",
    "\n",
    "## Table to store training and test measures\n",
    "table_80_50_train=pd.DataFrame(columns=['accuracy','TP','TN','FP','FN','FPR','FNR'])\n",
    "table_80_50_test=pd.DataFrame(columns=['accuracy','TP','TN','FP','FN','FPR','FNR','auc','MCC','Precision','Recall'])\n",
    "\n",
    "feat_imp=[None]*5\n",
    "j=0\n",
    "for i in range(0,8):\n",
    "    if i>=1 and i<=5:\n",
    "        model,cm_train,cm_test,acc_train,acc_test,roc_auc,feat_imp[j],mcc,prec,rec=f[i](scaled_X_train,train_Y,scaled_X_test,test_Y,columns)\n",
    "        j=j+1\n",
    "    else:\n",
    "        model,cm_train,cm_test,acc_train,acc_test,roc_auc,mcc,prec,rec=f[i](scaled_X_train,train_Y,scaled_X_test,test_Y)\n",
    "    table_80_50_train.loc[i]=   ([acc_train,cm_train.TP,cm_train.TN,cm_train.FP,cm_train.FN,cm_train.FPR,cm_train.FNR])\n",
    "    table_80_50_test.loc[i] =   ([acc_test ,cm_test.TP, cm_test.TN, cm_test.FP, cm_test.FN, cm_test.FPR, cm_test.FNR,roc_auc,mcc,prec,rec])\n",
    "    print(\"\\n\")"
   ]
  },
  {
   "cell_type": "markdown",
   "metadata": {},
   "source": [
    "### <a id='1.A' style=\"text-decoration : none; color : #000000;\"> A. Results</a>"
   ]
  },
  {
   "cell_type": "code",
   "execution_count": 9,
   "metadata": {},
   "outputs": [
    {
     "data": {
      "application/vnd.plotly.v1+json": {
       "config": {
        "linkText": "Export to plot.ly",
        "plotlyServerURL": "https://plot.ly",
        "showLink": true
       },
       "data": [
        {
         "mode": "lines",
         "name": "KNN_model",
         "type": "scatter",
         "uid": "7892c93b-34d9-43a3-be82-9e8df73c784c",
         "x": [
          "accuracy",
          "auc",
          "MCC",
          "Precision",
          "Recall"
         ],
         "y": [
          0.9756699276903446,
          0.9183183339185016,
          0.8756307226510608,
          0.9362582781456954,
          0.8440298507462687
         ]
        },
        {
         "mode": "lines+markers",
         "name": "XGB",
         "type": "scatter",
         "uid": "c1d98b21-cc04-4728-9ac6-bb25882f0ce1",
         "x": [
          "accuracy",
          "auc",
          "MCC",
          "Precision",
          "Recall"
         ],
         "y": [
          0.9754147171416419,
          0.9181743108748146,
          0.8743687181403601,
          0.9339388934764657,
          0.8440298507462687
         ]
        },
        {
         "marker": {
          "symbol": "x"
         },
         "mode": "lines+markers",
         "name": "Random Forest",
         "type": "scatter",
         "uid": "e167ad83-e483-4e4b-92a3-06feba0c0c55",
         "x": [
          "accuracy",
          "auc",
          "MCC",
          "Precision",
          "Recall"
         ],
         "y": [
          0.980093577201191,
          0.9295931528148981,
          0.8985730837808683,
          0.9570247933884297,
          0.8641791044776119
         ]
        },
        {
         "mode": "lines",
         "name": "Ada Boost",
         "type": "scatter",
         "uid": "f60f2c09-e624-47b2-9bbd-5a430a9d9556",
         "x": [
          "accuracy",
          "auc",
          "MCC",
          "Precision",
          "Recall"
         ],
         "y": [
          0.9706507868991918,
          0.9193874004915413,
          0.8525412950094337,
          0.8853601859024013,
          0.8529850746268657
         ]
        },
        {
         "mode": "lines+markers",
         "name": "GradientBoosting",
         "type": "scatter",
         "uid": "f173d9b4-71f1-45a1-baef-0776cec163ad",
         "x": [
          "accuracy",
          "auc",
          "MCC",
          "Precision",
          "Recall"
         ],
         "y": [
          0.976860910250957,
          0.9228919612212582,
          0.8819811990803837,
          0.9384236453201971,
          0.8529850746268657
         ]
        },
        {
         "marker": {
          "symbol": "x"
         },
         "mode": "lines+markers",
         "name": "ExtraTree Classifier",
         "type": "scatter",
         "uid": "fc221c27-9834-4385-87d9-cfbdf61ea4e9",
         "x": [
          "accuracy",
          "auc",
          "MCC",
          "Precision",
          "Recall"
         ],
         "y": [
          0.9796682262866865,
          0.9280526078202362,
          0.896335265372954,
          0.956089478044739,
          0.8611940298507462
         ]
        },
        {
         "marker": {
          "symbol": "x"
         },
         "mode": "lines+markers",
         "name": "Bagging",
         "type": "scatter",
         "uid": "e42d78c0-dab9-41ba-b02c-952047b121da",
         "x": [
          "accuracy",
          "auc",
          "MCC",
          "Precision",
          "Recall"
         ],
         "y": [
          0.9779668226286686,
          0.9267673275485272,
          0.8878119070655337,
          0.9412244897959183,
          0.8604477611940299
         ]
        },
        {
         "marker": {
          "symbol": "x"
         },
         "mode": "lines+markers",
         "name": "Neural Network",
         "type": "scatter",
         "uid": "1d014fbc-f67d-425a-a88b-e16954906695",
         "x": [
          "accuracy",
          "auc",
          "MCC",
          "Precision",
          "Recall"
         ],
         "y": [
          0.9757549978732454,
          0.9267673275485272,
          0.8777867100294332,
          0.9130775254502741,
          0.8701492537313433
         ]
        }
       ],
       "layout": {
        "title": "Result comparision for Features selected in Section 1",
        "yaxis": {
         "dtick": 0.05,
         "tick0": 0
        }
       }
      },
      "text/html": [
       "<div id=\"ab7464e8-e6bc-4db4-9872-547d7e276621\" style=\"height: 525px; width: 100%;\" class=\"plotly-graph-div\"></div><script type=\"text/javascript\">require([\"plotly\"], function(Plotly) { window.PLOTLYENV=window.PLOTLYENV || {};window.PLOTLYENV.BASE_URL=\"https://plot.ly\";Plotly.newPlot(\"ab7464e8-e6bc-4db4-9872-547d7e276621\", [{\"mode\": \"lines\", \"name\": \"KNN_model\", \"x\": [\"accuracy\", \"auc\", \"MCC\", \"Precision\", \"Recall\"], \"y\": [0.9756699276903446, 0.9183183339185016, 0.8756307226510608, 0.9362582781456954, 0.8440298507462687], \"type\": \"scatter\", \"uid\": \"7892c93b-34d9-43a3-be82-9e8df73c784c\"}, {\"mode\": \"lines+markers\", \"name\": \"XGB\", \"x\": [\"accuracy\", \"auc\", \"MCC\", \"Precision\", \"Recall\"], \"y\": [0.9754147171416419, 0.9181743108748146, 0.8743687181403601, 0.9339388934764657, 0.8440298507462687], \"type\": \"scatter\", \"uid\": \"c1d98b21-cc04-4728-9ac6-bb25882f0ce1\"}, {\"marker\": {\"symbol\": \"x\"}, \"mode\": \"lines+markers\", \"name\": \"Random Forest\", \"x\": [\"accuracy\", \"auc\", \"MCC\", \"Precision\", \"Recall\"], \"y\": [0.980093577201191, 0.9295931528148981, 0.8985730837808683, 0.9570247933884297, 0.8641791044776119], \"type\": \"scatter\", \"uid\": \"e167ad83-e483-4e4b-92a3-06feba0c0c55\"}, {\"mode\": \"lines\", \"name\": \"Ada Boost\", \"x\": [\"accuracy\", \"auc\", \"MCC\", \"Precision\", \"Recall\"], \"y\": [0.9706507868991918, 0.9193874004915413, 0.8525412950094337, 0.8853601859024013, 0.8529850746268657], \"type\": \"scatter\", \"uid\": \"f60f2c09-e624-47b2-9bbd-5a430a9d9556\"}, {\"mode\": \"lines+markers\", \"name\": \"GradientBoosting\", \"x\": [\"accuracy\", \"auc\", \"MCC\", \"Precision\", \"Recall\"], \"y\": [0.976860910250957, 0.9228919612212582, 0.8819811990803837, 0.9384236453201971, 0.8529850746268657], \"type\": \"scatter\", \"uid\": \"f173d9b4-71f1-45a1-baef-0776cec163ad\"}, {\"marker\": {\"symbol\": \"x\"}, \"mode\": \"lines+markers\", \"name\": \"ExtraTree Classifier\", \"x\": [\"accuracy\", \"auc\", \"MCC\", \"Precision\", \"Recall\"], \"y\": [0.9796682262866865, 0.9280526078202362, 0.896335265372954, 0.956089478044739, 0.8611940298507462], \"type\": \"scatter\", \"uid\": \"fc221c27-9834-4385-87d9-cfbdf61ea4e9\"}, {\"marker\": {\"symbol\": \"x\"}, \"mode\": \"lines+markers\", \"name\": \"Bagging\", \"x\": [\"accuracy\", \"auc\", \"MCC\", \"Precision\", \"Recall\"], \"y\": [0.9779668226286686, 0.9267673275485272, 0.8878119070655337, 0.9412244897959183, 0.8604477611940299], \"type\": \"scatter\", \"uid\": \"e42d78c0-dab9-41ba-b02c-952047b121da\"}, {\"marker\": {\"symbol\": \"x\"}, \"mode\": \"lines+markers\", \"name\": \"Neural Network\", \"x\": [\"accuracy\", \"auc\", \"MCC\", \"Precision\", \"Recall\"], \"y\": [0.9757549978732454, 0.9267673275485272, 0.8777867100294332, 0.9130775254502741, 0.8701492537313433], \"type\": \"scatter\", \"uid\": \"1d014fbc-f67d-425a-a88b-e16954906695\"}], {\"title\": \"Result comparision for Features selected in Section 1\", \"yaxis\": {\"dtick\": 0.05, \"tick0\": 0}}, {\"showLink\": true, \"linkText\": \"Export to plot.ly\", \"plotlyServerURL\": \"https://plot.ly\"})});</script><script type=\"text/javascript\">window.addEventListener(\"resize\", function(){window._Plotly.Plots.resize(document.getElementById(\"ab7464e8-e6bc-4db4-9872-547d7e276621\"));});</script>"
      ],
      "text/vnd.plotly.v1+html": [
       "<div id=\"ab7464e8-e6bc-4db4-9872-547d7e276621\" style=\"height: 525px; width: 100%;\" class=\"plotly-graph-div\"></div><script type=\"text/javascript\">require([\"plotly\"], function(Plotly) { window.PLOTLYENV=window.PLOTLYENV || {};window.PLOTLYENV.BASE_URL=\"https://plot.ly\";Plotly.newPlot(\"ab7464e8-e6bc-4db4-9872-547d7e276621\", [{\"mode\": \"lines\", \"name\": \"KNN_model\", \"x\": [\"accuracy\", \"auc\", \"MCC\", \"Precision\", \"Recall\"], \"y\": [0.9756699276903446, 0.9183183339185016, 0.8756307226510608, 0.9362582781456954, 0.8440298507462687], \"type\": \"scatter\", \"uid\": \"7892c93b-34d9-43a3-be82-9e8df73c784c\"}, {\"mode\": \"lines+markers\", \"name\": \"XGB\", \"x\": [\"accuracy\", \"auc\", \"MCC\", \"Precision\", \"Recall\"], \"y\": [0.9754147171416419, 0.9181743108748146, 0.8743687181403601, 0.9339388934764657, 0.8440298507462687], \"type\": \"scatter\", \"uid\": \"c1d98b21-cc04-4728-9ac6-bb25882f0ce1\"}, {\"marker\": {\"symbol\": \"x\"}, \"mode\": \"lines+markers\", \"name\": \"Random Forest\", \"x\": [\"accuracy\", \"auc\", \"MCC\", \"Precision\", \"Recall\"], \"y\": [0.980093577201191, 0.9295931528148981, 0.8985730837808683, 0.9570247933884297, 0.8641791044776119], \"type\": \"scatter\", \"uid\": \"e167ad83-e483-4e4b-92a3-06feba0c0c55\"}, {\"mode\": \"lines\", \"name\": \"Ada Boost\", \"x\": [\"accuracy\", \"auc\", \"MCC\", \"Precision\", \"Recall\"], \"y\": [0.9706507868991918, 0.9193874004915413, 0.8525412950094337, 0.8853601859024013, 0.8529850746268657], \"type\": \"scatter\", \"uid\": \"f60f2c09-e624-47b2-9bbd-5a430a9d9556\"}, {\"mode\": \"lines+markers\", \"name\": \"GradientBoosting\", \"x\": [\"accuracy\", \"auc\", \"MCC\", \"Precision\", \"Recall\"], \"y\": [0.976860910250957, 0.9228919612212582, 0.8819811990803837, 0.9384236453201971, 0.8529850746268657], \"type\": \"scatter\", \"uid\": \"f173d9b4-71f1-45a1-baef-0776cec163ad\"}, {\"marker\": {\"symbol\": \"x\"}, \"mode\": \"lines+markers\", \"name\": \"ExtraTree Classifier\", \"x\": [\"accuracy\", \"auc\", \"MCC\", \"Precision\", \"Recall\"], \"y\": [0.9796682262866865, 0.9280526078202362, 0.896335265372954, 0.956089478044739, 0.8611940298507462], \"type\": \"scatter\", \"uid\": \"fc221c27-9834-4385-87d9-cfbdf61ea4e9\"}, {\"marker\": {\"symbol\": \"x\"}, \"mode\": \"lines+markers\", \"name\": \"Bagging\", \"x\": [\"accuracy\", \"auc\", \"MCC\", \"Precision\", \"Recall\"], \"y\": [0.9779668226286686, 0.9267673275485272, 0.8878119070655337, 0.9412244897959183, 0.8604477611940299], \"type\": \"scatter\", \"uid\": \"e42d78c0-dab9-41ba-b02c-952047b121da\"}, {\"marker\": {\"symbol\": \"x\"}, \"mode\": \"lines+markers\", \"name\": \"Neural Network\", \"x\": [\"accuracy\", \"auc\", \"MCC\", \"Precision\", \"Recall\"], \"y\": [0.9757549978732454, 0.9267673275485272, 0.8777867100294332, 0.9130775254502741, 0.8701492537313433], \"type\": \"scatter\", \"uid\": \"1d014fbc-f67d-425a-a88b-e16954906695\"}], {\"title\": \"Result comparision for Features selected in Section 1\", \"yaxis\": {\"dtick\": 0.05, \"tick0\": 0}}, {\"showLink\": true, \"linkText\": \"Export to plot.ly\", \"plotlyServerURL\": \"https://plot.ly\"})});</script><script type=\"text/javascript\">window.addEventListener(\"resize\", function(){window._Plotly.Plots.resize(document.getElementById(\"ab7464e8-e6bc-4db4-9872-547d7e276621\"));});</script>"
      ]
     },
     "metadata": {},
     "output_type": "display_data"
    }
   ],
   "source": [
    "trace0 = go.Scatter(x=table_80_50_test.iloc[0].index.values[[0,7,8,9,10]],\n",
    "                    y=table_80_50_test.iloc[0].values[[0,7,8,9,10]],\n",
    "                    mode = 'lines',\n",
    "                    name = 'KNN_model')\n",
    "\n",
    "\n",
    "trace2 = go.Scatter(x=table_80_50_test.iloc[1].index.values[[0,7,8,9,10]],\n",
    "                    y=table_80_50_test.iloc[1].values[[0,7,8,9,10]],\n",
    "                    mode = 'lines+markers',marker=dict(symbol='x'),\n",
    "                    name = 'Random Forest')\n",
    "\n",
    "\n",
    "trace3 = go.Scatter(x=table_80_50_test.iloc[2].index.values[[0,7,8,9,10]],\n",
    "                    y=table_80_50_test.iloc[2].values[[0,7,8,9,10]],\n",
    "                    mode = 'lines',\n",
    "                    name = 'Ada Boost')\n",
    "\n",
    "trace4 = go.Scatter(x=table_80_50_test.iloc[3].index.values[[0,7,8,9,10]],\n",
    "                    y=table_80_50_test.iloc[3].values[[0,7,8,9,10]],\n",
    "                    mode = 'lines+markers',\n",
    "                    name = 'GradientBoosting')\n",
    "\n",
    "trace5 = go.Scatter(x=table_80_50_test.iloc[4].index.values[[0,7,8,9,10]],\n",
    "                    y=table_80_50_test.iloc[4].values[[0,7,8,9,10]],\n",
    "                    mode = 'lines+markers',marker=dict(symbol='x'),\n",
    "                    name = 'ExtraTree Classifier')\n",
    "\n",
    "\n",
    "trace1 = go.Scatter(x=table_80_50_test.iloc[5].index.values[[0,7,8,9,10]],\n",
    "                    y=table_80_50_test.iloc[5].values[[0,7,8,9,10]],\n",
    "                    mode = 'lines+markers',\n",
    "                    name = 'XGB')\n",
    "\n",
    "\n",
    "trace6 = go.Scatter(x=table_80_50_test.iloc[6].index.values[[0,7,8,9,10]],\n",
    "                    y=table_80_50_test.iloc[6].values[[0,7,8,9,10]],\n",
    "                    mode = 'lines+markers',marker=dict(symbol='x'),\n",
    "                    name = 'Bagging')\n",
    "\n",
    "trace7 = go.Scatter(x=table_80_50_test.iloc[7].index.values[[0,7,8,9,10]],\n",
    "                    y=table_80_50_test.iloc[7].values[[0,7,8,9,10]],\n",
    "                    mode = 'lines+markers',marker=dict(symbol='x'),\n",
    "                    name = 'Neural Network')\n",
    "\n",
    "\n",
    "\n",
    "data = [trace0, trace1, trace2, trace3, trace4, trace5, trace6, trace7]\n",
    "layout = go.Layout(yaxis=dict(tick0=0,dtick=0.05),title='Result comparision for Features selected in Section 1')\n",
    "fig = go.Figure(data=data, layout=layout)\n",
    "\n",
    "iplot(fig, filename='Result')"
   ]
  },
  {
   "cell_type": "code",
   "execution_count": 10,
   "metadata": {},
   "outputs": [
    {
     "name": "stdout",
     "output_type": "stream",
     "text": [
      "Training Results\n"
     ]
    },
    {
     "data": {
      "text/html": [
       "<div>\n",
       "<style scoped>\n",
       "    .dataframe tbody tr th:only-of-type {\n",
       "        vertical-align: middle;\n",
       "    }\n",
       "\n",
       "    .dataframe tbody tr th {\n",
       "        vertical-align: top;\n",
       "    }\n",
       "\n",
       "    .dataframe thead th {\n",
       "        text-align: right;\n",
       "    }\n",
       "</style>\n",
       "<table border=\"1\" class=\"dataframe\">\n",
       "  <thead>\n",
       "    <tr style=\"text-align: right;\">\n",
       "      <th></th>\n",
       "      <th>accuracy</th>\n",
       "      <th>TP</th>\n",
       "      <th>TN</th>\n",
       "      <th>FP</th>\n",
       "      <th>FN</th>\n",
       "      <th>FPR</th>\n",
       "      <th>FNR</th>\n",
       "    </tr>\n",
       "    <tr>\n",
       "      <th>index</th>\n",
       "      <th></th>\n",
       "      <th></th>\n",
       "      <th></th>\n",
       "      <th></th>\n",
       "      <th></th>\n",
       "      <th></th>\n",
       "      <th></th>\n",
       "    </tr>\n",
       "  </thead>\n",
       "  <tbody>\n",
       "    <tr>\n",
       "      <th>KNeighborsClassifier</th>\n",
       "      <td>0.981734</td>\n",
       "      <td>2732.0</td>\n",
       "      <td>24195.0</td>\n",
       "      <td>132.0</td>\n",
       "      <td>369.0</td>\n",
       "      <td>0.005426</td>\n",
       "      <td>0.118994</td>\n",
       "    </tr>\n",
       "    <tr>\n",
       "      <th>RandomForestClassifier</th>\n",
       "      <td>0.996974</td>\n",
       "      <td>3030.0</td>\n",
       "      <td>24315.0</td>\n",
       "      <td>12.0</td>\n",
       "      <td>71.0</td>\n",
       "      <td>0.000493</td>\n",
       "      <td>0.022896</td>\n",
       "    </tr>\n",
       "    <tr>\n",
       "      <th>AdaBoostClassifier</th>\n",
       "      <td>0.972656</td>\n",
       "      <td>2681.0</td>\n",
       "      <td>23997.0</td>\n",
       "      <td>330.0</td>\n",
       "      <td>420.0</td>\n",
       "      <td>0.013565</td>\n",
       "      <td>0.135440</td>\n",
       "    </tr>\n",
       "    <tr>\n",
       "      <th>GradientBoostingClassifier</th>\n",
       "      <td>0.980421</td>\n",
       "      <td>2704.0</td>\n",
       "      <td>24187.0</td>\n",
       "      <td>140.0</td>\n",
       "      <td>397.0</td>\n",
       "      <td>0.005755</td>\n",
       "      <td>0.128023</td>\n",
       "    </tr>\n",
       "    <tr>\n",
       "      <th>ExtraTreeClassifier</th>\n",
       "      <td>0.998542</td>\n",
       "      <td>3064.0</td>\n",
       "      <td>24324.0</td>\n",
       "      <td>3.0</td>\n",
       "      <td>37.0</td>\n",
       "      <td>0.000123</td>\n",
       "      <td>0.011932</td>\n",
       "    </tr>\n",
       "    <tr>\n",
       "      <th>XGB</th>\n",
       "      <td>0.979546</td>\n",
       "      <td>2679.0</td>\n",
       "      <td>24188.0</td>\n",
       "      <td>139.0</td>\n",
       "      <td>422.0</td>\n",
       "      <td>0.005714</td>\n",
       "      <td>0.136085</td>\n",
       "    </tr>\n",
       "    <tr>\n",
       "      <th>BaggingClassifier</th>\n",
       "      <td>0.996719</td>\n",
       "      <td>3024.0</td>\n",
       "      <td>24314.0</td>\n",
       "      <td>13.0</td>\n",
       "      <td>77.0</td>\n",
       "      <td>0.000534</td>\n",
       "      <td>0.024831</td>\n",
       "    </tr>\n",
       "    <tr>\n",
       "      <th>Neural Network-1</th>\n",
       "      <td>0.994057</td>\n",
       "      <td>2996.0</td>\n",
       "      <td>24269.0</td>\n",
       "      <td>58.0</td>\n",
       "      <td>105.0</td>\n",
       "      <td>0.002384</td>\n",
       "      <td>0.033860</td>\n",
       "    </tr>\n",
       "  </tbody>\n",
       "</table>\n",
       "</div>"
      ],
      "text/plain": [
       "                            accuracy      TP       TN     FP     FN       FPR  \\\n",
       "index                                                                           \n",
       "KNeighborsClassifier        0.981734  2732.0  24195.0  132.0  369.0  0.005426   \n",
       "RandomForestClassifier      0.996974  3030.0  24315.0   12.0   71.0  0.000493   \n",
       "AdaBoostClassifier          0.972656  2681.0  23997.0  330.0  420.0  0.013565   \n",
       "GradientBoostingClassifier  0.980421  2704.0  24187.0  140.0  397.0  0.005755   \n",
       "ExtraTreeClassifier         0.998542  3064.0  24324.0    3.0   37.0  0.000123   \n",
       "XGB                         0.979546  2679.0  24188.0  139.0  422.0  0.005714   \n",
       "BaggingClassifier           0.996719  3024.0  24314.0   13.0   77.0  0.000534   \n",
       "Neural Network-1            0.994057  2996.0  24269.0   58.0  105.0  0.002384   \n",
       "\n",
       "                                 FNR  \n",
       "index                                 \n",
       "KNeighborsClassifier        0.118994  \n",
       "RandomForestClassifier      0.022896  \n",
       "AdaBoostClassifier          0.135440  \n",
       "GradientBoostingClassifier  0.128023  \n",
       "ExtraTreeClassifier         0.011932  \n",
       "XGB                         0.136085  \n",
       "BaggingClassifier           0.024831  \n",
       "Neural Network-1            0.033860  "
      ]
     },
     "metadata": {},
     "output_type": "display_data"
    },
    {
     "name": "stdout",
     "output_type": "stream",
     "text": [
      "Test Results\n"
     ]
    },
    {
     "data": {
      "text/html": [
       "<div>\n",
       "<style scoped>\n",
       "    .dataframe tbody tr th:only-of-type {\n",
       "        vertical-align: middle;\n",
       "    }\n",
       "\n",
       "    .dataframe tbody tr th {\n",
       "        vertical-align: top;\n",
       "    }\n",
       "\n",
       "    .dataframe thead th {\n",
       "        text-align: right;\n",
       "    }\n",
       "</style>\n",
       "<table border=\"1\" class=\"dataframe\">\n",
       "  <thead>\n",
       "    <tr style=\"text-align: right;\">\n",
       "      <th></th>\n",
       "      <th>accuracy</th>\n",
       "      <th>TP</th>\n",
       "      <th>TN</th>\n",
       "      <th>FP</th>\n",
       "      <th>FN</th>\n",
       "      <th>FPR</th>\n",
       "      <th>FNR</th>\n",
       "      <th>auc</th>\n",
       "      <th>MCC</th>\n",
       "      <th>Precision</th>\n",
       "      <th>Recall</th>\n",
       "    </tr>\n",
       "    <tr>\n",
       "      <th>index</th>\n",
       "      <th></th>\n",
       "      <th></th>\n",
       "      <th></th>\n",
       "      <th></th>\n",
       "      <th></th>\n",
       "      <th></th>\n",
       "      <th></th>\n",
       "      <th></th>\n",
       "      <th></th>\n",
       "      <th></th>\n",
       "      <th></th>\n",
       "    </tr>\n",
       "  </thead>\n",
       "  <tbody>\n",
       "    <tr>\n",
       "      <th>KNeighborsClassifier</th>\n",
       "      <td>0.975670</td>\n",
       "      <td>1131.0</td>\n",
       "      <td>10338.0</td>\n",
       "      <td>77.0</td>\n",
       "      <td>209.0</td>\n",
       "      <td>0.007393</td>\n",
       "      <td>0.155970</td>\n",
       "      <td>0.918318</td>\n",
       "      <td>0.875631</td>\n",
       "      <td>0.936258</td>\n",
       "      <td>0.844030</td>\n",
       "    </tr>\n",
       "    <tr>\n",
       "      <th>RandomForestClassifier</th>\n",
       "      <td>0.980094</td>\n",
       "      <td>1158.0</td>\n",
       "      <td>10363.0</td>\n",
       "      <td>52.0</td>\n",
       "      <td>182.0</td>\n",
       "      <td>0.004993</td>\n",
       "      <td>0.135821</td>\n",
       "      <td>0.929593</td>\n",
       "      <td>0.898573</td>\n",
       "      <td>0.957025</td>\n",
       "      <td>0.864179</td>\n",
       "    </tr>\n",
       "    <tr>\n",
       "      <th>AdaBoostClassifier</th>\n",
       "      <td>0.970651</td>\n",
       "      <td>1143.0</td>\n",
       "      <td>10267.0</td>\n",
       "      <td>148.0</td>\n",
       "      <td>197.0</td>\n",
       "      <td>0.014210</td>\n",
       "      <td>0.147015</td>\n",
       "      <td>0.919387</td>\n",
       "      <td>0.852541</td>\n",
       "      <td>0.885360</td>\n",
       "      <td>0.852985</td>\n",
       "    </tr>\n",
       "    <tr>\n",
       "      <th>GradientBoostingClassifier</th>\n",
       "      <td>0.976861</td>\n",
       "      <td>1143.0</td>\n",
       "      <td>10340.0</td>\n",
       "      <td>75.0</td>\n",
       "      <td>197.0</td>\n",
       "      <td>0.007201</td>\n",
       "      <td>0.147015</td>\n",
       "      <td>0.922892</td>\n",
       "      <td>0.881981</td>\n",
       "      <td>0.938424</td>\n",
       "      <td>0.852985</td>\n",
       "    </tr>\n",
       "    <tr>\n",
       "      <th>ExtraTreeClassifier</th>\n",
       "      <td>0.979668</td>\n",
       "      <td>1154.0</td>\n",
       "      <td>10362.0</td>\n",
       "      <td>53.0</td>\n",
       "      <td>186.0</td>\n",
       "      <td>0.005089</td>\n",
       "      <td>0.138806</td>\n",
       "      <td>0.928053</td>\n",
       "      <td>0.896335</td>\n",
       "      <td>0.956089</td>\n",
       "      <td>0.861194</td>\n",
       "    </tr>\n",
       "    <tr>\n",
       "      <th>XGB</th>\n",
       "      <td>0.975415</td>\n",
       "      <td>1131.0</td>\n",
       "      <td>10335.0</td>\n",
       "      <td>80.0</td>\n",
       "      <td>209.0</td>\n",
       "      <td>0.007681</td>\n",
       "      <td>0.155970</td>\n",
       "      <td>0.918174</td>\n",
       "      <td>0.874369</td>\n",
       "      <td>0.933939</td>\n",
       "      <td>0.844030</td>\n",
       "    </tr>\n",
       "    <tr>\n",
       "      <th>BaggingClassifier</th>\n",
       "      <td>0.977967</td>\n",
       "      <td>1153.0</td>\n",
       "      <td>10343.0</td>\n",
       "      <td>72.0</td>\n",
       "      <td>187.0</td>\n",
       "      <td>0.006913</td>\n",
       "      <td>0.139552</td>\n",
       "      <td>0.926767</td>\n",
       "      <td>0.887812</td>\n",
       "      <td>0.941224</td>\n",
       "      <td>0.860448</td>\n",
       "    </tr>\n",
       "    <tr>\n",
       "      <th>Neural Network-1</th>\n",
       "      <td>0.975755</td>\n",
       "      <td>1166.0</td>\n",
       "      <td>10304.0</td>\n",
       "      <td>111.0</td>\n",
       "      <td>174.0</td>\n",
       "      <td>0.010658</td>\n",
       "      <td>0.129851</td>\n",
       "      <td>0.926767</td>\n",
       "      <td>0.877787</td>\n",
       "      <td>0.913078</td>\n",
       "      <td>0.870149</td>\n",
       "    </tr>\n",
       "  </tbody>\n",
       "</table>\n",
       "</div>"
      ],
      "text/plain": [
       "                            accuracy      TP       TN     FP     FN       FPR  \\\n",
       "index                                                                           \n",
       "KNeighborsClassifier        0.975670  1131.0  10338.0   77.0  209.0  0.007393   \n",
       "RandomForestClassifier      0.980094  1158.0  10363.0   52.0  182.0  0.004993   \n",
       "AdaBoostClassifier          0.970651  1143.0  10267.0  148.0  197.0  0.014210   \n",
       "GradientBoostingClassifier  0.976861  1143.0  10340.0   75.0  197.0  0.007201   \n",
       "ExtraTreeClassifier         0.979668  1154.0  10362.0   53.0  186.0  0.005089   \n",
       "XGB                         0.975415  1131.0  10335.0   80.0  209.0  0.007681   \n",
       "BaggingClassifier           0.977967  1153.0  10343.0   72.0  187.0  0.006913   \n",
       "Neural Network-1            0.975755  1166.0  10304.0  111.0  174.0  0.010658   \n",
       "\n",
       "                                 FNR       auc       MCC  Precision    Recall  \n",
       "index                                                                          \n",
       "KNeighborsClassifier        0.155970  0.918318  0.875631   0.936258  0.844030  \n",
       "RandomForestClassifier      0.135821  0.929593  0.898573   0.957025  0.864179  \n",
       "AdaBoostClassifier          0.147015  0.919387  0.852541   0.885360  0.852985  \n",
       "GradientBoostingClassifier  0.147015  0.922892  0.881981   0.938424  0.852985  \n",
       "ExtraTreeClassifier         0.138806  0.928053  0.896335   0.956089  0.861194  \n",
       "XGB                         0.155970  0.918174  0.874369   0.933939  0.844030  \n",
       "BaggingClassifier           0.139552  0.926767  0.887812   0.941224  0.860448  \n",
       "Neural Network-1            0.129851  0.926767  0.877787   0.913078  0.870149  "
      ]
     },
     "metadata": {},
     "output_type": "display_data"
    }
   ],
   "source": [
    "table_80_50_train['index']=ind_columns\n",
    "table_80_50_test['index']=ind_columns\n",
    "\n",
    "\n",
    "table_80_50_test.set_index(['index'],drop=True,inplace=True)\n",
    "table_80_50_train.set_index(['index'],drop=True,inplace=True)\n",
    "\n",
    "print(\"Training Results\")\n",
    "display(table_80_50_train)\n",
    "print(\"Test Results\")\n",
    "display(table_80_50_test)"
   ]
  },
  {
   "cell_type": "markdown",
   "metadata": {},
   "source": [
    "### <a id='1.B' style=\"text-decoration : none; color : #000000;\"> B. Average Feature Importances</a>"
   ]
  },
  {
   "cell_type": "code",
   "execution_count": 12,
   "metadata": {},
   "outputs": [
    {
     "data": {
      "application/vnd.plotly.v1+json": {
       "config": {
        "linkText": "Export to plot.ly",
        "plotlyServerURL": "https://plot.ly",
        "showLink": true
       },
       "data": [
        {
         "marker": {
          "color": "rgb(158,202,225)",
          "line": {
           "color": "rgb(8,48,107)",
           "width": 1.5
          }
         },
         "opacity": 0.6,
         "orientation": "h",
         "text": [
          0.1453,
          0.1127,
          0.1031,
          0.0759,
          0.0451,
          0.0404,
          0.0389,
          0.0262,
          0.0247,
          0.0245,
          0.0238,
          0.0225,
          0.0218,
          0.0205,
          0.0181,
          0.0177,
          0.0176,
          0.0168,
          0.016,
          0.0151,
          0.0143,
          0.014,
          0.0139,
          0.0138,
          0.0135,
          0.0128,
          0.0122,
          0.0119,
          0.0113,
          0.0111,
          0.0099,
          0.0083,
          0.0072,
          0.0067,
          0.0062,
          0.0061
         ],
         "textposition": "outside",
         "type": "bar",
         "uid": "f86a7f6b-b65d-4a06-adf6-45d6a0d38a30",
         "x": [
          0.1453427597349468,
          0.11270076631610274,
          0.10309776540424989,
          0.07585062048221435,
          0.04513222301611921,
          0.04038288321764964,
          0.03891653514029176,
          0.02615854316176982,
          0.02473008061431122,
          0.02446829371005823,
          0.023821571404727758,
          0.02247807116744185,
          0.021786211205392408,
          0.020498275827357637,
          0.018138999108046446,
          0.017716094819287174,
          0.017603266039123867,
          0.01684154041767636,
          0.015969187813174544,
          0.01511682750375227,
          0.014320761201448474,
          0.014023373851844979,
          0.013890655742643648,
          0.013823017223075306,
          0.013496782214224923,
          0.012762354599325482,
          0.012197827751008661,
          0.01186319613396435,
          0.011265770806688804,
          0.011131920087047994,
          0.009942717329611436,
          0.008337969382063215,
          0.0071597203540258334,
          0.006736333621071684,
          0.006231969524906107,
          0.006065115097810003
         ],
         "y": [
          "url_extensions",
          "url_length",
          "total_count",
          "url_char_w",
          "url_char_.",
          "a_href_out_of_domain",
          "http_header_content-encoding_gzip",
          "total_href",
          "p_count",
          "meta_count",
          "http_header_server_apache",
          "a_count",
          "url_char_z",
          "push",
          "img_src_http",
          "a_href_relative",
          "link_type_text/css",
          "url_char_i",
          "a_href_https",
          "url_extension_.com",
          "url_char_y",
          "http_header_vary_user-agent",
          "form_action_http",
          "url_char_l",
          "link_href_out_of_domain",
          "url_extension_endswith_.com",
          "http_header_transfer-encoding_chunked",
          "http_header_cache-control_set_max-age",
          "a_href_http",
          "url_char_f",
          "url_char_p",
          "http_header_via_1.1",
          "center_count",
          "url_extension_.c",
          "iframe_src_.html",
          "script_async_true"
         ]
        }
       ],
       "layout": {
        "autosize": false,
        "height": 1000,
        "width": 1000,
        "xaxis": {
         "tickfont": {
          "color": "black",
          "size": 12
         },
         "title": "Feature Importances"
        },
        "yaxis": {
         "automargin": true
        }
       }
      },
      "text/html": [
       "<div id=\"1f06fcda-add7-4314-80bd-b1121118e2af\" style=\"height: 1000px; width: 1000px;\" class=\"plotly-graph-div\"></div><script type=\"text/javascript\">require([\"plotly\"], function(Plotly) { window.PLOTLYENV=window.PLOTLYENV || {};window.PLOTLYENV.BASE_URL=\"https://plot.ly\";Plotly.newPlot(\"1f06fcda-add7-4314-80bd-b1121118e2af\", [{\"marker\": {\"color\": \"rgb(158,202,225)\", \"line\": {\"color\": \"rgb(8,48,107)\", \"width\": 1.5}}, \"opacity\": 0.6, \"orientation\": \"h\", \"text\": [0.1453, 0.1127, 0.1031, 0.0759, 0.0451, 0.0404, 0.0389, 0.0262, 0.0247, 0.0245, 0.0238, 0.0225, 0.0218, 0.0205, 0.0181, 0.0177, 0.0176, 0.0168, 0.016, 0.0151, 0.0143, 0.014, 0.0139, 0.0138, 0.0135, 0.0128, 0.0122, 0.0119, 0.0113, 0.0111, 0.0099, 0.0083, 0.0072, 0.0067, 0.0062, 0.0061], \"textposition\": \"outside\", \"x\": [0.1453427597349468, 0.11270076631610274, 0.10309776540424989, 0.07585062048221435, 0.04513222301611921, 0.04038288321764964, 0.03891653514029176, 0.02615854316176982, 0.02473008061431122, 0.02446829371005823, 0.023821571404727758, 0.02247807116744185, 0.021786211205392408, 0.020498275827357637, 0.018138999108046446, 0.017716094819287174, 0.017603266039123867, 0.01684154041767636, 0.015969187813174544, 0.01511682750375227, 0.014320761201448474, 0.014023373851844979, 0.013890655742643648, 0.013823017223075306, 0.013496782214224923, 0.012762354599325482, 0.012197827751008661, 0.01186319613396435, 0.011265770806688804, 0.011131920087047994, 0.009942717329611436, 0.008337969382063215, 0.0071597203540258334, 0.006736333621071684, 0.006231969524906107, 0.006065115097810003], \"y\": [\"url_extensions\", \"url_length\", \"total_count\", \"url_char_w\", \"url_char_.\", \"a_href_out_of_domain\", \"http_header_content-encoding_gzip\", \"total_href\", \"p_count\", \"meta_count\", \"http_header_server_apache\", \"a_count\", \"url_char_z\", \"push\", \"img_src_http\", \"a_href_relative\", \"link_type_text/css\", \"url_char_i\", \"a_href_https\", \"url_extension_.com\", \"url_char_y\", \"http_header_vary_user-agent\", \"form_action_http\", \"url_char_l\", \"link_href_out_of_domain\", \"url_extension_endswith_.com\", \"http_header_transfer-encoding_chunked\", \"http_header_cache-control_set_max-age\", \"a_href_http\", \"url_char_f\", \"url_char_p\", \"http_header_via_1.1\", \"center_count\", \"url_extension_.c\", \"iframe_src_.html\", \"script_async_true\"], \"type\": \"bar\", \"uid\": \"f86a7f6b-b65d-4a06-adf6-45d6a0d38a30\"}], {\"autosize\": false, \"height\": 1000, \"width\": 1000, \"xaxis\": {\"tickfont\": {\"color\": \"black\", \"size\": 12}, \"title\": \"Feature Importances\"}, \"yaxis\": {\"automargin\": true}}, {\"showLink\": true, \"linkText\": \"Export to plot.ly\", \"plotlyServerURL\": \"https://plot.ly\"})});</script>"
      ],
      "text/vnd.plotly.v1+html": [
       "<div id=\"1f06fcda-add7-4314-80bd-b1121118e2af\" style=\"height: 1000px; width: 1000px;\" class=\"plotly-graph-div\"></div><script type=\"text/javascript\">require([\"plotly\"], function(Plotly) { window.PLOTLYENV=window.PLOTLYENV || {};window.PLOTLYENV.BASE_URL=\"https://plot.ly\";Plotly.newPlot(\"1f06fcda-add7-4314-80bd-b1121118e2af\", [{\"marker\": {\"color\": \"rgb(158,202,225)\", \"line\": {\"color\": \"rgb(8,48,107)\", \"width\": 1.5}}, \"opacity\": 0.6, \"orientation\": \"h\", \"text\": [0.1453, 0.1127, 0.1031, 0.0759, 0.0451, 0.0404, 0.0389, 0.0262, 0.0247, 0.0245, 0.0238, 0.0225, 0.0218, 0.0205, 0.0181, 0.0177, 0.0176, 0.0168, 0.016, 0.0151, 0.0143, 0.014, 0.0139, 0.0138, 0.0135, 0.0128, 0.0122, 0.0119, 0.0113, 0.0111, 0.0099, 0.0083, 0.0072, 0.0067, 0.0062, 0.0061], \"textposition\": \"outside\", \"x\": [0.1453427597349468, 0.11270076631610274, 0.10309776540424989, 0.07585062048221435, 0.04513222301611921, 0.04038288321764964, 0.03891653514029176, 0.02615854316176982, 0.02473008061431122, 0.02446829371005823, 0.023821571404727758, 0.02247807116744185, 0.021786211205392408, 0.020498275827357637, 0.018138999108046446, 0.017716094819287174, 0.017603266039123867, 0.01684154041767636, 0.015969187813174544, 0.01511682750375227, 0.014320761201448474, 0.014023373851844979, 0.013890655742643648, 0.013823017223075306, 0.013496782214224923, 0.012762354599325482, 0.012197827751008661, 0.01186319613396435, 0.011265770806688804, 0.011131920087047994, 0.009942717329611436, 0.008337969382063215, 0.0071597203540258334, 0.006736333621071684, 0.006231969524906107, 0.006065115097810003], \"y\": [\"url_extensions\", \"url_length\", \"total_count\", \"url_char_w\", \"url_char_.\", \"a_href_out_of_domain\", \"http_header_content-encoding_gzip\", \"total_href\", \"p_count\", \"meta_count\", \"http_header_server_apache\", \"a_count\", \"url_char_z\", \"push\", \"img_src_http\", \"a_href_relative\", \"link_type_text/css\", \"url_char_i\", \"a_href_https\", \"url_extension_.com\", \"url_char_y\", \"http_header_vary_user-agent\", \"form_action_http\", \"url_char_l\", \"link_href_out_of_domain\", \"url_extension_endswith_.com\", \"http_header_transfer-encoding_chunked\", \"http_header_cache-control_set_max-age\", \"a_href_http\", \"url_char_f\", \"url_char_p\", \"http_header_via_1.1\", \"center_count\", \"url_extension_.c\", \"iframe_src_.html\", \"script_async_true\"], \"type\": \"bar\", \"uid\": \"f86a7f6b-b65d-4a06-adf6-45d6a0d38a30\"}], {\"autosize\": false, \"height\": 1000, \"width\": 1000, \"xaxis\": {\"tickfont\": {\"color\": \"black\", \"size\": 12}, \"title\": \"Feature Importances\"}, \"yaxis\": {\"automargin\": true}}, {\"showLink\": true, \"linkText\": \"Export to plot.ly\", \"plotlyServerURL\": \"https://plot.ly\"})});</script>"
      ]
     },
     "metadata": {},
     "output_type": "display_data"
    }
   ],
   "source": [
    "feat_impt_plot(np.average(feat_imp,axis=0),columns)"
   ]
  },
  {
   "cell_type": "markdown",
   "metadata": {},
   "source": [
    "### <a id='2' style=\"text-decoration : none; color : #000000;\"> 2. OverSampling </a>"
   ]
  },
  {
   "cell_type": "code",
   "execution_count": 13,
   "metadata": {
    "scrolled": false
   },
   "outputs": [
    {
     "name": "stdout",
     "output_type": "stream",
     "text": [
      "\u001b[1mK-Nearest Neighbors\u001b[0m\n",
      "Accuracy of the model for training data is: 0.9822419533851277\n",
      "Confusion Matrix for training data is:\n"
     ]
    },
    {
     "data": {
      "text/plain": [
       "Predicted  False   True  __all__\n",
       "Actual                          \n",
       "False      23557    770    24327\n",
       "True          94  24233    24327\n",
       "__all__    23651  25003    48654"
      ]
     },
     "metadata": {},
     "output_type": "display_data"
    },
    {
     "name": "stdout",
     "output_type": "stream",
     "text": [
      "Accuracy of the model for test data is: 0.9487877498936623\n",
      "Confusion Matrix for test data is:\n"
     ]
    },
    {
     "data": {
      "text/plain": [
       "Predicted  False  True  __all__\n",
       "Actual                         \n",
       "False       9943   472    10415\n",
       "True         130  1210     1340\n",
       "__all__    10073  1682    11755"
      ]
     },
     "metadata": {},
     "output_type": "display_data"
    },
    {
     "name": "stdout",
     "output_type": "stream",
     "text": [
      "\n",
      "\n",
      "\u001b[1mRandomForest Classifier\u001b[0m\n",
      "Accuracy of the model for training data is: 0.998520162782094\n",
      "Confusion Matrix for training data is:\n"
     ]
    },
    {
     "data": {
      "text/plain": [
       "Predicted  False   True  __all__\n",
       "Actual                          \n",
       "False      24309     18    24327\n",
       "True          54  24273    24327\n",
       "__all__    24363  24291    48654"
      ]
     },
     "metadata": {},
     "output_type": "display_data"
    },
    {
     "name": "stdout",
     "output_type": "stream",
     "text": [
      "Accuracy of the model for test data is: 0.9789876648234793\n",
      "Confusion Matrix for test data is:\n"
     ]
    },
    {
     "data": {
      "text/plain": [
       "Predicted  False  True  __all__\n",
       "Actual                         \n",
       "False      10333    82    10415\n",
       "True         165  1175     1340\n",
       "__all__    10498  1257    11755"
      ]
     },
     "metadata": {},
     "output_type": "display_data"
    },
    {
     "data": {
      "application/vnd.plotly.v1+json": {
       "config": {
        "linkText": "Export to plot.ly",
        "plotlyServerURL": "https://plot.ly",
        "showLink": true
       },
       "data": [
        {
         "marker": {
          "color": "rgb(158,202,225)",
          "line": {
           "color": "rgb(8,48,107)",
           "width": 1.5
          }
         },
         "opacity": 0.6,
         "orientation": "h",
         "text": [
          0.1816,
          0.1371,
          0.0928,
          0.0684,
          0.0613,
          0.0607,
          0.0544,
          0.0386,
          0.0383,
          0.0345,
          0.0278,
          0.0248,
          0.0184,
          0.0177,
          0.0135,
          0.0122,
          0.0119,
          0.0113,
          0.0097,
          0.0085,
          0.0075,
          0.0074,
          0.0073,
          0.0063,
          0.0063,
          0.0059,
          0.0055,
          0.0054,
          0.0051,
          0.0047,
          0.0041,
          0.0041,
          0.0027,
          0.002,
          0.0018,
          0.0002
         ],
         "textposition": "outside",
         "type": "bar",
         "uid": "0974d0f8-76bb-4379-bbd5-4d6a6b744cf9",
         "x": [
          0.18162613989162593,
          0.13709605925717744,
          0.09283423663241784,
          0.06836091176444822,
          0.06134876475491575,
          0.06074114998665699,
          0.054444958795347914,
          0.0385818057874292,
          0.03830868855018515,
          0.03454966788265621,
          0.02783534184853238,
          0.024772976283292635,
          0.01836879564653415,
          0.017659812287876515,
          0.013476721789954972,
          0.012218040019176896,
          0.011946668907682893,
          0.011296566351584708,
          0.009706237962033923,
          0.008518613457322986,
          0.0075397362983094405,
          0.007420562396953016,
          0.007285251607096575,
          0.006279983550305784,
          0.00627445674348706,
          0.0059360888631030595,
          0.005534937728684525,
          0.005379123275294207,
          0.005117472252678102,
          0.004682205736863608,
          0.004095657336270675,
          0.004051380853141144,
          0.002675459702195172,
          0.0020362748296430216,
          0.0017664585962323689,
          0.00023279237288965424
         ],
         "y": [
          "a_count",
          "link_href_out_of_domain",
          "total_href",
          "url_length",
          "url_extensions",
          "a_href_out_of_domain",
          "a_href_https",
          "link_type_text/css",
          "a_href_http",
          "url_char_w",
          "total_count",
          "url_char_.",
          "meta_count",
          "url_char_i",
          "url_char_l",
          "a_href_relative",
          "http_header_content-encoding_gzip",
          "img_src_http",
          "http_header_transfer-encoding_chunked",
          "http_header_server_apache",
          "http_header_cache-control_set_max-age",
          "push",
          "url_char_p",
          "p_count",
          "http_header_vary_user-agent",
          "url_extension_.c",
          "url_char_z",
          "url_extension_endswith_.com",
          "script_async_true",
          "url_char_f",
          "url_extension_.com",
          "url_char_y",
          "form_action_http",
          "center_count",
          "http_header_via_1.1",
          "iframe_src_.html"
         ]
        }
       ],
       "layout": {
        "autosize": false,
        "height": 1000,
        "width": 1000,
        "xaxis": {
         "tickfont": {
          "color": "black",
          "size": 12
         },
         "title": "Feature Importances"
        },
        "yaxis": {
         "automargin": true
        }
       }
      },
      "text/html": [
       "<div id=\"592c1a89-1f96-4138-b942-07cd3690ffe4\" style=\"height: 1000px; width: 1000px;\" class=\"plotly-graph-div\"></div><script type=\"text/javascript\">require([\"plotly\"], function(Plotly) { window.PLOTLYENV=window.PLOTLYENV || {};window.PLOTLYENV.BASE_URL=\"https://plot.ly\";Plotly.newPlot(\"592c1a89-1f96-4138-b942-07cd3690ffe4\", [{\"marker\": {\"color\": \"rgb(158,202,225)\", \"line\": {\"color\": \"rgb(8,48,107)\", \"width\": 1.5}}, \"opacity\": 0.6, \"orientation\": \"h\", \"text\": [0.1816, 0.1371, 0.0928, 0.0684, 0.0613, 0.0607, 0.0544, 0.0386, 0.0383, 0.0345, 0.0278, 0.0248, 0.0184, 0.0177, 0.0135, 0.0122, 0.0119, 0.0113, 0.0097, 0.0085, 0.0075, 0.0074, 0.0073, 0.0063, 0.0063, 0.0059, 0.0055, 0.0054, 0.0051, 0.0047, 0.0041, 0.0041, 0.0027, 0.002, 0.0018, 0.0002], \"textposition\": \"outside\", \"x\": [0.18162613989162593, 0.13709605925717744, 0.09283423663241784, 0.06836091176444822, 0.06134876475491575, 0.06074114998665699, 0.054444958795347914, 0.0385818057874292, 0.03830868855018515, 0.03454966788265621, 0.02783534184853238, 0.024772976283292635, 0.01836879564653415, 0.017659812287876515, 0.013476721789954972, 0.012218040019176896, 0.011946668907682893, 0.011296566351584708, 0.009706237962033923, 0.008518613457322986, 0.0075397362983094405, 0.007420562396953016, 0.007285251607096575, 0.006279983550305784, 0.00627445674348706, 0.0059360888631030595, 0.005534937728684525, 0.005379123275294207, 0.005117472252678102, 0.004682205736863608, 0.004095657336270675, 0.004051380853141144, 0.002675459702195172, 0.0020362748296430216, 0.0017664585962323689, 0.00023279237288965424], \"y\": [\"a_count\", \"link_href_out_of_domain\", \"total_href\", \"url_length\", \"url_extensions\", \"a_href_out_of_domain\", \"a_href_https\", \"link_type_text/css\", \"a_href_http\", \"url_char_w\", \"total_count\", \"url_char_.\", \"meta_count\", \"url_char_i\", \"url_char_l\", \"a_href_relative\", \"http_header_content-encoding_gzip\", \"img_src_http\", \"http_header_transfer-encoding_chunked\", \"http_header_server_apache\", \"http_header_cache-control_set_max-age\", \"push\", \"url_char_p\", \"p_count\", \"http_header_vary_user-agent\", \"url_extension_.c\", \"url_char_z\", \"url_extension_endswith_.com\", \"script_async_true\", \"url_char_f\", \"url_extension_.com\", \"url_char_y\", \"form_action_http\", \"center_count\", \"http_header_via_1.1\", \"iframe_src_.html\"], \"type\": \"bar\", \"uid\": \"0974d0f8-76bb-4379-bbd5-4d6a6b744cf9\"}], {\"autosize\": false, \"height\": 1000, \"width\": 1000, \"xaxis\": {\"tickfont\": {\"color\": \"black\", \"size\": 12}, \"title\": \"Feature Importances\"}, \"yaxis\": {\"automargin\": true}}, {\"showLink\": true, \"linkText\": \"Export to plot.ly\", \"plotlyServerURL\": \"https://plot.ly\"})});</script>"
      ],
      "text/vnd.plotly.v1+html": [
       "<div id=\"592c1a89-1f96-4138-b942-07cd3690ffe4\" style=\"height: 1000px; width: 1000px;\" class=\"plotly-graph-div\"></div><script type=\"text/javascript\">require([\"plotly\"], function(Plotly) { window.PLOTLYENV=window.PLOTLYENV || {};window.PLOTLYENV.BASE_URL=\"https://plot.ly\";Plotly.newPlot(\"592c1a89-1f96-4138-b942-07cd3690ffe4\", [{\"marker\": {\"color\": \"rgb(158,202,225)\", \"line\": {\"color\": \"rgb(8,48,107)\", \"width\": 1.5}}, \"opacity\": 0.6, \"orientation\": \"h\", \"text\": [0.1816, 0.1371, 0.0928, 0.0684, 0.0613, 0.0607, 0.0544, 0.0386, 0.0383, 0.0345, 0.0278, 0.0248, 0.0184, 0.0177, 0.0135, 0.0122, 0.0119, 0.0113, 0.0097, 0.0085, 0.0075, 0.0074, 0.0073, 0.0063, 0.0063, 0.0059, 0.0055, 0.0054, 0.0051, 0.0047, 0.0041, 0.0041, 0.0027, 0.002, 0.0018, 0.0002], \"textposition\": \"outside\", \"x\": [0.18162613989162593, 0.13709605925717744, 0.09283423663241784, 0.06836091176444822, 0.06134876475491575, 0.06074114998665699, 0.054444958795347914, 0.0385818057874292, 0.03830868855018515, 0.03454966788265621, 0.02783534184853238, 0.024772976283292635, 0.01836879564653415, 0.017659812287876515, 0.013476721789954972, 0.012218040019176896, 0.011946668907682893, 0.011296566351584708, 0.009706237962033923, 0.008518613457322986, 0.0075397362983094405, 0.007420562396953016, 0.007285251607096575, 0.006279983550305784, 0.00627445674348706, 0.0059360888631030595, 0.005534937728684525, 0.005379123275294207, 0.005117472252678102, 0.004682205736863608, 0.004095657336270675, 0.004051380853141144, 0.002675459702195172, 0.0020362748296430216, 0.0017664585962323689, 0.00023279237288965424], \"y\": [\"a_count\", \"link_href_out_of_domain\", \"total_href\", \"url_length\", \"url_extensions\", \"a_href_out_of_domain\", \"a_href_https\", \"link_type_text/css\", \"a_href_http\", \"url_char_w\", \"total_count\", \"url_char_.\", \"meta_count\", \"url_char_i\", \"url_char_l\", \"a_href_relative\", \"http_header_content-encoding_gzip\", \"img_src_http\", \"http_header_transfer-encoding_chunked\", \"http_header_server_apache\", \"http_header_cache-control_set_max-age\", \"push\", \"url_char_p\", \"p_count\", \"http_header_vary_user-agent\", \"url_extension_.c\", \"url_char_z\", \"url_extension_endswith_.com\", \"script_async_true\", \"url_char_f\", \"url_extension_.com\", \"url_char_y\", \"form_action_http\", \"center_count\", \"http_header_via_1.1\", \"iframe_src_.html\"], \"type\": \"bar\", \"uid\": \"0974d0f8-76bb-4379-bbd5-4d6a6b744cf9\"}], {\"autosize\": false, \"height\": 1000, \"width\": 1000, \"xaxis\": {\"tickfont\": {\"color\": \"black\", \"size\": 12}, \"title\": \"Feature Importances\"}, \"yaxis\": {\"automargin\": true}}, {\"showLink\": true, \"linkText\": \"Export to plot.ly\", \"plotlyServerURL\": \"https://plot.ly\"})});</script>"
      ]
     },
     "metadata": {},
     "output_type": "display_data"
    },
    {
     "name": "stdout",
     "output_type": "stream",
     "text": [
      "\n",
      "\n",
      "\u001b[1mAdaoost Classifier\u001b[0m\n",
      "Accuracy of the model for training data is: 0.956776421260328\n",
      "Confusion Matrix for training data is:\n"
     ]
    },
    {
     "data": {
      "text/plain": [
       "Predicted  False   True  __all__\n",
       "Actual                          \n",
       "False      23196   1131    24327\n",
       "True         972  23355    24327\n",
       "__all__    24168  24486    48654"
      ]
     },
     "metadata": {},
     "output_type": "display_data"
    },
    {
     "name": "stdout",
     "output_type": "stream",
     "text": [
      "Accuracy of the model for test data is: 0.9508294342832837\n",
      "Confusion Matrix for test data is:\n"
     ]
    },
    {
     "data": {
      "text/plain": [
       "Predicted  False  True  __all__\n",
       "Actual                         \n",
       "False       9938   477    10415\n",
       "True         101  1239     1340\n",
       "__all__    10039  1716    11755"
      ]
     },
     "metadata": {},
     "output_type": "display_data"
    },
    {
     "data": {
      "application/vnd.plotly.v1+json": {
       "config": {
        "linkText": "Export to plot.ly",
        "plotlyServerURL": "https://plot.ly",
        "showLink": true
       },
       "data": [
        {
         "marker": {
          "color": "rgb(158,202,225)",
          "line": {
           "color": "rgb(8,48,107)",
           "width": 1.5
          }
         },
         "opacity": 0.6,
         "orientation": "h",
         "text": [
          0.12,
          0.1,
          0.1,
          0.08,
          0.08,
          0.06,
          0.06,
          0.04,
          0.04,
          0.04,
          0.02,
          0.02,
          0.02,
          0.02,
          0.02,
          0.02,
          0.02,
          0.02,
          0.02,
          0.02,
          0.02,
          0.02,
          0.02,
          0.02,
          0,
          0,
          0,
          0,
          0,
          0,
          0,
          0,
          0,
          0,
          0,
          0
         ],
         "textposition": "outside",
         "type": "bar",
         "uid": "6f572cea-13de-47f3-a75d-7cd116c9e06e",
         "x": [
          0.12,
          0.1,
          0.1,
          0.08,
          0.08,
          0.06,
          0.06,
          0.04,
          0.04,
          0.04,
          0.02,
          0.02,
          0.02,
          0.02,
          0.02,
          0.02,
          0.02,
          0.02,
          0.02,
          0.02,
          0.02,
          0.02,
          0.02,
          0.02,
          0,
          0,
          0,
          0,
          0,
          0,
          0,
          0,
          0,
          0,
          0,
          0
         ],
         "y": [
          "total_count",
          "url_extensions",
          "url_char_w",
          "push",
          "url_char_l",
          "center_count",
          "url_length",
          "link_type_text/css",
          "p_count",
          "url_char_i",
          "form_action_http",
          "http_header_server_apache",
          "url_extension_.com",
          "url_extension_.c",
          "url_char_z",
          "a_href_out_of_domain",
          "url_char_f",
          "http_header_via_1.1",
          "iframe_src_.html",
          "http_header_vary_user-agent",
          "http_header_cache-control_set_max-age",
          "link_href_out_of_domain",
          "img_src_http",
          "http_header_content-encoding_gzip",
          "http_header_transfer-encoding_chunked",
          "a_count",
          "url_char_.",
          "total_href",
          "a_href_relative",
          "script_async_true",
          "url_char_p",
          "a_href_https",
          "url_char_y",
          "meta_count",
          "url_extension_endswith_.com",
          "a_href_http"
         ]
        }
       ],
       "layout": {
        "autosize": false,
        "height": 1000,
        "width": 1000,
        "xaxis": {
         "tickfont": {
          "color": "black",
          "size": 12
         },
         "title": "Feature Importances"
        },
        "yaxis": {
         "automargin": true
        }
       }
      },
      "text/html": [
       "<div id=\"05878c33-2d59-4d23-bb11-5a1fd612b6ae\" style=\"height: 1000px; width: 1000px;\" class=\"plotly-graph-div\"></div><script type=\"text/javascript\">require([\"plotly\"], function(Plotly) { window.PLOTLYENV=window.PLOTLYENV || {};window.PLOTLYENV.BASE_URL=\"https://plot.ly\";Plotly.newPlot(\"05878c33-2d59-4d23-bb11-5a1fd612b6ae\", [{\"marker\": {\"color\": \"rgb(158,202,225)\", \"line\": {\"color\": \"rgb(8,48,107)\", \"width\": 1.5}}, \"opacity\": 0.6, \"orientation\": \"h\", \"text\": [0.12, 0.1, 0.1, 0.08, 0.08, 0.06, 0.06, 0.04, 0.04, 0.04, 0.02, 0.02, 0.02, 0.02, 0.02, 0.02, 0.02, 0.02, 0.02, 0.02, 0.02, 0.02, 0.02, 0.02, 0.0, 0.0, 0.0, 0.0, 0.0, 0.0, 0.0, 0.0, 0.0, 0.0, 0.0, 0.0], \"textposition\": \"outside\", \"x\": [0.12, 0.1, 0.1, 0.08, 0.08, 0.06, 0.06, 0.04, 0.04, 0.04, 0.02, 0.02, 0.02, 0.02, 0.02, 0.02, 0.02, 0.02, 0.02, 0.02, 0.02, 0.02, 0.02, 0.02, 0.0, 0.0, 0.0, 0.0, 0.0, 0.0, 0.0, 0.0, 0.0, 0.0, 0.0, 0.0], \"y\": [\"total_count\", \"url_extensions\", \"url_char_w\", \"push\", \"url_char_l\", \"center_count\", \"url_length\", \"link_type_text/css\", \"p_count\", \"url_char_i\", \"form_action_http\", \"http_header_server_apache\", \"url_extension_.com\", \"url_extension_.c\", \"url_char_z\", \"a_href_out_of_domain\", \"url_char_f\", \"http_header_via_1.1\", \"iframe_src_.html\", \"http_header_vary_user-agent\", \"http_header_cache-control_set_max-age\", \"link_href_out_of_domain\", \"img_src_http\", \"http_header_content-encoding_gzip\", \"http_header_transfer-encoding_chunked\", \"a_count\", \"url_char_.\", \"total_href\", \"a_href_relative\", \"script_async_true\", \"url_char_p\", \"a_href_https\", \"url_char_y\", \"meta_count\", \"url_extension_endswith_.com\", \"a_href_http\"], \"type\": \"bar\", \"uid\": \"6f572cea-13de-47f3-a75d-7cd116c9e06e\"}], {\"autosize\": false, \"height\": 1000, \"width\": 1000, \"xaxis\": {\"tickfont\": {\"color\": \"black\", \"size\": 12}, \"title\": \"Feature Importances\"}, \"yaxis\": {\"automargin\": true}}, {\"showLink\": true, \"linkText\": \"Export to plot.ly\", \"plotlyServerURL\": \"https://plot.ly\"})});</script>"
      ],
      "text/vnd.plotly.v1+html": [
       "<div id=\"05878c33-2d59-4d23-bb11-5a1fd612b6ae\" style=\"height: 1000px; width: 1000px;\" class=\"plotly-graph-div\"></div><script type=\"text/javascript\">require([\"plotly\"], function(Plotly) { window.PLOTLYENV=window.PLOTLYENV || {};window.PLOTLYENV.BASE_URL=\"https://plot.ly\";Plotly.newPlot(\"05878c33-2d59-4d23-bb11-5a1fd612b6ae\", [{\"marker\": {\"color\": \"rgb(158,202,225)\", \"line\": {\"color\": \"rgb(8,48,107)\", \"width\": 1.5}}, \"opacity\": 0.6, \"orientation\": \"h\", \"text\": [0.12, 0.1, 0.1, 0.08, 0.08, 0.06, 0.06, 0.04, 0.04, 0.04, 0.02, 0.02, 0.02, 0.02, 0.02, 0.02, 0.02, 0.02, 0.02, 0.02, 0.02, 0.02, 0.02, 0.02, 0.0, 0.0, 0.0, 0.0, 0.0, 0.0, 0.0, 0.0, 0.0, 0.0, 0.0, 0.0], \"textposition\": \"outside\", \"x\": [0.12, 0.1, 0.1, 0.08, 0.08, 0.06, 0.06, 0.04, 0.04, 0.04, 0.02, 0.02, 0.02, 0.02, 0.02, 0.02, 0.02, 0.02, 0.02, 0.02, 0.02, 0.02, 0.02, 0.02, 0.0, 0.0, 0.0, 0.0, 0.0, 0.0, 0.0, 0.0, 0.0, 0.0, 0.0, 0.0], \"y\": [\"total_count\", \"url_extensions\", \"url_char_w\", \"push\", \"url_char_l\", \"center_count\", \"url_length\", \"link_type_text/css\", \"p_count\", \"url_char_i\", \"form_action_http\", \"http_header_server_apache\", \"url_extension_.com\", \"url_extension_.c\", \"url_char_z\", \"a_href_out_of_domain\", \"url_char_f\", \"http_header_via_1.1\", \"iframe_src_.html\", \"http_header_vary_user-agent\", \"http_header_cache-control_set_max-age\", \"link_href_out_of_domain\", \"img_src_http\", \"http_header_content-encoding_gzip\", \"http_header_transfer-encoding_chunked\", \"a_count\", \"url_char_.\", \"total_href\", \"a_href_relative\", \"script_async_true\", \"url_char_p\", \"a_href_https\", \"url_char_y\", \"meta_count\", \"url_extension_endswith_.com\", \"a_href_http\"], \"type\": \"bar\", \"uid\": \"6f572cea-13de-47f3-a75d-7cd116c9e06e\"}], {\"autosize\": false, \"height\": 1000, \"width\": 1000, \"xaxis\": {\"tickfont\": {\"color\": \"black\", \"size\": 12}, \"title\": \"Feature Importances\"}, \"yaxis\": {\"automargin\": true}}, {\"showLink\": true, \"linkText\": \"Export to plot.ly\", \"plotlyServerURL\": \"https://plot.ly\"})});</script>"
      ]
     },
     "metadata": {},
     "output_type": "display_data"
    },
    {
     "name": "stdout",
     "output_type": "stream",
     "text": [
      "\n",
      "\n",
      "\u001b[1mGradientBoosting Classifier\u001b[0m\n",
      "Accuracy of the model for training data is: 0.9727874378262835\n",
      "Confusion Matrix for training data is:\n"
     ]
    },
    {
     "data": {
      "text/plain": [
       "Predicted  False   True  __all__\n",
       "Actual                          \n",
       "False      23673    654    24327\n",
       "True         670  23657    24327\n",
       "__all__    24343  24311    48654"
      ]
     },
     "metadata": {},
     "output_type": "display_data"
    },
    {
     "name": "stdout",
     "output_type": "stream",
     "text": [
      "Accuracy of the model for test data is: 0.9638451722671204\n",
      "Confusion Matrix for test data is:\n"
     ]
    },
    {
     "data": {
      "text/plain": [
       "Predicted  False  True  __all__\n",
       "Actual                         \n",
       "False      10111   304    10415\n",
       "True         121  1219     1340\n",
       "__all__    10232  1523    11755"
      ]
     },
     "metadata": {},
     "output_type": "display_data"
    },
    {
     "data": {
      "application/vnd.plotly.v1+json": {
       "config": {
        "linkText": "Export to plot.ly",
        "plotlyServerURL": "https://plot.ly",
        "showLink": true
       },
       "data": [
        {
         "marker": {
          "color": "rgb(158,202,225)",
          "line": {
           "color": "rgb(8,48,107)",
           "width": 1.5
          }
         },
         "opacity": 0.6,
         "orientation": "h",
         "text": [
          0.338,
          0.1727,
          0.091,
          0.0727,
          0.071,
          0.0602,
          0.0403,
          0.0264,
          0.0205,
          0.0169,
          0.0131,
          0.013,
          0.0125,
          0.0078,
          0.0056,
          0.0046,
          0.0041,
          0.0039,
          0.0036,
          0.003,
          0.0026,
          0.0024,
          0.0019,
          0.0017,
          0.0016,
          0.0016,
          0.0014,
          0.0013,
          0.0012,
          0.001,
          0.001,
          0.0006,
          0.0005,
          0.0003,
          0.0002,
          0
         ],
         "textposition": "outside",
         "type": "bar",
         "uid": "34d0ddc9-82fd-4f32-bdef-5c2414888cc3",
         "x": [
          0.33796306549368627,
          0.1727029459111905,
          0.09104224297604183,
          0.07268916680007419,
          0.07097569723387367,
          0.060203331237772856,
          0.04034877206651732,
          0.026433084804274067,
          0.020496428597237566,
          0.016949947458440535,
          0.013122684745274787,
          0.01298945262368978,
          0.012486431359424297,
          0.007755736659808636,
          0.005552222778758726,
          0.004631608710956555,
          0.004056531508306576,
          0.003943530621263176,
          0.003640392253010144,
          0.002969520324617825,
          0.0025886368479287616,
          0.0023825798790090874,
          0.001899311046226246,
          0.0016923457917744054,
          0.0016104416428369673,
          0.001590610265579665,
          0.0013525110927580088,
          0.0012663962933765836,
          0.0011841260848741914,
          0.0009772028605880853,
          0.0009587958282221489,
          0.0005543470267169133,
          0.0004589383158344387,
          0.00031511942524086334,
          0.00021584343481419264,
          0
         ],
         "y": [
          "total_count",
          "total_href",
          "url_length",
          "url_char_w",
          "meta_count",
          "url_extensions",
          "link_href_out_of_domain",
          "a_href_out_of_domain",
          "url_char_z",
          "http_header_content-encoding_gzip",
          "push",
          "http_header_server_apache",
          "url_char_i",
          "url_char_.",
          "http_header_cache-control_set_max-age",
          "http_header_vary_user-agent",
          "img_src_http",
          "a_href_https",
          "url_extension_.c",
          "http_header_via_1.1",
          "a_count",
          "url_extension_.com",
          "center_count",
          "http_header_transfer-encoding_chunked",
          "url_char_f",
          "url_char_l",
          "link_type_text/css",
          "script_async_true",
          "p_count",
          "a_href_relative",
          "a_href_http",
          "form_action_http",
          "url_extension_endswith_.com",
          "url_char_p",
          "url_char_y",
          "iframe_src_.html"
         ]
        }
       ],
       "layout": {
        "autosize": false,
        "height": 1000,
        "width": 1000,
        "xaxis": {
         "tickfont": {
          "color": "black",
          "size": 12
         },
         "title": "Feature Importances"
        },
        "yaxis": {
         "automargin": true
        }
       }
      },
      "text/html": [
       "<div id=\"41a7d2ee-9e1d-4935-aecc-fa814eb21376\" style=\"height: 1000px; width: 1000px;\" class=\"plotly-graph-div\"></div><script type=\"text/javascript\">require([\"plotly\"], function(Plotly) { window.PLOTLYENV=window.PLOTLYENV || {};window.PLOTLYENV.BASE_URL=\"https://plot.ly\";Plotly.newPlot(\"41a7d2ee-9e1d-4935-aecc-fa814eb21376\", [{\"marker\": {\"color\": \"rgb(158,202,225)\", \"line\": {\"color\": \"rgb(8,48,107)\", \"width\": 1.5}}, \"opacity\": 0.6, \"orientation\": \"h\", \"text\": [0.338, 0.1727, 0.091, 0.0727, 0.071, 0.0602, 0.0403, 0.0264, 0.0205, 0.0169, 0.0131, 0.013, 0.0125, 0.0078, 0.0056, 0.0046, 0.0041, 0.0039, 0.0036, 0.003, 0.0026, 0.0024, 0.0019, 0.0017, 0.0016, 0.0016, 0.0014, 0.0013, 0.0012, 0.001, 0.001, 0.0006, 0.0005, 0.0003, 0.0002, 0.0], \"textposition\": \"outside\", \"x\": [0.33796306549368627, 0.1727029459111905, 0.09104224297604183, 0.07268916680007419, 0.07097569723387367, 0.060203331237772856, 0.04034877206651732, 0.026433084804274067, 0.020496428597237566, 0.016949947458440535, 0.013122684745274787, 0.01298945262368978, 0.012486431359424297, 0.007755736659808636, 0.005552222778758726, 0.004631608710956555, 0.004056531508306576, 0.003943530621263176, 0.003640392253010144, 0.002969520324617825, 0.0025886368479287616, 0.0023825798790090874, 0.001899311046226246, 0.0016923457917744054, 0.0016104416428369673, 0.001590610265579665, 0.0013525110927580088, 0.0012663962933765836, 0.0011841260848741914, 0.0009772028605880853, 0.0009587958282221489, 0.0005543470267169133, 0.0004589383158344387, 0.00031511942524086334, 0.00021584343481419264, 0.0], \"y\": [\"total_count\", \"total_href\", \"url_length\", \"url_char_w\", \"meta_count\", \"url_extensions\", \"link_href_out_of_domain\", \"a_href_out_of_domain\", \"url_char_z\", \"http_header_content-encoding_gzip\", \"push\", \"http_header_server_apache\", \"url_char_i\", \"url_char_.\", \"http_header_cache-control_set_max-age\", \"http_header_vary_user-agent\", \"img_src_http\", \"a_href_https\", \"url_extension_.c\", \"http_header_via_1.1\", \"a_count\", \"url_extension_.com\", \"center_count\", \"http_header_transfer-encoding_chunked\", \"url_char_f\", \"url_char_l\", \"link_type_text/css\", \"script_async_true\", \"p_count\", \"a_href_relative\", \"a_href_http\", \"form_action_http\", \"url_extension_endswith_.com\", \"url_char_p\", \"url_char_y\", \"iframe_src_.html\"], \"type\": \"bar\", \"uid\": \"34d0ddc9-82fd-4f32-bdef-5c2414888cc3\"}], {\"autosize\": false, \"height\": 1000, \"width\": 1000, \"xaxis\": {\"tickfont\": {\"color\": \"black\", \"size\": 12}, \"title\": \"Feature Importances\"}, \"yaxis\": {\"automargin\": true}}, {\"showLink\": true, \"linkText\": \"Export to plot.ly\", \"plotlyServerURL\": \"https://plot.ly\"})});</script>"
      ],
      "text/vnd.plotly.v1+html": [
       "<div id=\"41a7d2ee-9e1d-4935-aecc-fa814eb21376\" style=\"height: 1000px; width: 1000px;\" class=\"plotly-graph-div\"></div><script type=\"text/javascript\">require([\"plotly\"], function(Plotly) { window.PLOTLYENV=window.PLOTLYENV || {};window.PLOTLYENV.BASE_URL=\"https://plot.ly\";Plotly.newPlot(\"41a7d2ee-9e1d-4935-aecc-fa814eb21376\", [{\"marker\": {\"color\": \"rgb(158,202,225)\", \"line\": {\"color\": \"rgb(8,48,107)\", \"width\": 1.5}}, \"opacity\": 0.6, \"orientation\": \"h\", \"text\": [0.338, 0.1727, 0.091, 0.0727, 0.071, 0.0602, 0.0403, 0.0264, 0.0205, 0.0169, 0.0131, 0.013, 0.0125, 0.0078, 0.0056, 0.0046, 0.0041, 0.0039, 0.0036, 0.003, 0.0026, 0.0024, 0.0019, 0.0017, 0.0016, 0.0016, 0.0014, 0.0013, 0.0012, 0.001, 0.001, 0.0006, 0.0005, 0.0003, 0.0002, 0.0], \"textposition\": \"outside\", \"x\": [0.33796306549368627, 0.1727029459111905, 0.09104224297604183, 0.07268916680007419, 0.07097569723387367, 0.060203331237772856, 0.04034877206651732, 0.026433084804274067, 0.020496428597237566, 0.016949947458440535, 0.013122684745274787, 0.01298945262368978, 0.012486431359424297, 0.007755736659808636, 0.005552222778758726, 0.004631608710956555, 0.004056531508306576, 0.003943530621263176, 0.003640392253010144, 0.002969520324617825, 0.0025886368479287616, 0.0023825798790090874, 0.001899311046226246, 0.0016923457917744054, 0.0016104416428369673, 0.001590610265579665, 0.0013525110927580088, 0.0012663962933765836, 0.0011841260848741914, 0.0009772028605880853, 0.0009587958282221489, 0.0005543470267169133, 0.0004589383158344387, 0.00031511942524086334, 0.00021584343481419264, 0.0], \"y\": [\"total_count\", \"total_href\", \"url_length\", \"url_char_w\", \"meta_count\", \"url_extensions\", \"link_href_out_of_domain\", \"a_href_out_of_domain\", \"url_char_z\", \"http_header_content-encoding_gzip\", \"push\", \"http_header_server_apache\", \"url_char_i\", \"url_char_.\", \"http_header_cache-control_set_max-age\", \"http_header_vary_user-agent\", \"img_src_http\", \"a_href_https\", \"url_extension_.c\", \"http_header_via_1.1\", \"a_count\", \"url_extension_.com\", \"center_count\", \"http_header_transfer-encoding_chunked\", \"url_char_f\", \"url_char_l\", \"link_type_text/css\", \"script_async_true\", \"p_count\", \"a_href_relative\", \"a_href_http\", \"form_action_http\", \"url_extension_endswith_.com\", \"url_char_p\", \"url_char_y\", \"iframe_src_.html\"], \"type\": \"bar\", \"uid\": \"34d0ddc9-82fd-4f32-bdef-5c2414888cc3\"}], {\"autosize\": false, \"height\": 1000, \"width\": 1000, \"xaxis\": {\"tickfont\": {\"color\": \"black\", \"size\": 12}, \"title\": \"Feature Importances\"}, \"yaxis\": {\"automargin\": true}}, {\"showLink\": true, \"linkText\": \"Export to plot.ly\", \"plotlyServerURL\": \"https://plot.ly\"})});</script>"
      ]
     },
     "metadata": {},
     "output_type": "display_data"
    },
    {
     "name": "stdout",
     "output_type": "stream",
     "text": [
      "\n",
      "\n",
      "\u001b[1mExtraTree Classifier\u001b[0m\n",
      "Accuracy of the model for training data is: 0.9991778682122744\n",
      "Confusion Matrix for training data is:\n"
     ]
    },
    {
     "data": {
      "text/plain": [
       "Predicted  False   True  __all__\n",
       "Actual                          \n",
       "False      24324      3    24327\n",
       "True          37  24290    24327\n",
       "__all__    24361  24293    48654"
      ]
     },
     "metadata": {},
     "output_type": "display_data"
    },
    {
     "name": "stdout",
     "output_type": "stream",
     "text": [
      "Accuracy of the model for test data is: 0.9796682262866865\n",
      "Confusion Matrix for test data is:\n"
     ]
    },
    {
     "data": {
      "text/plain": [
       "Predicted  False  True  __all__\n",
       "Actual                         \n",
       "False      10338    77    10415\n",
       "True         162  1178     1340\n",
       "__all__    10500  1255    11755"
      ]
     },
     "metadata": {},
     "output_type": "display_data"
    },
    {
     "data": {
      "application/vnd.plotly.v1+json": {
       "config": {
        "linkText": "Export to plot.ly",
        "plotlyServerURL": "https://plot.ly",
        "showLink": true
       },
       "data": [
        {
         "marker": {
          "color": "rgb(158,202,225)",
          "line": {
           "color": "rgb(8,48,107)",
           "width": 1.5
          }
         },
         "opacity": 0.6,
         "orientation": "h",
         "text": [
          0.2161,
          0.1211,
          0.0672,
          0.0599,
          0.0549,
          0.0492,
          0.0434,
          0.0295,
          0.0284,
          0.0257,
          0.0206,
          0.0201,
          0.0188,
          0.0181,
          0.0173,
          0.0166,
          0.0155,
          0.0153,
          0.013,
          0.0118,
          0.0116,
          0.0113,
          0.0111,
          0.0106,
          0.0105,
          0.0101,
          0.01,
          0.0097,
          0.0094,
          0.0092,
          0.0078,
          0.0072,
          0.0062,
          0.0055,
          0.0043,
          0.0032
         ],
         "textposition": "outside",
         "type": "bar",
         "uid": "850686b2-a502-474b-a444-cdefaf1087ff",
         "x": [
          0.21605228772557875,
          0.1210554937792436,
          0.06721624179989868,
          0.05988899586993297,
          0.05489025812686974,
          0.04918859914710858,
          0.04341046357893717,
          0.029473052103724744,
          0.028374473790072647,
          0.025722628469594548,
          0.020567857659870886,
          0.02012993353428557,
          0.018826896196464566,
          0.01813424473772842,
          0.017292690884924758,
          0.016644174658898257,
          0.015459218220361198,
          0.015251726270117805,
          0.013008528984596346,
          0.011757899365936983,
          0.011579148216203063,
          0.011278895843527611,
          0.011103645210363467,
          0.010625930161670086,
          0.010493164513103304,
          0.010079501839069279,
          0.009956316160977524,
          0.009721403430471941,
          0.009429684515625383,
          0.009177959068361243,
          0.007828344531824686,
          0.007187553023770421,
          0.006198466347870708,
          0.005502554056545242,
          0.0042937643676735655,
          0.0031980038087963077
         ],
         "y": [
          "http_header_content-encoding_gzip",
          "http_header_transfer-encoding_chunked",
          "url_char_.",
          "url_length",
          "url_char_w",
          "url_extensions",
          "http_header_cache-control_set_max-age",
          "url_char_i",
          "url_char_z",
          "url_extension_endswith_.com",
          "a_href_relative",
          "p_count",
          "url_char_l",
          "a_href_out_of_domain",
          "http_header_vary_user-agent",
          "http_header_server_apache",
          "total_href",
          "url_char_y",
          "total_count",
          "url_extension_.c",
          "link_href_out_of_domain",
          "url_char_p",
          "script_async_true",
          "a_count",
          "a_href_http",
          "link_type_text/css",
          "http_header_via_1.1",
          "url_char_f",
          "a_href_https",
          "meta_count",
          "push",
          "url_extension_.com",
          "iframe_src_.html",
          "form_action_http",
          "img_src_http",
          "center_count"
         ]
        }
       ],
       "layout": {
        "autosize": false,
        "height": 1000,
        "width": 1000,
        "xaxis": {
         "tickfont": {
          "color": "black",
          "size": 12
         },
         "title": "Feature Importances"
        },
        "yaxis": {
         "automargin": true
        }
       }
      },
      "text/html": [
       "<div id=\"c27c59bb-5623-4503-ae91-8b7c7931ad4c\" style=\"height: 1000px; width: 1000px;\" class=\"plotly-graph-div\"></div><script type=\"text/javascript\">require([\"plotly\"], function(Plotly) { window.PLOTLYENV=window.PLOTLYENV || {};window.PLOTLYENV.BASE_URL=\"https://plot.ly\";Plotly.newPlot(\"c27c59bb-5623-4503-ae91-8b7c7931ad4c\", [{\"marker\": {\"color\": \"rgb(158,202,225)\", \"line\": {\"color\": \"rgb(8,48,107)\", \"width\": 1.5}}, \"opacity\": 0.6, \"orientation\": \"h\", \"text\": [0.2161, 0.1211, 0.0672, 0.0599, 0.0549, 0.0492, 0.0434, 0.0295, 0.0284, 0.0257, 0.0206, 0.0201, 0.0188, 0.0181, 0.0173, 0.0166, 0.0155, 0.0153, 0.013, 0.0118, 0.0116, 0.0113, 0.0111, 0.0106, 0.0105, 0.0101, 0.01, 0.0097, 0.0094, 0.0092, 0.0078, 0.0072, 0.0062, 0.0055, 0.0043, 0.0032], \"textposition\": \"outside\", \"x\": [0.21605228772557875, 0.1210554937792436, 0.06721624179989868, 0.05988899586993297, 0.05489025812686974, 0.04918859914710858, 0.04341046357893717, 0.029473052103724744, 0.028374473790072647, 0.025722628469594548, 0.020567857659870886, 0.02012993353428557, 0.018826896196464566, 0.01813424473772842, 0.017292690884924758, 0.016644174658898257, 0.015459218220361198, 0.015251726270117805, 0.013008528984596346, 0.011757899365936983, 0.011579148216203063, 0.011278895843527611, 0.011103645210363467, 0.010625930161670086, 0.010493164513103304, 0.010079501839069279, 0.009956316160977524, 0.009721403430471941, 0.009429684515625383, 0.009177959068361243, 0.007828344531824686, 0.007187553023770421, 0.006198466347870708, 0.005502554056545242, 0.0042937643676735655, 0.0031980038087963077], \"y\": [\"http_header_content-encoding_gzip\", \"http_header_transfer-encoding_chunked\", \"url_char_.\", \"url_length\", \"url_char_w\", \"url_extensions\", \"http_header_cache-control_set_max-age\", \"url_char_i\", \"url_char_z\", \"url_extension_endswith_.com\", \"a_href_relative\", \"p_count\", \"url_char_l\", \"a_href_out_of_domain\", \"http_header_vary_user-agent\", \"http_header_server_apache\", \"total_href\", \"url_char_y\", \"total_count\", \"url_extension_.c\", \"link_href_out_of_domain\", \"url_char_p\", \"script_async_true\", \"a_count\", \"a_href_http\", \"link_type_text/css\", \"http_header_via_1.1\", \"url_char_f\", \"a_href_https\", \"meta_count\", \"push\", \"url_extension_.com\", \"iframe_src_.html\", \"form_action_http\", \"img_src_http\", \"center_count\"], \"type\": \"bar\", \"uid\": \"850686b2-a502-474b-a444-cdefaf1087ff\"}], {\"autosize\": false, \"height\": 1000, \"width\": 1000, \"xaxis\": {\"tickfont\": {\"color\": \"black\", \"size\": 12}, \"title\": \"Feature Importances\"}, \"yaxis\": {\"automargin\": true}}, {\"showLink\": true, \"linkText\": \"Export to plot.ly\", \"plotlyServerURL\": \"https://plot.ly\"})});</script>"
      ],
      "text/vnd.plotly.v1+html": [
       "<div id=\"c27c59bb-5623-4503-ae91-8b7c7931ad4c\" style=\"height: 1000px; width: 1000px;\" class=\"plotly-graph-div\"></div><script type=\"text/javascript\">require([\"plotly\"], function(Plotly) { window.PLOTLYENV=window.PLOTLYENV || {};window.PLOTLYENV.BASE_URL=\"https://plot.ly\";Plotly.newPlot(\"c27c59bb-5623-4503-ae91-8b7c7931ad4c\", [{\"marker\": {\"color\": \"rgb(158,202,225)\", \"line\": {\"color\": \"rgb(8,48,107)\", \"width\": 1.5}}, \"opacity\": 0.6, \"orientation\": \"h\", \"text\": [0.2161, 0.1211, 0.0672, 0.0599, 0.0549, 0.0492, 0.0434, 0.0295, 0.0284, 0.0257, 0.0206, 0.0201, 0.0188, 0.0181, 0.0173, 0.0166, 0.0155, 0.0153, 0.013, 0.0118, 0.0116, 0.0113, 0.0111, 0.0106, 0.0105, 0.0101, 0.01, 0.0097, 0.0094, 0.0092, 0.0078, 0.0072, 0.0062, 0.0055, 0.0043, 0.0032], \"textposition\": \"outside\", \"x\": [0.21605228772557875, 0.1210554937792436, 0.06721624179989868, 0.05988899586993297, 0.05489025812686974, 0.04918859914710858, 0.04341046357893717, 0.029473052103724744, 0.028374473790072647, 0.025722628469594548, 0.020567857659870886, 0.02012993353428557, 0.018826896196464566, 0.01813424473772842, 0.017292690884924758, 0.016644174658898257, 0.015459218220361198, 0.015251726270117805, 0.013008528984596346, 0.011757899365936983, 0.011579148216203063, 0.011278895843527611, 0.011103645210363467, 0.010625930161670086, 0.010493164513103304, 0.010079501839069279, 0.009956316160977524, 0.009721403430471941, 0.009429684515625383, 0.009177959068361243, 0.007828344531824686, 0.007187553023770421, 0.006198466347870708, 0.005502554056545242, 0.0042937643676735655, 0.0031980038087963077], \"y\": [\"http_header_content-encoding_gzip\", \"http_header_transfer-encoding_chunked\", \"url_char_.\", \"url_length\", \"url_char_w\", \"url_extensions\", \"http_header_cache-control_set_max-age\", \"url_char_i\", \"url_char_z\", \"url_extension_endswith_.com\", \"a_href_relative\", \"p_count\", \"url_char_l\", \"a_href_out_of_domain\", \"http_header_vary_user-agent\", \"http_header_server_apache\", \"total_href\", \"url_char_y\", \"total_count\", \"url_extension_.c\", \"link_href_out_of_domain\", \"url_char_p\", \"script_async_true\", \"a_count\", \"a_href_http\", \"link_type_text/css\", \"http_header_via_1.1\", \"url_char_f\", \"a_href_https\", \"meta_count\", \"push\", \"url_extension_.com\", \"iframe_src_.html\", \"form_action_http\", \"img_src_http\", \"center_count\"], \"type\": \"bar\", \"uid\": \"850686b2-a502-474b-a444-cdefaf1087ff\"}], {\"autosize\": false, \"height\": 1000, \"width\": 1000, \"xaxis\": {\"tickfont\": {\"color\": \"black\", \"size\": 12}, \"title\": \"Feature Importances\"}, \"yaxis\": {\"automargin\": true}}, {\"showLink\": true, \"linkText\": \"Export to plot.ly\", \"plotlyServerURL\": \"https://plot.ly\"})});</script>"
      ]
     },
     "metadata": {},
     "output_type": "display_data"
    },
    {
     "name": "stdout",
     "output_type": "stream",
     "text": [
      "\n",
      "\n",
      "\u001b[1mXGB Classifier\u001b[0m\n",
      "Accuracy of the model for training data is: 0.9718625395650923\n",
      "Confusion Matrix for training data is:\n"
     ]
    },
    {
     "data": {
      "text/plain": [
       "Predicted  False   True  __all__\n",
       "Actual                          \n",
       "False      23648    679    24327\n",
       "True         690  23637    24327\n",
       "__all__    24338  24316    48654"
      ]
     },
     "metadata": {},
     "output_type": "display_data"
    },
    {
     "name": "stdout",
     "output_type": "stream",
     "text": [
      "Accuracy of the model for test data is: 0.963419821352616\n",
      "Confusion Matrix for test data is:\n"
     ]
    },
    {
     "data": {
      "text/plain": [
       "Predicted  False  True  __all__\n",
       "Actual                         \n",
       "False      10109   306    10415\n",
       "True         124  1216     1340\n",
       "__all__    10233  1522    11755"
      ]
     },
     "metadata": {},
     "output_type": "display_data"
    },
    {
     "data": {
      "application/vnd.plotly.v1+json": {
       "config": {
        "linkText": "Export to plot.ly",
        "plotlyServerURL": "https://plot.ly",
        "showLink": true
       },
       "data": [
        {
         "marker": {
          "color": "rgb(158,202,225)",
          "line": {
           "color": "rgb(8,48,107)",
           "width": 1.5
          }
         },
         "opacity": 0.6,
         "orientation": "h",
         "text": [
          0.1439,
          0.0778,
          0.0734,
          0.0705,
          0.0441,
          0.0367,
          0.0352,
          0.0338,
          0.0338,
          0.0308,
          0.0308,
          0.0294,
          0.0294,
          0.0294,
          0.0279,
          0.0235,
          0.022,
          0.022,
          0.022,
          0.0191,
          0.0191,
          0.0191,
          0.0176,
          0.0162,
          0.0147,
          0.0132,
          0.0103,
          0.0103,
          0.0103,
          0.0073,
          0.0073,
          0.0073,
          0.0059,
          0.0044,
          0.0015,
          0
         ],
         "textposition": "outside",
         "type": "bar",
         "uid": "a4f4bed1-65e9-46e8-8c08-853392024b5d",
         "x": [
          0.14390602707862854,
          0.07782672345638275,
          0.07342144101858139,
          0.07048457860946655,
          0.044052861630916595,
          0.036710720509290695,
          0.035242289304733276,
          0.033773861825466156,
          0.033773861825466156,
          0.030837005004286766,
          0.030837005004286766,
          0.029368575662374496,
          0.029368575662374496,
          0.029368575662374496,
          0.027900146320462227,
          0.023494860157370567,
          0.022026430815458298,
          0.022026430815458298,
          0.022026430815458298,
          0.019089573994278908,
          0.019089573994278908,
          0.019089573994278908,
          0.017621144652366638,
          0.016152717173099518,
          0.014684287831187248,
          0.013215859420597553,
          0.010279001668095589,
          0.010279001668095589,
          0.010279001668095589,
          0.007342143915593624,
          0.007342143915593624,
          0.007342143915593624,
          0.005873715039342642,
          0.0044052861630916595,
          0.0014684287598356605,
          0
         ],
         "y": [
          "url_length",
          "url_extensions",
          "url_char_w",
          "url_char_.",
          "http_header_content-encoding_gzip",
          "link_type_text/css",
          "total_count",
          "center_count",
          "http_header_cache-control_set_max-age",
          "url_char_z",
          "url_char_i",
          "form_action_http",
          "a_href_out_of_domain",
          "p_count",
          "push",
          "url_extension_.c",
          "http_header_via_1.1",
          "img_src_http",
          "url_char_l",
          "meta_count",
          "http_header_server_apache",
          "url_char_f",
          "url_extension_.com",
          "link_href_out_of_domain",
          "http_header_vary_user-agent",
          "a_count",
          "a_href_https",
          "http_header_transfer-encoding_chunked",
          "total_href",
          "script_async_true",
          "iframe_src_.html",
          "a_href_relative",
          "url_extension_endswith_.com",
          "a_href_http",
          "url_char_p",
          "url_char_y"
         ]
        }
       ],
       "layout": {
        "autosize": false,
        "height": 1000,
        "width": 1000,
        "xaxis": {
         "tickfont": {
          "color": "black",
          "size": 12
         },
         "title": "Feature Importances"
        },
        "yaxis": {
         "automargin": true
        }
       }
      },
      "text/html": [
       "<div id=\"f6434ec5-ed15-426d-b97e-ea08bf72dd8d\" style=\"height: 1000px; width: 1000px;\" class=\"plotly-graph-div\"></div><script type=\"text/javascript\">require([\"plotly\"], function(Plotly) { window.PLOTLYENV=window.PLOTLYENV || {};window.PLOTLYENV.BASE_URL=\"https://plot.ly\";Plotly.newPlot(\"f6434ec5-ed15-426d-b97e-ea08bf72dd8d\", [{\"marker\": {\"color\": \"rgb(158,202,225)\", \"line\": {\"color\": \"rgb(8,48,107)\", \"width\": 1.5}}, \"opacity\": 0.6, \"orientation\": \"h\", \"text\": [0.1439, 0.0778, 0.0734, 0.0705, 0.0441, 0.0367, 0.0352, 0.0338, 0.0338, 0.0308, 0.0308, 0.0294, 0.0294, 0.0294, 0.0279, 0.0235, 0.022, 0.022, 0.022, 0.0191, 0.0191, 0.0191, 0.0176, 0.0162, 0.0147, 0.0132, 0.0103, 0.0103, 0.0103, 0.0073, 0.0073, 0.0073, 0.0059, 0.0044, 0.0015, 0.0], \"textposition\": \"outside\", \"x\": [0.14390602707862854, 0.07782672345638275, 0.07342144101858139, 0.07048457860946655, 0.044052861630916595, 0.036710720509290695, 0.035242289304733276, 0.033773861825466156, 0.033773861825466156, 0.030837005004286766, 0.030837005004286766, 0.029368575662374496, 0.029368575662374496, 0.029368575662374496, 0.027900146320462227, 0.023494860157370567, 0.022026430815458298, 0.022026430815458298, 0.022026430815458298, 0.019089573994278908, 0.019089573994278908, 0.019089573994278908, 0.017621144652366638, 0.016152717173099518, 0.014684287831187248, 0.013215859420597553, 0.010279001668095589, 0.010279001668095589, 0.010279001668095589, 0.007342143915593624, 0.007342143915593624, 0.007342143915593624, 0.005873715039342642, 0.0044052861630916595, 0.0014684287598356605, 0.0], \"y\": [\"url_length\", \"url_extensions\", \"url_char_w\", \"url_char_.\", \"http_header_content-encoding_gzip\", \"link_type_text/css\", \"total_count\", \"center_count\", \"http_header_cache-control_set_max-age\", \"url_char_z\", \"url_char_i\", \"form_action_http\", \"a_href_out_of_domain\", \"p_count\", \"push\", \"url_extension_.c\", \"http_header_via_1.1\", \"img_src_http\", \"url_char_l\", \"meta_count\", \"http_header_server_apache\", \"url_char_f\", \"url_extension_.com\", \"link_href_out_of_domain\", \"http_header_vary_user-agent\", \"a_count\", \"a_href_https\", \"http_header_transfer-encoding_chunked\", \"total_href\", \"script_async_true\", \"iframe_src_.html\", \"a_href_relative\", \"url_extension_endswith_.com\", \"a_href_http\", \"url_char_p\", \"url_char_y\"], \"type\": \"bar\", \"uid\": \"a4f4bed1-65e9-46e8-8c08-853392024b5d\"}], {\"autosize\": false, \"height\": 1000, \"width\": 1000, \"xaxis\": {\"tickfont\": {\"color\": \"black\", \"size\": 12}, \"title\": \"Feature Importances\"}, \"yaxis\": {\"automargin\": true}}, {\"showLink\": true, \"linkText\": \"Export to plot.ly\", \"plotlyServerURL\": \"https://plot.ly\"})});</script>"
      ],
      "text/vnd.plotly.v1+html": [
       "<div id=\"f6434ec5-ed15-426d-b97e-ea08bf72dd8d\" style=\"height: 1000px; width: 1000px;\" class=\"plotly-graph-div\"></div><script type=\"text/javascript\">require([\"plotly\"], function(Plotly) { window.PLOTLYENV=window.PLOTLYENV || {};window.PLOTLYENV.BASE_URL=\"https://plot.ly\";Plotly.newPlot(\"f6434ec5-ed15-426d-b97e-ea08bf72dd8d\", [{\"marker\": {\"color\": \"rgb(158,202,225)\", \"line\": {\"color\": \"rgb(8,48,107)\", \"width\": 1.5}}, \"opacity\": 0.6, \"orientation\": \"h\", \"text\": [0.1439, 0.0778, 0.0734, 0.0705, 0.0441, 0.0367, 0.0352, 0.0338, 0.0338, 0.0308, 0.0308, 0.0294, 0.0294, 0.0294, 0.0279, 0.0235, 0.022, 0.022, 0.022, 0.0191, 0.0191, 0.0191, 0.0176, 0.0162, 0.0147, 0.0132, 0.0103, 0.0103, 0.0103, 0.0073, 0.0073, 0.0073, 0.0059, 0.0044, 0.0015, 0.0], \"textposition\": \"outside\", \"x\": [0.14390602707862854, 0.07782672345638275, 0.07342144101858139, 0.07048457860946655, 0.044052861630916595, 0.036710720509290695, 0.035242289304733276, 0.033773861825466156, 0.033773861825466156, 0.030837005004286766, 0.030837005004286766, 0.029368575662374496, 0.029368575662374496, 0.029368575662374496, 0.027900146320462227, 0.023494860157370567, 0.022026430815458298, 0.022026430815458298, 0.022026430815458298, 0.019089573994278908, 0.019089573994278908, 0.019089573994278908, 0.017621144652366638, 0.016152717173099518, 0.014684287831187248, 0.013215859420597553, 0.010279001668095589, 0.010279001668095589, 0.010279001668095589, 0.007342143915593624, 0.007342143915593624, 0.007342143915593624, 0.005873715039342642, 0.0044052861630916595, 0.0014684287598356605, 0.0], \"y\": [\"url_length\", \"url_extensions\", \"url_char_w\", \"url_char_.\", \"http_header_content-encoding_gzip\", \"link_type_text/css\", \"total_count\", \"center_count\", \"http_header_cache-control_set_max-age\", \"url_char_z\", \"url_char_i\", \"form_action_http\", \"a_href_out_of_domain\", \"p_count\", \"push\", \"url_extension_.c\", \"http_header_via_1.1\", \"img_src_http\", \"url_char_l\", \"meta_count\", \"http_header_server_apache\", \"url_char_f\", \"url_extension_.com\", \"link_href_out_of_domain\", \"http_header_vary_user-agent\", \"a_count\", \"a_href_https\", \"http_header_transfer-encoding_chunked\", \"total_href\", \"script_async_true\", \"iframe_src_.html\", \"a_href_relative\", \"url_extension_endswith_.com\", \"a_href_http\", \"url_char_p\", \"url_char_y\"], \"type\": \"bar\", \"uid\": \"a4f4bed1-65e9-46e8-8c08-853392024b5d\"}], {\"autosize\": false, \"height\": 1000, \"width\": 1000, \"xaxis\": {\"tickfont\": {\"color\": \"black\", \"size\": 12}, \"title\": \"Feature Importances\"}, \"yaxis\": {\"automargin\": true}}, {\"showLink\": true, \"linkText\": \"Export to plot.ly\", \"plotlyServerURL\": \"https://plot.ly\"})});</script>"
      ]
     },
     "metadata": {},
     "output_type": "display_data"
    },
    {
     "name": "stdout",
     "output_type": "stream",
     "text": [
      "\n",
      "\n",
      "\u001b[1mBagging Classifier\u001b[0m\n",
      "Accuracy of the model for training data is: 0.9982940765404694\n",
      "Confusion Matrix for training data is:\n"
     ]
    },
    {
     "data": {
      "text/plain": [
       "Predicted  False   True  __all__\n",
       "Actual                          \n",
       "False      24302     25    24327\n",
       "True          58  24269    24327\n",
       "__all__    24360  24294    48654"
      ]
     },
     "metadata": {},
     "output_type": "display_data"
    },
    {
     "name": "stdout",
     "output_type": "stream",
     "text": [
      "Accuracy of the model for test data is: 0.9730327520204168\n",
      "Confusion Matrix for test data is:\n"
     ]
    },
    {
     "data": {
      "text/plain": [
       "Predicted  False  True  __all__\n",
       "Actual                         \n",
       "False      10280   135    10415\n",
       "True         182  1158     1340\n",
       "__all__    10462  1293    11755"
      ]
     },
     "metadata": {},
     "output_type": "display_data"
    },
    {
     "name": "stdout",
     "output_type": "stream",
     "text": [
      "\n",
      "\n",
      "\u001b[1mNeural Network-1\u001b[0m\n",
      "The accuracy of the model on training data is: 0.9927857935627081\n"
     ]
    },
    {
     "data": {
      "text/plain": [
       "Predicted  False   True  __all__\n",
       "Actual                          \n",
       "False      24041    286    24327\n",
       "True          65  24262    24327\n",
       "__all__    24106  24548    48654"
      ]
     },
     "metadata": {},
     "output_type": "display_data"
    },
    {
     "name": "stdout",
     "output_type": "stream",
     "text": [
      "The accuracy of the model on test data is: 0.9648660144619311\n"
     ]
    },
    {
     "data": {
      "text/plain": [
       "Predicted  False  True  __all__\n",
       "Actual                         \n",
       "False      10141   274    10415\n",
       "True         139  1201     1340\n",
       "__all__    10280  1475    11755"
      ]
     },
     "metadata": {},
     "output_type": "display_data"
    },
    {
     "name": "stdout",
     "output_type": "stream",
     "text": [
      "\n",
      "\n"
     ]
    }
   ],
   "source": [
    "sm = SMOTE(random_state=12, ratio = {1:24327})\n",
    "X_train, Y_train = sm.fit_sample(scaled_X_train,train_Y)\n",
    "\n",
    "\n",
    "ind_columns=['KNeighborsClassifier','RandomForestClassifier','AdaBoostClassifier',\n",
    "             'GradientBoostingClassifier','ExtraTreeClassifier','XGB','BaggingClassifier','Neural Network-1']\n",
    "\n",
    "f=[KNN_model,RandomForest,AdaBoost,GradientBoosting, ExtraTree,XGB,Bagging,DeepLearning1]\n",
    "\n",
    "## Table to store training and test measures\n",
    "table_80_50_train=pd.DataFrame(columns=['accuracy','TP','TN','FP','FN','FPR','FNR'])\n",
    "table_80_50_test=pd.DataFrame(columns=['accuracy','TP','TN','FP','FN','FPR','FNR','auc','MCC','Precision','Recall'])\n",
    "\n",
    "feat_imp=[None]*5\n",
    "j=0\n",
    "for i in range(0,8):\n",
    "    if i>=1 and i<=5:\n",
    "        model,cm_train,cm_test,acc_train,acc_test,roc_auc,feat_imp[j],mcc,prec,rec=f[i](X_train,Y_train,scaled_X_test,test_Y,columns)\n",
    "        j=j+1\n",
    "    else:\n",
    "        model,cm_train,cm_test,acc_train,acc_test,roc_auc,mcc,prec,rec=f[i](X_train,Y_train,scaled_X_test,test_Y)\n",
    "    table_80_50_train.loc[i]=   ([acc_train,cm_train.TP,cm_train.TN,cm_train.FP,cm_train.FN,cm_train.FPR,cm_train.FNR])\n",
    "    table_80_50_test.loc[i] =   ([acc_test ,cm_test.TP, cm_test.TN, cm_test.FP, cm_test.FN, cm_test.FPR, cm_test.FNR,roc_auc,mcc,prec,rec])\n",
    "    print(\"\\n\")"
   ]
  },
  {
   "cell_type": "markdown",
   "metadata": {},
   "source": [
    "### <a id='2.A' style=\"text-decoration : none; color : #000000;\"> A. Results</a>"
   ]
  },
  {
   "cell_type": "code",
   "execution_count": 14,
   "metadata": {},
   "outputs": [
    {
     "data": {
      "application/vnd.plotly.v1+json": {
       "config": {
        "linkText": "Export to plot.ly",
        "plotlyServerURL": "https://plot.ly",
        "showLink": true
       },
       "data": [
        {
         "mode": "lines",
         "name": "KNN_model",
         "type": "scatter",
         "uid": "1787c5e5-e349-445a-a272-e5e2e3eb829b",
         "x": [
          "accuracy",
          "auc",
          "MCC",
          "Precision",
          "Recall"
         ],
         "y": [
          0.9487877498936623,
          0.9288329117733464,
          0.7784087841257094,
          0.7193816884661117,
          0.9029850746268657
         ]
        },
        {
         "mode": "lines+markers",
         "name": "XGB",
         "type": "scatter",
         "uid": "7f6b97ba-61d2-41aa-9166-529d18a0acd1",
         "x": [
          "accuracy",
          "auc",
          "MCC",
          "Precision",
          "Recall"
         ],
         "y": [
          0.963419821352616,
          0.9390409928275091,
          0.8312052746421146,
          0.7989487516425755,
          0.9074626865671642
         ]
        },
        {
         "marker": {
          "symbol": "x"
         },
         "mode": "lines+markers",
         "name": "Random Forest",
         "type": "scatter",
         "uid": "8859ea77-c8fd-41b1-9612-5cb1252c8a76",
         "x": [
          "accuracy",
          "auc",
          "MCC",
          "Precision",
          "Recall"
         ],
         "y": [
          0.9789876648234793,
          0.9344962059601177,
          0.8936698318704155,
          0.9347653142402546,
          0.8768656716417911
         ]
        },
        {
         "mode": "lines",
         "name": "Ada Boost",
         "type": "scatter",
         "uid": "c4f3d7bf-c169-4819-8aed-1cf11de688bf",
         "x": [
          "accuracy",
          "auc",
          "MCC",
          "Precision",
          "Recall"
         ],
         "y": [
          0.9508294342832837,
          0.9394137688895896,
          0.7910097276698272,
          0.722027972027972,
          0.9246268656716418
         ]
        },
        {
         "mode": "lines+markers",
         "name": "GradientBoosting",
         "type": "scatter",
         "uid": "64442e70-49e5-418e-99ad-2d91046e02ce",
         "x": [
          "accuracy",
          "auc",
          "MCC",
          "Precision",
          "Recall"
         ],
         "y": [
          0.9638451722671204,
          0.9402564111750418,
          0.8332733717101038,
          0.8003939592908733,
          0.9097014925373135
         ]
        },
        {
         "marker": {
          "symbol": "x"
         },
         "mode": "lines+markers",
         "name": "ExtraTree Classifier",
         "type": "scatter",
         "uid": "5106daa0-dff5-47d2-8856-6b3f8e64528c",
         "x": [
          "accuracy",
          "auc",
          "MCC",
          "Precision",
          "Recall"
         ],
         "y": [
          0.9796682262866865,
          0.9358556473513374,
          0.8970945061145357,
          0.9386454183266932,
          0.8791044776119403
         ]
        },
        {
         "marker": {
          "symbol": "x"
         },
         "mode": "lines+markers",
         "name": "Bagging",
         "type": "scatter",
         "uid": "b2075d6d-9398-4dc5-8d01-41b213df0e19",
         "x": [
          "accuracy",
          "auc",
          "MCC",
          "Precision",
          "Recall"
         ],
         "y": [
          0.9730327520204168,
          0.9256085152728913,
          0.8646009733780956,
          0.8955916473317865,
          0.8641791044776119
         ]
        },
        {
         "marker": {
          "symbol": "x"
         },
         "mode": "lines+markers",
         "name": "Neural Network",
         "type": "scatter",
         "uid": "067883ff-b403-4e6e-8cf4-089e19d3e34a",
         "x": [
          "accuracy",
          "auc",
          "MCC",
          "Precision",
          "Recall"
         ],
         "y": [
          0.9648660144619311,
          0.9256085152728913,
          0.8346203637631072,
          0.8142372881355933,
          0.8962686567164179
         ]
        }
       ],
       "layout": {
        "title": "Result comparision for Features selected in Section 1",
        "yaxis": {
         "dtick": 0.05,
         "tick0": 0
        }
       }
      },
      "text/html": [
       "<div id=\"82250d03-9742-4ed9-9de3-5248fc74bd61\" style=\"height: 525px; width: 100%;\" class=\"plotly-graph-div\"></div><script type=\"text/javascript\">require([\"plotly\"], function(Plotly) { window.PLOTLYENV=window.PLOTLYENV || {};window.PLOTLYENV.BASE_URL=\"https://plot.ly\";Plotly.newPlot(\"82250d03-9742-4ed9-9de3-5248fc74bd61\", [{\"mode\": \"lines\", \"name\": \"KNN_model\", \"x\": [\"accuracy\", \"auc\", \"MCC\", \"Precision\", \"Recall\"], \"y\": [0.9487877498936623, 0.9288329117733464, 0.7784087841257094, 0.7193816884661117, 0.9029850746268657], \"type\": \"scatter\", \"uid\": \"1787c5e5-e349-445a-a272-e5e2e3eb829b\"}, {\"mode\": \"lines+markers\", \"name\": \"XGB\", \"x\": [\"accuracy\", \"auc\", \"MCC\", \"Precision\", \"Recall\"], \"y\": [0.963419821352616, 0.9390409928275091, 0.8312052746421146, 0.7989487516425755, 0.9074626865671642], \"type\": \"scatter\", \"uid\": \"7f6b97ba-61d2-41aa-9166-529d18a0acd1\"}, {\"marker\": {\"symbol\": \"x\"}, \"mode\": \"lines+markers\", \"name\": \"Random Forest\", \"x\": [\"accuracy\", \"auc\", \"MCC\", \"Precision\", \"Recall\"], \"y\": [0.9789876648234793, 0.9344962059601177, 0.8936698318704155, 0.9347653142402546, 0.8768656716417911], \"type\": \"scatter\", \"uid\": \"8859ea77-c8fd-41b1-9612-5cb1252c8a76\"}, {\"mode\": \"lines\", \"name\": \"Ada Boost\", \"x\": [\"accuracy\", \"auc\", \"MCC\", \"Precision\", \"Recall\"], \"y\": [0.9508294342832837, 0.9394137688895896, 0.7910097276698272, 0.722027972027972, 0.9246268656716418], \"type\": \"scatter\", \"uid\": \"c4f3d7bf-c169-4819-8aed-1cf11de688bf\"}, {\"mode\": \"lines+markers\", \"name\": \"GradientBoosting\", \"x\": [\"accuracy\", \"auc\", \"MCC\", \"Precision\", \"Recall\"], \"y\": [0.9638451722671204, 0.9402564111750418, 0.8332733717101038, 0.8003939592908733, 0.9097014925373135], \"type\": \"scatter\", \"uid\": \"64442e70-49e5-418e-99ad-2d91046e02ce\"}, {\"marker\": {\"symbol\": \"x\"}, \"mode\": \"lines+markers\", \"name\": \"ExtraTree Classifier\", \"x\": [\"accuracy\", \"auc\", \"MCC\", \"Precision\", \"Recall\"], \"y\": [0.9796682262866865, 0.9358556473513374, 0.8970945061145357, 0.9386454183266932, 0.8791044776119403], \"type\": \"scatter\", \"uid\": \"5106daa0-dff5-47d2-8856-6b3f8e64528c\"}, {\"marker\": {\"symbol\": \"x\"}, \"mode\": \"lines+markers\", \"name\": \"Bagging\", \"x\": [\"accuracy\", \"auc\", \"MCC\", \"Precision\", \"Recall\"], \"y\": [0.9730327520204168, 0.9256085152728913, 0.8646009733780956, 0.8955916473317865, 0.8641791044776119], \"type\": \"scatter\", \"uid\": \"b2075d6d-9398-4dc5-8d01-41b213df0e19\"}, {\"marker\": {\"symbol\": \"x\"}, \"mode\": \"lines+markers\", \"name\": \"Neural Network\", \"x\": [\"accuracy\", \"auc\", \"MCC\", \"Precision\", \"Recall\"], \"y\": [0.9648660144619311, 0.9256085152728913, 0.8346203637631072, 0.8142372881355933, 0.8962686567164179], \"type\": \"scatter\", \"uid\": \"067883ff-b403-4e6e-8cf4-089e19d3e34a\"}], {\"title\": \"Result comparision for Features selected in Section 1\", \"yaxis\": {\"dtick\": 0.05, \"tick0\": 0}}, {\"showLink\": true, \"linkText\": \"Export to plot.ly\", \"plotlyServerURL\": \"https://plot.ly\"})});</script><script type=\"text/javascript\">window.addEventListener(\"resize\", function(){window._Plotly.Plots.resize(document.getElementById(\"82250d03-9742-4ed9-9de3-5248fc74bd61\"));});</script>"
      ],
      "text/vnd.plotly.v1+html": [
       "<div id=\"82250d03-9742-4ed9-9de3-5248fc74bd61\" style=\"height: 525px; width: 100%;\" class=\"plotly-graph-div\"></div><script type=\"text/javascript\">require([\"plotly\"], function(Plotly) { window.PLOTLYENV=window.PLOTLYENV || {};window.PLOTLYENV.BASE_URL=\"https://plot.ly\";Plotly.newPlot(\"82250d03-9742-4ed9-9de3-5248fc74bd61\", [{\"mode\": \"lines\", \"name\": \"KNN_model\", \"x\": [\"accuracy\", \"auc\", \"MCC\", \"Precision\", \"Recall\"], \"y\": [0.9487877498936623, 0.9288329117733464, 0.7784087841257094, 0.7193816884661117, 0.9029850746268657], \"type\": \"scatter\", \"uid\": \"1787c5e5-e349-445a-a272-e5e2e3eb829b\"}, {\"mode\": \"lines+markers\", \"name\": \"XGB\", \"x\": [\"accuracy\", \"auc\", \"MCC\", \"Precision\", \"Recall\"], \"y\": [0.963419821352616, 0.9390409928275091, 0.8312052746421146, 0.7989487516425755, 0.9074626865671642], \"type\": \"scatter\", \"uid\": \"7f6b97ba-61d2-41aa-9166-529d18a0acd1\"}, {\"marker\": {\"symbol\": \"x\"}, \"mode\": \"lines+markers\", \"name\": \"Random Forest\", \"x\": [\"accuracy\", \"auc\", \"MCC\", \"Precision\", \"Recall\"], \"y\": [0.9789876648234793, 0.9344962059601177, 0.8936698318704155, 0.9347653142402546, 0.8768656716417911], \"type\": \"scatter\", \"uid\": \"8859ea77-c8fd-41b1-9612-5cb1252c8a76\"}, {\"mode\": \"lines\", \"name\": \"Ada Boost\", \"x\": [\"accuracy\", \"auc\", \"MCC\", \"Precision\", \"Recall\"], \"y\": [0.9508294342832837, 0.9394137688895896, 0.7910097276698272, 0.722027972027972, 0.9246268656716418], \"type\": \"scatter\", \"uid\": \"c4f3d7bf-c169-4819-8aed-1cf11de688bf\"}, {\"mode\": \"lines+markers\", \"name\": \"GradientBoosting\", \"x\": [\"accuracy\", \"auc\", \"MCC\", \"Precision\", \"Recall\"], \"y\": [0.9638451722671204, 0.9402564111750418, 0.8332733717101038, 0.8003939592908733, 0.9097014925373135], \"type\": \"scatter\", \"uid\": \"64442e70-49e5-418e-99ad-2d91046e02ce\"}, {\"marker\": {\"symbol\": \"x\"}, \"mode\": \"lines+markers\", \"name\": \"ExtraTree Classifier\", \"x\": [\"accuracy\", \"auc\", \"MCC\", \"Precision\", \"Recall\"], \"y\": [0.9796682262866865, 0.9358556473513374, 0.8970945061145357, 0.9386454183266932, 0.8791044776119403], \"type\": \"scatter\", \"uid\": \"5106daa0-dff5-47d2-8856-6b3f8e64528c\"}, {\"marker\": {\"symbol\": \"x\"}, \"mode\": \"lines+markers\", \"name\": \"Bagging\", \"x\": [\"accuracy\", \"auc\", \"MCC\", \"Precision\", \"Recall\"], \"y\": [0.9730327520204168, 0.9256085152728913, 0.8646009733780956, 0.8955916473317865, 0.8641791044776119], \"type\": \"scatter\", \"uid\": \"b2075d6d-9398-4dc5-8d01-41b213df0e19\"}, {\"marker\": {\"symbol\": \"x\"}, \"mode\": \"lines+markers\", \"name\": \"Neural Network\", \"x\": [\"accuracy\", \"auc\", \"MCC\", \"Precision\", \"Recall\"], \"y\": [0.9648660144619311, 0.9256085152728913, 0.8346203637631072, 0.8142372881355933, 0.8962686567164179], \"type\": \"scatter\", \"uid\": \"067883ff-b403-4e6e-8cf4-089e19d3e34a\"}], {\"title\": \"Result comparision for Features selected in Section 1\", \"yaxis\": {\"dtick\": 0.05, \"tick0\": 0}}, {\"showLink\": true, \"linkText\": \"Export to plot.ly\", \"plotlyServerURL\": \"https://plot.ly\"})});</script><script type=\"text/javascript\">window.addEventListener(\"resize\", function(){window._Plotly.Plots.resize(document.getElementById(\"82250d03-9742-4ed9-9de3-5248fc74bd61\"));});</script>"
      ]
     },
     "metadata": {},
     "output_type": "display_data"
    }
   ],
   "source": [
    "trace0 = go.Scatter(x=table_80_50_test.iloc[0].index.values[[0,7,8,9,10]],\n",
    "                    y=table_80_50_test.iloc[0].values[[0,7,8,9,10]],\n",
    "                    mode = 'lines',\n",
    "                    name = 'KNN_model')\n",
    "\n",
    "\n",
    "trace2 = go.Scatter(x=table_80_50_test.iloc[1].index.values[[0,7,8,9,10]],\n",
    "                    y=table_80_50_test.iloc[1].values[[0,7,8,9,10]],\n",
    "                    mode = 'lines+markers',marker=dict(symbol='x'),\n",
    "                    name = 'Random Forest')\n",
    "\n",
    "\n",
    "trace3 = go.Scatter(x=table_80_50_test.iloc[2].index.values[[0,7,8,9,10]],\n",
    "                    y=table_80_50_test.iloc[2].values[[0,7,8,9,10]],\n",
    "                    mode = 'lines',\n",
    "                    name = 'Ada Boost')\n",
    "\n",
    "trace4 = go.Scatter(x=table_80_50_test.iloc[3].index.values[[0,7,8,9,10]],\n",
    "                    y=table_80_50_test.iloc[3].values[[0,7,8,9,10]],\n",
    "                    mode = 'lines+markers',\n",
    "                    name = 'GradientBoosting')\n",
    "\n",
    "trace5 = go.Scatter(x=table_80_50_test.iloc[4].index.values[[0,7,8,9,10]],\n",
    "                    y=table_80_50_test.iloc[4].values[[0,7,8,9,10]],\n",
    "                    mode = 'lines+markers',marker=dict(symbol='x'),\n",
    "                    name = 'ExtraTree Classifier')\n",
    "\n",
    "\n",
    "trace1 = go.Scatter(x=table_80_50_test.iloc[5].index.values[[0,7,8,9,10]],\n",
    "                    y=table_80_50_test.iloc[5].values[[0,7,8,9,10]],\n",
    "                    mode = 'lines+markers',\n",
    "                    name = 'XGB')\n",
    "\n",
    "\n",
    "trace6 = go.Scatter(x=table_80_50_test.iloc[6].index.values[[0,7,8,9,10]],\n",
    "                    y=table_80_50_test.iloc[6].values[[0,7,8,9,10]],\n",
    "                    mode = 'lines+markers',marker=dict(symbol='x'),\n",
    "                    name = 'Bagging')\n",
    "\n",
    "trace7 = go.Scatter(x=table_80_50_test.iloc[7].index.values[[0,7,8,9,10]],\n",
    "                    y=table_80_50_test.iloc[7].values[[0,7,8,9,10]],\n",
    "                    mode = 'lines+markers',marker=dict(symbol='x'),\n",
    "                    name = 'Neural Network')\n",
    "\n",
    "\n",
    "\n",
    "data = [trace0, trace1, trace2, trace3, trace4, trace5, trace6, trace7]\n",
    "layout = go.Layout(yaxis=dict(tick0=0,dtick=0.05),title='Result comparision for Features selected in Section 1')\n",
    "fig = go.Figure(data=data, layout=layout)\n",
    "\n",
    "iplot(fig, filename='Result')"
   ]
  },
  {
   "cell_type": "code",
   "execution_count": 15,
   "metadata": {},
   "outputs": [
    {
     "name": "stdout",
     "output_type": "stream",
     "text": [
      "Training Results\n"
     ]
    },
    {
     "data": {
      "text/html": [
       "<div>\n",
       "<style scoped>\n",
       "    .dataframe tbody tr th:only-of-type {\n",
       "        vertical-align: middle;\n",
       "    }\n",
       "\n",
       "    .dataframe tbody tr th {\n",
       "        vertical-align: top;\n",
       "    }\n",
       "\n",
       "    .dataframe thead th {\n",
       "        text-align: right;\n",
       "    }\n",
       "</style>\n",
       "<table border=\"1\" class=\"dataframe\">\n",
       "  <thead>\n",
       "    <tr style=\"text-align: right;\">\n",
       "      <th></th>\n",
       "      <th>accuracy</th>\n",
       "      <th>TP</th>\n",
       "      <th>TN</th>\n",
       "      <th>FP</th>\n",
       "      <th>FN</th>\n",
       "      <th>FPR</th>\n",
       "      <th>FNR</th>\n",
       "    </tr>\n",
       "    <tr>\n",
       "      <th>index</th>\n",
       "      <th></th>\n",
       "      <th></th>\n",
       "      <th></th>\n",
       "      <th></th>\n",
       "      <th></th>\n",
       "      <th></th>\n",
       "      <th></th>\n",
       "    </tr>\n",
       "  </thead>\n",
       "  <tbody>\n",
       "    <tr>\n",
       "      <th>KNeighborsClassifier</th>\n",
       "      <td>0.982242</td>\n",
       "      <td>24233.0</td>\n",
       "      <td>23557.0</td>\n",
       "      <td>770.0</td>\n",
       "      <td>94.0</td>\n",
       "      <td>0.031652</td>\n",
       "      <td>0.003864</td>\n",
       "    </tr>\n",
       "    <tr>\n",
       "      <th>RandomForestClassifier</th>\n",
       "      <td>0.998520</td>\n",
       "      <td>24273.0</td>\n",
       "      <td>24309.0</td>\n",
       "      <td>18.0</td>\n",
       "      <td>54.0</td>\n",
       "      <td>0.000740</td>\n",
       "      <td>0.002220</td>\n",
       "    </tr>\n",
       "    <tr>\n",
       "      <th>AdaBoostClassifier</th>\n",
       "      <td>0.956776</td>\n",
       "      <td>23355.0</td>\n",
       "      <td>23196.0</td>\n",
       "      <td>1131.0</td>\n",
       "      <td>972.0</td>\n",
       "      <td>0.046492</td>\n",
       "      <td>0.039956</td>\n",
       "    </tr>\n",
       "    <tr>\n",
       "      <th>GradientBoostingClassifier</th>\n",
       "      <td>0.972787</td>\n",
       "      <td>23657.0</td>\n",
       "      <td>23673.0</td>\n",
       "      <td>654.0</td>\n",
       "      <td>670.0</td>\n",
       "      <td>0.026884</td>\n",
       "      <td>0.027541</td>\n",
       "    </tr>\n",
       "    <tr>\n",
       "      <th>ExtraTreeClassifier</th>\n",
       "      <td>0.999178</td>\n",
       "      <td>24290.0</td>\n",
       "      <td>24324.0</td>\n",
       "      <td>3.0</td>\n",
       "      <td>37.0</td>\n",
       "      <td>0.000123</td>\n",
       "      <td>0.001521</td>\n",
       "    </tr>\n",
       "    <tr>\n",
       "      <th>XGB</th>\n",
       "      <td>0.971863</td>\n",
       "      <td>23637.0</td>\n",
       "      <td>23648.0</td>\n",
       "      <td>679.0</td>\n",
       "      <td>690.0</td>\n",
       "      <td>0.027911</td>\n",
       "      <td>0.028364</td>\n",
       "    </tr>\n",
       "    <tr>\n",
       "      <th>BaggingClassifier</th>\n",
       "      <td>0.998294</td>\n",
       "      <td>24269.0</td>\n",
       "      <td>24302.0</td>\n",
       "      <td>25.0</td>\n",
       "      <td>58.0</td>\n",
       "      <td>0.001028</td>\n",
       "      <td>0.002384</td>\n",
       "    </tr>\n",
       "    <tr>\n",
       "      <th>Neural Network-1</th>\n",
       "      <td>0.992786</td>\n",
       "      <td>24262.0</td>\n",
       "      <td>24041.0</td>\n",
       "      <td>286.0</td>\n",
       "      <td>65.0</td>\n",
       "      <td>0.011756</td>\n",
       "      <td>0.002672</td>\n",
       "    </tr>\n",
       "  </tbody>\n",
       "</table>\n",
       "</div>"
      ],
      "text/plain": [
       "                            accuracy       TP       TN      FP     FN  \\\n",
       "index                                                                   \n",
       "KNeighborsClassifier        0.982242  24233.0  23557.0   770.0   94.0   \n",
       "RandomForestClassifier      0.998520  24273.0  24309.0    18.0   54.0   \n",
       "AdaBoostClassifier          0.956776  23355.0  23196.0  1131.0  972.0   \n",
       "GradientBoostingClassifier  0.972787  23657.0  23673.0   654.0  670.0   \n",
       "ExtraTreeClassifier         0.999178  24290.0  24324.0     3.0   37.0   \n",
       "XGB                         0.971863  23637.0  23648.0   679.0  690.0   \n",
       "BaggingClassifier           0.998294  24269.0  24302.0    25.0   58.0   \n",
       "Neural Network-1            0.992786  24262.0  24041.0   286.0   65.0   \n",
       "\n",
       "                                 FPR       FNR  \n",
       "index                                           \n",
       "KNeighborsClassifier        0.031652  0.003864  \n",
       "RandomForestClassifier      0.000740  0.002220  \n",
       "AdaBoostClassifier          0.046492  0.039956  \n",
       "GradientBoostingClassifier  0.026884  0.027541  \n",
       "ExtraTreeClassifier         0.000123  0.001521  \n",
       "XGB                         0.027911  0.028364  \n",
       "BaggingClassifier           0.001028  0.002384  \n",
       "Neural Network-1            0.011756  0.002672  "
      ]
     },
     "metadata": {},
     "output_type": "display_data"
    },
    {
     "name": "stdout",
     "output_type": "stream",
     "text": [
      "Test Results\n"
     ]
    },
    {
     "data": {
      "text/html": [
       "<div>\n",
       "<style scoped>\n",
       "    .dataframe tbody tr th:only-of-type {\n",
       "        vertical-align: middle;\n",
       "    }\n",
       "\n",
       "    .dataframe tbody tr th {\n",
       "        vertical-align: top;\n",
       "    }\n",
       "\n",
       "    .dataframe thead th {\n",
       "        text-align: right;\n",
       "    }\n",
       "</style>\n",
       "<table border=\"1\" class=\"dataframe\">\n",
       "  <thead>\n",
       "    <tr style=\"text-align: right;\">\n",
       "      <th></th>\n",
       "      <th>accuracy</th>\n",
       "      <th>TP</th>\n",
       "      <th>TN</th>\n",
       "      <th>FP</th>\n",
       "      <th>FN</th>\n",
       "      <th>FPR</th>\n",
       "      <th>FNR</th>\n",
       "      <th>auc</th>\n",
       "      <th>MCC</th>\n",
       "      <th>Precision</th>\n",
       "      <th>Recall</th>\n",
       "    </tr>\n",
       "    <tr>\n",
       "      <th>index</th>\n",
       "      <th></th>\n",
       "      <th></th>\n",
       "      <th></th>\n",
       "      <th></th>\n",
       "      <th></th>\n",
       "      <th></th>\n",
       "      <th></th>\n",
       "      <th></th>\n",
       "      <th></th>\n",
       "      <th></th>\n",
       "      <th></th>\n",
       "    </tr>\n",
       "  </thead>\n",
       "  <tbody>\n",
       "    <tr>\n",
       "      <th>KNeighborsClassifier</th>\n",
       "      <td>0.948788</td>\n",
       "      <td>1210.0</td>\n",
       "      <td>9943.0</td>\n",
       "      <td>472.0</td>\n",
       "      <td>130.0</td>\n",
       "      <td>0.045319</td>\n",
       "      <td>0.097015</td>\n",
       "      <td>0.928833</td>\n",
       "      <td>0.778409</td>\n",
       "      <td>0.719382</td>\n",
       "      <td>0.902985</td>\n",
       "    </tr>\n",
       "    <tr>\n",
       "      <th>RandomForestClassifier</th>\n",
       "      <td>0.978988</td>\n",
       "      <td>1175.0</td>\n",
       "      <td>10333.0</td>\n",
       "      <td>82.0</td>\n",
       "      <td>165.0</td>\n",
       "      <td>0.007873</td>\n",
       "      <td>0.123134</td>\n",
       "      <td>0.934496</td>\n",
       "      <td>0.893670</td>\n",
       "      <td>0.934765</td>\n",
       "      <td>0.876866</td>\n",
       "    </tr>\n",
       "    <tr>\n",
       "      <th>AdaBoostClassifier</th>\n",
       "      <td>0.950829</td>\n",
       "      <td>1239.0</td>\n",
       "      <td>9938.0</td>\n",
       "      <td>477.0</td>\n",
       "      <td>101.0</td>\n",
       "      <td>0.045799</td>\n",
       "      <td>0.075373</td>\n",
       "      <td>0.939414</td>\n",
       "      <td>0.791010</td>\n",
       "      <td>0.722028</td>\n",
       "      <td>0.924627</td>\n",
       "    </tr>\n",
       "    <tr>\n",
       "      <th>GradientBoostingClassifier</th>\n",
       "      <td>0.963845</td>\n",
       "      <td>1219.0</td>\n",
       "      <td>10111.0</td>\n",
       "      <td>304.0</td>\n",
       "      <td>121.0</td>\n",
       "      <td>0.029189</td>\n",
       "      <td>0.090299</td>\n",
       "      <td>0.940256</td>\n",
       "      <td>0.833273</td>\n",
       "      <td>0.800394</td>\n",
       "      <td>0.909701</td>\n",
       "    </tr>\n",
       "    <tr>\n",
       "      <th>ExtraTreeClassifier</th>\n",
       "      <td>0.979668</td>\n",
       "      <td>1178.0</td>\n",
       "      <td>10338.0</td>\n",
       "      <td>77.0</td>\n",
       "      <td>162.0</td>\n",
       "      <td>0.007393</td>\n",
       "      <td>0.120896</td>\n",
       "      <td>0.935856</td>\n",
       "      <td>0.897095</td>\n",
       "      <td>0.938645</td>\n",
       "      <td>0.879104</td>\n",
       "    </tr>\n",
       "    <tr>\n",
       "      <th>XGB</th>\n",
       "      <td>0.963420</td>\n",
       "      <td>1216.0</td>\n",
       "      <td>10109.0</td>\n",
       "      <td>306.0</td>\n",
       "      <td>124.0</td>\n",
       "      <td>0.029381</td>\n",
       "      <td>0.092537</td>\n",
       "      <td>0.939041</td>\n",
       "      <td>0.831205</td>\n",
       "      <td>0.798949</td>\n",
       "      <td>0.907463</td>\n",
       "    </tr>\n",
       "    <tr>\n",
       "      <th>BaggingClassifier</th>\n",
       "      <td>0.973033</td>\n",
       "      <td>1158.0</td>\n",
       "      <td>10280.0</td>\n",
       "      <td>135.0</td>\n",
       "      <td>182.0</td>\n",
       "      <td>0.012962</td>\n",
       "      <td>0.135821</td>\n",
       "      <td>0.925609</td>\n",
       "      <td>0.864601</td>\n",
       "      <td>0.895592</td>\n",
       "      <td>0.864179</td>\n",
       "    </tr>\n",
       "    <tr>\n",
       "      <th>Neural Network-1</th>\n",
       "      <td>0.964866</td>\n",
       "      <td>1201.0</td>\n",
       "      <td>10141.0</td>\n",
       "      <td>274.0</td>\n",
       "      <td>139.0</td>\n",
       "      <td>0.026308</td>\n",
       "      <td>0.103731</td>\n",
       "      <td>0.925609</td>\n",
       "      <td>0.834620</td>\n",
       "      <td>0.814237</td>\n",
       "      <td>0.896269</td>\n",
       "    </tr>\n",
       "  </tbody>\n",
       "</table>\n",
       "</div>"
      ],
      "text/plain": [
       "                            accuracy      TP       TN     FP     FN       FPR  \\\n",
       "index                                                                           \n",
       "KNeighborsClassifier        0.948788  1210.0   9943.0  472.0  130.0  0.045319   \n",
       "RandomForestClassifier      0.978988  1175.0  10333.0   82.0  165.0  0.007873   \n",
       "AdaBoostClassifier          0.950829  1239.0   9938.0  477.0  101.0  0.045799   \n",
       "GradientBoostingClassifier  0.963845  1219.0  10111.0  304.0  121.0  0.029189   \n",
       "ExtraTreeClassifier         0.979668  1178.0  10338.0   77.0  162.0  0.007393   \n",
       "XGB                         0.963420  1216.0  10109.0  306.0  124.0  0.029381   \n",
       "BaggingClassifier           0.973033  1158.0  10280.0  135.0  182.0  0.012962   \n",
       "Neural Network-1            0.964866  1201.0  10141.0  274.0  139.0  0.026308   \n",
       "\n",
       "                                 FNR       auc       MCC  Precision    Recall  \n",
       "index                                                                          \n",
       "KNeighborsClassifier        0.097015  0.928833  0.778409   0.719382  0.902985  \n",
       "RandomForestClassifier      0.123134  0.934496  0.893670   0.934765  0.876866  \n",
       "AdaBoostClassifier          0.075373  0.939414  0.791010   0.722028  0.924627  \n",
       "GradientBoostingClassifier  0.090299  0.940256  0.833273   0.800394  0.909701  \n",
       "ExtraTreeClassifier         0.120896  0.935856  0.897095   0.938645  0.879104  \n",
       "XGB                         0.092537  0.939041  0.831205   0.798949  0.907463  \n",
       "BaggingClassifier           0.135821  0.925609  0.864601   0.895592  0.864179  \n",
       "Neural Network-1            0.103731  0.925609  0.834620   0.814237  0.896269  "
      ]
     },
     "metadata": {},
     "output_type": "display_data"
    }
   ],
   "source": [
    "table_80_50_train['index']=ind_columns\n",
    "table_80_50_test['index']=ind_columns\n",
    "\n",
    "\n",
    "table_80_50_test.set_index(['index'],drop=True,inplace=True)\n",
    "table_80_50_train.set_index(['index'],drop=True,inplace=True)\n",
    "\n",
    "print(\"Training Results\")\n",
    "display(table_80_50_train)\n",
    "print(\"Test Results\")\n",
    "display(table_80_50_test)"
   ]
  },
  {
   "cell_type": "markdown",
   "metadata": {},
   "source": [
    "### <a id='2.B' style=\"text-decoration : none; color : #000000;\"> B. Average Feature Importances</a>"
   ]
  },
  {
   "cell_type": "code",
   "execution_count": 16,
   "metadata": {},
   "outputs": [
    {
     "data": {
      "application/vnd.plotly.v1+json": {
       "config": {
        "linkText": "Export to plot.ly",
        "plotlyServerURL": "https://plot.ly",
        "showLink": true
       },
       "data": [
        {
         "marker": {
          "color": "rgb(158,202,225)",
          "line": {
           "color": "rgb(8,48,107)",
           "width": 1.5
          }
         },
         "opacity": 0.6,
         "orientation": "h",
         "text": [
          0.1068,
          0.0846,
          0.0697,
          0.0671,
          0.0618,
          0.0583,
          0.045,
          0.0416,
          0.034,
          0.0309,
          0.0285,
          0.0273,
          0.0272,
          0.0261,
          0.0253,
          0.0235,
          0.0221,
          0.021,
          0.0202,
          0.0194,
          0.0156,
          0.0154,
          0.013,
          0.0126,
          0.0123,
          0.0116,
          0.0113,
          0.011,
          0.0108,
          0.0103,
          0.0082,
          0.0075,
          0.0068,
          0.005,
          0.0041,
          0.0039
         ],
         "textposition": "outside",
         "type": "bar",
         "uid": "126c63b3-684e-4d1c-bd86-02b87b290378",
         "x": [
          0.10680984512630967,
          0.08463963553781031,
          0.069713483719236,
          0.06711010676563631,
          0.061800353144523756,
          0.058255080486413036,
          0.04503533934259947,
          0.04161131326436447,
          0.0340459066704933,
          0.030935411038206795,
          0.028546615840229505,
          0.02725434759890294,
          0.027184131813491497,
          0.026091260151062466,
          0.02534490784570944,
          0.023522405188609596,
          0.0220552568962943,
          0.0210485690240563,
          0.020181490302026348,
          0.01939252376636801,
          0.015619435120066411,
          0.015448362946837987,
          0.01296584812788415,
          0.012576608834111125,
          0.012334658608604629,
          0.011620187289566365,
          0.011343745179457203,
          0.011020724960890285,
          0.010833187010920451,
          0.010257386978283364,
          0.008221048891045898,
          0.007486881020013167,
          0.006754680527270798,
          0.0049659315344023555,
          0.004069539127140142,
          0.003903790111614629
         ],
         "y": [
          "total_count",
          "url_length",
          "url_extensions",
          "url_char_w",
          "http_header_content-encoding_gzip",
          "total_href",
          "link_href_out_of_domain",
          "a_count",
          "url_char_.",
          "a_href_out_of_domain",
          "http_header_transfer-encoding_chunked",
          "push",
          "url_char_l",
          "url_char_i",
          "link_type_text/css",
          "meta_count",
          "http_header_cache-control_set_max-age",
          "url_char_z",
          "center_count",
          "p_count",
          "a_href_https",
          "http_header_server_apache",
          "url_extension_.c",
          "http_header_vary_user-agent",
          "img_src_http",
          "form_action_http",
          "http_header_via_1.1",
          "url_char_f",
          "a_href_http",
          "url_extension_.com",
          "a_href_relative",
          "url_extension_endswith_.com",
          "iframe_src_.html",
          "script_async_true",
          "url_char_p",
          "url_char_y"
         ]
        }
       ],
       "layout": {
        "autosize": false,
        "height": 1000,
        "width": 1000,
        "xaxis": {
         "tickfont": {
          "color": "black",
          "size": 12
         },
         "title": "Feature Importances"
        },
        "yaxis": {
         "automargin": true
        }
       }
      },
      "text/html": [
       "<div id=\"45fd1b2d-7806-48c9-830b-bf40f0aa603b\" style=\"height: 1000px; width: 1000px;\" class=\"plotly-graph-div\"></div><script type=\"text/javascript\">require([\"plotly\"], function(Plotly) { window.PLOTLYENV=window.PLOTLYENV || {};window.PLOTLYENV.BASE_URL=\"https://plot.ly\";Plotly.newPlot(\"45fd1b2d-7806-48c9-830b-bf40f0aa603b\", [{\"marker\": {\"color\": \"rgb(158,202,225)\", \"line\": {\"color\": \"rgb(8,48,107)\", \"width\": 1.5}}, \"opacity\": 0.6, \"orientation\": \"h\", \"text\": [0.1068, 0.0846, 0.0697, 0.0671, 0.0618, 0.0583, 0.045, 0.0416, 0.034, 0.0309, 0.0285, 0.0273, 0.0272, 0.0261, 0.0253, 0.0235, 0.0221, 0.021, 0.0202, 0.0194, 0.0156, 0.0154, 0.013, 0.0126, 0.0123, 0.0116, 0.0113, 0.011, 0.0108, 0.0103, 0.0082, 0.0075, 0.0068, 0.005, 0.0041, 0.0039], \"textposition\": \"outside\", \"x\": [0.10680984512630967, 0.08463963553781031, 0.069713483719236, 0.06711010676563631, 0.061800353144523756, 0.058255080486413036, 0.04503533934259947, 0.04161131326436447, 0.0340459066704933, 0.030935411038206795, 0.028546615840229505, 0.02725434759890294, 0.027184131813491497, 0.026091260151062466, 0.02534490784570944, 0.023522405188609596, 0.0220552568962943, 0.0210485690240563, 0.020181490302026348, 0.01939252376636801, 0.015619435120066411, 0.015448362946837987, 0.01296584812788415, 0.012576608834111125, 0.012334658608604629, 0.011620187289566365, 0.011343745179457203, 0.011020724960890285, 0.010833187010920451, 0.010257386978283364, 0.008221048891045898, 0.007486881020013167, 0.006754680527270798, 0.0049659315344023555, 0.004069539127140142, 0.003903790111614629], \"y\": [\"total_count\", \"url_length\", \"url_extensions\", \"url_char_w\", \"http_header_content-encoding_gzip\", \"total_href\", \"link_href_out_of_domain\", \"a_count\", \"url_char_.\", \"a_href_out_of_domain\", \"http_header_transfer-encoding_chunked\", \"push\", \"url_char_l\", \"url_char_i\", \"link_type_text/css\", \"meta_count\", \"http_header_cache-control_set_max-age\", \"url_char_z\", \"center_count\", \"p_count\", \"a_href_https\", \"http_header_server_apache\", \"url_extension_.c\", \"http_header_vary_user-agent\", \"img_src_http\", \"form_action_http\", \"http_header_via_1.1\", \"url_char_f\", \"a_href_http\", \"url_extension_.com\", \"a_href_relative\", \"url_extension_endswith_.com\", \"iframe_src_.html\", \"script_async_true\", \"url_char_p\", \"url_char_y\"], \"type\": \"bar\", \"uid\": \"126c63b3-684e-4d1c-bd86-02b87b290378\"}], {\"autosize\": false, \"height\": 1000, \"width\": 1000, \"xaxis\": {\"tickfont\": {\"color\": \"black\", \"size\": 12}, \"title\": \"Feature Importances\"}, \"yaxis\": {\"automargin\": true}}, {\"showLink\": true, \"linkText\": \"Export to plot.ly\", \"plotlyServerURL\": \"https://plot.ly\"})});</script>"
      ],
      "text/vnd.plotly.v1+html": [
       "<div id=\"45fd1b2d-7806-48c9-830b-bf40f0aa603b\" style=\"height: 1000px; width: 1000px;\" class=\"plotly-graph-div\"></div><script type=\"text/javascript\">require([\"plotly\"], function(Plotly) { window.PLOTLYENV=window.PLOTLYENV || {};window.PLOTLYENV.BASE_URL=\"https://plot.ly\";Plotly.newPlot(\"45fd1b2d-7806-48c9-830b-bf40f0aa603b\", [{\"marker\": {\"color\": \"rgb(158,202,225)\", \"line\": {\"color\": \"rgb(8,48,107)\", \"width\": 1.5}}, \"opacity\": 0.6, \"orientation\": \"h\", \"text\": [0.1068, 0.0846, 0.0697, 0.0671, 0.0618, 0.0583, 0.045, 0.0416, 0.034, 0.0309, 0.0285, 0.0273, 0.0272, 0.0261, 0.0253, 0.0235, 0.0221, 0.021, 0.0202, 0.0194, 0.0156, 0.0154, 0.013, 0.0126, 0.0123, 0.0116, 0.0113, 0.011, 0.0108, 0.0103, 0.0082, 0.0075, 0.0068, 0.005, 0.0041, 0.0039], \"textposition\": \"outside\", \"x\": [0.10680984512630967, 0.08463963553781031, 0.069713483719236, 0.06711010676563631, 0.061800353144523756, 0.058255080486413036, 0.04503533934259947, 0.04161131326436447, 0.0340459066704933, 0.030935411038206795, 0.028546615840229505, 0.02725434759890294, 0.027184131813491497, 0.026091260151062466, 0.02534490784570944, 0.023522405188609596, 0.0220552568962943, 0.0210485690240563, 0.020181490302026348, 0.01939252376636801, 0.015619435120066411, 0.015448362946837987, 0.01296584812788415, 0.012576608834111125, 0.012334658608604629, 0.011620187289566365, 0.011343745179457203, 0.011020724960890285, 0.010833187010920451, 0.010257386978283364, 0.008221048891045898, 0.007486881020013167, 0.006754680527270798, 0.0049659315344023555, 0.004069539127140142, 0.003903790111614629], \"y\": [\"total_count\", \"url_length\", \"url_extensions\", \"url_char_w\", \"http_header_content-encoding_gzip\", \"total_href\", \"link_href_out_of_domain\", \"a_count\", \"url_char_.\", \"a_href_out_of_domain\", \"http_header_transfer-encoding_chunked\", \"push\", \"url_char_l\", \"url_char_i\", \"link_type_text/css\", \"meta_count\", \"http_header_cache-control_set_max-age\", \"url_char_z\", \"center_count\", \"p_count\", \"a_href_https\", \"http_header_server_apache\", \"url_extension_.c\", \"http_header_vary_user-agent\", \"img_src_http\", \"form_action_http\", \"http_header_via_1.1\", \"url_char_f\", \"a_href_http\", \"url_extension_.com\", \"a_href_relative\", \"url_extension_endswith_.com\", \"iframe_src_.html\", \"script_async_true\", \"url_char_p\", \"url_char_y\"], \"type\": \"bar\", \"uid\": \"126c63b3-684e-4d1c-bd86-02b87b290378\"}], {\"autosize\": false, \"height\": 1000, \"width\": 1000, \"xaxis\": {\"tickfont\": {\"color\": \"black\", \"size\": 12}, \"title\": \"Feature Importances\"}, \"yaxis\": {\"automargin\": true}}, {\"showLink\": true, \"linkText\": \"Export to plot.ly\", \"plotlyServerURL\": \"https://plot.ly\"})});</script>"
      ]
     },
     "metadata": {},
     "output_type": "display_data"
    }
   ],
   "source": [
    "feat_impt_plot(np.average(feat_imp,axis=0),columns)"
   ]
  },
  {
   "cell_type": "markdown",
   "metadata": {},
   "source": [
    "### <a id='3' style=\"text-decoration : none; color : #000000;\">3. UnderSampling </a>"
   ]
  },
  {
   "cell_type": "code",
   "execution_count": 18,
   "metadata": {
    "scrolled": false
   },
   "outputs": [
    {
     "name": "stdout",
     "output_type": "stream",
     "text": [
      "Shape after undersampling (6202, 36)\n",
      "\u001b[1mK-Nearest Neighbors\u001b[0m\n",
      "Accuracy of the model for training data is: 0.9496936472105773\n",
      "Confusion Matrix for training data is:\n"
     ]
    },
    {
     "data": {
      "text/plain": [
       "Predicted  False  True  __all__\n",
       "Actual                         \n",
       "False       2962   139     3101\n",
       "True         173  2928     3101\n",
       "__all__     3135  3067     6202"
      ]
     },
     "metadata": {},
     "output_type": "display_data"
    },
    {
     "name": "stdout",
     "output_type": "stream",
     "text": [
      "Accuracy of the model for test data is: 0.9357720119098256\n",
      "Confusion Matrix for test data is:\n"
     ]
    },
    {
     "data": {
      "text/plain": [
       "Predicted  False  True  __all__\n",
       "Actual                         \n",
       "False       9774   641    10415\n",
       "True         114  1226     1340\n",
       "__all__     9888  1867    11755"
      ]
     },
     "metadata": {},
     "output_type": "display_data"
    },
    {
     "name": "stdout",
     "output_type": "stream",
     "text": [
      "\n",
      "\n",
      "\u001b[1mRandomForest Classifier\u001b[0m\n",
      "Accuracy of the model for training data is: 0.9948403740728797\n",
      "Confusion Matrix for training data is:\n"
     ]
    },
    {
     "data": {
      "text/plain": [
       "Predicted  False  True  __all__\n",
       "Actual                         \n",
       "False       3092     9     3101\n",
       "True          23  3078     3101\n",
       "__all__     3115  3087     6202"
      ]
     },
     "metadata": {},
     "output_type": "display_data"
    },
    {
     "name": "stdout",
     "output_type": "stream",
     "text": [
      "Accuracy of the model for test data is: 0.9559336452573373\n",
      "Confusion Matrix for test data is:\n"
     ]
    },
    {
     "data": {
      "text/plain": [
       "Predicted  False  True  __all__\n",
       "Actual                         \n",
       "False       9999   416    10415\n",
       "True         102  1238     1340\n",
       "__all__    10101  1654    11755"
      ]
     },
     "metadata": {},
     "output_type": "display_data"
    },
    {
     "data": {
      "application/vnd.plotly.v1+json": {
       "config": {
        "linkText": "Export to plot.ly",
        "plotlyServerURL": "https://plot.ly",
        "showLink": true
       },
       "data": [
        {
         "marker": {
          "color": "rgb(158,202,225)",
          "line": {
           "color": "rgb(8,48,107)",
           "width": 1.5
          }
         },
         "opacity": 0.6,
         "orientation": "h",
         "text": [
          0.1789,
          0.1276,
          0.086,
          0.0753,
          0.0742,
          0.058,
          0.0476,
          0.0425,
          0.0374,
          0.0357,
          0.0319,
          0.0286,
          0.0218,
          0.0128,
          0.0114,
          0.0109,
          0.0098,
          0.0097,
          0.0091,
          0.0087,
          0.0077,
          0.0075,
          0.007,
          0.0069,
          0.0067,
          0.0063,
          0.0062,
          0.0058,
          0.0056,
          0.0055,
          0.0054,
          0.0045,
          0.0038,
          0.0022,
          0.001,
          0.0001
         ],
         "textposition": "outside",
         "type": "bar",
         "uid": "66cfc2ef-47d5-4db8-82e2-e781dcfee746",
         "x": [
          0.178874170695136,
          0.12764438446611448,
          0.08600830808896054,
          0.07527001050710545,
          0.07415784205712657,
          0.058027712866638236,
          0.04760824601564324,
          0.042459003923347116,
          0.03738714446524132,
          0.035711707423644316,
          0.0318787527293198,
          0.028568733080142194,
          0.02182503044465354,
          0.012763888699634102,
          0.011389963584295856,
          0.010934740180981202,
          0.009788118991298684,
          0.009682524722205247,
          0.009055684265444827,
          0.008684021879134817,
          0.007719121904034784,
          0.007487778756960564,
          0.006982651021924679,
          0.006893776311015005,
          0.006735172782306682,
          0.006316280404827161,
          0.006220918824472511,
          0.005806898452806265,
          0.0056299930398908266,
          0.005452880731770913,
          0.005400131266227426,
          0.004545226676679162,
          0.003795645226471645,
          0.002166830258318757,
          0.0010332327295747069,
          9.347252665138696e-05
         ],
         "y": [
          "a_count",
          "link_href_out_of_domain",
          "total_href",
          "url_length",
          "a_href_out_of_domain",
          "a_href_https",
          "url_extensions",
          "a_href_http",
          "url_char_w",
          "link_type_text/css",
          "url_char_.",
          "total_count",
          "meta_count",
          "url_char_i",
          "http_header_content-encoding_gzip",
          "url_char_z",
          "a_href_relative",
          "http_header_transfer-encoding_chunked",
          "url_char_l",
          "url_char_p",
          "img_src_http",
          "http_header_server_apache",
          "url_char_f",
          "push",
          "url_extension_.c",
          "url_extension_endswith_.com",
          "p_count",
          "url_char_y",
          "script_async_true",
          "http_header_cache-control_set_max-age",
          "url_extension_.com",
          "http_header_vary_user-agent",
          "center_count",
          "form_action_http",
          "http_header_via_1.1",
          "iframe_src_.html"
         ]
        }
       ],
       "layout": {
        "autosize": false,
        "height": 1000,
        "width": 1000,
        "xaxis": {
         "tickfont": {
          "color": "black",
          "size": 12
         },
         "title": "Feature Importances"
        },
        "yaxis": {
         "automargin": true
        }
       }
      },
      "text/html": [
       "<div id=\"0b1ddc72-b040-4720-ad62-58d1d7a4efd0\" style=\"height: 1000px; width: 1000px;\" class=\"plotly-graph-div\"></div><script type=\"text/javascript\">require([\"plotly\"], function(Plotly) { window.PLOTLYENV=window.PLOTLYENV || {};window.PLOTLYENV.BASE_URL=\"https://plot.ly\";Plotly.newPlot(\"0b1ddc72-b040-4720-ad62-58d1d7a4efd0\", [{\"marker\": {\"color\": \"rgb(158,202,225)\", \"line\": {\"color\": \"rgb(8,48,107)\", \"width\": 1.5}}, \"opacity\": 0.6, \"orientation\": \"h\", \"text\": [0.1789, 0.1276, 0.086, 0.0753, 0.0742, 0.058, 0.0476, 0.0425, 0.0374, 0.0357, 0.0319, 0.0286, 0.0218, 0.0128, 0.0114, 0.0109, 0.0098, 0.0097, 0.0091, 0.0087, 0.0077, 0.0075, 0.007, 0.0069, 0.0067, 0.0063, 0.0062, 0.0058, 0.0056, 0.0055, 0.0054, 0.0045, 0.0038, 0.0022, 0.001, 0.0001], \"textposition\": \"outside\", \"x\": [0.178874170695136, 0.12764438446611448, 0.08600830808896054, 0.07527001050710545, 0.07415784205712657, 0.058027712866638236, 0.04760824601564324, 0.042459003923347116, 0.03738714446524132, 0.035711707423644316, 0.0318787527293198, 0.028568733080142194, 0.02182503044465354, 0.012763888699634102, 0.011389963584295856, 0.010934740180981202, 0.009788118991298684, 0.009682524722205247, 0.009055684265444827, 0.008684021879134817, 0.007719121904034784, 0.007487778756960564, 0.006982651021924679, 0.006893776311015005, 0.006735172782306682, 0.006316280404827161, 0.006220918824472511, 0.005806898452806265, 0.0056299930398908266, 0.005452880731770913, 0.005400131266227426, 0.004545226676679162, 0.003795645226471645, 0.002166830258318757, 0.0010332327295747069, 9.347252665138696e-05], \"y\": [\"a_count\", \"link_href_out_of_domain\", \"total_href\", \"url_length\", \"a_href_out_of_domain\", \"a_href_https\", \"url_extensions\", \"a_href_http\", \"url_char_w\", \"link_type_text/css\", \"url_char_.\", \"total_count\", \"meta_count\", \"url_char_i\", \"http_header_content-encoding_gzip\", \"url_char_z\", \"a_href_relative\", \"http_header_transfer-encoding_chunked\", \"url_char_l\", \"url_char_p\", \"img_src_http\", \"http_header_server_apache\", \"url_char_f\", \"push\", \"url_extension_.c\", \"url_extension_endswith_.com\", \"p_count\", \"url_char_y\", \"script_async_true\", \"http_header_cache-control_set_max-age\", \"url_extension_.com\", \"http_header_vary_user-agent\", \"center_count\", \"form_action_http\", \"http_header_via_1.1\", \"iframe_src_.html\"], \"type\": \"bar\", \"uid\": \"66cfc2ef-47d5-4db8-82e2-e781dcfee746\"}], {\"autosize\": false, \"height\": 1000, \"width\": 1000, \"xaxis\": {\"tickfont\": {\"color\": \"black\", \"size\": 12}, \"title\": \"Feature Importances\"}, \"yaxis\": {\"automargin\": true}}, {\"showLink\": true, \"linkText\": \"Export to plot.ly\", \"plotlyServerURL\": \"https://plot.ly\"})});</script>"
      ],
      "text/vnd.plotly.v1+html": [
       "<div id=\"0b1ddc72-b040-4720-ad62-58d1d7a4efd0\" style=\"height: 1000px; width: 1000px;\" class=\"plotly-graph-div\"></div><script type=\"text/javascript\">require([\"plotly\"], function(Plotly) { window.PLOTLYENV=window.PLOTLYENV || {};window.PLOTLYENV.BASE_URL=\"https://plot.ly\";Plotly.newPlot(\"0b1ddc72-b040-4720-ad62-58d1d7a4efd0\", [{\"marker\": {\"color\": \"rgb(158,202,225)\", \"line\": {\"color\": \"rgb(8,48,107)\", \"width\": 1.5}}, \"opacity\": 0.6, \"orientation\": \"h\", \"text\": [0.1789, 0.1276, 0.086, 0.0753, 0.0742, 0.058, 0.0476, 0.0425, 0.0374, 0.0357, 0.0319, 0.0286, 0.0218, 0.0128, 0.0114, 0.0109, 0.0098, 0.0097, 0.0091, 0.0087, 0.0077, 0.0075, 0.007, 0.0069, 0.0067, 0.0063, 0.0062, 0.0058, 0.0056, 0.0055, 0.0054, 0.0045, 0.0038, 0.0022, 0.001, 0.0001], \"textposition\": \"outside\", \"x\": [0.178874170695136, 0.12764438446611448, 0.08600830808896054, 0.07527001050710545, 0.07415784205712657, 0.058027712866638236, 0.04760824601564324, 0.042459003923347116, 0.03738714446524132, 0.035711707423644316, 0.0318787527293198, 0.028568733080142194, 0.02182503044465354, 0.012763888699634102, 0.011389963584295856, 0.010934740180981202, 0.009788118991298684, 0.009682524722205247, 0.009055684265444827, 0.008684021879134817, 0.007719121904034784, 0.007487778756960564, 0.006982651021924679, 0.006893776311015005, 0.006735172782306682, 0.006316280404827161, 0.006220918824472511, 0.005806898452806265, 0.0056299930398908266, 0.005452880731770913, 0.005400131266227426, 0.004545226676679162, 0.003795645226471645, 0.002166830258318757, 0.0010332327295747069, 9.347252665138696e-05], \"y\": [\"a_count\", \"link_href_out_of_domain\", \"total_href\", \"url_length\", \"a_href_out_of_domain\", \"a_href_https\", \"url_extensions\", \"a_href_http\", \"url_char_w\", \"link_type_text/css\", \"url_char_.\", \"total_count\", \"meta_count\", \"url_char_i\", \"http_header_content-encoding_gzip\", \"url_char_z\", \"a_href_relative\", \"http_header_transfer-encoding_chunked\", \"url_char_l\", \"url_char_p\", \"img_src_http\", \"http_header_server_apache\", \"url_char_f\", \"push\", \"url_extension_.c\", \"url_extension_endswith_.com\", \"p_count\", \"url_char_y\", \"script_async_true\", \"http_header_cache-control_set_max-age\", \"url_extension_.com\", \"http_header_vary_user-agent\", \"center_count\", \"form_action_http\", \"http_header_via_1.1\", \"iframe_src_.html\"], \"type\": \"bar\", \"uid\": \"66cfc2ef-47d5-4db8-82e2-e781dcfee746\"}], {\"autosize\": false, \"height\": 1000, \"width\": 1000, \"xaxis\": {\"tickfont\": {\"color\": \"black\", \"size\": 12}, \"title\": \"Feature Importances\"}, \"yaxis\": {\"automargin\": true}}, {\"showLink\": true, \"linkText\": \"Export to plot.ly\", \"plotlyServerURL\": \"https://plot.ly\"})});</script>"
      ]
     },
     "metadata": {},
     "output_type": "display_data"
    },
    {
     "name": "stdout",
     "output_type": "stream",
     "text": [
      "\n",
      "\n",
      "\u001b[1mAdaoost Classifier\u001b[0m\n",
      "Accuracy of the model for training data is: 0.9440503063527894\n",
      "Confusion Matrix for training data is:\n"
     ]
    },
    {
     "data": {
      "text/plain": [
       "Predicted  False  True  __all__\n",
       "Actual                         \n",
       "False       2930   171     3101\n",
       "True         176  2925     3101\n",
       "__all__     3106  3096     6202"
      ]
     },
     "metadata": {},
     "output_type": "display_data"
    },
    {
     "name": "stdout",
     "output_type": "stream",
     "text": [
      "Accuracy of the model for test data is: 0.943428328370906\n",
      "Confusion Matrix for test data is:\n"
     ]
    },
    {
     "data": {
      "text/plain": [
       "Predicted  False  True  __all__\n",
       "Actual                         \n",
       "False       9839   576    10415\n",
       "True          89  1251     1340\n",
       "__all__     9928  1827    11755"
      ]
     },
     "metadata": {},
     "output_type": "display_data"
    },
    {
     "data": {
      "application/vnd.plotly.v1+json": {
       "config": {
        "linkText": "Export to plot.ly",
        "plotlyServerURL": "https://plot.ly",
        "showLink": true
       },
       "data": [
        {
         "marker": {
          "color": "rgb(158,202,225)",
          "line": {
           "color": "rgb(8,48,107)",
           "width": 1.5
          }
         },
         "opacity": 0.6,
         "orientation": "h",
         "text": [
          0.16,
          0.08,
          0.06,
          0.06,
          0.06,
          0.06,
          0.06,
          0.04,
          0.04,
          0.02,
          0.02,
          0.02,
          0.02,
          0.02,
          0.02,
          0.02,
          0.02,
          0.02,
          0.02,
          0.02,
          0.02,
          0.02,
          0.02,
          0.02,
          0.02,
          0.02,
          0.02,
          0.02,
          0,
          0,
          0,
          0,
          0,
          0,
          0,
          0
         ],
         "textposition": "outside",
         "type": "bar",
         "uid": "462cdb68-62ea-4c8e-a64d-1983e47814f6",
         "x": [
          0.16,
          0.08,
          0.06,
          0.06,
          0.06,
          0.06,
          0.06,
          0.04,
          0.04,
          0.02,
          0.02,
          0.02,
          0.02,
          0.02,
          0.02,
          0.02,
          0.02,
          0.02,
          0.02,
          0.02,
          0.02,
          0.02,
          0.02,
          0.02,
          0.02,
          0.02,
          0.02,
          0.02,
          0,
          0,
          0,
          0,
          0,
          0,
          0,
          0
         ],
         "y": [
          "total_count",
          "url_extensions",
          "push",
          "p_count",
          "url_char_w",
          "url_length",
          "a_href_out_of_domain",
          "img_src_http",
          "link_type_text/css",
          "center_count",
          "form_action_http",
          "url_extension_.com",
          "url_extension_.c",
          "url_char_z",
          "url_char_y",
          "a_href_https",
          "url_char_p",
          "url_char_l",
          "url_char_i",
          "url_char_f",
          "http_header_via_1.1",
          "http_header_vary_user-agent",
          "http_header_server_apache",
          "http_header_cache-control_set_max-age",
          "a_href_relative",
          "link_href_out_of_domain",
          "iframe_src_.html",
          "http_header_content-encoding_gzip",
          "http_header_transfer-encoding_chunked",
          "url_char_.",
          "a_count",
          "total_href",
          "script_async_true",
          "meta_count",
          "url_extension_endswith_.com",
          "a_href_http"
         ]
        }
       ],
       "layout": {
        "autosize": false,
        "height": 1000,
        "width": 1000,
        "xaxis": {
         "tickfont": {
          "color": "black",
          "size": 12
         },
         "title": "Feature Importances"
        },
        "yaxis": {
         "automargin": true
        }
       }
      },
      "text/html": [
       "<div id=\"27a7ddbf-25d9-422e-95f5-d93f567f8829\" style=\"height: 1000px; width: 1000px;\" class=\"plotly-graph-div\"></div><script type=\"text/javascript\">require([\"plotly\"], function(Plotly) { window.PLOTLYENV=window.PLOTLYENV || {};window.PLOTLYENV.BASE_URL=\"https://plot.ly\";Plotly.newPlot(\"27a7ddbf-25d9-422e-95f5-d93f567f8829\", [{\"marker\": {\"color\": \"rgb(158,202,225)\", \"line\": {\"color\": \"rgb(8,48,107)\", \"width\": 1.5}}, \"opacity\": 0.6, \"orientation\": \"h\", \"text\": [0.16, 0.08, 0.06, 0.06, 0.06, 0.06, 0.06, 0.04, 0.04, 0.02, 0.02, 0.02, 0.02, 0.02, 0.02, 0.02, 0.02, 0.02, 0.02, 0.02, 0.02, 0.02, 0.02, 0.02, 0.02, 0.02, 0.02, 0.02, 0.0, 0.0, 0.0, 0.0, 0.0, 0.0, 0.0, 0.0], \"textposition\": \"outside\", \"x\": [0.16, 0.08, 0.06, 0.06, 0.06, 0.06, 0.06, 0.04, 0.04, 0.02, 0.02, 0.02, 0.02, 0.02, 0.02, 0.02, 0.02, 0.02, 0.02, 0.02, 0.02, 0.02, 0.02, 0.02, 0.02, 0.02, 0.02, 0.02, 0.0, 0.0, 0.0, 0.0, 0.0, 0.0, 0.0, 0.0], \"y\": [\"total_count\", \"url_extensions\", \"push\", \"p_count\", \"url_char_w\", \"url_length\", \"a_href_out_of_domain\", \"img_src_http\", \"link_type_text/css\", \"center_count\", \"form_action_http\", \"url_extension_.com\", \"url_extension_.c\", \"url_char_z\", \"url_char_y\", \"a_href_https\", \"url_char_p\", \"url_char_l\", \"url_char_i\", \"url_char_f\", \"http_header_via_1.1\", \"http_header_vary_user-agent\", \"http_header_server_apache\", \"http_header_cache-control_set_max-age\", \"a_href_relative\", \"link_href_out_of_domain\", \"iframe_src_.html\", \"http_header_content-encoding_gzip\", \"http_header_transfer-encoding_chunked\", \"url_char_.\", \"a_count\", \"total_href\", \"script_async_true\", \"meta_count\", \"url_extension_endswith_.com\", \"a_href_http\"], \"type\": \"bar\", \"uid\": \"462cdb68-62ea-4c8e-a64d-1983e47814f6\"}], {\"autosize\": false, \"height\": 1000, \"width\": 1000, \"xaxis\": {\"tickfont\": {\"color\": \"black\", \"size\": 12}, \"title\": \"Feature Importances\"}, \"yaxis\": {\"automargin\": true}}, {\"showLink\": true, \"linkText\": \"Export to plot.ly\", \"plotlyServerURL\": \"https://plot.ly\"})});</script>"
      ],
      "text/vnd.plotly.v1+html": [
       "<div id=\"27a7ddbf-25d9-422e-95f5-d93f567f8829\" style=\"height: 1000px; width: 1000px;\" class=\"plotly-graph-div\"></div><script type=\"text/javascript\">require([\"plotly\"], function(Plotly) { window.PLOTLYENV=window.PLOTLYENV || {};window.PLOTLYENV.BASE_URL=\"https://plot.ly\";Plotly.newPlot(\"27a7ddbf-25d9-422e-95f5-d93f567f8829\", [{\"marker\": {\"color\": \"rgb(158,202,225)\", \"line\": {\"color\": \"rgb(8,48,107)\", \"width\": 1.5}}, \"opacity\": 0.6, \"orientation\": \"h\", \"text\": [0.16, 0.08, 0.06, 0.06, 0.06, 0.06, 0.06, 0.04, 0.04, 0.02, 0.02, 0.02, 0.02, 0.02, 0.02, 0.02, 0.02, 0.02, 0.02, 0.02, 0.02, 0.02, 0.02, 0.02, 0.02, 0.02, 0.02, 0.02, 0.0, 0.0, 0.0, 0.0, 0.0, 0.0, 0.0, 0.0], \"textposition\": \"outside\", \"x\": [0.16, 0.08, 0.06, 0.06, 0.06, 0.06, 0.06, 0.04, 0.04, 0.02, 0.02, 0.02, 0.02, 0.02, 0.02, 0.02, 0.02, 0.02, 0.02, 0.02, 0.02, 0.02, 0.02, 0.02, 0.02, 0.02, 0.02, 0.02, 0.0, 0.0, 0.0, 0.0, 0.0, 0.0, 0.0, 0.0], \"y\": [\"total_count\", \"url_extensions\", \"push\", \"p_count\", \"url_char_w\", \"url_length\", \"a_href_out_of_domain\", \"img_src_http\", \"link_type_text/css\", \"center_count\", \"form_action_http\", \"url_extension_.com\", \"url_extension_.c\", \"url_char_z\", \"url_char_y\", \"a_href_https\", \"url_char_p\", \"url_char_l\", \"url_char_i\", \"url_char_f\", \"http_header_via_1.1\", \"http_header_vary_user-agent\", \"http_header_server_apache\", \"http_header_cache-control_set_max-age\", \"a_href_relative\", \"link_href_out_of_domain\", \"iframe_src_.html\", \"http_header_content-encoding_gzip\", \"http_header_transfer-encoding_chunked\", \"url_char_.\", \"a_count\", \"total_href\", \"script_async_true\", \"meta_count\", \"url_extension_endswith_.com\", \"a_href_http\"], \"type\": \"bar\", \"uid\": \"462cdb68-62ea-4c8e-a64d-1983e47814f6\"}], {\"autosize\": false, \"height\": 1000, \"width\": 1000, \"xaxis\": {\"tickfont\": {\"color\": \"black\", \"size\": 12}, \"title\": \"Feature Importances\"}, \"yaxis\": {\"automargin\": true}}, {\"showLink\": true, \"linkText\": \"Export to plot.ly\", \"plotlyServerURL\": \"https://plot.ly\"})});</script>"
      ]
     },
     "metadata": {},
     "output_type": "display_data"
    },
    {
     "name": "stdout",
     "output_type": "stream",
     "text": [
      "\n",
      "\n",
      "\u001b[1mGradientBoosting Classifier\u001b[0m\n",
      "Accuracy of the model for training data is: 0.9558207029990325\n",
      "Confusion Matrix for training data is:\n"
     ]
    },
    {
     "data": {
      "text/plain": [
       "Predicted  False  True  __all__\n",
       "Actual                         \n",
       "False       2965   136     3101\n",
       "True         138  2963     3101\n",
       "__all__     3103  3099     6202"
      ]
     },
     "metadata": {},
     "output_type": "display_data"
    },
    {
     "name": "stdout",
     "output_type": "stream",
     "text": [
      "Accuracy of the model for test data is: 0.9509145044661846\n",
      "Confusion Matrix for test data is:\n"
     ]
    },
    {
     "data": {
      "text/plain": [
       "Predicted  False  True  __all__\n",
       "Actual                         \n",
       "False       9922   493    10415\n",
       "True          84  1256     1340\n",
       "__all__    10006  1749    11755"
      ]
     },
     "metadata": {},
     "output_type": "display_data"
    },
    {
     "data": {
      "application/vnd.plotly.v1+json": {
       "config": {
        "linkText": "Export to plot.ly",
        "plotlyServerURL": "https://plot.ly",
        "showLink": true
       },
       "data": [
        {
         "marker": {
          "color": "rgb(158,202,225)",
          "line": {
           "color": "rgb(8,48,107)",
           "width": 1.5
          }
         },
         "opacity": 0.6,
         "orientation": "h",
         "text": [
          0.2738,
          0.1731,
          0.1695,
          0.08,
          0.0789,
          0.0537,
          0.0469,
          0.022,
          0.0206,
          0.0154,
          0.011,
          0.0085,
          0.0058,
          0.0054,
          0.0045,
          0.0043,
          0.0039,
          0.0034,
          0.0033,
          0.003,
          0.0026,
          0.0017,
          0.0016,
          0.0014,
          0.0013,
          0.0009,
          0.0009,
          0.0007,
          0.0006,
          0.0005,
          0.0003,
          0.0002,
          0.0002,
          0.0002,
          0,
          0
         ],
         "textposition": "outside",
         "type": "bar",
         "uid": "ab1cb61a-fe66-4529-86ad-50c5a3b8d7c8",
         "x": [
          0.2737590415876813,
          0.17306995999336935,
          0.16949585246176463,
          0.07998521475391691,
          0.07886599614213062,
          0.05365381218610987,
          0.046917569287470595,
          0.021952585948817473,
          0.020647679083066642,
          0.015386351306456506,
          0.010982471733741355,
          0.00848216685497313,
          0.00578211098213864,
          0.0053795077664202315,
          0.004547260429269772,
          0.004318352371235967,
          0.003923422179176678,
          0.00338842044743354,
          0.003343523102406805,
          0.0030394379449348572,
          0.0025916044297781653,
          0.0017025297393038388,
          0.0016080289337743413,
          0.0013746871965464595,
          0.001290838086858975,
          0.0009081116755061285,
          0.000871486216978502,
          0.0006656384339884775,
          0.000620527660214831,
          0.000453633653712964,
          0.00026977181128489064,
          0.00024279472072001335,
          0.0002314830409018638,
          0.0002111233416904513,
          2.211031001107594e-05,
          1.4894186214135474e-05
         ],
         "y": [
          "total_count",
          "a_href_out_of_domain",
          "total_href",
          "url_length",
          "url_char_w",
          "url_extensions",
          "meta_count",
          "push",
          "http_header_server_apache",
          "url_char_z",
          "a_count",
          "url_char_.",
          "http_header_content-encoding_gzip",
          "a_href_https",
          "a_href_relative",
          "link_href_out_of_domain",
          "http_header_vary_user-agent",
          "link_type_text/css",
          "p_count",
          "http_header_via_1.1",
          "form_action_http",
          "center_count",
          "url_extension_.c",
          "http_header_transfer-encoding_chunked",
          "http_header_cache-control_set_max-age",
          "url_extension_.com",
          "script_async_true",
          "url_char_i",
          "img_src_http",
          "url_char_l",
          "url_char_y",
          "a_href_http",
          "url_char_f",
          "url_char_p",
          "url_extension_endswith_.com",
          "iframe_src_.html"
         ]
        }
       ],
       "layout": {
        "autosize": false,
        "height": 1000,
        "width": 1000,
        "xaxis": {
         "tickfont": {
          "color": "black",
          "size": 12
         },
         "title": "Feature Importances"
        },
        "yaxis": {
         "automargin": true
        }
       }
      },
      "text/html": [
       "<div id=\"60683c0c-645a-4012-ab0f-5bbe6cc3acb5\" style=\"height: 1000px; width: 1000px;\" class=\"plotly-graph-div\"></div><script type=\"text/javascript\">require([\"plotly\"], function(Plotly) { window.PLOTLYENV=window.PLOTLYENV || {};window.PLOTLYENV.BASE_URL=\"https://plot.ly\";Plotly.newPlot(\"60683c0c-645a-4012-ab0f-5bbe6cc3acb5\", [{\"marker\": {\"color\": \"rgb(158,202,225)\", \"line\": {\"color\": \"rgb(8,48,107)\", \"width\": 1.5}}, \"opacity\": 0.6, \"orientation\": \"h\", \"text\": [0.2738, 0.1731, 0.1695, 0.08, 0.0789, 0.0537, 0.0469, 0.022, 0.0206, 0.0154, 0.011, 0.0085, 0.0058, 0.0054, 0.0045, 0.0043, 0.0039, 0.0034, 0.0033, 0.003, 0.0026, 0.0017, 0.0016, 0.0014, 0.0013, 0.0009, 0.0009, 0.0007, 0.0006, 0.0005, 0.0003, 0.0002, 0.0002, 0.0002, 0.0, 0.0], \"textposition\": \"outside\", \"x\": [0.2737590415876813, 0.17306995999336935, 0.16949585246176463, 0.07998521475391691, 0.07886599614213062, 0.05365381218610987, 0.046917569287470595, 0.021952585948817473, 0.020647679083066642, 0.015386351306456506, 0.010982471733741355, 0.00848216685497313, 0.00578211098213864, 0.0053795077664202315, 0.004547260429269772, 0.004318352371235967, 0.003923422179176678, 0.00338842044743354, 0.003343523102406805, 0.0030394379449348572, 0.0025916044297781653, 0.0017025297393038388, 0.0016080289337743413, 0.0013746871965464595, 0.001290838086858975, 0.0009081116755061285, 0.000871486216978502, 0.0006656384339884775, 0.000620527660214831, 0.000453633653712964, 0.00026977181128489064, 0.00024279472072001335, 0.0002314830409018638, 0.0002111233416904513, 2.211031001107594e-05, 1.4894186214135474e-05], \"y\": [\"total_count\", \"a_href_out_of_domain\", \"total_href\", \"url_length\", \"url_char_w\", \"url_extensions\", \"meta_count\", \"push\", \"http_header_server_apache\", \"url_char_z\", \"a_count\", \"url_char_.\", \"http_header_content-encoding_gzip\", \"a_href_https\", \"a_href_relative\", \"link_href_out_of_domain\", \"http_header_vary_user-agent\", \"link_type_text/css\", \"p_count\", \"http_header_via_1.1\", \"form_action_http\", \"center_count\", \"url_extension_.c\", \"http_header_transfer-encoding_chunked\", \"http_header_cache-control_set_max-age\", \"url_extension_.com\", \"script_async_true\", \"url_char_i\", \"img_src_http\", \"url_char_l\", \"url_char_y\", \"a_href_http\", \"url_char_f\", \"url_char_p\", \"url_extension_endswith_.com\", \"iframe_src_.html\"], \"type\": \"bar\", \"uid\": \"ab1cb61a-fe66-4529-86ad-50c5a3b8d7c8\"}], {\"autosize\": false, \"height\": 1000, \"width\": 1000, \"xaxis\": {\"tickfont\": {\"color\": \"black\", \"size\": 12}, \"title\": \"Feature Importances\"}, \"yaxis\": {\"automargin\": true}}, {\"showLink\": true, \"linkText\": \"Export to plot.ly\", \"plotlyServerURL\": \"https://plot.ly\"})});</script>"
      ],
      "text/vnd.plotly.v1+html": [
       "<div id=\"60683c0c-645a-4012-ab0f-5bbe6cc3acb5\" style=\"height: 1000px; width: 1000px;\" class=\"plotly-graph-div\"></div><script type=\"text/javascript\">require([\"plotly\"], function(Plotly) { window.PLOTLYENV=window.PLOTLYENV || {};window.PLOTLYENV.BASE_URL=\"https://plot.ly\";Plotly.newPlot(\"60683c0c-645a-4012-ab0f-5bbe6cc3acb5\", [{\"marker\": {\"color\": \"rgb(158,202,225)\", \"line\": {\"color\": \"rgb(8,48,107)\", \"width\": 1.5}}, \"opacity\": 0.6, \"orientation\": \"h\", \"text\": [0.2738, 0.1731, 0.1695, 0.08, 0.0789, 0.0537, 0.0469, 0.022, 0.0206, 0.0154, 0.011, 0.0085, 0.0058, 0.0054, 0.0045, 0.0043, 0.0039, 0.0034, 0.0033, 0.003, 0.0026, 0.0017, 0.0016, 0.0014, 0.0013, 0.0009, 0.0009, 0.0007, 0.0006, 0.0005, 0.0003, 0.0002, 0.0002, 0.0002, 0.0, 0.0], \"textposition\": \"outside\", \"x\": [0.2737590415876813, 0.17306995999336935, 0.16949585246176463, 0.07998521475391691, 0.07886599614213062, 0.05365381218610987, 0.046917569287470595, 0.021952585948817473, 0.020647679083066642, 0.015386351306456506, 0.010982471733741355, 0.00848216685497313, 0.00578211098213864, 0.0053795077664202315, 0.004547260429269772, 0.004318352371235967, 0.003923422179176678, 0.00338842044743354, 0.003343523102406805, 0.0030394379449348572, 0.0025916044297781653, 0.0017025297393038388, 0.0016080289337743413, 0.0013746871965464595, 0.001290838086858975, 0.0009081116755061285, 0.000871486216978502, 0.0006656384339884775, 0.000620527660214831, 0.000453633653712964, 0.00026977181128489064, 0.00024279472072001335, 0.0002314830409018638, 0.0002111233416904513, 2.211031001107594e-05, 1.4894186214135474e-05], \"y\": [\"total_count\", \"a_href_out_of_domain\", \"total_href\", \"url_length\", \"url_char_w\", \"url_extensions\", \"meta_count\", \"push\", \"http_header_server_apache\", \"url_char_z\", \"a_count\", \"url_char_.\", \"http_header_content-encoding_gzip\", \"a_href_https\", \"a_href_relative\", \"link_href_out_of_domain\", \"http_header_vary_user-agent\", \"link_type_text/css\", \"p_count\", \"http_header_via_1.1\", \"form_action_http\", \"center_count\", \"url_extension_.c\", \"http_header_transfer-encoding_chunked\", \"http_header_cache-control_set_max-age\", \"url_extension_.com\", \"script_async_true\", \"url_char_i\", \"img_src_http\", \"url_char_l\", \"url_char_y\", \"a_href_http\", \"url_char_f\", \"url_char_p\", \"url_extension_endswith_.com\", \"iframe_src_.html\"], \"type\": \"bar\", \"uid\": \"ab1cb61a-fe66-4529-86ad-50c5a3b8d7c8\"}], {\"autosize\": false, \"height\": 1000, \"width\": 1000, \"xaxis\": {\"tickfont\": {\"color\": \"black\", \"size\": 12}, \"title\": \"Feature Importances\"}, \"yaxis\": {\"automargin\": true}}, {\"showLink\": true, \"linkText\": \"Export to plot.ly\", \"plotlyServerURL\": \"https://plot.ly\"})});</script>"
      ]
     },
     "metadata": {},
     "output_type": "display_data"
    },
    {
     "name": "stdout",
     "output_type": "stream",
     "text": [
      "\n",
      "\n",
      "\u001b[1mExtraTree Classifier\u001b[0m\n",
      "Accuracy of the model for training data is: 0.9980651402773298\n",
      "Confusion Matrix for training data is:\n"
     ]
    },
    {
     "data": {
      "text/plain": [
       "Predicted  False  True  __all__\n",
       "Actual                         \n",
       "False       3101     0     3101\n",
       "True          12  3089     3101\n",
       "__all__     3113  3089     6202"
      ]
     },
     "metadata": {},
     "output_type": "display_data"
    },
    {
     "name": "stdout",
     "output_type": "stream",
     "text": [
      "Accuracy of the model for test data is: 0.9590812420246704\n",
      "Confusion Matrix for test data is:\n"
     ]
    },
    {
     "data": {
      "text/plain": [
       "Predicted  False  True  __all__\n",
       "Actual                         \n",
       "False      10043   372    10415\n",
       "True         109  1231     1340\n",
       "__all__    10152  1603    11755"
      ]
     },
     "metadata": {},
     "output_type": "display_data"
    },
    {
     "data": {
      "application/vnd.plotly.v1+json": {
       "config": {
        "linkText": "Export to plot.ly",
        "plotlyServerURL": "https://plot.ly",
        "showLink": true
       },
       "data": [
        {
         "marker": {
          "color": "rgb(158,202,225)",
          "line": {
           "color": "rgb(8,48,107)",
           "width": 1.5
          }
         },
         "opacity": 0.6,
         "orientation": "h",
         "text": [
          0.2386,
          0.0834,
          0.061,
          0.0587,
          0.0533,
          0.0519,
          0.0392,
          0.0285,
          0.028,
          0.0266,
          0.0256,
          0.0213,
          0.0203,
          0.0198,
          0.0196,
          0.0177,
          0.0173,
          0.0167,
          0.0165,
          0.0154,
          0.0144,
          0.0137,
          0.0115,
          0.0113,
          0.0111,
          0.0103,
          0.0093,
          0.0084,
          0.0078,
          0.0077,
          0.0076,
          0.0074,
          0.0053,
          0.0053,
          0.0048,
          0.0047
         ],
         "textposition": "outside",
         "type": "bar",
         "uid": "bc660683-69da-4c35-9a44-ed53032860c3",
         "x": [
          0.23858203370896047,
          0.08335751386897923,
          0.061034563827884,
          0.05874469842650841,
          0.053303512061466024,
          0.051931932667687405,
          0.03919619100939591,
          0.02845929130018093,
          0.027994394218389843,
          0.026628648299399756,
          0.02563448413684356,
          0.021328803580054536,
          0.020271615782328417,
          0.01981981702793111,
          0.019560216411226905,
          0.017712371178646834,
          0.017278314875930314,
          0.01665543279138459,
          0.016507188528776588,
          0.015404356953278344,
          0.014365923337277325,
          0.013665114030704513,
          0.011484372003578946,
          0.011278052253457679,
          0.011107248274924276,
          0.010265472800332675,
          0.009349251561971686,
          0.00842953852503437,
          0.007751368140025704,
          0.007716997053341499,
          0.007569856720146797,
          0.007444938183610938,
          0.005331947269343012,
          0.0053121511259001655,
          0.004795468630805374,
          0.0047269194342919145
         ],
         "y": [
          "http_header_content-encoding_gzip",
          "http_header_transfer-encoding_chunked",
          "url_char_.",
          "url_length",
          "url_char_w",
          "url_extensions",
          "link_href_out_of_domain",
          "a_href_out_of_domain",
          "http_header_cache-control_set_max-age",
          "url_extension_endswith_.com",
          "http_header_vary_user-agent",
          "url_char_i",
          "p_count",
          "total_count",
          "a_href_relative",
          "url_char_l",
          "url_char_z",
          "http_header_server_apache",
          "a_count",
          "meta_count",
          "url_char_y",
          "total_href",
          "url_char_p",
          "a_href_https",
          "a_href_http",
          "url_extension_.c",
          "script_async_true",
          "url_char_f",
          "iframe_src_.html",
          "link_type_text/css",
          "push",
          "form_action_http",
          "center_count",
          "img_src_http",
          "url_extension_.com",
          "http_header_via_1.1"
         ]
        }
       ],
       "layout": {
        "autosize": false,
        "height": 1000,
        "width": 1000,
        "xaxis": {
         "tickfont": {
          "color": "black",
          "size": 12
         },
         "title": "Feature Importances"
        },
        "yaxis": {
         "automargin": true
        }
       }
      },
      "text/html": [
       "<div id=\"6114526f-722d-4277-ac32-54d1b9020df2\" style=\"height: 1000px; width: 1000px;\" class=\"plotly-graph-div\"></div><script type=\"text/javascript\">require([\"plotly\"], function(Plotly) { window.PLOTLYENV=window.PLOTLYENV || {};window.PLOTLYENV.BASE_URL=\"https://plot.ly\";Plotly.newPlot(\"6114526f-722d-4277-ac32-54d1b9020df2\", [{\"marker\": {\"color\": \"rgb(158,202,225)\", \"line\": {\"color\": \"rgb(8,48,107)\", \"width\": 1.5}}, \"opacity\": 0.6, \"orientation\": \"h\", \"text\": [0.2386, 0.0834, 0.061, 0.0587, 0.0533, 0.0519, 0.0392, 0.0285, 0.028, 0.0266, 0.0256, 0.0213, 0.0203, 0.0198, 0.0196, 0.0177, 0.0173, 0.0167, 0.0165, 0.0154, 0.0144, 0.0137, 0.0115, 0.0113, 0.0111, 0.0103, 0.0093, 0.0084, 0.0078, 0.0077, 0.0076, 0.0074, 0.0053, 0.0053, 0.0048, 0.0047], \"textposition\": \"outside\", \"x\": [0.23858203370896047, 0.08335751386897923, 0.061034563827884, 0.05874469842650841, 0.053303512061466024, 0.051931932667687405, 0.03919619100939591, 0.02845929130018093, 0.027994394218389843, 0.026628648299399756, 0.02563448413684356, 0.021328803580054536, 0.020271615782328417, 0.01981981702793111, 0.019560216411226905, 0.017712371178646834, 0.017278314875930314, 0.01665543279138459, 0.016507188528776588, 0.015404356953278344, 0.014365923337277325, 0.013665114030704513, 0.011484372003578946, 0.011278052253457679, 0.011107248274924276, 0.010265472800332675, 0.009349251561971686, 0.00842953852503437, 0.007751368140025704, 0.007716997053341499, 0.007569856720146797, 0.007444938183610938, 0.005331947269343012, 0.0053121511259001655, 0.004795468630805374, 0.0047269194342919145], \"y\": [\"http_header_content-encoding_gzip\", \"http_header_transfer-encoding_chunked\", \"url_char_.\", \"url_length\", \"url_char_w\", \"url_extensions\", \"link_href_out_of_domain\", \"a_href_out_of_domain\", \"http_header_cache-control_set_max-age\", \"url_extension_endswith_.com\", \"http_header_vary_user-agent\", \"url_char_i\", \"p_count\", \"total_count\", \"a_href_relative\", \"url_char_l\", \"url_char_z\", \"http_header_server_apache\", \"a_count\", \"meta_count\", \"url_char_y\", \"total_href\", \"url_char_p\", \"a_href_https\", \"a_href_http\", \"url_extension_.c\", \"script_async_true\", \"url_char_f\", \"iframe_src_.html\", \"link_type_text/css\", \"push\", \"form_action_http\", \"center_count\", \"img_src_http\", \"url_extension_.com\", \"http_header_via_1.1\"], \"type\": \"bar\", \"uid\": \"bc660683-69da-4c35-9a44-ed53032860c3\"}], {\"autosize\": false, \"height\": 1000, \"width\": 1000, \"xaxis\": {\"tickfont\": {\"color\": \"black\", \"size\": 12}, \"title\": \"Feature Importances\"}, \"yaxis\": {\"automargin\": true}}, {\"showLink\": true, \"linkText\": \"Export to plot.ly\", \"plotlyServerURL\": \"https://plot.ly\"})});</script>"
      ],
      "text/vnd.plotly.v1+html": [
       "<div id=\"6114526f-722d-4277-ac32-54d1b9020df2\" style=\"height: 1000px; width: 1000px;\" class=\"plotly-graph-div\"></div><script type=\"text/javascript\">require([\"plotly\"], function(Plotly) { window.PLOTLYENV=window.PLOTLYENV || {};window.PLOTLYENV.BASE_URL=\"https://plot.ly\";Plotly.newPlot(\"6114526f-722d-4277-ac32-54d1b9020df2\", [{\"marker\": {\"color\": \"rgb(158,202,225)\", \"line\": {\"color\": \"rgb(8,48,107)\", \"width\": 1.5}}, \"opacity\": 0.6, \"orientation\": \"h\", \"text\": [0.2386, 0.0834, 0.061, 0.0587, 0.0533, 0.0519, 0.0392, 0.0285, 0.028, 0.0266, 0.0256, 0.0213, 0.0203, 0.0198, 0.0196, 0.0177, 0.0173, 0.0167, 0.0165, 0.0154, 0.0144, 0.0137, 0.0115, 0.0113, 0.0111, 0.0103, 0.0093, 0.0084, 0.0078, 0.0077, 0.0076, 0.0074, 0.0053, 0.0053, 0.0048, 0.0047], \"textposition\": \"outside\", \"x\": [0.23858203370896047, 0.08335751386897923, 0.061034563827884, 0.05874469842650841, 0.053303512061466024, 0.051931932667687405, 0.03919619100939591, 0.02845929130018093, 0.027994394218389843, 0.026628648299399756, 0.02563448413684356, 0.021328803580054536, 0.020271615782328417, 0.01981981702793111, 0.019560216411226905, 0.017712371178646834, 0.017278314875930314, 0.01665543279138459, 0.016507188528776588, 0.015404356953278344, 0.014365923337277325, 0.013665114030704513, 0.011484372003578946, 0.011278052253457679, 0.011107248274924276, 0.010265472800332675, 0.009349251561971686, 0.00842953852503437, 0.007751368140025704, 0.007716997053341499, 0.007569856720146797, 0.007444938183610938, 0.005331947269343012, 0.0053121511259001655, 0.004795468630805374, 0.0047269194342919145], \"y\": [\"http_header_content-encoding_gzip\", \"http_header_transfer-encoding_chunked\", \"url_char_.\", \"url_length\", \"url_char_w\", \"url_extensions\", \"link_href_out_of_domain\", \"a_href_out_of_domain\", \"http_header_cache-control_set_max-age\", \"url_extension_endswith_.com\", \"http_header_vary_user-agent\", \"url_char_i\", \"p_count\", \"total_count\", \"a_href_relative\", \"url_char_l\", \"url_char_z\", \"http_header_server_apache\", \"a_count\", \"meta_count\", \"url_char_y\", \"total_href\", \"url_char_p\", \"a_href_https\", \"a_href_http\", \"url_extension_.c\", \"script_async_true\", \"url_char_f\", \"iframe_src_.html\", \"link_type_text/css\", \"push\", \"form_action_http\", \"center_count\", \"img_src_http\", \"url_extension_.com\", \"http_header_via_1.1\"], \"type\": \"bar\", \"uid\": \"bc660683-69da-4c35-9a44-ed53032860c3\"}], {\"autosize\": false, \"height\": 1000, \"width\": 1000, \"xaxis\": {\"tickfont\": {\"color\": \"black\", \"size\": 12}, \"title\": \"Feature Importances\"}, \"yaxis\": {\"automargin\": true}}, {\"showLink\": true, \"linkText\": \"Export to plot.ly\", \"plotlyServerURL\": \"https://plot.ly\"})});</script>"
      ]
     },
     "metadata": {},
     "output_type": "display_data"
    },
    {
     "name": "stdout",
     "output_type": "stream",
     "text": [
      "\n",
      "\n",
      "\u001b[1mXGB Classifier\u001b[0m\n",
      "Accuracy of the model for training data is: 0.9525959367945824\n",
      "Confusion Matrix for training data is:\n"
     ]
    },
    {
     "data": {
      "text/plain": [
       "Predicted  False  True  __all__\n",
       "Actual                         \n",
       "False       2965   136     3101\n",
       "True         158  2943     3101\n",
       "__all__     3123  3079     6202"
      ]
     },
     "metadata": {},
     "output_type": "display_data"
    },
    {
     "name": "stdout",
     "output_type": "stream",
     "text": [
      "Accuracy of the model for test data is: 0.9538919608677159\n",
      "Confusion Matrix for test data is:\n"
     ]
    },
    {
     "data": {
      "text/plain": [
       "Predicted  False  True  __all__\n",
       "Actual                         \n",
       "False       9959   456    10415\n",
       "True          86  1254     1340\n",
       "__all__    10045  1710    11755"
      ]
     },
     "metadata": {},
     "output_type": "display_data"
    },
    {
     "data": {
      "application/vnd.plotly.v1+json": {
       "config": {
        "linkText": "Export to plot.ly",
        "plotlyServerURL": "https://plot.ly",
        "showLink": true
       },
       "data": [
        {
         "marker": {
          "color": "rgb(158,202,225)",
          "line": {
           "color": "rgb(8,48,107)",
           "width": 1.5
          }
         },
         "opacity": 0.6,
         "orientation": "h",
         "text": [
          0.126,
          0.084,
          0.0607,
          0.0575,
          0.056,
          0.0544,
          0.0498,
          0.0451,
          0.0404,
          0.0358,
          0.0327,
          0.0249,
          0.0202,
          0.0202,
          0.0202,
          0.0187,
          0.0187,
          0.0187,
          0.0187,
          0.0187,
          0.0171,
          0.014,
          0.014,
          0.014,
          0.014,
          0.014,
          0.0124,
          0.0124,
          0.0109,
          0.0109,
          0.0093,
          0.0093,
          0.0093,
          0.0093,
          0.0062,
          0.0016
         ],
         "textposition": "outside",
         "type": "bar",
         "uid": "4d6658b5-760f-4f71-9356-08f3c868951f",
         "x": [
          0.12597200274467468,
          0.08398133516311646,
          0.060653187334537506,
          0.057542767375707626,
          0.055987559258937836,
          0.05443234741687775,
          0.049766719341278076,
          0.04510108754038811,
          0.04043545946478844,
          0.03576982766389847,
          0.03265940770506859,
          0.024883359670639038,
          0.02021772973239422,
          0.02021772973239422,
          0.02021772973239422,
          0.01866251975297928,
          0.01866251975297928,
          0.01866251975297928,
          0.01866251975297928,
          0.01866251975297928,
          0.01710730977356434,
          0.013996889814734459,
          0.013996889814734459,
          0.013996889814734459,
          0.013996889814734459,
          0.013996889814734459,
          0.012441679835319519,
          0.012441679835319519,
          0.01088646985590458,
          0.01088646985590458,
          0.00933125987648964,
          0.00933125987648964,
          0.00933125987648964,
          0.00933125987648964,
          0.0062208399176597595,
          0.0015552099794149399
         ],
         "y": [
          "url_length",
          "url_char_w",
          "total_count",
          "url_extensions",
          "push",
          "a_href_out_of_domain",
          "p_count",
          "url_char_.",
          "link_type_text/css",
          "http_header_server_apache",
          "http_header_content-encoding_gzip",
          "a_href_https",
          "url_extension_.com",
          "img_src_http",
          "link_href_out_of_domain",
          "url_char_z",
          "url_char_l",
          "http_header_via_1.1",
          "a_href_relative",
          "form_action_http",
          "a_count",
          "script_async_true",
          "url_extension_.c",
          "center_count",
          "url_char_p",
          "http_header_cache-control_set_max-age",
          "url_char_i",
          "http_header_transfer-encoding_chunked",
          "meta_count",
          "http_header_vary_user-agent",
          "url_char_f",
          "total_href",
          "iframe_src_.html",
          "a_href_http",
          "url_extension_endswith_.com",
          "url_char_y"
         ]
        }
       ],
       "layout": {
        "autosize": false,
        "height": 1000,
        "width": 1000,
        "xaxis": {
         "tickfont": {
          "color": "black",
          "size": 12
         },
         "title": "Feature Importances"
        },
        "yaxis": {
         "automargin": true
        }
       }
      },
      "text/html": [
       "<div id=\"ae74acb1-33e2-4a4d-a68a-0a58f25cb2c1\" style=\"height: 1000px; width: 1000px;\" class=\"plotly-graph-div\"></div><script type=\"text/javascript\">require([\"plotly\"], function(Plotly) { window.PLOTLYENV=window.PLOTLYENV || {};window.PLOTLYENV.BASE_URL=\"https://plot.ly\";Plotly.newPlot(\"ae74acb1-33e2-4a4d-a68a-0a58f25cb2c1\", [{\"marker\": {\"color\": \"rgb(158,202,225)\", \"line\": {\"color\": \"rgb(8,48,107)\", \"width\": 1.5}}, \"opacity\": 0.6, \"orientation\": \"h\", \"text\": [0.126, 0.084, 0.0607, 0.0575, 0.056, 0.0544, 0.0498, 0.0451, 0.0404, 0.0358, 0.0327, 0.0249, 0.0202, 0.0202, 0.0202, 0.0187, 0.0187, 0.0187, 0.0187, 0.0187, 0.0171, 0.014, 0.014, 0.014, 0.014, 0.014, 0.0124, 0.0124, 0.0109, 0.0109, 0.0093, 0.0093, 0.0093, 0.0093, 0.0062, 0.0016], \"textposition\": \"outside\", \"x\": [0.12597200274467468, 0.08398133516311646, 0.060653187334537506, 0.057542767375707626, 0.055987559258937836, 0.05443234741687775, 0.049766719341278076, 0.04510108754038811, 0.04043545946478844, 0.03576982766389847, 0.03265940770506859, 0.024883359670639038, 0.02021772973239422, 0.02021772973239422, 0.02021772973239422, 0.01866251975297928, 0.01866251975297928, 0.01866251975297928, 0.01866251975297928, 0.01866251975297928, 0.01710730977356434, 0.013996889814734459, 0.013996889814734459, 0.013996889814734459, 0.013996889814734459, 0.013996889814734459, 0.012441679835319519, 0.012441679835319519, 0.01088646985590458, 0.01088646985590458, 0.00933125987648964, 0.00933125987648964, 0.00933125987648964, 0.00933125987648964, 0.0062208399176597595, 0.0015552099794149399], \"y\": [\"url_length\", \"url_char_w\", \"total_count\", \"url_extensions\", \"push\", \"a_href_out_of_domain\", \"p_count\", \"url_char_.\", \"link_type_text/css\", \"http_header_server_apache\", \"http_header_content-encoding_gzip\", \"a_href_https\", \"url_extension_.com\", \"img_src_http\", \"link_href_out_of_domain\", \"url_char_z\", \"url_char_l\", \"http_header_via_1.1\", \"a_href_relative\", \"form_action_http\", \"a_count\", \"script_async_true\", \"url_extension_.c\", \"center_count\", \"url_char_p\", \"http_header_cache-control_set_max-age\", \"url_char_i\", \"http_header_transfer-encoding_chunked\", \"meta_count\", \"http_header_vary_user-agent\", \"url_char_f\", \"total_href\", \"iframe_src_.html\", \"a_href_http\", \"url_extension_endswith_.com\", \"url_char_y\"], \"type\": \"bar\", \"uid\": \"4d6658b5-760f-4f71-9356-08f3c868951f\"}], {\"autosize\": false, \"height\": 1000, \"width\": 1000, \"xaxis\": {\"tickfont\": {\"color\": \"black\", \"size\": 12}, \"title\": \"Feature Importances\"}, \"yaxis\": {\"automargin\": true}}, {\"showLink\": true, \"linkText\": \"Export to plot.ly\", \"plotlyServerURL\": \"https://plot.ly\"})});</script>"
      ],
      "text/vnd.plotly.v1+html": [
       "<div id=\"ae74acb1-33e2-4a4d-a68a-0a58f25cb2c1\" style=\"height: 1000px; width: 1000px;\" class=\"plotly-graph-div\"></div><script type=\"text/javascript\">require([\"plotly\"], function(Plotly) { window.PLOTLYENV=window.PLOTLYENV || {};window.PLOTLYENV.BASE_URL=\"https://plot.ly\";Plotly.newPlot(\"ae74acb1-33e2-4a4d-a68a-0a58f25cb2c1\", [{\"marker\": {\"color\": \"rgb(158,202,225)\", \"line\": {\"color\": \"rgb(8,48,107)\", \"width\": 1.5}}, \"opacity\": 0.6, \"orientation\": \"h\", \"text\": [0.126, 0.084, 0.0607, 0.0575, 0.056, 0.0544, 0.0498, 0.0451, 0.0404, 0.0358, 0.0327, 0.0249, 0.0202, 0.0202, 0.0202, 0.0187, 0.0187, 0.0187, 0.0187, 0.0187, 0.0171, 0.014, 0.014, 0.014, 0.014, 0.014, 0.0124, 0.0124, 0.0109, 0.0109, 0.0093, 0.0093, 0.0093, 0.0093, 0.0062, 0.0016], \"textposition\": \"outside\", \"x\": [0.12597200274467468, 0.08398133516311646, 0.060653187334537506, 0.057542767375707626, 0.055987559258937836, 0.05443234741687775, 0.049766719341278076, 0.04510108754038811, 0.04043545946478844, 0.03576982766389847, 0.03265940770506859, 0.024883359670639038, 0.02021772973239422, 0.02021772973239422, 0.02021772973239422, 0.01866251975297928, 0.01866251975297928, 0.01866251975297928, 0.01866251975297928, 0.01866251975297928, 0.01710730977356434, 0.013996889814734459, 0.013996889814734459, 0.013996889814734459, 0.013996889814734459, 0.013996889814734459, 0.012441679835319519, 0.012441679835319519, 0.01088646985590458, 0.01088646985590458, 0.00933125987648964, 0.00933125987648964, 0.00933125987648964, 0.00933125987648964, 0.0062208399176597595, 0.0015552099794149399], \"y\": [\"url_length\", \"url_char_w\", \"total_count\", \"url_extensions\", \"push\", \"a_href_out_of_domain\", \"p_count\", \"url_char_.\", \"link_type_text/css\", \"http_header_server_apache\", \"http_header_content-encoding_gzip\", \"a_href_https\", \"url_extension_.com\", \"img_src_http\", \"link_href_out_of_domain\", \"url_char_z\", \"url_char_l\", \"http_header_via_1.1\", \"a_href_relative\", \"form_action_http\", \"a_count\", \"script_async_true\", \"url_extension_.c\", \"center_count\", \"url_char_p\", \"http_header_cache-control_set_max-age\", \"url_char_i\", \"http_header_transfer-encoding_chunked\", \"meta_count\", \"http_header_vary_user-agent\", \"url_char_f\", \"total_href\", \"iframe_src_.html\", \"a_href_http\", \"url_extension_endswith_.com\", \"url_char_y\"], \"type\": \"bar\", \"uid\": \"4d6658b5-760f-4f71-9356-08f3c868951f\"}], {\"autosize\": false, \"height\": 1000, \"width\": 1000, \"xaxis\": {\"tickfont\": {\"color\": \"black\", \"size\": 12}, \"title\": \"Feature Importances\"}, \"yaxis\": {\"automargin\": true}}, {\"showLink\": true, \"linkText\": \"Export to plot.ly\", \"plotlyServerURL\": \"https://plot.ly\"})});</script>"
      ]
     },
     "metadata": {},
     "output_type": "display_data"
    },
    {
     "name": "stdout",
     "output_type": "stream",
     "text": [
      "\n",
      "\n",
      "\u001b[1mBagging Classifier\u001b[0m\n",
      "Accuracy of the model for training data is: 0.9941954208319896\n",
      "Confusion Matrix for training data is:\n"
     ]
    },
    {
     "data": {
      "text/plain": [
       "Predicted  False  True  __all__\n",
       "Actual                         \n",
       "False       3091    10     3101\n",
       "True          26  3075     3101\n",
       "__all__     3117  3085     6202"
      ]
     },
     "metadata": {},
     "output_type": "display_data"
    },
    {
     "name": "stdout",
     "output_type": "stream",
     "text": [
      "Accuracy of the model for test data is: 0.953806890684815\n",
      "Confusion Matrix for test data is:\n"
     ]
    },
    {
     "data": {
      "text/plain": [
       "Predicted  False  True  __all__\n",
       "Actual                         \n",
       "False       9980   435    10415\n",
       "True         108  1232     1340\n",
       "__all__    10088  1667    11755"
      ]
     },
     "metadata": {},
     "output_type": "display_data"
    },
    {
     "name": "stdout",
     "output_type": "stream",
     "text": [
      "\n",
      "\n",
      "\u001b[1mNeural Network-1\u001b[0m\n",
      "The accuracy of the model on training data is: 0.990809416317317\n"
     ]
    },
    {
     "data": {
      "text/plain": [
       "Predicted  False  True  __all__\n",
       "Actual                         \n",
       "False       3093     8     3101\n",
       "True          49  3052     3101\n",
       "__all__     3142  3060     6202"
      ]
     },
     "metadata": {},
     "output_type": "display_data"
    },
    {
     "name": "stdout",
     "output_type": "stream",
     "text": [
      "The accuracy of the model on test data is: 0.9549978732454275\n"
     ]
    },
    {
     "data": {
      "text/plain": [
       "Predicted  False  True  __all__\n",
       "Actual                         \n",
       "False      10015   400    10415\n",
       "True         129  1211     1340\n",
       "__all__    10144  1611    11755"
      ]
     },
     "metadata": {},
     "output_type": "display_data"
    },
    {
     "name": "stdout",
     "output_type": "stream",
     "text": [
      "\n",
      "\n"
     ]
    }
   ],
   "source": [
    "df_non=train[train.Target==0]\n",
    "df_mal=train[train.Target==1]\n",
    "\n",
    "df_non=df_non.sample(frac=len(df_mal)/len(df_non),random_state=0)\n",
    "df_u=df_non.append(df_mal)\n",
    "df_u.Target.value_counts() \n",
    "\n",
    "X_train=df_u[columns]\n",
    "X_train=scaler.transform(X_train)\n",
    "Y_train=df_u.Target.values\n",
    "\n",
    "print(\"Shape after undersampling\",X_train.shape)\n",
    "\n",
    "## Table to store training and test measures so we can compare later\n",
    "table_80_50_train=pd.DataFrame(columns=['accuracy','TP','TN','FP','FN','FPR','FNR'])\n",
    "table_80_50_test=pd.DataFrame(columns=['accuracy','TP','TN','FP','FN','FPR','FNR','auc','MCC','Precision','Recall'])\n",
    "\n",
    "feat_imp=[None]*5\n",
    "j=0\n",
    "for i in range(0,8):\n",
    "    if i>=1 and i<=5:\n",
    "        model,cm_train,cm_test,acc_train,acc_test,roc_auc,feat_imp[j],mcc,prec,rec=f[i](X_train,Y_train,scaled_X_test,test_Y,columns)\n",
    "        j=j+1\n",
    "    else:\n",
    "        model,cm_train,cm_test,acc_train,acc_test,roc_auc,mcc,prec,rec=f[i](X_train,Y_train,scaled_X_test,test_Y)\n",
    "    table_80_50_train.loc[i]=   ([acc_train,cm_train.TP,cm_train.TN,cm_train.FP,cm_train.FN,cm_train.FPR,cm_train.FNR])\n",
    "    table_80_50_test.loc[i] =   ([acc_test ,cm_test.TP, cm_test.TN, cm_test.FP, cm_test.FN, cm_test.FPR, cm_test.FNR,roc_auc,mcc,prec,rec])\n",
    "    print(\"\\n\")"
   ]
  },
  {
   "cell_type": "markdown",
   "metadata": {},
   "source": [
    "### <a id='3.A' style=\"text-decoration : none; color : #000000;\"> A. Results</a>"
   ]
  },
  {
   "cell_type": "code",
   "execution_count": 20,
   "metadata": {},
   "outputs": [
    {
     "data": {
      "application/vnd.plotly.v1+json": {
       "config": {
        "linkText": "Export to plot.ly",
        "plotlyServerURL": "https://plot.ly",
        "showLink": true
       },
       "data": [
        {
         "mode": "lines",
         "name": "KNN_model",
         "type": "scatter",
         "uid": "0e9ba950-cc56-44fb-b701-fccc378bdacf",
         "x": [
          "accuracy",
          "auc",
          "MCC",
          "Precision",
          "Recall"
         ],
         "y": [
          0.9357720119098256,
          0.9266897628993773,
          0.7419896845420123,
          0.6566684520621318,
          0.9149253731343283
         ]
        },
        {
         "mode": "lines+markers",
         "name": "XGB",
         "type": "scatter",
         "uid": "8ceaf9b2-a27d-4927-a734-f6313705897d",
         "x": [
          "accuracy",
          "auc",
          "MCC",
          "Precision",
          "Recall"
         ],
         "y": [
          0.9538919608677159,
          0.9460189451207714,
          0.8040671370403578,
          0.7333333333333333,
          0.935820895522388
         ]
        },
        {
         "marker": {
          "symbol": "x"
         },
         "mode": "lines+markers",
         "name": "Random Forest",
         "type": "scatter",
         "uid": "1b787606-a708-45aa-be89-33c64256399e",
         "x": [
          "accuracy",
          "auc",
          "MCC",
          "Precision",
          "Recall"
         ],
         "y": [
          0.9559336452573373,
          0.9419691031162002,
          0.8078932951609041,
          0.7484885126964933,
          0.9238805970149254
         ]
        },
        {
         "mode": "lines",
         "name": "Ada Boost",
         "type": "scatter",
         "uid": "099c5fb5-dd43-40a0-b727-877f78d9570e",
         "x": [
          "accuracy",
          "auc",
          "MCC",
          "Precision",
          "Recall"
         ],
         "y": [
          0.943428328370906,
          0.9391386203882174,
          0.7703950917812944,
          0.6847290640394089,
          0.9335820895522388
         ]
        },
        {
         "mode": "lines+markers",
         "name": "GradientBoosting",
         "type": "scatter",
         "uid": "abec35c7-f309-431b-b06e-bb3abe451655",
         "x": [
          "accuracy",
          "auc",
          "MCC",
          "Precision",
          "Recall"
         ],
         "y": [
          0.9509145044661846,
          0.9449889295720152,
          0.7947601530328255,
          0.7181246426529445,
          0.9373134328358209
         ]
        },
        {
         "marker": {
          "symbol": "x"
         },
         "mode": "lines+markers",
         "name": "ExtraTree Classifier",
         "type": "scatter",
         "uid": "10b03404-bb3a-4135-a3a6-f0b8cc5d74e9",
         "x": [
          "accuracy",
          "auc",
          "MCC",
          "Precision",
          "Recall"
         ],
         "y": [
          0.9590812420246704,
          0.9414695007917686,
          0.8176551409726682,
          0.767935121646912,
          0.9186567164179105
         ]
        },
        {
         "marker": {
          "symbol": "x"
         },
         "mode": "lines+markers",
         "name": "Bagging",
         "type": "scatter",
         "uid": "1d8f59f8-9eef-4390-9298-bb581b3761f9",
         "x": [
          "accuracy",
          "auc",
          "MCC",
          "Precision",
          "Recall"
         ],
         "y": [
          0.953806890684815,
          0.9388181512026997,
          0.7995143787388553,
          0.7390521895620876,
          0.9194029850746268
         ]
        },
        {
         "marker": {
          "symbol": "x"
         },
         "mode": "lines+markers",
         "name": "Neural Network",
         "type": "scatter",
         "uid": "a8ce43b6-a0b5-4753-9aca-502a5effb313",
         "x": [
          "accuracy",
          "auc",
          "MCC",
          "Precision",
          "Recall"
         ],
         "y": [
          0.9549978732454275,
          0.9388181512026997,
          0.7996666724990379,
          0.7517070142768467,
          0.9037313432835821
         ]
        }
       ],
       "layout": {
        "title": "Result comparision for Features selected in Section 1",
        "yaxis": {
         "dtick": 0.05,
         "tick0": 0
        }
       }
      },
      "text/html": [
       "<div id=\"4c90fd5b-9408-4662-92bf-a86ade718acf\" style=\"height: 525px; width: 100%;\" class=\"plotly-graph-div\"></div><script type=\"text/javascript\">require([\"plotly\"], function(Plotly) { window.PLOTLYENV=window.PLOTLYENV || {};window.PLOTLYENV.BASE_URL=\"https://plot.ly\";Plotly.newPlot(\"4c90fd5b-9408-4662-92bf-a86ade718acf\", [{\"mode\": \"lines\", \"name\": \"KNN_model\", \"x\": [\"accuracy\", \"auc\", \"MCC\", \"Precision\", \"Recall\"], \"y\": [0.9357720119098256, 0.9266897628993773, 0.7419896845420123, 0.6566684520621318, 0.9149253731343283], \"type\": \"scatter\", \"uid\": \"0e9ba950-cc56-44fb-b701-fccc378bdacf\"}, {\"mode\": \"lines+markers\", \"name\": \"XGB\", \"x\": [\"accuracy\", \"auc\", \"MCC\", \"Precision\", \"Recall\"], \"y\": [0.9538919608677159, 0.9460189451207714, 0.8040671370403578, 0.7333333333333333, 0.935820895522388], \"type\": \"scatter\", \"uid\": \"8ceaf9b2-a27d-4927-a734-f6313705897d\"}, {\"marker\": {\"symbol\": \"x\"}, \"mode\": \"lines+markers\", \"name\": \"Random Forest\", \"x\": [\"accuracy\", \"auc\", \"MCC\", \"Precision\", \"Recall\"], \"y\": [0.9559336452573373, 0.9419691031162002, 0.8078932951609041, 0.7484885126964933, 0.9238805970149254], \"type\": \"scatter\", \"uid\": \"1b787606-a708-45aa-be89-33c64256399e\"}, {\"mode\": \"lines\", \"name\": \"Ada Boost\", \"x\": [\"accuracy\", \"auc\", \"MCC\", \"Precision\", \"Recall\"], \"y\": [0.943428328370906, 0.9391386203882174, 0.7703950917812944, 0.6847290640394089, 0.9335820895522388], \"type\": \"scatter\", \"uid\": \"099c5fb5-dd43-40a0-b727-877f78d9570e\"}, {\"mode\": \"lines+markers\", \"name\": \"GradientBoosting\", \"x\": [\"accuracy\", \"auc\", \"MCC\", \"Precision\", \"Recall\"], \"y\": [0.9509145044661846, 0.9449889295720152, 0.7947601530328255, 0.7181246426529445, 0.9373134328358209], \"type\": \"scatter\", \"uid\": \"abec35c7-f309-431b-b06e-bb3abe451655\"}, {\"marker\": {\"symbol\": \"x\"}, \"mode\": \"lines+markers\", \"name\": \"ExtraTree Classifier\", \"x\": [\"accuracy\", \"auc\", \"MCC\", \"Precision\", \"Recall\"], \"y\": [0.9590812420246704, 0.9414695007917686, 0.8176551409726682, 0.767935121646912, 0.9186567164179105], \"type\": \"scatter\", \"uid\": \"10b03404-bb3a-4135-a3a6-f0b8cc5d74e9\"}, {\"marker\": {\"symbol\": \"x\"}, \"mode\": \"lines+markers\", \"name\": \"Bagging\", \"x\": [\"accuracy\", \"auc\", \"MCC\", \"Precision\", \"Recall\"], \"y\": [0.953806890684815, 0.9388181512026997, 0.7995143787388553, 0.7390521895620876, 0.9194029850746268], \"type\": \"scatter\", \"uid\": \"1d8f59f8-9eef-4390-9298-bb581b3761f9\"}, {\"marker\": {\"symbol\": \"x\"}, \"mode\": \"lines+markers\", \"name\": \"Neural Network\", \"x\": [\"accuracy\", \"auc\", \"MCC\", \"Precision\", \"Recall\"], \"y\": [0.9549978732454275, 0.9388181512026997, 0.7996666724990379, 0.7517070142768467, 0.9037313432835821], \"type\": \"scatter\", \"uid\": \"a8ce43b6-a0b5-4753-9aca-502a5effb313\"}], {\"title\": \"Result comparision for Features selected in Section 1\", \"yaxis\": {\"dtick\": 0.05, \"tick0\": 0}}, {\"showLink\": true, \"linkText\": \"Export to plot.ly\", \"plotlyServerURL\": \"https://plot.ly\"})});</script><script type=\"text/javascript\">window.addEventListener(\"resize\", function(){window._Plotly.Plots.resize(document.getElementById(\"4c90fd5b-9408-4662-92bf-a86ade718acf\"));});</script>"
      ],
      "text/vnd.plotly.v1+html": [
       "<div id=\"4c90fd5b-9408-4662-92bf-a86ade718acf\" style=\"height: 525px; width: 100%;\" class=\"plotly-graph-div\"></div><script type=\"text/javascript\">require([\"plotly\"], function(Plotly) { window.PLOTLYENV=window.PLOTLYENV || {};window.PLOTLYENV.BASE_URL=\"https://plot.ly\";Plotly.newPlot(\"4c90fd5b-9408-4662-92bf-a86ade718acf\", [{\"mode\": \"lines\", \"name\": \"KNN_model\", \"x\": [\"accuracy\", \"auc\", \"MCC\", \"Precision\", \"Recall\"], \"y\": [0.9357720119098256, 0.9266897628993773, 0.7419896845420123, 0.6566684520621318, 0.9149253731343283], \"type\": \"scatter\", \"uid\": \"0e9ba950-cc56-44fb-b701-fccc378bdacf\"}, {\"mode\": \"lines+markers\", \"name\": \"XGB\", \"x\": [\"accuracy\", \"auc\", \"MCC\", \"Precision\", \"Recall\"], \"y\": [0.9538919608677159, 0.9460189451207714, 0.8040671370403578, 0.7333333333333333, 0.935820895522388], \"type\": \"scatter\", \"uid\": \"8ceaf9b2-a27d-4927-a734-f6313705897d\"}, {\"marker\": {\"symbol\": \"x\"}, \"mode\": \"lines+markers\", \"name\": \"Random Forest\", \"x\": [\"accuracy\", \"auc\", \"MCC\", \"Precision\", \"Recall\"], \"y\": [0.9559336452573373, 0.9419691031162002, 0.8078932951609041, 0.7484885126964933, 0.9238805970149254], \"type\": \"scatter\", \"uid\": \"1b787606-a708-45aa-be89-33c64256399e\"}, {\"mode\": \"lines\", \"name\": \"Ada Boost\", \"x\": [\"accuracy\", \"auc\", \"MCC\", \"Precision\", \"Recall\"], \"y\": [0.943428328370906, 0.9391386203882174, 0.7703950917812944, 0.6847290640394089, 0.9335820895522388], \"type\": \"scatter\", \"uid\": \"099c5fb5-dd43-40a0-b727-877f78d9570e\"}, {\"mode\": \"lines+markers\", \"name\": \"GradientBoosting\", \"x\": [\"accuracy\", \"auc\", \"MCC\", \"Precision\", \"Recall\"], \"y\": [0.9509145044661846, 0.9449889295720152, 0.7947601530328255, 0.7181246426529445, 0.9373134328358209], \"type\": \"scatter\", \"uid\": \"abec35c7-f309-431b-b06e-bb3abe451655\"}, {\"marker\": {\"symbol\": \"x\"}, \"mode\": \"lines+markers\", \"name\": \"ExtraTree Classifier\", \"x\": [\"accuracy\", \"auc\", \"MCC\", \"Precision\", \"Recall\"], \"y\": [0.9590812420246704, 0.9414695007917686, 0.8176551409726682, 0.767935121646912, 0.9186567164179105], \"type\": \"scatter\", \"uid\": \"10b03404-bb3a-4135-a3a6-f0b8cc5d74e9\"}, {\"marker\": {\"symbol\": \"x\"}, \"mode\": \"lines+markers\", \"name\": \"Bagging\", \"x\": [\"accuracy\", \"auc\", \"MCC\", \"Precision\", \"Recall\"], \"y\": [0.953806890684815, 0.9388181512026997, 0.7995143787388553, 0.7390521895620876, 0.9194029850746268], \"type\": \"scatter\", \"uid\": \"1d8f59f8-9eef-4390-9298-bb581b3761f9\"}, {\"marker\": {\"symbol\": \"x\"}, \"mode\": \"lines+markers\", \"name\": \"Neural Network\", \"x\": [\"accuracy\", \"auc\", \"MCC\", \"Precision\", \"Recall\"], \"y\": [0.9549978732454275, 0.9388181512026997, 0.7996666724990379, 0.7517070142768467, 0.9037313432835821], \"type\": \"scatter\", \"uid\": \"a8ce43b6-a0b5-4753-9aca-502a5effb313\"}], {\"title\": \"Result comparision for Features selected in Section 1\", \"yaxis\": {\"dtick\": 0.05, \"tick0\": 0}}, {\"showLink\": true, \"linkText\": \"Export to plot.ly\", \"plotlyServerURL\": \"https://plot.ly\"})});</script><script type=\"text/javascript\">window.addEventListener(\"resize\", function(){window._Plotly.Plots.resize(document.getElementById(\"4c90fd5b-9408-4662-92bf-a86ade718acf\"));});</script>"
      ]
     },
     "metadata": {},
     "output_type": "display_data"
    }
   ],
   "source": [
    "trace0 = go.Scatter(x=table_80_50_test.iloc[0].index.values[[0,7,8,9,10]],\n",
    "                    y=table_80_50_test.iloc[0].values[[0,7,8,9,10]],\n",
    "                    mode = 'lines',\n",
    "                    name = 'KNN_model')\n",
    "\n",
    "\n",
    "trace2 = go.Scatter(x=table_80_50_test.iloc[1].index.values[[0,7,8,9,10]],\n",
    "                    y=table_80_50_test.iloc[1].values[[0,7,8,9,10]],\n",
    "                    mode = 'lines+markers',marker=dict(symbol='x'),\n",
    "                    name = 'Random Forest')\n",
    "\n",
    "\n",
    "trace3 = go.Scatter(x=table_80_50_test.iloc[2].index.values[[0,7,8,9,10]],\n",
    "                    y=table_80_50_test.iloc[2].values[[0,7,8,9,10]],\n",
    "                    mode = 'lines',\n",
    "                    name = 'Ada Boost')\n",
    "\n",
    "trace4 = go.Scatter(x=table_80_50_test.iloc[3].index.values[[0,7,8,9,10]],\n",
    "                    y=table_80_50_test.iloc[3].values[[0,7,8,9,10]],\n",
    "                    mode = 'lines+markers',\n",
    "                    name = 'GradientBoosting')\n",
    "\n",
    "trace5 = go.Scatter(x=table_80_50_test.iloc[4].index.values[[0,7,8,9,10]],\n",
    "                    y=table_80_50_test.iloc[4].values[[0,7,8,9,10]],\n",
    "                    mode = 'lines+markers',marker=dict(symbol='x'),\n",
    "                    name = 'ExtraTree Classifier')\n",
    "\n",
    "\n",
    "trace1 = go.Scatter(x=table_80_50_test.iloc[5].index.values[[0,7,8,9,10]],\n",
    "                    y=table_80_50_test.iloc[5].values[[0,7,8,9,10]],\n",
    "                    mode = 'lines+markers',\n",
    "                    name = 'XGB')\n",
    "\n",
    "\n",
    "trace6 = go.Scatter(x=table_80_50_test.iloc[6].index.values[[0,7,8,9,10]],\n",
    "                    y=table_80_50_test.iloc[6].values[[0,7,8,9,10]],\n",
    "                    mode = 'lines+markers',marker=dict(symbol='x'),\n",
    "                    name = 'Bagging')\n",
    "\n",
    "trace7 = go.Scatter(x=table_80_50_test.iloc[7].index.values[[0,7,8,9,10]],\n",
    "                    y=table_80_50_test.iloc[7].values[[0,7,8,9,10]],\n",
    "                    mode = 'lines+markers',marker=dict(symbol='x'),\n",
    "                    name = 'Neural Network')\n",
    "\n",
    "\n",
    "\n",
    "data = [trace0, trace1, trace2, trace3, trace4, trace5, trace6, trace7]\n",
    "layout = go.Layout(yaxis=dict(tick0=0,dtick=0.05),title='Result comparision for Features selected in Section 1')\n",
    "fig = go.Figure(data=data, layout=layout)\n",
    "\n",
    "iplot(fig, filename='Result')"
   ]
  },
  {
   "cell_type": "code",
   "execution_count": 21,
   "metadata": {},
   "outputs": [
    {
     "name": "stdout",
     "output_type": "stream",
     "text": [
      "Training Results\n"
     ]
    },
    {
     "data": {
      "text/html": [
       "<div>\n",
       "<style scoped>\n",
       "    .dataframe tbody tr th:only-of-type {\n",
       "        vertical-align: middle;\n",
       "    }\n",
       "\n",
       "    .dataframe tbody tr th {\n",
       "        vertical-align: top;\n",
       "    }\n",
       "\n",
       "    .dataframe thead th {\n",
       "        text-align: right;\n",
       "    }\n",
       "</style>\n",
       "<table border=\"1\" class=\"dataframe\">\n",
       "  <thead>\n",
       "    <tr style=\"text-align: right;\">\n",
       "      <th></th>\n",
       "      <th>accuracy</th>\n",
       "      <th>TP</th>\n",
       "      <th>TN</th>\n",
       "      <th>FP</th>\n",
       "      <th>FN</th>\n",
       "      <th>FPR</th>\n",
       "      <th>FNR</th>\n",
       "    </tr>\n",
       "    <tr>\n",
       "      <th>index</th>\n",
       "      <th></th>\n",
       "      <th></th>\n",
       "      <th></th>\n",
       "      <th></th>\n",
       "      <th></th>\n",
       "      <th></th>\n",
       "      <th></th>\n",
       "    </tr>\n",
       "  </thead>\n",
       "  <tbody>\n",
       "    <tr>\n",
       "      <th>KNeighborsClassifier</th>\n",
       "      <td>0.949694</td>\n",
       "      <td>2928.0</td>\n",
       "      <td>2962.0</td>\n",
       "      <td>139.0</td>\n",
       "      <td>173.0</td>\n",
       "      <td>0.044824</td>\n",
       "      <td>0.055788</td>\n",
       "    </tr>\n",
       "    <tr>\n",
       "      <th>RandomForestClassifier</th>\n",
       "      <td>0.994840</td>\n",
       "      <td>3078.0</td>\n",
       "      <td>3092.0</td>\n",
       "      <td>9.0</td>\n",
       "      <td>23.0</td>\n",
       "      <td>0.002902</td>\n",
       "      <td>0.007417</td>\n",
       "    </tr>\n",
       "    <tr>\n",
       "      <th>AdaBoostClassifier</th>\n",
       "      <td>0.944050</td>\n",
       "      <td>2925.0</td>\n",
       "      <td>2930.0</td>\n",
       "      <td>171.0</td>\n",
       "      <td>176.0</td>\n",
       "      <td>0.055144</td>\n",
       "      <td>0.056756</td>\n",
       "    </tr>\n",
       "    <tr>\n",
       "      <th>GradientBoostingClassifier</th>\n",
       "      <td>0.955821</td>\n",
       "      <td>2963.0</td>\n",
       "      <td>2965.0</td>\n",
       "      <td>136.0</td>\n",
       "      <td>138.0</td>\n",
       "      <td>0.043857</td>\n",
       "      <td>0.044502</td>\n",
       "    </tr>\n",
       "    <tr>\n",
       "      <th>ExtraTreeClassifier</th>\n",
       "      <td>0.998065</td>\n",
       "      <td>3089.0</td>\n",
       "      <td>3101.0</td>\n",
       "      <td>0.0</td>\n",
       "      <td>12.0</td>\n",
       "      <td>0.000000</td>\n",
       "      <td>0.003870</td>\n",
       "    </tr>\n",
       "    <tr>\n",
       "      <th>XGB</th>\n",
       "      <td>0.952596</td>\n",
       "      <td>2943.0</td>\n",
       "      <td>2965.0</td>\n",
       "      <td>136.0</td>\n",
       "      <td>158.0</td>\n",
       "      <td>0.043857</td>\n",
       "      <td>0.050951</td>\n",
       "    </tr>\n",
       "    <tr>\n",
       "      <th>BaggingClassifier</th>\n",
       "      <td>0.994195</td>\n",
       "      <td>3075.0</td>\n",
       "      <td>3091.0</td>\n",
       "      <td>10.0</td>\n",
       "      <td>26.0</td>\n",
       "      <td>0.003225</td>\n",
       "      <td>0.008384</td>\n",
       "    </tr>\n",
       "    <tr>\n",
       "      <th>Neural Network-1</th>\n",
       "      <td>0.990809</td>\n",
       "      <td>3052.0</td>\n",
       "      <td>3093.0</td>\n",
       "      <td>8.0</td>\n",
       "      <td>49.0</td>\n",
       "      <td>0.002580</td>\n",
       "      <td>0.015801</td>\n",
       "    </tr>\n",
       "  </tbody>\n",
       "</table>\n",
       "</div>"
      ],
      "text/plain": [
       "                            accuracy      TP      TN     FP     FN       FPR  \\\n",
       "index                                                                          \n",
       "KNeighborsClassifier        0.949694  2928.0  2962.0  139.0  173.0  0.044824   \n",
       "RandomForestClassifier      0.994840  3078.0  3092.0    9.0   23.0  0.002902   \n",
       "AdaBoostClassifier          0.944050  2925.0  2930.0  171.0  176.0  0.055144   \n",
       "GradientBoostingClassifier  0.955821  2963.0  2965.0  136.0  138.0  0.043857   \n",
       "ExtraTreeClassifier         0.998065  3089.0  3101.0    0.0   12.0  0.000000   \n",
       "XGB                         0.952596  2943.0  2965.0  136.0  158.0  0.043857   \n",
       "BaggingClassifier           0.994195  3075.0  3091.0   10.0   26.0  0.003225   \n",
       "Neural Network-1            0.990809  3052.0  3093.0    8.0   49.0  0.002580   \n",
       "\n",
       "                                 FNR  \n",
       "index                                 \n",
       "KNeighborsClassifier        0.055788  \n",
       "RandomForestClassifier      0.007417  \n",
       "AdaBoostClassifier          0.056756  \n",
       "GradientBoostingClassifier  0.044502  \n",
       "ExtraTreeClassifier         0.003870  \n",
       "XGB                         0.050951  \n",
       "BaggingClassifier           0.008384  \n",
       "Neural Network-1            0.015801  "
      ]
     },
     "metadata": {},
     "output_type": "display_data"
    },
    {
     "name": "stdout",
     "output_type": "stream",
     "text": [
      "Test Results\n"
     ]
    },
    {
     "data": {
      "text/html": [
       "<div>\n",
       "<style scoped>\n",
       "    .dataframe tbody tr th:only-of-type {\n",
       "        vertical-align: middle;\n",
       "    }\n",
       "\n",
       "    .dataframe tbody tr th {\n",
       "        vertical-align: top;\n",
       "    }\n",
       "\n",
       "    .dataframe thead th {\n",
       "        text-align: right;\n",
       "    }\n",
       "</style>\n",
       "<table border=\"1\" class=\"dataframe\">\n",
       "  <thead>\n",
       "    <tr style=\"text-align: right;\">\n",
       "      <th></th>\n",
       "      <th>accuracy</th>\n",
       "      <th>TP</th>\n",
       "      <th>TN</th>\n",
       "      <th>FP</th>\n",
       "      <th>FN</th>\n",
       "      <th>FPR</th>\n",
       "      <th>FNR</th>\n",
       "      <th>auc</th>\n",
       "      <th>MCC</th>\n",
       "      <th>Precision</th>\n",
       "      <th>Recall</th>\n",
       "    </tr>\n",
       "    <tr>\n",
       "      <th>index</th>\n",
       "      <th></th>\n",
       "      <th></th>\n",
       "      <th></th>\n",
       "      <th></th>\n",
       "      <th></th>\n",
       "      <th></th>\n",
       "      <th></th>\n",
       "      <th></th>\n",
       "      <th></th>\n",
       "      <th></th>\n",
       "      <th></th>\n",
       "    </tr>\n",
       "  </thead>\n",
       "  <tbody>\n",
       "    <tr>\n",
       "      <th>KNeighborsClassifier</th>\n",
       "      <td>0.935772</td>\n",
       "      <td>1226.0</td>\n",
       "      <td>9774.0</td>\n",
       "      <td>641.0</td>\n",
       "      <td>114.0</td>\n",
       "      <td>0.061546</td>\n",
       "      <td>0.085075</td>\n",
       "      <td>0.926690</td>\n",
       "      <td>0.741990</td>\n",
       "      <td>0.656668</td>\n",
       "      <td>0.914925</td>\n",
       "    </tr>\n",
       "    <tr>\n",
       "      <th>RandomForestClassifier</th>\n",
       "      <td>0.955934</td>\n",
       "      <td>1238.0</td>\n",
       "      <td>9999.0</td>\n",
       "      <td>416.0</td>\n",
       "      <td>102.0</td>\n",
       "      <td>0.039942</td>\n",
       "      <td>0.076119</td>\n",
       "      <td>0.941969</td>\n",
       "      <td>0.807893</td>\n",
       "      <td>0.748489</td>\n",
       "      <td>0.923881</td>\n",
       "    </tr>\n",
       "    <tr>\n",
       "      <th>AdaBoostClassifier</th>\n",
       "      <td>0.943428</td>\n",
       "      <td>1251.0</td>\n",
       "      <td>9839.0</td>\n",
       "      <td>576.0</td>\n",
       "      <td>89.0</td>\n",
       "      <td>0.055305</td>\n",
       "      <td>0.066418</td>\n",
       "      <td>0.939139</td>\n",
       "      <td>0.770395</td>\n",
       "      <td>0.684729</td>\n",
       "      <td>0.933582</td>\n",
       "    </tr>\n",
       "    <tr>\n",
       "      <th>GradientBoostingClassifier</th>\n",
       "      <td>0.950915</td>\n",
       "      <td>1256.0</td>\n",
       "      <td>9922.0</td>\n",
       "      <td>493.0</td>\n",
       "      <td>84.0</td>\n",
       "      <td>0.047336</td>\n",
       "      <td>0.062687</td>\n",
       "      <td>0.944989</td>\n",
       "      <td>0.794760</td>\n",
       "      <td>0.718125</td>\n",
       "      <td>0.937313</td>\n",
       "    </tr>\n",
       "    <tr>\n",
       "      <th>ExtraTreeClassifier</th>\n",
       "      <td>0.959081</td>\n",
       "      <td>1231.0</td>\n",
       "      <td>10043.0</td>\n",
       "      <td>372.0</td>\n",
       "      <td>109.0</td>\n",
       "      <td>0.035718</td>\n",
       "      <td>0.081343</td>\n",
       "      <td>0.941470</td>\n",
       "      <td>0.817655</td>\n",
       "      <td>0.767935</td>\n",
       "      <td>0.918657</td>\n",
       "    </tr>\n",
       "    <tr>\n",
       "      <th>XGB</th>\n",
       "      <td>0.953892</td>\n",
       "      <td>1254.0</td>\n",
       "      <td>9959.0</td>\n",
       "      <td>456.0</td>\n",
       "      <td>86.0</td>\n",
       "      <td>0.043783</td>\n",
       "      <td>0.064179</td>\n",
       "      <td>0.946019</td>\n",
       "      <td>0.804067</td>\n",
       "      <td>0.733333</td>\n",
       "      <td>0.935821</td>\n",
       "    </tr>\n",
       "    <tr>\n",
       "      <th>BaggingClassifier</th>\n",
       "      <td>0.953807</td>\n",
       "      <td>1232.0</td>\n",
       "      <td>9980.0</td>\n",
       "      <td>435.0</td>\n",
       "      <td>108.0</td>\n",
       "      <td>0.041767</td>\n",
       "      <td>0.080597</td>\n",
       "      <td>0.938818</td>\n",
       "      <td>0.799514</td>\n",
       "      <td>0.739052</td>\n",
       "      <td>0.919403</td>\n",
       "    </tr>\n",
       "    <tr>\n",
       "      <th>Neural Network-1</th>\n",
       "      <td>0.954998</td>\n",
       "      <td>1211.0</td>\n",
       "      <td>10015.0</td>\n",
       "      <td>400.0</td>\n",
       "      <td>129.0</td>\n",
       "      <td>0.038406</td>\n",
       "      <td>0.096269</td>\n",
       "      <td>0.938818</td>\n",
       "      <td>0.799667</td>\n",
       "      <td>0.751707</td>\n",
       "      <td>0.903731</td>\n",
       "    </tr>\n",
       "  </tbody>\n",
       "</table>\n",
       "</div>"
      ],
      "text/plain": [
       "                            accuracy      TP       TN     FP     FN       FPR  \\\n",
       "index                                                                           \n",
       "KNeighborsClassifier        0.935772  1226.0   9774.0  641.0  114.0  0.061546   \n",
       "RandomForestClassifier      0.955934  1238.0   9999.0  416.0  102.0  0.039942   \n",
       "AdaBoostClassifier          0.943428  1251.0   9839.0  576.0   89.0  0.055305   \n",
       "GradientBoostingClassifier  0.950915  1256.0   9922.0  493.0   84.0  0.047336   \n",
       "ExtraTreeClassifier         0.959081  1231.0  10043.0  372.0  109.0  0.035718   \n",
       "XGB                         0.953892  1254.0   9959.0  456.0   86.0  0.043783   \n",
       "BaggingClassifier           0.953807  1232.0   9980.0  435.0  108.0  0.041767   \n",
       "Neural Network-1            0.954998  1211.0  10015.0  400.0  129.0  0.038406   \n",
       "\n",
       "                                 FNR       auc       MCC  Precision    Recall  \n",
       "index                                                                          \n",
       "KNeighborsClassifier        0.085075  0.926690  0.741990   0.656668  0.914925  \n",
       "RandomForestClassifier      0.076119  0.941969  0.807893   0.748489  0.923881  \n",
       "AdaBoostClassifier          0.066418  0.939139  0.770395   0.684729  0.933582  \n",
       "GradientBoostingClassifier  0.062687  0.944989  0.794760   0.718125  0.937313  \n",
       "ExtraTreeClassifier         0.081343  0.941470  0.817655   0.767935  0.918657  \n",
       "XGB                         0.064179  0.946019  0.804067   0.733333  0.935821  \n",
       "BaggingClassifier           0.080597  0.938818  0.799514   0.739052  0.919403  \n",
       "Neural Network-1            0.096269  0.938818  0.799667   0.751707  0.903731  "
      ]
     },
     "metadata": {},
     "output_type": "display_data"
    }
   ],
   "source": [
    "table_80_50_train['index']=ind_columns\n",
    "table_80_50_test['index']=ind_columns\n",
    "\n",
    "\n",
    "table_80_50_test.set_index(['index'],drop=True,inplace=True)\n",
    "table_80_50_train.set_index(['index'],drop=True,inplace=True)\n",
    "\n",
    "print(\"Training Results\")\n",
    "display(table_80_50_train)\n",
    "print(\"Test Results\")\n",
    "display(table_80_50_test)"
   ]
  },
  {
   "cell_type": "markdown",
   "metadata": {},
   "source": [
    "### <a id='3.B' style=\"text-decoration : none; color : #000000;\"> B. Average Feature Importances</a>"
   ]
  },
  {
   "cell_type": "code",
   "execution_count": 22,
   "metadata": {},
   "outputs": [
    {
     "data": {
      "application/vnd.plotly.v1+json": {
       "config": {
        "linkText": "Export to plot.ly",
        "plotlyServerURL": "https://plot.ly",
        "showLink": true
       },
       "data": [
        {
         "marker": {
          "color": "rgb(158,202,225)",
          "line": {
           "color": "rgb(8,48,107)",
           "width": 1.5
          }
         },
         "opacity": 0.6,
         "orientation": "h",
         "text": [
          0.1086,
          0.08,
          0.078,
          0.0627,
          0.0617,
          0.0581,
          0.0557,
          0.0447,
          0.0423,
          0.0305,
          0.0293,
          0.0279,
          0.0255,
          0.0239,
          0.0214,
          0.0201,
          0.019,
          0.0165,
          0.0148,
          0.0145,
          0.0137,
          0.0134,
          0.0132,
          0.013,
          0.0126,
          0.0109,
          0.0105,
          0.0103,
          0.0102,
          0.0095,
          0.009,
          0.009,
          0.0084,
          0.0078,
          0.0074,
          0.006
         ],
         "textposition": "outside",
         "type": "bar",
         "uid": "ecf461bc-86c4-4654-bfc8-64503877e653",
         "x": [
          0.10856015580605842,
          0.0799943852864411,
          0.07802388815351093,
          0.06270759756639088,
          0.06168270319609272,
          0.058147351649029635,
          0.05570010689158387,
          0.04469422814624366,
          0.042275331515828116,
          0.03048075564778342,
          0.029299314190513005,
          0.027920555410097157,
          0.025450516877841556,
          0.02391372651143104,
          0.021371281124610092,
          0.020112143659062054,
          0.01900668530826141,
          0.016452385223269462,
          0.0147739060845088,
          0.014511623116954928,
          0.013747000570350837,
          0.013440002109799329,
          0.01317684177015678,
          0.012997920569720794,
          0.01262806135909621,
          0.010875281407827734,
          0.010521112866229632,
          0.01026428826098663,
          0.010173178524937428,
          0.009492421972356151,
          0.008994986492870111,
          0.008965402409970591,
          0.008399560716156685,
          0.007837575786379551,
          0.007438198945876173,
          0.005969524126715095
         ],
         "y": [
          "total_count",
          "url_length",
          "a_href_out_of_domain",
          "url_char_w",
          "http_header_content-encoding_gzip",
          "url_extensions",
          "total_href",
          "a_count",
          "link_href_out_of_domain",
          "push",
          "url_char_.",
          "p_count",
          "link_type_text/css",
          "a_href_https",
          "http_header_transfer-encoding_chunked",
          "http_header_server_apache",
          "meta_count",
          "url_char_z",
          "img_src_http",
          "a_href_relative",
          "http_header_cache-control_set_max-age",
          "url_char_i",
          "url_char_l",
          "http_header_vary_user-agent",
          "a_href_http",
          "url_char_p",
          "url_extension_.c",
          "url_extension_.com",
          "form_action_http",
          "http_header_via_1.1",
          "url_char_f",
          "center_count",
          "url_char_y",
          "url_extension_endswith_.com",
          "iframe_src_.html",
          "script_async_true"
         ]
        }
       ],
       "layout": {
        "autosize": false,
        "height": 1000,
        "width": 1000,
        "xaxis": {
         "tickfont": {
          "color": "black",
          "size": 12
         },
         "title": "Feature Importances"
        },
        "yaxis": {
         "automargin": true
        }
       }
      },
      "text/html": [
       "<div id=\"7b52066b-d88f-47ac-acd7-9c3ef8fdacf3\" style=\"height: 1000px; width: 1000px;\" class=\"plotly-graph-div\"></div><script type=\"text/javascript\">require([\"plotly\"], function(Plotly) { window.PLOTLYENV=window.PLOTLYENV || {};window.PLOTLYENV.BASE_URL=\"https://plot.ly\";Plotly.newPlot(\"7b52066b-d88f-47ac-acd7-9c3ef8fdacf3\", [{\"marker\": {\"color\": \"rgb(158,202,225)\", \"line\": {\"color\": \"rgb(8,48,107)\", \"width\": 1.5}}, \"opacity\": 0.6, \"orientation\": \"h\", \"text\": [0.1086, 0.08, 0.078, 0.0627, 0.0617, 0.0581, 0.0557, 0.0447, 0.0423, 0.0305, 0.0293, 0.0279, 0.0255, 0.0239, 0.0214, 0.0201, 0.019, 0.0165, 0.0148, 0.0145, 0.0137, 0.0134, 0.0132, 0.013, 0.0126, 0.0109, 0.0105, 0.0103, 0.0102, 0.0095, 0.009, 0.009, 0.0084, 0.0078, 0.0074, 0.006], \"textposition\": \"outside\", \"x\": [0.10856015580605842, 0.0799943852864411, 0.07802388815351093, 0.06270759756639088, 0.06168270319609272, 0.058147351649029635, 0.05570010689158387, 0.04469422814624366, 0.042275331515828116, 0.03048075564778342, 0.029299314190513005, 0.027920555410097157, 0.025450516877841556, 0.02391372651143104, 0.021371281124610092, 0.020112143659062054, 0.01900668530826141, 0.016452385223269462, 0.0147739060845088, 0.014511623116954928, 0.013747000570350837, 0.013440002109799329, 0.01317684177015678, 0.012997920569720794, 0.01262806135909621, 0.010875281407827734, 0.010521112866229632, 0.01026428826098663, 0.010173178524937428, 0.009492421972356151, 0.008994986492870111, 0.008965402409970591, 0.008399560716156685, 0.007837575786379551, 0.007438198945876173, 0.005969524126715095], \"y\": [\"total_count\", \"url_length\", \"a_href_out_of_domain\", \"url_char_w\", \"http_header_content-encoding_gzip\", \"url_extensions\", \"total_href\", \"a_count\", \"link_href_out_of_domain\", \"push\", \"url_char_.\", \"p_count\", \"link_type_text/css\", \"a_href_https\", \"http_header_transfer-encoding_chunked\", \"http_header_server_apache\", \"meta_count\", \"url_char_z\", \"img_src_http\", \"a_href_relative\", \"http_header_cache-control_set_max-age\", \"url_char_i\", \"url_char_l\", \"http_header_vary_user-agent\", \"a_href_http\", \"url_char_p\", \"url_extension_.c\", \"url_extension_.com\", \"form_action_http\", \"http_header_via_1.1\", \"url_char_f\", \"center_count\", \"url_char_y\", \"url_extension_endswith_.com\", \"iframe_src_.html\", \"script_async_true\"], \"type\": \"bar\", \"uid\": \"ecf461bc-86c4-4654-bfc8-64503877e653\"}], {\"autosize\": false, \"height\": 1000, \"width\": 1000, \"xaxis\": {\"tickfont\": {\"color\": \"black\", \"size\": 12}, \"title\": \"Feature Importances\"}, \"yaxis\": {\"automargin\": true}}, {\"showLink\": true, \"linkText\": \"Export to plot.ly\", \"plotlyServerURL\": \"https://plot.ly\"})});</script>"
      ],
      "text/vnd.plotly.v1+html": [
       "<div id=\"7b52066b-d88f-47ac-acd7-9c3ef8fdacf3\" style=\"height: 1000px; width: 1000px;\" class=\"plotly-graph-div\"></div><script type=\"text/javascript\">require([\"plotly\"], function(Plotly) { window.PLOTLYENV=window.PLOTLYENV || {};window.PLOTLYENV.BASE_URL=\"https://plot.ly\";Plotly.newPlot(\"7b52066b-d88f-47ac-acd7-9c3ef8fdacf3\", [{\"marker\": {\"color\": \"rgb(158,202,225)\", \"line\": {\"color\": \"rgb(8,48,107)\", \"width\": 1.5}}, \"opacity\": 0.6, \"orientation\": \"h\", \"text\": [0.1086, 0.08, 0.078, 0.0627, 0.0617, 0.0581, 0.0557, 0.0447, 0.0423, 0.0305, 0.0293, 0.0279, 0.0255, 0.0239, 0.0214, 0.0201, 0.019, 0.0165, 0.0148, 0.0145, 0.0137, 0.0134, 0.0132, 0.013, 0.0126, 0.0109, 0.0105, 0.0103, 0.0102, 0.0095, 0.009, 0.009, 0.0084, 0.0078, 0.0074, 0.006], \"textposition\": \"outside\", \"x\": [0.10856015580605842, 0.0799943852864411, 0.07802388815351093, 0.06270759756639088, 0.06168270319609272, 0.058147351649029635, 0.05570010689158387, 0.04469422814624366, 0.042275331515828116, 0.03048075564778342, 0.029299314190513005, 0.027920555410097157, 0.025450516877841556, 0.02391372651143104, 0.021371281124610092, 0.020112143659062054, 0.01900668530826141, 0.016452385223269462, 0.0147739060845088, 0.014511623116954928, 0.013747000570350837, 0.013440002109799329, 0.01317684177015678, 0.012997920569720794, 0.01262806135909621, 0.010875281407827734, 0.010521112866229632, 0.01026428826098663, 0.010173178524937428, 0.009492421972356151, 0.008994986492870111, 0.008965402409970591, 0.008399560716156685, 0.007837575786379551, 0.007438198945876173, 0.005969524126715095], \"y\": [\"total_count\", \"url_length\", \"a_href_out_of_domain\", \"url_char_w\", \"http_header_content-encoding_gzip\", \"url_extensions\", \"total_href\", \"a_count\", \"link_href_out_of_domain\", \"push\", \"url_char_.\", \"p_count\", \"link_type_text/css\", \"a_href_https\", \"http_header_transfer-encoding_chunked\", \"http_header_server_apache\", \"meta_count\", \"url_char_z\", \"img_src_http\", \"a_href_relative\", \"http_header_cache-control_set_max-age\", \"url_char_i\", \"url_char_l\", \"http_header_vary_user-agent\", \"a_href_http\", \"url_char_p\", \"url_extension_.c\", \"url_extension_.com\", \"form_action_http\", \"http_header_via_1.1\", \"url_char_f\", \"center_count\", \"url_char_y\", \"url_extension_endswith_.com\", \"iframe_src_.html\", \"script_async_true\"], \"type\": \"bar\", \"uid\": \"ecf461bc-86c4-4654-bfc8-64503877e653\"}], {\"autosize\": false, \"height\": 1000, \"width\": 1000, \"xaxis\": {\"tickfont\": {\"color\": \"black\", \"size\": 12}, \"title\": \"Feature Importances\"}, \"yaxis\": {\"automargin\": true}}, {\"showLink\": true, \"linkText\": \"Export to plot.ly\", \"plotlyServerURL\": \"https://plot.ly\"})});</script>"
      ]
     },
     "metadata": {},
     "output_type": "display_data"
    }
   ],
   "source": [
    "feat_impt_plot(np.average(feat_imp,axis=0),columns)"
   ]
  },
  {
   "cell_type": "markdown",
   "metadata": {},
   "source": [
    "### <a id='4' style=\"text-decoration : none; color : #000000;\">4. Feature Transformation with feature selection </a>"
   ]
  },
  {
   "cell_type": "code",
   "execution_count": 23,
   "metadata": {},
   "outputs": [
    {
     "name": "stdout",
     "output_type": "stream",
     "text": [
      "Built 2556 features\n",
      "EntitySet scattered to workers in 4.533 seconds\n",
      "Elapsed: 00:15 | Remaining: 00:00 | Progress: 100%|██████████| Calculated: 11/11 chunks\n"
     ]
    },
    {
     "name": "stderr",
     "output_type": "stream",
     "text": [
      "distributed.client - ERROR - Failed to reconnect to scheduler after 10.00 seconds, closing client\n",
      "distributed.utils - ERROR - \n",
      "Traceback (most recent call last):\n",
      "  File \"/nethomes/darshan/anaconda3/lib/python3.6/site-packages/distributed/utils.py\", line 713, in log_errors\n",
      "    yield\n",
      "  File \"/nethomes/darshan/anaconda3/lib/python3.6/site-packages/distributed/client.py\", line 1223, in _close\n",
      "    quiet_exceptions=(CancelledError,),\n",
      "  File \"/nethomes/darshan/anaconda3/lib/python3.6/site-packages/tornado/gen.py\", line 584, in with_timeout\n",
      "    chain_future(future_converted, result)\n",
      "  File \"/nethomes/darshan/anaconda3/lib/python3.6/site-packages/tornado/concurrent.py\", line 166, in chain_future\n",
      "    future_add_done_callback(a, copy)\n",
      "  File \"/nethomes/darshan/anaconda3/lib/python3.6/site-packages/tornado/concurrent.py\", line 262, in future_add_done_callback\n",
      "    callback(future)\n",
      "  File \"/nethomes/darshan/anaconda3/lib/python3.6/site-packages/tornado/concurrent.py\", line 160, in copy\n",
      "    elif a.exception() is not None:\n",
      "concurrent.futures._base.CancelledError\n",
      "distributed.utils - ERROR - \n",
      "Traceback (most recent call last):\n",
      "  File \"/nethomes/darshan/anaconda3/lib/python3.6/site-packages/distributed/utils.py\", line 713, in log_errors\n",
      "    yield\n",
      "  File \"/nethomes/darshan/anaconda3/lib/python3.6/site-packages/distributed/client.py\", line 992, in _reconnect\n",
      "    yield self._close()\n",
      "  File \"/nethomes/darshan/anaconda3/lib/python3.6/site-packages/tornado/gen.py\", line 729, in run\n",
      "    value = future.result()\n",
      "  File \"/nethomes/darshan/anaconda3/lib/python3.6/site-packages/tornado/gen.py\", line 209, in wrapper\n",
      "    yielded = next(result)\n",
      "  File \"/nethomes/darshan/anaconda3/lib/python3.6/site-packages/distributed/client.py\", line 1223, in _close\n",
      "    quiet_exceptions=(CancelledError,),\n",
      "  File \"/nethomes/darshan/anaconda3/lib/python3.6/site-packages/tornado/gen.py\", line 584, in with_timeout\n",
      "    chain_future(future_converted, result)\n",
      "  File \"/nethomes/darshan/anaconda3/lib/python3.6/site-packages/tornado/concurrent.py\", line 166, in chain_future\n",
      "    future_add_done_callback(a, copy)\n",
      "  File \"/nethomes/darshan/anaconda3/lib/python3.6/site-packages/tornado/concurrent.py\", line 262, in future_add_done_callback\n",
      "    callback(future)\n",
      "  File \"/nethomes/darshan/anaconda3/lib/python3.6/site-packages/tornado/concurrent.py\", line 160, in copy\n",
      "    elif a.exception() is not None:\n",
      "concurrent.futures._base.CancelledError\n"
     ]
    }
   ],
   "source": [
    "df.reset_index(inplace=True)\n",
    "columns.append('domain')\n",
    "df_min=df[columns]\n",
    "\n",
    "es = ft.EntitySet(id = 'malicious')\n",
    "es.entity_from_dataframe(entity_id = 'data', dataframe = df_min, index = 'domain')\n",
    "\n",
    "feature_matrix_sessions, features_defs = ft.dfs(entityset=es,target_entity=\"data\",\n",
    "                                                trans_primitives = ['add','divide','multiply'],n_jobs=-1,\n",
    "                                                verbose=1,max_depth=1)"
   ]
  },
  {
   "cell_type": "code",
   "execution_count": 24,
   "metadata": {},
   "outputs": [],
   "source": [
    "df.set_index(['domain'],drop=True,inplace=True)\n",
    "fs=pd.merge(feature_matrix_sessions,pd.DataFrame(df_sel.Target),left_index=True, right_index=True)\n",
    "fs.replace([np.inf],0,inplace=True)\n",
    "fs.fillna(value=0,inplace=True)\n",
    "fs=fs.reindex(df.index.values)\n",
    "X=fs.loc[:,fs.columns!='Target']\n",
    "y=fs.Target\n",
    "feature_name = X.columns.tolist()"
   ]
  },
  {
   "cell_type": "code",
   "execution_count": 25,
   "metadata": {},
   "outputs": [],
   "source": [
    "def cor_selector(X, y):\n",
    "    cor_list = []\n",
    "    # calculate the correlation with y for each feature\n",
    "    for i in X.columns.tolist():\n",
    "        cor = np.corrcoef(X[i], y)[0, 1]\n",
    "        cor_list.append(cor)\n",
    "    # replace NaN with 0\n",
    "    cor_list = [0 if np.isnan(i) else i for i in cor_list]\n",
    "    # feature name\n",
    "    cor_feature = X.iloc[:,np.argsort(np.abs(cor_list))[-100:]].columns.tolist()\n",
    "    # feature selection? 0 for not select, 1 for select\n",
    "    cor_support = [True if i in cor_feature else False for i in feature_name]\n",
    "    return cor_support, cor_feature\n",
    "cor_support, cor_feature = cor_selector(X, y)\n",
    "\n",
    "X_norm = MinMaxScaler().fit_transform(X)\n",
    "chi_selector = SelectKBest(chi2, k=100)\n",
    "chi_selector.fit(X_norm, y)\n",
    "chi_support = chi_selector.get_support()\n",
    "chi_feature = X.loc[:,chi_support].columns.tolist()\n",
    "\n",
    "rfe_selector = RFE(estimator=LogisticRegression(random_state=0), n_features_to_select=100, step=0.3, verbose=False)\n",
    "rfe_selector.fit(X_norm, y)\n",
    "rfe_support = rfe_selector.get_support()\n",
    "rfe_feature = X.loc[:,rfe_support].columns.tolist()\n",
    "\n",
    "embeded_rf_selector = SelectFromModel(RandomForestClassifier(n_estimators=100,random_state=0), threshold='23*median')\n",
    "embeded_rf_selector.fit(X, y)\n",
    "embeded_rf_support = embeded_rf_selector.get_support()"
   ]
  },
  {
   "cell_type": "code",
   "execution_count": 26,
   "metadata": {},
   "outputs": [],
   "source": [
    "embeded_rf_feature = X.loc[:,embeded_rf_support].columns.tolist()\n",
    "feature_selection_df = pd.DataFrame({'Feature':feature_name, 'Pearson':cor_support, 'Chi-2':chi_support, 'RFE':rfe_support,\n",
    "                                    'Random Forest':embeded_rf_support})\n",
    "# count the selected times for each feature\n",
    "feature_selection_df['Total'] = np.sum(feature_selection_df, axis=1)\n",
    "feature_selection_df = feature_selection_df.sort_values(['Total','Feature'] , ascending=False)\n",
    "feature_selection_df.index = range(1, len(feature_selection_df)+1)"
   ]
  },
  {
   "cell_type": "code",
   "execution_count": 27,
   "metadata": {},
   "outputs": [
    {
     "name": "stdout",
     "output_type": "stream",
     "text": [
      "The train/test split ratio is 70:30\n",
      "Features we will be using:\n",
      "\n"
     ]
    },
    {
     "data": {
      "text/plain": [
       "['url_length / total_count',\n",
       " 'url_extensions / total_count',\n",
       " 'url_char_w + url_char_y',\n",
       " 'url_char_. / total_count',\n",
       " 'url_char_. + url_char_w',\n",
       " 'url_extensions',\n",
       " 'url_char_z / total_count',\n",
       " 'url_char_z + url_extensions',\n",
       " 'url_char_y + url_extensions',\n",
       " 'url_char_y * url_extensions',\n",
       " 'url_char_w + url_extensions',\n",
       " 'url_char_w + url_char_z',\n",
       " 'url_char_w * url_length',\n",
       " 'url_char_w * url_extensions',\n",
       " 'url_char_w',\n",
       " 'url_char_p / total_count',\n",
       " 'url_char_i / total_count',\n",
       " 'url_char_f + url_extensions',\n",
       " 'url_char_. + url_extensions',\n",
       " 'url_char_. + url_char_z',\n",
       " 'url_char_. + url_char_f',\n",
       " 'url_char_. * url_char_w',\n",
       " 'http_header_vary_user-agent + url_extensions',\n",
       " 'http_header_server_apache / total_count',\n",
       " 'http_header_server_apache + url_extensions',\n",
       " 'a_href_relative / total_href',\n",
       " 'a_href_relative / a_count',\n",
       " 'a_href_out_of_domain / total_href']"
      ]
     },
     "metadata": {},
     "output_type": "display_data"
    }
   ],
   "source": [
    "X=fs[feature_selection_df[feature_selection_df.Total>=3]['Feature']]\n",
    "X.fillna(value=0,inplace=True)\n",
    "y=fs.Target.values\n",
    "feature_name = X.columns.tolist()\n",
    "\n",
    "scaler=StandardScaler()\n",
    "scaled_X=scaler.fit_transform(X)\n",
    "\n",
    "print(\"The train/test split ratio is 70:30\")\n",
    "X_train, X_test, Y_train, Y_test = train_test_split(scaled_X,y,random_state=0,test_size=0.3)\n",
    "print('Features we will be using:\\n')\n",
    "display(feature_name)"
   ]
  },
  {
   "cell_type": "code",
   "execution_count": 28,
   "metadata": {
    "scrolled": false
   },
   "outputs": [
    {
     "name": "stdout",
     "output_type": "stream",
     "text": [
      "\u001b[1mK-Nearest Neighbors\u001b[0m\n",
      "Accuracy of the model for training data is: 0.9783432988187254\n",
      "Confusion Matrix for training data is:\n"
     ]
    },
    {
     "data": {
      "text/plain": [
       "Predicted  False  True  __all__\n",
       "Actual                         \n",
       "False      24155   172    24327\n",
       "True         422  2679     3101\n",
       "__all__    24577  2851    27428"
      ]
     },
     "metadata": {},
     "output_type": "display_data"
    },
    {
     "name": "stdout",
     "output_type": "stream",
     "text": [
      "Accuracy of the model for test data is: 0.9703955763504891\n",
      "Confusion Matrix for test data is:\n"
     ]
    },
    {
     "data": {
      "text/plain": [
       "Predicted  False  True  __all__\n",
       "Actual                         \n",
       "False      10315   100    10415\n",
       "True         248  1092     1340\n",
       "__all__    10563  1192    11755"
      ]
     },
     "metadata": {},
     "output_type": "display_data"
    },
    {
     "name": "stdout",
     "output_type": "stream",
     "text": [
      "\n",
      "\n",
      "\u001b[1mRandomForest Classifier\u001b[0m\n",
      "Accuracy of the model for training data is: 0.9934738223712994\n",
      "Confusion Matrix for training data is:\n"
     ]
    },
    {
     "data": {
      "text/plain": [
       "Predicted  False  True  __all__\n",
       "Actual                         \n",
       "False      24281    46    24327\n",
       "True         133  2968     3101\n",
       "__all__    24414  3014    27428"
      ]
     },
     "metadata": {},
     "output_type": "display_data"
    },
    {
     "name": "stdout",
     "output_type": "stream",
     "text": [
      "Accuracy of the model for test data is: 0.973713313483624\n",
      "Confusion Matrix for test data is:\n"
     ]
    },
    {
     "data": {
      "text/plain": [
       "Predicted  False  True  __all__\n",
       "Actual                         \n",
       "False      10312   103    10415\n",
       "True         206  1134     1340\n",
       "__all__    10518  1237    11755"
      ]
     },
     "metadata": {},
     "output_type": "display_data"
    },
    {
     "data": {
      "application/vnd.plotly.v1+json": {
       "config": {
        "linkText": "Export to plot.ly",
        "plotlyServerURL": "https://plot.ly",
        "showLink": true
       },
       "data": [
        {
         "marker": {
          "color": "rgb(158,202,225)",
          "line": {
           "color": "rgb(8,48,107)",
           "width": 1.5
          }
         },
         "opacity": 0.6,
         "orientation": "h",
         "text": [
          0.1935,
          0.1496,
          0.1206,
          0.0475,
          0.0432,
          0.0385,
          0.034,
          0.0335,
          0.0331,
          0.0316,
          0.0303,
          0.0289,
          0.0248,
          0.0236,
          0.0196,
          0.0186,
          0.0178,
          0.0169,
          0.0167,
          0.0129,
          0.0127,
          0.0122,
          0.0114,
          0.009,
          0.0061,
          0.0053,
          0.0041,
          0.0041
         ],
         "textposition": "outside",
         "type": "bar",
         "uid": "3585d32a-3bb0-4c85-bab0-c95811e6504b",
         "x": [
          0.19353244226829236,
          0.1496230097061332,
          0.12057990546717459,
          0.04751895869252569,
          0.04322891288159781,
          0.03845725288063116,
          0.033992686765323986,
          0.03349027832111694,
          0.03306562624852902,
          0.03158623047433303,
          0.030263646246874016,
          0.028929640182315093,
          0.02481783223137652,
          0.023644255699672746,
          0.019607038291257005,
          0.01859664074662607,
          0.017779910440732835,
          0.016889663700676936,
          0.01672118674389956,
          0.012932157375224235,
          0.012655891597147254,
          0.01218374610923308,
          0.01135373654634996,
          0.009016050534886149,
          0.006056821129554401,
          0.00529796962668236,
          0.004120811554802019,
          0.004057697537031979
         ],
         "y": [
          "url_length / total_count",
          "url_char_i / total_count",
          "url_extensions / total_count",
          "url_extensions",
          "url_char_z / total_count",
          "url_char_z + url_extensions",
          "a_href_relative / a_count",
          "url_char_w * url_extensions",
          "http_header_server_apache + url_extensions",
          "url_char_. + url_char_w",
          "url_char_. / total_count",
          "url_char_w + url_char_y",
          "http_header_server_apache / total_count",
          "url_char_. + url_char_z",
          "url_char_p / total_count",
          "http_header_vary_user-agent + url_extensions",
          "url_char_. + url_extensions",
          "url_char_f + url_extensions",
          "a_href_relative / total_href",
          "url_char_w",
          "url_char_. + url_char_f",
          "url_char_w * url_length",
          "a_href_out_of_domain / total_href",
          "url_char_w + url_extensions",
          "url_char_w + url_char_z",
          "url_char_y + url_extensions",
          "url_char_. * url_char_w",
          "url_char_y * url_extensions"
         ]
        }
       ],
       "layout": {
        "autosize": false,
        "height": 1000,
        "width": 1000,
        "xaxis": {
         "tickfont": {
          "color": "black",
          "size": 12
         },
         "title": "Feature Importances"
        },
        "yaxis": {
         "automargin": true
        }
       }
      },
      "text/html": [
       "<div id=\"9a183114-df6e-4f4b-88c6-80b7daba5ed3\" style=\"height: 1000px; width: 1000px;\" class=\"plotly-graph-div\"></div><script type=\"text/javascript\">require([\"plotly\"], function(Plotly) { window.PLOTLYENV=window.PLOTLYENV || {};window.PLOTLYENV.BASE_URL=\"https://plot.ly\";Plotly.newPlot(\"9a183114-df6e-4f4b-88c6-80b7daba5ed3\", [{\"marker\": {\"color\": \"rgb(158,202,225)\", \"line\": {\"color\": \"rgb(8,48,107)\", \"width\": 1.5}}, \"opacity\": 0.6, \"orientation\": \"h\", \"text\": [0.1935, 0.1496, 0.1206, 0.0475, 0.0432, 0.0385, 0.034, 0.0335, 0.0331, 0.0316, 0.0303, 0.0289, 0.0248, 0.0236, 0.0196, 0.0186, 0.0178, 0.0169, 0.0167, 0.0129, 0.0127, 0.0122, 0.0114, 0.009, 0.0061, 0.0053, 0.0041, 0.0041], \"textposition\": \"outside\", \"x\": [0.19353244226829236, 0.1496230097061332, 0.12057990546717459, 0.04751895869252569, 0.04322891288159781, 0.03845725288063116, 0.033992686765323986, 0.03349027832111694, 0.03306562624852902, 0.03158623047433303, 0.030263646246874016, 0.028929640182315093, 0.02481783223137652, 0.023644255699672746, 0.019607038291257005, 0.01859664074662607, 0.017779910440732835, 0.016889663700676936, 0.01672118674389956, 0.012932157375224235, 0.012655891597147254, 0.01218374610923308, 0.01135373654634996, 0.009016050534886149, 0.006056821129554401, 0.00529796962668236, 0.004120811554802019, 0.004057697537031979], \"y\": [\"url_length / total_count\", \"url_char_i / total_count\", \"url_extensions / total_count\", \"url_extensions\", \"url_char_z / total_count\", \"url_char_z + url_extensions\", \"a_href_relative / a_count\", \"url_char_w * url_extensions\", \"http_header_server_apache + url_extensions\", \"url_char_. + url_char_w\", \"url_char_. / total_count\", \"url_char_w + url_char_y\", \"http_header_server_apache / total_count\", \"url_char_. + url_char_z\", \"url_char_p / total_count\", \"http_header_vary_user-agent + url_extensions\", \"url_char_. + url_extensions\", \"url_char_f + url_extensions\", \"a_href_relative / total_href\", \"url_char_w\", \"url_char_. + url_char_f\", \"url_char_w * url_length\", \"a_href_out_of_domain / total_href\", \"url_char_w + url_extensions\", \"url_char_w + url_char_z\", \"url_char_y + url_extensions\", \"url_char_. * url_char_w\", \"url_char_y * url_extensions\"], \"type\": \"bar\", \"uid\": \"3585d32a-3bb0-4c85-bab0-c95811e6504b\"}], {\"autosize\": false, \"height\": 1000, \"width\": 1000, \"xaxis\": {\"tickfont\": {\"color\": \"black\", \"size\": 12}, \"title\": \"Feature Importances\"}, \"yaxis\": {\"automargin\": true}}, {\"showLink\": true, \"linkText\": \"Export to plot.ly\", \"plotlyServerURL\": \"https://plot.ly\"})});</script>"
      ],
      "text/vnd.plotly.v1+html": [
       "<div id=\"9a183114-df6e-4f4b-88c6-80b7daba5ed3\" style=\"height: 1000px; width: 1000px;\" class=\"plotly-graph-div\"></div><script type=\"text/javascript\">require([\"plotly\"], function(Plotly) { window.PLOTLYENV=window.PLOTLYENV || {};window.PLOTLYENV.BASE_URL=\"https://plot.ly\";Plotly.newPlot(\"9a183114-df6e-4f4b-88c6-80b7daba5ed3\", [{\"marker\": {\"color\": \"rgb(158,202,225)\", \"line\": {\"color\": \"rgb(8,48,107)\", \"width\": 1.5}}, \"opacity\": 0.6, \"orientation\": \"h\", \"text\": [0.1935, 0.1496, 0.1206, 0.0475, 0.0432, 0.0385, 0.034, 0.0335, 0.0331, 0.0316, 0.0303, 0.0289, 0.0248, 0.0236, 0.0196, 0.0186, 0.0178, 0.0169, 0.0167, 0.0129, 0.0127, 0.0122, 0.0114, 0.009, 0.0061, 0.0053, 0.0041, 0.0041], \"textposition\": \"outside\", \"x\": [0.19353244226829236, 0.1496230097061332, 0.12057990546717459, 0.04751895869252569, 0.04322891288159781, 0.03845725288063116, 0.033992686765323986, 0.03349027832111694, 0.03306562624852902, 0.03158623047433303, 0.030263646246874016, 0.028929640182315093, 0.02481783223137652, 0.023644255699672746, 0.019607038291257005, 0.01859664074662607, 0.017779910440732835, 0.016889663700676936, 0.01672118674389956, 0.012932157375224235, 0.012655891597147254, 0.01218374610923308, 0.01135373654634996, 0.009016050534886149, 0.006056821129554401, 0.00529796962668236, 0.004120811554802019, 0.004057697537031979], \"y\": [\"url_length / total_count\", \"url_char_i / total_count\", \"url_extensions / total_count\", \"url_extensions\", \"url_char_z / total_count\", \"url_char_z + url_extensions\", \"a_href_relative / a_count\", \"url_char_w * url_extensions\", \"http_header_server_apache + url_extensions\", \"url_char_. + url_char_w\", \"url_char_. / total_count\", \"url_char_w + url_char_y\", \"http_header_server_apache / total_count\", \"url_char_. + url_char_z\", \"url_char_p / total_count\", \"http_header_vary_user-agent + url_extensions\", \"url_char_. + url_extensions\", \"url_char_f + url_extensions\", \"a_href_relative / total_href\", \"url_char_w\", \"url_char_. + url_char_f\", \"url_char_w * url_length\", \"a_href_out_of_domain / total_href\", \"url_char_w + url_extensions\", \"url_char_w + url_char_z\", \"url_char_y + url_extensions\", \"url_char_. * url_char_w\", \"url_char_y * url_extensions\"], \"type\": \"bar\", \"uid\": \"3585d32a-3bb0-4c85-bab0-c95811e6504b\"}], {\"autosize\": false, \"height\": 1000, \"width\": 1000, \"xaxis\": {\"tickfont\": {\"color\": \"black\", \"size\": 12}, \"title\": \"Feature Importances\"}, \"yaxis\": {\"automargin\": true}}, {\"showLink\": true, \"linkText\": \"Export to plot.ly\", \"plotlyServerURL\": \"https://plot.ly\"})});</script>"
      ]
     },
     "metadata": {},
     "output_type": "display_data"
    },
    {
     "name": "stdout",
     "output_type": "stream",
     "text": [
      "\n",
      "\n",
      "\u001b[1mAdaoost Classifier\u001b[0m\n",
      "Accuracy of the model for training data is: 0.9723640075834913\n",
      "Confusion Matrix for training data is:\n"
     ]
    },
    {
     "data": {
      "text/plain": [
       "Predicted  False  True  __all__\n",
       "Actual                         \n",
       "False      24061   266    24327\n",
       "True         492  2609     3101\n",
       "__all__    24553  2875    27428"
      ]
     },
     "metadata": {},
     "output_type": "display_data"
    },
    {
     "name": "stdout",
     "output_type": "stream",
     "text": [
      "Accuracy of the model for test data is: 0.9679285410463633\n",
      "Confusion Matrix for test data is:\n"
     ]
    },
    {
     "data": {
      "text/plain": [
       "Predicted  False  True  __all__\n",
       "Actual                         \n",
       "False      10279   136    10415\n",
       "True         241  1099     1340\n",
       "__all__    10520  1235    11755"
      ]
     },
     "metadata": {},
     "output_type": "display_data"
    },
    {
     "data": {
      "application/vnd.plotly.v1+json": {
       "config": {
        "linkText": "Export to plot.ly",
        "plotlyServerURL": "https://plot.ly",
        "showLink": true
       },
       "data": [
        {
         "marker": {
          "color": "rgb(158,202,225)",
          "line": {
           "color": "rgb(8,48,107)",
           "width": 1.5
          }
         },
         "opacity": 0.6,
         "orientation": "h",
         "text": [
          0.2,
          0.16,
          0.14,
          0.12,
          0.06,
          0.06,
          0.04,
          0.04,
          0.04,
          0.02,
          0.02,
          0.02,
          0.02,
          0.02,
          0.02,
          0.02,
          0,
          0,
          0,
          0,
          0,
          0,
          0,
          0,
          0,
          0,
          0,
          0
         ],
         "textposition": "outside",
         "type": "bar",
         "uid": "2665af18-d813-46de-9501-d3df919cae02",
         "x": [
          0.2,
          0.16,
          0.14,
          0.12,
          0.06,
          0.06,
          0.04,
          0.04,
          0.04,
          0.02,
          0.02,
          0.02,
          0.02,
          0.02,
          0.02,
          0.02,
          0,
          0,
          0,
          0,
          0,
          0,
          0,
          0,
          0,
          0,
          0,
          0
         ],
         "y": [
          "url_length / total_count",
          "a_href_relative / total_href",
          "a_href_out_of_domain / total_href",
          "url_char_. / total_count",
          "http_header_server_apache + url_extensions",
          "url_char_w + url_char_z",
          "url_char_. + url_extensions",
          "url_char_i / total_count",
          "url_char_w * url_length",
          "url_extensions / total_count",
          "http_header_server_apache / total_count",
          "url_char_. + url_char_f",
          "url_char_. + url_char_w",
          "url_char_p / total_count",
          "url_char_y * url_extensions",
          "url_char_z / total_count",
          "url_char_w * url_extensions",
          "url_char_w + url_extensions",
          "url_char_f + url_extensions",
          "url_char_y + url_extensions",
          "url_char_. + url_char_z",
          "url_char_z + url_extensions",
          "url_char_. * url_char_w",
          "http_header_vary_user-agent + url_extensions",
          "url_extensions",
          "url_char_w + url_char_y",
          "a_href_relative / a_count",
          "url_char_w"
         ]
        }
       ],
       "layout": {
        "autosize": false,
        "height": 1000,
        "width": 1000,
        "xaxis": {
         "tickfont": {
          "color": "black",
          "size": 12
         },
         "title": "Feature Importances"
        },
        "yaxis": {
         "automargin": true
        }
       }
      },
      "text/html": [
       "<div id=\"ce1d52a3-673d-4344-b0f9-94712f0ac3c8\" style=\"height: 1000px; width: 1000px;\" class=\"plotly-graph-div\"></div><script type=\"text/javascript\">require([\"plotly\"], function(Plotly) { window.PLOTLYENV=window.PLOTLYENV || {};window.PLOTLYENV.BASE_URL=\"https://plot.ly\";Plotly.newPlot(\"ce1d52a3-673d-4344-b0f9-94712f0ac3c8\", [{\"marker\": {\"color\": \"rgb(158,202,225)\", \"line\": {\"color\": \"rgb(8,48,107)\", \"width\": 1.5}}, \"opacity\": 0.6, \"orientation\": \"h\", \"text\": [0.2, 0.16, 0.14, 0.12, 0.06, 0.06, 0.04, 0.04, 0.04, 0.02, 0.02, 0.02, 0.02, 0.02, 0.02, 0.02, 0.0, 0.0, 0.0, 0.0, 0.0, 0.0, 0.0, 0.0, 0.0, 0.0, 0.0, 0.0], \"textposition\": \"outside\", \"x\": [0.2, 0.16, 0.14, 0.12, 0.06, 0.06, 0.04, 0.04, 0.04, 0.02, 0.02, 0.02, 0.02, 0.02, 0.02, 0.02, 0.0, 0.0, 0.0, 0.0, 0.0, 0.0, 0.0, 0.0, 0.0, 0.0, 0.0, 0.0], \"y\": [\"url_length / total_count\", \"a_href_relative / total_href\", \"a_href_out_of_domain / total_href\", \"url_char_. / total_count\", \"http_header_server_apache + url_extensions\", \"url_char_w + url_char_z\", \"url_char_. + url_extensions\", \"url_char_i / total_count\", \"url_char_w * url_length\", \"url_extensions / total_count\", \"http_header_server_apache / total_count\", \"url_char_. + url_char_f\", \"url_char_. + url_char_w\", \"url_char_p / total_count\", \"url_char_y * url_extensions\", \"url_char_z / total_count\", \"url_char_w * url_extensions\", \"url_char_w + url_extensions\", \"url_char_f + url_extensions\", \"url_char_y + url_extensions\", \"url_char_. + url_char_z\", \"url_char_z + url_extensions\", \"url_char_. * url_char_w\", \"http_header_vary_user-agent + url_extensions\", \"url_extensions\", \"url_char_w + url_char_y\", \"a_href_relative / a_count\", \"url_char_w\"], \"type\": \"bar\", \"uid\": \"2665af18-d813-46de-9501-d3df919cae02\"}], {\"autosize\": false, \"height\": 1000, \"width\": 1000, \"xaxis\": {\"tickfont\": {\"color\": \"black\", \"size\": 12}, \"title\": \"Feature Importances\"}, \"yaxis\": {\"automargin\": true}}, {\"showLink\": true, \"linkText\": \"Export to plot.ly\", \"plotlyServerURL\": \"https://plot.ly\"})});</script>"
      ],
      "text/vnd.plotly.v1+html": [
       "<div id=\"ce1d52a3-673d-4344-b0f9-94712f0ac3c8\" style=\"height: 1000px; width: 1000px;\" class=\"plotly-graph-div\"></div><script type=\"text/javascript\">require([\"plotly\"], function(Plotly) { window.PLOTLYENV=window.PLOTLYENV || {};window.PLOTLYENV.BASE_URL=\"https://plot.ly\";Plotly.newPlot(\"ce1d52a3-673d-4344-b0f9-94712f0ac3c8\", [{\"marker\": {\"color\": \"rgb(158,202,225)\", \"line\": {\"color\": \"rgb(8,48,107)\", \"width\": 1.5}}, \"opacity\": 0.6, \"orientation\": \"h\", \"text\": [0.2, 0.16, 0.14, 0.12, 0.06, 0.06, 0.04, 0.04, 0.04, 0.02, 0.02, 0.02, 0.02, 0.02, 0.02, 0.02, 0.0, 0.0, 0.0, 0.0, 0.0, 0.0, 0.0, 0.0, 0.0, 0.0, 0.0, 0.0], \"textposition\": \"outside\", \"x\": [0.2, 0.16, 0.14, 0.12, 0.06, 0.06, 0.04, 0.04, 0.04, 0.02, 0.02, 0.02, 0.02, 0.02, 0.02, 0.02, 0.0, 0.0, 0.0, 0.0, 0.0, 0.0, 0.0, 0.0, 0.0, 0.0, 0.0, 0.0], \"y\": [\"url_length / total_count\", \"a_href_relative / total_href\", \"a_href_out_of_domain / total_href\", \"url_char_. / total_count\", \"http_header_server_apache + url_extensions\", \"url_char_w + url_char_z\", \"url_char_. + url_extensions\", \"url_char_i / total_count\", \"url_char_w * url_length\", \"url_extensions / total_count\", \"http_header_server_apache / total_count\", \"url_char_. + url_char_f\", \"url_char_. + url_char_w\", \"url_char_p / total_count\", \"url_char_y * url_extensions\", \"url_char_z / total_count\", \"url_char_w * url_extensions\", \"url_char_w + url_extensions\", \"url_char_f + url_extensions\", \"url_char_y + url_extensions\", \"url_char_. + url_char_z\", \"url_char_z + url_extensions\", \"url_char_. * url_char_w\", \"http_header_vary_user-agent + url_extensions\", \"url_extensions\", \"url_char_w + url_char_y\", \"a_href_relative / a_count\", \"url_char_w\"], \"type\": \"bar\", \"uid\": \"2665af18-d813-46de-9501-d3df919cae02\"}], {\"autosize\": false, \"height\": 1000, \"width\": 1000, \"xaxis\": {\"tickfont\": {\"color\": \"black\", \"size\": 12}, \"title\": \"Feature Importances\"}, \"yaxis\": {\"automargin\": true}}, {\"showLink\": true, \"linkText\": \"Export to plot.ly\", \"plotlyServerURL\": \"https://plot.ly\"})});</script>"
      ]
     },
     "metadata": {},
     "output_type": "display_data"
    },
    {
     "name": "stdout",
     "output_type": "stream",
     "text": [
      "\n",
      "\n",
      "\u001b[1mGradientBoosting Classifier\u001b[0m\n",
      "Accuracy of the model for training data is: 0.9797287443488406\n",
      "Confusion Matrix for training data is:\n"
     ]
    },
    {
     "data": {
      "text/plain": [
       "Predicted  False  True  __all__\n",
       "Actual                         \n",
       "False      24191   136    24327\n",
       "True         420  2681     3101\n",
       "__all__    24611  2817    27428"
      ]
     },
     "metadata": {},
     "output_type": "display_data"
    },
    {
     "name": "stdout",
     "output_type": "stream",
     "text": [
      "Accuracy of the model for test data is: 0.9738834538494258\n",
      "Confusion Matrix for test data is:\n"
     ]
    },
    {
     "data": {
      "text/plain": [
       "Predicted  False  True  __all__\n",
       "Actual                         \n",
       "False      10331    84    10415\n",
       "True         223  1117     1340\n",
       "__all__    10554  1201    11755"
      ]
     },
     "metadata": {},
     "output_type": "display_data"
    },
    {
     "data": {
      "application/vnd.plotly.v1+json": {
       "config": {
        "linkText": "Export to plot.ly",
        "plotlyServerURL": "https://plot.ly",
        "showLink": true
       },
       "data": [
        {
         "marker": {
          "color": "rgb(158,202,225)",
          "line": {
           "color": "rgb(8,48,107)",
           "width": 1.5
          }
         },
         "opacity": 0.6,
         "orientation": "h",
         "text": [
          0.5414,
          0.119,
          0.082,
          0.0667,
          0.0362,
          0.0299,
          0.0285,
          0.0183,
          0.0174,
          0.0122,
          0.0096,
          0.0091,
          0.0063,
          0.0047,
          0.0037,
          0.003,
          0.0025,
          0.0022,
          0.0022,
          0.002,
          0.0012,
          0.0006,
          0.0004,
          0.0002,
          0.0002,
          0.0002,
          0.0002,
          0
         ],
         "textposition": "outside",
         "type": "bar",
         "uid": "bf798661-9daa-4998-a5d6-308c1eadc613",
         "x": [
          0.5414335798582212,
          0.11898289372773418,
          0.08204488610221491,
          0.06666519355255275,
          0.03623964434330439,
          0.029912538790195776,
          0.028523781356994134,
          0.01831009262382394,
          0.017417962843434723,
          0.012184857576164138,
          0.009564913456543324,
          0.009073650409325531,
          0.006284391521939721,
          0.0047219377203818365,
          0.0036726740805187712,
          0.003009109532150843,
          0.0024814974543449298,
          0.0021764407048521766,
          0.0021724150996850623,
          0.0020476012125316195,
          0.0012050075540323507,
          0.0005889290754432898,
          0.00041993335037746195,
          0.0002430672854557229,
          0.00023662163776755118,
          0.00021730262072297148,
          0.00016907650928676377,
          0
         ],
         "y": [
          "url_length / total_count",
          "url_extensions / total_count",
          "url_char_. + url_extensions",
          "url_char_. + url_char_w",
          "http_header_server_apache / total_count",
          "url_char_z / total_count",
          "url_char_w * url_length",
          "url_char_. / total_count",
          "url_char_i / total_count",
          "a_href_out_of_domain / total_href",
          "url_extensions",
          "url_char_. + url_char_z",
          "url_char_w + url_extensions",
          "http_header_server_apache + url_extensions",
          "url_char_. * url_char_w",
          "url_char_p / total_count",
          "url_char_z + url_extensions",
          "url_char_y + url_extensions",
          "url_char_f + url_extensions",
          "url_char_. + url_char_f",
          "a_href_relative / total_href",
          "url_char_w + url_char_z",
          "url_char_w + url_char_y",
          "url_char_y * url_extensions",
          "http_header_vary_user-agent + url_extensions",
          "a_href_relative / a_count",
          "url_char_w * url_extensions",
          "url_char_w"
         ]
        }
       ],
       "layout": {
        "autosize": false,
        "height": 1000,
        "width": 1000,
        "xaxis": {
         "tickfont": {
          "color": "black",
          "size": 12
         },
         "title": "Feature Importances"
        },
        "yaxis": {
         "automargin": true
        }
       }
      },
      "text/html": [
       "<div id=\"6075a011-67fe-48cc-8685-edc78dc78fb9\" style=\"height: 1000px; width: 1000px;\" class=\"plotly-graph-div\"></div><script type=\"text/javascript\">require([\"plotly\"], function(Plotly) { window.PLOTLYENV=window.PLOTLYENV || {};window.PLOTLYENV.BASE_URL=\"https://plot.ly\";Plotly.newPlot(\"6075a011-67fe-48cc-8685-edc78dc78fb9\", [{\"marker\": {\"color\": \"rgb(158,202,225)\", \"line\": {\"color\": \"rgb(8,48,107)\", \"width\": 1.5}}, \"opacity\": 0.6, \"orientation\": \"h\", \"text\": [0.5414, 0.119, 0.082, 0.0667, 0.0362, 0.0299, 0.0285, 0.0183, 0.0174, 0.0122, 0.0096, 0.0091, 0.0063, 0.0047, 0.0037, 0.003, 0.0025, 0.0022, 0.0022, 0.002, 0.0012, 0.0006, 0.0004, 0.0002, 0.0002, 0.0002, 0.0002, 0.0], \"textposition\": \"outside\", \"x\": [0.5414335798582212, 0.11898289372773418, 0.08204488610221491, 0.06666519355255275, 0.03623964434330439, 0.029912538790195776, 0.028523781356994134, 0.01831009262382394, 0.017417962843434723, 0.012184857576164138, 0.009564913456543324, 0.009073650409325531, 0.006284391521939721, 0.0047219377203818365, 0.0036726740805187712, 0.003009109532150843, 0.0024814974543449298, 0.0021764407048521766, 0.0021724150996850623, 0.0020476012125316195, 0.0012050075540323507, 0.0005889290754432898, 0.00041993335037746195, 0.0002430672854557229, 0.00023662163776755118, 0.00021730262072297148, 0.00016907650928676377, 0.0], \"y\": [\"url_length / total_count\", \"url_extensions / total_count\", \"url_char_. + url_extensions\", \"url_char_. + url_char_w\", \"http_header_server_apache / total_count\", \"url_char_z / total_count\", \"url_char_w * url_length\", \"url_char_. / total_count\", \"url_char_i / total_count\", \"a_href_out_of_domain / total_href\", \"url_extensions\", \"url_char_. + url_char_z\", \"url_char_w + url_extensions\", \"http_header_server_apache + url_extensions\", \"url_char_. * url_char_w\", \"url_char_p / total_count\", \"url_char_z + url_extensions\", \"url_char_y + url_extensions\", \"url_char_f + url_extensions\", \"url_char_. + url_char_f\", \"a_href_relative / total_href\", \"url_char_w + url_char_z\", \"url_char_w + url_char_y\", \"url_char_y * url_extensions\", \"http_header_vary_user-agent + url_extensions\", \"a_href_relative / a_count\", \"url_char_w * url_extensions\", \"url_char_w\"], \"type\": \"bar\", \"uid\": \"bf798661-9daa-4998-a5d6-308c1eadc613\"}], {\"autosize\": false, \"height\": 1000, \"width\": 1000, \"xaxis\": {\"tickfont\": {\"color\": \"black\", \"size\": 12}, \"title\": \"Feature Importances\"}, \"yaxis\": {\"automargin\": true}}, {\"showLink\": true, \"linkText\": \"Export to plot.ly\", \"plotlyServerURL\": \"https://plot.ly\"})});</script>"
      ],
      "text/vnd.plotly.v1+html": [
       "<div id=\"6075a011-67fe-48cc-8685-edc78dc78fb9\" style=\"height: 1000px; width: 1000px;\" class=\"plotly-graph-div\"></div><script type=\"text/javascript\">require([\"plotly\"], function(Plotly) { window.PLOTLYENV=window.PLOTLYENV || {};window.PLOTLYENV.BASE_URL=\"https://plot.ly\";Plotly.newPlot(\"6075a011-67fe-48cc-8685-edc78dc78fb9\", [{\"marker\": {\"color\": \"rgb(158,202,225)\", \"line\": {\"color\": \"rgb(8,48,107)\", \"width\": 1.5}}, \"opacity\": 0.6, \"orientation\": \"h\", \"text\": [0.5414, 0.119, 0.082, 0.0667, 0.0362, 0.0299, 0.0285, 0.0183, 0.0174, 0.0122, 0.0096, 0.0091, 0.0063, 0.0047, 0.0037, 0.003, 0.0025, 0.0022, 0.0022, 0.002, 0.0012, 0.0006, 0.0004, 0.0002, 0.0002, 0.0002, 0.0002, 0.0], \"textposition\": \"outside\", \"x\": [0.5414335798582212, 0.11898289372773418, 0.08204488610221491, 0.06666519355255275, 0.03623964434330439, 0.029912538790195776, 0.028523781356994134, 0.01831009262382394, 0.017417962843434723, 0.012184857576164138, 0.009564913456543324, 0.009073650409325531, 0.006284391521939721, 0.0047219377203818365, 0.0036726740805187712, 0.003009109532150843, 0.0024814974543449298, 0.0021764407048521766, 0.0021724150996850623, 0.0020476012125316195, 0.0012050075540323507, 0.0005889290754432898, 0.00041993335037746195, 0.0002430672854557229, 0.00023662163776755118, 0.00021730262072297148, 0.00016907650928676377, 0.0], \"y\": [\"url_length / total_count\", \"url_extensions / total_count\", \"url_char_. + url_extensions\", \"url_char_. + url_char_w\", \"http_header_server_apache / total_count\", \"url_char_z / total_count\", \"url_char_w * url_length\", \"url_char_. / total_count\", \"url_char_i / total_count\", \"a_href_out_of_domain / total_href\", \"url_extensions\", \"url_char_. + url_char_z\", \"url_char_w + url_extensions\", \"http_header_server_apache + url_extensions\", \"url_char_. * url_char_w\", \"url_char_p / total_count\", \"url_char_z + url_extensions\", \"url_char_y + url_extensions\", \"url_char_f + url_extensions\", \"url_char_. + url_char_f\", \"a_href_relative / total_href\", \"url_char_w + url_char_z\", \"url_char_w + url_char_y\", \"url_char_y * url_extensions\", \"http_header_vary_user-agent + url_extensions\", \"a_href_relative / a_count\", \"url_char_w * url_extensions\", \"url_char_w\"], \"type\": \"bar\", \"uid\": \"bf798661-9daa-4998-a5d6-308c1eadc613\"}], {\"autosize\": false, \"height\": 1000, \"width\": 1000, \"xaxis\": {\"tickfont\": {\"color\": \"black\", \"size\": 12}, \"title\": \"Feature Importances\"}, \"yaxis\": {\"automargin\": true}}, {\"showLink\": true, \"linkText\": \"Export to plot.ly\", \"plotlyServerURL\": \"https://plot.ly\"})});</script>"
      ]
     },
     "metadata": {},
     "output_type": "display_data"
    },
    {
     "name": "stdout",
     "output_type": "stream",
     "text": [
      "\n",
      "\n",
      "\u001b[1mExtraTree Classifier\u001b[0m\n",
      "Accuracy of the model for training data is: 0.99558844975937\n",
      "Confusion Matrix for training data is:\n"
     ]
    },
    {
     "data": {
      "text/plain": [
       "Predicted  False  True  __all__\n",
       "Actual                         \n",
       "False      24311    16    24327\n",
       "True         105  2996     3101\n",
       "__all__    24416  3012    27428"
      ]
     },
     "metadata": {},
     "output_type": "display_data"
    },
    {
     "name": "stdout",
     "output_type": "stream",
     "text": [
      "Accuracy of the model for test data is: 0.973713313483624\n",
      "Confusion Matrix for test data is:\n"
     ]
    },
    {
     "data": {
      "text/plain": [
       "Predicted  False  True  __all__\n",
       "Actual                         \n",
       "False      10314   101    10415\n",
       "True         208  1132     1340\n",
       "__all__    10522  1233    11755"
      ]
     },
     "metadata": {},
     "output_type": "display_data"
    },
    {
     "data": {
      "application/vnd.plotly.v1+json": {
       "config": {
        "linkText": "Export to plot.ly",
        "plotlyServerURL": "https://plot.ly",
        "showLink": true
       },
       "data": [
        {
         "marker": {
          "color": "rgb(158,202,225)",
          "line": {
           "color": "rgb(8,48,107)",
           "width": 1.5
          }
         },
         "opacity": 0.6,
         "orientation": "h",
         "text": [
          0.2391,
          0.149,
          0.0588,
          0.0454,
          0.044,
          0.0412,
          0.0411,
          0.0382,
          0.0322,
          0.0301,
          0.0283,
          0.0277,
          0.0276,
          0.0231,
          0.0211,
          0.0204,
          0.0194,
          0.014,
          0.0136,
          0.0123,
          0.0122,
          0.0108,
          0.0106,
          0.0099,
          0.0091,
          0.0087,
          0.0071,
          0.0047
         ],
         "textposition": "outside",
         "type": "bar",
         "uid": "c40aba10-a274-47de-a331-727d81917fc7",
         "x": [
          0.23914748321741316,
          0.149025355525734,
          0.058767987781456914,
          0.0454226346834959,
          0.04400055836534634,
          0.04121750477106836,
          0.04112155424311666,
          0.0382070217415859,
          0.03221783262457258,
          0.030102123983130526,
          0.02834226462849794,
          0.027728439549558805,
          0.027619697040591057,
          0.02310571612151414,
          0.02107217561362934,
          0.02044961618052834,
          0.019366651370051037,
          0.014030260360363051,
          0.013614933141278068,
          0.0123066614164539,
          0.012164670695352113,
          0.010773467770839583,
          0.010629008575438952,
          0.009917722702185086,
          0.009145353367176751,
          0.008730753806724117,
          0.007088298699006086,
          0.004684252023891455
         ],
         "y": [
          "url_length / total_count",
          "url_char_. / total_count",
          "url_char_w + url_extensions",
          "url_char_w + url_char_z",
          "url_char_z / total_count",
          "a_href_relative / total_href",
          "http_header_server_apache / total_count",
          "url_char_f + url_extensions",
          "a_href_relative / a_count",
          "url_char_i / total_count",
          "url_extensions / total_count",
          "url_char_w + url_char_y",
          "url_char_. + url_char_w",
          "url_char_z + url_extensions",
          "url_char_p / total_count",
          "http_header_server_apache + url_extensions",
          "a_href_out_of_domain / total_href",
          "url_extensions",
          "http_header_vary_user-agent + url_extensions",
          "url_char_w * url_length",
          "url_char_w",
          "url_char_. + url_char_f",
          "url_char_y + url_extensions",
          "url_char_. + url_extensions",
          "url_char_y * url_extensions",
          "url_char_. * url_char_w",
          "url_char_. + url_char_z",
          "url_char_w * url_extensions"
         ]
        }
       ],
       "layout": {
        "autosize": false,
        "height": 1000,
        "width": 1000,
        "xaxis": {
         "tickfont": {
          "color": "black",
          "size": 12
         },
         "title": "Feature Importances"
        },
        "yaxis": {
         "automargin": true
        }
       }
      },
      "text/html": [
       "<div id=\"3dbe18bc-9421-4f8d-ab36-0653771dff9b\" style=\"height: 1000px; width: 1000px;\" class=\"plotly-graph-div\"></div><script type=\"text/javascript\">require([\"plotly\"], function(Plotly) { window.PLOTLYENV=window.PLOTLYENV || {};window.PLOTLYENV.BASE_URL=\"https://plot.ly\";Plotly.newPlot(\"3dbe18bc-9421-4f8d-ab36-0653771dff9b\", [{\"marker\": {\"color\": \"rgb(158,202,225)\", \"line\": {\"color\": \"rgb(8,48,107)\", \"width\": 1.5}}, \"opacity\": 0.6, \"orientation\": \"h\", \"text\": [0.2391, 0.149, 0.0588, 0.0454, 0.044, 0.0412, 0.0411, 0.0382, 0.0322, 0.0301, 0.0283, 0.0277, 0.0276, 0.0231, 0.0211, 0.0204, 0.0194, 0.014, 0.0136, 0.0123, 0.0122, 0.0108, 0.0106, 0.0099, 0.0091, 0.0087, 0.0071, 0.0047], \"textposition\": \"outside\", \"x\": [0.23914748321741316, 0.149025355525734, 0.058767987781456914, 0.0454226346834959, 0.04400055836534634, 0.04121750477106836, 0.04112155424311666, 0.0382070217415859, 0.03221783262457258, 0.030102123983130526, 0.02834226462849794, 0.027728439549558805, 0.027619697040591057, 0.02310571612151414, 0.02107217561362934, 0.02044961618052834, 0.019366651370051037, 0.014030260360363051, 0.013614933141278068, 0.0123066614164539, 0.012164670695352113, 0.010773467770839583, 0.010629008575438952, 0.009917722702185086, 0.009145353367176751, 0.008730753806724117, 0.007088298699006086, 0.004684252023891455], \"y\": [\"url_length / total_count\", \"url_char_. / total_count\", \"url_char_w + url_extensions\", \"url_char_w + url_char_z\", \"url_char_z / total_count\", \"a_href_relative / total_href\", \"http_header_server_apache / total_count\", \"url_char_f + url_extensions\", \"a_href_relative / a_count\", \"url_char_i / total_count\", \"url_extensions / total_count\", \"url_char_w + url_char_y\", \"url_char_. + url_char_w\", \"url_char_z + url_extensions\", \"url_char_p / total_count\", \"http_header_server_apache + url_extensions\", \"a_href_out_of_domain / total_href\", \"url_extensions\", \"http_header_vary_user-agent + url_extensions\", \"url_char_w * url_length\", \"url_char_w\", \"url_char_. + url_char_f\", \"url_char_y + url_extensions\", \"url_char_. + url_extensions\", \"url_char_y * url_extensions\", \"url_char_. * url_char_w\", \"url_char_. + url_char_z\", \"url_char_w * url_extensions\"], \"type\": \"bar\", \"uid\": \"c40aba10-a274-47de-a331-727d81917fc7\"}], {\"autosize\": false, \"height\": 1000, \"width\": 1000, \"xaxis\": {\"tickfont\": {\"color\": \"black\", \"size\": 12}, \"title\": \"Feature Importances\"}, \"yaxis\": {\"automargin\": true}}, {\"showLink\": true, \"linkText\": \"Export to plot.ly\", \"plotlyServerURL\": \"https://plot.ly\"})});</script>"
      ],
      "text/vnd.plotly.v1+html": [
       "<div id=\"3dbe18bc-9421-4f8d-ab36-0653771dff9b\" style=\"height: 1000px; width: 1000px;\" class=\"plotly-graph-div\"></div><script type=\"text/javascript\">require([\"plotly\"], function(Plotly) { window.PLOTLYENV=window.PLOTLYENV || {};window.PLOTLYENV.BASE_URL=\"https://plot.ly\";Plotly.newPlot(\"3dbe18bc-9421-4f8d-ab36-0653771dff9b\", [{\"marker\": {\"color\": \"rgb(158,202,225)\", \"line\": {\"color\": \"rgb(8,48,107)\", \"width\": 1.5}}, \"opacity\": 0.6, \"orientation\": \"h\", \"text\": [0.2391, 0.149, 0.0588, 0.0454, 0.044, 0.0412, 0.0411, 0.0382, 0.0322, 0.0301, 0.0283, 0.0277, 0.0276, 0.0231, 0.0211, 0.0204, 0.0194, 0.014, 0.0136, 0.0123, 0.0122, 0.0108, 0.0106, 0.0099, 0.0091, 0.0087, 0.0071, 0.0047], \"textposition\": \"outside\", \"x\": [0.23914748321741316, 0.149025355525734, 0.058767987781456914, 0.0454226346834959, 0.04400055836534634, 0.04121750477106836, 0.04112155424311666, 0.0382070217415859, 0.03221783262457258, 0.030102123983130526, 0.02834226462849794, 0.027728439549558805, 0.027619697040591057, 0.02310571612151414, 0.02107217561362934, 0.02044961618052834, 0.019366651370051037, 0.014030260360363051, 0.013614933141278068, 0.0123066614164539, 0.012164670695352113, 0.010773467770839583, 0.010629008575438952, 0.009917722702185086, 0.009145353367176751, 0.008730753806724117, 0.007088298699006086, 0.004684252023891455], \"y\": [\"url_length / total_count\", \"url_char_. / total_count\", \"url_char_w + url_extensions\", \"url_char_w + url_char_z\", \"url_char_z / total_count\", \"a_href_relative / total_href\", \"http_header_server_apache / total_count\", \"url_char_f + url_extensions\", \"a_href_relative / a_count\", \"url_char_i / total_count\", \"url_extensions / total_count\", \"url_char_w + url_char_y\", \"url_char_. + url_char_w\", \"url_char_z + url_extensions\", \"url_char_p / total_count\", \"http_header_server_apache + url_extensions\", \"a_href_out_of_domain / total_href\", \"url_extensions\", \"http_header_vary_user-agent + url_extensions\", \"url_char_w * url_length\", \"url_char_w\", \"url_char_. + url_char_f\", \"url_char_y + url_extensions\", \"url_char_. + url_extensions\", \"url_char_y * url_extensions\", \"url_char_. * url_char_w\", \"url_char_. + url_char_z\", \"url_char_w * url_extensions\"], \"type\": \"bar\", \"uid\": \"c40aba10-a274-47de-a331-727d81917fc7\"}], {\"autosize\": false, \"height\": 1000, \"width\": 1000, \"xaxis\": {\"tickfont\": {\"color\": \"black\", \"size\": 12}, \"title\": \"Feature Importances\"}, \"yaxis\": {\"automargin\": true}}, {\"showLink\": true, \"linkText\": \"Export to plot.ly\", \"plotlyServerURL\": \"https://plot.ly\"})});</script>"
      ]
     },
     "metadata": {},
     "output_type": "display_data"
    },
    {
     "name": "stdout",
     "output_type": "stream",
     "text": [
      "\n",
      "\n",
      "\u001b[1mXGB Classifier\u001b[0m\n",
      "Accuracy of the model for training data is: 0.978416217004521\n",
      "Confusion Matrix for training data is:\n"
     ]
    },
    {
     "data": {
      "text/plain": [
       "Predicted  False  True  __all__\n",
       "Actual                         \n",
       "False      24194   133    24327\n",
       "True         459  2642     3101\n",
       "__all__    24653  2775    27428"
      ]
     },
     "metadata": {},
     "output_type": "display_data"
    },
    {
     "name": "stdout",
     "output_type": "stream",
     "text": [
      "Accuracy of the model for test data is: 0.9735431731178222\n",
      "Confusion Matrix for test data is:\n"
     ]
    },
    {
     "data": {
      "text/plain": [
       "Predicted  False  True  __all__\n",
       "Actual                         \n",
       "False      10330    85    10415\n",
       "True         226  1114     1340\n",
       "__all__    10556  1199    11755"
      ]
     },
     "metadata": {},
     "output_type": "display_data"
    },
    {
     "data": {
      "application/vnd.plotly.v1+json": {
       "config": {
        "linkText": "Export to plot.ly",
        "plotlyServerURL": "https://plot.ly",
        "showLink": true
       },
       "data": [
        {
         "marker": {
          "color": "rgb(158,202,225)",
          "line": {
           "color": "rgb(8,48,107)",
           "width": 1.5
          }
         },
         "opacity": 0.6,
         "orientation": "h",
         "text": [
          0.1608,
          0.0994,
          0.0906,
          0.0658,
          0.0629,
          0.0599,
          0.0512,
          0.0453,
          0.0351,
          0.0336,
          0.0307,
          0.0292,
          0.0278,
          0.0278,
          0.0263,
          0.0205,
          0.0205,
          0.0205,
          0.0146,
          0.0132,
          0.0132,
          0.0132,
          0.0102,
          0.0102,
          0.0088,
          0.0073,
          0.0015,
          0
         ],
         "textposition": "outside",
         "type": "bar",
         "uid": "4557451d-2c06-4283-a6b3-465140d5d7aa",
         "x": [
          0.16081871092319489,
          0.09941520541906357,
          0.0906432718038559,
          0.06578947603702545,
          0.0628654956817627,
          0.05994151905179024,
          0.051169589161872864,
          0.04532163590192795,
          0.035087719559669495,
          0.033625729382038116,
          0.030701754614710808,
          0.02923976629972458,
          0.02777777798473835,
          0.02777777798473835,
          0.02631578966975212,
          0.020467836409807205,
          0.020467836409807205,
          0.020467836409807205,
          0.01461988314986229,
          0.01315789483487606,
          0.01315789483487606,
          0.01315789483487606,
          0.010233918204903603,
          0.010233918204903603,
          0.008771929889917374,
          0.007309941574931145,
          0.001461988314986229,
          0
         ],
         "y": [
          "url_length / total_count",
          "a_href_out_of_domain / total_href",
          "url_char_. / total_count",
          "url_char_w * url_length",
          "http_header_server_apache / total_count",
          "a_href_relative / total_href",
          "url_extensions / total_count",
          "url_char_. + url_extensions",
          "url_char_. + url_char_f",
          "url_char_i / total_count",
          "url_char_p / total_count",
          "url_char_. + url_char_w",
          "url_char_z / total_count",
          "url_char_. + url_char_z",
          "url_char_y + url_extensions",
          "url_char_. * url_char_w",
          "url_char_w * url_extensions",
          "url_char_w + url_char_z",
          "url_char_z + url_extensions",
          "http_header_server_apache + url_extensions",
          "a_href_relative / a_count",
          "url_char_w + url_char_y",
          "url_char_f + url_extensions",
          "url_char_w + url_extensions",
          "url_extensions",
          "url_char_y * url_extensions",
          "http_header_vary_user-agent + url_extensions",
          "url_char_w"
         ]
        }
       ],
       "layout": {
        "autosize": false,
        "height": 1000,
        "width": 1000,
        "xaxis": {
         "tickfont": {
          "color": "black",
          "size": 12
         },
         "title": "Feature Importances"
        },
        "yaxis": {
         "automargin": true
        }
       }
      },
      "text/html": [
       "<div id=\"a6533ac5-b868-4390-b7ec-fb950d6ff7ab\" style=\"height: 1000px; width: 1000px;\" class=\"plotly-graph-div\"></div><script type=\"text/javascript\">require([\"plotly\"], function(Plotly) { window.PLOTLYENV=window.PLOTLYENV || {};window.PLOTLYENV.BASE_URL=\"https://plot.ly\";Plotly.newPlot(\"a6533ac5-b868-4390-b7ec-fb950d6ff7ab\", [{\"marker\": {\"color\": \"rgb(158,202,225)\", \"line\": {\"color\": \"rgb(8,48,107)\", \"width\": 1.5}}, \"opacity\": 0.6, \"orientation\": \"h\", \"text\": [0.1608, 0.0994, 0.0906, 0.0658, 0.0629, 0.0599, 0.0512, 0.0453, 0.0351, 0.0336, 0.0307, 0.0292, 0.0278, 0.0278, 0.0263, 0.0205, 0.0205, 0.0205, 0.0146, 0.0132, 0.0132, 0.0132, 0.0102, 0.0102, 0.0088, 0.0073, 0.0015, 0.0], \"textposition\": \"outside\", \"x\": [0.16081871092319489, 0.09941520541906357, 0.0906432718038559, 0.06578947603702545, 0.0628654956817627, 0.05994151905179024, 0.051169589161872864, 0.04532163590192795, 0.035087719559669495, 0.033625729382038116, 0.030701754614710808, 0.02923976629972458, 0.02777777798473835, 0.02777777798473835, 0.02631578966975212, 0.020467836409807205, 0.020467836409807205, 0.020467836409807205, 0.01461988314986229, 0.01315789483487606, 0.01315789483487606, 0.01315789483487606, 0.010233918204903603, 0.010233918204903603, 0.008771929889917374, 0.007309941574931145, 0.001461988314986229, 0.0], \"y\": [\"url_length / total_count\", \"a_href_out_of_domain / total_href\", \"url_char_. / total_count\", \"url_char_w * url_length\", \"http_header_server_apache / total_count\", \"a_href_relative / total_href\", \"url_extensions / total_count\", \"url_char_. + url_extensions\", \"url_char_. + url_char_f\", \"url_char_i / total_count\", \"url_char_p / total_count\", \"url_char_. + url_char_w\", \"url_char_z / total_count\", \"url_char_. + url_char_z\", \"url_char_y + url_extensions\", \"url_char_. * url_char_w\", \"url_char_w * url_extensions\", \"url_char_w + url_char_z\", \"url_char_z + url_extensions\", \"http_header_server_apache + url_extensions\", \"a_href_relative / a_count\", \"url_char_w + url_char_y\", \"url_char_f + url_extensions\", \"url_char_w + url_extensions\", \"url_extensions\", \"url_char_y * url_extensions\", \"http_header_vary_user-agent + url_extensions\", \"url_char_w\"], \"type\": \"bar\", \"uid\": \"4557451d-2c06-4283-a6b3-465140d5d7aa\"}], {\"autosize\": false, \"height\": 1000, \"width\": 1000, \"xaxis\": {\"tickfont\": {\"color\": \"black\", \"size\": 12}, \"title\": \"Feature Importances\"}, \"yaxis\": {\"automargin\": true}}, {\"showLink\": true, \"linkText\": \"Export to plot.ly\", \"plotlyServerURL\": \"https://plot.ly\"})});</script>"
      ],
      "text/vnd.plotly.v1+html": [
       "<div id=\"a6533ac5-b868-4390-b7ec-fb950d6ff7ab\" style=\"height: 1000px; width: 1000px;\" class=\"plotly-graph-div\"></div><script type=\"text/javascript\">require([\"plotly\"], function(Plotly) { window.PLOTLYENV=window.PLOTLYENV || {};window.PLOTLYENV.BASE_URL=\"https://plot.ly\";Plotly.newPlot(\"a6533ac5-b868-4390-b7ec-fb950d6ff7ab\", [{\"marker\": {\"color\": \"rgb(158,202,225)\", \"line\": {\"color\": \"rgb(8,48,107)\", \"width\": 1.5}}, \"opacity\": 0.6, \"orientation\": \"h\", \"text\": [0.1608, 0.0994, 0.0906, 0.0658, 0.0629, 0.0599, 0.0512, 0.0453, 0.0351, 0.0336, 0.0307, 0.0292, 0.0278, 0.0278, 0.0263, 0.0205, 0.0205, 0.0205, 0.0146, 0.0132, 0.0132, 0.0132, 0.0102, 0.0102, 0.0088, 0.0073, 0.0015, 0.0], \"textposition\": \"outside\", \"x\": [0.16081871092319489, 0.09941520541906357, 0.0906432718038559, 0.06578947603702545, 0.0628654956817627, 0.05994151905179024, 0.051169589161872864, 0.04532163590192795, 0.035087719559669495, 0.033625729382038116, 0.030701754614710808, 0.02923976629972458, 0.02777777798473835, 0.02777777798473835, 0.02631578966975212, 0.020467836409807205, 0.020467836409807205, 0.020467836409807205, 0.01461988314986229, 0.01315789483487606, 0.01315789483487606, 0.01315789483487606, 0.010233918204903603, 0.010233918204903603, 0.008771929889917374, 0.007309941574931145, 0.001461988314986229, 0.0], \"y\": [\"url_length / total_count\", \"a_href_out_of_domain / total_href\", \"url_char_. / total_count\", \"url_char_w * url_length\", \"http_header_server_apache / total_count\", \"a_href_relative / total_href\", \"url_extensions / total_count\", \"url_char_. + url_extensions\", \"url_char_. + url_char_f\", \"url_char_i / total_count\", \"url_char_p / total_count\", \"url_char_. + url_char_w\", \"url_char_z / total_count\", \"url_char_. + url_char_z\", \"url_char_y + url_extensions\", \"url_char_. * url_char_w\", \"url_char_w * url_extensions\", \"url_char_w + url_char_z\", \"url_char_z + url_extensions\", \"http_header_server_apache + url_extensions\", \"a_href_relative / a_count\", \"url_char_w + url_char_y\", \"url_char_f + url_extensions\", \"url_char_w + url_extensions\", \"url_extensions\", \"url_char_y * url_extensions\", \"http_header_vary_user-agent + url_extensions\", \"url_char_w\"], \"type\": \"bar\", \"uid\": \"4557451d-2c06-4283-a6b3-465140d5d7aa\"}], {\"autosize\": false, \"height\": 1000, \"width\": 1000, \"xaxis\": {\"tickfont\": {\"color\": \"black\", \"size\": 12}, \"title\": \"Feature Importances\"}, \"yaxis\": {\"automargin\": true}}, {\"showLink\": true, \"linkText\": \"Export to plot.ly\", \"plotlyServerURL\": \"https://plot.ly\"})});</script>"
      ]
     },
     "metadata": {},
     "output_type": "display_data"
    },
    {
     "name": "stdout",
     "output_type": "stream",
     "text": [
      "\n",
      "\n",
      "\u001b[1mBagging Classifier\u001b[0m\n",
      "Accuracy of the model for training data is: 0.9934738223712994\n",
      "Confusion Matrix for training data is:\n"
     ]
    },
    {
     "data": {
      "text/plain": [
       "Predicted  False  True  __all__\n",
       "Actual                         \n",
       "False      24274    53    24327\n",
       "True         126  2975     3101\n",
       "__all__    24400  3028    27428"
      ]
     },
     "metadata": {},
     "output_type": "display_data"
    },
    {
     "name": "stdout",
     "output_type": "stream",
     "text": [
      "Accuracy of the model for test data is: 0.973713313483624\n",
      "Confusion Matrix for test data is:\n"
     ]
    },
    {
     "data": {
      "text/plain": [
       "Predicted  False  True  __all__\n",
       "Actual                         \n",
       "False      10305   110    10415\n",
       "True         199  1141     1340\n",
       "__all__    10504  1251    11755"
      ]
     },
     "metadata": {},
     "output_type": "display_data"
    },
    {
     "name": "stdout",
     "output_type": "stream",
     "text": [
      "\n",
      "\n",
      "\u001b[1mNeural Network-1\u001b[0m\n"
     ]
    },
    {
     "name": "stderr",
     "output_type": "stream",
     "text": [
      "distributed.utils - ERROR - \n",
      "Traceback (most recent call last):\n",
      "  File \"/nethomes/darshan/anaconda3/lib/python3.6/site-packages/distributed/utils.py\", line 713, in log_errors\n",
      "    yield\n",
      "  File \"/nethomes/darshan/anaconda3/lib/python3.6/site-packages/distributed/client.py\", line 1223, in _close\n",
      "    quiet_exceptions=(CancelledError,),\n",
      "  File \"/nethomes/darshan/anaconda3/lib/python3.6/site-packages/tornado/gen.py\", line 584, in with_timeout\n",
      "    chain_future(future_converted, result)\n",
      "  File \"/nethomes/darshan/anaconda3/lib/python3.6/site-packages/tornado/concurrent.py\", line 166, in chain_future\n",
      "    future_add_done_callback(a, copy)\n",
      "  File \"/nethomes/darshan/anaconda3/lib/python3.6/site-packages/tornado/concurrent.py\", line 262, in future_add_done_callback\n",
      "    callback(future)\n",
      "  File \"/nethomes/darshan/anaconda3/lib/python3.6/site-packages/tornado/concurrent.py\", line 160, in copy\n",
      "    elif a.exception() is not None:\n",
      "concurrent.futures._base.CancelledError\n",
      "Exception ignored in: <bound method Client.__del__ of <Client: not connected>>\n",
      "Traceback (most recent call last):\n",
      "  File \"/nethomes/darshan/anaconda3/lib/python3.6/site-packages/distributed/client.py\", line 1075, in __del__\n",
      "    self.close()\n",
      "  File \"/nethomes/darshan/anaconda3/lib/python3.6/site-packages/distributed/client.py\", line 1290, in close\n",
      "    sync(self.loop, self._close, fast=True)\n",
      "  File \"/nethomes/darshan/anaconda3/lib/python3.6/site-packages/distributed/utils.py\", line 331, in sync\n",
      "    six.reraise(*error[0])\n",
      "  File \"/nethomes/darshan/anaconda3/lib/python3.6/site-packages/six.py\", line 693, in reraise\n",
      "    raise value\n",
      "  File \"/nethomes/darshan/anaconda3/lib/python3.6/site-packages/distributed/utils.py\", line 316, in f\n",
      "    result[0] = yield future\n",
      "  File \"/nethomes/darshan/anaconda3/lib/python3.6/site-packages/tornado/gen.py\", line 729, in run\n",
      "    value = future.result()\n",
      "  File \"/nethomes/darshan/anaconda3/lib/python3.6/site-packages/tornado/gen.py\", line 209, in wrapper\n",
      "    yielded = next(result)\n",
      "  File \"/nethomes/darshan/anaconda3/lib/python3.6/site-packages/distributed/client.py\", line 1223, in _close\n",
      "    quiet_exceptions=(CancelledError,),\n",
      "  File \"/nethomes/darshan/anaconda3/lib/python3.6/site-packages/tornado/gen.py\", line 584, in with_timeout\n",
      "    chain_future(future_converted, result)\n",
      "  File \"/nethomes/darshan/anaconda3/lib/python3.6/site-packages/tornado/concurrent.py\", line 166, in chain_future\n",
      "    future_add_done_callback(a, copy)\n",
      "  File \"/nethomes/darshan/anaconda3/lib/python3.6/site-packages/tornado/concurrent.py\", line 262, in future_add_done_callback\n",
      "    callback(future)\n",
      "  File \"/nethomes/darshan/anaconda3/lib/python3.6/site-packages/tornado/concurrent.py\", line 160, in copy\n",
      "    elif a.exception() is not None:\n",
      "concurrent.futures._base.CancelledError: \n"
     ]
    },
    {
     "name": "stdout",
     "output_type": "stream",
     "text": [
      "The accuracy of the model on training data is: 0.9840309173107773\n"
     ]
    },
    {
     "data": {
      "text/plain": [
       "Predicted  False  True  __all__\n",
       "Actual                         \n",
       "False      24228    99    24327\n",
       "True         339  2762     3101\n",
       "__all__    24567  2861    27428"
      ]
     },
     "metadata": {},
     "output_type": "display_data"
    },
    {
     "name": "stdout",
     "output_type": "stream",
     "text": [
      "The accuracy of the model on test data is: 0.9730327520204168\n"
     ]
    },
    {
     "data": {
      "text/plain": [
       "Predicted  False  True  __all__\n",
       "Actual                         \n",
       "False      10308   107    10415\n",
       "True         210  1130     1340\n",
       "__all__    10518  1237    11755"
      ]
     },
     "metadata": {},
     "output_type": "display_data"
    },
    {
     "name": "stdout",
     "output_type": "stream",
     "text": [
      "\n",
      "\n"
     ]
    }
   ],
   "source": [
    "fs=fs.reindex(df_sel.index.values)\n",
    "\n",
    "train=fs.iloc[:27428]\n",
    "train_Y=train.Target.values\n",
    "train_X=train[feature_name].values\n",
    "\n",
    "\n",
    "scaler=StandardScaler()\n",
    "scaled_X_train=scaler.fit_transform(train_X)\n",
    "\n",
    "test=fs.iloc[27428:]\n",
    "test_Y=test.Target.values\n",
    "test_X=test[feature_name]\n",
    "\n",
    "scaled_X_test=scaler.transform(test_X)\n",
    "\n",
    "table_80_50_train=pd.DataFrame(columns=['accuracy','TP','TN','FP','FN','FPR','FNR'])\n",
    "table_80_50_test=pd.DataFrame(columns=['accuracy','TP','TN','FP','FN','FPR','FNR','auc','MCC','Precision','Recall'])\n",
    "\n",
    "feat_imp=[None]*5\n",
    "j=0\n",
    "for i in range(0,8):\n",
    "    if i>=1 and i<=5:\n",
    "        model,cm_train,cm_test,acc_train,acc_test,roc_auc,feat_imp[j],mcc,prec,rec=f[i](scaled_X_train,train_Y,scaled_X_test,test_Y,feature_name)\n",
    "        j=j+1\n",
    "    else:\n",
    "        model,cm_train,cm_test,acc_train,acc_test,roc_auc,mcc,prec,rec=f[i](scaled_X_train,train_Y,scaled_X_test,test_Y)\n",
    "    table_80_50_train.loc[i]=   ([acc_train,cm_train.TP,cm_train.TN,cm_train.FP,cm_train.FN,cm_train.FPR,cm_train.FNR])\n",
    "    table_80_50_test.loc[i] =   ([acc_test ,cm_test.TP, cm_test.TN, cm_test.FP, cm_test.FN, cm_test.FPR, cm_test.FNR,roc_auc,mcc,prec,rec])\n",
    "    print(\"\\n\")"
   ]
  },
  {
   "cell_type": "markdown",
   "metadata": {},
   "source": [
    "### <a id='4.A' style=\"text-decoration : none; color : #000000;\"> A. Results</a>"
   ]
  },
  {
   "cell_type": "code",
   "execution_count": 29,
   "metadata": {},
   "outputs": [
    {
     "data": {
      "application/vnd.plotly.v1+json": {
       "config": {
        "linkText": "Export to plot.ly",
        "plotlyServerURL": "https://plot.ly",
        "showLink": true
       },
       "data": [
        {
         "mode": "lines",
         "name": "KNN_model",
         "type": "scatter",
         "uid": "90ac2b1d-5b4a-4535-893d-af15448e3702",
         "x": [
          "accuracy",
          "auc",
          "MCC",
          "Precision",
          "Recall"
         ],
         "y": [
          0.9703955763504891,
          0.9026619184442646,
          0.8478535106291103,
          0.9161073825503355,
          0.8149253731343283
         ]
        },
        {
         "mode": "lines+markers",
         "name": "XGB",
         "type": "scatter",
         "uid": "6c6eddc9-06b4-49d4-ba95-3c8fb2073659",
         "x": [
          "accuracy",
          "auc",
          "MCC",
          "Precision",
          "Recall"
         ],
         "y": [
          0.9735431731178222,
          0.9115909888865802,
          0.8644076618614956,
          0.9291075896580484,
          0.8313432835820895
         ]
        },
        {
         "marker": {
          "symbol": "x"
         },
         "mode": "lines+markers",
         "name": "Random Forest",
         "type": "scatter",
         "uid": "58e7e82b-6a0f-4b72-824b-54efacaaab2b",
         "x": [
          "accuracy",
          "auc",
          "MCC",
          "Precision",
          "Recall"
         ],
         "y": [
          0.973713313483624,
          0.9181895371916223,
          0.8662310796738544,
          0.9167340339531124,
          0.8462686567164179
         ]
        },
        {
         "mode": "lines",
         "name": "Ada Boost",
         "type": "scatter",
         "uid": "4e5a4243-9920-4b7c-b9ac-8718e23e0ae6",
         "x": [
          "accuracy",
          "auc",
          "MCC",
          "Precision",
          "Recall"
         ],
         "y": [
          0.9679285410463633,
          0.9035455822185281,
          0.8364948674108715,
          0.8898785425101214,
          0.8201492537313433
         ]
        },
        {
         "mode": "lines+markers",
         "name": "GradientBoosting",
         "type": "scatter",
         "uid": "1158ecd4-d99c-4f1a-bc6f-b18041436fd7",
         "x": [
          "accuracy",
          "auc",
          "MCC",
          "Precision",
          "Recall"
         ],
         "y": [
          0.9738834538494258,
          0.9127583995528836,
          0.8662193943387868,
          0.9300582847626978,
          0.8335820895522388
         ]
        },
        {
         "marker": {
          "symbol": "x"
         },
         "mode": "lines+markers",
         "name": "ExtraTree Classifier",
         "type": "scatter",
         "uid": "71652081-418d-4be0-955d-03209afabec6",
         "x": [
          "accuracy",
          "auc",
          "MCC",
          "Precision",
          "Recall"
         ],
         "y": [
          0.973713313483624,
          0.9175392838973637,
          0.8661212360338804,
          0.9180859691808597,
          0.844776119402985
         ]
        },
        {
         "marker": {
          "symbol": "x"
         },
         "mode": "lines+markers",
         "name": "Bagging",
         "type": "scatter",
         "uid": "8079f559-54ab-47db-b194-45dfb3ddb21d",
         "x": [
          "accuracy",
          "auc",
          "MCC",
          "Precision",
          "Recall"
         ],
         "y": [
          0.973713313483624,
          0.9204654237215267,
          0.8666351680329647,
          0.9120703437250199,
          0.8514925373134329
         ]
        },
        {
         "marker": {
          "symbol": "x"
         },
         "mode": "lines+markers",
         "name": "Neural Network",
         "type": "scatter",
         "uid": "d466610f-5cd4-4b2c-9712-ff9aa8da5112",
         "x": [
          "accuracy",
          "auc",
          "MCC",
          "Precision",
          "Recall"
         ],
         "y": [
          0.9730327520204168,
          0.9204654237215267,
          0.8627416925398709,
          0.9135004042037187,
          0.8432835820895522
         ]
        }
       ],
       "layout": {
        "title": "Result comparision for Features selected in Section 1",
        "yaxis": {
         "dtick": 0.05,
         "tick0": 0
        }
       }
      },
      "text/html": [
       "<div id=\"f5cea62f-b4cd-4e18-8f54-30bd58953fd3\" style=\"height: 525px; width: 100%;\" class=\"plotly-graph-div\"></div><script type=\"text/javascript\">require([\"plotly\"], function(Plotly) { window.PLOTLYENV=window.PLOTLYENV || {};window.PLOTLYENV.BASE_URL=\"https://plot.ly\";Plotly.newPlot(\"f5cea62f-b4cd-4e18-8f54-30bd58953fd3\", [{\"mode\": \"lines\", \"name\": \"KNN_model\", \"x\": [\"accuracy\", \"auc\", \"MCC\", \"Precision\", \"Recall\"], \"y\": [0.9703955763504891, 0.9026619184442646, 0.8478535106291103, 0.9161073825503355, 0.8149253731343283], \"type\": \"scatter\", \"uid\": \"90ac2b1d-5b4a-4535-893d-af15448e3702\"}, {\"mode\": \"lines+markers\", \"name\": \"XGB\", \"x\": [\"accuracy\", \"auc\", \"MCC\", \"Precision\", \"Recall\"], \"y\": [0.9735431731178222, 0.9115909888865802, 0.8644076618614956, 0.9291075896580484, 0.8313432835820895], \"type\": \"scatter\", \"uid\": \"6c6eddc9-06b4-49d4-ba95-3c8fb2073659\"}, {\"marker\": {\"symbol\": \"x\"}, \"mode\": \"lines+markers\", \"name\": \"Random Forest\", \"x\": [\"accuracy\", \"auc\", \"MCC\", \"Precision\", \"Recall\"], \"y\": [0.973713313483624, 0.9181895371916223, 0.8662310796738544, 0.9167340339531124, 0.8462686567164179], \"type\": \"scatter\", \"uid\": \"58e7e82b-6a0f-4b72-824b-54efacaaab2b\"}, {\"mode\": \"lines\", \"name\": \"Ada Boost\", \"x\": [\"accuracy\", \"auc\", \"MCC\", \"Precision\", \"Recall\"], \"y\": [0.9679285410463633, 0.9035455822185281, 0.8364948674108715, 0.8898785425101214, 0.8201492537313433], \"type\": \"scatter\", \"uid\": \"4e5a4243-9920-4b7c-b9ac-8718e23e0ae6\"}, {\"mode\": \"lines+markers\", \"name\": \"GradientBoosting\", \"x\": [\"accuracy\", \"auc\", \"MCC\", \"Precision\", \"Recall\"], \"y\": [0.9738834538494258, 0.9127583995528836, 0.8662193943387868, 0.9300582847626978, 0.8335820895522388], \"type\": \"scatter\", \"uid\": \"1158ecd4-d99c-4f1a-bc6f-b18041436fd7\"}, {\"marker\": {\"symbol\": \"x\"}, \"mode\": \"lines+markers\", \"name\": \"ExtraTree Classifier\", \"x\": [\"accuracy\", \"auc\", \"MCC\", \"Precision\", \"Recall\"], \"y\": [0.973713313483624, 0.9175392838973637, 0.8661212360338804, 0.9180859691808597, 0.844776119402985], \"type\": \"scatter\", \"uid\": \"71652081-418d-4be0-955d-03209afabec6\"}, {\"marker\": {\"symbol\": \"x\"}, \"mode\": \"lines+markers\", \"name\": \"Bagging\", \"x\": [\"accuracy\", \"auc\", \"MCC\", \"Precision\", \"Recall\"], \"y\": [0.973713313483624, 0.9204654237215267, 0.8666351680329647, 0.9120703437250199, 0.8514925373134329], \"type\": \"scatter\", \"uid\": \"8079f559-54ab-47db-b194-45dfb3ddb21d\"}, {\"marker\": {\"symbol\": \"x\"}, \"mode\": \"lines+markers\", \"name\": \"Neural Network\", \"x\": [\"accuracy\", \"auc\", \"MCC\", \"Precision\", \"Recall\"], \"y\": [0.9730327520204168, 0.9204654237215267, 0.8627416925398709, 0.9135004042037187, 0.8432835820895522], \"type\": \"scatter\", \"uid\": \"d466610f-5cd4-4b2c-9712-ff9aa8da5112\"}], {\"title\": \"Result comparision for Features selected in Section 1\", \"yaxis\": {\"dtick\": 0.05, \"tick0\": 0}}, {\"showLink\": true, \"linkText\": \"Export to plot.ly\", \"plotlyServerURL\": \"https://plot.ly\"})});</script><script type=\"text/javascript\">window.addEventListener(\"resize\", function(){window._Plotly.Plots.resize(document.getElementById(\"f5cea62f-b4cd-4e18-8f54-30bd58953fd3\"));});</script>"
      ],
      "text/vnd.plotly.v1+html": [
       "<div id=\"f5cea62f-b4cd-4e18-8f54-30bd58953fd3\" style=\"height: 525px; width: 100%;\" class=\"plotly-graph-div\"></div><script type=\"text/javascript\">require([\"plotly\"], function(Plotly) { window.PLOTLYENV=window.PLOTLYENV || {};window.PLOTLYENV.BASE_URL=\"https://plot.ly\";Plotly.newPlot(\"f5cea62f-b4cd-4e18-8f54-30bd58953fd3\", [{\"mode\": \"lines\", \"name\": \"KNN_model\", \"x\": [\"accuracy\", \"auc\", \"MCC\", \"Precision\", \"Recall\"], \"y\": [0.9703955763504891, 0.9026619184442646, 0.8478535106291103, 0.9161073825503355, 0.8149253731343283], \"type\": \"scatter\", \"uid\": \"90ac2b1d-5b4a-4535-893d-af15448e3702\"}, {\"mode\": \"lines+markers\", \"name\": \"XGB\", \"x\": [\"accuracy\", \"auc\", \"MCC\", \"Precision\", \"Recall\"], \"y\": [0.9735431731178222, 0.9115909888865802, 0.8644076618614956, 0.9291075896580484, 0.8313432835820895], \"type\": \"scatter\", \"uid\": \"6c6eddc9-06b4-49d4-ba95-3c8fb2073659\"}, {\"marker\": {\"symbol\": \"x\"}, \"mode\": \"lines+markers\", \"name\": \"Random Forest\", \"x\": [\"accuracy\", \"auc\", \"MCC\", \"Precision\", \"Recall\"], \"y\": [0.973713313483624, 0.9181895371916223, 0.8662310796738544, 0.9167340339531124, 0.8462686567164179], \"type\": \"scatter\", \"uid\": \"58e7e82b-6a0f-4b72-824b-54efacaaab2b\"}, {\"mode\": \"lines\", \"name\": \"Ada Boost\", \"x\": [\"accuracy\", \"auc\", \"MCC\", \"Precision\", \"Recall\"], \"y\": [0.9679285410463633, 0.9035455822185281, 0.8364948674108715, 0.8898785425101214, 0.8201492537313433], \"type\": \"scatter\", \"uid\": \"4e5a4243-9920-4b7c-b9ac-8718e23e0ae6\"}, {\"mode\": \"lines+markers\", \"name\": \"GradientBoosting\", \"x\": [\"accuracy\", \"auc\", \"MCC\", \"Precision\", \"Recall\"], \"y\": [0.9738834538494258, 0.9127583995528836, 0.8662193943387868, 0.9300582847626978, 0.8335820895522388], \"type\": \"scatter\", \"uid\": \"1158ecd4-d99c-4f1a-bc6f-b18041436fd7\"}, {\"marker\": {\"symbol\": \"x\"}, \"mode\": \"lines+markers\", \"name\": \"ExtraTree Classifier\", \"x\": [\"accuracy\", \"auc\", \"MCC\", \"Precision\", \"Recall\"], \"y\": [0.973713313483624, 0.9175392838973637, 0.8661212360338804, 0.9180859691808597, 0.844776119402985], \"type\": \"scatter\", \"uid\": \"71652081-418d-4be0-955d-03209afabec6\"}, {\"marker\": {\"symbol\": \"x\"}, \"mode\": \"lines+markers\", \"name\": \"Bagging\", \"x\": [\"accuracy\", \"auc\", \"MCC\", \"Precision\", \"Recall\"], \"y\": [0.973713313483624, 0.9204654237215267, 0.8666351680329647, 0.9120703437250199, 0.8514925373134329], \"type\": \"scatter\", \"uid\": \"8079f559-54ab-47db-b194-45dfb3ddb21d\"}, {\"marker\": {\"symbol\": \"x\"}, \"mode\": \"lines+markers\", \"name\": \"Neural Network\", \"x\": [\"accuracy\", \"auc\", \"MCC\", \"Precision\", \"Recall\"], \"y\": [0.9730327520204168, 0.9204654237215267, 0.8627416925398709, 0.9135004042037187, 0.8432835820895522], \"type\": \"scatter\", \"uid\": \"d466610f-5cd4-4b2c-9712-ff9aa8da5112\"}], {\"title\": \"Result comparision for Features selected in Section 1\", \"yaxis\": {\"dtick\": 0.05, \"tick0\": 0}}, {\"showLink\": true, \"linkText\": \"Export to plot.ly\", \"plotlyServerURL\": \"https://plot.ly\"})});</script><script type=\"text/javascript\">window.addEventListener(\"resize\", function(){window._Plotly.Plots.resize(document.getElementById(\"f5cea62f-b4cd-4e18-8f54-30bd58953fd3\"));});</script>"
      ]
     },
     "metadata": {},
     "output_type": "display_data"
    }
   ],
   "source": [
    "trace0 = go.Scatter(x=table_80_50_test.iloc[0].index.values[[0,7,8,9,10]],\n",
    "                    y=table_80_50_test.iloc[0].values[[0,7,8,9,10]],\n",
    "                    mode = 'lines',\n",
    "                    name = 'KNN_model')\n",
    "\n",
    "\n",
    "trace2 = go.Scatter(x=table_80_50_test.iloc[1].index.values[[0,7,8,9,10]],\n",
    "                    y=table_80_50_test.iloc[1].values[[0,7,8,9,10]],\n",
    "                    mode = 'lines+markers',marker=dict(symbol='x'),\n",
    "                    name = 'Random Forest')\n",
    "\n",
    "\n",
    "trace3 = go.Scatter(x=table_80_50_test.iloc[2].index.values[[0,7,8,9,10]],\n",
    "                    y=table_80_50_test.iloc[2].values[[0,7,8,9,10]],\n",
    "                    mode = 'lines',\n",
    "                    name = 'Ada Boost')\n",
    "\n",
    "trace4 = go.Scatter(x=table_80_50_test.iloc[3].index.values[[0,7,8,9,10]],\n",
    "                    y=table_80_50_test.iloc[3].values[[0,7,8,9,10]],\n",
    "                    mode = 'lines+markers',\n",
    "                    name = 'GradientBoosting')\n",
    "\n",
    "trace5 = go.Scatter(x=table_80_50_test.iloc[4].index.values[[0,7,8,9,10]],\n",
    "                    y=table_80_50_test.iloc[4].values[[0,7,8,9,10]],\n",
    "                    mode = 'lines+markers',marker=dict(symbol='x'),\n",
    "                    name = 'ExtraTree Classifier')\n",
    "\n",
    "\n",
    "trace1 = go.Scatter(x=table_80_50_test.iloc[5].index.values[[0,7,8,9,10]],\n",
    "                    y=table_80_50_test.iloc[5].values[[0,7,8,9,10]],\n",
    "                    mode = 'lines+markers',\n",
    "                    name = 'XGB')\n",
    "\n",
    "\n",
    "trace6 = go.Scatter(x=table_80_50_test.iloc[6].index.values[[0,7,8,9,10]],\n",
    "                    y=table_80_50_test.iloc[6].values[[0,7,8,9,10]],\n",
    "                    mode = 'lines+markers',marker=dict(symbol='x'),\n",
    "                    name = 'Bagging')\n",
    "\n",
    "trace7 = go.Scatter(x=table_80_50_test.iloc[7].index.values[[0,7,8,9,10]],\n",
    "                    y=table_80_50_test.iloc[7].values[[0,7,8,9,10]],\n",
    "                    mode = 'lines+markers',marker=dict(symbol='x'),\n",
    "                    name = 'Neural Network')\n",
    "\n",
    "\n",
    "\n",
    "data = [trace0, trace1, trace2, trace3, trace4, trace5, trace6, trace7]\n",
    "layout = go.Layout(yaxis=dict(tick0=0,dtick=0.05),title='Result comparision for Features selected in Section 1')\n",
    "fig = go.Figure(data=data, layout=layout)\n",
    "\n",
    "iplot(fig, filename='Result')"
   ]
  },
  {
   "cell_type": "code",
   "execution_count": 30,
   "metadata": {},
   "outputs": [
    {
     "name": "stdout",
     "output_type": "stream",
     "text": [
      "Training Results\n"
     ]
    },
    {
     "data": {
      "text/html": [
       "<div>\n",
       "<style scoped>\n",
       "    .dataframe tbody tr th:only-of-type {\n",
       "        vertical-align: middle;\n",
       "    }\n",
       "\n",
       "    .dataframe tbody tr th {\n",
       "        vertical-align: top;\n",
       "    }\n",
       "\n",
       "    .dataframe thead th {\n",
       "        text-align: right;\n",
       "    }\n",
       "</style>\n",
       "<table border=\"1\" class=\"dataframe\">\n",
       "  <thead>\n",
       "    <tr style=\"text-align: right;\">\n",
       "      <th></th>\n",
       "      <th>accuracy</th>\n",
       "      <th>TP</th>\n",
       "      <th>TN</th>\n",
       "      <th>FP</th>\n",
       "      <th>FN</th>\n",
       "      <th>FPR</th>\n",
       "      <th>FNR</th>\n",
       "    </tr>\n",
       "    <tr>\n",
       "      <th>index</th>\n",
       "      <th></th>\n",
       "      <th></th>\n",
       "      <th></th>\n",
       "      <th></th>\n",
       "      <th></th>\n",
       "      <th></th>\n",
       "      <th></th>\n",
       "    </tr>\n",
       "  </thead>\n",
       "  <tbody>\n",
       "    <tr>\n",
       "      <th>KNeighborsClassifier</th>\n",
       "      <td>0.978343</td>\n",
       "      <td>2679.0</td>\n",
       "      <td>24155.0</td>\n",
       "      <td>172.0</td>\n",
       "      <td>422.0</td>\n",
       "      <td>0.007070</td>\n",
       "      <td>0.136085</td>\n",
       "    </tr>\n",
       "    <tr>\n",
       "      <th>RandomForestClassifier</th>\n",
       "      <td>0.993474</td>\n",
       "      <td>2968.0</td>\n",
       "      <td>24281.0</td>\n",
       "      <td>46.0</td>\n",
       "      <td>133.0</td>\n",
       "      <td>0.001891</td>\n",
       "      <td>0.042889</td>\n",
       "    </tr>\n",
       "    <tr>\n",
       "      <th>AdaBoostClassifier</th>\n",
       "      <td>0.972364</td>\n",
       "      <td>2609.0</td>\n",
       "      <td>24061.0</td>\n",
       "      <td>266.0</td>\n",
       "      <td>492.0</td>\n",
       "      <td>0.010934</td>\n",
       "      <td>0.158658</td>\n",
       "    </tr>\n",
       "    <tr>\n",
       "      <th>GradientBoostingClassifier</th>\n",
       "      <td>0.979729</td>\n",
       "      <td>2681.0</td>\n",
       "      <td>24191.0</td>\n",
       "      <td>136.0</td>\n",
       "      <td>420.0</td>\n",
       "      <td>0.005590</td>\n",
       "      <td>0.135440</td>\n",
       "    </tr>\n",
       "    <tr>\n",
       "      <th>ExtraTreeClassifier</th>\n",
       "      <td>0.995588</td>\n",
       "      <td>2996.0</td>\n",
       "      <td>24311.0</td>\n",
       "      <td>16.0</td>\n",
       "      <td>105.0</td>\n",
       "      <td>0.000658</td>\n",
       "      <td>0.033860</td>\n",
       "    </tr>\n",
       "    <tr>\n",
       "      <th>XGB</th>\n",
       "      <td>0.978416</td>\n",
       "      <td>2642.0</td>\n",
       "      <td>24194.0</td>\n",
       "      <td>133.0</td>\n",
       "      <td>459.0</td>\n",
       "      <td>0.005467</td>\n",
       "      <td>0.148017</td>\n",
       "    </tr>\n",
       "    <tr>\n",
       "      <th>BaggingClassifier</th>\n",
       "      <td>0.993474</td>\n",
       "      <td>2975.0</td>\n",
       "      <td>24274.0</td>\n",
       "      <td>53.0</td>\n",
       "      <td>126.0</td>\n",
       "      <td>0.002179</td>\n",
       "      <td>0.040632</td>\n",
       "    </tr>\n",
       "    <tr>\n",
       "      <th>Neural Network-1</th>\n",
       "      <td>0.984031</td>\n",
       "      <td>2762.0</td>\n",
       "      <td>24228.0</td>\n",
       "      <td>99.0</td>\n",
       "      <td>339.0</td>\n",
       "      <td>0.004070</td>\n",
       "      <td>0.109320</td>\n",
       "    </tr>\n",
       "  </tbody>\n",
       "</table>\n",
       "</div>"
      ],
      "text/plain": [
       "                            accuracy      TP       TN     FP     FN       FPR  \\\n",
       "index                                                                           \n",
       "KNeighborsClassifier        0.978343  2679.0  24155.0  172.0  422.0  0.007070   \n",
       "RandomForestClassifier      0.993474  2968.0  24281.0   46.0  133.0  0.001891   \n",
       "AdaBoostClassifier          0.972364  2609.0  24061.0  266.0  492.0  0.010934   \n",
       "GradientBoostingClassifier  0.979729  2681.0  24191.0  136.0  420.0  0.005590   \n",
       "ExtraTreeClassifier         0.995588  2996.0  24311.0   16.0  105.0  0.000658   \n",
       "XGB                         0.978416  2642.0  24194.0  133.0  459.0  0.005467   \n",
       "BaggingClassifier           0.993474  2975.0  24274.0   53.0  126.0  0.002179   \n",
       "Neural Network-1            0.984031  2762.0  24228.0   99.0  339.0  0.004070   \n",
       "\n",
       "                                 FNR  \n",
       "index                                 \n",
       "KNeighborsClassifier        0.136085  \n",
       "RandomForestClassifier      0.042889  \n",
       "AdaBoostClassifier          0.158658  \n",
       "GradientBoostingClassifier  0.135440  \n",
       "ExtraTreeClassifier         0.033860  \n",
       "XGB                         0.148017  \n",
       "BaggingClassifier           0.040632  \n",
       "Neural Network-1            0.109320  "
      ]
     },
     "metadata": {},
     "output_type": "display_data"
    },
    {
     "name": "stdout",
     "output_type": "stream",
     "text": [
      "Test Results\n"
     ]
    },
    {
     "data": {
      "text/html": [
       "<div>\n",
       "<style scoped>\n",
       "    .dataframe tbody tr th:only-of-type {\n",
       "        vertical-align: middle;\n",
       "    }\n",
       "\n",
       "    .dataframe tbody tr th {\n",
       "        vertical-align: top;\n",
       "    }\n",
       "\n",
       "    .dataframe thead th {\n",
       "        text-align: right;\n",
       "    }\n",
       "</style>\n",
       "<table border=\"1\" class=\"dataframe\">\n",
       "  <thead>\n",
       "    <tr style=\"text-align: right;\">\n",
       "      <th></th>\n",
       "      <th>accuracy</th>\n",
       "      <th>TP</th>\n",
       "      <th>TN</th>\n",
       "      <th>FP</th>\n",
       "      <th>FN</th>\n",
       "      <th>FPR</th>\n",
       "      <th>FNR</th>\n",
       "      <th>auc</th>\n",
       "      <th>MCC</th>\n",
       "      <th>Precision</th>\n",
       "      <th>Recall</th>\n",
       "    </tr>\n",
       "    <tr>\n",
       "      <th>index</th>\n",
       "      <th></th>\n",
       "      <th></th>\n",
       "      <th></th>\n",
       "      <th></th>\n",
       "      <th></th>\n",
       "      <th></th>\n",
       "      <th></th>\n",
       "      <th></th>\n",
       "      <th></th>\n",
       "      <th></th>\n",
       "      <th></th>\n",
       "    </tr>\n",
       "  </thead>\n",
       "  <tbody>\n",
       "    <tr>\n",
       "      <th>KNeighborsClassifier</th>\n",
       "      <td>0.970396</td>\n",
       "      <td>1092.0</td>\n",
       "      <td>10315.0</td>\n",
       "      <td>100.0</td>\n",
       "      <td>248.0</td>\n",
       "      <td>0.009602</td>\n",
       "      <td>0.185075</td>\n",
       "      <td>0.902662</td>\n",
       "      <td>0.847854</td>\n",
       "      <td>0.916107</td>\n",
       "      <td>0.814925</td>\n",
       "    </tr>\n",
       "    <tr>\n",
       "      <th>RandomForestClassifier</th>\n",
       "      <td>0.973713</td>\n",
       "      <td>1134.0</td>\n",
       "      <td>10312.0</td>\n",
       "      <td>103.0</td>\n",
       "      <td>206.0</td>\n",
       "      <td>0.009890</td>\n",
       "      <td>0.153731</td>\n",
       "      <td>0.918190</td>\n",
       "      <td>0.866231</td>\n",
       "      <td>0.916734</td>\n",
       "      <td>0.846269</td>\n",
       "    </tr>\n",
       "    <tr>\n",
       "      <th>AdaBoostClassifier</th>\n",
       "      <td>0.967929</td>\n",
       "      <td>1099.0</td>\n",
       "      <td>10279.0</td>\n",
       "      <td>136.0</td>\n",
       "      <td>241.0</td>\n",
       "      <td>0.013058</td>\n",
       "      <td>0.179851</td>\n",
       "      <td>0.903546</td>\n",
       "      <td>0.836495</td>\n",
       "      <td>0.889879</td>\n",
       "      <td>0.820149</td>\n",
       "    </tr>\n",
       "    <tr>\n",
       "      <th>GradientBoostingClassifier</th>\n",
       "      <td>0.973883</td>\n",
       "      <td>1117.0</td>\n",
       "      <td>10331.0</td>\n",
       "      <td>84.0</td>\n",
       "      <td>223.0</td>\n",
       "      <td>0.008065</td>\n",
       "      <td>0.166418</td>\n",
       "      <td>0.912758</td>\n",
       "      <td>0.866219</td>\n",
       "      <td>0.930058</td>\n",
       "      <td>0.833582</td>\n",
       "    </tr>\n",
       "    <tr>\n",
       "      <th>ExtraTreeClassifier</th>\n",
       "      <td>0.973713</td>\n",
       "      <td>1132.0</td>\n",
       "      <td>10314.0</td>\n",
       "      <td>101.0</td>\n",
       "      <td>208.0</td>\n",
       "      <td>0.009698</td>\n",
       "      <td>0.155224</td>\n",
       "      <td>0.917539</td>\n",
       "      <td>0.866121</td>\n",
       "      <td>0.918086</td>\n",
       "      <td>0.844776</td>\n",
       "    </tr>\n",
       "    <tr>\n",
       "      <th>XGB</th>\n",
       "      <td>0.973543</td>\n",
       "      <td>1114.0</td>\n",
       "      <td>10330.0</td>\n",
       "      <td>85.0</td>\n",
       "      <td>226.0</td>\n",
       "      <td>0.008161</td>\n",
       "      <td>0.168657</td>\n",
       "      <td>0.911591</td>\n",
       "      <td>0.864408</td>\n",
       "      <td>0.929108</td>\n",
       "      <td>0.831343</td>\n",
       "    </tr>\n",
       "    <tr>\n",
       "      <th>BaggingClassifier</th>\n",
       "      <td>0.973713</td>\n",
       "      <td>1141.0</td>\n",
       "      <td>10305.0</td>\n",
       "      <td>110.0</td>\n",
       "      <td>199.0</td>\n",
       "      <td>0.010562</td>\n",
       "      <td>0.148507</td>\n",
       "      <td>0.920465</td>\n",
       "      <td>0.866635</td>\n",
       "      <td>0.912070</td>\n",
       "      <td>0.851493</td>\n",
       "    </tr>\n",
       "    <tr>\n",
       "      <th>Neural Network-1</th>\n",
       "      <td>0.973033</td>\n",
       "      <td>1130.0</td>\n",
       "      <td>10308.0</td>\n",
       "      <td>107.0</td>\n",
       "      <td>210.0</td>\n",
       "      <td>0.010274</td>\n",
       "      <td>0.156716</td>\n",
       "      <td>0.920465</td>\n",
       "      <td>0.862742</td>\n",
       "      <td>0.913500</td>\n",
       "      <td>0.843284</td>\n",
       "    </tr>\n",
       "  </tbody>\n",
       "</table>\n",
       "</div>"
      ],
      "text/plain": [
       "                            accuracy      TP       TN     FP     FN       FPR  \\\n",
       "index                                                                           \n",
       "KNeighborsClassifier        0.970396  1092.0  10315.0  100.0  248.0  0.009602   \n",
       "RandomForestClassifier      0.973713  1134.0  10312.0  103.0  206.0  0.009890   \n",
       "AdaBoostClassifier          0.967929  1099.0  10279.0  136.0  241.0  0.013058   \n",
       "GradientBoostingClassifier  0.973883  1117.0  10331.0   84.0  223.0  0.008065   \n",
       "ExtraTreeClassifier         0.973713  1132.0  10314.0  101.0  208.0  0.009698   \n",
       "XGB                         0.973543  1114.0  10330.0   85.0  226.0  0.008161   \n",
       "BaggingClassifier           0.973713  1141.0  10305.0  110.0  199.0  0.010562   \n",
       "Neural Network-1            0.973033  1130.0  10308.0  107.0  210.0  0.010274   \n",
       "\n",
       "                                 FNR       auc       MCC  Precision    Recall  \n",
       "index                                                                          \n",
       "KNeighborsClassifier        0.185075  0.902662  0.847854   0.916107  0.814925  \n",
       "RandomForestClassifier      0.153731  0.918190  0.866231   0.916734  0.846269  \n",
       "AdaBoostClassifier          0.179851  0.903546  0.836495   0.889879  0.820149  \n",
       "GradientBoostingClassifier  0.166418  0.912758  0.866219   0.930058  0.833582  \n",
       "ExtraTreeClassifier         0.155224  0.917539  0.866121   0.918086  0.844776  \n",
       "XGB                         0.168657  0.911591  0.864408   0.929108  0.831343  \n",
       "BaggingClassifier           0.148507  0.920465  0.866635   0.912070  0.851493  \n",
       "Neural Network-1            0.156716  0.920465  0.862742   0.913500  0.843284  "
      ]
     },
     "metadata": {},
     "output_type": "display_data"
    }
   ],
   "source": [
    "table_80_50_train['index']=ind_columns\n",
    "table_80_50_test['index']=ind_columns\n",
    "\n",
    "\n",
    "table_80_50_test.set_index(['index'],drop=True,inplace=True)\n",
    "table_80_50_train.set_index(['index'],drop=True,inplace=True)\n",
    "\n",
    "print(\"Training Results\")\n",
    "display(table_80_50_train)\n",
    "print(\"Test Results\")\n",
    "display(table_80_50_test)"
   ]
  },
  {
   "cell_type": "markdown",
   "metadata": {},
   "source": [
    "### <a id='4.B' style=\"text-decoration : none; color : #000000;\"> B. Average Feature Importances</a>"
   ]
  },
  {
   "cell_type": "code",
   "execution_count": 31,
   "metadata": {},
   "outputs": [
    {
     "data": {
      "application/vnd.plotly.v1+json": {
       "config": {
        "linkText": "Export to plot.ly",
        "plotlyServerURL": "https://plot.ly",
        "showLink": true
       },
       "data": [
        {
         "marker": {
          "color": "rgb(158,202,225)",
          "line": {
           "color": "rgb(8,48,107)",
           "width": 1.5
          }
         },
         "opacity": 0.6,
         "orientation": "h",
         "text": [
          0.267,
          0.0816,
          0.0678,
          0.0565,
          0.0558,
          0.0542,
          0.039,
          0.037,
          0.035,
          0.033,
          0.0318,
          0.0265,
          0.0263,
          0.0189,
          0.0169,
          0.0161,
          0.016,
          0.0159,
          0.0157,
          0.014,
          0.0135,
          0.0135,
          0.0118,
          0.0089,
          0.0082,
          0.0074,
          0.0068,
          0.005
         ],
         "textposition": "outside",
         "type": "bar",
         "uid": "38278aa5-37a3-405d-928b-fa07313c65f4",
         "x": [
          0.2669864432534243,
          0.08164847324005757,
          0.06781493059705591,
          0.056464090182325746,
          0.055817043624158104,
          0.054153765182947323,
          0.03901283102941215,
          0.037008905299912055,
          0.03502217747344029,
          0.032983957604375655,
          0.03176073298394132,
          0.026507244259660157,
          0.026279014996863047,
          0.018878015610349595,
          0.016860469608637275,
          0.016112936028037587,
          0.015977212479869888,
          0.015917143369099118,
          0.015732869921270504,
          0.014047181583425484,
          0.013516796558548544,
          0.013500603749370298,
          0.01176228865282047,
          0.008883841715345123,
          0.00815121195291912,
          0.007398415170370423,
          0.006782036768131583,
          0.0050193656141152695
         ],
         "y": [
          "url_length / total_count",
          "url_char_. / total_count",
          "url_extensions / total_count",
          "a_href_out_of_domain / total_href",
          "a_href_relative / total_href",
          "url_char_i / total_count",
          "url_char_. + url_extensions",
          "http_header_server_apache / total_count",
          "url_char_. + url_char_w",
          "url_char_z / total_count",
          "url_char_w * url_length",
          "url_char_w + url_char_z",
          "http_header_server_apache + url_extensions",
          "url_char_p / total_count",
          "url_char_w + url_extensions",
          "url_char_. + url_char_f",
          "url_extensions",
          "a_href_relative / a_count",
          "url_char_z + url_extensions",
          "url_char_w + url_char_y",
          "url_char_. + url_char_z",
          "url_char_f + url_extensions",
          "url_char_w * url_extensions",
          "url_char_y + url_extensions",
          "url_char_y * url_extensions",
          "url_char_. * url_char_w",
          "http_header_vary_user-agent + url_extensions",
          "url_char_w"
         ]
        }
       ],
       "layout": {
        "autosize": false,
        "height": 1000,
        "width": 1000,
        "xaxis": {
         "tickfont": {
          "color": "black",
          "size": 12
         },
         "title": "Feature Importances"
        },
        "yaxis": {
         "automargin": true
        }
       }
      },
      "text/html": [
       "<div id=\"904cf0a8-1313-492a-bda3-13cbadca905c\" style=\"height: 1000px; width: 1000px;\" class=\"plotly-graph-div\"></div><script type=\"text/javascript\">require([\"plotly\"], function(Plotly) { window.PLOTLYENV=window.PLOTLYENV || {};window.PLOTLYENV.BASE_URL=\"https://plot.ly\";Plotly.newPlot(\"904cf0a8-1313-492a-bda3-13cbadca905c\", [{\"marker\": {\"color\": \"rgb(158,202,225)\", \"line\": {\"color\": \"rgb(8,48,107)\", \"width\": 1.5}}, \"opacity\": 0.6, \"orientation\": \"h\", \"text\": [0.267, 0.0816, 0.0678, 0.0565, 0.0558, 0.0542, 0.039, 0.037, 0.035, 0.033, 0.0318, 0.0265, 0.0263, 0.0189, 0.0169, 0.0161, 0.016, 0.0159, 0.0157, 0.014, 0.0135, 0.0135, 0.0118, 0.0089, 0.0082, 0.0074, 0.0068, 0.005], \"textposition\": \"outside\", \"x\": [0.2669864432534243, 0.08164847324005757, 0.06781493059705591, 0.056464090182325746, 0.055817043624158104, 0.054153765182947323, 0.03901283102941215, 0.037008905299912055, 0.03502217747344029, 0.032983957604375655, 0.03176073298394132, 0.026507244259660157, 0.026279014996863047, 0.018878015610349595, 0.016860469608637275, 0.016112936028037587, 0.015977212479869888, 0.015917143369099118, 0.015732869921270504, 0.014047181583425484, 0.013516796558548544, 0.013500603749370298, 0.01176228865282047, 0.008883841715345123, 0.00815121195291912, 0.007398415170370423, 0.006782036768131583, 0.0050193656141152695], \"y\": [\"url_length / total_count\", \"url_char_. / total_count\", \"url_extensions / total_count\", \"a_href_out_of_domain / total_href\", \"a_href_relative / total_href\", \"url_char_i / total_count\", \"url_char_. + url_extensions\", \"http_header_server_apache / total_count\", \"url_char_. + url_char_w\", \"url_char_z / total_count\", \"url_char_w * url_length\", \"url_char_w + url_char_z\", \"http_header_server_apache + url_extensions\", \"url_char_p / total_count\", \"url_char_w + url_extensions\", \"url_char_. + url_char_f\", \"url_extensions\", \"a_href_relative / a_count\", \"url_char_z + url_extensions\", \"url_char_w + url_char_y\", \"url_char_. + url_char_z\", \"url_char_f + url_extensions\", \"url_char_w * url_extensions\", \"url_char_y + url_extensions\", \"url_char_y * url_extensions\", \"url_char_. * url_char_w\", \"http_header_vary_user-agent + url_extensions\", \"url_char_w\"], \"type\": \"bar\", \"uid\": \"38278aa5-37a3-405d-928b-fa07313c65f4\"}], {\"autosize\": false, \"height\": 1000, \"width\": 1000, \"xaxis\": {\"tickfont\": {\"color\": \"black\", \"size\": 12}, \"title\": \"Feature Importances\"}, \"yaxis\": {\"automargin\": true}}, {\"showLink\": true, \"linkText\": \"Export to plot.ly\", \"plotlyServerURL\": \"https://plot.ly\"})});</script>"
      ],
      "text/vnd.plotly.v1+html": [
       "<div id=\"904cf0a8-1313-492a-bda3-13cbadca905c\" style=\"height: 1000px; width: 1000px;\" class=\"plotly-graph-div\"></div><script type=\"text/javascript\">require([\"plotly\"], function(Plotly) { window.PLOTLYENV=window.PLOTLYENV || {};window.PLOTLYENV.BASE_URL=\"https://plot.ly\";Plotly.newPlot(\"904cf0a8-1313-492a-bda3-13cbadca905c\", [{\"marker\": {\"color\": \"rgb(158,202,225)\", \"line\": {\"color\": \"rgb(8,48,107)\", \"width\": 1.5}}, \"opacity\": 0.6, \"orientation\": \"h\", \"text\": [0.267, 0.0816, 0.0678, 0.0565, 0.0558, 0.0542, 0.039, 0.037, 0.035, 0.033, 0.0318, 0.0265, 0.0263, 0.0189, 0.0169, 0.0161, 0.016, 0.0159, 0.0157, 0.014, 0.0135, 0.0135, 0.0118, 0.0089, 0.0082, 0.0074, 0.0068, 0.005], \"textposition\": \"outside\", \"x\": [0.2669864432534243, 0.08164847324005757, 0.06781493059705591, 0.056464090182325746, 0.055817043624158104, 0.054153765182947323, 0.03901283102941215, 0.037008905299912055, 0.03502217747344029, 0.032983957604375655, 0.03176073298394132, 0.026507244259660157, 0.026279014996863047, 0.018878015610349595, 0.016860469608637275, 0.016112936028037587, 0.015977212479869888, 0.015917143369099118, 0.015732869921270504, 0.014047181583425484, 0.013516796558548544, 0.013500603749370298, 0.01176228865282047, 0.008883841715345123, 0.00815121195291912, 0.007398415170370423, 0.006782036768131583, 0.0050193656141152695], \"y\": [\"url_length / total_count\", \"url_char_. / total_count\", \"url_extensions / total_count\", \"a_href_out_of_domain / total_href\", \"a_href_relative / total_href\", \"url_char_i / total_count\", \"url_char_. + url_extensions\", \"http_header_server_apache / total_count\", \"url_char_. + url_char_w\", \"url_char_z / total_count\", \"url_char_w * url_length\", \"url_char_w + url_char_z\", \"http_header_server_apache + url_extensions\", \"url_char_p / total_count\", \"url_char_w + url_extensions\", \"url_char_. + url_char_f\", \"url_extensions\", \"a_href_relative / a_count\", \"url_char_z + url_extensions\", \"url_char_w + url_char_y\", \"url_char_. + url_char_z\", \"url_char_f + url_extensions\", \"url_char_w * url_extensions\", \"url_char_y + url_extensions\", \"url_char_y * url_extensions\", \"url_char_. * url_char_w\", \"http_header_vary_user-agent + url_extensions\", \"url_char_w\"], \"type\": \"bar\", \"uid\": \"38278aa5-37a3-405d-928b-fa07313c65f4\"}], {\"autosize\": false, \"height\": 1000, \"width\": 1000, \"xaxis\": {\"tickfont\": {\"color\": \"black\", \"size\": 12}, \"title\": \"Feature Importances\"}, \"yaxis\": {\"automargin\": true}}, {\"showLink\": true, \"linkText\": \"Export to plot.ly\", \"plotlyServerURL\": \"https://plot.ly\"})});</script>"
      ]
     },
     "metadata": {},
     "output_type": "display_data"
    }
   ],
   "source": [
    "feat_impt_plot(np.average(feat_imp,axis=0),feature_name)"
   ]
  },
  {
   "cell_type": "markdown",
   "metadata": {},
   "source": [
    "### <a id='5' style=\"text-decoration : none; color : #000000;\">5. Feature Transformation with PCA </a>"
   ]
  },
  {
   "cell_type": "code",
   "execution_count": 32,
   "metadata": {},
   "outputs": [
    {
     "name": "stderr",
     "output_type": "stream",
     "text": [
      "distributed.core - INFO - Event loop was unresponsive in Nanny for 104.94s.  This is often caused by long-running GIL-holding functions or moving large chunks of data. This can cause timeouts and instability.\n",
      "distributed.core - INFO - Event loop was unresponsive in Nanny for 104.95s.  This is often caused by long-running GIL-holding functions or moving large chunks of data. This can cause timeouts and instability.\n",
      "distributed.core - INFO - Event loop was unresponsive in Nanny for 104.95s.  This is often caused by long-running GIL-holding functions or moving large chunks of data. This can cause timeouts and instability.\n",
      "distributed.core - INFO - Event loop was unresponsive in Nanny for 104.95s.  This is often caused by long-running GIL-holding functions or moving large chunks of data. This can cause timeouts and instability.\n",
      "distributed.core - INFO - Event loop was unresponsive in Nanny for 104.95s.  This is often caused by long-running GIL-holding functions or moving large chunks of data. This can cause timeouts and instability.\n",
      "distributed.core - INFO - Event loop was unresponsive in Nanny for 104.94s.  This is often caused by long-running GIL-holding functions or moving large chunks of data. This can cause timeouts and instability.\n",
      "distributed.core - INFO - Event loop was unresponsive in Nanny for 104.94s.  This is often caused by long-running GIL-holding functions or moving large chunks of data. This can cause timeouts and instability.\n",
      "distributed.core - INFO - Event loop was unresponsive in Nanny for 104.94s.  This is often caused by long-running GIL-holding functions or moving large chunks of data. This can cause timeouts and instability.\n",
      "distributed.core - INFO - Event loop was unresponsive in Nanny for 104.94s.  This is often caused by long-running GIL-holding functions or moving large chunks of data. This can cause timeouts and instability.\n",
      "distributed.core - INFO - Event loop was unresponsive in Nanny for 104.94s.  This is often caused by long-running GIL-holding functions or moving large chunks of data. This can cause timeouts and instability.\n",
      "distributed.core - INFO - Event loop was unresponsive in Nanny for 104.94s.  This is often caused by long-running GIL-holding functions or moving large chunks of data. This can cause timeouts and instability.\n"
     ]
    },
    {
     "data": {
      "image/png": "[encoded data removed]",
      "text/plain": [
       "<Figure size 720x576 with 1 Axes>"
      ]
     },
     "metadata": {},
     "output_type": "display_data"
    }
   ],
   "source": [
    "X=fs.loc[:,fs.columns!='Target']\n",
    "y=fs.Target.values\n",
    "feature_name = X.columns.tolist()\n",
    "X=np.nan_to_num(X)\n",
    "scaler=StandardScaler()\n",
    "scaled_X=scaler.fit_transform(X)\n",
    "\n",
    "sns.set_style('whitegrid')\n",
    "pca = PCA(random_state=0)\n",
    "pca.fit(scaled_X)\n",
    "plt.figure(1, figsize=(10, 8))\n",
    "plt.plot(np.cumsum(pca.explained_variance_ratio_),'--o', linewidth=2)\n",
    "plt.axis('tight')\n",
    "plt.xlabel('Number of Components',size=14)\n",
    "plt.xticks(size=12)\n",
    "plt.xlim([0,200])\n",
    "plt.ylabel('% Explained Variance',size=14)\n",
    "plt.yticks(size=12)\n",
    "plt.title('% Variance Explained by Principal Components',size=14,y=1.05)\n",
    "plt.show()"
   ]
  },
  {
   "cell_type": "code",
   "execution_count": 34,
   "metadata": {},
   "outputs": [
    {
     "name": "stdout",
     "output_type": "stream",
     "text": [
      "Variance explained using 125 components is: 0.7970629745154557\n"
     ]
    }
   ],
   "source": [
    "pca=PCA(n_components=125,whiten=True,random_state=0)\n",
    "X_pca_21=pca.fit_transform(scaled_X)\n",
    "print(\"Variance explained using 125 components is:\",sum(pca.explained_variance_ratio_))"
   ]
  },
  {
   "cell_type": "code",
   "execution_count": 35,
   "metadata": {},
   "outputs": [],
   "source": [
    "X_train=X_pca_21[:27428]\n",
    "Y_train=fs.iloc[:27428]['Target'].values\n",
    "X_test=X_pca_21[27428:]\n",
    "Y_test=fs.iloc[27428:]['Target'].values\n",
    "\n",
    "## Table to store training and test measures so we can compare later\n",
    "table_80_70_train=pd.DataFrame(columns=['accuracy','TP','TN','FP','FN','FPR','FNR'])\n",
    "table_80_70_test=pd.DataFrame(columns=['accuracy','TP','TN','FP','FN','FPR','FNR','auc','mcc'])"
   ]
  },
  {
   "cell_type": "code",
   "execution_count": 37,
   "metadata": {
    "scrolled": false
   },
   "outputs": [
    {
     "name": "stdout",
     "output_type": "stream",
     "text": [
      "\u001b[1mK-Nearest Neighbors\u001b[0m\n",
      "Accuracy of the model for training data is: 0.9816610762724224\n",
      "Confusion Matrix for training data is:\n"
     ]
    },
    {
     "data": {
      "text/plain": [
       "Predicted  False  True  __all__\n",
       "Actual                         \n",
       "False      24231    96    24327\n",
       "True         407  2694     3101\n",
       "__all__    24638  2790    27428"
      ]
     },
     "metadata": {},
     "output_type": "display_data"
    },
    {
     "name": "stdout",
     "output_type": "stream",
     "text": [
      "Accuracy of the model for test data is: 0.9739685240323267\n",
      "Confusion Matrix for test data is:\n"
     ]
    },
    {
     "data": {
      "text/plain": [
       "Predicted  False  True  __all__\n",
       "Actual                         \n",
       "False      10361    54    10415\n",
       "True         252  1088     1340\n",
       "__all__    10613  1142    11755"
      ]
     },
     "metadata": {},
     "output_type": "display_data"
    },
    {
     "name": "stdout",
     "output_type": "stream",
     "text": [
      "\n",
      "\n",
      "\u001b[1mRandomForest Classifier\u001b[0m\n",
      "Accuracy of the model for training data is: 0.9961717952457343\n",
      "Confusion Matrix for training data is:\n"
     ]
    },
    {
     "data": {
      "text/plain": [
       "Predicted  False  True  __all__\n",
       "Actual                         \n",
       "False      24316    11    24327\n",
       "True          94  3007     3101\n",
       "__all__    24410  3018    27428"
      ]
     },
     "metadata": {},
     "output_type": "display_data"
    },
    {
     "name": "stdout",
     "output_type": "stream",
     "text": [
      "Accuracy of the model for test data is: 0.9743938749468312\n",
      "Confusion Matrix for test data is:\n"
     ]
    },
    {
     "data": {
      "text/plain": [
       "Predicted  False  True  __all__\n",
       "Actual                         \n",
       "False      10359    56    10415\n",
       "True         245  1095     1340\n",
       "__all__    10604  1151    11755"
      ]
     },
     "metadata": {},
     "output_type": "display_data"
    },
    {
     "data": {
      "application/vnd.plotly.v1+json": {
       "config": {
        "linkText": "Export to plot.ly",
        "plotlyServerURL": "https://plot.ly",
        "showLink": true
       },
       "data": [
        {
         "marker": {
          "color": "rgb(158,202,225)",
          "line": {
           "color": "rgb(8,48,107)",
           "width": 1.5
          }
         },
         "opacity": 0.6,
         "orientation": "h",
         "text": [
          0.2038,
          0.115,
          0.0269,
          0.0204,
          0.0201,
          0.0193,
          0.0193,
          0.0172,
          0.0154,
          0.0146,
          0.0136,
          0.0131,
          0.0127,
          0.0118,
          0.0113,
          0.0109,
          0.0107,
          0.0106,
          0.0102,
          0.01,
          0.0093,
          0.0092,
          0.009,
          0.009,
          0.0089,
          0.0085,
          0.0083,
          0.008,
          0.008,
          0.0078,
          0.0077,
          0.0075,
          0.0075,
          0.0073,
          0.0072,
          0.007,
          0.0064,
          0.0061,
          0.006,
          0.006,
          0.0059,
          0.0058,
          0.0058,
          0.0057,
          0.0055,
          0.0055,
          0.0053,
          0.0052,
          0.0051,
          0.005,
          0.0049,
          0.0048,
          0.0046,
          0.0043,
          0.0041,
          0.0041,
          0.004,
          0.0039,
          0.0039,
          0.0039,
          0.0039,
          0.0039,
          0.0038,
          0.0038,
          0.0037,
          0.0036,
          0.0036,
          0.0035,
          0.0034,
          0.0034,
          0.0033,
          0.0032,
          0.0032,
          0.0032,
          0.0032,
          0.0031,
          0.0031,
          0.003,
          0.003,
          0.0029,
          0.0029,
          0.0028,
          0.0028,
          0.0028,
          0.0027,
          0.0027,
          0.0027,
          0.0026,
          0.0026,
          0.0025,
          0.0025,
          0.0025,
          0.0025,
          0.0024,
          0.0024,
          0.0023,
          0.0023,
          0.0023,
          0.0022,
          0.0022,
          0.0021,
          0.002,
          0.002,
          0.002,
          0.0019,
          0.0019,
          0.0019,
          0.0019,
          0.0018,
          0.0018,
          0.0018,
          0.0018,
          0.0017,
          0.0017,
          0.0017,
          0.0016,
          0.0016,
          0.0016,
          0.0016,
          0.0015,
          0.0015,
          0.0015,
          0.0015,
          0.0013,
          0.0011
         ],
         "textposition": "outside",
         "type": "bar",
         "uid": "58034a0a-7680-4b05-be4f-1b9e167a642d",
         "x": [
          0.20383375449438626,
          0.11504787961417832,
          0.0268771809687255,
          0.02041662553503504,
          0.02011489649846188,
          0.01929686373725999,
          0.01928808756845597,
          0.017156808618109226,
          0.015412605251937342,
          0.014558844241576038,
          0.013598533166089296,
          0.013060335414938569,
          0.012668209706850874,
          0.011824606561968178,
          0.011251651078356887,
          0.01093901850359547,
          0.010656551793760878,
          0.010556005520007404,
          0.0101916998449609,
          0.009992081128063846,
          0.009271367842183449,
          0.009196844522532327,
          0.009049591607457858,
          0.008979431747800077,
          0.008935609284656986,
          0.008475364121155677,
          0.008345377525348361,
          0.007985614660955377,
          0.007959190574925274,
          0.00781257907214183,
          0.007700493630821505,
          0.007513993266230871,
          0.007484742620699358,
          0.007275702482320866,
          0.007230219897568647,
          0.0070272243568874244,
          0.006442635495165397,
          0.006092818874360906,
          0.0059748909601608025,
          0.005952997330836026,
          0.0059163000134285475,
          0.0058155259583079185,
          0.005776118937439058,
          0.005680827945480227,
          0.005482206937900811,
          0.005454515824609512,
          0.0053359593982864485,
          0.005193848738246244,
          0.005145552082658751,
          0.0050210515304965385,
          0.004883692715954474,
          0.004822394484115414,
          0.0046243812158626085,
          0.004289190064914141,
          0.004076778483988822,
          0.004055021154770463,
          0.003972450002379533,
          0.003949858680651252,
          0.003927681857076729,
          0.003926682211788985,
          0.003875696354597565,
          0.0038562613042973422,
          0.00382990891049857,
          0.00377015942406229,
          0.0037235218245395946,
          0.0036418635225270533,
          0.003558875844325901,
          0.0035212178591489955,
          0.003421870079929013,
          0.0033933702523021455,
          0.0033258162948908284,
          0.003217752056451658,
          0.003187668507107876,
          0.003173861208364837,
          0.003162070771839236,
          0.0031328323676314655,
          0.0030613536778588985,
          0.003034443445978561,
          0.0029587963186875257,
          0.002894776370177526,
          0.002889441069238774,
          0.002849648935688126,
          0.0028212677056942722,
          0.00281387113486841,
          0.0027080871018765524,
          0.002688943212023415,
          0.002677939901703779,
          0.0026164553575627543,
          0.002569226002341546,
          0.002532650029938136,
          0.002500722216572105,
          0.002453307864245286,
          0.002452053827376685,
          0.0024079898897306985,
          0.0023593824436112074,
          0.002322412682161335,
          0.0022901449300926175,
          0.002277972600770215,
          0.0022279249360158335,
          0.0021819545193049275,
          0.0021418196310392964,
          0.0020468390134020698,
          0.0019983388044872144,
          0.0019651745342613033,
          0.00193474319121209,
          0.001909679170614592,
          0.0018956557224034266,
          0.0018851766031288768,
          0.0018110269053867706,
          0.001810148026822207,
          0.0017945231847987157,
          0.001788866712447552,
          0.0017381019811097047,
          0.0017260908765022766,
          0.001688887932553269,
          0.0016333473068669774,
          0.0016192639380719044,
          0.0015897114426824926,
          0.0015640121647731249,
          0.001502380963583498,
          0.0014938340004580833,
          0.001478246623106451,
          0.0014766381588309876,
          0.0012701527487061026,
          0.001054860247433862
         ],
         "y": [
          "0",
          "3",
          "4",
          "8",
          "27",
          "29",
          "6",
          "12",
          "17",
          "28",
          "37",
          "26",
          "76",
          "1",
          "46",
          "30",
          "40",
          "16",
          "2",
          "11",
          "62",
          "34",
          "107",
          "33",
          "5",
          "112",
          "72",
          "31",
          "70",
          "52",
          "82",
          "39",
          "38",
          "7",
          "14",
          "73",
          "57",
          "64",
          "10",
          "85",
          "60",
          "54",
          "95",
          "61",
          "42",
          "21",
          "68",
          "66",
          "25",
          "36",
          "96",
          "22",
          "32",
          "13",
          "65",
          "80",
          "44",
          "41",
          "63",
          "19",
          "45",
          "97",
          "50",
          "71",
          "74",
          "88",
          "91",
          "117",
          "75",
          "83",
          "67",
          "53",
          "23",
          "93",
          "94",
          "9",
          "113",
          "15",
          "35",
          "58",
          "118",
          "87",
          "79",
          "106",
          "102",
          "69",
          "101",
          "49",
          "89",
          "86",
          "123",
          "111",
          "120",
          "108",
          "77",
          "55",
          "104",
          "109",
          "43",
          "90",
          "99",
          "92",
          "24",
          "119",
          "20",
          "103",
          "47",
          "98",
          "121",
          "124",
          "18",
          "105",
          "51",
          "100",
          "59",
          "84",
          "115",
          "116",
          "110",
          "56",
          "48",
          "122",
          "81",
          "78",
          "114"
         ]
        }
       ],
       "layout": {
        "autosize": false,
        "height": 1000,
        "width": 1000,
        "xaxis": {
         "tickfont": {
          "color": "black",
          "size": 12
         },
         "title": "Feature Importances"
        },
        "yaxis": {
         "automargin": true
        }
       }
      },
      "text/html": [
       "<div id=\"f220351d-22d8-4c75-8428-4f152ba3711f\" style=\"height: 1000px; width: 1000px;\" class=\"plotly-graph-div\"></div><script type=\"text/javascript\">require([\"plotly\"], function(Plotly) { window.PLOTLYENV=window.PLOTLYENV || {};window.PLOTLYENV.BASE_URL=\"https://plot.ly\";Plotly.newPlot(\"f220351d-22d8-4c75-8428-4f152ba3711f\", [{\"marker\": {\"color\": \"rgb(158,202,225)\", \"line\": {\"color\": \"rgb(8,48,107)\", \"width\": 1.5}}, \"opacity\": 0.6, \"orientation\": \"h\", \"text\": [0.2038, 0.115, 0.0269, 0.0204, 0.0201, 0.0193, 0.0193, 0.0172, 0.0154, 0.0146, 0.0136, 0.0131, 0.0127, 0.0118, 0.0113, 0.0109, 0.0107, 0.0106, 0.0102, 0.01, 0.0093, 0.0092, 0.009, 0.009, 0.0089, 0.0085, 0.0083, 0.008, 0.008, 0.0078, 0.0077, 0.0075, 0.0075, 0.0073, 0.0072, 0.007, 0.0064, 0.0061, 0.006, 0.006, 0.0059, 0.0058, 0.0058, 0.0057, 0.0055, 0.0055, 0.0053, 0.0052, 0.0051, 0.005, 0.0049, 0.0048, 0.0046, 0.0043, 0.0041, 0.0041, 0.004, 0.0039, 0.0039, 0.0039, 0.0039, 0.0039, 0.0038, 0.0038, 0.0037, 0.0036, 0.0036, 0.0035, 0.0034, 0.0034, 0.0033, 0.0032, 0.0032, 0.0032, 0.0032, 0.0031, 0.0031, 0.003, 0.003, 0.0029, 0.0029, 0.0028, 0.0028, 0.0028, 0.0027, 0.0027, 0.0027, 0.0026, 0.0026, 0.0025, 0.0025, 0.0025, 0.0025, 0.0024, 0.0024, 0.0023, 0.0023, 0.0023, 0.0022, 0.0022, 0.0021, 0.002, 0.002, 0.002, 0.0019, 0.0019, 0.0019, 0.0019, 0.0018, 0.0018, 0.0018, 0.0018, 0.0017, 0.0017, 0.0017, 0.0016, 0.0016, 0.0016, 0.0016, 0.0015, 0.0015, 0.0015, 0.0015, 0.0013, 0.0011], \"textposition\": \"outside\", \"x\": [0.20383375449438626, 0.11504787961417832, 0.0268771809687255, 0.02041662553503504, 0.02011489649846188, 0.01929686373725999, 0.01928808756845597, 0.017156808618109226, 0.015412605251937342, 0.014558844241576038, 0.013598533166089296, 0.013060335414938569, 0.012668209706850874, 0.011824606561968178, 0.011251651078356887, 0.01093901850359547, 0.010656551793760878, 0.010556005520007404, 0.0101916998449609, 0.009992081128063846, 0.009271367842183449, 0.009196844522532327, 0.009049591607457858, 0.008979431747800077, 0.008935609284656986, 0.008475364121155677, 0.008345377525348361, 0.007985614660955377, 0.007959190574925274, 0.00781257907214183, 0.007700493630821505, 0.007513993266230871, 0.007484742620699358, 0.007275702482320866, 0.007230219897568647, 0.0070272243568874244, 0.006442635495165397, 0.006092818874360906, 0.0059748909601608025, 0.005952997330836026, 0.0059163000134285475, 0.0058155259583079185, 0.005776118937439058, 0.005680827945480227, 0.005482206937900811, 0.005454515824609512, 0.0053359593982864485, 0.005193848738246244, 0.005145552082658751, 0.0050210515304965385, 0.004883692715954474, 0.004822394484115414, 0.0046243812158626085, 0.004289190064914141, 0.004076778483988822, 0.004055021154770463, 0.003972450002379533, 0.003949858680651252, 0.003927681857076729, 0.003926682211788985, 0.003875696354597565, 0.0038562613042973422, 0.00382990891049857, 0.00377015942406229, 0.0037235218245395946, 0.0036418635225270533, 0.003558875844325901, 0.0035212178591489955, 0.003421870079929013, 0.0033933702523021455, 0.0033258162948908284, 0.003217752056451658, 0.003187668507107876, 0.003173861208364837, 0.003162070771839236, 0.0031328323676314655, 0.0030613536778588985, 0.003034443445978561, 0.0029587963186875257, 0.002894776370177526, 0.002889441069238774, 0.002849648935688126, 0.0028212677056942722, 0.00281387113486841, 0.0027080871018765524, 0.002688943212023415, 0.002677939901703779, 0.0026164553575627543, 0.002569226002341546, 0.002532650029938136, 0.002500722216572105, 0.002453307864245286, 0.002452053827376685, 0.0024079898897306985, 0.0023593824436112074, 0.002322412682161335, 0.0022901449300926175, 0.002277972600770215, 0.0022279249360158335, 0.0021819545193049275, 0.0021418196310392964, 0.0020468390134020698, 0.0019983388044872144, 0.0019651745342613033, 0.00193474319121209, 0.001909679170614592, 0.0018956557224034266, 0.0018851766031288768, 0.0018110269053867706, 0.001810148026822207, 0.0017945231847987157, 0.001788866712447552, 0.0017381019811097047, 0.0017260908765022766, 0.001688887932553269, 0.0016333473068669774, 0.0016192639380719044, 0.0015897114426824926, 0.0015640121647731249, 0.001502380963583498, 0.0014938340004580833, 0.001478246623106451, 0.0014766381588309876, 0.0012701527487061026, 0.001054860247433862], \"y\": [\"0\", \"3\", \"4\", \"8\", \"27\", \"29\", \"6\", \"12\", \"17\", \"28\", \"37\", \"26\", \"76\", \"1\", \"46\", \"30\", \"40\", \"16\", \"2\", \"11\", \"62\", \"34\", \"107\", \"33\", \"5\", \"112\", \"72\", \"31\", \"70\", \"52\", \"82\", \"39\", \"38\", \"7\", \"14\", \"73\", \"57\", \"64\", \"10\", \"85\", \"60\", \"54\", \"95\", \"61\", \"42\", \"21\", \"68\", \"66\", \"25\", \"36\", \"96\", \"22\", \"32\", \"13\", \"65\", \"80\", \"44\", \"41\", \"63\", \"19\", \"45\", \"97\", \"50\", \"71\", \"74\", \"88\", \"91\", \"117\", \"75\", \"83\", \"67\", \"53\", \"23\", \"93\", \"94\", \"9\", \"113\", \"15\", \"35\", \"58\", \"118\", \"87\", \"79\", \"106\", \"102\", \"69\", \"101\", \"49\", \"89\", \"86\", \"123\", \"111\", \"120\", \"108\", \"77\", \"55\", \"104\", \"109\", \"43\", \"90\", \"99\", \"92\", \"24\", \"119\", \"20\", \"103\", \"47\", \"98\", \"121\", \"124\", \"18\", \"105\", \"51\", \"100\", \"59\", \"84\", \"115\", \"116\", \"110\", \"56\", \"48\", \"122\", \"81\", \"78\", \"114\"], \"type\": \"bar\", \"uid\": \"58034a0a-7680-4b05-be4f-1b9e167a642d\"}], {\"autosize\": false, \"height\": 1000, \"width\": 1000, \"xaxis\": {\"tickfont\": {\"color\": \"black\", \"size\": 12}, \"title\": \"Feature Importances\"}, \"yaxis\": {\"automargin\": true}}, {\"showLink\": true, \"linkText\": \"Export to plot.ly\", \"plotlyServerURL\": \"https://plot.ly\"})});</script>"
      ],
      "text/vnd.plotly.v1+html": [
       "<div id=\"f220351d-22d8-4c75-8428-4f152ba3711f\" style=\"height: 1000px; width: 1000px;\" class=\"plotly-graph-div\"></div><script type=\"text/javascript\">require([\"plotly\"], function(Plotly) { window.PLOTLYENV=window.PLOTLYENV || {};window.PLOTLYENV.BASE_URL=\"https://plot.ly\";Plotly.newPlot(\"f220351d-22d8-4c75-8428-4f152ba3711f\", [{\"marker\": {\"color\": \"rgb(158,202,225)\", \"line\": {\"color\": \"rgb(8,48,107)\", \"width\": 1.5}}, \"opacity\": 0.6, \"orientation\": \"h\", \"text\": [0.2038, 0.115, 0.0269, 0.0204, 0.0201, 0.0193, 0.0193, 0.0172, 0.0154, 0.0146, 0.0136, 0.0131, 0.0127, 0.0118, 0.0113, 0.0109, 0.0107, 0.0106, 0.0102, 0.01, 0.0093, 0.0092, 0.009, 0.009, 0.0089, 0.0085, 0.0083, 0.008, 0.008, 0.0078, 0.0077, 0.0075, 0.0075, 0.0073, 0.0072, 0.007, 0.0064, 0.0061, 0.006, 0.006, 0.0059, 0.0058, 0.0058, 0.0057, 0.0055, 0.0055, 0.0053, 0.0052, 0.0051, 0.005, 0.0049, 0.0048, 0.0046, 0.0043, 0.0041, 0.0041, 0.004, 0.0039, 0.0039, 0.0039, 0.0039, 0.0039, 0.0038, 0.0038, 0.0037, 0.0036, 0.0036, 0.0035, 0.0034, 0.0034, 0.0033, 0.0032, 0.0032, 0.0032, 0.0032, 0.0031, 0.0031, 0.003, 0.003, 0.0029, 0.0029, 0.0028, 0.0028, 0.0028, 0.0027, 0.0027, 0.0027, 0.0026, 0.0026, 0.0025, 0.0025, 0.0025, 0.0025, 0.0024, 0.0024, 0.0023, 0.0023, 0.0023, 0.0022, 0.0022, 0.0021, 0.002, 0.002, 0.002, 0.0019, 0.0019, 0.0019, 0.0019, 0.0018, 0.0018, 0.0018, 0.0018, 0.0017, 0.0017, 0.0017, 0.0016, 0.0016, 0.0016, 0.0016, 0.0015, 0.0015, 0.0015, 0.0015, 0.0013, 0.0011], \"textposition\": \"outside\", \"x\": [0.20383375449438626, 0.11504787961417832, 0.0268771809687255, 0.02041662553503504, 0.02011489649846188, 0.01929686373725999, 0.01928808756845597, 0.017156808618109226, 0.015412605251937342, 0.014558844241576038, 0.013598533166089296, 0.013060335414938569, 0.012668209706850874, 0.011824606561968178, 0.011251651078356887, 0.01093901850359547, 0.010656551793760878, 0.010556005520007404, 0.0101916998449609, 0.009992081128063846, 0.009271367842183449, 0.009196844522532327, 0.009049591607457858, 0.008979431747800077, 0.008935609284656986, 0.008475364121155677, 0.008345377525348361, 0.007985614660955377, 0.007959190574925274, 0.00781257907214183, 0.007700493630821505, 0.007513993266230871, 0.007484742620699358, 0.007275702482320866, 0.007230219897568647, 0.0070272243568874244, 0.006442635495165397, 0.006092818874360906, 0.0059748909601608025, 0.005952997330836026, 0.0059163000134285475, 0.0058155259583079185, 0.005776118937439058, 0.005680827945480227, 0.005482206937900811, 0.005454515824609512, 0.0053359593982864485, 0.005193848738246244, 0.005145552082658751, 0.0050210515304965385, 0.004883692715954474, 0.004822394484115414, 0.0046243812158626085, 0.004289190064914141, 0.004076778483988822, 0.004055021154770463, 0.003972450002379533, 0.003949858680651252, 0.003927681857076729, 0.003926682211788985, 0.003875696354597565, 0.0038562613042973422, 0.00382990891049857, 0.00377015942406229, 0.0037235218245395946, 0.0036418635225270533, 0.003558875844325901, 0.0035212178591489955, 0.003421870079929013, 0.0033933702523021455, 0.0033258162948908284, 0.003217752056451658, 0.003187668507107876, 0.003173861208364837, 0.003162070771839236, 0.0031328323676314655, 0.0030613536778588985, 0.003034443445978561, 0.0029587963186875257, 0.002894776370177526, 0.002889441069238774, 0.002849648935688126, 0.0028212677056942722, 0.00281387113486841, 0.0027080871018765524, 0.002688943212023415, 0.002677939901703779, 0.0026164553575627543, 0.002569226002341546, 0.002532650029938136, 0.002500722216572105, 0.002453307864245286, 0.002452053827376685, 0.0024079898897306985, 0.0023593824436112074, 0.002322412682161335, 0.0022901449300926175, 0.002277972600770215, 0.0022279249360158335, 0.0021819545193049275, 0.0021418196310392964, 0.0020468390134020698, 0.0019983388044872144, 0.0019651745342613033, 0.00193474319121209, 0.001909679170614592, 0.0018956557224034266, 0.0018851766031288768, 0.0018110269053867706, 0.001810148026822207, 0.0017945231847987157, 0.001788866712447552, 0.0017381019811097047, 0.0017260908765022766, 0.001688887932553269, 0.0016333473068669774, 0.0016192639380719044, 0.0015897114426824926, 0.0015640121647731249, 0.001502380963583498, 0.0014938340004580833, 0.001478246623106451, 0.0014766381588309876, 0.0012701527487061026, 0.001054860247433862], \"y\": [\"0\", \"3\", \"4\", \"8\", \"27\", \"29\", \"6\", \"12\", \"17\", \"28\", \"37\", \"26\", \"76\", \"1\", \"46\", \"30\", \"40\", \"16\", \"2\", \"11\", \"62\", \"34\", \"107\", \"33\", \"5\", \"112\", \"72\", \"31\", \"70\", \"52\", \"82\", \"39\", \"38\", \"7\", \"14\", \"73\", \"57\", \"64\", \"10\", \"85\", \"60\", \"54\", \"95\", \"61\", \"42\", \"21\", \"68\", \"66\", \"25\", \"36\", \"96\", \"22\", \"32\", \"13\", \"65\", \"80\", \"44\", \"41\", \"63\", \"19\", \"45\", \"97\", \"50\", \"71\", \"74\", \"88\", \"91\", \"117\", \"75\", \"83\", \"67\", \"53\", \"23\", \"93\", \"94\", \"9\", \"113\", \"15\", \"35\", \"58\", \"118\", \"87\", \"79\", \"106\", \"102\", \"69\", \"101\", \"49\", \"89\", \"86\", \"123\", \"111\", \"120\", \"108\", \"77\", \"55\", \"104\", \"109\", \"43\", \"90\", \"99\", \"92\", \"24\", \"119\", \"20\", \"103\", \"47\", \"98\", \"121\", \"124\", \"18\", \"105\", \"51\", \"100\", \"59\", \"84\", \"115\", \"116\", \"110\", \"56\", \"48\", \"122\", \"81\", \"78\", \"114\"], \"type\": \"bar\", \"uid\": \"58034a0a-7680-4b05-be4f-1b9e167a642d\"}], {\"autosize\": false, \"height\": 1000, \"width\": 1000, \"xaxis\": {\"tickfont\": {\"color\": \"black\", \"size\": 12}, \"title\": \"Feature Importances\"}, \"yaxis\": {\"automargin\": true}}, {\"showLink\": true, \"linkText\": \"Export to plot.ly\", \"plotlyServerURL\": \"https://plot.ly\"})});</script>"
      ]
     },
     "metadata": {},
     "output_type": "display_data"
    },
    {
     "name": "stdout",
     "output_type": "stream",
     "text": [
      "\n",
      "\n",
      "\u001b[1mAdaoost Classifier\u001b[0m\n",
      "Accuracy of the model for training data is: 0.9732754849059355\n",
      "Confusion Matrix for training data is:\n"
     ]
    },
    {
     "data": {
      "text/plain": [
       "Predicted  False  True  __all__\n",
       "Actual                         \n",
       "False      24055   272    24327\n",
       "True         461  2640     3101\n",
       "__all__    24516  2912    27428"
      ]
     },
     "metadata": {},
     "output_type": "display_data"
    },
    {
     "name": "stdout",
     "output_type": "stream",
     "text": [
      "Accuracy of the model for test data is: 0.9702254359846874\n",
      "Confusion Matrix for test data is:\n"
     ]
    },
    {
     "data": {
      "text/plain": [
       "Predicted  False  True  __all__\n",
       "Actual                         \n",
       "False      10282   133    10415\n",
       "True         217  1123     1340\n",
       "__all__    10499  1256    11755"
      ]
     },
     "metadata": {},
     "output_type": "display_data"
    },
    {
     "data": {
      "application/vnd.plotly.v1+json": {
       "config": {
        "linkText": "Export to plot.ly",
        "plotlyServerURL": "https://plot.ly",
        "showLink": true
       },
       "data": [
        {
         "marker": {
          "color": "rgb(158,202,225)",
          "line": {
           "color": "rgb(8,48,107)",
           "width": 1.5
          }
         },
         "opacity": 0.6,
         "orientation": "h",
         "text": [
          0.18,
          0.06,
          0.04,
          0.04,
          0.04,
          0.04,
          0.02,
          0.02,
          0.02,
          0.02,
          0.02,
          0.02,
          0.02,
          0.02,
          0.02,
          0.02,
          0.02,
          0.02,
          0.02,
          0.02,
          0.02,
          0.02,
          0.02,
          0.02,
          0.02,
          0.02,
          0.02,
          0.02,
          0.02,
          0.02,
          0.02,
          0.02,
          0.02,
          0.02,
          0.02,
          0.02,
          0,
          0,
          0,
          0,
          0,
          0,
          0,
          0,
          0,
          0,
          0,
          0,
          0,
          0,
          0,
          0,
          0,
          0,
          0,
          0,
          0,
          0,
          0,
          0,
          0,
          0,
          0,
          0,
          0,
          0,
          0,
          0,
          0,
          0,
          0,
          0,
          0,
          0,
          0,
          0,
          0,
          0,
          0,
          0,
          0,
          0,
          0,
          0,
          0,
          0,
          0,
          0,
          0,
          0,
          0,
          0,
          0,
          0,
          0,
          0,
          0,
          0,
          0,
          0,
          0,
          0,
          0,
          0,
          0,
          0,
          0,
          0,
          0,
          0,
          0,
          0,
          0,
          0,
          0,
          0,
          0,
          0,
          0,
          0,
          0,
          0,
          0,
          0,
          0
         ],
         "textposition": "outside",
         "type": "bar",
         "uid": "96b86cf9-31e6-4ff3-bcda-e035384ec1f4",
         "x": [
          0.18,
          0.06,
          0.04,
          0.04,
          0.04,
          0.04,
          0.02,
          0.02,
          0.02,
          0.02,
          0.02,
          0.02,
          0.02,
          0.02,
          0.02,
          0.02,
          0.02,
          0.02,
          0.02,
          0.02,
          0.02,
          0.02,
          0.02,
          0.02,
          0.02,
          0.02,
          0.02,
          0.02,
          0.02,
          0.02,
          0.02,
          0.02,
          0.02,
          0.02,
          0.02,
          0.02,
          0,
          0,
          0,
          0,
          0,
          0,
          0,
          0,
          0,
          0,
          0,
          0,
          0,
          0,
          0,
          0,
          0,
          0,
          0,
          0,
          0,
          0,
          0,
          0,
          0,
          0,
          0,
          0,
          0,
          0,
          0,
          0,
          0,
          0,
          0,
          0,
          0,
          0,
          0,
          0,
          0,
          0,
          0,
          0,
          0,
          0,
          0,
          0,
          0,
          0,
          0,
          0,
          0,
          0,
          0,
          0,
          0,
          0,
          0,
          0,
          0,
          0,
          0,
          0,
          0,
          0,
          0,
          0,
          0,
          0,
          0,
          0,
          0,
          0,
          0,
          0,
          0,
          0,
          0,
          0,
          0,
          0,
          0,
          0,
          0,
          0,
          0,
          0,
          0
         ],
         "y": [
          "0",
          "3",
          "4",
          "42",
          "8",
          "57",
          "74",
          "36",
          "41",
          "44",
          "45",
          "46",
          "47",
          "58",
          "66",
          "87",
          "82",
          "31",
          "94",
          "96",
          "100",
          "105",
          "109",
          "112",
          "113",
          "117",
          "123",
          "32",
          "62",
          "124",
          "11",
          "21",
          "17",
          "24",
          "19",
          "2",
          "92",
          "99",
          "98",
          "97",
          "12",
          "95",
          "13",
          "93",
          "83",
          "84",
          "91",
          "15",
          "90",
          "89",
          "88",
          "14",
          "86",
          "85",
          "81",
          "102",
          "101",
          "6",
          "122",
          "121",
          "120",
          "119",
          "118",
          "5",
          "116",
          "115",
          "114",
          "7",
          "79",
          "111",
          "110",
          "9",
          "108",
          "107",
          "106",
          "10",
          "104",
          "103",
          "80",
          "29",
          "78",
          "53",
          "51",
          "50",
          "49",
          "48",
          "20",
          "22",
          "23",
          "43",
          "25",
          "40",
          "39",
          "38",
          "37",
          "26",
          "35",
          "34",
          "33",
          "27",
          "28",
          "52",
          "54",
          "30",
          "55",
          "76",
          "75",
          "16",
          "73",
          "72",
          "71",
          "70",
          "69",
          "68",
          "67",
          "65",
          "64",
          "63",
          "1",
          "61",
          "60",
          "59",
          "18",
          "56",
          "77"
         ]
        }
       ],
       "layout": {
        "autosize": false,
        "height": 1000,
        "width": 1000,
        "xaxis": {
         "tickfont": {
          "color": "black",
          "size": 12
         },
         "title": "Feature Importances"
        },
        "yaxis": {
         "automargin": true
        }
       }
      },
      "text/html": [
       "<div id=\"d69aab4b-2347-4512-8cbe-e48b1d2cfcc5\" style=\"height: 1000px; width: 1000px;\" class=\"plotly-graph-div\"></div><script type=\"text/javascript\">require([\"plotly\"], function(Plotly) { window.PLOTLYENV=window.PLOTLYENV || {};window.PLOTLYENV.BASE_URL=\"https://plot.ly\";Plotly.newPlot(\"d69aab4b-2347-4512-8cbe-e48b1d2cfcc5\", [{\"marker\": {\"color\": \"rgb(158,202,225)\", \"line\": {\"color\": \"rgb(8,48,107)\", \"width\": 1.5}}, \"opacity\": 0.6, \"orientation\": \"h\", \"text\": [0.18, 0.06, 0.04, 0.04, 0.04, 0.04, 0.02, 0.02, 0.02, 0.02, 0.02, 0.02, 0.02, 0.02, 0.02, 0.02, 0.02, 0.02, 0.02, 0.02, 0.02, 0.02, 0.02, 0.02, 0.02, 0.02, 0.02, 0.02, 0.02, 0.02, 0.02, 0.02, 0.02, 0.02, 0.02, 0.02, 0.0, 0.0, 0.0, 0.0, 0.0, 0.0, 0.0, 0.0, 0.0, 0.0, 0.0, 0.0, 0.0, 0.0, 0.0, 0.0, 0.0, 0.0, 0.0, 0.0, 0.0, 0.0, 0.0, 0.0, 0.0, 0.0, 0.0, 0.0, 0.0, 0.0, 0.0, 0.0, 0.0, 0.0, 0.0, 0.0, 0.0, 0.0, 0.0, 0.0, 0.0, 0.0, 0.0, 0.0, 0.0, 0.0, 0.0, 0.0, 0.0, 0.0, 0.0, 0.0, 0.0, 0.0, 0.0, 0.0, 0.0, 0.0, 0.0, 0.0, 0.0, 0.0, 0.0, 0.0, 0.0, 0.0, 0.0, 0.0, 0.0, 0.0, 0.0, 0.0, 0.0, 0.0, 0.0, 0.0, 0.0, 0.0, 0.0, 0.0, 0.0, 0.0, 0.0, 0.0, 0.0, 0.0, 0.0, 0.0, 0.0], \"textposition\": \"outside\", \"x\": [0.18, 0.06, 0.04, 0.04, 0.04, 0.04, 0.02, 0.02, 0.02, 0.02, 0.02, 0.02, 0.02, 0.02, 0.02, 0.02, 0.02, 0.02, 0.02, 0.02, 0.02, 0.02, 0.02, 0.02, 0.02, 0.02, 0.02, 0.02, 0.02, 0.02, 0.02, 0.02, 0.02, 0.02, 0.02, 0.02, 0.0, 0.0, 0.0, 0.0, 0.0, 0.0, 0.0, 0.0, 0.0, 0.0, 0.0, 0.0, 0.0, 0.0, 0.0, 0.0, 0.0, 0.0, 0.0, 0.0, 0.0, 0.0, 0.0, 0.0, 0.0, 0.0, 0.0, 0.0, 0.0, 0.0, 0.0, 0.0, 0.0, 0.0, 0.0, 0.0, 0.0, 0.0, 0.0, 0.0, 0.0, 0.0, 0.0, 0.0, 0.0, 0.0, 0.0, 0.0, 0.0, 0.0, 0.0, 0.0, 0.0, 0.0, 0.0, 0.0, 0.0, 0.0, 0.0, 0.0, 0.0, 0.0, 0.0, 0.0, 0.0, 0.0, 0.0, 0.0, 0.0, 0.0, 0.0, 0.0, 0.0, 0.0, 0.0, 0.0, 0.0, 0.0, 0.0, 0.0, 0.0, 0.0, 0.0, 0.0, 0.0, 0.0, 0.0, 0.0, 0.0], \"y\": [\"0\", \"3\", \"4\", \"42\", \"8\", \"57\", \"74\", \"36\", \"41\", \"44\", \"45\", \"46\", \"47\", \"58\", \"66\", \"87\", \"82\", \"31\", \"94\", \"96\", \"100\", \"105\", \"109\", \"112\", \"113\", \"117\", \"123\", \"32\", \"62\", \"124\", \"11\", \"21\", \"17\", \"24\", \"19\", \"2\", \"92\", \"99\", \"98\", \"97\", \"12\", \"95\", \"13\", \"93\", \"83\", \"84\", \"91\", \"15\", \"90\", \"89\", \"88\", \"14\", \"86\", \"85\", \"81\", \"102\", \"101\", \"6\", \"122\", \"121\", \"120\", \"119\", \"118\", \"5\", \"116\", \"115\", \"114\", \"7\", \"79\", \"111\", \"110\", \"9\", \"108\", \"107\", \"106\", \"10\", \"104\", \"103\", \"80\", \"29\", \"78\", \"53\", \"51\", \"50\", \"49\", \"48\", \"20\", \"22\", \"23\", \"43\", \"25\", \"40\", \"39\", \"38\", \"37\", \"26\", \"35\", \"34\", \"33\", \"27\", \"28\", \"52\", \"54\", \"30\", \"55\", \"76\", \"75\", \"16\", \"73\", \"72\", \"71\", \"70\", \"69\", \"68\", \"67\", \"65\", \"64\", \"63\", \"1\", \"61\", \"60\", \"59\", \"18\", \"56\", \"77\"], \"type\": \"bar\", \"uid\": \"96b86cf9-31e6-4ff3-bcda-e035384ec1f4\"}], {\"autosize\": false, \"height\": 1000, \"width\": 1000, \"xaxis\": {\"tickfont\": {\"color\": \"black\", \"size\": 12}, \"title\": \"Feature Importances\"}, \"yaxis\": {\"automargin\": true}}, {\"showLink\": true, \"linkText\": \"Export to plot.ly\", \"plotlyServerURL\": \"https://plot.ly\"})});</script>"
      ],
      "text/vnd.plotly.v1+html": [
       "<div id=\"d69aab4b-2347-4512-8cbe-e48b1d2cfcc5\" style=\"height: 1000px; width: 1000px;\" class=\"plotly-graph-div\"></div><script type=\"text/javascript\">require([\"plotly\"], function(Plotly) { window.PLOTLYENV=window.PLOTLYENV || {};window.PLOTLYENV.BASE_URL=\"https://plot.ly\";Plotly.newPlot(\"d69aab4b-2347-4512-8cbe-e48b1d2cfcc5\", [{\"marker\": {\"color\": \"rgb(158,202,225)\", \"line\": {\"color\": \"rgb(8,48,107)\", \"width\": 1.5}}, \"opacity\": 0.6, \"orientation\": \"h\", \"text\": [0.18, 0.06, 0.04, 0.04, 0.04, 0.04, 0.02, 0.02, 0.02, 0.02, 0.02, 0.02, 0.02, 0.02, 0.02, 0.02, 0.02, 0.02, 0.02, 0.02, 0.02, 0.02, 0.02, 0.02, 0.02, 0.02, 0.02, 0.02, 0.02, 0.02, 0.02, 0.02, 0.02, 0.02, 0.02, 0.02, 0.0, 0.0, 0.0, 0.0, 0.0, 0.0, 0.0, 0.0, 0.0, 0.0, 0.0, 0.0, 0.0, 0.0, 0.0, 0.0, 0.0, 0.0, 0.0, 0.0, 0.0, 0.0, 0.0, 0.0, 0.0, 0.0, 0.0, 0.0, 0.0, 0.0, 0.0, 0.0, 0.0, 0.0, 0.0, 0.0, 0.0, 0.0, 0.0, 0.0, 0.0, 0.0, 0.0, 0.0, 0.0, 0.0, 0.0, 0.0, 0.0, 0.0, 0.0, 0.0, 0.0, 0.0, 0.0, 0.0, 0.0, 0.0, 0.0, 0.0, 0.0, 0.0, 0.0, 0.0, 0.0, 0.0, 0.0, 0.0, 0.0, 0.0, 0.0, 0.0, 0.0, 0.0, 0.0, 0.0, 0.0, 0.0, 0.0, 0.0, 0.0, 0.0, 0.0, 0.0, 0.0, 0.0, 0.0, 0.0, 0.0], \"textposition\": \"outside\", \"x\": [0.18, 0.06, 0.04, 0.04, 0.04, 0.04, 0.02, 0.02, 0.02, 0.02, 0.02, 0.02, 0.02, 0.02, 0.02, 0.02, 0.02, 0.02, 0.02, 0.02, 0.02, 0.02, 0.02, 0.02, 0.02, 0.02, 0.02, 0.02, 0.02, 0.02, 0.02, 0.02, 0.02, 0.02, 0.02, 0.02, 0.0, 0.0, 0.0, 0.0, 0.0, 0.0, 0.0, 0.0, 0.0, 0.0, 0.0, 0.0, 0.0, 0.0, 0.0, 0.0, 0.0, 0.0, 0.0, 0.0, 0.0, 0.0, 0.0, 0.0, 0.0, 0.0, 0.0, 0.0, 0.0, 0.0, 0.0, 0.0, 0.0, 0.0, 0.0, 0.0, 0.0, 0.0, 0.0, 0.0, 0.0, 0.0, 0.0, 0.0, 0.0, 0.0, 0.0, 0.0, 0.0, 0.0, 0.0, 0.0, 0.0, 0.0, 0.0, 0.0, 0.0, 0.0, 0.0, 0.0, 0.0, 0.0, 0.0, 0.0, 0.0, 0.0, 0.0, 0.0, 0.0, 0.0, 0.0, 0.0, 0.0, 0.0, 0.0, 0.0, 0.0, 0.0, 0.0, 0.0, 0.0, 0.0, 0.0, 0.0, 0.0, 0.0, 0.0, 0.0, 0.0], \"y\": [\"0\", \"3\", \"4\", \"42\", \"8\", \"57\", \"74\", \"36\", \"41\", \"44\", \"45\", \"46\", \"47\", \"58\", \"66\", \"87\", \"82\", \"31\", \"94\", \"96\", \"100\", \"105\", \"109\", \"112\", \"113\", \"117\", \"123\", \"32\", \"62\", \"124\", \"11\", \"21\", \"17\", \"24\", \"19\", \"2\", \"92\", \"99\", \"98\", \"97\", \"12\", \"95\", \"13\", \"93\", \"83\", \"84\", \"91\", \"15\", \"90\", \"89\", \"88\", \"14\", \"86\", \"85\", \"81\", \"102\", \"101\", \"6\", \"122\", \"121\", \"120\", \"119\", \"118\", \"5\", \"116\", \"115\", \"114\", \"7\", \"79\", \"111\", \"110\", \"9\", \"108\", \"107\", \"106\", \"10\", \"104\", \"103\", \"80\", \"29\", \"78\", \"53\", \"51\", \"50\", \"49\", \"48\", \"20\", \"22\", \"23\", \"43\", \"25\", \"40\", \"39\", \"38\", \"37\", \"26\", \"35\", \"34\", \"33\", \"27\", \"28\", \"52\", \"54\", \"30\", \"55\", \"76\", \"75\", \"16\", \"73\", \"72\", \"71\", \"70\", \"69\", \"68\", \"67\", \"65\", \"64\", \"63\", \"1\", \"61\", \"60\", \"59\", \"18\", \"56\", \"77\"], \"type\": \"bar\", \"uid\": \"96b86cf9-31e6-4ff3-bcda-e035384ec1f4\"}], {\"autosize\": false, \"height\": 1000, \"width\": 1000, \"xaxis\": {\"tickfont\": {\"color\": \"black\", \"size\": 12}, \"title\": \"Feature Importances\"}, \"yaxis\": {\"automargin\": true}}, {\"showLink\": true, \"linkText\": \"Export to plot.ly\", \"plotlyServerURL\": \"https://plot.ly\"})});</script>"
      ]
     },
     "metadata": {},
     "output_type": "display_data"
    },
    {
     "name": "stdout",
     "output_type": "stream",
     "text": [
      "\n",
      "\n",
      "\u001b[1mGradientBoosting Classifier\u001b[0m\n",
      "Accuracy of the model for training data is: 0.9810412716931602\n",
      "Confusion Matrix for training data is:\n"
     ]
    },
    {
     "data": {
      "text/plain": [
       "Predicted  False  True  __all__\n",
       "Actual                         \n",
       "False      24195   132    24327\n",
       "True         388  2713     3101\n",
       "__all__    24583  2845    27428"
      ]
     },
     "metadata": {},
     "output_type": "display_data"
    },
    {
     "name": "stdout",
     "output_type": "stream",
     "text": [
      "Accuracy of the model for test data is: 0.9740535942152275\n",
      "Confusion Matrix for test data is:\n"
     ]
    },
    {
     "data": {
      "text/plain": [
       "Predicted  False  True  __all__\n",
       "Actual                         \n",
       "False      10323    92    10415\n",
       "True         213  1127     1340\n",
       "__all__    10536  1219    11755"
      ]
     },
     "metadata": {},
     "output_type": "display_data"
    },
    {
     "data": {
      "application/vnd.plotly.v1+json": {
       "config": {
        "linkText": "Export to plot.ly",
        "plotlyServerURL": "https://plot.ly",
        "showLink": true
       },
       "data": [
        {
         "marker": {
          "color": "rgb(158,202,225)",
          "line": {
           "color": "rgb(8,48,107)",
           "width": 1.5
          }
         },
         "opacity": 0.6,
         "orientation": "h",
         "text": [
          0.7047,
          0.1195,
          0.0208,
          0.0189,
          0.0183,
          0.0144,
          0.0132,
          0.0111,
          0.0102,
          0.0091,
          0.0089,
          0.0067,
          0.0063,
          0.0054,
          0.004,
          0.0032,
          0.0021,
          0.0014,
          0.0014,
          0.0013,
          0.0012,
          0.001,
          0.001,
          0.001,
          0.001,
          0.0009,
          0.0008,
          0.0007,
          0.0006,
          0.0005,
          0.0005,
          0.0005,
          0.0004,
          0.0004,
          0.0004,
          0.0004,
          0.0004,
          0.0004,
          0.0003,
          0.0003,
          0.0003,
          0.0003,
          0.0003,
          0.0003,
          0.0002,
          0.0002,
          0.0002,
          0.0002,
          0.0002,
          0.0002,
          0.0002,
          0.0002,
          0.0002,
          0.0002,
          0.0002,
          0.0002,
          0.0002,
          0.0002,
          0.0002,
          0.0001,
          0.0001,
          0.0001,
          0.0001,
          0.0001,
          0.0001,
          0.0001,
          0.0001,
          0.0001,
          0.0001,
          0.0001,
          0.0001,
          0.0001,
          0.0001,
          0.0001,
          0.0001,
          0.0001,
          0.0001,
          0.0001,
          0.0001,
          0,
          0,
          0,
          0,
          0,
          0,
          0,
          0,
          0,
          0,
          0,
          0,
          0,
          0,
          0,
          0,
          0,
          0,
          0,
          0,
          0,
          0,
          0,
          0,
          0,
          0,
          0,
          0,
          0,
          0,
          0,
          0,
          0,
          0,
          0,
          0,
          0,
          0,
          0,
          0,
          0,
          0,
          0,
          0,
          0,
          0
         ],
         "textposition": "outside",
         "type": "bar",
         "uid": "fb02149c-3def-4dc6-be08-4aa347562bc4",
         "x": [
          0.7046811567483575,
          0.11948712060492928,
          0.02075703112244518,
          0.018851354644892602,
          0.018323100357813954,
          0.014441740394033422,
          0.013187938307646538,
          0.011090446214699609,
          0.010150396172932334,
          0.009136999152583295,
          0.008876431948842767,
          0.006713225131252317,
          0.006286887620927211,
          0.005370553830051082,
          0.004045807668583669,
          0.003179669442381762,
          0.0020511291271026713,
          0.0013796802197528848,
          0.0013581345224368772,
          0.001323852296957792,
          0.001193726016878581,
          0.0009980795125100394,
          0.000990601440652669,
          0.0009587751387917497,
          0.0009587221100121945,
          0.0008610373881129749,
          0.000774038200924641,
          0.0006716400598355655,
          0.0006494772396834791,
          0.0004933481283457434,
          0.00048332706907998563,
          0.00047317124084459973,
          0.0004252175202251562,
          0.00041766626452566106,
          0.00040136833065130103,
          0.0003994294116581464,
          0.00038946089408016364,
          0.0003539025928421333,
          0.00034953032603149165,
          0.00033804087189456843,
          0.0003111000294452335,
          0.0003096354092104204,
          0.00028865074537000584,
          0.0002698920254110299,
          0.00024921729744500356,
          0.00023881715304297518,
          0.00023684897775229786,
          0.00023528633608944083,
          0.0002316344305871614,
          0.00022895641326594677,
          0.00021679098078090545,
          0.00021605652729048084,
          0.00020839828199028672,
          0.0001988628322041594,
          0.00019605881761769844,
          0.00019561936286893657,
          0.00019130186463409577,
          0.00017028210447543482,
          0.00015144563656222667,
          0.00014647038234620794,
          0.00013844547902615808,
          0.00013666177901320794,
          0.00013464619945885594,
          0.0001330888573095603,
          0.00013225765796238043,
          0.00012972692928624129,
          0.00012408344207247993,
          0.00012203542226015405,
          9.994184663803083e-05,
          9.668077547185186e-05,
          8.911089228725567e-05,
          8.425662401269425e-05,
          8.412834840229148e-05,
          8.086659803348758e-05,
          7.343213293668874e-05,
          6.489992547245886e-05,
          6.18540295563857e-05,
          5.896941605169458e-05,
          5.165912739379373e-05,
          4.546961949139184e-05,
          3.720795186814392e-05,
          3.637678064270684e-05,
          2.684826655707701e-05,
          2.6156197798038373e-05,
          2.473823363609654e-05,
          2.388420630468908e-05,
          2.382142542213975e-05,
          2.2448022774928657e-05,
          2.1999299904466083e-05,
          1.9599823147266786e-05,
          1.8614307945007566e-05,
          1.1549487269247086e-05,
          0,
          0,
          0,
          0,
          0,
          0,
          0,
          0,
          0,
          0,
          0,
          0,
          0,
          0,
          0,
          0,
          0,
          0,
          0,
          0,
          0,
          0,
          0,
          0,
          0,
          0,
          0,
          0,
          0,
          0,
          0,
          0,
          0
         ],
         "y": [
          "0",
          "3",
          "53",
          "26",
          "16",
          "46",
          "40",
          "8",
          "57",
          "42",
          "62",
          "31",
          "17",
          "25",
          "54",
          "45",
          "112",
          "82",
          "28",
          "37",
          "4",
          "66",
          "11",
          "41",
          "32",
          "29",
          "9",
          "13",
          "80",
          "123",
          "56",
          "102",
          "65",
          "10",
          "103",
          "75",
          "117",
          "5",
          "83",
          "60",
          "122",
          "27",
          "55",
          "58",
          "92",
          "116",
          "89",
          "78",
          "68",
          "69",
          "81",
          "7",
          "44",
          "21",
          "50",
          "113",
          "51",
          "76",
          "36",
          "88",
          "49",
          "109",
          "87",
          "63",
          "72",
          "15",
          "35",
          "74",
          "33",
          "108",
          "101",
          "39",
          "124",
          "38",
          "22",
          "120",
          "30",
          "96",
          "70",
          "79",
          "90",
          "2",
          "47",
          "118",
          "91",
          "20",
          "19",
          "77",
          "114",
          "107",
          "115",
          "61",
          "18",
          "110",
          "106",
          "67",
          "48",
          "111",
          "14",
          "105",
          "52",
          "121",
          "119",
          "73",
          "99",
          "104",
          "12",
          "59",
          "34",
          "6",
          "1",
          "84",
          "85",
          "86",
          "43",
          "24",
          "23",
          "93",
          "64",
          "95",
          "97",
          "98",
          "71",
          "100",
          "94"
         ]
        }
       ],
       "layout": {
        "autosize": false,
        "height": 1000,
        "width": 1000,
        "xaxis": {
         "tickfont": {
          "color": "black",
          "size": 12
         },
         "title": "Feature Importances"
        },
        "yaxis": {
         "automargin": true
        }
       }
      },
      "text/html": [
       "<div id=\"8cee7828-97cd-4f03-8f71-1845de5dbefc\" style=\"height: 1000px; width: 1000px;\" class=\"plotly-graph-div\"></div><script type=\"text/javascript\">require([\"plotly\"], function(Plotly) { window.PLOTLYENV=window.PLOTLYENV || {};window.PLOTLYENV.BASE_URL=\"https://plot.ly\";Plotly.newPlot(\"8cee7828-97cd-4f03-8f71-1845de5dbefc\", [{\"marker\": {\"color\": \"rgb(158,202,225)\", \"line\": {\"color\": \"rgb(8,48,107)\", \"width\": 1.5}}, \"opacity\": 0.6, \"orientation\": \"h\", \"text\": [0.7047, 0.1195, 0.0208, 0.0189, 0.0183, 0.0144, 0.0132, 0.0111, 0.0102, 0.0091, 0.0089, 0.0067, 0.0063, 0.0054, 0.004, 0.0032, 0.0021, 0.0014, 0.0014, 0.0013, 0.0012, 0.001, 0.001, 0.001, 0.001, 0.0009, 0.0008, 0.0007, 0.0006, 0.0005, 0.0005, 0.0005, 0.0004, 0.0004, 0.0004, 0.0004, 0.0004, 0.0004, 0.0003, 0.0003, 0.0003, 0.0003, 0.0003, 0.0003, 0.0002, 0.0002, 0.0002, 0.0002, 0.0002, 0.0002, 0.0002, 0.0002, 0.0002, 0.0002, 0.0002, 0.0002, 0.0002, 0.0002, 0.0002, 0.0001, 0.0001, 0.0001, 0.0001, 0.0001, 0.0001, 0.0001, 0.0001, 0.0001, 0.0001, 0.0001, 0.0001, 0.0001, 0.0001, 0.0001, 0.0001, 0.0001, 0.0001, 0.0001, 0.0001, 0.0, 0.0, 0.0, 0.0, 0.0, 0.0, 0.0, 0.0, 0.0, 0.0, 0.0, 0.0, 0.0, 0.0, 0.0, 0.0, 0.0, 0.0, 0.0, 0.0, 0.0, 0.0, 0.0, 0.0, 0.0, 0.0, 0.0, 0.0, 0.0, 0.0, 0.0, 0.0, 0.0, 0.0, 0.0, 0.0, 0.0, 0.0, 0.0, 0.0, 0.0, 0.0, 0.0, 0.0, 0.0, 0.0], \"textposition\": \"outside\", \"x\": [0.7046811567483575, 0.11948712060492928, 0.02075703112244518, 0.018851354644892602, 0.018323100357813954, 0.014441740394033422, 0.013187938307646538, 0.011090446214699609, 0.010150396172932334, 0.009136999152583295, 0.008876431948842767, 0.006713225131252317, 0.006286887620927211, 0.005370553830051082, 0.004045807668583669, 0.003179669442381762, 0.0020511291271026713, 0.0013796802197528848, 0.0013581345224368772, 0.001323852296957792, 0.001193726016878581, 0.0009980795125100394, 0.000990601440652669, 0.0009587751387917497, 0.0009587221100121945, 0.0008610373881129749, 0.000774038200924641, 0.0006716400598355655, 0.0006494772396834791, 0.0004933481283457434, 0.00048332706907998563, 0.00047317124084459973, 0.0004252175202251562, 0.00041766626452566106, 0.00040136833065130103, 0.0003994294116581464, 0.00038946089408016364, 0.0003539025928421333, 0.00034953032603149165, 0.00033804087189456843, 0.0003111000294452335, 0.0003096354092104204, 0.00028865074537000584, 0.0002698920254110299, 0.00024921729744500356, 0.00023881715304297518, 0.00023684897775229786, 0.00023528633608944083, 0.0002316344305871614, 0.00022895641326594677, 0.00021679098078090545, 0.00021605652729048084, 0.00020839828199028672, 0.0001988628322041594, 0.00019605881761769844, 0.00019561936286893657, 0.00019130186463409577, 0.00017028210447543482, 0.00015144563656222667, 0.00014647038234620794, 0.00013844547902615808, 0.00013666177901320794, 0.00013464619945885594, 0.0001330888573095603, 0.00013225765796238043, 0.00012972692928624129, 0.00012408344207247993, 0.00012203542226015405, 9.994184663803083e-05, 9.668077547185186e-05, 8.911089228725567e-05, 8.425662401269425e-05, 8.412834840229148e-05, 8.086659803348758e-05, 7.343213293668874e-05, 6.489992547245886e-05, 6.18540295563857e-05, 5.896941605169458e-05, 5.165912739379373e-05, 4.546961949139184e-05, 3.720795186814392e-05, 3.637678064270684e-05, 2.684826655707701e-05, 2.6156197798038373e-05, 2.473823363609654e-05, 2.388420630468908e-05, 2.382142542213975e-05, 2.2448022774928657e-05, 2.1999299904466083e-05, 1.9599823147266786e-05, 1.8614307945007566e-05, 1.1549487269247086e-05, 0.0, 0.0, 0.0, 0.0, 0.0, 0.0, 0.0, 0.0, 0.0, 0.0, 0.0, 0.0, 0.0, 0.0, 0.0, 0.0, 0.0, 0.0, 0.0, 0.0, 0.0, 0.0, 0.0, 0.0, 0.0, 0.0, 0.0, 0.0, 0.0, 0.0, 0.0, 0.0, 0.0], \"y\": [\"0\", \"3\", \"53\", \"26\", \"16\", \"46\", \"40\", \"8\", \"57\", \"42\", \"62\", \"31\", \"17\", \"25\", \"54\", \"45\", \"112\", \"82\", \"28\", \"37\", \"4\", \"66\", \"11\", \"41\", \"32\", \"29\", \"9\", \"13\", \"80\", \"123\", \"56\", \"102\", \"65\", \"10\", \"103\", \"75\", \"117\", \"5\", \"83\", \"60\", \"122\", \"27\", \"55\", \"58\", \"92\", \"116\", \"89\", \"78\", \"68\", \"69\", \"81\", \"7\", \"44\", \"21\", \"50\", \"113\", \"51\", \"76\", \"36\", \"88\", \"49\", \"109\", \"87\", \"63\", \"72\", \"15\", \"35\", \"74\", \"33\", \"108\", \"101\", \"39\", \"124\", \"38\", \"22\", \"120\", \"30\", \"96\", \"70\", \"79\", \"90\", \"2\", \"47\", \"118\", \"91\", \"20\", \"19\", \"77\", \"114\", \"107\", \"115\", \"61\", \"18\", \"110\", \"106\", \"67\", \"48\", \"111\", \"14\", \"105\", \"52\", \"121\", \"119\", \"73\", \"99\", \"104\", \"12\", \"59\", \"34\", \"6\", \"1\", \"84\", \"85\", \"86\", \"43\", \"24\", \"23\", \"93\", \"64\", \"95\", \"97\", \"98\", \"71\", \"100\", \"94\"], \"type\": \"bar\", \"uid\": \"fb02149c-3def-4dc6-be08-4aa347562bc4\"}], {\"autosize\": false, \"height\": 1000, \"width\": 1000, \"xaxis\": {\"tickfont\": {\"color\": \"black\", \"size\": 12}, \"title\": \"Feature Importances\"}, \"yaxis\": {\"automargin\": true}}, {\"showLink\": true, \"linkText\": \"Export to plot.ly\", \"plotlyServerURL\": \"https://plot.ly\"})});</script>"
      ],
      "text/vnd.plotly.v1+html": [
       "<div id=\"8cee7828-97cd-4f03-8f71-1845de5dbefc\" style=\"height: 1000px; width: 1000px;\" class=\"plotly-graph-div\"></div><script type=\"text/javascript\">require([\"plotly\"], function(Plotly) { window.PLOTLYENV=window.PLOTLYENV || {};window.PLOTLYENV.BASE_URL=\"https://plot.ly\";Plotly.newPlot(\"8cee7828-97cd-4f03-8f71-1845de5dbefc\", [{\"marker\": {\"color\": \"rgb(158,202,225)\", \"line\": {\"color\": \"rgb(8,48,107)\", \"width\": 1.5}}, \"opacity\": 0.6, \"orientation\": \"h\", \"text\": [0.7047, 0.1195, 0.0208, 0.0189, 0.0183, 0.0144, 0.0132, 0.0111, 0.0102, 0.0091, 0.0089, 0.0067, 0.0063, 0.0054, 0.004, 0.0032, 0.0021, 0.0014, 0.0014, 0.0013, 0.0012, 0.001, 0.001, 0.001, 0.001, 0.0009, 0.0008, 0.0007, 0.0006, 0.0005, 0.0005, 0.0005, 0.0004, 0.0004, 0.0004, 0.0004, 0.0004, 0.0004, 0.0003, 0.0003, 0.0003, 0.0003, 0.0003, 0.0003, 0.0002, 0.0002, 0.0002, 0.0002, 0.0002, 0.0002, 0.0002, 0.0002, 0.0002, 0.0002, 0.0002, 0.0002, 0.0002, 0.0002, 0.0002, 0.0001, 0.0001, 0.0001, 0.0001, 0.0001, 0.0001, 0.0001, 0.0001, 0.0001, 0.0001, 0.0001, 0.0001, 0.0001, 0.0001, 0.0001, 0.0001, 0.0001, 0.0001, 0.0001, 0.0001, 0.0, 0.0, 0.0, 0.0, 0.0, 0.0, 0.0, 0.0, 0.0, 0.0, 0.0, 0.0, 0.0, 0.0, 0.0, 0.0, 0.0, 0.0, 0.0, 0.0, 0.0, 0.0, 0.0, 0.0, 0.0, 0.0, 0.0, 0.0, 0.0, 0.0, 0.0, 0.0, 0.0, 0.0, 0.0, 0.0, 0.0, 0.0, 0.0, 0.0, 0.0, 0.0, 0.0, 0.0, 0.0, 0.0], \"textposition\": \"outside\", \"x\": [0.7046811567483575, 0.11948712060492928, 0.02075703112244518, 0.018851354644892602, 0.018323100357813954, 0.014441740394033422, 0.013187938307646538, 0.011090446214699609, 0.010150396172932334, 0.009136999152583295, 0.008876431948842767, 0.006713225131252317, 0.006286887620927211, 0.005370553830051082, 0.004045807668583669, 0.003179669442381762, 0.0020511291271026713, 0.0013796802197528848, 0.0013581345224368772, 0.001323852296957792, 0.001193726016878581, 0.0009980795125100394, 0.000990601440652669, 0.0009587751387917497, 0.0009587221100121945, 0.0008610373881129749, 0.000774038200924641, 0.0006716400598355655, 0.0006494772396834791, 0.0004933481283457434, 0.00048332706907998563, 0.00047317124084459973, 0.0004252175202251562, 0.00041766626452566106, 0.00040136833065130103, 0.0003994294116581464, 0.00038946089408016364, 0.0003539025928421333, 0.00034953032603149165, 0.00033804087189456843, 0.0003111000294452335, 0.0003096354092104204, 0.00028865074537000584, 0.0002698920254110299, 0.00024921729744500356, 0.00023881715304297518, 0.00023684897775229786, 0.00023528633608944083, 0.0002316344305871614, 0.00022895641326594677, 0.00021679098078090545, 0.00021605652729048084, 0.00020839828199028672, 0.0001988628322041594, 0.00019605881761769844, 0.00019561936286893657, 0.00019130186463409577, 0.00017028210447543482, 0.00015144563656222667, 0.00014647038234620794, 0.00013844547902615808, 0.00013666177901320794, 0.00013464619945885594, 0.0001330888573095603, 0.00013225765796238043, 0.00012972692928624129, 0.00012408344207247993, 0.00012203542226015405, 9.994184663803083e-05, 9.668077547185186e-05, 8.911089228725567e-05, 8.425662401269425e-05, 8.412834840229148e-05, 8.086659803348758e-05, 7.343213293668874e-05, 6.489992547245886e-05, 6.18540295563857e-05, 5.896941605169458e-05, 5.165912739379373e-05, 4.546961949139184e-05, 3.720795186814392e-05, 3.637678064270684e-05, 2.684826655707701e-05, 2.6156197798038373e-05, 2.473823363609654e-05, 2.388420630468908e-05, 2.382142542213975e-05, 2.2448022774928657e-05, 2.1999299904466083e-05, 1.9599823147266786e-05, 1.8614307945007566e-05, 1.1549487269247086e-05, 0.0, 0.0, 0.0, 0.0, 0.0, 0.0, 0.0, 0.0, 0.0, 0.0, 0.0, 0.0, 0.0, 0.0, 0.0, 0.0, 0.0, 0.0, 0.0, 0.0, 0.0, 0.0, 0.0, 0.0, 0.0, 0.0, 0.0, 0.0, 0.0, 0.0, 0.0, 0.0, 0.0], \"y\": [\"0\", \"3\", \"53\", \"26\", \"16\", \"46\", \"40\", \"8\", \"57\", \"42\", \"62\", \"31\", \"17\", \"25\", \"54\", \"45\", \"112\", \"82\", \"28\", \"37\", \"4\", \"66\", \"11\", \"41\", \"32\", \"29\", \"9\", \"13\", \"80\", \"123\", \"56\", \"102\", \"65\", \"10\", \"103\", \"75\", \"117\", \"5\", \"83\", \"60\", \"122\", \"27\", \"55\", \"58\", \"92\", \"116\", \"89\", \"78\", \"68\", \"69\", \"81\", \"7\", \"44\", \"21\", \"50\", \"113\", \"51\", \"76\", \"36\", \"88\", \"49\", \"109\", \"87\", \"63\", \"72\", \"15\", \"35\", \"74\", \"33\", \"108\", \"101\", \"39\", \"124\", \"38\", \"22\", \"120\", \"30\", \"96\", \"70\", \"79\", \"90\", \"2\", \"47\", \"118\", \"91\", \"20\", \"19\", \"77\", \"114\", \"107\", \"115\", \"61\", \"18\", \"110\", \"106\", \"67\", \"48\", \"111\", \"14\", \"105\", \"52\", \"121\", \"119\", \"73\", \"99\", \"104\", \"12\", \"59\", \"34\", \"6\", \"1\", \"84\", \"85\", \"86\", \"43\", \"24\", \"23\", \"93\", \"64\", \"95\", \"97\", \"98\", \"71\", \"100\", \"94\"], \"type\": \"bar\", \"uid\": \"fb02149c-3def-4dc6-be08-4aa347562bc4\"}], {\"autosize\": false, \"height\": 1000, \"width\": 1000, \"xaxis\": {\"tickfont\": {\"color\": \"black\", \"size\": 12}, \"title\": \"Feature Importances\"}, \"yaxis\": {\"automargin\": true}}, {\"showLink\": true, \"linkText\": \"Export to plot.ly\", \"plotlyServerURL\": \"https://plot.ly\"})});</script>"
      ]
     },
     "metadata": {},
     "output_type": "display_data"
    },
    {
     "name": "stdout",
     "output_type": "stream",
     "text": [
      "\n",
      "\n",
      "\u001b[1mExtraTree Classifier\u001b[0m\n",
      "Accuracy of the model for training data is: 0.9985416362840892\n",
      "Confusion Matrix for training data is:\n"
     ]
    },
    {
     "data": {
      "text/plain": [
       "Predicted  False  True  __all__\n",
       "Actual                         \n",
       "False      24324     3    24327\n",
       "True          37  3064     3101\n",
       "__all__    24361  3067    27428"
      ]
     },
     "metadata": {},
     "output_type": "display_data"
    },
    {
     "name": "stdout",
     "output_type": "stream",
     "text": [
      "Accuracy of the model for test data is: 0.9722671203743088\n",
      "Confusion Matrix for test data is:\n"
     ]
    },
    {
     "data": {
      "text/plain": [
       "Predicted  False  True  __all__\n",
       "Actual                         \n",
       "False      10368    47    10415\n",
       "True         279  1061     1340\n",
       "__all__    10647  1108    11755"
      ]
     },
     "metadata": {},
     "output_type": "display_data"
    },
    {
     "data": {
      "application/vnd.plotly.v1+json": {
       "config": {
        "linkText": "Export to plot.ly",
        "plotlyServerURL": "https://plot.ly",
        "showLink": true
       },
       "data": [
        {
         "marker": {
          "color": "rgb(158,202,225)",
          "line": {
           "color": "rgb(8,48,107)",
           "width": 1.5
          }
         },
         "opacity": 0.6,
         "orientation": "h",
         "text": [
          0.078,
          0.0492,
          0.037,
          0.0313,
          0.0165,
          0.016,
          0.0156,
          0.0149,
          0.0139,
          0.0132,
          0.0131,
          0.0122,
          0.0119,
          0.0119,
          0.0115,
          0.0111,
          0.0106,
          0.0105,
          0.0103,
          0.0102,
          0.0099,
          0.0098,
          0.0097,
          0.0092,
          0.0089,
          0.0089,
          0.0088,
          0.0087,
          0.0087,
          0.0083,
          0.0083,
          0.0082,
          0.0081,
          0.0081,
          0.0081,
          0.008,
          0.0078,
          0.0078,
          0.0075,
          0.0074,
          0.0074,
          0.0074,
          0.0073,
          0.0073,
          0.0073,
          0.0072,
          0.0071,
          0.007,
          0.0068,
          0.0068,
          0.0067,
          0.0066,
          0.0065,
          0.0064,
          0.0064,
          0.0064,
          0.0064,
          0.0064,
          0.0064,
          0.0061,
          0.0061,
          0.0059,
          0.0058,
          0.0057,
          0.0055,
          0.0055,
          0.0055,
          0.0055,
          0.0054,
          0.0054,
          0.0054,
          0.0054,
          0.0053,
          0.0053,
          0.0053,
          0.0053,
          0.0052,
          0.0052,
          0.0052,
          0.0051,
          0.0051,
          0.005,
          0.005,
          0.005,
          0.0049,
          0.0049,
          0.0049,
          0.0048,
          0.0048,
          0.0047,
          0.0046,
          0.0046,
          0.0046,
          0.0045,
          0.0045,
          0.0045,
          0.0045,
          0.0045,
          0.0042,
          0.0042,
          0.0041,
          0.0041,
          0.0041,
          0.0041,
          0.004,
          0.004,
          0.0039,
          0.0039,
          0.0039,
          0.0039,
          0.0038,
          0.0038,
          0.0037,
          0.0037,
          0.0037,
          0.0036,
          0.0035,
          0.0035,
          0.0034,
          0.0034,
          0.0034,
          0.0033,
          0.0032,
          0.003,
          0.0029
         ],
         "textposition": "outside",
         "type": "bar",
         "uid": "9c9add9e-5401-45e8-9462-aee498995c16",
         "x": [
          0.07797850493648449,
          0.049161807453525184,
          0.03699369631884161,
          0.031297407802039,
          0.016453213994883763,
          0.01595587686390835,
          0.015565231969574107,
          0.014912537564174398,
          0.0138625229111162,
          0.013181411861980121,
          0.013072042396657053,
          0.012249014708041513,
          0.011912817630716747,
          0.011901849188716415,
          0.011543018371589482,
          0.011080316761334546,
          0.010557748546336993,
          0.010519677608297971,
          0.010298466338642441,
          0.010247185691137568,
          0.009941611825465607,
          0.009803564423794871,
          0.009705560941465175,
          0.009216151384246269,
          0.008916937578374367,
          0.008900188977698138,
          0.00881588995369652,
          0.008732249406391463,
          0.008698098172481945,
          0.008331754043727149,
          0.008267208608488202,
          0.008179585544327643,
          0.00812571037686966,
          0.008056441873666447,
          0.008051555462932044,
          0.008016179695125135,
          0.007837659314878951,
          0.007752927258416761,
          0.0075420379118594305,
          0.007445335073053346,
          0.007431384484357316,
          0.007393131526433012,
          0.007309173351607239,
          0.007269256363320003,
          0.007258441345337075,
          0.007175206764150775,
          0.007149789193909673,
          0.007021452075182779,
          0.006798611538936151,
          0.0067830043498894885,
          0.006698409964760754,
          0.006572689211481036,
          0.006524992337860992,
          0.006449993090965207,
          0.006427395037943972,
          0.006424317078150647,
          0.006422674662807839,
          0.006408122281044737,
          0.006352697096499218,
          0.006145783703523992,
          0.0060745617281076966,
          0.005871265171169337,
          0.005820583121735739,
          0.005743914052261649,
          0.00552880978595926,
          0.005512704084140265,
          0.005482704896508596,
          0.005452141997308246,
          0.005415151233166572,
          0.0054140985284409,
          0.005406062121945321,
          0.005351713722940612,
          0.0053185401816665335,
          0.005311584321793519,
          0.005288129053390983,
          0.005281106742060354,
          0.005241345562605812,
          0.0052186324969901296,
          0.005177528791823891,
          0.005138736998574422,
          0.005134964977682808,
          0.005041272112588785,
          0.005030293905898552,
          0.004960934334440662,
          0.004918801672079404,
          0.004889435376000537,
          0.004872769052179536,
          0.004829168547963417,
          0.004776522168737671,
          0.004725630401979044,
          0.004649289042399317,
          0.0046302297922994765,
          0.004600024885289654,
          0.004549066701143666,
          0.004528815515963388,
          0.004476640094166114,
          0.0044758302027959355,
          0.004451628340819729,
          0.004225597297133214,
          0.004199007199082574,
          0.004131262437559456,
          0.004110393778064999,
          0.004072310779830591,
          0.004055557981321979,
          0.004035646278659854,
          0.004017875030403525,
          0.003949270753275075,
          0.003907498199514249,
          0.0038784663385497574,
          0.0038612437202157745,
          0.0038429750638987507,
          0.0038166476691004554,
          0.0037264693268273456,
          0.003685778284168025,
          0.0036776737042749914,
          0.003550059262755497,
          0.0035469239695740907,
          0.0035204592614781808,
          0.003417857705887903,
          0.0033940983027146827,
          0.0033697664064881293,
          0.0032518835460955747,
          0.0032052508590088803,
          0.002981532673252489,
          0.0028803402507276117
         ],
         "y": [
          "3",
          "0",
          "29",
          "4",
          "11",
          "73",
          "26",
          "1",
          "85",
          "28",
          "40",
          "60",
          "46",
          "16",
          "57",
          "112",
          "113",
          "31",
          "17",
          "107",
          "83",
          "76",
          "44",
          "27",
          "101",
          "37",
          "74",
          "102",
          "2",
          "77",
          "88",
          "12",
          "6",
          "96",
          "70",
          "14",
          "15",
          "18",
          "49",
          "42",
          "8",
          "68",
          "52",
          "13",
          "45",
          "30",
          "66",
          "82",
          "25",
          "54",
          "55",
          "72",
          "80",
          "9",
          "64",
          "33",
          "95",
          "117",
          "19",
          "39",
          "34",
          "103",
          "21",
          "92",
          "106",
          "22",
          "10",
          "62",
          "97",
          "75",
          "93",
          "5",
          "89",
          "61",
          "105",
          "81",
          "69",
          "7",
          "36",
          "63",
          "41",
          "32",
          "53",
          "71",
          "35",
          "65",
          "51",
          "58",
          "67",
          "86",
          "91",
          "79",
          "23",
          "94",
          "98",
          "87",
          "59",
          "38",
          "99",
          "43",
          "116",
          "100",
          "47",
          "118",
          "115",
          "108",
          "78",
          "122",
          "124",
          "114",
          "110",
          "120",
          "84",
          "109",
          "56",
          "48",
          "111",
          "123",
          "90",
          "121",
          "20",
          "104",
          "24",
          "119",
          "50"
         ]
        }
       ],
       "layout": {
        "autosize": false,
        "height": 1000,
        "width": 1000,
        "xaxis": {
         "tickfont": {
          "color": "black",
          "size": 12
         },
         "title": "Feature Importances"
        },
        "yaxis": {
         "automargin": true
        }
       }
      },
      "text/html": [
       "<div id=\"283ff9cd-b2dc-4396-b42d-c35731710030\" style=\"height: 1000px; width: 1000px;\" class=\"plotly-graph-div\"></div><script type=\"text/javascript\">require([\"plotly\"], function(Plotly) { window.PLOTLYENV=window.PLOTLYENV || {};window.PLOTLYENV.BASE_URL=\"https://plot.ly\";Plotly.newPlot(\"283ff9cd-b2dc-4396-b42d-c35731710030\", [{\"marker\": {\"color\": \"rgb(158,202,225)\", \"line\": {\"color\": \"rgb(8,48,107)\", \"width\": 1.5}}, \"opacity\": 0.6, \"orientation\": \"h\", \"text\": [0.078, 0.0492, 0.037, 0.0313, 0.0165, 0.016, 0.0156, 0.0149, 0.0139, 0.0132, 0.0131, 0.0122, 0.0119, 0.0119, 0.0115, 0.0111, 0.0106, 0.0105, 0.0103, 0.0102, 0.0099, 0.0098, 0.0097, 0.0092, 0.0089, 0.0089, 0.0088, 0.0087, 0.0087, 0.0083, 0.0083, 0.0082, 0.0081, 0.0081, 0.0081, 0.008, 0.0078, 0.0078, 0.0075, 0.0074, 0.0074, 0.0074, 0.0073, 0.0073, 0.0073, 0.0072, 0.0071, 0.007, 0.0068, 0.0068, 0.0067, 0.0066, 0.0065, 0.0064, 0.0064, 0.0064, 0.0064, 0.0064, 0.0064, 0.0061, 0.0061, 0.0059, 0.0058, 0.0057, 0.0055, 0.0055, 0.0055, 0.0055, 0.0054, 0.0054, 0.0054, 0.0054, 0.0053, 0.0053, 0.0053, 0.0053, 0.0052, 0.0052, 0.0052, 0.0051, 0.0051, 0.005, 0.005, 0.005, 0.0049, 0.0049, 0.0049, 0.0048, 0.0048, 0.0047, 0.0046, 0.0046, 0.0046, 0.0045, 0.0045, 0.0045, 0.0045, 0.0045, 0.0042, 0.0042, 0.0041, 0.0041, 0.0041, 0.0041, 0.004, 0.004, 0.0039, 0.0039, 0.0039, 0.0039, 0.0038, 0.0038, 0.0037, 0.0037, 0.0037, 0.0036, 0.0035, 0.0035, 0.0034, 0.0034, 0.0034, 0.0033, 0.0032, 0.003, 0.0029], \"textposition\": \"outside\", \"x\": [0.07797850493648449, 0.049161807453525184, 0.03699369631884161, 0.031297407802039, 0.016453213994883763, 0.01595587686390835, 0.015565231969574107, 0.014912537564174398, 0.0138625229111162, 0.013181411861980121, 0.013072042396657053, 0.012249014708041513, 0.011912817630716747, 0.011901849188716415, 0.011543018371589482, 0.011080316761334546, 0.010557748546336993, 0.010519677608297971, 0.010298466338642441, 0.010247185691137568, 0.009941611825465607, 0.009803564423794871, 0.009705560941465175, 0.009216151384246269, 0.008916937578374367, 0.008900188977698138, 0.00881588995369652, 0.008732249406391463, 0.008698098172481945, 0.008331754043727149, 0.008267208608488202, 0.008179585544327643, 0.00812571037686966, 0.008056441873666447, 0.008051555462932044, 0.008016179695125135, 0.007837659314878951, 0.007752927258416761, 0.0075420379118594305, 0.007445335073053346, 0.007431384484357316, 0.007393131526433012, 0.007309173351607239, 0.007269256363320003, 0.007258441345337075, 0.007175206764150775, 0.007149789193909673, 0.007021452075182779, 0.006798611538936151, 0.0067830043498894885, 0.006698409964760754, 0.006572689211481036, 0.006524992337860992, 0.006449993090965207, 0.006427395037943972, 0.006424317078150647, 0.006422674662807839, 0.006408122281044737, 0.006352697096499218, 0.006145783703523992, 0.0060745617281076966, 0.005871265171169337, 0.005820583121735739, 0.005743914052261649, 0.00552880978595926, 0.005512704084140265, 0.005482704896508596, 0.005452141997308246, 0.005415151233166572, 0.0054140985284409, 0.005406062121945321, 0.005351713722940612, 0.0053185401816665335, 0.005311584321793519, 0.005288129053390983, 0.005281106742060354, 0.005241345562605812, 0.0052186324969901296, 0.005177528791823891, 0.005138736998574422, 0.005134964977682808, 0.005041272112588785, 0.005030293905898552, 0.004960934334440662, 0.004918801672079404, 0.004889435376000537, 0.004872769052179536, 0.004829168547963417, 0.004776522168737671, 0.004725630401979044, 0.004649289042399317, 0.0046302297922994765, 0.004600024885289654, 0.004549066701143666, 0.004528815515963388, 0.004476640094166114, 0.0044758302027959355, 0.004451628340819729, 0.004225597297133214, 0.004199007199082574, 0.004131262437559456, 0.004110393778064999, 0.004072310779830591, 0.004055557981321979, 0.004035646278659854, 0.004017875030403525, 0.003949270753275075, 0.003907498199514249, 0.0038784663385497574, 0.0038612437202157745, 0.0038429750638987507, 0.0038166476691004554, 0.0037264693268273456, 0.003685778284168025, 0.0036776737042749914, 0.003550059262755497, 0.0035469239695740907, 0.0035204592614781808, 0.003417857705887903, 0.0033940983027146827, 0.0033697664064881293, 0.0032518835460955747, 0.0032052508590088803, 0.002981532673252489, 0.0028803402507276117], \"y\": [\"3\", \"0\", \"29\", \"4\", \"11\", \"73\", \"26\", \"1\", \"85\", \"28\", \"40\", \"60\", \"46\", \"16\", \"57\", \"112\", \"113\", \"31\", \"17\", \"107\", \"83\", \"76\", \"44\", \"27\", \"101\", \"37\", \"74\", \"102\", \"2\", \"77\", \"88\", \"12\", \"6\", \"96\", \"70\", \"14\", \"15\", \"18\", \"49\", \"42\", \"8\", \"68\", \"52\", \"13\", \"45\", \"30\", \"66\", \"82\", \"25\", \"54\", \"55\", \"72\", \"80\", \"9\", \"64\", \"33\", \"95\", \"117\", \"19\", \"39\", \"34\", \"103\", \"21\", \"92\", \"106\", \"22\", \"10\", \"62\", \"97\", \"75\", \"93\", \"5\", \"89\", \"61\", \"105\", \"81\", \"69\", \"7\", \"36\", \"63\", \"41\", \"32\", \"53\", \"71\", \"35\", \"65\", \"51\", \"58\", \"67\", \"86\", \"91\", \"79\", \"23\", \"94\", \"98\", \"87\", \"59\", \"38\", \"99\", \"43\", \"116\", \"100\", \"47\", \"118\", \"115\", \"108\", \"78\", \"122\", \"124\", \"114\", \"110\", \"120\", \"84\", \"109\", \"56\", \"48\", \"111\", \"123\", \"90\", \"121\", \"20\", \"104\", \"24\", \"119\", \"50\"], \"type\": \"bar\", \"uid\": \"9c9add9e-5401-45e8-9462-aee498995c16\"}], {\"autosize\": false, \"height\": 1000, \"width\": 1000, \"xaxis\": {\"tickfont\": {\"color\": \"black\", \"size\": 12}, \"title\": \"Feature Importances\"}, \"yaxis\": {\"automargin\": true}}, {\"showLink\": true, \"linkText\": \"Export to plot.ly\", \"plotlyServerURL\": \"https://plot.ly\"})});</script>"
      ],
      "text/vnd.plotly.v1+html": [
       "<div id=\"283ff9cd-b2dc-4396-b42d-c35731710030\" style=\"height: 1000px; width: 1000px;\" class=\"plotly-graph-div\"></div><script type=\"text/javascript\">require([\"plotly\"], function(Plotly) { window.PLOTLYENV=window.PLOTLYENV || {};window.PLOTLYENV.BASE_URL=\"https://plot.ly\";Plotly.newPlot(\"283ff9cd-b2dc-4396-b42d-c35731710030\", [{\"marker\": {\"color\": \"rgb(158,202,225)\", \"line\": {\"color\": \"rgb(8,48,107)\", \"width\": 1.5}}, \"opacity\": 0.6, \"orientation\": \"h\", \"text\": [0.078, 0.0492, 0.037, 0.0313, 0.0165, 0.016, 0.0156, 0.0149, 0.0139, 0.0132, 0.0131, 0.0122, 0.0119, 0.0119, 0.0115, 0.0111, 0.0106, 0.0105, 0.0103, 0.0102, 0.0099, 0.0098, 0.0097, 0.0092, 0.0089, 0.0089, 0.0088, 0.0087, 0.0087, 0.0083, 0.0083, 0.0082, 0.0081, 0.0081, 0.0081, 0.008, 0.0078, 0.0078, 0.0075, 0.0074, 0.0074, 0.0074, 0.0073, 0.0073, 0.0073, 0.0072, 0.0071, 0.007, 0.0068, 0.0068, 0.0067, 0.0066, 0.0065, 0.0064, 0.0064, 0.0064, 0.0064, 0.0064, 0.0064, 0.0061, 0.0061, 0.0059, 0.0058, 0.0057, 0.0055, 0.0055, 0.0055, 0.0055, 0.0054, 0.0054, 0.0054, 0.0054, 0.0053, 0.0053, 0.0053, 0.0053, 0.0052, 0.0052, 0.0052, 0.0051, 0.0051, 0.005, 0.005, 0.005, 0.0049, 0.0049, 0.0049, 0.0048, 0.0048, 0.0047, 0.0046, 0.0046, 0.0046, 0.0045, 0.0045, 0.0045, 0.0045, 0.0045, 0.0042, 0.0042, 0.0041, 0.0041, 0.0041, 0.0041, 0.004, 0.004, 0.0039, 0.0039, 0.0039, 0.0039, 0.0038, 0.0038, 0.0037, 0.0037, 0.0037, 0.0036, 0.0035, 0.0035, 0.0034, 0.0034, 0.0034, 0.0033, 0.0032, 0.003, 0.0029], \"textposition\": \"outside\", \"x\": [0.07797850493648449, 0.049161807453525184, 0.03699369631884161, 0.031297407802039, 0.016453213994883763, 0.01595587686390835, 0.015565231969574107, 0.014912537564174398, 0.0138625229111162, 0.013181411861980121, 0.013072042396657053, 0.012249014708041513, 0.011912817630716747, 0.011901849188716415, 0.011543018371589482, 0.011080316761334546, 0.010557748546336993, 0.010519677608297971, 0.010298466338642441, 0.010247185691137568, 0.009941611825465607, 0.009803564423794871, 0.009705560941465175, 0.009216151384246269, 0.008916937578374367, 0.008900188977698138, 0.00881588995369652, 0.008732249406391463, 0.008698098172481945, 0.008331754043727149, 0.008267208608488202, 0.008179585544327643, 0.00812571037686966, 0.008056441873666447, 0.008051555462932044, 0.008016179695125135, 0.007837659314878951, 0.007752927258416761, 0.0075420379118594305, 0.007445335073053346, 0.007431384484357316, 0.007393131526433012, 0.007309173351607239, 0.007269256363320003, 0.007258441345337075, 0.007175206764150775, 0.007149789193909673, 0.007021452075182779, 0.006798611538936151, 0.0067830043498894885, 0.006698409964760754, 0.006572689211481036, 0.006524992337860992, 0.006449993090965207, 0.006427395037943972, 0.006424317078150647, 0.006422674662807839, 0.006408122281044737, 0.006352697096499218, 0.006145783703523992, 0.0060745617281076966, 0.005871265171169337, 0.005820583121735739, 0.005743914052261649, 0.00552880978595926, 0.005512704084140265, 0.005482704896508596, 0.005452141997308246, 0.005415151233166572, 0.0054140985284409, 0.005406062121945321, 0.005351713722940612, 0.0053185401816665335, 0.005311584321793519, 0.005288129053390983, 0.005281106742060354, 0.005241345562605812, 0.0052186324969901296, 0.005177528791823891, 0.005138736998574422, 0.005134964977682808, 0.005041272112588785, 0.005030293905898552, 0.004960934334440662, 0.004918801672079404, 0.004889435376000537, 0.004872769052179536, 0.004829168547963417, 0.004776522168737671, 0.004725630401979044, 0.004649289042399317, 0.0046302297922994765, 0.004600024885289654, 0.004549066701143666, 0.004528815515963388, 0.004476640094166114, 0.0044758302027959355, 0.004451628340819729, 0.004225597297133214, 0.004199007199082574, 0.004131262437559456, 0.004110393778064999, 0.004072310779830591, 0.004055557981321979, 0.004035646278659854, 0.004017875030403525, 0.003949270753275075, 0.003907498199514249, 0.0038784663385497574, 0.0038612437202157745, 0.0038429750638987507, 0.0038166476691004554, 0.0037264693268273456, 0.003685778284168025, 0.0036776737042749914, 0.003550059262755497, 0.0035469239695740907, 0.0035204592614781808, 0.003417857705887903, 0.0033940983027146827, 0.0033697664064881293, 0.0032518835460955747, 0.0032052508590088803, 0.002981532673252489, 0.0028803402507276117], \"y\": [\"3\", \"0\", \"29\", \"4\", \"11\", \"73\", \"26\", \"1\", \"85\", \"28\", \"40\", \"60\", \"46\", \"16\", \"57\", \"112\", \"113\", \"31\", \"17\", \"107\", \"83\", \"76\", \"44\", \"27\", \"101\", \"37\", \"74\", \"102\", \"2\", \"77\", \"88\", \"12\", \"6\", \"96\", \"70\", \"14\", \"15\", \"18\", \"49\", \"42\", \"8\", \"68\", \"52\", \"13\", \"45\", \"30\", \"66\", \"82\", \"25\", \"54\", \"55\", \"72\", \"80\", \"9\", \"64\", \"33\", \"95\", \"117\", \"19\", \"39\", \"34\", \"103\", \"21\", \"92\", \"106\", \"22\", \"10\", \"62\", \"97\", \"75\", \"93\", \"5\", \"89\", \"61\", \"105\", \"81\", \"69\", \"7\", \"36\", \"63\", \"41\", \"32\", \"53\", \"71\", \"35\", \"65\", \"51\", \"58\", \"67\", \"86\", \"91\", \"79\", \"23\", \"94\", \"98\", \"87\", \"59\", \"38\", \"99\", \"43\", \"116\", \"100\", \"47\", \"118\", \"115\", \"108\", \"78\", \"122\", \"124\", \"114\", \"110\", \"120\", \"84\", \"109\", \"56\", \"48\", \"111\", \"123\", \"90\", \"121\", \"20\", \"104\", \"24\", \"119\", \"50\"], \"type\": \"bar\", \"uid\": \"9c9add9e-5401-45e8-9462-aee498995c16\"}], {\"autosize\": false, \"height\": 1000, \"width\": 1000, \"xaxis\": {\"tickfont\": {\"color\": \"black\", \"size\": 12}, \"title\": \"Feature Importances\"}, \"yaxis\": {\"automargin\": true}}, {\"showLink\": true, \"linkText\": \"Export to plot.ly\", \"plotlyServerURL\": \"https://plot.ly\"})});</script>"
      ]
     },
     "metadata": {},
     "output_type": "display_data"
    },
    {
     "name": "stdout",
     "output_type": "stream",
     "text": [
      "\n",
      "\n",
      "\u001b[1mXGB Classifier\u001b[0m\n",
      "Accuracy of the model for training data is: 0.9807131398570803\n",
      "Confusion Matrix for training data is:\n"
     ]
    },
    {
     "data": {
      "text/plain": [
       "Predicted  False  True  __all__\n",
       "Actual                         \n",
       "False      24192   135    24327\n",
       "True         394  2707     3101\n",
       "__all__    24586  2842    27428"
      ]
     },
     "metadata": {},
     "output_type": "display_data"
    },
    {
     "name": "stdout",
     "output_type": "stream",
     "text": [
      "Accuracy of the model for test data is: 0.9757549978732454\n",
      "Confusion Matrix for test data is:\n"
     ]
    },
    {
     "data": {
      "text/plain": [
       "Predicted  False  True  __all__\n",
       "Actual                         \n",
       "False      10342    73    10415\n",
       "True         212  1128     1340\n",
       "__all__    10554  1201    11755"
      ]
     },
     "metadata": {},
     "output_type": "display_data"
    },
    {
     "data": {
      "application/vnd.plotly.v1+json": {
       "config": {
        "linkText": "Export to plot.ly",
        "plotlyServerURL": "https://plot.ly",
        "showLink": true
       },
       "data": [
        {
         "marker": {
          "color": "rgb(158,202,225)",
          "line": {
           "color": "rgb(8,48,107)",
           "width": 1.5
          }
         },
         "opacity": 0.6,
         "orientation": "h",
         "text": [
          0.1424,
          0.0921,
          0.0705,
          0.0446,
          0.0403,
          0.0403,
          0.0288,
          0.023,
          0.023,
          0.0187,
          0.0187,
          0.0187,
          0.0158,
          0.0158,
          0.0144,
          0.0144,
          0.0144,
          0.0129,
          0.0129,
          0.0101,
          0.0101,
          0.0101,
          0.0101,
          0.0086,
          0.0086,
          0.0086,
          0.0086,
          0.0086,
          0.0086,
          0.0072,
          0.0072,
          0.0072,
          0.0072,
          0.0072,
          0.0058,
          0.0058,
          0.0058,
          0.0058,
          0.0058,
          0.0058,
          0.0058,
          0.0058,
          0.0058,
          0.0058,
          0.0058,
          0.0058,
          0.0043,
          0.0043,
          0.0043,
          0.0043,
          0.0043,
          0.0043,
          0.0043,
          0.0043,
          0.0043,
          0.0043,
          0.0043,
          0.0043,
          0.0043,
          0.0043,
          0.0043,
          0.0043,
          0.0029,
          0.0029,
          0.0029,
          0.0029,
          0.0029,
          0.0029,
          0.0029,
          0.0029,
          0.0029,
          0.0029,
          0.0029,
          0.0029,
          0.0029,
          0.0029,
          0.0029,
          0.0029,
          0.0029,
          0.0029,
          0.0014,
          0.0014,
          0.0014,
          0.0014,
          0.0014,
          0.0014,
          0.0014,
          0.0014,
          0.0014,
          0.0014,
          0.0014,
          0.0014,
          0.0014,
          0.0014,
          0,
          0,
          0,
          0,
          0,
          0,
          0,
          0,
          0,
          0,
          0,
          0,
          0,
          0,
          0,
          0,
          0,
          0,
          0,
          0,
          0,
          0,
          0,
          0,
          0,
          0,
          0,
          0,
          0,
          0,
          0
         ],
         "textposition": "outside",
         "type": "bar",
         "uid": "7ebed8b7-acab-4eb1-8a7f-c96acc75ecb5",
         "x": [
          0.14244604110717773,
          0.09208633005619049,
          0.0705035999417305,
          0.04460431635379791,
          0.040287770330905914,
          0.040287770330905914,
          0.028776979073882103,
          0.023021582514047623,
          0.023021582514047623,
          0.018705036491155624,
          0.018705036491155624,
          0.018705036491155624,
          0.01582733727991581,
          0.01582733727991581,
          0.014388489536941051,
          0.014388489536941051,
          0.014388489536941051,
          0.012949639931321144,
          0.012949639931321144,
          0.010071942582726479,
          0.010071942582726479,
          0.010071942582726479,
          0.010071942582726479,
          0.008633093908429146,
          0.008633093908429146,
          0.008633093908429146,
          0.008633093908429146,
          0.008633093908429146,
          0.008633093908429146,
          0.007194244768470526,
          0.007194244768470526,
          0.007194244768470526,
          0.007194244768470526,
          0.007194244768470526,
          0.005755395628511906,
          0.005755395628511906,
          0.005755395628511906,
          0.005755395628511906,
          0.005755395628511906,
          0.005755395628511906,
          0.005755395628511906,
          0.005755395628511906,
          0.005755395628511906,
          0.005755395628511906,
          0.005755395628511906,
          0.005755395628511906,
          0.004316546954214573,
          0.004316546954214573,
          0.004316546954214573,
          0.004316546954214573,
          0.004316546954214573,
          0.004316546954214573,
          0.004316546954214573,
          0.004316546954214573,
          0.004316546954214573,
          0.004316546954214573,
          0.004316546954214573,
          0.004316546954214573,
          0.004316546954214573,
          0.004316546954214573,
          0.004316546954214573,
          0.004316546954214573,
          0.002877697814255953,
          0.002877697814255953,
          0.002877697814255953,
          0.002877697814255953,
          0.002877697814255953,
          0.002877697814255953,
          0.002877697814255953,
          0.002877697814255953,
          0.002877697814255953,
          0.002877697814255953,
          0.002877697814255953,
          0.002877697814255953,
          0.002877697814255953,
          0.002877697814255953,
          0.002877697814255953,
          0.002877697814255953,
          0.002877697814255953,
          0.002877697814255953,
          0.0014388489071279764,
          0.0014388489071279764,
          0.0014388489071279764,
          0.0014388489071279764,
          0.0014388489071279764,
          0.0014388489071279764,
          0.0014388489071279764,
          0.0014388489071279764,
          0.0014388489071279764,
          0.0014388489071279764,
          0.0014388489071279764,
          0.0014388489071279764,
          0.0014388489071279764,
          0.0014388489071279764,
          0,
          0,
          0,
          0,
          0,
          0,
          0,
          0,
          0,
          0,
          0,
          0,
          0,
          0,
          0,
          0,
          0,
          0,
          0,
          0,
          0,
          0,
          0,
          0,
          0,
          0,
          0,
          0,
          0,
          0,
          0
         ],
         "y": [
          "0",
          "3",
          "8",
          "16",
          "4",
          "17",
          "26",
          "46",
          "31",
          "45",
          "29",
          "74",
          "25",
          "2",
          "54",
          "112",
          "24",
          "109",
          "66",
          "58",
          "5",
          "122",
          "72",
          "113",
          "13",
          "42",
          "33",
          "87",
          "40",
          "32",
          "102",
          "41",
          "77",
          "103",
          "60",
          "57",
          "79",
          "53",
          "49",
          "82",
          "91",
          "63",
          "62",
          "11",
          "37",
          "22",
          "84",
          "1",
          "117",
          "115",
          "107",
          "96",
          "15",
          "44",
          "20",
          "75",
          "124",
          "48",
          "52",
          "38",
          "36",
          "55",
          "21",
          "101",
          "108",
          "10",
          "95",
          "94",
          "92",
          "88",
          "114",
          "118",
          "35",
          "34",
          "23",
          "123",
          "61",
          "69",
          "27",
          "68",
          "6",
          "110",
          "99",
          "90",
          "71",
          "65",
          "28",
          "85",
          "120",
          "83",
          "18",
          "39",
          "70",
          "76",
          "47",
          "106",
          "105",
          "119",
          "9",
          "121",
          "111",
          "7",
          "104",
          "116",
          "14",
          "12",
          "100",
          "59",
          "56",
          "64",
          "67",
          "73",
          "78",
          "19",
          "80",
          "81",
          "86",
          "51",
          "89",
          "30",
          "93",
          "50",
          "97",
          "98",
          "43"
         ]
        }
       ],
       "layout": {
        "autosize": false,
        "height": 1000,
        "width": 1000,
        "xaxis": {
         "tickfont": {
          "color": "black",
          "size": 12
         },
         "title": "Feature Importances"
        },
        "yaxis": {
         "automargin": true
        }
       }
      },
      "text/html": [
       "<div id=\"8fa48246-8d2b-4e32-86af-dc36a9a636fd\" style=\"height: 1000px; width: 1000px;\" class=\"plotly-graph-div\"></div><script type=\"text/javascript\">require([\"plotly\"], function(Plotly) { window.PLOTLYENV=window.PLOTLYENV || {};window.PLOTLYENV.BASE_URL=\"https://plot.ly\";Plotly.newPlot(\"8fa48246-8d2b-4e32-86af-dc36a9a636fd\", [{\"marker\": {\"color\": \"rgb(158,202,225)\", \"line\": {\"color\": \"rgb(8,48,107)\", \"width\": 1.5}}, \"opacity\": 0.6, \"orientation\": \"h\", \"text\": [0.1424, 0.0921, 0.0705, 0.0446, 0.0403, 0.0403, 0.0288, 0.023, 0.023, 0.0187, 0.0187, 0.0187, 0.0158, 0.0158, 0.0144, 0.0144, 0.0144, 0.0129, 0.0129, 0.0101, 0.0101, 0.0101, 0.0101, 0.0086, 0.0086, 0.0086, 0.0086, 0.0086, 0.0086, 0.0072, 0.0072, 0.0072, 0.0072, 0.0072, 0.0058, 0.0058, 0.0058, 0.0058, 0.0058, 0.0058, 0.0058, 0.0058, 0.0058, 0.0058, 0.0058, 0.0058, 0.0043, 0.0043, 0.0043, 0.0043, 0.0043, 0.0043, 0.0043, 0.0043, 0.0043, 0.0043, 0.0043, 0.0043, 0.0043, 0.0043, 0.0043, 0.0043, 0.0029, 0.0029, 0.0029, 0.0029, 0.0029, 0.0029, 0.0029, 0.0029, 0.0029, 0.0029, 0.0029, 0.0029, 0.0029, 0.0029, 0.0029, 0.0029, 0.0029, 0.0029, 0.0014, 0.0014, 0.0014, 0.0014, 0.0014, 0.0014, 0.0014, 0.0014, 0.0014, 0.0014, 0.0014, 0.0014, 0.0014, 0.0014, 0.0, 0.0, 0.0, 0.0, 0.0, 0.0, 0.0, 0.0, 0.0, 0.0, 0.0, 0.0, 0.0, 0.0, 0.0, 0.0, 0.0, 0.0, 0.0, 0.0, 0.0, 0.0, 0.0, 0.0, 0.0, 0.0, 0.0, 0.0, 0.0, 0.0, 0.0], \"textposition\": \"outside\", \"x\": [0.14244604110717773, 0.09208633005619049, 0.0705035999417305, 0.04460431635379791, 0.040287770330905914, 0.040287770330905914, 0.028776979073882103, 0.023021582514047623, 0.023021582514047623, 0.018705036491155624, 0.018705036491155624, 0.018705036491155624, 0.01582733727991581, 0.01582733727991581, 0.014388489536941051, 0.014388489536941051, 0.014388489536941051, 0.012949639931321144, 0.012949639931321144, 0.010071942582726479, 0.010071942582726479, 0.010071942582726479, 0.010071942582726479, 0.008633093908429146, 0.008633093908429146, 0.008633093908429146, 0.008633093908429146, 0.008633093908429146, 0.008633093908429146, 0.007194244768470526, 0.007194244768470526, 0.007194244768470526, 0.007194244768470526, 0.007194244768470526, 0.005755395628511906, 0.005755395628511906, 0.005755395628511906, 0.005755395628511906, 0.005755395628511906, 0.005755395628511906, 0.005755395628511906, 0.005755395628511906, 0.005755395628511906, 0.005755395628511906, 0.005755395628511906, 0.005755395628511906, 0.004316546954214573, 0.004316546954214573, 0.004316546954214573, 0.004316546954214573, 0.004316546954214573, 0.004316546954214573, 0.004316546954214573, 0.004316546954214573, 0.004316546954214573, 0.004316546954214573, 0.004316546954214573, 0.004316546954214573, 0.004316546954214573, 0.004316546954214573, 0.004316546954214573, 0.004316546954214573, 0.002877697814255953, 0.002877697814255953, 0.002877697814255953, 0.002877697814255953, 0.002877697814255953, 0.002877697814255953, 0.002877697814255953, 0.002877697814255953, 0.002877697814255953, 0.002877697814255953, 0.002877697814255953, 0.002877697814255953, 0.002877697814255953, 0.002877697814255953, 0.002877697814255953, 0.002877697814255953, 0.002877697814255953, 0.002877697814255953, 0.0014388489071279764, 0.0014388489071279764, 0.0014388489071279764, 0.0014388489071279764, 0.0014388489071279764, 0.0014388489071279764, 0.0014388489071279764, 0.0014388489071279764, 0.0014388489071279764, 0.0014388489071279764, 0.0014388489071279764, 0.0014388489071279764, 0.0014388489071279764, 0.0014388489071279764, 0.0, 0.0, 0.0, 0.0, 0.0, 0.0, 0.0, 0.0, 0.0, 0.0, 0.0, 0.0, 0.0, 0.0, 0.0, 0.0, 0.0, 0.0, 0.0, 0.0, 0.0, 0.0, 0.0, 0.0, 0.0, 0.0, 0.0, 0.0, 0.0, 0.0, 0.0], \"y\": [\"0\", \"3\", \"8\", \"16\", \"4\", \"17\", \"26\", \"46\", \"31\", \"45\", \"29\", \"74\", \"25\", \"2\", \"54\", \"112\", \"24\", \"109\", \"66\", \"58\", \"5\", \"122\", \"72\", \"113\", \"13\", \"42\", \"33\", \"87\", \"40\", \"32\", \"102\", \"41\", \"77\", \"103\", \"60\", \"57\", \"79\", \"53\", \"49\", \"82\", \"91\", \"63\", \"62\", \"11\", \"37\", \"22\", \"84\", \"1\", \"117\", \"115\", \"107\", \"96\", \"15\", \"44\", \"20\", \"75\", \"124\", \"48\", \"52\", \"38\", \"36\", \"55\", \"21\", \"101\", \"108\", \"10\", \"95\", \"94\", \"92\", \"88\", \"114\", \"118\", \"35\", \"34\", \"23\", \"123\", \"61\", \"69\", \"27\", \"68\", \"6\", \"110\", \"99\", \"90\", \"71\", \"65\", \"28\", \"85\", \"120\", \"83\", \"18\", \"39\", \"70\", \"76\", \"47\", \"106\", \"105\", \"119\", \"9\", \"121\", \"111\", \"7\", \"104\", \"116\", \"14\", \"12\", \"100\", \"59\", \"56\", \"64\", \"67\", \"73\", \"78\", \"19\", \"80\", \"81\", \"86\", \"51\", \"89\", \"30\", \"93\", \"50\", \"97\", \"98\", \"43\"], \"type\": \"bar\", \"uid\": \"7ebed8b7-acab-4eb1-8a7f-c96acc75ecb5\"}], {\"autosize\": false, \"height\": 1000, \"width\": 1000, \"xaxis\": {\"tickfont\": {\"color\": \"black\", \"size\": 12}, \"title\": \"Feature Importances\"}, \"yaxis\": {\"automargin\": true}}, {\"showLink\": true, \"linkText\": \"Export to plot.ly\", \"plotlyServerURL\": \"https://plot.ly\"})});</script>"
      ],
      "text/vnd.plotly.v1+html": [
       "<div id=\"8fa48246-8d2b-4e32-86af-dc36a9a636fd\" style=\"height: 1000px; width: 1000px;\" class=\"plotly-graph-div\"></div><script type=\"text/javascript\">require([\"plotly\"], function(Plotly) { window.PLOTLYENV=window.PLOTLYENV || {};window.PLOTLYENV.BASE_URL=\"https://plot.ly\";Plotly.newPlot(\"8fa48246-8d2b-4e32-86af-dc36a9a636fd\", [{\"marker\": {\"color\": \"rgb(158,202,225)\", \"line\": {\"color\": \"rgb(8,48,107)\", \"width\": 1.5}}, \"opacity\": 0.6, \"orientation\": \"h\", \"text\": [0.1424, 0.0921, 0.0705, 0.0446, 0.0403, 0.0403, 0.0288, 0.023, 0.023, 0.0187, 0.0187, 0.0187, 0.0158, 0.0158, 0.0144, 0.0144, 0.0144, 0.0129, 0.0129, 0.0101, 0.0101, 0.0101, 0.0101, 0.0086, 0.0086, 0.0086, 0.0086, 0.0086, 0.0086, 0.0072, 0.0072, 0.0072, 0.0072, 0.0072, 0.0058, 0.0058, 0.0058, 0.0058, 0.0058, 0.0058, 0.0058, 0.0058, 0.0058, 0.0058, 0.0058, 0.0058, 0.0043, 0.0043, 0.0043, 0.0043, 0.0043, 0.0043, 0.0043, 0.0043, 0.0043, 0.0043, 0.0043, 0.0043, 0.0043, 0.0043, 0.0043, 0.0043, 0.0029, 0.0029, 0.0029, 0.0029, 0.0029, 0.0029, 0.0029, 0.0029, 0.0029, 0.0029, 0.0029, 0.0029, 0.0029, 0.0029, 0.0029, 0.0029, 0.0029, 0.0029, 0.0014, 0.0014, 0.0014, 0.0014, 0.0014, 0.0014, 0.0014, 0.0014, 0.0014, 0.0014, 0.0014, 0.0014, 0.0014, 0.0014, 0.0, 0.0, 0.0, 0.0, 0.0, 0.0, 0.0, 0.0, 0.0, 0.0, 0.0, 0.0, 0.0, 0.0, 0.0, 0.0, 0.0, 0.0, 0.0, 0.0, 0.0, 0.0, 0.0, 0.0, 0.0, 0.0, 0.0, 0.0, 0.0, 0.0, 0.0], \"textposition\": \"outside\", \"x\": [0.14244604110717773, 0.09208633005619049, 0.0705035999417305, 0.04460431635379791, 0.040287770330905914, 0.040287770330905914, 0.028776979073882103, 0.023021582514047623, 0.023021582514047623, 0.018705036491155624, 0.018705036491155624, 0.018705036491155624, 0.01582733727991581, 0.01582733727991581, 0.014388489536941051, 0.014388489536941051, 0.014388489536941051, 0.012949639931321144, 0.012949639931321144, 0.010071942582726479, 0.010071942582726479, 0.010071942582726479, 0.010071942582726479, 0.008633093908429146, 0.008633093908429146, 0.008633093908429146, 0.008633093908429146, 0.008633093908429146, 0.008633093908429146, 0.007194244768470526, 0.007194244768470526, 0.007194244768470526, 0.007194244768470526, 0.007194244768470526, 0.005755395628511906, 0.005755395628511906, 0.005755395628511906, 0.005755395628511906, 0.005755395628511906, 0.005755395628511906, 0.005755395628511906, 0.005755395628511906, 0.005755395628511906, 0.005755395628511906, 0.005755395628511906, 0.005755395628511906, 0.004316546954214573, 0.004316546954214573, 0.004316546954214573, 0.004316546954214573, 0.004316546954214573, 0.004316546954214573, 0.004316546954214573, 0.004316546954214573, 0.004316546954214573, 0.004316546954214573, 0.004316546954214573, 0.004316546954214573, 0.004316546954214573, 0.004316546954214573, 0.004316546954214573, 0.004316546954214573, 0.002877697814255953, 0.002877697814255953, 0.002877697814255953, 0.002877697814255953, 0.002877697814255953, 0.002877697814255953, 0.002877697814255953, 0.002877697814255953, 0.002877697814255953, 0.002877697814255953, 0.002877697814255953, 0.002877697814255953, 0.002877697814255953, 0.002877697814255953, 0.002877697814255953, 0.002877697814255953, 0.002877697814255953, 0.002877697814255953, 0.0014388489071279764, 0.0014388489071279764, 0.0014388489071279764, 0.0014388489071279764, 0.0014388489071279764, 0.0014388489071279764, 0.0014388489071279764, 0.0014388489071279764, 0.0014388489071279764, 0.0014388489071279764, 0.0014388489071279764, 0.0014388489071279764, 0.0014388489071279764, 0.0014388489071279764, 0.0, 0.0, 0.0, 0.0, 0.0, 0.0, 0.0, 0.0, 0.0, 0.0, 0.0, 0.0, 0.0, 0.0, 0.0, 0.0, 0.0, 0.0, 0.0, 0.0, 0.0, 0.0, 0.0, 0.0, 0.0, 0.0, 0.0, 0.0, 0.0, 0.0, 0.0], \"y\": [\"0\", \"3\", \"8\", \"16\", \"4\", \"17\", \"26\", \"46\", \"31\", \"45\", \"29\", \"74\", \"25\", \"2\", \"54\", \"112\", \"24\", \"109\", \"66\", \"58\", \"5\", \"122\", \"72\", \"113\", \"13\", \"42\", \"33\", \"87\", \"40\", \"32\", \"102\", \"41\", \"77\", \"103\", \"60\", \"57\", \"79\", \"53\", \"49\", \"82\", \"91\", \"63\", \"62\", \"11\", \"37\", \"22\", \"84\", \"1\", \"117\", \"115\", \"107\", \"96\", \"15\", \"44\", \"20\", \"75\", \"124\", \"48\", \"52\", \"38\", \"36\", \"55\", \"21\", \"101\", \"108\", \"10\", \"95\", \"94\", \"92\", \"88\", \"114\", \"118\", \"35\", \"34\", \"23\", \"123\", \"61\", \"69\", \"27\", \"68\", \"6\", \"110\", \"99\", \"90\", \"71\", \"65\", \"28\", \"85\", \"120\", \"83\", \"18\", \"39\", \"70\", \"76\", \"47\", \"106\", \"105\", \"119\", \"9\", \"121\", \"111\", \"7\", \"104\", \"116\", \"14\", \"12\", \"100\", \"59\", \"56\", \"64\", \"67\", \"73\", \"78\", \"19\", \"80\", \"81\", \"86\", \"51\", \"89\", \"30\", \"93\", \"50\", \"97\", \"98\", \"43\"], \"type\": \"bar\", \"uid\": \"7ebed8b7-acab-4eb1-8a7f-c96acc75ecb5\"}], {\"autosize\": false, \"height\": 1000, \"width\": 1000, \"xaxis\": {\"tickfont\": {\"color\": \"black\", \"size\": 12}, \"title\": \"Feature Importances\"}, \"yaxis\": {\"automargin\": true}}, {\"showLink\": true, \"linkText\": \"Export to plot.ly\", \"plotlyServerURL\": \"https://plot.ly\"})});</script>"
      ]
     },
     "metadata": {},
     "output_type": "display_data"
    },
    {
     "name": "stdout",
     "output_type": "stream",
     "text": [
      "\n",
      "\n",
      "\u001b[1mBagging Classifier\u001b[0m\n",
      "Accuracy of the model for training data is: 0.9967915998249963\n",
      "Confusion Matrix for training data is:\n"
     ]
    },
    {
     "data": {
      "text/plain": [
       "Predicted  False  True  __all__\n",
       "Actual                         \n",
       "False      24314    13    24327\n",
       "True          75  3026     3101\n",
       "__all__    24389  3039    27428"
      ]
     },
     "metadata": {},
     "output_type": "display_data"
    },
    {
     "name": "stdout",
     "output_type": "stream",
     "text": [
      "Accuracy of the model for test data is: 0.9746490854955339\n",
      "Confusion Matrix for test data is:\n"
     ]
    },
    {
     "data": {
      "text/plain": [
       "Predicted  False  True  __all__\n",
       "Actual                         \n",
       "False      10327    88    10415\n",
       "True         210  1130     1340\n",
       "__all__    10537  1218    11755"
      ]
     },
     "metadata": {},
     "output_type": "display_data"
    },
    {
     "name": "stdout",
     "output_type": "stream",
     "text": [
      "\n",
      "\n",
      "\u001b[1mNeural Network-1\u001b[0m\n",
      "The accuracy of the model on training data is: 0.9964634679889164\n"
     ]
    },
    {
     "data": {
      "text/plain": [
       "Predicted  False  True  __all__\n",
       "Actual                         \n",
       "False      24313    14    24327\n",
       "True          83  3018     3101\n",
       "__all__    24396  3032    27428"
      ]
     },
     "metadata": {},
     "output_type": "display_data"
    },
    {
     "name": "stdout",
     "output_type": "stream",
     "text": [
      "The accuracy of the model on test data is: 0.9772862611654615\n"
     ]
    },
    {
     "data": {
      "text/plain": [
       "Predicted  False  True  __all__\n",
       "Actual                         \n",
       "False      10315   100    10415\n",
       "True         167  1173     1340\n",
       "__all__    10482  1273    11755"
      ]
     },
     "metadata": {},
     "output_type": "display_data"
    },
    {
     "name": "stdout",
     "output_type": "stream",
     "text": [
      "\n",
      "\n"
     ]
    }
   ],
   "source": [
    "table_80_50_train=pd.DataFrame(columns=['accuracy','TP','TN','FP','FN','FPR','FNR'])\n",
    "table_80_50_test=pd.DataFrame(columns=['accuracy','TP','TN','FP','FN','FPR','FNR','auc','MCC','Precision','Recall'])\n",
    "\n",
    "feat_imp=[None]*5\n",
    "j=0\n",
    "for i in range(0,8):\n",
    "    if i>=1 and i<=5:\n",
    "        model,cm_train,cm_test,acc_train,acc_test,roc_auc,feat_imp[j],mcc,prec,rec=f[i](X_train,Y_train,X_test,Y_test,np.arange(0,125).astype(str))\n",
    "        j=j+1\n",
    "    else:\n",
    "        model,cm_train,cm_test,acc_train,acc_test,roc_auc,mcc,prec,rec=f[i](X_train,Y_train,X_test,Y_test)\n",
    "    table_80_50_train.loc[i]=   ([acc_train,cm_train.TP,cm_train.TN,cm_train.FP,cm_train.FN,cm_train.FPR,cm_train.FNR])\n",
    "    table_80_50_test.loc[i] =   ([acc_test ,cm_test.TP, cm_test.TN, cm_test.FP, cm_test.FN, cm_test.FPR, cm_test.FNR,roc_auc,mcc,prec,rec])\n",
    "    print(\"\\n\")"
   ]
  },
  {
   "cell_type": "code",
   "execution_count": 38,
   "metadata": {},
   "outputs": [
    {
     "data": {
      "application/vnd.plotly.v1+json": {
       "config": {
        "linkText": "Export to plot.ly",
        "plotlyServerURL": "https://plot.ly",
        "showLink": true
       },
       "data": [
        {
         "mode": "lines",
         "name": "KNN_model",
         "type": "scatter",
         "uid": "72c838da-2bdf-4524-a2c9-3aaf0c36e130",
         "x": [
          "accuracy",
          "auc",
          "MCC",
          "Precision",
          "Recall"
         ],
         "y": [
          0.9739685240323267,
          0.9033777344673656,
          0.8657087765018587,
          0.9527145359019265,
          0.8119402985074626
         ]
        },
        {
         "mode": "lines+markers",
         "name": "XGB",
         "type": "scatter",
         "uid": "c1b43af3-d3b9-4151-950b-4e757254454c",
         "x": [
          "accuracy",
          "auc",
          "MCC",
          "Precision",
          "Recall"
         ],
         "y": [
          0.9757549978732454,
          0.9173909616583429,
          0.875941340992264,
          0.9392173189009159,
          0.8417910447761194
         ]
        },
        {
         "marker": {
          "symbol": "x"
         },
         "mode": "lines+markers",
         "name": "Random Forest",
         "type": "scatter",
         "uid": "578b60cd-2638-424f-82c6-39263d7df61d",
         "x": [
          "accuracy",
          "auc",
          "MCC",
          "Precision",
          "Recall"
         ],
         "y": [
          0.9743938749468312,
          0.905893659403415,
          0.868064064059442,
          0.9513466550825369,
          0.8171641791044776
         ]
        },
        {
         "mode": "lines",
         "name": "Ada Boost",
         "type": "scatter",
         "uid": "5da15fca-1f7a-41dc-8fae-6fc19eb81ea8",
         "x": [
          "accuracy",
          "auc",
          "MCC",
          "Precision",
          "Recall"
         ],
         "y": [
          0.9702254359846874,
          0.9126448291428121,
          0.8490233838217964,
          0.8941082802547771,
          0.8380597014925373
         ]
        },
        {
         "mode": "lines+markers",
         "name": "GradientBoosting",
         "type": "scatter",
         "uid": "d47a9656-5fe0-47d5-8346-3ae3ff7dae6e",
         "x": [
          "accuracy",
          "auc",
          "MCC",
          "Precision",
          "Recall"
         ],
         "y": [
          0.9740535942152275,
          0.9161056813866338,
          0.8675129045051803,
          0.9245283018867925,
          0.841044776119403
         ]
        },
        {
         "marker": {
          "symbol": "x"
         },
         "mode": "lines+markers",
         "name": "ExtraTree Classifier",
         "type": "scatter",
         "uid": "a1b071af-1a78-4ac9-9227-94bb06038e14",
         "x": [
          "accuracy",
          "auc",
          "MCC",
          "Precision",
          "Recall"
         ],
         "y": [
          0.9722671203743088,
          0.8936391613702969,
          0.8563017323968601,
          0.9575812274368231,
          0.7917910447761194
         ]
        },
        {
         "marker": {
          "symbol": "x"
         },
         "mode": "lines+markers",
         "name": "Bagging",
         "type": "scatter",
         "uid": "12b8c4e7-d7ce-4880-949c-0653e2da751a",
         "x": [
          "accuracy",
          "auc",
          "MCC",
          "Precision",
          "Recall"
         ],
         "y": [
          0.9746490854955339,
          0.9174171150966244,
          0.8705628894586064,
          0.9277504105090312,
          0.8432835820895522
         ]
        },
        {
         "marker": {
          "symbol": "x"
         },
         "mode": "lines+markers",
         "name": "Neural Network",
         "type": "scatter",
         "uid": "fccca503-38d9-47bf-8ff6-dafd95ea848f",
         "x": [
          "accuracy",
          "auc",
          "MCC",
          "Precision",
          "Recall"
         ],
         "y": [
          0.9772862611654615,
          0.9174171150966244,
          0.8854195182246949,
          0.9214454045561665,
          0.8753731343283582
         ]
        }
       ],
       "layout": {
        "title": "Result comparision for Features selected in Section 1",
        "yaxis": {
         "dtick": 0.05,
         "tick0": 0
        }
       }
      },
      "text/html": [
       "<div id=\"d4c9469f-23a3-4817-8835-053026e6269d\" style=\"height: 525px; width: 100%;\" class=\"plotly-graph-div\"></div><script type=\"text/javascript\">require([\"plotly\"], function(Plotly) { window.PLOTLYENV=window.PLOTLYENV || {};window.PLOTLYENV.BASE_URL=\"https://plot.ly\";Plotly.newPlot(\"d4c9469f-23a3-4817-8835-053026e6269d\", [{\"mode\": \"lines\", \"name\": \"KNN_model\", \"x\": [\"accuracy\", \"auc\", \"MCC\", \"Precision\", \"Recall\"], \"y\": [0.9739685240323267, 0.9033777344673656, 0.8657087765018587, 0.9527145359019265, 0.8119402985074626], \"type\": \"scatter\", \"uid\": \"72c838da-2bdf-4524-a2c9-3aaf0c36e130\"}, {\"mode\": \"lines+markers\", \"name\": \"XGB\", \"x\": [\"accuracy\", \"auc\", \"MCC\", \"Precision\", \"Recall\"], \"y\": [0.9757549978732454, 0.9173909616583429, 0.875941340992264, 0.9392173189009159, 0.8417910447761194], \"type\": \"scatter\", \"uid\": \"c1b43af3-d3b9-4151-950b-4e757254454c\"}, {\"marker\": {\"symbol\": \"x\"}, \"mode\": \"lines+markers\", \"name\": \"Random Forest\", \"x\": [\"accuracy\", \"auc\", \"MCC\", \"Precision\", \"Recall\"], \"y\": [0.9743938749468312, 0.905893659403415, 0.868064064059442, 0.9513466550825369, 0.8171641791044776], \"type\": \"scatter\", \"uid\": \"578b60cd-2638-424f-82c6-39263d7df61d\"}, {\"mode\": \"lines\", \"name\": \"Ada Boost\", \"x\": [\"accuracy\", \"auc\", \"MCC\", \"Precision\", \"Recall\"], \"y\": [0.9702254359846874, 0.9126448291428121, 0.8490233838217964, 0.8941082802547771, 0.8380597014925373], \"type\": \"scatter\", \"uid\": \"5da15fca-1f7a-41dc-8fae-6fc19eb81ea8\"}, {\"mode\": \"lines+markers\", \"name\": \"GradientBoosting\", \"x\": [\"accuracy\", \"auc\", \"MCC\", \"Precision\", \"Recall\"], \"y\": [0.9740535942152275, 0.9161056813866338, 0.8675129045051803, 0.9245283018867925, 0.841044776119403], \"type\": \"scatter\", \"uid\": \"d47a9656-5fe0-47d5-8346-3ae3ff7dae6e\"}, {\"marker\": {\"symbol\": \"x\"}, \"mode\": \"lines+markers\", \"name\": \"ExtraTree Classifier\", \"x\": [\"accuracy\", \"auc\", \"MCC\", \"Precision\", \"Recall\"], \"y\": [0.9722671203743088, 0.8936391613702969, 0.8563017323968601, 0.9575812274368231, 0.7917910447761194], \"type\": \"scatter\", \"uid\": \"a1b071af-1a78-4ac9-9227-94bb06038e14\"}, {\"marker\": {\"symbol\": \"x\"}, \"mode\": \"lines+markers\", \"name\": \"Bagging\", \"x\": [\"accuracy\", \"auc\", \"MCC\", \"Precision\", \"Recall\"], \"y\": [0.9746490854955339, 0.9174171150966244, 0.8705628894586064, 0.9277504105090312, 0.8432835820895522], \"type\": \"scatter\", \"uid\": \"12b8c4e7-d7ce-4880-949c-0653e2da751a\"}, {\"marker\": {\"symbol\": \"x\"}, \"mode\": \"lines+markers\", \"name\": \"Neural Network\", \"x\": [\"accuracy\", \"auc\", \"MCC\", \"Precision\", \"Recall\"], \"y\": [0.9772862611654615, 0.9174171150966244, 0.8854195182246949, 0.9214454045561665, 0.8753731343283582], \"type\": \"scatter\", \"uid\": \"fccca503-38d9-47bf-8ff6-dafd95ea848f\"}], {\"title\": \"Result comparision for Features selected in Section 1\", \"yaxis\": {\"dtick\": 0.05, \"tick0\": 0}}, {\"showLink\": true, \"linkText\": \"Export to plot.ly\", \"plotlyServerURL\": \"https://plot.ly\"})});</script><script type=\"text/javascript\">window.addEventListener(\"resize\", function(){window._Plotly.Plots.resize(document.getElementById(\"d4c9469f-23a3-4817-8835-053026e6269d\"));});</script>"
      ],
      "text/vnd.plotly.v1+html": [
       "<div id=\"d4c9469f-23a3-4817-8835-053026e6269d\" style=\"height: 525px; width: 100%;\" class=\"plotly-graph-div\"></div><script type=\"text/javascript\">require([\"plotly\"], function(Plotly) { window.PLOTLYENV=window.PLOTLYENV || {};window.PLOTLYENV.BASE_URL=\"https://plot.ly\";Plotly.newPlot(\"d4c9469f-23a3-4817-8835-053026e6269d\", [{\"mode\": \"lines\", \"name\": \"KNN_model\", \"x\": [\"accuracy\", \"auc\", \"MCC\", \"Precision\", \"Recall\"], \"y\": [0.9739685240323267, 0.9033777344673656, 0.8657087765018587, 0.9527145359019265, 0.8119402985074626], \"type\": \"scatter\", \"uid\": \"72c838da-2bdf-4524-a2c9-3aaf0c36e130\"}, {\"mode\": \"lines+markers\", \"name\": \"XGB\", \"x\": [\"accuracy\", \"auc\", \"MCC\", \"Precision\", \"Recall\"], \"y\": [0.9757549978732454, 0.9173909616583429, 0.875941340992264, 0.9392173189009159, 0.8417910447761194], \"type\": \"scatter\", \"uid\": \"c1b43af3-d3b9-4151-950b-4e757254454c\"}, {\"marker\": {\"symbol\": \"x\"}, \"mode\": \"lines+markers\", \"name\": \"Random Forest\", \"x\": [\"accuracy\", \"auc\", \"MCC\", \"Precision\", \"Recall\"], \"y\": [0.9743938749468312, 0.905893659403415, 0.868064064059442, 0.9513466550825369, 0.8171641791044776], \"type\": \"scatter\", \"uid\": \"578b60cd-2638-424f-82c6-39263d7df61d\"}, {\"mode\": \"lines\", \"name\": \"Ada Boost\", \"x\": [\"accuracy\", \"auc\", \"MCC\", \"Precision\", \"Recall\"], \"y\": [0.9702254359846874, 0.9126448291428121, 0.8490233838217964, 0.8941082802547771, 0.8380597014925373], \"type\": \"scatter\", \"uid\": \"5da15fca-1f7a-41dc-8fae-6fc19eb81ea8\"}, {\"mode\": \"lines+markers\", \"name\": \"GradientBoosting\", \"x\": [\"accuracy\", \"auc\", \"MCC\", \"Precision\", \"Recall\"], \"y\": [0.9740535942152275, 0.9161056813866338, 0.8675129045051803, 0.9245283018867925, 0.841044776119403], \"type\": \"scatter\", \"uid\": \"d47a9656-5fe0-47d5-8346-3ae3ff7dae6e\"}, {\"marker\": {\"symbol\": \"x\"}, \"mode\": \"lines+markers\", \"name\": \"ExtraTree Classifier\", \"x\": [\"accuracy\", \"auc\", \"MCC\", \"Precision\", \"Recall\"], \"y\": [0.9722671203743088, 0.8936391613702969, 0.8563017323968601, 0.9575812274368231, 0.7917910447761194], \"type\": \"scatter\", \"uid\": \"a1b071af-1a78-4ac9-9227-94bb06038e14\"}, {\"marker\": {\"symbol\": \"x\"}, \"mode\": \"lines+markers\", \"name\": \"Bagging\", \"x\": [\"accuracy\", \"auc\", \"MCC\", \"Precision\", \"Recall\"], \"y\": [0.9746490854955339, 0.9174171150966244, 0.8705628894586064, 0.9277504105090312, 0.8432835820895522], \"type\": \"scatter\", \"uid\": \"12b8c4e7-d7ce-4880-949c-0653e2da751a\"}, {\"marker\": {\"symbol\": \"x\"}, \"mode\": \"lines+markers\", \"name\": \"Neural Network\", \"x\": [\"accuracy\", \"auc\", \"MCC\", \"Precision\", \"Recall\"], \"y\": [0.9772862611654615, 0.9174171150966244, 0.8854195182246949, 0.9214454045561665, 0.8753731343283582], \"type\": \"scatter\", \"uid\": \"fccca503-38d9-47bf-8ff6-dafd95ea848f\"}], {\"title\": \"Result comparision for Features selected in Section 1\", \"yaxis\": {\"dtick\": 0.05, \"tick0\": 0}}, {\"showLink\": true, \"linkText\": \"Export to plot.ly\", \"plotlyServerURL\": \"https://plot.ly\"})});</script><script type=\"text/javascript\">window.addEventListener(\"resize\", function(){window._Plotly.Plots.resize(document.getElementById(\"d4c9469f-23a3-4817-8835-053026e6269d\"));});</script>"
      ]
     },
     "metadata": {},
     "output_type": "display_data"
    }
   ],
   "source": [
    "trace0 = go.Scatter(x=table_80_50_test.iloc[0].index.values[[0,7,8,9,10]],\n",
    "                    y=table_80_50_test.iloc[0].values[[0,7,8,9,10]],\n",
    "                    mode = 'lines',\n",
    "                    name = 'KNN_model')\n",
    "\n",
    "\n",
    "trace2 = go.Scatter(x=table_80_50_test.iloc[1].index.values[[0,7,8,9,10]],\n",
    "                    y=table_80_50_test.iloc[1].values[[0,7,8,9,10]],\n",
    "                    mode = 'lines+markers',marker=dict(symbol='x'),\n",
    "                    name = 'Random Forest')\n",
    "\n",
    "\n",
    "trace3 = go.Scatter(x=table_80_50_test.iloc[2].index.values[[0,7,8,9,10]],\n",
    "                    y=table_80_50_test.iloc[2].values[[0,7,8,9,10]],\n",
    "                    mode = 'lines',\n",
    "                    name = 'Ada Boost')\n",
    "\n",
    "trace4 = go.Scatter(x=table_80_50_test.iloc[3].index.values[[0,7,8,9,10]],\n",
    "                    y=table_80_50_test.iloc[3].values[[0,7,8,9,10]],\n",
    "                    mode = 'lines+markers',\n",
    "                    name = 'GradientBoosting')\n",
    "\n",
    "trace5 = go.Scatter(x=table_80_50_test.iloc[4].index.values[[0,7,8,9,10]],\n",
    "                    y=table_80_50_test.iloc[4].values[[0,7,8,9,10]],\n",
    "                    mode = 'lines+markers',marker=dict(symbol='x'),\n",
    "                    name = 'ExtraTree Classifier')\n",
    "\n",
    "\n",
    "trace1 = go.Scatter(x=table_80_50_test.iloc[5].index.values[[0,7,8,9,10]],\n",
    "                    y=table_80_50_test.iloc[5].values[[0,7,8,9,10]],\n",
    "                    mode = 'lines+markers',\n",
    "                    name = 'XGB')\n",
    "\n",
    "\n",
    "trace6 = go.Scatter(x=table_80_50_test.iloc[6].index.values[[0,7,8,9,10]],\n",
    "                    y=table_80_50_test.iloc[6].values[[0,7,8,9,10]],\n",
    "                    mode = 'lines+markers',marker=dict(symbol='x'),\n",
    "                    name = 'Bagging')\n",
    "\n",
    "trace7 = go.Scatter(x=table_80_50_test.iloc[7].index.values[[0,7,8,9,10]],\n",
    "                    y=table_80_50_test.iloc[7].values[[0,7,8,9,10]],\n",
    "                    mode = 'lines+markers',marker=dict(symbol='x'),\n",
    "                    name = 'Neural Network')\n",
    "\n",
    "\n",
    "\n",
    "data = [trace0, trace1, trace2, trace3, trace4, trace5, trace6, trace7]\n",
    "layout = go.Layout(yaxis=dict(tick0=0,dtick=0.05),title='Result comparision for Features selected in Section 1')\n",
    "fig = go.Figure(data=data, layout=layout)\n",
    "\n",
    "iplot(fig, filename='Result')"
   ]
  },
  {
   "cell_type": "code",
   "execution_count": 39,
   "metadata": {},
   "outputs": [
    {
     "name": "stdout",
     "output_type": "stream",
     "text": [
      "Training Results\n"
     ]
    },
    {
     "data": {
      "text/html": [
       "<div>\n",
       "<style scoped>\n",
       "    .dataframe tbody tr th:only-of-type {\n",
       "        vertical-align: middle;\n",
       "    }\n",
       "\n",
       "    .dataframe tbody tr th {\n",
       "        vertical-align: top;\n",
       "    }\n",
       "\n",
       "    .dataframe thead th {\n",
       "        text-align: right;\n",
       "    }\n",
       "</style>\n",
       "<table border=\"1\" class=\"dataframe\">\n",
       "  <thead>\n",
       "    <tr style=\"text-align: right;\">\n",
       "      <th></th>\n",
       "      <th>accuracy</th>\n",
       "      <th>TP</th>\n",
       "      <th>TN</th>\n",
       "      <th>FP</th>\n",
       "      <th>FN</th>\n",
       "      <th>FPR</th>\n",
       "      <th>FNR</th>\n",
       "    </tr>\n",
       "    <tr>\n",
       "      <th>index</th>\n",
       "      <th></th>\n",
       "      <th></th>\n",
       "      <th></th>\n",
       "      <th></th>\n",
       "      <th></th>\n",
       "      <th></th>\n",
       "      <th></th>\n",
       "    </tr>\n",
       "  </thead>\n",
       "  <tbody>\n",
       "    <tr>\n",
       "      <th>KNeighborsClassifier</th>\n",
       "      <td>0.981661</td>\n",
       "      <td>2694.0</td>\n",
       "      <td>24231.0</td>\n",
       "      <td>96.0</td>\n",
       "      <td>407.0</td>\n",
       "      <td>0.003946</td>\n",
       "      <td>0.131248</td>\n",
       "    </tr>\n",
       "    <tr>\n",
       "      <th>RandomForestClassifier</th>\n",
       "      <td>0.996172</td>\n",
       "      <td>3007.0</td>\n",
       "      <td>24316.0</td>\n",
       "      <td>11.0</td>\n",
       "      <td>94.0</td>\n",
       "      <td>0.000452</td>\n",
       "      <td>0.030313</td>\n",
       "    </tr>\n",
       "    <tr>\n",
       "      <th>AdaBoostClassifier</th>\n",
       "      <td>0.973275</td>\n",
       "      <td>2640.0</td>\n",
       "      <td>24055.0</td>\n",
       "      <td>272.0</td>\n",
       "      <td>461.0</td>\n",
       "      <td>0.011181</td>\n",
       "      <td>0.148662</td>\n",
       "    </tr>\n",
       "    <tr>\n",
       "      <th>GradientBoostingClassifier</th>\n",
       "      <td>0.981041</td>\n",
       "      <td>2713.0</td>\n",
       "      <td>24195.0</td>\n",
       "      <td>132.0</td>\n",
       "      <td>388.0</td>\n",
       "      <td>0.005426</td>\n",
       "      <td>0.125121</td>\n",
       "    </tr>\n",
       "    <tr>\n",
       "      <th>ExtraTreeClassifier</th>\n",
       "      <td>0.998542</td>\n",
       "      <td>3064.0</td>\n",
       "      <td>24324.0</td>\n",
       "      <td>3.0</td>\n",
       "      <td>37.0</td>\n",
       "      <td>0.000123</td>\n",
       "      <td>0.011932</td>\n",
       "    </tr>\n",
       "    <tr>\n",
       "      <th>XGB</th>\n",
       "      <td>0.980713</td>\n",
       "      <td>2707.0</td>\n",
       "      <td>24192.0</td>\n",
       "      <td>135.0</td>\n",
       "      <td>394.0</td>\n",
       "      <td>0.005549</td>\n",
       "      <td>0.127056</td>\n",
       "    </tr>\n",
       "    <tr>\n",
       "      <th>BaggingClassifier</th>\n",
       "      <td>0.996792</td>\n",
       "      <td>3026.0</td>\n",
       "      <td>24314.0</td>\n",
       "      <td>13.0</td>\n",
       "      <td>75.0</td>\n",
       "      <td>0.000534</td>\n",
       "      <td>0.024186</td>\n",
       "    </tr>\n",
       "    <tr>\n",
       "      <th>Neural Network-1</th>\n",
       "      <td>0.996463</td>\n",
       "      <td>3018.0</td>\n",
       "      <td>24313.0</td>\n",
       "      <td>14.0</td>\n",
       "      <td>83.0</td>\n",
       "      <td>0.000575</td>\n",
       "      <td>0.026766</td>\n",
       "    </tr>\n",
       "  </tbody>\n",
       "</table>\n",
       "</div>"
      ],
      "text/plain": [
       "                            accuracy      TP       TN     FP     FN       FPR  \\\n",
       "index                                                                           \n",
       "KNeighborsClassifier        0.981661  2694.0  24231.0   96.0  407.0  0.003946   \n",
       "RandomForestClassifier      0.996172  3007.0  24316.0   11.0   94.0  0.000452   \n",
       "AdaBoostClassifier          0.973275  2640.0  24055.0  272.0  461.0  0.011181   \n",
       "GradientBoostingClassifier  0.981041  2713.0  24195.0  132.0  388.0  0.005426   \n",
       "ExtraTreeClassifier         0.998542  3064.0  24324.0    3.0   37.0  0.000123   \n",
       "XGB                         0.980713  2707.0  24192.0  135.0  394.0  0.005549   \n",
       "BaggingClassifier           0.996792  3026.0  24314.0   13.0   75.0  0.000534   \n",
       "Neural Network-1            0.996463  3018.0  24313.0   14.0   83.0  0.000575   \n",
       "\n",
       "                                 FNR  \n",
       "index                                 \n",
       "KNeighborsClassifier        0.131248  \n",
       "RandomForestClassifier      0.030313  \n",
       "AdaBoostClassifier          0.148662  \n",
       "GradientBoostingClassifier  0.125121  \n",
       "ExtraTreeClassifier         0.011932  \n",
       "XGB                         0.127056  \n",
       "BaggingClassifier           0.024186  \n",
       "Neural Network-1            0.026766  "
      ]
     },
     "metadata": {},
     "output_type": "display_data"
    },
    {
     "name": "stdout",
     "output_type": "stream",
     "text": [
      "Test Results\n"
     ]
    },
    {
     "data": {
      "text/html": [
       "<div>\n",
       "<style scoped>\n",
       "    .dataframe tbody tr th:only-of-type {\n",
       "        vertical-align: middle;\n",
       "    }\n",
       "\n",
       "    .dataframe tbody tr th {\n",
       "        vertical-align: top;\n",
       "    }\n",
       "\n",
       "    .dataframe thead th {\n",
       "        text-align: right;\n",
       "    }\n",
       "</style>\n",
       "<table border=\"1\" class=\"dataframe\">\n",
       "  <thead>\n",
       "    <tr style=\"text-align: right;\">\n",
       "      <th></th>\n",
       "      <th>accuracy</th>\n",
       "      <th>TP</th>\n",
       "      <th>TN</th>\n",
       "      <th>FP</th>\n",
       "      <th>FN</th>\n",
       "      <th>FPR</th>\n",
       "      <th>FNR</th>\n",
       "      <th>auc</th>\n",
       "      <th>MCC</th>\n",
       "      <th>Precision</th>\n",
       "      <th>Recall</th>\n",
       "    </tr>\n",
       "    <tr>\n",
       "      <th>index</th>\n",
       "      <th></th>\n",
       "      <th></th>\n",
       "      <th></th>\n",
       "      <th></th>\n",
       "      <th></th>\n",
       "      <th></th>\n",
       "      <th></th>\n",
       "      <th></th>\n",
       "      <th></th>\n",
       "      <th></th>\n",
       "      <th></th>\n",
       "    </tr>\n",
       "  </thead>\n",
       "  <tbody>\n",
       "    <tr>\n",
       "      <th>KNeighborsClassifier</th>\n",
       "      <td>0.973969</td>\n",
       "      <td>1088.0</td>\n",
       "      <td>10361.0</td>\n",
       "      <td>54.0</td>\n",
       "      <td>252.0</td>\n",
       "      <td>0.005185</td>\n",
       "      <td>0.188060</td>\n",
       "      <td>0.903378</td>\n",
       "      <td>0.865709</td>\n",
       "      <td>0.952715</td>\n",
       "      <td>0.811940</td>\n",
       "    </tr>\n",
       "    <tr>\n",
       "      <th>RandomForestClassifier</th>\n",
       "      <td>0.974394</td>\n",
       "      <td>1095.0</td>\n",
       "      <td>10359.0</td>\n",
       "      <td>56.0</td>\n",
       "      <td>245.0</td>\n",
       "      <td>0.005377</td>\n",
       "      <td>0.182836</td>\n",
       "      <td>0.905894</td>\n",
       "      <td>0.868064</td>\n",
       "      <td>0.951347</td>\n",
       "      <td>0.817164</td>\n",
       "    </tr>\n",
       "    <tr>\n",
       "      <th>AdaBoostClassifier</th>\n",
       "      <td>0.970225</td>\n",
       "      <td>1123.0</td>\n",
       "      <td>10282.0</td>\n",
       "      <td>133.0</td>\n",
       "      <td>217.0</td>\n",
       "      <td>0.012770</td>\n",
       "      <td>0.161940</td>\n",
       "      <td>0.912645</td>\n",
       "      <td>0.849023</td>\n",
       "      <td>0.894108</td>\n",
       "      <td>0.838060</td>\n",
       "    </tr>\n",
       "    <tr>\n",
       "      <th>GradientBoostingClassifier</th>\n",
       "      <td>0.974054</td>\n",
       "      <td>1127.0</td>\n",
       "      <td>10323.0</td>\n",
       "      <td>92.0</td>\n",
       "      <td>213.0</td>\n",
       "      <td>0.008833</td>\n",
       "      <td>0.158955</td>\n",
       "      <td>0.916106</td>\n",
       "      <td>0.867513</td>\n",
       "      <td>0.924528</td>\n",
       "      <td>0.841045</td>\n",
       "    </tr>\n",
       "    <tr>\n",
       "      <th>ExtraTreeClassifier</th>\n",
       "      <td>0.972267</td>\n",
       "      <td>1061.0</td>\n",
       "      <td>10368.0</td>\n",
       "      <td>47.0</td>\n",
       "      <td>279.0</td>\n",
       "      <td>0.004513</td>\n",
       "      <td>0.208209</td>\n",
       "      <td>0.893639</td>\n",
       "      <td>0.856302</td>\n",
       "      <td>0.957581</td>\n",
       "      <td>0.791791</td>\n",
       "    </tr>\n",
       "    <tr>\n",
       "      <th>XGB</th>\n",
       "      <td>0.975755</td>\n",
       "      <td>1128.0</td>\n",
       "      <td>10342.0</td>\n",
       "      <td>73.0</td>\n",
       "      <td>212.0</td>\n",
       "      <td>0.007009</td>\n",
       "      <td>0.158209</td>\n",
       "      <td>0.917391</td>\n",
       "      <td>0.875941</td>\n",
       "      <td>0.939217</td>\n",
       "      <td>0.841791</td>\n",
       "    </tr>\n",
       "    <tr>\n",
       "      <th>BaggingClassifier</th>\n",
       "      <td>0.974649</td>\n",
       "      <td>1130.0</td>\n",
       "      <td>10327.0</td>\n",
       "      <td>88.0</td>\n",
       "      <td>210.0</td>\n",
       "      <td>0.008449</td>\n",
       "      <td>0.156716</td>\n",
       "      <td>0.917417</td>\n",
       "      <td>0.870563</td>\n",
       "      <td>0.927750</td>\n",
       "      <td>0.843284</td>\n",
       "    </tr>\n",
       "    <tr>\n",
       "      <th>Neural Network-1</th>\n",
       "      <td>0.977286</td>\n",
       "      <td>1173.0</td>\n",
       "      <td>10315.0</td>\n",
       "      <td>100.0</td>\n",
       "      <td>167.0</td>\n",
       "      <td>0.009602</td>\n",
       "      <td>0.124627</td>\n",
       "      <td>0.917417</td>\n",
       "      <td>0.885420</td>\n",
       "      <td>0.921445</td>\n",
       "      <td>0.875373</td>\n",
       "    </tr>\n",
       "  </tbody>\n",
       "</table>\n",
       "</div>"
      ],
      "text/plain": [
       "                            accuracy      TP       TN     FP     FN       FPR  \\\n",
       "index                                                                           \n",
       "KNeighborsClassifier        0.973969  1088.0  10361.0   54.0  252.0  0.005185   \n",
       "RandomForestClassifier      0.974394  1095.0  10359.0   56.0  245.0  0.005377   \n",
       "AdaBoostClassifier          0.970225  1123.0  10282.0  133.0  217.0  0.012770   \n",
       "GradientBoostingClassifier  0.974054  1127.0  10323.0   92.0  213.0  0.008833   \n",
       "ExtraTreeClassifier         0.972267  1061.0  10368.0   47.0  279.0  0.004513   \n",
       "XGB                         0.975755  1128.0  10342.0   73.0  212.0  0.007009   \n",
       "BaggingClassifier           0.974649  1130.0  10327.0   88.0  210.0  0.008449   \n",
       "Neural Network-1            0.977286  1173.0  10315.0  100.0  167.0  0.009602   \n",
       "\n",
       "                                 FNR       auc       MCC  Precision    Recall  \n",
       "index                                                                          \n",
       "KNeighborsClassifier        0.188060  0.903378  0.865709   0.952715  0.811940  \n",
       "RandomForestClassifier      0.182836  0.905894  0.868064   0.951347  0.817164  \n",
       "AdaBoostClassifier          0.161940  0.912645  0.849023   0.894108  0.838060  \n",
       "GradientBoostingClassifier  0.158955  0.916106  0.867513   0.924528  0.841045  \n",
       "ExtraTreeClassifier         0.208209  0.893639  0.856302   0.957581  0.791791  \n",
       "XGB                         0.158209  0.917391  0.875941   0.939217  0.841791  \n",
       "BaggingClassifier           0.156716  0.917417  0.870563   0.927750  0.843284  \n",
       "Neural Network-1            0.124627  0.917417  0.885420   0.921445  0.875373  "
      ]
     },
     "metadata": {},
     "output_type": "display_data"
    }
   ],
   "source": [
    "table_80_50_train['index']=ind_columns\n",
    "table_80_50_test['index']=ind_columns\n",
    "\n",
    "\n",
    "table_80_50_test.set_index(['index'],drop=True,inplace=True)\n",
    "table_80_50_train.set_index(['index'],drop=True,inplace=True)\n",
    "\n",
    "print(\"Training Results\")\n",
    "display(table_80_50_train)\n",
    "print(\"Test Results\")\n",
    "display(table_80_50_test)"
   ]
  },
  {
   "cell_type": "code",
   "execution_count": 40,
   "metadata": {},
   "outputs": [
    {
     "data": {
      "text/html": [
       "<script>\n",
       "code_show=true; \n",
       "function code_toggle() {\n",
       " if (code_show){\n",
       " $('div.input').hide();\n",
       " } else {\n",
       " $('div.input').show();\n",
       " }\n",
       " code_show = !code_show\n",
       "} \n",
       "$( document ).ready(code_toggle);\n",
       "</script>\n",
       "To toggle code, click <a href=\"javascript:code_toggle()\">here</a>."
      ],
      "text/plain": [
       "<IPython.core.display.HTML object>"
      ]
     },
     "execution_count": 40,
     "metadata": {},
     "output_type": "execute_result"
    }
   ],
   "source": [
    "### Original Creator : Darshan Bhansali\n",
    "### HTML code to hide the input cells \n",
    "HTML('''<script>\n",
    "code_show=true; \n",
    "function code_toggle() {\n",
    " if (code_show){\n",
    " $('div.input').hide();\n",
    " } else {\n",
    " $('div.input').show();\n",
    " }\n",
    " code_show = !code_show\n",
    "} \n",
    "$( document ).ready(code_toggle);\n",
    "</script>\n",
    "To toggle code, click <a href=\"javascript:code_toggle()\">here</a>.''')"
   ]
  },
  {
   "cell_type": "code",
   "execution_count": null,
   "metadata": {},
   "outputs": [],
   "source": []
  }
 ],
 "metadata": {
  "kernelspec": {
   "display_name": "Python 3",
   "language": "python",
   "name": "python3"
  },
  "language_info": {
   "codemirror_mode": {
    "name": "ipython",
    "version": 3
   },
   "file_extension": ".py",
   "mimetype": "text/x-python",
   "name": "python",
   "nbconvert_exporter": "python",
   "pygments_lexer": "ipython3",
   "version": "3.6.8"
  }
 },
 "nbformat": 4,
 "nbformat_minor": 2
}
