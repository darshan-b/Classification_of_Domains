{
 "cells": [
  {
   "cell_type": "markdown",
   "metadata": {},
   "source": [
    "***\n",
    "## Table of Contents\n",
    "<br>\n",
    "  <br>\n",
    "    <ol>\n",
    "        <h2><a href='#1' style=\"text-decoration : none; color : #000000;\">1. Initial Models</a></h2>\n",
    "        <ul>\n",
    "            <a href='#1.A' style=\"text-decoration : none; color : #000000;\"><h3>A. Results </h3></a>\n",
    "        </ul>\n",
    "        <ul>\n",
    "            <a href='#1.B' style=\"text-decoration : none; color : #000000;\"><h3>B. Average Feature Importance   </h3></a>\n",
    "        </ul>\n",
    "     </ol>\n",
    "     <br> \n",
    "\n",
    "<ol>\n",
    "        <h2><a href='#2' style=\"text-decoration : none; color : #000000;\">2. Oversampling </a></h2>\n",
    "        <ul>\n",
    "            <a href='#2.A' style=\"text-decoration : none; color : #000000;\"><h3>A. Results </h3></a>\n",
    "        </ul>\n",
    "        <ul>\n",
    "            <a href='#2.B' style=\"text-decoration : none; color : #000000;\"><h3>B. Average Feature Importance   </h3></a>\n",
    "        </ul>\n",
    "     </ol>\n",
    "     <br>\n",
    "     \n",
    " <ol>\n",
    "        <h2><a href='#3' style=\"text-decoration : none; color : #000000;\">3. Undersampling</a></h2>\n",
    "        <ul>\n",
    "            <a href='#3.A' style=\"text-decoration : none; color : #000000;\"><h3>A. Results </h3></a>\n",
    "        </ul>\n",
    "        <ul>\n",
    "            <a href='#3.B' style=\"text-decoration : none; color : #000000;\"><h3>B. Average Feature Importance   </h3></a>\n",
    "        </ul>\n",
    "     </ol>\n",
    "     <br>\n",
    "     \n",
    " <ol>\n",
    "        <h2><a href='#4' style=\"text-decoration : none; color : #000000;\">4.Feature Transformation with feature selection</a></h2>\n",
    "        <ul>\n",
    "            <a href='#4.A' style=\"text-decoration : none; color : #000000;\"><h3>A. Results </h3></a>\n",
    "        </ul>\n",
    "        <ul>\n",
    "            <a href='#4.B' style=\"text-decoration : none; color : #000000;\"><h3>B. Average Feature Importance   </h3></a>\n",
    "        </ul>\n",
    "     </ol>\n",
    "     <br>\n",
    "     \n",
    "     \n",
    " <ol>\n",
    "        <h2><a href='#5' style=\"text-decoration : none; color : #000000;\">5.Feature Transformation with PCA</a></h2>\n",
    "        <ul>\n",
    "            <a href='#5.A' style=\"text-decoration : none; color : #000000;\"><h3>A. Results </h3></a>\n",
    "        </ul>\n",
    "     </ol>\n",
    "     <br>"
   ]
  },
  {
   "cell_type": "code",
   "execution_count": 1,
   "metadata": {},
   "outputs": [
    {
     "name": "stderr",
     "output_type": "stream",
     "text": [
      "Using TensorFlow backend.\n",
      "/nethomes/darshan/anaconda3/lib/python3.6/site-packages/sklearn/externals/six.py:31: DeprecationWarning: The module is deprecated in version 0.21 and will be removed in version 0.23 since we've dropped support for Python 2.7. Please rely on the official version of six (https://pypi.org/project/six/).\n",
      "  \"(https://pypi.org/project/six/).\", DeprecationWarning)\n",
      "/nethomes/darshan/anaconda3/lib/python3.6/site-packages/sklearn/externals/joblib/__init__.py:15: DeprecationWarning: sklearn.externals.joblib is deprecated in 0.21 and will be removed in 0.23. Please import this functionality directly from joblib, which can be installed with: pip install joblib. If this warning is raised when loading pickled models, you may need to re-serialize those models with scikit-learn 0.21+.\n",
      "  warnings.warn(msg, category=DeprecationWarning)\n"
     ]
    },
    {
     "data": {
      "text/html": [
       "<script type=\"text/javascript\">window.PlotlyConfig = {MathJaxConfig: 'local'};</script><script type=\"text/javascript\">if (window.MathJax) {MathJax.Hub.Config({SVG: {font: \"STIX-Web\"}});}</script><script>requirejs.config({paths: { 'plotly': ['https://cdn.plot.ly/plotly-latest.min']},});if(!window._Plotly) {require(['plotly'],function(plotly) {window._Plotly=plotly;});}</script>"
      ],
      "text/vnd.plotly.v1+html": [
       "<script type=\"text/javascript\">window.PlotlyConfig = {MathJaxConfig: 'local'};</script><script type=\"text/javascript\">if (window.MathJax) {MathJax.Hub.Config({SVG: {font: \"STIX-Web\"}});}</script><script>requirejs.config({paths: { 'plotly': ['https://cdn.plot.ly/plotly-latest.min']},});if(!window._Plotly) {require(['plotly'],function(plotly) {window._Plotly=plotly;});}</script>"
      ]
     },
     "metadata": {},
     "output_type": "display_data"
    }
   ],
   "source": [
    "import pandas as pd\n",
    "import numpy as np\n",
    "import copy\n",
    "import matplotlib.pyplot as plt\n",
    "import seaborn as sns\n",
    "%matplotlib inline\n",
    "\n",
    "from IPython.display import display,clear_output,HTML\n",
    "import warnings\n",
    "warnings.filterwarnings(\"ignore\")\n",
    "warnings.filterwarnings(\"ignore\",category=DeprecationWarning)\n",
    "\n",
    "import keras\n",
    "from keras.layers import Dense,Dropout\n",
    "from keras.models import Sequential\n",
    "warnings.simplefilter(\"ignore\", DeprecationWarning)\n",
    "import researchpy as rp\n",
    "\n",
    "%matplotlib inline\n",
    "pd.set_option('display.max_columns', 500)\n",
    "pd.set_option('display.max_rows',305)\n",
    "\n",
    "from sklearn.feature_selection import SelectKBest,chi2,RFE,RFECV,f_regression,SelectFromModel\n",
    "from sklearn.linear_model import LogisticRegression\n",
    "from sklearn.ensemble import ExtraTreesClassifier,RandomForestClassifier,GradientBoostingClassifier,AdaBoostClassifier,BaggingClassifier\n",
    "from sklearn.neighbors import KNeighborsClassifier\n",
    "from sklearn.model_selection import train_test_split,cross_val_score\n",
    "\n",
    "from sklearn.preprocessing import StandardScaler,MinMaxScaler\n",
    "from sklearn import metrics\n",
    "\n",
    "\n",
    "\n",
    "from sklearn.decomposition import PCA\n",
    "from sklearn.metrics import accuracy_score,auc,roc_curve,recall_score,precision_score,matthews_corrcoef\n",
    "\n",
    "from pandas_ml import ConfusionMatrix\n",
    "\n",
    "\n",
    "from imblearn.over_sampling import SMOTE\n",
    "\n",
    "from plotly.offline import download_plotlyjs, init_notebook_mode, plot, iplot\n",
    "init_notebook_mode(connected=True)\n",
    "import plotly.graph_objs as go\n",
    "\n",
    "import featuretools as ft\n",
    "\n",
    "from scipy import stats\n",
    "import re\n",
    "\n",
    "from xgboost import XGBClassifier\n",
    "from xgboost import plot_importance"
   ]
  },
  {
   "cell_type": "code",
   "execution_count": 2,
   "metadata": {},
   "outputs": [],
   "source": [
    "### Function to plot Feature Importance\n",
    "def feat_impt_plot(feat_impt,y_labels,width_s=1000,height_s=1000):\n",
    "    \n",
    "    m=pd.DataFrame(y_labels,feat_impt).reset_index()\n",
    "    m.columns=['Feature_Importance','Features']\n",
    "    m.sort_values(by='Feature_Importance',inplace=True,ascending=False)\n",
    "    m['Features']=m['Features'].str.replace(\"dom_function_\",\"\")\n",
    "    m['Features']=m['Features'].str.replace(\"js_function_\",\"\")\n",
    "    m['Features']=m['Features'].apply(lambda x: str(x).lstrip('.'))\n",
    "    m['Features']=m['Features'].str.replace(\"(\",\"\")\n",
    "    \n",
    "    data = [go.Bar(x=m.Feature_Importance.values,y=m.Features.values,text=np.round(m.Feature_Importance,4),\n",
    "            textposition = 'outside',\n",
    "            marker=dict(\n",
    "                color='rgb(158,202,225)',\n",
    "                line=dict(\n",
    "                    color='rgb(8,48,107)',\n",
    "                    width=1.5),\n",
    "            ),\n",
    "            opacity=0.6,\n",
    "            orientation='h'\n",
    "        )]\n",
    "    layout = go.Layout(autosize=False,\n",
    "    width=width_s,\n",
    "    height=height_s,\n",
    "    xaxis=dict(title='Feature Importances',\n",
    "        tickfont=dict(\n",
    "            size=12,\n",
    "            color='black'\n",
    "        )),\n",
    "    yaxis=dict(automargin=True))\n",
    "    fig = go.Figure(data=data, layout=layout)\n",
    "    iplot(fig)\n",
    "    \n",
    "def uni_value(data):\n",
    "    lst=[]\n",
    "    for col in data.columns[:]:\n",
    "        lst.append([col,dict(data[col].value_counts()),data[col].value_counts().values[0]>=len(data)*0.95])\n",
    "    col_values=pd.DataFrame(lst,columns=['Feature','Value_Counts','95_%_same_values'])\n",
    "    col_values.set_index('Feature',drop=True,inplace=True)\n",
    "    del lst\n",
    "    return col_values\n",
    "\n",
    "    \n",
    "def check_cat(data):\n",
    "    cat_var=[]\n",
    "    num_var=[]\n",
    "    for col in data.columns:\n",
    "        if col!='Target':\n",
    "            if len(data[col].value_counts())==2:\n",
    "                cat_var.append(col)\n",
    "            else:\n",
    "                num_var.append(col)\n",
    "    return cat_var,num_var\n",
    "\n",
    "\n",
    "def num_stats(data,columns):\n",
    "    lst=[]\n",
    "    c=0\n",
    "    for col in columns:\n",
    "        corr=stats.pointbiserialr(data[col],data.Target)[0]\n",
    "        corr_p=stats.pointbiserialr(data[col],data.Target)[1]\n",
    "        ttest=stats.ttest_ind(data[data.Target==1][col], data[data.Target==0][col], equal_var=False)[0]\n",
    "        ttest_p=stats.ttest_ind(data[data.Target==1][col], data[data.Target==0][col], equal_var=False)[1]\n",
    "        lst.append((corr,corr_p,ttest,ttest_p,col))\n",
    "    stats_data=pd.DataFrame(lst,columns=['Pt. Biserial Corr','Pt. Biserial Corr p-val','ttest','ttest p-val','Feature'])\n",
    "    stats_data.set_index('Feature',drop=True,inplace=True)\n",
    "    stats_data.sort_values(by='ttest',inplace=True)\n",
    "    del lst\n",
    "    return stats_data\n",
    "\n",
    "\n",
    "### Generate statistics for categorical data\n",
    "def cat_stats(data,columns):\n",
    "    lst=[]\n",
    "    c=0\n",
    "    for col in columns:\n",
    "        if col!='Target':\n",
    "            table, results = rp.crosstab(data['Target'], data[col], prop= 'col', test= 'chi-square')\n",
    "            x=results['results'].values.tolist()\n",
    "            x.append(col)\n",
    "            lst.append(x)\n",
    "    chi_df=pd.DataFrame(lst,columns=['Pearson Chi-square','p-value','Cramers V','Feature'])\n",
    "    chi_df.set_index('Feature',drop=True,inplace=True)\n",
    "    chi_df.sort_values(by='Cramers V',ascending=False,inplace=True)\n",
    "    del lst\n",
    "    return chi_df\n",
    "\n",
    "def remove_feat(data):\n",
    "    col_no_unique=[]\n",
    "    for col in data.columns[:]:\n",
    "        if len(data[col].value_counts())<=1:\n",
    "#             print(col)\n",
    "            col_no_unique.append(col)\n",
    "    return col_no_unique\n",
    "\n",
    "### Generate plot for class balance for categorical nature\n",
    "def class_bal(data,title=''):\n",
    "    d = [go.Bar(x=data.Target.value_counts().index.values,\n",
    "               y=data.Target.value_counts().values,\n",
    "               text=data.Target.value_counts().values,\n",
    "               textposition = 'outside',\n",
    "            )]\n",
    "    layout = go.Layout(title=title,xaxis=dict(title='Domain Type',tickfont=dict(size=12,color='black')),\n",
    "                    yaxis=dict(title='Number of Instances'))\n",
    "    fig = go.Figure(data=d, layout=layout)\n",
    "    iplot(fig)"
   ]
  },
  {
   "cell_type": "code",
   "execution_count": 3,
   "metadata": {},
   "outputs": [],
   "source": [
    "def model_build(model,X_train,Y_train,X_test,Y_test,tree=False,feat=None):\n",
    "    \n",
    "    y_pred_train=model.predict(X_train)\n",
    "    acc_train=accuracy_score(Y_train,y_pred_train)\n",
    "    \n",
    "    print(\"Accuracy of the model for training data is:\",acc_train)\n",
    "    print(\"Confusion Matrix for training data is:\")\n",
    "    cm_train=ConfusionMatrix(Y_train,y_pred_train)\n",
    "    display(cm_train)\n",
    "    \n",
    "    \n",
    "    y_pred_test=model.predict(X_test)\n",
    "    acc_test=accuracy_score(Y_test,y_pred_test)\n",
    "    print(\"Accuracy of the model for test data is:\",acc_test)\n",
    "    print(\"Confusion Matrix for test data is:\")\n",
    "    cm_test=ConfusionMatrix(Y_test,y_pred_test)\n",
    "    display(cm_test)\n",
    "\n",
    "    fpr, tpr, threshold = roc_curve(Y_test, y_pred_test)\n",
    "    roc_auc =auc(fpr, tpr)\n",
    "    mcc=matthews_corrcoef(Y_test,y_pred_test)\n",
    "    if tree==True:\n",
    "        feat_impt_plot(model.feature_importances_,feat)\n",
    "        return model,cm_train,cm_test,acc_train,acc_test,roc_auc,model.feature_importances_,mcc\n",
    "    \n",
    "    return model,cm_train,cm_test,acc_train,acc_test,roc_auc,mcc\n",
    "\n",
    "def KNN_model(X_train,Y_train,X_test,Y_test):\n",
    "    print('\\033[1m' + 'K-Nearest Neighbors' + '\\033[0m')\n",
    "    knn=KNeighborsClassifier()\n",
    "    knn.fit(X_train,Y_train)\n",
    "\n",
    "    return model_build(knn,X_train,Y_train,X_test,Y_test)\n",
    "\n",
    "def Logistic_model(X_train,Y_train,X_test,Y_test):\n",
    "    print('\\033[1m' + 'Logistic Regression' + '\\033[0m')\n",
    "    log=LogisticRegression(random_state=0)\n",
    "    log.fit(X_train,Y_train)\n",
    "    \n",
    "    return model_build(log,X_train,Y_train,X_test,Y_test)\n",
    "\n",
    "def RandomForest(X_train,Y_train,X_test,Y_test,feat):\n",
    "    print('\\033[1m' + 'RandomForest Classifier' + '\\033[0m')\n",
    "    rf=RandomForestClassifier(random_state=0)\n",
    "    rf.fit(X_train,Y_train)\n",
    "\n",
    "    \n",
    "    return model_build(rf,X_train,Y_train,X_test,Y_test,True,feat)\n",
    "\n",
    "def AdaBoost(X_train,Y_train,X_test,Y_test,feat):\n",
    "    print('\\033[1m' + 'Adaoost Classifier' + '\\033[0m')\n",
    "    ada=AdaBoostClassifier(random_state=0)\n",
    "    ada.fit(X_train,Y_train)\n",
    "    \n",
    "    return model_build(ada,X_train,Y_train,X_test,Y_test,True,feat)\n",
    "\n",
    "def GradientBoosting(X_train,Y_train,X_test,Y_test,feat):\n",
    "    print('\\033[1m' + 'GradientBoosting Classifier' + '\\033[0m')\n",
    "    gbc=GradientBoostingClassifier(random_state=0)\n",
    "    gbc.fit(X_train,Y_train)\n",
    "    \n",
    "    return model_build(gbc,X_train,Y_train,X_test,Y_test,True,feat)\n",
    "\n",
    "def ExtraTree(X_train,Y_train,X_test,Y_test,feat):\n",
    "    print('\\033[1m' + 'ExtraTree Classifier' + '\\033[0m')\n",
    "    ext_tree=ExtraTreesClassifier(random_state=0)\n",
    "    ext_tree.fit(X_train,Y_train)\n",
    "    \n",
    "    return model_build(ext_tree,X_train,Y_train,X_test,Y_test,True,feat)\n",
    "\n",
    "def Bagging(X_train,Y_train,X_test,Y_test):\n",
    "    print('\\033[1m' + 'Bagging Classifier' + '\\033[0m')\n",
    "    bagging=BaggingClassifier(random_state=0)\n",
    "    bagging.fit(X_train,Y_train)\n",
    "    \n",
    "    return model_build(bagging,X_train,Y_train,X_test,Y_test)\n",
    "\n",
    "def DeepLearning1(X_train,Y_train,X_test,Y_test):\n",
    "    print('\\033[1m' + 'Neural Network-1' + '\\033[0m')\n",
    "    np.random.seed(0)\n",
    "    deep_learning=Sequential()\n",
    "    deep_learning.add(Dense(units=64,activation='relu',use_bias=True,kernel_initializer='uniform',input_dim=X_train.shape[1]))\n",
    "    deep_learning.add(Dense(units=128,activation='relu',use_bias=True,kernel_initializer='uniform'))\n",
    "    deep_learning.add(Dense(units=1,activation='sigmoid',use_bias=True,kernel_initializer='uniform'))\n",
    "    deep_learning.compile(optimizer='adam',loss='binary_crossentropy',metrics=['accuracy'])\n",
    "    deep_learning.fit(X_train,Y_train,batch_size=20,epochs=80,verbose=False)\n",
    "    acc_train=deep_learning.evaluate(X_train,Y_train,verbose=False)[1]\n",
    "    print(\"The accuracy of the model on training data is:\",acc_train)\n",
    "    cm_train=ConfusionMatrix(Y_train,deep_learning.predict_classes(X_train,batch_size=1,verbose=False).reshape(1,len(X_train))[0])\n",
    "    cm_test=ConfusionMatrix(Y_test,deep_learning.predict_classes(X_test,batch_size=1,verbose=False).reshape(1,len(X_test))[0])\n",
    "    display(cm_train)\n",
    "    acc_test=accuracy_score(Y_test,deep_learning.predict_classes(X_test,batch_size=1,verbose=False))\n",
    "    print(\"The accuracy of the model on test data is:\",acc_test)\n",
    "    display(cm_test)\n",
    "    mcc=matthews_corrcoef(Y_test,deep_learning.predict_classes(X_test,batch_size=1,verbose=False))\n",
    "    fpr, tpr, threshold = roc_curve(Y_test, deep_learning.predict_classes(X_test,batch_size=1,verbose=False))\n",
    "    roc_auc =auc(fpr, tpr)\n",
    "    return  deep_learning,cm_train,cm_test,acc_train,acc_test,roc_auc,mcc"
   ]
  },
  {
   "cell_type": "markdown",
   "metadata": {},
   "source": [
    "### HTML Read Data"
   ]
  },
  {
   "cell_type": "code",
   "execution_count": 4,
   "metadata": {},
   "outputs": [
    {
     "name": "stdout",
     "output_type": "stream",
     "text": [
      "Shape of HTML dataset: (43491, 1461)\n",
      "0 columns have only one unique value in them rendering them meaningless for classification\n",
      "Shape of our dataset after dropping them: (43491, 1464)\n",
      "1297 columns have more than 95% same values\n",
      "Shape of our dataset after dropping them: (43491, 167)\n",
      "38 columns are dropped because of high VIF values\n",
      "Shape of our dataset after dropping them: (43491, 129)\n"
     ]
    }
   ],
   "source": [
    "df_html=pd.read_csv('../html/HTML.csv',index_col='domain')\n",
    "df_html.drop(['Unnamed: 0'],axis=1,inplace=True)\n",
    "cookie=[col for col in df_html.columns if 'number' in col]\n",
    "df_html.drop(cookie,axis=1,inplace=True)\n",
    "print(\"Shape of HTML dataset:\",df_html.shape)\n",
    "df_html.Target=df_html.Target.apply(lambda x: 1 if x=='Malicious' else 0)\n",
    "\n",
    "count_columns=[col for col in df_html.columns if col.endswith('count')]\n",
    "df_html['total_count']=df_html[count_columns].sum(axis=1)\n",
    "\n",
    "href_columns=[col for col in df_html.columns if (('href_absolute' in col) | ('href_relative' in col) | ('href_page' in col))  ]\n",
    "df_html['total_href']=df_html[href_columns].sum(axis=1)\n",
    "\n",
    "total_img_src=[col for col in df_html.columns if 'img_src_' in col]\n",
    "df_html['total_img_src']=df_html[total_img_src].sum(axis=1)\n",
    "\n",
    "\n",
    "\n",
    "#### Dropping constants\n",
    "\n",
    "col_no_unique=[]\n",
    "for col in df_html.columns[:-1]:\n",
    "    if len(df_html[col].value_counts())==1:\n",
    "        col_no_unique.append(col)\n",
    "\n",
    "print(\"{} columns have only one unique value in them rendering them meaningless for classification\".format(len(col_no_unique)))\n",
    "### Drop those columns\n",
    "df_html.drop(col_no_unique,axis=1,inplace=True)\n",
    "\n",
    "print(\"Shape of our dataset after dropping them:\",df_html.shape)\n",
    "\n",
    "#### 95% same values\n",
    "\n",
    "lst=[]\n",
    "for col in df_html.columns[:-1]:\n",
    "    lst.append([col,dict(df_html[col].value_counts()),df_html[col].value_counts().values[0]>=len(df_html)*0.95])\n",
    "\n",
    "col_values=pd.DataFrame(lst,columns=['Feature','Value_Counts','95_%_same_values'])\n",
    "col_values.set_index('Feature',drop=True,inplace=True)\n",
    "del lst\n",
    "\n",
    "print(\"{} columns have more than 95% same values\".format(len(col_values[col_values['95_%_same_values']==True].index.values)))\n",
    "\n",
    "df_html.drop(col_values[col_values['95_%_same_values']==True].index.values,axis=1,inplace=True)\n",
    "\n",
    "print(\"Shape of our dataset after dropping them:\",df_html.shape)\n",
    "\n",
    "#### Dropping columns based on high VIF values\n",
    "\n",
    "rem=['a_href_absolute','a_href_relative','a_count','a_href_out_of_domain',\n",
    "     'base_count','base_href_absolute','base_href_out_of_domain',\n",
    "     'iframe_src_absolute','iframe_src_relative','iframe_sandbox_allow_same_origin_count','iframe_src_http',\n",
    "     'img_src_absolute','img_src_http','img_srcset_absolute','img_src_relative','img_srcset_relative','img_count',\n",
    "     'script_src_absolute','script_src_http','script_src_relative','script_count','script_src_https',\n",
    "     'link_rel_wlwmanifest','link_href_absolute','link_href_relative','link_rel_EditURI','link_count',\n",
    "     'link_type_application/wlwmanifest+xml','link_href_https','link_rel_stylesheet','link_href_.png',\n",
    "     'form_action_absolute','form_action_relative','form_count','form_action_https',\n",
    "     'form_enctype_application/x-www-form-urlencoded',\n",
    "     'tbody_count',\n",
    "     'nofollow_count']\n",
    "\n",
    "print('{} columns are dropped because of high VIF values'.format(len(rem)))\n",
    "df_html.drop(rem,axis=1,inplace=True)\n",
    "print(\"Shape of our dataset after dropping them:\",df_html.shape)"
   ]
  },
  {
   "cell_type": "markdown",
   "metadata": {},
   "source": [
    "### JavaScript read data"
   ]
  },
  {
   "cell_type": "code",
   "execution_count": 5,
   "metadata": {},
   "outputs": [
    {
     "name": "stdout",
     "output_type": "stream",
     "text": [
      "113 columns have only one unique value in them rendering them meaningless for classification\n",
      "Shape of our dataset after dropping them: (43294, 288)\n",
      "234 columns have more than 95% same values\n",
      "Shape of our dataset after dropping them: (43294, 54)\n",
      "5 columns are dropped because of high VIF values\n",
      "Shape of our dataset after dropping them: (43294, 49)\n"
     ]
    }
   ],
   "source": [
    "df_js=pd.read_csv('Javascript.csv',low_memory=False,index_col='domain')\n",
    "\n",
    "cookie=[col for col in df_js.columns if 'number' in col]\n",
    "df_js.drop(cookie,axis=1,inplace=True)\n",
    "\n",
    "df_js.rename(columns={'Malicious':'Target'},inplace=True)\n",
    "\n",
    "df_js.Target=df_js.Target.apply(lambda x: 1 if x=='Malicious' else 0)\n",
    "\n",
    "#### Dropping constants\n",
    "\n",
    "col_no_unique=[]\n",
    "for col in df_js.columns[:-1]:\n",
    "    if len(df_js[col].value_counts())==1:\n",
    "        col_no_unique.append(col)\n",
    "\n",
    "print(\"{} columns have only one unique value in them rendering them meaningless for classification\".format(len(col_no_unique)))\n",
    "### Drop those columns\n",
    "df_js.drop(col_no_unique,axis=1,inplace=True)\n",
    "\n",
    "print(\"Shape of our dataset after dropping them:\",df_js.shape)\n",
    "\n",
    "#### 95% same values\n",
    "\n",
    "lst=[]\n",
    "for col in df_js.columns[:-1]:\n",
    "    lst.append([col,dict(df_js[col].value_counts()),df_js[col].value_counts().values[0]>=len(df_js)*0.95])\n",
    "\n",
    "col_values=pd.DataFrame(lst,columns=['Feature','Value_Counts','95_%_same_values'])\n",
    "col_values.set_index('Feature',drop=True,inplace=True)\n",
    "del lst\n",
    "\n",
    "\n",
    "print(\"{} columns have more than 95% same values\".format(len(col_values[col_values['95_%_same_values']==True].index.values)))\n",
    "\n",
    "df_js.drop(col_values[col_values['95_%_same_values']==True].index.values,axis=1,inplace=True)\n",
    "\n",
    "print(\"Shape of our dataset after dropping them:\",df_js.shape)\n",
    "\n",
    "\n",
    "#### Dropping columns based on high VIF values\n",
    "\n",
    "rem=['js_function_.defineProperty(','js_function_.keys(','js_function_.substr','js_function_unescape(','js_function_.log(']\n",
    "\n",
    "print('{} columns are dropped because of high VIF values'.format(len(rem)))\n",
    "df_js.drop(rem,axis=1,inplace=True)\n",
    "print(\"Shape of our dataset after dropping them:\",df_js.shape)"
   ]
  },
  {
   "cell_type": "code",
   "execution_count": 6,
   "metadata": {},
   "outputs": [],
   "source": [
    "df=pd.concat([df_js,df_html],axis=1,join='inner')\n",
    "df['Target_z']=df[['Target','Target']].apply(max,axis=1)\n",
    "df.drop(['Target','Target'],axis=1,inplace=True)\n",
    "df.rename(columns={'Target_z':'Target'},inplace=True)"
   ]
  },
  {
   "cell_type": "code",
   "execution_count": 7,
   "metadata": {},
   "outputs": [],
   "source": [
    "df_sel=df.copy(deep=True)"
   ]
  },
  {
   "cell_type": "code",
   "execution_count": 8,
   "metadata": {
    "scrolled": true
   },
   "outputs": [
    {
     "name": "stdout",
     "output_type": "stream",
     "text": [
      "Accuracy: 90.63%\n",
      "Thresh=0.000, n=176, Accuracy: 90.63%\n",
      "Thresh=0.000, n=176, Accuracy: 90.63%\n",
      "Thresh=0.000, n=176, Accuracy: 90.63%\n",
      "Thresh=0.000, n=176, Accuracy: 90.63%\n",
      "Thresh=0.000, n=176, Accuracy: 90.63%\n",
      "Thresh=0.000, n=176, Accuracy: 90.63%\n",
      "Thresh=0.000, n=176, Accuracy: 90.63%\n",
      "Thresh=0.000, n=176, Accuracy: 90.63%\n",
      "Thresh=0.000, n=176, Accuracy: 90.63%\n",
      "Thresh=0.000, n=176, Accuracy: 90.63%\n",
      "Thresh=0.000, n=176, Accuracy: 90.63%\n",
      "Thresh=0.000, n=176, Accuracy: 90.63%\n",
      "Thresh=0.000, n=176, Accuracy: 90.63%\n",
      "Thresh=0.000, n=176, Accuracy: 90.63%\n",
      "Thresh=0.000, n=176, Accuracy: 90.63%\n",
      "Thresh=0.000, n=176, Accuracy: 90.63%\n",
      "Thresh=0.000, n=176, Accuracy: 90.63%\n",
      "Thresh=0.000, n=176, Accuracy: 90.63%\n",
      "Thresh=0.000, n=176, Accuracy: 90.63%\n",
      "Thresh=0.000, n=176, Accuracy: 90.63%\n",
      "Thresh=0.000, n=176, Accuracy: 90.63%\n",
      "Thresh=0.000, n=176, Accuracy: 90.63%\n",
      "Thresh=0.000, n=176, Accuracy: 90.63%\n",
      "Thresh=0.000, n=176, Accuracy: 90.63%\n",
      "Thresh=0.000, n=176, Accuracy: 90.63%\n",
      "Thresh=0.000, n=176, Accuracy: 90.63%\n",
      "Thresh=0.000, n=176, Accuracy: 90.63%\n",
      "Thresh=0.000, n=176, Accuracy: 90.63%\n",
      "Thresh=0.000, n=176, Accuracy: 90.63%\n",
      "Thresh=0.000, n=176, Accuracy: 90.63%\n",
      "Thresh=0.000, n=176, Accuracy: 90.63%\n",
      "Thresh=0.000, n=176, Accuracy: 90.63%\n",
      "Thresh=0.000, n=176, Accuracy: 90.63%\n",
      "Thresh=0.000, n=176, Accuracy: 90.63%\n",
      "Thresh=0.000, n=176, Accuracy: 90.63%\n",
      "Thresh=0.000, n=176, Accuracy: 90.63%\n",
      "Thresh=0.000, n=176, Accuracy: 90.63%\n",
      "Thresh=0.000, n=176, Accuracy: 90.63%\n",
      "Thresh=0.000, n=176, Accuracy: 90.63%\n",
      "Thresh=0.000, n=176, Accuracy: 90.63%\n",
      "Thresh=0.000, n=176, Accuracy: 90.63%\n",
      "Thresh=0.000, n=176, Accuracy: 90.63%\n",
      "Thresh=0.000, n=176, Accuracy: 90.63%\n",
      "Thresh=0.000, n=176, Accuracy: 90.63%\n",
      "Thresh=0.000, n=176, Accuracy: 90.63%\n",
      "Thresh=0.000, n=176, Accuracy: 90.63%\n",
      "Thresh=0.000, n=176, Accuracy: 90.63%\n",
      "Thresh=0.000, n=176, Accuracy: 90.63%\n",
      "Thresh=0.000, n=176, Accuracy: 90.63%\n",
      "Thresh=0.000, n=176, Accuracy: 90.63%\n",
      "Thresh=0.000, n=176, Accuracy: 90.63%\n",
      "Thresh=0.000, n=176, Accuracy: 90.63%\n",
      "Thresh=0.000, n=176, Accuracy: 90.63%\n",
      "Thresh=0.000, n=176, Accuracy: 90.63%\n",
      "Thresh=0.000, n=176, Accuracy: 90.63%\n",
      "Thresh=0.000, n=176, Accuracy: 90.63%\n",
      "Thresh=0.000, n=176, Accuracy: 90.63%\n",
      "Thresh=0.000, n=176, Accuracy: 90.63%\n",
      "Thresh=0.000, n=176, Accuracy: 90.63%\n",
      "Thresh=0.000, n=176, Accuracy: 90.63%\n",
      "Thresh=0.000, n=176, Accuracy: 90.63%\n",
      "Thresh=0.000, n=176, Accuracy: 90.63%\n",
      "Thresh=0.000, n=176, Accuracy: 90.63%\n",
      "Thresh=0.000, n=176, Accuracy: 90.63%\n",
      "Thresh=0.000, n=176, Accuracy: 90.63%\n",
      "Thresh=0.000, n=176, Accuracy: 90.63%\n",
      "Thresh=0.000, n=176, Accuracy: 90.63%\n",
      "Thresh=0.000, n=176, Accuracy: 90.63%\n",
      "Thresh=0.000, n=176, Accuracy: 90.63%\n",
      "Thresh=0.000, n=176, Accuracy: 90.63%\n",
      "Thresh=0.000, n=176, Accuracy: 90.63%\n",
      "Thresh=0.000, n=176, Accuracy: 90.63%\n",
      "Thresh=0.001, n=104, Accuracy: 90.63%\n",
      "Thresh=0.001, n=104, Accuracy: 90.63%\n",
      "Thresh=0.001, n=104, Accuracy: 90.63%\n",
      "Thresh=0.001, n=104, Accuracy: 90.63%\n",
      "Thresh=0.001, n=104, Accuracy: 90.63%\n",
      "Thresh=0.001, n=104, Accuracy: 90.63%\n",
      "Thresh=0.001, n=104, Accuracy: 90.63%\n",
      "Thresh=0.001, n=104, Accuracy: 90.63%\n",
      "Thresh=0.001, n=104, Accuracy: 90.63%\n",
      "Thresh=0.001, n=104, Accuracy: 90.63%\n",
      "Thresh=0.001, n=104, Accuracy: 90.63%\n",
      "Thresh=0.001, n=104, Accuracy: 90.63%\n",
      "Thresh=0.001, n=104, Accuracy: 90.63%\n",
      "Thresh=0.001, n=104, Accuracy: 90.63%\n",
      "Thresh=0.001, n=104, Accuracy: 90.63%\n",
      "Thresh=0.001, n=104, Accuracy: 90.63%\n",
      "Thresh=0.001, n=104, Accuracy: 90.63%\n",
      "Thresh=0.001, n=104, Accuracy: 90.63%\n",
      "Thresh=0.001, n=104, Accuracy: 90.63%\n",
      "Thresh=0.001, n=104, Accuracy: 90.63%\n",
      "Thresh=0.001, n=104, Accuracy: 90.63%\n",
      "Thresh=0.001, n=104, Accuracy: 90.63%\n",
      "Thresh=0.001, n=104, Accuracy: 90.63%\n",
      "Thresh=0.001, n=104, Accuracy: 90.63%\n",
      "Thresh=0.001, n=104, Accuracy: 90.63%\n",
      "Thresh=0.001, n=104, Accuracy: 90.63%\n",
      "Thresh=0.001, n=104, Accuracy: 90.63%\n",
      "Thresh=0.003, n=77, Accuracy: 90.61%\n",
      "Thresh=0.003, n=77, Accuracy: 90.61%\n",
      "Thresh=0.003, n=77, Accuracy: 90.61%\n",
      "Thresh=0.003, n=77, Accuracy: 90.61%\n",
      "Thresh=0.003, n=77, Accuracy: 90.61%\n",
      "Thresh=0.003, n=77, Accuracy: 90.61%\n",
      "Thresh=0.003, n=77, Accuracy: 90.61%\n",
      "Thresh=0.003, n=77, Accuracy: 90.61%\n",
      "Thresh=0.003, n=77, Accuracy: 90.61%\n",
      "Thresh=0.003, n=77, Accuracy: 90.61%\n",
      "Thresh=0.003, n=77, Accuracy: 90.61%\n",
      "Thresh=0.003, n=77, Accuracy: 90.61%\n",
      "Thresh=0.003, n=77, Accuracy: 90.61%\n",
      "Thresh=0.003, n=77, Accuracy: 90.61%\n",
      "Thresh=0.003, n=77, Accuracy: 90.61%\n",
      "Thresh=0.003, n=77, Accuracy: 90.61%\n",
      "Thresh=0.004, n=61, Accuracy: 90.60%\n",
      "Thresh=0.004, n=61, Accuracy: 90.60%\n",
      "Thresh=0.004, n=61, Accuracy: 90.60%\n",
      "Thresh=0.004, n=61, Accuracy: 90.60%\n",
      "Thresh=0.004, n=61, Accuracy: 90.60%\n",
      "Thresh=0.004, n=61, Accuracy: 90.60%\n",
      "Thresh=0.004, n=61, Accuracy: 90.60%\n",
      "Thresh=0.004, n=61, Accuracy: 90.60%\n",
      "Thresh=0.004, n=61, Accuracy: 90.60%\n",
      "Thresh=0.004, n=61, Accuracy: 90.60%\n",
      "Thresh=0.006, n=51, Accuracy: 90.60%\n",
      "Thresh=0.006, n=51, Accuracy: 90.60%\n",
      "Thresh=0.006, n=51, Accuracy: 90.60%\n",
      "Thresh=0.006, n=51, Accuracy: 90.60%\n",
      "Thresh=0.006, n=51, Accuracy: 90.60%\n",
      "Thresh=0.006, n=51, Accuracy: 90.60%\n",
      "Thresh=0.006, n=51, Accuracy: 90.60%\n",
      "Thresh=0.006, n=51, Accuracy: 90.60%\n",
      "Thresh=0.006, n=51, Accuracy: 90.60%\n",
      "Thresh=0.006, n=51, Accuracy: 90.60%\n",
      "Thresh=0.007, n=41, Accuracy: 90.57%\n",
      "Thresh=0.007, n=41, Accuracy: 90.57%\n",
      "Thresh=0.007, n=41, Accuracy: 90.57%\n",
      "Thresh=0.007, n=41, Accuracy: 90.57%\n",
      "Thresh=0.007, n=41, Accuracy: 90.57%\n",
      "Thresh=0.007, n=41, Accuracy: 90.57%\n",
      "Thresh=0.007, n=41, Accuracy: 90.57%\n",
      "Thresh=0.007, n=41, Accuracy: 90.57%\n",
      "Thresh=0.007, n=41, Accuracy: 90.57%\n",
      "Thresh=0.007, n=41, Accuracy: 90.57%\n",
      "Thresh=0.009, n=31, Accuracy: 90.58%\n",
      "Thresh=0.009, n=31, Accuracy: 90.58%\n",
      "Thresh=0.009, n=31, Accuracy: 90.58%\n",
      "Thresh=0.009, n=31, Accuracy: 90.58%\n",
      "Thresh=0.009, n=31, Accuracy: 90.58%\n",
      "Thresh=0.010, n=26, Accuracy: 90.62%\n",
      "Thresh=0.010, n=26, Accuracy: 90.62%\n",
      "Thresh=0.010, n=26, Accuracy: 90.62%\n",
      "Thresh=0.013, n=23, Accuracy: 90.58%\n",
      "Thresh=0.013, n=23, Accuracy: 90.58%\n",
      "Thresh=0.013, n=23, Accuracy: 90.58%\n",
      "Thresh=0.015, n=20, Accuracy: 90.52%\n",
      "Thresh=0.015, n=20, Accuracy: 90.52%\n",
      "Thresh=0.015, n=20, Accuracy: 90.52%\n",
      "Thresh=0.016, n=17, Accuracy: 90.49%\n",
      "Thresh=0.018, n=16, Accuracy: 90.45%\n",
      "Thresh=0.018, n=16, Accuracy: 90.45%\n",
      "Thresh=0.019, n=14, Accuracy: 90.44%\n",
      "Thresh=0.019, n=14, Accuracy: 90.44%\n",
      "Thresh=0.021, n=12, Accuracy: 90.35%\n",
      "Thresh=0.021, n=12, Accuracy: 90.35%\n",
      "Thresh=0.022, n=10, Accuracy: 90.39%\n",
      "Thresh=0.024, n=9, Accuracy: 90.35%\n",
      "Thresh=0.028, n=8, Accuracy: 90.31%\n",
      "Thresh=0.037, n=7, Accuracy: 90.30%\n",
      "Thresh=0.040, n=6, Accuracy: 90.32%\n",
      "Thresh=0.040, n=6, Accuracy: 90.32%\n",
      "Thresh=0.047, n=4, Accuracy: 90.24%\n",
      "Thresh=0.053, n=3, Accuracy: 90.21%\n",
      "Thresh=0.062, n=2, Accuracy: 89.74%\n",
      "Thresh=0.092, n=1, Accuracy: 89.60%\n"
     ]
    }
   ],
   "source": [
    "X=df_sel.iloc[:,df_sel.columns!='Target']\n",
    "Y=df_sel.Target\n",
    "\n",
    "X_train, X_test, y_train, y_test = train_test_split(X, Y, test_size=0.3, random_state=7)\n",
    "\n",
    "model = XGBClassifier(random_state=0)\n",
    "model.fit(X_train, y_train)\n",
    "y_pred = model.predict(X_test)\n",
    "predictions = [round(value) for value in y_pred]\n",
    "accuracy = accuracy_score(y_test, predictions)\n",
    "print(\"Accuracy: %.2f%%\" % (accuracy * 100.0))\n",
    "thresholds = np.sort(model.feature_importances_)\n",
    "\n",
    "for thresh in thresholds:\n",
    "    selection = SelectFromModel(model, threshold=thresh, prefit=True)\n",
    "    select_X_train = selection.transform(X_train)\n",
    "    selection_model = XGBClassifier(random_state=0)\n",
    "    selection_model.fit(select_X_train, y_train)\n",
    "    select_X_test = selection.transform(X_test)\n",
    "    y_pred = selection_model.predict(select_X_test)\n",
    "    predictions = [round(value) for value in y_pred]\n",
    "    accuracy = accuracy_score(y_test, predictions)\n",
    "    print(\"Thresh=%.3f, n=%d, Accuracy: %.2f%%\" % (thresh, select_X_train.shape[1], accuracy*100.0))"
   ]
  },
  {
   "cell_type": "code",
   "execution_count": 11,
   "metadata": {},
   "outputs": [
    {
     "data": {
      "text/plain": [
       "['dom_function_document.write(',\n",
       " 'dom_function_window.addEventListener(',\n",
       " 'dom_function_window.setTimeout(',\n",
       " 'js_function_.find(',\n",
       " 'js_function_.get(',\n",
       " 'js_function_.indexOf(',\n",
       " 'js_function_.push(',\n",
       " 'js_function_.replace(',\n",
       " 'a_href_.com',\n",
       " 'a_href_https',\n",
       " 'center_count',\n",
       " 'form_action_http',\n",
       " 'iframe_src_https',\n",
       " 'link_href_.css',\n",
       " 'link_href_http',\n",
       " 'link_href_out_of_domain',\n",
       " 'link_rel_shortlink',\n",
       " 'link_type_application/rsd+xml',\n",
       " 'link_type_text/css',\n",
       " 'meta_count',\n",
       " 'p_count',\n",
       " 'script_async_true',\n",
       " 'script_src_out_of_domain',\n",
       " 'strong_count',\n",
       " 'total_count',\n",
       " 'total_href',\n",
       " 'Target']"
      ]
     },
     "execution_count": 11,
     "metadata": {},
     "output_type": "execute_result"
    }
   ],
   "source": [
    "# select features using threshold\n",
    "selection = SelectFromModel(model, threshold=0.010, prefit=True)\n",
    "select_X_train = selection.transform(X_train)\n",
    "# train model\n",
    "selection_model = XGBClassifier(random_state=0)\n",
    "selection_model.fit(select_X_train, y_train)\n",
    "# eval model\n",
    "select_X_test = selection.transform(X_test)\n",
    "y_pred = selection_model.predict(select_X_test)\n",
    "\n",
    "selection_model = selection.get_support()\n",
    "embeded_rf_feature = X.loc[:,selection_model].columns.tolist()\n",
    "\n",
    "embeded_rf_feature.append('Target')\n",
    "embeded_rf_feature"
   ]
  },
  {
   "cell_type": "markdown",
   "metadata": {},
   "source": [
    "### <a id='1' style=\"text-decoration : none; color : #000000;\"> 2. Initial Models</a>"
   ]
  },
  {
   "cell_type": "code",
   "execution_count": 12,
   "metadata": {},
   "outputs": [],
   "source": [
    "fin_col=embeded_rf_feature\n",
    "df_sel=df_sel[fin_col]"
   ]
  },
  {
   "cell_type": "code",
   "execution_count": 13,
   "metadata": {},
   "outputs": [],
   "source": [
    "train=df_sel.iloc[:32567,:]\n",
    "train_X=train.iloc[:,train.columns!='Target'].values\n",
    "train_Y=train.Target.values"
   ]
  },
  {
   "cell_type": "code",
   "execution_count": 14,
   "metadata": {},
   "outputs": [],
   "source": [
    "scaler=StandardScaler()\n",
    "scaled_X_train=scaler.fit_transform(train_X)"
   ]
  },
  {
   "cell_type": "code",
   "execution_count": 15,
   "metadata": {},
   "outputs": [],
   "source": [
    "test=df_sel.iloc[32567:,:]\n",
    "test_X=test.iloc[:,test.columns!='Target'].values\n",
    "test_Y=test.Target.values\n",
    "scaled_X_test=scaler.transform(test_X)"
   ]
  },
  {
   "cell_type": "code",
   "execution_count": 16,
   "metadata": {},
   "outputs": [
    {
     "data": {
      "text/plain": [
       "(32567, 27)"
      ]
     },
     "execution_count": 16,
     "metadata": {},
     "output_type": "execute_result"
    }
   ],
   "source": [
    "train.shape"
   ]
  },
  {
   "cell_type": "code",
   "execution_count": 17,
   "metadata": {},
   "outputs": [],
   "source": [
    "columns=fin_col\n",
    "columns.remove('Target')"
   ]
  },
  {
   "cell_type": "code",
   "execution_count": 18,
   "metadata": {
    "scrolled": false
   },
   "outputs": [
    {
     "name": "stdout",
     "output_type": "stream",
     "text": [
      "\u001b[1mK-Nearest Neighbors\u001b[0m\n",
      "Accuracy of the model for training data is: 0.9141155157060828\n",
      "Confusion Matrix for training data is:\n"
     ]
    },
    {
     "data": {
      "text/plain": [
       "Predicted  False  True  __all__\n",
       "Actual                         \n",
       "False      25542  2296    27838\n",
       "True         501  4228     4729\n",
       "__all__    26043  6524    32567"
      ]
     },
     "metadata": {},
     "output_type": "display_data"
    },
    {
     "name": "stdout",
     "output_type": "stream",
     "text": [
      "Accuracy of the model for test data is: 0.9075165806927045\n",
      "Confusion Matrix for test data is:\n"
     ]
    },
    {
     "data": {
      "text/plain": [
       "Predicted  False  True  __all__\n",
       "Actual                         \n",
       "False       6339   601     6940\n",
       "True         152  1050     1202\n",
       "__all__     6491  1651     8142"
      ]
     },
     "metadata": {},
     "output_type": "display_data"
    },
    {
     "name": "stdout",
     "output_type": "stream",
     "text": [
      "\n",
      "\n",
      "\u001b[1mLogistic Regression\u001b[0m\n",
      "Accuracy of the model for training data is: 0.8890594773850831\n",
      "Confusion Matrix for training data is:\n"
     ]
    },
    {
     "data": {
      "text/plain": [
       "Predicted  False  True  __all__\n",
       "Actual                         \n",
       "False      25131  2707    27838\n",
       "True         906  3823     4729\n",
       "__all__    26037  6530    32567"
      ]
     },
     "metadata": {},
     "output_type": "display_data"
    },
    {
     "name": "stdout",
     "output_type": "stream",
     "text": [
      "Accuracy of the model for test data is: 0.8915499877180054\n",
      "Confusion Matrix for test data is:\n"
     ]
    },
    {
     "data": {
      "text/plain": [
       "Predicted  False  True  __all__\n",
       "Actual                         \n",
       "False       6273   667     6940\n",
       "True         216   986     1202\n",
       "__all__     6489  1653     8142"
      ]
     },
     "metadata": {},
     "output_type": "display_data"
    },
    {
     "name": "stdout",
     "output_type": "stream",
     "text": [
      "\n",
      "\n",
      "\u001b[1mRandomForest Classifier\u001b[0m\n",
      "Accuracy of the model for training data is: 0.9259987103509688\n",
      "Confusion Matrix for training data is:\n"
     ]
    },
    {
     "data": {
      "text/plain": [
       "Predicted  False  True  __all__\n",
       "Actual                         \n",
       "False      25615  2223    27838\n",
       "True         187  4542     4729\n",
       "__all__    25802  6765    32567"
      ]
     },
     "metadata": {},
     "output_type": "display_data"
    },
    {
     "name": "stdout",
     "output_type": "stream",
     "text": [
      "Accuracy of the model for test data is: 0.9118152788012773\n",
      "Confusion Matrix for test data is:\n"
     ]
    },
    {
     "data": {
      "text/plain": [
       "Predicted  False  True  __all__\n",
       "Actual                         \n",
       "False       6360   580     6940\n",
       "True         138  1064     1202\n",
       "__all__     6498  1644     8142"
      ]
     },
     "metadata": {},
     "output_type": "display_data"
    },
    {
     "data": {
      "application/vnd.plotly.v1+json": {
       "config": {
        "linkText": "Export to plot.ly",
        "plotlyServerURL": "https://plot.ly",
        "showLink": true
       },
       "data": [
        {
         "marker": {
          "color": "rgb(158,202,225)",
          "line": {
           "color": "rgb(8,48,107)",
           "width": 1.5
          }
         },
         "opacity": 0.6,
         "orientation": "h",
         "text": [
          0.226,
          0.174,
          0.1183,
          0.0974,
          0.0957,
          0.0735,
          0.0358,
          0.0201,
          0.0198,
          0.015,
          0.0145,
          0.014,
          0.0133,
          0.0111,
          0.0111,
          0.0109,
          0.0103,
          0.009,
          0.0069,
          0.0049,
          0.0049,
          0.0037,
          0.0031,
          0.0028,
          0.0026,
          0.0013
         ],
         "textposition": "outside",
         "type": "bar",
         "uid": "6f1d20c2-1a36-4509-b2b5-3bf906b58e18",
         "x": [
          0.22597113191611712,
          0.17396295472623752,
          0.11829682204190994,
          0.09736570729777465,
          0.09570909580385575,
          0.07345710160323268,
          0.035841184115808604,
          0.020083662473347873,
          0.019842545654464357,
          0.015015764910815799,
          0.014496682365005084,
          0.014036007881326163,
          0.013280272298843437,
          0.01114366435721546,
          0.011055483331205327,
          0.010942050978436826,
          0.010338465355242826,
          0.009010227687012918,
          0.0068528950760979295,
          0.0049369191283471685,
          0.004866155482538217,
          0.0036620402800341444,
          0.003148921479000491,
          0.0027545783941584964,
          0.00259990259880193,
          0.0013297627631693588
         ],
         "y": [
          "total_href",
          "total_count",
          "link_href_out_of_domain",
          "p_count",
          "meta_count",
          "a_href_https",
          "script_async_true",
          "push",
          "link_type_text/css",
          "strong_count",
          "link_href_http",
          "link_href_.css",
          "form_action_http",
          "document.write",
          "script_src_out_of_domain",
          "iframe_src_https",
          "center_count",
          "indexOf",
          "replace",
          "get",
          "a_href_.com",
          "find",
          "window.setTimeout",
          "window.addEventListener",
          "link_type_application/rsd+xml",
          "link_rel_shortlink"
         ]
        }
       ],
       "layout": {
        "autosize": false,
        "height": 1000,
        "width": 1000,
        "xaxis": {
         "tickfont": {
          "color": "black",
          "size": 12
         },
         "title": "Feature Importances"
        },
        "yaxis": {
         "automargin": true
        }
       }
      },
      "text/html": [
       "<div id=\"69f5fdcf-5765-4a83-b34f-5afce931de45\" style=\"height: 1000px; width: 1000px;\" class=\"plotly-graph-div\"></div><script type=\"text/javascript\">require([\"plotly\"], function(Plotly) { window.PLOTLYENV=window.PLOTLYENV || {};window.PLOTLYENV.BASE_URL=\"https://plot.ly\";Plotly.newPlot(\"69f5fdcf-5765-4a83-b34f-5afce931de45\", [{\"marker\": {\"color\": \"rgb(158,202,225)\", \"line\": {\"color\": \"rgb(8,48,107)\", \"width\": 1.5}}, \"opacity\": 0.6, \"orientation\": \"h\", \"text\": [0.226, 0.174, 0.1183, 0.0974, 0.0957, 0.0735, 0.0358, 0.0201, 0.0198, 0.015, 0.0145, 0.014, 0.0133, 0.0111, 0.0111, 0.0109, 0.0103, 0.009, 0.0069, 0.0049, 0.0049, 0.0037, 0.0031, 0.0028, 0.0026, 0.0013], \"textposition\": \"outside\", \"x\": [0.22597113191611712, 0.17396295472623752, 0.11829682204190994, 0.09736570729777465, 0.09570909580385575, 0.07345710160323268, 0.035841184115808604, 0.020083662473347873, 0.019842545654464357, 0.015015764910815799, 0.014496682365005084, 0.014036007881326163, 0.013280272298843437, 0.01114366435721546, 0.011055483331205327, 0.010942050978436826, 0.010338465355242826, 0.009010227687012918, 0.0068528950760979295, 0.0049369191283471685, 0.004866155482538217, 0.0036620402800341444, 0.003148921479000491, 0.0027545783941584964, 0.00259990259880193, 0.0013297627631693588], \"y\": [\"total_href\", \"total_count\", \"link_href_out_of_domain\", \"p_count\", \"meta_count\", \"a_href_https\", \"script_async_true\", \"push\", \"link_type_text/css\", \"strong_count\", \"link_href_http\", \"link_href_.css\", \"form_action_http\", \"document.write\", \"script_src_out_of_domain\", \"iframe_src_https\", \"center_count\", \"indexOf\", \"replace\", \"get\", \"a_href_.com\", \"find\", \"window.setTimeout\", \"window.addEventListener\", \"link_type_application/rsd+xml\", \"link_rel_shortlink\"], \"type\": \"bar\", \"uid\": \"6f1d20c2-1a36-4509-b2b5-3bf906b58e18\"}], {\"autosize\": false, \"height\": 1000, \"width\": 1000, \"xaxis\": {\"tickfont\": {\"color\": \"black\", \"size\": 12}, \"title\": \"Feature Importances\"}, \"yaxis\": {\"automargin\": true}}, {\"showLink\": true, \"linkText\": \"Export to plot.ly\", \"plotlyServerURL\": \"https://plot.ly\"})});</script>"
      ],
      "text/vnd.plotly.v1+html": [
       "<div id=\"69f5fdcf-5765-4a83-b34f-5afce931de45\" style=\"height: 1000px; width: 1000px;\" class=\"plotly-graph-div\"></div><script type=\"text/javascript\">require([\"plotly\"], function(Plotly) { window.PLOTLYENV=window.PLOTLYENV || {};window.PLOTLYENV.BASE_URL=\"https://plot.ly\";Plotly.newPlot(\"69f5fdcf-5765-4a83-b34f-5afce931de45\", [{\"marker\": {\"color\": \"rgb(158,202,225)\", \"line\": {\"color\": \"rgb(8,48,107)\", \"width\": 1.5}}, \"opacity\": 0.6, \"orientation\": \"h\", \"text\": [0.226, 0.174, 0.1183, 0.0974, 0.0957, 0.0735, 0.0358, 0.0201, 0.0198, 0.015, 0.0145, 0.014, 0.0133, 0.0111, 0.0111, 0.0109, 0.0103, 0.009, 0.0069, 0.0049, 0.0049, 0.0037, 0.0031, 0.0028, 0.0026, 0.0013], \"textposition\": \"outside\", \"x\": [0.22597113191611712, 0.17396295472623752, 0.11829682204190994, 0.09736570729777465, 0.09570909580385575, 0.07345710160323268, 0.035841184115808604, 0.020083662473347873, 0.019842545654464357, 0.015015764910815799, 0.014496682365005084, 0.014036007881326163, 0.013280272298843437, 0.01114366435721546, 0.011055483331205327, 0.010942050978436826, 0.010338465355242826, 0.009010227687012918, 0.0068528950760979295, 0.0049369191283471685, 0.004866155482538217, 0.0036620402800341444, 0.003148921479000491, 0.0027545783941584964, 0.00259990259880193, 0.0013297627631693588], \"y\": [\"total_href\", \"total_count\", \"link_href_out_of_domain\", \"p_count\", \"meta_count\", \"a_href_https\", \"script_async_true\", \"push\", \"link_type_text/css\", \"strong_count\", \"link_href_http\", \"link_href_.css\", \"form_action_http\", \"document.write\", \"script_src_out_of_domain\", \"iframe_src_https\", \"center_count\", \"indexOf\", \"replace\", \"get\", \"a_href_.com\", \"find\", \"window.setTimeout\", \"window.addEventListener\", \"link_type_application/rsd+xml\", \"link_rel_shortlink\"], \"type\": \"bar\", \"uid\": \"6f1d20c2-1a36-4509-b2b5-3bf906b58e18\"}], {\"autosize\": false, \"height\": 1000, \"width\": 1000, \"xaxis\": {\"tickfont\": {\"color\": \"black\", \"size\": 12}, \"title\": \"Feature Importances\"}, \"yaxis\": {\"automargin\": true}}, {\"showLink\": true, \"linkText\": \"Export to plot.ly\", \"plotlyServerURL\": \"https://plot.ly\"})});</script>"
      ]
     },
     "metadata": {},
     "output_type": "display_data"
    },
    {
     "name": "stdout",
     "output_type": "stream",
     "text": [
      "\n",
      "\n",
      "\u001b[1mAdaoost Classifier\u001b[0m\n",
      "Accuracy of the model for training data is: 0.9030613811527006\n",
      "Confusion Matrix for training data is:\n"
     ]
    },
    {
     "data": {
      "text/plain": [
       "Predicted  False  True  __all__\n",
       "Actual                         \n",
       "False      25524  2314    27838\n",
       "True         843  3886     4729\n",
       "__all__    26367  6200    32567"
      ]
     },
     "metadata": {},
     "output_type": "display_data"
    },
    {
     "name": "stdout",
     "output_type": "stream",
     "text": [
      "Accuracy of the model for test data is: 0.9019896831245394\n",
      "Confusion Matrix for test data is:\n"
     ]
    },
    {
     "data": {
      "text/plain": [
       "Predicted  False  True  __all__\n",
       "Actual                         \n",
       "False       6352   588     6940\n",
       "True         210   992     1202\n",
       "__all__     6562  1580     8142"
      ]
     },
     "metadata": {},
     "output_type": "display_data"
    },
    {
     "data": {
      "application/vnd.plotly.v1+json": {
       "config": {
        "linkText": "Export to plot.ly",
        "plotlyServerURL": "https://plot.ly",
        "showLink": true
       },
       "data": [
        {
         "marker": {
          "color": "rgb(158,202,225)",
          "line": {
           "color": "rgb(8,48,107)",
           "width": 1.5
          }
         },
         "opacity": 0.6,
         "orientation": "h",
         "text": [
          0.2,
          0.1,
          0.06,
          0.06,
          0.04,
          0.04,
          0.04,
          0.04,
          0.04,
          0.04,
          0.04,
          0.04,
          0.02,
          0.02,
          0.02,
          0.02,
          0.02,
          0.02,
          0.02,
          0.02,
          0.02,
          0.02,
          0.02,
          0.02,
          0.02,
          0
         ],
         "textposition": "outside",
         "type": "bar",
         "uid": "cb8fc155-1ef0-41e6-8408-b0a2ecb5412e",
         "x": [
          0.2,
          0.1,
          0.06,
          0.06,
          0.04,
          0.04,
          0.04,
          0.04,
          0.04,
          0.04,
          0.04,
          0.04,
          0.02,
          0.02,
          0.02,
          0.02,
          0.02,
          0.02,
          0.02,
          0.02,
          0.02,
          0.02,
          0.02,
          0.02,
          0.02,
          0
         ],
         "y": [
          "total_count",
          "total_href",
          "a_href_https",
          "link_href_http",
          "window.setTimeout",
          "indexOf",
          "push",
          "a_href_.com",
          "script_async_true",
          "p_count",
          "link_type_text/css",
          "link_href_out_of_domain",
          "link_type_application/rsd+xml",
          "strong_count",
          "script_src_out_of_domain",
          "meta_count",
          "document.write",
          "link_rel_shortlink",
          "window.addEventListener",
          "iframe_src_https",
          "form_action_http",
          "center_count",
          "get",
          "find",
          "link_href_.css",
          "replace"
         ]
        }
       ],
       "layout": {
        "autosize": false,
        "height": 1000,
        "width": 1000,
        "xaxis": {
         "tickfont": {
          "color": "black",
          "size": 12
         },
         "title": "Feature Importances"
        },
        "yaxis": {
         "automargin": true
        }
       }
      },
      "text/html": [
       "<div id=\"b59163b9-b67a-4b27-ac50-5e974f7d95ed\" style=\"height: 1000px; width: 1000px;\" class=\"plotly-graph-div\"></div><script type=\"text/javascript\">require([\"plotly\"], function(Plotly) { window.PLOTLYENV=window.PLOTLYENV || {};window.PLOTLYENV.BASE_URL=\"https://plot.ly\";Plotly.newPlot(\"b59163b9-b67a-4b27-ac50-5e974f7d95ed\", [{\"marker\": {\"color\": \"rgb(158,202,225)\", \"line\": {\"color\": \"rgb(8,48,107)\", \"width\": 1.5}}, \"opacity\": 0.6, \"orientation\": \"h\", \"text\": [0.2, 0.1, 0.06, 0.06, 0.04, 0.04, 0.04, 0.04, 0.04, 0.04, 0.04, 0.04, 0.02, 0.02, 0.02, 0.02, 0.02, 0.02, 0.02, 0.02, 0.02, 0.02, 0.02, 0.02, 0.02, 0.0], \"textposition\": \"outside\", \"x\": [0.2, 0.1, 0.06, 0.06, 0.04, 0.04, 0.04, 0.04, 0.04, 0.04, 0.04, 0.04, 0.02, 0.02, 0.02, 0.02, 0.02, 0.02, 0.02, 0.02, 0.02, 0.02, 0.02, 0.02, 0.02, 0.0], \"y\": [\"total_count\", \"total_href\", \"a_href_https\", \"link_href_http\", \"window.setTimeout\", \"indexOf\", \"push\", \"a_href_.com\", \"script_async_true\", \"p_count\", \"link_type_text/css\", \"link_href_out_of_domain\", \"link_type_application/rsd+xml\", \"strong_count\", \"script_src_out_of_domain\", \"meta_count\", \"document.write\", \"link_rel_shortlink\", \"window.addEventListener\", \"iframe_src_https\", \"form_action_http\", \"center_count\", \"get\", \"find\", \"link_href_.css\", \"replace\"], \"type\": \"bar\", \"uid\": \"cb8fc155-1ef0-41e6-8408-b0a2ecb5412e\"}], {\"autosize\": false, \"height\": 1000, \"width\": 1000, \"xaxis\": {\"tickfont\": {\"color\": \"black\", \"size\": 12}, \"title\": \"Feature Importances\"}, \"yaxis\": {\"automargin\": true}}, {\"showLink\": true, \"linkText\": \"Export to plot.ly\", \"plotlyServerURL\": \"https://plot.ly\"})});</script>"
      ],
      "text/vnd.plotly.v1+html": [
       "<div id=\"b59163b9-b67a-4b27-ac50-5e974f7d95ed\" style=\"height: 1000px; width: 1000px;\" class=\"plotly-graph-div\"></div><script type=\"text/javascript\">require([\"plotly\"], function(Plotly) { window.PLOTLYENV=window.PLOTLYENV || {};window.PLOTLYENV.BASE_URL=\"https://plot.ly\";Plotly.newPlot(\"b59163b9-b67a-4b27-ac50-5e974f7d95ed\", [{\"marker\": {\"color\": \"rgb(158,202,225)\", \"line\": {\"color\": \"rgb(8,48,107)\", \"width\": 1.5}}, \"opacity\": 0.6, \"orientation\": \"h\", \"text\": [0.2, 0.1, 0.06, 0.06, 0.04, 0.04, 0.04, 0.04, 0.04, 0.04, 0.04, 0.04, 0.02, 0.02, 0.02, 0.02, 0.02, 0.02, 0.02, 0.02, 0.02, 0.02, 0.02, 0.02, 0.02, 0.0], \"textposition\": \"outside\", \"x\": [0.2, 0.1, 0.06, 0.06, 0.04, 0.04, 0.04, 0.04, 0.04, 0.04, 0.04, 0.04, 0.02, 0.02, 0.02, 0.02, 0.02, 0.02, 0.02, 0.02, 0.02, 0.02, 0.02, 0.02, 0.02, 0.0], \"y\": [\"total_count\", \"total_href\", \"a_href_https\", \"link_href_http\", \"window.setTimeout\", \"indexOf\", \"push\", \"a_href_.com\", \"script_async_true\", \"p_count\", \"link_type_text/css\", \"link_href_out_of_domain\", \"link_type_application/rsd+xml\", \"strong_count\", \"script_src_out_of_domain\", \"meta_count\", \"document.write\", \"link_rel_shortlink\", \"window.addEventListener\", \"iframe_src_https\", \"form_action_http\", \"center_count\", \"get\", \"find\", \"link_href_.css\", \"replace\"], \"type\": \"bar\", \"uid\": \"cb8fc155-1ef0-41e6-8408-b0a2ecb5412e\"}], {\"autosize\": false, \"height\": 1000, \"width\": 1000, \"xaxis\": {\"tickfont\": {\"color\": \"black\", \"size\": 12}, \"title\": \"Feature Importances\"}, \"yaxis\": {\"automargin\": true}}, {\"showLink\": true, \"linkText\": \"Export to plot.ly\", \"plotlyServerURL\": \"https://plot.ly\"})});</script>"
      ]
     },
     "metadata": {},
     "output_type": "display_data"
    },
    {
     "name": "stdout",
     "output_type": "stream",
     "text": [
      "\n",
      "\n",
      "\u001b[1mGradientBoosting Classifier\u001b[0m\n",
      "Accuracy of the model for training data is: 0.9105843338348635\n",
      "Confusion Matrix for training data is:\n"
     ]
    },
    {
     "data": {
      "text/plain": [
       "Predicted  False  True  __all__\n",
       "Actual                         \n",
       "False      25605  2233    27838\n",
       "True         679  4050     4729\n",
       "__all__    26284  6283    32567"
      ]
     },
     "metadata": {},
     "output_type": "display_data"
    },
    {
     "name": "stdout",
     "output_type": "stream",
     "text": [
      "Accuracy of the model for test data is: 0.9078850405305822\n",
      "Confusion Matrix for test data is:\n"
     ]
    },
    {
     "data": {
      "text/plain": [
       "Predicted  False  True  __all__\n",
       "Actual                         \n",
       "False       6371   569     6940\n",
       "True         181  1021     1202\n",
       "__all__     6552  1590     8142"
      ]
     },
     "metadata": {},
     "output_type": "display_data"
    },
    {
     "data": {
      "application/vnd.plotly.v1+json": {
       "config": {
        "linkText": "Export to plot.ly",
        "plotlyServerURL": "https://plot.ly",
        "showLink": true
       },
       "data": [
        {
         "marker": {
          "color": "rgb(158,202,225)",
          "line": {
           "color": "rgb(8,48,107)",
           "width": 1.5
          }
         },
         "opacity": 0.6,
         "orientation": "h",
         "text": [
          0.8152,
          0.0346,
          0.0337,
          0.0214,
          0.0124,
          0.0115,
          0.0104,
          0.01,
          0.0069,
          0.0066,
          0.0057,
          0.0053,
          0.0038,
          0.0031,
          0.0031,
          0.0029,
          0.0028,
          0.0024,
          0.0018,
          0.0017,
          0.0016,
          0.0012,
          0.0008,
          0.0006,
          0.0004,
          0
         ],
         "textposition": "outside",
         "type": "bar",
         "uid": "15c76389-dbb7-497c-b603-e92f83d8362c",
         "x": [
          0.8152260514513097,
          0.034619415246233624,
          0.033659313285452463,
          0.021373844115355728,
          0.012395322800920006,
          0.011516516088476182,
          0.010353371734728433,
          0.010037728057783721,
          0.006896873557900222,
          0.006559543890415222,
          0.005735844306259946,
          0.0052914664429620645,
          0.003763979545536463,
          0.003130831914614991,
          0.0030922562997096914,
          0.0029299193809856432,
          0.002810223347092675,
          0.002416976506110309,
          0.0017946921573545218,
          0.0017197897703113683,
          0.0016034248355848405,
          0.0012338766434602823,
          0.0008268244742502891,
          0.000597507647184436,
          0.0003676304875236619,
          4.677601248359439e-05
         ],
         "y": [
          "total_count",
          "link_href_out_of_domain",
          "total_href",
          "push",
          "p_count",
          "form_action_http",
          "strong_count",
          "link_type_text/css",
          "window.setTimeout",
          "script_async_true",
          "indexOf",
          "meta_count",
          "a_href_https",
          "script_src_out_of_domain",
          "center_count",
          "get",
          "link_href_http",
          "document.write",
          "a_href_.com",
          "link_rel_shortlink",
          "link_type_application/rsd+xml",
          "find",
          "link_href_.css",
          "iframe_src_https",
          "replace",
          "window.addEventListener"
         ]
        }
       ],
       "layout": {
        "autosize": false,
        "height": 1000,
        "width": 1000,
        "xaxis": {
         "tickfont": {
          "color": "black",
          "size": 12
         },
         "title": "Feature Importances"
        },
        "yaxis": {
         "automargin": true
        }
       }
      },
      "text/html": [
       "<div id=\"b36f7fae-b94b-4b5a-b9d7-67933eaa2eca\" style=\"height: 1000px; width: 1000px;\" class=\"plotly-graph-div\"></div><script type=\"text/javascript\">require([\"plotly\"], function(Plotly) { window.PLOTLYENV=window.PLOTLYENV || {};window.PLOTLYENV.BASE_URL=\"https://plot.ly\";Plotly.newPlot(\"b36f7fae-b94b-4b5a-b9d7-67933eaa2eca\", [{\"marker\": {\"color\": \"rgb(158,202,225)\", \"line\": {\"color\": \"rgb(8,48,107)\", \"width\": 1.5}}, \"opacity\": 0.6, \"orientation\": \"h\", \"text\": [0.8152, 0.0346, 0.0337, 0.0214, 0.0124, 0.0115, 0.0104, 0.01, 0.0069, 0.0066, 0.0057, 0.0053, 0.0038, 0.0031, 0.0031, 0.0029, 0.0028, 0.0024, 0.0018, 0.0017, 0.0016, 0.0012, 0.0008, 0.0006, 0.0004, 0.0], \"textposition\": \"outside\", \"x\": [0.8152260514513097, 0.034619415246233624, 0.033659313285452463, 0.021373844115355728, 0.012395322800920006, 0.011516516088476182, 0.010353371734728433, 0.010037728057783721, 0.006896873557900222, 0.006559543890415222, 0.005735844306259946, 0.0052914664429620645, 0.003763979545536463, 0.003130831914614991, 0.0030922562997096914, 0.0029299193809856432, 0.002810223347092675, 0.002416976506110309, 0.0017946921573545218, 0.0017197897703113683, 0.0016034248355848405, 0.0012338766434602823, 0.0008268244742502891, 0.000597507647184436, 0.0003676304875236619, 4.677601248359439e-05], \"y\": [\"total_count\", \"link_href_out_of_domain\", \"total_href\", \"push\", \"p_count\", \"form_action_http\", \"strong_count\", \"link_type_text/css\", \"window.setTimeout\", \"script_async_true\", \"indexOf\", \"meta_count\", \"a_href_https\", \"script_src_out_of_domain\", \"center_count\", \"get\", \"link_href_http\", \"document.write\", \"a_href_.com\", \"link_rel_shortlink\", \"link_type_application/rsd+xml\", \"find\", \"link_href_.css\", \"iframe_src_https\", \"replace\", \"window.addEventListener\"], \"type\": \"bar\", \"uid\": \"15c76389-dbb7-497c-b603-e92f83d8362c\"}], {\"autosize\": false, \"height\": 1000, \"width\": 1000, \"xaxis\": {\"tickfont\": {\"color\": \"black\", \"size\": 12}, \"title\": \"Feature Importances\"}, \"yaxis\": {\"automargin\": true}}, {\"showLink\": true, \"linkText\": \"Export to plot.ly\", \"plotlyServerURL\": \"https://plot.ly\"})});</script>"
      ],
      "text/vnd.plotly.v1+html": [
       "<div id=\"b36f7fae-b94b-4b5a-b9d7-67933eaa2eca\" style=\"height: 1000px; width: 1000px;\" class=\"plotly-graph-div\"></div><script type=\"text/javascript\">require([\"plotly\"], function(Plotly) { window.PLOTLYENV=window.PLOTLYENV || {};window.PLOTLYENV.BASE_URL=\"https://plot.ly\";Plotly.newPlot(\"b36f7fae-b94b-4b5a-b9d7-67933eaa2eca\", [{\"marker\": {\"color\": \"rgb(158,202,225)\", \"line\": {\"color\": \"rgb(8,48,107)\", \"width\": 1.5}}, \"opacity\": 0.6, \"orientation\": \"h\", \"text\": [0.8152, 0.0346, 0.0337, 0.0214, 0.0124, 0.0115, 0.0104, 0.01, 0.0069, 0.0066, 0.0057, 0.0053, 0.0038, 0.0031, 0.0031, 0.0029, 0.0028, 0.0024, 0.0018, 0.0017, 0.0016, 0.0012, 0.0008, 0.0006, 0.0004, 0.0], \"textposition\": \"outside\", \"x\": [0.8152260514513097, 0.034619415246233624, 0.033659313285452463, 0.021373844115355728, 0.012395322800920006, 0.011516516088476182, 0.010353371734728433, 0.010037728057783721, 0.006896873557900222, 0.006559543890415222, 0.005735844306259946, 0.0052914664429620645, 0.003763979545536463, 0.003130831914614991, 0.0030922562997096914, 0.0029299193809856432, 0.002810223347092675, 0.002416976506110309, 0.0017946921573545218, 0.0017197897703113683, 0.0016034248355848405, 0.0012338766434602823, 0.0008268244742502891, 0.000597507647184436, 0.0003676304875236619, 4.677601248359439e-05], \"y\": [\"total_count\", \"link_href_out_of_domain\", \"total_href\", \"push\", \"p_count\", \"form_action_http\", \"strong_count\", \"link_type_text/css\", \"window.setTimeout\", \"script_async_true\", \"indexOf\", \"meta_count\", \"a_href_https\", \"script_src_out_of_domain\", \"center_count\", \"get\", \"link_href_http\", \"document.write\", \"a_href_.com\", \"link_rel_shortlink\", \"link_type_application/rsd+xml\", \"find\", \"link_href_.css\", \"iframe_src_https\", \"replace\", \"window.addEventListener\"], \"type\": \"bar\", \"uid\": \"15c76389-dbb7-497c-b603-e92f83d8362c\"}], {\"autosize\": false, \"height\": 1000, \"width\": 1000, \"xaxis\": {\"tickfont\": {\"color\": \"black\", \"size\": 12}, \"title\": \"Feature Importances\"}, \"yaxis\": {\"automargin\": true}}, {\"showLink\": true, \"linkText\": \"Export to plot.ly\", \"plotlyServerURL\": \"https://plot.ly\"})});</script>"
      ]
     },
     "metadata": {},
     "output_type": "display_data"
    },
    {
     "name": "stdout",
     "output_type": "stream",
     "text": [
      "\n",
      "\n",
      "\u001b[1mExtraTree Classifier\u001b[0m\n",
      "Accuracy of the model for training data is: 0.9279024779684957\n",
      "Confusion Matrix for training data is:\n"
     ]
    },
    {
     "data": {
      "text/plain": [
       "Predicted  False  True  __all__\n",
       "Actual                         \n",
       "False      25619  2219    27838\n",
       "True         129  4600     4729\n",
       "__all__    25748  6819    32567"
      ]
     },
     "metadata": {},
     "output_type": "display_data"
    },
    {
     "name": "stdout",
     "output_type": "stream",
     "text": [
      "Accuracy of the model for test data is: 0.9110783591255219\n",
      "Confusion Matrix for test data is:\n"
     ]
    },
    {
     "data": {
      "text/plain": [
       "Predicted  False  True  __all__\n",
       "Actual                         \n",
       "False       6355   585     6940\n",
       "True         139  1063     1202\n",
       "__all__     6494  1648     8142"
      ]
     },
     "metadata": {},
     "output_type": "display_data"
    },
    {
     "data": {
      "application/vnd.plotly.v1+json": {
       "config": {
        "linkText": "Export to plot.ly",
        "plotlyServerURL": "https://plot.ly",
        "showLink": true
       },
       "data": [
        {
         "marker": {
          "color": "rgb(158,202,225)",
          "line": {
           "color": "rgb(8,48,107)",
           "width": 1.5
          }
         },
         "opacity": 0.6,
         "orientation": "h",
         "text": [
          0.1025,
          0.0931,
          0.0848,
          0.0845,
          0.0814,
          0.0771,
          0.0682,
          0.0649,
          0.0503,
          0.0494,
          0.031,
          0.0285,
          0.0229,
          0.0225,
          0.0218,
          0.0205,
          0.0156,
          0.0151,
          0.015,
          0.0113,
          0.0091,
          0.0074,
          0.0067,
          0.0061,
          0.0057,
          0.0043
         ],
         "textposition": "outside",
         "type": "bar",
         "uid": "446ce99f-88fd-4430-936d-3eb2e82c933d",
         "x": [
          0.10249705549421746,
          0.09313493909730362,
          0.08484500222707045,
          0.0845409031375688,
          0.08144553538165918,
          0.07714581419448618,
          0.06823001850056316,
          0.06486899377733849,
          0.050280611171485634,
          0.0493782066546658,
          0.030999795357907856,
          0.028459553198123565,
          0.022888544130239573,
          0.022457947299805287,
          0.021767315495934365,
          0.02050106799849129,
          0.015585861091913891,
          0.01512311345888882,
          0.015029438407343096,
          0.011302568764849445,
          0.009135100740041575,
          0.0074167758442880895,
          0.006737906602180037,
          0.00614436934610648,
          0.005742616509042084,
          0.004340946118485767
         ],
         "y": [
          "script_async_true",
          "total_count",
          "meta_count",
          "a_href_https",
          "script_src_out_of_domain",
          "p_count",
          "link_href_.css",
          "link_href_out_of_domain",
          "total_href",
          "link_type_text/css",
          "link_href_http",
          "iframe_src_https",
          "center_count",
          "form_action_http",
          "push",
          "replace",
          "window.addEventListener",
          "indexOf",
          "strong_count",
          "document.write",
          "get",
          "link_type_application/rsd+xml",
          "a_href_.com",
          "link_rel_shortlink",
          "find",
          "window.setTimeout"
         ]
        }
       ],
       "layout": {
        "autosize": false,
        "height": 1000,
        "width": 1000,
        "xaxis": {
         "tickfont": {
          "color": "black",
          "size": 12
         },
         "title": "Feature Importances"
        },
        "yaxis": {
         "automargin": true
        }
       }
      },
      "text/html": [
       "<div id=\"a7e00944-6188-461a-b2d8-3008551683b1\" style=\"height: 1000px; width: 1000px;\" class=\"plotly-graph-div\"></div><script type=\"text/javascript\">require([\"plotly\"], function(Plotly) { window.PLOTLYENV=window.PLOTLYENV || {};window.PLOTLYENV.BASE_URL=\"https://plot.ly\";Plotly.newPlot(\"a7e00944-6188-461a-b2d8-3008551683b1\", [{\"marker\": {\"color\": \"rgb(158,202,225)\", \"line\": {\"color\": \"rgb(8,48,107)\", \"width\": 1.5}}, \"opacity\": 0.6, \"orientation\": \"h\", \"text\": [0.1025, 0.0931, 0.0848, 0.0845, 0.0814, 0.0771, 0.0682, 0.0649, 0.0503, 0.0494, 0.031, 0.0285, 0.0229, 0.0225, 0.0218, 0.0205, 0.0156, 0.0151, 0.015, 0.0113, 0.0091, 0.0074, 0.0067, 0.0061, 0.0057, 0.0043], \"textposition\": \"outside\", \"x\": [0.10249705549421746, 0.09313493909730362, 0.08484500222707045, 0.0845409031375688, 0.08144553538165918, 0.07714581419448618, 0.06823001850056316, 0.06486899377733849, 0.050280611171485634, 0.0493782066546658, 0.030999795357907856, 0.028459553198123565, 0.022888544130239573, 0.022457947299805287, 0.021767315495934365, 0.02050106799849129, 0.015585861091913891, 0.01512311345888882, 0.015029438407343096, 0.011302568764849445, 0.009135100740041575, 0.0074167758442880895, 0.006737906602180037, 0.00614436934610648, 0.005742616509042084, 0.004340946118485767], \"y\": [\"script_async_true\", \"total_count\", \"meta_count\", \"a_href_https\", \"script_src_out_of_domain\", \"p_count\", \"link_href_.css\", \"link_href_out_of_domain\", \"total_href\", \"link_type_text/css\", \"link_href_http\", \"iframe_src_https\", \"center_count\", \"form_action_http\", \"push\", \"replace\", \"window.addEventListener\", \"indexOf\", \"strong_count\", \"document.write\", \"get\", \"link_type_application/rsd+xml\", \"a_href_.com\", \"link_rel_shortlink\", \"find\", \"window.setTimeout\"], \"type\": \"bar\", \"uid\": \"446ce99f-88fd-4430-936d-3eb2e82c933d\"}], {\"autosize\": false, \"height\": 1000, \"width\": 1000, \"xaxis\": {\"tickfont\": {\"color\": \"black\", \"size\": 12}, \"title\": \"Feature Importances\"}, \"yaxis\": {\"automargin\": true}}, {\"showLink\": true, \"linkText\": \"Export to plot.ly\", \"plotlyServerURL\": \"https://plot.ly\"})});</script>"
      ],
      "text/vnd.plotly.v1+html": [
       "<div id=\"a7e00944-6188-461a-b2d8-3008551683b1\" style=\"height: 1000px; width: 1000px;\" class=\"plotly-graph-div\"></div><script type=\"text/javascript\">require([\"plotly\"], function(Plotly) { window.PLOTLYENV=window.PLOTLYENV || {};window.PLOTLYENV.BASE_URL=\"https://plot.ly\";Plotly.newPlot(\"a7e00944-6188-461a-b2d8-3008551683b1\", [{\"marker\": {\"color\": \"rgb(158,202,225)\", \"line\": {\"color\": \"rgb(8,48,107)\", \"width\": 1.5}}, \"opacity\": 0.6, \"orientation\": \"h\", \"text\": [0.1025, 0.0931, 0.0848, 0.0845, 0.0814, 0.0771, 0.0682, 0.0649, 0.0503, 0.0494, 0.031, 0.0285, 0.0229, 0.0225, 0.0218, 0.0205, 0.0156, 0.0151, 0.015, 0.0113, 0.0091, 0.0074, 0.0067, 0.0061, 0.0057, 0.0043], \"textposition\": \"outside\", \"x\": [0.10249705549421746, 0.09313493909730362, 0.08484500222707045, 0.0845409031375688, 0.08144553538165918, 0.07714581419448618, 0.06823001850056316, 0.06486899377733849, 0.050280611171485634, 0.0493782066546658, 0.030999795357907856, 0.028459553198123565, 0.022888544130239573, 0.022457947299805287, 0.021767315495934365, 0.02050106799849129, 0.015585861091913891, 0.01512311345888882, 0.015029438407343096, 0.011302568764849445, 0.009135100740041575, 0.0074167758442880895, 0.006737906602180037, 0.00614436934610648, 0.005742616509042084, 0.004340946118485767], \"y\": [\"script_async_true\", \"total_count\", \"meta_count\", \"a_href_https\", \"script_src_out_of_domain\", \"p_count\", \"link_href_.css\", \"link_href_out_of_domain\", \"total_href\", \"link_type_text/css\", \"link_href_http\", \"iframe_src_https\", \"center_count\", \"form_action_http\", \"push\", \"replace\", \"window.addEventListener\", \"indexOf\", \"strong_count\", \"document.write\", \"get\", \"link_type_application/rsd+xml\", \"a_href_.com\", \"link_rel_shortlink\", \"find\", \"window.setTimeout\"], \"type\": \"bar\", \"uid\": \"446ce99f-88fd-4430-936d-3eb2e82c933d\"}], {\"autosize\": false, \"height\": 1000, \"width\": 1000, \"xaxis\": {\"tickfont\": {\"color\": \"black\", \"size\": 12}, \"title\": \"Feature Importances\"}, \"yaxis\": {\"automargin\": true}}, {\"showLink\": true, \"linkText\": \"Export to plot.ly\", \"plotlyServerURL\": \"https://plot.ly\"})});</script>"
      ]
     },
     "metadata": {},
     "output_type": "display_data"
    },
    {
     "name": "stdout",
     "output_type": "stream",
     "text": [
      "\n",
      "\n",
      "\u001b[1mBagging Classifier\u001b[0m\n",
      "Accuracy of the model for training data is: 0.9257837688457641\n",
      "Confusion Matrix for training data is:\n"
     ]
    },
    {
     "data": {
      "text/plain": [
       "Predicted  False  True  __all__\n",
       "Actual                         \n",
       "False      25613  2225    27838\n",
       "True         192  4537     4729\n",
       "__all__    25805  6762    32567"
      ]
     },
     "metadata": {},
     "output_type": "display_data"
    },
    {
     "name": "stdout",
     "output_type": "stream",
     "text": [
      "Accuracy of the model for test data is: 0.9109555391795627\n",
      "Confusion Matrix for test data is:\n"
     ]
    },
    {
     "data": {
      "text/plain": [
       "Predicted  False  True  __all__\n",
       "Actual                         \n",
       "False       6354   586     6940\n",
       "True         139  1063     1202\n",
       "__all__     6493  1649     8142"
      ]
     },
     "metadata": {},
     "output_type": "display_data"
    },
    {
     "name": "stdout",
     "output_type": "stream",
     "text": [
      "\n",
      "\n",
      "\u001b[1mNeural Network-1\u001b[0m\n",
      "The accuracy of the model on training data is: 0.9069917401141654\n"
     ]
    },
    {
     "data": {
      "text/plain": [
       "Predicted  False  True  __all__\n",
       "Actual                         \n",
       "False      25145  2693    27838\n",
       "True         336  4393     4729\n",
       "__all__    25481  7086    32567"
      ]
     },
     "metadata": {},
     "output_type": "display_data"
    },
    {
     "name": "stdout",
     "output_type": "stream",
     "text": [
      "The accuracy of the model on test data is: 0.9006386637189879\n"
     ]
    },
    {
     "data": {
      "text/plain": [
       "Predicted  False  True  __all__\n",
       "Actual                         \n",
       "False       6256   684     6940\n",
       "True         125  1077     1202\n",
       "__all__     6381  1761     8142"
      ]
     },
     "metadata": {},
     "output_type": "display_data"
    },
    {
     "name": "stdout",
     "output_type": "stream",
     "text": [
      "\n",
      "\n"
     ]
    }
   ],
   "source": [
    "ind_columns=['KNeighborsClassifier','LogisticRegression','RandomForestClassifier','AdaBoostClassifier',\n",
    "             'GradientBoostingClassifier','ExtraTreeClassifier','BaggingClassifier','Neural Network-1']\n",
    "\n",
    "f=[KNN_model,Logistic_model,RandomForest,AdaBoost,GradientBoosting, ExtraTree,Bagging,DeepLearning1]\n",
    "\n",
    "## Table to store training and test measures\n",
    "table_80_50_train=pd.DataFrame(columns=['accuracy','TP','TN','FP','FN','FPR','FNR'])\n",
    "table_80_50_test=pd.DataFrame(columns=['accuracy','TP','TN','FP','FN','FPR','FNR','auc','MCC'])\n",
    "\n",
    "feat_imp=[None]*4\n",
    "j=0\n",
    "for i in range(0,8):\n",
    "    if i>=2 and i<=5:\n",
    "        model,cm_train,cm_test,acc_train,acc_test,roc_auc,feat_imp[j],mcc=f[i](scaled_X_train,train_Y,scaled_X_test,test_Y,columns)\n",
    "        j=j+1\n",
    "    else:\n",
    "        model,cm_train,cm_test,acc_train,acc_test,roc_auc,mcc=f[i](scaled_X_train,train_Y,scaled_X_test,test_Y)\n",
    "    table_80_50_train.loc[i]=   ([acc_train,cm_train.TP,cm_train.TN,cm_train.FP,cm_train.FN,cm_train.FPR,cm_train.FNR])\n",
    "    table_80_50_test.loc[i] =   ([acc_test ,cm_test.TP, cm_test.TN, cm_test.FP, cm_test.FN, cm_test.FPR, cm_test.FNR,roc_auc,mcc])\n",
    "    print(\"\\n\")"
   ]
  },
  {
   "cell_type": "markdown",
   "metadata": {},
   "source": [
    "### <a id='1.A' style=\"text-decoration : none; color : #000000;\"> A Results</a>"
   ]
  },
  {
   "cell_type": "code",
   "execution_count": 19,
   "metadata": {},
   "outputs": [
    {
     "data": {
      "application/vnd.plotly.v1+json": {
       "config": {
        "linkText": "Export to plot.ly",
        "plotlyServerURL": "https://plot.ly",
        "showLink": true
       },
       "data": [
        {
         "mode": "lines",
         "name": "KNN_model",
         "type": "scatter",
         "uid": "0c8e232b-a24b-466d-acf1-16367abb7ce1",
         "x": [
          "accuracy",
          "FPR",
          "FNR",
          "auc"
         ],
         "y": [
          0.9075165806927045,
          0.08659942363112393,
          0.1264559068219634,
          0.8934723347734563
         ]
        },
        {
         "mode": "lines+markers",
         "name": "Logistic Regression",
         "type": "scatter",
         "uid": "79dfe1bd-6842-4f32-af3b-4f29ad2db27b",
         "x": [
          "accuracy",
          "FPR",
          "FNR",
          "auc"
         ],
         "y": [
          0.8915499877180054,
          0.09610951008645534,
          0.17970049916805325,
          0.8620949953727458
         ]
        },
        {
         "marker": {
          "symbol": "x"
         },
         "mode": "lines+markers",
         "name": "Random Forest",
         "type": "scatter",
         "uid": "01868ee4-b49b-4193-a27e-6ff16a928c69",
         "x": [
          "accuracy",
          "FPR",
          "FNR",
          "auc"
         ],
         "y": [
          0.9118152788012773,
          0.08357348703170028,
          0.11480865224625623,
          0.9008089303610217
         ]
        },
        {
         "mode": "lines",
         "name": "Ada Boost",
         "type": "scatter",
         "uid": "dd375ec3-76ac-45c5-bbf0-89249f2d2ddb",
         "x": [
          "accuracy",
          "FPR",
          "FNR",
          "auc"
         ],
         "y": [
          0.9019896831245394,
          0.08472622478386167,
          0.17470881863560733,
          0.8702824782902655
         ]
        },
        {
         "mode": "lines+markers",
         "name": "GradientBoosting",
         "type": "scatter",
         "uid": "aa952ce4-98d1-4a83-b39c-187b3b50157c",
         "x": [
          "accuracy",
          "FPR",
          "FNR",
          "auc"
         ],
         "y": [
          0.9078850405305822,
          0.08198847262247838,
          0.15058236272878536,
          0.8837145823243682
         ]
        },
        {
         "marker": {
          "symbol": "x"
         },
         "mode": "lines+markers",
         "name": "ExtraTree Classifier",
         "type": "scatter",
         "uid": "69acb935-3326-481a-8df2-0afd7e10c49a",
         "x": [
          "accuracy",
          "FPR",
          "FNR",
          "auc"
         ],
         "y": [
          0.9110783591255219,
          0.08429394812680115,
          0.11564059900166389,
          0.9000327264357675
         ]
        },
        {
         "marker": {
          "symbol": "x"
         },
         "mode": "lines+markers",
         "name": "Bagging",
         "type": "scatter",
         "uid": "1cb209e9-d6d8-4b0d-b383-1920546f64cc",
         "x": [
          "accuracy",
          "FPR",
          "FNR",
          "auc"
         ],
         "y": [
          0.9109555391795627,
          0.08443804034582132,
          0.11564059900166389,
          0.8999606803262573
         ]
        },
        {
         "marker": {
          "symbol": "x"
         },
         "mode": "lines+markers",
         "name": "Neural Network",
         "type": "scatter",
         "uid": "3b0e8983-b62b-4edd-8d5c-562d358bd8fb",
         "x": [
          "accuracy",
          "FPR",
          "FNR",
          "auc"
         ],
         "y": [
          0.9006386637189879,
          0.09855907780979827,
          0.10399334442595674,
          0.8987237888821226
         ]
        }
       ],
       "layout": {
        "title": "Result comparision for Features selected in Section 1",
        "yaxis": {
         "dtick": 0.05,
         "tick0": 0
        }
       }
      },
      "text/html": [
       "<div id=\"3dfb756c-3d18-4495-9206-901204886a8b\" style=\"height: 525px; width: 100%;\" class=\"plotly-graph-div\"></div><script type=\"text/javascript\">require([\"plotly\"], function(Plotly) { window.PLOTLYENV=window.PLOTLYENV || {};window.PLOTLYENV.BASE_URL=\"https://plot.ly\";Plotly.newPlot(\"3dfb756c-3d18-4495-9206-901204886a8b\", [{\"mode\": \"lines\", \"name\": \"KNN_model\", \"x\": [\"accuracy\", \"FPR\", \"FNR\", \"auc\"], \"y\": [0.9075165806927045, 0.08659942363112393, 0.1264559068219634, 0.8934723347734563], \"type\": \"scatter\", \"uid\": \"0c8e232b-a24b-466d-acf1-16367abb7ce1\"}, {\"mode\": \"lines+markers\", \"name\": \"Logistic Regression\", \"x\": [\"accuracy\", \"FPR\", \"FNR\", \"auc\"], \"y\": [0.8915499877180054, 0.09610951008645534, 0.17970049916805325, 0.8620949953727458], \"type\": \"scatter\", \"uid\": \"79dfe1bd-6842-4f32-af3b-4f29ad2db27b\"}, {\"marker\": {\"symbol\": \"x\"}, \"mode\": \"lines+markers\", \"name\": \"Random Forest\", \"x\": [\"accuracy\", \"FPR\", \"FNR\", \"auc\"], \"y\": [0.9118152788012773, 0.08357348703170028, 0.11480865224625623, 0.9008089303610217], \"type\": \"scatter\", \"uid\": \"01868ee4-b49b-4193-a27e-6ff16a928c69\"}, {\"mode\": \"lines\", \"name\": \"Ada Boost\", \"x\": [\"accuracy\", \"FPR\", \"FNR\", \"auc\"], \"y\": [0.9019896831245394, 0.08472622478386167, 0.17470881863560733, 0.8702824782902655], \"type\": \"scatter\", \"uid\": \"dd375ec3-76ac-45c5-bbf0-89249f2d2ddb\"}, {\"mode\": \"lines+markers\", \"name\": \"GradientBoosting\", \"x\": [\"accuracy\", \"FPR\", \"FNR\", \"auc\"], \"y\": [0.9078850405305822, 0.08198847262247838, 0.15058236272878536, 0.8837145823243682], \"type\": \"scatter\", \"uid\": \"aa952ce4-98d1-4a83-b39c-187b3b50157c\"}, {\"marker\": {\"symbol\": \"x\"}, \"mode\": \"lines+markers\", \"name\": \"ExtraTree Classifier\", \"x\": [\"accuracy\", \"FPR\", \"FNR\", \"auc\"], \"y\": [0.9110783591255219, 0.08429394812680115, 0.11564059900166389, 0.9000327264357675], \"type\": \"scatter\", \"uid\": \"69acb935-3326-481a-8df2-0afd7e10c49a\"}, {\"marker\": {\"symbol\": \"x\"}, \"mode\": \"lines+markers\", \"name\": \"Bagging\", \"x\": [\"accuracy\", \"FPR\", \"FNR\", \"auc\"], \"y\": [0.9109555391795627, 0.08443804034582132, 0.11564059900166389, 0.8999606803262573], \"type\": \"scatter\", \"uid\": \"1cb209e9-d6d8-4b0d-b383-1920546f64cc\"}, {\"marker\": {\"symbol\": \"x\"}, \"mode\": \"lines+markers\", \"name\": \"Neural Network\", \"x\": [\"accuracy\", \"FPR\", \"FNR\", \"auc\"], \"y\": [0.9006386637189879, 0.09855907780979827, 0.10399334442595674, 0.8987237888821226], \"type\": \"scatter\", \"uid\": \"3b0e8983-b62b-4edd-8d5c-562d358bd8fb\"}], {\"title\": \"Result comparision for Features selected in Section 1\", \"yaxis\": {\"dtick\": 0.05, \"tick0\": 0}}, {\"showLink\": true, \"linkText\": \"Export to plot.ly\", \"plotlyServerURL\": \"https://plot.ly\"})});</script><script type=\"text/javascript\">window.addEventListener(\"resize\", function(){window._Plotly.Plots.resize(document.getElementById(\"3dfb756c-3d18-4495-9206-901204886a8b\"));});</script>"
      ],
      "text/vnd.plotly.v1+html": [
       "<div id=\"3dfb756c-3d18-4495-9206-901204886a8b\" style=\"height: 525px; width: 100%;\" class=\"plotly-graph-div\"></div><script type=\"text/javascript\">require([\"plotly\"], function(Plotly) { window.PLOTLYENV=window.PLOTLYENV || {};window.PLOTLYENV.BASE_URL=\"https://plot.ly\";Plotly.newPlot(\"3dfb756c-3d18-4495-9206-901204886a8b\", [{\"mode\": \"lines\", \"name\": \"KNN_model\", \"x\": [\"accuracy\", \"FPR\", \"FNR\", \"auc\"], \"y\": [0.9075165806927045, 0.08659942363112393, 0.1264559068219634, 0.8934723347734563], \"type\": \"scatter\", \"uid\": \"0c8e232b-a24b-466d-acf1-16367abb7ce1\"}, {\"mode\": \"lines+markers\", \"name\": \"Logistic Regression\", \"x\": [\"accuracy\", \"FPR\", \"FNR\", \"auc\"], \"y\": [0.8915499877180054, 0.09610951008645534, 0.17970049916805325, 0.8620949953727458], \"type\": \"scatter\", \"uid\": \"79dfe1bd-6842-4f32-af3b-4f29ad2db27b\"}, {\"marker\": {\"symbol\": \"x\"}, \"mode\": \"lines+markers\", \"name\": \"Random Forest\", \"x\": [\"accuracy\", \"FPR\", \"FNR\", \"auc\"], \"y\": [0.9118152788012773, 0.08357348703170028, 0.11480865224625623, 0.9008089303610217], \"type\": \"scatter\", \"uid\": \"01868ee4-b49b-4193-a27e-6ff16a928c69\"}, {\"mode\": \"lines\", \"name\": \"Ada Boost\", \"x\": [\"accuracy\", \"FPR\", \"FNR\", \"auc\"], \"y\": [0.9019896831245394, 0.08472622478386167, 0.17470881863560733, 0.8702824782902655], \"type\": \"scatter\", \"uid\": \"dd375ec3-76ac-45c5-bbf0-89249f2d2ddb\"}, {\"mode\": \"lines+markers\", \"name\": \"GradientBoosting\", \"x\": [\"accuracy\", \"FPR\", \"FNR\", \"auc\"], \"y\": [0.9078850405305822, 0.08198847262247838, 0.15058236272878536, 0.8837145823243682], \"type\": \"scatter\", \"uid\": \"aa952ce4-98d1-4a83-b39c-187b3b50157c\"}, {\"marker\": {\"symbol\": \"x\"}, \"mode\": \"lines+markers\", \"name\": \"ExtraTree Classifier\", \"x\": [\"accuracy\", \"FPR\", \"FNR\", \"auc\"], \"y\": [0.9110783591255219, 0.08429394812680115, 0.11564059900166389, 0.9000327264357675], \"type\": \"scatter\", \"uid\": \"69acb935-3326-481a-8df2-0afd7e10c49a\"}, {\"marker\": {\"symbol\": \"x\"}, \"mode\": \"lines+markers\", \"name\": \"Bagging\", \"x\": [\"accuracy\", \"FPR\", \"FNR\", \"auc\"], \"y\": [0.9109555391795627, 0.08443804034582132, 0.11564059900166389, 0.8999606803262573], \"type\": \"scatter\", \"uid\": \"1cb209e9-d6d8-4b0d-b383-1920546f64cc\"}, {\"marker\": {\"symbol\": \"x\"}, \"mode\": \"lines+markers\", \"name\": \"Neural Network\", \"x\": [\"accuracy\", \"FPR\", \"FNR\", \"auc\"], \"y\": [0.9006386637189879, 0.09855907780979827, 0.10399334442595674, 0.8987237888821226], \"type\": \"scatter\", \"uid\": \"3b0e8983-b62b-4edd-8d5c-562d358bd8fb\"}], {\"title\": \"Result comparision for Features selected in Section 1\", \"yaxis\": {\"dtick\": 0.05, \"tick0\": 0}}, {\"showLink\": true, \"linkText\": \"Export to plot.ly\", \"plotlyServerURL\": \"https://plot.ly\"})});</script><script type=\"text/javascript\">window.addEventListener(\"resize\", function(){window._Plotly.Plots.resize(document.getElementById(\"3dfb756c-3d18-4495-9206-901204886a8b\"));});</script>"
      ]
     },
     "metadata": {},
     "output_type": "display_data"
    }
   ],
   "source": [
    "trace0 = go.Scatter(x=table_80_50_test.iloc[0].index.values[[0,5,6,7]],\n",
    "                    y=table_80_50_test.iloc[0].values[[0,5,6,7]],\n",
    "                    mode = 'lines',\n",
    "                    name = 'KNN_model')\n",
    "\n",
    "trace1 = go.Scatter(x=table_80_50_test.iloc[1].index.values[[0,5,6,7]],\n",
    "                    y=table_80_50_test.iloc[1].values[[0,5,6,7]],\n",
    "                    mode = 'lines+markers',\n",
    "                    name = 'Logistic Regression')\n",
    "\n",
    "trace2 = go.Scatter(x=table_80_50_test.iloc[2].index.values[[0,5,6,7]],\n",
    "                    y=table_80_50_test.iloc[2].values[[0,5,6,7]],\n",
    "                    mode = 'lines+markers',marker=dict(symbol='x'),\n",
    "                    name = 'Random Forest')\n",
    "\n",
    "\n",
    "trace3 = go.Scatter(x=table_80_50_test.iloc[3].index.values[[0,5,6,7]],\n",
    "                    y=table_80_50_test.iloc[3].values[[0,5,6,7]],\n",
    "                    mode = 'lines',\n",
    "                    name = 'Ada Boost')\n",
    "\n",
    "trace4 = go.Scatter(x=table_80_50_test.iloc[4].index.values[[0,5,6,7]],\n",
    "                    y=table_80_50_test.iloc[4].values[[0,5,6,7]],\n",
    "                    mode = 'lines+markers',\n",
    "                    name = 'GradientBoosting')\n",
    "\n",
    "trace5 = go.Scatter(x=table_80_50_test.iloc[5].index.values[[0,5,6,7]],\n",
    "                    y=table_80_50_test.iloc[5].values[[0,5,6,7]],\n",
    "                    mode = 'lines+markers',marker=dict(symbol='x'),\n",
    "                    name = 'ExtraTree Classifier')\n",
    "\n",
    "trace6 = go.Scatter(x=table_80_50_test.iloc[6].index.values[[0,5,6,7]],\n",
    "                    y=table_80_50_test.iloc[6].values[[0,5,6,7]],\n",
    "                    mode = 'lines+markers',marker=dict(symbol='x'),\n",
    "                    name = 'Bagging')\n",
    "\n",
    "trace7 = go.Scatter(x=table_80_50_test.iloc[7].index.values[[0,5,6,7]],\n",
    "                    y=table_80_50_test.iloc[7].values[[0,5,6,7]],\n",
    "                    mode = 'lines+markers',marker=dict(symbol='x'),\n",
    "                    name = 'Neural Network')\n",
    "\n",
    "\n",
    "\n",
    "data = [trace0, trace1, trace2, trace3, trace4, trace5, trace6, trace7]\n",
    "layout = go.Layout(yaxis=dict(tick0=0,dtick=0.05),title='Result comparision for Features selected in Section 1')\n",
    "fig = go.Figure(data=data, layout=layout)\n",
    "\n",
    "iplot(fig, filename='Result')"
   ]
  },
  {
   "cell_type": "code",
   "execution_count": 20,
   "metadata": {},
   "outputs": [
    {
     "name": "stdout",
     "output_type": "stream",
     "text": [
      "Training Results\n"
     ]
    },
    {
     "data": {
      "text/html": [
       "<div>\n",
       "<style scoped>\n",
       "    .dataframe tbody tr th:only-of-type {\n",
       "        vertical-align: middle;\n",
       "    }\n",
       "\n",
       "    .dataframe tbody tr th {\n",
       "        vertical-align: top;\n",
       "    }\n",
       "\n",
       "    .dataframe thead th {\n",
       "        text-align: right;\n",
       "    }\n",
       "</style>\n",
       "<table border=\"1\" class=\"dataframe\">\n",
       "  <thead>\n",
       "    <tr style=\"text-align: right;\">\n",
       "      <th></th>\n",
       "      <th>accuracy</th>\n",
       "      <th>TP</th>\n",
       "      <th>TN</th>\n",
       "      <th>FP</th>\n",
       "      <th>FN</th>\n",
       "      <th>FPR</th>\n",
       "      <th>FNR</th>\n",
       "    </tr>\n",
       "    <tr>\n",
       "      <th>index</th>\n",
       "      <th></th>\n",
       "      <th></th>\n",
       "      <th></th>\n",
       "      <th></th>\n",
       "      <th></th>\n",
       "      <th></th>\n",
       "      <th></th>\n",
       "    </tr>\n",
       "  </thead>\n",
       "  <tbody>\n",
       "    <tr>\n",
       "      <th>KNeighborsClassifier</th>\n",
       "      <td>0.914116</td>\n",
       "      <td>4228.0</td>\n",
       "      <td>25542.0</td>\n",
       "      <td>2296.0</td>\n",
       "      <td>501.0</td>\n",
       "      <td>0.082477</td>\n",
       "      <td>0.105942</td>\n",
       "    </tr>\n",
       "    <tr>\n",
       "      <th>LogisticRegression</th>\n",
       "      <td>0.889059</td>\n",
       "      <td>3823.0</td>\n",
       "      <td>25131.0</td>\n",
       "      <td>2707.0</td>\n",
       "      <td>906.0</td>\n",
       "      <td>0.097241</td>\n",
       "      <td>0.191584</td>\n",
       "    </tr>\n",
       "    <tr>\n",
       "      <th>RandomForestClassifier</th>\n",
       "      <td>0.925999</td>\n",
       "      <td>4542.0</td>\n",
       "      <td>25615.0</td>\n",
       "      <td>2223.0</td>\n",
       "      <td>187.0</td>\n",
       "      <td>0.079855</td>\n",
       "      <td>0.039543</td>\n",
       "    </tr>\n",
       "    <tr>\n",
       "      <th>AdaBoostClassifier</th>\n",
       "      <td>0.903061</td>\n",
       "      <td>3886.0</td>\n",
       "      <td>25524.0</td>\n",
       "      <td>2314.0</td>\n",
       "      <td>843.0</td>\n",
       "      <td>0.083124</td>\n",
       "      <td>0.178262</td>\n",
       "    </tr>\n",
       "    <tr>\n",
       "      <th>GradientBoostingClassifier</th>\n",
       "      <td>0.910584</td>\n",
       "      <td>4050.0</td>\n",
       "      <td>25605.0</td>\n",
       "      <td>2233.0</td>\n",
       "      <td>679.0</td>\n",
       "      <td>0.080214</td>\n",
       "      <td>0.143582</td>\n",
       "    </tr>\n",
       "    <tr>\n",
       "      <th>ExtraTreeClassifier</th>\n",
       "      <td>0.927902</td>\n",
       "      <td>4600.0</td>\n",
       "      <td>25619.0</td>\n",
       "      <td>2219.0</td>\n",
       "      <td>129.0</td>\n",
       "      <td>0.079711</td>\n",
       "      <td>0.027278</td>\n",
       "    </tr>\n",
       "    <tr>\n",
       "      <th>BaggingClassifier</th>\n",
       "      <td>0.925784</td>\n",
       "      <td>4537.0</td>\n",
       "      <td>25613.0</td>\n",
       "      <td>2225.0</td>\n",
       "      <td>192.0</td>\n",
       "      <td>0.079927</td>\n",
       "      <td>0.040601</td>\n",
       "    </tr>\n",
       "    <tr>\n",
       "      <th>Neural Network-1</th>\n",
       "      <td>0.906992</td>\n",
       "      <td>4393.0</td>\n",
       "      <td>25145.0</td>\n",
       "      <td>2693.0</td>\n",
       "      <td>336.0</td>\n",
       "      <td>0.096738</td>\n",
       "      <td>0.071051</td>\n",
       "    </tr>\n",
       "  </tbody>\n",
       "</table>\n",
       "</div>"
      ],
      "text/plain": [
       "                            accuracy      TP       TN      FP     FN  \\\n",
       "index                                                                  \n",
       "KNeighborsClassifier        0.914116  4228.0  25542.0  2296.0  501.0   \n",
       "LogisticRegression          0.889059  3823.0  25131.0  2707.0  906.0   \n",
       "RandomForestClassifier      0.925999  4542.0  25615.0  2223.0  187.0   \n",
       "AdaBoostClassifier          0.903061  3886.0  25524.0  2314.0  843.0   \n",
       "GradientBoostingClassifier  0.910584  4050.0  25605.0  2233.0  679.0   \n",
       "ExtraTreeClassifier         0.927902  4600.0  25619.0  2219.0  129.0   \n",
       "BaggingClassifier           0.925784  4537.0  25613.0  2225.0  192.0   \n",
       "Neural Network-1            0.906992  4393.0  25145.0  2693.0  336.0   \n",
       "\n",
       "                                 FPR       FNR  \n",
       "index                                           \n",
       "KNeighborsClassifier        0.082477  0.105942  \n",
       "LogisticRegression          0.097241  0.191584  \n",
       "RandomForestClassifier      0.079855  0.039543  \n",
       "AdaBoostClassifier          0.083124  0.178262  \n",
       "GradientBoostingClassifier  0.080214  0.143582  \n",
       "ExtraTreeClassifier         0.079711  0.027278  \n",
       "BaggingClassifier           0.079927  0.040601  \n",
       "Neural Network-1            0.096738  0.071051  "
      ]
     },
     "metadata": {},
     "output_type": "display_data"
    },
    {
     "name": "stdout",
     "output_type": "stream",
     "text": [
      "Test Results\n"
     ]
    },
    {
     "data": {
      "text/html": [
       "<div>\n",
       "<style scoped>\n",
       "    .dataframe tbody tr th:only-of-type {\n",
       "        vertical-align: middle;\n",
       "    }\n",
       "\n",
       "    .dataframe tbody tr th {\n",
       "        vertical-align: top;\n",
       "    }\n",
       "\n",
       "    .dataframe thead th {\n",
       "        text-align: right;\n",
       "    }\n",
       "</style>\n",
       "<table border=\"1\" class=\"dataframe\">\n",
       "  <thead>\n",
       "    <tr style=\"text-align: right;\">\n",
       "      <th></th>\n",
       "      <th>accuracy</th>\n",
       "      <th>TP</th>\n",
       "      <th>TN</th>\n",
       "      <th>FP</th>\n",
       "      <th>FN</th>\n",
       "      <th>FPR</th>\n",
       "      <th>FNR</th>\n",
       "      <th>auc</th>\n",
       "      <th>MCC</th>\n",
       "    </tr>\n",
       "    <tr>\n",
       "      <th>index</th>\n",
       "      <th></th>\n",
       "      <th></th>\n",
       "      <th></th>\n",
       "      <th></th>\n",
       "      <th></th>\n",
       "      <th></th>\n",
       "      <th></th>\n",
       "      <th></th>\n",
       "      <th></th>\n",
       "    </tr>\n",
       "  </thead>\n",
       "  <tbody>\n",
       "    <tr>\n",
       "      <th>KNeighborsClassifier</th>\n",
       "      <td>0.907517</td>\n",
       "      <td>1050.0</td>\n",
       "      <td>6339.0</td>\n",
       "      <td>601.0</td>\n",
       "      <td>152.0</td>\n",
       "      <td>0.086599</td>\n",
       "      <td>0.126456</td>\n",
       "      <td>0.893472</td>\n",
       "      <td>0.694299</td>\n",
       "    </tr>\n",
       "    <tr>\n",
       "      <th>LogisticRegression</th>\n",
       "      <td>0.891550</td>\n",
       "      <td>986.0</td>\n",
       "      <td>6273.0</td>\n",
       "      <td>667.0</td>\n",
       "      <td>216.0</td>\n",
       "      <td>0.096110</td>\n",
       "      <td>0.179700</td>\n",
       "      <td>0.862095</td>\n",
       "      <td>0.638644</td>\n",
       "    </tr>\n",
       "    <tr>\n",
       "      <th>RandomForestClassifier</th>\n",
       "      <td>0.911815</td>\n",
       "      <td>1064.0</td>\n",
       "      <td>6360.0</td>\n",
       "      <td>580.0</td>\n",
       "      <td>138.0</td>\n",
       "      <td>0.083573</td>\n",
       "      <td>0.114809</td>\n",
       "      <td>0.900809</td>\n",
       "      <td>0.708367</td>\n",
       "    </tr>\n",
       "    <tr>\n",
       "      <th>AdaBoostClassifier</th>\n",
       "      <td>0.901990</td>\n",
       "      <td>992.0</td>\n",
       "      <td>6352.0</td>\n",
       "      <td>588.0</td>\n",
       "      <td>210.0</td>\n",
       "      <td>0.084726</td>\n",
       "      <td>0.174709</td>\n",
       "      <td>0.870282</td>\n",
       "      <td>0.664276</td>\n",
       "    </tr>\n",
       "    <tr>\n",
       "      <th>GradientBoostingClassifier</th>\n",
       "      <td>0.907885</td>\n",
       "      <td>1021.0</td>\n",
       "      <td>6371.0</td>\n",
       "      <td>569.0</td>\n",
       "      <td>181.0</td>\n",
       "      <td>0.081988</td>\n",
       "      <td>0.150582</td>\n",
       "      <td>0.883715</td>\n",
       "      <td>0.686728</td>\n",
       "    </tr>\n",
       "    <tr>\n",
       "      <th>ExtraTreeClassifier</th>\n",
       "      <td>0.911078</td>\n",
       "      <td>1063.0</td>\n",
       "      <td>6355.0</td>\n",
       "      <td>585.0</td>\n",
       "      <td>139.0</td>\n",
       "      <td>0.084294</td>\n",
       "      <td>0.115641</td>\n",
       "      <td>0.900033</td>\n",
       "      <td>0.706355</td>\n",
       "    </tr>\n",
       "    <tr>\n",
       "      <th>BaggingClassifier</th>\n",
       "      <td>0.910956</td>\n",
       "      <td>1063.0</td>\n",
       "      <td>6354.0</td>\n",
       "      <td>586.0</td>\n",
       "      <td>139.0</td>\n",
       "      <td>0.084438</td>\n",
       "      <td>0.115641</td>\n",
       "      <td>0.899961</td>\n",
       "      <td>0.706068</td>\n",
       "    </tr>\n",
       "    <tr>\n",
       "      <th>Neural Network-1</th>\n",
       "      <td>0.900639</td>\n",
       "      <td>1077.0</td>\n",
       "      <td>6256.0</td>\n",
       "      <td>684.0</td>\n",
       "      <td>125.0</td>\n",
       "      <td>0.098559</td>\n",
       "      <td>0.103993</td>\n",
       "      <td>0.898724</td>\n",
       "      <td>0.687084</td>\n",
       "    </tr>\n",
       "  </tbody>\n",
       "</table>\n",
       "</div>"
      ],
      "text/plain": [
       "                            accuracy      TP      TN     FP     FN       FPR  \\\n",
       "index                                                                          \n",
       "KNeighborsClassifier        0.907517  1050.0  6339.0  601.0  152.0  0.086599   \n",
       "LogisticRegression          0.891550   986.0  6273.0  667.0  216.0  0.096110   \n",
       "RandomForestClassifier      0.911815  1064.0  6360.0  580.0  138.0  0.083573   \n",
       "AdaBoostClassifier          0.901990   992.0  6352.0  588.0  210.0  0.084726   \n",
       "GradientBoostingClassifier  0.907885  1021.0  6371.0  569.0  181.0  0.081988   \n",
       "ExtraTreeClassifier         0.911078  1063.0  6355.0  585.0  139.0  0.084294   \n",
       "BaggingClassifier           0.910956  1063.0  6354.0  586.0  139.0  0.084438   \n",
       "Neural Network-1            0.900639  1077.0  6256.0  684.0  125.0  0.098559   \n",
       "\n",
       "                                 FNR       auc       MCC  \n",
       "index                                                     \n",
       "KNeighborsClassifier        0.126456  0.893472  0.694299  \n",
       "LogisticRegression          0.179700  0.862095  0.638644  \n",
       "RandomForestClassifier      0.114809  0.900809  0.708367  \n",
       "AdaBoostClassifier          0.174709  0.870282  0.664276  \n",
       "GradientBoostingClassifier  0.150582  0.883715  0.686728  \n",
       "ExtraTreeClassifier         0.115641  0.900033  0.706355  \n",
       "BaggingClassifier           0.115641  0.899961  0.706068  \n",
       "Neural Network-1            0.103993  0.898724  0.687084  "
      ]
     },
     "metadata": {},
     "output_type": "display_data"
    }
   ],
   "source": [
    "table_80_50_train['index']=ind_columns\n",
    "table_80_50_test['index']=ind_columns\n",
    "\n",
    "\n",
    "table_80_50_test.set_index(['index'],drop=True,inplace=True)\n",
    "table_80_50_train.set_index(['index'],drop=True,inplace=True)\n",
    "\n",
    "print(\"Training Results\")\n",
    "display(table_80_50_train)\n",
    "print(\"Test Results\")\n",
    "display(table_80_50_test)"
   ]
  },
  {
   "cell_type": "markdown",
   "metadata": {},
   "source": [
    "### <a id='1.B' style=\"text-decoration : none; color : #000000;\"> B. Average Feature Importances</a>"
   ]
  },
  {
   "cell_type": "code",
   "execution_count": 21,
   "metadata": {},
   "outputs": [
    {
     "data": {
      "application/vnd.plotly.v1+json": {
       "config": {
        "linkText": "Export to plot.ly",
        "plotlyServerURL": "https://plot.ly",
        "showLink": true
       },
       "data": [
        {
         "marker": {
          "color": "rgb(158,202,225)",
          "line": {
           "color": "rgb(8,48,107)",
           "width": 1.5
          }
         },
         "opacity": 0.6,
         "orientation": "h",
         "text": [
          0.3206,
          0.1025,
          0.0644,
          0.0567,
          0.0554,
          0.0515,
          0.0462,
          0.0298,
          0.0289,
          0.0271,
          0.0258,
          0.0258,
          0.0175,
          0.0168,
          0.0151,
          0.015,
          0.0141,
          0.0136,
          0.0133,
          0.0112,
          0.0096,
          0.0093,
          0.0079,
          0.0077,
          0.0073,
          0.0069
         ],
         "textposition": "outside",
         "type": "bar",
         "uid": "d90d9ff9-6ba5-4e1e-be69-e07c01a1fca0",
         "x": [
          0.3205809863187127,
          0.10247776409326381,
          0.06444630776637052,
          0.05672671107329521,
          0.05544049607158448,
          0.05146139111847207,
          0.04622444587511032,
          0.02981462009172847,
          0.028907962656869873,
          0.0270766752675014,
          0.02580620552115949,
          0.025773212714034904,
          0.01746729636304042,
          0.016813683921781227,
          0.015099643763221832,
          0.014999777955936208,
          0.014079816446298023,
          0.013596685288846621,
          0.013349688560518193,
          0.011215802407043804,
          0.009596803874638996,
          0.009250484812343597,
          0.007905025819668714,
          0.007659633358134128,
          0.0072984804698968024,
          0.006930398390528221
         ],
         "y": [
          "total_count",
          "total_href",
          "link_href_out_of_domain",
          "p_count",
          "a_href_https",
          "meta_count",
          "script_async_true",
          "link_type_text/css",
          "script_src_out_of_domain",
          "link_href_http",
          "push",
          "link_href_.css",
          "indexOf",
          "form_action_http",
          "strong_count",
          "iframe_src_https",
          "center_count",
          "window.setTimeout",
          "a_href_.com",
          "document.write",
          "window.addEventListener",
          "get",
          "link_type_application/rsd+xml",
          "find",
          "link_rel_shortlink",
          "replace"
         ]
        }
       ],
       "layout": {
        "autosize": false,
        "height": 1000,
        "width": 1000,
        "xaxis": {
         "tickfont": {
          "color": "black",
          "size": 12
         },
         "title": "Feature Importances"
        },
        "yaxis": {
         "automargin": true
        }
       }
      },
      "text/html": [
       "<div id=\"efc89de3-4a0e-4533-bf33-5c7fdb6e0ede\" style=\"height: 1000px; width: 1000px;\" class=\"plotly-graph-div\"></div><script type=\"text/javascript\">require([\"plotly\"], function(Plotly) { window.PLOTLYENV=window.PLOTLYENV || {};window.PLOTLYENV.BASE_URL=\"https://plot.ly\";Plotly.newPlot(\"efc89de3-4a0e-4533-bf33-5c7fdb6e0ede\", [{\"marker\": {\"color\": \"rgb(158,202,225)\", \"line\": {\"color\": \"rgb(8,48,107)\", \"width\": 1.5}}, \"opacity\": 0.6, \"orientation\": \"h\", \"text\": [0.3206, 0.1025, 0.0644, 0.0567, 0.0554, 0.0515, 0.0462, 0.0298, 0.0289, 0.0271, 0.0258, 0.0258, 0.0175, 0.0168, 0.0151, 0.015, 0.0141, 0.0136, 0.0133, 0.0112, 0.0096, 0.0093, 0.0079, 0.0077, 0.0073, 0.0069], \"textposition\": \"outside\", \"x\": [0.3205809863187127, 0.10247776409326381, 0.06444630776637052, 0.05672671107329521, 0.05544049607158448, 0.05146139111847207, 0.04622444587511032, 0.02981462009172847, 0.028907962656869873, 0.0270766752675014, 0.02580620552115949, 0.025773212714034904, 0.01746729636304042, 0.016813683921781227, 0.015099643763221832, 0.014999777955936208, 0.014079816446298023, 0.013596685288846621, 0.013349688560518193, 0.011215802407043804, 0.009596803874638996, 0.009250484812343597, 0.007905025819668714, 0.007659633358134128, 0.0072984804698968024, 0.006930398390528221], \"y\": [\"total_count\", \"total_href\", \"link_href_out_of_domain\", \"p_count\", \"a_href_https\", \"meta_count\", \"script_async_true\", \"link_type_text/css\", \"script_src_out_of_domain\", \"link_href_http\", \"push\", \"link_href_.css\", \"indexOf\", \"form_action_http\", \"strong_count\", \"iframe_src_https\", \"center_count\", \"window.setTimeout\", \"a_href_.com\", \"document.write\", \"window.addEventListener\", \"get\", \"link_type_application/rsd+xml\", \"find\", \"link_rel_shortlink\", \"replace\"], \"type\": \"bar\", \"uid\": \"d90d9ff9-6ba5-4e1e-be69-e07c01a1fca0\"}], {\"autosize\": false, \"height\": 1000, \"width\": 1000, \"xaxis\": {\"tickfont\": {\"color\": \"black\", \"size\": 12}, \"title\": \"Feature Importances\"}, \"yaxis\": {\"automargin\": true}}, {\"showLink\": true, \"linkText\": \"Export to plot.ly\", \"plotlyServerURL\": \"https://plot.ly\"})});</script>"
      ],
      "text/vnd.plotly.v1+html": [
       "<div id=\"efc89de3-4a0e-4533-bf33-5c7fdb6e0ede\" style=\"height: 1000px; width: 1000px;\" class=\"plotly-graph-div\"></div><script type=\"text/javascript\">require([\"plotly\"], function(Plotly) { window.PLOTLYENV=window.PLOTLYENV || {};window.PLOTLYENV.BASE_URL=\"https://plot.ly\";Plotly.newPlot(\"efc89de3-4a0e-4533-bf33-5c7fdb6e0ede\", [{\"marker\": {\"color\": \"rgb(158,202,225)\", \"line\": {\"color\": \"rgb(8,48,107)\", \"width\": 1.5}}, \"opacity\": 0.6, \"orientation\": \"h\", \"text\": [0.3206, 0.1025, 0.0644, 0.0567, 0.0554, 0.0515, 0.0462, 0.0298, 0.0289, 0.0271, 0.0258, 0.0258, 0.0175, 0.0168, 0.0151, 0.015, 0.0141, 0.0136, 0.0133, 0.0112, 0.0096, 0.0093, 0.0079, 0.0077, 0.0073, 0.0069], \"textposition\": \"outside\", \"x\": [0.3205809863187127, 0.10247776409326381, 0.06444630776637052, 0.05672671107329521, 0.05544049607158448, 0.05146139111847207, 0.04622444587511032, 0.02981462009172847, 0.028907962656869873, 0.0270766752675014, 0.02580620552115949, 0.025773212714034904, 0.01746729636304042, 0.016813683921781227, 0.015099643763221832, 0.014999777955936208, 0.014079816446298023, 0.013596685288846621, 0.013349688560518193, 0.011215802407043804, 0.009596803874638996, 0.009250484812343597, 0.007905025819668714, 0.007659633358134128, 0.0072984804698968024, 0.006930398390528221], \"y\": [\"total_count\", \"total_href\", \"link_href_out_of_domain\", \"p_count\", \"a_href_https\", \"meta_count\", \"script_async_true\", \"link_type_text/css\", \"script_src_out_of_domain\", \"link_href_http\", \"push\", \"link_href_.css\", \"indexOf\", \"form_action_http\", \"strong_count\", \"iframe_src_https\", \"center_count\", \"window.setTimeout\", \"a_href_.com\", \"document.write\", \"window.addEventListener\", \"get\", \"link_type_application/rsd+xml\", \"find\", \"link_rel_shortlink\", \"replace\"], \"type\": \"bar\", \"uid\": \"d90d9ff9-6ba5-4e1e-be69-e07c01a1fca0\"}], {\"autosize\": false, \"height\": 1000, \"width\": 1000, \"xaxis\": {\"tickfont\": {\"color\": \"black\", \"size\": 12}, \"title\": \"Feature Importances\"}, \"yaxis\": {\"automargin\": true}}, {\"showLink\": true, \"linkText\": \"Export to plot.ly\", \"plotlyServerURL\": \"https://plot.ly\"})});</script>"
      ]
     },
     "metadata": {},
     "output_type": "display_data"
    }
   ],
   "source": [
    "feat_impt_plot(np.average(feat_imp,axis=0),columns)"
   ]
  },
  {
   "cell_type": "markdown",
   "metadata": {},
   "source": [
    "### <a id='2' style=\"text-decoration : none; color : #000000;\"> 2. OverSampling </a>"
   ]
  },
  {
   "cell_type": "code",
   "execution_count": 22,
   "metadata": {},
   "outputs": [
    {
     "name": "stderr",
     "output_type": "stream",
     "text": [
      "/nethomes/darshan/anaconda3/lib/python3.6/site-packages/sklearn/utils/deprecation.py:85: DeprecationWarning:\n",
      "\n",
      "Function _ratio_float is deprecated; Use a float for 'ratio' is deprecated from version 0.2. The support will be removed in 0.4. Use a dict, str, or a callable instead.\n",
      "\n"
     ]
    }
   ],
   "source": [
    "sm = SMOTE(random_state=12, ratio = 1.0)\n",
    "X_train, Y_train = sm.fit_sample(scaled_X_train,train_Y)"
   ]
  },
  {
   "cell_type": "code",
   "execution_count": 23,
   "metadata": {
    "scrolled": false
   },
   "outputs": [
    {
     "name": "stdout",
     "output_type": "stream",
     "text": [
      "\u001b[1mK-Nearest Neighbors\u001b[0m\n",
      "Accuracy of the model for training data is: 0.6027372656081615\n",
      "Confusion Matrix for training data is:\n"
     ]
    },
    {
     "data": {
      "text/plain": [
       "Predicted  False  True  __all__\n",
       "Actual                         \n",
       "False      27068   770    27838\n",
       "True       21348  6490    27838\n",
       "__all__    48416  7260    55676"
      ]
     },
     "metadata": {},
     "output_type": "display_data"
    },
    {
     "name": "stdout",
     "output_type": "stream",
     "text": [
      "Accuracy of the model for test data is: 0.841930729550479\n",
      "Confusion Matrix for test data is:\n"
     ]
    },
    {
     "data": {
      "text/plain": [
       "Predicted  False  True  __all__\n",
       "Actual                         \n",
       "False       6646   294     6940\n",
       "True         993   209     1202\n",
       "__all__     7639   503     8142"
      ]
     },
     "metadata": {},
     "output_type": "display_data"
    },
    {
     "name": "stdout",
     "output_type": "stream",
     "text": [
      "\n",
      "\n",
      "\u001b[1mLogistic Regression\u001b[0m\n",
      "Accuracy of the model for training data is: 0.8881564767583878\n",
      "Confusion Matrix for training data is:\n"
     ]
    },
    {
     "data": {
      "text/plain": [
       "Predicted  False   True  __all__\n",
       "Actual                          \n",
       "False      22580   5258    27838\n",
       "True         969  26869    27838\n",
       "__all__    23549  32127    55676"
      ]
     },
     "metadata": {},
     "output_type": "display_data"
    },
    {
     "name": "stdout",
     "output_type": "stream",
     "text": [
      "Accuracy of the model for test data is: 0.8335789732252518\n",
      "Confusion Matrix for test data is:\n"
     ]
    },
    {
     "data": {
      "text/plain": [
       "Predicted  False  True  __all__\n",
       "Actual                         \n",
       "False       5642  1298     6940\n",
       "True          57  1145     1202\n",
       "__all__     5699  2443     8142"
      ]
     },
     "metadata": {},
     "output_type": "display_data"
    },
    {
     "name": "stdout",
     "output_type": "stream",
     "text": [
      "\n",
      "\n",
      "\u001b[1mRandomForest Classifier\u001b[0m\n",
      "Accuracy of the model for training data is: 0.9526366836698039\n",
      "Confusion Matrix for training data is:\n"
     ]
    },
    {
     "data": {
      "text/plain": [
       "Predicted  False   True  __all__\n",
       "Actual                          \n",
       "False      25477   2361    27838\n",
       "True         276  27562    27838\n",
       "__all__    25753  29923    55676"
      ]
     },
     "metadata": {},
     "output_type": "display_data"
    },
    {
     "name": "stdout",
     "output_type": "stream",
     "text": [
      "Accuracy of the model for test data is: 0.9099729796118889\n",
      "Confusion Matrix for test data is:\n"
     ]
    },
    {
     "data": {
      "text/plain": [
       "Predicted  False  True  __all__\n",
       "Actual                         \n",
       "False       6314   626     6940\n",
       "True         107  1095     1202\n",
       "__all__     6421  1721     8142"
      ]
     },
     "metadata": {},
     "output_type": "display_data"
    },
    {
     "data": {
      "application/vnd.plotly.v1+json": {
       "config": {
        "linkText": "Export to plot.ly",
        "plotlyServerURL": "https://plot.ly",
        "showLink": true
       },
       "data": [
        {
         "marker": {
          "color": "rgb(158,202,225)",
          "line": {
           "color": "rgb(8,48,107)",
           "width": 1.5
          }
         },
         "opacity": 0.6,
         "orientation": "h",
         "text": [
          0.255,
          0.1678,
          0.1486,
          0.1016,
          0.0877,
          0.0693,
          0.0266,
          0.0205,
          0.0144,
          0.0124,
          0.0122,
          0.0113,
          0.0104,
          0.0097,
          0.0073,
          0.007,
          0.0069,
          0.0056,
          0.005,
          0.0045,
          0.0043,
          0.0042,
          0.0029,
          0.0024,
          0.0012,
          0.001
         ],
         "textposition": "outside",
         "type": "bar",
         "uid": "8576b93f-7025-4847-9fe1-85d8b31021c6",
         "x": [
          0.25498363150552733,
          0.16784803388490216,
          0.14862099772731407,
          0.1015709206446909,
          0.08772581808110608,
          0.06934014599194464,
          0.026625609829027334,
          0.0205392719868806,
          0.014353165370299783,
          0.012443128419484983,
          0.012195561387401377,
          0.011262624260330057,
          0.010440771414612356,
          0.009662526880816808,
          0.00725526279817581,
          0.00704136110125269,
          0.006946896285455316,
          0.00559170161457253,
          0.00502072738311837,
          0.004500073743367074,
          0.004292544255622054,
          0.004242639371299145,
          0.0029282671441397306,
          0.0023839520395068873,
          0.001214417702119926,
          0.0009699491770319296
         ],
         "y": [
          "total_href",
          "link_href_out_of_domain",
          "total_count",
          "p_count",
          "meta_count",
          "a_href_https",
          "push",
          "link_href_http",
          "script_async_true",
          "script_src_out_of_domain",
          "link_href_.css",
          "strong_count",
          "link_type_text/css",
          "iframe_src_https",
          "center_count",
          "indexOf",
          "replace",
          "form_action_http",
          "a_href_.com",
          "document.write",
          "link_type_application/rsd+xml",
          "find",
          "get",
          "link_rel_shortlink",
          "window.setTimeout",
          "window.addEventListener"
         ]
        }
       ],
       "layout": {
        "autosize": false,
        "height": 1000,
        "width": 1000,
        "xaxis": {
         "tickfont": {
          "color": "black",
          "size": 12
         },
         "title": "Feature Importances"
        },
        "yaxis": {
         "automargin": true
        }
       }
      },
      "text/html": [
       "<div id=\"34eb0cbf-8f52-4e95-a64f-abc1ced0887d\" style=\"height: 1000px; width: 1000px;\" class=\"plotly-graph-div\"></div><script type=\"text/javascript\">require([\"plotly\"], function(Plotly) { window.PLOTLYENV=window.PLOTLYENV || {};window.PLOTLYENV.BASE_URL=\"https://plot.ly\";Plotly.newPlot(\"34eb0cbf-8f52-4e95-a64f-abc1ced0887d\", [{\"marker\": {\"color\": \"rgb(158,202,225)\", \"line\": {\"color\": \"rgb(8,48,107)\", \"width\": 1.5}}, \"opacity\": 0.6, \"orientation\": \"h\", \"text\": [0.255, 0.1678, 0.1486, 0.1016, 0.0877, 0.0693, 0.0266, 0.0205, 0.0144, 0.0124, 0.0122, 0.0113, 0.0104, 0.0097, 0.0073, 0.007, 0.0069, 0.0056, 0.005, 0.0045, 0.0043, 0.0042, 0.0029, 0.0024, 0.0012, 0.001], \"textposition\": \"outside\", \"x\": [0.25498363150552733, 0.16784803388490216, 0.14862099772731407, 0.1015709206446909, 0.08772581808110608, 0.06934014599194464, 0.026625609829027334, 0.0205392719868806, 0.014353165370299783, 0.012443128419484983, 0.012195561387401377, 0.011262624260330057, 0.010440771414612356, 0.009662526880816808, 0.00725526279817581, 0.00704136110125269, 0.006946896285455316, 0.00559170161457253, 0.00502072738311837, 0.004500073743367074, 0.004292544255622054, 0.004242639371299145, 0.0029282671441397306, 0.0023839520395068873, 0.001214417702119926, 0.0009699491770319296], \"y\": [\"total_href\", \"link_href_out_of_domain\", \"total_count\", \"p_count\", \"meta_count\", \"a_href_https\", \"push\", \"link_href_http\", \"script_async_true\", \"script_src_out_of_domain\", \"link_href_.css\", \"strong_count\", \"link_type_text/css\", \"iframe_src_https\", \"center_count\", \"indexOf\", \"replace\", \"form_action_http\", \"a_href_.com\", \"document.write\", \"link_type_application/rsd+xml\", \"find\", \"get\", \"link_rel_shortlink\", \"window.setTimeout\", \"window.addEventListener\"], \"type\": \"bar\", \"uid\": \"8576b93f-7025-4847-9fe1-85d8b31021c6\"}], {\"autosize\": false, \"height\": 1000, \"width\": 1000, \"xaxis\": {\"tickfont\": {\"color\": \"black\", \"size\": 12}, \"title\": \"Feature Importances\"}, \"yaxis\": {\"automargin\": true}}, {\"showLink\": true, \"linkText\": \"Export to plot.ly\", \"plotlyServerURL\": \"https://plot.ly\"})});</script>"
      ],
      "text/vnd.plotly.v1+html": [
       "<div id=\"34eb0cbf-8f52-4e95-a64f-abc1ced0887d\" style=\"height: 1000px; width: 1000px;\" class=\"plotly-graph-div\"></div><script type=\"text/javascript\">require([\"plotly\"], function(Plotly) { window.PLOTLYENV=window.PLOTLYENV || {};window.PLOTLYENV.BASE_URL=\"https://plot.ly\";Plotly.newPlot(\"34eb0cbf-8f52-4e95-a64f-abc1ced0887d\", [{\"marker\": {\"color\": \"rgb(158,202,225)\", \"line\": {\"color\": \"rgb(8,48,107)\", \"width\": 1.5}}, \"opacity\": 0.6, \"orientation\": \"h\", \"text\": [0.255, 0.1678, 0.1486, 0.1016, 0.0877, 0.0693, 0.0266, 0.0205, 0.0144, 0.0124, 0.0122, 0.0113, 0.0104, 0.0097, 0.0073, 0.007, 0.0069, 0.0056, 0.005, 0.0045, 0.0043, 0.0042, 0.0029, 0.0024, 0.0012, 0.001], \"textposition\": \"outside\", \"x\": [0.25498363150552733, 0.16784803388490216, 0.14862099772731407, 0.1015709206446909, 0.08772581808110608, 0.06934014599194464, 0.026625609829027334, 0.0205392719868806, 0.014353165370299783, 0.012443128419484983, 0.012195561387401377, 0.011262624260330057, 0.010440771414612356, 0.009662526880816808, 0.00725526279817581, 0.00704136110125269, 0.006946896285455316, 0.00559170161457253, 0.00502072738311837, 0.004500073743367074, 0.004292544255622054, 0.004242639371299145, 0.0029282671441397306, 0.0023839520395068873, 0.001214417702119926, 0.0009699491770319296], \"y\": [\"total_href\", \"link_href_out_of_domain\", \"total_count\", \"p_count\", \"meta_count\", \"a_href_https\", \"push\", \"link_href_http\", \"script_async_true\", \"script_src_out_of_domain\", \"link_href_.css\", \"strong_count\", \"link_type_text/css\", \"iframe_src_https\", \"center_count\", \"indexOf\", \"replace\", \"form_action_http\", \"a_href_.com\", \"document.write\", \"link_type_application/rsd+xml\", \"find\", \"get\", \"link_rel_shortlink\", \"window.setTimeout\", \"window.addEventListener\"], \"type\": \"bar\", \"uid\": \"8576b93f-7025-4847-9fe1-85d8b31021c6\"}], {\"autosize\": false, \"height\": 1000, \"width\": 1000, \"xaxis\": {\"tickfont\": {\"color\": \"black\", \"size\": 12}, \"title\": \"Feature Importances\"}, \"yaxis\": {\"automargin\": true}}, {\"showLink\": true, \"linkText\": \"Export to plot.ly\", \"plotlyServerURL\": \"https://plot.ly\"})});</script>"
      ]
     },
     "metadata": {},
     "output_type": "display_data"
    },
    {
     "name": "stdout",
     "output_type": "stream",
     "text": [
      "\n",
      "\n",
      "\u001b[1mAdaoost Classifier\u001b[0m\n",
      "Accuracy of the model for training data is: 0.9082010201882319\n",
      "Confusion Matrix for training data is:\n"
     ]
    },
    {
     "data": {
      "text/plain": [
       "Predicted  False   True  __all__\n",
       "Actual                          \n",
       "False      24028   3810    27838\n",
       "True        1301  26537    27838\n",
       "__all__    25329  30347    55676"
      ]
     },
     "metadata": {},
     "output_type": "display_data"
    },
    {
     "name": "stdout",
     "output_type": "stream",
     "text": [
      "Accuracy of the model for test data is: 0.8760746745271432\n",
      "Confusion Matrix for test data is:\n"
     ]
    },
    {
     "data": {
      "text/plain": [
       "Predicted  False  True  __all__\n",
       "Actual                         \n",
       "False       6012   928     6940\n",
       "True          81  1121     1202\n",
       "__all__     6093  2049     8142"
      ]
     },
     "metadata": {},
     "output_type": "display_data"
    },
    {
     "data": {
      "application/vnd.plotly.v1+json": {
       "config": {
        "linkText": "Export to plot.ly",
        "plotlyServerURL": "https://plot.ly",
        "showLink": true
       },
       "data": [
        {
         "marker": {
          "color": "rgb(158,202,225)",
          "line": {
           "color": "rgb(8,48,107)",
           "width": 1.5
          }
         },
         "opacity": 0.6,
         "orientation": "h",
         "text": [
          0.18,
          0.16,
          0.06,
          0.06,
          0.06,
          0.06,
          0.04,
          0.04,
          0.04,
          0.04,
          0.02,
          0.02,
          0.02,
          0.02,
          0.02,
          0.02,
          0.02,
          0.02,
          0.02,
          0.02,
          0.02,
          0.02,
          0.02,
          0,
          0,
          0
         ],
         "textposition": "outside",
         "type": "bar",
         "uid": "74b76ad5-7e85-41f7-aff9-a40ee933542c",
         "x": [
          0.18,
          0.16,
          0.06,
          0.06,
          0.06,
          0.06,
          0.04,
          0.04,
          0.04,
          0.04,
          0.02,
          0.02,
          0.02,
          0.02,
          0.02,
          0.02,
          0.02,
          0.02,
          0.02,
          0.02,
          0.02,
          0.02,
          0.02,
          0,
          0,
          0
         ],
         "y": [
          "total_count",
          "push",
          "total_href",
          "iframe_src_https",
          "link_href_out_of_domain",
          "a_href_.com",
          "p_count",
          "link_type_text/css",
          "link_href_http",
          "document.write",
          "center_count",
          "form_action_http",
          "window.addEventListener",
          "replace",
          "link_rel_shortlink",
          "link_type_application/rsd+xml",
          "get",
          "find",
          "script_async_true",
          "script_src_out_of_domain",
          "strong_count",
          "window.setTimeout",
          "link_href_.css",
          "a_href_https",
          "indexOf",
          "meta_count"
         ]
        }
       ],
       "layout": {
        "autosize": false,
        "height": 1000,
        "width": 1000,
        "xaxis": {
         "tickfont": {
          "color": "black",
          "size": 12
         },
         "title": "Feature Importances"
        },
        "yaxis": {
         "automargin": true
        }
       }
      },
      "text/html": [
       "<div id=\"92f84f50-4706-4f1d-873f-09ed728b85bb\" style=\"height: 1000px; width: 1000px;\" class=\"plotly-graph-div\"></div><script type=\"text/javascript\">require([\"plotly\"], function(Plotly) { window.PLOTLYENV=window.PLOTLYENV || {};window.PLOTLYENV.BASE_URL=\"https://plot.ly\";Plotly.newPlot(\"92f84f50-4706-4f1d-873f-09ed728b85bb\", [{\"marker\": {\"color\": \"rgb(158,202,225)\", \"line\": {\"color\": \"rgb(8,48,107)\", \"width\": 1.5}}, \"opacity\": 0.6, \"orientation\": \"h\", \"text\": [0.18, 0.16, 0.06, 0.06, 0.06, 0.06, 0.04, 0.04, 0.04, 0.04, 0.02, 0.02, 0.02, 0.02, 0.02, 0.02, 0.02, 0.02, 0.02, 0.02, 0.02, 0.02, 0.02, 0.0, 0.0, 0.0], \"textposition\": \"outside\", \"x\": [0.18, 0.16, 0.06, 0.06, 0.06, 0.06, 0.04, 0.04, 0.04, 0.04, 0.02, 0.02, 0.02, 0.02, 0.02, 0.02, 0.02, 0.02, 0.02, 0.02, 0.02, 0.02, 0.02, 0.0, 0.0, 0.0], \"y\": [\"total_count\", \"push\", \"total_href\", \"iframe_src_https\", \"link_href_out_of_domain\", \"a_href_.com\", \"p_count\", \"link_type_text/css\", \"link_href_http\", \"document.write\", \"center_count\", \"form_action_http\", \"window.addEventListener\", \"replace\", \"link_rel_shortlink\", \"link_type_application/rsd+xml\", \"get\", \"find\", \"script_async_true\", \"script_src_out_of_domain\", \"strong_count\", \"window.setTimeout\", \"link_href_.css\", \"a_href_https\", \"indexOf\", \"meta_count\"], \"type\": \"bar\", \"uid\": \"74b76ad5-7e85-41f7-aff9-a40ee933542c\"}], {\"autosize\": false, \"height\": 1000, \"width\": 1000, \"xaxis\": {\"tickfont\": {\"color\": \"black\", \"size\": 12}, \"title\": \"Feature Importances\"}, \"yaxis\": {\"automargin\": true}}, {\"showLink\": true, \"linkText\": \"Export to plot.ly\", \"plotlyServerURL\": \"https://plot.ly\"})});</script>"
      ],
      "text/vnd.plotly.v1+html": [
       "<div id=\"92f84f50-4706-4f1d-873f-09ed728b85bb\" style=\"height: 1000px; width: 1000px;\" class=\"plotly-graph-div\"></div><script type=\"text/javascript\">require([\"plotly\"], function(Plotly) { window.PLOTLYENV=window.PLOTLYENV || {};window.PLOTLYENV.BASE_URL=\"https://plot.ly\";Plotly.newPlot(\"92f84f50-4706-4f1d-873f-09ed728b85bb\", [{\"marker\": {\"color\": \"rgb(158,202,225)\", \"line\": {\"color\": \"rgb(8,48,107)\", \"width\": 1.5}}, \"opacity\": 0.6, \"orientation\": \"h\", \"text\": [0.18, 0.16, 0.06, 0.06, 0.06, 0.06, 0.04, 0.04, 0.04, 0.04, 0.02, 0.02, 0.02, 0.02, 0.02, 0.02, 0.02, 0.02, 0.02, 0.02, 0.02, 0.02, 0.02, 0.0, 0.0, 0.0], \"textposition\": \"outside\", \"x\": [0.18, 0.16, 0.06, 0.06, 0.06, 0.06, 0.04, 0.04, 0.04, 0.04, 0.02, 0.02, 0.02, 0.02, 0.02, 0.02, 0.02, 0.02, 0.02, 0.02, 0.02, 0.02, 0.02, 0.0, 0.0, 0.0], \"y\": [\"total_count\", \"push\", \"total_href\", \"iframe_src_https\", \"link_href_out_of_domain\", \"a_href_.com\", \"p_count\", \"link_type_text/css\", \"link_href_http\", \"document.write\", \"center_count\", \"form_action_http\", \"window.addEventListener\", \"replace\", \"link_rel_shortlink\", \"link_type_application/rsd+xml\", \"get\", \"find\", \"script_async_true\", \"script_src_out_of_domain\", \"strong_count\", \"window.setTimeout\", \"link_href_.css\", \"a_href_https\", \"indexOf\", \"meta_count\"], \"type\": \"bar\", \"uid\": \"74b76ad5-7e85-41f7-aff9-a40ee933542c\"}], {\"autosize\": false, \"height\": 1000, \"width\": 1000, \"xaxis\": {\"tickfont\": {\"color\": \"black\", \"size\": 12}, \"title\": \"Feature Importances\"}, \"yaxis\": {\"automargin\": true}}, {\"showLink\": true, \"linkText\": \"Export to plot.ly\", \"plotlyServerURL\": \"https://plot.ly\"})});</script>"
      ]
     },
     "metadata": {},
     "output_type": "display_data"
    },
    {
     "name": "stdout",
     "output_type": "stream",
     "text": [
      "\n",
      "\n",
      "\u001b[1mGradientBoosting Classifier\u001b[0m\n",
      "Accuracy of the model for training data is: 0.9253717939507149\n",
      "Confusion Matrix for training data is:\n"
     ]
    },
    {
     "data": {
      "text/plain": [
       "Predicted  False   True  __all__\n",
       "Actual                          \n",
       "False      24663   3175    27838\n",
       "True         980  26858    27838\n",
       "__all__    25643  30033    55676"
      ]
     },
     "metadata": {},
     "output_type": "display_data"
    },
    {
     "name": "stdout",
     "output_type": "stream",
     "text": [
      "Accuracy of the model for test data is: 0.893515106853353\n",
      "Confusion Matrix for test data is:\n"
     ]
    },
    {
     "data": {
      "text/plain": [
       "Predicted  False  True  __all__\n",
       "Actual                         \n",
       "False       6169   771     6940\n",
       "True          96  1106     1202\n",
       "__all__     6265  1877     8142"
      ]
     },
     "metadata": {},
     "output_type": "display_data"
    },
    {
     "data": {
      "application/vnd.plotly.v1+json": {
       "config": {
        "linkText": "Export to plot.ly",
        "plotlyServerURL": "https://plot.ly",
        "showLink": true
       },
       "data": [
        {
         "marker": {
          "color": "rgb(158,202,225)",
          "line": {
           "color": "rgb(8,48,107)",
           "width": 1.5
          }
         },
         "opacity": 0.6,
         "orientation": "h",
         "text": [
          0.6546,
          0.1071,
          0.0664,
          0.0426,
          0.0283,
          0.0173,
          0.0127,
          0.0104,
          0.0099,
          0.0079,
          0.0072,
          0.0053,
          0.0048,
          0.0042,
          0.0039,
          0.0026,
          0.0026,
          0.0023,
          0.0019,
          0.0019,
          0.0015,
          0.0012,
          0.0012,
          0.0012,
          0.001,
          0.0001
         ],
         "textposition": "outside",
         "type": "bar",
         "uid": "6603da7f-ef50-4afb-8356-adb821f7126f",
         "x": [
          0.6545740186131189,
          0.10706626198542625,
          0.0663624513589441,
          0.04264999802864032,
          0.02831190060331989,
          0.017266840027276985,
          0.01273525656676065,
          0.01041309807441174,
          0.009867649409073606,
          0.00788384297378866,
          0.007184833226733121,
          0.005273173804131545,
          0.004780512409555372,
          0.0042082832432536,
          0.0038585454693205734,
          0.0026260424672927695,
          0.0025580006713148587,
          0.002276971386082876,
          0.0019426881188993705,
          0.0019052760332906769,
          0.00153150189004578,
          0.0012484747267111592,
          0.0011730521238839087,
          0.001161929144517118,
          0.0009983016692216547,
          0.0001410959749843159
         ],
         "y": [
          "total_count",
          "total_href",
          "link_href_out_of_domain",
          "push",
          "meta_count",
          "script_async_true",
          "link_href_http",
          "link_type_text/css",
          "strong_count",
          "a_href_https",
          "center_count",
          "iframe_src_https",
          "indexOf",
          "a_href_.com",
          "p_count",
          "window.setTimeout",
          "script_src_out_of_domain",
          "find",
          "link_rel_shortlink",
          "link_type_application/rsd+xml",
          "get",
          "window.addEventListener",
          "form_action_http",
          "replace",
          "document.write",
          "link_href_.css"
         ]
        }
       ],
       "layout": {
        "autosize": false,
        "height": 1000,
        "width": 1000,
        "xaxis": {
         "tickfont": {
          "color": "black",
          "size": 12
         },
         "title": "Feature Importances"
        },
        "yaxis": {
         "automargin": true
        }
       }
      },
      "text/html": [
       "<div id=\"9bccca0b-e064-44b0-9f3e-a210dfe58d54\" style=\"height: 1000px; width: 1000px;\" class=\"plotly-graph-div\"></div><script type=\"text/javascript\">require([\"plotly\"], function(Plotly) { window.PLOTLYENV=window.PLOTLYENV || {};window.PLOTLYENV.BASE_URL=\"https://plot.ly\";Plotly.newPlot(\"9bccca0b-e064-44b0-9f3e-a210dfe58d54\", [{\"marker\": {\"color\": \"rgb(158,202,225)\", \"line\": {\"color\": \"rgb(8,48,107)\", \"width\": 1.5}}, \"opacity\": 0.6, \"orientation\": \"h\", \"text\": [0.6546, 0.1071, 0.0664, 0.0426, 0.0283, 0.0173, 0.0127, 0.0104, 0.0099, 0.0079, 0.0072, 0.0053, 0.0048, 0.0042, 0.0039, 0.0026, 0.0026, 0.0023, 0.0019, 0.0019, 0.0015, 0.0012, 0.0012, 0.0012, 0.001, 0.0001], \"textposition\": \"outside\", \"x\": [0.6545740186131189, 0.10706626198542625, 0.0663624513589441, 0.04264999802864032, 0.02831190060331989, 0.017266840027276985, 0.01273525656676065, 0.01041309807441174, 0.009867649409073606, 0.00788384297378866, 0.007184833226733121, 0.005273173804131545, 0.004780512409555372, 0.0042082832432536, 0.0038585454693205734, 0.0026260424672927695, 0.0025580006713148587, 0.002276971386082876, 0.0019426881188993705, 0.0019052760332906769, 0.00153150189004578, 0.0012484747267111592, 0.0011730521238839087, 0.001161929144517118, 0.0009983016692216547, 0.0001410959749843159], \"y\": [\"total_count\", \"total_href\", \"link_href_out_of_domain\", \"push\", \"meta_count\", \"script_async_true\", \"link_href_http\", \"link_type_text/css\", \"strong_count\", \"a_href_https\", \"center_count\", \"iframe_src_https\", \"indexOf\", \"a_href_.com\", \"p_count\", \"window.setTimeout\", \"script_src_out_of_domain\", \"find\", \"link_rel_shortlink\", \"link_type_application/rsd+xml\", \"get\", \"window.addEventListener\", \"form_action_http\", \"replace\", \"document.write\", \"link_href_.css\"], \"type\": \"bar\", \"uid\": \"6603da7f-ef50-4afb-8356-adb821f7126f\"}], {\"autosize\": false, \"height\": 1000, \"width\": 1000, \"xaxis\": {\"tickfont\": {\"color\": \"black\", \"size\": 12}, \"title\": \"Feature Importances\"}, \"yaxis\": {\"automargin\": true}}, {\"showLink\": true, \"linkText\": \"Export to plot.ly\", \"plotlyServerURL\": \"https://plot.ly\"})});</script>"
      ],
      "text/vnd.plotly.v1+html": [
       "<div id=\"9bccca0b-e064-44b0-9f3e-a210dfe58d54\" style=\"height: 1000px; width: 1000px;\" class=\"plotly-graph-div\"></div><script type=\"text/javascript\">require([\"plotly\"], function(Plotly) { window.PLOTLYENV=window.PLOTLYENV || {};window.PLOTLYENV.BASE_URL=\"https://plot.ly\";Plotly.newPlot(\"9bccca0b-e064-44b0-9f3e-a210dfe58d54\", [{\"marker\": {\"color\": \"rgb(158,202,225)\", \"line\": {\"color\": \"rgb(8,48,107)\", \"width\": 1.5}}, \"opacity\": 0.6, \"orientation\": \"h\", \"text\": [0.6546, 0.1071, 0.0664, 0.0426, 0.0283, 0.0173, 0.0127, 0.0104, 0.0099, 0.0079, 0.0072, 0.0053, 0.0048, 0.0042, 0.0039, 0.0026, 0.0026, 0.0023, 0.0019, 0.0019, 0.0015, 0.0012, 0.0012, 0.0012, 0.001, 0.0001], \"textposition\": \"outside\", \"x\": [0.6545740186131189, 0.10706626198542625, 0.0663624513589441, 0.04264999802864032, 0.02831190060331989, 0.017266840027276985, 0.01273525656676065, 0.01041309807441174, 0.009867649409073606, 0.00788384297378866, 0.007184833226733121, 0.005273173804131545, 0.004780512409555372, 0.0042082832432536, 0.0038585454693205734, 0.0026260424672927695, 0.0025580006713148587, 0.002276971386082876, 0.0019426881188993705, 0.0019052760332906769, 0.00153150189004578, 0.0012484747267111592, 0.0011730521238839087, 0.001161929144517118, 0.0009983016692216547, 0.0001410959749843159], \"y\": [\"total_count\", \"total_href\", \"link_href_out_of_domain\", \"push\", \"meta_count\", \"script_async_true\", \"link_href_http\", \"link_type_text/css\", \"strong_count\", \"a_href_https\", \"center_count\", \"iframe_src_https\", \"indexOf\", \"a_href_.com\", \"p_count\", \"window.setTimeout\", \"script_src_out_of_domain\", \"find\", \"link_rel_shortlink\", \"link_type_application/rsd+xml\", \"get\", \"window.addEventListener\", \"form_action_http\", \"replace\", \"document.write\", \"link_href_.css\"], \"type\": \"bar\", \"uid\": \"6603da7f-ef50-4afb-8356-adb821f7126f\"}], {\"autosize\": false, \"height\": 1000, \"width\": 1000, \"xaxis\": {\"tickfont\": {\"color\": \"black\", \"size\": 12}, \"title\": \"Feature Importances\"}, \"yaxis\": {\"automargin\": true}}, {\"showLink\": true, \"linkText\": \"Export to plot.ly\", \"plotlyServerURL\": \"https://plot.ly\"})});</script>"
      ]
     },
     "metadata": {},
     "output_type": "display_data"
    },
    {
     "name": "stdout",
     "output_type": "stream",
     "text": [
      "\n",
      "\n",
      "\u001b[1mExtraTree Classifier\u001b[0m\n",
      "Accuracy of the model for training data is: 0.9532832818449601\n",
      "Confusion Matrix for training data is:\n"
     ]
    },
    {
     "data": {
      "text/plain": [
       "Predicted  False   True  __all__\n",
       "Actual                          \n",
       "False      25485   2353    27838\n",
       "True         248  27590    27838\n",
       "__all__    25733  29943    55676"
      ]
     },
     "metadata": {},
     "output_type": "display_data"
    },
    {
     "name": "stdout",
     "output_type": "stream",
     "text": [
      "Accuracy of the model for test data is: 0.9087447801522968\n",
      "Confusion Matrix for test data is:\n"
     ]
    },
    {
     "data": {
      "text/plain": [
       "Predicted  False  True  __all__\n",
       "Actual                         \n",
       "False       6312   628     6940\n",
       "True         115  1087     1202\n",
       "__all__     6427  1715     8142"
      ]
     },
     "metadata": {},
     "output_type": "display_data"
    },
    {
     "data": {
      "application/vnd.plotly.v1+json": {
       "config": {
        "linkText": "Export to plot.ly",
        "plotlyServerURL": "https://plot.ly",
        "showLink": true
       },
       "data": [
        {
         "marker": {
          "color": "rgb(158,202,225)",
          "line": {
           "color": "rgb(8,48,107)",
           "width": 1.5
          }
         },
         "opacity": 0.6,
         "orientation": "h",
         "text": [
          0.1283,
          0.0987,
          0.0952,
          0.0842,
          0.0828,
          0.0723,
          0.0701,
          0.0538,
          0.0498,
          0.0333,
          0.0216,
          0.0214,
          0.0214,
          0.0213,
          0.0211,
          0.0185,
          0.0181,
          0.0167,
          0.0162,
          0.0149,
          0.0118,
          0.0097,
          0.0062,
          0.0053,
          0.0047,
          0.0026
         ],
         "textposition": "outside",
         "type": "bar",
         "uid": "9c8122c2-1b0d-49f3-b743-c46e88416e66",
         "x": [
          0.1282556942680075,
          0.09871923003112687,
          0.09515462453171304,
          0.08417209060281994,
          0.08279721297128527,
          0.07227135388224068,
          0.07012729501283078,
          0.05383406290472569,
          0.049823069915150994,
          0.03332677603170958,
          0.021606893416933545,
          0.021434247482612117,
          0.021415409998993006,
          0.02126910981181561,
          0.021136835892493867,
          0.018478510984016375,
          0.01814709731095227,
          0.016713810286790306,
          0.016168171395711167,
          0.014891302873870487,
          0.011831281576731528,
          0.00970941027243937,
          0.006166880540771059,
          0.005274505529090627,
          0.004713155072235228,
          0.0025619674029332745
         ],
         "y": [
          "script_async_true",
          "total_count",
          "p_count",
          "a_href_https",
          "link_href_out_of_domain",
          "meta_count",
          "link_type_text/css",
          "total_href",
          "link_href_.css",
          "iframe_src_https",
          "window.addEventListener",
          "push",
          "script_src_out_of_domain",
          "replace",
          "form_action_http",
          "get",
          "center_count",
          "indexOf",
          "link_href_http",
          "link_type_application/rsd+xml",
          "strong_count",
          "link_rel_shortlink",
          "document.write",
          "a_href_.com",
          "find",
          "window.setTimeout"
         ]
        }
       ],
       "layout": {
        "autosize": false,
        "height": 1000,
        "width": 1000,
        "xaxis": {
         "tickfont": {
          "color": "black",
          "size": 12
         },
         "title": "Feature Importances"
        },
        "yaxis": {
         "automargin": true
        }
       }
      },
      "text/html": [
       "<div id=\"3ae7310f-b369-43f6-8431-93fd6be6d70b\" style=\"height: 1000px; width: 1000px;\" class=\"plotly-graph-div\"></div><script type=\"text/javascript\">require([\"plotly\"], function(Plotly) { window.PLOTLYENV=window.PLOTLYENV || {};window.PLOTLYENV.BASE_URL=\"https://plot.ly\";Plotly.newPlot(\"3ae7310f-b369-43f6-8431-93fd6be6d70b\", [{\"marker\": {\"color\": \"rgb(158,202,225)\", \"line\": {\"color\": \"rgb(8,48,107)\", \"width\": 1.5}}, \"opacity\": 0.6, \"orientation\": \"h\", \"text\": [0.1283, 0.0987, 0.0952, 0.0842, 0.0828, 0.0723, 0.0701, 0.0538, 0.0498, 0.0333, 0.0216, 0.0214, 0.0214, 0.0213, 0.0211, 0.0185, 0.0181, 0.0167, 0.0162, 0.0149, 0.0118, 0.0097, 0.0062, 0.0053, 0.0047, 0.0026], \"textposition\": \"outside\", \"x\": [0.1282556942680075, 0.09871923003112687, 0.09515462453171304, 0.08417209060281994, 0.08279721297128527, 0.07227135388224068, 0.07012729501283078, 0.05383406290472569, 0.049823069915150994, 0.03332677603170958, 0.021606893416933545, 0.021434247482612117, 0.021415409998993006, 0.02126910981181561, 0.021136835892493867, 0.018478510984016375, 0.01814709731095227, 0.016713810286790306, 0.016168171395711167, 0.014891302873870487, 0.011831281576731528, 0.00970941027243937, 0.006166880540771059, 0.005274505529090627, 0.004713155072235228, 0.0025619674029332745], \"y\": [\"script_async_true\", \"total_count\", \"p_count\", \"a_href_https\", \"link_href_out_of_domain\", \"meta_count\", \"link_type_text/css\", \"total_href\", \"link_href_.css\", \"iframe_src_https\", \"window.addEventListener\", \"push\", \"script_src_out_of_domain\", \"replace\", \"form_action_http\", \"get\", \"center_count\", \"indexOf\", \"link_href_http\", \"link_type_application/rsd+xml\", \"strong_count\", \"link_rel_shortlink\", \"document.write\", \"a_href_.com\", \"find\", \"window.setTimeout\"], \"type\": \"bar\", \"uid\": \"9c8122c2-1b0d-49f3-b743-c46e88416e66\"}], {\"autosize\": false, \"height\": 1000, \"width\": 1000, \"xaxis\": {\"tickfont\": {\"color\": \"black\", \"size\": 12}, \"title\": \"Feature Importances\"}, \"yaxis\": {\"automargin\": true}}, {\"showLink\": true, \"linkText\": \"Export to plot.ly\", \"plotlyServerURL\": \"https://plot.ly\"})});</script>"
      ],
      "text/vnd.plotly.v1+html": [
       "<div id=\"3ae7310f-b369-43f6-8431-93fd6be6d70b\" style=\"height: 1000px; width: 1000px;\" class=\"plotly-graph-div\"></div><script type=\"text/javascript\">require([\"plotly\"], function(Plotly) { window.PLOTLYENV=window.PLOTLYENV || {};window.PLOTLYENV.BASE_URL=\"https://plot.ly\";Plotly.newPlot(\"3ae7310f-b369-43f6-8431-93fd6be6d70b\", [{\"marker\": {\"color\": \"rgb(158,202,225)\", \"line\": {\"color\": \"rgb(8,48,107)\", \"width\": 1.5}}, \"opacity\": 0.6, \"orientation\": \"h\", \"text\": [0.1283, 0.0987, 0.0952, 0.0842, 0.0828, 0.0723, 0.0701, 0.0538, 0.0498, 0.0333, 0.0216, 0.0214, 0.0214, 0.0213, 0.0211, 0.0185, 0.0181, 0.0167, 0.0162, 0.0149, 0.0118, 0.0097, 0.0062, 0.0053, 0.0047, 0.0026], \"textposition\": \"outside\", \"x\": [0.1282556942680075, 0.09871923003112687, 0.09515462453171304, 0.08417209060281994, 0.08279721297128527, 0.07227135388224068, 0.07012729501283078, 0.05383406290472569, 0.049823069915150994, 0.03332677603170958, 0.021606893416933545, 0.021434247482612117, 0.021415409998993006, 0.02126910981181561, 0.021136835892493867, 0.018478510984016375, 0.01814709731095227, 0.016713810286790306, 0.016168171395711167, 0.014891302873870487, 0.011831281576731528, 0.00970941027243937, 0.006166880540771059, 0.005274505529090627, 0.004713155072235228, 0.0025619674029332745], \"y\": [\"script_async_true\", \"total_count\", \"p_count\", \"a_href_https\", \"link_href_out_of_domain\", \"meta_count\", \"link_type_text/css\", \"total_href\", \"link_href_.css\", \"iframe_src_https\", \"window.addEventListener\", \"push\", \"script_src_out_of_domain\", \"replace\", \"form_action_http\", \"get\", \"center_count\", \"indexOf\", \"link_href_http\", \"link_type_application/rsd+xml\", \"strong_count\", \"link_rel_shortlink\", \"document.write\", \"a_href_.com\", \"find\", \"window.setTimeout\"], \"type\": \"bar\", \"uid\": \"9c8122c2-1b0d-49f3-b743-c46e88416e66\"}], {\"autosize\": false, \"height\": 1000, \"width\": 1000, \"xaxis\": {\"tickfont\": {\"color\": \"black\", \"size\": 12}, \"title\": \"Feature Importances\"}, \"yaxis\": {\"automargin\": true}}, {\"showLink\": true, \"linkText\": \"Export to plot.ly\", \"plotlyServerURL\": \"https://plot.ly\"})});</script>"
      ]
     },
     "metadata": {},
     "output_type": "display_data"
    },
    {
     "name": "stdout",
     "output_type": "stream",
     "text": [
      "\n",
      "\n",
      "\u001b[1mBagging Classifier\u001b[0m\n",
      "Accuracy of the model for training data is: 0.9523852288239097\n",
      "Confusion Matrix for training data is:\n"
     ]
    },
    {
     "data": {
      "text/plain": [
       "Predicted  False   True  __all__\n",
       "Actual                          \n",
       "False      25474   2364    27838\n",
       "True         287  27551    27838\n",
       "__all__    25761  29915    55676"
      ]
     },
     "metadata": {},
     "output_type": "display_data"
    },
    {
     "name": "stdout",
     "output_type": "stream",
     "text": [
      "Accuracy of the model for test data is: 0.9069024809629084\n",
      "Confusion Matrix for test data is:\n"
     ]
    },
    {
     "data": {
      "text/plain": [
       "Predicted  False  True  __all__\n",
       "Actual                         \n",
       "False       6288   652     6940\n",
       "True         106  1096     1202\n",
       "__all__     6394  1748     8142"
      ]
     },
     "metadata": {},
     "output_type": "display_data"
    },
    {
     "name": "stdout",
     "output_type": "stream",
     "text": [
      "\n",
      "\n",
      "\u001b[1mNeural Network-1\u001b[0m\n",
      "The accuracy of the model on training data is: 0.9352683382512543\n"
     ]
    },
    {
     "data": {
      "text/plain": [
       "Predicted  False   True  __all__\n",
       "Actual                          \n",
       "False      24495   3343    27838\n",
       "True         261  27577    27838\n",
       "__all__    24756  30920    55676"
      ]
     },
     "metadata": {},
     "output_type": "display_data"
    },
    {
     "name": "stdout",
     "output_type": "stream",
     "text": [
      "The accuracy of the model on test data is: 0.8824613117170228\n"
     ]
    },
    {
     "data": {
      "text/plain": [
       "Predicted  False  True  __all__\n",
       "Actual                         \n",
       "False       6059   881     6940\n",
       "True          76  1126     1202\n",
       "__all__     6135  2007     8142"
      ]
     },
     "metadata": {},
     "output_type": "display_data"
    },
    {
     "name": "stdout",
     "output_type": "stream",
     "text": [
      "\n",
      "\n"
     ]
    }
   ],
   "source": [
    "## Table to store training and test measures so we can compare later\n",
    "table_80_80_train=pd.DataFrame(columns=['accuracy','TP','TN','FP','FN','FPR','FNR'])\n",
    "table_80_80_test=pd.DataFrame(columns=['accuracy','TP','TN','FP','FN','FPR','FNR','auc','mcc'])\n",
    "\n",
    "feat_imp=[None]*4\n",
    "j=0\n",
    "for i in range(0,8):\n",
    "    if i>=2 and i<=5:\n",
    "        model,cm_train,cm_test,acc_train,acc_test,roc_auc,feat_imp[j],mcc=f[i](X_train,Y_train,scaled_X_test,test_Y,columns)\n",
    "        j=j+1\n",
    "    else:\n",
    "        model,cm_train,cm_test,acc_train,acc_test,roc_auc,mcc=f[i](X_train,Y_train,scaled_X_test,test_Y)\n",
    "    table_80_80_train.loc[i]=   ([acc_train,cm_train.TP,cm_train.TN,cm_train.FP,cm_train.FN,cm_train.FPR,cm_train.FNR])\n",
    "    table_80_80_test.loc[i] =   ([acc_test ,cm_test.TP, cm_test.TN, cm_test.FP, cm_test.FN, cm_test.FPR, cm_test.FNR,roc_auc,mcc])\n",
    "    print(\"\\n\")"
   ]
  },
  {
   "cell_type": "markdown",
   "metadata": {},
   "source": [
    "### <a id='2.A' style=\"text-decoration : none; color : #000000;\"> A Results</a>"
   ]
  },
  {
   "cell_type": "code",
   "execution_count": 24,
   "metadata": {},
   "outputs": [
    {
     "data": {
      "application/vnd.plotly.v1+json": {
       "config": {
        "linkText": "Export to plot.ly",
        "plotlyServerURL": "https://plot.ly",
        "showLink": true
       },
       "data": [
        {
         "mode": "lines",
         "name": "KNN_model",
         "type": "scatter",
         "uid": "4a997c1c-5d51-45da-bfdd-9340b727d00a",
         "x": [
          "accuracy",
          "FPR",
          "FNR",
          "auc"
         ],
         "y": [
          0.841930729550479,
          0.042363112391930836,
          0.8261231281198004,
          0.5657568797441345
         ]
        },
        {
         "mode": "lines+markers",
         "name": "Logistic Regression",
         "type": "scatter",
         "uid": "99bbbdc0-a5fb-4adf-9320-82e994365c46",
         "x": [
          "accuracy",
          "FPR",
          "FNR",
          "auc"
         ],
         "y": [
          0.8335789732252518,
          0.18703170028818444,
          0.04742096505823627,
          0.8827736673267896
         ]
        },
        {
         "marker": {
          "symbol": "x"
         },
         "mode": "lines+markers",
         "name": "Random Forest",
         "type": "scatter",
         "uid": "5a744b49-4678-4765-a2f3-d63ca82e6ca7",
         "x": [
          "accuracy",
          "FPR",
          "FNR",
          "auc"
         ],
         "y": [
          0.9099729796118889,
          0.09020172910662824,
          0.08901830282861897,
          0.9103899840323765
         ]
        },
        {
         "mode": "lines",
         "name": "Ada Boost",
         "type": "scatter",
         "uid": "6c41ee2b-4383-419f-9a57-d29ea5ca6d3a",
         "x": [
          "accuracy",
          "FPR",
          "FNR",
          "auc"
         ],
         "y": [
          0.8760746745271432,
          0.13371757925072045,
          0.06738768718801996,
          0.8994473667806298
         ]
        },
        {
         "mode": "lines+markers",
         "name": "GradientBoosting",
         "type": "scatter",
         "uid": "0588bec3-44f5-46c9-bdf7-d4ea95c29a48",
         "x": [
          "accuracy",
          "FPR",
          "FNR",
          "auc"
         ],
         "y": [
          0.893515106853353,
          0.11109510086455332,
          0.07986688851913477,
          0.904519005308156
         ]
        },
        {
         "marker": {
          "symbol": "x"
         },
         "mode": "lines+markers",
         "name": "ExtraTree Classifier",
         "type": "scatter",
         "uid": "c9ea30f6-f673-4e6b-8d20-1f6dc100f2ab",
         "x": [
          "accuracy",
          "FPR",
          "FNR",
          "auc"
         ],
         "y": [
          0.9087447801522968,
          0.0904899135446686,
          0.0956738768718802,
          0.9069181047917256
         ]
        },
        {
         "marker": {
          "symbol": "x"
         },
         "mode": "lines+markers",
         "name": "Bagging",
         "type": "scatter",
         "uid": "8e5a2710-405c-4aba-b265-8f95f8e79d67",
         "x": [
          "accuracy",
          "FPR",
          "FNR",
          "auc"
         ],
         "y": [
          0.9069024809629084,
          0.09394812680115273,
          0.08818635607321132,
          0.908932758562818
         ]
        },
        {
         "marker": {
          "symbol": "x"
         },
         "mode": "lines+markers",
         "name": "Neural Network",
         "type": "scatter",
         "uid": "2db785dc-1b87-46b6-97e9-0d997057c2cc",
         "x": [
          "accuracy",
          "FPR",
          "FNR",
          "auc"
         ],
         "y": [
          0.8824613117170228,
          0.12694524495677234,
          0.0632279534109817,
          0.904913400816123
         ]
        }
       ],
       "layout": {
        "title": "Result comparision for Features selected in Section 1",
        "yaxis": {
         "dtick": 0.05,
         "tick0": 0
        }
       }
      },
      "text/html": [
       "<div id=\"26f7b665-ee46-47c0-ac18-554f1d9fd6c6\" style=\"height: 525px; width: 100%;\" class=\"plotly-graph-div\"></div><script type=\"text/javascript\">require([\"plotly\"], function(Plotly) { window.PLOTLYENV=window.PLOTLYENV || {};window.PLOTLYENV.BASE_URL=\"https://plot.ly\";Plotly.newPlot(\"26f7b665-ee46-47c0-ac18-554f1d9fd6c6\", [{\"mode\": \"lines\", \"name\": \"KNN_model\", \"x\": [\"accuracy\", \"FPR\", \"FNR\", \"auc\"], \"y\": [0.841930729550479, 0.042363112391930836, 0.8261231281198004, 0.5657568797441345], \"type\": \"scatter\", \"uid\": \"4a997c1c-5d51-45da-bfdd-9340b727d00a\"}, {\"mode\": \"lines+markers\", \"name\": \"Logistic Regression\", \"x\": [\"accuracy\", \"FPR\", \"FNR\", \"auc\"], \"y\": [0.8335789732252518, 0.18703170028818444, 0.04742096505823627, 0.8827736673267896], \"type\": \"scatter\", \"uid\": \"99bbbdc0-a5fb-4adf-9320-82e994365c46\"}, {\"marker\": {\"symbol\": \"x\"}, \"mode\": \"lines+markers\", \"name\": \"Random Forest\", \"x\": [\"accuracy\", \"FPR\", \"FNR\", \"auc\"], \"y\": [0.9099729796118889, 0.09020172910662824, 0.08901830282861897, 0.9103899840323765], \"type\": \"scatter\", \"uid\": \"5a744b49-4678-4765-a2f3-d63ca82e6ca7\"}, {\"mode\": \"lines\", \"name\": \"Ada Boost\", \"x\": [\"accuracy\", \"FPR\", \"FNR\", \"auc\"], \"y\": [0.8760746745271432, 0.13371757925072045, 0.06738768718801996, 0.8994473667806298], \"type\": \"scatter\", \"uid\": \"6c41ee2b-4383-419f-9a57-d29ea5ca6d3a\"}, {\"mode\": \"lines+markers\", \"name\": \"GradientBoosting\", \"x\": [\"accuracy\", \"FPR\", \"FNR\", \"auc\"], \"y\": [0.893515106853353, 0.11109510086455332, 0.07986688851913477, 0.904519005308156], \"type\": \"scatter\", \"uid\": \"0588bec3-44f5-46c9-bdf7-d4ea95c29a48\"}, {\"marker\": {\"symbol\": \"x\"}, \"mode\": \"lines+markers\", \"name\": \"ExtraTree Classifier\", \"x\": [\"accuracy\", \"FPR\", \"FNR\", \"auc\"], \"y\": [0.9087447801522968, 0.0904899135446686, 0.0956738768718802, 0.9069181047917256], \"type\": \"scatter\", \"uid\": \"c9ea30f6-f673-4e6b-8d20-1f6dc100f2ab\"}, {\"marker\": {\"symbol\": \"x\"}, \"mode\": \"lines+markers\", \"name\": \"Bagging\", \"x\": [\"accuracy\", \"FPR\", \"FNR\", \"auc\"], \"y\": [0.9069024809629084, 0.09394812680115273, 0.08818635607321132, 0.908932758562818], \"type\": \"scatter\", \"uid\": \"8e5a2710-405c-4aba-b265-8f95f8e79d67\"}, {\"marker\": {\"symbol\": \"x\"}, \"mode\": \"lines+markers\", \"name\": \"Neural Network\", \"x\": [\"accuracy\", \"FPR\", \"FNR\", \"auc\"], \"y\": [0.8824613117170228, 0.12694524495677234, 0.0632279534109817, 0.904913400816123], \"type\": \"scatter\", \"uid\": \"2db785dc-1b87-46b6-97e9-0d997057c2cc\"}], {\"title\": \"Result comparision for Features selected in Section 1\", \"yaxis\": {\"dtick\": 0.05, \"tick0\": 0}}, {\"showLink\": true, \"linkText\": \"Export to plot.ly\", \"plotlyServerURL\": \"https://plot.ly\"})});</script><script type=\"text/javascript\">window.addEventListener(\"resize\", function(){window._Plotly.Plots.resize(document.getElementById(\"26f7b665-ee46-47c0-ac18-554f1d9fd6c6\"));});</script>"
      ],
      "text/vnd.plotly.v1+html": [
       "<div id=\"26f7b665-ee46-47c0-ac18-554f1d9fd6c6\" style=\"height: 525px; width: 100%;\" class=\"plotly-graph-div\"></div><script type=\"text/javascript\">require([\"plotly\"], function(Plotly) { window.PLOTLYENV=window.PLOTLYENV || {};window.PLOTLYENV.BASE_URL=\"https://plot.ly\";Plotly.newPlot(\"26f7b665-ee46-47c0-ac18-554f1d9fd6c6\", [{\"mode\": \"lines\", \"name\": \"KNN_model\", \"x\": [\"accuracy\", \"FPR\", \"FNR\", \"auc\"], \"y\": [0.841930729550479, 0.042363112391930836, 0.8261231281198004, 0.5657568797441345], \"type\": \"scatter\", \"uid\": \"4a997c1c-5d51-45da-bfdd-9340b727d00a\"}, {\"mode\": \"lines+markers\", \"name\": \"Logistic Regression\", \"x\": [\"accuracy\", \"FPR\", \"FNR\", \"auc\"], \"y\": [0.8335789732252518, 0.18703170028818444, 0.04742096505823627, 0.8827736673267896], \"type\": \"scatter\", \"uid\": \"99bbbdc0-a5fb-4adf-9320-82e994365c46\"}, {\"marker\": {\"symbol\": \"x\"}, \"mode\": \"lines+markers\", \"name\": \"Random Forest\", \"x\": [\"accuracy\", \"FPR\", \"FNR\", \"auc\"], \"y\": [0.9099729796118889, 0.09020172910662824, 0.08901830282861897, 0.9103899840323765], \"type\": \"scatter\", \"uid\": \"5a744b49-4678-4765-a2f3-d63ca82e6ca7\"}, {\"mode\": \"lines\", \"name\": \"Ada Boost\", \"x\": [\"accuracy\", \"FPR\", \"FNR\", \"auc\"], \"y\": [0.8760746745271432, 0.13371757925072045, 0.06738768718801996, 0.8994473667806298], \"type\": \"scatter\", \"uid\": \"6c41ee2b-4383-419f-9a57-d29ea5ca6d3a\"}, {\"mode\": \"lines+markers\", \"name\": \"GradientBoosting\", \"x\": [\"accuracy\", \"FPR\", \"FNR\", \"auc\"], \"y\": [0.893515106853353, 0.11109510086455332, 0.07986688851913477, 0.904519005308156], \"type\": \"scatter\", \"uid\": \"0588bec3-44f5-46c9-bdf7-d4ea95c29a48\"}, {\"marker\": {\"symbol\": \"x\"}, \"mode\": \"lines+markers\", \"name\": \"ExtraTree Classifier\", \"x\": [\"accuracy\", \"FPR\", \"FNR\", \"auc\"], \"y\": [0.9087447801522968, 0.0904899135446686, 0.0956738768718802, 0.9069181047917256], \"type\": \"scatter\", \"uid\": \"c9ea30f6-f673-4e6b-8d20-1f6dc100f2ab\"}, {\"marker\": {\"symbol\": \"x\"}, \"mode\": \"lines+markers\", \"name\": \"Bagging\", \"x\": [\"accuracy\", \"FPR\", \"FNR\", \"auc\"], \"y\": [0.9069024809629084, 0.09394812680115273, 0.08818635607321132, 0.908932758562818], \"type\": \"scatter\", \"uid\": \"8e5a2710-405c-4aba-b265-8f95f8e79d67\"}, {\"marker\": {\"symbol\": \"x\"}, \"mode\": \"lines+markers\", \"name\": \"Neural Network\", \"x\": [\"accuracy\", \"FPR\", \"FNR\", \"auc\"], \"y\": [0.8824613117170228, 0.12694524495677234, 0.0632279534109817, 0.904913400816123], \"type\": \"scatter\", \"uid\": \"2db785dc-1b87-46b6-97e9-0d997057c2cc\"}], {\"title\": \"Result comparision for Features selected in Section 1\", \"yaxis\": {\"dtick\": 0.05, \"tick0\": 0}}, {\"showLink\": true, \"linkText\": \"Export to plot.ly\", \"plotlyServerURL\": \"https://plot.ly\"})});</script><script type=\"text/javascript\">window.addEventListener(\"resize\", function(){window._Plotly.Plots.resize(document.getElementById(\"26f7b665-ee46-47c0-ac18-554f1d9fd6c6\"));});</script>"
      ]
     },
     "metadata": {},
     "output_type": "display_data"
    }
   ],
   "source": [
    "trace0 = go.Scatter(x=table_80_80_test.iloc[0].index.values[[0,5,6,7]],\n",
    "                    y=table_80_80_test.iloc[0].values[[0,5,6,7]],\n",
    "                    mode = 'lines',\n",
    "                    name = 'KNN_model')\n",
    "\n",
    "trace1 = go.Scatter(x=table_80_80_test.iloc[1].index.values[[0,5,6,7]],\n",
    "                    y=table_80_80_test.iloc[1].values[[0,5,6,7]],\n",
    "                    mode = 'lines+markers',\n",
    "                    name = 'Logistic Regression')\n",
    "\n",
    "trace2 = go.Scatter(x=table_80_80_test.iloc[2].index.values[[0,5,6,7]],\n",
    "                    y=table_80_80_test.iloc[2].values[[0,5,6,7]],\n",
    "                    mode = 'lines+markers',marker=dict(symbol='x'),\n",
    "                    name = 'Random Forest')\n",
    "\n",
    "\n",
    "trace3 = go.Scatter(x=table_80_80_test.iloc[3].index.values[[0,5,6,7]],\n",
    "                    y=table_80_80_test.iloc[3].values[[0,5,6,7]],\n",
    "                    mode = 'lines',\n",
    "                    name = 'Ada Boost')\n",
    "\n",
    "trace4 = go.Scatter(x=table_80_80_test.iloc[4].index.values[[0,5,6,7]],\n",
    "                    y=table_80_80_test.iloc[4].values[[0,5,6,7]],\n",
    "                    mode = 'lines+markers',\n",
    "                    name = 'GradientBoosting')\n",
    "\n",
    "trace5 = go.Scatter(x=table_80_80_test.iloc[5].index.values[[0,5,6,7]],\n",
    "                    y=table_80_80_test.iloc[5].values[[0,5,6,7]],\n",
    "                    mode = 'lines+markers',marker=dict(symbol='x'),\n",
    "                    name = 'ExtraTree Classifier')\n",
    "\n",
    "trace6 = go.Scatter(x=table_80_80_test.iloc[6].index.values[[0,5,6,7]],\n",
    "                    y=table_80_80_test.iloc[6].values[[0,5,6,7]],\n",
    "                    mode = 'lines+markers',marker=dict(symbol='x'),\n",
    "                    name = 'Bagging')\n",
    "\n",
    "trace7 = go.Scatter(x=table_80_80_test.iloc[7].index.values[[0,5,6,7]],\n",
    "                    y=table_80_80_test.iloc[7].values[[0,5,6,7]],\n",
    "                    mode = 'lines+markers',marker=dict(symbol='x'),\n",
    "                    name = 'Neural Network')\n",
    "\n",
    "\n",
    "\n",
    "data = [trace0, trace1, trace2, trace3, trace4, trace5, trace6, trace7]\n",
    "layout = go.Layout(yaxis=dict(tick0=0,dtick=0.05),title='Result comparision for Features selected in Section 1')\n",
    "fig = go.Figure(data=data, layout=layout)\n",
    "\n",
    "iplot(fig, filename='Result')"
   ]
  },
  {
   "cell_type": "code",
   "execution_count": 25,
   "metadata": {},
   "outputs": [
    {
     "name": "stdout",
     "output_type": "stream",
     "text": [
      "Training Results\n"
     ]
    },
    {
     "data": {
      "text/html": [
       "<div>\n",
       "<style scoped>\n",
       "    .dataframe tbody tr th:only-of-type {\n",
       "        vertical-align: middle;\n",
       "    }\n",
       "\n",
       "    .dataframe tbody tr th {\n",
       "        vertical-align: top;\n",
       "    }\n",
       "\n",
       "    .dataframe thead th {\n",
       "        text-align: right;\n",
       "    }\n",
       "</style>\n",
       "<table border=\"1\" class=\"dataframe\">\n",
       "  <thead>\n",
       "    <tr style=\"text-align: right;\">\n",
       "      <th></th>\n",
       "      <th>accuracy</th>\n",
       "      <th>TP</th>\n",
       "      <th>TN</th>\n",
       "      <th>FP</th>\n",
       "      <th>FN</th>\n",
       "      <th>FPR</th>\n",
       "      <th>FNR</th>\n",
       "    </tr>\n",
       "    <tr>\n",
       "      <th>index</th>\n",
       "      <th></th>\n",
       "      <th></th>\n",
       "      <th></th>\n",
       "      <th></th>\n",
       "      <th></th>\n",
       "      <th></th>\n",
       "      <th></th>\n",
       "    </tr>\n",
       "  </thead>\n",
       "  <tbody>\n",
       "    <tr>\n",
       "      <th>KNeighborsClassifier</th>\n",
       "      <td>0.602737</td>\n",
       "      <td>6490.0</td>\n",
       "      <td>27068.0</td>\n",
       "      <td>770.0</td>\n",
       "      <td>21348.0</td>\n",
       "      <td>0.027660</td>\n",
       "      <td>0.766865</td>\n",
       "    </tr>\n",
       "    <tr>\n",
       "      <th>LogisticRegression</th>\n",
       "      <td>0.888156</td>\n",
       "      <td>26869.0</td>\n",
       "      <td>22580.0</td>\n",
       "      <td>5258.0</td>\n",
       "      <td>969.0</td>\n",
       "      <td>0.188879</td>\n",
       "      <td>0.034809</td>\n",
       "    </tr>\n",
       "    <tr>\n",
       "      <th>RandomForestClassifier</th>\n",
       "      <td>0.952637</td>\n",
       "      <td>27562.0</td>\n",
       "      <td>25477.0</td>\n",
       "      <td>2361.0</td>\n",
       "      <td>276.0</td>\n",
       "      <td>0.084812</td>\n",
       "      <td>0.009915</td>\n",
       "    </tr>\n",
       "    <tr>\n",
       "      <th>AdaBoostClassifier</th>\n",
       "      <td>0.908201</td>\n",
       "      <td>26537.0</td>\n",
       "      <td>24028.0</td>\n",
       "      <td>3810.0</td>\n",
       "      <td>1301.0</td>\n",
       "      <td>0.136863</td>\n",
       "      <td>0.046735</td>\n",
       "    </tr>\n",
       "    <tr>\n",
       "      <th>GradientBoostingClassifier</th>\n",
       "      <td>0.925372</td>\n",
       "      <td>26858.0</td>\n",
       "      <td>24663.0</td>\n",
       "      <td>3175.0</td>\n",
       "      <td>980.0</td>\n",
       "      <td>0.114053</td>\n",
       "      <td>0.035204</td>\n",
       "    </tr>\n",
       "    <tr>\n",
       "      <th>ExtraTreeClassifier</th>\n",
       "      <td>0.953283</td>\n",
       "      <td>27590.0</td>\n",
       "      <td>25485.0</td>\n",
       "      <td>2353.0</td>\n",
       "      <td>248.0</td>\n",
       "      <td>0.084525</td>\n",
       "      <td>0.008909</td>\n",
       "    </tr>\n",
       "    <tr>\n",
       "      <th>BaggingClassifier</th>\n",
       "      <td>0.952385</td>\n",
       "      <td>27551.0</td>\n",
       "      <td>25474.0</td>\n",
       "      <td>2364.0</td>\n",
       "      <td>287.0</td>\n",
       "      <td>0.084920</td>\n",
       "      <td>0.010310</td>\n",
       "    </tr>\n",
       "    <tr>\n",
       "      <th>Neural Network-1</th>\n",
       "      <td>0.935268</td>\n",
       "      <td>27577.0</td>\n",
       "      <td>24495.0</td>\n",
       "      <td>3343.0</td>\n",
       "      <td>261.0</td>\n",
       "      <td>0.120088</td>\n",
       "      <td>0.009376</td>\n",
       "    </tr>\n",
       "  </tbody>\n",
       "</table>\n",
       "</div>"
      ],
      "text/plain": [
       "                            accuracy       TP       TN      FP       FN  \\\n",
       "index                                                                     \n",
       "KNeighborsClassifier        0.602737   6490.0  27068.0   770.0  21348.0   \n",
       "LogisticRegression          0.888156  26869.0  22580.0  5258.0    969.0   \n",
       "RandomForestClassifier      0.952637  27562.0  25477.0  2361.0    276.0   \n",
       "AdaBoostClassifier          0.908201  26537.0  24028.0  3810.0   1301.0   \n",
       "GradientBoostingClassifier  0.925372  26858.0  24663.0  3175.0    980.0   \n",
       "ExtraTreeClassifier         0.953283  27590.0  25485.0  2353.0    248.0   \n",
       "BaggingClassifier           0.952385  27551.0  25474.0  2364.0    287.0   \n",
       "Neural Network-1            0.935268  27577.0  24495.0  3343.0    261.0   \n",
       "\n",
       "                                 FPR       FNR  \n",
       "index                                           \n",
       "KNeighborsClassifier        0.027660  0.766865  \n",
       "LogisticRegression          0.188879  0.034809  \n",
       "RandomForestClassifier      0.084812  0.009915  \n",
       "AdaBoostClassifier          0.136863  0.046735  \n",
       "GradientBoostingClassifier  0.114053  0.035204  \n",
       "ExtraTreeClassifier         0.084525  0.008909  \n",
       "BaggingClassifier           0.084920  0.010310  \n",
       "Neural Network-1            0.120088  0.009376  "
      ]
     },
     "metadata": {},
     "output_type": "display_data"
    },
    {
     "name": "stdout",
     "output_type": "stream",
     "text": [
      "Test Results\n"
     ]
    },
    {
     "data": {
      "text/html": [
       "<div>\n",
       "<style scoped>\n",
       "    .dataframe tbody tr th:only-of-type {\n",
       "        vertical-align: middle;\n",
       "    }\n",
       "\n",
       "    .dataframe tbody tr th {\n",
       "        vertical-align: top;\n",
       "    }\n",
       "\n",
       "    .dataframe thead th {\n",
       "        text-align: right;\n",
       "    }\n",
       "</style>\n",
       "<table border=\"1\" class=\"dataframe\">\n",
       "  <thead>\n",
       "    <tr style=\"text-align: right;\">\n",
       "      <th></th>\n",
       "      <th>accuracy</th>\n",
       "      <th>TP</th>\n",
       "      <th>TN</th>\n",
       "      <th>FP</th>\n",
       "      <th>FN</th>\n",
       "      <th>FPR</th>\n",
       "      <th>FNR</th>\n",
       "      <th>auc</th>\n",
       "      <th>mcc</th>\n",
       "    </tr>\n",
       "    <tr>\n",
       "      <th>index</th>\n",
       "      <th></th>\n",
       "      <th></th>\n",
       "      <th></th>\n",
       "      <th></th>\n",
       "      <th></th>\n",
       "      <th></th>\n",
       "      <th></th>\n",
       "      <th></th>\n",
       "      <th></th>\n",
       "    </tr>\n",
       "  </thead>\n",
       "  <tbody>\n",
       "    <tr>\n",
       "      <th>KNeighborsClassifier</th>\n",
       "      <td>0.841931</td>\n",
       "      <td>209.0</td>\n",
       "      <td>6646.0</td>\n",
       "      <td>294.0</td>\n",
       "      <td>993.0</td>\n",
       "      <td>0.042363</td>\n",
       "      <td>0.826123</td>\n",
       "      <td>0.565757</td>\n",
       "      <td>0.193776</td>\n",
       "    </tr>\n",
       "    <tr>\n",
       "      <th>LogisticRegression</th>\n",
       "      <td>0.833579</td>\n",
       "      <td>1145.0</td>\n",
       "      <td>5642.0</td>\n",
       "      <td>1298.0</td>\n",
       "      <td>57.0</td>\n",
       "      <td>0.187032</td>\n",
       "      <td>0.047421</td>\n",
       "      <td>0.882774</td>\n",
       "      <td>0.592574</td>\n",
       "    </tr>\n",
       "    <tr>\n",
       "      <th>RandomForestClassifier</th>\n",
       "      <td>0.909973</td>\n",
       "      <td>1095.0</td>\n",
       "      <td>6314.0</td>\n",
       "      <td>626.0</td>\n",
       "      <td>107.0</td>\n",
       "      <td>0.090202</td>\n",
       "      <td>0.089018</td>\n",
       "      <td>0.910390</td>\n",
       "      <td>0.713127</td>\n",
       "    </tr>\n",
       "    <tr>\n",
       "      <th>AdaBoostClassifier</th>\n",
       "      <td>0.876075</td>\n",
       "      <td>1121.0</td>\n",
       "      <td>6012.0</td>\n",
       "      <td>928.0</td>\n",
       "      <td>81.0</td>\n",
       "      <td>0.133718</td>\n",
       "      <td>0.067388</td>\n",
       "      <td>0.899447</td>\n",
       "      <td>0.653033</td>\n",
       "    </tr>\n",
       "    <tr>\n",
       "      <th>GradientBoostingClassifier</th>\n",
       "      <td>0.893515</td>\n",
       "      <td>1106.0</td>\n",
       "      <td>6169.0</td>\n",
       "      <td>771.0</td>\n",
       "      <td>96.0</td>\n",
       "      <td>0.111095</td>\n",
       "      <td>0.079867</td>\n",
       "      <td>0.904519</td>\n",
       "      <td>0.681410</td>\n",
       "    </tr>\n",
       "    <tr>\n",
       "      <th>ExtraTreeClassifier</th>\n",
       "      <td>0.908745</td>\n",
       "      <td>1087.0</td>\n",
       "      <td>6312.0</td>\n",
       "      <td>628.0</td>\n",
       "      <td>115.0</td>\n",
       "      <td>0.090490</td>\n",
       "      <td>0.095674</td>\n",
       "      <td>0.906918</td>\n",
       "      <td>0.707999</td>\n",
       "    </tr>\n",
       "    <tr>\n",
       "      <th>BaggingClassifier</th>\n",
       "      <td>0.906902</td>\n",
       "      <td>1096.0</td>\n",
       "      <td>6288.0</td>\n",
       "      <td>652.0</td>\n",
       "      <td>106.0</td>\n",
       "      <td>0.093948</td>\n",
       "      <td>0.088186</td>\n",
       "      <td>0.908933</td>\n",
       "      <td>0.706573</td>\n",
       "    </tr>\n",
       "    <tr>\n",
       "      <th>Neural Network-1</th>\n",
       "      <td>0.882461</td>\n",
       "      <td>1126.0</td>\n",
       "      <td>6059.0</td>\n",
       "      <td>881.0</td>\n",
       "      <td>76.0</td>\n",
       "      <td>0.126945</td>\n",
       "      <td>0.063228</td>\n",
       "      <td>0.904913</td>\n",
       "      <td>0.666566</td>\n",
       "    </tr>\n",
       "  </tbody>\n",
       "</table>\n",
       "</div>"
      ],
      "text/plain": [
       "                            accuracy      TP      TN      FP     FN       FPR  \\\n",
       "index                                                                           \n",
       "KNeighborsClassifier        0.841931   209.0  6646.0   294.0  993.0  0.042363   \n",
       "LogisticRegression          0.833579  1145.0  5642.0  1298.0   57.0  0.187032   \n",
       "RandomForestClassifier      0.909973  1095.0  6314.0   626.0  107.0  0.090202   \n",
       "AdaBoostClassifier          0.876075  1121.0  6012.0   928.0   81.0  0.133718   \n",
       "GradientBoostingClassifier  0.893515  1106.0  6169.0   771.0   96.0  0.111095   \n",
       "ExtraTreeClassifier         0.908745  1087.0  6312.0   628.0  115.0  0.090490   \n",
       "BaggingClassifier           0.906902  1096.0  6288.0   652.0  106.0  0.093948   \n",
       "Neural Network-1            0.882461  1126.0  6059.0   881.0   76.0  0.126945   \n",
       "\n",
       "                                 FNR       auc       mcc  \n",
       "index                                                     \n",
       "KNeighborsClassifier        0.826123  0.565757  0.193776  \n",
       "LogisticRegression          0.047421  0.882774  0.592574  \n",
       "RandomForestClassifier      0.089018  0.910390  0.713127  \n",
       "AdaBoostClassifier          0.067388  0.899447  0.653033  \n",
       "GradientBoostingClassifier  0.079867  0.904519  0.681410  \n",
       "ExtraTreeClassifier         0.095674  0.906918  0.707999  \n",
       "BaggingClassifier           0.088186  0.908933  0.706573  \n",
       "Neural Network-1            0.063228  0.904913  0.666566  "
      ]
     },
     "metadata": {},
     "output_type": "display_data"
    }
   ],
   "source": [
    "table_80_80_train['index']=ind_columns\n",
    "table_80_80_test['index']=ind_columns\n",
    "\n",
    "\n",
    "table_80_80_test.set_index(['index'],drop=True,inplace=True)\n",
    "table_80_80_train.set_index(['index'],drop=True,inplace=True)\n",
    "\n",
    "print(\"Training Results\")\n",
    "display(table_80_80_train)\n",
    "print(\"Test Results\")\n",
    "display(table_80_80_test)"
   ]
  },
  {
   "cell_type": "markdown",
   "metadata": {},
   "source": [
    "### <a id='2.B' style=\"text-decoration : none; color : #000000;\"> B. Average Feature Importances</a>"
   ]
  },
  {
   "cell_type": "code",
   "execution_count": 26,
   "metadata": {},
   "outputs": [
    {
     "data": {
      "application/vnd.plotly.v1+json": {
       "config": {
        "linkText": "Export to plot.ly",
        "plotlyServerURL": "https://plot.ly",
        "showLink": true
       },
       "data": [
        {
         "marker": {
          "color": "rgb(158,202,225)",
          "line": {
           "color": "rgb(8,48,107)",
           "width": 1.5
          }
         },
         "opacity": 0.6,
         "orientation": "h",
         "text": [
          0.2705,
          0.119,
          0.0943,
          0.0627,
          0.0601,
          0.0471,
          0.045,
          0.0403,
          0.0327,
          0.0271,
          0.0224,
          0.0205,
          0.0186,
          0.0141,
          0.0132,
          0.0131,
          0.0129,
          0.0123,
          0.012,
          0.011,
          0.0107,
          0.0103,
          0.0085,
          0.0078,
          0.0071,
          0.0066
         ],
         "textposition": "outside",
         "type": "bar",
         "uid": "38e67f46-f1eb-4605-9752-2cbff190674c",
         "x": [
          0.27047856159288997,
          0.11897098909891982,
          0.09425192455378288,
          0.06267746383506995,
          0.060146022661431126,
          0.04707726814166666,
          0.04496892491639607,
          0.04034901989213831,
          0.03274529112546372,
          0.027065619179164484,
          0.022360674987338104,
          0.020539931819384172,
          0.01862587903886565,
          0.01410413477244821,
          0.013240388811533799,
          0.013146798333965301,
          0.012916313988339949,
          0.012344483810447011,
          0.011975397407737575,
          0.010956329330169158,
          0.010734570004550472,
          0.010272280790695804,
          0.008509012607711407,
          0.007808191457404313,
          0.007133920949399592,
          0.006600606893086493
         ],
         "y": [
          "total_count",
          "total_href",
          "link_href_out_of_domain",
          "push",
          "p_count",
          "meta_count",
          "script_async_true",
          "a_href_https",
          "link_type_text/css",
          "iframe_src_https",
          "link_href_http",
          "link_href_.css",
          "a_href_.com",
          "script_src_out_of_domain",
          "strong_count",
          "center_count",
          "document.write",
          "replace",
          "form_action_http",
          "window.addEventListener",
          "get",
          "link_type_application/rsd+xml",
          "link_rel_shortlink",
          "find",
          "indexOf",
          "window.setTimeout"
         ]
        }
       ],
       "layout": {
        "autosize": false,
        "height": 1000,
        "width": 1000,
        "xaxis": {
         "tickfont": {
          "color": "black",
          "size": 12
         },
         "title": "Feature Importances"
        },
        "yaxis": {
         "automargin": true
        }
       }
      },
      "text/html": [
       "<div id=\"06218419-234a-4d7f-ace4-146d61a51348\" style=\"height: 1000px; width: 1000px;\" class=\"plotly-graph-div\"></div><script type=\"text/javascript\">require([\"plotly\"], function(Plotly) { window.PLOTLYENV=window.PLOTLYENV || {};window.PLOTLYENV.BASE_URL=\"https://plot.ly\";Plotly.newPlot(\"06218419-234a-4d7f-ace4-146d61a51348\", [{\"marker\": {\"color\": \"rgb(158,202,225)\", \"line\": {\"color\": \"rgb(8,48,107)\", \"width\": 1.5}}, \"opacity\": 0.6, \"orientation\": \"h\", \"text\": [0.2705, 0.119, 0.0943, 0.0627, 0.0601, 0.0471, 0.045, 0.0403, 0.0327, 0.0271, 0.0224, 0.0205, 0.0186, 0.0141, 0.0132, 0.0131, 0.0129, 0.0123, 0.012, 0.011, 0.0107, 0.0103, 0.0085, 0.0078, 0.0071, 0.0066], \"textposition\": \"outside\", \"x\": [0.27047856159288997, 0.11897098909891982, 0.09425192455378288, 0.06267746383506995, 0.060146022661431126, 0.04707726814166666, 0.04496892491639607, 0.04034901989213831, 0.03274529112546372, 0.027065619179164484, 0.022360674987338104, 0.020539931819384172, 0.01862587903886565, 0.01410413477244821, 0.013240388811533799, 0.013146798333965301, 0.012916313988339949, 0.012344483810447011, 0.011975397407737575, 0.010956329330169158, 0.010734570004550472, 0.010272280790695804, 0.008509012607711407, 0.007808191457404313, 0.007133920949399592, 0.006600606893086493], \"y\": [\"total_count\", \"total_href\", \"link_href_out_of_domain\", \"push\", \"p_count\", \"meta_count\", \"script_async_true\", \"a_href_https\", \"link_type_text/css\", \"iframe_src_https\", \"link_href_http\", \"link_href_.css\", \"a_href_.com\", \"script_src_out_of_domain\", \"strong_count\", \"center_count\", \"document.write\", \"replace\", \"form_action_http\", \"window.addEventListener\", \"get\", \"link_type_application/rsd+xml\", \"link_rel_shortlink\", \"find\", \"indexOf\", \"window.setTimeout\"], \"type\": \"bar\", \"uid\": \"38e67f46-f1eb-4605-9752-2cbff190674c\"}], {\"autosize\": false, \"height\": 1000, \"width\": 1000, \"xaxis\": {\"tickfont\": {\"color\": \"black\", \"size\": 12}, \"title\": \"Feature Importances\"}, \"yaxis\": {\"automargin\": true}}, {\"showLink\": true, \"linkText\": \"Export to plot.ly\", \"plotlyServerURL\": \"https://plot.ly\"})});</script>"
      ],
      "text/vnd.plotly.v1+html": [
       "<div id=\"06218419-234a-4d7f-ace4-146d61a51348\" style=\"height: 1000px; width: 1000px;\" class=\"plotly-graph-div\"></div><script type=\"text/javascript\">require([\"plotly\"], function(Plotly) { window.PLOTLYENV=window.PLOTLYENV || {};window.PLOTLYENV.BASE_URL=\"https://plot.ly\";Plotly.newPlot(\"06218419-234a-4d7f-ace4-146d61a51348\", [{\"marker\": {\"color\": \"rgb(158,202,225)\", \"line\": {\"color\": \"rgb(8,48,107)\", \"width\": 1.5}}, \"opacity\": 0.6, \"orientation\": \"h\", \"text\": [0.2705, 0.119, 0.0943, 0.0627, 0.0601, 0.0471, 0.045, 0.0403, 0.0327, 0.0271, 0.0224, 0.0205, 0.0186, 0.0141, 0.0132, 0.0131, 0.0129, 0.0123, 0.012, 0.011, 0.0107, 0.0103, 0.0085, 0.0078, 0.0071, 0.0066], \"textposition\": \"outside\", \"x\": [0.27047856159288997, 0.11897098909891982, 0.09425192455378288, 0.06267746383506995, 0.060146022661431126, 0.04707726814166666, 0.04496892491639607, 0.04034901989213831, 0.03274529112546372, 0.027065619179164484, 0.022360674987338104, 0.020539931819384172, 0.01862587903886565, 0.01410413477244821, 0.013240388811533799, 0.013146798333965301, 0.012916313988339949, 0.012344483810447011, 0.011975397407737575, 0.010956329330169158, 0.010734570004550472, 0.010272280790695804, 0.008509012607711407, 0.007808191457404313, 0.007133920949399592, 0.006600606893086493], \"y\": [\"total_count\", \"total_href\", \"link_href_out_of_domain\", \"push\", \"p_count\", \"meta_count\", \"script_async_true\", \"a_href_https\", \"link_type_text/css\", \"iframe_src_https\", \"link_href_http\", \"link_href_.css\", \"a_href_.com\", \"script_src_out_of_domain\", \"strong_count\", \"center_count\", \"document.write\", \"replace\", \"form_action_http\", \"window.addEventListener\", \"get\", \"link_type_application/rsd+xml\", \"link_rel_shortlink\", \"find\", \"indexOf\", \"window.setTimeout\"], \"type\": \"bar\", \"uid\": \"38e67f46-f1eb-4605-9752-2cbff190674c\"}], {\"autosize\": false, \"height\": 1000, \"width\": 1000, \"xaxis\": {\"tickfont\": {\"color\": \"black\", \"size\": 12}, \"title\": \"Feature Importances\"}, \"yaxis\": {\"automargin\": true}}, {\"showLink\": true, \"linkText\": \"Export to plot.ly\", \"plotlyServerURL\": \"https://plot.ly\"})});</script>"
      ]
     },
     "metadata": {},
     "output_type": "display_data"
    }
   ],
   "source": [
    "feat_impt_plot(np.average(feat_imp,axis=0),columns)"
   ]
  },
  {
   "cell_type": "markdown",
   "metadata": {},
   "source": [
    "### <a id='3' style=\"text-decoration : none; color : #000000;\"> 3. Undersampling</a>"
   ]
  },
  {
   "cell_type": "code",
   "execution_count": 27,
   "metadata": {},
   "outputs": [
    {
     "data": {
      "text/plain": [
       "1    4729\n",
       "0    4729\n",
       "Name: Target, dtype: int64"
      ]
     },
     "execution_count": 27,
     "metadata": {},
     "output_type": "execute_result"
    }
   ],
   "source": [
    "df_non=train[train.Target==0]\n",
    "df_mal=train[train.Target==1]\n",
    "\n",
    "df_non=df_non.sample(frac=len(df_mal)/len(df_non),random_state=0)\n",
    "df_u=df_non.append(df_mal)\n",
    "df_u.Target.value_counts() "
   ]
  },
  {
   "cell_type": "code",
   "execution_count": 28,
   "metadata": {},
   "outputs": [],
   "source": [
    "X_train=df_u[columns]\n",
    "X_train=scaler.transform(X_train)\n",
    "Y_train=df_u.Target.values"
   ]
  },
  {
   "cell_type": "code",
   "execution_count": 29,
   "metadata": {
    "scrolled": false
   },
   "outputs": [
    {
     "name": "stdout",
     "output_type": "stream",
     "text": [
      "Shape after undersampling (9458, 26)\n",
      "\u001b[1mK-Nearest Neighbors\u001b[0m\n",
      "Accuracy of the model for training data is: 0.5759145696764644\n",
      "Confusion Matrix for training data is:\n"
     ]
    },
    {
     "data": {
      "text/plain": [
       "Predicted  False  True  __all__\n",
       "Actual                         \n",
       "False       4575   154     4729\n",
       "True        3857   872     4729\n",
       "__all__     8432  1026     9458"
      ]
     },
     "metadata": {},
     "output_type": "display_data"
    },
    {
     "name": "stdout",
     "output_type": "stream",
     "text": [
      "Accuracy of the model for test data is: 0.8424220093343159\n",
      "Confusion Matrix for test data is:\n"
     ]
    },
    {
     "data": {
      "text/plain": [
       "Predicted  False  True  __all__\n",
       "Actual                         \n",
       "False       6664   276     6940\n",
       "True        1007   195     1202\n",
       "__all__     7671   471     8142"
      ]
     },
     "metadata": {},
     "output_type": "display_data"
    },
    {
     "name": "stdout",
     "output_type": "stream",
     "text": [
      "\n",
      "\n",
      "\u001b[1mLogistic Regression\u001b[0m\n",
      "Accuracy of the model for training data is: 0.881898921547896\n",
      "Confusion Matrix for training data is:\n"
     ]
    },
    {
     "data": {
      "text/plain": [
       "Predicted  False  True  __all__\n",
       "Actual                         \n",
       "False       3794   935     4729\n",
       "True         182  4547     4729\n",
       "__all__     3976  5482     9458"
      ]
     },
     "metadata": {},
     "output_type": "display_data"
    },
    {
     "name": "stdout",
     "output_type": "stream",
     "text": [
      "Accuracy of the model for test data is: 0.8271923360353721\n",
      "Confusion Matrix for test data is:\n"
     ]
    },
    {
     "data": {
      "text/plain": [
       "Predicted  False  True  __all__\n",
       "Actual                         \n",
       "False       5591  1349     6940\n",
       "True          58  1144     1202\n",
       "__all__     5649  2493     8142"
      ]
     },
     "metadata": {},
     "output_type": "display_data"
    },
    {
     "name": "stdout",
     "output_type": "stream",
     "text": [
      "\n",
      "\n",
      "\u001b[1mRandomForest Classifier\u001b[0m\n",
      "Accuracy of the model for training data is: 0.9482977373651935\n",
      "Confusion Matrix for training data is:\n"
     ]
    },
    {
     "data": {
      "text/plain": [
       "Predicted  False  True  __all__\n",
       "Actual                         \n",
       "False       4329   400     4729\n",
       "True          89  4640     4729\n",
       "__all__     4418  5040     9458"
      ]
     },
     "metadata": {},
     "output_type": "display_data"
    },
    {
     "name": "stdout",
     "output_type": "stream",
     "text": [
      "Accuracy of the model for test data is: 0.8989191844755589\n",
      "Confusion Matrix for test data is:\n"
     ]
    },
    {
     "data": {
      "text/plain": [
       "Predicted  False  True  __all__\n",
       "Actual                         \n",
       "False       6213   727     6940\n",
       "True          96  1106     1202\n",
       "__all__     6309  1833     8142"
      ]
     },
     "metadata": {},
     "output_type": "display_data"
    },
    {
     "data": {
      "application/vnd.plotly.v1+json": {
       "config": {
        "linkText": "Export to plot.ly",
        "plotlyServerURL": "https://plot.ly",
        "showLink": true
       },
       "data": [
        {
         "marker": {
          "color": "rgb(158,202,225)",
          "line": {
           "color": "rgb(8,48,107)",
           "width": 1.5
          }
         },
         "opacity": 0.6,
         "orientation": "h",
         "text": [
          0.2607,
          0.1565,
          0.1336,
          0.11,
          0.0842,
          0.0756,
          0.0292,
          0.0275,
          0.0192,
          0.0155,
          0.0124,
          0.0099,
          0.0097,
          0.008,
          0.0076,
          0.0056,
          0.0056,
          0.0045,
          0.0043,
          0.0039,
          0.0037,
          0.0036,
          0.0028,
          0.0026,
          0.0022,
          0.0016
         ],
         "textposition": "outside",
         "type": "bar",
         "uid": "a27526e7-bd59-41b0-b48f-2ff9ea04a270",
         "x": [
          0.26070308459925184,
          0.15654974936326146,
          0.13362381928360115,
          0.10997035881018312,
          0.08419025516145581,
          0.07559690506516702,
          0.029176780971984465,
          0.027485184895460903,
          0.019153894726742306,
          0.015531034730293172,
          0.012449745426830151,
          0.009897237364543104,
          0.009657565728967617,
          0.008045745173712402,
          0.007592038405152282,
          0.005604037423569237,
          0.005598248006508751,
          0.004472790594914791,
          0.0042778797437116965,
          0.0038739555614430684,
          0.003693080160080745,
          0.0036055124723380124,
          0.0027834010207600647,
          0.0026107464129267936,
          0.002234186746853212,
          0.0016227621502869394
         ],
         "y": [
          "total_href",
          "link_href_out_of_domain",
          "total_count",
          "p_count",
          "a_href_https",
          "script_src_out_of_domain",
          "script_async_true",
          "meta_count",
          "push",
          "link_type_text/css",
          "link_href_http",
          "link_href_.css",
          "form_action_http",
          "strong_count",
          "indexOf",
          "iframe_src_https",
          "document.write",
          "a_href_.com",
          "replace",
          "center_count",
          "get",
          "link_rel_shortlink",
          "link_type_application/rsd+xml",
          "window.setTimeout",
          "find",
          "window.addEventListener"
         ]
        }
       ],
       "layout": {
        "autosize": false,
        "height": 1000,
        "width": 1000,
        "xaxis": {
         "tickfont": {
          "color": "black",
          "size": 12
         },
         "title": "Feature Importances"
        },
        "yaxis": {
         "automargin": true
        }
       }
      },
      "text/html": [
       "<div id=\"e85e9efe-7072-40bf-93b2-3176e2d5a9d1\" style=\"height: 1000px; width: 1000px;\" class=\"plotly-graph-div\"></div><script type=\"text/javascript\">require([\"plotly\"], function(Plotly) { window.PLOTLYENV=window.PLOTLYENV || {};window.PLOTLYENV.BASE_URL=\"https://plot.ly\";Plotly.newPlot(\"e85e9efe-7072-40bf-93b2-3176e2d5a9d1\", [{\"marker\": {\"color\": \"rgb(158,202,225)\", \"line\": {\"color\": \"rgb(8,48,107)\", \"width\": 1.5}}, \"opacity\": 0.6, \"orientation\": \"h\", \"text\": [0.2607, 0.1565, 0.1336, 0.11, 0.0842, 0.0756, 0.0292, 0.0275, 0.0192, 0.0155, 0.0124, 0.0099, 0.0097, 0.008, 0.0076, 0.0056, 0.0056, 0.0045, 0.0043, 0.0039, 0.0037, 0.0036, 0.0028, 0.0026, 0.0022, 0.0016], \"textposition\": \"outside\", \"x\": [0.26070308459925184, 0.15654974936326146, 0.13362381928360115, 0.10997035881018312, 0.08419025516145581, 0.07559690506516702, 0.029176780971984465, 0.027485184895460903, 0.019153894726742306, 0.015531034730293172, 0.012449745426830151, 0.009897237364543104, 0.009657565728967617, 0.008045745173712402, 0.007592038405152282, 0.005604037423569237, 0.005598248006508751, 0.004472790594914791, 0.0042778797437116965, 0.0038739555614430684, 0.003693080160080745, 0.0036055124723380124, 0.0027834010207600647, 0.0026107464129267936, 0.002234186746853212, 0.0016227621502869394], \"y\": [\"total_href\", \"link_href_out_of_domain\", \"total_count\", \"p_count\", \"a_href_https\", \"script_src_out_of_domain\", \"script_async_true\", \"meta_count\", \"push\", \"link_type_text/css\", \"link_href_http\", \"link_href_.css\", \"form_action_http\", \"strong_count\", \"indexOf\", \"iframe_src_https\", \"document.write\", \"a_href_.com\", \"replace\", \"center_count\", \"get\", \"link_rel_shortlink\", \"link_type_application/rsd+xml\", \"window.setTimeout\", \"find\", \"window.addEventListener\"], \"type\": \"bar\", \"uid\": \"a27526e7-bd59-41b0-b48f-2ff9ea04a270\"}], {\"autosize\": false, \"height\": 1000, \"width\": 1000, \"xaxis\": {\"tickfont\": {\"color\": \"black\", \"size\": 12}, \"title\": \"Feature Importances\"}, \"yaxis\": {\"automargin\": true}}, {\"showLink\": true, \"linkText\": \"Export to plot.ly\", \"plotlyServerURL\": \"https://plot.ly\"})});</script>"
      ],
      "text/vnd.plotly.v1+html": [
       "<div id=\"e85e9efe-7072-40bf-93b2-3176e2d5a9d1\" style=\"height: 1000px; width: 1000px;\" class=\"plotly-graph-div\"></div><script type=\"text/javascript\">require([\"plotly\"], function(Plotly) { window.PLOTLYENV=window.PLOTLYENV || {};window.PLOTLYENV.BASE_URL=\"https://plot.ly\";Plotly.newPlot(\"e85e9efe-7072-40bf-93b2-3176e2d5a9d1\", [{\"marker\": {\"color\": \"rgb(158,202,225)\", \"line\": {\"color\": \"rgb(8,48,107)\", \"width\": 1.5}}, \"opacity\": 0.6, \"orientation\": \"h\", \"text\": [0.2607, 0.1565, 0.1336, 0.11, 0.0842, 0.0756, 0.0292, 0.0275, 0.0192, 0.0155, 0.0124, 0.0099, 0.0097, 0.008, 0.0076, 0.0056, 0.0056, 0.0045, 0.0043, 0.0039, 0.0037, 0.0036, 0.0028, 0.0026, 0.0022, 0.0016], \"textposition\": \"outside\", \"x\": [0.26070308459925184, 0.15654974936326146, 0.13362381928360115, 0.10997035881018312, 0.08419025516145581, 0.07559690506516702, 0.029176780971984465, 0.027485184895460903, 0.019153894726742306, 0.015531034730293172, 0.012449745426830151, 0.009897237364543104, 0.009657565728967617, 0.008045745173712402, 0.007592038405152282, 0.005604037423569237, 0.005598248006508751, 0.004472790594914791, 0.0042778797437116965, 0.0038739555614430684, 0.003693080160080745, 0.0036055124723380124, 0.0027834010207600647, 0.0026107464129267936, 0.002234186746853212, 0.0016227621502869394], \"y\": [\"total_href\", \"link_href_out_of_domain\", \"total_count\", \"p_count\", \"a_href_https\", \"script_src_out_of_domain\", \"script_async_true\", \"meta_count\", \"push\", \"link_type_text/css\", \"link_href_http\", \"link_href_.css\", \"form_action_http\", \"strong_count\", \"indexOf\", \"iframe_src_https\", \"document.write\", \"a_href_.com\", \"replace\", \"center_count\", \"get\", \"link_rel_shortlink\", \"link_type_application/rsd+xml\", \"window.setTimeout\", \"find\", \"window.addEventListener\"], \"type\": \"bar\", \"uid\": \"a27526e7-bd59-41b0-b48f-2ff9ea04a270\"}], {\"autosize\": false, \"height\": 1000, \"width\": 1000, \"xaxis\": {\"tickfont\": {\"color\": \"black\", \"size\": 12}, \"title\": \"Feature Importances\"}, \"yaxis\": {\"automargin\": true}}, {\"showLink\": true, \"linkText\": \"Export to plot.ly\", \"plotlyServerURL\": \"https://plot.ly\"})});</script>"
      ]
     },
     "metadata": {},
     "output_type": "display_data"
    },
    {
     "name": "stdout",
     "output_type": "stream",
     "text": [
      "\n",
      "\n",
      "\u001b[1mAdaoost Classifier\u001b[0m\n",
      "Accuracy of the model for training data is: 0.8954324381475999\n",
      "Confusion Matrix for training data is:\n"
     ]
    },
    {
     "data": {
      "text/plain": [
       "Predicted  False  True  __all__\n",
       "Actual                         \n",
       "False       4000   729     4729\n",
       "True         260  4469     4729\n",
       "__all__     4260  5198     9458"
      ]
     },
     "metadata": {},
     "output_type": "display_data"
    },
    {
     "name": "stdout",
     "output_type": "stream",
     "text": [
      "Accuracy of the model for test data is: 0.8635470400393024\n",
      "Confusion Matrix for test data is:\n"
     ]
    },
    {
     "data": {
      "text/plain": [
       "Predicted  False  True  __all__\n",
       "Actual                         \n",
       "False       5896  1044     6940\n",
       "True          67  1135     1202\n",
       "__all__     5963  2179     8142"
      ]
     },
     "metadata": {},
     "output_type": "display_data"
    },
    {
     "data": {
      "application/vnd.plotly.v1+json": {
       "config": {
        "linkText": "Export to plot.ly",
        "plotlyServerURL": "https://plot.ly",
        "showLink": true
       },
       "data": [
        {
         "marker": {
          "color": "rgb(158,202,225)",
          "line": {
           "color": "rgb(8,48,107)",
           "width": 1.5
          }
         },
         "opacity": 0.6,
         "orientation": "h",
         "text": [
          0.24,
          0.08,
          0.08,
          0.06,
          0.06,
          0.06,
          0.04,
          0.04,
          0.04,
          0.04,
          0.02,
          0.02,
          0.02,
          0.02,
          0.02,
          0.02,
          0.02,
          0.02,
          0.02,
          0.02,
          0.02,
          0.02,
          0.02,
          0,
          0,
          0
         ],
         "textposition": "outside",
         "type": "bar",
         "uid": "565c67f6-73aa-4304-b593-7d997829a549",
         "x": [
          0.24,
          0.08,
          0.08,
          0.06,
          0.06,
          0.06,
          0.04,
          0.04,
          0.04,
          0.04,
          0.02,
          0.02,
          0.02,
          0.02,
          0.02,
          0.02,
          0.02,
          0.02,
          0.02,
          0.02,
          0.02,
          0.02,
          0.02,
          0,
          0,
          0
         ],
         "y": [
          "total_count",
          "link_href_http",
          "p_count",
          "total_href",
          "push",
          "link_href_out_of_domain",
          "window.setTimeout",
          "script_src_out_of_domain",
          "script_async_true",
          "link_type_text/css",
          "strong_count",
          "meta_count",
          "link_type_application/rsd+xml",
          "link_rel_shortlink",
          "document.write",
          "window.addEventListener",
          "form_action_http",
          "center_count",
          "a_href_https",
          "a_href_.com",
          "replace",
          "indexOf",
          "link_href_.css",
          "iframe_src_https",
          "get",
          "find"
         ]
        }
       ],
       "layout": {
        "autosize": false,
        "height": 1000,
        "width": 1000,
        "xaxis": {
         "tickfont": {
          "color": "black",
          "size": 12
         },
         "title": "Feature Importances"
        },
        "yaxis": {
         "automargin": true
        }
       }
      },
      "text/html": [
       "<div id=\"d916952f-767b-41c4-8f9f-4d625e02dd61\" style=\"height: 1000px; width: 1000px;\" class=\"plotly-graph-div\"></div><script type=\"text/javascript\">require([\"plotly\"], function(Plotly) { window.PLOTLYENV=window.PLOTLYENV || {};window.PLOTLYENV.BASE_URL=\"https://plot.ly\";Plotly.newPlot(\"d916952f-767b-41c4-8f9f-4d625e02dd61\", [{\"marker\": {\"color\": \"rgb(158,202,225)\", \"line\": {\"color\": \"rgb(8,48,107)\", \"width\": 1.5}}, \"opacity\": 0.6, \"orientation\": \"h\", \"text\": [0.24, 0.08, 0.08, 0.06, 0.06, 0.06, 0.04, 0.04, 0.04, 0.04, 0.02, 0.02, 0.02, 0.02, 0.02, 0.02, 0.02, 0.02, 0.02, 0.02, 0.02, 0.02, 0.02, 0.0, 0.0, 0.0], \"textposition\": \"outside\", \"x\": [0.24, 0.08, 0.08, 0.06, 0.06, 0.06, 0.04, 0.04, 0.04, 0.04, 0.02, 0.02, 0.02, 0.02, 0.02, 0.02, 0.02, 0.02, 0.02, 0.02, 0.02, 0.02, 0.02, 0.0, 0.0, 0.0], \"y\": [\"total_count\", \"link_href_http\", \"p_count\", \"total_href\", \"push\", \"link_href_out_of_domain\", \"window.setTimeout\", \"script_src_out_of_domain\", \"script_async_true\", \"link_type_text/css\", \"strong_count\", \"meta_count\", \"link_type_application/rsd+xml\", \"link_rel_shortlink\", \"document.write\", \"window.addEventListener\", \"form_action_http\", \"center_count\", \"a_href_https\", \"a_href_.com\", \"replace\", \"indexOf\", \"link_href_.css\", \"iframe_src_https\", \"get\", \"find\"], \"type\": \"bar\", \"uid\": \"565c67f6-73aa-4304-b593-7d997829a549\"}], {\"autosize\": false, \"height\": 1000, \"width\": 1000, \"xaxis\": {\"tickfont\": {\"color\": \"black\", \"size\": 12}, \"title\": \"Feature Importances\"}, \"yaxis\": {\"automargin\": true}}, {\"showLink\": true, \"linkText\": \"Export to plot.ly\", \"plotlyServerURL\": \"https://plot.ly\"})});</script>"
      ],
      "text/vnd.plotly.v1+html": [
       "<div id=\"d916952f-767b-41c4-8f9f-4d625e02dd61\" style=\"height: 1000px; width: 1000px;\" class=\"plotly-graph-div\"></div><script type=\"text/javascript\">require([\"plotly\"], function(Plotly) { window.PLOTLYENV=window.PLOTLYENV || {};window.PLOTLYENV.BASE_URL=\"https://plot.ly\";Plotly.newPlot(\"d916952f-767b-41c4-8f9f-4d625e02dd61\", [{\"marker\": {\"color\": \"rgb(158,202,225)\", \"line\": {\"color\": \"rgb(8,48,107)\", \"width\": 1.5}}, \"opacity\": 0.6, \"orientation\": \"h\", \"text\": [0.24, 0.08, 0.08, 0.06, 0.06, 0.06, 0.04, 0.04, 0.04, 0.04, 0.02, 0.02, 0.02, 0.02, 0.02, 0.02, 0.02, 0.02, 0.02, 0.02, 0.02, 0.02, 0.02, 0.0, 0.0, 0.0], \"textposition\": \"outside\", \"x\": [0.24, 0.08, 0.08, 0.06, 0.06, 0.06, 0.04, 0.04, 0.04, 0.04, 0.02, 0.02, 0.02, 0.02, 0.02, 0.02, 0.02, 0.02, 0.02, 0.02, 0.02, 0.02, 0.02, 0.0, 0.0, 0.0], \"y\": [\"total_count\", \"link_href_http\", \"p_count\", \"total_href\", \"push\", \"link_href_out_of_domain\", \"window.setTimeout\", \"script_src_out_of_domain\", \"script_async_true\", \"link_type_text/css\", \"strong_count\", \"meta_count\", \"link_type_application/rsd+xml\", \"link_rel_shortlink\", \"document.write\", \"window.addEventListener\", \"form_action_http\", \"center_count\", \"a_href_https\", \"a_href_.com\", \"replace\", \"indexOf\", \"link_href_.css\", \"iframe_src_https\", \"get\", \"find\"], \"type\": \"bar\", \"uid\": \"565c67f6-73aa-4304-b593-7d997829a549\"}], {\"autosize\": false, \"height\": 1000, \"width\": 1000, \"xaxis\": {\"tickfont\": {\"color\": \"black\", \"size\": 12}, \"title\": \"Feature Importances\"}, \"yaxis\": {\"automargin\": true}}, {\"showLink\": true, \"linkText\": \"Export to plot.ly\", \"plotlyServerURL\": \"https://plot.ly\"})});</script>"
      ]
     },
     "metadata": {},
     "output_type": "display_data"
    },
    {
     "name": "stdout",
     "output_type": "stream",
     "text": [
      "\n",
      "\n",
      "\u001b[1mGradientBoosting Classifier\u001b[0m\n",
      "Accuracy of the model for training data is: 0.911820680905054\n",
      "Confusion Matrix for training data is:\n"
     ]
    },
    {
     "data": {
      "text/plain": [
       "Predicted  False  True  __all__\n",
       "Actual                         \n",
       "False       4121   608     4729\n",
       "True         226  4503     4729\n",
       "__all__     4347  5111     9458"
      ]
     },
     "metadata": {},
     "output_type": "display_data"
    },
    {
     "name": "stdout",
     "output_type": "stream",
     "text": [
      "Accuracy of the model for test data is: 0.8784082535003684\n",
      "Confusion Matrix for test data is:\n"
     ]
    },
    {
     "data": {
      "text/plain": [
       "Predicted  False  True  __all__\n",
       "Actual                         \n",
       "False       6029   911     6940\n",
       "True          79  1123     1202\n",
       "__all__     6108  2034     8142"
      ]
     },
     "metadata": {},
     "output_type": "display_data"
    },
    {
     "data": {
      "application/vnd.plotly.v1+json": {
       "config": {
        "linkText": "Export to plot.ly",
        "plotlyServerURL": "https://plot.ly",
        "showLink": true
       },
       "data": [
        {
         "marker": {
          "color": "rgb(158,202,225)",
          "line": {
           "color": "rgb(8,48,107)",
           "width": 1.5
          }
         },
         "opacity": 0.6,
         "orientation": "h",
         "text": [
          0.4727,
          0.331,
          0.0611,
          0.0342,
          0.0178,
          0.0163,
          0.0122,
          0.0105,
          0.0056,
          0.0049,
          0.0049,
          0.0031,
          0.0028,
          0.0027,
          0.0027,
          0.0026,
          0.0024,
          0.0022,
          0.0021,
          0.0019,
          0.0015,
          0.0013,
          0.0012,
          0.0011,
          0.0007,
          0.0004
         ],
         "textposition": "outside",
         "type": "bar",
         "uid": "f178d824-e528-47f5-9051-982c20d81788",
         "x": [
          0.47274830632441966,
          0.3309819509837027,
          0.06110876085744485,
          0.0342111155862583,
          0.0177691811834531,
          0.016342291017660982,
          0.012165671476485318,
          0.010524032116121263,
          0.005627356215936739,
          0.0049242409822149716,
          0.004885068712271192,
          0.0030602564095173986,
          0.0028154232977546166,
          0.002722877771346022,
          0.002713992058449679,
          0.0026382111870589036,
          0.0024313905196361894,
          0.0022354745559461137,
          0.0020827188040751445,
          0.0018725871936229198,
          0.0015498855423176782,
          0.0012898489189311416,
          0.0011635631928154978,
          0.0011207261723534439,
          0.0006581877271915634,
          0.0003568811930146561
         ],
         "y": [
          "total_count",
          "total_href",
          "link_href_out_of_domain",
          "push",
          "meta_count",
          "script_async_true",
          "link_type_text/css",
          "a_href_https",
          "link_href_http",
          "p_count",
          "link_type_application/rsd+xml",
          "center_count",
          "script_src_out_of_domain",
          "link_href_.css",
          "strong_count",
          "link_rel_shortlink",
          "window.setTimeout",
          "a_href_.com",
          "indexOf",
          "form_action_http",
          "replace",
          "iframe_src_https",
          "get",
          "find",
          "window.addEventListener",
          "document.write"
         ]
        }
       ],
       "layout": {
        "autosize": false,
        "height": 1000,
        "width": 1000,
        "xaxis": {
         "tickfont": {
          "color": "black",
          "size": 12
         },
         "title": "Feature Importances"
        },
        "yaxis": {
         "automargin": true
        }
       }
      },
      "text/html": [
       "<div id=\"4ead2506-b039-43b3-8c94-be9785ebe156\" style=\"height: 1000px; width: 1000px;\" class=\"plotly-graph-div\"></div><script type=\"text/javascript\">require([\"plotly\"], function(Plotly) { window.PLOTLYENV=window.PLOTLYENV || {};window.PLOTLYENV.BASE_URL=\"https://plot.ly\";Plotly.newPlot(\"4ead2506-b039-43b3-8c94-be9785ebe156\", [{\"marker\": {\"color\": \"rgb(158,202,225)\", \"line\": {\"color\": \"rgb(8,48,107)\", \"width\": 1.5}}, \"opacity\": 0.6, \"orientation\": \"h\", \"text\": [0.4727, 0.331, 0.0611, 0.0342, 0.0178, 0.0163, 0.0122, 0.0105, 0.0056, 0.0049, 0.0049, 0.0031, 0.0028, 0.0027, 0.0027, 0.0026, 0.0024, 0.0022, 0.0021, 0.0019, 0.0015, 0.0013, 0.0012, 0.0011, 0.0007, 0.0004], \"textposition\": \"outside\", \"x\": [0.47274830632441966, 0.3309819509837027, 0.06110876085744485, 0.0342111155862583, 0.0177691811834531, 0.016342291017660982, 0.012165671476485318, 0.010524032116121263, 0.005627356215936739, 0.0049242409822149716, 0.004885068712271192, 0.0030602564095173986, 0.0028154232977546166, 0.002722877771346022, 0.002713992058449679, 0.0026382111870589036, 0.0024313905196361894, 0.0022354745559461137, 0.0020827188040751445, 0.0018725871936229198, 0.0015498855423176782, 0.0012898489189311416, 0.0011635631928154978, 0.0011207261723534439, 0.0006581877271915634, 0.0003568811930146561], \"y\": [\"total_count\", \"total_href\", \"link_href_out_of_domain\", \"push\", \"meta_count\", \"script_async_true\", \"link_type_text/css\", \"a_href_https\", \"link_href_http\", \"p_count\", \"link_type_application/rsd+xml\", \"center_count\", \"script_src_out_of_domain\", \"link_href_.css\", \"strong_count\", \"link_rel_shortlink\", \"window.setTimeout\", \"a_href_.com\", \"indexOf\", \"form_action_http\", \"replace\", \"iframe_src_https\", \"get\", \"find\", \"window.addEventListener\", \"document.write\"], \"type\": \"bar\", \"uid\": \"f178d824-e528-47f5-9051-982c20d81788\"}], {\"autosize\": false, \"height\": 1000, \"width\": 1000, \"xaxis\": {\"tickfont\": {\"color\": \"black\", \"size\": 12}, \"title\": \"Feature Importances\"}, \"yaxis\": {\"automargin\": true}}, {\"showLink\": true, \"linkText\": \"Export to plot.ly\", \"plotlyServerURL\": \"https://plot.ly\"})});</script>"
      ],
      "text/vnd.plotly.v1+html": [
       "<div id=\"4ead2506-b039-43b3-8c94-be9785ebe156\" style=\"height: 1000px; width: 1000px;\" class=\"plotly-graph-div\"></div><script type=\"text/javascript\">require([\"plotly\"], function(Plotly) { window.PLOTLYENV=window.PLOTLYENV || {};window.PLOTLYENV.BASE_URL=\"https://plot.ly\";Plotly.newPlot(\"4ead2506-b039-43b3-8c94-be9785ebe156\", [{\"marker\": {\"color\": \"rgb(158,202,225)\", \"line\": {\"color\": \"rgb(8,48,107)\", \"width\": 1.5}}, \"opacity\": 0.6, \"orientation\": \"h\", \"text\": [0.4727, 0.331, 0.0611, 0.0342, 0.0178, 0.0163, 0.0122, 0.0105, 0.0056, 0.0049, 0.0049, 0.0031, 0.0028, 0.0027, 0.0027, 0.0026, 0.0024, 0.0022, 0.0021, 0.0019, 0.0015, 0.0013, 0.0012, 0.0011, 0.0007, 0.0004], \"textposition\": \"outside\", \"x\": [0.47274830632441966, 0.3309819509837027, 0.06110876085744485, 0.0342111155862583, 0.0177691811834531, 0.016342291017660982, 0.012165671476485318, 0.010524032116121263, 0.005627356215936739, 0.0049242409822149716, 0.004885068712271192, 0.0030602564095173986, 0.0028154232977546166, 0.002722877771346022, 0.002713992058449679, 0.0026382111870589036, 0.0024313905196361894, 0.0022354745559461137, 0.0020827188040751445, 0.0018725871936229198, 0.0015498855423176782, 0.0012898489189311416, 0.0011635631928154978, 0.0011207261723534439, 0.0006581877271915634, 0.0003568811930146561], \"y\": [\"total_count\", \"total_href\", \"link_href_out_of_domain\", \"push\", \"meta_count\", \"script_async_true\", \"link_type_text/css\", \"a_href_https\", \"link_href_http\", \"p_count\", \"link_type_application/rsd+xml\", \"center_count\", \"script_src_out_of_domain\", \"link_href_.css\", \"strong_count\", \"link_rel_shortlink\", \"window.setTimeout\", \"a_href_.com\", \"indexOf\", \"form_action_http\", \"replace\", \"iframe_src_https\", \"get\", \"find\", \"window.addEventListener\", \"document.write\"], \"type\": \"bar\", \"uid\": \"f178d824-e528-47f5-9051-982c20d81788\"}], {\"autosize\": false, \"height\": 1000, \"width\": 1000, \"xaxis\": {\"tickfont\": {\"color\": \"black\", \"size\": 12}, \"title\": \"Feature Importances\"}, \"yaxis\": {\"automargin\": true}}, {\"showLink\": true, \"linkText\": \"Export to plot.ly\", \"plotlyServerURL\": \"https://plot.ly\"})});</script>"
      ]
     },
     "metadata": {},
     "output_type": "display_data"
    },
    {
     "name": "stdout",
     "output_type": "stream",
     "text": [
      "\n",
      "\n",
      "\u001b[1mExtraTree Classifier\u001b[0m\n",
      "Accuracy of the model for training data is: 0.9519983083104251\n",
      "Confusion Matrix for training data is:\n"
     ]
    },
    {
     "data": {
      "text/plain": [
       "Predicted  False  True  __all__\n",
       "Actual                         \n",
       "False       4307   422     4729\n",
       "True          32  4697     4729\n",
       "__all__     4339  5119     9458"
      ]
     },
     "metadata": {},
     "output_type": "display_data"
    },
    {
     "name": "stdout",
     "output_type": "stream",
     "text": [
      "Accuracy of the model for test data is: 0.8927781871775976\n",
      "Confusion Matrix for test data is:\n"
     ]
    },
    {
     "data": {
      "text/plain": [
       "Predicted  False  True  __all__\n",
       "Actual                         \n",
       "False       6164   776     6940\n",
       "True          97  1105     1202\n",
       "__all__     6261  1881     8142"
      ]
     },
     "metadata": {},
     "output_type": "display_data"
    },
    {
     "data": {
      "application/vnd.plotly.v1+json": {
       "config": {
        "linkText": "Export to plot.ly",
        "plotlyServerURL": "https://plot.ly",
        "showLink": true
       },
       "data": [
        {
         "marker": {
          "color": "rgb(158,202,225)",
          "line": {
           "color": "rgb(8,48,107)",
           "width": 1.5
          }
         },
         "opacity": 0.6,
         "orientation": "h",
         "text": [
          0.1681,
          0.1295,
          0.1176,
          0.0958,
          0.0707,
          0.0619,
          0.0491,
          0.0375,
          0.0353,
          0.0273,
          0.0243,
          0.0227,
          0.0199,
          0.0179,
          0.0174,
          0.0167,
          0.0152,
          0.0148,
          0.0106,
          0.0102,
          0.0094,
          0.0076,
          0.0074,
          0.0058,
          0.0042,
          0.0032
         ],
         "textposition": "outside",
         "type": "bar",
         "uid": "a6b7c99a-6e43-43e7-a95e-0e194eb7a62d",
         "x": [
          0.16813582975549163,
          0.12949268448206355,
          0.11756101066008304,
          0.09575272127494752,
          0.07073777417189044,
          0.06185600422299488,
          0.04908052156972028,
          0.03748831478910326,
          0.03525348818883581,
          0.02729598963874973,
          0.02430484285909667,
          0.022743551192967594,
          0.019855232693303446,
          0.017857944883983963,
          0.017405824652428598,
          0.016685328535822226,
          0.015249284846517344,
          0.014799693357280288,
          0.010608146306478964,
          0.010212189880763058,
          0.009400140124563106,
          0.007583712073116802,
          0.007419478918095591,
          0.00582495492291938,
          0.004200984567388867,
          0.003194351431393989
         ],
         "y": [
          "script_async_true",
          "link_href_out_of_domain",
          "a_href_https",
          "script_src_out_of_domain",
          "meta_count",
          "p_count",
          "total_count",
          "total_href",
          "link_type_text/css",
          "window.addEventListener",
          "iframe_src_https",
          "form_action_http",
          "replace",
          "indexOf",
          "link_href_.css",
          "push",
          "link_href_http",
          "strong_count",
          "find",
          "center_count",
          "a_href_.com",
          "document.write",
          "link_type_application/rsd+xml",
          "link_rel_shortlink",
          "get",
          "window.setTimeout"
         ]
        }
       ],
       "layout": {
        "autosize": false,
        "height": 1000,
        "width": 1000,
        "xaxis": {
         "tickfont": {
          "color": "black",
          "size": 12
         },
         "title": "Feature Importances"
        },
        "yaxis": {
         "automargin": true
        }
       }
      },
      "text/html": [
       "<div id=\"ed15ee24-04bd-4dfb-8af6-dd1aa8ed7b61\" style=\"height: 1000px; width: 1000px;\" class=\"plotly-graph-div\"></div><script type=\"text/javascript\">require([\"plotly\"], function(Plotly) { window.PLOTLYENV=window.PLOTLYENV || {};window.PLOTLYENV.BASE_URL=\"https://plot.ly\";Plotly.newPlot(\"ed15ee24-04bd-4dfb-8af6-dd1aa8ed7b61\", [{\"marker\": {\"color\": \"rgb(158,202,225)\", \"line\": {\"color\": \"rgb(8,48,107)\", \"width\": 1.5}}, \"opacity\": 0.6, \"orientation\": \"h\", \"text\": [0.1681, 0.1295, 0.1176, 0.0958, 0.0707, 0.0619, 0.0491, 0.0375, 0.0353, 0.0273, 0.0243, 0.0227, 0.0199, 0.0179, 0.0174, 0.0167, 0.0152, 0.0148, 0.0106, 0.0102, 0.0094, 0.0076, 0.0074, 0.0058, 0.0042, 0.0032], \"textposition\": \"outside\", \"x\": [0.16813582975549163, 0.12949268448206355, 0.11756101066008304, 0.09575272127494752, 0.07073777417189044, 0.06185600422299488, 0.04908052156972028, 0.03748831478910326, 0.03525348818883581, 0.02729598963874973, 0.02430484285909667, 0.022743551192967594, 0.019855232693303446, 0.017857944883983963, 0.017405824652428598, 0.016685328535822226, 0.015249284846517344, 0.014799693357280288, 0.010608146306478964, 0.010212189880763058, 0.009400140124563106, 0.007583712073116802, 0.007419478918095591, 0.00582495492291938, 0.004200984567388867, 0.003194351431393989], \"y\": [\"script_async_true\", \"link_href_out_of_domain\", \"a_href_https\", \"script_src_out_of_domain\", \"meta_count\", \"p_count\", \"total_count\", \"total_href\", \"link_type_text/css\", \"window.addEventListener\", \"iframe_src_https\", \"form_action_http\", \"replace\", \"indexOf\", \"link_href_.css\", \"push\", \"link_href_http\", \"strong_count\", \"find\", \"center_count\", \"a_href_.com\", \"document.write\", \"link_type_application/rsd+xml\", \"link_rel_shortlink\", \"get\", \"window.setTimeout\"], \"type\": \"bar\", \"uid\": \"a6b7c99a-6e43-43e7-a95e-0e194eb7a62d\"}], {\"autosize\": false, \"height\": 1000, \"width\": 1000, \"xaxis\": {\"tickfont\": {\"color\": \"black\", \"size\": 12}, \"title\": \"Feature Importances\"}, \"yaxis\": {\"automargin\": true}}, {\"showLink\": true, \"linkText\": \"Export to plot.ly\", \"plotlyServerURL\": \"https://plot.ly\"})});</script>"
      ],
      "text/vnd.plotly.v1+html": [
       "<div id=\"ed15ee24-04bd-4dfb-8af6-dd1aa8ed7b61\" style=\"height: 1000px; width: 1000px;\" class=\"plotly-graph-div\"></div><script type=\"text/javascript\">require([\"plotly\"], function(Plotly) { window.PLOTLYENV=window.PLOTLYENV || {};window.PLOTLYENV.BASE_URL=\"https://plot.ly\";Plotly.newPlot(\"ed15ee24-04bd-4dfb-8af6-dd1aa8ed7b61\", [{\"marker\": {\"color\": \"rgb(158,202,225)\", \"line\": {\"color\": \"rgb(8,48,107)\", \"width\": 1.5}}, \"opacity\": 0.6, \"orientation\": \"h\", \"text\": [0.1681, 0.1295, 0.1176, 0.0958, 0.0707, 0.0619, 0.0491, 0.0375, 0.0353, 0.0273, 0.0243, 0.0227, 0.0199, 0.0179, 0.0174, 0.0167, 0.0152, 0.0148, 0.0106, 0.0102, 0.0094, 0.0076, 0.0074, 0.0058, 0.0042, 0.0032], \"textposition\": \"outside\", \"x\": [0.16813582975549163, 0.12949268448206355, 0.11756101066008304, 0.09575272127494752, 0.07073777417189044, 0.06185600422299488, 0.04908052156972028, 0.03748831478910326, 0.03525348818883581, 0.02729598963874973, 0.02430484285909667, 0.022743551192967594, 0.019855232693303446, 0.017857944883983963, 0.017405824652428598, 0.016685328535822226, 0.015249284846517344, 0.014799693357280288, 0.010608146306478964, 0.010212189880763058, 0.009400140124563106, 0.007583712073116802, 0.007419478918095591, 0.00582495492291938, 0.004200984567388867, 0.003194351431393989], \"y\": [\"script_async_true\", \"link_href_out_of_domain\", \"a_href_https\", \"script_src_out_of_domain\", \"meta_count\", \"p_count\", \"total_count\", \"total_href\", \"link_type_text/css\", \"window.addEventListener\", \"iframe_src_https\", \"form_action_http\", \"replace\", \"indexOf\", \"link_href_.css\", \"push\", \"link_href_http\", \"strong_count\", \"find\", \"center_count\", \"a_href_.com\", \"document.write\", \"link_type_application/rsd+xml\", \"link_rel_shortlink\", \"get\", \"window.setTimeout\"], \"type\": \"bar\", \"uid\": \"a6b7c99a-6e43-43e7-a95e-0e194eb7a62d\"}], {\"autosize\": false, \"height\": 1000, \"width\": 1000, \"xaxis\": {\"tickfont\": {\"color\": \"black\", \"size\": 12}, \"title\": \"Feature Importances\"}, \"yaxis\": {\"automargin\": true}}, {\"showLink\": true, \"linkText\": \"Export to plot.ly\", \"plotlyServerURL\": \"https://plot.ly\"})});</script>"
      ]
     },
     "metadata": {},
     "output_type": "display_data"
    },
    {
     "name": "stdout",
     "output_type": "stream",
     "text": [
      "\n",
      "\n",
      "\u001b[1mBagging Classifier\u001b[0m\n",
      "Accuracy of the model for training data is: 0.9475576231761472\n",
      "Confusion Matrix for training data is:\n"
     ]
    },
    {
     "data": {
      "text/plain": [
       "Predicted  False  True  __all__\n",
       "Actual                         \n",
       "False       4330   399     4729\n",
       "True          97  4632     4729\n",
       "__all__     4427  5031     9458"
      ]
     },
     "metadata": {},
     "output_type": "display_data"
    },
    {
     "name": "stdout",
     "output_type": "stream",
     "text": [
      "Accuracy of the model for test data is: 0.8917956276099238\n",
      "Confusion Matrix for test data is:\n"
     ]
    },
    {
     "data": {
      "text/plain": [
       "Predicted  False  True  __all__\n",
       "Actual                         \n",
       "False       6153   787     6940\n",
       "True          94  1108     1202\n",
       "__all__     6247  1895     8142"
      ]
     },
     "metadata": {},
     "output_type": "display_data"
    },
    {
     "name": "stdout",
     "output_type": "stream",
     "text": [
      "\n",
      "\n",
      "\u001b[1mNeural Network-1\u001b[0m\n",
      "The accuracy of the model on training data is: 0.917635863768573\n"
     ]
    },
    {
     "data": {
      "text/plain": [
       "Predicted  False  True  __all__\n",
       "Actual                         \n",
       "False       3982   747     4729\n",
       "True          32  4697     4729\n",
       "__all__     4014  5444     9458"
      ]
     },
     "metadata": {},
     "output_type": "display_data"
    },
    {
     "name": "stdout",
     "output_type": "stream",
     "text": [
      "The accuracy of the model on test data is: 0.8436502087939082\n"
     ]
    },
    {
     "data": {
      "text/plain": [
       "Predicted  False  True  __all__\n",
       "Actual                         \n",
       "False       5708  1232     6940\n",
       "True          41  1161     1202\n",
       "__all__     5749  2393     8142"
      ]
     },
     "metadata": {},
     "output_type": "display_data"
    },
    {
     "name": "stdout",
     "output_type": "stream",
     "text": [
      "\n",
      "\n"
     ]
    }
   ],
   "source": [
    "print(\"Shape after undersampling\",X_train.shape)\n",
    "\n",
    "## Table to store training and test measures so we can compare later\n",
    "table_80_90_train=pd.DataFrame(columns=['accuracy','TP','TN','FP','FN','FPR','FNR'])\n",
    "table_80_90_test=pd.DataFrame(columns=['accuracy','TP','TN','FP','FN','FPR','FNR','auc','mcc'])\n",
    "\n",
    "feat_imp=[None]*4\n",
    "j=0\n",
    "for i in range(0,8):\n",
    "    if i>=2 and i<=5:\n",
    "        model,cm_train,cm_test,acc_train,acc_test,roc_auc,feat_imp[j],mcc=f[i](X_train,Y_train,scaled_X_test,test_Y,columns)\n",
    "        j=j+1\n",
    "    else:\n",
    "        model,cm_train,cm_test,acc_train,acc_test,roc_auc,mcc=f[i](X_train,Y_train,scaled_X_test,test_Y)\n",
    "    table_80_90_train.loc[i]=   ([acc_train,cm_train.TP,cm_train.TN,cm_train.FP,cm_train.FN,cm_train.FPR,cm_train.FNR])\n",
    "    table_80_90_test.loc[i] =   ([acc_test ,cm_test.TP, cm_test.TN, cm_test.FP, cm_test.FN, cm_test.FPR, cm_test.FNR,roc_auc,mcc])\n",
    "    print(\"\\n\")"
   ]
  },
  {
   "cell_type": "markdown",
   "metadata": {},
   "source": [
    "### <a id='3.A' style=\"text-decoration : none; color : #000000;\"> A. Results</a>"
   ]
  },
  {
   "cell_type": "code",
   "execution_count": 30,
   "metadata": {},
   "outputs": [
    {
     "data": {
      "application/vnd.plotly.v1+json": {
       "config": {
        "linkText": "Export to plot.ly",
        "plotlyServerURL": "https://plot.ly",
        "showLink": true
       },
       "data": [
        {
         "mode": "lines",
         "name": "KNN_model",
         "type": "scatter",
         "uid": "6b542ba7-b5c0-4568-8fcd-57e92ed2c205",
         "x": [
          "accuracy",
          "FPR",
          "FNR",
          "auc"
         ],
         "y": [
          0.8424220093343159,
          0.03976945244956772,
          0.8377703826955075,
          0.5612300824274624
         ]
        },
        {
         "mode": "lines+markers",
         "name": "Logistic Regression",
         "type": "scatter",
         "uid": "a43b2318-5f53-498d-9496-0c5f854742f9",
         "x": [
          "accuracy",
          "FPR",
          "FNR",
          "auc"
         ],
         "y": [
          0.8271923360353721,
          0.19438040345821325,
          0.048252911813643926,
          0.8786833423640714
         ]
        },
        {
         "marker": {
          "symbol": "x"
         },
         "mode": "lines+markers",
         "name": "Random Forest",
         "type": "scatter",
         "uid": "c9fc13dc-7896-4b14-bc72-0ffb22f6cc6d",
         "x": [
          "accuracy",
          "FPR",
          "FNR",
          "auc"
         ],
         "y": [
          0.8989191844755589,
          0.10475504322766571,
          0.07986688851913477,
          0.9076890341265998
         ]
        },
        {
         "mode": "lines",
         "name": "Ada Boost",
         "type": "scatter",
         "uid": "64c1a63b-eef3-4f01-b867-4851dc1b7977",
         "x": [
          "accuracy",
          "FPR",
          "FNR",
          "auc"
         ],
         "y": [
          0.8635470400393024,
          0.15043227665706052,
          0.05574043261231281,
          0.8969136453653134
         ]
        },
        {
         "mode": "lines+markers",
         "name": "GradientBoosting",
         "type": "scatter",
         "uid": "88150b70-53a2-456f-8c92-1e16edc2549e",
         "x": [
          "accuracy",
          "FPR",
          "FNR",
          "auc"
         ],
         "y": [
          0.8784082535003684,
          0.13126801152737752,
          0.06572379367720466,
          0.9015040973977089
         ]
        },
        {
         "marker": {
          "symbol": "x"
         },
         "mode": "lines+markers",
         "name": "ExtraTree Classifier",
         "type": "scatter",
         "uid": "2dac6955-5c86-43bc-a28e-56a0a707579b",
         "x": [
          "accuracy",
          "FPR",
          "FNR",
          "auc"
         ],
         "y": [
          0.8927781871775976,
          0.11181556195965418,
          0.08069883527454243,
          0.9037428013829018
         ]
        },
        {
         "marker": {
          "symbol": "x"
         },
         "mode": "lines+markers",
         "name": "Bagging",
         "type": "scatter",
         "uid": "14ea33ec-9d87-454c-8755-aff4e8b47eed",
         "x": [
          "accuracy",
          "FPR",
          "FNR",
          "auc"
         ],
         "y": [
          0.8917956276099238,
          0.11340057636887609,
          0.07820299500831947,
          0.9041982143114022
         ]
        },
        {
         "marker": {
          "symbol": "x"
         },
         "mode": "lines+markers",
         "name": "Neural Network",
         "type": "scatter",
         "uid": "0818ec31-4a81-4e13-b84e-cc4351cee407",
         "x": [
          "accuracy",
          "FPR",
          "FNR",
          "auc"
         ],
         "y": [
          0.8436502087939082,
          0.17752161383285303,
          0.03410981697171381,
          0.8941842845977166
         ]
        }
       ],
       "layout": {
        "title": "Result comparision for Features selected in Section 1",
        "yaxis": {
         "dtick": 0.05,
         "tick0": 0
        }
       }
      },
      "text/html": [
       "<div id=\"52cd5a45-4810-4f11-b9bc-a6f0b71c5098\" style=\"height: 525px; width: 100%;\" class=\"plotly-graph-div\"></div><script type=\"text/javascript\">require([\"plotly\"], function(Plotly) { window.PLOTLYENV=window.PLOTLYENV || {};window.PLOTLYENV.BASE_URL=\"https://plot.ly\";Plotly.newPlot(\"52cd5a45-4810-4f11-b9bc-a6f0b71c5098\", [{\"mode\": \"lines\", \"name\": \"KNN_model\", \"x\": [\"accuracy\", \"FPR\", \"FNR\", \"auc\"], \"y\": [0.8424220093343159, 0.03976945244956772, 0.8377703826955075, 0.5612300824274624], \"type\": \"scatter\", \"uid\": \"6b542ba7-b5c0-4568-8fcd-57e92ed2c205\"}, {\"mode\": \"lines+markers\", \"name\": \"Logistic Regression\", \"x\": [\"accuracy\", \"FPR\", \"FNR\", \"auc\"], \"y\": [0.8271923360353721, 0.19438040345821325, 0.048252911813643926, 0.8786833423640714], \"type\": \"scatter\", \"uid\": \"a43b2318-5f53-498d-9496-0c5f854742f9\"}, {\"marker\": {\"symbol\": \"x\"}, \"mode\": \"lines+markers\", \"name\": \"Random Forest\", \"x\": [\"accuracy\", \"FPR\", \"FNR\", \"auc\"], \"y\": [0.8989191844755589, 0.10475504322766571, 0.07986688851913477, 0.9076890341265998], \"type\": \"scatter\", \"uid\": \"c9fc13dc-7896-4b14-bc72-0ffb22f6cc6d\"}, {\"mode\": \"lines\", \"name\": \"Ada Boost\", \"x\": [\"accuracy\", \"FPR\", \"FNR\", \"auc\"], \"y\": [0.8635470400393024, 0.15043227665706052, 0.05574043261231281, 0.8969136453653134], \"type\": \"scatter\", \"uid\": \"64c1a63b-eef3-4f01-b867-4851dc1b7977\"}, {\"mode\": \"lines+markers\", \"name\": \"GradientBoosting\", \"x\": [\"accuracy\", \"FPR\", \"FNR\", \"auc\"], \"y\": [0.8784082535003684, 0.13126801152737752, 0.06572379367720466, 0.9015040973977089], \"type\": \"scatter\", \"uid\": \"88150b70-53a2-456f-8c92-1e16edc2549e\"}, {\"marker\": {\"symbol\": \"x\"}, \"mode\": \"lines+markers\", \"name\": \"ExtraTree Classifier\", \"x\": [\"accuracy\", \"FPR\", \"FNR\", \"auc\"], \"y\": [0.8927781871775976, 0.11181556195965418, 0.08069883527454243, 0.9037428013829018], \"type\": \"scatter\", \"uid\": \"2dac6955-5c86-43bc-a28e-56a0a707579b\"}, {\"marker\": {\"symbol\": \"x\"}, \"mode\": \"lines+markers\", \"name\": \"Bagging\", \"x\": [\"accuracy\", \"FPR\", \"FNR\", \"auc\"], \"y\": [0.8917956276099238, 0.11340057636887609, 0.07820299500831947, 0.9041982143114022], \"type\": \"scatter\", \"uid\": \"14ea33ec-9d87-454c-8755-aff4e8b47eed\"}, {\"marker\": {\"symbol\": \"x\"}, \"mode\": \"lines+markers\", \"name\": \"Neural Network\", \"x\": [\"accuracy\", \"FPR\", \"FNR\", \"auc\"], \"y\": [0.8436502087939082, 0.17752161383285303, 0.03410981697171381, 0.8941842845977166], \"type\": \"scatter\", \"uid\": \"0818ec31-4a81-4e13-b84e-cc4351cee407\"}], {\"title\": \"Result comparision for Features selected in Section 1\", \"yaxis\": {\"dtick\": 0.05, \"tick0\": 0}}, {\"showLink\": true, \"linkText\": \"Export to plot.ly\", \"plotlyServerURL\": \"https://plot.ly\"})});</script><script type=\"text/javascript\">window.addEventListener(\"resize\", function(){window._Plotly.Plots.resize(document.getElementById(\"52cd5a45-4810-4f11-b9bc-a6f0b71c5098\"));});</script>"
      ],
      "text/vnd.plotly.v1+html": [
       "<div id=\"52cd5a45-4810-4f11-b9bc-a6f0b71c5098\" style=\"height: 525px; width: 100%;\" class=\"plotly-graph-div\"></div><script type=\"text/javascript\">require([\"plotly\"], function(Plotly) { window.PLOTLYENV=window.PLOTLYENV || {};window.PLOTLYENV.BASE_URL=\"https://plot.ly\";Plotly.newPlot(\"52cd5a45-4810-4f11-b9bc-a6f0b71c5098\", [{\"mode\": \"lines\", \"name\": \"KNN_model\", \"x\": [\"accuracy\", \"FPR\", \"FNR\", \"auc\"], \"y\": [0.8424220093343159, 0.03976945244956772, 0.8377703826955075, 0.5612300824274624], \"type\": \"scatter\", \"uid\": \"6b542ba7-b5c0-4568-8fcd-57e92ed2c205\"}, {\"mode\": \"lines+markers\", \"name\": \"Logistic Regression\", \"x\": [\"accuracy\", \"FPR\", \"FNR\", \"auc\"], \"y\": [0.8271923360353721, 0.19438040345821325, 0.048252911813643926, 0.8786833423640714], \"type\": \"scatter\", \"uid\": \"a43b2318-5f53-498d-9496-0c5f854742f9\"}, {\"marker\": {\"symbol\": \"x\"}, \"mode\": \"lines+markers\", \"name\": \"Random Forest\", \"x\": [\"accuracy\", \"FPR\", \"FNR\", \"auc\"], \"y\": [0.8989191844755589, 0.10475504322766571, 0.07986688851913477, 0.9076890341265998], \"type\": \"scatter\", \"uid\": \"c9fc13dc-7896-4b14-bc72-0ffb22f6cc6d\"}, {\"mode\": \"lines\", \"name\": \"Ada Boost\", \"x\": [\"accuracy\", \"FPR\", \"FNR\", \"auc\"], \"y\": [0.8635470400393024, 0.15043227665706052, 0.05574043261231281, 0.8969136453653134], \"type\": \"scatter\", \"uid\": \"64c1a63b-eef3-4f01-b867-4851dc1b7977\"}, {\"mode\": \"lines+markers\", \"name\": \"GradientBoosting\", \"x\": [\"accuracy\", \"FPR\", \"FNR\", \"auc\"], \"y\": [0.8784082535003684, 0.13126801152737752, 0.06572379367720466, 0.9015040973977089], \"type\": \"scatter\", \"uid\": \"88150b70-53a2-456f-8c92-1e16edc2549e\"}, {\"marker\": {\"symbol\": \"x\"}, \"mode\": \"lines+markers\", \"name\": \"ExtraTree Classifier\", \"x\": [\"accuracy\", \"FPR\", \"FNR\", \"auc\"], \"y\": [0.8927781871775976, 0.11181556195965418, 0.08069883527454243, 0.9037428013829018], \"type\": \"scatter\", \"uid\": \"2dac6955-5c86-43bc-a28e-56a0a707579b\"}, {\"marker\": {\"symbol\": \"x\"}, \"mode\": \"lines+markers\", \"name\": \"Bagging\", \"x\": [\"accuracy\", \"FPR\", \"FNR\", \"auc\"], \"y\": [0.8917956276099238, 0.11340057636887609, 0.07820299500831947, 0.9041982143114022], \"type\": \"scatter\", \"uid\": \"14ea33ec-9d87-454c-8755-aff4e8b47eed\"}, {\"marker\": {\"symbol\": \"x\"}, \"mode\": \"lines+markers\", \"name\": \"Neural Network\", \"x\": [\"accuracy\", \"FPR\", \"FNR\", \"auc\"], \"y\": [0.8436502087939082, 0.17752161383285303, 0.03410981697171381, 0.8941842845977166], \"type\": \"scatter\", \"uid\": \"0818ec31-4a81-4e13-b84e-cc4351cee407\"}], {\"title\": \"Result comparision for Features selected in Section 1\", \"yaxis\": {\"dtick\": 0.05, \"tick0\": 0}}, {\"showLink\": true, \"linkText\": \"Export to plot.ly\", \"plotlyServerURL\": \"https://plot.ly\"})});</script><script type=\"text/javascript\">window.addEventListener(\"resize\", function(){window._Plotly.Plots.resize(document.getElementById(\"52cd5a45-4810-4f11-b9bc-a6f0b71c5098\"));});</script>"
      ]
     },
     "metadata": {},
     "output_type": "display_data"
    }
   ],
   "source": [
    "trace0 = go.Scatter(x=table_80_90_test.iloc[0].index.values[[0,5,6,7]],\n",
    "                    y=table_80_90_test.iloc[0].values[[0,5,6,7]],\n",
    "                    mode = 'lines',\n",
    "                    name = 'KNN_model')\n",
    "\n",
    "trace1 = go.Scatter(x=table_80_90_test.iloc[1].index.values[[0,5,6,7]],\n",
    "                    y=table_80_90_test.iloc[1].values[[0,5,6,7]],\n",
    "                    mode = 'lines+markers',\n",
    "                    name = 'Logistic Regression')\n",
    "\n",
    "trace2 = go.Scatter(x=table_80_90_test.iloc[2].index.values[[0,5,6,7]],\n",
    "                    y=table_80_90_test.iloc[2].values[[0,5,6,7]],\n",
    "                    mode = 'lines+markers',marker=dict(symbol='x'),\n",
    "                    name = 'Random Forest')\n",
    "\n",
    "\n",
    "trace3 = go.Scatter(x=table_80_90_test.iloc[3].index.values[[0,5,6,7]],\n",
    "                    y=table_80_90_test.iloc[3].values[[0,5,6,7]],\n",
    "                    mode = 'lines',\n",
    "                    name = 'Ada Boost')\n",
    "\n",
    "trace4 = go.Scatter(x=table_80_90_test.iloc[4].index.values[[0,5,6,7]],\n",
    "                    y=table_80_90_test.iloc[4].values[[0,5,6,7]],\n",
    "                    mode = 'lines+markers',\n",
    "                    name = 'GradientBoosting')\n",
    "\n",
    "trace5 = go.Scatter(x=table_80_90_test.iloc[5].index.values[[0,5,6,7]],\n",
    "                    y=table_80_90_test.iloc[5].values[[0,5,6,7]],\n",
    "                    mode = 'lines+markers',marker=dict(symbol='x'),\n",
    "                    name = 'ExtraTree Classifier')\n",
    "\n",
    "trace6 = go.Scatter(x=table_80_90_test.iloc[6].index.values[[0,5,6,7]],\n",
    "                    y=table_80_90_test.iloc[6].values[[0,5,6,7]],\n",
    "                    mode = 'lines+markers',marker=dict(symbol='x'),\n",
    "                    name = 'Bagging')\n",
    "\n",
    "trace7 = go.Scatter(x=table_80_90_test.iloc[7].index.values[[0,5,6,7]],\n",
    "                    y=table_80_90_test.iloc[7].values[[0,5,6,7]],\n",
    "                    mode = 'lines+markers',marker=dict(symbol='x'),\n",
    "                    name = 'Neural Network')\n",
    "\n",
    "\n",
    "\n",
    "data = [trace0, trace1, trace2, trace3, trace4, trace5, trace6, trace7]\n",
    "layout = go.Layout(yaxis=dict(tick0=0,dtick=0.05),title='Result comparision for Features selected in Section 1')\n",
    "fig = go.Figure(data=data, layout=layout)\n",
    "\n",
    "iplot(fig, filename='Result')"
   ]
  },
  {
   "cell_type": "code",
   "execution_count": 31,
   "metadata": {},
   "outputs": [
    {
     "name": "stdout",
     "output_type": "stream",
     "text": [
      "Training Results\n"
     ]
    },
    {
     "data": {
      "text/html": [
       "<div>\n",
       "<style scoped>\n",
       "    .dataframe tbody tr th:only-of-type {\n",
       "        vertical-align: middle;\n",
       "    }\n",
       "\n",
       "    .dataframe tbody tr th {\n",
       "        vertical-align: top;\n",
       "    }\n",
       "\n",
       "    .dataframe thead th {\n",
       "        text-align: right;\n",
       "    }\n",
       "</style>\n",
       "<table border=\"1\" class=\"dataframe\">\n",
       "  <thead>\n",
       "    <tr style=\"text-align: right;\">\n",
       "      <th></th>\n",
       "      <th>accuracy</th>\n",
       "      <th>TP</th>\n",
       "      <th>TN</th>\n",
       "      <th>FP</th>\n",
       "      <th>FN</th>\n",
       "      <th>FPR</th>\n",
       "      <th>FNR</th>\n",
       "    </tr>\n",
       "    <tr>\n",
       "      <th>index</th>\n",
       "      <th></th>\n",
       "      <th></th>\n",
       "      <th></th>\n",
       "      <th></th>\n",
       "      <th></th>\n",
       "      <th></th>\n",
       "      <th></th>\n",
       "    </tr>\n",
       "  </thead>\n",
       "  <tbody>\n",
       "    <tr>\n",
       "      <th>KNeighborsClassifier</th>\n",
       "      <td>0.575915</td>\n",
       "      <td>872.0</td>\n",
       "      <td>4575.0</td>\n",
       "      <td>154.0</td>\n",
       "      <td>3857.0</td>\n",
       "      <td>0.032565</td>\n",
       "      <td>0.815606</td>\n",
       "    </tr>\n",
       "    <tr>\n",
       "      <th>LogisticRegression</th>\n",
       "      <td>0.881899</td>\n",
       "      <td>4547.0</td>\n",
       "      <td>3794.0</td>\n",
       "      <td>935.0</td>\n",
       "      <td>182.0</td>\n",
       "      <td>0.197716</td>\n",
       "      <td>0.038486</td>\n",
       "    </tr>\n",
       "    <tr>\n",
       "      <th>RandomForestClassifier</th>\n",
       "      <td>0.948298</td>\n",
       "      <td>4640.0</td>\n",
       "      <td>4329.0</td>\n",
       "      <td>400.0</td>\n",
       "      <td>89.0</td>\n",
       "      <td>0.084584</td>\n",
       "      <td>0.018820</td>\n",
       "    </tr>\n",
       "    <tr>\n",
       "      <th>AdaBoostClassifier</th>\n",
       "      <td>0.895432</td>\n",
       "      <td>4469.0</td>\n",
       "      <td>4000.0</td>\n",
       "      <td>729.0</td>\n",
       "      <td>260.0</td>\n",
       "      <td>0.154155</td>\n",
       "      <td>0.054980</td>\n",
       "    </tr>\n",
       "    <tr>\n",
       "      <th>GradientBoostingClassifier</th>\n",
       "      <td>0.911821</td>\n",
       "      <td>4503.0</td>\n",
       "      <td>4121.0</td>\n",
       "      <td>608.0</td>\n",
       "      <td>226.0</td>\n",
       "      <td>0.128568</td>\n",
       "      <td>0.047790</td>\n",
       "    </tr>\n",
       "    <tr>\n",
       "      <th>ExtraTreeClassifier</th>\n",
       "      <td>0.951998</td>\n",
       "      <td>4697.0</td>\n",
       "      <td>4307.0</td>\n",
       "      <td>422.0</td>\n",
       "      <td>32.0</td>\n",
       "      <td>0.089237</td>\n",
       "      <td>0.006767</td>\n",
       "    </tr>\n",
       "    <tr>\n",
       "      <th>BaggingClassifier</th>\n",
       "      <td>0.947558</td>\n",
       "      <td>4632.0</td>\n",
       "      <td>4330.0</td>\n",
       "      <td>399.0</td>\n",
       "      <td>97.0</td>\n",
       "      <td>0.084373</td>\n",
       "      <td>0.020512</td>\n",
       "    </tr>\n",
       "    <tr>\n",
       "      <th>Neural Network-1</th>\n",
       "      <td>0.917636</td>\n",
       "      <td>4697.0</td>\n",
       "      <td>3982.0</td>\n",
       "      <td>747.0</td>\n",
       "      <td>32.0</td>\n",
       "      <td>0.157962</td>\n",
       "      <td>0.006767</td>\n",
       "    </tr>\n",
       "  </tbody>\n",
       "</table>\n",
       "</div>"
      ],
      "text/plain": [
       "                            accuracy      TP      TN     FP      FN       FPR  \\\n",
       "index                                                                           \n",
       "KNeighborsClassifier        0.575915   872.0  4575.0  154.0  3857.0  0.032565   \n",
       "LogisticRegression          0.881899  4547.0  3794.0  935.0   182.0  0.197716   \n",
       "RandomForestClassifier      0.948298  4640.0  4329.0  400.0    89.0  0.084584   \n",
       "AdaBoostClassifier          0.895432  4469.0  4000.0  729.0   260.0  0.154155   \n",
       "GradientBoostingClassifier  0.911821  4503.0  4121.0  608.0   226.0  0.128568   \n",
       "ExtraTreeClassifier         0.951998  4697.0  4307.0  422.0    32.0  0.089237   \n",
       "BaggingClassifier           0.947558  4632.0  4330.0  399.0    97.0  0.084373   \n",
       "Neural Network-1            0.917636  4697.0  3982.0  747.0    32.0  0.157962   \n",
       "\n",
       "                                 FNR  \n",
       "index                                 \n",
       "KNeighborsClassifier        0.815606  \n",
       "LogisticRegression          0.038486  \n",
       "RandomForestClassifier      0.018820  \n",
       "AdaBoostClassifier          0.054980  \n",
       "GradientBoostingClassifier  0.047790  \n",
       "ExtraTreeClassifier         0.006767  \n",
       "BaggingClassifier           0.020512  \n",
       "Neural Network-1            0.006767  "
      ]
     },
     "metadata": {},
     "output_type": "display_data"
    },
    {
     "name": "stdout",
     "output_type": "stream",
     "text": [
      "Test Results\n"
     ]
    },
    {
     "data": {
      "text/html": [
       "<div>\n",
       "<style scoped>\n",
       "    .dataframe tbody tr th:only-of-type {\n",
       "        vertical-align: middle;\n",
       "    }\n",
       "\n",
       "    .dataframe tbody tr th {\n",
       "        vertical-align: top;\n",
       "    }\n",
       "\n",
       "    .dataframe thead th {\n",
       "        text-align: right;\n",
       "    }\n",
       "</style>\n",
       "<table border=\"1\" class=\"dataframe\">\n",
       "  <thead>\n",
       "    <tr style=\"text-align: right;\">\n",
       "      <th></th>\n",
       "      <th>accuracy</th>\n",
       "      <th>TP</th>\n",
       "      <th>TN</th>\n",
       "      <th>FP</th>\n",
       "      <th>FN</th>\n",
       "      <th>FPR</th>\n",
       "      <th>FNR</th>\n",
       "      <th>auc</th>\n",
       "      <th>mcc</th>\n",
       "    </tr>\n",
       "    <tr>\n",
       "      <th>index</th>\n",
       "      <th></th>\n",
       "      <th></th>\n",
       "      <th></th>\n",
       "      <th></th>\n",
       "      <th></th>\n",
       "      <th></th>\n",
       "      <th></th>\n",
       "      <th></th>\n",
       "      <th></th>\n",
       "    </tr>\n",
       "  </thead>\n",
       "  <tbody>\n",
       "    <tr>\n",
       "      <th>KNeighborsClassifier</th>\n",
       "      <td>0.842422</td>\n",
       "      <td>195.0</td>\n",
       "      <td>6664.0</td>\n",
       "      <td>276.0</td>\n",
       "      <td>1007.0</td>\n",
       "      <td>0.039769</td>\n",
       "      <td>0.837770</td>\n",
       "      <td>0.561230</td>\n",
       "      <td>0.186076</td>\n",
       "    </tr>\n",
       "    <tr>\n",
       "      <th>LogisticRegression</th>\n",
       "      <td>0.827192</td>\n",
       "      <td>1144.0</td>\n",
       "      <td>5591.0</td>\n",
       "      <td>1349.0</td>\n",
       "      <td>58.0</td>\n",
       "      <td>0.194380</td>\n",
       "      <td>0.048253</td>\n",
       "      <td>0.878683</td>\n",
       "      <td>0.582896</td>\n",
       "    </tr>\n",
       "    <tr>\n",
       "      <th>RandomForestClassifier</th>\n",
       "      <td>0.898919</td>\n",
       "      <td>1106.0</td>\n",
       "      <td>6213.0</td>\n",
       "      <td>727.0</td>\n",
       "      <td>96.0</td>\n",
       "      <td>0.104755</td>\n",
       "      <td>0.079867</td>\n",
       "      <td>0.907689</td>\n",
       "      <td>0.692516</td>\n",
       "    </tr>\n",
       "    <tr>\n",
       "      <th>AdaBoostClassifier</th>\n",
       "      <td>0.863547</td>\n",
       "      <td>1135.0</td>\n",
       "      <td>5896.0</td>\n",
       "      <td>1044.0</td>\n",
       "      <td>67.0</td>\n",
       "      <td>0.150432</td>\n",
       "      <td>0.055740</td>\n",
       "      <td>0.896914</td>\n",
       "      <td>0.636058</td>\n",
       "    </tr>\n",
       "    <tr>\n",
       "      <th>GradientBoostingClassifier</th>\n",
       "      <td>0.878408</td>\n",
       "      <td>1123.0</td>\n",
       "      <td>6029.0</td>\n",
       "      <td>911.0</td>\n",
       "      <td>79.0</td>\n",
       "      <td>0.131268</td>\n",
       "      <td>0.065724</td>\n",
       "      <td>0.901504</td>\n",
       "      <td>0.658002</td>\n",
       "    </tr>\n",
       "    <tr>\n",
       "      <th>ExtraTreeClassifier</th>\n",
       "      <td>0.892778</td>\n",
       "      <td>1105.0</td>\n",
       "      <td>6164.0</td>\n",
       "      <td>776.0</td>\n",
       "      <td>97.0</td>\n",
       "      <td>0.111816</td>\n",
       "      <td>0.080699</td>\n",
       "      <td>0.903743</td>\n",
       "      <td>0.679596</td>\n",
       "    </tr>\n",
       "    <tr>\n",
       "      <th>BaggingClassifier</th>\n",
       "      <td>0.891796</td>\n",
       "      <td>1108.0</td>\n",
       "      <td>6153.0</td>\n",
       "      <td>787.0</td>\n",
       "      <td>94.0</td>\n",
       "      <td>0.113401</td>\n",
       "      <td>0.078203</td>\n",
       "      <td>0.904198</td>\n",
       "      <td>0.678603</td>\n",
       "    </tr>\n",
       "    <tr>\n",
       "      <th>Neural Network-1</th>\n",
       "      <td>0.843650</td>\n",
       "      <td>1161.0</td>\n",
       "      <td>5708.0</td>\n",
       "      <td>1232.0</td>\n",
       "      <td>41.0</td>\n",
       "      <td>0.177522</td>\n",
       "      <td>0.034110</td>\n",
       "      <td>0.894184</td>\n",
       "      <td>0.613895</td>\n",
       "    </tr>\n",
       "  </tbody>\n",
       "</table>\n",
       "</div>"
      ],
      "text/plain": [
       "                            accuracy      TP      TN      FP      FN  \\\n",
       "index                                                                  \n",
       "KNeighborsClassifier        0.842422   195.0  6664.0   276.0  1007.0   \n",
       "LogisticRegression          0.827192  1144.0  5591.0  1349.0    58.0   \n",
       "RandomForestClassifier      0.898919  1106.0  6213.0   727.0    96.0   \n",
       "AdaBoostClassifier          0.863547  1135.0  5896.0  1044.0    67.0   \n",
       "GradientBoostingClassifier  0.878408  1123.0  6029.0   911.0    79.0   \n",
       "ExtraTreeClassifier         0.892778  1105.0  6164.0   776.0    97.0   \n",
       "BaggingClassifier           0.891796  1108.0  6153.0   787.0    94.0   \n",
       "Neural Network-1            0.843650  1161.0  5708.0  1232.0    41.0   \n",
       "\n",
       "                                 FPR       FNR       auc       mcc  \n",
       "index                                                               \n",
       "KNeighborsClassifier        0.039769  0.837770  0.561230  0.186076  \n",
       "LogisticRegression          0.194380  0.048253  0.878683  0.582896  \n",
       "RandomForestClassifier      0.104755  0.079867  0.907689  0.692516  \n",
       "AdaBoostClassifier          0.150432  0.055740  0.896914  0.636058  \n",
       "GradientBoostingClassifier  0.131268  0.065724  0.901504  0.658002  \n",
       "ExtraTreeClassifier         0.111816  0.080699  0.903743  0.679596  \n",
       "BaggingClassifier           0.113401  0.078203  0.904198  0.678603  \n",
       "Neural Network-1            0.177522  0.034110  0.894184  0.613895  "
      ]
     },
     "metadata": {},
     "output_type": "display_data"
    }
   ],
   "source": [
    "table_80_90_train['index']=ind_columns\n",
    "table_80_90_test['index']=ind_columns\n",
    "\n",
    "\n",
    "table_80_90_test.set_index(['index'],drop=True,inplace=True)\n",
    "table_80_90_train.set_index(['index'],drop=True,inplace=True)\n",
    "\n",
    "print(\"Training Results\")\n",
    "display(table_80_90_train)\n",
    "print(\"Test Results\")\n",
    "display(table_80_90_test)"
   ]
  },
  {
   "cell_type": "markdown",
   "metadata": {},
   "source": [
    "### <a id='3.B' style=\"text-decoration : none; color : #000000;\"> B. Average Feature Importances</a>"
   ]
  },
  {
   "cell_type": "code",
   "execution_count": 32,
   "metadata": {},
   "outputs": [
    {
     "data": {
      "application/vnd.plotly.v1+json": {
       "config": {
        "linkText": "Export to plot.ly",
        "plotlyServerURL": "https://plot.ly",
        "showLink": true
       },
       "data": [
        {
         "marker": {
          "color": "rgb(158,202,225)",
          "line": {
           "color": "rgb(8,48,107)",
           "width": 1.5
          }
         },
         "opacity": 0.6,
         "orientation": "h",
         "text": [
          0.2239,
          0.1723,
          0.1018,
          0.0642,
          0.0634,
          0.0581,
          0.0535,
          0.034,
          0.0325,
          0.0283,
          0.0257,
          0.0136,
          0.0125,
          0.0124,
          0.0121,
          0.0119,
          0.0114,
          0.0114,
          0.0093,
          0.009,
          0.0088,
          0.0084,
          0.008,
          0.0078,
          0.0035,
          0.0023
         ],
         "textposition": "outside",
         "type": "bar",
         "uid": "29bd1e0d-4d13-4941-b3cd-16db584a1960",
         "x": [
          0.22386316179443527,
          0.17229333759301446,
          0.10178779867569246,
          0.06418765100384824,
          0.06341372543628426,
          0.05806882448441503,
          0.053541262409467286,
          0.033998035062701104,
          0.03251258471220571,
          0.02833159662232106,
          0.025737548598903575,
          0.013568426028889533,
          0.01250648494707943,
          0.012394234879057059,
          0.012059122090989242,
          0.011883175523302848,
          0.011420749494833207,
          0.011389857647360592,
          0.009286600462930882,
          0.009027101318856003,
          0.008771987162781712,
          0.008384710318160052,
          0.008017169645579074,
          0.0077996823003992615,
          0.003490764806421405,
          0.0022644069800712777
         ],
         "y": [
          "total_count",
          "total_href",
          "link_href_out_of_domain",
          "p_count",
          "script_async_true",
          "a_href_https",
          "script_src_out_of_domain",
          "meta_count",
          "push",
          "link_href_http",
          "link_type_text/css",
          "form_action_http",
          "link_href_.css",
          "window.addEventListener",
          "window.setTimeout",
          "indexOf",
          "replace",
          "strong_count",
          "center_count",
          "a_href_.com",
          "link_type_application/rsd+xml",
          "document.write",
          "link_rel_shortlink",
          "iframe_src_https",
          "find",
          "get"
         ]
        }
       ],
       "layout": {
        "autosize": false,
        "height": 1000,
        "width": 1000,
        "xaxis": {
         "tickfont": {
          "color": "black",
          "size": 12
         },
         "title": "Feature Importances"
        },
        "yaxis": {
         "automargin": true
        }
       }
      },
      "text/html": [
       "<div id=\"c549bc77-9b81-4c62-9372-35af8878fd60\" style=\"height: 1000px; width: 1000px;\" class=\"plotly-graph-div\"></div><script type=\"text/javascript\">require([\"plotly\"], function(Plotly) { window.PLOTLYENV=window.PLOTLYENV || {};window.PLOTLYENV.BASE_URL=\"https://plot.ly\";Plotly.newPlot(\"c549bc77-9b81-4c62-9372-35af8878fd60\", [{\"marker\": {\"color\": \"rgb(158,202,225)\", \"line\": {\"color\": \"rgb(8,48,107)\", \"width\": 1.5}}, \"opacity\": 0.6, \"orientation\": \"h\", \"text\": [0.2239, 0.1723, 0.1018, 0.0642, 0.0634, 0.0581, 0.0535, 0.034, 0.0325, 0.0283, 0.0257, 0.0136, 0.0125, 0.0124, 0.0121, 0.0119, 0.0114, 0.0114, 0.0093, 0.009, 0.0088, 0.0084, 0.008, 0.0078, 0.0035, 0.0023], \"textposition\": \"outside\", \"x\": [0.22386316179443527, 0.17229333759301446, 0.10178779867569246, 0.06418765100384824, 0.06341372543628426, 0.05806882448441503, 0.053541262409467286, 0.033998035062701104, 0.03251258471220571, 0.02833159662232106, 0.025737548598903575, 0.013568426028889533, 0.01250648494707943, 0.012394234879057059, 0.012059122090989242, 0.011883175523302848, 0.011420749494833207, 0.011389857647360592, 0.009286600462930882, 0.009027101318856003, 0.008771987162781712, 0.008384710318160052, 0.008017169645579074, 0.0077996823003992615, 0.003490764806421405, 0.0022644069800712777], \"y\": [\"total_count\", \"total_href\", \"link_href_out_of_domain\", \"p_count\", \"script_async_true\", \"a_href_https\", \"script_src_out_of_domain\", \"meta_count\", \"push\", \"link_href_http\", \"link_type_text/css\", \"form_action_http\", \"link_href_.css\", \"window.addEventListener\", \"window.setTimeout\", \"indexOf\", \"replace\", \"strong_count\", \"center_count\", \"a_href_.com\", \"link_type_application/rsd+xml\", \"document.write\", \"link_rel_shortlink\", \"iframe_src_https\", \"find\", \"get\"], \"type\": \"bar\", \"uid\": \"29bd1e0d-4d13-4941-b3cd-16db584a1960\"}], {\"autosize\": false, \"height\": 1000, \"width\": 1000, \"xaxis\": {\"tickfont\": {\"color\": \"black\", \"size\": 12}, \"title\": \"Feature Importances\"}, \"yaxis\": {\"automargin\": true}}, {\"showLink\": true, \"linkText\": \"Export to plot.ly\", \"plotlyServerURL\": \"https://plot.ly\"})});</script>"
      ],
      "text/vnd.plotly.v1+html": [
       "<div id=\"c549bc77-9b81-4c62-9372-35af8878fd60\" style=\"height: 1000px; width: 1000px;\" class=\"plotly-graph-div\"></div><script type=\"text/javascript\">require([\"plotly\"], function(Plotly) { window.PLOTLYENV=window.PLOTLYENV || {};window.PLOTLYENV.BASE_URL=\"https://plot.ly\";Plotly.newPlot(\"c549bc77-9b81-4c62-9372-35af8878fd60\", [{\"marker\": {\"color\": \"rgb(158,202,225)\", \"line\": {\"color\": \"rgb(8,48,107)\", \"width\": 1.5}}, \"opacity\": 0.6, \"orientation\": \"h\", \"text\": [0.2239, 0.1723, 0.1018, 0.0642, 0.0634, 0.0581, 0.0535, 0.034, 0.0325, 0.0283, 0.0257, 0.0136, 0.0125, 0.0124, 0.0121, 0.0119, 0.0114, 0.0114, 0.0093, 0.009, 0.0088, 0.0084, 0.008, 0.0078, 0.0035, 0.0023], \"textposition\": \"outside\", \"x\": [0.22386316179443527, 0.17229333759301446, 0.10178779867569246, 0.06418765100384824, 0.06341372543628426, 0.05806882448441503, 0.053541262409467286, 0.033998035062701104, 0.03251258471220571, 0.02833159662232106, 0.025737548598903575, 0.013568426028889533, 0.01250648494707943, 0.012394234879057059, 0.012059122090989242, 0.011883175523302848, 0.011420749494833207, 0.011389857647360592, 0.009286600462930882, 0.009027101318856003, 0.008771987162781712, 0.008384710318160052, 0.008017169645579074, 0.0077996823003992615, 0.003490764806421405, 0.0022644069800712777], \"y\": [\"total_count\", \"total_href\", \"link_href_out_of_domain\", \"p_count\", \"script_async_true\", \"a_href_https\", \"script_src_out_of_domain\", \"meta_count\", \"push\", \"link_href_http\", \"link_type_text/css\", \"form_action_http\", \"link_href_.css\", \"window.addEventListener\", \"window.setTimeout\", \"indexOf\", \"replace\", \"strong_count\", \"center_count\", \"a_href_.com\", \"link_type_application/rsd+xml\", \"document.write\", \"link_rel_shortlink\", \"iframe_src_https\", \"find\", \"get\"], \"type\": \"bar\", \"uid\": \"29bd1e0d-4d13-4941-b3cd-16db584a1960\"}], {\"autosize\": false, \"height\": 1000, \"width\": 1000, \"xaxis\": {\"tickfont\": {\"color\": \"black\", \"size\": 12}, \"title\": \"Feature Importances\"}, \"yaxis\": {\"automargin\": true}}, {\"showLink\": true, \"linkText\": \"Export to plot.ly\", \"plotlyServerURL\": \"https://plot.ly\"})});</script>"
      ]
     },
     "metadata": {},
     "output_type": "display_data"
    }
   ],
   "source": [
    "feat_impt_plot(np.average(feat_imp,axis=0),columns)"
   ]
  },
  {
   "cell_type": "markdown",
   "metadata": {},
   "source": [
    "### <a id='4' style=\"text-decoration : none; color : #000000;\">4. Feature Transformation with feature selection </a>"
   ]
  },
  {
   "cell_type": "code",
   "execution_count": 33,
   "metadata": {},
   "outputs": [
    {
     "name": "stdout",
     "output_type": "stream",
     "text": [
      "Built 1326 features\n",
      "EntitySet scattered to workers in 4.623 seconds\n",
      "Elapsed: 00:06 | Remaining: 00:00 | Progress: 100%|██████████| Calculated: 11/11 chunks\n"
     ]
    }
   ],
   "source": [
    "df_sel.reset_index(inplace=True)\n",
    "\n",
    "# columns=columns.tolist()\n",
    "columns.append('domain')\n",
    "\n",
    "df_min=df_sel[columns]\n",
    "\n",
    "es = ft.EntitySet(id = 'malicious')\n",
    "es.entity_from_dataframe(entity_id = 'data', dataframe = df_min, index = 'domain')\n",
    "\n",
    "feature_matrix_sessions, features_defs = ft.dfs(entityset=es,target_entity=\"data\",\n",
    "                                                trans_primitives = ['add','divide','multiply'],n_jobs=-1,\n",
    "                                                verbose=1,max_depth=1)"
   ]
  },
  {
   "cell_type": "code",
   "execution_count": 34,
   "metadata": {},
   "outputs": [],
   "source": [
    "df_sel.set_index(['domain'],drop=True,inplace=True)\n",
    "fs=pd.merge(feature_matrix_sessions,pd.DataFrame(df_sel.Target),left_index=True, right_index=True)\n",
    "fs.replace([np.inf],0,inplace=True)\n",
    "fs.fillna(value=0,inplace=True)"
   ]
  },
  {
   "cell_type": "code",
   "execution_count": 35,
   "metadata": {},
   "outputs": [],
   "source": [
    "X=fs.loc[:,fs.columns!='Target']\n",
    "y=fs.Target\n",
    "feature_name = X.columns.tolist()"
   ]
  },
  {
   "cell_type": "code",
   "execution_count": 36,
   "metadata": {
    "scrolled": true
   },
   "outputs": [
    {
     "name": "stderr",
     "output_type": "stream",
     "text": [
      "distributed.client - ERROR - Failed to reconnect to scheduler after 10.00 seconds, closing client\n",
      "distributed.utils - ERROR - \n",
      "Traceback (most recent call last):\n",
      "  File \"/nethomes/darshan/anaconda3/lib/python3.6/site-packages/distributed/utils.py\", line 713, in log_errors\n",
      "    yield\n",
      "  File \"/nethomes/darshan/anaconda3/lib/python3.6/site-packages/distributed/client.py\", line 1223, in _close\n",
      "    quiet_exceptions=(CancelledError,),\n",
      "  File \"/nethomes/darshan/anaconda3/lib/python3.6/site-packages/tornado/gen.py\", line 584, in with_timeout\n",
      "    chain_future(future_converted, result)\n",
      "  File \"/nethomes/darshan/anaconda3/lib/python3.6/site-packages/tornado/concurrent.py\", line 166, in chain_future\n",
      "    future_add_done_callback(a, copy)\n",
      "  File \"/nethomes/darshan/anaconda3/lib/python3.6/site-packages/tornado/concurrent.py\", line 262, in future_add_done_callback\n",
      "    callback(future)\n",
      "  File \"/nethomes/darshan/anaconda3/lib/python3.6/site-packages/tornado/concurrent.py\", line 160, in copy\n",
      "    elif a.exception() is not None:\n",
      "concurrent.futures._base.CancelledError\n",
      "distributed.utils - ERROR - \n",
      "Traceback (most recent call last):\n",
      "  File \"/nethomes/darshan/anaconda3/lib/python3.6/site-packages/distributed/utils.py\", line 713, in log_errors\n",
      "    yield\n",
      "  File \"/nethomes/darshan/anaconda3/lib/python3.6/site-packages/distributed/client.py\", line 992, in _reconnect\n",
      "    yield self._close()\n",
      "  File \"/nethomes/darshan/anaconda3/lib/python3.6/site-packages/tornado/gen.py\", line 729, in run\n",
      "    value = future.result()\n",
      "  File \"/nethomes/darshan/anaconda3/lib/python3.6/site-packages/tornado/gen.py\", line 209, in wrapper\n",
      "    yielded = next(result)\n",
      "  File \"/nethomes/darshan/anaconda3/lib/python3.6/site-packages/distributed/client.py\", line 1223, in _close\n",
      "    quiet_exceptions=(CancelledError,),\n",
      "  File \"/nethomes/darshan/anaconda3/lib/python3.6/site-packages/tornado/gen.py\", line 584, in with_timeout\n",
      "    chain_future(future_converted, result)\n",
      "  File \"/nethomes/darshan/anaconda3/lib/python3.6/site-packages/tornado/concurrent.py\", line 166, in chain_future\n",
      "    future_add_done_callback(a, copy)\n",
      "  File \"/nethomes/darshan/anaconda3/lib/python3.6/site-packages/tornado/concurrent.py\", line 262, in future_add_done_callback\n",
      "    callback(future)\n",
      "  File \"/nethomes/darshan/anaconda3/lib/python3.6/site-packages/tornado/concurrent.py\", line 160, in copy\n",
      "    elif a.exception() is not None:\n",
      "concurrent.futures._base.CancelledError\n"
     ]
    }
   ],
   "source": [
    "def cor_selector(X, y):\n",
    "    cor_list = []\n",
    "    # calculate the correlation with y for each feature\n",
    "    for i in X.columns.tolist():\n",
    "        cor = np.corrcoef(X[i], y)[0, 1]\n",
    "        cor_list.append(cor)\n",
    "    # replace NaN with 0\n",
    "    cor_list = [0 if np.isnan(i) else i for i in cor_list]\n",
    "    # feature name\n",
    "    cor_feature = X.iloc[:,np.argsort(np.abs(cor_list))[-100:]].columns.tolist()\n",
    "    # feature selection? 0 for not select, 1 for select\n",
    "    cor_support = [True if i in cor_feature else False for i in feature_name]\n",
    "    return cor_support, cor_feature\n",
    "\n",
    "\n",
    "cor_support, cor_feature = cor_selector(X, y)"
   ]
  },
  {
   "cell_type": "code",
   "execution_count": 37,
   "metadata": {
    "scrolled": true
   },
   "outputs": [],
   "source": [
    "X_norm = MinMaxScaler().fit_transform(X)\n",
    "chi_selector = SelectKBest(chi2, k=100)\n",
    "chi_selector.fit(X_norm, y)\n",
    "chi_support = chi_selector.get_support()\n",
    "chi_feature = X.loc[:,chi_support].columns.tolist()\n",
    "\n",
    "rfe_selector = RFE(estimator=LogisticRegression(random_state=0), n_features_to_select=100, step=0.3, verbose=False)\n",
    "rfe_selector.fit(X_norm, y)\n",
    "rfe_support = rfe_selector.get_support()\n",
    "rfe_feature = X.loc[:,rfe_support].columns.tolist()\n",
    "\n",
    "embeded_rf_selector = SelectFromModel(RandomForestClassifier(n_estimators=100,random_state=0), threshold='23*median')\n",
    "embeded_rf_selector.fit(X, y)\n",
    "embeded_rf_support = embeded_rf_selector.get_support()\n",
    "embeded_rf_feature = X.loc[:,embeded_rf_support].columns.tolist()\n",
    "\n",
    "feature_selection_df = pd.DataFrame({'Feature':feature_name, 'Pearson':cor_support, 'Chi-2':chi_support, 'RFE':rfe_support,\n",
    "                                    'Random Forest':embeded_rf_support})\n",
    "# count the selected times for each feature\n",
    "feature_selection_df['Total'] = np.sum(feature_selection_df, axis=1)\n",
    "# display the top 100\n",
    "feature_selection_df = feature_selection_df.sort_values(['Total','Feature'] , ascending=False)\n",
    "feature_selection_df.index = range(1, len(feature_selection_df)+1)"
   ]
  },
  {
   "cell_type": "code",
   "execution_count": 38,
   "metadata": {},
   "outputs": [
    {
     "name": "stdout",
     "output_type": "stream",
     "text": [
      "The train/test split ratio is 70:30\n"
     ]
    },
    {
     "data": {
      "text/plain": [
       "(40709, 40)"
      ]
     },
     "execution_count": 38,
     "metadata": {},
     "output_type": "execute_result"
    }
   ],
   "source": [
    "X=fs[feature_selection_df[feature_selection_df.Total>=3]['Feature']]\n",
    "X.fillna(value=0,inplace=True)\n",
    "y=fs.Target.values\n",
    "feature_name = X.columns.tolist()\n",
    "\n",
    "scaler=StandardScaler()\n",
    "scaled_X=scaler.fit_transform(X)\n",
    "\n",
    "print(\"The train/test split ratio is 70:30\")\n",
    "X_train, X_test, Y_train, Y_test = train_test_split(scaled_X,y,random_state=0,test_size=0.3)\n",
    "\n",
    "X.shape"
   ]
  },
  {
   "cell_type": "code",
   "execution_count": 39,
   "metadata": {},
   "outputs": [
    {
     "data": {
      "text/plain": [
       "['total_count',\n",
       " 'strong_count + total_count',\n",
       " 'script_src_out_of_domain + total_count',\n",
       " 'script_async_true + total_count',\n",
       " 'script_async_true + script_src_out_of_domain',\n",
       " 'p_count + total_count',\n",
       " 'meta_count + total_count',\n",
       " 'link_type_text/css + total_count',\n",
       " 'link_type_application/rsd+xml + total_count',\n",
       " 'link_rel_shortlink + total_count',\n",
       " 'link_href_out_of_domain + total_count',\n",
       " 'link_href_http + total_count',\n",
       " 'link_href_.css + total_count',\n",
       " 'js_function_.replace( + total_count',\n",
       " 'js_function_.push( + total_count',\n",
       " 'js_function_.indexOf( + total_count',\n",
       " 'js_function_.get( + total_count',\n",
       " 'js_function_.find( + total_count',\n",
       " 'iframe_src_https + total_count',\n",
       " 'form_action_http + total_count',\n",
       " 'dom_function_window.addEventListener( + total_count',\n",
       " 'dom_function_document.write( + total_count',\n",
       " 'center_count + total_count',\n",
       " 'a_href_.com + total_count',\n",
       " 'total_href / total_count',\n",
       " 'total_count / link_href_out_of_domain',\n",
       " 'total_count + total_href',\n",
       " 'script_src_out_of_domain',\n",
       " 'link_type_application/rsd+xml + script_src_out_of_domain',\n",
       " 'link_rel_shortlink + script_src_out_of_domain',\n",
       " 'link_href_.css + script_src_out_of_domain',\n",
       " 'js_function_.indexOf( + script_async_true',\n",
       " 'js_function_.get( + script_async_true',\n",
       " 'iframe_src_https + script_src_out_of_domain',\n",
       " 'form_action_http + script_src_out_of_domain',\n",
       " 'dom_function_window.setTimeout( + total_count',\n",
       " 'dom_function_window.setTimeout( + script_src_out_of_domain',\n",
       " 'dom_function_window.addEventListener( + script_src_out_of_domain',\n",
       " 'a_href_https / total_href',\n",
       " 'a_href_https + total_count']"
      ]
     },
     "execution_count": 39,
     "metadata": {},
     "output_type": "execute_result"
    }
   ],
   "source": [
    "feature_name"
   ]
  },
  {
   "cell_type": "code",
   "execution_count": 40,
   "metadata": {},
   "outputs": [],
   "source": [
    "fs=fs.reindex(df_sel.index.values)\n",
    "\n",
    "train=fs.iloc[:32567]\n",
    "train_Y=train.Target.values\n",
    "train_X=train[feature_name].values\n",
    "\n",
    "\n",
    "scaler=StandardScaler()\n",
    "scaled_X_train=scaler.fit_transform(train_X)\n",
    "\n",
    "test=fs.iloc[32567:]\n",
    "test_Y=test.Target.values\n",
    "test_X=test[feature_name]\n",
    "\n",
    "scaled_X_test=scaler.transform(test_X)"
   ]
  },
  {
   "cell_type": "code",
   "execution_count": 41,
   "metadata": {
    "scrolled": false
   },
   "outputs": [
    {
     "name": "stdout",
     "output_type": "stream",
     "text": [
      "\u001b[1mK-Nearest Neighbors\u001b[0m\n",
      "Accuracy of the model for training data is: 0.8726625111308994\n",
      "Confusion Matrix for training data is:\n"
     ]
    },
    {
     "data": {
      "text/plain": [
       "Predicted  False  True  __all__\n",
       "Actual                         \n",
       "False      27697   141    27838\n",
       "True        4006   723     4729\n",
       "__all__    31703   864    32567"
      ]
     },
     "metadata": {},
     "output_type": "display_data"
    },
    {
     "name": "stdout",
     "output_type": "stream",
     "text": [
      "Accuracy of the model for test data is: 0.8650208793908131\n",
      "Confusion Matrix for test data is:\n"
     ]
    },
    {
     "data": {
      "text/plain": [
       "Predicted  False  True  __all__\n",
       "Actual                         \n",
       "False       6895    45     6940\n",
       "True        1054   148     1202\n",
       "__all__     7949   193     8142"
      ]
     },
     "metadata": {},
     "output_type": "display_data"
    },
    {
     "name": "stdout",
     "output_type": "stream",
     "text": [
      "\n",
      "\n",
      "\u001b[1mLogistic Regression\u001b[0m\n",
      "Accuracy of the model for training data is: 0.8759787514969141\n",
      "Confusion Matrix for training data is:\n"
     ]
    },
    {
     "data": {
      "text/plain": [
       "Predicted  False  True  __all__\n",
       "Actual                         \n",
       "False      24700  3138    27838\n",
       "True         901  3828     4729\n",
       "__all__    25601  6966    32567"
      ]
     },
     "metadata": {},
     "output_type": "display_data"
    },
    {
     "name": "stdout",
     "output_type": "stream",
     "text": [
      "Accuracy of the model for test data is: 0.8774256939326947\n",
      "Confusion Matrix for test data is:\n"
     ]
    },
    {
     "data": {
      "text/plain": [
       "Predicted  False  True  __all__\n",
       "Actual                         \n",
       "False       6156   784     6940\n",
       "True         214   988     1202\n",
       "__all__     6370  1772     8142"
      ]
     },
     "metadata": {},
     "output_type": "display_data"
    },
    {
     "name": "stdout",
     "output_type": "stream",
     "text": [
      "\n",
      "\n",
      "\u001b[1mRandomForest Classifier\u001b[0m\n",
      "Accuracy of the model for training data is: 0.9255074154819296\n",
      "Confusion Matrix for training data is:\n"
     ]
    },
    {
     "data": {
      "text/plain": [
       "Predicted  False  True  __all__\n",
       "Actual                         \n",
       "False      25614  2224    27838\n",
       "True         202  4527     4729\n",
       "__all__    25816  6751    32567"
      ]
     },
     "metadata": {},
     "output_type": "display_data"
    },
    {
     "name": "stdout",
     "output_type": "stream",
     "text": [
      "Accuracy of the model for test data is: 0.9109555391795627\n",
      "Confusion Matrix for test data is:\n"
     ]
    },
    {
     "data": {
      "text/plain": [
       "Predicted  False  True  __all__\n",
       "Actual                         \n",
       "False       6360   580     6940\n",
       "True         145  1057     1202\n",
       "__all__     6505  1637     8142"
      ]
     },
     "metadata": {},
     "output_type": "display_data"
    },
    {
     "data": {
      "application/vnd.plotly.v1+json": {
       "config": {
        "linkText": "Export to plot.ly",
        "plotlyServerURL": "https://plot.ly",
        "showLink": true
       },
       "data": [
        {
         "marker": {
          "color": "rgb(158,202,225)",
          "line": {
           "color": "rgb(8,48,107)",
           "width": 1.5
          }
         },
         "opacity": 0.6,
         "orientation": "h",
         "text": [
          0.2512,
          0.0903,
          0.082,
          0.0725,
          0.0693,
          0.0674,
          0.0667,
          0.0229,
          0.0192,
          0.0182,
          0.0173,
          0.0139,
          0.0135,
          0.0126,
          0.012,
          0.0119,
          0.0118,
          0.0113,
          0.0096,
          0.0095,
          0.0088,
          0.0086,
          0.0076,
          0.0075,
          0.0072,
          0.0069,
          0.0068,
          0.0068,
          0.0064,
          0.0061,
          0.006,
          0.0058,
          0.0051,
          0.0044,
          0.0044,
          0.004,
          0.0039,
          0.0036,
          0.0035,
          0.0033
         ],
         "textposition": "outside",
         "type": "bar",
         "uid": "37f2bc8f-73e8-48f7-a2b1-3f3c5a1669c0",
         "x": [
          0.2512198534523103,
          0.09030804753382046,
          0.08201086668473485,
          0.07246897575479094,
          0.06928069104446949,
          0.06735392558299022,
          0.06665390969451387,
          0.022910592323502597,
          0.01924055319468759,
          0.01816440291531834,
          0.017321885872226637,
          0.013874665248054847,
          0.013534172406546467,
          0.01262694429955432,
          0.012046793420433462,
          0.01193964373735516,
          0.011767742138387546,
          0.01133028280266989,
          0.009644298195130309,
          0.009542901025571487,
          0.008772908724772448,
          0.008624928450355443,
          0.007624043171989272,
          0.0075311401698720795,
          0.007156761612078592,
          0.006900767415355064,
          0.006837502275956404,
          0.00678874015951789,
          0.006443164544069967,
          0.006125420283230587,
          0.005999780503828578,
          0.005773752957228999,
          0.0051363431731240436,
          0.004397001338520771,
          0.004392555455297767,
          0.003982266588085519,
          0.0038666339440581645,
          0.0036188216484162586,
          0.003515910096167652,
          0.0032704101610058624
         ],
         "y": [
          "get + total_count",
          "push + total_count",
          "a_href_https + total_count",
          "indexOf + total_count",
          "replace + total_count",
          "find + total_count",
          "iframe_src_https + total_count",
          "meta_count + total_count",
          "p_count + total_count",
          "total_count + total_href",
          "total_href / total_count",
          "strong_count + total_count",
          "script_src_out_of_domain + total_count",
          "script_async_true + total_count",
          "total_count / link_href_out_of_domain",
          "form_action_http + total_count",
          "a_href_.com + total_count",
          "document.write + total_count",
          "link_type_text/css + total_count",
          "link_href_out_of_domain + total_count",
          "a_href_https / total_href",
          "indexOf + script_async_true",
          "link_href_.css + script_src_out_of_domain",
          "link_href_.css + total_count",
          "get + script_async_true",
          "window.setTimeout + total_count",
          "total_count",
          "link_href_http + total_count",
          "window.addEventListener + total_count",
          "link_rel_shortlink + total_count",
          "center_count + total_count",
          "script_async_true + script_src_out_of_domain",
          "window.setTimeout + script_src_out_of_domain",
          "iframe_src_https + script_src_out_of_domain",
          "link_type_application/rsd+xml + total_count",
          "link_type_application/rsd+xml + script_src_out_of_domain",
          "form_action_http + script_src_out_of_domain",
          "link_rel_shortlink + script_src_out_of_domain",
          "window.addEventListener + script_src_out_of_domain",
          "script_src_out_of_domain"
         ]
        }
       ],
       "layout": {
        "autosize": false,
        "height": 1000,
        "width": 1000,
        "xaxis": {
         "tickfont": {
          "color": "black",
          "size": 12
         },
         "title": "Feature Importances"
        },
        "yaxis": {
         "automargin": true
        }
       }
      },
      "text/html": [
       "<div id=\"b431b096-d2d8-44a9-9790-b49d9057e4de\" style=\"height: 1000px; width: 1000px;\" class=\"plotly-graph-div\"></div><script type=\"text/javascript\">require([\"plotly\"], function(Plotly) { window.PLOTLYENV=window.PLOTLYENV || {};window.PLOTLYENV.BASE_URL=\"https://plot.ly\";Plotly.newPlot(\"b431b096-d2d8-44a9-9790-b49d9057e4de\", [{\"marker\": {\"color\": \"rgb(158,202,225)\", \"line\": {\"color\": \"rgb(8,48,107)\", \"width\": 1.5}}, \"opacity\": 0.6, \"orientation\": \"h\", \"text\": [0.2512, 0.0903, 0.082, 0.0725, 0.0693, 0.0674, 0.0667, 0.0229, 0.0192, 0.0182, 0.0173, 0.0139, 0.0135, 0.0126, 0.012, 0.0119, 0.0118, 0.0113, 0.0096, 0.0095, 0.0088, 0.0086, 0.0076, 0.0075, 0.0072, 0.0069, 0.0068, 0.0068, 0.0064, 0.0061, 0.006, 0.0058, 0.0051, 0.0044, 0.0044, 0.004, 0.0039, 0.0036, 0.0035, 0.0033], \"textposition\": \"outside\", \"x\": [0.2512198534523103, 0.09030804753382046, 0.08201086668473485, 0.07246897575479094, 0.06928069104446949, 0.06735392558299022, 0.06665390969451387, 0.022910592323502597, 0.01924055319468759, 0.01816440291531834, 0.017321885872226637, 0.013874665248054847, 0.013534172406546467, 0.01262694429955432, 0.012046793420433462, 0.01193964373735516, 0.011767742138387546, 0.01133028280266989, 0.009644298195130309, 0.009542901025571487, 0.008772908724772448, 0.008624928450355443, 0.007624043171989272, 0.0075311401698720795, 0.007156761612078592, 0.006900767415355064, 0.006837502275956404, 0.00678874015951789, 0.006443164544069967, 0.006125420283230587, 0.005999780503828578, 0.005773752957228999, 0.0051363431731240436, 0.004397001338520771, 0.004392555455297767, 0.003982266588085519, 0.0038666339440581645, 0.0036188216484162586, 0.003515910096167652, 0.0032704101610058624], \"y\": [\"get + total_count\", \"push + total_count\", \"a_href_https + total_count\", \"indexOf + total_count\", \"replace + total_count\", \"find + total_count\", \"iframe_src_https + total_count\", \"meta_count + total_count\", \"p_count + total_count\", \"total_count + total_href\", \"total_href / total_count\", \"strong_count + total_count\", \"script_src_out_of_domain + total_count\", \"script_async_true + total_count\", \"total_count / link_href_out_of_domain\", \"form_action_http + total_count\", \"a_href_.com + total_count\", \"document.write + total_count\", \"link_type_text/css + total_count\", \"link_href_out_of_domain + total_count\", \"a_href_https / total_href\", \"indexOf + script_async_true\", \"link_href_.css + script_src_out_of_domain\", \"link_href_.css + total_count\", \"get + script_async_true\", \"window.setTimeout + total_count\", \"total_count\", \"link_href_http + total_count\", \"window.addEventListener + total_count\", \"link_rel_shortlink + total_count\", \"center_count + total_count\", \"script_async_true + script_src_out_of_domain\", \"window.setTimeout + script_src_out_of_domain\", \"iframe_src_https + script_src_out_of_domain\", \"link_type_application/rsd+xml + total_count\", \"link_type_application/rsd+xml + script_src_out_of_domain\", \"form_action_http + script_src_out_of_domain\", \"link_rel_shortlink + script_src_out_of_domain\", \"window.addEventListener + script_src_out_of_domain\", \"script_src_out_of_domain\"], \"type\": \"bar\", \"uid\": \"37f2bc8f-73e8-48f7-a2b1-3f3c5a1669c0\"}], {\"autosize\": false, \"height\": 1000, \"width\": 1000, \"xaxis\": {\"tickfont\": {\"color\": \"black\", \"size\": 12}, \"title\": \"Feature Importances\"}, \"yaxis\": {\"automargin\": true}}, {\"showLink\": true, \"linkText\": \"Export to plot.ly\", \"plotlyServerURL\": \"https://plot.ly\"})});</script>"
      ],
      "text/vnd.plotly.v1+html": [
       "<div id=\"b431b096-d2d8-44a9-9790-b49d9057e4de\" style=\"height: 1000px; width: 1000px;\" class=\"plotly-graph-div\"></div><script type=\"text/javascript\">require([\"plotly\"], function(Plotly) { window.PLOTLYENV=window.PLOTLYENV || {};window.PLOTLYENV.BASE_URL=\"https://plot.ly\";Plotly.newPlot(\"b431b096-d2d8-44a9-9790-b49d9057e4de\", [{\"marker\": {\"color\": \"rgb(158,202,225)\", \"line\": {\"color\": \"rgb(8,48,107)\", \"width\": 1.5}}, \"opacity\": 0.6, \"orientation\": \"h\", \"text\": [0.2512, 0.0903, 0.082, 0.0725, 0.0693, 0.0674, 0.0667, 0.0229, 0.0192, 0.0182, 0.0173, 0.0139, 0.0135, 0.0126, 0.012, 0.0119, 0.0118, 0.0113, 0.0096, 0.0095, 0.0088, 0.0086, 0.0076, 0.0075, 0.0072, 0.0069, 0.0068, 0.0068, 0.0064, 0.0061, 0.006, 0.0058, 0.0051, 0.0044, 0.0044, 0.004, 0.0039, 0.0036, 0.0035, 0.0033], \"textposition\": \"outside\", \"x\": [0.2512198534523103, 0.09030804753382046, 0.08201086668473485, 0.07246897575479094, 0.06928069104446949, 0.06735392558299022, 0.06665390969451387, 0.022910592323502597, 0.01924055319468759, 0.01816440291531834, 0.017321885872226637, 0.013874665248054847, 0.013534172406546467, 0.01262694429955432, 0.012046793420433462, 0.01193964373735516, 0.011767742138387546, 0.01133028280266989, 0.009644298195130309, 0.009542901025571487, 0.008772908724772448, 0.008624928450355443, 0.007624043171989272, 0.0075311401698720795, 0.007156761612078592, 0.006900767415355064, 0.006837502275956404, 0.00678874015951789, 0.006443164544069967, 0.006125420283230587, 0.005999780503828578, 0.005773752957228999, 0.0051363431731240436, 0.004397001338520771, 0.004392555455297767, 0.003982266588085519, 0.0038666339440581645, 0.0036188216484162586, 0.003515910096167652, 0.0032704101610058624], \"y\": [\"get + total_count\", \"push + total_count\", \"a_href_https + total_count\", \"indexOf + total_count\", \"replace + total_count\", \"find + total_count\", \"iframe_src_https + total_count\", \"meta_count + total_count\", \"p_count + total_count\", \"total_count + total_href\", \"total_href / total_count\", \"strong_count + total_count\", \"script_src_out_of_domain + total_count\", \"script_async_true + total_count\", \"total_count / link_href_out_of_domain\", \"form_action_http + total_count\", \"a_href_.com + total_count\", \"document.write + total_count\", \"link_type_text/css + total_count\", \"link_href_out_of_domain + total_count\", \"a_href_https / total_href\", \"indexOf + script_async_true\", \"link_href_.css + script_src_out_of_domain\", \"link_href_.css + total_count\", \"get + script_async_true\", \"window.setTimeout + total_count\", \"total_count\", \"link_href_http + total_count\", \"window.addEventListener + total_count\", \"link_rel_shortlink + total_count\", \"center_count + total_count\", \"script_async_true + script_src_out_of_domain\", \"window.setTimeout + script_src_out_of_domain\", \"iframe_src_https + script_src_out_of_domain\", \"link_type_application/rsd+xml + total_count\", \"link_type_application/rsd+xml + script_src_out_of_domain\", \"form_action_http + script_src_out_of_domain\", \"link_rel_shortlink + script_src_out_of_domain\", \"window.addEventListener + script_src_out_of_domain\", \"script_src_out_of_domain\"], \"type\": \"bar\", \"uid\": \"37f2bc8f-73e8-48f7-a2b1-3f3c5a1669c0\"}], {\"autosize\": false, \"height\": 1000, \"width\": 1000, \"xaxis\": {\"tickfont\": {\"color\": \"black\", \"size\": 12}, \"title\": \"Feature Importances\"}, \"yaxis\": {\"automargin\": true}}, {\"showLink\": true, \"linkText\": \"Export to plot.ly\", \"plotlyServerURL\": \"https://plot.ly\"})});</script>"
      ]
     },
     "metadata": {},
     "output_type": "display_data"
    },
    {
     "name": "stdout",
     "output_type": "stream",
     "text": [
      "\n",
      "\n",
      "\u001b[1mAdaoost Classifier\u001b[0m\n",
      "Accuracy of the model for training data is: 0.8988239629072374\n",
      "Confusion Matrix for training data is:\n"
     ]
    },
    {
     "data": {
      "text/plain": [
       "Predicted  False  True  __all__\n",
       "Actual                         \n",
       "False      25555  2283    27838\n",
       "True        1012  3717     4729\n",
       "__all__    26567  6000    32567"
      ]
     },
     "metadata": {},
     "output_type": "display_data"
    },
    {
     "name": "stdout",
     "output_type": "stream",
     "text": [
      "Accuracy of the model for test data is: 0.897322525178089\n",
      "Confusion Matrix for test data is:\n"
     ]
    },
    {
     "data": {
      "text/plain": [
       "Predicted  False  True  __all__\n",
       "Actual                         \n",
       "False       6366   574     6940\n",
       "True         262   940     1202\n",
       "__all__     6628  1514     8142"
      ]
     },
     "metadata": {},
     "output_type": "display_data"
    },
    {
     "data": {
      "application/vnd.plotly.v1+json": {
       "config": {
        "linkText": "Export to plot.ly",
        "plotlyServerURL": "https://plot.ly",
        "showLink": true
       },
       "data": [
        {
         "marker": {
          "color": "rgb(158,202,225)",
          "line": {
           "color": "rgb(8,48,107)",
           "width": 1.5
          }
         },
         "opacity": 0.6,
         "orientation": "h",
         "text": [
          0.16,
          0.14,
          0.1,
          0.08,
          0.04,
          0.04,
          0.04,
          0.04,
          0.04,
          0.04,
          0.04,
          0.02,
          0.02,
          0.02,
          0.02,
          0.02,
          0.02,
          0.02,
          0.02,
          0.02,
          0.02,
          0.02,
          0.02,
          0,
          0,
          0,
          0,
          0,
          0,
          0,
          0,
          0,
          0,
          0,
          0,
          0,
          0,
          0,
          0,
          0
         ],
         "textposition": "outside",
         "type": "bar",
         "uid": "23424eed-4588-44cf-95f2-f8f97c32d131",
         "x": [
          0.16,
          0.14,
          0.1,
          0.08,
          0.04,
          0.04,
          0.04,
          0.04,
          0.04,
          0.04,
          0.04,
          0.02,
          0.02,
          0.02,
          0.02,
          0.02,
          0.02,
          0.02,
          0.02,
          0.02,
          0.02,
          0.02,
          0.02,
          0,
          0,
          0,
          0,
          0,
          0,
          0,
          0,
          0,
          0,
          0,
          0,
          0,
          0,
          0,
          0,
          0
         ],
         "y": [
          "total_count / link_href_out_of_domain",
          "total_href / total_count",
          "p_count + total_count",
          "indexOf + script_async_true",
          "form_action_http + script_src_out_of_domain",
          "total_count + total_href",
          "push + total_count",
          "a_href_https + total_count",
          "script_async_true + script_src_out_of_domain",
          "a_href_https / total_href",
          "get + script_async_true",
          "window.setTimeout + script_src_out_of_domain",
          "window.setTimeout + total_count",
          "window.addEventListener + script_src_out_of_domain",
          "iframe_src_https + script_src_out_of_domain",
          "meta_count + total_count",
          "indexOf + total_count",
          "link_href_.css + script_src_out_of_domain",
          "link_type_application/rsd+xml + script_src_out_of_domain",
          "script_src_out_of_domain",
          "strong_count + total_count",
          "document.write + total_count",
          "script_src_out_of_domain + total_count",
          "link_rel_shortlink + script_src_out_of_domain",
          "total_count",
          "a_href_.com + total_count",
          "center_count + total_count",
          "form_action_http + total_count",
          "iframe_src_https + total_count",
          "find + total_count",
          "get + total_count",
          "replace + total_count",
          "link_href_.css + total_count",
          "link_href_http + total_count",
          "link_href_out_of_domain + total_count",
          "link_rel_shortlink + total_count",
          "link_type_application/rsd+xml + total_count",
          "link_type_text/css + total_count",
          "script_async_true + total_count",
          "window.addEventListener + total_count"
         ]
        }
       ],
       "layout": {
        "autosize": false,
        "height": 1000,
        "width": 1000,
        "xaxis": {
         "tickfont": {
          "color": "black",
          "size": 12
         },
         "title": "Feature Importances"
        },
        "yaxis": {
         "automargin": true
        }
       }
      },
      "text/html": [
       "<div id=\"599f218e-a3a6-4485-9d90-43032022d1b4\" style=\"height: 1000px; width: 1000px;\" class=\"plotly-graph-div\"></div><script type=\"text/javascript\">require([\"plotly\"], function(Plotly) { window.PLOTLYENV=window.PLOTLYENV || {};window.PLOTLYENV.BASE_URL=\"https://plot.ly\";Plotly.newPlot(\"599f218e-a3a6-4485-9d90-43032022d1b4\", [{\"marker\": {\"color\": \"rgb(158,202,225)\", \"line\": {\"color\": \"rgb(8,48,107)\", \"width\": 1.5}}, \"opacity\": 0.6, \"orientation\": \"h\", \"text\": [0.16, 0.14, 0.1, 0.08, 0.04, 0.04, 0.04, 0.04, 0.04, 0.04, 0.04, 0.02, 0.02, 0.02, 0.02, 0.02, 0.02, 0.02, 0.02, 0.02, 0.02, 0.02, 0.02, 0.0, 0.0, 0.0, 0.0, 0.0, 0.0, 0.0, 0.0, 0.0, 0.0, 0.0, 0.0, 0.0, 0.0, 0.0, 0.0, 0.0], \"textposition\": \"outside\", \"x\": [0.16, 0.14, 0.1, 0.08, 0.04, 0.04, 0.04, 0.04, 0.04, 0.04, 0.04, 0.02, 0.02, 0.02, 0.02, 0.02, 0.02, 0.02, 0.02, 0.02, 0.02, 0.02, 0.02, 0.0, 0.0, 0.0, 0.0, 0.0, 0.0, 0.0, 0.0, 0.0, 0.0, 0.0, 0.0, 0.0, 0.0, 0.0, 0.0, 0.0], \"y\": [\"total_count / link_href_out_of_domain\", \"total_href / total_count\", \"p_count + total_count\", \"indexOf + script_async_true\", \"form_action_http + script_src_out_of_domain\", \"total_count + total_href\", \"push + total_count\", \"a_href_https + total_count\", \"script_async_true + script_src_out_of_domain\", \"a_href_https / total_href\", \"get + script_async_true\", \"window.setTimeout + script_src_out_of_domain\", \"window.setTimeout + total_count\", \"window.addEventListener + script_src_out_of_domain\", \"iframe_src_https + script_src_out_of_domain\", \"meta_count + total_count\", \"indexOf + total_count\", \"link_href_.css + script_src_out_of_domain\", \"link_type_application/rsd+xml + script_src_out_of_domain\", \"script_src_out_of_domain\", \"strong_count + total_count\", \"document.write + total_count\", \"script_src_out_of_domain + total_count\", \"link_rel_shortlink + script_src_out_of_domain\", \"total_count\", \"a_href_.com + total_count\", \"center_count + total_count\", \"form_action_http + total_count\", \"iframe_src_https + total_count\", \"find + total_count\", \"get + total_count\", \"replace + total_count\", \"link_href_.css + total_count\", \"link_href_http + total_count\", \"link_href_out_of_domain + total_count\", \"link_rel_shortlink + total_count\", \"link_type_application/rsd+xml + total_count\", \"link_type_text/css + total_count\", \"script_async_true + total_count\", \"window.addEventListener + total_count\"], \"type\": \"bar\", \"uid\": \"23424eed-4588-44cf-95f2-f8f97c32d131\"}], {\"autosize\": false, \"height\": 1000, \"width\": 1000, \"xaxis\": {\"tickfont\": {\"color\": \"black\", \"size\": 12}, \"title\": \"Feature Importances\"}, \"yaxis\": {\"automargin\": true}}, {\"showLink\": true, \"linkText\": \"Export to plot.ly\", \"plotlyServerURL\": \"https://plot.ly\"})});</script>"
      ],
      "text/vnd.plotly.v1+html": [
       "<div id=\"599f218e-a3a6-4485-9d90-43032022d1b4\" style=\"height: 1000px; width: 1000px;\" class=\"plotly-graph-div\"></div><script type=\"text/javascript\">require([\"plotly\"], function(Plotly) { window.PLOTLYENV=window.PLOTLYENV || {};window.PLOTLYENV.BASE_URL=\"https://plot.ly\";Plotly.newPlot(\"599f218e-a3a6-4485-9d90-43032022d1b4\", [{\"marker\": {\"color\": \"rgb(158,202,225)\", \"line\": {\"color\": \"rgb(8,48,107)\", \"width\": 1.5}}, \"opacity\": 0.6, \"orientation\": \"h\", \"text\": [0.16, 0.14, 0.1, 0.08, 0.04, 0.04, 0.04, 0.04, 0.04, 0.04, 0.04, 0.02, 0.02, 0.02, 0.02, 0.02, 0.02, 0.02, 0.02, 0.02, 0.02, 0.02, 0.02, 0.0, 0.0, 0.0, 0.0, 0.0, 0.0, 0.0, 0.0, 0.0, 0.0, 0.0, 0.0, 0.0, 0.0, 0.0, 0.0, 0.0], \"textposition\": \"outside\", \"x\": [0.16, 0.14, 0.1, 0.08, 0.04, 0.04, 0.04, 0.04, 0.04, 0.04, 0.04, 0.02, 0.02, 0.02, 0.02, 0.02, 0.02, 0.02, 0.02, 0.02, 0.02, 0.02, 0.02, 0.0, 0.0, 0.0, 0.0, 0.0, 0.0, 0.0, 0.0, 0.0, 0.0, 0.0, 0.0, 0.0, 0.0, 0.0, 0.0, 0.0], \"y\": [\"total_count / link_href_out_of_domain\", \"total_href / total_count\", \"p_count + total_count\", \"indexOf + script_async_true\", \"form_action_http + script_src_out_of_domain\", \"total_count + total_href\", \"push + total_count\", \"a_href_https + total_count\", \"script_async_true + script_src_out_of_domain\", \"a_href_https / total_href\", \"get + script_async_true\", \"window.setTimeout + script_src_out_of_domain\", \"window.setTimeout + total_count\", \"window.addEventListener + script_src_out_of_domain\", \"iframe_src_https + script_src_out_of_domain\", \"meta_count + total_count\", \"indexOf + total_count\", \"link_href_.css + script_src_out_of_domain\", \"link_type_application/rsd+xml + script_src_out_of_domain\", \"script_src_out_of_domain\", \"strong_count + total_count\", \"document.write + total_count\", \"script_src_out_of_domain + total_count\", \"link_rel_shortlink + script_src_out_of_domain\", \"total_count\", \"a_href_.com + total_count\", \"center_count + total_count\", \"form_action_http + total_count\", \"iframe_src_https + total_count\", \"find + total_count\", \"get + total_count\", \"replace + total_count\", \"link_href_.css + total_count\", \"link_href_http + total_count\", \"link_href_out_of_domain + total_count\", \"link_rel_shortlink + total_count\", \"link_type_application/rsd+xml + total_count\", \"link_type_text/css + total_count\", \"script_async_true + total_count\", \"window.addEventListener + total_count\"], \"type\": \"bar\", \"uid\": \"23424eed-4588-44cf-95f2-f8f97c32d131\"}], {\"autosize\": false, \"height\": 1000, \"width\": 1000, \"xaxis\": {\"tickfont\": {\"color\": \"black\", \"size\": 12}, \"title\": \"Feature Importances\"}, \"yaxis\": {\"automargin\": true}}, {\"showLink\": true, \"linkText\": \"Export to plot.ly\", \"plotlyServerURL\": \"https://plot.ly\"})});</script>"
      ]
     },
     "metadata": {},
     "output_type": "display_data"
    },
    {
     "name": "stdout",
     "output_type": "stream",
     "text": [
      "\n",
      "\n",
      "\u001b[1mGradientBoosting Classifier\u001b[0m\n",
      "Accuracy of the model for training data is: 0.9103386864003439\n",
      "Confusion Matrix for training data is:\n"
     ]
    },
    {
     "data": {
      "text/plain": [
       "Predicted  False  True  __all__\n",
       "Actual                         \n",
       "False      25620  2218    27838\n",
       "True         702  4027     4729\n",
       "__all__    26322  6245    32567"
      ]
     },
     "metadata": {},
     "output_type": "display_data"
    },
    {
     "name": "stdout",
     "output_type": "stream",
     "text": [
      "Accuracy of the model for test data is: 0.9082535003684599\n",
      "Confusion Matrix for test data is:\n"
     ]
    },
    {
     "data": {
      "text/plain": [
       "Predicted  False  True  __all__\n",
       "Actual                         \n",
       "False       6384   556     6940\n",
       "True         191  1011     1202\n",
       "__all__     6575  1567     8142"
      ]
     },
     "metadata": {},
     "output_type": "display_data"
    },
    {
     "data": {
      "application/vnd.plotly.v1+json": {
       "config": {
        "linkText": "Export to plot.ly",
        "plotlyServerURL": "https://plot.ly",
        "showLink": true
       },
       "data": [
        {
         "marker": {
          "color": "rgb(158,202,225)",
          "line": {
           "color": "rgb(8,48,107)",
           "width": 1.5
          }
         },
         "opacity": 0.6,
         "orientation": "h",
         "text": [
          0.7286,
          0.0416,
          0.0327,
          0.026,
          0.0219,
          0.0198,
          0.0155,
          0.0149,
          0.0145,
          0.014,
          0.0129,
          0.0097,
          0.0071,
          0.0053,
          0.0051,
          0.0046,
          0.0039,
          0.0032,
          0.0025,
          0.0022,
          0.002,
          0.0018,
          0.0017,
          0.0016,
          0.0016,
          0.0013,
          0.0011,
          0.0008,
          0.0007,
          0.0006,
          0.0004,
          0.0002,
          0.0002,
          0.0001,
          0.0001,
          0.0001,
          0,
          0,
          0,
          0
         ],
         "textposition": "outside",
         "type": "bar",
         "uid": "504b50e7-5b17-4522-ae91-7d2fca45a023",
         "x": [
          0.7285593727636241,
          0.04162218754734627,
          0.032744189448209525,
          0.02602301789399606,
          0.021853577339344576,
          0.019840920115287666,
          0.015523726617558827,
          0.01489773589373442,
          0.014455761117614594,
          0.014005865086249136,
          0.012859767161326963,
          0.0096906868413425,
          0.007073520270213641,
          0.005272567467561144,
          0.00506442675849944,
          0.00458964667120321,
          0.003890840101189868,
          0.003227936800393294,
          0.002462648466510966,
          0.0021871314102587867,
          0.001997959534421877,
          0.001780473647106239,
          0.0016746447188833197,
          0.0015902172983956427,
          0.0015536643017546592,
          0.0012715033774209196,
          0.0010769054407590395,
          0.0007751249421250034,
          0.000739188258161278,
          0.0005764320568997785,
          0.00036886106078658297,
          0.0002456674241021155,
          0.0001566018311801352,
          0.00013492324490589175,
          0.00011499409212848365,
          7.820650900265592e-05,
          1.794173297944684e-05,
          1.164757521977873e-06,
          0,
          0
         ],
         "y": [
          "indexOf + total_count",
          "total_count + total_href",
          "p_count + total_count",
          "total_count / link_href_out_of_domain",
          "script_async_true + script_src_out_of_domain",
          "indexOf + script_async_true",
          "a_href_https + total_count",
          "link_href_out_of_domain + total_count",
          "document.write + total_count",
          "a_href_https / total_href",
          "meta_count + total_count",
          "push + total_count",
          "total_href / total_count",
          "window.setTimeout + script_src_out_of_domain",
          "script_src_out_of_domain + total_count",
          "window.addEventListener + script_src_out_of_domain",
          "form_action_http + total_count",
          "window.setTimeout + total_count",
          "link_href_.css + script_src_out_of_domain",
          "find + total_count",
          "link_href_http + total_count",
          "get + total_count",
          "get + script_async_true",
          "script_async_true + total_count",
          "link_type_application/rsd+xml + script_src_out_of_domain",
          "replace + total_count",
          "link_href_.css + total_count",
          "link_type_text/css + total_count",
          "form_action_http + script_src_out_of_domain",
          "link_rel_shortlink + script_src_out_of_domain",
          "strong_count + total_count",
          "window.addEventListener + total_count",
          "total_count",
          "script_src_out_of_domain",
          "a_href_.com + total_count",
          "iframe_src_https + script_src_out_of_domain",
          "link_rel_shortlink + total_count",
          "iframe_src_https + total_count",
          "center_count + total_count",
          "link_type_application/rsd+xml + total_count"
         ]
        }
       ],
       "layout": {
        "autosize": false,
        "height": 1000,
        "width": 1000,
        "xaxis": {
         "tickfont": {
          "color": "black",
          "size": 12
         },
         "title": "Feature Importances"
        },
        "yaxis": {
         "automargin": true
        }
       }
      },
      "text/html": [
       "<div id=\"0724fbb2-d2e6-4c86-90ec-16aa8ce05c77\" style=\"height: 1000px; width: 1000px;\" class=\"plotly-graph-div\"></div><script type=\"text/javascript\">require([\"plotly\"], function(Plotly) { window.PLOTLYENV=window.PLOTLYENV || {};window.PLOTLYENV.BASE_URL=\"https://plot.ly\";Plotly.newPlot(\"0724fbb2-d2e6-4c86-90ec-16aa8ce05c77\", [{\"marker\": {\"color\": \"rgb(158,202,225)\", \"line\": {\"color\": \"rgb(8,48,107)\", \"width\": 1.5}}, \"opacity\": 0.6, \"orientation\": \"h\", \"text\": [0.7286, 0.0416, 0.0327, 0.026, 0.0219, 0.0198, 0.0155, 0.0149, 0.0145, 0.014, 0.0129, 0.0097, 0.0071, 0.0053, 0.0051, 0.0046, 0.0039, 0.0032, 0.0025, 0.0022, 0.002, 0.0018, 0.0017, 0.0016, 0.0016, 0.0013, 0.0011, 0.0008, 0.0007, 0.0006, 0.0004, 0.0002, 0.0002, 0.0001, 0.0001, 0.0001, 0.0, 0.0, 0.0, 0.0], \"textposition\": \"outside\", \"x\": [0.7285593727636241, 0.04162218754734627, 0.032744189448209525, 0.02602301789399606, 0.021853577339344576, 0.019840920115287666, 0.015523726617558827, 0.01489773589373442, 0.014455761117614594, 0.014005865086249136, 0.012859767161326963, 0.0096906868413425, 0.007073520270213641, 0.005272567467561144, 0.00506442675849944, 0.00458964667120321, 0.003890840101189868, 0.003227936800393294, 0.002462648466510966, 0.0021871314102587867, 0.001997959534421877, 0.001780473647106239, 0.0016746447188833197, 0.0015902172983956427, 0.0015536643017546592, 0.0012715033774209196, 0.0010769054407590395, 0.0007751249421250034, 0.000739188258161278, 0.0005764320568997785, 0.00036886106078658297, 0.0002456674241021155, 0.0001566018311801352, 0.00013492324490589175, 0.00011499409212848365, 7.820650900265592e-05, 1.794173297944684e-05, 1.164757521977873e-06, 0.0, 0.0], \"y\": [\"indexOf + total_count\", \"total_count + total_href\", \"p_count + total_count\", \"total_count / link_href_out_of_domain\", \"script_async_true + script_src_out_of_domain\", \"indexOf + script_async_true\", \"a_href_https + total_count\", \"link_href_out_of_domain + total_count\", \"document.write + total_count\", \"a_href_https / total_href\", \"meta_count + total_count\", \"push + total_count\", \"total_href / total_count\", \"window.setTimeout + script_src_out_of_domain\", \"script_src_out_of_domain + total_count\", \"window.addEventListener + script_src_out_of_domain\", \"form_action_http + total_count\", \"window.setTimeout + total_count\", \"link_href_.css + script_src_out_of_domain\", \"find + total_count\", \"link_href_http + total_count\", \"get + total_count\", \"get + script_async_true\", \"script_async_true + total_count\", \"link_type_application/rsd+xml + script_src_out_of_domain\", \"replace + total_count\", \"link_href_.css + total_count\", \"link_type_text/css + total_count\", \"form_action_http + script_src_out_of_domain\", \"link_rel_shortlink + script_src_out_of_domain\", \"strong_count + total_count\", \"window.addEventListener + total_count\", \"total_count\", \"script_src_out_of_domain\", \"a_href_.com + total_count\", \"iframe_src_https + script_src_out_of_domain\", \"link_rel_shortlink + total_count\", \"iframe_src_https + total_count\", \"center_count + total_count\", \"link_type_application/rsd+xml + total_count\"], \"type\": \"bar\", \"uid\": \"504b50e7-5b17-4522-ae91-7d2fca45a023\"}], {\"autosize\": false, \"height\": 1000, \"width\": 1000, \"xaxis\": {\"tickfont\": {\"color\": \"black\", \"size\": 12}, \"title\": \"Feature Importances\"}, \"yaxis\": {\"automargin\": true}}, {\"showLink\": true, \"linkText\": \"Export to plot.ly\", \"plotlyServerURL\": \"https://plot.ly\"})});</script>"
      ],
      "text/vnd.plotly.v1+html": [
       "<div id=\"0724fbb2-d2e6-4c86-90ec-16aa8ce05c77\" style=\"height: 1000px; width: 1000px;\" class=\"plotly-graph-div\"></div><script type=\"text/javascript\">require([\"plotly\"], function(Plotly) { window.PLOTLYENV=window.PLOTLYENV || {};window.PLOTLYENV.BASE_URL=\"https://plot.ly\";Plotly.newPlot(\"0724fbb2-d2e6-4c86-90ec-16aa8ce05c77\", [{\"marker\": {\"color\": \"rgb(158,202,225)\", \"line\": {\"color\": \"rgb(8,48,107)\", \"width\": 1.5}}, \"opacity\": 0.6, \"orientation\": \"h\", \"text\": [0.7286, 0.0416, 0.0327, 0.026, 0.0219, 0.0198, 0.0155, 0.0149, 0.0145, 0.014, 0.0129, 0.0097, 0.0071, 0.0053, 0.0051, 0.0046, 0.0039, 0.0032, 0.0025, 0.0022, 0.002, 0.0018, 0.0017, 0.0016, 0.0016, 0.0013, 0.0011, 0.0008, 0.0007, 0.0006, 0.0004, 0.0002, 0.0002, 0.0001, 0.0001, 0.0001, 0.0, 0.0, 0.0, 0.0], \"textposition\": \"outside\", \"x\": [0.7285593727636241, 0.04162218754734627, 0.032744189448209525, 0.02602301789399606, 0.021853577339344576, 0.019840920115287666, 0.015523726617558827, 0.01489773589373442, 0.014455761117614594, 0.014005865086249136, 0.012859767161326963, 0.0096906868413425, 0.007073520270213641, 0.005272567467561144, 0.00506442675849944, 0.00458964667120321, 0.003890840101189868, 0.003227936800393294, 0.002462648466510966, 0.0021871314102587867, 0.001997959534421877, 0.001780473647106239, 0.0016746447188833197, 0.0015902172983956427, 0.0015536643017546592, 0.0012715033774209196, 0.0010769054407590395, 0.0007751249421250034, 0.000739188258161278, 0.0005764320568997785, 0.00036886106078658297, 0.0002456674241021155, 0.0001566018311801352, 0.00013492324490589175, 0.00011499409212848365, 7.820650900265592e-05, 1.794173297944684e-05, 1.164757521977873e-06, 0.0, 0.0], \"y\": [\"indexOf + total_count\", \"total_count + total_href\", \"p_count + total_count\", \"total_count / link_href_out_of_domain\", \"script_async_true + script_src_out_of_domain\", \"indexOf + script_async_true\", \"a_href_https + total_count\", \"link_href_out_of_domain + total_count\", \"document.write + total_count\", \"a_href_https / total_href\", \"meta_count + total_count\", \"push + total_count\", \"total_href / total_count\", \"window.setTimeout + script_src_out_of_domain\", \"script_src_out_of_domain + total_count\", \"window.addEventListener + script_src_out_of_domain\", \"form_action_http + total_count\", \"window.setTimeout + total_count\", \"link_href_.css + script_src_out_of_domain\", \"find + total_count\", \"link_href_http + total_count\", \"get + total_count\", \"get + script_async_true\", \"script_async_true + total_count\", \"link_type_application/rsd+xml + script_src_out_of_domain\", \"replace + total_count\", \"link_href_.css + total_count\", \"link_type_text/css + total_count\", \"form_action_http + script_src_out_of_domain\", \"link_rel_shortlink + script_src_out_of_domain\", \"strong_count + total_count\", \"window.addEventListener + total_count\", \"total_count\", \"script_src_out_of_domain\", \"a_href_.com + total_count\", \"iframe_src_https + script_src_out_of_domain\", \"link_rel_shortlink + total_count\", \"iframe_src_https + total_count\", \"center_count + total_count\", \"link_type_application/rsd+xml + total_count\"], \"type\": \"bar\", \"uid\": \"504b50e7-5b17-4522-ae91-7d2fca45a023\"}], {\"autosize\": false, \"height\": 1000, \"width\": 1000, \"xaxis\": {\"tickfont\": {\"color\": \"black\", \"size\": 12}, \"title\": \"Feature Importances\"}, \"yaxis\": {\"automargin\": true}}, {\"showLink\": true, \"linkText\": \"Export to plot.ly\", \"plotlyServerURL\": \"https://plot.ly\"})});</script>"
      ]
     },
     "metadata": {},
     "output_type": "display_data"
    },
    {
     "name": "stdout",
     "output_type": "stream",
     "text": [
      "\n",
      "\n",
      "\u001b[1mExtraTree Classifier\u001b[0m\n",
      "Accuracy of the model for training data is: 0.9279024779684957\n",
      "Confusion Matrix for training data is:\n"
     ]
    },
    {
     "data": {
      "text/plain": [
       "Predicted  False  True  __all__\n",
       "Actual                         \n",
       "False      25619  2219    27838\n",
       "True         129  4600     4729\n",
       "__all__    25748  6819    32567"
      ]
     },
     "metadata": {},
     "output_type": "display_data"
    },
    {
     "name": "stdout",
     "output_type": "stream",
     "text": [
      "Accuracy of the model for test data is: 0.9110783591255219\n",
      "Confusion Matrix for test data is:\n"
     ]
    },
    {
     "data": {
      "text/plain": [
       "Predicted  False  True  __all__\n",
       "Actual                         \n",
       "False       6358   582     6940\n",
       "True         142  1060     1202\n",
       "__all__     6500  1642     8142"
      ]
     },
     "metadata": {},
     "output_type": "display_data"
    },
    {
     "data": {
      "application/vnd.plotly.v1+json": {
       "config": {
        "linkText": "Export to plot.ly",
        "plotlyServerURL": "https://plot.ly",
        "showLink": true
       },
       "data": [
        {
         "marker": {
          "color": "rgb(158,202,225)",
          "line": {
           "color": "rgb(8,48,107)",
           "width": 1.5
          }
         },
         "opacity": 0.6,
         "orientation": "h",
         "text": [
          0.1284,
          0.1074,
          0.0666,
          0.0553,
          0.0485,
          0.0385,
          0.0379,
          0.0377,
          0.0346,
          0.0346,
          0.0292,
          0.028,
          0.025,
          0.0231,
          0.0222,
          0.0221,
          0.0216,
          0.0195,
          0.0181,
          0.0162,
          0.016,
          0.0149,
          0.0144,
          0.0143,
          0.0114,
          0.0114,
          0.0112,
          0.0105,
          0.0085,
          0.008,
          0.008,
          0.0079,
          0.0073,
          0.0073,
          0.0064,
          0.0064,
          0.0063,
          0.0061,
          0.005,
          0.0044
         ],
         "textposition": "outside",
         "type": "bar",
         "uid": "924b9bda-6390-433a-9b94-4647ed4c7200",
         "x": [
          0.12841616776194392,
          0.10737188228770964,
          0.06658767159673382,
          0.05527037327341068,
          0.04854405577269505,
          0.03846882160338713,
          0.03788192486647594,
          0.03770909347447442,
          0.03458899274528577,
          0.03458412749000632,
          0.029203460917195594,
          0.027976115840316895,
          0.024994351893333287,
          0.02314898163398315,
          0.0221744361293373,
          0.02211030478106844,
          0.02158594825424532,
          0.01949994892633063,
          0.018057740179898106,
          0.016155630910700228,
          0.01599208901170598,
          0.014921414700473114,
          0.014434734023964052,
          0.014342733212232853,
          0.011407695387609718,
          0.011353577145674965,
          0.011189676966962641,
          0.010548368675694697,
          0.00845888340739063,
          0.007974753918829512,
          0.007951917151092436,
          0.007945522077786505,
          0.007296480889758664,
          0.00729335110457603,
          0.006381336222445269,
          0.006375873819734939,
          0.006256852177457549,
          0.006077311135443381,
          0.005037797678255236,
          0.004429600954380185
         ],
         "y": [
          "script_src_out_of_domain + total_count",
          "a_href_https / total_href",
          "indexOf + total_count",
          "total_href / total_count",
          "window.addEventListener + total_count",
          "window.setTimeout + total_count",
          "meta_count + total_count",
          "link_type_application/rsd+xml + total_count",
          "link_href_http + total_count",
          "window.addEventListener + script_src_out_of_domain",
          "push + total_count",
          "total_count / link_href_out_of_domain",
          "document.write + total_count",
          "iframe_src_https + total_count",
          "strong_count + total_count",
          "link_rel_shortlink + total_count",
          "p_count + total_count",
          "center_count + total_count",
          "form_action_http + total_count",
          "total_count",
          "link_type_text/css + total_count",
          "a_href_https + total_count",
          "replace + total_count",
          "get + total_count",
          "find + total_count",
          "total_count + total_href",
          "link_href_.css + total_count",
          "a_href_.com + total_count",
          "script_async_true + script_src_out_of_domain",
          "get + script_async_true",
          "form_action_http + script_src_out_of_domain",
          "link_href_.css + script_src_out_of_domain",
          "script_async_true + total_count",
          "indexOf + script_async_true",
          "iframe_src_https + script_src_out_of_domain",
          "window.setTimeout + script_src_out_of_domain",
          "link_href_out_of_domain + total_count",
          "link_type_application/rsd+xml + script_src_out_of_domain",
          "link_rel_shortlink + script_src_out_of_domain",
          "script_src_out_of_domain"
         ]
        }
       ],
       "layout": {
        "autosize": false,
        "height": 1000,
        "width": 1000,
        "xaxis": {
         "tickfont": {
          "color": "black",
          "size": 12
         },
         "title": "Feature Importances"
        },
        "yaxis": {
         "automargin": true
        }
       }
      },
      "text/html": [
       "<div id=\"8c3e9f9a-9745-4e27-9ea8-79358321191e\" style=\"height: 1000px; width: 1000px;\" class=\"plotly-graph-div\"></div><script type=\"text/javascript\">require([\"plotly\"], function(Plotly) { window.PLOTLYENV=window.PLOTLYENV || {};window.PLOTLYENV.BASE_URL=\"https://plot.ly\";Plotly.newPlot(\"8c3e9f9a-9745-4e27-9ea8-79358321191e\", [{\"marker\": {\"color\": \"rgb(158,202,225)\", \"line\": {\"color\": \"rgb(8,48,107)\", \"width\": 1.5}}, \"opacity\": 0.6, \"orientation\": \"h\", \"text\": [0.1284, 0.1074, 0.0666, 0.0553, 0.0485, 0.0385, 0.0379, 0.0377, 0.0346, 0.0346, 0.0292, 0.028, 0.025, 0.0231, 0.0222, 0.0221, 0.0216, 0.0195, 0.0181, 0.0162, 0.016, 0.0149, 0.0144, 0.0143, 0.0114, 0.0114, 0.0112, 0.0105, 0.0085, 0.008, 0.008, 0.0079, 0.0073, 0.0073, 0.0064, 0.0064, 0.0063, 0.0061, 0.005, 0.0044], \"textposition\": \"outside\", \"x\": [0.12841616776194392, 0.10737188228770964, 0.06658767159673382, 0.05527037327341068, 0.04854405577269505, 0.03846882160338713, 0.03788192486647594, 0.03770909347447442, 0.03458899274528577, 0.03458412749000632, 0.029203460917195594, 0.027976115840316895, 0.024994351893333287, 0.02314898163398315, 0.0221744361293373, 0.02211030478106844, 0.02158594825424532, 0.01949994892633063, 0.018057740179898106, 0.016155630910700228, 0.01599208901170598, 0.014921414700473114, 0.014434734023964052, 0.014342733212232853, 0.011407695387609718, 0.011353577145674965, 0.011189676966962641, 0.010548368675694697, 0.00845888340739063, 0.007974753918829512, 0.007951917151092436, 0.007945522077786505, 0.007296480889758664, 0.00729335110457603, 0.006381336222445269, 0.006375873819734939, 0.006256852177457549, 0.006077311135443381, 0.005037797678255236, 0.004429600954380185], \"y\": [\"script_src_out_of_domain + total_count\", \"a_href_https / total_href\", \"indexOf + total_count\", \"total_href / total_count\", \"window.addEventListener + total_count\", \"window.setTimeout + total_count\", \"meta_count + total_count\", \"link_type_application/rsd+xml + total_count\", \"link_href_http + total_count\", \"window.addEventListener + script_src_out_of_domain\", \"push + total_count\", \"total_count / link_href_out_of_domain\", \"document.write + total_count\", \"iframe_src_https + total_count\", \"strong_count + total_count\", \"link_rel_shortlink + total_count\", \"p_count + total_count\", \"center_count + total_count\", \"form_action_http + total_count\", \"total_count\", \"link_type_text/css + total_count\", \"a_href_https + total_count\", \"replace + total_count\", \"get + total_count\", \"find + total_count\", \"total_count + total_href\", \"link_href_.css + total_count\", \"a_href_.com + total_count\", \"script_async_true + script_src_out_of_domain\", \"get + script_async_true\", \"form_action_http + script_src_out_of_domain\", \"link_href_.css + script_src_out_of_domain\", \"script_async_true + total_count\", \"indexOf + script_async_true\", \"iframe_src_https + script_src_out_of_domain\", \"window.setTimeout + script_src_out_of_domain\", \"link_href_out_of_domain + total_count\", \"link_type_application/rsd+xml + script_src_out_of_domain\", \"link_rel_shortlink + script_src_out_of_domain\", \"script_src_out_of_domain\"], \"type\": \"bar\", \"uid\": \"924b9bda-6390-433a-9b94-4647ed4c7200\"}], {\"autosize\": false, \"height\": 1000, \"width\": 1000, \"xaxis\": {\"tickfont\": {\"color\": \"black\", \"size\": 12}, \"title\": \"Feature Importances\"}, \"yaxis\": {\"automargin\": true}}, {\"showLink\": true, \"linkText\": \"Export to plot.ly\", \"plotlyServerURL\": \"https://plot.ly\"})});</script>"
      ],
      "text/vnd.plotly.v1+html": [
       "<div id=\"8c3e9f9a-9745-4e27-9ea8-79358321191e\" style=\"height: 1000px; width: 1000px;\" class=\"plotly-graph-div\"></div><script type=\"text/javascript\">require([\"plotly\"], function(Plotly) { window.PLOTLYENV=window.PLOTLYENV || {};window.PLOTLYENV.BASE_URL=\"https://plot.ly\";Plotly.newPlot(\"8c3e9f9a-9745-4e27-9ea8-79358321191e\", [{\"marker\": {\"color\": \"rgb(158,202,225)\", \"line\": {\"color\": \"rgb(8,48,107)\", \"width\": 1.5}}, \"opacity\": 0.6, \"orientation\": \"h\", \"text\": [0.1284, 0.1074, 0.0666, 0.0553, 0.0485, 0.0385, 0.0379, 0.0377, 0.0346, 0.0346, 0.0292, 0.028, 0.025, 0.0231, 0.0222, 0.0221, 0.0216, 0.0195, 0.0181, 0.0162, 0.016, 0.0149, 0.0144, 0.0143, 0.0114, 0.0114, 0.0112, 0.0105, 0.0085, 0.008, 0.008, 0.0079, 0.0073, 0.0073, 0.0064, 0.0064, 0.0063, 0.0061, 0.005, 0.0044], \"textposition\": \"outside\", \"x\": [0.12841616776194392, 0.10737188228770964, 0.06658767159673382, 0.05527037327341068, 0.04854405577269505, 0.03846882160338713, 0.03788192486647594, 0.03770909347447442, 0.03458899274528577, 0.03458412749000632, 0.029203460917195594, 0.027976115840316895, 0.024994351893333287, 0.02314898163398315, 0.0221744361293373, 0.02211030478106844, 0.02158594825424532, 0.01949994892633063, 0.018057740179898106, 0.016155630910700228, 0.01599208901170598, 0.014921414700473114, 0.014434734023964052, 0.014342733212232853, 0.011407695387609718, 0.011353577145674965, 0.011189676966962641, 0.010548368675694697, 0.00845888340739063, 0.007974753918829512, 0.007951917151092436, 0.007945522077786505, 0.007296480889758664, 0.00729335110457603, 0.006381336222445269, 0.006375873819734939, 0.006256852177457549, 0.006077311135443381, 0.005037797678255236, 0.004429600954380185], \"y\": [\"script_src_out_of_domain + total_count\", \"a_href_https / total_href\", \"indexOf + total_count\", \"total_href / total_count\", \"window.addEventListener + total_count\", \"window.setTimeout + total_count\", \"meta_count + total_count\", \"link_type_application/rsd+xml + total_count\", \"link_href_http + total_count\", \"window.addEventListener + script_src_out_of_domain\", \"push + total_count\", \"total_count / link_href_out_of_domain\", \"document.write + total_count\", \"iframe_src_https + total_count\", \"strong_count + total_count\", \"link_rel_shortlink + total_count\", \"p_count + total_count\", \"center_count + total_count\", \"form_action_http + total_count\", \"total_count\", \"link_type_text/css + total_count\", \"a_href_https + total_count\", \"replace + total_count\", \"get + total_count\", \"find + total_count\", \"total_count + total_href\", \"link_href_.css + total_count\", \"a_href_.com + total_count\", \"script_async_true + script_src_out_of_domain\", \"get + script_async_true\", \"form_action_http + script_src_out_of_domain\", \"link_href_.css + script_src_out_of_domain\", \"script_async_true + total_count\", \"indexOf + script_async_true\", \"iframe_src_https + script_src_out_of_domain\", \"window.setTimeout + script_src_out_of_domain\", \"link_href_out_of_domain + total_count\", \"link_type_application/rsd+xml + script_src_out_of_domain\", \"link_rel_shortlink + script_src_out_of_domain\", \"script_src_out_of_domain\"], \"type\": \"bar\", \"uid\": \"924b9bda-6390-433a-9b94-4647ed4c7200\"}], {\"autosize\": false, \"height\": 1000, \"width\": 1000, \"xaxis\": {\"tickfont\": {\"color\": \"black\", \"size\": 12}, \"title\": \"Feature Importances\"}, \"yaxis\": {\"automargin\": true}}, {\"showLink\": true, \"linkText\": \"Export to plot.ly\", \"plotlyServerURL\": \"https://plot.ly\"})});</script>"
      ]
     },
     "metadata": {},
     "output_type": "display_data"
    },
    {
     "name": "stdout",
     "output_type": "stream",
     "text": [
      "\n",
      "\n",
      "\u001b[1mBagging Classifier\u001b[0m\n",
      "Accuracy of the model for training data is: 0.9255074154819296\n",
      "Confusion Matrix for training data is:\n"
     ]
    },
    {
     "data": {
      "text/plain": [
       "Predicted  False  True  __all__\n",
       "Actual                         \n",
       "False      25614  2224    27838\n",
       "True         202  4527     4729\n",
       "__all__    25816  6751    32567"
      ]
     },
     "metadata": {},
     "output_type": "display_data"
    },
    {
     "name": "stdout",
     "output_type": "stream",
     "text": [
      "Accuracy of the model for test data is: 0.9103414394497666\n",
      "Confusion Matrix for test data is:\n"
     ]
    },
    {
     "data": {
      "text/plain": [
       "Predicted  False  True  __all__\n",
       "Actual                         \n",
       "False       6354   586     6940\n",
       "True         144  1058     1202\n",
       "__all__     6498  1644     8142"
      ]
     },
     "metadata": {},
     "output_type": "display_data"
    },
    {
     "name": "stdout",
     "output_type": "stream",
     "text": [
      "\n",
      "\n",
      "\u001b[1mNeural Network-1\u001b[0m\n"
     ]
    },
    {
     "name": "stderr",
     "output_type": "stream",
     "text": [
      "distributed.utils - ERROR - \n",
      "Traceback (most recent call last):\n",
      "  File \"/nethomes/darshan/anaconda3/lib/python3.6/site-packages/distributed/utils.py\", line 713, in log_errors\n",
      "    yield\n",
      "  File \"/nethomes/darshan/anaconda3/lib/python3.6/site-packages/distributed/client.py\", line 1223, in _close\n",
      "    quiet_exceptions=(CancelledError,),\n",
      "  File \"/nethomes/darshan/anaconda3/lib/python3.6/site-packages/tornado/gen.py\", line 584, in with_timeout\n",
      "    chain_future(future_converted, result)\n",
      "  File \"/nethomes/darshan/anaconda3/lib/python3.6/site-packages/tornado/concurrent.py\", line 166, in chain_future\n",
      "    future_add_done_callback(a, copy)\n",
      "  File \"/nethomes/darshan/anaconda3/lib/python3.6/site-packages/tornado/concurrent.py\", line 262, in future_add_done_callback\n",
      "    callback(future)\n",
      "  File \"/nethomes/darshan/anaconda3/lib/python3.6/site-packages/tornado/concurrent.py\", line 160, in copy\n",
      "    elif a.exception() is not None:\n",
      "concurrent.futures._base.CancelledError\n",
      "Exception ignored in: <bound method Client.__del__ of <Client: not connected>>\n",
      "Traceback (most recent call last):\n",
      "  File \"/nethomes/darshan/anaconda3/lib/python3.6/site-packages/distributed/client.py\", line 1075, in __del__\n",
      "    self.close()\n",
      "  File \"/nethomes/darshan/anaconda3/lib/python3.6/site-packages/distributed/client.py\", line 1290, in close\n",
      "    sync(self.loop, self._close, fast=True)\n",
      "  File \"/nethomes/darshan/anaconda3/lib/python3.6/site-packages/distributed/utils.py\", line 331, in sync\n",
      "    six.reraise(*error[0])\n",
      "  File \"/nethomes/darshan/anaconda3/lib/python3.6/site-packages/six.py\", line 693, in reraise\n",
      "    raise value\n",
      "  File \"/nethomes/darshan/anaconda3/lib/python3.6/site-packages/distributed/utils.py\", line 316, in f\n",
      "    result[0] = yield future\n",
      "  File \"/nethomes/darshan/anaconda3/lib/python3.6/site-packages/tornado/gen.py\", line 729, in run\n",
      "    value = future.result()\n",
      "  File \"/nethomes/darshan/anaconda3/lib/python3.6/site-packages/tornado/gen.py\", line 209, in wrapper\n",
      "    yielded = next(result)\n",
      "  File \"/nethomes/darshan/anaconda3/lib/python3.6/site-packages/distributed/client.py\", line 1223, in _close\n",
      "    quiet_exceptions=(CancelledError,),\n",
      "  File \"/nethomes/darshan/anaconda3/lib/python3.6/site-packages/tornado/gen.py\", line 584, in with_timeout\n",
      "    chain_future(future_converted, result)\n",
      "  File \"/nethomes/darshan/anaconda3/lib/python3.6/site-packages/tornado/concurrent.py\", line 166, in chain_future\n",
      "    future_add_done_callback(a, copy)\n",
      "  File \"/nethomes/darshan/anaconda3/lib/python3.6/site-packages/tornado/concurrent.py\", line 262, in future_add_done_callback\n",
      "    callback(future)\n",
      "  File \"/nethomes/darshan/anaconda3/lib/python3.6/site-packages/tornado/concurrent.py\", line 160, in copy\n",
      "    elif a.exception() is not None:\n",
      "concurrent.futures._base.CancelledError: \n"
     ]
    },
    {
     "name": "stdout",
     "output_type": "stream",
     "text": [
      "The accuracy of the model on training data is: 0.8860502963286898\n"
     ]
    },
    {
     "data": {
      "text/plain": [
       "Predicted  False  True  __all__\n",
       "Actual                         \n",
       "False      24709  3129    27838\n",
       "True         582  4147     4729\n",
       "__all__    25291  7276    32567"
      ]
     },
     "metadata": {},
     "output_type": "display_data"
    },
    {
     "name": "stdout",
     "output_type": "stream",
     "text": [
      "The accuracy of the model on test data is: 0.8840579710144928\n"
     ]
    },
    {
     "data": {
      "text/plain": [
       "Predicted  False  True  __all__\n",
       "Actual                         \n",
       "False       6149   791     6940\n",
       "True         153  1049     1202\n",
       "__all__     6302  1840     8142"
      ]
     },
     "metadata": {},
     "output_type": "display_data"
    },
    {
     "name": "stdout",
     "output_type": "stream",
     "text": [
      "\n",
      "\n"
     ]
    }
   ],
   "source": [
    "## Table to store training and test measures so we can compare later\n",
    "table_80_60_train=pd.DataFrame(columns=['accuracy','TP','TN','FP','FN','FPR','FNR'])\n",
    "table_80_60_test=pd.DataFrame(columns=['accuracy','TP','TN','FP','FN','FPR','FNR','auc','mcc'])\n",
    "\n",
    "\n",
    "feat_imp=[None]*4\n",
    "j=0\n",
    "for i in range(0,8):\n",
    "    if i>=2 and i<=5:\n",
    "        model,cm_train,cm_test,acc_train,acc_test,roc_auc,feat_imp[j],mcc=f[i](scaled_X_train,train_Y,scaled_X_test,test_Y,feature_name)\n",
    "        j=j+1\n",
    "    else:\n",
    "        model,cm_train,cm_test,acc_train,acc_test,roc_auc,mcc=f[i](scaled_X_train,train_Y,scaled_X_test,test_Y)\n",
    "    table_80_60_train.loc[i]=   ([acc_train,cm_train.TP,cm_train.TN,cm_train.FP,cm_train.FN,cm_train.FPR,cm_train.FNR])\n",
    "    table_80_60_test.loc[i] =   ([acc_test ,cm_test.TP, cm_test.TN, cm_test.FP, cm_test.FN, cm_test.FPR, cm_test.FNR,roc_auc,mcc])\n",
    "    print(\"\\n\")"
   ]
  },
  {
   "cell_type": "markdown",
   "metadata": {},
   "source": [
    "### <a id='4.A' style=\"text-decoration : none; color : #000000;\"> A. Results</a>"
   ]
  },
  {
   "cell_type": "code",
   "execution_count": 42,
   "metadata": {},
   "outputs": [
    {
     "data": {
      "application/vnd.plotly.v1+json": {
       "config": {
        "linkText": "Export to plot.ly",
        "plotlyServerURL": "https://plot.ly",
        "showLink": true
       },
       "data": [
        {
         "mode": "lines",
         "name": "KNN_model",
         "type": "scatter",
         "uid": "cc6fb2aa-19af-428a-b451-dae7cbd48843",
         "x": [
          "accuracy",
          "FPR",
          "FNR",
          "auc"
         ],
         "y": [
          0.8650208793908131,
          0.006484149855907781,
          0.8768718801996672,
          0.5583219849722124
         ]
        },
        {
         "mode": "lines+markers",
         "name": "Logistic Regression",
         "type": "scatter",
         "uid": "8953907d-6c10-479b-8b46-e34b54213f1b",
         "x": [
          "accuracy",
          "FPR",
          "FNR",
          "auc"
         ],
         "y": [
          0.8774256939326947,
          0.11296829971181556,
          0.17803660565723795,
          0.8544975473154733
         ]
        },
        {
         "marker": {
          "symbol": "x"
         },
         "mode": "lines+markers",
         "name": "Random Forest",
         "type": "scatter",
         "uid": "e1ee944a-092c-45f8-8123-40453f65a208",
         "x": [
          "accuracy",
          "FPR",
          "FNR",
          "auc"
         ],
         "y": [
          0.9109555391795627,
          0.08357348703170028,
          0.12063227953410982,
          0.897897116717095
         ]
        },
        {
         "mode": "lines",
         "name": "Ada Boost",
         "type": "scatter",
         "uid": "349eeb7c-0e6c-49e5-ba4d-67005620acd8",
         "x": [
          "accuracy",
          "FPR",
          "FNR",
          "auc"
         ],
         "y": [
          0.897322525178089,
          0.08270893371757924,
          0.21797004991680533,
          0.8496605081828077
         ]
        },
        {
         "mode": "lines+markers",
         "name": "GradientBoosting",
         "type": "scatter",
         "uid": "9bd0115f-5c6c-4e7f-ad0a-750576414e32",
         "x": [
          "accuracy",
          "FPR",
          "FNR",
          "auc"
         ],
         "y": [
          0.9082535003684599,
          0.08011527377521614,
          0.1589018302828619,
          0.8804914479709611
         ]
        },
        {
         "marker": {
          "symbol": "x"
         },
         "mode": "lines+markers",
         "name": "ExtraTree Classifier",
         "type": "scatter",
         "uid": "1b3809d9-7e8c-4c30-8e31-a8cb2b44a89e",
         "x": [
          "accuracy",
          "FPR",
          "FNR",
          "auc"
         ],
         "y": [
          0.9110783591255219,
          0.08386167146974063,
          0.11813643926788686,
          0.8990009446311863
         ]
        },
        {
         "marker": {
          "symbol": "x"
         },
         "mode": "lines+markers",
         "name": "Bagging",
         "type": "scatter",
         "uid": "98278740-e215-459c-a0b1-63ea4f754df7",
         "x": [
          "accuracy",
          "FPR",
          "FNR",
          "auc"
         ],
         "y": [
          0.9103414394497666,
          0.08443804034582132,
          0.11980033277870217,
          0.8978808134377383
         ]
        },
        {
         "marker": {
          "symbol": "x"
         },
         "mode": "lines+markers",
         "name": "Neural Network",
         "type": "scatter",
         "uid": "a285b013-280c-4ada-8aca-b594c1750c07",
         "x": [
          "accuracy",
          "FPR",
          "FNR",
          "auc"
         ],
         "y": [
          0.8840579710144928,
          0.11397694524495677,
          0.12728785357737105,
          0.8793676005888361
         ]
        }
       ],
       "layout": {
        "title": "Result comparision for Features selected in Section 1",
        "yaxis": {
         "dtick": 0.05,
         "tick0": 0
        }
       }
      },
      "text/html": [
       "<div id=\"2697a6ca-1231-4bbf-a564-534e65488e33\" style=\"height: 525px; width: 100%;\" class=\"plotly-graph-div\"></div><script type=\"text/javascript\">require([\"plotly\"], function(Plotly) { window.PLOTLYENV=window.PLOTLYENV || {};window.PLOTLYENV.BASE_URL=\"https://plot.ly\";Plotly.newPlot(\"2697a6ca-1231-4bbf-a564-534e65488e33\", [{\"mode\": \"lines\", \"name\": \"KNN_model\", \"x\": [\"accuracy\", \"FPR\", \"FNR\", \"auc\"], \"y\": [0.8650208793908131, 0.006484149855907781, 0.8768718801996672, 0.5583219849722124], \"type\": \"scatter\", \"uid\": \"cc6fb2aa-19af-428a-b451-dae7cbd48843\"}, {\"mode\": \"lines+markers\", \"name\": \"Logistic Regression\", \"x\": [\"accuracy\", \"FPR\", \"FNR\", \"auc\"], \"y\": [0.8774256939326947, 0.11296829971181556, 0.17803660565723795, 0.8544975473154733], \"type\": \"scatter\", \"uid\": \"8953907d-6c10-479b-8b46-e34b54213f1b\"}, {\"marker\": {\"symbol\": \"x\"}, \"mode\": \"lines+markers\", \"name\": \"Random Forest\", \"x\": [\"accuracy\", \"FPR\", \"FNR\", \"auc\"], \"y\": [0.9109555391795627, 0.08357348703170028, 0.12063227953410982, 0.897897116717095], \"type\": \"scatter\", \"uid\": \"e1ee944a-092c-45f8-8123-40453f65a208\"}, {\"mode\": \"lines\", \"name\": \"Ada Boost\", \"x\": [\"accuracy\", \"FPR\", \"FNR\", \"auc\"], \"y\": [0.897322525178089, 0.08270893371757924, 0.21797004991680533, 0.8496605081828077], \"type\": \"scatter\", \"uid\": \"349eeb7c-0e6c-49e5-ba4d-67005620acd8\"}, {\"mode\": \"lines+markers\", \"name\": \"GradientBoosting\", \"x\": [\"accuracy\", \"FPR\", \"FNR\", \"auc\"], \"y\": [0.9082535003684599, 0.08011527377521614, 0.1589018302828619, 0.8804914479709611], \"type\": \"scatter\", \"uid\": \"9bd0115f-5c6c-4e7f-ad0a-750576414e32\"}, {\"marker\": {\"symbol\": \"x\"}, \"mode\": \"lines+markers\", \"name\": \"ExtraTree Classifier\", \"x\": [\"accuracy\", \"FPR\", \"FNR\", \"auc\"], \"y\": [0.9110783591255219, 0.08386167146974063, 0.11813643926788686, 0.8990009446311863], \"type\": \"scatter\", \"uid\": \"1b3809d9-7e8c-4c30-8e31-a8cb2b44a89e\"}, {\"marker\": {\"symbol\": \"x\"}, \"mode\": \"lines+markers\", \"name\": \"Bagging\", \"x\": [\"accuracy\", \"FPR\", \"FNR\", \"auc\"], \"y\": [0.9103414394497666, 0.08443804034582132, 0.11980033277870217, 0.8978808134377383], \"type\": \"scatter\", \"uid\": \"98278740-e215-459c-a0b1-63ea4f754df7\"}, {\"marker\": {\"symbol\": \"x\"}, \"mode\": \"lines+markers\", \"name\": \"Neural Network\", \"x\": [\"accuracy\", \"FPR\", \"FNR\", \"auc\"], \"y\": [0.8840579710144928, 0.11397694524495677, 0.12728785357737105, 0.8793676005888361], \"type\": \"scatter\", \"uid\": \"a285b013-280c-4ada-8aca-b594c1750c07\"}], {\"title\": \"Result comparision for Features selected in Section 1\", \"yaxis\": {\"dtick\": 0.05, \"tick0\": 0}}, {\"showLink\": true, \"linkText\": \"Export to plot.ly\", \"plotlyServerURL\": \"https://plot.ly\"})});</script><script type=\"text/javascript\">window.addEventListener(\"resize\", function(){window._Plotly.Plots.resize(document.getElementById(\"2697a6ca-1231-4bbf-a564-534e65488e33\"));});</script>"
      ],
      "text/vnd.plotly.v1+html": [
       "<div id=\"2697a6ca-1231-4bbf-a564-534e65488e33\" style=\"height: 525px; width: 100%;\" class=\"plotly-graph-div\"></div><script type=\"text/javascript\">require([\"plotly\"], function(Plotly) { window.PLOTLYENV=window.PLOTLYENV || {};window.PLOTLYENV.BASE_URL=\"https://plot.ly\";Plotly.newPlot(\"2697a6ca-1231-4bbf-a564-534e65488e33\", [{\"mode\": \"lines\", \"name\": \"KNN_model\", \"x\": [\"accuracy\", \"FPR\", \"FNR\", \"auc\"], \"y\": [0.8650208793908131, 0.006484149855907781, 0.8768718801996672, 0.5583219849722124], \"type\": \"scatter\", \"uid\": \"cc6fb2aa-19af-428a-b451-dae7cbd48843\"}, {\"mode\": \"lines+markers\", \"name\": \"Logistic Regression\", \"x\": [\"accuracy\", \"FPR\", \"FNR\", \"auc\"], \"y\": [0.8774256939326947, 0.11296829971181556, 0.17803660565723795, 0.8544975473154733], \"type\": \"scatter\", \"uid\": \"8953907d-6c10-479b-8b46-e34b54213f1b\"}, {\"marker\": {\"symbol\": \"x\"}, \"mode\": \"lines+markers\", \"name\": \"Random Forest\", \"x\": [\"accuracy\", \"FPR\", \"FNR\", \"auc\"], \"y\": [0.9109555391795627, 0.08357348703170028, 0.12063227953410982, 0.897897116717095], \"type\": \"scatter\", \"uid\": \"e1ee944a-092c-45f8-8123-40453f65a208\"}, {\"mode\": \"lines\", \"name\": \"Ada Boost\", \"x\": [\"accuracy\", \"FPR\", \"FNR\", \"auc\"], \"y\": [0.897322525178089, 0.08270893371757924, 0.21797004991680533, 0.8496605081828077], \"type\": \"scatter\", \"uid\": \"349eeb7c-0e6c-49e5-ba4d-67005620acd8\"}, {\"mode\": \"lines+markers\", \"name\": \"GradientBoosting\", \"x\": [\"accuracy\", \"FPR\", \"FNR\", \"auc\"], \"y\": [0.9082535003684599, 0.08011527377521614, 0.1589018302828619, 0.8804914479709611], \"type\": \"scatter\", \"uid\": \"9bd0115f-5c6c-4e7f-ad0a-750576414e32\"}, {\"marker\": {\"symbol\": \"x\"}, \"mode\": \"lines+markers\", \"name\": \"ExtraTree Classifier\", \"x\": [\"accuracy\", \"FPR\", \"FNR\", \"auc\"], \"y\": [0.9110783591255219, 0.08386167146974063, 0.11813643926788686, 0.8990009446311863], \"type\": \"scatter\", \"uid\": \"1b3809d9-7e8c-4c30-8e31-a8cb2b44a89e\"}, {\"marker\": {\"symbol\": \"x\"}, \"mode\": \"lines+markers\", \"name\": \"Bagging\", \"x\": [\"accuracy\", \"FPR\", \"FNR\", \"auc\"], \"y\": [0.9103414394497666, 0.08443804034582132, 0.11980033277870217, 0.8978808134377383], \"type\": \"scatter\", \"uid\": \"98278740-e215-459c-a0b1-63ea4f754df7\"}, {\"marker\": {\"symbol\": \"x\"}, \"mode\": \"lines+markers\", \"name\": \"Neural Network\", \"x\": [\"accuracy\", \"FPR\", \"FNR\", \"auc\"], \"y\": [0.8840579710144928, 0.11397694524495677, 0.12728785357737105, 0.8793676005888361], \"type\": \"scatter\", \"uid\": \"a285b013-280c-4ada-8aca-b594c1750c07\"}], {\"title\": \"Result comparision for Features selected in Section 1\", \"yaxis\": {\"dtick\": 0.05, \"tick0\": 0}}, {\"showLink\": true, \"linkText\": \"Export to plot.ly\", \"plotlyServerURL\": \"https://plot.ly\"})});</script><script type=\"text/javascript\">window.addEventListener(\"resize\", function(){window._Plotly.Plots.resize(document.getElementById(\"2697a6ca-1231-4bbf-a564-534e65488e33\"));});</script>"
      ]
     },
     "metadata": {},
     "output_type": "display_data"
    }
   ],
   "source": [
    "trace0 = go.Scatter(x=table_80_60_test.iloc[0].index.values[[0,5,6,7]],\n",
    "                    y=table_80_60_test.iloc[0].values[[0,5,6,7]],\n",
    "                    mode = 'lines',\n",
    "                    name = 'KNN_model')\n",
    "\n",
    "trace1 = go.Scatter(x=table_80_60_test.iloc[1].index.values[[0,5,6,7]],\n",
    "                    y=table_80_60_test.iloc[1].values[[0,5,6,7]],\n",
    "                    mode = 'lines+markers',\n",
    "                    name = 'Logistic Regression')\n",
    "\n",
    "trace2 = go.Scatter(x=table_80_60_test.iloc[2].index.values[[0,5,6,7]],\n",
    "                    y=table_80_60_test.iloc[2].values[[0,5,6,7]],\n",
    "                    mode = 'lines+markers',marker=dict(symbol='x'),\n",
    "                    name = 'Random Forest')\n",
    "\n",
    "\n",
    "trace3 = go.Scatter(x=table_80_60_test.iloc[3].index.values[[0,5,6,7]],\n",
    "                    y=table_80_60_test.iloc[3].values[[0,5,6,7]],\n",
    "                    mode = 'lines',\n",
    "                    name = 'Ada Boost')\n",
    "\n",
    "trace4 = go.Scatter(x=table_80_60_test.iloc[4].index.values[[0,5,6,7]],\n",
    "                    y=table_80_60_test.iloc[4].values[[0,5,6,7]],\n",
    "                    mode = 'lines+markers',\n",
    "                    name = 'GradientBoosting')\n",
    "\n",
    "trace5 = go.Scatter(x=table_80_60_test.iloc[5].index.values[[0,5,6,7]],\n",
    "                    y=table_80_60_test.iloc[5].values[[0,5,6,7]],\n",
    "                    mode = 'lines+markers',marker=dict(symbol='x'),\n",
    "                    name = 'ExtraTree Classifier')\n",
    "\n",
    "trace6 = go.Scatter(x=table_80_60_test.iloc[6].index.values[[0,5,6,7]],\n",
    "                    y=table_80_60_test.iloc[6].values[[0,5,6,7]],\n",
    "                    mode = 'lines+markers',marker=dict(symbol='x'),\n",
    "                    name = 'Bagging')\n",
    "\n",
    "trace7 = go.Scatter(x=table_80_60_test.iloc[7].index.values[[0,5,6,7]],\n",
    "                    y=table_80_60_test.iloc[7].values[[0,5,6,7]],\n",
    "                    mode = 'lines+markers',marker=dict(symbol='x'),\n",
    "                    name = 'Neural Network')\n",
    "\n",
    "\n",
    "\n",
    "data = [trace0, trace1, trace2, trace3, trace4, trace5, trace6, trace7]\n",
    "layout = go.Layout(yaxis=dict(tick0=0,dtick=0.05),title='Result comparision for Features selected in Section 1')\n",
    "fig = go.Figure(data=data, layout=layout)\n",
    "\n",
    "iplot(fig, filename='Result')"
   ]
  },
  {
   "cell_type": "code",
   "execution_count": 43,
   "metadata": {},
   "outputs": [
    {
     "name": "stdout",
     "output_type": "stream",
     "text": [
      "Training Results\n"
     ]
    },
    {
     "data": {
      "text/html": [
       "<div>\n",
       "<style scoped>\n",
       "    .dataframe tbody tr th:only-of-type {\n",
       "        vertical-align: middle;\n",
       "    }\n",
       "\n",
       "    .dataframe tbody tr th {\n",
       "        vertical-align: top;\n",
       "    }\n",
       "\n",
       "    .dataframe thead th {\n",
       "        text-align: right;\n",
       "    }\n",
       "</style>\n",
       "<table border=\"1\" class=\"dataframe\">\n",
       "  <thead>\n",
       "    <tr style=\"text-align: right;\">\n",
       "      <th></th>\n",
       "      <th>accuracy</th>\n",
       "      <th>TP</th>\n",
       "      <th>TN</th>\n",
       "      <th>FP</th>\n",
       "      <th>FN</th>\n",
       "      <th>FPR</th>\n",
       "      <th>FNR</th>\n",
       "    </tr>\n",
       "    <tr>\n",
       "      <th>index</th>\n",
       "      <th></th>\n",
       "      <th></th>\n",
       "      <th></th>\n",
       "      <th></th>\n",
       "      <th></th>\n",
       "      <th></th>\n",
       "      <th></th>\n",
       "    </tr>\n",
       "  </thead>\n",
       "  <tbody>\n",
       "    <tr>\n",
       "      <th>KNeighborsClassifier</th>\n",
       "      <td>0.872663</td>\n",
       "      <td>723.0</td>\n",
       "      <td>27697.0</td>\n",
       "      <td>141.0</td>\n",
       "      <td>4006.0</td>\n",
       "      <td>0.005065</td>\n",
       "      <td>0.847114</td>\n",
       "    </tr>\n",
       "    <tr>\n",
       "      <th>LogisticRegression</th>\n",
       "      <td>0.875979</td>\n",
       "      <td>3828.0</td>\n",
       "      <td>24700.0</td>\n",
       "      <td>3138.0</td>\n",
       "      <td>901.0</td>\n",
       "      <td>0.112724</td>\n",
       "      <td>0.190527</td>\n",
       "    </tr>\n",
       "    <tr>\n",
       "      <th>RandomForestClassifier</th>\n",
       "      <td>0.925507</td>\n",
       "      <td>4527.0</td>\n",
       "      <td>25614.0</td>\n",
       "      <td>2224.0</td>\n",
       "      <td>202.0</td>\n",
       "      <td>0.079891</td>\n",
       "      <td>0.042715</td>\n",
       "    </tr>\n",
       "    <tr>\n",
       "      <th>AdaBoostClassifier</th>\n",
       "      <td>0.898824</td>\n",
       "      <td>3717.0</td>\n",
       "      <td>25555.0</td>\n",
       "      <td>2283.0</td>\n",
       "      <td>1012.0</td>\n",
       "      <td>0.082010</td>\n",
       "      <td>0.213999</td>\n",
       "    </tr>\n",
       "    <tr>\n",
       "      <th>GradientBoostingClassifier</th>\n",
       "      <td>0.910339</td>\n",
       "      <td>4027.0</td>\n",
       "      <td>25620.0</td>\n",
       "      <td>2218.0</td>\n",
       "      <td>702.0</td>\n",
       "      <td>0.079675</td>\n",
       "      <td>0.148446</td>\n",
       "    </tr>\n",
       "    <tr>\n",
       "      <th>ExtraTreeClassifier</th>\n",
       "      <td>0.927902</td>\n",
       "      <td>4600.0</td>\n",
       "      <td>25619.0</td>\n",
       "      <td>2219.0</td>\n",
       "      <td>129.0</td>\n",
       "      <td>0.079711</td>\n",
       "      <td>0.027278</td>\n",
       "    </tr>\n",
       "    <tr>\n",
       "      <th>BaggingClassifier</th>\n",
       "      <td>0.925507</td>\n",
       "      <td>4527.0</td>\n",
       "      <td>25614.0</td>\n",
       "      <td>2224.0</td>\n",
       "      <td>202.0</td>\n",
       "      <td>0.079891</td>\n",
       "      <td>0.042715</td>\n",
       "    </tr>\n",
       "    <tr>\n",
       "      <th>Neural Network-1</th>\n",
       "      <td>0.886050</td>\n",
       "      <td>4147.0</td>\n",
       "      <td>24709.0</td>\n",
       "      <td>3129.0</td>\n",
       "      <td>582.0</td>\n",
       "      <td>0.112400</td>\n",
       "      <td>0.123070</td>\n",
       "    </tr>\n",
       "  </tbody>\n",
       "</table>\n",
       "</div>"
      ],
      "text/plain": [
       "                            accuracy      TP       TN      FP      FN  \\\n",
       "index                                                                   \n",
       "KNeighborsClassifier        0.872663   723.0  27697.0   141.0  4006.0   \n",
       "LogisticRegression          0.875979  3828.0  24700.0  3138.0   901.0   \n",
       "RandomForestClassifier      0.925507  4527.0  25614.0  2224.0   202.0   \n",
       "AdaBoostClassifier          0.898824  3717.0  25555.0  2283.0  1012.0   \n",
       "GradientBoostingClassifier  0.910339  4027.0  25620.0  2218.0   702.0   \n",
       "ExtraTreeClassifier         0.927902  4600.0  25619.0  2219.0   129.0   \n",
       "BaggingClassifier           0.925507  4527.0  25614.0  2224.0   202.0   \n",
       "Neural Network-1            0.886050  4147.0  24709.0  3129.0   582.0   \n",
       "\n",
       "                                 FPR       FNR  \n",
       "index                                           \n",
       "KNeighborsClassifier        0.005065  0.847114  \n",
       "LogisticRegression          0.112724  0.190527  \n",
       "RandomForestClassifier      0.079891  0.042715  \n",
       "AdaBoostClassifier          0.082010  0.213999  \n",
       "GradientBoostingClassifier  0.079675  0.148446  \n",
       "ExtraTreeClassifier         0.079711  0.027278  \n",
       "BaggingClassifier           0.079891  0.042715  \n",
       "Neural Network-1            0.112400  0.123070  "
      ]
     },
     "metadata": {},
     "output_type": "display_data"
    },
    {
     "name": "stdout",
     "output_type": "stream",
     "text": [
      "Test Results\n"
     ]
    },
    {
     "data": {
      "text/html": [
       "<div>\n",
       "<style scoped>\n",
       "    .dataframe tbody tr th:only-of-type {\n",
       "        vertical-align: middle;\n",
       "    }\n",
       "\n",
       "    .dataframe tbody tr th {\n",
       "        vertical-align: top;\n",
       "    }\n",
       "\n",
       "    .dataframe thead th {\n",
       "        text-align: right;\n",
       "    }\n",
       "</style>\n",
       "<table border=\"1\" class=\"dataframe\">\n",
       "  <thead>\n",
       "    <tr style=\"text-align: right;\">\n",
       "      <th></th>\n",
       "      <th>accuracy</th>\n",
       "      <th>TP</th>\n",
       "      <th>TN</th>\n",
       "      <th>FP</th>\n",
       "      <th>FN</th>\n",
       "      <th>FPR</th>\n",
       "      <th>FNR</th>\n",
       "      <th>auc</th>\n",
       "      <th>mcc</th>\n",
       "    </tr>\n",
       "    <tr>\n",
       "      <th>index</th>\n",
       "      <th></th>\n",
       "      <th></th>\n",
       "      <th></th>\n",
       "      <th></th>\n",
       "      <th></th>\n",
       "      <th></th>\n",
       "      <th></th>\n",
       "      <th></th>\n",
       "      <th></th>\n",
       "    </tr>\n",
       "  </thead>\n",
       "  <tbody>\n",
       "    <tr>\n",
       "      <th>KNeighborsClassifier</th>\n",
       "      <td>0.865021</td>\n",
       "      <td>148.0</td>\n",
       "      <td>6895.0</td>\n",
       "      <td>45.0</td>\n",
       "      <td>1054.0</td>\n",
       "      <td>0.006484</td>\n",
       "      <td>0.876872</td>\n",
       "      <td>0.558322</td>\n",
       "      <td>0.271994</td>\n",
       "    </tr>\n",
       "    <tr>\n",
       "      <th>LogisticRegression</th>\n",
       "      <td>0.877426</td>\n",
       "      <td>988.0</td>\n",
       "      <td>6156.0</td>\n",
       "      <td>784.0</td>\n",
       "      <td>214.0</td>\n",
       "      <td>0.112968</td>\n",
       "      <td>0.178037</td>\n",
       "      <td>0.854498</td>\n",
       "      <td>0.609500</td>\n",
       "    </tr>\n",
       "    <tr>\n",
       "      <th>RandomForestClassifier</th>\n",
       "      <td>0.910956</td>\n",
       "      <td>1057.0</td>\n",
       "      <td>6360.0</td>\n",
       "      <td>580.0</td>\n",
       "      <td>145.0</td>\n",
       "      <td>0.083573</td>\n",
       "      <td>0.120632</td>\n",
       "      <td>0.897897</td>\n",
       "      <td>0.704344</td>\n",
       "    </tr>\n",
       "    <tr>\n",
       "      <th>AdaBoostClassifier</th>\n",
       "      <td>0.897323</td>\n",
       "      <td>940.0</td>\n",
       "      <td>6366.0</td>\n",
       "      <td>574.0</td>\n",
       "      <td>262.0</td>\n",
       "      <td>0.082709</td>\n",
       "      <td>0.217970</td>\n",
       "      <td>0.849661</td>\n",
       "      <td>0.637609</td>\n",
       "    </tr>\n",
       "    <tr>\n",
       "      <th>GradientBoostingClassifier</th>\n",
       "      <td>0.908254</td>\n",
       "      <td>1011.0</td>\n",
       "      <td>6384.0</td>\n",
       "      <td>556.0</td>\n",
       "      <td>191.0</td>\n",
       "      <td>0.080115</td>\n",
       "      <td>0.158902</td>\n",
       "      <td>0.880491</td>\n",
       "      <td>0.684738</td>\n",
       "    </tr>\n",
       "    <tr>\n",
       "      <th>ExtraTreeClassifier</th>\n",
       "      <td>0.911078</td>\n",
       "      <td>1060.0</td>\n",
       "      <td>6358.0</td>\n",
       "      <td>582.0</td>\n",
       "      <td>142.0</td>\n",
       "      <td>0.083862</td>\n",
       "      <td>0.118136</td>\n",
       "      <td>0.899001</td>\n",
       "      <td>0.705493</td>\n",
       "    </tr>\n",
       "    <tr>\n",
       "      <th>BaggingClassifier</th>\n",
       "      <td>0.910341</td>\n",
       "      <td>1058.0</td>\n",
       "      <td>6354.0</td>\n",
       "      <td>586.0</td>\n",
       "      <td>144.0</td>\n",
       "      <td>0.084438</td>\n",
       "      <td>0.119800</td>\n",
       "      <td>0.897881</td>\n",
       "      <td>0.703192</td>\n",
       "    </tr>\n",
       "    <tr>\n",
       "      <th>Neural Network-1</th>\n",
       "      <td>0.884058</td>\n",
       "      <td>1049.0</td>\n",
       "      <td>6149.0</td>\n",
       "      <td>791.0</td>\n",
       "      <td>153.0</td>\n",
       "      <td>0.113977</td>\n",
       "      <td>0.127288</td>\n",
       "      <td>0.879368</td>\n",
       "      <td>0.643538</td>\n",
       "    </tr>\n",
       "  </tbody>\n",
       "</table>\n",
       "</div>"
      ],
      "text/plain": [
       "                            accuracy      TP      TN     FP      FN       FPR  \\\n",
       "index                                                                           \n",
       "KNeighborsClassifier        0.865021   148.0  6895.0   45.0  1054.0  0.006484   \n",
       "LogisticRegression          0.877426   988.0  6156.0  784.0   214.0  0.112968   \n",
       "RandomForestClassifier      0.910956  1057.0  6360.0  580.0   145.0  0.083573   \n",
       "AdaBoostClassifier          0.897323   940.0  6366.0  574.0   262.0  0.082709   \n",
       "GradientBoostingClassifier  0.908254  1011.0  6384.0  556.0   191.0  0.080115   \n",
       "ExtraTreeClassifier         0.911078  1060.0  6358.0  582.0   142.0  0.083862   \n",
       "BaggingClassifier           0.910341  1058.0  6354.0  586.0   144.0  0.084438   \n",
       "Neural Network-1            0.884058  1049.0  6149.0  791.0   153.0  0.113977   \n",
       "\n",
       "                                 FNR       auc       mcc  \n",
       "index                                                     \n",
       "KNeighborsClassifier        0.876872  0.558322  0.271994  \n",
       "LogisticRegression          0.178037  0.854498  0.609500  \n",
       "RandomForestClassifier      0.120632  0.897897  0.704344  \n",
       "AdaBoostClassifier          0.217970  0.849661  0.637609  \n",
       "GradientBoostingClassifier  0.158902  0.880491  0.684738  \n",
       "ExtraTreeClassifier         0.118136  0.899001  0.705493  \n",
       "BaggingClassifier           0.119800  0.897881  0.703192  \n",
       "Neural Network-1            0.127288  0.879368  0.643538  "
      ]
     },
     "metadata": {},
     "output_type": "display_data"
    }
   ],
   "source": [
    "table_80_60_train['index']=ind_columns\n",
    "table_80_60_test['index']=ind_columns\n",
    "\n",
    "\n",
    "table_80_60_test.set_index(['index'],drop=True,inplace=True)\n",
    "table_80_60_train.set_index(['index'],drop=True,inplace=True)\n",
    "\n",
    "print(\"Training Results\")\n",
    "display(table_80_60_train)\n",
    "print(\"Test Results\")\n",
    "display(table_80_60_test)"
   ]
  },
  {
   "cell_type": "markdown",
   "metadata": {},
   "source": [
    "### <a id='4.B' style=\"text-decoration : none; color : #000000;\"> B. Average Feature Importances</a>"
   ]
  },
  {
   "cell_type": "code",
   "execution_count": 44,
   "metadata": {},
   "outputs": [
    {
     "data": {
      "application/vnd.plotly.v1+json": {
       "config": {
        "linkText": "Export to plot.ly",
        "plotlyServerURL": "https://plot.ly",
        "showLink": true
       },
       "data": [
        {
         "marker": {
          "color": "rgb(158,202,225)",
          "line": {
           "color": "rgb(8,48,107)",
           "width": 1.5
          }
         },
         "opacity": 0.6,
         "orientation": "h",
         "text": [
          0.2219,
          0.0668,
          0.0565,
          0.0549,
          0.0434,
          0.0425,
          0.0423,
          0.0418,
          0.0381,
          0.0289,
          0.0278,
          0.0234,
          0.0225,
          0.0212,
          0.0202,
          0.019,
          0.0177,
          0.0171,
          0.0157,
          0.0142,
          0.0141,
          0.0138,
          0.0131,
          0.0108,
          0.0105,
          0.0095,
          0.0092,
          0.0085,
          0.0079,
          0.0077,
          0.0077,
          0.0071,
          0.007,
          0.0066,
          0.0064,
          0.0058,
          0.0056,
          0.0054,
          0.0049,
          0.0023
         ],
         "textposition": "outside",
         "type": "bar",
         "uid": "2012dc70-7667-4356-890f-3b32251273b4",
         "x": [
          0.22190400502878724,
          0.06683576507791235,
          0.056511481788686604,
          0.05491644485396274,
          0.04339267272428561,
          0.0425376640246828,
          0.04230054882308964,
          0.04175369173174746,
          0.0381140020006917,
          0.028939799917554784,
          0.027785041902084893,
          0.023413071087826372,
          0.022451014021504748,
          0.021246732111463617,
          0.02023718809521468,
          0.01902155342599105,
          0.017695098953404445,
          0.017149381454783872,
          0.015672421064344296,
          0.014201540062447856,
          0.014104490609544683,
          0.013808221935216783,
          0.013139434838327971,
          0.010843923109806385,
          0.010525412232443045,
          0.009508053429071685,
          0.009196196115105032,
          0.008472056004610783,
          0.00790331050632089,
          0.007714136017492174,
          0.007674372274190864,
          0.007063416699319618,
          0.006958733590072985,
          0.006602878037240323,
          0.006374932357539802,
          0.005787433754459192,
          0.005607776226552681,
          0.005378410621927157,
          0.00494943064439844,
          0.002308262845892818
         ],
         "y": [
          "indexOf + total_count",
          "get + total_count",
          "total_count / link_href_out_of_domain",
          "total_href / total_count",
          "p_count + total_count",
          "a_href_https / total_href",
          "push + total_count",
          "script_src_out_of_domain + total_count",
          "a_href_https + total_count",
          "indexOf + script_async_true",
          "total_count + total_href",
          "meta_count + total_count",
          "iframe_src_https + total_count",
          "replace + total_count",
          "find + total_count",
          "script_async_true + script_src_out_of_domain",
          "document.write + total_count",
          "window.setTimeout + total_count",
          "window.addEventListener + script_src_out_of_domain",
          "get + script_async_true",
          "strong_count + total_count",
          "window.addEventListener + total_count",
          "form_action_http + script_src_out_of_domain",
          "link_href_http + total_count",
          "link_type_application/rsd+xml + total_count",
          "link_href_.css + script_src_out_of_domain",
          "window.setTimeout + script_src_out_of_domain",
          "form_action_http + total_count",
          "link_type_application/rsd+xml + script_src_out_of_domain",
          "iframe_src_https + script_src_out_of_domain",
          "link_href_out_of_domain + total_count",
          "link_rel_shortlink + total_count",
          "script_src_out_of_domain",
          "link_type_text/css + total_count",
          "center_count + total_count",
          "total_count",
          "a_href_.com + total_count",
          "script_async_true + total_count",
          "link_href_.css + total_count",
          "link_rel_shortlink + script_src_out_of_domain"
         ]
        }
       ],
       "layout": {
        "autosize": false,
        "height": 1000,
        "width": 1000,
        "xaxis": {
         "tickfont": {
          "color": "black",
          "size": 12
         },
         "title": "Feature Importances"
        },
        "yaxis": {
         "automargin": true
        }
       }
      },
      "text/html": [
       "<div id=\"48526ae7-6a4a-4d5d-8f24-df2284bafda1\" style=\"height: 1000px; width: 1000px;\" class=\"plotly-graph-div\"></div><script type=\"text/javascript\">require([\"plotly\"], function(Plotly) { window.PLOTLYENV=window.PLOTLYENV || {};window.PLOTLYENV.BASE_URL=\"https://plot.ly\";Plotly.newPlot(\"48526ae7-6a4a-4d5d-8f24-df2284bafda1\", [{\"marker\": {\"color\": \"rgb(158,202,225)\", \"line\": {\"color\": \"rgb(8,48,107)\", \"width\": 1.5}}, \"opacity\": 0.6, \"orientation\": \"h\", \"text\": [0.2219, 0.0668, 0.0565, 0.0549, 0.0434, 0.0425, 0.0423, 0.0418, 0.0381, 0.0289, 0.0278, 0.0234, 0.0225, 0.0212, 0.0202, 0.019, 0.0177, 0.0171, 0.0157, 0.0142, 0.0141, 0.0138, 0.0131, 0.0108, 0.0105, 0.0095, 0.0092, 0.0085, 0.0079, 0.0077, 0.0077, 0.0071, 0.007, 0.0066, 0.0064, 0.0058, 0.0056, 0.0054, 0.0049, 0.0023], \"textposition\": \"outside\", \"x\": [0.22190400502878724, 0.06683576507791235, 0.056511481788686604, 0.05491644485396274, 0.04339267272428561, 0.0425376640246828, 0.04230054882308964, 0.04175369173174746, 0.0381140020006917, 0.028939799917554784, 0.027785041902084893, 0.023413071087826372, 0.022451014021504748, 0.021246732111463617, 0.02023718809521468, 0.01902155342599105, 0.017695098953404445, 0.017149381454783872, 0.015672421064344296, 0.014201540062447856, 0.014104490609544683, 0.013808221935216783, 0.013139434838327971, 0.010843923109806385, 0.010525412232443045, 0.009508053429071685, 0.009196196115105032, 0.008472056004610783, 0.00790331050632089, 0.007714136017492174, 0.007674372274190864, 0.007063416699319618, 0.006958733590072985, 0.006602878037240323, 0.006374932357539802, 0.005787433754459192, 0.005607776226552681, 0.005378410621927157, 0.00494943064439844, 0.002308262845892818], \"y\": [\"indexOf + total_count\", \"get + total_count\", \"total_count / link_href_out_of_domain\", \"total_href / total_count\", \"p_count + total_count\", \"a_href_https / total_href\", \"push + total_count\", \"script_src_out_of_domain + total_count\", \"a_href_https + total_count\", \"indexOf + script_async_true\", \"total_count + total_href\", \"meta_count + total_count\", \"iframe_src_https + total_count\", \"replace + total_count\", \"find + total_count\", \"script_async_true + script_src_out_of_domain\", \"document.write + total_count\", \"window.setTimeout + total_count\", \"window.addEventListener + script_src_out_of_domain\", \"get + script_async_true\", \"strong_count + total_count\", \"window.addEventListener + total_count\", \"form_action_http + script_src_out_of_domain\", \"link_href_http + total_count\", \"link_type_application/rsd+xml + total_count\", \"link_href_.css + script_src_out_of_domain\", \"window.setTimeout + script_src_out_of_domain\", \"form_action_http + total_count\", \"link_type_application/rsd+xml + script_src_out_of_domain\", \"iframe_src_https + script_src_out_of_domain\", \"link_href_out_of_domain + total_count\", \"link_rel_shortlink + total_count\", \"script_src_out_of_domain\", \"link_type_text/css + total_count\", \"center_count + total_count\", \"total_count\", \"a_href_.com + total_count\", \"script_async_true + total_count\", \"link_href_.css + total_count\", \"link_rel_shortlink + script_src_out_of_domain\"], \"type\": \"bar\", \"uid\": \"2012dc70-7667-4356-890f-3b32251273b4\"}], {\"autosize\": false, \"height\": 1000, \"width\": 1000, \"xaxis\": {\"tickfont\": {\"color\": \"black\", \"size\": 12}, \"title\": \"Feature Importances\"}, \"yaxis\": {\"automargin\": true}}, {\"showLink\": true, \"linkText\": \"Export to plot.ly\", \"plotlyServerURL\": \"https://plot.ly\"})});</script>"
      ],
      "text/vnd.plotly.v1+html": [
       "<div id=\"48526ae7-6a4a-4d5d-8f24-df2284bafda1\" style=\"height: 1000px; width: 1000px;\" class=\"plotly-graph-div\"></div><script type=\"text/javascript\">require([\"plotly\"], function(Plotly) { window.PLOTLYENV=window.PLOTLYENV || {};window.PLOTLYENV.BASE_URL=\"https://plot.ly\";Plotly.newPlot(\"48526ae7-6a4a-4d5d-8f24-df2284bafda1\", [{\"marker\": {\"color\": \"rgb(158,202,225)\", \"line\": {\"color\": \"rgb(8,48,107)\", \"width\": 1.5}}, \"opacity\": 0.6, \"orientation\": \"h\", \"text\": [0.2219, 0.0668, 0.0565, 0.0549, 0.0434, 0.0425, 0.0423, 0.0418, 0.0381, 0.0289, 0.0278, 0.0234, 0.0225, 0.0212, 0.0202, 0.019, 0.0177, 0.0171, 0.0157, 0.0142, 0.0141, 0.0138, 0.0131, 0.0108, 0.0105, 0.0095, 0.0092, 0.0085, 0.0079, 0.0077, 0.0077, 0.0071, 0.007, 0.0066, 0.0064, 0.0058, 0.0056, 0.0054, 0.0049, 0.0023], \"textposition\": \"outside\", \"x\": [0.22190400502878724, 0.06683576507791235, 0.056511481788686604, 0.05491644485396274, 0.04339267272428561, 0.0425376640246828, 0.04230054882308964, 0.04175369173174746, 0.0381140020006917, 0.028939799917554784, 0.027785041902084893, 0.023413071087826372, 0.022451014021504748, 0.021246732111463617, 0.02023718809521468, 0.01902155342599105, 0.017695098953404445, 0.017149381454783872, 0.015672421064344296, 0.014201540062447856, 0.014104490609544683, 0.013808221935216783, 0.013139434838327971, 0.010843923109806385, 0.010525412232443045, 0.009508053429071685, 0.009196196115105032, 0.008472056004610783, 0.00790331050632089, 0.007714136017492174, 0.007674372274190864, 0.007063416699319618, 0.006958733590072985, 0.006602878037240323, 0.006374932357539802, 0.005787433754459192, 0.005607776226552681, 0.005378410621927157, 0.00494943064439844, 0.002308262845892818], \"y\": [\"indexOf + total_count\", \"get + total_count\", \"total_count / link_href_out_of_domain\", \"total_href / total_count\", \"p_count + total_count\", \"a_href_https / total_href\", \"push + total_count\", \"script_src_out_of_domain + total_count\", \"a_href_https + total_count\", \"indexOf + script_async_true\", \"total_count + total_href\", \"meta_count + total_count\", \"iframe_src_https + total_count\", \"replace + total_count\", \"find + total_count\", \"script_async_true + script_src_out_of_domain\", \"document.write + total_count\", \"window.setTimeout + total_count\", \"window.addEventListener + script_src_out_of_domain\", \"get + script_async_true\", \"strong_count + total_count\", \"window.addEventListener + total_count\", \"form_action_http + script_src_out_of_domain\", \"link_href_http + total_count\", \"link_type_application/rsd+xml + total_count\", \"link_href_.css + script_src_out_of_domain\", \"window.setTimeout + script_src_out_of_domain\", \"form_action_http + total_count\", \"link_type_application/rsd+xml + script_src_out_of_domain\", \"iframe_src_https + script_src_out_of_domain\", \"link_href_out_of_domain + total_count\", \"link_rel_shortlink + total_count\", \"script_src_out_of_domain\", \"link_type_text/css + total_count\", \"center_count + total_count\", \"total_count\", \"a_href_.com + total_count\", \"script_async_true + total_count\", \"link_href_.css + total_count\", \"link_rel_shortlink + script_src_out_of_domain\"], \"type\": \"bar\", \"uid\": \"2012dc70-7667-4356-890f-3b32251273b4\"}], {\"autosize\": false, \"height\": 1000, \"width\": 1000, \"xaxis\": {\"tickfont\": {\"color\": \"black\", \"size\": 12}, \"title\": \"Feature Importances\"}, \"yaxis\": {\"automargin\": true}}, {\"showLink\": true, \"linkText\": \"Export to plot.ly\", \"plotlyServerURL\": \"https://plot.ly\"})});</script>"
      ]
     },
     "metadata": {},
     "output_type": "display_data"
    }
   ],
   "source": [
    "feat_impt_plot(np.average(feat_imp,axis=0),feature_name)"
   ]
  },
  {
   "cell_type": "markdown",
   "metadata": {},
   "source": [
    "### <a id='5' style=\"text-decoration : none; color : #000000;\">5. Feature Transformation with PCA </a>"
   ]
  },
  {
   "cell_type": "code",
   "execution_count": 45,
   "metadata": {},
   "outputs": [
    {
     "name": "stderr",
     "output_type": "stream",
     "text": [
      "distributed.core - INFO - Event loop was unresponsive in Nanny for 30.96s.  This is often caused by long-running GIL-holding functions or moving large chunks of data. This can cause timeouts and instability.\n",
      "distributed.core - INFO - Event loop was unresponsive in Nanny for 30.96s.  This is often caused by long-running GIL-holding functions or moving large chunks of data. This can cause timeouts and instability.\n",
      "distributed.core - INFO - Event loop was unresponsive in Nanny for 30.96s.  This is often caused by long-running GIL-holding functions or moving large chunks of data. This can cause timeouts and instability.\n",
      "distributed.core - INFO - Event loop was unresponsive in Nanny for 30.96s.  This is often caused by long-running GIL-holding functions or moving large chunks of data. This can cause timeouts and instability.\n",
      "distributed.core - INFO - Event loop was unresponsive in Nanny for 30.96s.  This is often caused by long-running GIL-holding functions or moving large chunks of data. This can cause timeouts and instability.\n",
      "distributed.core - INFO - Event loop was unresponsive in Nanny for 30.96s.  This is often caused by long-running GIL-holding functions or moving large chunks of data. This can cause timeouts and instability.\n",
      "distributed.core - INFO - Event loop was unresponsive in Nanny for 30.96s.  This is often caused by long-running GIL-holding functions or moving large chunks of data. This can cause timeouts and instability.\n",
      "distributed.core - INFO - Event loop was unresponsive in Nanny for 30.96s.  This is often caused by long-running GIL-holding functions or moving large chunks of data. This can cause timeouts and instability.\n",
      "distributed.core - INFO - Event loop was unresponsive in Nanny for 30.96s.  This is often caused by long-running GIL-holding functions or moving large chunks of data. This can cause timeouts and instability.\n",
      "distributed.core - INFO - Event loop was unresponsive in Nanny for 30.96s.  This is often caused by long-running GIL-holding functions or moving large chunks of data. This can cause timeouts and instability.\n",
      "distributed.core - INFO - Event loop was unresponsive in Nanny for 30.96s.  This is often caused by long-running GIL-holding functions or moving large chunks of data. This can cause timeouts and instability.\n"
     ]
    },
    {
     "data": {
      "image/png": "[encoded data removed]",
      "text/plain": [
       "<Figure size 720x576 with 1 Axes>"
      ]
     },
     "metadata": {},
     "output_type": "display_data"
    }
   ],
   "source": [
    "X=fs.loc[:,fs.columns!='Target']\n",
    "y=fs.Target.values\n",
    "feature_name = X.columns.tolist()\n",
    "X=np.nan_to_num(X)\n",
    "scaler=StandardScaler()\n",
    "scaled_X=scaler.fit_transform(X)\n",
    "\n",
    "sns.set_style('whitegrid')\n",
    "pca = PCA(random_state=0)\n",
    "pca.fit(scaled_X)\n",
    "plt.figure(1, figsize=(10, 8))\n",
    "plt.plot(np.cumsum(pca.explained_variance_ratio_),'--o', linewidth=2)\n",
    "plt.axis('tight')\n",
    "plt.xlabel('Number of Components',size=14)\n",
    "plt.xticks(size=12)\n",
    "plt.xlim([0,200])\n",
    "plt.ylabel('% Explained Variance',size=14)\n",
    "plt.yticks(size=12)\n",
    "plt.title('% Variance Explained by Principal Components',size=14,y=1.05)\n",
    "plt.show()"
   ]
  },
  {
   "cell_type": "code",
   "execution_count": 47,
   "metadata": {},
   "outputs": [
    {
     "name": "stdout",
     "output_type": "stream",
     "text": [
      "Variance explained using 150 components is: 0.7991138273693339\n"
     ]
    }
   ],
   "source": [
    "pca=PCA(n_components=150,whiten=True,random_state=0)\n",
    "X_pca_21=pca.fit_transform(scaled_X)\n",
    "print(\"Variance explained using 150 components is:\",sum(pca.explained_variance_ratio_))"
   ]
  },
  {
   "cell_type": "code",
   "execution_count": 48,
   "metadata": {},
   "outputs": [],
   "source": [
    "X_train=X_pca_21[:32567]\n",
    "Y_train=fs.iloc[:32567]['Target'].values\n",
    "X_test=X_pca_21[32567:]\n",
    "Y_test=fs.iloc[32567:]['Target'].values\n",
    "\n",
    "## Table to store training and test measures so we can compare later\n",
    "table_80_70_train=pd.DataFrame(columns=['accuracy','TP','TN','FP','FN','FPR','FNR'])\n",
    "table_80_70_test=pd.DataFrame(columns=['accuracy','TP','TN','FP','FN','FPR','FNR','auc','mcc'])"
   ]
  },
  {
   "cell_type": "code",
   "execution_count": 49,
   "metadata": {
    "scrolled": false
   },
   "outputs": [
    {
     "name": "stdout",
     "output_type": "stream",
     "text": [
      "\u001b[1mK-Nearest Neighbors\u001b[0m\n",
      "Accuracy of the model for training data is: 0.9142690453526576\n",
      "Confusion Matrix for training data is:\n"
     ]
    },
    {
     "data": {
      "text/plain": [
       "Predicted  False  True  __all__\n",
       "Actual                         \n",
       "False      25548  2290    27838\n",
       "True         502  4227     4729\n",
       "__all__    26050  6517    32567"
      ]
     },
     "metadata": {},
     "output_type": "display_data"
    },
    {
     "name": "stdout",
     "output_type": "stream",
     "text": [
      "Accuracy of the model for test data is: 0.9070253009088676\n",
      "Confusion Matrix for test data is:\n"
     ]
    },
    {
     "data": {
      "text/plain": [
       "Predicted  False  True  __all__\n",
       "Actual                         \n",
       "False       6340   600     6940\n",
       "True         157  1045     1202\n",
       "__all__     6497  1645     8142"
      ]
     },
     "metadata": {},
     "output_type": "display_data"
    },
    {
     "name": "stdout",
     "output_type": "stream",
     "text": [
      "\n",
      "\n",
      "\u001b[1mLogistic Regression\u001b[0m\n",
      "Accuracy of the model for training data is: 0.9014953787576381\n",
      "Confusion Matrix for training data is:\n"
     ]
    },
    {
     "data": {
      "text/plain": [
       "Predicted  False  True  __all__\n",
       "Actual                         \n",
       "False      25342  2496    27838\n",
       "True         712  4017     4729\n",
       "__all__    26054  6513    32567"
      ]
     },
     "metadata": {},
     "output_type": "display_data"
    },
    {
     "name": "stdout",
     "output_type": "stream",
     "text": [
      "Accuracy of the model for test data is: 0.9012527634487841\n",
      "Confusion Matrix for test data is:\n"
     ]
    },
    {
     "data": {
      "text/plain": [
       "Predicted  False  True  __all__\n",
       "Actual                         \n",
       "False       6311   629     6940\n",
       "True         175  1027     1202\n",
       "__all__     6486  1656     8142"
      ]
     },
     "metadata": {},
     "output_type": "display_data"
    },
    {
     "name": "stdout",
     "output_type": "stream",
     "text": [
      "\n",
      "\n",
      "\u001b[1mRandomForest Classifier\u001b[0m\n",
      "Accuracy of the model for training data is: 0.9257223569871342\n",
      "Confusion Matrix for training data is:\n"
     ]
    },
    {
     "data": {
      "text/plain": [
       "Predicted  False  True  __all__\n",
       "Actual                         \n",
       "False      25615  2223    27838\n",
       "True         196  4533     4729\n",
       "__all__    25811  6756    32567"
      ]
     },
     "metadata": {},
     "output_type": "display_data"
    },
    {
     "name": "stdout",
     "output_type": "stream",
     "text": [
      "Accuracy of the model for test data is: 0.9114468189633996\n",
      "Confusion Matrix for test data is:\n"
     ]
    },
    {
     "data": {
      "text/plain": [
       "Predicted  False  True  __all__\n",
       "Actual                         \n",
       "False       6368   572     6940\n",
       "True         149  1053     1202\n",
       "__all__     6517  1625     8142"
      ]
     },
     "metadata": {},
     "output_type": "display_data"
    },
    {
     "data": {
      "application/vnd.plotly.v1+json": {
       "config": {
        "linkText": "Export to plot.ly",
        "plotlyServerURL": "https://plot.ly",
        "showLink": true
       },
       "data": [
        {
         "marker": {
          "color": "rgb(158,202,225)",
          "line": {
           "color": "rgb(8,48,107)",
           "width": 1.5
          }
         },
         "opacity": 0.6,
         "orientation": "h",
         "text": [
          0.1559,
          0.1038,
          0.0816,
          0.0612,
          0.0469,
          0.0317,
          0.0309,
          0.028,
          0.0256,
          0.0249,
          0.0237,
          0.0212,
          0.0201,
          0.0159,
          0.014,
          0.0113,
          0.0098,
          0.0097,
          0.0064,
          0.0047,
          0.0046,
          0.0044,
          0.0042,
          0.0041,
          0.004,
          0.004,
          0.0039,
          0.0039,
          0.0038,
          0.0037,
          0.0036,
          0.0036,
          0.0034,
          0.0034,
          0.0032,
          0.0031,
          0.0031,
          0.003,
          0.0029,
          0.0029,
          0.0029,
          0.0028,
          0.0028,
          0.0027,
          0.0027,
          0.0027,
          0.0027,
          0.0027,
          0.0027,
          0.0027,
          0.0026,
          0.0026,
          0.0026,
          0.0026,
          0.0026,
          0.0026,
          0.0026,
          0.0026,
          0.0025,
          0.0025,
          0.0025,
          0.0025,
          0.0025,
          0.0024,
          0.0024,
          0.0024,
          0.0023,
          0.0023,
          0.0022,
          0.0022,
          0.0022,
          0.0022,
          0.0021,
          0.0021,
          0.0021,
          0.0021,
          0.0021,
          0.0021,
          0.0021,
          0.0021,
          0.0021,
          0.0021,
          0.0021,
          0.002,
          0.002,
          0.002,
          0.0019,
          0.0019,
          0.0019,
          0.0019,
          0.0018,
          0.0018,
          0.0018,
          0.0018,
          0.0018,
          0.0018,
          0.0018,
          0.0018,
          0.0017,
          0.0017,
          0.0017,
          0.0017,
          0.0017,
          0.0017,
          0.0017,
          0.0016,
          0.0016,
          0.0016,
          0.0016,
          0.0016,
          0.0016,
          0.0016,
          0.0016,
          0.0015,
          0.0015,
          0.0015,
          0.0015,
          0.0015,
          0.0014,
          0.0014,
          0.0014,
          0.0014,
          0.0013,
          0.0013,
          0.0013,
          0.0013,
          0.0012,
          0.0012,
          0.0012,
          0.0012,
          0.0012,
          0.0011,
          0.0011,
          0.0011,
          0.0011,
          0.0011,
          0.0011,
          0.0011,
          0.001,
          0.001,
          0.001,
          0.001,
          0.001,
          0.0009,
          0.0009,
          0.0008,
          0.0008,
          0.0008,
          0.0008,
          0.0007
         ],
         "textposition": "outside",
         "type": "bar",
         "uid": "57dfb531-45dd-40f6-8ee9-3e9d92c7c769",
         "x": [
          0.15593803332700396,
          0.10379470869863647,
          0.08160060141665607,
          0.06115658079795786,
          0.04686307820815349,
          0.03166464789663924,
          0.030947738657114233,
          0.0279988006841334,
          0.02562222483429725,
          0.02492555776944781,
          0.023718561204253634,
          0.021245902227738207,
          0.020149489361837337,
          0.015852053076626273,
          0.013979577816225455,
          0.011290751174075651,
          0.009812853723014235,
          0.009655517373046082,
          0.006396571632246407,
          0.004713525663305474,
          0.004565180159366251,
          0.004437284306961145,
          0.004176003732647373,
          0.004133885579099862,
          0.003997666398127736,
          0.003965754560344232,
          0.003916910343301088,
          0.0038526153031017258,
          0.003818781635942432,
          0.0037267948750428098,
          0.00363139489529637,
          0.0036068503345565916,
          0.0034424280160311135,
          0.003413421706334249,
          0.003236007626639988,
          0.0031415525687853323,
          0.003126663892059089,
          0.0029582447990017147,
          0.002898570172491533,
          0.0028844840915170063,
          0.0028767137500874873,
          0.0028445951076623366,
          0.002801147012109039,
          0.00273731986295313,
          0.0027093651661912735,
          0.0027058479379705263,
          0.002673491021379866,
          0.0026600027391016183,
          0.002658562592791192,
          0.0026582615914023137,
          0.0026455456471531874,
          0.002644432215030863,
          0.0026419661822148664,
          0.0026402066299018585,
          0.002627391595478227,
          0.0025917213630112,
          0.002582685340074538,
          0.0025565238981883525,
          0.002543445457052234,
          0.002541977563387517,
          0.0025051430264560904,
          0.0024728075254682206,
          0.002453913782839848,
          0.002406090049663042,
          0.002401188240860847,
          0.002392449223530939,
          0.002346709018566704,
          0.0023307366513274615,
          0.0022271331948821977,
          0.0022070156530675346,
          0.002177070671170187,
          0.002159750190483498,
          0.002148658809167859,
          0.002141696678464973,
          0.0021305452823062376,
          0.002115092842095973,
          0.0021126864119154288,
          0.0021000103309378377,
          0.0020834596887632046,
          0.0020748356169032547,
          0.0020691936969150534,
          0.0020591491025899614,
          0.002050044814692265,
          0.001980992209695065,
          0.001960021226405028,
          0.001952591304727187,
          0.0019149722773950124,
          0.0018934905183854514,
          0.001879282958600252,
          0.0018509874204462548,
          0.0018349543359081355,
          0.0018301178946663432,
          0.0018221926424283382,
          0.0018160093483608655,
          0.0017870023271381534,
          0.0017798923904573387,
          0.0017641720922782762,
          0.0017617678330976796,
          0.0017377509944867839,
          0.0017268240110905587,
          0.0017250304597522426,
          0.0016723221620898725,
          0.0016690950077799035,
          0.0016682266962954073,
          0.0016505687851083386,
          0.0016434468042090728,
          0.0015993229634487568,
          0.0015989643872945203,
          0.0015930451168750844,
          0.0015763376415035076,
          0.00156908684069541,
          0.00155415805159109,
          0.0015505769746300285,
          0.0015432626600737787,
          0.0015394087015978383,
          0.0014786106613025498,
          0.001473437193517504,
          0.0014625366446907283,
          0.001404074505614207,
          0.0013978942778778759,
          0.0013795636488988232,
          0.001350598250541424,
          0.001341878983361473,
          0.0012985017549177543,
          0.0012970622602893442,
          0.0012807044356543892,
          0.001225512039782631,
          0.0012223670041586945,
          0.0011886087650207777,
          0.0011838416520676234,
          0.00117172819995187,
          0.0011413721566712488,
          0.0011398155145808577,
          0.0011317075588417706,
          0.0011252338247997734,
          0.0010813121211291023,
          0.0010770449458798017,
          0.0010628057436080486,
          0.001045638241923175,
          0.0010298917378232185,
          0.0010287462598428348,
          0.0009947336692918915,
          0.0009855523520323883,
          0.0009467301943264216,
          0.0009316172758134962,
          0.0008272442202625211,
          0.0008120340068312563,
          0.0008091552646088136,
          0.0007894259699578465,
          0.0006732899103499013
         ],
         "y": [
          "25",
          "0",
          "40",
          "9",
          "2",
          "23",
          "27",
          "43",
          "1",
          "8",
          "109",
          "33",
          "16",
          "122",
          "3",
          "44",
          "79",
          "28",
          "39",
          "61",
          "11",
          "21",
          "58",
          "62",
          "36",
          "71",
          "24",
          "22",
          "29",
          "18",
          "50",
          "53",
          "19",
          "130",
          "89",
          "112",
          "114",
          "78",
          "41",
          "87",
          "14",
          "17",
          "102",
          "118",
          "6",
          "141",
          "56",
          "121",
          "7",
          "35",
          "57",
          "103",
          "86",
          "149",
          "54",
          "72",
          "129",
          "107",
          "85",
          "80",
          "38",
          "117",
          "63",
          "125",
          "123",
          "5",
          "127",
          "32",
          "83",
          "140",
          "69",
          "55",
          "12",
          "147",
          "70",
          "120",
          "64",
          "96",
          "67",
          "26",
          "10",
          "99",
          "31",
          "126",
          "142",
          "146",
          "138",
          "4",
          "148",
          "52",
          "111",
          "45",
          "75",
          "68",
          "47",
          "30",
          "116",
          "51",
          "131",
          "60",
          "46",
          "91",
          "128",
          "73",
          "15",
          "145",
          "113",
          "59",
          "34",
          "84",
          "132",
          "135",
          "42",
          "98",
          "139",
          "92",
          "133",
          "77",
          "100",
          "20",
          "48",
          "93",
          "13",
          "49",
          "65",
          "88",
          "143",
          "137",
          "124",
          "66",
          "81",
          "104",
          "74",
          "95",
          "119",
          "94",
          "82",
          "106",
          "110",
          "105",
          "37",
          "144",
          "136",
          "97",
          "115",
          "134",
          "101",
          "108",
          "90",
          "76"
         ]
        }
       ],
       "layout": {
        "autosize": false,
        "height": 1000,
        "width": 1000,
        "xaxis": {
         "tickfont": {
          "color": "black",
          "size": 12
         },
         "title": "Feature Importances"
        },
        "yaxis": {
         "automargin": true
        }
       }
      },
      "text/html": [
       "<div id=\"c29d2ffa-d56c-45ba-8683-a2111c467347\" style=\"height: 1000px; width: 1000px;\" class=\"plotly-graph-div\"></div><script type=\"text/javascript\">require([\"plotly\"], function(Plotly) { window.PLOTLYENV=window.PLOTLYENV || {};window.PLOTLYENV.BASE_URL=\"https://plot.ly\";Plotly.newPlot(\"c29d2ffa-d56c-45ba-8683-a2111c467347\", [{\"marker\": {\"color\": \"rgb(158,202,225)\", \"line\": {\"color\": \"rgb(8,48,107)\", \"width\": 1.5}}, \"opacity\": 0.6, \"orientation\": \"h\", \"text\": [0.1559, 0.1038, 0.0816, 0.0612, 0.0469, 0.0317, 0.0309, 0.028, 0.0256, 0.0249, 0.0237, 0.0212, 0.0201, 0.0159, 0.014, 0.0113, 0.0098, 0.0097, 0.0064, 0.0047, 0.0046, 0.0044, 0.0042, 0.0041, 0.004, 0.004, 0.0039, 0.0039, 0.0038, 0.0037, 0.0036, 0.0036, 0.0034, 0.0034, 0.0032, 0.0031, 0.0031, 0.003, 0.0029, 0.0029, 0.0029, 0.0028, 0.0028, 0.0027, 0.0027, 0.0027, 0.0027, 0.0027, 0.0027, 0.0027, 0.0026, 0.0026, 0.0026, 0.0026, 0.0026, 0.0026, 0.0026, 0.0026, 0.0025, 0.0025, 0.0025, 0.0025, 0.0025, 0.0024, 0.0024, 0.0024, 0.0023, 0.0023, 0.0022, 0.0022, 0.0022, 0.0022, 0.0021, 0.0021, 0.0021, 0.0021, 0.0021, 0.0021, 0.0021, 0.0021, 0.0021, 0.0021, 0.0021, 0.002, 0.002, 0.002, 0.0019, 0.0019, 0.0019, 0.0019, 0.0018, 0.0018, 0.0018, 0.0018, 0.0018, 0.0018, 0.0018, 0.0018, 0.0017, 0.0017, 0.0017, 0.0017, 0.0017, 0.0017, 0.0017, 0.0016, 0.0016, 0.0016, 0.0016, 0.0016, 0.0016, 0.0016, 0.0016, 0.0015, 0.0015, 0.0015, 0.0015, 0.0015, 0.0014, 0.0014, 0.0014, 0.0014, 0.0013, 0.0013, 0.0013, 0.0013, 0.0012, 0.0012, 0.0012, 0.0012, 0.0012, 0.0011, 0.0011, 0.0011, 0.0011, 0.0011, 0.0011, 0.0011, 0.001, 0.001, 0.001, 0.001, 0.001, 0.0009, 0.0009, 0.0008, 0.0008, 0.0008, 0.0008, 0.0007], \"textposition\": \"outside\", \"x\": [0.15593803332700396, 0.10379470869863647, 0.08160060141665607, 0.06115658079795786, 0.04686307820815349, 0.03166464789663924, 0.030947738657114233, 0.0279988006841334, 0.02562222483429725, 0.02492555776944781, 0.023718561204253634, 0.021245902227738207, 0.020149489361837337, 0.015852053076626273, 0.013979577816225455, 0.011290751174075651, 0.009812853723014235, 0.009655517373046082, 0.006396571632246407, 0.004713525663305474, 0.004565180159366251, 0.004437284306961145, 0.004176003732647373, 0.004133885579099862, 0.003997666398127736, 0.003965754560344232, 0.003916910343301088, 0.0038526153031017258, 0.003818781635942432, 0.0037267948750428098, 0.00363139489529637, 0.0036068503345565916, 0.0034424280160311135, 0.003413421706334249, 0.003236007626639988, 0.0031415525687853323, 0.003126663892059089, 0.0029582447990017147, 0.002898570172491533, 0.0028844840915170063, 0.0028767137500874873, 0.0028445951076623366, 0.002801147012109039, 0.00273731986295313, 0.0027093651661912735, 0.0027058479379705263, 0.002673491021379866, 0.0026600027391016183, 0.002658562592791192, 0.0026582615914023137, 0.0026455456471531874, 0.002644432215030863, 0.0026419661822148664, 0.0026402066299018585, 0.002627391595478227, 0.0025917213630112, 0.002582685340074538, 0.0025565238981883525, 0.002543445457052234, 0.002541977563387517, 0.0025051430264560904, 0.0024728075254682206, 0.002453913782839848, 0.002406090049663042, 0.002401188240860847, 0.002392449223530939, 0.002346709018566704, 0.0023307366513274615, 0.0022271331948821977, 0.0022070156530675346, 0.002177070671170187, 0.002159750190483498, 0.002148658809167859, 0.002141696678464973, 0.0021305452823062376, 0.002115092842095973, 0.0021126864119154288, 0.0021000103309378377, 0.0020834596887632046, 0.0020748356169032547, 0.0020691936969150534, 0.0020591491025899614, 0.002050044814692265, 0.001980992209695065, 0.001960021226405028, 0.001952591304727187, 0.0019149722773950124, 0.0018934905183854514, 0.001879282958600252, 0.0018509874204462548, 0.0018349543359081355, 0.0018301178946663432, 0.0018221926424283382, 0.0018160093483608655, 0.0017870023271381534, 0.0017798923904573387, 0.0017641720922782762, 0.0017617678330976796, 0.0017377509944867839, 0.0017268240110905587, 0.0017250304597522426, 0.0016723221620898725, 0.0016690950077799035, 0.0016682266962954073, 0.0016505687851083386, 0.0016434468042090728, 0.0015993229634487568, 0.0015989643872945203, 0.0015930451168750844, 0.0015763376415035076, 0.00156908684069541, 0.00155415805159109, 0.0015505769746300285, 0.0015432626600737787, 0.0015394087015978383, 0.0014786106613025498, 0.001473437193517504, 0.0014625366446907283, 0.001404074505614207, 0.0013978942778778759, 0.0013795636488988232, 0.001350598250541424, 0.001341878983361473, 0.0012985017549177543, 0.0012970622602893442, 0.0012807044356543892, 0.001225512039782631, 0.0012223670041586945, 0.0011886087650207777, 0.0011838416520676234, 0.00117172819995187, 0.0011413721566712488, 0.0011398155145808577, 0.0011317075588417706, 0.0011252338247997734, 0.0010813121211291023, 0.0010770449458798017, 0.0010628057436080486, 0.001045638241923175, 0.0010298917378232185, 0.0010287462598428348, 0.0009947336692918915, 0.0009855523520323883, 0.0009467301943264216, 0.0009316172758134962, 0.0008272442202625211, 0.0008120340068312563, 0.0008091552646088136, 0.0007894259699578465, 0.0006732899103499013], \"y\": [\"25\", \"0\", \"40\", \"9\", \"2\", \"23\", \"27\", \"43\", \"1\", \"8\", \"109\", \"33\", \"16\", \"122\", \"3\", \"44\", \"79\", \"28\", \"39\", \"61\", \"11\", \"21\", \"58\", \"62\", \"36\", \"71\", \"24\", \"22\", \"29\", \"18\", \"50\", \"53\", \"19\", \"130\", \"89\", \"112\", \"114\", \"78\", \"41\", \"87\", \"14\", \"17\", \"102\", \"118\", \"6\", \"141\", \"56\", \"121\", \"7\", \"35\", \"57\", \"103\", \"86\", \"149\", \"54\", \"72\", \"129\", \"107\", \"85\", \"80\", \"38\", \"117\", \"63\", \"125\", \"123\", \"5\", \"127\", \"32\", \"83\", \"140\", \"69\", \"55\", \"12\", \"147\", \"70\", \"120\", \"64\", \"96\", \"67\", \"26\", \"10\", \"99\", \"31\", \"126\", \"142\", \"146\", \"138\", \"4\", \"148\", \"52\", \"111\", \"45\", \"75\", \"68\", \"47\", \"30\", \"116\", \"51\", \"131\", \"60\", \"46\", \"91\", \"128\", \"73\", \"15\", \"145\", \"113\", \"59\", \"34\", \"84\", \"132\", \"135\", \"42\", \"98\", \"139\", \"92\", \"133\", \"77\", \"100\", \"20\", \"48\", \"93\", \"13\", \"49\", \"65\", \"88\", \"143\", \"137\", \"124\", \"66\", \"81\", \"104\", \"74\", \"95\", \"119\", \"94\", \"82\", \"106\", \"110\", \"105\", \"37\", \"144\", \"136\", \"97\", \"115\", \"134\", \"101\", \"108\", \"90\", \"76\"], \"type\": \"bar\", \"uid\": \"57dfb531-45dd-40f6-8ee9-3e9d92c7c769\"}], {\"autosize\": false, \"height\": 1000, \"width\": 1000, \"xaxis\": {\"tickfont\": {\"color\": \"black\", \"size\": 12}, \"title\": \"Feature Importances\"}, \"yaxis\": {\"automargin\": true}}, {\"showLink\": true, \"linkText\": \"Export to plot.ly\", \"plotlyServerURL\": \"https://plot.ly\"})});</script>"
      ],
      "text/vnd.plotly.v1+html": [
       "<div id=\"c29d2ffa-d56c-45ba-8683-a2111c467347\" style=\"height: 1000px; width: 1000px;\" class=\"plotly-graph-div\"></div><script type=\"text/javascript\">require([\"plotly\"], function(Plotly) { window.PLOTLYENV=window.PLOTLYENV || {};window.PLOTLYENV.BASE_URL=\"https://plot.ly\";Plotly.newPlot(\"c29d2ffa-d56c-45ba-8683-a2111c467347\", [{\"marker\": {\"color\": \"rgb(158,202,225)\", \"line\": {\"color\": \"rgb(8,48,107)\", \"width\": 1.5}}, \"opacity\": 0.6, \"orientation\": \"h\", \"text\": [0.1559, 0.1038, 0.0816, 0.0612, 0.0469, 0.0317, 0.0309, 0.028, 0.0256, 0.0249, 0.0237, 0.0212, 0.0201, 0.0159, 0.014, 0.0113, 0.0098, 0.0097, 0.0064, 0.0047, 0.0046, 0.0044, 0.0042, 0.0041, 0.004, 0.004, 0.0039, 0.0039, 0.0038, 0.0037, 0.0036, 0.0036, 0.0034, 0.0034, 0.0032, 0.0031, 0.0031, 0.003, 0.0029, 0.0029, 0.0029, 0.0028, 0.0028, 0.0027, 0.0027, 0.0027, 0.0027, 0.0027, 0.0027, 0.0027, 0.0026, 0.0026, 0.0026, 0.0026, 0.0026, 0.0026, 0.0026, 0.0026, 0.0025, 0.0025, 0.0025, 0.0025, 0.0025, 0.0024, 0.0024, 0.0024, 0.0023, 0.0023, 0.0022, 0.0022, 0.0022, 0.0022, 0.0021, 0.0021, 0.0021, 0.0021, 0.0021, 0.0021, 0.0021, 0.0021, 0.0021, 0.0021, 0.0021, 0.002, 0.002, 0.002, 0.0019, 0.0019, 0.0019, 0.0019, 0.0018, 0.0018, 0.0018, 0.0018, 0.0018, 0.0018, 0.0018, 0.0018, 0.0017, 0.0017, 0.0017, 0.0017, 0.0017, 0.0017, 0.0017, 0.0016, 0.0016, 0.0016, 0.0016, 0.0016, 0.0016, 0.0016, 0.0016, 0.0015, 0.0015, 0.0015, 0.0015, 0.0015, 0.0014, 0.0014, 0.0014, 0.0014, 0.0013, 0.0013, 0.0013, 0.0013, 0.0012, 0.0012, 0.0012, 0.0012, 0.0012, 0.0011, 0.0011, 0.0011, 0.0011, 0.0011, 0.0011, 0.0011, 0.001, 0.001, 0.001, 0.001, 0.001, 0.0009, 0.0009, 0.0008, 0.0008, 0.0008, 0.0008, 0.0007], \"textposition\": \"outside\", \"x\": [0.15593803332700396, 0.10379470869863647, 0.08160060141665607, 0.06115658079795786, 0.04686307820815349, 0.03166464789663924, 0.030947738657114233, 0.0279988006841334, 0.02562222483429725, 0.02492555776944781, 0.023718561204253634, 0.021245902227738207, 0.020149489361837337, 0.015852053076626273, 0.013979577816225455, 0.011290751174075651, 0.009812853723014235, 0.009655517373046082, 0.006396571632246407, 0.004713525663305474, 0.004565180159366251, 0.004437284306961145, 0.004176003732647373, 0.004133885579099862, 0.003997666398127736, 0.003965754560344232, 0.003916910343301088, 0.0038526153031017258, 0.003818781635942432, 0.0037267948750428098, 0.00363139489529637, 0.0036068503345565916, 0.0034424280160311135, 0.003413421706334249, 0.003236007626639988, 0.0031415525687853323, 0.003126663892059089, 0.0029582447990017147, 0.002898570172491533, 0.0028844840915170063, 0.0028767137500874873, 0.0028445951076623366, 0.002801147012109039, 0.00273731986295313, 0.0027093651661912735, 0.0027058479379705263, 0.002673491021379866, 0.0026600027391016183, 0.002658562592791192, 0.0026582615914023137, 0.0026455456471531874, 0.002644432215030863, 0.0026419661822148664, 0.0026402066299018585, 0.002627391595478227, 0.0025917213630112, 0.002582685340074538, 0.0025565238981883525, 0.002543445457052234, 0.002541977563387517, 0.0025051430264560904, 0.0024728075254682206, 0.002453913782839848, 0.002406090049663042, 0.002401188240860847, 0.002392449223530939, 0.002346709018566704, 0.0023307366513274615, 0.0022271331948821977, 0.0022070156530675346, 0.002177070671170187, 0.002159750190483498, 0.002148658809167859, 0.002141696678464973, 0.0021305452823062376, 0.002115092842095973, 0.0021126864119154288, 0.0021000103309378377, 0.0020834596887632046, 0.0020748356169032547, 0.0020691936969150534, 0.0020591491025899614, 0.002050044814692265, 0.001980992209695065, 0.001960021226405028, 0.001952591304727187, 0.0019149722773950124, 0.0018934905183854514, 0.001879282958600252, 0.0018509874204462548, 0.0018349543359081355, 0.0018301178946663432, 0.0018221926424283382, 0.0018160093483608655, 0.0017870023271381534, 0.0017798923904573387, 0.0017641720922782762, 0.0017617678330976796, 0.0017377509944867839, 0.0017268240110905587, 0.0017250304597522426, 0.0016723221620898725, 0.0016690950077799035, 0.0016682266962954073, 0.0016505687851083386, 0.0016434468042090728, 0.0015993229634487568, 0.0015989643872945203, 0.0015930451168750844, 0.0015763376415035076, 0.00156908684069541, 0.00155415805159109, 0.0015505769746300285, 0.0015432626600737787, 0.0015394087015978383, 0.0014786106613025498, 0.001473437193517504, 0.0014625366446907283, 0.001404074505614207, 0.0013978942778778759, 0.0013795636488988232, 0.001350598250541424, 0.001341878983361473, 0.0012985017549177543, 0.0012970622602893442, 0.0012807044356543892, 0.001225512039782631, 0.0012223670041586945, 0.0011886087650207777, 0.0011838416520676234, 0.00117172819995187, 0.0011413721566712488, 0.0011398155145808577, 0.0011317075588417706, 0.0011252338247997734, 0.0010813121211291023, 0.0010770449458798017, 0.0010628057436080486, 0.001045638241923175, 0.0010298917378232185, 0.0010287462598428348, 0.0009947336692918915, 0.0009855523520323883, 0.0009467301943264216, 0.0009316172758134962, 0.0008272442202625211, 0.0008120340068312563, 0.0008091552646088136, 0.0007894259699578465, 0.0006732899103499013], \"y\": [\"25\", \"0\", \"40\", \"9\", \"2\", \"23\", \"27\", \"43\", \"1\", \"8\", \"109\", \"33\", \"16\", \"122\", \"3\", \"44\", \"79\", \"28\", \"39\", \"61\", \"11\", \"21\", \"58\", \"62\", \"36\", \"71\", \"24\", \"22\", \"29\", \"18\", \"50\", \"53\", \"19\", \"130\", \"89\", \"112\", \"114\", \"78\", \"41\", \"87\", \"14\", \"17\", \"102\", \"118\", \"6\", \"141\", \"56\", \"121\", \"7\", \"35\", \"57\", \"103\", \"86\", \"149\", \"54\", \"72\", \"129\", \"107\", \"85\", \"80\", \"38\", \"117\", \"63\", \"125\", \"123\", \"5\", \"127\", \"32\", \"83\", \"140\", \"69\", \"55\", \"12\", \"147\", \"70\", \"120\", \"64\", \"96\", \"67\", \"26\", \"10\", \"99\", \"31\", \"126\", \"142\", \"146\", \"138\", \"4\", \"148\", \"52\", \"111\", \"45\", \"75\", \"68\", \"47\", \"30\", \"116\", \"51\", \"131\", \"60\", \"46\", \"91\", \"128\", \"73\", \"15\", \"145\", \"113\", \"59\", \"34\", \"84\", \"132\", \"135\", \"42\", \"98\", \"139\", \"92\", \"133\", \"77\", \"100\", \"20\", \"48\", \"93\", \"13\", \"49\", \"65\", \"88\", \"143\", \"137\", \"124\", \"66\", \"81\", \"104\", \"74\", \"95\", \"119\", \"94\", \"82\", \"106\", \"110\", \"105\", \"37\", \"144\", \"136\", \"97\", \"115\", \"134\", \"101\", \"108\", \"90\", \"76\"], \"type\": \"bar\", \"uid\": \"57dfb531-45dd-40f6-8ee9-3e9d92c7c769\"}], {\"autosize\": false, \"height\": 1000, \"width\": 1000, \"xaxis\": {\"tickfont\": {\"color\": \"black\", \"size\": 12}, \"title\": \"Feature Importances\"}, \"yaxis\": {\"automargin\": true}}, {\"showLink\": true, \"linkText\": \"Export to plot.ly\", \"plotlyServerURL\": \"https://plot.ly\"})});</script>"
      ]
     },
     "metadata": {},
     "output_type": "display_data"
    },
    {
     "name": "stdout",
     "output_type": "stream",
     "text": [
      "\n",
      "\n",
      "\u001b[1mAdaoost Classifier\u001b[0m\n",
      "Accuracy of the model for training data is: 0.9072066816102189\n",
      "Confusion Matrix for training data is:\n"
     ]
    },
    {
     "data": {
      "text/plain": [
       "Predicted  False  True  __all__\n",
       "Actual                         \n",
       "False      25482  2356    27838\n",
       "True         666  4063     4729\n",
       "__all__    26148  6419    32567"
      ]
     },
     "metadata": {},
     "output_type": "display_data"
    },
    {
     "name": "stdout",
     "output_type": "stream",
     "text": [
      "Accuracy of the model for test data is: 0.9059199213952346\n",
      "Confusion Matrix for test data is:\n"
     ]
    },
    {
     "data": {
      "text/plain": [
       "Predicted  False  True  __all__\n",
       "Actual                         \n",
       "False       6357   583     6940\n",
       "True         183  1019     1202\n",
       "__all__     6540  1602     8142"
      ]
     },
     "metadata": {},
     "output_type": "display_data"
    },
    {
     "data": {
      "application/vnd.plotly.v1+json": {
       "config": {
        "linkText": "Export to plot.ly",
        "plotlyServerURL": "https://plot.ly",
        "showLink": true
       },
       "data": [
        {
         "marker": {
          "color": "rgb(158,202,225)",
          "line": {
           "color": "rgb(8,48,107)",
           "width": 1.5
          }
         },
         "opacity": 0.6,
         "orientation": "h",
         "text": [
          0.08,
          0.04,
          0.04,
          0.04,
          0.04,
          0.02,
          0.02,
          0.02,
          0.02,
          0.02,
          0.02,
          0.02,
          0.02,
          0.02,
          0.02,
          0.02,
          0.02,
          0.02,
          0.02,
          0.02,
          0.02,
          0.02,
          0.02,
          0.02,
          0.02,
          0.02,
          0.02,
          0.02,
          0.02,
          0.02,
          0.02,
          0.02,
          0.02,
          0.02,
          0.02,
          0.02,
          0.02,
          0.02,
          0.02,
          0.02,
          0.02,
          0.02,
          0.02,
          0,
          0,
          0,
          0,
          0,
          0,
          0,
          0,
          0,
          0,
          0,
          0,
          0,
          0,
          0,
          0,
          0,
          0,
          0,
          0,
          0,
          0,
          0,
          0,
          0,
          0,
          0,
          0,
          0,
          0,
          0,
          0,
          0,
          0,
          0,
          0,
          0,
          0,
          0,
          0,
          0,
          0,
          0,
          0,
          0,
          0,
          0,
          0,
          0,
          0,
          0,
          0,
          0,
          0,
          0,
          0,
          0,
          0,
          0,
          0,
          0,
          0,
          0,
          0,
          0,
          0,
          0,
          0,
          0,
          0,
          0,
          0,
          0,
          0,
          0,
          0,
          0,
          0,
          0,
          0,
          0,
          0,
          0,
          0,
          0,
          0,
          0,
          0,
          0,
          0,
          0,
          0,
          0,
          0,
          0,
          0,
          0,
          0,
          0,
          0,
          0,
          0,
          0,
          0,
          0,
          0,
          0
         ],
         "textposition": "outside",
         "type": "bar",
         "uid": "092650e9-20bb-42bc-873d-a380d9ac7a34",
         "x": [
          0.08,
          0.04,
          0.04,
          0.04,
          0.04,
          0.02,
          0.02,
          0.02,
          0.02,
          0.02,
          0.02,
          0.02,
          0.02,
          0.02,
          0.02,
          0.02,
          0.02,
          0.02,
          0.02,
          0.02,
          0.02,
          0.02,
          0.02,
          0.02,
          0.02,
          0.02,
          0.02,
          0.02,
          0.02,
          0.02,
          0.02,
          0.02,
          0.02,
          0.02,
          0.02,
          0.02,
          0.02,
          0.02,
          0.02,
          0.02,
          0.02,
          0.02,
          0.02,
          0,
          0,
          0,
          0,
          0,
          0,
          0,
          0,
          0,
          0,
          0,
          0,
          0,
          0,
          0,
          0,
          0,
          0,
          0,
          0,
          0,
          0,
          0,
          0,
          0,
          0,
          0,
          0,
          0,
          0,
          0,
          0,
          0,
          0,
          0,
          0,
          0,
          0,
          0,
          0,
          0,
          0,
          0,
          0,
          0,
          0,
          0,
          0,
          0,
          0,
          0,
          0,
          0,
          0,
          0,
          0,
          0,
          0,
          0,
          0,
          0,
          0,
          0,
          0,
          0,
          0,
          0,
          0,
          0,
          0,
          0,
          0,
          0,
          0,
          0,
          0,
          0,
          0,
          0,
          0,
          0,
          0,
          0,
          0,
          0,
          0,
          0,
          0,
          0,
          0,
          0,
          0,
          0,
          0,
          0,
          0,
          0,
          0,
          0,
          0,
          0,
          0,
          0,
          0,
          0,
          0,
          0
         ],
         "y": [
          "0",
          "1",
          "129",
          "67",
          "21",
          "124",
          "31",
          "34",
          "38",
          "39",
          "41",
          "126",
          "125",
          "44",
          "51",
          "120",
          "134",
          "119",
          "57",
          "112",
          "62",
          "63",
          "69",
          "71",
          "77",
          "79",
          "133",
          "45",
          "89",
          "18",
          "8",
          "9",
          "10",
          "11",
          "143",
          "14",
          "4",
          "2",
          "17",
          "142",
          "20",
          "25",
          "23",
          "99",
          "105",
          "92",
          "145",
          "93",
          "107",
          "146",
          "94",
          "106",
          "147",
          "103",
          "104",
          "100",
          "95",
          "96",
          "102",
          "148",
          "109",
          "101",
          "97",
          "98",
          "108",
          "135",
          "110",
          "111",
          "137",
          "132",
          "131",
          "138",
          "130",
          "128",
          "139",
          "127",
          "140",
          "141",
          "91",
          "123",
          "122",
          "121",
          "144",
          "118",
          "117",
          "116",
          "115",
          "114",
          "136",
          "113",
          "75",
          "90",
          "28",
          "47",
          "46",
          "43",
          "42",
          "40",
          "37",
          "36",
          "35",
          "33",
          "32",
          "30",
          "29",
          "27",
          "49",
          "26",
          "24",
          "22",
          "19",
          "16",
          "15",
          "13",
          "12",
          "7",
          "6",
          "5",
          "3",
          "48",
          "50",
          "88",
          "72",
          "87",
          "86",
          "85",
          "84",
          "83",
          "82",
          "81",
          "80",
          "78",
          "76",
          "74",
          "73",
          "70",
          "52",
          "68",
          "66",
          "65",
          "64",
          "61",
          "60",
          "59",
          "58",
          "56",
          "55",
          "54",
          "53",
          "149"
         ]
        }
       ],
       "layout": {
        "autosize": false,
        "height": 1000,
        "width": 1000,
        "xaxis": {
         "tickfont": {
          "color": "black",
          "size": 12
         },
         "title": "Feature Importances"
        },
        "yaxis": {
         "automargin": true
        }
       }
      },
      "text/html": [
       "<div id=\"03de3ee9-77d3-40f4-9945-8baff6c63240\" style=\"height: 1000px; width: 1000px;\" class=\"plotly-graph-div\"></div><script type=\"text/javascript\">require([\"plotly\"], function(Plotly) { window.PLOTLYENV=window.PLOTLYENV || {};window.PLOTLYENV.BASE_URL=\"https://plot.ly\";Plotly.newPlot(\"03de3ee9-77d3-40f4-9945-8baff6c63240\", [{\"marker\": {\"color\": \"rgb(158,202,225)\", \"line\": {\"color\": \"rgb(8,48,107)\", \"width\": 1.5}}, \"opacity\": 0.6, \"orientation\": \"h\", \"text\": [0.08, 0.04, 0.04, 0.04, 0.04, 0.02, 0.02, 0.02, 0.02, 0.02, 0.02, 0.02, 0.02, 0.02, 0.02, 0.02, 0.02, 0.02, 0.02, 0.02, 0.02, 0.02, 0.02, 0.02, 0.02, 0.02, 0.02, 0.02, 0.02, 0.02, 0.02, 0.02, 0.02, 0.02, 0.02, 0.02, 0.02, 0.02, 0.02, 0.02, 0.02, 0.02, 0.02, 0.0, 0.0, 0.0, 0.0, 0.0, 0.0, 0.0, 0.0, 0.0, 0.0, 0.0, 0.0, 0.0, 0.0, 0.0, 0.0, 0.0, 0.0, 0.0, 0.0, 0.0, 0.0, 0.0, 0.0, 0.0, 0.0, 0.0, 0.0, 0.0, 0.0, 0.0, 0.0, 0.0, 0.0, 0.0, 0.0, 0.0, 0.0, 0.0, 0.0, 0.0, 0.0, 0.0, 0.0, 0.0, 0.0, 0.0, 0.0, 0.0, 0.0, 0.0, 0.0, 0.0, 0.0, 0.0, 0.0, 0.0, 0.0, 0.0, 0.0, 0.0, 0.0, 0.0, 0.0, 0.0, 0.0, 0.0, 0.0, 0.0, 0.0, 0.0, 0.0, 0.0, 0.0, 0.0, 0.0, 0.0, 0.0, 0.0, 0.0, 0.0, 0.0, 0.0, 0.0, 0.0, 0.0, 0.0, 0.0, 0.0, 0.0, 0.0, 0.0, 0.0, 0.0, 0.0, 0.0, 0.0, 0.0, 0.0, 0.0, 0.0, 0.0, 0.0, 0.0, 0.0, 0.0, 0.0], \"textposition\": \"outside\", \"x\": [0.08, 0.04, 0.04, 0.04, 0.04, 0.02, 0.02, 0.02, 0.02, 0.02, 0.02, 0.02, 0.02, 0.02, 0.02, 0.02, 0.02, 0.02, 0.02, 0.02, 0.02, 0.02, 0.02, 0.02, 0.02, 0.02, 0.02, 0.02, 0.02, 0.02, 0.02, 0.02, 0.02, 0.02, 0.02, 0.02, 0.02, 0.02, 0.02, 0.02, 0.02, 0.02, 0.02, 0.0, 0.0, 0.0, 0.0, 0.0, 0.0, 0.0, 0.0, 0.0, 0.0, 0.0, 0.0, 0.0, 0.0, 0.0, 0.0, 0.0, 0.0, 0.0, 0.0, 0.0, 0.0, 0.0, 0.0, 0.0, 0.0, 0.0, 0.0, 0.0, 0.0, 0.0, 0.0, 0.0, 0.0, 0.0, 0.0, 0.0, 0.0, 0.0, 0.0, 0.0, 0.0, 0.0, 0.0, 0.0, 0.0, 0.0, 0.0, 0.0, 0.0, 0.0, 0.0, 0.0, 0.0, 0.0, 0.0, 0.0, 0.0, 0.0, 0.0, 0.0, 0.0, 0.0, 0.0, 0.0, 0.0, 0.0, 0.0, 0.0, 0.0, 0.0, 0.0, 0.0, 0.0, 0.0, 0.0, 0.0, 0.0, 0.0, 0.0, 0.0, 0.0, 0.0, 0.0, 0.0, 0.0, 0.0, 0.0, 0.0, 0.0, 0.0, 0.0, 0.0, 0.0, 0.0, 0.0, 0.0, 0.0, 0.0, 0.0, 0.0, 0.0, 0.0, 0.0, 0.0, 0.0, 0.0], \"y\": [\"0\", \"1\", \"129\", \"67\", \"21\", \"124\", \"31\", \"34\", \"38\", \"39\", \"41\", \"126\", \"125\", \"44\", \"51\", \"120\", \"134\", \"119\", \"57\", \"112\", \"62\", \"63\", \"69\", \"71\", \"77\", \"79\", \"133\", \"45\", \"89\", \"18\", \"8\", \"9\", \"10\", \"11\", \"143\", \"14\", \"4\", \"2\", \"17\", \"142\", \"20\", \"25\", \"23\", \"99\", \"105\", \"92\", \"145\", \"93\", \"107\", \"146\", \"94\", \"106\", \"147\", \"103\", \"104\", \"100\", \"95\", \"96\", \"102\", \"148\", \"109\", \"101\", \"97\", \"98\", \"108\", \"135\", \"110\", \"111\", \"137\", \"132\", \"131\", \"138\", \"130\", \"128\", \"139\", \"127\", \"140\", \"141\", \"91\", \"123\", \"122\", \"121\", \"144\", \"118\", \"117\", \"116\", \"115\", \"114\", \"136\", \"113\", \"75\", \"90\", \"28\", \"47\", \"46\", \"43\", \"42\", \"40\", \"37\", \"36\", \"35\", \"33\", \"32\", \"30\", \"29\", \"27\", \"49\", \"26\", \"24\", \"22\", \"19\", \"16\", \"15\", \"13\", \"12\", \"7\", \"6\", \"5\", \"3\", \"48\", \"50\", \"88\", \"72\", \"87\", \"86\", \"85\", \"84\", \"83\", \"82\", \"81\", \"80\", \"78\", \"76\", \"74\", \"73\", \"70\", \"52\", \"68\", \"66\", \"65\", \"64\", \"61\", \"60\", \"59\", \"58\", \"56\", \"55\", \"54\", \"53\", \"149\"], \"type\": \"bar\", \"uid\": \"092650e9-20bb-42bc-873d-a380d9ac7a34\"}], {\"autosize\": false, \"height\": 1000, \"width\": 1000, \"xaxis\": {\"tickfont\": {\"color\": \"black\", \"size\": 12}, \"title\": \"Feature Importances\"}, \"yaxis\": {\"automargin\": true}}, {\"showLink\": true, \"linkText\": \"Export to plot.ly\", \"plotlyServerURL\": \"https://plot.ly\"})});</script>"
      ],
      "text/vnd.plotly.v1+html": [
       "<div id=\"03de3ee9-77d3-40f4-9945-8baff6c63240\" style=\"height: 1000px; width: 1000px;\" class=\"plotly-graph-div\"></div><script type=\"text/javascript\">require([\"plotly\"], function(Plotly) { window.PLOTLYENV=window.PLOTLYENV || {};window.PLOTLYENV.BASE_URL=\"https://plot.ly\";Plotly.newPlot(\"03de3ee9-77d3-40f4-9945-8baff6c63240\", [{\"marker\": {\"color\": \"rgb(158,202,225)\", \"line\": {\"color\": \"rgb(8,48,107)\", \"width\": 1.5}}, \"opacity\": 0.6, \"orientation\": \"h\", \"text\": [0.08, 0.04, 0.04, 0.04, 0.04, 0.02, 0.02, 0.02, 0.02, 0.02, 0.02, 0.02, 0.02, 0.02, 0.02, 0.02, 0.02, 0.02, 0.02, 0.02, 0.02, 0.02, 0.02, 0.02, 0.02, 0.02, 0.02, 0.02, 0.02, 0.02, 0.02, 0.02, 0.02, 0.02, 0.02, 0.02, 0.02, 0.02, 0.02, 0.02, 0.02, 0.02, 0.02, 0.0, 0.0, 0.0, 0.0, 0.0, 0.0, 0.0, 0.0, 0.0, 0.0, 0.0, 0.0, 0.0, 0.0, 0.0, 0.0, 0.0, 0.0, 0.0, 0.0, 0.0, 0.0, 0.0, 0.0, 0.0, 0.0, 0.0, 0.0, 0.0, 0.0, 0.0, 0.0, 0.0, 0.0, 0.0, 0.0, 0.0, 0.0, 0.0, 0.0, 0.0, 0.0, 0.0, 0.0, 0.0, 0.0, 0.0, 0.0, 0.0, 0.0, 0.0, 0.0, 0.0, 0.0, 0.0, 0.0, 0.0, 0.0, 0.0, 0.0, 0.0, 0.0, 0.0, 0.0, 0.0, 0.0, 0.0, 0.0, 0.0, 0.0, 0.0, 0.0, 0.0, 0.0, 0.0, 0.0, 0.0, 0.0, 0.0, 0.0, 0.0, 0.0, 0.0, 0.0, 0.0, 0.0, 0.0, 0.0, 0.0, 0.0, 0.0, 0.0, 0.0, 0.0, 0.0, 0.0, 0.0, 0.0, 0.0, 0.0, 0.0, 0.0, 0.0, 0.0, 0.0, 0.0, 0.0], \"textposition\": \"outside\", \"x\": [0.08, 0.04, 0.04, 0.04, 0.04, 0.02, 0.02, 0.02, 0.02, 0.02, 0.02, 0.02, 0.02, 0.02, 0.02, 0.02, 0.02, 0.02, 0.02, 0.02, 0.02, 0.02, 0.02, 0.02, 0.02, 0.02, 0.02, 0.02, 0.02, 0.02, 0.02, 0.02, 0.02, 0.02, 0.02, 0.02, 0.02, 0.02, 0.02, 0.02, 0.02, 0.02, 0.02, 0.0, 0.0, 0.0, 0.0, 0.0, 0.0, 0.0, 0.0, 0.0, 0.0, 0.0, 0.0, 0.0, 0.0, 0.0, 0.0, 0.0, 0.0, 0.0, 0.0, 0.0, 0.0, 0.0, 0.0, 0.0, 0.0, 0.0, 0.0, 0.0, 0.0, 0.0, 0.0, 0.0, 0.0, 0.0, 0.0, 0.0, 0.0, 0.0, 0.0, 0.0, 0.0, 0.0, 0.0, 0.0, 0.0, 0.0, 0.0, 0.0, 0.0, 0.0, 0.0, 0.0, 0.0, 0.0, 0.0, 0.0, 0.0, 0.0, 0.0, 0.0, 0.0, 0.0, 0.0, 0.0, 0.0, 0.0, 0.0, 0.0, 0.0, 0.0, 0.0, 0.0, 0.0, 0.0, 0.0, 0.0, 0.0, 0.0, 0.0, 0.0, 0.0, 0.0, 0.0, 0.0, 0.0, 0.0, 0.0, 0.0, 0.0, 0.0, 0.0, 0.0, 0.0, 0.0, 0.0, 0.0, 0.0, 0.0, 0.0, 0.0, 0.0, 0.0, 0.0, 0.0, 0.0, 0.0], \"y\": [\"0\", \"1\", \"129\", \"67\", \"21\", \"124\", \"31\", \"34\", \"38\", \"39\", \"41\", \"126\", \"125\", \"44\", \"51\", \"120\", \"134\", \"119\", \"57\", \"112\", \"62\", \"63\", \"69\", \"71\", \"77\", \"79\", \"133\", \"45\", \"89\", \"18\", \"8\", \"9\", \"10\", \"11\", \"143\", \"14\", \"4\", \"2\", \"17\", \"142\", \"20\", \"25\", \"23\", \"99\", \"105\", \"92\", \"145\", \"93\", \"107\", \"146\", \"94\", \"106\", \"147\", \"103\", \"104\", \"100\", \"95\", \"96\", \"102\", \"148\", \"109\", \"101\", \"97\", \"98\", \"108\", \"135\", \"110\", \"111\", \"137\", \"132\", \"131\", \"138\", \"130\", \"128\", \"139\", \"127\", \"140\", \"141\", \"91\", \"123\", \"122\", \"121\", \"144\", \"118\", \"117\", \"116\", \"115\", \"114\", \"136\", \"113\", \"75\", \"90\", \"28\", \"47\", \"46\", \"43\", \"42\", \"40\", \"37\", \"36\", \"35\", \"33\", \"32\", \"30\", \"29\", \"27\", \"49\", \"26\", \"24\", \"22\", \"19\", \"16\", \"15\", \"13\", \"12\", \"7\", \"6\", \"5\", \"3\", \"48\", \"50\", \"88\", \"72\", \"87\", \"86\", \"85\", \"84\", \"83\", \"82\", \"81\", \"80\", \"78\", \"76\", \"74\", \"73\", \"70\", \"52\", \"68\", \"66\", \"65\", \"64\", \"61\", \"60\", \"59\", \"58\", \"56\", \"55\", \"54\", \"53\", \"149\"], \"type\": \"bar\", \"uid\": \"092650e9-20bb-42bc-873d-a380d9ac7a34\"}], {\"autosize\": false, \"height\": 1000, \"width\": 1000, \"xaxis\": {\"tickfont\": {\"color\": \"black\", \"size\": 12}, \"title\": \"Feature Importances\"}, \"yaxis\": {\"automargin\": true}}, {\"showLink\": true, \"linkText\": \"Export to plot.ly\", \"plotlyServerURL\": \"https://plot.ly\"})});</script>"
      ]
     },
     "metadata": {},
     "output_type": "display_data"
    },
    {
     "name": "stdout",
     "output_type": "stream",
     "text": [
      "\n",
      "\n",
      "\u001b[1mGradientBoosting Classifier\u001b[0m\n",
      "Accuracy of the model for training data is: 0.9132250437559493\n",
      "Confusion Matrix for training data is:\n"
     ]
    },
    {
     "data": {
      "text/plain": [
       "Predicted  False  True  __all__\n",
       "Actual                         \n",
       "False      25624  2214    27838\n",
       "True         612  4117     4729\n",
       "__all__    26236  6331    32567"
      ]
     },
     "metadata": {},
     "output_type": "display_data"
    },
    {
     "name": "stdout",
     "output_type": "stream",
     "text": [
      "Accuracy of the model for test data is: 0.9086219602063376\n",
      "Confusion Matrix for test data is:\n"
     ]
    },
    {
     "data": {
      "text/plain": [
       "Predicted  False  True  __all__\n",
       "Actual                         \n",
       "False       6375   565     6940\n",
       "True         179  1023     1202\n",
       "__all__     6554  1588     8142"
      ]
     },
     "metadata": {},
     "output_type": "display_data"
    },
    {
     "data": {
      "application/vnd.plotly.v1+json": {
       "config": {
        "linkText": "Export to plot.ly",
        "plotlyServerURL": "https://plot.ly",
        "showLink": true
       },
       "data": [
        {
         "marker": {
          "color": "rgb(158,202,225)",
          "line": {
           "color": "rgb(8,48,107)",
           "width": 1.5
          }
         },
         "opacity": 0.6,
         "orientation": "h",
         "text": [
          0.8094,
          0.0384,
          0.0231,
          0.0123,
          0.0116,
          0.0082,
          0.0063,
          0.0049,
          0.0046,
          0.0044,
          0.0035,
          0.0033,
          0.0029,
          0.0027,
          0.0026,
          0.0024,
          0.0022,
          0.0021,
          0.0021,
          0.002,
          0.002,
          0.002,
          0.0017,
          0.0017,
          0.0016,
          0.0016,
          0.0015,
          0.0015,
          0.0015,
          0.0014,
          0.0014,
          0.0013,
          0.0013,
          0.0012,
          0.0012,
          0.0012,
          0.0011,
          0.0011,
          0.001,
          0.001,
          0.001,
          0.0009,
          0.0009,
          0.0008,
          0.0008,
          0.0008,
          0.0008,
          0.0007,
          0.0007,
          0.0007,
          0.0007,
          0.0006,
          0.0006,
          0.0006,
          0.0006,
          0.0006,
          0.0005,
          0.0005,
          0.0005,
          0.0004,
          0.0004,
          0.0004,
          0.0004,
          0.0004,
          0.0004,
          0.0004,
          0.0004,
          0.0003,
          0.0003,
          0.0003,
          0.0003,
          0.0003,
          0.0003,
          0.0003,
          0.0003,
          0.0002,
          0.0002,
          0.0002,
          0.0002,
          0.0002,
          0.0002,
          0.0002,
          0.0002,
          0.0002,
          0.0002,
          0.0002,
          0.0001,
          0.0001,
          0.0001,
          0.0001,
          0.0001,
          0.0001,
          0.0001,
          0.0001,
          0.0001,
          0.0001,
          0.0001,
          0.0001,
          0.0001,
          0.0001,
          0.0001,
          0.0001,
          0.0001,
          0,
          0,
          0,
          0,
          0,
          0,
          0,
          0,
          0,
          0,
          0,
          0,
          0,
          0,
          0,
          0,
          0,
          0,
          0,
          0,
          0,
          0,
          0,
          0,
          0,
          0,
          0,
          0,
          0,
          0,
          0,
          0,
          0,
          0,
          0,
          0,
          0,
          0,
          0,
          0,
          0,
          0,
          0,
          0,
          0,
          0,
          0
         ],
         "textposition": "outside",
         "type": "bar",
         "uid": "3598cbbf-cd8e-4db9-a750-c6737cf0284d",
         "x": [
          0.8093865456552063,
          0.03835939442427865,
          0.023149065788381114,
          0.01234073032645342,
          0.011600465867535598,
          0.008243514037753037,
          0.0062586087836992545,
          0.004889050689172766,
          0.00456889193520732,
          0.004426968683645425,
          0.0035195498572574723,
          0.003263325727610344,
          0.0028632636812880047,
          0.002727501345630396,
          0.0026447724660591363,
          0.002389277793894992,
          0.0022498390763210493,
          0.0021437245103145715,
          0.0021004459573214177,
          0.0020371825004159554,
          0.0019806808290365107,
          0.0019554173276610013,
          0.001698640977909209,
          0.0016689278374892203,
          0.0016154778389547318,
          0.0015756093860693444,
          0.0015334226183090812,
          0.0015063634124329712,
          0.0014537129535435228,
          0.0014140389084714626,
          0.0013513773447191406,
          0.0013406754166214758,
          0.0012580283156313956,
          0.001195846522204327,
          0.0011573844469695213,
          0.0011516840676854515,
          0.0011277021056955866,
          0.0010880585234058226,
          0.0010131326551476145,
          0.0009888421853373737,
          0.0009589893929556995,
          0.0009496283526253594,
          0.0008518851083446424,
          0.0008490188125350802,
          0.0007732747274249871,
          0.000752704316558027,
          0.0007502458851469007,
          0.0007452585148000322,
          0.0007396747876030837,
          0.0007252713155443901,
          0.000652642668949937,
          0.0006277172058820662,
          0.0006271306921030503,
          0.0005941663593388588,
          0.0005888672355276984,
          0.0005664622622311172,
          0.0004930467157820641,
          0.00048639337189645504,
          0.00047407993267150093,
          0.0004393100248119928,
          0.00042529475830749763,
          0.0004251710822613685,
          0.00040894398063253366,
          0.0004021117645164688,
          0.00038556362220979894,
          0.00037287089452492286,
          0.00035775154511284257,
          0.00034813169055310597,
          0.0003369813405633263,
          0.00031863071201725974,
          0.0003111571993288887,
          0.0002972503228803879,
          0.0002858369756892624,
          0.0002794890798170724,
          0.000268030922780711,
          0.00023590080620451218,
          0.00022767801839719665,
          0.0002276046124124281,
          0.000222951686689746,
          0.0002191438235366646,
          0.00021372476036978682,
          0.00021323748343746388,
          0.00019328009153002343,
          0.0001880689768576429,
          0.00017662749672762374,
          0.00016874483692151822,
          0.00014810654443169307,
          0.00014563150918348977,
          0.00011543861470052835,
          0.00011051604927263508,
          9.845600833924114e-05,
          9.820206389708868e-05,
          8.76406139457384e-05,
          8.480669045781617e-05,
          7.976359541859173e-05,
          7.231730755783642e-05,
          6.667295718256741e-05,
          6.494424602875303e-05,
          6.420078633252179e-05,
          6.286159480862158e-05,
          5.842010707692862e-05,
          5.562884811883802e-05,
          5.4009774339243216e-05,
          4.97730217824639e-05,
          3.517252042269768e-05,
          3.170915959501002e-05,
          2.2639039353875706e-05,
          0,
          0,
          0,
          0,
          0,
          0,
          0,
          0,
          0,
          0,
          0,
          0,
          0,
          0,
          0,
          0,
          0,
          0,
          0,
          0,
          0,
          0,
          0,
          0,
          0,
          0,
          0,
          0,
          0,
          0,
          0,
          0,
          0,
          0,
          0,
          0,
          0,
          0,
          0,
          0,
          0,
          0,
          0
         ],
         "y": [
          "0",
          "79",
          "127",
          "131",
          "129",
          "7",
          "147",
          "120",
          "143",
          "21",
          "102",
          "14",
          "67",
          "5",
          "87",
          "125",
          "33",
          "36",
          "71",
          "41",
          "23",
          "49",
          "132",
          "38",
          "43",
          "72",
          "39",
          "32",
          "3",
          "19",
          "51",
          "83",
          "145",
          "45",
          "58",
          "82",
          "112",
          "61",
          "10",
          "81",
          "115",
          "46",
          "11",
          "65",
          "35",
          "4",
          "2",
          "15",
          "31",
          "142",
          "9",
          "84",
          "149",
          "16",
          "141",
          "64",
          "77",
          "6",
          "57",
          "1",
          "25",
          "17",
          "146",
          "78",
          "93",
          "118",
          "135",
          "60",
          "126",
          "68",
          "75",
          "63",
          "62",
          "37",
          "30",
          "73",
          "13",
          "98",
          "40",
          "24",
          "59",
          "100",
          "8",
          "69",
          "18",
          "116",
          "133",
          "92",
          "55",
          "52",
          "148",
          "20",
          "104",
          "124",
          "95",
          "96",
          "28",
          "139",
          "103",
          "86",
          "130",
          "80",
          "27",
          "76",
          "110",
          "53",
          "12",
          "106",
          "138",
          "85",
          "29",
          "34",
          "74",
          "134",
          "42",
          "136",
          "137",
          "44",
          "107",
          "140",
          "70",
          "47",
          "144",
          "66",
          "48",
          "50",
          "56",
          "88",
          "128",
          "89",
          "99",
          "108",
          "109",
          "105",
          "111",
          "26",
          "113",
          "114",
          "54",
          "117",
          "90",
          "97",
          "119",
          "94",
          "121",
          "122",
          "123",
          "91",
          "22",
          "101"
         ]
        }
       ],
       "layout": {
        "autosize": false,
        "height": 1000,
        "width": 1000,
        "xaxis": {
         "tickfont": {
          "color": "black",
          "size": 12
         },
         "title": "Feature Importances"
        },
        "yaxis": {
         "automargin": true
        }
       }
      },
      "text/html": [
       "<div id=\"410b9a10-2d3d-40f4-975b-16173443e553\" style=\"height: 1000px; width: 1000px;\" class=\"plotly-graph-div\"></div><script type=\"text/javascript\">require([\"plotly\"], function(Plotly) { window.PLOTLYENV=window.PLOTLYENV || {};window.PLOTLYENV.BASE_URL=\"https://plot.ly\";Plotly.newPlot(\"410b9a10-2d3d-40f4-975b-16173443e553\", [{\"marker\": {\"color\": \"rgb(158,202,225)\", \"line\": {\"color\": \"rgb(8,48,107)\", \"width\": 1.5}}, \"opacity\": 0.6, \"orientation\": \"h\", \"text\": [0.8094, 0.0384, 0.0231, 0.0123, 0.0116, 0.0082, 0.0063, 0.0049, 0.0046, 0.0044, 0.0035, 0.0033, 0.0029, 0.0027, 0.0026, 0.0024, 0.0022, 0.0021, 0.0021, 0.002, 0.002, 0.002, 0.0017, 0.0017, 0.0016, 0.0016, 0.0015, 0.0015, 0.0015, 0.0014, 0.0014, 0.0013, 0.0013, 0.0012, 0.0012, 0.0012, 0.0011, 0.0011, 0.001, 0.001, 0.001, 0.0009, 0.0009, 0.0008, 0.0008, 0.0008, 0.0008, 0.0007, 0.0007, 0.0007, 0.0007, 0.0006, 0.0006, 0.0006, 0.0006, 0.0006, 0.0005, 0.0005, 0.0005, 0.0004, 0.0004, 0.0004, 0.0004, 0.0004, 0.0004, 0.0004, 0.0004, 0.0003, 0.0003, 0.0003, 0.0003, 0.0003, 0.0003, 0.0003, 0.0003, 0.0002, 0.0002, 0.0002, 0.0002, 0.0002, 0.0002, 0.0002, 0.0002, 0.0002, 0.0002, 0.0002, 0.0001, 0.0001, 0.0001, 0.0001, 0.0001, 0.0001, 0.0001, 0.0001, 0.0001, 0.0001, 0.0001, 0.0001, 0.0001, 0.0001, 0.0001, 0.0001, 0.0001, 0.0, 0.0, 0.0, 0.0, 0.0, 0.0, 0.0, 0.0, 0.0, 0.0, 0.0, 0.0, 0.0, 0.0, 0.0, 0.0, 0.0, 0.0, 0.0, 0.0, 0.0, 0.0, 0.0, 0.0, 0.0, 0.0, 0.0, 0.0, 0.0, 0.0, 0.0, 0.0, 0.0, 0.0, 0.0, 0.0, 0.0, 0.0, 0.0, 0.0, 0.0, 0.0, 0.0, 0.0, 0.0, 0.0, 0.0], \"textposition\": \"outside\", \"x\": [0.8093865456552063, 0.03835939442427865, 0.023149065788381114, 0.01234073032645342, 0.011600465867535598, 0.008243514037753037, 0.0062586087836992545, 0.004889050689172766, 0.00456889193520732, 0.004426968683645425, 0.0035195498572574723, 0.003263325727610344, 0.0028632636812880047, 0.002727501345630396, 0.0026447724660591363, 0.002389277793894992, 0.0022498390763210493, 0.0021437245103145715, 0.0021004459573214177, 0.0020371825004159554, 0.0019806808290365107, 0.0019554173276610013, 0.001698640977909209, 0.0016689278374892203, 0.0016154778389547318, 0.0015756093860693444, 0.0015334226183090812, 0.0015063634124329712, 0.0014537129535435228, 0.0014140389084714626, 0.0013513773447191406, 0.0013406754166214758, 0.0012580283156313956, 0.001195846522204327, 0.0011573844469695213, 0.0011516840676854515, 0.0011277021056955866, 0.0010880585234058226, 0.0010131326551476145, 0.0009888421853373737, 0.0009589893929556995, 0.0009496283526253594, 0.0008518851083446424, 0.0008490188125350802, 0.0007732747274249871, 0.000752704316558027, 0.0007502458851469007, 0.0007452585148000322, 0.0007396747876030837, 0.0007252713155443901, 0.000652642668949937, 0.0006277172058820662, 0.0006271306921030503, 0.0005941663593388588, 0.0005888672355276984, 0.0005664622622311172, 0.0004930467157820641, 0.00048639337189645504, 0.00047407993267150093, 0.0004393100248119928, 0.00042529475830749763, 0.0004251710822613685, 0.00040894398063253366, 0.0004021117645164688, 0.00038556362220979894, 0.00037287089452492286, 0.00035775154511284257, 0.00034813169055310597, 0.0003369813405633263, 0.00031863071201725974, 0.0003111571993288887, 0.0002972503228803879, 0.0002858369756892624, 0.0002794890798170724, 0.000268030922780711, 0.00023590080620451218, 0.00022767801839719665, 0.0002276046124124281, 0.000222951686689746, 0.0002191438235366646, 0.00021372476036978682, 0.00021323748343746388, 0.00019328009153002343, 0.0001880689768576429, 0.00017662749672762374, 0.00016874483692151822, 0.00014810654443169307, 0.00014563150918348977, 0.00011543861470052835, 0.00011051604927263508, 9.845600833924114e-05, 9.820206389708868e-05, 8.76406139457384e-05, 8.480669045781617e-05, 7.976359541859173e-05, 7.231730755783642e-05, 6.667295718256741e-05, 6.494424602875303e-05, 6.420078633252179e-05, 6.286159480862158e-05, 5.842010707692862e-05, 5.562884811883802e-05, 5.4009774339243216e-05, 4.97730217824639e-05, 3.517252042269768e-05, 3.170915959501002e-05, 2.2639039353875706e-05, 0.0, 0.0, 0.0, 0.0, 0.0, 0.0, 0.0, 0.0, 0.0, 0.0, 0.0, 0.0, 0.0, 0.0, 0.0, 0.0, 0.0, 0.0, 0.0, 0.0, 0.0, 0.0, 0.0, 0.0, 0.0, 0.0, 0.0, 0.0, 0.0, 0.0, 0.0, 0.0, 0.0, 0.0, 0.0, 0.0, 0.0, 0.0, 0.0, 0.0, 0.0, 0.0, 0.0], \"y\": [\"0\", \"79\", \"127\", \"131\", \"129\", \"7\", \"147\", \"120\", \"143\", \"21\", \"102\", \"14\", \"67\", \"5\", \"87\", \"125\", \"33\", \"36\", \"71\", \"41\", \"23\", \"49\", \"132\", \"38\", \"43\", \"72\", \"39\", \"32\", \"3\", \"19\", \"51\", \"83\", \"145\", \"45\", \"58\", \"82\", \"112\", \"61\", \"10\", \"81\", \"115\", \"46\", \"11\", \"65\", \"35\", \"4\", \"2\", \"15\", \"31\", \"142\", \"9\", \"84\", \"149\", \"16\", \"141\", \"64\", \"77\", \"6\", \"57\", \"1\", \"25\", \"17\", \"146\", \"78\", \"93\", \"118\", \"135\", \"60\", \"126\", \"68\", \"75\", \"63\", \"62\", \"37\", \"30\", \"73\", \"13\", \"98\", \"40\", \"24\", \"59\", \"100\", \"8\", \"69\", \"18\", \"116\", \"133\", \"92\", \"55\", \"52\", \"148\", \"20\", \"104\", \"124\", \"95\", \"96\", \"28\", \"139\", \"103\", \"86\", \"130\", \"80\", \"27\", \"76\", \"110\", \"53\", \"12\", \"106\", \"138\", \"85\", \"29\", \"34\", \"74\", \"134\", \"42\", \"136\", \"137\", \"44\", \"107\", \"140\", \"70\", \"47\", \"144\", \"66\", \"48\", \"50\", \"56\", \"88\", \"128\", \"89\", \"99\", \"108\", \"109\", \"105\", \"111\", \"26\", \"113\", \"114\", \"54\", \"117\", \"90\", \"97\", \"119\", \"94\", \"121\", \"122\", \"123\", \"91\", \"22\", \"101\"], \"type\": \"bar\", \"uid\": \"3598cbbf-cd8e-4db9-a750-c6737cf0284d\"}], {\"autosize\": false, \"height\": 1000, \"width\": 1000, \"xaxis\": {\"tickfont\": {\"color\": \"black\", \"size\": 12}, \"title\": \"Feature Importances\"}, \"yaxis\": {\"automargin\": true}}, {\"showLink\": true, \"linkText\": \"Export to plot.ly\", \"plotlyServerURL\": \"https://plot.ly\"})});</script>"
      ],
      "text/vnd.plotly.v1+html": [
       "<div id=\"410b9a10-2d3d-40f4-975b-16173443e553\" style=\"height: 1000px; width: 1000px;\" class=\"plotly-graph-div\"></div><script type=\"text/javascript\">require([\"plotly\"], function(Plotly) { window.PLOTLYENV=window.PLOTLYENV || {};window.PLOTLYENV.BASE_URL=\"https://plot.ly\";Plotly.newPlot(\"410b9a10-2d3d-40f4-975b-16173443e553\", [{\"marker\": {\"color\": \"rgb(158,202,225)\", \"line\": {\"color\": \"rgb(8,48,107)\", \"width\": 1.5}}, \"opacity\": 0.6, \"orientation\": \"h\", \"text\": [0.8094, 0.0384, 0.0231, 0.0123, 0.0116, 0.0082, 0.0063, 0.0049, 0.0046, 0.0044, 0.0035, 0.0033, 0.0029, 0.0027, 0.0026, 0.0024, 0.0022, 0.0021, 0.0021, 0.002, 0.002, 0.002, 0.0017, 0.0017, 0.0016, 0.0016, 0.0015, 0.0015, 0.0015, 0.0014, 0.0014, 0.0013, 0.0013, 0.0012, 0.0012, 0.0012, 0.0011, 0.0011, 0.001, 0.001, 0.001, 0.0009, 0.0009, 0.0008, 0.0008, 0.0008, 0.0008, 0.0007, 0.0007, 0.0007, 0.0007, 0.0006, 0.0006, 0.0006, 0.0006, 0.0006, 0.0005, 0.0005, 0.0005, 0.0004, 0.0004, 0.0004, 0.0004, 0.0004, 0.0004, 0.0004, 0.0004, 0.0003, 0.0003, 0.0003, 0.0003, 0.0003, 0.0003, 0.0003, 0.0003, 0.0002, 0.0002, 0.0002, 0.0002, 0.0002, 0.0002, 0.0002, 0.0002, 0.0002, 0.0002, 0.0002, 0.0001, 0.0001, 0.0001, 0.0001, 0.0001, 0.0001, 0.0001, 0.0001, 0.0001, 0.0001, 0.0001, 0.0001, 0.0001, 0.0001, 0.0001, 0.0001, 0.0001, 0.0, 0.0, 0.0, 0.0, 0.0, 0.0, 0.0, 0.0, 0.0, 0.0, 0.0, 0.0, 0.0, 0.0, 0.0, 0.0, 0.0, 0.0, 0.0, 0.0, 0.0, 0.0, 0.0, 0.0, 0.0, 0.0, 0.0, 0.0, 0.0, 0.0, 0.0, 0.0, 0.0, 0.0, 0.0, 0.0, 0.0, 0.0, 0.0, 0.0, 0.0, 0.0, 0.0, 0.0, 0.0, 0.0, 0.0], \"textposition\": \"outside\", \"x\": [0.8093865456552063, 0.03835939442427865, 0.023149065788381114, 0.01234073032645342, 0.011600465867535598, 0.008243514037753037, 0.0062586087836992545, 0.004889050689172766, 0.00456889193520732, 0.004426968683645425, 0.0035195498572574723, 0.003263325727610344, 0.0028632636812880047, 0.002727501345630396, 0.0026447724660591363, 0.002389277793894992, 0.0022498390763210493, 0.0021437245103145715, 0.0021004459573214177, 0.0020371825004159554, 0.0019806808290365107, 0.0019554173276610013, 0.001698640977909209, 0.0016689278374892203, 0.0016154778389547318, 0.0015756093860693444, 0.0015334226183090812, 0.0015063634124329712, 0.0014537129535435228, 0.0014140389084714626, 0.0013513773447191406, 0.0013406754166214758, 0.0012580283156313956, 0.001195846522204327, 0.0011573844469695213, 0.0011516840676854515, 0.0011277021056955866, 0.0010880585234058226, 0.0010131326551476145, 0.0009888421853373737, 0.0009589893929556995, 0.0009496283526253594, 0.0008518851083446424, 0.0008490188125350802, 0.0007732747274249871, 0.000752704316558027, 0.0007502458851469007, 0.0007452585148000322, 0.0007396747876030837, 0.0007252713155443901, 0.000652642668949937, 0.0006277172058820662, 0.0006271306921030503, 0.0005941663593388588, 0.0005888672355276984, 0.0005664622622311172, 0.0004930467157820641, 0.00048639337189645504, 0.00047407993267150093, 0.0004393100248119928, 0.00042529475830749763, 0.0004251710822613685, 0.00040894398063253366, 0.0004021117645164688, 0.00038556362220979894, 0.00037287089452492286, 0.00035775154511284257, 0.00034813169055310597, 0.0003369813405633263, 0.00031863071201725974, 0.0003111571993288887, 0.0002972503228803879, 0.0002858369756892624, 0.0002794890798170724, 0.000268030922780711, 0.00023590080620451218, 0.00022767801839719665, 0.0002276046124124281, 0.000222951686689746, 0.0002191438235366646, 0.00021372476036978682, 0.00021323748343746388, 0.00019328009153002343, 0.0001880689768576429, 0.00017662749672762374, 0.00016874483692151822, 0.00014810654443169307, 0.00014563150918348977, 0.00011543861470052835, 0.00011051604927263508, 9.845600833924114e-05, 9.820206389708868e-05, 8.76406139457384e-05, 8.480669045781617e-05, 7.976359541859173e-05, 7.231730755783642e-05, 6.667295718256741e-05, 6.494424602875303e-05, 6.420078633252179e-05, 6.286159480862158e-05, 5.842010707692862e-05, 5.562884811883802e-05, 5.4009774339243216e-05, 4.97730217824639e-05, 3.517252042269768e-05, 3.170915959501002e-05, 2.2639039353875706e-05, 0.0, 0.0, 0.0, 0.0, 0.0, 0.0, 0.0, 0.0, 0.0, 0.0, 0.0, 0.0, 0.0, 0.0, 0.0, 0.0, 0.0, 0.0, 0.0, 0.0, 0.0, 0.0, 0.0, 0.0, 0.0, 0.0, 0.0, 0.0, 0.0, 0.0, 0.0, 0.0, 0.0, 0.0, 0.0, 0.0, 0.0, 0.0, 0.0, 0.0, 0.0, 0.0, 0.0], \"y\": [\"0\", \"79\", \"127\", \"131\", \"129\", \"7\", \"147\", \"120\", \"143\", \"21\", \"102\", \"14\", \"67\", \"5\", \"87\", \"125\", \"33\", \"36\", \"71\", \"41\", \"23\", \"49\", \"132\", \"38\", \"43\", \"72\", \"39\", \"32\", \"3\", \"19\", \"51\", \"83\", \"145\", \"45\", \"58\", \"82\", \"112\", \"61\", \"10\", \"81\", \"115\", \"46\", \"11\", \"65\", \"35\", \"4\", \"2\", \"15\", \"31\", \"142\", \"9\", \"84\", \"149\", \"16\", \"141\", \"64\", \"77\", \"6\", \"57\", \"1\", \"25\", \"17\", \"146\", \"78\", \"93\", \"118\", \"135\", \"60\", \"126\", \"68\", \"75\", \"63\", \"62\", \"37\", \"30\", \"73\", \"13\", \"98\", \"40\", \"24\", \"59\", \"100\", \"8\", \"69\", \"18\", \"116\", \"133\", \"92\", \"55\", \"52\", \"148\", \"20\", \"104\", \"124\", \"95\", \"96\", \"28\", \"139\", \"103\", \"86\", \"130\", \"80\", \"27\", \"76\", \"110\", \"53\", \"12\", \"106\", \"138\", \"85\", \"29\", \"34\", \"74\", \"134\", \"42\", \"136\", \"137\", \"44\", \"107\", \"140\", \"70\", \"47\", \"144\", \"66\", \"48\", \"50\", \"56\", \"88\", \"128\", \"89\", \"99\", \"108\", \"109\", \"105\", \"111\", \"26\", \"113\", \"114\", \"54\", \"117\", \"90\", \"97\", \"119\", \"94\", \"121\", \"122\", \"123\", \"91\", \"22\", \"101\"], \"type\": \"bar\", \"uid\": \"3598cbbf-cd8e-4db9-a750-c6737cf0284d\"}], {\"autosize\": false, \"height\": 1000, \"width\": 1000, \"xaxis\": {\"tickfont\": {\"color\": \"black\", \"size\": 12}, \"title\": \"Feature Importances\"}, \"yaxis\": {\"automargin\": true}}, {\"showLink\": true, \"linkText\": \"Export to plot.ly\", \"plotlyServerURL\": \"https://plot.ly\"})});</script>"
      ]
     },
     "metadata": {},
     "output_type": "display_data"
    },
    {
     "name": "stdout",
     "output_type": "stream",
     "text": [
      "\n",
      "\n",
      "\u001b[1mExtraTree Classifier\u001b[0m\n",
      "Accuracy of the model for training data is: 0.9279024779684957\n",
      "Confusion Matrix for training data is:\n"
     ]
    },
    {
     "data": {
      "text/plain": [
       "Predicted  False  True  __all__\n",
       "Actual                         \n",
       "False      25619  2219    27838\n",
       "True         129  4600     4729\n",
       "__all__    25748  6819    32567"
      ]
     },
     "metadata": {},
     "output_type": "display_data"
    },
    {
     "name": "stdout",
     "output_type": "stream",
     "text": [
      "Accuracy of the model for test data is: 0.9113239990174404\n",
      "Confusion Matrix for test data is:\n"
     ]
    },
    {
     "data": {
      "text/plain": [
       "Predicted  False  True  __all__\n",
       "Actual                         \n",
       "False       6361   579     6940\n",
       "True         143  1059     1202\n",
       "__all__     6504  1638     8142"
      ]
     },
     "metadata": {},
     "output_type": "display_data"
    },
    {
     "data": {
      "application/vnd.plotly.v1+json": {
       "config": {
        "linkText": "Export to plot.ly",
        "plotlyServerURL": "https://plot.ly",
        "showLink": true
       },
       "data": [
        {
         "marker": {
          "color": "rgb(158,202,225)",
          "line": {
           "color": "rgb(8,48,107)",
           "width": 1.5
          }
         },
         "opacity": 0.6,
         "orientation": "h",
         "text": [
          0.0365,
          0.03,
          0.0272,
          0.027,
          0.0234,
          0.0226,
          0.0215,
          0.0211,
          0.0195,
          0.0187,
          0.0184,
          0.018,
          0.017,
          0.0157,
          0.0149,
          0.0149,
          0.0147,
          0.0137,
          0.0127,
          0.0126,
          0.0124,
          0.0122,
          0.0121,
          0.012,
          0.0117,
          0.0116,
          0.0112,
          0.0112,
          0.0101,
          0.01,
          0.0099,
          0.0099,
          0.0097,
          0.0095,
          0.0089,
          0.0085,
          0.0085,
          0.0085,
          0.0083,
          0.0083,
          0.0082,
          0.0082,
          0.008,
          0.0078,
          0.0075,
          0.0075,
          0.0073,
          0.0073,
          0.0071,
          0.007,
          0.0069,
          0.0068,
          0.0067,
          0.0065,
          0.0064,
          0.006,
          0.0059,
          0.0059,
          0.0059,
          0.0058,
          0.0056,
          0.0054,
          0.0052,
          0.005,
          0.0049,
          0.0048,
          0.0048,
          0.0046,
          0.0044,
          0.0044,
          0.0043,
          0.0043,
          0.004,
          0.004,
          0.0039,
          0.0039,
          0.0037,
          0.0037,
          0.0037,
          0.0036,
          0.0036,
          0.0035,
          0.0035,
          0.0035,
          0.0032,
          0.0032,
          0.0032,
          0.0031,
          0.0031,
          0.0031,
          0.003,
          0.003,
          0.003,
          0.003,
          0.003,
          0.0029,
          0.0029,
          0.0029,
          0.0028,
          0.0028,
          0.0028,
          0.0028,
          0.0028,
          0.0027,
          0.0027,
          0.0027,
          0.0027,
          0.0026,
          0.0026,
          0.0025,
          0.0025,
          0.0025,
          0.0024,
          0.0024,
          0.0024,
          0.0023,
          0.0023,
          0.0023,
          0.0023,
          0.0023,
          0.0022,
          0.0022,
          0.0022,
          0.0021,
          0.0021,
          0.0021,
          0.0021,
          0.002,
          0.002,
          0.002,
          0.002,
          0.002,
          0.002,
          0.0019,
          0.0019,
          0.0019,
          0.0018,
          0.0017,
          0.0017,
          0.0017,
          0.0017,
          0.0017,
          0.0017,
          0.0017,
          0.0016,
          0.0016,
          0.0016,
          0.0016,
          0.0016,
          0.0011
         ],
         "textposition": "outside",
         "type": "bar",
         "uid": "6d208e79-edbf-4172-a14a-bb3eee799f9a",
         "x": [
          0.03651341625240222,
          0.029968859663400266,
          0.02718541146567795,
          0.026961972256608634,
          0.023397196226438415,
          0.02258033603160784,
          0.021459046065874475,
          0.021061912721612463,
          0.0194843332115516,
          0.01871445559769853,
          0.018386663134691474,
          0.01796458306151038,
          0.017022653885874182,
          0.015740916932768276,
          0.01493279803130751,
          0.014911110156992941,
          0.014730304496875197,
          0.013693496207649713,
          0.012656150428522046,
          0.01260703385061982,
          0.012375562213086996,
          0.0121634752648709,
          0.01207384059099407,
          0.012004812276596203,
          0.011703938403641145,
          0.011622126451052412,
          0.011235601084680847,
          0.011212144178301202,
          0.010080407838871173,
          0.010047280327591055,
          0.00993048588634628,
          0.009908820496027915,
          0.009728819270166705,
          0.009545867019632916,
          0.008910533643134917,
          0.008534567373487312,
          0.00849472283707509,
          0.008451460584781571,
          0.008341610745252435,
          0.008272031561254882,
          0.00824015173752579,
          0.008160304426541701,
          0.007956339259906162,
          0.007792042608590703,
          0.007492601280665608,
          0.00745574448918924,
          0.007335098039714963,
          0.007252924512129199,
          0.007056415514708911,
          0.007022575138426917,
          0.006938738207216325,
          0.006805363733339091,
          0.006665240139600746,
          0.006535258492454847,
          0.006390012964666009,
          0.005974574216825426,
          0.005936939682841375,
          0.0059251834148981355,
          0.005897550557940338,
          0.005816333428039012,
          0.005593240034143991,
          0.0054295014854934855,
          0.005213434051039675,
          0.005022215878460475,
          0.0049496119468724785,
          0.004844807973276655,
          0.0048033840622477035,
          0.004583022305093393,
          0.004430929547685666,
          0.004375308091606056,
          0.004321693567795812,
          0.004319441207663153,
          0.004021409655670839,
          0.003979236438788785,
          0.0038715773360024188,
          0.0038514912720833427,
          0.003748647417163394,
          0.0036968610615858146,
          0.0036683147519728544,
          0.0036238337293057156,
          0.003609653617651203,
          0.0035483493078405704,
          0.0035330083277672563,
          0.003477623280425291,
          0.0032121581458279336,
          0.003203043639275435,
          0.0031634040223669072,
          0.0030871046392773735,
          0.0030863233503537818,
          0.0030833365290085235,
          0.003017866276334855,
          0.0030054088983997667,
          0.003002406939655685,
          0.002996380871426771,
          0.0029546186190430976,
          0.002938687487142953,
          0.0029208915846390218,
          0.002863034743704458,
          0.0028410546570952215,
          0.0028301596927217836,
          0.002821711851336438,
          0.0028173460941926833,
          0.0027599340433772435,
          0.0027455698790018546,
          0.002730211620035376,
          0.00270217774169587,
          0.0026836446960667,
          0.0025587835731416134,
          0.0025506018212606025,
          0.0025217836071501016,
          0.002508547128879459,
          0.002458796735090317,
          0.0024405873888772214,
          0.002380096503410692,
          0.0023623630385635063,
          0.0023434940982923163,
          0.0023263370982450145,
          0.002292749562221398,
          0.0022859605170208338,
          0.00228531471874275,
          0.002207324672159248,
          0.0022047350382739233,
          0.002184116070677565,
          0.0021177960534299258,
          0.0020967422568401203,
          0.0020960441275386186,
          0.002069406366531472,
          0.0020466879243856793,
          0.0020441631786472176,
          0.0020327335852346503,
          0.0019989141412285914,
          0.0019926483578418495,
          0.001966078735039289,
          0.001938630445470671,
          0.0018894394133657677,
          0.0018869966837688217,
          0.0018003796963074726,
          0.0017204425476210622,
          0.0017132442928198947,
          0.0017101963492732425,
          0.0016731480310922503,
          0.0016614948541342621,
          0.0016598924954013667,
          0.0016506192700295331,
          0.0016165526721089872,
          0.0016047529836549182,
          0.0015934799419685727,
          0.0015796292779919415,
          0.001555884133900899,
          0.0011291886710001128
         ],
         "y": [
          "89",
          "51",
          "125",
          "0",
          "104",
          "53",
          "87",
          "114",
          "68",
          "32",
          "81",
          "80",
          "86",
          "8",
          "128",
          "77",
          "48",
          "95",
          "20",
          "27",
          "21",
          "105",
          "123",
          "91",
          "142",
          "148",
          "130",
          "145",
          "38",
          "61",
          "79",
          "50",
          "107",
          "76",
          "29",
          "141",
          "43",
          "115",
          "70",
          "39",
          "35",
          "56",
          "23",
          "28",
          "88",
          "112",
          "74",
          "3",
          "46",
          "31",
          "36",
          "22",
          "143",
          "99",
          "93",
          "147",
          "108",
          "120",
          "106",
          "98",
          "58",
          "135",
          "34",
          "100",
          "12",
          "110",
          "117",
          "84",
          "131",
          "133",
          "111",
          "127",
          "101",
          "82",
          "69",
          "7",
          "55",
          "63",
          "75",
          "14",
          "118",
          "71",
          "129",
          "102",
          "2",
          "73",
          "66",
          "139",
          "78",
          "122",
          "37",
          "140",
          "149",
          "67",
          "33",
          "146",
          "103",
          "113",
          "121",
          "52",
          "44",
          "124",
          "45",
          "90",
          "138",
          "6",
          "18",
          "144",
          "109",
          "116",
          "92",
          "137",
          "132",
          "60",
          "136",
          "1",
          "65",
          "59",
          "96",
          "134",
          "47",
          "4",
          "19",
          "25",
          "49",
          "30",
          "24",
          "11",
          "10",
          "13",
          "62",
          "54",
          "5",
          "85",
          "64",
          "9",
          "72",
          "126",
          "83",
          "94",
          "41",
          "57",
          "16",
          "15",
          "42",
          "26",
          "17",
          "40",
          "119",
          "97"
         ]
        }
       ],
       "layout": {
        "autosize": false,
        "height": 1000,
        "width": 1000,
        "xaxis": {
         "tickfont": {
          "color": "black",
          "size": 12
         },
         "title": "Feature Importances"
        },
        "yaxis": {
         "automargin": true
        }
       }
      },
      "text/html": [
       "<div id=\"3ec917df-6345-4e95-bd9b-697e5e6f0ddb\" style=\"height: 1000px; width: 1000px;\" class=\"plotly-graph-div\"></div><script type=\"text/javascript\">require([\"plotly\"], function(Plotly) { window.PLOTLYENV=window.PLOTLYENV || {};window.PLOTLYENV.BASE_URL=\"https://plot.ly\";Plotly.newPlot(\"3ec917df-6345-4e95-bd9b-697e5e6f0ddb\", [{\"marker\": {\"color\": \"rgb(158,202,225)\", \"line\": {\"color\": \"rgb(8,48,107)\", \"width\": 1.5}}, \"opacity\": 0.6, \"orientation\": \"h\", \"text\": [0.0365, 0.03, 0.0272, 0.027, 0.0234, 0.0226, 0.0215, 0.0211, 0.0195, 0.0187, 0.0184, 0.018, 0.017, 0.0157, 0.0149, 0.0149, 0.0147, 0.0137, 0.0127, 0.0126, 0.0124, 0.0122, 0.0121, 0.012, 0.0117, 0.0116, 0.0112, 0.0112, 0.0101, 0.01, 0.0099, 0.0099, 0.0097, 0.0095, 0.0089, 0.0085, 0.0085, 0.0085, 0.0083, 0.0083, 0.0082, 0.0082, 0.008, 0.0078, 0.0075, 0.0075, 0.0073, 0.0073, 0.0071, 0.007, 0.0069, 0.0068, 0.0067, 0.0065, 0.0064, 0.006, 0.0059, 0.0059, 0.0059, 0.0058, 0.0056, 0.0054, 0.0052, 0.005, 0.0049, 0.0048, 0.0048, 0.0046, 0.0044, 0.0044, 0.0043, 0.0043, 0.004, 0.004, 0.0039, 0.0039, 0.0037, 0.0037, 0.0037, 0.0036, 0.0036, 0.0035, 0.0035, 0.0035, 0.0032, 0.0032, 0.0032, 0.0031, 0.0031, 0.0031, 0.003, 0.003, 0.003, 0.003, 0.003, 0.0029, 0.0029, 0.0029, 0.0028, 0.0028, 0.0028, 0.0028, 0.0028, 0.0027, 0.0027, 0.0027, 0.0027, 0.0026, 0.0026, 0.0025, 0.0025, 0.0025, 0.0024, 0.0024, 0.0024, 0.0023, 0.0023, 0.0023, 0.0023, 0.0023, 0.0022, 0.0022, 0.0022, 0.0021, 0.0021, 0.0021, 0.0021, 0.002, 0.002, 0.002, 0.002, 0.002, 0.002, 0.0019, 0.0019, 0.0019, 0.0018, 0.0017, 0.0017, 0.0017, 0.0017, 0.0017, 0.0017, 0.0017, 0.0016, 0.0016, 0.0016, 0.0016, 0.0016, 0.0011], \"textposition\": \"outside\", \"x\": [0.03651341625240222, 0.029968859663400266, 0.02718541146567795, 0.026961972256608634, 0.023397196226438415, 0.02258033603160784, 0.021459046065874475, 0.021061912721612463, 0.0194843332115516, 0.01871445559769853, 0.018386663134691474, 0.01796458306151038, 0.017022653885874182, 0.015740916932768276, 0.01493279803130751, 0.014911110156992941, 0.014730304496875197, 0.013693496207649713, 0.012656150428522046, 0.01260703385061982, 0.012375562213086996, 0.0121634752648709, 0.01207384059099407, 0.012004812276596203, 0.011703938403641145, 0.011622126451052412, 0.011235601084680847, 0.011212144178301202, 0.010080407838871173, 0.010047280327591055, 0.00993048588634628, 0.009908820496027915, 0.009728819270166705, 0.009545867019632916, 0.008910533643134917, 0.008534567373487312, 0.00849472283707509, 0.008451460584781571, 0.008341610745252435, 0.008272031561254882, 0.00824015173752579, 0.008160304426541701, 0.007956339259906162, 0.007792042608590703, 0.007492601280665608, 0.00745574448918924, 0.007335098039714963, 0.007252924512129199, 0.007056415514708911, 0.007022575138426917, 0.006938738207216325, 0.006805363733339091, 0.006665240139600746, 0.006535258492454847, 0.006390012964666009, 0.005974574216825426, 0.005936939682841375, 0.0059251834148981355, 0.005897550557940338, 0.005816333428039012, 0.005593240034143991, 0.0054295014854934855, 0.005213434051039675, 0.005022215878460475, 0.0049496119468724785, 0.004844807973276655, 0.0048033840622477035, 0.004583022305093393, 0.004430929547685666, 0.004375308091606056, 0.004321693567795812, 0.004319441207663153, 0.004021409655670839, 0.003979236438788785, 0.0038715773360024188, 0.0038514912720833427, 0.003748647417163394, 0.0036968610615858146, 0.0036683147519728544, 0.0036238337293057156, 0.003609653617651203, 0.0035483493078405704, 0.0035330083277672563, 0.003477623280425291, 0.0032121581458279336, 0.003203043639275435, 0.0031634040223669072, 0.0030871046392773735, 0.0030863233503537818, 0.0030833365290085235, 0.003017866276334855, 0.0030054088983997667, 0.003002406939655685, 0.002996380871426771, 0.0029546186190430976, 0.002938687487142953, 0.0029208915846390218, 0.002863034743704458, 0.0028410546570952215, 0.0028301596927217836, 0.002821711851336438, 0.0028173460941926833, 0.0027599340433772435, 0.0027455698790018546, 0.002730211620035376, 0.00270217774169587, 0.0026836446960667, 0.0025587835731416134, 0.0025506018212606025, 0.0025217836071501016, 0.002508547128879459, 0.002458796735090317, 0.0024405873888772214, 0.002380096503410692, 0.0023623630385635063, 0.0023434940982923163, 0.0023263370982450145, 0.002292749562221398, 0.0022859605170208338, 0.00228531471874275, 0.002207324672159248, 0.0022047350382739233, 0.002184116070677565, 0.0021177960534299258, 0.0020967422568401203, 0.0020960441275386186, 0.002069406366531472, 0.0020466879243856793, 0.0020441631786472176, 0.0020327335852346503, 0.0019989141412285914, 0.0019926483578418495, 0.001966078735039289, 0.001938630445470671, 0.0018894394133657677, 0.0018869966837688217, 0.0018003796963074726, 0.0017204425476210622, 0.0017132442928198947, 0.0017101963492732425, 0.0016731480310922503, 0.0016614948541342621, 0.0016598924954013667, 0.0016506192700295331, 0.0016165526721089872, 0.0016047529836549182, 0.0015934799419685727, 0.0015796292779919415, 0.001555884133900899, 0.0011291886710001128], \"y\": [\"89\", \"51\", \"125\", \"0\", \"104\", \"53\", \"87\", \"114\", \"68\", \"32\", \"81\", \"80\", \"86\", \"8\", \"128\", \"77\", \"48\", \"95\", \"20\", \"27\", \"21\", \"105\", \"123\", \"91\", \"142\", \"148\", \"130\", \"145\", \"38\", \"61\", \"79\", \"50\", \"107\", \"76\", \"29\", \"141\", \"43\", \"115\", \"70\", \"39\", \"35\", \"56\", \"23\", \"28\", \"88\", \"112\", \"74\", \"3\", \"46\", \"31\", \"36\", \"22\", \"143\", \"99\", \"93\", \"147\", \"108\", \"120\", \"106\", \"98\", \"58\", \"135\", \"34\", \"100\", \"12\", \"110\", \"117\", \"84\", \"131\", \"133\", \"111\", \"127\", \"101\", \"82\", \"69\", \"7\", \"55\", \"63\", \"75\", \"14\", \"118\", \"71\", \"129\", \"102\", \"2\", \"73\", \"66\", \"139\", \"78\", \"122\", \"37\", \"140\", \"149\", \"67\", \"33\", \"146\", \"103\", \"113\", \"121\", \"52\", \"44\", \"124\", \"45\", \"90\", \"138\", \"6\", \"18\", \"144\", \"109\", \"116\", \"92\", \"137\", \"132\", \"60\", \"136\", \"1\", \"65\", \"59\", \"96\", \"134\", \"47\", \"4\", \"19\", \"25\", \"49\", \"30\", \"24\", \"11\", \"10\", \"13\", \"62\", \"54\", \"5\", \"85\", \"64\", \"9\", \"72\", \"126\", \"83\", \"94\", \"41\", \"57\", \"16\", \"15\", \"42\", \"26\", \"17\", \"40\", \"119\", \"97\"], \"type\": \"bar\", \"uid\": \"6d208e79-edbf-4172-a14a-bb3eee799f9a\"}], {\"autosize\": false, \"height\": 1000, \"width\": 1000, \"xaxis\": {\"tickfont\": {\"color\": \"black\", \"size\": 12}, \"title\": \"Feature Importances\"}, \"yaxis\": {\"automargin\": true}}, {\"showLink\": true, \"linkText\": \"Export to plot.ly\", \"plotlyServerURL\": \"https://plot.ly\"})});</script>"
      ],
      "text/vnd.plotly.v1+html": [
       "<div id=\"3ec917df-6345-4e95-bd9b-697e5e6f0ddb\" style=\"height: 1000px; width: 1000px;\" class=\"plotly-graph-div\"></div><script type=\"text/javascript\">require([\"plotly\"], function(Plotly) { window.PLOTLYENV=window.PLOTLYENV || {};window.PLOTLYENV.BASE_URL=\"https://plot.ly\";Plotly.newPlot(\"3ec917df-6345-4e95-bd9b-697e5e6f0ddb\", [{\"marker\": {\"color\": \"rgb(158,202,225)\", \"line\": {\"color\": \"rgb(8,48,107)\", \"width\": 1.5}}, \"opacity\": 0.6, \"orientation\": \"h\", \"text\": [0.0365, 0.03, 0.0272, 0.027, 0.0234, 0.0226, 0.0215, 0.0211, 0.0195, 0.0187, 0.0184, 0.018, 0.017, 0.0157, 0.0149, 0.0149, 0.0147, 0.0137, 0.0127, 0.0126, 0.0124, 0.0122, 0.0121, 0.012, 0.0117, 0.0116, 0.0112, 0.0112, 0.0101, 0.01, 0.0099, 0.0099, 0.0097, 0.0095, 0.0089, 0.0085, 0.0085, 0.0085, 0.0083, 0.0083, 0.0082, 0.0082, 0.008, 0.0078, 0.0075, 0.0075, 0.0073, 0.0073, 0.0071, 0.007, 0.0069, 0.0068, 0.0067, 0.0065, 0.0064, 0.006, 0.0059, 0.0059, 0.0059, 0.0058, 0.0056, 0.0054, 0.0052, 0.005, 0.0049, 0.0048, 0.0048, 0.0046, 0.0044, 0.0044, 0.0043, 0.0043, 0.004, 0.004, 0.0039, 0.0039, 0.0037, 0.0037, 0.0037, 0.0036, 0.0036, 0.0035, 0.0035, 0.0035, 0.0032, 0.0032, 0.0032, 0.0031, 0.0031, 0.0031, 0.003, 0.003, 0.003, 0.003, 0.003, 0.0029, 0.0029, 0.0029, 0.0028, 0.0028, 0.0028, 0.0028, 0.0028, 0.0027, 0.0027, 0.0027, 0.0027, 0.0026, 0.0026, 0.0025, 0.0025, 0.0025, 0.0024, 0.0024, 0.0024, 0.0023, 0.0023, 0.0023, 0.0023, 0.0023, 0.0022, 0.0022, 0.0022, 0.0021, 0.0021, 0.0021, 0.0021, 0.002, 0.002, 0.002, 0.002, 0.002, 0.002, 0.0019, 0.0019, 0.0019, 0.0018, 0.0017, 0.0017, 0.0017, 0.0017, 0.0017, 0.0017, 0.0017, 0.0016, 0.0016, 0.0016, 0.0016, 0.0016, 0.0011], \"textposition\": \"outside\", \"x\": [0.03651341625240222, 0.029968859663400266, 0.02718541146567795, 0.026961972256608634, 0.023397196226438415, 0.02258033603160784, 0.021459046065874475, 0.021061912721612463, 0.0194843332115516, 0.01871445559769853, 0.018386663134691474, 0.01796458306151038, 0.017022653885874182, 0.015740916932768276, 0.01493279803130751, 0.014911110156992941, 0.014730304496875197, 0.013693496207649713, 0.012656150428522046, 0.01260703385061982, 0.012375562213086996, 0.0121634752648709, 0.01207384059099407, 0.012004812276596203, 0.011703938403641145, 0.011622126451052412, 0.011235601084680847, 0.011212144178301202, 0.010080407838871173, 0.010047280327591055, 0.00993048588634628, 0.009908820496027915, 0.009728819270166705, 0.009545867019632916, 0.008910533643134917, 0.008534567373487312, 0.00849472283707509, 0.008451460584781571, 0.008341610745252435, 0.008272031561254882, 0.00824015173752579, 0.008160304426541701, 0.007956339259906162, 0.007792042608590703, 0.007492601280665608, 0.00745574448918924, 0.007335098039714963, 0.007252924512129199, 0.007056415514708911, 0.007022575138426917, 0.006938738207216325, 0.006805363733339091, 0.006665240139600746, 0.006535258492454847, 0.006390012964666009, 0.005974574216825426, 0.005936939682841375, 0.0059251834148981355, 0.005897550557940338, 0.005816333428039012, 0.005593240034143991, 0.0054295014854934855, 0.005213434051039675, 0.005022215878460475, 0.0049496119468724785, 0.004844807973276655, 0.0048033840622477035, 0.004583022305093393, 0.004430929547685666, 0.004375308091606056, 0.004321693567795812, 0.004319441207663153, 0.004021409655670839, 0.003979236438788785, 0.0038715773360024188, 0.0038514912720833427, 0.003748647417163394, 0.0036968610615858146, 0.0036683147519728544, 0.0036238337293057156, 0.003609653617651203, 0.0035483493078405704, 0.0035330083277672563, 0.003477623280425291, 0.0032121581458279336, 0.003203043639275435, 0.0031634040223669072, 0.0030871046392773735, 0.0030863233503537818, 0.0030833365290085235, 0.003017866276334855, 0.0030054088983997667, 0.003002406939655685, 0.002996380871426771, 0.0029546186190430976, 0.002938687487142953, 0.0029208915846390218, 0.002863034743704458, 0.0028410546570952215, 0.0028301596927217836, 0.002821711851336438, 0.0028173460941926833, 0.0027599340433772435, 0.0027455698790018546, 0.002730211620035376, 0.00270217774169587, 0.0026836446960667, 0.0025587835731416134, 0.0025506018212606025, 0.0025217836071501016, 0.002508547128879459, 0.002458796735090317, 0.0024405873888772214, 0.002380096503410692, 0.0023623630385635063, 0.0023434940982923163, 0.0023263370982450145, 0.002292749562221398, 0.0022859605170208338, 0.00228531471874275, 0.002207324672159248, 0.0022047350382739233, 0.002184116070677565, 0.0021177960534299258, 0.0020967422568401203, 0.0020960441275386186, 0.002069406366531472, 0.0020466879243856793, 0.0020441631786472176, 0.0020327335852346503, 0.0019989141412285914, 0.0019926483578418495, 0.001966078735039289, 0.001938630445470671, 0.0018894394133657677, 0.0018869966837688217, 0.0018003796963074726, 0.0017204425476210622, 0.0017132442928198947, 0.0017101963492732425, 0.0016731480310922503, 0.0016614948541342621, 0.0016598924954013667, 0.0016506192700295331, 0.0016165526721089872, 0.0016047529836549182, 0.0015934799419685727, 0.0015796292779919415, 0.001555884133900899, 0.0011291886710001128], \"y\": [\"89\", \"51\", \"125\", \"0\", \"104\", \"53\", \"87\", \"114\", \"68\", \"32\", \"81\", \"80\", \"86\", \"8\", \"128\", \"77\", \"48\", \"95\", \"20\", \"27\", \"21\", \"105\", \"123\", \"91\", \"142\", \"148\", \"130\", \"145\", \"38\", \"61\", \"79\", \"50\", \"107\", \"76\", \"29\", \"141\", \"43\", \"115\", \"70\", \"39\", \"35\", \"56\", \"23\", \"28\", \"88\", \"112\", \"74\", \"3\", \"46\", \"31\", \"36\", \"22\", \"143\", \"99\", \"93\", \"147\", \"108\", \"120\", \"106\", \"98\", \"58\", \"135\", \"34\", \"100\", \"12\", \"110\", \"117\", \"84\", \"131\", \"133\", \"111\", \"127\", \"101\", \"82\", \"69\", \"7\", \"55\", \"63\", \"75\", \"14\", \"118\", \"71\", \"129\", \"102\", \"2\", \"73\", \"66\", \"139\", \"78\", \"122\", \"37\", \"140\", \"149\", \"67\", \"33\", \"146\", \"103\", \"113\", \"121\", \"52\", \"44\", \"124\", \"45\", \"90\", \"138\", \"6\", \"18\", \"144\", \"109\", \"116\", \"92\", \"137\", \"132\", \"60\", \"136\", \"1\", \"65\", \"59\", \"96\", \"134\", \"47\", \"4\", \"19\", \"25\", \"49\", \"30\", \"24\", \"11\", \"10\", \"13\", \"62\", \"54\", \"5\", \"85\", \"64\", \"9\", \"72\", \"126\", \"83\", \"94\", \"41\", \"57\", \"16\", \"15\", \"42\", \"26\", \"17\", \"40\", \"119\", \"97\"], \"type\": \"bar\", \"uid\": \"6d208e79-edbf-4172-a14a-bb3eee799f9a\"}], {\"autosize\": false, \"height\": 1000, \"width\": 1000, \"xaxis\": {\"tickfont\": {\"color\": \"black\", \"size\": 12}, \"title\": \"Feature Importances\"}, \"yaxis\": {\"automargin\": true}}, {\"showLink\": true, \"linkText\": \"Export to plot.ly\", \"plotlyServerURL\": \"https://plot.ly\"})});</script>"
      ]
     },
     "metadata": {},
     "output_type": "display_data"
    },
    {
     "name": "stdout",
     "output_type": "stream",
     "text": [
      "\n",
      "\n",
      "\u001b[1mBagging Classifier\u001b[0m\n",
      "Accuracy of the model for training data is: 0.9257223569871342\n",
      "Confusion Matrix for training data is:\n"
     ]
    },
    {
     "data": {
      "text/plain": [
       "Predicted  False  True  __all__\n",
       "Actual                         \n",
       "False      25614  2224    27838\n",
       "True         195  4534     4729\n",
       "__all__    25809  6758    32567"
      ]
     },
     "metadata": {},
     "output_type": "display_data"
    },
    {
     "name": "stdout",
     "output_type": "stream",
     "text": [
      "Accuracy of the model for test data is: 0.9108327192336035\n",
      "Confusion Matrix for test data is:\n"
     ]
    },
    {
     "data": {
      "text/plain": [
       "Predicted  False  True  __all__\n",
       "Actual                         \n",
       "False       6356   584     6940\n",
       "True         142  1060     1202\n",
       "__all__     6498  1644     8142"
      ]
     },
     "metadata": {},
     "output_type": "display_data"
    },
    {
     "name": "stdout",
     "output_type": "stream",
     "text": [
      "\n",
      "\n",
      "\u001b[1mNeural Network-1\u001b[0m\n",
      "The accuracy of the model on training data is: 0.9221604691884302\n"
     ]
    },
    {
     "data": {
      "text/plain": [
       "Predicted  False  True  __all__\n",
       "Actual                         \n",
       "False      25489  2349    27838\n",
       "True         186  4543     4729\n",
       "__all__    25675  6892    32567"
      ]
     },
     "metadata": {},
     "output_type": "display_data"
    },
    {
     "name": "stdout",
     "output_type": "stream",
     "text": [
      "The accuracy of the model on test data is: 0.9042004421518055\n"
     ]
    },
    {
     "data": {
      "text/plain": [
       "Predicted  False  True  __all__\n",
       "Actual                         \n",
       "False       6291   649     6940\n",
       "True         131  1071     1202\n",
       "__all__     6422  1720     8142"
      ]
     },
     "metadata": {},
     "output_type": "display_data"
    },
    {
     "name": "stdout",
     "output_type": "stream",
     "text": [
      "\n",
      "\n"
     ]
    }
   ],
   "source": [
    "feat_imp=[None]*4\n",
    "j=0\n",
    "for i in range(0,8):\n",
    "    if i>=2 and i<=5:\n",
    "        model,cm_train,cm_test,acc_train,acc_test,roc_auc,feat_imp[j],mcc=f[i](X_train,Y_train,X_test,Y_test,np.arange(0,150).astype(str))\n",
    "        j=j+1\n",
    "    else:\n",
    "        model,cm_train,cm_test,acc_train,acc_test,roc_auc,mcc=f[i](X_train,Y_train,X_test,Y_test)\n",
    "    table_80_70_train.loc[i]=   ([acc_train,cm_train.TP,cm_train.TN,cm_train.FP,cm_train.FN,cm_train.FPR,cm_train.FNR])\n",
    "    table_80_70_test.loc[i] =   ([acc_test ,cm_test.TP, cm_test.TN, cm_test.FP, cm_test.FN, cm_test.FPR, cm_test.FNR,roc_auc,mcc])\n",
    "    print(\"\\n\")"
   ]
  },
  {
   "cell_type": "markdown",
   "metadata": {},
   "source": [
    "### <a id='5.A' style=\"text-decoration : none; color : #000000;\"> A. Results</a>"
   ]
  },
  {
   "cell_type": "code",
   "execution_count": 50,
   "metadata": {},
   "outputs": [
    {
     "data": {
      "application/vnd.plotly.v1+json": {
       "config": {
        "linkText": "Export to plot.ly",
        "plotlyServerURL": "https://plot.ly",
        "showLink": true
       },
       "data": [
        {
         "mode": "lines",
         "name": "KNN_model",
         "type": "scatter",
         "uid": "c6a3ab2a-6dfd-4b01-a1e5-48a2ae9f9dab",
         "x": [
          "accuracy",
          "FPR",
          "FNR",
          "auc"
         ],
         "y": [
          0.9070253009088676,
          0.08645533141210375,
          0.13061564059900166,
          0.8914645139944474
         ]
        },
        {
         "mode": "lines+markers",
         "name": "Logistic Regression",
         "type": "scatter",
         "uid": "a8bc0e02-8858-4393-986f-be28ef27e079",
         "x": [
          "accuracy",
          "FPR",
          "FNR",
          "auc"
         ],
         "y": [
          0.9012527634487841,
          0.09063400576368875,
          0.14559068219633944,
          0.881887656019986
         ]
        },
        {
         "marker": {
          "symbol": "x"
         },
         "mode": "lines+markers",
         "name": "Random Forest",
         "type": "scatter",
         "uid": "74af16b1-3a72-4cef-bdee-88b3cb5ce487",
         "x": [
          "accuracy",
          "FPR",
          "FNR",
          "auc"
         ],
         "y": [
          0.9114468189633996,
          0.08242074927953891,
          0.12396006655574043,
          0.8968095920823603
         ]
        },
        {
         "mode": "lines",
         "name": "Ada Boost",
         "type": "scatter",
         "uid": "2915c630-1850-43b9-9fe2-008f5e49f4df",
         "x": [
          "accuracy",
          "FPR",
          "FNR",
          "auc"
         ],
         "y": [
          0.9059199213952346,
          0.08400576368876081,
          0.15224625623960067,
          0.8818739900358193
         ]
        },
        {
         "mode": "lines+markers",
         "name": "GradientBoosting",
         "type": "scatter",
         "uid": "9f729376-4120-4b8b-82b7-80cb2fe4c8a8",
         "x": [
          "accuracy",
          "FPR",
          "FNR",
          "auc"
         ],
         "y": [
          0.9086219602063376,
          0.0814121037463977,
          0.14891846921797006,
          0.8848347135178162
         ]
        },
        {
         "marker": {
          "symbol": "x"
         },
         "mode": "lines+markers",
         "name": "ExtraTree Classifier",
         "type": "scatter",
         "uid": "65f42674-b77a-4ca6-9736-51d55a7f7e38",
         "x": [
          "accuracy",
          "FPR",
          "FNR",
          "auc"
         ],
         "y": [
          0.9113239990174404,
          0.08342939481268012,
          0.11896838602329451,
          0.8988011095820128
         ]
        },
        {
         "marker": {
          "symbol": "x"
         },
         "mode": "lines+markers",
         "name": "Bagging",
         "type": "scatter",
         "uid": "85f108d1-96c6-417f-acba-e6780ceb328d",
         "x": [
          "accuracy",
          "FPR",
          "FNR",
          "auc"
         ],
         "y": [
          0.9108327192336035,
          0.08414985590778098,
          0.11813643926788686,
          0.8988568524121661
         ]
        },
        {
         "marker": {
          "symbol": "x"
         },
         "mode": "lines+markers",
         "name": "Neural Network",
         "type": "scatter",
         "uid": "d61e9ed5-92e1-4558-acdf-c1d3c664b680",
         "x": [
          "accuracy",
          "FPR",
          "FNR",
          "auc"
         ],
         "y": [
          0.9042004421518055,
          0.09351585014409222,
          0.10898502495840266,
          0.8987495624487526
         ]
        }
       ],
       "layout": {
        "title": "Result comparision for Features selected in Section 1",
        "yaxis": {
         "dtick": 0.05,
         "tick0": 0
        }
       }
      },
      "text/html": [
       "<div id=\"37fe34cf-c455-41ad-aa48-7a8c9d89cada\" style=\"height: 525px; width: 100%;\" class=\"plotly-graph-div\"></div><script type=\"text/javascript\">require([\"plotly\"], function(Plotly) { window.PLOTLYENV=window.PLOTLYENV || {};window.PLOTLYENV.BASE_URL=\"https://plot.ly\";Plotly.newPlot(\"37fe34cf-c455-41ad-aa48-7a8c9d89cada\", [{\"mode\": \"lines\", \"name\": \"KNN_model\", \"x\": [\"accuracy\", \"FPR\", \"FNR\", \"auc\"], \"y\": [0.9070253009088676, 0.08645533141210375, 0.13061564059900166, 0.8914645139944474], \"type\": \"scatter\", \"uid\": \"c6a3ab2a-6dfd-4b01-a1e5-48a2ae9f9dab\"}, {\"mode\": \"lines+markers\", \"name\": \"Logistic Regression\", \"x\": [\"accuracy\", \"FPR\", \"FNR\", \"auc\"], \"y\": [0.9012527634487841, 0.09063400576368875, 0.14559068219633944, 0.881887656019986], \"type\": \"scatter\", \"uid\": \"a8bc0e02-8858-4393-986f-be28ef27e079\"}, {\"marker\": {\"symbol\": \"x\"}, \"mode\": \"lines+markers\", \"name\": \"Random Forest\", \"x\": [\"accuracy\", \"FPR\", \"FNR\", \"auc\"], \"y\": [0.9114468189633996, 0.08242074927953891, 0.12396006655574043, 0.8968095920823603], \"type\": \"scatter\", \"uid\": \"74af16b1-3a72-4cef-bdee-88b3cb5ce487\"}, {\"mode\": \"lines\", \"name\": \"Ada Boost\", \"x\": [\"accuracy\", \"FPR\", \"FNR\", \"auc\"], \"y\": [0.9059199213952346, 0.08400576368876081, 0.15224625623960067, 0.8818739900358193], \"type\": \"scatter\", \"uid\": \"2915c630-1850-43b9-9fe2-008f5e49f4df\"}, {\"mode\": \"lines+markers\", \"name\": \"GradientBoosting\", \"x\": [\"accuracy\", \"FPR\", \"FNR\", \"auc\"], \"y\": [0.9086219602063376, 0.0814121037463977, 0.14891846921797006, 0.8848347135178162], \"type\": \"scatter\", \"uid\": \"9f729376-4120-4b8b-82b7-80cb2fe4c8a8\"}, {\"marker\": {\"symbol\": \"x\"}, \"mode\": \"lines+markers\", \"name\": \"ExtraTree Classifier\", \"x\": [\"accuracy\", \"FPR\", \"FNR\", \"auc\"], \"y\": [0.9113239990174404, 0.08342939481268012, 0.11896838602329451, 0.8988011095820128], \"type\": \"scatter\", \"uid\": \"65f42674-b77a-4ca6-9736-51d55a7f7e38\"}, {\"marker\": {\"symbol\": \"x\"}, \"mode\": \"lines+markers\", \"name\": \"Bagging\", \"x\": [\"accuracy\", \"FPR\", \"FNR\", \"auc\"], \"y\": [0.9108327192336035, 0.08414985590778098, 0.11813643926788686, 0.8988568524121661], \"type\": \"scatter\", \"uid\": \"85f108d1-96c6-417f-acba-e6780ceb328d\"}, {\"marker\": {\"symbol\": \"x\"}, \"mode\": \"lines+markers\", \"name\": \"Neural Network\", \"x\": [\"accuracy\", \"FPR\", \"FNR\", \"auc\"], \"y\": [0.9042004421518055, 0.09351585014409222, 0.10898502495840266, 0.8987495624487526], \"type\": \"scatter\", \"uid\": \"d61e9ed5-92e1-4558-acdf-c1d3c664b680\"}], {\"title\": \"Result comparision for Features selected in Section 1\", \"yaxis\": {\"dtick\": 0.05, \"tick0\": 0}}, {\"showLink\": true, \"linkText\": \"Export to plot.ly\", \"plotlyServerURL\": \"https://plot.ly\"})});</script><script type=\"text/javascript\">window.addEventListener(\"resize\", function(){window._Plotly.Plots.resize(document.getElementById(\"37fe34cf-c455-41ad-aa48-7a8c9d89cada\"));});</script>"
      ],
      "text/vnd.plotly.v1+html": [
       "<div id=\"37fe34cf-c455-41ad-aa48-7a8c9d89cada\" style=\"height: 525px; width: 100%;\" class=\"plotly-graph-div\"></div><script type=\"text/javascript\">require([\"plotly\"], function(Plotly) { window.PLOTLYENV=window.PLOTLYENV || {};window.PLOTLYENV.BASE_URL=\"https://plot.ly\";Plotly.newPlot(\"37fe34cf-c455-41ad-aa48-7a8c9d89cada\", [{\"mode\": \"lines\", \"name\": \"KNN_model\", \"x\": [\"accuracy\", \"FPR\", \"FNR\", \"auc\"], \"y\": [0.9070253009088676, 0.08645533141210375, 0.13061564059900166, 0.8914645139944474], \"type\": \"scatter\", \"uid\": \"c6a3ab2a-6dfd-4b01-a1e5-48a2ae9f9dab\"}, {\"mode\": \"lines+markers\", \"name\": \"Logistic Regression\", \"x\": [\"accuracy\", \"FPR\", \"FNR\", \"auc\"], \"y\": [0.9012527634487841, 0.09063400576368875, 0.14559068219633944, 0.881887656019986], \"type\": \"scatter\", \"uid\": \"a8bc0e02-8858-4393-986f-be28ef27e079\"}, {\"marker\": {\"symbol\": \"x\"}, \"mode\": \"lines+markers\", \"name\": \"Random Forest\", \"x\": [\"accuracy\", \"FPR\", \"FNR\", \"auc\"], \"y\": [0.9114468189633996, 0.08242074927953891, 0.12396006655574043, 0.8968095920823603], \"type\": \"scatter\", \"uid\": \"74af16b1-3a72-4cef-bdee-88b3cb5ce487\"}, {\"mode\": \"lines\", \"name\": \"Ada Boost\", \"x\": [\"accuracy\", \"FPR\", \"FNR\", \"auc\"], \"y\": [0.9059199213952346, 0.08400576368876081, 0.15224625623960067, 0.8818739900358193], \"type\": \"scatter\", \"uid\": \"2915c630-1850-43b9-9fe2-008f5e49f4df\"}, {\"mode\": \"lines+markers\", \"name\": \"GradientBoosting\", \"x\": [\"accuracy\", \"FPR\", \"FNR\", \"auc\"], \"y\": [0.9086219602063376, 0.0814121037463977, 0.14891846921797006, 0.8848347135178162], \"type\": \"scatter\", \"uid\": \"9f729376-4120-4b8b-82b7-80cb2fe4c8a8\"}, {\"marker\": {\"symbol\": \"x\"}, \"mode\": \"lines+markers\", \"name\": \"ExtraTree Classifier\", \"x\": [\"accuracy\", \"FPR\", \"FNR\", \"auc\"], \"y\": [0.9113239990174404, 0.08342939481268012, 0.11896838602329451, 0.8988011095820128], \"type\": \"scatter\", \"uid\": \"65f42674-b77a-4ca6-9736-51d55a7f7e38\"}, {\"marker\": {\"symbol\": \"x\"}, \"mode\": \"lines+markers\", \"name\": \"Bagging\", \"x\": [\"accuracy\", \"FPR\", \"FNR\", \"auc\"], \"y\": [0.9108327192336035, 0.08414985590778098, 0.11813643926788686, 0.8988568524121661], \"type\": \"scatter\", \"uid\": \"85f108d1-96c6-417f-acba-e6780ceb328d\"}, {\"marker\": {\"symbol\": \"x\"}, \"mode\": \"lines+markers\", \"name\": \"Neural Network\", \"x\": [\"accuracy\", \"FPR\", \"FNR\", \"auc\"], \"y\": [0.9042004421518055, 0.09351585014409222, 0.10898502495840266, 0.8987495624487526], \"type\": \"scatter\", \"uid\": \"d61e9ed5-92e1-4558-acdf-c1d3c664b680\"}], {\"title\": \"Result comparision for Features selected in Section 1\", \"yaxis\": {\"dtick\": 0.05, \"tick0\": 0}}, {\"showLink\": true, \"linkText\": \"Export to plot.ly\", \"plotlyServerURL\": \"https://plot.ly\"})});</script><script type=\"text/javascript\">window.addEventListener(\"resize\", function(){window._Plotly.Plots.resize(document.getElementById(\"37fe34cf-c455-41ad-aa48-7a8c9d89cada\"));});</script>"
      ]
     },
     "metadata": {},
     "output_type": "display_data"
    }
   ],
   "source": [
    "trace0 = go.Scatter(x=table_80_70_test.iloc[0].index.values[[0,5,6,7]],\n",
    "                    y=table_80_70_test.iloc[0].values[[0,5,6,7]],\n",
    "                    mode = 'lines',\n",
    "                    name = 'KNN_model')\n",
    "\n",
    "trace1 = go.Scatter(x=table_80_70_test.iloc[1].index.values[[0,5,6,7]],\n",
    "                    y=table_80_70_test.iloc[1].values[[0,5,6,7]],\n",
    "                    mode = 'lines+markers',\n",
    "                    name = 'Logistic Regression')\n",
    "\n",
    "trace2 = go.Scatter(x=table_80_70_test.iloc[2].index.values[[0,5,6,7]],\n",
    "                    y=table_80_70_test.iloc[2].values[[0,5,6,7]],\n",
    "                    mode = 'lines+markers',marker=dict(symbol='x'),\n",
    "                    name = 'Random Forest')\n",
    "\n",
    "\n",
    "trace3 = go.Scatter(x=table_80_70_test.iloc[3].index.values[[0,5,6,7]],\n",
    "                    y=table_80_70_test.iloc[3].values[[0,5,6,7]],\n",
    "                    mode = 'lines',\n",
    "                    name = 'Ada Boost')\n",
    "\n",
    "trace4 = go.Scatter(x=table_80_70_test.iloc[4].index.values[[0,5,6,7]],\n",
    "                    y=table_80_70_test.iloc[4].values[[0,5,6,7]],\n",
    "                    mode = 'lines+markers',\n",
    "                    name = 'GradientBoosting')\n",
    "\n",
    "trace5 = go.Scatter(x=table_80_70_test.iloc[5].index.values[[0,5,6,7]],\n",
    "                    y=table_80_70_test.iloc[5].values[[0,5,6,7]],\n",
    "                    mode = 'lines+markers',marker=dict(symbol='x'),\n",
    "                    name = 'ExtraTree Classifier')\n",
    "\n",
    "trace6 = go.Scatter(x=table_80_70_test.iloc[6].index.values[[0,5,6,7]],\n",
    "                    y=table_80_70_test.iloc[6].values[[0,5,6,7]],\n",
    "                    mode = 'lines+markers',marker=dict(symbol='x'),\n",
    "                    name = 'Bagging')\n",
    "\n",
    "trace7 = go.Scatter(x=table_80_70_test.iloc[7].index.values[[0,5,6,7]],\n",
    "                    y=table_80_70_test.iloc[7].values[[0,5,6,7]],\n",
    "                    mode = 'lines+markers',marker=dict(symbol='x'),\n",
    "                    name = 'Neural Network')\n",
    "\n",
    "\n",
    "\n",
    "data = [trace0, trace1, trace2, trace3, trace4, trace5, trace6, trace7]\n",
    "layout = go.Layout(yaxis=dict(tick0=0,dtick=0.05),title='Result comparision for Features selected in Section 1')\n",
    "fig = go.Figure(data=data, layout=layout)\n",
    "\n",
    "iplot(fig, filename='Result')"
   ]
  },
  {
   "cell_type": "code",
   "execution_count": 51,
   "metadata": {},
   "outputs": [
    {
     "name": "stdout",
     "output_type": "stream",
     "text": [
      "Training Results\n"
     ]
    },
    {
     "data": {
      "text/html": [
       "<div>\n",
       "<style scoped>\n",
       "    .dataframe tbody tr th:only-of-type {\n",
       "        vertical-align: middle;\n",
       "    }\n",
       "\n",
       "    .dataframe tbody tr th {\n",
       "        vertical-align: top;\n",
       "    }\n",
       "\n",
       "    .dataframe thead th {\n",
       "        text-align: right;\n",
       "    }\n",
       "</style>\n",
       "<table border=\"1\" class=\"dataframe\">\n",
       "  <thead>\n",
       "    <tr style=\"text-align: right;\">\n",
       "      <th></th>\n",
       "      <th>accuracy</th>\n",
       "      <th>TP</th>\n",
       "      <th>TN</th>\n",
       "      <th>FP</th>\n",
       "      <th>FN</th>\n",
       "      <th>FPR</th>\n",
       "      <th>FNR</th>\n",
       "    </tr>\n",
       "    <tr>\n",
       "      <th>index</th>\n",
       "      <th></th>\n",
       "      <th></th>\n",
       "      <th></th>\n",
       "      <th></th>\n",
       "      <th></th>\n",
       "      <th></th>\n",
       "      <th></th>\n",
       "    </tr>\n",
       "  </thead>\n",
       "  <tbody>\n",
       "    <tr>\n",
       "      <th>KNeighborsClassifier</th>\n",
       "      <td>0.914269</td>\n",
       "      <td>4227.0</td>\n",
       "      <td>25548.0</td>\n",
       "      <td>2290.0</td>\n",
       "      <td>502.0</td>\n",
       "      <td>0.082262</td>\n",
       "      <td>0.106154</td>\n",
       "    </tr>\n",
       "    <tr>\n",
       "      <th>LogisticRegression</th>\n",
       "      <td>0.901495</td>\n",
       "      <td>4017.0</td>\n",
       "      <td>25342.0</td>\n",
       "      <td>2496.0</td>\n",
       "      <td>712.0</td>\n",
       "      <td>0.089662</td>\n",
       "      <td>0.150560</td>\n",
       "    </tr>\n",
       "    <tr>\n",
       "      <th>RandomForestClassifier</th>\n",
       "      <td>0.925722</td>\n",
       "      <td>4533.0</td>\n",
       "      <td>25615.0</td>\n",
       "      <td>2223.0</td>\n",
       "      <td>196.0</td>\n",
       "      <td>0.079855</td>\n",
       "      <td>0.041446</td>\n",
       "    </tr>\n",
       "    <tr>\n",
       "      <th>AdaBoostClassifier</th>\n",
       "      <td>0.907207</td>\n",
       "      <td>4063.0</td>\n",
       "      <td>25482.0</td>\n",
       "      <td>2356.0</td>\n",
       "      <td>666.0</td>\n",
       "      <td>0.084633</td>\n",
       "      <td>0.140833</td>\n",
       "    </tr>\n",
       "    <tr>\n",
       "      <th>GradientBoostingClassifier</th>\n",
       "      <td>0.913225</td>\n",
       "      <td>4117.0</td>\n",
       "      <td>25624.0</td>\n",
       "      <td>2214.0</td>\n",
       "      <td>612.0</td>\n",
       "      <td>0.079532</td>\n",
       "      <td>0.129414</td>\n",
       "    </tr>\n",
       "    <tr>\n",
       "      <th>ExtraTreeClassifier</th>\n",
       "      <td>0.927902</td>\n",
       "      <td>4600.0</td>\n",
       "      <td>25619.0</td>\n",
       "      <td>2219.0</td>\n",
       "      <td>129.0</td>\n",
       "      <td>0.079711</td>\n",
       "      <td>0.027278</td>\n",
       "    </tr>\n",
       "    <tr>\n",
       "      <th>BaggingClassifier</th>\n",
       "      <td>0.925722</td>\n",
       "      <td>4534.0</td>\n",
       "      <td>25614.0</td>\n",
       "      <td>2224.0</td>\n",
       "      <td>195.0</td>\n",
       "      <td>0.079891</td>\n",
       "      <td>0.041235</td>\n",
       "    </tr>\n",
       "    <tr>\n",
       "      <th>Neural Network-1</th>\n",
       "      <td>0.922160</td>\n",
       "      <td>4543.0</td>\n",
       "      <td>25489.0</td>\n",
       "      <td>2349.0</td>\n",
       "      <td>186.0</td>\n",
       "      <td>0.084381</td>\n",
       "      <td>0.039332</td>\n",
       "    </tr>\n",
       "  </tbody>\n",
       "</table>\n",
       "</div>"
      ],
      "text/plain": [
       "                            accuracy      TP       TN      FP     FN  \\\n",
       "index                                                                  \n",
       "KNeighborsClassifier        0.914269  4227.0  25548.0  2290.0  502.0   \n",
       "LogisticRegression          0.901495  4017.0  25342.0  2496.0  712.0   \n",
       "RandomForestClassifier      0.925722  4533.0  25615.0  2223.0  196.0   \n",
       "AdaBoostClassifier          0.907207  4063.0  25482.0  2356.0  666.0   \n",
       "GradientBoostingClassifier  0.913225  4117.0  25624.0  2214.0  612.0   \n",
       "ExtraTreeClassifier         0.927902  4600.0  25619.0  2219.0  129.0   \n",
       "BaggingClassifier           0.925722  4534.0  25614.0  2224.0  195.0   \n",
       "Neural Network-1            0.922160  4543.0  25489.0  2349.0  186.0   \n",
       "\n",
       "                                 FPR       FNR  \n",
       "index                                           \n",
       "KNeighborsClassifier        0.082262  0.106154  \n",
       "LogisticRegression          0.089662  0.150560  \n",
       "RandomForestClassifier      0.079855  0.041446  \n",
       "AdaBoostClassifier          0.084633  0.140833  \n",
       "GradientBoostingClassifier  0.079532  0.129414  \n",
       "ExtraTreeClassifier         0.079711  0.027278  \n",
       "BaggingClassifier           0.079891  0.041235  \n",
       "Neural Network-1            0.084381  0.039332  "
      ]
     },
     "metadata": {},
     "output_type": "display_data"
    },
    {
     "name": "stdout",
     "output_type": "stream",
     "text": [
      "Test Results\n"
     ]
    },
    {
     "data": {
      "text/html": [
       "<div>\n",
       "<style scoped>\n",
       "    .dataframe tbody tr th:only-of-type {\n",
       "        vertical-align: middle;\n",
       "    }\n",
       "\n",
       "    .dataframe tbody tr th {\n",
       "        vertical-align: top;\n",
       "    }\n",
       "\n",
       "    .dataframe thead th {\n",
       "        text-align: right;\n",
       "    }\n",
       "</style>\n",
       "<table border=\"1\" class=\"dataframe\">\n",
       "  <thead>\n",
       "    <tr style=\"text-align: right;\">\n",
       "      <th></th>\n",
       "      <th>accuracy</th>\n",
       "      <th>TP</th>\n",
       "      <th>TN</th>\n",
       "      <th>FP</th>\n",
       "      <th>FN</th>\n",
       "      <th>FPR</th>\n",
       "      <th>FNR</th>\n",
       "      <th>auc</th>\n",
       "      <th>mcc</th>\n",
       "    </tr>\n",
       "    <tr>\n",
       "      <th>index</th>\n",
       "      <th></th>\n",
       "      <th></th>\n",
       "      <th></th>\n",
       "      <th></th>\n",
       "      <th></th>\n",
       "      <th></th>\n",
       "      <th></th>\n",
       "      <th></th>\n",
       "      <th></th>\n",
       "    </tr>\n",
       "  </thead>\n",
       "  <tbody>\n",
       "    <tr>\n",
       "      <th>KNeighborsClassifier</th>\n",
       "      <td>0.907025</td>\n",
       "      <td>1045.0</td>\n",
       "      <td>6340.0</td>\n",
       "      <td>600.0</td>\n",
       "      <td>157.0</td>\n",
       "      <td>0.086455</td>\n",
       "      <td>0.130616</td>\n",
       "      <td>0.891465</td>\n",
       "      <td>0.691696</td>\n",
       "    </tr>\n",
       "    <tr>\n",
       "      <th>LogisticRegression</th>\n",
       "      <td>0.901253</td>\n",
       "      <td>1027.0</td>\n",
       "      <td>6311.0</td>\n",
       "      <td>629.0</td>\n",
       "      <td>175.0</td>\n",
       "      <td>0.090634</td>\n",
       "      <td>0.145591</td>\n",
       "      <td>0.881888</td>\n",
       "      <td>0.673099</td>\n",
       "    </tr>\n",
       "    <tr>\n",
       "      <th>RandomForestClassifier</th>\n",
       "      <td>0.911447</td>\n",
       "      <td>1053.0</td>\n",
       "      <td>6368.0</td>\n",
       "      <td>572.0</td>\n",
       "      <td>149.0</td>\n",
       "      <td>0.082421</td>\n",
       "      <td>0.123960</td>\n",
       "      <td>0.896810</td>\n",
       "      <td>0.704358</td>\n",
       "    </tr>\n",
       "    <tr>\n",
       "      <th>AdaBoostClassifier</th>\n",
       "      <td>0.905920</td>\n",
       "      <td>1019.0</td>\n",
       "      <td>6357.0</td>\n",
       "      <td>583.0</td>\n",
       "      <td>183.0</td>\n",
       "      <td>0.084006</td>\n",
       "      <td>0.152246</td>\n",
       "      <td>0.881874</td>\n",
       "      <td>0.681494</td>\n",
       "    </tr>\n",
       "    <tr>\n",
       "      <th>GradientBoostingClassifier</th>\n",
       "      <td>0.908622</td>\n",
       "      <td>1023.0</td>\n",
       "      <td>6375.0</td>\n",
       "      <td>565.0</td>\n",
       "      <td>179.0</td>\n",
       "      <td>0.081412</td>\n",
       "      <td>0.148918</td>\n",
       "      <td>0.884835</td>\n",
       "      <td>0.689061</td>\n",
       "    </tr>\n",
       "    <tr>\n",
       "      <th>ExtraTreeClassifier</th>\n",
       "      <td>0.911324</td>\n",
       "      <td>1059.0</td>\n",
       "      <td>6361.0</td>\n",
       "      <td>579.0</td>\n",
       "      <td>143.0</td>\n",
       "      <td>0.083429</td>\n",
       "      <td>0.118968</td>\n",
       "      <td>0.898801</td>\n",
       "      <td>0.705783</td>\n",
       "    </tr>\n",
       "    <tr>\n",
       "      <th>BaggingClassifier</th>\n",
       "      <td>0.910833</td>\n",
       "      <td>1060.0</td>\n",
       "      <td>6356.0</td>\n",
       "      <td>584.0</td>\n",
       "      <td>142.0</td>\n",
       "      <td>0.084150</td>\n",
       "      <td>0.118136</td>\n",
       "      <td>0.898857</td>\n",
       "      <td>0.704917</td>\n",
       "    </tr>\n",
       "    <tr>\n",
       "      <th>Neural Network-1</th>\n",
       "      <td>0.904200</td>\n",
       "      <td>1071.0</td>\n",
       "      <td>6291.0</td>\n",
       "      <td>649.0</td>\n",
       "      <td>131.0</td>\n",
       "      <td>0.093516</td>\n",
       "      <td>0.108985</td>\n",
       "      <td>0.898750</td>\n",
       "      <td>0.693047</td>\n",
       "    </tr>\n",
       "  </tbody>\n",
       "</table>\n",
       "</div>"
      ],
      "text/plain": [
       "                            accuracy      TP      TN     FP     FN       FPR  \\\n",
       "index                                                                          \n",
       "KNeighborsClassifier        0.907025  1045.0  6340.0  600.0  157.0  0.086455   \n",
       "LogisticRegression          0.901253  1027.0  6311.0  629.0  175.0  0.090634   \n",
       "RandomForestClassifier      0.911447  1053.0  6368.0  572.0  149.0  0.082421   \n",
       "AdaBoostClassifier          0.905920  1019.0  6357.0  583.0  183.0  0.084006   \n",
       "GradientBoostingClassifier  0.908622  1023.0  6375.0  565.0  179.0  0.081412   \n",
       "ExtraTreeClassifier         0.911324  1059.0  6361.0  579.0  143.0  0.083429   \n",
       "BaggingClassifier           0.910833  1060.0  6356.0  584.0  142.0  0.084150   \n",
       "Neural Network-1            0.904200  1071.0  6291.0  649.0  131.0  0.093516   \n",
       "\n",
       "                                 FNR       auc       mcc  \n",
       "index                                                     \n",
       "KNeighborsClassifier        0.130616  0.891465  0.691696  \n",
       "LogisticRegression          0.145591  0.881888  0.673099  \n",
       "RandomForestClassifier      0.123960  0.896810  0.704358  \n",
       "AdaBoostClassifier          0.152246  0.881874  0.681494  \n",
       "GradientBoostingClassifier  0.148918  0.884835  0.689061  \n",
       "ExtraTreeClassifier         0.118968  0.898801  0.705783  \n",
       "BaggingClassifier           0.118136  0.898857  0.704917  \n",
       "Neural Network-1            0.108985  0.898750  0.693047  "
      ]
     },
     "metadata": {},
     "output_type": "display_data"
    }
   ],
   "source": [
    "table_80_70_train['index']=ind_columns\n",
    "table_80_70_test['index']=ind_columns\n",
    "\n",
    "\n",
    "table_80_70_test.set_index(['index'],drop=True,inplace=True)\n",
    "table_80_70_train.set_index(['index'],drop=True,inplace=True)\n",
    "\n",
    "print(\"Training Results\")\n",
    "display(table_80_70_train)\n",
    "print(\"Test Results\")\n",
    "display(table_80_70_test)"
   ]
  },
  {
   "cell_type": "code",
   "execution_count": 52,
   "metadata": {},
   "outputs": [
    {
     "data": {
      "text/html": [
       "<script>\n",
       "code_show=true; \n",
       "function code_toggle() {\n",
       " if (code_show){\n",
       " $('div.input').hide();\n",
       " } else {\n",
       " $('div.input').show();\n",
       " }\n",
       " code_show = !code_show\n",
       "} \n",
       "$( document ).ready(code_toggle);\n",
       "</script>\n",
       "To toggle code, click <a href=\"javascript:code_toggle()\">here</a>."
      ],
      "text/plain": [
       "<IPython.core.display.HTML object>"
      ]
     },
     "execution_count": 52,
     "metadata": {},
     "output_type": "execute_result"
    }
   ],
   "source": [
    "### Original Creator : Darshan Bhansali\n",
    "### HTML code to hide the input cells \n",
    "HTML('''<script>\n",
    "code_show=true; \n",
    "function code_toggle() {\n",
    " if (code_show){\n",
    " $('div.input').hide();\n",
    " } else {\n",
    " $('div.input').show();\n",
    " }\n",
    " code_show = !code_show\n",
    "} \n",
    "$( document ).ready(code_toggle);\n",
    "</script>\n",
    "To toggle code, click <a href=\"javascript:code_toggle()\">here</a>.''')"
   ]
  }
 ],
 "metadata": {
  "kernelspec": {
   "display_name": "Python 3",
   "language": "python",
   "name": "python3"
  },
  "language_info": {
   "codemirror_mode": {
    "name": "ipython",
    "version": 3
   },
   "file_extension": ".py",
   "mimetype": "text/x-python",
   "name": "python",
   "nbconvert_exporter": "python",
   "pygments_lexer": "ipython3",
   "version": "3.6.8"
  }
 },
 "nbformat": 4,
 "nbformat_minor": 2
}
