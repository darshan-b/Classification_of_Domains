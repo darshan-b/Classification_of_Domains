{
 "cells": [
  {
   "cell_type": "markdown",
   "metadata": {},
   "source": [
    "***\n",
    "## Table of Contents\n",
    "<br>\n",
    "  <br>\n",
    "    <ol>\n",
    "        <h2><a href='#1' style=\"text-decoration : none; color : #000000;\">1. Initial Models</a></h2>\n",
    "        <ul>\n",
    "            <a href='#1.A' style=\"text-decoration : none; color : #000000;\"><h3>A. Results </h3></a>\n",
    "        </ul>\n",
    "        <ul>\n",
    "            <a href='#1.B' style=\"text-decoration : none; color : #000000;\"><h3>B. Average Feature Importance   </h3></a>\n",
    "        </ul>\n",
    "     </ol>\n",
    "     <br> \n",
    "\n",
    "<ol>\n",
    "        <h2><a href='#2' style=\"text-decoration : none; color : #000000;\">2. Oversampling </a></h2>\n",
    "        <ul>\n",
    "            <a href='#2.A' style=\"text-decoration : none; color : #000000;\"><h3>A. Results </h3></a>\n",
    "        </ul>\n",
    "        <ul>\n",
    "            <a href='#2.B' style=\"text-decoration : none; color : #000000;\"><h3>B. Average Feature Importance   </h3></a>\n",
    "        </ul>\n",
    "     </ol>\n",
    "     <br>\n",
    "     \n",
    " <ol>\n",
    "        <h2><a href='#3' style=\"text-decoration : none; color : #000000;\">3. Undersampling</a></h2>\n",
    "        <ul>\n",
    "            <a href='#3.A' style=\"text-decoration : none; color : #000000;\"><h3>A. Results </h3></a>\n",
    "        </ul>\n",
    "        <ul>\n",
    "            <a href='#3.B' style=\"text-decoration : none; color : #000000;\"><h3>B. Average Feature Importance   </h3></a>\n",
    "        </ul>\n",
    "     </ol>\n",
    "     <br>\n",
    "     \n",
    " <ol>\n",
    "        <h2><a href='#4' style=\"text-decoration : none; color : #000000;\">4.Feature Transformation with feature selection</a></h2>\n",
    "        <ul>\n",
    "            <a href='#4.A' style=\"text-decoration : none; color : #000000;\"><h3>A. Results </h3></a>\n",
    "        </ul>\n",
    "        <ul>\n",
    "            <a href='#4.B' style=\"text-decoration : none; color : #000000;\"><h3>B. Average Feature Importance   </h3></a>\n",
    "        </ul>\n",
    "     </ol>\n",
    "     <br>\n",
    "     \n",
    "     \n",
    " <ol>\n",
    "        <h2><a href='#5' style=\"text-decoration : none; color : #000000;\">5.Feature Transformation with PCA</a></h2>\n",
    "        <ul>\n",
    "            <a href='#5.A' style=\"text-decoration : none; color : #000000;\"><h3>A. Results </h3></a>\n",
    "        </ul>\n",
    "     </ol>\n",
    "     <br>"
   ]
  },
  {
   "cell_type": "code",
   "execution_count": 1,
   "metadata": {},
   "outputs": [
    {
     "name": "stderr",
     "output_type": "stream",
     "text": [
      "Using TensorFlow backend.\n",
      "/nethomes/darshan/anaconda3/lib/python3.6/site-packages/sklearn/externals/six.py:31: DeprecationWarning: The module is deprecated in version 0.21 and will be removed in version 0.23 since we've dropped support for Python 2.7. Please rely on the official version of six (https://pypi.org/project/six/).\n",
      "  \"(https://pypi.org/project/six/).\", DeprecationWarning)\n",
      "/nethomes/darshan/anaconda3/lib/python3.6/site-packages/sklearn/externals/joblib/__init__.py:15: DeprecationWarning: sklearn.externals.joblib is deprecated in 0.21 and will be removed in 0.23. Please import this functionality directly from joblib, which can be installed with: pip install joblib. If this warning is raised when loading pickled models, you may need to re-serialize those models with scikit-learn 0.21+.\n",
      "  warnings.warn(msg, category=DeprecationWarning)\n"
     ]
    },
    {
     "data": {
      "text/html": [
       "<script type=\"text/javascript\">window.PlotlyConfig = {MathJaxConfig: 'local'};</script><script type=\"text/javascript\">if (window.MathJax) {MathJax.Hub.Config({SVG: {font: \"STIX-Web\"}});}</script><script>requirejs.config({paths: { 'plotly': ['https://cdn.plot.ly/plotly-latest.min']},});if(!window._Plotly) {require(['plotly'],function(plotly) {window._Plotly=plotly;});}</script>"
      ],
      "text/vnd.plotly.v1+html": [
       "<script type=\"text/javascript\">window.PlotlyConfig = {MathJaxConfig: 'local'};</script><script type=\"text/javascript\">if (window.MathJax) {MathJax.Hub.Config({SVG: {font: \"STIX-Web\"}});}</script><script>requirejs.config({paths: { 'plotly': ['https://cdn.plot.ly/plotly-latest.min']},});if(!window._Plotly) {require(['plotly'],function(plotly) {window._Plotly=plotly;});}</script>"
      ]
     },
     "metadata": {},
     "output_type": "display_data"
    }
   ],
   "source": [
    "import pandas as pd\n",
    "import numpy as np\n",
    "import copy\n",
    "import matplotlib.pyplot as plt\n",
    "import seaborn as sns\n",
    "%matplotlib inline\n",
    "\n",
    "from IPython.display import display,clear_output,HTML\n",
    "import warnings\n",
    "warnings.filterwarnings(\"ignore\")\n",
    "warnings.filterwarnings(\"ignore\",category=DeprecationWarning)\n",
    "\n",
    "import keras\n",
    "from keras.layers import Dense,Dropout\n",
    "from keras.models import Sequential\n",
    "warnings.simplefilter(\"ignore\", DeprecationWarning)\n",
    "import researchpy as rp\n",
    "\n",
    "%matplotlib inline\n",
    "pd.set_option('display.max_columns', 500)\n",
    "pd.set_option('display.max_rows',305)\n",
    "\n",
    "from sklearn.feature_selection import SelectKBest,chi2,RFE,RFECV,f_regression,SelectFromModel\n",
    "from sklearn.linear_model import LogisticRegression\n",
    "from sklearn.ensemble import ExtraTreesClassifier,RandomForestClassifier,GradientBoostingClassifier,AdaBoostClassifier,BaggingClassifier\n",
    "from sklearn.neighbors import KNeighborsClassifier\n",
    "from sklearn.model_selection import train_test_split,cross_val_score\n",
    "\n",
    "from sklearn.preprocessing import StandardScaler,MinMaxScaler\n",
    "from sklearn import metrics\n",
    "\n",
    "\n",
    "\n",
    "from sklearn.decomposition import PCA\n",
    "from sklearn.metrics import accuracy_score,auc,roc_curve,recall_score,precision_score,matthews_corrcoef\n",
    "\n",
    "from pandas_ml import ConfusionMatrix\n",
    "\n",
    "\n",
    "from imblearn.over_sampling import SMOTE\n",
    "\n",
    "from plotly.offline import download_plotlyjs, init_notebook_mode, plot, iplot\n",
    "init_notebook_mode(connected=True)\n",
    "import plotly.graph_objs as go\n",
    "\n",
    "import featuretools as ft\n",
    "\n",
    "from scipy import stats\n",
    "import re\n",
    "\n",
    "from xgboost import XGBClassifier\n",
    "from xgboost import plot_importance"
   ]
  },
  {
   "cell_type": "code",
   "execution_count": 2,
   "metadata": {},
   "outputs": [],
   "source": [
    "### Function to plot Feature Importance\n",
    "def feat_impt_plot(feat_impt,y_labels,width_s=1000,height_s=1000):\n",
    "    \n",
    "    m=pd.DataFrame(y_labels,feat_impt).reset_index()\n",
    "    m.columns=['Feature_Importance','Features']\n",
    "    m.sort_values(by='Feature_Importance',inplace=True,ascending=False)\n",
    "    m['Features']=m['Features'].str.replace(\"dom_function_\",\"\")\n",
    "    m['Features']=m['Features'].str.replace(\"js_function_\",\"\")\n",
    "    m['Features']=m['Features'].apply(lambda x: str(x).lstrip('.'))\n",
    "    m['Features']=m['Features'].str.replace(\"(\",\"\")\n",
    "    \n",
    "    data = [go.Bar(x=m.Feature_Importance.values,y=m.Features.values,text=np.round(m.Feature_Importance,4),\n",
    "            textposition = 'outside',\n",
    "            marker=dict(\n",
    "                color='rgb(158,202,225)',\n",
    "                line=dict(\n",
    "                    color='rgb(8,48,107)',\n",
    "                    width=1.5),\n",
    "            ),\n",
    "            opacity=0.6,\n",
    "            orientation='h'\n",
    "        )]\n",
    "    layout = go.Layout(autosize=False,\n",
    "    width=width_s,\n",
    "    height=height_s,\n",
    "    xaxis=dict(title='Feature Importances',\n",
    "        tickfont=dict(\n",
    "            size=12,\n",
    "            color='black'\n",
    "        )),\n",
    "    yaxis=dict(automargin=True))\n",
    "    fig = go.Figure(data=data, layout=layout)\n",
    "    iplot(fig)\n",
    "    \n",
    "def uni_value(data):\n",
    "    lst=[]\n",
    "    for col in data.columns[:]:\n",
    "        lst.append([col,dict(data[col].value_counts()),data[col].value_counts().values[0]>=len(data)*0.95])\n",
    "    col_values=pd.DataFrame(lst,columns=['Feature','Value_Counts','95_%_same_values'])\n",
    "    col_values.set_index('Feature',drop=True,inplace=True)\n",
    "    del lst\n",
    "    return col_values\n",
    "\n",
    "    \n",
    "def check_cat(data):\n",
    "    cat_var=[]\n",
    "    num_var=[]\n",
    "    for col in data.columns:\n",
    "        if col!='Target':\n",
    "            if len(data[col].value_counts())==2:\n",
    "                cat_var.append(col)\n",
    "            else:\n",
    "                num_var.append(col)\n",
    "    return cat_var,num_var\n",
    "\n",
    "\n",
    "def num_stats(data,columns):\n",
    "    lst=[]\n",
    "    c=0\n",
    "    for col in columns:\n",
    "        corr=stats.pointbiserialr(data[col],data.Target)[0]\n",
    "        corr_p=stats.pointbiserialr(data[col],data.Target)[1]\n",
    "        ttest=stats.ttest_ind(data[data.Target==1][col], data[data.Target==0][col], equal_var=False)[0]\n",
    "        ttest_p=stats.ttest_ind(data[data.Target==1][col], data[data.Target==0][col], equal_var=False)[1]\n",
    "        lst.append((corr,corr_p,ttest,ttest_p,col))\n",
    "    stats_data=pd.DataFrame(lst,columns=['Pt. Biserial Corr','Pt. Biserial Corr p-val','ttest','ttest p-val','Feature'])\n",
    "    stats_data.set_index('Feature',drop=True,inplace=True)\n",
    "    stats_data.sort_values(by='ttest',inplace=True)\n",
    "    del lst\n",
    "    return stats_data\n",
    "\n",
    "\n",
    "### Generate statistics for categorical data\n",
    "def cat_stats(data,columns):\n",
    "    lst=[]\n",
    "    c=0\n",
    "    for col in columns:\n",
    "        if col!='Target':\n",
    "            table, results = rp.crosstab(data['Target'], data[col], prop= 'col', test= 'chi-square')\n",
    "            x=results['results'].values.tolist()\n",
    "            x.append(col)\n",
    "            lst.append(x)\n",
    "    chi_df=pd.DataFrame(lst,columns=['Pearson Chi-square','p-value','Cramers V','Feature'])\n",
    "    chi_df.set_index('Feature',drop=True,inplace=True)\n",
    "    chi_df.sort_values(by='Cramers V',ascending=False,inplace=True)\n",
    "    del lst\n",
    "    return chi_df\n",
    "\n",
    "def remove_feat(data):\n",
    "    col_no_unique=[]\n",
    "    for col in data.columns[:]:\n",
    "        if len(data[col].value_counts())<=1:\n",
    "#             print(col)\n",
    "            col_no_unique.append(col)\n",
    "    return col_no_unique\n",
    "\n",
    "### Generate plot for class balance for categorical nature\n",
    "def class_bal(data,title=''):\n",
    "    d = [go.Bar(x=data.Target.value_counts().index.values,\n",
    "               y=data.Target.value_counts().values,\n",
    "               text=data.Target.value_counts().values,\n",
    "               textposition = 'outside',\n",
    "            )]\n",
    "    layout = go.Layout(title=title,xaxis=dict(title='Domain Type',tickfont=dict(size=12,color='black')),\n",
    "                    yaxis=dict(title='Number of Instances'))\n",
    "    fig = go.Figure(data=d, layout=layout)\n",
    "    iplot(fig)"
   ]
  },
  {
   "cell_type": "code",
   "execution_count": 3,
   "metadata": {},
   "outputs": [],
   "source": [
    "def model_build(model,X_train,Y_train,X_test,Y_test,tree=False,feat=None):\n",
    "    \n",
    "    y_pred_train=model.predict(X_train)\n",
    "    acc_train=accuracy_score(Y_train,y_pred_train)\n",
    "    \n",
    "    print(\"Accuracy of the model for training data is:\",acc_train)\n",
    "    print(\"Confusion Matrix for training data is:\")\n",
    "    cm_train=ConfusionMatrix(Y_train,y_pred_train)\n",
    "    display(cm_train)\n",
    "    \n",
    "    \n",
    "    y_pred_test=model.predict(X_test)\n",
    "    acc_test=accuracy_score(Y_test,y_pred_test)\n",
    "    print(\"Accuracy of the model for test data is:\",acc_test)\n",
    "    print(\"Confusion Matrix for test data is:\")\n",
    "    cm_test=ConfusionMatrix(Y_test,y_pred_test)\n",
    "    display(cm_test)\n",
    "\n",
    "    fpr, tpr, threshold = roc_curve(Y_test, y_pred_test)\n",
    "    roc_auc =auc(fpr, tpr)\n",
    "    mcc=matthews_corrcoef(Y_test,y_pred_test)\n",
    "    if tree==True:\n",
    "        feat_impt_plot(model.feature_importances_,feat)\n",
    "        return model,cm_train,cm_test,acc_train,acc_test,roc_auc,model.feature_importances_,mcc\n",
    "    \n",
    "    return model,cm_train,cm_test,acc_train,acc_test,roc_auc,mcc\n",
    "\n",
    "def KNN_model(X_train,Y_train,X_test,Y_test):\n",
    "    print('\\033[1m' + 'K-Nearest Neighbors' + '\\033[0m')\n",
    "    knn=KNeighborsClassifier()\n",
    "    knn.fit(X_train,Y_train)\n",
    "\n",
    "    return model_build(knn,X_train,Y_train,X_test,Y_test)\n",
    "\n",
    "def Logistic_model(X_train,Y_train,X_test,Y_test):\n",
    "    print('\\033[1m' + 'Logistic Regression' + '\\033[0m')\n",
    "    log=LogisticRegression(random_state=0)\n",
    "    log.fit(X_train,Y_train)\n",
    "    \n",
    "    return model_build(log,X_train,Y_train,X_test,Y_test)\n",
    "\n",
    "def RandomForest(X_train,Y_train,X_test,Y_test,feat):\n",
    "    print('\\033[1m' + 'RandomForest Classifier' + '\\033[0m')\n",
    "    rf=RandomForestClassifier(random_state=0)\n",
    "    rf.fit(X_train,Y_train)\n",
    "\n",
    "    \n",
    "    return model_build(rf,X_train,Y_train,X_test,Y_test,True,feat)\n",
    "\n",
    "def AdaBoost(X_train,Y_train,X_test,Y_test,feat):\n",
    "    print('\\033[1m' + 'Adaoost Classifier' + '\\033[0m')\n",
    "    ada=AdaBoostClassifier(random_state=0)\n",
    "    ada.fit(X_train,Y_train)\n",
    "    \n",
    "    return model_build(ada,X_train,Y_train,X_test,Y_test,True,feat)\n",
    "\n",
    "def GradientBoosting(X_train,Y_train,X_test,Y_test,feat):\n",
    "    print('\\033[1m' + 'GradientBoosting Classifier' + '\\033[0m')\n",
    "    gbc=GradientBoostingClassifier(random_state=0)\n",
    "    gbc.fit(X_train,Y_train)\n",
    "    \n",
    "    return model_build(gbc,X_train,Y_train,X_test,Y_test,True,feat)\n",
    "\n",
    "def ExtraTree(X_train,Y_train,X_test,Y_test,feat):\n",
    "    print('\\033[1m' + 'ExtraTree Classifier' + '\\033[0m')\n",
    "    ext_tree=ExtraTreesClassifier(random_state=0)\n",
    "    ext_tree.fit(X_train,Y_train)\n",
    "    \n",
    "    return model_build(ext_tree,X_train,Y_train,X_test,Y_test,True,feat)\n",
    "\n",
    "def Bagging(X_train,Y_train,X_test,Y_test):\n",
    "    print('\\033[1m' + 'Bagging Classifier' + '\\033[0m')\n",
    "    bagging=BaggingClassifier(random_state=0)\n",
    "    bagging.fit(X_train,Y_train)\n",
    "    \n",
    "    return model_build(bagging,X_train,Y_train,X_test,Y_test)\n",
    "\n",
    "def DeepLearning1(X_train,Y_train,X_test,Y_test):\n",
    "    print('\\033[1m' + 'Neural Network-1' + '\\033[0m')\n",
    "    np.random.seed(0)\n",
    "    deep_learning=Sequential()\n",
    "    deep_learning.add(Dense(units=64,activation='relu',use_bias=True,kernel_initializer='uniform',input_dim=X_train.shape[1]))\n",
    "    deep_learning.add(Dense(units=128,activation='relu',use_bias=True,kernel_initializer='uniform'))\n",
    "    deep_learning.add(Dense(units=1,activation='sigmoid',use_bias=True,kernel_initializer='uniform'))\n",
    "    deep_learning.compile(optimizer='adam',loss='binary_crossentropy',metrics=['accuracy'])\n",
    "    deep_learning.fit(X_train,Y_train,batch_size=20,epochs=80,verbose=False)\n",
    "    acc_train=deep_learning.evaluate(X_train,Y_train,verbose=False)[1]\n",
    "    print(\"The accuracy of the model on training data is:\",acc_train)\n",
    "    cm_train=ConfusionMatrix(Y_train,deep_learning.predict_classes(X_train,batch_size=1,verbose=False).reshape(1,len(X_train))[0])\n",
    "    cm_test=ConfusionMatrix(Y_test,deep_learning.predict_classes(X_test,batch_size=1,verbose=False).reshape(1,len(X_test))[0])\n",
    "    display(cm_train)\n",
    "    acc_test=accuracy_score(Y_test,deep_learning.predict_classes(X_test,batch_size=1,verbose=False))\n",
    "    print(\"The accuracy of the model on test data is:\",acc_test)\n",
    "    display(cm_test)\n",
    "    mcc=matthews_corrcoef(Y_test,deep_learning.predict_classes(X_test,batch_size=1,verbose=False))\n",
    "    fpr, tpr, threshold = roc_curve(Y_test, deep_learning.predict_classes(X_test,batch_size=1,verbose=False))\n",
    "    roc_auc =auc(fpr, tpr)\n",
    "    return  deep_learning,cm_train,cm_test,acc_train,acc_test,roc_auc,mcc"
   ]
  },
  {
   "cell_type": "markdown",
   "metadata": {},
   "source": [
    "### HTML Read Data"
   ]
  },
  {
   "cell_type": "code",
   "execution_count": 4,
   "metadata": {},
   "outputs": [
    {
     "name": "stdout",
     "output_type": "stream",
     "text": [
      "Shape of HTML dataset: (43491, 1461)\n",
      "0 columns have only one unique value in them rendering them meaningless for classification\n",
      "Shape of our dataset after dropping them: (43491, 1464)\n",
      "1297 columns have more than 95% same values\n",
      "Shape of our dataset after dropping them: (43491, 167)\n",
      "38 columns are dropped because of high VIF values\n",
      "Shape of our dataset after dropping them: (43491, 129)\n"
     ]
    }
   ],
   "source": [
    "df_html=pd.read_csv('../html/HTML.csv',index_col='domain')\n",
    "df_html.drop(['Unnamed: 0'],axis=1,inplace=True)\n",
    "cookie=[col for col in df_html.columns if 'number' in col]\n",
    "df_html.drop(cookie,axis=1,inplace=True)\n",
    "print(\"Shape of HTML dataset:\",df_html.shape)\n",
    "df_html.Target=df_html.Target.apply(lambda x: 1 if x=='Malicious' else 0)\n",
    "\n",
    "count_columns=[col for col in df_html.columns if col.endswith('count')]\n",
    "df_html['total_count']=df_html[count_columns].sum(axis=1)\n",
    "\n",
    "href_columns=[col for col in df_html.columns if (('href_absolute' in col) | ('href_relative' in col) | ('href_page' in col))  ]\n",
    "df_html['total_href']=df_html[href_columns].sum(axis=1)\n",
    "\n",
    "total_img_src=[col for col in df_html.columns if 'img_src_' in col]\n",
    "df_html['total_img_src']=df_html[total_img_src].sum(axis=1)\n",
    "\n",
    "\n",
    "\n",
    "#### Dropping constants\n",
    "\n",
    "col_no_unique=[]\n",
    "for col in df_html.columns[:-1]:\n",
    "    if len(df_html[col].value_counts())==1:\n",
    "        col_no_unique.append(col)\n",
    "\n",
    "print(\"{} columns have only one unique value in them rendering them meaningless for classification\".format(len(col_no_unique)))\n",
    "### Drop those columns\n",
    "df_html.drop(col_no_unique,axis=1,inplace=True)\n",
    "\n",
    "print(\"Shape of our dataset after dropping them:\",df_html.shape)\n",
    "\n",
    "#### 95% same values\n",
    "\n",
    "lst=[]\n",
    "for col in df_html.columns[:-1]:\n",
    "    lst.append([col,dict(df_html[col].value_counts()),df_html[col].value_counts().values[0]>=len(df_html)*0.95])\n",
    "\n",
    "col_values=pd.DataFrame(lst,columns=['Feature','Value_Counts','95_%_same_values'])\n",
    "col_values.set_index('Feature',drop=True,inplace=True)\n",
    "del lst\n",
    "\n",
    "print(\"{} columns have more than 95% same values\".format(len(col_values[col_values['95_%_same_values']==True].index.values)))\n",
    "\n",
    "df_html.drop(col_values[col_values['95_%_same_values']==True].index.values,axis=1,inplace=True)\n",
    "\n",
    "print(\"Shape of our dataset after dropping them:\",df_html.shape)\n",
    "\n",
    "#### Dropping columns based on high VIF values\n",
    "\n",
    "rem=['a_href_absolute','a_href_relative','a_count','a_href_out_of_domain',\n",
    "     'base_count','base_href_absolute','base_href_out_of_domain',\n",
    "     'iframe_src_absolute','iframe_src_relative','iframe_sandbox_allow_same_origin_count','iframe_src_http',\n",
    "     'img_src_absolute','img_src_http','img_srcset_absolute','img_src_relative','img_srcset_relative','img_count',\n",
    "     'script_src_absolute','script_src_http','script_src_relative','script_count','script_src_https',\n",
    "     'link_rel_wlwmanifest','link_href_absolute','link_href_relative','link_rel_EditURI','link_count',\n",
    "     'link_type_application/wlwmanifest+xml','link_href_https','link_rel_stylesheet','link_href_.png',\n",
    "     'form_action_absolute','form_action_relative','form_count','form_action_https',\n",
    "     'form_enctype_application/x-www-form-urlencoded',\n",
    "     'tbody_count',\n",
    "     'nofollow_count']\n",
    "\n",
    "print('{} columns are dropped because of high VIF values'.format(len(rem)))\n",
    "df_html.drop(rem,axis=1,inplace=True)\n",
    "print(\"Shape of our dataset after dropping them:\",df_html.shape)"
   ]
  },
  {
   "cell_type": "markdown",
   "metadata": {},
   "source": [
    "### JavaScript read data"
   ]
  },
  {
   "cell_type": "code",
   "execution_count": 5,
   "metadata": {},
   "outputs": [
    {
     "name": "stdout",
     "output_type": "stream",
     "text": [
      "113 columns have only one unique value in them rendering them meaningless for classification\n",
      "Shape of our dataset after dropping them: (43294, 288)\n",
      "234 columns have more than 95% same values\n",
      "Shape of our dataset after dropping them: (43294, 54)\n",
      "5 columns are dropped because of high VIF values\n",
      "Shape of our dataset after dropping them: (43294, 49)\n"
     ]
    }
   ],
   "source": [
    "df_js=pd.read_csv('Javascript.csv',low_memory=False,index_col='domain')\n",
    "\n",
    "cookie=[col for col in df_js.columns if 'number' in col]\n",
    "df_js.drop(cookie,axis=1,inplace=True)\n",
    "\n",
    "df_js.rename(columns={'Malicious':'Target'},inplace=True)\n",
    "\n",
    "df_js.Target=df_js.Target.apply(lambda x: 1 if x=='Malicious' else 0)\n",
    "\n",
    "#### Dropping constants\n",
    "\n",
    "col_no_unique=[]\n",
    "for col in df_js.columns[:-1]:\n",
    "    if len(df_js[col].value_counts())==1:\n",
    "        col_no_unique.append(col)\n",
    "\n",
    "print(\"{} columns have only one unique value in them rendering them meaningless for classification\".format(len(col_no_unique)))\n",
    "### Drop those columns\n",
    "df_js.drop(col_no_unique,axis=1,inplace=True)\n",
    "\n",
    "print(\"Shape of our dataset after dropping them:\",df_js.shape)\n",
    "\n",
    "#### 95% same values\n",
    "\n",
    "lst=[]\n",
    "for col in df_js.columns[:-1]:\n",
    "    lst.append([col,dict(df_js[col].value_counts()),df_js[col].value_counts().values[0]>=len(df_js)*0.95])\n",
    "\n",
    "col_values=pd.DataFrame(lst,columns=['Feature','Value_Counts','95_%_same_values'])\n",
    "col_values.set_index('Feature',drop=True,inplace=True)\n",
    "del lst\n",
    "\n",
    "\n",
    "print(\"{} columns have more than 95% same values\".format(len(col_values[col_values['95_%_same_values']==True].index.values)))\n",
    "\n",
    "df_js.drop(col_values[col_values['95_%_same_values']==True].index.values,axis=1,inplace=True)\n",
    "\n",
    "print(\"Shape of our dataset after dropping them:\",df_js.shape)\n",
    "\n",
    "\n",
    "#### Dropping columns based on high VIF values\n",
    "\n",
    "rem=['js_function_.defineProperty(','js_function_.keys(','js_function_.substr','js_function_unescape(','js_function_.log(']\n",
    "\n",
    "print('{} columns are dropped because of high VIF values'.format(len(rem)))\n",
    "df_js.drop(rem,axis=1,inplace=True)\n",
    "print(\"Shape of our dataset after dropping them:\",df_js.shape)"
   ]
  },
  {
   "cell_type": "code",
   "execution_count": 6,
   "metadata": {},
   "outputs": [],
   "source": [
    "df=pd.concat([df_js,df_html],axis=1,join='inner')\n",
    "df['Target_z']=df[['Target','Target']].apply(max,axis=1)\n",
    "df.drop(['Target','Target'],axis=1,inplace=True)\n",
    "df.rename(columns={'Target_z':'Target'},inplace=True)"
   ]
  },
  {
   "cell_type": "code",
   "execution_count": 7,
   "metadata": {},
   "outputs": [],
   "source": [
    "df_sel=df.copy(deep=True)"
   ]
  },
  {
   "cell_type": "code",
   "execution_count": 8,
   "metadata": {
    "scrolled": true
   },
   "outputs": [
    {
     "name": "stdout",
     "output_type": "stream",
     "text": [
      "Accuracy: 90.63%\n"
     ]
    }
   ],
   "source": [
    "X=df_sel.iloc[:,df_sel.columns!='Target']\n",
    "Y=df_sel.Target\n",
    "\n",
    "X_train, X_test, y_train, y_test = train_test_split(X, Y, test_size=0.3, random_state=7)\n",
    "\n",
    "model = XGBClassifier(random_state=0)\n",
    "model.fit(X_train, y_train)\n",
    "y_pred = model.predict(X_test)\n",
    "predictions = [round(value) for value in y_pred]\n",
    "accuracy = accuracy_score(y_test, predictions)\n",
    "print(\"Accuracy: %.2f%%\" % (accuracy * 100.0))\n",
    "thresholds = np.sort(model.feature_importances_)\n",
    "\n",
    "# for thresh in thresholds:\n",
    "#     selection = SelectFromModel(model, threshold=thresh, prefit=True)\n",
    "#     select_X_train = selection.transform(X_train)\n",
    "#     selection_model = XGBClassifier(random_state=0)\n",
    "#     selection_model.fit(select_X_train, y_train)\n",
    "#     select_X_test = selection.transform(X_test)\n",
    "#     y_pred = selection_model.predict(select_X_test)\n",
    "#     predictions = [round(value) for value in y_pred]\n",
    "#     accuracy = accuracy_score(y_test, predictions)\n",
    "#     print(\"Thresh=%.3f, n=%d, Accuracy: %.2f%%\" % (thresh, select_X_train.shape[1], accuracy*100.0))"
   ]
  },
  {
   "cell_type": "code",
   "execution_count": 9,
   "metadata": {},
   "outputs": [
    {
     "data": {
      "text/plain": [
       "['dom_function_document.write(',\n",
       " 'dom_function_window.addEventListener(',\n",
       " 'dom_function_window.setTimeout(',\n",
       " 'js_function_.find(',\n",
       " 'js_function_.get(',\n",
       " 'js_function_.indexOf(',\n",
       " 'js_function_.push(',\n",
       " 'js_function_.replace(',\n",
       " 'a_href_.com',\n",
       " 'a_href_https',\n",
       " 'center_count',\n",
       " 'form_action_http',\n",
       " 'iframe_src_https',\n",
       " 'link_href_.css',\n",
       " 'link_href_http',\n",
       " 'link_href_out_of_domain',\n",
       " 'link_rel_shortlink',\n",
       " 'link_type_application/rsd+xml',\n",
       " 'link_type_text/css',\n",
       " 'meta_count',\n",
       " 'p_count',\n",
       " 'script_async_true',\n",
       " 'script_src_out_of_domain',\n",
       " 'strong_count',\n",
       " 'total_count',\n",
       " 'total_href',\n",
       " 'Target']"
      ]
     },
     "execution_count": 9,
     "metadata": {},
     "output_type": "execute_result"
    }
   ],
   "source": [
    "# select features using threshold\n",
    "selection = SelectFromModel(model, threshold=0.010, prefit=True)\n",
    "select_X_train = selection.transform(X_train)\n",
    "# train model\n",
    "selection_model = XGBClassifier(random_state=0)\n",
    "selection_model.fit(select_X_train, y_train)\n",
    "# eval model\n",
    "select_X_test = selection.transform(X_test)\n",
    "y_pred = selection_model.predict(select_X_test)\n",
    "\n",
    "selection_model = selection.get_support()\n",
    "embeded_rf_feature = X.loc[:,selection_model].columns.tolist()\n",
    "\n",
    "embeded_rf_feature.append('Target')\n",
    "embeded_rf_feature"
   ]
  },
  {
   "cell_type": "markdown",
   "metadata": {},
   "source": [
    "### <a id='1' style=\"text-decoration : none; color : #000000;\"> 2. Initial Models</a>"
   ]
  },
  {
   "cell_type": "code",
   "execution_count": 10,
   "metadata": {},
   "outputs": [],
   "source": [
    "fin_col=embeded_rf_feature\n",
    "df_sel=df_sel[fin_col]"
   ]
  },
  {
   "cell_type": "code",
   "execution_count": 11,
   "metadata": {},
   "outputs": [],
   "source": [
    "train=df_sel.iloc[:28496,:]\n",
    "train_X=train.iloc[:,train.columns!='Target'].values\n",
    "train_Y=train.Target.values"
   ]
  },
  {
   "cell_type": "code",
   "execution_count": 12,
   "metadata": {},
   "outputs": [],
   "source": [
    "scaler=StandardScaler()\n",
    "scaled_X_train=scaler.fit_transform(train_X)"
   ]
  },
  {
   "cell_type": "code",
   "execution_count": 13,
   "metadata": {},
   "outputs": [],
   "source": [
    "test=df_sel.iloc[28496:,:]\n",
    "test_X=test.iloc[:,test.columns!='Target'].values\n",
    "test_Y=test.Target.values\n",
    "scaled_X_test=scaler.transform(test_X)"
   ]
  },
  {
   "cell_type": "code",
   "execution_count": 14,
   "metadata": {},
   "outputs": [
    {
     "data": {
      "text/plain": [
       "(28496, 27)"
      ]
     },
     "execution_count": 14,
     "metadata": {},
     "output_type": "execute_result"
    }
   ],
   "source": [
    "train.shape"
   ]
  },
  {
   "cell_type": "code",
   "execution_count": 15,
   "metadata": {},
   "outputs": [],
   "source": [
    "columns=fin_col\n",
    "columns.remove('Target')"
   ]
  },
  {
   "cell_type": "code",
   "execution_count": 16,
   "metadata": {
    "scrolled": false
   },
   "outputs": [
    {
     "name": "stdout",
     "output_type": "stream",
     "text": [
      "\u001b[1mK-Nearest Neighbors\u001b[0m\n",
      "Accuracy of the model for training data is: 0.8718416619876473\n",
      "Confusion Matrix for training data is:\n"
     ]
    },
    {
     "data": {
      "text/plain": [
       "Predicted  False  True  __all__\n",
       "Actual                         \n",
       "False      24183   157    24340\n",
       "True        3495   661     4156\n",
       "__all__    27678   818    28496"
      ]
     },
     "metadata": {},
     "output_type": "display_data"
    },
    {
     "name": "stdout",
     "output_type": "stream",
     "text": [
      "Accuracy of the model for test data is: 0.8674363383280111\n",
      "Confusion Matrix for test data is:\n"
     ]
    },
    {
     "data": {
      "text/plain": [
       "Predicted  False  True  __all__\n",
       "Actual                         \n",
       "False      10361    77    10438\n",
       "True        1542   233     1775\n",
       "__all__    11903   310    12213"
      ]
     },
     "metadata": {},
     "output_type": "display_data"
    },
    {
     "name": "stdout",
     "output_type": "stream",
     "text": [
      "\n",
      "\n",
      "\u001b[1mLogistic Regression\u001b[0m\n",
      "Accuracy of the model for training data is: 0.8890370578326783\n",
      "Confusion Matrix for training data is:\n"
     ]
    },
    {
     "data": {
      "text/plain": [
       "Predicted  False  True  __all__\n",
       "Actual                         \n",
       "False      21977  2363    24340\n",
       "True         799  3357     4156\n",
       "__all__    22776  5720    28496"
      ]
     },
     "metadata": {},
     "output_type": "display_data"
    },
    {
     "name": "stdout",
     "output_type": "stream",
     "text": [
      "Accuracy of the model for test data is: 0.8900352083845083\n",
      "Confusion Matrix for test data is:\n"
     ]
    },
    {
     "data": {
      "text/plain": [
       "Predicted  False  True  __all__\n",
       "Actual                         \n",
       "False       9418  1020    10438\n",
       "True         323  1452     1775\n",
       "__all__     9741  2472    12213"
      ]
     },
     "metadata": {},
     "output_type": "display_data"
    },
    {
     "name": "stdout",
     "output_type": "stream",
     "text": [
      "\n",
      "\n",
      "\u001b[1mRandomForest Classifier\u001b[0m\n",
      "Accuracy of the model for training data is: 0.9265160022459292\n",
      "Confusion Matrix for training data is:\n"
     ]
    },
    {
     "data": {
      "text/plain": [
       "Predicted  False  True  __all__\n",
       "Actual                         \n",
       "False      22414  1926    24340\n",
       "True         168  3988     4156\n",
       "__all__    22582  5914    28496"
      ]
     },
     "metadata": {},
     "output_type": "display_data"
    },
    {
     "name": "stdout",
     "output_type": "stream",
     "text": [
      "Accuracy of the model for test data is: 0.9111602390894948\n",
      "Confusion Matrix for test data is:\n"
     ]
    },
    {
     "data": {
      "text/plain": [
       "Predicted  False  True  __all__\n",
       "Actual                         \n",
       "False       9555   883    10438\n",
       "True         202  1573     1775\n",
       "__all__     9757  2456    12213"
      ]
     },
     "metadata": {},
     "output_type": "display_data"
    },
    {
     "data": {
      "application/vnd.plotly.v1+json": {
       "config": {
        "linkText": "Export to plot.ly",
        "plotlyServerURL": "https://plot.ly",
        "showLink": true
       },
       "data": [
        {
         "marker": {
          "color": "rgb(158,202,225)",
          "line": {
           "color": "rgb(8,48,107)",
           "width": 1.5
          }
         },
         "opacity": 0.6,
         "orientation": "h",
         "text": [
          0.2408,
          0.1586,
          0.1202,
          0.0999,
          0.0944,
          0.072,
          0.0351,
          0.0252,
          0.0164,
          0.0144,
          0.0142,
          0.0142,
          0.0133,
          0.0129,
          0.0128,
          0.01,
          0.0093,
          0.0071,
          0.0056,
          0.0047,
          0.0042,
          0.0038,
          0.0037,
          0.0027,
          0.0025,
          0.0023
         ],
         "textposition": "outside",
         "type": "bar",
         "uid": "33290e32-073e-40a5-b43d-c3d94f217c66",
         "x": [
          0.24075155641959442,
          0.15858352328222786,
          0.12015029687096765,
          0.09991645183440175,
          0.09435434649878781,
          0.07201007699453596,
          0.035093875088899565,
          0.025166569707433105,
          0.01635442661026368,
          0.014430808108719856,
          0.014241266974901374,
          0.014167470924394129,
          0.013301050798517655,
          0.012851131597659137,
          0.012822411109581783,
          0.010038828846726617,
          0.009261637592351327,
          0.00708179322027896,
          0.00560523448089391,
          0.004652342825723862,
          0.004162423080605762,
          0.003762459164670279,
          0.0037445008910009176,
          0.0026799491197312857,
          0.0024753055457189315,
          0.002340262411412435
         ],
         "y": [
          "total_href",
          "total_count",
          "link_href_out_of_domain",
          "p_count",
          "meta_count",
          "a_href_https",
          "script_async_true",
          "push",
          "link_href_.css",
          "link_type_text/css",
          "indexOf",
          "link_href_http",
          "strong_count",
          "script_src_out_of_domain",
          "form_action_http",
          "center_count",
          "document.write",
          "replace",
          "iframe_src_https",
          "window.setTimeout",
          "get",
          "a_href_.com",
          "find",
          "window.addEventListener",
          "link_rel_shortlink",
          "link_type_application/rsd+xml"
         ]
        }
       ],
       "layout": {
        "autosize": false,
        "height": 1000,
        "width": 1000,
        "xaxis": {
         "tickfont": {
          "color": "black",
          "size": 12
         },
         "title": "Feature Importances"
        },
        "yaxis": {
         "automargin": true
        }
       }
      },
      "text/html": [
       "<div id=\"0cf62f32-5a06-46c6-b1d4-f863f0346812\" style=\"height: 1000px; width: 1000px;\" class=\"plotly-graph-div\"></div><script type=\"text/javascript\">require([\"plotly\"], function(Plotly) { window.PLOTLYENV=window.PLOTLYENV || {};window.PLOTLYENV.BASE_URL=\"https://plot.ly\";Plotly.newPlot(\"0cf62f32-5a06-46c6-b1d4-f863f0346812\", [{\"marker\": {\"color\": \"rgb(158,202,225)\", \"line\": {\"color\": \"rgb(8,48,107)\", \"width\": 1.5}}, \"opacity\": 0.6, \"orientation\": \"h\", \"text\": [0.2408, 0.1586, 0.1202, 0.0999, 0.0944, 0.072, 0.0351, 0.0252, 0.0164, 0.0144, 0.0142, 0.0142, 0.0133, 0.0129, 0.0128, 0.01, 0.0093, 0.0071, 0.0056, 0.0047, 0.0042, 0.0038, 0.0037, 0.0027, 0.0025, 0.0023], \"textposition\": \"outside\", \"x\": [0.24075155641959442, 0.15858352328222786, 0.12015029687096765, 0.09991645183440175, 0.09435434649878781, 0.07201007699453596, 0.035093875088899565, 0.025166569707433105, 0.01635442661026368, 0.014430808108719856, 0.014241266974901374, 0.014167470924394129, 0.013301050798517655, 0.012851131597659137, 0.012822411109581783, 0.010038828846726617, 0.009261637592351327, 0.00708179322027896, 0.00560523448089391, 0.004652342825723862, 0.004162423080605762, 0.003762459164670279, 0.0037445008910009176, 0.0026799491197312857, 0.0024753055457189315, 0.002340262411412435], \"y\": [\"total_href\", \"total_count\", \"link_href_out_of_domain\", \"p_count\", \"meta_count\", \"a_href_https\", \"script_async_true\", \"push\", \"link_href_.css\", \"link_type_text/css\", \"indexOf\", \"link_href_http\", \"strong_count\", \"script_src_out_of_domain\", \"form_action_http\", \"center_count\", \"document.write\", \"replace\", \"iframe_src_https\", \"window.setTimeout\", \"get\", \"a_href_.com\", \"find\", \"window.addEventListener\", \"link_rel_shortlink\", \"link_type_application/rsd+xml\"], \"type\": \"bar\", \"uid\": \"33290e32-073e-40a5-b43d-c3d94f217c66\"}], {\"autosize\": false, \"height\": 1000, \"width\": 1000, \"xaxis\": {\"tickfont\": {\"color\": \"black\", \"size\": 12}, \"title\": \"Feature Importances\"}, \"yaxis\": {\"automargin\": true}}, {\"showLink\": true, \"linkText\": \"Export to plot.ly\", \"plotlyServerURL\": \"https://plot.ly\"})});</script>"
      ],
      "text/vnd.plotly.v1+html": [
       "<div id=\"0cf62f32-5a06-46c6-b1d4-f863f0346812\" style=\"height: 1000px; width: 1000px;\" class=\"plotly-graph-div\"></div><script type=\"text/javascript\">require([\"plotly\"], function(Plotly) { window.PLOTLYENV=window.PLOTLYENV || {};window.PLOTLYENV.BASE_URL=\"https://plot.ly\";Plotly.newPlot(\"0cf62f32-5a06-46c6-b1d4-f863f0346812\", [{\"marker\": {\"color\": \"rgb(158,202,225)\", \"line\": {\"color\": \"rgb(8,48,107)\", \"width\": 1.5}}, \"opacity\": 0.6, \"orientation\": \"h\", \"text\": [0.2408, 0.1586, 0.1202, 0.0999, 0.0944, 0.072, 0.0351, 0.0252, 0.0164, 0.0144, 0.0142, 0.0142, 0.0133, 0.0129, 0.0128, 0.01, 0.0093, 0.0071, 0.0056, 0.0047, 0.0042, 0.0038, 0.0037, 0.0027, 0.0025, 0.0023], \"textposition\": \"outside\", \"x\": [0.24075155641959442, 0.15858352328222786, 0.12015029687096765, 0.09991645183440175, 0.09435434649878781, 0.07201007699453596, 0.035093875088899565, 0.025166569707433105, 0.01635442661026368, 0.014430808108719856, 0.014241266974901374, 0.014167470924394129, 0.013301050798517655, 0.012851131597659137, 0.012822411109581783, 0.010038828846726617, 0.009261637592351327, 0.00708179322027896, 0.00560523448089391, 0.004652342825723862, 0.004162423080605762, 0.003762459164670279, 0.0037445008910009176, 0.0026799491197312857, 0.0024753055457189315, 0.002340262411412435], \"y\": [\"total_href\", \"total_count\", \"link_href_out_of_domain\", \"p_count\", \"meta_count\", \"a_href_https\", \"script_async_true\", \"push\", \"link_href_.css\", \"link_type_text/css\", \"indexOf\", \"link_href_http\", \"strong_count\", \"script_src_out_of_domain\", \"form_action_http\", \"center_count\", \"document.write\", \"replace\", \"iframe_src_https\", \"window.setTimeout\", \"get\", \"a_href_.com\", \"find\", \"window.addEventListener\", \"link_rel_shortlink\", \"link_type_application/rsd+xml\"], \"type\": \"bar\", \"uid\": \"33290e32-073e-40a5-b43d-c3d94f217c66\"}], {\"autosize\": false, \"height\": 1000, \"width\": 1000, \"xaxis\": {\"tickfont\": {\"color\": \"black\", \"size\": 12}, \"title\": \"Feature Importances\"}, \"yaxis\": {\"automargin\": true}}, {\"showLink\": true, \"linkText\": \"Export to plot.ly\", \"plotlyServerURL\": \"https://plot.ly\"})});</script>"
      ]
     },
     "metadata": {},
     "output_type": "display_data"
    },
    {
     "name": "stdout",
     "output_type": "stream",
     "text": [
      "\n",
      "\n",
      "\u001b[1mAdaoost Classifier\u001b[0m\n",
      "Accuracy of the model for training data is: 0.9041268950028074\n",
      "Confusion Matrix for training data is:\n"
     ]
    },
    {
     "data": {
      "text/plain": [
       "Predicted  False  True  __all__\n",
       "Actual                         \n",
       "False      22354  1986    24340\n",
       "True         746  3410     4156\n",
       "__all__    23100  5396    28496"
      ]
     },
     "metadata": {},
     "output_type": "display_data"
    },
    {
     "name": "stdout",
     "output_type": "stream",
     "text": [
      "Accuracy of the model for test data is: 0.9031360026201588\n",
      "Confusion Matrix for test data is:\n"
     ]
    },
    {
     "data": {
      "text/plain": [
       "Predicted  False  True  __all__\n",
       "Actual                         \n",
       "False       9552   886    10438\n",
       "True         297  1478     1775\n",
       "__all__     9849  2364    12213"
      ]
     },
     "metadata": {},
     "output_type": "display_data"
    },
    {
     "data": {
      "application/vnd.plotly.v1+json": {
       "config": {
        "linkText": "Export to plot.ly",
        "plotlyServerURL": "https://plot.ly",
        "showLink": true
       },
       "data": [
        {
         "marker": {
          "color": "rgb(158,202,225)",
          "line": {
           "color": "rgb(8,48,107)",
           "width": 1.5
          }
         },
         "opacity": 0.6,
         "orientation": "h",
         "text": [
          0.22,
          0.06,
          0.06,
          0.06,
          0.06,
          0.06,
          0.04,
          0.04,
          0.04,
          0.04,
          0.04,
          0.02,
          0.02,
          0.02,
          0.02,
          0.02,
          0.02,
          0.02,
          0.02,
          0.02,
          0.02,
          0.02,
          0.02,
          0.02,
          0.02,
          0
         ],
         "textposition": "outside",
         "type": "bar",
         "uid": "d7493d4a-3693-49f8-8030-d864e2e93246",
         "x": [
          0.22,
          0.06,
          0.06,
          0.06,
          0.06,
          0.06,
          0.04,
          0.04,
          0.04,
          0.04,
          0.04,
          0.02,
          0.02,
          0.02,
          0.02,
          0.02,
          0.02,
          0.02,
          0.02,
          0.02,
          0.02,
          0.02,
          0.02,
          0.02,
          0.02,
          0
         ],
         "y": [
          "total_count",
          "total_href",
          "p_count",
          "link_type_text/css",
          "link_href_http",
          "link_href_out_of_domain",
          "strong_count",
          "indexOf",
          "push",
          "a_href_.com",
          "a_href_https",
          "link_rel_shortlink",
          "script_src_out_of_domain",
          "script_async_true",
          "meta_count",
          "link_type_application/rsd+xml",
          "document.write",
          "window.addEventListener",
          "iframe_src_https",
          "form_action_http",
          "center_count",
          "get",
          "find",
          "window.setTimeout",
          "link_href_.css",
          "replace"
         ]
        }
       ],
       "layout": {
        "autosize": false,
        "height": 1000,
        "width": 1000,
        "xaxis": {
         "tickfont": {
          "color": "black",
          "size": 12
         },
         "title": "Feature Importances"
        },
        "yaxis": {
         "automargin": true
        }
       }
      },
      "text/html": [
       "<div id=\"5f557488-533d-412e-a59a-d5dac8cb206d\" style=\"height: 1000px; width: 1000px;\" class=\"plotly-graph-div\"></div><script type=\"text/javascript\">require([\"plotly\"], function(Plotly) { window.PLOTLYENV=window.PLOTLYENV || {};window.PLOTLYENV.BASE_URL=\"https://plot.ly\";Plotly.newPlot(\"5f557488-533d-412e-a59a-d5dac8cb206d\", [{\"marker\": {\"color\": \"rgb(158,202,225)\", \"line\": {\"color\": \"rgb(8,48,107)\", \"width\": 1.5}}, \"opacity\": 0.6, \"orientation\": \"h\", \"text\": [0.22, 0.06, 0.06, 0.06, 0.06, 0.06, 0.04, 0.04, 0.04, 0.04, 0.04, 0.02, 0.02, 0.02, 0.02, 0.02, 0.02, 0.02, 0.02, 0.02, 0.02, 0.02, 0.02, 0.02, 0.02, 0.0], \"textposition\": \"outside\", \"x\": [0.22, 0.06, 0.06, 0.06, 0.06, 0.06, 0.04, 0.04, 0.04, 0.04, 0.04, 0.02, 0.02, 0.02, 0.02, 0.02, 0.02, 0.02, 0.02, 0.02, 0.02, 0.02, 0.02, 0.02, 0.02, 0.0], \"y\": [\"total_count\", \"total_href\", \"p_count\", \"link_type_text/css\", \"link_href_http\", \"link_href_out_of_domain\", \"strong_count\", \"indexOf\", \"push\", \"a_href_.com\", \"a_href_https\", \"link_rel_shortlink\", \"script_src_out_of_domain\", \"script_async_true\", \"meta_count\", \"link_type_application/rsd+xml\", \"document.write\", \"window.addEventListener\", \"iframe_src_https\", \"form_action_http\", \"center_count\", \"get\", \"find\", \"window.setTimeout\", \"link_href_.css\", \"replace\"], \"type\": \"bar\", \"uid\": \"d7493d4a-3693-49f8-8030-d864e2e93246\"}], {\"autosize\": false, \"height\": 1000, \"width\": 1000, \"xaxis\": {\"tickfont\": {\"color\": \"black\", \"size\": 12}, \"title\": \"Feature Importances\"}, \"yaxis\": {\"automargin\": true}}, {\"showLink\": true, \"linkText\": \"Export to plot.ly\", \"plotlyServerURL\": \"https://plot.ly\"})});</script>"
      ],
      "text/vnd.plotly.v1+html": [
       "<div id=\"5f557488-533d-412e-a59a-d5dac8cb206d\" style=\"height: 1000px; width: 1000px;\" class=\"plotly-graph-div\"></div><script type=\"text/javascript\">require([\"plotly\"], function(Plotly) { window.PLOTLYENV=window.PLOTLYENV || {};window.PLOTLYENV.BASE_URL=\"https://plot.ly\";Plotly.newPlot(\"5f557488-533d-412e-a59a-d5dac8cb206d\", [{\"marker\": {\"color\": \"rgb(158,202,225)\", \"line\": {\"color\": \"rgb(8,48,107)\", \"width\": 1.5}}, \"opacity\": 0.6, \"orientation\": \"h\", \"text\": [0.22, 0.06, 0.06, 0.06, 0.06, 0.06, 0.04, 0.04, 0.04, 0.04, 0.04, 0.02, 0.02, 0.02, 0.02, 0.02, 0.02, 0.02, 0.02, 0.02, 0.02, 0.02, 0.02, 0.02, 0.02, 0.0], \"textposition\": \"outside\", \"x\": [0.22, 0.06, 0.06, 0.06, 0.06, 0.06, 0.04, 0.04, 0.04, 0.04, 0.04, 0.02, 0.02, 0.02, 0.02, 0.02, 0.02, 0.02, 0.02, 0.02, 0.02, 0.02, 0.02, 0.02, 0.02, 0.0], \"y\": [\"total_count\", \"total_href\", \"p_count\", \"link_type_text/css\", \"link_href_http\", \"link_href_out_of_domain\", \"strong_count\", \"indexOf\", \"push\", \"a_href_.com\", \"a_href_https\", \"link_rel_shortlink\", \"script_src_out_of_domain\", \"script_async_true\", \"meta_count\", \"link_type_application/rsd+xml\", \"document.write\", \"window.addEventListener\", \"iframe_src_https\", \"form_action_http\", \"center_count\", \"get\", \"find\", \"window.setTimeout\", \"link_href_.css\", \"replace\"], \"type\": \"bar\", \"uid\": \"d7493d4a-3693-49f8-8030-d864e2e93246\"}], {\"autosize\": false, \"height\": 1000, \"width\": 1000, \"xaxis\": {\"tickfont\": {\"color\": \"black\", \"size\": 12}, \"title\": \"Feature Importances\"}, \"yaxis\": {\"automargin\": true}}, {\"showLink\": true, \"linkText\": \"Export to plot.ly\", \"plotlyServerURL\": \"https://plot.ly\"})});</script>"
      ]
     },
     "metadata": {},
     "output_type": "display_data"
    },
    {
     "name": "stdout",
     "output_type": "stream",
     "text": [
      "\n",
      "\n",
      "\u001b[1mGradientBoosting Classifier\u001b[0m\n",
      "Accuracy of the model for training data is: 0.9102681078046042\n",
      "Confusion Matrix for training data is:\n"
     ]
    },
    {
     "data": {
      "text/plain": [
       "Predicted  False  True  __all__\n",
       "Actual                         \n",
       "False      22406  1934    24340\n",
       "True         623  3533     4156\n",
       "__all__    23029  5467    28496"
      ]
     },
     "metadata": {},
     "output_type": "display_data"
    },
    {
     "name": "stdout",
     "output_type": "stream",
     "text": [
      "Accuracy of the model for test data is: 0.9074756407107181\n",
      "Confusion Matrix for test data is:\n"
     ]
    },
    {
     "data": {
      "text/plain": [
       "Predicted  False  True  __all__\n",
       "Actual                         \n",
       "False       9567   871    10438\n",
       "True         259  1516     1775\n",
       "__all__     9826  2387    12213"
      ]
     },
     "metadata": {},
     "output_type": "display_data"
    },
    {
     "data": {
      "application/vnd.plotly.v1+json": {
       "config": {
        "linkText": "Export to plot.ly",
        "plotlyServerURL": "https://plot.ly",
        "showLink": true
       },
       "data": [
        {
         "marker": {
          "color": "rgb(158,202,225)",
          "line": {
           "color": "rgb(8,48,107)",
           "width": 1.5
          }
         },
         "opacity": 0.6,
         "orientation": "h",
         "text": [
          0.8136,
          0.0311,
          0.0299,
          0.0185,
          0.0126,
          0.0119,
          0.011,
          0.0102,
          0.0098,
          0.0097,
          0.0075,
          0.0056,
          0.0048,
          0.0038,
          0.0033,
          0.0032,
          0.0029,
          0.0021,
          0.002,
          0.0019,
          0.0018,
          0.001,
          0.0006,
          0.0005,
          0.0003,
          0.0001
         ],
         "textposition": "outside",
         "type": "bar",
         "uid": "ee2615be-8610-403b-93aa-7f32a327508d",
         "x": [
          0.8136387720874327,
          0.031125350815162597,
          0.02991718451960209,
          0.018520320944637646,
          0.012575087747836887,
          0.011899607448008014,
          0.010960405077216722,
          0.01024596788028102,
          0.00983261378396641,
          0.009745533664515778,
          0.007542946487308672,
          0.005613735045727898,
          0.004806274189137213,
          0.00381948039993326,
          0.0032928677380603204,
          0.003184650887480014,
          0.002874520941021089,
          0.0020704943755906267,
          0.0020285423152650553,
          0.00190811448633948,
          0.0018416242066048526,
          0.0010099547819515315,
          0.0006332088208520925,
          0.0005093007571405147,
          0.0003328189984468844,
          7.062160048055623e-05
         ],
         "y": [
          "total_count",
          "link_href_out_of_domain",
          "total_href",
          "push",
          "p_count",
          "strong_count",
          "form_action_http",
          "link_type_text/css",
          "script_async_true",
          "indexOf",
          "meta_count",
          "window.setTimeout",
          "a_href_https",
          "link_href_.css",
          "center_count",
          "get",
          "script_src_out_of_domain",
          "document.write",
          "link_href_http",
          "link_rel_shortlink",
          "a_href_.com",
          "link_type_application/rsd+xml",
          "find",
          "replace",
          "iframe_src_https",
          "window.addEventListener"
         ]
        }
       ],
       "layout": {
        "autosize": false,
        "height": 1000,
        "width": 1000,
        "xaxis": {
         "tickfont": {
          "color": "black",
          "size": 12
         },
         "title": "Feature Importances"
        },
        "yaxis": {
         "automargin": true
        }
       }
      },
      "text/html": [
       "<div id=\"52f00902-b1aa-4d1b-9370-27ed976b168a\" style=\"height: 1000px; width: 1000px;\" class=\"plotly-graph-div\"></div><script type=\"text/javascript\">require([\"plotly\"], function(Plotly) { window.PLOTLYENV=window.PLOTLYENV || {};window.PLOTLYENV.BASE_URL=\"https://plot.ly\";Plotly.newPlot(\"52f00902-b1aa-4d1b-9370-27ed976b168a\", [{\"marker\": {\"color\": \"rgb(158,202,225)\", \"line\": {\"color\": \"rgb(8,48,107)\", \"width\": 1.5}}, \"opacity\": 0.6, \"orientation\": \"h\", \"text\": [0.8136, 0.0311, 0.0299, 0.0185, 0.0126, 0.0119, 0.011, 0.0102, 0.0098, 0.0097, 0.0075, 0.0056, 0.0048, 0.0038, 0.0033, 0.0032, 0.0029, 0.0021, 0.002, 0.0019, 0.0018, 0.001, 0.0006, 0.0005, 0.0003, 0.0001], \"textposition\": \"outside\", \"x\": [0.8136387720874327, 0.031125350815162597, 0.02991718451960209, 0.018520320944637646, 0.012575087747836887, 0.011899607448008014, 0.010960405077216722, 0.01024596788028102, 0.00983261378396641, 0.009745533664515778, 0.007542946487308672, 0.005613735045727898, 0.004806274189137213, 0.00381948039993326, 0.0032928677380603204, 0.003184650887480014, 0.002874520941021089, 0.0020704943755906267, 0.0020285423152650553, 0.00190811448633948, 0.0018416242066048526, 0.0010099547819515315, 0.0006332088208520925, 0.0005093007571405147, 0.0003328189984468844, 7.062160048055623e-05], \"y\": [\"total_count\", \"link_href_out_of_domain\", \"total_href\", \"push\", \"p_count\", \"strong_count\", \"form_action_http\", \"link_type_text/css\", \"script_async_true\", \"indexOf\", \"meta_count\", \"window.setTimeout\", \"a_href_https\", \"link_href_.css\", \"center_count\", \"get\", \"script_src_out_of_domain\", \"document.write\", \"link_href_http\", \"link_rel_shortlink\", \"a_href_.com\", \"link_type_application/rsd+xml\", \"find\", \"replace\", \"iframe_src_https\", \"window.addEventListener\"], \"type\": \"bar\", \"uid\": \"ee2615be-8610-403b-93aa-7f32a327508d\"}], {\"autosize\": false, \"height\": 1000, \"width\": 1000, \"xaxis\": {\"tickfont\": {\"color\": \"black\", \"size\": 12}, \"title\": \"Feature Importances\"}, \"yaxis\": {\"automargin\": true}}, {\"showLink\": true, \"linkText\": \"Export to plot.ly\", \"plotlyServerURL\": \"https://plot.ly\"})});</script>"
      ],
      "text/vnd.plotly.v1+html": [
       "<div id=\"52f00902-b1aa-4d1b-9370-27ed976b168a\" style=\"height: 1000px; width: 1000px;\" class=\"plotly-graph-div\"></div><script type=\"text/javascript\">require([\"plotly\"], function(Plotly) { window.PLOTLYENV=window.PLOTLYENV || {};window.PLOTLYENV.BASE_URL=\"https://plot.ly\";Plotly.newPlot(\"52f00902-b1aa-4d1b-9370-27ed976b168a\", [{\"marker\": {\"color\": \"rgb(158,202,225)\", \"line\": {\"color\": \"rgb(8,48,107)\", \"width\": 1.5}}, \"opacity\": 0.6, \"orientation\": \"h\", \"text\": [0.8136, 0.0311, 0.0299, 0.0185, 0.0126, 0.0119, 0.011, 0.0102, 0.0098, 0.0097, 0.0075, 0.0056, 0.0048, 0.0038, 0.0033, 0.0032, 0.0029, 0.0021, 0.002, 0.0019, 0.0018, 0.001, 0.0006, 0.0005, 0.0003, 0.0001], \"textposition\": \"outside\", \"x\": [0.8136387720874327, 0.031125350815162597, 0.02991718451960209, 0.018520320944637646, 0.012575087747836887, 0.011899607448008014, 0.010960405077216722, 0.01024596788028102, 0.00983261378396641, 0.009745533664515778, 0.007542946487308672, 0.005613735045727898, 0.004806274189137213, 0.00381948039993326, 0.0032928677380603204, 0.003184650887480014, 0.002874520941021089, 0.0020704943755906267, 0.0020285423152650553, 0.00190811448633948, 0.0018416242066048526, 0.0010099547819515315, 0.0006332088208520925, 0.0005093007571405147, 0.0003328189984468844, 7.062160048055623e-05], \"y\": [\"total_count\", \"link_href_out_of_domain\", \"total_href\", \"push\", \"p_count\", \"strong_count\", \"form_action_http\", \"link_type_text/css\", \"script_async_true\", \"indexOf\", \"meta_count\", \"window.setTimeout\", \"a_href_https\", \"link_href_.css\", \"center_count\", \"get\", \"script_src_out_of_domain\", \"document.write\", \"link_href_http\", \"link_rel_shortlink\", \"a_href_.com\", \"link_type_application/rsd+xml\", \"find\", \"replace\", \"iframe_src_https\", \"window.addEventListener\"], \"type\": \"bar\", \"uid\": \"ee2615be-8610-403b-93aa-7f32a327508d\"}], {\"autosize\": false, \"height\": 1000, \"width\": 1000, \"xaxis\": {\"tickfont\": {\"color\": \"black\", \"size\": 12}, \"title\": \"Feature Importances\"}, \"yaxis\": {\"automargin\": true}}, {\"showLink\": true, \"linkText\": \"Export to plot.ly\", \"plotlyServerURL\": \"https://plot.ly\"})});</script>"
      ]
     },
     "metadata": {},
     "output_type": "display_data"
    },
    {
     "name": "stdout",
     "output_type": "stream",
     "text": [
      "\n",
      "\n",
      "\u001b[1mExtraTree Classifier\u001b[0m\n",
      "Accuracy of the model for training data is: 0.9284460976979225\n",
      "Confusion Matrix for training data is:\n"
     ]
    },
    {
     "data": {
      "text/plain": [
       "Predicted  False  True  __all__\n",
       "Actual                         \n",
       "False      22415  1925    24340\n",
       "True         114  4042     4156\n",
       "__all__    22529  5967    28496"
      ]
     },
     "metadata": {},
     "output_type": "display_data"
    },
    {
     "name": "stdout",
     "output_type": "stream",
     "text": [
      "Accuracy of the model for test data is: 0.9118971587652501\n",
      "Confusion Matrix for test data is:\n"
     ]
    },
    {
     "data": {
      "text/plain": [
       "Predicted  False  True  __all__\n",
       "Actual                         \n",
       "False       9556   882    10438\n",
       "True         194  1581     1775\n",
       "__all__     9750  2463    12213"
      ]
     },
     "metadata": {},
     "output_type": "display_data"
    },
    {
     "data": {
      "application/vnd.plotly.v1+json": {
       "config": {
        "linkText": "Export to plot.ly",
        "plotlyServerURL": "https://plot.ly",
        "showLink": true
       },
       "data": [
        {
         "marker": {
          "color": "rgb(158,202,225)",
          "line": {
           "color": "rgb(8,48,107)",
           "width": 1.5
          }
         },
         "opacity": 0.6,
         "orientation": "h",
         "text": [
          0.107,
          0.0951,
          0.0857,
          0.0855,
          0.0799,
          0.0731,
          0.0692,
          0.0639,
          0.0559,
          0.0498,
          0.0273,
          0.026,
          0.0254,
          0.023,
          0.0192,
          0.0192,
          0.0159,
          0.0148,
          0.0134,
          0.011,
          0.0087,
          0.0078,
          0.0068,
          0.006,
          0.0052,
          0.0051
         ],
         "textposition": "outside",
         "type": "bar",
         "uid": "e76aae01-d571-4d27-b965-e38bc72c436f",
         "x": [
          0.10699871272559873,
          0.09506856736102944,
          0.08569958878525943,
          0.08549966910936785,
          0.07993191047085228,
          0.07312680838099983,
          0.06920728847333979,
          0.0638904001049709,
          0.05588005243082772,
          0.049777749418851824,
          0.027338948465129204,
          0.025962050133954785,
          0.025413050329595697,
          0.022970729227450918,
          0.019200131023003247,
          0.019171459955901752,
          0.01587145966869423,
          0.014784256818230299,
          0.01342973717421161,
          0.011048219903766466,
          0.008685241431500498,
          0.007826681039643676,
          0.006844746537858115,
          0.006043340161522953,
          0.005240674168257021,
          0.005088526700181732
         ],
         "y": [
          "script_async_true",
          "meta_count",
          "total_href",
          "a_href_https",
          "p_count",
          "total_count",
          "link_href_out_of_domain",
          "link_href_.css",
          "link_type_text/css",
          "script_src_out_of_domain",
          "link_href_http",
          "center_count",
          "iframe_src_https",
          "replace",
          "strong_count",
          "push",
          "form_action_http",
          "window.addEventListener",
          "indexOf",
          "document.write",
          "get",
          "link_type_application/rsd+xml",
          "a_href_.com",
          "find",
          "window.setTimeout",
          "link_rel_shortlink"
         ]
        }
       ],
       "layout": {
        "autosize": false,
        "height": 1000,
        "width": 1000,
        "xaxis": {
         "tickfont": {
          "color": "black",
          "size": 12
         },
         "title": "Feature Importances"
        },
        "yaxis": {
         "automargin": true
        }
       }
      },
      "text/html": [
       "<div id=\"f6f233ba-8862-4315-86db-c949cc48625b\" style=\"height: 1000px; width: 1000px;\" class=\"plotly-graph-div\"></div><script type=\"text/javascript\">require([\"plotly\"], function(Plotly) { window.PLOTLYENV=window.PLOTLYENV || {};window.PLOTLYENV.BASE_URL=\"https://plot.ly\";Plotly.newPlot(\"f6f233ba-8862-4315-86db-c949cc48625b\", [{\"marker\": {\"color\": \"rgb(158,202,225)\", \"line\": {\"color\": \"rgb(8,48,107)\", \"width\": 1.5}}, \"opacity\": 0.6, \"orientation\": \"h\", \"text\": [0.107, 0.0951, 0.0857, 0.0855, 0.0799, 0.0731, 0.0692, 0.0639, 0.0559, 0.0498, 0.0273, 0.026, 0.0254, 0.023, 0.0192, 0.0192, 0.0159, 0.0148, 0.0134, 0.011, 0.0087, 0.0078, 0.0068, 0.006, 0.0052, 0.0051], \"textposition\": \"outside\", \"x\": [0.10699871272559873, 0.09506856736102944, 0.08569958878525943, 0.08549966910936785, 0.07993191047085228, 0.07312680838099983, 0.06920728847333979, 0.0638904001049709, 0.05588005243082772, 0.049777749418851824, 0.027338948465129204, 0.025962050133954785, 0.025413050329595697, 0.022970729227450918, 0.019200131023003247, 0.019171459955901752, 0.01587145966869423, 0.014784256818230299, 0.01342973717421161, 0.011048219903766466, 0.008685241431500498, 0.007826681039643676, 0.006844746537858115, 0.006043340161522953, 0.005240674168257021, 0.005088526700181732], \"y\": [\"script_async_true\", \"meta_count\", \"total_href\", \"a_href_https\", \"p_count\", \"total_count\", \"link_href_out_of_domain\", \"link_href_.css\", \"link_type_text/css\", \"script_src_out_of_domain\", \"link_href_http\", \"center_count\", \"iframe_src_https\", \"replace\", \"strong_count\", \"push\", \"form_action_http\", \"window.addEventListener\", \"indexOf\", \"document.write\", \"get\", \"link_type_application/rsd+xml\", \"a_href_.com\", \"find\", \"window.setTimeout\", \"link_rel_shortlink\"], \"type\": \"bar\", \"uid\": \"e76aae01-d571-4d27-b965-e38bc72c436f\"}], {\"autosize\": false, \"height\": 1000, \"width\": 1000, \"xaxis\": {\"tickfont\": {\"color\": \"black\", \"size\": 12}, \"title\": \"Feature Importances\"}, \"yaxis\": {\"automargin\": true}}, {\"showLink\": true, \"linkText\": \"Export to plot.ly\", \"plotlyServerURL\": \"https://plot.ly\"})});</script>"
      ],
      "text/vnd.plotly.v1+html": [
       "<div id=\"f6f233ba-8862-4315-86db-c949cc48625b\" style=\"height: 1000px; width: 1000px;\" class=\"plotly-graph-div\"></div><script type=\"text/javascript\">require([\"plotly\"], function(Plotly) { window.PLOTLYENV=window.PLOTLYENV || {};window.PLOTLYENV.BASE_URL=\"https://plot.ly\";Plotly.newPlot(\"f6f233ba-8862-4315-86db-c949cc48625b\", [{\"marker\": {\"color\": \"rgb(158,202,225)\", \"line\": {\"color\": \"rgb(8,48,107)\", \"width\": 1.5}}, \"opacity\": 0.6, \"orientation\": \"h\", \"text\": [0.107, 0.0951, 0.0857, 0.0855, 0.0799, 0.0731, 0.0692, 0.0639, 0.0559, 0.0498, 0.0273, 0.026, 0.0254, 0.023, 0.0192, 0.0192, 0.0159, 0.0148, 0.0134, 0.011, 0.0087, 0.0078, 0.0068, 0.006, 0.0052, 0.0051], \"textposition\": \"outside\", \"x\": [0.10699871272559873, 0.09506856736102944, 0.08569958878525943, 0.08549966910936785, 0.07993191047085228, 0.07312680838099983, 0.06920728847333979, 0.0638904001049709, 0.05588005243082772, 0.049777749418851824, 0.027338948465129204, 0.025962050133954785, 0.025413050329595697, 0.022970729227450918, 0.019200131023003247, 0.019171459955901752, 0.01587145966869423, 0.014784256818230299, 0.01342973717421161, 0.011048219903766466, 0.008685241431500498, 0.007826681039643676, 0.006844746537858115, 0.006043340161522953, 0.005240674168257021, 0.005088526700181732], \"y\": [\"script_async_true\", \"meta_count\", \"total_href\", \"a_href_https\", \"p_count\", \"total_count\", \"link_href_out_of_domain\", \"link_href_.css\", \"link_type_text/css\", \"script_src_out_of_domain\", \"link_href_http\", \"center_count\", \"iframe_src_https\", \"replace\", \"strong_count\", \"push\", \"form_action_http\", \"window.addEventListener\", \"indexOf\", \"document.write\", \"get\", \"link_type_application/rsd+xml\", \"a_href_.com\", \"find\", \"window.setTimeout\", \"link_rel_shortlink\"], \"type\": \"bar\", \"uid\": \"e76aae01-d571-4d27-b965-e38bc72c436f\"}], {\"autosize\": false, \"height\": 1000, \"width\": 1000, \"xaxis\": {\"tickfont\": {\"color\": \"black\", \"size\": 12}, \"title\": \"Feature Importances\"}, \"yaxis\": {\"automargin\": true}}, {\"showLink\": true, \"linkText\": \"Export to plot.ly\", \"plotlyServerURL\": \"https://plot.ly\"})});</script>"
      ]
     },
     "metadata": {},
     "output_type": "display_data"
    },
    {
     "name": "stdout",
     "output_type": "stream",
     "text": [
      "\n",
      "\n",
      "\u001b[1mBagging Classifier\u001b[0m\n",
      "Accuracy of the model for training data is: 0.9261299831555306\n",
      "Confusion Matrix for training data is:\n"
     ]
    },
    {
     "data": {
      "text/plain": [
       "Predicted  False  True  __all__\n",
       "Actual                         \n",
       "False      22413  1927    24340\n",
       "True         178  3978     4156\n",
       "__all__    22591  5905    28496"
      ]
     },
     "metadata": {},
     "output_type": "display_data"
    },
    {
     "name": "stdout",
     "output_type": "stream",
     "text": [
      "Accuracy of the model for test data is: 0.9112421190534676\n",
      "Confusion Matrix for test data is:\n"
     ]
    },
    {
     "data": {
      "text/plain": [
       "Predicted  False  True  __all__\n",
       "Actual                         \n",
       "False       9545   893    10438\n",
       "True         191  1584     1775\n",
       "__all__     9736  2477    12213"
      ]
     },
     "metadata": {},
     "output_type": "display_data"
    },
    {
     "name": "stdout",
     "output_type": "stream",
     "text": [
      "\n",
      "\n",
      "\u001b[1mNeural Network-1\u001b[0m\n",
      "The accuracy of the model on training data is: 0.9073203256597417\n"
     ]
    },
    {
     "data": {
      "text/plain": [
       "Predicted  False  True  __all__\n",
       "Actual                         \n",
       "False      22005  2335    24340\n",
       "True         306  3850     4156\n",
       "__all__    22311  6185    28496"
      ]
     },
     "metadata": {},
     "output_type": "display_data"
    },
    {
     "name": "stdout",
     "output_type": "stream",
     "text": [
      "The accuracy of the model on test data is: 0.8997789240972734\n"
     ]
    },
    {
     "data": {
      "text/plain": [
       "Predicted  False  True  __all__\n",
       "Actual                         \n",
       "False       9406  1032    10438\n",
       "True         192  1583     1775\n",
       "__all__     9598  2615    12213"
      ]
     },
     "metadata": {},
     "output_type": "display_data"
    },
    {
     "name": "stdout",
     "output_type": "stream",
     "text": [
      "\n",
      "\n"
     ]
    }
   ],
   "source": [
    "ind_columns=['KNeighborsClassifier','LogisticRegression','RandomForestClassifier','AdaBoostClassifier',\n",
    "             'GradientBoostingClassifier','ExtraTreeClassifier','BaggingClassifier','Neural Network-1']\n",
    "\n",
    "f=[KNN_model,Logistic_model,RandomForest,AdaBoost,GradientBoosting, ExtraTree,Bagging,DeepLearning1]\n",
    "\n",
    "## Table to store training and test measures\n",
    "table_80_50_train=pd.DataFrame(columns=['accuracy','TP','TN','FP','FN','FPR','FNR'])\n",
    "table_80_50_test=pd.DataFrame(columns=['accuracy','TP','TN','FP','FN','FPR','FNR','auc','MCC'])\n",
    "\n",
    "feat_imp=[None]*4\n",
    "j=0\n",
    "for i in range(0,8):\n",
    "    if i>=2 and i<=5:\n",
    "        model,cm_train,cm_test,acc_train,acc_test,roc_auc,feat_imp[j],mcc=f[i](scaled_X_train,train_Y,scaled_X_test,test_Y,columns)\n",
    "        j=j+1\n",
    "    else:\n",
    "        model,cm_train,cm_test,acc_train,acc_test,roc_auc,mcc=f[i](scaled_X_train,train_Y,scaled_X_test,test_Y)\n",
    "    table_80_50_train.loc[i]=   ([acc_train,cm_train.TP,cm_train.TN,cm_train.FP,cm_train.FN,cm_train.FPR,cm_train.FNR])\n",
    "    table_80_50_test.loc[i] =   ([acc_test ,cm_test.TP, cm_test.TN, cm_test.FP, cm_test.FN, cm_test.FPR, cm_test.FNR,roc_auc,mcc])\n",
    "    print(\"\\n\")"
   ]
  },
  {
   "cell_type": "markdown",
   "metadata": {},
   "source": [
    "### <a id='1.A' style=\"text-decoration : none; color : #000000;\"> A Results</a>"
   ]
  },
  {
   "cell_type": "code",
   "execution_count": 17,
   "metadata": {},
   "outputs": [
    {
     "data": {
      "application/vnd.plotly.v1+json": {
       "config": {
        "linkText": "Export to plot.ly",
        "plotlyServerURL": "https://plot.ly",
        "showLink": true
       },
       "data": [
        {
         "mode": "lines",
         "name": "KNN_model",
         "type": "scatter",
         "uid": "2c944098-9002-428c-89df-59ceaa0d4ca6",
         "x": [
          "accuracy",
          "FPR",
          "FNR",
          "auc"
         ],
         "y": [
          0.8674363383280111,
          0.007376892124928147,
          0.8687323943661972,
          0.5619453567544374
         ]
        },
        {
         "mode": "lines+markers",
         "name": "Logistic Regression",
         "type": "scatter",
         "uid": "dd1c374c-e287-4c81-b280-d897c77aaf54",
         "x": [
          "accuracy",
          "FPR",
          "FNR",
          "auc"
         ],
         "y": [
          0.8900352083845083,
          0.09771986970684039,
          0.1819718309859155,
          0.860154149653622
         ]
        },
        {
         "marker": {
          "symbol": "x"
         },
         "mode": "lines+markers",
         "name": "Random Forest",
         "type": "scatter",
         "uid": "0b01bffd-0b45-44e3-83c2-c84a67879575",
         "x": [
          "accuracy",
          "FPR",
          "FNR",
          "auc"
         ],
         "y": [
          0.9111602390894948,
          0.0845947499520981,
          0.11380281690140845,
          0.9008012165732466
         ]
        },
        {
         "mode": "lines",
         "name": "Ada Boost",
         "type": "scatter",
         "uid": "f3901e0b-e67b-4dbc-9c17-117536b0ea63",
         "x": [
          "accuracy",
          "FPR",
          "FNR",
          "auc"
         ],
         "y": [
          0.9031360026201588,
          0.08488216133358881,
          0.16732394366197184,
          0.8738969475022197
         ]
        },
        {
         "mode": "lines+markers",
         "name": "GradientBoosting",
         "type": "scatter",
         "uid": "6968dd87-de70-4e14-825c-dd7af37a81dc",
         "x": [
          "accuracy",
          "FPR",
          "FNR",
          "auc"
         ],
         "y": [
          0.9074756407107181,
          0.08344510442613527,
          0.14591549295774647,
          0.885319701308059
         ]
        },
        {
         "marker": {
          "symbol": "x"
         },
         "mode": "lines+markers",
         "name": "ExtraTree Classifier",
         "type": "scatter",
         "uid": "16685b61-2d9c-4b0a-ad94-3362ed277e40",
         "x": [
          "accuracy",
          "FPR",
          "FNR",
          "auc"
         ],
         "y": [
          0.9118971587652501,
          0.08449894615826786,
          0.10929577464788733,
          0.9031026395969224
         ]
        },
        {
         "marker": {
          "symbol": "x"
         },
         "mode": "lines+markers",
         "name": "Bagging",
         "type": "scatter",
         "uid": "3cd6cc9e-fb1f-457b-9234-a61a395821f9",
         "x": [
          "accuracy",
          "FPR",
          "FNR",
          "auc"
         ],
         "y": [
          0.9112421190534676,
          0.08555278789040045,
          0.1076056338028169,
          0.9034207891533914
         ]
        },
        {
         "marker": {
          "symbol": "x"
         },
         "mode": "lines+markers",
         "name": "Neural Network",
         "type": "scatter",
         "uid": "4d91dff6-d162-45bd-af0e-ac8901150d14",
         "x": [
          "accuracy",
          "FPR",
          "FNR",
          "auc"
         ],
         "y": [
          0.8997789240972734,
          0.09886951523280321,
          0.10816901408450705,
          0.8964807353413449
         ]
        }
       ],
       "layout": {
        "title": "Result comparision for Features selected in Section 1",
        "yaxis": {
         "dtick": 0.05,
         "tick0": 0
        }
       }
      },
      "text/html": [
       "<div id=\"4c0ea1ce-ef38-4f71-a1e8-de6334a6672c\" style=\"height: 525px; width: 100%;\" class=\"plotly-graph-div\"></div><script type=\"text/javascript\">require([\"plotly\"], function(Plotly) { window.PLOTLYENV=window.PLOTLYENV || {};window.PLOTLYENV.BASE_URL=\"https://plot.ly\";Plotly.newPlot(\"4c0ea1ce-ef38-4f71-a1e8-de6334a6672c\", [{\"mode\": \"lines\", \"name\": \"KNN_model\", \"x\": [\"accuracy\", \"FPR\", \"FNR\", \"auc\"], \"y\": [0.8674363383280111, 0.007376892124928147, 0.8687323943661972, 0.5619453567544374], \"type\": \"scatter\", \"uid\": \"2c944098-9002-428c-89df-59ceaa0d4ca6\"}, {\"mode\": \"lines+markers\", \"name\": \"Logistic Regression\", \"x\": [\"accuracy\", \"FPR\", \"FNR\", \"auc\"], \"y\": [0.8900352083845083, 0.09771986970684039, 0.1819718309859155, 0.860154149653622], \"type\": \"scatter\", \"uid\": \"dd1c374c-e287-4c81-b280-d897c77aaf54\"}, {\"marker\": {\"symbol\": \"x\"}, \"mode\": \"lines+markers\", \"name\": \"Random Forest\", \"x\": [\"accuracy\", \"FPR\", \"FNR\", \"auc\"], \"y\": [0.9111602390894948, 0.0845947499520981, 0.11380281690140845, 0.9008012165732466], \"type\": \"scatter\", \"uid\": \"0b01bffd-0b45-44e3-83c2-c84a67879575\"}, {\"mode\": \"lines\", \"name\": \"Ada Boost\", \"x\": [\"accuracy\", \"FPR\", \"FNR\", \"auc\"], \"y\": [0.9031360026201588, 0.08488216133358881, 0.16732394366197184, 0.8738969475022197], \"type\": \"scatter\", \"uid\": \"f3901e0b-e67b-4dbc-9c17-117536b0ea63\"}, {\"mode\": \"lines+markers\", \"name\": \"GradientBoosting\", \"x\": [\"accuracy\", \"FPR\", \"FNR\", \"auc\"], \"y\": [0.9074756407107181, 0.08344510442613527, 0.14591549295774647, 0.885319701308059], \"type\": \"scatter\", \"uid\": \"6968dd87-de70-4e14-825c-dd7af37a81dc\"}, {\"marker\": {\"symbol\": \"x\"}, \"mode\": \"lines+markers\", \"name\": \"ExtraTree Classifier\", \"x\": [\"accuracy\", \"FPR\", \"FNR\", \"auc\"], \"y\": [0.9118971587652501, 0.08449894615826786, 0.10929577464788733, 0.9031026395969224], \"type\": \"scatter\", \"uid\": \"16685b61-2d9c-4b0a-ad94-3362ed277e40\"}, {\"marker\": {\"symbol\": \"x\"}, \"mode\": \"lines+markers\", \"name\": \"Bagging\", \"x\": [\"accuracy\", \"FPR\", \"FNR\", \"auc\"], \"y\": [0.9112421190534676, 0.08555278789040045, 0.1076056338028169, 0.9034207891533914], \"type\": \"scatter\", \"uid\": \"3cd6cc9e-fb1f-457b-9234-a61a395821f9\"}, {\"marker\": {\"symbol\": \"x\"}, \"mode\": \"lines+markers\", \"name\": \"Neural Network\", \"x\": [\"accuracy\", \"FPR\", \"FNR\", \"auc\"], \"y\": [0.8997789240972734, 0.09886951523280321, 0.10816901408450705, 0.8964807353413449], \"type\": \"scatter\", \"uid\": \"4d91dff6-d162-45bd-af0e-ac8901150d14\"}], {\"title\": \"Result comparision for Features selected in Section 1\", \"yaxis\": {\"dtick\": 0.05, \"tick0\": 0}}, {\"showLink\": true, \"linkText\": \"Export to plot.ly\", \"plotlyServerURL\": \"https://plot.ly\"})});</script><script type=\"text/javascript\">window.addEventListener(\"resize\", function(){window._Plotly.Plots.resize(document.getElementById(\"4c0ea1ce-ef38-4f71-a1e8-de6334a6672c\"));});</script>"
      ],
      "text/vnd.plotly.v1+html": [
       "<div id=\"4c0ea1ce-ef38-4f71-a1e8-de6334a6672c\" style=\"height: 525px; width: 100%;\" class=\"plotly-graph-div\"></div><script type=\"text/javascript\">require([\"plotly\"], function(Plotly) { window.PLOTLYENV=window.PLOTLYENV || {};window.PLOTLYENV.BASE_URL=\"https://plot.ly\";Plotly.newPlot(\"4c0ea1ce-ef38-4f71-a1e8-de6334a6672c\", [{\"mode\": \"lines\", \"name\": \"KNN_model\", \"x\": [\"accuracy\", \"FPR\", \"FNR\", \"auc\"], \"y\": [0.8674363383280111, 0.007376892124928147, 0.8687323943661972, 0.5619453567544374], \"type\": \"scatter\", \"uid\": \"2c944098-9002-428c-89df-59ceaa0d4ca6\"}, {\"mode\": \"lines+markers\", \"name\": \"Logistic Regression\", \"x\": [\"accuracy\", \"FPR\", \"FNR\", \"auc\"], \"y\": [0.8900352083845083, 0.09771986970684039, 0.1819718309859155, 0.860154149653622], \"type\": \"scatter\", \"uid\": \"dd1c374c-e287-4c81-b280-d897c77aaf54\"}, {\"marker\": {\"symbol\": \"x\"}, \"mode\": \"lines+markers\", \"name\": \"Random Forest\", \"x\": [\"accuracy\", \"FPR\", \"FNR\", \"auc\"], \"y\": [0.9111602390894948, 0.0845947499520981, 0.11380281690140845, 0.9008012165732466], \"type\": \"scatter\", \"uid\": \"0b01bffd-0b45-44e3-83c2-c84a67879575\"}, {\"mode\": \"lines\", \"name\": \"Ada Boost\", \"x\": [\"accuracy\", \"FPR\", \"FNR\", \"auc\"], \"y\": [0.9031360026201588, 0.08488216133358881, 0.16732394366197184, 0.8738969475022197], \"type\": \"scatter\", \"uid\": \"f3901e0b-e67b-4dbc-9c17-117536b0ea63\"}, {\"mode\": \"lines+markers\", \"name\": \"GradientBoosting\", \"x\": [\"accuracy\", \"FPR\", \"FNR\", \"auc\"], \"y\": [0.9074756407107181, 0.08344510442613527, 0.14591549295774647, 0.885319701308059], \"type\": \"scatter\", \"uid\": \"6968dd87-de70-4e14-825c-dd7af37a81dc\"}, {\"marker\": {\"symbol\": \"x\"}, \"mode\": \"lines+markers\", \"name\": \"ExtraTree Classifier\", \"x\": [\"accuracy\", \"FPR\", \"FNR\", \"auc\"], \"y\": [0.9118971587652501, 0.08449894615826786, 0.10929577464788733, 0.9031026395969224], \"type\": \"scatter\", \"uid\": \"16685b61-2d9c-4b0a-ad94-3362ed277e40\"}, {\"marker\": {\"symbol\": \"x\"}, \"mode\": \"lines+markers\", \"name\": \"Bagging\", \"x\": [\"accuracy\", \"FPR\", \"FNR\", \"auc\"], \"y\": [0.9112421190534676, 0.08555278789040045, 0.1076056338028169, 0.9034207891533914], \"type\": \"scatter\", \"uid\": \"3cd6cc9e-fb1f-457b-9234-a61a395821f9\"}, {\"marker\": {\"symbol\": \"x\"}, \"mode\": \"lines+markers\", \"name\": \"Neural Network\", \"x\": [\"accuracy\", \"FPR\", \"FNR\", \"auc\"], \"y\": [0.8997789240972734, 0.09886951523280321, 0.10816901408450705, 0.8964807353413449], \"type\": \"scatter\", \"uid\": \"4d91dff6-d162-45bd-af0e-ac8901150d14\"}], {\"title\": \"Result comparision for Features selected in Section 1\", \"yaxis\": {\"dtick\": 0.05, \"tick0\": 0}}, {\"showLink\": true, \"linkText\": \"Export to plot.ly\", \"plotlyServerURL\": \"https://plot.ly\"})});</script><script type=\"text/javascript\">window.addEventListener(\"resize\", function(){window._Plotly.Plots.resize(document.getElementById(\"4c0ea1ce-ef38-4f71-a1e8-de6334a6672c\"));});</script>"
      ]
     },
     "metadata": {},
     "output_type": "display_data"
    }
   ],
   "source": [
    "trace0 = go.Scatter(x=table_80_50_test.iloc[0].index.values[[0,5,6,7]],\n",
    "                    y=table_80_50_test.iloc[0].values[[0,5,6,7]],\n",
    "                    mode = 'lines',\n",
    "                    name = 'KNN_model')\n",
    "\n",
    "trace1 = go.Scatter(x=table_80_50_test.iloc[1].index.values[[0,5,6,7]],\n",
    "                    y=table_80_50_test.iloc[1].values[[0,5,6,7]],\n",
    "                    mode = 'lines+markers',\n",
    "                    name = 'Logistic Regression')\n",
    "\n",
    "trace2 = go.Scatter(x=table_80_50_test.iloc[2].index.values[[0,5,6,7]],\n",
    "                    y=table_80_50_test.iloc[2].values[[0,5,6,7]],\n",
    "                    mode = 'lines+markers',marker=dict(symbol='x'),\n",
    "                    name = 'Random Forest')\n",
    "\n",
    "\n",
    "trace3 = go.Scatter(x=table_80_50_test.iloc[3].index.values[[0,5,6,7]],\n",
    "                    y=table_80_50_test.iloc[3].values[[0,5,6,7]],\n",
    "                    mode = 'lines',\n",
    "                    name = 'Ada Boost')\n",
    "\n",
    "trace4 = go.Scatter(x=table_80_50_test.iloc[4].index.values[[0,5,6,7]],\n",
    "                    y=table_80_50_test.iloc[4].values[[0,5,6,7]],\n",
    "                    mode = 'lines+markers',\n",
    "                    name = 'GradientBoosting')\n",
    "\n",
    "trace5 = go.Scatter(x=table_80_50_test.iloc[5].index.values[[0,5,6,7]],\n",
    "                    y=table_80_50_test.iloc[5].values[[0,5,6,7]],\n",
    "                    mode = 'lines+markers',marker=dict(symbol='x'),\n",
    "                    name = 'ExtraTree Classifier')\n",
    "\n",
    "trace6 = go.Scatter(x=table_80_50_test.iloc[6].index.values[[0,5,6,7]],\n",
    "                    y=table_80_50_test.iloc[6].values[[0,5,6,7]],\n",
    "                    mode = 'lines+markers',marker=dict(symbol='x'),\n",
    "                    name = 'Bagging')\n",
    "\n",
    "trace7 = go.Scatter(x=table_80_50_test.iloc[7].index.values[[0,5,6,7]],\n",
    "                    y=table_80_50_test.iloc[7].values[[0,5,6,7]],\n",
    "                    mode = 'lines+markers',marker=dict(symbol='x'),\n",
    "                    name = 'Neural Network')\n",
    "\n",
    "\n",
    "\n",
    "data = [trace0, trace1, trace2, trace3, trace4, trace5, trace6, trace7]\n",
    "layout = go.Layout(yaxis=dict(tick0=0,dtick=0.05),title='Result comparision for Features selected in Section 1')\n",
    "fig = go.Figure(data=data, layout=layout)\n",
    "\n",
    "iplot(fig, filename='Result')"
   ]
  },
  {
   "cell_type": "code",
   "execution_count": 18,
   "metadata": {},
   "outputs": [
    {
     "name": "stdout",
     "output_type": "stream",
     "text": [
      "Training Results\n"
     ]
    },
    {
     "data": {
      "text/html": [
       "<div>\n",
       "<style scoped>\n",
       "    .dataframe tbody tr th:only-of-type {\n",
       "        vertical-align: middle;\n",
       "    }\n",
       "\n",
       "    .dataframe tbody tr th {\n",
       "        vertical-align: top;\n",
       "    }\n",
       "\n",
       "    .dataframe thead th {\n",
       "        text-align: right;\n",
       "    }\n",
       "</style>\n",
       "<table border=\"1\" class=\"dataframe\">\n",
       "  <thead>\n",
       "    <tr style=\"text-align: right;\">\n",
       "      <th></th>\n",
       "      <th>accuracy</th>\n",
       "      <th>TP</th>\n",
       "      <th>TN</th>\n",
       "      <th>FP</th>\n",
       "      <th>FN</th>\n",
       "      <th>FPR</th>\n",
       "      <th>FNR</th>\n",
       "    </tr>\n",
       "    <tr>\n",
       "      <th>index</th>\n",
       "      <th></th>\n",
       "      <th></th>\n",
       "      <th></th>\n",
       "      <th></th>\n",
       "      <th></th>\n",
       "      <th></th>\n",
       "      <th></th>\n",
       "    </tr>\n",
       "  </thead>\n",
       "  <tbody>\n",
       "    <tr>\n",
       "      <th>KNeighborsClassifier</th>\n",
       "      <td>0.871842</td>\n",
       "      <td>661.0</td>\n",
       "      <td>24183.0</td>\n",
       "      <td>157.0</td>\n",
       "      <td>3495.0</td>\n",
       "      <td>0.006450</td>\n",
       "      <td>0.840953</td>\n",
       "    </tr>\n",
       "    <tr>\n",
       "      <th>LogisticRegression</th>\n",
       "      <td>0.889037</td>\n",
       "      <td>3357.0</td>\n",
       "      <td>21977.0</td>\n",
       "      <td>2363.0</td>\n",
       "      <td>799.0</td>\n",
       "      <td>0.097083</td>\n",
       "      <td>0.192252</td>\n",
       "    </tr>\n",
       "    <tr>\n",
       "      <th>RandomForestClassifier</th>\n",
       "      <td>0.926516</td>\n",
       "      <td>3988.0</td>\n",
       "      <td>22414.0</td>\n",
       "      <td>1926.0</td>\n",
       "      <td>168.0</td>\n",
       "      <td>0.079129</td>\n",
       "      <td>0.040423</td>\n",
       "    </tr>\n",
       "    <tr>\n",
       "      <th>AdaBoostClassifier</th>\n",
       "      <td>0.904127</td>\n",
       "      <td>3410.0</td>\n",
       "      <td>22354.0</td>\n",
       "      <td>1986.0</td>\n",
       "      <td>746.0</td>\n",
       "      <td>0.081594</td>\n",
       "      <td>0.179500</td>\n",
       "    </tr>\n",
       "    <tr>\n",
       "      <th>GradientBoostingClassifier</th>\n",
       "      <td>0.910268</td>\n",
       "      <td>3533.0</td>\n",
       "      <td>22406.0</td>\n",
       "      <td>1934.0</td>\n",
       "      <td>623.0</td>\n",
       "      <td>0.079458</td>\n",
       "      <td>0.149904</td>\n",
       "    </tr>\n",
       "    <tr>\n",
       "      <th>ExtraTreeClassifier</th>\n",
       "      <td>0.928446</td>\n",
       "      <td>4042.0</td>\n",
       "      <td>22415.0</td>\n",
       "      <td>1925.0</td>\n",
       "      <td>114.0</td>\n",
       "      <td>0.079088</td>\n",
       "      <td>0.027430</td>\n",
       "    </tr>\n",
       "    <tr>\n",
       "      <th>BaggingClassifier</th>\n",
       "      <td>0.926130</td>\n",
       "      <td>3978.0</td>\n",
       "      <td>22413.0</td>\n",
       "      <td>1927.0</td>\n",
       "      <td>178.0</td>\n",
       "      <td>0.079170</td>\n",
       "      <td>0.042830</td>\n",
       "    </tr>\n",
       "    <tr>\n",
       "      <th>Neural Network-1</th>\n",
       "      <td>0.907320</td>\n",
       "      <td>3850.0</td>\n",
       "      <td>22005.0</td>\n",
       "      <td>2335.0</td>\n",
       "      <td>306.0</td>\n",
       "      <td>0.095933</td>\n",
       "      <td>0.073628</td>\n",
       "    </tr>\n",
       "  </tbody>\n",
       "</table>\n",
       "</div>"
      ],
      "text/plain": [
       "                            accuracy      TP       TN      FP      FN  \\\n",
       "index                                                                   \n",
       "KNeighborsClassifier        0.871842   661.0  24183.0   157.0  3495.0   \n",
       "LogisticRegression          0.889037  3357.0  21977.0  2363.0   799.0   \n",
       "RandomForestClassifier      0.926516  3988.0  22414.0  1926.0   168.0   \n",
       "AdaBoostClassifier          0.904127  3410.0  22354.0  1986.0   746.0   \n",
       "GradientBoostingClassifier  0.910268  3533.0  22406.0  1934.0   623.0   \n",
       "ExtraTreeClassifier         0.928446  4042.0  22415.0  1925.0   114.0   \n",
       "BaggingClassifier           0.926130  3978.0  22413.0  1927.0   178.0   \n",
       "Neural Network-1            0.907320  3850.0  22005.0  2335.0   306.0   \n",
       "\n",
       "                                 FPR       FNR  \n",
       "index                                           \n",
       "KNeighborsClassifier        0.006450  0.840953  \n",
       "LogisticRegression          0.097083  0.192252  \n",
       "RandomForestClassifier      0.079129  0.040423  \n",
       "AdaBoostClassifier          0.081594  0.179500  \n",
       "GradientBoostingClassifier  0.079458  0.149904  \n",
       "ExtraTreeClassifier         0.079088  0.027430  \n",
       "BaggingClassifier           0.079170  0.042830  \n",
       "Neural Network-1            0.095933  0.073628  "
      ]
     },
     "metadata": {},
     "output_type": "display_data"
    },
    {
     "name": "stdout",
     "output_type": "stream",
     "text": [
      "Test Results\n"
     ]
    },
    {
     "data": {
      "text/html": [
       "<div>\n",
       "<style scoped>\n",
       "    .dataframe tbody tr th:only-of-type {\n",
       "        vertical-align: middle;\n",
       "    }\n",
       "\n",
       "    .dataframe tbody tr th {\n",
       "        vertical-align: top;\n",
       "    }\n",
       "\n",
       "    .dataframe thead th {\n",
       "        text-align: right;\n",
       "    }\n",
       "</style>\n",
       "<table border=\"1\" class=\"dataframe\">\n",
       "  <thead>\n",
       "    <tr style=\"text-align: right;\">\n",
       "      <th></th>\n",
       "      <th>accuracy</th>\n",
       "      <th>TP</th>\n",
       "      <th>TN</th>\n",
       "      <th>FP</th>\n",
       "      <th>FN</th>\n",
       "      <th>FPR</th>\n",
       "      <th>FNR</th>\n",
       "      <th>auc</th>\n",
       "      <th>MCC</th>\n",
       "    </tr>\n",
       "    <tr>\n",
       "      <th>index</th>\n",
       "      <th></th>\n",
       "      <th></th>\n",
       "      <th></th>\n",
       "      <th></th>\n",
       "      <th></th>\n",
       "      <th></th>\n",
       "      <th></th>\n",
       "      <th></th>\n",
       "      <th></th>\n",
       "    </tr>\n",
       "  </thead>\n",
       "  <tbody>\n",
       "    <tr>\n",
       "      <th>KNeighborsClassifier</th>\n",
       "      <td>0.867436</td>\n",
       "      <td>233.0</td>\n",
       "      <td>10361.0</td>\n",
       "      <td>77.0</td>\n",
       "      <td>1542.0</td>\n",
       "      <td>0.007377</td>\n",
       "      <td>0.868732</td>\n",
       "      <td>0.561945</td>\n",
       "      <td>0.277612</td>\n",
       "    </tr>\n",
       "    <tr>\n",
       "      <th>LogisticRegression</th>\n",
       "      <td>0.890035</td>\n",
       "      <td>1452.0</td>\n",
       "      <td>9418.0</td>\n",
       "      <td>1020.0</td>\n",
       "      <td>323.0</td>\n",
       "      <td>0.097720</td>\n",
       "      <td>0.181972</td>\n",
       "      <td>0.860154</td>\n",
       "      <td>0.631830</td>\n",
       "    </tr>\n",
       "    <tr>\n",
       "      <th>RandomForestClassifier</th>\n",
       "      <td>0.911160</td>\n",
       "      <td>1573.0</td>\n",
       "      <td>9555.0</td>\n",
       "      <td>883.0</td>\n",
       "      <td>202.0</td>\n",
       "      <td>0.084595</td>\n",
       "      <td>0.113803</td>\n",
       "      <td>0.900801</td>\n",
       "      <td>0.704846</td>\n",
       "    </tr>\n",
       "    <tr>\n",
       "      <th>AdaBoostClassifier</th>\n",
       "      <td>0.903136</td>\n",
       "      <td>1478.0</td>\n",
       "      <td>9552.0</td>\n",
       "      <td>886.0</td>\n",
       "      <td>297.0</td>\n",
       "      <td>0.084882</td>\n",
       "      <td>0.167324</td>\n",
       "      <td>0.873897</td>\n",
       "      <td>0.667068</td>\n",
       "    </tr>\n",
       "    <tr>\n",
       "      <th>GradientBoostingClassifier</th>\n",
       "      <td>0.907476</td>\n",
       "      <td>1516.0</td>\n",
       "      <td>9567.0</td>\n",
       "      <td>871.0</td>\n",
       "      <td>259.0</td>\n",
       "      <td>0.083445</td>\n",
       "      <td>0.145915</td>\n",
       "      <td>0.885320</td>\n",
       "      <td>0.684927</td>\n",
       "    </tr>\n",
       "    <tr>\n",
       "      <th>ExtraTreeClassifier</th>\n",
       "      <td>0.911897</td>\n",
       "      <td>1581.0</td>\n",
       "      <td>9556.0</td>\n",
       "      <td>882.0</td>\n",
       "      <td>194.0</td>\n",
       "      <td>0.084499</td>\n",
       "      <td>0.109296</td>\n",
       "      <td>0.903103</td>\n",
       "      <td>0.708140</td>\n",
       "    </tr>\n",
       "    <tr>\n",
       "      <th>BaggingClassifier</th>\n",
       "      <td>0.911242</td>\n",
       "      <td>1584.0</td>\n",
       "      <td>9545.0</td>\n",
       "      <td>893.0</td>\n",
       "      <td>191.0</td>\n",
       "      <td>0.085553</td>\n",
       "      <td>0.107606</td>\n",
       "      <td>0.903421</td>\n",
       "      <td>0.707201</td>\n",
       "    </tr>\n",
       "    <tr>\n",
       "      <th>Neural Network-1</th>\n",
       "      <td>0.899779</td>\n",
       "      <td>1583.0</td>\n",
       "      <td>9406.0</td>\n",
       "      <td>1032.0</td>\n",
       "      <td>192.0</td>\n",
       "      <td>0.098870</td>\n",
       "      <td>0.108169</td>\n",
       "      <td>0.896481</td>\n",
       "      <td>0.681293</td>\n",
       "    </tr>\n",
       "  </tbody>\n",
       "</table>\n",
       "</div>"
      ],
      "text/plain": [
       "                            accuracy      TP       TN      FP      FN  \\\n",
       "index                                                                   \n",
       "KNeighborsClassifier        0.867436   233.0  10361.0    77.0  1542.0   \n",
       "LogisticRegression          0.890035  1452.0   9418.0  1020.0   323.0   \n",
       "RandomForestClassifier      0.911160  1573.0   9555.0   883.0   202.0   \n",
       "AdaBoostClassifier          0.903136  1478.0   9552.0   886.0   297.0   \n",
       "GradientBoostingClassifier  0.907476  1516.0   9567.0   871.0   259.0   \n",
       "ExtraTreeClassifier         0.911897  1581.0   9556.0   882.0   194.0   \n",
       "BaggingClassifier           0.911242  1584.0   9545.0   893.0   191.0   \n",
       "Neural Network-1            0.899779  1583.0   9406.0  1032.0   192.0   \n",
       "\n",
       "                                 FPR       FNR       auc       MCC  \n",
       "index                                                               \n",
       "KNeighborsClassifier        0.007377  0.868732  0.561945  0.277612  \n",
       "LogisticRegression          0.097720  0.181972  0.860154  0.631830  \n",
       "RandomForestClassifier      0.084595  0.113803  0.900801  0.704846  \n",
       "AdaBoostClassifier          0.084882  0.167324  0.873897  0.667068  \n",
       "GradientBoostingClassifier  0.083445  0.145915  0.885320  0.684927  \n",
       "ExtraTreeClassifier         0.084499  0.109296  0.903103  0.708140  \n",
       "BaggingClassifier           0.085553  0.107606  0.903421  0.707201  \n",
       "Neural Network-1            0.098870  0.108169  0.896481  0.681293  "
      ]
     },
     "metadata": {},
     "output_type": "display_data"
    }
   ],
   "source": [
    "table_80_50_train['index']=ind_columns\n",
    "table_80_50_test['index']=ind_columns\n",
    "\n",
    "\n",
    "table_80_50_test.set_index(['index'],drop=True,inplace=True)\n",
    "table_80_50_train.set_index(['index'],drop=True,inplace=True)\n",
    "\n",
    "print(\"Training Results\")\n",
    "display(table_80_50_train)\n",
    "print(\"Test Results\")\n",
    "display(table_80_50_test)"
   ]
  },
  {
   "cell_type": "markdown",
   "metadata": {},
   "source": [
    "### <a id='1.B' style=\"text-decoration : none; color : #000000;\"> B. Average Feature Importances</a>"
   ]
  },
  {
   "cell_type": "code",
   "execution_count": 19,
   "metadata": {},
   "outputs": [
    {
     "data": {
      "application/vnd.plotly.v1+json": {
       "config": {
        "linkText": "Export to plot.ly",
        "plotlyServerURL": "https://plot.ly",
        "showLink": true
       },
       "data": [
        {
         "marker": {
          "color": "rgb(158,202,225)",
          "line": {
           "color": "rgb(8,48,107)",
           "width": 1.5
          }
         },
         "opacity": 0.6,
         "orientation": "h",
         "text": [
          0.3163,
          0.1041,
          0.0701,
          0.0631,
          0.0542,
          0.0506,
          0.043,
          0.0351,
          0.026,
          0.0259,
          0.0257,
          0.0214,
          0.0211,
          0.0194,
          0.0149,
          0.0148,
          0.0131,
          0.0128,
          0.0106,
          0.0094,
          0.009,
          0.0089,
          0.0078,
          0.0076,
          0.0076,
          0.0074
         ],
         "textposition": "outside",
         "type": "bar",
         "uid": "c97a7043-161c-49dd-bb66-74f141983e23",
         "x": [
          0.31633727593766514,
          0.10409208243111398,
          0.07012073403986752,
          0.06310586251327273,
          0.05424146508678148,
          0.050579005073260255,
          0.042981300399616174,
          0.035139207104957146,
          0.02601607677879196,
          0.025883740426197097,
          0.025714587651993123,
          0.02137585048938301,
          0.02110019731738223,
          0.019354134453407192,
          0.014913568963873185,
          0.01482343667968543,
          0.013112207477283313,
          0.012837775952234124,
          0.010595087967927106,
          0.009383706884610536,
          0.009008078849896569,
          0.008876688009927195,
          0.007794224558251911,
          0.007640455801217598,
          0.00760526246834399,
          0.0073679866830600365
         ],
         "y": [
          "total_count",
          "total_href",
          "link_href_out_of_domain",
          "p_count",
          "meta_count",
          "a_href_https",
          "script_async_true",
          "link_type_text/css",
          "link_href_.css",
          "link_href_http",
          "push",
          "script_src_out_of_domain",
          "strong_count",
          "indexOf",
          "form_action_http",
          "center_count",
          "a_href_.com",
          "iframe_src_https",
          "document.write",
          "window.addEventListener",
          "get",
          "window.setTimeout",
          "link_type_application/rsd+xml",
          "replace",
          "find",
          "link_rel_shortlink"
         ]
        }
       ],
       "layout": {
        "autosize": false,
        "height": 1000,
        "width": 1000,
        "xaxis": {
         "tickfont": {
          "color": "black",
          "size": 12
         },
         "title": "Feature Importances"
        },
        "yaxis": {
         "automargin": true
        }
       }
      },
      "text/html": [
       "<div id=\"0aa5d863-f048-47b5-b9eb-dc98453b4d13\" style=\"height: 1000px; width: 1000px;\" class=\"plotly-graph-div\"></div><script type=\"text/javascript\">require([\"plotly\"], function(Plotly) { window.PLOTLYENV=window.PLOTLYENV || {};window.PLOTLYENV.BASE_URL=\"https://plot.ly\";Plotly.newPlot(\"0aa5d863-f048-47b5-b9eb-dc98453b4d13\", [{\"marker\": {\"color\": \"rgb(158,202,225)\", \"line\": {\"color\": \"rgb(8,48,107)\", \"width\": 1.5}}, \"opacity\": 0.6, \"orientation\": \"h\", \"text\": [0.3163, 0.1041, 0.0701, 0.0631, 0.0542, 0.0506, 0.043, 0.0351, 0.026, 0.0259, 0.0257, 0.0214, 0.0211, 0.0194, 0.0149, 0.0148, 0.0131, 0.0128, 0.0106, 0.0094, 0.009, 0.0089, 0.0078, 0.0076, 0.0076, 0.0074], \"textposition\": \"outside\", \"x\": [0.31633727593766514, 0.10409208243111398, 0.07012073403986752, 0.06310586251327273, 0.05424146508678148, 0.050579005073260255, 0.042981300399616174, 0.035139207104957146, 0.02601607677879196, 0.025883740426197097, 0.025714587651993123, 0.02137585048938301, 0.02110019731738223, 0.019354134453407192, 0.014913568963873185, 0.01482343667968543, 0.013112207477283313, 0.012837775952234124, 0.010595087967927106, 0.009383706884610536, 0.009008078849896569, 0.008876688009927195, 0.007794224558251911, 0.007640455801217598, 0.00760526246834399, 0.0073679866830600365], \"y\": [\"total_count\", \"total_href\", \"link_href_out_of_domain\", \"p_count\", \"meta_count\", \"a_href_https\", \"script_async_true\", \"link_type_text/css\", \"link_href_.css\", \"link_href_http\", \"push\", \"script_src_out_of_domain\", \"strong_count\", \"indexOf\", \"form_action_http\", \"center_count\", \"a_href_.com\", \"iframe_src_https\", \"document.write\", \"window.addEventListener\", \"get\", \"window.setTimeout\", \"link_type_application/rsd+xml\", \"replace\", \"find\", \"link_rel_shortlink\"], \"type\": \"bar\", \"uid\": \"c97a7043-161c-49dd-bb66-74f141983e23\"}], {\"autosize\": false, \"height\": 1000, \"width\": 1000, \"xaxis\": {\"tickfont\": {\"color\": \"black\", \"size\": 12}, \"title\": \"Feature Importances\"}, \"yaxis\": {\"automargin\": true}}, {\"showLink\": true, \"linkText\": \"Export to plot.ly\", \"plotlyServerURL\": \"https://plot.ly\"})});</script>"
      ],
      "text/vnd.plotly.v1+html": [
       "<div id=\"0aa5d863-f048-47b5-b9eb-dc98453b4d13\" style=\"height: 1000px; width: 1000px;\" class=\"plotly-graph-div\"></div><script type=\"text/javascript\">require([\"plotly\"], function(Plotly) { window.PLOTLYENV=window.PLOTLYENV || {};window.PLOTLYENV.BASE_URL=\"https://plot.ly\";Plotly.newPlot(\"0aa5d863-f048-47b5-b9eb-dc98453b4d13\", [{\"marker\": {\"color\": \"rgb(158,202,225)\", \"line\": {\"color\": \"rgb(8,48,107)\", \"width\": 1.5}}, \"opacity\": 0.6, \"orientation\": \"h\", \"text\": [0.3163, 0.1041, 0.0701, 0.0631, 0.0542, 0.0506, 0.043, 0.0351, 0.026, 0.0259, 0.0257, 0.0214, 0.0211, 0.0194, 0.0149, 0.0148, 0.0131, 0.0128, 0.0106, 0.0094, 0.009, 0.0089, 0.0078, 0.0076, 0.0076, 0.0074], \"textposition\": \"outside\", \"x\": [0.31633727593766514, 0.10409208243111398, 0.07012073403986752, 0.06310586251327273, 0.05424146508678148, 0.050579005073260255, 0.042981300399616174, 0.035139207104957146, 0.02601607677879196, 0.025883740426197097, 0.025714587651993123, 0.02137585048938301, 0.02110019731738223, 0.019354134453407192, 0.014913568963873185, 0.01482343667968543, 0.013112207477283313, 0.012837775952234124, 0.010595087967927106, 0.009383706884610536, 0.009008078849896569, 0.008876688009927195, 0.007794224558251911, 0.007640455801217598, 0.00760526246834399, 0.0073679866830600365], \"y\": [\"total_count\", \"total_href\", \"link_href_out_of_domain\", \"p_count\", \"meta_count\", \"a_href_https\", \"script_async_true\", \"link_type_text/css\", \"link_href_.css\", \"link_href_http\", \"push\", \"script_src_out_of_domain\", \"strong_count\", \"indexOf\", \"form_action_http\", \"center_count\", \"a_href_.com\", \"iframe_src_https\", \"document.write\", \"window.addEventListener\", \"get\", \"window.setTimeout\", \"link_type_application/rsd+xml\", \"replace\", \"find\", \"link_rel_shortlink\"], \"type\": \"bar\", \"uid\": \"c97a7043-161c-49dd-bb66-74f141983e23\"}], {\"autosize\": false, \"height\": 1000, \"width\": 1000, \"xaxis\": {\"tickfont\": {\"color\": \"black\", \"size\": 12}, \"title\": \"Feature Importances\"}, \"yaxis\": {\"automargin\": true}}, {\"showLink\": true, \"linkText\": \"Export to plot.ly\", \"plotlyServerURL\": \"https://plot.ly\"})});</script>"
      ]
     },
     "metadata": {},
     "output_type": "display_data"
    }
   ],
   "source": [
    "feat_impt_plot(np.average(feat_imp,axis=0),columns)"
   ]
  },
  {
   "cell_type": "markdown",
   "metadata": {},
   "source": [
    "### <a id='2' style=\"text-decoration : none; color : #000000;\"> 2. OverSampling </a>"
   ]
  },
  {
   "cell_type": "code",
   "execution_count": 20,
   "metadata": {},
   "outputs": [
    {
     "name": "stderr",
     "output_type": "stream",
     "text": [
      "/nethomes/darshan/anaconda3/lib/python3.6/site-packages/sklearn/utils/deprecation.py:85: DeprecationWarning:\n",
      "\n",
      "Function _ratio_float is deprecated; Use a float for 'ratio' is deprecated from version 0.2. The support will be removed in 0.4. Use a dict, str, or a callable instead.\n",
      "\n"
     ]
    }
   ],
   "source": [
    "sm = SMOTE(random_state=12, ratio = 1.0)\n",
    "X_train, Y_train = sm.fit_sample(scaled_X_train,train_Y)"
   ]
  },
  {
   "cell_type": "code",
   "execution_count": 21,
   "metadata": {
    "scrolled": false
   },
   "outputs": [
    {
     "name": "stdout",
     "output_type": "stream",
     "text": [
      "\u001b[1mK-Nearest Neighbors\u001b[0m\n",
      "Accuracy of the model for training data is: 0.9348397699260477\n",
      "Confusion Matrix for training data is:\n"
     ]
    },
    {
     "data": {
      "text/plain": [
       "Predicted  False   True  __all__\n",
       "Actual                          \n",
       "False      21828   2512    24340\n",
       "True         660  23680    24340\n",
       "__all__    22488  26192    48680"
      ]
     },
     "metadata": {},
     "output_type": "display_data"
    },
    {
     "name": "stdout",
     "output_type": "stream",
     "text": [
      "Accuracy of the model for test data is: 0.8838123311225743\n",
      "Confusion Matrix for test data is:\n"
     ]
    },
    {
     "data": {
      "text/plain": [
       "Predicted  False  True  __all__\n",
       "Actual                         \n",
       "False       9167  1271    10438\n",
       "True         148  1627     1775\n",
       "__all__     9315  2898    12213"
      ]
     },
     "metadata": {},
     "output_type": "display_data"
    },
    {
     "name": "stdout",
     "output_type": "stream",
     "text": [
      "\n",
      "\n",
      "\u001b[1mLogistic Regression\u001b[0m\n",
      "Accuracy of the model for training data is: 0.8896055875102712\n",
      "Confusion Matrix for training data is:\n"
     ]
    },
    {
     "data": {
      "text/plain": [
       "Predicted  False   True  __all__\n",
       "Actual                          \n",
       "False      19943   4397    24340\n",
       "True         977  23363    24340\n",
       "__all__    20920  27760    48680"
      ]
     },
     "metadata": {},
     "output_type": "display_data"
    },
    {
     "name": "stdout",
     "output_type": "stream",
     "text": [
      "Accuracy of the model for test data is: 0.8421354294604111\n",
      "Confusion Matrix for test data is:\n"
     ]
    },
    {
     "data": {
      "text/plain": [
       "Predicted  False  True  __all__\n",
       "Actual                         \n",
       "False       8599  1839    10438\n",
       "True          89  1686     1775\n",
       "__all__     8688  3525    12213"
      ]
     },
     "metadata": {},
     "output_type": "display_data"
    },
    {
     "name": "stdout",
     "output_type": "stream",
     "text": [
      "\n",
      "\n",
      "\u001b[1mRandomForest Classifier\u001b[0m\n",
      "Accuracy of the model for training data is: 0.9530402629416598\n",
      "Confusion Matrix for training data is:\n"
     ]
    },
    {
     "data": {
      "text/plain": [
       "Predicted  False   True  __all__\n",
       "Actual                          \n",
       "False      22293   2047    24340\n",
       "True         239  24101    24340\n",
       "__all__    22532  26148    48680"
      ]
     },
     "metadata": {},
     "output_type": "display_data"
    },
    {
     "name": "stdout",
     "output_type": "stream",
     "text": [
      "Accuracy of the model for test data is: 0.9085400802423647\n",
      "Confusion Matrix for test data is:\n"
     ]
    },
    {
     "data": {
      "text/plain": [
       "Predicted  False  True  __all__\n",
       "Actual                         \n",
       "False       9483   955    10438\n",
       "True         162  1613     1775\n",
       "__all__     9645  2568    12213"
      ]
     },
     "metadata": {},
     "output_type": "display_data"
    },
    {
     "data": {
      "application/vnd.plotly.v1+json": {
       "config": {
        "linkText": "Export to plot.ly",
        "plotlyServerURL": "https://plot.ly",
        "showLink": true
       },
       "data": [
        {
         "marker": {
          "color": "rgb(158,202,225)",
          "line": {
           "color": "rgb(8,48,107)",
           "width": 1.5
          }
         },
         "opacity": 0.6,
         "orientation": "h",
         "text": [
          0.2509,
          0.1602,
          0.1564,
          0.1033,
          0.0852,
          0.0704,
          0.0227,
          0.0224,
          0.0179,
          0.015,
          0.012,
          0.0116,
          0.0109,
          0.0109,
          0.0089,
          0.0078,
          0.0056,
          0.0049,
          0.0043,
          0.0041,
          0.004,
          0.0038,
          0.0025,
          0.0017,
          0.0014,
          0.0013
         ],
         "textposition": "outside",
         "type": "bar",
         "uid": "2478061c-4bfe-45d6-917a-ddab49099d7a",
         "x": [
          0.2508819659540964,
          0.1601517459805566,
          0.15640924538300877,
          0.10325604951608272,
          0.08521298836036166,
          0.0703615544023547,
          0.0226948315297779,
          0.022365936711219066,
          0.017936986156696668,
          0.01502186772160107,
          0.012048162521052383,
          0.01156888176008827,
          0.010934197928523948,
          0.010889180266567254,
          0.008875503613161027,
          0.00784747863859744,
          0.005612003757303913,
          0.0048546901957488495,
          0.004317072356148979,
          0.004135014077752509,
          0.003964573555312391,
          0.0038269588205079924,
          0.0024576302416510452,
          0.0017372011394159858,
          0.0013644425167023393,
          0.0012738368957101397
         ],
         "y": [
          "total_href",
          "total_count",
          "link_href_out_of_domain",
          "p_count",
          "meta_count",
          "a_href_https",
          "push",
          "script_async_true",
          "link_href_http",
          "script_src_out_of_domain",
          "indexOf",
          "link_type_text/css",
          "strong_count",
          "link_href_.css",
          "iframe_src_https",
          "center_count",
          "replace",
          "document.write",
          "form_action_http",
          "find",
          "link_type_application/rsd+xml",
          "a_href_.com",
          "link_rel_shortlink",
          "get",
          "window.addEventListener",
          "window.setTimeout"
         ]
        }
       ],
       "layout": {
        "autosize": false,
        "height": 1000,
        "width": 1000,
        "xaxis": {
         "tickfont": {
          "color": "black",
          "size": 12
         },
         "title": "Feature Importances"
        },
        "yaxis": {
         "automargin": true
        }
       }
      },
      "text/html": [
       "<div id=\"82d5fa8e-3b23-4c7d-8fa6-a84a631415ff\" style=\"height: 1000px; width: 1000px;\" class=\"plotly-graph-div\"></div><script type=\"text/javascript\">require([\"plotly\"], function(Plotly) { window.PLOTLYENV=window.PLOTLYENV || {};window.PLOTLYENV.BASE_URL=\"https://plot.ly\";Plotly.newPlot(\"82d5fa8e-3b23-4c7d-8fa6-a84a631415ff\", [{\"marker\": {\"color\": \"rgb(158,202,225)\", \"line\": {\"color\": \"rgb(8,48,107)\", \"width\": 1.5}}, \"opacity\": 0.6, \"orientation\": \"h\", \"text\": [0.2509, 0.1602, 0.1564, 0.1033, 0.0852, 0.0704, 0.0227, 0.0224, 0.0179, 0.015, 0.012, 0.0116, 0.0109, 0.0109, 0.0089, 0.0078, 0.0056, 0.0049, 0.0043, 0.0041, 0.004, 0.0038, 0.0025, 0.0017, 0.0014, 0.0013], \"textposition\": \"outside\", \"x\": [0.2508819659540964, 0.1601517459805566, 0.15640924538300877, 0.10325604951608272, 0.08521298836036166, 0.0703615544023547, 0.0226948315297779, 0.022365936711219066, 0.017936986156696668, 0.01502186772160107, 0.012048162521052383, 0.01156888176008827, 0.010934197928523948, 0.010889180266567254, 0.008875503613161027, 0.00784747863859744, 0.005612003757303913, 0.0048546901957488495, 0.004317072356148979, 0.004135014077752509, 0.003964573555312391, 0.0038269588205079924, 0.0024576302416510452, 0.0017372011394159858, 0.0013644425167023393, 0.0012738368957101397], \"y\": [\"total_href\", \"total_count\", \"link_href_out_of_domain\", \"p_count\", \"meta_count\", \"a_href_https\", \"push\", \"script_async_true\", \"link_href_http\", \"script_src_out_of_domain\", \"indexOf\", \"link_type_text/css\", \"strong_count\", \"link_href_.css\", \"iframe_src_https\", \"center_count\", \"replace\", \"document.write\", \"form_action_http\", \"find\", \"link_type_application/rsd+xml\", \"a_href_.com\", \"link_rel_shortlink\", \"get\", \"window.addEventListener\", \"window.setTimeout\"], \"type\": \"bar\", \"uid\": \"2478061c-4bfe-45d6-917a-ddab49099d7a\"}], {\"autosize\": false, \"height\": 1000, \"width\": 1000, \"xaxis\": {\"tickfont\": {\"color\": \"black\", \"size\": 12}, \"title\": \"Feature Importances\"}, \"yaxis\": {\"automargin\": true}}, {\"showLink\": true, \"linkText\": \"Export to plot.ly\", \"plotlyServerURL\": \"https://plot.ly\"})});</script>"
      ],
      "text/vnd.plotly.v1+html": [
       "<div id=\"82d5fa8e-3b23-4c7d-8fa6-a84a631415ff\" style=\"height: 1000px; width: 1000px;\" class=\"plotly-graph-div\"></div><script type=\"text/javascript\">require([\"plotly\"], function(Plotly) { window.PLOTLYENV=window.PLOTLYENV || {};window.PLOTLYENV.BASE_URL=\"https://plot.ly\";Plotly.newPlot(\"82d5fa8e-3b23-4c7d-8fa6-a84a631415ff\", [{\"marker\": {\"color\": \"rgb(158,202,225)\", \"line\": {\"color\": \"rgb(8,48,107)\", \"width\": 1.5}}, \"opacity\": 0.6, \"orientation\": \"h\", \"text\": [0.2509, 0.1602, 0.1564, 0.1033, 0.0852, 0.0704, 0.0227, 0.0224, 0.0179, 0.015, 0.012, 0.0116, 0.0109, 0.0109, 0.0089, 0.0078, 0.0056, 0.0049, 0.0043, 0.0041, 0.004, 0.0038, 0.0025, 0.0017, 0.0014, 0.0013], \"textposition\": \"outside\", \"x\": [0.2508819659540964, 0.1601517459805566, 0.15640924538300877, 0.10325604951608272, 0.08521298836036166, 0.0703615544023547, 0.0226948315297779, 0.022365936711219066, 0.017936986156696668, 0.01502186772160107, 0.012048162521052383, 0.01156888176008827, 0.010934197928523948, 0.010889180266567254, 0.008875503613161027, 0.00784747863859744, 0.005612003757303913, 0.0048546901957488495, 0.004317072356148979, 0.004135014077752509, 0.003964573555312391, 0.0038269588205079924, 0.0024576302416510452, 0.0017372011394159858, 0.0013644425167023393, 0.0012738368957101397], \"y\": [\"total_href\", \"total_count\", \"link_href_out_of_domain\", \"p_count\", \"meta_count\", \"a_href_https\", \"push\", \"script_async_true\", \"link_href_http\", \"script_src_out_of_domain\", \"indexOf\", \"link_type_text/css\", \"strong_count\", \"link_href_.css\", \"iframe_src_https\", \"center_count\", \"replace\", \"document.write\", \"form_action_http\", \"find\", \"link_type_application/rsd+xml\", \"a_href_.com\", \"link_rel_shortlink\", \"get\", \"window.addEventListener\", \"window.setTimeout\"], \"type\": \"bar\", \"uid\": \"2478061c-4bfe-45d6-917a-ddab49099d7a\"}], {\"autosize\": false, \"height\": 1000, \"width\": 1000, \"xaxis\": {\"tickfont\": {\"color\": \"black\", \"size\": 12}, \"title\": \"Feature Importances\"}, \"yaxis\": {\"automargin\": true}}, {\"showLink\": true, \"linkText\": \"Export to plot.ly\", \"plotlyServerURL\": \"https://plot.ly\"})});</script>"
      ]
     },
     "metadata": {},
     "output_type": "display_data"
    },
    {
     "name": "stdout",
     "output_type": "stream",
     "text": [
      "\n",
      "\n",
      "\u001b[1mAdaoost Classifier\u001b[0m\n",
      "Accuracy of the model for training data is: 0.9065735414954806\n",
      "Confusion Matrix for training data is:\n"
     ]
    },
    {
     "data": {
      "text/plain": [
       "Predicted  False   True  __all__\n",
       "Actual                          \n",
       "False      20965   3375    24340\n",
       "True        1173  23167    24340\n",
       "__all__    22138  26542    48680"
      ]
     },
     "metadata": {},
     "output_type": "display_data"
    },
    {
     "name": "stdout",
     "output_type": "stream",
     "text": [
      "Accuracy of the model for test data is: 0.8722672562024073\n",
      "Confusion Matrix for test data is:\n"
     ]
    },
    {
     "data": {
      "text/plain": [
       "Predicted  False  True  __all__\n",
       "Actual                         \n",
       "False       8999  1439    10438\n",
       "True         121  1654     1775\n",
       "__all__     9120  3093    12213"
      ]
     },
     "metadata": {},
     "output_type": "display_data"
    },
    {
     "data": {
      "application/vnd.plotly.v1+json": {
       "config": {
        "linkText": "Export to plot.ly",
        "plotlyServerURL": "https://plot.ly",
        "showLink": true
       },
       "data": [
        {
         "marker": {
          "color": "rgb(158,202,225)",
          "line": {
           "color": "rgb(8,48,107)",
           "width": 1.5
          }
         },
         "opacity": 0.6,
         "orientation": "h",
         "text": [
          0.22,
          0.08,
          0.06,
          0.06,
          0.06,
          0.06,
          0.04,
          0.04,
          0.04,
          0.04,
          0.04,
          0.04,
          0.04,
          0.02,
          0.02,
          0.02,
          0.02,
          0.02,
          0.02,
          0.02,
          0.02,
          0.02,
          0,
          0,
          0,
          0
         ],
         "textposition": "outside",
         "type": "bar",
         "uid": "d9067b48-5c12-4b5c-b966-4208194a7bbd",
         "x": [
          0.22,
          0.08,
          0.06,
          0.06,
          0.06,
          0.06,
          0.04,
          0.04,
          0.04,
          0.04,
          0.04,
          0.04,
          0.04,
          0.02,
          0.02,
          0.02,
          0.02,
          0.02,
          0.02,
          0.02,
          0.02,
          0.02,
          0,
          0,
          0,
          0
         ],
         "y": [
          "total_count",
          "push",
          "total_href",
          "a_href_.com",
          "link_href_out_of_domain",
          "link_href_http",
          "iframe_src_https",
          "strong_count",
          "script_src_out_of_domain",
          "p_count",
          "link_type_text/css",
          "window.addEventListener",
          "document.write",
          "form_action_http",
          "center_count",
          "a_href_https",
          "link_rel_shortlink",
          "link_type_application/rsd+xml",
          "get",
          "find",
          "window.setTimeout",
          "link_href_.css",
          "replace",
          "meta_count",
          "indexOf",
          "script_async_true"
         ]
        }
       ],
       "layout": {
        "autosize": false,
        "height": 1000,
        "width": 1000,
        "xaxis": {
         "tickfont": {
          "color": "black",
          "size": 12
         },
         "title": "Feature Importances"
        },
        "yaxis": {
         "automargin": true
        }
       }
      },
      "text/html": [
       "<div id=\"6418d974-3ad7-4b2f-854e-028d79127bbb\" style=\"height: 1000px; width: 1000px;\" class=\"plotly-graph-div\"></div><script type=\"text/javascript\">require([\"plotly\"], function(Plotly) { window.PLOTLYENV=window.PLOTLYENV || {};window.PLOTLYENV.BASE_URL=\"https://plot.ly\";Plotly.newPlot(\"6418d974-3ad7-4b2f-854e-028d79127bbb\", [{\"marker\": {\"color\": \"rgb(158,202,225)\", \"line\": {\"color\": \"rgb(8,48,107)\", \"width\": 1.5}}, \"opacity\": 0.6, \"orientation\": \"h\", \"text\": [0.22, 0.08, 0.06, 0.06, 0.06, 0.06, 0.04, 0.04, 0.04, 0.04, 0.04, 0.04, 0.04, 0.02, 0.02, 0.02, 0.02, 0.02, 0.02, 0.02, 0.02, 0.02, 0.0, 0.0, 0.0, 0.0], \"textposition\": \"outside\", \"x\": [0.22, 0.08, 0.06, 0.06, 0.06, 0.06, 0.04, 0.04, 0.04, 0.04, 0.04, 0.04, 0.04, 0.02, 0.02, 0.02, 0.02, 0.02, 0.02, 0.02, 0.02, 0.02, 0.0, 0.0, 0.0, 0.0], \"y\": [\"total_count\", \"push\", \"total_href\", \"a_href_.com\", \"link_href_out_of_domain\", \"link_href_http\", \"iframe_src_https\", \"strong_count\", \"script_src_out_of_domain\", \"p_count\", \"link_type_text/css\", \"window.addEventListener\", \"document.write\", \"form_action_http\", \"center_count\", \"a_href_https\", \"link_rel_shortlink\", \"link_type_application/rsd+xml\", \"get\", \"find\", \"window.setTimeout\", \"link_href_.css\", \"replace\", \"meta_count\", \"indexOf\", \"script_async_true\"], \"type\": \"bar\", \"uid\": \"d9067b48-5c12-4b5c-b966-4208194a7bbd\"}], {\"autosize\": false, \"height\": 1000, \"width\": 1000, \"xaxis\": {\"tickfont\": {\"color\": \"black\", \"size\": 12}, \"title\": \"Feature Importances\"}, \"yaxis\": {\"automargin\": true}}, {\"showLink\": true, \"linkText\": \"Export to plot.ly\", \"plotlyServerURL\": \"https://plot.ly\"})});</script>"
      ],
      "text/vnd.plotly.v1+html": [
       "<div id=\"6418d974-3ad7-4b2f-854e-028d79127bbb\" style=\"height: 1000px; width: 1000px;\" class=\"plotly-graph-div\"></div><script type=\"text/javascript\">require([\"plotly\"], function(Plotly) { window.PLOTLYENV=window.PLOTLYENV || {};window.PLOTLYENV.BASE_URL=\"https://plot.ly\";Plotly.newPlot(\"6418d974-3ad7-4b2f-854e-028d79127bbb\", [{\"marker\": {\"color\": \"rgb(158,202,225)\", \"line\": {\"color\": \"rgb(8,48,107)\", \"width\": 1.5}}, \"opacity\": 0.6, \"orientation\": \"h\", \"text\": [0.22, 0.08, 0.06, 0.06, 0.06, 0.06, 0.04, 0.04, 0.04, 0.04, 0.04, 0.04, 0.04, 0.02, 0.02, 0.02, 0.02, 0.02, 0.02, 0.02, 0.02, 0.02, 0.0, 0.0, 0.0, 0.0], \"textposition\": \"outside\", \"x\": [0.22, 0.08, 0.06, 0.06, 0.06, 0.06, 0.04, 0.04, 0.04, 0.04, 0.04, 0.04, 0.04, 0.02, 0.02, 0.02, 0.02, 0.02, 0.02, 0.02, 0.02, 0.02, 0.0, 0.0, 0.0, 0.0], \"y\": [\"total_count\", \"push\", \"total_href\", \"a_href_.com\", \"link_href_out_of_domain\", \"link_href_http\", \"iframe_src_https\", \"strong_count\", \"script_src_out_of_domain\", \"p_count\", \"link_type_text/css\", \"window.addEventListener\", \"document.write\", \"form_action_http\", \"center_count\", \"a_href_https\", \"link_rel_shortlink\", \"link_type_application/rsd+xml\", \"get\", \"find\", \"window.setTimeout\", \"link_href_.css\", \"replace\", \"meta_count\", \"indexOf\", \"script_async_true\"], \"type\": \"bar\", \"uid\": \"d9067b48-5c12-4b5c-b966-4208194a7bbd\"}], {\"autosize\": false, \"height\": 1000, \"width\": 1000, \"xaxis\": {\"tickfont\": {\"color\": \"black\", \"size\": 12}, \"title\": \"Feature Importances\"}, \"yaxis\": {\"automargin\": true}}, {\"showLink\": true, \"linkText\": \"Export to plot.ly\", \"plotlyServerURL\": \"https://plot.ly\"})});</script>"
      ]
     },
     "metadata": {},
     "output_type": "display_data"
    },
    {
     "name": "stdout",
     "output_type": "stream",
     "text": [
      "\n",
      "\n",
      "\u001b[1mGradientBoosting Classifier\u001b[0m\n",
      "Accuracy of the model for training data is: 0.9258833196384553\n",
      "Confusion Matrix for training data is:\n"
     ]
    },
    {
     "data": {
      "text/plain": [
       "Predicted  False   True  __all__\n",
       "Actual                          \n",
       "False      21574   2766    24340\n",
       "True         842  23498    24340\n",
       "__all__    22416  26264    48680"
      ]
     },
     "metadata": {},
     "output_type": "display_data"
    },
    {
     "name": "stdout",
     "output_type": "stream",
     "text": [
      "Accuracy of the model for test data is: 0.8912634078441005\n",
      "Confusion Matrix for test data is:\n"
     ]
    },
    {
     "data": {
      "text/plain": [
       "Predicted  False  True  __all__\n",
       "Actual                         \n",
       "False       9252  1186    10438\n",
       "True         142  1633     1775\n",
       "__all__     9394  2819    12213"
      ]
     },
     "metadata": {},
     "output_type": "display_data"
    },
    {
     "data": {
      "application/vnd.plotly.v1+json": {
       "config": {
        "linkText": "Export to plot.ly",
        "plotlyServerURL": "https://plot.ly",
        "showLink": true
       },
       "data": [
        {
         "marker": {
          "color": "rgb(158,202,225)",
          "line": {
           "color": "rgb(8,48,107)",
           "width": 1.5
          }
         },
         "opacity": 0.6,
         "orientation": "h",
         "text": [
          0.5675,
          0.1707,
          0.0759,
          0.0417,
          0.0333,
          0.0248,
          0.0125,
          0.0095,
          0.009,
          0.0085,
          0.0079,
          0.0073,
          0.0055,
          0.0052,
          0.0044,
          0.0029,
          0.0022,
          0.0021,
          0.0018,
          0.0015,
          0.0014,
          0.0014,
          0.0011,
          0.001,
          0.0004,
          0.0002
         ],
         "textposition": "outside",
         "type": "bar",
         "uid": "8027db66-5054-4a31-9665-49ab63fdc146",
         "x": [
          0.567523340739156,
          0.17069342988058497,
          0.07589259702130179,
          0.04174155236425339,
          0.033337191745571336,
          0.024812446576922113,
          0.012494151776454696,
          0.009542817550586962,
          0.009044490349412963,
          0.00845446716045292,
          0.007901343345237719,
          0.007326345354486311,
          0.005531694369438092,
          0.005205361971087441,
          0.004449461579782733,
          0.0028895392695073834,
          0.002248899759478703,
          0.002060588826066523,
          0.0018484127239956265,
          0.0014793600014246062,
          0.001401410570001825,
          0.0013950697989372656,
          0.0011410016233867953,
          0.0010141569794906839,
          0.0003688641150653959,
          0.00020200454791568262
         ],
         "y": [
          "total_count",
          "total_href",
          "link_href_out_of_domain",
          "push",
          "meta_count",
          "script_async_true",
          "link_href_http",
          "link_type_text/css",
          "strong_count",
          "center_count",
          "indexOf",
          "a_href_https",
          "a_href_.com",
          "p_count",
          "iframe_src_https",
          "script_src_out_of_domain",
          "window.setTimeout",
          "link_type_application/rsd+xml",
          "link_rel_shortlink",
          "window.addEventListener",
          "get",
          "form_action_http",
          "find",
          "replace",
          "link_href_.css",
          "document.write"
         ]
        }
       ],
       "layout": {
        "autosize": false,
        "height": 1000,
        "width": 1000,
        "xaxis": {
         "tickfont": {
          "color": "black",
          "size": 12
         },
         "title": "Feature Importances"
        },
        "yaxis": {
         "automargin": true
        }
       }
      },
      "text/html": [
       "<div id=\"2e13ce18-72ea-4c92-9bef-6d8c924f41d4\" style=\"height: 1000px; width: 1000px;\" class=\"plotly-graph-div\"></div><script type=\"text/javascript\">require([\"plotly\"], function(Plotly) { window.PLOTLYENV=window.PLOTLYENV || {};window.PLOTLYENV.BASE_URL=\"https://plot.ly\";Plotly.newPlot(\"2e13ce18-72ea-4c92-9bef-6d8c924f41d4\", [{\"marker\": {\"color\": \"rgb(158,202,225)\", \"line\": {\"color\": \"rgb(8,48,107)\", \"width\": 1.5}}, \"opacity\": 0.6, \"orientation\": \"h\", \"text\": [0.5675, 0.1707, 0.0759, 0.0417, 0.0333, 0.0248, 0.0125, 0.0095, 0.009, 0.0085, 0.0079, 0.0073, 0.0055, 0.0052, 0.0044, 0.0029, 0.0022, 0.0021, 0.0018, 0.0015, 0.0014, 0.0014, 0.0011, 0.001, 0.0004, 0.0002], \"textposition\": \"outside\", \"x\": [0.567523340739156, 0.17069342988058497, 0.07589259702130179, 0.04174155236425339, 0.033337191745571336, 0.024812446576922113, 0.012494151776454696, 0.009542817550586962, 0.009044490349412963, 0.00845446716045292, 0.007901343345237719, 0.007326345354486311, 0.005531694369438092, 0.005205361971087441, 0.004449461579782733, 0.0028895392695073834, 0.002248899759478703, 0.002060588826066523, 0.0018484127239956265, 0.0014793600014246062, 0.001401410570001825, 0.0013950697989372656, 0.0011410016233867953, 0.0010141569794906839, 0.0003688641150653959, 0.00020200454791568262], \"y\": [\"total_count\", \"total_href\", \"link_href_out_of_domain\", \"push\", \"meta_count\", \"script_async_true\", \"link_href_http\", \"link_type_text/css\", \"strong_count\", \"center_count\", \"indexOf\", \"a_href_https\", \"a_href_.com\", \"p_count\", \"iframe_src_https\", \"script_src_out_of_domain\", \"window.setTimeout\", \"link_type_application/rsd+xml\", \"link_rel_shortlink\", \"window.addEventListener\", \"get\", \"form_action_http\", \"find\", \"replace\", \"link_href_.css\", \"document.write\"], \"type\": \"bar\", \"uid\": \"8027db66-5054-4a31-9665-49ab63fdc146\"}], {\"autosize\": false, \"height\": 1000, \"width\": 1000, \"xaxis\": {\"tickfont\": {\"color\": \"black\", \"size\": 12}, \"title\": \"Feature Importances\"}, \"yaxis\": {\"automargin\": true}}, {\"showLink\": true, \"linkText\": \"Export to plot.ly\", \"plotlyServerURL\": \"https://plot.ly\"})});</script>"
      ],
      "text/vnd.plotly.v1+html": [
       "<div id=\"2e13ce18-72ea-4c92-9bef-6d8c924f41d4\" style=\"height: 1000px; width: 1000px;\" class=\"plotly-graph-div\"></div><script type=\"text/javascript\">require([\"plotly\"], function(Plotly) { window.PLOTLYENV=window.PLOTLYENV || {};window.PLOTLYENV.BASE_URL=\"https://plot.ly\";Plotly.newPlot(\"2e13ce18-72ea-4c92-9bef-6d8c924f41d4\", [{\"marker\": {\"color\": \"rgb(158,202,225)\", \"line\": {\"color\": \"rgb(8,48,107)\", \"width\": 1.5}}, \"opacity\": 0.6, \"orientation\": \"h\", \"text\": [0.5675, 0.1707, 0.0759, 0.0417, 0.0333, 0.0248, 0.0125, 0.0095, 0.009, 0.0085, 0.0079, 0.0073, 0.0055, 0.0052, 0.0044, 0.0029, 0.0022, 0.0021, 0.0018, 0.0015, 0.0014, 0.0014, 0.0011, 0.001, 0.0004, 0.0002], \"textposition\": \"outside\", \"x\": [0.567523340739156, 0.17069342988058497, 0.07589259702130179, 0.04174155236425339, 0.033337191745571336, 0.024812446576922113, 0.012494151776454696, 0.009542817550586962, 0.009044490349412963, 0.00845446716045292, 0.007901343345237719, 0.007326345354486311, 0.005531694369438092, 0.005205361971087441, 0.004449461579782733, 0.0028895392695073834, 0.002248899759478703, 0.002060588826066523, 0.0018484127239956265, 0.0014793600014246062, 0.001401410570001825, 0.0013950697989372656, 0.0011410016233867953, 0.0010141569794906839, 0.0003688641150653959, 0.00020200454791568262], \"y\": [\"total_count\", \"total_href\", \"link_href_out_of_domain\", \"push\", \"meta_count\", \"script_async_true\", \"link_href_http\", \"link_type_text/css\", \"strong_count\", \"center_count\", \"indexOf\", \"a_href_https\", \"a_href_.com\", \"p_count\", \"iframe_src_https\", \"script_src_out_of_domain\", \"window.setTimeout\", \"link_type_application/rsd+xml\", \"link_rel_shortlink\", \"window.addEventListener\", \"get\", \"form_action_http\", \"find\", \"replace\", \"link_href_.css\", \"document.write\"], \"type\": \"bar\", \"uid\": \"8027db66-5054-4a31-9665-49ab63fdc146\"}], {\"autosize\": false, \"height\": 1000, \"width\": 1000, \"xaxis\": {\"tickfont\": {\"color\": \"black\", \"size\": 12}, \"title\": \"Feature Importances\"}, \"yaxis\": {\"automargin\": true}}, {\"showLink\": true, \"linkText\": \"Export to plot.ly\", \"plotlyServerURL\": \"https://plot.ly\"})});</script>"
      ]
     },
     "metadata": {},
     "output_type": "display_data"
    },
    {
     "name": "stdout",
     "output_type": "stream",
     "text": [
      "\n",
      "\n",
      "\u001b[1mExtraTree Classifier\u001b[0m\n",
      "Accuracy of the model for training data is: 0.953759244042728\n",
      "Confusion Matrix for training data is:\n"
     ]
    },
    {
     "data": {
      "text/plain": [
       "Predicted  False   True  __all__\n",
       "Actual                          \n",
       "False      22300   2040    24340\n",
       "True         211  24129    24340\n",
       "__all__    22511  26169    48680"
      ]
     },
     "metadata": {},
     "output_type": "display_data"
    },
    {
     "name": "stdout",
     "output_type": "stream",
     "text": [
      "Accuracy of the model for test data is: 0.9091951199541473\n",
      "Confusion Matrix for test data is:\n"
     ]
    },
    {
     "data": {
      "text/plain": [
       "Predicted  False  True  __all__\n",
       "Actual                         \n",
       "False       9496   942    10438\n",
       "True         167  1608     1775\n",
       "__all__     9663  2550    12213"
      ]
     },
     "metadata": {},
     "output_type": "display_data"
    },
    {
     "data": {
      "application/vnd.plotly.v1+json": {
       "config": {
        "linkText": "Export to plot.ly",
        "plotlyServerURL": "https://plot.ly",
        "showLink": true
       },
       "data": [
        {
         "marker": {
          "color": "rgb(158,202,225)",
          "line": {
           "color": "rgb(8,48,107)",
           "width": 1.5
          }
         },
         "opacity": 0.6,
         "orientation": "h",
         "text": [
          0.1246,
          0.0974,
          0.0909,
          0.0909,
          0.0751,
          0.075,
          0.0669,
          0.0638,
          0.0437,
          0.036,
          0.022,
          0.0217,
          0.0211,
          0.0209,
          0.0206,
          0.0197,
          0.0186,
          0.0174,
          0.017,
          0.0134,
          0.0128,
          0.0095,
          0.0065,
          0.0062,
          0.0049,
          0.0034
         ],
         "textposition": "outside",
         "type": "bar",
         "uid": "06c52105-1675-4c1a-a403-13396cb46e9e",
         "x": [
          0.12461948937396874,
          0.09740622838836503,
          0.09092206995903084,
          0.0908576340267633,
          0.07514375998617587,
          0.07504783292084655,
          0.06686878974649461,
          0.06375315354055294,
          0.04372802063842068,
          0.036003116084477794,
          0.022003925228218008,
          0.021678943729447866,
          0.02107089837949722,
          0.02089313511444179,
          0.020607911737639966,
          0.01972259338717292,
          0.018595420322683305,
          0.017420254114815834,
          0.01700746572196208,
          0.013406693013920126,
          0.012765721453245404,
          0.00947774655717607,
          0.00649071638611475,
          0.006234827105587821,
          0.004889599619634519,
          0.003384053463345952
         ],
         "y": [
          "script_async_true",
          "a_href_https",
          "p_count",
          "total_count",
          "meta_count",
          "link_href_out_of_domain",
          "link_type_text/css",
          "total_href",
          "link_href_.css",
          "script_src_out_of_domain",
          "push",
          "iframe_src_https",
          "replace",
          "indexOf",
          "window.addEventListener",
          "form_action_http",
          "link_href_http",
          "center_count",
          "get",
          "strong_count",
          "link_type_application/rsd+xml",
          "link_rel_shortlink",
          "document.write",
          "a_href_.com",
          "find",
          "window.setTimeout"
         ]
        }
       ],
       "layout": {
        "autosize": false,
        "height": 1000,
        "width": 1000,
        "xaxis": {
         "tickfont": {
          "color": "black",
          "size": 12
         },
         "title": "Feature Importances"
        },
        "yaxis": {
         "automargin": true
        }
       }
      },
      "text/html": [
       "<div id=\"cebcf7e1-4255-4964-b5ed-77adcc11cac1\" style=\"height: 1000px; width: 1000px;\" class=\"plotly-graph-div\"></div><script type=\"text/javascript\">require([\"plotly\"], function(Plotly) { window.PLOTLYENV=window.PLOTLYENV || {};window.PLOTLYENV.BASE_URL=\"https://plot.ly\";Plotly.newPlot(\"cebcf7e1-4255-4964-b5ed-77adcc11cac1\", [{\"marker\": {\"color\": \"rgb(158,202,225)\", \"line\": {\"color\": \"rgb(8,48,107)\", \"width\": 1.5}}, \"opacity\": 0.6, \"orientation\": \"h\", \"text\": [0.1246, 0.0974, 0.0909, 0.0909, 0.0751, 0.075, 0.0669, 0.0638, 0.0437, 0.036, 0.022, 0.0217, 0.0211, 0.0209, 0.0206, 0.0197, 0.0186, 0.0174, 0.017, 0.0134, 0.0128, 0.0095, 0.0065, 0.0062, 0.0049, 0.0034], \"textposition\": \"outside\", \"x\": [0.12461948937396874, 0.09740622838836503, 0.09092206995903084, 0.0908576340267633, 0.07514375998617587, 0.07504783292084655, 0.06686878974649461, 0.06375315354055294, 0.04372802063842068, 0.036003116084477794, 0.022003925228218008, 0.021678943729447866, 0.02107089837949722, 0.02089313511444179, 0.020607911737639966, 0.01972259338717292, 0.018595420322683305, 0.017420254114815834, 0.01700746572196208, 0.013406693013920126, 0.012765721453245404, 0.00947774655717607, 0.00649071638611475, 0.006234827105587821, 0.004889599619634519, 0.003384053463345952], \"y\": [\"script_async_true\", \"a_href_https\", \"p_count\", \"total_count\", \"meta_count\", \"link_href_out_of_domain\", \"link_type_text/css\", \"total_href\", \"link_href_.css\", \"script_src_out_of_domain\", \"push\", \"iframe_src_https\", \"replace\", \"indexOf\", \"window.addEventListener\", \"form_action_http\", \"link_href_http\", \"center_count\", \"get\", \"strong_count\", \"link_type_application/rsd+xml\", \"link_rel_shortlink\", \"document.write\", \"a_href_.com\", \"find\", \"window.setTimeout\"], \"type\": \"bar\", \"uid\": \"06c52105-1675-4c1a-a403-13396cb46e9e\"}], {\"autosize\": false, \"height\": 1000, \"width\": 1000, \"xaxis\": {\"tickfont\": {\"color\": \"black\", \"size\": 12}, \"title\": \"Feature Importances\"}, \"yaxis\": {\"automargin\": true}}, {\"showLink\": true, \"linkText\": \"Export to plot.ly\", \"plotlyServerURL\": \"https://plot.ly\"})});</script>"
      ],
      "text/vnd.plotly.v1+html": [
       "<div id=\"cebcf7e1-4255-4964-b5ed-77adcc11cac1\" style=\"height: 1000px; width: 1000px;\" class=\"plotly-graph-div\"></div><script type=\"text/javascript\">require([\"plotly\"], function(Plotly) { window.PLOTLYENV=window.PLOTLYENV || {};window.PLOTLYENV.BASE_URL=\"https://plot.ly\";Plotly.newPlot(\"cebcf7e1-4255-4964-b5ed-77adcc11cac1\", [{\"marker\": {\"color\": \"rgb(158,202,225)\", \"line\": {\"color\": \"rgb(8,48,107)\", \"width\": 1.5}}, \"opacity\": 0.6, \"orientation\": \"h\", \"text\": [0.1246, 0.0974, 0.0909, 0.0909, 0.0751, 0.075, 0.0669, 0.0638, 0.0437, 0.036, 0.022, 0.0217, 0.0211, 0.0209, 0.0206, 0.0197, 0.0186, 0.0174, 0.017, 0.0134, 0.0128, 0.0095, 0.0065, 0.0062, 0.0049, 0.0034], \"textposition\": \"outside\", \"x\": [0.12461948937396874, 0.09740622838836503, 0.09092206995903084, 0.0908576340267633, 0.07514375998617587, 0.07504783292084655, 0.06686878974649461, 0.06375315354055294, 0.04372802063842068, 0.036003116084477794, 0.022003925228218008, 0.021678943729447866, 0.02107089837949722, 0.02089313511444179, 0.020607911737639966, 0.01972259338717292, 0.018595420322683305, 0.017420254114815834, 0.01700746572196208, 0.013406693013920126, 0.012765721453245404, 0.00947774655717607, 0.00649071638611475, 0.006234827105587821, 0.004889599619634519, 0.003384053463345952], \"y\": [\"script_async_true\", \"a_href_https\", \"p_count\", \"total_count\", \"meta_count\", \"link_href_out_of_domain\", \"link_type_text/css\", \"total_href\", \"link_href_.css\", \"script_src_out_of_domain\", \"push\", \"iframe_src_https\", \"replace\", \"indexOf\", \"window.addEventListener\", \"form_action_http\", \"link_href_http\", \"center_count\", \"get\", \"strong_count\", \"link_type_application/rsd+xml\", \"link_rel_shortlink\", \"document.write\", \"a_href_.com\", \"find\", \"window.setTimeout\"], \"type\": \"bar\", \"uid\": \"06c52105-1675-4c1a-a403-13396cb46e9e\"}], {\"autosize\": false, \"height\": 1000, \"width\": 1000, \"xaxis\": {\"tickfont\": {\"color\": \"black\", \"size\": 12}, \"title\": \"Feature Importances\"}, \"yaxis\": {\"automargin\": true}}, {\"showLink\": true, \"linkText\": \"Export to plot.ly\", \"plotlyServerURL\": \"https://plot.ly\"})});</script>"
      ]
     },
     "metadata": {},
     "output_type": "display_data"
    },
    {
     "name": "stdout",
     "output_type": "stream",
     "text": [
      "\n",
      "\n",
      "\u001b[1mBagging Classifier\u001b[0m\n",
      "Accuracy of the model for training data is: 0.9527321281840592\n",
      "Confusion Matrix for training data is:\n"
     ]
    },
    {
     "data": {
      "text/plain": [
       "Predicted  False   True  __all__\n",
       "Actual                          \n",
       "False      22293   2047    24340\n",
       "True         254  24086    24340\n",
       "__all__    22547  26133    48680"
      ]
     },
     "metadata": {},
     "output_type": "display_data"
    },
    {
     "name": "stdout",
     "output_type": "stream",
     "text": [
      "Accuracy of the model for test data is: 0.9059199213952346\n",
      "Confusion Matrix for test data is:\n"
     ]
    },
    {
     "data": {
      "text/plain": [
       "Predicted  False  True  __all__\n",
       "Actual                         \n",
       "False       9447   991    10438\n",
       "True         158  1617     1775\n",
       "__all__     9605  2608    12213"
      ]
     },
     "metadata": {},
     "output_type": "display_data"
    },
    {
     "name": "stdout",
     "output_type": "stream",
     "text": [
      "\n",
      "\n",
      "\u001b[1mNeural Network-1\u001b[0m\n",
      "The accuracy of the model on training data is: 0.9372843056696796\n"
     ]
    },
    {
     "data": {
      "text/plain": [
       "Predicted  False   True  __all__\n",
       "Actual                          \n",
       "False      21555   2785    24340\n",
       "True         268  24072    24340\n",
       "__all__    21823  26857    48680"
      ]
     },
     "metadata": {},
     "output_type": "display_data"
    },
    {
     "name": "stdout",
     "output_type": "stream",
     "text": [
      "The accuracy of the model on test data is: 0.8852042905101122\n"
     ]
    },
    {
     "data": {
      "text/plain": [
       "Predicted  False  True  __all__\n",
       "Actual                         \n",
       "False       9157  1281    10438\n",
       "True         121  1654     1775\n",
       "__all__     9278  2935    12213"
      ]
     },
     "metadata": {},
     "output_type": "display_data"
    },
    {
     "name": "stdout",
     "output_type": "stream",
     "text": [
      "\n",
      "\n"
     ]
    }
   ],
   "source": [
    "## Table to store training and test measures so we can compare later\n",
    "table_80_80_train=pd.DataFrame(columns=['accuracy','TP','TN','FP','FN','FPR','FNR'])\n",
    "table_80_80_test=pd.DataFrame(columns=['accuracy','TP','TN','FP','FN','FPR','FNR','auc','mcc'])\n",
    "\n",
    "feat_imp=[None]*4\n",
    "j=0\n",
    "for i in range(0,8):\n",
    "    if i>=2 and i<=5:\n",
    "        model,cm_train,cm_test,acc_train,acc_test,roc_auc,feat_imp[j],mcc=f[i](X_train,Y_train,scaled_X_test,test_Y,columns)\n",
    "        j=j+1\n",
    "    else:\n",
    "        model,cm_train,cm_test,acc_train,acc_test,roc_auc,mcc=f[i](X_train,Y_train,scaled_X_test,test_Y)\n",
    "    table_80_80_train.loc[i]=   ([acc_train,cm_train.TP,cm_train.TN,cm_train.FP,cm_train.FN,cm_train.FPR,cm_train.FNR])\n",
    "    table_80_80_test.loc[i] =   ([acc_test ,cm_test.TP, cm_test.TN, cm_test.FP, cm_test.FN, cm_test.FPR, cm_test.FNR,roc_auc,mcc])\n",
    "    print(\"\\n\")"
   ]
  },
  {
   "cell_type": "markdown",
   "metadata": {},
   "source": [
    "### <a id='2.A' style=\"text-decoration : none; color : #000000;\"> A Results</a>"
   ]
  },
  {
   "cell_type": "code",
   "execution_count": 22,
   "metadata": {},
   "outputs": [
    {
     "data": {
      "application/vnd.plotly.v1+json": {
       "config": {
        "linkText": "Export to plot.ly",
        "plotlyServerURL": "https://plot.ly",
        "showLink": true
       },
       "data": [
        {
         "mode": "lines",
         "name": "KNN_model",
         "type": "scatter",
         "uid": "5117c844-c815-4231-ae83-951ce5fe9a3d",
         "x": [
          "accuracy",
          "FPR",
          "FNR",
          "auc"
         ],
         "y": [
          0.8838123311225743,
          0.12176662195822954,
          0.08338028169014085,
          0.8974265481758148
         ]
        },
        {
         "mode": "lines+markers",
         "name": "Logistic Regression",
         "type": "scatter",
         "uid": "ebf8c03d-451d-45c9-bb76-ac1ff1248b02",
         "x": [
          "accuracy",
          "FPR",
          "FNR",
          "auc"
         ],
         "y": [
          0.8421354294604111,
          0.1761831768538034,
          0.05014084507042253,
          0.8868379890378871
         ]
        },
        {
         "marker": {
          "symbol": "x"
         },
         "mode": "lines+markers",
         "name": "Random Forest",
         "type": "scatter",
         "uid": "56cfe46a-0831-4109-bc0c-45436cbee228",
         "x": [
          "accuracy",
          "FPR",
          "FNR",
          "auc"
         ],
         "y": [
          0.9085400802423647,
          0.09149262310787507,
          0.09126760563380282,
          0.908619885629161
         ]
        },
        {
         "mode": "lines",
         "name": "Ada Boost",
         "type": "scatter",
         "uid": "2f021947-3366-443d-9bf0-4843fcea0e81",
         "x": [
          "accuracy",
          "FPR",
          "FNR",
          "auc"
         ],
         "y": [
          0.8722672562024073,
          0.13786165932170913,
          0.06816901408450704,
          0.8969846632968919
         ]
        },
        {
         "mode": "lines+markers",
         "name": "GradientBoosting",
         "type": "scatter",
         "uid": "7d273a2a-5eb4-4b20-9780-8658791ad0db",
         "x": [
          "accuracy",
          "FPR",
          "FNR",
          "auc"
         ],
         "y": [
          0.8912634078441005,
          0.1136232994826595,
          0.08,
          0.9031883502586703
         ]
        },
        {
         "marker": {
          "symbol": "x"
         },
         "mode": "lines+markers",
         "name": "ExtraTree Classifier",
         "type": "scatter",
         "uid": "342c5875-ce63-4a0b-ab38-e275d56ca56f",
         "x": [
          "accuracy",
          "FPR",
          "FNR",
          "auc"
         ],
         "y": [
          0.9091951199541473,
          0.090247173788082,
          0.09408450704225352,
          0.9078341595848322
         ]
        },
        {
         "marker": {
          "symbol": "x"
         },
         "mode": "lines+markers",
         "name": "Bagging",
         "type": "scatter",
         "uid": "bce2d2ce-3335-4717-9eb5-4856fe6ca810",
         "x": [
          "accuracy",
          "FPR",
          "FNR",
          "auc"
         ],
         "y": [
          0.9059199213952346,
          0.09494155968576355,
          0.08901408450704225,
          0.908022177903597
         ]
        },
        {
         "marker": {
          "symbol": "x"
         },
         "mode": "lines+markers",
         "name": "Neural Network",
         "type": "scatter",
         "uid": "bb9c6f6c-b605-48ad-9774-9ba60531dfe9",
         "x": [
          "accuracy",
          "FPR",
          "FNR",
          "auc"
         ],
         "y": [
          0.8852042905101122,
          0.1227246598965319,
          0.06816901408450704,
          0.9045531630094805
         ]
        }
       ],
       "layout": {
        "title": "Result comparision for Features selected in Section 1",
        "yaxis": {
         "dtick": 0.05,
         "tick0": 0
        }
       }
      },
      "text/html": [
       "<div id=\"5bc91b68-cbd9-4081-87fa-ac74352c12b1\" style=\"height: 525px; width: 100%;\" class=\"plotly-graph-div\"></div><script type=\"text/javascript\">require([\"plotly\"], function(Plotly) { window.PLOTLYENV=window.PLOTLYENV || {};window.PLOTLYENV.BASE_URL=\"https://plot.ly\";Plotly.newPlot(\"5bc91b68-cbd9-4081-87fa-ac74352c12b1\", [{\"mode\": \"lines\", \"name\": \"KNN_model\", \"x\": [\"accuracy\", \"FPR\", \"FNR\", \"auc\"], \"y\": [0.8838123311225743, 0.12176662195822954, 0.08338028169014085, 0.8974265481758148], \"type\": \"scatter\", \"uid\": \"5117c844-c815-4231-ae83-951ce5fe9a3d\"}, {\"mode\": \"lines+markers\", \"name\": \"Logistic Regression\", \"x\": [\"accuracy\", \"FPR\", \"FNR\", \"auc\"], \"y\": [0.8421354294604111, 0.1761831768538034, 0.05014084507042253, 0.8868379890378871], \"type\": \"scatter\", \"uid\": \"ebf8c03d-451d-45c9-bb76-ac1ff1248b02\"}, {\"marker\": {\"symbol\": \"x\"}, \"mode\": \"lines+markers\", \"name\": \"Random Forest\", \"x\": [\"accuracy\", \"FPR\", \"FNR\", \"auc\"], \"y\": [0.9085400802423647, 0.09149262310787507, 0.09126760563380282, 0.908619885629161], \"type\": \"scatter\", \"uid\": \"56cfe46a-0831-4109-bc0c-45436cbee228\"}, {\"mode\": \"lines\", \"name\": \"Ada Boost\", \"x\": [\"accuracy\", \"FPR\", \"FNR\", \"auc\"], \"y\": [0.8722672562024073, 0.13786165932170913, 0.06816901408450704, 0.8969846632968919], \"type\": \"scatter\", \"uid\": \"2f021947-3366-443d-9bf0-4843fcea0e81\"}, {\"mode\": \"lines+markers\", \"name\": \"GradientBoosting\", \"x\": [\"accuracy\", \"FPR\", \"FNR\", \"auc\"], \"y\": [0.8912634078441005, 0.1136232994826595, 0.08, 0.9031883502586703], \"type\": \"scatter\", \"uid\": \"7d273a2a-5eb4-4b20-9780-8658791ad0db\"}, {\"marker\": {\"symbol\": \"x\"}, \"mode\": \"lines+markers\", \"name\": \"ExtraTree Classifier\", \"x\": [\"accuracy\", \"FPR\", \"FNR\", \"auc\"], \"y\": [0.9091951199541473, 0.090247173788082, 0.09408450704225352, 0.9078341595848322], \"type\": \"scatter\", \"uid\": \"342c5875-ce63-4a0b-ab38-e275d56ca56f\"}, {\"marker\": {\"symbol\": \"x\"}, \"mode\": \"lines+markers\", \"name\": \"Bagging\", \"x\": [\"accuracy\", \"FPR\", \"FNR\", \"auc\"], \"y\": [0.9059199213952346, 0.09494155968576355, 0.08901408450704225, 0.908022177903597], \"type\": \"scatter\", \"uid\": \"bce2d2ce-3335-4717-9eb5-4856fe6ca810\"}, {\"marker\": {\"symbol\": \"x\"}, \"mode\": \"lines+markers\", \"name\": \"Neural Network\", \"x\": [\"accuracy\", \"FPR\", \"FNR\", \"auc\"], \"y\": [0.8852042905101122, 0.1227246598965319, 0.06816901408450704, 0.9045531630094805], \"type\": \"scatter\", \"uid\": \"bb9c6f6c-b605-48ad-9774-9ba60531dfe9\"}], {\"title\": \"Result comparision for Features selected in Section 1\", \"yaxis\": {\"dtick\": 0.05, \"tick0\": 0}}, {\"showLink\": true, \"linkText\": \"Export to plot.ly\", \"plotlyServerURL\": \"https://plot.ly\"})});</script><script type=\"text/javascript\">window.addEventListener(\"resize\", function(){window._Plotly.Plots.resize(document.getElementById(\"5bc91b68-cbd9-4081-87fa-ac74352c12b1\"));});</script>"
      ],
      "text/vnd.plotly.v1+html": [
       "<div id=\"5bc91b68-cbd9-4081-87fa-ac74352c12b1\" style=\"height: 525px; width: 100%;\" class=\"plotly-graph-div\"></div><script type=\"text/javascript\">require([\"plotly\"], function(Plotly) { window.PLOTLYENV=window.PLOTLYENV || {};window.PLOTLYENV.BASE_URL=\"https://plot.ly\";Plotly.newPlot(\"5bc91b68-cbd9-4081-87fa-ac74352c12b1\", [{\"mode\": \"lines\", \"name\": \"KNN_model\", \"x\": [\"accuracy\", \"FPR\", \"FNR\", \"auc\"], \"y\": [0.8838123311225743, 0.12176662195822954, 0.08338028169014085, 0.8974265481758148], \"type\": \"scatter\", \"uid\": \"5117c844-c815-4231-ae83-951ce5fe9a3d\"}, {\"mode\": \"lines+markers\", \"name\": \"Logistic Regression\", \"x\": [\"accuracy\", \"FPR\", \"FNR\", \"auc\"], \"y\": [0.8421354294604111, 0.1761831768538034, 0.05014084507042253, 0.8868379890378871], \"type\": \"scatter\", \"uid\": \"ebf8c03d-451d-45c9-bb76-ac1ff1248b02\"}, {\"marker\": {\"symbol\": \"x\"}, \"mode\": \"lines+markers\", \"name\": \"Random Forest\", \"x\": [\"accuracy\", \"FPR\", \"FNR\", \"auc\"], \"y\": [0.9085400802423647, 0.09149262310787507, 0.09126760563380282, 0.908619885629161], \"type\": \"scatter\", \"uid\": \"56cfe46a-0831-4109-bc0c-45436cbee228\"}, {\"mode\": \"lines\", \"name\": \"Ada Boost\", \"x\": [\"accuracy\", \"FPR\", \"FNR\", \"auc\"], \"y\": [0.8722672562024073, 0.13786165932170913, 0.06816901408450704, 0.8969846632968919], \"type\": \"scatter\", \"uid\": \"2f021947-3366-443d-9bf0-4843fcea0e81\"}, {\"mode\": \"lines+markers\", \"name\": \"GradientBoosting\", \"x\": [\"accuracy\", \"FPR\", \"FNR\", \"auc\"], \"y\": [0.8912634078441005, 0.1136232994826595, 0.08, 0.9031883502586703], \"type\": \"scatter\", \"uid\": \"7d273a2a-5eb4-4b20-9780-8658791ad0db\"}, {\"marker\": {\"symbol\": \"x\"}, \"mode\": \"lines+markers\", \"name\": \"ExtraTree Classifier\", \"x\": [\"accuracy\", \"FPR\", \"FNR\", \"auc\"], \"y\": [0.9091951199541473, 0.090247173788082, 0.09408450704225352, 0.9078341595848322], \"type\": \"scatter\", \"uid\": \"342c5875-ce63-4a0b-ab38-e275d56ca56f\"}, {\"marker\": {\"symbol\": \"x\"}, \"mode\": \"lines+markers\", \"name\": \"Bagging\", \"x\": [\"accuracy\", \"FPR\", \"FNR\", \"auc\"], \"y\": [0.9059199213952346, 0.09494155968576355, 0.08901408450704225, 0.908022177903597], \"type\": \"scatter\", \"uid\": \"bce2d2ce-3335-4717-9eb5-4856fe6ca810\"}, {\"marker\": {\"symbol\": \"x\"}, \"mode\": \"lines+markers\", \"name\": \"Neural Network\", \"x\": [\"accuracy\", \"FPR\", \"FNR\", \"auc\"], \"y\": [0.8852042905101122, 0.1227246598965319, 0.06816901408450704, 0.9045531630094805], \"type\": \"scatter\", \"uid\": \"bb9c6f6c-b605-48ad-9774-9ba60531dfe9\"}], {\"title\": \"Result comparision for Features selected in Section 1\", \"yaxis\": {\"dtick\": 0.05, \"tick0\": 0}}, {\"showLink\": true, \"linkText\": \"Export to plot.ly\", \"plotlyServerURL\": \"https://plot.ly\"})});</script><script type=\"text/javascript\">window.addEventListener(\"resize\", function(){window._Plotly.Plots.resize(document.getElementById(\"5bc91b68-cbd9-4081-87fa-ac74352c12b1\"));});</script>"
      ]
     },
     "metadata": {},
     "output_type": "display_data"
    }
   ],
   "source": [
    "trace0 = go.Scatter(x=table_80_80_test.iloc[0].index.values[[0,5,6,7]],\n",
    "                    y=table_80_80_test.iloc[0].values[[0,5,6,7]],\n",
    "                    mode = 'lines',\n",
    "                    name = 'KNN_model')\n",
    "\n",
    "trace1 = go.Scatter(x=table_80_80_test.iloc[1].index.values[[0,5,6,7]],\n",
    "                    y=table_80_80_test.iloc[1].values[[0,5,6,7]],\n",
    "                    mode = 'lines+markers',\n",
    "                    name = 'Logistic Regression')\n",
    "\n",
    "trace2 = go.Scatter(x=table_80_80_test.iloc[2].index.values[[0,5,6,7]],\n",
    "                    y=table_80_80_test.iloc[2].values[[0,5,6,7]],\n",
    "                    mode = 'lines+markers',marker=dict(symbol='x'),\n",
    "                    name = 'Random Forest')\n",
    "\n",
    "\n",
    "trace3 = go.Scatter(x=table_80_80_test.iloc[3].index.values[[0,5,6,7]],\n",
    "                    y=table_80_80_test.iloc[3].values[[0,5,6,7]],\n",
    "                    mode = 'lines',\n",
    "                    name = 'Ada Boost')\n",
    "\n",
    "trace4 = go.Scatter(x=table_80_80_test.iloc[4].index.values[[0,5,6,7]],\n",
    "                    y=table_80_80_test.iloc[4].values[[0,5,6,7]],\n",
    "                    mode = 'lines+markers',\n",
    "                    name = 'GradientBoosting')\n",
    "\n",
    "trace5 = go.Scatter(x=table_80_80_test.iloc[5].index.values[[0,5,6,7]],\n",
    "                    y=table_80_80_test.iloc[5].values[[0,5,6,7]],\n",
    "                    mode = 'lines+markers',marker=dict(symbol='x'),\n",
    "                    name = 'ExtraTree Classifier')\n",
    "\n",
    "trace6 = go.Scatter(x=table_80_80_test.iloc[6].index.values[[0,5,6,7]],\n",
    "                    y=table_80_80_test.iloc[6].values[[0,5,6,7]],\n",
    "                    mode = 'lines+markers',marker=dict(symbol='x'),\n",
    "                    name = 'Bagging')\n",
    "\n",
    "trace7 = go.Scatter(x=table_80_80_test.iloc[7].index.values[[0,5,6,7]],\n",
    "                    y=table_80_80_test.iloc[7].values[[0,5,6,7]],\n",
    "                    mode = 'lines+markers',marker=dict(symbol='x'),\n",
    "                    name = 'Neural Network')\n",
    "\n",
    "\n",
    "\n",
    "data = [trace0, trace1, trace2, trace3, trace4, trace5, trace6, trace7]\n",
    "layout = go.Layout(yaxis=dict(tick0=0,dtick=0.05),title='Result comparision for Features selected in Section 1')\n",
    "fig = go.Figure(data=data, layout=layout)\n",
    "\n",
    "iplot(fig, filename='Result')"
   ]
  },
  {
   "cell_type": "code",
   "execution_count": 23,
   "metadata": {},
   "outputs": [
    {
     "name": "stdout",
     "output_type": "stream",
     "text": [
      "Training Results\n"
     ]
    },
    {
     "data": {
      "text/html": [
       "<div>\n",
       "<style scoped>\n",
       "    .dataframe tbody tr th:only-of-type {\n",
       "        vertical-align: middle;\n",
       "    }\n",
       "\n",
       "    .dataframe tbody tr th {\n",
       "        vertical-align: top;\n",
       "    }\n",
       "\n",
       "    .dataframe thead th {\n",
       "        text-align: right;\n",
       "    }\n",
       "</style>\n",
       "<table border=\"1\" class=\"dataframe\">\n",
       "  <thead>\n",
       "    <tr style=\"text-align: right;\">\n",
       "      <th></th>\n",
       "      <th>accuracy</th>\n",
       "      <th>TP</th>\n",
       "      <th>TN</th>\n",
       "      <th>FP</th>\n",
       "      <th>FN</th>\n",
       "      <th>FPR</th>\n",
       "      <th>FNR</th>\n",
       "    </tr>\n",
       "    <tr>\n",
       "      <th>index</th>\n",
       "      <th></th>\n",
       "      <th></th>\n",
       "      <th></th>\n",
       "      <th></th>\n",
       "      <th></th>\n",
       "      <th></th>\n",
       "      <th></th>\n",
       "    </tr>\n",
       "  </thead>\n",
       "  <tbody>\n",
       "    <tr>\n",
       "      <th>KNeighborsClassifier</th>\n",
       "      <td>0.934840</td>\n",
       "      <td>23680.0</td>\n",
       "      <td>21828.0</td>\n",
       "      <td>2512.0</td>\n",
       "      <td>660.0</td>\n",
       "      <td>0.103205</td>\n",
       "      <td>0.027116</td>\n",
       "    </tr>\n",
       "    <tr>\n",
       "      <th>LogisticRegression</th>\n",
       "      <td>0.889606</td>\n",
       "      <td>23363.0</td>\n",
       "      <td>19943.0</td>\n",
       "      <td>4397.0</td>\n",
       "      <td>977.0</td>\n",
       "      <td>0.180649</td>\n",
       "      <td>0.040140</td>\n",
       "    </tr>\n",
       "    <tr>\n",
       "      <th>RandomForestClassifier</th>\n",
       "      <td>0.953040</td>\n",
       "      <td>24101.0</td>\n",
       "      <td>22293.0</td>\n",
       "      <td>2047.0</td>\n",
       "      <td>239.0</td>\n",
       "      <td>0.084100</td>\n",
       "      <td>0.009819</td>\n",
       "    </tr>\n",
       "    <tr>\n",
       "      <th>AdaBoostClassifier</th>\n",
       "      <td>0.906574</td>\n",
       "      <td>23167.0</td>\n",
       "      <td>20965.0</td>\n",
       "      <td>3375.0</td>\n",
       "      <td>1173.0</td>\n",
       "      <td>0.138661</td>\n",
       "      <td>0.048192</td>\n",
       "    </tr>\n",
       "    <tr>\n",
       "      <th>GradientBoostingClassifier</th>\n",
       "      <td>0.925883</td>\n",
       "      <td>23498.0</td>\n",
       "      <td>21574.0</td>\n",
       "      <td>2766.0</td>\n",
       "      <td>842.0</td>\n",
       "      <td>0.113640</td>\n",
       "      <td>0.034593</td>\n",
       "    </tr>\n",
       "    <tr>\n",
       "      <th>ExtraTreeClassifier</th>\n",
       "      <td>0.953759</td>\n",
       "      <td>24129.0</td>\n",
       "      <td>22300.0</td>\n",
       "      <td>2040.0</td>\n",
       "      <td>211.0</td>\n",
       "      <td>0.083813</td>\n",
       "      <td>0.008669</td>\n",
       "    </tr>\n",
       "    <tr>\n",
       "      <th>BaggingClassifier</th>\n",
       "      <td>0.952732</td>\n",
       "      <td>24086.0</td>\n",
       "      <td>22293.0</td>\n",
       "      <td>2047.0</td>\n",
       "      <td>254.0</td>\n",
       "      <td>0.084100</td>\n",
       "      <td>0.010435</td>\n",
       "    </tr>\n",
       "    <tr>\n",
       "      <th>Neural Network-1</th>\n",
       "      <td>0.937284</td>\n",
       "      <td>24072.0</td>\n",
       "      <td>21555.0</td>\n",
       "      <td>2785.0</td>\n",
       "      <td>268.0</td>\n",
       "      <td>0.114421</td>\n",
       "      <td>0.011011</td>\n",
       "    </tr>\n",
       "  </tbody>\n",
       "</table>\n",
       "</div>"
      ],
      "text/plain": [
       "                            accuracy       TP       TN      FP      FN  \\\n",
       "index                                                                    \n",
       "KNeighborsClassifier        0.934840  23680.0  21828.0  2512.0   660.0   \n",
       "LogisticRegression          0.889606  23363.0  19943.0  4397.0   977.0   \n",
       "RandomForestClassifier      0.953040  24101.0  22293.0  2047.0   239.0   \n",
       "AdaBoostClassifier          0.906574  23167.0  20965.0  3375.0  1173.0   \n",
       "GradientBoostingClassifier  0.925883  23498.0  21574.0  2766.0   842.0   \n",
       "ExtraTreeClassifier         0.953759  24129.0  22300.0  2040.0   211.0   \n",
       "BaggingClassifier           0.952732  24086.0  22293.0  2047.0   254.0   \n",
       "Neural Network-1            0.937284  24072.0  21555.0  2785.0   268.0   \n",
       "\n",
       "                                 FPR       FNR  \n",
       "index                                           \n",
       "KNeighborsClassifier        0.103205  0.027116  \n",
       "LogisticRegression          0.180649  0.040140  \n",
       "RandomForestClassifier      0.084100  0.009819  \n",
       "AdaBoostClassifier          0.138661  0.048192  \n",
       "GradientBoostingClassifier  0.113640  0.034593  \n",
       "ExtraTreeClassifier         0.083813  0.008669  \n",
       "BaggingClassifier           0.084100  0.010435  \n",
       "Neural Network-1            0.114421  0.011011  "
      ]
     },
     "metadata": {},
     "output_type": "display_data"
    },
    {
     "name": "stdout",
     "output_type": "stream",
     "text": [
      "Test Results\n"
     ]
    },
    {
     "data": {
      "text/html": [
       "<div>\n",
       "<style scoped>\n",
       "    .dataframe tbody tr th:only-of-type {\n",
       "        vertical-align: middle;\n",
       "    }\n",
       "\n",
       "    .dataframe tbody tr th {\n",
       "        vertical-align: top;\n",
       "    }\n",
       "\n",
       "    .dataframe thead th {\n",
       "        text-align: right;\n",
       "    }\n",
       "</style>\n",
       "<table border=\"1\" class=\"dataframe\">\n",
       "  <thead>\n",
       "    <tr style=\"text-align: right;\">\n",
       "      <th></th>\n",
       "      <th>accuracy</th>\n",
       "      <th>TP</th>\n",
       "      <th>TN</th>\n",
       "      <th>FP</th>\n",
       "      <th>FN</th>\n",
       "      <th>FPR</th>\n",
       "      <th>FNR</th>\n",
       "      <th>auc</th>\n",
       "      <th>mcc</th>\n",
       "    </tr>\n",
       "    <tr>\n",
       "      <th>index</th>\n",
       "      <th></th>\n",
       "      <th></th>\n",
       "      <th></th>\n",
       "      <th></th>\n",
       "      <th></th>\n",
       "      <th></th>\n",
       "      <th></th>\n",
       "      <th></th>\n",
       "      <th></th>\n",
       "    </tr>\n",
       "  </thead>\n",
       "  <tbody>\n",
       "    <tr>\n",
       "      <th>KNeighborsClassifier</th>\n",
       "      <td>0.883812</td>\n",
       "      <td>1627.0</td>\n",
       "      <td>9167.0</td>\n",
       "      <td>1271.0</td>\n",
       "      <td>148.0</td>\n",
       "      <td>0.121767</td>\n",
       "      <td>0.083380</td>\n",
       "      <td>0.897427</td>\n",
       "      <td>0.658497</td>\n",
       "    </tr>\n",
       "    <tr>\n",
       "      <th>LogisticRegression</th>\n",
       "      <td>0.842135</td>\n",
       "      <td>1686.0</td>\n",
       "      <td>8599.0</td>\n",
       "      <td>1839.0</td>\n",
       "      <td>89.0</td>\n",
       "      <td>0.176183</td>\n",
       "      <td>0.050141</td>\n",
       "      <td>0.886838</td>\n",
       "      <td>0.601766</td>\n",
       "    </tr>\n",
       "    <tr>\n",
       "      <th>RandomForestClassifier</th>\n",
       "      <td>0.908540</td>\n",
       "      <td>1613.0</td>\n",
       "      <td>9483.0</td>\n",
       "      <td>955.0</td>\n",
       "      <td>162.0</td>\n",
       "      <td>0.091493</td>\n",
       "      <td>0.091268</td>\n",
       "      <td>0.908620</td>\n",
       "      <td>0.706820</td>\n",
       "    </tr>\n",
       "    <tr>\n",
       "      <th>AdaBoostClassifier</th>\n",
       "      <td>0.872267</td>\n",
       "      <td>1654.0</td>\n",
       "      <td>8999.0</td>\n",
       "      <td>1439.0</td>\n",
       "      <td>121.0</td>\n",
       "      <td>0.137862</td>\n",
       "      <td>0.068169</td>\n",
       "      <td>0.896985</td>\n",
       "      <td>0.643464</td>\n",
       "    </tr>\n",
       "    <tr>\n",
       "      <th>GradientBoostingClassifier</th>\n",
       "      <td>0.891263</td>\n",
       "      <td>1633.0</td>\n",
       "      <td>9252.0</td>\n",
       "      <td>1186.0</td>\n",
       "      <td>142.0</td>\n",
       "      <td>0.113623</td>\n",
       "      <td>0.080000</td>\n",
       "      <td>0.903188</td>\n",
       "      <td>0.674486</td>\n",
       "    </tr>\n",
       "    <tr>\n",
       "      <th>ExtraTreeClassifier</th>\n",
       "      <td>0.909195</td>\n",
       "      <td>1608.0</td>\n",
       "      <td>9496.0</td>\n",
       "      <td>942.0</td>\n",
       "      <td>167.0</td>\n",
       "      <td>0.090247</td>\n",
       "      <td>0.094085</td>\n",
       "      <td>0.907834</td>\n",
       "      <td>0.707286</td>\n",
       "    </tr>\n",
       "    <tr>\n",
       "      <th>BaggingClassifier</th>\n",
       "      <td>0.905920</td>\n",
       "      <td>1617.0</td>\n",
       "      <td>9447.0</td>\n",
       "      <td>991.0</td>\n",
       "      <td>158.0</td>\n",
       "      <td>0.094942</td>\n",
       "      <td>0.089014</td>\n",
       "      <td>0.908022</td>\n",
       "      <td>0.701809</td>\n",
       "    </tr>\n",
       "    <tr>\n",
       "      <th>Neural Network-1</th>\n",
       "      <td>0.885204</td>\n",
       "      <td>1654.0</td>\n",
       "      <td>9157.0</td>\n",
       "      <td>1281.0</td>\n",
       "      <td>121.0</td>\n",
       "      <td>0.122725</td>\n",
       "      <td>0.068169</td>\n",
       "      <td>0.904553</td>\n",
       "      <td>0.667394</td>\n",
       "    </tr>\n",
       "  </tbody>\n",
       "</table>\n",
       "</div>"
      ],
      "text/plain": [
       "                            accuracy      TP      TN      FP     FN       FPR  \\\n",
       "index                                                                           \n",
       "KNeighborsClassifier        0.883812  1627.0  9167.0  1271.0  148.0  0.121767   \n",
       "LogisticRegression          0.842135  1686.0  8599.0  1839.0   89.0  0.176183   \n",
       "RandomForestClassifier      0.908540  1613.0  9483.0   955.0  162.0  0.091493   \n",
       "AdaBoostClassifier          0.872267  1654.0  8999.0  1439.0  121.0  0.137862   \n",
       "GradientBoostingClassifier  0.891263  1633.0  9252.0  1186.0  142.0  0.113623   \n",
       "ExtraTreeClassifier         0.909195  1608.0  9496.0   942.0  167.0  0.090247   \n",
       "BaggingClassifier           0.905920  1617.0  9447.0   991.0  158.0  0.094942   \n",
       "Neural Network-1            0.885204  1654.0  9157.0  1281.0  121.0  0.122725   \n",
       "\n",
       "                                 FNR       auc       mcc  \n",
       "index                                                     \n",
       "KNeighborsClassifier        0.083380  0.897427  0.658497  \n",
       "LogisticRegression          0.050141  0.886838  0.601766  \n",
       "RandomForestClassifier      0.091268  0.908620  0.706820  \n",
       "AdaBoostClassifier          0.068169  0.896985  0.643464  \n",
       "GradientBoostingClassifier  0.080000  0.903188  0.674486  \n",
       "ExtraTreeClassifier         0.094085  0.907834  0.707286  \n",
       "BaggingClassifier           0.089014  0.908022  0.701809  \n",
       "Neural Network-1            0.068169  0.904553  0.667394  "
      ]
     },
     "metadata": {},
     "output_type": "display_data"
    }
   ],
   "source": [
    "table_80_80_train['index']=ind_columns\n",
    "table_80_80_test['index']=ind_columns\n",
    "\n",
    "\n",
    "table_80_80_test.set_index(['index'],drop=True,inplace=True)\n",
    "table_80_80_train.set_index(['index'],drop=True,inplace=True)\n",
    "\n",
    "print(\"Training Results\")\n",
    "display(table_80_80_train)\n",
    "print(\"Test Results\")\n",
    "display(table_80_80_test)"
   ]
  },
  {
   "cell_type": "markdown",
   "metadata": {},
   "source": [
    "### <a id='2.B' style=\"text-decoration : none; color : #000000;\"> B. Average Feature Importances</a>"
   ]
  },
  {
   "cell_type": "code",
   "execution_count": 24,
   "metadata": {},
   "outputs": [
    {
     "data": {
      "application/vnd.plotly.v1+json": {
       "config": {
        "linkText": "Export to plot.ly",
        "plotlyServerURL": "https://plot.ly",
        "showLink": true
       },
       "data": [
        {
         "marker": {
          "color": "rgb(158,202,225)",
          "line": {
           "color": "rgb(8,48,107)",
           "width": 1.5
          }
         },
         "opacity": 0.6,
         "orientation": "h",
         "text": [
          0.2596,
          0.1363,
          0.0918,
          0.0598,
          0.0488,
          0.0484,
          0.0429,
          0.0416,
          0.032,
          0.0273,
          0.0235,
          0.0189,
          0.0188,
          0.0187,
          0.0183,
          0.0159,
          0.0134,
          0.0129,
          0.0114,
          0.0102,
          0.01,
          0.0097,
          0.0084,
          0.0075,
          0.0069,
          0.0067
         ],
         "textposition": "outside",
         "type": "bar",
         "uid": "ee9554bc-7ef7-4698-b03f-3fe210d092b2",
         "x": [
          0.25963318018661896,
          0.13633213734380856,
          0.09183741883128928,
          0.05984587036155026,
          0.04877353203630151,
          0.048423485023027214,
          0.042949468165527485,
          0.041610077280562326,
          0.031995122264292464,
          0.02725663956395867,
          0.023478630768896565,
          0.018898370073883473,
          0.018750977230597907,
          0.018746516255013335,
          0.01834634532296426,
          0.01586292856394173,
          0.013430549978466549,
          0.012886852782444821,
          0.011358683885564791,
          0.010210660245182973,
          0.010036519357844973,
          0.009697720958656078,
          0.008445947380705686,
          0.007541403830193456,
          0.006924264779072954,
          0.006726697529633699
         ],
         "y": [
          "total_count",
          "total_href",
          "link_href_out_of_domain",
          "p_count",
          "a_href_https",
          "meta_count",
          "script_async_true",
          "push",
          "link_type_text/css",
          "link_href_http",
          "script_src_out_of_domain",
          "a_href_.com",
          "iframe_src_https",
          "link_href_.css",
          "strong_count",
          "window.addEventListener",
          "center_count",
          "document.write",
          "form_action_http",
          "indexOf",
          "get",
          "link_type_application/rsd+xml",
          "link_rel_shortlink",
          "find",
          "replace",
          "window.setTimeout"
         ]
        }
       ],
       "layout": {
        "autosize": false,
        "height": 1000,
        "width": 1000,
        "xaxis": {
         "tickfont": {
          "color": "black",
          "size": 12
         },
         "title": "Feature Importances"
        },
        "yaxis": {
         "automargin": true
        }
       }
      },
      "text/html": [
       "<div id=\"076ac63d-c3be-49ba-b3c1-35971d462bd8\" style=\"height: 1000px; width: 1000px;\" class=\"plotly-graph-div\"></div><script type=\"text/javascript\">require([\"plotly\"], function(Plotly) { window.PLOTLYENV=window.PLOTLYENV || {};window.PLOTLYENV.BASE_URL=\"https://plot.ly\";Plotly.newPlot(\"076ac63d-c3be-49ba-b3c1-35971d462bd8\", [{\"marker\": {\"color\": \"rgb(158,202,225)\", \"line\": {\"color\": \"rgb(8,48,107)\", \"width\": 1.5}}, \"opacity\": 0.6, \"orientation\": \"h\", \"text\": [0.2596, 0.1363, 0.0918, 0.0598, 0.0488, 0.0484, 0.0429, 0.0416, 0.032, 0.0273, 0.0235, 0.0189, 0.0188, 0.0187, 0.0183, 0.0159, 0.0134, 0.0129, 0.0114, 0.0102, 0.01, 0.0097, 0.0084, 0.0075, 0.0069, 0.0067], \"textposition\": \"outside\", \"x\": [0.25963318018661896, 0.13633213734380856, 0.09183741883128928, 0.05984587036155026, 0.04877353203630151, 0.048423485023027214, 0.042949468165527485, 0.041610077280562326, 0.031995122264292464, 0.02725663956395867, 0.023478630768896565, 0.018898370073883473, 0.018750977230597907, 0.018746516255013335, 0.01834634532296426, 0.01586292856394173, 0.013430549978466549, 0.012886852782444821, 0.011358683885564791, 0.010210660245182973, 0.010036519357844973, 0.009697720958656078, 0.008445947380705686, 0.007541403830193456, 0.006924264779072954, 0.006726697529633699], \"y\": [\"total_count\", \"total_href\", \"link_href_out_of_domain\", \"p_count\", \"a_href_https\", \"meta_count\", \"script_async_true\", \"push\", \"link_type_text/css\", \"link_href_http\", \"script_src_out_of_domain\", \"a_href_.com\", \"iframe_src_https\", \"link_href_.css\", \"strong_count\", \"window.addEventListener\", \"center_count\", \"document.write\", \"form_action_http\", \"indexOf\", \"get\", \"link_type_application/rsd+xml\", \"link_rel_shortlink\", \"find\", \"replace\", \"window.setTimeout\"], \"type\": \"bar\", \"uid\": \"ee9554bc-7ef7-4698-b03f-3fe210d092b2\"}], {\"autosize\": false, \"height\": 1000, \"width\": 1000, \"xaxis\": {\"tickfont\": {\"color\": \"black\", \"size\": 12}, \"title\": \"Feature Importances\"}, \"yaxis\": {\"automargin\": true}}, {\"showLink\": true, \"linkText\": \"Export to plot.ly\", \"plotlyServerURL\": \"https://plot.ly\"})});</script>"
      ],
      "text/vnd.plotly.v1+html": [
       "<div id=\"076ac63d-c3be-49ba-b3c1-35971d462bd8\" style=\"height: 1000px; width: 1000px;\" class=\"plotly-graph-div\"></div><script type=\"text/javascript\">require([\"plotly\"], function(Plotly) { window.PLOTLYENV=window.PLOTLYENV || {};window.PLOTLYENV.BASE_URL=\"https://plot.ly\";Plotly.newPlot(\"076ac63d-c3be-49ba-b3c1-35971d462bd8\", [{\"marker\": {\"color\": \"rgb(158,202,225)\", \"line\": {\"color\": \"rgb(8,48,107)\", \"width\": 1.5}}, \"opacity\": 0.6, \"orientation\": \"h\", \"text\": [0.2596, 0.1363, 0.0918, 0.0598, 0.0488, 0.0484, 0.0429, 0.0416, 0.032, 0.0273, 0.0235, 0.0189, 0.0188, 0.0187, 0.0183, 0.0159, 0.0134, 0.0129, 0.0114, 0.0102, 0.01, 0.0097, 0.0084, 0.0075, 0.0069, 0.0067], \"textposition\": \"outside\", \"x\": [0.25963318018661896, 0.13633213734380856, 0.09183741883128928, 0.05984587036155026, 0.04877353203630151, 0.048423485023027214, 0.042949468165527485, 0.041610077280562326, 0.031995122264292464, 0.02725663956395867, 0.023478630768896565, 0.018898370073883473, 0.018750977230597907, 0.018746516255013335, 0.01834634532296426, 0.01586292856394173, 0.013430549978466549, 0.012886852782444821, 0.011358683885564791, 0.010210660245182973, 0.010036519357844973, 0.009697720958656078, 0.008445947380705686, 0.007541403830193456, 0.006924264779072954, 0.006726697529633699], \"y\": [\"total_count\", \"total_href\", \"link_href_out_of_domain\", \"p_count\", \"a_href_https\", \"meta_count\", \"script_async_true\", \"push\", \"link_type_text/css\", \"link_href_http\", \"script_src_out_of_domain\", \"a_href_.com\", \"iframe_src_https\", \"link_href_.css\", \"strong_count\", \"window.addEventListener\", \"center_count\", \"document.write\", \"form_action_http\", \"indexOf\", \"get\", \"link_type_application/rsd+xml\", \"link_rel_shortlink\", \"find\", \"replace\", \"window.setTimeout\"], \"type\": \"bar\", \"uid\": \"ee9554bc-7ef7-4698-b03f-3fe210d092b2\"}], {\"autosize\": false, \"height\": 1000, \"width\": 1000, \"xaxis\": {\"tickfont\": {\"color\": \"black\", \"size\": 12}, \"title\": \"Feature Importances\"}, \"yaxis\": {\"automargin\": true}}, {\"showLink\": true, \"linkText\": \"Export to plot.ly\", \"plotlyServerURL\": \"https://plot.ly\"})});</script>"
      ]
     },
     "metadata": {},
     "output_type": "display_data"
    }
   ],
   "source": [
    "feat_impt_plot(np.average(feat_imp,axis=0),columns)"
   ]
  },
  {
   "cell_type": "markdown",
   "metadata": {},
   "source": [
    "### <a id='3' style=\"text-decoration : none; color : #000000;\"> 3. Undersampling</a>"
   ]
  },
  {
   "cell_type": "code",
   "execution_count": 25,
   "metadata": {},
   "outputs": [
    {
     "data": {
      "text/plain": [
       "1    4156\n",
       "0    4156\n",
       "Name: Target, dtype: int64"
      ]
     },
     "execution_count": 25,
     "metadata": {},
     "output_type": "execute_result"
    }
   ],
   "source": [
    "df_non=train[train.Target==0]\n",
    "df_mal=train[train.Target==1]\n",
    "\n",
    "df_non=df_non.sample(frac=len(df_mal)/len(df_non),random_state=0)\n",
    "df_u=df_non.append(df_mal)\n",
    "df_u.Target.value_counts() "
   ]
  },
  {
   "cell_type": "code",
   "execution_count": 26,
   "metadata": {},
   "outputs": [],
   "source": [
    "X_train=df_u[columns]\n",
    "X_train=scaler.transform(X_train)\n",
    "Y_train=df_u.Target.values"
   ]
  },
  {
   "cell_type": "code",
   "execution_count": 27,
   "metadata": {
    "scrolled": false
   },
   "outputs": [
    {
     "name": "stdout",
     "output_type": "stream",
     "text": [
      "Shape after undersampling (8312, 26)\n",
      "\u001b[1mK-Nearest Neighbors\u001b[0m\n",
      "Accuracy of the model for training data is: 0.5821703561116458\n",
      "Confusion Matrix for training data is:\n"
     ]
    },
    {
     "data": {
      "text/plain": [
       "Predicted  False  True  __all__\n",
       "Actual                         \n",
       "False       4025   131     4156\n",
       "True        3342   814     4156\n",
       "__all__     7367   945     8312"
      ]
     },
     "metadata": {},
     "output_type": "display_data"
    },
    {
     "name": "stdout",
     "output_type": "stream",
     "text": [
      "Accuracy of the model for test data is: 0.8401703103250635\n",
      "Confusion Matrix for test data is:\n"
     ]
    },
    {
     "data": {
      "text/plain": [
       "Predicted  False  True  __all__\n",
       "Actual                         \n",
       "False       9962   476    10438\n",
       "True        1476   299     1775\n",
       "__all__    11438   775    12213"
      ]
     },
     "metadata": {},
     "output_type": "display_data"
    },
    {
     "name": "stdout",
     "output_type": "stream",
     "text": [
      "\n",
      "\n",
      "\u001b[1mLogistic Regression\u001b[0m\n",
      "Accuracy of the model for training data is: 0.8807747834456208\n",
      "Confusion Matrix for training data is:\n"
     ]
    },
    {
     "data": {
      "text/plain": [
       "Predicted  False  True  __all__\n",
       "Actual                         \n",
       "False       3325   831     4156\n",
       "True         160  3996     4156\n",
       "__all__     3485  4827     8312"
      ]
     },
     "metadata": {},
     "output_type": "display_data"
    },
    {
     "name": "stdout",
     "output_type": "stream",
     "text": [
      "Accuracy of the model for test data is: 0.8273151559813313\n",
      "Confusion Matrix for test data is:\n"
     ]
    },
    {
     "data": {
      "text/plain": [
       "Predicted  False  True  __all__\n",
       "Actual                         \n",
       "False       8404  2034    10438\n",
       "True          75  1700     1775\n",
       "__all__     8479  3734    12213"
      ]
     },
     "metadata": {},
     "output_type": "display_data"
    },
    {
     "name": "stdout",
     "output_type": "stream",
     "text": [
      "\n",
      "\n",
      "\u001b[1mRandomForest Classifier\u001b[0m\n",
      "Accuracy of the model for training data is: 0.9488691049085659\n",
      "Confusion Matrix for training data is:\n"
     ]
    },
    {
     "data": {
      "text/plain": [
       "Predicted  False  True  __all__\n",
       "Actual                         \n",
       "False       3817   339     4156\n",
       "True          86  4070     4156\n",
       "__all__     3903  4409     8312"
      ]
     },
     "metadata": {},
     "output_type": "display_data"
    },
    {
     "name": "stdout",
     "output_type": "stream",
     "text": [
      "Accuracy of the model for test data is: 0.8974862851060346\n",
      "Confusion Matrix for test data is:\n"
     ]
    },
    {
     "data": {
      "text/plain": [
       "Predicted  False  True  __all__\n",
       "Actual                         \n",
       "False       9316  1122    10438\n",
       "True         130  1645     1775\n",
       "__all__     9446  2767    12213"
      ]
     },
     "metadata": {},
     "output_type": "display_data"
    },
    {
     "data": {
      "application/vnd.plotly.v1+json": {
       "config": {
        "linkText": "Export to plot.ly",
        "plotlyServerURL": "https://plot.ly",
        "showLink": true
       },
       "data": [
        {
         "marker": {
          "color": "rgb(158,202,225)",
          "line": {
           "color": "rgb(8,48,107)",
           "width": 1.5
          }
         },
         "opacity": 0.6,
         "orientation": "h",
         "text": [
          0.2506,
          0.1554,
          0.128,
          0.1085,
          0.0913,
          0.0807,
          0.0292,
          0.0283,
          0.0183,
          0.0143,
          0.013,
          0.012,
          0.0094,
          0.0085,
          0.0081,
          0.007,
          0.0065,
          0.0052,
          0.0049,
          0.0041,
          0.0034,
          0.0034,
          0.0031,
          0.0027,
          0.0022,
          0.0019
         ],
         "textposition": "outside",
         "type": "bar",
         "uid": "e93c3f51-b612-4c5f-a5ce-da4dc93df93b",
         "x": [
          0.2506293404352839,
          0.15540548524634337,
          0.12798479222650144,
          0.10845276197456866,
          0.09132021158248847,
          0.08071988476302415,
          0.02920901701107766,
          0.02830447502003674,
          0.01830394166685704,
          0.014282316994564354,
          0.012975091932575029,
          0.011988165547773547,
          0.009446057702094848,
          0.008465523944875106,
          0.008109425891495086,
          0.007036844123768734,
          0.006477044270720251,
          0.005191188816257514,
          0.004918981862696242,
          0.004089204436745313,
          0.0034384758769058347,
          0.0034187540941990175,
          0.0030510090878306502,
          0.002714413034410137,
          0.0021884311080306498,
          0.0018791613488762936
         ],
         "y": [
          "total_href",
          "link_href_out_of_domain",
          "total_count",
          "p_count",
          "meta_count",
          "a_href_https",
          "push",
          "script_async_true",
          "script_src_out_of_domain",
          "link_href_http",
          "link_type_text/css",
          "link_href_.css",
          "form_action_http",
          "strong_count",
          "iframe_src_https",
          "center_count",
          "replace",
          "indexOf",
          "link_rel_shortlink",
          "document.write",
          "a_href_.com",
          "find",
          "get",
          "link_type_application/rsd+xml",
          "window.setTimeout",
          "window.addEventListener"
         ]
        }
       ],
       "layout": {
        "autosize": false,
        "height": 1000,
        "width": 1000,
        "xaxis": {
         "tickfont": {
          "color": "black",
          "size": 12
         },
         "title": "Feature Importances"
        },
        "yaxis": {
         "automargin": true
        }
       }
      },
      "text/html": [
       "<div id=\"52b324c2-13c9-4f5a-b06f-3c5478982c15\" style=\"height: 1000px; width: 1000px;\" class=\"plotly-graph-div\"></div><script type=\"text/javascript\">require([\"plotly\"], function(Plotly) { window.PLOTLYENV=window.PLOTLYENV || {};window.PLOTLYENV.BASE_URL=\"https://plot.ly\";Plotly.newPlot(\"52b324c2-13c9-4f5a-b06f-3c5478982c15\", [{\"marker\": {\"color\": \"rgb(158,202,225)\", \"line\": {\"color\": \"rgb(8,48,107)\", \"width\": 1.5}}, \"opacity\": 0.6, \"orientation\": \"h\", \"text\": [0.2506, 0.1554, 0.128, 0.1085, 0.0913, 0.0807, 0.0292, 0.0283, 0.0183, 0.0143, 0.013, 0.012, 0.0094, 0.0085, 0.0081, 0.007, 0.0065, 0.0052, 0.0049, 0.0041, 0.0034, 0.0034, 0.0031, 0.0027, 0.0022, 0.0019], \"textposition\": \"outside\", \"x\": [0.2506293404352839, 0.15540548524634337, 0.12798479222650144, 0.10845276197456866, 0.09132021158248847, 0.08071988476302415, 0.02920901701107766, 0.02830447502003674, 0.01830394166685704, 0.014282316994564354, 0.012975091932575029, 0.011988165547773547, 0.009446057702094848, 0.008465523944875106, 0.008109425891495086, 0.007036844123768734, 0.006477044270720251, 0.005191188816257514, 0.004918981862696242, 0.004089204436745313, 0.0034384758769058347, 0.0034187540941990175, 0.0030510090878306502, 0.002714413034410137, 0.0021884311080306498, 0.0018791613488762936], \"y\": [\"total_href\", \"link_href_out_of_domain\", \"total_count\", \"p_count\", \"meta_count\", \"a_href_https\", \"push\", \"script_async_true\", \"script_src_out_of_domain\", \"link_href_http\", \"link_type_text/css\", \"link_href_.css\", \"form_action_http\", \"strong_count\", \"iframe_src_https\", \"center_count\", \"replace\", \"indexOf\", \"link_rel_shortlink\", \"document.write\", \"a_href_.com\", \"find\", \"get\", \"link_type_application/rsd+xml\", \"window.setTimeout\", \"window.addEventListener\"], \"type\": \"bar\", \"uid\": \"e93c3f51-b612-4c5f-a5ce-da4dc93df93b\"}], {\"autosize\": false, \"height\": 1000, \"width\": 1000, \"xaxis\": {\"tickfont\": {\"color\": \"black\", \"size\": 12}, \"title\": \"Feature Importances\"}, \"yaxis\": {\"automargin\": true}}, {\"showLink\": true, \"linkText\": \"Export to plot.ly\", \"plotlyServerURL\": \"https://plot.ly\"})});</script>"
      ],
      "text/vnd.plotly.v1+html": [
       "<div id=\"52b324c2-13c9-4f5a-b06f-3c5478982c15\" style=\"height: 1000px; width: 1000px;\" class=\"plotly-graph-div\"></div><script type=\"text/javascript\">require([\"plotly\"], function(Plotly) { window.PLOTLYENV=window.PLOTLYENV || {};window.PLOTLYENV.BASE_URL=\"https://plot.ly\";Plotly.newPlot(\"52b324c2-13c9-4f5a-b06f-3c5478982c15\", [{\"marker\": {\"color\": \"rgb(158,202,225)\", \"line\": {\"color\": \"rgb(8,48,107)\", \"width\": 1.5}}, \"opacity\": 0.6, \"orientation\": \"h\", \"text\": [0.2506, 0.1554, 0.128, 0.1085, 0.0913, 0.0807, 0.0292, 0.0283, 0.0183, 0.0143, 0.013, 0.012, 0.0094, 0.0085, 0.0081, 0.007, 0.0065, 0.0052, 0.0049, 0.0041, 0.0034, 0.0034, 0.0031, 0.0027, 0.0022, 0.0019], \"textposition\": \"outside\", \"x\": [0.2506293404352839, 0.15540548524634337, 0.12798479222650144, 0.10845276197456866, 0.09132021158248847, 0.08071988476302415, 0.02920901701107766, 0.02830447502003674, 0.01830394166685704, 0.014282316994564354, 0.012975091932575029, 0.011988165547773547, 0.009446057702094848, 0.008465523944875106, 0.008109425891495086, 0.007036844123768734, 0.006477044270720251, 0.005191188816257514, 0.004918981862696242, 0.004089204436745313, 0.0034384758769058347, 0.0034187540941990175, 0.0030510090878306502, 0.002714413034410137, 0.0021884311080306498, 0.0018791613488762936], \"y\": [\"total_href\", \"link_href_out_of_domain\", \"total_count\", \"p_count\", \"meta_count\", \"a_href_https\", \"push\", \"script_async_true\", \"script_src_out_of_domain\", \"link_href_http\", \"link_type_text/css\", \"link_href_.css\", \"form_action_http\", \"strong_count\", \"iframe_src_https\", \"center_count\", \"replace\", \"indexOf\", \"link_rel_shortlink\", \"document.write\", \"a_href_.com\", \"find\", \"get\", \"link_type_application/rsd+xml\", \"window.setTimeout\", \"window.addEventListener\"], \"type\": \"bar\", \"uid\": \"e93c3f51-b612-4c5f-a5ce-da4dc93df93b\"}], {\"autosize\": false, \"height\": 1000, \"width\": 1000, \"xaxis\": {\"tickfont\": {\"color\": \"black\", \"size\": 12}, \"title\": \"Feature Importances\"}, \"yaxis\": {\"automargin\": true}}, {\"showLink\": true, \"linkText\": \"Export to plot.ly\", \"plotlyServerURL\": \"https://plot.ly\"})});</script>"
      ]
     },
     "metadata": {},
     "output_type": "display_data"
    },
    {
     "name": "stdout",
     "output_type": "stream",
     "text": [
      "\n",
      "\n",
      "\u001b[1mAdaoost Classifier\u001b[0m\n",
      "Accuracy of the model for training data is: 0.8965351299326275\n",
      "Confusion Matrix for training data is:\n"
     ]
    },
    {
     "data": {
      "text/plain": [
       "Predicted  False  True  __all__\n",
       "Actual                         \n",
       "False       3518   638     4156\n",
       "True         222  3934     4156\n",
       "__all__     3740  4572     8312"
      ]
     },
     "metadata": {},
     "output_type": "display_data"
    },
    {
     "name": "stdout",
     "output_type": "stream",
     "text": [
      "Accuracy of the model for test data is: 0.8612953410300499\n",
      "Confusion Matrix for test data is:\n"
     ]
    },
    {
     "data": {
      "text/plain": [
       "Predicted  False  True  __all__\n",
       "Actual                         \n",
       "False       8836  1602    10438\n",
       "True          92  1683     1775\n",
       "__all__     8928  3285    12213"
      ]
     },
     "metadata": {},
     "output_type": "display_data"
    },
    {
     "data": {
      "application/vnd.plotly.v1+json": {
       "config": {
        "linkText": "Export to plot.ly",
        "plotlyServerURL": "https://plot.ly",
        "showLink": true
       },
       "data": [
        {
         "marker": {
          "color": "rgb(158,202,225)",
          "line": {
           "color": "rgb(8,48,107)",
           "width": 1.5
          }
         },
         "opacity": 0.6,
         "orientation": "h",
         "text": [
          0.28,
          0.1,
          0.08,
          0.06,
          0.04,
          0.04,
          0.04,
          0.04,
          0.04,
          0.04,
          0.04,
          0.04,
          0.02,
          0.02,
          0.02,
          0.02,
          0.02,
          0.02,
          0.02,
          0.02,
          0,
          0,
          0,
          0,
          0,
          0
         ],
         "textposition": "outside",
         "type": "bar",
         "uid": "9c28fb6b-caef-4b61-94d2-434ec14f3162",
         "x": [
          0.28,
          0.1,
          0.08,
          0.06,
          0.04,
          0.04,
          0.04,
          0.04,
          0.04,
          0.04,
          0.04,
          0.04,
          0.02,
          0.02,
          0.02,
          0.02,
          0.02,
          0.02,
          0.02,
          0.02,
          0,
          0,
          0,
          0,
          0,
          0
         ],
         "y": [
          "total_count",
          "total_href",
          "push",
          "a_href_https",
          "link_href_http",
          "window.setTimeout",
          "strong_count",
          "script_src_out_of_domain",
          "p_count",
          "link_type_text/css",
          "link_rel_shortlink",
          "link_href_out_of_domain",
          "meta_count",
          "link_type_application/rsd+xml",
          "link_href_.css",
          "form_action_http",
          "center_count",
          "a_href_.com",
          "indexOf",
          "get",
          "window.addEventListener",
          "iframe_src_https",
          "replace",
          "script_async_true",
          "find",
          "document.write"
         ]
        }
       ],
       "layout": {
        "autosize": false,
        "height": 1000,
        "width": 1000,
        "xaxis": {
         "tickfont": {
          "color": "black",
          "size": 12
         },
         "title": "Feature Importances"
        },
        "yaxis": {
         "automargin": true
        }
       }
      },
      "text/html": [
       "<div id=\"3ef3fab1-f165-41a1-9dd8-8ef74016921f\" style=\"height: 1000px; width: 1000px;\" class=\"plotly-graph-div\"></div><script type=\"text/javascript\">require([\"plotly\"], function(Plotly) { window.PLOTLYENV=window.PLOTLYENV || {};window.PLOTLYENV.BASE_URL=\"https://plot.ly\";Plotly.newPlot(\"3ef3fab1-f165-41a1-9dd8-8ef74016921f\", [{\"marker\": {\"color\": \"rgb(158,202,225)\", \"line\": {\"color\": \"rgb(8,48,107)\", \"width\": 1.5}}, \"opacity\": 0.6, \"orientation\": \"h\", \"text\": [0.28, 0.1, 0.08, 0.06, 0.04, 0.04, 0.04, 0.04, 0.04, 0.04, 0.04, 0.04, 0.02, 0.02, 0.02, 0.02, 0.02, 0.02, 0.02, 0.02, 0.0, 0.0, 0.0, 0.0, 0.0, 0.0], \"textposition\": \"outside\", \"x\": [0.28, 0.1, 0.08, 0.06, 0.04, 0.04, 0.04, 0.04, 0.04, 0.04, 0.04, 0.04, 0.02, 0.02, 0.02, 0.02, 0.02, 0.02, 0.02, 0.02, 0.0, 0.0, 0.0, 0.0, 0.0, 0.0], \"y\": [\"total_count\", \"total_href\", \"push\", \"a_href_https\", \"link_href_http\", \"window.setTimeout\", \"strong_count\", \"script_src_out_of_domain\", \"p_count\", \"link_type_text/css\", \"link_rel_shortlink\", \"link_href_out_of_domain\", \"meta_count\", \"link_type_application/rsd+xml\", \"link_href_.css\", \"form_action_http\", \"center_count\", \"a_href_.com\", \"indexOf\", \"get\", \"window.addEventListener\", \"iframe_src_https\", \"replace\", \"script_async_true\", \"find\", \"document.write\"], \"type\": \"bar\", \"uid\": \"9c28fb6b-caef-4b61-94d2-434ec14f3162\"}], {\"autosize\": false, \"height\": 1000, \"width\": 1000, \"xaxis\": {\"tickfont\": {\"color\": \"black\", \"size\": 12}, \"title\": \"Feature Importances\"}, \"yaxis\": {\"automargin\": true}}, {\"showLink\": true, \"linkText\": \"Export to plot.ly\", \"plotlyServerURL\": \"https://plot.ly\"})});</script>"
      ],
      "text/vnd.plotly.v1+html": [
       "<div id=\"3ef3fab1-f165-41a1-9dd8-8ef74016921f\" style=\"height: 1000px; width: 1000px;\" class=\"plotly-graph-div\"></div><script type=\"text/javascript\">require([\"plotly\"], function(Plotly) { window.PLOTLYENV=window.PLOTLYENV || {};window.PLOTLYENV.BASE_URL=\"https://plot.ly\";Plotly.newPlot(\"3ef3fab1-f165-41a1-9dd8-8ef74016921f\", [{\"marker\": {\"color\": \"rgb(158,202,225)\", \"line\": {\"color\": \"rgb(8,48,107)\", \"width\": 1.5}}, \"opacity\": 0.6, \"orientation\": \"h\", \"text\": [0.28, 0.1, 0.08, 0.06, 0.04, 0.04, 0.04, 0.04, 0.04, 0.04, 0.04, 0.04, 0.02, 0.02, 0.02, 0.02, 0.02, 0.02, 0.02, 0.02, 0.0, 0.0, 0.0, 0.0, 0.0, 0.0], \"textposition\": \"outside\", \"x\": [0.28, 0.1, 0.08, 0.06, 0.04, 0.04, 0.04, 0.04, 0.04, 0.04, 0.04, 0.04, 0.02, 0.02, 0.02, 0.02, 0.02, 0.02, 0.02, 0.02, 0.0, 0.0, 0.0, 0.0, 0.0, 0.0], \"y\": [\"total_count\", \"total_href\", \"push\", \"a_href_https\", \"link_href_http\", \"window.setTimeout\", \"strong_count\", \"script_src_out_of_domain\", \"p_count\", \"link_type_text/css\", \"link_rel_shortlink\", \"link_href_out_of_domain\", \"meta_count\", \"link_type_application/rsd+xml\", \"link_href_.css\", \"form_action_http\", \"center_count\", \"a_href_.com\", \"indexOf\", \"get\", \"window.addEventListener\", \"iframe_src_https\", \"replace\", \"script_async_true\", \"find\", \"document.write\"], \"type\": \"bar\", \"uid\": \"9c28fb6b-caef-4b61-94d2-434ec14f3162\"}], {\"autosize\": false, \"height\": 1000, \"width\": 1000, \"xaxis\": {\"tickfont\": {\"color\": \"black\", \"size\": 12}, \"title\": \"Feature Importances\"}, \"yaxis\": {\"automargin\": true}}, {\"showLink\": true, \"linkText\": \"Export to plot.ly\", \"plotlyServerURL\": \"https://plot.ly\"})});</script>"
      ]
     },
     "metadata": {},
     "output_type": "display_data"
    },
    {
     "name": "stdout",
     "output_type": "stream",
     "text": [
      "\n",
      "\n",
      "\u001b[1mGradientBoosting Classifier\u001b[0m\n",
      "Accuracy of the model for training data is: 0.9128970163618865\n",
      "Confusion Matrix for training data is:\n"
     ]
    },
    {
     "data": {
      "text/plain": [
       "Predicted  False  True  __all__\n",
       "Actual                         \n",
       "False       3668   488     4156\n",
       "True         236  3920     4156\n",
       "__all__     3904  4408     8312"
      ]
     },
     "metadata": {},
     "output_type": "display_data"
    },
    {
     "name": "stdout",
     "output_type": "stream",
     "text": [
      "Accuracy of the model for test data is: 0.8825841316629821\n",
      "Confusion Matrix for test data is:\n"
     ]
    },
    {
     "data": {
      "text/plain": [
       "Predicted  False  True  __all__\n",
       "Actual                         \n",
       "False       9129  1309    10438\n",
       "True         125  1650     1775\n",
       "__all__     9254  2959    12213"
      ]
     },
     "metadata": {},
     "output_type": "display_data"
    },
    {
     "data": {
      "application/vnd.plotly.v1+json": {
       "config": {
        "linkText": "Export to plot.ly",
        "plotlyServerURL": "https://plot.ly",
        "showLink": true
       },
       "data": [
        {
         "marker": {
          "color": "rgb(158,202,225)",
          "line": {
           "color": "rgb(8,48,107)",
           "width": 1.5
          }
         },
         "opacity": 0.6,
         "orientation": "h",
         "text": [
          0.5245,
          0.2586,
          0.0618,
          0.0292,
          0.0247,
          0.0205,
          0.0143,
          0.0137,
          0.0073,
          0.0063,
          0.0061,
          0.0059,
          0.0055,
          0.0039,
          0.0037,
          0.0027,
          0.0021,
          0.0019,
          0.0018,
          0.0017,
          0.0015,
          0.0008,
          0.0008,
          0.0006,
          0.0004,
          0
         ],
         "textposition": "outside",
         "type": "bar",
         "uid": "39439a41-37fd-4d3a-be53-e09e722289b2",
         "x": [
          0.5244504539040413,
          0.2585741474005765,
          0.061806600149271626,
          0.029163446654041057,
          0.02467915426466516,
          0.020483573472275304,
          0.014325642957546696,
          0.013704894456622955,
          0.007269710797890119,
          0.006343001116929457,
          0.006107474164148926,
          0.005871969292146003,
          0.005462294647009644,
          0.0038980907254312783,
          0.0036661228230387495,
          0.002661824456193052,
          0.002141460275461388,
          0.001871712209629755,
          0.0017652177633371397,
          0.0016716254823197297,
          0.001465274341720233,
          0.0008283055680374677,
          0.0007691988027118094,
          0.0005951824129288906,
          0.0004130416139871995,
          1.0580248038568655e-05
         ],
         "y": [
          "total_count",
          "total_href",
          "link_href_out_of_domain",
          "push",
          "meta_count",
          "script_async_true",
          "link_type_text/css",
          "a_href_https",
          "p_count",
          "link_type_application/rsd+xml",
          "center_count",
          "script_src_out_of_domain",
          "link_href_http",
          "strong_count",
          "indexOf",
          "link_rel_shortlink",
          "form_action_http",
          "a_href_.com",
          "get",
          "window.setTimeout",
          "replace",
          "find",
          "document.write",
          "window.addEventListener",
          "link_href_.css",
          "iframe_src_https"
         ]
        }
       ],
       "layout": {
        "autosize": false,
        "height": 1000,
        "width": 1000,
        "xaxis": {
         "tickfont": {
          "color": "black",
          "size": 12
         },
         "title": "Feature Importances"
        },
        "yaxis": {
         "automargin": true
        }
       }
      },
      "text/html": [
       "<div id=\"adc58c0d-f082-4dfe-9bd2-ee726355426f\" style=\"height: 1000px; width: 1000px;\" class=\"plotly-graph-div\"></div><script type=\"text/javascript\">require([\"plotly\"], function(Plotly) { window.PLOTLYENV=window.PLOTLYENV || {};window.PLOTLYENV.BASE_URL=\"https://plot.ly\";Plotly.newPlot(\"adc58c0d-f082-4dfe-9bd2-ee726355426f\", [{\"marker\": {\"color\": \"rgb(158,202,225)\", \"line\": {\"color\": \"rgb(8,48,107)\", \"width\": 1.5}}, \"opacity\": 0.6, \"orientation\": \"h\", \"text\": [0.5245, 0.2586, 0.0618, 0.0292, 0.0247, 0.0205, 0.0143, 0.0137, 0.0073, 0.0063, 0.0061, 0.0059, 0.0055, 0.0039, 0.0037, 0.0027, 0.0021, 0.0019, 0.0018, 0.0017, 0.0015, 0.0008, 0.0008, 0.0006, 0.0004, 0.0], \"textposition\": \"outside\", \"x\": [0.5244504539040413, 0.2585741474005765, 0.061806600149271626, 0.029163446654041057, 0.02467915426466516, 0.020483573472275304, 0.014325642957546696, 0.013704894456622955, 0.007269710797890119, 0.006343001116929457, 0.006107474164148926, 0.005871969292146003, 0.005462294647009644, 0.0038980907254312783, 0.0036661228230387495, 0.002661824456193052, 0.002141460275461388, 0.001871712209629755, 0.0017652177633371397, 0.0016716254823197297, 0.001465274341720233, 0.0008283055680374677, 0.0007691988027118094, 0.0005951824129288906, 0.0004130416139871995, 1.0580248038568655e-05], \"y\": [\"total_count\", \"total_href\", \"link_href_out_of_domain\", \"push\", \"meta_count\", \"script_async_true\", \"link_type_text/css\", \"a_href_https\", \"p_count\", \"link_type_application/rsd+xml\", \"center_count\", \"script_src_out_of_domain\", \"link_href_http\", \"strong_count\", \"indexOf\", \"link_rel_shortlink\", \"form_action_http\", \"a_href_.com\", \"get\", \"window.setTimeout\", \"replace\", \"find\", \"document.write\", \"window.addEventListener\", \"link_href_.css\", \"iframe_src_https\"], \"type\": \"bar\", \"uid\": \"39439a41-37fd-4d3a-be53-e09e722289b2\"}], {\"autosize\": false, \"height\": 1000, \"width\": 1000, \"xaxis\": {\"tickfont\": {\"color\": \"black\", \"size\": 12}, \"title\": \"Feature Importances\"}, \"yaxis\": {\"automargin\": true}}, {\"showLink\": true, \"linkText\": \"Export to plot.ly\", \"plotlyServerURL\": \"https://plot.ly\"})});</script>"
      ],
      "text/vnd.plotly.v1+html": [
       "<div id=\"adc58c0d-f082-4dfe-9bd2-ee726355426f\" style=\"height: 1000px; width: 1000px;\" class=\"plotly-graph-div\"></div><script type=\"text/javascript\">require([\"plotly\"], function(Plotly) { window.PLOTLYENV=window.PLOTLYENV || {};window.PLOTLYENV.BASE_URL=\"https://plot.ly\";Plotly.newPlot(\"adc58c0d-f082-4dfe-9bd2-ee726355426f\", [{\"marker\": {\"color\": \"rgb(158,202,225)\", \"line\": {\"color\": \"rgb(8,48,107)\", \"width\": 1.5}}, \"opacity\": 0.6, \"orientation\": \"h\", \"text\": [0.5245, 0.2586, 0.0618, 0.0292, 0.0247, 0.0205, 0.0143, 0.0137, 0.0073, 0.0063, 0.0061, 0.0059, 0.0055, 0.0039, 0.0037, 0.0027, 0.0021, 0.0019, 0.0018, 0.0017, 0.0015, 0.0008, 0.0008, 0.0006, 0.0004, 0.0], \"textposition\": \"outside\", \"x\": [0.5244504539040413, 0.2585741474005765, 0.061806600149271626, 0.029163446654041057, 0.02467915426466516, 0.020483573472275304, 0.014325642957546696, 0.013704894456622955, 0.007269710797890119, 0.006343001116929457, 0.006107474164148926, 0.005871969292146003, 0.005462294647009644, 0.0038980907254312783, 0.0036661228230387495, 0.002661824456193052, 0.002141460275461388, 0.001871712209629755, 0.0017652177633371397, 0.0016716254823197297, 0.001465274341720233, 0.0008283055680374677, 0.0007691988027118094, 0.0005951824129288906, 0.0004130416139871995, 1.0580248038568655e-05], \"y\": [\"total_count\", \"total_href\", \"link_href_out_of_domain\", \"push\", \"meta_count\", \"script_async_true\", \"link_type_text/css\", \"a_href_https\", \"p_count\", \"link_type_application/rsd+xml\", \"center_count\", \"script_src_out_of_domain\", \"link_href_http\", \"strong_count\", \"indexOf\", \"link_rel_shortlink\", \"form_action_http\", \"a_href_.com\", \"get\", \"window.setTimeout\", \"replace\", \"find\", \"document.write\", \"window.addEventListener\", \"link_href_.css\", \"iframe_src_https\"], \"type\": \"bar\", \"uid\": \"39439a41-37fd-4d3a-be53-e09e722289b2\"}], {\"autosize\": false, \"height\": 1000, \"width\": 1000, \"xaxis\": {\"tickfont\": {\"color\": \"black\", \"size\": 12}, \"title\": \"Feature Importances\"}, \"yaxis\": {\"automargin\": true}}, {\"showLink\": true, \"linkText\": \"Export to plot.ly\", \"plotlyServerURL\": \"https://plot.ly\"})});</script>"
      ]
     },
     "metadata": {},
     "output_type": "display_data"
    },
    {
     "name": "stdout",
     "output_type": "stream",
     "text": [
      "\n",
      "\n",
      "\u001b[1mExtraTree Classifier\u001b[0m\n",
      "Accuracy of the model for training data is: 0.9534408084696824\n",
      "Confusion Matrix for training data is:\n"
     ]
    },
    {
     "data": {
      "text/plain": [
       "Predicted  False  True  __all__\n",
       "Actual                         \n",
       "False       3817   339     4156\n",
       "True          48  4108     4156\n",
       "__all__     3865  4447     8312"
      ]
     },
     "metadata": {},
     "output_type": "display_data"
    },
    {
     "name": "stdout",
     "output_type": "stream",
     "text": [
      "Accuracy of the model for test data is: 0.9015802833046753\n",
      "Confusion Matrix for test data is:\n"
     ]
    },
    {
     "data": {
      "text/plain": [
       "Predicted  False  True  __all__\n",
       "Actual                         \n",
       "False       9375  1063    10438\n",
       "True         139  1636     1775\n",
       "__all__     9514  2699    12213"
      ]
     },
     "metadata": {},
     "output_type": "display_data"
    },
    {
     "data": {
      "application/vnd.plotly.v1+json": {
       "config": {
        "linkText": "Export to plot.ly",
        "plotlyServerURL": "https://plot.ly",
        "showLink": true
       },
       "data": [
        {
         "marker": {
          "color": "rgb(158,202,225)",
          "line": {
           "color": "rgb(8,48,107)",
           "width": 1.5
          }
         },
         "opacity": 0.6,
         "orientation": "h",
         "text": [
          0.1733,
          0.1194,
          0.1011,
          0.0844,
          0.0663,
          0.0577,
          0.0576,
          0.0565,
          0.042,
          0.0293,
          0.0237,
          0.0224,
          0.0221,
          0.0219,
          0.0157,
          0.0146,
          0.0144,
          0.0136,
          0.0134,
          0.0099,
          0.0096,
          0.0082,
          0.007,
          0.0064,
          0.006,
          0.0035
         ],
         "textposition": "outside",
         "type": "bar",
         "uid": "1bc2277d-2608-46a2-8ce2-2c15f8a38221",
         "x": [
          0.1732659339875349,
          0.1194376919347104,
          0.10108008730820543,
          0.08441695126300622,
          0.0662734359227785,
          0.057687644170472466,
          0.05761720999010872,
          0.05649759363703412,
          0.041997352264765996,
          0.029290902452965995,
          0.023698326759570155,
          0.02238033166897164,
          0.022080504733320704,
          0.02186031777595809,
          0.015718914720245985,
          0.014622956608389881,
          0.01439871224723398,
          0.013623131176409984,
          0.013376074393836678,
          0.009894290002806389,
          0.00959038258301393,
          0.00822123040150782,
          0.007038544615332143,
          0.006418690925868215,
          0.005985141284512572,
          0.003527647171439088
         ],
         "y": [
          "script_async_true",
          "a_href_https",
          "total_href",
          "meta_count",
          "p_count",
          "script_src_out_of_domain",
          "link_type_text/css",
          "total_count",
          "link_href_out_of_domain",
          "push",
          "link_href_.css",
          "window.addEventListener",
          "replace",
          "form_action_http",
          "indexOf",
          "center_count",
          "strong_count",
          "link_href_http",
          "iframe_src_https",
          "link_type_application/rsd+xml",
          "a_href_.com",
          "link_rel_shortlink",
          "document.write",
          "find",
          "get",
          "window.setTimeout"
         ]
        }
       ],
       "layout": {
        "autosize": false,
        "height": 1000,
        "width": 1000,
        "xaxis": {
         "tickfont": {
          "color": "black",
          "size": 12
         },
         "title": "Feature Importances"
        },
        "yaxis": {
         "automargin": true
        }
       }
      },
      "text/html": [
       "<div id=\"eda7ccc9-9947-424a-a388-030602320329\" style=\"height: 1000px; width: 1000px;\" class=\"plotly-graph-div\"></div><script type=\"text/javascript\">require([\"plotly\"], function(Plotly) { window.PLOTLYENV=window.PLOTLYENV || {};window.PLOTLYENV.BASE_URL=\"https://plot.ly\";Plotly.newPlot(\"eda7ccc9-9947-424a-a388-030602320329\", [{\"marker\": {\"color\": \"rgb(158,202,225)\", \"line\": {\"color\": \"rgb(8,48,107)\", \"width\": 1.5}}, \"opacity\": 0.6, \"orientation\": \"h\", \"text\": [0.1733, 0.1194, 0.1011, 0.0844, 0.0663, 0.0577, 0.0576, 0.0565, 0.042, 0.0293, 0.0237, 0.0224, 0.0221, 0.0219, 0.0157, 0.0146, 0.0144, 0.0136, 0.0134, 0.0099, 0.0096, 0.0082, 0.007, 0.0064, 0.006, 0.0035], \"textposition\": \"outside\", \"x\": [0.1732659339875349, 0.1194376919347104, 0.10108008730820543, 0.08441695126300622, 0.0662734359227785, 0.057687644170472466, 0.05761720999010872, 0.05649759363703412, 0.041997352264765996, 0.029290902452965995, 0.023698326759570155, 0.02238033166897164, 0.022080504733320704, 0.02186031777595809, 0.015718914720245985, 0.014622956608389881, 0.01439871224723398, 0.013623131176409984, 0.013376074393836678, 0.009894290002806389, 0.00959038258301393, 0.00822123040150782, 0.007038544615332143, 0.006418690925868215, 0.005985141284512572, 0.003527647171439088], \"y\": [\"script_async_true\", \"a_href_https\", \"total_href\", \"meta_count\", \"p_count\", \"script_src_out_of_domain\", \"link_type_text/css\", \"total_count\", \"link_href_out_of_domain\", \"push\", \"link_href_.css\", \"window.addEventListener\", \"replace\", \"form_action_http\", \"indexOf\", \"center_count\", \"strong_count\", \"link_href_http\", \"iframe_src_https\", \"link_type_application/rsd+xml\", \"a_href_.com\", \"link_rel_shortlink\", \"document.write\", \"find\", \"get\", \"window.setTimeout\"], \"type\": \"bar\", \"uid\": \"1bc2277d-2608-46a2-8ce2-2c15f8a38221\"}], {\"autosize\": false, \"height\": 1000, \"width\": 1000, \"xaxis\": {\"tickfont\": {\"color\": \"black\", \"size\": 12}, \"title\": \"Feature Importances\"}, \"yaxis\": {\"automargin\": true}}, {\"showLink\": true, \"linkText\": \"Export to plot.ly\", \"plotlyServerURL\": \"https://plot.ly\"})});</script>"
      ],
      "text/vnd.plotly.v1+html": [
       "<div id=\"eda7ccc9-9947-424a-a388-030602320329\" style=\"height: 1000px; width: 1000px;\" class=\"plotly-graph-div\"></div><script type=\"text/javascript\">require([\"plotly\"], function(Plotly) { window.PLOTLYENV=window.PLOTLYENV || {};window.PLOTLYENV.BASE_URL=\"https://plot.ly\";Plotly.newPlot(\"eda7ccc9-9947-424a-a388-030602320329\", [{\"marker\": {\"color\": \"rgb(158,202,225)\", \"line\": {\"color\": \"rgb(8,48,107)\", \"width\": 1.5}}, \"opacity\": 0.6, \"orientation\": \"h\", \"text\": [0.1733, 0.1194, 0.1011, 0.0844, 0.0663, 0.0577, 0.0576, 0.0565, 0.042, 0.0293, 0.0237, 0.0224, 0.0221, 0.0219, 0.0157, 0.0146, 0.0144, 0.0136, 0.0134, 0.0099, 0.0096, 0.0082, 0.007, 0.0064, 0.006, 0.0035], \"textposition\": \"outside\", \"x\": [0.1732659339875349, 0.1194376919347104, 0.10108008730820543, 0.08441695126300622, 0.0662734359227785, 0.057687644170472466, 0.05761720999010872, 0.05649759363703412, 0.041997352264765996, 0.029290902452965995, 0.023698326759570155, 0.02238033166897164, 0.022080504733320704, 0.02186031777595809, 0.015718914720245985, 0.014622956608389881, 0.01439871224723398, 0.013623131176409984, 0.013376074393836678, 0.009894290002806389, 0.00959038258301393, 0.00822123040150782, 0.007038544615332143, 0.006418690925868215, 0.005985141284512572, 0.003527647171439088], \"y\": [\"script_async_true\", \"a_href_https\", \"total_href\", \"meta_count\", \"p_count\", \"script_src_out_of_domain\", \"link_type_text/css\", \"total_count\", \"link_href_out_of_domain\", \"push\", \"link_href_.css\", \"window.addEventListener\", \"replace\", \"form_action_http\", \"indexOf\", \"center_count\", \"strong_count\", \"link_href_http\", \"iframe_src_https\", \"link_type_application/rsd+xml\", \"a_href_.com\", \"link_rel_shortlink\", \"document.write\", \"find\", \"get\", \"window.setTimeout\"], \"type\": \"bar\", \"uid\": \"1bc2277d-2608-46a2-8ce2-2c15f8a38221\"}], {\"autosize\": false, \"height\": 1000, \"width\": 1000, \"xaxis\": {\"tickfont\": {\"color\": \"black\", \"size\": 12}, \"title\": \"Feature Importances\"}, \"yaxis\": {\"automargin\": true}}, {\"showLink\": true, \"linkText\": \"Export to plot.ly\", \"plotlyServerURL\": \"https://plot.ly\"})});</script>"
      ]
     },
     "metadata": {},
     "output_type": "display_data"
    },
    {
     "name": "stdout",
     "output_type": "stream",
     "text": [
      "\n",
      "\n",
      "\u001b[1mBagging Classifier\u001b[0m\n",
      "Accuracy of the model for training data is: 0.9501924927815207\n",
      "Confusion Matrix for training data is:\n"
     ]
    },
    {
     "data": {
      "text/plain": [
       "Predicted  False  True  __all__\n",
       "Actual                         \n",
       "False       3813   343     4156\n",
       "True          71  4085     4156\n",
       "__all__     3884  4428     8312"
      ]
     },
     "metadata": {},
     "output_type": "display_data"
    },
    {
     "name": "stdout",
     "output_type": "stream",
     "text": [
      "Accuracy of the model for test data is: 0.8927372471956112\n",
      "Confusion Matrix for test data is:\n"
     ]
    },
    {
     "data": {
      "text/plain": [
       "Predicted  False  True  __all__\n",
       "Actual                         \n",
       "False       9251  1187    10438\n",
       "True         123  1652     1775\n",
       "__all__     9374  2839    12213"
      ]
     },
     "metadata": {},
     "output_type": "display_data"
    },
    {
     "name": "stdout",
     "output_type": "stream",
     "text": [
      "\n",
      "\n",
      "\u001b[1mNeural Network-1\u001b[0m\n",
      "The accuracy of the model on training data is: 0.9216794994614007\n"
     ]
    },
    {
     "data": {
      "text/plain": [
       "Predicted  False  True  __all__\n",
       "Actual                         \n",
       "False       3602   554     4156\n",
       "True          97  4059     4156\n",
       "__all__     3699  4613     8312"
      ]
     },
     "metadata": {},
     "output_type": "display_data"
    },
    {
     "name": "stdout",
     "output_type": "stream",
     "text": [
      "The accuracy of the model on test data is: 0.8599033816425121\n"
     ]
    },
    {
     "data": {
      "text/plain": [
       "Predicted  False  True  __all__\n",
       "Actual                         \n",
       "False       8824  1614    10438\n",
       "True          97  1678     1775\n",
       "__all__     8921  3292    12213"
      ]
     },
     "metadata": {},
     "output_type": "display_data"
    },
    {
     "name": "stdout",
     "output_type": "stream",
     "text": [
      "\n",
      "\n"
     ]
    }
   ],
   "source": [
    "print(\"Shape after undersampling\",X_train.shape)\n",
    "\n",
    "## Table to store training and test measures so we can compare later\n",
    "table_80_90_train=pd.DataFrame(columns=['accuracy','TP','TN','FP','FN','FPR','FNR'])\n",
    "table_80_90_test=pd.DataFrame(columns=['accuracy','TP','TN','FP','FN','FPR','FNR','auc','mcc'])\n",
    "\n",
    "feat_imp=[None]*4\n",
    "j=0\n",
    "for i in range(0,8):\n",
    "    if i>=2 and i<=5:\n",
    "        model,cm_train,cm_test,acc_train,acc_test,roc_auc,feat_imp[j],mcc=f[i](X_train,Y_train,scaled_X_test,test_Y,columns)\n",
    "        j=j+1\n",
    "    else:\n",
    "        model,cm_train,cm_test,acc_train,acc_test,roc_auc,mcc=f[i](X_train,Y_train,scaled_X_test,test_Y)\n",
    "    table_80_90_train.loc[i]=   ([acc_train,cm_train.TP,cm_train.TN,cm_train.FP,cm_train.FN,cm_train.FPR,cm_train.FNR])\n",
    "    table_80_90_test.loc[i] =   ([acc_test ,cm_test.TP, cm_test.TN, cm_test.FP, cm_test.FN, cm_test.FPR, cm_test.FNR,roc_auc,mcc])\n",
    "    print(\"\\n\")"
   ]
  },
  {
   "cell_type": "markdown",
   "metadata": {},
   "source": [
    "### <a id='3.A' style=\"text-decoration : none; color : #000000;\"> A. Results</a>"
   ]
  },
  {
   "cell_type": "code",
   "execution_count": 28,
   "metadata": {},
   "outputs": [
    {
     "data": {
      "application/vnd.plotly.v1+json": {
       "config": {
        "linkText": "Export to plot.ly",
        "plotlyServerURL": "https://plot.ly",
        "showLink": true
       },
       "data": [
        {
         "mode": "lines",
         "name": "KNN_model",
         "type": "scatter",
         "uid": "520e21c1-89ef-4aee-be51-e572da75eed5",
         "x": [
          "accuracy",
          "FPR",
          "FNR",
          "auc"
         ],
         "y": [
          0.8401703103250635,
          0.04560260586319218,
          0.8315492957746479,
          0.5614240491810799
         ]
        },
        {
         "mode": "lines+markers",
         "name": "Logistic Regression",
         "type": "scatter",
         "uid": "f88df3fc-a8d7-4d91-a03f-910b7f25b534",
         "x": [
          "accuracy",
          "FPR",
          "FNR",
          "auc"
         ],
         "y": [
          0.8273151559813313,
          0.19486491665069935,
          0.04225352112676056,
          0.88144078111127
         ]
        },
        {
         "marker": {
          "symbol": "x"
         },
         "mode": "lines+markers",
         "name": "Random Forest",
         "type": "scatter",
         "uid": "318bcaa6-26b8-477e-8919-c2e937474fec",
         "x": [
          "accuracy",
          "FPR",
          "FNR",
          "auc"
         ],
         "y": [
          0.8974862851060346,
          0.10749185667752444,
          0.07323943661971831,
          0.9096343533513787
         ]
        },
        {
         "mode": "lines",
         "name": "Ada Boost",
         "type": "scatter",
         "uid": "6cf479e9-2d62-40f6-9a0d-43dfb28bf569",
         "x": [
          "accuracy",
          "FPR",
          "FNR",
          "auc"
         ],
         "y": [
          0.8612953410300499,
          0.15347767771603754,
          0.051830985915492955,
          0.8973456681842347
         ]
        },
        {
         "mode": "lines+markers",
         "name": "GradientBoosting",
         "type": "scatter",
         "uid": "3aca028c-a58a-435e-b50f-3628d1a10a6b",
         "x": [
          "accuracy",
          "FPR",
          "FNR",
          "auc"
         ],
         "y": [
          0.8825841316629821,
          0.1254071661237785,
          0.07042253521126761,
          0.9020851493324769
         ]
        },
        {
         "marker": {
          "symbol": "x"
         },
         "mode": "lines+markers",
         "name": "ExtraTree Classifier",
         "type": "scatter",
         "uid": "a2f7ebc9-8c59-4ff7-a470-ca1f83cf8f2d",
         "x": [
          "accuracy",
          "FPR",
          "FNR",
          "auc"
         ],
         "y": [
          0.9015802833046753,
          0.10183943284154053,
          0.07830985915492958,
          0.9099253540017649
         ]
        },
        {
         "marker": {
          "symbol": "x"
         },
         "mode": "lines+markers",
         "name": "Bagging",
         "type": "scatter",
         "uid": "6df54da3-15e5-4609-a758-a28567509f3d",
         "x": [
          "accuracy",
          "FPR",
          "FNR",
          "auc"
         ],
         "y": [
          0.8927372471956112,
          0.11371910327648975,
          0.06929577464788732,
          0.9084925610378115
         ]
        },
        {
         "marker": {
          "symbol": "x"
         },
         "mode": "lines+markers",
         "name": "Neural Network",
         "type": "scatter",
         "uid": "dd0b4c4d-f728-4460-a729-150f01047969",
         "x": [
          "accuracy",
          "FPR",
          "FNR",
          "auc"
         ],
         "y": [
          0.8599033816425121,
          0.15462732324200038,
          0.05464788732394366,
          0.8953623947170279
         ]
        }
       ],
       "layout": {
        "title": "Result comparision for Features selected in Section 1",
        "yaxis": {
         "dtick": 0.05,
         "tick0": 0
        }
       }
      },
      "text/html": [
       "<div id=\"8e2bb06b-4242-4356-91ae-5d2dd25d1f96\" style=\"height: 525px; width: 100%;\" class=\"plotly-graph-div\"></div><script type=\"text/javascript\">require([\"plotly\"], function(Plotly) { window.PLOTLYENV=window.PLOTLYENV || {};window.PLOTLYENV.BASE_URL=\"https://plot.ly\";Plotly.newPlot(\"8e2bb06b-4242-4356-91ae-5d2dd25d1f96\", [{\"mode\": \"lines\", \"name\": \"KNN_model\", \"x\": [\"accuracy\", \"FPR\", \"FNR\", \"auc\"], \"y\": [0.8401703103250635, 0.04560260586319218, 0.8315492957746479, 0.5614240491810799], \"type\": \"scatter\", \"uid\": \"520e21c1-89ef-4aee-be51-e572da75eed5\"}, {\"mode\": \"lines+markers\", \"name\": \"Logistic Regression\", \"x\": [\"accuracy\", \"FPR\", \"FNR\", \"auc\"], \"y\": [0.8273151559813313, 0.19486491665069935, 0.04225352112676056, 0.88144078111127], \"type\": \"scatter\", \"uid\": \"f88df3fc-a8d7-4d91-a03f-910b7f25b534\"}, {\"marker\": {\"symbol\": \"x\"}, \"mode\": \"lines+markers\", \"name\": \"Random Forest\", \"x\": [\"accuracy\", \"FPR\", \"FNR\", \"auc\"], \"y\": [0.8974862851060346, 0.10749185667752444, 0.07323943661971831, 0.9096343533513787], \"type\": \"scatter\", \"uid\": \"318bcaa6-26b8-477e-8919-c2e937474fec\"}, {\"mode\": \"lines\", \"name\": \"Ada Boost\", \"x\": [\"accuracy\", \"FPR\", \"FNR\", \"auc\"], \"y\": [0.8612953410300499, 0.15347767771603754, 0.051830985915492955, 0.8973456681842347], \"type\": \"scatter\", \"uid\": \"6cf479e9-2d62-40f6-9a0d-43dfb28bf569\"}, {\"mode\": \"lines+markers\", \"name\": \"GradientBoosting\", \"x\": [\"accuracy\", \"FPR\", \"FNR\", \"auc\"], \"y\": [0.8825841316629821, 0.1254071661237785, 0.07042253521126761, 0.9020851493324769], \"type\": \"scatter\", \"uid\": \"3aca028c-a58a-435e-b50f-3628d1a10a6b\"}, {\"marker\": {\"symbol\": \"x\"}, \"mode\": \"lines+markers\", \"name\": \"ExtraTree Classifier\", \"x\": [\"accuracy\", \"FPR\", \"FNR\", \"auc\"], \"y\": [0.9015802833046753, 0.10183943284154053, 0.07830985915492958, 0.9099253540017649], \"type\": \"scatter\", \"uid\": \"a2f7ebc9-8c59-4ff7-a470-ca1f83cf8f2d\"}, {\"marker\": {\"symbol\": \"x\"}, \"mode\": \"lines+markers\", \"name\": \"Bagging\", \"x\": [\"accuracy\", \"FPR\", \"FNR\", \"auc\"], \"y\": [0.8927372471956112, 0.11371910327648975, 0.06929577464788732, 0.9084925610378115], \"type\": \"scatter\", \"uid\": \"6df54da3-15e5-4609-a758-a28567509f3d\"}, {\"marker\": {\"symbol\": \"x\"}, \"mode\": \"lines+markers\", \"name\": \"Neural Network\", \"x\": [\"accuracy\", \"FPR\", \"FNR\", \"auc\"], \"y\": [0.8599033816425121, 0.15462732324200038, 0.05464788732394366, 0.8953623947170279], \"type\": \"scatter\", \"uid\": \"dd0b4c4d-f728-4460-a729-150f01047969\"}], {\"title\": \"Result comparision for Features selected in Section 1\", \"yaxis\": {\"dtick\": 0.05, \"tick0\": 0}}, {\"showLink\": true, \"linkText\": \"Export to plot.ly\", \"plotlyServerURL\": \"https://plot.ly\"})});</script><script type=\"text/javascript\">window.addEventListener(\"resize\", function(){window._Plotly.Plots.resize(document.getElementById(\"8e2bb06b-4242-4356-91ae-5d2dd25d1f96\"));});</script>"
      ],
      "text/vnd.plotly.v1+html": [
       "<div id=\"8e2bb06b-4242-4356-91ae-5d2dd25d1f96\" style=\"height: 525px; width: 100%;\" class=\"plotly-graph-div\"></div><script type=\"text/javascript\">require([\"plotly\"], function(Plotly) { window.PLOTLYENV=window.PLOTLYENV || {};window.PLOTLYENV.BASE_URL=\"https://plot.ly\";Plotly.newPlot(\"8e2bb06b-4242-4356-91ae-5d2dd25d1f96\", [{\"mode\": \"lines\", \"name\": \"KNN_model\", \"x\": [\"accuracy\", \"FPR\", \"FNR\", \"auc\"], \"y\": [0.8401703103250635, 0.04560260586319218, 0.8315492957746479, 0.5614240491810799], \"type\": \"scatter\", \"uid\": \"520e21c1-89ef-4aee-be51-e572da75eed5\"}, {\"mode\": \"lines+markers\", \"name\": \"Logistic Regression\", \"x\": [\"accuracy\", \"FPR\", \"FNR\", \"auc\"], \"y\": [0.8273151559813313, 0.19486491665069935, 0.04225352112676056, 0.88144078111127], \"type\": \"scatter\", \"uid\": \"f88df3fc-a8d7-4d91-a03f-910b7f25b534\"}, {\"marker\": {\"symbol\": \"x\"}, \"mode\": \"lines+markers\", \"name\": \"Random Forest\", \"x\": [\"accuracy\", \"FPR\", \"FNR\", \"auc\"], \"y\": [0.8974862851060346, 0.10749185667752444, 0.07323943661971831, 0.9096343533513787], \"type\": \"scatter\", \"uid\": \"318bcaa6-26b8-477e-8919-c2e937474fec\"}, {\"mode\": \"lines\", \"name\": \"Ada Boost\", \"x\": [\"accuracy\", \"FPR\", \"FNR\", \"auc\"], \"y\": [0.8612953410300499, 0.15347767771603754, 0.051830985915492955, 0.8973456681842347], \"type\": \"scatter\", \"uid\": \"6cf479e9-2d62-40f6-9a0d-43dfb28bf569\"}, {\"mode\": \"lines+markers\", \"name\": \"GradientBoosting\", \"x\": [\"accuracy\", \"FPR\", \"FNR\", \"auc\"], \"y\": [0.8825841316629821, 0.1254071661237785, 0.07042253521126761, 0.9020851493324769], \"type\": \"scatter\", \"uid\": \"3aca028c-a58a-435e-b50f-3628d1a10a6b\"}, {\"marker\": {\"symbol\": \"x\"}, \"mode\": \"lines+markers\", \"name\": \"ExtraTree Classifier\", \"x\": [\"accuracy\", \"FPR\", \"FNR\", \"auc\"], \"y\": [0.9015802833046753, 0.10183943284154053, 0.07830985915492958, 0.9099253540017649], \"type\": \"scatter\", \"uid\": \"a2f7ebc9-8c59-4ff7-a470-ca1f83cf8f2d\"}, {\"marker\": {\"symbol\": \"x\"}, \"mode\": \"lines+markers\", \"name\": \"Bagging\", \"x\": [\"accuracy\", \"FPR\", \"FNR\", \"auc\"], \"y\": [0.8927372471956112, 0.11371910327648975, 0.06929577464788732, 0.9084925610378115], \"type\": \"scatter\", \"uid\": \"6df54da3-15e5-4609-a758-a28567509f3d\"}, {\"marker\": {\"symbol\": \"x\"}, \"mode\": \"lines+markers\", \"name\": \"Neural Network\", \"x\": [\"accuracy\", \"FPR\", \"FNR\", \"auc\"], \"y\": [0.8599033816425121, 0.15462732324200038, 0.05464788732394366, 0.8953623947170279], \"type\": \"scatter\", \"uid\": \"dd0b4c4d-f728-4460-a729-150f01047969\"}], {\"title\": \"Result comparision for Features selected in Section 1\", \"yaxis\": {\"dtick\": 0.05, \"tick0\": 0}}, {\"showLink\": true, \"linkText\": \"Export to plot.ly\", \"plotlyServerURL\": \"https://plot.ly\"})});</script><script type=\"text/javascript\">window.addEventListener(\"resize\", function(){window._Plotly.Plots.resize(document.getElementById(\"8e2bb06b-4242-4356-91ae-5d2dd25d1f96\"));});</script>"
      ]
     },
     "metadata": {},
     "output_type": "display_data"
    }
   ],
   "source": [
    "trace0 = go.Scatter(x=table_80_90_test.iloc[0].index.values[[0,5,6,7]],\n",
    "                    y=table_80_90_test.iloc[0].values[[0,5,6,7]],\n",
    "                    mode = 'lines',\n",
    "                    name = 'KNN_model')\n",
    "\n",
    "trace1 = go.Scatter(x=table_80_90_test.iloc[1].index.values[[0,5,6,7]],\n",
    "                    y=table_80_90_test.iloc[1].values[[0,5,6,7]],\n",
    "                    mode = 'lines+markers',\n",
    "                    name = 'Logistic Regression')\n",
    "\n",
    "trace2 = go.Scatter(x=table_80_90_test.iloc[2].index.values[[0,5,6,7]],\n",
    "                    y=table_80_90_test.iloc[2].values[[0,5,6,7]],\n",
    "                    mode = 'lines+markers',marker=dict(symbol='x'),\n",
    "                    name = 'Random Forest')\n",
    "\n",
    "\n",
    "trace3 = go.Scatter(x=table_80_90_test.iloc[3].index.values[[0,5,6,7]],\n",
    "                    y=table_80_90_test.iloc[3].values[[0,5,6,7]],\n",
    "                    mode = 'lines',\n",
    "                    name = 'Ada Boost')\n",
    "\n",
    "trace4 = go.Scatter(x=table_80_90_test.iloc[4].index.values[[0,5,6,7]],\n",
    "                    y=table_80_90_test.iloc[4].values[[0,5,6,7]],\n",
    "                    mode = 'lines+markers',\n",
    "                    name = 'GradientBoosting')\n",
    "\n",
    "trace5 = go.Scatter(x=table_80_90_test.iloc[5].index.values[[0,5,6,7]],\n",
    "                    y=table_80_90_test.iloc[5].values[[0,5,6,7]],\n",
    "                    mode = 'lines+markers',marker=dict(symbol='x'),\n",
    "                    name = 'ExtraTree Classifier')\n",
    "\n",
    "trace6 = go.Scatter(x=table_80_90_test.iloc[6].index.values[[0,5,6,7]],\n",
    "                    y=table_80_90_test.iloc[6].values[[0,5,6,7]],\n",
    "                    mode = 'lines+markers',marker=dict(symbol='x'),\n",
    "                    name = 'Bagging')\n",
    "\n",
    "trace7 = go.Scatter(x=table_80_90_test.iloc[7].index.values[[0,5,6,7]],\n",
    "                    y=table_80_90_test.iloc[7].values[[0,5,6,7]],\n",
    "                    mode = 'lines+markers',marker=dict(symbol='x'),\n",
    "                    name = 'Neural Network')\n",
    "\n",
    "\n",
    "\n",
    "data = [trace0, trace1, trace2, trace3, trace4, trace5, trace6, trace7]\n",
    "layout = go.Layout(yaxis=dict(tick0=0,dtick=0.05),title='Result comparision for Features selected in Section 1')\n",
    "fig = go.Figure(data=data, layout=layout)\n",
    "\n",
    "iplot(fig, filename='Result')"
   ]
  },
  {
   "cell_type": "code",
   "execution_count": 29,
   "metadata": {},
   "outputs": [
    {
     "name": "stdout",
     "output_type": "stream",
     "text": [
      "Training Results\n"
     ]
    },
    {
     "data": {
      "text/html": [
       "<div>\n",
       "<style scoped>\n",
       "    .dataframe tbody tr th:only-of-type {\n",
       "        vertical-align: middle;\n",
       "    }\n",
       "\n",
       "    .dataframe tbody tr th {\n",
       "        vertical-align: top;\n",
       "    }\n",
       "\n",
       "    .dataframe thead th {\n",
       "        text-align: right;\n",
       "    }\n",
       "</style>\n",
       "<table border=\"1\" class=\"dataframe\">\n",
       "  <thead>\n",
       "    <tr style=\"text-align: right;\">\n",
       "      <th></th>\n",
       "      <th>accuracy</th>\n",
       "      <th>TP</th>\n",
       "      <th>TN</th>\n",
       "      <th>FP</th>\n",
       "      <th>FN</th>\n",
       "      <th>FPR</th>\n",
       "      <th>FNR</th>\n",
       "    </tr>\n",
       "    <tr>\n",
       "      <th>index</th>\n",
       "      <th></th>\n",
       "      <th></th>\n",
       "      <th></th>\n",
       "      <th></th>\n",
       "      <th></th>\n",
       "      <th></th>\n",
       "      <th></th>\n",
       "    </tr>\n",
       "  </thead>\n",
       "  <tbody>\n",
       "    <tr>\n",
       "      <th>KNeighborsClassifier</th>\n",
       "      <td>0.582170</td>\n",
       "      <td>814.0</td>\n",
       "      <td>4025.0</td>\n",
       "      <td>131.0</td>\n",
       "      <td>3342.0</td>\n",
       "      <td>0.031521</td>\n",
       "      <td>0.804139</td>\n",
       "    </tr>\n",
       "    <tr>\n",
       "      <th>LogisticRegression</th>\n",
       "      <td>0.880775</td>\n",
       "      <td>3996.0</td>\n",
       "      <td>3325.0</td>\n",
       "      <td>831.0</td>\n",
       "      <td>160.0</td>\n",
       "      <td>0.199952</td>\n",
       "      <td>0.038499</td>\n",
       "    </tr>\n",
       "    <tr>\n",
       "      <th>RandomForestClassifier</th>\n",
       "      <td>0.948869</td>\n",
       "      <td>4070.0</td>\n",
       "      <td>3817.0</td>\n",
       "      <td>339.0</td>\n",
       "      <td>86.0</td>\n",
       "      <td>0.081569</td>\n",
       "      <td>0.020693</td>\n",
       "    </tr>\n",
       "    <tr>\n",
       "      <th>AdaBoostClassifier</th>\n",
       "      <td>0.896535</td>\n",
       "      <td>3934.0</td>\n",
       "      <td>3518.0</td>\n",
       "      <td>638.0</td>\n",
       "      <td>222.0</td>\n",
       "      <td>0.153513</td>\n",
       "      <td>0.053417</td>\n",
       "    </tr>\n",
       "    <tr>\n",
       "      <th>GradientBoostingClassifier</th>\n",
       "      <td>0.912897</td>\n",
       "      <td>3920.0</td>\n",
       "      <td>3668.0</td>\n",
       "      <td>488.0</td>\n",
       "      <td>236.0</td>\n",
       "      <td>0.117421</td>\n",
       "      <td>0.056785</td>\n",
       "    </tr>\n",
       "    <tr>\n",
       "      <th>ExtraTreeClassifier</th>\n",
       "      <td>0.953441</td>\n",
       "      <td>4108.0</td>\n",
       "      <td>3817.0</td>\n",
       "      <td>339.0</td>\n",
       "      <td>48.0</td>\n",
       "      <td>0.081569</td>\n",
       "      <td>0.011550</td>\n",
       "    </tr>\n",
       "    <tr>\n",
       "      <th>BaggingClassifier</th>\n",
       "      <td>0.950192</td>\n",
       "      <td>4085.0</td>\n",
       "      <td>3813.0</td>\n",
       "      <td>343.0</td>\n",
       "      <td>71.0</td>\n",
       "      <td>0.082531</td>\n",
       "      <td>0.017084</td>\n",
       "    </tr>\n",
       "    <tr>\n",
       "      <th>Neural Network-1</th>\n",
       "      <td>0.921679</td>\n",
       "      <td>4059.0</td>\n",
       "      <td>3602.0</td>\n",
       "      <td>554.0</td>\n",
       "      <td>97.0</td>\n",
       "      <td>0.133301</td>\n",
       "      <td>0.023340</td>\n",
       "    </tr>\n",
       "  </tbody>\n",
       "</table>\n",
       "</div>"
      ],
      "text/plain": [
       "                            accuracy      TP      TN     FP      FN       FPR  \\\n",
       "index                                                                           \n",
       "KNeighborsClassifier        0.582170   814.0  4025.0  131.0  3342.0  0.031521   \n",
       "LogisticRegression          0.880775  3996.0  3325.0  831.0   160.0  0.199952   \n",
       "RandomForestClassifier      0.948869  4070.0  3817.0  339.0    86.0  0.081569   \n",
       "AdaBoostClassifier          0.896535  3934.0  3518.0  638.0   222.0  0.153513   \n",
       "GradientBoostingClassifier  0.912897  3920.0  3668.0  488.0   236.0  0.117421   \n",
       "ExtraTreeClassifier         0.953441  4108.0  3817.0  339.0    48.0  0.081569   \n",
       "BaggingClassifier           0.950192  4085.0  3813.0  343.0    71.0  0.082531   \n",
       "Neural Network-1            0.921679  4059.0  3602.0  554.0    97.0  0.133301   \n",
       "\n",
       "                                 FNR  \n",
       "index                                 \n",
       "KNeighborsClassifier        0.804139  \n",
       "LogisticRegression          0.038499  \n",
       "RandomForestClassifier      0.020693  \n",
       "AdaBoostClassifier          0.053417  \n",
       "GradientBoostingClassifier  0.056785  \n",
       "ExtraTreeClassifier         0.011550  \n",
       "BaggingClassifier           0.017084  \n",
       "Neural Network-1            0.023340  "
      ]
     },
     "metadata": {},
     "output_type": "display_data"
    },
    {
     "name": "stdout",
     "output_type": "stream",
     "text": [
      "Test Results\n"
     ]
    },
    {
     "data": {
      "text/html": [
       "<div>\n",
       "<style scoped>\n",
       "    .dataframe tbody tr th:only-of-type {\n",
       "        vertical-align: middle;\n",
       "    }\n",
       "\n",
       "    .dataframe tbody tr th {\n",
       "        vertical-align: top;\n",
       "    }\n",
       "\n",
       "    .dataframe thead th {\n",
       "        text-align: right;\n",
       "    }\n",
       "</style>\n",
       "<table border=\"1\" class=\"dataframe\">\n",
       "  <thead>\n",
       "    <tr style=\"text-align: right;\">\n",
       "      <th></th>\n",
       "      <th>accuracy</th>\n",
       "      <th>TP</th>\n",
       "      <th>TN</th>\n",
       "      <th>FP</th>\n",
       "      <th>FN</th>\n",
       "      <th>FPR</th>\n",
       "      <th>FNR</th>\n",
       "      <th>auc</th>\n",
       "      <th>mcc</th>\n",
       "    </tr>\n",
       "    <tr>\n",
       "      <th>index</th>\n",
       "      <th></th>\n",
       "      <th></th>\n",
       "      <th></th>\n",
       "      <th></th>\n",
       "      <th></th>\n",
       "      <th></th>\n",
       "      <th></th>\n",
       "      <th></th>\n",
       "      <th></th>\n",
       "    </tr>\n",
       "  </thead>\n",
       "  <tbody>\n",
       "    <tr>\n",
       "      <th>KNeighborsClassifier</th>\n",
       "      <td>0.840170</td>\n",
       "      <td>299.0</td>\n",
       "      <td>9962.0</td>\n",
       "      <td>476.0</td>\n",
       "      <td>1476.0</td>\n",
       "      <td>0.045603</td>\n",
       "      <td>0.831549</td>\n",
       "      <td>0.561424</td>\n",
       "      <td>0.177603</td>\n",
       "    </tr>\n",
       "    <tr>\n",
       "      <th>LogisticRegression</th>\n",
       "      <td>0.827315</td>\n",
       "      <td>1700.0</td>\n",
       "      <td>8404.0</td>\n",
       "      <td>2034.0</td>\n",
       "      <td>75.0</td>\n",
       "      <td>0.194865</td>\n",
       "      <td>0.042254</td>\n",
       "      <td>0.881441</td>\n",
       "      <td>0.583587</td>\n",
       "    </tr>\n",
       "    <tr>\n",
       "      <th>RandomForestClassifier</th>\n",
       "      <td>0.897486</td>\n",
       "      <td>1645.0</td>\n",
       "      <td>9316.0</td>\n",
       "      <td>1122.0</td>\n",
       "      <td>130.0</td>\n",
       "      <td>0.107492</td>\n",
       "      <td>0.073239</td>\n",
       "      <td>0.909634</td>\n",
       "      <td>0.689772</td>\n",
       "    </tr>\n",
       "    <tr>\n",
       "      <th>AdaBoostClassifier</th>\n",
       "      <td>0.861295</td>\n",
       "      <td>1683.0</td>\n",
       "      <td>8836.0</td>\n",
       "      <td>1602.0</td>\n",
       "      <td>92.0</td>\n",
       "      <td>0.153478</td>\n",
       "      <td>0.051831</td>\n",
       "      <td>0.897346</td>\n",
       "      <td>0.631628</td>\n",
       "    </tr>\n",
       "    <tr>\n",
       "      <th>GradientBoostingClassifier</th>\n",
       "      <td>0.882584</td>\n",
       "      <td>1650.0</td>\n",
       "      <td>9129.0</td>\n",
       "      <td>1309.0</td>\n",
       "      <td>125.0</td>\n",
       "      <td>0.125407</td>\n",
       "      <td>0.070423</td>\n",
       "      <td>0.902085</td>\n",
       "      <td>0.661483</td>\n",
       "    </tr>\n",
       "    <tr>\n",
       "      <th>ExtraTreeClassifier</th>\n",
       "      <td>0.901580</td>\n",
       "      <td>1636.0</td>\n",
       "      <td>9375.0</td>\n",
       "      <td>1063.0</td>\n",
       "      <td>139.0</td>\n",
       "      <td>0.101839</td>\n",
       "      <td>0.078310</td>\n",
       "      <td>0.909925</td>\n",
       "      <td>0.696401</td>\n",
       "    </tr>\n",
       "    <tr>\n",
       "      <th>BaggingClassifier</th>\n",
       "      <td>0.892737</td>\n",
       "      <td>1652.0</td>\n",
       "      <td>9251.0</td>\n",
       "      <td>1187.0</td>\n",
       "      <td>123.0</td>\n",
       "      <td>0.113719</td>\n",
       "      <td>0.069296</td>\n",
       "      <td>0.908493</td>\n",
       "      <td>0.681674</td>\n",
       "    </tr>\n",
       "    <tr>\n",
       "      <th>Neural Network-1</th>\n",
       "      <td>0.859903</td>\n",
       "      <td>1678.0</td>\n",
       "      <td>8824.0</td>\n",
       "      <td>1614.0</td>\n",
       "      <td>97.0</td>\n",
       "      <td>0.154627</td>\n",
       "      <td>0.054648</td>\n",
       "      <td>0.895362</td>\n",
       "      <td>0.628053</td>\n",
       "    </tr>\n",
       "  </tbody>\n",
       "</table>\n",
       "</div>"
      ],
      "text/plain": [
       "                            accuracy      TP      TN      FP      FN  \\\n",
       "index                                                                  \n",
       "KNeighborsClassifier        0.840170   299.0  9962.0   476.0  1476.0   \n",
       "LogisticRegression          0.827315  1700.0  8404.0  2034.0    75.0   \n",
       "RandomForestClassifier      0.897486  1645.0  9316.0  1122.0   130.0   \n",
       "AdaBoostClassifier          0.861295  1683.0  8836.0  1602.0    92.0   \n",
       "GradientBoostingClassifier  0.882584  1650.0  9129.0  1309.0   125.0   \n",
       "ExtraTreeClassifier         0.901580  1636.0  9375.0  1063.0   139.0   \n",
       "BaggingClassifier           0.892737  1652.0  9251.0  1187.0   123.0   \n",
       "Neural Network-1            0.859903  1678.0  8824.0  1614.0    97.0   \n",
       "\n",
       "                                 FPR       FNR       auc       mcc  \n",
       "index                                                               \n",
       "KNeighborsClassifier        0.045603  0.831549  0.561424  0.177603  \n",
       "LogisticRegression          0.194865  0.042254  0.881441  0.583587  \n",
       "RandomForestClassifier      0.107492  0.073239  0.909634  0.689772  \n",
       "AdaBoostClassifier          0.153478  0.051831  0.897346  0.631628  \n",
       "GradientBoostingClassifier  0.125407  0.070423  0.902085  0.661483  \n",
       "ExtraTreeClassifier         0.101839  0.078310  0.909925  0.696401  \n",
       "BaggingClassifier           0.113719  0.069296  0.908493  0.681674  \n",
       "Neural Network-1            0.154627  0.054648  0.895362  0.628053  "
      ]
     },
     "metadata": {},
     "output_type": "display_data"
    }
   ],
   "source": [
    "table_80_90_train['index']=ind_columns\n",
    "table_80_90_test['index']=ind_columns\n",
    "\n",
    "\n",
    "table_80_90_test.set_index(['index'],drop=True,inplace=True)\n",
    "table_80_90_train.set_index(['index'],drop=True,inplace=True)\n",
    "\n",
    "print(\"Training Results\")\n",
    "display(table_80_90_train)\n",
    "print(\"Test Results\")\n",
    "display(table_80_90_test)"
   ]
  },
  {
   "cell_type": "markdown",
   "metadata": {},
   "source": [
    "### <a id='3.B' style=\"text-decoration : none; color : #000000;\"> B. Average Feature Importances</a>"
   ]
  },
  {
   "cell_type": "code",
   "execution_count": 30,
   "metadata": {},
   "outputs": [
    {
     "data": {
      "application/vnd.plotly.v1+json": {
       "config": {
        "linkText": "Export to plot.ly",
        "plotlyServerURL": "https://plot.ly",
        "showLink": true
       },
       "data": [
        {
         "marker": {
          "color": "rgb(158,202,225)",
          "line": {
           "color": "rgb(8,48,107)",
           "width": 1.5
          }
         },
         "opacity": 0.6,
         "orientation": "h",
         "text": [
          0.2472,
          0.1776,
          0.0748,
          0.0685,
          0.0555,
          0.0555,
          0.0551,
          0.0419,
          0.0312,
          0.0305,
          0.0183,
          0.0167,
          0.014,
          0.014,
          0.0134,
          0.0119,
          0.0118,
          0.0111,
          0.0097,
          0.0087,
          0.0077,
          0.0075,
          0.0062,
          0.0054,
          0.003,
          0.0027
         ],
         "textposition": "outside",
         "type": "bar",
         "uid": "a12ac4b2-66e9-469d-9469-fb0907e72ff9",
         "x": [
          0.2472332099418942,
          0.17757089378601645,
          0.07480235941509525,
          0.06846561778858938,
          0.05551349561996173,
          0.05549897717380932,
          0.055104079277539963,
          0.04191584152952118,
          0.031229486220057612,
          0.030465888782368878,
          0.018341935704495996,
          0.01669058172938509,
          0.014024883480332725,
          0.013950509180099279,
          0.013361958938378583,
          0.011941818724076885,
          0.011846925940447367,
          0.011144056589885563,
          0.009737926038536496,
          0.00872514266738738,
          0.0077003420339200905,
          0.007505705836440297,
          0.006213668857694206,
          0.005374020133342584,
          0.0029742369636973163,
          0.002666437647026175
         ],
         "y": [
          "total_count",
          "total_href",
          "link_href_out_of_domain",
          "a_href_https",
          "script_async_true",
          "p_count",
          "meta_count",
          "push",
          "link_type_text/css",
          "script_src_out_of_domain",
          "link_href_http",
          "strong_count",
          "link_href_.css",
          "link_rel_shortlink",
          "form_action_http",
          "center_count",
          "window.setTimeout",
          "indexOf",
          "link_type_application/rsd+xml",
          "a_href_.com",
          "get",
          "replace",
          "window.addEventListener",
          "iframe_src_https",
          "document.write",
          "find"
         ]
        }
       ],
       "layout": {
        "autosize": false,
        "height": 1000,
        "width": 1000,
        "xaxis": {
         "tickfont": {
          "color": "black",
          "size": 12
         },
         "title": "Feature Importances"
        },
        "yaxis": {
         "automargin": true
        }
       }
      },
      "text/html": [
       "<div id=\"cd1a9239-5411-4ee4-b578-6991a9a66fde\" style=\"height: 1000px; width: 1000px;\" class=\"plotly-graph-div\"></div><script type=\"text/javascript\">require([\"plotly\"], function(Plotly) { window.PLOTLYENV=window.PLOTLYENV || {};window.PLOTLYENV.BASE_URL=\"https://plot.ly\";Plotly.newPlot(\"cd1a9239-5411-4ee4-b578-6991a9a66fde\", [{\"marker\": {\"color\": \"rgb(158,202,225)\", \"line\": {\"color\": \"rgb(8,48,107)\", \"width\": 1.5}}, \"opacity\": 0.6, \"orientation\": \"h\", \"text\": [0.2472, 0.1776, 0.0748, 0.0685, 0.0555, 0.0555, 0.0551, 0.0419, 0.0312, 0.0305, 0.0183, 0.0167, 0.014, 0.014, 0.0134, 0.0119, 0.0118, 0.0111, 0.0097, 0.0087, 0.0077, 0.0075, 0.0062, 0.0054, 0.003, 0.0027], \"textposition\": \"outside\", \"x\": [0.2472332099418942, 0.17757089378601645, 0.07480235941509525, 0.06846561778858938, 0.05551349561996173, 0.05549897717380932, 0.055104079277539963, 0.04191584152952118, 0.031229486220057612, 0.030465888782368878, 0.018341935704495996, 0.01669058172938509, 0.014024883480332725, 0.013950509180099279, 0.013361958938378583, 0.011941818724076885, 0.011846925940447367, 0.011144056589885563, 0.009737926038536496, 0.00872514266738738, 0.0077003420339200905, 0.007505705836440297, 0.006213668857694206, 0.005374020133342584, 0.0029742369636973163, 0.002666437647026175], \"y\": [\"total_count\", \"total_href\", \"link_href_out_of_domain\", \"a_href_https\", \"script_async_true\", \"p_count\", \"meta_count\", \"push\", \"link_type_text/css\", \"script_src_out_of_domain\", \"link_href_http\", \"strong_count\", \"link_href_.css\", \"link_rel_shortlink\", \"form_action_http\", \"center_count\", \"window.setTimeout\", \"indexOf\", \"link_type_application/rsd+xml\", \"a_href_.com\", \"get\", \"replace\", \"window.addEventListener\", \"iframe_src_https\", \"document.write\", \"find\"], \"type\": \"bar\", \"uid\": \"a12ac4b2-66e9-469d-9469-fb0907e72ff9\"}], {\"autosize\": false, \"height\": 1000, \"width\": 1000, \"xaxis\": {\"tickfont\": {\"color\": \"black\", \"size\": 12}, \"title\": \"Feature Importances\"}, \"yaxis\": {\"automargin\": true}}, {\"showLink\": true, \"linkText\": \"Export to plot.ly\", \"plotlyServerURL\": \"https://plot.ly\"})});</script>"
      ],
      "text/vnd.plotly.v1+html": [
       "<div id=\"cd1a9239-5411-4ee4-b578-6991a9a66fde\" style=\"height: 1000px; width: 1000px;\" class=\"plotly-graph-div\"></div><script type=\"text/javascript\">require([\"plotly\"], function(Plotly) { window.PLOTLYENV=window.PLOTLYENV || {};window.PLOTLYENV.BASE_URL=\"https://plot.ly\";Plotly.newPlot(\"cd1a9239-5411-4ee4-b578-6991a9a66fde\", [{\"marker\": {\"color\": \"rgb(158,202,225)\", \"line\": {\"color\": \"rgb(8,48,107)\", \"width\": 1.5}}, \"opacity\": 0.6, \"orientation\": \"h\", \"text\": [0.2472, 0.1776, 0.0748, 0.0685, 0.0555, 0.0555, 0.0551, 0.0419, 0.0312, 0.0305, 0.0183, 0.0167, 0.014, 0.014, 0.0134, 0.0119, 0.0118, 0.0111, 0.0097, 0.0087, 0.0077, 0.0075, 0.0062, 0.0054, 0.003, 0.0027], \"textposition\": \"outside\", \"x\": [0.2472332099418942, 0.17757089378601645, 0.07480235941509525, 0.06846561778858938, 0.05551349561996173, 0.05549897717380932, 0.055104079277539963, 0.04191584152952118, 0.031229486220057612, 0.030465888782368878, 0.018341935704495996, 0.01669058172938509, 0.014024883480332725, 0.013950509180099279, 0.013361958938378583, 0.011941818724076885, 0.011846925940447367, 0.011144056589885563, 0.009737926038536496, 0.00872514266738738, 0.0077003420339200905, 0.007505705836440297, 0.006213668857694206, 0.005374020133342584, 0.0029742369636973163, 0.002666437647026175], \"y\": [\"total_count\", \"total_href\", \"link_href_out_of_domain\", \"a_href_https\", \"script_async_true\", \"p_count\", \"meta_count\", \"push\", \"link_type_text/css\", \"script_src_out_of_domain\", \"link_href_http\", \"strong_count\", \"link_href_.css\", \"link_rel_shortlink\", \"form_action_http\", \"center_count\", \"window.setTimeout\", \"indexOf\", \"link_type_application/rsd+xml\", \"a_href_.com\", \"get\", \"replace\", \"window.addEventListener\", \"iframe_src_https\", \"document.write\", \"find\"], \"type\": \"bar\", \"uid\": \"a12ac4b2-66e9-469d-9469-fb0907e72ff9\"}], {\"autosize\": false, \"height\": 1000, \"width\": 1000, \"xaxis\": {\"tickfont\": {\"color\": \"black\", \"size\": 12}, \"title\": \"Feature Importances\"}, \"yaxis\": {\"automargin\": true}}, {\"showLink\": true, \"linkText\": \"Export to plot.ly\", \"plotlyServerURL\": \"https://plot.ly\"})});</script>"
      ]
     },
     "metadata": {},
     "output_type": "display_data"
    }
   ],
   "source": [
    "feat_impt_plot(np.average(feat_imp,axis=0),columns)"
   ]
  },
  {
   "cell_type": "markdown",
   "metadata": {},
   "source": [
    "### <a id='4' style=\"text-decoration : none; color : #000000;\">4. Feature Transformation with feature selection </a>"
   ]
  },
  {
   "cell_type": "code",
   "execution_count": 31,
   "metadata": {},
   "outputs": [
    {
     "name": "stdout",
     "output_type": "stream",
     "text": [
      "Built 1326 features\n",
      "EntitySet scattered to workers in 4.286 seconds\n",
      "Elapsed: 00:06 | Remaining: 00:00 | Progress: 100%|██████████| Calculated: 11/11 chunks\n"
     ]
    }
   ],
   "source": [
    "df_sel.reset_index(inplace=True)\n",
    "\n",
    "# columns=columns.tolist()\n",
    "columns.append('domain')\n",
    "\n",
    "df_min=df_sel[columns]\n",
    "\n",
    "es = ft.EntitySet(id = 'malicious')\n",
    "es.entity_from_dataframe(entity_id = 'data', dataframe = df_min, index = 'domain')\n",
    "\n",
    "feature_matrix_sessions, features_defs = ft.dfs(entityset=es,target_entity=\"data\",\n",
    "                                                trans_primitives = ['add','divide','multiply'],n_jobs=-1,\n",
    "                                                verbose=1,max_depth=1)"
   ]
  },
  {
   "cell_type": "code",
   "execution_count": 32,
   "metadata": {},
   "outputs": [
    {
     "name": "stderr",
     "output_type": "stream",
     "text": [
      "distributed.client - ERROR - Failed to reconnect to scheduler after 10.00 seconds, closing client\n",
      "distributed.utils - ERROR - \n",
      "Traceback (most recent call last):\n",
      "  File \"/nethomes/darshan/anaconda3/lib/python3.6/site-packages/distributed/utils.py\", line 713, in log_errors\n",
      "    yield\n",
      "  File \"/nethomes/darshan/anaconda3/lib/python3.6/site-packages/distributed/client.py\", line 1223, in _close\n",
      "    quiet_exceptions=(CancelledError,),\n",
      "  File \"/nethomes/darshan/anaconda3/lib/python3.6/site-packages/tornado/gen.py\", line 584, in with_timeout\n",
      "    chain_future(future_converted, result)\n",
      "  File \"/nethomes/darshan/anaconda3/lib/python3.6/site-packages/tornado/concurrent.py\", line 166, in chain_future\n",
      "    future_add_done_callback(a, copy)\n",
      "  File \"/nethomes/darshan/anaconda3/lib/python3.6/site-packages/tornado/concurrent.py\", line 262, in future_add_done_callback\n",
      "    callback(future)\n",
      "  File \"/nethomes/darshan/anaconda3/lib/python3.6/site-packages/tornado/concurrent.py\", line 160, in copy\n",
      "    elif a.exception() is not None:\n",
      "concurrent.futures._base.CancelledError\n",
      "distributed.utils - ERROR - \n",
      "Traceback (most recent call last):\n",
      "  File \"/nethomes/darshan/anaconda3/lib/python3.6/site-packages/distributed/utils.py\", line 713, in log_errors\n",
      "    yield\n",
      "  File \"/nethomes/darshan/anaconda3/lib/python3.6/site-packages/distributed/client.py\", line 992, in _reconnect\n",
      "    yield self._close()\n",
      "  File \"/nethomes/darshan/anaconda3/lib/python3.6/site-packages/tornado/gen.py\", line 729, in run\n",
      "    value = future.result()\n",
      "  File \"/nethomes/darshan/anaconda3/lib/python3.6/site-packages/tornado/gen.py\", line 209, in wrapper\n",
      "    yielded = next(result)\n",
      "  File \"/nethomes/darshan/anaconda3/lib/python3.6/site-packages/distributed/client.py\", line 1223, in _close\n",
      "    quiet_exceptions=(CancelledError,),\n",
      "  File \"/nethomes/darshan/anaconda3/lib/python3.6/site-packages/tornado/gen.py\", line 584, in with_timeout\n",
      "    chain_future(future_converted, result)\n",
      "  File \"/nethomes/darshan/anaconda3/lib/python3.6/site-packages/tornado/concurrent.py\", line 166, in chain_future\n",
      "    future_add_done_callback(a, copy)\n",
      "  File \"/nethomes/darshan/anaconda3/lib/python3.6/site-packages/tornado/concurrent.py\", line 262, in future_add_done_callback\n",
      "    callback(future)\n",
      "  File \"/nethomes/darshan/anaconda3/lib/python3.6/site-packages/tornado/concurrent.py\", line 160, in copy\n",
      "    elif a.exception() is not None:\n",
      "concurrent.futures._base.CancelledError\n"
     ]
    }
   ],
   "source": [
    "df_sel.set_index(['domain'],drop=True,inplace=True)\n",
    "fs=pd.merge(feature_matrix_sessions,pd.DataFrame(df_sel.Target),left_index=True, right_index=True)\n",
    "fs.replace([np.inf],0,inplace=True)\n",
    "fs.fillna(value=0,inplace=True)"
   ]
  },
  {
   "cell_type": "code",
   "execution_count": 35,
   "metadata": {},
   "outputs": [],
   "source": [
    "# X=fs.loc[:,fs.columns!='Target']\n",
    "# y=fs.Target\n",
    "# feature_name = X.columns.tolist()"
   ]
  },
  {
   "cell_type": "code",
   "execution_count": 33,
   "metadata": {},
   "outputs": [],
   "source": [
    "feature_name=['total_count',\n",
    " 'strong_count + total_count',\n",
    " 'script_src_out_of_domain + total_count',\n",
    " 'script_async_true + total_count',\n",
    " 'script_async_true + script_src_out_of_domain',\n",
    " 'p_count + total_count',\n",
    " 'meta_count + total_count',\n",
    " 'link_type_text/css + total_count',\n",
    " 'link_type_application/rsd+xml + total_count',\n",
    " 'link_rel_shortlink + total_count',\n",
    " 'link_href_out_of_domain + total_count',\n",
    " 'link_href_http + total_count',\n",
    " 'link_href_.css + total_count',\n",
    " 'js_function_.replace( + total_count',\n",
    " 'js_function_.push( + total_count',\n",
    " 'js_function_.indexOf( + total_count',\n",
    " 'js_function_.get( + total_count',\n",
    " 'js_function_.find( + total_count',\n",
    " 'iframe_src_https + total_count',\n",
    " 'form_action_http + total_count',\n",
    " 'dom_function_window.addEventListener( + total_count',\n",
    " 'dom_function_document.write( + total_count',\n",
    " 'center_count + total_count',\n",
    " 'a_href_.com + total_count',\n",
    " 'total_href / total_count',\n",
    " 'total_count / link_href_out_of_domain',\n",
    " 'total_count + total_href',\n",
    " 'script_src_out_of_domain',\n",
    " 'link_type_application/rsd+xml + script_src_out_of_domain',\n",
    " 'link_rel_shortlink + script_src_out_of_domain',\n",
    " 'link_href_.css + script_src_out_of_domain',\n",
    " 'js_function_.indexOf( + script_async_true',\n",
    " 'js_function_.get( + script_async_true',\n",
    " 'iframe_src_https + script_src_out_of_domain',\n",
    " 'form_action_http + script_src_out_of_domain',\n",
    " 'dom_function_window.setTimeout( + total_count',\n",
    " 'dom_function_window.setTimeout( + script_src_out_of_domain',\n",
    " 'dom_function_window.addEventListener( + script_src_out_of_domain',\n",
    " 'a_href_https / total_href',\n",
    " 'a_href_https + total_count']"
   ]
  },
  {
   "cell_type": "code",
   "execution_count": 34,
   "metadata": {},
   "outputs": [],
   "source": [
    "fs=fs.reindex(df_sel.index.values)\n",
    "\n",
    "train=fs.iloc[:28496]\n",
    "train_Y=train.Target.values\n",
    "train_X=train[feature_name].values\n",
    "\n",
    "\n",
    "scaler=StandardScaler()\n",
    "scaled_X_train=scaler.fit_transform(train_X)\n",
    "\n",
    "test=fs.iloc[28496:]\n",
    "test_Y=test.Target.values\n",
    "test_X=test[feature_name]\n",
    "\n",
    "scaled_X_test=scaler.transform(test_X)"
   ]
  },
  {
   "cell_type": "code",
   "execution_count": 35,
   "metadata": {
    "scrolled": false
   },
   "outputs": [
    {
     "name": "stdout",
     "output_type": "stream",
     "text": [
      "\u001b[1mK-Nearest Neighbors\u001b[0m\n",
      "Accuracy of the model for training data is: 0.8719118472768108\n",
      "Confusion Matrix for training data is:\n"
     ]
    },
    {
     "data": {
      "text/plain": [
       "Predicted  False  True  __all__\n",
       "Actual                         \n",
       "False      24209   131    24340\n",
       "True        3519   637     4156\n",
       "__all__    27728   768    28496"
      ]
     },
     "metadata": {},
     "output_type": "display_data"
    },
    {
     "name": "stdout",
     "output_type": "stream",
     "text": [
      "Accuracy of the model for test data is: 0.8676819782199295\n",
      "Confusion Matrix for test data is:\n"
     ]
    },
    {
     "data": {
      "text/plain": [
       "Predicted  False  True  __all__\n",
       "Actual                         \n",
       "False      10377    61    10438\n",
       "True        1555   220     1775\n",
       "__all__    11932   281    12213"
      ]
     },
     "metadata": {},
     "output_type": "display_data"
    },
    {
     "name": "stdout",
     "output_type": "stream",
     "text": [
      "\n",
      "\n",
      "\u001b[1mLogistic Regression\u001b[0m\n",
      "Accuracy of the model for training data is: 0.8760527793374508\n",
      "Confusion Matrix for training data is:\n"
     ]
    },
    {
     "data": {
      "text/plain": [
       "Predicted  False  True  __all__\n",
       "Actual                         \n",
       "False      21606  2734    24340\n",
       "True         798  3358     4156\n",
       "__all__    22404  6092    28496"
      ]
     },
     "metadata": {},
     "output_type": "display_data"
    },
    {
     "name": "stdout",
     "output_type": "stream",
     "text": [
      "Accuracy of the model for test data is: 0.8766068942929666\n",
      "Confusion Matrix for test data is:\n"
     ]
    },
    {
     "data": {
      "text/plain": [
       "Predicted  False  True  __all__\n",
       "Actual                         \n",
       "False       9248  1190    10438\n",
       "True         317  1458     1775\n",
       "__all__     9565  2648    12213"
      ]
     },
     "metadata": {},
     "output_type": "display_data"
    },
    {
     "name": "stdout",
     "output_type": "stream",
     "text": [
      "\n",
      "\n",
      "\u001b[1mRandomForest Classifier\u001b[0m\n",
      "Accuracy of the model for training data is: 0.9259194272880404\n",
      "Confusion Matrix for training data is:\n"
     ]
    },
    {
     "data": {
      "text/plain": [
       "Predicted  False  True  __all__\n",
       "Actual                         \n",
       "False      22413  1927    24340\n",
       "True         184  3972     4156\n",
       "__all__    22597  5899    28496"
      ]
     },
     "metadata": {},
     "output_type": "display_data"
    },
    {
     "name": "stdout",
     "output_type": "stream",
     "text": [
      "Accuracy of the model for test data is: 0.9107508392696307\n",
      "Confusion Matrix for test data is:\n"
     ]
    },
    {
     "data": {
      "text/plain": [
       "Predicted  False  True  __all__\n",
       "Actual                         \n",
       "False       9553   885    10438\n",
       "True         205  1570     1775\n",
       "__all__     9758  2455    12213"
      ]
     },
     "metadata": {},
     "output_type": "display_data"
    },
    {
     "data": {
      "application/vnd.plotly.v1+json": {
       "config": {
        "linkText": "Export to plot.ly",
        "plotlyServerURL": "https://plot.ly",
        "showLink": true
       },
       "data": [
        {
         "marker": {
          "color": "rgb(158,202,225)",
          "line": {
           "color": "rgb(8,48,107)",
           "width": 1.5
          }
         },
         "opacity": 0.6,
         "orientation": "h",
         "text": [
          0.2514,
          0.0919,
          0.0859,
          0.0822,
          0.0747,
          0.0681,
          0.0652,
          0.0205,
          0.0186,
          0.0181,
          0.0154,
          0.0148,
          0.0133,
          0.0109,
          0.0107,
          0.0106,
          0.0092,
          0.0091,
          0.009,
          0.0089,
          0.0085,
          0.0084,
          0.0083,
          0.0081,
          0.0072,
          0.0058,
          0.0057,
          0.0055,
          0.0053,
          0.0052,
          0.0051,
          0.0051,
          0.0051,
          0.0051,
          0.0049,
          0.0042,
          0.004,
          0.0035,
          0.0034,
          0.003
         ],
         "textposition": "outside",
         "type": "bar",
         "uid": "d1d1a29d-9117-4c37-8b97-f431d677cfca",
         "x": [
          0.2513563222188353,
          0.0919412223047572,
          0.08586916312860886,
          0.08222590930623941,
          0.07469225010974831,
          0.06806304177429295,
          0.06519373538969886,
          0.02047911844999983,
          0.01861350263199778,
          0.018064711886056968,
          0.015422926045128207,
          0.014795149565957127,
          0.013306858872396635,
          0.010882910885684098,
          0.010724225002701268,
          0.010579799925206725,
          0.00918678590778291,
          0.009069531655917413,
          0.008970682365795013,
          0.008873662122818957,
          0.00851363318901512,
          0.008399884013372116,
          0.008291316182073743,
          0.008135870782677966,
          0.007220643778939308,
          0.005793026605358724,
          0.005698772499215813,
          0.005532765427324544,
          0.005281649387621398,
          0.005230908140007667,
          0.005141790663407217,
          0.005132894181170778,
          0.00510793657050463,
          0.00509682943960714,
          0.004894510819412653,
          0.004205915676258153,
          0.004021633008745791,
          0.0035231437836245995,
          0.003424988735629008,
          0.003040377566409797
         ],
         "y": [
          "get + total_count",
          "a_href_https + total_count",
          "push + total_count",
          "indexOf + total_count",
          "replace + total_count",
          "find + total_count",
          "iframe_src_https + total_count",
          "p_count + total_count",
          "meta_count + total_count",
          "total_count + total_href",
          "total_href / total_count",
          "total_count / link_href_out_of_domain",
          "link_href_.css + total_count",
          "link_href_out_of_domain + total_count",
          "a_href_https / total_href",
          "document.write + total_count",
          "strong_count + total_count",
          "form_action_http + total_count",
          "link_type_text/css + total_count",
          "link_href_.css + script_src_out_of_domain",
          "indexOf + script_async_true",
          "script_async_true + total_count",
          "script_src_out_of_domain + total_count",
          "window.setTimeout + total_count",
          "link_href_http + total_count",
          "get + script_async_true",
          "link_rel_shortlink + script_src_out_of_domain",
          "a_href_.com + total_count",
          "center_count + total_count",
          "total_count",
          "window.addEventListener + script_src_out_of_domain",
          "iframe_src_https + script_src_out_of_domain",
          "window.addEventListener + total_count",
          "form_action_http + script_src_out_of_domain",
          "link_rel_shortlink + total_count",
          "script_async_true + script_src_out_of_domain",
          "script_src_out_of_domain",
          "link_type_application/rsd+xml + total_count",
          "link_type_application/rsd+xml + script_src_out_of_domain",
          "window.setTimeout + script_src_out_of_domain"
         ]
        }
       ],
       "layout": {
        "autosize": false,
        "height": 1000,
        "width": 1000,
        "xaxis": {
         "tickfont": {
          "color": "black",
          "size": 12
         },
         "title": "Feature Importances"
        },
        "yaxis": {
         "automargin": true
        }
       }
      },
      "text/html": [
       "<div id=\"7679bd11-00d4-4000-b40c-5ad03fa02123\" style=\"height: 1000px; width: 1000px;\" class=\"plotly-graph-div\"></div><script type=\"text/javascript\">require([\"plotly\"], function(Plotly) { window.PLOTLYENV=window.PLOTLYENV || {};window.PLOTLYENV.BASE_URL=\"https://plot.ly\";Plotly.newPlot(\"7679bd11-00d4-4000-b40c-5ad03fa02123\", [{\"marker\": {\"color\": \"rgb(158,202,225)\", \"line\": {\"color\": \"rgb(8,48,107)\", \"width\": 1.5}}, \"opacity\": 0.6, \"orientation\": \"h\", \"text\": [0.2514, 0.0919, 0.0859, 0.0822, 0.0747, 0.0681, 0.0652, 0.0205, 0.0186, 0.0181, 0.0154, 0.0148, 0.0133, 0.0109, 0.0107, 0.0106, 0.0092, 0.0091, 0.009, 0.0089, 0.0085, 0.0084, 0.0083, 0.0081, 0.0072, 0.0058, 0.0057, 0.0055, 0.0053, 0.0052, 0.0051, 0.0051, 0.0051, 0.0051, 0.0049, 0.0042, 0.004, 0.0035, 0.0034, 0.003], \"textposition\": \"outside\", \"x\": [0.2513563222188353, 0.0919412223047572, 0.08586916312860886, 0.08222590930623941, 0.07469225010974831, 0.06806304177429295, 0.06519373538969886, 0.02047911844999983, 0.01861350263199778, 0.018064711886056968, 0.015422926045128207, 0.014795149565957127, 0.013306858872396635, 0.010882910885684098, 0.010724225002701268, 0.010579799925206725, 0.00918678590778291, 0.009069531655917413, 0.008970682365795013, 0.008873662122818957, 0.00851363318901512, 0.008399884013372116, 0.008291316182073743, 0.008135870782677966, 0.007220643778939308, 0.005793026605358724, 0.005698772499215813, 0.005532765427324544, 0.005281649387621398, 0.005230908140007667, 0.005141790663407217, 0.005132894181170778, 0.00510793657050463, 0.00509682943960714, 0.004894510819412653, 0.004205915676258153, 0.004021633008745791, 0.0035231437836245995, 0.003424988735629008, 0.003040377566409797], \"y\": [\"get + total_count\", \"a_href_https + total_count\", \"push + total_count\", \"indexOf + total_count\", \"replace + total_count\", \"find + total_count\", \"iframe_src_https + total_count\", \"p_count + total_count\", \"meta_count + total_count\", \"total_count + total_href\", \"total_href / total_count\", \"total_count / link_href_out_of_domain\", \"link_href_.css + total_count\", \"link_href_out_of_domain + total_count\", \"a_href_https / total_href\", \"document.write + total_count\", \"strong_count + total_count\", \"form_action_http + total_count\", \"link_type_text/css + total_count\", \"link_href_.css + script_src_out_of_domain\", \"indexOf + script_async_true\", \"script_async_true + total_count\", \"script_src_out_of_domain + total_count\", \"window.setTimeout + total_count\", \"link_href_http + total_count\", \"get + script_async_true\", \"link_rel_shortlink + script_src_out_of_domain\", \"a_href_.com + total_count\", \"center_count + total_count\", \"total_count\", \"window.addEventListener + script_src_out_of_domain\", \"iframe_src_https + script_src_out_of_domain\", \"window.addEventListener + total_count\", \"form_action_http + script_src_out_of_domain\", \"link_rel_shortlink + total_count\", \"script_async_true + script_src_out_of_domain\", \"script_src_out_of_domain\", \"link_type_application/rsd+xml + total_count\", \"link_type_application/rsd+xml + script_src_out_of_domain\", \"window.setTimeout + script_src_out_of_domain\"], \"type\": \"bar\", \"uid\": \"d1d1a29d-9117-4c37-8b97-f431d677cfca\"}], {\"autosize\": false, \"height\": 1000, \"width\": 1000, \"xaxis\": {\"tickfont\": {\"color\": \"black\", \"size\": 12}, \"title\": \"Feature Importances\"}, \"yaxis\": {\"automargin\": true}}, {\"showLink\": true, \"linkText\": \"Export to plot.ly\", \"plotlyServerURL\": \"https://plot.ly\"})});</script>"
      ],
      "text/vnd.plotly.v1+html": [
       "<div id=\"7679bd11-00d4-4000-b40c-5ad03fa02123\" style=\"height: 1000px; width: 1000px;\" class=\"plotly-graph-div\"></div><script type=\"text/javascript\">require([\"plotly\"], function(Plotly) { window.PLOTLYENV=window.PLOTLYENV || {};window.PLOTLYENV.BASE_URL=\"https://plot.ly\";Plotly.newPlot(\"7679bd11-00d4-4000-b40c-5ad03fa02123\", [{\"marker\": {\"color\": \"rgb(158,202,225)\", \"line\": {\"color\": \"rgb(8,48,107)\", \"width\": 1.5}}, \"opacity\": 0.6, \"orientation\": \"h\", \"text\": [0.2514, 0.0919, 0.0859, 0.0822, 0.0747, 0.0681, 0.0652, 0.0205, 0.0186, 0.0181, 0.0154, 0.0148, 0.0133, 0.0109, 0.0107, 0.0106, 0.0092, 0.0091, 0.009, 0.0089, 0.0085, 0.0084, 0.0083, 0.0081, 0.0072, 0.0058, 0.0057, 0.0055, 0.0053, 0.0052, 0.0051, 0.0051, 0.0051, 0.0051, 0.0049, 0.0042, 0.004, 0.0035, 0.0034, 0.003], \"textposition\": \"outside\", \"x\": [0.2513563222188353, 0.0919412223047572, 0.08586916312860886, 0.08222590930623941, 0.07469225010974831, 0.06806304177429295, 0.06519373538969886, 0.02047911844999983, 0.01861350263199778, 0.018064711886056968, 0.015422926045128207, 0.014795149565957127, 0.013306858872396635, 0.010882910885684098, 0.010724225002701268, 0.010579799925206725, 0.00918678590778291, 0.009069531655917413, 0.008970682365795013, 0.008873662122818957, 0.00851363318901512, 0.008399884013372116, 0.008291316182073743, 0.008135870782677966, 0.007220643778939308, 0.005793026605358724, 0.005698772499215813, 0.005532765427324544, 0.005281649387621398, 0.005230908140007667, 0.005141790663407217, 0.005132894181170778, 0.00510793657050463, 0.00509682943960714, 0.004894510819412653, 0.004205915676258153, 0.004021633008745791, 0.0035231437836245995, 0.003424988735629008, 0.003040377566409797], \"y\": [\"get + total_count\", \"a_href_https + total_count\", \"push + total_count\", \"indexOf + total_count\", \"replace + total_count\", \"find + total_count\", \"iframe_src_https + total_count\", \"p_count + total_count\", \"meta_count + total_count\", \"total_count + total_href\", \"total_href / total_count\", \"total_count / link_href_out_of_domain\", \"link_href_.css + total_count\", \"link_href_out_of_domain + total_count\", \"a_href_https / total_href\", \"document.write + total_count\", \"strong_count + total_count\", \"form_action_http + total_count\", \"link_type_text/css + total_count\", \"link_href_.css + script_src_out_of_domain\", \"indexOf + script_async_true\", \"script_async_true + total_count\", \"script_src_out_of_domain + total_count\", \"window.setTimeout + total_count\", \"link_href_http + total_count\", \"get + script_async_true\", \"link_rel_shortlink + script_src_out_of_domain\", \"a_href_.com + total_count\", \"center_count + total_count\", \"total_count\", \"window.addEventListener + script_src_out_of_domain\", \"iframe_src_https + script_src_out_of_domain\", \"window.addEventListener + total_count\", \"form_action_http + script_src_out_of_domain\", \"link_rel_shortlink + total_count\", \"script_async_true + script_src_out_of_domain\", \"script_src_out_of_domain\", \"link_type_application/rsd+xml + total_count\", \"link_type_application/rsd+xml + script_src_out_of_domain\", \"window.setTimeout + script_src_out_of_domain\"], \"type\": \"bar\", \"uid\": \"d1d1a29d-9117-4c37-8b97-f431d677cfca\"}], {\"autosize\": false, \"height\": 1000, \"width\": 1000, \"xaxis\": {\"tickfont\": {\"color\": \"black\", \"size\": 12}, \"title\": \"Feature Importances\"}, \"yaxis\": {\"automargin\": true}}, {\"showLink\": true, \"linkText\": \"Export to plot.ly\", \"plotlyServerURL\": \"https://plot.ly\"})});</script>"
      ]
     },
     "metadata": {},
     "output_type": "display_data"
    },
    {
     "name": "stdout",
     "output_type": "stream",
     "text": [
      "\n",
      "\n",
      "\u001b[1mAdaoost Classifier\u001b[0m\n",
      "Accuracy of the model for training data is: 0.8988279056709714\n",
      "Confusion Matrix for training data is:\n"
     ]
    },
    {
     "data": {
      "text/plain": [
       "Predicted  False  True  __all__\n",
       "Actual                         \n",
       "False      22363  1977    24340\n",
       "True         906  3250     4156\n",
       "__all__    23269  5227    28496"
      ]
     },
     "metadata": {},
     "output_type": "display_data"
    },
    {
     "name": "stdout",
     "output_type": "stream",
     "text": [
      "Accuracy of the model for test data is: 0.8969131253582249\n",
      "Confusion Matrix for test data is:\n"
     ]
    },
    {
     "data": {
      "text/plain": [
       "Predicted  False  True  __all__\n",
       "Actual                         \n",
       "False       9553   885    10438\n",
       "True         374  1401     1775\n",
       "__all__     9927  2286    12213"
      ]
     },
     "metadata": {},
     "output_type": "display_data"
    },
    {
     "data": {
      "application/vnd.plotly.v1+json": {
       "config": {
        "linkText": "Export to plot.ly",
        "plotlyServerURL": "https://plot.ly",
        "showLink": true
       },
       "data": [
        {
         "marker": {
          "color": "rgb(158,202,225)",
          "line": {
           "color": "rgb(8,48,107)",
           "width": 1.5
          }
         },
         "opacity": 0.6,
         "orientation": "h",
         "text": [
          0.18,
          0.12,
          0.08,
          0.06,
          0.06,
          0.04,
          0.04,
          0.04,
          0.04,
          0.04,
          0.04,
          0.04,
          0.04,
          0.02,
          0.02,
          0.02,
          0.02,
          0.02,
          0.02,
          0.02,
          0.02,
          0.02,
          0,
          0,
          0,
          0,
          0,
          0,
          0,
          0,
          0,
          0,
          0,
          0,
          0,
          0,
          0,
          0,
          0,
          0
         ],
         "textposition": "outside",
         "type": "bar",
         "uid": "912d6da9-ea75-4d33-a861-3064eb4f1c8a",
         "x": [
          0.18,
          0.12,
          0.08,
          0.06,
          0.06,
          0.04,
          0.04,
          0.04,
          0.04,
          0.04,
          0.04,
          0.04,
          0.04,
          0.02,
          0.02,
          0.02,
          0.02,
          0.02,
          0.02,
          0.02,
          0.02,
          0.02,
          0,
          0,
          0,
          0,
          0,
          0,
          0,
          0,
          0,
          0,
          0,
          0,
          0,
          0,
          0,
          0,
          0,
          0
         ],
         "y": [
          "p_count + total_count",
          "total_href / total_count",
          "total_count / link_href_out_of_domain",
          "indexOf + script_async_true",
          "meta_count + total_count",
          "form_action_http + script_src_out_of_domain",
          "total_count + total_href",
          "replace + total_count",
          "a_href_https + total_count",
          "script_async_true + script_src_out_of_domain",
          "window.addEventListener + script_src_out_of_domain",
          "a_href_https / total_href",
          "link_href_.css + total_count",
          "window.setTimeout + total_count",
          "iframe_src_https + script_src_out_of_domain",
          "get + script_async_true",
          "window.setTimeout + script_src_out_of_domain",
          "push + total_count",
          "indexOf + total_count",
          "link_href_.css + script_src_out_of_domain",
          "strong_count + total_count",
          "document.write + total_count",
          "link_rel_shortlink + script_src_out_of_domain",
          "link_type_application/rsd+xml + script_src_out_of_domain",
          "script_src_out_of_domain",
          "total_count",
          "a_href_.com + total_count",
          "center_count + total_count",
          "form_action_http + total_count",
          "iframe_src_https + total_count",
          "find + total_count",
          "get + total_count",
          "link_href_http + total_count",
          "link_href_out_of_domain + total_count",
          "link_rel_shortlink + total_count",
          "link_type_application/rsd+xml + total_count",
          "link_type_text/css + total_count",
          "script_async_true + total_count",
          "script_src_out_of_domain + total_count",
          "window.addEventListener + total_count"
         ]
        }
       ],
       "layout": {
        "autosize": false,
        "height": 1000,
        "width": 1000,
        "xaxis": {
         "tickfont": {
          "color": "black",
          "size": 12
         },
         "title": "Feature Importances"
        },
        "yaxis": {
         "automargin": true
        }
       }
      },
      "text/html": [
       "<div id=\"5463be0a-cdad-44e3-a438-8123d7648ce7\" style=\"height: 1000px; width: 1000px;\" class=\"plotly-graph-div\"></div><script type=\"text/javascript\">require([\"plotly\"], function(Plotly) { window.PLOTLYENV=window.PLOTLYENV || {};window.PLOTLYENV.BASE_URL=\"https://plot.ly\";Plotly.newPlot(\"5463be0a-cdad-44e3-a438-8123d7648ce7\", [{\"marker\": {\"color\": \"rgb(158,202,225)\", \"line\": {\"color\": \"rgb(8,48,107)\", \"width\": 1.5}}, \"opacity\": 0.6, \"orientation\": \"h\", \"text\": [0.18, 0.12, 0.08, 0.06, 0.06, 0.04, 0.04, 0.04, 0.04, 0.04, 0.04, 0.04, 0.04, 0.02, 0.02, 0.02, 0.02, 0.02, 0.02, 0.02, 0.02, 0.02, 0.0, 0.0, 0.0, 0.0, 0.0, 0.0, 0.0, 0.0, 0.0, 0.0, 0.0, 0.0, 0.0, 0.0, 0.0, 0.0, 0.0, 0.0], \"textposition\": \"outside\", \"x\": [0.18, 0.12, 0.08, 0.06, 0.06, 0.04, 0.04, 0.04, 0.04, 0.04, 0.04, 0.04, 0.04, 0.02, 0.02, 0.02, 0.02, 0.02, 0.02, 0.02, 0.02, 0.02, 0.0, 0.0, 0.0, 0.0, 0.0, 0.0, 0.0, 0.0, 0.0, 0.0, 0.0, 0.0, 0.0, 0.0, 0.0, 0.0, 0.0, 0.0], \"y\": [\"p_count + total_count\", \"total_href / total_count\", \"total_count / link_href_out_of_domain\", \"indexOf + script_async_true\", \"meta_count + total_count\", \"form_action_http + script_src_out_of_domain\", \"total_count + total_href\", \"replace + total_count\", \"a_href_https + total_count\", \"script_async_true + script_src_out_of_domain\", \"window.addEventListener + script_src_out_of_domain\", \"a_href_https / total_href\", \"link_href_.css + total_count\", \"window.setTimeout + total_count\", \"iframe_src_https + script_src_out_of_domain\", \"get + script_async_true\", \"window.setTimeout + script_src_out_of_domain\", \"push + total_count\", \"indexOf + total_count\", \"link_href_.css + script_src_out_of_domain\", \"strong_count + total_count\", \"document.write + total_count\", \"link_rel_shortlink + script_src_out_of_domain\", \"link_type_application/rsd+xml + script_src_out_of_domain\", \"script_src_out_of_domain\", \"total_count\", \"a_href_.com + total_count\", \"center_count + total_count\", \"form_action_http + total_count\", \"iframe_src_https + total_count\", \"find + total_count\", \"get + total_count\", \"link_href_http + total_count\", \"link_href_out_of_domain + total_count\", \"link_rel_shortlink + total_count\", \"link_type_application/rsd+xml + total_count\", \"link_type_text/css + total_count\", \"script_async_true + total_count\", \"script_src_out_of_domain + total_count\", \"window.addEventListener + total_count\"], \"type\": \"bar\", \"uid\": \"912d6da9-ea75-4d33-a861-3064eb4f1c8a\"}], {\"autosize\": false, \"height\": 1000, \"width\": 1000, \"xaxis\": {\"tickfont\": {\"color\": \"black\", \"size\": 12}, \"title\": \"Feature Importances\"}, \"yaxis\": {\"automargin\": true}}, {\"showLink\": true, \"linkText\": \"Export to plot.ly\", \"plotlyServerURL\": \"https://plot.ly\"})});</script>"
      ],
      "text/vnd.plotly.v1+html": [
       "<div id=\"5463be0a-cdad-44e3-a438-8123d7648ce7\" style=\"height: 1000px; width: 1000px;\" class=\"plotly-graph-div\"></div><script type=\"text/javascript\">require([\"plotly\"], function(Plotly) { window.PLOTLYENV=window.PLOTLYENV || {};window.PLOTLYENV.BASE_URL=\"https://plot.ly\";Plotly.newPlot(\"5463be0a-cdad-44e3-a438-8123d7648ce7\", [{\"marker\": {\"color\": \"rgb(158,202,225)\", \"line\": {\"color\": \"rgb(8,48,107)\", \"width\": 1.5}}, \"opacity\": 0.6, \"orientation\": \"h\", \"text\": [0.18, 0.12, 0.08, 0.06, 0.06, 0.04, 0.04, 0.04, 0.04, 0.04, 0.04, 0.04, 0.04, 0.02, 0.02, 0.02, 0.02, 0.02, 0.02, 0.02, 0.02, 0.02, 0.0, 0.0, 0.0, 0.0, 0.0, 0.0, 0.0, 0.0, 0.0, 0.0, 0.0, 0.0, 0.0, 0.0, 0.0, 0.0, 0.0, 0.0], \"textposition\": \"outside\", \"x\": [0.18, 0.12, 0.08, 0.06, 0.06, 0.04, 0.04, 0.04, 0.04, 0.04, 0.04, 0.04, 0.04, 0.02, 0.02, 0.02, 0.02, 0.02, 0.02, 0.02, 0.02, 0.02, 0.0, 0.0, 0.0, 0.0, 0.0, 0.0, 0.0, 0.0, 0.0, 0.0, 0.0, 0.0, 0.0, 0.0, 0.0, 0.0, 0.0, 0.0], \"y\": [\"p_count + total_count\", \"total_href / total_count\", \"total_count / link_href_out_of_domain\", \"indexOf + script_async_true\", \"meta_count + total_count\", \"form_action_http + script_src_out_of_domain\", \"total_count + total_href\", \"replace + total_count\", \"a_href_https + total_count\", \"script_async_true + script_src_out_of_domain\", \"window.addEventListener + script_src_out_of_domain\", \"a_href_https / total_href\", \"link_href_.css + total_count\", \"window.setTimeout + total_count\", \"iframe_src_https + script_src_out_of_domain\", \"get + script_async_true\", \"window.setTimeout + script_src_out_of_domain\", \"push + total_count\", \"indexOf + total_count\", \"link_href_.css + script_src_out_of_domain\", \"strong_count + total_count\", \"document.write + total_count\", \"link_rel_shortlink + script_src_out_of_domain\", \"link_type_application/rsd+xml + script_src_out_of_domain\", \"script_src_out_of_domain\", \"total_count\", \"a_href_.com + total_count\", \"center_count + total_count\", \"form_action_http + total_count\", \"iframe_src_https + total_count\", \"find + total_count\", \"get + total_count\", \"link_href_http + total_count\", \"link_href_out_of_domain + total_count\", \"link_rel_shortlink + total_count\", \"link_type_application/rsd+xml + total_count\", \"link_type_text/css + total_count\", \"script_async_true + total_count\", \"script_src_out_of_domain + total_count\", \"window.addEventListener + total_count\"], \"type\": \"bar\", \"uid\": \"912d6da9-ea75-4d33-a861-3064eb4f1c8a\"}], {\"autosize\": false, \"height\": 1000, \"width\": 1000, \"xaxis\": {\"tickfont\": {\"color\": \"black\", \"size\": 12}, \"title\": \"Feature Importances\"}, \"yaxis\": {\"automargin\": true}}, {\"showLink\": true, \"linkText\": \"Export to plot.ly\", \"plotlyServerURL\": \"https://plot.ly\"})});</script>"
      ]
     },
     "metadata": {},
     "output_type": "display_data"
    },
    {
     "name": "stdout",
     "output_type": "stream",
     "text": [
      "\n",
      "\n",
      "\u001b[1mGradientBoosting Classifier\u001b[0m\n",
      "Accuracy of the model for training data is: 0.9113559797866367\n",
      "Confusion Matrix for training data is:\n"
     ]
    },
    {
     "data": {
      "text/plain": [
       "Predicted  False  True  __all__\n",
       "Actual                         \n",
       "False      22422  1918    24340\n",
       "True         608  3548     4156\n",
       "__all__    23030  5466    28496"
      ]
     },
     "metadata": {},
     "output_type": "display_data"
    },
    {
     "name": "stdout",
     "output_type": "stream",
     "text": [
      "Accuracy of the model for test data is: 0.9073118807827725\n",
      "Confusion Matrix for test data is:\n"
     ]
    },
    {
     "data": {
      "text/plain": [
       "Predicted  False  True  __all__\n",
       "Actual                         \n",
       "False       9576   862    10438\n",
       "True         270  1505     1775\n",
       "__all__     9846  2367    12213"
      ]
     },
     "metadata": {},
     "output_type": "display_data"
    },
    {
     "data": {
      "application/vnd.plotly.v1+json": {
       "config": {
        "linkText": "Export to plot.ly",
        "plotlyServerURL": "https://plot.ly",
        "showLink": true
       },
       "data": [
        {
         "marker": {
          "color": "rgb(158,202,225)",
          "line": {
           "color": "rgb(8,48,107)",
           "width": 1.5
          }
         },
         "opacity": 0.6,
         "orientation": "h",
         "text": [
          0.7217,
          0.0544,
          0.0306,
          0.0306,
          0.0265,
          0.0248,
          0.0173,
          0.0152,
          0.0107,
          0.0103,
          0.007,
          0.0068,
          0.0064,
          0.0043,
          0.004,
          0.0032,
          0.0028,
          0.0028,
          0.0027,
          0.0023,
          0.0023,
          0.0015,
          0.0015,
          0.0015,
          0.0013,
          0.001,
          0.001,
          0.001,
          0.0007,
          0.0006,
          0.0006,
          0.0005,
          0.0005,
          0.0003,
          0.0003,
          0.0003,
          0.0002,
          0.0001,
          0.0001,
          0.0001
         ],
         "textposition": "outside",
         "type": "bar",
         "uid": "4c1f6a29-484b-4bf1-a944-1b05064c295e",
         "x": [
          0.721716373560341,
          0.054364325204747425,
          0.030646175518259645,
          0.03062247777883616,
          0.02650140514760104,
          0.024760940215407843,
          0.017322164688131445,
          0.01520128623664831,
          0.010731496973802115,
          0.010315599684713446,
          0.006984725968868714,
          0.006819708202486016,
          0.006353989850068552,
          0.004258707183981139,
          0.003956256180706627,
          0.003187533092457304,
          0.0028239208593548665,
          0.002789312128092778,
          0.002667871982265069,
          0.0023125780059890747,
          0.002289409043494977,
          0.0015209225253143884,
          0.001509487259430703,
          0.0015040557459690728,
          0.0013367199492068484,
          0.001029005316731601,
          0.0009996142543327027,
          0.0009923235641355812,
          0.0006913607020608758,
          0.0006093850804832464,
          0.0006081796170756499,
          0.0005472011548705227,
          0.00047722087754139593,
          0.0003494779531710478,
          0.0003302104437748391,
          0.0002957583136488687,
          0.00020722819638714662,
          0.0001327739075930538,
          0.00012203673079570751,
          0.00011078090122331378
         ],
         "y": [
          "indexOf + total_count",
          "total_count + total_href",
          "p_count + total_count",
          "push + total_count",
          "total_count / link_href_out_of_domain",
          "indexOf + script_async_true",
          "link_href_out_of_domain + total_count",
          "a_href_https + total_count",
          "a_href_https / total_href",
          "meta_count + total_count",
          "document.write + total_count",
          "total_href / total_count",
          "window.addEventListener + script_src_out_of_domain",
          "window.setTimeout + total_count",
          "window.setTimeout + script_src_out_of_domain",
          "link_href_.css + script_src_out_of_domain",
          "get + script_async_true",
          "find + total_count",
          "replace + total_count",
          "form_action_http + total_count",
          "script_async_true + total_count",
          "link_type_application/rsd+xml + script_src_out_of_domain",
          "script_async_true + script_src_out_of_domain",
          "iframe_src_https + total_count",
          "get + total_count",
          "link_href_http + total_count",
          "a_href_.com + total_count",
          "link_type_text/css + total_count",
          "script_src_out_of_domain + total_count",
          "link_rel_shortlink + script_src_out_of_domain",
          "link_href_.css + total_count",
          "link_type_application/rsd+xml + total_count",
          "link_rel_shortlink + total_count",
          "form_action_http + script_src_out_of_domain",
          "center_count + total_count",
          "total_count",
          "script_src_out_of_domain",
          "iframe_src_https + script_src_out_of_domain",
          "strong_count + total_count",
          "window.addEventListener + total_count"
         ]
        }
       ],
       "layout": {
        "autosize": false,
        "height": 1000,
        "width": 1000,
        "xaxis": {
         "tickfont": {
          "color": "black",
          "size": 12
         },
         "title": "Feature Importances"
        },
        "yaxis": {
         "automargin": true
        }
       }
      },
      "text/html": [
       "<div id=\"4391c51a-05d0-4313-9e86-771362d4d012\" style=\"height: 1000px; width: 1000px;\" class=\"plotly-graph-div\"></div><script type=\"text/javascript\">require([\"plotly\"], function(Plotly) { window.PLOTLYENV=window.PLOTLYENV || {};window.PLOTLYENV.BASE_URL=\"https://plot.ly\";Plotly.newPlot(\"4391c51a-05d0-4313-9e86-771362d4d012\", [{\"marker\": {\"color\": \"rgb(158,202,225)\", \"line\": {\"color\": \"rgb(8,48,107)\", \"width\": 1.5}}, \"opacity\": 0.6, \"orientation\": \"h\", \"text\": [0.7217, 0.0544, 0.0306, 0.0306, 0.0265, 0.0248, 0.0173, 0.0152, 0.0107, 0.0103, 0.007, 0.0068, 0.0064, 0.0043, 0.004, 0.0032, 0.0028, 0.0028, 0.0027, 0.0023, 0.0023, 0.0015, 0.0015, 0.0015, 0.0013, 0.001, 0.001, 0.001, 0.0007, 0.0006, 0.0006, 0.0005, 0.0005, 0.0003, 0.0003, 0.0003, 0.0002, 0.0001, 0.0001, 0.0001], \"textposition\": \"outside\", \"x\": [0.721716373560341, 0.054364325204747425, 0.030646175518259645, 0.03062247777883616, 0.02650140514760104, 0.024760940215407843, 0.017322164688131445, 0.01520128623664831, 0.010731496973802115, 0.010315599684713446, 0.006984725968868714, 0.006819708202486016, 0.006353989850068552, 0.004258707183981139, 0.003956256180706627, 0.003187533092457304, 0.0028239208593548665, 0.002789312128092778, 0.002667871982265069, 0.0023125780059890747, 0.002289409043494977, 0.0015209225253143884, 0.001509487259430703, 0.0015040557459690728, 0.0013367199492068484, 0.001029005316731601, 0.0009996142543327027, 0.0009923235641355812, 0.0006913607020608758, 0.0006093850804832464, 0.0006081796170756499, 0.0005472011548705227, 0.00047722087754139593, 0.0003494779531710478, 0.0003302104437748391, 0.0002957583136488687, 0.00020722819638714662, 0.0001327739075930538, 0.00012203673079570751, 0.00011078090122331378], \"y\": [\"indexOf + total_count\", \"total_count + total_href\", \"p_count + total_count\", \"push + total_count\", \"total_count / link_href_out_of_domain\", \"indexOf + script_async_true\", \"link_href_out_of_domain + total_count\", \"a_href_https + total_count\", \"a_href_https / total_href\", \"meta_count + total_count\", \"document.write + total_count\", \"total_href / total_count\", \"window.addEventListener + script_src_out_of_domain\", \"window.setTimeout + total_count\", \"window.setTimeout + script_src_out_of_domain\", \"link_href_.css + script_src_out_of_domain\", \"get + script_async_true\", \"find + total_count\", \"replace + total_count\", \"form_action_http + total_count\", \"script_async_true + total_count\", \"link_type_application/rsd+xml + script_src_out_of_domain\", \"script_async_true + script_src_out_of_domain\", \"iframe_src_https + total_count\", \"get + total_count\", \"link_href_http + total_count\", \"a_href_.com + total_count\", \"link_type_text/css + total_count\", \"script_src_out_of_domain + total_count\", \"link_rel_shortlink + script_src_out_of_domain\", \"link_href_.css + total_count\", \"link_type_application/rsd+xml + total_count\", \"link_rel_shortlink + total_count\", \"form_action_http + script_src_out_of_domain\", \"center_count + total_count\", \"total_count\", \"script_src_out_of_domain\", \"iframe_src_https + script_src_out_of_domain\", \"strong_count + total_count\", \"window.addEventListener + total_count\"], \"type\": \"bar\", \"uid\": \"4c1f6a29-484b-4bf1-a944-1b05064c295e\"}], {\"autosize\": false, \"height\": 1000, \"width\": 1000, \"xaxis\": {\"tickfont\": {\"color\": \"black\", \"size\": 12}, \"title\": \"Feature Importances\"}, \"yaxis\": {\"automargin\": true}}, {\"showLink\": true, \"linkText\": \"Export to plot.ly\", \"plotlyServerURL\": \"https://plot.ly\"})});</script>"
      ],
      "text/vnd.plotly.v1+html": [
       "<div id=\"4391c51a-05d0-4313-9e86-771362d4d012\" style=\"height: 1000px; width: 1000px;\" class=\"plotly-graph-div\"></div><script type=\"text/javascript\">require([\"plotly\"], function(Plotly) { window.PLOTLYENV=window.PLOTLYENV || {};window.PLOTLYENV.BASE_URL=\"https://plot.ly\";Plotly.newPlot(\"4391c51a-05d0-4313-9e86-771362d4d012\", [{\"marker\": {\"color\": \"rgb(158,202,225)\", \"line\": {\"color\": \"rgb(8,48,107)\", \"width\": 1.5}}, \"opacity\": 0.6, \"orientation\": \"h\", \"text\": [0.7217, 0.0544, 0.0306, 0.0306, 0.0265, 0.0248, 0.0173, 0.0152, 0.0107, 0.0103, 0.007, 0.0068, 0.0064, 0.0043, 0.004, 0.0032, 0.0028, 0.0028, 0.0027, 0.0023, 0.0023, 0.0015, 0.0015, 0.0015, 0.0013, 0.001, 0.001, 0.001, 0.0007, 0.0006, 0.0006, 0.0005, 0.0005, 0.0003, 0.0003, 0.0003, 0.0002, 0.0001, 0.0001, 0.0001], \"textposition\": \"outside\", \"x\": [0.721716373560341, 0.054364325204747425, 0.030646175518259645, 0.03062247777883616, 0.02650140514760104, 0.024760940215407843, 0.017322164688131445, 0.01520128623664831, 0.010731496973802115, 0.010315599684713446, 0.006984725968868714, 0.006819708202486016, 0.006353989850068552, 0.004258707183981139, 0.003956256180706627, 0.003187533092457304, 0.0028239208593548665, 0.002789312128092778, 0.002667871982265069, 0.0023125780059890747, 0.002289409043494977, 0.0015209225253143884, 0.001509487259430703, 0.0015040557459690728, 0.0013367199492068484, 0.001029005316731601, 0.0009996142543327027, 0.0009923235641355812, 0.0006913607020608758, 0.0006093850804832464, 0.0006081796170756499, 0.0005472011548705227, 0.00047722087754139593, 0.0003494779531710478, 0.0003302104437748391, 0.0002957583136488687, 0.00020722819638714662, 0.0001327739075930538, 0.00012203673079570751, 0.00011078090122331378], \"y\": [\"indexOf + total_count\", \"total_count + total_href\", \"p_count + total_count\", \"push + total_count\", \"total_count / link_href_out_of_domain\", \"indexOf + script_async_true\", \"link_href_out_of_domain + total_count\", \"a_href_https + total_count\", \"a_href_https / total_href\", \"meta_count + total_count\", \"document.write + total_count\", \"total_href / total_count\", \"window.addEventListener + script_src_out_of_domain\", \"window.setTimeout + total_count\", \"window.setTimeout + script_src_out_of_domain\", \"link_href_.css + script_src_out_of_domain\", \"get + script_async_true\", \"find + total_count\", \"replace + total_count\", \"form_action_http + total_count\", \"script_async_true + total_count\", \"link_type_application/rsd+xml + script_src_out_of_domain\", \"script_async_true + script_src_out_of_domain\", \"iframe_src_https + total_count\", \"get + total_count\", \"link_href_http + total_count\", \"a_href_.com + total_count\", \"link_type_text/css + total_count\", \"script_src_out_of_domain + total_count\", \"link_rel_shortlink + script_src_out_of_domain\", \"link_href_.css + total_count\", \"link_type_application/rsd+xml + total_count\", \"link_rel_shortlink + total_count\", \"form_action_http + script_src_out_of_domain\", \"center_count + total_count\", \"total_count\", \"script_src_out_of_domain\", \"iframe_src_https + script_src_out_of_domain\", \"strong_count + total_count\", \"window.addEventListener + total_count\"], \"type\": \"bar\", \"uid\": \"4c1f6a29-484b-4bf1-a944-1b05064c295e\"}], {\"autosize\": false, \"height\": 1000, \"width\": 1000, \"xaxis\": {\"tickfont\": {\"color\": \"black\", \"size\": 12}, \"title\": \"Feature Importances\"}, \"yaxis\": {\"automargin\": true}}, {\"showLink\": true, \"linkText\": \"Export to plot.ly\", \"plotlyServerURL\": \"https://plot.ly\"})});</script>"
      ]
     },
     "metadata": {},
     "output_type": "display_data"
    },
    {
     "name": "stdout",
     "output_type": "stream",
     "text": [
      "\n",
      "\n",
      "\u001b[1mExtraTree Classifier\u001b[0m\n",
      "Accuracy of the model for training data is: 0.9284460976979225\n",
      "Confusion Matrix for training data is:\n"
     ]
    },
    {
     "data": {
      "text/plain": [
       "Predicted  False  True  __all__\n",
       "Actual                         \n",
       "False      22415  1925    24340\n",
       "True         114  4042     4156\n",
       "__all__    22529  5967    28496"
      ]
     },
     "metadata": {},
     "output_type": "display_data"
    },
    {
     "name": "stdout",
     "output_type": "stream",
     "text": [
      "Accuracy of the model for test data is: 0.9104233194137394\n",
      "Confusion Matrix for test data is:\n"
     ]
    },
    {
     "data": {
      "text/plain": [
       "Predicted  False  True  __all__\n",
       "Actual                         \n",
       "False       9550   888    10438\n",
       "True         206  1569     1775\n",
       "__all__     9756  2457    12213"
      ]
     },
     "metadata": {},
     "output_type": "display_data"
    },
    {
     "data": {
      "application/vnd.plotly.v1+json": {
       "config": {
        "linkText": "Export to plot.ly",
        "plotlyServerURL": "https://plot.ly",
        "showLink": true
       },
       "data": [
        {
         "marker": {
          "color": "rgb(158,202,225)",
          "line": {
           "color": "rgb(8,48,107)",
           "width": 1.5
          }
         },
         "opacity": 0.6,
         "orientation": "h",
         "text": [
          0.1071,
          0.0848,
          0.0667,
          0.0529,
          0.0511,
          0.0494,
          0.0426,
          0.0391,
          0.0388,
          0.0355,
          0.0351,
          0.0322,
          0.0311,
          0.0289,
          0.028,
          0.0259,
          0.0205,
          0.0187,
          0.018,
          0.0152,
          0.0151,
          0.0148,
          0.0136,
          0.0135,
          0.0124,
          0.0112,
          0.0108,
          0.0098,
          0.0082,
          0.0072,
          0.0071,
          0.007,
          0.0068,
          0.0067,
          0.0066,
          0.0062,
          0.0058,
          0.0056,
          0.0055,
          0.0047
         ],
         "textposition": "outside",
         "type": "bar",
         "uid": "fa186543-0fe1-4859-8179-90e1e3f14f00",
         "x": [
          0.1071479199174911,
          0.08479924579051061,
          0.06671388988099619,
          0.05292761130722322,
          0.05114141856790372,
          0.049363091534219736,
          0.04256434898092044,
          0.03911366496478775,
          0.03877819975230089,
          0.03547382338531842,
          0.03508547069666686,
          0.03218020461260523,
          0.0311306349688971,
          0.028902689916523637,
          0.02802876554792031,
          0.025935696009171515,
          0.020452413757966345,
          0.01870594728924346,
          0.018000927967198273,
          0.015205835155456713,
          0.015121384678785169,
          0.014834083522283631,
          0.013562836454898993,
          0.01349831192180109,
          0.01239552415459157,
          0.011165088053382392,
          0.010769273709486736,
          0.009793142882405844,
          0.00819609065832545,
          0.0071645844372127,
          0.007057217627130037,
          0.00697748252155486,
          0.0068449816261099234,
          0.006655501127121148,
          0.006588176300099499,
          0.006173162273456524,
          0.005824611783321242,
          0.005576009056080031,
          0.005450892789971171,
          0.004699844418660531
         ],
         "y": [
          "script_src_out_of_domain + total_count",
          "a_href_https / total_href",
          "indexOf + total_count",
          "total_href / total_count",
          "window.setTimeout + total_count",
          "center_count + total_count",
          "link_href_http + total_count",
          "window.addEventListener + total_count",
          "link_type_application/rsd+xml + total_count",
          "window.addEventListener + script_src_out_of_domain",
          "replace + total_count",
          "total_count / link_href_out_of_domain",
          "meta_count + total_count",
          "push + total_count",
          "document.write + total_count",
          "strong_count + total_count",
          "link_rel_shortlink + total_count",
          "form_action_http + total_count",
          "p_count + total_count",
          "link_type_text/css + total_count",
          "iframe_src_https + total_count",
          "a_href_https + total_count",
          "total_count",
          "get + total_count",
          "a_href_.com + total_count",
          "total_count + total_href",
          "link_href_out_of_domain + total_count",
          "link_href_.css + total_count",
          "indexOf + script_async_true",
          "script_async_true + total_count",
          "link_href_.css + script_src_out_of_domain",
          "link_type_application/rsd+xml + script_src_out_of_domain",
          "get + script_async_true",
          "form_action_http + script_src_out_of_domain",
          "find + total_count",
          "iframe_src_https + script_src_out_of_domain",
          "script_async_true + script_src_out_of_domain",
          "script_src_out_of_domain",
          "window.setTimeout + script_src_out_of_domain",
          "link_rel_shortlink + script_src_out_of_domain"
         ]
        }
       ],
       "layout": {
        "autosize": false,
        "height": 1000,
        "width": 1000,
        "xaxis": {
         "tickfont": {
          "color": "black",
          "size": 12
         },
         "title": "Feature Importances"
        },
        "yaxis": {
         "automargin": true
        }
       }
      },
      "text/html": [
       "<div id=\"fad37371-3f93-41d5-b8a3-25e4af0a936e\" style=\"height: 1000px; width: 1000px;\" class=\"plotly-graph-div\"></div><script type=\"text/javascript\">require([\"plotly\"], function(Plotly) { window.PLOTLYENV=window.PLOTLYENV || {};window.PLOTLYENV.BASE_URL=\"https://plot.ly\";Plotly.newPlot(\"fad37371-3f93-41d5-b8a3-25e4af0a936e\", [{\"marker\": {\"color\": \"rgb(158,202,225)\", \"line\": {\"color\": \"rgb(8,48,107)\", \"width\": 1.5}}, \"opacity\": 0.6, \"orientation\": \"h\", \"text\": [0.1071, 0.0848, 0.0667, 0.0529, 0.0511, 0.0494, 0.0426, 0.0391, 0.0388, 0.0355, 0.0351, 0.0322, 0.0311, 0.0289, 0.028, 0.0259, 0.0205, 0.0187, 0.018, 0.0152, 0.0151, 0.0148, 0.0136, 0.0135, 0.0124, 0.0112, 0.0108, 0.0098, 0.0082, 0.0072, 0.0071, 0.007, 0.0068, 0.0067, 0.0066, 0.0062, 0.0058, 0.0056, 0.0055, 0.0047], \"textposition\": \"outside\", \"x\": [0.1071479199174911, 0.08479924579051061, 0.06671388988099619, 0.05292761130722322, 0.05114141856790372, 0.049363091534219736, 0.04256434898092044, 0.03911366496478775, 0.03877819975230089, 0.03547382338531842, 0.03508547069666686, 0.03218020461260523, 0.0311306349688971, 0.028902689916523637, 0.02802876554792031, 0.025935696009171515, 0.020452413757966345, 0.01870594728924346, 0.018000927967198273, 0.015205835155456713, 0.015121384678785169, 0.014834083522283631, 0.013562836454898993, 0.01349831192180109, 0.01239552415459157, 0.011165088053382392, 0.010769273709486736, 0.009793142882405844, 0.00819609065832545, 0.0071645844372127, 0.007057217627130037, 0.00697748252155486, 0.0068449816261099234, 0.006655501127121148, 0.006588176300099499, 0.006173162273456524, 0.005824611783321242, 0.005576009056080031, 0.005450892789971171, 0.004699844418660531], \"y\": [\"script_src_out_of_domain + total_count\", \"a_href_https / total_href\", \"indexOf + total_count\", \"total_href / total_count\", \"window.setTimeout + total_count\", \"center_count + total_count\", \"link_href_http + total_count\", \"window.addEventListener + total_count\", \"link_type_application/rsd+xml + total_count\", \"window.addEventListener + script_src_out_of_domain\", \"replace + total_count\", \"total_count / link_href_out_of_domain\", \"meta_count + total_count\", \"push + total_count\", \"document.write + total_count\", \"strong_count + total_count\", \"link_rel_shortlink + total_count\", \"form_action_http + total_count\", \"p_count + total_count\", \"link_type_text/css + total_count\", \"iframe_src_https + total_count\", \"a_href_https + total_count\", \"total_count\", \"get + total_count\", \"a_href_.com + total_count\", \"total_count + total_href\", \"link_href_out_of_domain + total_count\", \"link_href_.css + total_count\", \"indexOf + script_async_true\", \"script_async_true + total_count\", \"link_href_.css + script_src_out_of_domain\", \"link_type_application/rsd+xml + script_src_out_of_domain\", \"get + script_async_true\", \"form_action_http + script_src_out_of_domain\", \"find + total_count\", \"iframe_src_https + script_src_out_of_domain\", \"script_async_true + script_src_out_of_domain\", \"script_src_out_of_domain\", \"window.setTimeout + script_src_out_of_domain\", \"link_rel_shortlink + script_src_out_of_domain\"], \"type\": \"bar\", \"uid\": \"fa186543-0fe1-4859-8179-90e1e3f14f00\"}], {\"autosize\": false, \"height\": 1000, \"width\": 1000, \"xaxis\": {\"tickfont\": {\"color\": \"black\", \"size\": 12}, \"title\": \"Feature Importances\"}, \"yaxis\": {\"automargin\": true}}, {\"showLink\": true, \"linkText\": \"Export to plot.ly\", \"plotlyServerURL\": \"https://plot.ly\"})});</script>"
      ],
      "text/vnd.plotly.v1+html": [
       "<div id=\"fad37371-3f93-41d5-b8a3-25e4af0a936e\" style=\"height: 1000px; width: 1000px;\" class=\"plotly-graph-div\"></div><script type=\"text/javascript\">require([\"plotly\"], function(Plotly) { window.PLOTLYENV=window.PLOTLYENV || {};window.PLOTLYENV.BASE_URL=\"https://plot.ly\";Plotly.newPlot(\"fad37371-3f93-41d5-b8a3-25e4af0a936e\", [{\"marker\": {\"color\": \"rgb(158,202,225)\", \"line\": {\"color\": \"rgb(8,48,107)\", \"width\": 1.5}}, \"opacity\": 0.6, \"orientation\": \"h\", \"text\": [0.1071, 0.0848, 0.0667, 0.0529, 0.0511, 0.0494, 0.0426, 0.0391, 0.0388, 0.0355, 0.0351, 0.0322, 0.0311, 0.0289, 0.028, 0.0259, 0.0205, 0.0187, 0.018, 0.0152, 0.0151, 0.0148, 0.0136, 0.0135, 0.0124, 0.0112, 0.0108, 0.0098, 0.0082, 0.0072, 0.0071, 0.007, 0.0068, 0.0067, 0.0066, 0.0062, 0.0058, 0.0056, 0.0055, 0.0047], \"textposition\": \"outside\", \"x\": [0.1071479199174911, 0.08479924579051061, 0.06671388988099619, 0.05292761130722322, 0.05114141856790372, 0.049363091534219736, 0.04256434898092044, 0.03911366496478775, 0.03877819975230089, 0.03547382338531842, 0.03508547069666686, 0.03218020461260523, 0.0311306349688971, 0.028902689916523637, 0.02802876554792031, 0.025935696009171515, 0.020452413757966345, 0.01870594728924346, 0.018000927967198273, 0.015205835155456713, 0.015121384678785169, 0.014834083522283631, 0.013562836454898993, 0.01349831192180109, 0.01239552415459157, 0.011165088053382392, 0.010769273709486736, 0.009793142882405844, 0.00819609065832545, 0.0071645844372127, 0.007057217627130037, 0.00697748252155486, 0.0068449816261099234, 0.006655501127121148, 0.006588176300099499, 0.006173162273456524, 0.005824611783321242, 0.005576009056080031, 0.005450892789971171, 0.004699844418660531], \"y\": [\"script_src_out_of_domain + total_count\", \"a_href_https / total_href\", \"indexOf + total_count\", \"total_href / total_count\", \"window.setTimeout + total_count\", \"center_count + total_count\", \"link_href_http + total_count\", \"window.addEventListener + total_count\", \"link_type_application/rsd+xml + total_count\", \"window.addEventListener + script_src_out_of_domain\", \"replace + total_count\", \"total_count / link_href_out_of_domain\", \"meta_count + total_count\", \"push + total_count\", \"document.write + total_count\", \"strong_count + total_count\", \"link_rel_shortlink + total_count\", \"form_action_http + total_count\", \"p_count + total_count\", \"link_type_text/css + total_count\", \"iframe_src_https + total_count\", \"a_href_https + total_count\", \"total_count\", \"get + total_count\", \"a_href_.com + total_count\", \"total_count + total_href\", \"link_href_out_of_domain + total_count\", \"link_href_.css + total_count\", \"indexOf + script_async_true\", \"script_async_true + total_count\", \"link_href_.css + script_src_out_of_domain\", \"link_type_application/rsd+xml + script_src_out_of_domain\", \"get + script_async_true\", \"form_action_http + script_src_out_of_domain\", \"find + total_count\", \"iframe_src_https + script_src_out_of_domain\", \"script_async_true + script_src_out_of_domain\", \"script_src_out_of_domain\", \"window.setTimeout + script_src_out_of_domain\", \"link_rel_shortlink + script_src_out_of_domain\"], \"type\": \"bar\", \"uid\": \"fa186543-0fe1-4859-8179-90e1e3f14f00\"}], {\"autosize\": false, \"height\": 1000, \"width\": 1000, \"xaxis\": {\"tickfont\": {\"color\": \"black\", \"size\": 12}, \"title\": \"Feature Importances\"}, \"yaxis\": {\"automargin\": true}}, {\"showLink\": true, \"linkText\": \"Export to plot.ly\", \"plotlyServerURL\": \"https://plot.ly\"})});</script>"
      ]
     },
     "metadata": {},
     "output_type": "display_data"
    },
    {
     "name": "stdout",
     "output_type": "stream",
     "text": [
      "\n",
      "\n",
      "\u001b[1mBagging Classifier\u001b[0m\n",
      "Accuracy of the model for training data is: 0.9257439640651319\n",
      "Confusion Matrix for training data is:\n"
     ]
    },
    {
     "data": {
      "text/plain": [
       "Predicted  False  True  __all__\n",
       "Actual                         \n",
       "False      22413  1927    24340\n",
       "True         189  3967     4156\n",
       "__all__    22602  5894    28496"
      ]
     },
     "metadata": {},
     "output_type": "display_data"
    },
    {
     "name": "stdout",
     "output_type": "stream",
     "text": [
      "Accuracy of the model for test data is: 0.909768279701957\n",
      "Confusion Matrix for test data is:\n"
     ]
    },
    {
     "data": {
      "text/plain": [
       "Predicted  False  True  __all__\n",
       "Actual                         \n",
       "False       9546   892    10438\n",
       "True         210  1565     1775\n",
       "__all__     9756  2457    12213"
      ]
     },
     "metadata": {},
     "output_type": "display_data"
    },
    {
     "name": "stdout",
     "output_type": "stream",
     "text": [
      "\n",
      "\n",
      "\u001b[1mNeural Network-1\u001b[0m\n"
     ]
    },
    {
     "name": "stderr",
     "output_type": "stream",
     "text": [
      "distributed.utils - ERROR - \n",
      "Traceback (most recent call last):\n",
      "  File \"/nethomes/darshan/anaconda3/lib/python3.6/site-packages/distributed/utils.py\", line 713, in log_errors\n",
      "    yield\n",
      "  File \"/nethomes/darshan/anaconda3/lib/python3.6/site-packages/distributed/client.py\", line 1223, in _close\n",
      "    quiet_exceptions=(CancelledError,),\n",
      "  File \"/nethomes/darshan/anaconda3/lib/python3.6/site-packages/tornado/gen.py\", line 584, in with_timeout\n",
      "    chain_future(future_converted, result)\n",
      "  File \"/nethomes/darshan/anaconda3/lib/python3.6/site-packages/tornado/concurrent.py\", line 166, in chain_future\n",
      "    future_add_done_callback(a, copy)\n",
      "  File \"/nethomes/darshan/anaconda3/lib/python3.6/site-packages/tornado/concurrent.py\", line 262, in future_add_done_callback\n",
      "    callback(future)\n",
      "  File \"/nethomes/darshan/anaconda3/lib/python3.6/site-packages/tornado/concurrent.py\", line 160, in copy\n",
      "    elif a.exception() is not None:\n",
      "concurrent.futures._base.CancelledError\n",
      "Exception ignored in: <bound method Client.__del__ of <Client: not connected>>\n",
      "Traceback (most recent call last):\n",
      "  File \"/nethomes/darshan/anaconda3/lib/python3.6/site-packages/distributed/client.py\", line 1075, in __del__\n",
      "    self.close()\n",
      "  File \"/nethomes/darshan/anaconda3/lib/python3.6/site-packages/distributed/client.py\", line 1290, in close\n",
      "    sync(self.loop, self._close, fast=True)\n",
      "  File \"/nethomes/darshan/anaconda3/lib/python3.6/site-packages/distributed/utils.py\", line 331, in sync\n",
      "    six.reraise(*error[0])\n",
      "  File \"/nethomes/darshan/anaconda3/lib/python3.6/site-packages/six.py\", line 693, in reraise\n",
      "    raise value\n",
      "  File \"/nethomes/darshan/anaconda3/lib/python3.6/site-packages/distributed/utils.py\", line 316, in f\n",
      "    result[0] = yield future\n",
      "  File \"/nethomes/darshan/anaconda3/lib/python3.6/site-packages/tornado/gen.py\", line 729, in run\n",
      "    value = future.result()\n",
      "  File \"/nethomes/darshan/anaconda3/lib/python3.6/site-packages/tornado/gen.py\", line 209, in wrapper\n",
      "    yielded = next(result)\n",
      "  File \"/nethomes/darshan/anaconda3/lib/python3.6/site-packages/distributed/client.py\", line 1223, in _close\n",
      "    quiet_exceptions=(CancelledError,),\n",
      "  File \"/nethomes/darshan/anaconda3/lib/python3.6/site-packages/tornado/gen.py\", line 584, in with_timeout\n",
      "    chain_future(future_converted, result)\n",
      "  File \"/nethomes/darshan/anaconda3/lib/python3.6/site-packages/tornado/concurrent.py\", line 166, in chain_future\n",
      "    future_add_done_callback(a, copy)\n",
      "  File \"/nethomes/darshan/anaconda3/lib/python3.6/site-packages/tornado/concurrent.py\", line 262, in future_add_done_callback\n",
      "    callback(future)\n",
      "  File \"/nethomes/darshan/anaconda3/lib/python3.6/site-packages/tornado/concurrent.py\", line 160, in copy\n",
      "    elif a.exception() is not None:\n",
      "concurrent.futures._base.CancelledError: \n"
     ]
    },
    {
     "name": "stdout",
     "output_type": "stream",
     "text": [
      "The accuracy of the model on training data is: 0.881106120157215\n"
     ]
    },
    {
     "data": {
      "text/plain": [
       "Predicted  False  True  __all__\n",
       "Actual                         \n",
       "False      21448  2892    24340\n",
       "True         496  3660     4156\n",
       "__all__    21944  6552    28496"
      ]
     },
     "metadata": {},
     "output_type": "display_data"
    },
    {
     "name": "stdout",
     "output_type": "stream",
     "text": [
      "The accuracy of the model on test data is: 0.8788176533202325\n"
     ]
    },
    {
     "data": {
      "text/plain": [
       "Predicted  False  True  __all__\n",
       "Actual                         \n",
       "False       9174  1264    10438\n",
       "True         216  1559     1775\n",
       "__all__     9390  2823    12213"
      ]
     },
     "metadata": {},
     "output_type": "display_data"
    },
    {
     "name": "stdout",
     "output_type": "stream",
     "text": [
      "\n",
      "\n"
     ]
    }
   ],
   "source": [
    "## Table to store training and test measures so we can compare later\n",
    "table_80_60_train=pd.DataFrame(columns=['accuracy','TP','TN','FP','FN','FPR','FNR'])\n",
    "table_80_60_test=pd.DataFrame(columns=['accuracy','TP','TN','FP','FN','FPR','FNR','auc','mcc'])\n",
    "\n",
    "\n",
    "feat_imp=[None]*4\n",
    "j=0\n",
    "for i in range(0,8):\n",
    "    if i>=2 and i<=5:\n",
    "        model,cm_train,cm_test,acc_train,acc_test,roc_auc,feat_imp[j],mcc=f[i](scaled_X_train,train_Y,scaled_X_test,test_Y,feature_name)\n",
    "        j=j+1\n",
    "    else:\n",
    "        model,cm_train,cm_test,acc_train,acc_test,roc_auc,mcc=f[i](scaled_X_train,train_Y,scaled_X_test,test_Y)\n",
    "    table_80_60_train.loc[i]=   ([acc_train,cm_train.TP,cm_train.TN,cm_train.FP,cm_train.FN,cm_train.FPR,cm_train.FNR])\n",
    "    table_80_60_test.loc[i] =   ([acc_test ,cm_test.TP, cm_test.TN, cm_test.FP, cm_test.FN, cm_test.FPR, cm_test.FNR,roc_auc,mcc])\n",
    "    print(\"\\n\")"
   ]
  },
  {
   "cell_type": "markdown",
   "metadata": {},
   "source": [
    "### <a id='4.A' style=\"text-decoration : none; color : #000000;\"> A. Results</a>"
   ]
  },
  {
   "cell_type": "code",
   "execution_count": 36,
   "metadata": {},
   "outputs": [
    {
     "data": {
      "application/vnd.plotly.v1+json": {
       "config": {
        "linkText": "Export to plot.ly",
        "plotlyServerURL": "https://plot.ly",
        "showLink": true
       },
       "data": [
        {
         "mode": "lines",
         "name": "KNN_model",
         "type": "scatter",
         "uid": "9179a15d-8de3-43d1-8ccb-d1bd506a36b7",
         "x": [
          "accuracy",
          "FPR",
          "FNR",
          "auc"
         ],
         "y": [
          0.8676819782199295,
          0.005844031423644376,
          0.8760563380281691,
          0.5590498152740933
         ]
        },
        {
         "mode": "lines+markers",
         "name": "Logistic Regression",
         "type": "scatter",
         "uid": "aef8a044-172c-4c2e-8dd1-af54a76b0da0",
         "x": [
          "accuracy",
          "FPR",
          "FNR",
          "auc"
         ],
         "y": [
          0.8766068942929666,
          0.11400651465798045,
          0.17859154929577464,
          0.8537009680231225
         ]
        },
        {
         "marker": {
          "symbol": "x"
         },
         "mode": "lines+markers",
         "name": "Random Forest",
         "type": "scatter",
         "uid": "e9bda5cf-3fde-44b9-824a-37862a8f28da",
         "x": [
          "accuracy",
          "FPR",
          "FNR",
          "auc"
         ],
         "y": [
          0.9107508392696307,
          0.08478635753975858,
          0.11549295774647887,
          0.8998603423568813
         ]
        },
        {
         "mode": "lines",
         "name": "Ada Boost",
         "type": "scatter",
         "uid": "ccd7de69-9e4d-4a0d-9a5e-4730b13423e1",
         "x": [
          "accuracy",
          "FPR",
          "FNR",
          "auc"
         ],
         "y": [
          0.8969131253582249,
          0.08478635753975858,
          0.21070422535211267,
          0.8522547085540644
         ]
        },
        {
         "mode": "lines+markers",
         "name": "GradientBoosting",
         "type": "scatter",
         "uid": "291750c5-2b3d-4bc2-8db6-84061472fa3c",
         "x": [
          "accuracy",
          "FPR",
          "FNR",
          "auc"
         ],
         "y": [
          0.9073118807827725,
          0.08258287028166315,
          0.15211267605633802,
          0.8826522268309994
         ]
        },
        {
         "marker": {
          "symbol": "x"
         },
         "mode": "lines+markers",
         "name": "ExtraTree Classifier",
         "type": "scatter",
         "uid": "929cb48f-3847-469f-b345-66417f2ba8bc",
         "x": [
          "accuracy",
          "FPR",
          "FNR",
          "auc"
         ],
         "y": [
          0.9104233194137394,
          0.08507376892124928,
          0.11605633802816902,
          0.8994349465252909
         ]
        },
        {
         "marker": {
          "symbol": "x"
         },
         "mode": "lines+markers",
         "name": "Bagging",
         "type": "scatter",
         "uid": "a27a6378-6177-4df0-9b50-727f9e13cf8a",
         "x": [
          "accuracy",
          "FPR",
          "FNR",
          "auc"
         ],
         "y": [
          0.909768279701957,
          0.08545698409657022,
          0.11830985915492957,
          0.8981165783742502
         ]
        },
        {
         "marker": {
          "symbol": "x"
         },
         "mode": "lines+markers",
         "name": "Neural Network",
         "type": "scatter",
         "uid": "8afc8d20-10f8-4cb3-8343-5da2e100f933",
         "x": [
          "accuracy",
          "FPR",
          "FNR",
          "auc"
         ],
         "y": [
          0.8788176533202325,
          0.1210959954014179,
          0.12169014084507042,
          0.8786069318767559
         ]
        }
       ],
       "layout": {
        "title": "Result comparision for Features selected in Section 1",
        "yaxis": {
         "dtick": 0.05,
         "tick0": 0
        }
       }
      },
      "text/html": [
       "<div id=\"4a810acb-18fe-4d3e-9f0e-293a25ce6cdd\" style=\"height: 525px; width: 100%;\" class=\"plotly-graph-div\"></div><script type=\"text/javascript\">require([\"plotly\"], function(Plotly) { window.PLOTLYENV=window.PLOTLYENV || {};window.PLOTLYENV.BASE_URL=\"https://plot.ly\";Plotly.newPlot(\"4a810acb-18fe-4d3e-9f0e-293a25ce6cdd\", [{\"mode\": \"lines\", \"name\": \"KNN_model\", \"x\": [\"accuracy\", \"FPR\", \"FNR\", \"auc\"], \"y\": [0.8676819782199295, 0.005844031423644376, 0.8760563380281691, 0.5590498152740933], \"type\": \"scatter\", \"uid\": \"9179a15d-8de3-43d1-8ccb-d1bd506a36b7\"}, {\"mode\": \"lines+markers\", \"name\": \"Logistic Regression\", \"x\": [\"accuracy\", \"FPR\", \"FNR\", \"auc\"], \"y\": [0.8766068942929666, 0.11400651465798045, 0.17859154929577464, 0.8537009680231225], \"type\": \"scatter\", \"uid\": \"aef8a044-172c-4c2e-8dd1-af54a76b0da0\"}, {\"marker\": {\"symbol\": \"x\"}, \"mode\": \"lines+markers\", \"name\": \"Random Forest\", \"x\": [\"accuracy\", \"FPR\", \"FNR\", \"auc\"], \"y\": [0.9107508392696307, 0.08478635753975858, 0.11549295774647887, 0.8998603423568813], \"type\": \"scatter\", \"uid\": \"e9bda5cf-3fde-44b9-824a-37862a8f28da\"}, {\"mode\": \"lines\", \"name\": \"Ada Boost\", \"x\": [\"accuracy\", \"FPR\", \"FNR\", \"auc\"], \"y\": [0.8969131253582249, 0.08478635753975858, 0.21070422535211267, 0.8522547085540644], \"type\": \"scatter\", \"uid\": \"ccd7de69-9e4d-4a0d-9a5e-4730b13423e1\"}, {\"mode\": \"lines+markers\", \"name\": \"GradientBoosting\", \"x\": [\"accuracy\", \"FPR\", \"FNR\", \"auc\"], \"y\": [0.9073118807827725, 0.08258287028166315, 0.15211267605633802, 0.8826522268309994], \"type\": \"scatter\", \"uid\": \"291750c5-2b3d-4bc2-8db6-84061472fa3c\"}, {\"marker\": {\"symbol\": \"x\"}, \"mode\": \"lines+markers\", \"name\": \"ExtraTree Classifier\", \"x\": [\"accuracy\", \"FPR\", \"FNR\", \"auc\"], \"y\": [0.9104233194137394, 0.08507376892124928, 0.11605633802816902, 0.8994349465252909], \"type\": \"scatter\", \"uid\": \"929cb48f-3847-469f-b345-66417f2ba8bc\"}, {\"marker\": {\"symbol\": \"x\"}, \"mode\": \"lines+markers\", \"name\": \"Bagging\", \"x\": [\"accuracy\", \"FPR\", \"FNR\", \"auc\"], \"y\": [0.909768279701957, 0.08545698409657022, 0.11830985915492957, 0.8981165783742502], \"type\": \"scatter\", \"uid\": \"a27a6378-6177-4df0-9b50-727f9e13cf8a\"}, {\"marker\": {\"symbol\": \"x\"}, \"mode\": \"lines+markers\", \"name\": \"Neural Network\", \"x\": [\"accuracy\", \"FPR\", \"FNR\", \"auc\"], \"y\": [0.8788176533202325, 0.1210959954014179, 0.12169014084507042, 0.8786069318767559], \"type\": \"scatter\", \"uid\": \"8afc8d20-10f8-4cb3-8343-5da2e100f933\"}], {\"title\": \"Result comparision for Features selected in Section 1\", \"yaxis\": {\"dtick\": 0.05, \"tick0\": 0}}, {\"showLink\": true, \"linkText\": \"Export to plot.ly\", \"plotlyServerURL\": \"https://plot.ly\"})});</script><script type=\"text/javascript\">window.addEventListener(\"resize\", function(){window._Plotly.Plots.resize(document.getElementById(\"4a810acb-18fe-4d3e-9f0e-293a25ce6cdd\"));});</script>"
      ],
      "text/vnd.plotly.v1+html": [
       "<div id=\"4a810acb-18fe-4d3e-9f0e-293a25ce6cdd\" style=\"height: 525px; width: 100%;\" class=\"plotly-graph-div\"></div><script type=\"text/javascript\">require([\"plotly\"], function(Plotly) { window.PLOTLYENV=window.PLOTLYENV || {};window.PLOTLYENV.BASE_URL=\"https://plot.ly\";Plotly.newPlot(\"4a810acb-18fe-4d3e-9f0e-293a25ce6cdd\", [{\"mode\": \"lines\", \"name\": \"KNN_model\", \"x\": [\"accuracy\", \"FPR\", \"FNR\", \"auc\"], \"y\": [0.8676819782199295, 0.005844031423644376, 0.8760563380281691, 0.5590498152740933], \"type\": \"scatter\", \"uid\": \"9179a15d-8de3-43d1-8ccb-d1bd506a36b7\"}, {\"mode\": \"lines+markers\", \"name\": \"Logistic Regression\", \"x\": [\"accuracy\", \"FPR\", \"FNR\", \"auc\"], \"y\": [0.8766068942929666, 0.11400651465798045, 0.17859154929577464, 0.8537009680231225], \"type\": \"scatter\", \"uid\": \"aef8a044-172c-4c2e-8dd1-af54a76b0da0\"}, {\"marker\": {\"symbol\": \"x\"}, \"mode\": \"lines+markers\", \"name\": \"Random Forest\", \"x\": [\"accuracy\", \"FPR\", \"FNR\", \"auc\"], \"y\": [0.9107508392696307, 0.08478635753975858, 0.11549295774647887, 0.8998603423568813], \"type\": \"scatter\", \"uid\": \"e9bda5cf-3fde-44b9-824a-37862a8f28da\"}, {\"mode\": \"lines\", \"name\": \"Ada Boost\", \"x\": [\"accuracy\", \"FPR\", \"FNR\", \"auc\"], \"y\": [0.8969131253582249, 0.08478635753975858, 0.21070422535211267, 0.8522547085540644], \"type\": \"scatter\", \"uid\": \"ccd7de69-9e4d-4a0d-9a5e-4730b13423e1\"}, {\"mode\": \"lines+markers\", \"name\": \"GradientBoosting\", \"x\": [\"accuracy\", \"FPR\", \"FNR\", \"auc\"], \"y\": [0.9073118807827725, 0.08258287028166315, 0.15211267605633802, 0.8826522268309994], \"type\": \"scatter\", \"uid\": \"291750c5-2b3d-4bc2-8db6-84061472fa3c\"}, {\"marker\": {\"symbol\": \"x\"}, \"mode\": \"lines+markers\", \"name\": \"ExtraTree Classifier\", \"x\": [\"accuracy\", \"FPR\", \"FNR\", \"auc\"], \"y\": [0.9104233194137394, 0.08507376892124928, 0.11605633802816902, 0.8994349465252909], \"type\": \"scatter\", \"uid\": \"929cb48f-3847-469f-b345-66417f2ba8bc\"}, {\"marker\": {\"symbol\": \"x\"}, \"mode\": \"lines+markers\", \"name\": \"Bagging\", \"x\": [\"accuracy\", \"FPR\", \"FNR\", \"auc\"], \"y\": [0.909768279701957, 0.08545698409657022, 0.11830985915492957, 0.8981165783742502], \"type\": \"scatter\", \"uid\": \"a27a6378-6177-4df0-9b50-727f9e13cf8a\"}, {\"marker\": {\"symbol\": \"x\"}, \"mode\": \"lines+markers\", \"name\": \"Neural Network\", \"x\": [\"accuracy\", \"FPR\", \"FNR\", \"auc\"], \"y\": [0.8788176533202325, 0.1210959954014179, 0.12169014084507042, 0.8786069318767559], \"type\": \"scatter\", \"uid\": \"8afc8d20-10f8-4cb3-8343-5da2e100f933\"}], {\"title\": \"Result comparision for Features selected in Section 1\", \"yaxis\": {\"dtick\": 0.05, \"tick0\": 0}}, {\"showLink\": true, \"linkText\": \"Export to plot.ly\", \"plotlyServerURL\": \"https://plot.ly\"})});</script><script type=\"text/javascript\">window.addEventListener(\"resize\", function(){window._Plotly.Plots.resize(document.getElementById(\"4a810acb-18fe-4d3e-9f0e-293a25ce6cdd\"));});</script>"
      ]
     },
     "metadata": {},
     "output_type": "display_data"
    }
   ],
   "source": [
    "trace0 = go.Scatter(x=table_80_60_test.iloc[0].index.values[[0,5,6,7]],\n",
    "                    y=table_80_60_test.iloc[0].values[[0,5,6,7]],\n",
    "                    mode = 'lines',\n",
    "                    name = 'KNN_model')\n",
    "\n",
    "trace1 = go.Scatter(x=table_80_60_test.iloc[1].index.values[[0,5,6,7]],\n",
    "                    y=table_80_60_test.iloc[1].values[[0,5,6,7]],\n",
    "                    mode = 'lines+markers',\n",
    "                    name = 'Logistic Regression')\n",
    "\n",
    "trace2 = go.Scatter(x=table_80_60_test.iloc[2].index.values[[0,5,6,7]],\n",
    "                    y=table_80_60_test.iloc[2].values[[0,5,6,7]],\n",
    "                    mode = 'lines+markers',marker=dict(symbol='x'),\n",
    "                    name = 'Random Forest')\n",
    "\n",
    "\n",
    "trace3 = go.Scatter(x=table_80_60_test.iloc[3].index.values[[0,5,6,7]],\n",
    "                    y=table_80_60_test.iloc[3].values[[0,5,6,7]],\n",
    "                    mode = 'lines',\n",
    "                    name = 'Ada Boost')\n",
    "\n",
    "trace4 = go.Scatter(x=table_80_60_test.iloc[4].index.values[[0,5,6,7]],\n",
    "                    y=table_80_60_test.iloc[4].values[[0,5,6,7]],\n",
    "                    mode = 'lines+markers',\n",
    "                    name = 'GradientBoosting')\n",
    "\n",
    "trace5 = go.Scatter(x=table_80_60_test.iloc[5].index.values[[0,5,6,7]],\n",
    "                    y=table_80_60_test.iloc[5].values[[0,5,6,7]],\n",
    "                    mode = 'lines+markers',marker=dict(symbol='x'),\n",
    "                    name = 'ExtraTree Classifier')\n",
    "\n",
    "trace6 = go.Scatter(x=table_80_60_test.iloc[6].index.values[[0,5,6,7]],\n",
    "                    y=table_80_60_test.iloc[6].values[[0,5,6,7]],\n",
    "                    mode = 'lines+markers',marker=dict(symbol='x'),\n",
    "                    name = 'Bagging')\n",
    "\n",
    "trace7 = go.Scatter(x=table_80_60_test.iloc[7].index.values[[0,5,6,7]],\n",
    "                    y=table_80_60_test.iloc[7].values[[0,5,6,7]],\n",
    "                    mode = 'lines+markers',marker=dict(symbol='x'),\n",
    "                    name = 'Neural Network')\n",
    "\n",
    "\n",
    "\n",
    "data = [trace0, trace1, trace2, trace3, trace4, trace5, trace6, trace7]\n",
    "layout = go.Layout(yaxis=dict(tick0=0,dtick=0.05),title='Result comparision for Features selected in Section 1')\n",
    "fig = go.Figure(data=data, layout=layout)\n",
    "\n",
    "iplot(fig, filename='Result')"
   ]
  },
  {
   "cell_type": "code",
   "execution_count": 37,
   "metadata": {},
   "outputs": [
    {
     "name": "stdout",
     "output_type": "stream",
     "text": [
      "Training Results\n"
     ]
    },
    {
     "data": {
      "text/html": [
       "<div>\n",
       "<style scoped>\n",
       "    .dataframe tbody tr th:only-of-type {\n",
       "        vertical-align: middle;\n",
       "    }\n",
       "\n",
       "    .dataframe tbody tr th {\n",
       "        vertical-align: top;\n",
       "    }\n",
       "\n",
       "    .dataframe thead th {\n",
       "        text-align: right;\n",
       "    }\n",
       "</style>\n",
       "<table border=\"1\" class=\"dataframe\">\n",
       "  <thead>\n",
       "    <tr style=\"text-align: right;\">\n",
       "      <th></th>\n",
       "      <th>accuracy</th>\n",
       "      <th>TP</th>\n",
       "      <th>TN</th>\n",
       "      <th>FP</th>\n",
       "      <th>FN</th>\n",
       "      <th>FPR</th>\n",
       "      <th>FNR</th>\n",
       "    </tr>\n",
       "    <tr>\n",
       "      <th>index</th>\n",
       "      <th></th>\n",
       "      <th></th>\n",
       "      <th></th>\n",
       "      <th></th>\n",
       "      <th></th>\n",
       "      <th></th>\n",
       "      <th></th>\n",
       "    </tr>\n",
       "  </thead>\n",
       "  <tbody>\n",
       "    <tr>\n",
       "      <th>KNeighborsClassifier</th>\n",
       "      <td>0.871912</td>\n",
       "      <td>637.0</td>\n",
       "      <td>24209.0</td>\n",
       "      <td>131.0</td>\n",
       "      <td>3519.0</td>\n",
       "      <td>0.005382</td>\n",
       "      <td>0.846728</td>\n",
       "    </tr>\n",
       "    <tr>\n",
       "      <th>LogisticRegression</th>\n",
       "      <td>0.876053</td>\n",
       "      <td>3358.0</td>\n",
       "      <td>21606.0</td>\n",
       "      <td>2734.0</td>\n",
       "      <td>798.0</td>\n",
       "      <td>0.112325</td>\n",
       "      <td>0.192012</td>\n",
       "    </tr>\n",
       "    <tr>\n",
       "      <th>RandomForestClassifier</th>\n",
       "      <td>0.925919</td>\n",
       "      <td>3972.0</td>\n",
       "      <td>22413.0</td>\n",
       "      <td>1927.0</td>\n",
       "      <td>184.0</td>\n",
       "      <td>0.079170</td>\n",
       "      <td>0.044273</td>\n",
       "    </tr>\n",
       "    <tr>\n",
       "      <th>AdaBoostClassifier</th>\n",
       "      <td>0.898828</td>\n",
       "      <td>3250.0</td>\n",
       "      <td>22363.0</td>\n",
       "      <td>1977.0</td>\n",
       "      <td>906.0</td>\n",
       "      <td>0.081224</td>\n",
       "      <td>0.217998</td>\n",
       "    </tr>\n",
       "    <tr>\n",
       "      <th>GradientBoostingClassifier</th>\n",
       "      <td>0.911356</td>\n",
       "      <td>3548.0</td>\n",
       "      <td>22422.0</td>\n",
       "      <td>1918.0</td>\n",
       "      <td>608.0</td>\n",
       "      <td>0.078800</td>\n",
       "      <td>0.146295</td>\n",
       "    </tr>\n",
       "    <tr>\n",
       "      <th>ExtraTreeClassifier</th>\n",
       "      <td>0.928446</td>\n",
       "      <td>4042.0</td>\n",
       "      <td>22415.0</td>\n",
       "      <td>1925.0</td>\n",
       "      <td>114.0</td>\n",
       "      <td>0.079088</td>\n",
       "      <td>0.027430</td>\n",
       "    </tr>\n",
       "    <tr>\n",
       "      <th>BaggingClassifier</th>\n",
       "      <td>0.925744</td>\n",
       "      <td>3967.0</td>\n",
       "      <td>22413.0</td>\n",
       "      <td>1927.0</td>\n",
       "      <td>189.0</td>\n",
       "      <td>0.079170</td>\n",
       "      <td>0.045476</td>\n",
       "    </tr>\n",
       "    <tr>\n",
       "      <th>Neural Network-1</th>\n",
       "      <td>0.881106</td>\n",
       "      <td>3660.0</td>\n",
       "      <td>21448.0</td>\n",
       "      <td>2892.0</td>\n",
       "      <td>496.0</td>\n",
       "      <td>0.118817</td>\n",
       "      <td>0.119346</td>\n",
       "    </tr>\n",
       "  </tbody>\n",
       "</table>\n",
       "</div>"
      ],
      "text/plain": [
       "                            accuracy      TP       TN      FP      FN  \\\n",
       "index                                                                   \n",
       "KNeighborsClassifier        0.871912   637.0  24209.0   131.0  3519.0   \n",
       "LogisticRegression          0.876053  3358.0  21606.0  2734.0   798.0   \n",
       "RandomForestClassifier      0.925919  3972.0  22413.0  1927.0   184.0   \n",
       "AdaBoostClassifier          0.898828  3250.0  22363.0  1977.0   906.0   \n",
       "GradientBoostingClassifier  0.911356  3548.0  22422.0  1918.0   608.0   \n",
       "ExtraTreeClassifier         0.928446  4042.0  22415.0  1925.0   114.0   \n",
       "BaggingClassifier           0.925744  3967.0  22413.0  1927.0   189.0   \n",
       "Neural Network-1            0.881106  3660.0  21448.0  2892.0   496.0   \n",
       "\n",
       "                                 FPR       FNR  \n",
       "index                                           \n",
       "KNeighborsClassifier        0.005382  0.846728  \n",
       "LogisticRegression          0.112325  0.192012  \n",
       "RandomForestClassifier      0.079170  0.044273  \n",
       "AdaBoostClassifier          0.081224  0.217998  \n",
       "GradientBoostingClassifier  0.078800  0.146295  \n",
       "ExtraTreeClassifier         0.079088  0.027430  \n",
       "BaggingClassifier           0.079170  0.045476  \n",
       "Neural Network-1            0.118817  0.119346  "
      ]
     },
     "metadata": {},
     "output_type": "display_data"
    },
    {
     "name": "stdout",
     "output_type": "stream",
     "text": [
      "Test Results\n"
     ]
    },
    {
     "data": {
      "text/html": [
       "<div>\n",
       "<style scoped>\n",
       "    .dataframe tbody tr th:only-of-type {\n",
       "        vertical-align: middle;\n",
       "    }\n",
       "\n",
       "    .dataframe tbody tr th {\n",
       "        vertical-align: top;\n",
       "    }\n",
       "\n",
       "    .dataframe thead th {\n",
       "        text-align: right;\n",
       "    }\n",
       "</style>\n",
       "<table border=\"1\" class=\"dataframe\">\n",
       "  <thead>\n",
       "    <tr style=\"text-align: right;\">\n",
       "      <th></th>\n",
       "      <th>accuracy</th>\n",
       "      <th>TP</th>\n",
       "      <th>TN</th>\n",
       "      <th>FP</th>\n",
       "      <th>FN</th>\n",
       "      <th>FPR</th>\n",
       "      <th>FNR</th>\n",
       "      <th>auc</th>\n",
       "      <th>mcc</th>\n",
       "    </tr>\n",
       "    <tr>\n",
       "      <th>index</th>\n",
       "      <th></th>\n",
       "      <th></th>\n",
       "      <th></th>\n",
       "      <th></th>\n",
       "      <th></th>\n",
       "      <th></th>\n",
       "      <th></th>\n",
       "      <th></th>\n",
       "      <th></th>\n",
       "    </tr>\n",
       "  </thead>\n",
       "  <tbody>\n",
       "    <tr>\n",
       "      <th>KNeighborsClassifier</th>\n",
       "      <td>0.867682</td>\n",
       "      <td>220.0</td>\n",
       "      <td>10377.0</td>\n",
       "      <td>61.0</td>\n",
       "      <td>1555.0</td>\n",
       "      <td>0.005844</td>\n",
       "      <td>0.876056</td>\n",
       "      <td>0.559050</td>\n",
       "      <td>0.277617</td>\n",
       "    </tr>\n",
       "    <tr>\n",
       "      <th>LogisticRegression</th>\n",
       "      <td>0.876607</td>\n",
       "      <td>1458.0</td>\n",
       "      <td>9248.0</td>\n",
       "      <td>1190.0</td>\n",
       "      <td>317.0</td>\n",
       "      <td>0.114007</td>\n",
       "      <td>0.178592</td>\n",
       "      <td>0.853701</td>\n",
       "      <td>0.605024</td>\n",
       "    </tr>\n",
       "    <tr>\n",
       "      <th>RandomForestClassifier</th>\n",
       "      <td>0.910751</td>\n",
       "      <td>1570.0</td>\n",
       "      <td>9553.0</td>\n",
       "      <td>885.0</td>\n",
       "      <td>205.0</td>\n",
       "      <td>0.084786</td>\n",
       "      <td>0.115493</td>\n",
       "      <td>0.899860</td>\n",
       "      <td>0.703299</td>\n",
       "    </tr>\n",
       "    <tr>\n",
       "      <th>AdaBoostClassifier</th>\n",
       "      <td>0.896913</td>\n",
       "      <td>1401.0</td>\n",
       "      <td>9553.0</td>\n",
       "      <td>885.0</td>\n",
       "      <td>374.0</td>\n",
       "      <td>0.084786</td>\n",
       "      <td>0.210704</td>\n",
       "      <td>0.852255</td>\n",
       "      <td>0.636572</td>\n",
       "    </tr>\n",
       "    <tr>\n",
       "      <th>GradientBoostingClassifier</th>\n",
       "      <td>0.907312</td>\n",
       "      <td>1505.0</td>\n",
       "      <td>9576.0</td>\n",
       "      <td>862.0</td>\n",
       "      <td>270.0</td>\n",
       "      <td>0.082583</td>\n",
       "      <td>0.152113</td>\n",
       "      <td>0.882652</td>\n",
       "      <td>0.682359</td>\n",
       "    </tr>\n",
       "    <tr>\n",
       "      <th>ExtraTreeClassifier</th>\n",
       "      <td>0.910423</td>\n",
       "      <td>1569.0</td>\n",
       "      <td>9550.0</td>\n",
       "      <td>888.0</td>\n",
       "      <td>206.0</td>\n",
       "      <td>0.085074</td>\n",
       "      <td>0.116056</td>\n",
       "      <td>0.899435</td>\n",
       "      <td>0.702337</td>\n",
       "    </tr>\n",
       "    <tr>\n",
       "      <th>BaggingClassifier</th>\n",
       "      <td>0.909768</td>\n",
       "      <td>1565.0</td>\n",
       "      <td>9546.0</td>\n",
       "      <td>892.0</td>\n",
       "      <td>210.0</td>\n",
       "      <td>0.085457</td>\n",
       "      <td>0.118310</td>\n",
       "      <td>0.898117</td>\n",
       "      <td>0.700019</td>\n",
       "    </tr>\n",
       "    <tr>\n",
       "      <th>Neural Network-1</th>\n",
       "      <td>0.878818</td>\n",
       "      <td>1559.0</td>\n",
       "      <td>9174.0</td>\n",
       "      <td>1264.0</td>\n",
       "      <td>216.0</td>\n",
       "      <td>0.121096</td>\n",
       "      <td>0.121690</td>\n",
       "      <td>0.878607</td>\n",
       "      <td>0.633050</td>\n",
       "    </tr>\n",
       "  </tbody>\n",
       "</table>\n",
       "</div>"
      ],
      "text/plain": [
       "                            accuracy      TP       TN      FP      FN  \\\n",
       "index                                                                   \n",
       "KNeighborsClassifier        0.867682   220.0  10377.0    61.0  1555.0   \n",
       "LogisticRegression          0.876607  1458.0   9248.0  1190.0   317.0   \n",
       "RandomForestClassifier      0.910751  1570.0   9553.0   885.0   205.0   \n",
       "AdaBoostClassifier          0.896913  1401.0   9553.0   885.0   374.0   \n",
       "GradientBoostingClassifier  0.907312  1505.0   9576.0   862.0   270.0   \n",
       "ExtraTreeClassifier         0.910423  1569.0   9550.0   888.0   206.0   \n",
       "BaggingClassifier           0.909768  1565.0   9546.0   892.0   210.0   \n",
       "Neural Network-1            0.878818  1559.0   9174.0  1264.0   216.0   \n",
       "\n",
       "                                 FPR       FNR       auc       mcc  \n",
       "index                                                               \n",
       "KNeighborsClassifier        0.005844  0.876056  0.559050  0.277617  \n",
       "LogisticRegression          0.114007  0.178592  0.853701  0.605024  \n",
       "RandomForestClassifier      0.084786  0.115493  0.899860  0.703299  \n",
       "AdaBoostClassifier          0.084786  0.210704  0.852255  0.636572  \n",
       "GradientBoostingClassifier  0.082583  0.152113  0.882652  0.682359  \n",
       "ExtraTreeClassifier         0.085074  0.116056  0.899435  0.702337  \n",
       "BaggingClassifier           0.085457  0.118310  0.898117  0.700019  \n",
       "Neural Network-1            0.121096  0.121690  0.878607  0.633050  "
      ]
     },
     "metadata": {},
     "output_type": "display_data"
    }
   ],
   "source": [
    "table_80_60_train['index']=ind_columns\n",
    "table_80_60_test['index']=ind_columns\n",
    "\n",
    "\n",
    "table_80_60_test.set_index(['index'],drop=True,inplace=True)\n",
    "table_80_60_train.set_index(['index'],drop=True,inplace=True)\n",
    "\n",
    "print(\"Training Results\")\n",
    "display(table_80_60_train)\n",
    "print(\"Test Results\")\n",
    "display(table_80_60_test)"
   ]
  },
  {
   "cell_type": "markdown",
   "metadata": {},
   "source": [
    "### <a id='4.B' style=\"text-decoration : none; color : #000000;\"> B. Average Feature Importances</a>"
   ]
  },
  {
   "cell_type": "code",
   "execution_count": 38,
   "metadata": {},
   "outputs": [
    {
     "data": {
      "application/vnd.plotly.v1+json": {
       "config": {
        "linkText": "Export to plot.ly",
        "plotlyServerURL": "https://plot.ly",
        "showLink": true
       },
       "data": [
        {
         "marker": {
          "color": "rgb(158,202,225)",
          "line": {
           "color": "rgb(8,48,107)",
           "width": 1.5
          }
         },
         "opacity": 0.6,
         "orientation": "h",
         "text": [
          0.2227,
          0.0665,
          0.0623,
          0.0488,
          0.0413,
          0.0405,
          0.0384,
          0.0381,
          0.0366,
          0.0309,
          0.03,
          0.029,
          0.0254,
          0.0217,
          0.0209,
          0.0205,
          0.0194,
          0.0164,
          0.0159,
          0.0138,
          0.0137,
          0.013,
          0.0129,
          0.0127,
          0.0111,
          0.0107,
          0.0098,
          0.0097,
          0.0089,
          0.0081,
          0.0079,
          0.0075,
          0.0065,
          0.0063,
          0.0048,
          0.0047,
          0.0045,
          0.003,
          0.0028,
          0.0025
         ],
         "textposition": "outside",
         "type": "bar",
         "uid": "318681b8-a693-4ea7-bb20-7ae6a1a04613",
         "x": [
          0.22266404318689414,
          0.06654783852246081,
          0.06228155548386444,
          0.048792561388709355,
          0.04134858270599217,
          0.040494148015922285,
          0.03836918983154085,
          0.03811139819717006,
          0.0365637419417535,
          0.0308985312860467,
          0.03001493432140208,
          0.02903264920040643,
          0.0253676660156871,
          0.021742400974698546,
          0.020883999133640703,
          0.020454793953613274,
          0.019360132550621308,
          0.016398322860498936,
          0.015927045342969532,
          0.013811129661937534,
          0.013743737841403994,
          0.013025452129974835,
          0.012885003679752524,
          0.012703499519147836,
          0.011083095609128924,
          0.010712136172699002,
          0.009779603210601576,
          0.009743587320825569,
          0.008865482272705878,
          0.008111881634271898,
          0.00785970759055509,
          0.007522014237787486,
          0.006456036363730098,
          0.006292210271346826,
          0.004772375727138883,
          0.004731975959062204,
          0.004463469373519949,
          0.002980848445624564,
          0.0027520004995898973,
          0.002451217565303242
         ],
         "y": [
          "indexOf + total_count",
          "get + total_count",
          "p_count + total_count",
          "total_href / total_count",
          "push + total_count",
          "a_href_https + total_count",
          "total_count / link_href_out_of_domain",
          "replace + total_count",
          "a_href_https / total_href",
          "total_count + total_href",
          "meta_count + total_count",
          "script_src_out_of_domain + total_count",
          "indexOf + script_async_true",
          "window.addEventListener + script_src_out_of_domain",
          "window.setTimeout + total_count",
          "iframe_src_https + total_count",
          "find + total_count",
          "document.write + total_count",
          "link_href_.css + total_count",
          "strong_count + total_count",
          "center_count + total_count",
          "form_action_http + script_src_out_of_domain",
          "script_async_true + script_src_out_of_domain",
          "link_href_http + total_count",
          "window.addEventListener + total_count",
          "link_type_application/rsd+xml + total_count",
          "link_href_.css + script_src_out_of_domain",
          "link_href_out_of_domain + total_count",
          "get + script_async_true",
          "window.setTimeout + script_src_out_of_domain",
          "iframe_src_https + script_src_out_of_domain",
          "form_action_http + total_count",
          "link_rel_shortlink + total_count",
          "link_type_text/css + total_count",
          "total_count",
          "a_href_.com + total_count",
          "script_async_true + total_count",
          "link_type_application/rsd+xml + script_src_out_of_domain",
          "link_rel_shortlink + script_src_out_of_domain",
          "script_src_out_of_domain"
         ]
        }
       ],
       "layout": {
        "autosize": false,
        "height": 1000,
        "width": 1000,
        "xaxis": {
         "tickfont": {
          "color": "black",
          "size": 12
         },
         "title": "Feature Importances"
        },
        "yaxis": {
         "automargin": true
        }
       }
      },
      "text/html": [
       "<div id=\"56e7a036-e567-4b23-8f5a-eeb81f0ac56c\" style=\"height: 1000px; width: 1000px;\" class=\"plotly-graph-div\"></div><script type=\"text/javascript\">require([\"plotly\"], function(Plotly) { window.PLOTLYENV=window.PLOTLYENV || {};window.PLOTLYENV.BASE_URL=\"https://plot.ly\";Plotly.newPlot(\"56e7a036-e567-4b23-8f5a-eeb81f0ac56c\", [{\"marker\": {\"color\": \"rgb(158,202,225)\", \"line\": {\"color\": \"rgb(8,48,107)\", \"width\": 1.5}}, \"opacity\": 0.6, \"orientation\": \"h\", \"text\": [0.2227, 0.0665, 0.0623, 0.0488, 0.0413, 0.0405, 0.0384, 0.0381, 0.0366, 0.0309, 0.03, 0.029, 0.0254, 0.0217, 0.0209, 0.0205, 0.0194, 0.0164, 0.0159, 0.0138, 0.0137, 0.013, 0.0129, 0.0127, 0.0111, 0.0107, 0.0098, 0.0097, 0.0089, 0.0081, 0.0079, 0.0075, 0.0065, 0.0063, 0.0048, 0.0047, 0.0045, 0.003, 0.0028, 0.0025], \"textposition\": \"outside\", \"x\": [0.22266404318689414, 0.06654783852246081, 0.06228155548386444, 0.048792561388709355, 0.04134858270599217, 0.040494148015922285, 0.03836918983154085, 0.03811139819717006, 0.0365637419417535, 0.0308985312860467, 0.03001493432140208, 0.02903264920040643, 0.0253676660156871, 0.021742400974698546, 0.020883999133640703, 0.020454793953613274, 0.019360132550621308, 0.016398322860498936, 0.015927045342969532, 0.013811129661937534, 0.013743737841403994, 0.013025452129974835, 0.012885003679752524, 0.012703499519147836, 0.011083095609128924, 0.010712136172699002, 0.009779603210601576, 0.009743587320825569, 0.008865482272705878, 0.008111881634271898, 0.00785970759055509, 0.007522014237787486, 0.006456036363730098, 0.006292210271346826, 0.004772375727138883, 0.004731975959062204, 0.004463469373519949, 0.002980848445624564, 0.0027520004995898973, 0.002451217565303242], \"y\": [\"indexOf + total_count\", \"get + total_count\", \"p_count + total_count\", \"total_href / total_count\", \"push + total_count\", \"a_href_https + total_count\", \"total_count / link_href_out_of_domain\", \"replace + total_count\", \"a_href_https / total_href\", \"total_count + total_href\", \"meta_count + total_count\", \"script_src_out_of_domain + total_count\", \"indexOf + script_async_true\", \"window.addEventListener + script_src_out_of_domain\", \"window.setTimeout + total_count\", \"iframe_src_https + total_count\", \"find + total_count\", \"document.write + total_count\", \"link_href_.css + total_count\", \"strong_count + total_count\", \"center_count + total_count\", \"form_action_http + script_src_out_of_domain\", \"script_async_true + script_src_out_of_domain\", \"link_href_http + total_count\", \"window.addEventListener + total_count\", \"link_type_application/rsd+xml + total_count\", \"link_href_.css + script_src_out_of_domain\", \"link_href_out_of_domain + total_count\", \"get + script_async_true\", \"window.setTimeout + script_src_out_of_domain\", \"iframe_src_https + script_src_out_of_domain\", \"form_action_http + total_count\", \"link_rel_shortlink + total_count\", \"link_type_text/css + total_count\", \"total_count\", \"a_href_.com + total_count\", \"script_async_true + total_count\", \"link_type_application/rsd+xml + script_src_out_of_domain\", \"link_rel_shortlink + script_src_out_of_domain\", \"script_src_out_of_domain\"], \"type\": \"bar\", \"uid\": \"318681b8-a693-4ea7-bb20-7ae6a1a04613\"}], {\"autosize\": false, \"height\": 1000, \"width\": 1000, \"xaxis\": {\"tickfont\": {\"color\": \"black\", \"size\": 12}, \"title\": \"Feature Importances\"}, \"yaxis\": {\"automargin\": true}}, {\"showLink\": true, \"linkText\": \"Export to plot.ly\", \"plotlyServerURL\": \"https://plot.ly\"})});</script>"
      ],
      "text/vnd.plotly.v1+html": [
       "<div id=\"56e7a036-e567-4b23-8f5a-eeb81f0ac56c\" style=\"height: 1000px; width: 1000px;\" class=\"plotly-graph-div\"></div><script type=\"text/javascript\">require([\"plotly\"], function(Plotly) { window.PLOTLYENV=window.PLOTLYENV || {};window.PLOTLYENV.BASE_URL=\"https://plot.ly\";Plotly.newPlot(\"56e7a036-e567-4b23-8f5a-eeb81f0ac56c\", [{\"marker\": {\"color\": \"rgb(158,202,225)\", \"line\": {\"color\": \"rgb(8,48,107)\", \"width\": 1.5}}, \"opacity\": 0.6, \"orientation\": \"h\", \"text\": [0.2227, 0.0665, 0.0623, 0.0488, 0.0413, 0.0405, 0.0384, 0.0381, 0.0366, 0.0309, 0.03, 0.029, 0.0254, 0.0217, 0.0209, 0.0205, 0.0194, 0.0164, 0.0159, 0.0138, 0.0137, 0.013, 0.0129, 0.0127, 0.0111, 0.0107, 0.0098, 0.0097, 0.0089, 0.0081, 0.0079, 0.0075, 0.0065, 0.0063, 0.0048, 0.0047, 0.0045, 0.003, 0.0028, 0.0025], \"textposition\": \"outside\", \"x\": [0.22266404318689414, 0.06654783852246081, 0.06228155548386444, 0.048792561388709355, 0.04134858270599217, 0.040494148015922285, 0.03836918983154085, 0.03811139819717006, 0.0365637419417535, 0.0308985312860467, 0.03001493432140208, 0.02903264920040643, 0.0253676660156871, 0.021742400974698546, 0.020883999133640703, 0.020454793953613274, 0.019360132550621308, 0.016398322860498936, 0.015927045342969532, 0.013811129661937534, 0.013743737841403994, 0.013025452129974835, 0.012885003679752524, 0.012703499519147836, 0.011083095609128924, 0.010712136172699002, 0.009779603210601576, 0.009743587320825569, 0.008865482272705878, 0.008111881634271898, 0.00785970759055509, 0.007522014237787486, 0.006456036363730098, 0.006292210271346826, 0.004772375727138883, 0.004731975959062204, 0.004463469373519949, 0.002980848445624564, 0.0027520004995898973, 0.002451217565303242], \"y\": [\"indexOf + total_count\", \"get + total_count\", \"p_count + total_count\", \"total_href / total_count\", \"push + total_count\", \"a_href_https + total_count\", \"total_count / link_href_out_of_domain\", \"replace + total_count\", \"a_href_https / total_href\", \"total_count + total_href\", \"meta_count + total_count\", \"script_src_out_of_domain + total_count\", \"indexOf + script_async_true\", \"window.addEventListener + script_src_out_of_domain\", \"window.setTimeout + total_count\", \"iframe_src_https + total_count\", \"find + total_count\", \"document.write + total_count\", \"link_href_.css + total_count\", \"strong_count + total_count\", \"center_count + total_count\", \"form_action_http + script_src_out_of_domain\", \"script_async_true + script_src_out_of_domain\", \"link_href_http + total_count\", \"window.addEventListener + total_count\", \"link_type_application/rsd+xml + total_count\", \"link_href_.css + script_src_out_of_domain\", \"link_href_out_of_domain + total_count\", \"get + script_async_true\", \"window.setTimeout + script_src_out_of_domain\", \"iframe_src_https + script_src_out_of_domain\", \"form_action_http + total_count\", \"link_rel_shortlink + total_count\", \"link_type_text/css + total_count\", \"total_count\", \"a_href_.com + total_count\", \"script_async_true + total_count\", \"link_type_application/rsd+xml + script_src_out_of_domain\", \"link_rel_shortlink + script_src_out_of_domain\", \"script_src_out_of_domain\"], \"type\": \"bar\", \"uid\": \"318681b8-a693-4ea7-bb20-7ae6a1a04613\"}], {\"autosize\": false, \"height\": 1000, \"width\": 1000, \"xaxis\": {\"tickfont\": {\"color\": \"black\", \"size\": 12}, \"title\": \"Feature Importances\"}, \"yaxis\": {\"automargin\": true}}, {\"showLink\": true, \"linkText\": \"Export to plot.ly\", \"plotlyServerURL\": \"https://plot.ly\"})});</script>"
      ]
     },
     "metadata": {},
     "output_type": "display_data"
    }
   ],
   "source": [
    "feat_impt_plot(np.average(feat_imp,axis=0),feature_name)"
   ]
  },
  {
   "cell_type": "markdown",
   "metadata": {},
   "source": [
    "### <a id='5' style=\"text-decoration : none; color : #000000;\">5. Feature Transformation with PCA </a>"
   ]
  },
  {
   "cell_type": "code",
   "execution_count": 39,
   "metadata": {},
   "outputs": [
    {
     "name": "stderr",
     "output_type": "stream",
     "text": [
      "distributed.core - INFO - Event loop was unresponsive in Nanny for 30.92s.  This is often caused by long-running GIL-holding functions or moving large chunks of data. This can cause timeouts and instability.\n",
      "distributed.core - INFO - Event loop was unresponsive in Nanny for 30.92s.  This is often caused by long-running GIL-holding functions or moving large chunks of data. This can cause timeouts and instability.\n",
      "distributed.core - INFO - Event loop was unresponsive in Nanny for 30.92s.  This is often caused by long-running GIL-holding functions or moving large chunks of data. This can cause timeouts and instability.\n",
      "distributed.core - INFO - Event loop was unresponsive in Nanny for 30.92s.  This is often caused by long-running GIL-holding functions or moving large chunks of data. This can cause timeouts and instability.\n",
      "distributed.core - INFO - Event loop was unresponsive in Nanny for 30.92s.  This is often caused by long-running GIL-holding functions or moving large chunks of data. This can cause timeouts and instability.\n",
      "distributed.core - INFO - Event loop was unresponsive in Nanny for 30.92s.  This is often caused by long-running GIL-holding functions or moving large chunks of data. This can cause timeouts and instability.\n",
      "distributed.core - INFO - Event loop was unresponsive in Nanny for 30.92s.  This is often caused by long-running GIL-holding functions or moving large chunks of data. This can cause timeouts and instability.\n",
      "distributed.core - INFO - Event loop was unresponsive in Nanny for 30.92s.  This is often caused by long-running GIL-holding functions or moving large chunks of data. This can cause timeouts and instability.\n",
      "distributed.core - INFO - Event loop was unresponsive in Nanny for 30.92s.  This is often caused by long-running GIL-holding functions or moving large chunks of data. This can cause timeouts and instability.\n",
      "distributed.core - INFO - Event loop was unresponsive in Nanny for 30.92s.  This is often caused by long-running GIL-holding functions or moving large chunks of data. This can cause timeouts and instability.\n",
      "distributed.core - INFO - Event loop was unresponsive in Nanny for 30.91s.  This is often caused by long-running GIL-holding functions or moving large chunks of data. This can cause timeouts and instability.\n"
     ]
    },
    {
     "data": {
      "image/png": "[encoded data removed]",
      "text/plain": [
       "<Figure size 720x576 with 1 Axes>"
      ]
     },
     "metadata": {},
     "output_type": "display_data"
    }
   ],
   "source": [
    "X=fs.loc[:,fs.columns!='Target']\n",
    "y=fs.Target.values\n",
    "feature_name = X.columns.tolist()\n",
    "X=np.nan_to_num(X)\n",
    "scaler=StandardScaler()\n",
    "scaled_X=scaler.fit_transform(X)\n",
    "\n",
    "sns.set_style('whitegrid')\n",
    "pca = PCA(random_state=0)\n",
    "pca.fit(scaled_X)\n",
    "plt.figure(1, figsize=(10, 8))\n",
    "plt.plot(np.cumsum(pca.explained_variance_ratio_),'--o', linewidth=2)\n",
    "plt.axis('tight')\n",
    "plt.xlabel('Number of Components',size=14)\n",
    "plt.xticks(size=12)\n",
    "plt.xlim([0,200])\n",
    "plt.ylabel('% Explained Variance',size=14)\n",
    "plt.yticks(size=12)\n",
    "plt.title('% Variance Explained by Principal Components',size=14,y=1.05)\n",
    "plt.show()"
   ]
  },
  {
   "cell_type": "code",
   "execution_count": 40,
   "metadata": {},
   "outputs": [
    {
     "name": "stdout",
     "output_type": "stream",
     "text": [
      "Variance explained using 150 components is: 0.799309920000696\n"
     ]
    }
   ],
   "source": [
    "pca=PCA(n_components=150,whiten=True,random_state=0)\n",
    "X_pca_21=pca.fit_transform(scaled_X)\n",
    "print(\"Variance explained using 150 components is:\",sum(pca.explained_variance_ratio_))"
   ]
  },
  {
   "cell_type": "code",
   "execution_count": 41,
   "metadata": {},
   "outputs": [],
   "source": [
    "X_train=X_pca_21[:28496]\n",
    "Y_train=fs.iloc[:28496]['Target'].values\n",
    "X_test=X_pca_21[28496:]\n",
    "Y_test=fs.iloc[28496:]['Target'].values\n",
    "\n",
    "## Table to store training and test measures so we can compare later\n",
    "table_80_70_train=pd.DataFrame(columns=['accuracy','TP','TN','FP','FN','FPR','FNR'])\n",
    "table_80_70_test=pd.DataFrame(columns=['accuracy','TP','TN','FP','FN','FPR','FNR','auc','mcc'])"
   ]
  },
  {
   "cell_type": "code",
   "execution_count": 42,
   "metadata": {
    "scrolled": false
   },
   "outputs": [
    {
     "name": "stdout",
     "output_type": "stream",
     "text": [
      "\u001b[1mK-Nearest Neighbors\u001b[0m\n",
      "Accuracy of the model for training data is: 0.9151810780460415\n",
      "Confusion Matrix for training data is:\n"
     ]
    },
    {
     "data": {
      "text/plain": [
       "Predicted  False  True  __all__\n",
       "Actual                         \n",
       "False      22351  1989    24340\n",
       "True         428  3728     4156\n",
       "__all__    22779  5717    28496"
      ]
     },
     "metadata": {},
     "output_type": "display_data"
    },
    {
     "name": "stdout",
     "output_type": "stream",
     "text": [
      "Accuracy of the model for test data is: 0.9069843609268812\n",
      "Confusion Matrix for test data is:\n"
     ]
    },
    {
     "data": {
      "text/plain": [
       "Predicted  False  True  __all__\n",
       "Actual                         \n",
       "False       9521   917    10438\n",
       "True         219  1556     1775\n",
       "__all__     9740  2473    12213"
      ]
     },
     "metadata": {},
     "output_type": "display_data"
    },
    {
     "name": "stdout",
     "output_type": "stream",
     "text": [
      "\n",
      "\n",
      "\u001b[1mLogistic Regression\u001b[0m\n",
      "Accuracy of the model for training data is: 0.9033548568220101\n",
      "Confusion Matrix for training data is:\n"
     ]
    },
    {
     "data": {
      "text/plain": [
       "Predicted  False  True  __all__\n",
       "Actual                         \n",
       "False      22217  2123    24340\n",
       "True         631  3525     4156\n",
       "__all__    22848  5648    28496"
      ]
     },
     "metadata": {},
     "output_type": "display_data"
    },
    {
     "name": "stdout",
     "output_type": "stream",
     "text": [
      "Accuracy of the model for test data is: 0.8988782444935725\n",
      "Confusion Matrix for test data is:\n"
     ]
    },
    {
     "data": {
      "text/plain": [
       "Predicted  False  True  __all__\n",
       "Actual                         \n",
       "False       9472   966    10438\n",
       "True         269  1506     1775\n",
       "__all__     9741  2472    12213"
      ]
     },
     "metadata": {},
     "output_type": "display_data"
    },
    {
     "name": "stdout",
     "output_type": "stream",
     "text": [
      "\n",
      "\n",
      "\u001b[1mRandomForest Classifier\u001b[0m\n",
      "Accuracy of the model for training data is: 0.9256737787759686\n",
      "Confusion Matrix for training data is:\n"
     ]
    },
    {
     "data": {
      "text/plain": [
       "Predicted  False  True  __all__\n",
       "Actual                         \n",
       "False      22415  1925    24340\n",
       "True         193  3963     4156\n",
       "__all__    22608  5888    28496"
      ]
     },
     "metadata": {},
     "output_type": "display_data"
    },
    {
     "name": "stdout",
     "output_type": "stream",
     "text": [
      "Accuracy of the model for test data is: 0.9111602390894948\n",
      "Confusion Matrix for test data is:\n"
     ]
    },
    {
     "data": {
      "text/plain": [
       "Predicted  False  True  __all__\n",
       "Actual                         \n",
       "False       9565   873    10438\n",
       "True         212  1563     1775\n",
       "__all__     9777  2436    12213"
      ]
     },
     "metadata": {},
     "output_type": "display_data"
    },
    {
     "data": {
      "application/vnd.plotly.v1+json": {
       "config": {
        "linkText": "Export to plot.ly",
        "plotlyServerURL": "https://plot.ly",
        "showLink": true
       },
       "data": [
        {
         "marker": {
          "color": "rgb(158,202,225)",
          "line": {
           "color": "rgb(8,48,107)",
           "width": 1.5
          }
         },
         "opacity": 0.6,
         "orientation": "h",
         "text": [
          0.1476,
          0.1152,
          0.0598,
          0.0541,
          0.0469,
          0.0463,
          0.0391,
          0.0281,
          0.0245,
          0.0228,
          0.022,
          0.0205,
          0.0164,
          0.0145,
          0.0135,
          0.0108,
          0.0107,
          0.0097,
          0.0077,
          0.0071,
          0.0069,
          0.0065,
          0.0064,
          0.0048,
          0.0048,
          0.0045,
          0.0045,
          0.0045,
          0.0043,
          0.0042,
          0.0041,
          0.004,
          0.004,
          0.0039,
          0.0036,
          0.0034,
          0.0033,
          0.0033,
          0.0033,
          0.0032,
          0.0031,
          0.003,
          0.003,
          0.0029,
          0.0029,
          0.0028,
          0.0028,
          0.0028,
          0.0027,
          0.0027,
          0.0027,
          0.0027,
          0.0027,
          0.0026,
          0.0025,
          0.0025,
          0.0024,
          0.0024,
          0.0023,
          0.0023,
          0.0023,
          0.0023,
          0.0023,
          0.0022,
          0.0022,
          0.0021,
          0.0021,
          0.0021,
          0.002,
          0.002,
          0.002,
          0.002,
          0.002,
          0.002,
          0.002,
          0.002,
          0.0019,
          0.0019,
          0.0019,
          0.0019,
          0.0019,
          0.0019,
          0.0019,
          0.0018,
          0.0018,
          0.0018,
          0.0018,
          0.0018,
          0.0018,
          0.0017,
          0.0017,
          0.0017,
          0.0017,
          0.0017,
          0.0017,
          0.0017,
          0.0017,
          0.0017,
          0.0017,
          0.0017,
          0.0017,
          0.0016,
          0.0016,
          0.0016,
          0.0016,
          0.0016,
          0.0016,
          0.0015,
          0.0015,
          0.0015,
          0.0015,
          0.0015,
          0.0015,
          0.0015,
          0.0015,
          0.0015,
          0.0015,
          0.0014,
          0.0014,
          0.0014,
          0.0014,
          0.0014,
          0.0014,
          0.0014,
          0.0014,
          0.0013,
          0.0013,
          0.0013,
          0.0013,
          0.0013,
          0.0013,
          0.0012,
          0.0012,
          0.0012,
          0.0012,
          0.0011,
          0.0011,
          0.0011,
          0.0011,
          0.0011,
          0.0011,
          0.001,
          0.001,
          0.001,
          0.0009,
          0.0009,
          0.0009,
          0.0008,
          0.0007,
          0.0007
         ],
         "textposition": "outside",
         "type": "bar",
         "uid": "abc7350f-420e-494a-a553-7b92fb5bacfe",
         "x": [
          0.1476215919515392,
          0.11519432680962985,
          0.05984543986806782,
          0.054062693458934455,
          0.04687156865718936,
          0.04628155868031876,
          0.03907413571109955,
          0.02811906449119782,
          0.024493749442508185,
          0.022848018492313316,
          0.021973034088834324,
          0.02045556076421105,
          0.016441585641631635,
          0.014521828809598911,
          0.013503753103006128,
          0.010789007386554597,
          0.010727669457259382,
          0.009659947231149362,
          0.007704217094243479,
          0.007119747064585807,
          0.006866189099951204,
          0.0064744159825764255,
          0.006429479468583519,
          0.0048473116652199034,
          0.004836460917217986,
          0.004515100737676929,
          0.004487899987215016,
          0.0044797229283063894,
          0.004266617959890513,
          0.004247770960196465,
          0.00411422679217067,
          0.004040249427649757,
          0.004016442983961529,
          0.003868596680145709,
          0.0036367721307834994,
          0.003405215694380634,
          0.0033063905506228856,
          0.0032693218586976637,
          0.0032525400152402873,
          0.0031921902490674994,
          0.0031438896556368902,
          0.0030371352113664975,
          0.002994113515850599,
          0.0029157478037816547,
          0.0029108702174907774,
          0.002824630455400213,
          0.0027963274896219527,
          0.0027836938273608225,
          0.002737752339797934,
          0.0027341950002774677,
          0.0027313878818757934,
          0.0026926536473955674,
          0.002666978842978352,
          0.002627062360376306,
          0.0025119007138183934,
          0.002469218565750278,
          0.002421376219711866,
          0.0024147780384874726,
          0.0023406660555267502,
          0.002338421638751433,
          0.0023332955964867784,
          0.0023148763343222084,
          0.0023035607887036476,
          0.0022093280388211147,
          0.002197824614406865,
          0.002141589068670753,
          0.00208551771615243,
          0.002074060319180869,
          0.0020306717636712655,
          0.0020291321450747685,
          0.0020147208608795528,
          0.00201153635997977,
          0.0020111631499595776,
          0.001973804061876531,
          0.0019591062209725198,
          0.0019531348696909664,
          0.0019412573206410342,
          0.001936892560429481,
          0.0019358563534856022,
          0.0019357876079355608,
          0.0019262448065049964,
          0.0018873655262325237,
          0.0018641548019045495,
          0.0018466304192087592,
          0.0018195328262962736,
          0.001810371451515096,
          0.0018073193950181973,
          0.0017657499885192357,
          0.00176523805989499,
          0.0017465889765909907,
          0.0017385901775062076,
          0.0017319850674481028,
          0.0017258408687711997,
          0.0017181528214101345,
          0.0017097625397059317,
          0.0017002977839057822,
          0.0016992964447092602,
          0.0016903235659714584,
          0.0016873586310564564,
          0.0016710976673387369,
          0.0016574067677373964,
          0.0016009140558096528,
          0.001590842854665565,
          0.0015798752429125704,
          0.001566301454152278,
          0.0015641257181778696,
          0.001561603401516724,
          0.0015431131002669263,
          0.001532366101425232,
          0.001529354186183577,
          0.001513916753513475,
          0.0015104607776034846,
          0.0014979350352973477,
          0.0014935250081868907,
          0.001473300769987644,
          0.0014716155507137544,
          0.0014643844905894033,
          0.001441274780735731,
          0.0014290443521109628,
          0.0014259253478078678,
          0.001412769277970559,
          0.0014033367284078146,
          0.0014011454744717311,
          0.0013840591576208918,
          0.0013584999202602666,
          0.0013339347994815512,
          0.0013231484646999668,
          0.001307621093312829,
          0.0013015350059838306,
          0.0012858264056362057,
          0.0012659839496903926,
          0.0012200995862113617,
          0.0012194273051392196,
          0.00120248156235568,
          0.001154862177287455,
          0.0011171651161717925,
          0.0011039098618008212,
          0.0011001312968126023,
          0.0010949492655318647,
          0.0010571973785647964,
          0.0010567645177242111,
          0.0009726829623181475,
          0.0009645231524599833,
          0.0009561047653268633,
          0.0009164983828123691,
          0.0009080422710888347,
          0.0008735222432652963,
          0.0008451046218705301,
          0.000685741775901684,
          0.0006664143848914161
         ],
         "y": [
          "0",
          "25",
          "2",
          "27",
          "9",
          "142",
          "121",
          "8",
          "49",
          "40",
          "116",
          "48",
          "16",
          "36",
          "145",
          "6",
          "130",
          "79",
          "18",
          "22",
          "51",
          "102",
          "108",
          "134",
          "24",
          "132",
          "7",
          "78",
          "58",
          "10",
          "32",
          "44",
          "33",
          "128",
          "71",
          "21",
          "103",
          "114",
          "54",
          "67",
          "26",
          "141",
          "100",
          "39",
          "34",
          "53",
          "104",
          "117",
          "107",
          "113",
          "120",
          "81",
          "61",
          "3",
          "4",
          "46",
          "115",
          "20",
          "148",
          "96",
          "112",
          "97",
          "127",
          "101",
          "90",
          "43",
          "38",
          "125",
          "146",
          "118",
          "75",
          "86",
          "69",
          "66",
          "13",
          "98",
          "72",
          "57",
          "23",
          "87",
          "74",
          "63",
          "11",
          "85",
          "35",
          "42",
          "14",
          "37",
          "144",
          "29",
          "50",
          "110",
          "56",
          "92",
          "1",
          "136",
          "106",
          "19",
          "122",
          "5",
          "126",
          "45",
          "60",
          "12",
          "119",
          "55",
          "99",
          "140",
          "131",
          "70",
          "82",
          "109",
          "28",
          "31",
          "129",
          "123",
          "149",
          "30",
          "15",
          "77",
          "111",
          "105",
          "47",
          "143",
          "17",
          "89",
          "91",
          "95",
          "147",
          "73",
          "80",
          "88",
          "64",
          "135",
          "59",
          "138",
          "139",
          "62",
          "65",
          "83",
          "137",
          "124",
          "84",
          "133",
          "52",
          "93",
          "41",
          "68",
          "76",
          "94"
         ]
        }
       ],
       "layout": {
        "autosize": false,
        "height": 1000,
        "width": 1000,
        "xaxis": {
         "tickfont": {
          "color": "black",
          "size": 12
         },
         "title": "Feature Importances"
        },
        "yaxis": {
         "automargin": true
        }
       }
      },
      "text/html": [
       "<div id=\"5866c97c-a76b-4a6d-930c-3c6838dcf2ca\" style=\"height: 1000px; width: 1000px;\" class=\"plotly-graph-div\"></div><script type=\"text/javascript\">require([\"plotly\"], function(Plotly) { window.PLOTLYENV=window.PLOTLYENV || {};window.PLOTLYENV.BASE_URL=\"https://plot.ly\";Plotly.newPlot(\"5866c97c-a76b-4a6d-930c-3c6838dcf2ca\", [{\"marker\": {\"color\": \"rgb(158,202,225)\", \"line\": {\"color\": \"rgb(8,48,107)\", \"width\": 1.5}}, \"opacity\": 0.6, \"orientation\": \"h\", \"text\": [0.1476, 0.1152, 0.0598, 0.0541, 0.0469, 0.0463, 0.0391, 0.0281, 0.0245, 0.0228, 0.022, 0.0205, 0.0164, 0.0145, 0.0135, 0.0108, 0.0107, 0.0097, 0.0077, 0.0071, 0.0069, 0.0065, 0.0064, 0.0048, 0.0048, 0.0045, 0.0045, 0.0045, 0.0043, 0.0042, 0.0041, 0.004, 0.004, 0.0039, 0.0036, 0.0034, 0.0033, 0.0033, 0.0033, 0.0032, 0.0031, 0.003, 0.003, 0.0029, 0.0029, 0.0028, 0.0028, 0.0028, 0.0027, 0.0027, 0.0027, 0.0027, 0.0027, 0.0026, 0.0025, 0.0025, 0.0024, 0.0024, 0.0023, 0.0023, 0.0023, 0.0023, 0.0023, 0.0022, 0.0022, 0.0021, 0.0021, 0.0021, 0.002, 0.002, 0.002, 0.002, 0.002, 0.002, 0.002, 0.002, 0.0019, 0.0019, 0.0019, 0.0019, 0.0019, 0.0019, 0.0019, 0.0018, 0.0018, 0.0018, 0.0018, 0.0018, 0.0018, 0.0017, 0.0017, 0.0017, 0.0017, 0.0017, 0.0017, 0.0017, 0.0017, 0.0017, 0.0017, 0.0017, 0.0017, 0.0016, 0.0016, 0.0016, 0.0016, 0.0016, 0.0016, 0.0015, 0.0015, 0.0015, 0.0015, 0.0015, 0.0015, 0.0015, 0.0015, 0.0015, 0.0015, 0.0014, 0.0014, 0.0014, 0.0014, 0.0014, 0.0014, 0.0014, 0.0014, 0.0013, 0.0013, 0.0013, 0.0013, 0.0013, 0.0013, 0.0012, 0.0012, 0.0012, 0.0012, 0.0011, 0.0011, 0.0011, 0.0011, 0.0011, 0.0011, 0.001, 0.001, 0.001, 0.0009, 0.0009, 0.0009, 0.0008, 0.0007, 0.0007], \"textposition\": \"outside\", \"x\": [0.1476215919515392, 0.11519432680962985, 0.05984543986806782, 0.054062693458934455, 0.04687156865718936, 0.04628155868031876, 0.03907413571109955, 0.02811906449119782, 0.024493749442508185, 0.022848018492313316, 0.021973034088834324, 0.02045556076421105, 0.016441585641631635, 0.014521828809598911, 0.013503753103006128, 0.010789007386554597, 0.010727669457259382, 0.009659947231149362, 0.007704217094243479, 0.007119747064585807, 0.006866189099951204, 0.0064744159825764255, 0.006429479468583519, 0.0048473116652199034, 0.004836460917217986, 0.004515100737676929, 0.004487899987215016, 0.0044797229283063894, 0.004266617959890513, 0.004247770960196465, 0.00411422679217067, 0.004040249427649757, 0.004016442983961529, 0.003868596680145709, 0.0036367721307834994, 0.003405215694380634, 0.0033063905506228856, 0.0032693218586976637, 0.0032525400152402873, 0.0031921902490674994, 0.0031438896556368902, 0.0030371352113664975, 0.002994113515850599, 0.0029157478037816547, 0.0029108702174907774, 0.002824630455400213, 0.0027963274896219527, 0.0027836938273608225, 0.002737752339797934, 0.0027341950002774677, 0.0027313878818757934, 0.0026926536473955674, 0.002666978842978352, 0.002627062360376306, 0.0025119007138183934, 0.002469218565750278, 0.002421376219711866, 0.0024147780384874726, 0.0023406660555267502, 0.002338421638751433, 0.0023332955964867784, 0.0023148763343222084, 0.0023035607887036476, 0.0022093280388211147, 0.002197824614406865, 0.002141589068670753, 0.00208551771615243, 0.002074060319180869, 0.0020306717636712655, 0.0020291321450747685, 0.0020147208608795528, 0.00201153635997977, 0.0020111631499595776, 0.001973804061876531, 0.0019591062209725198, 0.0019531348696909664, 0.0019412573206410342, 0.001936892560429481, 0.0019358563534856022, 0.0019357876079355608, 0.0019262448065049964, 0.0018873655262325237, 0.0018641548019045495, 0.0018466304192087592, 0.0018195328262962736, 0.001810371451515096, 0.0018073193950181973, 0.0017657499885192357, 0.00176523805989499, 0.0017465889765909907, 0.0017385901775062076, 0.0017319850674481028, 0.0017258408687711997, 0.0017181528214101345, 0.0017097625397059317, 0.0017002977839057822, 0.0016992964447092602, 0.0016903235659714584, 0.0016873586310564564, 0.0016710976673387369, 0.0016574067677373964, 0.0016009140558096528, 0.001590842854665565, 0.0015798752429125704, 0.001566301454152278, 0.0015641257181778696, 0.001561603401516724, 0.0015431131002669263, 0.001532366101425232, 0.001529354186183577, 0.001513916753513475, 0.0015104607776034846, 0.0014979350352973477, 0.0014935250081868907, 0.001473300769987644, 0.0014716155507137544, 0.0014643844905894033, 0.001441274780735731, 0.0014290443521109628, 0.0014259253478078678, 0.001412769277970559, 0.0014033367284078146, 0.0014011454744717311, 0.0013840591576208918, 0.0013584999202602666, 0.0013339347994815512, 0.0013231484646999668, 0.001307621093312829, 0.0013015350059838306, 0.0012858264056362057, 0.0012659839496903926, 0.0012200995862113617, 0.0012194273051392196, 0.00120248156235568, 0.001154862177287455, 0.0011171651161717925, 0.0011039098618008212, 0.0011001312968126023, 0.0010949492655318647, 0.0010571973785647964, 0.0010567645177242111, 0.0009726829623181475, 0.0009645231524599833, 0.0009561047653268633, 0.0009164983828123691, 0.0009080422710888347, 0.0008735222432652963, 0.0008451046218705301, 0.000685741775901684, 0.0006664143848914161], \"y\": [\"0\", \"25\", \"2\", \"27\", \"9\", \"142\", \"121\", \"8\", \"49\", \"40\", \"116\", \"48\", \"16\", \"36\", \"145\", \"6\", \"130\", \"79\", \"18\", \"22\", \"51\", \"102\", \"108\", \"134\", \"24\", \"132\", \"7\", \"78\", \"58\", \"10\", \"32\", \"44\", \"33\", \"128\", \"71\", \"21\", \"103\", \"114\", \"54\", \"67\", \"26\", \"141\", \"100\", \"39\", \"34\", \"53\", \"104\", \"117\", \"107\", \"113\", \"120\", \"81\", \"61\", \"3\", \"4\", \"46\", \"115\", \"20\", \"148\", \"96\", \"112\", \"97\", \"127\", \"101\", \"90\", \"43\", \"38\", \"125\", \"146\", \"118\", \"75\", \"86\", \"69\", \"66\", \"13\", \"98\", \"72\", \"57\", \"23\", \"87\", \"74\", \"63\", \"11\", \"85\", \"35\", \"42\", \"14\", \"37\", \"144\", \"29\", \"50\", \"110\", \"56\", \"92\", \"1\", \"136\", \"106\", \"19\", \"122\", \"5\", \"126\", \"45\", \"60\", \"12\", \"119\", \"55\", \"99\", \"140\", \"131\", \"70\", \"82\", \"109\", \"28\", \"31\", \"129\", \"123\", \"149\", \"30\", \"15\", \"77\", \"111\", \"105\", \"47\", \"143\", \"17\", \"89\", \"91\", \"95\", \"147\", \"73\", \"80\", \"88\", \"64\", \"135\", \"59\", \"138\", \"139\", \"62\", \"65\", \"83\", \"137\", \"124\", \"84\", \"133\", \"52\", \"93\", \"41\", \"68\", \"76\", \"94\"], \"type\": \"bar\", \"uid\": \"abc7350f-420e-494a-a553-7b92fb5bacfe\"}], {\"autosize\": false, \"height\": 1000, \"width\": 1000, \"xaxis\": {\"tickfont\": {\"color\": \"black\", \"size\": 12}, \"title\": \"Feature Importances\"}, \"yaxis\": {\"automargin\": true}}, {\"showLink\": true, \"linkText\": \"Export to plot.ly\", \"plotlyServerURL\": \"https://plot.ly\"})});</script>"
      ],
      "text/vnd.plotly.v1+html": [
       "<div id=\"5866c97c-a76b-4a6d-930c-3c6838dcf2ca\" style=\"height: 1000px; width: 1000px;\" class=\"plotly-graph-div\"></div><script type=\"text/javascript\">require([\"plotly\"], function(Plotly) { window.PLOTLYENV=window.PLOTLYENV || {};window.PLOTLYENV.BASE_URL=\"https://plot.ly\";Plotly.newPlot(\"5866c97c-a76b-4a6d-930c-3c6838dcf2ca\", [{\"marker\": {\"color\": \"rgb(158,202,225)\", \"line\": {\"color\": \"rgb(8,48,107)\", \"width\": 1.5}}, \"opacity\": 0.6, \"orientation\": \"h\", \"text\": [0.1476, 0.1152, 0.0598, 0.0541, 0.0469, 0.0463, 0.0391, 0.0281, 0.0245, 0.0228, 0.022, 0.0205, 0.0164, 0.0145, 0.0135, 0.0108, 0.0107, 0.0097, 0.0077, 0.0071, 0.0069, 0.0065, 0.0064, 0.0048, 0.0048, 0.0045, 0.0045, 0.0045, 0.0043, 0.0042, 0.0041, 0.004, 0.004, 0.0039, 0.0036, 0.0034, 0.0033, 0.0033, 0.0033, 0.0032, 0.0031, 0.003, 0.003, 0.0029, 0.0029, 0.0028, 0.0028, 0.0028, 0.0027, 0.0027, 0.0027, 0.0027, 0.0027, 0.0026, 0.0025, 0.0025, 0.0024, 0.0024, 0.0023, 0.0023, 0.0023, 0.0023, 0.0023, 0.0022, 0.0022, 0.0021, 0.0021, 0.0021, 0.002, 0.002, 0.002, 0.002, 0.002, 0.002, 0.002, 0.002, 0.0019, 0.0019, 0.0019, 0.0019, 0.0019, 0.0019, 0.0019, 0.0018, 0.0018, 0.0018, 0.0018, 0.0018, 0.0018, 0.0017, 0.0017, 0.0017, 0.0017, 0.0017, 0.0017, 0.0017, 0.0017, 0.0017, 0.0017, 0.0017, 0.0017, 0.0016, 0.0016, 0.0016, 0.0016, 0.0016, 0.0016, 0.0015, 0.0015, 0.0015, 0.0015, 0.0015, 0.0015, 0.0015, 0.0015, 0.0015, 0.0015, 0.0014, 0.0014, 0.0014, 0.0014, 0.0014, 0.0014, 0.0014, 0.0014, 0.0013, 0.0013, 0.0013, 0.0013, 0.0013, 0.0013, 0.0012, 0.0012, 0.0012, 0.0012, 0.0011, 0.0011, 0.0011, 0.0011, 0.0011, 0.0011, 0.001, 0.001, 0.001, 0.0009, 0.0009, 0.0009, 0.0008, 0.0007, 0.0007], \"textposition\": \"outside\", \"x\": [0.1476215919515392, 0.11519432680962985, 0.05984543986806782, 0.054062693458934455, 0.04687156865718936, 0.04628155868031876, 0.03907413571109955, 0.02811906449119782, 0.024493749442508185, 0.022848018492313316, 0.021973034088834324, 0.02045556076421105, 0.016441585641631635, 0.014521828809598911, 0.013503753103006128, 0.010789007386554597, 0.010727669457259382, 0.009659947231149362, 0.007704217094243479, 0.007119747064585807, 0.006866189099951204, 0.0064744159825764255, 0.006429479468583519, 0.0048473116652199034, 0.004836460917217986, 0.004515100737676929, 0.004487899987215016, 0.0044797229283063894, 0.004266617959890513, 0.004247770960196465, 0.00411422679217067, 0.004040249427649757, 0.004016442983961529, 0.003868596680145709, 0.0036367721307834994, 0.003405215694380634, 0.0033063905506228856, 0.0032693218586976637, 0.0032525400152402873, 0.0031921902490674994, 0.0031438896556368902, 0.0030371352113664975, 0.002994113515850599, 0.0029157478037816547, 0.0029108702174907774, 0.002824630455400213, 0.0027963274896219527, 0.0027836938273608225, 0.002737752339797934, 0.0027341950002774677, 0.0027313878818757934, 0.0026926536473955674, 0.002666978842978352, 0.002627062360376306, 0.0025119007138183934, 0.002469218565750278, 0.002421376219711866, 0.0024147780384874726, 0.0023406660555267502, 0.002338421638751433, 0.0023332955964867784, 0.0023148763343222084, 0.0023035607887036476, 0.0022093280388211147, 0.002197824614406865, 0.002141589068670753, 0.00208551771615243, 0.002074060319180869, 0.0020306717636712655, 0.0020291321450747685, 0.0020147208608795528, 0.00201153635997977, 0.0020111631499595776, 0.001973804061876531, 0.0019591062209725198, 0.0019531348696909664, 0.0019412573206410342, 0.001936892560429481, 0.0019358563534856022, 0.0019357876079355608, 0.0019262448065049964, 0.0018873655262325237, 0.0018641548019045495, 0.0018466304192087592, 0.0018195328262962736, 0.001810371451515096, 0.0018073193950181973, 0.0017657499885192357, 0.00176523805989499, 0.0017465889765909907, 0.0017385901775062076, 0.0017319850674481028, 0.0017258408687711997, 0.0017181528214101345, 0.0017097625397059317, 0.0017002977839057822, 0.0016992964447092602, 0.0016903235659714584, 0.0016873586310564564, 0.0016710976673387369, 0.0016574067677373964, 0.0016009140558096528, 0.001590842854665565, 0.0015798752429125704, 0.001566301454152278, 0.0015641257181778696, 0.001561603401516724, 0.0015431131002669263, 0.001532366101425232, 0.001529354186183577, 0.001513916753513475, 0.0015104607776034846, 0.0014979350352973477, 0.0014935250081868907, 0.001473300769987644, 0.0014716155507137544, 0.0014643844905894033, 0.001441274780735731, 0.0014290443521109628, 0.0014259253478078678, 0.001412769277970559, 0.0014033367284078146, 0.0014011454744717311, 0.0013840591576208918, 0.0013584999202602666, 0.0013339347994815512, 0.0013231484646999668, 0.001307621093312829, 0.0013015350059838306, 0.0012858264056362057, 0.0012659839496903926, 0.0012200995862113617, 0.0012194273051392196, 0.00120248156235568, 0.001154862177287455, 0.0011171651161717925, 0.0011039098618008212, 0.0011001312968126023, 0.0010949492655318647, 0.0010571973785647964, 0.0010567645177242111, 0.0009726829623181475, 0.0009645231524599833, 0.0009561047653268633, 0.0009164983828123691, 0.0009080422710888347, 0.0008735222432652963, 0.0008451046218705301, 0.000685741775901684, 0.0006664143848914161], \"y\": [\"0\", \"25\", \"2\", \"27\", \"9\", \"142\", \"121\", \"8\", \"49\", \"40\", \"116\", \"48\", \"16\", \"36\", \"145\", \"6\", \"130\", \"79\", \"18\", \"22\", \"51\", \"102\", \"108\", \"134\", \"24\", \"132\", \"7\", \"78\", \"58\", \"10\", \"32\", \"44\", \"33\", \"128\", \"71\", \"21\", \"103\", \"114\", \"54\", \"67\", \"26\", \"141\", \"100\", \"39\", \"34\", \"53\", \"104\", \"117\", \"107\", \"113\", \"120\", \"81\", \"61\", \"3\", \"4\", \"46\", \"115\", \"20\", \"148\", \"96\", \"112\", \"97\", \"127\", \"101\", \"90\", \"43\", \"38\", \"125\", \"146\", \"118\", \"75\", \"86\", \"69\", \"66\", \"13\", \"98\", \"72\", \"57\", \"23\", \"87\", \"74\", \"63\", \"11\", \"85\", \"35\", \"42\", \"14\", \"37\", \"144\", \"29\", \"50\", \"110\", \"56\", \"92\", \"1\", \"136\", \"106\", \"19\", \"122\", \"5\", \"126\", \"45\", \"60\", \"12\", \"119\", \"55\", \"99\", \"140\", \"131\", \"70\", \"82\", \"109\", \"28\", \"31\", \"129\", \"123\", \"149\", \"30\", \"15\", \"77\", \"111\", \"105\", \"47\", \"143\", \"17\", \"89\", \"91\", \"95\", \"147\", \"73\", \"80\", \"88\", \"64\", \"135\", \"59\", \"138\", \"139\", \"62\", \"65\", \"83\", \"137\", \"124\", \"84\", \"133\", \"52\", \"93\", \"41\", \"68\", \"76\", \"94\"], \"type\": \"bar\", \"uid\": \"abc7350f-420e-494a-a553-7b92fb5bacfe\"}], {\"autosize\": false, \"height\": 1000, \"width\": 1000, \"xaxis\": {\"tickfont\": {\"color\": \"black\", \"size\": 12}, \"title\": \"Feature Importances\"}, \"yaxis\": {\"automargin\": true}}, {\"showLink\": true, \"linkText\": \"Export to plot.ly\", \"plotlyServerURL\": \"https://plot.ly\"})});</script>"
      ]
     },
     "metadata": {},
     "output_type": "display_data"
    },
    {
     "name": "stdout",
     "output_type": "stream",
     "text": [
      "\n",
      "\n",
      "\u001b[1mAdaoost Classifier\u001b[0m\n",
      "Accuracy of the model for training data is: 0.9048989331836047\n",
      "Confusion Matrix for training data is:\n"
     ]
    },
    {
     "data": {
      "text/plain": [
       "Predicted  False  True  __all__\n",
       "Actual                         \n",
       "False      22214  2126    24340\n",
       "True         584  3572     4156\n",
       "__all__    22798  5698    28496"
      ]
     },
     "metadata": {},
     "output_type": "display_data"
    },
    {
     "name": "stdout",
     "output_type": "stream",
     "text": [
      "Accuracy of the model for test data is: 0.9022353230164579\n",
      "Confusion Matrix for test data is:\n"
     ]
    },
    {
     "data": {
      "text/plain": [
       "Predicted  False  True  __all__\n",
       "Actual                         \n",
       "False       9493   945    10438\n",
       "True         249  1526     1775\n",
       "__all__     9742  2471    12213"
      ]
     },
     "metadata": {},
     "output_type": "display_data"
    },
    {
     "data": {
      "application/vnd.plotly.v1+json": {
       "config": {
        "linkText": "Export to plot.ly",
        "plotlyServerURL": "https://plot.ly",
        "showLink": true
       },
       "data": [
        {
         "marker": {
          "color": "rgb(158,202,225)",
          "line": {
           "color": "rgb(8,48,107)",
           "width": 1.5
          }
         },
         "opacity": 0.6,
         "orientation": "h",
         "text": [
          0.1,
          0.06,
          0.04,
          0.04,
          0.04,
          0.02,
          0.02,
          0.02,
          0.02,
          0.02,
          0.02,
          0.02,
          0.02,
          0.02,
          0.02,
          0.02,
          0.02,
          0.02,
          0.02,
          0.02,
          0.02,
          0.02,
          0.02,
          0.02,
          0.02,
          0.02,
          0.02,
          0.02,
          0.02,
          0.02,
          0.02,
          0.02,
          0.02,
          0.02,
          0.02,
          0.02,
          0.02,
          0.02,
          0.02,
          0.02,
          0.02,
          0,
          0,
          0,
          0,
          0,
          0,
          0,
          0,
          0,
          0,
          0,
          0,
          0,
          0,
          0,
          0,
          0,
          0,
          0,
          0,
          0,
          0,
          0,
          0,
          0,
          0,
          0,
          0,
          0,
          0,
          0,
          0,
          0,
          0,
          0,
          0,
          0,
          0,
          0,
          0,
          0,
          0,
          0,
          0,
          0,
          0,
          0,
          0,
          0,
          0,
          0,
          0,
          0,
          0,
          0,
          0,
          0,
          0,
          0,
          0,
          0,
          0,
          0,
          0,
          0,
          0,
          0,
          0,
          0,
          0,
          0,
          0,
          0,
          0,
          0,
          0,
          0,
          0,
          0,
          0,
          0,
          0,
          0,
          0,
          0,
          0,
          0,
          0,
          0,
          0,
          0,
          0,
          0,
          0,
          0,
          0,
          0,
          0,
          0,
          0,
          0,
          0,
          0,
          0,
          0,
          0,
          0,
          0,
          0
         ],
         "textposition": "outside",
         "type": "bar",
         "uid": "2cb0d520-212c-4f1c-ba96-83c7335c02ea",
         "x": [
          0.1,
          0.06,
          0.04,
          0.04,
          0.04,
          0.02,
          0.02,
          0.02,
          0.02,
          0.02,
          0.02,
          0.02,
          0.02,
          0.02,
          0.02,
          0.02,
          0.02,
          0.02,
          0.02,
          0.02,
          0.02,
          0.02,
          0.02,
          0.02,
          0.02,
          0.02,
          0.02,
          0.02,
          0.02,
          0.02,
          0.02,
          0.02,
          0.02,
          0.02,
          0.02,
          0.02,
          0.02,
          0.02,
          0.02,
          0.02,
          0.02,
          0,
          0,
          0,
          0,
          0,
          0,
          0,
          0,
          0,
          0,
          0,
          0,
          0,
          0,
          0,
          0,
          0,
          0,
          0,
          0,
          0,
          0,
          0,
          0,
          0,
          0,
          0,
          0,
          0,
          0,
          0,
          0,
          0,
          0,
          0,
          0,
          0,
          0,
          0,
          0,
          0,
          0,
          0,
          0,
          0,
          0,
          0,
          0,
          0,
          0,
          0,
          0,
          0,
          0,
          0,
          0,
          0,
          0,
          0,
          0,
          0,
          0,
          0,
          0,
          0,
          0,
          0,
          0,
          0,
          0,
          0,
          0,
          0,
          0,
          0,
          0,
          0,
          0,
          0,
          0,
          0,
          0,
          0,
          0,
          0,
          0,
          0,
          0,
          0,
          0,
          0,
          0,
          0,
          0,
          0,
          0,
          0,
          0,
          0,
          0,
          0,
          0,
          0,
          0,
          0,
          0,
          0,
          0,
          0
         ],
         "y": [
          "0",
          "130",
          "2",
          "18",
          "10",
          "71",
          "110",
          "1",
          "31",
          "34",
          "128",
          "38",
          "39",
          "41",
          "136",
          "125",
          "103",
          "67",
          "120",
          "49",
          "63",
          "62",
          "61",
          "135",
          "111",
          "84",
          "17",
          "9",
          "146",
          "24",
          "14",
          "15",
          "7",
          "4",
          "82",
          "148",
          "140",
          "21",
          "95",
          "79",
          "8",
          "108",
          "91",
          "107",
          "106",
          "109",
          "105",
          "96",
          "104",
          "102",
          "92",
          "93",
          "101",
          "100",
          "94",
          "99",
          "97",
          "98",
          "123",
          "112",
          "131",
          "147",
          "145",
          "144",
          "143",
          "142",
          "141",
          "139",
          "138",
          "137",
          "134",
          "133",
          "132",
          "129",
          "113",
          "127",
          "126",
          "124",
          "89",
          "122",
          "121",
          "119",
          "118",
          "117",
          "116",
          "115",
          "114",
          "90",
          "75",
          "88",
          "47",
          "45",
          "44",
          "43",
          "42",
          "40",
          "37",
          "36",
          "35",
          "33",
          "32",
          "30",
          "29",
          "28",
          "27",
          "26",
          "25",
          "23",
          "22",
          "20",
          "19",
          "16",
          "13",
          "12",
          "11",
          "6",
          "5",
          "3",
          "46",
          "48",
          "87",
          "50",
          "86",
          "85",
          "83",
          "81",
          "80",
          "78",
          "77",
          "76",
          "74",
          "73",
          "72",
          "70",
          "69",
          "68",
          "66",
          "65",
          "64",
          "60",
          "59",
          "58",
          "57",
          "56",
          "55",
          "54",
          "53",
          "52",
          "51",
          "149"
         ]
        }
       ],
       "layout": {
        "autosize": false,
        "height": 1000,
        "width": 1000,
        "xaxis": {
         "tickfont": {
          "color": "black",
          "size": 12
         },
         "title": "Feature Importances"
        },
        "yaxis": {
         "automargin": true
        }
       }
      },
      "text/html": [
       "<div id=\"5900bd8a-dfee-4d00-a537-a0b8a1945e76\" style=\"height: 1000px; width: 1000px;\" class=\"plotly-graph-div\"></div><script type=\"text/javascript\">require([\"plotly\"], function(Plotly) { window.PLOTLYENV=window.PLOTLYENV || {};window.PLOTLYENV.BASE_URL=\"https://plot.ly\";Plotly.newPlot(\"5900bd8a-dfee-4d00-a537-a0b8a1945e76\", [{\"marker\": {\"color\": \"rgb(158,202,225)\", \"line\": {\"color\": \"rgb(8,48,107)\", \"width\": 1.5}}, \"opacity\": 0.6, \"orientation\": \"h\", \"text\": [0.1, 0.06, 0.04, 0.04, 0.04, 0.02, 0.02, 0.02, 0.02, 0.02, 0.02, 0.02, 0.02, 0.02, 0.02, 0.02, 0.02, 0.02, 0.02, 0.02, 0.02, 0.02, 0.02, 0.02, 0.02, 0.02, 0.02, 0.02, 0.02, 0.02, 0.02, 0.02, 0.02, 0.02, 0.02, 0.02, 0.02, 0.02, 0.02, 0.02, 0.02, 0.0, 0.0, 0.0, 0.0, 0.0, 0.0, 0.0, 0.0, 0.0, 0.0, 0.0, 0.0, 0.0, 0.0, 0.0, 0.0, 0.0, 0.0, 0.0, 0.0, 0.0, 0.0, 0.0, 0.0, 0.0, 0.0, 0.0, 0.0, 0.0, 0.0, 0.0, 0.0, 0.0, 0.0, 0.0, 0.0, 0.0, 0.0, 0.0, 0.0, 0.0, 0.0, 0.0, 0.0, 0.0, 0.0, 0.0, 0.0, 0.0, 0.0, 0.0, 0.0, 0.0, 0.0, 0.0, 0.0, 0.0, 0.0, 0.0, 0.0, 0.0, 0.0, 0.0, 0.0, 0.0, 0.0, 0.0, 0.0, 0.0, 0.0, 0.0, 0.0, 0.0, 0.0, 0.0, 0.0, 0.0, 0.0, 0.0, 0.0, 0.0, 0.0, 0.0, 0.0, 0.0, 0.0, 0.0, 0.0, 0.0, 0.0, 0.0, 0.0, 0.0, 0.0, 0.0, 0.0, 0.0, 0.0, 0.0, 0.0, 0.0, 0.0, 0.0, 0.0, 0.0, 0.0, 0.0, 0.0, 0.0], \"textposition\": \"outside\", \"x\": [0.1, 0.06, 0.04, 0.04, 0.04, 0.02, 0.02, 0.02, 0.02, 0.02, 0.02, 0.02, 0.02, 0.02, 0.02, 0.02, 0.02, 0.02, 0.02, 0.02, 0.02, 0.02, 0.02, 0.02, 0.02, 0.02, 0.02, 0.02, 0.02, 0.02, 0.02, 0.02, 0.02, 0.02, 0.02, 0.02, 0.02, 0.02, 0.02, 0.02, 0.02, 0.0, 0.0, 0.0, 0.0, 0.0, 0.0, 0.0, 0.0, 0.0, 0.0, 0.0, 0.0, 0.0, 0.0, 0.0, 0.0, 0.0, 0.0, 0.0, 0.0, 0.0, 0.0, 0.0, 0.0, 0.0, 0.0, 0.0, 0.0, 0.0, 0.0, 0.0, 0.0, 0.0, 0.0, 0.0, 0.0, 0.0, 0.0, 0.0, 0.0, 0.0, 0.0, 0.0, 0.0, 0.0, 0.0, 0.0, 0.0, 0.0, 0.0, 0.0, 0.0, 0.0, 0.0, 0.0, 0.0, 0.0, 0.0, 0.0, 0.0, 0.0, 0.0, 0.0, 0.0, 0.0, 0.0, 0.0, 0.0, 0.0, 0.0, 0.0, 0.0, 0.0, 0.0, 0.0, 0.0, 0.0, 0.0, 0.0, 0.0, 0.0, 0.0, 0.0, 0.0, 0.0, 0.0, 0.0, 0.0, 0.0, 0.0, 0.0, 0.0, 0.0, 0.0, 0.0, 0.0, 0.0, 0.0, 0.0, 0.0, 0.0, 0.0, 0.0, 0.0, 0.0, 0.0, 0.0, 0.0, 0.0], \"y\": [\"0\", \"130\", \"2\", \"18\", \"10\", \"71\", \"110\", \"1\", \"31\", \"34\", \"128\", \"38\", \"39\", \"41\", \"136\", \"125\", \"103\", \"67\", \"120\", \"49\", \"63\", \"62\", \"61\", \"135\", \"111\", \"84\", \"17\", \"9\", \"146\", \"24\", \"14\", \"15\", \"7\", \"4\", \"82\", \"148\", \"140\", \"21\", \"95\", \"79\", \"8\", \"108\", \"91\", \"107\", \"106\", \"109\", \"105\", \"96\", \"104\", \"102\", \"92\", \"93\", \"101\", \"100\", \"94\", \"99\", \"97\", \"98\", \"123\", \"112\", \"131\", \"147\", \"145\", \"144\", \"143\", \"142\", \"141\", \"139\", \"138\", \"137\", \"134\", \"133\", \"132\", \"129\", \"113\", \"127\", \"126\", \"124\", \"89\", \"122\", \"121\", \"119\", \"118\", \"117\", \"116\", \"115\", \"114\", \"90\", \"75\", \"88\", \"47\", \"45\", \"44\", \"43\", \"42\", \"40\", \"37\", \"36\", \"35\", \"33\", \"32\", \"30\", \"29\", \"28\", \"27\", \"26\", \"25\", \"23\", \"22\", \"20\", \"19\", \"16\", \"13\", \"12\", \"11\", \"6\", \"5\", \"3\", \"46\", \"48\", \"87\", \"50\", \"86\", \"85\", \"83\", \"81\", \"80\", \"78\", \"77\", \"76\", \"74\", \"73\", \"72\", \"70\", \"69\", \"68\", \"66\", \"65\", \"64\", \"60\", \"59\", \"58\", \"57\", \"56\", \"55\", \"54\", \"53\", \"52\", \"51\", \"149\"], \"type\": \"bar\", \"uid\": \"2cb0d520-212c-4f1c-ba96-83c7335c02ea\"}], {\"autosize\": false, \"height\": 1000, \"width\": 1000, \"xaxis\": {\"tickfont\": {\"color\": \"black\", \"size\": 12}, \"title\": \"Feature Importances\"}, \"yaxis\": {\"automargin\": true}}, {\"showLink\": true, \"linkText\": \"Export to plot.ly\", \"plotlyServerURL\": \"https://plot.ly\"})});</script>"
      ],
      "text/vnd.plotly.v1+html": [
       "<div id=\"5900bd8a-dfee-4d00-a537-a0b8a1945e76\" style=\"height: 1000px; width: 1000px;\" class=\"plotly-graph-div\"></div><script type=\"text/javascript\">require([\"plotly\"], function(Plotly) { window.PLOTLYENV=window.PLOTLYENV || {};window.PLOTLYENV.BASE_URL=\"https://plot.ly\";Plotly.newPlot(\"5900bd8a-dfee-4d00-a537-a0b8a1945e76\", [{\"marker\": {\"color\": \"rgb(158,202,225)\", \"line\": {\"color\": \"rgb(8,48,107)\", \"width\": 1.5}}, \"opacity\": 0.6, \"orientation\": \"h\", \"text\": [0.1, 0.06, 0.04, 0.04, 0.04, 0.02, 0.02, 0.02, 0.02, 0.02, 0.02, 0.02, 0.02, 0.02, 0.02, 0.02, 0.02, 0.02, 0.02, 0.02, 0.02, 0.02, 0.02, 0.02, 0.02, 0.02, 0.02, 0.02, 0.02, 0.02, 0.02, 0.02, 0.02, 0.02, 0.02, 0.02, 0.02, 0.02, 0.02, 0.02, 0.02, 0.0, 0.0, 0.0, 0.0, 0.0, 0.0, 0.0, 0.0, 0.0, 0.0, 0.0, 0.0, 0.0, 0.0, 0.0, 0.0, 0.0, 0.0, 0.0, 0.0, 0.0, 0.0, 0.0, 0.0, 0.0, 0.0, 0.0, 0.0, 0.0, 0.0, 0.0, 0.0, 0.0, 0.0, 0.0, 0.0, 0.0, 0.0, 0.0, 0.0, 0.0, 0.0, 0.0, 0.0, 0.0, 0.0, 0.0, 0.0, 0.0, 0.0, 0.0, 0.0, 0.0, 0.0, 0.0, 0.0, 0.0, 0.0, 0.0, 0.0, 0.0, 0.0, 0.0, 0.0, 0.0, 0.0, 0.0, 0.0, 0.0, 0.0, 0.0, 0.0, 0.0, 0.0, 0.0, 0.0, 0.0, 0.0, 0.0, 0.0, 0.0, 0.0, 0.0, 0.0, 0.0, 0.0, 0.0, 0.0, 0.0, 0.0, 0.0, 0.0, 0.0, 0.0, 0.0, 0.0, 0.0, 0.0, 0.0, 0.0, 0.0, 0.0, 0.0, 0.0, 0.0, 0.0, 0.0, 0.0, 0.0], \"textposition\": \"outside\", \"x\": [0.1, 0.06, 0.04, 0.04, 0.04, 0.02, 0.02, 0.02, 0.02, 0.02, 0.02, 0.02, 0.02, 0.02, 0.02, 0.02, 0.02, 0.02, 0.02, 0.02, 0.02, 0.02, 0.02, 0.02, 0.02, 0.02, 0.02, 0.02, 0.02, 0.02, 0.02, 0.02, 0.02, 0.02, 0.02, 0.02, 0.02, 0.02, 0.02, 0.02, 0.02, 0.0, 0.0, 0.0, 0.0, 0.0, 0.0, 0.0, 0.0, 0.0, 0.0, 0.0, 0.0, 0.0, 0.0, 0.0, 0.0, 0.0, 0.0, 0.0, 0.0, 0.0, 0.0, 0.0, 0.0, 0.0, 0.0, 0.0, 0.0, 0.0, 0.0, 0.0, 0.0, 0.0, 0.0, 0.0, 0.0, 0.0, 0.0, 0.0, 0.0, 0.0, 0.0, 0.0, 0.0, 0.0, 0.0, 0.0, 0.0, 0.0, 0.0, 0.0, 0.0, 0.0, 0.0, 0.0, 0.0, 0.0, 0.0, 0.0, 0.0, 0.0, 0.0, 0.0, 0.0, 0.0, 0.0, 0.0, 0.0, 0.0, 0.0, 0.0, 0.0, 0.0, 0.0, 0.0, 0.0, 0.0, 0.0, 0.0, 0.0, 0.0, 0.0, 0.0, 0.0, 0.0, 0.0, 0.0, 0.0, 0.0, 0.0, 0.0, 0.0, 0.0, 0.0, 0.0, 0.0, 0.0, 0.0, 0.0, 0.0, 0.0, 0.0, 0.0, 0.0, 0.0, 0.0, 0.0, 0.0, 0.0], \"y\": [\"0\", \"130\", \"2\", \"18\", \"10\", \"71\", \"110\", \"1\", \"31\", \"34\", \"128\", \"38\", \"39\", \"41\", \"136\", \"125\", \"103\", \"67\", \"120\", \"49\", \"63\", \"62\", \"61\", \"135\", \"111\", \"84\", \"17\", \"9\", \"146\", \"24\", \"14\", \"15\", \"7\", \"4\", \"82\", \"148\", \"140\", \"21\", \"95\", \"79\", \"8\", \"108\", \"91\", \"107\", \"106\", \"109\", \"105\", \"96\", \"104\", \"102\", \"92\", \"93\", \"101\", \"100\", \"94\", \"99\", \"97\", \"98\", \"123\", \"112\", \"131\", \"147\", \"145\", \"144\", \"143\", \"142\", \"141\", \"139\", \"138\", \"137\", \"134\", \"133\", \"132\", \"129\", \"113\", \"127\", \"126\", \"124\", \"89\", \"122\", \"121\", \"119\", \"118\", \"117\", \"116\", \"115\", \"114\", \"90\", \"75\", \"88\", \"47\", \"45\", \"44\", \"43\", \"42\", \"40\", \"37\", \"36\", \"35\", \"33\", \"32\", \"30\", \"29\", \"28\", \"27\", \"26\", \"25\", \"23\", \"22\", \"20\", \"19\", \"16\", \"13\", \"12\", \"11\", \"6\", \"5\", \"3\", \"46\", \"48\", \"87\", \"50\", \"86\", \"85\", \"83\", \"81\", \"80\", \"78\", \"77\", \"76\", \"74\", \"73\", \"72\", \"70\", \"69\", \"68\", \"66\", \"65\", \"64\", \"60\", \"59\", \"58\", \"57\", \"56\", \"55\", \"54\", \"53\", \"52\", \"51\", \"149\"], \"type\": \"bar\", \"uid\": \"2cb0d520-212c-4f1c-ba96-83c7335c02ea\"}], {\"autosize\": false, \"height\": 1000, \"width\": 1000, \"xaxis\": {\"tickfont\": {\"color\": \"black\", \"size\": 12}, \"title\": \"Feature Importances\"}, \"yaxis\": {\"automargin\": true}}, {\"showLink\": true, \"linkText\": \"Export to plot.ly\", \"plotlyServerURL\": \"https://plot.ly\"})});</script>"
      ]
     },
     "metadata": {},
     "output_type": "display_data"
    },
    {
     "name": "stdout",
     "output_type": "stream",
     "text": [
      "\n",
      "\n",
      "\u001b[1mGradientBoosting Classifier\u001b[0m\n",
      "Accuracy of the model for training data is: 0.9144792251544076\n",
      "Confusion Matrix for training data is:\n"
     ]
    },
    {
     "data": {
      "text/plain": [
       "Predicted  False  True  __all__\n",
       "Actual                         \n",
       "False      22421  1919    24340\n",
       "True         518  3638     4156\n",
       "__all__    22939  5557    28496"
      ]
     },
     "metadata": {},
     "output_type": "display_data"
    },
    {
     "name": "stdout",
     "output_type": "stream",
     "text": [
      "Accuracy of the model for test data is: 0.9081306804225007\n",
      "Confusion Matrix for test data is:\n"
     ]
    },
    {
     "data": {
      "text/plain": [
       "Predicted  False  True  __all__\n",
       "Actual                         \n",
       "False       9569   869    10438\n",
       "True         253  1522     1775\n",
       "__all__     9822  2391    12213"
      ]
     },
     "metadata": {},
     "output_type": "display_data"
    },
    {
     "data": {
      "application/vnd.plotly.v1+json": {
       "config": {
        "linkText": "Export to plot.ly",
        "plotlyServerURL": "https://plot.ly",
        "showLink": true
       },
       "data": [
        {
         "marker": {
          "color": "rgb(158,202,225)",
          "line": {
           "color": "rgb(8,48,107)",
           "width": 1.5
          }
         },
         "opacity": 0.6,
         "orientation": "h",
         "text": [
          0.8096,
          0.0319,
          0.0142,
          0.0129,
          0.0109,
          0.0108,
          0.0097,
          0.0069,
          0.0069,
          0.0049,
          0.0042,
          0.004,
          0.0031,
          0.0028,
          0.0025,
          0.0025,
          0.0024,
          0.0023,
          0.0022,
          0.0021,
          0.0021,
          0.0021,
          0.0019,
          0.0018,
          0.0017,
          0.0017,
          0.0017,
          0.0016,
          0.0015,
          0.0015,
          0.0014,
          0.0013,
          0.0013,
          0.0012,
          0.0011,
          0.0011,
          0.001,
          0.001,
          0.001,
          0.0009,
          0.0009,
          0.0009,
          0.0009,
          0.0008,
          0.0008,
          0.0008,
          0.0008,
          0.0008,
          0.0008,
          0.0008,
          0.0008,
          0.0008,
          0.0006,
          0.0006,
          0.0006,
          0.0006,
          0.0005,
          0.0005,
          0.0005,
          0.0005,
          0.0005,
          0.0004,
          0.0004,
          0.0004,
          0.0004,
          0.0004,
          0.0003,
          0.0003,
          0.0003,
          0.0003,
          0.0003,
          0.0003,
          0.0003,
          0.0003,
          0.0003,
          0.0003,
          0.0003,
          0.0002,
          0.0002,
          0.0002,
          0.0002,
          0.0002,
          0.0002,
          0.0002,
          0.0002,
          0.0002,
          0.0002,
          0.0002,
          0.0002,
          0.0002,
          0.0002,
          0.0002,
          0.0001,
          0.0001,
          0.0001,
          0.0001,
          0.0001,
          0.0001,
          0.0001,
          0.0001,
          0.0001,
          0.0001,
          0.0001,
          0.0001,
          0.0001,
          0,
          0,
          0,
          0,
          0,
          0,
          0,
          0,
          0,
          0,
          0,
          0,
          0,
          0,
          0,
          0,
          0,
          0,
          0,
          0,
          0,
          0,
          0,
          0,
          0,
          0,
          0,
          0,
          0,
          0,
          0,
          0,
          0,
          0,
          0,
          0,
          0,
          0,
          0,
          0,
          0,
          0,
          0,
          0,
          0
         ],
         "textposition": "outside",
         "type": "bar",
         "uid": "876de056-2e53-4d4f-92de-09c4047d2ec2",
         "x": [
          0.8095546017491716,
          0.03186889185438878,
          0.014153111203461202,
          0.012915959812375507,
          0.010864993790828144,
          0.010818636362215348,
          0.009663297299363202,
          0.006936864916251241,
          0.006867754312950882,
          0.004865115333940264,
          0.0041986231486158656,
          0.003959808589393125,
          0.003146879382552412,
          0.002815743041510067,
          0.0025316152061743585,
          0.0024966587365495138,
          0.0023938147313682153,
          0.0022576917682395857,
          0.002191944629461742,
          0.0021162819131735457,
          0.0020958778885827958,
          0.0020931148644279447,
          0.0019306973991498543,
          0.0018017462089856835,
          0.0017219127235899242,
          0.001691384523036835,
          0.0016769824713368869,
          0.0016415985170054714,
          0.0015283441413910907,
          0.0014764552381162264,
          0.0013500804837139877,
          0.001298968450144833,
          0.0012948399575017152,
          0.0012153779377236757,
          0.0011102080353567775,
          0.001052367220622741,
          0.0010258361596866465,
          0.0009756097734836957,
          0.0009557442495546372,
          0.0009282207938998983,
          0.0009143154400854041,
          0.0008944719886327674,
          0.0008544383070797283,
          0.0008171621295256355,
          0.0007827488771137747,
          0.0007814435589244202,
          0.0007764702915162174,
          0.000766808720269128,
          0.0007628397509370893,
          0.0007583646177128819,
          0.0007573498369670931,
          0.0007520545928258863,
          0.000623810856998305,
          0.000614517278020697,
          0.000612735340241678,
          0.0005697291634862807,
          0.0005117141281900785,
          0.0005005497290019899,
          0.0004869524514616457,
          0.00047619751543494715,
          0.0004758796778430983,
          0.00044392426458131785,
          0.00041734850807696684,
          0.0004042480619920433,
          0.0003626164936869843,
          0.00036006166657389467,
          0.00034978515896479014,
          0.00034556848706403503,
          0.00033093882403690167,
          0.0003281225793777881,
          0.00032414914442079214,
          0.0003038888176209469,
          0.000302216652598135,
          0.0002785307084233826,
          0.0002551823703215333,
          0.0002520672899561837,
          0.0002502100580807972,
          0.00024868688778206154,
          0.00023528177919602075,
          0.00023473177749167105,
          0.00022588144594438956,
          0.00022449878621364828,
          0.00021421283854169724,
          0.00020888462092862514,
          0.0001843647953971488,
          0.00018147024571985327,
          0.00016685980735173966,
          0.00016679581576510414,
          0.00016423182719764104,
          0.00016298698376899202,
          0.00015975730774781015,
          0.0001592841265384946,
          0.00014976160493607567,
          0.0001490667627874772,
          0.0001487755600985339,
          0.00013543276682036613,
          0.00013013478092862335,
          0.00012140667469433933,
          0.0001177568639361803,
          0.00010556784323848299,
          9.557762312489265e-05,
          9.497670487788485e-05,
          9.408225102665127e-05,
          6.794706427806332e-05,
          5.6877670966732835e-05,
          4.9313155164969103e-05,
          4.636665166872492e-05,
          4.057547793164567e-05,
          4.0504172793610994e-05,
          3.976493591988743e-05,
          3.375329519527246e-05,
          2.0051286425787478e-05,
          1.7493246162677085e-05,
          9.875831681893475e-06,
          8.146908337498167e-06,
          5.619022980668561e-06,
          1.7464109705048697e-07,
          0,
          0,
          0,
          0,
          0,
          0,
          0,
          0,
          0,
          0,
          0,
          0,
          0,
          0,
          0,
          0,
          0,
          0,
          0,
          0,
          0,
          0,
          0,
          0,
          0,
          0,
          0,
          0,
          0,
          0,
          0,
          0,
          0
         ],
         "y": [
          "0",
          "79",
          "130",
          "148",
          "103",
          "101",
          "128",
          "135",
          "125",
          "7",
          "21",
          "71",
          "14",
          "36",
          "144",
          "32",
          "64",
          "49",
          "28",
          "39",
          "5",
          "67",
          "11",
          "2",
          "87",
          "23",
          "1",
          "65",
          "81",
          "3",
          "51",
          "19",
          "83",
          "80",
          "92",
          "40",
          "95",
          "72",
          "15",
          "10",
          "145",
          "77",
          "13",
          "133",
          "44",
          "78",
          "34",
          "129",
          "35",
          "102",
          "140",
          "38",
          "27",
          "86",
          "132",
          "9",
          "96",
          "48",
          "120",
          "136",
          "110",
          "58",
          "16",
          "17",
          "100",
          "117",
          "63",
          "146",
          "114",
          "12",
          "45",
          "93",
          "41",
          "141",
          "123",
          "46",
          "56",
          "57",
          "24",
          "75",
          "126",
          "31",
          "111",
          "122",
          "22",
          "26",
          "6",
          "33",
          "43",
          "52",
          "149",
          "30",
          "147",
          "127",
          "60",
          "59",
          "69",
          "143",
          "4",
          "115",
          "97",
          "99",
          "53",
          "91",
          "139",
          "98",
          "142",
          "50",
          "89",
          "18",
          "112",
          "37",
          "104",
          "74",
          "109",
          "84",
          "113",
          "20",
          "70",
          "73",
          "138",
          "82",
          "25",
          "88",
          "134",
          "131",
          "29",
          "85",
          "8",
          "137",
          "42",
          "90",
          "116",
          "55",
          "54",
          "105",
          "106",
          "107",
          "108",
          "61",
          "118",
          "68",
          "119",
          "47",
          "121",
          "62",
          "94",
          "124",
          "66",
          "76"
         ]
        }
       ],
       "layout": {
        "autosize": false,
        "height": 1000,
        "width": 1000,
        "xaxis": {
         "tickfont": {
          "color": "black",
          "size": 12
         },
         "title": "Feature Importances"
        },
        "yaxis": {
         "automargin": true
        }
       }
      },
      "text/html": [
       "<div id=\"4bd0eb92-2f3e-4eb9-bbc7-f0649657a740\" style=\"height: 1000px; width: 1000px;\" class=\"plotly-graph-div\"></div><script type=\"text/javascript\">require([\"plotly\"], function(Plotly) { window.PLOTLYENV=window.PLOTLYENV || {};window.PLOTLYENV.BASE_URL=\"https://plot.ly\";Plotly.newPlot(\"4bd0eb92-2f3e-4eb9-bbc7-f0649657a740\", [{\"marker\": {\"color\": \"rgb(158,202,225)\", \"line\": {\"color\": \"rgb(8,48,107)\", \"width\": 1.5}}, \"opacity\": 0.6, \"orientation\": \"h\", \"text\": [0.8096, 0.0319, 0.0142, 0.0129, 0.0109, 0.0108, 0.0097, 0.0069, 0.0069, 0.0049, 0.0042, 0.004, 0.0031, 0.0028, 0.0025, 0.0025, 0.0024, 0.0023, 0.0022, 0.0021, 0.0021, 0.0021, 0.0019, 0.0018, 0.0017, 0.0017, 0.0017, 0.0016, 0.0015, 0.0015, 0.0014, 0.0013, 0.0013, 0.0012, 0.0011, 0.0011, 0.001, 0.001, 0.001, 0.0009, 0.0009, 0.0009, 0.0009, 0.0008, 0.0008, 0.0008, 0.0008, 0.0008, 0.0008, 0.0008, 0.0008, 0.0008, 0.0006, 0.0006, 0.0006, 0.0006, 0.0005, 0.0005, 0.0005, 0.0005, 0.0005, 0.0004, 0.0004, 0.0004, 0.0004, 0.0004, 0.0003, 0.0003, 0.0003, 0.0003, 0.0003, 0.0003, 0.0003, 0.0003, 0.0003, 0.0003, 0.0003, 0.0002, 0.0002, 0.0002, 0.0002, 0.0002, 0.0002, 0.0002, 0.0002, 0.0002, 0.0002, 0.0002, 0.0002, 0.0002, 0.0002, 0.0002, 0.0001, 0.0001, 0.0001, 0.0001, 0.0001, 0.0001, 0.0001, 0.0001, 0.0001, 0.0001, 0.0001, 0.0001, 0.0001, 0.0, 0.0, 0.0, 0.0, 0.0, 0.0, 0.0, 0.0, 0.0, 0.0, 0.0, 0.0, 0.0, 0.0, 0.0, 0.0, 0.0, 0.0, 0.0, 0.0, 0.0, 0.0, 0.0, 0.0, 0.0, 0.0, 0.0, 0.0, 0.0, 0.0, 0.0, 0.0, 0.0, 0.0, 0.0, 0.0, 0.0, 0.0, 0.0, 0.0, 0.0, 0.0, 0.0, 0.0, 0.0], \"textposition\": \"outside\", \"x\": [0.8095546017491716, 0.03186889185438878, 0.014153111203461202, 0.012915959812375507, 0.010864993790828144, 0.010818636362215348, 0.009663297299363202, 0.006936864916251241, 0.006867754312950882, 0.004865115333940264, 0.0041986231486158656, 0.003959808589393125, 0.003146879382552412, 0.002815743041510067, 0.0025316152061743585, 0.0024966587365495138, 0.0023938147313682153, 0.0022576917682395857, 0.002191944629461742, 0.0021162819131735457, 0.0020958778885827958, 0.0020931148644279447, 0.0019306973991498543, 0.0018017462089856835, 0.0017219127235899242, 0.001691384523036835, 0.0016769824713368869, 0.0016415985170054714, 0.0015283441413910907, 0.0014764552381162264, 0.0013500804837139877, 0.001298968450144833, 0.0012948399575017152, 0.0012153779377236757, 0.0011102080353567775, 0.001052367220622741, 0.0010258361596866465, 0.0009756097734836957, 0.0009557442495546372, 0.0009282207938998983, 0.0009143154400854041, 0.0008944719886327674, 0.0008544383070797283, 0.0008171621295256355, 0.0007827488771137747, 0.0007814435589244202, 0.0007764702915162174, 0.000766808720269128, 0.0007628397509370893, 0.0007583646177128819, 0.0007573498369670931, 0.0007520545928258863, 0.000623810856998305, 0.000614517278020697, 0.000612735340241678, 0.0005697291634862807, 0.0005117141281900785, 0.0005005497290019899, 0.0004869524514616457, 0.00047619751543494715, 0.0004758796778430983, 0.00044392426458131785, 0.00041734850807696684, 0.0004042480619920433, 0.0003626164936869843, 0.00036006166657389467, 0.00034978515896479014, 0.00034556848706403503, 0.00033093882403690167, 0.0003281225793777881, 0.00032414914442079214, 0.0003038888176209469, 0.000302216652598135, 0.0002785307084233826, 0.0002551823703215333, 0.0002520672899561837, 0.0002502100580807972, 0.00024868688778206154, 0.00023528177919602075, 0.00023473177749167105, 0.00022588144594438956, 0.00022449878621364828, 0.00021421283854169724, 0.00020888462092862514, 0.0001843647953971488, 0.00018147024571985327, 0.00016685980735173966, 0.00016679581576510414, 0.00016423182719764104, 0.00016298698376899202, 0.00015975730774781015, 0.0001592841265384946, 0.00014976160493607567, 0.0001490667627874772, 0.0001487755600985339, 0.00013543276682036613, 0.00013013478092862335, 0.00012140667469433933, 0.0001177568639361803, 0.00010556784323848299, 9.557762312489265e-05, 9.497670487788485e-05, 9.408225102665127e-05, 6.794706427806332e-05, 5.6877670966732835e-05, 4.9313155164969103e-05, 4.636665166872492e-05, 4.057547793164567e-05, 4.0504172793610994e-05, 3.976493591988743e-05, 3.375329519527246e-05, 2.0051286425787478e-05, 1.7493246162677085e-05, 9.875831681893475e-06, 8.146908337498167e-06, 5.619022980668561e-06, 1.7464109705048697e-07, 0.0, 0.0, 0.0, 0.0, 0.0, 0.0, 0.0, 0.0, 0.0, 0.0, 0.0, 0.0, 0.0, 0.0, 0.0, 0.0, 0.0, 0.0, 0.0, 0.0, 0.0, 0.0, 0.0, 0.0, 0.0, 0.0, 0.0, 0.0, 0.0, 0.0, 0.0, 0.0, 0.0], \"y\": [\"0\", \"79\", \"130\", \"148\", \"103\", \"101\", \"128\", \"135\", \"125\", \"7\", \"21\", \"71\", \"14\", \"36\", \"144\", \"32\", \"64\", \"49\", \"28\", \"39\", \"5\", \"67\", \"11\", \"2\", \"87\", \"23\", \"1\", \"65\", \"81\", \"3\", \"51\", \"19\", \"83\", \"80\", \"92\", \"40\", \"95\", \"72\", \"15\", \"10\", \"145\", \"77\", \"13\", \"133\", \"44\", \"78\", \"34\", \"129\", \"35\", \"102\", \"140\", \"38\", \"27\", \"86\", \"132\", \"9\", \"96\", \"48\", \"120\", \"136\", \"110\", \"58\", \"16\", \"17\", \"100\", \"117\", \"63\", \"146\", \"114\", \"12\", \"45\", \"93\", \"41\", \"141\", \"123\", \"46\", \"56\", \"57\", \"24\", \"75\", \"126\", \"31\", \"111\", \"122\", \"22\", \"26\", \"6\", \"33\", \"43\", \"52\", \"149\", \"30\", \"147\", \"127\", \"60\", \"59\", \"69\", \"143\", \"4\", \"115\", \"97\", \"99\", \"53\", \"91\", \"139\", \"98\", \"142\", \"50\", \"89\", \"18\", \"112\", \"37\", \"104\", \"74\", \"109\", \"84\", \"113\", \"20\", \"70\", \"73\", \"138\", \"82\", \"25\", \"88\", \"134\", \"131\", \"29\", \"85\", \"8\", \"137\", \"42\", \"90\", \"116\", \"55\", \"54\", \"105\", \"106\", \"107\", \"108\", \"61\", \"118\", \"68\", \"119\", \"47\", \"121\", \"62\", \"94\", \"124\", \"66\", \"76\"], \"type\": \"bar\", \"uid\": \"876de056-2e53-4d4f-92de-09c4047d2ec2\"}], {\"autosize\": false, \"height\": 1000, \"width\": 1000, \"xaxis\": {\"tickfont\": {\"color\": \"black\", \"size\": 12}, \"title\": \"Feature Importances\"}, \"yaxis\": {\"automargin\": true}}, {\"showLink\": true, \"linkText\": \"Export to plot.ly\", \"plotlyServerURL\": \"https://plot.ly\"})});</script>"
      ],
      "text/vnd.plotly.v1+html": [
       "<div id=\"4bd0eb92-2f3e-4eb9-bbc7-f0649657a740\" style=\"height: 1000px; width: 1000px;\" class=\"plotly-graph-div\"></div><script type=\"text/javascript\">require([\"plotly\"], function(Plotly) { window.PLOTLYENV=window.PLOTLYENV || {};window.PLOTLYENV.BASE_URL=\"https://plot.ly\";Plotly.newPlot(\"4bd0eb92-2f3e-4eb9-bbc7-f0649657a740\", [{\"marker\": {\"color\": \"rgb(158,202,225)\", \"line\": {\"color\": \"rgb(8,48,107)\", \"width\": 1.5}}, \"opacity\": 0.6, \"orientation\": \"h\", \"text\": [0.8096, 0.0319, 0.0142, 0.0129, 0.0109, 0.0108, 0.0097, 0.0069, 0.0069, 0.0049, 0.0042, 0.004, 0.0031, 0.0028, 0.0025, 0.0025, 0.0024, 0.0023, 0.0022, 0.0021, 0.0021, 0.0021, 0.0019, 0.0018, 0.0017, 0.0017, 0.0017, 0.0016, 0.0015, 0.0015, 0.0014, 0.0013, 0.0013, 0.0012, 0.0011, 0.0011, 0.001, 0.001, 0.001, 0.0009, 0.0009, 0.0009, 0.0009, 0.0008, 0.0008, 0.0008, 0.0008, 0.0008, 0.0008, 0.0008, 0.0008, 0.0008, 0.0006, 0.0006, 0.0006, 0.0006, 0.0005, 0.0005, 0.0005, 0.0005, 0.0005, 0.0004, 0.0004, 0.0004, 0.0004, 0.0004, 0.0003, 0.0003, 0.0003, 0.0003, 0.0003, 0.0003, 0.0003, 0.0003, 0.0003, 0.0003, 0.0003, 0.0002, 0.0002, 0.0002, 0.0002, 0.0002, 0.0002, 0.0002, 0.0002, 0.0002, 0.0002, 0.0002, 0.0002, 0.0002, 0.0002, 0.0002, 0.0001, 0.0001, 0.0001, 0.0001, 0.0001, 0.0001, 0.0001, 0.0001, 0.0001, 0.0001, 0.0001, 0.0001, 0.0001, 0.0, 0.0, 0.0, 0.0, 0.0, 0.0, 0.0, 0.0, 0.0, 0.0, 0.0, 0.0, 0.0, 0.0, 0.0, 0.0, 0.0, 0.0, 0.0, 0.0, 0.0, 0.0, 0.0, 0.0, 0.0, 0.0, 0.0, 0.0, 0.0, 0.0, 0.0, 0.0, 0.0, 0.0, 0.0, 0.0, 0.0, 0.0, 0.0, 0.0, 0.0, 0.0, 0.0, 0.0, 0.0], \"textposition\": \"outside\", \"x\": [0.8095546017491716, 0.03186889185438878, 0.014153111203461202, 0.012915959812375507, 0.010864993790828144, 0.010818636362215348, 0.009663297299363202, 0.006936864916251241, 0.006867754312950882, 0.004865115333940264, 0.0041986231486158656, 0.003959808589393125, 0.003146879382552412, 0.002815743041510067, 0.0025316152061743585, 0.0024966587365495138, 0.0023938147313682153, 0.0022576917682395857, 0.002191944629461742, 0.0021162819131735457, 0.0020958778885827958, 0.0020931148644279447, 0.0019306973991498543, 0.0018017462089856835, 0.0017219127235899242, 0.001691384523036835, 0.0016769824713368869, 0.0016415985170054714, 0.0015283441413910907, 0.0014764552381162264, 0.0013500804837139877, 0.001298968450144833, 0.0012948399575017152, 0.0012153779377236757, 0.0011102080353567775, 0.001052367220622741, 0.0010258361596866465, 0.0009756097734836957, 0.0009557442495546372, 0.0009282207938998983, 0.0009143154400854041, 0.0008944719886327674, 0.0008544383070797283, 0.0008171621295256355, 0.0007827488771137747, 0.0007814435589244202, 0.0007764702915162174, 0.000766808720269128, 0.0007628397509370893, 0.0007583646177128819, 0.0007573498369670931, 0.0007520545928258863, 0.000623810856998305, 0.000614517278020697, 0.000612735340241678, 0.0005697291634862807, 0.0005117141281900785, 0.0005005497290019899, 0.0004869524514616457, 0.00047619751543494715, 0.0004758796778430983, 0.00044392426458131785, 0.00041734850807696684, 0.0004042480619920433, 0.0003626164936869843, 0.00036006166657389467, 0.00034978515896479014, 0.00034556848706403503, 0.00033093882403690167, 0.0003281225793777881, 0.00032414914442079214, 0.0003038888176209469, 0.000302216652598135, 0.0002785307084233826, 0.0002551823703215333, 0.0002520672899561837, 0.0002502100580807972, 0.00024868688778206154, 0.00023528177919602075, 0.00023473177749167105, 0.00022588144594438956, 0.00022449878621364828, 0.00021421283854169724, 0.00020888462092862514, 0.0001843647953971488, 0.00018147024571985327, 0.00016685980735173966, 0.00016679581576510414, 0.00016423182719764104, 0.00016298698376899202, 0.00015975730774781015, 0.0001592841265384946, 0.00014976160493607567, 0.0001490667627874772, 0.0001487755600985339, 0.00013543276682036613, 0.00013013478092862335, 0.00012140667469433933, 0.0001177568639361803, 0.00010556784323848299, 9.557762312489265e-05, 9.497670487788485e-05, 9.408225102665127e-05, 6.794706427806332e-05, 5.6877670966732835e-05, 4.9313155164969103e-05, 4.636665166872492e-05, 4.057547793164567e-05, 4.0504172793610994e-05, 3.976493591988743e-05, 3.375329519527246e-05, 2.0051286425787478e-05, 1.7493246162677085e-05, 9.875831681893475e-06, 8.146908337498167e-06, 5.619022980668561e-06, 1.7464109705048697e-07, 0.0, 0.0, 0.0, 0.0, 0.0, 0.0, 0.0, 0.0, 0.0, 0.0, 0.0, 0.0, 0.0, 0.0, 0.0, 0.0, 0.0, 0.0, 0.0, 0.0, 0.0, 0.0, 0.0, 0.0, 0.0, 0.0, 0.0, 0.0, 0.0, 0.0, 0.0, 0.0, 0.0], \"y\": [\"0\", \"79\", \"130\", \"148\", \"103\", \"101\", \"128\", \"135\", \"125\", \"7\", \"21\", \"71\", \"14\", \"36\", \"144\", \"32\", \"64\", \"49\", \"28\", \"39\", \"5\", \"67\", \"11\", \"2\", \"87\", \"23\", \"1\", \"65\", \"81\", \"3\", \"51\", \"19\", \"83\", \"80\", \"92\", \"40\", \"95\", \"72\", \"15\", \"10\", \"145\", \"77\", \"13\", \"133\", \"44\", \"78\", \"34\", \"129\", \"35\", \"102\", \"140\", \"38\", \"27\", \"86\", \"132\", \"9\", \"96\", \"48\", \"120\", \"136\", \"110\", \"58\", \"16\", \"17\", \"100\", \"117\", \"63\", \"146\", \"114\", \"12\", \"45\", \"93\", \"41\", \"141\", \"123\", \"46\", \"56\", \"57\", \"24\", \"75\", \"126\", \"31\", \"111\", \"122\", \"22\", \"26\", \"6\", \"33\", \"43\", \"52\", \"149\", \"30\", \"147\", \"127\", \"60\", \"59\", \"69\", \"143\", \"4\", \"115\", \"97\", \"99\", \"53\", \"91\", \"139\", \"98\", \"142\", \"50\", \"89\", \"18\", \"112\", \"37\", \"104\", \"74\", \"109\", \"84\", \"113\", \"20\", \"70\", \"73\", \"138\", \"82\", \"25\", \"88\", \"134\", \"131\", \"29\", \"85\", \"8\", \"137\", \"42\", \"90\", \"116\", \"55\", \"54\", \"105\", \"106\", \"107\", \"108\", \"61\", \"118\", \"68\", \"119\", \"47\", \"121\", \"62\", \"94\", \"124\", \"66\", \"76\"], \"type\": \"bar\", \"uid\": \"876de056-2e53-4d4f-92de-09c4047d2ec2\"}], {\"autosize\": false, \"height\": 1000, \"width\": 1000, \"xaxis\": {\"tickfont\": {\"color\": \"black\", \"size\": 12}, \"title\": \"Feature Importances\"}, \"yaxis\": {\"automargin\": true}}, {\"showLink\": true, \"linkText\": \"Export to plot.ly\", \"plotlyServerURL\": \"https://plot.ly\"})});</script>"
      ]
     },
     "metadata": {},
     "output_type": "display_data"
    },
    {
     "name": "stdout",
     "output_type": "stream",
     "text": [
      "\n",
      "\n",
      "\u001b[1mExtraTree Classifier\u001b[0m\n",
      "Accuracy of the model for training data is: 0.9284460976979225\n",
      "Confusion Matrix for training data is:\n"
     ]
    },
    {
     "data": {
      "text/plain": [
       "Predicted  False  True  __all__\n",
       "Actual                         \n",
       "False      22415  1925    24340\n",
       "True         114  4042     4156\n",
       "__all__    22529  5967    28496"
      ]
     },
     "metadata": {},
     "output_type": "display_data"
    },
    {
     "name": "stdout",
     "output_type": "stream",
     "text": [
      "Accuracy of the model for test data is: 0.9119790387292229\n",
      "Confusion Matrix for test data is:\n"
     ]
    },
    {
     "data": {
      "text/plain": [
       "Predicted  False  True  __all__\n",
       "Actual                         \n",
       "False       9567   871    10438\n",
       "True         204  1571     1775\n",
       "__all__     9771  2442    12213"
      ]
     },
     "metadata": {},
     "output_type": "display_data"
    },
    {
     "data": {
      "application/vnd.plotly.v1+json": {
       "config": {
        "linkText": "Export to plot.ly",
        "plotlyServerURL": "https://plot.ly",
        "showLink": true
       },
       "data": [
        {
         "marker": {
          "color": "rgb(158,202,225)",
          "line": {
           "color": "rgb(8,48,107)",
           "width": 1.5
          }
         },
         "opacity": 0.6,
         "orientation": "h",
         "text": [
          0.103,
          0.03,
          0.0296,
          0.0282,
          0.0253,
          0.0248,
          0.0222,
          0.0213,
          0.019,
          0.0181,
          0.0167,
          0.0158,
          0.0152,
          0.015,
          0.0148,
          0.0148,
          0.0143,
          0.0135,
          0.0128,
          0.0126,
          0.0118,
          0.0111,
          0.0103,
          0.0103,
          0.0101,
          0.01,
          0.01,
          0.0099,
          0.0098,
          0.0097,
          0.009,
          0.009,
          0.0085,
          0.0084,
          0.0078,
          0.0077,
          0.0073,
          0.0072,
          0.007,
          0.007,
          0.0069,
          0.0069,
          0.0068,
          0.0065,
          0.0064,
          0.0063,
          0.0061,
          0.006,
          0.006,
          0.0059,
          0.0056,
          0.0055,
          0.0055,
          0.0054,
          0.0054,
          0.0053,
          0.0052,
          0.0049,
          0.0048,
          0.0046,
          0.0046,
          0.0045,
          0.0043,
          0.0043,
          0.0043,
          0.0041,
          0.0041,
          0.0039,
          0.0039,
          0.0039,
          0.0039,
          0.0038,
          0.0038,
          0.0038,
          0.0037,
          0.0037,
          0.0035,
          0.0035,
          0.0034,
          0.0034,
          0.0033,
          0.0032,
          0.0032,
          0.0032,
          0.003,
          0.003,
          0.0029,
          0.0029,
          0.0029,
          0.0029,
          0.0029,
          0.0028,
          0.0028,
          0.0028,
          0.0028,
          0.0027,
          0.0027,
          0.0027,
          0.0026,
          0.0026,
          0.0026,
          0.0025,
          0.0025,
          0.0025,
          0.0025,
          0.0024,
          0.0024,
          0.0024,
          0.0024,
          0.0024,
          0.0023,
          0.0023,
          0.0023,
          0.0023,
          0.0022,
          0.0022,
          0.0022,
          0.0022,
          0.0021,
          0.0021,
          0.0021,
          0.0021,
          0.0021,
          0.0021,
          0.002,
          0.002,
          0.002,
          0.002,
          0.0019,
          0.0019,
          0.0019,
          0.0019,
          0.0018,
          0.0018,
          0.0018,
          0.0018,
          0.0017,
          0.0017,
          0.0016,
          0.0016,
          0.0016,
          0.0016,
          0.0015,
          0.0015,
          0.0014,
          0.0014,
          0.0014,
          0.0014,
          0.0013,
          0.0013
         ],
         "textposition": "outside",
         "type": "bar",
         "uid": "30cce2ba-0bd9-434a-8ed8-ef4e81463525",
         "x": [
          0.10304631967723507,
          0.029997110418528188,
          0.029642669165605668,
          0.0281834871234527,
          0.025288929371039364,
          0.024769132734503884,
          0.02218857354982466,
          0.021311861179950174,
          0.019007746886888797,
          0.01805911700703514,
          0.016718568668711416,
          0.01581667144491284,
          0.015194370808154545,
          0.015045903577348595,
          0.014799420017500384,
          0.014753446281164886,
          0.014324747045791994,
          0.013496713627041496,
          0.012817362876019842,
          0.012604913592709613,
          0.011753056797397446,
          0.01106649094100955,
          0.010299072944962054,
          0.010251013074035342,
          0.010124112554034068,
          0.01004597224267227,
          0.009987302363818562,
          0.009862233099003779,
          0.009769695828949062,
          0.009687903468743793,
          0.009011658092374347,
          0.009001472425736245,
          0.0084998131191625,
          0.008361430303480282,
          0.007823357864005146,
          0.007671637378092069,
          0.00731027837288563,
          0.007189057288048263,
          0.007039772014092023,
          0.006980047859721191,
          0.006911547346697943,
          0.006894124691633271,
          0.00684444235220011,
          0.006483868978563187,
          0.006369775319378139,
          0.0062587114376519825,
          0.006074842808757665,
          0.006037353295194947,
          0.005976240543568384,
          0.00586155344415395,
          0.005554613883218312,
          0.005534121478301135,
          0.005469042951475602,
          0.005422595975568459,
          0.005354484473242311,
          0.00528953409135791,
          0.0052030899133149264,
          0.004870183458809445,
          0.004794693948740953,
          0.004593854641839755,
          0.004563216955619691,
          0.00453187594835346,
          0.004319255476126912,
          0.004312324135233994,
          0.00425965756964739,
          0.0041257936604434985,
          0.004122424241810296,
          0.003945917203726955,
          0.00388373868934397,
          0.0038603322313242455,
          0.0038583951704247556,
          0.0038202702846239444,
          0.0038192622619330403,
          0.0038186798780140757,
          0.003715569229883438,
          0.0036758980697494505,
          0.003546736958307221,
          0.003541312274958823,
          0.0034176989171989655,
          0.0033586116674074245,
          0.003325135302503581,
          0.003221853490755677,
          0.003197091558298136,
          0.0031894649607675006,
          0.003004632106053606,
          0.0030025830479784342,
          0.0029423681908369204,
          0.002924101336453435,
          0.002904993889265358,
          0.0028764175791716716,
          0.002863786747968453,
          0.002821121996719078,
          0.0028124478742400523,
          0.0028051483174319916,
          0.0027937580638073643,
          0.0027491952096237813,
          0.002710557871692712,
          0.0026782756694275316,
          0.00262778851421062,
          0.002573585559140906,
          0.0025604523548623534,
          0.002537515120223221,
          0.0025033788415003574,
          0.0024830428250032874,
          0.002482107893785565,
          0.002437133482717025,
          0.0024369985512756615,
          0.0024160296073289875,
          0.0023948899380530344,
          0.00238818077534013,
          0.002345890221382424,
          0.002289422635592358,
          0.0022842121039415237,
          0.00228068166119072,
          0.0022221922980284158,
          0.002213900109986132,
          0.0021719581803281737,
          0.002162306775717443,
          0.0021449095140590483,
          0.0021365647354836784,
          0.002130944903991924,
          0.0021288072426593517,
          0.002093672897435931,
          0.0020823485772516236,
          0.002030611917703577,
          0.001979962779491159,
          0.001969311178693394,
          0.001965341075935971,
          0.0019193124964626193,
          0.0018868435995987264,
          0.001874713886680052,
          0.0018575733941977573,
          0.001816039987308701,
          0.001807294649446224,
          0.0017879161893162125,
          0.0017508815554749453,
          0.0017285321129456813,
          0.0016604432950634886,
          0.0016487647506066403,
          0.0016158214339776493,
          0.001612988953693751,
          0.0015816310548191462,
          0.0015033859942621126,
          0.0014741321768572077,
          0.0014236616945928887,
          0.0013931999221198767,
          0.001372678978319313,
          0.0013669265784722801,
          0.001262644581673156,
          0.0012594482853594369
         ],
         "y": [
          "0",
          "35",
          "48",
          "29",
          "13",
          "27",
          "122",
          "26",
          "68",
          "8",
          "31",
          "93",
          "32",
          "37",
          "66",
          "101",
          "148",
          "134",
          "23",
          "70",
          "36",
          "105",
          "80",
          "126",
          "16",
          "79",
          "82",
          "87",
          "46",
          "145",
          "123",
          "120",
          "140",
          "115",
          "117",
          "18",
          "20",
          "146",
          "92",
          "108",
          "14",
          "109",
          "149",
          "81",
          "74",
          "78",
          "50",
          "137",
          "10",
          "89",
          "99",
          "124",
          "130",
          "53",
          "103",
          "142",
          "57",
          "17",
          "90",
          "127",
          "136",
          "129",
          "85",
          "43",
          "144",
          "75",
          "77",
          "94",
          "25",
          "111",
          "6",
          "121",
          "44",
          "59",
          "91",
          "131",
          "58",
          "133",
          "143",
          "106",
          "138",
          "40",
          "107",
          "49",
          "125",
          "102",
          "116",
          "9",
          "4",
          "147",
          "141",
          "21",
          "42",
          "41",
          "52",
          "63",
          "128",
          "98",
          "71",
          "114",
          "84",
          "34",
          "69",
          "118",
          "24",
          "67",
          "73",
          "86",
          "47",
          "96",
          "110",
          "55",
          "11",
          "7",
          "119",
          "51",
          "15",
          "45",
          "97",
          "64",
          "100",
          "54",
          "3",
          "104",
          "135",
          "132",
          "38",
          "95",
          "28",
          "61",
          "112",
          "83",
          "33",
          "2",
          "113",
          "12",
          "22",
          "62",
          "60",
          "5",
          "30",
          "88",
          "72",
          "1",
          "139",
          "76",
          "65",
          "56",
          "19",
          "39"
         ]
        }
       ],
       "layout": {
        "autosize": false,
        "height": 1000,
        "width": 1000,
        "xaxis": {
         "tickfont": {
          "color": "black",
          "size": 12
         },
         "title": "Feature Importances"
        },
        "yaxis": {
         "automargin": true
        }
       }
      },
      "text/html": [
       "<div id=\"56190534-0211-4ae7-a989-a12b7aebe186\" style=\"height: 1000px; width: 1000px;\" class=\"plotly-graph-div\"></div><script type=\"text/javascript\">require([\"plotly\"], function(Plotly) { window.PLOTLYENV=window.PLOTLYENV || {};window.PLOTLYENV.BASE_URL=\"https://plot.ly\";Plotly.newPlot(\"56190534-0211-4ae7-a989-a12b7aebe186\", [{\"marker\": {\"color\": \"rgb(158,202,225)\", \"line\": {\"color\": \"rgb(8,48,107)\", \"width\": 1.5}}, \"opacity\": 0.6, \"orientation\": \"h\", \"text\": [0.103, 0.03, 0.0296, 0.0282, 0.0253, 0.0248, 0.0222, 0.0213, 0.019, 0.0181, 0.0167, 0.0158, 0.0152, 0.015, 0.0148, 0.0148, 0.0143, 0.0135, 0.0128, 0.0126, 0.0118, 0.0111, 0.0103, 0.0103, 0.0101, 0.01, 0.01, 0.0099, 0.0098, 0.0097, 0.009, 0.009, 0.0085, 0.0084, 0.0078, 0.0077, 0.0073, 0.0072, 0.007, 0.007, 0.0069, 0.0069, 0.0068, 0.0065, 0.0064, 0.0063, 0.0061, 0.006, 0.006, 0.0059, 0.0056, 0.0055, 0.0055, 0.0054, 0.0054, 0.0053, 0.0052, 0.0049, 0.0048, 0.0046, 0.0046, 0.0045, 0.0043, 0.0043, 0.0043, 0.0041, 0.0041, 0.0039, 0.0039, 0.0039, 0.0039, 0.0038, 0.0038, 0.0038, 0.0037, 0.0037, 0.0035, 0.0035, 0.0034, 0.0034, 0.0033, 0.0032, 0.0032, 0.0032, 0.003, 0.003, 0.0029, 0.0029, 0.0029, 0.0029, 0.0029, 0.0028, 0.0028, 0.0028, 0.0028, 0.0027, 0.0027, 0.0027, 0.0026, 0.0026, 0.0026, 0.0025, 0.0025, 0.0025, 0.0025, 0.0024, 0.0024, 0.0024, 0.0024, 0.0024, 0.0023, 0.0023, 0.0023, 0.0023, 0.0022, 0.0022, 0.0022, 0.0022, 0.0021, 0.0021, 0.0021, 0.0021, 0.0021, 0.0021, 0.002, 0.002, 0.002, 0.002, 0.0019, 0.0019, 0.0019, 0.0019, 0.0018, 0.0018, 0.0018, 0.0018, 0.0017, 0.0017, 0.0016, 0.0016, 0.0016, 0.0016, 0.0015, 0.0015, 0.0014, 0.0014, 0.0014, 0.0014, 0.0013, 0.0013], \"textposition\": \"outside\", \"x\": [0.10304631967723507, 0.029997110418528188, 0.029642669165605668, 0.0281834871234527, 0.025288929371039364, 0.024769132734503884, 0.02218857354982466, 0.021311861179950174, 0.019007746886888797, 0.01805911700703514, 0.016718568668711416, 0.01581667144491284, 0.015194370808154545, 0.015045903577348595, 0.014799420017500384, 0.014753446281164886, 0.014324747045791994, 0.013496713627041496, 0.012817362876019842, 0.012604913592709613, 0.011753056797397446, 0.01106649094100955, 0.010299072944962054, 0.010251013074035342, 0.010124112554034068, 0.01004597224267227, 0.009987302363818562, 0.009862233099003779, 0.009769695828949062, 0.009687903468743793, 0.009011658092374347, 0.009001472425736245, 0.0084998131191625, 0.008361430303480282, 0.007823357864005146, 0.007671637378092069, 0.00731027837288563, 0.007189057288048263, 0.007039772014092023, 0.006980047859721191, 0.006911547346697943, 0.006894124691633271, 0.00684444235220011, 0.006483868978563187, 0.006369775319378139, 0.0062587114376519825, 0.006074842808757665, 0.006037353295194947, 0.005976240543568384, 0.00586155344415395, 0.005554613883218312, 0.005534121478301135, 0.005469042951475602, 0.005422595975568459, 0.005354484473242311, 0.00528953409135791, 0.0052030899133149264, 0.004870183458809445, 0.004794693948740953, 0.004593854641839755, 0.004563216955619691, 0.00453187594835346, 0.004319255476126912, 0.004312324135233994, 0.00425965756964739, 0.0041257936604434985, 0.004122424241810296, 0.003945917203726955, 0.00388373868934397, 0.0038603322313242455, 0.0038583951704247556, 0.0038202702846239444, 0.0038192622619330403, 0.0038186798780140757, 0.003715569229883438, 0.0036758980697494505, 0.003546736958307221, 0.003541312274958823, 0.0034176989171989655, 0.0033586116674074245, 0.003325135302503581, 0.003221853490755677, 0.003197091558298136, 0.0031894649607675006, 0.003004632106053606, 0.0030025830479784342, 0.0029423681908369204, 0.002924101336453435, 0.002904993889265358, 0.0028764175791716716, 0.002863786747968453, 0.002821121996719078, 0.0028124478742400523, 0.0028051483174319916, 0.0027937580638073643, 0.0027491952096237813, 0.002710557871692712, 0.0026782756694275316, 0.00262778851421062, 0.002573585559140906, 0.0025604523548623534, 0.002537515120223221, 0.0025033788415003574, 0.0024830428250032874, 0.002482107893785565, 0.002437133482717025, 0.0024369985512756615, 0.0024160296073289875, 0.0023948899380530344, 0.00238818077534013, 0.002345890221382424, 0.002289422635592358, 0.0022842121039415237, 0.00228068166119072, 0.0022221922980284158, 0.002213900109986132, 0.0021719581803281737, 0.002162306775717443, 0.0021449095140590483, 0.0021365647354836784, 0.002130944903991924, 0.0021288072426593517, 0.002093672897435931, 0.0020823485772516236, 0.002030611917703577, 0.001979962779491159, 0.001969311178693394, 0.001965341075935971, 0.0019193124964626193, 0.0018868435995987264, 0.001874713886680052, 0.0018575733941977573, 0.001816039987308701, 0.001807294649446224, 0.0017879161893162125, 0.0017508815554749453, 0.0017285321129456813, 0.0016604432950634886, 0.0016487647506066403, 0.0016158214339776493, 0.001612988953693751, 0.0015816310548191462, 0.0015033859942621126, 0.0014741321768572077, 0.0014236616945928887, 0.0013931999221198767, 0.001372678978319313, 0.0013669265784722801, 0.001262644581673156, 0.0012594482853594369], \"y\": [\"0\", \"35\", \"48\", \"29\", \"13\", \"27\", \"122\", \"26\", \"68\", \"8\", \"31\", \"93\", \"32\", \"37\", \"66\", \"101\", \"148\", \"134\", \"23\", \"70\", \"36\", \"105\", \"80\", \"126\", \"16\", \"79\", \"82\", \"87\", \"46\", \"145\", \"123\", \"120\", \"140\", \"115\", \"117\", \"18\", \"20\", \"146\", \"92\", \"108\", \"14\", \"109\", \"149\", \"81\", \"74\", \"78\", \"50\", \"137\", \"10\", \"89\", \"99\", \"124\", \"130\", \"53\", \"103\", \"142\", \"57\", \"17\", \"90\", \"127\", \"136\", \"129\", \"85\", \"43\", \"144\", \"75\", \"77\", \"94\", \"25\", \"111\", \"6\", \"121\", \"44\", \"59\", \"91\", \"131\", \"58\", \"133\", \"143\", \"106\", \"138\", \"40\", \"107\", \"49\", \"125\", \"102\", \"116\", \"9\", \"4\", \"147\", \"141\", \"21\", \"42\", \"41\", \"52\", \"63\", \"128\", \"98\", \"71\", \"114\", \"84\", \"34\", \"69\", \"118\", \"24\", \"67\", \"73\", \"86\", \"47\", \"96\", \"110\", \"55\", \"11\", \"7\", \"119\", \"51\", \"15\", \"45\", \"97\", \"64\", \"100\", \"54\", \"3\", \"104\", \"135\", \"132\", \"38\", \"95\", \"28\", \"61\", \"112\", \"83\", \"33\", \"2\", \"113\", \"12\", \"22\", \"62\", \"60\", \"5\", \"30\", \"88\", \"72\", \"1\", \"139\", \"76\", \"65\", \"56\", \"19\", \"39\"], \"type\": \"bar\", \"uid\": \"30cce2ba-0bd9-434a-8ed8-ef4e81463525\"}], {\"autosize\": false, \"height\": 1000, \"width\": 1000, \"xaxis\": {\"tickfont\": {\"color\": \"black\", \"size\": 12}, \"title\": \"Feature Importances\"}, \"yaxis\": {\"automargin\": true}}, {\"showLink\": true, \"linkText\": \"Export to plot.ly\", \"plotlyServerURL\": \"https://plot.ly\"})});</script>"
      ],
      "text/vnd.plotly.v1+html": [
       "<div id=\"56190534-0211-4ae7-a989-a12b7aebe186\" style=\"height: 1000px; width: 1000px;\" class=\"plotly-graph-div\"></div><script type=\"text/javascript\">require([\"plotly\"], function(Plotly) { window.PLOTLYENV=window.PLOTLYENV || {};window.PLOTLYENV.BASE_URL=\"https://plot.ly\";Plotly.newPlot(\"56190534-0211-4ae7-a989-a12b7aebe186\", [{\"marker\": {\"color\": \"rgb(158,202,225)\", \"line\": {\"color\": \"rgb(8,48,107)\", \"width\": 1.5}}, \"opacity\": 0.6, \"orientation\": \"h\", \"text\": [0.103, 0.03, 0.0296, 0.0282, 0.0253, 0.0248, 0.0222, 0.0213, 0.019, 0.0181, 0.0167, 0.0158, 0.0152, 0.015, 0.0148, 0.0148, 0.0143, 0.0135, 0.0128, 0.0126, 0.0118, 0.0111, 0.0103, 0.0103, 0.0101, 0.01, 0.01, 0.0099, 0.0098, 0.0097, 0.009, 0.009, 0.0085, 0.0084, 0.0078, 0.0077, 0.0073, 0.0072, 0.007, 0.007, 0.0069, 0.0069, 0.0068, 0.0065, 0.0064, 0.0063, 0.0061, 0.006, 0.006, 0.0059, 0.0056, 0.0055, 0.0055, 0.0054, 0.0054, 0.0053, 0.0052, 0.0049, 0.0048, 0.0046, 0.0046, 0.0045, 0.0043, 0.0043, 0.0043, 0.0041, 0.0041, 0.0039, 0.0039, 0.0039, 0.0039, 0.0038, 0.0038, 0.0038, 0.0037, 0.0037, 0.0035, 0.0035, 0.0034, 0.0034, 0.0033, 0.0032, 0.0032, 0.0032, 0.003, 0.003, 0.0029, 0.0029, 0.0029, 0.0029, 0.0029, 0.0028, 0.0028, 0.0028, 0.0028, 0.0027, 0.0027, 0.0027, 0.0026, 0.0026, 0.0026, 0.0025, 0.0025, 0.0025, 0.0025, 0.0024, 0.0024, 0.0024, 0.0024, 0.0024, 0.0023, 0.0023, 0.0023, 0.0023, 0.0022, 0.0022, 0.0022, 0.0022, 0.0021, 0.0021, 0.0021, 0.0021, 0.0021, 0.0021, 0.002, 0.002, 0.002, 0.002, 0.0019, 0.0019, 0.0019, 0.0019, 0.0018, 0.0018, 0.0018, 0.0018, 0.0017, 0.0017, 0.0016, 0.0016, 0.0016, 0.0016, 0.0015, 0.0015, 0.0014, 0.0014, 0.0014, 0.0014, 0.0013, 0.0013], \"textposition\": \"outside\", \"x\": [0.10304631967723507, 0.029997110418528188, 0.029642669165605668, 0.0281834871234527, 0.025288929371039364, 0.024769132734503884, 0.02218857354982466, 0.021311861179950174, 0.019007746886888797, 0.01805911700703514, 0.016718568668711416, 0.01581667144491284, 0.015194370808154545, 0.015045903577348595, 0.014799420017500384, 0.014753446281164886, 0.014324747045791994, 0.013496713627041496, 0.012817362876019842, 0.012604913592709613, 0.011753056797397446, 0.01106649094100955, 0.010299072944962054, 0.010251013074035342, 0.010124112554034068, 0.01004597224267227, 0.009987302363818562, 0.009862233099003779, 0.009769695828949062, 0.009687903468743793, 0.009011658092374347, 0.009001472425736245, 0.0084998131191625, 0.008361430303480282, 0.007823357864005146, 0.007671637378092069, 0.00731027837288563, 0.007189057288048263, 0.007039772014092023, 0.006980047859721191, 0.006911547346697943, 0.006894124691633271, 0.00684444235220011, 0.006483868978563187, 0.006369775319378139, 0.0062587114376519825, 0.006074842808757665, 0.006037353295194947, 0.005976240543568384, 0.00586155344415395, 0.005554613883218312, 0.005534121478301135, 0.005469042951475602, 0.005422595975568459, 0.005354484473242311, 0.00528953409135791, 0.0052030899133149264, 0.004870183458809445, 0.004794693948740953, 0.004593854641839755, 0.004563216955619691, 0.00453187594835346, 0.004319255476126912, 0.004312324135233994, 0.00425965756964739, 0.0041257936604434985, 0.004122424241810296, 0.003945917203726955, 0.00388373868934397, 0.0038603322313242455, 0.0038583951704247556, 0.0038202702846239444, 0.0038192622619330403, 0.0038186798780140757, 0.003715569229883438, 0.0036758980697494505, 0.003546736958307221, 0.003541312274958823, 0.0034176989171989655, 0.0033586116674074245, 0.003325135302503581, 0.003221853490755677, 0.003197091558298136, 0.0031894649607675006, 0.003004632106053606, 0.0030025830479784342, 0.0029423681908369204, 0.002924101336453435, 0.002904993889265358, 0.0028764175791716716, 0.002863786747968453, 0.002821121996719078, 0.0028124478742400523, 0.0028051483174319916, 0.0027937580638073643, 0.0027491952096237813, 0.002710557871692712, 0.0026782756694275316, 0.00262778851421062, 0.002573585559140906, 0.0025604523548623534, 0.002537515120223221, 0.0025033788415003574, 0.0024830428250032874, 0.002482107893785565, 0.002437133482717025, 0.0024369985512756615, 0.0024160296073289875, 0.0023948899380530344, 0.00238818077534013, 0.002345890221382424, 0.002289422635592358, 0.0022842121039415237, 0.00228068166119072, 0.0022221922980284158, 0.002213900109986132, 0.0021719581803281737, 0.002162306775717443, 0.0021449095140590483, 0.0021365647354836784, 0.002130944903991924, 0.0021288072426593517, 0.002093672897435931, 0.0020823485772516236, 0.002030611917703577, 0.001979962779491159, 0.001969311178693394, 0.001965341075935971, 0.0019193124964626193, 0.0018868435995987264, 0.001874713886680052, 0.0018575733941977573, 0.001816039987308701, 0.001807294649446224, 0.0017879161893162125, 0.0017508815554749453, 0.0017285321129456813, 0.0016604432950634886, 0.0016487647506066403, 0.0016158214339776493, 0.001612988953693751, 0.0015816310548191462, 0.0015033859942621126, 0.0014741321768572077, 0.0014236616945928887, 0.0013931999221198767, 0.001372678978319313, 0.0013669265784722801, 0.001262644581673156, 0.0012594482853594369], \"y\": [\"0\", \"35\", \"48\", \"29\", \"13\", \"27\", \"122\", \"26\", \"68\", \"8\", \"31\", \"93\", \"32\", \"37\", \"66\", \"101\", \"148\", \"134\", \"23\", \"70\", \"36\", \"105\", \"80\", \"126\", \"16\", \"79\", \"82\", \"87\", \"46\", \"145\", \"123\", \"120\", \"140\", \"115\", \"117\", \"18\", \"20\", \"146\", \"92\", \"108\", \"14\", \"109\", \"149\", \"81\", \"74\", \"78\", \"50\", \"137\", \"10\", \"89\", \"99\", \"124\", \"130\", \"53\", \"103\", \"142\", \"57\", \"17\", \"90\", \"127\", \"136\", \"129\", \"85\", \"43\", \"144\", \"75\", \"77\", \"94\", \"25\", \"111\", \"6\", \"121\", \"44\", \"59\", \"91\", \"131\", \"58\", \"133\", \"143\", \"106\", \"138\", \"40\", \"107\", \"49\", \"125\", \"102\", \"116\", \"9\", \"4\", \"147\", \"141\", \"21\", \"42\", \"41\", \"52\", \"63\", \"128\", \"98\", \"71\", \"114\", \"84\", \"34\", \"69\", \"118\", \"24\", \"67\", \"73\", \"86\", \"47\", \"96\", \"110\", \"55\", \"11\", \"7\", \"119\", \"51\", \"15\", \"45\", \"97\", \"64\", \"100\", \"54\", \"3\", \"104\", \"135\", \"132\", \"38\", \"95\", \"28\", \"61\", \"112\", \"83\", \"33\", \"2\", \"113\", \"12\", \"22\", \"62\", \"60\", \"5\", \"30\", \"88\", \"72\", \"1\", \"139\", \"76\", \"65\", \"56\", \"19\", \"39\"], \"type\": \"bar\", \"uid\": \"30cce2ba-0bd9-434a-8ed8-ef4e81463525\"}], {\"autosize\": false, \"height\": 1000, \"width\": 1000, \"xaxis\": {\"tickfont\": {\"color\": \"black\", \"size\": 12}, \"title\": \"Feature Importances\"}, \"yaxis\": {\"automargin\": true}}, {\"showLink\": true, \"linkText\": \"Export to plot.ly\", \"plotlyServerURL\": \"https://plot.ly\"})});</script>"
      ]
     },
     "metadata": {},
     "output_type": "display_data"
    },
    {
     "name": "stdout",
     "output_type": "stream",
     "text": [
      "\n",
      "\n",
      "\u001b[1mBagging Classifier\u001b[0m\n",
      "Accuracy of the model for training data is: 0.9260247052217855\n",
      "Confusion Matrix for training data is:\n"
     ]
    },
    {
     "data": {
      "text/plain": [
       "Predicted  False  True  __all__\n",
       "Actual                         \n",
       "False      22411  1929    24340\n",
       "True         179  3977     4156\n",
       "__all__    22590  5906    28496"
      ]
     },
     "metadata": {},
     "output_type": "display_data"
    },
    {
     "name": "stdout",
     "output_type": "stream",
     "text": [
      "Accuracy of the model for test data is: 0.9102595594857938\n",
      "Confusion Matrix for test data is:\n"
     ]
    },
    {
     "data": {
      "text/plain": [
       "Predicted  False  True  __all__\n",
       "Actual                         \n",
       "False       9548   890    10438\n",
       "True         206  1569     1775\n",
       "__all__     9754  2459    12213"
      ]
     },
     "metadata": {},
     "output_type": "display_data"
    },
    {
     "name": "stdout",
     "output_type": "stream",
     "text": [
      "\n",
      "\n",
      "\u001b[1mNeural Network-1\u001b[0m\n",
      "The accuracy of the model on training data is: 0.9225505334081976\n"
     ]
    },
    {
     "data": {
      "text/plain": [
       "Predicted  False  True  __all__\n",
       "Actual                         \n",
       "False      22274  2066    24340\n",
       "True         141  4015     4156\n",
       "__all__    22415  6081    28496"
      ]
     },
     "metadata": {},
     "output_type": "display_data"
    },
    {
     "name": "stdout",
     "output_type": "stream",
     "text": [
      "The accuracy of the model on test data is: 0.9029722426922132\n"
     ]
    },
    {
     "data": {
      "text/plain": [
       "Predicted  False  True  __all__\n",
       "Actual                         \n",
       "False       9426  1012    10438\n",
       "True         173  1602     1775\n",
       "__all__     9599  2614    12213"
      ]
     },
     "metadata": {},
     "output_type": "display_data"
    },
    {
     "name": "stdout",
     "output_type": "stream",
     "text": [
      "\n",
      "\n"
     ]
    }
   ],
   "source": [
    "feat_imp=[None]*4\n",
    "j=0\n",
    "for i in range(0,8):\n",
    "    if i>=2 and i<=5:\n",
    "        model,cm_train,cm_test,acc_train,acc_test,roc_auc,feat_imp[j],mcc=f[i](X_train,Y_train,X_test,Y_test,np.arange(0,150).astype(str))\n",
    "        j=j+1\n",
    "    else:\n",
    "        model,cm_train,cm_test,acc_train,acc_test,roc_auc,mcc=f[i](X_train,Y_train,X_test,Y_test)\n",
    "    table_80_70_train.loc[i]=   ([acc_train,cm_train.TP,cm_train.TN,cm_train.FP,cm_train.FN,cm_train.FPR,cm_train.FNR])\n",
    "    table_80_70_test.loc[i] =   ([acc_test ,cm_test.TP, cm_test.TN, cm_test.FP, cm_test.FN, cm_test.FPR, cm_test.FNR,roc_auc,mcc])\n",
    "    print(\"\\n\")"
   ]
  },
  {
   "cell_type": "markdown",
   "metadata": {},
   "source": [
    "### <a id='5.A' style=\"text-decoration : none; color : #000000;\"> A. Results</a>"
   ]
  },
  {
   "cell_type": "code",
   "execution_count": 43,
   "metadata": {},
   "outputs": [
    {
     "data": {
      "application/vnd.plotly.v1+json": {
       "config": {
        "linkText": "Export to plot.ly",
        "plotlyServerURL": "https://plot.ly",
        "showLink": true
       },
       "data": [
        {
         "mode": "lines",
         "name": "KNN_model",
         "type": "scatter",
         "uid": "03d171e4-4ca6-423c-863a-f2bf67b9c623",
         "x": [
          "accuracy",
          "FPR",
          "FNR",
          "auc"
         ],
         "y": [
          0.9069843609268812,
          0.08785207894232612,
          0.12338028169014084,
          0.8943838196837665
         ]
        },
        {
         "mode": "lines+markers",
         "name": "Logistic Regression",
         "type": "scatter",
         "uid": "996c20f2-6e69-47d9-8481-0cf6676bca26",
         "x": [
          "accuracy",
          "FPR",
          "FNR",
          "auc"
         ],
         "y": [
          0.8988782444935725,
          0.09254646484000767,
          0.15154929577464787,
          0.8779521196926722
         ]
        },
        {
         "marker": {
          "symbol": "x"
         },
         "mode": "lines+markers",
         "name": "Random Forest",
         "type": "scatter",
         "uid": "d4528005-d77c-4f2a-9796-ba0691ee10ba",
         "x": [
          "accuracy",
          "FPR",
          "FNR",
          "auc"
         ],
         "y": [
          0.9111602390894948,
          0.08363671201379574,
          0.11943661971830986,
          0.8984633341339472
         ]
        },
        {
         "mode": "lines",
         "name": "Ada Boost",
         "type": "scatter",
         "uid": "26c30bbb-88f0-464d-91a6-e74323fc8a3c",
         "x": [
          "accuracy",
          "FPR",
          "FNR",
          "auc"
         ],
         "y": [
          0.9022353230164579,
          0.09053458516957272,
          0.14028169014084507,
          0.8845918623447911
         ]
        },
        {
         "mode": "lines+markers",
         "name": "GradientBoosting",
         "type": "scatter",
         "uid": "54dbabde-7a8f-4cc6-9979-81776a592e9c",
         "x": [
          "accuracy",
          "FPR",
          "FNR",
          "auc"
         ],
         "y": [
          0.9081306804225007,
          0.0832534968384748,
          0.14253521126760563,
          0.8871056459469597
         ]
        },
        {
         "marker": {
          "symbol": "x"
         },
         "mode": "lines+markers",
         "name": "ExtraTree Classifier",
         "type": "scatter",
         "uid": "62443159-7611-4244-980c-92befc06dc17",
         "x": [
          "accuracy",
          "FPR",
          "FNR",
          "auc"
         ],
         "y": [
          0.9119790387292229,
          0.08344510442613527,
          0.11492957746478873,
          0.900812659054538
         ]
        },
        {
         "marker": {
          "symbol": "x"
         },
         "mode": "lines+markers",
         "name": "Bagging",
         "type": "scatter",
         "uid": "c1f5fd45-a368-46ca-a6b7-2bd3e7927c45",
         "x": [
          "accuracy",
          "FPR",
          "FNR",
          "auc"
         ],
         "y": [
          0.9102595594857938,
          0.08526537650890975,
          0.11605633802816902,
          0.8993391427314607
         ]
        },
        {
         "marker": {
          "symbol": "x"
         },
         "mode": "lines+markers",
         "name": "Neural Network",
         "type": "scatter",
         "uid": "51f601f5-29d6-4440-ab5f-81dc3356e074",
         "x": [
          "accuracy",
          "FPR",
          "FNR",
          "auc"
         ],
         "y": [
          0.9029722426922132,
          0.0969534393561985,
          0.09746478873239436,
          0.9027908859557036
         ]
        }
       ],
       "layout": {
        "title": "Result comparision for Features selected in Section 1",
        "yaxis": {
         "dtick": 0.05,
         "tick0": 0
        }
       }
      },
      "text/html": [
       "<div id=\"74bd9dd9-e522-4843-97d6-b2670d1c99fa\" style=\"height: 525px; width: 100%;\" class=\"plotly-graph-div\"></div><script type=\"text/javascript\">require([\"plotly\"], function(Plotly) { window.PLOTLYENV=window.PLOTLYENV || {};window.PLOTLYENV.BASE_URL=\"https://plot.ly\";Plotly.newPlot(\"74bd9dd9-e522-4843-97d6-b2670d1c99fa\", [{\"mode\": \"lines\", \"name\": \"KNN_model\", \"x\": [\"accuracy\", \"FPR\", \"FNR\", \"auc\"], \"y\": [0.9069843609268812, 0.08785207894232612, 0.12338028169014084, 0.8943838196837665], \"type\": \"scatter\", \"uid\": \"03d171e4-4ca6-423c-863a-f2bf67b9c623\"}, {\"mode\": \"lines+markers\", \"name\": \"Logistic Regression\", \"x\": [\"accuracy\", \"FPR\", \"FNR\", \"auc\"], \"y\": [0.8988782444935725, 0.09254646484000767, 0.15154929577464787, 0.8779521196926722], \"type\": \"scatter\", \"uid\": \"996c20f2-6e69-47d9-8481-0cf6676bca26\"}, {\"marker\": {\"symbol\": \"x\"}, \"mode\": \"lines+markers\", \"name\": \"Random Forest\", \"x\": [\"accuracy\", \"FPR\", \"FNR\", \"auc\"], \"y\": [0.9111602390894948, 0.08363671201379574, 0.11943661971830986, 0.8984633341339472], \"type\": \"scatter\", \"uid\": \"d4528005-d77c-4f2a-9796-ba0691ee10ba\"}, {\"mode\": \"lines\", \"name\": \"Ada Boost\", \"x\": [\"accuracy\", \"FPR\", \"FNR\", \"auc\"], \"y\": [0.9022353230164579, 0.09053458516957272, 0.14028169014084507, 0.8845918623447911], \"type\": \"scatter\", \"uid\": \"26c30bbb-88f0-464d-91a6-e74323fc8a3c\"}, {\"mode\": \"lines+markers\", \"name\": \"GradientBoosting\", \"x\": [\"accuracy\", \"FPR\", \"FNR\", \"auc\"], \"y\": [0.9081306804225007, 0.0832534968384748, 0.14253521126760563, 0.8871056459469597], \"type\": \"scatter\", \"uid\": \"54dbabde-7a8f-4cc6-9979-81776a592e9c\"}, {\"marker\": {\"symbol\": \"x\"}, \"mode\": \"lines+markers\", \"name\": \"ExtraTree Classifier\", \"x\": [\"accuracy\", \"FPR\", \"FNR\", \"auc\"], \"y\": [0.9119790387292229, 0.08344510442613527, 0.11492957746478873, 0.900812659054538], \"type\": \"scatter\", \"uid\": \"62443159-7611-4244-980c-92befc06dc17\"}, {\"marker\": {\"symbol\": \"x\"}, \"mode\": \"lines+markers\", \"name\": \"Bagging\", \"x\": [\"accuracy\", \"FPR\", \"FNR\", \"auc\"], \"y\": [0.9102595594857938, 0.08526537650890975, 0.11605633802816902, 0.8993391427314607], \"type\": \"scatter\", \"uid\": \"c1f5fd45-a368-46ca-a6b7-2bd3e7927c45\"}, {\"marker\": {\"symbol\": \"x\"}, \"mode\": \"lines+markers\", \"name\": \"Neural Network\", \"x\": [\"accuracy\", \"FPR\", \"FNR\", \"auc\"], \"y\": [0.9029722426922132, 0.0969534393561985, 0.09746478873239436, 0.9027908859557036], \"type\": \"scatter\", \"uid\": \"51f601f5-29d6-4440-ab5f-81dc3356e074\"}], {\"title\": \"Result comparision for Features selected in Section 1\", \"yaxis\": {\"dtick\": 0.05, \"tick0\": 0}}, {\"showLink\": true, \"linkText\": \"Export to plot.ly\", \"plotlyServerURL\": \"https://plot.ly\"})});</script><script type=\"text/javascript\">window.addEventListener(\"resize\", function(){window._Plotly.Plots.resize(document.getElementById(\"74bd9dd9-e522-4843-97d6-b2670d1c99fa\"));});</script>"
      ],
      "text/vnd.plotly.v1+html": [
       "<div id=\"74bd9dd9-e522-4843-97d6-b2670d1c99fa\" style=\"height: 525px; width: 100%;\" class=\"plotly-graph-div\"></div><script type=\"text/javascript\">require([\"plotly\"], function(Plotly) { window.PLOTLYENV=window.PLOTLYENV || {};window.PLOTLYENV.BASE_URL=\"https://plot.ly\";Plotly.newPlot(\"74bd9dd9-e522-4843-97d6-b2670d1c99fa\", [{\"mode\": \"lines\", \"name\": \"KNN_model\", \"x\": [\"accuracy\", \"FPR\", \"FNR\", \"auc\"], \"y\": [0.9069843609268812, 0.08785207894232612, 0.12338028169014084, 0.8943838196837665], \"type\": \"scatter\", \"uid\": \"03d171e4-4ca6-423c-863a-f2bf67b9c623\"}, {\"mode\": \"lines+markers\", \"name\": \"Logistic Regression\", \"x\": [\"accuracy\", \"FPR\", \"FNR\", \"auc\"], \"y\": [0.8988782444935725, 0.09254646484000767, 0.15154929577464787, 0.8779521196926722], \"type\": \"scatter\", \"uid\": \"996c20f2-6e69-47d9-8481-0cf6676bca26\"}, {\"marker\": {\"symbol\": \"x\"}, \"mode\": \"lines+markers\", \"name\": \"Random Forest\", \"x\": [\"accuracy\", \"FPR\", \"FNR\", \"auc\"], \"y\": [0.9111602390894948, 0.08363671201379574, 0.11943661971830986, 0.8984633341339472], \"type\": \"scatter\", \"uid\": \"d4528005-d77c-4f2a-9796-ba0691ee10ba\"}, {\"mode\": \"lines\", \"name\": \"Ada Boost\", \"x\": [\"accuracy\", \"FPR\", \"FNR\", \"auc\"], \"y\": [0.9022353230164579, 0.09053458516957272, 0.14028169014084507, 0.8845918623447911], \"type\": \"scatter\", \"uid\": \"26c30bbb-88f0-464d-91a6-e74323fc8a3c\"}, {\"mode\": \"lines+markers\", \"name\": \"GradientBoosting\", \"x\": [\"accuracy\", \"FPR\", \"FNR\", \"auc\"], \"y\": [0.9081306804225007, 0.0832534968384748, 0.14253521126760563, 0.8871056459469597], \"type\": \"scatter\", \"uid\": \"54dbabde-7a8f-4cc6-9979-81776a592e9c\"}, {\"marker\": {\"symbol\": \"x\"}, \"mode\": \"lines+markers\", \"name\": \"ExtraTree Classifier\", \"x\": [\"accuracy\", \"FPR\", \"FNR\", \"auc\"], \"y\": [0.9119790387292229, 0.08344510442613527, 0.11492957746478873, 0.900812659054538], \"type\": \"scatter\", \"uid\": \"62443159-7611-4244-980c-92befc06dc17\"}, {\"marker\": {\"symbol\": \"x\"}, \"mode\": \"lines+markers\", \"name\": \"Bagging\", \"x\": [\"accuracy\", \"FPR\", \"FNR\", \"auc\"], \"y\": [0.9102595594857938, 0.08526537650890975, 0.11605633802816902, 0.8993391427314607], \"type\": \"scatter\", \"uid\": \"c1f5fd45-a368-46ca-a6b7-2bd3e7927c45\"}, {\"marker\": {\"symbol\": \"x\"}, \"mode\": \"lines+markers\", \"name\": \"Neural Network\", \"x\": [\"accuracy\", \"FPR\", \"FNR\", \"auc\"], \"y\": [0.9029722426922132, 0.0969534393561985, 0.09746478873239436, 0.9027908859557036], \"type\": \"scatter\", \"uid\": \"51f601f5-29d6-4440-ab5f-81dc3356e074\"}], {\"title\": \"Result comparision for Features selected in Section 1\", \"yaxis\": {\"dtick\": 0.05, \"tick0\": 0}}, {\"showLink\": true, \"linkText\": \"Export to plot.ly\", \"plotlyServerURL\": \"https://plot.ly\"})});</script><script type=\"text/javascript\">window.addEventListener(\"resize\", function(){window._Plotly.Plots.resize(document.getElementById(\"74bd9dd9-e522-4843-97d6-b2670d1c99fa\"));});</script>"
      ]
     },
     "metadata": {},
     "output_type": "display_data"
    }
   ],
   "source": [
    "trace0 = go.Scatter(x=table_80_70_test.iloc[0].index.values[[0,5,6,7]],\n",
    "                    y=table_80_70_test.iloc[0].values[[0,5,6,7]],\n",
    "                    mode = 'lines',\n",
    "                    name = 'KNN_model')\n",
    "\n",
    "trace1 = go.Scatter(x=table_80_70_test.iloc[1].index.values[[0,5,6,7]],\n",
    "                    y=table_80_70_test.iloc[1].values[[0,5,6,7]],\n",
    "                    mode = 'lines+markers',\n",
    "                    name = 'Logistic Regression')\n",
    "\n",
    "trace2 = go.Scatter(x=table_80_70_test.iloc[2].index.values[[0,5,6,7]],\n",
    "                    y=table_80_70_test.iloc[2].values[[0,5,6,7]],\n",
    "                    mode = 'lines+markers',marker=dict(symbol='x'),\n",
    "                    name = 'Random Forest')\n",
    "\n",
    "\n",
    "trace3 = go.Scatter(x=table_80_70_test.iloc[3].index.values[[0,5,6,7]],\n",
    "                    y=table_80_70_test.iloc[3].values[[0,5,6,7]],\n",
    "                    mode = 'lines',\n",
    "                    name = 'Ada Boost')\n",
    "\n",
    "trace4 = go.Scatter(x=table_80_70_test.iloc[4].index.values[[0,5,6,7]],\n",
    "                    y=table_80_70_test.iloc[4].values[[0,5,6,7]],\n",
    "                    mode = 'lines+markers',\n",
    "                    name = 'GradientBoosting')\n",
    "\n",
    "trace5 = go.Scatter(x=table_80_70_test.iloc[5].index.values[[0,5,6,7]],\n",
    "                    y=table_80_70_test.iloc[5].values[[0,5,6,7]],\n",
    "                    mode = 'lines+markers',marker=dict(symbol='x'),\n",
    "                    name = 'ExtraTree Classifier')\n",
    "\n",
    "trace6 = go.Scatter(x=table_80_70_test.iloc[6].index.values[[0,5,6,7]],\n",
    "                    y=table_80_70_test.iloc[6].values[[0,5,6,7]],\n",
    "                    mode = 'lines+markers',marker=dict(symbol='x'),\n",
    "                    name = 'Bagging')\n",
    "\n",
    "trace7 = go.Scatter(x=table_80_70_test.iloc[7].index.values[[0,5,6,7]],\n",
    "                    y=table_80_70_test.iloc[7].values[[0,5,6,7]],\n",
    "                    mode = 'lines+markers',marker=dict(symbol='x'),\n",
    "                    name = 'Neural Network')\n",
    "\n",
    "\n",
    "\n",
    "data = [trace0, trace1, trace2, trace3, trace4, trace5, trace6, trace7]\n",
    "layout = go.Layout(yaxis=dict(tick0=0,dtick=0.05),title='Result comparision for Features selected in Section 1')\n",
    "fig = go.Figure(data=data, layout=layout)\n",
    "\n",
    "iplot(fig, filename='Result')"
   ]
  },
  {
   "cell_type": "code",
   "execution_count": 44,
   "metadata": {},
   "outputs": [
    {
     "name": "stdout",
     "output_type": "stream",
     "text": [
      "Training Results\n"
     ]
    },
    {
     "data": {
      "text/html": [
       "<div>\n",
       "<style scoped>\n",
       "    .dataframe tbody tr th:only-of-type {\n",
       "        vertical-align: middle;\n",
       "    }\n",
       "\n",
       "    .dataframe tbody tr th {\n",
       "        vertical-align: top;\n",
       "    }\n",
       "\n",
       "    .dataframe thead th {\n",
       "        text-align: right;\n",
       "    }\n",
       "</style>\n",
       "<table border=\"1\" class=\"dataframe\">\n",
       "  <thead>\n",
       "    <tr style=\"text-align: right;\">\n",
       "      <th></th>\n",
       "      <th>accuracy</th>\n",
       "      <th>TP</th>\n",
       "      <th>TN</th>\n",
       "      <th>FP</th>\n",
       "      <th>FN</th>\n",
       "      <th>FPR</th>\n",
       "      <th>FNR</th>\n",
       "    </tr>\n",
       "    <tr>\n",
       "      <th>index</th>\n",
       "      <th></th>\n",
       "      <th></th>\n",
       "      <th></th>\n",
       "      <th></th>\n",
       "      <th></th>\n",
       "      <th></th>\n",
       "      <th></th>\n",
       "    </tr>\n",
       "  </thead>\n",
       "  <tbody>\n",
       "    <tr>\n",
       "      <th>KNeighborsClassifier</th>\n",
       "      <td>0.915181</td>\n",
       "      <td>3728.0</td>\n",
       "      <td>22351.0</td>\n",
       "      <td>1989.0</td>\n",
       "      <td>428.0</td>\n",
       "      <td>0.081717</td>\n",
       "      <td>0.102984</td>\n",
       "    </tr>\n",
       "    <tr>\n",
       "      <th>LogisticRegression</th>\n",
       "      <td>0.903355</td>\n",
       "      <td>3525.0</td>\n",
       "      <td>22217.0</td>\n",
       "      <td>2123.0</td>\n",
       "      <td>631.0</td>\n",
       "      <td>0.087223</td>\n",
       "      <td>0.151829</td>\n",
       "    </tr>\n",
       "    <tr>\n",
       "      <th>RandomForestClassifier</th>\n",
       "      <td>0.925674</td>\n",
       "      <td>3963.0</td>\n",
       "      <td>22415.0</td>\n",
       "      <td>1925.0</td>\n",
       "      <td>193.0</td>\n",
       "      <td>0.079088</td>\n",
       "      <td>0.046439</td>\n",
       "    </tr>\n",
       "    <tr>\n",
       "      <th>AdaBoostClassifier</th>\n",
       "      <td>0.904899</td>\n",
       "      <td>3572.0</td>\n",
       "      <td>22214.0</td>\n",
       "      <td>2126.0</td>\n",
       "      <td>584.0</td>\n",
       "      <td>0.087346</td>\n",
       "      <td>0.140520</td>\n",
       "    </tr>\n",
       "    <tr>\n",
       "      <th>GradientBoostingClassifier</th>\n",
       "      <td>0.914479</td>\n",
       "      <td>3638.0</td>\n",
       "      <td>22421.0</td>\n",
       "      <td>1919.0</td>\n",
       "      <td>518.0</td>\n",
       "      <td>0.078841</td>\n",
       "      <td>0.124639</td>\n",
       "    </tr>\n",
       "    <tr>\n",
       "      <th>ExtraTreeClassifier</th>\n",
       "      <td>0.928446</td>\n",
       "      <td>4042.0</td>\n",
       "      <td>22415.0</td>\n",
       "      <td>1925.0</td>\n",
       "      <td>114.0</td>\n",
       "      <td>0.079088</td>\n",
       "      <td>0.027430</td>\n",
       "    </tr>\n",
       "    <tr>\n",
       "      <th>BaggingClassifier</th>\n",
       "      <td>0.926025</td>\n",
       "      <td>3977.0</td>\n",
       "      <td>22411.0</td>\n",
       "      <td>1929.0</td>\n",
       "      <td>179.0</td>\n",
       "      <td>0.079252</td>\n",
       "      <td>0.043070</td>\n",
       "    </tr>\n",
       "    <tr>\n",
       "      <th>Neural Network-1</th>\n",
       "      <td>0.922551</td>\n",
       "      <td>4015.0</td>\n",
       "      <td>22274.0</td>\n",
       "      <td>2066.0</td>\n",
       "      <td>141.0</td>\n",
       "      <td>0.084881</td>\n",
       "      <td>0.033927</td>\n",
       "    </tr>\n",
       "  </tbody>\n",
       "</table>\n",
       "</div>"
      ],
      "text/plain": [
       "                            accuracy      TP       TN      FP     FN  \\\n",
       "index                                                                  \n",
       "KNeighborsClassifier        0.915181  3728.0  22351.0  1989.0  428.0   \n",
       "LogisticRegression          0.903355  3525.0  22217.0  2123.0  631.0   \n",
       "RandomForestClassifier      0.925674  3963.0  22415.0  1925.0  193.0   \n",
       "AdaBoostClassifier          0.904899  3572.0  22214.0  2126.0  584.0   \n",
       "GradientBoostingClassifier  0.914479  3638.0  22421.0  1919.0  518.0   \n",
       "ExtraTreeClassifier         0.928446  4042.0  22415.0  1925.0  114.0   \n",
       "BaggingClassifier           0.926025  3977.0  22411.0  1929.0  179.0   \n",
       "Neural Network-1            0.922551  4015.0  22274.0  2066.0  141.0   \n",
       "\n",
       "                                 FPR       FNR  \n",
       "index                                           \n",
       "KNeighborsClassifier        0.081717  0.102984  \n",
       "LogisticRegression          0.087223  0.151829  \n",
       "RandomForestClassifier      0.079088  0.046439  \n",
       "AdaBoostClassifier          0.087346  0.140520  \n",
       "GradientBoostingClassifier  0.078841  0.124639  \n",
       "ExtraTreeClassifier         0.079088  0.027430  \n",
       "BaggingClassifier           0.079252  0.043070  \n",
       "Neural Network-1            0.084881  0.033927  "
      ]
     },
     "metadata": {},
     "output_type": "display_data"
    },
    {
     "name": "stdout",
     "output_type": "stream",
     "text": [
      "Test Results\n"
     ]
    },
    {
     "data": {
      "text/html": [
       "<div>\n",
       "<style scoped>\n",
       "    .dataframe tbody tr th:only-of-type {\n",
       "        vertical-align: middle;\n",
       "    }\n",
       "\n",
       "    .dataframe tbody tr th {\n",
       "        vertical-align: top;\n",
       "    }\n",
       "\n",
       "    .dataframe thead th {\n",
       "        text-align: right;\n",
       "    }\n",
       "</style>\n",
       "<table border=\"1\" class=\"dataframe\">\n",
       "  <thead>\n",
       "    <tr style=\"text-align: right;\">\n",
       "      <th></th>\n",
       "      <th>accuracy</th>\n",
       "      <th>TP</th>\n",
       "      <th>TN</th>\n",
       "      <th>FP</th>\n",
       "      <th>FN</th>\n",
       "      <th>FPR</th>\n",
       "      <th>FNR</th>\n",
       "      <th>auc</th>\n",
       "      <th>mcc</th>\n",
       "    </tr>\n",
       "    <tr>\n",
       "      <th>index</th>\n",
       "      <th></th>\n",
       "      <th></th>\n",
       "      <th></th>\n",
       "      <th></th>\n",
       "      <th></th>\n",
       "      <th></th>\n",
       "      <th></th>\n",
       "      <th></th>\n",
       "      <th></th>\n",
       "    </tr>\n",
       "  </thead>\n",
       "  <tbody>\n",
       "    <tr>\n",
       "      <th>KNeighborsClassifier</th>\n",
       "      <td>0.906984</td>\n",
       "      <td>1556.0</td>\n",
       "      <td>9521.0</td>\n",
       "      <td>917.0</td>\n",
       "      <td>219.0</td>\n",
       "      <td>0.087852</td>\n",
       "      <td>0.123380</td>\n",
       "      <td>0.894384</td>\n",
       "      <td>0.691776</td>\n",
       "    </tr>\n",
       "    <tr>\n",
       "      <th>LogisticRegression</th>\n",
       "      <td>0.898878</td>\n",
       "      <td>1506.0</td>\n",
       "      <td>9472.0</td>\n",
       "      <td>966.0</td>\n",
       "      <td>269.0</td>\n",
       "      <td>0.092546</td>\n",
       "      <td>0.151549</td>\n",
       "      <td>0.877952</td>\n",
       "      <td>0.663054</td>\n",
       "    </tr>\n",
       "    <tr>\n",
       "      <th>RandomForestClassifier</th>\n",
       "      <td>0.911160</td>\n",
       "      <td>1563.0</td>\n",
       "      <td>9565.0</td>\n",
       "      <td>873.0</td>\n",
       "      <td>212.0</td>\n",
       "      <td>0.083637</td>\n",
       "      <td>0.119437</td>\n",
       "      <td>0.898463</td>\n",
       "      <td>0.702886</td>\n",
       "    </tr>\n",
       "    <tr>\n",
       "      <th>AdaBoostClassifier</th>\n",
       "      <td>0.902235</td>\n",
       "      <td>1526.0</td>\n",
       "      <td>9493.0</td>\n",
       "      <td>945.0</td>\n",
       "      <td>249.0</td>\n",
       "      <td>0.090535</td>\n",
       "      <td>0.140282</td>\n",
       "      <td>0.884592</td>\n",
       "      <td>0.674804</td>\n",
       "    </tr>\n",
       "    <tr>\n",
       "      <th>GradientBoostingClassifier</th>\n",
       "      <td>0.908131</td>\n",
       "      <td>1522.0</td>\n",
       "      <td>9569.0</td>\n",
       "      <td>869.0</td>\n",
       "      <td>253.0</td>\n",
       "      <td>0.083253</td>\n",
       "      <td>0.142535</td>\n",
       "      <td>0.887106</td>\n",
       "      <td>0.687666</td>\n",
       "    </tr>\n",
       "    <tr>\n",
       "      <th>ExtraTreeClassifier</th>\n",
       "      <td>0.911979</td>\n",
       "      <td>1571.0</td>\n",
       "      <td>9567.0</td>\n",
       "      <td>871.0</td>\n",
       "      <td>204.0</td>\n",
       "      <td>0.083445</td>\n",
       "      <td>0.114930</td>\n",
       "      <td>0.900813</td>\n",
       "      <td>0.706378</td>\n",
       "    </tr>\n",
       "    <tr>\n",
       "      <th>BaggingClassifier</th>\n",
       "      <td>0.910260</td>\n",
       "      <td>1569.0</td>\n",
       "      <td>9548.0</td>\n",
       "      <td>890.0</td>\n",
       "      <td>206.0</td>\n",
       "      <td>0.085265</td>\n",
       "      <td>0.116056</td>\n",
       "      <td>0.899339</td>\n",
       "      <td>0.701955</td>\n",
       "    </tr>\n",
       "    <tr>\n",
       "      <th>Neural Network-1</th>\n",
       "      <td>0.902972</td>\n",
       "      <td>1602.0</td>\n",
       "      <td>9426.0</td>\n",
       "      <td>1012.0</td>\n",
       "      <td>173.0</td>\n",
       "      <td>0.096953</td>\n",
       "      <td>0.097465</td>\n",
       "      <td>0.902791</td>\n",
       "      <td>0.692232</td>\n",
       "    </tr>\n",
       "  </tbody>\n",
       "</table>\n",
       "</div>"
      ],
      "text/plain": [
       "                            accuracy      TP      TN      FP     FN       FPR  \\\n",
       "index                                                                           \n",
       "KNeighborsClassifier        0.906984  1556.0  9521.0   917.0  219.0  0.087852   \n",
       "LogisticRegression          0.898878  1506.0  9472.0   966.0  269.0  0.092546   \n",
       "RandomForestClassifier      0.911160  1563.0  9565.0   873.0  212.0  0.083637   \n",
       "AdaBoostClassifier          0.902235  1526.0  9493.0   945.0  249.0  0.090535   \n",
       "GradientBoostingClassifier  0.908131  1522.0  9569.0   869.0  253.0  0.083253   \n",
       "ExtraTreeClassifier         0.911979  1571.0  9567.0   871.0  204.0  0.083445   \n",
       "BaggingClassifier           0.910260  1569.0  9548.0   890.0  206.0  0.085265   \n",
       "Neural Network-1            0.902972  1602.0  9426.0  1012.0  173.0  0.096953   \n",
       "\n",
       "                                 FNR       auc       mcc  \n",
       "index                                                     \n",
       "KNeighborsClassifier        0.123380  0.894384  0.691776  \n",
       "LogisticRegression          0.151549  0.877952  0.663054  \n",
       "RandomForestClassifier      0.119437  0.898463  0.702886  \n",
       "AdaBoostClassifier          0.140282  0.884592  0.674804  \n",
       "GradientBoostingClassifier  0.142535  0.887106  0.687666  \n",
       "ExtraTreeClassifier         0.114930  0.900813  0.706378  \n",
       "BaggingClassifier           0.116056  0.899339  0.701955  \n",
       "Neural Network-1            0.097465  0.902791  0.692232  "
      ]
     },
     "metadata": {},
     "output_type": "display_data"
    }
   ],
   "source": [
    "table_80_70_train['index']=ind_columns\n",
    "table_80_70_test['index']=ind_columns\n",
    "\n",
    "\n",
    "table_80_70_test.set_index(['index'],drop=True,inplace=True)\n",
    "table_80_70_train.set_index(['index'],drop=True,inplace=True)\n",
    "\n",
    "print(\"Training Results\")\n",
    "display(table_80_70_train)\n",
    "print(\"Test Results\")\n",
    "display(table_80_70_test)"
   ]
  },
  {
   "cell_type": "code",
   "execution_count": 45,
   "metadata": {},
   "outputs": [
    {
     "data": {
      "text/html": [
       "<script>\n",
       "code_show=true; \n",
       "function code_toggle() {\n",
       " if (code_show){\n",
       " $('div.input').hide();\n",
       " } else {\n",
       " $('div.input').show();\n",
       " }\n",
       " code_show = !code_show\n",
       "} \n",
       "$( document ).ready(code_toggle);\n",
       "</script>\n",
       "To toggle code, click <a href=\"javascript:code_toggle()\">here</a>."
      ],
      "text/plain": [
       "<IPython.core.display.HTML object>"
      ]
     },
     "execution_count": 45,
     "metadata": {},
     "output_type": "execute_result"
    }
   ],
   "source": [
    "### Original Creator : Darshan Bhansali\n",
    "### HTML code to hide the input cells \n",
    "HTML('''<script>\n",
    "code_show=true; \n",
    "function code_toggle() {\n",
    " if (code_show){\n",
    " $('div.input').hide();\n",
    " } else {\n",
    " $('div.input').show();\n",
    " }\n",
    " code_show = !code_show\n",
    "} \n",
    "$( document ).ready(code_toggle);\n",
    "</script>\n",
    "To toggle code, click <a href=\"javascript:code_toggle()\">here</a>.''')"
   ]
  }
 ],
 "metadata": {
  "kernelspec": {
   "display_name": "Python 3",
   "language": "python",
   "name": "python3"
  },
  "language_info": {
   "codemirror_mode": {
    "name": "ipython",
    "version": 3
   },
   "file_extension": ".py",
   "mimetype": "text/x-python",
   "name": "python",
   "nbconvert_exporter": "python",
   "pygments_lexer": "ipython3",
   "version": "3.6.8"
  }
 },
 "nbformat": 4,
 "nbformat_minor": 2
}
