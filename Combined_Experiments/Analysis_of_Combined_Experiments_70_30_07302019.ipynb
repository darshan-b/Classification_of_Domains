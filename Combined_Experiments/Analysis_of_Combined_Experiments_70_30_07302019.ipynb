{
 "cells": [
  {
   "cell_type": "code",
   "execution_count": 9,
   "metadata": {},
   "outputs": [
    {
     "data": {
      "text/html": [
       "<script type=\"text/javascript\">window.PlotlyConfig = {MathJaxConfig: 'local'};</script><script type=\"text/javascript\">if (window.MathJax) {MathJax.Hub.Config({SVG: {font: \"STIX-Web\"}});}</script><script>requirejs.config({paths: { 'plotly': ['https://cdn.plot.ly/plotly-latest.min']},});if(!window._Plotly) {require(['plotly'],function(plotly) {window._Plotly=plotly;});}</script>"
      ],
      "text/vnd.plotly.v1+html": [
       "<script type=\"text/javascript\">window.PlotlyConfig = {MathJaxConfig: 'local'};</script><script type=\"text/javascript\">if (window.MathJax) {MathJax.Hub.Config({SVG: {font: \"STIX-Web\"}});}</script><script>requirejs.config({paths: { 'plotly': ['https://cdn.plot.ly/plotly-latest.min']},});if(!window._Plotly) {require(['plotly'],function(plotly) {window._Plotly=plotly;});}</script>"
      ]
     },
     "metadata": {},
     "output_type": "display_data"
    }
   ],
   "source": [
    "import pandas as pd\n",
    "import numpy as np\n",
    "import copy\n",
    "import matplotlib.pyplot as plt\n",
    "import seaborn as sns\n",
    "%matplotlib inline\n",
    "\n",
    "from IPython.display import display,clear_output,HTML\n",
    "import warnings\n",
    "warnings.filterwarnings(\"ignore\")\n",
    "warnings.simplefilter(\"ignore\", DeprecationWarning)\n",
    "\n",
    "import keras\n",
    "from keras.layers import Dense,Dropout\n",
    "from keras.models import Sequential\n",
    "\n",
    "import researchpy as rp\n",
    "\n",
    "%matplotlib inline\n",
    "pd.set_option('display.max_columns', 500)\n",
    "pd.set_option('display.max_rows',305)\n",
    "\n",
    "from sklearn.feature_selection import SelectKBest,chi2,RFE,RFECV,f_regression,SelectFromModel,f_classif\n",
    "from sklearn.linear_model import LogisticRegression\n",
    "from sklearn.ensemble import ExtraTreesClassifier,RandomForestClassifier,GradientBoostingClassifier,AdaBoostClassifier,BaggingClassifier\n",
    "from sklearn.neighbors import KNeighborsClassifier\n",
    "from sklearn.model_selection import train_test_split,cross_val_score\n",
    "\n",
    "from sklearn.preprocessing import StandardScaler,MinMaxScaler\n",
    "from sklearn import metrics\n",
    "\n",
    "from xgboost import XGBClassifier\n",
    "\n",
    "\n",
    "from sklearn.decomposition import PCA\n",
    "from sklearn.metrics import accuracy_score,auc,roc_curve,recall_score,precision_score,matthews_corrcoef\n",
    "\n",
    "from pandas_ml import ConfusionMatrix\n",
    "\n",
    "\n",
    "from imblearn.over_sampling import SMOTE\n",
    "\n",
    "from plotly.offline import download_plotlyjs, init_notebook_mode, plot, iplot\n",
    "init_notebook_mode(connected=True)\n",
    "import plotly.graph_objs as go\n",
    "\n",
    "import featuretools as ft\n",
    "\n",
    "from scipy import stats\n",
    "import re\n",
    "\n",
    "from statsmodels.stats.outliers_influence import variance_inflation_factor\n",
    "from statsmodels.tools.tools import add_constant"
   ]
  },
  {
   "cell_type": "code",
   "execution_count": 10,
   "metadata": {},
   "outputs": [],
   "source": [
    "### Function to plot Feature Importance\n",
    "def feat_impt_plot(feat_impt,y_labels,width_s=1000,height_s=1000):\n",
    "    \n",
    "    m=pd.DataFrame(y_labels,feat_impt).reset_index()\n",
    "    m.columns=['Feature_Importance','Features']\n",
    "    m.sort_values(by='Feature_Importance',inplace=True,ascending=False)\n",
    "    m['Features']=m['Features'].str.replace(\"dom_function_\",\"\")\n",
    "    m['Features']=m['Features'].str.replace(\"js_function_\",\"\")\n",
    "    m['Features']=m['Features'].apply(lambda x: str(x).lstrip('.'))\n",
    "    m['Features']=m['Features'].str.replace(\"(\",\"\")\n",
    "    \n",
    "    data = [go.Bar(x=m.Feature_Importance.values,y=m.Features.values,text=np.round(m.Feature_Importance,4),\n",
    "            textposition = 'outside',\n",
    "            marker=dict(\n",
    "                color='rgb(158,202,225)',\n",
    "                line=dict(\n",
    "                    color='rgb(8,48,107)',\n",
    "                    width=1.5),\n",
    "            ),\n",
    "            opacity=0.6,\n",
    "            orientation='h'\n",
    "        )]\n",
    "    layout = go.Layout(autosize=False,\n",
    "    width=width_s,\n",
    "    height=height_s,\n",
    "    xaxis=dict(title='Feature Importances',\n",
    "        tickfont=dict(\n",
    "            size=12,\n",
    "            color='black'\n",
    "        )),\n",
    "    yaxis=dict(automargin=True))\n",
    "    fig = go.Figure(data=data, layout=layout)\n",
    "    iplot(fig)"
   ]
  },
  {
   "cell_type": "code",
   "execution_count": 11,
   "metadata": {},
   "outputs": [],
   "source": [
    "def model_build(model,X_train,Y_train,X_test,Y_test,tree=False,feat=None):\n",
    "    \n",
    "    y_pred_train=model.predict(X_train)\n",
    "    acc_train=accuracy_score(Y_train,y_pred_train)\n",
    "    \n",
    "    print(\"Accuracy of the model for training data is:\",acc_train)\n",
    "    print(\"Confusion Matrix for training data is:\")\n",
    "    cm_train=ConfusionMatrix(Y_train,y_pred_train)\n",
    "    display(cm_train)\n",
    "    \n",
    "    \n",
    "    y_pred_test=model.predict(X_test)\n",
    "    acc_test=accuracy_score(Y_test,y_pred_test)\n",
    "    print(\"Accuracy of the model for test data is:\",acc_test)\n",
    "    print(\"Confusion Matrix for test data is:\")\n",
    "    cm_test=ConfusionMatrix(Y_test,y_pred_test)\n",
    "    display(cm_test)\n",
    "\n",
    "    fpr, tpr, threshold = roc_curve(Y_test, y_pred_test)\n",
    "    roc_auc =auc(fpr, tpr)\n",
    "    mcc=matthews_corrcoef(Y_test,y_pred_test)\n",
    "    \n",
    "    precision=precision_score(Y_test,y_pred_test)\n",
    "    recall=recall_score(Y_test,y_pred_test)\n",
    "    if tree==True:\n",
    "        feat_impt_plot(model.feature_importances_,feat)\n",
    "        return model,cm_train,cm_test,acc_train,acc_test,roc_auc,model.feature_importances_,mcc,precision,recall\n",
    "    \n",
    "    return model,cm_train,cm_test,acc_train,acc_test,roc_auc,mcc,precision,recall\n",
    "\n",
    "def KNN_model(X_train,Y_train,X_test,Y_test):\n",
    "    print('\\033[1m' + 'K-Nearest Neighbors' + '\\033[0m')\n",
    "    knn=KNeighborsClassifier()\n",
    "    knn.fit(X_train,Y_train)\n",
    "\n",
    "    return model_build(knn,X_train,Y_train,X_test,Y_test)\n",
    "\n",
    "# def Logistic_model(X_train,Y_train,X_test,Y_test):\n",
    "#     print('\\033[1m' + 'Logistic Regression' + '\\033[0m')\n",
    "#     log=LogisticRegression()\n",
    "#     log.fit(X_train,Y_train)\n",
    "    \n",
    "#     return model_build(log,X_train,Y_train,X_test,Y_test)\n",
    "\n",
    "def RandomForest(X_train,Y_train,X_test,Y_test,feat):\n",
    "    print('\\033[1m' + 'RandomForest Classifier' + '\\033[0m')\n",
    "    rf=RandomForestClassifier(random_state=0)\n",
    "    rf.fit(X_train,Y_train)\n",
    "\n",
    "    \n",
    "    return model_build(rf,X_train,Y_train,X_test,Y_test,True,feat)\n",
    "\n",
    "def AdaBoost(X_train,Y_train,X_test,Y_test,feat):\n",
    "    print('\\033[1m' + 'Adaoost Classifier' + '\\033[0m')\n",
    "    ada=AdaBoostClassifier(random_state=0)\n",
    "    ada.fit(X_train,Y_train)\n",
    "    \n",
    "    return model_build(ada,X_train,Y_train,X_test,Y_test,True,feat)\n",
    "\n",
    "def GradientBoosting(X_train,Y_train,X_test,Y_test,feat):\n",
    "    print('\\033[1m' + 'GradientBoosting Classifier' + '\\033[0m')\n",
    "    gbc=GradientBoostingClassifier(random_state=0)\n",
    "    gbc.fit(X_train,Y_train)\n",
    "    \n",
    "    return model_build(gbc,X_train,Y_train,X_test,Y_test,True,feat)\n",
    "\n",
    "def ExtraTree(X_train,Y_train,X_test,Y_test,feat):\n",
    "    print('\\033[1m' + 'ExtraTree Classifier' + '\\033[0m')\n",
    "    ext_tree=ExtraTreesClassifier(random_state=0)\n",
    "    ext_tree.fit(X_train,Y_train)\n",
    "    \n",
    "    return model_build(ext_tree,X_train,Y_train,X_test,Y_test,True,feat)\n",
    "\n",
    "def XGB(X_train,Y_train,X_test,Y_test,feat):\n",
    "    print('\\033[1m' + 'XGB Classifier' + '\\033[0m')\n",
    "    xgb=XGBClassifier(random_state=0)\n",
    "    xgb.fit(X_train,Y_train)\n",
    "    \n",
    "    return model_build(xgb,X_train,Y_train,X_test,Y_test,True,feat)\n",
    "\n",
    "def Bagging(X_train,Y_train,X_test,Y_test):\n",
    "    print('\\033[1m' + 'Bagging Classifier' + '\\033[0m')\n",
    "    bagging=BaggingClassifier(random_state=0)\n",
    "    bagging.fit(X_train,Y_train)\n",
    "    \n",
    "    return model_build(bagging,X_train,Y_train,X_test,Y_test)\n",
    "\n",
    "def XGB(X_train,Y_train,X_test,Y_test,feat):\n",
    "    print('\\033[1m' + 'XGB Classifier' + '\\033[0m')\n",
    "    xgb=XGBClassifier(random_state=0)\n",
    "    xgb.fit(X_train,Y_train)\n",
    "    \n",
    "    return model_build(xgb,X_train,Y_train,X_test,Y_test,True,feat)\n",
    "\n",
    "def DeepLearning1(X_train,Y_train,X_test,Y_test):\n",
    "    print('\\033[1m' + 'Neural Network-1' + '\\033[0m')\n",
    "    np.random.seed(0)\n",
    "    deep_learning=Sequential()\n",
    "    deep_learning.add(Dense(units=64,activation='relu',use_bias=True,kernel_initializer='uniform',input_dim=X_train.shape[1]))\n",
    "    deep_learning.add(Dense(units=128,activation='relu',use_bias=True,kernel_initializer='uniform'))\n",
    "    deep_learning.add(Dense(units=1,activation='sigmoid',use_bias=True,kernel_initializer='uniform'))\n",
    "    deep_learning.compile(optimizer='adam',loss='binary_crossentropy',metrics=['accuracy'])\n",
    "    deep_learning.fit(X_train,Y_train,batch_size=20,epochs=80,verbose=False)\n",
    "    acc_train=deep_learning.evaluate(X_train,Y_train,verbose=False)[1]\n",
    "    print(\"The accuracy of the model on training data is:\",acc_train)\n",
    "    cm_train=ConfusionMatrix(Y_train,deep_learning.predict_classes(X_train,batch_size=1,verbose=False).reshape(1,len(X_train))[0])\n",
    "    cm_test=ConfusionMatrix(Y_test,deep_learning.predict_classes(X_test,batch_size=1,verbose=False).reshape(1,len(X_test))[0])\n",
    "    display(cm_train)\n",
    "    acc_test=accuracy_score(Y_test,deep_learning.predict_classes(X_test,batch_size=1,verbose=False))\n",
    "    print(\"The accuracy of the model on test data is:\",acc_test)\n",
    "    display(cm_test)\n",
    "    mcc=matthews_corrcoef(Y_test,deep_learning.predict_classes(X_test,batch_size=1,verbose=False))\n",
    "    precision=precision_score(Y_test,deep_learning.predict_classes(X_test,batch_size=1,verbose=False))\n",
    "    recall=recall_score(Y_test,deep_learning.predict_classes(X_test,batch_size=1,verbose=False))\n",
    "    return  deep_learning,cm_train,cm_test,acc_train,acc_test,roc_auc,mcc,precision,recall"
   ]
  },
  {
   "cell_type": "code",
   "execution_count": 12,
   "metadata": {},
   "outputs": [
    {
     "name": "stdout",
     "output_type": "stream",
     "text": [
      "Shape of HTML dataset: (43491, 1461)\n",
      "Shape of JS,DOM dataset: (43294, 401)\n",
      "Shape of HTTP dataset: (45856, 672)\n",
      "Shape of URL dataset: (46771, 4194)\n"
     ]
    }
   ],
   "source": [
    "### Read HTML \n",
    "df_html=pd.read_csv('../html/HTML.csv',index_col='domain')\n",
    "df_html.drop(['Unnamed: 0'],axis=1,inplace=True)\n",
    "cookie=[col for col in df_html.columns if 'number' in col]\n",
    "df_html.drop(cookie,axis=1,inplace=True)\n",
    "print(\"Shape of HTML dataset:\",df_html.shape)\n",
    "df_html.Target=df_html.Target.apply(lambda x: 1 if x=='Malicious' else 0)\n",
    "\n",
    "\n",
    "### Read JS \n",
    "df_js=pd.read_csv('Javascript.csv',low_memory=False,index_col='domain')\n",
    "cookie=[col for col in df_js.columns if 'number' in col]\n",
    "df_js.drop(cookie,axis=1,inplace=True)\n",
    "df_js.rename(columns={'Malicious':'Target'},inplace=True)\n",
    "print(\"Shape of JS,DOM dataset:\",df_js.shape)\n",
    "df_js.Target=df_js.Target.apply(lambda x: 1 if x=='Malicious' else 0)\n",
    "\n",
    "\n",
    "### Read HTTP\n",
    "df_http=pd.read_csv('HTTP.csv')\n",
    "df_http.rename(columns={'Malicious':'Target'},inplace=True)\n",
    "df_http.fillna(value=0,inplace=True)\n",
    "cookies=[columns for columns in df_http.columns if 'number' in columns]\n",
    "df_http.drop(cookies,axis=1,inplace=True)\n",
    "df_http=df_http[df_http['domain']!=0]\n",
    "df_http.sort_values(by='Target',inplace=True,ascending=False)\n",
    "df_http.drop_duplicates(['domain'], keep='first',inplace=True)\n",
    "df_http=df_http.sample(frac=1,random_state=0)\n",
    "df_http.set_index(['domain'],drop=True,inplace=True)\n",
    "print(\"Shape of HTTP dataset:\",df_http.shape)\n",
    "\n",
    "\n",
    "\n",
    "### Read URL\n",
    "df_url=pd.read_csv('URL.csv')\n",
    "df_url.fillna(value=0,inplace=True)\n",
    "cookies=[columns for columns in df_url.columns if 'number' in columns]\n",
    "df_url.drop(cookies,axis=1,inplace=True)\n",
    "df_url.drop(['url_host','url_ip'],axis=1,inplace=True)\n",
    "df_url=df_url[df_url['domain']!=0]\n",
    "df_url.sort_values(by='Target',inplace=True,ascending=False)\n",
    "df_url.drop_duplicates(['domain'], keep='first',inplace=True)\n",
    "df_url=df_url.sample(frac=1,random_state=0)\n",
    "print(\"Shape of URL dataset:\",df_url.shape)\n",
    "df_url.set_index('domain',inplace=True,drop=True)"
   ]
  },
  {
   "cell_type": "code",
   "execution_count": 13,
   "metadata": {},
   "outputs": [
    {
     "name": "stdout",
     "output_type": "stream",
     "text": [
      "Shape of combined dataset: (39183, 6723)\n"
     ]
    },
    {
     "data": {
      "text/plain": [
       "0    34742\n",
       "1     4441\n",
       "Name: Target, dtype: int64"
      ]
     },
     "execution_count": 13,
     "metadata": {},
     "output_type": "execute_result"
    }
   ],
   "source": [
    "df=pd.concat([df_js,df_html,df_http,df_url],axis=1,join='inner')\n",
    "df.drop(['Unnamed: 0'],axis=1,inplace=True)\n",
    "df['Target_z']=df[['Target','Target','Target','Target']].apply(max,axis=1)\n",
    "df.drop(['Target','Target','Target','Target'],axis=1,inplace=True)\n",
    "print(\"Shape of combined dataset:\",df.shape)\n",
    "df.rename(columns={'Target_z':'Target'},inplace=True)\n",
    "df.Target.value_counts()"
   ]
  },
  {
   "cell_type": "code",
   "execution_count": 46,
   "metadata": {},
   "outputs": [
    {
     "name": "stdout",
     "output_type": "stream",
     "text": [
      "features being used\n"
     ]
    },
    {
     "data": {
      "text/plain": [
       "['js_function_.push(',\n",
       " 'a_count',\n",
       " 'a_href_http',\n",
       " 'a_href_https',\n",
       " 'a_href_out_of_domain',\n",
       " 'a_href_relative',\n",
       " 'center_count',\n",
       " 'iframe_src_.html',\n",
       " 'img_src_http',\n",
       " 'input_count',\n",
       " 'li_count',\n",
       " 'link_href_out_of_domain',\n",
       " 'link_type_text/css',\n",
       " 'meta_count',\n",
       " 'p_count',\n",
       " 'script_count',\n",
       " 'script_src_https',\n",
       " 'script_src_out_of_domain',\n",
       " 'title_count',\n",
       " 'http_header_cache-control_set_max-age',\n",
       " 'http_header_content-encoding_gzip',\n",
       " 'http_header_content-length',\n",
       " 'http_header_server_apache',\n",
       " 'http_header_transfer-encoding_chunked',\n",
       " 'http_header_vary_user-agent',\n",
       " 'http_header_via_1.1',\n",
       " 'url_char_.',\n",
       " 'url_char_d',\n",
       " 'url_char_f',\n",
       " 'url_char_i',\n",
       " 'url_char_l',\n",
       " 'url_char_p',\n",
       " 'url_char_t',\n",
       " 'url_char_w',\n",
       " 'url_char_y',\n",
       " 'url_char_z',\n",
       " 'url_extension_endswith_.com',\n",
       " 'url_extensions',\n",
       " 'url_length',\n",
       " 'Target']"
      ]
     },
     "metadata": {},
     "output_type": "display_data"
    }
   ],
   "source": [
    "columns=['js_function_.push(','a_count','a_href_http','a_href_https','a_href_out_of_domain','a_href_relative',\n",
    " 'center_count','iframe_src_.html','img_src_http','input_count','li_count','link_href_out_of_domain','link_type_text/css',\n",
    " 'meta_count','p_count','script_count','script_src_https','script_src_out_of_domain','title_count',\n",
    " 'http_header_cache-control_set_max-age','http_header_content-encoding_gzip','http_header_content-length',\n",
    " 'http_header_server_apache','http_header_transfer-encoding_chunked','http_header_vary_user-agent','http_header_via_1.1',\n",
    " 'url_char_.','url_char_d','url_char_f','url_char_i','url_char_l','url_char_p','url_char_t','url_char_w',\n",
    " 'url_char_y','url_char_z','url_extension_endswith_.com','url_extensions','url_length','Target']\n",
    "\n",
    "print(\"features being used\")\n",
    "display(columns)"
   ]
  },
  {
   "cell_type": "code",
   "execution_count": 47,
   "metadata": {},
   "outputs": [],
   "source": [
    "df['url_extension_endswith_.com']=df['url_extension_endswith_.com'].apply(lambda x: 1 if x==True else x)"
   ]
  },
  {
   "cell_type": "code",
   "execution_count": 48,
   "metadata": {},
   "outputs": [],
   "source": [
    "df['url_extension_endswith_.com']=df['url_extension_endswith_.com'].astype(int)"
   ]
  },
  {
   "cell_type": "markdown",
   "metadata": {},
   "source": [
    "### <a id='1' style=\"text-decoration : none; color : #000000;\"> 1. Initial Models</a>"
   ]
  },
  {
   "cell_type": "code",
   "execution_count": 50,
   "metadata": {},
   "outputs": [],
   "source": [
    "df_sel=df[columns].copy(deep=True)\n",
    "\n",
    "train=df_sel.iloc[:27428,:]\n",
    "train_X=train.iloc[:,train.columns!='Target'].values\n",
    "train_Y=train.Target.values\n",
    "\n",
    "scaler=StandardScaler()\n",
    "scaled_X_train=scaler.fit_transform(train_X)\n",
    "\n",
    "test=df_sel.iloc[27428:,:]\n",
    "test_X=test.iloc[:,test.columns!='Target'].values\n",
    "test_Y=test.Target.values\n",
    "scaled_X_test=scaler.transform(test_X)\n",
    "columns.remove('Target')"
   ]
  },
  {
   "cell_type": "code",
   "execution_count": 17,
   "metadata": {
    "scrolled": false
   },
   "outputs": [
    {
     "name": "stdout",
     "output_type": "stream",
     "text": [
      "\u001b[1mK-Nearest Neighbors\u001b[0m\n",
      "Accuracy of the model for training data is: 0.9803120898352049\n",
      "Confusion Matrix for training data is:\n"
     ]
    },
    {
     "data": {
      "text/plain": [
       "Predicted  False  True  __all__\n",
       "Actual                         \n",
       "False      24167   160    24327\n",
       "True         380  2721     3101\n",
       "__all__    24547  2881    27428"
      ]
     },
     "metadata": {},
     "output_type": "display_data"
    },
    {
     "name": "stdout",
     "output_type": "stream",
     "text": [
      "Accuracy of the model for test data is: 0.974478945129732\n",
      "Confusion Matrix for test data is:\n"
     ]
    },
    {
     "data": {
      "text/plain": [
       "Predicted  False  True  __all__\n",
       "Actual                         \n",
       "False      10319    96    10415\n",
       "True         204  1136     1340\n",
       "__all__    10523  1232    11755"
      ]
     },
     "metadata": {},
     "output_type": "display_data"
    },
    {
     "name": "stdout",
     "output_type": "stream",
     "text": [
      "\n",
      "\n",
      "\u001b[1mRandomForest Classifier\u001b[0m\n",
      "Accuracy of the model for training data is: 0.9975572407758495\n",
      "Confusion Matrix for training data is:\n"
     ]
    },
    {
     "data": {
      "text/plain": [
       "Predicted  False  True  __all__\n",
       "Actual                         \n",
       "False      24320     7    24327\n",
       "True          60  3041     3101\n",
       "__all__    24380  3048    27428"
      ]
     },
     "metadata": {},
     "output_type": "display_data"
    },
    {
     "name": "stdout",
     "output_type": "stream",
     "text": [
      "Accuracy of the model for test data is: 0.9786473840918758\n",
      "Confusion Matrix for test data is:\n"
     ]
    },
    {
     "data": {
      "text/plain": [
       "Predicted  False  True  __all__\n",
       "Actual                         \n",
       "False      10359    56    10415\n",
       "True         195  1145     1340\n",
       "__all__    10554  1201    11755"
      ]
     },
     "metadata": {},
     "output_type": "display_data"
    },
    {
     "data": {
      "application/vnd.plotly.v1+json": {
       "config": {
        "linkText": "Export to plot.ly",
        "plotlyServerURL": "https://plot.ly",
        "showLink": true
       },
       "data": [
        {
         "marker": {
          "color": "rgb(158,202,225)",
          "line": {
           "color": "rgb(8,48,107)",
           "width": 1.5
          }
         },
         "opacity": 0.6,
         "orientation": "h",
         "text": [
          0.2144,
          0.1205,
          0.0718,
          0.06,
          0.0577,
          0.0494,
          0.0441,
          0.0412,
          0.0368,
          0.0338,
          0.022,
          0.0201,
          0.0166,
          0.0149,
          0.0143,
          0.0143,
          0.0135,
          0.0135,
          0.0127,
          0.0124,
          0.0118,
          0.0104,
          0.0101,
          0.0094,
          0.009,
          0.0084,
          0.0074,
          0.0073,
          0.0061,
          0.0061,
          0.0056,
          0.0054,
          0.0041,
          0.0038,
          0.0035,
          0.0027,
          0.0023,
          0.0017,
          0.0007
         ],
         "textposition": "outside",
         "type": "bar",
         "uid": "e04dc596-9149-4048-b023-c4b662c33fcc",
         "x": [
          0.214448651031321,
          0.12049899160680402,
          0.0718120170298028,
          0.06003231735621911,
          0.05770041949817818,
          0.04943173710020172,
          0.044107415593589695,
          0.0412170645345795,
          0.03683139931882028,
          0.03384310655039953,
          0.021965309294950452,
          0.02006308694966171,
          0.01664235287818533,
          0.01491784874257419,
          0.014335205211598489,
          0.014266886639679233,
          0.013506038668228543,
          0.013485890019563069,
          0.012707116483949598,
          0.012414616153798191,
          0.011773960244072158,
          0.010384063607788329,
          0.010130565680305188,
          0.009417824384675599,
          0.009014261358307006,
          0.008353384052072482,
          0.007434389225313609,
          0.007265101823053498,
          0.006121055915088107,
          0.006116770926553977,
          0.005608837093732875,
          0.005429671195538012,
          0.004052421421440662,
          0.003788694729424953,
          0.0034832621656899097,
          0.0026662495921846493,
          0.002330839613066631,
          0.0016812318363557653,
          0.0007199444732320029
         ],
         "y": [
          "url_extensions",
          "url_length",
          "title_count",
          "script_count",
          "a_href_out_of_domain",
          "url_char_.",
          "url_char_w",
          "meta_count",
          "a_count",
          "url_char_z",
          "script_src_https",
          "li_count",
          "url_char_i",
          "url_extension_endswith_.com",
          "http_header_server_apache",
          "http_header_vary_user-agent",
          "a_href_relative",
          "http_header_content-length",
          "url_char_t",
          "url_char_p",
          "url_char_l",
          "http_header_content-encoding_gzip",
          "url_char_y",
          "url_char_d",
          "push",
          "p_count",
          "link_href_out_of_domain",
          "url_char_f",
          "link_type_text/css",
          "a_href_http",
          "a_href_https",
          "http_header_transfer-encoding_chunked",
          "script_src_out_of_domain",
          "http_header_cache-control_set_max-age",
          "img_src_http",
          "input_count",
          "http_header_via_1.1",
          "center_count",
          "iframe_src_.html"
         ]
        }
       ],
       "layout": {
        "autosize": false,
        "height": 1000,
        "width": 1000,
        "xaxis": {
         "tickfont": {
          "color": "black",
          "size": 12
         },
         "title": "Feature Importances"
        },
        "yaxis": {
         "automargin": true
        }
       }
      },
      "text/html": [
       "<div id=\"380b1400-c7ed-4c2c-900c-735f98cf494c\" style=\"height: 1000px; width: 1000px;\" class=\"plotly-graph-div\"></div><script type=\"text/javascript\">require([\"plotly\"], function(Plotly) { window.PLOTLYENV=window.PLOTLYENV || {};window.PLOTLYENV.BASE_URL=\"https://plot.ly\";Plotly.newPlot(\"380b1400-c7ed-4c2c-900c-735f98cf494c\", [{\"marker\": {\"color\": \"rgb(158,202,225)\", \"line\": {\"color\": \"rgb(8,48,107)\", \"width\": 1.5}}, \"opacity\": 0.6, \"orientation\": \"h\", \"text\": [0.2144, 0.1205, 0.0718, 0.06, 0.0577, 0.0494, 0.0441, 0.0412, 0.0368, 0.0338, 0.022, 0.0201, 0.0166, 0.0149, 0.0143, 0.0143, 0.0135, 0.0135, 0.0127, 0.0124, 0.0118, 0.0104, 0.0101, 0.0094, 0.009, 0.0084, 0.0074, 0.0073, 0.0061, 0.0061, 0.0056, 0.0054, 0.0041, 0.0038, 0.0035, 0.0027, 0.0023, 0.0017, 0.0007], \"textposition\": \"outside\", \"x\": [0.214448651031321, 0.12049899160680402, 0.0718120170298028, 0.06003231735621911, 0.05770041949817818, 0.04943173710020172, 0.044107415593589695, 0.0412170645345795, 0.03683139931882028, 0.03384310655039953, 0.021965309294950452, 0.02006308694966171, 0.01664235287818533, 0.01491784874257419, 0.014335205211598489, 0.014266886639679233, 0.013506038668228543, 0.013485890019563069, 0.012707116483949598, 0.012414616153798191, 0.011773960244072158, 0.010384063607788329, 0.010130565680305188, 0.009417824384675599, 0.009014261358307006, 0.008353384052072482, 0.007434389225313609, 0.007265101823053498, 0.006121055915088107, 0.006116770926553977, 0.005608837093732875, 0.005429671195538012, 0.004052421421440662, 0.003788694729424953, 0.0034832621656899097, 0.0026662495921846493, 0.002330839613066631, 0.0016812318363557653, 0.0007199444732320029], \"y\": [\"url_extensions\", \"url_length\", \"title_count\", \"script_count\", \"a_href_out_of_domain\", \"url_char_.\", \"url_char_w\", \"meta_count\", \"a_count\", \"url_char_z\", \"script_src_https\", \"li_count\", \"url_char_i\", \"url_extension_endswith_.com\", \"http_header_server_apache\", \"http_header_vary_user-agent\", \"a_href_relative\", \"http_header_content-length\", \"url_char_t\", \"url_char_p\", \"url_char_l\", \"http_header_content-encoding_gzip\", \"url_char_y\", \"url_char_d\", \"push\", \"p_count\", \"link_href_out_of_domain\", \"url_char_f\", \"link_type_text/css\", \"a_href_http\", \"a_href_https\", \"http_header_transfer-encoding_chunked\", \"script_src_out_of_domain\", \"http_header_cache-control_set_max-age\", \"img_src_http\", \"input_count\", \"http_header_via_1.1\", \"center_count\", \"iframe_src_.html\"], \"type\": \"bar\", \"uid\": \"e04dc596-9149-4048-b023-c4b662c33fcc\"}], {\"autosize\": false, \"height\": 1000, \"width\": 1000, \"xaxis\": {\"tickfont\": {\"color\": \"black\", \"size\": 12}, \"title\": \"Feature Importances\"}, \"yaxis\": {\"automargin\": true}}, {\"showLink\": true, \"linkText\": \"Export to plot.ly\", \"plotlyServerURL\": \"https://plot.ly\"})});</script>"
      ],
      "text/vnd.plotly.v1+html": [
       "<div id=\"380b1400-c7ed-4c2c-900c-735f98cf494c\" style=\"height: 1000px; width: 1000px;\" class=\"plotly-graph-div\"></div><script type=\"text/javascript\">require([\"plotly\"], function(Plotly) { window.PLOTLYENV=window.PLOTLYENV || {};window.PLOTLYENV.BASE_URL=\"https://plot.ly\";Plotly.newPlot(\"380b1400-c7ed-4c2c-900c-735f98cf494c\", [{\"marker\": {\"color\": \"rgb(158,202,225)\", \"line\": {\"color\": \"rgb(8,48,107)\", \"width\": 1.5}}, \"opacity\": 0.6, \"orientation\": \"h\", \"text\": [0.2144, 0.1205, 0.0718, 0.06, 0.0577, 0.0494, 0.0441, 0.0412, 0.0368, 0.0338, 0.022, 0.0201, 0.0166, 0.0149, 0.0143, 0.0143, 0.0135, 0.0135, 0.0127, 0.0124, 0.0118, 0.0104, 0.0101, 0.0094, 0.009, 0.0084, 0.0074, 0.0073, 0.0061, 0.0061, 0.0056, 0.0054, 0.0041, 0.0038, 0.0035, 0.0027, 0.0023, 0.0017, 0.0007], \"textposition\": \"outside\", \"x\": [0.214448651031321, 0.12049899160680402, 0.0718120170298028, 0.06003231735621911, 0.05770041949817818, 0.04943173710020172, 0.044107415593589695, 0.0412170645345795, 0.03683139931882028, 0.03384310655039953, 0.021965309294950452, 0.02006308694966171, 0.01664235287818533, 0.01491784874257419, 0.014335205211598489, 0.014266886639679233, 0.013506038668228543, 0.013485890019563069, 0.012707116483949598, 0.012414616153798191, 0.011773960244072158, 0.010384063607788329, 0.010130565680305188, 0.009417824384675599, 0.009014261358307006, 0.008353384052072482, 0.007434389225313609, 0.007265101823053498, 0.006121055915088107, 0.006116770926553977, 0.005608837093732875, 0.005429671195538012, 0.004052421421440662, 0.003788694729424953, 0.0034832621656899097, 0.0026662495921846493, 0.002330839613066631, 0.0016812318363557653, 0.0007199444732320029], \"y\": [\"url_extensions\", \"url_length\", \"title_count\", \"script_count\", \"a_href_out_of_domain\", \"url_char_.\", \"url_char_w\", \"meta_count\", \"a_count\", \"url_char_z\", \"script_src_https\", \"li_count\", \"url_char_i\", \"url_extension_endswith_.com\", \"http_header_server_apache\", \"http_header_vary_user-agent\", \"a_href_relative\", \"http_header_content-length\", \"url_char_t\", \"url_char_p\", \"url_char_l\", \"http_header_content-encoding_gzip\", \"url_char_y\", \"url_char_d\", \"push\", \"p_count\", \"link_href_out_of_domain\", \"url_char_f\", \"link_type_text/css\", \"a_href_http\", \"a_href_https\", \"http_header_transfer-encoding_chunked\", \"script_src_out_of_domain\", \"http_header_cache-control_set_max-age\", \"img_src_http\", \"input_count\", \"http_header_via_1.1\", \"center_count\", \"iframe_src_.html\"], \"type\": \"bar\", \"uid\": \"e04dc596-9149-4048-b023-c4b662c33fcc\"}], {\"autosize\": false, \"height\": 1000, \"width\": 1000, \"xaxis\": {\"tickfont\": {\"color\": \"black\", \"size\": 12}, \"title\": \"Feature Importances\"}, \"yaxis\": {\"automargin\": true}}, {\"showLink\": true, \"linkText\": \"Export to plot.ly\", \"plotlyServerURL\": \"https://plot.ly\"})});</script>"
      ]
     },
     "metadata": {},
     "output_type": "display_data"
    },
    {
     "name": "stdout",
     "output_type": "stream",
     "text": [
      "\n",
      "\n",
      "\u001b[1mAdaoost Classifier\u001b[0m\n",
      "Accuracy of the model for training data is: 0.9734577803704244\n",
      "Confusion Matrix for training data is:\n"
     ]
    },
    {
     "data": {
      "text/plain": [
       "Predicted  False  True  __all__\n",
       "Actual                         \n",
       "False      24031   296    24327\n",
       "True         432  2669     3101\n",
       "__all__    24463  2965    27428"
      ]
     },
     "metadata": {},
     "output_type": "display_data"
    },
    {
     "name": "stdout",
     "output_type": "stream",
     "text": [
      "Accuracy of the model for test data is: 0.9716716290940025\n",
      "Confusion Matrix for test data is:\n"
     ]
    },
    {
     "data": {
      "text/plain": [
       "Predicted  False  True  __all__\n",
       "Actual                         \n",
       "False      10279   136    10415\n",
       "True         197  1143     1340\n",
       "__all__    10476  1279    11755"
      ]
     },
     "metadata": {},
     "output_type": "display_data"
    },
    {
     "data": {
      "application/vnd.plotly.v1+json": {
       "config": {
        "linkText": "Export to plot.ly",
        "plotlyServerURL": "https://plot.ly",
        "showLink": true
       },
       "data": [
        {
         "marker": {
          "color": "rgb(158,202,225)",
          "line": {
           "color": "rgb(8,48,107)",
           "width": 1.5
          }
         },
         "opacity": 0.6,
         "orientation": "h",
         "text": [
          0.1,
          0.06,
          0.06,
          0.06,
          0.06,
          0.06,
          0.04,
          0.04,
          0.04,
          0.04,
          0.04,
          0.02,
          0.02,
          0.02,
          0.02,
          0.02,
          0.02,
          0.02,
          0.02,
          0.02,
          0.02,
          0.02,
          0.02,
          0.02,
          0.02,
          0.02,
          0.02,
          0.02,
          0.02,
          0.02,
          0.02,
          0,
          0,
          0,
          0,
          0,
          0,
          0,
          0
         ],
         "textposition": "outside",
         "type": "bar",
         "uid": "c575d659-e26c-4eb0-b64e-753a6fc48811",
         "x": [
          0.1,
          0.06,
          0.06,
          0.06,
          0.06,
          0.06,
          0.04,
          0.04,
          0.04,
          0.04,
          0.04,
          0.02,
          0.02,
          0.02,
          0.02,
          0.02,
          0.02,
          0.02,
          0.02,
          0.02,
          0.02,
          0.02,
          0.02,
          0.02,
          0.02,
          0.02,
          0.02,
          0.02,
          0.02,
          0.02,
          0.02,
          0,
          0,
          0,
          0,
          0,
          0,
          0,
          0
         ],
         "y": [
          "title_count",
          "push",
          "p_count",
          "url_extensions",
          "url_length",
          "a_href_out_of_domain",
          "http_header_content-length",
          "a_href_http",
          "li_count",
          "url_char_w",
          "a_href_https",
          "url_char_d",
          "http_header_vary_user-agent",
          "http_header_via_1.1",
          "url_char_.",
          "http_header_server_apache",
          "url_char_f",
          "center_count",
          "url_char_l",
          "url_char_y",
          "url_char_z",
          "url_char_i",
          "http_header_cache-control_set_max-age",
          "http_header_content-encoding_gzip",
          "script_src_out_of_domain",
          "meta_count",
          "link_type_text/css",
          "link_href_out_of_domain",
          "input_count",
          "img_src_http",
          "iframe_src_.html",
          "http_header_transfer-encoding_chunked",
          "a_count",
          "script_src_https",
          "script_count",
          "url_char_p",
          "url_char_t",
          "url_extension_endswith_.com",
          "a_href_relative"
         ]
        }
       ],
       "layout": {
        "autosize": false,
        "height": 1000,
        "width": 1000,
        "xaxis": {
         "tickfont": {
          "color": "black",
          "size": 12
         },
         "title": "Feature Importances"
        },
        "yaxis": {
         "automargin": true
        }
       }
      },
      "text/html": [
       "<div id=\"c8fe427c-6bc9-46df-8009-c2b00caabd52\" style=\"height: 1000px; width: 1000px;\" class=\"plotly-graph-div\"></div><script type=\"text/javascript\">require([\"plotly\"], function(Plotly) { window.PLOTLYENV=window.PLOTLYENV || {};window.PLOTLYENV.BASE_URL=\"https://plot.ly\";Plotly.newPlot(\"c8fe427c-6bc9-46df-8009-c2b00caabd52\", [{\"marker\": {\"color\": \"rgb(158,202,225)\", \"line\": {\"color\": \"rgb(8,48,107)\", \"width\": 1.5}}, \"opacity\": 0.6, \"orientation\": \"h\", \"text\": [0.1, 0.06, 0.06, 0.06, 0.06, 0.06, 0.04, 0.04, 0.04, 0.04, 0.04, 0.02, 0.02, 0.02, 0.02, 0.02, 0.02, 0.02, 0.02, 0.02, 0.02, 0.02, 0.02, 0.02, 0.02, 0.02, 0.02, 0.02, 0.02, 0.02, 0.02, 0.0, 0.0, 0.0, 0.0, 0.0, 0.0, 0.0, 0.0], \"textposition\": \"outside\", \"x\": [0.1, 0.06, 0.06, 0.06, 0.06, 0.06, 0.04, 0.04, 0.04, 0.04, 0.04, 0.02, 0.02, 0.02, 0.02, 0.02, 0.02, 0.02, 0.02, 0.02, 0.02, 0.02, 0.02, 0.02, 0.02, 0.02, 0.02, 0.02, 0.02, 0.02, 0.02, 0.0, 0.0, 0.0, 0.0, 0.0, 0.0, 0.0, 0.0], \"y\": [\"title_count\", \"push\", \"p_count\", \"url_extensions\", \"url_length\", \"a_href_out_of_domain\", \"http_header_content-length\", \"a_href_http\", \"li_count\", \"url_char_w\", \"a_href_https\", \"url_char_d\", \"http_header_vary_user-agent\", \"http_header_via_1.1\", \"url_char_.\", \"http_header_server_apache\", \"url_char_f\", \"center_count\", \"url_char_l\", \"url_char_y\", \"url_char_z\", \"url_char_i\", \"http_header_cache-control_set_max-age\", \"http_header_content-encoding_gzip\", \"script_src_out_of_domain\", \"meta_count\", \"link_type_text/css\", \"link_href_out_of_domain\", \"input_count\", \"img_src_http\", \"iframe_src_.html\", \"http_header_transfer-encoding_chunked\", \"a_count\", \"script_src_https\", \"script_count\", \"url_char_p\", \"url_char_t\", \"url_extension_endswith_.com\", \"a_href_relative\"], \"type\": \"bar\", \"uid\": \"c575d659-e26c-4eb0-b64e-753a6fc48811\"}], {\"autosize\": false, \"height\": 1000, \"width\": 1000, \"xaxis\": {\"tickfont\": {\"color\": \"black\", \"size\": 12}, \"title\": \"Feature Importances\"}, \"yaxis\": {\"automargin\": true}}, {\"showLink\": true, \"linkText\": \"Export to plot.ly\", \"plotlyServerURL\": \"https://plot.ly\"})});</script>"
      ],
      "text/vnd.plotly.v1+html": [
       "<div id=\"c8fe427c-6bc9-46df-8009-c2b00caabd52\" style=\"height: 1000px; width: 1000px;\" class=\"plotly-graph-div\"></div><script type=\"text/javascript\">require([\"plotly\"], function(Plotly) { window.PLOTLYENV=window.PLOTLYENV || {};window.PLOTLYENV.BASE_URL=\"https://plot.ly\";Plotly.newPlot(\"c8fe427c-6bc9-46df-8009-c2b00caabd52\", [{\"marker\": {\"color\": \"rgb(158,202,225)\", \"line\": {\"color\": \"rgb(8,48,107)\", \"width\": 1.5}}, \"opacity\": 0.6, \"orientation\": \"h\", \"text\": [0.1, 0.06, 0.06, 0.06, 0.06, 0.06, 0.04, 0.04, 0.04, 0.04, 0.04, 0.02, 0.02, 0.02, 0.02, 0.02, 0.02, 0.02, 0.02, 0.02, 0.02, 0.02, 0.02, 0.02, 0.02, 0.02, 0.02, 0.02, 0.02, 0.02, 0.02, 0.0, 0.0, 0.0, 0.0, 0.0, 0.0, 0.0, 0.0], \"textposition\": \"outside\", \"x\": [0.1, 0.06, 0.06, 0.06, 0.06, 0.06, 0.04, 0.04, 0.04, 0.04, 0.04, 0.02, 0.02, 0.02, 0.02, 0.02, 0.02, 0.02, 0.02, 0.02, 0.02, 0.02, 0.02, 0.02, 0.02, 0.02, 0.02, 0.02, 0.02, 0.02, 0.02, 0.0, 0.0, 0.0, 0.0, 0.0, 0.0, 0.0, 0.0], \"y\": [\"title_count\", \"push\", \"p_count\", \"url_extensions\", \"url_length\", \"a_href_out_of_domain\", \"http_header_content-length\", \"a_href_http\", \"li_count\", \"url_char_w\", \"a_href_https\", \"url_char_d\", \"http_header_vary_user-agent\", \"http_header_via_1.1\", \"url_char_.\", \"http_header_server_apache\", \"url_char_f\", \"center_count\", \"url_char_l\", \"url_char_y\", \"url_char_z\", \"url_char_i\", \"http_header_cache-control_set_max-age\", \"http_header_content-encoding_gzip\", \"script_src_out_of_domain\", \"meta_count\", \"link_type_text/css\", \"link_href_out_of_domain\", \"input_count\", \"img_src_http\", \"iframe_src_.html\", \"http_header_transfer-encoding_chunked\", \"a_count\", \"script_src_https\", \"script_count\", \"url_char_p\", \"url_char_t\", \"url_extension_endswith_.com\", \"a_href_relative\"], \"type\": \"bar\", \"uid\": \"c575d659-e26c-4eb0-b64e-753a6fc48811\"}], {\"autosize\": false, \"height\": 1000, \"width\": 1000, \"xaxis\": {\"tickfont\": {\"color\": \"black\", \"size\": 12}, \"title\": \"Feature Importances\"}, \"yaxis\": {\"automargin\": true}}, {\"showLink\": true, \"linkText\": \"Export to plot.ly\", \"plotlyServerURL\": \"https://plot.ly\"})});</script>"
      ]
     },
     "metadata": {},
     "output_type": "display_data"
    },
    {
     "name": "stdout",
     "output_type": "stream",
     "text": [
      "\n",
      "\n",
      "\u001b[1mGradientBoosting Classifier\u001b[0m\n",
      "Accuracy of the model for training data is: 0.9791089397695786\n",
      "Confusion Matrix for training data is:\n"
     ]
    },
    {
     "data": {
      "text/plain": [
       "Predicted  False  True  __all__\n",
       "Actual                         \n",
       "False      24165   162    24327\n",
       "True         411  2690     3101\n",
       "__all__    24576  2852    27428"
      ]
     },
     "metadata": {},
     "output_type": "display_data"
    },
    {
     "name": "stdout",
     "output_type": "stream",
     "text": [
      "Accuracy of the model for test data is: 0.9751595065929392\n",
      "Confusion Matrix for test data is:\n"
     ]
    },
    {
     "data": {
      "text/plain": [
       "Predicted  False  True  __all__\n",
       "Actual                         \n",
       "False      10333    82    10415\n",
       "True         210  1130     1340\n",
       "__all__    10543  1212    11755"
      ]
     },
     "metadata": {},
     "output_type": "display_data"
    },
    {
     "data": {
      "application/vnd.plotly.v1+json": {
       "config": {
        "linkText": "Export to plot.ly",
        "plotlyServerURL": "https://plot.ly",
        "showLink": true
       },
       "data": [
        {
         "marker": {
          "color": "rgb(158,202,225)",
          "line": {
           "color": "rgb(8,48,107)",
           "width": 1.5
          }
         },
         "opacity": 0.6,
         "orientation": "h",
         "text": [
          0.3074,
          0.1884,
          0.1442,
          0.0754,
          0.0715,
          0.0591,
          0.0212,
          0.0197,
          0.0194,
          0.0184,
          0.0173,
          0.0154,
          0.0119,
          0.0064,
          0.0053,
          0.0038,
          0.0023,
          0.0019,
          0.0014,
          0.0013,
          0.0013,
          0.0011,
          0.0008,
          0.0008,
          0.0007,
          0.0007,
          0.0006,
          0.0005,
          0.0003,
          0.0003,
          0.0003,
          0.0002,
          0.0002,
          0.0002,
          0.0001,
          0.0001,
          0,
          0,
          0
         ],
         "textposition": "outside",
         "type": "bar",
         "uid": "5a01fcaa-677b-446a-9244-da9348c9ec18",
         "x": [
          0.30743408484725215,
          0.1884269262267274,
          0.1441783247220185,
          0.07539257639360912,
          0.07153445348293162,
          0.05912733633522487,
          0.021197899483718682,
          0.01968795838919532,
          0.01935081924529022,
          0.01843071906523942,
          0.017285706454880513,
          0.015360042859752754,
          0.01193485819671582,
          0.006420668153598588,
          0.005323757748194165,
          0.0038040914248969556,
          0.002299380927168424,
          0.0018554488886870976,
          0.0013731705345455582,
          0.0012867918501138942,
          0.0012793073304051298,
          0.0011258641791661703,
          0.0008153465227552131,
          0.0007512219977256165,
          0.0007494747531777606,
          0.0006928644905077593,
          0.0005933883919395456,
          0.0005349291664575372,
          0.0003432292015525356,
          0.000332199184086007,
          0.0003266241865157175,
          0.00017752222978716594,
          0.00017421476888506356,
          0.00017330906727641062,
          9.854901661081965e-05,
          8.546520072811356e-05,
          4.147508266229069e-05,
          0,
          0
         ],
         "y": [
          "url_extensions",
          "title_count",
          "url_length",
          "url_char_w",
          "a_href_relative",
          "meta_count",
          "http_header_server_apache",
          "a_count",
          "url_char_.",
          "http_header_content-encoding_gzip",
          "http_header_vary_user-agent",
          "a_href_out_of_domain",
          "url_char_z",
          "a_href_https",
          "script_count",
          "push",
          "link_href_out_of_domain",
          "http_header_cache-control_set_max-age",
          "img_src_http",
          "p_count",
          "url_char_l",
          "url_extension_endswith_.com",
          "link_type_text/css",
          "url_char_y",
          "http_header_content-length",
          "http_header_via_1.1",
          "url_char_p",
          "url_char_t",
          "url_char_f",
          "a_href_http",
          "url_char_i",
          "http_header_transfer-encoding_chunked",
          "url_char_d",
          "script_src_https",
          "script_src_out_of_domain",
          "li_count",
          "center_count",
          "iframe_src_.html",
          "input_count"
         ]
        }
       ],
       "layout": {
        "autosize": false,
        "height": 1000,
        "width": 1000,
        "xaxis": {
         "tickfont": {
          "color": "black",
          "size": 12
         },
         "title": "Feature Importances"
        },
        "yaxis": {
         "automargin": true
        }
       }
      },
      "text/html": [
       "<div id=\"9059807c-8d43-4390-b975-ea1eacd39fcd\" style=\"height: 1000px; width: 1000px;\" class=\"plotly-graph-div\"></div><script type=\"text/javascript\">require([\"plotly\"], function(Plotly) { window.PLOTLYENV=window.PLOTLYENV || {};window.PLOTLYENV.BASE_URL=\"https://plot.ly\";Plotly.newPlot(\"9059807c-8d43-4390-b975-ea1eacd39fcd\", [{\"marker\": {\"color\": \"rgb(158,202,225)\", \"line\": {\"color\": \"rgb(8,48,107)\", \"width\": 1.5}}, \"opacity\": 0.6, \"orientation\": \"h\", \"text\": [0.3074, 0.1884, 0.1442, 0.0754, 0.0715, 0.0591, 0.0212, 0.0197, 0.0194, 0.0184, 0.0173, 0.0154, 0.0119, 0.0064, 0.0053, 0.0038, 0.0023, 0.0019, 0.0014, 0.0013, 0.0013, 0.0011, 0.0008, 0.0008, 0.0007, 0.0007, 0.0006, 0.0005, 0.0003, 0.0003, 0.0003, 0.0002, 0.0002, 0.0002, 0.0001, 0.0001, 0.0, 0.0, 0.0], \"textposition\": \"outside\", \"x\": [0.30743408484725215, 0.1884269262267274, 0.1441783247220185, 0.07539257639360912, 0.07153445348293162, 0.05912733633522487, 0.021197899483718682, 0.01968795838919532, 0.01935081924529022, 0.01843071906523942, 0.017285706454880513, 0.015360042859752754, 0.01193485819671582, 0.006420668153598588, 0.005323757748194165, 0.0038040914248969556, 0.002299380927168424, 0.0018554488886870976, 0.0013731705345455582, 0.0012867918501138942, 0.0012793073304051298, 0.0011258641791661703, 0.0008153465227552131, 0.0007512219977256165, 0.0007494747531777606, 0.0006928644905077593, 0.0005933883919395456, 0.0005349291664575372, 0.0003432292015525356, 0.000332199184086007, 0.0003266241865157175, 0.00017752222978716594, 0.00017421476888506356, 0.00017330906727641062, 9.854901661081965e-05, 8.546520072811356e-05, 4.147508266229069e-05, 0.0, 0.0], \"y\": [\"url_extensions\", \"title_count\", \"url_length\", \"url_char_w\", \"a_href_relative\", \"meta_count\", \"http_header_server_apache\", \"a_count\", \"url_char_.\", \"http_header_content-encoding_gzip\", \"http_header_vary_user-agent\", \"a_href_out_of_domain\", \"url_char_z\", \"a_href_https\", \"script_count\", \"push\", \"link_href_out_of_domain\", \"http_header_cache-control_set_max-age\", \"img_src_http\", \"p_count\", \"url_char_l\", \"url_extension_endswith_.com\", \"link_type_text/css\", \"url_char_y\", \"http_header_content-length\", \"http_header_via_1.1\", \"url_char_p\", \"url_char_t\", \"url_char_f\", \"a_href_http\", \"url_char_i\", \"http_header_transfer-encoding_chunked\", \"url_char_d\", \"script_src_https\", \"script_src_out_of_domain\", \"li_count\", \"center_count\", \"iframe_src_.html\", \"input_count\"], \"type\": \"bar\", \"uid\": \"5a01fcaa-677b-446a-9244-da9348c9ec18\"}], {\"autosize\": false, \"height\": 1000, \"width\": 1000, \"xaxis\": {\"tickfont\": {\"color\": \"black\", \"size\": 12}, \"title\": \"Feature Importances\"}, \"yaxis\": {\"automargin\": true}}, {\"showLink\": true, \"linkText\": \"Export to plot.ly\", \"plotlyServerURL\": \"https://plot.ly\"})});</script>"
      ],
      "text/vnd.plotly.v1+html": [
       "<div id=\"9059807c-8d43-4390-b975-ea1eacd39fcd\" style=\"height: 1000px; width: 1000px;\" class=\"plotly-graph-div\"></div><script type=\"text/javascript\">require([\"plotly\"], function(Plotly) { window.PLOTLYENV=window.PLOTLYENV || {};window.PLOTLYENV.BASE_URL=\"https://plot.ly\";Plotly.newPlot(\"9059807c-8d43-4390-b975-ea1eacd39fcd\", [{\"marker\": {\"color\": \"rgb(158,202,225)\", \"line\": {\"color\": \"rgb(8,48,107)\", \"width\": 1.5}}, \"opacity\": 0.6, \"orientation\": \"h\", \"text\": [0.3074, 0.1884, 0.1442, 0.0754, 0.0715, 0.0591, 0.0212, 0.0197, 0.0194, 0.0184, 0.0173, 0.0154, 0.0119, 0.0064, 0.0053, 0.0038, 0.0023, 0.0019, 0.0014, 0.0013, 0.0013, 0.0011, 0.0008, 0.0008, 0.0007, 0.0007, 0.0006, 0.0005, 0.0003, 0.0003, 0.0003, 0.0002, 0.0002, 0.0002, 0.0001, 0.0001, 0.0, 0.0, 0.0], \"textposition\": \"outside\", \"x\": [0.30743408484725215, 0.1884269262267274, 0.1441783247220185, 0.07539257639360912, 0.07153445348293162, 0.05912733633522487, 0.021197899483718682, 0.01968795838919532, 0.01935081924529022, 0.01843071906523942, 0.017285706454880513, 0.015360042859752754, 0.01193485819671582, 0.006420668153598588, 0.005323757748194165, 0.0038040914248969556, 0.002299380927168424, 0.0018554488886870976, 0.0013731705345455582, 0.0012867918501138942, 0.0012793073304051298, 0.0011258641791661703, 0.0008153465227552131, 0.0007512219977256165, 0.0007494747531777606, 0.0006928644905077593, 0.0005933883919395456, 0.0005349291664575372, 0.0003432292015525356, 0.000332199184086007, 0.0003266241865157175, 0.00017752222978716594, 0.00017421476888506356, 0.00017330906727641062, 9.854901661081965e-05, 8.546520072811356e-05, 4.147508266229069e-05, 0.0, 0.0], \"y\": [\"url_extensions\", \"title_count\", \"url_length\", \"url_char_w\", \"a_href_relative\", \"meta_count\", \"http_header_server_apache\", \"a_count\", \"url_char_.\", \"http_header_content-encoding_gzip\", \"http_header_vary_user-agent\", \"a_href_out_of_domain\", \"url_char_z\", \"a_href_https\", \"script_count\", \"push\", \"link_href_out_of_domain\", \"http_header_cache-control_set_max-age\", \"img_src_http\", \"p_count\", \"url_char_l\", \"url_extension_endswith_.com\", \"link_type_text/css\", \"url_char_y\", \"http_header_content-length\", \"http_header_via_1.1\", \"url_char_p\", \"url_char_t\", \"url_char_f\", \"a_href_http\", \"url_char_i\", \"http_header_transfer-encoding_chunked\", \"url_char_d\", \"script_src_https\", \"script_src_out_of_domain\", \"li_count\", \"center_count\", \"iframe_src_.html\", \"input_count\"], \"type\": \"bar\", \"uid\": \"5a01fcaa-677b-446a-9244-da9348c9ec18\"}], {\"autosize\": false, \"height\": 1000, \"width\": 1000, \"xaxis\": {\"tickfont\": {\"color\": \"black\", \"size\": 12}, \"title\": \"Feature Importances\"}, \"yaxis\": {\"automargin\": true}}, {\"showLink\": true, \"linkText\": \"Export to plot.ly\", \"plotlyServerURL\": \"https://plot.ly\"})});</script>"
      ]
     },
     "metadata": {},
     "output_type": "display_data"
    },
    {
     "name": "stdout",
     "output_type": "stream",
     "text": [
      "\n",
      "\n",
      "\u001b[1mExtraTree Classifier\u001b[0m\n",
      "Accuracy of the model for training data is: 0.9994531136065334\n",
      "Confusion Matrix for training data is:\n"
     ]
    },
    {
     "data": {
      "text/plain": [
       "Predicted  False  True  __all__\n",
       "Actual                         \n",
       "False      24325     2    24327\n",
       "True          13  3088     3101\n",
       "__all__    24338  3090    27428"
      ]
     },
     "metadata": {},
     "output_type": "display_data"
    },
    {
     "name": "stdout",
     "output_type": "stream",
     "text": [
      "Accuracy of the model for test data is: 0.9781369629944704\n",
      "Confusion Matrix for test data is:\n"
     ]
    },
    {
     "data": {
      "text/plain": [
       "Predicted  False  True  __all__\n",
       "Actual                         \n",
       "False      10352    63    10415\n",
       "True         194  1146     1340\n",
       "__all__    10546  1209    11755"
      ]
     },
     "metadata": {},
     "output_type": "display_data"
    },
    {
     "data": {
      "application/vnd.plotly.v1+json": {
       "config": {
        "linkText": "Export to plot.ly",
        "plotlyServerURL": "https://plot.ly",
        "showLink": true
       },
       "data": [
        {
         "marker": {
          "color": "rgb(158,202,225)",
          "line": {
           "color": "rgb(8,48,107)",
           "width": 1.5
          }
         },
         "opacity": 0.6,
         "orientation": "h",
         "text": [
          0.1206,
          0.1203,
          0.099,
          0.0657,
          0.0589,
          0.0528,
          0.0373,
          0.0313,
          0.0287,
          0.0283,
          0.0256,
          0.0247,
          0.0245,
          0.0245,
          0.0204,
          0.0172,
          0.017,
          0.017,
          0.0143,
          0.0128,
          0.0126,
          0.0125,
          0.0122,
          0.0121,
          0.0114,
          0.0109,
          0.0102,
          0.0096,
          0.0085,
          0.0084,
          0.0078,
          0.0075,
          0.0069,
          0.0066,
          0.006,
          0.0057,
          0.0053,
          0.0026,
          0.0022
         ],
         "textposition": "outside",
         "type": "bar",
         "uid": "f5b65463-7362-4a01-8a21-2d36eb3d82d1",
         "x": [
          0.12063045252786288,
          0.12027365576752455,
          0.09902301203901022,
          0.06574131703741219,
          0.05888493889592844,
          0.05278652574344428,
          0.03726610729682184,
          0.03130330156093781,
          0.028741083714438356,
          0.02829784515050374,
          0.025585705464300754,
          0.024658922940047207,
          0.02452279425968544,
          0.024477160578928084,
          0.02043643342330081,
          0.01717861812853804,
          0.017033486203416933,
          0.01698866964569627,
          0.014256943506365423,
          0.012790020853240353,
          0.012591478711737174,
          0.012500347663409078,
          0.012218322892111397,
          0.012142054881600342,
          0.011421403776087462,
          0.010923050577321937,
          0.010184712051969368,
          0.009562942955442197,
          0.008495177857235511,
          0.008403367975659827,
          0.007800540762094378,
          0.00751749812670328,
          0.006911204409046373,
          0.006595738057199451,
          0.00598444183196109,
          0.005714206768291517,
          0.00526984395712364,
          0.002639830935649062,
          0.002246841071953069
         ],
         "y": [
          "url_length",
          "url_extensions",
          "http_header_content-encoding_gzip",
          "url_char_w",
          "http_header_transfer-encoding_chunked",
          "url_char_.",
          "url_char_z",
          "url_extension_endswith_.com",
          "url_char_y",
          "http_header_content-length",
          "url_char_l",
          "script_count",
          "script_src_out_of_domain",
          "url_char_i",
          "http_header_server_apache",
          "url_char_t",
          "title_count",
          "url_char_p",
          "meta_count",
          "url_char_d",
          "http_header_cache-control_set_max-age",
          "a_href_out_of_domain",
          "script_src_https",
          "a_count",
          "url_char_f",
          "p_count",
          "link_href_out_of_domain",
          "link_type_text/css",
          "a_href_https",
          "a_href_relative",
          "http_header_via_1.1",
          "http_header_vary_user-agent",
          "push",
          "input_count",
          "a_href_http",
          "li_count",
          "img_src_http",
          "center_count",
          "iframe_src_.html"
         ]
        }
       ],
       "layout": {
        "autosize": false,
        "height": 1000,
        "width": 1000,
        "xaxis": {
         "tickfont": {
          "color": "black",
          "size": 12
         },
         "title": "Feature Importances"
        },
        "yaxis": {
         "automargin": true
        }
       }
      },
      "text/html": [
       "<div id=\"7386b589-209a-4792-b3f5-89fb8797e604\" style=\"height: 1000px; width: 1000px;\" class=\"plotly-graph-div\"></div><script type=\"text/javascript\">require([\"plotly\"], function(Plotly) { window.PLOTLYENV=window.PLOTLYENV || {};window.PLOTLYENV.BASE_URL=\"https://plot.ly\";Plotly.newPlot(\"7386b589-209a-4792-b3f5-89fb8797e604\", [{\"marker\": {\"color\": \"rgb(158,202,225)\", \"line\": {\"color\": \"rgb(8,48,107)\", \"width\": 1.5}}, \"opacity\": 0.6, \"orientation\": \"h\", \"text\": [0.1206, 0.1203, 0.099, 0.0657, 0.0589, 0.0528, 0.0373, 0.0313, 0.0287, 0.0283, 0.0256, 0.0247, 0.0245, 0.0245, 0.0204, 0.0172, 0.017, 0.017, 0.0143, 0.0128, 0.0126, 0.0125, 0.0122, 0.0121, 0.0114, 0.0109, 0.0102, 0.0096, 0.0085, 0.0084, 0.0078, 0.0075, 0.0069, 0.0066, 0.006, 0.0057, 0.0053, 0.0026, 0.0022], \"textposition\": \"outside\", \"x\": [0.12063045252786288, 0.12027365576752455, 0.09902301203901022, 0.06574131703741219, 0.05888493889592844, 0.05278652574344428, 0.03726610729682184, 0.03130330156093781, 0.028741083714438356, 0.02829784515050374, 0.025585705464300754, 0.024658922940047207, 0.02452279425968544, 0.024477160578928084, 0.02043643342330081, 0.01717861812853804, 0.017033486203416933, 0.01698866964569627, 0.014256943506365423, 0.012790020853240353, 0.012591478711737174, 0.012500347663409078, 0.012218322892111397, 0.012142054881600342, 0.011421403776087462, 0.010923050577321937, 0.010184712051969368, 0.009562942955442197, 0.008495177857235511, 0.008403367975659827, 0.007800540762094378, 0.00751749812670328, 0.006911204409046373, 0.006595738057199451, 0.00598444183196109, 0.005714206768291517, 0.00526984395712364, 0.002639830935649062, 0.002246841071953069], \"y\": [\"url_length\", \"url_extensions\", \"http_header_content-encoding_gzip\", \"url_char_w\", \"http_header_transfer-encoding_chunked\", \"url_char_.\", \"url_char_z\", \"url_extension_endswith_.com\", \"url_char_y\", \"http_header_content-length\", \"url_char_l\", \"script_count\", \"script_src_out_of_domain\", \"url_char_i\", \"http_header_server_apache\", \"url_char_t\", \"title_count\", \"url_char_p\", \"meta_count\", \"url_char_d\", \"http_header_cache-control_set_max-age\", \"a_href_out_of_domain\", \"script_src_https\", \"a_count\", \"url_char_f\", \"p_count\", \"link_href_out_of_domain\", \"link_type_text/css\", \"a_href_https\", \"a_href_relative\", \"http_header_via_1.1\", \"http_header_vary_user-agent\", \"push\", \"input_count\", \"a_href_http\", \"li_count\", \"img_src_http\", \"center_count\", \"iframe_src_.html\"], \"type\": \"bar\", \"uid\": \"f5b65463-7362-4a01-8a21-2d36eb3d82d1\"}], {\"autosize\": false, \"height\": 1000, \"width\": 1000, \"xaxis\": {\"tickfont\": {\"color\": \"black\", \"size\": 12}, \"title\": \"Feature Importances\"}, \"yaxis\": {\"automargin\": true}}, {\"showLink\": true, \"linkText\": \"Export to plot.ly\", \"plotlyServerURL\": \"https://plot.ly\"})});</script>"
      ],
      "text/vnd.plotly.v1+html": [
       "<div id=\"7386b589-209a-4792-b3f5-89fb8797e604\" style=\"height: 1000px; width: 1000px;\" class=\"plotly-graph-div\"></div><script type=\"text/javascript\">require([\"plotly\"], function(Plotly) { window.PLOTLYENV=window.PLOTLYENV || {};window.PLOTLYENV.BASE_URL=\"https://plot.ly\";Plotly.newPlot(\"7386b589-209a-4792-b3f5-89fb8797e604\", [{\"marker\": {\"color\": \"rgb(158,202,225)\", \"line\": {\"color\": \"rgb(8,48,107)\", \"width\": 1.5}}, \"opacity\": 0.6, \"orientation\": \"h\", \"text\": [0.1206, 0.1203, 0.099, 0.0657, 0.0589, 0.0528, 0.0373, 0.0313, 0.0287, 0.0283, 0.0256, 0.0247, 0.0245, 0.0245, 0.0204, 0.0172, 0.017, 0.017, 0.0143, 0.0128, 0.0126, 0.0125, 0.0122, 0.0121, 0.0114, 0.0109, 0.0102, 0.0096, 0.0085, 0.0084, 0.0078, 0.0075, 0.0069, 0.0066, 0.006, 0.0057, 0.0053, 0.0026, 0.0022], \"textposition\": \"outside\", \"x\": [0.12063045252786288, 0.12027365576752455, 0.09902301203901022, 0.06574131703741219, 0.05888493889592844, 0.05278652574344428, 0.03726610729682184, 0.03130330156093781, 0.028741083714438356, 0.02829784515050374, 0.025585705464300754, 0.024658922940047207, 0.02452279425968544, 0.024477160578928084, 0.02043643342330081, 0.01717861812853804, 0.017033486203416933, 0.01698866964569627, 0.014256943506365423, 0.012790020853240353, 0.012591478711737174, 0.012500347663409078, 0.012218322892111397, 0.012142054881600342, 0.011421403776087462, 0.010923050577321937, 0.010184712051969368, 0.009562942955442197, 0.008495177857235511, 0.008403367975659827, 0.007800540762094378, 0.00751749812670328, 0.006911204409046373, 0.006595738057199451, 0.00598444183196109, 0.005714206768291517, 0.00526984395712364, 0.002639830935649062, 0.002246841071953069], \"y\": [\"url_length\", \"url_extensions\", \"http_header_content-encoding_gzip\", \"url_char_w\", \"http_header_transfer-encoding_chunked\", \"url_char_.\", \"url_char_z\", \"url_extension_endswith_.com\", \"url_char_y\", \"http_header_content-length\", \"url_char_l\", \"script_count\", \"script_src_out_of_domain\", \"url_char_i\", \"http_header_server_apache\", \"url_char_t\", \"title_count\", \"url_char_p\", \"meta_count\", \"url_char_d\", \"http_header_cache-control_set_max-age\", \"a_href_out_of_domain\", \"script_src_https\", \"a_count\", \"url_char_f\", \"p_count\", \"link_href_out_of_domain\", \"link_type_text/css\", \"a_href_https\", \"a_href_relative\", \"http_header_via_1.1\", \"http_header_vary_user-agent\", \"push\", \"input_count\", \"a_href_http\", \"li_count\", \"img_src_http\", \"center_count\", \"iframe_src_.html\"], \"type\": \"bar\", \"uid\": \"f5b65463-7362-4a01-8a21-2d36eb3d82d1\"}], {\"autosize\": false, \"height\": 1000, \"width\": 1000, \"xaxis\": {\"tickfont\": {\"color\": \"black\", \"size\": 12}, \"title\": \"Feature Importances\"}, \"yaxis\": {\"automargin\": true}}, {\"showLink\": true, \"linkText\": \"Export to plot.ly\", \"plotlyServerURL\": \"https://plot.ly\"})});</script>"
      ]
     },
     "metadata": {},
     "output_type": "display_data"
    },
    {
     "name": "stdout",
     "output_type": "stream",
     "text": [
      "\n",
      "\n",
      "\u001b[1mXGB Classifier\u001b[0m\n",
      "Accuracy of the model for training data is: 0.9794370716056584\n",
      "Confusion Matrix for training data is:\n"
     ]
    },
    {
     "data": {
      "text/plain": [
       "Predicted  False  True  __all__\n",
       "Actual                         \n",
       "False      24183   144    24327\n",
       "True         420  2681     3101\n",
       "__all__    24603  2825    27428"
      ]
     },
     "metadata": {},
     "output_type": "display_data"
    },
    {
     "name": "stdout",
     "output_type": "stream",
     "text": [
      "Accuracy of the model for test data is: 0.9760102084219481\n",
      "Confusion Matrix for test data is:\n"
     ]
    },
    {
     "data": {
      "text/plain": [
       "Predicted  False  True  __all__\n",
       "Actual                         \n",
       "False      10340    75    10415\n",
       "True         207  1133     1340\n",
       "__all__    10547  1208    11755"
      ]
     },
     "metadata": {},
     "output_type": "display_data"
    },
    {
     "data": {
      "application/vnd.plotly.v1+json": {
       "config": {
        "linkText": "Export to plot.ly",
        "plotlyServerURL": "https://plot.ly",
        "showLink": true
       },
       "data": [
        {
         "marker": {
          "color": "rgb(158,202,225)",
          "line": {
           "color": "rgb(8,48,107)",
           "width": 1.5
          }
         },
         "opacity": 0.6,
         "orientation": "h",
         "text": [
          0.1279,
          0.1177,
          0.0669,
          0.0465,
          0.0436,
          0.0378,
          0.0363,
          0.0334,
          0.032,
          0.0276,
          0.0262,
          0.0262,
          0.0233,
          0.0218,
          0.0218,
          0.0218,
          0.0203,
          0.0203,
          0.0203,
          0.0189,
          0.0189,
          0.0174,
          0.016,
          0.016,
          0.0145,
          0.0145,
          0.0145,
          0.0145,
          0.0102,
          0.0102,
          0.0102,
          0.0087,
          0.0087,
          0.0087,
          0.0073,
          0.0073,
          0.0058,
          0.0044,
          0.0015
         ],
         "textposition": "outside",
         "type": "bar",
         "uid": "c01e5e27-97c8-452c-a2df-367e8c92ded1",
         "x": [
          0.12790697813034058,
          0.11773255467414856,
          0.06686046719551086,
          0.04651162773370743,
          0.04360464960336685,
          0.037790697067976,
          0.03633720800280571,
          0.03343023359775543,
          0.031976744532585144,
          0.02761627919971943,
          0.02616279013454914,
          0.02616279013454914,
          0.023255813866853714,
          0.021802324801683426,
          0.021802324801683426,
          0.021802324801683426,
          0.020348837599158287,
          0.020348837599158287,
          0.020348837599158287,
          0.018895348533988,
          0.018895348533988,
          0.01744186133146286,
          0.015988372266292572,
          0.015988372266292572,
          0.014534884132444859,
          0.014534884132444859,
          0.014534884132444859,
          0.014534884132444859,
          0.010174418799579144,
          0.010174418799579144,
          0.010174418799579144,
          0.00872093066573143,
          0.00872093066573143,
          0.00872093066573143,
          0.007267442066222429,
          0.007267442066222429,
          0.0058139534667134285,
          0.004360465332865715,
          0.0014534883666783571
         ],
         "y": [
          "url_length",
          "url_char_w",
          "url_char_.",
          "a_href_out_of_domain",
          "link_type_text/css",
          "url_extensions",
          "http_header_server_apache",
          "http_header_content-length",
          "p_count",
          "http_header_content-encoding_gzip",
          "a_href_https",
          "input_count",
          "push",
          "img_src_http",
          "url_char_z",
          "a_href_relative",
          "url_char_i",
          "http_header_via_1.1",
          "link_href_out_of_domain",
          "http_header_cache-control_set_max-age",
          "li_count",
          "http_header_vary_user-agent",
          "a_href_http",
          "a_count",
          "script_src_https",
          "url_extension_endswith_.com",
          "title_count",
          "url_char_l",
          "url_char_p",
          "meta_count",
          "http_header_transfer-encoding_chunked",
          "url_char_f",
          "url_char_d",
          "script_count",
          "url_char_y",
          "center_count",
          "script_src_out_of_domain",
          "iframe_src_.html",
          "url_char_t"
         ]
        }
       ],
       "layout": {
        "autosize": false,
        "height": 1000,
        "width": 1000,
        "xaxis": {
         "tickfont": {
          "color": "black",
          "size": 12
         },
         "title": "Feature Importances"
        },
        "yaxis": {
         "automargin": true
        }
       }
      },
      "text/html": [
       "<div id=\"1a503d52-f78c-4946-827a-2afc16119856\" style=\"height: 1000px; width: 1000px;\" class=\"plotly-graph-div\"></div><script type=\"text/javascript\">require([\"plotly\"], function(Plotly) { window.PLOTLYENV=window.PLOTLYENV || {};window.PLOTLYENV.BASE_URL=\"https://plot.ly\";Plotly.newPlot(\"1a503d52-f78c-4946-827a-2afc16119856\", [{\"marker\": {\"color\": \"rgb(158,202,225)\", \"line\": {\"color\": \"rgb(8,48,107)\", \"width\": 1.5}}, \"opacity\": 0.6, \"orientation\": \"h\", \"text\": [0.1279, 0.1177, 0.0669, 0.0465, 0.0436, 0.0378, 0.0363, 0.0334, 0.032, 0.0276, 0.0262, 0.0262, 0.0233, 0.0218, 0.0218, 0.0218, 0.0203, 0.0203, 0.0203, 0.0189, 0.0189, 0.0174, 0.016, 0.016, 0.0145, 0.0145, 0.0145, 0.0145, 0.0102, 0.0102, 0.0102, 0.0087, 0.0087, 0.0087, 0.0073, 0.0073, 0.0058, 0.0044, 0.0015], \"textposition\": \"outside\", \"x\": [0.12790697813034058, 0.11773255467414856, 0.06686046719551086, 0.04651162773370743, 0.04360464960336685, 0.037790697067976, 0.03633720800280571, 0.03343023359775543, 0.031976744532585144, 0.02761627919971943, 0.02616279013454914, 0.02616279013454914, 0.023255813866853714, 0.021802324801683426, 0.021802324801683426, 0.021802324801683426, 0.020348837599158287, 0.020348837599158287, 0.020348837599158287, 0.018895348533988, 0.018895348533988, 0.01744186133146286, 0.015988372266292572, 0.015988372266292572, 0.014534884132444859, 0.014534884132444859, 0.014534884132444859, 0.014534884132444859, 0.010174418799579144, 0.010174418799579144, 0.010174418799579144, 0.00872093066573143, 0.00872093066573143, 0.00872093066573143, 0.007267442066222429, 0.007267442066222429, 0.0058139534667134285, 0.004360465332865715, 0.0014534883666783571], \"y\": [\"url_length\", \"url_char_w\", \"url_char_.\", \"a_href_out_of_domain\", \"link_type_text/css\", \"url_extensions\", \"http_header_server_apache\", \"http_header_content-length\", \"p_count\", \"http_header_content-encoding_gzip\", \"a_href_https\", \"input_count\", \"push\", \"img_src_http\", \"url_char_z\", \"a_href_relative\", \"url_char_i\", \"http_header_via_1.1\", \"link_href_out_of_domain\", \"http_header_cache-control_set_max-age\", \"li_count\", \"http_header_vary_user-agent\", \"a_href_http\", \"a_count\", \"script_src_https\", \"url_extension_endswith_.com\", \"title_count\", \"url_char_l\", \"url_char_p\", \"meta_count\", \"http_header_transfer-encoding_chunked\", \"url_char_f\", \"url_char_d\", \"script_count\", \"url_char_y\", \"center_count\", \"script_src_out_of_domain\", \"iframe_src_.html\", \"url_char_t\"], \"type\": \"bar\", \"uid\": \"c01e5e27-97c8-452c-a2df-367e8c92ded1\"}], {\"autosize\": false, \"height\": 1000, \"width\": 1000, \"xaxis\": {\"tickfont\": {\"color\": \"black\", \"size\": 12}, \"title\": \"Feature Importances\"}, \"yaxis\": {\"automargin\": true}}, {\"showLink\": true, \"linkText\": \"Export to plot.ly\", \"plotlyServerURL\": \"https://plot.ly\"})});</script>"
      ],
      "text/vnd.plotly.v1+html": [
       "<div id=\"1a503d52-f78c-4946-827a-2afc16119856\" style=\"height: 1000px; width: 1000px;\" class=\"plotly-graph-div\"></div><script type=\"text/javascript\">require([\"plotly\"], function(Plotly) { window.PLOTLYENV=window.PLOTLYENV || {};window.PLOTLYENV.BASE_URL=\"https://plot.ly\";Plotly.newPlot(\"1a503d52-f78c-4946-827a-2afc16119856\", [{\"marker\": {\"color\": \"rgb(158,202,225)\", \"line\": {\"color\": \"rgb(8,48,107)\", \"width\": 1.5}}, \"opacity\": 0.6, \"orientation\": \"h\", \"text\": [0.1279, 0.1177, 0.0669, 0.0465, 0.0436, 0.0378, 0.0363, 0.0334, 0.032, 0.0276, 0.0262, 0.0262, 0.0233, 0.0218, 0.0218, 0.0218, 0.0203, 0.0203, 0.0203, 0.0189, 0.0189, 0.0174, 0.016, 0.016, 0.0145, 0.0145, 0.0145, 0.0145, 0.0102, 0.0102, 0.0102, 0.0087, 0.0087, 0.0087, 0.0073, 0.0073, 0.0058, 0.0044, 0.0015], \"textposition\": \"outside\", \"x\": [0.12790697813034058, 0.11773255467414856, 0.06686046719551086, 0.04651162773370743, 0.04360464960336685, 0.037790697067976, 0.03633720800280571, 0.03343023359775543, 0.031976744532585144, 0.02761627919971943, 0.02616279013454914, 0.02616279013454914, 0.023255813866853714, 0.021802324801683426, 0.021802324801683426, 0.021802324801683426, 0.020348837599158287, 0.020348837599158287, 0.020348837599158287, 0.018895348533988, 0.018895348533988, 0.01744186133146286, 0.015988372266292572, 0.015988372266292572, 0.014534884132444859, 0.014534884132444859, 0.014534884132444859, 0.014534884132444859, 0.010174418799579144, 0.010174418799579144, 0.010174418799579144, 0.00872093066573143, 0.00872093066573143, 0.00872093066573143, 0.007267442066222429, 0.007267442066222429, 0.0058139534667134285, 0.004360465332865715, 0.0014534883666783571], \"y\": [\"url_length\", \"url_char_w\", \"url_char_.\", \"a_href_out_of_domain\", \"link_type_text/css\", \"url_extensions\", \"http_header_server_apache\", \"http_header_content-length\", \"p_count\", \"http_header_content-encoding_gzip\", \"a_href_https\", \"input_count\", \"push\", \"img_src_http\", \"url_char_z\", \"a_href_relative\", \"url_char_i\", \"http_header_via_1.1\", \"link_href_out_of_domain\", \"http_header_cache-control_set_max-age\", \"li_count\", \"http_header_vary_user-agent\", \"a_href_http\", \"a_count\", \"script_src_https\", \"url_extension_endswith_.com\", \"title_count\", \"url_char_l\", \"url_char_p\", \"meta_count\", \"http_header_transfer-encoding_chunked\", \"url_char_f\", \"url_char_d\", \"script_count\", \"url_char_y\", \"center_count\", \"script_src_out_of_domain\", \"iframe_src_.html\", \"url_char_t\"], \"type\": \"bar\", \"uid\": \"c01e5e27-97c8-452c-a2df-367e8c92ded1\"}], {\"autosize\": false, \"height\": 1000, \"width\": 1000, \"xaxis\": {\"tickfont\": {\"color\": \"black\", \"size\": 12}, \"title\": \"Feature Importances\"}, \"yaxis\": {\"automargin\": true}}, {\"showLink\": true, \"linkText\": \"Export to plot.ly\", \"plotlyServerURL\": \"https://plot.ly\"})});</script>"
      ]
     },
     "metadata": {},
     "output_type": "display_data"
    },
    {
     "name": "stdout",
     "output_type": "stream",
     "text": [
      "\n",
      "\n",
      "\u001b[1mBagging Classifier\u001b[0m\n",
      "Accuracy of the model for training data is: 0.9971926498468718\n",
      "Confusion Matrix for training data is:\n"
     ]
    },
    {
     "data": {
      "text/plain": [
       "Predicted  False  True  __all__\n",
       "Actual                         \n",
       "False      24315    12    24327\n",
       "True          65  3036     3101\n",
       "__all__    24380  3048    27428"
      ]
     },
     "metadata": {},
     "output_type": "display_data"
    },
    {
     "name": "stdout",
     "output_type": "stream",
     "text": [
      "Accuracy of the model for test data is: 0.9780518928115696\n",
      "Confusion Matrix for test data is:\n"
     ]
    },
    {
     "data": {
      "text/plain": [
       "Predicted  False  True  __all__\n",
       "Actual                         \n",
       "False      10337    78    10415\n",
       "True         180  1160     1340\n",
       "__all__    10517  1238    11755"
      ]
     },
     "metadata": {},
     "output_type": "display_data"
    },
    {
     "name": "stdout",
     "output_type": "stream",
     "text": [
      "\n",
      "\n",
      "\u001b[1mNeural Network-1\u001b[0m\n",
      "The accuracy of the model on training data is: 0.995442613387779\n"
     ]
    },
    {
     "data": {
      "text/plain": [
       "Predicted  False  True  __all__\n",
       "Actual                         \n",
       "False      24289    38    24327\n",
       "True          87  3014     3101\n",
       "__all__    24376  3052    27428"
      ]
     },
     "metadata": {},
     "output_type": "display_data"
    },
    {
     "name": "stdout",
     "output_type": "stream",
     "text": [
      "The accuracy of the model on test data is: 0.9730327520204168\n"
     ]
    },
    {
     "data": {
      "text/plain": [
       "Predicted  False  True  __all__\n",
       "Actual                         \n",
       "False      10288   127    10415\n",
       "True         190  1150     1340\n",
       "__all__    10478  1277    11755"
      ]
     },
     "metadata": {},
     "output_type": "display_data"
    },
    {
     "name": "stdout",
     "output_type": "stream",
     "text": [
      "\n",
      "\n"
     ]
    }
   ],
   "source": [
    "ind_columns=['KNeighborsClassifier','RandomForestClassifier','AdaBoostClassifier',\n",
    "             'GradientBoostingClassifier','ExtraTreeClassifier','XGB','BaggingClassifier','Neural Network-1']\n",
    "\n",
    "f=[KNN_model,RandomForest,AdaBoost,GradientBoosting, ExtraTree,XGB,Bagging,DeepLearning1]\n",
    "\n",
    "## Table to store training and test measures\n",
    "table_80_50_train=pd.DataFrame(columns=['accuracy','TP','TN','FP','FN','FPR','FNR'])\n",
    "table_80_50_test=pd.DataFrame(columns=['accuracy','TP','TN','FP','FN','FPR','FNR','auc','MCC','Precision','Recall'])\n",
    "\n",
    "feat_imp=[None]*5\n",
    "j=0\n",
    "for i in range(0,8):\n",
    "    if i>=1 and i<=5:\n",
    "        model,cm_train,cm_test,acc_train,acc_test,roc_auc,feat_imp[j],mcc,prec,rec=f[i](scaled_X_train,train_Y,scaled_X_test,test_Y,columns)\n",
    "        j=j+1\n",
    "    else:\n",
    "        model,cm_train,cm_test,acc_train,acc_test,roc_auc,mcc,prec,rec=f[i](scaled_X_train,train_Y,scaled_X_test,test_Y)\n",
    "    table_80_50_train.loc[i]=   ([acc_train,cm_train.TP,cm_train.TN,cm_train.FP,cm_train.FN,cm_train.FPR,cm_train.FNR])\n",
    "    table_80_50_test.loc[i] =   ([acc_test ,cm_test.TP, cm_test.TN, cm_test.FP, cm_test.FN, cm_test.FPR, cm_test.FNR,roc_auc,mcc,prec,rec])\n",
    "    print(\"\\n\")"
   ]
  },
  {
   "cell_type": "markdown",
   "metadata": {},
   "source": [
    "### <a id='1.A' style=\"text-decoration : none; color : #000000;\"> A. Results</a>"
   ]
  },
  {
   "cell_type": "code",
   "execution_count": 18,
   "metadata": {},
   "outputs": [
    {
     "data": {
      "application/vnd.plotly.v1+json": {
       "config": {
        "linkText": "Export to plot.ly",
        "plotlyServerURL": "https://plot.ly",
        "showLink": true
       },
       "data": [
        {
         "mode": "lines",
         "name": "KNN_model",
         "type": "scatter",
         "uid": "33be09a5-62ce-4540-baba-d6272d2dc9e8",
         "x": [
          "accuracy",
          "auc",
          "MCC",
          "Precision",
          "Recall"
         ],
         "y": [
          0.974478945129732,
          0.9192718596169416,
          0.8700267537570697,
          0.922077922077922,
          0.8477611940298507
         ]
        },
        {
         "mode": "lines+markers",
         "name": "XGB",
         "type": "scatter",
         "uid": "bcc06080-d0d4-42af-bff0-92dd832b2957",
         "x": [
          "accuracy",
          "auc",
          "MCC",
          "Precision",
          "Recall"
         ],
         "y": [
          0.9760102084219481,
          0.9191606179376761,
          0.8773938052237955,
          0.9379139072847682,
          0.8455223880597015
         ]
        },
        {
         "marker": {
          "symbol": "x"
         },
         "mode": "lines+markers",
         "name": "Random Forest",
         "type": "scatter",
         "uid": "71212c2d-9536-47ce-8200-77d7e89294f3",
         "x": [
          "accuracy",
          "auc",
          "MCC",
          "Precision",
          "Recall"
         ],
         "y": [
          0.9786473840918758,
          0.9245503758213255,
          0.8909661676385469,
          0.9533721898417985,
          0.8544776119402985
         ]
        },
        {
         "mode": "lines",
         "name": "Ada Boost",
         "type": "scatter",
         "uid": "b87adeb7-86c5-4ceb-be0c-12c0011a6943",
         "x": [
          "accuracy",
          "auc",
          "MCC",
          "Precision",
          "Recall"
         ],
         "y": [
          0.9716716290940025,
          0.9199634926662893,
          0.8572165629386853,
          0.893666927286943,
          0.8529850746268657
         ]
        },
        {
         "mode": "lines+markers",
         "name": "GradientBoosting",
         "type": "scatter",
         "uid": "9afbe99a-c304-4cc6-8518-6a2c6e2ced6c",
         "x": [
          "accuracy",
          "auc",
          "MCC",
          "Precision",
          "Recall"
         ],
         "y": [
          0.9751595065929392,
          0.9177051611839984,
          0.8730687833784292,
          0.9323432343234324,
          0.8432835820895522
         ]
        },
        {
         "marker": {
          "symbol": "x"
         },
         "mode": "lines+markers",
         "name": "ExtraTree Classifier",
         "type": "scatter",
         "uid": "c7ec830b-8a48-4f7b-a94a-d75dd2803191",
         "x": [
          "accuracy",
          "auc",
          "MCC",
          "Precision",
          "Recall"
         ],
         "y": [
          0.9781369629944704,
          0.9245874563810808,
          0.888427836795884,
          0.9478908188585607,
          0.8552238805970149
         ]
        },
        {
         "marker": {
          "symbol": "x"
         },
         "mode": "lines+markers",
         "name": "Bagging",
         "type": "scatter",
         "uid": "d0a77ace-1266-4999-bcdf-2d4983bbe342",
         "x": [
          "accuracy",
          "auc",
          "MCC",
          "Precision",
          "Recall"
         ],
         "y": [
          0.9780518928115696,
          0.9290912217596605,
          0.8884958479257973,
          0.9369951534733441,
          0.8656716417910447
         ]
        },
        {
         "marker": {
          "symbol": "x"
         },
         "mode": "lines+markers",
         "name": "Neural Network",
         "type": "scatter",
         "uid": "05929d03-4332-4c5a-9359-6fb1da0eaafc",
         "x": [
          "accuracy",
          "auc",
          "MCC",
          "Precision",
          "Recall"
         ],
         "y": [
          0.9730327520204168,
          0.9290912217596605,
          0.8640233036174804,
          0.9005481597494127,
          0.8582089552238806
         ]
        }
       ],
       "layout": {
        "title": "Result comparision for Features selected in Section 1",
        "yaxis": {
         "dtick": 0.05,
         "tick0": 0
        }
       }
      },
      "text/html": [
       "<div id=\"c6effcfd-e026-4804-91f9-25791348032a\" style=\"height: 525px; width: 100%;\" class=\"plotly-graph-div\"></div><script type=\"text/javascript\">require([\"plotly\"], function(Plotly) { window.PLOTLYENV=window.PLOTLYENV || {};window.PLOTLYENV.BASE_URL=\"https://plot.ly\";Plotly.newPlot(\"c6effcfd-e026-4804-91f9-25791348032a\", [{\"mode\": \"lines\", \"name\": \"KNN_model\", \"x\": [\"accuracy\", \"auc\", \"MCC\", \"Precision\", \"Recall\"], \"y\": [0.974478945129732, 0.9192718596169416, 0.8700267537570697, 0.922077922077922, 0.8477611940298507], \"type\": \"scatter\", \"uid\": \"33be09a5-62ce-4540-baba-d6272d2dc9e8\"}, {\"mode\": \"lines+markers\", \"name\": \"XGB\", \"x\": [\"accuracy\", \"auc\", \"MCC\", \"Precision\", \"Recall\"], \"y\": [0.9760102084219481, 0.9191606179376761, 0.8773938052237955, 0.9379139072847682, 0.8455223880597015], \"type\": \"scatter\", \"uid\": \"bcc06080-d0d4-42af-bff0-92dd832b2957\"}, {\"marker\": {\"symbol\": \"x\"}, \"mode\": \"lines+markers\", \"name\": \"Random Forest\", \"x\": [\"accuracy\", \"auc\", \"MCC\", \"Precision\", \"Recall\"], \"y\": [0.9786473840918758, 0.9245503758213255, 0.8909661676385469, 0.9533721898417985, 0.8544776119402985], \"type\": \"scatter\", \"uid\": \"71212c2d-9536-47ce-8200-77d7e89294f3\"}, {\"mode\": \"lines\", \"name\": \"Ada Boost\", \"x\": [\"accuracy\", \"auc\", \"MCC\", \"Precision\", \"Recall\"], \"y\": [0.9716716290940025, 0.9199634926662893, 0.8572165629386853, 0.893666927286943, 0.8529850746268657], \"type\": \"scatter\", \"uid\": \"b87adeb7-86c5-4ceb-be0c-12c0011a6943\"}, {\"mode\": \"lines+markers\", \"name\": \"GradientBoosting\", \"x\": [\"accuracy\", \"auc\", \"MCC\", \"Precision\", \"Recall\"], \"y\": [0.9751595065929392, 0.9177051611839984, 0.8730687833784292, 0.9323432343234324, 0.8432835820895522], \"type\": \"scatter\", \"uid\": \"9afbe99a-c304-4cc6-8518-6a2c6e2ced6c\"}, {\"marker\": {\"symbol\": \"x\"}, \"mode\": \"lines+markers\", \"name\": \"ExtraTree Classifier\", \"x\": [\"accuracy\", \"auc\", \"MCC\", \"Precision\", \"Recall\"], \"y\": [0.9781369629944704, 0.9245874563810808, 0.888427836795884, 0.9478908188585607, 0.8552238805970149], \"type\": \"scatter\", \"uid\": \"c7ec830b-8a48-4f7b-a94a-d75dd2803191\"}, {\"marker\": {\"symbol\": \"x\"}, \"mode\": \"lines+markers\", \"name\": \"Bagging\", \"x\": [\"accuracy\", \"auc\", \"MCC\", \"Precision\", \"Recall\"], \"y\": [0.9780518928115696, 0.9290912217596605, 0.8884958479257973, 0.9369951534733441, 0.8656716417910447], \"type\": \"scatter\", \"uid\": \"d0a77ace-1266-4999-bcdf-2d4983bbe342\"}, {\"marker\": {\"symbol\": \"x\"}, \"mode\": \"lines+markers\", \"name\": \"Neural Network\", \"x\": [\"accuracy\", \"auc\", \"MCC\", \"Precision\", \"Recall\"], \"y\": [0.9730327520204168, 0.9290912217596605, 0.8640233036174804, 0.9005481597494127, 0.8582089552238806], \"type\": \"scatter\", \"uid\": \"05929d03-4332-4c5a-9359-6fb1da0eaafc\"}], {\"title\": \"Result comparision for Features selected in Section 1\", \"yaxis\": {\"dtick\": 0.05, \"tick0\": 0}}, {\"showLink\": true, \"linkText\": \"Export to plot.ly\", \"plotlyServerURL\": \"https://plot.ly\"})});</script><script type=\"text/javascript\">window.addEventListener(\"resize\", function(){window._Plotly.Plots.resize(document.getElementById(\"c6effcfd-e026-4804-91f9-25791348032a\"));});</script>"
      ],
      "text/vnd.plotly.v1+html": [
       "<div id=\"c6effcfd-e026-4804-91f9-25791348032a\" style=\"height: 525px; width: 100%;\" class=\"plotly-graph-div\"></div><script type=\"text/javascript\">require([\"plotly\"], function(Plotly) { window.PLOTLYENV=window.PLOTLYENV || {};window.PLOTLYENV.BASE_URL=\"https://plot.ly\";Plotly.newPlot(\"c6effcfd-e026-4804-91f9-25791348032a\", [{\"mode\": \"lines\", \"name\": \"KNN_model\", \"x\": [\"accuracy\", \"auc\", \"MCC\", \"Precision\", \"Recall\"], \"y\": [0.974478945129732, 0.9192718596169416, 0.8700267537570697, 0.922077922077922, 0.8477611940298507], \"type\": \"scatter\", \"uid\": \"33be09a5-62ce-4540-baba-d6272d2dc9e8\"}, {\"mode\": \"lines+markers\", \"name\": \"XGB\", \"x\": [\"accuracy\", \"auc\", \"MCC\", \"Precision\", \"Recall\"], \"y\": [0.9760102084219481, 0.9191606179376761, 0.8773938052237955, 0.9379139072847682, 0.8455223880597015], \"type\": \"scatter\", \"uid\": \"bcc06080-d0d4-42af-bff0-92dd832b2957\"}, {\"marker\": {\"symbol\": \"x\"}, \"mode\": \"lines+markers\", \"name\": \"Random Forest\", \"x\": [\"accuracy\", \"auc\", \"MCC\", \"Precision\", \"Recall\"], \"y\": [0.9786473840918758, 0.9245503758213255, 0.8909661676385469, 0.9533721898417985, 0.8544776119402985], \"type\": \"scatter\", \"uid\": \"71212c2d-9536-47ce-8200-77d7e89294f3\"}, {\"mode\": \"lines\", \"name\": \"Ada Boost\", \"x\": [\"accuracy\", \"auc\", \"MCC\", \"Precision\", \"Recall\"], \"y\": [0.9716716290940025, 0.9199634926662893, 0.8572165629386853, 0.893666927286943, 0.8529850746268657], \"type\": \"scatter\", \"uid\": \"b87adeb7-86c5-4ceb-be0c-12c0011a6943\"}, {\"mode\": \"lines+markers\", \"name\": \"GradientBoosting\", \"x\": [\"accuracy\", \"auc\", \"MCC\", \"Precision\", \"Recall\"], \"y\": [0.9751595065929392, 0.9177051611839984, 0.8730687833784292, 0.9323432343234324, 0.8432835820895522], \"type\": \"scatter\", \"uid\": \"9afbe99a-c304-4cc6-8518-6a2c6e2ced6c\"}, {\"marker\": {\"symbol\": \"x\"}, \"mode\": \"lines+markers\", \"name\": \"ExtraTree Classifier\", \"x\": [\"accuracy\", \"auc\", \"MCC\", \"Precision\", \"Recall\"], \"y\": [0.9781369629944704, 0.9245874563810808, 0.888427836795884, 0.9478908188585607, 0.8552238805970149], \"type\": \"scatter\", \"uid\": \"c7ec830b-8a48-4f7b-a94a-d75dd2803191\"}, {\"marker\": {\"symbol\": \"x\"}, \"mode\": \"lines+markers\", \"name\": \"Bagging\", \"x\": [\"accuracy\", \"auc\", \"MCC\", \"Precision\", \"Recall\"], \"y\": [0.9780518928115696, 0.9290912217596605, 0.8884958479257973, 0.9369951534733441, 0.8656716417910447], \"type\": \"scatter\", \"uid\": \"d0a77ace-1266-4999-bcdf-2d4983bbe342\"}, {\"marker\": {\"symbol\": \"x\"}, \"mode\": \"lines+markers\", \"name\": \"Neural Network\", \"x\": [\"accuracy\", \"auc\", \"MCC\", \"Precision\", \"Recall\"], \"y\": [0.9730327520204168, 0.9290912217596605, 0.8640233036174804, 0.9005481597494127, 0.8582089552238806], \"type\": \"scatter\", \"uid\": \"05929d03-4332-4c5a-9359-6fb1da0eaafc\"}], {\"title\": \"Result comparision for Features selected in Section 1\", \"yaxis\": {\"dtick\": 0.05, \"tick0\": 0}}, {\"showLink\": true, \"linkText\": \"Export to plot.ly\", \"plotlyServerURL\": \"https://plot.ly\"})});</script><script type=\"text/javascript\">window.addEventListener(\"resize\", function(){window._Plotly.Plots.resize(document.getElementById(\"c6effcfd-e026-4804-91f9-25791348032a\"));});</script>"
      ]
     },
     "metadata": {},
     "output_type": "display_data"
    }
   ],
   "source": [
    "trace0 = go.Scatter(x=table_80_50_test.iloc[0].index.values[[0,7,8,9,10]],\n",
    "                    y=table_80_50_test.iloc[0].values[[0,7,8,9,10]],\n",
    "                    mode = 'lines',\n",
    "                    name = 'KNN_model')\n",
    "\n",
    "\n",
    "trace2 = go.Scatter(x=table_80_50_test.iloc[1].index.values[[0,7,8,9,10]],\n",
    "                    y=table_80_50_test.iloc[1].values[[0,7,8,9,10]],\n",
    "                    mode = 'lines+markers',marker=dict(symbol='x'),\n",
    "                    name = 'Random Forest')\n",
    "\n",
    "\n",
    "trace3 = go.Scatter(x=table_80_50_test.iloc[2].index.values[[0,7,8,9,10]],\n",
    "                    y=table_80_50_test.iloc[2].values[[0,7,8,9,10]],\n",
    "                    mode = 'lines',\n",
    "                    name = 'Ada Boost')\n",
    "\n",
    "trace4 = go.Scatter(x=table_80_50_test.iloc[3].index.values[[0,7,8,9,10]],\n",
    "                    y=table_80_50_test.iloc[3].values[[0,7,8,9,10]],\n",
    "                    mode = 'lines+markers',\n",
    "                    name = 'GradientBoosting')\n",
    "\n",
    "trace5 = go.Scatter(x=table_80_50_test.iloc[4].index.values[[0,7,8,9,10]],\n",
    "                    y=table_80_50_test.iloc[4].values[[0,7,8,9,10]],\n",
    "                    mode = 'lines+markers',marker=dict(symbol='x'),\n",
    "                    name = 'ExtraTree Classifier')\n",
    "\n",
    "\n",
    "trace1 = go.Scatter(x=table_80_50_test.iloc[5].index.values[[0,7,8,9,10]],\n",
    "                    y=table_80_50_test.iloc[5].values[[0,7,8,9,10]],\n",
    "                    mode = 'lines+markers',\n",
    "                    name = 'XGB')\n",
    "\n",
    "\n",
    "trace6 = go.Scatter(x=table_80_50_test.iloc[6].index.values[[0,7,8,9,10]],\n",
    "                    y=table_80_50_test.iloc[6].values[[0,7,8,9,10]],\n",
    "                    mode = 'lines+markers',marker=dict(symbol='x'),\n",
    "                    name = 'Bagging')\n",
    "\n",
    "trace7 = go.Scatter(x=table_80_50_test.iloc[7].index.values[[0,7,8,9,10]],\n",
    "                    y=table_80_50_test.iloc[7].values[[0,7,8,9,10]],\n",
    "                    mode = 'lines+markers',marker=dict(symbol='x'),\n",
    "                    name = 'Neural Network')\n",
    "\n",
    "\n",
    "\n",
    "data = [trace0, trace1, trace2, trace3, trace4, trace5, trace6, trace7]\n",
    "layout = go.Layout(yaxis=dict(tick0=0,dtick=0.05),title='Result comparision for Features selected in Section 1')\n",
    "fig = go.Figure(data=data, layout=layout)\n",
    "\n",
    "iplot(fig, filename='Result')"
   ]
  },
  {
   "cell_type": "code",
   "execution_count": 19,
   "metadata": {},
   "outputs": [
    {
     "name": "stdout",
     "output_type": "stream",
     "text": [
      "Training Results\n"
     ]
    },
    {
     "data": {
      "text/html": [
       "<div>\n",
       "<style scoped>\n",
       "    .dataframe tbody tr th:only-of-type {\n",
       "        vertical-align: middle;\n",
       "    }\n",
       "\n",
       "    .dataframe tbody tr th {\n",
       "        vertical-align: top;\n",
       "    }\n",
       "\n",
       "    .dataframe thead th {\n",
       "        text-align: right;\n",
       "    }\n",
       "</style>\n",
       "<table border=\"1\" class=\"dataframe\">\n",
       "  <thead>\n",
       "    <tr style=\"text-align: right;\">\n",
       "      <th></th>\n",
       "      <th>accuracy</th>\n",
       "      <th>TP</th>\n",
       "      <th>TN</th>\n",
       "      <th>FP</th>\n",
       "      <th>FN</th>\n",
       "      <th>FPR</th>\n",
       "      <th>FNR</th>\n",
       "    </tr>\n",
       "    <tr>\n",
       "      <th>index</th>\n",
       "      <th></th>\n",
       "      <th></th>\n",
       "      <th></th>\n",
       "      <th></th>\n",
       "      <th></th>\n",
       "      <th></th>\n",
       "      <th></th>\n",
       "    </tr>\n",
       "  </thead>\n",
       "  <tbody>\n",
       "    <tr>\n",
       "      <th>KNeighborsClassifier</th>\n",
       "      <td>0.980312</td>\n",
       "      <td>2721.0</td>\n",
       "      <td>24167.0</td>\n",
       "      <td>160.0</td>\n",
       "      <td>380.0</td>\n",
       "      <td>0.006577</td>\n",
       "      <td>0.122541</td>\n",
       "    </tr>\n",
       "    <tr>\n",
       "      <th>RandomForestClassifier</th>\n",
       "      <td>0.997557</td>\n",
       "      <td>3041.0</td>\n",
       "      <td>24320.0</td>\n",
       "      <td>7.0</td>\n",
       "      <td>60.0</td>\n",
       "      <td>0.000288</td>\n",
       "      <td>0.019349</td>\n",
       "    </tr>\n",
       "    <tr>\n",
       "      <th>AdaBoostClassifier</th>\n",
       "      <td>0.973458</td>\n",
       "      <td>2669.0</td>\n",
       "      <td>24031.0</td>\n",
       "      <td>296.0</td>\n",
       "      <td>432.0</td>\n",
       "      <td>0.012168</td>\n",
       "      <td>0.139310</td>\n",
       "    </tr>\n",
       "    <tr>\n",
       "      <th>GradientBoostingClassifier</th>\n",
       "      <td>0.979109</td>\n",
       "      <td>2690.0</td>\n",
       "      <td>24165.0</td>\n",
       "      <td>162.0</td>\n",
       "      <td>411.0</td>\n",
       "      <td>0.006659</td>\n",
       "      <td>0.132538</td>\n",
       "    </tr>\n",
       "    <tr>\n",
       "      <th>ExtraTreeClassifier</th>\n",
       "      <td>0.999453</td>\n",
       "      <td>3088.0</td>\n",
       "      <td>24325.0</td>\n",
       "      <td>2.0</td>\n",
       "      <td>13.0</td>\n",
       "      <td>0.000082</td>\n",
       "      <td>0.004192</td>\n",
       "    </tr>\n",
       "    <tr>\n",
       "      <th>XGB</th>\n",
       "      <td>0.979437</td>\n",
       "      <td>2681.0</td>\n",
       "      <td>24183.0</td>\n",
       "      <td>144.0</td>\n",
       "      <td>420.0</td>\n",
       "      <td>0.005919</td>\n",
       "      <td>0.135440</td>\n",
       "    </tr>\n",
       "    <tr>\n",
       "      <th>BaggingClassifier</th>\n",
       "      <td>0.997193</td>\n",
       "      <td>3036.0</td>\n",
       "      <td>24315.0</td>\n",
       "      <td>12.0</td>\n",
       "      <td>65.0</td>\n",
       "      <td>0.000493</td>\n",
       "      <td>0.020961</td>\n",
       "    </tr>\n",
       "    <tr>\n",
       "      <th>Neural Network-1</th>\n",
       "      <td>0.995443</td>\n",
       "      <td>3014.0</td>\n",
       "      <td>24289.0</td>\n",
       "      <td>38.0</td>\n",
       "      <td>87.0</td>\n",
       "      <td>0.001562</td>\n",
       "      <td>0.028055</td>\n",
       "    </tr>\n",
       "  </tbody>\n",
       "</table>\n",
       "</div>"
      ],
      "text/plain": [
       "                            accuracy      TP       TN     FP     FN       FPR  \\\n",
       "index                                                                           \n",
       "KNeighborsClassifier        0.980312  2721.0  24167.0  160.0  380.0  0.006577   \n",
       "RandomForestClassifier      0.997557  3041.0  24320.0    7.0   60.0  0.000288   \n",
       "AdaBoostClassifier          0.973458  2669.0  24031.0  296.0  432.0  0.012168   \n",
       "GradientBoostingClassifier  0.979109  2690.0  24165.0  162.0  411.0  0.006659   \n",
       "ExtraTreeClassifier         0.999453  3088.0  24325.0    2.0   13.0  0.000082   \n",
       "XGB                         0.979437  2681.0  24183.0  144.0  420.0  0.005919   \n",
       "BaggingClassifier           0.997193  3036.0  24315.0   12.0   65.0  0.000493   \n",
       "Neural Network-1            0.995443  3014.0  24289.0   38.0   87.0  0.001562   \n",
       "\n",
       "                                 FNR  \n",
       "index                                 \n",
       "KNeighborsClassifier        0.122541  \n",
       "RandomForestClassifier      0.019349  \n",
       "AdaBoostClassifier          0.139310  \n",
       "GradientBoostingClassifier  0.132538  \n",
       "ExtraTreeClassifier         0.004192  \n",
       "XGB                         0.135440  \n",
       "BaggingClassifier           0.020961  \n",
       "Neural Network-1            0.028055  "
      ]
     },
     "metadata": {},
     "output_type": "display_data"
    },
    {
     "name": "stdout",
     "output_type": "stream",
     "text": [
      "Test Results\n"
     ]
    },
    {
     "data": {
      "text/html": [
       "<div>\n",
       "<style scoped>\n",
       "    .dataframe tbody tr th:only-of-type {\n",
       "        vertical-align: middle;\n",
       "    }\n",
       "\n",
       "    .dataframe tbody tr th {\n",
       "        vertical-align: top;\n",
       "    }\n",
       "\n",
       "    .dataframe thead th {\n",
       "        text-align: right;\n",
       "    }\n",
       "</style>\n",
       "<table border=\"1\" class=\"dataframe\">\n",
       "  <thead>\n",
       "    <tr style=\"text-align: right;\">\n",
       "      <th></th>\n",
       "      <th>accuracy</th>\n",
       "      <th>TP</th>\n",
       "      <th>TN</th>\n",
       "      <th>FP</th>\n",
       "      <th>FN</th>\n",
       "      <th>FPR</th>\n",
       "      <th>FNR</th>\n",
       "      <th>auc</th>\n",
       "      <th>MCC</th>\n",
       "      <th>Precision</th>\n",
       "      <th>Recall</th>\n",
       "    </tr>\n",
       "    <tr>\n",
       "      <th>index</th>\n",
       "      <th></th>\n",
       "      <th></th>\n",
       "      <th></th>\n",
       "      <th></th>\n",
       "      <th></th>\n",
       "      <th></th>\n",
       "      <th></th>\n",
       "      <th></th>\n",
       "      <th></th>\n",
       "      <th></th>\n",
       "      <th></th>\n",
       "    </tr>\n",
       "  </thead>\n",
       "  <tbody>\n",
       "    <tr>\n",
       "      <th>KNeighborsClassifier</th>\n",
       "      <td>0.974479</td>\n",
       "      <td>1136.0</td>\n",
       "      <td>10319.0</td>\n",
       "      <td>96.0</td>\n",
       "      <td>204.0</td>\n",
       "      <td>0.009217</td>\n",
       "      <td>0.152239</td>\n",
       "      <td>0.919272</td>\n",
       "      <td>0.870027</td>\n",
       "      <td>0.922078</td>\n",
       "      <td>0.847761</td>\n",
       "    </tr>\n",
       "    <tr>\n",
       "      <th>RandomForestClassifier</th>\n",
       "      <td>0.978647</td>\n",
       "      <td>1145.0</td>\n",
       "      <td>10359.0</td>\n",
       "      <td>56.0</td>\n",
       "      <td>195.0</td>\n",
       "      <td>0.005377</td>\n",
       "      <td>0.145522</td>\n",
       "      <td>0.924550</td>\n",
       "      <td>0.890966</td>\n",
       "      <td>0.953372</td>\n",
       "      <td>0.854478</td>\n",
       "    </tr>\n",
       "    <tr>\n",
       "      <th>AdaBoostClassifier</th>\n",
       "      <td>0.971672</td>\n",
       "      <td>1143.0</td>\n",
       "      <td>10279.0</td>\n",
       "      <td>136.0</td>\n",
       "      <td>197.0</td>\n",
       "      <td>0.013058</td>\n",
       "      <td>0.147015</td>\n",
       "      <td>0.919963</td>\n",
       "      <td>0.857217</td>\n",
       "      <td>0.893667</td>\n",
       "      <td>0.852985</td>\n",
       "    </tr>\n",
       "    <tr>\n",
       "      <th>GradientBoostingClassifier</th>\n",
       "      <td>0.975160</td>\n",
       "      <td>1130.0</td>\n",
       "      <td>10333.0</td>\n",
       "      <td>82.0</td>\n",
       "      <td>210.0</td>\n",
       "      <td>0.007873</td>\n",
       "      <td>0.156716</td>\n",
       "      <td>0.917705</td>\n",
       "      <td>0.873069</td>\n",
       "      <td>0.932343</td>\n",
       "      <td>0.843284</td>\n",
       "    </tr>\n",
       "    <tr>\n",
       "      <th>ExtraTreeClassifier</th>\n",
       "      <td>0.978137</td>\n",
       "      <td>1146.0</td>\n",
       "      <td>10352.0</td>\n",
       "      <td>63.0</td>\n",
       "      <td>194.0</td>\n",
       "      <td>0.006049</td>\n",
       "      <td>0.144776</td>\n",
       "      <td>0.924587</td>\n",
       "      <td>0.888428</td>\n",
       "      <td>0.947891</td>\n",
       "      <td>0.855224</td>\n",
       "    </tr>\n",
       "    <tr>\n",
       "      <th>XGB</th>\n",
       "      <td>0.976010</td>\n",
       "      <td>1133.0</td>\n",
       "      <td>10340.0</td>\n",
       "      <td>75.0</td>\n",
       "      <td>207.0</td>\n",
       "      <td>0.007201</td>\n",
       "      <td>0.154478</td>\n",
       "      <td>0.919161</td>\n",
       "      <td>0.877394</td>\n",
       "      <td>0.937914</td>\n",
       "      <td>0.845522</td>\n",
       "    </tr>\n",
       "    <tr>\n",
       "      <th>BaggingClassifier</th>\n",
       "      <td>0.978052</td>\n",
       "      <td>1160.0</td>\n",
       "      <td>10337.0</td>\n",
       "      <td>78.0</td>\n",
       "      <td>180.0</td>\n",
       "      <td>0.007489</td>\n",
       "      <td>0.134328</td>\n",
       "      <td>0.929091</td>\n",
       "      <td>0.888496</td>\n",
       "      <td>0.936995</td>\n",
       "      <td>0.865672</td>\n",
       "    </tr>\n",
       "    <tr>\n",
       "      <th>Neural Network-1</th>\n",
       "      <td>0.973033</td>\n",
       "      <td>1150.0</td>\n",
       "      <td>10288.0</td>\n",
       "      <td>127.0</td>\n",
       "      <td>190.0</td>\n",
       "      <td>0.012194</td>\n",
       "      <td>0.141791</td>\n",
       "      <td>0.929091</td>\n",
       "      <td>0.864023</td>\n",
       "      <td>0.900548</td>\n",
       "      <td>0.858209</td>\n",
       "    </tr>\n",
       "  </tbody>\n",
       "</table>\n",
       "</div>"
      ],
      "text/plain": [
       "                            accuracy      TP       TN     FP     FN       FPR  \\\n",
       "index                                                                           \n",
       "KNeighborsClassifier        0.974479  1136.0  10319.0   96.0  204.0  0.009217   \n",
       "RandomForestClassifier      0.978647  1145.0  10359.0   56.0  195.0  0.005377   \n",
       "AdaBoostClassifier          0.971672  1143.0  10279.0  136.0  197.0  0.013058   \n",
       "GradientBoostingClassifier  0.975160  1130.0  10333.0   82.0  210.0  0.007873   \n",
       "ExtraTreeClassifier         0.978137  1146.0  10352.0   63.0  194.0  0.006049   \n",
       "XGB                         0.976010  1133.0  10340.0   75.0  207.0  0.007201   \n",
       "BaggingClassifier           0.978052  1160.0  10337.0   78.0  180.0  0.007489   \n",
       "Neural Network-1            0.973033  1150.0  10288.0  127.0  190.0  0.012194   \n",
       "\n",
       "                                 FNR       auc       MCC  Precision    Recall  \n",
       "index                                                                          \n",
       "KNeighborsClassifier        0.152239  0.919272  0.870027   0.922078  0.847761  \n",
       "RandomForestClassifier      0.145522  0.924550  0.890966   0.953372  0.854478  \n",
       "AdaBoostClassifier          0.147015  0.919963  0.857217   0.893667  0.852985  \n",
       "GradientBoostingClassifier  0.156716  0.917705  0.873069   0.932343  0.843284  \n",
       "ExtraTreeClassifier         0.144776  0.924587  0.888428   0.947891  0.855224  \n",
       "XGB                         0.154478  0.919161  0.877394   0.937914  0.845522  \n",
       "BaggingClassifier           0.134328  0.929091  0.888496   0.936995  0.865672  \n",
       "Neural Network-1            0.141791  0.929091  0.864023   0.900548  0.858209  "
      ]
     },
     "metadata": {},
     "output_type": "display_data"
    }
   ],
   "source": [
    "table_80_50_train['index']=ind_columns\n",
    "table_80_50_test['index']=ind_columns\n",
    "\n",
    "\n",
    "table_80_50_test.set_index(['index'],drop=True,inplace=True)\n",
    "table_80_50_train.set_index(['index'],drop=True,inplace=True)\n",
    "\n",
    "print(\"Training Results\")\n",
    "display(table_80_50_train)\n",
    "print(\"Test Results\")\n",
    "display(table_80_50_test)"
   ]
  },
  {
   "cell_type": "markdown",
   "metadata": {},
   "source": [
    "### <a id='1.B' style=\"text-decoration : none; color : #000000;\"> B. Average Feature Importances</a>"
   ]
  },
  {
   "cell_type": "code",
   "execution_count": 20,
   "metadata": {},
   "outputs": [
    {
     "data": {
      "application/vnd.plotly.v1+json": {
       "config": {
        "linkText": "Export to plot.ly",
        "plotlyServerURL": "https://plot.ly",
        "showLink": true
       },
       "data": [
        {
         "marker": {
          "color": "rgb(158,202,225)",
          "line": {
           "color": "rgb(8,48,107)",
           "width": 1.5
          }
         },
         "opacity": 0.6,
         "orientation": "h",
         "text": [
          0.148,
          0.1146,
          0.0784,
          0.0686,
          0.0417,
          0.0384,
          0.0351,
          0.029,
          0.025,
          0.0232,
          0.023,
          0.0225,
          0.0225,
          0.0206,
          0.0197,
          0.0173,
          0.017,
          0.0169,
          0.0164,
          0.016,
          0.0153,
          0.0149,
          0.0146,
          0.0137,
          0.0134,
          0.0124,
          0.0121,
          0.0114,
          0.0111,
          0.0109,
          0.0104,
          0.0102,
          0.0102,
          0.0098,
          0.0096,
          0.008,
          0.0064,
          0.0063,
          0.0055
         ],
         "textposition": "outside",
         "type": "bar",
         "uid": "a9ecf8fc-f69f-4d80-b322-d7c114d64a7b",
         "x": [
          0.14798941774281477,
          0.11464294939740519,
          0.07836146271847841,
          0.06859477273975192,
          0.041685909856889414,
          0.038414487551009485,
          0.03509081478235147,
          0.02895515263514979,
          0.024969279369124124,
          0.0231926887042,
          0.02304923698570068,
          0.02250799420241869,
          0.02246134922428474,
          0.02059707421182081,
          0.019747185742038383,
          0.017337494647823224,
          0.01695162149053387,
          0.016929956971181704,
          0.016358995048557486,
          0.016020798999330475,
          0.015302390510545178,
          0.014933310224166552,
          0.014634771434244579,
          0.01368435684177873,
          0.013378062691738319,
          0.012376379723024605,
          0.012053463960721938,
          0.011426194172767445,
          0.011084955556786649,
          0.010897543632890071,
          0.010385720291808506,
          0.010234616492965412,
          0.01022059813450649,
          0.009778365077356624,
          0.009550133093284984,
          0.00803421859820263,
          0.006374830429124706,
          0.006325995984177909,
          0.005465450175610157
         ],
         "y": [
          "url_extensions",
          "url_length",
          "title_count",
          "url_char_w",
          "url_char_.",
          "a_href_out_of_domain",
          "http_header_content-encoding_gzip",
          "meta_count",
          "url_char_z",
          "http_header_content-length",
          "a_href_relative",
          "p_count",
          "http_header_server_apache",
          "push",
          "script_count",
          "a_href_https",
          "li_count",
          "a_count",
          "url_char_i",
          "link_type_text/css",
          "http_header_vary_user-agent",
          "http_header_transfer-encoding_chunked",
          "url_char_l",
          "a_href_http",
          "url_char_y",
          "url_extension_endswith_.com",
          "link_href_out_of_domain",
          "http_header_cache-control_set_max-age",
          "input_count",
          "script_src_out_of_domain",
          "img_src_http",
          "http_header_via_1.1",
          "url_char_d",
          "script_src_https",
          "url_char_f",
          "url_char_p",
          "url_char_t",
          "center_count",
          "iframe_src_.html"
         ]
        }
       ],
       "layout": {
        "autosize": false,
        "height": 1000,
        "width": 1000,
        "xaxis": {
         "tickfont": {
          "color": "black",
          "size": 12
         },
         "title": "Feature Importances"
        },
        "yaxis": {
         "automargin": true
        }
       }
      },
      "text/html": [
       "<div id=\"15395fca-4bf4-4065-b8e2-cee76015e026\" style=\"height: 1000px; width: 1000px;\" class=\"plotly-graph-div\"></div><script type=\"text/javascript\">require([\"plotly\"], function(Plotly) { window.PLOTLYENV=window.PLOTLYENV || {};window.PLOTLYENV.BASE_URL=\"https://plot.ly\";Plotly.newPlot(\"15395fca-4bf4-4065-b8e2-cee76015e026\", [{\"marker\": {\"color\": \"rgb(158,202,225)\", \"line\": {\"color\": \"rgb(8,48,107)\", \"width\": 1.5}}, \"opacity\": 0.6, \"orientation\": \"h\", \"text\": [0.148, 0.1146, 0.0784, 0.0686, 0.0417, 0.0384, 0.0351, 0.029, 0.025, 0.0232, 0.023, 0.0225, 0.0225, 0.0206, 0.0197, 0.0173, 0.017, 0.0169, 0.0164, 0.016, 0.0153, 0.0149, 0.0146, 0.0137, 0.0134, 0.0124, 0.0121, 0.0114, 0.0111, 0.0109, 0.0104, 0.0102, 0.0102, 0.0098, 0.0096, 0.008, 0.0064, 0.0063, 0.0055], \"textposition\": \"outside\", \"x\": [0.14798941774281477, 0.11464294939740519, 0.07836146271847841, 0.06859477273975192, 0.041685909856889414, 0.038414487551009485, 0.03509081478235147, 0.02895515263514979, 0.024969279369124124, 0.0231926887042, 0.02304923698570068, 0.02250799420241869, 0.02246134922428474, 0.02059707421182081, 0.019747185742038383, 0.017337494647823224, 0.01695162149053387, 0.016929956971181704, 0.016358995048557486, 0.016020798999330475, 0.015302390510545178, 0.014933310224166552, 0.014634771434244579, 0.01368435684177873, 0.013378062691738319, 0.012376379723024605, 0.012053463960721938, 0.011426194172767445, 0.011084955556786649, 0.010897543632890071, 0.010385720291808506, 0.010234616492965412, 0.01022059813450649, 0.009778365077356624, 0.009550133093284984, 0.00803421859820263, 0.006374830429124706, 0.006325995984177909, 0.005465450175610157], \"y\": [\"url_extensions\", \"url_length\", \"title_count\", \"url_char_w\", \"url_char_.\", \"a_href_out_of_domain\", \"http_header_content-encoding_gzip\", \"meta_count\", \"url_char_z\", \"http_header_content-length\", \"a_href_relative\", \"p_count\", \"http_header_server_apache\", \"push\", \"script_count\", \"a_href_https\", \"li_count\", \"a_count\", \"url_char_i\", \"link_type_text/css\", \"http_header_vary_user-agent\", \"http_header_transfer-encoding_chunked\", \"url_char_l\", \"a_href_http\", \"url_char_y\", \"url_extension_endswith_.com\", \"link_href_out_of_domain\", \"http_header_cache-control_set_max-age\", \"input_count\", \"script_src_out_of_domain\", \"img_src_http\", \"http_header_via_1.1\", \"url_char_d\", \"script_src_https\", \"url_char_f\", \"url_char_p\", \"url_char_t\", \"center_count\", \"iframe_src_.html\"], \"type\": \"bar\", \"uid\": \"a9ecf8fc-f69f-4d80-b322-d7c114d64a7b\"}], {\"autosize\": false, \"height\": 1000, \"width\": 1000, \"xaxis\": {\"tickfont\": {\"color\": \"black\", \"size\": 12}, \"title\": \"Feature Importances\"}, \"yaxis\": {\"automargin\": true}}, {\"showLink\": true, \"linkText\": \"Export to plot.ly\", \"plotlyServerURL\": \"https://plot.ly\"})});</script>"
      ],
      "text/vnd.plotly.v1+html": [
       "<div id=\"15395fca-4bf4-4065-b8e2-cee76015e026\" style=\"height: 1000px; width: 1000px;\" class=\"plotly-graph-div\"></div><script type=\"text/javascript\">require([\"plotly\"], function(Plotly) { window.PLOTLYENV=window.PLOTLYENV || {};window.PLOTLYENV.BASE_URL=\"https://plot.ly\";Plotly.newPlot(\"15395fca-4bf4-4065-b8e2-cee76015e026\", [{\"marker\": {\"color\": \"rgb(158,202,225)\", \"line\": {\"color\": \"rgb(8,48,107)\", \"width\": 1.5}}, \"opacity\": 0.6, \"orientation\": \"h\", \"text\": [0.148, 0.1146, 0.0784, 0.0686, 0.0417, 0.0384, 0.0351, 0.029, 0.025, 0.0232, 0.023, 0.0225, 0.0225, 0.0206, 0.0197, 0.0173, 0.017, 0.0169, 0.0164, 0.016, 0.0153, 0.0149, 0.0146, 0.0137, 0.0134, 0.0124, 0.0121, 0.0114, 0.0111, 0.0109, 0.0104, 0.0102, 0.0102, 0.0098, 0.0096, 0.008, 0.0064, 0.0063, 0.0055], \"textposition\": \"outside\", \"x\": [0.14798941774281477, 0.11464294939740519, 0.07836146271847841, 0.06859477273975192, 0.041685909856889414, 0.038414487551009485, 0.03509081478235147, 0.02895515263514979, 0.024969279369124124, 0.0231926887042, 0.02304923698570068, 0.02250799420241869, 0.02246134922428474, 0.02059707421182081, 0.019747185742038383, 0.017337494647823224, 0.01695162149053387, 0.016929956971181704, 0.016358995048557486, 0.016020798999330475, 0.015302390510545178, 0.014933310224166552, 0.014634771434244579, 0.01368435684177873, 0.013378062691738319, 0.012376379723024605, 0.012053463960721938, 0.011426194172767445, 0.011084955556786649, 0.010897543632890071, 0.010385720291808506, 0.010234616492965412, 0.01022059813450649, 0.009778365077356624, 0.009550133093284984, 0.00803421859820263, 0.006374830429124706, 0.006325995984177909, 0.005465450175610157], \"y\": [\"url_extensions\", \"url_length\", \"title_count\", \"url_char_w\", \"url_char_.\", \"a_href_out_of_domain\", \"http_header_content-encoding_gzip\", \"meta_count\", \"url_char_z\", \"http_header_content-length\", \"a_href_relative\", \"p_count\", \"http_header_server_apache\", \"push\", \"script_count\", \"a_href_https\", \"li_count\", \"a_count\", \"url_char_i\", \"link_type_text/css\", \"http_header_vary_user-agent\", \"http_header_transfer-encoding_chunked\", \"url_char_l\", \"a_href_http\", \"url_char_y\", \"url_extension_endswith_.com\", \"link_href_out_of_domain\", \"http_header_cache-control_set_max-age\", \"input_count\", \"script_src_out_of_domain\", \"img_src_http\", \"http_header_via_1.1\", \"url_char_d\", \"script_src_https\", \"url_char_f\", \"url_char_p\", \"url_char_t\", \"center_count\", \"iframe_src_.html\"], \"type\": \"bar\", \"uid\": \"a9ecf8fc-f69f-4d80-b322-d7c114d64a7b\"}], {\"autosize\": false, \"height\": 1000, \"width\": 1000, \"xaxis\": {\"tickfont\": {\"color\": \"black\", \"size\": 12}, \"title\": \"Feature Importances\"}, \"yaxis\": {\"automargin\": true}}, {\"showLink\": true, \"linkText\": \"Export to plot.ly\", \"plotlyServerURL\": \"https://plot.ly\"})});</script>"
      ]
     },
     "metadata": {},
     "output_type": "display_data"
    }
   ],
   "source": [
    "feat_impt_plot(np.average(feat_imp,axis=0),columns)"
   ]
  },
  {
   "cell_type": "markdown",
   "metadata": {},
   "source": [
    "### <a id='2' style=\"text-decoration : none; color : #000000;\"> 2. OverSampling </a>"
   ]
  },
  {
   "cell_type": "code",
   "execution_count": 22,
   "metadata": {
    "scrolled": false
   },
   "outputs": [
    {
     "name": "stdout",
     "output_type": "stream",
     "text": [
      "\u001b[1mK-Nearest Neighbors\u001b[0m\n",
      "Accuracy of the model for training data is: 0.9801249640317343\n",
      "Confusion Matrix for training data is:\n"
     ]
    },
    {
     "data": {
      "text/plain": [
       "Predicted  False   True  __all__\n",
       "Actual                          \n",
       "False      23392    935    24327\n",
       "True          32  24295    24327\n",
       "__all__    23424  25230    48654"
      ]
     },
     "metadata": {},
     "output_type": "display_data"
    },
    {
     "name": "stdout",
     "output_type": "stream",
     "text": [
      "Accuracy of the model for test data is: 0.9441088898341131\n",
      "Confusion Matrix for test data is:\n"
     ]
    },
    {
     "data": {
      "text/plain": [
       "Predicted  False  True  __all__\n",
       "Actual                         \n",
       "False       9885   530    10415\n",
       "True         127  1213     1340\n",
       "__all__    10012  1743    11755"
      ]
     },
     "metadata": {},
     "output_type": "display_data"
    },
    {
     "name": "stdout",
     "output_type": "stream",
     "text": [
      "\n",
      "\n",
      "\u001b[1mRandomForest Classifier\u001b[0m\n",
      "Accuracy of the model for training data is: 0.9990134418547293\n",
      "Confusion Matrix for training data is:\n"
     ]
    },
    {
     "data": {
      "text/plain": [
       "Predicted  False   True  __all__\n",
       "Actual                          \n",
       "False      24316     11    24327\n",
       "True          37  24290    24327\n",
       "__all__    24353  24301    48654"
      ]
     },
     "metadata": {},
     "output_type": "display_data"
    },
    {
     "name": "stdout",
     "output_type": "stream",
     "text": [
      "Accuracy of the model for test data is: 0.9775414717141642\n",
      "Confusion Matrix for test data is:\n"
     ]
    },
    {
     "data": {
      "text/plain": [
       "Predicted  False  True  __all__\n",
       "Actual                         \n",
       "False      10326    89    10415\n",
       "True         175  1165     1340\n",
       "__all__    10501  1254    11755"
      ]
     },
     "metadata": {},
     "output_type": "display_data"
    },
    {
     "data": {
      "application/vnd.plotly.v1+json": {
       "config": {
        "linkText": "Export to plot.ly",
        "plotlyServerURL": "https://plot.ly",
        "showLink": true
       },
       "data": [
        {
         "marker": {
          "color": "rgb(158,202,225)",
          "line": {
           "color": "rgb(8,48,107)",
           "width": 1.5
          }
         },
         "opacity": 0.6,
         "orientation": "h",
         "text": [
          0.1338,
          0.1077,
          0.0662,
          0.0655,
          0.0642,
          0.0601,
          0.0597,
          0.0537,
          0.0532,
          0.0432,
          0.0429,
          0.0422,
          0.0189,
          0.0182,
          0.014,
          0.012,
          0.0119,
          0.0118,
          0.0117,
          0.0108,
          0.0086,
          0.0084,
          0.0078,
          0.0074,
          0.0072,
          0.0065,
          0.0061,
          0.0059,
          0.0058,
          0.0058,
          0.0057,
          0.0052,
          0.0044,
          0.0041,
          0.004,
          0.002,
          0.0018,
          0.0015,
          0.0003
         ],
         "textposition": "outside",
         "type": "bar",
         "uid": "f55f4ea3-bc2a-4b27-afbd-bc2bca458d9e",
         "x": [
          0.1337923668212294,
          0.10770566734000264,
          0.0661693839008923,
          0.06547527077933074,
          0.06417555608717805,
          0.06013415828417618,
          0.05970048909992378,
          0.05374168981906181,
          0.05321603082007672,
          0.04320151961693016,
          0.04293636339760596,
          0.042170316124194356,
          0.01886507391625514,
          0.018186105764799513,
          0.013965169795964946,
          0.011983439294716637,
          0.011878758404092367,
          0.011800581645764748,
          0.011690386524549503,
          0.010772242987694598,
          0.008553024634174657,
          0.008407066779354412,
          0.007800932602862942,
          0.007417388175359285,
          0.007170362504842101,
          0.0065193779290193205,
          0.006065604685262741,
          0.005934581685846107,
          0.0058105463863845404,
          0.005781201254464853,
          0.005749760171976948,
          0.005178239673971273,
          0.004362605533357333,
          0.004118182487372631,
          0.004007796176724289,
          0.001956042302333402,
          0.0018155022520790981,
          0.0014641047107196855,
          0.00032710962945457984
         ],
         "y": [
          "title_count",
          "script_src_out_of_domain",
          "a_count",
          "meta_count",
          "link_href_out_of_domain",
          "script_count",
          "a_href_out_of_domain",
          "url_length",
          "li_count",
          "url_extensions",
          "url_char_w",
          "url_char_.",
          "http_header_content-encoding_gzip",
          "url_char_i",
          "a_href_https",
          "http_header_transfer-encoding_chunked",
          "url_char_l",
          "url_char_z",
          "a_href_relative",
          "script_src_https",
          "url_char_t",
          "http_header_content-length",
          "url_extension_endswith_.com",
          "url_char_d",
          "img_src_http",
          "http_header_server_apache",
          "http_header_cache-control_set_max-age",
          "p_count",
          "url_char_p",
          "push",
          "link_type_text/css",
          "a_href_http",
          "url_char_f",
          "input_count",
          "url_char_y",
          "http_header_via_1.1",
          "center_count",
          "http_header_vary_user-agent",
          "iframe_src_.html"
         ]
        }
       ],
       "layout": {
        "autosize": false,
        "height": 1000,
        "width": 1000,
        "xaxis": {
         "tickfont": {
          "color": "black",
          "size": 12
         },
         "title": "Feature Importances"
        },
        "yaxis": {
         "automargin": true
        }
       }
      },
      "text/html": [
       "<div id=\"7b43377a-4a93-417b-907c-8a6e85756e21\" style=\"height: 1000px; width: 1000px;\" class=\"plotly-graph-div\"></div><script type=\"text/javascript\">require([\"plotly\"], function(Plotly) { window.PLOTLYENV=window.PLOTLYENV || {};window.PLOTLYENV.BASE_URL=\"https://plot.ly\";Plotly.newPlot(\"7b43377a-4a93-417b-907c-8a6e85756e21\", [{\"marker\": {\"color\": \"rgb(158,202,225)\", \"line\": {\"color\": \"rgb(8,48,107)\", \"width\": 1.5}}, \"opacity\": 0.6, \"orientation\": \"h\", \"text\": [0.1338, 0.1077, 0.0662, 0.0655, 0.0642, 0.0601, 0.0597, 0.0537, 0.0532, 0.0432, 0.0429, 0.0422, 0.0189, 0.0182, 0.014, 0.012, 0.0119, 0.0118, 0.0117, 0.0108, 0.0086, 0.0084, 0.0078, 0.0074, 0.0072, 0.0065, 0.0061, 0.0059, 0.0058, 0.0058, 0.0057, 0.0052, 0.0044, 0.0041, 0.004, 0.002, 0.0018, 0.0015, 0.0003], \"textposition\": \"outside\", \"x\": [0.1337923668212294, 0.10770566734000264, 0.0661693839008923, 0.06547527077933074, 0.06417555608717805, 0.06013415828417618, 0.05970048909992378, 0.05374168981906181, 0.05321603082007672, 0.04320151961693016, 0.04293636339760596, 0.042170316124194356, 0.01886507391625514, 0.018186105764799513, 0.013965169795964946, 0.011983439294716637, 0.011878758404092367, 0.011800581645764748, 0.011690386524549503, 0.010772242987694598, 0.008553024634174657, 0.008407066779354412, 0.007800932602862942, 0.007417388175359285, 0.007170362504842101, 0.0065193779290193205, 0.006065604685262741, 0.005934581685846107, 0.0058105463863845404, 0.005781201254464853, 0.005749760171976948, 0.005178239673971273, 0.004362605533357333, 0.004118182487372631, 0.004007796176724289, 0.001956042302333402, 0.0018155022520790981, 0.0014641047107196855, 0.00032710962945457984], \"y\": [\"title_count\", \"script_src_out_of_domain\", \"a_count\", \"meta_count\", \"link_href_out_of_domain\", \"script_count\", \"a_href_out_of_domain\", \"url_length\", \"li_count\", \"url_extensions\", \"url_char_w\", \"url_char_.\", \"http_header_content-encoding_gzip\", \"url_char_i\", \"a_href_https\", \"http_header_transfer-encoding_chunked\", \"url_char_l\", \"url_char_z\", \"a_href_relative\", \"script_src_https\", \"url_char_t\", \"http_header_content-length\", \"url_extension_endswith_.com\", \"url_char_d\", \"img_src_http\", \"http_header_server_apache\", \"http_header_cache-control_set_max-age\", \"p_count\", \"url_char_p\", \"push\", \"link_type_text/css\", \"a_href_http\", \"url_char_f\", \"input_count\", \"url_char_y\", \"http_header_via_1.1\", \"center_count\", \"http_header_vary_user-agent\", \"iframe_src_.html\"], \"type\": \"bar\", \"uid\": \"f55f4ea3-bc2a-4b27-afbd-bc2bca458d9e\"}], {\"autosize\": false, \"height\": 1000, \"width\": 1000, \"xaxis\": {\"tickfont\": {\"color\": \"black\", \"size\": 12}, \"title\": \"Feature Importances\"}, \"yaxis\": {\"automargin\": true}}, {\"showLink\": true, \"linkText\": \"Export to plot.ly\", \"plotlyServerURL\": \"https://plot.ly\"})});</script>"
      ],
      "text/vnd.plotly.v1+html": [
       "<div id=\"7b43377a-4a93-417b-907c-8a6e85756e21\" style=\"height: 1000px; width: 1000px;\" class=\"plotly-graph-div\"></div><script type=\"text/javascript\">require([\"plotly\"], function(Plotly) { window.PLOTLYENV=window.PLOTLYENV || {};window.PLOTLYENV.BASE_URL=\"https://plot.ly\";Plotly.newPlot(\"7b43377a-4a93-417b-907c-8a6e85756e21\", [{\"marker\": {\"color\": \"rgb(158,202,225)\", \"line\": {\"color\": \"rgb(8,48,107)\", \"width\": 1.5}}, \"opacity\": 0.6, \"orientation\": \"h\", \"text\": [0.1338, 0.1077, 0.0662, 0.0655, 0.0642, 0.0601, 0.0597, 0.0537, 0.0532, 0.0432, 0.0429, 0.0422, 0.0189, 0.0182, 0.014, 0.012, 0.0119, 0.0118, 0.0117, 0.0108, 0.0086, 0.0084, 0.0078, 0.0074, 0.0072, 0.0065, 0.0061, 0.0059, 0.0058, 0.0058, 0.0057, 0.0052, 0.0044, 0.0041, 0.004, 0.002, 0.0018, 0.0015, 0.0003], \"textposition\": \"outside\", \"x\": [0.1337923668212294, 0.10770566734000264, 0.0661693839008923, 0.06547527077933074, 0.06417555608717805, 0.06013415828417618, 0.05970048909992378, 0.05374168981906181, 0.05321603082007672, 0.04320151961693016, 0.04293636339760596, 0.042170316124194356, 0.01886507391625514, 0.018186105764799513, 0.013965169795964946, 0.011983439294716637, 0.011878758404092367, 0.011800581645764748, 0.011690386524549503, 0.010772242987694598, 0.008553024634174657, 0.008407066779354412, 0.007800932602862942, 0.007417388175359285, 0.007170362504842101, 0.0065193779290193205, 0.006065604685262741, 0.005934581685846107, 0.0058105463863845404, 0.005781201254464853, 0.005749760171976948, 0.005178239673971273, 0.004362605533357333, 0.004118182487372631, 0.004007796176724289, 0.001956042302333402, 0.0018155022520790981, 0.0014641047107196855, 0.00032710962945457984], \"y\": [\"title_count\", \"script_src_out_of_domain\", \"a_count\", \"meta_count\", \"link_href_out_of_domain\", \"script_count\", \"a_href_out_of_domain\", \"url_length\", \"li_count\", \"url_extensions\", \"url_char_w\", \"url_char_.\", \"http_header_content-encoding_gzip\", \"url_char_i\", \"a_href_https\", \"http_header_transfer-encoding_chunked\", \"url_char_l\", \"url_char_z\", \"a_href_relative\", \"script_src_https\", \"url_char_t\", \"http_header_content-length\", \"url_extension_endswith_.com\", \"url_char_d\", \"img_src_http\", \"http_header_server_apache\", \"http_header_cache-control_set_max-age\", \"p_count\", \"url_char_p\", \"push\", \"link_type_text/css\", \"a_href_http\", \"url_char_f\", \"input_count\", \"url_char_y\", \"http_header_via_1.1\", \"center_count\", \"http_header_vary_user-agent\", \"iframe_src_.html\"], \"type\": \"bar\", \"uid\": \"f55f4ea3-bc2a-4b27-afbd-bc2bca458d9e\"}], {\"autosize\": false, \"height\": 1000, \"width\": 1000, \"xaxis\": {\"tickfont\": {\"color\": \"black\", \"size\": 12}, \"title\": \"Feature Importances\"}, \"yaxis\": {\"automargin\": true}}, {\"showLink\": true, \"linkText\": \"Export to plot.ly\", \"plotlyServerURL\": \"https://plot.ly\"})});</script>"
      ]
     },
     "metadata": {},
     "output_type": "display_data"
    },
    {
     "name": "stdout",
     "output_type": "stream",
     "text": [
      "\n",
      "\n",
      "\u001b[1mAdaoost Classifier\u001b[0m\n",
      "Accuracy of the model for training data is: 0.9647716528959592\n",
      "Confusion Matrix for training data is:\n"
     ]
    },
    {
     "data": {
      "text/plain": [
       "Predicted  False   True  __all__\n",
       "Actual                          \n",
       "False      23410    917    24327\n",
       "True         797  23530    24327\n",
       "__all__    24207  24447    48654"
      ]
     },
     "metadata": {},
     "output_type": "display_data"
    },
    {
     "name": "stdout",
     "output_type": "stream",
     "text": [
      "Accuracy of the model for test data is: 0.9566992769034454\n",
      "Confusion Matrix for test data is:\n"
     ]
    },
    {
     "data": {
      "text/plain": [
       "Predicted  False  True  __all__\n",
       "Actual                         \n",
       "False      10036   379    10415\n",
       "True         130  1210     1340\n",
       "__all__    10166  1589    11755"
      ]
     },
     "metadata": {},
     "output_type": "display_data"
    },
    {
     "data": {
      "application/vnd.plotly.v1+json": {
       "config": {
        "linkText": "Export to plot.ly",
        "plotlyServerURL": "https://plot.ly",
        "showLink": true
       },
       "data": [
        {
         "marker": {
          "color": "rgb(158,202,225)",
          "line": {
           "color": "rgb(8,48,107)",
           "width": 1.5
          }
         },
         "opacity": 0.6,
         "orientation": "h",
         "text": [
          0.18,
          0.06,
          0.06,
          0.06,
          0.06,
          0.04,
          0.04,
          0.04,
          0.04,
          0.04,
          0.04,
          0.04,
          0.02,
          0.02,
          0.02,
          0.02,
          0.02,
          0.02,
          0.02,
          0.02,
          0.02,
          0.02,
          0.02,
          0.02,
          0.02,
          0.02,
          0.02,
          0,
          0,
          0,
          0,
          0,
          0,
          0,
          0,
          0,
          0,
          0,
          0
         ],
         "textposition": "outside",
         "type": "bar",
         "uid": "628e8168-a6d8-412d-9adf-6c7803fa368a",
         "x": [
          0.18,
          0.06,
          0.06,
          0.06,
          0.06,
          0.04,
          0.04,
          0.04,
          0.04,
          0.04,
          0.04,
          0.04,
          0.02,
          0.02,
          0.02,
          0.02,
          0.02,
          0.02,
          0.02,
          0.02,
          0.02,
          0.02,
          0.02,
          0.02,
          0.02,
          0.02,
          0.02,
          0,
          0,
          0,
          0,
          0,
          0,
          0,
          0,
          0,
          0,
          0,
          0
         ],
         "y": [
          "url_char_t",
          "url_length",
          "url_extensions",
          "url_char_w",
          "title_count",
          "link_type_text/css",
          "url_char_l",
          "url_char_i",
          "url_char_d",
          "p_count",
          "push",
          "img_src_http",
          "link_href_out_of_domain",
          "http_header_server_apache",
          "url_extension_endswith_.com",
          "url_char_z",
          "a_href_out_of_domain",
          "center_count",
          "url_char_f",
          "iframe_src_.html",
          "li_count",
          "http_header_vary_user-agent",
          "http_header_via_1.1",
          "http_header_content-length",
          "http_header_content-encoding_gzip",
          "a_count",
          "http_header_cache-control_set_max-age",
          "http_header_transfer-encoding_chunked",
          "url_char_.",
          "script_src_out_of_domain",
          "script_src_https",
          "a_href_relative",
          "url_char_p",
          "script_count",
          "a_href_https",
          "url_char_y",
          "input_count",
          "meta_count",
          "a_href_http"
         ]
        }
       ],
       "layout": {
        "autosize": false,
        "height": 1000,
        "width": 1000,
        "xaxis": {
         "tickfont": {
          "color": "black",
          "size": 12
         },
         "title": "Feature Importances"
        },
        "yaxis": {
         "automargin": true
        }
       }
      },
      "text/html": [
       "<div id=\"bebfa98f-ba91-4231-b4e2-5c9cb9e42c12\" style=\"height: 1000px; width: 1000px;\" class=\"plotly-graph-div\"></div><script type=\"text/javascript\">require([\"plotly\"], function(Plotly) { window.PLOTLYENV=window.PLOTLYENV || {};window.PLOTLYENV.BASE_URL=\"https://plot.ly\";Plotly.newPlot(\"bebfa98f-ba91-4231-b4e2-5c9cb9e42c12\", [{\"marker\": {\"color\": \"rgb(158,202,225)\", \"line\": {\"color\": \"rgb(8,48,107)\", \"width\": 1.5}}, \"opacity\": 0.6, \"orientation\": \"h\", \"text\": [0.18, 0.06, 0.06, 0.06, 0.06, 0.04, 0.04, 0.04, 0.04, 0.04, 0.04, 0.04, 0.02, 0.02, 0.02, 0.02, 0.02, 0.02, 0.02, 0.02, 0.02, 0.02, 0.02, 0.02, 0.02, 0.02, 0.02, 0.0, 0.0, 0.0, 0.0, 0.0, 0.0, 0.0, 0.0, 0.0, 0.0, 0.0, 0.0], \"textposition\": \"outside\", \"x\": [0.18, 0.06, 0.06, 0.06, 0.06, 0.04, 0.04, 0.04, 0.04, 0.04, 0.04, 0.04, 0.02, 0.02, 0.02, 0.02, 0.02, 0.02, 0.02, 0.02, 0.02, 0.02, 0.02, 0.02, 0.02, 0.02, 0.02, 0.0, 0.0, 0.0, 0.0, 0.0, 0.0, 0.0, 0.0, 0.0, 0.0, 0.0, 0.0], \"y\": [\"url_char_t\", \"url_length\", \"url_extensions\", \"url_char_w\", \"title_count\", \"link_type_text/css\", \"url_char_l\", \"url_char_i\", \"url_char_d\", \"p_count\", \"push\", \"img_src_http\", \"link_href_out_of_domain\", \"http_header_server_apache\", \"url_extension_endswith_.com\", \"url_char_z\", \"a_href_out_of_domain\", \"center_count\", \"url_char_f\", \"iframe_src_.html\", \"li_count\", \"http_header_vary_user-agent\", \"http_header_via_1.1\", \"http_header_content-length\", \"http_header_content-encoding_gzip\", \"a_count\", \"http_header_cache-control_set_max-age\", \"http_header_transfer-encoding_chunked\", \"url_char_.\", \"script_src_out_of_domain\", \"script_src_https\", \"a_href_relative\", \"url_char_p\", \"script_count\", \"a_href_https\", \"url_char_y\", \"input_count\", \"meta_count\", \"a_href_http\"], \"type\": \"bar\", \"uid\": \"628e8168-a6d8-412d-9adf-6c7803fa368a\"}], {\"autosize\": false, \"height\": 1000, \"width\": 1000, \"xaxis\": {\"tickfont\": {\"color\": \"black\", \"size\": 12}, \"title\": \"Feature Importances\"}, \"yaxis\": {\"automargin\": true}}, {\"showLink\": true, \"linkText\": \"Export to plot.ly\", \"plotlyServerURL\": \"https://plot.ly\"})});</script>"
      ],
      "text/vnd.plotly.v1+html": [
       "<div id=\"bebfa98f-ba91-4231-b4e2-5c9cb9e42c12\" style=\"height: 1000px; width: 1000px;\" class=\"plotly-graph-div\"></div><script type=\"text/javascript\">require([\"plotly\"], function(Plotly) { window.PLOTLYENV=window.PLOTLYENV || {};window.PLOTLYENV.BASE_URL=\"https://plot.ly\";Plotly.newPlot(\"bebfa98f-ba91-4231-b4e2-5c9cb9e42c12\", [{\"marker\": {\"color\": \"rgb(158,202,225)\", \"line\": {\"color\": \"rgb(8,48,107)\", \"width\": 1.5}}, \"opacity\": 0.6, \"orientation\": \"h\", \"text\": [0.18, 0.06, 0.06, 0.06, 0.06, 0.04, 0.04, 0.04, 0.04, 0.04, 0.04, 0.04, 0.02, 0.02, 0.02, 0.02, 0.02, 0.02, 0.02, 0.02, 0.02, 0.02, 0.02, 0.02, 0.02, 0.02, 0.02, 0.0, 0.0, 0.0, 0.0, 0.0, 0.0, 0.0, 0.0, 0.0, 0.0, 0.0, 0.0], \"textposition\": \"outside\", \"x\": [0.18, 0.06, 0.06, 0.06, 0.06, 0.04, 0.04, 0.04, 0.04, 0.04, 0.04, 0.04, 0.02, 0.02, 0.02, 0.02, 0.02, 0.02, 0.02, 0.02, 0.02, 0.02, 0.02, 0.02, 0.02, 0.02, 0.02, 0.0, 0.0, 0.0, 0.0, 0.0, 0.0, 0.0, 0.0, 0.0, 0.0, 0.0, 0.0], \"y\": [\"url_char_t\", \"url_length\", \"url_extensions\", \"url_char_w\", \"title_count\", \"link_type_text/css\", \"url_char_l\", \"url_char_i\", \"url_char_d\", \"p_count\", \"push\", \"img_src_http\", \"link_href_out_of_domain\", \"http_header_server_apache\", \"url_extension_endswith_.com\", \"url_char_z\", \"a_href_out_of_domain\", \"center_count\", \"url_char_f\", \"iframe_src_.html\", \"li_count\", \"http_header_vary_user-agent\", \"http_header_via_1.1\", \"http_header_content-length\", \"http_header_content-encoding_gzip\", \"a_count\", \"http_header_cache-control_set_max-age\", \"http_header_transfer-encoding_chunked\", \"url_char_.\", \"script_src_out_of_domain\", \"script_src_https\", \"a_href_relative\", \"url_char_p\", \"script_count\", \"a_href_https\", \"url_char_y\", \"input_count\", \"meta_count\", \"a_href_http\"], \"type\": \"bar\", \"uid\": \"628e8168-a6d8-412d-9adf-6c7803fa368a\"}], {\"autosize\": false, \"height\": 1000, \"width\": 1000, \"xaxis\": {\"tickfont\": {\"color\": \"black\", \"size\": 12}, \"title\": \"Feature Importances\"}, \"yaxis\": {\"automargin\": true}}, {\"showLink\": true, \"linkText\": \"Export to plot.ly\", \"plotlyServerURL\": \"https://plot.ly\"})});</script>"
      ]
     },
     "metadata": {},
     "output_type": "display_data"
    },
    {
     "name": "stdout",
     "output_type": "stream",
     "text": [
      "\n",
      "\n",
      "\u001b[1mGradientBoosting Classifier\u001b[0m\n",
      "Accuracy of the model for training data is: 0.9770625231224566\n",
      "Confusion Matrix for training data is:\n"
     ]
    },
    {
     "data": {
      "text/plain": [
       "Predicted  False   True  __all__\n",
       "Actual                          \n",
       "False      23767    560    24327\n",
       "True         556  23771    24327\n",
       "__all__    24323  24331    48654"
      ]
     },
     "metadata": {},
     "output_type": "display_data"
    },
    {
     "name": "stdout",
     "output_type": "stream",
     "text": [
      "Accuracy of the model for test data is: 0.9658868566567418\n",
      "Confusion Matrix for test data is:\n"
     ]
    },
    {
     "data": {
      "text/plain": [
       "Predicted  False  True  __all__\n",
       "Actual                         \n",
       "False      10156   259    10415\n",
       "True         142  1198     1340\n",
       "__all__    10298  1457    11755"
      ]
     },
     "metadata": {},
     "output_type": "display_data"
    },
    {
     "data": {
      "application/vnd.plotly.v1+json": {
       "config": {
        "linkText": "Export to plot.ly",
        "plotlyServerURL": "https://plot.ly",
        "showLink": true
       },
       "data": [
        {
         "marker": {
          "color": "rgb(158,202,225)",
          "line": {
           "color": "rgb(8,48,107)",
           "width": 1.5
          }
         },
         "opacity": 0.6,
         "orientation": "h",
         "text": [
          0.5608,
          0.0753,
          0.0675,
          0.0593,
          0.0523,
          0.0346,
          0.0209,
          0.0208,
          0.0184,
          0.0154,
          0.0139,
          0.0082,
          0.0071,
          0.0069,
          0.0053,
          0.0051,
          0.005,
          0.0044,
          0.0024,
          0.0022,
          0.0021,
          0.0017,
          0.0015,
          0.0014,
          0.0013,
          0.0011,
          0.0009,
          0.0009,
          0.0009,
          0.0006,
          0.0006,
          0.0004,
          0.0003,
          0.0002,
          0.0001,
          0.0001,
          0.0001,
          0,
          0
         ],
         "textposition": "outside",
         "type": "bar",
         "uid": "f38b7749-a73b-4052-bfe8-957040653ada",
         "x": [
          0.5607809739775613,
          0.07531266110531808,
          0.06751211777450625,
          0.05933753779213276,
          0.052270022756539664,
          0.03456195363259613,
          0.020893166172537097,
          0.020813847818721913,
          0.018389106167454792,
          0.015389887277751221,
          0.01389174253183259,
          0.00818238287871918,
          0.007082913552705594,
          0.006921392763660385,
          0.0052719410520704465,
          0.005095097297002202,
          0.004954192189387761,
          0.0043541927487022675,
          0.002383116448182112,
          0.002225816425289842,
          0.002133796547067705,
          0.0017280321507767225,
          0.0015464388306882931,
          0.0014105284850927642,
          0.0013302497080402576,
          0.0011468848687139629,
          0.0009166994661045443,
          0.0008989798982729471,
          0.0008611913286409689,
          0.0005732549396014785,
          0.0005723470492480475,
          0.0004459803181559854,
          0.00033742103838444614,
          0.00015877646308114012,
          0.00011867541263307319,
          0.00010558355014875248,
          9.109758267715838e-05,
          0,
          0
         ],
         "y": [
          "title_count",
          "url_char_w",
          "url_length",
          "url_extensions",
          "meta_count",
          "a_count",
          "a_href_out_of_domain",
          "link_href_out_of_domain",
          "push",
          "http_header_server_apache",
          "url_char_z",
          "url_char_i",
          "http_header_content-encoding_gzip",
          "url_char_.",
          "img_src_http",
          "http_header_cache-control_set_max-age",
          "a_href_relative",
          "url_extension_endswith_.com",
          "http_header_content-length",
          "http_header_vary_user-agent",
          "a_href_https",
          "url_char_l",
          "link_type_text/css",
          "http_header_via_1.1",
          "url_char_t",
          "http_header_transfer-encoding_chunked",
          "url_char_d",
          "a_href_http",
          "p_count",
          "center_count",
          "url_char_p",
          "url_char_f",
          "script_count",
          "script_src_out_of_domain",
          "li_count",
          "url_char_y",
          "script_src_https",
          "iframe_src_.html",
          "input_count"
         ]
        }
       ],
       "layout": {
        "autosize": false,
        "height": 1000,
        "width": 1000,
        "xaxis": {
         "tickfont": {
          "color": "black",
          "size": 12
         },
         "title": "Feature Importances"
        },
        "yaxis": {
         "automargin": true
        }
       }
      },
      "text/html": [
       "<div id=\"28f4fdb8-f952-465e-b7c3-eacce23e32b9\" style=\"height: 1000px; width: 1000px;\" class=\"plotly-graph-div\"></div><script type=\"text/javascript\">require([\"plotly\"], function(Plotly) { window.PLOTLYENV=window.PLOTLYENV || {};window.PLOTLYENV.BASE_URL=\"https://plot.ly\";Plotly.newPlot(\"28f4fdb8-f952-465e-b7c3-eacce23e32b9\", [{\"marker\": {\"color\": \"rgb(158,202,225)\", \"line\": {\"color\": \"rgb(8,48,107)\", \"width\": 1.5}}, \"opacity\": 0.6, \"orientation\": \"h\", \"text\": [0.5608, 0.0753, 0.0675, 0.0593, 0.0523, 0.0346, 0.0209, 0.0208, 0.0184, 0.0154, 0.0139, 0.0082, 0.0071, 0.0069, 0.0053, 0.0051, 0.005, 0.0044, 0.0024, 0.0022, 0.0021, 0.0017, 0.0015, 0.0014, 0.0013, 0.0011, 0.0009, 0.0009, 0.0009, 0.0006, 0.0006, 0.0004, 0.0003, 0.0002, 0.0001, 0.0001, 0.0001, 0.0, 0.0], \"textposition\": \"outside\", \"x\": [0.5607809739775613, 0.07531266110531808, 0.06751211777450625, 0.05933753779213276, 0.052270022756539664, 0.03456195363259613, 0.020893166172537097, 0.020813847818721913, 0.018389106167454792, 0.015389887277751221, 0.01389174253183259, 0.00818238287871918, 0.007082913552705594, 0.006921392763660385, 0.0052719410520704465, 0.005095097297002202, 0.004954192189387761, 0.0043541927487022675, 0.002383116448182112, 0.002225816425289842, 0.002133796547067705, 0.0017280321507767225, 0.0015464388306882931, 0.0014105284850927642, 0.0013302497080402576, 0.0011468848687139629, 0.0009166994661045443, 0.0008989798982729471, 0.0008611913286409689, 0.0005732549396014785, 0.0005723470492480475, 0.0004459803181559854, 0.00033742103838444614, 0.00015877646308114012, 0.00011867541263307319, 0.00010558355014875248, 9.109758267715838e-05, 0.0, 0.0], \"y\": [\"title_count\", \"url_char_w\", \"url_length\", \"url_extensions\", \"meta_count\", \"a_count\", \"a_href_out_of_domain\", \"link_href_out_of_domain\", \"push\", \"http_header_server_apache\", \"url_char_z\", \"url_char_i\", \"http_header_content-encoding_gzip\", \"url_char_.\", \"img_src_http\", \"http_header_cache-control_set_max-age\", \"a_href_relative\", \"url_extension_endswith_.com\", \"http_header_content-length\", \"http_header_vary_user-agent\", \"a_href_https\", \"url_char_l\", \"link_type_text/css\", \"http_header_via_1.1\", \"url_char_t\", \"http_header_transfer-encoding_chunked\", \"url_char_d\", \"a_href_http\", \"p_count\", \"center_count\", \"url_char_p\", \"url_char_f\", \"script_count\", \"script_src_out_of_domain\", \"li_count\", \"url_char_y\", \"script_src_https\", \"iframe_src_.html\", \"input_count\"], \"type\": \"bar\", \"uid\": \"f38b7749-a73b-4052-bfe8-957040653ada\"}], {\"autosize\": false, \"height\": 1000, \"width\": 1000, \"xaxis\": {\"tickfont\": {\"color\": \"black\", \"size\": 12}, \"title\": \"Feature Importances\"}, \"yaxis\": {\"automargin\": true}}, {\"showLink\": true, \"linkText\": \"Export to plot.ly\", \"plotlyServerURL\": \"https://plot.ly\"})});</script>"
      ],
      "text/vnd.plotly.v1+html": [
       "<div id=\"28f4fdb8-f952-465e-b7c3-eacce23e32b9\" style=\"height: 1000px; width: 1000px;\" class=\"plotly-graph-div\"></div><script type=\"text/javascript\">require([\"plotly\"], function(Plotly) { window.PLOTLYENV=window.PLOTLYENV || {};window.PLOTLYENV.BASE_URL=\"https://plot.ly\";Plotly.newPlot(\"28f4fdb8-f952-465e-b7c3-eacce23e32b9\", [{\"marker\": {\"color\": \"rgb(158,202,225)\", \"line\": {\"color\": \"rgb(8,48,107)\", \"width\": 1.5}}, \"opacity\": 0.6, \"orientation\": \"h\", \"text\": [0.5608, 0.0753, 0.0675, 0.0593, 0.0523, 0.0346, 0.0209, 0.0208, 0.0184, 0.0154, 0.0139, 0.0082, 0.0071, 0.0069, 0.0053, 0.0051, 0.005, 0.0044, 0.0024, 0.0022, 0.0021, 0.0017, 0.0015, 0.0014, 0.0013, 0.0011, 0.0009, 0.0009, 0.0009, 0.0006, 0.0006, 0.0004, 0.0003, 0.0002, 0.0001, 0.0001, 0.0001, 0.0, 0.0], \"textposition\": \"outside\", \"x\": [0.5607809739775613, 0.07531266110531808, 0.06751211777450625, 0.05933753779213276, 0.052270022756539664, 0.03456195363259613, 0.020893166172537097, 0.020813847818721913, 0.018389106167454792, 0.015389887277751221, 0.01389174253183259, 0.00818238287871918, 0.007082913552705594, 0.006921392763660385, 0.0052719410520704465, 0.005095097297002202, 0.004954192189387761, 0.0043541927487022675, 0.002383116448182112, 0.002225816425289842, 0.002133796547067705, 0.0017280321507767225, 0.0015464388306882931, 0.0014105284850927642, 0.0013302497080402576, 0.0011468848687139629, 0.0009166994661045443, 0.0008989798982729471, 0.0008611913286409689, 0.0005732549396014785, 0.0005723470492480475, 0.0004459803181559854, 0.00033742103838444614, 0.00015877646308114012, 0.00011867541263307319, 0.00010558355014875248, 9.109758267715838e-05, 0.0, 0.0], \"y\": [\"title_count\", \"url_char_w\", \"url_length\", \"url_extensions\", \"meta_count\", \"a_count\", \"a_href_out_of_domain\", \"link_href_out_of_domain\", \"push\", \"http_header_server_apache\", \"url_char_z\", \"url_char_i\", \"http_header_content-encoding_gzip\", \"url_char_.\", \"img_src_http\", \"http_header_cache-control_set_max-age\", \"a_href_relative\", \"url_extension_endswith_.com\", \"http_header_content-length\", \"http_header_vary_user-agent\", \"a_href_https\", \"url_char_l\", \"link_type_text/css\", \"http_header_via_1.1\", \"url_char_t\", \"http_header_transfer-encoding_chunked\", \"url_char_d\", \"a_href_http\", \"p_count\", \"center_count\", \"url_char_p\", \"url_char_f\", \"script_count\", \"script_src_out_of_domain\", \"li_count\", \"url_char_y\", \"script_src_https\", \"iframe_src_.html\", \"input_count\"], \"type\": \"bar\", \"uid\": \"f38b7749-a73b-4052-bfe8-957040653ada\"}], {\"autosize\": false, \"height\": 1000, \"width\": 1000, \"xaxis\": {\"tickfont\": {\"color\": \"black\", \"size\": 12}, \"title\": \"Feature Importances\"}, \"yaxis\": {\"automargin\": true}}, {\"showLink\": true, \"linkText\": \"Export to plot.ly\", \"plotlyServerURL\": \"https://plot.ly\"})});</script>"
      ]
     },
     "metadata": {},
     "output_type": "display_data"
    },
    {
     "name": "stdout",
     "output_type": "stream",
     "text": [
      "\n",
      "\n",
      "\u001b[1mExtraTree Classifier\u001b[0m\n",
      "Accuracy of the model for training data is: 0.9996917005796029\n",
      "Confusion Matrix for training data is:\n"
     ]
    },
    {
     "data": {
      "text/plain": [
       "Predicted  False   True  __all__\n",
       "Actual                          \n",
       "False      24325      2    24327\n",
       "True          13  24314    24327\n",
       "__all__    24338  24316    48654"
      ]
     },
     "metadata": {},
     "output_type": "display_data"
    },
    {
     "name": "stdout",
     "output_type": "stream",
     "text": [
      "Accuracy of the model for test data is: 0.9776265418970651\n",
      "Confusion Matrix for test data is:\n"
     ]
    },
    {
     "data": {
      "text/plain": [
       "Predicted  False  True  __all__\n",
       "Actual                         \n",
       "False      10339    76    10415\n",
       "True         187  1153     1340\n",
       "__all__    10526  1229    11755"
      ]
     },
     "metadata": {},
     "output_type": "display_data"
    },
    {
     "data": {
      "application/vnd.plotly.v1+json": {
       "config": {
        "linkText": "Export to plot.ly",
        "plotlyServerURL": "https://plot.ly",
        "showLink": true
       },
       "data": [
        {
         "marker": {
          "color": "rgb(158,202,225)",
          "line": {
           "color": "rgb(8,48,107)",
           "width": 1.5
          }
         },
         "opacity": 0.6,
         "orientation": "h",
         "text": [
          0.1854,
          0.0999,
          0.096,
          0.0613,
          0.0505,
          0.0497,
          0.0458,
          0.0431,
          0.026,
          0.0259,
          0.0257,
          0.0254,
          0.0183,
          0.018,
          0.0162,
          0.016,
          0.015,
          0.0136,
          0.0134,
          0.0123,
          0.0113,
          0.0106,
          0.0105,
          0.0101,
          0.0101,
          0.01,
          0.0098,
          0.0095,
          0.0093,
          0.0078,
          0.007,
          0.0057,
          0.005,
          0.005,
          0.005,
          0.0048,
          0.0046,
          0.0035,
          0.0026
         ],
         "textposition": "outside",
         "type": "bar",
         "uid": "e9f9d433-61fa-44bd-8f60-7fbe2f4767cb",
         "x": [
          0.18544506232605426,
          0.0998611097596667,
          0.09604000632458523,
          0.061309196823748045,
          0.050528343810630524,
          0.04967765420308713,
          0.04584222464843585,
          0.04308842915139279,
          0.02601981715813507,
          0.0258927840702294,
          0.02568602237526818,
          0.02539800976322574,
          0.018325675250949545,
          0.018042515694055173,
          0.01623559925048815,
          0.016031920768449105,
          0.014958894193403505,
          0.01362689491064697,
          0.01340989225062052,
          0.01229921753865999,
          0.011311773101092843,
          0.010555595258289214,
          0.010545258888492007,
          0.010133287752351425,
          0.01006184510783841,
          0.010019925844402349,
          0.00975662812068275,
          0.009476965389084387,
          0.009321911455516784,
          0.007848891391569019,
          0.00701290178409143,
          0.00573516094041843,
          0.005047237383050682,
          0.0050111069544268826,
          0.005001390359127672,
          0.004772655658177594,
          0.004561716320369741,
          0.0034707131696269907,
          0.002635764849659485
         ],
         "y": [
          "http_header_content-encoding_gzip",
          "http_header_transfer-encoding_chunked",
          "url_extensions",
          "url_char_w",
          "url_length",
          "http_header_cache-control_set_max-age",
          "script_src_out_of_domain",
          "url_char_.",
          "url_char_l",
          "url_char_z",
          "http_header_content-length",
          "url_extension_endswith_.com",
          "url_char_i",
          "http_header_server_apache",
          "script_count",
          "script_src_https",
          "url_char_y",
          "http_header_via_1.1",
          "http_header_vary_user-agent",
          "url_char_t",
          "meta_count",
          "title_count",
          "a_count",
          "url_char_d",
          "link_href_out_of_domain",
          "link_type_text/css",
          "url_char_p",
          "a_href_https",
          "url_char_f",
          "a_href_out_of_domain",
          "a_href_relative",
          "p_count",
          "input_count",
          "li_count",
          "img_src_http",
          "push",
          "a_href_http",
          "center_count",
          "iframe_src_.html"
         ]
        }
       ],
       "layout": {
        "autosize": false,
        "height": 1000,
        "width": 1000,
        "xaxis": {
         "tickfont": {
          "color": "black",
          "size": 12
         },
         "title": "Feature Importances"
        },
        "yaxis": {
         "automargin": true
        }
       }
      },
      "text/html": [
       "<div id=\"24c011db-1082-4953-bcbe-c811c9f04038\" style=\"height: 1000px; width: 1000px;\" class=\"plotly-graph-div\"></div><script type=\"text/javascript\">require([\"plotly\"], function(Plotly) { window.PLOTLYENV=window.PLOTLYENV || {};window.PLOTLYENV.BASE_URL=\"https://plot.ly\";Plotly.newPlot(\"24c011db-1082-4953-bcbe-c811c9f04038\", [{\"marker\": {\"color\": \"rgb(158,202,225)\", \"line\": {\"color\": \"rgb(8,48,107)\", \"width\": 1.5}}, \"opacity\": 0.6, \"orientation\": \"h\", \"text\": [0.1854, 0.0999, 0.096, 0.0613, 0.0505, 0.0497, 0.0458, 0.0431, 0.026, 0.0259, 0.0257, 0.0254, 0.0183, 0.018, 0.0162, 0.016, 0.015, 0.0136, 0.0134, 0.0123, 0.0113, 0.0106, 0.0105, 0.0101, 0.0101, 0.01, 0.0098, 0.0095, 0.0093, 0.0078, 0.007, 0.0057, 0.005, 0.005, 0.005, 0.0048, 0.0046, 0.0035, 0.0026], \"textposition\": \"outside\", \"x\": [0.18544506232605426, 0.0998611097596667, 0.09604000632458523, 0.061309196823748045, 0.050528343810630524, 0.04967765420308713, 0.04584222464843585, 0.04308842915139279, 0.02601981715813507, 0.0258927840702294, 0.02568602237526818, 0.02539800976322574, 0.018325675250949545, 0.018042515694055173, 0.01623559925048815, 0.016031920768449105, 0.014958894193403505, 0.01362689491064697, 0.01340989225062052, 0.01229921753865999, 0.011311773101092843, 0.010555595258289214, 0.010545258888492007, 0.010133287752351425, 0.01006184510783841, 0.010019925844402349, 0.00975662812068275, 0.009476965389084387, 0.009321911455516784, 0.007848891391569019, 0.00701290178409143, 0.00573516094041843, 0.005047237383050682, 0.0050111069544268826, 0.005001390359127672, 0.004772655658177594, 0.004561716320369741, 0.0034707131696269907, 0.002635764849659485], \"y\": [\"http_header_content-encoding_gzip\", \"http_header_transfer-encoding_chunked\", \"url_extensions\", \"url_char_w\", \"url_length\", \"http_header_cache-control_set_max-age\", \"script_src_out_of_domain\", \"url_char_.\", \"url_char_l\", \"url_char_z\", \"http_header_content-length\", \"url_extension_endswith_.com\", \"url_char_i\", \"http_header_server_apache\", \"script_count\", \"script_src_https\", \"url_char_y\", \"http_header_via_1.1\", \"http_header_vary_user-agent\", \"url_char_t\", \"meta_count\", \"title_count\", \"a_count\", \"url_char_d\", \"link_href_out_of_domain\", \"link_type_text/css\", \"url_char_p\", \"a_href_https\", \"url_char_f\", \"a_href_out_of_domain\", \"a_href_relative\", \"p_count\", \"input_count\", \"li_count\", \"img_src_http\", \"push\", \"a_href_http\", \"center_count\", \"iframe_src_.html\"], \"type\": \"bar\", \"uid\": \"e9f9d433-61fa-44bd-8f60-7fbe2f4767cb\"}], {\"autosize\": false, \"height\": 1000, \"width\": 1000, \"xaxis\": {\"tickfont\": {\"color\": \"black\", \"size\": 12}, \"title\": \"Feature Importances\"}, \"yaxis\": {\"automargin\": true}}, {\"showLink\": true, \"linkText\": \"Export to plot.ly\", \"plotlyServerURL\": \"https://plot.ly\"})});</script>"
      ],
      "text/vnd.plotly.v1+html": [
       "<div id=\"24c011db-1082-4953-bcbe-c811c9f04038\" style=\"height: 1000px; width: 1000px;\" class=\"plotly-graph-div\"></div><script type=\"text/javascript\">require([\"plotly\"], function(Plotly) { window.PLOTLYENV=window.PLOTLYENV || {};window.PLOTLYENV.BASE_URL=\"https://plot.ly\";Plotly.newPlot(\"24c011db-1082-4953-bcbe-c811c9f04038\", [{\"marker\": {\"color\": \"rgb(158,202,225)\", \"line\": {\"color\": \"rgb(8,48,107)\", \"width\": 1.5}}, \"opacity\": 0.6, \"orientation\": \"h\", \"text\": [0.1854, 0.0999, 0.096, 0.0613, 0.0505, 0.0497, 0.0458, 0.0431, 0.026, 0.0259, 0.0257, 0.0254, 0.0183, 0.018, 0.0162, 0.016, 0.015, 0.0136, 0.0134, 0.0123, 0.0113, 0.0106, 0.0105, 0.0101, 0.0101, 0.01, 0.0098, 0.0095, 0.0093, 0.0078, 0.007, 0.0057, 0.005, 0.005, 0.005, 0.0048, 0.0046, 0.0035, 0.0026], \"textposition\": \"outside\", \"x\": [0.18544506232605426, 0.0998611097596667, 0.09604000632458523, 0.061309196823748045, 0.050528343810630524, 0.04967765420308713, 0.04584222464843585, 0.04308842915139279, 0.02601981715813507, 0.0258927840702294, 0.02568602237526818, 0.02539800976322574, 0.018325675250949545, 0.018042515694055173, 0.01623559925048815, 0.016031920768449105, 0.014958894193403505, 0.01362689491064697, 0.01340989225062052, 0.01229921753865999, 0.011311773101092843, 0.010555595258289214, 0.010545258888492007, 0.010133287752351425, 0.01006184510783841, 0.010019925844402349, 0.00975662812068275, 0.009476965389084387, 0.009321911455516784, 0.007848891391569019, 0.00701290178409143, 0.00573516094041843, 0.005047237383050682, 0.0050111069544268826, 0.005001390359127672, 0.004772655658177594, 0.004561716320369741, 0.0034707131696269907, 0.002635764849659485], \"y\": [\"http_header_content-encoding_gzip\", \"http_header_transfer-encoding_chunked\", \"url_extensions\", \"url_char_w\", \"url_length\", \"http_header_cache-control_set_max-age\", \"script_src_out_of_domain\", \"url_char_.\", \"url_char_l\", \"url_char_z\", \"http_header_content-length\", \"url_extension_endswith_.com\", \"url_char_i\", \"http_header_server_apache\", \"script_count\", \"script_src_https\", \"url_char_y\", \"http_header_via_1.1\", \"http_header_vary_user-agent\", \"url_char_t\", \"meta_count\", \"title_count\", \"a_count\", \"url_char_d\", \"link_href_out_of_domain\", \"link_type_text/css\", \"url_char_p\", \"a_href_https\", \"url_char_f\", \"a_href_out_of_domain\", \"a_href_relative\", \"p_count\", \"input_count\", \"li_count\", \"img_src_http\", \"push\", \"a_href_http\", \"center_count\", \"iframe_src_.html\"], \"type\": \"bar\", \"uid\": \"e9f9d433-61fa-44bd-8f60-7fbe2f4767cb\"}], {\"autosize\": false, \"height\": 1000, \"width\": 1000, \"xaxis\": {\"tickfont\": {\"color\": \"black\", \"size\": 12}, \"title\": \"Feature Importances\"}, \"yaxis\": {\"automargin\": true}}, {\"showLink\": true, \"linkText\": \"Export to plot.ly\", \"plotlyServerURL\": \"https://plot.ly\"})});</script>"
      ]
     },
     "metadata": {},
     "output_type": "display_data"
    },
    {
     "name": "stdout",
     "output_type": "stream",
     "text": [
      "\n",
      "\n",
      "\u001b[1mXGB Classifier\u001b[0m\n",
      "Accuracy of the model for training data is: 0.976240391334731\n",
      "Confusion Matrix for training data is:\n"
     ]
    },
    {
     "data": {
      "text/plain": [
       "Predicted  False   True  __all__\n",
       "Actual                          \n",
       "False      23764    563    24327\n",
       "True         593  23734    24327\n",
       "__all__    24357  24297    48654"
      ]
     },
     "metadata": {},
     "output_type": "display_data"
    },
    {
     "name": "stdout",
     "output_type": "stream",
     "text": [
      "Accuracy of the model for test data is: 0.9655465759251383\n",
      "Confusion Matrix for test data is:\n"
     ]
    },
    {
     "data": {
      "text/plain": [
       "Predicted  False  True  __all__\n",
       "Actual                         \n",
       "False      10148   267    10415\n",
       "True         138  1202     1340\n",
       "__all__    10286  1469    11755"
      ]
     },
     "metadata": {},
     "output_type": "display_data"
    },
    {
     "data": {
      "application/vnd.plotly.v1+json": {
       "config": {
        "linkText": "Export to plot.ly",
        "plotlyServerURL": "https://plot.ly",
        "showLink": true
       },
       "data": [
        {
         "marker": {
          "color": "rgb(158,202,225)",
          "line": {
           "color": "rgb(8,48,107)",
           "width": 1.5
          }
         },
         "opacity": 0.6,
         "orientation": "h",
         "text": [
          0.1304,
          0.0855,
          0.0681,
          0.0652,
          0.042,
          0.0348,
          0.0333,
          0.029,
          0.029,
          0.029,
          0.0275,
          0.0275,
          0.0261,
          0.0261,
          0.0261,
          0.0261,
          0.0217,
          0.0217,
          0.0203,
          0.0188,
          0.0174,
          0.0159,
          0.0159,
          0.0159,
          0.0159,
          0.0159,
          0.0145,
          0.0145,
          0.013,
          0.013,
          0.0116,
          0.0116,
          0.0101,
          0.0072,
          0.0058,
          0.0058,
          0.0043,
          0.0029,
          0
         ],
         "textposition": "outside",
         "type": "bar",
         "uid": "9dc4eb9b-e5bd-4068-8a51-86e86404f4af",
         "x": [
          0.1304347813129425,
          0.08550724387168884,
          0.06811594218015671,
          0.06521739065647125,
          0.04202898591756821,
          0.03478260710835457,
          0.03333333507180214,
          0.028985507786273956,
          0.028985507786273956,
          0.028985507786273956,
          0.02753623202443123,
          0.02753623202443123,
          0.0260869562625885,
          0.0260869562625885,
          0.0260869562625885,
          0.0260869562625885,
          0.021739130839705467,
          0.021739130839705467,
          0.02028985507786274,
          0.018840579316020012,
          0.017391303554177284,
          0.015942029654979706,
          0.015942029654979706,
          0.015942029654979706,
          0.015942029654979706,
          0.015942029654979706,
          0.014492753893136978,
          0.014492753893136978,
          0.01304347813129425,
          0.01304347813129425,
          0.011594203300774097,
          0.011594203300774097,
          0.01014492753893137,
          0.007246376946568489,
          0.005797101650387049,
          0.005797101650387049,
          0.004347825888544321,
          0.0028985508251935244,
          0
         ],
         "y": [
          "url_length",
          "url_char_w",
          "url_extensions",
          "url_char_.",
          "title_count",
          "url_char_i",
          "http_header_server_apache",
          "p_count",
          "http_header_content-encoding_gzip",
          "a_count",
          "http_header_cache-control_set_max-age",
          "img_src_http",
          "push",
          "url_char_l",
          "a_href_out_of_domain",
          "link_type_text/css",
          "url_extension_endswith_.com",
          "center_count",
          "url_char_z",
          "http_header_content-length",
          "url_char_t",
          "http_header_vary_user-agent",
          "a_href_https",
          "url_char_p",
          "http_header_via_1.1",
          "input_count",
          "url_char_d",
          "script_src_out_of_domain",
          "li_count",
          "meta_count",
          "url_char_f",
          "link_href_out_of_domain",
          "http_header_transfer-encoding_chunked",
          "iframe_src_.html",
          "script_src_https",
          "a_href_http",
          "a_href_relative",
          "url_char_y",
          "script_count"
         ]
        }
       ],
       "layout": {
        "autosize": false,
        "height": 1000,
        "width": 1000,
        "xaxis": {
         "tickfont": {
          "color": "black",
          "size": 12
         },
         "title": "Feature Importances"
        },
        "yaxis": {
         "automargin": true
        }
       }
      },
      "text/html": [
       "<div id=\"dfdd4ce4-4185-47d4-9246-673d4aa57dd1\" style=\"height: 1000px; width: 1000px;\" class=\"plotly-graph-div\"></div><script type=\"text/javascript\">require([\"plotly\"], function(Plotly) { window.PLOTLYENV=window.PLOTLYENV || {};window.PLOTLYENV.BASE_URL=\"https://plot.ly\";Plotly.newPlot(\"dfdd4ce4-4185-47d4-9246-673d4aa57dd1\", [{\"marker\": {\"color\": \"rgb(158,202,225)\", \"line\": {\"color\": \"rgb(8,48,107)\", \"width\": 1.5}}, \"opacity\": 0.6, \"orientation\": \"h\", \"text\": [0.1304, 0.0855, 0.0681, 0.0652, 0.042, 0.0348, 0.0333, 0.029, 0.029, 0.029, 0.0275, 0.0275, 0.0261, 0.0261, 0.0261, 0.0261, 0.0217, 0.0217, 0.0203, 0.0188, 0.0174, 0.0159, 0.0159, 0.0159, 0.0159, 0.0159, 0.0145, 0.0145, 0.013, 0.013, 0.0116, 0.0116, 0.0101, 0.0072, 0.0058, 0.0058, 0.0043, 0.0029, 0.0], \"textposition\": \"outside\", \"x\": [0.1304347813129425, 0.08550724387168884, 0.06811594218015671, 0.06521739065647125, 0.04202898591756821, 0.03478260710835457, 0.03333333507180214, 0.028985507786273956, 0.028985507786273956, 0.028985507786273956, 0.02753623202443123, 0.02753623202443123, 0.0260869562625885, 0.0260869562625885, 0.0260869562625885, 0.0260869562625885, 0.021739130839705467, 0.021739130839705467, 0.02028985507786274, 0.018840579316020012, 0.017391303554177284, 0.015942029654979706, 0.015942029654979706, 0.015942029654979706, 0.015942029654979706, 0.015942029654979706, 0.014492753893136978, 0.014492753893136978, 0.01304347813129425, 0.01304347813129425, 0.011594203300774097, 0.011594203300774097, 0.01014492753893137, 0.007246376946568489, 0.005797101650387049, 0.005797101650387049, 0.004347825888544321, 0.0028985508251935244, 0.0], \"y\": [\"url_length\", \"url_char_w\", \"url_extensions\", \"url_char_.\", \"title_count\", \"url_char_i\", \"http_header_server_apache\", \"p_count\", \"http_header_content-encoding_gzip\", \"a_count\", \"http_header_cache-control_set_max-age\", \"img_src_http\", \"push\", \"url_char_l\", \"a_href_out_of_domain\", \"link_type_text/css\", \"url_extension_endswith_.com\", \"center_count\", \"url_char_z\", \"http_header_content-length\", \"url_char_t\", \"http_header_vary_user-agent\", \"a_href_https\", \"url_char_p\", \"http_header_via_1.1\", \"input_count\", \"url_char_d\", \"script_src_out_of_domain\", \"li_count\", \"meta_count\", \"url_char_f\", \"link_href_out_of_domain\", \"http_header_transfer-encoding_chunked\", \"iframe_src_.html\", \"script_src_https\", \"a_href_http\", \"a_href_relative\", \"url_char_y\", \"script_count\"], \"type\": \"bar\", \"uid\": \"9dc4eb9b-e5bd-4068-8a51-86e86404f4af\"}], {\"autosize\": false, \"height\": 1000, \"width\": 1000, \"xaxis\": {\"tickfont\": {\"color\": \"black\", \"size\": 12}, \"title\": \"Feature Importances\"}, \"yaxis\": {\"automargin\": true}}, {\"showLink\": true, \"linkText\": \"Export to plot.ly\", \"plotlyServerURL\": \"https://plot.ly\"})});</script>"
      ],
      "text/vnd.plotly.v1+html": [
       "<div id=\"dfdd4ce4-4185-47d4-9246-673d4aa57dd1\" style=\"height: 1000px; width: 1000px;\" class=\"plotly-graph-div\"></div><script type=\"text/javascript\">require([\"plotly\"], function(Plotly) { window.PLOTLYENV=window.PLOTLYENV || {};window.PLOTLYENV.BASE_URL=\"https://plot.ly\";Plotly.newPlot(\"dfdd4ce4-4185-47d4-9246-673d4aa57dd1\", [{\"marker\": {\"color\": \"rgb(158,202,225)\", \"line\": {\"color\": \"rgb(8,48,107)\", \"width\": 1.5}}, \"opacity\": 0.6, \"orientation\": \"h\", \"text\": [0.1304, 0.0855, 0.0681, 0.0652, 0.042, 0.0348, 0.0333, 0.029, 0.029, 0.029, 0.0275, 0.0275, 0.0261, 0.0261, 0.0261, 0.0261, 0.0217, 0.0217, 0.0203, 0.0188, 0.0174, 0.0159, 0.0159, 0.0159, 0.0159, 0.0159, 0.0145, 0.0145, 0.013, 0.013, 0.0116, 0.0116, 0.0101, 0.0072, 0.0058, 0.0058, 0.0043, 0.0029, 0.0], \"textposition\": \"outside\", \"x\": [0.1304347813129425, 0.08550724387168884, 0.06811594218015671, 0.06521739065647125, 0.04202898591756821, 0.03478260710835457, 0.03333333507180214, 0.028985507786273956, 0.028985507786273956, 0.028985507786273956, 0.02753623202443123, 0.02753623202443123, 0.0260869562625885, 0.0260869562625885, 0.0260869562625885, 0.0260869562625885, 0.021739130839705467, 0.021739130839705467, 0.02028985507786274, 0.018840579316020012, 0.017391303554177284, 0.015942029654979706, 0.015942029654979706, 0.015942029654979706, 0.015942029654979706, 0.015942029654979706, 0.014492753893136978, 0.014492753893136978, 0.01304347813129425, 0.01304347813129425, 0.011594203300774097, 0.011594203300774097, 0.01014492753893137, 0.007246376946568489, 0.005797101650387049, 0.005797101650387049, 0.004347825888544321, 0.0028985508251935244, 0.0], \"y\": [\"url_length\", \"url_char_w\", \"url_extensions\", \"url_char_.\", \"title_count\", \"url_char_i\", \"http_header_server_apache\", \"p_count\", \"http_header_content-encoding_gzip\", \"a_count\", \"http_header_cache-control_set_max-age\", \"img_src_http\", \"push\", \"url_char_l\", \"a_href_out_of_domain\", \"link_type_text/css\", \"url_extension_endswith_.com\", \"center_count\", \"url_char_z\", \"http_header_content-length\", \"url_char_t\", \"http_header_vary_user-agent\", \"a_href_https\", \"url_char_p\", \"http_header_via_1.1\", \"input_count\", \"url_char_d\", \"script_src_out_of_domain\", \"li_count\", \"meta_count\", \"url_char_f\", \"link_href_out_of_domain\", \"http_header_transfer-encoding_chunked\", \"iframe_src_.html\", \"script_src_https\", \"a_href_http\", \"a_href_relative\", \"url_char_y\", \"script_count\"], \"type\": \"bar\", \"uid\": \"9dc4eb9b-e5bd-4068-8a51-86e86404f4af\"}], {\"autosize\": false, \"height\": 1000, \"width\": 1000, \"xaxis\": {\"tickfont\": {\"color\": \"black\", \"size\": 12}, \"title\": \"Feature Importances\"}, \"yaxis\": {\"automargin\": true}}, {\"showLink\": true, \"linkText\": \"Export to plot.ly\", \"plotlyServerURL\": \"https://plot.ly\"})});</script>"
      ]
     },
     "metadata": {},
     "output_type": "display_data"
    },
    {
     "name": "stdout",
     "output_type": "stream",
     "text": [
      "\n",
      "\n",
      "\u001b[1mBagging Classifier\u001b[0m\n",
      "Accuracy of the model for training data is: 0.9987873556131048\n",
      "Confusion Matrix for training data is:\n"
     ]
    },
    {
     "data": {
      "text/plain": [
       "Predicted  False   True  __all__\n",
       "Actual                          \n",
       "False      24312     15    24327\n",
       "True          44  24283    24327\n",
       "__all__    24356  24298    48654"
      ]
     },
     "metadata": {},
     "output_type": "display_data"
    },
    {
     "name": "stdout",
     "output_type": "stream",
     "text": [
      "Accuracy of the model for test data is: 0.976095278604849\n",
      "Confusion Matrix for test data is:\n"
     ]
    },
    {
     "data": {
      "text/plain": [
       "Predicted  False  True  __all__\n",
       "Actual                         \n",
       "False      10310   105    10415\n",
       "True         176  1164     1340\n",
       "__all__    10486  1269    11755"
      ]
     },
     "metadata": {},
     "output_type": "display_data"
    },
    {
     "name": "stdout",
     "output_type": "stream",
     "text": [
      "\n",
      "\n",
      "\u001b[1mNeural Network-1\u001b[0m\n",
      "The accuracy of the model on training data is: 0.9953344021046574\n"
     ]
    },
    {
     "data": {
      "text/plain": [
       "Predicted  False   True  __all__\n",
       "Actual                          \n",
       "False      24258     69    24327\n",
       "True         158  24169    24327\n",
       "__all__    24416  24238    48654"
      ]
     },
     "metadata": {},
     "output_type": "display_data"
    },
    {
     "name": "stdout",
     "output_type": "stream",
     "text": [
      "The accuracy of the model on test data is: 0.9722671203743088\n"
     ]
    },
    {
     "data": {
      "text/plain": [
       "Predicted  False  True  __all__\n",
       "Actual                         \n",
       "False      10271   144    10415\n",
       "True         182  1158     1340\n",
       "__all__    10453  1302    11755"
      ]
     },
     "metadata": {},
     "output_type": "display_data"
    },
    {
     "name": "stdout",
     "output_type": "stream",
     "text": [
      "\n",
      "\n"
     ]
    }
   ],
   "source": [
    "sm = SMOTE(random_state=12, ratio = {1:24327})\n",
    "X_train, Y_train = sm.fit_sample(scaled_X_train,train_Y)\n",
    "\n",
    "\n",
    "ind_columns=['KNeighborsClassifier','RandomForestClassifier','AdaBoostClassifier',\n",
    "             'GradientBoostingClassifier','ExtraTreeClassifier','XGB','BaggingClassifier','Neural Network-1']\n",
    "\n",
    "f=[KNN_model,RandomForest,AdaBoost,GradientBoosting, ExtraTree,XGB,Bagging,DeepLearning1]\n",
    "\n",
    "## Table to store training and test measures\n",
    "table_80_50_train=pd.DataFrame(columns=['accuracy','TP','TN','FP','FN','FPR','FNR'])\n",
    "table_80_50_test=pd.DataFrame(columns=['accuracy','TP','TN','FP','FN','FPR','FNR','auc','MCC','Precision','Recall'])\n",
    "\n",
    "feat_imp=[None]*5\n",
    "j=0\n",
    "for i in range(0,8):\n",
    "    if i>=1 and i<=5:\n",
    "        model,cm_train,cm_test,acc_train,acc_test,roc_auc,feat_imp[j],mcc,prec,rec=f[i](X_train,Y_train,scaled_X_test,test_Y,columns)\n",
    "        j=j+1\n",
    "    else:\n",
    "        model,cm_train,cm_test,acc_train,acc_test,roc_auc,mcc,prec,rec=f[i](X_train,Y_train,scaled_X_test,test_Y)\n",
    "    table_80_50_train.loc[i]=   ([acc_train,cm_train.TP,cm_train.TN,cm_train.FP,cm_train.FN,cm_train.FPR,cm_train.FNR])\n",
    "    table_80_50_test.loc[i] =   ([acc_test ,cm_test.TP, cm_test.TN, cm_test.FP, cm_test.FN, cm_test.FPR, cm_test.FNR,roc_auc,mcc,prec,rec])\n",
    "    print(\"\\n\")"
   ]
  },
  {
   "cell_type": "markdown",
   "metadata": {},
   "source": [
    "### <a id='2.A' style=\"text-decoration : none; color : #000000;\"> A. Results</a>"
   ]
  },
  {
   "cell_type": "code",
   "execution_count": 23,
   "metadata": {},
   "outputs": [
    {
     "data": {
      "application/vnd.plotly.v1+json": {
       "config": {
        "linkText": "Export to plot.ly",
        "plotlyServerURL": "https://plot.ly",
        "showLink": true
       },
       "data": [
        {
         "mode": "lines",
         "name": "KNN_model",
         "type": "scatter",
         "uid": "fb144acd-5311-45b0-a796-26a3ba623719",
         "x": [
          "accuracy",
          "auc",
          "MCC",
          "Precision",
          "Recall"
         ],
         "y": [
          0.9441088898341131,
          0.9271678692471392,
          0.7640143160108305,
          0.6959265633964429,
          0.905223880597015
         ]
        },
        {
         "mode": "lines+markers",
         "name": "XGB",
         "type": "scatter",
         "uid": "a989dc43-29a3-4234-bce6-81b31b36aa34",
         "x": [
          "accuracy",
          "auc",
          "MCC",
          "Precision",
          "Recall"
         ],
         "y": [
          0.9655465759251383,
          0.935689411798425,
          0.8374422732546036,
          0.8182437031994554,
          0.8970149253731343
         ]
        },
        {
         "marker": {
          "symbol": "x"
         },
         "mode": "lines+markers",
         "name": "Random Forest",
         "type": "scatter",
         "uid": "f7f49efd-d86d-4b3c-aa15-2cc3851f1ce2",
         "x": [
          "accuracy",
          "auc",
          "MCC",
          "Precision",
          "Recall"
         ],
         "y": [
          0.9775414717141642,
          0.9304288089079327,
          0.8862357513297718,
          0.9290271132376395,
          0.8694029850746269
         ]
        },
        {
         "mode": "lines",
         "name": "Ada Boost",
         "type": "scatter",
         "uid": "27684290-5f06-40d6-a1e5-151994175284",
         "x": [
          "accuracy",
          "auc",
          "MCC",
          "Precision",
          "Recall"
         ],
         "y": [
          0.9566992769034454,
          0.9332976261276431,
          0.8054922020998584,
          0.7614852108244179,
          0.9029850746268657
         ]
        },
        {
         "mode": "lines+markers",
         "name": "GradientBoosting",
         "type": "scatter",
         "uid": "ac7f1e38-d55e-4b71-9158-4e9272d4f6b6",
         "x": [
          "accuracy",
          "auc",
          "MCC",
          "Precision",
          "Recall"
         ],
         "y": [
          0.9658868566567418,
          0.9345809359348242,
          0.8382556382725797,
          0.8222374742621825,
          0.8940298507462686
         ]
        },
        {
         "marker": {
          "symbol": "x"
         },
         "mode": "lines+markers",
         "name": "ExtraTree Classifier",
         "type": "scatter",
         "uid": "b3287dd4-3672-4391-a829-9b62a1d064fc",
         "x": [
          "accuracy",
          "auc",
          "MCC",
          "Precision",
          "Recall"
         ],
         "y": [
          0.9776265418970651,
          0.9265752968236112,
          0.8861354467733579,
          0.9381611065907242,
          0.8604477611940299
         ]
        },
        {
         "marker": {
          "symbol": "x"
         },
         "mode": "lines+markers",
         "name": "Bagging",
         "type": "scatter",
         "uid": "9836a248-2272-430f-a982-53296709deb1",
         "x": [
          "accuracy",
          "auc",
          "MCC",
          "Precision",
          "Recall"
         ],
         "y": [
          0.976095278604849,
          0.9292875516799106,
          0.8792747249691767,
          0.91725768321513,
          0.8686567164179104
         ]
        },
        {
         "marker": {
          "symbol": "x"
         },
         "mode": "lines+markers",
         "name": "Neural Network",
         "type": "scatter",
         "uid": "04c80933-1372-48df-b8fa-0f3c761e1de5",
         "x": [
          "accuracy",
          "auc",
          "MCC",
          "Precision",
          "Recall"
         ],
         "y": [
          0.9722671203743088,
          0.9292875516799106,
          0.8611033171237991,
          0.8894009216589862,
          0.8641791044776119
         ]
        }
       ],
       "layout": {
        "title": "Result comparision for Features selected in Section 1",
        "yaxis": {
         "dtick": 0.05,
         "tick0": 0
        }
       }
      },
      "text/html": [
       "<div id=\"1e8aa529-d6f3-451a-8330-e91813359f14\" style=\"height: 525px; width: 100%;\" class=\"plotly-graph-div\"></div><script type=\"text/javascript\">require([\"plotly\"], function(Plotly) { window.PLOTLYENV=window.PLOTLYENV || {};window.PLOTLYENV.BASE_URL=\"https://plot.ly\";Plotly.newPlot(\"1e8aa529-d6f3-451a-8330-e91813359f14\", [{\"mode\": \"lines\", \"name\": \"KNN_model\", \"x\": [\"accuracy\", \"auc\", \"MCC\", \"Precision\", \"Recall\"], \"y\": [0.9441088898341131, 0.9271678692471392, 0.7640143160108305, 0.6959265633964429, 0.905223880597015], \"type\": \"scatter\", \"uid\": \"fb144acd-5311-45b0-a796-26a3ba623719\"}, {\"mode\": \"lines+markers\", \"name\": \"XGB\", \"x\": [\"accuracy\", \"auc\", \"MCC\", \"Precision\", \"Recall\"], \"y\": [0.9655465759251383, 0.935689411798425, 0.8374422732546036, 0.8182437031994554, 0.8970149253731343], \"type\": \"scatter\", \"uid\": \"a989dc43-29a3-4234-bce6-81b31b36aa34\"}, {\"marker\": {\"symbol\": \"x\"}, \"mode\": \"lines+markers\", \"name\": \"Random Forest\", \"x\": [\"accuracy\", \"auc\", \"MCC\", \"Precision\", \"Recall\"], \"y\": [0.9775414717141642, 0.9304288089079327, 0.8862357513297718, 0.9290271132376395, 0.8694029850746269], \"type\": \"scatter\", \"uid\": \"f7f49efd-d86d-4b3c-aa15-2cc3851f1ce2\"}, {\"mode\": \"lines\", \"name\": \"Ada Boost\", \"x\": [\"accuracy\", \"auc\", \"MCC\", \"Precision\", \"Recall\"], \"y\": [0.9566992769034454, 0.9332976261276431, 0.8054922020998584, 0.7614852108244179, 0.9029850746268657], \"type\": \"scatter\", \"uid\": \"27684290-5f06-40d6-a1e5-151994175284\"}, {\"mode\": \"lines+markers\", \"name\": \"GradientBoosting\", \"x\": [\"accuracy\", \"auc\", \"MCC\", \"Precision\", \"Recall\"], \"y\": [0.9658868566567418, 0.9345809359348242, 0.8382556382725797, 0.8222374742621825, 0.8940298507462686], \"type\": \"scatter\", \"uid\": \"ac7f1e38-d55e-4b71-9158-4e9272d4f6b6\"}, {\"marker\": {\"symbol\": \"x\"}, \"mode\": \"lines+markers\", \"name\": \"ExtraTree Classifier\", \"x\": [\"accuracy\", \"auc\", \"MCC\", \"Precision\", \"Recall\"], \"y\": [0.9776265418970651, 0.9265752968236112, 0.8861354467733579, 0.9381611065907242, 0.8604477611940299], \"type\": \"scatter\", \"uid\": \"b3287dd4-3672-4391-a829-9b62a1d064fc\"}, {\"marker\": {\"symbol\": \"x\"}, \"mode\": \"lines+markers\", \"name\": \"Bagging\", \"x\": [\"accuracy\", \"auc\", \"MCC\", \"Precision\", \"Recall\"], \"y\": [0.976095278604849, 0.9292875516799106, 0.8792747249691767, 0.91725768321513, 0.8686567164179104], \"type\": \"scatter\", \"uid\": \"9836a248-2272-430f-a982-53296709deb1\"}, {\"marker\": {\"symbol\": \"x\"}, \"mode\": \"lines+markers\", \"name\": \"Neural Network\", \"x\": [\"accuracy\", \"auc\", \"MCC\", \"Precision\", \"Recall\"], \"y\": [0.9722671203743088, 0.9292875516799106, 0.8611033171237991, 0.8894009216589862, 0.8641791044776119], \"type\": \"scatter\", \"uid\": \"04c80933-1372-48df-b8fa-0f3c761e1de5\"}], {\"title\": \"Result comparision for Features selected in Section 1\", \"yaxis\": {\"dtick\": 0.05, \"tick0\": 0}}, {\"showLink\": true, \"linkText\": \"Export to plot.ly\", \"plotlyServerURL\": \"https://plot.ly\"})});</script><script type=\"text/javascript\">window.addEventListener(\"resize\", function(){window._Plotly.Plots.resize(document.getElementById(\"1e8aa529-d6f3-451a-8330-e91813359f14\"));});</script>"
      ],
      "text/vnd.plotly.v1+html": [
       "<div id=\"1e8aa529-d6f3-451a-8330-e91813359f14\" style=\"height: 525px; width: 100%;\" class=\"plotly-graph-div\"></div><script type=\"text/javascript\">require([\"plotly\"], function(Plotly) { window.PLOTLYENV=window.PLOTLYENV || {};window.PLOTLYENV.BASE_URL=\"https://plot.ly\";Plotly.newPlot(\"1e8aa529-d6f3-451a-8330-e91813359f14\", [{\"mode\": \"lines\", \"name\": \"KNN_model\", \"x\": [\"accuracy\", \"auc\", \"MCC\", \"Precision\", \"Recall\"], \"y\": [0.9441088898341131, 0.9271678692471392, 0.7640143160108305, 0.6959265633964429, 0.905223880597015], \"type\": \"scatter\", \"uid\": \"fb144acd-5311-45b0-a796-26a3ba623719\"}, {\"mode\": \"lines+markers\", \"name\": \"XGB\", \"x\": [\"accuracy\", \"auc\", \"MCC\", \"Precision\", \"Recall\"], \"y\": [0.9655465759251383, 0.935689411798425, 0.8374422732546036, 0.8182437031994554, 0.8970149253731343], \"type\": \"scatter\", \"uid\": \"a989dc43-29a3-4234-bce6-81b31b36aa34\"}, {\"marker\": {\"symbol\": \"x\"}, \"mode\": \"lines+markers\", \"name\": \"Random Forest\", \"x\": [\"accuracy\", \"auc\", \"MCC\", \"Precision\", \"Recall\"], \"y\": [0.9775414717141642, 0.9304288089079327, 0.8862357513297718, 0.9290271132376395, 0.8694029850746269], \"type\": \"scatter\", \"uid\": \"f7f49efd-d86d-4b3c-aa15-2cc3851f1ce2\"}, {\"mode\": \"lines\", \"name\": \"Ada Boost\", \"x\": [\"accuracy\", \"auc\", \"MCC\", \"Precision\", \"Recall\"], \"y\": [0.9566992769034454, 0.9332976261276431, 0.8054922020998584, 0.7614852108244179, 0.9029850746268657], \"type\": \"scatter\", \"uid\": \"27684290-5f06-40d6-a1e5-151994175284\"}, {\"mode\": \"lines+markers\", \"name\": \"GradientBoosting\", \"x\": [\"accuracy\", \"auc\", \"MCC\", \"Precision\", \"Recall\"], \"y\": [0.9658868566567418, 0.9345809359348242, 0.8382556382725797, 0.8222374742621825, 0.8940298507462686], \"type\": \"scatter\", \"uid\": \"ac7f1e38-d55e-4b71-9158-4e9272d4f6b6\"}, {\"marker\": {\"symbol\": \"x\"}, \"mode\": \"lines+markers\", \"name\": \"ExtraTree Classifier\", \"x\": [\"accuracy\", \"auc\", \"MCC\", \"Precision\", \"Recall\"], \"y\": [0.9776265418970651, 0.9265752968236112, 0.8861354467733579, 0.9381611065907242, 0.8604477611940299], \"type\": \"scatter\", \"uid\": \"b3287dd4-3672-4391-a829-9b62a1d064fc\"}, {\"marker\": {\"symbol\": \"x\"}, \"mode\": \"lines+markers\", \"name\": \"Bagging\", \"x\": [\"accuracy\", \"auc\", \"MCC\", \"Precision\", \"Recall\"], \"y\": [0.976095278604849, 0.9292875516799106, 0.8792747249691767, 0.91725768321513, 0.8686567164179104], \"type\": \"scatter\", \"uid\": \"9836a248-2272-430f-a982-53296709deb1\"}, {\"marker\": {\"symbol\": \"x\"}, \"mode\": \"lines+markers\", \"name\": \"Neural Network\", \"x\": [\"accuracy\", \"auc\", \"MCC\", \"Precision\", \"Recall\"], \"y\": [0.9722671203743088, 0.9292875516799106, 0.8611033171237991, 0.8894009216589862, 0.8641791044776119], \"type\": \"scatter\", \"uid\": \"04c80933-1372-48df-b8fa-0f3c761e1de5\"}], {\"title\": \"Result comparision for Features selected in Section 1\", \"yaxis\": {\"dtick\": 0.05, \"tick0\": 0}}, {\"showLink\": true, \"linkText\": \"Export to plot.ly\", \"plotlyServerURL\": \"https://plot.ly\"})});</script><script type=\"text/javascript\">window.addEventListener(\"resize\", function(){window._Plotly.Plots.resize(document.getElementById(\"1e8aa529-d6f3-451a-8330-e91813359f14\"));});</script>"
      ]
     },
     "metadata": {},
     "output_type": "display_data"
    }
   ],
   "source": [
    "trace0 = go.Scatter(x=table_80_50_test.iloc[0].index.values[[0,7,8,9,10]],\n",
    "                    y=table_80_50_test.iloc[0].values[[0,7,8,9,10]],\n",
    "                    mode = 'lines',\n",
    "                    name = 'KNN_model')\n",
    "\n",
    "\n",
    "trace2 = go.Scatter(x=table_80_50_test.iloc[1].index.values[[0,7,8,9,10]],\n",
    "                    y=table_80_50_test.iloc[1].values[[0,7,8,9,10]],\n",
    "                    mode = 'lines+markers',marker=dict(symbol='x'),\n",
    "                    name = 'Random Forest')\n",
    "\n",
    "\n",
    "trace3 = go.Scatter(x=table_80_50_test.iloc[2].index.values[[0,7,8,9,10]],\n",
    "                    y=table_80_50_test.iloc[2].values[[0,7,8,9,10]],\n",
    "                    mode = 'lines',\n",
    "                    name = 'Ada Boost')\n",
    "\n",
    "trace4 = go.Scatter(x=table_80_50_test.iloc[3].index.values[[0,7,8,9,10]],\n",
    "                    y=table_80_50_test.iloc[3].values[[0,7,8,9,10]],\n",
    "                    mode = 'lines+markers',\n",
    "                    name = 'GradientBoosting')\n",
    "\n",
    "trace5 = go.Scatter(x=table_80_50_test.iloc[4].index.values[[0,7,8,9,10]],\n",
    "                    y=table_80_50_test.iloc[4].values[[0,7,8,9,10]],\n",
    "                    mode = 'lines+markers',marker=dict(symbol='x'),\n",
    "                    name = 'ExtraTree Classifier')\n",
    "\n",
    "\n",
    "trace1 = go.Scatter(x=table_80_50_test.iloc[5].index.values[[0,7,8,9,10]],\n",
    "                    y=table_80_50_test.iloc[5].values[[0,7,8,9,10]],\n",
    "                    mode = 'lines+markers',\n",
    "                    name = 'XGB')\n",
    "\n",
    "\n",
    "trace6 = go.Scatter(x=table_80_50_test.iloc[6].index.values[[0,7,8,9,10]],\n",
    "                    y=table_80_50_test.iloc[6].values[[0,7,8,9,10]],\n",
    "                    mode = 'lines+markers',marker=dict(symbol='x'),\n",
    "                    name = 'Bagging')\n",
    "\n",
    "trace7 = go.Scatter(x=table_80_50_test.iloc[7].index.values[[0,7,8,9,10]],\n",
    "                    y=table_80_50_test.iloc[7].values[[0,7,8,9,10]],\n",
    "                    mode = 'lines+markers',marker=dict(symbol='x'),\n",
    "                    name = 'Neural Network')\n",
    "\n",
    "\n",
    "\n",
    "data = [trace0, trace1, trace2, trace3, trace4, trace5, trace6, trace7]\n",
    "layout = go.Layout(yaxis=dict(tick0=0,dtick=0.05),title='Result comparision for Features selected in Section 1')\n",
    "fig = go.Figure(data=data, layout=layout)\n",
    "\n",
    "iplot(fig, filename='Result')"
   ]
  },
  {
   "cell_type": "code",
   "execution_count": 24,
   "metadata": {},
   "outputs": [
    {
     "name": "stdout",
     "output_type": "stream",
     "text": [
      "Training Results\n"
     ]
    },
    {
     "data": {
      "text/html": [
       "<div>\n",
       "<style scoped>\n",
       "    .dataframe tbody tr th:only-of-type {\n",
       "        vertical-align: middle;\n",
       "    }\n",
       "\n",
       "    .dataframe tbody tr th {\n",
       "        vertical-align: top;\n",
       "    }\n",
       "\n",
       "    .dataframe thead th {\n",
       "        text-align: right;\n",
       "    }\n",
       "</style>\n",
       "<table border=\"1\" class=\"dataframe\">\n",
       "  <thead>\n",
       "    <tr style=\"text-align: right;\">\n",
       "      <th></th>\n",
       "      <th>accuracy</th>\n",
       "      <th>TP</th>\n",
       "      <th>TN</th>\n",
       "      <th>FP</th>\n",
       "      <th>FN</th>\n",
       "      <th>FPR</th>\n",
       "      <th>FNR</th>\n",
       "    </tr>\n",
       "    <tr>\n",
       "      <th>index</th>\n",
       "      <th></th>\n",
       "      <th></th>\n",
       "      <th></th>\n",
       "      <th></th>\n",
       "      <th></th>\n",
       "      <th></th>\n",
       "      <th></th>\n",
       "    </tr>\n",
       "  </thead>\n",
       "  <tbody>\n",
       "    <tr>\n",
       "      <th>KNeighborsClassifier</th>\n",
       "      <td>0.980125</td>\n",
       "      <td>24295.0</td>\n",
       "      <td>23392.0</td>\n",
       "      <td>935.0</td>\n",
       "      <td>32.0</td>\n",
       "      <td>0.038435</td>\n",
       "      <td>0.001315</td>\n",
       "    </tr>\n",
       "    <tr>\n",
       "      <th>RandomForestClassifier</th>\n",
       "      <td>0.999013</td>\n",
       "      <td>24290.0</td>\n",
       "      <td>24316.0</td>\n",
       "      <td>11.0</td>\n",
       "      <td>37.0</td>\n",
       "      <td>0.000452</td>\n",
       "      <td>0.001521</td>\n",
       "    </tr>\n",
       "    <tr>\n",
       "      <th>AdaBoostClassifier</th>\n",
       "      <td>0.964772</td>\n",
       "      <td>23530.0</td>\n",
       "      <td>23410.0</td>\n",
       "      <td>917.0</td>\n",
       "      <td>797.0</td>\n",
       "      <td>0.037695</td>\n",
       "      <td>0.032762</td>\n",
       "    </tr>\n",
       "    <tr>\n",
       "      <th>GradientBoostingClassifier</th>\n",
       "      <td>0.977063</td>\n",
       "      <td>23771.0</td>\n",
       "      <td>23767.0</td>\n",
       "      <td>560.0</td>\n",
       "      <td>556.0</td>\n",
       "      <td>0.023020</td>\n",
       "      <td>0.022855</td>\n",
       "    </tr>\n",
       "    <tr>\n",
       "      <th>ExtraTreeClassifier</th>\n",
       "      <td>0.999692</td>\n",
       "      <td>24314.0</td>\n",
       "      <td>24325.0</td>\n",
       "      <td>2.0</td>\n",
       "      <td>13.0</td>\n",
       "      <td>0.000082</td>\n",
       "      <td>0.000534</td>\n",
       "    </tr>\n",
       "    <tr>\n",
       "      <th>XGB</th>\n",
       "      <td>0.976240</td>\n",
       "      <td>23734.0</td>\n",
       "      <td>23764.0</td>\n",
       "      <td>563.0</td>\n",
       "      <td>593.0</td>\n",
       "      <td>0.023143</td>\n",
       "      <td>0.024376</td>\n",
       "    </tr>\n",
       "    <tr>\n",
       "      <th>BaggingClassifier</th>\n",
       "      <td>0.998787</td>\n",
       "      <td>24283.0</td>\n",
       "      <td>24312.0</td>\n",
       "      <td>15.0</td>\n",
       "      <td>44.0</td>\n",
       "      <td>0.000617</td>\n",
       "      <td>0.001809</td>\n",
       "    </tr>\n",
       "    <tr>\n",
       "      <th>Neural Network-1</th>\n",
       "      <td>0.995334</td>\n",
       "      <td>24169.0</td>\n",
       "      <td>24258.0</td>\n",
       "      <td>69.0</td>\n",
       "      <td>158.0</td>\n",
       "      <td>0.002836</td>\n",
       "      <td>0.006495</td>\n",
       "    </tr>\n",
       "  </tbody>\n",
       "</table>\n",
       "</div>"
      ],
      "text/plain": [
       "                            accuracy       TP       TN     FP     FN  \\\n",
       "index                                                                  \n",
       "KNeighborsClassifier        0.980125  24295.0  23392.0  935.0   32.0   \n",
       "RandomForestClassifier      0.999013  24290.0  24316.0   11.0   37.0   \n",
       "AdaBoostClassifier          0.964772  23530.0  23410.0  917.0  797.0   \n",
       "GradientBoostingClassifier  0.977063  23771.0  23767.0  560.0  556.0   \n",
       "ExtraTreeClassifier         0.999692  24314.0  24325.0    2.0   13.0   \n",
       "XGB                         0.976240  23734.0  23764.0  563.0  593.0   \n",
       "BaggingClassifier           0.998787  24283.0  24312.0   15.0   44.0   \n",
       "Neural Network-1            0.995334  24169.0  24258.0   69.0  158.0   \n",
       "\n",
       "                                 FPR       FNR  \n",
       "index                                           \n",
       "KNeighborsClassifier        0.038435  0.001315  \n",
       "RandomForestClassifier      0.000452  0.001521  \n",
       "AdaBoostClassifier          0.037695  0.032762  \n",
       "GradientBoostingClassifier  0.023020  0.022855  \n",
       "ExtraTreeClassifier         0.000082  0.000534  \n",
       "XGB                         0.023143  0.024376  \n",
       "BaggingClassifier           0.000617  0.001809  \n",
       "Neural Network-1            0.002836  0.006495  "
      ]
     },
     "metadata": {},
     "output_type": "display_data"
    },
    {
     "name": "stdout",
     "output_type": "stream",
     "text": [
      "Test Results\n"
     ]
    },
    {
     "data": {
      "text/html": [
       "<div>\n",
       "<style scoped>\n",
       "    .dataframe tbody tr th:only-of-type {\n",
       "        vertical-align: middle;\n",
       "    }\n",
       "\n",
       "    .dataframe tbody tr th {\n",
       "        vertical-align: top;\n",
       "    }\n",
       "\n",
       "    .dataframe thead th {\n",
       "        text-align: right;\n",
       "    }\n",
       "</style>\n",
       "<table border=\"1\" class=\"dataframe\">\n",
       "  <thead>\n",
       "    <tr style=\"text-align: right;\">\n",
       "      <th></th>\n",
       "      <th>accuracy</th>\n",
       "      <th>TP</th>\n",
       "      <th>TN</th>\n",
       "      <th>FP</th>\n",
       "      <th>FN</th>\n",
       "      <th>FPR</th>\n",
       "      <th>FNR</th>\n",
       "      <th>auc</th>\n",
       "      <th>MCC</th>\n",
       "      <th>Precision</th>\n",
       "      <th>Recall</th>\n",
       "    </tr>\n",
       "    <tr>\n",
       "      <th>index</th>\n",
       "      <th></th>\n",
       "      <th></th>\n",
       "      <th></th>\n",
       "      <th></th>\n",
       "      <th></th>\n",
       "      <th></th>\n",
       "      <th></th>\n",
       "      <th></th>\n",
       "      <th></th>\n",
       "      <th></th>\n",
       "      <th></th>\n",
       "    </tr>\n",
       "  </thead>\n",
       "  <tbody>\n",
       "    <tr>\n",
       "      <th>KNeighborsClassifier</th>\n",
       "      <td>0.944109</td>\n",
       "      <td>1213.0</td>\n",
       "      <td>9885.0</td>\n",
       "      <td>530.0</td>\n",
       "      <td>127.0</td>\n",
       "      <td>0.050888</td>\n",
       "      <td>0.094776</td>\n",
       "      <td>0.927168</td>\n",
       "      <td>0.764014</td>\n",
       "      <td>0.695927</td>\n",
       "      <td>0.905224</td>\n",
       "    </tr>\n",
       "    <tr>\n",
       "      <th>RandomForestClassifier</th>\n",
       "      <td>0.977541</td>\n",
       "      <td>1165.0</td>\n",
       "      <td>10326.0</td>\n",
       "      <td>89.0</td>\n",
       "      <td>175.0</td>\n",
       "      <td>0.008545</td>\n",
       "      <td>0.130597</td>\n",
       "      <td>0.930429</td>\n",
       "      <td>0.886236</td>\n",
       "      <td>0.929027</td>\n",
       "      <td>0.869403</td>\n",
       "    </tr>\n",
       "    <tr>\n",
       "      <th>AdaBoostClassifier</th>\n",
       "      <td>0.956699</td>\n",
       "      <td>1210.0</td>\n",
       "      <td>10036.0</td>\n",
       "      <td>379.0</td>\n",
       "      <td>130.0</td>\n",
       "      <td>0.036390</td>\n",
       "      <td>0.097015</td>\n",
       "      <td>0.933298</td>\n",
       "      <td>0.805492</td>\n",
       "      <td>0.761485</td>\n",
       "      <td>0.902985</td>\n",
       "    </tr>\n",
       "    <tr>\n",
       "      <th>GradientBoostingClassifier</th>\n",
       "      <td>0.965887</td>\n",
       "      <td>1198.0</td>\n",
       "      <td>10156.0</td>\n",
       "      <td>259.0</td>\n",
       "      <td>142.0</td>\n",
       "      <td>0.024868</td>\n",
       "      <td>0.105970</td>\n",
       "      <td>0.934581</td>\n",
       "      <td>0.838256</td>\n",
       "      <td>0.822237</td>\n",
       "      <td>0.894030</td>\n",
       "    </tr>\n",
       "    <tr>\n",
       "      <th>ExtraTreeClassifier</th>\n",
       "      <td>0.977627</td>\n",
       "      <td>1153.0</td>\n",
       "      <td>10339.0</td>\n",
       "      <td>76.0</td>\n",
       "      <td>187.0</td>\n",
       "      <td>0.007297</td>\n",
       "      <td>0.139552</td>\n",
       "      <td>0.926575</td>\n",
       "      <td>0.886135</td>\n",
       "      <td>0.938161</td>\n",
       "      <td>0.860448</td>\n",
       "    </tr>\n",
       "    <tr>\n",
       "      <th>XGB</th>\n",
       "      <td>0.965547</td>\n",
       "      <td>1202.0</td>\n",
       "      <td>10148.0</td>\n",
       "      <td>267.0</td>\n",
       "      <td>138.0</td>\n",
       "      <td>0.025636</td>\n",
       "      <td>0.102985</td>\n",
       "      <td>0.935689</td>\n",
       "      <td>0.837442</td>\n",
       "      <td>0.818244</td>\n",
       "      <td>0.897015</td>\n",
       "    </tr>\n",
       "    <tr>\n",
       "      <th>BaggingClassifier</th>\n",
       "      <td>0.976095</td>\n",
       "      <td>1164.0</td>\n",
       "      <td>10310.0</td>\n",
       "      <td>105.0</td>\n",
       "      <td>176.0</td>\n",
       "      <td>0.010082</td>\n",
       "      <td>0.131343</td>\n",
       "      <td>0.929288</td>\n",
       "      <td>0.879275</td>\n",
       "      <td>0.917258</td>\n",
       "      <td>0.868657</td>\n",
       "    </tr>\n",
       "    <tr>\n",
       "      <th>Neural Network-1</th>\n",
       "      <td>0.972267</td>\n",
       "      <td>1158.0</td>\n",
       "      <td>10271.0</td>\n",
       "      <td>144.0</td>\n",
       "      <td>182.0</td>\n",
       "      <td>0.013826</td>\n",
       "      <td>0.135821</td>\n",
       "      <td>0.929288</td>\n",
       "      <td>0.861103</td>\n",
       "      <td>0.889401</td>\n",
       "      <td>0.864179</td>\n",
       "    </tr>\n",
       "  </tbody>\n",
       "</table>\n",
       "</div>"
      ],
      "text/plain": [
       "                            accuracy      TP       TN     FP     FN       FPR  \\\n",
       "index                                                                           \n",
       "KNeighborsClassifier        0.944109  1213.0   9885.0  530.0  127.0  0.050888   \n",
       "RandomForestClassifier      0.977541  1165.0  10326.0   89.0  175.0  0.008545   \n",
       "AdaBoostClassifier          0.956699  1210.0  10036.0  379.0  130.0  0.036390   \n",
       "GradientBoostingClassifier  0.965887  1198.0  10156.0  259.0  142.0  0.024868   \n",
       "ExtraTreeClassifier         0.977627  1153.0  10339.0   76.0  187.0  0.007297   \n",
       "XGB                         0.965547  1202.0  10148.0  267.0  138.0  0.025636   \n",
       "BaggingClassifier           0.976095  1164.0  10310.0  105.0  176.0  0.010082   \n",
       "Neural Network-1            0.972267  1158.0  10271.0  144.0  182.0  0.013826   \n",
       "\n",
       "                                 FNR       auc       MCC  Precision    Recall  \n",
       "index                                                                          \n",
       "KNeighborsClassifier        0.094776  0.927168  0.764014   0.695927  0.905224  \n",
       "RandomForestClassifier      0.130597  0.930429  0.886236   0.929027  0.869403  \n",
       "AdaBoostClassifier          0.097015  0.933298  0.805492   0.761485  0.902985  \n",
       "GradientBoostingClassifier  0.105970  0.934581  0.838256   0.822237  0.894030  \n",
       "ExtraTreeClassifier         0.139552  0.926575  0.886135   0.938161  0.860448  \n",
       "XGB                         0.102985  0.935689  0.837442   0.818244  0.897015  \n",
       "BaggingClassifier           0.131343  0.929288  0.879275   0.917258  0.868657  \n",
       "Neural Network-1            0.135821  0.929288  0.861103   0.889401  0.864179  "
      ]
     },
     "metadata": {},
     "output_type": "display_data"
    }
   ],
   "source": [
    "### 14164\n",
    "table_80_50_train['index']=ind_columns\n",
    "table_80_50_test['index']=ind_columns\n",
    "\n",
    "\n",
    "table_80_50_test.set_index(['index'],drop=True,inplace=True)\n",
    "table_80_50_train.set_index(['index'],drop=True,inplace=True)\n",
    "\n",
    "print(\"Training Results\")\n",
    "display(table_80_50_train)\n",
    "print(\"Test Results\")\n",
    "display(table_80_50_test)"
   ]
  },
  {
   "cell_type": "markdown",
   "metadata": {},
   "source": [
    "### <a id='2.B' style=\"text-decoration : none; color : #000000;\"> B. Average Feature Importances</a>"
   ]
  },
  {
   "cell_type": "code",
   "execution_count": 25,
   "metadata": {},
   "outputs": [
    {
     "data": {
      "application/vnd.plotly.v1+json": {
       "config": {
        "linkText": "Export to plot.ly",
        "plotlyServerURL": "https://plot.ly",
        "showLink": true
       },
       "data": [
        {
         "marker": {
          "color": "rgb(158,202,225)",
          "line": {
           "color": "rgb(8,48,107)",
           "width": 1.5
          }
         },
         "opacity": 0.6,
         "orientation": "h",
         "text": [
          0.1614,
          0.0724,
          0.0653,
          0.065,
          0.0521,
          0.0439,
          0.0336,
          0.0321,
          0.0315,
          0.0284,
          0.0269,
          0.0253,
          0.0246,
          0.0239,
          0.0217,
          0.0211,
          0.019,
          0.0187,
          0.0184,
          0.0183,
          0.017,
          0.0167,
          0.0163,
          0.0159,
          0.0153,
          0.0151,
          0.0146,
          0.0106,
          0.0106,
          0.0095,
          0.0091,
          0.0083,
          0.0065,
          0.0064,
          0.006,
          0.0056,
          0.005,
          0.0044,
          0.0033
         ],
         "textposition": "outside",
         "type": "bar",
         "uid": "12c9e725-9cb0-41f8-8232-d0a70ac0a818",
         "x": [
          0.1614315843949296,
          0.07244338654342822,
          0.06533900118276097,
          0.06501309303967218,
          0.05207571151625778,
          0.04391475908701044,
          0.033639884468931326,
          0.03205242084165088,
          0.03147950573914375,
          0.0284201089536515,
          0.026905900585323682,
          0.025329090462902493,
          0.024627272292405734,
          0.023895354200564562,
          0.02167491764195666,
          0.02114271279511853,
          0.01900598386853715,
          0.01865702319452557,
          0.018374992665137896,
          0.018277858263686185,
          0.01699598518809429,
          0.01668061622193122,
          0.01630328834823589,
          0.015858453190899284,
          0.015341435714609756,
          0.015063356983764941,
          0.014592025857390448,
          0.01060836860832195,
          0.010587099070610569,
          0.009519720240202607,
          0.00914494012156084,
          0.008303592277419348,
          0.006538472597841583,
          0.006416310242259009,
          0.006041850285136511,
          0.005601061277314603,
          0.005021489905080603,
          0.004394164949094014,
          0.0032872075086002018
         ],
         "y": [
          "title_count",
          "url_length",
          "url_extensions",
          "url_char_w",
          "http_header_content-encoding_gzip",
          "url_char_t",
          "script_src_out_of_domain",
          "a_count",
          "url_char_.",
          "meta_count",
          "a_href_out_of_domain",
          "link_href_out_of_domain",
          "http_header_transfer-encoding_chunked",
          "url_char_i",
          "http_header_cache-control_set_max-age",
          "url_char_l",
          "push",
          "http_header_server_apache",
          "url_char_z",
          "li_count",
          "img_src_http",
          "link_type_text/css",
          "p_count",
          "url_extension_endswith_.com",
          "script_count",
          "http_header_content-length",
          "url_char_d",
          "http_header_vary_user-agent",
          "http_header_via_1.1",
          "center_count",
          "url_char_f",
          "a_href_https",
          "script_src_https",
          "url_char_p",
          "iframe_src_.html",
          "a_href_relative",
          "input_count",
          "url_char_y",
          "a_href_http"
         ]
        }
       ],
       "layout": {
        "autosize": false,
        "height": 1000,
        "width": 1000,
        "xaxis": {
         "tickfont": {
          "color": "black",
          "size": 12
         },
         "title": "Feature Importances"
        },
        "yaxis": {
         "automargin": true
        }
       }
      },
      "text/html": [
       "<div id=\"db6afa87-c418-4b0f-bbf8-3606191e5298\" style=\"height: 1000px; width: 1000px;\" class=\"plotly-graph-div\"></div><script type=\"text/javascript\">require([\"plotly\"], function(Plotly) { window.PLOTLYENV=window.PLOTLYENV || {};window.PLOTLYENV.BASE_URL=\"https://plot.ly\";Plotly.newPlot(\"db6afa87-c418-4b0f-bbf8-3606191e5298\", [{\"marker\": {\"color\": \"rgb(158,202,225)\", \"line\": {\"color\": \"rgb(8,48,107)\", \"width\": 1.5}}, \"opacity\": 0.6, \"orientation\": \"h\", \"text\": [0.1614, 0.0724, 0.0653, 0.065, 0.0521, 0.0439, 0.0336, 0.0321, 0.0315, 0.0284, 0.0269, 0.0253, 0.0246, 0.0239, 0.0217, 0.0211, 0.019, 0.0187, 0.0184, 0.0183, 0.017, 0.0167, 0.0163, 0.0159, 0.0153, 0.0151, 0.0146, 0.0106, 0.0106, 0.0095, 0.0091, 0.0083, 0.0065, 0.0064, 0.006, 0.0056, 0.005, 0.0044, 0.0033], \"textposition\": \"outside\", \"x\": [0.1614315843949296, 0.07244338654342822, 0.06533900118276097, 0.06501309303967218, 0.05207571151625778, 0.04391475908701044, 0.033639884468931326, 0.03205242084165088, 0.03147950573914375, 0.0284201089536515, 0.026905900585323682, 0.025329090462902493, 0.024627272292405734, 0.023895354200564562, 0.02167491764195666, 0.02114271279511853, 0.01900598386853715, 0.01865702319452557, 0.018374992665137896, 0.018277858263686185, 0.01699598518809429, 0.01668061622193122, 0.01630328834823589, 0.015858453190899284, 0.015341435714609756, 0.015063356983764941, 0.014592025857390448, 0.01060836860832195, 0.010587099070610569, 0.009519720240202607, 0.00914494012156084, 0.008303592277419348, 0.006538472597841583, 0.006416310242259009, 0.006041850285136511, 0.005601061277314603, 0.005021489905080603, 0.004394164949094014, 0.0032872075086002018], \"y\": [\"title_count\", \"url_length\", \"url_extensions\", \"url_char_w\", \"http_header_content-encoding_gzip\", \"url_char_t\", \"script_src_out_of_domain\", \"a_count\", \"url_char_.\", \"meta_count\", \"a_href_out_of_domain\", \"link_href_out_of_domain\", \"http_header_transfer-encoding_chunked\", \"url_char_i\", \"http_header_cache-control_set_max-age\", \"url_char_l\", \"push\", \"http_header_server_apache\", \"url_char_z\", \"li_count\", \"img_src_http\", \"link_type_text/css\", \"p_count\", \"url_extension_endswith_.com\", \"script_count\", \"http_header_content-length\", \"url_char_d\", \"http_header_vary_user-agent\", \"http_header_via_1.1\", \"center_count\", \"url_char_f\", \"a_href_https\", \"script_src_https\", \"url_char_p\", \"iframe_src_.html\", \"a_href_relative\", \"input_count\", \"url_char_y\", \"a_href_http\"], \"type\": \"bar\", \"uid\": \"12c9e725-9cb0-41f8-8232-d0a70ac0a818\"}], {\"autosize\": false, \"height\": 1000, \"width\": 1000, \"xaxis\": {\"tickfont\": {\"color\": \"black\", \"size\": 12}, \"title\": \"Feature Importances\"}, \"yaxis\": {\"automargin\": true}}, {\"showLink\": true, \"linkText\": \"Export to plot.ly\", \"plotlyServerURL\": \"https://plot.ly\"})});</script>"
      ],
      "text/vnd.plotly.v1+html": [
       "<div id=\"db6afa87-c418-4b0f-bbf8-3606191e5298\" style=\"height: 1000px; width: 1000px;\" class=\"plotly-graph-div\"></div><script type=\"text/javascript\">require([\"plotly\"], function(Plotly) { window.PLOTLYENV=window.PLOTLYENV || {};window.PLOTLYENV.BASE_URL=\"https://plot.ly\";Plotly.newPlot(\"db6afa87-c418-4b0f-bbf8-3606191e5298\", [{\"marker\": {\"color\": \"rgb(158,202,225)\", \"line\": {\"color\": \"rgb(8,48,107)\", \"width\": 1.5}}, \"opacity\": 0.6, \"orientation\": \"h\", \"text\": [0.1614, 0.0724, 0.0653, 0.065, 0.0521, 0.0439, 0.0336, 0.0321, 0.0315, 0.0284, 0.0269, 0.0253, 0.0246, 0.0239, 0.0217, 0.0211, 0.019, 0.0187, 0.0184, 0.0183, 0.017, 0.0167, 0.0163, 0.0159, 0.0153, 0.0151, 0.0146, 0.0106, 0.0106, 0.0095, 0.0091, 0.0083, 0.0065, 0.0064, 0.006, 0.0056, 0.005, 0.0044, 0.0033], \"textposition\": \"outside\", \"x\": [0.1614315843949296, 0.07244338654342822, 0.06533900118276097, 0.06501309303967218, 0.05207571151625778, 0.04391475908701044, 0.033639884468931326, 0.03205242084165088, 0.03147950573914375, 0.0284201089536515, 0.026905900585323682, 0.025329090462902493, 0.024627272292405734, 0.023895354200564562, 0.02167491764195666, 0.02114271279511853, 0.01900598386853715, 0.01865702319452557, 0.018374992665137896, 0.018277858263686185, 0.01699598518809429, 0.01668061622193122, 0.01630328834823589, 0.015858453190899284, 0.015341435714609756, 0.015063356983764941, 0.014592025857390448, 0.01060836860832195, 0.010587099070610569, 0.009519720240202607, 0.00914494012156084, 0.008303592277419348, 0.006538472597841583, 0.006416310242259009, 0.006041850285136511, 0.005601061277314603, 0.005021489905080603, 0.004394164949094014, 0.0032872075086002018], \"y\": [\"title_count\", \"url_length\", \"url_extensions\", \"url_char_w\", \"http_header_content-encoding_gzip\", \"url_char_t\", \"script_src_out_of_domain\", \"a_count\", \"url_char_.\", \"meta_count\", \"a_href_out_of_domain\", \"link_href_out_of_domain\", \"http_header_transfer-encoding_chunked\", \"url_char_i\", \"http_header_cache-control_set_max-age\", \"url_char_l\", \"push\", \"http_header_server_apache\", \"url_char_z\", \"li_count\", \"img_src_http\", \"link_type_text/css\", \"p_count\", \"url_extension_endswith_.com\", \"script_count\", \"http_header_content-length\", \"url_char_d\", \"http_header_vary_user-agent\", \"http_header_via_1.1\", \"center_count\", \"url_char_f\", \"a_href_https\", \"script_src_https\", \"url_char_p\", \"iframe_src_.html\", \"a_href_relative\", \"input_count\", \"url_char_y\", \"a_href_http\"], \"type\": \"bar\", \"uid\": \"12c9e725-9cb0-41f8-8232-d0a70ac0a818\"}], {\"autosize\": false, \"height\": 1000, \"width\": 1000, \"xaxis\": {\"tickfont\": {\"color\": \"black\", \"size\": 12}, \"title\": \"Feature Importances\"}, \"yaxis\": {\"automargin\": true}}, {\"showLink\": true, \"linkText\": \"Export to plot.ly\", \"plotlyServerURL\": \"https://plot.ly\"})});</script>"
      ]
     },
     "metadata": {},
     "output_type": "display_data"
    }
   ],
   "source": [
    "feat_impt_plot(np.average(feat_imp,axis=0),columns)"
   ]
  },
  {
   "cell_type": "markdown",
   "metadata": {},
   "source": [
    "### <a id='3' style=\"text-decoration : none; color : #000000;\">3. UnderSampling </a>"
   ]
  },
  {
   "cell_type": "code",
   "execution_count": 26,
   "metadata": {
    "scrolled": false
   },
   "outputs": [
    {
     "name": "stdout",
     "output_type": "stream",
     "text": [
      "Shape after undersampling (6202, 39)\n",
      "\u001b[1mK-Nearest Neighbors\u001b[0m\n",
      "Accuracy of the model for training data is: 0.9521122218639149\n",
      "Confusion Matrix for training data is:\n"
     ]
    },
    {
     "data": {
      "text/plain": [
       "Predicted  False  True  __all__\n",
       "Actual                         \n",
       "False       2964   137     3101\n",
       "True         160  2941     3101\n",
       "__all__     3124  3078     6202"
      ]
     },
     "metadata": {},
     "output_type": "display_data"
    },
    {
     "name": "stdout",
     "output_type": "stream",
     "text": [
      "Accuracy of the model for test data is: 0.935431731178222\n",
      "Confusion Matrix for test data is:\n"
     ]
    },
    {
     "data": {
      "text/plain": [
       "Predicted  False  True  __all__\n",
       "Actual                         \n",
       "False       9760   655    10415\n",
       "True         104  1236     1340\n",
       "__all__     9864  1891    11755"
      ]
     },
     "metadata": {},
     "output_type": "display_data"
    },
    {
     "name": "stdout",
     "output_type": "stream",
     "text": [
      "\n",
      "\n",
      "\u001b[1mRandomForest Classifier\u001b[0m\n",
      "Accuracy of the model for training data is: 0.9970977104159948\n",
      "Confusion Matrix for training data is:\n"
     ]
    },
    {
     "data": {
      "text/plain": [
       "Predicted  False  True  __all__\n",
       "Actual                         \n",
       "False       3096     5     3101\n",
       "True          13  3088     3101\n",
       "__all__     3109  3093     6202"
      ]
     },
     "metadata": {},
     "output_type": "display_data"
    },
    {
     "name": "stdout",
     "output_type": "stream",
     "text": [
      "Accuracy of the model for test data is: 0.9584006805614632\n",
      "Confusion Matrix for test data is:\n"
     ]
    },
    {
     "data": {
      "text/plain": [
       "Predicted  False  True  __all__\n",
       "Actual                         \n",
       "False      10025   390    10415\n",
       "True          99  1241     1340\n",
       "__all__    10124  1631    11755"
      ]
     },
     "metadata": {},
     "output_type": "display_data"
    },
    {
     "data": {
      "application/vnd.plotly.v1+json": {
       "config": {
        "linkText": "Export to plot.ly",
        "plotlyServerURL": "https://plot.ly",
        "showLink": true
       },
       "data": [
        {
         "marker": {
          "color": "rgb(158,202,225)",
          "line": {
           "color": "rgb(8,48,107)",
           "width": 1.5
          }
         },
         "opacity": 0.6,
         "orientation": "h",
         "text": [
          0.1189,
          0.101,
          0.0728,
          0.0724,
          0.0687,
          0.0674,
          0.0637,
          0.0597,
          0.0536,
          0.0475,
          0.0397,
          0.0287,
          0.0196,
          0.0156,
          0.012,
          0.0113,
          0.011,
          0.0107,
          0.0094,
          0.0092,
          0.0082,
          0.0082,
          0.0079,
          0.0078,
          0.0073,
          0.007,
          0.007,
          0.0068,
          0.0065,
          0.0064,
          0.006,
          0.0056,
          0.0055,
          0.0044,
          0.0043,
          0.003,
          0.0026,
          0.0023,
          0.0005
         ],
         "textposition": "outside",
         "type": "bar",
         "uid": "0d6f3a73-9ddd-4022-adad-70218f872e7a",
         "x": [
          0.11885622930467998,
          0.10100843410963187,
          0.07275809164490657,
          0.07241201259644771,
          0.06867729531195886,
          0.06743718716230593,
          0.06367219304929593,
          0.05972254610975386,
          0.053561999844862984,
          0.0475331954464505,
          0.039710131427472345,
          0.028726267679683882,
          0.019612450107644393,
          0.01561188654123129,
          0.011978012475347546,
          0.011268195687861582,
          0.01104777993331563,
          0.01070380671739432,
          0.009399398824175773,
          0.009170343795580665,
          0.008223268918361466,
          0.008208223113823914,
          0.007898685154128518,
          0.007763126963176575,
          0.00728924805751433,
          0.007038519326138498,
          0.006994269189459905,
          0.006763412976160456,
          0.006509361008566195,
          0.006356865898130471,
          0.005975075368370218,
          0.0055796053494204054,
          0.0054762506616150885,
          0.0043907662084454666,
          0.004291137299724966,
          0.0029551599412070205,
          0.0025782341645868884,
          0.0023279655144353415,
          0.0005133671167326596
         ],
         "y": [
          "script_count",
          "script_src_out_of_domain",
          "a_href_relative",
          "a_count",
          "url_length",
          "a_href_out_of_domain",
          "link_href_out_of_domain",
          "meta_count",
          "li_count",
          "url_char_.",
          "url_extensions",
          "url_char_w",
          "a_href_https",
          "http_header_content-encoding_gzip",
          "url_char_i",
          "push",
          "url_char_z",
          "http_header_server_apache",
          "http_header_content-length",
          "url_char_t",
          "p_count",
          "url_char_p",
          "url_extension_endswith_.com",
          "url_char_l",
          "url_char_d",
          "script_src_https",
          "link_type_text/css",
          "title_count",
          "http_header_transfer-encoding_chunked",
          "http_header_cache-control_set_max-age",
          "a_href_http",
          "url_char_y",
          "url_char_f",
          "input_count",
          "http_header_vary_user-agent",
          "img_src_http",
          "center_count",
          "http_header_via_1.1",
          "iframe_src_.html"
         ]
        }
       ],
       "layout": {
        "autosize": false,
        "height": 1000,
        "width": 1000,
        "xaxis": {
         "tickfont": {
          "color": "black",
          "size": 12
         },
         "title": "Feature Importances"
        },
        "yaxis": {
         "automargin": true
        }
       }
      },
      "text/html": [
       "<div id=\"7236aa45-4479-4997-b7ea-8c7563e20c7d\" style=\"height: 1000px; width: 1000px;\" class=\"plotly-graph-div\"></div><script type=\"text/javascript\">require([\"plotly\"], function(Plotly) { window.PLOTLYENV=window.PLOTLYENV || {};window.PLOTLYENV.BASE_URL=\"https://plot.ly\";Plotly.newPlot(\"7236aa45-4479-4997-b7ea-8c7563e20c7d\", [{\"marker\": {\"color\": \"rgb(158,202,225)\", \"line\": {\"color\": \"rgb(8,48,107)\", \"width\": 1.5}}, \"opacity\": 0.6, \"orientation\": \"h\", \"text\": [0.1189, 0.101, 0.0728, 0.0724, 0.0687, 0.0674, 0.0637, 0.0597, 0.0536, 0.0475, 0.0397, 0.0287, 0.0196, 0.0156, 0.012, 0.0113, 0.011, 0.0107, 0.0094, 0.0092, 0.0082, 0.0082, 0.0079, 0.0078, 0.0073, 0.007, 0.007, 0.0068, 0.0065, 0.0064, 0.006, 0.0056, 0.0055, 0.0044, 0.0043, 0.003, 0.0026, 0.0023, 0.0005], \"textposition\": \"outside\", \"x\": [0.11885622930467998, 0.10100843410963187, 0.07275809164490657, 0.07241201259644771, 0.06867729531195886, 0.06743718716230593, 0.06367219304929593, 0.05972254610975386, 0.053561999844862984, 0.0475331954464505, 0.039710131427472345, 0.028726267679683882, 0.019612450107644393, 0.01561188654123129, 0.011978012475347546, 0.011268195687861582, 0.01104777993331563, 0.01070380671739432, 0.009399398824175773, 0.009170343795580665, 0.008223268918361466, 0.008208223113823914, 0.007898685154128518, 0.007763126963176575, 0.00728924805751433, 0.007038519326138498, 0.006994269189459905, 0.006763412976160456, 0.006509361008566195, 0.006356865898130471, 0.005975075368370218, 0.0055796053494204054, 0.0054762506616150885, 0.0043907662084454666, 0.004291137299724966, 0.0029551599412070205, 0.0025782341645868884, 0.0023279655144353415, 0.0005133671167326596], \"y\": [\"script_count\", \"script_src_out_of_domain\", \"a_href_relative\", \"a_count\", \"url_length\", \"a_href_out_of_domain\", \"link_href_out_of_domain\", \"meta_count\", \"li_count\", \"url_char_.\", \"url_extensions\", \"url_char_w\", \"a_href_https\", \"http_header_content-encoding_gzip\", \"url_char_i\", \"push\", \"url_char_z\", \"http_header_server_apache\", \"http_header_content-length\", \"url_char_t\", \"p_count\", \"url_char_p\", \"url_extension_endswith_.com\", \"url_char_l\", \"url_char_d\", \"script_src_https\", \"link_type_text/css\", \"title_count\", \"http_header_transfer-encoding_chunked\", \"http_header_cache-control_set_max-age\", \"a_href_http\", \"url_char_y\", \"url_char_f\", \"input_count\", \"http_header_vary_user-agent\", \"img_src_http\", \"center_count\", \"http_header_via_1.1\", \"iframe_src_.html\"], \"type\": \"bar\", \"uid\": \"0d6f3a73-9ddd-4022-adad-70218f872e7a\"}], {\"autosize\": false, \"height\": 1000, \"width\": 1000, \"xaxis\": {\"tickfont\": {\"color\": \"black\", \"size\": 12}, \"title\": \"Feature Importances\"}, \"yaxis\": {\"automargin\": true}}, {\"showLink\": true, \"linkText\": \"Export to plot.ly\", \"plotlyServerURL\": \"https://plot.ly\"})});</script>"
      ],
      "text/vnd.plotly.v1+html": [
       "<div id=\"7236aa45-4479-4997-b7ea-8c7563e20c7d\" style=\"height: 1000px; width: 1000px;\" class=\"plotly-graph-div\"></div><script type=\"text/javascript\">require([\"plotly\"], function(Plotly) { window.PLOTLYENV=window.PLOTLYENV || {};window.PLOTLYENV.BASE_URL=\"https://plot.ly\";Plotly.newPlot(\"7236aa45-4479-4997-b7ea-8c7563e20c7d\", [{\"marker\": {\"color\": \"rgb(158,202,225)\", \"line\": {\"color\": \"rgb(8,48,107)\", \"width\": 1.5}}, \"opacity\": 0.6, \"orientation\": \"h\", \"text\": [0.1189, 0.101, 0.0728, 0.0724, 0.0687, 0.0674, 0.0637, 0.0597, 0.0536, 0.0475, 0.0397, 0.0287, 0.0196, 0.0156, 0.012, 0.0113, 0.011, 0.0107, 0.0094, 0.0092, 0.0082, 0.0082, 0.0079, 0.0078, 0.0073, 0.007, 0.007, 0.0068, 0.0065, 0.0064, 0.006, 0.0056, 0.0055, 0.0044, 0.0043, 0.003, 0.0026, 0.0023, 0.0005], \"textposition\": \"outside\", \"x\": [0.11885622930467998, 0.10100843410963187, 0.07275809164490657, 0.07241201259644771, 0.06867729531195886, 0.06743718716230593, 0.06367219304929593, 0.05972254610975386, 0.053561999844862984, 0.0475331954464505, 0.039710131427472345, 0.028726267679683882, 0.019612450107644393, 0.01561188654123129, 0.011978012475347546, 0.011268195687861582, 0.01104777993331563, 0.01070380671739432, 0.009399398824175773, 0.009170343795580665, 0.008223268918361466, 0.008208223113823914, 0.007898685154128518, 0.007763126963176575, 0.00728924805751433, 0.007038519326138498, 0.006994269189459905, 0.006763412976160456, 0.006509361008566195, 0.006356865898130471, 0.005975075368370218, 0.0055796053494204054, 0.0054762506616150885, 0.0043907662084454666, 0.004291137299724966, 0.0029551599412070205, 0.0025782341645868884, 0.0023279655144353415, 0.0005133671167326596], \"y\": [\"script_count\", \"script_src_out_of_domain\", \"a_href_relative\", \"a_count\", \"url_length\", \"a_href_out_of_domain\", \"link_href_out_of_domain\", \"meta_count\", \"li_count\", \"url_char_.\", \"url_extensions\", \"url_char_w\", \"a_href_https\", \"http_header_content-encoding_gzip\", \"url_char_i\", \"push\", \"url_char_z\", \"http_header_server_apache\", \"http_header_content-length\", \"url_char_t\", \"p_count\", \"url_char_p\", \"url_extension_endswith_.com\", \"url_char_l\", \"url_char_d\", \"script_src_https\", \"link_type_text/css\", \"title_count\", \"http_header_transfer-encoding_chunked\", \"http_header_cache-control_set_max-age\", \"a_href_http\", \"url_char_y\", \"url_char_f\", \"input_count\", \"http_header_vary_user-agent\", \"img_src_http\", \"center_count\", \"http_header_via_1.1\", \"iframe_src_.html\"], \"type\": \"bar\", \"uid\": \"0d6f3a73-9ddd-4022-adad-70218f872e7a\"}], {\"autosize\": false, \"height\": 1000, \"width\": 1000, \"xaxis\": {\"tickfont\": {\"color\": \"black\", \"size\": 12}, \"title\": \"Feature Importances\"}, \"yaxis\": {\"automargin\": true}}, {\"showLink\": true, \"linkText\": \"Export to plot.ly\", \"plotlyServerURL\": \"https://plot.ly\"})});</script>"
      ]
     },
     "metadata": {},
     "output_type": "display_data"
    },
    {
     "name": "stdout",
     "output_type": "stream",
     "text": [
      "\n",
      "\n",
      "\u001b[1mAdaoost Classifier\u001b[0m\n",
      "Accuracy of the model for training data is: 0.9377620122541116\n",
      "Confusion Matrix for training data is:\n"
     ]
    },
    {
     "data": {
      "text/plain": [
       "Predicted  False  True  __all__\n",
       "Actual                         \n",
       "False       2886   215     3101\n",
       "True         171  2930     3101\n",
       "__all__     3057  3145     6202"
      ]
     },
     "metadata": {},
     "output_type": "display_data"
    },
    {
     "name": "stdout",
     "output_type": "stream",
     "text": [
      "Accuracy of the model for test data is: 0.9344959591663122\n",
      "Confusion Matrix for test data is:\n"
     ]
    },
    {
     "data": {
      "text/plain": [
       "Predicted  False  True  __all__\n",
       "Actual                         \n",
       "False       9736   679    10415\n",
       "True          91  1249     1340\n",
       "__all__     9827  1928    11755"
      ]
     },
     "metadata": {},
     "output_type": "display_data"
    },
    {
     "data": {
      "application/vnd.plotly.v1+json": {
       "config": {
        "linkText": "Export to plot.ly",
        "plotlyServerURL": "https://plot.ly",
        "showLink": true
       },
       "data": [
        {
         "marker": {
          "color": "rgb(158,202,225)",
          "line": {
           "color": "rgb(8,48,107)",
           "width": 1.5
          }
         },
         "opacity": 0.6,
         "orientation": "h",
         "text": [
          0.12,
          0.06,
          0.06,
          0.04,
          0.04,
          0.04,
          0.04,
          0.04,
          0.04,
          0.04,
          0.04,
          0.02,
          0.02,
          0.02,
          0.02,
          0.02,
          0.02,
          0.02,
          0.02,
          0.02,
          0.02,
          0.02,
          0.02,
          0.02,
          0.02,
          0.02,
          0.02,
          0.02,
          0.02,
          0.02,
          0.02,
          0.02,
          0.02,
          0,
          0,
          0,
          0,
          0,
          0
         ],
         "textposition": "outside",
         "type": "bar",
         "uid": "419d1453-cc60-4ebc-b945-7df125309837",
         "x": [
          0.12,
          0.06,
          0.06,
          0.04,
          0.04,
          0.04,
          0.04,
          0.04,
          0.04,
          0.04,
          0.04,
          0.02,
          0.02,
          0.02,
          0.02,
          0.02,
          0.02,
          0.02,
          0.02,
          0.02,
          0.02,
          0.02,
          0.02,
          0.02,
          0.02,
          0.02,
          0.02,
          0.02,
          0.02,
          0.02,
          0.02,
          0.02,
          0.02,
          0,
          0,
          0,
          0,
          0,
          0
         ],
         "y": [
          "url_length",
          "a_count",
          "push",
          "http_header_content-length",
          "link_href_out_of_domain",
          "p_count",
          "url_char_i",
          "a_href_out_of_domain",
          "link_type_text/css",
          "url_char_w",
          "url_extensions",
          "url_char_p",
          "url_char_l",
          "url_char_y",
          "url_char_z",
          "url_char_f",
          "url_char_.",
          "http_header_via_1.1",
          "http_header_vary_user-agent",
          "http_header_transfer-encoding_chunked",
          "http_header_server_apache",
          "a_href_https",
          "http_header_content-encoding_gzip",
          "meta_count",
          "center_count",
          "iframe_src_.html",
          "img_src_http",
          "input_count",
          "a_href_http",
          "li_count",
          "script_count",
          "script_src_out_of_domain",
          "http_header_cache-control_set_max-age",
          "url_char_d",
          "url_char_t",
          "script_src_https",
          "title_count",
          "url_extension_endswith_.com",
          "a_href_relative"
         ]
        }
       ],
       "layout": {
        "autosize": false,
        "height": 1000,
        "width": 1000,
        "xaxis": {
         "tickfont": {
          "color": "black",
          "size": 12
         },
         "title": "Feature Importances"
        },
        "yaxis": {
         "automargin": true
        }
       }
      },
      "text/html": [
       "<div id=\"ed68141f-725b-45c3-bac8-3f991d495418\" style=\"height: 1000px; width: 1000px;\" class=\"plotly-graph-div\"></div><script type=\"text/javascript\">require([\"plotly\"], function(Plotly) { window.PLOTLYENV=window.PLOTLYENV || {};window.PLOTLYENV.BASE_URL=\"https://plot.ly\";Plotly.newPlot(\"ed68141f-725b-45c3-bac8-3f991d495418\", [{\"marker\": {\"color\": \"rgb(158,202,225)\", \"line\": {\"color\": \"rgb(8,48,107)\", \"width\": 1.5}}, \"opacity\": 0.6, \"orientation\": \"h\", \"text\": [0.12, 0.06, 0.06, 0.04, 0.04, 0.04, 0.04, 0.04, 0.04, 0.04, 0.04, 0.02, 0.02, 0.02, 0.02, 0.02, 0.02, 0.02, 0.02, 0.02, 0.02, 0.02, 0.02, 0.02, 0.02, 0.02, 0.02, 0.02, 0.02, 0.02, 0.02, 0.02, 0.02, 0.0, 0.0, 0.0, 0.0, 0.0, 0.0], \"textposition\": \"outside\", \"x\": [0.12, 0.06, 0.06, 0.04, 0.04, 0.04, 0.04, 0.04, 0.04, 0.04, 0.04, 0.02, 0.02, 0.02, 0.02, 0.02, 0.02, 0.02, 0.02, 0.02, 0.02, 0.02, 0.02, 0.02, 0.02, 0.02, 0.02, 0.02, 0.02, 0.02, 0.02, 0.02, 0.02, 0.0, 0.0, 0.0, 0.0, 0.0, 0.0], \"y\": [\"url_length\", \"a_count\", \"push\", \"http_header_content-length\", \"link_href_out_of_domain\", \"p_count\", \"url_char_i\", \"a_href_out_of_domain\", \"link_type_text/css\", \"url_char_w\", \"url_extensions\", \"url_char_p\", \"url_char_l\", \"url_char_y\", \"url_char_z\", \"url_char_f\", \"url_char_.\", \"http_header_via_1.1\", \"http_header_vary_user-agent\", \"http_header_transfer-encoding_chunked\", \"http_header_server_apache\", \"a_href_https\", \"http_header_content-encoding_gzip\", \"meta_count\", \"center_count\", \"iframe_src_.html\", \"img_src_http\", \"input_count\", \"a_href_http\", \"li_count\", \"script_count\", \"script_src_out_of_domain\", \"http_header_cache-control_set_max-age\", \"url_char_d\", \"url_char_t\", \"script_src_https\", \"title_count\", \"url_extension_endswith_.com\", \"a_href_relative\"], \"type\": \"bar\", \"uid\": \"419d1453-cc60-4ebc-b945-7df125309837\"}], {\"autosize\": false, \"height\": 1000, \"width\": 1000, \"xaxis\": {\"tickfont\": {\"color\": \"black\", \"size\": 12}, \"title\": \"Feature Importances\"}, \"yaxis\": {\"automargin\": true}}, {\"showLink\": true, \"linkText\": \"Export to plot.ly\", \"plotlyServerURL\": \"https://plot.ly\"})});</script>"
      ],
      "text/vnd.plotly.v1+html": [
       "<div id=\"ed68141f-725b-45c3-bac8-3f991d495418\" style=\"height: 1000px; width: 1000px;\" class=\"plotly-graph-div\"></div><script type=\"text/javascript\">require([\"plotly\"], function(Plotly) { window.PLOTLYENV=window.PLOTLYENV || {};window.PLOTLYENV.BASE_URL=\"https://plot.ly\";Plotly.newPlot(\"ed68141f-725b-45c3-bac8-3f991d495418\", [{\"marker\": {\"color\": \"rgb(158,202,225)\", \"line\": {\"color\": \"rgb(8,48,107)\", \"width\": 1.5}}, \"opacity\": 0.6, \"orientation\": \"h\", \"text\": [0.12, 0.06, 0.06, 0.04, 0.04, 0.04, 0.04, 0.04, 0.04, 0.04, 0.04, 0.02, 0.02, 0.02, 0.02, 0.02, 0.02, 0.02, 0.02, 0.02, 0.02, 0.02, 0.02, 0.02, 0.02, 0.02, 0.02, 0.02, 0.02, 0.02, 0.02, 0.02, 0.02, 0.0, 0.0, 0.0, 0.0, 0.0, 0.0], \"textposition\": \"outside\", \"x\": [0.12, 0.06, 0.06, 0.04, 0.04, 0.04, 0.04, 0.04, 0.04, 0.04, 0.04, 0.02, 0.02, 0.02, 0.02, 0.02, 0.02, 0.02, 0.02, 0.02, 0.02, 0.02, 0.02, 0.02, 0.02, 0.02, 0.02, 0.02, 0.02, 0.02, 0.02, 0.02, 0.02, 0.0, 0.0, 0.0, 0.0, 0.0, 0.0], \"y\": [\"url_length\", \"a_count\", \"push\", \"http_header_content-length\", \"link_href_out_of_domain\", \"p_count\", \"url_char_i\", \"a_href_out_of_domain\", \"link_type_text/css\", \"url_char_w\", \"url_extensions\", \"url_char_p\", \"url_char_l\", \"url_char_y\", \"url_char_z\", \"url_char_f\", \"url_char_.\", \"http_header_via_1.1\", \"http_header_vary_user-agent\", \"http_header_transfer-encoding_chunked\", \"http_header_server_apache\", \"a_href_https\", \"http_header_content-encoding_gzip\", \"meta_count\", \"center_count\", \"iframe_src_.html\", \"img_src_http\", \"input_count\", \"a_href_http\", \"li_count\", \"script_count\", \"script_src_out_of_domain\", \"http_header_cache-control_set_max-age\", \"url_char_d\", \"url_char_t\", \"script_src_https\", \"title_count\", \"url_extension_endswith_.com\", \"a_href_relative\"], \"type\": \"bar\", \"uid\": \"419d1453-cc60-4ebc-b945-7df125309837\"}], {\"autosize\": false, \"height\": 1000, \"width\": 1000, \"xaxis\": {\"tickfont\": {\"color\": \"black\", \"size\": 12}, \"title\": \"Feature Importances\"}, \"yaxis\": {\"automargin\": true}}, {\"showLink\": true, \"linkText\": \"Export to plot.ly\", \"plotlyServerURL\": \"https://plot.ly\"})});</script>"
      ]
     },
     "metadata": {},
     "output_type": "display_data"
    },
    {
     "name": "stdout",
     "output_type": "stream",
     "text": [
      "\n",
      "\n",
      "\u001b[1mGradientBoosting Classifier\u001b[0m\n",
      "Accuracy of the model for training data is: 0.9574330861012577\n",
      "Confusion Matrix for training data is:\n"
     ]
    },
    {
     "data": {
      "text/plain": [
       "Predicted  False  True  __all__\n",
       "Actual                         \n",
       "False       2975   126     3101\n",
       "True         138  2963     3101\n",
       "__all__     3113  3089     6202"
      ]
     },
     "metadata": {},
     "output_type": "display_data"
    },
    {
     "name": "stdout",
     "output_type": "stream",
     "text": [
      "Accuracy of the model for test data is: 0.9515099957464909\n",
      "Confusion Matrix for test data is:\n"
     ]
    },
    {
     "data": {
      "text/plain": [
       "Predicted  False  True  __all__\n",
       "Actual                         \n",
       "False       9933   482    10415\n",
       "True          88  1252     1340\n",
       "__all__    10021  1734    11755"
      ]
     },
     "metadata": {},
     "output_type": "display_data"
    },
    {
     "data": {
      "application/vnd.plotly.v1+json": {
       "config": {
        "linkText": "Export to plot.ly",
        "plotlyServerURL": "https://plot.ly",
        "showLink": true
       },
       "data": [
        {
         "marker": {
          "color": "rgb(158,202,225)",
          "line": {
           "color": "rgb(8,48,107)",
           "width": 1.5
          }
         },
         "opacity": 0.6,
         "orientation": "h",
         "text": [
          0.3618,
          0.1638,
          0.082,
          0.0794,
          0.0663,
          0.0558,
          0.0527,
          0.0234,
          0.0204,
          0.0182,
          0.0171,
          0.0091,
          0.0067,
          0.005,
          0.0046,
          0.0039,
          0.0032,
          0.0032,
          0.0032,
          0.0031,
          0.0023,
          0.0023,
          0.002,
          0.0019,
          0.0018,
          0.0013,
          0.0013,
          0.0012,
          0.0007,
          0.0006,
          0.0003,
          0.0003,
          0.0003,
          0.0003,
          0.0002,
          0.0002,
          0.0002,
          0,
          0
         ],
         "textposition": "outside",
         "type": "bar",
         "uid": "04946979-9a75-4794-a4aa-47bf4c70592c",
         "x": [
          0.3617723539101957,
          0.16381733903699183,
          0.08198516025743334,
          0.079353794035943,
          0.066262212363952,
          0.05584133907485947,
          0.05265409813211484,
          0.023436446507593578,
          0.020353349141175318,
          0.01815673327524468,
          0.01711704095565196,
          0.009101911699672357,
          0.006660605858910961,
          0.004967626654587328,
          0.004591190067905638,
          0.003906650405571389,
          0.0032385564703963404,
          0.0031995337168431426,
          0.003157510981455593,
          0.0031485969138219856,
          0.002336228474379112,
          0.002252964794672707,
          0.002012119707142476,
          0.0019218268178590216,
          0.0017561548154494443,
          0.00134879065731659,
          0.0013109541892428224,
          0.0012156441315622866,
          0.0007233964339978609,
          0.0006440759726513065,
          0.00031374250230634267,
          0.0003066841551347558,
          0.0002997915909218325,
          0.0002559410076538952,
          0.00023296922643020258,
          0.00019066952958010004,
          0.0001559965333788283,
          0,
          0
         ],
         "y": [
          "a_count",
          "a_href_out_of_domain",
          "url_length",
          "url_char_w",
          "meta_count",
          "url_extensions",
          "a_href_relative",
          "push",
          "http_header_server_apache",
          "title_count",
          "url_char_z",
          "http_header_content-encoding_gzip",
          "url_char_.",
          "link_href_out_of_domain",
          "http_header_content-length",
          "a_href_https",
          "http_header_vary_user-agent",
          "link_type_text/css",
          "http_header_via_1.1",
          "p_count",
          "url_extension_endswith_.com",
          "script_count",
          "center_count",
          "script_src_https",
          "li_count",
          "http_header_cache-control_set_max-age",
          "img_src_http",
          "http_header_transfer-encoding_chunked",
          "url_char_i",
          "input_count",
          "url_char_d",
          "url_char_y",
          "url_char_f",
          "url_char_p",
          "url_char_l",
          "script_src_out_of_domain",
          "url_char_t",
          "iframe_src_.html",
          "a_href_http"
         ]
        }
       ],
       "layout": {
        "autosize": false,
        "height": 1000,
        "width": 1000,
        "xaxis": {
         "tickfont": {
          "color": "black",
          "size": 12
         },
         "title": "Feature Importances"
        },
        "yaxis": {
         "automargin": true
        }
       }
      },
      "text/html": [
       "<div id=\"c145336a-3e99-4186-8c17-f66d2a4bfa4c\" style=\"height: 1000px; width: 1000px;\" class=\"plotly-graph-div\"></div><script type=\"text/javascript\">require([\"plotly\"], function(Plotly) { window.PLOTLYENV=window.PLOTLYENV || {};window.PLOTLYENV.BASE_URL=\"https://plot.ly\";Plotly.newPlot(\"c145336a-3e99-4186-8c17-f66d2a4bfa4c\", [{\"marker\": {\"color\": \"rgb(158,202,225)\", \"line\": {\"color\": \"rgb(8,48,107)\", \"width\": 1.5}}, \"opacity\": 0.6, \"orientation\": \"h\", \"text\": [0.3618, 0.1638, 0.082, 0.0794, 0.0663, 0.0558, 0.0527, 0.0234, 0.0204, 0.0182, 0.0171, 0.0091, 0.0067, 0.005, 0.0046, 0.0039, 0.0032, 0.0032, 0.0032, 0.0031, 0.0023, 0.0023, 0.002, 0.0019, 0.0018, 0.0013, 0.0013, 0.0012, 0.0007, 0.0006, 0.0003, 0.0003, 0.0003, 0.0003, 0.0002, 0.0002, 0.0002, 0.0, 0.0], \"textposition\": \"outside\", \"x\": [0.3617723539101957, 0.16381733903699183, 0.08198516025743334, 0.079353794035943, 0.066262212363952, 0.05584133907485947, 0.05265409813211484, 0.023436446507593578, 0.020353349141175318, 0.01815673327524468, 0.01711704095565196, 0.009101911699672357, 0.006660605858910961, 0.004967626654587328, 0.004591190067905638, 0.003906650405571389, 0.0032385564703963404, 0.0031995337168431426, 0.003157510981455593, 0.0031485969138219856, 0.002336228474379112, 0.002252964794672707, 0.002012119707142476, 0.0019218268178590216, 0.0017561548154494443, 0.00134879065731659, 0.0013109541892428224, 0.0012156441315622866, 0.0007233964339978609, 0.0006440759726513065, 0.00031374250230634267, 0.0003066841551347558, 0.0002997915909218325, 0.0002559410076538952, 0.00023296922643020258, 0.00019066952958010004, 0.0001559965333788283, 0.0, 0.0], \"y\": [\"a_count\", \"a_href_out_of_domain\", \"url_length\", \"url_char_w\", \"meta_count\", \"url_extensions\", \"a_href_relative\", \"push\", \"http_header_server_apache\", \"title_count\", \"url_char_z\", \"http_header_content-encoding_gzip\", \"url_char_.\", \"link_href_out_of_domain\", \"http_header_content-length\", \"a_href_https\", \"http_header_vary_user-agent\", \"link_type_text/css\", \"http_header_via_1.1\", \"p_count\", \"url_extension_endswith_.com\", \"script_count\", \"center_count\", \"script_src_https\", \"li_count\", \"http_header_cache-control_set_max-age\", \"img_src_http\", \"http_header_transfer-encoding_chunked\", \"url_char_i\", \"input_count\", \"url_char_d\", \"url_char_y\", \"url_char_f\", \"url_char_p\", \"url_char_l\", \"script_src_out_of_domain\", \"url_char_t\", \"iframe_src_.html\", \"a_href_http\"], \"type\": \"bar\", \"uid\": \"04946979-9a75-4794-a4aa-47bf4c70592c\"}], {\"autosize\": false, \"height\": 1000, \"width\": 1000, \"xaxis\": {\"tickfont\": {\"color\": \"black\", \"size\": 12}, \"title\": \"Feature Importances\"}, \"yaxis\": {\"automargin\": true}}, {\"showLink\": true, \"linkText\": \"Export to plot.ly\", \"plotlyServerURL\": \"https://plot.ly\"})});</script>"
      ],
      "text/vnd.plotly.v1+html": [
       "<div id=\"c145336a-3e99-4186-8c17-f66d2a4bfa4c\" style=\"height: 1000px; width: 1000px;\" class=\"plotly-graph-div\"></div><script type=\"text/javascript\">require([\"plotly\"], function(Plotly) { window.PLOTLYENV=window.PLOTLYENV || {};window.PLOTLYENV.BASE_URL=\"https://plot.ly\";Plotly.newPlot(\"c145336a-3e99-4186-8c17-f66d2a4bfa4c\", [{\"marker\": {\"color\": \"rgb(158,202,225)\", \"line\": {\"color\": \"rgb(8,48,107)\", \"width\": 1.5}}, \"opacity\": 0.6, \"orientation\": \"h\", \"text\": [0.3618, 0.1638, 0.082, 0.0794, 0.0663, 0.0558, 0.0527, 0.0234, 0.0204, 0.0182, 0.0171, 0.0091, 0.0067, 0.005, 0.0046, 0.0039, 0.0032, 0.0032, 0.0032, 0.0031, 0.0023, 0.0023, 0.002, 0.0019, 0.0018, 0.0013, 0.0013, 0.0012, 0.0007, 0.0006, 0.0003, 0.0003, 0.0003, 0.0003, 0.0002, 0.0002, 0.0002, 0.0, 0.0], \"textposition\": \"outside\", \"x\": [0.3617723539101957, 0.16381733903699183, 0.08198516025743334, 0.079353794035943, 0.066262212363952, 0.05584133907485947, 0.05265409813211484, 0.023436446507593578, 0.020353349141175318, 0.01815673327524468, 0.01711704095565196, 0.009101911699672357, 0.006660605858910961, 0.004967626654587328, 0.004591190067905638, 0.003906650405571389, 0.0032385564703963404, 0.0031995337168431426, 0.003157510981455593, 0.0031485969138219856, 0.002336228474379112, 0.002252964794672707, 0.002012119707142476, 0.0019218268178590216, 0.0017561548154494443, 0.00134879065731659, 0.0013109541892428224, 0.0012156441315622866, 0.0007233964339978609, 0.0006440759726513065, 0.00031374250230634267, 0.0003066841551347558, 0.0002997915909218325, 0.0002559410076538952, 0.00023296922643020258, 0.00019066952958010004, 0.0001559965333788283, 0.0, 0.0], \"y\": [\"a_count\", \"a_href_out_of_domain\", \"url_length\", \"url_char_w\", \"meta_count\", \"url_extensions\", \"a_href_relative\", \"push\", \"http_header_server_apache\", \"title_count\", \"url_char_z\", \"http_header_content-encoding_gzip\", \"url_char_.\", \"link_href_out_of_domain\", \"http_header_content-length\", \"a_href_https\", \"http_header_vary_user-agent\", \"link_type_text/css\", \"http_header_via_1.1\", \"p_count\", \"url_extension_endswith_.com\", \"script_count\", \"center_count\", \"script_src_https\", \"li_count\", \"http_header_cache-control_set_max-age\", \"img_src_http\", \"http_header_transfer-encoding_chunked\", \"url_char_i\", \"input_count\", \"url_char_d\", \"url_char_y\", \"url_char_f\", \"url_char_p\", \"url_char_l\", \"script_src_out_of_domain\", \"url_char_t\", \"iframe_src_.html\", \"a_href_http\"], \"type\": \"bar\", \"uid\": \"04946979-9a75-4794-a4aa-47bf4c70592c\"}], {\"autosize\": false, \"height\": 1000, \"width\": 1000, \"xaxis\": {\"tickfont\": {\"color\": \"black\", \"size\": 12}, \"title\": \"Feature Importances\"}, \"yaxis\": {\"automargin\": true}}, {\"showLink\": true, \"linkText\": \"Export to plot.ly\", \"plotlyServerURL\": \"https://plot.ly\"})});</script>"
      ]
     },
     "metadata": {},
     "output_type": "display_data"
    },
    {
     "name": "stdout",
     "output_type": "stream",
     "text": [
      "\n",
      "\n",
      "\u001b[1mExtraTree Classifier\u001b[0m\n",
      "Accuracy of the model for training data is: 0.9995162850693324\n",
      "Confusion Matrix for training data is:\n"
     ]
    },
    {
     "data": {
      "text/plain": [
       "Predicted  False  True  __all__\n",
       "Actual                         \n",
       "False       3101     0     3101\n",
       "True           3  3098     3101\n",
       "__all__     3104  3098     6202"
      ]
     },
     "metadata": {},
     "output_type": "display_data"
    },
    {
     "name": "stdout",
     "output_type": "stream",
     "text": [
      "Accuracy of the model for test data is: 0.9596767333049766\n",
      "Confusion Matrix for test data is:\n"
     ]
    },
    {
     "data": {
      "text/plain": [
       "Predicted  False  True  __all__\n",
       "Actual                         \n",
       "False      10041   374    10415\n",
       "True         100  1240     1340\n",
       "__all__    10141  1614    11755"
      ]
     },
     "metadata": {},
     "output_type": "display_data"
    },
    {
     "data": {
      "application/vnd.plotly.v1+json": {
       "config": {
        "linkText": "Export to plot.ly",
        "plotlyServerURL": "https://plot.ly",
        "showLink": true
       },
       "data": [
        {
         "marker": {
          "color": "rgb(158,202,225)",
          "line": {
           "color": "rgb(8,48,107)",
           "width": 1.5
          }
         },
         "opacity": 0.6,
         "orientation": "h",
         "text": [
          0.1824,
          0.0911,
          0.082,
          0.0692,
          0.0586,
          0.0383,
          0.0378,
          0.0375,
          0.0289,
          0.0278,
          0.0252,
          0.0184,
          0.0174,
          0.0171,
          0.0168,
          0.0158,
          0.0156,
          0.0152,
          0.0142,
          0.0127,
          0.0126,
          0.0121,
          0.0115,
          0.0114,
          0.0108,
          0.0107,
          0.0105,
          0.01,
          0.0099,
          0.0098,
          0.0096,
          0.0096,
          0.0092,
          0.0076,
          0.0074,
          0.0073,
          0.0064,
          0.0063,
          0.0056
         ],
         "textposition": "outside",
         "type": "bar",
         "uid": "28476765-d6ec-45e4-9e2e-5335a8bd97b8",
         "x": [
          0.18244608204716176,
          0.09109931105547314,
          0.08203152766537086,
          0.0691833052342702,
          0.058621293969394535,
          0.03826124085841177,
          0.0378163305602457,
          0.03747705703695307,
          0.02886372903480327,
          0.027845028743370647,
          0.025163039240190782,
          0.018388539044075117,
          0.017350572571293996,
          0.017084869014539376,
          0.016802739457278077,
          0.015821883285096212,
          0.015626482658653854,
          0.01520117174151764,
          0.014161157917166246,
          0.012669153112613539,
          0.012614179100436947,
          0.012095983570436125,
          0.011488686385333534,
          0.011364125053582972,
          0.010783157488258284,
          0.010723505777875718,
          0.010456283506439451,
          0.009975097118399112,
          0.0099133817522623,
          0.009775209982727424,
          0.009612129273234597,
          0.009572973141901883,
          0.009161599096424753,
          0.007628448511893372,
          0.0073621484528318916,
          0.007288667137549871,
          0.0063694821136690005,
          0.006260084536542044,
          0.005640343752320759
         ],
         "y": [
          "http_header_content-encoding_gzip",
          "http_header_transfer-encoding_chunked",
          "url_extensions",
          "url_length",
          "url_char_w",
          "http_header_cache-control_set_max-age",
          "script_src_out_of_domain",
          "url_char_.",
          "url_char_z",
          "link_type_text/css",
          "http_header_content-length",
          "script_src_https",
          "url_extension_endswith_.com",
          "http_header_server_apache",
          "url_char_i",
          "url_char_l",
          "script_count",
          "url_char_y",
          "a_count",
          "meta_count",
          "a_href_relative",
          "a_href_https",
          "a_href_out_of_domain",
          "url_char_t",
          "url_char_f",
          "link_href_out_of_domain",
          "url_char_d",
          "url_char_p",
          "li_count",
          "push",
          "http_header_via_1.1",
          "http_header_vary_user-agent",
          "title_count",
          "p_count",
          "img_src_http",
          "center_count",
          "input_count",
          "a_href_http",
          "iframe_src_.html"
         ]
        }
       ],
       "layout": {
        "autosize": false,
        "height": 1000,
        "width": 1000,
        "xaxis": {
         "tickfont": {
          "color": "black",
          "size": 12
         },
         "title": "Feature Importances"
        },
        "yaxis": {
         "automargin": true
        }
       }
      },
      "text/html": [
       "<div id=\"30149cef-2f03-4a90-a456-c95cb66f32c4\" style=\"height: 1000px; width: 1000px;\" class=\"plotly-graph-div\"></div><script type=\"text/javascript\">require([\"plotly\"], function(Plotly) { window.PLOTLYENV=window.PLOTLYENV || {};window.PLOTLYENV.BASE_URL=\"https://plot.ly\";Plotly.newPlot(\"30149cef-2f03-4a90-a456-c95cb66f32c4\", [{\"marker\": {\"color\": \"rgb(158,202,225)\", \"line\": {\"color\": \"rgb(8,48,107)\", \"width\": 1.5}}, \"opacity\": 0.6, \"orientation\": \"h\", \"text\": [0.1824, 0.0911, 0.082, 0.0692, 0.0586, 0.0383, 0.0378, 0.0375, 0.0289, 0.0278, 0.0252, 0.0184, 0.0174, 0.0171, 0.0168, 0.0158, 0.0156, 0.0152, 0.0142, 0.0127, 0.0126, 0.0121, 0.0115, 0.0114, 0.0108, 0.0107, 0.0105, 0.01, 0.0099, 0.0098, 0.0096, 0.0096, 0.0092, 0.0076, 0.0074, 0.0073, 0.0064, 0.0063, 0.0056], \"textposition\": \"outside\", \"x\": [0.18244608204716176, 0.09109931105547314, 0.08203152766537086, 0.0691833052342702, 0.058621293969394535, 0.03826124085841177, 0.0378163305602457, 0.03747705703695307, 0.02886372903480327, 0.027845028743370647, 0.025163039240190782, 0.018388539044075117, 0.017350572571293996, 0.017084869014539376, 0.016802739457278077, 0.015821883285096212, 0.015626482658653854, 0.01520117174151764, 0.014161157917166246, 0.012669153112613539, 0.012614179100436947, 0.012095983570436125, 0.011488686385333534, 0.011364125053582972, 0.010783157488258284, 0.010723505777875718, 0.010456283506439451, 0.009975097118399112, 0.0099133817522623, 0.009775209982727424, 0.009612129273234597, 0.009572973141901883, 0.009161599096424753, 0.007628448511893372, 0.0073621484528318916, 0.007288667137549871, 0.0063694821136690005, 0.006260084536542044, 0.005640343752320759], \"y\": [\"http_header_content-encoding_gzip\", \"http_header_transfer-encoding_chunked\", \"url_extensions\", \"url_length\", \"url_char_w\", \"http_header_cache-control_set_max-age\", \"script_src_out_of_domain\", \"url_char_.\", \"url_char_z\", \"link_type_text/css\", \"http_header_content-length\", \"script_src_https\", \"url_extension_endswith_.com\", \"http_header_server_apache\", \"url_char_i\", \"url_char_l\", \"script_count\", \"url_char_y\", \"a_count\", \"meta_count\", \"a_href_relative\", \"a_href_https\", \"a_href_out_of_domain\", \"url_char_t\", \"url_char_f\", \"link_href_out_of_domain\", \"url_char_d\", \"url_char_p\", \"li_count\", \"push\", \"http_header_via_1.1\", \"http_header_vary_user-agent\", \"title_count\", \"p_count\", \"img_src_http\", \"center_count\", \"input_count\", \"a_href_http\", \"iframe_src_.html\"], \"type\": \"bar\", \"uid\": \"28476765-d6ec-45e4-9e2e-5335a8bd97b8\"}], {\"autosize\": false, \"height\": 1000, \"width\": 1000, \"xaxis\": {\"tickfont\": {\"color\": \"black\", \"size\": 12}, \"title\": \"Feature Importances\"}, \"yaxis\": {\"automargin\": true}}, {\"showLink\": true, \"linkText\": \"Export to plot.ly\", \"plotlyServerURL\": \"https://plot.ly\"})});</script>"
      ],
      "text/vnd.plotly.v1+html": [
       "<div id=\"30149cef-2f03-4a90-a456-c95cb66f32c4\" style=\"height: 1000px; width: 1000px;\" class=\"plotly-graph-div\"></div><script type=\"text/javascript\">require([\"plotly\"], function(Plotly) { window.PLOTLYENV=window.PLOTLYENV || {};window.PLOTLYENV.BASE_URL=\"https://plot.ly\";Plotly.newPlot(\"30149cef-2f03-4a90-a456-c95cb66f32c4\", [{\"marker\": {\"color\": \"rgb(158,202,225)\", \"line\": {\"color\": \"rgb(8,48,107)\", \"width\": 1.5}}, \"opacity\": 0.6, \"orientation\": \"h\", \"text\": [0.1824, 0.0911, 0.082, 0.0692, 0.0586, 0.0383, 0.0378, 0.0375, 0.0289, 0.0278, 0.0252, 0.0184, 0.0174, 0.0171, 0.0168, 0.0158, 0.0156, 0.0152, 0.0142, 0.0127, 0.0126, 0.0121, 0.0115, 0.0114, 0.0108, 0.0107, 0.0105, 0.01, 0.0099, 0.0098, 0.0096, 0.0096, 0.0092, 0.0076, 0.0074, 0.0073, 0.0064, 0.0063, 0.0056], \"textposition\": \"outside\", \"x\": [0.18244608204716176, 0.09109931105547314, 0.08203152766537086, 0.0691833052342702, 0.058621293969394535, 0.03826124085841177, 0.0378163305602457, 0.03747705703695307, 0.02886372903480327, 0.027845028743370647, 0.025163039240190782, 0.018388539044075117, 0.017350572571293996, 0.017084869014539376, 0.016802739457278077, 0.015821883285096212, 0.015626482658653854, 0.01520117174151764, 0.014161157917166246, 0.012669153112613539, 0.012614179100436947, 0.012095983570436125, 0.011488686385333534, 0.011364125053582972, 0.010783157488258284, 0.010723505777875718, 0.010456283506439451, 0.009975097118399112, 0.0099133817522623, 0.009775209982727424, 0.009612129273234597, 0.009572973141901883, 0.009161599096424753, 0.007628448511893372, 0.0073621484528318916, 0.007288667137549871, 0.0063694821136690005, 0.006260084536542044, 0.005640343752320759], \"y\": [\"http_header_content-encoding_gzip\", \"http_header_transfer-encoding_chunked\", \"url_extensions\", \"url_length\", \"url_char_w\", \"http_header_cache-control_set_max-age\", \"script_src_out_of_domain\", \"url_char_.\", \"url_char_z\", \"link_type_text/css\", \"http_header_content-length\", \"script_src_https\", \"url_extension_endswith_.com\", \"http_header_server_apache\", \"url_char_i\", \"url_char_l\", \"script_count\", \"url_char_y\", \"a_count\", \"meta_count\", \"a_href_relative\", \"a_href_https\", \"a_href_out_of_domain\", \"url_char_t\", \"url_char_f\", \"link_href_out_of_domain\", \"url_char_d\", \"url_char_p\", \"li_count\", \"push\", \"http_header_via_1.1\", \"http_header_vary_user-agent\", \"title_count\", \"p_count\", \"img_src_http\", \"center_count\", \"input_count\", \"a_href_http\", \"iframe_src_.html\"], \"type\": \"bar\", \"uid\": \"28476765-d6ec-45e4-9e2e-5335a8bd97b8\"}], {\"autosize\": false, \"height\": 1000, \"width\": 1000, \"xaxis\": {\"tickfont\": {\"color\": \"black\", \"size\": 12}, \"title\": \"Feature Importances\"}, \"yaxis\": {\"automargin\": true}}, {\"showLink\": true, \"linkText\": \"Export to plot.ly\", \"plotlyServerURL\": \"https://plot.ly\"})});</script>"
      ]
     },
     "metadata": {},
     "output_type": "display_data"
    },
    {
     "name": "stdout",
     "output_type": "stream",
     "text": [
      "\n",
      "\n",
      "\u001b[1mXGB Classifier\u001b[0m\n",
      "Accuracy of the model for training data is: 0.9551757497581426\n",
      "Confusion Matrix for training data is:\n"
     ]
    },
    {
     "data": {
      "text/plain": [
       "Predicted  False  True  __all__\n",
       "Actual                         \n",
       "False       2973   128     3101\n",
       "True         150  2951     3101\n",
       "__all__     3123  3079     6202"
      ]
     },
     "metadata": {},
     "output_type": "display_data"
    },
    {
     "name": "stdout",
     "output_type": "stream",
     "text": [
      "Accuracy of the model for test data is: 0.9526159081242025\n",
      "Confusion Matrix for test data is:\n"
     ]
    },
    {
     "data": {
      "text/plain": [
       "Predicted  False  True  __all__\n",
       "Actual                         \n",
       "False       9949   466    10415\n",
       "True          91  1249     1340\n",
       "__all__    10040  1715    11755"
      ]
     },
     "metadata": {},
     "output_type": "display_data"
    },
    {
     "data": {
      "application/vnd.plotly.v1+json": {
       "config": {
        "linkText": "Export to plot.ly",
        "plotlyServerURL": "https://plot.ly",
        "showLink": true
       },
       "data": [
        {
         "marker": {
          "color": "rgb(158,202,225)",
          "line": {
           "color": "rgb(8,48,107)",
           "width": 1.5
          }
         },
         "opacity": 0.6,
         "orientation": "h",
         "text": [
          0.1097,
          0.0881,
          0.0556,
          0.0541,
          0.0526,
          0.051,
          0.051,
          0.0464,
          0.0386,
          0.0371,
          0.0371,
          0.0278,
          0.0247,
          0.0232,
          0.0216,
          0.0201,
          0.0201,
          0.0185,
          0.017,
          0.017,
          0.017,
          0.0155,
          0.0155,
          0.0155,
          0.0139,
          0.0139,
          0.0139,
          0.0124,
          0.0108,
          0.0108,
          0.0093,
          0.0077,
          0.0077,
          0.0062,
          0.0062,
          0.0046,
          0.0046,
          0.0031,
          0
         ],
         "textposition": "outside",
         "type": "bar",
         "uid": "772c93fb-5ee7-40d4-99a2-98f63803d250",
         "x": [
          0.10973724722862244,
          0.0880989208817482,
          0.05564142018556595,
          0.05409582704305649,
          0.05255023017525673,
          0.05100463703274727,
          0.05100463703274727,
          0.04636785015463829,
          0.03863987699151039,
          0.03709428012371063,
          0.03709428012371063,
          0.027820710092782974,
          0.024729520082473755,
          0.023183925077319145,
          0.021638330072164536,
          0.020092735067009926,
          0.020092735067009926,
          0.018547140061855316,
          0.017001545056700706,
          0.017001545056700706,
          0.017001545056700706,
          0.015455950982868671,
          0.015455950982868671,
          0.015455950982868671,
          0.013910355046391487,
          0.013910355046391487,
          0.013910355046391487,
          0.012364760041236877,
          0.010819165036082268,
          0.010819165036082268,
          0.009273570030927658,
          0.007727975491434336,
          0.007727975491434336,
          0.006182380020618439,
          0.006182380020618439,
          0.004636785015463829,
          0.004636785015463829,
          0.0030911900103092194,
          0
         ],
         "y": [
          "url_length",
          "url_char_w",
          "http_header_content-length",
          "a_href_out_of_domain",
          "p_count",
          "url_extensions",
          "push",
          "url_char_.",
          "http_header_content-encoding_gzip",
          "link_type_text/css",
          "http_header_server_apache",
          "li_count",
          "a_href_relative",
          "a_href_https",
          "script_count",
          "input_count",
          "link_href_out_of_domain",
          "a_count",
          "url_char_z",
          "url_char_l",
          "url_extension_endswith_.com",
          "url_char_i",
          "http_header_via_1.1",
          "http_header_transfer-encoding_chunked",
          "center_count",
          "img_src_http",
          "http_header_vary_user-agent",
          "meta_count",
          "http_header_cache-control_set_max-age",
          "script_src_https",
          "iframe_src_.html",
          "url_char_f",
          "url_char_p",
          "url_char_d",
          "title_count",
          "script_src_out_of_domain",
          "a_href_http",
          "url_char_y",
          "url_char_t"
         ]
        }
       ],
       "layout": {
        "autosize": false,
        "height": 1000,
        "width": 1000,
        "xaxis": {
         "tickfont": {
          "color": "black",
          "size": 12
         },
         "title": "Feature Importances"
        },
        "yaxis": {
         "automargin": true
        }
       }
      },
      "text/html": [
       "<div id=\"3f09030b-bb05-409b-b2ce-47998bb4c967\" style=\"height: 1000px; width: 1000px;\" class=\"plotly-graph-div\"></div><script type=\"text/javascript\">require([\"plotly\"], function(Plotly) { window.PLOTLYENV=window.PLOTLYENV || {};window.PLOTLYENV.BASE_URL=\"https://plot.ly\";Plotly.newPlot(\"3f09030b-bb05-409b-b2ce-47998bb4c967\", [{\"marker\": {\"color\": \"rgb(158,202,225)\", \"line\": {\"color\": \"rgb(8,48,107)\", \"width\": 1.5}}, \"opacity\": 0.6, \"orientation\": \"h\", \"text\": [0.1097, 0.0881, 0.0556, 0.0541, 0.0526, 0.051, 0.051, 0.0464, 0.0386, 0.0371, 0.0371, 0.0278, 0.0247, 0.0232, 0.0216, 0.0201, 0.0201, 0.0185, 0.017, 0.017, 0.017, 0.0155, 0.0155, 0.0155, 0.0139, 0.0139, 0.0139, 0.0124, 0.0108, 0.0108, 0.0093, 0.0077, 0.0077, 0.0062, 0.0062, 0.0046, 0.0046, 0.0031, 0.0], \"textposition\": \"outside\", \"x\": [0.10973724722862244, 0.0880989208817482, 0.05564142018556595, 0.05409582704305649, 0.05255023017525673, 0.05100463703274727, 0.05100463703274727, 0.04636785015463829, 0.03863987699151039, 0.03709428012371063, 0.03709428012371063, 0.027820710092782974, 0.024729520082473755, 0.023183925077319145, 0.021638330072164536, 0.020092735067009926, 0.020092735067009926, 0.018547140061855316, 0.017001545056700706, 0.017001545056700706, 0.017001545056700706, 0.015455950982868671, 0.015455950982868671, 0.015455950982868671, 0.013910355046391487, 0.013910355046391487, 0.013910355046391487, 0.012364760041236877, 0.010819165036082268, 0.010819165036082268, 0.009273570030927658, 0.007727975491434336, 0.007727975491434336, 0.006182380020618439, 0.006182380020618439, 0.004636785015463829, 0.004636785015463829, 0.0030911900103092194, 0.0], \"y\": [\"url_length\", \"url_char_w\", \"http_header_content-length\", \"a_href_out_of_domain\", \"p_count\", \"url_extensions\", \"push\", \"url_char_.\", \"http_header_content-encoding_gzip\", \"link_type_text/css\", \"http_header_server_apache\", \"li_count\", \"a_href_relative\", \"a_href_https\", \"script_count\", \"input_count\", \"link_href_out_of_domain\", \"a_count\", \"url_char_z\", \"url_char_l\", \"url_extension_endswith_.com\", \"url_char_i\", \"http_header_via_1.1\", \"http_header_transfer-encoding_chunked\", \"center_count\", \"img_src_http\", \"http_header_vary_user-agent\", \"meta_count\", \"http_header_cache-control_set_max-age\", \"script_src_https\", \"iframe_src_.html\", \"url_char_f\", \"url_char_p\", \"url_char_d\", \"title_count\", \"script_src_out_of_domain\", \"a_href_http\", \"url_char_y\", \"url_char_t\"], \"type\": \"bar\", \"uid\": \"772c93fb-5ee7-40d4-99a2-98f63803d250\"}], {\"autosize\": false, \"height\": 1000, \"width\": 1000, \"xaxis\": {\"tickfont\": {\"color\": \"black\", \"size\": 12}, \"title\": \"Feature Importances\"}, \"yaxis\": {\"automargin\": true}}, {\"showLink\": true, \"linkText\": \"Export to plot.ly\", \"plotlyServerURL\": \"https://plot.ly\"})});</script>"
      ],
      "text/vnd.plotly.v1+html": [
       "<div id=\"3f09030b-bb05-409b-b2ce-47998bb4c967\" style=\"height: 1000px; width: 1000px;\" class=\"plotly-graph-div\"></div><script type=\"text/javascript\">require([\"plotly\"], function(Plotly) { window.PLOTLYENV=window.PLOTLYENV || {};window.PLOTLYENV.BASE_URL=\"https://plot.ly\";Plotly.newPlot(\"3f09030b-bb05-409b-b2ce-47998bb4c967\", [{\"marker\": {\"color\": \"rgb(158,202,225)\", \"line\": {\"color\": \"rgb(8,48,107)\", \"width\": 1.5}}, \"opacity\": 0.6, \"orientation\": \"h\", \"text\": [0.1097, 0.0881, 0.0556, 0.0541, 0.0526, 0.051, 0.051, 0.0464, 0.0386, 0.0371, 0.0371, 0.0278, 0.0247, 0.0232, 0.0216, 0.0201, 0.0201, 0.0185, 0.017, 0.017, 0.017, 0.0155, 0.0155, 0.0155, 0.0139, 0.0139, 0.0139, 0.0124, 0.0108, 0.0108, 0.0093, 0.0077, 0.0077, 0.0062, 0.0062, 0.0046, 0.0046, 0.0031, 0.0], \"textposition\": \"outside\", \"x\": [0.10973724722862244, 0.0880989208817482, 0.05564142018556595, 0.05409582704305649, 0.05255023017525673, 0.05100463703274727, 0.05100463703274727, 0.04636785015463829, 0.03863987699151039, 0.03709428012371063, 0.03709428012371063, 0.027820710092782974, 0.024729520082473755, 0.023183925077319145, 0.021638330072164536, 0.020092735067009926, 0.020092735067009926, 0.018547140061855316, 0.017001545056700706, 0.017001545056700706, 0.017001545056700706, 0.015455950982868671, 0.015455950982868671, 0.015455950982868671, 0.013910355046391487, 0.013910355046391487, 0.013910355046391487, 0.012364760041236877, 0.010819165036082268, 0.010819165036082268, 0.009273570030927658, 0.007727975491434336, 0.007727975491434336, 0.006182380020618439, 0.006182380020618439, 0.004636785015463829, 0.004636785015463829, 0.0030911900103092194, 0.0], \"y\": [\"url_length\", \"url_char_w\", \"http_header_content-length\", \"a_href_out_of_domain\", \"p_count\", \"url_extensions\", \"push\", \"url_char_.\", \"http_header_content-encoding_gzip\", \"link_type_text/css\", \"http_header_server_apache\", \"li_count\", \"a_href_relative\", \"a_href_https\", \"script_count\", \"input_count\", \"link_href_out_of_domain\", \"a_count\", \"url_char_z\", \"url_char_l\", \"url_extension_endswith_.com\", \"url_char_i\", \"http_header_via_1.1\", \"http_header_transfer-encoding_chunked\", \"center_count\", \"img_src_http\", \"http_header_vary_user-agent\", \"meta_count\", \"http_header_cache-control_set_max-age\", \"script_src_https\", \"iframe_src_.html\", \"url_char_f\", \"url_char_p\", \"url_char_d\", \"title_count\", \"script_src_out_of_domain\", \"a_href_http\", \"url_char_y\", \"url_char_t\"], \"type\": \"bar\", \"uid\": \"772c93fb-5ee7-40d4-99a2-98f63803d250\"}], {\"autosize\": false, \"height\": 1000, \"width\": 1000, \"xaxis\": {\"tickfont\": {\"color\": \"black\", \"size\": 12}, \"title\": \"Feature Importances\"}, \"yaxis\": {\"automargin\": true}}, {\"showLink\": true, \"linkText\": \"Export to plot.ly\", \"plotlyServerURL\": \"https://plot.ly\"})});</script>"
      ]
     },
     "metadata": {},
     "output_type": "display_data"
    },
    {
     "name": "stdout",
     "output_type": "stream",
     "text": [
      "\n",
      "\n",
      "\u001b[1mBagging Classifier\u001b[0m\n",
      "Accuracy of the model for training data is: 0.9958078039342148\n",
      "Confusion Matrix for training data is:\n"
     ]
    },
    {
     "data": {
      "text/plain": [
       "Predicted  False  True  __all__\n",
       "Actual                         \n",
       "False       3094     7     3101\n",
       "True          19  3082     3101\n",
       "__all__     3113  3089     6202"
      ]
     },
     "metadata": {},
     "output_type": "display_data"
    },
    {
     "name": "stdout",
     "output_type": "stream",
     "text": [
      "Accuracy of the model for test data is: 0.9538919608677159\n",
      "Confusion Matrix for test data is:\n"
     ]
    },
    {
     "data": {
      "text/plain": [
       "Predicted  False  True  __all__\n",
       "Actual                         \n",
       "False       9983   432    10415\n",
       "True         110  1230     1340\n",
       "__all__    10093  1662    11755"
      ]
     },
     "metadata": {},
     "output_type": "display_data"
    },
    {
     "name": "stdout",
     "output_type": "stream",
     "text": [
      "\n",
      "\n",
      "\u001b[1mNeural Network-1\u001b[0m\n",
      "The accuracy of the model on training data is: 0.9912931312479846\n"
     ]
    },
    {
     "data": {
      "text/plain": [
       "Predicted  False  True  __all__\n",
       "Actual                         \n",
       "False       3096     5     3101\n",
       "True          49  3052     3101\n",
       "__all__     3145  3057     6202"
      ]
     },
     "metadata": {},
     "output_type": "display_data"
    },
    {
     "name": "stdout",
     "output_type": "stream",
     "text": [
      "The accuracy of the model on test data is: 0.945044661846023\n"
     ]
    },
    {
     "data": {
      "text/plain": [
       "Predicted  False  True  __all__\n",
       "Actual                         \n",
       "False       9878   537    10415\n",
       "True         109  1231     1340\n",
       "__all__     9987  1768    11755"
      ]
     },
     "metadata": {},
     "output_type": "display_data"
    },
    {
     "name": "stdout",
     "output_type": "stream",
     "text": [
      "\n",
      "\n"
     ]
    }
   ],
   "source": [
    "df_non=train[train.Target==0]\n",
    "df_mal=train[train.Target==1]\n",
    "\n",
    "df_non=df_non.sample(frac=len(df_mal)/len(df_non),random_state=0)\n",
    "df_u=df_non.append(df_mal)\n",
    "df_u.Target.value_counts() \n",
    "\n",
    "X_train=df_u[columns]\n",
    "X_train=scaler.transform(X_train)\n",
    "Y_train=df_u.Target.values\n",
    "\n",
    "print(\"Shape after undersampling\",X_train.shape)\n",
    "\n",
    "## Table to store training and test measures so we can compare later\n",
    "table_80_50_train=pd.DataFrame(columns=['accuracy','TP','TN','FP','FN','FPR','FNR'])\n",
    "table_80_50_test=pd.DataFrame(columns=['accuracy','TP','TN','FP','FN','FPR','FNR','auc','MCC','Precision','Recall'])\n",
    "\n",
    "feat_imp=[None]*5\n",
    "j=0\n",
    "for i in range(0,8):\n",
    "    if i>=1 and i<=5:\n",
    "        model,cm_train,cm_test,acc_train,acc_test,roc_auc,feat_imp[j],mcc,prec,rec=f[i](X_train,Y_train,scaled_X_test,test_Y,columns)\n",
    "        j=j+1\n",
    "    else:\n",
    "        model,cm_train,cm_test,acc_train,acc_test,roc_auc,mcc,prec,rec=f[i](X_train,Y_train,scaled_X_test,test_Y)\n",
    "    table_80_50_train.loc[i]=   ([acc_train,cm_train.TP,cm_train.TN,cm_train.FP,cm_train.FN,cm_train.FPR,cm_train.FNR])\n",
    "    table_80_50_test.loc[i] =   ([acc_test ,cm_test.TP, cm_test.TN, cm_test.FP, cm_test.FN, cm_test.FPR, cm_test.FNR,roc_auc,mcc,prec,rec])\n",
    "    print(\"\\n\")"
   ]
  },
  {
   "cell_type": "markdown",
   "metadata": {},
   "source": [
    "### <a id='3.A' style=\"text-decoration : none; color : #000000;\"> A. Results</a>"
   ]
  },
  {
   "cell_type": "code",
   "execution_count": 27,
   "metadata": {},
   "outputs": [
    {
     "data": {
      "application/vnd.plotly.v1+json": {
       "config": {
        "linkText": "Export to plot.ly",
        "plotlyServerURL": "https://plot.ly",
        "showLink": true
       },
       "data": [
        {
         "mode": "lines",
         "name": "KNN_model",
         "type": "scatter",
         "uid": "41ead284-8f63-4ca4-a27c-e576add9256f",
         "x": [
          "accuracy",
          "auc",
          "MCC",
          "Precision",
          "Recall"
         ],
         "y": [
          0.935431731178222,
          0.9297489986457533,
          0.7434548675021447,
          0.6536224219989424,
          0.9223880597014925
         ]
        },
        {
         "mode": "lines+markers",
         "name": "XGB",
         "type": "scatter",
         "uid": "c29f72d5-5594-46d4-9401-4bc7b81457f3",
         "x": [
          "accuracy",
          "auc",
          "MCC",
          "Precision",
          "Recall"
         ],
         "y": [
          0.9526159081242025,
          0.9436731966666905,
          0.7988703564425745,
          0.7282798833819242,
          0.932089552238806
         ]
        },
        {
         "marker": {
          "symbol": "x"
         },
         "mode": "lines+markers",
         "name": "Random Forest",
         "type": "scatter",
         "uid": "2579c7bb-698e-4da8-aa86-9d605c712da7",
         "x": [
          "accuracy",
          "auc",
          "MCC",
          "Precision",
          "Recall"
         ],
         "y": [
          0.9584006805614632,
          0.9443367058132286,
          0.8169983401321956,
          0.7608828939301042,
          0.9261194029850747
         ]
        },
        {
         "mode": "lines",
         "name": "Ada Boost",
         "type": "scatter",
         "uid": "96a2712f-7054-45f1-8bac-544cfd2c9308",
         "x": [
          "accuracy",
          "auc",
          "MCC",
          "Precision",
          "Recall"
         ],
         "y": [
          0.9344959591663122,
          0.9334475605649143,
          0.7440199868083273,
          0.6478215767634855,
          0.932089552238806
         ]
        },
        {
         "mode": "lines+markers",
         "name": "GradientBoosting",
         "type": "scatter",
         "uid": "72467342-362a-4123-a99a-646d9ae7b466",
         "x": [
          "accuracy",
          "auc",
          "MCC",
          "Precision",
          "Recall"
         ],
         "y": [
          0.9515099957464909,
          0.9440244767521012,
          0.795864009500682,
          0.7220299884659747,
          0.9343283582089552
         ]
        },
        {
         "marker": {
          "symbol": "x"
         },
         "mode": "lines+markers",
         "name": "ExtraTree Classifier",
         "type": "scatter",
         "uid": "597971f2-fd16-41a3-af48-82585f2853f4",
         "x": [
          "accuracy",
          "auc",
          "MCC",
          "Precision",
          "Recall"
         ],
         "y": [
          0.9596767333049766,
          0.9447316943845344,
          0.8213305112654609,
          0.7682775712515489,
          0.9253731343283582
         ]
        },
        {
         "marker": {
          "symbol": "x"
         },
         "mode": "lines+markers",
         "name": "Bagging",
         "type": "scatter",
         "uid": "5f1a4a70-63a3-4fbc-8b82-b92557400520",
         "x": [
          "accuracy",
          "auc",
          "MCC",
          "Precision",
          "Recall"
         ],
         "y": [
          0.9538919608677159,
          0.9382159055896704,
          0.7994191037584035,
          0.740072202166065,
          0.917910447761194
         ]
        },
        {
         "marker": {
          "symbol": "x"
         },
         "mode": "lines+markers",
         "name": "Neural Network",
         "type": "scatter",
         "uid": "0b715dd6-3b2e-4fc8-8200-3d9b7f7442a5",
         "x": [
          "accuracy",
          "auc",
          "MCC",
          "Precision",
          "Recall"
         ],
         "y": [
          0.945044661846023,
          0.9382159055896704,
          0.7708871343660574,
          0.6962669683257918,
          0.9186567164179105
         ]
        }
       ],
       "layout": {
        "title": "Result comparision for Features selected in Section 1",
        "yaxis": {
         "dtick": 0.05,
         "tick0": 0
        }
       }
      },
      "text/html": [
       "<div id=\"8f1ff2d1-e0f3-4614-9366-2f21c66604e5\" style=\"height: 525px; width: 100%;\" class=\"plotly-graph-div\"></div><script type=\"text/javascript\">require([\"plotly\"], function(Plotly) { window.PLOTLYENV=window.PLOTLYENV || {};window.PLOTLYENV.BASE_URL=\"https://plot.ly\";Plotly.newPlot(\"8f1ff2d1-e0f3-4614-9366-2f21c66604e5\", [{\"mode\": \"lines\", \"name\": \"KNN_model\", \"x\": [\"accuracy\", \"auc\", \"MCC\", \"Precision\", \"Recall\"], \"y\": [0.935431731178222, 0.9297489986457533, 0.7434548675021447, 0.6536224219989424, 0.9223880597014925], \"type\": \"scatter\", \"uid\": \"41ead284-8f63-4ca4-a27c-e576add9256f\"}, {\"mode\": \"lines+markers\", \"name\": \"XGB\", \"x\": [\"accuracy\", \"auc\", \"MCC\", \"Precision\", \"Recall\"], \"y\": [0.9526159081242025, 0.9436731966666905, 0.7988703564425745, 0.7282798833819242, 0.932089552238806], \"type\": \"scatter\", \"uid\": \"c29f72d5-5594-46d4-9401-4bc7b81457f3\"}, {\"marker\": {\"symbol\": \"x\"}, \"mode\": \"lines+markers\", \"name\": \"Random Forest\", \"x\": [\"accuracy\", \"auc\", \"MCC\", \"Precision\", \"Recall\"], \"y\": [0.9584006805614632, 0.9443367058132286, 0.8169983401321956, 0.7608828939301042, 0.9261194029850747], \"type\": \"scatter\", \"uid\": \"2579c7bb-698e-4da8-aa86-9d605c712da7\"}, {\"mode\": \"lines\", \"name\": \"Ada Boost\", \"x\": [\"accuracy\", \"auc\", \"MCC\", \"Precision\", \"Recall\"], \"y\": [0.9344959591663122, 0.9334475605649143, 0.7440199868083273, 0.6478215767634855, 0.932089552238806], \"type\": \"scatter\", \"uid\": \"96a2712f-7054-45f1-8bac-544cfd2c9308\"}, {\"mode\": \"lines+markers\", \"name\": \"GradientBoosting\", \"x\": [\"accuracy\", \"auc\", \"MCC\", \"Precision\", \"Recall\"], \"y\": [0.9515099957464909, 0.9440244767521012, 0.795864009500682, 0.7220299884659747, 0.9343283582089552], \"type\": \"scatter\", \"uid\": \"72467342-362a-4123-a99a-646d9ae7b466\"}, {\"marker\": {\"symbol\": \"x\"}, \"mode\": \"lines+markers\", \"name\": \"ExtraTree Classifier\", \"x\": [\"accuracy\", \"auc\", \"MCC\", \"Precision\", \"Recall\"], \"y\": [0.9596767333049766, 0.9447316943845344, 0.8213305112654609, 0.7682775712515489, 0.9253731343283582], \"type\": \"scatter\", \"uid\": \"597971f2-fd16-41a3-af48-82585f2853f4\"}, {\"marker\": {\"symbol\": \"x\"}, \"mode\": \"lines+markers\", \"name\": \"Bagging\", \"x\": [\"accuracy\", \"auc\", \"MCC\", \"Precision\", \"Recall\"], \"y\": [0.9538919608677159, 0.9382159055896704, 0.7994191037584035, 0.740072202166065, 0.917910447761194], \"type\": \"scatter\", \"uid\": \"5f1a4a70-63a3-4fbc-8b82-b92557400520\"}, {\"marker\": {\"symbol\": \"x\"}, \"mode\": \"lines+markers\", \"name\": \"Neural Network\", \"x\": [\"accuracy\", \"auc\", \"MCC\", \"Precision\", \"Recall\"], \"y\": [0.945044661846023, 0.9382159055896704, 0.7708871343660574, 0.6962669683257918, 0.9186567164179105], \"type\": \"scatter\", \"uid\": \"0b715dd6-3b2e-4fc8-8200-3d9b7f7442a5\"}], {\"title\": \"Result comparision for Features selected in Section 1\", \"yaxis\": {\"dtick\": 0.05, \"tick0\": 0}}, {\"showLink\": true, \"linkText\": \"Export to plot.ly\", \"plotlyServerURL\": \"https://plot.ly\"})});</script><script type=\"text/javascript\">window.addEventListener(\"resize\", function(){window._Plotly.Plots.resize(document.getElementById(\"8f1ff2d1-e0f3-4614-9366-2f21c66604e5\"));});</script>"
      ],
      "text/vnd.plotly.v1+html": [
       "<div id=\"8f1ff2d1-e0f3-4614-9366-2f21c66604e5\" style=\"height: 525px; width: 100%;\" class=\"plotly-graph-div\"></div><script type=\"text/javascript\">require([\"plotly\"], function(Plotly) { window.PLOTLYENV=window.PLOTLYENV || {};window.PLOTLYENV.BASE_URL=\"https://plot.ly\";Plotly.newPlot(\"8f1ff2d1-e0f3-4614-9366-2f21c66604e5\", [{\"mode\": \"lines\", \"name\": \"KNN_model\", \"x\": [\"accuracy\", \"auc\", \"MCC\", \"Precision\", \"Recall\"], \"y\": [0.935431731178222, 0.9297489986457533, 0.7434548675021447, 0.6536224219989424, 0.9223880597014925], \"type\": \"scatter\", \"uid\": \"41ead284-8f63-4ca4-a27c-e576add9256f\"}, {\"mode\": \"lines+markers\", \"name\": \"XGB\", \"x\": [\"accuracy\", \"auc\", \"MCC\", \"Precision\", \"Recall\"], \"y\": [0.9526159081242025, 0.9436731966666905, 0.7988703564425745, 0.7282798833819242, 0.932089552238806], \"type\": \"scatter\", \"uid\": \"c29f72d5-5594-46d4-9401-4bc7b81457f3\"}, {\"marker\": {\"symbol\": \"x\"}, \"mode\": \"lines+markers\", \"name\": \"Random Forest\", \"x\": [\"accuracy\", \"auc\", \"MCC\", \"Precision\", \"Recall\"], \"y\": [0.9584006805614632, 0.9443367058132286, 0.8169983401321956, 0.7608828939301042, 0.9261194029850747], \"type\": \"scatter\", \"uid\": \"2579c7bb-698e-4da8-aa86-9d605c712da7\"}, {\"mode\": \"lines\", \"name\": \"Ada Boost\", \"x\": [\"accuracy\", \"auc\", \"MCC\", \"Precision\", \"Recall\"], \"y\": [0.9344959591663122, 0.9334475605649143, 0.7440199868083273, 0.6478215767634855, 0.932089552238806], \"type\": \"scatter\", \"uid\": \"96a2712f-7054-45f1-8bac-544cfd2c9308\"}, {\"mode\": \"lines+markers\", \"name\": \"GradientBoosting\", \"x\": [\"accuracy\", \"auc\", \"MCC\", \"Precision\", \"Recall\"], \"y\": [0.9515099957464909, 0.9440244767521012, 0.795864009500682, 0.7220299884659747, 0.9343283582089552], \"type\": \"scatter\", \"uid\": \"72467342-362a-4123-a99a-646d9ae7b466\"}, {\"marker\": {\"symbol\": \"x\"}, \"mode\": \"lines+markers\", \"name\": \"ExtraTree Classifier\", \"x\": [\"accuracy\", \"auc\", \"MCC\", \"Precision\", \"Recall\"], \"y\": [0.9596767333049766, 0.9447316943845344, 0.8213305112654609, 0.7682775712515489, 0.9253731343283582], \"type\": \"scatter\", \"uid\": \"597971f2-fd16-41a3-af48-82585f2853f4\"}, {\"marker\": {\"symbol\": \"x\"}, \"mode\": \"lines+markers\", \"name\": \"Bagging\", \"x\": [\"accuracy\", \"auc\", \"MCC\", \"Precision\", \"Recall\"], \"y\": [0.9538919608677159, 0.9382159055896704, 0.7994191037584035, 0.740072202166065, 0.917910447761194], \"type\": \"scatter\", \"uid\": \"5f1a4a70-63a3-4fbc-8b82-b92557400520\"}, {\"marker\": {\"symbol\": \"x\"}, \"mode\": \"lines+markers\", \"name\": \"Neural Network\", \"x\": [\"accuracy\", \"auc\", \"MCC\", \"Precision\", \"Recall\"], \"y\": [0.945044661846023, 0.9382159055896704, 0.7708871343660574, 0.6962669683257918, 0.9186567164179105], \"type\": \"scatter\", \"uid\": \"0b715dd6-3b2e-4fc8-8200-3d9b7f7442a5\"}], {\"title\": \"Result comparision for Features selected in Section 1\", \"yaxis\": {\"dtick\": 0.05, \"tick0\": 0}}, {\"showLink\": true, \"linkText\": \"Export to plot.ly\", \"plotlyServerURL\": \"https://plot.ly\"})});</script><script type=\"text/javascript\">window.addEventListener(\"resize\", function(){window._Plotly.Plots.resize(document.getElementById(\"8f1ff2d1-e0f3-4614-9366-2f21c66604e5\"));});</script>"
      ]
     },
     "metadata": {},
     "output_type": "display_data"
    }
   ],
   "source": [
    "trace0 = go.Scatter(x=table_80_50_test.iloc[0].index.values[[0,7,8,9,10]],\n",
    "                    y=table_80_50_test.iloc[0].values[[0,7,8,9,10]],\n",
    "                    mode = 'lines',\n",
    "                    name = 'KNN_model')\n",
    "\n",
    "\n",
    "trace2 = go.Scatter(x=table_80_50_test.iloc[1].index.values[[0,7,8,9,10]],\n",
    "                    y=table_80_50_test.iloc[1].values[[0,7,8,9,10]],\n",
    "                    mode = 'lines+markers',marker=dict(symbol='x'),\n",
    "                    name = 'Random Forest')\n",
    "\n",
    "\n",
    "trace3 = go.Scatter(x=table_80_50_test.iloc[2].index.values[[0,7,8,9,10]],\n",
    "                    y=table_80_50_test.iloc[2].values[[0,7,8,9,10]],\n",
    "                    mode = 'lines',\n",
    "                    name = 'Ada Boost')\n",
    "\n",
    "trace4 = go.Scatter(x=table_80_50_test.iloc[3].index.values[[0,7,8,9,10]],\n",
    "                    y=table_80_50_test.iloc[3].values[[0,7,8,9,10]],\n",
    "                    mode = 'lines+markers',\n",
    "                    name = 'GradientBoosting')\n",
    "\n",
    "trace5 = go.Scatter(x=table_80_50_test.iloc[4].index.values[[0,7,8,9,10]],\n",
    "                    y=table_80_50_test.iloc[4].values[[0,7,8,9,10]],\n",
    "                    mode = 'lines+markers',marker=dict(symbol='x'),\n",
    "                    name = 'ExtraTree Classifier')\n",
    "\n",
    "\n",
    "trace1 = go.Scatter(x=table_80_50_test.iloc[5].index.values[[0,7,8,9,10]],\n",
    "                    y=table_80_50_test.iloc[5].values[[0,7,8,9,10]],\n",
    "                    mode = 'lines+markers',\n",
    "                    name = 'XGB')\n",
    "\n",
    "\n",
    "trace6 = go.Scatter(x=table_80_50_test.iloc[6].index.values[[0,7,8,9,10]],\n",
    "                    y=table_80_50_test.iloc[6].values[[0,7,8,9,10]],\n",
    "                    mode = 'lines+markers',marker=dict(symbol='x'),\n",
    "                    name = 'Bagging')\n",
    "\n",
    "trace7 = go.Scatter(x=table_80_50_test.iloc[7].index.values[[0,7,8,9,10]],\n",
    "                    y=table_80_50_test.iloc[7].values[[0,7,8,9,10]],\n",
    "                    mode = 'lines+markers',marker=dict(symbol='x'),\n",
    "                    name = 'Neural Network')\n",
    "\n",
    "\n",
    "\n",
    "data = [trace0, trace1, trace2, trace3, trace4, trace5, trace6, trace7]\n",
    "layout = go.Layout(yaxis=dict(tick0=0,dtick=0.05),title='Result comparision for Features selected in Section 1')\n",
    "fig = go.Figure(data=data, layout=layout)\n",
    "\n",
    "iplot(fig, filename='Result')"
   ]
  },
  {
   "cell_type": "code",
   "execution_count": 28,
   "metadata": {},
   "outputs": [
    {
     "name": "stdout",
     "output_type": "stream",
     "text": [
      "Training Results\n"
     ]
    },
    {
     "data": {
      "text/html": [
       "<div>\n",
       "<style scoped>\n",
       "    .dataframe tbody tr th:only-of-type {\n",
       "        vertical-align: middle;\n",
       "    }\n",
       "\n",
       "    .dataframe tbody tr th {\n",
       "        vertical-align: top;\n",
       "    }\n",
       "\n",
       "    .dataframe thead th {\n",
       "        text-align: right;\n",
       "    }\n",
       "</style>\n",
       "<table border=\"1\" class=\"dataframe\">\n",
       "  <thead>\n",
       "    <tr style=\"text-align: right;\">\n",
       "      <th></th>\n",
       "      <th>accuracy</th>\n",
       "      <th>TP</th>\n",
       "      <th>TN</th>\n",
       "      <th>FP</th>\n",
       "      <th>FN</th>\n",
       "      <th>FPR</th>\n",
       "      <th>FNR</th>\n",
       "    </tr>\n",
       "    <tr>\n",
       "      <th>index</th>\n",
       "      <th></th>\n",
       "      <th></th>\n",
       "      <th></th>\n",
       "      <th></th>\n",
       "      <th></th>\n",
       "      <th></th>\n",
       "      <th></th>\n",
       "    </tr>\n",
       "  </thead>\n",
       "  <tbody>\n",
       "    <tr>\n",
       "      <th>KNeighborsClassifier</th>\n",
       "      <td>0.952112</td>\n",
       "      <td>2941.0</td>\n",
       "      <td>2964.0</td>\n",
       "      <td>137.0</td>\n",
       "      <td>160.0</td>\n",
       "      <td>0.044179</td>\n",
       "      <td>0.051596</td>\n",
       "    </tr>\n",
       "    <tr>\n",
       "      <th>RandomForestClassifier</th>\n",
       "      <td>0.997098</td>\n",
       "      <td>3088.0</td>\n",
       "      <td>3096.0</td>\n",
       "      <td>5.0</td>\n",
       "      <td>13.0</td>\n",
       "      <td>0.001612</td>\n",
       "      <td>0.004192</td>\n",
       "    </tr>\n",
       "    <tr>\n",
       "      <th>AdaBoostClassifier</th>\n",
       "      <td>0.937762</td>\n",
       "      <td>2930.0</td>\n",
       "      <td>2886.0</td>\n",
       "      <td>215.0</td>\n",
       "      <td>171.0</td>\n",
       "      <td>0.069332</td>\n",
       "      <td>0.055144</td>\n",
       "    </tr>\n",
       "    <tr>\n",
       "      <th>GradientBoostingClassifier</th>\n",
       "      <td>0.957433</td>\n",
       "      <td>2963.0</td>\n",
       "      <td>2975.0</td>\n",
       "      <td>126.0</td>\n",
       "      <td>138.0</td>\n",
       "      <td>0.040632</td>\n",
       "      <td>0.044502</td>\n",
       "    </tr>\n",
       "    <tr>\n",
       "      <th>ExtraTreeClassifier</th>\n",
       "      <td>0.999516</td>\n",
       "      <td>3098.0</td>\n",
       "      <td>3101.0</td>\n",
       "      <td>0.0</td>\n",
       "      <td>3.0</td>\n",
       "      <td>0.000000</td>\n",
       "      <td>0.000967</td>\n",
       "    </tr>\n",
       "    <tr>\n",
       "      <th>XGB</th>\n",
       "      <td>0.955176</td>\n",
       "      <td>2951.0</td>\n",
       "      <td>2973.0</td>\n",
       "      <td>128.0</td>\n",
       "      <td>150.0</td>\n",
       "      <td>0.041277</td>\n",
       "      <td>0.048371</td>\n",
       "    </tr>\n",
       "    <tr>\n",
       "      <th>BaggingClassifier</th>\n",
       "      <td>0.995808</td>\n",
       "      <td>3082.0</td>\n",
       "      <td>3094.0</td>\n",
       "      <td>7.0</td>\n",
       "      <td>19.0</td>\n",
       "      <td>0.002257</td>\n",
       "      <td>0.006127</td>\n",
       "    </tr>\n",
       "    <tr>\n",
       "      <th>Neural Network-1</th>\n",
       "      <td>0.991293</td>\n",
       "      <td>3052.0</td>\n",
       "      <td>3096.0</td>\n",
       "      <td>5.0</td>\n",
       "      <td>49.0</td>\n",
       "      <td>0.001612</td>\n",
       "      <td>0.015801</td>\n",
       "    </tr>\n",
       "  </tbody>\n",
       "</table>\n",
       "</div>"
      ],
      "text/plain": [
       "                            accuracy      TP      TN     FP     FN       FPR  \\\n",
       "index                                                                          \n",
       "KNeighborsClassifier        0.952112  2941.0  2964.0  137.0  160.0  0.044179   \n",
       "RandomForestClassifier      0.997098  3088.0  3096.0    5.0   13.0  0.001612   \n",
       "AdaBoostClassifier          0.937762  2930.0  2886.0  215.0  171.0  0.069332   \n",
       "GradientBoostingClassifier  0.957433  2963.0  2975.0  126.0  138.0  0.040632   \n",
       "ExtraTreeClassifier         0.999516  3098.0  3101.0    0.0    3.0  0.000000   \n",
       "XGB                         0.955176  2951.0  2973.0  128.0  150.0  0.041277   \n",
       "BaggingClassifier           0.995808  3082.0  3094.0    7.0   19.0  0.002257   \n",
       "Neural Network-1            0.991293  3052.0  3096.0    5.0   49.0  0.001612   \n",
       "\n",
       "                                 FNR  \n",
       "index                                 \n",
       "KNeighborsClassifier        0.051596  \n",
       "RandomForestClassifier      0.004192  \n",
       "AdaBoostClassifier          0.055144  \n",
       "GradientBoostingClassifier  0.044502  \n",
       "ExtraTreeClassifier         0.000967  \n",
       "XGB                         0.048371  \n",
       "BaggingClassifier           0.006127  \n",
       "Neural Network-1            0.015801  "
      ]
     },
     "metadata": {},
     "output_type": "display_data"
    },
    {
     "name": "stdout",
     "output_type": "stream",
     "text": [
      "Test Results\n"
     ]
    },
    {
     "data": {
      "text/html": [
       "<div>\n",
       "<style scoped>\n",
       "    .dataframe tbody tr th:only-of-type {\n",
       "        vertical-align: middle;\n",
       "    }\n",
       "\n",
       "    .dataframe tbody tr th {\n",
       "        vertical-align: top;\n",
       "    }\n",
       "\n",
       "    .dataframe thead th {\n",
       "        text-align: right;\n",
       "    }\n",
       "</style>\n",
       "<table border=\"1\" class=\"dataframe\">\n",
       "  <thead>\n",
       "    <tr style=\"text-align: right;\">\n",
       "      <th></th>\n",
       "      <th>accuracy</th>\n",
       "      <th>TP</th>\n",
       "      <th>TN</th>\n",
       "      <th>FP</th>\n",
       "      <th>FN</th>\n",
       "      <th>FPR</th>\n",
       "      <th>FNR</th>\n",
       "      <th>auc</th>\n",
       "      <th>MCC</th>\n",
       "      <th>Precision</th>\n",
       "      <th>Recall</th>\n",
       "    </tr>\n",
       "    <tr>\n",
       "      <th>index</th>\n",
       "      <th></th>\n",
       "      <th></th>\n",
       "      <th></th>\n",
       "      <th></th>\n",
       "      <th></th>\n",
       "      <th></th>\n",
       "      <th></th>\n",
       "      <th></th>\n",
       "      <th></th>\n",
       "      <th></th>\n",
       "      <th></th>\n",
       "    </tr>\n",
       "  </thead>\n",
       "  <tbody>\n",
       "    <tr>\n",
       "      <th>KNeighborsClassifier</th>\n",
       "      <td>0.935432</td>\n",
       "      <td>1236.0</td>\n",
       "      <td>9760.0</td>\n",
       "      <td>655.0</td>\n",
       "      <td>104.0</td>\n",
       "      <td>0.062890</td>\n",
       "      <td>0.077612</td>\n",
       "      <td>0.929749</td>\n",
       "      <td>0.743455</td>\n",
       "      <td>0.653622</td>\n",
       "      <td>0.922388</td>\n",
       "    </tr>\n",
       "    <tr>\n",
       "      <th>RandomForestClassifier</th>\n",
       "      <td>0.958401</td>\n",
       "      <td>1241.0</td>\n",
       "      <td>10025.0</td>\n",
       "      <td>390.0</td>\n",
       "      <td>99.0</td>\n",
       "      <td>0.037446</td>\n",
       "      <td>0.073881</td>\n",
       "      <td>0.944337</td>\n",
       "      <td>0.816998</td>\n",
       "      <td>0.760883</td>\n",
       "      <td>0.926119</td>\n",
       "    </tr>\n",
       "    <tr>\n",
       "      <th>AdaBoostClassifier</th>\n",
       "      <td>0.934496</td>\n",
       "      <td>1249.0</td>\n",
       "      <td>9736.0</td>\n",
       "      <td>679.0</td>\n",
       "      <td>91.0</td>\n",
       "      <td>0.065194</td>\n",
       "      <td>0.067910</td>\n",
       "      <td>0.933448</td>\n",
       "      <td>0.744020</td>\n",
       "      <td>0.647822</td>\n",
       "      <td>0.932090</td>\n",
       "    </tr>\n",
       "    <tr>\n",
       "      <th>GradientBoostingClassifier</th>\n",
       "      <td>0.951510</td>\n",
       "      <td>1252.0</td>\n",
       "      <td>9933.0</td>\n",
       "      <td>482.0</td>\n",
       "      <td>88.0</td>\n",
       "      <td>0.046279</td>\n",
       "      <td>0.065672</td>\n",
       "      <td>0.944024</td>\n",
       "      <td>0.795864</td>\n",
       "      <td>0.722030</td>\n",
       "      <td>0.934328</td>\n",
       "    </tr>\n",
       "    <tr>\n",
       "      <th>ExtraTreeClassifier</th>\n",
       "      <td>0.959677</td>\n",
       "      <td>1240.0</td>\n",
       "      <td>10041.0</td>\n",
       "      <td>374.0</td>\n",
       "      <td>100.0</td>\n",
       "      <td>0.035910</td>\n",
       "      <td>0.074627</td>\n",
       "      <td>0.944732</td>\n",
       "      <td>0.821331</td>\n",
       "      <td>0.768278</td>\n",
       "      <td>0.925373</td>\n",
       "    </tr>\n",
       "    <tr>\n",
       "      <th>XGB</th>\n",
       "      <td>0.952616</td>\n",
       "      <td>1249.0</td>\n",
       "      <td>9949.0</td>\n",
       "      <td>466.0</td>\n",
       "      <td>91.0</td>\n",
       "      <td>0.044743</td>\n",
       "      <td>0.067910</td>\n",
       "      <td>0.943673</td>\n",
       "      <td>0.798870</td>\n",
       "      <td>0.728280</td>\n",
       "      <td>0.932090</td>\n",
       "    </tr>\n",
       "    <tr>\n",
       "      <th>BaggingClassifier</th>\n",
       "      <td>0.953892</td>\n",
       "      <td>1230.0</td>\n",
       "      <td>9983.0</td>\n",
       "      <td>432.0</td>\n",
       "      <td>110.0</td>\n",
       "      <td>0.041479</td>\n",
       "      <td>0.082090</td>\n",
       "      <td>0.938216</td>\n",
       "      <td>0.799419</td>\n",
       "      <td>0.740072</td>\n",
       "      <td>0.917910</td>\n",
       "    </tr>\n",
       "    <tr>\n",
       "      <th>Neural Network-1</th>\n",
       "      <td>0.945045</td>\n",
       "      <td>1231.0</td>\n",
       "      <td>9878.0</td>\n",
       "      <td>537.0</td>\n",
       "      <td>109.0</td>\n",
       "      <td>0.051560</td>\n",
       "      <td>0.081343</td>\n",
       "      <td>0.938216</td>\n",
       "      <td>0.770887</td>\n",
       "      <td>0.696267</td>\n",
       "      <td>0.918657</td>\n",
       "    </tr>\n",
       "  </tbody>\n",
       "</table>\n",
       "</div>"
      ],
      "text/plain": [
       "                            accuracy      TP       TN     FP     FN       FPR  \\\n",
       "index                                                                           \n",
       "KNeighborsClassifier        0.935432  1236.0   9760.0  655.0  104.0  0.062890   \n",
       "RandomForestClassifier      0.958401  1241.0  10025.0  390.0   99.0  0.037446   \n",
       "AdaBoostClassifier          0.934496  1249.0   9736.0  679.0   91.0  0.065194   \n",
       "GradientBoostingClassifier  0.951510  1252.0   9933.0  482.0   88.0  0.046279   \n",
       "ExtraTreeClassifier         0.959677  1240.0  10041.0  374.0  100.0  0.035910   \n",
       "XGB                         0.952616  1249.0   9949.0  466.0   91.0  0.044743   \n",
       "BaggingClassifier           0.953892  1230.0   9983.0  432.0  110.0  0.041479   \n",
       "Neural Network-1            0.945045  1231.0   9878.0  537.0  109.0  0.051560   \n",
       "\n",
       "                                 FNR       auc       MCC  Precision    Recall  \n",
       "index                                                                          \n",
       "KNeighborsClassifier        0.077612  0.929749  0.743455   0.653622  0.922388  \n",
       "RandomForestClassifier      0.073881  0.944337  0.816998   0.760883  0.926119  \n",
       "AdaBoostClassifier          0.067910  0.933448  0.744020   0.647822  0.932090  \n",
       "GradientBoostingClassifier  0.065672  0.944024  0.795864   0.722030  0.934328  \n",
       "ExtraTreeClassifier         0.074627  0.944732  0.821331   0.768278  0.925373  \n",
       "XGB                         0.067910  0.943673  0.798870   0.728280  0.932090  \n",
       "BaggingClassifier           0.082090  0.938216  0.799419   0.740072  0.917910  \n",
       "Neural Network-1            0.081343  0.938216  0.770887   0.696267  0.918657  "
      ]
     },
     "metadata": {},
     "output_type": "display_data"
    }
   ],
   "source": [
    "table_80_50_train['index']=ind_columns\n",
    "table_80_50_test['index']=ind_columns\n",
    "\n",
    "\n",
    "table_80_50_test.set_index(['index'],drop=True,inplace=True)\n",
    "table_80_50_train.set_index(['index'],drop=True,inplace=True)\n",
    "\n",
    "print(\"Training Results\")\n",
    "display(table_80_50_train)\n",
    "print(\"Test Results\")\n",
    "display(table_80_50_test)"
   ]
  },
  {
   "cell_type": "markdown",
   "metadata": {},
   "source": [
    "### <a id='3.B' style=\"text-decoration : none; color : #000000;\"> B. Average Feature Importances</a>"
   ]
  },
  {
   "cell_type": "code",
   "execution_count": 29,
   "metadata": {},
   "outputs": [
    {
     "data": {
      "application/vnd.plotly.v1+json": {
       "config": {
        "linkText": "Export to plot.ly",
        "plotlyServerURL": "https://plot.ly",
        "showLink": true
       },
       "data": [
        {
         "marker": {
          "color": "rgb(158,202,225)",
          "line": {
           "color": "rgb(8,48,107)",
           "width": 1.5
          }
         },
         "opacity": 0.6,
         "orientation": "h",
         "text": [
          0.1054,
          0.0899,
          0.0674,
          0.059,
          0.0537,
          0.0532,
          0.0357,
          0.0342,
          0.0327,
          0.0326,
          0.0316,
          0.0311,
          0.0279,
          0.027,
          0.0269,
          0.023,
          0.0226,
          0.0223,
          0.021,
          0.0188,
          0.017,
          0.0158,
          0.0154,
          0.0122,
          0.0103,
          0.0102,
          0.0101,
          0.0092,
          0.0092,
          0.0091,
          0.0089,
          0.0089,
          0.0088,
          0.0081,
          0.0076,
          0.0074,
          0.0071,
          0.0048,
          0.0041
         ],
         "textposition": "outside",
         "type": "bar",
         "uid": "1a00d615-1afb-4a14-b83a-49a353f169fa",
         "x": [
          0.10537853289713299,
          0.08991660160645697,
          0.06736780792553757,
          0.05896005531335392,
          0.05371752704008999,
          0.053159951455915164,
          0.035674801366034216,
          0.034203734325511256,
          0.032730443842984305,
          0.03255117779198642,
          0.03160774169939056,
          0.031096897842185965,
          0.02789121210975378,
          0.02695900966356763,
          0.026856053435694062,
          0.023026622354676864,
          0.02261044930107154,
          0.02231010890386671,
          0.02104726099936393,
          0.018806018996094315,
          0.01699201986989843,
          0.01575980183219421,
          0.01535721248998822,
          0.01216390490628074,
          0.010299411872355141,
          0.010202604391682935,
          0.01011071135039884,
          0.00923344734626225,
          0.009157875211134144,
          0.009107723525934645,
          0.008917406251300466,
          0.008857435046445908,
          0.008835730251276406,
          0.008052825073689665,
          0.007633610044830981,
          0.007374388984075218,
          0.007085456179996216,
          0.004848330817375712,
          0.004138093076508493
         ],
         "y": [
          "a_count",
          "url_length",
          "a_href_out_of_domain",
          "url_char_w",
          "url_extensions",
          "http_header_content-encoding_gzip",
          "script_count",
          "meta_count",
          "script_src_out_of_domain",
          "a_href_relative",
          "url_char_.",
          "push",
          "link_href_out_of_domain",
          "http_header_content-length",
          "http_header_transfer-encoding_chunked",
          "link_type_text/css",
          "li_count",
          "p_count",
          "http_header_server_apache",
          "url_char_z",
          "url_char_i",
          "a_href_https",
          "http_header_cache-control_set_max-age",
          "url_char_l",
          "input_count",
          "http_header_vary_user-agent",
          "http_header_via_1.1",
          "url_char_p",
          "center_count",
          "img_src_http",
          "url_extension_endswith_.com",
          "url_char_f",
          "url_char_y",
          "title_count",
          "script_src_https",
          "a_href_http",
          "iframe_src_.html",
          "url_char_d",
          "url_char_t"
         ]
        }
       ],
       "layout": {
        "autosize": false,
        "height": 1000,
        "width": 1000,
        "xaxis": {
         "tickfont": {
          "color": "black",
          "size": 12
         },
         "title": "Feature Importances"
        },
        "yaxis": {
         "automargin": true
        }
       }
      },
      "text/html": [
       "<div id=\"5855699d-bffe-408b-9904-6c57e841bf09\" style=\"height: 1000px; width: 1000px;\" class=\"plotly-graph-div\"></div><script type=\"text/javascript\">require([\"plotly\"], function(Plotly) { window.PLOTLYENV=window.PLOTLYENV || {};window.PLOTLYENV.BASE_URL=\"https://plot.ly\";Plotly.newPlot(\"5855699d-bffe-408b-9904-6c57e841bf09\", [{\"marker\": {\"color\": \"rgb(158,202,225)\", \"line\": {\"color\": \"rgb(8,48,107)\", \"width\": 1.5}}, \"opacity\": 0.6, \"orientation\": \"h\", \"text\": [0.1054, 0.0899, 0.0674, 0.059, 0.0537, 0.0532, 0.0357, 0.0342, 0.0327, 0.0326, 0.0316, 0.0311, 0.0279, 0.027, 0.0269, 0.023, 0.0226, 0.0223, 0.021, 0.0188, 0.017, 0.0158, 0.0154, 0.0122, 0.0103, 0.0102, 0.0101, 0.0092, 0.0092, 0.0091, 0.0089, 0.0089, 0.0088, 0.0081, 0.0076, 0.0074, 0.0071, 0.0048, 0.0041], \"textposition\": \"outside\", \"x\": [0.10537853289713299, 0.08991660160645697, 0.06736780792553757, 0.05896005531335392, 0.05371752704008999, 0.053159951455915164, 0.035674801366034216, 0.034203734325511256, 0.032730443842984305, 0.03255117779198642, 0.03160774169939056, 0.031096897842185965, 0.02789121210975378, 0.02695900966356763, 0.026856053435694062, 0.023026622354676864, 0.02261044930107154, 0.02231010890386671, 0.02104726099936393, 0.018806018996094315, 0.01699201986989843, 0.01575980183219421, 0.01535721248998822, 0.01216390490628074, 0.010299411872355141, 0.010202604391682935, 0.01011071135039884, 0.00923344734626225, 0.009157875211134144, 0.009107723525934645, 0.008917406251300466, 0.008857435046445908, 0.008835730251276406, 0.008052825073689665, 0.007633610044830981, 0.007374388984075218, 0.007085456179996216, 0.004848330817375712, 0.004138093076508493], \"y\": [\"a_count\", \"url_length\", \"a_href_out_of_domain\", \"url_char_w\", \"url_extensions\", \"http_header_content-encoding_gzip\", \"script_count\", \"meta_count\", \"script_src_out_of_domain\", \"a_href_relative\", \"url_char_.\", \"push\", \"link_href_out_of_domain\", \"http_header_content-length\", \"http_header_transfer-encoding_chunked\", \"link_type_text/css\", \"li_count\", \"p_count\", \"http_header_server_apache\", \"url_char_z\", \"url_char_i\", \"a_href_https\", \"http_header_cache-control_set_max-age\", \"url_char_l\", \"input_count\", \"http_header_vary_user-agent\", \"http_header_via_1.1\", \"url_char_p\", \"center_count\", \"img_src_http\", \"url_extension_endswith_.com\", \"url_char_f\", \"url_char_y\", \"title_count\", \"script_src_https\", \"a_href_http\", \"iframe_src_.html\", \"url_char_d\", \"url_char_t\"], \"type\": \"bar\", \"uid\": \"1a00d615-1afb-4a14-b83a-49a353f169fa\"}], {\"autosize\": false, \"height\": 1000, \"width\": 1000, \"xaxis\": {\"tickfont\": {\"color\": \"black\", \"size\": 12}, \"title\": \"Feature Importances\"}, \"yaxis\": {\"automargin\": true}}, {\"showLink\": true, \"linkText\": \"Export to plot.ly\", \"plotlyServerURL\": \"https://plot.ly\"})});</script>"
      ],
      "text/vnd.plotly.v1+html": [
       "<div id=\"5855699d-bffe-408b-9904-6c57e841bf09\" style=\"height: 1000px; width: 1000px;\" class=\"plotly-graph-div\"></div><script type=\"text/javascript\">require([\"plotly\"], function(Plotly) { window.PLOTLYENV=window.PLOTLYENV || {};window.PLOTLYENV.BASE_URL=\"https://plot.ly\";Plotly.newPlot(\"5855699d-bffe-408b-9904-6c57e841bf09\", [{\"marker\": {\"color\": \"rgb(158,202,225)\", \"line\": {\"color\": \"rgb(8,48,107)\", \"width\": 1.5}}, \"opacity\": 0.6, \"orientation\": \"h\", \"text\": [0.1054, 0.0899, 0.0674, 0.059, 0.0537, 0.0532, 0.0357, 0.0342, 0.0327, 0.0326, 0.0316, 0.0311, 0.0279, 0.027, 0.0269, 0.023, 0.0226, 0.0223, 0.021, 0.0188, 0.017, 0.0158, 0.0154, 0.0122, 0.0103, 0.0102, 0.0101, 0.0092, 0.0092, 0.0091, 0.0089, 0.0089, 0.0088, 0.0081, 0.0076, 0.0074, 0.0071, 0.0048, 0.0041], \"textposition\": \"outside\", \"x\": [0.10537853289713299, 0.08991660160645697, 0.06736780792553757, 0.05896005531335392, 0.05371752704008999, 0.053159951455915164, 0.035674801366034216, 0.034203734325511256, 0.032730443842984305, 0.03255117779198642, 0.03160774169939056, 0.031096897842185965, 0.02789121210975378, 0.02695900966356763, 0.026856053435694062, 0.023026622354676864, 0.02261044930107154, 0.02231010890386671, 0.02104726099936393, 0.018806018996094315, 0.01699201986989843, 0.01575980183219421, 0.01535721248998822, 0.01216390490628074, 0.010299411872355141, 0.010202604391682935, 0.01011071135039884, 0.00923344734626225, 0.009157875211134144, 0.009107723525934645, 0.008917406251300466, 0.008857435046445908, 0.008835730251276406, 0.008052825073689665, 0.007633610044830981, 0.007374388984075218, 0.007085456179996216, 0.004848330817375712, 0.004138093076508493], \"y\": [\"a_count\", \"url_length\", \"a_href_out_of_domain\", \"url_char_w\", \"url_extensions\", \"http_header_content-encoding_gzip\", \"script_count\", \"meta_count\", \"script_src_out_of_domain\", \"a_href_relative\", \"url_char_.\", \"push\", \"link_href_out_of_domain\", \"http_header_content-length\", \"http_header_transfer-encoding_chunked\", \"link_type_text/css\", \"li_count\", \"p_count\", \"http_header_server_apache\", \"url_char_z\", \"url_char_i\", \"a_href_https\", \"http_header_cache-control_set_max-age\", \"url_char_l\", \"input_count\", \"http_header_vary_user-agent\", \"http_header_via_1.1\", \"url_char_p\", \"center_count\", \"img_src_http\", \"url_extension_endswith_.com\", \"url_char_f\", \"url_char_y\", \"title_count\", \"script_src_https\", \"a_href_http\", \"iframe_src_.html\", \"url_char_d\", \"url_char_t\"], \"type\": \"bar\", \"uid\": \"1a00d615-1afb-4a14-b83a-49a353f169fa\"}], {\"autosize\": false, \"height\": 1000, \"width\": 1000, \"xaxis\": {\"tickfont\": {\"color\": \"black\", \"size\": 12}, \"title\": \"Feature Importances\"}, \"yaxis\": {\"automargin\": true}}, {\"showLink\": true, \"linkText\": \"Export to plot.ly\", \"plotlyServerURL\": \"https://plot.ly\"})});</script>"
      ]
     },
     "metadata": {},
     "output_type": "display_data"
    }
   ],
   "source": [
    "feat_impt_plot(np.average(feat_imp,axis=0),columns)"
   ]
  },
  {
   "cell_type": "markdown",
   "metadata": {},
   "source": [
    "### <a id='4' style=\"text-decoration : none; color : #000000;\">4. Feature Transformation with feature selection </a>"
   ]
  },
  {
   "cell_type": "code",
   "execution_count": 52,
   "metadata": {},
   "outputs": [],
   "source": [
    "df.reset_index(inplace=True)\n",
    "columns.append('domain')\n",
    "df_min=df[columns]"
   ]
  },
  {
   "cell_type": "code",
   "execution_count": 53,
   "metadata": {
    "scrolled": false
   },
   "outputs": [
    {
     "name": "stdout",
     "output_type": "stream",
     "text": [
      "Built 3003 features\n",
      "EntitySet scattered to workers in 4.893 seconds\n",
      "Elapsed: 00:20 | Remaining: 00:00 | Progress: 100%|██████████| Calculated: 11/11 chunks\n"
     ]
    },
    {
     "name": "stderr",
     "output_type": "stream",
     "text": [
      "distributed.client - ERROR - Failed to reconnect to scheduler after 10.00 seconds, closing client\n",
      "distributed.utils - ERROR - \n",
      "Traceback (most recent call last):\n",
      "  File \"/nethomes/darshan/anaconda3/lib/python3.6/site-packages/distributed/utils.py\", line 713, in log_errors\n",
      "    yield\n",
      "  File \"/nethomes/darshan/anaconda3/lib/python3.6/site-packages/distributed/client.py\", line 1223, in _close\n",
      "    quiet_exceptions=(CancelledError,),\n",
      "  File \"/nethomes/darshan/anaconda3/lib/python3.6/site-packages/tornado/gen.py\", line 584, in with_timeout\n",
      "    chain_future(future_converted, result)\n",
      "  File \"/nethomes/darshan/anaconda3/lib/python3.6/site-packages/tornado/concurrent.py\", line 166, in chain_future\n",
      "    future_add_done_callback(a, copy)\n",
      "  File \"/nethomes/darshan/anaconda3/lib/python3.6/site-packages/tornado/concurrent.py\", line 262, in future_add_done_callback\n",
      "    callback(future)\n",
      "  File \"/nethomes/darshan/anaconda3/lib/python3.6/site-packages/tornado/concurrent.py\", line 160, in copy\n",
      "    elif a.exception() is not None:\n",
      "concurrent.futures._base.CancelledError\n",
      "distributed.utils - ERROR - \n",
      "Traceback (most recent call last):\n",
      "  File \"/nethomes/darshan/anaconda3/lib/python3.6/site-packages/distributed/utils.py\", line 713, in log_errors\n",
      "    yield\n",
      "  File \"/nethomes/darshan/anaconda3/lib/python3.6/site-packages/distributed/client.py\", line 992, in _reconnect\n",
      "    yield self._close()\n",
      "  File \"/nethomes/darshan/anaconda3/lib/python3.6/site-packages/tornado/gen.py\", line 729, in run\n",
      "    value = future.result()\n",
      "  File \"/nethomes/darshan/anaconda3/lib/python3.6/site-packages/tornado/gen.py\", line 209, in wrapper\n",
      "    yielded = next(result)\n",
      "  File \"/nethomes/darshan/anaconda3/lib/python3.6/site-packages/distributed/client.py\", line 1223, in _close\n",
      "    quiet_exceptions=(CancelledError,),\n",
      "  File \"/nethomes/darshan/anaconda3/lib/python3.6/site-packages/tornado/gen.py\", line 584, in with_timeout\n",
      "    chain_future(future_converted, result)\n",
      "  File \"/nethomes/darshan/anaconda3/lib/python3.6/site-packages/tornado/concurrent.py\", line 166, in chain_future\n",
      "    future_add_done_callback(a, copy)\n",
      "  File \"/nethomes/darshan/anaconda3/lib/python3.6/site-packages/tornado/concurrent.py\", line 262, in future_add_done_callback\n",
      "    callback(future)\n",
      "  File \"/nethomes/darshan/anaconda3/lib/python3.6/site-packages/tornado/concurrent.py\", line 160, in copy\n",
      "    elif a.exception() is not None:\n",
      "concurrent.futures._base.CancelledError\n"
     ]
    }
   ],
   "source": [
    "es = ft.EntitySet(id = 'malicious')\n",
    "es.entity_from_dataframe(entity_id = 'data', dataframe = df_min, index = 'domain')\n",
    "\n",
    "feature_matrix_sessions, features_defs = ft.dfs(entityset=es,target_entity=\"data\",\n",
    "                                                trans_primitives = ['add','divide','multiply'],n_jobs=-1,\n",
    "                                                verbose=1,max_depth=1)"
   ]
  },
  {
   "cell_type": "code",
   "execution_count": 54,
   "metadata": {
    "scrolled": true
   },
   "outputs": [
    {
     "name": "stderr",
     "output_type": "stream",
     "text": [
      "distributed.core - INFO - Event loop was unresponsive in Nanny for 4.14s.  This is often caused by long-running GIL-holding functions or moving large chunks of data. This can cause timeouts and instability.\n",
      "distributed.core - INFO - Event loop was unresponsive in Nanny for 4.97s.  This is often caused by long-running GIL-holding functions or moving large chunks of data. This can cause timeouts and instability.\n",
      "distributed.core - INFO - Event loop was unresponsive in Nanny for 4.97s.  This is often caused by long-running GIL-holding functions or moving large chunks of data. This can cause timeouts and instability.\n",
      "distributed.core - INFO - Event loop was unresponsive in Nanny for 4.97s.  This is often caused by long-running GIL-holding functions or moving large chunks of data. This can cause timeouts and instability.\n",
      "distributed.core - INFO - Event loop was unresponsive in Nanny for 5.62s.  This is often caused by long-running GIL-holding functions or moving large chunks of data. This can cause timeouts and instability.\n",
      "distributed.core - INFO - Event loop was unresponsive in Nanny for 5.63s.  This is often caused by long-running GIL-holding functions or moving large chunks of data. This can cause timeouts and instability.\n",
      "distributed.core - INFO - Event loop was unresponsive in Nanny for 4.85s.  This is often caused by long-running GIL-holding functions or moving large chunks of data. This can cause timeouts and instability.\n",
      "distributed.core - INFO - Event loop was unresponsive in Nanny for 5.72s.  This is often caused by long-running GIL-holding functions or moving large chunks of data. This can cause timeouts and instability.\n",
      "distributed.core - INFO - Event loop was unresponsive in Nanny for 5.67s.  This is often caused by long-running GIL-holding functions or moving large chunks of data. This can cause timeouts and instability.\n",
      "distributed.core - INFO - Event loop was unresponsive in Nanny for 6.46s.  This is often caused by long-running GIL-holding functions or moving large chunks of data. This can cause timeouts and instability.\n",
      "distributed.core - INFO - Event loop was unresponsive in Nanny for 5.68s.  This is often caused by long-running GIL-holding functions or moving large chunks of data. This can cause timeouts and instability.\n",
      "distributed.core - INFO - Event loop was unresponsive in Nanny for 7.12s.  This is often caused by long-running GIL-holding functions or moving large chunks of data. This can cause timeouts and instability.\n",
      "distributed.core - INFO - Event loop was unresponsive in Nanny for 6.34s.  This is often caused by long-running GIL-holding functions or moving large chunks of data. This can cause timeouts and instability.\n",
      "distributed.core - INFO - Event loop was unresponsive in Nanny for 7.13s.  This is often caused by long-running GIL-holding functions or moving large chunks of data. This can cause timeouts and instability.\n",
      "distributed.core - INFO - Event loop was unresponsive in Nanny for 6.46s.  This is often caused by long-running GIL-holding functions or moving large chunks of data. This can cause timeouts and instability.\n",
      "distributed.core - INFO - Event loop was unresponsive in Nanny for 7.24s.  This is often caused by long-running GIL-holding functions or moving large chunks of data. This can cause timeouts and instability.\n",
      "distributed.core - INFO - Event loop was unresponsive in Nanny for 6.46s.  This is often caused by long-running GIL-holding functions or moving large chunks of data. This can cause timeouts and instability.\n",
      "distributed.core - INFO - Event loop was unresponsive in Nanny for 7.19s.  This is often caused by long-running GIL-holding functions or moving large chunks of data. This can cause timeouts and instability.\n",
      "distributed.core - INFO - Event loop was unresponsive in Nanny for 7.20s.  This is often caused by long-running GIL-holding functions or moving large chunks of data. This can cause timeouts and instability.\n",
      "distributed.core - INFO - Event loop was unresponsive in Nanny for 7.97s.  This is often caused by long-running GIL-holding functions or moving large chunks of data. This can cause timeouts and instability.\n",
      "distributed.core - INFO - Event loop was unresponsive in Nanny for 7.97s.  This is often caused by long-running GIL-holding functions or moving large chunks of data. This can cause timeouts and instability.\n",
      "distributed.core - INFO - Event loop was unresponsive in Nanny for 7.97s.  This is often caused by long-running GIL-holding functions or moving large chunks of data. This can cause timeouts and instability.\n",
      "distributed.core - INFO - Event loop was unresponsive in Nanny for 8.39s.  This is often caused by long-running GIL-holding functions or moving large chunks of data. This can cause timeouts and instability.\n",
      "distributed.core - INFO - Event loop was unresponsive in Nanny for 7.57s.  This is often caused by long-running GIL-holding functions or moving large chunks of data. This can cause timeouts and instability.\n",
      "distributed.core - INFO - Event loop was unresponsive in Nanny for 7.57s.  This is often caused by long-running GIL-holding functions or moving large chunks of data. This can cause timeouts and instability.\n",
      "distributed.core - INFO - Event loop was unresponsive in Nanny for 7.57s.  This is often caused by long-running GIL-holding functions or moving large chunks of data. This can cause timeouts and instability.\n",
      "distributed.core - INFO - Event loop was unresponsive in Nanny for 6.91s.  This is often caused by long-running GIL-holding functions or moving large chunks of data. This can cause timeouts and instability.\n",
      "distributed.core - INFO - Event loop was unresponsive in Nanny for 6.91s.  This is often caused by long-running GIL-holding functions or moving large chunks of data. This can cause timeouts and instability.\n",
      "distributed.core - INFO - Event loop was unresponsive in Nanny for 6.82s.  This is often caused by long-running GIL-holding functions or moving large chunks of data. This can cause timeouts and instability.\n",
      "distributed.core - INFO - Event loop was unresponsive in Nanny for 6.94s.  This is often caused by long-running GIL-holding functions or moving large chunks of data. This can cause timeouts and instability.\n",
      "distributed.core - INFO - Event loop was unresponsive in Nanny for 6.28s.  This is often caused by long-running GIL-holding functions or moving large chunks of data. This can cause timeouts and instability.\n",
      "distributed.core - INFO - Event loop was unresponsive in Nanny for 6.27s.  This is often caused by long-running GIL-holding functions or moving large chunks of data. This can cause timeouts and instability.\n",
      "distributed.core - INFO - Event loop was unresponsive in Nanny for 6.94s.  This is often caused by long-running GIL-holding functions or moving large chunks of data. This can cause timeouts and instability.\n",
      "distributed.core - INFO - Event loop was unresponsive in Nanny for 8.65s.  This is often caused by long-running GIL-holding functions or moving large chunks of data. This can cause timeouts and instability.\n",
      "distributed.core - INFO - Event loop was unresponsive in Nanny for 7.83s.  This is often caused by long-running GIL-holding functions or moving large chunks of data. This can cause timeouts and instability.\n",
      "distributed.core - INFO - Event loop was unresponsive in Nanny for 7.82s.  This is often caused by long-running GIL-holding functions or moving large chunks of data. This can cause timeouts and instability.\n",
      "distributed.core - INFO - Event loop was unresponsive in Nanny for 7.88s.  This is often caused by long-running GIL-holding functions or moving large chunks of data. This can cause timeouts and instability.\n",
      "distributed.core - INFO - Event loop was unresponsive in Nanny for 7.78s.  This is often caused by long-running GIL-holding functions or moving large chunks of data. This can cause timeouts and instability.\n",
      "distributed.core - INFO - Event loop was unresponsive in Nanny for 7.87s.  This is often caused by long-running GIL-holding functions or moving large chunks of data. This can cause timeouts and instability.\n",
      "distributed.core - INFO - Event loop was unresponsive in Nanny for 7.84s.  This is often caused by long-running GIL-holding functions or moving large chunks of data. This can cause timeouts and instability.\n"
     ]
    },
    {
     "name": "stderr",
     "output_type": "stream",
     "text": [
      "distributed.core - INFO - Event loop was unresponsive in Nanny for 7.84s.  This is often caused by long-running GIL-holding functions or moving large chunks of data. This can cause timeouts and instability.\n",
      "distributed.core - INFO - Event loop was unresponsive in Nanny for 7.17s.  This is often caused by long-running GIL-holding functions or moving large chunks of data. This can cause timeouts and instability.\n",
      "distributed.core - INFO - Event loop was unresponsive in Nanny for 7.17s.  This is often caused by long-running GIL-holding functions or moving large chunks of data. This can cause timeouts and instability.\n",
      "distributed.core - INFO - Event loop was unresponsive in Nanny for 7.81s.  This is often caused by long-running GIL-holding functions or moving large chunks of data. This can cause timeouts and instability.\n",
      "distributed.core - INFO - Event loop was unresponsive in Nanny for 5.61s.  This is often caused by long-running GIL-holding functions or moving large chunks of data. This can cause timeouts and instability.\n",
      "distributed.core - INFO - Event loop was unresponsive in Nanny for 5.61s.  This is often caused by long-running GIL-holding functions or moving large chunks of data. This can cause timeouts and instability.\n",
      "distributed.core - INFO - Event loop was unresponsive in Nanny for 5.75s.  This is often caused by long-running GIL-holding functions or moving large chunks of data. This can cause timeouts and instability.\n",
      "distributed.core - INFO - Event loop was unresponsive in Nanny for 5.75s.  This is often caused by long-running GIL-holding functions or moving large chunks of data. This can cause timeouts and instability.\n",
      "distributed.core - INFO - Event loop was unresponsive in Nanny for 5.76s.  This is often caused by long-running GIL-holding functions or moving large chunks of data. This can cause timeouts and instability.\n",
      "distributed.core - INFO - Event loop was unresponsive in Nanny for 5.76s.  This is often caused by long-running GIL-holding functions or moving large chunks of data. This can cause timeouts and instability.\n",
      "distributed.core - INFO - Event loop was unresponsive in Nanny for 6.52s.  This is often caused by long-running GIL-holding functions or moving large chunks of data. This can cause timeouts and instability.\n",
      "distributed.core - INFO - Event loop was unresponsive in Nanny for 6.34s.  This is often caused by long-running GIL-holding functions or moving large chunks of data. This can cause timeouts and instability.\n",
      "distributed.core - INFO - Event loop was unresponsive in Nanny for 6.41s.  This is often caused by long-running GIL-holding functions or moving large chunks of data. This can cause timeouts and instability.\n",
      "distributed.core - INFO - Event loop was unresponsive in Nanny for 6.41s.  This is often caused by long-running GIL-holding functions or moving large chunks of data. This can cause timeouts and instability.\n",
      "distributed.core - INFO - Event loop was unresponsive in Nanny for 5.53s.  This is often caused by long-running GIL-holding functions or moving large chunks of data. This can cause timeouts and instability.\n",
      "distributed.core - INFO - Event loop was unresponsive in Nanny for 5.63s.  This is often caused by long-running GIL-holding functions or moving large chunks of data. This can cause timeouts and instability.\n",
      "distributed.core - INFO - Event loop was unresponsive in Nanny for 5.53s.  This is often caused by long-running GIL-holding functions or moving large chunks of data. This can cause timeouts and instability.\n",
      "distributed.core - INFO - Event loop was unresponsive in Nanny for 6.51s.  This is often caused by long-running GIL-holding functions or moving large chunks of data. This can cause timeouts and instability.\n",
      "distributed.core - INFO - Event loop was unresponsive in Nanny for 5.78s.  This is often caused by long-running GIL-holding functions or moving large chunks of data. This can cause timeouts and instability.\n",
      "distributed.core - INFO - Event loop was unresponsive in Nanny for 5.77s.  This is often caused by long-running GIL-holding functions or moving large chunks of data. This can cause timeouts and instability.\n",
      "distributed.core - INFO - Event loop was unresponsive in Nanny for 6.34s.  This is often caused by long-running GIL-holding functions or moving large chunks of data. This can cause timeouts and instability.\n",
      "distributed.core - INFO - Event loop was unresponsive in Nanny for 5.67s.  This is often caused by long-running GIL-holding functions or moving large chunks of data. This can cause timeouts and instability.\n",
      "distributed.core - INFO - Event loop was unresponsive in Nanny for 5.75s.  This is often caused by long-running GIL-holding functions or moving large chunks of data. This can cause timeouts and instability.\n",
      "distributed.core - INFO - Event loop was unresponsive in Nanny for 5.64s.  This is often caused by long-running GIL-holding functions or moving large chunks of data. This can cause timeouts and instability.\n",
      "distributed.core - INFO - Event loop was unresponsive in Nanny for 6.45s.  This is often caused by long-running GIL-holding functions or moving large chunks of data. This can cause timeouts and instability.\n",
      "distributed.core - INFO - Event loop was unresponsive in Nanny for 5.82s.  This is often caused by long-running GIL-holding functions or moving large chunks of data. This can cause timeouts and instability.\n",
      "distributed.core - INFO - Event loop was unresponsive in Nanny for 5.30s.  This is often caused by long-running GIL-holding functions or moving large chunks of data. This can cause timeouts and instability.\n",
      "distributed.core - INFO - Event loop was unresponsive in Nanny for 5.30s.  This is often caused by long-running GIL-holding functions or moving large chunks of data. This can cause timeouts and instability.\n",
      "distributed.core - INFO - Event loop was unresponsive in Nanny for 5.17s.  This is often caused by long-running GIL-holding functions or moving large chunks of data. This can cause timeouts and instability.\n",
      "distributed.core - INFO - Event loop was unresponsive in Nanny for 5.16s.  This is often caused by long-running GIL-holding functions or moving large chunks of data. This can cause timeouts and instability.\n",
      "distributed.core - INFO - Event loop was unresponsive in Nanny for 5.15s.  This is often caused by long-running GIL-holding functions or moving large chunks of data. This can cause timeouts and instability.\n",
      "distributed.core - INFO - Event loop was unresponsive in Nanny for 5.16s.  This is often caused by long-running GIL-holding functions or moving large chunks of data. This can cause timeouts and instability.\n",
      "distributed.core - INFO - Event loop was unresponsive in Nanny for 3.64s.  This is often caused by long-running GIL-holding functions or moving large chunks of data. This can cause timeouts and instability.\n",
      "distributed.core - INFO - Event loop was unresponsive in Nanny for 3.64s.  This is often caused by long-running GIL-holding functions or moving large chunks of data. This can cause timeouts and instability.\n",
      "distributed.core - INFO - Event loop was unresponsive in Nanny for 4.40s.  This is often caused by long-running GIL-holding functions or moving large chunks of data. This can cause timeouts and instability.\n",
      "distributed.core - INFO - Event loop was unresponsive in Nanny for 3.73s.  This is often caused by long-running GIL-holding functions or moving large chunks of data. This can cause timeouts and instability.\n",
      "distributed.core - INFO - Event loop was unresponsive in Nanny for 3.65s.  This is often caused by long-running GIL-holding functions or moving large chunks of data. This can cause timeouts and instability.\n",
      "distributed.core - INFO - Event loop was unresponsive in Nanny for 3.65s.  This is often caused by long-running GIL-holding functions or moving large chunks of data. This can cause timeouts and instability.\n",
      "distributed.core - INFO - Event loop was unresponsive in Nanny for 3.65s.  This is often caused by long-running GIL-holding functions or moving large chunks of data. This can cause timeouts and instability.\n",
      "distributed.core - INFO - Event loop was unresponsive in Nanny for 3.10s.  This is often caused by long-running GIL-holding functions or moving large chunks of data. This can cause timeouts and instability.\n"
     ]
    },
    {
     "name": "stderr",
     "output_type": "stream",
     "text": [
      "distributed.core - INFO - Event loop was unresponsive in Nanny for 3.18s.  This is often caused by long-running GIL-holding functions or moving large chunks of data. This can cause timeouts and instability.\n",
      "distributed.core - INFO - Event loop was unresponsive in Nanny for 3.19s.  This is often caused by long-running GIL-holding functions or moving large chunks of data. This can cause timeouts and instability.\n",
      "distributed.core - INFO - Event loop was unresponsive in Nanny for 3.19s.  This is often caused by long-running GIL-holding functions or moving large chunks of data. This can cause timeouts and instability.\n",
      "distributed.core - INFO - Event loop was unresponsive in Nanny for 4.16s.  This is often caused by long-running GIL-holding functions or moving large chunks of data. This can cause timeouts and instability.\n",
      "distributed.core - INFO - Event loop was unresponsive in Nanny for 4.16s.  This is often caused by long-running GIL-holding functions or moving large chunks of data. This can cause timeouts and instability.\n",
      "distributed.core - INFO - Event loop was unresponsive in Nanny for 4.16s.  This is often caused by long-running GIL-holding functions or moving large chunks of data. This can cause timeouts and instability.\n",
      "distributed.core - INFO - Event loop was unresponsive in Nanny for 3.36s.  This is often caused by long-running GIL-holding functions or moving large chunks of data. This can cause timeouts and instability.\n",
      "distributed.core - INFO - Event loop was unresponsive in Nanny for 3.36s.  This is often caused by long-running GIL-holding functions or moving large chunks of data. This can cause timeouts and instability.\n",
      "distributed.core - INFO - Event loop was unresponsive in Nanny for 3.37s.  This is often caused by long-running GIL-holding functions or moving large chunks of data. This can cause timeouts and instability.\n",
      "distributed.core - INFO - Event loop was unresponsive in Nanny for 3.37s.  This is often caused by long-running GIL-holding functions or moving large chunks of data. This can cause timeouts and instability.\n",
      "distributed.core - INFO - Event loop was unresponsive in Nanny for 3.37s.  This is often caused by long-running GIL-holding functions or moving large chunks of data. This can cause timeouts and instability.\n",
      "distributed.core - INFO - Event loop was unresponsive in Nanny for 3.37s.  This is often caused by long-running GIL-holding functions or moving large chunks of data. This can cause timeouts and instability.\n",
      "distributed.core - INFO - Event loop was unresponsive in Nanny for 4.36s.  This is often caused by long-running GIL-holding functions or moving large chunks of data. This can cause timeouts and instability.\n",
      "distributed.core - INFO - Event loop was unresponsive in Nanny for 4.38s.  This is often caused by long-running GIL-holding functions or moving large chunks of data. This can cause timeouts and instability.\n",
      "distributed.core - INFO - Event loop was unresponsive in Nanny for 4.38s.  This is often caused by long-running GIL-holding functions or moving large chunks of data. This can cause timeouts and instability.\n",
      "distributed.core - INFO - Event loop was unresponsive in Nanny for 4.38s.  This is often caused by long-running GIL-holding functions or moving large chunks of data. This can cause timeouts and instability.\n",
      "distributed.core - INFO - Event loop was unresponsive in Nanny for 4.97s.  This is often caused by long-running GIL-holding functions or moving large chunks of data. This can cause timeouts and instability.\n",
      "distributed.core - INFO - Event loop was unresponsive in Nanny for 3.58s.  This is often caused by long-running GIL-holding functions or moving large chunks of data. This can cause timeouts and instability.\n",
      "distributed.core - INFO - Event loop was unresponsive in Nanny for 4.26s.  This is often caused by long-running GIL-holding functions or moving large chunks of data. This can cause timeouts and instability.\n",
      "distributed.core - INFO - Event loop was unresponsive in Nanny for 4.26s.  This is often caused by long-running GIL-holding functions or moving large chunks of data. This can cause timeouts and instability.\n",
      "distributed.core - INFO - Event loop was unresponsive in Nanny for 4.33s.  This is often caused by long-running GIL-holding functions or moving large chunks of data. This can cause timeouts and instability.\n",
      "distributed.core - INFO - Event loop was unresponsive in Nanny for 4.29s.  This is often caused by long-running GIL-holding functions or moving large chunks of data. This can cause timeouts and instability.\n",
      "distributed.core - INFO - Event loop was unresponsive in Nanny for 4.21s.  This is often caused by long-running GIL-holding functions or moving large chunks of data. This can cause timeouts and instability.\n",
      "distributed.core - INFO - Event loop was unresponsive in Nanny for 4.95s.  This is often caused by long-running GIL-holding functions or moving large chunks of data. This can cause timeouts and instability.\n",
      "distributed.core - INFO - Event loop was unresponsive in Nanny for 5.09s.  This is often caused by long-running GIL-holding functions or moving large chunks of data. This can cause timeouts and instability.\n",
      "distributed.core - INFO - Event loop was unresponsive in Nanny for 5.44s.  This is often caused by long-running GIL-holding functions or moving large chunks of data. This can cause timeouts and instability.\n",
      "distributed.core - INFO - Event loop was unresponsive in Nanny for 6.01s.  This is often caused by long-running GIL-holding functions or moving large chunks of data. This can cause timeouts and instability.\n",
      "distributed.core - INFO - Event loop was unresponsive in Nanny for 6.13s.  This is often caused by long-running GIL-holding functions or moving large chunks of data. This can cause timeouts and instability.\n",
      "distributed.core - INFO - Event loop was unresponsive in Nanny for 6.03s.  This is often caused by long-running GIL-holding functions or moving large chunks of data. This can cause timeouts and instability.\n",
      "distributed.core - INFO - Event loop was unresponsive in Nanny for 6.03s.  This is often caused by long-running GIL-holding functions or moving large chunks of data. This can cause timeouts and instability.\n",
      "distributed.core - INFO - Event loop was unresponsive in Nanny for 6.03s.  This is often caused by long-running GIL-holding functions or moving large chunks of data. This can cause timeouts and instability.\n",
      "distributed.core - INFO - Event loop was unresponsive in Nanny for 6.02s.  This is often caused by long-running GIL-holding functions or moving large chunks of data. This can cause timeouts and instability.\n",
      "distributed.core - INFO - Event loop was unresponsive in Nanny for 6.03s.  This is often caused by long-running GIL-holding functions or moving large chunks of data. This can cause timeouts and instability.\n",
      "distributed.core - INFO - Event loop was unresponsive in Nanny for 7.55s.  This is often caused by long-running GIL-holding functions or moving large chunks of data. This can cause timeouts and instability.\n",
      "distributed.core - INFO - Event loop was unresponsive in Nanny for 6.57s.  This is often caused by long-running GIL-holding functions or moving large chunks of data. This can cause timeouts and instability.\n",
      "distributed.core - INFO - Event loop was unresponsive in Nanny for 6.55s.  This is often caused by long-running GIL-holding functions or moving large chunks of data. This can cause timeouts and instability.\n",
      "distributed.core - INFO - Event loop was unresponsive in Nanny for 7.19s.  This is often caused by long-running GIL-holding functions or moving large chunks of data. This can cause timeouts and instability.\n",
      "distributed.core - INFO - Event loop was unresponsive in Nanny for 7.19s.  This is often caused by long-running GIL-holding functions or moving large chunks of data. This can cause timeouts and instability.\n",
      "distributed.core - INFO - Event loop was unresponsive in Nanny for 6.68s.  This is often caused by long-running GIL-holding functions or moving large chunks of data. This can cause timeouts and instability.\n",
      "distributed.core - INFO - Event loop was unresponsive in Nanny for 7.24s.  This is often caused by long-running GIL-holding functions or moving large chunks of data. This can cause timeouts and instability.\n"
     ]
    },
    {
     "name": "stderr",
     "output_type": "stream",
     "text": [
      "distributed.core - INFO - Event loop was unresponsive in Nanny for 6.57s.  This is often caused by long-running GIL-holding functions or moving large chunks of data. This can cause timeouts and instability.\n",
      "distributed.core - INFO - Event loop was unresponsive in Nanny for 6.58s.  This is often caused by long-running GIL-holding functions or moving large chunks of data. This can cause timeouts and instability.\n",
      "distributed.core - INFO - Event loop was unresponsive in Nanny for 6.51s.  This is often caused by long-running GIL-holding functions or moving large chunks of data. This can cause timeouts and instability.\n",
      "distributed.core - INFO - Event loop was unresponsive in Nanny for 5.81s.  This is often caused by long-running GIL-holding functions or moving large chunks of data. This can cause timeouts and instability.\n",
      "distributed.core - INFO - Event loop was unresponsive in Nanny for 7.17s.  This is often caused by long-running GIL-holding functions or moving large chunks of data. This can cause timeouts and instability.\n",
      "distributed.core - INFO - Event loop was unresponsive in Nanny for 6.42s.  This is often caused by long-running GIL-holding functions or moving large chunks of data. This can cause timeouts and instability.\n",
      "distributed.core - INFO - Event loop was unresponsive in Nanny for 6.29s.  This is often caused by long-running GIL-holding functions or moving large chunks of data. This can cause timeouts and instability.\n",
      "distributed.core - INFO - Event loop was unresponsive in Nanny for 5.56s.  This is often caused by long-running GIL-holding functions or moving large chunks of data. This can cause timeouts and instability.\n",
      "distributed.core - INFO - Event loop was unresponsive in Nanny for 5.56s.  This is often caused by long-running GIL-holding functions or moving large chunks of data. This can cause timeouts and instability.\n",
      "distributed.core - INFO - Event loop was unresponsive in Nanny for 5.62s.  This is often caused by long-running GIL-holding functions or moving large chunks of data. This can cause timeouts and instability.\n",
      "distributed.core - INFO - Event loop was unresponsive in Nanny for 6.37s.  This is often caused by long-running GIL-holding functions or moving large chunks of data. This can cause timeouts and instability.\n",
      "distributed.core - INFO - Event loop was unresponsive in Nanny for 6.48s.  This is often caused by long-running GIL-holding functions or moving large chunks of data. This can cause timeouts and instability.\n",
      "distributed.core - INFO - Event loop was unresponsive in Nanny for 4.95s.  This is often caused by long-running GIL-holding functions or moving large chunks of data. This can cause timeouts and instability.\n",
      "distributed.core - INFO - Event loop was unresponsive in Nanny for 7.19s.  This is often caused by long-running GIL-holding functions or moving large chunks of data. This can cause timeouts and instability.\n",
      "distributed.core - INFO - Event loop was unresponsive in Nanny for 4.95s.  This is often caused by long-running GIL-holding functions or moving large chunks of data. This can cause timeouts and instability.\n",
      "distributed.core - INFO - Event loop was unresponsive in Nanny for 7.28s.  This is often caused by long-running GIL-holding functions or moving large chunks of data. This can cause timeouts and instability.\n",
      "distributed.core - INFO - Event loop was unresponsive in Nanny for 7.86s.  This is often caused by long-running GIL-holding functions or moving large chunks of data. This can cause timeouts and instability.\n",
      "distributed.core - INFO - Event loop was unresponsive in Nanny for 6.42s.  This is often caused by long-running GIL-holding functions or moving large chunks of data. This can cause timeouts and instability.\n",
      "distributed.core - INFO - Event loop was unresponsive in Nanny for 5.78s.  This is often caused by long-running GIL-holding functions or moving large chunks of data. This can cause timeouts and instability.\n",
      "distributed.core - INFO - Event loop was unresponsive in Nanny for 5.78s.  This is often caused by long-running GIL-holding functions or moving large chunks of data. This can cause timeouts and instability.\n",
      "distributed.core - INFO - Event loop was unresponsive in Nanny for 5.70s.  This is often caused by long-running GIL-holding functions or moving large chunks of data. This can cause timeouts and instability.\n",
      "distributed.core - INFO - Event loop was unresponsive in Nanny for 6.01s.  This is often caused by long-running GIL-holding functions or moving large chunks of data. This can cause timeouts and instability.\n",
      "distributed.core - INFO - Event loop was unresponsive in Nanny for 6.01s.  This is often caused by long-running GIL-holding functions or moving large chunks of data. This can cause timeouts and instability.\n",
      "distributed.core - INFO - Event loop was unresponsive in Nanny for 6.00s.  This is often caused by long-running GIL-holding functions or moving large chunks of data. This can cause timeouts and instability.\n",
      "distributed.core - INFO - Event loop was unresponsive in Nanny for 6.56s.  This is often caused by long-running GIL-holding functions or moving large chunks of data. This can cause timeouts and instability.\n",
      "distributed.core - INFO - Event loop was unresponsive in Nanny for 7.27s.  This is often caused by long-running GIL-holding functions or moving large chunks of data. This can cause timeouts and instability.\n",
      "distributed.core - INFO - Event loop was unresponsive in Nanny for 6.67s.  This is often caused by long-running GIL-holding functions or moving large chunks of data. This can cause timeouts and instability.\n",
      "distributed.core - INFO - Event loop was unresponsive in Nanny for 5.36s.  This is often caused by long-running GIL-holding functions or moving large chunks of data. This can cause timeouts and instability.\n",
      "distributed.core - INFO - Event loop was unresponsive in Nanny for 6.67s.  This is often caused by long-running GIL-holding functions or moving large chunks of data. This can cause timeouts and instability.\n",
      "distributed.core - INFO - Event loop was unresponsive in Nanny for 6.00s.  This is often caused by long-running GIL-holding functions or moving large chunks of data. This can cause timeouts and instability.\n",
      "distributed.core - INFO - Event loop was unresponsive in Nanny for 7.94s.  This is often caused by long-running GIL-holding functions or moving large chunks of data. This can cause timeouts and instability.\n",
      "distributed.core - INFO - Event loop was unresponsive in Nanny for 7.15s.  This is often caused by long-running GIL-holding functions or moving large chunks of data. This can cause timeouts and instability.\n",
      "distributed.core - INFO - Event loop was unresponsive in Nanny for 6.50s.  This is often caused by long-running GIL-holding functions or moving large chunks of data. This can cause timeouts and instability.\n",
      "distributed.core - INFO - Event loop was unresponsive in Nanny for 6.39s.  This is often caused by long-running GIL-holding functions or moving large chunks of data. This can cause timeouts and instability.\n",
      "distributed.core - INFO - Event loop was unresponsive in Nanny for 6.39s.  This is often caused by long-running GIL-holding functions or moving large chunks of data. This can cause timeouts and instability.\n",
      "distributed.core - INFO - Event loop was unresponsive in Nanny for 7.28s.  This is often caused by long-running GIL-holding functions or moving large chunks of data. This can cause timeouts and instability.\n",
      "distributed.core - INFO - Event loop was unresponsive in Nanny for 6.62s.  This is often caused by long-running GIL-holding functions or moving large chunks of data. This can cause timeouts and instability.\n",
      "distributed.core - INFO - Event loop was unresponsive in Nanny for 6.52s.  This is often caused by long-running GIL-holding functions or moving large chunks of data. This can cause timeouts and instability.\n",
      "distributed.core - INFO - Event loop was unresponsive in Nanny for 7.98s.  This is often caused by long-running GIL-holding functions or moving large chunks of data. This can cause timeouts and instability.\n",
      "distributed.core - INFO - Event loop was unresponsive in Nanny for 6.52s.  This is often caused by long-running GIL-holding functions or moving large chunks of data. This can cause timeouts and instability.\n"
     ]
    },
    {
     "name": "stderr",
     "output_type": "stream",
     "text": [
      "distributed.core - INFO - Event loop was unresponsive in Nanny for 5.58s.  This is often caused by long-running GIL-holding functions or moving large chunks of data. This can cause timeouts and instability.\n",
      "distributed.core - INFO - Event loop was unresponsive in Nanny for 6.52s.  This is often caused by long-running GIL-holding functions or moving large chunks of data. This can cause timeouts and instability.\n",
      "distributed.core - INFO - Event loop was unresponsive in Nanny for 6.14s.  This is often caused by long-running GIL-holding functions or moving large chunks of data. This can cause timeouts and instability.\n",
      "distributed.core - INFO - Event loop was unresponsive in Nanny for 7.15s.  This is often caused by long-running GIL-holding functions or moving large chunks of data. This can cause timeouts and instability.\n",
      "distributed.core - INFO - Event loop was unresponsive in Nanny for 7.15s.  This is often caused by long-running GIL-holding functions or moving large chunks of data. This can cause timeouts and instability.\n",
      "distributed.core - INFO - Event loop was unresponsive in Nanny for 6.86s.  This is often caused by long-running GIL-holding functions or moving large chunks of data. This can cause timeouts and instability.\n",
      "distributed.core - INFO - Event loop was unresponsive in Nanny for 6.90s.  This is often caused by long-running GIL-holding functions or moving large chunks of data. This can cause timeouts and instability.\n",
      "distributed.core - INFO - Event loop was unresponsive in Nanny for 6.19s.  This is often caused by long-running GIL-holding functions or moving large chunks of data. This can cause timeouts and instability.\n",
      "distributed.core - INFO - Event loop was unresponsive in Nanny for 6.06s.  This is often caused by long-running GIL-holding functions or moving large chunks of data. This can cause timeouts and instability.\n",
      "distributed.core - INFO - Event loop was unresponsive in Nanny for 6.85s.  This is often caused by long-running GIL-holding functions or moving large chunks of data. This can cause timeouts and instability.\n",
      "distributed.core - INFO - Event loop was unresponsive in Nanny for 6.85s.  This is often caused by long-running GIL-holding functions or moving large chunks of data. This can cause timeouts and instability.\n",
      "distributed.core - INFO - Event loop was unresponsive in Nanny for 5.58s.  This is often caused by long-running GIL-holding functions or moving large chunks of data. This can cause timeouts and instability.\n",
      "distributed.core - INFO - Event loop was unresponsive in Nanny for 6.77s.  This is often caused by long-running GIL-holding functions or moving large chunks of data. This can cause timeouts and instability.\n",
      "distributed.core - INFO - Event loop was unresponsive in Nanny for 5.64s.  This is often caused by long-running GIL-holding functions or moving large chunks of data. This can cause timeouts and instability.\n",
      "distributed.core - INFO - Event loop was unresponsive in Nanny for 5.54s.  This is often caused by long-running GIL-holding functions or moving large chunks of data. This can cause timeouts and instability.\n",
      "distributed.core - INFO - Event loop was unresponsive in Nanny for 5.54s.  This is often caused by long-running GIL-holding functions or moving large chunks of data. This can cause timeouts and instability.\n",
      "distributed.core - INFO - Event loop was unresponsive in Nanny for 5.54s.  This is often caused by long-running GIL-holding functions or moving large chunks of data. This can cause timeouts and instability.\n",
      "distributed.core - INFO - Event loop was unresponsive in Nanny for 3.96s.  This is often caused by long-running GIL-holding functions or moving large chunks of data. This can cause timeouts and instability.\n",
      "distributed.core - INFO - Event loop was unresponsive in Nanny for 3.95s.  This is often caused by long-running GIL-holding functions or moving large chunks of data. This can cause timeouts and instability.\n",
      "distributed.core - INFO - Event loop was unresponsive in Nanny for 4.66s.  This is often caused by long-running GIL-holding functions or moving large chunks of data. This can cause timeouts and instability.\n",
      "distributed.core - INFO - Event loop was unresponsive in Nanny for 3.96s.  This is often caused by long-running GIL-holding functions or moving large chunks of data. This can cause timeouts and instability.\n",
      "distributed.core - INFO - Event loop was unresponsive in Nanny for 3.33s.  This is often caused by long-running GIL-holding functions or moving large chunks of data. This can cause timeouts and instability.\n",
      "distributed.core - INFO - Event loop was unresponsive in Nanny for 3.32s.  This is often caused by long-running GIL-holding functions or moving large chunks of data. This can cause timeouts and instability.\n",
      "distributed.core - INFO - Event loop was unresponsive in Nanny for 4.66s.  This is often caused by long-running GIL-holding functions or moving large chunks of data. This can cause timeouts and instability.\n",
      "distributed.core - INFO - Event loop was unresponsive in Nanny for 4.07s.  This is often caused by long-running GIL-holding functions or moving large chunks of data. This can cause timeouts and instability.\n",
      "distributed.core - INFO - Event loop was unresponsive in Nanny for 3.97s.  This is often caused by long-running GIL-holding functions or moving large chunks of data. This can cause timeouts and instability.\n",
      "distributed.core - INFO - Event loop was unresponsive in Nanny for 3.41s.  This is often caused by long-running GIL-holding functions or moving large chunks of data. This can cause timeouts and instability.\n"
     ]
    }
   ],
   "source": [
    "df.set_index(['domain'],drop=True,inplace=True)\n",
    "fs=pd.merge(feature_matrix_sessions,pd.DataFrame(df_sel.Target),left_index=True, right_index=True)\n",
    "fs.replace([np.inf],0,inplace=True)\n",
    "fs.fillna(value=0,inplace=True)\n",
    "\n",
    "X=fs.loc[:,fs.columns!='Target']\n",
    "y=fs.Target\n",
    "feature_name = X.columns.tolist()"
   ]
  },
  {
   "cell_type": "code",
   "execution_count": 56,
   "metadata": {
    "scrolled": true
   },
   "outputs": [],
   "source": [
    "def cor_selector(X, y):\n",
    "    cor_list = []\n",
    "    # calculate the correlation with y for each feature\n",
    "    for i in X.columns.tolist():\n",
    "        cor = np.corrcoef(X[i], y)[0, 1]\n",
    "        cor_list.append(cor)\n",
    "    # replace NaN with 0\n",
    "    cor_list = [0 if np.isnan(i) else i for i in cor_list]\n",
    "    # feature name\n",
    "    cor_feature = X.iloc[:,np.argsort(np.abs(cor_list))[-100:]].columns.tolist()\n",
    "    # feature selection? 0 for not select, 1 for select\n",
    "    cor_support = [True if i in cor_feature else False for i in feature_name]\n",
    "    return cor_support, cor_feature\n",
    "\n",
    "\n",
    "cor_support, cor_feature = cor_selector(X, y)"
   ]
  },
  {
   "cell_type": "code",
   "execution_count": 57,
   "metadata": {
    "scrolled": true
   },
   "outputs": [],
   "source": [
    "X_norm = MinMaxScaler().fit_transform(X)\n",
    "chi_selector = SelectKBest(chi2, k=100)\n",
    "chi_selector.fit(X_norm, y)\n",
    "chi_support = chi_selector.get_support()\n",
    "chi_feature = X.loc[:,chi_support].columns.tolist()"
   ]
  },
  {
   "cell_type": "code",
   "execution_count": 58,
   "metadata": {},
   "outputs": [],
   "source": [
    "rfe_selector = RFE(estimator=LogisticRegression(random_state=0), n_features_to_select=100, step=0.3, verbose=False)\n",
    "rfe_selector.fit(X_norm, y)\n",
    "rfe_support = rfe_selector.get_support()\n",
    "rfe_feature = X.loc[:,rfe_support].columns.tolist()"
   ]
  },
  {
   "cell_type": "code",
   "execution_count": 59,
   "metadata": {},
   "outputs": [],
   "source": [
    "embeded_rf_selector = SelectFromModel(RandomForestClassifier(n_estimators=100,random_state=0), threshold='23*median')\n",
    "embeded_rf_selector.fit(X, y)\n",
    "embeded_rf_support = embeded_rf_selector.get_support()"
   ]
  },
  {
   "cell_type": "code",
   "execution_count": 61,
   "metadata": {},
   "outputs": [],
   "source": [
    "embeded_rf_feature = X.loc[:,embeded_rf_support].columns.tolist()"
   ]
  },
  {
   "cell_type": "code",
   "execution_count": 63,
   "metadata": {},
   "outputs": [],
   "source": [
    "feature_selection_df = pd.DataFrame({'Feature':feature_name, 'Pearson':cor_support, 'Chi-2':chi_support, 'RFE':rfe_support,\n",
    "                                    'Random Forest':embeded_rf_support})\n",
    "# count the selected times for each feature\n",
    "feature_selection_df['Total'] = np.sum(feature_selection_df, axis=1)\n",
    "# display the top 100\n",
    "feature_selection_df = feature_selection_df.sort_values(['Total','Feature'] , ascending=False)\n",
    "feature_selection_df.index = range(1, len(feature_selection_df)+1)"
   ]
  },
  {
   "cell_type": "code",
   "execution_count": 64,
   "metadata": {},
   "outputs": [],
   "source": [
    "feature_selection_df = pd.DataFrame({'Feature':feature_name, 'Pearson':cor_support, 'Chi-2':chi_support, 'RFE':rfe_support,\n",
    "                                    'Random Forest':embeded_rf_support})\n",
    "# count the selected times for each feature\n",
    "feature_selection_df['Total'] = np.sum(feature_selection_df, axis=1)\n",
    "# display the top 100\n",
    "feature_selection_df = feature_selection_df.sort_values(['Total','Feature'] , ascending=False)\n",
    "feature_selection_df.index = range(1, len(feature_selection_df)+1)"
   ]
  },
  {
   "cell_type": "code",
   "execution_count": 65,
   "metadata": {},
   "outputs": [
    {
     "name": "stdout",
     "output_type": "stream",
     "text": [
      "The train/test split ratio is 70:30\n"
     ]
    },
    {
     "data": {
      "text/plain": [
       "(39183, 33)"
      ]
     },
     "execution_count": 65,
     "metadata": {},
     "output_type": "execute_result"
    }
   ],
   "source": [
    "X=fs[feature_selection_df[feature_selection_df.Total>=3]['Feature']]\n",
    "X.fillna(value=0,inplace=True)\n",
    "y=fs.Target.values\n",
    "feature_name = X.columns.tolist()\n",
    "\n",
    "scaler=StandardScaler()\n",
    "scaled_X=scaler.fit_transform(X)\n",
    "\n",
    "print(\"The train/test split ratio is 70:30\")\n",
    "X_train, X_test, Y_train, Y_test = train_test_split(scaled_X,y,random_state=0,test_size=0.3)\n",
    "\n",
    "X.shape"
   ]
  },
  {
   "cell_type": "code",
   "execution_count": 66,
   "metadata": {
    "scrolled": true
   },
   "outputs": [
    {
     "name": "stdout",
     "output_type": "stream",
     "text": [
      "Features we will be using:\n",
      "\n"
     ]
    },
    {
     "data": {
      "text/plain": [
       "['url_char_w + url_char_z',\n",
       " 'url_char_f + url_char_w',\n",
       " 'url_char_. + url_char_z',\n",
       " 'url_char_. + url_char_w',\n",
       " 'url_char_. + url_char_f',\n",
       " 'url_extensions + url_length',\n",
       " 'url_char_z + url_extensions',\n",
       " 'url_char_z * url_length',\n",
       " 'url_char_y / url_char_z',\n",
       " 'url_char_y * url_extensions',\n",
       " 'url_char_w + url_length',\n",
       " 'url_char_w + url_extensions',\n",
       " 'url_char_w + url_char_y',\n",
       " 'url_char_w * url_length',\n",
       " 'url_char_w * url_extensions',\n",
       " 'url_char_w',\n",
       " 'url_char_p + url_extensions',\n",
       " 'url_char_l + url_extensions',\n",
       " 'url_char_l + url_char_w',\n",
       " 'url_char_f + url_extensions',\n",
       " 'url_char_. + url_char_y',\n",
       " 'url_char_. * url_char_z',\n",
       " 'url_char_. * url_char_w',\n",
       " 'url_char_.',\n",
       " 'http_header_vary_user-agent / url_char_z',\n",
       " 'http_header_vary_user-agent / http_header_content-length',\n",
       " 'http_header_vary_user-agent + url_char_.',\n",
       " 'http_header_server_apache + url_char_w',\n",
       " 'http_header_server_apache + url_char_.',\n",
       " 'http_header_content-encoding_gzip / url_char_.',\n",
       " 'http_header_content-encoding_gzip / http_header_content-length',\n",
       " 'a_href_out_of_domain / a_count',\n",
       " 'a_href_https / a_count']"
      ]
     },
     "metadata": {},
     "output_type": "display_data"
    }
   ],
   "source": [
    "print('Features we will be using:\\n')\n",
    "display(feature_name)"
   ]
  },
  {
   "cell_type": "code",
   "execution_count": 68,
   "metadata": {},
   "outputs": [
    {
     "data": {
      "text/plain": [
       "27428.1"
      ]
     },
     "execution_count": 68,
     "metadata": {},
     "output_type": "execute_result"
    }
   ],
   "source": [
    "fs.shape[0]*0.7"
   ]
  },
  {
   "cell_type": "code",
   "execution_count": 69,
   "metadata": {},
   "outputs": [],
   "source": [
    "fs=fs.reindex(df_sel.index.values)\n",
    "\n",
    "train=fs.iloc[:27428]\n",
    "train_Y=train.Target.values\n",
    "train_X=train[feature_name].values\n",
    "\n",
    "\n",
    "scaler=StandardScaler()\n",
    "scaled_X_train=scaler.fit_transform(train_X)\n",
    "\n",
    "test=fs.iloc[27428:]\n",
    "test_Y=test.Target.values\n",
    "test_X=test[feature_name]\n",
    "\n",
    "scaled_X_test=scaler.transform(test_X)"
   ]
  },
  {
   "cell_type": "code",
   "execution_count": 70,
   "metadata": {
    "scrolled": false
   },
   "outputs": [
    {
     "name": "stdout",
     "output_type": "stream",
     "text": [
      "\u001b[1mK-Nearest Neighbors\u001b[0m\n",
      "Accuracy of the model for training data is: 0.978088085168441\n",
      "Confusion Matrix for training data is:\n"
     ]
    },
    {
     "data": {
      "text/plain": [
       "Predicted  False  True  __all__\n",
       "Actual                         \n",
       "False      24143   184    24327\n",
       "True         417  2684     3101\n",
       "__all__    24560  2868    27428"
      ]
     },
     "metadata": {},
     "output_type": "display_data"
    },
    {
     "name": "stdout",
     "output_type": "stream",
     "text": [
      "Accuracy of the model for test data is: 0.9722671203743088\n",
      "Confusion Matrix for test data is:\n"
     ]
    },
    {
     "data": {
      "text/plain": [
       "Predicted  False  True  __all__\n",
       "Actual                         \n",
       "False      10310   105    10415\n",
       "True         221  1119     1340\n",
       "__all__    10531  1224    11755"
      ]
     },
     "metadata": {},
     "output_type": "display_data"
    },
    {
     "name": "stdout",
     "output_type": "stream",
     "text": [
      "\n",
      "\n",
      "\u001b[1mRandomForest Classifier\u001b[0m\n",
      "Accuracy of the model for training data is: 0.9919060813766953\n",
      "Confusion Matrix for training data is:\n"
     ]
    },
    {
     "data": {
      "text/plain": [
       "Predicted  False  True  __all__\n",
       "Actual                         \n",
       "False      24274    53    24327\n",
       "True         169  2932     3101\n",
       "__all__    24443  2985    27428"
      ]
     },
     "metadata": {},
     "output_type": "display_data"
    },
    {
     "name": "stdout",
     "output_type": "stream",
     "text": [
      "Accuracy of the model for test data is: 0.973713313483624\n",
      "Confusion Matrix for test data is:\n"
     ]
    },
    {
     "data": {
      "text/plain": [
       "Predicted  False  True  __all__\n",
       "Actual                         \n",
       "False      10327    88    10415\n",
       "True         221  1119     1340\n",
       "__all__    10548  1207    11755"
      ]
     },
     "metadata": {},
     "output_type": "display_data"
    },
    {
     "data": {
      "application/vnd.plotly.v1+json": {
       "config": {
        "linkText": "Export to plot.ly",
        "plotlyServerURL": "https://plot.ly",
        "showLink": true
       },
       "data": [
        {
         "marker": {
          "color": "rgb(158,202,225)",
          "line": {
           "color": "rgb(8,48,107)",
           "width": 1.5
          }
         },
         "opacity": 0.6,
         "orientation": "h",
         "text": [
          0.1378,
          0.1167,
          0.1102,
          0.0881,
          0.0692,
          0.0621,
          0.0475,
          0.0467,
          0.0348,
          0.028,
          0.0251,
          0.0221,
          0.0216,
          0.0201,
          0.0168,
          0.0167,
          0.0161,
          0.016,
          0.0131,
          0.0126,
          0.0106,
          0.0101,
          0.0094,
          0.0082,
          0.0073,
          0.0073,
          0.0067,
          0.005,
          0.0048,
          0.003,
          0.003,
          0.0019,
          0.0014
         ],
         "textposition": "outside",
         "type": "bar",
         "uid": "ff8d6c96-6ce2-4532-a7b1-4f0cfd0be67e",
         "x": [
          0.13780328040869697,
          0.11672065171109873,
          0.11016358113201599,
          0.08808046059736888,
          0.06918568799454858,
          0.06214856569571403,
          0.0474581200351854,
          0.04669497539123694,
          0.034799031241974906,
          0.028015240171222026,
          0.025058869270829794,
          0.02213133579566122,
          0.021641126679359805,
          0.020085955572184403,
          0.016805265467694157,
          0.01667522382599448,
          0.016056588249991566,
          0.016004875588400587,
          0.013128421676150148,
          0.012626453185422565,
          0.010579296151796069,
          0.010074691226428052,
          0.009406382593590478,
          0.008211710262025704,
          0.007341065376332711,
          0.007268127014750761,
          0.0067279085670601,
          0.004988024019117105,
          0.004811722287116401,
          0.0030440912638639043,
          0.0029537495669401006,
          0.001864174390997081,
          0.0014453475892304284
         ],
         "y": [
          "url_char_w + url_length",
          "a_href_out_of_domain / a_count",
          "url_char_w + url_extensions",
          "url_extensions + url_length",
          "http_header_content-encoding_gzip / url_char_.",
          "url_char_z + url_extensions",
          "url_char_. + url_char_z",
          "a_href_https / a_count",
          "url_char_l + url_extensions",
          "url_char_w * url_extensions",
          "url_char_.",
          "url_char_w * url_length",
          "url_char_p + url_extensions",
          "http_header_vary_user-agent / http_header_content-length",
          "http_header_server_apache + url_char_w",
          "http_header_vary_user-agent + url_char_.",
          "http_header_content-encoding_gzip / http_header_content-length",
          "url_char_y * url_extensions",
          "url_char_. * url_char_w",
          "url_char_l + url_char_w",
          "url_char_. + url_char_f",
          "http_header_vary_user-agent / url_char_z",
          "url_char_w",
          "http_header_server_apache + url_char_.",
          "url_char_w + url_char_y",
          "url_char_f + url_extensions",
          "url_char_z * url_length",
          "url_char_. + url_char_y",
          "url_char_f + url_char_w",
          "url_char_. + url_char_w",
          "url_char_w + url_char_z",
          "url_char_y / url_char_z",
          "url_char_. * url_char_z"
         ]
        }
       ],
       "layout": {
        "autosize": false,
        "height": 1000,
        "width": 1000,
        "xaxis": {
         "tickfont": {
          "color": "black",
          "size": 12
         },
         "title": "Feature Importances"
        },
        "yaxis": {
         "automargin": true
        }
       }
      },
      "text/html": [
       "<div id=\"32b6c050-d0aa-47f8-9280-51fe28db819f\" style=\"height: 1000px; width: 1000px;\" class=\"plotly-graph-div\"></div><script type=\"text/javascript\">require([\"plotly\"], function(Plotly) { window.PLOTLYENV=window.PLOTLYENV || {};window.PLOTLYENV.BASE_URL=\"https://plot.ly\";Plotly.newPlot(\"32b6c050-d0aa-47f8-9280-51fe28db819f\", [{\"marker\": {\"color\": \"rgb(158,202,225)\", \"line\": {\"color\": \"rgb(8,48,107)\", \"width\": 1.5}}, \"opacity\": 0.6, \"orientation\": \"h\", \"text\": [0.1378, 0.1167, 0.1102, 0.0881, 0.0692, 0.0621, 0.0475, 0.0467, 0.0348, 0.028, 0.0251, 0.0221, 0.0216, 0.0201, 0.0168, 0.0167, 0.0161, 0.016, 0.0131, 0.0126, 0.0106, 0.0101, 0.0094, 0.0082, 0.0073, 0.0073, 0.0067, 0.005, 0.0048, 0.003, 0.003, 0.0019, 0.0014], \"textposition\": \"outside\", \"x\": [0.13780328040869697, 0.11672065171109873, 0.11016358113201599, 0.08808046059736888, 0.06918568799454858, 0.06214856569571403, 0.0474581200351854, 0.04669497539123694, 0.034799031241974906, 0.028015240171222026, 0.025058869270829794, 0.02213133579566122, 0.021641126679359805, 0.020085955572184403, 0.016805265467694157, 0.01667522382599448, 0.016056588249991566, 0.016004875588400587, 0.013128421676150148, 0.012626453185422565, 0.010579296151796069, 0.010074691226428052, 0.009406382593590478, 0.008211710262025704, 0.007341065376332711, 0.007268127014750761, 0.0067279085670601, 0.004988024019117105, 0.004811722287116401, 0.0030440912638639043, 0.0029537495669401006, 0.001864174390997081, 0.0014453475892304284], \"y\": [\"url_char_w + url_length\", \"a_href_out_of_domain / a_count\", \"url_char_w + url_extensions\", \"url_extensions + url_length\", \"http_header_content-encoding_gzip / url_char_.\", \"url_char_z + url_extensions\", \"url_char_. + url_char_z\", \"a_href_https / a_count\", \"url_char_l + url_extensions\", \"url_char_w * url_extensions\", \"url_char_.\", \"url_char_w * url_length\", \"url_char_p + url_extensions\", \"http_header_vary_user-agent / http_header_content-length\", \"http_header_server_apache + url_char_w\", \"http_header_vary_user-agent + url_char_.\", \"http_header_content-encoding_gzip / http_header_content-length\", \"url_char_y * url_extensions\", \"url_char_. * url_char_w\", \"url_char_l + url_char_w\", \"url_char_. + url_char_f\", \"http_header_vary_user-agent / url_char_z\", \"url_char_w\", \"http_header_server_apache + url_char_.\", \"url_char_w + url_char_y\", \"url_char_f + url_extensions\", \"url_char_z * url_length\", \"url_char_. + url_char_y\", \"url_char_f + url_char_w\", \"url_char_. + url_char_w\", \"url_char_w + url_char_z\", \"url_char_y / url_char_z\", \"url_char_. * url_char_z\"], \"type\": \"bar\", \"uid\": \"ff8d6c96-6ce2-4532-a7b1-4f0cfd0be67e\"}], {\"autosize\": false, \"height\": 1000, \"width\": 1000, \"xaxis\": {\"tickfont\": {\"color\": \"black\", \"size\": 12}, \"title\": \"Feature Importances\"}, \"yaxis\": {\"automargin\": true}}, {\"showLink\": true, \"linkText\": \"Export to plot.ly\", \"plotlyServerURL\": \"https://plot.ly\"})});</script>"
      ],
      "text/vnd.plotly.v1+html": [
       "<div id=\"32b6c050-d0aa-47f8-9280-51fe28db819f\" style=\"height: 1000px; width: 1000px;\" class=\"plotly-graph-div\"></div><script type=\"text/javascript\">require([\"plotly\"], function(Plotly) { window.PLOTLYENV=window.PLOTLYENV || {};window.PLOTLYENV.BASE_URL=\"https://plot.ly\";Plotly.newPlot(\"32b6c050-d0aa-47f8-9280-51fe28db819f\", [{\"marker\": {\"color\": \"rgb(158,202,225)\", \"line\": {\"color\": \"rgb(8,48,107)\", \"width\": 1.5}}, \"opacity\": 0.6, \"orientation\": \"h\", \"text\": [0.1378, 0.1167, 0.1102, 0.0881, 0.0692, 0.0621, 0.0475, 0.0467, 0.0348, 0.028, 0.0251, 0.0221, 0.0216, 0.0201, 0.0168, 0.0167, 0.0161, 0.016, 0.0131, 0.0126, 0.0106, 0.0101, 0.0094, 0.0082, 0.0073, 0.0073, 0.0067, 0.005, 0.0048, 0.003, 0.003, 0.0019, 0.0014], \"textposition\": \"outside\", \"x\": [0.13780328040869697, 0.11672065171109873, 0.11016358113201599, 0.08808046059736888, 0.06918568799454858, 0.06214856569571403, 0.0474581200351854, 0.04669497539123694, 0.034799031241974906, 0.028015240171222026, 0.025058869270829794, 0.02213133579566122, 0.021641126679359805, 0.020085955572184403, 0.016805265467694157, 0.01667522382599448, 0.016056588249991566, 0.016004875588400587, 0.013128421676150148, 0.012626453185422565, 0.010579296151796069, 0.010074691226428052, 0.009406382593590478, 0.008211710262025704, 0.007341065376332711, 0.007268127014750761, 0.0067279085670601, 0.004988024019117105, 0.004811722287116401, 0.0030440912638639043, 0.0029537495669401006, 0.001864174390997081, 0.0014453475892304284], \"y\": [\"url_char_w + url_length\", \"a_href_out_of_domain / a_count\", \"url_char_w + url_extensions\", \"url_extensions + url_length\", \"http_header_content-encoding_gzip / url_char_.\", \"url_char_z + url_extensions\", \"url_char_. + url_char_z\", \"a_href_https / a_count\", \"url_char_l + url_extensions\", \"url_char_w * url_extensions\", \"url_char_.\", \"url_char_w * url_length\", \"url_char_p + url_extensions\", \"http_header_vary_user-agent / http_header_content-length\", \"http_header_server_apache + url_char_w\", \"http_header_vary_user-agent + url_char_.\", \"http_header_content-encoding_gzip / http_header_content-length\", \"url_char_y * url_extensions\", \"url_char_. * url_char_w\", \"url_char_l + url_char_w\", \"url_char_. + url_char_f\", \"http_header_vary_user-agent / url_char_z\", \"url_char_w\", \"http_header_server_apache + url_char_.\", \"url_char_w + url_char_y\", \"url_char_f + url_extensions\", \"url_char_z * url_length\", \"url_char_. + url_char_y\", \"url_char_f + url_char_w\", \"url_char_. + url_char_w\", \"url_char_w + url_char_z\", \"url_char_y / url_char_z\", \"url_char_. * url_char_z\"], \"type\": \"bar\", \"uid\": \"ff8d6c96-6ce2-4532-a7b1-4f0cfd0be67e\"}], {\"autosize\": false, \"height\": 1000, \"width\": 1000, \"xaxis\": {\"tickfont\": {\"color\": \"black\", \"size\": 12}, \"title\": \"Feature Importances\"}, \"yaxis\": {\"automargin\": true}}, {\"showLink\": true, \"linkText\": \"Export to plot.ly\", \"plotlyServerURL\": \"https://plot.ly\"})});</script>"
      ]
     },
     "metadata": {},
     "output_type": "display_data"
    },
    {
     "name": "stdout",
     "output_type": "stream",
     "text": [
      "\n",
      "\n",
      "\u001b[1mAdaoost Classifier\u001b[0m\n",
      "Accuracy of the model for training data is: 0.9737859122065043\n",
      "Confusion Matrix for training data is:\n"
     ]
    },
    {
     "data": {
      "text/plain": [
       "Predicted  False  True  __all__\n",
       "Actual                         \n",
       "False      24104   223    24327\n",
       "True         496  2605     3101\n",
       "__all__    24600  2828    27428"
      ]
     },
     "metadata": {},
     "output_type": "display_data"
    },
    {
     "name": "stdout",
     "output_type": "stream",
     "text": [
      "Accuracy of the model for test data is: 0.9703955763504891\n",
      "Confusion Matrix for test data is:\n"
     ]
    },
    {
     "data": {
      "text/plain": [
       "Predicted  False  True  __all__\n",
       "Actual                         \n",
       "False      10301   114    10415\n",
       "True         234  1106     1340\n",
       "__all__    10535  1220    11755"
      ]
     },
     "metadata": {},
     "output_type": "display_data"
    },
    {
     "name": "stderr",
     "output_type": "stream",
     "text": [
      "distributed.utils - ERROR - \n",
      "Traceback (most recent call last):\n",
      "  File \"/nethomes/darshan/anaconda3/lib/python3.6/site-packages/distributed/utils.py\", line 713, in log_errors\n",
      "    yield\n",
      "  File \"/nethomes/darshan/anaconda3/lib/python3.6/site-packages/distributed/client.py\", line 1223, in _close\n",
      "    quiet_exceptions=(CancelledError,),\n",
      "  File \"/nethomes/darshan/anaconda3/lib/python3.6/site-packages/tornado/gen.py\", line 584, in with_timeout\n",
      "    chain_future(future_converted, result)\n",
      "  File \"/nethomes/darshan/anaconda3/lib/python3.6/site-packages/tornado/concurrent.py\", line 166, in chain_future\n",
      "    future_add_done_callback(a, copy)\n",
      "  File \"/nethomes/darshan/anaconda3/lib/python3.6/site-packages/tornado/concurrent.py\", line 262, in future_add_done_callback\n",
      "    callback(future)\n",
      "  File \"/nethomes/darshan/anaconda3/lib/python3.6/site-packages/tornado/concurrent.py\", line 160, in copy\n",
      "    elif a.exception() is not None:\n",
      "concurrent.futures._base.CancelledError\n",
      "Exception ignored in: <bound method Client.__del__ of <Client: not connected>>\n",
      "Traceback (most recent call last):\n",
      "  File \"/nethomes/darshan/anaconda3/lib/python3.6/site-packages/distributed/client.py\", line 1075, in __del__\n",
      "    self.close()\n",
      "  File \"/nethomes/darshan/anaconda3/lib/python3.6/site-packages/distributed/client.py\", line 1290, in close\n",
      "    sync(self.loop, self._close, fast=True)\n",
      "  File \"/nethomes/darshan/anaconda3/lib/python3.6/site-packages/distributed/utils.py\", line 331, in sync\n",
      "    six.reraise(*error[0])\n",
      "  File \"/nethomes/darshan/anaconda3/lib/python3.6/site-packages/six.py\", line 693, in reraise\n",
      "    raise value\n",
      "  File \"/nethomes/darshan/anaconda3/lib/python3.6/site-packages/distributed/utils.py\", line 316, in f\n",
      "    result[0] = yield future\n",
      "  File \"/nethomes/darshan/anaconda3/lib/python3.6/site-packages/tornado/gen.py\", line 729, in run\n",
      "    value = future.result()\n",
      "  File \"/nethomes/darshan/anaconda3/lib/python3.6/site-packages/tornado/gen.py\", line 209, in wrapper\n",
      "    yielded = next(result)\n",
      "  File \"/nethomes/darshan/anaconda3/lib/python3.6/site-packages/distributed/client.py\", line 1223, in _close\n",
      "    quiet_exceptions=(CancelledError,),\n",
      "  File \"/nethomes/darshan/anaconda3/lib/python3.6/site-packages/tornado/gen.py\", line 584, in with_timeout\n",
      "    chain_future(future_converted, result)\n",
      "  File \"/nethomes/darshan/anaconda3/lib/python3.6/site-packages/tornado/concurrent.py\", line 166, in chain_future\n",
      "    future_add_done_callback(a, copy)\n",
      "  File \"/nethomes/darshan/anaconda3/lib/python3.6/site-packages/tornado/concurrent.py\", line 262, in future_add_done_callback\n",
      "    callback(future)\n",
      "  File \"/nethomes/darshan/anaconda3/lib/python3.6/site-packages/tornado/concurrent.py\", line 160, in copy\n",
      "    elif a.exception() is not None:\n",
      "concurrent.futures._base.CancelledError: \n"
     ]
    },
    {
     "data": {
      "application/vnd.plotly.v1+json": {
       "config": {
        "linkText": "Export to plot.ly",
        "plotlyServerURL": "https://plot.ly",
        "showLink": true
       },
       "data": [
        {
         "marker": {
          "color": "rgb(158,202,225)",
          "line": {
           "color": "rgb(8,48,107)",
           "width": 1.5
          }
         },
         "opacity": 0.6,
         "orientation": "h",
         "text": [
          0.18,
          0.14,
          0.12,
          0.1,
          0.06,
          0.06,
          0.04,
          0.04,
          0.04,
          0.04,
          0.04,
          0.04,
          0.02,
          0.02,
          0.02,
          0.02,
          0.02,
          0,
          0,
          0,
          0,
          0,
          0,
          0,
          0,
          0,
          0,
          0,
          0,
          0,
          0,
          0,
          0
         ],
         "textposition": "outside",
         "type": "bar",
         "uid": "30daf1e5-186b-4d87-b8f6-9164d68fb7fe",
         "x": [
          0.18,
          0.14,
          0.12,
          0.1,
          0.06,
          0.06,
          0.04,
          0.04,
          0.04,
          0.04,
          0.04,
          0.04,
          0.02,
          0.02,
          0.02,
          0.02,
          0.02,
          0,
          0,
          0,
          0,
          0,
          0,
          0,
          0,
          0,
          0,
          0,
          0,
          0,
          0,
          0,
          0
         ],
         "y": [
          "a_href_out_of_domain / a_count",
          "a_href_https / a_count",
          "url_extensions + url_length",
          "http_header_content-encoding_gzip / http_header_content-length",
          "url_char_. * url_char_z",
          "url_char_w + url_length",
          "url_char_y * url_extensions",
          "http_header_content-encoding_gzip / url_char_.",
          "url_char_l + url_extensions",
          "url_char_p + url_extensions",
          "url_char_. + url_char_z",
          "url_char_. + url_char_w",
          "http_header_server_apache + url_char_.",
          "http_header_server_apache + url_char_w",
          "http_header_vary_user-agent + url_char_.",
          "http_header_vary_user-agent / http_header_content-length",
          "url_char_f + url_extensions",
          "url_char_y / url_char_z",
          "url_char_. * url_char_w",
          "url_char_. + url_char_f",
          "http_header_vary_user-agent / url_char_z",
          "url_char_.",
          "url_char_z + url_extensions",
          "url_char_w + url_extensions",
          "url_char_. + url_char_y",
          "url_char_l + url_char_w",
          "url_char_z * url_length",
          "url_char_f + url_char_w",
          "url_char_w",
          "url_char_w * url_extensions",
          "url_char_w * url_length",
          "url_char_w + url_char_y",
          "url_char_w + url_char_z"
         ]
        }
       ],
       "layout": {
        "autosize": false,
        "height": 1000,
        "width": 1000,
        "xaxis": {
         "tickfont": {
          "color": "black",
          "size": 12
         },
         "title": "Feature Importances"
        },
        "yaxis": {
         "automargin": true
        }
       }
      },
      "text/html": [
       "<div id=\"54d73a88-8212-4899-8352-fc9c2b4d4144\" style=\"height: 1000px; width: 1000px;\" class=\"plotly-graph-div\"></div><script type=\"text/javascript\">require([\"plotly\"], function(Plotly) { window.PLOTLYENV=window.PLOTLYENV || {};window.PLOTLYENV.BASE_URL=\"https://plot.ly\";Plotly.newPlot(\"54d73a88-8212-4899-8352-fc9c2b4d4144\", [{\"marker\": {\"color\": \"rgb(158,202,225)\", \"line\": {\"color\": \"rgb(8,48,107)\", \"width\": 1.5}}, \"opacity\": 0.6, \"orientation\": \"h\", \"text\": [0.18, 0.14, 0.12, 0.1, 0.06, 0.06, 0.04, 0.04, 0.04, 0.04, 0.04, 0.04, 0.02, 0.02, 0.02, 0.02, 0.02, 0.0, 0.0, 0.0, 0.0, 0.0, 0.0, 0.0, 0.0, 0.0, 0.0, 0.0, 0.0, 0.0, 0.0, 0.0, 0.0], \"textposition\": \"outside\", \"x\": [0.18, 0.14, 0.12, 0.1, 0.06, 0.06, 0.04, 0.04, 0.04, 0.04, 0.04, 0.04, 0.02, 0.02, 0.02, 0.02, 0.02, 0.0, 0.0, 0.0, 0.0, 0.0, 0.0, 0.0, 0.0, 0.0, 0.0, 0.0, 0.0, 0.0, 0.0, 0.0, 0.0], \"y\": [\"a_href_out_of_domain / a_count\", \"a_href_https / a_count\", \"url_extensions + url_length\", \"http_header_content-encoding_gzip / http_header_content-length\", \"url_char_. * url_char_z\", \"url_char_w + url_length\", \"url_char_y * url_extensions\", \"http_header_content-encoding_gzip / url_char_.\", \"url_char_l + url_extensions\", \"url_char_p + url_extensions\", \"url_char_. + url_char_z\", \"url_char_. + url_char_w\", \"http_header_server_apache + url_char_.\", \"http_header_server_apache + url_char_w\", \"http_header_vary_user-agent + url_char_.\", \"http_header_vary_user-agent / http_header_content-length\", \"url_char_f + url_extensions\", \"url_char_y / url_char_z\", \"url_char_. * url_char_w\", \"url_char_. + url_char_f\", \"http_header_vary_user-agent / url_char_z\", \"url_char_.\", \"url_char_z + url_extensions\", \"url_char_w + url_extensions\", \"url_char_. + url_char_y\", \"url_char_l + url_char_w\", \"url_char_z * url_length\", \"url_char_f + url_char_w\", \"url_char_w\", \"url_char_w * url_extensions\", \"url_char_w * url_length\", \"url_char_w + url_char_y\", \"url_char_w + url_char_z\"], \"type\": \"bar\", \"uid\": \"30daf1e5-186b-4d87-b8f6-9164d68fb7fe\"}], {\"autosize\": false, \"height\": 1000, \"width\": 1000, \"xaxis\": {\"tickfont\": {\"color\": \"black\", \"size\": 12}, \"title\": \"Feature Importances\"}, \"yaxis\": {\"automargin\": true}}, {\"showLink\": true, \"linkText\": \"Export to plot.ly\", \"plotlyServerURL\": \"https://plot.ly\"})});</script>"
      ],
      "text/vnd.plotly.v1+html": [
       "<div id=\"54d73a88-8212-4899-8352-fc9c2b4d4144\" style=\"height: 1000px; width: 1000px;\" class=\"plotly-graph-div\"></div><script type=\"text/javascript\">require([\"plotly\"], function(Plotly) { window.PLOTLYENV=window.PLOTLYENV || {};window.PLOTLYENV.BASE_URL=\"https://plot.ly\";Plotly.newPlot(\"54d73a88-8212-4899-8352-fc9c2b4d4144\", [{\"marker\": {\"color\": \"rgb(158,202,225)\", \"line\": {\"color\": \"rgb(8,48,107)\", \"width\": 1.5}}, \"opacity\": 0.6, \"orientation\": \"h\", \"text\": [0.18, 0.14, 0.12, 0.1, 0.06, 0.06, 0.04, 0.04, 0.04, 0.04, 0.04, 0.04, 0.02, 0.02, 0.02, 0.02, 0.02, 0.0, 0.0, 0.0, 0.0, 0.0, 0.0, 0.0, 0.0, 0.0, 0.0, 0.0, 0.0, 0.0, 0.0, 0.0, 0.0], \"textposition\": \"outside\", \"x\": [0.18, 0.14, 0.12, 0.1, 0.06, 0.06, 0.04, 0.04, 0.04, 0.04, 0.04, 0.04, 0.02, 0.02, 0.02, 0.02, 0.02, 0.0, 0.0, 0.0, 0.0, 0.0, 0.0, 0.0, 0.0, 0.0, 0.0, 0.0, 0.0, 0.0, 0.0, 0.0, 0.0], \"y\": [\"a_href_out_of_domain / a_count\", \"a_href_https / a_count\", \"url_extensions + url_length\", \"http_header_content-encoding_gzip / http_header_content-length\", \"url_char_. * url_char_z\", \"url_char_w + url_length\", \"url_char_y * url_extensions\", \"http_header_content-encoding_gzip / url_char_.\", \"url_char_l + url_extensions\", \"url_char_p + url_extensions\", \"url_char_. + url_char_z\", \"url_char_. + url_char_w\", \"http_header_server_apache + url_char_.\", \"http_header_server_apache + url_char_w\", \"http_header_vary_user-agent + url_char_.\", \"http_header_vary_user-agent / http_header_content-length\", \"url_char_f + url_extensions\", \"url_char_y / url_char_z\", \"url_char_. * url_char_w\", \"url_char_. + url_char_f\", \"http_header_vary_user-agent / url_char_z\", \"url_char_.\", \"url_char_z + url_extensions\", \"url_char_w + url_extensions\", \"url_char_. + url_char_y\", \"url_char_l + url_char_w\", \"url_char_z * url_length\", \"url_char_f + url_char_w\", \"url_char_w\", \"url_char_w * url_extensions\", \"url_char_w * url_length\", \"url_char_w + url_char_y\", \"url_char_w + url_char_z\"], \"type\": \"bar\", \"uid\": \"30daf1e5-186b-4d87-b8f6-9164d68fb7fe\"}], {\"autosize\": false, \"height\": 1000, \"width\": 1000, \"xaxis\": {\"tickfont\": {\"color\": \"black\", \"size\": 12}, \"title\": \"Feature Importances\"}, \"yaxis\": {\"automargin\": true}}, {\"showLink\": true, \"linkText\": \"Export to plot.ly\", \"plotlyServerURL\": \"https://plot.ly\"})});</script>"
      ]
     },
     "metadata": {},
     "output_type": "display_data"
    },
    {
     "name": "stdout",
     "output_type": "stream",
     "text": [
      "\n",
      "\n",
      "\u001b[1mGradientBoosting Classifier\u001b[0m\n",
      "Accuracy of the model for training data is: 0.9778693306110544\n",
      "Confusion Matrix for training data is:\n"
     ]
    },
    {
     "data": {
      "text/plain": [
       "Predicted  False  True  __all__\n",
       "Actual                         \n",
       "False      24145   182    24327\n",
       "True         425  2676     3101\n",
       "__all__    24570  2858    27428"
      ]
     },
     "metadata": {},
     "output_type": "display_data"
    },
    {
     "name": "stdout",
     "output_type": "stream",
     "text": [
      "Accuracy of the model for test data is: 0.9743938749468312\n",
      "Confusion Matrix for test data is:\n"
     ]
    },
    {
     "data": {
      "text/plain": [
       "Predicted  False  True  __all__\n",
       "Actual                         \n",
       "False      10313   102    10415\n",
       "True         199  1141     1340\n",
       "__all__    10512  1243    11755"
      ]
     },
     "metadata": {},
     "output_type": "display_data"
    },
    {
     "data": {
      "application/vnd.plotly.v1+json": {
       "config": {
        "linkText": "Export to plot.ly",
        "plotlyServerURL": "https://plot.ly",
        "showLink": true
       },
       "data": [
        {
         "marker": {
          "color": "rgb(158,202,225)",
          "line": {
           "color": "rgb(8,48,107)",
           "width": 1.5
          }
         },
         "opacity": 0.6,
         "orientation": "h",
         "text": [
          0.2997,
          0.1594,
          0.0889,
          0.086,
          0.0764,
          0.0747,
          0.0526,
          0.0504,
          0.023,
          0.0209,
          0.0171,
          0.0129,
          0.0074,
          0.0061,
          0.0048,
          0.0034,
          0.0034,
          0.0032,
          0.0024,
          0.0014,
          0.0012,
          0.0011,
          0.001,
          0.0004,
          0.0004,
          0.0004,
          0.0004,
          0.0003,
          0.0003,
          0.0003,
          0.0001,
          0.0001,
          0.0001
         ],
         "textposition": "outside",
         "type": "bar",
         "uid": "68266c1d-ee5f-46da-99f5-487a4b9141f4",
         "x": [
          0.29965916584857033,
          0.15942360245026788,
          0.08885760410400947,
          0.08601865919765705,
          0.07635602918975305,
          0.07468715591076616,
          0.05262720234652818,
          0.050440070516593286,
          0.023031610479852103,
          0.020924550896802244,
          0.017114759791263492,
          0.012867751502673986,
          0.00740431958183487,
          0.006050803041752706,
          0.004797367105945565,
          0.003447747604837452,
          0.003393633818468189,
          0.003181239079499561,
          0.0023631674225335292,
          0.0013996036372920146,
          0.0012175806775143836,
          0.0010521432398805498,
          0.0010416490017635483,
          0.0004075130348461583,
          0.0003716411877708799,
          0.00035870988380053105,
          0.00035804906342370464,
          0.00031821478504331766,
          0.0002879096943971403,
          0.00026086888111111477,
          0.00014350659590513609,
          8.077370298741334e-05,
          5.5396724654987786e-05
         ],
         "y": [
          "url_extensions + url_length",
          "a_href_out_of_domain / a_count",
          "a_href_https / a_count",
          "url_char_w + url_extensions",
          "http_header_content-encoding_gzip / url_char_.",
          "url_char_z + url_extensions",
          "http_header_vary_user-agent / http_header_content-length",
          "url_char_. + url_char_z",
          "url_char_. * url_char_w",
          "url_char_. + url_char_w",
          "url_char_w + url_length",
          "url_char_w * url_extensions",
          "url_char_w * url_length",
          "url_char_.",
          "url_char_y * url_extensions",
          "http_header_content-encoding_gzip / http_header_content-length",
          "http_header_server_apache + url_char_w",
          "url_char_f + url_extensions",
          "http_header_server_apache + url_char_.",
          "url_char_l + url_char_w",
          "url_char_f + url_char_w",
          "url_char_p + url_extensions",
          "url_char_l + url_extensions",
          "url_char_. * url_char_z",
          "url_char_z * url_length",
          "url_char_. + url_char_f",
          "url_char_w + url_char_z",
          "url_char_w + url_char_y",
          "url_char_. + url_char_y",
          "url_char_y / url_char_z",
          "http_header_vary_user-agent + url_char_.",
          "url_char_w",
          "http_header_vary_user-agent / url_char_z"
         ]
        }
       ],
       "layout": {
        "autosize": false,
        "height": 1000,
        "width": 1000,
        "xaxis": {
         "tickfont": {
          "color": "black",
          "size": 12
         },
         "title": "Feature Importances"
        },
        "yaxis": {
         "automargin": true
        }
       }
      },
      "text/html": [
       "<div id=\"203f2168-428c-4dc2-922c-c6a706eb5cdb\" style=\"height: 1000px; width: 1000px;\" class=\"plotly-graph-div\"></div><script type=\"text/javascript\">require([\"plotly\"], function(Plotly) { window.PLOTLYENV=window.PLOTLYENV || {};window.PLOTLYENV.BASE_URL=\"https://plot.ly\";Plotly.newPlot(\"203f2168-428c-4dc2-922c-c6a706eb5cdb\", [{\"marker\": {\"color\": \"rgb(158,202,225)\", \"line\": {\"color\": \"rgb(8,48,107)\", \"width\": 1.5}}, \"opacity\": 0.6, \"orientation\": \"h\", \"text\": [0.2997, 0.1594, 0.0889, 0.086, 0.0764, 0.0747, 0.0526, 0.0504, 0.023, 0.0209, 0.0171, 0.0129, 0.0074, 0.0061, 0.0048, 0.0034, 0.0034, 0.0032, 0.0024, 0.0014, 0.0012, 0.0011, 0.001, 0.0004, 0.0004, 0.0004, 0.0004, 0.0003, 0.0003, 0.0003, 0.0001, 0.0001, 0.0001], \"textposition\": \"outside\", \"x\": [0.29965916584857033, 0.15942360245026788, 0.08885760410400947, 0.08601865919765705, 0.07635602918975305, 0.07468715591076616, 0.05262720234652818, 0.050440070516593286, 0.023031610479852103, 0.020924550896802244, 0.017114759791263492, 0.012867751502673986, 0.00740431958183487, 0.006050803041752706, 0.004797367105945565, 0.003447747604837452, 0.003393633818468189, 0.003181239079499561, 0.0023631674225335292, 0.0013996036372920146, 0.0012175806775143836, 0.0010521432398805498, 0.0010416490017635483, 0.0004075130348461583, 0.0003716411877708799, 0.00035870988380053105, 0.00035804906342370464, 0.00031821478504331766, 0.0002879096943971403, 0.00026086888111111477, 0.00014350659590513609, 8.077370298741334e-05, 5.5396724654987786e-05], \"y\": [\"url_extensions + url_length\", \"a_href_out_of_domain / a_count\", \"a_href_https / a_count\", \"url_char_w + url_extensions\", \"http_header_content-encoding_gzip / url_char_.\", \"url_char_z + url_extensions\", \"http_header_vary_user-agent / http_header_content-length\", \"url_char_. + url_char_z\", \"url_char_. * url_char_w\", \"url_char_. + url_char_w\", \"url_char_w + url_length\", \"url_char_w * url_extensions\", \"url_char_w * url_length\", \"url_char_.\", \"url_char_y * url_extensions\", \"http_header_content-encoding_gzip / http_header_content-length\", \"http_header_server_apache + url_char_w\", \"url_char_f + url_extensions\", \"http_header_server_apache + url_char_.\", \"url_char_l + url_char_w\", \"url_char_f + url_char_w\", \"url_char_p + url_extensions\", \"url_char_l + url_extensions\", \"url_char_. * url_char_z\", \"url_char_z * url_length\", \"url_char_. + url_char_f\", \"url_char_w + url_char_z\", \"url_char_w + url_char_y\", \"url_char_. + url_char_y\", \"url_char_y / url_char_z\", \"http_header_vary_user-agent + url_char_.\", \"url_char_w\", \"http_header_vary_user-agent / url_char_z\"], \"type\": \"bar\", \"uid\": \"68266c1d-ee5f-46da-99f5-487a4b9141f4\"}], {\"autosize\": false, \"height\": 1000, \"width\": 1000, \"xaxis\": {\"tickfont\": {\"color\": \"black\", \"size\": 12}, \"title\": \"Feature Importances\"}, \"yaxis\": {\"automargin\": true}}, {\"showLink\": true, \"linkText\": \"Export to plot.ly\", \"plotlyServerURL\": \"https://plot.ly\"})});</script>"
      ],
      "text/vnd.plotly.v1+html": [
       "<div id=\"203f2168-428c-4dc2-922c-c6a706eb5cdb\" style=\"height: 1000px; width: 1000px;\" class=\"plotly-graph-div\"></div><script type=\"text/javascript\">require([\"plotly\"], function(Plotly) { window.PLOTLYENV=window.PLOTLYENV || {};window.PLOTLYENV.BASE_URL=\"https://plot.ly\";Plotly.newPlot(\"203f2168-428c-4dc2-922c-c6a706eb5cdb\", [{\"marker\": {\"color\": \"rgb(158,202,225)\", \"line\": {\"color\": \"rgb(8,48,107)\", \"width\": 1.5}}, \"opacity\": 0.6, \"orientation\": \"h\", \"text\": [0.2997, 0.1594, 0.0889, 0.086, 0.0764, 0.0747, 0.0526, 0.0504, 0.023, 0.0209, 0.0171, 0.0129, 0.0074, 0.0061, 0.0048, 0.0034, 0.0034, 0.0032, 0.0024, 0.0014, 0.0012, 0.0011, 0.001, 0.0004, 0.0004, 0.0004, 0.0004, 0.0003, 0.0003, 0.0003, 0.0001, 0.0001, 0.0001], \"textposition\": \"outside\", \"x\": [0.29965916584857033, 0.15942360245026788, 0.08885760410400947, 0.08601865919765705, 0.07635602918975305, 0.07468715591076616, 0.05262720234652818, 0.050440070516593286, 0.023031610479852103, 0.020924550896802244, 0.017114759791263492, 0.012867751502673986, 0.00740431958183487, 0.006050803041752706, 0.004797367105945565, 0.003447747604837452, 0.003393633818468189, 0.003181239079499561, 0.0023631674225335292, 0.0013996036372920146, 0.0012175806775143836, 0.0010521432398805498, 0.0010416490017635483, 0.0004075130348461583, 0.0003716411877708799, 0.00035870988380053105, 0.00035804906342370464, 0.00031821478504331766, 0.0002879096943971403, 0.00026086888111111477, 0.00014350659590513609, 8.077370298741334e-05, 5.5396724654987786e-05], \"y\": [\"url_extensions + url_length\", \"a_href_out_of_domain / a_count\", \"a_href_https / a_count\", \"url_char_w + url_extensions\", \"http_header_content-encoding_gzip / url_char_.\", \"url_char_z + url_extensions\", \"http_header_vary_user-agent / http_header_content-length\", \"url_char_. + url_char_z\", \"url_char_. * url_char_w\", \"url_char_. + url_char_w\", \"url_char_w + url_length\", \"url_char_w * url_extensions\", \"url_char_w * url_length\", \"url_char_.\", \"url_char_y * url_extensions\", \"http_header_content-encoding_gzip / http_header_content-length\", \"http_header_server_apache + url_char_w\", \"url_char_f + url_extensions\", \"http_header_server_apache + url_char_.\", \"url_char_l + url_char_w\", \"url_char_f + url_char_w\", \"url_char_p + url_extensions\", \"url_char_l + url_extensions\", \"url_char_. * url_char_z\", \"url_char_z * url_length\", \"url_char_. + url_char_f\", \"url_char_w + url_char_z\", \"url_char_w + url_char_y\", \"url_char_. + url_char_y\", \"url_char_y / url_char_z\", \"http_header_vary_user-agent + url_char_.\", \"url_char_w\", \"http_header_vary_user-agent / url_char_z\"], \"type\": \"bar\", \"uid\": \"68266c1d-ee5f-46da-99f5-487a4b9141f4\"}], {\"autosize\": false, \"height\": 1000, \"width\": 1000, \"xaxis\": {\"tickfont\": {\"color\": \"black\", \"size\": 12}, \"title\": \"Feature Importances\"}, \"yaxis\": {\"automargin\": true}}, {\"showLink\": true, \"linkText\": \"Export to plot.ly\", \"plotlyServerURL\": \"https://plot.ly\"})});</script>"
      ]
     },
     "metadata": {},
     "output_type": "display_data"
    },
    {
     "name": "stdout",
     "output_type": "stream",
     "text": [
      "\n",
      "\n",
      "\u001b[1mExtraTree Classifier\u001b[0m\n",
      "Accuracy of the model for training data is: 0.9936561178357882\n",
      "Confusion Matrix for training data is:\n"
     ]
    },
    {
     "data": {
      "text/plain": [
       "Predicted  False  True  __all__\n",
       "Actual                         \n",
       "False      24307    20    24327\n",
       "True         154  2947     3101\n",
       "__all__    24461  2967    27428"
      ]
     },
     "metadata": {},
     "output_type": "display_data"
    },
    {
     "name": "stdout",
     "output_type": "stream",
     "text": [
      "Accuracy of the model for test data is: 0.9728626116546151\n",
      "Confusion Matrix for test data is:\n"
     ]
    },
    {
     "data": {
      "text/plain": [
       "Predicted  False  True  __all__\n",
       "Actual                         \n",
       "False      10320    95    10415\n",
       "True         224  1116     1340\n",
       "__all__    10544  1211    11755"
      ]
     },
     "metadata": {},
     "output_type": "display_data"
    },
    {
     "data": {
      "application/vnd.plotly.v1+json": {
       "config": {
        "linkText": "Export to plot.ly",
        "plotlyServerURL": "https://plot.ly",
        "showLink": true
       },
       "data": [
        {
         "marker": {
          "color": "rgb(158,202,225)",
          "line": {
           "color": "rgb(8,48,107)",
           "width": 1.5
          }
         },
         "opacity": 0.6,
         "orientation": "h",
         "text": [
          0.1656,
          0.1015,
          0.0573,
          0.0515,
          0.044,
          0.0437,
          0.0421,
          0.0407,
          0.0392,
          0.0389,
          0.0312,
          0.0275,
          0.0261,
          0.024,
          0.0237,
          0.0205,
          0.0202,
          0.0201,
          0.0168,
          0.0161,
          0.0161,
          0.0142,
          0.0141,
          0.0139,
          0.0135,
          0.0133,
          0.0131,
          0.012,
          0.0112,
          0.0084,
          0.0075,
          0.0072,
          0.0049
         ],
         "textposition": "outside",
         "type": "bar",
         "uid": "7af67811-cdf9-48e9-9e7f-0a48ff269e35",
         "x": [
          0.16558882616229237,
          0.10152166442562635,
          0.057333500535911276,
          0.05148212691067892,
          0.044026444611927625,
          0.04374563419697247,
          0.04212665363526964,
          0.040658431239162095,
          0.039157262017125154,
          0.03889192394767164,
          0.03116969551378228,
          0.027476753746669254,
          0.02612352104484416,
          0.024000677848168096,
          0.023654428883474216,
          0.02045723313224507,
          0.020198013057075196,
          0.020121662453512754,
          0.016767484863933396,
          0.016116631697712942,
          0.016108200924624855,
          0.014155680723367306,
          0.014090069348762507,
          0.013930109098971775,
          0.013529016386849705,
          0.01326613764747089,
          0.013083496941102297,
          0.012004367184250714,
          0.011203467322557283,
          0.008374352997481054,
          0.007506787722248841,
          0.00719704035591638,
          0.004932703422341479
         ],
         "y": [
          "a_href_out_of_domain / a_count",
          "http_header_content-encoding_gzip / url_char_.",
          "url_char_w + url_length",
          "url_extensions + url_length",
          "url_char_.",
          "url_char_w + url_char_z",
          "url_char_l + url_extensions",
          "a_href_https / a_count",
          "url_char_w * url_length",
          "url_char_p + url_extensions",
          "url_char_w + url_char_y",
          "http_header_server_apache + url_char_w",
          "http_header_vary_user-agent + url_char_.",
          "url_char_z + url_extensions",
          "url_char_. + url_char_f",
          "url_char_l + url_char_w",
          "http_header_server_apache + url_char_.",
          "url_char_. + url_char_w",
          "url_char_f + url_extensions",
          "url_char_y / url_char_z",
          "url_char_. + url_char_z",
          "url_char_. * url_char_w",
          "url_char_w * url_extensions",
          "http_header_content-encoding_gzip / http_header_content-length",
          "url_char_y * url_extensions",
          "url_char_. + url_char_y",
          "url_char_z * url_length",
          "url_char_w + url_extensions",
          "http_header_vary_user-agent / url_char_z",
          "url_char_f + url_char_w",
          "url_char_w",
          "http_header_vary_user-agent / http_header_content-length",
          "url_char_. * url_char_z"
         ]
        }
       ],
       "layout": {
        "autosize": false,
        "height": 1000,
        "width": 1000,
        "xaxis": {
         "tickfont": {
          "color": "black",
          "size": 12
         },
         "title": "Feature Importances"
        },
        "yaxis": {
         "automargin": true
        }
       }
      },
      "text/html": [
       "<div id=\"661583cc-3b8c-442c-be63-961e6ac1bb0b\" style=\"height: 1000px; width: 1000px;\" class=\"plotly-graph-div\"></div><script type=\"text/javascript\">require([\"plotly\"], function(Plotly) { window.PLOTLYENV=window.PLOTLYENV || {};window.PLOTLYENV.BASE_URL=\"https://plot.ly\";Plotly.newPlot(\"661583cc-3b8c-442c-be63-961e6ac1bb0b\", [{\"marker\": {\"color\": \"rgb(158,202,225)\", \"line\": {\"color\": \"rgb(8,48,107)\", \"width\": 1.5}}, \"opacity\": 0.6, \"orientation\": \"h\", \"text\": [0.1656, 0.1015, 0.0573, 0.0515, 0.044, 0.0437, 0.0421, 0.0407, 0.0392, 0.0389, 0.0312, 0.0275, 0.0261, 0.024, 0.0237, 0.0205, 0.0202, 0.0201, 0.0168, 0.0161, 0.0161, 0.0142, 0.0141, 0.0139, 0.0135, 0.0133, 0.0131, 0.012, 0.0112, 0.0084, 0.0075, 0.0072, 0.0049], \"textposition\": \"outside\", \"x\": [0.16558882616229237, 0.10152166442562635, 0.057333500535911276, 0.05148212691067892, 0.044026444611927625, 0.04374563419697247, 0.04212665363526964, 0.040658431239162095, 0.039157262017125154, 0.03889192394767164, 0.03116969551378228, 0.027476753746669254, 0.02612352104484416, 0.024000677848168096, 0.023654428883474216, 0.02045723313224507, 0.020198013057075196, 0.020121662453512754, 0.016767484863933396, 0.016116631697712942, 0.016108200924624855, 0.014155680723367306, 0.014090069348762507, 0.013930109098971775, 0.013529016386849705, 0.01326613764747089, 0.013083496941102297, 0.012004367184250714, 0.011203467322557283, 0.008374352997481054, 0.007506787722248841, 0.00719704035591638, 0.004932703422341479], \"y\": [\"a_href_out_of_domain / a_count\", \"http_header_content-encoding_gzip / url_char_.\", \"url_char_w + url_length\", \"url_extensions + url_length\", \"url_char_.\", \"url_char_w + url_char_z\", \"url_char_l + url_extensions\", \"a_href_https / a_count\", \"url_char_w * url_length\", \"url_char_p + url_extensions\", \"url_char_w + url_char_y\", \"http_header_server_apache + url_char_w\", \"http_header_vary_user-agent + url_char_.\", \"url_char_z + url_extensions\", \"url_char_. + url_char_f\", \"url_char_l + url_char_w\", \"http_header_server_apache + url_char_.\", \"url_char_. + url_char_w\", \"url_char_f + url_extensions\", \"url_char_y / url_char_z\", \"url_char_. + url_char_z\", \"url_char_. * url_char_w\", \"url_char_w * url_extensions\", \"http_header_content-encoding_gzip / http_header_content-length\", \"url_char_y * url_extensions\", \"url_char_. + url_char_y\", \"url_char_z * url_length\", \"url_char_w + url_extensions\", \"http_header_vary_user-agent / url_char_z\", \"url_char_f + url_char_w\", \"url_char_w\", \"http_header_vary_user-agent / http_header_content-length\", \"url_char_. * url_char_z\"], \"type\": \"bar\", \"uid\": \"7af67811-cdf9-48e9-9e7f-0a48ff269e35\"}], {\"autosize\": false, \"height\": 1000, \"width\": 1000, \"xaxis\": {\"tickfont\": {\"color\": \"black\", \"size\": 12}, \"title\": \"Feature Importances\"}, \"yaxis\": {\"automargin\": true}}, {\"showLink\": true, \"linkText\": \"Export to plot.ly\", \"plotlyServerURL\": \"https://plot.ly\"})});</script>"
      ],
      "text/vnd.plotly.v1+html": [
       "<div id=\"661583cc-3b8c-442c-be63-961e6ac1bb0b\" style=\"height: 1000px; width: 1000px;\" class=\"plotly-graph-div\"></div><script type=\"text/javascript\">require([\"plotly\"], function(Plotly) { window.PLOTLYENV=window.PLOTLYENV || {};window.PLOTLYENV.BASE_URL=\"https://plot.ly\";Plotly.newPlot(\"661583cc-3b8c-442c-be63-961e6ac1bb0b\", [{\"marker\": {\"color\": \"rgb(158,202,225)\", \"line\": {\"color\": \"rgb(8,48,107)\", \"width\": 1.5}}, \"opacity\": 0.6, \"orientation\": \"h\", \"text\": [0.1656, 0.1015, 0.0573, 0.0515, 0.044, 0.0437, 0.0421, 0.0407, 0.0392, 0.0389, 0.0312, 0.0275, 0.0261, 0.024, 0.0237, 0.0205, 0.0202, 0.0201, 0.0168, 0.0161, 0.0161, 0.0142, 0.0141, 0.0139, 0.0135, 0.0133, 0.0131, 0.012, 0.0112, 0.0084, 0.0075, 0.0072, 0.0049], \"textposition\": \"outside\", \"x\": [0.16558882616229237, 0.10152166442562635, 0.057333500535911276, 0.05148212691067892, 0.044026444611927625, 0.04374563419697247, 0.04212665363526964, 0.040658431239162095, 0.039157262017125154, 0.03889192394767164, 0.03116969551378228, 0.027476753746669254, 0.02612352104484416, 0.024000677848168096, 0.023654428883474216, 0.02045723313224507, 0.020198013057075196, 0.020121662453512754, 0.016767484863933396, 0.016116631697712942, 0.016108200924624855, 0.014155680723367306, 0.014090069348762507, 0.013930109098971775, 0.013529016386849705, 0.01326613764747089, 0.013083496941102297, 0.012004367184250714, 0.011203467322557283, 0.008374352997481054, 0.007506787722248841, 0.00719704035591638, 0.004932703422341479], \"y\": [\"a_href_out_of_domain / a_count\", \"http_header_content-encoding_gzip / url_char_.\", \"url_char_w + url_length\", \"url_extensions + url_length\", \"url_char_.\", \"url_char_w + url_char_z\", \"url_char_l + url_extensions\", \"a_href_https / a_count\", \"url_char_w * url_length\", \"url_char_p + url_extensions\", \"url_char_w + url_char_y\", \"http_header_server_apache + url_char_w\", \"http_header_vary_user-agent + url_char_.\", \"url_char_z + url_extensions\", \"url_char_. + url_char_f\", \"url_char_l + url_char_w\", \"http_header_server_apache + url_char_.\", \"url_char_. + url_char_w\", \"url_char_f + url_extensions\", \"url_char_y / url_char_z\", \"url_char_. + url_char_z\", \"url_char_. * url_char_w\", \"url_char_w * url_extensions\", \"http_header_content-encoding_gzip / http_header_content-length\", \"url_char_y * url_extensions\", \"url_char_. + url_char_y\", \"url_char_z * url_length\", \"url_char_w + url_extensions\", \"http_header_vary_user-agent / url_char_z\", \"url_char_f + url_char_w\", \"url_char_w\", \"http_header_vary_user-agent / http_header_content-length\", \"url_char_. * url_char_z\"], \"type\": \"bar\", \"uid\": \"7af67811-cdf9-48e9-9e7f-0a48ff269e35\"}], {\"autosize\": false, \"height\": 1000, \"width\": 1000, \"xaxis\": {\"tickfont\": {\"color\": \"black\", \"size\": 12}, \"title\": \"Feature Importances\"}, \"yaxis\": {\"automargin\": true}}, {\"showLink\": true, \"linkText\": \"Export to plot.ly\", \"plotlyServerURL\": \"https://plot.ly\"})});</script>"
      ]
     },
     "metadata": {},
     "output_type": "display_data"
    },
    {
     "name": "stdout",
     "output_type": "stream",
     "text": [
      "\n",
      "\n",
      "\u001b[1mXGB Classifier\u001b[0m\n",
      "Accuracy of the model for training data is: 0.9771766078459968\n",
      "Confusion Matrix for training data is:\n"
     ]
    },
    {
     "data": {
      "text/plain": [
       "Predicted  False  True  __all__\n",
       "Actual                         \n",
       "False      24163   164    24327\n",
       "True         462  2639     3101\n",
       "__all__    24625  2803    27428"
      ]
     },
     "metadata": {},
     "output_type": "display_data"
    },
    {
     "name": "stdout",
     "output_type": "stream",
     "text": [
      "Accuracy of the model for test data is: 0.9749042960442365\n",
      "Confusion Matrix for test data is:\n"
     ]
    },
    {
     "data": {
      "text/plain": [
       "Predicted  False  True  __all__\n",
       "Actual                         \n",
       "False      10329    86    10415\n",
       "True         209  1131     1340\n",
       "__all__    10538  1217    11755"
      ]
     },
     "metadata": {},
     "output_type": "display_data"
    },
    {
     "data": {
      "application/vnd.plotly.v1+json": {
       "config": {
        "linkText": "Export to plot.ly",
        "plotlyServerURL": "https://plot.ly",
        "showLink": true
       },
       "data": [
        {
         "marker": {
          "color": "rgb(158,202,225)",
          "line": {
           "color": "rgb(8,48,107)",
           "width": 1.5
          }
         },
         "opacity": 0.6,
         "orientation": "h",
         "text": [
          0.1252,
          0.1084,
          0.0809,
          0.0718,
          0.0565,
          0.055,
          0.0473,
          0.0366,
          0.0336,
          0.0336,
          0.0321,
          0.0305,
          0.029,
          0.0244,
          0.0229,
          0.0229,
          0.0214,
          0.0198,
          0.0183,
          0.0183,
          0.0183,
          0.0168,
          0.0153,
          0.0122,
          0.0107,
          0.0092,
          0.0092,
          0.0076,
          0.0061,
          0.0046,
          0.0015,
          0,
          0
         ],
         "textposition": "outside",
         "type": "bar",
         "uid": "a14ae9b2-c93c-4f5c-bf97-c3b701a46537",
         "x": [
          0.1251908391714096,
          0.10839694738388062,
          0.08091603219509125,
          0.07175572216510773,
          0.05648855119943619,
          0.054961830377578735,
          0.047328244894742966,
          0.03664122149348259,
          0.03358778730034828,
          0.03358778730034828,
          0.03206107020378113,
          0.030534351244568825,
          0.02900763414800167,
          0.02442748099565506,
          0.022900763899087906,
          0.022900763899087906,
          0.021374044939875603,
          0.01984732784330845,
          0.018320610746741295,
          0.018320610746741295,
          0.018320610746741295,
          0.01679389365017414,
          0.015267175622284412,
          0.01221374049782753,
          0.010687022469937801,
          0.009160305373370647,
          0.009160305373370647,
          0.007633587811142206,
          0.006106870248913765,
          0.004580152686685324,
          0.0015267175622284412,
          0,
          0
         ],
         "y": [
          "a_href_out_of_domain / a_count",
          "a_href_https / a_count",
          "http_header_content-encoding_gzip / url_char_.",
          "url_extensions + url_length",
          "url_char_. + url_char_w",
          "url_char_w + url_length",
          "url_char_w * url_length",
          "http_header_vary_user-agent / http_header_content-length",
          "http_header_content-encoding_gzip / http_header_content-length",
          "url_char_l + url_char_w",
          "url_char_. * url_char_w",
          "url_char_p + url_extensions",
          "http_header_server_apache + url_char_w",
          "http_header_server_apache + url_char_.",
          "url_char_w + url_extensions",
          "http_header_vary_user-agent + url_char_.",
          "url_char_.",
          "url_char_y * url_extensions",
          "url_char_. + url_char_z",
          "url_char_f + url_extensions",
          "url_char_. * url_char_z",
          "url_char_z * url_length",
          "url_char_. + url_char_f",
          "url_char_z + url_extensions",
          "url_char_. + url_char_y",
          "url_char_l + url_extensions",
          "http_header_vary_user-agent / url_char_z",
          "url_char_w + url_char_z",
          "url_char_y / url_char_z",
          "url_char_w * url_extensions",
          "url_char_w + url_char_y",
          "url_char_f + url_char_w",
          "url_char_w"
         ]
        }
       ],
       "layout": {
        "autosize": false,
        "height": 1000,
        "width": 1000,
        "xaxis": {
         "tickfont": {
          "color": "black",
          "size": 12
         },
         "title": "Feature Importances"
        },
        "yaxis": {
         "automargin": true
        }
       }
      },
      "text/html": [
       "<div id=\"8e0e9804-00e3-4fde-badf-8ac3b9c48294\" style=\"height: 1000px; width: 1000px;\" class=\"plotly-graph-div\"></div><script type=\"text/javascript\">require([\"plotly\"], function(Plotly) { window.PLOTLYENV=window.PLOTLYENV || {};window.PLOTLYENV.BASE_URL=\"https://plot.ly\";Plotly.newPlot(\"8e0e9804-00e3-4fde-badf-8ac3b9c48294\", [{\"marker\": {\"color\": \"rgb(158,202,225)\", \"line\": {\"color\": \"rgb(8,48,107)\", \"width\": 1.5}}, \"opacity\": 0.6, \"orientation\": \"h\", \"text\": [0.1252, 0.1084, 0.0809, 0.0718, 0.0565, 0.055, 0.0473, 0.0366, 0.0336, 0.0336, 0.0321, 0.0305, 0.029, 0.0244, 0.0229, 0.0229, 0.0214, 0.0198, 0.0183, 0.0183, 0.0183, 0.0168, 0.0153, 0.0122, 0.0107, 0.0092, 0.0092, 0.0076, 0.0061, 0.0046, 0.0015, 0.0, 0.0], \"textposition\": \"outside\", \"x\": [0.1251908391714096, 0.10839694738388062, 0.08091603219509125, 0.07175572216510773, 0.05648855119943619, 0.054961830377578735, 0.047328244894742966, 0.03664122149348259, 0.03358778730034828, 0.03358778730034828, 0.03206107020378113, 0.030534351244568825, 0.02900763414800167, 0.02442748099565506, 0.022900763899087906, 0.022900763899087906, 0.021374044939875603, 0.01984732784330845, 0.018320610746741295, 0.018320610746741295, 0.018320610746741295, 0.01679389365017414, 0.015267175622284412, 0.01221374049782753, 0.010687022469937801, 0.009160305373370647, 0.009160305373370647, 0.007633587811142206, 0.006106870248913765, 0.004580152686685324, 0.0015267175622284412, 0.0, 0.0], \"y\": [\"a_href_out_of_domain / a_count\", \"a_href_https / a_count\", \"http_header_content-encoding_gzip / url_char_.\", \"url_extensions + url_length\", \"url_char_. + url_char_w\", \"url_char_w + url_length\", \"url_char_w * url_length\", \"http_header_vary_user-agent / http_header_content-length\", \"http_header_content-encoding_gzip / http_header_content-length\", \"url_char_l + url_char_w\", \"url_char_. * url_char_w\", \"url_char_p + url_extensions\", \"http_header_server_apache + url_char_w\", \"http_header_server_apache + url_char_.\", \"url_char_w + url_extensions\", \"http_header_vary_user-agent + url_char_.\", \"url_char_.\", \"url_char_y * url_extensions\", \"url_char_. + url_char_z\", \"url_char_f + url_extensions\", \"url_char_. * url_char_z\", \"url_char_z * url_length\", \"url_char_. + url_char_f\", \"url_char_z + url_extensions\", \"url_char_. + url_char_y\", \"url_char_l + url_extensions\", \"http_header_vary_user-agent / url_char_z\", \"url_char_w + url_char_z\", \"url_char_y / url_char_z\", \"url_char_w * url_extensions\", \"url_char_w + url_char_y\", \"url_char_f + url_char_w\", \"url_char_w\"], \"type\": \"bar\", \"uid\": \"a14ae9b2-c93c-4f5c-bf97-c3b701a46537\"}], {\"autosize\": false, \"height\": 1000, \"width\": 1000, \"xaxis\": {\"tickfont\": {\"color\": \"black\", \"size\": 12}, \"title\": \"Feature Importances\"}, \"yaxis\": {\"automargin\": true}}, {\"showLink\": true, \"linkText\": \"Export to plot.ly\", \"plotlyServerURL\": \"https://plot.ly\"})});</script>"
      ],
      "text/vnd.plotly.v1+html": [
       "<div id=\"8e0e9804-00e3-4fde-badf-8ac3b9c48294\" style=\"height: 1000px; width: 1000px;\" class=\"plotly-graph-div\"></div><script type=\"text/javascript\">require([\"plotly\"], function(Plotly) { window.PLOTLYENV=window.PLOTLYENV || {};window.PLOTLYENV.BASE_URL=\"https://plot.ly\";Plotly.newPlot(\"8e0e9804-00e3-4fde-badf-8ac3b9c48294\", [{\"marker\": {\"color\": \"rgb(158,202,225)\", \"line\": {\"color\": \"rgb(8,48,107)\", \"width\": 1.5}}, \"opacity\": 0.6, \"orientation\": \"h\", \"text\": [0.1252, 0.1084, 0.0809, 0.0718, 0.0565, 0.055, 0.0473, 0.0366, 0.0336, 0.0336, 0.0321, 0.0305, 0.029, 0.0244, 0.0229, 0.0229, 0.0214, 0.0198, 0.0183, 0.0183, 0.0183, 0.0168, 0.0153, 0.0122, 0.0107, 0.0092, 0.0092, 0.0076, 0.0061, 0.0046, 0.0015, 0.0, 0.0], \"textposition\": \"outside\", \"x\": [0.1251908391714096, 0.10839694738388062, 0.08091603219509125, 0.07175572216510773, 0.05648855119943619, 0.054961830377578735, 0.047328244894742966, 0.03664122149348259, 0.03358778730034828, 0.03358778730034828, 0.03206107020378113, 0.030534351244568825, 0.02900763414800167, 0.02442748099565506, 0.022900763899087906, 0.022900763899087906, 0.021374044939875603, 0.01984732784330845, 0.018320610746741295, 0.018320610746741295, 0.018320610746741295, 0.01679389365017414, 0.015267175622284412, 0.01221374049782753, 0.010687022469937801, 0.009160305373370647, 0.009160305373370647, 0.007633587811142206, 0.006106870248913765, 0.004580152686685324, 0.0015267175622284412, 0.0, 0.0], \"y\": [\"a_href_out_of_domain / a_count\", \"a_href_https / a_count\", \"http_header_content-encoding_gzip / url_char_.\", \"url_extensions + url_length\", \"url_char_. + url_char_w\", \"url_char_w + url_length\", \"url_char_w * url_length\", \"http_header_vary_user-agent / http_header_content-length\", \"http_header_content-encoding_gzip / http_header_content-length\", \"url_char_l + url_char_w\", \"url_char_. * url_char_w\", \"url_char_p + url_extensions\", \"http_header_server_apache + url_char_w\", \"http_header_server_apache + url_char_.\", \"url_char_w + url_extensions\", \"http_header_vary_user-agent + url_char_.\", \"url_char_.\", \"url_char_y * url_extensions\", \"url_char_. + url_char_z\", \"url_char_f + url_extensions\", \"url_char_. * url_char_z\", \"url_char_z * url_length\", \"url_char_. + url_char_f\", \"url_char_z + url_extensions\", \"url_char_. + url_char_y\", \"url_char_l + url_extensions\", \"http_header_vary_user-agent / url_char_z\", \"url_char_w + url_char_z\", \"url_char_y / url_char_z\", \"url_char_w * url_extensions\", \"url_char_w + url_char_y\", \"url_char_f + url_char_w\", \"url_char_w\"], \"type\": \"bar\", \"uid\": \"a14ae9b2-c93c-4f5c-bf97-c3b701a46537\"}], {\"autosize\": false, \"height\": 1000, \"width\": 1000, \"xaxis\": {\"tickfont\": {\"color\": \"black\", \"size\": 12}, \"title\": \"Feature Importances\"}, \"yaxis\": {\"automargin\": true}}, {\"showLink\": true, \"linkText\": \"Export to plot.ly\", \"plotlyServerURL\": \"https://plot.ly\"})});</script>"
      ]
     },
     "metadata": {},
     "output_type": "display_data"
    },
    {
     "name": "stdout",
     "output_type": "stream",
     "text": [
      "\n",
      "\n",
      "\u001b[1mBagging Classifier\u001b[0m\n",
      "Accuracy of the model for training data is: 0.9914685722619221\n",
      "Confusion Matrix for training data is:\n"
     ]
    },
    {
     "data": {
      "text/plain": [
       "Predicted  False  True  __all__\n",
       "Actual                         \n",
       "False      24269    58    24327\n",
       "True         176  2925     3101\n",
       "__all__    24445  2983    27428"
      ]
     },
     "metadata": {},
     "output_type": "display_data"
    },
    {
     "name": "stdout",
     "output_type": "stream",
     "text": [
      "Accuracy of the model for test data is: 0.9724372607401106\n",
      "Confusion Matrix for test data is:\n"
     ]
    },
    {
     "data": {
      "text/plain": [
       "Predicted  False  True  __all__\n",
       "Actual                         \n",
       "False      10304   111    10415\n",
       "True         213  1127     1340\n",
       "__all__    10517  1238    11755"
      ]
     },
     "metadata": {},
     "output_type": "display_data"
    },
    {
     "name": "stdout",
     "output_type": "stream",
     "text": [
      "\n",
      "\n",
      "\u001b[1mNeural Network-1\u001b[0m\n",
      "The accuracy of the model on training data is: 0.984869476447426\n"
     ]
    },
    {
     "data": {
      "text/plain": [
       "Predicted  False  True  __all__\n",
       "Actual                         \n",
       "False      24255    72    24327\n",
       "True         343  2758     3101\n",
       "__all__    24598  2830    27428"
      ]
     },
     "metadata": {},
     "output_type": "display_data"
    },
    {
     "name": "stdout",
     "output_type": "stream",
     "text": [
      "The accuracy of the model on test data is: 0.9727775414717141\n"
     ]
    },
    {
     "data": {
      "text/plain": [
       "Predicted  False  True  __all__\n",
       "Actual                         \n",
       "False      10326    89    10415\n",
       "True         231  1109     1340\n",
       "__all__    10557  1198    11755"
      ]
     },
     "metadata": {},
     "output_type": "display_data"
    },
    {
     "name": "stdout",
     "output_type": "stream",
     "text": [
      "\n",
      "\n"
     ]
    }
   ],
   "source": [
    "table_80_50_train=pd.DataFrame(columns=['accuracy','TP','TN','FP','FN','FPR','FNR'])\n",
    "table_80_50_test=pd.DataFrame(columns=['accuracy','TP','TN','FP','FN','FPR','FNR','auc','MCC','Precision','Recall'])\n",
    "\n",
    "feat_imp=[None]*5\n",
    "j=0\n",
    "for i in range(0,8):\n",
    "    if i>=1 and i<=5:\n",
    "        model,cm_train,cm_test,acc_train,acc_test,roc_auc,feat_imp[j],mcc,prec,rec=f[i](scaled_X_train,train_Y,scaled_X_test,test_Y,feature_name)\n",
    "        j=j+1\n",
    "    else:\n",
    "        model,cm_train,cm_test,acc_train,acc_test,roc_auc,mcc,prec,rec=f[i](scaled_X_train,train_Y,scaled_X_test,test_Y)\n",
    "    table_80_50_train.loc[i]=   ([acc_train,cm_train.TP,cm_train.TN,cm_train.FP,cm_train.FN,cm_train.FPR,cm_train.FNR])\n",
    "    table_80_50_test.loc[i] =   ([acc_test ,cm_test.TP, cm_test.TN, cm_test.FP, cm_test.FN, cm_test.FPR, cm_test.FNR,roc_auc,mcc,prec,rec])\n",
    "    print(\"\\n\")"
   ]
  },
  {
   "cell_type": "markdown",
   "metadata": {},
   "source": [
    "### <a id='4.A' style=\"text-decoration : none; color : #000000;\"> A. Results</a>"
   ]
  },
  {
   "cell_type": "code",
   "execution_count": 71,
   "metadata": {},
   "outputs": [
    {
     "data": {
      "application/vnd.plotly.v1+json": {
       "config": {
        "linkText": "Export to plot.ly",
        "plotlyServerURL": "https://plot.ly",
        "showLink": true
       },
       "data": [
        {
         "mode": "lines",
         "name": "KNN_model",
         "type": "scatter",
         "uid": "805530a8-486f-45c5-9b61-10d5fd41d9ee",
         "x": [
          "accuracy",
          "auc",
          "MCC",
          "Precision",
          "Recall"
         ],
         "y": [
          0.9722671203743088,
          0.9124965069037911,
          0.8584337657970927,
          0.9142156862745098,
          0.8350746268656717
         ]
        },
        {
         "mode": "lines+markers",
         "name": "XGB",
         "type": "scatter",
         "uid": "ddb39af0-e0cb-4039-aad1-caa792caeb88",
         "x": [
          "accuracy",
          "auc",
          "MCC",
          "Precision",
          "Recall"
         ],
         "y": [
          0.9749042960442365,
          0.9178862647874406,
          0.8718579712987812,
          0.9293344289235825,
          0.8440298507462687
         ]
        },
        {
         "marker": {
          "symbol": "x"
         },
         "mode": "lines+markers",
         "name": "Random Forest",
         "type": "scatter",
         "uid": "c7e63339-c2c6-44b2-b296-383299ad1554",
         "x": [
          "accuracy",
          "auc",
          "MCC",
          "Precision",
          "Recall"
         ],
         "y": [
          0.973713313483624,
          0.9133126374846842,
          0.8654700049331553,
          0.9270919635459818,
          0.8350746268656717
         ]
        },
        {
         "mode": "lines",
         "name": "Ada Boost",
         "type": "scatter",
         "uid": "ba5f1c4b-ee0f-4ade-b470-088cc8f65219",
         "x": [
          "accuracy",
          "auc",
          "MCC",
          "Precision",
          "Recall"
         ],
         "y": [
          0.9703955763504891,
          0.9072136915040734,
          0.848666810647649,
          0.9065573770491804,
          0.8253731343283582
         ]
        },
        {
         "mode": "lines+markers",
         "name": "GradientBoosting",
         "type": "scatter",
         "uid": "77dde1eb-f97d-4e59-949d-94aac2bb9a55",
         "x": [
          "accuracy",
          "auc",
          "MCC",
          "Precision",
          "Recall"
         ],
         "y": [
          0.9743938749468312,
          0.9208494851713588,
          0.8698824956994946,
          0.917940466613033,
          0.8514925373134329
         ]
        },
        {
         "marker": {
          "symbol": "x"
         },
         "mode": "lines+markers",
         "name": "ExtraTree Classifier",
         "type": "scatter",
         "uid": "e4ca6b89-b6be-4755-9de2-e1f7faff5895",
         "x": [
          "accuracy",
          "auc",
          "MCC",
          "Precision",
          "Recall"
         ],
         "y": [
          0.9728626116546151,
          0.9118571807310065,
          0.8611601090925872,
          0.921552436003303,
          0.8328358208955224
         ]
        },
        {
         "marker": {
          "symbol": "x"
         },
         "mode": "lines+markers",
         "name": "Bagging",
         "type": "scatter",
         "uid": "111392da-7225-41f5-874a-4dd60b4c8d38",
         "x": [
          "accuracy",
          "auc",
          "MCC",
          "Precision",
          "Recall"
         ],
         "y": [
          0.9724372607401106,
          0.915193535443283,
          0.8597186649826488,
          0.9103392568659128,
          0.841044776119403
         ]
        },
        {
         "marker": {
          "symbol": "x"
         },
         "mode": "lines+markers",
         "name": "Neural Network",
         "type": "scatter",
         "uid": "3113ac7f-a635-4c9d-9791-2c243967f399",
         "x": [
          "accuracy",
          "auc",
          "MCC",
          "Precision",
          "Recall"
         ],
         "y": [
          0.9727775414717141,
          0.915193535443283,
          0.8604042933260676,
          0.9257095158597662,
          0.8276119402985075
         ]
        }
       ],
       "layout": {
        "title": "Result comparision for Features selected in Section 1",
        "yaxis": {
         "dtick": 0.05,
         "tick0": 0
        }
       }
      },
      "text/html": [
       "<div id=\"d7832422-1842-4609-8c99-8ba09e0110a4\" style=\"height: 525px; width: 100%;\" class=\"plotly-graph-div\"></div><script type=\"text/javascript\">require([\"plotly\"], function(Plotly) { window.PLOTLYENV=window.PLOTLYENV || {};window.PLOTLYENV.BASE_URL=\"https://plot.ly\";Plotly.newPlot(\"d7832422-1842-4609-8c99-8ba09e0110a4\", [{\"mode\": \"lines\", \"name\": \"KNN_model\", \"x\": [\"accuracy\", \"auc\", \"MCC\", \"Precision\", \"Recall\"], \"y\": [0.9722671203743088, 0.9124965069037911, 0.8584337657970927, 0.9142156862745098, 0.8350746268656717], \"type\": \"scatter\", \"uid\": \"805530a8-486f-45c5-9b61-10d5fd41d9ee\"}, {\"mode\": \"lines+markers\", \"name\": \"XGB\", \"x\": [\"accuracy\", \"auc\", \"MCC\", \"Precision\", \"Recall\"], \"y\": [0.9749042960442365, 0.9178862647874406, 0.8718579712987812, 0.9293344289235825, 0.8440298507462687], \"type\": \"scatter\", \"uid\": \"ddb39af0-e0cb-4039-aad1-caa792caeb88\"}, {\"marker\": {\"symbol\": \"x\"}, \"mode\": \"lines+markers\", \"name\": \"Random Forest\", \"x\": [\"accuracy\", \"auc\", \"MCC\", \"Precision\", \"Recall\"], \"y\": [0.973713313483624, 0.9133126374846842, 0.8654700049331553, 0.9270919635459818, 0.8350746268656717], \"type\": \"scatter\", \"uid\": \"c7e63339-c2c6-44b2-b296-383299ad1554\"}, {\"mode\": \"lines\", \"name\": \"Ada Boost\", \"x\": [\"accuracy\", \"auc\", \"MCC\", \"Precision\", \"Recall\"], \"y\": [0.9703955763504891, 0.9072136915040734, 0.848666810647649, 0.9065573770491804, 0.8253731343283582], \"type\": \"scatter\", \"uid\": \"ba5f1c4b-ee0f-4ade-b470-088cc8f65219\"}, {\"mode\": \"lines+markers\", \"name\": \"GradientBoosting\", \"x\": [\"accuracy\", \"auc\", \"MCC\", \"Precision\", \"Recall\"], \"y\": [0.9743938749468312, 0.9208494851713588, 0.8698824956994946, 0.917940466613033, 0.8514925373134329], \"type\": \"scatter\", \"uid\": \"77dde1eb-f97d-4e59-949d-94aac2bb9a55\"}, {\"marker\": {\"symbol\": \"x\"}, \"mode\": \"lines+markers\", \"name\": \"ExtraTree Classifier\", \"x\": [\"accuracy\", \"auc\", \"MCC\", \"Precision\", \"Recall\"], \"y\": [0.9728626116546151, 0.9118571807310065, 0.8611601090925872, 0.921552436003303, 0.8328358208955224], \"type\": \"scatter\", \"uid\": \"e4ca6b89-b6be-4755-9de2-e1f7faff5895\"}, {\"marker\": {\"symbol\": \"x\"}, \"mode\": \"lines+markers\", \"name\": \"Bagging\", \"x\": [\"accuracy\", \"auc\", \"MCC\", \"Precision\", \"Recall\"], \"y\": [0.9724372607401106, 0.915193535443283, 0.8597186649826488, 0.9103392568659128, 0.841044776119403], \"type\": \"scatter\", \"uid\": \"111392da-7225-41f5-874a-4dd60b4c8d38\"}, {\"marker\": {\"symbol\": \"x\"}, \"mode\": \"lines+markers\", \"name\": \"Neural Network\", \"x\": [\"accuracy\", \"auc\", \"MCC\", \"Precision\", \"Recall\"], \"y\": [0.9727775414717141, 0.915193535443283, 0.8604042933260676, 0.9257095158597662, 0.8276119402985075], \"type\": \"scatter\", \"uid\": \"3113ac7f-a635-4c9d-9791-2c243967f399\"}], {\"title\": \"Result comparision for Features selected in Section 1\", \"yaxis\": {\"dtick\": 0.05, \"tick0\": 0}}, {\"showLink\": true, \"linkText\": \"Export to plot.ly\", \"plotlyServerURL\": \"https://plot.ly\"})});</script><script type=\"text/javascript\">window.addEventListener(\"resize\", function(){window._Plotly.Plots.resize(document.getElementById(\"d7832422-1842-4609-8c99-8ba09e0110a4\"));});</script>"
      ],
      "text/vnd.plotly.v1+html": [
       "<div id=\"d7832422-1842-4609-8c99-8ba09e0110a4\" style=\"height: 525px; width: 100%;\" class=\"plotly-graph-div\"></div><script type=\"text/javascript\">require([\"plotly\"], function(Plotly) { window.PLOTLYENV=window.PLOTLYENV || {};window.PLOTLYENV.BASE_URL=\"https://plot.ly\";Plotly.newPlot(\"d7832422-1842-4609-8c99-8ba09e0110a4\", [{\"mode\": \"lines\", \"name\": \"KNN_model\", \"x\": [\"accuracy\", \"auc\", \"MCC\", \"Precision\", \"Recall\"], \"y\": [0.9722671203743088, 0.9124965069037911, 0.8584337657970927, 0.9142156862745098, 0.8350746268656717], \"type\": \"scatter\", \"uid\": \"805530a8-486f-45c5-9b61-10d5fd41d9ee\"}, {\"mode\": \"lines+markers\", \"name\": \"XGB\", \"x\": [\"accuracy\", \"auc\", \"MCC\", \"Precision\", \"Recall\"], \"y\": [0.9749042960442365, 0.9178862647874406, 0.8718579712987812, 0.9293344289235825, 0.8440298507462687], \"type\": \"scatter\", \"uid\": \"ddb39af0-e0cb-4039-aad1-caa792caeb88\"}, {\"marker\": {\"symbol\": \"x\"}, \"mode\": \"lines+markers\", \"name\": \"Random Forest\", \"x\": [\"accuracy\", \"auc\", \"MCC\", \"Precision\", \"Recall\"], \"y\": [0.973713313483624, 0.9133126374846842, 0.8654700049331553, 0.9270919635459818, 0.8350746268656717], \"type\": \"scatter\", \"uid\": \"c7e63339-c2c6-44b2-b296-383299ad1554\"}, {\"mode\": \"lines\", \"name\": \"Ada Boost\", \"x\": [\"accuracy\", \"auc\", \"MCC\", \"Precision\", \"Recall\"], \"y\": [0.9703955763504891, 0.9072136915040734, 0.848666810647649, 0.9065573770491804, 0.8253731343283582], \"type\": \"scatter\", \"uid\": \"ba5f1c4b-ee0f-4ade-b470-088cc8f65219\"}, {\"mode\": \"lines+markers\", \"name\": \"GradientBoosting\", \"x\": [\"accuracy\", \"auc\", \"MCC\", \"Precision\", \"Recall\"], \"y\": [0.9743938749468312, 0.9208494851713588, 0.8698824956994946, 0.917940466613033, 0.8514925373134329], \"type\": \"scatter\", \"uid\": \"77dde1eb-f97d-4e59-949d-94aac2bb9a55\"}, {\"marker\": {\"symbol\": \"x\"}, \"mode\": \"lines+markers\", \"name\": \"ExtraTree Classifier\", \"x\": [\"accuracy\", \"auc\", \"MCC\", \"Precision\", \"Recall\"], \"y\": [0.9728626116546151, 0.9118571807310065, 0.8611601090925872, 0.921552436003303, 0.8328358208955224], \"type\": \"scatter\", \"uid\": \"e4ca6b89-b6be-4755-9de2-e1f7faff5895\"}, {\"marker\": {\"symbol\": \"x\"}, \"mode\": \"lines+markers\", \"name\": \"Bagging\", \"x\": [\"accuracy\", \"auc\", \"MCC\", \"Precision\", \"Recall\"], \"y\": [0.9724372607401106, 0.915193535443283, 0.8597186649826488, 0.9103392568659128, 0.841044776119403], \"type\": \"scatter\", \"uid\": \"111392da-7225-41f5-874a-4dd60b4c8d38\"}, {\"marker\": {\"symbol\": \"x\"}, \"mode\": \"lines+markers\", \"name\": \"Neural Network\", \"x\": [\"accuracy\", \"auc\", \"MCC\", \"Precision\", \"Recall\"], \"y\": [0.9727775414717141, 0.915193535443283, 0.8604042933260676, 0.9257095158597662, 0.8276119402985075], \"type\": \"scatter\", \"uid\": \"3113ac7f-a635-4c9d-9791-2c243967f399\"}], {\"title\": \"Result comparision for Features selected in Section 1\", \"yaxis\": {\"dtick\": 0.05, \"tick0\": 0}}, {\"showLink\": true, \"linkText\": \"Export to plot.ly\", \"plotlyServerURL\": \"https://plot.ly\"})});</script><script type=\"text/javascript\">window.addEventListener(\"resize\", function(){window._Plotly.Plots.resize(document.getElementById(\"d7832422-1842-4609-8c99-8ba09e0110a4\"));});</script>"
      ]
     },
     "metadata": {},
     "output_type": "display_data"
    }
   ],
   "source": [
    "trace0 = go.Scatter(x=table_80_50_test.iloc[0].index.values[[0,7,8,9,10]],\n",
    "                    y=table_80_50_test.iloc[0].values[[0,7,8,9,10]],\n",
    "                    mode = 'lines',\n",
    "                    name = 'KNN_model')\n",
    "\n",
    "\n",
    "trace2 = go.Scatter(x=table_80_50_test.iloc[1].index.values[[0,7,8,9,10]],\n",
    "                    y=table_80_50_test.iloc[1].values[[0,7,8,9,10]],\n",
    "                    mode = 'lines+markers',marker=dict(symbol='x'),\n",
    "                    name = 'Random Forest')\n",
    "\n",
    "\n",
    "trace3 = go.Scatter(x=table_80_50_test.iloc[2].index.values[[0,7,8,9,10]],\n",
    "                    y=table_80_50_test.iloc[2].values[[0,7,8,9,10]],\n",
    "                    mode = 'lines',\n",
    "                    name = 'Ada Boost')\n",
    "\n",
    "trace4 = go.Scatter(x=table_80_50_test.iloc[3].index.values[[0,7,8,9,10]],\n",
    "                    y=table_80_50_test.iloc[3].values[[0,7,8,9,10]],\n",
    "                    mode = 'lines+markers',\n",
    "                    name = 'GradientBoosting')\n",
    "\n",
    "trace5 = go.Scatter(x=table_80_50_test.iloc[4].index.values[[0,7,8,9,10]],\n",
    "                    y=table_80_50_test.iloc[4].values[[0,7,8,9,10]],\n",
    "                    mode = 'lines+markers',marker=dict(symbol='x'),\n",
    "                    name = 'ExtraTree Classifier')\n",
    "\n",
    "\n",
    "trace1 = go.Scatter(x=table_80_50_test.iloc[5].index.values[[0,7,8,9,10]],\n",
    "                    y=table_80_50_test.iloc[5].values[[0,7,8,9,10]],\n",
    "                    mode = 'lines+markers',\n",
    "                    name = 'XGB')\n",
    "\n",
    "\n",
    "trace6 = go.Scatter(x=table_80_50_test.iloc[6].index.values[[0,7,8,9,10]],\n",
    "                    y=table_80_50_test.iloc[6].values[[0,7,8,9,10]],\n",
    "                    mode = 'lines+markers',marker=dict(symbol='x'),\n",
    "                    name = 'Bagging')\n",
    "\n",
    "trace7 = go.Scatter(x=table_80_50_test.iloc[7].index.values[[0,7,8,9,10]],\n",
    "                    y=table_80_50_test.iloc[7].values[[0,7,8,9,10]],\n",
    "                    mode = 'lines+markers',marker=dict(symbol='x'),\n",
    "                    name = 'Neural Network')\n",
    "\n",
    "\n",
    "\n",
    "data = [trace0, trace1, trace2, trace3, trace4, trace5, trace6, trace7]\n",
    "layout = go.Layout(yaxis=dict(tick0=0,dtick=0.05),title='Result comparision for Features selected in Section 1')\n",
    "fig = go.Figure(data=data, layout=layout)\n",
    "\n",
    "iplot(fig, filename='Result')"
   ]
  },
  {
   "cell_type": "code",
   "execution_count": 72,
   "metadata": {},
   "outputs": [
    {
     "name": "stdout",
     "output_type": "stream",
     "text": [
      "Training Results\n"
     ]
    },
    {
     "data": {
      "text/html": [
       "<div>\n",
       "<style scoped>\n",
       "    .dataframe tbody tr th:only-of-type {\n",
       "        vertical-align: middle;\n",
       "    }\n",
       "\n",
       "    .dataframe tbody tr th {\n",
       "        vertical-align: top;\n",
       "    }\n",
       "\n",
       "    .dataframe thead th {\n",
       "        text-align: right;\n",
       "    }\n",
       "</style>\n",
       "<table border=\"1\" class=\"dataframe\">\n",
       "  <thead>\n",
       "    <tr style=\"text-align: right;\">\n",
       "      <th></th>\n",
       "      <th>accuracy</th>\n",
       "      <th>TP</th>\n",
       "      <th>TN</th>\n",
       "      <th>FP</th>\n",
       "      <th>FN</th>\n",
       "      <th>FPR</th>\n",
       "      <th>FNR</th>\n",
       "    </tr>\n",
       "    <tr>\n",
       "      <th>index</th>\n",
       "      <th></th>\n",
       "      <th></th>\n",
       "      <th></th>\n",
       "      <th></th>\n",
       "      <th></th>\n",
       "      <th></th>\n",
       "      <th></th>\n",
       "    </tr>\n",
       "  </thead>\n",
       "  <tbody>\n",
       "    <tr>\n",
       "      <th>KNeighborsClassifier</th>\n",
       "      <td>0.978088</td>\n",
       "      <td>2684.0</td>\n",
       "      <td>24143.0</td>\n",
       "      <td>184.0</td>\n",
       "      <td>417.0</td>\n",
       "      <td>0.007564</td>\n",
       "      <td>0.134473</td>\n",
       "    </tr>\n",
       "    <tr>\n",
       "      <th>RandomForestClassifier</th>\n",
       "      <td>0.991906</td>\n",
       "      <td>2932.0</td>\n",
       "      <td>24274.0</td>\n",
       "      <td>53.0</td>\n",
       "      <td>169.0</td>\n",
       "      <td>0.002179</td>\n",
       "      <td>0.054499</td>\n",
       "    </tr>\n",
       "    <tr>\n",
       "      <th>AdaBoostClassifier</th>\n",
       "      <td>0.973786</td>\n",
       "      <td>2605.0</td>\n",
       "      <td>24104.0</td>\n",
       "      <td>223.0</td>\n",
       "      <td>496.0</td>\n",
       "      <td>0.009167</td>\n",
       "      <td>0.159948</td>\n",
       "    </tr>\n",
       "    <tr>\n",
       "      <th>GradientBoostingClassifier</th>\n",
       "      <td>0.977869</td>\n",
       "      <td>2676.0</td>\n",
       "      <td>24145.0</td>\n",
       "      <td>182.0</td>\n",
       "      <td>425.0</td>\n",
       "      <td>0.007481</td>\n",
       "      <td>0.137053</td>\n",
       "    </tr>\n",
       "    <tr>\n",
       "      <th>ExtraTreeClassifier</th>\n",
       "      <td>0.993656</td>\n",
       "      <td>2947.0</td>\n",
       "      <td>24307.0</td>\n",
       "      <td>20.0</td>\n",
       "      <td>154.0</td>\n",
       "      <td>0.000822</td>\n",
       "      <td>0.049661</td>\n",
       "    </tr>\n",
       "    <tr>\n",
       "      <th>XGB</th>\n",
       "      <td>0.977177</td>\n",
       "      <td>2639.0</td>\n",
       "      <td>24163.0</td>\n",
       "      <td>164.0</td>\n",
       "      <td>462.0</td>\n",
       "      <td>0.006741</td>\n",
       "      <td>0.148984</td>\n",
       "    </tr>\n",
       "    <tr>\n",
       "      <th>BaggingClassifier</th>\n",
       "      <td>0.991469</td>\n",
       "      <td>2925.0</td>\n",
       "      <td>24269.0</td>\n",
       "      <td>58.0</td>\n",
       "      <td>176.0</td>\n",
       "      <td>0.002384</td>\n",
       "      <td>0.056756</td>\n",
       "    </tr>\n",
       "    <tr>\n",
       "      <th>Neural Network-1</th>\n",
       "      <td>0.984869</td>\n",
       "      <td>2758.0</td>\n",
       "      <td>24255.0</td>\n",
       "      <td>72.0</td>\n",
       "      <td>343.0</td>\n",
       "      <td>0.002960</td>\n",
       "      <td>0.110609</td>\n",
       "    </tr>\n",
       "  </tbody>\n",
       "</table>\n",
       "</div>"
      ],
      "text/plain": [
       "                            accuracy      TP       TN     FP     FN       FPR  \\\n",
       "index                                                                           \n",
       "KNeighborsClassifier        0.978088  2684.0  24143.0  184.0  417.0  0.007564   \n",
       "RandomForestClassifier      0.991906  2932.0  24274.0   53.0  169.0  0.002179   \n",
       "AdaBoostClassifier          0.973786  2605.0  24104.0  223.0  496.0  0.009167   \n",
       "GradientBoostingClassifier  0.977869  2676.0  24145.0  182.0  425.0  0.007481   \n",
       "ExtraTreeClassifier         0.993656  2947.0  24307.0   20.0  154.0  0.000822   \n",
       "XGB                         0.977177  2639.0  24163.0  164.0  462.0  0.006741   \n",
       "BaggingClassifier           0.991469  2925.0  24269.0   58.0  176.0  0.002384   \n",
       "Neural Network-1            0.984869  2758.0  24255.0   72.0  343.0  0.002960   \n",
       "\n",
       "                                 FNR  \n",
       "index                                 \n",
       "KNeighborsClassifier        0.134473  \n",
       "RandomForestClassifier      0.054499  \n",
       "AdaBoostClassifier          0.159948  \n",
       "GradientBoostingClassifier  0.137053  \n",
       "ExtraTreeClassifier         0.049661  \n",
       "XGB                         0.148984  \n",
       "BaggingClassifier           0.056756  \n",
       "Neural Network-1            0.110609  "
      ]
     },
     "metadata": {},
     "output_type": "display_data"
    },
    {
     "name": "stdout",
     "output_type": "stream",
     "text": [
      "Test Results\n"
     ]
    },
    {
     "data": {
      "text/html": [
       "<div>\n",
       "<style scoped>\n",
       "    .dataframe tbody tr th:only-of-type {\n",
       "        vertical-align: middle;\n",
       "    }\n",
       "\n",
       "    .dataframe tbody tr th {\n",
       "        vertical-align: top;\n",
       "    }\n",
       "\n",
       "    .dataframe thead th {\n",
       "        text-align: right;\n",
       "    }\n",
       "</style>\n",
       "<table border=\"1\" class=\"dataframe\">\n",
       "  <thead>\n",
       "    <tr style=\"text-align: right;\">\n",
       "      <th></th>\n",
       "      <th>accuracy</th>\n",
       "      <th>TP</th>\n",
       "      <th>TN</th>\n",
       "      <th>FP</th>\n",
       "      <th>FN</th>\n",
       "      <th>FPR</th>\n",
       "      <th>FNR</th>\n",
       "      <th>auc</th>\n",
       "      <th>MCC</th>\n",
       "      <th>Precision</th>\n",
       "      <th>Recall</th>\n",
       "    </tr>\n",
       "    <tr>\n",
       "      <th>index</th>\n",
       "      <th></th>\n",
       "      <th></th>\n",
       "      <th></th>\n",
       "      <th></th>\n",
       "      <th></th>\n",
       "      <th></th>\n",
       "      <th></th>\n",
       "      <th></th>\n",
       "      <th></th>\n",
       "      <th></th>\n",
       "      <th></th>\n",
       "    </tr>\n",
       "  </thead>\n",
       "  <tbody>\n",
       "    <tr>\n",
       "      <th>KNeighborsClassifier</th>\n",
       "      <td>0.972267</td>\n",
       "      <td>1119.0</td>\n",
       "      <td>10310.0</td>\n",
       "      <td>105.0</td>\n",
       "      <td>221.0</td>\n",
       "      <td>0.010082</td>\n",
       "      <td>0.164925</td>\n",
       "      <td>0.912497</td>\n",
       "      <td>0.858434</td>\n",
       "      <td>0.914216</td>\n",
       "      <td>0.835075</td>\n",
       "    </tr>\n",
       "    <tr>\n",
       "      <th>RandomForestClassifier</th>\n",
       "      <td>0.973713</td>\n",
       "      <td>1119.0</td>\n",
       "      <td>10327.0</td>\n",
       "      <td>88.0</td>\n",
       "      <td>221.0</td>\n",
       "      <td>0.008449</td>\n",
       "      <td>0.164925</td>\n",
       "      <td>0.913313</td>\n",
       "      <td>0.865470</td>\n",
       "      <td>0.927092</td>\n",
       "      <td>0.835075</td>\n",
       "    </tr>\n",
       "    <tr>\n",
       "      <th>AdaBoostClassifier</th>\n",
       "      <td>0.970396</td>\n",
       "      <td>1106.0</td>\n",
       "      <td>10301.0</td>\n",
       "      <td>114.0</td>\n",
       "      <td>234.0</td>\n",
       "      <td>0.010946</td>\n",
       "      <td>0.174627</td>\n",
       "      <td>0.907214</td>\n",
       "      <td>0.848667</td>\n",
       "      <td>0.906557</td>\n",
       "      <td>0.825373</td>\n",
       "    </tr>\n",
       "    <tr>\n",
       "      <th>GradientBoostingClassifier</th>\n",
       "      <td>0.974394</td>\n",
       "      <td>1141.0</td>\n",
       "      <td>10313.0</td>\n",
       "      <td>102.0</td>\n",
       "      <td>199.0</td>\n",
       "      <td>0.009794</td>\n",
       "      <td>0.148507</td>\n",
       "      <td>0.920849</td>\n",
       "      <td>0.869882</td>\n",
       "      <td>0.917940</td>\n",
       "      <td>0.851493</td>\n",
       "    </tr>\n",
       "    <tr>\n",
       "      <th>ExtraTreeClassifier</th>\n",
       "      <td>0.972863</td>\n",
       "      <td>1116.0</td>\n",
       "      <td>10320.0</td>\n",
       "      <td>95.0</td>\n",
       "      <td>224.0</td>\n",
       "      <td>0.009121</td>\n",
       "      <td>0.167164</td>\n",
       "      <td>0.911857</td>\n",
       "      <td>0.861160</td>\n",
       "      <td>0.921552</td>\n",
       "      <td>0.832836</td>\n",
       "    </tr>\n",
       "    <tr>\n",
       "      <th>XGB</th>\n",
       "      <td>0.974904</td>\n",
       "      <td>1131.0</td>\n",
       "      <td>10329.0</td>\n",
       "      <td>86.0</td>\n",
       "      <td>209.0</td>\n",
       "      <td>0.008257</td>\n",
       "      <td>0.155970</td>\n",
       "      <td>0.917886</td>\n",
       "      <td>0.871858</td>\n",
       "      <td>0.929334</td>\n",
       "      <td>0.844030</td>\n",
       "    </tr>\n",
       "    <tr>\n",
       "      <th>BaggingClassifier</th>\n",
       "      <td>0.972437</td>\n",
       "      <td>1127.0</td>\n",
       "      <td>10304.0</td>\n",
       "      <td>111.0</td>\n",
       "      <td>213.0</td>\n",
       "      <td>0.010658</td>\n",
       "      <td>0.158955</td>\n",
       "      <td>0.915194</td>\n",
       "      <td>0.859719</td>\n",
       "      <td>0.910339</td>\n",
       "      <td>0.841045</td>\n",
       "    </tr>\n",
       "    <tr>\n",
       "      <th>Neural Network-1</th>\n",
       "      <td>0.972778</td>\n",
       "      <td>1109.0</td>\n",
       "      <td>10326.0</td>\n",
       "      <td>89.0</td>\n",
       "      <td>231.0</td>\n",
       "      <td>0.008545</td>\n",
       "      <td>0.172388</td>\n",
       "      <td>0.915194</td>\n",
       "      <td>0.860404</td>\n",
       "      <td>0.925710</td>\n",
       "      <td>0.827612</td>\n",
       "    </tr>\n",
       "  </tbody>\n",
       "</table>\n",
       "</div>"
      ],
      "text/plain": [
       "                            accuracy      TP       TN     FP     FN       FPR  \\\n",
       "index                                                                           \n",
       "KNeighborsClassifier        0.972267  1119.0  10310.0  105.0  221.0  0.010082   \n",
       "RandomForestClassifier      0.973713  1119.0  10327.0   88.0  221.0  0.008449   \n",
       "AdaBoostClassifier          0.970396  1106.0  10301.0  114.0  234.0  0.010946   \n",
       "GradientBoostingClassifier  0.974394  1141.0  10313.0  102.0  199.0  0.009794   \n",
       "ExtraTreeClassifier         0.972863  1116.0  10320.0   95.0  224.0  0.009121   \n",
       "XGB                         0.974904  1131.0  10329.0   86.0  209.0  0.008257   \n",
       "BaggingClassifier           0.972437  1127.0  10304.0  111.0  213.0  0.010658   \n",
       "Neural Network-1            0.972778  1109.0  10326.0   89.0  231.0  0.008545   \n",
       "\n",
       "                                 FNR       auc       MCC  Precision    Recall  \n",
       "index                                                                          \n",
       "KNeighborsClassifier        0.164925  0.912497  0.858434   0.914216  0.835075  \n",
       "RandomForestClassifier      0.164925  0.913313  0.865470   0.927092  0.835075  \n",
       "AdaBoostClassifier          0.174627  0.907214  0.848667   0.906557  0.825373  \n",
       "GradientBoostingClassifier  0.148507  0.920849  0.869882   0.917940  0.851493  \n",
       "ExtraTreeClassifier         0.167164  0.911857  0.861160   0.921552  0.832836  \n",
       "XGB                         0.155970  0.917886  0.871858   0.929334  0.844030  \n",
       "BaggingClassifier           0.158955  0.915194  0.859719   0.910339  0.841045  \n",
       "Neural Network-1            0.172388  0.915194  0.860404   0.925710  0.827612  "
      ]
     },
     "metadata": {},
     "output_type": "display_data"
    }
   ],
   "source": [
    "table_80_50_train['index']=ind_columns\n",
    "table_80_50_test['index']=ind_columns\n",
    "\n",
    "\n",
    "table_80_50_test.set_index(['index'],drop=True,inplace=True)\n",
    "table_80_50_train.set_index(['index'],drop=True,inplace=True)\n",
    "\n",
    "print(\"Training Results\")\n",
    "display(table_80_50_train)\n",
    "print(\"Test Results\")\n",
    "display(table_80_50_test)"
   ]
  },
  {
   "cell_type": "markdown",
   "metadata": {},
   "source": [
    "### <a id='4.B' style=\"text-decoration : none; color : #000000;\"> B. Average Feature Importances</a>"
   ]
  },
  {
   "cell_type": "code",
   "execution_count": 74,
   "metadata": {},
   "outputs": [
    {
     "data": {
      "application/vnd.plotly.v1+json": {
       "config": {
        "linkText": "Export to plot.ly",
        "plotlyServerURL": "https://plot.ly",
        "showLink": true
       },
       "data": [
        {
         "marker": {
          "color": "rgb(158,202,225)",
          "line": {
           "color": "rgb(8,48,107)",
           "width": 1.5
          }
         },
         "opacity": 0.6,
         "orientation": "h",
         "text": [
          0.1494,
          0.1262,
          0.0849,
          0.0736,
          0.0654,
          0.0462,
          0.0346,
          0.0345,
          0.0334,
          0.0281,
          0.0273,
          0.0264,
          0.0254,
          0.0232,
          0.0193,
          0.0193,
          0.0188,
          0.0172,
          0.017,
          0.0165,
          0.015,
          0.0136,
          0.0131,
          0.0119,
          0.0109,
          0.01,
          0.0081,
          0.0074,
          0.0061,
          0.0058,
          0.0049,
          0.0034,
          0.0029
         ],
         "textposition": "outside",
         "type": "bar",
         "uid": "cfbf0eb6-13eb-4d22-9cd1-2206743f2d35",
         "x": [
          0.14938478389901372,
          0.12619549510434516,
          0.08492159162365782,
          0.07359588276100384,
          0.0654426742226901,
          0.04621747428260233,
          0.03461002799049516,
          0.03446540044462897,
          0.033404446450829815,
          0.028115771162723013,
          0.02731028395362231,
          0.026423909022296167,
          0.02542552785047575,
          0.023204232457872842,
          0.019336657436166655,
          0.019302032372877146,
          0.018835717384900863,
          0.01716860307316634,
          0.01702123495863187,
          0.01647535661663014,
          0.0150400743474579,
          0.013614215451061586,
          0.013107492340985002,
          0.01191064274186877,
          0.010938204127695698,
          0.009971922108271046,
          0.00807113864747735,
          0.007395388069221484,
          0.006098772129402194,
          0.005845818766184588,
          0.004869709043746981,
          0.0033987888037653466,
          0.002880731192422368
         ],
         "y": [
          "a_href_out_of_domain / a_count",
          "url_extensions + url_length",
          "a_href_https / a_count",
          "http_header_content-encoding_gzip / url_char_.",
          "url_char_w + url_length",
          "url_char_w + url_extensions",
          "url_char_z + url_extensions",
          "url_char_. + url_char_z",
          "http_header_content-encoding_gzip / http_header_content-length",
          "url_char_. + url_char_w",
          "http_header_vary_user-agent / http_header_content-length",
          "url_char_p + url_extensions",
          "url_char_l + url_extensions",
          "url_char_w * url_length",
          "http_header_server_apache + url_char_w",
          "url_char_.",
          "url_char_y * url_extensions",
          "http_header_vary_user-agent + url_char_.",
          "url_char_. * url_char_z",
          "url_char_. * url_char_w",
          "http_header_server_apache + url_char_.",
          "url_char_l + url_char_w",
          "url_char_f + url_extensions",
          "url_char_w * url_extensions",
          "url_char_w + url_char_z",
          "url_char_. + url_char_f",
          "url_char_w + url_char_y",
          "url_char_z * url_length",
          "http_header_vary_user-agent / url_char_z",
          "url_char_. + url_char_y",
          "url_char_y / url_char_z",
          "url_char_w",
          "url_char_f + url_char_w"
         ]
        }
       ],
       "layout": {
        "autosize": false,
        "height": 1000,
        "width": 1000,
        "xaxis": {
         "tickfont": {
          "color": "black",
          "size": 12
         },
         "title": "Feature Importances"
        },
        "yaxis": {
         "automargin": true
        }
       }
      },
      "text/html": [
       "<div id=\"e24bd287-6628-40ef-8c2b-4e8b304337d0\" style=\"height: 1000px; width: 1000px;\" class=\"plotly-graph-div\"></div><script type=\"text/javascript\">require([\"plotly\"], function(Plotly) { window.PLOTLYENV=window.PLOTLYENV || {};window.PLOTLYENV.BASE_URL=\"https://plot.ly\";Plotly.newPlot(\"e24bd287-6628-40ef-8c2b-4e8b304337d0\", [{\"marker\": {\"color\": \"rgb(158,202,225)\", \"line\": {\"color\": \"rgb(8,48,107)\", \"width\": 1.5}}, \"opacity\": 0.6, \"orientation\": \"h\", \"text\": [0.1494, 0.1262, 0.0849, 0.0736, 0.0654, 0.0462, 0.0346, 0.0345, 0.0334, 0.0281, 0.0273, 0.0264, 0.0254, 0.0232, 0.0193, 0.0193, 0.0188, 0.0172, 0.017, 0.0165, 0.015, 0.0136, 0.0131, 0.0119, 0.0109, 0.01, 0.0081, 0.0074, 0.0061, 0.0058, 0.0049, 0.0034, 0.0029], \"textposition\": \"outside\", \"x\": [0.14938478389901372, 0.12619549510434516, 0.08492159162365782, 0.07359588276100384, 0.0654426742226901, 0.04621747428260233, 0.03461002799049516, 0.03446540044462897, 0.033404446450829815, 0.028115771162723013, 0.02731028395362231, 0.026423909022296167, 0.02542552785047575, 0.023204232457872842, 0.019336657436166655, 0.019302032372877146, 0.018835717384900863, 0.01716860307316634, 0.01702123495863187, 0.01647535661663014, 0.0150400743474579, 0.013614215451061586, 0.013107492340985002, 0.01191064274186877, 0.010938204127695698, 0.009971922108271046, 0.00807113864747735, 0.007395388069221484, 0.006098772129402194, 0.005845818766184588, 0.004869709043746981, 0.0033987888037653466, 0.002880731192422368], \"y\": [\"a_href_out_of_domain / a_count\", \"url_extensions + url_length\", \"a_href_https / a_count\", \"http_header_content-encoding_gzip / url_char_.\", \"url_char_w + url_length\", \"url_char_w + url_extensions\", \"url_char_z + url_extensions\", \"url_char_. + url_char_z\", \"http_header_content-encoding_gzip / http_header_content-length\", \"url_char_. + url_char_w\", \"http_header_vary_user-agent / http_header_content-length\", \"url_char_p + url_extensions\", \"url_char_l + url_extensions\", \"url_char_w * url_length\", \"http_header_server_apache + url_char_w\", \"url_char_.\", \"url_char_y * url_extensions\", \"http_header_vary_user-agent + url_char_.\", \"url_char_. * url_char_z\", \"url_char_. * url_char_w\", \"http_header_server_apache + url_char_.\", \"url_char_l + url_char_w\", \"url_char_f + url_extensions\", \"url_char_w * url_extensions\", \"url_char_w + url_char_z\", \"url_char_. + url_char_f\", \"url_char_w + url_char_y\", \"url_char_z * url_length\", \"http_header_vary_user-agent / url_char_z\", \"url_char_. + url_char_y\", \"url_char_y / url_char_z\", \"url_char_w\", \"url_char_f + url_char_w\"], \"type\": \"bar\", \"uid\": \"cfbf0eb6-13eb-4d22-9cd1-2206743f2d35\"}], {\"autosize\": false, \"height\": 1000, \"width\": 1000, \"xaxis\": {\"tickfont\": {\"color\": \"black\", \"size\": 12}, \"title\": \"Feature Importances\"}, \"yaxis\": {\"automargin\": true}}, {\"showLink\": true, \"linkText\": \"Export to plot.ly\", \"plotlyServerURL\": \"https://plot.ly\"})});</script>"
      ],
      "text/vnd.plotly.v1+html": [
       "<div id=\"e24bd287-6628-40ef-8c2b-4e8b304337d0\" style=\"height: 1000px; width: 1000px;\" class=\"plotly-graph-div\"></div><script type=\"text/javascript\">require([\"plotly\"], function(Plotly) { window.PLOTLYENV=window.PLOTLYENV || {};window.PLOTLYENV.BASE_URL=\"https://plot.ly\";Plotly.newPlot(\"e24bd287-6628-40ef-8c2b-4e8b304337d0\", [{\"marker\": {\"color\": \"rgb(158,202,225)\", \"line\": {\"color\": \"rgb(8,48,107)\", \"width\": 1.5}}, \"opacity\": 0.6, \"orientation\": \"h\", \"text\": [0.1494, 0.1262, 0.0849, 0.0736, 0.0654, 0.0462, 0.0346, 0.0345, 0.0334, 0.0281, 0.0273, 0.0264, 0.0254, 0.0232, 0.0193, 0.0193, 0.0188, 0.0172, 0.017, 0.0165, 0.015, 0.0136, 0.0131, 0.0119, 0.0109, 0.01, 0.0081, 0.0074, 0.0061, 0.0058, 0.0049, 0.0034, 0.0029], \"textposition\": \"outside\", \"x\": [0.14938478389901372, 0.12619549510434516, 0.08492159162365782, 0.07359588276100384, 0.0654426742226901, 0.04621747428260233, 0.03461002799049516, 0.03446540044462897, 0.033404446450829815, 0.028115771162723013, 0.02731028395362231, 0.026423909022296167, 0.02542552785047575, 0.023204232457872842, 0.019336657436166655, 0.019302032372877146, 0.018835717384900863, 0.01716860307316634, 0.01702123495863187, 0.01647535661663014, 0.0150400743474579, 0.013614215451061586, 0.013107492340985002, 0.01191064274186877, 0.010938204127695698, 0.009971922108271046, 0.00807113864747735, 0.007395388069221484, 0.006098772129402194, 0.005845818766184588, 0.004869709043746981, 0.0033987888037653466, 0.002880731192422368], \"y\": [\"a_href_out_of_domain / a_count\", \"url_extensions + url_length\", \"a_href_https / a_count\", \"http_header_content-encoding_gzip / url_char_.\", \"url_char_w + url_length\", \"url_char_w + url_extensions\", \"url_char_z + url_extensions\", \"url_char_. + url_char_z\", \"http_header_content-encoding_gzip / http_header_content-length\", \"url_char_. + url_char_w\", \"http_header_vary_user-agent / http_header_content-length\", \"url_char_p + url_extensions\", \"url_char_l + url_extensions\", \"url_char_w * url_length\", \"http_header_server_apache + url_char_w\", \"url_char_.\", \"url_char_y * url_extensions\", \"http_header_vary_user-agent + url_char_.\", \"url_char_. * url_char_z\", \"url_char_. * url_char_w\", \"http_header_server_apache + url_char_.\", \"url_char_l + url_char_w\", \"url_char_f + url_extensions\", \"url_char_w * url_extensions\", \"url_char_w + url_char_z\", \"url_char_. + url_char_f\", \"url_char_w + url_char_y\", \"url_char_z * url_length\", \"http_header_vary_user-agent / url_char_z\", \"url_char_. + url_char_y\", \"url_char_y / url_char_z\", \"url_char_w\", \"url_char_f + url_char_w\"], \"type\": \"bar\", \"uid\": \"cfbf0eb6-13eb-4d22-9cd1-2206743f2d35\"}], {\"autosize\": false, \"height\": 1000, \"width\": 1000, \"xaxis\": {\"tickfont\": {\"color\": \"black\", \"size\": 12}, \"title\": \"Feature Importances\"}, \"yaxis\": {\"automargin\": true}}, {\"showLink\": true, \"linkText\": \"Export to plot.ly\", \"plotlyServerURL\": \"https://plot.ly\"})});</script>"
      ]
     },
     "metadata": {},
     "output_type": "display_data"
    }
   ],
   "source": [
    "feat_impt_plot(np.average(feat_imp,axis=0),feature_name)"
   ]
  },
  {
   "cell_type": "markdown",
   "metadata": {},
   "source": [
    "### <a id='5' style=\"text-decoration : none; color : #000000;\">5. Feature Transformation with PCA </a>"
   ]
  },
  {
   "cell_type": "code",
   "execution_count": 75,
   "metadata": {},
   "outputs": [
    {
     "name": "stderr",
     "output_type": "stream",
     "text": [
      "distributed.core - INFO - Event loop was unresponsive in Nanny for 158.21s.  This is often caused by long-running GIL-holding functions or moving large chunks of data. This can cause timeouts and instability.\n",
      "distributed.core - INFO - Event loop was unresponsive in Nanny for 158.21s.  This is often caused by long-running GIL-holding functions or moving large chunks of data. This can cause timeouts and instability.\n",
      "distributed.core - INFO - Event loop was unresponsive in Nanny for 158.21s.  This is often caused by long-running GIL-holding functions or moving large chunks of data. This can cause timeouts and instability.\n",
      "distributed.core - INFO - Event loop was unresponsive in Nanny for 158.21s.  This is often caused by long-running GIL-holding functions or moving large chunks of data. This can cause timeouts and instability.\n",
      "distributed.core - INFO - Event loop was unresponsive in Nanny for 158.22s.  This is often caused by long-running GIL-holding functions or moving large chunks of data. This can cause timeouts and instability.\n",
      "distributed.core - INFO - Event loop was unresponsive in Nanny for 158.21s.  This is often caused by long-running GIL-holding functions or moving large chunks of data. This can cause timeouts and instability.\n",
      "distributed.core - INFO - Event loop was unresponsive in Nanny for 158.21s.  This is often caused by long-running GIL-holding functions or moving large chunks of data. This can cause timeouts and instability.\n",
      "distributed.core - INFO - Event loop was unresponsive in Nanny for 158.21s.  This is often caused by long-running GIL-holding functions or moving large chunks of data. This can cause timeouts and instability.\n",
      "distributed.core - INFO - Event loop was unresponsive in Nanny for 158.22s.  This is often caused by long-running GIL-holding functions or moving large chunks of data. This can cause timeouts and instability.\n",
      "distributed.core - INFO - Event loop was unresponsive in Nanny for 158.21s.  This is often caused by long-running GIL-holding functions or moving large chunks of data. This can cause timeouts and instability.\n",
      "distributed.core - INFO - Event loop was unresponsive in Nanny for 158.22s.  This is often caused by long-running GIL-holding functions or moving large chunks of data. This can cause timeouts and instability.\n",
      "distributed.core - INFO - Event loop was unresponsive in Nanny for 158.22s.  This is often caused by long-running GIL-holding functions or moving large chunks of data. This can cause timeouts and instability.\n",
      "distributed.core - INFO - Event loop was unresponsive in Nanny for 158.23s.  This is often caused by long-running GIL-holding functions or moving large chunks of data. This can cause timeouts and instability.\n",
      "distributed.core - INFO - Event loop was unresponsive in Nanny for 158.22s.  This is often caused by long-running GIL-holding functions or moving large chunks of data. This can cause timeouts and instability.\n",
      "distributed.core - INFO - Event loop was unresponsive in Nanny for 158.23s.  This is often caused by long-running GIL-holding functions or moving large chunks of data. This can cause timeouts and instability.\n",
      "distributed.core - INFO - Event loop was unresponsive in Nanny for 158.22s.  This is often caused by long-running GIL-holding functions or moving large chunks of data. This can cause timeouts and instability.\n",
      "distributed.core - INFO - Event loop was unresponsive in Nanny for 158.23s.  This is often caused by long-running GIL-holding functions or moving large chunks of data. This can cause timeouts and instability.\n",
      "distributed.core - INFO - Event loop was unresponsive in Nanny for 158.22s.  This is often caused by long-running GIL-holding functions or moving large chunks of data. This can cause timeouts and instability.\n",
      "distributed.core - INFO - Event loop was unresponsive in Nanny for 158.22s.  This is often caused by long-running GIL-holding functions or moving large chunks of data. This can cause timeouts and instability.\n",
      "distributed.core - INFO - Event loop was unresponsive in Nanny for 158.22s.  This is often caused by long-running GIL-holding functions or moving large chunks of data. This can cause timeouts and instability.\n",
      "distributed.core - INFO - Event loop was unresponsive in Nanny for 158.22s.  This is often caused by long-running GIL-holding functions or moving large chunks of data. This can cause timeouts and instability.\n",
      "distributed.core - INFO - Event loop was unresponsive in Nanny for 158.23s.  This is often caused by long-running GIL-holding functions or moving large chunks of data. This can cause timeouts and instability.\n"
     ]
    },
    {
     "data": {
      "image/png": "[encoded data removed]",
      "text/plain": [
       "<Figure size 720x576 with 1 Axes>"
      ]
     },
     "metadata": {},
     "output_type": "display_data"
    }
   ],
   "source": [
    "X=fs.loc[:,fs.columns!='Target']\n",
    "y=fs.Target.values\n",
    "feature_name = X.columns.tolist()\n",
    "X=np.nan_to_num(X)\n",
    "scaler=StandardScaler()\n",
    "scaled_X=scaler.fit_transform(X)\n",
    "\n",
    "sns.set_style('whitegrid')\n",
    "pca = PCA(random_state=0)\n",
    "pca.fit(scaled_X)\n",
    "plt.figure(1, figsize=(10, 8))\n",
    "plt.plot(np.cumsum(pca.explained_variance_ratio_),'--o', linewidth=2)\n",
    "plt.axis('tight')\n",
    "plt.xlabel('Number of Components',size=14)\n",
    "plt.xticks(size=12)\n",
    "plt.xlim([0,200])\n",
    "plt.ylabel('% Explained Variance',size=14)\n",
    "plt.yticks(size=12)\n",
    "plt.title('% Variance Explained by Principal Components',size=14,y=1.05)\n",
    "plt.show()"
   ]
  },
  {
   "cell_type": "code",
   "execution_count": 76,
   "metadata": {},
   "outputs": [
    {
     "name": "stdout",
     "output_type": "stream",
     "text": [
      "Variance explained using 175 components is: 0.7944361842977952\n"
     ]
    }
   ],
   "source": [
    "pca=PCA(n_components=175,whiten=True,random_state=0)\n",
    "X_pca_21=pca.fit_transform(scaled_X)\n",
    "print(\"Variance explained using 175 components is:\",sum(pca.explained_variance_ratio_))"
   ]
  },
  {
   "cell_type": "code",
   "execution_count": 77,
   "metadata": {},
   "outputs": [],
   "source": [
    "X_train=X_pca_21[:27428]\n",
    "Y_train=fs.iloc[:27428]['Target'].values\n",
    "X_test=X_pca_21[27428:]\n",
    "Y_test=fs.iloc[27428:]['Target'].values\n",
    "\n",
    "## Table to store training and test measures so we can compare later\n",
    "table_80_70_train=pd.DataFrame(columns=['accuracy','TP','TN','FP','FN','FPR','FNR'])\n",
    "table_80_70_test=pd.DataFrame(columns=['accuracy','TP','TN','FP','FN','FPR','FNR','auc','mcc'])"
   ]
  },
  {
   "cell_type": "code",
   "execution_count": 84,
   "metadata": {
    "scrolled": false
   },
   "outputs": [
    {
     "name": "stdout",
     "output_type": "stream",
     "text": [
      "\u001b[1mK-Nearest Neighbors\u001b[0m\n",
      "Accuracy of the model for training data is: 0.9802027125565116\n",
      "Confusion Matrix for training data is:\n"
     ]
    },
    {
     "data": {
      "text/plain": [
       "Predicted  False  True  __all__\n",
       "Actual                         \n",
       "False      24222   105    24327\n",
       "True         438  2663     3101\n",
       "__all__    24660  2768    27428"
      ]
     },
     "metadata": {},
     "output_type": "display_data"
    },
    {
     "name": "stdout",
     "output_type": "stream",
     "text": [
      "Accuracy of the model for test data is: 0.9721820501914079\n",
      "Confusion Matrix for test data is:\n"
     ]
    },
    {
     "data": {
      "text/plain": [
       "Predicted  False  True  __all__\n",
       "Actual                         \n",
       "False      10348    67    10415\n",
       "True         260  1080     1340\n",
       "__all__    10608  1147    11755"
      ]
     },
     "metadata": {},
     "output_type": "display_data"
    },
    {
     "name": "stdout",
     "output_type": "stream",
     "text": [
      "\n",
      "\n",
      "\u001b[1mRandomForest Classifier\u001b[0m\n",
      "Accuracy of the model for training data is: 0.996208254338632\n",
      "Confusion Matrix for training data is:\n"
     ]
    },
    {
     "data": {
      "text/plain": [
       "Predicted  False  True  __all__\n",
       "Actual                         \n",
       "False      24321     6    24327\n",
       "True          98  3003     3101\n",
       "__all__    24419  3009    27428"
      ]
     },
     "metadata": {},
     "output_type": "display_data"
    },
    {
     "name": "stdout",
     "output_type": "stream",
     "text": [
      "Accuracy of the model for test data is: 0.971246278179498\n",
      "Confusion Matrix for test data is:\n"
     ]
    },
    {
     "data": {
      "text/plain": [
       "Predicted  False  True  __all__\n",
       "Actual                         \n",
       "False      10351    64    10415\n",
       "True         274  1066     1340\n",
       "__all__    10625  1130    11755"
      ]
     },
     "metadata": {},
     "output_type": "display_data"
    },
    {
     "data": {
      "application/vnd.plotly.v1+json": {
       "config": {
        "linkText": "Export to plot.ly",
        "plotlyServerURL": "https://plot.ly",
        "showLink": true
       },
       "data": [
        {
         "marker": {
          "color": "rgb(158,202,225)",
          "line": {
           "color": "rgb(8,48,107)",
           "width": 1.5
          }
         },
         "opacity": 0.6,
         "orientation": "h",
         "text": [
          0.1477,
          0.1293,
          0.0852,
          0.0329,
          0.0321,
          0.0304,
          0.0208,
          0.02,
          0.0138,
          0.0114,
          0.0102,
          0.0099,
          0.009,
          0.0089,
          0.0088,
          0.0086,
          0.0084,
          0.0075,
          0.0074,
          0.007,
          0.0069,
          0.0069,
          0.0067,
          0.0067,
          0.0063,
          0.0062,
          0.0061,
          0.0061,
          0.006,
          0.0059,
          0.0056,
          0.0054,
          0.0054,
          0.005,
          0.0049,
          0.0049,
          0.0047,
          0.0046,
          0.0045,
          0.0045,
          0.0043,
          0.0043,
          0.0041,
          0.0041,
          0.004,
          0.004,
          0.0039,
          0.0038,
          0.0038,
          0.0037,
          0.0036,
          0.0036,
          0.0035,
          0.0034,
          0.0034,
          0.0034,
          0.0033,
          0.0032,
          0.0032,
          0.0031,
          0.0031,
          0.0031,
          0.003,
          0.003,
          0.003,
          0.003,
          0.0029,
          0.0029,
          0.0027,
          0.0027,
          0.0027,
          0.0026,
          0.0026,
          0.0026,
          0.0026,
          0.0026,
          0.0025,
          0.0025,
          0.0024,
          0.0023,
          0.0023,
          0.0023,
          0.0022,
          0.0022,
          0.0022,
          0.0022,
          0.0022,
          0.0022,
          0.0021,
          0.0021,
          0.0021,
          0.0021,
          0.002,
          0.002,
          0.002,
          0.002,
          0.002,
          0.002,
          0.002,
          0.002,
          0.0019,
          0.0019,
          0.0019,
          0.0018,
          0.0018,
          0.0018,
          0.0018,
          0.0018,
          0.0018,
          0.0018,
          0.0018,
          0.0018,
          0.0018,
          0.0018,
          0.0018,
          0.0017,
          0.0017,
          0.0017,
          0.0017,
          0.0017,
          0.0017,
          0.0017,
          0.0017,
          0.0016,
          0.0016,
          0.0016,
          0.0016,
          0.0016,
          0.0016,
          0.0016,
          0.0016,
          0.0015,
          0.0015,
          0.0015,
          0.0015,
          0.0015,
          0.0015,
          0.0015,
          0.0015,
          0.0014,
          0.0014,
          0.0014,
          0.0014,
          0.0014,
          0.0013,
          0.0013,
          0.0013,
          0.0013,
          0.0013,
          0.0013,
          0.0013,
          0.0013,
          0.0013,
          0.0012,
          0.0012,
          0.0012,
          0.0012,
          0.0012,
          0.0011,
          0.0011,
          0.0011,
          0.0011,
          0.001,
          0.001,
          0.001,
          0.001,
          0.001,
          0.001,
          0.001,
          0.001,
          0.0009,
          0.0009,
          0.0009,
          0.0008,
          0.0005
         ],
         "textposition": "outside",
         "type": "bar",
         "uid": "02b736fd-f036-47cf-8cfe-efc247c6acc8",
         "x": [
          0.1476639265139643,
          0.12933103809594754,
          0.08516335820929424,
          0.03287098368843905,
          0.03206557936774783,
          0.030380900118201482,
          0.020813124022830563,
          0.019993064919310327,
          0.013786745451525395,
          0.0113600420471548,
          0.010238765853526862,
          0.00994832852701641,
          0.009017054189482673,
          0.008903755011857792,
          0.008802247142014859,
          0.008590160521788685,
          0.008417828466510255,
          0.007507955223315872,
          0.007445030582149047,
          0.0069816276369054405,
          0.006938997378119596,
          0.006914934648937232,
          0.006729194035463635,
          0.006656795328348376,
          0.006256118831313109,
          0.006213992407071841,
          0.006129504732263875,
          0.00610250948384876,
          0.006023137156526065,
          0.005869558004065794,
          0.005568397258169937,
          0.0054481270000011775,
          0.005410456708238499,
          0.004964645995648083,
          0.004936088796601769,
          0.004918132318187862,
          0.004691443072119732,
          0.004574611886341195,
          0.004501006647340389,
          0.004460338132187619,
          0.00430665392761042,
          0.004269991503260973,
          0.004148618078595005,
          0.004085893817783161,
          0.004014471281170594,
          0.003999418145747677,
          0.003914179812565406,
          0.003808002931249324,
          0.003775768422577127,
          0.0036636883607210568,
          0.0036265736375777568,
          0.0036245911962832695,
          0.0034975740015596043,
          0.0034008745675536784,
          0.0033828382469350813,
          0.0033521311886983264,
          0.0032509216786113238,
          0.0032123382773318414,
          0.003188935925147037,
          0.003126995738256898,
          0.0030768808888421892,
          0.0030622491457688835,
          0.003024826876228597,
          0.00302184851358124,
          0.0030108716042587936,
          0.0029723982186200737,
          0.002895984600098236,
          0.002854707701459266,
          0.002739868761766469,
          0.002685635427354352,
          0.0026836022965794014,
          0.0026456216709538198,
          0.0026031139938373442,
          0.0026011312258289294,
          0.002565309485415768,
          0.0025519211770115226,
          0.00245908724814863,
          0.0024533924400677487,
          0.0024365273533098674,
          0.0023445373639726826,
          0.0023270434823834227,
          0.0023172040764966326,
          0.0022165895655543743,
          0.0022065960065284643,
          0.0021997684393391045,
          0.002190920533706711,
          0.0021863276522161427,
          0.0021585752864064396,
          0.0020892415778043538,
          0.002083128365432789,
          0.0020812002483311986,
          0.002069123757114829,
          0.0020195384161309686,
          0.0020135768762190903,
          0.001992998196801776,
          0.0019886409894768506,
          0.001983543202655441,
          0.0019824407924632003,
          0.0019682203946516422,
          0.0019589494540471182,
          0.0019217908588325511,
          0.0018764587099412626,
          0.0018528831090068565,
          0.0018433356311871505,
          0.0018256467541491884,
          0.0018241200102786057,
          0.0018229980527894583,
          0.0018051262482036419,
          0.0017956094411935232,
          0.0017837350296661743,
          0.0017790975482729007,
          0.001778291854436843,
          0.001777302390550957,
          0.001769642903499698,
          0.0017602197274539128,
          0.0017479674739063974,
          0.0017479340824650303,
          0.0017268888099742652,
          0.0017109841481134792,
          0.0017062686796723667,
          0.0016934909930802753,
          0.0016912446871093175,
          0.0016708800066101946,
          0.0016374070608726227,
          0.0016287576646609628,
          0.001627245571870732,
          0.001618368076590652,
          0.0016120478517921435,
          0.0015883170973435268,
          0.0015828532981351502,
          0.001552419006154708,
          0.0015325228768489582,
          0.0015317661867776534,
          0.0015316976147474683,
          0.0014969626770561671,
          0.001471131545007096,
          0.0014608141853263356,
          0.001458809227499916,
          0.0014555233827253347,
          0.001449111890746457,
          0.0014275088395156984,
          0.001422525721716855,
          0.0014016903828860093,
          0.0013531868502788885,
          0.0013171504347535578,
          0.0013148768836894209,
          0.0013119992150052487,
          0.0013060519101436143,
          0.0012964455076032127,
          0.0012739939616490073,
          0.0012711361522322853,
          0.0012706091683934288,
          0.001263521694650586,
          0.0012224548286135562,
          0.0012187754227605215,
          0.0012181743390057896,
          0.0012066900576962099,
          0.0011980369198876738,
          0.0011475466399856631,
          0.00114715232110382,
          0.0011352721881278717,
          0.0010712736557693808,
          0.001048963944453905,
          0.0010397740627572697,
          0.0010378387029202642,
          0.001016688757966501,
          0.0010118814185966394,
          0.0010072718619235695,
          0.001000910939838588,
          0.000988065616663041,
          0.000903215476681015,
          0.0009012593565952314,
          0.0008920347520959951,
          0.0007943005746897663,
          0.00045093961892208836
         ],
         "y": [
          "0",
          "1",
          "2",
          "6",
          "4",
          "3",
          "48",
          "5",
          "39",
          "46",
          "52",
          "31",
          "32",
          "13",
          "11",
          "12",
          "30",
          "112",
          "40",
          "44",
          "37",
          "22",
          "50",
          "8",
          "75",
          "41",
          "21",
          "35",
          "38",
          "36",
          "90",
          "89",
          "43",
          "33",
          "24",
          "45",
          "18",
          "100",
          "51",
          "82",
          "7",
          "78",
          "23",
          "9",
          "77",
          "102",
          "55",
          "56",
          "103",
          "66",
          "92",
          "58",
          "108",
          "20",
          "93",
          "49",
          "62",
          "42",
          "70",
          "81",
          "60",
          "34",
          "15",
          "86",
          "74",
          "116",
          "59",
          "84",
          "114",
          "110",
          "10",
          "83",
          "14",
          "99",
          "17",
          "141",
          "120",
          "73",
          "122",
          "28",
          "79",
          "85",
          "63",
          "139",
          "72",
          "16",
          "105",
          "119",
          "95",
          "104",
          "91",
          "146",
          "26",
          "163",
          "133",
          "165",
          "97",
          "47",
          "76",
          "107",
          "98",
          "124",
          "67",
          "149",
          "61",
          "162",
          "154",
          "68",
          "155",
          "19",
          "150",
          "88",
          "64",
          "148",
          "71",
          "160",
          "27",
          "136",
          "96",
          "169",
          "80",
          "140",
          "111",
          "113",
          "137",
          "135",
          "129",
          "29",
          "101",
          "138",
          "147",
          "159",
          "144",
          "106",
          "57",
          "151",
          "87",
          "25",
          "166",
          "127",
          "164",
          "109",
          "115",
          "121",
          "118",
          "153",
          "168",
          "128",
          "172",
          "143",
          "65",
          "173",
          "131",
          "53",
          "134",
          "117",
          "152",
          "145",
          "174",
          "158",
          "170",
          "130",
          "125",
          "54",
          "156",
          "94",
          "142",
          "126",
          "157",
          "171",
          "132",
          "167",
          "69",
          "161",
          "123"
         ]
        }
       ],
       "layout": {
        "autosize": false,
        "height": 1000,
        "width": 1000,
        "xaxis": {
         "tickfont": {
          "color": "black",
          "size": 12
         },
         "title": "Feature Importances"
        },
        "yaxis": {
         "automargin": true
        }
       }
      },
      "text/html": [
       "<div id=\"349916ab-5f51-4ac4-a6c9-ed80e867702d\" style=\"height: 1000px; width: 1000px;\" class=\"plotly-graph-div\"></div><script type=\"text/javascript\">require([\"plotly\"], function(Plotly) { window.PLOTLYENV=window.PLOTLYENV || {};window.PLOTLYENV.BASE_URL=\"https://plot.ly\";Plotly.newPlot(\"349916ab-5f51-4ac4-a6c9-ed80e867702d\", [{\"marker\": {\"color\": \"rgb(158,202,225)\", \"line\": {\"color\": \"rgb(8,48,107)\", \"width\": 1.5}}, \"opacity\": 0.6, \"orientation\": \"h\", \"text\": [0.1477, 0.1293, 0.0852, 0.0329, 0.0321, 0.0304, 0.0208, 0.02, 0.0138, 0.0114, 0.0102, 0.0099, 0.009, 0.0089, 0.0088, 0.0086, 0.0084, 0.0075, 0.0074, 0.007, 0.0069, 0.0069, 0.0067, 0.0067, 0.0063, 0.0062, 0.0061, 0.0061, 0.006, 0.0059, 0.0056, 0.0054, 0.0054, 0.005, 0.0049, 0.0049, 0.0047, 0.0046, 0.0045, 0.0045, 0.0043, 0.0043, 0.0041, 0.0041, 0.004, 0.004, 0.0039, 0.0038, 0.0038, 0.0037, 0.0036, 0.0036, 0.0035, 0.0034, 0.0034, 0.0034, 0.0033, 0.0032, 0.0032, 0.0031, 0.0031, 0.0031, 0.003, 0.003, 0.003, 0.003, 0.0029, 0.0029, 0.0027, 0.0027, 0.0027, 0.0026, 0.0026, 0.0026, 0.0026, 0.0026, 0.0025, 0.0025, 0.0024, 0.0023, 0.0023, 0.0023, 0.0022, 0.0022, 0.0022, 0.0022, 0.0022, 0.0022, 0.0021, 0.0021, 0.0021, 0.0021, 0.002, 0.002, 0.002, 0.002, 0.002, 0.002, 0.002, 0.002, 0.0019, 0.0019, 0.0019, 0.0018, 0.0018, 0.0018, 0.0018, 0.0018, 0.0018, 0.0018, 0.0018, 0.0018, 0.0018, 0.0018, 0.0018, 0.0017, 0.0017, 0.0017, 0.0017, 0.0017, 0.0017, 0.0017, 0.0017, 0.0016, 0.0016, 0.0016, 0.0016, 0.0016, 0.0016, 0.0016, 0.0016, 0.0015, 0.0015, 0.0015, 0.0015, 0.0015, 0.0015, 0.0015, 0.0015, 0.0014, 0.0014, 0.0014, 0.0014, 0.0014, 0.0013, 0.0013, 0.0013, 0.0013, 0.0013, 0.0013, 0.0013, 0.0013, 0.0013, 0.0012, 0.0012, 0.0012, 0.0012, 0.0012, 0.0011, 0.0011, 0.0011, 0.0011, 0.001, 0.001, 0.001, 0.001, 0.001, 0.001, 0.001, 0.001, 0.0009, 0.0009, 0.0009, 0.0008, 0.0005], \"textposition\": \"outside\", \"x\": [0.1476639265139643, 0.12933103809594754, 0.08516335820929424, 0.03287098368843905, 0.03206557936774783, 0.030380900118201482, 0.020813124022830563, 0.019993064919310327, 0.013786745451525395, 0.0113600420471548, 0.010238765853526862, 0.00994832852701641, 0.009017054189482673, 0.008903755011857792, 0.008802247142014859, 0.008590160521788685, 0.008417828466510255, 0.007507955223315872, 0.007445030582149047, 0.0069816276369054405, 0.006938997378119596, 0.006914934648937232, 0.006729194035463635, 0.006656795328348376, 0.006256118831313109, 0.006213992407071841, 0.006129504732263875, 0.00610250948384876, 0.006023137156526065, 0.005869558004065794, 0.005568397258169937, 0.0054481270000011775, 0.005410456708238499, 0.004964645995648083, 0.004936088796601769, 0.004918132318187862, 0.004691443072119732, 0.004574611886341195, 0.004501006647340389, 0.004460338132187619, 0.00430665392761042, 0.004269991503260973, 0.004148618078595005, 0.004085893817783161, 0.004014471281170594, 0.003999418145747677, 0.003914179812565406, 0.003808002931249324, 0.003775768422577127, 0.0036636883607210568, 0.0036265736375777568, 0.0036245911962832695, 0.0034975740015596043, 0.0034008745675536784, 0.0033828382469350813, 0.0033521311886983264, 0.0032509216786113238, 0.0032123382773318414, 0.003188935925147037, 0.003126995738256898, 0.0030768808888421892, 0.0030622491457688835, 0.003024826876228597, 0.00302184851358124, 0.0030108716042587936, 0.0029723982186200737, 0.002895984600098236, 0.002854707701459266, 0.002739868761766469, 0.002685635427354352, 0.0026836022965794014, 0.0026456216709538198, 0.0026031139938373442, 0.0026011312258289294, 0.002565309485415768, 0.0025519211770115226, 0.00245908724814863, 0.0024533924400677487, 0.0024365273533098674, 0.0023445373639726826, 0.0023270434823834227, 0.0023172040764966326, 0.0022165895655543743, 0.0022065960065284643, 0.0021997684393391045, 0.002190920533706711, 0.0021863276522161427, 0.0021585752864064396, 0.0020892415778043538, 0.002083128365432789, 0.0020812002483311986, 0.002069123757114829, 0.0020195384161309686, 0.0020135768762190903, 0.001992998196801776, 0.0019886409894768506, 0.001983543202655441, 0.0019824407924632003, 0.0019682203946516422, 0.0019589494540471182, 0.0019217908588325511, 0.0018764587099412626, 0.0018528831090068565, 0.0018433356311871505, 0.0018256467541491884, 0.0018241200102786057, 0.0018229980527894583, 0.0018051262482036419, 0.0017956094411935232, 0.0017837350296661743, 0.0017790975482729007, 0.001778291854436843, 0.001777302390550957, 0.001769642903499698, 0.0017602197274539128, 0.0017479674739063974, 0.0017479340824650303, 0.0017268888099742652, 0.0017109841481134792, 0.0017062686796723667, 0.0016934909930802753, 0.0016912446871093175, 0.0016708800066101946, 0.0016374070608726227, 0.0016287576646609628, 0.001627245571870732, 0.001618368076590652, 0.0016120478517921435, 0.0015883170973435268, 0.0015828532981351502, 0.001552419006154708, 0.0015325228768489582, 0.0015317661867776534, 0.0015316976147474683, 0.0014969626770561671, 0.001471131545007096, 0.0014608141853263356, 0.001458809227499916, 0.0014555233827253347, 0.001449111890746457, 0.0014275088395156984, 0.001422525721716855, 0.0014016903828860093, 0.0013531868502788885, 0.0013171504347535578, 0.0013148768836894209, 0.0013119992150052487, 0.0013060519101436143, 0.0012964455076032127, 0.0012739939616490073, 0.0012711361522322853, 0.0012706091683934288, 0.001263521694650586, 0.0012224548286135562, 0.0012187754227605215, 0.0012181743390057896, 0.0012066900576962099, 0.0011980369198876738, 0.0011475466399856631, 0.00114715232110382, 0.0011352721881278717, 0.0010712736557693808, 0.001048963944453905, 0.0010397740627572697, 0.0010378387029202642, 0.001016688757966501, 0.0010118814185966394, 0.0010072718619235695, 0.001000910939838588, 0.000988065616663041, 0.000903215476681015, 0.0009012593565952314, 0.0008920347520959951, 0.0007943005746897663, 0.00045093961892208836], \"y\": [\"0\", \"1\", \"2\", \"6\", \"4\", \"3\", \"48\", \"5\", \"39\", \"46\", \"52\", \"31\", \"32\", \"13\", \"11\", \"12\", \"30\", \"112\", \"40\", \"44\", \"37\", \"22\", \"50\", \"8\", \"75\", \"41\", \"21\", \"35\", \"38\", \"36\", \"90\", \"89\", \"43\", \"33\", \"24\", \"45\", \"18\", \"100\", \"51\", \"82\", \"7\", \"78\", \"23\", \"9\", \"77\", \"102\", \"55\", \"56\", \"103\", \"66\", \"92\", \"58\", \"108\", \"20\", \"93\", \"49\", \"62\", \"42\", \"70\", \"81\", \"60\", \"34\", \"15\", \"86\", \"74\", \"116\", \"59\", \"84\", \"114\", \"110\", \"10\", \"83\", \"14\", \"99\", \"17\", \"141\", \"120\", \"73\", \"122\", \"28\", \"79\", \"85\", \"63\", \"139\", \"72\", \"16\", \"105\", \"119\", \"95\", \"104\", \"91\", \"146\", \"26\", \"163\", \"133\", \"165\", \"97\", \"47\", \"76\", \"107\", \"98\", \"124\", \"67\", \"149\", \"61\", \"162\", \"154\", \"68\", \"155\", \"19\", \"150\", \"88\", \"64\", \"148\", \"71\", \"160\", \"27\", \"136\", \"96\", \"169\", \"80\", \"140\", \"111\", \"113\", \"137\", \"135\", \"129\", \"29\", \"101\", \"138\", \"147\", \"159\", \"144\", \"106\", \"57\", \"151\", \"87\", \"25\", \"166\", \"127\", \"164\", \"109\", \"115\", \"121\", \"118\", \"153\", \"168\", \"128\", \"172\", \"143\", \"65\", \"173\", \"131\", \"53\", \"134\", \"117\", \"152\", \"145\", \"174\", \"158\", \"170\", \"130\", \"125\", \"54\", \"156\", \"94\", \"142\", \"126\", \"157\", \"171\", \"132\", \"167\", \"69\", \"161\", \"123\"], \"type\": \"bar\", \"uid\": \"02b736fd-f036-47cf-8cfe-efc247c6acc8\"}], {\"autosize\": false, \"height\": 1000, \"width\": 1000, \"xaxis\": {\"tickfont\": {\"color\": \"black\", \"size\": 12}, \"title\": \"Feature Importances\"}, \"yaxis\": {\"automargin\": true}}, {\"showLink\": true, \"linkText\": \"Export to plot.ly\", \"plotlyServerURL\": \"https://plot.ly\"})});</script>"
      ],
      "text/vnd.plotly.v1+html": [
       "<div id=\"349916ab-5f51-4ac4-a6c9-ed80e867702d\" style=\"height: 1000px; width: 1000px;\" class=\"plotly-graph-div\"></div><script type=\"text/javascript\">require([\"plotly\"], function(Plotly) { window.PLOTLYENV=window.PLOTLYENV || {};window.PLOTLYENV.BASE_URL=\"https://plot.ly\";Plotly.newPlot(\"349916ab-5f51-4ac4-a6c9-ed80e867702d\", [{\"marker\": {\"color\": \"rgb(158,202,225)\", \"line\": {\"color\": \"rgb(8,48,107)\", \"width\": 1.5}}, \"opacity\": 0.6, \"orientation\": \"h\", \"text\": [0.1477, 0.1293, 0.0852, 0.0329, 0.0321, 0.0304, 0.0208, 0.02, 0.0138, 0.0114, 0.0102, 0.0099, 0.009, 0.0089, 0.0088, 0.0086, 0.0084, 0.0075, 0.0074, 0.007, 0.0069, 0.0069, 0.0067, 0.0067, 0.0063, 0.0062, 0.0061, 0.0061, 0.006, 0.0059, 0.0056, 0.0054, 0.0054, 0.005, 0.0049, 0.0049, 0.0047, 0.0046, 0.0045, 0.0045, 0.0043, 0.0043, 0.0041, 0.0041, 0.004, 0.004, 0.0039, 0.0038, 0.0038, 0.0037, 0.0036, 0.0036, 0.0035, 0.0034, 0.0034, 0.0034, 0.0033, 0.0032, 0.0032, 0.0031, 0.0031, 0.0031, 0.003, 0.003, 0.003, 0.003, 0.0029, 0.0029, 0.0027, 0.0027, 0.0027, 0.0026, 0.0026, 0.0026, 0.0026, 0.0026, 0.0025, 0.0025, 0.0024, 0.0023, 0.0023, 0.0023, 0.0022, 0.0022, 0.0022, 0.0022, 0.0022, 0.0022, 0.0021, 0.0021, 0.0021, 0.0021, 0.002, 0.002, 0.002, 0.002, 0.002, 0.002, 0.002, 0.002, 0.0019, 0.0019, 0.0019, 0.0018, 0.0018, 0.0018, 0.0018, 0.0018, 0.0018, 0.0018, 0.0018, 0.0018, 0.0018, 0.0018, 0.0018, 0.0017, 0.0017, 0.0017, 0.0017, 0.0017, 0.0017, 0.0017, 0.0017, 0.0016, 0.0016, 0.0016, 0.0016, 0.0016, 0.0016, 0.0016, 0.0016, 0.0015, 0.0015, 0.0015, 0.0015, 0.0015, 0.0015, 0.0015, 0.0015, 0.0014, 0.0014, 0.0014, 0.0014, 0.0014, 0.0013, 0.0013, 0.0013, 0.0013, 0.0013, 0.0013, 0.0013, 0.0013, 0.0013, 0.0012, 0.0012, 0.0012, 0.0012, 0.0012, 0.0011, 0.0011, 0.0011, 0.0011, 0.001, 0.001, 0.001, 0.001, 0.001, 0.001, 0.001, 0.001, 0.0009, 0.0009, 0.0009, 0.0008, 0.0005], \"textposition\": \"outside\", \"x\": [0.1476639265139643, 0.12933103809594754, 0.08516335820929424, 0.03287098368843905, 0.03206557936774783, 0.030380900118201482, 0.020813124022830563, 0.019993064919310327, 0.013786745451525395, 0.0113600420471548, 0.010238765853526862, 0.00994832852701641, 0.009017054189482673, 0.008903755011857792, 0.008802247142014859, 0.008590160521788685, 0.008417828466510255, 0.007507955223315872, 0.007445030582149047, 0.0069816276369054405, 0.006938997378119596, 0.006914934648937232, 0.006729194035463635, 0.006656795328348376, 0.006256118831313109, 0.006213992407071841, 0.006129504732263875, 0.00610250948384876, 0.006023137156526065, 0.005869558004065794, 0.005568397258169937, 0.0054481270000011775, 0.005410456708238499, 0.004964645995648083, 0.004936088796601769, 0.004918132318187862, 0.004691443072119732, 0.004574611886341195, 0.004501006647340389, 0.004460338132187619, 0.00430665392761042, 0.004269991503260973, 0.004148618078595005, 0.004085893817783161, 0.004014471281170594, 0.003999418145747677, 0.003914179812565406, 0.003808002931249324, 0.003775768422577127, 0.0036636883607210568, 0.0036265736375777568, 0.0036245911962832695, 0.0034975740015596043, 0.0034008745675536784, 0.0033828382469350813, 0.0033521311886983264, 0.0032509216786113238, 0.0032123382773318414, 0.003188935925147037, 0.003126995738256898, 0.0030768808888421892, 0.0030622491457688835, 0.003024826876228597, 0.00302184851358124, 0.0030108716042587936, 0.0029723982186200737, 0.002895984600098236, 0.002854707701459266, 0.002739868761766469, 0.002685635427354352, 0.0026836022965794014, 0.0026456216709538198, 0.0026031139938373442, 0.0026011312258289294, 0.002565309485415768, 0.0025519211770115226, 0.00245908724814863, 0.0024533924400677487, 0.0024365273533098674, 0.0023445373639726826, 0.0023270434823834227, 0.0023172040764966326, 0.0022165895655543743, 0.0022065960065284643, 0.0021997684393391045, 0.002190920533706711, 0.0021863276522161427, 0.0021585752864064396, 0.0020892415778043538, 0.002083128365432789, 0.0020812002483311986, 0.002069123757114829, 0.0020195384161309686, 0.0020135768762190903, 0.001992998196801776, 0.0019886409894768506, 0.001983543202655441, 0.0019824407924632003, 0.0019682203946516422, 0.0019589494540471182, 0.0019217908588325511, 0.0018764587099412626, 0.0018528831090068565, 0.0018433356311871505, 0.0018256467541491884, 0.0018241200102786057, 0.0018229980527894583, 0.0018051262482036419, 0.0017956094411935232, 0.0017837350296661743, 0.0017790975482729007, 0.001778291854436843, 0.001777302390550957, 0.001769642903499698, 0.0017602197274539128, 0.0017479674739063974, 0.0017479340824650303, 0.0017268888099742652, 0.0017109841481134792, 0.0017062686796723667, 0.0016934909930802753, 0.0016912446871093175, 0.0016708800066101946, 0.0016374070608726227, 0.0016287576646609628, 0.001627245571870732, 0.001618368076590652, 0.0016120478517921435, 0.0015883170973435268, 0.0015828532981351502, 0.001552419006154708, 0.0015325228768489582, 0.0015317661867776534, 0.0015316976147474683, 0.0014969626770561671, 0.001471131545007096, 0.0014608141853263356, 0.001458809227499916, 0.0014555233827253347, 0.001449111890746457, 0.0014275088395156984, 0.001422525721716855, 0.0014016903828860093, 0.0013531868502788885, 0.0013171504347535578, 0.0013148768836894209, 0.0013119992150052487, 0.0013060519101436143, 0.0012964455076032127, 0.0012739939616490073, 0.0012711361522322853, 0.0012706091683934288, 0.001263521694650586, 0.0012224548286135562, 0.0012187754227605215, 0.0012181743390057896, 0.0012066900576962099, 0.0011980369198876738, 0.0011475466399856631, 0.00114715232110382, 0.0011352721881278717, 0.0010712736557693808, 0.001048963944453905, 0.0010397740627572697, 0.0010378387029202642, 0.001016688757966501, 0.0010118814185966394, 0.0010072718619235695, 0.001000910939838588, 0.000988065616663041, 0.000903215476681015, 0.0009012593565952314, 0.0008920347520959951, 0.0007943005746897663, 0.00045093961892208836], \"y\": [\"0\", \"1\", \"2\", \"6\", \"4\", \"3\", \"48\", \"5\", \"39\", \"46\", \"52\", \"31\", \"32\", \"13\", \"11\", \"12\", \"30\", \"112\", \"40\", \"44\", \"37\", \"22\", \"50\", \"8\", \"75\", \"41\", \"21\", \"35\", \"38\", \"36\", \"90\", \"89\", \"43\", \"33\", \"24\", \"45\", \"18\", \"100\", \"51\", \"82\", \"7\", \"78\", \"23\", \"9\", \"77\", \"102\", \"55\", \"56\", \"103\", \"66\", \"92\", \"58\", \"108\", \"20\", \"93\", \"49\", \"62\", \"42\", \"70\", \"81\", \"60\", \"34\", \"15\", \"86\", \"74\", \"116\", \"59\", \"84\", \"114\", \"110\", \"10\", \"83\", \"14\", \"99\", \"17\", \"141\", \"120\", \"73\", \"122\", \"28\", \"79\", \"85\", \"63\", \"139\", \"72\", \"16\", \"105\", \"119\", \"95\", \"104\", \"91\", \"146\", \"26\", \"163\", \"133\", \"165\", \"97\", \"47\", \"76\", \"107\", \"98\", \"124\", \"67\", \"149\", \"61\", \"162\", \"154\", \"68\", \"155\", \"19\", \"150\", \"88\", \"64\", \"148\", \"71\", \"160\", \"27\", \"136\", \"96\", \"169\", \"80\", \"140\", \"111\", \"113\", \"137\", \"135\", \"129\", \"29\", \"101\", \"138\", \"147\", \"159\", \"144\", \"106\", \"57\", \"151\", \"87\", \"25\", \"166\", \"127\", \"164\", \"109\", \"115\", \"121\", \"118\", \"153\", \"168\", \"128\", \"172\", \"143\", \"65\", \"173\", \"131\", \"53\", \"134\", \"117\", \"152\", \"145\", \"174\", \"158\", \"170\", \"130\", \"125\", \"54\", \"156\", \"94\", \"142\", \"126\", \"157\", \"171\", \"132\", \"167\", \"69\", \"161\", \"123\"], \"type\": \"bar\", \"uid\": \"02b736fd-f036-47cf-8cfe-efc247c6acc8\"}], {\"autosize\": false, \"height\": 1000, \"width\": 1000, \"xaxis\": {\"tickfont\": {\"color\": \"black\", \"size\": 12}, \"title\": \"Feature Importances\"}, \"yaxis\": {\"automargin\": true}}, {\"showLink\": true, \"linkText\": \"Export to plot.ly\", \"plotlyServerURL\": \"https://plot.ly\"})});</script>"
      ]
     },
     "metadata": {},
     "output_type": "display_data"
    },
    {
     "name": "stdout",
     "output_type": "stream",
     "text": [
      "\n",
      "\n",
      "\u001b[1mAdaoost Classifier\u001b[0m\n",
      "Accuracy of the model for training data is: 0.9725098439550824\n",
      "Confusion Matrix for training data is:\n"
     ]
    },
    {
     "data": {
      "text/plain": [
       "Predicted  False  True  __all__\n",
       "Actual                         \n",
       "False      24051   276    24327\n",
       "True         478  2623     3101\n",
       "__all__    24529  2899    27428"
      ]
     },
     "metadata": {},
     "output_type": "display_data"
    },
    {
     "name": "stdout",
     "output_type": "stream",
     "text": [
      "Accuracy of the model for test data is: 0.9672479795831561\n",
      "Confusion Matrix for test data is:\n"
     ]
    },
    {
     "data": {
      "text/plain": [
       "Predicted  False  True  __all__\n",
       "Actual                         \n",
       "False      10256   159    10415\n",
       "True         226  1114     1340\n",
       "__all__    10482  1273    11755"
      ]
     },
     "metadata": {},
     "output_type": "display_data"
    },
    {
     "data": {
      "application/vnd.plotly.v1+json": {
       "config": {
        "linkText": "Export to plot.ly",
        "plotlyServerURL": "https://plot.ly",
        "showLink": true
       },
       "data": [
        {
         "marker": {
          "color": "rgb(158,202,225)",
          "line": {
           "color": "rgb(8,48,107)",
           "width": 1.5
          }
         },
         "opacity": 0.6,
         "orientation": "h",
         "text": [
          0.2,
          0.04,
          0.04,
          0.04,
          0.04,
          0.04,
          0.02,
          0.02,
          0.02,
          0.02,
          0.02,
          0.02,
          0.02,
          0.02,
          0.02,
          0.02,
          0.02,
          0.02,
          0.02,
          0.02,
          0.02,
          0.02,
          0.02,
          0.02,
          0.02,
          0.02,
          0.02,
          0.02,
          0.02,
          0.02,
          0.02,
          0.02,
          0.02,
          0.02,
          0.02,
          0.02,
          0,
          0,
          0,
          0,
          0,
          0,
          0,
          0,
          0,
          0,
          0,
          0,
          0,
          0,
          0,
          0,
          0,
          0,
          0,
          0,
          0,
          0,
          0,
          0,
          0,
          0,
          0,
          0,
          0,
          0,
          0,
          0,
          0,
          0,
          0,
          0,
          0,
          0,
          0,
          0,
          0,
          0,
          0,
          0,
          0,
          0,
          0,
          0,
          0,
          0,
          0,
          0,
          0,
          0,
          0,
          0,
          0,
          0,
          0,
          0,
          0,
          0,
          0,
          0,
          0,
          0,
          0,
          0,
          0,
          0,
          0,
          0,
          0,
          0,
          0,
          0,
          0,
          0,
          0,
          0,
          0,
          0,
          0,
          0,
          0,
          0,
          0,
          0,
          0,
          0,
          0,
          0,
          0,
          0,
          0,
          0,
          0,
          0,
          0,
          0,
          0,
          0,
          0,
          0,
          0,
          0,
          0,
          0,
          0,
          0,
          0,
          0,
          0,
          0,
          0,
          0,
          0,
          0,
          0,
          0,
          0,
          0,
          0,
          0,
          0,
          0,
          0,
          0,
          0,
          0,
          0,
          0,
          0,
          0,
          0,
          0,
          0,
          0,
          0
         ],
         "textposition": "outside",
         "type": "bar",
         "uid": "cadc745c-7a7a-4c9f-b943-ac2f57da8a68",
         "x": [
          0.2,
          0.04,
          0.04,
          0.04,
          0.04,
          0.04,
          0.02,
          0.02,
          0.02,
          0.02,
          0.02,
          0.02,
          0.02,
          0.02,
          0.02,
          0.02,
          0.02,
          0.02,
          0.02,
          0.02,
          0.02,
          0.02,
          0.02,
          0.02,
          0.02,
          0.02,
          0.02,
          0.02,
          0.02,
          0.02,
          0.02,
          0.02,
          0.02,
          0.02,
          0.02,
          0.02,
          0,
          0,
          0,
          0,
          0,
          0,
          0,
          0,
          0,
          0,
          0,
          0,
          0,
          0,
          0,
          0,
          0,
          0,
          0,
          0,
          0,
          0,
          0,
          0,
          0,
          0,
          0,
          0,
          0,
          0,
          0,
          0,
          0,
          0,
          0,
          0,
          0,
          0,
          0,
          0,
          0,
          0,
          0,
          0,
          0,
          0,
          0,
          0,
          0,
          0,
          0,
          0,
          0,
          0,
          0,
          0,
          0,
          0,
          0,
          0,
          0,
          0,
          0,
          0,
          0,
          0,
          0,
          0,
          0,
          0,
          0,
          0,
          0,
          0,
          0,
          0,
          0,
          0,
          0,
          0,
          0,
          0,
          0,
          0,
          0,
          0,
          0,
          0,
          0,
          0,
          0,
          0,
          0,
          0,
          0,
          0,
          0,
          0,
          0,
          0,
          0,
          0,
          0,
          0,
          0,
          0,
          0,
          0,
          0,
          0,
          0,
          0,
          0,
          0,
          0,
          0,
          0,
          0,
          0,
          0,
          0,
          0,
          0,
          0,
          0,
          0,
          0,
          0,
          0,
          0,
          0,
          0,
          0,
          0,
          0,
          0,
          0,
          0,
          0
         ],
         "y": [
          "0",
          "78",
          "4",
          "6",
          "48",
          "27",
          "118",
          "154",
          "31",
          "81",
          "150",
          "37",
          "80",
          "40",
          "41",
          "46",
          "44",
          "49",
          "50",
          "52",
          "72",
          "56",
          "58",
          "59",
          "138",
          "28",
          "32",
          "166",
          "21",
          "16",
          "5",
          "161",
          "3",
          "88",
          "1",
          "24",
          "130",
          "129",
          "131",
          "104",
          "109",
          "128",
          "105",
          "127",
          "106",
          "126",
          "107",
          "125",
          "108",
          "117",
          "110",
          "124",
          "116",
          "123",
          "111",
          "122",
          "112",
          "113",
          "121",
          "114",
          "115",
          "120",
          "119",
          "133",
          "132",
          "143",
          "134",
          "135",
          "157",
          "158",
          "159",
          "160",
          "162",
          "163",
          "164",
          "165",
          "167",
          "168",
          "169",
          "170",
          "171",
          "172",
          "173",
          "156",
          "155",
          "153",
          "102",
          "136",
          "137",
          "139",
          "140",
          "141",
          "142",
          "144",
          "152",
          "145",
          "146",
          "147",
          "148",
          "149",
          "151",
          "103",
          "87",
          "101",
          "100",
          "29",
          "30",
          "33",
          "34",
          "35",
          "36",
          "38",
          "39",
          "42",
          "43",
          "45",
          "47",
          "51",
          "53",
          "54",
          "26",
          "25",
          "23",
          "12",
          "2",
          "7",
          "8",
          "9",
          "10",
          "11",
          "13",
          "22",
          "14",
          "15",
          "17",
          "18",
          "19",
          "20",
          "55",
          "57",
          "60",
          "92",
          "84",
          "85",
          "86",
          "89",
          "90",
          "91",
          "93",
          "82",
          "94",
          "95",
          "96",
          "97",
          "98",
          "99",
          "83",
          "79",
          "61",
          "68",
          "62",
          "63",
          "64",
          "65",
          "66",
          "67",
          "69",
          "77",
          "70",
          "71",
          "73",
          "74",
          "75",
          "76",
          "174"
         ]
        }
       ],
       "layout": {
        "autosize": false,
        "height": 1000,
        "width": 1000,
        "xaxis": {
         "tickfont": {
          "color": "black",
          "size": 12
         },
         "title": "Feature Importances"
        },
        "yaxis": {
         "automargin": true
        }
       }
      },
      "text/html": [
       "<div id=\"8b0f7445-7e3a-4ca8-b410-68cbdeb4ea34\" style=\"height: 1000px; width: 1000px;\" class=\"plotly-graph-div\"></div><script type=\"text/javascript\">require([\"plotly\"], function(Plotly) { window.PLOTLYENV=window.PLOTLYENV || {};window.PLOTLYENV.BASE_URL=\"https://plot.ly\";Plotly.newPlot(\"8b0f7445-7e3a-4ca8-b410-68cbdeb4ea34\", [{\"marker\": {\"color\": \"rgb(158,202,225)\", \"line\": {\"color\": \"rgb(8,48,107)\", \"width\": 1.5}}, \"opacity\": 0.6, \"orientation\": \"h\", \"text\": [0.2, 0.04, 0.04, 0.04, 0.04, 0.04, 0.02, 0.02, 0.02, 0.02, 0.02, 0.02, 0.02, 0.02, 0.02, 0.02, 0.02, 0.02, 0.02, 0.02, 0.02, 0.02, 0.02, 0.02, 0.02, 0.02, 0.02, 0.02, 0.02, 0.02, 0.02, 0.02, 0.02, 0.02, 0.02, 0.02, 0.0, 0.0, 0.0, 0.0, 0.0, 0.0, 0.0, 0.0, 0.0, 0.0, 0.0, 0.0, 0.0, 0.0, 0.0, 0.0, 0.0, 0.0, 0.0, 0.0, 0.0, 0.0, 0.0, 0.0, 0.0, 0.0, 0.0, 0.0, 0.0, 0.0, 0.0, 0.0, 0.0, 0.0, 0.0, 0.0, 0.0, 0.0, 0.0, 0.0, 0.0, 0.0, 0.0, 0.0, 0.0, 0.0, 0.0, 0.0, 0.0, 0.0, 0.0, 0.0, 0.0, 0.0, 0.0, 0.0, 0.0, 0.0, 0.0, 0.0, 0.0, 0.0, 0.0, 0.0, 0.0, 0.0, 0.0, 0.0, 0.0, 0.0, 0.0, 0.0, 0.0, 0.0, 0.0, 0.0, 0.0, 0.0, 0.0, 0.0, 0.0, 0.0, 0.0, 0.0, 0.0, 0.0, 0.0, 0.0, 0.0, 0.0, 0.0, 0.0, 0.0, 0.0, 0.0, 0.0, 0.0, 0.0, 0.0, 0.0, 0.0, 0.0, 0.0, 0.0, 0.0, 0.0, 0.0, 0.0, 0.0, 0.0, 0.0, 0.0, 0.0, 0.0, 0.0, 0.0, 0.0, 0.0, 0.0, 0.0, 0.0, 0.0, 0.0, 0.0, 0.0, 0.0, 0.0, 0.0, 0.0, 0.0, 0.0, 0.0, 0.0, 0.0, 0.0, 0.0, 0.0, 0.0, 0.0], \"textposition\": \"outside\", \"x\": [0.2, 0.04, 0.04, 0.04, 0.04, 0.04, 0.02, 0.02, 0.02, 0.02, 0.02, 0.02, 0.02, 0.02, 0.02, 0.02, 0.02, 0.02, 0.02, 0.02, 0.02, 0.02, 0.02, 0.02, 0.02, 0.02, 0.02, 0.02, 0.02, 0.02, 0.02, 0.02, 0.02, 0.02, 0.02, 0.02, 0.0, 0.0, 0.0, 0.0, 0.0, 0.0, 0.0, 0.0, 0.0, 0.0, 0.0, 0.0, 0.0, 0.0, 0.0, 0.0, 0.0, 0.0, 0.0, 0.0, 0.0, 0.0, 0.0, 0.0, 0.0, 0.0, 0.0, 0.0, 0.0, 0.0, 0.0, 0.0, 0.0, 0.0, 0.0, 0.0, 0.0, 0.0, 0.0, 0.0, 0.0, 0.0, 0.0, 0.0, 0.0, 0.0, 0.0, 0.0, 0.0, 0.0, 0.0, 0.0, 0.0, 0.0, 0.0, 0.0, 0.0, 0.0, 0.0, 0.0, 0.0, 0.0, 0.0, 0.0, 0.0, 0.0, 0.0, 0.0, 0.0, 0.0, 0.0, 0.0, 0.0, 0.0, 0.0, 0.0, 0.0, 0.0, 0.0, 0.0, 0.0, 0.0, 0.0, 0.0, 0.0, 0.0, 0.0, 0.0, 0.0, 0.0, 0.0, 0.0, 0.0, 0.0, 0.0, 0.0, 0.0, 0.0, 0.0, 0.0, 0.0, 0.0, 0.0, 0.0, 0.0, 0.0, 0.0, 0.0, 0.0, 0.0, 0.0, 0.0, 0.0, 0.0, 0.0, 0.0, 0.0, 0.0, 0.0, 0.0, 0.0, 0.0, 0.0, 0.0, 0.0, 0.0, 0.0, 0.0, 0.0, 0.0, 0.0, 0.0, 0.0, 0.0, 0.0, 0.0, 0.0, 0.0, 0.0], \"y\": [\"0\", \"78\", \"4\", \"6\", \"48\", \"27\", \"118\", \"154\", \"31\", \"81\", \"150\", \"37\", \"80\", \"40\", \"41\", \"46\", \"44\", \"49\", \"50\", \"52\", \"72\", \"56\", \"58\", \"59\", \"138\", \"28\", \"32\", \"166\", \"21\", \"16\", \"5\", \"161\", \"3\", \"88\", \"1\", \"24\", \"130\", \"129\", \"131\", \"104\", \"109\", \"128\", \"105\", \"127\", \"106\", \"126\", \"107\", \"125\", \"108\", \"117\", \"110\", \"124\", \"116\", \"123\", \"111\", \"122\", \"112\", \"113\", \"121\", \"114\", \"115\", \"120\", \"119\", \"133\", \"132\", \"143\", \"134\", \"135\", \"157\", \"158\", \"159\", \"160\", \"162\", \"163\", \"164\", \"165\", \"167\", \"168\", \"169\", \"170\", \"171\", \"172\", \"173\", \"156\", \"155\", \"153\", \"102\", \"136\", \"137\", \"139\", \"140\", \"141\", \"142\", \"144\", \"152\", \"145\", \"146\", \"147\", \"148\", \"149\", \"151\", \"103\", \"87\", \"101\", \"100\", \"29\", \"30\", \"33\", \"34\", \"35\", \"36\", \"38\", \"39\", \"42\", \"43\", \"45\", \"47\", \"51\", \"53\", \"54\", \"26\", \"25\", \"23\", \"12\", \"2\", \"7\", \"8\", \"9\", \"10\", \"11\", \"13\", \"22\", \"14\", \"15\", \"17\", \"18\", \"19\", \"20\", \"55\", \"57\", \"60\", \"92\", \"84\", \"85\", \"86\", \"89\", \"90\", \"91\", \"93\", \"82\", \"94\", \"95\", \"96\", \"97\", \"98\", \"99\", \"83\", \"79\", \"61\", \"68\", \"62\", \"63\", \"64\", \"65\", \"66\", \"67\", \"69\", \"77\", \"70\", \"71\", \"73\", \"74\", \"75\", \"76\", \"174\"], \"type\": \"bar\", \"uid\": \"cadc745c-7a7a-4c9f-b943-ac2f57da8a68\"}], {\"autosize\": false, \"height\": 1000, \"width\": 1000, \"xaxis\": {\"tickfont\": {\"color\": \"black\", \"size\": 12}, \"title\": \"Feature Importances\"}, \"yaxis\": {\"automargin\": true}}, {\"showLink\": true, \"linkText\": \"Export to plot.ly\", \"plotlyServerURL\": \"https://plot.ly\"})});</script>"
      ],
      "text/vnd.plotly.v1+html": [
       "<div id=\"8b0f7445-7e3a-4ca8-b410-68cbdeb4ea34\" style=\"height: 1000px; width: 1000px;\" class=\"plotly-graph-div\"></div><script type=\"text/javascript\">require([\"plotly\"], function(Plotly) { window.PLOTLYENV=window.PLOTLYENV || {};window.PLOTLYENV.BASE_URL=\"https://plot.ly\";Plotly.newPlot(\"8b0f7445-7e3a-4ca8-b410-68cbdeb4ea34\", [{\"marker\": {\"color\": \"rgb(158,202,225)\", \"line\": {\"color\": \"rgb(8,48,107)\", \"width\": 1.5}}, \"opacity\": 0.6, \"orientation\": \"h\", \"text\": [0.2, 0.04, 0.04, 0.04, 0.04, 0.04, 0.02, 0.02, 0.02, 0.02, 0.02, 0.02, 0.02, 0.02, 0.02, 0.02, 0.02, 0.02, 0.02, 0.02, 0.02, 0.02, 0.02, 0.02, 0.02, 0.02, 0.02, 0.02, 0.02, 0.02, 0.02, 0.02, 0.02, 0.02, 0.02, 0.02, 0.0, 0.0, 0.0, 0.0, 0.0, 0.0, 0.0, 0.0, 0.0, 0.0, 0.0, 0.0, 0.0, 0.0, 0.0, 0.0, 0.0, 0.0, 0.0, 0.0, 0.0, 0.0, 0.0, 0.0, 0.0, 0.0, 0.0, 0.0, 0.0, 0.0, 0.0, 0.0, 0.0, 0.0, 0.0, 0.0, 0.0, 0.0, 0.0, 0.0, 0.0, 0.0, 0.0, 0.0, 0.0, 0.0, 0.0, 0.0, 0.0, 0.0, 0.0, 0.0, 0.0, 0.0, 0.0, 0.0, 0.0, 0.0, 0.0, 0.0, 0.0, 0.0, 0.0, 0.0, 0.0, 0.0, 0.0, 0.0, 0.0, 0.0, 0.0, 0.0, 0.0, 0.0, 0.0, 0.0, 0.0, 0.0, 0.0, 0.0, 0.0, 0.0, 0.0, 0.0, 0.0, 0.0, 0.0, 0.0, 0.0, 0.0, 0.0, 0.0, 0.0, 0.0, 0.0, 0.0, 0.0, 0.0, 0.0, 0.0, 0.0, 0.0, 0.0, 0.0, 0.0, 0.0, 0.0, 0.0, 0.0, 0.0, 0.0, 0.0, 0.0, 0.0, 0.0, 0.0, 0.0, 0.0, 0.0, 0.0, 0.0, 0.0, 0.0, 0.0, 0.0, 0.0, 0.0, 0.0, 0.0, 0.0, 0.0, 0.0, 0.0, 0.0, 0.0, 0.0, 0.0, 0.0, 0.0], \"textposition\": \"outside\", \"x\": [0.2, 0.04, 0.04, 0.04, 0.04, 0.04, 0.02, 0.02, 0.02, 0.02, 0.02, 0.02, 0.02, 0.02, 0.02, 0.02, 0.02, 0.02, 0.02, 0.02, 0.02, 0.02, 0.02, 0.02, 0.02, 0.02, 0.02, 0.02, 0.02, 0.02, 0.02, 0.02, 0.02, 0.02, 0.02, 0.02, 0.0, 0.0, 0.0, 0.0, 0.0, 0.0, 0.0, 0.0, 0.0, 0.0, 0.0, 0.0, 0.0, 0.0, 0.0, 0.0, 0.0, 0.0, 0.0, 0.0, 0.0, 0.0, 0.0, 0.0, 0.0, 0.0, 0.0, 0.0, 0.0, 0.0, 0.0, 0.0, 0.0, 0.0, 0.0, 0.0, 0.0, 0.0, 0.0, 0.0, 0.0, 0.0, 0.0, 0.0, 0.0, 0.0, 0.0, 0.0, 0.0, 0.0, 0.0, 0.0, 0.0, 0.0, 0.0, 0.0, 0.0, 0.0, 0.0, 0.0, 0.0, 0.0, 0.0, 0.0, 0.0, 0.0, 0.0, 0.0, 0.0, 0.0, 0.0, 0.0, 0.0, 0.0, 0.0, 0.0, 0.0, 0.0, 0.0, 0.0, 0.0, 0.0, 0.0, 0.0, 0.0, 0.0, 0.0, 0.0, 0.0, 0.0, 0.0, 0.0, 0.0, 0.0, 0.0, 0.0, 0.0, 0.0, 0.0, 0.0, 0.0, 0.0, 0.0, 0.0, 0.0, 0.0, 0.0, 0.0, 0.0, 0.0, 0.0, 0.0, 0.0, 0.0, 0.0, 0.0, 0.0, 0.0, 0.0, 0.0, 0.0, 0.0, 0.0, 0.0, 0.0, 0.0, 0.0, 0.0, 0.0, 0.0, 0.0, 0.0, 0.0, 0.0, 0.0, 0.0, 0.0, 0.0, 0.0], \"y\": [\"0\", \"78\", \"4\", \"6\", \"48\", \"27\", \"118\", \"154\", \"31\", \"81\", \"150\", \"37\", \"80\", \"40\", \"41\", \"46\", \"44\", \"49\", \"50\", \"52\", \"72\", \"56\", \"58\", \"59\", \"138\", \"28\", \"32\", \"166\", \"21\", \"16\", \"5\", \"161\", \"3\", \"88\", \"1\", \"24\", \"130\", \"129\", \"131\", \"104\", \"109\", \"128\", \"105\", \"127\", \"106\", \"126\", \"107\", \"125\", \"108\", \"117\", \"110\", \"124\", \"116\", \"123\", \"111\", \"122\", \"112\", \"113\", \"121\", \"114\", \"115\", \"120\", \"119\", \"133\", \"132\", \"143\", \"134\", \"135\", \"157\", \"158\", \"159\", \"160\", \"162\", \"163\", \"164\", \"165\", \"167\", \"168\", \"169\", \"170\", \"171\", \"172\", \"173\", \"156\", \"155\", \"153\", \"102\", \"136\", \"137\", \"139\", \"140\", \"141\", \"142\", \"144\", \"152\", \"145\", \"146\", \"147\", \"148\", \"149\", \"151\", \"103\", \"87\", \"101\", \"100\", \"29\", \"30\", \"33\", \"34\", \"35\", \"36\", \"38\", \"39\", \"42\", \"43\", \"45\", \"47\", \"51\", \"53\", \"54\", \"26\", \"25\", \"23\", \"12\", \"2\", \"7\", \"8\", \"9\", \"10\", \"11\", \"13\", \"22\", \"14\", \"15\", \"17\", \"18\", \"19\", \"20\", \"55\", \"57\", \"60\", \"92\", \"84\", \"85\", \"86\", \"89\", \"90\", \"91\", \"93\", \"82\", \"94\", \"95\", \"96\", \"97\", \"98\", \"99\", \"83\", \"79\", \"61\", \"68\", \"62\", \"63\", \"64\", \"65\", \"66\", \"67\", \"69\", \"77\", \"70\", \"71\", \"73\", \"74\", \"75\", \"76\", \"174\"], \"type\": \"bar\", \"uid\": \"cadc745c-7a7a-4c9f-b943-ac2f57da8a68\"}], {\"autosize\": false, \"height\": 1000, \"width\": 1000, \"xaxis\": {\"tickfont\": {\"color\": \"black\", \"size\": 12}, \"title\": \"Feature Importances\"}, \"yaxis\": {\"automargin\": true}}, {\"showLink\": true, \"linkText\": \"Export to plot.ly\", \"plotlyServerURL\": \"https://plot.ly\"})});</script>"
      ]
     },
     "metadata": {},
     "output_type": "display_data"
    },
    {
     "name": "stdout",
     "output_type": "stream",
     "text": [
      "\n",
      "\n",
      "\u001b[1mGradientBoosting Classifier\u001b[0m\n",
      "Accuracy of the model for training data is: 0.9804214671138982\n",
      "Confusion Matrix for training data is:\n"
     ]
    },
    {
     "data": {
      "text/plain": [
       "Predicted  False  True  __all__\n",
       "Actual                         \n",
       "False      24188   139    24327\n",
       "True         398  2703     3101\n",
       "__all__    24586  2842    27428"
      ]
     },
     "metadata": {},
     "output_type": "display_data"
    },
    {
     "name": "stdout",
     "output_type": "stream",
     "text": [
      "Accuracy of the model for test data is: 0.9726074011059124\n",
      "Confusion Matrix for test data is:\n"
     ]
    },
    {
     "data": {
      "text/plain": [
       "Predicted  False  True  __all__\n",
       "Actual                         \n",
       "False      10323    92    10415\n",
       "True         230  1110     1340\n",
       "__all__    10553  1202    11755"
      ]
     },
     "metadata": {},
     "output_type": "display_data"
    },
    {
     "data": {
      "application/vnd.plotly.v1+json": {
       "config": {
        "linkText": "Export to plot.ly",
        "plotlyServerURL": "https://plot.ly",
        "showLink": true
       },
       "data": [
        {
         "marker": {
          "color": "rgb(158,202,225)",
          "line": {
           "color": "rgb(8,48,107)",
           "width": 1.5
          }
         },
         "opacity": 0.6,
         "orientation": "h",
         "text": [
          0.7901,
          0.0649,
          0.0281,
          0.028,
          0.0111,
          0.0111,
          0.0107,
          0.0058,
          0.0046,
          0.0042,
          0.0034,
          0.0024,
          0.0022,
          0.0021,
          0.0017,
          0.0016,
          0.0014,
          0.0014,
          0.0012,
          0.0012,
          0.0012,
          0.0011,
          0.0011,
          0.001,
          0.001,
          0.001,
          0.0009,
          0.0009,
          0.0009,
          0.0009,
          0.0008,
          0.0008,
          0.0007,
          0.0007,
          0.0006,
          0.0006,
          0.0006,
          0.0005,
          0.0005,
          0.0005,
          0.0005,
          0.0004,
          0.0003,
          0.0003,
          0.0003,
          0.0003,
          0.0003,
          0.0003,
          0.0002,
          0.0002,
          0.0002,
          0.0002,
          0.0002,
          0.0002,
          0.0002,
          0.0002,
          0.0002,
          0.0002,
          0.0002,
          0.0002,
          0.0002,
          0.0002,
          0.0002,
          0.0001,
          0.0001,
          0.0001,
          0.0001,
          0.0001,
          0.0001,
          0.0001,
          0.0001,
          0.0001,
          0.0001,
          0.0001,
          0.0001,
          0.0001,
          0.0001,
          0,
          0,
          0,
          0,
          0,
          0,
          0,
          0,
          0,
          0,
          0,
          0,
          0,
          0,
          0,
          0,
          0,
          0,
          0,
          0,
          0,
          0,
          0,
          0,
          0,
          0,
          0,
          0,
          0,
          0,
          0,
          0,
          0,
          0,
          0,
          0,
          0,
          0,
          0,
          0,
          0,
          0,
          0,
          0,
          0,
          0,
          0,
          0,
          0,
          0,
          0,
          0,
          0,
          0,
          0,
          0,
          0,
          0,
          0,
          0,
          0,
          0,
          0,
          0,
          0,
          0,
          0,
          0,
          0,
          0,
          0,
          0,
          0,
          0,
          0,
          0,
          0,
          0,
          0,
          0,
          0,
          0,
          0,
          0,
          0,
          0,
          0,
          0,
          0,
          0,
          0,
          0,
          0,
          0,
          0,
          0,
          0,
          0
         ],
         "textposition": "outside",
         "type": "bar",
         "uid": "9c0d6075-5609-4048-8019-181f0f38c9fa",
         "x": [
          0.790091788935281,
          0.06489439097089401,
          0.028130496829382234,
          0.027980810724022486,
          0.011098899750248017,
          0.011062180019890022,
          0.010718269392454682,
          0.005790553128683509,
          0.004583751371464386,
          0.004171659794365964,
          0.003379070367457735,
          0.0023545210012545343,
          0.0022309072302239322,
          0.002123878320042806,
          0.0016770871886742427,
          0.0015711420341991923,
          0.0014463824831521146,
          0.0014347542684860866,
          0.0012131970457292787,
          0.0011744041954350128,
          0.0011526327789397725,
          0.0010907976987785525,
          0.0010712258243222963,
          0.0010197195149429872,
          0.0009768500534332039,
          0.0009501167962179822,
          0.000863482925383407,
          0.0008615882744776888,
          0.0008596825912355527,
          0.0008517732958794646,
          0.0008171590588091834,
          0.0007678860946856344,
          0.0007018949379743336,
          0.00065412553417887,
          0.0006071797330698335,
          0.0005971713206202699,
          0.0005641032573371662,
          0.00048210172887730023,
          0.00046540604275669485,
          0.0004647225828945711,
          0.0004610404247604523,
          0.00038828725336479943,
          0.00031804540153903773,
          0.00031666130553343035,
          0.00030341578819343827,
          0.0002914600941227979,
          0.000258048931616727,
          0.00025158379230453843,
          0.0002428211707130479,
          0.0002412989165930878,
          0.00022030890785346139,
          0.00021237373558206192,
          0.00019932112169756752,
          0.0001889424331426422,
          0.0001859763050792255,
          0.00018428721910456288,
          0.00018415709480321154,
          0.00017378219860775737,
          0.00016669712539145223,
          0.00016278984553152266,
          0.00015769523334491152,
          0.00015141833939211544,
          0.00015130924719660116,
          0.0001491873620005296,
          0.00014680503400752118,
          0.00011263843667761243,
          9.891270862257176e-05,
          9.010028665676688e-05,
          8.96553609441875e-05,
          8.66948009908498e-05,
          8.087308599021687e-05,
          8.001918260715187e-05,
          7.793034009880888e-05,
          7.542250615449074e-05,
          7.040171401721336e-05,
          6.832106000545999e-05,
          6.319781277612463e-05,
          4.6086166469806546e-05,
          4.55404942025656e-05,
          4.293559790689571e-05,
          4.2857861186795303e-05,
          3.7734015314870664e-05,
          3.4963416698895974e-05,
          2.9477971002179133e-05,
          2.6203246929074342e-05,
          1.2500788591007997e-05,
          9.08643996014926e-06,
          6.873142366667735e-06,
          5.569762382686584e-06,
          4.630518005763545e-06,
          2.959485147659462e-06,
          1.7142031977398472e-06,
          1.1845848057079678e-06,
          3.563265765138561e-08,
          0,
          0,
          0,
          0,
          0,
          0,
          0,
          0,
          0,
          0,
          0,
          0,
          0,
          0,
          0,
          0,
          0,
          0,
          0,
          0,
          0,
          0,
          0,
          0,
          0,
          0,
          0,
          0,
          0,
          0,
          0,
          0,
          0,
          0,
          0,
          0,
          0,
          0,
          0,
          0,
          0,
          0,
          0,
          0,
          0,
          0,
          0,
          0,
          0,
          0,
          0,
          0,
          0,
          0,
          0,
          0,
          0,
          0,
          0,
          0,
          0,
          0,
          0,
          0,
          0,
          0,
          0,
          0,
          0,
          0,
          0,
          0,
          0,
          0,
          0,
          0,
          0,
          0,
          0,
          0,
          0
         ],
         "y": [
          "0",
          "52",
          "3",
          "31",
          "21",
          "48",
          "2",
          "40",
          "39",
          "32",
          "4",
          "77",
          "38",
          "24",
          "22",
          "80",
          "33",
          "78",
          "49",
          "37",
          "97",
          "6",
          "104",
          "89",
          "5",
          "96",
          "12",
          "124",
          "138",
          "68",
          "58",
          "118",
          "16",
          "1",
          "133",
          "60",
          "30",
          "75",
          "56",
          "122",
          "131",
          "111",
          "81",
          "74",
          "14",
          "28",
          "59",
          "101",
          "36",
          "95",
          "67",
          "165",
          "149",
          "19",
          "42",
          "161",
          "108",
          "156",
          "116",
          "79",
          "128",
          "90",
          "82",
          "11",
          "63",
          "93",
          "88",
          "130",
          "73",
          "99",
          "109",
          "35",
          "76",
          "43",
          "29",
          "163",
          "134",
          "72",
          "150",
          "61",
          "103",
          "83",
          "136",
          "135",
          "106",
          "57",
          "66",
          "157",
          "158",
          "121",
          "115",
          "92",
          "169",
          "132",
          "127",
          "129",
          "160",
          "173",
          "126",
          "164",
          "162",
          "152",
          "137",
          "145",
          "168",
          "153",
          "154",
          "167",
          "125",
          "148",
          "147",
          "155",
          "146",
          "144",
          "172",
          "143",
          "142",
          "141",
          "159",
          "151",
          "140",
          "139",
          "166",
          "171",
          "170",
          "87",
          "123",
          "54",
          "51",
          "50",
          "47",
          "46",
          "45",
          "44",
          "41",
          "34",
          "27",
          "26",
          "25",
          "23",
          "20",
          "18",
          "17",
          "15",
          "13",
          "10",
          "9",
          "8",
          "7",
          "53",
          "55",
          "120",
          "62",
          "119",
          "117",
          "114",
          "113",
          "112",
          "110",
          "107",
          "105",
          "102",
          "100",
          "98",
          "94",
          "91",
          "86",
          "85",
          "84",
          "71",
          "70",
          "69",
          "65",
          "64",
          "174"
         ]
        }
       ],
       "layout": {
        "autosize": false,
        "height": 1000,
        "width": 1000,
        "xaxis": {
         "tickfont": {
          "color": "black",
          "size": 12
         },
         "title": "Feature Importances"
        },
        "yaxis": {
         "automargin": true
        }
       }
      },
      "text/html": [
       "<div id=\"07c8dc6f-4519-4d5a-9fda-a9366218468f\" style=\"height: 1000px; width: 1000px;\" class=\"plotly-graph-div\"></div><script type=\"text/javascript\">require([\"plotly\"], function(Plotly) { window.PLOTLYENV=window.PLOTLYENV || {};window.PLOTLYENV.BASE_URL=\"https://plot.ly\";Plotly.newPlot(\"07c8dc6f-4519-4d5a-9fda-a9366218468f\", [{\"marker\": {\"color\": \"rgb(158,202,225)\", \"line\": {\"color\": \"rgb(8,48,107)\", \"width\": 1.5}}, \"opacity\": 0.6, \"orientation\": \"h\", \"text\": [0.7901, 0.0649, 0.0281, 0.028, 0.0111, 0.0111, 0.0107, 0.0058, 0.0046, 0.0042, 0.0034, 0.0024, 0.0022, 0.0021, 0.0017, 0.0016, 0.0014, 0.0014, 0.0012, 0.0012, 0.0012, 0.0011, 0.0011, 0.001, 0.001, 0.001, 0.0009, 0.0009, 0.0009, 0.0009, 0.0008, 0.0008, 0.0007, 0.0007, 0.0006, 0.0006, 0.0006, 0.0005, 0.0005, 0.0005, 0.0005, 0.0004, 0.0003, 0.0003, 0.0003, 0.0003, 0.0003, 0.0003, 0.0002, 0.0002, 0.0002, 0.0002, 0.0002, 0.0002, 0.0002, 0.0002, 0.0002, 0.0002, 0.0002, 0.0002, 0.0002, 0.0002, 0.0002, 0.0001, 0.0001, 0.0001, 0.0001, 0.0001, 0.0001, 0.0001, 0.0001, 0.0001, 0.0001, 0.0001, 0.0001, 0.0001, 0.0001, 0.0, 0.0, 0.0, 0.0, 0.0, 0.0, 0.0, 0.0, 0.0, 0.0, 0.0, 0.0, 0.0, 0.0, 0.0, 0.0, 0.0, 0.0, 0.0, 0.0, 0.0, 0.0, 0.0, 0.0, 0.0, 0.0, 0.0, 0.0, 0.0, 0.0, 0.0, 0.0, 0.0, 0.0, 0.0, 0.0, 0.0, 0.0, 0.0, 0.0, 0.0, 0.0, 0.0, 0.0, 0.0, 0.0, 0.0, 0.0, 0.0, 0.0, 0.0, 0.0, 0.0, 0.0, 0.0, 0.0, 0.0, 0.0, 0.0, 0.0, 0.0, 0.0, 0.0, 0.0, 0.0, 0.0, 0.0, 0.0, 0.0, 0.0, 0.0, 0.0, 0.0, 0.0, 0.0, 0.0, 0.0, 0.0, 0.0, 0.0, 0.0, 0.0, 0.0, 0.0, 0.0, 0.0, 0.0, 0.0, 0.0, 0.0, 0.0, 0.0, 0.0, 0.0, 0.0, 0.0, 0.0, 0.0], \"textposition\": \"outside\", \"x\": [0.790091788935281, 0.06489439097089401, 0.028130496829382234, 0.027980810724022486, 0.011098899750248017, 0.011062180019890022, 0.010718269392454682, 0.005790553128683509, 0.004583751371464386, 0.004171659794365964, 0.003379070367457735, 0.0023545210012545343, 0.0022309072302239322, 0.002123878320042806, 0.0016770871886742427, 0.0015711420341991923, 0.0014463824831521146, 0.0014347542684860866, 0.0012131970457292787, 0.0011744041954350128, 0.0011526327789397725, 0.0010907976987785525, 0.0010712258243222963, 0.0010197195149429872, 0.0009768500534332039, 0.0009501167962179822, 0.000863482925383407, 0.0008615882744776888, 0.0008596825912355527, 0.0008517732958794646, 0.0008171590588091834, 0.0007678860946856344, 0.0007018949379743336, 0.00065412553417887, 0.0006071797330698335, 0.0005971713206202699, 0.0005641032573371662, 0.00048210172887730023, 0.00046540604275669485, 0.0004647225828945711, 0.0004610404247604523, 0.00038828725336479943, 0.00031804540153903773, 0.00031666130553343035, 0.00030341578819343827, 0.0002914600941227979, 0.000258048931616727, 0.00025158379230453843, 0.0002428211707130479, 0.0002412989165930878, 0.00022030890785346139, 0.00021237373558206192, 0.00019932112169756752, 0.0001889424331426422, 0.0001859763050792255, 0.00018428721910456288, 0.00018415709480321154, 0.00017378219860775737, 0.00016669712539145223, 0.00016278984553152266, 0.00015769523334491152, 0.00015141833939211544, 0.00015130924719660116, 0.0001491873620005296, 0.00014680503400752118, 0.00011263843667761243, 9.891270862257176e-05, 9.010028665676688e-05, 8.96553609441875e-05, 8.66948009908498e-05, 8.087308599021687e-05, 8.001918260715187e-05, 7.793034009880888e-05, 7.542250615449074e-05, 7.040171401721336e-05, 6.832106000545999e-05, 6.319781277612463e-05, 4.6086166469806546e-05, 4.55404942025656e-05, 4.293559790689571e-05, 4.2857861186795303e-05, 3.7734015314870664e-05, 3.4963416698895974e-05, 2.9477971002179133e-05, 2.6203246929074342e-05, 1.2500788591007997e-05, 9.08643996014926e-06, 6.873142366667735e-06, 5.569762382686584e-06, 4.630518005763545e-06, 2.959485147659462e-06, 1.7142031977398472e-06, 1.1845848057079678e-06, 3.563265765138561e-08, 0.0, 0.0, 0.0, 0.0, 0.0, 0.0, 0.0, 0.0, 0.0, 0.0, 0.0, 0.0, 0.0, 0.0, 0.0, 0.0, 0.0, 0.0, 0.0, 0.0, 0.0, 0.0, 0.0, 0.0, 0.0, 0.0, 0.0, 0.0, 0.0, 0.0, 0.0, 0.0, 0.0, 0.0, 0.0, 0.0, 0.0, 0.0, 0.0, 0.0, 0.0, 0.0, 0.0, 0.0, 0.0, 0.0, 0.0, 0.0, 0.0, 0.0, 0.0, 0.0, 0.0, 0.0, 0.0, 0.0, 0.0, 0.0, 0.0, 0.0, 0.0, 0.0, 0.0, 0.0, 0.0, 0.0, 0.0, 0.0, 0.0, 0.0, 0.0, 0.0, 0.0, 0.0, 0.0, 0.0, 0.0, 0.0, 0.0, 0.0, 0.0], \"y\": [\"0\", \"52\", \"3\", \"31\", \"21\", \"48\", \"2\", \"40\", \"39\", \"32\", \"4\", \"77\", \"38\", \"24\", \"22\", \"80\", \"33\", \"78\", \"49\", \"37\", \"97\", \"6\", \"104\", \"89\", \"5\", \"96\", \"12\", \"124\", \"138\", \"68\", \"58\", \"118\", \"16\", \"1\", \"133\", \"60\", \"30\", \"75\", \"56\", \"122\", \"131\", \"111\", \"81\", \"74\", \"14\", \"28\", \"59\", \"101\", \"36\", \"95\", \"67\", \"165\", \"149\", \"19\", \"42\", \"161\", \"108\", \"156\", \"116\", \"79\", \"128\", \"90\", \"82\", \"11\", \"63\", \"93\", \"88\", \"130\", \"73\", \"99\", \"109\", \"35\", \"76\", \"43\", \"29\", \"163\", \"134\", \"72\", \"150\", \"61\", \"103\", \"83\", \"136\", \"135\", \"106\", \"57\", \"66\", \"157\", \"158\", \"121\", \"115\", \"92\", \"169\", \"132\", \"127\", \"129\", \"160\", \"173\", \"126\", \"164\", \"162\", \"152\", \"137\", \"145\", \"168\", \"153\", \"154\", \"167\", \"125\", \"148\", \"147\", \"155\", \"146\", \"144\", \"172\", \"143\", \"142\", \"141\", \"159\", \"151\", \"140\", \"139\", \"166\", \"171\", \"170\", \"87\", \"123\", \"54\", \"51\", \"50\", \"47\", \"46\", \"45\", \"44\", \"41\", \"34\", \"27\", \"26\", \"25\", \"23\", \"20\", \"18\", \"17\", \"15\", \"13\", \"10\", \"9\", \"8\", \"7\", \"53\", \"55\", \"120\", \"62\", \"119\", \"117\", \"114\", \"113\", \"112\", \"110\", \"107\", \"105\", \"102\", \"100\", \"98\", \"94\", \"91\", \"86\", \"85\", \"84\", \"71\", \"70\", \"69\", \"65\", \"64\", \"174\"], \"type\": \"bar\", \"uid\": \"9c0d6075-5609-4048-8019-181f0f38c9fa\"}], {\"autosize\": false, \"height\": 1000, \"width\": 1000, \"xaxis\": {\"tickfont\": {\"color\": \"black\", \"size\": 12}, \"title\": \"Feature Importances\"}, \"yaxis\": {\"automargin\": true}}, {\"showLink\": true, \"linkText\": \"Export to plot.ly\", \"plotlyServerURL\": \"https://plot.ly\"})});</script>"
      ],
      "text/vnd.plotly.v1+html": [
       "<div id=\"07c8dc6f-4519-4d5a-9fda-a9366218468f\" style=\"height: 1000px; width: 1000px;\" class=\"plotly-graph-div\"></div><script type=\"text/javascript\">require([\"plotly\"], function(Plotly) { window.PLOTLYENV=window.PLOTLYENV || {};window.PLOTLYENV.BASE_URL=\"https://plot.ly\";Plotly.newPlot(\"07c8dc6f-4519-4d5a-9fda-a9366218468f\", [{\"marker\": {\"color\": \"rgb(158,202,225)\", \"line\": {\"color\": \"rgb(8,48,107)\", \"width\": 1.5}}, \"opacity\": 0.6, \"orientation\": \"h\", \"text\": [0.7901, 0.0649, 0.0281, 0.028, 0.0111, 0.0111, 0.0107, 0.0058, 0.0046, 0.0042, 0.0034, 0.0024, 0.0022, 0.0021, 0.0017, 0.0016, 0.0014, 0.0014, 0.0012, 0.0012, 0.0012, 0.0011, 0.0011, 0.001, 0.001, 0.001, 0.0009, 0.0009, 0.0009, 0.0009, 0.0008, 0.0008, 0.0007, 0.0007, 0.0006, 0.0006, 0.0006, 0.0005, 0.0005, 0.0005, 0.0005, 0.0004, 0.0003, 0.0003, 0.0003, 0.0003, 0.0003, 0.0003, 0.0002, 0.0002, 0.0002, 0.0002, 0.0002, 0.0002, 0.0002, 0.0002, 0.0002, 0.0002, 0.0002, 0.0002, 0.0002, 0.0002, 0.0002, 0.0001, 0.0001, 0.0001, 0.0001, 0.0001, 0.0001, 0.0001, 0.0001, 0.0001, 0.0001, 0.0001, 0.0001, 0.0001, 0.0001, 0.0, 0.0, 0.0, 0.0, 0.0, 0.0, 0.0, 0.0, 0.0, 0.0, 0.0, 0.0, 0.0, 0.0, 0.0, 0.0, 0.0, 0.0, 0.0, 0.0, 0.0, 0.0, 0.0, 0.0, 0.0, 0.0, 0.0, 0.0, 0.0, 0.0, 0.0, 0.0, 0.0, 0.0, 0.0, 0.0, 0.0, 0.0, 0.0, 0.0, 0.0, 0.0, 0.0, 0.0, 0.0, 0.0, 0.0, 0.0, 0.0, 0.0, 0.0, 0.0, 0.0, 0.0, 0.0, 0.0, 0.0, 0.0, 0.0, 0.0, 0.0, 0.0, 0.0, 0.0, 0.0, 0.0, 0.0, 0.0, 0.0, 0.0, 0.0, 0.0, 0.0, 0.0, 0.0, 0.0, 0.0, 0.0, 0.0, 0.0, 0.0, 0.0, 0.0, 0.0, 0.0, 0.0, 0.0, 0.0, 0.0, 0.0, 0.0, 0.0, 0.0, 0.0, 0.0, 0.0, 0.0, 0.0], \"textposition\": \"outside\", \"x\": [0.790091788935281, 0.06489439097089401, 0.028130496829382234, 0.027980810724022486, 0.011098899750248017, 0.011062180019890022, 0.010718269392454682, 0.005790553128683509, 0.004583751371464386, 0.004171659794365964, 0.003379070367457735, 0.0023545210012545343, 0.0022309072302239322, 0.002123878320042806, 0.0016770871886742427, 0.0015711420341991923, 0.0014463824831521146, 0.0014347542684860866, 0.0012131970457292787, 0.0011744041954350128, 0.0011526327789397725, 0.0010907976987785525, 0.0010712258243222963, 0.0010197195149429872, 0.0009768500534332039, 0.0009501167962179822, 0.000863482925383407, 0.0008615882744776888, 0.0008596825912355527, 0.0008517732958794646, 0.0008171590588091834, 0.0007678860946856344, 0.0007018949379743336, 0.00065412553417887, 0.0006071797330698335, 0.0005971713206202699, 0.0005641032573371662, 0.00048210172887730023, 0.00046540604275669485, 0.0004647225828945711, 0.0004610404247604523, 0.00038828725336479943, 0.00031804540153903773, 0.00031666130553343035, 0.00030341578819343827, 0.0002914600941227979, 0.000258048931616727, 0.00025158379230453843, 0.0002428211707130479, 0.0002412989165930878, 0.00022030890785346139, 0.00021237373558206192, 0.00019932112169756752, 0.0001889424331426422, 0.0001859763050792255, 0.00018428721910456288, 0.00018415709480321154, 0.00017378219860775737, 0.00016669712539145223, 0.00016278984553152266, 0.00015769523334491152, 0.00015141833939211544, 0.00015130924719660116, 0.0001491873620005296, 0.00014680503400752118, 0.00011263843667761243, 9.891270862257176e-05, 9.010028665676688e-05, 8.96553609441875e-05, 8.66948009908498e-05, 8.087308599021687e-05, 8.001918260715187e-05, 7.793034009880888e-05, 7.542250615449074e-05, 7.040171401721336e-05, 6.832106000545999e-05, 6.319781277612463e-05, 4.6086166469806546e-05, 4.55404942025656e-05, 4.293559790689571e-05, 4.2857861186795303e-05, 3.7734015314870664e-05, 3.4963416698895974e-05, 2.9477971002179133e-05, 2.6203246929074342e-05, 1.2500788591007997e-05, 9.08643996014926e-06, 6.873142366667735e-06, 5.569762382686584e-06, 4.630518005763545e-06, 2.959485147659462e-06, 1.7142031977398472e-06, 1.1845848057079678e-06, 3.563265765138561e-08, 0.0, 0.0, 0.0, 0.0, 0.0, 0.0, 0.0, 0.0, 0.0, 0.0, 0.0, 0.0, 0.0, 0.0, 0.0, 0.0, 0.0, 0.0, 0.0, 0.0, 0.0, 0.0, 0.0, 0.0, 0.0, 0.0, 0.0, 0.0, 0.0, 0.0, 0.0, 0.0, 0.0, 0.0, 0.0, 0.0, 0.0, 0.0, 0.0, 0.0, 0.0, 0.0, 0.0, 0.0, 0.0, 0.0, 0.0, 0.0, 0.0, 0.0, 0.0, 0.0, 0.0, 0.0, 0.0, 0.0, 0.0, 0.0, 0.0, 0.0, 0.0, 0.0, 0.0, 0.0, 0.0, 0.0, 0.0, 0.0, 0.0, 0.0, 0.0, 0.0, 0.0, 0.0, 0.0, 0.0, 0.0, 0.0, 0.0, 0.0, 0.0], \"y\": [\"0\", \"52\", \"3\", \"31\", \"21\", \"48\", \"2\", \"40\", \"39\", \"32\", \"4\", \"77\", \"38\", \"24\", \"22\", \"80\", \"33\", \"78\", \"49\", \"37\", \"97\", \"6\", \"104\", \"89\", \"5\", \"96\", \"12\", \"124\", \"138\", \"68\", \"58\", \"118\", \"16\", \"1\", \"133\", \"60\", \"30\", \"75\", \"56\", \"122\", \"131\", \"111\", \"81\", \"74\", \"14\", \"28\", \"59\", \"101\", \"36\", \"95\", \"67\", \"165\", \"149\", \"19\", \"42\", \"161\", \"108\", \"156\", \"116\", \"79\", \"128\", \"90\", \"82\", \"11\", \"63\", \"93\", \"88\", \"130\", \"73\", \"99\", \"109\", \"35\", \"76\", \"43\", \"29\", \"163\", \"134\", \"72\", \"150\", \"61\", \"103\", \"83\", \"136\", \"135\", \"106\", \"57\", \"66\", \"157\", \"158\", \"121\", \"115\", \"92\", \"169\", \"132\", \"127\", \"129\", \"160\", \"173\", \"126\", \"164\", \"162\", \"152\", \"137\", \"145\", \"168\", \"153\", \"154\", \"167\", \"125\", \"148\", \"147\", \"155\", \"146\", \"144\", \"172\", \"143\", \"142\", \"141\", \"159\", \"151\", \"140\", \"139\", \"166\", \"171\", \"170\", \"87\", \"123\", \"54\", \"51\", \"50\", \"47\", \"46\", \"45\", \"44\", \"41\", \"34\", \"27\", \"26\", \"25\", \"23\", \"20\", \"18\", \"17\", \"15\", \"13\", \"10\", \"9\", \"8\", \"7\", \"53\", \"55\", \"120\", \"62\", \"119\", \"117\", \"114\", \"113\", \"112\", \"110\", \"107\", \"105\", \"102\", \"100\", \"98\", \"94\", \"91\", \"86\", \"85\", \"84\", \"71\", \"70\", \"69\", \"65\", \"64\", \"174\"], \"type\": \"bar\", \"uid\": \"9c0d6075-5609-4048-8019-181f0f38c9fa\"}], {\"autosize\": false, \"height\": 1000, \"width\": 1000, \"xaxis\": {\"tickfont\": {\"color\": \"black\", \"size\": 12}, \"title\": \"Feature Importances\"}, \"yaxis\": {\"automargin\": true}}, {\"showLink\": true, \"linkText\": \"Export to plot.ly\", \"plotlyServerURL\": \"https://plot.ly\"})});</script>"
      ]
     },
     "metadata": {},
     "output_type": "display_data"
    },
    {
     "name": "stdout",
     "output_type": "stream",
     "text": [
      "\n",
      "\n",
      "\u001b[1mExtraTree Classifier\u001b[0m\n",
      "Accuracy of the model for training data is: 0.9994531136065334\n",
      "Confusion Matrix for training data is:\n"
     ]
    },
    {
     "data": {
      "text/plain": [
       "Predicted  False  True  __all__\n",
       "Actual                         \n",
       "False      24325     2    24327\n",
       "True          13  3088     3101\n",
       "__all__    24338  3090    27428"
      ]
     },
     "metadata": {},
     "output_type": "display_data"
    },
    {
     "name": "stdout",
     "output_type": "stream",
     "text": [
      "Accuracy of the model for test data is: 0.968098681412165\n",
      "Confusion Matrix for test data is:\n"
     ]
    },
    {
     "data": {
      "text/plain": [
       "Predicted  False  True  __all__\n",
       "Actual                         \n",
       "False      10368    47    10415\n",
       "True         328  1012     1340\n",
       "__all__    10696  1059    11755"
      ]
     },
     "metadata": {},
     "output_type": "display_data"
    },
    {
     "data": {
      "application/vnd.plotly.v1+json": {
       "config": {
        "linkText": "Export to plot.ly",
        "plotlyServerURL": "https://plot.ly",
        "showLink": true
       },
       "data": [
        {
         "marker": {
          "color": "rgb(158,202,225)",
          "line": {
           "color": "rgb(8,48,107)",
           "width": 1.5
          }
         },
         "opacity": 0.6,
         "orientation": "h",
         "text": [
          0.0662,
          0.0386,
          0.0363,
          0.027,
          0.0265,
          0.0212,
          0.0172,
          0.0163,
          0.016,
          0.0157,
          0.0123,
          0.0108,
          0.0105,
          0.0098,
          0.0092,
          0.0091,
          0.0089,
          0.0081,
          0.0081,
          0.0078,
          0.0077,
          0.0076,
          0.0076,
          0.0075,
          0.0074,
          0.0074,
          0.0072,
          0.0072,
          0.007,
          0.0069,
          0.0068,
          0.0067,
          0.0066,
          0.0066,
          0.0064,
          0.0063,
          0.0063,
          0.0061,
          0.006,
          0.006,
          0.0059,
          0.0058,
          0.0057,
          0.0057,
          0.0057,
          0.0056,
          0.0056,
          0.0055,
          0.0055,
          0.0055,
          0.0055,
          0.0054,
          0.0053,
          0.0052,
          0.0052,
          0.005,
          0.0049,
          0.0049,
          0.0048,
          0.0048,
          0.0047,
          0.0047,
          0.0047,
          0.0046,
          0.0046,
          0.0046,
          0.0046,
          0.0045,
          0.0045,
          0.0045,
          0.0044,
          0.0044,
          0.0043,
          0.0043,
          0.0043,
          0.0042,
          0.0042,
          0.0042,
          0.0042,
          0.0042,
          0.0042,
          0.0041,
          0.0041,
          0.0041,
          0.0041,
          0.004,
          0.004,
          0.004,
          0.004,
          0.004,
          0.0039,
          0.0039,
          0.0039,
          0.0039,
          0.0038,
          0.0038,
          0.0038,
          0.0038,
          0.0037,
          0.0037,
          0.0037,
          0.0037,
          0.0036,
          0.0035,
          0.0035,
          0.0035,
          0.0035,
          0.0035,
          0.0035,
          0.0035,
          0.0034,
          0.0034,
          0.0034,
          0.0033,
          0.0033,
          0.0033,
          0.0033,
          0.0033,
          0.0033,
          0.0032,
          0.0032,
          0.0032,
          0.0032,
          0.0031,
          0.0031,
          0.0031,
          0.003,
          0.003,
          0.003,
          0.003,
          0.003,
          0.0029,
          0.0029,
          0.0029,
          0.0029,
          0.0028,
          0.0028,
          0.0027,
          0.0027,
          0.0027,
          0.0027,
          0.0027,
          0.0027,
          0.0026,
          0.0026,
          0.0026,
          0.0026,
          0.0026,
          0.0026,
          0.0026,
          0.0026,
          0.0026,
          0.0025,
          0.0025,
          0.0025,
          0.0025,
          0.0025,
          0.0024,
          0.0024,
          0.0024,
          0.0024,
          0.0024,
          0.0024,
          0.0023,
          0.0023,
          0.0023,
          0.0023,
          0.0022,
          0.0021,
          0.0021,
          0.0021,
          0.002,
          0.002,
          0.0019,
          0.0017
         ],
         "textposition": "outside",
         "type": "bar",
         "uid": "d338226c-5f3b-411c-9ed7-ce7cab895021",
         "x": [
          0.06617639034728143,
          0.03860063483834534,
          0.03632429390476631,
          0.02699068454334715,
          0.02650100980783247,
          0.021168679149884958,
          0.017212506666458648,
          0.016342536419216257,
          0.01598809107309278,
          0.015663959052728115,
          0.012340776258390359,
          0.010816180443900399,
          0.010500077298472032,
          0.009781891424762318,
          0.009165094163662037,
          0.009086592006419958,
          0.008927703997717888,
          0.008093316062302658,
          0.008072062359955782,
          0.007813049626687673,
          0.007721229463942758,
          0.00759500037293358,
          0.007592003460947278,
          0.007492625933536642,
          0.007430289216640055,
          0.00742851819319134,
          0.007236558918764938,
          0.00722080938735363,
          0.006987808418369353,
          0.006863587477703296,
          0.006829740084549662,
          0.0066565284305047795,
          0.006647674963053836,
          0.006646587846333372,
          0.006443705134756147,
          0.0062845265874272,
          0.006276783181600033,
          0.006082363083960302,
          0.005960220177786988,
          0.005950551178892808,
          0.005932465302385129,
          0.005832355005630231,
          0.005745184830447814,
          0.005715660841208506,
          0.005691720148028424,
          0.005609194379776344,
          0.005579439291319243,
          0.005549883662277748,
          0.005548434734030438,
          0.005501315162091188,
          0.005455028300622757,
          0.0053802080929704205,
          0.005296127390803275,
          0.005196130933516319,
          0.005175170975569071,
          0.004970923187778297,
          0.004936638384137436,
          0.004884763387710262,
          0.0048445980236095365,
          0.0048036622120843,
          0.004715424240285552,
          0.0046830277933473915,
          0.0046762294387460695,
          0.004645176195636838,
          0.004621060717853027,
          0.004614151177496463,
          0.004612780935089649,
          0.004541698576482428,
          0.004527011487303925,
          0.0045016897043466675,
          0.004374477540391589,
          0.004370240251919099,
          0.004325855411626831,
          0.004318436163401088,
          0.00430050552631576,
          0.0042268530497508875,
          0.004222359441439131,
          0.004220033592311165,
          0.004207835934003697,
          0.004172391448416942,
          0.0041591836608733355,
          0.004110697390757917,
          0.0041006862974825534,
          0.004060685095535461,
          0.004052219918077707,
          0.004032854481706214,
          0.004002639923418735,
          0.004001951695694194,
          0.003984672487085502,
          0.0039532337424002095,
          0.003930245136876844,
          0.003912625412749073,
          0.0039054152520026503,
          0.0038559044742901326,
          0.003830522323455645,
          0.0038240948293461452,
          0.003814622522966352,
          0.0037794809280472276,
          0.0037322307153882144,
          0.003729605528607363,
          0.003702240764164412,
          0.003678799693144239,
          0.003560395053674001,
          0.00354802947324689,
          0.003540202135819439,
          0.0035259673062646235,
          0.0035251823135981457,
          0.003519877403283933,
          0.003480558427770903,
          0.003454060921118379,
          0.0033897882264301423,
          0.0033624891148887164,
          0.0033586519826505545,
          0.0033432912441499125,
          0.0033206835665412528,
          0.003307291183888237,
          0.0033037639981796678,
          0.0032598782876841308,
          0.0032561276493786708,
          0.003243012532484833,
          0.003193925669326141,
          0.0031821602414967786,
          0.0031683832495738506,
          0.0031304888136857124,
          0.0031004464799342197,
          0.003089075105818904,
          0.0030325558381841308,
          0.0029978490644202455,
          0.0029904882042112615,
          0.002986157652520273,
          0.0029708347527289975,
          0.002938822828755108,
          0.002935637942896467,
          0.002862362607069337,
          0.0028615530828569134,
          0.0028227402317943283,
          0.002766003553717526,
          0.0027461267245231014,
          0.0027284365279563886,
          0.002727480546169924,
          0.0026802114973159146,
          0.002658612137461674,
          0.0026533042376531086,
          0.0026472129426850987,
          0.002642936542868843,
          0.0026341511631958778,
          0.002605618060446294,
          0.0025984497228766783,
          0.002582197479173165,
          0.0025774332370138717,
          0.0025608242138193066,
          0.002558200618313288,
          0.0025406864410467233,
          0.002516030054128711,
          0.002510031934365823,
          0.002503310156685984,
          0.0024586925791202615,
          0.002449099323642088,
          0.0024475003847582084,
          0.0024472524830417286,
          0.002419284798360355,
          0.00239326142639061,
          0.002386810046006128,
          0.0023210707077541554,
          0.0023125120757105455,
          0.0023080039254716475,
          0.0022942918137956055,
          0.0022119344844086846,
          0.0021430906643014444,
          0.0021208208850369975,
          0.0020706869949704996,
          0.0020336552002740054,
          0.001992832760810144,
          0.0019398317713468394,
          0.0016559811933540424
         ],
         "y": [
          "0",
          "3",
          "2",
          "1",
          "4",
          "37",
          "39",
          "89",
          "5",
          "6",
          "102",
          "11",
          "52",
          "23",
          "14",
          "48",
          "86",
          "59",
          "75",
          "106",
          "85",
          "8",
          "9",
          "87",
          "100",
          "112",
          "33",
          "7",
          "45",
          "92",
          "38",
          "49",
          "81",
          "31",
          "99",
          "43",
          "21",
          "35",
          "13",
          "101",
          "36",
          "10",
          "115",
          "103",
          "46",
          "15",
          "60",
          "24",
          "41",
          "93",
          "50",
          "12",
          "16",
          "74",
          "40",
          "110",
          "66",
          "51",
          "22",
          "141",
          "27",
          "77",
          "54",
          "32",
          "57",
          "151",
          "108",
          "47",
          "136",
          "72",
          "117",
          "30",
          "20",
          "25",
          "139",
          "42",
          "65",
          "97",
          "62",
          "155",
          "82",
          "80",
          "64",
          "125",
          "162",
          "70",
          "19",
          "44",
          "56",
          "29",
          "122",
          "111",
          "83",
          "58",
          "116",
          "90",
          "135",
          "134",
          "124",
          "78",
          "98",
          "132",
          "133",
          "55",
          "147",
          "79",
          "114",
          "76",
          "109",
          "105",
          "138",
          "150",
          "113",
          "96",
          "63",
          "91",
          "128",
          "53",
          "161",
          "84",
          "149",
          "95",
          "34",
          "137",
          "120",
          "104",
          "170",
          "17",
          "172",
          "119",
          "28",
          "88",
          "158",
          "173",
          "61",
          "94",
          "145",
          "123",
          "144",
          "69",
          "163",
          "67",
          "121",
          "68",
          "142",
          "126",
          "130",
          "169",
          "166",
          "71",
          "107",
          "148",
          "174",
          "131",
          "26",
          "118",
          "73",
          "153",
          "152",
          "143",
          "18",
          "167",
          "140",
          "159",
          "165",
          "168",
          "154",
          "156",
          "146",
          "129",
          "127",
          "157",
          "171",
          "164",
          "160"
         ]
        }
       ],
       "layout": {
        "autosize": false,
        "height": 1000,
        "width": 1000,
        "xaxis": {
         "tickfont": {
          "color": "black",
          "size": 12
         },
         "title": "Feature Importances"
        },
        "yaxis": {
         "automargin": true
        }
       }
      },
      "text/html": [
       "<div id=\"62f6a7ea-9f99-44c6-a886-8956c77b40fe\" style=\"height: 1000px; width: 1000px;\" class=\"plotly-graph-div\"></div><script type=\"text/javascript\">require([\"plotly\"], function(Plotly) { window.PLOTLYENV=window.PLOTLYENV || {};window.PLOTLYENV.BASE_URL=\"https://plot.ly\";Plotly.newPlot(\"62f6a7ea-9f99-44c6-a886-8956c77b40fe\", [{\"marker\": {\"color\": \"rgb(158,202,225)\", \"line\": {\"color\": \"rgb(8,48,107)\", \"width\": 1.5}}, \"opacity\": 0.6, \"orientation\": \"h\", \"text\": [0.0662, 0.0386, 0.0363, 0.027, 0.0265, 0.0212, 0.0172, 0.0163, 0.016, 0.0157, 0.0123, 0.0108, 0.0105, 0.0098, 0.0092, 0.0091, 0.0089, 0.0081, 0.0081, 0.0078, 0.0077, 0.0076, 0.0076, 0.0075, 0.0074, 0.0074, 0.0072, 0.0072, 0.007, 0.0069, 0.0068, 0.0067, 0.0066, 0.0066, 0.0064, 0.0063, 0.0063, 0.0061, 0.006, 0.006, 0.0059, 0.0058, 0.0057, 0.0057, 0.0057, 0.0056, 0.0056, 0.0055, 0.0055, 0.0055, 0.0055, 0.0054, 0.0053, 0.0052, 0.0052, 0.005, 0.0049, 0.0049, 0.0048, 0.0048, 0.0047, 0.0047, 0.0047, 0.0046, 0.0046, 0.0046, 0.0046, 0.0045, 0.0045, 0.0045, 0.0044, 0.0044, 0.0043, 0.0043, 0.0043, 0.0042, 0.0042, 0.0042, 0.0042, 0.0042, 0.0042, 0.0041, 0.0041, 0.0041, 0.0041, 0.004, 0.004, 0.004, 0.004, 0.004, 0.0039, 0.0039, 0.0039, 0.0039, 0.0038, 0.0038, 0.0038, 0.0038, 0.0037, 0.0037, 0.0037, 0.0037, 0.0036, 0.0035, 0.0035, 0.0035, 0.0035, 0.0035, 0.0035, 0.0035, 0.0034, 0.0034, 0.0034, 0.0033, 0.0033, 0.0033, 0.0033, 0.0033, 0.0033, 0.0032, 0.0032, 0.0032, 0.0032, 0.0031, 0.0031, 0.0031, 0.003, 0.003, 0.003, 0.003, 0.003, 0.0029, 0.0029, 0.0029, 0.0029, 0.0028, 0.0028, 0.0027, 0.0027, 0.0027, 0.0027, 0.0027, 0.0027, 0.0026, 0.0026, 0.0026, 0.0026, 0.0026, 0.0026, 0.0026, 0.0026, 0.0026, 0.0025, 0.0025, 0.0025, 0.0025, 0.0025, 0.0024, 0.0024, 0.0024, 0.0024, 0.0024, 0.0024, 0.0023, 0.0023, 0.0023, 0.0023, 0.0022, 0.0021, 0.0021, 0.0021, 0.002, 0.002, 0.0019, 0.0017], \"textposition\": \"outside\", \"x\": [0.06617639034728143, 0.03860063483834534, 0.03632429390476631, 0.02699068454334715, 0.02650100980783247, 0.021168679149884958, 0.017212506666458648, 0.016342536419216257, 0.01598809107309278, 0.015663959052728115, 0.012340776258390359, 0.010816180443900399, 0.010500077298472032, 0.009781891424762318, 0.009165094163662037, 0.009086592006419958, 0.008927703997717888, 0.008093316062302658, 0.008072062359955782, 0.007813049626687673, 0.007721229463942758, 0.00759500037293358, 0.007592003460947278, 0.007492625933536642, 0.007430289216640055, 0.00742851819319134, 0.007236558918764938, 0.00722080938735363, 0.006987808418369353, 0.006863587477703296, 0.006829740084549662, 0.0066565284305047795, 0.006647674963053836, 0.006646587846333372, 0.006443705134756147, 0.0062845265874272, 0.006276783181600033, 0.006082363083960302, 0.005960220177786988, 0.005950551178892808, 0.005932465302385129, 0.005832355005630231, 0.005745184830447814, 0.005715660841208506, 0.005691720148028424, 0.005609194379776344, 0.005579439291319243, 0.005549883662277748, 0.005548434734030438, 0.005501315162091188, 0.005455028300622757, 0.0053802080929704205, 0.005296127390803275, 0.005196130933516319, 0.005175170975569071, 0.004970923187778297, 0.004936638384137436, 0.004884763387710262, 0.0048445980236095365, 0.0048036622120843, 0.004715424240285552, 0.0046830277933473915, 0.0046762294387460695, 0.004645176195636838, 0.004621060717853027, 0.004614151177496463, 0.004612780935089649, 0.004541698576482428, 0.004527011487303925, 0.0045016897043466675, 0.004374477540391589, 0.004370240251919099, 0.004325855411626831, 0.004318436163401088, 0.00430050552631576, 0.0042268530497508875, 0.004222359441439131, 0.004220033592311165, 0.004207835934003697, 0.004172391448416942, 0.0041591836608733355, 0.004110697390757917, 0.0041006862974825534, 0.004060685095535461, 0.004052219918077707, 0.004032854481706214, 0.004002639923418735, 0.004001951695694194, 0.003984672487085502, 0.0039532337424002095, 0.003930245136876844, 0.003912625412749073, 0.0039054152520026503, 0.0038559044742901326, 0.003830522323455645, 0.0038240948293461452, 0.003814622522966352, 0.0037794809280472276, 0.0037322307153882144, 0.003729605528607363, 0.003702240764164412, 0.003678799693144239, 0.003560395053674001, 0.00354802947324689, 0.003540202135819439, 0.0035259673062646235, 0.0035251823135981457, 0.003519877403283933, 0.003480558427770903, 0.003454060921118379, 0.0033897882264301423, 0.0033624891148887164, 0.0033586519826505545, 0.0033432912441499125, 0.0033206835665412528, 0.003307291183888237, 0.0033037639981796678, 0.0032598782876841308, 0.0032561276493786708, 0.003243012532484833, 0.003193925669326141, 0.0031821602414967786, 0.0031683832495738506, 0.0031304888136857124, 0.0031004464799342197, 0.003089075105818904, 0.0030325558381841308, 0.0029978490644202455, 0.0029904882042112615, 0.002986157652520273, 0.0029708347527289975, 0.002938822828755108, 0.002935637942896467, 0.002862362607069337, 0.0028615530828569134, 0.0028227402317943283, 0.002766003553717526, 0.0027461267245231014, 0.0027284365279563886, 0.002727480546169924, 0.0026802114973159146, 0.002658612137461674, 0.0026533042376531086, 0.0026472129426850987, 0.002642936542868843, 0.0026341511631958778, 0.002605618060446294, 0.0025984497228766783, 0.002582197479173165, 0.0025774332370138717, 0.0025608242138193066, 0.002558200618313288, 0.0025406864410467233, 0.002516030054128711, 0.002510031934365823, 0.002503310156685984, 0.0024586925791202615, 0.002449099323642088, 0.0024475003847582084, 0.0024472524830417286, 0.002419284798360355, 0.00239326142639061, 0.002386810046006128, 0.0023210707077541554, 0.0023125120757105455, 0.0023080039254716475, 0.0022942918137956055, 0.0022119344844086846, 0.0021430906643014444, 0.0021208208850369975, 0.0020706869949704996, 0.0020336552002740054, 0.001992832760810144, 0.0019398317713468394, 0.0016559811933540424], \"y\": [\"0\", \"3\", \"2\", \"1\", \"4\", \"37\", \"39\", \"89\", \"5\", \"6\", \"102\", \"11\", \"52\", \"23\", \"14\", \"48\", \"86\", \"59\", \"75\", \"106\", \"85\", \"8\", \"9\", \"87\", \"100\", \"112\", \"33\", \"7\", \"45\", \"92\", \"38\", \"49\", \"81\", \"31\", \"99\", \"43\", \"21\", \"35\", \"13\", \"101\", \"36\", \"10\", \"115\", \"103\", \"46\", \"15\", \"60\", \"24\", \"41\", \"93\", \"50\", \"12\", \"16\", \"74\", \"40\", \"110\", \"66\", \"51\", \"22\", \"141\", \"27\", \"77\", \"54\", \"32\", \"57\", \"151\", \"108\", \"47\", \"136\", \"72\", \"117\", \"30\", \"20\", \"25\", \"139\", \"42\", \"65\", \"97\", \"62\", \"155\", \"82\", \"80\", \"64\", \"125\", \"162\", \"70\", \"19\", \"44\", \"56\", \"29\", \"122\", \"111\", \"83\", \"58\", \"116\", \"90\", \"135\", \"134\", \"124\", \"78\", \"98\", \"132\", \"133\", \"55\", \"147\", \"79\", \"114\", \"76\", \"109\", \"105\", \"138\", \"150\", \"113\", \"96\", \"63\", \"91\", \"128\", \"53\", \"161\", \"84\", \"149\", \"95\", \"34\", \"137\", \"120\", \"104\", \"170\", \"17\", \"172\", \"119\", \"28\", \"88\", \"158\", \"173\", \"61\", \"94\", \"145\", \"123\", \"144\", \"69\", \"163\", \"67\", \"121\", \"68\", \"142\", \"126\", \"130\", \"169\", \"166\", \"71\", \"107\", \"148\", \"174\", \"131\", \"26\", \"118\", \"73\", \"153\", \"152\", \"143\", \"18\", \"167\", \"140\", \"159\", \"165\", \"168\", \"154\", \"156\", \"146\", \"129\", \"127\", \"157\", \"171\", \"164\", \"160\"], \"type\": \"bar\", \"uid\": \"d338226c-5f3b-411c-9ed7-ce7cab895021\"}], {\"autosize\": false, \"height\": 1000, \"width\": 1000, \"xaxis\": {\"tickfont\": {\"color\": \"black\", \"size\": 12}, \"title\": \"Feature Importances\"}, \"yaxis\": {\"automargin\": true}}, {\"showLink\": true, \"linkText\": \"Export to plot.ly\", \"plotlyServerURL\": \"https://plot.ly\"})});</script>"
      ],
      "text/vnd.plotly.v1+html": [
       "<div id=\"62f6a7ea-9f99-44c6-a886-8956c77b40fe\" style=\"height: 1000px; width: 1000px;\" class=\"plotly-graph-div\"></div><script type=\"text/javascript\">require([\"plotly\"], function(Plotly) { window.PLOTLYENV=window.PLOTLYENV || {};window.PLOTLYENV.BASE_URL=\"https://plot.ly\";Plotly.newPlot(\"62f6a7ea-9f99-44c6-a886-8956c77b40fe\", [{\"marker\": {\"color\": \"rgb(158,202,225)\", \"line\": {\"color\": \"rgb(8,48,107)\", \"width\": 1.5}}, \"opacity\": 0.6, \"orientation\": \"h\", \"text\": [0.0662, 0.0386, 0.0363, 0.027, 0.0265, 0.0212, 0.0172, 0.0163, 0.016, 0.0157, 0.0123, 0.0108, 0.0105, 0.0098, 0.0092, 0.0091, 0.0089, 0.0081, 0.0081, 0.0078, 0.0077, 0.0076, 0.0076, 0.0075, 0.0074, 0.0074, 0.0072, 0.0072, 0.007, 0.0069, 0.0068, 0.0067, 0.0066, 0.0066, 0.0064, 0.0063, 0.0063, 0.0061, 0.006, 0.006, 0.0059, 0.0058, 0.0057, 0.0057, 0.0057, 0.0056, 0.0056, 0.0055, 0.0055, 0.0055, 0.0055, 0.0054, 0.0053, 0.0052, 0.0052, 0.005, 0.0049, 0.0049, 0.0048, 0.0048, 0.0047, 0.0047, 0.0047, 0.0046, 0.0046, 0.0046, 0.0046, 0.0045, 0.0045, 0.0045, 0.0044, 0.0044, 0.0043, 0.0043, 0.0043, 0.0042, 0.0042, 0.0042, 0.0042, 0.0042, 0.0042, 0.0041, 0.0041, 0.0041, 0.0041, 0.004, 0.004, 0.004, 0.004, 0.004, 0.0039, 0.0039, 0.0039, 0.0039, 0.0038, 0.0038, 0.0038, 0.0038, 0.0037, 0.0037, 0.0037, 0.0037, 0.0036, 0.0035, 0.0035, 0.0035, 0.0035, 0.0035, 0.0035, 0.0035, 0.0034, 0.0034, 0.0034, 0.0033, 0.0033, 0.0033, 0.0033, 0.0033, 0.0033, 0.0032, 0.0032, 0.0032, 0.0032, 0.0031, 0.0031, 0.0031, 0.003, 0.003, 0.003, 0.003, 0.003, 0.0029, 0.0029, 0.0029, 0.0029, 0.0028, 0.0028, 0.0027, 0.0027, 0.0027, 0.0027, 0.0027, 0.0027, 0.0026, 0.0026, 0.0026, 0.0026, 0.0026, 0.0026, 0.0026, 0.0026, 0.0026, 0.0025, 0.0025, 0.0025, 0.0025, 0.0025, 0.0024, 0.0024, 0.0024, 0.0024, 0.0024, 0.0024, 0.0023, 0.0023, 0.0023, 0.0023, 0.0022, 0.0021, 0.0021, 0.0021, 0.002, 0.002, 0.0019, 0.0017], \"textposition\": \"outside\", \"x\": [0.06617639034728143, 0.03860063483834534, 0.03632429390476631, 0.02699068454334715, 0.02650100980783247, 0.021168679149884958, 0.017212506666458648, 0.016342536419216257, 0.01598809107309278, 0.015663959052728115, 0.012340776258390359, 0.010816180443900399, 0.010500077298472032, 0.009781891424762318, 0.009165094163662037, 0.009086592006419958, 0.008927703997717888, 0.008093316062302658, 0.008072062359955782, 0.007813049626687673, 0.007721229463942758, 0.00759500037293358, 0.007592003460947278, 0.007492625933536642, 0.007430289216640055, 0.00742851819319134, 0.007236558918764938, 0.00722080938735363, 0.006987808418369353, 0.006863587477703296, 0.006829740084549662, 0.0066565284305047795, 0.006647674963053836, 0.006646587846333372, 0.006443705134756147, 0.0062845265874272, 0.006276783181600033, 0.006082363083960302, 0.005960220177786988, 0.005950551178892808, 0.005932465302385129, 0.005832355005630231, 0.005745184830447814, 0.005715660841208506, 0.005691720148028424, 0.005609194379776344, 0.005579439291319243, 0.005549883662277748, 0.005548434734030438, 0.005501315162091188, 0.005455028300622757, 0.0053802080929704205, 0.005296127390803275, 0.005196130933516319, 0.005175170975569071, 0.004970923187778297, 0.004936638384137436, 0.004884763387710262, 0.0048445980236095365, 0.0048036622120843, 0.004715424240285552, 0.0046830277933473915, 0.0046762294387460695, 0.004645176195636838, 0.004621060717853027, 0.004614151177496463, 0.004612780935089649, 0.004541698576482428, 0.004527011487303925, 0.0045016897043466675, 0.004374477540391589, 0.004370240251919099, 0.004325855411626831, 0.004318436163401088, 0.00430050552631576, 0.0042268530497508875, 0.004222359441439131, 0.004220033592311165, 0.004207835934003697, 0.004172391448416942, 0.0041591836608733355, 0.004110697390757917, 0.0041006862974825534, 0.004060685095535461, 0.004052219918077707, 0.004032854481706214, 0.004002639923418735, 0.004001951695694194, 0.003984672487085502, 0.0039532337424002095, 0.003930245136876844, 0.003912625412749073, 0.0039054152520026503, 0.0038559044742901326, 0.003830522323455645, 0.0038240948293461452, 0.003814622522966352, 0.0037794809280472276, 0.0037322307153882144, 0.003729605528607363, 0.003702240764164412, 0.003678799693144239, 0.003560395053674001, 0.00354802947324689, 0.003540202135819439, 0.0035259673062646235, 0.0035251823135981457, 0.003519877403283933, 0.003480558427770903, 0.003454060921118379, 0.0033897882264301423, 0.0033624891148887164, 0.0033586519826505545, 0.0033432912441499125, 0.0033206835665412528, 0.003307291183888237, 0.0033037639981796678, 0.0032598782876841308, 0.0032561276493786708, 0.003243012532484833, 0.003193925669326141, 0.0031821602414967786, 0.0031683832495738506, 0.0031304888136857124, 0.0031004464799342197, 0.003089075105818904, 0.0030325558381841308, 0.0029978490644202455, 0.0029904882042112615, 0.002986157652520273, 0.0029708347527289975, 0.002938822828755108, 0.002935637942896467, 0.002862362607069337, 0.0028615530828569134, 0.0028227402317943283, 0.002766003553717526, 0.0027461267245231014, 0.0027284365279563886, 0.002727480546169924, 0.0026802114973159146, 0.002658612137461674, 0.0026533042376531086, 0.0026472129426850987, 0.002642936542868843, 0.0026341511631958778, 0.002605618060446294, 0.0025984497228766783, 0.002582197479173165, 0.0025774332370138717, 0.0025608242138193066, 0.002558200618313288, 0.0025406864410467233, 0.002516030054128711, 0.002510031934365823, 0.002503310156685984, 0.0024586925791202615, 0.002449099323642088, 0.0024475003847582084, 0.0024472524830417286, 0.002419284798360355, 0.00239326142639061, 0.002386810046006128, 0.0023210707077541554, 0.0023125120757105455, 0.0023080039254716475, 0.0022942918137956055, 0.0022119344844086846, 0.0021430906643014444, 0.0021208208850369975, 0.0020706869949704996, 0.0020336552002740054, 0.001992832760810144, 0.0019398317713468394, 0.0016559811933540424], \"y\": [\"0\", \"3\", \"2\", \"1\", \"4\", \"37\", \"39\", \"89\", \"5\", \"6\", \"102\", \"11\", \"52\", \"23\", \"14\", \"48\", \"86\", \"59\", \"75\", \"106\", \"85\", \"8\", \"9\", \"87\", \"100\", \"112\", \"33\", \"7\", \"45\", \"92\", \"38\", \"49\", \"81\", \"31\", \"99\", \"43\", \"21\", \"35\", \"13\", \"101\", \"36\", \"10\", \"115\", \"103\", \"46\", \"15\", \"60\", \"24\", \"41\", \"93\", \"50\", \"12\", \"16\", \"74\", \"40\", \"110\", \"66\", \"51\", \"22\", \"141\", \"27\", \"77\", \"54\", \"32\", \"57\", \"151\", \"108\", \"47\", \"136\", \"72\", \"117\", \"30\", \"20\", \"25\", \"139\", \"42\", \"65\", \"97\", \"62\", \"155\", \"82\", \"80\", \"64\", \"125\", \"162\", \"70\", \"19\", \"44\", \"56\", \"29\", \"122\", \"111\", \"83\", \"58\", \"116\", \"90\", \"135\", \"134\", \"124\", \"78\", \"98\", \"132\", \"133\", \"55\", \"147\", \"79\", \"114\", \"76\", \"109\", \"105\", \"138\", \"150\", \"113\", \"96\", \"63\", \"91\", \"128\", \"53\", \"161\", \"84\", \"149\", \"95\", \"34\", \"137\", \"120\", \"104\", \"170\", \"17\", \"172\", \"119\", \"28\", \"88\", \"158\", \"173\", \"61\", \"94\", \"145\", \"123\", \"144\", \"69\", \"163\", \"67\", \"121\", \"68\", \"142\", \"126\", \"130\", \"169\", \"166\", \"71\", \"107\", \"148\", \"174\", \"131\", \"26\", \"118\", \"73\", \"153\", \"152\", \"143\", \"18\", \"167\", \"140\", \"159\", \"165\", \"168\", \"154\", \"156\", \"146\", \"129\", \"127\", \"157\", \"171\", \"164\", \"160\"], \"type\": \"bar\", \"uid\": \"d338226c-5f3b-411c-9ed7-ce7cab895021\"}], {\"autosize\": false, \"height\": 1000, \"width\": 1000, \"xaxis\": {\"tickfont\": {\"color\": \"black\", \"size\": 12}, \"title\": \"Feature Importances\"}, \"yaxis\": {\"automargin\": true}}, {\"showLink\": true, \"linkText\": \"Export to plot.ly\", \"plotlyServerURL\": \"https://plot.ly\"})});</script>"
      ]
     },
     "metadata": {},
     "output_type": "display_data"
    },
    {
     "name": "stdout",
     "output_type": "stream",
     "text": [
      "\n",
      "\n",
      "\u001b[1mXGB Classifier\u001b[0m\n",
      "Accuracy of the model for training data is: 0.9806402216712848\n",
      "Confusion Matrix for training data is:\n"
     ]
    },
    {
     "data": {
      "text/plain": [
       "Predicted  False  True  __all__\n",
       "Actual                         \n",
       "False      24204   123    24327\n",
       "True         408  2693     3101\n",
       "__all__    24612  2816    27428"
      ]
     },
     "metadata": {},
     "output_type": "display_data"
    },
    {
     "name": "stdout",
     "output_type": "stream",
     "text": [
      "Accuracy of the model for test data is: 0.973713313483624\n",
      "Confusion Matrix for test data is:\n"
     ]
    },
    {
     "data": {
      "text/plain": [
       "Predicted  False  True  __all__\n",
       "Actual                         \n",
       "False      10330    85    10415\n",
       "True         224  1116     1340\n",
       "__all__    10554  1201    11755"
      ]
     },
     "metadata": {},
     "output_type": "display_data"
    },
    {
     "data": {
      "application/vnd.plotly.v1+json": {
       "config": {
        "linkText": "Export to plot.ly",
        "plotlyServerURL": "https://plot.ly",
        "showLink": true
       },
       "data": [
        {
         "marker": {
          "color": "rgb(158,202,225)",
          "line": {
           "color": "rgb(8,48,107)",
           "width": 1.5
          }
         },
         "opacity": 0.6,
         "orientation": "h",
         "text": [
          0.1507,
          0.0507,
          0.0478,
          0.0362,
          0.0362,
          0.0348,
          0.0319,
          0.0232,
          0.0188,
          0.0188,
          0.0188,
          0.0174,
          0.0159,
          0.0145,
          0.0145,
          0.0145,
          0.0145,
          0.0145,
          0.0145,
          0.013,
          0.013,
          0.013,
          0.0116,
          0.0116,
          0.0101,
          0.0101,
          0.0101,
          0.0101,
          0.0101,
          0.0087,
          0.0087,
          0.0087,
          0.0087,
          0.0087,
          0.0087,
          0.0087,
          0.0072,
          0.0072,
          0.0072,
          0.0072,
          0.0072,
          0.0072,
          0.0072,
          0.0058,
          0.0058,
          0.0058,
          0.0058,
          0.0058,
          0.0058,
          0.0058,
          0.0043,
          0.0043,
          0.0043,
          0.0043,
          0.0043,
          0.0043,
          0.0043,
          0.0043,
          0.0043,
          0.0043,
          0.0043,
          0.0043,
          0.0043,
          0.0029,
          0.0029,
          0.0029,
          0.0029,
          0.0029,
          0.0029,
          0.0029,
          0.0029,
          0.0029,
          0.0029,
          0.0029,
          0.0029,
          0.0029,
          0.0014,
          0.0014,
          0.0014,
          0.0014,
          0.0014,
          0.0014,
          0.0014,
          0.0014,
          0.0014,
          0.0014,
          0.0014,
          0.0014,
          0.0014,
          0.0014,
          0.0014,
          0.0014,
          0.0014,
          0.0014,
          0.0014,
          0.0014,
          0.0014,
          0.0014,
          0.0014,
          0.0014,
          0.0014,
          0.0014,
          0.0014,
          0.0014,
          0.0014,
          0.0014,
          0.0014,
          0.0014,
          0.0014,
          0.0014,
          0.0014,
          0.0014,
          0,
          0,
          0,
          0,
          0,
          0,
          0,
          0,
          0,
          0,
          0,
          0,
          0,
          0,
          0,
          0,
          0,
          0,
          0,
          0,
          0,
          0,
          0,
          0,
          0,
          0,
          0,
          0,
          0,
          0,
          0,
          0,
          0,
          0,
          0,
          0,
          0,
          0,
          0,
          0,
          0,
          0,
          0,
          0,
          0,
          0,
          0,
          0,
          0,
          0,
          0,
          0,
          0,
          0,
          0,
          0,
          0,
          0,
          0,
          0,
          0,
          0,
          0
         ],
         "textposition": "outside",
         "type": "bar",
         "uid": "04131dfd-802e-40f5-bf06-274cbe895b03",
         "x": [
          0.1507246345281601,
          0.050724636763334274,
          0.04782608523964882,
          0.036231882870197296,
          0.036231882870197296,
          0.03478260710835457,
          0.03188405930995941,
          0.023188406601548195,
          0.018840579316020012,
          0.018840579316020012,
          0.018840579316020012,
          0.017391303554177284,
          0.015942029654979706,
          0.014492753893136978,
          0.014492753893136978,
          0.014492753893136978,
          0.014492753893136978,
          0.014492753893136978,
          0.014492753893136978,
          0.01304347813129425,
          0.01304347813129425,
          0.01304347813129425,
          0.011594203300774097,
          0.011594203300774097,
          0.01014492753893137,
          0.01014492753893137,
          0.01014492753893137,
          0.01014492753893137,
          0.01014492753893137,
          0.008695651777088642,
          0.008695651777088642,
          0.008695651777088642,
          0.008695651777088642,
          0.008695651777088642,
          0.008695651777088642,
          0.008695651777088642,
          0.007246376946568489,
          0.007246376946568489,
          0.007246376946568489,
          0.007246376946568489,
          0.007246376946568489,
          0.007246376946568489,
          0.007246376946568489,
          0.005797101650387049,
          0.005797101650387049,
          0.005797101650387049,
          0.005797101650387049,
          0.005797101650387049,
          0.005797101650387049,
          0.005797101650387049,
          0.004347825888544321,
          0.004347825888544321,
          0.004347825888544321,
          0.004347825888544321,
          0.004347825888544321,
          0.004347825888544321,
          0.004347825888544321,
          0.004347825888544321,
          0.004347825888544321,
          0.004347825888544321,
          0.004347825888544321,
          0.004347825888544321,
          0.004347825888544321,
          0.0028985508251935244,
          0.0028985508251935244,
          0.0028985508251935244,
          0.0028985508251935244,
          0.0028985508251935244,
          0.0028985508251935244,
          0.0028985508251935244,
          0.0028985508251935244,
          0.0028985508251935244,
          0.0028985508251935244,
          0.0028985508251935244,
          0.0028985508251935244,
          0.0028985508251935244,
          0.0014492754125967622,
          0.0014492754125967622,
          0.0014492754125967622,
          0.0014492754125967622,
          0.0014492754125967622,
          0.0014492754125967622,
          0.0014492754125967622,
          0.0014492754125967622,
          0.0014492754125967622,
          0.0014492754125967622,
          0.0014492754125967622,
          0.0014492754125967622,
          0.0014492754125967622,
          0.0014492754125967622,
          0.0014492754125967622,
          0.0014492754125967622,
          0.0014492754125967622,
          0.0014492754125967622,
          0.0014492754125967622,
          0.0014492754125967622,
          0.0014492754125967622,
          0.0014492754125967622,
          0.0014492754125967622,
          0.0014492754125967622,
          0.0014492754125967622,
          0.0014492754125967622,
          0.0014492754125967622,
          0.0014492754125967622,
          0.0014492754125967622,
          0.0014492754125967622,
          0.0014492754125967622,
          0.0014492754125967622,
          0.0014492754125967622,
          0.0014492754125967622,
          0.0014492754125967622,
          0.0014492754125967622,
          0,
          0,
          0,
          0,
          0,
          0,
          0,
          0,
          0,
          0,
          0,
          0,
          0,
          0,
          0,
          0,
          0,
          0,
          0,
          0,
          0,
          0,
          0,
          0,
          0,
          0,
          0,
          0,
          0,
          0,
          0,
          0,
          0,
          0,
          0,
          0,
          0,
          0,
          0,
          0,
          0,
          0,
          0,
          0,
          0,
          0,
          0,
          0,
          0,
          0,
          0,
          0,
          0,
          0,
          0,
          0,
          0,
          0,
          0,
          0,
          0,
          0,
          0
         ],
         "y": [
          "0",
          "4",
          "3",
          "31",
          "32",
          "21",
          "6",
          "2",
          "39",
          "5",
          "48",
          "80",
          "78",
          "16",
          "58",
          "40",
          "52",
          "1",
          "24",
          "38",
          "56",
          "49",
          "104",
          "12",
          "22",
          "89",
          "88",
          "138",
          "33",
          "14",
          "68",
          "67",
          "118",
          "59",
          "128",
          "27",
          "75",
          "37",
          "95",
          "43",
          "44",
          "11",
          "20",
          "62",
          "149",
          "133",
          "81",
          "108",
          "74",
          "82",
          "77",
          "171",
          "172",
          "116",
          "10",
          "114",
          "28",
          "84",
          "50",
          "99",
          "90",
          "136",
          "101",
          "72",
          "150",
          "91",
          "93",
          "96",
          "100",
          "173",
          "98",
          "132",
          "166",
          "29",
          "34",
          "134",
          "103",
          "161",
          "141",
          "140",
          "102",
          "158",
          "135",
          "167",
          "154",
          "109",
          "111",
          "131",
          "105",
          "130",
          "148",
          "152",
          "106",
          "127",
          "122",
          "107",
          "143",
          "113",
          "147",
          "87",
          "15",
          "92",
          "7",
          "85",
          "9",
          "36",
          "42",
          "47",
          "19",
          "61",
          "35",
          "60",
          "25",
          "23",
          "151",
          "97",
          "26",
          "30",
          "146",
          "145",
          "144",
          "142",
          "153",
          "157",
          "155",
          "156",
          "18",
          "159",
          "160",
          "17",
          "162",
          "163",
          "164",
          "165",
          "13",
          "168",
          "169",
          "170",
          "8",
          "41",
          "137",
          "139",
          "70",
          "117",
          "65",
          "115",
          "66",
          "69",
          "112",
          "110",
          "45",
          "71",
          "73",
          "76",
          "79",
          "83",
          "86",
          "64",
          "119",
          "120",
          "121",
          "63",
          "123",
          "124",
          "125",
          "126",
          "129",
          "57",
          "55",
          "54",
          "53",
          "51",
          "46",
          "94",
          "174"
         ]
        }
       ],
       "layout": {
        "autosize": false,
        "height": 1000,
        "width": 1000,
        "xaxis": {
         "tickfont": {
          "color": "black",
          "size": 12
         },
         "title": "Feature Importances"
        },
        "yaxis": {
         "automargin": true
        }
       }
      },
      "text/html": [
       "<div id=\"c623d71f-810d-413f-95b7-edea083fc472\" style=\"height: 1000px; width: 1000px;\" class=\"plotly-graph-div\"></div><script type=\"text/javascript\">require([\"plotly\"], function(Plotly) { window.PLOTLYENV=window.PLOTLYENV || {};window.PLOTLYENV.BASE_URL=\"https://plot.ly\";Plotly.newPlot(\"c623d71f-810d-413f-95b7-edea083fc472\", [{\"marker\": {\"color\": \"rgb(158,202,225)\", \"line\": {\"color\": \"rgb(8,48,107)\", \"width\": 1.5}}, \"opacity\": 0.6, \"orientation\": \"h\", \"text\": [0.1507, 0.0507, 0.0478, 0.0362, 0.0362, 0.0348, 0.0319, 0.0232, 0.0188, 0.0188, 0.0188, 0.0174, 0.0159, 0.0145, 0.0145, 0.0145, 0.0145, 0.0145, 0.0145, 0.013, 0.013, 0.013, 0.0116, 0.0116, 0.0101, 0.0101, 0.0101, 0.0101, 0.0101, 0.0087, 0.0087, 0.0087, 0.0087, 0.0087, 0.0087, 0.0087, 0.0072, 0.0072, 0.0072, 0.0072, 0.0072, 0.0072, 0.0072, 0.0058, 0.0058, 0.0058, 0.0058, 0.0058, 0.0058, 0.0058, 0.0043, 0.0043, 0.0043, 0.0043, 0.0043, 0.0043, 0.0043, 0.0043, 0.0043, 0.0043, 0.0043, 0.0043, 0.0043, 0.0029, 0.0029, 0.0029, 0.0029, 0.0029, 0.0029, 0.0029, 0.0029, 0.0029, 0.0029, 0.0029, 0.0029, 0.0029, 0.0014, 0.0014, 0.0014, 0.0014, 0.0014, 0.0014, 0.0014, 0.0014, 0.0014, 0.0014, 0.0014, 0.0014, 0.0014, 0.0014, 0.0014, 0.0014, 0.0014, 0.0014, 0.0014, 0.0014, 0.0014, 0.0014, 0.0014, 0.0014, 0.0014, 0.0014, 0.0014, 0.0014, 0.0014, 0.0014, 0.0014, 0.0014, 0.0014, 0.0014, 0.0014, 0.0014, 0.0, 0.0, 0.0, 0.0, 0.0, 0.0, 0.0, 0.0, 0.0, 0.0, 0.0, 0.0, 0.0, 0.0, 0.0, 0.0, 0.0, 0.0, 0.0, 0.0, 0.0, 0.0, 0.0, 0.0, 0.0, 0.0, 0.0, 0.0, 0.0, 0.0, 0.0, 0.0, 0.0, 0.0, 0.0, 0.0, 0.0, 0.0, 0.0, 0.0, 0.0, 0.0, 0.0, 0.0, 0.0, 0.0, 0.0, 0.0, 0.0, 0.0, 0.0, 0.0, 0.0, 0.0, 0.0, 0.0, 0.0, 0.0, 0.0, 0.0, 0.0, 0.0, 0.0], \"textposition\": \"outside\", \"x\": [0.1507246345281601, 0.050724636763334274, 0.04782608523964882, 0.036231882870197296, 0.036231882870197296, 0.03478260710835457, 0.03188405930995941, 0.023188406601548195, 0.018840579316020012, 0.018840579316020012, 0.018840579316020012, 0.017391303554177284, 0.015942029654979706, 0.014492753893136978, 0.014492753893136978, 0.014492753893136978, 0.014492753893136978, 0.014492753893136978, 0.014492753893136978, 0.01304347813129425, 0.01304347813129425, 0.01304347813129425, 0.011594203300774097, 0.011594203300774097, 0.01014492753893137, 0.01014492753893137, 0.01014492753893137, 0.01014492753893137, 0.01014492753893137, 0.008695651777088642, 0.008695651777088642, 0.008695651777088642, 0.008695651777088642, 0.008695651777088642, 0.008695651777088642, 0.008695651777088642, 0.007246376946568489, 0.007246376946568489, 0.007246376946568489, 0.007246376946568489, 0.007246376946568489, 0.007246376946568489, 0.007246376946568489, 0.005797101650387049, 0.005797101650387049, 0.005797101650387049, 0.005797101650387049, 0.005797101650387049, 0.005797101650387049, 0.005797101650387049, 0.004347825888544321, 0.004347825888544321, 0.004347825888544321, 0.004347825888544321, 0.004347825888544321, 0.004347825888544321, 0.004347825888544321, 0.004347825888544321, 0.004347825888544321, 0.004347825888544321, 0.004347825888544321, 0.004347825888544321, 0.004347825888544321, 0.0028985508251935244, 0.0028985508251935244, 0.0028985508251935244, 0.0028985508251935244, 0.0028985508251935244, 0.0028985508251935244, 0.0028985508251935244, 0.0028985508251935244, 0.0028985508251935244, 0.0028985508251935244, 0.0028985508251935244, 0.0028985508251935244, 0.0028985508251935244, 0.0014492754125967622, 0.0014492754125967622, 0.0014492754125967622, 0.0014492754125967622, 0.0014492754125967622, 0.0014492754125967622, 0.0014492754125967622, 0.0014492754125967622, 0.0014492754125967622, 0.0014492754125967622, 0.0014492754125967622, 0.0014492754125967622, 0.0014492754125967622, 0.0014492754125967622, 0.0014492754125967622, 0.0014492754125967622, 0.0014492754125967622, 0.0014492754125967622, 0.0014492754125967622, 0.0014492754125967622, 0.0014492754125967622, 0.0014492754125967622, 0.0014492754125967622, 0.0014492754125967622, 0.0014492754125967622, 0.0014492754125967622, 0.0014492754125967622, 0.0014492754125967622, 0.0014492754125967622, 0.0014492754125967622, 0.0014492754125967622, 0.0014492754125967622, 0.0014492754125967622, 0.0014492754125967622, 0.0014492754125967622, 0.0014492754125967622, 0.0, 0.0, 0.0, 0.0, 0.0, 0.0, 0.0, 0.0, 0.0, 0.0, 0.0, 0.0, 0.0, 0.0, 0.0, 0.0, 0.0, 0.0, 0.0, 0.0, 0.0, 0.0, 0.0, 0.0, 0.0, 0.0, 0.0, 0.0, 0.0, 0.0, 0.0, 0.0, 0.0, 0.0, 0.0, 0.0, 0.0, 0.0, 0.0, 0.0, 0.0, 0.0, 0.0, 0.0, 0.0, 0.0, 0.0, 0.0, 0.0, 0.0, 0.0, 0.0, 0.0, 0.0, 0.0, 0.0, 0.0, 0.0, 0.0, 0.0, 0.0, 0.0, 0.0], \"y\": [\"0\", \"4\", \"3\", \"31\", \"32\", \"21\", \"6\", \"2\", \"39\", \"5\", \"48\", \"80\", \"78\", \"16\", \"58\", \"40\", \"52\", \"1\", \"24\", \"38\", \"56\", \"49\", \"104\", \"12\", \"22\", \"89\", \"88\", \"138\", \"33\", \"14\", \"68\", \"67\", \"118\", \"59\", \"128\", \"27\", \"75\", \"37\", \"95\", \"43\", \"44\", \"11\", \"20\", \"62\", \"149\", \"133\", \"81\", \"108\", \"74\", \"82\", \"77\", \"171\", \"172\", \"116\", \"10\", \"114\", \"28\", \"84\", \"50\", \"99\", \"90\", \"136\", \"101\", \"72\", \"150\", \"91\", \"93\", \"96\", \"100\", \"173\", \"98\", \"132\", \"166\", \"29\", \"34\", \"134\", \"103\", \"161\", \"141\", \"140\", \"102\", \"158\", \"135\", \"167\", \"154\", \"109\", \"111\", \"131\", \"105\", \"130\", \"148\", \"152\", \"106\", \"127\", \"122\", \"107\", \"143\", \"113\", \"147\", \"87\", \"15\", \"92\", \"7\", \"85\", \"9\", \"36\", \"42\", \"47\", \"19\", \"61\", \"35\", \"60\", \"25\", \"23\", \"151\", \"97\", \"26\", \"30\", \"146\", \"145\", \"144\", \"142\", \"153\", \"157\", \"155\", \"156\", \"18\", \"159\", \"160\", \"17\", \"162\", \"163\", \"164\", \"165\", \"13\", \"168\", \"169\", \"170\", \"8\", \"41\", \"137\", \"139\", \"70\", \"117\", \"65\", \"115\", \"66\", \"69\", \"112\", \"110\", \"45\", \"71\", \"73\", \"76\", \"79\", \"83\", \"86\", \"64\", \"119\", \"120\", \"121\", \"63\", \"123\", \"124\", \"125\", \"126\", \"129\", \"57\", \"55\", \"54\", \"53\", \"51\", \"46\", \"94\", \"174\"], \"type\": \"bar\", \"uid\": \"04131dfd-802e-40f5-bf06-274cbe895b03\"}], {\"autosize\": false, \"height\": 1000, \"width\": 1000, \"xaxis\": {\"tickfont\": {\"color\": \"black\", \"size\": 12}, \"title\": \"Feature Importances\"}, \"yaxis\": {\"automargin\": true}}, {\"showLink\": true, \"linkText\": \"Export to plot.ly\", \"plotlyServerURL\": \"https://plot.ly\"})});</script>"
      ],
      "text/vnd.plotly.v1+html": [
       "<div id=\"c623d71f-810d-413f-95b7-edea083fc472\" style=\"height: 1000px; width: 1000px;\" class=\"plotly-graph-div\"></div><script type=\"text/javascript\">require([\"plotly\"], function(Plotly) { window.PLOTLYENV=window.PLOTLYENV || {};window.PLOTLYENV.BASE_URL=\"https://plot.ly\";Plotly.newPlot(\"c623d71f-810d-413f-95b7-edea083fc472\", [{\"marker\": {\"color\": \"rgb(158,202,225)\", \"line\": {\"color\": \"rgb(8,48,107)\", \"width\": 1.5}}, \"opacity\": 0.6, \"orientation\": \"h\", \"text\": [0.1507, 0.0507, 0.0478, 0.0362, 0.0362, 0.0348, 0.0319, 0.0232, 0.0188, 0.0188, 0.0188, 0.0174, 0.0159, 0.0145, 0.0145, 0.0145, 0.0145, 0.0145, 0.0145, 0.013, 0.013, 0.013, 0.0116, 0.0116, 0.0101, 0.0101, 0.0101, 0.0101, 0.0101, 0.0087, 0.0087, 0.0087, 0.0087, 0.0087, 0.0087, 0.0087, 0.0072, 0.0072, 0.0072, 0.0072, 0.0072, 0.0072, 0.0072, 0.0058, 0.0058, 0.0058, 0.0058, 0.0058, 0.0058, 0.0058, 0.0043, 0.0043, 0.0043, 0.0043, 0.0043, 0.0043, 0.0043, 0.0043, 0.0043, 0.0043, 0.0043, 0.0043, 0.0043, 0.0029, 0.0029, 0.0029, 0.0029, 0.0029, 0.0029, 0.0029, 0.0029, 0.0029, 0.0029, 0.0029, 0.0029, 0.0029, 0.0014, 0.0014, 0.0014, 0.0014, 0.0014, 0.0014, 0.0014, 0.0014, 0.0014, 0.0014, 0.0014, 0.0014, 0.0014, 0.0014, 0.0014, 0.0014, 0.0014, 0.0014, 0.0014, 0.0014, 0.0014, 0.0014, 0.0014, 0.0014, 0.0014, 0.0014, 0.0014, 0.0014, 0.0014, 0.0014, 0.0014, 0.0014, 0.0014, 0.0014, 0.0014, 0.0014, 0.0, 0.0, 0.0, 0.0, 0.0, 0.0, 0.0, 0.0, 0.0, 0.0, 0.0, 0.0, 0.0, 0.0, 0.0, 0.0, 0.0, 0.0, 0.0, 0.0, 0.0, 0.0, 0.0, 0.0, 0.0, 0.0, 0.0, 0.0, 0.0, 0.0, 0.0, 0.0, 0.0, 0.0, 0.0, 0.0, 0.0, 0.0, 0.0, 0.0, 0.0, 0.0, 0.0, 0.0, 0.0, 0.0, 0.0, 0.0, 0.0, 0.0, 0.0, 0.0, 0.0, 0.0, 0.0, 0.0, 0.0, 0.0, 0.0, 0.0, 0.0, 0.0, 0.0], \"textposition\": \"outside\", \"x\": [0.1507246345281601, 0.050724636763334274, 0.04782608523964882, 0.036231882870197296, 0.036231882870197296, 0.03478260710835457, 0.03188405930995941, 0.023188406601548195, 0.018840579316020012, 0.018840579316020012, 0.018840579316020012, 0.017391303554177284, 0.015942029654979706, 0.014492753893136978, 0.014492753893136978, 0.014492753893136978, 0.014492753893136978, 0.014492753893136978, 0.014492753893136978, 0.01304347813129425, 0.01304347813129425, 0.01304347813129425, 0.011594203300774097, 0.011594203300774097, 0.01014492753893137, 0.01014492753893137, 0.01014492753893137, 0.01014492753893137, 0.01014492753893137, 0.008695651777088642, 0.008695651777088642, 0.008695651777088642, 0.008695651777088642, 0.008695651777088642, 0.008695651777088642, 0.008695651777088642, 0.007246376946568489, 0.007246376946568489, 0.007246376946568489, 0.007246376946568489, 0.007246376946568489, 0.007246376946568489, 0.007246376946568489, 0.005797101650387049, 0.005797101650387049, 0.005797101650387049, 0.005797101650387049, 0.005797101650387049, 0.005797101650387049, 0.005797101650387049, 0.004347825888544321, 0.004347825888544321, 0.004347825888544321, 0.004347825888544321, 0.004347825888544321, 0.004347825888544321, 0.004347825888544321, 0.004347825888544321, 0.004347825888544321, 0.004347825888544321, 0.004347825888544321, 0.004347825888544321, 0.004347825888544321, 0.0028985508251935244, 0.0028985508251935244, 0.0028985508251935244, 0.0028985508251935244, 0.0028985508251935244, 0.0028985508251935244, 0.0028985508251935244, 0.0028985508251935244, 0.0028985508251935244, 0.0028985508251935244, 0.0028985508251935244, 0.0028985508251935244, 0.0028985508251935244, 0.0014492754125967622, 0.0014492754125967622, 0.0014492754125967622, 0.0014492754125967622, 0.0014492754125967622, 0.0014492754125967622, 0.0014492754125967622, 0.0014492754125967622, 0.0014492754125967622, 0.0014492754125967622, 0.0014492754125967622, 0.0014492754125967622, 0.0014492754125967622, 0.0014492754125967622, 0.0014492754125967622, 0.0014492754125967622, 0.0014492754125967622, 0.0014492754125967622, 0.0014492754125967622, 0.0014492754125967622, 0.0014492754125967622, 0.0014492754125967622, 0.0014492754125967622, 0.0014492754125967622, 0.0014492754125967622, 0.0014492754125967622, 0.0014492754125967622, 0.0014492754125967622, 0.0014492754125967622, 0.0014492754125967622, 0.0014492754125967622, 0.0014492754125967622, 0.0014492754125967622, 0.0014492754125967622, 0.0014492754125967622, 0.0014492754125967622, 0.0, 0.0, 0.0, 0.0, 0.0, 0.0, 0.0, 0.0, 0.0, 0.0, 0.0, 0.0, 0.0, 0.0, 0.0, 0.0, 0.0, 0.0, 0.0, 0.0, 0.0, 0.0, 0.0, 0.0, 0.0, 0.0, 0.0, 0.0, 0.0, 0.0, 0.0, 0.0, 0.0, 0.0, 0.0, 0.0, 0.0, 0.0, 0.0, 0.0, 0.0, 0.0, 0.0, 0.0, 0.0, 0.0, 0.0, 0.0, 0.0, 0.0, 0.0, 0.0, 0.0, 0.0, 0.0, 0.0, 0.0, 0.0, 0.0, 0.0, 0.0, 0.0, 0.0], \"y\": [\"0\", \"4\", \"3\", \"31\", \"32\", \"21\", \"6\", \"2\", \"39\", \"5\", \"48\", \"80\", \"78\", \"16\", \"58\", \"40\", \"52\", \"1\", \"24\", \"38\", \"56\", \"49\", \"104\", \"12\", \"22\", \"89\", \"88\", \"138\", \"33\", \"14\", \"68\", \"67\", \"118\", \"59\", \"128\", \"27\", \"75\", \"37\", \"95\", \"43\", \"44\", \"11\", \"20\", \"62\", \"149\", \"133\", \"81\", \"108\", \"74\", \"82\", \"77\", \"171\", \"172\", \"116\", \"10\", \"114\", \"28\", \"84\", \"50\", \"99\", \"90\", \"136\", \"101\", \"72\", \"150\", \"91\", \"93\", \"96\", \"100\", \"173\", \"98\", \"132\", \"166\", \"29\", \"34\", \"134\", \"103\", \"161\", \"141\", \"140\", \"102\", \"158\", \"135\", \"167\", \"154\", \"109\", \"111\", \"131\", \"105\", \"130\", \"148\", \"152\", \"106\", \"127\", \"122\", \"107\", \"143\", \"113\", \"147\", \"87\", \"15\", \"92\", \"7\", \"85\", \"9\", \"36\", \"42\", \"47\", \"19\", \"61\", \"35\", \"60\", \"25\", \"23\", \"151\", \"97\", \"26\", \"30\", \"146\", \"145\", \"144\", \"142\", \"153\", \"157\", \"155\", \"156\", \"18\", \"159\", \"160\", \"17\", \"162\", \"163\", \"164\", \"165\", \"13\", \"168\", \"169\", \"170\", \"8\", \"41\", \"137\", \"139\", \"70\", \"117\", \"65\", \"115\", \"66\", \"69\", \"112\", \"110\", \"45\", \"71\", \"73\", \"76\", \"79\", \"83\", \"86\", \"64\", \"119\", \"120\", \"121\", \"63\", \"123\", \"124\", \"125\", \"126\", \"129\", \"57\", \"55\", \"54\", \"53\", \"51\", \"46\", \"94\", \"174\"], \"type\": \"bar\", \"uid\": \"04131dfd-802e-40f5-bf06-274cbe895b03\"}], {\"autosize\": false, \"height\": 1000, \"width\": 1000, \"xaxis\": {\"tickfont\": {\"color\": \"black\", \"size\": 12}, \"title\": \"Feature Importances\"}, \"yaxis\": {\"automargin\": true}}, {\"showLink\": true, \"linkText\": \"Export to plot.ly\", \"plotlyServerURL\": \"https://plot.ly\"})});</script>"
      ]
     },
     "metadata": {},
     "output_type": "display_data"
    },
    {
     "name": "stdout",
     "output_type": "stream",
     "text": [
      "\n",
      "\n",
      "\u001b[1mBagging Classifier\u001b[0m\n",
      "Accuracy of the model for training data is: 0.9969738952894852\n",
      "Confusion Matrix for training data is:\n"
     ]
    },
    {
     "data": {
      "text/plain": [
       "Predicted  False  True  __all__\n",
       "Actual                         \n",
       "False      24319     8    24327\n",
       "True          75  3026     3101\n",
       "__all__    24394  3034    27428"
      ]
     },
     "metadata": {},
     "output_type": "display_data"
    },
    {
     "name": "stdout",
     "output_type": "stream",
     "text": [
      "Accuracy of the model for test data is: 0.9732028923862186\n",
      "Confusion Matrix for test data is:\n"
     ]
    },
    {
     "data": {
      "text/plain": [
       "Predicted  False  True  __all__\n",
       "Actual                         \n",
       "False      10314   101    10415\n",
       "True         214  1126     1340\n",
       "__all__    10528  1227    11755"
      ]
     },
     "metadata": {},
     "output_type": "display_data"
    },
    {
     "name": "stdout",
     "output_type": "stream",
     "text": [
      "\n",
      "\n",
      "\u001b[1mNeural Network-1\u001b[0m\n",
      "The accuracy of the model on training data is: 0.9979218317048272\n"
     ]
    },
    {
     "data": {
      "text/plain": [
       "Predicted  False  True  __all__\n",
       "Actual                         \n",
       "False      24313    14    24327\n",
       "True          43  3058     3101\n",
       "__all__    24356  3072    27428"
      ]
     },
     "metadata": {},
     "output_type": "display_data"
    },
    {
     "name": "stdout",
     "output_type": "stream",
     "text": [
      "The accuracy of the model on test data is: 0.974478945129732\n"
     ]
    },
    {
     "data": {
      "text/plain": [
       "Predicted  False  True  __all__\n",
       "Actual                         \n",
       "False      10295   120    10415\n",
       "True         180  1160     1340\n",
       "__all__    10475  1280    11755"
      ]
     },
     "metadata": {},
     "output_type": "display_data"
    },
    {
     "name": "stdout",
     "output_type": "stream",
     "text": [
      "\n",
      "\n"
     ]
    }
   ],
   "source": [
    "table_80_50_train=pd.DataFrame(columns=['accuracy','TP','TN','FP','FN','FPR','FNR'])\n",
    "table_80_50_test=pd.DataFrame(columns=['accuracy','TP','TN','FP','FN','FPR','FNR','auc','MCC','Precision','Recall'])\n",
    "\n",
    "feat_imp=[None]*5\n",
    "j=0\n",
    "for i in range(0,8):\n",
    "    if i>=1 and i<=5:\n",
    "        model,cm_train,cm_test,acc_train,acc_test,roc_auc,feat_imp[j],mcc,prec,rec=f[i](X_train,Y_train,X_test,Y_test,np.arange(0,175).astype(str))\n",
    "        j=j+1\n",
    "    else:\n",
    "        model,cm_train,cm_test,acc_train,acc_test,roc_auc,mcc,prec,rec=f[i](X_train,Y_train,X_test,Y_test)\n",
    "    table_80_50_train.loc[i]=   ([acc_train,cm_train.TP,cm_train.TN,cm_train.FP,cm_train.FN,cm_train.FPR,cm_train.FNR])\n",
    "    table_80_50_test.loc[i] =   ([acc_test ,cm_test.TP, cm_test.TN, cm_test.FP, cm_test.FN, cm_test.FPR, cm_test.FNR,roc_auc,mcc,prec,rec])\n",
    "    print(\"\\n\")"
   ]
  },
  {
   "cell_type": "markdown",
   "metadata": {},
   "source": [
    "### <a id='5.A' style=\"text-decoration : none; color : #000000;\"> A. Results</a>"
   ]
  },
  {
   "cell_type": "code",
   "execution_count": 85,
   "metadata": {},
   "outputs": [
    {
     "data": {
      "application/vnd.plotly.v1+json": {
       "config": {
        "linkText": "Export to plot.ly",
        "plotlyServerURL": "https://plot.ly",
        "showLink": true
       },
       "data": [
        {
         "mode": "lines",
         "name": "KNN_model",
         "type": "scatter",
         "uid": "333559d3-e1a6-4a2b-b77e-6d19f0aae353",
         "x": [
          "accuracy",
          "auc",
          "MCC",
          "Precision",
          "Recall"
         ],
         "y": [
          0.9721820501914079,
          0.899768559984523,
          0.8562926244509839,
          0.941586748038361,
          0.8059701492537313
         ]
        },
        {
         "mode": "lines+markers",
         "name": "XGB",
         "type": "scatter",
         "uid": "7ac53603-4954-4641-beb5-1176f1001009",
         "x": [
          "accuracy",
          "auc",
          "MCC",
          "Precision",
          "Recall"
         ],
         "y": [
          0.973713313483624,
          0.9123372575432966,
          0.8653355810066525,
          0.929225645295587,
          0.8328358208955224
         ]
        },
        {
         "marker": {
          "symbol": "x"
         },
         "mode": "lines+markers",
         "name": "Random Forest",
         "type": "scatter",
         "uid": "3ec0e073-9f33-48c2-b263-69441f519a77",
         "x": [
          "accuracy",
          "auc",
          "MCC",
          "Precision",
          "Recall"
         ],
         "y": [
          0.971246278179498,
          0.8946887024311949,
          0.8510655990013773,
          0.9433628318584071,
          0.7955223880597015
         ]
        },
        {
         "mode": "lines",
         "name": "Ada Boost",
         "type": "scatter",
         "uid": "1066b7a3-e389-438c-aaf0-ce6a818bc983",
         "x": [
          "accuracy",
          "auc",
          "MCC",
          "Precision",
          "Recall"
         ],
         "y": [
          0.9672479795831561,
          0.9080384204756343,
          0.834596982564101,
          0.8750981932443048,
          0.8313432835820895
         ]
        },
        {
         "mode": "lines+markers",
         "name": "GradientBoosting",
         "type": "scatter",
         "uid": "e60e14b3-1b2b-49ce-9ad6-b221c64120d6",
         "x": [
          "accuracy",
          "auc",
          "MCC",
          "Precision",
          "Recall"
         ],
         "y": [
          0.9726074011059124,
          0.9097623978045443,
          0.859614893895373,
          0.9234608985024958,
          0.8283582089552238
         ]
        },
        {
         "marker": {
          "symbol": "x"
         },
         "mode": "lines+markers",
         "name": "ExtraTree Classifier",
         "type": "scatter",
         "uid": "6b2af9c9-22c7-424c-950f-f50405c4fb99",
         "x": [
          "accuracy",
          "auc",
          "MCC",
          "Precision",
          "Recall"
         ],
         "y": [
          0.968098681412165,
          0.8753555792807446,
          0.8332901158018993,
          0.95561850802644,
          0.755223880597015
         ]
        },
        {
         "marker": {
          "symbol": "x"
         },
         "mode": "lines+markers",
         "name": "Bagging",
         "type": "scatter",
         "uid": "dc508bc7-994d-4034-9786-b886c6a09d7f",
         "x": [
          "accuracy",
          "auc",
          "MCC",
          "Precision",
          "Recall"
         ],
         "y": [
          0.9732028923862186,
          0.9153004779272146,
          0.8633347924995287,
          0.9176854115729421,
          0.8402985074626865
         ]
        },
        {
         "marker": {
          "symbol": "x"
         },
         "mode": "lines+markers",
         "name": "Neural Network",
         "type": "scatter",
         "uid": "5602a82e-f396-4738-a5da-2ad0775b3473",
         "x": [
          "accuracy",
          "auc",
          "MCC",
          "Precision",
          "Recall"
         ],
         "y": [
          0.974478945129732,
          0.9153004779272146,
          0.8714331530714793,
          0.90625,
          0.8656716417910447
         ]
        }
       ],
       "layout": {
        "title": "Result comparision for Features selected in Section 1",
        "yaxis": {
         "dtick": 0.05,
         "tick0": 0
        }
       }
      },
      "text/html": [
       "<div id=\"6f1eb0ae-8ab5-4119-bc03-8bfe08f4f3a1\" style=\"height: 525px; width: 100%;\" class=\"plotly-graph-div\"></div><script type=\"text/javascript\">require([\"plotly\"], function(Plotly) { window.PLOTLYENV=window.PLOTLYENV || {};window.PLOTLYENV.BASE_URL=\"https://plot.ly\";Plotly.newPlot(\"6f1eb0ae-8ab5-4119-bc03-8bfe08f4f3a1\", [{\"mode\": \"lines\", \"name\": \"KNN_model\", \"x\": [\"accuracy\", \"auc\", \"MCC\", \"Precision\", \"Recall\"], \"y\": [0.9721820501914079, 0.899768559984523, 0.8562926244509839, 0.941586748038361, 0.8059701492537313], \"type\": \"scatter\", \"uid\": \"333559d3-e1a6-4a2b-b77e-6d19f0aae353\"}, {\"mode\": \"lines+markers\", \"name\": \"XGB\", \"x\": [\"accuracy\", \"auc\", \"MCC\", \"Precision\", \"Recall\"], \"y\": [0.973713313483624, 0.9123372575432966, 0.8653355810066525, 0.929225645295587, 0.8328358208955224], \"type\": \"scatter\", \"uid\": \"7ac53603-4954-4641-beb5-1176f1001009\"}, {\"marker\": {\"symbol\": \"x\"}, \"mode\": \"lines+markers\", \"name\": \"Random Forest\", \"x\": [\"accuracy\", \"auc\", \"MCC\", \"Precision\", \"Recall\"], \"y\": [0.971246278179498, 0.8946887024311949, 0.8510655990013773, 0.9433628318584071, 0.7955223880597015], \"type\": \"scatter\", \"uid\": \"3ec0e073-9f33-48c2-b263-69441f519a77\"}, {\"mode\": \"lines\", \"name\": \"Ada Boost\", \"x\": [\"accuracy\", \"auc\", \"MCC\", \"Precision\", \"Recall\"], \"y\": [0.9672479795831561, 0.9080384204756343, 0.834596982564101, 0.8750981932443048, 0.8313432835820895], \"type\": \"scatter\", \"uid\": \"1066b7a3-e389-438c-aaf0-ce6a818bc983\"}, {\"mode\": \"lines+markers\", \"name\": \"GradientBoosting\", \"x\": [\"accuracy\", \"auc\", \"MCC\", \"Precision\", \"Recall\"], \"y\": [0.9726074011059124, 0.9097623978045443, 0.859614893895373, 0.9234608985024958, 0.8283582089552238], \"type\": \"scatter\", \"uid\": \"e60e14b3-1b2b-49ce-9ad6-b221c64120d6\"}, {\"marker\": {\"symbol\": \"x\"}, \"mode\": \"lines+markers\", \"name\": \"ExtraTree Classifier\", \"x\": [\"accuracy\", \"auc\", \"MCC\", \"Precision\", \"Recall\"], \"y\": [0.968098681412165, 0.8753555792807446, 0.8332901158018993, 0.95561850802644, 0.755223880597015], \"type\": \"scatter\", \"uid\": \"6b2af9c9-22c7-424c-950f-f50405c4fb99\"}, {\"marker\": {\"symbol\": \"x\"}, \"mode\": \"lines+markers\", \"name\": \"Bagging\", \"x\": [\"accuracy\", \"auc\", \"MCC\", \"Precision\", \"Recall\"], \"y\": [0.9732028923862186, 0.9153004779272146, 0.8633347924995287, 0.9176854115729421, 0.8402985074626865], \"type\": \"scatter\", \"uid\": \"dc508bc7-994d-4034-9786-b886c6a09d7f\"}, {\"marker\": {\"symbol\": \"x\"}, \"mode\": \"lines+markers\", \"name\": \"Neural Network\", \"x\": [\"accuracy\", \"auc\", \"MCC\", \"Precision\", \"Recall\"], \"y\": [0.974478945129732, 0.9153004779272146, 0.8714331530714793, 0.90625, 0.8656716417910447], \"type\": \"scatter\", \"uid\": \"5602a82e-f396-4738-a5da-2ad0775b3473\"}], {\"title\": \"Result comparision for Features selected in Section 1\", \"yaxis\": {\"dtick\": 0.05, \"tick0\": 0}}, {\"showLink\": true, \"linkText\": \"Export to plot.ly\", \"plotlyServerURL\": \"https://plot.ly\"})});</script><script type=\"text/javascript\">window.addEventListener(\"resize\", function(){window._Plotly.Plots.resize(document.getElementById(\"6f1eb0ae-8ab5-4119-bc03-8bfe08f4f3a1\"));});</script>"
      ],
      "text/vnd.plotly.v1+html": [
       "<div id=\"6f1eb0ae-8ab5-4119-bc03-8bfe08f4f3a1\" style=\"height: 525px; width: 100%;\" class=\"plotly-graph-div\"></div><script type=\"text/javascript\">require([\"plotly\"], function(Plotly) { window.PLOTLYENV=window.PLOTLYENV || {};window.PLOTLYENV.BASE_URL=\"https://plot.ly\";Plotly.newPlot(\"6f1eb0ae-8ab5-4119-bc03-8bfe08f4f3a1\", [{\"mode\": \"lines\", \"name\": \"KNN_model\", \"x\": [\"accuracy\", \"auc\", \"MCC\", \"Precision\", \"Recall\"], \"y\": [0.9721820501914079, 0.899768559984523, 0.8562926244509839, 0.941586748038361, 0.8059701492537313], \"type\": \"scatter\", \"uid\": \"333559d3-e1a6-4a2b-b77e-6d19f0aae353\"}, {\"mode\": \"lines+markers\", \"name\": \"XGB\", \"x\": [\"accuracy\", \"auc\", \"MCC\", \"Precision\", \"Recall\"], \"y\": [0.973713313483624, 0.9123372575432966, 0.8653355810066525, 0.929225645295587, 0.8328358208955224], \"type\": \"scatter\", \"uid\": \"7ac53603-4954-4641-beb5-1176f1001009\"}, {\"marker\": {\"symbol\": \"x\"}, \"mode\": \"lines+markers\", \"name\": \"Random Forest\", \"x\": [\"accuracy\", \"auc\", \"MCC\", \"Precision\", \"Recall\"], \"y\": [0.971246278179498, 0.8946887024311949, 0.8510655990013773, 0.9433628318584071, 0.7955223880597015], \"type\": \"scatter\", \"uid\": \"3ec0e073-9f33-48c2-b263-69441f519a77\"}, {\"mode\": \"lines\", \"name\": \"Ada Boost\", \"x\": [\"accuracy\", \"auc\", \"MCC\", \"Precision\", \"Recall\"], \"y\": [0.9672479795831561, 0.9080384204756343, 0.834596982564101, 0.8750981932443048, 0.8313432835820895], \"type\": \"scatter\", \"uid\": \"1066b7a3-e389-438c-aaf0-ce6a818bc983\"}, {\"mode\": \"lines+markers\", \"name\": \"GradientBoosting\", \"x\": [\"accuracy\", \"auc\", \"MCC\", \"Precision\", \"Recall\"], \"y\": [0.9726074011059124, 0.9097623978045443, 0.859614893895373, 0.9234608985024958, 0.8283582089552238], \"type\": \"scatter\", \"uid\": \"e60e14b3-1b2b-49ce-9ad6-b221c64120d6\"}, {\"marker\": {\"symbol\": \"x\"}, \"mode\": \"lines+markers\", \"name\": \"ExtraTree Classifier\", \"x\": [\"accuracy\", \"auc\", \"MCC\", \"Precision\", \"Recall\"], \"y\": [0.968098681412165, 0.8753555792807446, 0.8332901158018993, 0.95561850802644, 0.755223880597015], \"type\": \"scatter\", \"uid\": \"6b2af9c9-22c7-424c-950f-f50405c4fb99\"}, {\"marker\": {\"symbol\": \"x\"}, \"mode\": \"lines+markers\", \"name\": \"Bagging\", \"x\": [\"accuracy\", \"auc\", \"MCC\", \"Precision\", \"Recall\"], \"y\": [0.9732028923862186, 0.9153004779272146, 0.8633347924995287, 0.9176854115729421, 0.8402985074626865], \"type\": \"scatter\", \"uid\": \"dc508bc7-994d-4034-9786-b886c6a09d7f\"}, {\"marker\": {\"symbol\": \"x\"}, \"mode\": \"lines+markers\", \"name\": \"Neural Network\", \"x\": [\"accuracy\", \"auc\", \"MCC\", \"Precision\", \"Recall\"], \"y\": [0.974478945129732, 0.9153004779272146, 0.8714331530714793, 0.90625, 0.8656716417910447], \"type\": \"scatter\", \"uid\": \"5602a82e-f396-4738-a5da-2ad0775b3473\"}], {\"title\": \"Result comparision for Features selected in Section 1\", \"yaxis\": {\"dtick\": 0.05, \"tick0\": 0}}, {\"showLink\": true, \"linkText\": \"Export to plot.ly\", \"plotlyServerURL\": \"https://plot.ly\"})});</script><script type=\"text/javascript\">window.addEventListener(\"resize\", function(){window._Plotly.Plots.resize(document.getElementById(\"6f1eb0ae-8ab5-4119-bc03-8bfe08f4f3a1\"));});</script>"
      ]
     },
     "metadata": {},
     "output_type": "display_data"
    }
   ],
   "source": [
    "trace0 = go.Scatter(x=table_80_50_test.iloc[0].index.values[[0,7,8,9,10]],\n",
    "                    y=table_80_50_test.iloc[0].values[[0,7,8,9,10]],\n",
    "                    mode = 'lines',\n",
    "                    name = 'KNN_model')\n",
    "\n",
    "\n",
    "trace2 = go.Scatter(x=table_80_50_test.iloc[1].index.values[[0,7,8,9,10]],\n",
    "                    y=table_80_50_test.iloc[1].values[[0,7,8,9,10]],\n",
    "                    mode = 'lines+markers',marker=dict(symbol='x'),\n",
    "                    name = 'Random Forest')\n",
    "\n",
    "\n",
    "trace3 = go.Scatter(x=table_80_50_test.iloc[2].index.values[[0,7,8,9,10]],\n",
    "                    y=table_80_50_test.iloc[2].values[[0,7,8,9,10]],\n",
    "                    mode = 'lines',\n",
    "                    name = 'Ada Boost')\n",
    "\n",
    "trace4 = go.Scatter(x=table_80_50_test.iloc[3].index.values[[0,7,8,9,10]],\n",
    "                    y=table_80_50_test.iloc[3].values[[0,7,8,9,10]],\n",
    "                    mode = 'lines+markers',\n",
    "                    name = 'GradientBoosting')\n",
    "\n",
    "trace5 = go.Scatter(x=table_80_50_test.iloc[4].index.values[[0,7,8,9,10]],\n",
    "                    y=table_80_50_test.iloc[4].values[[0,7,8,9,10]],\n",
    "                    mode = 'lines+markers',marker=dict(symbol='x'),\n",
    "                    name = 'ExtraTree Classifier')\n",
    "\n",
    "\n",
    "trace1 = go.Scatter(x=table_80_50_test.iloc[5].index.values[[0,7,8,9,10]],\n",
    "                    y=table_80_50_test.iloc[5].values[[0,7,8,9,10]],\n",
    "                    mode = 'lines+markers',\n",
    "                    name = 'XGB')\n",
    "\n",
    "\n",
    "trace6 = go.Scatter(x=table_80_50_test.iloc[6].index.values[[0,7,8,9,10]],\n",
    "                    y=table_80_50_test.iloc[6].values[[0,7,8,9,10]],\n",
    "                    mode = 'lines+markers',marker=dict(symbol='x'),\n",
    "                    name = 'Bagging')\n",
    "\n",
    "trace7 = go.Scatter(x=table_80_50_test.iloc[7].index.values[[0,7,8,9,10]],\n",
    "                    y=table_80_50_test.iloc[7].values[[0,7,8,9,10]],\n",
    "                    mode = 'lines+markers',marker=dict(symbol='x'),\n",
    "                    name = 'Neural Network')\n",
    "\n",
    "\n",
    "\n",
    "data = [trace0, trace1, trace2, trace3, trace4, trace5, trace6, trace7]\n",
    "layout = go.Layout(yaxis=dict(tick0=0,dtick=0.05),title='Result comparision for Features selected in Section 1')\n",
    "fig = go.Figure(data=data, layout=layout)\n",
    "\n",
    "iplot(fig, filename='Result')"
   ]
  },
  {
   "cell_type": "code",
   "execution_count": 86,
   "metadata": {},
   "outputs": [
    {
     "name": "stdout",
     "output_type": "stream",
     "text": [
      "Training Results\n"
     ]
    },
    {
     "data": {
      "text/html": [
       "<div>\n",
       "<style scoped>\n",
       "    .dataframe tbody tr th:only-of-type {\n",
       "        vertical-align: middle;\n",
       "    }\n",
       "\n",
       "    .dataframe tbody tr th {\n",
       "        vertical-align: top;\n",
       "    }\n",
       "\n",
       "    .dataframe thead th {\n",
       "        text-align: right;\n",
       "    }\n",
       "</style>\n",
       "<table border=\"1\" class=\"dataframe\">\n",
       "  <thead>\n",
       "    <tr style=\"text-align: right;\">\n",
       "      <th></th>\n",
       "      <th>accuracy</th>\n",
       "      <th>TP</th>\n",
       "      <th>TN</th>\n",
       "      <th>FP</th>\n",
       "      <th>FN</th>\n",
       "      <th>FPR</th>\n",
       "      <th>FNR</th>\n",
       "    </tr>\n",
       "    <tr>\n",
       "      <th>index</th>\n",
       "      <th></th>\n",
       "      <th></th>\n",
       "      <th></th>\n",
       "      <th></th>\n",
       "      <th></th>\n",
       "      <th></th>\n",
       "      <th></th>\n",
       "    </tr>\n",
       "  </thead>\n",
       "  <tbody>\n",
       "    <tr>\n",
       "      <th>KNeighborsClassifier</th>\n",
       "      <td>0.980203</td>\n",
       "      <td>2663.0</td>\n",
       "      <td>24222.0</td>\n",
       "      <td>105.0</td>\n",
       "      <td>438.0</td>\n",
       "      <td>0.004316</td>\n",
       "      <td>0.141245</td>\n",
       "    </tr>\n",
       "    <tr>\n",
       "      <th>RandomForestClassifier</th>\n",
       "      <td>0.996208</td>\n",
       "      <td>3003.0</td>\n",
       "      <td>24321.0</td>\n",
       "      <td>6.0</td>\n",
       "      <td>98.0</td>\n",
       "      <td>0.000247</td>\n",
       "      <td>0.031603</td>\n",
       "    </tr>\n",
       "    <tr>\n",
       "      <th>AdaBoostClassifier</th>\n",
       "      <td>0.972510</td>\n",
       "      <td>2623.0</td>\n",
       "      <td>24051.0</td>\n",
       "      <td>276.0</td>\n",
       "      <td>478.0</td>\n",
       "      <td>0.011345</td>\n",
       "      <td>0.154144</td>\n",
       "    </tr>\n",
       "    <tr>\n",
       "      <th>GradientBoostingClassifier</th>\n",
       "      <td>0.980421</td>\n",
       "      <td>2703.0</td>\n",
       "      <td>24188.0</td>\n",
       "      <td>139.0</td>\n",
       "      <td>398.0</td>\n",
       "      <td>0.005714</td>\n",
       "      <td>0.128346</td>\n",
       "    </tr>\n",
       "    <tr>\n",
       "      <th>ExtraTreeClassifier</th>\n",
       "      <td>0.999453</td>\n",
       "      <td>3088.0</td>\n",
       "      <td>24325.0</td>\n",
       "      <td>2.0</td>\n",
       "      <td>13.0</td>\n",
       "      <td>0.000082</td>\n",
       "      <td>0.004192</td>\n",
       "    </tr>\n",
       "    <tr>\n",
       "      <th>XGB</th>\n",
       "      <td>0.980640</td>\n",
       "      <td>2693.0</td>\n",
       "      <td>24204.0</td>\n",
       "      <td>123.0</td>\n",
       "      <td>408.0</td>\n",
       "      <td>0.005056</td>\n",
       "      <td>0.131570</td>\n",
       "    </tr>\n",
       "    <tr>\n",
       "      <th>BaggingClassifier</th>\n",
       "      <td>0.996974</td>\n",
       "      <td>3026.0</td>\n",
       "      <td>24319.0</td>\n",
       "      <td>8.0</td>\n",
       "      <td>75.0</td>\n",
       "      <td>0.000329</td>\n",
       "      <td>0.024186</td>\n",
       "    </tr>\n",
       "    <tr>\n",
       "      <th>Neural Network-1</th>\n",
       "      <td>0.997922</td>\n",
       "      <td>3058.0</td>\n",
       "      <td>24313.0</td>\n",
       "      <td>14.0</td>\n",
       "      <td>43.0</td>\n",
       "      <td>0.000575</td>\n",
       "      <td>0.013866</td>\n",
       "    </tr>\n",
       "  </tbody>\n",
       "</table>\n",
       "</div>"
      ],
      "text/plain": [
       "                            accuracy      TP       TN     FP     FN       FPR  \\\n",
       "index                                                                           \n",
       "KNeighborsClassifier        0.980203  2663.0  24222.0  105.0  438.0  0.004316   \n",
       "RandomForestClassifier      0.996208  3003.0  24321.0    6.0   98.0  0.000247   \n",
       "AdaBoostClassifier          0.972510  2623.0  24051.0  276.0  478.0  0.011345   \n",
       "GradientBoostingClassifier  0.980421  2703.0  24188.0  139.0  398.0  0.005714   \n",
       "ExtraTreeClassifier         0.999453  3088.0  24325.0    2.0   13.0  0.000082   \n",
       "XGB                         0.980640  2693.0  24204.0  123.0  408.0  0.005056   \n",
       "BaggingClassifier           0.996974  3026.0  24319.0    8.0   75.0  0.000329   \n",
       "Neural Network-1            0.997922  3058.0  24313.0   14.0   43.0  0.000575   \n",
       "\n",
       "                                 FNR  \n",
       "index                                 \n",
       "KNeighborsClassifier        0.141245  \n",
       "RandomForestClassifier      0.031603  \n",
       "AdaBoostClassifier          0.154144  \n",
       "GradientBoostingClassifier  0.128346  \n",
       "ExtraTreeClassifier         0.004192  \n",
       "XGB                         0.131570  \n",
       "BaggingClassifier           0.024186  \n",
       "Neural Network-1            0.013866  "
      ]
     },
     "metadata": {},
     "output_type": "display_data"
    },
    {
     "name": "stdout",
     "output_type": "stream",
     "text": [
      "Test Results\n"
     ]
    },
    {
     "data": {
      "text/html": [
       "<div>\n",
       "<style scoped>\n",
       "    .dataframe tbody tr th:only-of-type {\n",
       "        vertical-align: middle;\n",
       "    }\n",
       "\n",
       "    .dataframe tbody tr th {\n",
       "        vertical-align: top;\n",
       "    }\n",
       "\n",
       "    .dataframe thead th {\n",
       "        text-align: right;\n",
       "    }\n",
       "</style>\n",
       "<table border=\"1\" class=\"dataframe\">\n",
       "  <thead>\n",
       "    <tr style=\"text-align: right;\">\n",
       "      <th></th>\n",
       "      <th>accuracy</th>\n",
       "      <th>TP</th>\n",
       "      <th>TN</th>\n",
       "      <th>FP</th>\n",
       "      <th>FN</th>\n",
       "      <th>FPR</th>\n",
       "      <th>FNR</th>\n",
       "      <th>auc</th>\n",
       "      <th>MCC</th>\n",
       "      <th>Precision</th>\n",
       "      <th>Recall</th>\n",
       "    </tr>\n",
       "    <tr>\n",
       "      <th>index</th>\n",
       "      <th></th>\n",
       "      <th></th>\n",
       "      <th></th>\n",
       "      <th></th>\n",
       "      <th></th>\n",
       "      <th></th>\n",
       "      <th></th>\n",
       "      <th></th>\n",
       "      <th></th>\n",
       "      <th></th>\n",
       "      <th></th>\n",
       "    </tr>\n",
       "  </thead>\n",
       "  <tbody>\n",
       "    <tr>\n",
       "      <th>KNeighborsClassifier</th>\n",
       "      <td>0.972182</td>\n",
       "      <td>1080.0</td>\n",
       "      <td>10348.0</td>\n",
       "      <td>67.0</td>\n",
       "      <td>260.0</td>\n",
       "      <td>0.006433</td>\n",
       "      <td>0.194030</td>\n",
       "      <td>0.899769</td>\n",
       "      <td>0.856293</td>\n",
       "      <td>0.941587</td>\n",
       "      <td>0.805970</td>\n",
       "    </tr>\n",
       "    <tr>\n",
       "      <th>RandomForestClassifier</th>\n",
       "      <td>0.971246</td>\n",
       "      <td>1066.0</td>\n",
       "      <td>10351.0</td>\n",
       "      <td>64.0</td>\n",
       "      <td>274.0</td>\n",
       "      <td>0.006145</td>\n",
       "      <td>0.204478</td>\n",
       "      <td>0.894689</td>\n",
       "      <td>0.851066</td>\n",
       "      <td>0.943363</td>\n",
       "      <td>0.795522</td>\n",
       "    </tr>\n",
       "    <tr>\n",
       "      <th>AdaBoostClassifier</th>\n",
       "      <td>0.967248</td>\n",
       "      <td>1114.0</td>\n",
       "      <td>10256.0</td>\n",
       "      <td>159.0</td>\n",
       "      <td>226.0</td>\n",
       "      <td>0.015266</td>\n",
       "      <td>0.168657</td>\n",
       "      <td>0.908038</td>\n",
       "      <td>0.834597</td>\n",
       "      <td>0.875098</td>\n",
       "      <td>0.831343</td>\n",
       "    </tr>\n",
       "    <tr>\n",
       "      <th>GradientBoostingClassifier</th>\n",
       "      <td>0.972607</td>\n",
       "      <td>1110.0</td>\n",
       "      <td>10323.0</td>\n",
       "      <td>92.0</td>\n",
       "      <td>230.0</td>\n",
       "      <td>0.008833</td>\n",
       "      <td>0.171642</td>\n",
       "      <td>0.909762</td>\n",
       "      <td>0.859615</td>\n",
       "      <td>0.923461</td>\n",
       "      <td>0.828358</td>\n",
       "    </tr>\n",
       "    <tr>\n",
       "      <th>ExtraTreeClassifier</th>\n",
       "      <td>0.968099</td>\n",
       "      <td>1012.0</td>\n",
       "      <td>10368.0</td>\n",
       "      <td>47.0</td>\n",
       "      <td>328.0</td>\n",
       "      <td>0.004513</td>\n",
       "      <td>0.244776</td>\n",
       "      <td>0.875356</td>\n",
       "      <td>0.833290</td>\n",
       "      <td>0.955619</td>\n",
       "      <td>0.755224</td>\n",
       "    </tr>\n",
       "    <tr>\n",
       "      <th>XGB</th>\n",
       "      <td>0.973713</td>\n",
       "      <td>1116.0</td>\n",
       "      <td>10330.0</td>\n",
       "      <td>85.0</td>\n",
       "      <td>224.0</td>\n",
       "      <td>0.008161</td>\n",
       "      <td>0.167164</td>\n",
       "      <td>0.912337</td>\n",
       "      <td>0.865336</td>\n",
       "      <td>0.929226</td>\n",
       "      <td>0.832836</td>\n",
       "    </tr>\n",
       "    <tr>\n",
       "      <th>BaggingClassifier</th>\n",
       "      <td>0.973203</td>\n",
       "      <td>1126.0</td>\n",
       "      <td>10314.0</td>\n",
       "      <td>101.0</td>\n",
       "      <td>214.0</td>\n",
       "      <td>0.009698</td>\n",
       "      <td>0.159701</td>\n",
       "      <td>0.915300</td>\n",
       "      <td>0.863335</td>\n",
       "      <td>0.917685</td>\n",
       "      <td>0.840299</td>\n",
       "    </tr>\n",
       "    <tr>\n",
       "      <th>Neural Network-1</th>\n",
       "      <td>0.974479</td>\n",
       "      <td>1160.0</td>\n",
       "      <td>10295.0</td>\n",
       "      <td>120.0</td>\n",
       "      <td>180.0</td>\n",
       "      <td>0.011522</td>\n",
       "      <td>0.134328</td>\n",
       "      <td>0.915300</td>\n",
       "      <td>0.871433</td>\n",
       "      <td>0.906250</td>\n",
       "      <td>0.865672</td>\n",
       "    </tr>\n",
       "  </tbody>\n",
       "</table>\n",
       "</div>"
      ],
      "text/plain": [
       "                            accuracy      TP       TN     FP     FN       FPR  \\\n",
       "index                                                                           \n",
       "KNeighborsClassifier        0.972182  1080.0  10348.0   67.0  260.0  0.006433   \n",
       "RandomForestClassifier      0.971246  1066.0  10351.0   64.0  274.0  0.006145   \n",
       "AdaBoostClassifier          0.967248  1114.0  10256.0  159.0  226.0  0.015266   \n",
       "GradientBoostingClassifier  0.972607  1110.0  10323.0   92.0  230.0  0.008833   \n",
       "ExtraTreeClassifier         0.968099  1012.0  10368.0   47.0  328.0  0.004513   \n",
       "XGB                         0.973713  1116.0  10330.0   85.0  224.0  0.008161   \n",
       "BaggingClassifier           0.973203  1126.0  10314.0  101.0  214.0  0.009698   \n",
       "Neural Network-1            0.974479  1160.0  10295.0  120.0  180.0  0.011522   \n",
       "\n",
       "                                 FNR       auc       MCC  Precision    Recall  \n",
       "index                                                                          \n",
       "KNeighborsClassifier        0.194030  0.899769  0.856293   0.941587  0.805970  \n",
       "RandomForestClassifier      0.204478  0.894689  0.851066   0.943363  0.795522  \n",
       "AdaBoostClassifier          0.168657  0.908038  0.834597   0.875098  0.831343  \n",
       "GradientBoostingClassifier  0.171642  0.909762  0.859615   0.923461  0.828358  \n",
       "ExtraTreeClassifier         0.244776  0.875356  0.833290   0.955619  0.755224  \n",
       "XGB                         0.167164  0.912337  0.865336   0.929226  0.832836  \n",
       "BaggingClassifier           0.159701  0.915300  0.863335   0.917685  0.840299  \n",
       "Neural Network-1            0.134328  0.915300  0.871433   0.906250  0.865672  "
      ]
     },
     "metadata": {},
     "output_type": "display_data"
    }
   ],
   "source": [
    "table_80_50_train['index']=ind_columns\n",
    "table_80_50_test['index']=ind_columns\n",
    "\n",
    "\n",
    "table_80_50_test.set_index(['index'],drop=True,inplace=True)\n",
    "table_80_50_train.set_index(['index'],drop=True,inplace=True)\n",
    "\n",
    "print(\"Training Results\")\n",
    "display(table_80_50_train)\n",
    "print(\"Test Results\")\n",
    "display(table_80_50_test)"
   ]
  },
  {
   "cell_type": "code",
   "execution_count": 87,
   "metadata": {},
   "outputs": [
    {
     "data": {
      "text/html": [
       "<script>\n",
       "code_show=true; \n",
       "function code_toggle() {\n",
       " if (code_show){\n",
       " $('div.input').hide();\n",
       " } else {\n",
       " $('div.input').show();\n",
       " }\n",
       " code_show = !code_show\n",
       "} \n",
       "$( document ).ready(code_toggle);\n",
       "</script>\n",
       "To toggle code, click <a href=\"javascript:code_toggle()\">here</a>."
      ],
      "text/plain": [
       "<IPython.core.display.HTML object>"
      ]
     },
     "execution_count": 87,
     "metadata": {},
     "output_type": "execute_result"
    }
   ],
   "source": [
    "### Original Creator : Darshan Bhansali\n",
    "### HTML code to hide the input cells \n",
    "HTML('''<script>\n",
    "code_show=true; \n",
    "function code_toggle() {\n",
    " if (code_show){\n",
    " $('div.input').hide();\n",
    " } else {\n",
    " $('div.input').show();\n",
    " }\n",
    " code_show = !code_show\n",
    "} \n",
    "$( document ).ready(code_toggle);\n",
    "</script>\n",
    "To toggle code, click <a href=\"javascript:code_toggle()\">here</a>.''')"
   ]
  }
 ],
 "metadata": {
  "kernelspec": {
   "display_name": "Python 3",
   "language": "python",
   "name": "python3"
  },
  "language_info": {
   "codemirror_mode": {
    "name": "ipython",
    "version": 3
   },
   "file_extension": ".py",
   "mimetype": "text/x-python",
   "name": "python",
   "nbconvert_exporter": "python",
   "pygments_lexer": "ipython3",
   "version": "3.6.8"
  }
 },
 "nbformat": 4,
 "nbformat_minor": 2
}
