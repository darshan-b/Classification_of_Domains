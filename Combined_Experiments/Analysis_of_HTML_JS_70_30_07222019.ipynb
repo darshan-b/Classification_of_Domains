{
 "cells": [
  {
   "cell_type": "markdown",
   "metadata": {},
   "source": [
    "***\n",
    "## Table of Contents\n",
    "<br>\n",
    "  <br>\n",
    "    <ol>\n",
    "        <h2><a href='#1' style=\"text-decoration : none; color : #000000;\">1. Initial Models</a></h2>\n",
    "        <ul>\n",
    "            <a href='#1.A' style=\"text-decoration : none; color : #000000;\"><h3>A. Results </h3></a>\n",
    "        </ul>\n",
    "        <ul>\n",
    "            <a href='#1.B' style=\"text-decoration : none; color : #000000;\"><h3>B. Average Feature Importance   </h3></a>\n",
    "        </ul>\n",
    "     </ol>\n",
    "     <br> \n",
    "\n",
    "<ol>\n",
    "        <h2><a href='#2' style=\"text-decoration : none; color : #000000;\">2. Oversampling </a></h2>\n",
    "        <ul>\n",
    "            <a href='#2.A' style=\"text-decoration : none; color : #000000;\"><h3>A. Results </h3></a>\n",
    "        </ul>\n",
    "        <ul>\n",
    "            <a href='#2.B' style=\"text-decoration : none; color : #000000;\"><h3>B. Average Feature Importance   </h3></a>\n",
    "        </ul>\n",
    "     </ol>\n",
    "     <br>\n",
    "     \n",
    " <ol>\n",
    "        <h2><a href='#3' style=\"text-decoration : none; color : #000000;\">3. Undersampling</a></h2>\n",
    "        <ul>\n",
    "            <a href='#3.A' style=\"text-decoration : none; color : #000000;\"><h3>A. Results </h3></a>\n",
    "        </ul>\n",
    "        <ul>\n",
    "            <a href='#3.B' style=\"text-decoration : none; color : #000000;\"><h3>B. Average Feature Importance   </h3></a>\n",
    "        </ul>\n",
    "     </ol>\n",
    "     <br>\n",
    "     \n",
    " <ol>\n",
    "        <h2><a href='#4' style=\"text-decoration : none; color : #000000;\">4.Feature Transformation with feature selection</a></h2>\n",
    "        <ul>\n",
    "            <a href='#4.A' style=\"text-decoration : none; color : #000000;\"><h3>A. Results </h3></a>\n",
    "        </ul>\n",
    "        <ul>\n",
    "            <a href='#4.B' style=\"text-decoration : none; color : #000000;\"><h3>B. Average Feature Importance   </h3></a>\n",
    "        </ul>\n",
    "     </ol>\n",
    "     <br>\n",
    "     \n",
    "     \n",
    " <ol>\n",
    "        <h2><a href='#5' style=\"text-decoration : none; color : #000000;\">5.Feature Transformation with PCA</a></h2>\n",
    "        <ul>\n",
    "            <a href='#5.A' style=\"text-decoration : none; color : #000000;\"><h3>A. Results </h3></a>\n",
    "        </ul>\n",
    "     </ol>\n",
    "     <br>"
   ]
  },
  {
   "cell_type": "code",
   "execution_count": 5,
   "metadata": {},
   "outputs": [
    {
     "data": {
      "text/html": [
       "<script type=\"text/javascript\">window.PlotlyConfig = {MathJaxConfig: 'local'};</script><script type=\"text/javascript\">if (window.MathJax) {MathJax.Hub.Config({SVG: {font: \"STIX-Web\"}});}</script><script>requirejs.config({paths: { 'plotly': ['https://cdn.plot.ly/plotly-latest.min']},});if(!window._Plotly) {require(['plotly'],function(plotly) {window._Plotly=plotly;});}</script>"
      ],
      "text/vnd.plotly.v1+html": [
       "<script type=\"text/javascript\">window.PlotlyConfig = {MathJaxConfig: 'local'};</script><script type=\"text/javascript\">if (window.MathJax) {MathJax.Hub.Config({SVG: {font: \"STIX-Web\"}});}</script><script>requirejs.config({paths: { 'plotly': ['https://cdn.plot.ly/plotly-latest.min']},});if(!window._Plotly) {require(['plotly'],function(plotly) {window._Plotly=plotly;});}</script>"
      ]
     },
     "metadata": {},
     "output_type": "display_data"
    }
   ],
   "source": [
    "import pandas as pd\n",
    "import numpy as np\n",
    "import copy\n",
    "import matplotlib.pyplot as plt\n",
    "import seaborn as sns\n",
    "%matplotlib inline\n",
    "\n",
    "from IPython.display import display,clear_output,HTML\n",
    "import warnings\n",
    "warnings.filterwarnings(\"ignore\")\n",
    "warnings.filterwarnings(\"ignore\",category=DeprecationWarning)\n",
    "\n",
    "import keras\n",
    "from keras.layers import Dense,Dropout\n",
    "from keras.models import Sequential\n",
    "warnings.simplefilter(\"ignore\", DeprecationWarning)\n",
    "import researchpy as rp\n",
    "\n",
    "%matplotlib inline\n",
    "pd.set_option('display.max_columns', 500)\n",
    "pd.set_option('display.max_rows',305)\n",
    "\n",
    "from sklearn.feature_selection import SelectKBest,chi2,RFE,RFECV,f_regression,SelectFromModel\n",
    "from sklearn.linear_model import LogisticRegression\n",
    "from sklearn.ensemble import ExtraTreesClassifier,RandomForestClassifier,GradientBoostingClassifier,AdaBoostClassifier,BaggingClassifier\n",
    "from sklearn.neighbors import KNeighborsClassifier\n",
    "from sklearn.model_selection import train_test_split,cross_val_score\n",
    "\n",
    "from sklearn.preprocessing import StandardScaler,MinMaxScaler\n",
    "from sklearn import metrics\n",
    "\n",
    "\n",
    "\n",
    "from sklearn.decomposition import PCA\n",
    "from sklearn.metrics import accuracy_score,auc,roc_curve,recall_score,precision_score,matthews_corrcoef\n",
    "\n",
    "from pandas_ml import ConfusionMatrix\n",
    "\n",
    "\n",
    "from imblearn.over_sampling import SMOTE\n",
    "\n",
    "from plotly.offline import download_plotlyjs, init_notebook_mode, plot, iplot\n",
    "init_notebook_mode(connected=True)\n",
    "import plotly.graph_objs as go\n",
    "\n",
    "import featuretools as ft\n",
    "\n",
    "from scipy import stats\n",
    "import re\n",
    "\n",
    "from xgboost import XGBClassifier\n",
    "from xgboost import plot_importance"
   ]
  },
  {
   "cell_type": "code",
   "execution_count": 6,
   "metadata": {},
   "outputs": [],
   "source": [
    "### Function to plot Feature Importance\n",
    "def feat_impt_plot(feat_impt,y_labels,width_s=1000,height_s=1000):\n",
    "    \n",
    "    m=pd.DataFrame(y_labels,feat_impt).reset_index()\n",
    "    m.columns=['Feature_Importance','Features']\n",
    "    m.sort_values(by='Feature_Importance',inplace=True,ascending=False)\n",
    "    m['Features']=m['Features'].str.replace(\"dom_function_\",\"\")\n",
    "    m['Features']=m['Features'].str.replace(\"js_function_\",\"\")\n",
    "    m['Features']=m['Features'].apply(lambda x: str(x).lstrip('.'))\n",
    "    m['Features']=m['Features'].str.replace(\"(\",\"\")\n",
    "    \n",
    "    data = [go.Bar(x=m.Feature_Importance.values,y=m.Features.values,text=np.round(m.Feature_Importance,4),\n",
    "            textposition = 'outside',\n",
    "            marker=dict(\n",
    "                color='rgb(158,202,225)',\n",
    "                line=dict(\n",
    "                    color='rgb(8,48,107)',\n",
    "                    width=1.5),\n",
    "            ),\n",
    "            opacity=0.6,\n",
    "            orientation='h'\n",
    "        )]\n",
    "    layout = go.Layout(autosize=False,\n",
    "    width=width_s,\n",
    "    height=height_s,\n",
    "    xaxis=dict(title='Feature Importances',\n",
    "        tickfont=dict(\n",
    "            size=12,\n",
    "            color='black'\n",
    "        )),\n",
    "    yaxis=dict(automargin=True))\n",
    "    fig = go.Figure(data=data, layout=layout)\n",
    "    iplot(fig)\n",
    "    \n",
    "def uni_value(data):\n",
    "    lst=[]\n",
    "    for col in data.columns[:]:\n",
    "        lst.append([col,dict(data[col].value_counts()),data[col].value_counts().values[0]>=len(data)*0.95])\n",
    "    col_values=pd.DataFrame(lst,columns=['Feature','Value_Counts','95_%_same_values'])\n",
    "    col_values.set_index('Feature',drop=True,inplace=True)\n",
    "    del lst\n",
    "    return col_values\n",
    "\n",
    "    \n",
    "def check_cat(data):\n",
    "    cat_var=[]\n",
    "    num_var=[]\n",
    "    for col in data.columns:\n",
    "        if col!='Target':\n",
    "            if len(data[col].value_counts())==2:\n",
    "                cat_var.append(col)\n",
    "            else:\n",
    "                num_var.append(col)\n",
    "    return cat_var,num_var\n",
    "\n",
    "\n",
    "def num_stats(data,columns):\n",
    "    lst=[]\n",
    "    c=0\n",
    "    for col in columns:\n",
    "        corr=stats.pointbiserialr(data[col],data.Target)[0]\n",
    "        corr_p=stats.pointbiserialr(data[col],data.Target)[1]\n",
    "        ttest=stats.ttest_ind(data[data.Target==1][col], data[data.Target==0][col], equal_var=False)[0]\n",
    "        ttest_p=stats.ttest_ind(data[data.Target==1][col], data[data.Target==0][col], equal_var=False)[1]\n",
    "        lst.append((corr,corr_p,ttest,ttest_p,col))\n",
    "    stats_data=pd.DataFrame(lst,columns=['Pt. Biserial Corr','Pt. Biserial Corr p-val','ttest','ttest p-val','Feature'])\n",
    "    stats_data.set_index('Feature',drop=True,inplace=True)\n",
    "    stats_data.sort_values(by='ttest',inplace=True)\n",
    "    del lst\n",
    "    return stats_data\n",
    "\n",
    "\n",
    "### Generate statistics for categorical data\n",
    "def cat_stats(data,columns):\n",
    "    lst=[]\n",
    "    c=0\n",
    "    for col in columns:\n",
    "        if col!='Target':\n",
    "            table, results = rp.crosstab(data['Target'], data[col], prop= 'col', test= 'chi-square')\n",
    "            x=results['results'].values.tolist()\n",
    "            x.append(col)\n",
    "            lst.append(x)\n",
    "    chi_df=pd.DataFrame(lst,columns=['Pearson Chi-square','p-value','Cramers V','Feature'])\n",
    "    chi_df.set_index('Feature',drop=True,inplace=True)\n",
    "    chi_df.sort_values(by='Cramers V',ascending=False,inplace=True)\n",
    "    del lst\n",
    "    return chi_df\n",
    "\n",
    "def remove_feat(data):\n",
    "    col_no_unique=[]\n",
    "    for col in data.columns[:]:\n",
    "        if len(data[col].value_counts())<=1:\n",
    "#             print(col)\n",
    "            col_no_unique.append(col)\n",
    "    return col_no_unique\n",
    "\n",
    "### Generate plot for class balance for categorical nature\n",
    "def class_bal(data,title=''):\n",
    "    d = [go.Bar(x=data.Target.value_counts().index.values,\n",
    "               y=data.Target.value_counts().values,\n",
    "               text=data.Target.value_counts().values,\n",
    "               textposition = 'outside',\n",
    "            )]\n",
    "    layout = go.Layout(title=title,xaxis=dict(title='Domain Type',tickfont=dict(size=12,color='black')),\n",
    "                    yaxis=dict(title='Number of Instances'))\n",
    "    fig = go.Figure(data=d, layout=layout)\n",
    "    iplot(fig)"
   ]
  },
  {
   "cell_type": "code",
   "execution_count": 7,
   "metadata": {},
   "outputs": [],
   "source": [
    "def model_build(model,X_train,Y_train,X_test,Y_test,tree=False,feat=None):\n",
    "    \n",
    "    y_pred_train=model.predict(X_train)\n",
    "    acc_train=accuracy_score(Y_train,y_pred_train)\n",
    "    \n",
    "    print(\"Accuracy of the model for training data is:\",acc_train)\n",
    "    print(\"Confusion Matrix for training data is:\")\n",
    "    cm_train=ConfusionMatrix(Y_train,y_pred_train)\n",
    "    display(cm_train)\n",
    "    \n",
    "    \n",
    "    y_pred_test=model.predict(X_test)\n",
    "    acc_test=accuracy_score(Y_test,y_pred_test)\n",
    "    print(\"Accuracy of the model for test data is:\",acc_test)\n",
    "    print(\"Confusion Matrix for test data is:\")\n",
    "    cm_test=ConfusionMatrix(Y_test,y_pred_test)\n",
    "    display(cm_test)\n",
    "\n",
    "    fpr, tpr, threshold = roc_curve(Y_test, y_pred_test)\n",
    "    roc_auc =auc(fpr, tpr)\n",
    "    mcc=matthews_corrcoef(Y_test,y_pred_test)\n",
    "    if tree==True:\n",
    "        feat_impt_plot(model.feature_importances_,feat)\n",
    "        return model,cm_train,cm_test,acc_train,acc_test,roc_auc,model.feature_importances_,mcc\n",
    "    \n",
    "    return model,cm_train,cm_test,acc_train,acc_test,roc_auc,mcc\n",
    "\n",
    "def KNN_model(X_train,Y_train,X_test,Y_test):\n",
    "    print('\\033[1m' + 'K-Nearest Neighbors' + '\\033[0m')\n",
    "    knn=KNeighborsClassifier()\n",
    "    knn.fit(X_train,Y_train)\n",
    "\n",
    "    return model_build(knn,X_train,Y_train,X_test,Y_test)\n",
    "\n",
    "def Logistic_model(X_train,Y_train,X_test,Y_test):\n",
    "    print('\\033[1m' + 'Logistic Regression' + '\\033[0m')\n",
    "    log=LogisticRegression(random_state=0)\n",
    "    log.fit(X_train,Y_train)\n",
    "    \n",
    "    return model_build(log,X_train,Y_train,X_test,Y_test)\n",
    "\n",
    "def RandomForest(X_train,Y_train,X_test,Y_test,feat):\n",
    "    print('\\033[1m' + 'RandomForest Classifier' + '\\033[0m')\n",
    "    rf=RandomForestClassifier(random_state=0)\n",
    "    rf.fit(X_train,Y_train)\n",
    "\n",
    "    \n",
    "    return model_build(rf,X_train,Y_train,X_test,Y_test,True,feat)\n",
    "\n",
    "def AdaBoost(X_train,Y_train,X_test,Y_test,feat):\n",
    "    print('\\033[1m' + 'Adaoost Classifier' + '\\033[0m')\n",
    "    ada=AdaBoostClassifier(random_state=0)\n",
    "    ada.fit(X_train,Y_train)\n",
    "    \n",
    "    return model_build(ada,X_train,Y_train,X_test,Y_test,True,feat)\n",
    "\n",
    "def GradientBoosting(X_train,Y_train,X_test,Y_test,feat):\n",
    "    print('\\033[1m' + 'GradientBoosting Classifier' + '\\033[0m')\n",
    "    gbc=GradientBoostingClassifier(random_state=0)\n",
    "    gbc.fit(X_train,Y_train)\n",
    "    \n",
    "    return model_build(gbc,X_train,Y_train,X_test,Y_test,True,feat)\n",
    "\n",
    "def ExtraTree(X_train,Y_train,X_test,Y_test,feat):\n",
    "    print('\\033[1m' + 'ExtraTree Classifier' + '\\033[0m')\n",
    "    ext_tree=ExtraTreesClassifier(random_state=0)\n",
    "    ext_tree.fit(X_train,Y_train)\n",
    "    \n",
    "    return model_build(ext_tree,X_train,Y_train,X_test,Y_test,True,feat)\n",
    "\n",
    "def Bagging(X_train,Y_train,X_test,Y_test):\n",
    "    print('\\033[1m' + 'Bagging Classifier' + '\\033[0m')\n",
    "    bagging=BaggingClassifier(random_state=0)\n",
    "    bagging.fit(X_train,Y_train)\n",
    "    \n",
    "    return model_build(bagging,X_train,Y_train,X_test,Y_test)\n",
    "\n",
    "def DeepLearning1(X_train,Y_train,X_test,Y_test):\n",
    "    print('\\033[1m' + 'Neural Network-1' + '\\033[0m')\n",
    "    np.random.seed(0)\n",
    "    deep_learning=Sequential()\n",
    "    deep_learning.add(Dense(units=64,activation='relu',use_bias=True,kernel_initializer='uniform',input_dim=X_train.shape[1]))\n",
    "    deep_learning.add(Dense(units=128,activation='relu',use_bias=True,kernel_initializer='uniform'))\n",
    "    deep_learning.add(Dense(units=1,activation='sigmoid',use_bias=True,kernel_initializer='uniform'))\n",
    "    deep_learning.compile(optimizer='adam',loss='binary_crossentropy',metrics=['accuracy'])\n",
    "    deep_learning.fit(X_train,Y_train,batch_size=20,epochs=80,verbose=False)\n",
    "    acc_train=deep_learning.evaluate(X_train,Y_train,verbose=False)[1]\n",
    "    print(\"The accuracy of the model on training data is:\",acc_train)\n",
    "    cm_train=ConfusionMatrix(Y_train,deep_learning.predict_classes(X_train,batch_size=1,verbose=False).reshape(1,len(X_train))[0])\n",
    "    cm_test=ConfusionMatrix(Y_test,deep_learning.predict_classes(X_test,batch_size=1,verbose=False).reshape(1,len(X_test))[0])\n",
    "    display(cm_train)\n",
    "    acc_test=accuracy_score(Y_test,deep_learning.predict_classes(X_test,batch_size=1,verbose=False))\n",
    "    print(\"The accuracy of the model on test data is:\",acc_test)\n",
    "    display(cm_test)\n",
    "    mcc=matthews_corrcoef(Y_test,deep_learning.predict_classes(X_test,batch_size=1,verbose=False))\n",
    "    fpr, tpr, threshold = roc_curve(Y_test, deep_learning.predict_classes(X_test,batch_size=1,verbose=False))\n",
    "    roc_auc =auc(fpr, tpr)\n",
    "    return  deep_learning,cm_train,cm_test,acc_train,acc_test,roc_auc,mcc"
   ]
  },
  {
   "cell_type": "markdown",
   "metadata": {},
   "source": [
    "### HTML Read Data"
   ]
  },
  {
   "cell_type": "code",
   "execution_count": 8,
   "metadata": {},
   "outputs": [
    {
     "name": "stdout",
     "output_type": "stream",
     "text": [
      "Shape of HTML dataset: (43491, 1461)\n",
      "0 columns have only one unique value in them rendering them meaningless for classification\n",
      "Shape of our dataset after dropping them: (43491, 1461)\n",
      "1297 columns have more than 95% same values\n",
      "Shape of our dataset after dropping them: (43491, 164)\n",
      "38 columns are dropped because of high VIF values\n",
      "Shape of our dataset after dropping them: (43491, 126)\n"
     ]
    }
   ],
   "source": [
    "df_html=pd.read_csv('../html/HTML.csv',index_col='domain')\n",
    "df_html.drop(['Unnamed: 0'],axis=1,inplace=True)\n",
    "cookie=[col for col in df_html.columns if 'number' in col]\n",
    "df_html.drop(cookie,axis=1,inplace=True)\n",
    "print(\"Shape of HTML dataset:\",df_html.shape)\n",
    "df_html.Target=df_html.Target.apply(lambda x: 1 if x=='Malicious' else 0)\n",
    "\n",
    "#### Dropping constants\n",
    "\n",
    "col_no_unique=[]\n",
    "for col in df_html.columns[:-1]:\n",
    "    if len(df_html[col].value_counts())==1:\n",
    "        col_no_unique.append(col)\n",
    "\n",
    "print(\"{} columns have only one unique value in them rendering them meaningless for classification\".format(len(col_no_unique)))\n",
    "### Drop those columns\n",
    "df_html.drop(col_no_unique,axis=1,inplace=True)\n",
    "\n",
    "print(\"Shape of our dataset after dropping them:\",df_html.shape)\n",
    "\n",
    "#### 95% same values\n",
    "\n",
    "lst=[]\n",
    "for col in df_html.columns[:-1]:\n",
    "    lst.append([col,dict(df_html[col].value_counts()),df_html[col].value_counts().values[0]>=len(df_html)*0.95])\n",
    "\n",
    "col_values=pd.DataFrame(lst,columns=['Feature','Value_Counts','95_%_same_values'])\n",
    "col_values.set_index('Feature',drop=True,inplace=True)\n",
    "del lst\n",
    "\n",
    "print(\"{} columns have more than 95% same values\".format(len(col_values[col_values['95_%_same_values']==True].index.values)))\n",
    "\n",
    "df_html.drop(col_values[col_values['95_%_same_values']==True].index.values,axis=1,inplace=True)\n",
    "\n",
    "print(\"Shape of our dataset after dropping them:\",df_html.shape)\n",
    "\n",
    "#### Dropping columns based on high VIF values\n",
    "\n",
    "rem=['a_href_absolute','a_href_relative','a_count','a_href_out_of_domain',\n",
    "     'base_count','base_href_absolute','base_href_out_of_domain',\n",
    "     'iframe_src_absolute','iframe_src_relative','iframe_sandbox_allow_same_origin_count','iframe_src_http',\n",
    "     'img_src_absolute','img_src_http','img_srcset_absolute','img_src_relative','img_srcset_relative','img_count',\n",
    "     'script_src_absolute','script_src_http','script_src_relative','script_count','script_src_https',\n",
    "     'link_rel_wlwmanifest','link_href_absolute','link_href_relative','link_rel_EditURI','link_count',\n",
    "     'link_type_application/wlwmanifest+xml','link_href_https','link_rel_stylesheet','link_href_.png',\n",
    "     'form_action_absolute','form_action_relative','form_count','form_action_https',\n",
    "     'form_enctype_application/x-www-form-urlencoded',\n",
    "     'tbody_count',\n",
    "     'nofollow_count']\n",
    "\n",
    "print('{} columns are dropped because of high VIF values'.format(len(rem)))\n",
    "df_html.drop(rem,axis=1,inplace=True)\n",
    "print(\"Shape of our dataset after dropping them:\",df_html.shape)"
   ]
  },
  {
   "cell_type": "markdown",
   "metadata": {},
   "source": [
    "### JavaScript read data"
   ]
  },
  {
   "cell_type": "code",
   "execution_count": 9,
   "metadata": {},
   "outputs": [
    {
     "name": "stdout",
     "output_type": "stream",
     "text": [
      "113 columns have only one unique value in them rendering them meaningless for classification\n",
      "Shape of our dataset after dropping them: (43294, 288)\n",
      "234 columns have more than 95% same values\n",
      "Shape of our dataset after dropping them: (43294, 54)\n",
      "5 columns are dropped because of high VIF values\n",
      "Shape of our dataset after dropping them: (43294, 49)\n"
     ]
    }
   ],
   "source": [
    "df_js=pd.read_csv('Javascript.csv',low_memory=False,index_col='domain')\n",
    "\n",
    "cookie=[col for col in df_js.columns if 'number' in col]\n",
    "df_js.drop(cookie,axis=1,inplace=True)\n",
    "\n",
    "df_js.rename(columns={'Malicious':'Target'},inplace=True)\n",
    "\n",
    "df_js.Target=df_js.Target.apply(lambda x: 1 if x=='Malicious' else 0)\n",
    "\n",
    "#### Dropping constants\n",
    "\n",
    "col_no_unique=[]\n",
    "for col in df_js.columns[:-1]:\n",
    "    if len(df_js[col].value_counts())==1:\n",
    "        col_no_unique.append(col)\n",
    "\n",
    "print(\"{} columns have only one unique value in them rendering them meaningless for classification\".format(len(col_no_unique)))\n",
    "### Drop those columns\n",
    "df_js.drop(col_no_unique,axis=1,inplace=True)\n",
    "\n",
    "print(\"Shape of our dataset after dropping them:\",df_js.shape)\n",
    "\n",
    "#### 95% same values\n",
    "\n",
    "lst=[]\n",
    "for col in df_js.columns[:-1]:\n",
    "    lst.append([col,dict(df_js[col].value_counts()),df_js[col].value_counts().values[0]>=len(df_js)*0.95])\n",
    "\n",
    "col_values=pd.DataFrame(lst,columns=['Feature','Value_Counts','95_%_same_values'])\n",
    "col_values.set_index('Feature',drop=True,inplace=True)\n",
    "del lst\n",
    "\n",
    "\n",
    "print(\"{} columns have more than 95% same values\".format(len(col_values[col_values['95_%_same_values']==True].index.values)))\n",
    "\n",
    "df_js.drop(col_values[col_values['95_%_same_values']==True].index.values,axis=1,inplace=True)\n",
    "\n",
    "print(\"Shape of our dataset after dropping them:\",df_js.shape)\n",
    "\n",
    "\n",
    "#### Dropping columns based on high VIF values\n",
    "\n",
    "rem=['js_function_.defineProperty(','js_function_.keys(','js_function_.substr','js_function_unescape(','js_function_.log(']\n",
    "\n",
    "print('{} columns are dropped because of high VIF values'.format(len(rem)))\n",
    "df_js.drop(rem,axis=1,inplace=True)\n",
    "print(\"Shape of our dataset after dropping them:\",df_js.shape)"
   ]
  },
  {
   "cell_type": "code",
   "execution_count": 10,
   "metadata": {},
   "outputs": [],
   "source": [
    "df=pd.concat([df_js,df_html],axis=1,join='inner')\n",
    "df['Target_z']=df[['Target','Target']].apply(max,axis=1)\n",
    "df.drop(['Target','Target'],axis=1,inplace=True)\n",
    "df.rename(columns={'Target_z':'Target'},inplace=True)"
   ]
  },
  {
   "cell_type": "code",
   "execution_count": 11,
   "metadata": {},
   "outputs": [],
   "source": [
    "df_sel=df.copy(deep=True)"
   ]
  },
  {
   "cell_type": "code",
   "execution_count": 14,
   "metadata": {},
   "outputs": [
    {
     "name": "stdout",
     "output_type": "stream",
     "text": [
      "Accuracy: 90.50%\n"
     ]
    }
   ],
   "source": [
    "X=df_sel.iloc[:,df_sel.columns!='Target']\n",
    "Y=df_sel.Target\n",
    "\n",
    "X_train, X_test, y_train, y_test = train_test_split(X, Y, test_size=0.3, random_state=7)\n",
    "\n",
    "model = XGBClassifier(random_state=0)\n",
    "model.fit(X_train, y_train)\n",
    "y_pred = model.predict(X_test)\n",
    "predictions = [round(value) for value in y_pred]\n",
    "accuracy = accuracy_score(y_test, predictions)\n",
    "print(\"Accuracy: %.2f%%\" % (accuracy * 100.0))\n",
    "thresholds = np.sort(model.feature_importances_)\n",
    "\n",
    "# for thresh in thresholds:\n",
    "#     selection = SelectFromModel(model, threshold=thresh, prefit=True)\n",
    "#     select_X_train = selection.transform(X_train)\n",
    "#     selection_model = XGBClassifier(random_state=0)\n",
    "#     selection_model.fit(select_X_train, y_train)\n",
    "#     select_X_test = selection.transform(X_test)\n",
    "#     y_pred = selection_model.predict(select_X_test)\n",
    "#     predictions = [round(value) for value in y_pred]\n",
    "#     accuracy = accuracy_score(y_test, predictions)\n",
    "#     print(\"Thresh=%.3f, n=%d, Accuracy: %.2f%%\" % (thresh, select_X_train.shape[1], accuracy*100.0))"
   ]
  },
  {
   "cell_type": "code",
   "execution_count": 15,
   "metadata": {
    "scrolled": true
   },
   "outputs": [],
   "source": [
    "# select features using threshold\n",
    "selection = SelectFromModel(model, threshold=0.010, prefit=True)\n",
    "select_X_train = selection.transform(X_train)\n",
    "# train model\n",
    "selection_model = XGBClassifier(random_state=0)\n",
    "selection_model.fit(select_X_train, y_train)\n",
    "# eval model\n",
    "select_X_test = selection.transform(X_test)\n",
    "y_pred = selection_model.predict(select_X_test)\n",
    "\n",
    "selection_model = selection.get_support()\n",
    "embeded_rf_feature = X.loc[:,selection_model].columns.tolist()"
   ]
  },
  {
   "cell_type": "code",
   "execution_count": 16,
   "metadata": {},
   "outputs": [
    {
     "data": {
      "text/plain": [
       "['dom_function_document.getElementById(',\n",
       " 'dom_function_window.addEventListener(',\n",
       " 'js_function_.find(',\n",
       " 'js_function_.get(',\n",
       " 'js_function_.indexOf(',\n",
       " 'js_function_.push(',\n",
       " 'js_function_.replace(',\n",
       " 'js_function_escape(',\n",
       " 'a_href_.com',\n",
       " 'a_href_http',\n",
       " 'a_href_https',\n",
       " 'br_count',\n",
       " 'center_count',\n",
       " 'div_count',\n",
       " 'form_action_http',\n",
       " 'img_src_.jpg',\n",
       " 'img_src_out_of_domain',\n",
       " 'li_count',\n",
       " 'link_href_.css',\n",
       " 'link_href_http',\n",
       " 'link_href_out_of_domain',\n",
       " 'link_rel_https://api.w.org/',\n",
       " 'link_rel_shortlink',\n",
       " 'link_type_application/rsd+xml',\n",
       " 'link_type_text/css',\n",
       " 'meta_count',\n",
       " 'p_count',\n",
       " 'script_async_true',\n",
       " 'script_src_.js',\n",
       " 'script_src_out_of_domain',\n",
       " 'section_count',\n",
       " 'span_count',\n",
       " 'strong_count',\n",
       " 'title_count',\n",
       " 'Target']"
      ]
     },
     "execution_count": 16,
     "metadata": {},
     "output_type": "execute_result"
    }
   ],
   "source": [
    "embeded_rf_feature.append('Target')\n",
    "embeded_rf_feature"
   ]
  },
  {
   "cell_type": "markdown",
   "metadata": {},
   "source": [
    "### <a id='1' style=\"text-decoration : none; color : #000000;\"> 2. Initial Models</a>"
   ]
  },
  {
   "cell_type": "code",
   "execution_count": 17,
   "metadata": {},
   "outputs": [],
   "source": [
    "fin_col=embeded_rf_feature\n",
    "\n",
    "df_sel=df_sel[fin_col]"
   ]
  },
  {
   "cell_type": "code",
   "execution_count": 18,
   "metadata": {},
   "outputs": [],
   "source": [
    "train=df_sel.iloc[:28496,:]\n",
    "train_X=train.iloc[:,train.columns!='Target'].values\n",
    "train_Y=train.Target.values\n",
    "\n",
    "scaler=StandardScaler()\n",
    "scaled_X_train=scaler.fit_transform(train_X)\n",
    "\n",
    "test=df_sel[fin_col].iloc[28496:,:]\n",
    "test_X=test.iloc[:,test.columns!='Target'].values\n",
    "test_Y=test.Target.values\n",
    "scaled_X_test=scaler.transform(test_X)"
   ]
  },
  {
   "cell_type": "code",
   "execution_count": 19,
   "metadata": {},
   "outputs": [],
   "source": [
    "columns=fin_col\n",
    "columns.remove('Target')"
   ]
  },
  {
   "cell_type": "code",
   "execution_count": 20,
   "metadata": {
    "scrolled": false
   },
   "outputs": [
    {
     "name": "stdout",
     "output_type": "stream",
     "text": [
      "\u001b[1mK-Nearest Neighbors\u001b[0m\n",
      "Accuracy of the model for training data is: 0.9133211678832117\n",
      "Confusion Matrix for training data is:\n"
     ]
    },
    {
     "data": {
      "text/plain": [
       "Predicted  False  True  __all__\n",
       "Actual                         \n",
       "False      22288  2052    24340\n",
       "True         418  3738     4156\n",
       "__all__    22706  5790    28496"
      ]
     },
     "metadata": {},
     "output_type": "display_data"
    },
    {
     "name": "stdout",
     "output_type": "stream",
     "text": [
      "Accuracy of the model for test data is: 0.905756161467289\n",
      "Confusion Matrix for test data is:\n"
     ]
    },
    {
     "data": {
      "text/plain": [
       "Predicted  False  True  __all__\n",
       "Actual                         \n",
       "False       9494   944    10438\n",
       "True         207  1568     1775\n",
       "__all__     9701  2512    12213"
      ]
     },
     "metadata": {},
     "output_type": "display_data"
    },
    {
     "name": "stdout",
     "output_type": "stream",
     "text": [
      "\n",
      "\n",
      "\u001b[1mLogistic Regression\u001b[0m\n",
      "Accuracy of the model for training data is: 0.8938798427849522\n",
      "Confusion Matrix for training data is:\n"
     ]
    },
    {
     "data": {
      "text/plain": [
       "Predicted  False  True  __all__\n",
       "Actual                         \n",
       "False      22243  2097    24340\n",
       "True         927  3229     4156\n",
       "__all__    23170  5326    28496"
      ]
     },
     "metadata": {},
     "output_type": "display_data"
    },
    {
     "name": "stdout",
     "output_type": "stream",
     "text": [
      "Accuracy of the model for test data is: 0.8944567264390404\n",
      "Confusion Matrix for test data is:\n"
     ]
    },
    {
     "data": {
      "text/plain": [
       "Predicted  False  True  __all__\n",
       "Actual                         \n",
       "False       9517   921    10438\n",
       "True         368  1407     1775\n",
       "__all__     9885  2328    12213"
      ]
     },
     "metadata": {},
     "output_type": "display_data"
    },
    {
     "name": "stdout",
     "output_type": "stream",
     "text": [
      "\n",
      "\n",
      "\u001b[1mRandomForest Classifier\u001b[0m\n",
      "Accuracy of the model for training data is: 0.9251824817518248\n",
      "Confusion Matrix for training data is:\n"
     ]
    },
    {
     "data": {
      "text/plain": [
       "Predicted  False  True  __all__\n",
       "Actual                         \n",
       "False      22371  1969    24340\n",
       "True         163  3993     4156\n",
       "__all__    22534  5962    28496"
      ]
     },
     "metadata": {},
     "output_type": "display_data"
    },
    {
     "name": "stdout",
     "output_type": "stream",
     "text": [
      "Accuracy of the model for test data is: 0.910587079341685\n",
      "Confusion Matrix for test data is:\n"
     ]
    },
    {
     "data": {
      "text/plain": [
       "Predicted  False  True  __all__\n",
       "Actual                         \n",
       "False       9542   896    10438\n",
       "True         196  1579     1775\n",
       "__all__     9738  2475    12213"
      ]
     },
     "metadata": {},
     "output_type": "display_data"
    },
    {
     "data": {
      "application/vnd.plotly.v1+json": {
       "config": {
        "linkText": "Export to plot.ly",
        "plotlyServerURL": "https://plot.ly",
        "showLink": true
       },
       "data": [
        {
         "marker": {
          "color": "rgb(158,202,225)",
          "line": {
           "color": "rgb(8,48,107)",
           "width": 1.5
          }
         },
         "opacity": 0.6,
         "orientation": "h",
         "text": [
          0.159,
          0.1189,
          0.0865,
          0.0855,
          0.0646,
          0.064,
          0.0599,
          0.0548,
          0.0377,
          0.0297,
          0.0222,
          0.0219,
          0.0178,
          0.0171,
          0.0163,
          0.016,
          0.0153,
          0.0135,
          0.0125,
          0.012,
          0.0118,
          0.0102,
          0.01,
          0.0072,
          0.0062,
          0.0061,
          0.0046,
          0.0042,
          0.0032,
          0.0031,
          0.0026,
          0.0024,
          0.0017,
          0.0016
         ],
         "textposition": "outside",
         "type": "bar",
         "uid": "c55cba19-3bb1-42de-afcb-aae4d3c60aa7",
         "x": [
          0.15898610843098773,
          0.1189295246691855,
          0.0864997619788348,
          0.08549612437028503,
          0.06459237520837353,
          0.0640419348079671,
          0.05994310989935654,
          0.05479122881392449,
          0.037676852586886266,
          0.029749186657518044,
          0.02215520205626483,
          0.021891877772150868,
          0.01779942336514161,
          0.017053042815511652,
          0.01633621308203845,
          0.01599680374223514,
          0.015340279965511874,
          0.013457723981857687,
          0.012468020569881158,
          0.011988217605730744,
          0.011760672511480422,
          0.010154701596765542,
          0.009955660213489686,
          0.007223399388371468,
          0.006213365544533013,
          0.006141188435883739,
          0.004621487927897698,
          0.004158108789694077,
          0.0032025444596442665,
          0.003067010049589717,
          0.002590500751150435,
          0.002430313543416168,
          0.0016714104758143006,
          0.0016166239326264418
         ],
         "y": [
          "meta_count",
          "script_src_.js",
          "div_count",
          "title_count",
          "li_count",
          "span_count",
          "a_href_https",
          "link_href_out_of_domain",
          "br_count",
          "p_count",
          "a_href_http",
          "push",
          "script_async_true",
          "img_src_out_of_domain",
          "script_src_out_of_domain",
          "link_href_.css",
          "section_count",
          "link_href_http",
          "strong_count",
          "document.getElementById",
          "link_type_text/css",
          "center_count",
          "indexOf",
          "img_src_.jpg",
          "form_action_http",
          "replace",
          "escape",
          "a_href_.com",
          "get",
          "find",
          "link_rel_shortlink",
          "window.addEventListener",
          "link_type_application/rsd+xml",
          "link_rel_https://api.w.org/"
         ]
        }
       ],
       "layout": {
        "autosize": false,
        "height": 1000,
        "width": 1000,
        "xaxis": {
         "tickfont": {
          "color": "black",
          "size": 12
         },
         "title": "Feature Importances"
        },
        "yaxis": {
         "automargin": true
        }
       }
      },
      "text/html": [
       "<div id=\"2a460684-0f84-42b5-8aa9-f4f7b70fe4d6\" style=\"height: 1000px; width: 1000px;\" class=\"plotly-graph-div\"></div><script type=\"text/javascript\">require([\"plotly\"], function(Plotly) { window.PLOTLYENV=window.PLOTLYENV || {};window.PLOTLYENV.BASE_URL=\"https://plot.ly\";Plotly.newPlot(\"2a460684-0f84-42b5-8aa9-f4f7b70fe4d6\", [{\"marker\": {\"color\": \"rgb(158,202,225)\", \"line\": {\"color\": \"rgb(8,48,107)\", \"width\": 1.5}}, \"opacity\": 0.6, \"orientation\": \"h\", \"text\": [0.159, 0.1189, 0.0865, 0.0855, 0.0646, 0.064, 0.0599, 0.0548, 0.0377, 0.0297, 0.0222, 0.0219, 0.0178, 0.0171, 0.0163, 0.016, 0.0153, 0.0135, 0.0125, 0.012, 0.0118, 0.0102, 0.01, 0.0072, 0.0062, 0.0061, 0.0046, 0.0042, 0.0032, 0.0031, 0.0026, 0.0024, 0.0017, 0.0016], \"textposition\": \"outside\", \"x\": [0.15898610843098773, 0.1189295246691855, 0.0864997619788348, 0.08549612437028503, 0.06459237520837353, 0.0640419348079671, 0.05994310989935654, 0.05479122881392449, 0.037676852586886266, 0.029749186657518044, 0.02215520205626483, 0.021891877772150868, 0.01779942336514161, 0.017053042815511652, 0.01633621308203845, 0.01599680374223514, 0.015340279965511874, 0.013457723981857687, 0.012468020569881158, 0.011988217605730744, 0.011760672511480422, 0.010154701596765542, 0.009955660213489686, 0.007223399388371468, 0.006213365544533013, 0.006141188435883739, 0.004621487927897698, 0.004158108789694077, 0.0032025444596442665, 0.003067010049589717, 0.002590500751150435, 0.002430313543416168, 0.0016714104758143006, 0.0016166239326264418], \"y\": [\"meta_count\", \"script_src_.js\", \"div_count\", \"title_count\", \"li_count\", \"span_count\", \"a_href_https\", \"link_href_out_of_domain\", \"br_count\", \"p_count\", \"a_href_http\", \"push\", \"script_async_true\", \"img_src_out_of_domain\", \"script_src_out_of_domain\", \"link_href_.css\", \"section_count\", \"link_href_http\", \"strong_count\", \"document.getElementById\", \"link_type_text/css\", \"center_count\", \"indexOf\", \"img_src_.jpg\", \"form_action_http\", \"replace\", \"escape\", \"a_href_.com\", \"get\", \"find\", \"link_rel_shortlink\", \"window.addEventListener\", \"link_type_application/rsd+xml\", \"link_rel_https://api.w.org/\"], \"type\": \"bar\", \"uid\": \"c55cba19-3bb1-42de-afcb-aae4d3c60aa7\"}], {\"autosize\": false, \"height\": 1000, \"width\": 1000, \"xaxis\": {\"tickfont\": {\"color\": \"black\", \"size\": 12}, \"title\": \"Feature Importances\"}, \"yaxis\": {\"automargin\": true}}, {\"showLink\": true, \"linkText\": \"Export to plot.ly\", \"plotlyServerURL\": \"https://plot.ly\"})});</script>"
      ],
      "text/vnd.plotly.v1+html": [
       "<div id=\"2a460684-0f84-42b5-8aa9-f4f7b70fe4d6\" style=\"height: 1000px; width: 1000px;\" class=\"plotly-graph-div\"></div><script type=\"text/javascript\">require([\"plotly\"], function(Plotly) { window.PLOTLYENV=window.PLOTLYENV || {};window.PLOTLYENV.BASE_URL=\"https://plot.ly\";Plotly.newPlot(\"2a460684-0f84-42b5-8aa9-f4f7b70fe4d6\", [{\"marker\": {\"color\": \"rgb(158,202,225)\", \"line\": {\"color\": \"rgb(8,48,107)\", \"width\": 1.5}}, \"opacity\": 0.6, \"orientation\": \"h\", \"text\": [0.159, 0.1189, 0.0865, 0.0855, 0.0646, 0.064, 0.0599, 0.0548, 0.0377, 0.0297, 0.0222, 0.0219, 0.0178, 0.0171, 0.0163, 0.016, 0.0153, 0.0135, 0.0125, 0.012, 0.0118, 0.0102, 0.01, 0.0072, 0.0062, 0.0061, 0.0046, 0.0042, 0.0032, 0.0031, 0.0026, 0.0024, 0.0017, 0.0016], \"textposition\": \"outside\", \"x\": [0.15898610843098773, 0.1189295246691855, 0.0864997619788348, 0.08549612437028503, 0.06459237520837353, 0.0640419348079671, 0.05994310989935654, 0.05479122881392449, 0.037676852586886266, 0.029749186657518044, 0.02215520205626483, 0.021891877772150868, 0.01779942336514161, 0.017053042815511652, 0.01633621308203845, 0.01599680374223514, 0.015340279965511874, 0.013457723981857687, 0.012468020569881158, 0.011988217605730744, 0.011760672511480422, 0.010154701596765542, 0.009955660213489686, 0.007223399388371468, 0.006213365544533013, 0.006141188435883739, 0.004621487927897698, 0.004158108789694077, 0.0032025444596442665, 0.003067010049589717, 0.002590500751150435, 0.002430313543416168, 0.0016714104758143006, 0.0016166239326264418], \"y\": [\"meta_count\", \"script_src_.js\", \"div_count\", \"title_count\", \"li_count\", \"span_count\", \"a_href_https\", \"link_href_out_of_domain\", \"br_count\", \"p_count\", \"a_href_http\", \"push\", \"script_async_true\", \"img_src_out_of_domain\", \"script_src_out_of_domain\", \"link_href_.css\", \"section_count\", \"link_href_http\", \"strong_count\", \"document.getElementById\", \"link_type_text/css\", \"center_count\", \"indexOf\", \"img_src_.jpg\", \"form_action_http\", \"replace\", \"escape\", \"a_href_.com\", \"get\", \"find\", \"link_rel_shortlink\", \"window.addEventListener\", \"link_type_application/rsd+xml\", \"link_rel_https://api.w.org/\"], \"type\": \"bar\", \"uid\": \"c55cba19-3bb1-42de-afcb-aae4d3c60aa7\"}], {\"autosize\": false, \"height\": 1000, \"width\": 1000, \"xaxis\": {\"tickfont\": {\"color\": \"black\", \"size\": 12}, \"title\": \"Feature Importances\"}, \"yaxis\": {\"automargin\": true}}, {\"showLink\": true, \"linkText\": \"Export to plot.ly\", \"plotlyServerURL\": \"https://plot.ly\"})});</script>"
      ]
     },
     "metadata": {},
     "output_type": "display_data"
    },
    {
     "name": "stdout",
     "output_type": "stream",
     "text": [
      "\n",
      "\n",
      "\u001b[1mAdaoost Classifier\u001b[0m\n",
      "Accuracy of the model for training data is: 0.8995297585626053\n",
      "Confusion Matrix for training data is:\n"
     ]
    },
    {
     "data": {
      "text/plain": [
       "Predicted  False  True  __all__\n",
       "Actual                         \n",
       "False      22197  2143    24340\n",
       "True         720  3436     4156\n",
       "__all__    22917  5579    28496"
      ]
     },
     "metadata": {},
     "output_type": "display_data"
    },
    {
     "name": "stdout",
     "output_type": "stream",
     "text": [
      "Accuracy of the model for test data is: 0.9001883239171374\n",
      "Confusion Matrix for test data is:\n"
     ]
    },
    {
     "data": {
      "text/plain": [
       "Predicted  False  True  __all__\n",
       "Actual                         \n",
       "False       9496   942    10438\n",
       "True         277  1498     1775\n",
       "__all__     9773  2440    12213"
      ]
     },
     "metadata": {},
     "output_type": "display_data"
    },
    {
     "data": {
      "application/vnd.plotly.v1+json": {
       "config": {
        "linkText": "Export to plot.ly",
        "plotlyServerURL": "https://plot.ly",
        "showLink": true
       },
       "data": [
        {
         "marker": {
          "color": "rgb(158,202,225)",
          "line": {
           "color": "rgb(8,48,107)",
           "width": 1.5
          }
         },
         "opacity": 0.6,
         "orientation": "h",
         "text": [
          0.08,
          0.08,
          0.06,
          0.06,
          0.04,
          0.04,
          0.04,
          0.04,
          0.04,
          0.04,
          0.04,
          0.04,
          0.04,
          0.04,
          0.04,
          0.02,
          0.02,
          0.02,
          0.02,
          0.02,
          0.02,
          0.02,
          0.02,
          0.02,
          0.02,
          0.02,
          0.02,
          0.02,
          0.02,
          0,
          0,
          0,
          0,
          0
         ],
         "textposition": "outside",
         "type": "bar",
         "uid": "771af598-d398-4d0e-bfbf-59f0ad30cd12",
         "x": [
          0.08,
          0.08,
          0.06,
          0.06,
          0.04,
          0.04,
          0.04,
          0.04,
          0.04,
          0.04,
          0.04,
          0.04,
          0.04,
          0.04,
          0.04,
          0.02,
          0.02,
          0.02,
          0.02,
          0.02,
          0.02,
          0.02,
          0.02,
          0.02,
          0.02,
          0.02,
          0.02,
          0.02,
          0.02,
          0,
          0,
          0,
          0,
          0
         ],
         "y": [
          "title_count",
          "a_href_http",
          "script_src_out_of_domain",
          "a_href_https",
          "img_src_.jpg",
          "span_count",
          "section_count",
          "p_count",
          "link_type_text/css",
          "link_href_http",
          "img_src_out_of_domain",
          "li_count",
          "a_href_.com",
          "indexOf",
          "push",
          "center_count",
          "link_rel_shortlink",
          "strong_count",
          "find",
          "get",
          "script_async_true",
          "meta_count",
          "link_type_application/rsd+xml",
          "link_href_out_of_domain",
          "escape",
          "link_href_.css",
          "window.addEventListener",
          "br_count",
          "form_action_http",
          "div_count",
          "replace",
          "link_rel_https://api.w.org/",
          "script_src_.js",
          "document.getElementById"
         ]
        }
       ],
       "layout": {
        "autosize": false,
        "height": 1000,
        "width": 1000,
        "xaxis": {
         "tickfont": {
          "color": "black",
          "size": 12
         },
         "title": "Feature Importances"
        },
        "yaxis": {
         "automargin": true
        }
       }
      },
      "text/html": [
       "<div id=\"bb3b01f0-7c15-4269-a321-1dfa3bc231a3\" style=\"height: 1000px; width: 1000px;\" class=\"plotly-graph-div\"></div><script type=\"text/javascript\">require([\"plotly\"], function(Plotly) { window.PLOTLYENV=window.PLOTLYENV || {};window.PLOTLYENV.BASE_URL=\"https://plot.ly\";Plotly.newPlot(\"bb3b01f0-7c15-4269-a321-1dfa3bc231a3\", [{\"marker\": {\"color\": \"rgb(158,202,225)\", \"line\": {\"color\": \"rgb(8,48,107)\", \"width\": 1.5}}, \"opacity\": 0.6, \"orientation\": \"h\", \"text\": [0.08, 0.08, 0.06, 0.06, 0.04, 0.04, 0.04, 0.04, 0.04, 0.04, 0.04, 0.04, 0.04, 0.04, 0.04, 0.02, 0.02, 0.02, 0.02, 0.02, 0.02, 0.02, 0.02, 0.02, 0.02, 0.02, 0.02, 0.02, 0.02, 0.0, 0.0, 0.0, 0.0, 0.0], \"textposition\": \"outside\", \"x\": [0.08, 0.08, 0.06, 0.06, 0.04, 0.04, 0.04, 0.04, 0.04, 0.04, 0.04, 0.04, 0.04, 0.04, 0.04, 0.02, 0.02, 0.02, 0.02, 0.02, 0.02, 0.02, 0.02, 0.02, 0.02, 0.02, 0.02, 0.02, 0.02, 0.0, 0.0, 0.0, 0.0, 0.0], \"y\": [\"title_count\", \"a_href_http\", \"script_src_out_of_domain\", \"a_href_https\", \"img_src_.jpg\", \"span_count\", \"section_count\", \"p_count\", \"link_type_text/css\", \"link_href_http\", \"img_src_out_of_domain\", \"li_count\", \"a_href_.com\", \"indexOf\", \"push\", \"center_count\", \"link_rel_shortlink\", \"strong_count\", \"find\", \"get\", \"script_async_true\", \"meta_count\", \"link_type_application/rsd+xml\", \"link_href_out_of_domain\", \"escape\", \"link_href_.css\", \"window.addEventListener\", \"br_count\", \"form_action_http\", \"div_count\", \"replace\", \"link_rel_https://api.w.org/\", \"script_src_.js\", \"document.getElementById\"], \"type\": \"bar\", \"uid\": \"771af598-d398-4d0e-bfbf-59f0ad30cd12\"}], {\"autosize\": false, \"height\": 1000, \"width\": 1000, \"xaxis\": {\"tickfont\": {\"color\": \"black\", \"size\": 12}, \"title\": \"Feature Importances\"}, \"yaxis\": {\"automargin\": true}}, {\"showLink\": true, \"linkText\": \"Export to plot.ly\", \"plotlyServerURL\": \"https://plot.ly\"})});</script>"
      ],
      "text/vnd.plotly.v1+html": [
       "<div id=\"bb3b01f0-7c15-4269-a321-1dfa3bc231a3\" style=\"height: 1000px; width: 1000px;\" class=\"plotly-graph-div\"></div><script type=\"text/javascript\">require([\"plotly\"], function(Plotly) { window.PLOTLYENV=window.PLOTLYENV || {};window.PLOTLYENV.BASE_URL=\"https://plot.ly\";Plotly.newPlot(\"bb3b01f0-7c15-4269-a321-1dfa3bc231a3\", [{\"marker\": {\"color\": \"rgb(158,202,225)\", \"line\": {\"color\": \"rgb(8,48,107)\", \"width\": 1.5}}, \"opacity\": 0.6, \"orientation\": \"h\", \"text\": [0.08, 0.08, 0.06, 0.06, 0.04, 0.04, 0.04, 0.04, 0.04, 0.04, 0.04, 0.04, 0.04, 0.04, 0.04, 0.02, 0.02, 0.02, 0.02, 0.02, 0.02, 0.02, 0.02, 0.02, 0.02, 0.02, 0.02, 0.02, 0.02, 0.0, 0.0, 0.0, 0.0, 0.0], \"textposition\": \"outside\", \"x\": [0.08, 0.08, 0.06, 0.06, 0.04, 0.04, 0.04, 0.04, 0.04, 0.04, 0.04, 0.04, 0.04, 0.04, 0.04, 0.02, 0.02, 0.02, 0.02, 0.02, 0.02, 0.02, 0.02, 0.02, 0.02, 0.02, 0.02, 0.02, 0.02, 0.0, 0.0, 0.0, 0.0, 0.0], \"y\": [\"title_count\", \"a_href_http\", \"script_src_out_of_domain\", \"a_href_https\", \"img_src_.jpg\", \"span_count\", \"section_count\", \"p_count\", \"link_type_text/css\", \"link_href_http\", \"img_src_out_of_domain\", \"li_count\", \"a_href_.com\", \"indexOf\", \"push\", \"center_count\", \"link_rel_shortlink\", \"strong_count\", \"find\", \"get\", \"script_async_true\", \"meta_count\", \"link_type_application/rsd+xml\", \"link_href_out_of_domain\", \"escape\", \"link_href_.css\", \"window.addEventListener\", \"br_count\", \"form_action_http\", \"div_count\", \"replace\", \"link_rel_https://api.w.org/\", \"script_src_.js\", \"document.getElementById\"], \"type\": \"bar\", \"uid\": \"771af598-d398-4d0e-bfbf-59f0ad30cd12\"}], {\"autosize\": false, \"height\": 1000, \"width\": 1000, \"xaxis\": {\"tickfont\": {\"color\": \"black\", \"size\": 12}, \"title\": \"Feature Importances\"}, \"yaxis\": {\"automargin\": true}}, {\"showLink\": true, \"linkText\": \"Export to plot.ly\", \"plotlyServerURL\": \"https://plot.ly\"})});</script>"
      ]
     },
     "metadata": {},
     "output_type": "display_data"
    },
    {
     "name": "stdout",
     "output_type": "stream",
     "text": [
      "\n",
      "\n",
      "\u001b[1mGradientBoosting Classifier\u001b[0m\n",
      "Accuracy of the model for training data is: 0.9096364402021336\n",
      "Confusion Matrix for training data is:\n"
     ]
    },
    {
     "data": {
      "text/plain": [
       "Predicted  False  True  __all__\n",
       "Actual                         \n",
       "False      22340  2000    24340\n",
       "True         575  3581     4156\n",
       "__all__    22915  5581    28496"
      ]
     },
     "metadata": {},
     "output_type": "display_data"
    },
    {
     "name": "stdout",
     "output_type": "stream",
     "text": [
      "Accuracy of the model for test data is: 0.9064930811430443\n",
      "Confusion Matrix for test data is:\n"
     ]
    },
    {
     "data": {
      "text/plain": [
       "Predicted  False  True  __all__\n",
       "Actual                         \n",
       "False       9540   898    10438\n",
       "True         244  1531     1775\n",
       "__all__     9784  2429    12213"
      ]
     },
     "metadata": {},
     "output_type": "display_data"
    },
    {
     "data": {
      "application/vnd.plotly.v1+json": {
       "config": {
        "linkText": "Export to plot.ly",
        "plotlyServerURL": "https://plot.ly",
        "showLink": true
       },
       "data": [
        {
         "marker": {
          "color": "rgb(158,202,225)",
          "line": {
           "color": "rgb(8,48,107)",
           "width": 1.5
          }
         },
         "opacity": 0.6,
         "orientation": "h",
         "text": [
          0.7405,
          0.0516,
          0.0454,
          0.0287,
          0.0276,
          0.0151,
          0.0123,
          0.0114,
          0.0066,
          0.006,
          0.0059,
          0.0054,
          0.0041,
          0.0039,
          0.0039,
          0.0037,
          0.0033,
          0.0033,
          0.0027,
          0.0025,
          0.0024,
          0.0024,
          0.0021,
          0.0019,
          0.0013,
          0.0012,
          0.0012,
          0.0009,
          0.0009,
          0.0006,
          0.0006,
          0.0003,
          0.0001,
          0.0001
         ],
         "textposition": "outside",
         "type": "bar",
         "uid": "3a92912f-3ebf-46dc-975c-0a0c9592c388",
         "x": [
          0.7404846214796867,
          0.05161178507362013,
          0.04540386288608836,
          0.028736509086291242,
          0.027608627321710117,
          0.015112691655937505,
          0.01226753225297763,
          0.011418682712362783,
          0.006598061589849666,
          0.005987884798080266,
          0.005874062652662858,
          0.005404761627783152,
          0.004128786977721704,
          0.003946862234365773,
          0.003857351920024374,
          0.0037281603642870934,
          0.0033021522825620055,
          0.00325993821689262,
          0.0027101259650835576,
          0.0024806160709165215,
          0.002434020614099254,
          0.0024288010210980517,
          0.002144051180796735,
          0.0018886306456144906,
          0.0013105258298272478,
          0.0011977793584914632,
          0.0011861914675685779,
          0.0009017483165838944,
          0.0008551228186218584,
          0.0006131149611348531,
          0.0005792682953753634,
          0.00030514413831465,
          0.0001240252698106176,
          0.00010849891375889658
         ],
         "y": [
          "title_count",
          "link_href_out_of_domain",
          "div_count",
          "meta_count",
          "push",
          "a_href_https",
          "a_href_http",
          "indexOf",
          "script_async_true",
          "section_count",
          "p_count",
          "document.getElementById",
          "center_count",
          "strong_count",
          "link_type_text/css",
          "script_src_.js",
          "link_href_.css",
          "get",
          "li_count",
          "form_action_http",
          "link_rel_shortlink",
          "link_href_http",
          "script_src_out_of_domain",
          "br_count",
          "a_href_.com",
          "link_type_application/rsd+xml",
          "span_count",
          "escape",
          "replace",
          "img_src_.jpg",
          "img_src_out_of_domain",
          "link_rel_https://api.w.org/",
          "window.addEventListener",
          "find"
         ]
        }
       ],
       "layout": {
        "autosize": false,
        "height": 1000,
        "width": 1000,
        "xaxis": {
         "tickfont": {
          "color": "black",
          "size": 12
         },
         "title": "Feature Importances"
        },
        "yaxis": {
         "automargin": true
        }
       }
      },
      "text/html": [
       "<div id=\"c457b691-39be-4eaf-a7ac-6814e23d8d81\" style=\"height: 1000px; width: 1000px;\" class=\"plotly-graph-div\"></div><script type=\"text/javascript\">require([\"plotly\"], function(Plotly) { window.PLOTLYENV=window.PLOTLYENV || {};window.PLOTLYENV.BASE_URL=\"https://plot.ly\";Plotly.newPlot(\"c457b691-39be-4eaf-a7ac-6814e23d8d81\", [{\"marker\": {\"color\": \"rgb(158,202,225)\", \"line\": {\"color\": \"rgb(8,48,107)\", \"width\": 1.5}}, \"opacity\": 0.6, \"orientation\": \"h\", \"text\": [0.7405, 0.0516, 0.0454, 0.0287, 0.0276, 0.0151, 0.0123, 0.0114, 0.0066, 0.006, 0.0059, 0.0054, 0.0041, 0.0039, 0.0039, 0.0037, 0.0033, 0.0033, 0.0027, 0.0025, 0.0024, 0.0024, 0.0021, 0.0019, 0.0013, 0.0012, 0.0012, 0.0009, 0.0009, 0.0006, 0.0006, 0.0003, 0.0001, 0.0001], \"textposition\": \"outside\", \"x\": [0.7404846214796867, 0.05161178507362013, 0.04540386288608836, 0.028736509086291242, 0.027608627321710117, 0.015112691655937505, 0.01226753225297763, 0.011418682712362783, 0.006598061589849666, 0.005987884798080266, 0.005874062652662858, 0.005404761627783152, 0.004128786977721704, 0.003946862234365773, 0.003857351920024374, 0.0037281603642870934, 0.0033021522825620055, 0.00325993821689262, 0.0027101259650835576, 0.0024806160709165215, 0.002434020614099254, 0.0024288010210980517, 0.002144051180796735, 0.0018886306456144906, 0.0013105258298272478, 0.0011977793584914632, 0.0011861914675685779, 0.0009017483165838944, 0.0008551228186218584, 0.0006131149611348531, 0.0005792682953753634, 0.00030514413831465, 0.0001240252698106176, 0.00010849891375889658], \"y\": [\"title_count\", \"link_href_out_of_domain\", \"div_count\", \"meta_count\", \"push\", \"a_href_https\", \"a_href_http\", \"indexOf\", \"script_async_true\", \"section_count\", \"p_count\", \"document.getElementById\", \"center_count\", \"strong_count\", \"link_type_text/css\", \"script_src_.js\", \"link_href_.css\", \"get\", \"li_count\", \"form_action_http\", \"link_rel_shortlink\", \"link_href_http\", \"script_src_out_of_domain\", \"br_count\", \"a_href_.com\", \"link_type_application/rsd+xml\", \"span_count\", \"escape\", \"replace\", \"img_src_.jpg\", \"img_src_out_of_domain\", \"link_rel_https://api.w.org/\", \"window.addEventListener\", \"find\"], \"type\": \"bar\", \"uid\": \"3a92912f-3ebf-46dc-975c-0a0c9592c388\"}], {\"autosize\": false, \"height\": 1000, \"width\": 1000, \"xaxis\": {\"tickfont\": {\"color\": \"black\", \"size\": 12}, \"title\": \"Feature Importances\"}, \"yaxis\": {\"automargin\": true}}, {\"showLink\": true, \"linkText\": \"Export to plot.ly\", \"plotlyServerURL\": \"https://plot.ly\"})});</script>"
      ],
      "text/vnd.plotly.v1+html": [
       "<div id=\"c457b691-39be-4eaf-a7ac-6814e23d8d81\" style=\"height: 1000px; width: 1000px;\" class=\"plotly-graph-div\"></div><script type=\"text/javascript\">require([\"plotly\"], function(Plotly) { window.PLOTLYENV=window.PLOTLYENV || {};window.PLOTLYENV.BASE_URL=\"https://plot.ly\";Plotly.newPlot(\"c457b691-39be-4eaf-a7ac-6814e23d8d81\", [{\"marker\": {\"color\": \"rgb(158,202,225)\", \"line\": {\"color\": \"rgb(8,48,107)\", \"width\": 1.5}}, \"opacity\": 0.6, \"orientation\": \"h\", \"text\": [0.7405, 0.0516, 0.0454, 0.0287, 0.0276, 0.0151, 0.0123, 0.0114, 0.0066, 0.006, 0.0059, 0.0054, 0.0041, 0.0039, 0.0039, 0.0037, 0.0033, 0.0033, 0.0027, 0.0025, 0.0024, 0.0024, 0.0021, 0.0019, 0.0013, 0.0012, 0.0012, 0.0009, 0.0009, 0.0006, 0.0006, 0.0003, 0.0001, 0.0001], \"textposition\": \"outside\", \"x\": [0.7404846214796867, 0.05161178507362013, 0.04540386288608836, 0.028736509086291242, 0.027608627321710117, 0.015112691655937505, 0.01226753225297763, 0.011418682712362783, 0.006598061589849666, 0.005987884798080266, 0.005874062652662858, 0.005404761627783152, 0.004128786977721704, 0.003946862234365773, 0.003857351920024374, 0.0037281603642870934, 0.0033021522825620055, 0.00325993821689262, 0.0027101259650835576, 0.0024806160709165215, 0.002434020614099254, 0.0024288010210980517, 0.002144051180796735, 0.0018886306456144906, 0.0013105258298272478, 0.0011977793584914632, 0.0011861914675685779, 0.0009017483165838944, 0.0008551228186218584, 0.0006131149611348531, 0.0005792682953753634, 0.00030514413831465, 0.0001240252698106176, 0.00010849891375889658], \"y\": [\"title_count\", \"link_href_out_of_domain\", \"div_count\", \"meta_count\", \"push\", \"a_href_https\", \"a_href_http\", \"indexOf\", \"script_async_true\", \"section_count\", \"p_count\", \"document.getElementById\", \"center_count\", \"strong_count\", \"link_type_text/css\", \"script_src_.js\", \"link_href_.css\", \"get\", \"li_count\", \"form_action_http\", \"link_rel_shortlink\", \"link_href_http\", \"script_src_out_of_domain\", \"br_count\", \"a_href_.com\", \"link_type_application/rsd+xml\", \"span_count\", \"escape\", \"replace\", \"img_src_.jpg\", \"img_src_out_of_domain\", \"link_rel_https://api.w.org/\", \"window.addEventListener\", \"find\"], \"type\": \"bar\", \"uid\": \"3a92912f-3ebf-46dc-975c-0a0c9592c388\"}], {\"autosize\": false, \"height\": 1000, \"width\": 1000, \"xaxis\": {\"tickfont\": {\"color\": \"black\", \"size\": 12}, \"title\": \"Feature Importances\"}, \"yaxis\": {\"automargin\": true}}, {\"showLink\": true, \"linkText\": \"Export to plot.ly\", \"plotlyServerURL\": \"https://plot.ly\"})});</script>"
      ]
     },
     "metadata": {},
     "output_type": "display_data"
    },
    {
     "name": "stdout",
     "output_type": "stream",
     "text": [
      "\n",
      "\n",
      "\u001b[1mExtraTree Classifier\u001b[0m\n",
      "Accuracy of the model for training data is: 0.9273933183604717\n",
      "Confusion Matrix for training data is:\n"
     ]
    },
    {
     "data": {
      "text/plain": [
       "Predicted  False  True  __all__\n",
       "Actual                         \n",
       "False      22377  1963    24340\n",
       "True         106  4050     4156\n",
       "__all__    22483  6013    28496"
      ]
     },
     "metadata": {},
     "output_type": "display_data"
    },
    {
     "name": "stdout",
     "output_type": "stream",
     "text": [
      "Accuracy of the model for test data is: 0.9111602390894948\n",
      "Confusion Matrix for test data is:\n"
     ]
    },
    {
     "data": {
      "text/plain": [
       "Predicted  False  True  __all__\n",
       "Actual                         \n",
       "False       9541   897    10438\n",
       "True         188  1587     1775\n",
       "__all__     9729  2484    12213"
      ]
     },
     "metadata": {},
     "output_type": "display_data"
    },
    {
     "data": {
      "application/vnd.plotly.v1+json": {
       "config": {
        "linkText": "Export to plot.ly",
        "plotlyServerURL": "https://plot.ly",
        "showLink": true
       },
       "data": [
        {
         "marker": {
          "color": "rgb(158,202,225)",
          "line": {
           "color": "rgb(8,48,107)",
           "width": 1.5
          }
         },
         "opacity": 0.6,
         "orientation": "h",
         "text": [
          0.0899,
          0.0714,
          0.0713,
          0.059,
          0.0565,
          0.0561,
          0.0482,
          0.0444,
          0.043,
          0.0422,
          0.0399,
          0.0371,
          0.0322,
          0.0311,
          0.0303,
          0.0272,
          0.0272,
          0.0202,
          0.0192,
          0.0171,
          0.0171,
          0.0169,
          0.0168,
          0.0126,
          0.0116,
          0.0092,
          0.0092,
          0.0089,
          0.0071,
          0.0066,
          0.0058,
          0.0053,
          0.0049,
          0.0046
         ],
         "textposition": "outside",
         "type": "bar",
         "uid": "3bb8e31c-620e-43f3-a446-da17a8e73750",
         "x": [
          0.08994178590027209,
          0.07139518890907014,
          0.07126935718039774,
          0.058963683863836124,
          0.05649733106865042,
          0.05612890918748672,
          0.04820278715674709,
          0.04439352995177525,
          0.04304508012807101,
          0.04220367073387996,
          0.03989753211470315,
          0.03710534288833845,
          0.03224353381110805,
          0.031090680930321295,
          0.030288275573903893,
          0.027246683867169125,
          0.027182927935617864,
          0.0201637919624715,
          0.019182301000938092,
          0.017134696745285782,
          0.017054640409571775,
          0.016920864324715058,
          0.016779345844600592,
          0.012558957328542914,
          0.011649781336713827,
          0.009161516420666708,
          0.009152718437435089,
          0.008927917351975711,
          0.007075704767214015,
          0.006588778932423442,
          0.0058022090747958475,
          0.005304008342023566,
          0.004882774707357625,
          0.004563691811920098
         ],
         "y": [
          "script_src_.js",
          "script_async_true",
          "link_type_text/css",
          "script_src_out_of_domain",
          "link_href_.css",
          "br_count",
          "div_count",
          "li_count",
          "p_count",
          "meta_count",
          "a_href_http",
          "a_href_https",
          "link_href_out_of_domain",
          "span_count",
          "title_count",
          "img_src_.jpg",
          "img_src_out_of_domain",
          "section_count",
          "center_count",
          "link_href_http",
          "push",
          "form_action_http",
          "document.getElementById",
          "replace",
          "strong_count",
          "indexOf",
          "link_rel_https://api.w.org/",
          "window.addEventListener",
          "escape",
          "a_href_.com",
          "link_rel_shortlink",
          "get",
          "link_type_application/rsd+xml",
          "find"
         ]
        }
       ],
       "layout": {
        "autosize": false,
        "height": 1000,
        "width": 1000,
        "xaxis": {
         "tickfont": {
          "color": "black",
          "size": 12
         },
         "title": "Feature Importances"
        },
        "yaxis": {
         "automargin": true
        }
       }
      },
      "text/html": [
       "<div id=\"be6ed04e-d9b8-4dc5-83ca-dc2f124e8c82\" style=\"height: 1000px; width: 1000px;\" class=\"plotly-graph-div\"></div><script type=\"text/javascript\">require([\"plotly\"], function(Plotly) { window.PLOTLYENV=window.PLOTLYENV || {};window.PLOTLYENV.BASE_URL=\"https://plot.ly\";Plotly.newPlot(\"be6ed04e-d9b8-4dc5-83ca-dc2f124e8c82\", [{\"marker\": {\"color\": \"rgb(158,202,225)\", \"line\": {\"color\": \"rgb(8,48,107)\", \"width\": 1.5}}, \"opacity\": 0.6, \"orientation\": \"h\", \"text\": [0.0899, 0.0714, 0.0713, 0.059, 0.0565, 0.0561, 0.0482, 0.0444, 0.043, 0.0422, 0.0399, 0.0371, 0.0322, 0.0311, 0.0303, 0.0272, 0.0272, 0.0202, 0.0192, 0.0171, 0.0171, 0.0169, 0.0168, 0.0126, 0.0116, 0.0092, 0.0092, 0.0089, 0.0071, 0.0066, 0.0058, 0.0053, 0.0049, 0.0046], \"textposition\": \"outside\", \"x\": [0.08994178590027209, 0.07139518890907014, 0.07126935718039774, 0.058963683863836124, 0.05649733106865042, 0.05612890918748672, 0.04820278715674709, 0.04439352995177525, 0.04304508012807101, 0.04220367073387996, 0.03989753211470315, 0.03710534288833845, 0.03224353381110805, 0.031090680930321295, 0.030288275573903893, 0.027246683867169125, 0.027182927935617864, 0.0201637919624715, 0.019182301000938092, 0.017134696745285782, 0.017054640409571775, 0.016920864324715058, 0.016779345844600592, 0.012558957328542914, 0.011649781336713827, 0.009161516420666708, 0.009152718437435089, 0.008927917351975711, 0.007075704767214015, 0.006588778932423442, 0.0058022090747958475, 0.005304008342023566, 0.004882774707357625, 0.004563691811920098], \"y\": [\"script_src_.js\", \"script_async_true\", \"link_type_text/css\", \"script_src_out_of_domain\", \"link_href_.css\", \"br_count\", \"div_count\", \"li_count\", \"p_count\", \"meta_count\", \"a_href_http\", \"a_href_https\", \"link_href_out_of_domain\", \"span_count\", \"title_count\", \"img_src_.jpg\", \"img_src_out_of_domain\", \"section_count\", \"center_count\", \"link_href_http\", \"push\", \"form_action_http\", \"document.getElementById\", \"replace\", \"strong_count\", \"indexOf\", \"link_rel_https://api.w.org/\", \"window.addEventListener\", \"escape\", \"a_href_.com\", \"link_rel_shortlink\", \"get\", \"link_type_application/rsd+xml\", \"find\"], \"type\": \"bar\", \"uid\": \"3bb8e31c-620e-43f3-a446-da17a8e73750\"}], {\"autosize\": false, \"height\": 1000, \"width\": 1000, \"xaxis\": {\"tickfont\": {\"color\": \"black\", \"size\": 12}, \"title\": \"Feature Importances\"}, \"yaxis\": {\"automargin\": true}}, {\"showLink\": true, \"linkText\": \"Export to plot.ly\", \"plotlyServerURL\": \"https://plot.ly\"})});</script>"
      ],
      "text/vnd.plotly.v1+html": [
       "<div id=\"be6ed04e-d9b8-4dc5-83ca-dc2f124e8c82\" style=\"height: 1000px; width: 1000px;\" class=\"plotly-graph-div\"></div><script type=\"text/javascript\">require([\"plotly\"], function(Plotly) { window.PLOTLYENV=window.PLOTLYENV || {};window.PLOTLYENV.BASE_URL=\"https://plot.ly\";Plotly.newPlot(\"be6ed04e-d9b8-4dc5-83ca-dc2f124e8c82\", [{\"marker\": {\"color\": \"rgb(158,202,225)\", \"line\": {\"color\": \"rgb(8,48,107)\", \"width\": 1.5}}, \"opacity\": 0.6, \"orientation\": \"h\", \"text\": [0.0899, 0.0714, 0.0713, 0.059, 0.0565, 0.0561, 0.0482, 0.0444, 0.043, 0.0422, 0.0399, 0.0371, 0.0322, 0.0311, 0.0303, 0.0272, 0.0272, 0.0202, 0.0192, 0.0171, 0.0171, 0.0169, 0.0168, 0.0126, 0.0116, 0.0092, 0.0092, 0.0089, 0.0071, 0.0066, 0.0058, 0.0053, 0.0049, 0.0046], \"textposition\": \"outside\", \"x\": [0.08994178590027209, 0.07139518890907014, 0.07126935718039774, 0.058963683863836124, 0.05649733106865042, 0.05612890918748672, 0.04820278715674709, 0.04439352995177525, 0.04304508012807101, 0.04220367073387996, 0.03989753211470315, 0.03710534288833845, 0.03224353381110805, 0.031090680930321295, 0.030288275573903893, 0.027246683867169125, 0.027182927935617864, 0.0201637919624715, 0.019182301000938092, 0.017134696745285782, 0.017054640409571775, 0.016920864324715058, 0.016779345844600592, 0.012558957328542914, 0.011649781336713827, 0.009161516420666708, 0.009152718437435089, 0.008927917351975711, 0.007075704767214015, 0.006588778932423442, 0.0058022090747958475, 0.005304008342023566, 0.004882774707357625, 0.004563691811920098], \"y\": [\"script_src_.js\", \"script_async_true\", \"link_type_text/css\", \"script_src_out_of_domain\", \"link_href_.css\", \"br_count\", \"div_count\", \"li_count\", \"p_count\", \"meta_count\", \"a_href_http\", \"a_href_https\", \"link_href_out_of_domain\", \"span_count\", \"title_count\", \"img_src_.jpg\", \"img_src_out_of_domain\", \"section_count\", \"center_count\", \"link_href_http\", \"push\", \"form_action_http\", \"document.getElementById\", \"replace\", \"strong_count\", \"indexOf\", \"link_rel_https://api.w.org/\", \"window.addEventListener\", \"escape\", \"a_href_.com\", \"link_rel_shortlink\", \"get\", \"link_type_application/rsd+xml\", \"find\"], \"type\": \"bar\", \"uid\": \"3bb8e31c-620e-43f3-a446-da17a8e73750\"}], {\"autosize\": false, \"height\": 1000, \"width\": 1000, \"xaxis\": {\"tickfont\": {\"color\": \"black\", \"size\": 12}, \"title\": \"Feature Importances\"}, \"yaxis\": {\"automargin\": true}}, {\"showLink\": true, \"linkText\": \"Export to plot.ly\", \"plotlyServerURL\": \"https://plot.ly\"})});</script>"
      ]
     },
     "metadata": {},
     "output_type": "display_data"
    },
    {
     "name": "stdout",
     "output_type": "stream",
     "text": [
      "\n",
      "\n",
      "\u001b[1mBagging Classifier\u001b[0m\n",
      "Accuracy of the model for training data is: 0.925042111173498\n",
      "Confusion Matrix for training data is:\n"
     ]
    },
    {
     "data": {
      "text/plain": [
       "Predicted  False  True  __all__\n",
       "Actual                         \n",
       "False      22370  1970    24340\n",
       "True         166  3990     4156\n",
       "__all__    22536  5960    28496"
      ]
     },
     "metadata": {},
     "output_type": "display_data"
    },
    {
     "name": "stdout",
     "output_type": "stream",
     "text": [
      "Accuracy of the model for test data is: 0.909768279701957\n",
      "Confusion Matrix for test data is:\n"
     ]
    },
    {
     "data": {
      "text/plain": [
       "Predicted  False  True  __all__\n",
       "Actual                         \n",
       "False       9528   910    10438\n",
       "True         192  1583     1775\n",
       "__all__     9720  2493    12213"
      ]
     },
     "metadata": {},
     "output_type": "display_data"
    },
    {
     "name": "stdout",
     "output_type": "stream",
     "text": [
      "\n",
      "\n",
      "\u001b[1mNeural Network-1\u001b[0m\n",
      "The accuracy of the model on training data is: 0.91328607523863\n"
     ]
    },
    {
     "data": {
      "text/plain": [
       "Predicted  False  True  __all__\n",
       "Actual                         \n",
       "False      22243  2097    24340\n",
       "True         374  3782     4156\n",
       "__all__    22617  5879    28496"
      ]
     },
     "metadata": {},
     "output_type": "display_data"
    },
    {
     "name": "stdout",
     "output_type": "stream",
     "text": [
      "The accuracy of the model on test data is: 0.9029722426922132\n"
     ]
    },
    {
     "data": {
      "text/plain": [
       "Predicted  False  True  __all__\n",
       "Actual                         \n",
       "False       9474   964    10438\n",
       "True         221  1554     1775\n",
       "__all__     9695  2518    12213"
      ]
     },
     "metadata": {},
     "output_type": "display_data"
    },
    {
     "name": "stdout",
     "output_type": "stream",
     "text": [
      "\n",
      "\n"
     ]
    }
   ],
   "source": [
    "ind_columns=['KNeighborsClassifier','LogisticRegression','RandomForestClassifier','AdaBoostClassifier',\n",
    "             'GradientBoostingClassifier','ExtraTreeClassifier','BaggingClassifier','Neural Network-1']\n",
    "\n",
    "f=[KNN_model,Logistic_model,RandomForest,AdaBoost,GradientBoosting, ExtraTree,Bagging,DeepLearning1]\n",
    "\n",
    "## Table to store training and test measures\n",
    "table_80_50_train=pd.DataFrame(columns=['accuracy','TP','TN','FP','FN','FPR','FNR'])\n",
    "table_80_50_test=pd.DataFrame(columns=['accuracy','TP','TN','FP','FN','FPR','FNR','auc','MCC'])\n",
    "\n",
    "feat_imp=[None]*4\n",
    "j=0\n",
    "for i in range(0,8):\n",
    "    if i>=2 and i<=5:\n",
    "        model,cm_train,cm_test,acc_train,acc_test,roc_auc,feat_imp[j],mcc=f[i](scaled_X_train,train_Y,scaled_X_test,test_Y,columns)\n",
    "        j=j+1\n",
    "    else:\n",
    "        model,cm_train,cm_test,acc_train,acc_test,roc_auc,mcc=f[i](scaled_X_train,train_Y,scaled_X_test,test_Y)\n",
    "    table_80_50_train.loc[i]=   ([acc_train,cm_train.TP,cm_train.TN,cm_train.FP,cm_train.FN,cm_train.FPR,cm_train.FNR])\n",
    "    table_80_50_test.loc[i] =   ([acc_test ,cm_test.TP, cm_test.TN, cm_test.FP, cm_test.FN, cm_test.FPR, cm_test.FNR,roc_auc,mcc])\n",
    "    print(\"\\n\")"
   ]
  },
  {
   "cell_type": "markdown",
   "metadata": {},
   "source": [
    "### <a id='1.A' style=\"text-decoration : none; color : #000000;\"> A Results</a>"
   ]
  },
  {
   "cell_type": "code",
   "execution_count": 21,
   "metadata": {},
   "outputs": [
    {
     "data": {
      "application/vnd.plotly.v1+json": {
       "config": {
        "linkText": "Export to plot.ly",
        "plotlyServerURL": "https://plot.ly",
        "showLink": true
       },
       "data": [
        {
         "mode": "lines",
         "name": "KNN_model",
         "type": "scatter",
         "uid": "7284b349-ffd5-4319-91d4-a9a6a2d998ad",
         "x": [
          "accuracy",
          "FPR",
          "FNR",
          "auc"
         ],
         "y": [
          0.905756161467289,
          0.09043878137574247,
          0.11661971830985915,
          0.8964707501571991
         ]
        },
        {
         "mode": "lines+markers",
         "name": "Logistic Regression",
         "type": "scatter",
         "uid": "ade4ef9e-fa9b-4287-942d-bcf05b47caa3",
         "x": [
          "accuracy",
          "FPR",
          "FNR",
          "auc"
         ],
         "y": [
          0.8944567264390404,
          0.08823529411764706,
          0.20732394366197182,
          0.8522203811101905
         ]
        },
        {
         "marker": {
          "symbol": "x"
         },
         "mode": "lines+markers",
         "name": "Random Forest",
         "type": "scatter",
         "uid": "bf279d70-a58d-45f0-a3fb-159cc5ba4730",
         "x": [
          "accuracy",
          "FPR",
          "FNR",
          "auc"
         ],
         "y": [
          0.910587079341685,
          0.08584019927189117,
          0.1104225352112676,
          0.9018686327584207
         ]
        },
        {
         "mode": "lines",
         "name": "Ada Boost",
         "type": "scatter",
         "uid": "2ba048db-9c4c-4a8b-acfc-6c99003cd0eb",
         "x": [
          "accuracy",
          "FPR",
          "FNR",
          "auc"
         ],
         "y": [
          0.9001883239171374,
          0.090247173788082,
          0.156056338028169,
          0.8768482440918746
         ]
        },
        {
         "mode": "lines+markers",
         "name": "GradientBoosting",
         "type": "scatter",
         "uid": "90f1e174-4325-42d1-b770-5925fec758af",
         "x": [
          "accuracy",
          "FPR",
          "FNR",
          "auc"
         ],
         "y": [
          0.9064930811430443,
          0.08603180685955164,
          0.13746478873239437,
          0.888251702204027
         ]
        },
        {
         "marker": {
          "symbol": "x"
         },
         "mode": "lines+markers",
         "name": "ExtraTree Classifier",
         "type": "scatter",
         "uid": "43d4012f-a133-451b-818f-b9e5cf15111e",
         "x": [
          "accuracy",
          "FPR",
          "FNR",
          "auc"
         ],
         "y": [
          0.9111602390894948,
          0.0859360030657214,
          0.10591549295774648,
          0.9040742519882661
         ]
        },
        {
         "marker": {
          "symbol": "x"
         },
         "mode": "lines+markers",
         "name": "Bagging",
         "type": "scatter",
         "uid": "1f67abca-14c5-4c29-8e92-479703693cad",
         "x": [
          "accuracy",
          "FPR",
          "FNR",
          "auc"
         ],
         "y": [
          0.909768279701957,
          0.08718145238551446,
          0.10816901408450705,
          0.9023247667649893
         ]
        },
        {
         "marker": {
          "symbol": "x"
         },
         "mode": "lines+markers",
         "name": "Neural Network",
         "type": "scatter",
         "uid": "e3be164f-ac78-4db9-a9b4-20a27ff7da96",
         "x": [
          "accuracy",
          "FPR",
          "FNR",
          "auc"
         ],
         "y": [
          0.9029722426922132,
          0.0923548572523472,
          0.12450704225352113,
          0.8915690502470659
         ]
        }
       ],
       "layout": {
        "title": "Result comparision for Features selected in Section 1",
        "yaxis": {
         "dtick": 0.05,
         "tick0": 0
        }
       }
      },
      "text/html": [
       "<div id=\"9bcb6d6c-336d-4e71-9c9d-39b6a3d29a26\" style=\"height: 525px; width: 100%;\" class=\"plotly-graph-div\"></div><script type=\"text/javascript\">require([\"plotly\"], function(Plotly) { window.PLOTLYENV=window.PLOTLYENV || {};window.PLOTLYENV.BASE_URL=\"https://plot.ly\";Plotly.newPlot(\"9bcb6d6c-336d-4e71-9c9d-39b6a3d29a26\", [{\"mode\": \"lines\", \"name\": \"KNN_model\", \"x\": [\"accuracy\", \"FPR\", \"FNR\", \"auc\"], \"y\": [0.905756161467289, 0.09043878137574247, 0.11661971830985915, 0.8964707501571991], \"type\": \"scatter\", \"uid\": \"7284b349-ffd5-4319-91d4-a9a6a2d998ad\"}, {\"mode\": \"lines+markers\", \"name\": \"Logistic Regression\", \"x\": [\"accuracy\", \"FPR\", \"FNR\", \"auc\"], \"y\": [0.8944567264390404, 0.08823529411764706, 0.20732394366197182, 0.8522203811101905], \"type\": \"scatter\", \"uid\": \"ade4ef9e-fa9b-4287-942d-bcf05b47caa3\"}, {\"marker\": {\"symbol\": \"x\"}, \"mode\": \"lines+markers\", \"name\": \"Random Forest\", \"x\": [\"accuracy\", \"FPR\", \"FNR\", \"auc\"], \"y\": [0.910587079341685, 0.08584019927189117, 0.1104225352112676, 0.9018686327584207], \"type\": \"scatter\", \"uid\": \"bf279d70-a58d-45f0-a3fb-159cc5ba4730\"}, {\"mode\": \"lines\", \"name\": \"Ada Boost\", \"x\": [\"accuracy\", \"FPR\", \"FNR\", \"auc\"], \"y\": [0.9001883239171374, 0.090247173788082, 0.156056338028169, 0.8768482440918746], \"type\": \"scatter\", \"uid\": \"2ba048db-9c4c-4a8b-acfc-6c99003cd0eb\"}, {\"mode\": \"lines+markers\", \"name\": \"GradientBoosting\", \"x\": [\"accuracy\", \"FPR\", \"FNR\", \"auc\"], \"y\": [0.9064930811430443, 0.08603180685955164, 0.13746478873239437, 0.888251702204027], \"type\": \"scatter\", \"uid\": \"90f1e174-4325-42d1-b770-5925fec758af\"}, {\"marker\": {\"symbol\": \"x\"}, \"mode\": \"lines+markers\", \"name\": \"ExtraTree Classifier\", \"x\": [\"accuracy\", \"FPR\", \"FNR\", \"auc\"], \"y\": [0.9111602390894948, 0.0859360030657214, 0.10591549295774648, 0.9040742519882661], \"type\": \"scatter\", \"uid\": \"43d4012f-a133-451b-818f-b9e5cf15111e\"}, {\"marker\": {\"symbol\": \"x\"}, \"mode\": \"lines+markers\", \"name\": \"Bagging\", \"x\": [\"accuracy\", \"FPR\", \"FNR\", \"auc\"], \"y\": [0.909768279701957, 0.08718145238551446, 0.10816901408450705, 0.9023247667649893], \"type\": \"scatter\", \"uid\": \"1f67abca-14c5-4c29-8e92-479703693cad\"}, {\"marker\": {\"symbol\": \"x\"}, \"mode\": \"lines+markers\", \"name\": \"Neural Network\", \"x\": [\"accuracy\", \"FPR\", \"FNR\", \"auc\"], \"y\": [0.9029722426922132, 0.0923548572523472, 0.12450704225352113, 0.8915690502470659], \"type\": \"scatter\", \"uid\": \"e3be164f-ac78-4db9-a9b4-20a27ff7da96\"}], {\"title\": \"Result comparision for Features selected in Section 1\", \"yaxis\": {\"dtick\": 0.05, \"tick0\": 0}}, {\"showLink\": true, \"linkText\": \"Export to plot.ly\", \"plotlyServerURL\": \"https://plot.ly\"})});</script><script type=\"text/javascript\">window.addEventListener(\"resize\", function(){window._Plotly.Plots.resize(document.getElementById(\"9bcb6d6c-336d-4e71-9c9d-39b6a3d29a26\"));});</script>"
      ],
      "text/vnd.plotly.v1+html": [
       "<div id=\"9bcb6d6c-336d-4e71-9c9d-39b6a3d29a26\" style=\"height: 525px; width: 100%;\" class=\"plotly-graph-div\"></div><script type=\"text/javascript\">require([\"plotly\"], function(Plotly) { window.PLOTLYENV=window.PLOTLYENV || {};window.PLOTLYENV.BASE_URL=\"https://plot.ly\";Plotly.newPlot(\"9bcb6d6c-336d-4e71-9c9d-39b6a3d29a26\", [{\"mode\": \"lines\", \"name\": \"KNN_model\", \"x\": [\"accuracy\", \"FPR\", \"FNR\", \"auc\"], \"y\": [0.905756161467289, 0.09043878137574247, 0.11661971830985915, 0.8964707501571991], \"type\": \"scatter\", \"uid\": \"7284b349-ffd5-4319-91d4-a9a6a2d998ad\"}, {\"mode\": \"lines+markers\", \"name\": \"Logistic Regression\", \"x\": [\"accuracy\", \"FPR\", \"FNR\", \"auc\"], \"y\": [0.8944567264390404, 0.08823529411764706, 0.20732394366197182, 0.8522203811101905], \"type\": \"scatter\", \"uid\": \"ade4ef9e-fa9b-4287-942d-bcf05b47caa3\"}, {\"marker\": {\"symbol\": \"x\"}, \"mode\": \"lines+markers\", \"name\": \"Random Forest\", \"x\": [\"accuracy\", \"FPR\", \"FNR\", \"auc\"], \"y\": [0.910587079341685, 0.08584019927189117, 0.1104225352112676, 0.9018686327584207], \"type\": \"scatter\", \"uid\": \"bf279d70-a58d-45f0-a3fb-159cc5ba4730\"}, {\"mode\": \"lines\", \"name\": \"Ada Boost\", \"x\": [\"accuracy\", \"FPR\", \"FNR\", \"auc\"], \"y\": [0.9001883239171374, 0.090247173788082, 0.156056338028169, 0.8768482440918746], \"type\": \"scatter\", \"uid\": \"2ba048db-9c4c-4a8b-acfc-6c99003cd0eb\"}, {\"mode\": \"lines+markers\", \"name\": \"GradientBoosting\", \"x\": [\"accuracy\", \"FPR\", \"FNR\", \"auc\"], \"y\": [0.9064930811430443, 0.08603180685955164, 0.13746478873239437, 0.888251702204027], \"type\": \"scatter\", \"uid\": \"90f1e174-4325-42d1-b770-5925fec758af\"}, {\"marker\": {\"symbol\": \"x\"}, \"mode\": \"lines+markers\", \"name\": \"ExtraTree Classifier\", \"x\": [\"accuracy\", \"FPR\", \"FNR\", \"auc\"], \"y\": [0.9111602390894948, 0.0859360030657214, 0.10591549295774648, 0.9040742519882661], \"type\": \"scatter\", \"uid\": \"43d4012f-a133-451b-818f-b9e5cf15111e\"}, {\"marker\": {\"symbol\": \"x\"}, \"mode\": \"lines+markers\", \"name\": \"Bagging\", \"x\": [\"accuracy\", \"FPR\", \"FNR\", \"auc\"], \"y\": [0.909768279701957, 0.08718145238551446, 0.10816901408450705, 0.9023247667649893], \"type\": \"scatter\", \"uid\": \"1f67abca-14c5-4c29-8e92-479703693cad\"}, {\"marker\": {\"symbol\": \"x\"}, \"mode\": \"lines+markers\", \"name\": \"Neural Network\", \"x\": [\"accuracy\", \"FPR\", \"FNR\", \"auc\"], \"y\": [0.9029722426922132, 0.0923548572523472, 0.12450704225352113, 0.8915690502470659], \"type\": \"scatter\", \"uid\": \"e3be164f-ac78-4db9-a9b4-20a27ff7da96\"}], {\"title\": \"Result comparision for Features selected in Section 1\", \"yaxis\": {\"dtick\": 0.05, \"tick0\": 0}}, {\"showLink\": true, \"linkText\": \"Export to plot.ly\", \"plotlyServerURL\": \"https://plot.ly\"})});</script><script type=\"text/javascript\">window.addEventListener(\"resize\", function(){window._Plotly.Plots.resize(document.getElementById(\"9bcb6d6c-336d-4e71-9c9d-39b6a3d29a26\"));});</script>"
      ]
     },
     "metadata": {},
     "output_type": "display_data"
    }
   ],
   "source": [
    "trace0 = go.Scatter(x=table_80_50_test.iloc[0].index.values[[0,5,6,7]],\n",
    "                    y=table_80_50_test.iloc[0].values[[0,5,6,7]],\n",
    "                    mode = 'lines',\n",
    "                    name = 'KNN_model')\n",
    "\n",
    "trace1 = go.Scatter(x=table_80_50_test.iloc[1].index.values[[0,5,6,7]],\n",
    "                    y=table_80_50_test.iloc[1].values[[0,5,6,7]],\n",
    "                    mode = 'lines+markers',\n",
    "                    name = 'Logistic Regression')\n",
    "\n",
    "trace2 = go.Scatter(x=table_80_50_test.iloc[2].index.values[[0,5,6,7]],\n",
    "                    y=table_80_50_test.iloc[2].values[[0,5,6,7]],\n",
    "                    mode = 'lines+markers',marker=dict(symbol='x'),\n",
    "                    name = 'Random Forest')\n",
    "\n",
    "\n",
    "trace3 = go.Scatter(x=table_80_50_test.iloc[3].index.values[[0,5,6,7]],\n",
    "                    y=table_80_50_test.iloc[3].values[[0,5,6,7]],\n",
    "                    mode = 'lines',\n",
    "                    name = 'Ada Boost')\n",
    "\n",
    "trace4 = go.Scatter(x=table_80_50_test.iloc[4].index.values[[0,5,6,7]],\n",
    "                    y=table_80_50_test.iloc[4].values[[0,5,6,7]],\n",
    "                    mode = 'lines+markers',\n",
    "                    name = 'GradientBoosting')\n",
    "\n",
    "trace5 = go.Scatter(x=table_80_50_test.iloc[5].index.values[[0,5,6,7]],\n",
    "                    y=table_80_50_test.iloc[5].values[[0,5,6,7]],\n",
    "                    mode = 'lines+markers',marker=dict(symbol='x'),\n",
    "                    name = 'ExtraTree Classifier')\n",
    "\n",
    "trace6 = go.Scatter(x=table_80_50_test.iloc[6].index.values[[0,5,6,7]],\n",
    "                    y=table_80_50_test.iloc[6].values[[0,5,6,7]],\n",
    "                    mode = 'lines+markers',marker=dict(symbol='x'),\n",
    "                    name = 'Bagging')\n",
    "\n",
    "trace7 = go.Scatter(x=table_80_50_test.iloc[7].index.values[[0,5,6,7]],\n",
    "                    y=table_80_50_test.iloc[7].values[[0,5,6,7]],\n",
    "                    mode = 'lines+markers',marker=dict(symbol='x'),\n",
    "                    name = 'Neural Network')\n",
    "\n",
    "\n",
    "\n",
    "data = [trace0, trace1, trace2, trace3, trace4, trace5, trace6, trace7]\n",
    "layout = go.Layout(yaxis=dict(tick0=0,dtick=0.05),title='Result comparision for Features selected in Section 1')\n",
    "fig = go.Figure(data=data, layout=layout)\n",
    "\n",
    "iplot(fig, filename='Result')"
   ]
  },
  {
   "cell_type": "code",
   "execution_count": 22,
   "metadata": {},
   "outputs": [
    {
     "name": "stdout",
     "output_type": "stream",
     "text": [
      "Training Results\n"
     ]
    },
    {
     "data": {
      "text/html": [
       "<div>\n",
       "<style scoped>\n",
       "    .dataframe tbody tr th:only-of-type {\n",
       "        vertical-align: middle;\n",
       "    }\n",
       "\n",
       "    .dataframe tbody tr th {\n",
       "        vertical-align: top;\n",
       "    }\n",
       "\n",
       "    .dataframe thead th {\n",
       "        text-align: right;\n",
       "    }\n",
       "</style>\n",
       "<table border=\"1\" class=\"dataframe\">\n",
       "  <thead>\n",
       "    <tr style=\"text-align: right;\">\n",
       "      <th></th>\n",
       "      <th>accuracy</th>\n",
       "      <th>TP</th>\n",
       "      <th>TN</th>\n",
       "      <th>FP</th>\n",
       "      <th>FN</th>\n",
       "      <th>FPR</th>\n",
       "      <th>FNR</th>\n",
       "    </tr>\n",
       "    <tr>\n",
       "      <th>index</th>\n",
       "      <th></th>\n",
       "      <th></th>\n",
       "      <th></th>\n",
       "      <th></th>\n",
       "      <th></th>\n",
       "      <th></th>\n",
       "      <th></th>\n",
       "    </tr>\n",
       "  </thead>\n",
       "  <tbody>\n",
       "    <tr>\n",
       "      <th>KNeighborsClassifier</th>\n",
       "      <td>0.913321</td>\n",
       "      <td>3738.0</td>\n",
       "      <td>22288.0</td>\n",
       "      <td>2052.0</td>\n",
       "      <td>418.0</td>\n",
       "      <td>0.084306</td>\n",
       "      <td>0.100577</td>\n",
       "    </tr>\n",
       "    <tr>\n",
       "      <th>LogisticRegression</th>\n",
       "      <td>0.893880</td>\n",
       "      <td>3229.0</td>\n",
       "      <td>22243.0</td>\n",
       "      <td>2097.0</td>\n",
       "      <td>927.0</td>\n",
       "      <td>0.086154</td>\n",
       "      <td>0.223051</td>\n",
       "    </tr>\n",
       "    <tr>\n",
       "      <th>RandomForestClassifier</th>\n",
       "      <td>0.925182</td>\n",
       "      <td>3993.0</td>\n",
       "      <td>22371.0</td>\n",
       "      <td>1969.0</td>\n",
       "      <td>163.0</td>\n",
       "      <td>0.080896</td>\n",
       "      <td>0.039220</td>\n",
       "    </tr>\n",
       "    <tr>\n",
       "      <th>AdaBoostClassifier</th>\n",
       "      <td>0.899530</td>\n",
       "      <td>3436.0</td>\n",
       "      <td>22197.0</td>\n",
       "      <td>2143.0</td>\n",
       "      <td>720.0</td>\n",
       "      <td>0.088044</td>\n",
       "      <td>0.173244</td>\n",
       "    </tr>\n",
       "    <tr>\n",
       "      <th>GradientBoostingClassifier</th>\n",
       "      <td>0.909636</td>\n",
       "      <td>3581.0</td>\n",
       "      <td>22340.0</td>\n",
       "      <td>2000.0</td>\n",
       "      <td>575.0</td>\n",
       "      <td>0.082169</td>\n",
       "      <td>0.138354</td>\n",
       "    </tr>\n",
       "    <tr>\n",
       "      <th>ExtraTreeClassifier</th>\n",
       "      <td>0.927393</td>\n",
       "      <td>4050.0</td>\n",
       "      <td>22377.0</td>\n",
       "      <td>1963.0</td>\n",
       "      <td>106.0</td>\n",
       "      <td>0.080649</td>\n",
       "      <td>0.025505</td>\n",
       "    </tr>\n",
       "    <tr>\n",
       "      <th>BaggingClassifier</th>\n",
       "      <td>0.925042</td>\n",
       "      <td>3990.0</td>\n",
       "      <td>22370.0</td>\n",
       "      <td>1970.0</td>\n",
       "      <td>166.0</td>\n",
       "      <td>0.080937</td>\n",
       "      <td>0.039942</td>\n",
       "    </tr>\n",
       "    <tr>\n",
       "      <th>Neural Network-1</th>\n",
       "      <td>0.913286</td>\n",
       "      <td>3782.0</td>\n",
       "      <td>22243.0</td>\n",
       "      <td>2097.0</td>\n",
       "      <td>374.0</td>\n",
       "      <td>0.086154</td>\n",
       "      <td>0.089990</td>\n",
       "    </tr>\n",
       "  </tbody>\n",
       "</table>\n",
       "</div>"
      ],
      "text/plain": [
       "                            accuracy      TP       TN      FP     FN  \\\n",
       "index                                                                  \n",
       "KNeighborsClassifier        0.913321  3738.0  22288.0  2052.0  418.0   \n",
       "LogisticRegression          0.893880  3229.0  22243.0  2097.0  927.0   \n",
       "RandomForestClassifier      0.925182  3993.0  22371.0  1969.0  163.0   \n",
       "AdaBoostClassifier          0.899530  3436.0  22197.0  2143.0  720.0   \n",
       "GradientBoostingClassifier  0.909636  3581.0  22340.0  2000.0  575.0   \n",
       "ExtraTreeClassifier         0.927393  4050.0  22377.0  1963.0  106.0   \n",
       "BaggingClassifier           0.925042  3990.0  22370.0  1970.0  166.0   \n",
       "Neural Network-1            0.913286  3782.0  22243.0  2097.0  374.0   \n",
       "\n",
       "                                 FPR       FNR  \n",
       "index                                           \n",
       "KNeighborsClassifier        0.084306  0.100577  \n",
       "LogisticRegression          0.086154  0.223051  \n",
       "RandomForestClassifier      0.080896  0.039220  \n",
       "AdaBoostClassifier          0.088044  0.173244  \n",
       "GradientBoostingClassifier  0.082169  0.138354  \n",
       "ExtraTreeClassifier         0.080649  0.025505  \n",
       "BaggingClassifier           0.080937  0.039942  \n",
       "Neural Network-1            0.086154  0.089990  "
      ]
     },
     "metadata": {},
     "output_type": "display_data"
    },
    {
     "name": "stdout",
     "output_type": "stream",
     "text": [
      "Test Results\n"
     ]
    },
    {
     "data": {
      "text/html": [
       "<div>\n",
       "<style scoped>\n",
       "    .dataframe tbody tr th:only-of-type {\n",
       "        vertical-align: middle;\n",
       "    }\n",
       "\n",
       "    .dataframe tbody tr th {\n",
       "        vertical-align: top;\n",
       "    }\n",
       "\n",
       "    .dataframe thead th {\n",
       "        text-align: right;\n",
       "    }\n",
       "</style>\n",
       "<table border=\"1\" class=\"dataframe\">\n",
       "  <thead>\n",
       "    <tr style=\"text-align: right;\">\n",
       "      <th></th>\n",
       "      <th>accuracy</th>\n",
       "      <th>TP</th>\n",
       "      <th>TN</th>\n",
       "      <th>FP</th>\n",
       "      <th>FN</th>\n",
       "      <th>FPR</th>\n",
       "      <th>FNR</th>\n",
       "      <th>auc</th>\n",
       "      <th>MCC</th>\n",
       "    </tr>\n",
       "    <tr>\n",
       "      <th>index</th>\n",
       "      <th></th>\n",
       "      <th></th>\n",
       "      <th></th>\n",
       "      <th></th>\n",
       "      <th></th>\n",
       "      <th></th>\n",
       "      <th></th>\n",
       "      <th></th>\n",
       "      <th></th>\n",
       "    </tr>\n",
       "  </thead>\n",
       "  <tbody>\n",
       "    <tr>\n",
       "      <th>KNeighborsClassifier</th>\n",
       "      <td>0.905756</td>\n",
       "      <td>1568.0</td>\n",
       "      <td>9494.0</td>\n",
       "      <td>944.0</td>\n",
       "      <td>207.0</td>\n",
       "      <td>0.090439</td>\n",
       "      <td>0.116620</td>\n",
       "      <td>0.896471</td>\n",
       "      <td>0.691402</td>\n",
       "    </tr>\n",
       "    <tr>\n",
       "      <th>LogisticRegression</th>\n",
       "      <td>0.894457</td>\n",
       "      <td>1407.0</td>\n",
       "      <td>9517.0</td>\n",
       "      <td>921.0</td>\n",
       "      <td>368.0</td>\n",
       "      <td>0.088235</td>\n",
       "      <td>0.207324</td>\n",
       "      <td>0.852220</td>\n",
       "      <td>0.632081</td>\n",
       "    </tr>\n",
       "    <tr>\n",
       "      <th>RandomForestClassifier</th>\n",
       "      <td>0.910587</td>\n",
       "      <td>1579.0</td>\n",
       "      <td>9542.0</td>\n",
       "      <td>896.0</td>\n",
       "      <td>196.0</td>\n",
       "      <td>0.085840</td>\n",
       "      <td>0.110423</td>\n",
       "      <td>0.901869</td>\n",
       "      <td>0.704692</td>\n",
       "    </tr>\n",
       "    <tr>\n",
       "      <th>AdaBoostClassifier</th>\n",
       "      <td>0.900188</td>\n",
       "      <td>1498.0</td>\n",
       "      <td>9496.0</td>\n",
       "      <td>942.0</td>\n",
       "      <td>277.0</td>\n",
       "      <td>0.090247</td>\n",
       "      <td>0.156056</td>\n",
       "      <td>0.876848</td>\n",
       "      <td>0.664348</td>\n",
       "    </tr>\n",
       "    <tr>\n",
       "      <th>GradientBoostingClassifier</th>\n",
       "      <td>0.906493</td>\n",
       "      <td>1531.0</td>\n",
       "      <td>9540.0</td>\n",
       "      <td>898.0</td>\n",
       "      <td>244.0</td>\n",
       "      <td>0.086032</td>\n",
       "      <td>0.137465</td>\n",
       "      <td>0.888252</td>\n",
       "      <td>0.685613</td>\n",
       "    </tr>\n",
       "    <tr>\n",
       "      <th>ExtraTreeClassifier</th>\n",
       "      <td>0.911160</td>\n",
       "      <td>1587.0</td>\n",
       "      <td>9541.0</td>\n",
       "      <td>897.0</td>\n",
       "      <td>188.0</td>\n",
       "      <td>0.085936</td>\n",
       "      <td>0.105915</td>\n",
       "      <td>0.904074</td>\n",
       "      <td>0.707602</td>\n",
       "    </tr>\n",
       "    <tr>\n",
       "      <th>BaggingClassifier</th>\n",
       "      <td>0.909768</td>\n",
       "      <td>1583.0</td>\n",
       "      <td>9528.0</td>\n",
       "      <td>910.0</td>\n",
       "      <td>192.0</td>\n",
       "      <td>0.087181</td>\n",
       "      <td>0.108169</td>\n",
       "      <td>0.902325</td>\n",
       "      <td>0.703591</td>\n",
       "    </tr>\n",
       "    <tr>\n",
       "      <th>Neural Network-1</th>\n",
       "      <td>0.902972</td>\n",
       "      <td>1554.0</td>\n",
       "      <td>9474.0</td>\n",
       "      <td>964.0</td>\n",
       "      <td>221.0</td>\n",
       "      <td>0.092355</td>\n",
       "      <td>0.124507</td>\n",
       "      <td>0.891569</td>\n",
       "      <td>0.682251</td>\n",
       "    </tr>\n",
       "  </tbody>\n",
       "</table>\n",
       "</div>"
      ],
      "text/plain": [
       "                            accuracy      TP      TN     FP     FN       FPR  \\\n",
       "index                                                                          \n",
       "KNeighborsClassifier        0.905756  1568.0  9494.0  944.0  207.0  0.090439   \n",
       "LogisticRegression          0.894457  1407.0  9517.0  921.0  368.0  0.088235   \n",
       "RandomForestClassifier      0.910587  1579.0  9542.0  896.0  196.0  0.085840   \n",
       "AdaBoostClassifier          0.900188  1498.0  9496.0  942.0  277.0  0.090247   \n",
       "GradientBoostingClassifier  0.906493  1531.0  9540.0  898.0  244.0  0.086032   \n",
       "ExtraTreeClassifier         0.911160  1587.0  9541.0  897.0  188.0  0.085936   \n",
       "BaggingClassifier           0.909768  1583.0  9528.0  910.0  192.0  0.087181   \n",
       "Neural Network-1            0.902972  1554.0  9474.0  964.0  221.0  0.092355   \n",
       "\n",
       "                                 FNR       auc       MCC  \n",
       "index                                                     \n",
       "KNeighborsClassifier        0.116620  0.896471  0.691402  \n",
       "LogisticRegression          0.207324  0.852220  0.632081  \n",
       "RandomForestClassifier      0.110423  0.901869  0.704692  \n",
       "AdaBoostClassifier          0.156056  0.876848  0.664348  \n",
       "GradientBoostingClassifier  0.137465  0.888252  0.685613  \n",
       "ExtraTreeClassifier         0.105915  0.904074  0.707602  \n",
       "BaggingClassifier           0.108169  0.902325  0.703591  \n",
       "Neural Network-1            0.124507  0.891569  0.682251  "
      ]
     },
     "metadata": {},
     "output_type": "display_data"
    }
   ],
   "source": [
    "table_80_50_train['index']=ind_columns\n",
    "table_80_50_test['index']=ind_columns\n",
    "\n",
    "\n",
    "table_80_50_test.set_index(['index'],drop=True,inplace=True)\n",
    "table_80_50_train.set_index(['index'],drop=True,inplace=True)\n",
    "\n",
    "print(\"Training Results\")\n",
    "display(table_80_50_train)\n",
    "print(\"Test Results\")\n",
    "display(table_80_50_test)"
   ]
  },
  {
   "cell_type": "markdown",
   "metadata": {},
   "source": [
    "### <a id='1.B' style=\"text-decoration : none; color : #000000;\"> B. Average Feature Importances</a>"
   ]
  },
  {
   "cell_type": "code",
   "execution_count": 23,
   "metadata": {},
   "outputs": [
    {
     "data": {
      "application/vnd.plotly.v1+json": {
       "config": {
        "linkText": "Export to plot.ly",
        "plotlyServerURL": "https://plot.ly",
        "showLink": true
       },
       "data": [
        {
         "marker": {
          "color": "rgb(158,202,225)",
          "line": {
           "color": "rgb(8,48,107)",
           "width": 1.5
          }
         },
         "opacity": 0.6,
         "orientation": "h",
         "text": [
          0.2341,
          0.0625,
          0.0531,
          0.045,
          0.043,
          0.0397,
          0.0386,
          0.0379,
          0.0344,
          0.0341,
          0.0317,
          0.0297,
          0.0289,
          0.0289,
          0.0266,
          0.0239,
          0.0212,
          0.0204,
          0.0188,
          0.0183,
          0.0176,
          0.0134,
          0.013,
          0.012,
          0.0114,
          0.0085,
          0.0081,
          0.0079,
          0.0079,
          0.0077,
          0.0069,
          0.0069,
          0.0049,
          0.0028
         ],
         "textposition": "outside",
         "type": "bar",
         "uid": "9f5e81a0-8d0c-4d21-819b-24e40fbc531c",
         "x": [
          0.23406725535596892,
          0.06248157206278973,
          0.05314986773343617,
          0.04502660300541756,
          0.04304028611090812,
          0.039661636924663166,
          0.0385800666059864,
          0.03792400778130808,
          0.034360987031667824,
          0.034079701801464246,
          0.03172184540297564,
          0.029667082359562977,
          0.028948168466015355,
          0.028923598104996867,
          0.02663878637585819,
          0.02394907177336189,
          0.02120380976162622,
          0.020372989181515908,
          0.01877079955416886,
          0.01825530543706038,
          0.01763396483662979,
          0.013366447393856333,
          0.013014353387986191,
          0.01201616603524019,
          0.011403711485041147,
          0.008543081269528623,
          0.008149735252923902,
          0.007941622754640113,
          0.007870564041300624,
          0.007706682610011385,
          0.006937991135415846,
          0.006934800193817178,
          0.004888817145762128,
          0.0027686216270940453
         ],
         "y": [
          "title_count",
          "meta_count",
          "script_src_.js",
          "div_count",
          "a_href_https",
          "link_href_out_of_domain",
          "a_href_http",
          "li_count",
          "script_src_out_of_domain",
          "span_count",
          "link_type_text/css",
          "p_count",
          "script_async_true",
          "br_count",
          "push",
          "link_href_.css",
          "img_src_out_of_domain",
          "section_count",
          "img_src_.jpg",
          "link_href_http",
          "indexOf",
          "center_count",
          "a_href_.com",
          "strong_count",
          "form_action_http",
          "document.getElementById",
          "escape",
          "get",
          "window.addEventListener",
          "link_rel_shortlink",
          "link_type_application/rsd+xml",
          "find",
          "replace",
          "link_rel_https://api.w.org/"
         ]
        }
       ],
       "layout": {
        "autosize": false,
        "height": 1000,
        "width": 1000,
        "xaxis": {
         "tickfont": {
          "color": "black",
          "size": 12
         },
         "title": "Feature Importances"
        },
        "yaxis": {
         "automargin": true
        }
       }
      },
      "text/html": [
       "<div id=\"3521685e-3ee3-4562-9acb-9ad9efb16ac4\" style=\"height: 1000px; width: 1000px;\" class=\"plotly-graph-div\"></div><script type=\"text/javascript\">require([\"plotly\"], function(Plotly) { window.PLOTLYENV=window.PLOTLYENV || {};window.PLOTLYENV.BASE_URL=\"https://plot.ly\";Plotly.newPlot(\"3521685e-3ee3-4562-9acb-9ad9efb16ac4\", [{\"marker\": {\"color\": \"rgb(158,202,225)\", \"line\": {\"color\": \"rgb(8,48,107)\", \"width\": 1.5}}, \"opacity\": 0.6, \"orientation\": \"h\", \"text\": [0.2341, 0.0625, 0.0531, 0.045, 0.043, 0.0397, 0.0386, 0.0379, 0.0344, 0.0341, 0.0317, 0.0297, 0.0289, 0.0289, 0.0266, 0.0239, 0.0212, 0.0204, 0.0188, 0.0183, 0.0176, 0.0134, 0.013, 0.012, 0.0114, 0.0085, 0.0081, 0.0079, 0.0079, 0.0077, 0.0069, 0.0069, 0.0049, 0.0028], \"textposition\": \"outside\", \"x\": [0.23406725535596892, 0.06248157206278973, 0.05314986773343617, 0.04502660300541756, 0.04304028611090812, 0.039661636924663166, 0.0385800666059864, 0.03792400778130808, 0.034360987031667824, 0.034079701801464246, 0.03172184540297564, 0.029667082359562977, 0.028948168466015355, 0.028923598104996867, 0.02663878637585819, 0.02394907177336189, 0.02120380976162622, 0.020372989181515908, 0.01877079955416886, 0.01825530543706038, 0.01763396483662979, 0.013366447393856333, 0.013014353387986191, 0.01201616603524019, 0.011403711485041147, 0.008543081269528623, 0.008149735252923902, 0.007941622754640113, 0.007870564041300624, 0.007706682610011385, 0.006937991135415846, 0.006934800193817178, 0.004888817145762128, 0.0027686216270940453], \"y\": [\"title_count\", \"meta_count\", \"script_src_.js\", \"div_count\", \"a_href_https\", \"link_href_out_of_domain\", \"a_href_http\", \"li_count\", \"script_src_out_of_domain\", \"span_count\", \"link_type_text/css\", \"p_count\", \"script_async_true\", \"br_count\", \"push\", \"link_href_.css\", \"img_src_out_of_domain\", \"section_count\", \"img_src_.jpg\", \"link_href_http\", \"indexOf\", \"center_count\", \"a_href_.com\", \"strong_count\", \"form_action_http\", \"document.getElementById\", \"escape\", \"get\", \"window.addEventListener\", \"link_rel_shortlink\", \"link_type_application/rsd+xml\", \"find\", \"replace\", \"link_rel_https://api.w.org/\"], \"type\": \"bar\", \"uid\": \"9f5e81a0-8d0c-4d21-819b-24e40fbc531c\"}], {\"autosize\": false, \"height\": 1000, \"width\": 1000, \"xaxis\": {\"tickfont\": {\"color\": \"black\", \"size\": 12}, \"title\": \"Feature Importances\"}, \"yaxis\": {\"automargin\": true}}, {\"showLink\": true, \"linkText\": \"Export to plot.ly\", \"plotlyServerURL\": \"https://plot.ly\"})});</script>"
      ],
      "text/vnd.plotly.v1+html": [
       "<div id=\"3521685e-3ee3-4562-9acb-9ad9efb16ac4\" style=\"height: 1000px; width: 1000px;\" class=\"plotly-graph-div\"></div><script type=\"text/javascript\">require([\"plotly\"], function(Plotly) { window.PLOTLYENV=window.PLOTLYENV || {};window.PLOTLYENV.BASE_URL=\"https://plot.ly\";Plotly.newPlot(\"3521685e-3ee3-4562-9acb-9ad9efb16ac4\", [{\"marker\": {\"color\": \"rgb(158,202,225)\", \"line\": {\"color\": \"rgb(8,48,107)\", \"width\": 1.5}}, \"opacity\": 0.6, \"orientation\": \"h\", \"text\": [0.2341, 0.0625, 0.0531, 0.045, 0.043, 0.0397, 0.0386, 0.0379, 0.0344, 0.0341, 0.0317, 0.0297, 0.0289, 0.0289, 0.0266, 0.0239, 0.0212, 0.0204, 0.0188, 0.0183, 0.0176, 0.0134, 0.013, 0.012, 0.0114, 0.0085, 0.0081, 0.0079, 0.0079, 0.0077, 0.0069, 0.0069, 0.0049, 0.0028], \"textposition\": \"outside\", \"x\": [0.23406725535596892, 0.06248157206278973, 0.05314986773343617, 0.04502660300541756, 0.04304028611090812, 0.039661636924663166, 0.0385800666059864, 0.03792400778130808, 0.034360987031667824, 0.034079701801464246, 0.03172184540297564, 0.029667082359562977, 0.028948168466015355, 0.028923598104996867, 0.02663878637585819, 0.02394907177336189, 0.02120380976162622, 0.020372989181515908, 0.01877079955416886, 0.01825530543706038, 0.01763396483662979, 0.013366447393856333, 0.013014353387986191, 0.01201616603524019, 0.011403711485041147, 0.008543081269528623, 0.008149735252923902, 0.007941622754640113, 0.007870564041300624, 0.007706682610011385, 0.006937991135415846, 0.006934800193817178, 0.004888817145762128, 0.0027686216270940453], \"y\": [\"title_count\", \"meta_count\", \"script_src_.js\", \"div_count\", \"a_href_https\", \"link_href_out_of_domain\", \"a_href_http\", \"li_count\", \"script_src_out_of_domain\", \"span_count\", \"link_type_text/css\", \"p_count\", \"script_async_true\", \"br_count\", \"push\", \"link_href_.css\", \"img_src_out_of_domain\", \"section_count\", \"img_src_.jpg\", \"link_href_http\", \"indexOf\", \"center_count\", \"a_href_.com\", \"strong_count\", \"form_action_http\", \"document.getElementById\", \"escape\", \"get\", \"window.addEventListener\", \"link_rel_shortlink\", \"link_type_application/rsd+xml\", \"find\", \"replace\", \"link_rel_https://api.w.org/\"], \"type\": \"bar\", \"uid\": \"9f5e81a0-8d0c-4d21-819b-24e40fbc531c\"}], {\"autosize\": false, \"height\": 1000, \"width\": 1000, \"xaxis\": {\"tickfont\": {\"color\": \"black\", \"size\": 12}, \"title\": \"Feature Importances\"}, \"yaxis\": {\"automargin\": true}}, {\"showLink\": true, \"linkText\": \"Export to plot.ly\", \"plotlyServerURL\": \"https://plot.ly\"})});</script>"
      ]
     },
     "metadata": {},
     "output_type": "display_data"
    }
   ],
   "source": [
    "feat_impt_plot(np.average(feat_imp,axis=0),columns)"
   ]
  },
  {
   "cell_type": "markdown",
   "metadata": {},
   "source": [
    "### <a id='2' style=\"text-decoration : none; color : #000000;\"> 2. OverSampling </a>"
   ]
  },
  {
   "cell_type": "code",
   "execution_count": 24,
   "metadata": {},
   "outputs": [],
   "source": [
    "sm = SMOTE(random_state=12, ratio = 1.0)\n",
    "X_train, Y_train = sm.fit_sample(scaled_X_train,train_Y)"
   ]
  },
  {
   "cell_type": "code",
   "execution_count": 25,
   "metadata": {
    "scrolled": false
   },
   "outputs": [
    {
     "name": "stdout",
     "output_type": "stream",
     "text": [
      "\u001b[1mK-Nearest Neighbors\u001b[0m\n",
      "Accuracy of the model for training data is: 0.933278553820871\n",
      "Confusion Matrix for training data is:\n"
     ]
    },
    {
     "data": {
      "text/plain": [
       "Predicted  False   True  __all__\n",
       "Actual                          \n",
       "False      21677   2663    24340\n",
       "True         585  23755    24340\n",
       "__all__    22262  26418    48680"
      ]
     },
     "metadata": {},
     "output_type": "display_data"
    },
    {
     "name": "stdout",
     "output_type": "stream",
     "text": [
      "Accuracy of the model for test data is: 0.8802914926717432\n",
      "Confusion Matrix for test data is:\n"
     ]
    },
    {
     "data": {
      "text/plain": [
       "Predicted  False  True  __all__\n",
       "Actual                         \n",
       "False       9124  1314    10438\n",
       "True         148  1627     1775\n",
       "__all__     9272  2941    12213"
      ]
     },
     "metadata": {},
     "output_type": "display_data"
    },
    {
     "name": "stdout",
     "output_type": "stream",
     "text": [
      "\n",
      "\n",
      "\u001b[1mLogistic Regression\u001b[0m\n",
      "Accuracy of the model for training data is: 0.8932826622843056\n",
      "Confusion Matrix for training data is:\n"
     ]
    },
    {
     "data": {
      "text/plain": [
       "Predicted  False   True  __all__\n",
       "Actual                          \n",
       "False      20223   4117    24340\n",
       "True        1078  23262    24340\n",
       "__all__    21301  27379    48680"
      ]
     },
     "metadata": {},
     "output_type": "display_data"
    },
    {
     "name": "stdout",
     "output_type": "stream",
     "text": [
      "Accuracy of the model for test data is: 0.8508147056415295\n",
      "Confusion Matrix for test data is:\n"
     ]
    },
    {
     "data": {
      "text/plain": [
       "Predicted  False  True  __all__\n",
       "Actual                         \n",
       "False       8708  1730    10438\n",
       "True          92  1683     1775\n",
       "__all__     8800  3413    12213"
      ]
     },
     "metadata": {},
     "output_type": "display_data"
    },
    {
     "name": "stdout",
     "output_type": "stream",
     "text": [
      "\n",
      "\n",
      "\u001b[1mRandomForest Classifier\u001b[0m\n",
      "Accuracy of the model for training data is: 0.9525267050123254\n",
      "Confusion Matrix for training data is:\n"
     ]
    },
    {
     "data": {
      "text/plain": [
       "Predicted  False   True  __all__\n",
       "Actual                          \n",
       "False      22305   2035    24340\n",
       "True         276  24064    24340\n",
       "__all__    22581  26099    48680"
      ]
     },
     "metadata": {},
     "output_type": "display_data"
    },
    {
     "name": "stdout",
     "output_type": "stream",
     "text": [
      "Accuracy of the model for test data is: 0.910177679521821\n",
      "Confusion Matrix for test data is:\n"
     ]
    },
    {
     "data": {
      "text/plain": [
       "Predicted  False  True  __all__\n",
       "Actual                         \n",
       "False       9506   932    10438\n",
       "True         165  1610     1775\n",
       "__all__     9671  2542    12213"
      ]
     },
     "metadata": {},
     "output_type": "display_data"
    },
    {
     "data": {
      "application/vnd.plotly.v1+json": {
       "config": {
        "linkText": "Export to plot.ly",
        "plotlyServerURL": "https://plot.ly",
        "showLink": true
       },
       "data": [
        {
         "marker": {
          "color": "rgb(158,202,225)",
          "line": {
           "color": "rgb(8,48,107)",
           "width": 1.5
          }
         },
         "opacity": 0.6,
         "orientation": "h",
         "text": [
          0.1513,
          0.1442,
          0.0967,
          0.0841,
          0.0821,
          0.0726,
          0.0567,
          0.0526,
          0.0481,
          0.024,
          0.02,
          0.0167,
          0.0167,
          0.0161,
          0.0137,
          0.0098,
          0.0094,
          0.0093,
          0.0089,
          0.0085,
          0.0072,
          0.0071,
          0.0069,
          0.0066,
          0.0063,
          0.0053,
          0.0039,
          0.0034,
          0.0034,
          0.0023,
          0.0022,
          0.0021,
          0.0009,
          0.0009
         ],
         "textposition": "outside",
         "type": "bar",
         "uid": "28545ce1-2c96-4bc4-a7eb-c5c29ad357c0",
         "x": [
          0.15130767068249495,
          0.1442037990461188,
          0.09667712967974938,
          0.08405308694178941,
          0.0820746490269255,
          0.07255048219317815,
          0.05674326464434268,
          0.052550125662537146,
          0.04808505345484398,
          0.024023716782349346,
          0.020018323153045154,
          0.01674461974146748,
          0.016709714676289514,
          0.01609369483122426,
          0.013732695854483728,
          0.009816330438320687,
          0.009443487297351462,
          0.009348159256094026,
          0.008851075394766905,
          0.008452340797803506,
          0.007202267034192476,
          0.0070751855724374875,
          0.006923465984967895,
          0.006629690046310605,
          0.006298979357395941,
          0.005298471343836843,
          0.003889777045841017,
          0.0034367702650378892,
          0.0033523420864198356,
          0.0023113360172427413,
          0.002160296621817517,
          0.0021447134660179776,
          0.0009071166079523229,
          0.0008901689953534642
         ],
         "y": [
          "div_count",
          "script_src_.js",
          "meta_count",
          "a_href_https",
          "script_async_true",
          "script_src_out_of_domain",
          "link_href_out_of_domain",
          "title_count",
          "br_count",
          "li_count",
          "push",
          "a_href_http",
          "section_count",
          "p_count",
          "img_src_out_of_domain",
          "link_href_http",
          "link_href_.css",
          "span_count",
          "strong_count",
          "link_type_text/css",
          "center_count",
          "document.getElementById",
          "img_src_.jpg",
          "indexOf",
          "form_action_http",
          "replace",
          "a_href_.com",
          "escape",
          "link_type_application/rsd+xml",
          "get",
          "find",
          "link_rel_shortlink",
          "link_rel_https://api.w.org/",
          "window.addEventListener"
         ]
        }
       ],
       "layout": {
        "autosize": false,
        "height": 1000,
        "width": 1000,
        "xaxis": {
         "tickfont": {
          "color": "black",
          "size": 12
         },
         "title": "Feature Importances"
        },
        "yaxis": {
         "automargin": true
        }
       }
      },
      "text/html": [
       "<div id=\"953fe2ab-fb23-4eca-8f16-9bf7d23eb33a\" style=\"height: 1000px; width: 1000px;\" class=\"plotly-graph-div\"></div><script type=\"text/javascript\">require([\"plotly\"], function(Plotly) { window.PLOTLYENV=window.PLOTLYENV || {};window.PLOTLYENV.BASE_URL=\"https://plot.ly\";Plotly.newPlot(\"953fe2ab-fb23-4eca-8f16-9bf7d23eb33a\", [{\"marker\": {\"color\": \"rgb(158,202,225)\", \"line\": {\"color\": \"rgb(8,48,107)\", \"width\": 1.5}}, \"opacity\": 0.6, \"orientation\": \"h\", \"text\": [0.1513, 0.1442, 0.0967, 0.0841, 0.0821, 0.0726, 0.0567, 0.0526, 0.0481, 0.024, 0.02, 0.0167, 0.0167, 0.0161, 0.0137, 0.0098, 0.0094, 0.0093, 0.0089, 0.0085, 0.0072, 0.0071, 0.0069, 0.0066, 0.0063, 0.0053, 0.0039, 0.0034, 0.0034, 0.0023, 0.0022, 0.0021, 0.0009, 0.0009], \"textposition\": \"outside\", \"x\": [0.15130767068249495, 0.1442037990461188, 0.09667712967974938, 0.08405308694178941, 0.0820746490269255, 0.07255048219317815, 0.05674326464434268, 0.052550125662537146, 0.04808505345484398, 0.024023716782349346, 0.020018323153045154, 0.01674461974146748, 0.016709714676289514, 0.01609369483122426, 0.013732695854483728, 0.009816330438320687, 0.009443487297351462, 0.009348159256094026, 0.008851075394766905, 0.008452340797803506, 0.007202267034192476, 0.0070751855724374875, 0.006923465984967895, 0.006629690046310605, 0.006298979357395941, 0.005298471343836843, 0.003889777045841017, 0.0034367702650378892, 0.0033523420864198356, 0.0023113360172427413, 0.002160296621817517, 0.0021447134660179776, 0.0009071166079523229, 0.0008901689953534642], \"y\": [\"div_count\", \"script_src_.js\", \"meta_count\", \"a_href_https\", \"script_async_true\", \"script_src_out_of_domain\", \"link_href_out_of_domain\", \"title_count\", \"br_count\", \"li_count\", \"push\", \"a_href_http\", \"section_count\", \"p_count\", \"img_src_out_of_domain\", \"link_href_http\", \"link_href_.css\", \"span_count\", \"strong_count\", \"link_type_text/css\", \"center_count\", \"document.getElementById\", \"img_src_.jpg\", \"indexOf\", \"form_action_http\", \"replace\", \"a_href_.com\", \"escape\", \"link_type_application/rsd+xml\", \"get\", \"find\", \"link_rel_shortlink\", \"link_rel_https://api.w.org/\", \"window.addEventListener\"], \"type\": \"bar\", \"uid\": \"28545ce1-2c96-4bc4-a7eb-c5c29ad357c0\"}], {\"autosize\": false, \"height\": 1000, \"width\": 1000, \"xaxis\": {\"tickfont\": {\"color\": \"black\", \"size\": 12}, \"title\": \"Feature Importances\"}, \"yaxis\": {\"automargin\": true}}, {\"showLink\": true, \"linkText\": \"Export to plot.ly\", \"plotlyServerURL\": \"https://plot.ly\"})});</script>"
      ],
      "text/vnd.plotly.v1+html": [
       "<div id=\"953fe2ab-fb23-4eca-8f16-9bf7d23eb33a\" style=\"height: 1000px; width: 1000px;\" class=\"plotly-graph-div\"></div><script type=\"text/javascript\">require([\"plotly\"], function(Plotly) { window.PLOTLYENV=window.PLOTLYENV || {};window.PLOTLYENV.BASE_URL=\"https://plot.ly\";Plotly.newPlot(\"953fe2ab-fb23-4eca-8f16-9bf7d23eb33a\", [{\"marker\": {\"color\": \"rgb(158,202,225)\", \"line\": {\"color\": \"rgb(8,48,107)\", \"width\": 1.5}}, \"opacity\": 0.6, \"orientation\": \"h\", \"text\": [0.1513, 0.1442, 0.0967, 0.0841, 0.0821, 0.0726, 0.0567, 0.0526, 0.0481, 0.024, 0.02, 0.0167, 0.0167, 0.0161, 0.0137, 0.0098, 0.0094, 0.0093, 0.0089, 0.0085, 0.0072, 0.0071, 0.0069, 0.0066, 0.0063, 0.0053, 0.0039, 0.0034, 0.0034, 0.0023, 0.0022, 0.0021, 0.0009, 0.0009], \"textposition\": \"outside\", \"x\": [0.15130767068249495, 0.1442037990461188, 0.09667712967974938, 0.08405308694178941, 0.0820746490269255, 0.07255048219317815, 0.05674326464434268, 0.052550125662537146, 0.04808505345484398, 0.024023716782349346, 0.020018323153045154, 0.01674461974146748, 0.016709714676289514, 0.01609369483122426, 0.013732695854483728, 0.009816330438320687, 0.009443487297351462, 0.009348159256094026, 0.008851075394766905, 0.008452340797803506, 0.007202267034192476, 0.0070751855724374875, 0.006923465984967895, 0.006629690046310605, 0.006298979357395941, 0.005298471343836843, 0.003889777045841017, 0.0034367702650378892, 0.0033523420864198356, 0.0023113360172427413, 0.002160296621817517, 0.0021447134660179776, 0.0009071166079523229, 0.0008901689953534642], \"y\": [\"div_count\", \"script_src_.js\", \"meta_count\", \"a_href_https\", \"script_async_true\", \"script_src_out_of_domain\", \"link_href_out_of_domain\", \"title_count\", \"br_count\", \"li_count\", \"push\", \"a_href_http\", \"section_count\", \"p_count\", \"img_src_out_of_domain\", \"link_href_http\", \"link_href_.css\", \"span_count\", \"strong_count\", \"link_type_text/css\", \"center_count\", \"document.getElementById\", \"img_src_.jpg\", \"indexOf\", \"form_action_http\", \"replace\", \"a_href_.com\", \"escape\", \"link_type_application/rsd+xml\", \"get\", \"find\", \"link_rel_shortlink\", \"link_rel_https://api.w.org/\", \"window.addEventListener\"], \"type\": \"bar\", \"uid\": \"28545ce1-2c96-4bc4-a7eb-c5c29ad357c0\"}], {\"autosize\": false, \"height\": 1000, \"width\": 1000, \"xaxis\": {\"tickfont\": {\"color\": \"black\", \"size\": 12}, \"title\": \"Feature Importances\"}, \"yaxis\": {\"automargin\": true}}, {\"showLink\": true, \"linkText\": \"Export to plot.ly\", \"plotlyServerURL\": \"https://plot.ly\"})});</script>"
      ]
     },
     "metadata": {},
     "output_type": "display_data"
    },
    {
     "name": "stdout",
     "output_type": "stream",
     "text": [
      "\n",
      "\n",
      "\u001b[1mAdaoost Classifier\u001b[0m\n",
      "Accuracy of the model for training data is: 0.9080115036976171\n",
      "Confusion Matrix for training data is:\n"
     ]
    },
    {
     "data": {
      "text/plain": [
       "Predicted  False   True  __all__\n",
       "Actual                          \n",
       "False      20913   3427    24340\n",
       "True        1051  23289    24340\n",
       "__all__    21964  26716    48680"
      ]
     },
     "metadata": {},
     "output_type": "display_data"
    },
    {
     "name": "stdout",
     "output_type": "stream",
     "text": [
      "Accuracy of the model for test data is: 0.8725128960943257\n",
      "Confusion Matrix for test data is:\n"
     ]
    },
    {
     "data": {
      "text/plain": [
       "Predicted  False  True  __all__\n",
       "Actual                         \n",
       "False       9002  1436    10438\n",
       "True         121  1654     1775\n",
       "__all__     9123  3090    12213"
      ]
     },
     "metadata": {},
     "output_type": "display_data"
    },
    {
     "data": {
      "application/vnd.plotly.v1+json": {
       "config": {
        "linkText": "Export to plot.ly",
        "plotlyServerURL": "https://plot.ly",
        "showLink": true
       },
       "data": [
        {
         "marker": {
          "color": "rgb(158,202,225)",
          "line": {
           "color": "rgb(8,48,107)",
           "width": 1.5
          }
         },
         "opacity": 0.6,
         "orientation": "h",
         "text": [
          0.12,
          0.08,
          0.08,
          0.06,
          0.06,
          0.04,
          0.04,
          0.04,
          0.04,
          0.04,
          0.04,
          0.04,
          0.04,
          0.02,
          0.02,
          0.02,
          0.02,
          0.02,
          0.02,
          0.02,
          0.02,
          0.02,
          0.02,
          0.02,
          0.02,
          0.02,
          0.02,
          0,
          0,
          0,
          0,
          0,
          0,
          0
         ],
         "textposition": "outside",
         "type": "bar",
         "uid": "7a7b6ff0-dee9-4e1e-b852-12f9c492daca",
         "x": [
          0.12,
          0.08,
          0.08,
          0.06,
          0.06,
          0.04,
          0.04,
          0.04,
          0.04,
          0.04,
          0.04,
          0.04,
          0.04,
          0.02,
          0.02,
          0.02,
          0.02,
          0.02,
          0.02,
          0.02,
          0.02,
          0.02,
          0.02,
          0.02,
          0.02,
          0.02,
          0.02,
          0,
          0,
          0,
          0,
          0,
          0,
          0
         ],
         "y": [
          "div_count",
          "a_href_.com",
          "img_src_.jpg",
          "title_count",
          "link_href_out_of_domain",
          "center_count",
          "br_count",
          "a_href_https",
          "a_href_http",
          "p_count",
          "push",
          "script_src_out_of_domain",
          "strong_count",
          "script_async_true",
          "section_count",
          "meta_count",
          "link_type_text/css",
          "link_type_application/rsd+xml",
          "link_rel_shortlink",
          "li_count",
          "link_href_http",
          "link_href_.css",
          "window.addEventListener",
          "form_action_http",
          "escape",
          "get",
          "find",
          "link_rel_https://api.w.org/",
          "img_src_out_of_domain",
          "replace",
          "script_src_.js",
          "indexOf",
          "span_count",
          "document.getElementById"
         ]
        }
       ],
       "layout": {
        "autosize": false,
        "height": 1000,
        "width": 1000,
        "xaxis": {
         "tickfont": {
          "color": "black",
          "size": 12
         },
         "title": "Feature Importances"
        },
        "yaxis": {
         "automargin": true
        }
       }
      },
      "text/html": [
       "<div id=\"0b763910-9941-41e1-a9bd-d40f16263dad\" style=\"height: 1000px; width: 1000px;\" class=\"plotly-graph-div\"></div><script type=\"text/javascript\">require([\"plotly\"], function(Plotly) { window.PLOTLYENV=window.PLOTLYENV || {};window.PLOTLYENV.BASE_URL=\"https://plot.ly\";Plotly.newPlot(\"0b763910-9941-41e1-a9bd-d40f16263dad\", [{\"marker\": {\"color\": \"rgb(158,202,225)\", \"line\": {\"color\": \"rgb(8,48,107)\", \"width\": 1.5}}, \"opacity\": 0.6, \"orientation\": \"h\", \"text\": [0.12, 0.08, 0.08, 0.06, 0.06, 0.04, 0.04, 0.04, 0.04, 0.04, 0.04, 0.04, 0.04, 0.02, 0.02, 0.02, 0.02, 0.02, 0.02, 0.02, 0.02, 0.02, 0.02, 0.02, 0.02, 0.02, 0.02, 0.0, 0.0, 0.0, 0.0, 0.0, 0.0, 0.0], \"textposition\": \"outside\", \"x\": [0.12, 0.08, 0.08, 0.06, 0.06, 0.04, 0.04, 0.04, 0.04, 0.04, 0.04, 0.04, 0.04, 0.02, 0.02, 0.02, 0.02, 0.02, 0.02, 0.02, 0.02, 0.02, 0.02, 0.02, 0.02, 0.02, 0.02, 0.0, 0.0, 0.0, 0.0, 0.0, 0.0, 0.0], \"y\": [\"div_count\", \"a_href_.com\", \"img_src_.jpg\", \"title_count\", \"link_href_out_of_domain\", \"center_count\", \"br_count\", \"a_href_https\", \"a_href_http\", \"p_count\", \"push\", \"script_src_out_of_domain\", \"strong_count\", \"script_async_true\", \"section_count\", \"meta_count\", \"link_type_text/css\", \"link_type_application/rsd+xml\", \"link_rel_shortlink\", \"li_count\", \"link_href_http\", \"link_href_.css\", \"window.addEventListener\", \"form_action_http\", \"escape\", \"get\", \"find\", \"link_rel_https://api.w.org/\", \"img_src_out_of_domain\", \"replace\", \"script_src_.js\", \"indexOf\", \"span_count\", \"document.getElementById\"], \"type\": \"bar\", \"uid\": \"7a7b6ff0-dee9-4e1e-b852-12f9c492daca\"}], {\"autosize\": false, \"height\": 1000, \"width\": 1000, \"xaxis\": {\"tickfont\": {\"color\": \"black\", \"size\": 12}, \"title\": \"Feature Importances\"}, \"yaxis\": {\"automargin\": true}}, {\"showLink\": true, \"linkText\": \"Export to plot.ly\", \"plotlyServerURL\": \"https://plot.ly\"})});</script>"
      ],
      "text/vnd.plotly.v1+html": [
       "<div id=\"0b763910-9941-41e1-a9bd-d40f16263dad\" style=\"height: 1000px; width: 1000px;\" class=\"plotly-graph-div\"></div><script type=\"text/javascript\">require([\"plotly\"], function(Plotly) { window.PLOTLYENV=window.PLOTLYENV || {};window.PLOTLYENV.BASE_URL=\"https://plot.ly\";Plotly.newPlot(\"0b763910-9941-41e1-a9bd-d40f16263dad\", [{\"marker\": {\"color\": \"rgb(158,202,225)\", \"line\": {\"color\": \"rgb(8,48,107)\", \"width\": 1.5}}, \"opacity\": 0.6, \"orientation\": \"h\", \"text\": [0.12, 0.08, 0.08, 0.06, 0.06, 0.04, 0.04, 0.04, 0.04, 0.04, 0.04, 0.04, 0.04, 0.02, 0.02, 0.02, 0.02, 0.02, 0.02, 0.02, 0.02, 0.02, 0.02, 0.02, 0.02, 0.02, 0.02, 0.0, 0.0, 0.0, 0.0, 0.0, 0.0, 0.0], \"textposition\": \"outside\", \"x\": [0.12, 0.08, 0.08, 0.06, 0.06, 0.04, 0.04, 0.04, 0.04, 0.04, 0.04, 0.04, 0.04, 0.02, 0.02, 0.02, 0.02, 0.02, 0.02, 0.02, 0.02, 0.02, 0.02, 0.02, 0.02, 0.02, 0.02, 0.0, 0.0, 0.0, 0.0, 0.0, 0.0, 0.0], \"y\": [\"div_count\", \"a_href_.com\", \"img_src_.jpg\", \"title_count\", \"link_href_out_of_domain\", \"center_count\", \"br_count\", \"a_href_https\", \"a_href_http\", \"p_count\", \"push\", \"script_src_out_of_domain\", \"strong_count\", \"script_async_true\", \"section_count\", \"meta_count\", \"link_type_text/css\", \"link_type_application/rsd+xml\", \"link_rel_shortlink\", \"li_count\", \"link_href_http\", \"link_href_.css\", \"window.addEventListener\", \"form_action_http\", \"escape\", \"get\", \"find\", \"link_rel_https://api.w.org/\", \"img_src_out_of_domain\", \"replace\", \"script_src_.js\", \"indexOf\", \"span_count\", \"document.getElementById\"], \"type\": \"bar\", \"uid\": \"7a7b6ff0-dee9-4e1e-b852-12f9c492daca\"}], {\"autosize\": false, \"height\": 1000, \"width\": 1000, \"xaxis\": {\"tickfont\": {\"color\": \"black\", \"size\": 12}, \"title\": \"Feature Importances\"}, \"yaxis\": {\"automargin\": true}}, {\"showLink\": true, \"linkText\": \"Export to plot.ly\", \"plotlyServerURL\": \"https://plot.ly\"})});</script>"
      ]
     },
     "metadata": {},
     "output_type": "display_data"
    },
    {
     "name": "stdout",
     "output_type": "stream",
     "text": [
      "\n",
      "\n",
      "\u001b[1mGradientBoosting Classifier\u001b[0m\n",
      "Accuracy of the model for training data is: 0.9230895645028759\n",
      "Confusion Matrix for training data is:\n"
     ]
    },
    {
     "data": {
      "text/plain": [
       "Predicted  False   True  __all__\n",
       "Actual                          \n",
       "False      21357   2983    24340\n",
       "True         761  23579    24340\n",
       "__all__    22118  26562    48680"
      ]
     },
     "metadata": {},
     "output_type": "display_data"
    },
    {
     "name": "stdout",
     "output_type": "stream",
     "text": [
      "Accuracy of the model for test data is: 0.8855318103660035\n",
      "Confusion Matrix for test data is:\n"
     ]
    },
    {
     "data": {
      "text/plain": [
       "Predicted  False  True  __all__\n",
       "Actual                         \n",
       "False       9177  1261    10438\n",
       "True         137  1638     1775\n",
       "__all__     9314  2899    12213"
      ]
     },
     "metadata": {},
     "output_type": "display_data"
    },
    {
     "data": {
      "application/vnd.plotly.v1+json": {
       "config": {
        "linkText": "Export to plot.ly",
        "plotlyServerURL": "https://plot.ly",
        "showLink": true
       },
       "data": [
        {
         "marker": {
          "color": "rgb(158,202,225)",
          "line": {
           "color": "rgb(8,48,107)",
           "width": 1.5
          }
         },
         "opacity": 0.6,
         "orientation": "h",
         "text": [
          0.4168,
          0.141,
          0.1271,
          0.1185,
          0.046,
          0.0304,
          0.0151,
          0.0105,
          0.01,
          0.0098,
          0.0097,
          0.0091,
          0.0077,
          0.0054,
          0.0038,
          0.0037,
          0.0037,
          0.0035,
          0.0032,
          0.003,
          0.0028,
          0.0027,
          0.0023,
          0.0022,
          0.0019,
          0.0019,
          0.0018,
          0.0015,
          0.0015,
          0.0014,
          0.0009,
          0.0007,
          0.0001,
          0.0001
         ],
         "textposition": "outside",
         "type": "bar",
         "uid": "8412a346-c65b-4c02-be48-adb1c5642827",
         "x": [
          0.4167671649961503,
          0.14102736756138123,
          0.12714629641320302,
          0.11848167669247531,
          0.04604382394678758,
          0.030424989262142925,
          0.015122833381345012,
          0.010537271851602322,
          0.010000859200971785,
          0.009823625047481457,
          0.009674600636721462,
          0.009081870588261853,
          0.007659763073497329,
          0.00542649371184261,
          0.003829939194778179,
          0.003685868354744327,
          0.0036544196513294785,
          0.0035311121138076615,
          0.0031843961044799567,
          0.00302800042957996,
          0.00284398489519641,
          0.0027097972156115754,
          0.002315476621986618,
          0.002216370977446404,
          0.001922390676848232,
          0.0019208247209548373,
          0.0017960167054216429,
          0.00154138329076259,
          0.0014683022089375783,
          0.0013721946155799978,
          0.0008760544503696841,
          0.0006594505036669604,
          0.00012613182853284872,
          9.924907610083201e-05
         ],
         "y": [
          "div_count",
          "link_href_out_of_domain",
          "meta_count",
          "script_async_true",
          "push",
          "title_count",
          "a_href_https",
          "strong_count",
          "img_src_out_of_domain",
          "indexOf",
          "link_href_http",
          "center_count",
          "a_href_http",
          "a_href_.com",
          "script_src_.js",
          "section_count",
          "script_src_out_of_domain",
          "link_type_text/css",
          "span_count",
          "p_count",
          "escape",
          "link_rel_shortlink",
          "li_count",
          "window.addEventListener",
          "replace",
          "img_src_.jpg",
          "link_type_application/rsd+xml",
          "br_count",
          "get",
          "form_action_http",
          "document.getElementById",
          "find",
          "link_href_.css",
          "link_rel_https://api.w.org/"
         ]
        }
       ],
       "layout": {
        "autosize": false,
        "height": 1000,
        "width": 1000,
        "xaxis": {
         "tickfont": {
          "color": "black",
          "size": 12
         },
         "title": "Feature Importances"
        },
        "yaxis": {
         "automargin": true
        }
       }
      },
      "text/html": [
       "<div id=\"7804867b-b740-440a-8a4f-dcc9abae7003\" style=\"height: 1000px; width: 1000px;\" class=\"plotly-graph-div\"></div><script type=\"text/javascript\">require([\"plotly\"], function(Plotly) { window.PLOTLYENV=window.PLOTLYENV || {};window.PLOTLYENV.BASE_URL=\"https://plot.ly\";Plotly.newPlot(\"7804867b-b740-440a-8a4f-dcc9abae7003\", [{\"marker\": {\"color\": \"rgb(158,202,225)\", \"line\": {\"color\": \"rgb(8,48,107)\", \"width\": 1.5}}, \"opacity\": 0.6, \"orientation\": \"h\", \"text\": [0.4168, 0.141, 0.1271, 0.1185, 0.046, 0.0304, 0.0151, 0.0105, 0.01, 0.0098, 0.0097, 0.0091, 0.0077, 0.0054, 0.0038, 0.0037, 0.0037, 0.0035, 0.0032, 0.003, 0.0028, 0.0027, 0.0023, 0.0022, 0.0019, 0.0019, 0.0018, 0.0015, 0.0015, 0.0014, 0.0009, 0.0007, 0.0001, 0.0001], \"textposition\": \"outside\", \"x\": [0.4167671649961503, 0.14102736756138123, 0.12714629641320302, 0.11848167669247531, 0.04604382394678758, 0.030424989262142925, 0.015122833381345012, 0.010537271851602322, 0.010000859200971785, 0.009823625047481457, 0.009674600636721462, 0.009081870588261853, 0.007659763073497329, 0.00542649371184261, 0.003829939194778179, 0.003685868354744327, 0.0036544196513294785, 0.0035311121138076615, 0.0031843961044799567, 0.00302800042957996, 0.00284398489519641, 0.0027097972156115754, 0.002315476621986618, 0.002216370977446404, 0.001922390676848232, 0.0019208247209548373, 0.0017960167054216429, 0.00154138329076259, 0.0014683022089375783, 0.0013721946155799978, 0.0008760544503696841, 0.0006594505036669604, 0.00012613182853284872, 9.924907610083201e-05], \"y\": [\"div_count\", \"link_href_out_of_domain\", \"meta_count\", \"script_async_true\", \"push\", \"title_count\", \"a_href_https\", \"strong_count\", \"img_src_out_of_domain\", \"indexOf\", \"link_href_http\", \"center_count\", \"a_href_http\", \"a_href_.com\", \"script_src_.js\", \"section_count\", \"script_src_out_of_domain\", \"link_type_text/css\", \"span_count\", \"p_count\", \"escape\", \"link_rel_shortlink\", \"li_count\", \"window.addEventListener\", \"replace\", \"img_src_.jpg\", \"link_type_application/rsd+xml\", \"br_count\", \"get\", \"form_action_http\", \"document.getElementById\", \"find\", \"link_href_.css\", \"link_rel_https://api.w.org/\"], \"type\": \"bar\", \"uid\": \"8412a346-c65b-4c02-be48-adb1c5642827\"}], {\"autosize\": false, \"height\": 1000, \"width\": 1000, \"xaxis\": {\"tickfont\": {\"color\": \"black\", \"size\": 12}, \"title\": \"Feature Importances\"}, \"yaxis\": {\"automargin\": true}}, {\"showLink\": true, \"linkText\": \"Export to plot.ly\", \"plotlyServerURL\": \"https://plot.ly\"})});</script>"
      ],
      "text/vnd.plotly.v1+html": [
       "<div id=\"7804867b-b740-440a-8a4f-dcc9abae7003\" style=\"height: 1000px; width: 1000px;\" class=\"plotly-graph-div\"></div><script type=\"text/javascript\">require([\"plotly\"], function(Plotly) { window.PLOTLYENV=window.PLOTLYENV || {};window.PLOTLYENV.BASE_URL=\"https://plot.ly\";Plotly.newPlot(\"7804867b-b740-440a-8a4f-dcc9abae7003\", [{\"marker\": {\"color\": \"rgb(158,202,225)\", \"line\": {\"color\": \"rgb(8,48,107)\", \"width\": 1.5}}, \"opacity\": 0.6, \"orientation\": \"h\", \"text\": [0.4168, 0.141, 0.1271, 0.1185, 0.046, 0.0304, 0.0151, 0.0105, 0.01, 0.0098, 0.0097, 0.0091, 0.0077, 0.0054, 0.0038, 0.0037, 0.0037, 0.0035, 0.0032, 0.003, 0.0028, 0.0027, 0.0023, 0.0022, 0.0019, 0.0019, 0.0018, 0.0015, 0.0015, 0.0014, 0.0009, 0.0007, 0.0001, 0.0001], \"textposition\": \"outside\", \"x\": [0.4167671649961503, 0.14102736756138123, 0.12714629641320302, 0.11848167669247531, 0.04604382394678758, 0.030424989262142925, 0.015122833381345012, 0.010537271851602322, 0.010000859200971785, 0.009823625047481457, 0.009674600636721462, 0.009081870588261853, 0.007659763073497329, 0.00542649371184261, 0.003829939194778179, 0.003685868354744327, 0.0036544196513294785, 0.0035311121138076615, 0.0031843961044799567, 0.00302800042957996, 0.00284398489519641, 0.0027097972156115754, 0.002315476621986618, 0.002216370977446404, 0.001922390676848232, 0.0019208247209548373, 0.0017960167054216429, 0.00154138329076259, 0.0014683022089375783, 0.0013721946155799978, 0.0008760544503696841, 0.0006594505036669604, 0.00012613182853284872, 9.924907610083201e-05], \"y\": [\"div_count\", \"link_href_out_of_domain\", \"meta_count\", \"script_async_true\", \"push\", \"title_count\", \"a_href_https\", \"strong_count\", \"img_src_out_of_domain\", \"indexOf\", \"link_href_http\", \"center_count\", \"a_href_http\", \"a_href_.com\", \"script_src_.js\", \"section_count\", \"script_src_out_of_domain\", \"link_type_text/css\", \"span_count\", \"p_count\", \"escape\", \"link_rel_shortlink\", \"li_count\", \"window.addEventListener\", \"replace\", \"img_src_.jpg\", \"link_type_application/rsd+xml\", \"br_count\", \"get\", \"form_action_http\", \"document.getElementById\", \"find\", \"link_href_.css\", \"link_rel_https://api.w.org/\"], \"type\": \"bar\", \"uid\": \"8412a346-c65b-4c02-be48-adb1c5642827\"}], {\"autosize\": false, \"height\": 1000, \"width\": 1000, \"xaxis\": {\"tickfont\": {\"color\": \"black\", \"size\": 12}, \"title\": \"Feature Importances\"}, \"yaxis\": {\"automargin\": true}}, {\"showLink\": true, \"linkText\": \"Export to plot.ly\", \"plotlyServerURL\": \"https://plot.ly\"})});</script>"
      ]
     },
     "metadata": {},
     "output_type": "display_data"
    },
    {
     "name": "stdout",
     "output_type": "stream",
     "text": [
      "\n",
      "\n",
      "\u001b[1mExtraTree Classifier\u001b[0m\n",
      "Accuracy of the model for training data is: 0.9533483976992605\n",
      "Confusion Matrix for training data is:\n"
     ]
    },
    {
     "data": {
      "text/plain": [
       "Predicted  False   True  __all__\n",
       "Actual                          \n",
       "False      22309   2031    24340\n",
       "True         240  24100    24340\n",
       "__all__    22549  26131    48680"
      ]
     },
     "metadata": {},
     "output_type": "display_data"
    },
    {
     "name": "stdout",
     "output_type": "stream",
     "text": [
      "Accuracy of the model for test data is: 0.9098501596659297\n",
      "Confusion Matrix for test data is:\n"
     ]
    },
    {
     "data": {
      "text/plain": [
       "Predicted  False  True  __all__\n",
       "Actual                         \n",
       "False       9502   936    10438\n",
       "True         165  1610     1775\n",
       "__all__     9667  2546    12213"
      ]
     },
     "metadata": {},
     "output_type": "display_data"
    },
    {
     "data": {
      "application/vnd.plotly.v1+json": {
       "config": {
        "linkText": "Export to plot.ly",
        "plotlyServerURL": "https://plot.ly",
        "showLink": true
       },
       "data": [
        {
         "marker": {
          "color": "rgb(158,202,225)",
          "line": {
           "color": "rgb(8,48,107)",
           "width": 1.5
          }
         },
         "opacity": 0.6,
         "orientation": "h",
         "text": [
          0.1001,
          0.0959,
          0.0726,
          0.0658,
          0.0649,
          0.059,
          0.0482,
          0.0457,
          0.0447,
          0.0401,
          0.0387,
          0.03,
          0.0298,
          0.0234,
          0.021,
          0.021,
          0.0185,
          0.0172,
          0.0166,
          0.0166,
          0.013,
          0.0123,
          0.012,
          0.0113,
          0.0113,
          0.0112,
          0.01,
          0.0098,
          0.0091,
          0.0083,
          0.0071,
          0.0059,
          0.0047,
          0.0043
         ],
         "textposition": "outside",
         "type": "bar",
         "uid": "fe820572-e754-4cb3-9213-25a76c0c615d",
         "x": [
          0.10006031042807305,
          0.0958563149045371,
          0.07261217070570632,
          0.0658092695048526,
          0.06489523137005326,
          0.0590360491264904,
          0.048211272688983654,
          0.045699758963842284,
          0.04469407920675541,
          0.04008887149694675,
          0.03873902662786865,
          0.02999971907688586,
          0.0297830636248125,
          0.02344175711702043,
          0.02101149734039207,
          0.02097921492812572,
          0.018520982428215035,
          0.017176559295091747,
          0.01658685509703146,
          0.016562494540016497,
          0.013043838525100656,
          0.012296379415601527,
          0.012016266569957927,
          0.011307897425636312,
          0.011297821019413665,
          0.011174936287812872,
          0.00995253909689977,
          0.00977703293025521,
          0.009072238798715389,
          0.008270491459355453,
          0.007115215684418213,
          0.005939026900604814,
          0.004686397475897987,
          0.004285419938629534
         ],
         "y": [
          "script_src_out_of_domain",
          "link_href_out_of_domain",
          "link_type_text/css",
          "script_async_true",
          "script_src_.js",
          "li_count",
          "a_href_http",
          "span_count",
          "img_src_.jpg",
          "link_href_.css",
          "br_count",
          "p_count",
          "meta_count",
          "section_count",
          "img_src_out_of_domain",
          "a_href_https",
          "form_action_http",
          "link_rel_https://api.w.org/",
          "div_count",
          "title_count",
          "link_href_http",
          "escape",
          "link_rel_shortlink",
          "link_type_application/rsd+xml",
          "window.addEventListener",
          "push",
          "document.getElementById",
          "replace",
          "center_count",
          "a_href_.com",
          "strong_count",
          "indexOf",
          "find",
          "get"
         ]
        }
       ],
       "layout": {
        "autosize": false,
        "height": 1000,
        "width": 1000,
        "xaxis": {
         "tickfont": {
          "color": "black",
          "size": 12
         },
         "title": "Feature Importances"
        },
        "yaxis": {
         "automargin": true
        }
       }
      },
      "text/html": [
       "<div id=\"f8825e8e-f5c0-4d20-a8d9-2176392f0781\" style=\"height: 1000px; width: 1000px;\" class=\"plotly-graph-div\"></div><script type=\"text/javascript\">require([\"plotly\"], function(Plotly) { window.PLOTLYENV=window.PLOTLYENV || {};window.PLOTLYENV.BASE_URL=\"https://plot.ly\";Plotly.newPlot(\"f8825e8e-f5c0-4d20-a8d9-2176392f0781\", [{\"marker\": {\"color\": \"rgb(158,202,225)\", \"line\": {\"color\": \"rgb(8,48,107)\", \"width\": 1.5}}, \"opacity\": 0.6, \"orientation\": \"h\", \"text\": [0.1001, 0.0959, 0.0726, 0.0658, 0.0649, 0.059, 0.0482, 0.0457, 0.0447, 0.0401, 0.0387, 0.03, 0.0298, 0.0234, 0.021, 0.021, 0.0185, 0.0172, 0.0166, 0.0166, 0.013, 0.0123, 0.012, 0.0113, 0.0113, 0.0112, 0.01, 0.0098, 0.0091, 0.0083, 0.0071, 0.0059, 0.0047, 0.0043], \"textposition\": \"outside\", \"x\": [0.10006031042807305, 0.0958563149045371, 0.07261217070570632, 0.0658092695048526, 0.06489523137005326, 0.0590360491264904, 0.048211272688983654, 0.045699758963842284, 0.04469407920675541, 0.04008887149694675, 0.03873902662786865, 0.02999971907688586, 0.0297830636248125, 0.02344175711702043, 0.02101149734039207, 0.02097921492812572, 0.018520982428215035, 0.017176559295091747, 0.01658685509703146, 0.016562494540016497, 0.013043838525100656, 0.012296379415601527, 0.012016266569957927, 0.011307897425636312, 0.011297821019413665, 0.011174936287812872, 0.00995253909689977, 0.00977703293025521, 0.009072238798715389, 0.008270491459355453, 0.007115215684418213, 0.005939026900604814, 0.004686397475897987, 0.004285419938629534], \"y\": [\"script_src_out_of_domain\", \"link_href_out_of_domain\", \"link_type_text/css\", \"script_async_true\", \"script_src_.js\", \"li_count\", \"a_href_http\", \"span_count\", \"img_src_.jpg\", \"link_href_.css\", \"br_count\", \"p_count\", \"meta_count\", \"section_count\", \"img_src_out_of_domain\", \"a_href_https\", \"form_action_http\", \"link_rel_https://api.w.org/\", \"div_count\", \"title_count\", \"link_href_http\", \"escape\", \"link_rel_shortlink\", \"link_type_application/rsd+xml\", \"window.addEventListener\", \"push\", \"document.getElementById\", \"replace\", \"center_count\", \"a_href_.com\", \"strong_count\", \"indexOf\", \"find\", \"get\"], \"type\": \"bar\", \"uid\": \"fe820572-e754-4cb3-9213-25a76c0c615d\"}], {\"autosize\": false, \"height\": 1000, \"width\": 1000, \"xaxis\": {\"tickfont\": {\"color\": \"black\", \"size\": 12}, \"title\": \"Feature Importances\"}, \"yaxis\": {\"automargin\": true}}, {\"showLink\": true, \"linkText\": \"Export to plot.ly\", \"plotlyServerURL\": \"https://plot.ly\"})});</script>"
      ],
      "text/vnd.plotly.v1+html": [
       "<div id=\"f8825e8e-f5c0-4d20-a8d9-2176392f0781\" style=\"height: 1000px; width: 1000px;\" class=\"plotly-graph-div\"></div><script type=\"text/javascript\">require([\"plotly\"], function(Plotly) { window.PLOTLYENV=window.PLOTLYENV || {};window.PLOTLYENV.BASE_URL=\"https://plot.ly\";Plotly.newPlot(\"f8825e8e-f5c0-4d20-a8d9-2176392f0781\", [{\"marker\": {\"color\": \"rgb(158,202,225)\", \"line\": {\"color\": \"rgb(8,48,107)\", \"width\": 1.5}}, \"opacity\": 0.6, \"orientation\": \"h\", \"text\": [0.1001, 0.0959, 0.0726, 0.0658, 0.0649, 0.059, 0.0482, 0.0457, 0.0447, 0.0401, 0.0387, 0.03, 0.0298, 0.0234, 0.021, 0.021, 0.0185, 0.0172, 0.0166, 0.0166, 0.013, 0.0123, 0.012, 0.0113, 0.0113, 0.0112, 0.01, 0.0098, 0.0091, 0.0083, 0.0071, 0.0059, 0.0047, 0.0043], \"textposition\": \"outside\", \"x\": [0.10006031042807305, 0.0958563149045371, 0.07261217070570632, 0.0658092695048526, 0.06489523137005326, 0.0590360491264904, 0.048211272688983654, 0.045699758963842284, 0.04469407920675541, 0.04008887149694675, 0.03873902662786865, 0.02999971907688586, 0.0297830636248125, 0.02344175711702043, 0.02101149734039207, 0.02097921492812572, 0.018520982428215035, 0.017176559295091747, 0.01658685509703146, 0.016562494540016497, 0.013043838525100656, 0.012296379415601527, 0.012016266569957927, 0.011307897425636312, 0.011297821019413665, 0.011174936287812872, 0.00995253909689977, 0.00977703293025521, 0.009072238798715389, 0.008270491459355453, 0.007115215684418213, 0.005939026900604814, 0.004686397475897987, 0.004285419938629534], \"y\": [\"script_src_out_of_domain\", \"link_href_out_of_domain\", \"link_type_text/css\", \"script_async_true\", \"script_src_.js\", \"li_count\", \"a_href_http\", \"span_count\", \"img_src_.jpg\", \"link_href_.css\", \"br_count\", \"p_count\", \"meta_count\", \"section_count\", \"img_src_out_of_domain\", \"a_href_https\", \"form_action_http\", \"link_rel_https://api.w.org/\", \"div_count\", \"title_count\", \"link_href_http\", \"escape\", \"link_rel_shortlink\", \"link_type_application/rsd+xml\", \"window.addEventListener\", \"push\", \"document.getElementById\", \"replace\", \"center_count\", \"a_href_.com\", \"strong_count\", \"indexOf\", \"find\", \"get\"], \"type\": \"bar\", \"uid\": \"fe820572-e754-4cb3-9213-25a76c0c615d\"}], {\"autosize\": false, \"height\": 1000, \"width\": 1000, \"xaxis\": {\"tickfont\": {\"color\": \"black\", \"size\": 12}, \"title\": \"Feature Importances\"}, \"yaxis\": {\"automargin\": true}}, {\"showLink\": true, \"linkText\": \"Export to plot.ly\", \"plotlyServerURL\": \"https://plot.ly\"})});</script>"
      ]
     },
     "metadata": {},
     "output_type": "display_data"
    },
    {
     "name": "stdout",
     "output_type": "stream",
     "text": [
      "\n",
      "\n",
      "\u001b[1mBagging Classifier\u001b[0m\n",
      "Accuracy of the model for training data is: 0.9524856203779787\n",
      "Confusion Matrix for training data is:\n"
     ]
    },
    {
     "data": {
      "text/plain": [
       "Predicted  False   True  __all__\n",
       "Actual                          \n",
       "False      22306   2034    24340\n",
       "True         279  24061    24340\n",
       "__all__    22585  26095    48680"
      ]
     },
     "metadata": {},
     "output_type": "display_data"
    },
    {
     "name": "stdout",
     "output_type": "stream",
     "text": [
      "Accuracy of the model for test data is: 0.9087038401703104\n",
      "Confusion Matrix for test data is:\n"
     ]
    },
    {
     "data": {
      "text/plain": [
       "Predicted  False  True  __all__\n",
       "Actual                         \n",
       "False       9483   955    10438\n",
       "True         160  1615     1775\n",
       "__all__     9643  2570    12213"
      ]
     },
     "metadata": {},
     "output_type": "display_data"
    },
    {
     "name": "stdout",
     "output_type": "stream",
     "text": [
      "\n",
      "\n",
      "\u001b[1mNeural Network-1\u001b[0m\n",
      "The accuracy of the model on training data is: 0.9378389482333607\n"
     ]
    },
    {
     "data": {
      "text/plain": [
       "Predicted  False   True  __all__\n",
       "Actual                          \n",
       "False      21726   2614    24340\n",
       "True         412  23928    24340\n",
       "__all__    22138  26542    48680"
      ]
     },
     "metadata": {},
     "output_type": "display_data"
    },
    {
     "name": "stdout",
     "output_type": "stream",
     "text": [
      "The accuracy of the model on test data is: 0.8896258085646442\n"
     ]
    },
    {
     "data": {
      "text/plain": [
       "Predicted  False  True  __all__\n",
       "Actual                         \n",
       "False       9222  1216    10438\n",
       "True         132  1643     1775\n",
       "__all__     9354  2859    12213"
      ]
     },
     "metadata": {},
     "output_type": "display_data"
    },
    {
     "name": "stdout",
     "output_type": "stream",
     "text": [
      "\n",
      "\n"
     ]
    }
   ],
   "source": [
    "## Table to store training and test measures so we can compare later\n",
    "table_80_80_train=pd.DataFrame(columns=['accuracy','TP','TN','FP','FN','FPR','FNR'])\n",
    "table_80_80_test=pd.DataFrame(columns=['accuracy','TP','TN','FP','FN','FPR','FNR','auc','mcc'])\n",
    "\n",
    "feat_imp=[None]*4\n",
    "j=0\n",
    "for i in range(0,8):\n",
    "    if i>=2 and i<=5:\n",
    "        model,cm_train,cm_test,acc_train,acc_test,roc_auc,feat_imp[j],mcc=f[i](X_train,Y_train,scaled_X_test,test_Y,columns)\n",
    "        j=j+1\n",
    "    else:\n",
    "        model,cm_train,cm_test,acc_train,acc_test,roc_auc,mcc=f[i](X_train,Y_train,scaled_X_test,test_Y)\n",
    "    table_80_80_train.loc[i]=   ([acc_train,cm_train.TP,cm_train.TN,cm_train.FP,cm_train.FN,cm_train.FPR,cm_train.FNR])\n",
    "    table_80_80_test.loc[i] =   ([acc_test ,cm_test.TP, cm_test.TN, cm_test.FP, cm_test.FN, cm_test.FPR, cm_test.FNR,roc_auc,mcc])\n",
    "    print(\"\\n\")"
   ]
  },
  {
   "cell_type": "markdown",
   "metadata": {},
   "source": [
    "### <a id='2.A' style=\"text-decoration : none; color : #000000;\"> A Results</a>"
   ]
  },
  {
   "cell_type": "code",
   "execution_count": 26,
   "metadata": {},
   "outputs": [
    {
     "data": {
      "application/vnd.plotly.v1+json": {
       "config": {
        "linkText": "Export to plot.ly",
        "plotlyServerURL": "https://plot.ly",
        "showLink": true
       },
       "data": [
        {
         "mode": "lines",
         "name": "KNN_model",
         "type": "scatter",
         "uid": "08076914-94f7-4b8e-9897-b0050f6fe867",
         "x": [
          "accuracy",
          "FPR",
          "FNR",
          "auc"
         ],
         "y": [
          0.8802914926717432,
          0.12588618509292968,
          0.08338028169014085,
          0.8953667666084646
         ]
        },
        {
         "mode": "lines+markers",
         "name": "Logistic Regression",
         "type": "scatter",
         "uid": "4fd92b42-d149-4098-858e-3dd0a8a33321",
         "x": [
          "accuracy",
          "FPR",
          "FNR",
          "auc"
         ],
         "y": [
          0.8508147056415295,
          0.1657405633263077,
          0.051830985915492955,
          0.8912142253790996
         ]
        },
        {
         "marker": {
          "symbol": "x"
         },
         "mode": "lines+markers",
         "name": "Random Forest",
         "type": "scatter",
         "uid": "cd92f9d7-2d14-4263-bd2a-e313073739ba",
         "x": [
          "accuracy",
          "FPR",
          "FNR",
          "auc"
         ],
         "y": [
          0.910177679521821,
          0.08928913584977966,
          0.09295774647887324,
          0.9088765588356736
         ]
        },
        {
         "mode": "lines",
         "name": "Ada Boost",
         "type": "scatter",
         "uid": "58af3ae4-4ab7-47d0-8605-c812abab0ffb",
         "x": [
          "accuracy",
          "FPR",
          "FNR",
          "auc"
         ],
         "y": [
          0.8725128960943257,
          0.13757424794021844,
          0.06816901408450704,
          0.8971283689876373
         ]
        },
        {
         "mode": "lines+markers",
         "name": "GradientBoosting",
         "type": "scatter",
         "uid": "4e0a9fc1-2993-4836-b6f9-3e632224f963",
         "x": [
          "accuracy",
          "FPR",
          "FNR",
          "auc"
         ],
         "y": [
          0.8855318103660035,
          0.1208085840199272,
          0.0771830985915493,
          0.9010041586942616
         ]
        },
        {
         "marker": {
          "symbol": "x"
         },
         "mode": "lines+markers",
         "name": "ExtraTree Classifier",
         "type": "scatter",
         "uid": "bd2e968b-1d19-44ae-a10e-9f0750b46fea",
         "x": [
          "accuracy",
          "FPR",
          "FNR",
          "auc"
         ],
         "y": [
          0.9098501596659297,
          0.0896723510251006,
          0.09295774647887324,
          0.9086849512480132
         ]
        },
        {
         "marker": {
          "symbol": "x"
         },
         "mode": "lines+markers",
         "name": "Bagging",
         "type": "scatter",
         "uid": "15042a0b-95fd-42a0-97da-31e055f320af",
         "x": [
          "accuracy",
          "FPR",
          "FNR",
          "auc"
         ],
         "y": [
          0.9087038401703104,
          0.09149262310787507,
          0.09014084507042254,
          0.9091832659108512
         ]
        },
        {
         "marker": {
          "symbol": "x"
         },
         "mode": "lines+markers",
         "name": "Neural Network",
         "type": "scatter",
         "uid": "c349aec8-9eef-4d62-a082-c66638fa9734",
         "x": [
          "accuracy",
          "FPR",
          "FNR",
          "auc"
         ],
         "y": [
          0.8896258085646442,
          0.11649741329756659,
          0.07436619718309859,
          0.9045681947596674
         ]
        }
       ],
       "layout": {
        "title": "Result comparision for Features selected in Section 1",
        "yaxis": {
         "dtick": 0.05,
         "tick0": 0
        }
       }
      },
      "text/html": [
       "<div id=\"62366c84-767e-44a9-8be3-170d21c1a49d\" style=\"height: 525px; width: 100%;\" class=\"plotly-graph-div\"></div><script type=\"text/javascript\">require([\"plotly\"], function(Plotly) { window.PLOTLYENV=window.PLOTLYENV || {};window.PLOTLYENV.BASE_URL=\"https://plot.ly\";Plotly.newPlot(\"62366c84-767e-44a9-8be3-170d21c1a49d\", [{\"mode\": \"lines\", \"name\": \"KNN_model\", \"x\": [\"accuracy\", \"FPR\", \"FNR\", \"auc\"], \"y\": [0.8802914926717432, 0.12588618509292968, 0.08338028169014085, 0.8953667666084646], \"type\": \"scatter\", \"uid\": \"08076914-94f7-4b8e-9897-b0050f6fe867\"}, {\"mode\": \"lines+markers\", \"name\": \"Logistic Regression\", \"x\": [\"accuracy\", \"FPR\", \"FNR\", \"auc\"], \"y\": [0.8508147056415295, 0.1657405633263077, 0.051830985915492955, 0.8912142253790996], \"type\": \"scatter\", \"uid\": \"4fd92b42-d149-4098-858e-3dd0a8a33321\"}, {\"marker\": {\"symbol\": \"x\"}, \"mode\": \"lines+markers\", \"name\": \"Random Forest\", \"x\": [\"accuracy\", \"FPR\", \"FNR\", \"auc\"], \"y\": [0.910177679521821, 0.08928913584977966, 0.09295774647887324, 0.9088765588356736], \"type\": \"scatter\", \"uid\": \"cd92f9d7-2d14-4263-bd2a-e313073739ba\"}, {\"mode\": \"lines\", \"name\": \"Ada Boost\", \"x\": [\"accuracy\", \"FPR\", \"FNR\", \"auc\"], \"y\": [0.8725128960943257, 0.13757424794021844, 0.06816901408450704, 0.8971283689876373], \"type\": \"scatter\", \"uid\": \"58af3ae4-4ab7-47d0-8605-c812abab0ffb\"}, {\"mode\": \"lines+markers\", \"name\": \"GradientBoosting\", \"x\": [\"accuracy\", \"FPR\", \"FNR\", \"auc\"], \"y\": [0.8855318103660035, 0.1208085840199272, 0.0771830985915493, 0.9010041586942616], \"type\": \"scatter\", \"uid\": \"4e0a9fc1-2993-4836-b6f9-3e632224f963\"}, {\"marker\": {\"symbol\": \"x\"}, \"mode\": \"lines+markers\", \"name\": \"ExtraTree Classifier\", \"x\": [\"accuracy\", \"FPR\", \"FNR\", \"auc\"], \"y\": [0.9098501596659297, 0.0896723510251006, 0.09295774647887324, 0.9086849512480132], \"type\": \"scatter\", \"uid\": \"bd2e968b-1d19-44ae-a10e-9f0750b46fea\"}, {\"marker\": {\"symbol\": \"x\"}, \"mode\": \"lines+markers\", \"name\": \"Bagging\", \"x\": [\"accuracy\", \"FPR\", \"FNR\", \"auc\"], \"y\": [0.9087038401703104, 0.09149262310787507, 0.09014084507042254, 0.9091832659108512], \"type\": \"scatter\", \"uid\": \"15042a0b-95fd-42a0-97da-31e055f320af\"}, {\"marker\": {\"symbol\": \"x\"}, \"mode\": \"lines+markers\", \"name\": \"Neural Network\", \"x\": [\"accuracy\", \"FPR\", \"FNR\", \"auc\"], \"y\": [0.8896258085646442, 0.11649741329756659, 0.07436619718309859, 0.9045681947596674], \"type\": \"scatter\", \"uid\": \"c349aec8-9eef-4d62-a082-c66638fa9734\"}], {\"title\": \"Result comparision for Features selected in Section 1\", \"yaxis\": {\"dtick\": 0.05, \"tick0\": 0}}, {\"showLink\": true, \"linkText\": \"Export to plot.ly\", \"plotlyServerURL\": \"https://plot.ly\"})});</script><script type=\"text/javascript\">window.addEventListener(\"resize\", function(){window._Plotly.Plots.resize(document.getElementById(\"62366c84-767e-44a9-8be3-170d21c1a49d\"));});</script>"
      ],
      "text/vnd.plotly.v1+html": [
       "<div id=\"62366c84-767e-44a9-8be3-170d21c1a49d\" style=\"height: 525px; width: 100%;\" class=\"plotly-graph-div\"></div><script type=\"text/javascript\">require([\"plotly\"], function(Plotly) { window.PLOTLYENV=window.PLOTLYENV || {};window.PLOTLYENV.BASE_URL=\"https://plot.ly\";Plotly.newPlot(\"62366c84-767e-44a9-8be3-170d21c1a49d\", [{\"mode\": \"lines\", \"name\": \"KNN_model\", \"x\": [\"accuracy\", \"FPR\", \"FNR\", \"auc\"], \"y\": [0.8802914926717432, 0.12588618509292968, 0.08338028169014085, 0.8953667666084646], \"type\": \"scatter\", \"uid\": \"08076914-94f7-4b8e-9897-b0050f6fe867\"}, {\"mode\": \"lines+markers\", \"name\": \"Logistic Regression\", \"x\": [\"accuracy\", \"FPR\", \"FNR\", \"auc\"], \"y\": [0.8508147056415295, 0.1657405633263077, 0.051830985915492955, 0.8912142253790996], \"type\": \"scatter\", \"uid\": \"4fd92b42-d149-4098-858e-3dd0a8a33321\"}, {\"marker\": {\"symbol\": \"x\"}, \"mode\": \"lines+markers\", \"name\": \"Random Forest\", \"x\": [\"accuracy\", \"FPR\", \"FNR\", \"auc\"], \"y\": [0.910177679521821, 0.08928913584977966, 0.09295774647887324, 0.9088765588356736], \"type\": \"scatter\", \"uid\": \"cd92f9d7-2d14-4263-bd2a-e313073739ba\"}, {\"mode\": \"lines\", \"name\": \"Ada Boost\", \"x\": [\"accuracy\", \"FPR\", \"FNR\", \"auc\"], \"y\": [0.8725128960943257, 0.13757424794021844, 0.06816901408450704, 0.8971283689876373], \"type\": \"scatter\", \"uid\": \"58af3ae4-4ab7-47d0-8605-c812abab0ffb\"}, {\"mode\": \"lines+markers\", \"name\": \"GradientBoosting\", \"x\": [\"accuracy\", \"FPR\", \"FNR\", \"auc\"], \"y\": [0.8855318103660035, 0.1208085840199272, 0.0771830985915493, 0.9010041586942616], \"type\": \"scatter\", \"uid\": \"4e0a9fc1-2993-4836-b6f9-3e632224f963\"}, {\"marker\": {\"symbol\": \"x\"}, \"mode\": \"lines+markers\", \"name\": \"ExtraTree Classifier\", \"x\": [\"accuracy\", \"FPR\", \"FNR\", \"auc\"], \"y\": [0.9098501596659297, 0.0896723510251006, 0.09295774647887324, 0.9086849512480132], \"type\": \"scatter\", \"uid\": \"bd2e968b-1d19-44ae-a10e-9f0750b46fea\"}, {\"marker\": {\"symbol\": \"x\"}, \"mode\": \"lines+markers\", \"name\": \"Bagging\", \"x\": [\"accuracy\", \"FPR\", \"FNR\", \"auc\"], \"y\": [0.9087038401703104, 0.09149262310787507, 0.09014084507042254, 0.9091832659108512], \"type\": \"scatter\", \"uid\": \"15042a0b-95fd-42a0-97da-31e055f320af\"}, {\"marker\": {\"symbol\": \"x\"}, \"mode\": \"lines+markers\", \"name\": \"Neural Network\", \"x\": [\"accuracy\", \"FPR\", \"FNR\", \"auc\"], \"y\": [0.8896258085646442, 0.11649741329756659, 0.07436619718309859, 0.9045681947596674], \"type\": \"scatter\", \"uid\": \"c349aec8-9eef-4d62-a082-c66638fa9734\"}], {\"title\": \"Result comparision for Features selected in Section 1\", \"yaxis\": {\"dtick\": 0.05, \"tick0\": 0}}, {\"showLink\": true, \"linkText\": \"Export to plot.ly\", \"plotlyServerURL\": \"https://plot.ly\"})});</script><script type=\"text/javascript\">window.addEventListener(\"resize\", function(){window._Plotly.Plots.resize(document.getElementById(\"62366c84-767e-44a9-8be3-170d21c1a49d\"));});</script>"
      ]
     },
     "metadata": {},
     "output_type": "display_data"
    }
   ],
   "source": [
    "trace0 = go.Scatter(x=table_80_80_test.iloc[0].index.values[[0,5,6,7]],\n",
    "                    y=table_80_80_test.iloc[0].values[[0,5,6,7]],\n",
    "                    mode = 'lines',\n",
    "                    name = 'KNN_model')\n",
    "\n",
    "trace1 = go.Scatter(x=table_80_80_test.iloc[1].index.values[[0,5,6,7]],\n",
    "                    y=table_80_80_test.iloc[1].values[[0,5,6,7]],\n",
    "                    mode = 'lines+markers',\n",
    "                    name = 'Logistic Regression')\n",
    "\n",
    "trace2 = go.Scatter(x=table_80_80_test.iloc[2].index.values[[0,5,6,7]],\n",
    "                    y=table_80_80_test.iloc[2].values[[0,5,6,7]],\n",
    "                    mode = 'lines+markers',marker=dict(symbol='x'),\n",
    "                    name = 'Random Forest')\n",
    "\n",
    "\n",
    "trace3 = go.Scatter(x=table_80_80_test.iloc[3].index.values[[0,5,6,7]],\n",
    "                    y=table_80_80_test.iloc[3].values[[0,5,6,7]],\n",
    "                    mode = 'lines',\n",
    "                    name = 'Ada Boost')\n",
    "\n",
    "trace4 = go.Scatter(x=table_80_80_test.iloc[4].index.values[[0,5,6,7]],\n",
    "                    y=table_80_80_test.iloc[4].values[[0,5,6,7]],\n",
    "                    mode = 'lines+markers',\n",
    "                    name = 'GradientBoosting')\n",
    "\n",
    "trace5 = go.Scatter(x=table_80_80_test.iloc[5].index.values[[0,5,6,7]],\n",
    "                    y=table_80_80_test.iloc[5].values[[0,5,6,7]],\n",
    "                    mode = 'lines+markers',marker=dict(symbol='x'),\n",
    "                    name = 'ExtraTree Classifier')\n",
    "\n",
    "trace6 = go.Scatter(x=table_80_80_test.iloc[6].index.values[[0,5,6,7]],\n",
    "                    y=table_80_80_test.iloc[6].values[[0,5,6,7]],\n",
    "                    mode = 'lines+markers',marker=dict(symbol='x'),\n",
    "                    name = 'Bagging')\n",
    "\n",
    "trace7 = go.Scatter(x=table_80_80_test.iloc[7].index.values[[0,5,6,7]],\n",
    "                    y=table_80_80_test.iloc[7].values[[0,5,6,7]],\n",
    "                    mode = 'lines+markers',marker=dict(symbol='x'),\n",
    "                    name = 'Neural Network')\n",
    "\n",
    "\n",
    "\n",
    "data = [trace0, trace1, trace2, trace3, trace4, trace5, trace6, trace7]\n",
    "layout = go.Layout(yaxis=dict(tick0=0,dtick=0.05),title='Result comparision for Features selected in Section 1')\n",
    "fig = go.Figure(data=data, layout=layout)\n",
    "\n",
    "iplot(fig, filename='Result')"
   ]
  },
  {
   "cell_type": "code",
   "execution_count": 27,
   "metadata": {},
   "outputs": [
    {
     "name": "stdout",
     "output_type": "stream",
     "text": [
      "Training Results\n"
     ]
    },
    {
     "data": {
      "text/html": [
       "<div>\n",
       "<style scoped>\n",
       "    .dataframe tbody tr th:only-of-type {\n",
       "        vertical-align: middle;\n",
       "    }\n",
       "\n",
       "    .dataframe tbody tr th {\n",
       "        vertical-align: top;\n",
       "    }\n",
       "\n",
       "    .dataframe thead th {\n",
       "        text-align: right;\n",
       "    }\n",
       "</style>\n",
       "<table border=\"1\" class=\"dataframe\">\n",
       "  <thead>\n",
       "    <tr style=\"text-align: right;\">\n",
       "      <th></th>\n",
       "      <th>accuracy</th>\n",
       "      <th>TP</th>\n",
       "      <th>TN</th>\n",
       "      <th>FP</th>\n",
       "      <th>FN</th>\n",
       "      <th>FPR</th>\n",
       "      <th>FNR</th>\n",
       "    </tr>\n",
       "    <tr>\n",
       "      <th>index</th>\n",
       "      <th></th>\n",
       "      <th></th>\n",
       "      <th></th>\n",
       "      <th></th>\n",
       "      <th></th>\n",
       "      <th></th>\n",
       "      <th></th>\n",
       "    </tr>\n",
       "  </thead>\n",
       "  <tbody>\n",
       "    <tr>\n",
       "      <th>KNeighborsClassifier</th>\n",
       "      <td>0.933279</td>\n",
       "      <td>23755.0</td>\n",
       "      <td>21677.0</td>\n",
       "      <td>2663.0</td>\n",
       "      <td>585.0</td>\n",
       "      <td>0.109408</td>\n",
       "      <td>0.024035</td>\n",
       "    </tr>\n",
       "    <tr>\n",
       "      <th>LogisticRegression</th>\n",
       "      <td>0.893283</td>\n",
       "      <td>23262.0</td>\n",
       "      <td>20223.0</td>\n",
       "      <td>4117.0</td>\n",
       "      <td>1078.0</td>\n",
       "      <td>0.169145</td>\n",
       "      <td>0.044289</td>\n",
       "    </tr>\n",
       "    <tr>\n",
       "      <th>RandomForestClassifier</th>\n",
       "      <td>0.952527</td>\n",
       "      <td>24064.0</td>\n",
       "      <td>22305.0</td>\n",
       "      <td>2035.0</td>\n",
       "      <td>276.0</td>\n",
       "      <td>0.083607</td>\n",
       "      <td>0.011339</td>\n",
       "    </tr>\n",
       "    <tr>\n",
       "      <th>AdaBoostClassifier</th>\n",
       "      <td>0.908012</td>\n",
       "      <td>23289.0</td>\n",
       "      <td>20913.0</td>\n",
       "      <td>3427.0</td>\n",
       "      <td>1051.0</td>\n",
       "      <td>0.140797</td>\n",
       "      <td>0.043180</td>\n",
       "    </tr>\n",
       "    <tr>\n",
       "      <th>GradientBoostingClassifier</th>\n",
       "      <td>0.923090</td>\n",
       "      <td>23579.0</td>\n",
       "      <td>21357.0</td>\n",
       "      <td>2983.0</td>\n",
       "      <td>761.0</td>\n",
       "      <td>0.122555</td>\n",
       "      <td>0.031265</td>\n",
       "    </tr>\n",
       "    <tr>\n",
       "      <th>ExtraTreeClassifier</th>\n",
       "      <td>0.953348</td>\n",
       "      <td>24100.0</td>\n",
       "      <td>22309.0</td>\n",
       "      <td>2031.0</td>\n",
       "      <td>240.0</td>\n",
       "      <td>0.083443</td>\n",
       "      <td>0.009860</td>\n",
       "    </tr>\n",
       "    <tr>\n",
       "      <th>BaggingClassifier</th>\n",
       "      <td>0.952486</td>\n",
       "      <td>24061.0</td>\n",
       "      <td>22306.0</td>\n",
       "      <td>2034.0</td>\n",
       "      <td>279.0</td>\n",
       "      <td>0.083566</td>\n",
       "      <td>0.011463</td>\n",
       "    </tr>\n",
       "    <tr>\n",
       "      <th>Neural Network-1</th>\n",
       "      <td>0.937839</td>\n",
       "      <td>23928.0</td>\n",
       "      <td>21726.0</td>\n",
       "      <td>2614.0</td>\n",
       "      <td>412.0</td>\n",
       "      <td>0.107395</td>\n",
       "      <td>0.016927</td>\n",
       "    </tr>\n",
       "  </tbody>\n",
       "</table>\n",
       "</div>"
      ],
      "text/plain": [
       "                            accuracy       TP       TN      FP      FN  \\\n",
       "index                                                                    \n",
       "KNeighborsClassifier        0.933279  23755.0  21677.0  2663.0   585.0   \n",
       "LogisticRegression          0.893283  23262.0  20223.0  4117.0  1078.0   \n",
       "RandomForestClassifier      0.952527  24064.0  22305.0  2035.0   276.0   \n",
       "AdaBoostClassifier          0.908012  23289.0  20913.0  3427.0  1051.0   \n",
       "GradientBoostingClassifier  0.923090  23579.0  21357.0  2983.0   761.0   \n",
       "ExtraTreeClassifier         0.953348  24100.0  22309.0  2031.0   240.0   \n",
       "BaggingClassifier           0.952486  24061.0  22306.0  2034.0   279.0   \n",
       "Neural Network-1            0.937839  23928.0  21726.0  2614.0   412.0   \n",
       "\n",
       "                                 FPR       FNR  \n",
       "index                                           \n",
       "KNeighborsClassifier        0.109408  0.024035  \n",
       "LogisticRegression          0.169145  0.044289  \n",
       "RandomForestClassifier      0.083607  0.011339  \n",
       "AdaBoostClassifier          0.140797  0.043180  \n",
       "GradientBoostingClassifier  0.122555  0.031265  \n",
       "ExtraTreeClassifier         0.083443  0.009860  \n",
       "BaggingClassifier           0.083566  0.011463  \n",
       "Neural Network-1            0.107395  0.016927  "
      ]
     },
     "metadata": {},
     "output_type": "display_data"
    },
    {
     "name": "stdout",
     "output_type": "stream",
     "text": [
      "Test Results\n"
     ]
    },
    {
     "data": {
      "text/html": [
       "<div>\n",
       "<style scoped>\n",
       "    .dataframe tbody tr th:only-of-type {\n",
       "        vertical-align: middle;\n",
       "    }\n",
       "\n",
       "    .dataframe tbody tr th {\n",
       "        vertical-align: top;\n",
       "    }\n",
       "\n",
       "    .dataframe thead th {\n",
       "        text-align: right;\n",
       "    }\n",
       "</style>\n",
       "<table border=\"1\" class=\"dataframe\">\n",
       "  <thead>\n",
       "    <tr style=\"text-align: right;\">\n",
       "      <th></th>\n",
       "      <th>accuracy</th>\n",
       "      <th>TP</th>\n",
       "      <th>TN</th>\n",
       "      <th>FP</th>\n",
       "      <th>FN</th>\n",
       "      <th>FPR</th>\n",
       "      <th>FNR</th>\n",
       "      <th>auc</th>\n",
       "      <th>mcc</th>\n",
       "    </tr>\n",
       "    <tr>\n",
       "      <th>index</th>\n",
       "      <th></th>\n",
       "      <th></th>\n",
       "      <th></th>\n",
       "      <th></th>\n",
       "      <th></th>\n",
       "      <th></th>\n",
       "      <th></th>\n",
       "      <th></th>\n",
       "      <th></th>\n",
       "    </tr>\n",
       "  </thead>\n",
       "  <tbody>\n",
       "    <tr>\n",
       "      <th>KNeighborsClassifier</th>\n",
       "      <td>0.880291</td>\n",
       "      <td>1627.0</td>\n",
       "      <td>9124.0</td>\n",
       "      <td>1314.0</td>\n",
       "      <td>148.0</td>\n",
       "      <td>0.125886</td>\n",
       "      <td>0.083380</td>\n",
       "      <td>0.895367</td>\n",
       "      <td>0.651784</td>\n",
       "    </tr>\n",
       "    <tr>\n",
       "      <th>LogisticRegression</th>\n",
       "      <td>0.850815</td>\n",
       "      <td>1683.0</td>\n",
       "      <td>8708.0</td>\n",
       "      <td>1730.0</td>\n",
       "      <td>92.0</td>\n",
       "      <td>0.165741</td>\n",
       "      <td>0.051831</td>\n",
       "      <td>0.891214</td>\n",
       "      <td>0.614530</td>\n",
       "    </tr>\n",
       "    <tr>\n",
       "      <th>RandomForestClassifier</th>\n",
       "      <td>0.910178</td>\n",
       "      <td>1610.0</td>\n",
       "      <td>9506.0</td>\n",
       "      <td>932.0</td>\n",
       "      <td>165.0</td>\n",
       "      <td>0.089289</td>\n",
       "      <td>0.092958</td>\n",
       "      <td>0.908877</td>\n",
       "      <td>0.709915</td>\n",
       "    </tr>\n",
       "    <tr>\n",
       "      <th>AdaBoostClassifier</th>\n",
       "      <td>0.872513</td>\n",
       "      <td>1654.0</td>\n",
       "      <td>9002.0</td>\n",
       "      <td>1436.0</td>\n",
       "      <td>121.0</td>\n",
       "      <td>0.137574</td>\n",
       "      <td>0.068169</td>\n",
       "      <td>0.897128</td>\n",
       "      <td>0.643903</td>\n",
       "    </tr>\n",
       "    <tr>\n",
       "      <th>GradientBoostingClassifier</th>\n",
       "      <td>0.885532</td>\n",
       "      <td>1638.0</td>\n",
       "      <td>9177.0</td>\n",
       "      <td>1261.0</td>\n",
       "      <td>137.0</td>\n",
       "      <td>0.120809</td>\n",
       "      <td>0.077183</td>\n",
       "      <td>0.901004</td>\n",
       "      <td>0.664346</td>\n",
       "    </tr>\n",
       "    <tr>\n",
       "      <th>ExtraTreeClassifier</th>\n",
       "      <td>0.909850</td>\n",
       "      <td>1610.0</td>\n",
       "      <td>9502.0</td>\n",
       "      <td>936.0</td>\n",
       "      <td>165.0</td>\n",
       "      <td>0.089672</td>\n",
       "      <td>0.092958</td>\n",
       "      <td>0.908685</td>\n",
       "      <td>0.709172</td>\n",
       "    </tr>\n",
       "    <tr>\n",
       "      <th>BaggingClassifier</th>\n",
       "      <td>0.908704</td>\n",
       "      <td>1615.0</td>\n",
       "      <td>9483.0</td>\n",
       "      <td>955.0</td>\n",
       "      <td>160.0</td>\n",
       "      <td>0.091493</td>\n",
       "      <td>0.090141</td>\n",
       "      <td>0.909183</td>\n",
       "      <td>0.707592</td>\n",
       "    </tr>\n",
       "    <tr>\n",
       "      <th>Neural Network-1</th>\n",
       "      <td>0.889626</td>\n",
       "      <td>1643.0</td>\n",
       "      <td>9222.0</td>\n",
       "      <td>1216.0</td>\n",
       "      <td>132.0</td>\n",
       "      <td>0.116497</td>\n",
       "      <td>0.074366</td>\n",
       "      <td>0.904568</td>\n",
       "      <td>0.673479</td>\n",
       "    </tr>\n",
       "  </tbody>\n",
       "</table>\n",
       "</div>"
      ],
      "text/plain": [
       "                            accuracy      TP      TN      FP     FN       FPR  \\\n",
       "index                                                                           \n",
       "KNeighborsClassifier        0.880291  1627.0  9124.0  1314.0  148.0  0.125886   \n",
       "LogisticRegression          0.850815  1683.0  8708.0  1730.0   92.0  0.165741   \n",
       "RandomForestClassifier      0.910178  1610.0  9506.0   932.0  165.0  0.089289   \n",
       "AdaBoostClassifier          0.872513  1654.0  9002.0  1436.0  121.0  0.137574   \n",
       "GradientBoostingClassifier  0.885532  1638.0  9177.0  1261.0  137.0  0.120809   \n",
       "ExtraTreeClassifier         0.909850  1610.0  9502.0   936.0  165.0  0.089672   \n",
       "BaggingClassifier           0.908704  1615.0  9483.0   955.0  160.0  0.091493   \n",
       "Neural Network-1            0.889626  1643.0  9222.0  1216.0  132.0  0.116497   \n",
       "\n",
       "                                 FNR       auc       mcc  \n",
       "index                                                     \n",
       "KNeighborsClassifier        0.083380  0.895367  0.651784  \n",
       "LogisticRegression          0.051831  0.891214  0.614530  \n",
       "RandomForestClassifier      0.092958  0.908877  0.709915  \n",
       "AdaBoostClassifier          0.068169  0.897128  0.643903  \n",
       "GradientBoostingClassifier  0.077183  0.901004  0.664346  \n",
       "ExtraTreeClassifier         0.092958  0.908685  0.709172  \n",
       "BaggingClassifier           0.090141  0.909183  0.707592  \n",
       "Neural Network-1            0.074366  0.904568  0.673479  "
      ]
     },
     "metadata": {},
     "output_type": "display_data"
    }
   ],
   "source": [
    "table_80_80_train['index']=ind_columns\n",
    "table_80_80_test['index']=ind_columns\n",
    "\n",
    "\n",
    "table_80_80_test.set_index(['index'],drop=True,inplace=True)\n",
    "table_80_80_train.set_index(['index'],drop=True,inplace=True)\n",
    "\n",
    "print(\"Training Results\")\n",
    "display(table_80_80_train)\n",
    "print(\"Test Results\")\n",
    "display(table_80_80_test)"
   ]
  },
  {
   "cell_type": "markdown",
   "metadata": {},
   "source": [
    "### <a id='2.B' style=\"text-decoration : none; color : #000000;\"> B. Average Feature Importances</a>"
   ]
  },
  {
   "cell_type": "code",
   "execution_count": 28,
   "metadata": {},
   "outputs": [
    {
     "data": {
      "application/vnd.plotly.v1+json": {
       "config": {
        "linkText": "Export to plot.ly",
        "plotlyServerURL": "https://plot.ly",
        "showLink": true
       },
       "data": [
        {
         "marker": {
          "color": "rgb(158,202,225)",
          "line": {
           "color": "rgb(8,48,107)",
           "width": 1.5
          }
         },
         "opacity": 0.6,
         "orientation": "h",
         "text": [
          0.1762,
          0.0884,
          0.0716,
          0.0684,
          0.0541,
          0.0532,
          0.04,
          0.0399,
          0.0334,
          0.0321,
          0.0293,
          0.0282,
          0.0263,
          0.0261,
          0.0244,
          0.0223,
          0.0174,
          0.0166,
          0.0163,
          0.016,
          0.0146,
          0.0131,
          0.0115,
          0.0112,
          0.0096,
          0.0092,
          0.0091,
          0.0086,
          0.007,
          0.0069,
          0.0056,
          0.0045,
          0.0045,
          0.0042
         ],
         "textposition": "outside",
         "type": "bar",
         "uid": "0d498cd7-8c4e-4d89-94ad-16c2a6ca6439",
         "x": [
          0.1761654226939192,
          0.08840673677756526,
          0.07159139880606336,
          0.06840162242944123,
          0.054066303068145166,
          0.05323224240273756,
          0.04003878381281503,
          0.03988440236617414,
          0.033384592478169536,
          0.0320913658433688,
          0.029309270846911404,
          0.02815391387598712,
          0.02634381063270659,
          0.026148905904329372,
          0.024396690554259772,
          0.02228035358442252,
          0.017414622655707764,
          0.016625890732696862,
          0.01633909410529243,
          0.015959335037013567,
          0.014558078581104066,
          0.013133692400035701,
          0.011548039100297742,
          0.011186263098961896,
          0.009644283643958957,
          0.00921769431289687,
          0.009114064054369448,
          0.008601090248053382,
          0.007016264541202463,
          0.006876536150345616,
          0.005598085498599218,
          0.004545731244786226,
          0.004475944779926735,
          0.004249473737735071
         ],
         "y": [
          "div_count",
          "link_href_out_of_domain",
          "script_async_true",
          "meta_count",
          "script_src_out_of_domain",
          "script_src_.js",
          "a_href_https",
          "title_count",
          "img_src_.jpg",
          "br_count",
          "push",
          "a_href_http",
          "li_count",
          "link_type_text/css",
          "a_href_.com",
          "p_count",
          "link_href_.css",
          "strong_count",
          "center_count",
          "section_count",
          "span_count",
          "link_href_http",
          "form_action_http",
          "img_src_out_of_domain",
          "escape",
          "link_rel_shortlink",
          "link_type_application/rsd+xml",
          "window.addEventListener",
          "get",
          "find",
          "indexOf",
          "link_rel_https://api.w.org/",
          "document.getElementById",
          "replace"
         ]
        }
       ],
       "layout": {
        "autosize": false,
        "height": 1000,
        "width": 1000,
        "xaxis": {
         "tickfont": {
          "color": "black",
          "size": 12
         },
         "title": "Feature Importances"
        },
        "yaxis": {
         "automargin": true
        }
       }
      },
      "text/html": [
       "<div id=\"75336164-cc38-4324-8d4d-67c4adb232fc\" style=\"height: 1000px; width: 1000px;\" class=\"plotly-graph-div\"></div><script type=\"text/javascript\">require([\"plotly\"], function(Plotly) { window.PLOTLYENV=window.PLOTLYENV || {};window.PLOTLYENV.BASE_URL=\"https://plot.ly\";Plotly.newPlot(\"75336164-cc38-4324-8d4d-67c4adb232fc\", [{\"marker\": {\"color\": \"rgb(158,202,225)\", \"line\": {\"color\": \"rgb(8,48,107)\", \"width\": 1.5}}, \"opacity\": 0.6, \"orientation\": \"h\", \"text\": [0.1762, 0.0884, 0.0716, 0.0684, 0.0541, 0.0532, 0.04, 0.0399, 0.0334, 0.0321, 0.0293, 0.0282, 0.0263, 0.0261, 0.0244, 0.0223, 0.0174, 0.0166, 0.0163, 0.016, 0.0146, 0.0131, 0.0115, 0.0112, 0.0096, 0.0092, 0.0091, 0.0086, 0.007, 0.0069, 0.0056, 0.0045, 0.0045, 0.0042], \"textposition\": \"outside\", \"x\": [0.1761654226939192, 0.08840673677756526, 0.07159139880606336, 0.06840162242944123, 0.054066303068145166, 0.05323224240273756, 0.04003878381281503, 0.03988440236617414, 0.033384592478169536, 0.0320913658433688, 0.029309270846911404, 0.02815391387598712, 0.02634381063270659, 0.026148905904329372, 0.024396690554259772, 0.02228035358442252, 0.017414622655707764, 0.016625890732696862, 0.01633909410529243, 0.015959335037013567, 0.014558078581104066, 0.013133692400035701, 0.011548039100297742, 0.011186263098961896, 0.009644283643958957, 0.00921769431289687, 0.009114064054369448, 0.008601090248053382, 0.007016264541202463, 0.006876536150345616, 0.005598085498599218, 0.004545731244786226, 0.004475944779926735, 0.004249473737735071], \"y\": [\"div_count\", \"link_href_out_of_domain\", \"script_async_true\", \"meta_count\", \"script_src_out_of_domain\", \"script_src_.js\", \"a_href_https\", \"title_count\", \"img_src_.jpg\", \"br_count\", \"push\", \"a_href_http\", \"li_count\", \"link_type_text/css\", \"a_href_.com\", \"p_count\", \"link_href_.css\", \"strong_count\", \"center_count\", \"section_count\", \"span_count\", \"link_href_http\", \"form_action_http\", \"img_src_out_of_domain\", \"escape\", \"link_rel_shortlink\", \"link_type_application/rsd+xml\", \"window.addEventListener\", \"get\", \"find\", \"indexOf\", \"link_rel_https://api.w.org/\", \"document.getElementById\", \"replace\"], \"type\": \"bar\", \"uid\": \"0d498cd7-8c4e-4d89-94ad-16c2a6ca6439\"}], {\"autosize\": false, \"height\": 1000, \"width\": 1000, \"xaxis\": {\"tickfont\": {\"color\": \"black\", \"size\": 12}, \"title\": \"Feature Importances\"}, \"yaxis\": {\"automargin\": true}}, {\"showLink\": true, \"linkText\": \"Export to plot.ly\", \"plotlyServerURL\": \"https://plot.ly\"})});</script>"
      ],
      "text/vnd.plotly.v1+html": [
       "<div id=\"75336164-cc38-4324-8d4d-67c4adb232fc\" style=\"height: 1000px; width: 1000px;\" class=\"plotly-graph-div\"></div><script type=\"text/javascript\">require([\"plotly\"], function(Plotly) { window.PLOTLYENV=window.PLOTLYENV || {};window.PLOTLYENV.BASE_URL=\"https://plot.ly\";Plotly.newPlot(\"75336164-cc38-4324-8d4d-67c4adb232fc\", [{\"marker\": {\"color\": \"rgb(158,202,225)\", \"line\": {\"color\": \"rgb(8,48,107)\", \"width\": 1.5}}, \"opacity\": 0.6, \"orientation\": \"h\", \"text\": [0.1762, 0.0884, 0.0716, 0.0684, 0.0541, 0.0532, 0.04, 0.0399, 0.0334, 0.0321, 0.0293, 0.0282, 0.0263, 0.0261, 0.0244, 0.0223, 0.0174, 0.0166, 0.0163, 0.016, 0.0146, 0.0131, 0.0115, 0.0112, 0.0096, 0.0092, 0.0091, 0.0086, 0.007, 0.0069, 0.0056, 0.0045, 0.0045, 0.0042], \"textposition\": \"outside\", \"x\": [0.1761654226939192, 0.08840673677756526, 0.07159139880606336, 0.06840162242944123, 0.054066303068145166, 0.05323224240273756, 0.04003878381281503, 0.03988440236617414, 0.033384592478169536, 0.0320913658433688, 0.029309270846911404, 0.02815391387598712, 0.02634381063270659, 0.026148905904329372, 0.024396690554259772, 0.02228035358442252, 0.017414622655707764, 0.016625890732696862, 0.01633909410529243, 0.015959335037013567, 0.014558078581104066, 0.013133692400035701, 0.011548039100297742, 0.011186263098961896, 0.009644283643958957, 0.00921769431289687, 0.009114064054369448, 0.008601090248053382, 0.007016264541202463, 0.006876536150345616, 0.005598085498599218, 0.004545731244786226, 0.004475944779926735, 0.004249473737735071], \"y\": [\"div_count\", \"link_href_out_of_domain\", \"script_async_true\", \"meta_count\", \"script_src_out_of_domain\", \"script_src_.js\", \"a_href_https\", \"title_count\", \"img_src_.jpg\", \"br_count\", \"push\", \"a_href_http\", \"li_count\", \"link_type_text/css\", \"a_href_.com\", \"p_count\", \"link_href_.css\", \"strong_count\", \"center_count\", \"section_count\", \"span_count\", \"link_href_http\", \"form_action_http\", \"img_src_out_of_domain\", \"escape\", \"link_rel_shortlink\", \"link_type_application/rsd+xml\", \"window.addEventListener\", \"get\", \"find\", \"indexOf\", \"link_rel_https://api.w.org/\", \"document.getElementById\", \"replace\"], \"type\": \"bar\", \"uid\": \"0d498cd7-8c4e-4d89-94ad-16c2a6ca6439\"}], {\"autosize\": false, \"height\": 1000, \"width\": 1000, \"xaxis\": {\"tickfont\": {\"color\": \"black\", \"size\": 12}, \"title\": \"Feature Importances\"}, \"yaxis\": {\"automargin\": true}}, {\"showLink\": true, \"linkText\": \"Export to plot.ly\", \"plotlyServerURL\": \"https://plot.ly\"})});</script>"
      ]
     },
     "metadata": {},
     "output_type": "display_data"
    }
   ],
   "source": [
    "feat_impt_plot(np.average(feat_imp,axis=0),columns)"
   ]
  },
  {
   "cell_type": "markdown",
   "metadata": {},
   "source": [
    "### <a id='3' style=\"text-decoration : none; color : #000000;\"> 3. Undersampling</a>"
   ]
  },
  {
   "cell_type": "code",
   "execution_count": 29,
   "metadata": {
    "scrolled": false
   },
   "outputs": [
    {
     "name": "stdout",
     "output_type": "stream",
     "text": [
      "Shape after undersampling (8312, 34)\n",
      "\u001b[1mK-Nearest Neighbors\u001b[0m\n",
      "Accuracy of the model for training data is: 0.5738691049085659\n",
      "Confusion Matrix for training data is:\n"
     ]
    },
    {
     "data": {
      "text/plain": [
       "Predicted  False  True  __all__\n",
       "Actual                         \n",
       "False       4018   138     4156\n",
       "True        3404   752     4156\n",
       "__all__     7422   890     8312"
      ]
     },
     "metadata": {},
     "output_type": "display_data"
    },
    {
     "name": "stdout",
     "output_type": "stream",
     "text": [
      "Accuracy of the model for test data is: 0.8327192336035372\n",
      "Confusion Matrix for test data is:\n"
     ]
    },
    {
     "data": {
      "text/plain": [
       "Predicted  False  True  __all__\n",
       "Actual                         \n",
       "False       9882   556    10438\n",
       "True        1487   288     1775\n",
       "__all__    11369   844    12213"
      ]
     },
     "metadata": {},
     "output_type": "display_data"
    },
    {
     "name": "stdout",
     "output_type": "stream",
     "text": [
      "\n",
      "\n",
      "\u001b[1mLogistic Regression\u001b[0m\n",
      "Accuracy of the model for training data is: 0.8845043310875842\n",
      "Confusion Matrix for training data is:\n"
     ]
    },
    {
     "data": {
      "text/plain": [
       "Predicted  False  True  __all__\n",
       "Actual                         \n",
       "False       3372   784     4156\n",
       "True         176  3980     4156\n",
       "__all__     3548  4764     8312"
      ]
     },
     "metadata": {},
     "output_type": "display_data"
    },
    {
     "name": "stdout",
     "output_type": "stream",
     "text": [
      "Accuracy of the model for test data is: 0.8357487922705314\n",
      "Confusion Matrix for test data is:\n"
     ]
    },
    {
     "data": {
      "text/plain": [
       "Predicted  False  True  __all__\n",
       "Actual                         \n",
       "False       8508  1930    10438\n",
       "True          76  1699     1775\n",
       "__all__     8584  3629    12213"
      ]
     },
     "metadata": {},
     "output_type": "display_data"
    },
    {
     "name": "stdout",
     "output_type": "stream",
     "text": [
      "\n",
      "\n",
      "\u001b[1mRandomForest Classifier\u001b[0m\n",
      "Accuracy of the model for training data is: 0.9493503368623677\n",
      "Confusion Matrix for training data is:\n"
     ]
    },
    {
     "data": {
      "text/plain": [
       "Predicted  False  True  __all__\n",
       "Actual                         \n",
       "False       3819   337     4156\n",
       "True          84  4072     4156\n",
       "__all__     3903  4409     8312"
      ]
     },
     "metadata": {},
     "output_type": "display_data"
    },
    {
     "name": "stdout",
     "output_type": "stream",
     "text": [
      "Accuracy of the model for test data is: 0.8978138049619259\n",
      "Confusion Matrix for test data is:\n"
     ]
    },
    {
     "data": {
      "text/plain": [
       "Predicted  False  True  __all__\n",
       "Actual                         \n",
       "False       9332  1106    10438\n",
       "True         142  1633     1775\n",
       "__all__     9474  2739    12213"
      ]
     },
     "metadata": {},
     "output_type": "display_data"
    },
    {
     "data": {
      "application/vnd.plotly.v1+json": {
       "config": {
        "linkText": "Export to plot.ly",
        "plotlyServerURL": "https://plot.ly",
        "showLink": true
       },
       "data": [
        {
         "marker": {
          "color": "rgb(158,202,225)",
          "line": {
           "color": "rgb(8,48,107)",
           "width": 1.5
          }
         },
         "opacity": 0.6,
         "orientation": "h",
         "text": [
          0.1478,
          0.1336,
          0.0892,
          0.0883,
          0.0803,
          0.0704,
          0.0602,
          0.0539,
          0.0502,
          0.0264,
          0.0209,
          0.0187,
          0.0178,
          0.0161,
          0.0157,
          0.0138,
          0.0102,
          0.009,
          0.0088,
          0.0082,
          0.0082,
          0.0081,
          0.0076,
          0.0062,
          0.0058,
          0.0047,
          0.0043,
          0.0029,
          0.0023,
          0.0023,
          0.0022,
          0.0022,
          0.002,
          0.0016
         ],
         "textposition": "outside",
         "type": "bar",
         "uid": "5184f534-228b-4c90-8b86-4e7e0c86b77a",
         "x": [
          0.14776989458491666,
          0.13359126563208915,
          0.08920009351074731,
          0.08831388882309052,
          0.08033727102733898,
          0.07044647874785218,
          0.060240395399847456,
          0.05392475393467163,
          0.050216104734756815,
          0.02637931213070126,
          0.02090487778912677,
          0.01865888320992735,
          0.017774078301422802,
          0.016059765753955926,
          0.015679191715766084,
          0.013773349671352075,
          0.010159209369154033,
          0.009037338158666369,
          0.008833434235396126,
          0.008247269499909088,
          0.00818330165661759,
          0.008094876537263629,
          0.0076477434170142845,
          0.006234298169116718,
          0.0058184036877348844,
          0.004664516112972191,
          0.004258740316606644,
          0.0028982750795211233,
          0.002291449940046361,
          0.0022792106251424303,
          0.0022495011221621945,
          0.002219337629001934,
          0.0019796376938763663,
          0.0016338517822350768
         ],
         "y": [
          "div_count",
          "script_src_.js",
          "meta_count",
          "script_async_true",
          "a_href_https",
          "script_src_out_of_domain",
          "link_href_out_of_domain",
          "title_count",
          "br_count",
          "push",
          "li_count",
          "a_href_http",
          "p_count",
          "section_count",
          "img_src_out_of_domain",
          "span_count",
          "link_type_text/css",
          "img_src_.jpg",
          "document.getElementById",
          "link_href_.css",
          "link_href_http",
          "center_count",
          "strong_count",
          "form_action_http",
          "indexOf",
          "replace",
          "link_type_application/rsd+xml",
          "escape",
          "a_href_.com",
          "find",
          "get",
          "link_rel_shortlink",
          "link_rel_https://api.w.org/",
          "window.addEventListener"
         ]
        }
       ],
       "layout": {
        "autosize": false,
        "height": 1000,
        "width": 1000,
        "xaxis": {
         "tickfont": {
          "color": "black",
          "size": 12
         },
         "title": "Feature Importances"
        },
        "yaxis": {
         "automargin": true
        }
       }
      },
      "text/html": [
       "<div id=\"a20dde2c-55ee-49d4-bfab-26d4a48667bd\" style=\"height: 1000px; width: 1000px;\" class=\"plotly-graph-div\"></div><script type=\"text/javascript\">require([\"plotly\"], function(Plotly) { window.PLOTLYENV=window.PLOTLYENV || {};window.PLOTLYENV.BASE_URL=\"https://plot.ly\";Plotly.newPlot(\"a20dde2c-55ee-49d4-bfab-26d4a48667bd\", [{\"marker\": {\"color\": \"rgb(158,202,225)\", \"line\": {\"color\": \"rgb(8,48,107)\", \"width\": 1.5}}, \"opacity\": 0.6, \"orientation\": \"h\", \"text\": [0.1478, 0.1336, 0.0892, 0.0883, 0.0803, 0.0704, 0.0602, 0.0539, 0.0502, 0.0264, 0.0209, 0.0187, 0.0178, 0.0161, 0.0157, 0.0138, 0.0102, 0.009, 0.0088, 0.0082, 0.0082, 0.0081, 0.0076, 0.0062, 0.0058, 0.0047, 0.0043, 0.0029, 0.0023, 0.0023, 0.0022, 0.0022, 0.002, 0.0016], \"textposition\": \"outside\", \"x\": [0.14776989458491666, 0.13359126563208915, 0.08920009351074731, 0.08831388882309052, 0.08033727102733898, 0.07044647874785218, 0.060240395399847456, 0.05392475393467163, 0.050216104734756815, 0.02637931213070126, 0.02090487778912677, 0.01865888320992735, 0.017774078301422802, 0.016059765753955926, 0.015679191715766084, 0.013773349671352075, 0.010159209369154033, 0.009037338158666369, 0.008833434235396126, 0.008247269499909088, 0.00818330165661759, 0.008094876537263629, 0.0076477434170142845, 0.006234298169116718, 0.0058184036877348844, 0.004664516112972191, 0.004258740316606644, 0.0028982750795211233, 0.002291449940046361, 0.0022792106251424303, 0.0022495011221621945, 0.002219337629001934, 0.0019796376938763663, 0.0016338517822350768], \"y\": [\"div_count\", \"script_src_.js\", \"meta_count\", \"script_async_true\", \"a_href_https\", \"script_src_out_of_domain\", \"link_href_out_of_domain\", \"title_count\", \"br_count\", \"push\", \"li_count\", \"a_href_http\", \"p_count\", \"section_count\", \"img_src_out_of_domain\", \"span_count\", \"link_type_text/css\", \"img_src_.jpg\", \"document.getElementById\", \"link_href_.css\", \"link_href_http\", \"center_count\", \"strong_count\", \"form_action_http\", \"indexOf\", \"replace\", \"link_type_application/rsd+xml\", \"escape\", \"a_href_.com\", \"find\", \"get\", \"link_rel_shortlink\", \"link_rel_https://api.w.org/\", \"window.addEventListener\"], \"type\": \"bar\", \"uid\": \"5184f534-228b-4c90-8b86-4e7e0c86b77a\"}], {\"autosize\": false, \"height\": 1000, \"width\": 1000, \"xaxis\": {\"tickfont\": {\"color\": \"black\", \"size\": 12}, \"title\": \"Feature Importances\"}, \"yaxis\": {\"automargin\": true}}, {\"showLink\": true, \"linkText\": \"Export to plot.ly\", \"plotlyServerURL\": \"https://plot.ly\"})});</script>"
      ],
      "text/vnd.plotly.v1+html": [
       "<div id=\"a20dde2c-55ee-49d4-bfab-26d4a48667bd\" style=\"height: 1000px; width: 1000px;\" class=\"plotly-graph-div\"></div><script type=\"text/javascript\">require([\"plotly\"], function(Plotly) { window.PLOTLYENV=window.PLOTLYENV || {};window.PLOTLYENV.BASE_URL=\"https://plot.ly\";Plotly.newPlot(\"a20dde2c-55ee-49d4-bfab-26d4a48667bd\", [{\"marker\": {\"color\": \"rgb(158,202,225)\", \"line\": {\"color\": \"rgb(8,48,107)\", \"width\": 1.5}}, \"opacity\": 0.6, \"orientation\": \"h\", \"text\": [0.1478, 0.1336, 0.0892, 0.0883, 0.0803, 0.0704, 0.0602, 0.0539, 0.0502, 0.0264, 0.0209, 0.0187, 0.0178, 0.0161, 0.0157, 0.0138, 0.0102, 0.009, 0.0088, 0.0082, 0.0082, 0.0081, 0.0076, 0.0062, 0.0058, 0.0047, 0.0043, 0.0029, 0.0023, 0.0023, 0.0022, 0.0022, 0.002, 0.0016], \"textposition\": \"outside\", \"x\": [0.14776989458491666, 0.13359126563208915, 0.08920009351074731, 0.08831388882309052, 0.08033727102733898, 0.07044647874785218, 0.060240395399847456, 0.05392475393467163, 0.050216104734756815, 0.02637931213070126, 0.02090487778912677, 0.01865888320992735, 0.017774078301422802, 0.016059765753955926, 0.015679191715766084, 0.013773349671352075, 0.010159209369154033, 0.009037338158666369, 0.008833434235396126, 0.008247269499909088, 0.00818330165661759, 0.008094876537263629, 0.0076477434170142845, 0.006234298169116718, 0.0058184036877348844, 0.004664516112972191, 0.004258740316606644, 0.0028982750795211233, 0.002291449940046361, 0.0022792106251424303, 0.0022495011221621945, 0.002219337629001934, 0.0019796376938763663, 0.0016338517822350768], \"y\": [\"div_count\", \"script_src_.js\", \"meta_count\", \"script_async_true\", \"a_href_https\", \"script_src_out_of_domain\", \"link_href_out_of_domain\", \"title_count\", \"br_count\", \"push\", \"li_count\", \"a_href_http\", \"p_count\", \"section_count\", \"img_src_out_of_domain\", \"span_count\", \"link_type_text/css\", \"img_src_.jpg\", \"document.getElementById\", \"link_href_.css\", \"link_href_http\", \"center_count\", \"strong_count\", \"form_action_http\", \"indexOf\", \"replace\", \"link_type_application/rsd+xml\", \"escape\", \"a_href_.com\", \"find\", \"get\", \"link_rel_shortlink\", \"link_rel_https://api.w.org/\", \"window.addEventListener\"], \"type\": \"bar\", \"uid\": \"5184f534-228b-4c90-8b86-4e7e0c86b77a\"}], {\"autosize\": false, \"height\": 1000, \"width\": 1000, \"xaxis\": {\"tickfont\": {\"color\": \"black\", \"size\": 12}, \"title\": \"Feature Importances\"}, \"yaxis\": {\"automargin\": true}}, {\"showLink\": true, \"linkText\": \"Export to plot.ly\", \"plotlyServerURL\": \"https://plot.ly\"})});</script>"
      ]
     },
     "metadata": {},
     "output_type": "display_data"
    },
    {
     "name": "stdout",
     "output_type": "stream",
     "text": [
      "\n",
      "\n",
      "\u001b[1mAdaoost Classifier\u001b[0m\n",
      "Accuracy of the model for training data is: 0.8948508180943214\n",
      "Confusion Matrix for training data is:\n"
     ]
    },
    {
     "data": {
      "text/plain": [
       "Predicted  False  True  __all__\n",
       "Actual                         \n",
       "False       3512   644     4156\n",
       "True         230  3926     4156\n",
       "__all__     3742  4570     8312"
      ]
     },
     "metadata": {},
     "output_type": "display_data"
    },
    {
     "name": "stdout",
     "output_type": "stream",
     "text": [
      "Accuracy of the model for test data is: 0.8614591009579956\n",
      "Confusion Matrix for test data is:\n"
     ]
    },
    {
     "data": {
      "text/plain": [
       "Predicted  False  True  __all__\n",
       "Actual                         \n",
       "False       8842  1596    10438\n",
       "True          96  1679     1775\n",
       "__all__     8938  3275    12213"
      ]
     },
     "metadata": {},
     "output_type": "display_data"
    },
    {
     "data": {
      "application/vnd.plotly.v1+json": {
       "config": {
        "linkText": "Export to plot.ly",
        "plotlyServerURL": "https://plot.ly",
        "showLink": true
       },
       "data": [
        {
         "marker": {
          "color": "rgb(158,202,225)",
          "line": {
           "color": "rgb(8,48,107)",
           "width": 1.5
          }
         },
         "opacity": 0.6,
         "orientation": "h",
         "text": [
          0.14,
          0.08,
          0.06,
          0.06,
          0.06,
          0.04,
          0.04,
          0.04,
          0.04,
          0.04,
          0.04,
          0.04,
          0.04,
          0.04,
          0.02,
          0.02,
          0.02,
          0.02,
          0.02,
          0.02,
          0.02,
          0.02,
          0.02,
          0.02,
          0.02,
          0.02,
          0,
          0,
          0,
          0,
          0,
          0,
          0,
          0
         ],
         "textposition": "outside",
         "type": "bar",
         "uid": "81cea64e-80f5-45a9-8877-38bf9f45620b",
         "x": [
          0.14,
          0.08,
          0.06,
          0.06,
          0.06,
          0.04,
          0.04,
          0.04,
          0.04,
          0.04,
          0.04,
          0.04,
          0.04,
          0.04,
          0.02,
          0.02,
          0.02,
          0.02,
          0.02,
          0.02,
          0.02,
          0.02,
          0.02,
          0.02,
          0.02,
          0.02,
          0,
          0,
          0,
          0,
          0,
          0,
          0,
          0
         ],
         "y": [
          "div_count",
          "a_href_https",
          "img_src_out_of_domain",
          "img_src_.jpg",
          "link_type_text/css",
          "a_href_http",
          "link_href_http",
          "link_href_out_of_domain",
          "br_count",
          "title_count",
          "section_count",
          "span_count",
          "p_count",
          "script_src_out_of_domain",
          "link_rel_shortlink",
          "link_type_application/rsd+xml",
          "meta_count",
          "form_action_http",
          "window.addEventListener",
          "center_count",
          "a_href_.com",
          "escape",
          "replace",
          "push",
          "indexOf",
          "script_async_true",
          "script_src_.js",
          "strong_count",
          "document.getElementById",
          "link_rel_https://api.w.org/",
          "link_href_.css",
          "get",
          "find",
          "li_count"
         ]
        }
       ],
       "layout": {
        "autosize": false,
        "height": 1000,
        "width": 1000,
        "xaxis": {
         "tickfont": {
          "color": "black",
          "size": 12
         },
         "title": "Feature Importances"
        },
        "yaxis": {
         "automargin": true
        }
       }
      },
      "text/html": [
       "<div id=\"9000c0b7-d743-4891-a729-857167e891ae\" style=\"height: 1000px; width: 1000px;\" class=\"plotly-graph-div\"></div><script type=\"text/javascript\">require([\"plotly\"], function(Plotly) { window.PLOTLYENV=window.PLOTLYENV || {};window.PLOTLYENV.BASE_URL=\"https://plot.ly\";Plotly.newPlot(\"9000c0b7-d743-4891-a729-857167e891ae\", [{\"marker\": {\"color\": \"rgb(158,202,225)\", \"line\": {\"color\": \"rgb(8,48,107)\", \"width\": 1.5}}, \"opacity\": 0.6, \"orientation\": \"h\", \"text\": [0.14, 0.08, 0.06, 0.06, 0.06, 0.04, 0.04, 0.04, 0.04, 0.04, 0.04, 0.04, 0.04, 0.04, 0.02, 0.02, 0.02, 0.02, 0.02, 0.02, 0.02, 0.02, 0.02, 0.02, 0.02, 0.02, 0.0, 0.0, 0.0, 0.0, 0.0, 0.0, 0.0, 0.0], \"textposition\": \"outside\", \"x\": [0.14, 0.08, 0.06, 0.06, 0.06, 0.04, 0.04, 0.04, 0.04, 0.04, 0.04, 0.04, 0.04, 0.04, 0.02, 0.02, 0.02, 0.02, 0.02, 0.02, 0.02, 0.02, 0.02, 0.02, 0.02, 0.02, 0.0, 0.0, 0.0, 0.0, 0.0, 0.0, 0.0, 0.0], \"y\": [\"div_count\", \"a_href_https\", \"img_src_out_of_domain\", \"img_src_.jpg\", \"link_type_text/css\", \"a_href_http\", \"link_href_http\", \"link_href_out_of_domain\", \"br_count\", \"title_count\", \"section_count\", \"span_count\", \"p_count\", \"script_src_out_of_domain\", \"link_rel_shortlink\", \"link_type_application/rsd+xml\", \"meta_count\", \"form_action_http\", \"window.addEventListener\", \"center_count\", \"a_href_.com\", \"escape\", \"replace\", \"push\", \"indexOf\", \"script_async_true\", \"script_src_.js\", \"strong_count\", \"document.getElementById\", \"link_rel_https://api.w.org/\", \"link_href_.css\", \"get\", \"find\", \"li_count\"], \"type\": \"bar\", \"uid\": \"81cea64e-80f5-45a9-8877-38bf9f45620b\"}], {\"autosize\": false, \"height\": 1000, \"width\": 1000, \"xaxis\": {\"tickfont\": {\"color\": \"black\", \"size\": 12}, \"title\": \"Feature Importances\"}, \"yaxis\": {\"automargin\": true}}, {\"showLink\": true, \"linkText\": \"Export to plot.ly\", \"plotlyServerURL\": \"https://plot.ly\"})});</script>"
      ],
      "text/vnd.plotly.v1+html": [
       "<div id=\"9000c0b7-d743-4891-a729-857167e891ae\" style=\"height: 1000px; width: 1000px;\" class=\"plotly-graph-div\"></div><script type=\"text/javascript\">require([\"plotly\"], function(Plotly) { window.PLOTLYENV=window.PLOTLYENV || {};window.PLOTLYENV.BASE_URL=\"https://plot.ly\";Plotly.newPlot(\"9000c0b7-d743-4891-a729-857167e891ae\", [{\"marker\": {\"color\": \"rgb(158,202,225)\", \"line\": {\"color\": \"rgb(8,48,107)\", \"width\": 1.5}}, \"opacity\": 0.6, \"orientation\": \"h\", \"text\": [0.14, 0.08, 0.06, 0.06, 0.06, 0.04, 0.04, 0.04, 0.04, 0.04, 0.04, 0.04, 0.04, 0.04, 0.02, 0.02, 0.02, 0.02, 0.02, 0.02, 0.02, 0.02, 0.02, 0.02, 0.02, 0.02, 0.0, 0.0, 0.0, 0.0, 0.0, 0.0, 0.0, 0.0], \"textposition\": \"outside\", \"x\": [0.14, 0.08, 0.06, 0.06, 0.06, 0.04, 0.04, 0.04, 0.04, 0.04, 0.04, 0.04, 0.04, 0.04, 0.02, 0.02, 0.02, 0.02, 0.02, 0.02, 0.02, 0.02, 0.02, 0.02, 0.02, 0.02, 0.0, 0.0, 0.0, 0.0, 0.0, 0.0, 0.0, 0.0], \"y\": [\"div_count\", \"a_href_https\", \"img_src_out_of_domain\", \"img_src_.jpg\", \"link_type_text/css\", \"a_href_http\", \"link_href_http\", \"link_href_out_of_domain\", \"br_count\", \"title_count\", \"section_count\", \"span_count\", \"p_count\", \"script_src_out_of_domain\", \"link_rel_shortlink\", \"link_type_application/rsd+xml\", \"meta_count\", \"form_action_http\", \"window.addEventListener\", \"center_count\", \"a_href_.com\", \"escape\", \"replace\", \"push\", \"indexOf\", \"script_async_true\", \"script_src_.js\", \"strong_count\", \"document.getElementById\", \"link_rel_https://api.w.org/\", \"link_href_.css\", \"get\", \"find\", \"li_count\"], \"type\": \"bar\", \"uid\": \"81cea64e-80f5-45a9-8877-38bf9f45620b\"}], {\"autosize\": false, \"height\": 1000, \"width\": 1000, \"xaxis\": {\"tickfont\": {\"color\": \"black\", \"size\": 12}, \"title\": \"Feature Importances\"}, \"yaxis\": {\"automargin\": true}}, {\"showLink\": true, \"linkText\": \"Export to plot.ly\", \"plotlyServerURL\": \"https://plot.ly\"})});</script>"
      ]
     },
     "metadata": {},
     "output_type": "display_data"
    },
    {
     "name": "stdout",
     "output_type": "stream",
     "text": [
      "\n",
      "\n",
      "\u001b[1mGradientBoosting Classifier\u001b[0m\n",
      "Accuracy of the model for training data is: 0.9130173243503369\n",
      "Confusion Matrix for training data is:\n"
     ]
    },
    {
     "data": {
      "text/plain": [
       "Predicted  False  True  __all__\n",
       "Actual                         \n",
       "False       3627   529     4156\n",
       "True         194  3962     4156\n",
       "__all__     3821  4491     8312"
      ]
     },
     "metadata": {},
     "output_type": "display_data"
    },
    {
     "name": "stdout",
     "output_type": "stream",
     "text": [
      "Accuracy of the model for test data is: 0.8766887742569394\n",
      "Confusion Matrix for test data is:\n"
     ]
    },
    {
     "data": {
      "text/plain": [
       "Predicted  False  True  __all__\n",
       "Actual                         \n",
       "False       9042  1396    10438\n",
       "True         110  1665     1775\n",
       "__all__     9152  3061    12213"
      ]
     },
     "metadata": {},
     "output_type": "display_data"
    },
    {
     "data": {
      "application/vnd.plotly.v1+json": {
       "config": {
        "linkText": "Export to plot.ly",
        "plotlyServerURL": "https://plot.ly",
        "showLink": true
       },
       "data": [
        {
         "marker": {
          "color": "rgb(158,202,225)",
          "line": {
           "color": "rgb(8,48,107)",
           "width": 1.5
          }
         },
         "opacity": 0.6,
         "orientation": "h",
         "text": [
          0.4116,
          0.2,
          0.1356,
          0.0447,
          0.0375,
          0.0358,
          0.0312,
          0.0121,
          0.0115,
          0.0107,
          0.0085,
          0.0075,
          0.0061,
          0.0055,
          0.0051,
          0.0046,
          0.004,
          0.0039,
          0.0029,
          0.0028,
          0.0028,
          0.0022,
          0.0022,
          0.0021,
          0.0019,
          0.0018,
          0.0016,
          0.0007,
          0.0006,
          0.0006,
          0.0005,
          0.0005,
          0.0004,
          0.0004
         ],
         "textposition": "outside",
         "type": "bar",
         "uid": "a61bf69a-6ed5-4fb0-86ae-1197dd91c202",
         "x": [
          0.4115711520899109,
          0.19997200707804252,
          0.135636337999548,
          0.04471675622890559,
          0.03746627876156686,
          0.03583062413963177,
          0.031155305061307148,
          0.012077290594879225,
          0.011533153836665673,
          0.010658467857264552,
          0.00851034460876065,
          0.007538484295585915,
          0.00605836029010733,
          0.005524195480557304,
          0.005089418167935886,
          0.004636003958449466,
          0.004025052760894833,
          0.0038608864928200474,
          0.0028892062382066003,
          0.002802029423709468,
          0.002797238998755712,
          0.0021664204288582745,
          0.0021598620410524134,
          0.0021109872382690407,
          0.0019216697510567944,
          0.0017919542343199318,
          0.0016477292590998036,
          0.0007317645331631897,
          0.0006465920990839386,
          0.0005589181172468528,
          0.0005433302218356881,
          0.0005062618738131779,
          0.00043627296268213445,
          0.0004296428760132618
         ],
         "y": [
          "div_count",
          "link_href_out_of_domain",
          "meta_count",
          "script_async_true",
          "title_count",
          "push",
          "a_href_https",
          "img_src_out_of_domain",
          "a_href_http",
          "script_src_.js",
          "link_type_text/css",
          "center_count",
          "link_href_http",
          "indexOf",
          "strong_count",
          "span_count",
          "p_count",
          "script_src_out_of_domain",
          "link_rel_shortlink",
          "escape",
          "document.getElementById",
          "form_action_http",
          "a_href_.com",
          "link_type_application/rsd+xml",
          "img_src_.jpg",
          "link_rel_https://api.w.org/",
          "get",
          "li_count",
          "br_count",
          "section_count",
          "window.addEventListener",
          "find",
          "link_href_.css",
          "replace"
         ]
        }
       ],
       "layout": {
        "autosize": false,
        "height": 1000,
        "width": 1000,
        "xaxis": {
         "tickfont": {
          "color": "black",
          "size": 12
         },
         "title": "Feature Importances"
        },
        "yaxis": {
         "automargin": true
        }
       }
      },
      "text/html": [
       "<div id=\"92bcb26b-ac62-4858-b502-090da5b371c8\" style=\"height: 1000px; width: 1000px;\" class=\"plotly-graph-div\"></div><script type=\"text/javascript\">require([\"plotly\"], function(Plotly) { window.PLOTLYENV=window.PLOTLYENV || {};window.PLOTLYENV.BASE_URL=\"https://plot.ly\";Plotly.newPlot(\"92bcb26b-ac62-4858-b502-090da5b371c8\", [{\"marker\": {\"color\": \"rgb(158,202,225)\", \"line\": {\"color\": \"rgb(8,48,107)\", \"width\": 1.5}}, \"opacity\": 0.6, \"orientation\": \"h\", \"text\": [0.4116, 0.2, 0.1356, 0.0447, 0.0375, 0.0358, 0.0312, 0.0121, 0.0115, 0.0107, 0.0085, 0.0075, 0.0061, 0.0055, 0.0051, 0.0046, 0.004, 0.0039, 0.0029, 0.0028, 0.0028, 0.0022, 0.0022, 0.0021, 0.0019, 0.0018, 0.0016, 0.0007, 0.0006, 0.0006, 0.0005, 0.0005, 0.0004, 0.0004], \"textposition\": \"outside\", \"x\": [0.4115711520899109, 0.19997200707804252, 0.135636337999548, 0.04471675622890559, 0.03746627876156686, 0.03583062413963177, 0.031155305061307148, 0.012077290594879225, 0.011533153836665673, 0.010658467857264552, 0.00851034460876065, 0.007538484295585915, 0.00605836029010733, 0.005524195480557304, 0.005089418167935886, 0.004636003958449466, 0.004025052760894833, 0.0038608864928200474, 0.0028892062382066003, 0.002802029423709468, 0.002797238998755712, 0.0021664204288582745, 0.0021598620410524134, 0.0021109872382690407, 0.0019216697510567944, 0.0017919542343199318, 0.0016477292590998036, 0.0007317645331631897, 0.0006465920990839386, 0.0005589181172468528, 0.0005433302218356881, 0.0005062618738131779, 0.00043627296268213445, 0.0004296428760132618], \"y\": [\"div_count\", \"link_href_out_of_domain\", \"meta_count\", \"script_async_true\", \"title_count\", \"push\", \"a_href_https\", \"img_src_out_of_domain\", \"a_href_http\", \"script_src_.js\", \"link_type_text/css\", \"center_count\", \"link_href_http\", \"indexOf\", \"strong_count\", \"span_count\", \"p_count\", \"script_src_out_of_domain\", \"link_rel_shortlink\", \"escape\", \"document.getElementById\", \"form_action_http\", \"a_href_.com\", \"link_type_application/rsd+xml\", \"img_src_.jpg\", \"link_rel_https://api.w.org/\", \"get\", \"li_count\", \"br_count\", \"section_count\", \"window.addEventListener\", \"find\", \"link_href_.css\", \"replace\"], \"type\": \"bar\", \"uid\": \"a61bf69a-6ed5-4fb0-86ae-1197dd91c202\"}], {\"autosize\": false, \"height\": 1000, \"width\": 1000, \"xaxis\": {\"tickfont\": {\"color\": \"black\", \"size\": 12}, \"title\": \"Feature Importances\"}, \"yaxis\": {\"automargin\": true}}, {\"showLink\": true, \"linkText\": \"Export to plot.ly\", \"plotlyServerURL\": \"https://plot.ly\"})});</script>"
      ],
      "text/vnd.plotly.v1+html": [
       "<div id=\"92bcb26b-ac62-4858-b502-090da5b371c8\" style=\"height: 1000px; width: 1000px;\" class=\"plotly-graph-div\"></div><script type=\"text/javascript\">require([\"plotly\"], function(Plotly) { window.PLOTLYENV=window.PLOTLYENV || {};window.PLOTLYENV.BASE_URL=\"https://plot.ly\";Plotly.newPlot(\"92bcb26b-ac62-4858-b502-090da5b371c8\", [{\"marker\": {\"color\": \"rgb(158,202,225)\", \"line\": {\"color\": \"rgb(8,48,107)\", \"width\": 1.5}}, \"opacity\": 0.6, \"orientation\": \"h\", \"text\": [0.4116, 0.2, 0.1356, 0.0447, 0.0375, 0.0358, 0.0312, 0.0121, 0.0115, 0.0107, 0.0085, 0.0075, 0.0061, 0.0055, 0.0051, 0.0046, 0.004, 0.0039, 0.0029, 0.0028, 0.0028, 0.0022, 0.0022, 0.0021, 0.0019, 0.0018, 0.0016, 0.0007, 0.0006, 0.0006, 0.0005, 0.0005, 0.0004, 0.0004], \"textposition\": \"outside\", \"x\": [0.4115711520899109, 0.19997200707804252, 0.135636337999548, 0.04471675622890559, 0.03746627876156686, 0.03583062413963177, 0.031155305061307148, 0.012077290594879225, 0.011533153836665673, 0.010658467857264552, 0.00851034460876065, 0.007538484295585915, 0.00605836029010733, 0.005524195480557304, 0.005089418167935886, 0.004636003958449466, 0.004025052760894833, 0.0038608864928200474, 0.0028892062382066003, 0.002802029423709468, 0.002797238998755712, 0.0021664204288582745, 0.0021598620410524134, 0.0021109872382690407, 0.0019216697510567944, 0.0017919542343199318, 0.0016477292590998036, 0.0007317645331631897, 0.0006465920990839386, 0.0005589181172468528, 0.0005433302218356881, 0.0005062618738131779, 0.00043627296268213445, 0.0004296428760132618], \"y\": [\"div_count\", \"link_href_out_of_domain\", \"meta_count\", \"script_async_true\", \"title_count\", \"push\", \"a_href_https\", \"img_src_out_of_domain\", \"a_href_http\", \"script_src_.js\", \"link_type_text/css\", \"center_count\", \"link_href_http\", \"indexOf\", \"strong_count\", \"span_count\", \"p_count\", \"script_src_out_of_domain\", \"link_rel_shortlink\", \"escape\", \"document.getElementById\", \"form_action_http\", \"a_href_.com\", \"link_type_application/rsd+xml\", \"img_src_.jpg\", \"link_rel_https://api.w.org/\", \"get\", \"li_count\", \"br_count\", \"section_count\", \"window.addEventListener\", \"find\", \"link_href_.css\", \"replace\"], \"type\": \"bar\", \"uid\": \"a61bf69a-6ed5-4fb0-86ae-1197dd91c202\"}], {\"autosize\": false, \"height\": 1000, \"width\": 1000, \"xaxis\": {\"tickfont\": {\"color\": \"black\", \"size\": 12}, \"title\": \"Feature Importances\"}, \"yaxis\": {\"automargin\": true}}, {\"showLink\": true, \"linkText\": \"Export to plot.ly\", \"plotlyServerURL\": \"https://plot.ly\"})});</script>"
      ]
     },
     "metadata": {},
     "output_type": "display_data"
    },
    {
     "name": "stdout",
     "output_type": "stream",
     "text": [
      "\n",
      "\n",
      "\u001b[1mExtraTree Classifier\u001b[0m\n",
      "Accuracy of the model for training data is: 0.9534408084696824\n",
      "Confusion Matrix for training data is:\n"
     ]
    },
    {
     "data": {
      "text/plain": [
       "Predicted  False  True  __all__\n",
       "Actual                         \n",
       "False       3823   333     4156\n",
       "True          54  4102     4156\n",
       "__all__     3877  4435     8312"
      ]
     },
     "metadata": {},
     "output_type": "display_data"
    },
    {
     "name": "stdout",
     "output_type": "stream",
     "text": [
      "Accuracy of the model for test data is: 0.9020715630885122\n",
      "Confusion Matrix for test data is:\n"
     ]
    },
    {
     "data": {
      "text/plain": [
       "Predicted  False  True  __all__\n",
       "Actual                         \n",
       "False       9382  1056    10438\n",
       "True         140  1635     1775\n",
       "__all__     9522  2691    12213"
      ]
     },
     "metadata": {},
     "output_type": "display_data"
    },
    {
     "data": {
      "application/vnd.plotly.v1+json": {
       "config": {
        "linkText": "Export to plot.ly",
        "plotlyServerURL": "https://plot.ly",
        "showLink": true
       },
       "data": [
        {
         "marker": {
          "color": "rgb(158,202,225)",
          "line": {
           "color": "rgb(8,48,107)",
           "width": 1.5
          }
         },
         "opacity": 0.6,
         "orientation": "h",
         "text": [
          0.158,
          0.0871,
          0.0789,
          0.061,
          0.0507,
          0.0469,
          0.0407,
          0.0397,
          0.0396,
          0.0361,
          0.0359,
          0.0333,
          0.0228,
          0.0225,
          0.0223,
          0.0184,
          0.0182,
          0.0169,
          0.0168,
          0.0168,
          0.0155,
          0.0139,
          0.0135,
          0.012,
          0.0118,
          0.0109,
          0.0098,
          0.008,
          0.0079,
          0.0074,
          0.0069,
          0.0068,
          0.0068,
          0.0064
         ],
         "textposition": "outside",
         "type": "bar",
         "uid": "4fcc32d9-d104-4c21-acb8-7992bc5e7ffc",
         "x": [
          0.15798735744959605,
          0.08711569898000675,
          0.0789032549820753,
          0.06096403886016121,
          0.0507137029219875,
          0.04688241507603693,
          0.04067763339334404,
          0.0396842491660702,
          0.03961852057492442,
          0.03608188143106399,
          0.03593178711566985,
          0.033282173046343,
          0.02278169402119881,
          0.022466499571484066,
          0.022256120758855632,
          0.018353714731656503,
          0.01824886618672144,
          0.016894846065233556,
          0.016767243367907973,
          0.016753267384726902,
          0.015532337336717182,
          0.01386583467672418,
          0.013508442889211178,
          0.011960715859085116,
          0.011755701152666711,
          0.01092486807652296,
          0.009839503789330527,
          0.007963582862515518,
          0.00794169858991752,
          0.0073882561464604325,
          0.006945839136667379,
          0.006822419192428207,
          0.006766843322236197,
          0.006418991884452934
         ],
         "y": [
          "script_async_true",
          "a_href_https",
          "script_src_out_of_domain",
          "script_src_.js",
          "link_type_text/css",
          "a_href_http",
          "img_src_out_of_domain",
          "img_src_.jpg",
          "br_count",
          "meta_count",
          "link_href_.css",
          "p_count",
          "li_count",
          "link_href_out_of_domain",
          "form_action_http",
          "push",
          "div_count",
          "link_rel_https://api.w.org/",
          "span_count",
          "replace",
          "document.getElementById",
          "title_count",
          "link_href_http",
          "window.addEventListener",
          "section_count",
          "strong_count",
          "center_count",
          "link_rel_shortlink",
          "a_href_.com",
          "escape",
          "find",
          "link_type_application/rsd+xml",
          "indexOf",
          "get"
         ]
        }
       ],
       "layout": {
        "autosize": false,
        "height": 1000,
        "width": 1000,
        "xaxis": {
         "tickfont": {
          "color": "black",
          "size": 12
         },
         "title": "Feature Importances"
        },
        "yaxis": {
         "automargin": true
        }
       }
      },
      "text/html": [
       "<div id=\"6f629215-437d-49ff-b784-d48b5a8206b5\" style=\"height: 1000px; width: 1000px;\" class=\"plotly-graph-div\"></div><script type=\"text/javascript\">require([\"plotly\"], function(Plotly) { window.PLOTLYENV=window.PLOTLYENV || {};window.PLOTLYENV.BASE_URL=\"https://plot.ly\";Plotly.newPlot(\"6f629215-437d-49ff-b784-d48b5a8206b5\", [{\"marker\": {\"color\": \"rgb(158,202,225)\", \"line\": {\"color\": \"rgb(8,48,107)\", \"width\": 1.5}}, \"opacity\": 0.6, \"orientation\": \"h\", \"text\": [0.158, 0.0871, 0.0789, 0.061, 0.0507, 0.0469, 0.0407, 0.0397, 0.0396, 0.0361, 0.0359, 0.0333, 0.0228, 0.0225, 0.0223, 0.0184, 0.0182, 0.0169, 0.0168, 0.0168, 0.0155, 0.0139, 0.0135, 0.012, 0.0118, 0.0109, 0.0098, 0.008, 0.0079, 0.0074, 0.0069, 0.0068, 0.0068, 0.0064], \"textposition\": \"outside\", \"x\": [0.15798735744959605, 0.08711569898000675, 0.0789032549820753, 0.06096403886016121, 0.0507137029219875, 0.04688241507603693, 0.04067763339334404, 0.0396842491660702, 0.03961852057492442, 0.03608188143106399, 0.03593178711566985, 0.033282173046343, 0.02278169402119881, 0.022466499571484066, 0.022256120758855632, 0.018353714731656503, 0.01824886618672144, 0.016894846065233556, 0.016767243367907973, 0.016753267384726902, 0.015532337336717182, 0.01386583467672418, 0.013508442889211178, 0.011960715859085116, 0.011755701152666711, 0.01092486807652296, 0.009839503789330527, 0.007963582862515518, 0.00794169858991752, 0.0073882561464604325, 0.006945839136667379, 0.006822419192428207, 0.006766843322236197, 0.006418991884452934], \"y\": [\"script_async_true\", \"a_href_https\", \"script_src_out_of_domain\", \"script_src_.js\", \"link_type_text/css\", \"a_href_http\", \"img_src_out_of_domain\", \"img_src_.jpg\", \"br_count\", \"meta_count\", \"link_href_.css\", \"p_count\", \"li_count\", \"link_href_out_of_domain\", \"form_action_http\", \"push\", \"div_count\", \"link_rel_https://api.w.org/\", \"span_count\", \"replace\", \"document.getElementById\", \"title_count\", \"link_href_http\", \"window.addEventListener\", \"section_count\", \"strong_count\", \"center_count\", \"link_rel_shortlink\", \"a_href_.com\", \"escape\", \"find\", \"link_type_application/rsd+xml\", \"indexOf\", \"get\"], \"type\": \"bar\", \"uid\": \"4fcc32d9-d104-4c21-acb8-7992bc5e7ffc\"}], {\"autosize\": false, \"height\": 1000, \"width\": 1000, \"xaxis\": {\"tickfont\": {\"color\": \"black\", \"size\": 12}, \"title\": \"Feature Importances\"}, \"yaxis\": {\"automargin\": true}}, {\"showLink\": true, \"linkText\": \"Export to plot.ly\", \"plotlyServerURL\": \"https://plot.ly\"})});</script>"
      ],
      "text/vnd.plotly.v1+html": [
       "<div id=\"6f629215-437d-49ff-b784-d48b5a8206b5\" style=\"height: 1000px; width: 1000px;\" class=\"plotly-graph-div\"></div><script type=\"text/javascript\">require([\"plotly\"], function(Plotly) { window.PLOTLYENV=window.PLOTLYENV || {};window.PLOTLYENV.BASE_URL=\"https://plot.ly\";Plotly.newPlot(\"6f629215-437d-49ff-b784-d48b5a8206b5\", [{\"marker\": {\"color\": \"rgb(158,202,225)\", \"line\": {\"color\": \"rgb(8,48,107)\", \"width\": 1.5}}, \"opacity\": 0.6, \"orientation\": \"h\", \"text\": [0.158, 0.0871, 0.0789, 0.061, 0.0507, 0.0469, 0.0407, 0.0397, 0.0396, 0.0361, 0.0359, 0.0333, 0.0228, 0.0225, 0.0223, 0.0184, 0.0182, 0.0169, 0.0168, 0.0168, 0.0155, 0.0139, 0.0135, 0.012, 0.0118, 0.0109, 0.0098, 0.008, 0.0079, 0.0074, 0.0069, 0.0068, 0.0068, 0.0064], \"textposition\": \"outside\", \"x\": [0.15798735744959605, 0.08711569898000675, 0.0789032549820753, 0.06096403886016121, 0.0507137029219875, 0.04688241507603693, 0.04067763339334404, 0.0396842491660702, 0.03961852057492442, 0.03608188143106399, 0.03593178711566985, 0.033282173046343, 0.02278169402119881, 0.022466499571484066, 0.022256120758855632, 0.018353714731656503, 0.01824886618672144, 0.016894846065233556, 0.016767243367907973, 0.016753267384726902, 0.015532337336717182, 0.01386583467672418, 0.013508442889211178, 0.011960715859085116, 0.011755701152666711, 0.01092486807652296, 0.009839503789330527, 0.007963582862515518, 0.00794169858991752, 0.0073882561464604325, 0.006945839136667379, 0.006822419192428207, 0.006766843322236197, 0.006418991884452934], \"y\": [\"script_async_true\", \"a_href_https\", \"script_src_out_of_domain\", \"script_src_.js\", \"link_type_text/css\", \"a_href_http\", \"img_src_out_of_domain\", \"img_src_.jpg\", \"br_count\", \"meta_count\", \"link_href_.css\", \"p_count\", \"li_count\", \"link_href_out_of_domain\", \"form_action_http\", \"push\", \"div_count\", \"link_rel_https://api.w.org/\", \"span_count\", \"replace\", \"document.getElementById\", \"title_count\", \"link_href_http\", \"window.addEventListener\", \"section_count\", \"strong_count\", \"center_count\", \"link_rel_shortlink\", \"a_href_.com\", \"escape\", \"find\", \"link_type_application/rsd+xml\", \"indexOf\", \"get\"], \"type\": \"bar\", \"uid\": \"4fcc32d9-d104-4c21-acb8-7992bc5e7ffc\"}], {\"autosize\": false, \"height\": 1000, \"width\": 1000, \"xaxis\": {\"tickfont\": {\"color\": \"black\", \"size\": 12}, \"title\": \"Feature Importances\"}, \"yaxis\": {\"automargin\": true}}, {\"showLink\": true, \"linkText\": \"Export to plot.ly\", \"plotlyServerURL\": \"https://plot.ly\"})});</script>"
      ]
     },
     "metadata": {},
     "output_type": "display_data"
    },
    {
     "name": "stdout",
     "output_type": "stream",
     "text": [
      "\n",
      "\n",
      "\u001b[1mBagging Classifier\u001b[0m\n",
      "Accuracy of the model for training data is: 0.9500721847930702\n",
      "Confusion Matrix for training data is:\n"
     ]
    },
    {
     "data": {
      "text/plain": [
       "Predicted  False  True  __all__\n",
       "Actual                         \n",
       "False       3819   337     4156\n",
       "True          78  4078     4156\n",
       "__all__     3897  4415     8312"
      ]
     },
     "metadata": {},
     "output_type": "display_data"
    },
    {
     "name": "stdout",
     "output_type": "stream",
     "text": [
      "Accuracy of the model for test data is: 0.8960943257184967\n",
      "Confusion Matrix for test data is:\n"
     ]
    },
    {
     "data": {
      "text/plain": [
       "Predicted  False  True  __all__\n",
       "Actual                         \n",
       "False       9294  1144    10438\n",
       "True         125  1650     1775\n",
       "__all__     9419  2794    12213"
      ]
     },
     "metadata": {},
     "output_type": "display_data"
    },
    {
     "name": "stdout",
     "output_type": "stream",
     "text": [
      "\n",
      "\n",
      "\u001b[1mNeural Network-1\u001b[0m\n",
      "The accuracy of the model on training data is: 0.9227622713574546\n"
     ]
    },
    {
     "data": {
      "text/plain": [
       "Predicted  False  True  __all__\n",
       "Actual                         \n",
       "False       3598   558     4156\n",
       "True          84  4072     4156\n",
       "__all__     3682  4630     8312"
      ]
     },
     "metadata": {},
     "output_type": "display_data"
    },
    {
     "name": "stdout",
     "output_type": "stream",
     "text": [
      "The accuracy of the model on test data is: 0.8631785802014247\n"
     ]
    },
    {
     "data": {
      "text/plain": [
       "Predicted  False  True  __all__\n",
       "Actual                         \n",
       "False       8853  1585    10438\n",
       "True          86  1689     1775\n",
       "__all__     8939  3274    12213"
      ]
     },
     "metadata": {},
     "output_type": "display_data"
    },
    {
     "name": "stdout",
     "output_type": "stream",
     "text": [
      "\n",
      "\n"
     ]
    }
   ],
   "source": [
    "df_non=train[train.Target==0]\n",
    "df_mal=train[train.Target==1]\n",
    "\n",
    "df_non=df_non.sample(frac=len(df_mal)/len(df_non),random_state=0)\n",
    "df_u=df_non.append(df_mal)\n",
    "df_u.Target.value_counts() \n",
    "\n",
    "X_train=df_u[columns]\n",
    "X_train=scaler.transform(X_train)\n",
    "Y_train=df_u.Target.values\n",
    "\n",
    "print(\"Shape after undersampling\",X_train.shape)\n",
    "\n",
    "## Table to store training and test measures so we can compare later\n",
    "table_80_90_train=pd.DataFrame(columns=['accuracy','TP','TN','FP','FN','FPR','FNR'])\n",
    "table_80_90_test=pd.DataFrame(columns=['accuracy','TP','TN','FP','FN','FPR','FNR','auc','mcc'])\n",
    "\n",
    "feat_imp=[None]*4\n",
    "j=0\n",
    "for i in range(0,8):\n",
    "    if i>=2 and i<=5:\n",
    "        model,cm_train,cm_test,acc_train,acc_test,roc_auc,feat_imp[j],mcc=f[i](X_train,Y_train,scaled_X_test,test_Y,columns)\n",
    "        j=j+1\n",
    "    else:\n",
    "        model,cm_train,cm_test,acc_train,acc_test,roc_auc,mcc=f[i](X_train,Y_train,scaled_X_test,test_Y)\n",
    "    table_80_90_train.loc[i]=   ([acc_train,cm_train.TP,cm_train.TN,cm_train.FP,cm_train.FN,cm_train.FPR,cm_train.FNR])\n",
    "    table_80_90_test.loc[i] =   ([acc_test ,cm_test.TP, cm_test.TN, cm_test.FP, cm_test.FN, cm_test.FPR, cm_test.FNR,roc_auc,mcc])\n",
    "    print(\"\\n\")"
   ]
  },
  {
   "cell_type": "markdown",
   "metadata": {},
   "source": [
    "### <a id='3.A' style=\"text-decoration : none; color : #000000;\"> A. Results</a>"
   ]
  },
  {
   "cell_type": "code",
   "execution_count": 30,
   "metadata": {},
   "outputs": [
    {
     "data": {
      "application/vnd.plotly.v1+json": {
       "config": {
        "linkText": "Export to plot.ly",
        "plotlyServerURL": "https://plot.ly",
        "showLink": true
       },
       "data": [
        {
         "mode": "lines",
         "name": "KNN_model",
         "type": "scatter",
         "uid": "f9c54adf-7f90-4449-b3d5-cd68962db58d",
         "x": [
          "accuracy",
          "FPR",
          "FNR",
          "auc"
         ],
         "y": [
          0.8327192336035372,
          0.05326690936961104,
          0.8377464788732394,
          0.5544933058785748
         ]
        },
        {
         "mode": "lines+markers",
         "name": "Logistic Regression",
         "type": "scatter",
         "uid": "66be3783-21d8-4018-b541-78b2e33e2c90",
         "x": [
          "accuracy",
          "FPR",
          "FNR",
          "auc"
         ],
         "y": [
          0.8357487922705314,
          0.18490132209235485,
          0.0428169014084507,
          0.8861408882495971
         ]
        },
        {
         "marker": {
          "symbol": "x"
         },
         "mode": "lines+markers",
         "name": "Random Forest",
         "type": "scatter",
         "uid": "0320d8e3-c06e-472e-a919-fec74d6b5c0c",
         "x": [
          "accuracy",
          "FPR",
          "FNR",
          "auc"
         ],
         "y": [
          0.8978138049619259,
          0.10595899597624066,
          0.08,
          0.9070205020118796
         ]
        },
        {
         "mode": "lines",
         "name": "Ada Boost",
         "type": "scatter",
         "uid": "69ba244c-379e-40ac-ab16-b22cbe5a8c9c",
         "x": [
          "accuracy",
          "FPR",
          "FNR",
          "auc"
         ],
         "y": [
          0.8614591009579956,
          0.15290285495305614,
          0.054084507042253524,
          0.8965063190023451
         ]
        },
        {
         "mode": "lines+markers",
         "name": "GradientBoosting",
         "type": "scatter",
         "uid": "0baa5169-e5a7-4a5b-830d-58ff59671585",
         "x": [
          "accuracy",
          "FPR",
          "FNR",
          "auc"
         ],
         "y": [
          0.8766887742569394,
          0.133742096187009,
          0.061971830985915494,
          0.9021430364135378
         ]
        },
        {
         "marker": {
          "symbol": "x"
         },
         "mode": "lines+markers",
         "name": "ExtraTree Classifier",
         "type": "scatter",
         "uid": "65f2743b-b741-40af-a7df-d9c93f84bc80",
         "x": [
          "accuracy",
          "FPR",
          "FNR",
          "auc"
         ],
         "y": [
          0.9020715630885122,
          0.10116880628472888,
          0.07887323943661972,
          0.9099789771393257
         ]
        },
        {
         "marker": {
          "symbol": "x"
         },
         "mode": "lines+markers",
         "name": "Bagging",
         "type": "scatter",
         "uid": "bc0d344f-2c38-4aca-a77b-16a5c5003af6",
         "x": [
          "accuracy",
          "FPR",
          "FNR",
          "auc"
         ],
         "y": [
          0.8960943257184967,
          0.10959954014178962,
          0.07042253521126761,
          0.9099889623234714
         ]
        },
        {
         "marker": {
          "symbol": "x"
         },
         "mode": "lines+markers",
         "name": "Neural Network",
         "type": "scatter",
         "uid": "52e70a83-78ca-42f6-861c-7278f5a189e2",
         "x": [
          "accuracy",
          "FPR",
          "FNR",
          "auc"
         ],
         "y": [
          0.8631785802014247,
          0.15184901322092356,
          0.048450704225352116,
          0.8998501412768621
         ]
        }
       ],
       "layout": {
        "title": "Result comparision for Features selected in Section 1",
        "yaxis": {
         "dtick": 0.05,
         "tick0": 0
        }
       }
      },
      "text/html": [
       "<div id=\"9747802d-d676-4df3-9449-a00dc530eb70\" style=\"height: 525px; width: 100%;\" class=\"plotly-graph-div\"></div><script type=\"text/javascript\">require([\"plotly\"], function(Plotly) { window.PLOTLYENV=window.PLOTLYENV || {};window.PLOTLYENV.BASE_URL=\"https://plot.ly\";Plotly.newPlot(\"9747802d-d676-4df3-9449-a00dc530eb70\", [{\"mode\": \"lines\", \"name\": \"KNN_model\", \"x\": [\"accuracy\", \"FPR\", \"FNR\", \"auc\"], \"y\": [0.8327192336035372, 0.05326690936961104, 0.8377464788732394, 0.5544933058785748], \"type\": \"scatter\", \"uid\": \"f9c54adf-7f90-4449-b3d5-cd68962db58d\"}, {\"mode\": \"lines+markers\", \"name\": \"Logistic Regression\", \"x\": [\"accuracy\", \"FPR\", \"FNR\", \"auc\"], \"y\": [0.8357487922705314, 0.18490132209235485, 0.0428169014084507, 0.8861408882495971], \"type\": \"scatter\", \"uid\": \"66be3783-21d8-4018-b541-78b2e33e2c90\"}, {\"marker\": {\"symbol\": \"x\"}, \"mode\": \"lines+markers\", \"name\": \"Random Forest\", \"x\": [\"accuracy\", \"FPR\", \"FNR\", \"auc\"], \"y\": [0.8978138049619259, 0.10595899597624066, 0.08, 0.9070205020118796], \"type\": \"scatter\", \"uid\": \"0320d8e3-c06e-472e-a919-fec74d6b5c0c\"}, {\"mode\": \"lines\", \"name\": \"Ada Boost\", \"x\": [\"accuracy\", \"FPR\", \"FNR\", \"auc\"], \"y\": [0.8614591009579956, 0.15290285495305614, 0.054084507042253524, 0.8965063190023451], \"type\": \"scatter\", \"uid\": \"69ba244c-379e-40ac-ab16-b22cbe5a8c9c\"}, {\"mode\": \"lines+markers\", \"name\": \"GradientBoosting\", \"x\": [\"accuracy\", \"FPR\", \"FNR\", \"auc\"], \"y\": [0.8766887742569394, 0.133742096187009, 0.061971830985915494, 0.9021430364135378], \"type\": \"scatter\", \"uid\": \"0baa5169-e5a7-4a5b-830d-58ff59671585\"}, {\"marker\": {\"symbol\": \"x\"}, \"mode\": \"lines+markers\", \"name\": \"ExtraTree Classifier\", \"x\": [\"accuracy\", \"FPR\", \"FNR\", \"auc\"], \"y\": [0.9020715630885122, 0.10116880628472888, 0.07887323943661972, 0.9099789771393257], \"type\": \"scatter\", \"uid\": \"65f2743b-b741-40af-a7df-d9c93f84bc80\"}, {\"marker\": {\"symbol\": \"x\"}, \"mode\": \"lines+markers\", \"name\": \"Bagging\", \"x\": [\"accuracy\", \"FPR\", \"FNR\", \"auc\"], \"y\": [0.8960943257184967, 0.10959954014178962, 0.07042253521126761, 0.9099889623234714], \"type\": \"scatter\", \"uid\": \"bc0d344f-2c38-4aca-a77b-16a5c5003af6\"}, {\"marker\": {\"symbol\": \"x\"}, \"mode\": \"lines+markers\", \"name\": \"Neural Network\", \"x\": [\"accuracy\", \"FPR\", \"FNR\", \"auc\"], \"y\": [0.8631785802014247, 0.15184901322092356, 0.048450704225352116, 0.8998501412768621], \"type\": \"scatter\", \"uid\": \"52e70a83-78ca-42f6-861c-7278f5a189e2\"}], {\"title\": \"Result comparision for Features selected in Section 1\", \"yaxis\": {\"dtick\": 0.05, \"tick0\": 0}}, {\"showLink\": true, \"linkText\": \"Export to plot.ly\", \"plotlyServerURL\": \"https://plot.ly\"})});</script><script type=\"text/javascript\">window.addEventListener(\"resize\", function(){window._Plotly.Plots.resize(document.getElementById(\"9747802d-d676-4df3-9449-a00dc530eb70\"));});</script>"
      ],
      "text/vnd.plotly.v1+html": [
       "<div id=\"9747802d-d676-4df3-9449-a00dc530eb70\" style=\"height: 525px; width: 100%;\" class=\"plotly-graph-div\"></div><script type=\"text/javascript\">require([\"plotly\"], function(Plotly) { window.PLOTLYENV=window.PLOTLYENV || {};window.PLOTLYENV.BASE_URL=\"https://plot.ly\";Plotly.newPlot(\"9747802d-d676-4df3-9449-a00dc530eb70\", [{\"mode\": \"lines\", \"name\": \"KNN_model\", \"x\": [\"accuracy\", \"FPR\", \"FNR\", \"auc\"], \"y\": [0.8327192336035372, 0.05326690936961104, 0.8377464788732394, 0.5544933058785748], \"type\": \"scatter\", \"uid\": \"f9c54adf-7f90-4449-b3d5-cd68962db58d\"}, {\"mode\": \"lines+markers\", \"name\": \"Logistic Regression\", \"x\": [\"accuracy\", \"FPR\", \"FNR\", \"auc\"], \"y\": [0.8357487922705314, 0.18490132209235485, 0.0428169014084507, 0.8861408882495971], \"type\": \"scatter\", \"uid\": \"66be3783-21d8-4018-b541-78b2e33e2c90\"}, {\"marker\": {\"symbol\": \"x\"}, \"mode\": \"lines+markers\", \"name\": \"Random Forest\", \"x\": [\"accuracy\", \"FPR\", \"FNR\", \"auc\"], \"y\": [0.8978138049619259, 0.10595899597624066, 0.08, 0.9070205020118796], \"type\": \"scatter\", \"uid\": \"0320d8e3-c06e-472e-a919-fec74d6b5c0c\"}, {\"mode\": \"lines\", \"name\": \"Ada Boost\", \"x\": [\"accuracy\", \"FPR\", \"FNR\", \"auc\"], \"y\": [0.8614591009579956, 0.15290285495305614, 0.054084507042253524, 0.8965063190023451], \"type\": \"scatter\", \"uid\": \"69ba244c-379e-40ac-ab16-b22cbe5a8c9c\"}, {\"mode\": \"lines+markers\", \"name\": \"GradientBoosting\", \"x\": [\"accuracy\", \"FPR\", \"FNR\", \"auc\"], \"y\": [0.8766887742569394, 0.133742096187009, 0.061971830985915494, 0.9021430364135378], \"type\": \"scatter\", \"uid\": \"0baa5169-e5a7-4a5b-830d-58ff59671585\"}, {\"marker\": {\"symbol\": \"x\"}, \"mode\": \"lines+markers\", \"name\": \"ExtraTree Classifier\", \"x\": [\"accuracy\", \"FPR\", \"FNR\", \"auc\"], \"y\": [0.9020715630885122, 0.10116880628472888, 0.07887323943661972, 0.9099789771393257], \"type\": \"scatter\", \"uid\": \"65f2743b-b741-40af-a7df-d9c93f84bc80\"}, {\"marker\": {\"symbol\": \"x\"}, \"mode\": \"lines+markers\", \"name\": \"Bagging\", \"x\": [\"accuracy\", \"FPR\", \"FNR\", \"auc\"], \"y\": [0.8960943257184967, 0.10959954014178962, 0.07042253521126761, 0.9099889623234714], \"type\": \"scatter\", \"uid\": \"bc0d344f-2c38-4aca-a77b-16a5c5003af6\"}, {\"marker\": {\"symbol\": \"x\"}, \"mode\": \"lines+markers\", \"name\": \"Neural Network\", \"x\": [\"accuracy\", \"FPR\", \"FNR\", \"auc\"], \"y\": [0.8631785802014247, 0.15184901322092356, 0.048450704225352116, 0.8998501412768621], \"type\": \"scatter\", \"uid\": \"52e70a83-78ca-42f6-861c-7278f5a189e2\"}], {\"title\": \"Result comparision for Features selected in Section 1\", \"yaxis\": {\"dtick\": 0.05, \"tick0\": 0}}, {\"showLink\": true, \"linkText\": \"Export to plot.ly\", \"plotlyServerURL\": \"https://plot.ly\"})});</script><script type=\"text/javascript\">window.addEventListener(\"resize\", function(){window._Plotly.Plots.resize(document.getElementById(\"9747802d-d676-4df3-9449-a00dc530eb70\"));});</script>"
      ]
     },
     "metadata": {},
     "output_type": "display_data"
    }
   ],
   "source": [
    "trace0 = go.Scatter(x=table_80_90_test.iloc[0].index.values[[0,5,6,7]],\n",
    "                    y=table_80_90_test.iloc[0].values[[0,5,6,7]],\n",
    "                    mode = 'lines',\n",
    "                    name = 'KNN_model')\n",
    "\n",
    "trace1 = go.Scatter(x=table_80_90_test.iloc[1].index.values[[0,5,6,7]],\n",
    "                    y=table_80_90_test.iloc[1].values[[0,5,6,7]],\n",
    "                    mode = 'lines+markers',\n",
    "                    name = 'Logistic Regression')\n",
    "\n",
    "trace2 = go.Scatter(x=table_80_90_test.iloc[2].index.values[[0,5,6,7]],\n",
    "                    y=table_80_90_test.iloc[2].values[[0,5,6,7]],\n",
    "                    mode = 'lines+markers',marker=dict(symbol='x'),\n",
    "                    name = 'Random Forest')\n",
    "\n",
    "\n",
    "trace3 = go.Scatter(x=table_80_90_test.iloc[3].index.values[[0,5,6,7]],\n",
    "                    y=table_80_90_test.iloc[3].values[[0,5,6,7]],\n",
    "                    mode = 'lines',\n",
    "                    name = 'Ada Boost')\n",
    "\n",
    "trace4 = go.Scatter(x=table_80_90_test.iloc[4].index.values[[0,5,6,7]],\n",
    "                    y=table_80_90_test.iloc[4].values[[0,5,6,7]],\n",
    "                    mode = 'lines+markers',\n",
    "                    name = 'GradientBoosting')\n",
    "\n",
    "trace5 = go.Scatter(x=table_80_90_test.iloc[5].index.values[[0,5,6,7]],\n",
    "                    y=table_80_90_test.iloc[5].values[[0,5,6,7]],\n",
    "                    mode = 'lines+markers',marker=dict(symbol='x'),\n",
    "                    name = 'ExtraTree Classifier')\n",
    "\n",
    "trace6 = go.Scatter(x=table_80_90_test.iloc[6].index.values[[0,5,6,7]],\n",
    "                    y=table_80_90_test.iloc[6].values[[0,5,6,7]],\n",
    "                    mode = 'lines+markers',marker=dict(symbol='x'),\n",
    "                    name = 'Bagging')\n",
    "\n",
    "trace7 = go.Scatter(x=table_80_90_test.iloc[7].index.values[[0,5,6,7]],\n",
    "                    y=table_80_90_test.iloc[7].values[[0,5,6,7]],\n",
    "                    mode = 'lines+markers',marker=dict(symbol='x'),\n",
    "                    name = 'Neural Network')\n",
    "\n",
    "\n",
    "\n",
    "data = [trace0, trace1, trace2, trace3, trace4, trace5, trace6, trace7]\n",
    "layout = go.Layout(yaxis=dict(tick0=0,dtick=0.05),title='Result comparision for Features selected in Section 1')\n",
    "fig = go.Figure(data=data, layout=layout)\n",
    "\n",
    "iplot(fig, filename='Result')"
   ]
  },
  {
   "cell_type": "code",
   "execution_count": 31,
   "metadata": {},
   "outputs": [
    {
     "name": "stdout",
     "output_type": "stream",
     "text": [
      "Training Results\n"
     ]
    },
    {
     "data": {
      "text/html": [
       "<div>\n",
       "<style scoped>\n",
       "    .dataframe tbody tr th:only-of-type {\n",
       "        vertical-align: middle;\n",
       "    }\n",
       "\n",
       "    .dataframe tbody tr th {\n",
       "        vertical-align: top;\n",
       "    }\n",
       "\n",
       "    .dataframe thead th {\n",
       "        text-align: right;\n",
       "    }\n",
       "</style>\n",
       "<table border=\"1\" class=\"dataframe\">\n",
       "  <thead>\n",
       "    <tr style=\"text-align: right;\">\n",
       "      <th></th>\n",
       "      <th>accuracy</th>\n",
       "      <th>TP</th>\n",
       "      <th>TN</th>\n",
       "      <th>FP</th>\n",
       "      <th>FN</th>\n",
       "      <th>FPR</th>\n",
       "      <th>FNR</th>\n",
       "    </tr>\n",
       "    <tr>\n",
       "      <th>index</th>\n",
       "      <th></th>\n",
       "      <th></th>\n",
       "      <th></th>\n",
       "      <th></th>\n",
       "      <th></th>\n",
       "      <th></th>\n",
       "      <th></th>\n",
       "    </tr>\n",
       "  </thead>\n",
       "  <tbody>\n",
       "    <tr>\n",
       "      <th>KNeighborsClassifier</th>\n",
       "      <td>0.573869</td>\n",
       "      <td>752.0</td>\n",
       "      <td>4018.0</td>\n",
       "      <td>138.0</td>\n",
       "      <td>3404.0</td>\n",
       "      <td>0.033205</td>\n",
       "      <td>0.819057</td>\n",
       "    </tr>\n",
       "    <tr>\n",
       "      <th>LogisticRegression</th>\n",
       "      <td>0.884504</td>\n",
       "      <td>3980.0</td>\n",
       "      <td>3372.0</td>\n",
       "      <td>784.0</td>\n",
       "      <td>176.0</td>\n",
       "      <td>0.188643</td>\n",
       "      <td>0.042348</td>\n",
       "    </tr>\n",
       "    <tr>\n",
       "      <th>RandomForestClassifier</th>\n",
       "      <td>0.949350</td>\n",
       "      <td>4072.0</td>\n",
       "      <td>3819.0</td>\n",
       "      <td>337.0</td>\n",
       "      <td>84.0</td>\n",
       "      <td>0.081088</td>\n",
       "      <td>0.020212</td>\n",
       "    </tr>\n",
       "    <tr>\n",
       "      <th>AdaBoostClassifier</th>\n",
       "      <td>0.894851</td>\n",
       "      <td>3926.0</td>\n",
       "      <td>3512.0</td>\n",
       "      <td>644.0</td>\n",
       "      <td>230.0</td>\n",
       "      <td>0.154957</td>\n",
       "      <td>0.055342</td>\n",
       "    </tr>\n",
       "    <tr>\n",
       "      <th>GradientBoostingClassifier</th>\n",
       "      <td>0.913017</td>\n",
       "      <td>3962.0</td>\n",
       "      <td>3627.0</td>\n",
       "      <td>529.0</td>\n",
       "      <td>194.0</td>\n",
       "      <td>0.127286</td>\n",
       "      <td>0.046679</td>\n",
       "    </tr>\n",
       "    <tr>\n",
       "      <th>ExtraTreeClassifier</th>\n",
       "      <td>0.953441</td>\n",
       "      <td>4102.0</td>\n",
       "      <td>3823.0</td>\n",
       "      <td>333.0</td>\n",
       "      <td>54.0</td>\n",
       "      <td>0.080125</td>\n",
       "      <td>0.012993</td>\n",
       "    </tr>\n",
       "    <tr>\n",
       "      <th>BaggingClassifier</th>\n",
       "      <td>0.950072</td>\n",
       "      <td>4078.0</td>\n",
       "      <td>3819.0</td>\n",
       "      <td>337.0</td>\n",
       "      <td>78.0</td>\n",
       "      <td>0.081088</td>\n",
       "      <td>0.018768</td>\n",
       "    </tr>\n",
       "    <tr>\n",
       "      <th>Neural Network-1</th>\n",
       "      <td>0.922762</td>\n",
       "      <td>4072.0</td>\n",
       "      <td>3598.0</td>\n",
       "      <td>558.0</td>\n",
       "      <td>84.0</td>\n",
       "      <td>0.134264</td>\n",
       "      <td>0.020212</td>\n",
       "    </tr>\n",
       "  </tbody>\n",
       "</table>\n",
       "</div>"
      ],
      "text/plain": [
       "                            accuracy      TP      TN     FP      FN       FPR  \\\n",
       "index                                                                           \n",
       "KNeighborsClassifier        0.573869   752.0  4018.0  138.0  3404.0  0.033205   \n",
       "LogisticRegression          0.884504  3980.0  3372.0  784.0   176.0  0.188643   \n",
       "RandomForestClassifier      0.949350  4072.0  3819.0  337.0    84.0  0.081088   \n",
       "AdaBoostClassifier          0.894851  3926.0  3512.0  644.0   230.0  0.154957   \n",
       "GradientBoostingClassifier  0.913017  3962.0  3627.0  529.0   194.0  0.127286   \n",
       "ExtraTreeClassifier         0.953441  4102.0  3823.0  333.0    54.0  0.080125   \n",
       "BaggingClassifier           0.950072  4078.0  3819.0  337.0    78.0  0.081088   \n",
       "Neural Network-1            0.922762  4072.0  3598.0  558.0    84.0  0.134264   \n",
       "\n",
       "                                 FNR  \n",
       "index                                 \n",
       "KNeighborsClassifier        0.819057  \n",
       "LogisticRegression          0.042348  \n",
       "RandomForestClassifier      0.020212  \n",
       "AdaBoostClassifier          0.055342  \n",
       "GradientBoostingClassifier  0.046679  \n",
       "ExtraTreeClassifier         0.012993  \n",
       "BaggingClassifier           0.018768  \n",
       "Neural Network-1            0.020212  "
      ]
     },
     "metadata": {},
     "output_type": "display_data"
    },
    {
     "name": "stdout",
     "output_type": "stream",
     "text": [
      "Test Results\n"
     ]
    },
    {
     "data": {
      "text/html": [
       "<div>\n",
       "<style scoped>\n",
       "    .dataframe tbody tr th:only-of-type {\n",
       "        vertical-align: middle;\n",
       "    }\n",
       "\n",
       "    .dataframe tbody tr th {\n",
       "        vertical-align: top;\n",
       "    }\n",
       "\n",
       "    .dataframe thead th {\n",
       "        text-align: right;\n",
       "    }\n",
       "</style>\n",
       "<table border=\"1\" class=\"dataframe\">\n",
       "  <thead>\n",
       "    <tr style=\"text-align: right;\">\n",
       "      <th></th>\n",
       "      <th>accuracy</th>\n",
       "      <th>TP</th>\n",
       "      <th>TN</th>\n",
       "      <th>FP</th>\n",
       "      <th>FN</th>\n",
       "      <th>FPR</th>\n",
       "      <th>FNR</th>\n",
       "      <th>auc</th>\n",
       "      <th>mcc</th>\n",
       "    </tr>\n",
       "    <tr>\n",
       "      <th>index</th>\n",
       "      <th></th>\n",
       "      <th></th>\n",
       "      <th></th>\n",
       "      <th></th>\n",
       "      <th></th>\n",
       "      <th></th>\n",
       "      <th></th>\n",
       "      <th></th>\n",
       "      <th></th>\n",
       "    </tr>\n",
       "  </thead>\n",
       "  <tbody>\n",
       "    <tr>\n",
       "      <th>KNeighborsClassifier</th>\n",
       "      <td>0.832719</td>\n",
       "      <td>288.0</td>\n",
       "      <td>9882.0</td>\n",
       "      <td>556.0</td>\n",
       "      <td>1487.0</td>\n",
       "      <td>0.053267</td>\n",
       "      <td>0.837746</td>\n",
       "      <td>0.554493</td>\n",
       "      <td>0.151443</td>\n",
       "    </tr>\n",
       "    <tr>\n",
       "      <th>LogisticRegression</th>\n",
       "      <td>0.835749</td>\n",
       "      <td>1699.0</td>\n",
       "      <td>8508.0</td>\n",
       "      <td>1930.0</td>\n",
       "      <td>76.0</td>\n",
       "      <td>0.184901</td>\n",
       "      <td>0.042817</td>\n",
       "      <td>0.886141</td>\n",
       "      <td>0.595587</td>\n",
       "    </tr>\n",
       "    <tr>\n",
       "      <th>RandomForestClassifier</th>\n",
       "      <td>0.897814</td>\n",
       "      <td>1633.0</td>\n",
       "      <td>9332.0</td>\n",
       "      <td>1106.0</td>\n",
       "      <td>142.0</td>\n",
       "      <td>0.105959</td>\n",
       "      <td>0.080000</td>\n",
       "      <td>0.907021</td>\n",
       "      <td>0.687846</td>\n",
       "    </tr>\n",
       "    <tr>\n",
       "      <th>AdaBoostClassifier</th>\n",
       "      <td>0.861459</td>\n",
       "      <td>1679.0</td>\n",
       "      <td>8842.0</td>\n",
       "      <td>1596.0</td>\n",
       "      <td>96.0</td>\n",
       "      <td>0.152903</td>\n",
       "      <td>0.054085</td>\n",
       "      <td>0.896506</td>\n",
       "      <td>0.630902</td>\n",
       "    </tr>\n",
       "    <tr>\n",
       "      <th>GradientBoostingClassifier</th>\n",
       "      <td>0.876689</td>\n",
       "      <td>1665.0</td>\n",
       "      <td>9042.0</td>\n",
       "      <td>1396.0</td>\n",
       "      <td>110.0</td>\n",
       "      <td>0.133742</td>\n",
       "      <td>0.061972</td>\n",
       "      <td>0.902143</td>\n",
       "      <td>0.654077</td>\n",
       "    </tr>\n",
       "    <tr>\n",
       "      <th>ExtraTreeClassifier</th>\n",
       "      <td>0.902072</td>\n",
       "      <td>1635.0</td>\n",
       "      <td>9382.0</td>\n",
       "      <td>1056.0</td>\n",
       "      <td>140.0</td>\n",
       "      <td>0.101169</td>\n",
       "      <td>0.078873</td>\n",
       "      <td>0.909979</td>\n",
       "      <td>0.697234</td>\n",
       "    </tr>\n",
       "    <tr>\n",
       "      <th>BaggingClassifier</th>\n",
       "      <td>0.896094</td>\n",
       "      <td>1650.0</td>\n",
       "      <td>9294.0</td>\n",
       "      <td>1144.0</td>\n",
       "      <td>125.0</td>\n",
       "      <td>0.109600</td>\n",
       "      <td>0.070423</td>\n",
       "      <td>0.909989</td>\n",
       "      <td>0.688009</td>\n",
       "    </tr>\n",
       "    <tr>\n",
       "      <th>Neural Network-1</th>\n",
       "      <td>0.863179</td>\n",
       "      <td>1689.0</td>\n",
       "      <td>8853.0</td>\n",
       "      <td>1585.0</td>\n",
       "      <td>86.0</td>\n",
       "      <td>0.151849</td>\n",
       "      <td>0.048451</td>\n",
       "      <td>0.899850</td>\n",
       "      <td>0.636284</td>\n",
       "    </tr>\n",
       "  </tbody>\n",
       "</table>\n",
       "</div>"
      ],
      "text/plain": [
       "                            accuracy      TP      TN      FP      FN  \\\n",
       "index                                                                  \n",
       "KNeighborsClassifier        0.832719   288.0  9882.0   556.0  1487.0   \n",
       "LogisticRegression          0.835749  1699.0  8508.0  1930.0    76.0   \n",
       "RandomForestClassifier      0.897814  1633.0  9332.0  1106.0   142.0   \n",
       "AdaBoostClassifier          0.861459  1679.0  8842.0  1596.0    96.0   \n",
       "GradientBoostingClassifier  0.876689  1665.0  9042.0  1396.0   110.0   \n",
       "ExtraTreeClassifier         0.902072  1635.0  9382.0  1056.0   140.0   \n",
       "BaggingClassifier           0.896094  1650.0  9294.0  1144.0   125.0   \n",
       "Neural Network-1            0.863179  1689.0  8853.0  1585.0    86.0   \n",
       "\n",
       "                                 FPR       FNR       auc       mcc  \n",
       "index                                                               \n",
       "KNeighborsClassifier        0.053267  0.837746  0.554493  0.151443  \n",
       "LogisticRegression          0.184901  0.042817  0.886141  0.595587  \n",
       "RandomForestClassifier      0.105959  0.080000  0.907021  0.687846  \n",
       "AdaBoostClassifier          0.152903  0.054085  0.896506  0.630902  \n",
       "GradientBoostingClassifier  0.133742  0.061972  0.902143  0.654077  \n",
       "ExtraTreeClassifier         0.101169  0.078873  0.909979  0.697234  \n",
       "BaggingClassifier           0.109600  0.070423  0.909989  0.688009  \n",
       "Neural Network-1            0.151849  0.048451  0.899850  0.636284  "
      ]
     },
     "metadata": {},
     "output_type": "display_data"
    }
   ],
   "source": [
    "table_80_90_train['index']=ind_columns\n",
    "table_80_90_test['index']=ind_columns\n",
    "\n",
    "\n",
    "table_80_90_test.set_index(['index'],drop=True,inplace=True)\n",
    "table_80_90_train.set_index(['index'],drop=True,inplace=True)\n",
    "\n",
    "print(\"Training Results\")\n",
    "display(table_80_90_train)\n",
    "print(\"Test Results\")\n",
    "display(table_80_90_test)"
   ]
  },
  {
   "cell_type": "markdown",
   "metadata": {},
   "source": [
    "### <a id='3.B' style=\"text-decoration : none; color : #000000;\"> B. Average Feature Importances</a>"
   ]
  },
  {
   "cell_type": "code",
   "execution_count": 32,
   "metadata": {},
   "outputs": [
    {
     "data": {
      "application/vnd.plotly.v1+json": {
       "config": {
        "linkText": "Export to plot.ly",
        "plotlyServerURL": "https://plot.ly",
        "showLink": true
       },
       "data": [
        {
         "marker": {
          "color": "rgb(158,202,225)",
          "line": {
           "color": "rgb(8,48,107)",
           "width": 1.5
          }
         },
         "opacity": 0.6,
         "orientation": "h",
         "text": [
          0.1794,
          0.0807,
          0.0778,
          0.0702,
          0.0697,
          0.0513,
          0.0483,
          0.0363,
          0.0326,
          0.0323,
          0.0321,
          0.0293,
          0.0277,
          0.0251,
          0.0238,
          0.0188,
          0.0171,
          0.0169,
          0.0127,
          0.0114,
          0.0112,
          0.0111,
          0.0105,
          0.0095,
          0.0085,
          0.0083,
          0.0083,
          0.0083,
          0.0081,
          0.0068,
          0.0059,
          0.0052,
          0.0026,
          0.0024
         ],
         "textposition": "outside",
         "type": "bar",
         "uid": "413a1b7a-a147-4a58-baed-4645a09e61f3",
         "x": [
          0.17939747821538723,
          0.08066972551234351,
          0.07775450062539804,
          0.07022957823533983,
          0.06965206876716322,
          0.051303443087378726,
          0.048302655055686886,
          0.03631421684324066,
          0.03262030435219129,
          0.032345814224975546,
          0.03210852892599733,
          0.02926861303065749,
          0.02766081426894834,
          0.025140912750497384,
          0.02377032602716516,
          0.018794149249427378,
          0.01709359625596737,
          0.016937526208984026,
          0.012664209839207656,
          0.011368216155545018,
          0.011153832394565268,
          0.011104584085872192,
          0.01046185659342809,
          0.009527360622632097,
          0.00853447446578897,
          0.008298036686825973,
          0.008272140162422757,
          0.008268031682431013,
          0.008098252642754074,
          0.006790752642717255,
          0.005915507415368283,
          0.005166609498357464,
          0.002579055566428733,
          0.002432827908905747
         ],
         "y": [
          "div_count",
          "link_href_out_of_domain",
          "script_async_true",
          "meta_count",
          "a_href_https",
          "script_src_.js",
          "script_src_out_of_domain",
          "title_count",
          "br_count",
          "link_type_text/css",
          "img_src_out_of_domain",
          "a_href_http",
          "img_src_.jpg",
          "push",
          "p_count",
          "span_count",
          "section_count",
          "link_href_http",
          "form_action_http",
          "center_count",
          "link_href_.css",
          "li_count",
          "replace",
          "indexOf",
          "window.addEventListener",
          "link_type_application/rsd+xml",
          "escape",
          "link_rel_shortlink",
          "a_href_.com",
          "document.getElementById",
          "strong_count",
          "link_rel_https://api.w.org/",
          "get",
          "find"
         ]
        }
       ],
       "layout": {
        "autosize": false,
        "height": 1000,
        "width": 1000,
        "xaxis": {
         "tickfont": {
          "color": "black",
          "size": 12
         },
         "title": "Feature Importances"
        },
        "yaxis": {
         "automargin": true
        }
       }
      },
      "text/html": [
       "<div id=\"6f21bb4d-e1c1-418e-a1bb-688561f01f7f\" style=\"height: 1000px; width: 1000px;\" class=\"plotly-graph-div\"></div><script type=\"text/javascript\">require([\"plotly\"], function(Plotly) { window.PLOTLYENV=window.PLOTLYENV || {};window.PLOTLYENV.BASE_URL=\"https://plot.ly\";Plotly.newPlot(\"6f21bb4d-e1c1-418e-a1bb-688561f01f7f\", [{\"marker\": {\"color\": \"rgb(158,202,225)\", \"line\": {\"color\": \"rgb(8,48,107)\", \"width\": 1.5}}, \"opacity\": 0.6, \"orientation\": \"h\", \"text\": [0.1794, 0.0807, 0.0778, 0.0702, 0.0697, 0.0513, 0.0483, 0.0363, 0.0326, 0.0323, 0.0321, 0.0293, 0.0277, 0.0251, 0.0238, 0.0188, 0.0171, 0.0169, 0.0127, 0.0114, 0.0112, 0.0111, 0.0105, 0.0095, 0.0085, 0.0083, 0.0083, 0.0083, 0.0081, 0.0068, 0.0059, 0.0052, 0.0026, 0.0024], \"textposition\": \"outside\", \"x\": [0.17939747821538723, 0.08066972551234351, 0.07775450062539804, 0.07022957823533983, 0.06965206876716322, 0.051303443087378726, 0.048302655055686886, 0.03631421684324066, 0.03262030435219129, 0.032345814224975546, 0.03210852892599733, 0.02926861303065749, 0.02766081426894834, 0.025140912750497384, 0.02377032602716516, 0.018794149249427378, 0.01709359625596737, 0.016937526208984026, 0.012664209839207656, 0.011368216155545018, 0.011153832394565268, 0.011104584085872192, 0.01046185659342809, 0.009527360622632097, 0.00853447446578897, 0.008298036686825973, 0.008272140162422757, 0.008268031682431013, 0.008098252642754074, 0.006790752642717255, 0.005915507415368283, 0.005166609498357464, 0.002579055566428733, 0.002432827908905747], \"y\": [\"div_count\", \"link_href_out_of_domain\", \"script_async_true\", \"meta_count\", \"a_href_https\", \"script_src_.js\", \"script_src_out_of_domain\", \"title_count\", \"br_count\", \"link_type_text/css\", \"img_src_out_of_domain\", \"a_href_http\", \"img_src_.jpg\", \"push\", \"p_count\", \"span_count\", \"section_count\", \"link_href_http\", \"form_action_http\", \"center_count\", \"link_href_.css\", \"li_count\", \"replace\", \"indexOf\", \"window.addEventListener\", \"link_type_application/rsd+xml\", \"escape\", \"link_rel_shortlink\", \"a_href_.com\", \"document.getElementById\", \"strong_count\", \"link_rel_https://api.w.org/\", \"get\", \"find\"], \"type\": \"bar\", \"uid\": \"413a1b7a-a147-4a58-baed-4645a09e61f3\"}], {\"autosize\": false, \"height\": 1000, \"width\": 1000, \"xaxis\": {\"tickfont\": {\"color\": \"black\", \"size\": 12}, \"title\": \"Feature Importances\"}, \"yaxis\": {\"automargin\": true}}, {\"showLink\": true, \"linkText\": \"Export to plot.ly\", \"plotlyServerURL\": \"https://plot.ly\"})});</script>"
      ],
      "text/vnd.plotly.v1+html": [
       "<div id=\"6f21bb4d-e1c1-418e-a1bb-688561f01f7f\" style=\"height: 1000px; width: 1000px;\" class=\"plotly-graph-div\"></div><script type=\"text/javascript\">require([\"plotly\"], function(Plotly) { window.PLOTLYENV=window.PLOTLYENV || {};window.PLOTLYENV.BASE_URL=\"https://plot.ly\";Plotly.newPlot(\"6f21bb4d-e1c1-418e-a1bb-688561f01f7f\", [{\"marker\": {\"color\": \"rgb(158,202,225)\", \"line\": {\"color\": \"rgb(8,48,107)\", \"width\": 1.5}}, \"opacity\": 0.6, \"orientation\": \"h\", \"text\": [0.1794, 0.0807, 0.0778, 0.0702, 0.0697, 0.0513, 0.0483, 0.0363, 0.0326, 0.0323, 0.0321, 0.0293, 0.0277, 0.0251, 0.0238, 0.0188, 0.0171, 0.0169, 0.0127, 0.0114, 0.0112, 0.0111, 0.0105, 0.0095, 0.0085, 0.0083, 0.0083, 0.0083, 0.0081, 0.0068, 0.0059, 0.0052, 0.0026, 0.0024], \"textposition\": \"outside\", \"x\": [0.17939747821538723, 0.08066972551234351, 0.07775450062539804, 0.07022957823533983, 0.06965206876716322, 0.051303443087378726, 0.048302655055686886, 0.03631421684324066, 0.03262030435219129, 0.032345814224975546, 0.03210852892599733, 0.02926861303065749, 0.02766081426894834, 0.025140912750497384, 0.02377032602716516, 0.018794149249427378, 0.01709359625596737, 0.016937526208984026, 0.012664209839207656, 0.011368216155545018, 0.011153832394565268, 0.011104584085872192, 0.01046185659342809, 0.009527360622632097, 0.00853447446578897, 0.008298036686825973, 0.008272140162422757, 0.008268031682431013, 0.008098252642754074, 0.006790752642717255, 0.005915507415368283, 0.005166609498357464, 0.002579055566428733, 0.002432827908905747], \"y\": [\"div_count\", \"link_href_out_of_domain\", \"script_async_true\", \"meta_count\", \"a_href_https\", \"script_src_.js\", \"script_src_out_of_domain\", \"title_count\", \"br_count\", \"link_type_text/css\", \"img_src_out_of_domain\", \"a_href_http\", \"img_src_.jpg\", \"push\", \"p_count\", \"span_count\", \"section_count\", \"link_href_http\", \"form_action_http\", \"center_count\", \"link_href_.css\", \"li_count\", \"replace\", \"indexOf\", \"window.addEventListener\", \"link_type_application/rsd+xml\", \"escape\", \"link_rel_shortlink\", \"a_href_.com\", \"document.getElementById\", \"strong_count\", \"link_rel_https://api.w.org/\", \"get\", \"find\"], \"type\": \"bar\", \"uid\": \"413a1b7a-a147-4a58-baed-4645a09e61f3\"}], {\"autosize\": false, \"height\": 1000, \"width\": 1000, \"xaxis\": {\"tickfont\": {\"color\": \"black\", \"size\": 12}, \"title\": \"Feature Importances\"}, \"yaxis\": {\"automargin\": true}}, {\"showLink\": true, \"linkText\": \"Export to plot.ly\", \"plotlyServerURL\": \"https://plot.ly\"})});</script>"
      ]
     },
     "metadata": {},
     "output_type": "display_data"
    }
   ],
   "source": [
    "feat_impt_plot(np.average(feat_imp,axis=0),columns)"
   ]
  },
  {
   "cell_type": "markdown",
   "metadata": {},
   "source": [
    "### <a id='4' style=\"text-decoration : none; color : #000000;\">4. Feature Transformation with feature selection </a>"
   ]
  },
  {
   "cell_type": "code",
   "execution_count": 33,
   "metadata": {},
   "outputs": [
    {
     "name": "stdout",
     "output_type": "stream",
     "text": [
      "Built 2278 features\n",
      "EntitySet scattered to workers in 4.286 seconds\n",
      "Elapsed: 00:13 | Remaining: 00:00 | Progress: 100%|██████████| Calculated: 11/11 chunks\n"
     ]
    }
   ],
   "source": [
    "df_sel.reset_index(inplace=True)\n",
    "\n",
    "# columns=columns.tolist()\n",
    "columns.append('domain')\n",
    "\n",
    "df_min=df_sel[columns]\n",
    "\n",
    "es = ft.EntitySet(id = 'malicious')\n",
    "es.entity_from_dataframe(entity_id = 'data', dataframe = df_min, index = 'domain')\n",
    "\n",
    "feature_matrix_sessions, features_defs = ft.dfs(entityset=es,target_entity=\"data\",\n",
    "                                                trans_primitives = ['add','divide','multiply'],n_jobs=-1,\n",
    "                                                verbose=1,max_depth=1)"
   ]
  },
  {
   "cell_type": "code",
   "execution_count": 34,
   "metadata": {},
   "outputs": [],
   "source": [
    "df_sel.set_index(['domain'],drop=True,inplace=True)\n",
    "fs=pd.merge(feature_matrix_sessions,pd.DataFrame(df_sel.Target),left_index=True, right_index=True)\n",
    "fs.replace([np.inf],0,inplace=True)\n",
    "fs.fillna(value=0,inplace=True)"
   ]
  },
  {
   "cell_type": "code",
   "execution_count": 35,
   "metadata": {},
   "outputs": [],
   "source": [
    "X=fs.loc[:,fs.columns!='Target']\n",
    "y=fs.Target\n",
    "feature_name = X.columns.tolist()"
   ]
  },
  {
   "cell_type": "code",
   "execution_count": null,
   "metadata": {
    "scrolled": true
   },
   "outputs": [
    {
     "name": "stderr",
     "output_type": "stream",
     "text": [
      "distributed.client - ERROR - Failed to reconnect to scheduler after 10.00 seconds, closing client\n",
      "distributed.utils - ERROR - \n",
      "Traceback (most recent call last):\n",
      "  File \"/nethomes/darshan/anaconda3/lib/python3.6/site-packages/distributed/utils.py\", line 713, in log_errors\n",
      "    yield\n",
      "  File \"/nethomes/darshan/anaconda3/lib/python3.6/site-packages/distributed/client.py\", line 1223, in _close\n",
      "    quiet_exceptions=(CancelledError,),\n",
      "  File \"/nethomes/darshan/anaconda3/lib/python3.6/site-packages/tornado/gen.py\", line 584, in with_timeout\n",
      "    chain_future(future_converted, result)\n",
      "  File \"/nethomes/darshan/anaconda3/lib/python3.6/site-packages/tornado/concurrent.py\", line 166, in chain_future\n",
      "    future_add_done_callback(a, copy)\n",
      "  File \"/nethomes/darshan/anaconda3/lib/python3.6/site-packages/tornado/concurrent.py\", line 262, in future_add_done_callback\n",
      "    callback(future)\n",
      "  File \"/nethomes/darshan/anaconda3/lib/python3.6/site-packages/tornado/concurrent.py\", line 160, in copy\n",
      "    elif a.exception() is not None:\n",
      "concurrent.futures._base.CancelledError\n",
      "distributed.utils - ERROR - \n",
      "Traceback (most recent call last):\n",
      "  File \"/nethomes/darshan/anaconda3/lib/python3.6/site-packages/distributed/utils.py\", line 713, in log_errors\n",
      "    yield\n",
      "  File \"/nethomes/darshan/anaconda3/lib/python3.6/site-packages/distributed/client.py\", line 992, in _reconnect\n",
      "    yield self._close()\n",
      "  File \"/nethomes/darshan/anaconda3/lib/python3.6/site-packages/tornado/gen.py\", line 729, in run\n",
      "    value = future.result()\n",
      "  File \"/nethomes/darshan/anaconda3/lib/python3.6/site-packages/tornado/gen.py\", line 209, in wrapper\n",
      "    yielded = next(result)\n",
      "  File \"/nethomes/darshan/anaconda3/lib/python3.6/site-packages/distributed/client.py\", line 1223, in _close\n",
      "    quiet_exceptions=(CancelledError,),\n",
      "  File \"/nethomes/darshan/anaconda3/lib/python3.6/site-packages/tornado/gen.py\", line 584, in with_timeout\n",
      "    chain_future(future_converted, result)\n",
      "  File \"/nethomes/darshan/anaconda3/lib/python3.6/site-packages/tornado/concurrent.py\", line 166, in chain_future\n",
      "    future_add_done_callback(a, copy)\n",
      "  File \"/nethomes/darshan/anaconda3/lib/python3.6/site-packages/tornado/concurrent.py\", line 262, in future_add_done_callback\n",
      "    callback(future)\n",
      "  File \"/nethomes/darshan/anaconda3/lib/python3.6/site-packages/tornado/concurrent.py\", line 160, in copy\n",
      "    elif a.exception() is not None:\n",
      "concurrent.futures._base.CancelledError\n"
     ]
    }
   ],
   "source": [
    "def cor_selector(X, y):\n",
    "    cor_list = []\n",
    "    # calculate the correlation with y for each feature\n",
    "    for i in X.columns.tolist():\n",
    "        cor = np.corrcoef(X[i], y)[0, 1]\n",
    "        cor_list.append(cor)\n",
    "    # replace NaN with 0\n",
    "    cor_list = [0 if np.isnan(i) else i for i in cor_list]\n",
    "    # feature name\n",
    "    cor_feature = X.iloc[:,np.argsort(np.abs(cor_list))[-100:]].columns.tolist()\n",
    "    # feature selection? 0 for not select, 1 for select\n",
    "    cor_support = [True if i in cor_feature else False for i in feature_name]\n",
    "    return cor_support, cor_feature\n",
    "\n",
    "\n",
    "cor_support, cor_feature = cor_selector(X, y)\n",
    "\n",
    "\n",
    "\n",
    "X_norm = MinMaxScaler().fit_transform(X)\n",
    "chi_selector = SelectKBest(chi2, k=100)\n",
    "chi_selector.fit(X_norm, y)\n",
    "chi_support = chi_selector.get_support()\n",
    "chi_feature = X.loc[:,chi_support].columns.tolist()\n",
    "\n",
    "rfe_selector = RFE(estimator=LogisticRegression(random_state=0), n_features_to_select=100, step=0.3, verbose=False)\n",
    "rfe_selector.fit(X_norm, y)\n",
    "rfe_support = rfe_selector.get_support()\n",
    "rfe_feature = X.loc[:,rfe_support].columns.tolist()\n",
    "\n",
    "embeded_rf_selector = SelectFromModel(RandomForestClassifier(n_estimators=100,random_state=0), threshold='23*median')\n",
    "embeded_rf_selector.fit(X, y)\n",
    "embeded_rf_support = embeded_rf_selector.get_support()\n",
    "embeded_rf_feature = X.loc[:,embeded_rf_support].columns.tolist()\n",
    "\n",
    "feature_selection_df = pd.DataFrame({'Feature':feature_name, 'Pearson':cor_support, 'Chi-2':chi_support, 'RFE':rfe_support,\n",
    "                                    'Random Forest':embeded_rf_support})\n",
    "# count the selected times for each feature\n",
    "feature_selection_df['Total'] = np.sum(feature_selection_df, axis=1)\n",
    "# display the top 100\n",
    "feature_selection_df = feature_selection_df.sort_values(['Total','Feature'] , ascending=False)\n",
    "feature_selection_df.index = range(1, len(feature_selection_df)+1)"
   ]
  },
  {
   "cell_type": "code",
   "execution_count": null,
   "metadata": {},
   "outputs": [],
   "source": [
    "X=fs[feature_selection_df[feature_selection_df.Total>=3]['Feature']]\n",
    "X.fillna(value=0,inplace=True)\n",
    "y=fs.Target.values\n",
    "feature_name = X.columns.tolist()\n",
    "\n",
    "scaler=StandardScaler()\n",
    "scaled_X=scaler.fit_transform(X)\n",
    "\n",
    "print(\"The train/test split ratio is 70:30\")\n",
    "X_train, X_test, Y_train, Y_test = train_test_split(scaled_X,y,random_state=0,test_size=0.3)\n",
    "\n",
    "X.shape"
   ]
  },
  {
   "cell_type": "code",
   "execution_count": null,
   "metadata": {},
   "outputs": [],
   "source": [
    "print('Features we will be using:\\n')\n",
    "display(feature_name)"
   ]
  },
  {
   "cell_type": "code",
   "execution_count": 87,
   "metadata": {},
   "outputs": [],
   "source": [
    "fs=fs.reindex(df_sel.index.values)\n",
    "\n",
    "train=fs.iloc[:28496]\n",
    "train_Y=train.Target.values\n",
    "train_X=train[feature_name].values\n",
    "\n",
    "\n",
    "scaler=StandardScaler()\n",
    "scaled_X_train=scaler.fit_transform(train_X)\n",
    "\n",
    "test=fs.iloc[28496:]\n",
    "test_Y=test.Target.values\n",
    "test_X=test[feature_name]\n",
    "\n",
    "scaled_X_test=scaler.transform(test_X)"
   ]
  },
  {
   "cell_type": "code",
   "execution_count": 88,
   "metadata": {
    "scrolled": false
   },
   "outputs": [
    {
     "name": "stdout",
     "output_type": "stream",
     "text": [
      "\u001b[1mK-Nearest Neighbors\u001b[0m\n",
      "Accuracy of the model for training data is: 0.9104786636720943\n",
      "Confusion Matrix for training data is:\n"
     ]
    },
    {
     "name": "stderr",
     "output_type": "stream",
     "text": [
      "distributed.utils - ERROR - \n",
      "Traceback (most recent call last):\n",
      "  File \"/nethomes/darshan/anaconda3/lib/python3.6/site-packages/distributed/utils.py\", line 713, in log_errors\n",
      "    yield\n",
      "  File \"/nethomes/darshan/anaconda3/lib/python3.6/site-packages/distributed/client.py\", line 1223, in _close\n",
      "    quiet_exceptions=(CancelledError,),\n",
      "  File \"/nethomes/darshan/anaconda3/lib/python3.6/site-packages/tornado/gen.py\", line 584, in with_timeout\n",
      "    chain_future(future_converted, result)\n",
      "  File \"/nethomes/darshan/anaconda3/lib/python3.6/site-packages/tornado/concurrent.py\", line 166, in chain_future\n",
      "    future_add_done_callback(a, copy)\n",
      "  File \"/nethomes/darshan/anaconda3/lib/python3.6/site-packages/tornado/concurrent.py\", line 262, in future_add_done_callback\n",
      "    callback(future)\n",
      "  File \"/nethomes/darshan/anaconda3/lib/python3.6/site-packages/tornado/concurrent.py\", line 160, in copy\n",
      "    elif a.exception() is not None:\n",
      "concurrent.futures._base.CancelledError\n",
      "Exception ignored in: <bound method Client.__del__ of <Client: not connected>>\n",
      "Traceback (most recent call last):\n",
      "  File \"/nethomes/darshan/anaconda3/lib/python3.6/site-packages/distributed/client.py\", line 1075, in __del__\n",
      "    self.close()\n",
      "  File \"/nethomes/darshan/anaconda3/lib/python3.6/site-packages/distributed/client.py\", line 1290, in close\n",
      "    sync(self.loop, self._close, fast=True)\n",
      "  File \"/nethomes/darshan/anaconda3/lib/python3.6/site-packages/distributed/utils.py\", line 331, in sync\n",
      "    six.reraise(*error[0])\n",
      "  File \"/nethomes/darshan/anaconda3/lib/python3.6/site-packages/six.py\", line 693, in reraise\n",
      "    raise value\n",
      "  File \"/nethomes/darshan/anaconda3/lib/python3.6/site-packages/distributed/utils.py\", line 316, in f\n",
      "    result[0] = yield future\n",
      "  File \"/nethomes/darshan/anaconda3/lib/python3.6/site-packages/tornado/gen.py\", line 729, in run\n",
      "    value = future.result()\n",
      "  File \"/nethomes/darshan/anaconda3/lib/python3.6/site-packages/tornado/gen.py\", line 209, in wrapper\n",
      "    yielded = next(result)\n",
      "  File \"/nethomes/darshan/anaconda3/lib/python3.6/site-packages/distributed/client.py\", line 1223, in _close\n",
      "    quiet_exceptions=(CancelledError,),\n",
      "  File \"/nethomes/darshan/anaconda3/lib/python3.6/site-packages/tornado/gen.py\", line 584, in with_timeout\n",
      "    chain_future(future_converted, result)\n",
      "  File \"/nethomes/darshan/anaconda3/lib/python3.6/site-packages/tornado/concurrent.py\", line 166, in chain_future\n",
      "    future_add_done_callback(a, copy)\n",
      "  File \"/nethomes/darshan/anaconda3/lib/python3.6/site-packages/tornado/concurrent.py\", line 262, in future_add_done_callback\n",
      "    callback(future)\n",
      "  File \"/nethomes/darshan/anaconda3/lib/python3.6/site-packages/tornado/concurrent.py\", line 160, in copy\n",
      "    elif a.exception() is not None:\n",
      "concurrent.futures._base.CancelledError: \n"
     ]
    },
    {
     "data": {
      "text/plain": [
       "Predicted  False  True  __all__\n",
       "Actual                         \n",
       "False      22241  2099    24340\n",
       "True         452  3704     4156\n",
       "__all__    22693  5803    28496"
      ]
     },
     "metadata": {},
     "output_type": "display_data"
    },
    {
     "name": "stdout",
     "output_type": "stream",
     "text": [
      "Accuracy of the model for test data is: 0.9055105215753705\n",
      "Confusion Matrix for test data is:\n"
     ]
    },
    {
     "data": {
      "text/plain": [
       "Predicted  False  True  __all__\n",
       "Actual                         \n",
       "False       9498   940    10438\n",
       "True         214  1561     1775\n",
       "__all__     9712  2501    12213"
      ]
     },
     "metadata": {},
     "output_type": "display_data"
    },
    {
     "name": "stdout",
     "output_type": "stream",
     "text": [
      "\n",
      "\n",
      "\u001b[1mLogistic Regression\u001b[0m\n",
      "Accuracy of the model for training data is: 0.8921953958450309\n",
      "Confusion Matrix for training data is:\n"
     ]
    },
    {
     "data": {
      "text/plain": [
       "Predicted  False  True  __all__\n",
       "Actual                         \n",
       "False      22176  2164    24340\n",
       "True         908  3248     4156\n",
       "__all__    23084  5412    28496"
      ]
     },
     "metadata": {},
     "output_type": "display_data"
    },
    {
     "name": "stdout",
     "output_type": "stream",
     "text": [
      "Accuracy of the model for test data is: 0.8927372471956112\n",
      "Confusion Matrix for test data is:\n"
     ]
    },
    {
     "data": {
      "text/plain": [
       "Predicted  False  True  __all__\n",
       "Actual                         \n",
       "False       9491   947    10438\n",
       "True         363  1412     1775\n",
       "__all__     9854  2359    12213"
      ]
     },
     "metadata": {},
     "output_type": "display_data"
    },
    {
     "name": "stdout",
     "output_type": "stream",
     "text": [
      "\n",
      "\n",
      "\u001b[1mRandomForest Classifier\u001b[0m\n",
      "Accuracy of the model for training data is: 0.9223048848961257\n",
      "Confusion Matrix for training data is:\n"
     ]
    },
    {
     "data": {
      "text/plain": [
       "Predicted  False  True  __all__\n",
       "Actual                         \n",
       "False      22298  2042    24340\n",
       "True         172  3984     4156\n",
       "__all__    22470  6026    28496"
      ]
     },
     "metadata": {},
     "output_type": "display_data"
    },
    {
     "name": "stdout",
     "output_type": "stream",
     "text": [
      "Accuracy of the model for test data is: 0.9087038401703104\n",
      "Confusion Matrix for test data is:\n"
     ]
    },
    {
     "data": {
      "text/plain": [
       "Predicted  False  True  __all__\n",
       "Actual                         \n",
       "False       9514   924    10438\n",
       "True         191  1584     1775\n",
       "__all__     9705  2508    12213"
      ]
     },
     "metadata": {},
     "output_type": "display_data"
    },
    {
     "data": {
      "application/vnd.plotly.v1+json": {
       "config": {
        "linkText": "Export to plot.ly",
        "plotlyServerURL": "https://plot.ly",
        "showLink": true
       },
       "data": [
        {
         "marker": {
          "color": "rgb(158,202,225)",
          "line": {
           "color": "rgb(8,48,107)",
           "width": 1.5
          }
         },
         "opacity": 0.6,
         "orientation": "h",
         "text": [
          0.2107,
          0.0909,
          0.0872,
          0.0801,
          0.0787,
          0.0747,
          0.0644,
          0.064,
          0.0361,
          0.0276,
          0.021,
          0.0196,
          0.0167,
          0.0145,
          0.0141,
          0.0108,
          0.0098,
          0.0084,
          0.0077,
          0.0055,
          0.0054,
          0.0054,
          0.0054,
          0.0049,
          0.0047,
          0.0045,
          0.0044,
          0.004,
          0.0038,
          0.0038,
          0.0032,
          0.003,
          0.003,
          0.0017
         ],
         "textposition": "outside",
         "type": "bar",
         "uid": "ac5ec874-3efa-42c4-b8ca-a0745539e5ad",
         "x": [
          0.21067959251973387,
          0.09092894517201519,
          0.08723263276268457,
          0.08009517494669692,
          0.07870297845943408,
          0.0747477892637389,
          0.06441626854374108,
          0.06395323584622666,
          0.03605751492491699,
          0.027645399262284535,
          0.020950592700371067,
          0.019639706573863564,
          0.016728376074623953,
          0.014511443870882042,
          0.014119650283908802,
          0.01077693257518072,
          0.009818622279297895,
          0.008425147005773593,
          0.00773143097707552,
          0.0055239211017299675,
          0.005430422430158484,
          0.00540149852250337,
          0.005391377674733618,
          0.004889714678539376,
          0.004699159114201024,
          0.004485018109061896,
          0.004443606132786153,
          0.004023635969037916,
          0.003814943798486954,
          0.003751125512081074,
          0.0032260188662516743,
          0.0030202478019110447,
          0.002992376413597629,
          0.0017454998324698896
         ],
         "y": [
          "script_async_true + title_count",
          "div_count + .push",
          "div_count + p_count",
          "div_count + link_href_out_of_domain",
          "div_count + meta_count",
          "a_href_https + div_count",
          "script_src_.js + script_src_out_of_domain",
          "script_async_true + script_src_out_of_domain",
          "div_count + title_count",
          "a_href_http + div_count",
          "div_count + li_count",
          "div_count + img_src_out_of_domain",
          "div_count + script_async_true",
          "br_count + div_count",
          "link_type_text/css + script_src_.js",
          "div_count + img_src_.jpg",
          "center_count + script_src_.js",
          "img_src_.jpg + script_async_true",
          "window.addEventListener + script_src_.js",
          "center_count + script_src_out_of_domain",
          "window.addEventListener + script_src_out_of_domain",
          "form_action_http + script_src_.js",
          "link_type_application/rsd+xml + script_src_.js",
          "link_rel_shortlink + script_src_.js",
          "link_rel_shortlink + script_src_out_of_domain",
          "script_src_.js / title_count",
          "form_action_http + script_src_out_of_domain",
          "script_src_.js",
          "script_src_.js / link_href_.css",
          "link_rel_https://api.w.org/ + script_src_.js",
          "link_type_application/rsd+xml + script_src_out_of_domain",
          "script_src_out_of_domain",
          "link_rel_https://api.w.org/ + script_src_out_of_domain",
          "script_src_out_of_domain / title_count"
         ]
        }
       ],
       "layout": {
        "autosize": false,
        "height": 1000,
        "width": 1000,
        "xaxis": {
         "tickfont": {
          "color": "black",
          "size": 12
         },
         "title": "Feature Importances"
        },
        "yaxis": {
         "automargin": true
        }
       }
      },
      "text/html": [
       "<div id=\"64ea2777-02e9-4856-8a59-c1b929b97d13\" style=\"height: 1000px; width: 1000px;\" class=\"plotly-graph-div\"></div><script type=\"text/javascript\">require([\"plotly\"], function(Plotly) { window.PLOTLYENV=window.PLOTLYENV || {};window.PLOTLYENV.BASE_URL=\"https://plot.ly\";Plotly.newPlot(\"64ea2777-02e9-4856-8a59-c1b929b97d13\", [{\"marker\": {\"color\": \"rgb(158,202,225)\", \"line\": {\"color\": \"rgb(8,48,107)\", \"width\": 1.5}}, \"opacity\": 0.6, \"orientation\": \"h\", \"text\": [0.2107, 0.0909, 0.0872, 0.0801, 0.0787, 0.0747, 0.0644, 0.064, 0.0361, 0.0276, 0.021, 0.0196, 0.0167, 0.0145, 0.0141, 0.0108, 0.0098, 0.0084, 0.0077, 0.0055, 0.0054, 0.0054, 0.0054, 0.0049, 0.0047, 0.0045, 0.0044, 0.004, 0.0038, 0.0038, 0.0032, 0.003, 0.003, 0.0017], \"textposition\": \"outside\", \"x\": [0.21067959251973387, 0.09092894517201519, 0.08723263276268457, 0.08009517494669692, 0.07870297845943408, 0.0747477892637389, 0.06441626854374108, 0.06395323584622666, 0.03605751492491699, 0.027645399262284535, 0.020950592700371067, 0.019639706573863564, 0.016728376074623953, 0.014511443870882042, 0.014119650283908802, 0.01077693257518072, 0.009818622279297895, 0.008425147005773593, 0.00773143097707552, 0.0055239211017299675, 0.005430422430158484, 0.00540149852250337, 0.005391377674733618, 0.004889714678539376, 0.004699159114201024, 0.004485018109061896, 0.004443606132786153, 0.004023635969037916, 0.003814943798486954, 0.003751125512081074, 0.0032260188662516743, 0.0030202478019110447, 0.002992376413597629, 0.0017454998324698896], \"y\": [\"script_async_true + title_count\", \"div_count + .push\", \"div_count + p_count\", \"div_count + link_href_out_of_domain\", \"div_count + meta_count\", \"a_href_https + div_count\", \"script_src_.js + script_src_out_of_domain\", \"script_async_true + script_src_out_of_domain\", \"div_count + title_count\", \"a_href_http + div_count\", \"div_count + li_count\", \"div_count + img_src_out_of_domain\", \"div_count + script_async_true\", \"br_count + div_count\", \"link_type_text/css + script_src_.js\", \"div_count + img_src_.jpg\", \"center_count + script_src_.js\", \"img_src_.jpg + script_async_true\", \"window.addEventListener + script_src_.js\", \"center_count + script_src_out_of_domain\", \"window.addEventListener + script_src_out_of_domain\", \"form_action_http + script_src_.js\", \"link_type_application/rsd+xml + script_src_.js\", \"link_rel_shortlink + script_src_.js\", \"link_rel_shortlink + script_src_out_of_domain\", \"script_src_.js / title_count\", \"form_action_http + script_src_out_of_domain\", \"script_src_.js\", \"script_src_.js / link_href_.css\", \"link_rel_https://api.w.org/ + script_src_.js\", \"link_type_application/rsd+xml + script_src_out_of_domain\", \"script_src_out_of_domain\", \"link_rel_https://api.w.org/ + script_src_out_of_domain\", \"script_src_out_of_domain / title_count\"], \"type\": \"bar\", \"uid\": \"ac5ec874-3efa-42c4-b8ca-a0745539e5ad\"}], {\"autosize\": false, \"height\": 1000, \"width\": 1000, \"xaxis\": {\"tickfont\": {\"color\": \"black\", \"size\": 12}, \"title\": \"Feature Importances\"}, \"yaxis\": {\"automargin\": true}}, {\"showLink\": true, \"linkText\": \"Export to plot.ly\", \"plotlyServerURL\": \"https://plot.ly\"})});</script>"
      ],
      "text/vnd.plotly.v1+html": [
       "<div id=\"64ea2777-02e9-4856-8a59-c1b929b97d13\" style=\"height: 1000px; width: 1000px;\" class=\"plotly-graph-div\"></div><script type=\"text/javascript\">require([\"plotly\"], function(Plotly) { window.PLOTLYENV=window.PLOTLYENV || {};window.PLOTLYENV.BASE_URL=\"https://plot.ly\";Plotly.newPlot(\"64ea2777-02e9-4856-8a59-c1b929b97d13\", [{\"marker\": {\"color\": \"rgb(158,202,225)\", \"line\": {\"color\": \"rgb(8,48,107)\", \"width\": 1.5}}, \"opacity\": 0.6, \"orientation\": \"h\", \"text\": [0.2107, 0.0909, 0.0872, 0.0801, 0.0787, 0.0747, 0.0644, 0.064, 0.0361, 0.0276, 0.021, 0.0196, 0.0167, 0.0145, 0.0141, 0.0108, 0.0098, 0.0084, 0.0077, 0.0055, 0.0054, 0.0054, 0.0054, 0.0049, 0.0047, 0.0045, 0.0044, 0.004, 0.0038, 0.0038, 0.0032, 0.003, 0.003, 0.0017], \"textposition\": \"outside\", \"x\": [0.21067959251973387, 0.09092894517201519, 0.08723263276268457, 0.08009517494669692, 0.07870297845943408, 0.0747477892637389, 0.06441626854374108, 0.06395323584622666, 0.03605751492491699, 0.027645399262284535, 0.020950592700371067, 0.019639706573863564, 0.016728376074623953, 0.014511443870882042, 0.014119650283908802, 0.01077693257518072, 0.009818622279297895, 0.008425147005773593, 0.00773143097707552, 0.0055239211017299675, 0.005430422430158484, 0.00540149852250337, 0.005391377674733618, 0.004889714678539376, 0.004699159114201024, 0.004485018109061896, 0.004443606132786153, 0.004023635969037916, 0.003814943798486954, 0.003751125512081074, 0.0032260188662516743, 0.0030202478019110447, 0.002992376413597629, 0.0017454998324698896], \"y\": [\"script_async_true + title_count\", \"div_count + .push\", \"div_count + p_count\", \"div_count + link_href_out_of_domain\", \"div_count + meta_count\", \"a_href_https + div_count\", \"script_src_.js + script_src_out_of_domain\", \"script_async_true + script_src_out_of_domain\", \"div_count + title_count\", \"a_href_http + div_count\", \"div_count + li_count\", \"div_count + img_src_out_of_domain\", \"div_count + script_async_true\", \"br_count + div_count\", \"link_type_text/css + script_src_.js\", \"div_count + img_src_.jpg\", \"center_count + script_src_.js\", \"img_src_.jpg + script_async_true\", \"window.addEventListener + script_src_.js\", \"center_count + script_src_out_of_domain\", \"window.addEventListener + script_src_out_of_domain\", \"form_action_http + script_src_.js\", \"link_type_application/rsd+xml + script_src_.js\", \"link_rel_shortlink + script_src_.js\", \"link_rel_shortlink + script_src_out_of_domain\", \"script_src_.js / title_count\", \"form_action_http + script_src_out_of_domain\", \"script_src_.js\", \"script_src_.js / link_href_.css\", \"link_rel_https://api.w.org/ + script_src_.js\", \"link_type_application/rsd+xml + script_src_out_of_domain\", \"script_src_out_of_domain\", \"link_rel_https://api.w.org/ + script_src_out_of_domain\", \"script_src_out_of_domain / title_count\"], \"type\": \"bar\", \"uid\": \"ac5ec874-3efa-42c4-b8ca-a0745539e5ad\"}], {\"autosize\": false, \"height\": 1000, \"width\": 1000, \"xaxis\": {\"tickfont\": {\"color\": \"black\", \"size\": 12}, \"title\": \"Feature Importances\"}, \"yaxis\": {\"automargin\": true}}, {\"showLink\": true, \"linkText\": \"Export to plot.ly\", \"plotlyServerURL\": \"https://plot.ly\"})});</script>"
      ]
     },
     "metadata": {},
     "output_type": "display_data"
    },
    {
     "name": "stdout",
     "output_type": "stream",
     "text": [
      "\n",
      "\n",
      "\u001b[1mAdaoost Classifier\u001b[0m\n",
      "Accuracy of the model for training data is: 0.891598820887142\n",
      "Confusion Matrix for training data is:\n"
     ]
    },
    {
     "data": {
      "text/plain": [
       "Predicted  False  True  __all__\n",
       "Actual                         \n",
       "False      22174  2166    24340\n",
       "True         923  3233     4156\n",
       "__all__    23097  5399    28496"
      ]
     },
     "metadata": {},
     "output_type": "display_data"
    },
    {
     "name": "stdout",
     "output_type": "stream",
     "text": [
      "Accuracy of the model for test data is: 0.8920003275198559\n",
      "Confusion Matrix for test data is:\n"
     ]
    },
    {
     "data": {
      "text/plain": [
       "Predicted  False  True  __all__\n",
       "Actual                         \n",
       "False       9494   944    10438\n",
       "True         375  1400     1775\n",
       "__all__     9869  2344    12213"
      ]
     },
     "metadata": {},
     "output_type": "display_data"
    },
    {
     "data": {
      "application/vnd.plotly.v1+json": {
       "config": {
        "linkText": "Export to plot.ly",
        "plotlyServerURL": "https://plot.ly",
        "showLink": true
       },
       "data": [
        {
         "marker": {
          "color": "rgb(158,202,225)",
          "line": {
           "color": "rgb(8,48,107)",
           "width": 1.5
          }
         },
         "opacity": 0.6,
         "orientation": "h",
         "text": [
          0.18,
          0.14,
          0.12,
          0.12,
          0.06,
          0.06,
          0.06,
          0.04,
          0.04,
          0.02,
          0.02,
          0.02,
          0.02,
          0.02,
          0.02,
          0.02,
          0.02,
          0.02,
          0,
          0,
          0,
          0,
          0,
          0,
          0,
          0,
          0,
          0,
          0,
          0,
          0,
          0,
          0,
          0
         ],
         "textposition": "outside",
         "type": "bar",
         "uid": "2cf48a44-b05f-4ac2-9d67-1a4bfdb8b654",
         "x": [
          0.18,
          0.14,
          0.12,
          0.12,
          0.06,
          0.06,
          0.06,
          0.04,
          0.04,
          0.02,
          0.02,
          0.02,
          0.02,
          0.02,
          0.02,
          0.02,
          0.02,
          0.02,
          0,
          0,
          0,
          0,
          0,
          0,
          0,
          0,
          0,
          0,
          0,
          0,
          0,
          0,
          0,
          0
         ],
         "y": [
          "a_href_https + div_count",
          "script_async_true + title_count",
          "link_type_text/css + script_src_.js",
          "div_count + p_count",
          "center_count + script_src_out_of_domain",
          "window.addEventListener + script_src_out_of_domain",
          "a_href_http + div_count",
          "script_src_.js + script_src_out_of_domain",
          "img_src_.jpg + script_async_true",
          "script_src_.js / link_href_.css",
          "script_src_.js / title_count",
          "script_async_true + script_src_out_of_domain",
          "div_count + img_src_.jpg",
          "div_count + meta_count",
          "link_rel_https://api.w.org/ + script_src_out_of_domain",
          "center_count + script_src_.js",
          "form_action_http + script_src_out_of_domain",
          "window.addEventListener + script_src_.js",
          "div_count + title_count",
          "div_count + img_src_out_of_domain",
          "div_count + link_href_out_of_domain",
          "div_count + script_async_true",
          "br_count + div_count",
          "div_count + li_count",
          "form_action_http + script_src_.js",
          "div_count + .push",
          "link_rel_shortlink + script_src_.js",
          "link_rel_shortlink + script_src_out_of_domain",
          "link_type_application/rsd+xml + script_src_.js",
          "link_type_application/rsd+xml + script_src_out_of_domain",
          "script_src_.js",
          "script_src_out_of_domain",
          "script_src_out_of_domain / title_count",
          "link_rel_https://api.w.org/ + script_src_.js"
         ]
        }
       ],
       "layout": {
        "autosize": false,
        "height": 1000,
        "width": 1000,
        "xaxis": {
         "tickfont": {
          "color": "black",
          "size": 12
         },
         "title": "Feature Importances"
        },
        "yaxis": {
         "automargin": true
        }
       }
      },
      "text/html": [
       "<div id=\"56d45620-5e6a-43cc-ac51-4f1ccb863e0c\" style=\"height: 1000px; width: 1000px;\" class=\"plotly-graph-div\"></div><script type=\"text/javascript\">require([\"plotly\"], function(Plotly) { window.PLOTLYENV=window.PLOTLYENV || {};window.PLOTLYENV.BASE_URL=\"https://plot.ly\";Plotly.newPlot(\"56d45620-5e6a-43cc-ac51-4f1ccb863e0c\", [{\"marker\": {\"color\": \"rgb(158,202,225)\", \"line\": {\"color\": \"rgb(8,48,107)\", \"width\": 1.5}}, \"opacity\": 0.6, \"orientation\": \"h\", \"text\": [0.18, 0.14, 0.12, 0.12, 0.06, 0.06, 0.06, 0.04, 0.04, 0.02, 0.02, 0.02, 0.02, 0.02, 0.02, 0.02, 0.02, 0.02, 0.0, 0.0, 0.0, 0.0, 0.0, 0.0, 0.0, 0.0, 0.0, 0.0, 0.0, 0.0, 0.0, 0.0, 0.0, 0.0], \"textposition\": \"outside\", \"x\": [0.18, 0.14, 0.12, 0.12, 0.06, 0.06, 0.06, 0.04, 0.04, 0.02, 0.02, 0.02, 0.02, 0.02, 0.02, 0.02, 0.02, 0.02, 0.0, 0.0, 0.0, 0.0, 0.0, 0.0, 0.0, 0.0, 0.0, 0.0, 0.0, 0.0, 0.0, 0.0, 0.0, 0.0], \"y\": [\"a_href_https + div_count\", \"script_async_true + title_count\", \"link_type_text/css + script_src_.js\", \"div_count + p_count\", \"center_count + script_src_out_of_domain\", \"window.addEventListener + script_src_out_of_domain\", \"a_href_http + div_count\", \"script_src_.js + script_src_out_of_domain\", \"img_src_.jpg + script_async_true\", \"script_src_.js / link_href_.css\", \"script_src_.js / title_count\", \"script_async_true + script_src_out_of_domain\", \"div_count + img_src_.jpg\", \"div_count + meta_count\", \"link_rel_https://api.w.org/ + script_src_out_of_domain\", \"center_count + script_src_.js\", \"form_action_http + script_src_out_of_domain\", \"window.addEventListener + script_src_.js\", \"div_count + title_count\", \"div_count + img_src_out_of_domain\", \"div_count + link_href_out_of_domain\", \"div_count + script_async_true\", \"br_count + div_count\", \"div_count + li_count\", \"form_action_http + script_src_.js\", \"div_count + .push\", \"link_rel_shortlink + script_src_.js\", \"link_rel_shortlink + script_src_out_of_domain\", \"link_type_application/rsd+xml + script_src_.js\", \"link_type_application/rsd+xml + script_src_out_of_domain\", \"script_src_.js\", \"script_src_out_of_domain\", \"script_src_out_of_domain / title_count\", \"link_rel_https://api.w.org/ + script_src_.js\"], \"type\": \"bar\", \"uid\": \"2cf48a44-b05f-4ac2-9d67-1a4bfdb8b654\"}], {\"autosize\": false, \"height\": 1000, \"width\": 1000, \"xaxis\": {\"tickfont\": {\"color\": \"black\", \"size\": 12}, \"title\": \"Feature Importances\"}, \"yaxis\": {\"automargin\": true}}, {\"showLink\": true, \"linkText\": \"Export to plot.ly\", \"plotlyServerURL\": \"https://plot.ly\"})});</script>"
      ],
      "text/vnd.plotly.v1+html": [
       "<div id=\"56d45620-5e6a-43cc-ac51-4f1ccb863e0c\" style=\"height: 1000px; width: 1000px;\" class=\"plotly-graph-div\"></div><script type=\"text/javascript\">require([\"plotly\"], function(Plotly) { window.PLOTLYENV=window.PLOTLYENV || {};window.PLOTLYENV.BASE_URL=\"https://plot.ly\";Plotly.newPlot(\"56d45620-5e6a-43cc-ac51-4f1ccb863e0c\", [{\"marker\": {\"color\": \"rgb(158,202,225)\", \"line\": {\"color\": \"rgb(8,48,107)\", \"width\": 1.5}}, \"opacity\": 0.6, \"orientation\": \"h\", \"text\": [0.18, 0.14, 0.12, 0.12, 0.06, 0.06, 0.06, 0.04, 0.04, 0.02, 0.02, 0.02, 0.02, 0.02, 0.02, 0.02, 0.02, 0.02, 0.0, 0.0, 0.0, 0.0, 0.0, 0.0, 0.0, 0.0, 0.0, 0.0, 0.0, 0.0, 0.0, 0.0, 0.0, 0.0], \"textposition\": \"outside\", \"x\": [0.18, 0.14, 0.12, 0.12, 0.06, 0.06, 0.06, 0.04, 0.04, 0.02, 0.02, 0.02, 0.02, 0.02, 0.02, 0.02, 0.02, 0.02, 0.0, 0.0, 0.0, 0.0, 0.0, 0.0, 0.0, 0.0, 0.0, 0.0, 0.0, 0.0, 0.0, 0.0, 0.0, 0.0], \"y\": [\"a_href_https + div_count\", \"script_async_true + title_count\", \"link_type_text/css + script_src_.js\", \"div_count + p_count\", \"center_count + script_src_out_of_domain\", \"window.addEventListener + script_src_out_of_domain\", \"a_href_http + div_count\", \"script_src_.js + script_src_out_of_domain\", \"img_src_.jpg + script_async_true\", \"script_src_.js / link_href_.css\", \"script_src_.js / title_count\", \"script_async_true + script_src_out_of_domain\", \"div_count + img_src_.jpg\", \"div_count + meta_count\", \"link_rel_https://api.w.org/ + script_src_out_of_domain\", \"center_count + script_src_.js\", \"form_action_http + script_src_out_of_domain\", \"window.addEventListener + script_src_.js\", \"div_count + title_count\", \"div_count + img_src_out_of_domain\", \"div_count + link_href_out_of_domain\", \"div_count + script_async_true\", \"br_count + div_count\", \"div_count + li_count\", \"form_action_http + script_src_.js\", \"div_count + .push\", \"link_rel_shortlink + script_src_.js\", \"link_rel_shortlink + script_src_out_of_domain\", \"link_type_application/rsd+xml + script_src_.js\", \"link_type_application/rsd+xml + script_src_out_of_domain\", \"script_src_.js\", \"script_src_out_of_domain\", \"script_src_out_of_domain / title_count\", \"link_rel_https://api.w.org/ + script_src_.js\"], \"type\": \"bar\", \"uid\": \"2cf48a44-b05f-4ac2-9d67-1a4bfdb8b654\"}], {\"autosize\": false, \"height\": 1000, \"width\": 1000, \"xaxis\": {\"tickfont\": {\"color\": \"black\", \"size\": 12}, \"title\": \"Feature Importances\"}, \"yaxis\": {\"automargin\": true}}, {\"showLink\": true, \"linkText\": \"Export to plot.ly\", \"plotlyServerURL\": \"https://plot.ly\"})});</script>"
      ]
     },
     "metadata": {},
     "output_type": "display_data"
    },
    {
     "name": "stdout",
     "output_type": "stream",
     "text": [
      "\n",
      "\n",
      "\u001b[1mGradientBoosting Classifier\u001b[0m\n",
      "Accuracy of the model for training data is: 0.907741437394722\n",
      "Confusion Matrix for training data is:\n"
     ]
    },
    {
     "data": {
      "text/plain": [
       "Predicted  False  True  __all__\n",
       "Actual                         \n",
       "False      22327  2013    24340\n",
       "True         616  3540     4156\n",
       "__all__    22943  5553    28496"
      ]
     },
     "metadata": {},
     "output_type": "display_data"
    },
    {
     "name": "stdout",
     "output_type": "stream",
     "text": [
      "Accuracy of the model for test data is: 0.9049373618275608\n",
      "Confusion Matrix for test data is:\n"
     ]
    },
    {
     "data": {
      "text/plain": [
       "Predicted  False  True  __all__\n",
       "Actual                         \n",
       "False       9533   905    10438\n",
       "True         256  1519     1775\n",
       "__all__     9789  2424    12213"
      ]
     },
     "metadata": {},
     "output_type": "display_data"
    },
    {
     "data": {
      "application/vnd.plotly.v1+json": {
       "config": {
        "linkText": "Export to plot.ly",
        "plotlyServerURL": "https://plot.ly",
        "showLink": true
       },
       "data": [
        {
         "marker": {
          "color": "rgb(158,202,225)",
          "line": {
           "color": "rgb(8,48,107)",
           "width": 1.5
          }
         },
         "opacity": 0.6,
         "orientation": "h",
         "text": [
          0.6586,
          0.102,
          0.0468,
          0.0292,
          0.0258,
          0.023,
          0.0227,
          0.0178,
          0.0115,
          0.0097,
          0.0088,
          0.0048,
          0.0037,
          0.0036,
          0.0036,
          0.0032,
          0.0031,
          0.0029,
          0.0026,
          0.0025,
          0.0023,
          0.0023,
          0.0018,
          0.0016,
          0.0016,
          0.0015,
          0.0008,
          0.0007,
          0.0006,
          0.0002,
          0.0001,
          0.0001,
          0.0001,
          0.0001
         ],
         "textposition": "outside",
         "type": "bar",
         "uid": "26ee9e23-457e-441f-b53b-18b13901cc4b",
         "x": [
          0.6586459728288949,
          0.1019724520387312,
          0.04681822187239713,
          0.029166937389361446,
          0.02584017893450983,
          0.023040465419170698,
          0.022727046080402193,
          0.01780058756824347,
          0.011548325345318144,
          0.00972082690299309,
          0.008760914616151567,
          0.004790303197650459,
          0.003683316192707475,
          0.003638210397084485,
          0.0035671420605184164,
          0.003228866398629534,
          0.003120498618708262,
          0.002901269242668275,
          0.0025571563156713667,
          0.002534711019448467,
          0.002348276498570361,
          0.0023464223008251217,
          0.0017823160474634535,
          0.0016346759042066407,
          0.0015801156272507318,
          0.0014938439245619104,
          0.0007898875585641061,
          0.0006964907806836635,
          0.0005754184612760595,
          0.00022359745414371885,
          0.00014439422894730821,
          0.00013390668207949912,
          0.00010880819533033773,
          7.844389683674608e-05
         ],
         "y": [
          "script_async_true + title_count",
          "script_async_true + script_src_out_of_domain",
          "a_href_https + div_count",
          "center_count + script_src_.js",
          "div_count + p_count",
          "a_href_http + div_count",
          "div_count + .push",
          "div_count + title_count",
          "div_count + meta_count",
          "div_count + img_src_out_of_domain",
          "window.addEventListener + script_src_out_of_domain",
          "center_count + script_src_out_of_domain",
          "link_type_text/css + script_src_.js",
          "form_action_http + script_src_out_of_domain",
          "br_count + div_count",
          "div_count + img_src_.jpg",
          "script_src_.js + script_src_out_of_domain",
          "form_action_http + script_src_.js",
          "img_src_.jpg + script_async_true",
          "div_count + script_async_true",
          "window.addEventListener + script_src_.js",
          "div_count + link_href_out_of_domain",
          "div_count + li_count",
          "script_src_.js / link_href_.css",
          "link_rel_shortlink + script_src_.js",
          "link_type_application/rsd+xml + script_src_out_of_domain",
          "link_rel_shortlink + script_src_out_of_domain",
          "link_type_application/rsd+xml + script_src_.js",
          "link_rel_https://api.w.org/ + script_src_out_of_domain",
          "script_src_out_of_domain",
          "link_rel_https://api.w.org/ + script_src_.js",
          "script_src_.js",
          "script_src_.js / title_count",
          "script_src_out_of_domain / title_count"
         ]
        }
       ],
       "layout": {
        "autosize": false,
        "height": 1000,
        "width": 1000,
        "xaxis": {
         "tickfont": {
          "color": "black",
          "size": 12
         },
         "title": "Feature Importances"
        },
        "yaxis": {
         "automargin": true
        }
       }
      },
      "text/html": [
       "<div id=\"11b78bf0-9ff7-49c6-845d-5890aa922747\" style=\"height: 1000px; width: 1000px;\" class=\"plotly-graph-div\"></div><script type=\"text/javascript\">require([\"plotly\"], function(Plotly) { window.PLOTLYENV=window.PLOTLYENV || {};window.PLOTLYENV.BASE_URL=\"https://plot.ly\";Plotly.newPlot(\"11b78bf0-9ff7-49c6-845d-5890aa922747\", [{\"marker\": {\"color\": \"rgb(158,202,225)\", \"line\": {\"color\": \"rgb(8,48,107)\", \"width\": 1.5}}, \"opacity\": 0.6, \"orientation\": \"h\", \"text\": [0.6586, 0.102, 0.0468, 0.0292, 0.0258, 0.023, 0.0227, 0.0178, 0.0115, 0.0097, 0.0088, 0.0048, 0.0037, 0.0036, 0.0036, 0.0032, 0.0031, 0.0029, 0.0026, 0.0025, 0.0023, 0.0023, 0.0018, 0.0016, 0.0016, 0.0015, 0.0008, 0.0007, 0.0006, 0.0002, 0.0001, 0.0001, 0.0001, 0.0001], \"textposition\": \"outside\", \"x\": [0.6586459728288949, 0.1019724520387312, 0.04681822187239713, 0.029166937389361446, 0.02584017893450983, 0.023040465419170698, 0.022727046080402193, 0.01780058756824347, 0.011548325345318144, 0.00972082690299309, 0.008760914616151567, 0.004790303197650459, 0.003683316192707475, 0.003638210397084485, 0.0035671420605184164, 0.003228866398629534, 0.003120498618708262, 0.002901269242668275, 0.0025571563156713667, 0.002534711019448467, 0.002348276498570361, 0.0023464223008251217, 0.0017823160474634535, 0.0016346759042066407, 0.0015801156272507318, 0.0014938439245619104, 0.0007898875585641061, 0.0006964907806836635, 0.0005754184612760595, 0.00022359745414371885, 0.00014439422894730821, 0.00013390668207949912, 0.00010880819533033773, 7.844389683674608e-05], \"y\": [\"script_async_true + title_count\", \"script_async_true + script_src_out_of_domain\", \"a_href_https + div_count\", \"center_count + script_src_.js\", \"div_count + p_count\", \"a_href_http + div_count\", \"div_count + .push\", \"div_count + title_count\", \"div_count + meta_count\", \"div_count + img_src_out_of_domain\", \"window.addEventListener + script_src_out_of_domain\", \"center_count + script_src_out_of_domain\", \"link_type_text/css + script_src_.js\", \"form_action_http + script_src_out_of_domain\", \"br_count + div_count\", \"div_count + img_src_.jpg\", \"script_src_.js + script_src_out_of_domain\", \"form_action_http + script_src_.js\", \"img_src_.jpg + script_async_true\", \"div_count + script_async_true\", \"window.addEventListener + script_src_.js\", \"div_count + link_href_out_of_domain\", \"div_count + li_count\", \"script_src_.js / link_href_.css\", \"link_rel_shortlink + script_src_.js\", \"link_type_application/rsd+xml + script_src_out_of_domain\", \"link_rel_shortlink + script_src_out_of_domain\", \"link_type_application/rsd+xml + script_src_.js\", \"link_rel_https://api.w.org/ + script_src_out_of_domain\", \"script_src_out_of_domain\", \"link_rel_https://api.w.org/ + script_src_.js\", \"script_src_.js\", \"script_src_.js / title_count\", \"script_src_out_of_domain / title_count\"], \"type\": \"bar\", \"uid\": \"26ee9e23-457e-441f-b53b-18b13901cc4b\"}], {\"autosize\": false, \"height\": 1000, \"width\": 1000, \"xaxis\": {\"tickfont\": {\"color\": \"black\", \"size\": 12}, \"title\": \"Feature Importances\"}, \"yaxis\": {\"automargin\": true}}, {\"showLink\": true, \"linkText\": \"Export to plot.ly\", \"plotlyServerURL\": \"https://plot.ly\"})});</script>"
      ],
      "text/vnd.plotly.v1+html": [
       "<div id=\"11b78bf0-9ff7-49c6-845d-5890aa922747\" style=\"height: 1000px; width: 1000px;\" class=\"plotly-graph-div\"></div><script type=\"text/javascript\">require([\"plotly\"], function(Plotly) { window.PLOTLYENV=window.PLOTLYENV || {};window.PLOTLYENV.BASE_URL=\"https://plot.ly\";Plotly.newPlot(\"11b78bf0-9ff7-49c6-845d-5890aa922747\", [{\"marker\": {\"color\": \"rgb(158,202,225)\", \"line\": {\"color\": \"rgb(8,48,107)\", \"width\": 1.5}}, \"opacity\": 0.6, \"orientation\": \"h\", \"text\": [0.6586, 0.102, 0.0468, 0.0292, 0.0258, 0.023, 0.0227, 0.0178, 0.0115, 0.0097, 0.0088, 0.0048, 0.0037, 0.0036, 0.0036, 0.0032, 0.0031, 0.0029, 0.0026, 0.0025, 0.0023, 0.0023, 0.0018, 0.0016, 0.0016, 0.0015, 0.0008, 0.0007, 0.0006, 0.0002, 0.0001, 0.0001, 0.0001, 0.0001], \"textposition\": \"outside\", \"x\": [0.6586459728288949, 0.1019724520387312, 0.04681822187239713, 0.029166937389361446, 0.02584017893450983, 0.023040465419170698, 0.022727046080402193, 0.01780058756824347, 0.011548325345318144, 0.00972082690299309, 0.008760914616151567, 0.004790303197650459, 0.003683316192707475, 0.003638210397084485, 0.0035671420605184164, 0.003228866398629534, 0.003120498618708262, 0.002901269242668275, 0.0025571563156713667, 0.002534711019448467, 0.002348276498570361, 0.0023464223008251217, 0.0017823160474634535, 0.0016346759042066407, 0.0015801156272507318, 0.0014938439245619104, 0.0007898875585641061, 0.0006964907806836635, 0.0005754184612760595, 0.00022359745414371885, 0.00014439422894730821, 0.00013390668207949912, 0.00010880819533033773, 7.844389683674608e-05], \"y\": [\"script_async_true + title_count\", \"script_async_true + script_src_out_of_domain\", \"a_href_https + div_count\", \"center_count + script_src_.js\", \"div_count + p_count\", \"a_href_http + div_count\", \"div_count + .push\", \"div_count + title_count\", \"div_count + meta_count\", \"div_count + img_src_out_of_domain\", \"window.addEventListener + script_src_out_of_domain\", \"center_count + script_src_out_of_domain\", \"link_type_text/css + script_src_.js\", \"form_action_http + script_src_out_of_domain\", \"br_count + div_count\", \"div_count + img_src_.jpg\", \"script_src_.js + script_src_out_of_domain\", \"form_action_http + script_src_.js\", \"img_src_.jpg + script_async_true\", \"div_count + script_async_true\", \"window.addEventListener + script_src_.js\", \"div_count + link_href_out_of_domain\", \"div_count + li_count\", \"script_src_.js / link_href_.css\", \"link_rel_shortlink + script_src_.js\", \"link_type_application/rsd+xml + script_src_out_of_domain\", \"link_rel_shortlink + script_src_out_of_domain\", \"link_type_application/rsd+xml + script_src_.js\", \"link_rel_https://api.w.org/ + script_src_out_of_domain\", \"script_src_out_of_domain\", \"link_rel_https://api.w.org/ + script_src_.js\", \"script_src_.js\", \"script_src_.js / title_count\", \"script_src_out_of_domain / title_count\"], \"type\": \"bar\", \"uid\": \"26ee9e23-457e-441f-b53b-18b13901cc4b\"}], {\"autosize\": false, \"height\": 1000, \"width\": 1000, \"xaxis\": {\"tickfont\": {\"color\": \"black\", \"size\": 12}, \"title\": \"Feature Importances\"}, \"yaxis\": {\"automargin\": true}}, {\"showLink\": true, \"linkText\": \"Export to plot.ly\", \"plotlyServerURL\": \"https://plot.ly\"})});</script>"
      ]
     },
     "metadata": {},
     "output_type": "display_data"
    },
    {
     "name": "stdout",
     "output_type": "stream",
     "text": [
      "\n",
      "\n",
      "\u001b[1mExtraTree Classifier\u001b[0m\n",
      "Accuracy of the model for training data is: 0.9246911847276811\n",
      "Confusion Matrix for training data is:\n"
     ]
    },
    {
     "data": {
      "text/plain": [
       "Predicted  False  True  __all__\n",
       "Actual                         \n",
       "False      22301  2039    24340\n",
       "True         107  4049     4156\n",
       "__all__    22408  6088    28496"
      ]
     },
     "metadata": {},
     "output_type": "display_data"
    },
    {
     "name": "stdout",
     "output_type": "stream",
     "text": [
      "Accuracy of the model for test data is: 0.9085400802423647\n",
      "Confusion Matrix for test data is:\n"
     ]
    },
    {
     "data": {
      "text/plain": [
       "Predicted  False  True  __all__\n",
       "Actual                         \n",
       "False       9504   934    10438\n",
       "True         183  1592     1775\n",
       "__all__     9687  2526    12213"
      ]
     },
     "metadata": {},
     "output_type": "display_data"
    },
    {
     "data": {
      "application/vnd.plotly.v1+json": {
       "config": {
        "linkText": "Export to plot.ly",
        "plotlyServerURL": "https://plot.ly",
        "showLink": true
       },
       "data": [
        {
         "marker": {
          "color": "rgb(158,202,225)",
          "line": {
           "color": "rgb(8,48,107)",
           "width": 1.5
          }
         },
         "opacity": 0.6,
         "orientation": "h",
         "text": [
          0.1152,
          0.0919,
          0.0823,
          0.0719,
          0.0392,
          0.0365,
          0.0345,
          0.0326,
          0.0322,
          0.0314,
          0.0308,
          0.0286,
          0.0271,
          0.0264,
          0.0263,
          0.025,
          0.0234,
          0.0204,
          0.0196,
          0.0192,
          0.0188,
          0.0187,
          0.0179,
          0.0176,
          0.0144,
          0.0139,
          0.0135,
          0.0133,
          0.0131,
          0.013,
          0.0104,
          0.0101,
          0.0079,
          0.0029
         ],
         "textposition": "outside",
         "type": "bar",
         "uid": "9cf4b0bd-f37c-4ffb-8221-b3a065d2fc74",
         "x": [
          0.11522311476771445,
          0.09193636138167535,
          0.08231903367786733,
          0.07191572120380266,
          0.039191587099322814,
          0.036463076279873184,
          0.034532781422232636,
          0.03257668466201567,
          0.03217109021845189,
          0.03142347135726925,
          0.030798685206050714,
          0.028619198260441882,
          0.027086764133749875,
          0.026393621080352064,
          0.02634763399078458,
          0.025020787453955216,
          0.023405315753916158,
          0.020364600990008523,
          0.019583545747536363,
          0.01924955015317682,
          0.018803934232074857,
          0.01869098974790786,
          0.01793173021346297,
          0.017550549575393797,
          0.014372677703725023,
          0.013879020725368302,
          0.013493335378029658,
          0.013252982533849114,
          0.013063645999401522,
          0.012978333191482205,
          0.010410145073348835,
          0.010118299098319298,
          0.007930907321062403,
          0.0029008243663767755
         ],
         "y": [
          "link_type_text/css + script_src_.js",
          "script_async_true + title_count",
          "window.addEventListener + script_src_.js",
          "script_src_.js",
          "link_rel_shortlink + script_src_.js",
          "link_rel_https://api.w.org/ + script_src_out_of_domain",
          "link_rel_https://api.w.org/ + script_src_.js",
          "div_count + title_count",
          "window.addEventListener + script_src_out_of_domain",
          "script_src_out_of_domain",
          "div_count + .push",
          "script_src_.js / link_href_.css",
          "br_count + div_count",
          "a_href_http + div_count",
          "div_count + p_count",
          "center_count + script_src_.js",
          "div_count + meta_count",
          "link_type_application/rsd+xml + script_src_.js",
          "a_href_https + div_count",
          "form_action_http + script_src_.js",
          "div_count + link_href_out_of_domain",
          "center_count + script_src_out_of_domain",
          "div_count + script_async_true",
          "div_count + li_count",
          "link_type_application/rsd+xml + script_src_out_of_domain",
          "div_count + img_src_.jpg",
          "img_src_.jpg + script_async_true",
          "div_count + img_src_out_of_domain",
          "script_src_.js / title_count",
          "link_rel_shortlink + script_src_out_of_domain",
          "script_src_.js + script_src_out_of_domain",
          "script_async_true + script_src_out_of_domain",
          "form_action_http + script_src_out_of_domain",
          "script_src_out_of_domain / title_count"
         ]
        }
       ],
       "layout": {
        "autosize": false,
        "height": 1000,
        "width": 1000,
        "xaxis": {
         "tickfont": {
          "color": "black",
          "size": 12
         },
         "title": "Feature Importances"
        },
        "yaxis": {
         "automargin": true
        }
       }
      },
      "text/html": [
       "<div id=\"8fd3bb5a-7d81-4ddf-8518-12be65b4ae03\" style=\"height: 1000px; width: 1000px;\" class=\"plotly-graph-div\"></div><script type=\"text/javascript\">require([\"plotly\"], function(Plotly) { window.PLOTLYENV=window.PLOTLYENV || {};window.PLOTLYENV.BASE_URL=\"https://plot.ly\";Plotly.newPlot(\"8fd3bb5a-7d81-4ddf-8518-12be65b4ae03\", [{\"marker\": {\"color\": \"rgb(158,202,225)\", \"line\": {\"color\": \"rgb(8,48,107)\", \"width\": 1.5}}, \"opacity\": 0.6, \"orientation\": \"h\", \"text\": [0.1152, 0.0919, 0.0823, 0.0719, 0.0392, 0.0365, 0.0345, 0.0326, 0.0322, 0.0314, 0.0308, 0.0286, 0.0271, 0.0264, 0.0263, 0.025, 0.0234, 0.0204, 0.0196, 0.0192, 0.0188, 0.0187, 0.0179, 0.0176, 0.0144, 0.0139, 0.0135, 0.0133, 0.0131, 0.013, 0.0104, 0.0101, 0.0079, 0.0029], \"textposition\": \"outside\", \"x\": [0.11522311476771445, 0.09193636138167535, 0.08231903367786733, 0.07191572120380266, 0.039191587099322814, 0.036463076279873184, 0.034532781422232636, 0.03257668466201567, 0.03217109021845189, 0.03142347135726925, 0.030798685206050714, 0.028619198260441882, 0.027086764133749875, 0.026393621080352064, 0.02634763399078458, 0.025020787453955216, 0.023405315753916158, 0.020364600990008523, 0.019583545747536363, 0.01924955015317682, 0.018803934232074857, 0.01869098974790786, 0.01793173021346297, 0.017550549575393797, 0.014372677703725023, 0.013879020725368302, 0.013493335378029658, 0.013252982533849114, 0.013063645999401522, 0.012978333191482205, 0.010410145073348835, 0.010118299098319298, 0.007930907321062403, 0.0029008243663767755], \"y\": [\"link_type_text/css + script_src_.js\", \"script_async_true + title_count\", \"window.addEventListener + script_src_.js\", \"script_src_.js\", \"link_rel_shortlink + script_src_.js\", \"link_rel_https://api.w.org/ + script_src_out_of_domain\", \"link_rel_https://api.w.org/ + script_src_.js\", \"div_count + title_count\", \"window.addEventListener + script_src_out_of_domain\", \"script_src_out_of_domain\", \"div_count + .push\", \"script_src_.js / link_href_.css\", \"br_count + div_count\", \"a_href_http + div_count\", \"div_count + p_count\", \"center_count + script_src_.js\", \"div_count + meta_count\", \"link_type_application/rsd+xml + script_src_.js\", \"a_href_https + div_count\", \"form_action_http + script_src_.js\", \"div_count + link_href_out_of_domain\", \"center_count + script_src_out_of_domain\", \"div_count + script_async_true\", \"div_count + li_count\", \"link_type_application/rsd+xml + script_src_out_of_domain\", \"div_count + img_src_.jpg\", \"img_src_.jpg + script_async_true\", \"div_count + img_src_out_of_domain\", \"script_src_.js / title_count\", \"link_rel_shortlink + script_src_out_of_domain\", \"script_src_.js + script_src_out_of_domain\", \"script_async_true + script_src_out_of_domain\", \"form_action_http + script_src_out_of_domain\", \"script_src_out_of_domain / title_count\"], \"type\": \"bar\", \"uid\": \"9cf4b0bd-f37c-4ffb-8221-b3a065d2fc74\"}], {\"autosize\": false, \"height\": 1000, \"width\": 1000, \"xaxis\": {\"tickfont\": {\"color\": \"black\", \"size\": 12}, \"title\": \"Feature Importances\"}, \"yaxis\": {\"automargin\": true}}, {\"showLink\": true, \"linkText\": \"Export to plot.ly\", \"plotlyServerURL\": \"https://plot.ly\"})});</script>"
      ],
      "text/vnd.plotly.v1+html": [
       "<div id=\"8fd3bb5a-7d81-4ddf-8518-12be65b4ae03\" style=\"height: 1000px; width: 1000px;\" class=\"plotly-graph-div\"></div><script type=\"text/javascript\">require([\"plotly\"], function(Plotly) { window.PLOTLYENV=window.PLOTLYENV || {};window.PLOTLYENV.BASE_URL=\"https://plot.ly\";Plotly.newPlot(\"8fd3bb5a-7d81-4ddf-8518-12be65b4ae03\", [{\"marker\": {\"color\": \"rgb(158,202,225)\", \"line\": {\"color\": \"rgb(8,48,107)\", \"width\": 1.5}}, \"opacity\": 0.6, \"orientation\": \"h\", \"text\": [0.1152, 0.0919, 0.0823, 0.0719, 0.0392, 0.0365, 0.0345, 0.0326, 0.0322, 0.0314, 0.0308, 0.0286, 0.0271, 0.0264, 0.0263, 0.025, 0.0234, 0.0204, 0.0196, 0.0192, 0.0188, 0.0187, 0.0179, 0.0176, 0.0144, 0.0139, 0.0135, 0.0133, 0.0131, 0.013, 0.0104, 0.0101, 0.0079, 0.0029], \"textposition\": \"outside\", \"x\": [0.11522311476771445, 0.09193636138167535, 0.08231903367786733, 0.07191572120380266, 0.039191587099322814, 0.036463076279873184, 0.034532781422232636, 0.03257668466201567, 0.03217109021845189, 0.03142347135726925, 0.030798685206050714, 0.028619198260441882, 0.027086764133749875, 0.026393621080352064, 0.02634763399078458, 0.025020787453955216, 0.023405315753916158, 0.020364600990008523, 0.019583545747536363, 0.01924955015317682, 0.018803934232074857, 0.01869098974790786, 0.01793173021346297, 0.017550549575393797, 0.014372677703725023, 0.013879020725368302, 0.013493335378029658, 0.013252982533849114, 0.013063645999401522, 0.012978333191482205, 0.010410145073348835, 0.010118299098319298, 0.007930907321062403, 0.0029008243663767755], \"y\": [\"link_type_text/css + script_src_.js\", \"script_async_true + title_count\", \"window.addEventListener + script_src_.js\", \"script_src_.js\", \"link_rel_shortlink + script_src_.js\", \"link_rel_https://api.w.org/ + script_src_out_of_domain\", \"link_rel_https://api.w.org/ + script_src_.js\", \"div_count + title_count\", \"window.addEventListener + script_src_out_of_domain\", \"script_src_out_of_domain\", \"div_count + .push\", \"script_src_.js / link_href_.css\", \"br_count + div_count\", \"a_href_http + div_count\", \"div_count + p_count\", \"center_count + script_src_.js\", \"div_count + meta_count\", \"link_type_application/rsd+xml + script_src_.js\", \"a_href_https + div_count\", \"form_action_http + script_src_.js\", \"div_count + link_href_out_of_domain\", \"center_count + script_src_out_of_domain\", \"div_count + script_async_true\", \"div_count + li_count\", \"link_type_application/rsd+xml + script_src_out_of_domain\", \"div_count + img_src_.jpg\", \"img_src_.jpg + script_async_true\", \"div_count + img_src_out_of_domain\", \"script_src_.js / title_count\", \"link_rel_shortlink + script_src_out_of_domain\", \"script_src_.js + script_src_out_of_domain\", \"script_async_true + script_src_out_of_domain\", \"form_action_http + script_src_out_of_domain\", \"script_src_out_of_domain / title_count\"], \"type\": \"bar\", \"uid\": \"9cf4b0bd-f37c-4ffb-8221-b3a065d2fc74\"}], {\"autosize\": false, \"height\": 1000, \"width\": 1000, \"xaxis\": {\"tickfont\": {\"color\": \"black\", \"size\": 12}, \"title\": \"Feature Importances\"}, \"yaxis\": {\"automargin\": true}}, {\"showLink\": true, \"linkText\": \"Export to plot.ly\", \"plotlyServerURL\": \"https://plot.ly\"})});</script>"
      ]
     },
     "metadata": {},
     "output_type": "display_data"
    },
    {
     "name": "stdout",
     "output_type": "stream",
     "text": [
      "\n",
      "\n",
      "\u001b[1mBagging Classifier\u001b[0m\n",
      "Accuracy of the model for training data is: 0.9223048848961257\n",
      "Confusion Matrix for training data is:\n"
     ]
    },
    {
     "data": {
      "text/plain": [
       "Predicted  False  True  __all__\n",
       "Actual                         \n",
       "False      22298  2042    24340\n",
       "True         172  3984     4156\n",
       "__all__    22470  6026    28496"
      ]
     },
     "metadata": {},
     "output_type": "display_data"
    },
    {
     "name": "stdout",
     "output_type": "stream",
     "text": [
      "Accuracy of the model for test data is: 0.9072300008187997\n",
      "Confusion Matrix for test data is:\n"
     ]
    },
    {
     "data": {
      "text/plain": [
       "Predicted  False  True  __all__\n",
       "Actual                         \n",
       "False       9498   940    10438\n",
       "True         193  1582     1775\n",
       "__all__     9691  2522    12213"
      ]
     },
     "metadata": {},
     "output_type": "display_data"
    },
    {
     "name": "stdout",
     "output_type": "stream",
     "text": [
      "\n",
      "\n",
      "\u001b[1mNeural Network-1\u001b[0m\n",
      "The accuracy of the model on training data is: 0.8993542953396968\n"
     ]
    },
    {
     "data": {
      "text/plain": [
       "Predicted  False  True  __all__\n",
       "Actual                         \n",
       "False      22071  2269    24340\n",
       "True         599  3557     4156\n",
       "__all__    22670  5826    28496"
      ]
     },
     "metadata": {},
     "output_type": "display_data"
    },
    {
     "name": "stdout",
     "output_type": "stream",
     "text": [
      "The accuracy of the model on test data is: 0.8975681650700074\n"
     ]
    },
    {
     "data": {
      "text/plain": [
       "Predicted  False  True  __all__\n",
       "Actual                         \n",
       "False       9446   992    10438\n",
       "True         259  1516     1775\n",
       "__all__     9705  2508    12213"
      ]
     },
     "metadata": {},
     "output_type": "display_data"
    },
    {
     "name": "stdout",
     "output_type": "stream",
     "text": [
      "\n",
      "\n"
     ]
    }
   ],
   "source": [
    "## Table to store training and test measures so we can compare later\n",
    "table_80_60_train=pd.DataFrame(columns=['accuracy','TP','TN','FP','FN','FPR','FNR'])\n",
    "table_80_60_test=pd.DataFrame(columns=['accuracy','TP','TN','FP','FN','FPR','FNR','auc','mcc'])\n",
    "\n",
    "\n",
    "feat_imp=[None]*4\n",
    "j=0\n",
    "for i in range(0,8):\n",
    "    if i>=2 and i<=5:\n",
    "        model,cm_train,cm_test,acc_train,acc_test,roc_auc,feat_imp[j],mcc=f[i](scaled_X_train,train_Y,scaled_X_test,test_Y,feature_name)\n",
    "        j=j+1\n",
    "    else:\n",
    "        model,cm_train,cm_test,acc_train,acc_test,roc_auc,mcc=f[i](scaled_X_train,train_Y,scaled_X_test,test_Y)\n",
    "    table_80_60_train.loc[i]=   ([acc_train,cm_train.TP,cm_train.TN,cm_train.FP,cm_train.FN,cm_train.FPR,cm_train.FNR])\n",
    "    table_80_60_test.loc[i] =   ([acc_test ,cm_test.TP, cm_test.TN, cm_test.FP, cm_test.FN, cm_test.FPR, cm_test.FNR,roc_auc,mcc])\n",
    "    print(\"\\n\")"
   ]
  },
  {
   "cell_type": "markdown",
   "metadata": {},
   "source": [
    "### <a id='4.A' style=\"text-decoration : none; color : #000000;\"> A. Results</a>"
   ]
  },
  {
   "cell_type": "code",
   "execution_count": 89,
   "metadata": {},
   "outputs": [
    {
     "data": {
      "application/vnd.plotly.v1+json": {
       "config": {
        "linkText": "Export to plot.ly",
        "plotlyServerURL": "https://plot.ly",
        "showLink": true
       },
       "data": [
        {
         "mode": "lines",
         "name": "KNN_model",
         "type": "scatter",
         "uid": "cbc315e1-a6bd-4eca-8602-c1bc00c38f50",
         "x": [
          "accuracy",
          "FPR",
          "FNR",
          "auc"
         ],
         "y": [
          0.9055105215753705,
          0.09005556620042153,
          0.12056338028169014,
          0.8946905267589441
         ]
        },
        {
         "mode": "lines+markers",
         "name": "Logistic Regression",
         "type": "scatter",
         "uid": "9326de34-12fc-4cf7-93c5-7a410457a794",
         "x": [
          "accuracy",
          "FPR",
          "FNR",
          "auc"
         ],
         "y": [
          0.8927372471956112,
          0.09072619275723319,
          0.20450704225352112,
          0.8523833824946229
         ]
        },
        {
         "marker": {
          "symbol": "x"
         },
         "mode": "lines+markers",
         "name": "Random Forest",
         "type": "scatter",
         "uid": "d0505081-4191-4270-ad4c-2ac5e7995d1d",
         "x": [
          "accuracy",
          "FPR",
          "FNR",
          "auc"
         ],
         "y": [
          0.9087038401703104,
          0.08852270549913777,
          0.1076056338028169,
          0.9019358303490227
         ]
        },
        {
         "mode": "lines",
         "name": "Ada Boost",
         "type": "scatter",
         "uid": "f3266948-5a76-4021-82ef-9ab767f0b746",
         "x": [
          "accuracy",
          "FPR",
          "FNR",
          "auc"
         ],
         "y": [
          0.8920003275198559,
          0.09043878137574247,
          0.2112676056338028,
          0.8491468064952272
         ]
        },
        {
         "mode": "lines+markers",
         "name": "GradientBoosting",
         "type": "scatter",
         "uid": "79d33bf0-9149-4102-84bd-5e8b5a347214",
         "x": [
          "accuracy",
          "FPR",
          "FNR",
          "auc"
         ],
         "y": [
          0.9049373618275608,
          0.08670243341636329,
          0.14422535211267606,
          0.8845361072354804
         ]
        },
        {
         "marker": {
          "symbol": "x"
         },
         "mode": "lines+markers",
         "name": "ExtraTree Classifier",
         "type": "scatter",
         "uid": "f9b5e271-3dbe-4cea-a635-a0857e71faa7",
         "x": [
          "accuracy",
          "FPR",
          "FNR",
          "auc"
         ],
         "y": [
          0.9085400802423647,
          0.08948074343744013,
          0.10309859154929578,
          0.903710332506632
         ]
        },
        {
         "marker": {
          "symbol": "x"
         },
         "mode": "lines+markers",
         "name": "Bagging",
         "type": "scatter",
         "uid": "1b36fae1-6910-4878-949f-cc480c2ad5f8",
         "x": [
          "accuracy",
          "FPR",
          "FNR",
          "auc"
         ],
         "y": [
          0.9072300008187997,
          0.09005556620042153,
          0.10873239436619718,
          0.9006060197166906
         ]
        },
        {
         "marker": {
          "symbol": "x"
         },
         "mode": "lines+markers",
         "name": "Neural Network",
         "type": "scatter",
         "uid": "23ada3d9-79df-4a95-aa64-5e048d6e5fd8",
         "x": [
          "accuracy",
          "FPR",
          "FNR",
          "auc"
         ],
         "y": [
          0.8975681650700074,
          0.0950373634795938,
          0.14591549295774647,
          0.8795235717813298
         ]
        }
       ],
       "layout": {
        "title": "Result comparision for Features selected in Section 1",
        "yaxis": {
         "dtick": 0.05,
         "tick0": 0
        }
       }
      },
      "text/html": [
       "<div id=\"d69df332-d8cb-4169-9155-82d8d7a0885f\" style=\"height: 525px; width: 100%;\" class=\"plotly-graph-div\"></div><script type=\"text/javascript\">require([\"plotly\"], function(Plotly) { window.PLOTLYENV=window.PLOTLYENV || {};window.PLOTLYENV.BASE_URL=\"https://plot.ly\";Plotly.newPlot(\"d69df332-d8cb-4169-9155-82d8d7a0885f\", [{\"mode\": \"lines\", \"name\": \"KNN_model\", \"x\": [\"accuracy\", \"FPR\", \"FNR\", \"auc\"], \"y\": [0.9055105215753705, 0.09005556620042153, 0.12056338028169014, 0.8946905267589441], \"type\": \"scatter\", \"uid\": \"cbc315e1-a6bd-4eca-8602-c1bc00c38f50\"}, {\"mode\": \"lines+markers\", \"name\": \"Logistic Regression\", \"x\": [\"accuracy\", \"FPR\", \"FNR\", \"auc\"], \"y\": [0.8927372471956112, 0.09072619275723319, 0.20450704225352112, 0.8523833824946229], \"type\": \"scatter\", \"uid\": \"9326de34-12fc-4cf7-93c5-7a410457a794\"}, {\"marker\": {\"symbol\": \"x\"}, \"mode\": \"lines+markers\", \"name\": \"Random Forest\", \"x\": [\"accuracy\", \"FPR\", \"FNR\", \"auc\"], \"y\": [0.9087038401703104, 0.08852270549913777, 0.1076056338028169, 0.9019358303490227], \"type\": \"scatter\", \"uid\": \"d0505081-4191-4270-ad4c-2ac5e7995d1d\"}, {\"mode\": \"lines\", \"name\": \"Ada Boost\", \"x\": [\"accuracy\", \"FPR\", \"FNR\", \"auc\"], \"y\": [0.8920003275198559, 0.09043878137574247, 0.2112676056338028, 0.8491468064952272], \"type\": \"scatter\", \"uid\": \"f3266948-5a76-4021-82ef-9ab767f0b746\"}, {\"mode\": \"lines+markers\", \"name\": \"GradientBoosting\", \"x\": [\"accuracy\", \"FPR\", \"FNR\", \"auc\"], \"y\": [0.9049373618275608, 0.08670243341636329, 0.14422535211267606, 0.8845361072354804], \"type\": \"scatter\", \"uid\": \"79d33bf0-9149-4102-84bd-5e8b5a347214\"}, {\"marker\": {\"symbol\": \"x\"}, \"mode\": \"lines+markers\", \"name\": \"ExtraTree Classifier\", \"x\": [\"accuracy\", \"FPR\", \"FNR\", \"auc\"], \"y\": [0.9085400802423647, 0.08948074343744013, 0.10309859154929578, 0.903710332506632], \"type\": \"scatter\", \"uid\": \"f9b5e271-3dbe-4cea-a635-a0857e71faa7\"}, {\"marker\": {\"symbol\": \"x\"}, \"mode\": \"lines+markers\", \"name\": \"Bagging\", \"x\": [\"accuracy\", \"FPR\", \"FNR\", \"auc\"], \"y\": [0.9072300008187997, 0.09005556620042153, 0.10873239436619718, 0.9006060197166906], \"type\": \"scatter\", \"uid\": \"1b36fae1-6910-4878-949f-cc480c2ad5f8\"}, {\"marker\": {\"symbol\": \"x\"}, \"mode\": \"lines+markers\", \"name\": \"Neural Network\", \"x\": [\"accuracy\", \"FPR\", \"FNR\", \"auc\"], \"y\": [0.8975681650700074, 0.0950373634795938, 0.14591549295774647, 0.8795235717813298], \"type\": \"scatter\", \"uid\": \"23ada3d9-79df-4a95-aa64-5e048d6e5fd8\"}], {\"title\": \"Result comparision for Features selected in Section 1\", \"yaxis\": {\"dtick\": 0.05, \"tick0\": 0}}, {\"showLink\": true, \"linkText\": \"Export to plot.ly\", \"plotlyServerURL\": \"https://plot.ly\"})});</script><script type=\"text/javascript\">window.addEventListener(\"resize\", function(){window._Plotly.Plots.resize(document.getElementById(\"d69df332-d8cb-4169-9155-82d8d7a0885f\"));});</script>"
      ],
      "text/vnd.plotly.v1+html": [
       "<div id=\"d69df332-d8cb-4169-9155-82d8d7a0885f\" style=\"height: 525px; width: 100%;\" class=\"plotly-graph-div\"></div><script type=\"text/javascript\">require([\"plotly\"], function(Plotly) { window.PLOTLYENV=window.PLOTLYENV || {};window.PLOTLYENV.BASE_URL=\"https://plot.ly\";Plotly.newPlot(\"d69df332-d8cb-4169-9155-82d8d7a0885f\", [{\"mode\": \"lines\", \"name\": \"KNN_model\", \"x\": [\"accuracy\", \"FPR\", \"FNR\", \"auc\"], \"y\": [0.9055105215753705, 0.09005556620042153, 0.12056338028169014, 0.8946905267589441], \"type\": \"scatter\", \"uid\": \"cbc315e1-a6bd-4eca-8602-c1bc00c38f50\"}, {\"mode\": \"lines+markers\", \"name\": \"Logistic Regression\", \"x\": [\"accuracy\", \"FPR\", \"FNR\", \"auc\"], \"y\": [0.8927372471956112, 0.09072619275723319, 0.20450704225352112, 0.8523833824946229], \"type\": \"scatter\", \"uid\": \"9326de34-12fc-4cf7-93c5-7a410457a794\"}, {\"marker\": {\"symbol\": \"x\"}, \"mode\": \"lines+markers\", \"name\": \"Random Forest\", \"x\": [\"accuracy\", \"FPR\", \"FNR\", \"auc\"], \"y\": [0.9087038401703104, 0.08852270549913777, 0.1076056338028169, 0.9019358303490227], \"type\": \"scatter\", \"uid\": \"d0505081-4191-4270-ad4c-2ac5e7995d1d\"}, {\"mode\": \"lines\", \"name\": \"Ada Boost\", \"x\": [\"accuracy\", \"FPR\", \"FNR\", \"auc\"], \"y\": [0.8920003275198559, 0.09043878137574247, 0.2112676056338028, 0.8491468064952272], \"type\": \"scatter\", \"uid\": \"f3266948-5a76-4021-82ef-9ab767f0b746\"}, {\"mode\": \"lines+markers\", \"name\": \"GradientBoosting\", \"x\": [\"accuracy\", \"FPR\", \"FNR\", \"auc\"], \"y\": [0.9049373618275608, 0.08670243341636329, 0.14422535211267606, 0.8845361072354804], \"type\": \"scatter\", \"uid\": \"79d33bf0-9149-4102-84bd-5e8b5a347214\"}, {\"marker\": {\"symbol\": \"x\"}, \"mode\": \"lines+markers\", \"name\": \"ExtraTree Classifier\", \"x\": [\"accuracy\", \"FPR\", \"FNR\", \"auc\"], \"y\": [0.9085400802423647, 0.08948074343744013, 0.10309859154929578, 0.903710332506632], \"type\": \"scatter\", \"uid\": \"f9b5e271-3dbe-4cea-a635-a0857e71faa7\"}, {\"marker\": {\"symbol\": \"x\"}, \"mode\": \"lines+markers\", \"name\": \"Bagging\", \"x\": [\"accuracy\", \"FPR\", \"FNR\", \"auc\"], \"y\": [0.9072300008187997, 0.09005556620042153, 0.10873239436619718, 0.9006060197166906], \"type\": \"scatter\", \"uid\": \"1b36fae1-6910-4878-949f-cc480c2ad5f8\"}, {\"marker\": {\"symbol\": \"x\"}, \"mode\": \"lines+markers\", \"name\": \"Neural Network\", \"x\": [\"accuracy\", \"FPR\", \"FNR\", \"auc\"], \"y\": [0.8975681650700074, 0.0950373634795938, 0.14591549295774647, 0.8795235717813298], \"type\": \"scatter\", \"uid\": \"23ada3d9-79df-4a95-aa64-5e048d6e5fd8\"}], {\"title\": \"Result comparision for Features selected in Section 1\", \"yaxis\": {\"dtick\": 0.05, \"tick0\": 0}}, {\"showLink\": true, \"linkText\": \"Export to plot.ly\", \"plotlyServerURL\": \"https://plot.ly\"})});</script><script type=\"text/javascript\">window.addEventListener(\"resize\", function(){window._Plotly.Plots.resize(document.getElementById(\"d69df332-d8cb-4169-9155-82d8d7a0885f\"));});</script>"
      ]
     },
     "metadata": {},
     "output_type": "display_data"
    }
   ],
   "source": [
    "trace0 = go.Scatter(x=table_80_60_test.iloc[0].index.values[[0,5,6,7]],\n",
    "                    y=table_80_60_test.iloc[0].values[[0,5,6,7]],\n",
    "                    mode = 'lines',\n",
    "                    name = 'KNN_model')\n",
    "\n",
    "trace1 = go.Scatter(x=table_80_60_test.iloc[1].index.values[[0,5,6,7]],\n",
    "                    y=table_80_60_test.iloc[1].values[[0,5,6,7]],\n",
    "                    mode = 'lines+markers',\n",
    "                    name = 'Logistic Regression')\n",
    "\n",
    "trace2 = go.Scatter(x=table_80_60_test.iloc[2].index.values[[0,5,6,7]],\n",
    "                    y=table_80_60_test.iloc[2].values[[0,5,6,7]],\n",
    "                    mode = 'lines+markers',marker=dict(symbol='x'),\n",
    "                    name = 'Random Forest')\n",
    "\n",
    "\n",
    "trace3 = go.Scatter(x=table_80_60_test.iloc[3].index.values[[0,5,6,7]],\n",
    "                    y=table_80_60_test.iloc[3].values[[0,5,6,7]],\n",
    "                    mode = 'lines',\n",
    "                    name = 'Ada Boost')\n",
    "\n",
    "trace4 = go.Scatter(x=table_80_60_test.iloc[4].index.values[[0,5,6,7]],\n",
    "                    y=table_80_60_test.iloc[4].values[[0,5,6,7]],\n",
    "                    mode = 'lines+markers',\n",
    "                    name = 'GradientBoosting')\n",
    "\n",
    "trace5 = go.Scatter(x=table_80_60_test.iloc[5].index.values[[0,5,6,7]],\n",
    "                    y=table_80_60_test.iloc[5].values[[0,5,6,7]],\n",
    "                    mode = 'lines+markers',marker=dict(symbol='x'),\n",
    "                    name = 'ExtraTree Classifier')\n",
    "\n",
    "trace6 = go.Scatter(x=table_80_60_test.iloc[6].index.values[[0,5,6,7]],\n",
    "                    y=table_80_60_test.iloc[6].values[[0,5,6,7]],\n",
    "                    mode = 'lines+markers',marker=dict(symbol='x'),\n",
    "                    name = 'Bagging')\n",
    "\n",
    "trace7 = go.Scatter(x=table_80_60_test.iloc[7].index.values[[0,5,6,7]],\n",
    "                    y=table_80_60_test.iloc[7].values[[0,5,6,7]],\n",
    "                    mode = 'lines+markers',marker=dict(symbol='x'),\n",
    "                    name = 'Neural Network')\n",
    "\n",
    "\n",
    "\n",
    "data = [trace0, trace1, trace2, trace3, trace4, trace5, trace6, trace7]\n",
    "layout = go.Layout(yaxis=dict(tick0=0,dtick=0.05),title='Result comparision for Features selected in Section 1')\n",
    "fig = go.Figure(data=data, layout=layout)\n",
    "\n",
    "iplot(fig, filename='Result')"
   ]
  },
  {
   "cell_type": "code",
   "execution_count": 90,
   "metadata": {},
   "outputs": [
    {
     "name": "stdout",
     "output_type": "stream",
     "text": [
      "Training Results\n"
     ]
    },
    {
     "data": {
      "text/html": [
       "<div>\n",
       "<style scoped>\n",
       "    .dataframe tbody tr th:only-of-type {\n",
       "        vertical-align: middle;\n",
       "    }\n",
       "\n",
       "    .dataframe tbody tr th {\n",
       "        vertical-align: top;\n",
       "    }\n",
       "\n",
       "    .dataframe thead th {\n",
       "        text-align: right;\n",
       "    }\n",
       "</style>\n",
       "<table border=\"1\" class=\"dataframe\">\n",
       "  <thead>\n",
       "    <tr style=\"text-align: right;\">\n",
       "      <th></th>\n",
       "      <th>accuracy</th>\n",
       "      <th>TP</th>\n",
       "      <th>TN</th>\n",
       "      <th>FP</th>\n",
       "      <th>FN</th>\n",
       "      <th>FPR</th>\n",
       "      <th>FNR</th>\n",
       "    </tr>\n",
       "    <tr>\n",
       "      <th>index</th>\n",
       "      <th></th>\n",
       "      <th></th>\n",
       "      <th></th>\n",
       "      <th></th>\n",
       "      <th></th>\n",
       "      <th></th>\n",
       "      <th></th>\n",
       "    </tr>\n",
       "  </thead>\n",
       "  <tbody>\n",
       "    <tr>\n",
       "      <th>KNeighborsClassifier</th>\n",
       "      <td>0.910479</td>\n",
       "      <td>3704.0</td>\n",
       "      <td>22241.0</td>\n",
       "      <td>2099.0</td>\n",
       "      <td>452.0</td>\n",
       "      <td>0.086237</td>\n",
       "      <td>0.108758</td>\n",
       "    </tr>\n",
       "    <tr>\n",
       "      <th>LogisticRegression</th>\n",
       "      <td>0.892195</td>\n",
       "      <td>3248.0</td>\n",
       "      <td>22176.0</td>\n",
       "      <td>2164.0</td>\n",
       "      <td>908.0</td>\n",
       "      <td>0.088907</td>\n",
       "      <td>0.218479</td>\n",
       "    </tr>\n",
       "    <tr>\n",
       "      <th>RandomForestClassifier</th>\n",
       "      <td>0.922305</td>\n",
       "      <td>3984.0</td>\n",
       "      <td>22298.0</td>\n",
       "      <td>2042.0</td>\n",
       "      <td>172.0</td>\n",
       "      <td>0.083895</td>\n",
       "      <td>0.041386</td>\n",
       "    </tr>\n",
       "    <tr>\n",
       "      <th>AdaBoostClassifier</th>\n",
       "      <td>0.891599</td>\n",
       "      <td>3233.0</td>\n",
       "      <td>22174.0</td>\n",
       "      <td>2166.0</td>\n",
       "      <td>923.0</td>\n",
       "      <td>0.088989</td>\n",
       "      <td>0.222089</td>\n",
       "    </tr>\n",
       "    <tr>\n",
       "      <th>GradientBoostingClassifier</th>\n",
       "      <td>0.907741</td>\n",
       "      <td>3540.0</td>\n",
       "      <td>22327.0</td>\n",
       "      <td>2013.0</td>\n",
       "      <td>616.0</td>\n",
       "      <td>0.082703</td>\n",
       "      <td>0.148219</td>\n",
       "    </tr>\n",
       "    <tr>\n",
       "      <th>ExtraTreeClassifier</th>\n",
       "      <td>0.924691</td>\n",
       "      <td>4049.0</td>\n",
       "      <td>22301.0</td>\n",
       "      <td>2039.0</td>\n",
       "      <td>107.0</td>\n",
       "      <td>0.083772</td>\n",
       "      <td>0.025746</td>\n",
       "    </tr>\n",
       "    <tr>\n",
       "      <th>BaggingClassifier</th>\n",
       "      <td>0.922305</td>\n",
       "      <td>3984.0</td>\n",
       "      <td>22298.0</td>\n",
       "      <td>2042.0</td>\n",
       "      <td>172.0</td>\n",
       "      <td>0.083895</td>\n",
       "      <td>0.041386</td>\n",
       "    </tr>\n",
       "    <tr>\n",
       "      <th>Neural Network-1</th>\n",
       "      <td>0.899354</td>\n",
       "      <td>3557.0</td>\n",
       "      <td>22071.0</td>\n",
       "      <td>2269.0</td>\n",
       "      <td>599.0</td>\n",
       "      <td>0.093221</td>\n",
       "      <td>0.144129</td>\n",
       "    </tr>\n",
       "  </tbody>\n",
       "</table>\n",
       "</div>"
      ],
      "text/plain": [
       "                            accuracy      TP       TN      FP     FN  \\\n",
       "index                                                                  \n",
       "KNeighborsClassifier        0.910479  3704.0  22241.0  2099.0  452.0   \n",
       "LogisticRegression          0.892195  3248.0  22176.0  2164.0  908.0   \n",
       "RandomForestClassifier      0.922305  3984.0  22298.0  2042.0  172.0   \n",
       "AdaBoostClassifier          0.891599  3233.0  22174.0  2166.0  923.0   \n",
       "GradientBoostingClassifier  0.907741  3540.0  22327.0  2013.0  616.0   \n",
       "ExtraTreeClassifier         0.924691  4049.0  22301.0  2039.0  107.0   \n",
       "BaggingClassifier           0.922305  3984.0  22298.0  2042.0  172.0   \n",
       "Neural Network-1            0.899354  3557.0  22071.0  2269.0  599.0   \n",
       "\n",
       "                                 FPR       FNR  \n",
       "index                                           \n",
       "KNeighborsClassifier        0.086237  0.108758  \n",
       "LogisticRegression          0.088907  0.218479  \n",
       "RandomForestClassifier      0.083895  0.041386  \n",
       "AdaBoostClassifier          0.088989  0.222089  \n",
       "GradientBoostingClassifier  0.082703  0.148219  \n",
       "ExtraTreeClassifier         0.083772  0.025746  \n",
       "BaggingClassifier           0.083895  0.041386  \n",
       "Neural Network-1            0.093221  0.144129  "
      ]
     },
     "metadata": {},
     "output_type": "display_data"
    },
    {
     "name": "stdout",
     "output_type": "stream",
     "text": [
      "Test Results\n"
     ]
    },
    {
     "data": {
      "text/html": [
       "<div>\n",
       "<style scoped>\n",
       "    .dataframe tbody tr th:only-of-type {\n",
       "        vertical-align: middle;\n",
       "    }\n",
       "\n",
       "    .dataframe tbody tr th {\n",
       "        vertical-align: top;\n",
       "    }\n",
       "\n",
       "    .dataframe thead th {\n",
       "        text-align: right;\n",
       "    }\n",
       "</style>\n",
       "<table border=\"1\" class=\"dataframe\">\n",
       "  <thead>\n",
       "    <tr style=\"text-align: right;\">\n",
       "      <th></th>\n",
       "      <th>accuracy</th>\n",
       "      <th>TP</th>\n",
       "      <th>TN</th>\n",
       "      <th>FP</th>\n",
       "      <th>FN</th>\n",
       "      <th>FPR</th>\n",
       "      <th>FNR</th>\n",
       "      <th>auc</th>\n",
       "      <th>mcc</th>\n",
       "    </tr>\n",
       "    <tr>\n",
       "      <th>index</th>\n",
       "      <th></th>\n",
       "      <th></th>\n",
       "      <th></th>\n",
       "      <th></th>\n",
       "      <th></th>\n",
       "      <th></th>\n",
       "      <th></th>\n",
       "      <th></th>\n",
       "      <th></th>\n",
       "    </tr>\n",
       "  </thead>\n",
       "  <tbody>\n",
       "    <tr>\n",
       "      <th>KNeighborsClassifier</th>\n",
       "      <td>0.905511</td>\n",
       "      <td>1561.0</td>\n",
       "      <td>9498.0</td>\n",
       "      <td>940.0</td>\n",
       "      <td>214.0</td>\n",
       "      <td>0.090056</td>\n",
       "      <td>0.120563</td>\n",
       "      <td>0.894691</td>\n",
       "      <td>0.689419</td>\n",
       "    </tr>\n",
       "    <tr>\n",
       "      <th>LogisticRegression</th>\n",
       "      <td>0.892737</td>\n",
       "      <td>1412.0</td>\n",
       "      <td>9491.0</td>\n",
       "      <td>947.0</td>\n",
       "      <td>363.0</td>\n",
       "      <td>0.090726</td>\n",
       "      <td>0.204507</td>\n",
       "      <td>0.852383</td>\n",
       "      <td>0.629192</td>\n",
       "    </tr>\n",
       "    <tr>\n",
       "      <th>RandomForestClassifier</th>\n",
       "      <td>0.908704</td>\n",
       "      <td>1584.0</td>\n",
       "      <td>9514.0</td>\n",
       "      <td>924.0</td>\n",
       "      <td>191.0</td>\n",
       "      <td>0.088523</td>\n",
       "      <td>0.107606</td>\n",
       "      <td>0.901936</td>\n",
       "      <td>0.701347</td>\n",
       "    </tr>\n",
       "    <tr>\n",
       "      <th>AdaBoostClassifier</th>\n",
       "      <td>0.892000</td>\n",
       "      <td>1400.0</td>\n",
       "      <td>9494.0</td>\n",
       "      <td>944.0</td>\n",
       "      <td>375.0</td>\n",
       "      <td>0.090439</td>\n",
       "      <td>0.211268</td>\n",
       "      <td>0.849147</td>\n",
       "      <td>0.624929</td>\n",
       "    </tr>\n",
       "    <tr>\n",
       "      <th>GradientBoostingClassifier</th>\n",
       "      <td>0.904937</td>\n",
       "      <td>1519.0</td>\n",
       "      <td>9533.0</td>\n",
       "      <td>905.0</td>\n",
       "      <td>256.0</td>\n",
       "      <td>0.086702</td>\n",
       "      <td>0.144225</td>\n",
       "      <td>0.884536</td>\n",
       "      <td>0.679578</td>\n",
       "    </tr>\n",
       "    <tr>\n",
       "      <th>ExtraTreeClassifier</th>\n",
       "      <td>0.908540</td>\n",
       "      <td>1592.0</td>\n",
       "      <td>9504.0</td>\n",
       "      <td>934.0</td>\n",
       "      <td>183.0</td>\n",
       "      <td>0.089481</td>\n",
       "      <td>0.103099</td>\n",
       "      <td>0.903710</td>\n",
       "      <td>0.702581</td>\n",
       "    </tr>\n",
       "    <tr>\n",
       "      <th>BaggingClassifier</th>\n",
       "      <td>0.907230</td>\n",
       "      <td>1582.0</td>\n",
       "      <td>9498.0</td>\n",
       "      <td>940.0</td>\n",
       "      <td>193.0</td>\n",
       "      <td>0.090056</td>\n",
       "      <td>0.108732</td>\n",
       "      <td>0.900606</td>\n",
       "      <td>0.697587</td>\n",
       "    </tr>\n",
       "    <tr>\n",
       "      <th>Neural Network-1</th>\n",
       "      <td>0.897568</td>\n",
       "      <td>1516.0</td>\n",
       "      <td>9446.0</td>\n",
       "      <td>992.0</td>\n",
       "      <td>259.0</td>\n",
       "      <td>0.095037</td>\n",
       "      <td>0.145915</td>\n",
       "      <td>0.879524</td>\n",
       "      <td>0.662239</td>\n",
       "    </tr>\n",
       "  </tbody>\n",
       "</table>\n",
       "</div>"
      ],
      "text/plain": [
       "                            accuracy      TP      TN     FP     FN       FPR  \\\n",
       "index                                                                          \n",
       "KNeighborsClassifier        0.905511  1561.0  9498.0  940.0  214.0  0.090056   \n",
       "LogisticRegression          0.892737  1412.0  9491.0  947.0  363.0  0.090726   \n",
       "RandomForestClassifier      0.908704  1584.0  9514.0  924.0  191.0  0.088523   \n",
       "AdaBoostClassifier          0.892000  1400.0  9494.0  944.0  375.0  0.090439   \n",
       "GradientBoostingClassifier  0.904937  1519.0  9533.0  905.0  256.0  0.086702   \n",
       "ExtraTreeClassifier         0.908540  1592.0  9504.0  934.0  183.0  0.089481   \n",
       "BaggingClassifier           0.907230  1582.0  9498.0  940.0  193.0  0.090056   \n",
       "Neural Network-1            0.897568  1516.0  9446.0  992.0  259.0  0.095037   \n",
       "\n",
       "                                 FNR       auc       mcc  \n",
       "index                                                     \n",
       "KNeighborsClassifier        0.120563  0.894691  0.689419  \n",
       "LogisticRegression          0.204507  0.852383  0.629192  \n",
       "RandomForestClassifier      0.107606  0.901936  0.701347  \n",
       "AdaBoostClassifier          0.211268  0.849147  0.624929  \n",
       "GradientBoostingClassifier  0.144225  0.884536  0.679578  \n",
       "ExtraTreeClassifier         0.103099  0.903710  0.702581  \n",
       "BaggingClassifier           0.108732  0.900606  0.697587  \n",
       "Neural Network-1            0.145915  0.879524  0.662239  "
      ]
     },
     "metadata": {},
     "output_type": "display_data"
    }
   ],
   "source": [
    "table_80_60_train['index']=ind_columns\n",
    "table_80_60_test['index']=ind_columns\n",
    "\n",
    "\n",
    "table_80_60_test.set_index(['index'],drop=True,inplace=True)\n",
    "table_80_60_train.set_index(['index'],drop=True,inplace=True)\n",
    "\n",
    "print(\"Training Results\")\n",
    "display(table_80_60_train)\n",
    "print(\"Test Results\")\n",
    "display(table_80_60_test)"
   ]
  },
  {
   "cell_type": "markdown",
   "metadata": {},
   "source": [
    "### <a id='4.B' style=\"text-decoration : none; color : #000000;\"> B. Average Feature Importances</a>"
   ]
  },
  {
   "cell_type": "code",
   "execution_count": 91,
   "metadata": {},
   "outputs": [
    {
     "data": {
      "application/vnd.plotly.v1+json": {
       "config": {
        "linkText": "Export to plot.ly",
        "plotlyServerURL": "https://plot.ly",
        "showLink": true
       },
       "data": [
        {
         "marker": {
          "color": "rgb(158,202,225)",
          "line": {
           "color": "rgb(8,48,107)",
           "width": 1.5
          }
         },
         "opacity": 0.6,
         "orientation": "h",
         "text": [
          0.2753,
          0.0803,
          0.0649,
          0.0633,
          0.049,
          0.0361,
          0.0343,
          0.0334,
          0.0295,
          0.0281,
          0.0266,
          0.0253,
          0.0223,
          0.0216,
          0.021,
          0.019,
          0.0161,
          0.015,
          0.0135,
          0.012,
          0.0114,
          0.0113,
          0.0107,
          0.0101,
          0.0096,
          0.0094,
          0.0093,
          0.009,
          0.0087,
          0.0069,
          0.0066,
          0.0048,
          0.0046,
          0.0012
         ],
         "textposition": "outside",
         "type": "bar",
         "uid": "b11c5010-f757-4db2-bfc6-f2de7301ab92",
         "x": [
          0.275315481682576,
          0.08028738922091809,
          0.06485511142199474,
          0.06325652031108268,
          0.04901099674581929,
          0.036113669114617025,
          0.03426987144045182,
          0.0334141548896671,
          0.029486728058949547,
          0.028099685288378303,
          0.026590606816190486,
          0.025311382869899222,
          0.02225130351182207,
          0.021608696788794034,
          0.02100158678065364,
          0.019018315963730017,
          0.016118909674868655,
          0.015007717788686719,
          0.01351720449078387,
          0.01197120492479464,
          0.011415354351278231,
          0.011291337516287584,
          0.010653379002676442,
          0.010070864580807078,
          0.009607075290815255,
          0.009414368075948438,
          0.009298704326883848,
          0.00900318096273326,
          0.008666829153331003,
          0.006888079479587116,
          0.006613117361356452,
          0.004773135123634652,
          0.004616844966061834,
          0.0011811920239208529
         ],
         "y": [
          "script_async_true + title_count",
          "a_href_https + div_count",
          "div_count + p_count",
          "link_type_text/css + script_src_.js",
          "script_async_true + script_src_out_of_domain",
          "div_count + .push",
          "a_href_http + div_count",
          "div_count + meta_count",
          "script_src_.js + script_src_out_of_domain",
          "window.addEventListener + script_src_.js",
          "window.addEventListener + script_src_out_of_domain",
          "div_count + link_href_out_of_domain",
          "center_count + script_src_out_of_domain",
          "div_count + title_count",
          "center_count + script_src_.js",
          "script_src_.js",
          "img_src_.jpg + script_async_true",
          "link_rel_https://api.w.org/ + script_src_out_of_domain",
          "script_src_.js / link_href_.css",
          "div_count + img_src_.jpg",
          "link_rel_shortlink + script_src_.js",
          "br_count + div_count",
          "div_count + img_src_out_of_domain",
          "div_count + li_count",
          "link_rel_https://api.w.org/ + script_src_.js",
          "script_src_.js / title_count",
          "div_count + script_async_true",
          "form_action_http + script_src_out_of_domain",
          "script_src_out_of_domain",
          "form_action_http + script_src_.js",
          "link_type_application/rsd+xml + script_src_.js",
          "link_type_application/rsd+xml + script_src_out_of_domain",
          "link_rel_shortlink + script_src_out_of_domain",
          "script_src_out_of_domain / title_count"
         ]
        }
       ],
       "layout": {
        "autosize": false,
        "height": 1000,
        "width": 1000,
        "xaxis": {
         "tickfont": {
          "color": "black",
          "size": 12
         },
         "title": "Feature Importances"
        },
        "yaxis": {
         "automargin": true
        }
       }
      },
      "text/html": [
       "<div id=\"23bdf2bd-f212-4bed-b52c-a0e02d727a14\" style=\"height: 1000px; width: 1000px;\" class=\"plotly-graph-div\"></div><script type=\"text/javascript\">require([\"plotly\"], function(Plotly) { window.PLOTLYENV=window.PLOTLYENV || {};window.PLOTLYENV.BASE_URL=\"https://plot.ly\";Plotly.newPlot(\"23bdf2bd-f212-4bed-b52c-a0e02d727a14\", [{\"marker\": {\"color\": \"rgb(158,202,225)\", \"line\": {\"color\": \"rgb(8,48,107)\", \"width\": 1.5}}, \"opacity\": 0.6, \"orientation\": \"h\", \"text\": [0.2753, 0.0803, 0.0649, 0.0633, 0.049, 0.0361, 0.0343, 0.0334, 0.0295, 0.0281, 0.0266, 0.0253, 0.0223, 0.0216, 0.021, 0.019, 0.0161, 0.015, 0.0135, 0.012, 0.0114, 0.0113, 0.0107, 0.0101, 0.0096, 0.0094, 0.0093, 0.009, 0.0087, 0.0069, 0.0066, 0.0048, 0.0046, 0.0012], \"textposition\": \"outside\", \"x\": [0.275315481682576, 0.08028738922091809, 0.06485511142199474, 0.06325652031108268, 0.04901099674581929, 0.036113669114617025, 0.03426987144045182, 0.0334141548896671, 0.029486728058949547, 0.028099685288378303, 0.026590606816190486, 0.025311382869899222, 0.02225130351182207, 0.021608696788794034, 0.02100158678065364, 0.019018315963730017, 0.016118909674868655, 0.015007717788686719, 0.01351720449078387, 0.01197120492479464, 0.011415354351278231, 0.011291337516287584, 0.010653379002676442, 0.010070864580807078, 0.009607075290815255, 0.009414368075948438, 0.009298704326883848, 0.00900318096273326, 0.008666829153331003, 0.006888079479587116, 0.006613117361356452, 0.004773135123634652, 0.004616844966061834, 0.0011811920239208529], \"y\": [\"script_async_true + title_count\", \"a_href_https + div_count\", \"div_count + p_count\", \"link_type_text/css + script_src_.js\", \"script_async_true + script_src_out_of_domain\", \"div_count + .push\", \"a_href_http + div_count\", \"div_count + meta_count\", \"script_src_.js + script_src_out_of_domain\", \"window.addEventListener + script_src_.js\", \"window.addEventListener + script_src_out_of_domain\", \"div_count + link_href_out_of_domain\", \"center_count + script_src_out_of_domain\", \"div_count + title_count\", \"center_count + script_src_.js\", \"script_src_.js\", \"img_src_.jpg + script_async_true\", \"link_rel_https://api.w.org/ + script_src_out_of_domain\", \"script_src_.js / link_href_.css\", \"div_count + img_src_.jpg\", \"link_rel_shortlink + script_src_.js\", \"br_count + div_count\", \"div_count + img_src_out_of_domain\", \"div_count + li_count\", \"link_rel_https://api.w.org/ + script_src_.js\", \"script_src_.js / title_count\", \"div_count + script_async_true\", \"form_action_http + script_src_out_of_domain\", \"script_src_out_of_domain\", \"form_action_http + script_src_.js\", \"link_type_application/rsd+xml + script_src_.js\", \"link_type_application/rsd+xml + script_src_out_of_domain\", \"link_rel_shortlink + script_src_out_of_domain\", \"script_src_out_of_domain / title_count\"], \"type\": \"bar\", \"uid\": \"b11c5010-f757-4db2-bfc6-f2de7301ab92\"}], {\"autosize\": false, \"height\": 1000, \"width\": 1000, \"xaxis\": {\"tickfont\": {\"color\": \"black\", \"size\": 12}, \"title\": \"Feature Importances\"}, \"yaxis\": {\"automargin\": true}}, {\"showLink\": true, \"linkText\": \"Export to plot.ly\", \"plotlyServerURL\": \"https://plot.ly\"})});</script>"
      ],
      "text/vnd.plotly.v1+html": [
       "<div id=\"23bdf2bd-f212-4bed-b52c-a0e02d727a14\" style=\"height: 1000px; width: 1000px;\" class=\"plotly-graph-div\"></div><script type=\"text/javascript\">require([\"plotly\"], function(Plotly) { window.PLOTLYENV=window.PLOTLYENV || {};window.PLOTLYENV.BASE_URL=\"https://plot.ly\";Plotly.newPlot(\"23bdf2bd-f212-4bed-b52c-a0e02d727a14\", [{\"marker\": {\"color\": \"rgb(158,202,225)\", \"line\": {\"color\": \"rgb(8,48,107)\", \"width\": 1.5}}, \"opacity\": 0.6, \"orientation\": \"h\", \"text\": [0.2753, 0.0803, 0.0649, 0.0633, 0.049, 0.0361, 0.0343, 0.0334, 0.0295, 0.0281, 0.0266, 0.0253, 0.0223, 0.0216, 0.021, 0.019, 0.0161, 0.015, 0.0135, 0.012, 0.0114, 0.0113, 0.0107, 0.0101, 0.0096, 0.0094, 0.0093, 0.009, 0.0087, 0.0069, 0.0066, 0.0048, 0.0046, 0.0012], \"textposition\": \"outside\", \"x\": [0.275315481682576, 0.08028738922091809, 0.06485511142199474, 0.06325652031108268, 0.04901099674581929, 0.036113669114617025, 0.03426987144045182, 0.0334141548896671, 0.029486728058949547, 0.028099685288378303, 0.026590606816190486, 0.025311382869899222, 0.02225130351182207, 0.021608696788794034, 0.02100158678065364, 0.019018315963730017, 0.016118909674868655, 0.015007717788686719, 0.01351720449078387, 0.01197120492479464, 0.011415354351278231, 0.011291337516287584, 0.010653379002676442, 0.010070864580807078, 0.009607075290815255, 0.009414368075948438, 0.009298704326883848, 0.00900318096273326, 0.008666829153331003, 0.006888079479587116, 0.006613117361356452, 0.004773135123634652, 0.004616844966061834, 0.0011811920239208529], \"y\": [\"script_async_true + title_count\", \"a_href_https + div_count\", \"div_count + p_count\", \"link_type_text/css + script_src_.js\", \"script_async_true + script_src_out_of_domain\", \"div_count + .push\", \"a_href_http + div_count\", \"div_count + meta_count\", \"script_src_.js + script_src_out_of_domain\", \"window.addEventListener + script_src_.js\", \"window.addEventListener + script_src_out_of_domain\", \"div_count + link_href_out_of_domain\", \"center_count + script_src_out_of_domain\", \"div_count + title_count\", \"center_count + script_src_.js\", \"script_src_.js\", \"img_src_.jpg + script_async_true\", \"link_rel_https://api.w.org/ + script_src_out_of_domain\", \"script_src_.js / link_href_.css\", \"div_count + img_src_.jpg\", \"link_rel_shortlink + script_src_.js\", \"br_count + div_count\", \"div_count + img_src_out_of_domain\", \"div_count + li_count\", \"link_rel_https://api.w.org/ + script_src_.js\", \"script_src_.js / title_count\", \"div_count + script_async_true\", \"form_action_http + script_src_out_of_domain\", \"script_src_out_of_domain\", \"form_action_http + script_src_.js\", \"link_type_application/rsd+xml + script_src_.js\", \"link_type_application/rsd+xml + script_src_out_of_domain\", \"link_rel_shortlink + script_src_out_of_domain\", \"script_src_out_of_domain / title_count\"], \"type\": \"bar\", \"uid\": \"b11c5010-f757-4db2-bfc6-f2de7301ab92\"}], {\"autosize\": false, \"height\": 1000, \"width\": 1000, \"xaxis\": {\"tickfont\": {\"color\": \"black\", \"size\": 12}, \"title\": \"Feature Importances\"}, \"yaxis\": {\"automargin\": true}}, {\"showLink\": true, \"linkText\": \"Export to plot.ly\", \"plotlyServerURL\": \"https://plot.ly\"})});</script>"
      ]
     },
     "metadata": {},
     "output_type": "display_data"
    }
   ],
   "source": [
    "feat_impt_plot(np.average(feat_imp,axis=0),feature_name)"
   ]
  },
  {
   "cell_type": "markdown",
   "metadata": {},
   "source": [
    "### <a id='5' style=\"text-decoration : none; color : #000000;\">5. Feature Transformation with PCA </a>"
   ]
  },
  {
   "cell_type": "code",
   "execution_count": 92,
   "metadata": {},
   "outputs": [
    {
     "name": "stderr",
     "output_type": "stream",
     "text": [
      "distributed.core - INFO - Event loop was unresponsive in Nanny for 86.78s.  This is often caused by long-running GIL-holding functions or moving large chunks of data. This can cause timeouts and instability.\n",
      "distributed.core - INFO - Event loop was unresponsive in Nanny for 86.79s.  This is often caused by long-running GIL-holding functions or moving large chunks of data. This can cause timeouts and instability.\n",
      "distributed.core - INFO - Event loop was unresponsive in Nanny for 86.78s.  This is often caused by long-running GIL-holding functions or moving large chunks of data. This can cause timeouts and instability.\n",
      "distributed.core - INFO - Event loop was unresponsive in Nanny for 86.78s.  This is often caused by long-running GIL-holding functions or moving large chunks of data. This can cause timeouts and instability.\n",
      "distributed.core - INFO - Event loop was unresponsive in Nanny for 86.78s.  This is often caused by long-running GIL-holding functions or moving large chunks of data. This can cause timeouts and instability.\n",
      "distributed.core - INFO - Event loop was unresponsive in Nanny for 86.78s.  This is often caused by long-running GIL-holding functions or moving large chunks of data. This can cause timeouts and instability.\n",
      "distributed.core - INFO - Event loop was unresponsive in Nanny for 86.78s.  This is often caused by long-running GIL-holding functions or moving large chunks of data. This can cause timeouts and instability.\n",
      "distributed.core - INFO - Event loop was unresponsive in Nanny for 86.78s.  This is often caused by long-running GIL-holding functions or moving large chunks of data. This can cause timeouts and instability.\n",
      "distributed.core - INFO - Event loop was unresponsive in Nanny for 86.78s.  This is often caused by long-running GIL-holding functions or moving large chunks of data. This can cause timeouts and instability.\n",
      "distributed.core - INFO - Event loop was unresponsive in Nanny for 86.78s.  This is often caused by long-running GIL-holding functions or moving large chunks of data. This can cause timeouts and instability.\n",
      "distributed.core - INFO - Event loop was unresponsive in Nanny for 86.78s.  This is often caused by long-running GIL-holding functions or moving large chunks of data. This can cause timeouts and instability.\n"
     ]
    },
    {
     "data": {
      "image/png": "[encoded data removed]",
      "text/plain": [
       "<Figure size 720x576 with 1 Axes>"
      ]
     },
     "metadata": {},
     "output_type": "display_data"
    }
   ],
   "source": [
    "X=fs.loc[:,fs.columns!='Target']\n",
    "y=fs.Target.values\n",
    "feature_name = X.columns.tolist()\n",
    "X=np.nan_to_num(X)\n",
    "scaler=StandardScaler()\n",
    "scaled_X=scaler.fit_transform(X)\n",
    "\n",
    "sns.set_style('whitegrid')\n",
    "pca = PCA(random_state=0)\n",
    "pca.fit(scaled_X)\n",
    "plt.figure(1, figsize=(10, 8))\n",
    "plt.plot(np.cumsum(pca.explained_variance_ratio_),'--o', linewidth=2)\n",
    "plt.axis('tight')\n",
    "plt.xlabel('Number of Components',size=14)\n",
    "plt.xticks(size=12)\n",
    "plt.xlim([0,200])\n",
    "plt.ylabel('% Explained Variance',size=14)\n",
    "plt.yticks(size=12)\n",
    "plt.title('% Variance Explained by Principal Components',size=14,y=1.05)\n",
    "plt.show()"
   ]
  },
  {
   "cell_type": "code",
   "execution_count": 96,
   "metadata": {},
   "outputs": [
    {
     "name": "stdout",
     "output_type": "stream",
     "text": [
      "Variance explained using 215 components is: 0.8017062925111703\n"
     ]
    }
   ],
   "source": [
    "pca=PCA(n_components=215,whiten=True,random_state=0)\n",
    "X_pca_21=pca.fit_transform(scaled_X)\n",
    "print(\"Variance explained using 215 components is:\",sum(pca.explained_variance_ratio_))"
   ]
  },
  {
   "cell_type": "code",
   "execution_count": 99,
   "metadata": {},
   "outputs": [],
   "source": [
    "X_train=X_pca_21[:28496]\n",
    "Y_train=fs.iloc[:28496]['Target'].values\n",
    "X_test=X_pca_21[28496:]\n",
    "Y_test=fs.iloc[28496:]['Target'].values\n",
    "\n",
    "## Table to store training and test measures so we can compare later\n",
    "table_80_70_train=pd.DataFrame(columns=['accuracy','TP','TN','FP','FN','FPR','FNR'])\n",
    "table_80_70_test=pd.DataFrame(columns=['accuracy','TP','TN','FP','FN','FPR','FNR','auc','mcc'])"
   ]
  },
  {
   "cell_type": "code",
   "execution_count": 100,
   "metadata": {
    "scrolled": false
   },
   "outputs": [
    {
     "name": "stdout",
     "output_type": "stream",
     "text": [
      "\u001b[1mK-Nearest Neighbors\u001b[0m\n",
      "Accuracy of the model for training data is: 0.9129000561482313\n",
      "Confusion Matrix for training data is:\n"
     ]
    },
    {
     "data": {
      "text/plain": [
       "Predicted  False  True  __all__\n",
       "Actual                         \n",
       "False      22274  2066    24340\n",
       "True         416  3740     4156\n",
       "__all__    22690  5806    28496"
      ]
     },
     "metadata": {},
     "output_type": "display_data"
    },
    {
     "name": "stdout",
     "output_type": "stream",
     "text": [
      "Accuracy of the model for test data is: 0.9055105215753705\n",
      "Confusion Matrix for test data is:\n"
     ]
    },
    {
     "data": {
      "text/plain": [
       "Predicted  False  True  __all__\n",
       "Actual                         \n",
       "False       9488   950    10438\n",
       "True         204  1571     1775\n",
       "__all__     9692  2521    12213"
      ]
     },
     "metadata": {},
     "output_type": "display_data"
    },
    {
     "name": "stdout",
     "output_type": "stream",
     "text": [
      "\n",
      "\n",
      "\u001b[1mLogistic Regression\u001b[0m\n",
      "Accuracy of the model for training data is: 0.9003017967434026\n",
      "Confusion Matrix for training data is:\n"
     ]
    },
    {
     "data": {
      "text/plain": [
       "Predicted  False  True  __all__\n",
       "Actual                         \n",
       "False      22179  2161    24340\n",
       "True         680  3476     4156\n",
       "__all__    22859  5637    28496"
      ]
     },
     "metadata": {},
     "output_type": "display_data"
    },
    {
     "name": "stdout",
     "output_type": "stream",
     "text": [
      "Accuracy of the model for test data is: 0.8974862851060346\n",
      "Confusion Matrix for test data is:\n"
     ]
    },
    {
     "data": {
      "text/plain": [
       "Predicted  False  True  __all__\n",
       "Actual                         \n",
       "False       9463   975    10438\n",
       "True         277  1498     1775\n",
       "__all__     9740  2473    12213"
      ]
     },
     "metadata": {},
     "output_type": "display_data"
    },
    {
     "name": "stdout",
     "output_type": "stream",
     "text": [
      "\n",
      "\n",
      "\u001b[1mRandomForest Classifier\u001b[0m\n",
      "Accuracy of the model for training data is: 0.9246911847276811\n",
      "Confusion Matrix for training data is:\n"
     ]
    },
    {
     "data": {
      "text/plain": [
       "Predicted  False  True  __all__\n",
       "Actual                         \n",
       "False      22371  1969    24340\n",
       "True         177  3979     4156\n",
       "__all__    22548  5948    28496"
      ]
     },
     "metadata": {},
     "output_type": "display_data"
    },
    {
     "name": "stdout",
     "output_type": "stream",
     "text": [
      "Accuracy of the model for test data is: 0.9104233194137394\n",
      "Confusion Matrix for test data is:\n"
     ]
    },
    {
     "data": {
      "text/plain": [
       "Predicted  False  True  __all__\n",
       "Actual                         \n",
       "False       9548   890    10438\n",
       "True         204  1571     1775\n",
       "__all__     9752  2461    12213"
      ]
     },
     "metadata": {},
     "output_type": "display_data"
    },
    {
     "data": {
      "application/vnd.plotly.v1+json": {
       "config": {
        "linkText": "Export to plot.ly",
        "plotlyServerURL": "https://plot.ly",
        "showLink": true
       },
       "data": [
        {
         "marker": {
          "color": "rgb(158,202,225)",
          "line": {
           "color": "rgb(8,48,107)",
           "width": 1.5
          }
         },
         "opacity": 0.6,
         "orientation": "h",
         "text": [
          0.1958,
          0.1211,
          0.0514,
          0.0494,
          0.0475,
          0.0365,
          0.0243,
          0.0209,
          0.0201,
          0.0196,
          0.0179,
          0.0178,
          0.0171,
          0.017,
          0.0146,
          0.0091,
          0.0083,
          0.0078,
          0.0064,
          0.006,
          0.0057,
          0.0052,
          0.0051,
          0.005,
          0.0046,
          0.0041,
          0.0038,
          0.0035,
          0.0033,
          0.0033,
          0.0033,
          0.0031,
          0.003,
          0.0027,
          0.0027,
          0.0027,
          0.0025,
          0.0025,
          0.0024,
          0.0024,
          0.0024,
          0.0024,
          0.0024,
          0.0023,
          0.0022,
          0.0022,
          0.0022,
          0.0022,
          0.0021,
          0.0021,
          0.0021,
          0.0021,
          0.0021,
          0.002,
          0.002,
          0.002,
          0.002,
          0.002,
          0.0019,
          0.0019,
          0.0019,
          0.0019,
          0.0019,
          0.0019,
          0.0019,
          0.0019,
          0.0019,
          0.0018,
          0.0018,
          0.0018,
          0.0018,
          0.0018,
          0.0018,
          0.0017,
          0.0017,
          0.0017,
          0.0017,
          0.0017,
          0.0017,
          0.0017,
          0.0016,
          0.0016,
          0.0016,
          0.0016,
          0.0016,
          0.0016,
          0.0016,
          0.0016,
          0.0016,
          0.0016,
          0.0015,
          0.0015,
          0.0015,
          0.0015,
          0.0015,
          0.0015,
          0.0015,
          0.0015,
          0.0015,
          0.0015,
          0.0015,
          0.0014,
          0.0014,
          0.0014,
          0.0014,
          0.0014,
          0.0014,
          0.0014,
          0.0014,
          0.0014,
          0.0014,
          0.0013,
          0.0013,
          0.0013,
          0.0013,
          0.0013,
          0.0013,
          0.0013,
          0.0013,
          0.0013,
          0.0013,
          0.0013,
          0.0012,
          0.0012,
          0.0012,
          0.0012,
          0.0012,
          0.0012,
          0.0012,
          0.0012,
          0.0011,
          0.0011,
          0.0011,
          0.0011,
          0.0011,
          0.0011,
          0.0011,
          0.0011,
          0.0011,
          0.0011,
          0.0011,
          0.0011,
          0.0011,
          0.0011,
          0.0011,
          0.001,
          0.001,
          0.001,
          0.001,
          0.001,
          0.001,
          0.001,
          0.001,
          0.001,
          0.001,
          0.001,
          0.001,
          0.001,
          0.001,
          0.001,
          0.001,
          0.0009,
          0.0009,
          0.0009,
          0.0009,
          0.0009,
          0.0009,
          0.0009,
          0.0009,
          0.0009,
          0.0009,
          0.0009,
          0.0009,
          0.0009,
          0.0009,
          0.0008,
          0.0008,
          0.0008,
          0.0008,
          0.0008,
          0.0008,
          0.0008,
          0.0008,
          0.0008,
          0.0008,
          0.0008,
          0.0008,
          0.0008,
          0.0008,
          0.0007,
          0.0007,
          0.0007,
          0.0007,
          0.0007,
          0.0007,
          0.0007,
          0.0007,
          0.0007,
          0.0006,
          0.0006,
          0.0006,
          0.0006,
          0.0006,
          0.0006,
          0.0006,
          0.0006,
          0.0005,
          0.0005,
          0.0005,
          0.0005,
          0.0005,
          0.0005,
          0.0004,
          0.0004,
          0.0004
         ],
         "textposition": "outside",
         "type": "bar",
         "uid": "c169b6de-fca6-42bf-9412-51efc2d822ec",
         "x": [
          0.19580907915165907,
          0.1211202231799344,
          0.05143041902322174,
          0.04938165239603791,
          0.0475043118538007,
          0.0365173189917935,
          0.024283469792696057,
          0.020924589074612556,
          0.0200619630823601,
          0.01958441649646093,
          0.017915521303351684,
          0.01779042309279165,
          0.017123859347982932,
          0.016952921574119782,
          0.014630535867212557,
          0.009140011059011837,
          0.008343340388472825,
          0.007825886390215605,
          0.006371664235735074,
          0.006019192730636972,
          0.005679475469638326,
          0.005175730785319201,
          0.005143162601608365,
          0.0050178458416089465,
          0.004597734633246601,
          0.004067186312398267,
          0.003765237806654839,
          0.0034559174887271544,
          0.0033163397403028093,
          0.0032557474889178344,
          0.0032541421506635223,
          0.0031259386079531075,
          0.0029962632890165593,
          0.0027080006697690236,
          0.0026834289210828657,
          0.0026522850874215547,
          0.0025319325690819723,
          0.002471520635856712,
          0.0024340715455506575,
          0.002432124491184679,
          0.0024221828499042747,
          0.0023726199289413707,
          0.0023524457156703354,
          0.0022740086071201277,
          0.002230959543439055,
          0.0022040786581801275,
          0.002191921881872867,
          0.0021878860298745386,
          0.002142024676874612,
          0.0021380297312165106,
          0.00211481541848011,
          0.002102599117367672,
          0.002065875617883234,
          0.0020295771331810893,
          0.002021655008787674,
          0.0020081513470537036,
          0.001976939760484532,
          0.001970501641781716,
          0.001949463043419248,
          0.0019374221196660339,
          0.001933546866637916,
          0.0019041846015972676,
          0.0019040940381757718,
          0.0018954564136560669,
          0.001866930445196819,
          0.0018655244085986962,
          0.0018558705669658854,
          0.0018079497853169175,
          0.0017993666194206584,
          0.001794747030599646,
          0.001794507975437646,
          0.0017890660166424606,
          0.0017587222918741079,
          0.0017460765133440858,
          0.0017210016272011873,
          0.001715456268801746,
          0.0017106601640696872,
          0.0017009638262424464,
          0.0016950751116250426,
          0.0016516793037393417,
          0.0016461626639341493,
          0.0016072574517044629,
          0.0016034449098236369,
          0.0015963239014607645,
          0.0015889404313959934,
          0.001572133522321536,
          0.0015719746294522614,
          0.001567668454759265,
          0.0015675092111668508,
          0.0015566316810160688,
          0.0015492834734135768,
          0.0015486947061591572,
          0.0015165819549637736,
          0.0015043548128708607,
          0.0015025978129813294,
          0.001502553044021472,
          0.0014952294659564412,
          0.001494778831393939,
          0.0014711970846698294,
          0.0014702933789324415,
          0.001464263102469544,
          0.001445217876788714,
          0.0014351823992924952,
          0.0014348776546735636,
          0.0014336143714463155,
          0.0014080922598080714,
          0.0014019893217966802,
          0.0014006576734580793,
          0.001390821798837763,
          0.001381784150405167,
          0.0013539197245801939,
          0.001347815242962418,
          0.001343356161143135,
          0.001333568646321126,
          0.0013317433287267806,
          0.001303096678861851,
          0.0012969746394120988,
          0.0012883225483153583,
          0.0012880770829958872,
          0.0012785124366949496,
          0.00126821033102466,
          0.001267827145846489,
          0.0012459208390665838,
          0.0012170444217109127,
          0.0012076837005160655,
          0.001199587881170617,
          0.0011826217444681534,
          0.0011783120157138499,
          0.0011701601598607457,
          0.0011548115271049013,
          0.001129546961112129,
          0.0011215506318195789,
          0.001107805547184507,
          0.0011058379186566932,
          0.0011036066540149256,
          0.0010992709778752268,
          0.0010954055898463881,
          0.001093768305833851,
          0.001093680172029214,
          0.0010902407486839047,
          0.0010811437553923822,
          0.0010702872094462688,
          0.0010694885960593518,
          0.0010649639103000757,
          0.0010519224018181864,
          0.0010440622710889622,
          0.0010402091581763692,
          0.0010269856610019671,
          0.0010258660277017515,
          0.0010194422954548827,
          0.0010180881008892248,
          0.0010123432310858809,
          0.0009956216142565,
          0.0009944631737443582,
          0.0009816030649408326,
          0.000980126488066795,
          0.0009732280724753229,
          0.0009725627065409085,
          0.0009703950565724167,
          0.0009559119496314044,
          0.0009554500840561694,
          0.0009460508193894927,
          0.0009458260341871494,
          0.0009340400235551552,
          0.000931540330792374,
          0.0009231890494888862,
          0.0009201662586495104,
          0.0009131130656230043,
          0.0009023596834368108,
          0.0009006060729909547,
          0.0008924444723173389,
          0.0008849257697512815,
          0.0008820000571084935,
          0.0008683103848303308,
          0.0008533450419127717,
          0.0008427926384031465,
          0.0008364415272277848,
          0.0008292104940740959,
          0.0008291475235555233,
          0.0008160921602441583,
          0.000814418575848599,
          0.000808761152302234,
          0.0008020357535344482,
          0.0007991816982701888,
          0.0007904693605620972,
          0.0007837343098579041,
          0.0007770098122237875,
          0.000774755051829455,
          0.0007564545707309685,
          0.000728347589986515,
          0.0007137868821585422,
          0.000702039629500612,
          0.0007003832175238787,
          0.0006945456255594299,
          0.0006887265459493725,
          0.0006866569475237257,
          0.0006769978697139243,
          0.0006580996847395648,
          0.0006381075626727733,
          0.0006340067912752767,
          0.0006332864986301808,
          0.0006025532074038392,
          0.0005983674670661885,
          0.0005722555053636772,
          0.0005717317871338802,
          0.0005536427568798155,
          0.0005446624897126688,
          0.0005355090818667385,
          0.000499648241975428,
          0.0004828926165812603,
          0.00047620899554546637,
          0.0004569487758115242,
          0.0004120354053546445,
          0.000386394856960277,
          0.0003622627763323623
         ],
         "y": [
          "0",
          "4",
          "23",
          "25",
          "30",
          "124",
          "29",
          "6",
          "202",
          "123",
          "104",
          "155",
          "44",
          "152",
          "28",
          "34",
          "179",
          "26",
          "17",
          "136",
          "107",
          "31",
          "211",
          "206",
          "98",
          "1",
          "187",
          "192",
          "90",
          "143",
          "141",
          "208",
          "67",
          "83",
          "142",
          "19",
          "16",
          "92",
          "57",
          "24",
          "101",
          "12",
          "161",
          "185",
          "120",
          "125",
          "210",
          "5",
          "190",
          "182",
          "176",
          "186",
          "66",
          "3",
          "70",
          "113",
          "140",
          "79",
          "133",
          "112",
          "36",
          "105",
          "43",
          "197",
          "149",
          "131",
          "20",
          "40",
          "95",
          "148",
          "45",
          "111",
          "189",
          "139",
          "82",
          "119",
          "8",
          "46",
          "49",
          "2",
          "54",
          "32",
          "61",
          "160",
          "27",
          "100",
          "114",
          "165",
          "151",
          "21",
          "50",
          "51",
          "213",
          "11",
          "93",
          "35",
          "135",
          "74",
          "87",
          "9",
          "153",
          "171",
          "181",
          "118",
          "94",
          "158",
          "91",
          "157",
          "205",
          "195",
          "71",
          "80",
          "154",
          "162",
          "174",
          "214",
          "33",
          "117",
          "37",
          "88",
          "156",
          "86",
          "96",
          "170",
          "132",
          "58",
          "41",
          "10",
          "173",
          "169",
          "60",
          "201",
          "134",
          "59",
          "212",
          "163",
          "196",
          "99",
          "146",
          "115",
          "199",
          "81",
          "144",
          "68",
          "69",
          "150",
          "166",
          "103",
          "77",
          "18",
          "102",
          "138",
          "204",
          "207",
          "55",
          "97",
          "200",
          "72",
          "65",
          "38",
          "175",
          "137",
          "168",
          "76",
          "39",
          "110",
          "209",
          "14",
          "127",
          "198",
          "48",
          "167",
          "194",
          "13",
          "180",
          "122",
          "109",
          "42",
          "75",
          "129",
          "184",
          "130",
          "7",
          "85",
          "121",
          "178",
          "147",
          "84",
          "52",
          "15",
          "56",
          "108",
          "203",
          "116",
          "188",
          "177",
          "106",
          "164",
          "78",
          "53",
          "128",
          "191",
          "63",
          "62",
          "172",
          "64",
          "22",
          "73",
          "145",
          "193",
          "159",
          "126",
          "183",
          "89",
          "47"
         ]
        }
       ],
       "layout": {
        "autosize": false,
        "height": 1000,
        "width": 1000,
        "xaxis": {
         "tickfont": {
          "color": "black",
          "size": 12
         },
         "title": "Feature Importances"
        },
        "yaxis": {
         "automargin": true
        }
       }
      },
      "text/html": [
       "<div id=\"80c435b7-0474-4f59-8504-1c790a860eb3\" style=\"height: 1000px; width: 1000px;\" class=\"plotly-graph-div\"></div><script type=\"text/javascript\">require([\"plotly\"], function(Plotly) { window.PLOTLYENV=window.PLOTLYENV || {};window.PLOTLYENV.BASE_URL=\"https://plot.ly\";Plotly.newPlot(\"80c435b7-0474-4f59-8504-1c790a860eb3\", [{\"marker\": {\"color\": \"rgb(158,202,225)\", \"line\": {\"color\": \"rgb(8,48,107)\", \"width\": 1.5}}, \"opacity\": 0.6, \"orientation\": \"h\", \"text\": [0.1958, 0.1211, 0.0514, 0.0494, 0.0475, 0.0365, 0.0243, 0.0209, 0.0201, 0.0196, 0.0179, 0.0178, 0.0171, 0.017, 0.0146, 0.0091, 0.0083, 0.0078, 0.0064, 0.006, 0.0057, 0.0052, 0.0051, 0.005, 0.0046, 0.0041, 0.0038, 0.0035, 0.0033, 0.0033, 0.0033, 0.0031, 0.003, 0.0027, 0.0027, 0.0027, 0.0025, 0.0025, 0.0024, 0.0024, 0.0024, 0.0024, 0.0024, 0.0023, 0.0022, 0.0022, 0.0022, 0.0022, 0.0021, 0.0021, 0.0021, 0.0021, 0.0021, 0.002, 0.002, 0.002, 0.002, 0.002, 0.0019, 0.0019, 0.0019, 0.0019, 0.0019, 0.0019, 0.0019, 0.0019, 0.0019, 0.0018, 0.0018, 0.0018, 0.0018, 0.0018, 0.0018, 0.0017, 0.0017, 0.0017, 0.0017, 0.0017, 0.0017, 0.0017, 0.0016, 0.0016, 0.0016, 0.0016, 0.0016, 0.0016, 0.0016, 0.0016, 0.0016, 0.0016, 0.0015, 0.0015, 0.0015, 0.0015, 0.0015, 0.0015, 0.0015, 0.0015, 0.0015, 0.0015, 0.0015, 0.0014, 0.0014, 0.0014, 0.0014, 0.0014, 0.0014, 0.0014, 0.0014, 0.0014, 0.0014, 0.0013, 0.0013, 0.0013, 0.0013, 0.0013, 0.0013, 0.0013, 0.0013, 0.0013, 0.0013, 0.0013, 0.0012, 0.0012, 0.0012, 0.0012, 0.0012, 0.0012, 0.0012, 0.0012, 0.0011, 0.0011, 0.0011, 0.0011, 0.0011, 0.0011, 0.0011, 0.0011, 0.0011, 0.0011, 0.0011, 0.0011, 0.0011, 0.0011, 0.0011, 0.001, 0.001, 0.001, 0.001, 0.001, 0.001, 0.001, 0.001, 0.001, 0.001, 0.001, 0.001, 0.001, 0.001, 0.001, 0.001, 0.0009, 0.0009, 0.0009, 0.0009, 0.0009, 0.0009, 0.0009, 0.0009, 0.0009, 0.0009, 0.0009, 0.0009, 0.0009, 0.0009, 0.0008, 0.0008, 0.0008, 0.0008, 0.0008, 0.0008, 0.0008, 0.0008, 0.0008, 0.0008, 0.0008, 0.0008, 0.0008, 0.0008, 0.0007, 0.0007, 0.0007, 0.0007, 0.0007, 0.0007, 0.0007, 0.0007, 0.0007, 0.0006, 0.0006, 0.0006, 0.0006, 0.0006, 0.0006, 0.0006, 0.0006, 0.0005, 0.0005, 0.0005, 0.0005, 0.0005, 0.0005, 0.0004, 0.0004, 0.0004], \"textposition\": \"outside\", \"x\": [0.19580907915165907, 0.1211202231799344, 0.05143041902322174, 0.04938165239603791, 0.0475043118538007, 0.0365173189917935, 0.024283469792696057, 0.020924589074612556, 0.0200619630823601, 0.01958441649646093, 0.017915521303351684, 0.01779042309279165, 0.017123859347982932, 0.016952921574119782, 0.014630535867212557, 0.009140011059011837, 0.008343340388472825, 0.007825886390215605, 0.006371664235735074, 0.006019192730636972, 0.005679475469638326, 0.005175730785319201, 0.005143162601608365, 0.0050178458416089465, 0.004597734633246601, 0.004067186312398267, 0.003765237806654839, 0.0034559174887271544, 0.0033163397403028093, 0.0032557474889178344, 0.0032541421506635223, 0.0031259386079531075, 0.0029962632890165593, 0.0027080006697690236, 0.0026834289210828657, 0.0026522850874215547, 0.0025319325690819723, 0.002471520635856712, 0.0024340715455506575, 0.002432124491184679, 0.0024221828499042747, 0.0023726199289413707, 0.0023524457156703354, 0.0022740086071201277, 0.002230959543439055, 0.0022040786581801275, 0.002191921881872867, 0.0021878860298745386, 0.002142024676874612, 0.0021380297312165106, 0.00211481541848011, 0.002102599117367672, 0.002065875617883234, 0.0020295771331810893, 0.002021655008787674, 0.0020081513470537036, 0.001976939760484532, 0.001970501641781716, 0.001949463043419248, 0.0019374221196660339, 0.001933546866637916, 0.0019041846015972676, 0.0019040940381757718, 0.0018954564136560669, 0.001866930445196819, 0.0018655244085986962, 0.0018558705669658854, 0.0018079497853169175, 0.0017993666194206584, 0.001794747030599646, 0.001794507975437646, 0.0017890660166424606, 0.0017587222918741079, 0.0017460765133440858, 0.0017210016272011873, 0.001715456268801746, 0.0017106601640696872, 0.0017009638262424464, 0.0016950751116250426, 0.0016516793037393417, 0.0016461626639341493, 0.0016072574517044629, 0.0016034449098236369, 0.0015963239014607645, 0.0015889404313959934, 0.001572133522321536, 0.0015719746294522614, 0.001567668454759265, 0.0015675092111668508, 0.0015566316810160688, 0.0015492834734135768, 0.0015486947061591572, 0.0015165819549637736, 0.0015043548128708607, 0.0015025978129813294, 0.001502553044021472, 0.0014952294659564412, 0.001494778831393939, 0.0014711970846698294, 0.0014702933789324415, 0.001464263102469544, 0.001445217876788714, 0.0014351823992924952, 0.0014348776546735636, 0.0014336143714463155, 0.0014080922598080714, 0.0014019893217966802, 0.0014006576734580793, 0.001390821798837763, 0.001381784150405167, 0.0013539197245801939, 0.001347815242962418, 0.001343356161143135, 0.001333568646321126, 0.0013317433287267806, 0.001303096678861851, 0.0012969746394120988, 0.0012883225483153583, 0.0012880770829958872, 0.0012785124366949496, 0.00126821033102466, 0.001267827145846489, 0.0012459208390665838, 0.0012170444217109127, 0.0012076837005160655, 0.001199587881170617, 0.0011826217444681534, 0.0011783120157138499, 0.0011701601598607457, 0.0011548115271049013, 0.001129546961112129, 0.0011215506318195789, 0.001107805547184507, 0.0011058379186566932, 0.0011036066540149256, 0.0010992709778752268, 0.0010954055898463881, 0.001093768305833851, 0.001093680172029214, 0.0010902407486839047, 0.0010811437553923822, 0.0010702872094462688, 0.0010694885960593518, 0.0010649639103000757, 0.0010519224018181864, 0.0010440622710889622, 0.0010402091581763692, 0.0010269856610019671, 0.0010258660277017515, 0.0010194422954548827, 0.0010180881008892248, 0.0010123432310858809, 0.0009956216142565, 0.0009944631737443582, 0.0009816030649408326, 0.000980126488066795, 0.0009732280724753229, 0.0009725627065409085, 0.0009703950565724167, 0.0009559119496314044, 0.0009554500840561694, 0.0009460508193894927, 0.0009458260341871494, 0.0009340400235551552, 0.000931540330792374, 0.0009231890494888862, 0.0009201662586495104, 0.0009131130656230043, 0.0009023596834368108, 0.0009006060729909547, 0.0008924444723173389, 0.0008849257697512815, 0.0008820000571084935, 0.0008683103848303308, 0.0008533450419127717, 0.0008427926384031465, 0.0008364415272277848, 0.0008292104940740959, 0.0008291475235555233, 0.0008160921602441583, 0.000814418575848599, 0.000808761152302234, 0.0008020357535344482, 0.0007991816982701888, 0.0007904693605620972, 0.0007837343098579041, 0.0007770098122237875, 0.000774755051829455, 0.0007564545707309685, 0.000728347589986515, 0.0007137868821585422, 0.000702039629500612, 0.0007003832175238787, 0.0006945456255594299, 0.0006887265459493725, 0.0006866569475237257, 0.0006769978697139243, 0.0006580996847395648, 0.0006381075626727733, 0.0006340067912752767, 0.0006332864986301808, 0.0006025532074038392, 0.0005983674670661885, 0.0005722555053636772, 0.0005717317871338802, 0.0005536427568798155, 0.0005446624897126688, 0.0005355090818667385, 0.000499648241975428, 0.0004828926165812603, 0.00047620899554546637, 0.0004569487758115242, 0.0004120354053546445, 0.000386394856960277, 0.0003622627763323623], \"y\": [\"0\", \"4\", \"23\", \"25\", \"30\", \"124\", \"29\", \"6\", \"202\", \"123\", \"104\", \"155\", \"44\", \"152\", \"28\", \"34\", \"179\", \"26\", \"17\", \"136\", \"107\", \"31\", \"211\", \"206\", \"98\", \"1\", \"187\", \"192\", \"90\", \"143\", \"141\", \"208\", \"67\", \"83\", \"142\", \"19\", \"16\", \"92\", \"57\", \"24\", \"101\", \"12\", \"161\", \"185\", \"120\", \"125\", \"210\", \"5\", \"190\", \"182\", \"176\", \"186\", \"66\", \"3\", \"70\", \"113\", \"140\", \"79\", \"133\", \"112\", \"36\", \"105\", \"43\", \"197\", \"149\", \"131\", \"20\", \"40\", \"95\", \"148\", \"45\", \"111\", \"189\", \"139\", \"82\", \"119\", \"8\", \"46\", \"49\", \"2\", \"54\", \"32\", \"61\", \"160\", \"27\", \"100\", \"114\", \"165\", \"151\", \"21\", \"50\", \"51\", \"213\", \"11\", \"93\", \"35\", \"135\", \"74\", \"87\", \"9\", \"153\", \"171\", \"181\", \"118\", \"94\", \"158\", \"91\", \"157\", \"205\", \"195\", \"71\", \"80\", \"154\", \"162\", \"174\", \"214\", \"33\", \"117\", \"37\", \"88\", \"156\", \"86\", \"96\", \"170\", \"132\", \"58\", \"41\", \"10\", \"173\", \"169\", \"60\", \"201\", \"134\", \"59\", \"212\", \"163\", \"196\", \"99\", \"146\", \"115\", \"199\", \"81\", \"144\", \"68\", \"69\", \"150\", \"166\", \"103\", \"77\", \"18\", \"102\", \"138\", \"204\", \"207\", \"55\", \"97\", \"200\", \"72\", \"65\", \"38\", \"175\", \"137\", \"168\", \"76\", \"39\", \"110\", \"209\", \"14\", \"127\", \"198\", \"48\", \"167\", \"194\", \"13\", \"180\", \"122\", \"109\", \"42\", \"75\", \"129\", \"184\", \"130\", \"7\", \"85\", \"121\", \"178\", \"147\", \"84\", \"52\", \"15\", \"56\", \"108\", \"203\", \"116\", \"188\", \"177\", \"106\", \"164\", \"78\", \"53\", \"128\", \"191\", \"63\", \"62\", \"172\", \"64\", \"22\", \"73\", \"145\", \"193\", \"159\", \"126\", \"183\", \"89\", \"47\"], \"type\": \"bar\", \"uid\": \"c169b6de-fca6-42bf-9412-51efc2d822ec\"}], {\"autosize\": false, \"height\": 1000, \"width\": 1000, \"xaxis\": {\"tickfont\": {\"color\": \"black\", \"size\": 12}, \"title\": \"Feature Importances\"}, \"yaxis\": {\"automargin\": true}}, {\"showLink\": true, \"linkText\": \"Export to plot.ly\", \"plotlyServerURL\": \"https://plot.ly\"})});</script>"
      ],
      "text/vnd.plotly.v1+html": [
       "<div id=\"80c435b7-0474-4f59-8504-1c790a860eb3\" style=\"height: 1000px; width: 1000px;\" class=\"plotly-graph-div\"></div><script type=\"text/javascript\">require([\"plotly\"], function(Plotly) { window.PLOTLYENV=window.PLOTLYENV || {};window.PLOTLYENV.BASE_URL=\"https://plot.ly\";Plotly.newPlot(\"80c435b7-0474-4f59-8504-1c790a860eb3\", [{\"marker\": {\"color\": \"rgb(158,202,225)\", \"line\": {\"color\": \"rgb(8,48,107)\", \"width\": 1.5}}, \"opacity\": 0.6, \"orientation\": \"h\", \"text\": [0.1958, 0.1211, 0.0514, 0.0494, 0.0475, 0.0365, 0.0243, 0.0209, 0.0201, 0.0196, 0.0179, 0.0178, 0.0171, 0.017, 0.0146, 0.0091, 0.0083, 0.0078, 0.0064, 0.006, 0.0057, 0.0052, 0.0051, 0.005, 0.0046, 0.0041, 0.0038, 0.0035, 0.0033, 0.0033, 0.0033, 0.0031, 0.003, 0.0027, 0.0027, 0.0027, 0.0025, 0.0025, 0.0024, 0.0024, 0.0024, 0.0024, 0.0024, 0.0023, 0.0022, 0.0022, 0.0022, 0.0022, 0.0021, 0.0021, 0.0021, 0.0021, 0.0021, 0.002, 0.002, 0.002, 0.002, 0.002, 0.0019, 0.0019, 0.0019, 0.0019, 0.0019, 0.0019, 0.0019, 0.0019, 0.0019, 0.0018, 0.0018, 0.0018, 0.0018, 0.0018, 0.0018, 0.0017, 0.0017, 0.0017, 0.0017, 0.0017, 0.0017, 0.0017, 0.0016, 0.0016, 0.0016, 0.0016, 0.0016, 0.0016, 0.0016, 0.0016, 0.0016, 0.0016, 0.0015, 0.0015, 0.0015, 0.0015, 0.0015, 0.0015, 0.0015, 0.0015, 0.0015, 0.0015, 0.0015, 0.0014, 0.0014, 0.0014, 0.0014, 0.0014, 0.0014, 0.0014, 0.0014, 0.0014, 0.0014, 0.0013, 0.0013, 0.0013, 0.0013, 0.0013, 0.0013, 0.0013, 0.0013, 0.0013, 0.0013, 0.0013, 0.0012, 0.0012, 0.0012, 0.0012, 0.0012, 0.0012, 0.0012, 0.0012, 0.0011, 0.0011, 0.0011, 0.0011, 0.0011, 0.0011, 0.0011, 0.0011, 0.0011, 0.0011, 0.0011, 0.0011, 0.0011, 0.0011, 0.0011, 0.001, 0.001, 0.001, 0.001, 0.001, 0.001, 0.001, 0.001, 0.001, 0.001, 0.001, 0.001, 0.001, 0.001, 0.001, 0.001, 0.0009, 0.0009, 0.0009, 0.0009, 0.0009, 0.0009, 0.0009, 0.0009, 0.0009, 0.0009, 0.0009, 0.0009, 0.0009, 0.0009, 0.0008, 0.0008, 0.0008, 0.0008, 0.0008, 0.0008, 0.0008, 0.0008, 0.0008, 0.0008, 0.0008, 0.0008, 0.0008, 0.0008, 0.0007, 0.0007, 0.0007, 0.0007, 0.0007, 0.0007, 0.0007, 0.0007, 0.0007, 0.0006, 0.0006, 0.0006, 0.0006, 0.0006, 0.0006, 0.0006, 0.0006, 0.0005, 0.0005, 0.0005, 0.0005, 0.0005, 0.0005, 0.0004, 0.0004, 0.0004], \"textposition\": \"outside\", \"x\": [0.19580907915165907, 0.1211202231799344, 0.05143041902322174, 0.04938165239603791, 0.0475043118538007, 0.0365173189917935, 0.024283469792696057, 0.020924589074612556, 0.0200619630823601, 0.01958441649646093, 0.017915521303351684, 0.01779042309279165, 0.017123859347982932, 0.016952921574119782, 0.014630535867212557, 0.009140011059011837, 0.008343340388472825, 0.007825886390215605, 0.006371664235735074, 0.006019192730636972, 0.005679475469638326, 0.005175730785319201, 0.005143162601608365, 0.0050178458416089465, 0.004597734633246601, 0.004067186312398267, 0.003765237806654839, 0.0034559174887271544, 0.0033163397403028093, 0.0032557474889178344, 0.0032541421506635223, 0.0031259386079531075, 0.0029962632890165593, 0.0027080006697690236, 0.0026834289210828657, 0.0026522850874215547, 0.0025319325690819723, 0.002471520635856712, 0.0024340715455506575, 0.002432124491184679, 0.0024221828499042747, 0.0023726199289413707, 0.0023524457156703354, 0.0022740086071201277, 0.002230959543439055, 0.0022040786581801275, 0.002191921881872867, 0.0021878860298745386, 0.002142024676874612, 0.0021380297312165106, 0.00211481541848011, 0.002102599117367672, 0.002065875617883234, 0.0020295771331810893, 0.002021655008787674, 0.0020081513470537036, 0.001976939760484532, 0.001970501641781716, 0.001949463043419248, 0.0019374221196660339, 0.001933546866637916, 0.0019041846015972676, 0.0019040940381757718, 0.0018954564136560669, 0.001866930445196819, 0.0018655244085986962, 0.0018558705669658854, 0.0018079497853169175, 0.0017993666194206584, 0.001794747030599646, 0.001794507975437646, 0.0017890660166424606, 0.0017587222918741079, 0.0017460765133440858, 0.0017210016272011873, 0.001715456268801746, 0.0017106601640696872, 0.0017009638262424464, 0.0016950751116250426, 0.0016516793037393417, 0.0016461626639341493, 0.0016072574517044629, 0.0016034449098236369, 0.0015963239014607645, 0.0015889404313959934, 0.001572133522321536, 0.0015719746294522614, 0.001567668454759265, 0.0015675092111668508, 0.0015566316810160688, 0.0015492834734135768, 0.0015486947061591572, 0.0015165819549637736, 0.0015043548128708607, 0.0015025978129813294, 0.001502553044021472, 0.0014952294659564412, 0.001494778831393939, 0.0014711970846698294, 0.0014702933789324415, 0.001464263102469544, 0.001445217876788714, 0.0014351823992924952, 0.0014348776546735636, 0.0014336143714463155, 0.0014080922598080714, 0.0014019893217966802, 0.0014006576734580793, 0.001390821798837763, 0.001381784150405167, 0.0013539197245801939, 0.001347815242962418, 0.001343356161143135, 0.001333568646321126, 0.0013317433287267806, 0.001303096678861851, 0.0012969746394120988, 0.0012883225483153583, 0.0012880770829958872, 0.0012785124366949496, 0.00126821033102466, 0.001267827145846489, 0.0012459208390665838, 0.0012170444217109127, 0.0012076837005160655, 0.001199587881170617, 0.0011826217444681534, 0.0011783120157138499, 0.0011701601598607457, 0.0011548115271049013, 0.001129546961112129, 0.0011215506318195789, 0.001107805547184507, 0.0011058379186566932, 0.0011036066540149256, 0.0010992709778752268, 0.0010954055898463881, 0.001093768305833851, 0.001093680172029214, 0.0010902407486839047, 0.0010811437553923822, 0.0010702872094462688, 0.0010694885960593518, 0.0010649639103000757, 0.0010519224018181864, 0.0010440622710889622, 0.0010402091581763692, 0.0010269856610019671, 0.0010258660277017515, 0.0010194422954548827, 0.0010180881008892248, 0.0010123432310858809, 0.0009956216142565, 0.0009944631737443582, 0.0009816030649408326, 0.000980126488066795, 0.0009732280724753229, 0.0009725627065409085, 0.0009703950565724167, 0.0009559119496314044, 0.0009554500840561694, 0.0009460508193894927, 0.0009458260341871494, 0.0009340400235551552, 0.000931540330792374, 0.0009231890494888862, 0.0009201662586495104, 0.0009131130656230043, 0.0009023596834368108, 0.0009006060729909547, 0.0008924444723173389, 0.0008849257697512815, 0.0008820000571084935, 0.0008683103848303308, 0.0008533450419127717, 0.0008427926384031465, 0.0008364415272277848, 0.0008292104940740959, 0.0008291475235555233, 0.0008160921602441583, 0.000814418575848599, 0.000808761152302234, 0.0008020357535344482, 0.0007991816982701888, 0.0007904693605620972, 0.0007837343098579041, 0.0007770098122237875, 0.000774755051829455, 0.0007564545707309685, 0.000728347589986515, 0.0007137868821585422, 0.000702039629500612, 0.0007003832175238787, 0.0006945456255594299, 0.0006887265459493725, 0.0006866569475237257, 0.0006769978697139243, 0.0006580996847395648, 0.0006381075626727733, 0.0006340067912752767, 0.0006332864986301808, 0.0006025532074038392, 0.0005983674670661885, 0.0005722555053636772, 0.0005717317871338802, 0.0005536427568798155, 0.0005446624897126688, 0.0005355090818667385, 0.000499648241975428, 0.0004828926165812603, 0.00047620899554546637, 0.0004569487758115242, 0.0004120354053546445, 0.000386394856960277, 0.0003622627763323623], \"y\": [\"0\", \"4\", \"23\", \"25\", \"30\", \"124\", \"29\", \"6\", \"202\", \"123\", \"104\", \"155\", \"44\", \"152\", \"28\", \"34\", \"179\", \"26\", \"17\", \"136\", \"107\", \"31\", \"211\", \"206\", \"98\", \"1\", \"187\", \"192\", \"90\", \"143\", \"141\", \"208\", \"67\", \"83\", \"142\", \"19\", \"16\", \"92\", \"57\", \"24\", \"101\", \"12\", \"161\", \"185\", \"120\", \"125\", \"210\", \"5\", \"190\", \"182\", \"176\", \"186\", \"66\", \"3\", \"70\", \"113\", \"140\", \"79\", \"133\", \"112\", \"36\", \"105\", \"43\", \"197\", \"149\", \"131\", \"20\", \"40\", \"95\", \"148\", \"45\", \"111\", \"189\", \"139\", \"82\", \"119\", \"8\", \"46\", \"49\", \"2\", \"54\", \"32\", \"61\", \"160\", \"27\", \"100\", \"114\", \"165\", \"151\", \"21\", \"50\", \"51\", \"213\", \"11\", \"93\", \"35\", \"135\", \"74\", \"87\", \"9\", \"153\", \"171\", \"181\", \"118\", \"94\", \"158\", \"91\", \"157\", \"205\", \"195\", \"71\", \"80\", \"154\", \"162\", \"174\", \"214\", \"33\", \"117\", \"37\", \"88\", \"156\", \"86\", \"96\", \"170\", \"132\", \"58\", \"41\", \"10\", \"173\", \"169\", \"60\", \"201\", \"134\", \"59\", \"212\", \"163\", \"196\", \"99\", \"146\", \"115\", \"199\", \"81\", \"144\", \"68\", \"69\", \"150\", \"166\", \"103\", \"77\", \"18\", \"102\", \"138\", \"204\", \"207\", \"55\", \"97\", \"200\", \"72\", \"65\", \"38\", \"175\", \"137\", \"168\", \"76\", \"39\", \"110\", \"209\", \"14\", \"127\", \"198\", \"48\", \"167\", \"194\", \"13\", \"180\", \"122\", \"109\", \"42\", \"75\", \"129\", \"184\", \"130\", \"7\", \"85\", \"121\", \"178\", \"147\", \"84\", \"52\", \"15\", \"56\", \"108\", \"203\", \"116\", \"188\", \"177\", \"106\", \"164\", \"78\", \"53\", \"128\", \"191\", \"63\", \"62\", \"172\", \"64\", \"22\", \"73\", \"145\", \"193\", \"159\", \"126\", \"183\", \"89\", \"47\"], \"type\": \"bar\", \"uid\": \"c169b6de-fca6-42bf-9412-51efc2d822ec\"}], {\"autosize\": false, \"height\": 1000, \"width\": 1000, \"xaxis\": {\"tickfont\": {\"color\": \"black\", \"size\": 12}, \"title\": \"Feature Importances\"}, \"yaxis\": {\"automargin\": true}}, {\"showLink\": true, \"linkText\": \"Export to plot.ly\", \"plotlyServerURL\": \"https://plot.ly\"})});</script>"
      ]
     },
     "metadata": {},
     "output_type": "display_data"
    },
    {
     "name": "stdout",
     "output_type": "stream",
     "text": [
      "\n",
      "\n",
      "\u001b[1mAdaoost Classifier\u001b[0m\n",
      "Accuracy of the model for training data is: 0.9038110612015722\n",
      "Confusion Matrix for training data is:\n"
     ]
    },
    {
     "data": {
      "text/plain": [
       "Predicted  False  True  __all__\n",
       "Actual                         \n",
       "False      22298  2042    24340\n",
       "True         699  3457     4156\n",
       "__all__    22997  5499    28496"
      ]
     },
     "metadata": {},
     "output_type": "display_data"
    },
    {
     "name": "stdout",
     "output_type": "stream",
     "text": [
      "Accuracy of the model for test data is: 0.9010890035208384\n",
      "Confusion Matrix for test data is:\n"
     ]
    },
    {
     "data": {
      "text/plain": [
       "Predicted  False  True  __all__\n",
       "Actual                         \n",
       "False       9520   918    10438\n",
       "True         290  1485     1775\n",
       "__all__     9810  2403    12213"
      ]
     },
     "metadata": {},
     "output_type": "display_data"
    },
    {
     "data": {
      "application/vnd.plotly.v1+json": {
       "config": {
        "linkText": "Export to plot.ly",
        "plotlyServerURL": "https://plot.ly",
        "showLink": true
       },
       "data": [
        {
         "marker": {
          "color": "rgb(158,202,225)",
          "line": {
           "color": "rgb(8,48,107)",
           "width": 1.5
          }
         },
         "opacity": 0.6,
         "orientation": "h",
         "text": [
          0.08,
          0.04,
          0.04,
          0.04,
          0.02,
          0.02,
          0.02,
          0.02,
          0.02,
          0.02,
          0.02,
          0.02,
          0.02,
          0.02,
          0.02,
          0.02,
          0.02,
          0.02,
          0.02,
          0.02,
          0.02,
          0.02,
          0.02,
          0.02,
          0.02,
          0.02,
          0.02,
          0.02,
          0.02,
          0.02,
          0.02,
          0.02,
          0.02,
          0.02,
          0.02,
          0.02,
          0.02,
          0.02,
          0.02,
          0.02,
          0.02,
          0.02,
          0.02,
          0.02,
          0,
          0,
          0,
          0,
          0,
          0,
          0,
          0,
          0,
          0,
          0,
          0,
          0,
          0,
          0,
          0,
          0,
          0,
          0,
          0,
          0,
          0,
          0,
          0,
          0,
          0,
          0,
          0,
          0,
          0,
          0,
          0,
          0,
          0,
          0,
          0,
          0,
          0,
          0,
          0,
          0,
          0,
          0,
          0,
          0,
          0,
          0,
          0,
          0,
          0,
          0,
          0,
          0,
          0,
          0,
          0,
          0,
          0,
          0,
          0,
          0,
          0,
          0,
          0,
          0,
          0,
          0,
          0,
          0,
          0,
          0,
          0,
          0,
          0,
          0,
          0,
          0,
          0,
          0,
          0,
          0,
          0,
          0,
          0,
          0,
          0,
          0,
          0,
          0,
          0,
          0,
          0,
          0,
          0,
          0,
          0,
          0,
          0,
          0,
          0,
          0,
          0,
          0,
          0,
          0,
          0,
          0,
          0,
          0,
          0,
          0,
          0,
          0,
          0,
          0,
          0,
          0,
          0,
          0,
          0,
          0,
          0,
          0,
          0,
          0,
          0,
          0,
          0,
          0,
          0,
          0,
          0,
          0,
          0,
          0,
          0,
          0,
          0,
          0,
          0,
          0,
          0,
          0,
          0,
          0,
          0,
          0,
          0,
          0,
          0,
          0,
          0,
          0,
          0,
          0,
          0,
          0,
          0,
          0,
          0,
          0,
          0,
          0,
          0,
          0,
          0,
          0,
          0,
          0,
          0,
          0
         ],
         "textposition": "outside",
         "type": "bar",
         "uid": "670b1b49-7e6f-46cc-9048-df353c76eb1b",
         "x": [
          0.08,
          0.04,
          0.04,
          0.04,
          0.02,
          0.02,
          0.02,
          0.02,
          0.02,
          0.02,
          0.02,
          0.02,
          0.02,
          0.02,
          0.02,
          0.02,
          0.02,
          0.02,
          0.02,
          0.02,
          0.02,
          0.02,
          0.02,
          0.02,
          0.02,
          0.02,
          0.02,
          0.02,
          0.02,
          0.02,
          0.02,
          0.02,
          0.02,
          0.02,
          0.02,
          0.02,
          0.02,
          0.02,
          0.02,
          0.02,
          0.02,
          0.02,
          0.02,
          0.02,
          0,
          0,
          0,
          0,
          0,
          0,
          0,
          0,
          0,
          0,
          0,
          0,
          0,
          0,
          0,
          0,
          0,
          0,
          0,
          0,
          0,
          0,
          0,
          0,
          0,
          0,
          0,
          0,
          0,
          0,
          0,
          0,
          0,
          0,
          0,
          0,
          0,
          0,
          0,
          0,
          0,
          0,
          0,
          0,
          0,
          0,
          0,
          0,
          0,
          0,
          0,
          0,
          0,
          0,
          0,
          0,
          0,
          0,
          0,
          0,
          0,
          0,
          0,
          0,
          0,
          0,
          0,
          0,
          0,
          0,
          0,
          0,
          0,
          0,
          0,
          0,
          0,
          0,
          0,
          0,
          0,
          0,
          0,
          0,
          0,
          0,
          0,
          0,
          0,
          0,
          0,
          0,
          0,
          0,
          0,
          0,
          0,
          0,
          0,
          0,
          0,
          0,
          0,
          0,
          0,
          0,
          0,
          0,
          0,
          0,
          0,
          0,
          0,
          0,
          0,
          0,
          0,
          0,
          0,
          0,
          0,
          0,
          0,
          0,
          0,
          0,
          0,
          0,
          0,
          0,
          0,
          0,
          0,
          0,
          0,
          0,
          0,
          0,
          0,
          0,
          0,
          0,
          0,
          0,
          0,
          0,
          0,
          0,
          0,
          0,
          0,
          0,
          0,
          0,
          0,
          0,
          0,
          0,
          0,
          0,
          0,
          0,
          0,
          0,
          0,
          0,
          0,
          0,
          0,
          0,
          0
         ],
         "y": [
          "0",
          "91",
          "30",
          "20",
          "58",
          "75",
          "160",
          "69",
          "65",
          "174",
          "149",
          "177",
          "181",
          "183",
          "42",
          "185",
          "151",
          "88",
          "36",
          "96",
          "138",
          "99",
          "100",
          "136",
          "135",
          "104",
          "106",
          "1",
          "110",
          "116",
          "125",
          "119",
          "186",
          "60",
          "9",
          "19",
          "22",
          "5",
          "27",
          "195",
          "24",
          "2",
          "192",
          "26",
          "204",
          "139",
          "203",
          "140",
          "141",
          "205",
          "142",
          "144",
          "143",
          "206",
          "202",
          "145",
          "146",
          "147",
          "148",
          "201",
          "137",
          "191",
          "207",
          "130",
          "124",
          "213",
          "212",
          "126",
          "127",
          "128",
          "129",
          "131",
          "208",
          "132",
          "211",
          "210",
          "133",
          "209",
          "134",
          "200",
          "150",
          "155",
          "152",
          "180",
          "172",
          "173",
          "197",
          "175",
          "176",
          "178",
          "179",
          "182",
          "170",
          "196",
          "184",
          "194",
          "193",
          "187",
          "188",
          "189",
          "171",
          "169",
          "153",
          "161",
          "154",
          "190",
          "156",
          "157",
          "158",
          "159",
          "199",
          "162",
          "122",
          "163",
          "164",
          "198",
          "165",
          "166",
          "167",
          "168",
          "123",
          "107",
          "121",
          "46",
          "35",
          "37",
          "38",
          "39",
          "40",
          "41",
          "43",
          "44",
          "45",
          "47",
          "59",
          "48",
          "49",
          "50",
          "51",
          "52",
          "53",
          "54",
          "55",
          "56",
          "34",
          "33",
          "32",
          "31",
          "3",
          "4",
          "6",
          "7",
          "8",
          "10",
          "11",
          "12",
          "13",
          "14",
          "15",
          "16",
          "17",
          "18",
          "21",
          "23",
          "25",
          "28",
          "29",
          "57",
          "61",
          "120",
          "103",
          "90",
          "92",
          "93",
          "94",
          "95",
          "97",
          "98",
          "101",
          "102",
          "105",
          "62",
          "108",
          "109",
          "111",
          "112",
          "113",
          "114",
          "115",
          "117",
          "118",
          "89",
          "87",
          "86",
          "85",
          "63",
          "64",
          "66",
          "67",
          "68",
          "70",
          "71",
          "72",
          "73",
          "74",
          "76",
          "77",
          "78",
          "79",
          "80",
          "81",
          "82",
          "83",
          "84",
          "214"
         ]
        }
       ],
       "layout": {
        "autosize": false,
        "height": 1000,
        "width": 1000,
        "xaxis": {
         "tickfont": {
          "color": "black",
          "size": 12
         },
         "title": "Feature Importances"
        },
        "yaxis": {
         "automargin": true
        }
       }
      },
      "text/html": [
       "<div id=\"c8a7bb51-79f8-4b8d-9a4c-79cdcd44399c\" style=\"height: 1000px; width: 1000px;\" class=\"plotly-graph-div\"></div><script type=\"text/javascript\">require([\"plotly\"], function(Plotly) { window.PLOTLYENV=window.PLOTLYENV || {};window.PLOTLYENV.BASE_URL=\"https://plot.ly\";Plotly.newPlot(\"c8a7bb51-79f8-4b8d-9a4c-79cdcd44399c\", [{\"marker\": {\"color\": \"rgb(158,202,225)\", \"line\": {\"color\": \"rgb(8,48,107)\", \"width\": 1.5}}, \"opacity\": 0.6, \"orientation\": \"h\", \"text\": [0.08, 0.04, 0.04, 0.04, 0.02, 0.02, 0.02, 0.02, 0.02, 0.02, 0.02, 0.02, 0.02, 0.02, 0.02, 0.02, 0.02, 0.02, 0.02, 0.02, 0.02, 0.02, 0.02, 0.02, 0.02, 0.02, 0.02, 0.02, 0.02, 0.02, 0.02, 0.02, 0.02, 0.02, 0.02, 0.02, 0.02, 0.02, 0.02, 0.02, 0.02, 0.02, 0.02, 0.02, 0.0, 0.0, 0.0, 0.0, 0.0, 0.0, 0.0, 0.0, 0.0, 0.0, 0.0, 0.0, 0.0, 0.0, 0.0, 0.0, 0.0, 0.0, 0.0, 0.0, 0.0, 0.0, 0.0, 0.0, 0.0, 0.0, 0.0, 0.0, 0.0, 0.0, 0.0, 0.0, 0.0, 0.0, 0.0, 0.0, 0.0, 0.0, 0.0, 0.0, 0.0, 0.0, 0.0, 0.0, 0.0, 0.0, 0.0, 0.0, 0.0, 0.0, 0.0, 0.0, 0.0, 0.0, 0.0, 0.0, 0.0, 0.0, 0.0, 0.0, 0.0, 0.0, 0.0, 0.0, 0.0, 0.0, 0.0, 0.0, 0.0, 0.0, 0.0, 0.0, 0.0, 0.0, 0.0, 0.0, 0.0, 0.0, 0.0, 0.0, 0.0, 0.0, 0.0, 0.0, 0.0, 0.0, 0.0, 0.0, 0.0, 0.0, 0.0, 0.0, 0.0, 0.0, 0.0, 0.0, 0.0, 0.0, 0.0, 0.0, 0.0, 0.0, 0.0, 0.0, 0.0, 0.0, 0.0, 0.0, 0.0, 0.0, 0.0, 0.0, 0.0, 0.0, 0.0, 0.0, 0.0, 0.0, 0.0, 0.0, 0.0, 0.0, 0.0, 0.0, 0.0, 0.0, 0.0, 0.0, 0.0, 0.0, 0.0, 0.0, 0.0, 0.0, 0.0, 0.0, 0.0, 0.0, 0.0, 0.0, 0.0, 0.0, 0.0, 0.0, 0.0, 0.0, 0.0, 0.0, 0.0, 0.0, 0.0, 0.0, 0.0, 0.0, 0.0, 0.0, 0.0, 0.0, 0.0, 0.0, 0.0, 0.0, 0.0, 0.0, 0.0, 0.0, 0.0, 0.0, 0.0, 0.0, 0.0], \"textposition\": \"outside\", \"x\": [0.08, 0.04, 0.04, 0.04, 0.02, 0.02, 0.02, 0.02, 0.02, 0.02, 0.02, 0.02, 0.02, 0.02, 0.02, 0.02, 0.02, 0.02, 0.02, 0.02, 0.02, 0.02, 0.02, 0.02, 0.02, 0.02, 0.02, 0.02, 0.02, 0.02, 0.02, 0.02, 0.02, 0.02, 0.02, 0.02, 0.02, 0.02, 0.02, 0.02, 0.02, 0.02, 0.02, 0.02, 0.0, 0.0, 0.0, 0.0, 0.0, 0.0, 0.0, 0.0, 0.0, 0.0, 0.0, 0.0, 0.0, 0.0, 0.0, 0.0, 0.0, 0.0, 0.0, 0.0, 0.0, 0.0, 0.0, 0.0, 0.0, 0.0, 0.0, 0.0, 0.0, 0.0, 0.0, 0.0, 0.0, 0.0, 0.0, 0.0, 0.0, 0.0, 0.0, 0.0, 0.0, 0.0, 0.0, 0.0, 0.0, 0.0, 0.0, 0.0, 0.0, 0.0, 0.0, 0.0, 0.0, 0.0, 0.0, 0.0, 0.0, 0.0, 0.0, 0.0, 0.0, 0.0, 0.0, 0.0, 0.0, 0.0, 0.0, 0.0, 0.0, 0.0, 0.0, 0.0, 0.0, 0.0, 0.0, 0.0, 0.0, 0.0, 0.0, 0.0, 0.0, 0.0, 0.0, 0.0, 0.0, 0.0, 0.0, 0.0, 0.0, 0.0, 0.0, 0.0, 0.0, 0.0, 0.0, 0.0, 0.0, 0.0, 0.0, 0.0, 0.0, 0.0, 0.0, 0.0, 0.0, 0.0, 0.0, 0.0, 0.0, 0.0, 0.0, 0.0, 0.0, 0.0, 0.0, 0.0, 0.0, 0.0, 0.0, 0.0, 0.0, 0.0, 0.0, 0.0, 0.0, 0.0, 0.0, 0.0, 0.0, 0.0, 0.0, 0.0, 0.0, 0.0, 0.0, 0.0, 0.0, 0.0, 0.0, 0.0, 0.0, 0.0, 0.0, 0.0, 0.0, 0.0, 0.0, 0.0, 0.0, 0.0, 0.0, 0.0, 0.0, 0.0, 0.0, 0.0, 0.0, 0.0, 0.0, 0.0, 0.0, 0.0, 0.0, 0.0, 0.0, 0.0, 0.0, 0.0, 0.0, 0.0, 0.0], \"y\": [\"0\", \"91\", \"30\", \"20\", \"58\", \"75\", \"160\", \"69\", \"65\", \"174\", \"149\", \"177\", \"181\", \"183\", \"42\", \"185\", \"151\", \"88\", \"36\", \"96\", \"138\", \"99\", \"100\", \"136\", \"135\", \"104\", \"106\", \"1\", \"110\", \"116\", \"125\", \"119\", \"186\", \"60\", \"9\", \"19\", \"22\", \"5\", \"27\", \"195\", \"24\", \"2\", \"192\", \"26\", \"204\", \"139\", \"203\", \"140\", \"141\", \"205\", \"142\", \"144\", \"143\", \"206\", \"202\", \"145\", \"146\", \"147\", \"148\", \"201\", \"137\", \"191\", \"207\", \"130\", \"124\", \"213\", \"212\", \"126\", \"127\", \"128\", \"129\", \"131\", \"208\", \"132\", \"211\", \"210\", \"133\", \"209\", \"134\", \"200\", \"150\", \"155\", \"152\", \"180\", \"172\", \"173\", \"197\", \"175\", \"176\", \"178\", \"179\", \"182\", \"170\", \"196\", \"184\", \"194\", \"193\", \"187\", \"188\", \"189\", \"171\", \"169\", \"153\", \"161\", \"154\", \"190\", \"156\", \"157\", \"158\", \"159\", \"199\", \"162\", \"122\", \"163\", \"164\", \"198\", \"165\", \"166\", \"167\", \"168\", \"123\", \"107\", \"121\", \"46\", \"35\", \"37\", \"38\", \"39\", \"40\", \"41\", \"43\", \"44\", \"45\", \"47\", \"59\", \"48\", \"49\", \"50\", \"51\", \"52\", \"53\", \"54\", \"55\", \"56\", \"34\", \"33\", \"32\", \"31\", \"3\", \"4\", \"6\", \"7\", \"8\", \"10\", \"11\", \"12\", \"13\", \"14\", \"15\", \"16\", \"17\", \"18\", \"21\", \"23\", \"25\", \"28\", \"29\", \"57\", \"61\", \"120\", \"103\", \"90\", \"92\", \"93\", \"94\", \"95\", \"97\", \"98\", \"101\", \"102\", \"105\", \"62\", \"108\", \"109\", \"111\", \"112\", \"113\", \"114\", \"115\", \"117\", \"118\", \"89\", \"87\", \"86\", \"85\", \"63\", \"64\", \"66\", \"67\", \"68\", \"70\", \"71\", \"72\", \"73\", \"74\", \"76\", \"77\", \"78\", \"79\", \"80\", \"81\", \"82\", \"83\", \"84\", \"214\"], \"type\": \"bar\", \"uid\": \"670b1b49-7e6f-46cc-9048-df353c76eb1b\"}], {\"autosize\": false, \"height\": 1000, \"width\": 1000, \"xaxis\": {\"tickfont\": {\"color\": \"black\", \"size\": 12}, \"title\": \"Feature Importances\"}, \"yaxis\": {\"automargin\": true}}, {\"showLink\": true, \"linkText\": \"Export to plot.ly\", \"plotlyServerURL\": \"https://plot.ly\"})});</script>"
      ],
      "text/vnd.plotly.v1+html": [
       "<div id=\"c8a7bb51-79f8-4b8d-9a4c-79cdcd44399c\" style=\"height: 1000px; width: 1000px;\" class=\"plotly-graph-div\"></div><script type=\"text/javascript\">require([\"plotly\"], function(Plotly) { window.PLOTLYENV=window.PLOTLYENV || {};window.PLOTLYENV.BASE_URL=\"https://plot.ly\";Plotly.newPlot(\"c8a7bb51-79f8-4b8d-9a4c-79cdcd44399c\", [{\"marker\": {\"color\": \"rgb(158,202,225)\", \"line\": {\"color\": \"rgb(8,48,107)\", \"width\": 1.5}}, \"opacity\": 0.6, \"orientation\": \"h\", \"text\": [0.08, 0.04, 0.04, 0.04, 0.02, 0.02, 0.02, 0.02, 0.02, 0.02, 0.02, 0.02, 0.02, 0.02, 0.02, 0.02, 0.02, 0.02, 0.02, 0.02, 0.02, 0.02, 0.02, 0.02, 0.02, 0.02, 0.02, 0.02, 0.02, 0.02, 0.02, 0.02, 0.02, 0.02, 0.02, 0.02, 0.02, 0.02, 0.02, 0.02, 0.02, 0.02, 0.02, 0.02, 0.0, 0.0, 0.0, 0.0, 0.0, 0.0, 0.0, 0.0, 0.0, 0.0, 0.0, 0.0, 0.0, 0.0, 0.0, 0.0, 0.0, 0.0, 0.0, 0.0, 0.0, 0.0, 0.0, 0.0, 0.0, 0.0, 0.0, 0.0, 0.0, 0.0, 0.0, 0.0, 0.0, 0.0, 0.0, 0.0, 0.0, 0.0, 0.0, 0.0, 0.0, 0.0, 0.0, 0.0, 0.0, 0.0, 0.0, 0.0, 0.0, 0.0, 0.0, 0.0, 0.0, 0.0, 0.0, 0.0, 0.0, 0.0, 0.0, 0.0, 0.0, 0.0, 0.0, 0.0, 0.0, 0.0, 0.0, 0.0, 0.0, 0.0, 0.0, 0.0, 0.0, 0.0, 0.0, 0.0, 0.0, 0.0, 0.0, 0.0, 0.0, 0.0, 0.0, 0.0, 0.0, 0.0, 0.0, 0.0, 0.0, 0.0, 0.0, 0.0, 0.0, 0.0, 0.0, 0.0, 0.0, 0.0, 0.0, 0.0, 0.0, 0.0, 0.0, 0.0, 0.0, 0.0, 0.0, 0.0, 0.0, 0.0, 0.0, 0.0, 0.0, 0.0, 0.0, 0.0, 0.0, 0.0, 0.0, 0.0, 0.0, 0.0, 0.0, 0.0, 0.0, 0.0, 0.0, 0.0, 0.0, 0.0, 0.0, 0.0, 0.0, 0.0, 0.0, 0.0, 0.0, 0.0, 0.0, 0.0, 0.0, 0.0, 0.0, 0.0, 0.0, 0.0, 0.0, 0.0, 0.0, 0.0, 0.0, 0.0, 0.0, 0.0, 0.0, 0.0, 0.0, 0.0, 0.0, 0.0, 0.0, 0.0, 0.0, 0.0, 0.0, 0.0, 0.0, 0.0, 0.0, 0.0, 0.0], \"textposition\": \"outside\", \"x\": [0.08, 0.04, 0.04, 0.04, 0.02, 0.02, 0.02, 0.02, 0.02, 0.02, 0.02, 0.02, 0.02, 0.02, 0.02, 0.02, 0.02, 0.02, 0.02, 0.02, 0.02, 0.02, 0.02, 0.02, 0.02, 0.02, 0.02, 0.02, 0.02, 0.02, 0.02, 0.02, 0.02, 0.02, 0.02, 0.02, 0.02, 0.02, 0.02, 0.02, 0.02, 0.02, 0.02, 0.02, 0.0, 0.0, 0.0, 0.0, 0.0, 0.0, 0.0, 0.0, 0.0, 0.0, 0.0, 0.0, 0.0, 0.0, 0.0, 0.0, 0.0, 0.0, 0.0, 0.0, 0.0, 0.0, 0.0, 0.0, 0.0, 0.0, 0.0, 0.0, 0.0, 0.0, 0.0, 0.0, 0.0, 0.0, 0.0, 0.0, 0.0, 0.0, 0.0, 0.0, 0.0, 0.0, 0.0, 0.0, 0.0, 0.0, 0.0, 0.0, 0.0, 0.0, 0.0, 0.0, 0.0, 0.0, 0.0, 0.0, 0.0, 0.0, 0.0, 0.0, 0.0, 0.0, 0.0, 0.0, 0.0, 0.0, 0.0, 0.0, 0.0, 0.0, 0.0, 0.0, 0.0, 0.0, 0.0, 0.0, 0.0, 0.0, 0.0, 0.0, 0.0, 0.0, 0.0, 0.0, 0.0, 0.0, 0.0, 0.0, 0.0, 0.0, 0.0, 0.0, 0.0, 0.0, 0.0, 0.0, 0.0, 0.0, 0.0, 0.0, 0.0, 0.0, 0.0, 0.0, 0.0, 0.0, 0.0, 0.0, 0.0, 0.0, 0.0, 0.0, 0.0, 0.0, 0.0, 0.0, 0.0, 0.0, 0.0, 0.0, 0.0, 0.0, 0.0, 0.0, 0.0, 0.0, 0.0, 0.0, 0.0, 0.0, 0.0, 0.0, 0.0, 0.0, 0.0, 0.0, 0.0, 0.0, 0.0, 0.0, 0.0, 0.0, 0.0, 0.0, 0.0, 0.0, 0.0, 0.0, 0.0, 0.0, 0.0, 0.0, 0.0, 0.0, 0.0, 0.0, 0.0, 0.0, 0.0, 0.0, 0.0, 0.0, 0.0, 0.0, 0.0, 0.0, 0.0, 0.0, 0.0, 0.0, 0.0], \"y\": [\"0\", \"91\", \"30\", \"20\", \"58\", \"75\", \"160\", \"69\", \"65\", \"174\", \"149\", \"177\", \"181\", \"183\", \"42\", \"185\", \"151\", \"88\", \"36\", \"96\", \"138\", \"99\", \"100\", \"136\", \"135\", \"104\", \"106\", \"1\", \"110\", \"116\", \"125\", \"119\", \"186\", \"60\", \"9\", \"19\", \"22\", \"5\", \"27\", \"195\", \"24\", \"2\", \"192\", \"26\", \"204\", \"139\", \"203\", \"140\", \"141\", \"205\", \"142\", \"144\", \"143\", \"206\", \"202\", \"145\", \"146\", \"147\", \"148\", \"201\", \"137\", \"191\", \"207\", \"130\", \"124\", \"213\", \"212\", \"126\", \"127\", \"128\", \"129\", \"131\", \"208\", \"132\", \"211\", \"210\", \"133\", \"209\", \"134\", \"200\", \"150\", \"155\", \"152\", \"180\", \"172\", \"173\", \"197\", \"175\", \"176\", \"178\", \"179\", \"182\", \"170\", \"196\", \"184\", \"194\", \"193\", \"187\", \"188\", \"189\", \"171\", \"169\", \"153\", \"161\", \"154\", \"190\", \"156\", \"157\", \"158\", \"159\", \"199\", \"162\", \"122\", \"163\", \"164\", \"198\", \"165\", \"166\", \"167\", \"168\", \"123\", \"107\", \"121\", \"46\", \"35\", \"37\", \"38\", \"39\", \"40\", \"41\", \"43\", \"44\", \"45\", \"47\", \"59\", \"48\", \"49\", \"50\", \"51\", \"52\", \"53\", \"54\", \"55\", \"56\", \"34\", \"33\", \"32\", \"31\", \"3\", \"4\", \"6\", \"7\", \"8\", \"10\", \"11\", \"12\", \"13\", \"14\", \"15\", \"16\", \"17\", \"18\", \"21\", \"23\", \"25\", \"28\", \"29\", \"57\", \"61\", \"120\", \"103\", \"90\", \"92\", \"93\", \"94\", \"95\", \"97\", \"98\", \"101\", \"102\", \"105\", \"62\", \"108\", \"109\", \"111\", \"112\", \"113\", \"114\", \"115\", \"117\", \"118\", \"89\", \"87\", \"86\", \"85\", \"63\", \"64\", \"66\", \"67\", \"68\", \"70\", \"71\", \"72\", \"73\", \"74\", \"76\", \"77\", \"78\", \"79\", \"80\", \"81\", \"82\", \"83\", \"84\", \"214\"], \"type\": \"bar\", \"uid\": \"670b1b49-7e6f-46cc-9048-df353c76eb1b\"}], {\"autosize\": false, \"height\": 1000, \"width\": 1000, \"xaxis\": {\"tickfont\": {\"color\": \"black\", \"size\": 12}, \"title\": \"Feature Importances\"}, \"yaxis\": {\"automargin\": true}}, {\"showLink\": true, \"linkText\": \"Export to plot.ly\", \"plotlyServerURL\": \"https://plot.ly\"})});</script>"
      ]
     },
     "metadata": {},
     "output_type": "display_data"
    },
    {
     "name": "stdout",
     "output_type": "stream",
     "text": [
      "\n",
      "\n",
      "\u001b[1mGradientBoosting Classifier\u001b[0m\n",
      "Accuracy of the model for training data is: 0.9140581134194273\n",
      "Confusion Matrix for training data is:\n"
     ]
    },
    {
     "data": {
      "text/plain": [
       "Predicted  False  True  __all__\n",
       "Actual                         \n",
       "False      22377  1963    24340\n",
       "True         486  3670     4156\n",
       "__all__    22863  5633    28496"
      ]
     },
     "metadata": {},
     "output_type": "display_data"
    },
    {
     "name": "stdout",
     "output_type": "stream",
     "text": [
      "Accuracy of the model for test data is: 0.9084582002783919\n",
      "Confusion Matrix for test data is:\n"
     ]
    },
    {
     "data": {
      "text/plain": [
       "Predicted  False  True  __all__\n",
       "Actual                         \n",
       "False       9548   890    10438\n",
       "True         228  1547     1775\n",
       "__all__     9776  2437    12213"
      ]
     },
     "metadata": {},
     "output_type": "display_data"
    },
    {
     "data": {
      "application/vnd.plotly.v1+json": {
       "config": {
        "linkText": "Export to plot.ly",
        "plotlyServerURL": "https://plot.ly",
        "showLink": true
       },
       "data": [
        {
         "marker": {
          "color": "rgb(158,202,225)",
          "line": {
           "color": "rgb(8,48,107)",
           "width": 1.5
          }
         },
         "opacity": 0.6,
         "orientation": "h",
         "text": [
          0.8401,
          0.0143,
          0.0115,
          0.0091,
          0.0085,
          0.0071,
          0.0065,
          0.0064,
          0.0061,
          0.0049,
          0.0045,
          0.0035,
          0.0034,
          0.0031,
          0.003,
          0.0029,
          0.0029,
          0.0028,
          0.0024,
          0.0022,
          0.002,
          0.0019,
          0.0019,
          0.0019,
          0.0017,
          0.0017,
          0.0017,
          0.0016,
          0.0014,
          0.0014,
          0.0014,
          0.0013,
          0.0012,
          0.0012,
          0.0012,
          0.0011,
          0.0011,
          0.001,
          0.001,
          0.001,
          0.0009,
          0.0008,
          0.0008,
          0.0008,
          0.0008,
          0.0008,
          0.0007,
          0.0007,
          0.0007,
          0.0007,
          0.0006,
          0.0006,
          0.0006,
          0.0006,
          0.0006,
          0.0006,
          0.0006,
          0.0006,
          0.0005,
          0.0005,
          0.0005,
          0.0005,
          0.0005,
          0.0005,
          0.0004,
          0.0004,
          0.0004,
          0.0004,
          0.0004,
          0.0004,
          0.0004,
          0.0004,
          0.0004,
          0.0004,
          0.0003,
          0.0003,
          0.0003,
          0.0003,
          0.0003,
          0.0003,
          0.0003,
          0.0002,
          0.0002,
          0.0002,
          0.0002,
          0.0002,
          0.0002,
          0.0002,
          0.0001,
          0.0001,
          0.0001,
          0.0001,
          0.0001,
          0.0001,
          0.0001,
          0.0001,
          0.0001,
          0.0001,
          0.0001,
          0.0001,
          0.0001,
          0.0001,
          0.0001,
          0.0001,
          0.0001,
          0.0001,
          0.0001,
          0.0001,
          0.0001,
          0.0001,
          0.0001,
          0.0001,
          0.0001,
          0.0001,
          0,
          0,
          0,
          0,
          0,
          0,
          0,
          0,
          0,
          0,
          0,
          0,
          0,
          0,
          0,
          0,
          0,
          0,
          0,
          0,
          0,
          0,
          0,
          0,
          0,
          0,
          0,
          0,
          0,
          0,
          0,
          0,
          0,
          0,
          0,
          0,
          0,
          0,
          0,
          0,
          0,
          0,
          0,
          0,
          0,
          0,
          0,
          0,
          0,
          0,
          0,
          0,
          0,
          0,
          0,
          0,
          0,
          0,
          0,
          0,
          0,
          0,
          0,
          0,
          0,
          0,
          0,
          0,
          0,
          0,
          0,
          0,
          0,
          0,
          0,
          0,
          0,
          0,
          0,
          0,
          0,
          0,
          0,
          0,
          0,
          0,
          0,
          0,
          0,
          0,
          0,
          0,
          0,
          0,
          0,
          0,
          0,
          0,
          0,
          0,
          0
         ],
         "textposition": "outside",
         "type": "bar",
         "uid": "719a0ed1-5a91-47d5-97ee-6b3920b45bc8",
         "x": [
          0.8401318280955565,
          0.014288807340671639,
          0.01153259654417375,
          0.009146902443845393,
          0.00847996801857769,
          0.0071032669574069935,
          0.006474948651778049,
          0.006365540919334228,
          0.006125879280659278,
          0.004879091695652874,
          0.004517395354934586,
          0.00345524696478203,
          0.0034255975171053293,
          0.0031073151073784675,
          0.0030104155226981753,
          0.00293913134019138,
          0.00291861238618697,
          0.0028169124588177715,
          0.0024394147094207374,
          0.0021872198596497665,
          0.0019809844794346164,
          0.00192316585227199,
          0.0018874156147201816,
          0.00186743200402054,
          0.0017499627483989091,
          0.0017359415736406037,
          0.0017093714731048432,
          0.0016041607595217399,
          0.0014347166468220076,
          0.0014279602324176331,
          0.0014201236715997397,
          0.0012695156929171437,
          0.0012049921868453883,
          0.001164155705142376,
          0.0011636460560048986,
          0.001116349903831529,
          0.0010578904254977368,
          0.001009233004997841,
          0.0009821992768036358,
          0.0009565983706754581,
          0.0008646643141429962,
          0.0008031715740982459,
          0.0008018162782843192,
          0.0007904487634454817,
          0.0007877693085890254,
          0.0007620422483406024,
          0.000744269075594712,
          0.0007076511149788849,
          0.00069519758372195,
          0.0006575556692451789,
          0.0006285619706161463,
          0.0006041695586738217,
          0.0005990953432949822,
          0.0005843068687871786,
          0.0005841288691018343,
          0.0005826028615483155,
          0.0005640079176000665,
          0.0005516699635137592,
          0.0005463367303644479,
          0.000526065916031036,
          0.0005216904204547296,
          0.0005130089049809367,
          0.0005096387305707826,
          0.00047065216832475063,
          0.000442408185043859,
          0.0004319315172378048,
          0.0004183431121139718,
          0.0004054133278702261,
          0.00040337573797984,
          0.0003807547382468403,
          0.0003700956251669879,
          0.00036315943807151455,
          0.0003600725226096659,
          0.00035049243861370866,
          0.00032945292373170624,
          0.00032854015705699696,
          0.00028420472152217846,
          0.00028402641863415875,
          0.0002835542096702396,
          0.000278878147675302,
          0.0002526084029201146,
          0.00024390999269785434,
          0.00023987109115100312,
          0.00022087650707742826,
          0.00021501186407744851,
          0.00020508608220826151,
          0.00017284342460856795,
          0.00015037627919721214,
          0.0001479137364199307,
          0.00014275632523949006,
          0.0001391693605884093,
          0.00013880708693677325,
          0.00012181187262224524,
          0.00011517159045642197,
          0.00011252885411212551,
          0.00010761628423016148,
          0.00010264742160481728,
          0.00010172467364932681,
          0.00010138704978573665,
          0.00010027191544860973,
          0.00010014833640610323,
          9.725488834783589e-05,
          8.791038051498798e-05,
          8.63800480566056e-05,
          7.829142233217185e-05,
          6.628943135419421e-05,
          6.500868715652564e-05,
          6.258520092962529e-05,
          5.86458135250762e-05,
          5.812193373796413e-05,
          5.6336585472058107e-05,
          5.572973538412894e-05,
          5.572186296594688e-05,
          5.5153690493171204e-05,
          4.923369174610105e-05,
          4.595925925796663e-05,
          4.552452129892779e-05,
          4.480852157366514e-05,
          4.341337386321499e-05,
          4.274244067284264e-05,
          4.124875484861188e-05,
          3.846354619362288e-05,
          3.75702795791022e-05,
          3.7488127371202145e-05,
          2.9682771289804697e-05,
          2.9435085826187085e-05,
          2.9353708088203508e-05,
          2.9317252862091726e-05,
          2.643742394899037e-05,
          2.4943302274862057e-05,
          2.4885600128317808e-05,
          2.4448309474156666e-05,
          2.2102780676964866e-05,
          1.9247614949799105e-05,
          1.8428274581720663e-05,
          1.7586023172454292e-05,
          1.338211906086198e-05,
          1.0668418590256399e-05,
          9.734008959921313e-06,
          4.799686687449888e-07,
          1.328134872355175e-07,
          1.045784535355013e-07,
          7.737435270911538e-08,
          0,
          0,
          0,
          0,
          0,
          0,
          0,
          0,
          0,
          0,
          0,
          0,
          0,
          0,
          0,
          0,
          0,
          0,
          0,
          0,
          0,
          0,
          0,
          0,
          0,
          0,
          0,
          0,
          0,
          0,
          0,
          0,
          0,
          0,
          0,
          0,
          0,
          0,
          0,
          0,
          0,
          0,
          0,
          0,
          0,
          0,
          0,
          0,
          0,
          0,
          0,
          0,
          0,
          0,
          0,
          0,
          0,
          0,
          0,
          0,
          0,
          0,
          0,
          0,
          0,
          0,
          0,
          0,
          0,
          0,
          0,
          0
         ],
         "y": [
          "0",
          "21",
          "104",
          "100",
          "119",
          "28",
          "53",
          "30",
          "136",
          "82",
          "18",
          "107",
          "133",
          "9",
          "154",
          "23",
          "96",
          "2",
          "127",
          "79",
          "33",
          "16",
          "162",
          "75",
          "24",
          "192",
          "36",
          "78",
          "124",
          "140",
          "66",
          "10",
          "153",
          "197",
          "73",
          "177",
          "145",
          "1",
          "83",
          "19",
          "131",
          "183",
          "114",
          "157",
          "38",
          "108",
          "65",
          "22",
          "49",
          "149",
          "135",
          "118",
          "25",
          "27",
          "201",
          "123",
          "161",
          "174",
          "120",
          "186",
          "32",
          "189",
          "93",
          "101",
          "20",
          "3",
          "129",
          "208",
          "121",
          "68",
          "91",
          "211",
          "139",
          "41",
          "94",
          "143",
          "125",
          "195",
          "34",
          "67",
          "178",
          "29",
          "98",
          "95",
          "151",
          "5",
          "43",
          "204",
          "187",
          "167",
          "134",
          "116",
          "6",
          "4",
          "11",
          "142",
          "146",
          "199",
          "35",
          "26",
          "39",
          "193",
          "117",
          "13",
          "141",
          "212",
          "180",
          "132",
          "185",
          "128",
          "166",
          "138",
          "58",
          "54",
          "194",
          "168",
          "113",
          "84",
          "206",
          "188",
          "88",
          "213",
          "52",
          "81",
          "99",
          "77",
          "48",
          "109",
          "37",
          "203",
          "57",
          "190",
          "47",
          "50",
          "158",
          "181",
          "205",
          "144",
          "202",
          "160",
          "92",
          "71",
          "102",
          "207",
          "191",
          "176",
          "165",
          "210",
          "164",
          "209",
          "182",
          "175",
          "169",
          "170",
          "184",
          "163",
          "171",
          "179",
          "198",
          "196",
          "173",
          "172",
          "200",
          "12",
          "159",
          "7",
          "70",
          "69",
          "64",
          "63",
          "62",
          "61",
          "60",
          "59",
          "56",
          "55",
          "51",
          "74",
          "46",
          "45",
          "44",
          "42",
          "40",
          "31",
          "8",
          "17",
          "15",
          "14",
          "72",
          "76",
          "156",
          "112",
          "155",
          "152",
          "150",
          "148",
          "147",
          "137",
          "130",
          "126",
          "122",
          "115",
          "111",
          "80",
          "110",
          "106",
          "105",
          "103",
          "97",
          "90",
          "89",
          "87",
          "86",
          "85",
          "214"
         ]
        }
       ],
       "layout": {
        "autosize": false,
        "height": 1000,
        "width": 1000,
        "xaxis": {
         "tickfont": {
          "color": "black",
          "size": 12
         },
         "title": "Feature Importances"
        },
        "yaxis": {
         "automargin": true
        }
       }
      },
      "text/html": [
       "<div id=\"034930ad-1cd4-43fb-9648-afce1944dbba\" style=\"height: 1000px; width: 1000px;\" class=\"plotly-graph-div\"></div><script type=\"text/javascript\">require([\"plotly\"], function(Plotly) { window.PLOTLYENV=window.PLOTLYENV || {};window.PLOTLYENV.BASE_URL=\"https://plot.ly\";Plotly.newPlot(\"034930ad-1cd4-43fb-9648-afce1944dbba\", [{\"marker\": {\"color\": \"rgb(158,202,225)\", \"line\": {\"color\": \"rgb(8,48,107)\", \"width\": 1.5}}, \"opacity\": 0.6, \"orientation\": \"h\", \"text\": [0.8401, 0.0143, 0.0115, 0.0091, 0.0085, 0.0071, 0.0065, 0.0064, 0.0061, 0.0049, 0.0045, 0.0035, 0.0034, 0.0031, 0.003, 0.0029, 0.0029, 0.0028, 0.0024, 0.0022, 0.002, 0.0019, 0.0019, 0.0019, 0.0017, 0.0017, 0.0017, 0.0016, 0.0014, 0.0014, 0.0014, 0.0013, 0.0012, 0.0012, 0.0012, 0.0011, 0.0011, 0.001, 0.001, 0.001, 0.0009, 0.0008, 0.0008, 0.0008, 0.0008, 0.0008, 0.0007, 0.0007, 0.0007, 0.0007, 0.0006, 0.0006, 0.0006, 0.0006, 0.0006, 0.0006, 0.0006, 0.0006, 0.0005, 0.0005, 0.0005, 0.0005, 0.0005, 0.0005, 0.0004, 0.0004, 0.0004, 0.0004, 0.0004, 0.0004, 0.0004, 0.0004, 0.0004, 0.0004, 0.0003, 0.0003, 0.0003, 0.0003, 0.0003, 0.0003, 0.0003, 0.0002, 0.0002, 0.0002, 0.0002, 0.0002, 0.0002, 0.0002, 0.0001, 0.0001, 0.0001, 0.0001, 0.0001, 0.0001, 0.0001, 0.0001, 0.0001, 0.0001, 0.0001, 0.0001, 0.0001, 0.0001, 0.0001, 0.0001, 0.0001, 0.0001, 0.0001, 0.0001, 0.0001, 0.0001, 0.0001, 0.0001, 0.0001, 0.0001, 0.0, 0.0, 0.0, 0.0, 0.0, 0.0, 0.0, 0.0, 0.0, 0.0, 0.0, 0.0, 0.0, 0.0, 0.0, 0.0, 0.0, 0.0, 0.0, 0.0, 0.0, 0.0, 0.0, 0.0, 0.0, 0.0, 0.0, 0.0, 0.0, 0.0, 0.0, 0.0, 0.0, 0.0, 0.0, 0.0, 0.0, 0.0, 0.0, 0.0, 0.0, 0.0, 0.0, 0.0, 0.0, 0.0, 0.0, 0.0, 0.0, 0.0, 0.0, 0.0, 0.0, 0.0, 0.0, 0.0, 0.0, 0.0, 0.0, 0.0, 0.0, 0.0, 0.0, 0.0, 0.0, 0.0, 0.0, 0.0, 0.0, 0.0, 0.0, 0.0, 0.0, 0.0, 0.0, 0.0, 0.0, 0.0, 0.0, 0.0, 0.0, 0.0, 0.0, 0.0, 0.0, 0.0, 0.0, 0.0, 0.0, 0.0, 0.0, 0.0, 0.0, 0.0, 0.0, 0.0, 0.0, 0.0, 0.0, 0.0, 0.0], \"textposition\": \"outside\", \"x\": [0.8401318280955565, 0.014288807340671639, 0.01153259654417375, 0.009146902443845393, 0.00847996801857769, 0.0071032669574069935, 0.006474948651778049, 0.006365540919334228, 0.006125879280659278, 0.004879091695652874, 0.004517395354934586, 0.00345524696478203, 0.0034255975171053293, 0.0031073151073784675, 0.0030104155226981753, 0.00293913134019138, 0.00291861238618697, 0.0028169124588177715, 0.0024394147094207374, 0.0021872198596497665, 0.0019809844794346164, 0.00192316585227199, 0.0018874156147201816, 0.00186743200402054, 0.0017499627483989091, 0.0017359415736406037, 0.0017093714731048432, 0.0016041607595217399, 0.0014347166468220076, 0.0014279602324176331, 0.0014201236715997397, 0.0012695156929171437, 0.0012049921868453883, 0.001164155705142376, 0.0011636460560048986, 0.001116349903831529, 0.0010578904254977368, 0.001009233004997841, 0.0009821992768036358, 0.0009565983706754581, 0.0008646643141429962, 0.0008031715740982459, 0.0008018162782843192, 0.0007904487634454817, 0.0007877693085890254, 0.0007620422483406024, 0.000744269075594712, 0.0007076511149788849, 0.00069519758372195, 0.0006575556692451789, 0.0006285619706161463, 0.0006041695586738217, 0.0005990953432949822, 0.0005843068687871786, 0.0005841288691018343, 0.0005826028615483155, 0.0005640079176000665, 0.0005516699635137592, 0.0005463367303644479, 0.000526065916031036, 0.0005216904204547296, 0.0005130089049809367, 0.0005096387305707826, 0.00047065216832475063, 0.000442408185043859, 0.0004319315172378048, 0.0004183431121139718, 0.0004054133278702261, 0.00040337573797984, 0.0003807547382468403, 0.0003700956251669879, 0.00036315943807151455, 0.0003600725226096659, 0.00035049243861370866, 0.00032945292373170624, 0.00032854015705699696, 0.00028420472152217846, 0.00028402641863415875, 0.0002835542096702396, 0.000278878147675302, 0.0002526084029201146, 0.00024390999269785434, 0.00023987109115100312, 0.00022087650707742826, 0.00021501186407744851, 0.00020508608220826151, 0.00017284342460856795, 0.00015037627919721214, 0.0001479137364199307, 0.00014275632523949006, 0.0001391693605884093, 0.00013880708693677325, 0.00012181187262224524, 0.00011517159045642197, 0.00011252885411212551, 0.00010761628423016148, 0.00010264742160481728, 0.00010172467364932681, 0.00010138704978573665, 0.00010027191544860973, 0.00010014833640610323, 9.725488834783589e-05, 8.791038051498798e-05, 8.63800480566056e-05, 7.829142233217185e-05, 6.628943135419421e-05, 6.500868715652564e-05, 6.258520092962529e-05, 5.86458135250762e-05, 5.812193373796413e-05, 5.6336585472058107e-05, 5.572973538412894e-05, 5.572186296594688e-05, 5.5153690493171204e-05, 4.923369174610105e-05, 4.595925925796663e-05, 4.552452129892779e-05, 4.480852157366514e-05, 4.341337386321499e-05, 4.274244067284264e-05, 4.124875484861188e-05, 3.846354619362288e-05, 3.75702795791022e-05, 3.7488127371202145e-05, 2.9682771289804697e-05, 2.9435085826187085e-05, 2.9353708088203508e-05, 2.9317252862091726e-05, 2.643742394899037e-05, 2.4943302274862057e-05, 2.4885600128317808e-05, 2.4448309474156666e-05, 2.2102780676964866e-05, 1.9247614949799105e-05, 1.8428274581720663e-05, 1.7586023172454292e-05, 1.338211906086198e-05, 1.0668418590256399e-05, 9.734008959921313e-06, 4.799686687449888e-07, 1.328134872355175e-07, 1.045784535355013e-07, 7.737435270911538e-08, 0.0, 0.0, 0.0, 0.0, 0.0, 0.0, 0.0, 0.0, 0.0, 0.0, 0.0, 0.0, 0.0, 0.0, 0.0, 0.0, 0.0, 0.0, 0.0, 0.0, 0.0, 0.0, 0.0, 0.0, 0.0, 0.0, 0.0, 0.0, 0.0, 0.0, 0.0, 0.0, 0.0, 0.0, 0.0, 0.0, 0.0, 0.0, 0.0, 0.0, 0.0, 0.0, 0.0, 0.0, 0.0, 0.0, 0.0, 0.0, 0.0, 0.0, 0.0, 0.0, 0.0, 0.0, 0.0, 0.0, 0.0, 0.0, 0.0, 0.0, 0.0, 0.0, 0.0, 0.0, 0.0, 0.0, 0.0, 0.0, 0.0, 0.0, 0.0, 0.0], \"y\": [\"0\", \"21\", \"104\", \"100\", \"119\", \"28\", \"53\", \"30\", \"136\", \"82\", \"18\", \"107\", \"133\", \"9\", \"154\", \"23\", \"96\", \"2\", \"127\", \"79\", \"33\", \"16\", \"162\", \"75\", \"24\", \"192\", \"36\", \"78\", \"124\", \"140\", \"66\", \"10\", \"153\", \"197\", \"73\", \"177\", \"145\", \"1\", \"83\", \"19\", \"131\", \"183\", \"114\", \"157\", \"38\", \"108\", \"65\", \"22\", \"49\", \"149\", \"135\", \"118\", \"25\", \"27\", \"201\", \"123\", \"161\", \"174\", \"120\", \"186\", \"32\", \"189\", \"93\", \"101\", \"20\", \"3\", \"129\", \"208\", \"121\", \"68\", \"91\", \"211\", \"139\", \"41\", \"94\", \"143\", \"125\", \"195\", \"34\", \"67\", \"178\", \"29\", \"98\", \"95\", \"151\", \"5\", \"43\", \"204\", \"187\", \"167\", \"134\", \"116\", \"6\", \"4\", \"11\", \"142\", \"146\", \"199\", \"35\", \"26\", \"39\", \"193\", \"117\", \"13\", \"141\", \"212\", \"180\", \"132\", \"185\", \"128\", \"166\", \"138\", \"58\", \"54\", \"194\", \"168\", \"113\", \"84\", \"206\", \"188\", \"88\", \"213\", \"52\", \"81\", \"99\", \"77\", \"48\", \"109\", \"37\", \"203\", \"57\", \"190\", \"47\", \"50\", \"158\", \"181\", \"205\", \"144\", \"202\", \"160\", \"92\", \"71\", \"102\", \"207\", \"191\", \"176\", \"165\", \"210\", \"164\", \"209\", \"182\", \"175\", \"169\", \"170\", \"184\", \"163\", \"171\", \"179\", \"198\", \"196\", \"173\", \"172\", \"200\", \"12\", \"159\", \"7\", \"70\", \"69\", \"64\", \"63\", \"62\", \"61\", \"60\", \"59\", \"56\", \"55\", \"51\", \"74\", \"46\", \"45\", \"44\", \"42\", \"40\", \"31\", \"8\", \"17\", \"15\", \"14\", \"72\", \"76\", \"156\", \"112\", \"155\", \"152\", \"150\", \"148\", \"147\", \"137\", \"130\", \"126\", \"122\", \"115\", \"111\", \"80\", \"110\", \"106\", \"105\", \"103\", \"97\", \"90\", \"89\", \"87\", \"86\", \"85\", \"214\"], \"type\": \"bar\", \"uid\": \"719a0ed1-5a91-47d5-97ee-6b3920b45bc8\"}], {\"autosize\": false, \"height\": 1000, \"width\": 1000, \"xaxis\": {\"tickfont\": {\"color\": \"black\", \"size\": 12}, \"title\": \"Feature Importances\"}, \"yaxis\": {\"automargin\": true}}, {\"showLink\": true, \"linkText\": \"Export to plot.ly\", \"plotlyServerURL\": \"https://plot.ly\"})});</script>"
      ],
      "text/vnd.plotly.v1+html": [
       "<div id=\"034930ad-1cd4-43fb-9648-afce1944dbba\" style=\"height: 1000px; width: 1000px;\" class=\"plotly-graph-div\"></div><script type=\"text/javascript\">require([\"plotly\"], function(Plotly) { window.PLOTLYENV=window.PLOTLYENV || {};window.PLOTLYENV.BASE_URL=\"https://plot.ly\";Plotly.newPlot(\"034930ad-1cd4-43fb-9648-afce1944dbba\", [{\"marker\": {\"color\": \"rgb(158,202,225)\", \"line\": {\"color\": \"rgb(8,48,107)\", \"width\": 1.5}}, \"opacity\": 0.6, \"orientation\": \"h\", \"text\": [0.8401, 0.0143, 0.0115, 0.0091, 0.0085, 0.0071, 0.0065, 0.0064, 0.0061, 0.0049, 0.0045, 0.0035, 0.0034, 0.0031, 0.003, 0.0029, 0.0029, 0.0028, 0.0024, 0.0022, 0.002, 0.0019, 0.0019, 0.0019, 0.0017, 0.0017, 0.0017, 0.0016, 0.0014, 0.0014, 0.0014, 0.0013, 0.0012, 0.0012, 0.0012, 0.0011, 0.0011, 0.001, 0.001, 0.001, 0.0009, 0.0008, 0.0008, 0.0008, 0.0008, 0.0008, 0.0007, 0.0007, 0.0007, 0.0007, 0.0006, 0.0006, 0.0006, 0.0006, 0.0006, 0.0006, 0.0006, 0.0006, 0.0005, 0.0005, 0.0005, 0.0005, 0.0005, 0.0005, 0.0004, 0.0004, 0.0004, 0.0004, 0.0004, 0.0004, 0.0004, 0.0004, 0.0004, 0.0004, 0.0003, 0.0003, 0.0003, 0.0003, 0.0003, 0.0003, 0.0003, 0.0002, 0.0002, 0.0002, 0.0002, 0.0002, 0.0002, 0.0002, 0.0001, 0.0001, 0.0001, 0.0001, 0.0001, 0.0001, 0.0001, 0.0001, 0.0001, 0.0001, 0.0001, 0.0001, 0.0001, 0.0001, 0.0001, 0.0001, 0.0001, 0.0001, 0.0001, 0.0001, 0.0001, 0.0001, 0.0001, 0.0001, 0.0001, 0.0001, 0.0, 0.0, 0.0, 0.0, 0.0, 0.0, 0.0, 0.0, 0.0, 0.0, 0.0, 0.0, 0.0, 0.0, 0.0, 0.0, 0.0, 0.0, 0.0, 0.0, 0.0, 0.0, 0.0, 0.0, 0.0, 0.0, 0.0, 0.0, 0.0, 0.0, 0.0, 0.0, 0.0, 0.0, 0.0, 0.0, 0.0, 0.0, 0.0, 0.0, 0.0, 0.0, 0.0, 0.0, 0.0, 0.0, 0.0, 0.0, 0.0, 0.0, 0.0, 0.0, 0.0, 0.0, 0.0, 0.0, 0.0, 0.0, 0.0, 0.0, 0.0, 0.0, 0.0, 0.0, 0.0, 0.0, 0.0, 0.0, 0.0, 0.0, 0.0, 0.0, 0.0, 0.0, 0.0, 0.0, 0.0, 0.0, 0.0, 0.0, 0.0, 0.0, 0.0, 0.0, 0.0, 0.0, 0.0, 0.0, 0.0, 0.0, 0.0, 0.0, 0.0, 0.0, 0.0, 0.0, 0.0, 0.0, 0.0, 0.0, 0.0], \"textposition\": \"outside\", \"x\": [0.8401318280955565, 0.014288807340671639, 0.01153259654417375, 0.009146902443845393, 0.00847996801857769, 0.0071032669574069935, 0.006474948651778049, 0.006365540919334228, 0.006125879280659278, 0.004879091695652874, 0.004517395354934586, 0.00345524696478203, 0.0034255975171053293, 0.0031073151073784675, 0.0030104155226981753, 0.00293913134019138, 0.00291861238618697, 0.0028169124588177715, 0.0024394147094207374, 0.0021872198596497665, 0.0019809844794346164, 0.00192316585227199, 0.0018874156147201816, 0.00186743200402054, 0.0017499627483989091, 0.0017359415736406037, 0.0017093714731048432, 0.0016041607595217399, 0.0014347166468220076, 0.0014279602324176331, 0.0014201236715997397, 0.0012695156929171437, 0.0012049921868453883, 0.001164155705142376, 0.0011636460560048986, 0.001116349903831529, 0.0010578904254977368, 0.001009233004997841, 0.0009821992768036358, 0.0009565983706754581, 0.0008646643141429962, 0.0008031715740982459, 0.0008018162782843192, 0.0007904487634454817, 0.0007877693085890254, 0.0007620422483406024, 0.000744269075594712, 0.0007076511149788849, 0.00069519758372195, 0.0006575556692451789, 0.0006285619706161463, 0.0006041695586738217, 0.0005990953432949822, 0.0005843068687871786, 0.0005841288691018343, 0.0005826028615483155, 0.0005640079176000665, 0.0005516699635137592, 0.0005463367303644479, 0.000526065916031036, 0.0005216904204547296, 0.0005130089049809367, 0.0005096387305707826, 0.00047065216832475063, 0.000442408185043859, 0.0004319315172378048, 0.0004183431121139718, 0.0004054133278702261, 0.00040337573797984, 0.0003807547382468403, 0.0003700956251669879, 0.00036315943807151455, 0.0003600725226096659, 0.00035049243861370866, 0.00032945292373170624, 0.00032854015705699696, 0.00028420472152217846, 0.00028402641863415875, 0.0002835542096702396, 0.000278878147675302, 0.0002526084029201146, 0.00024390999269785434, 0.00023987109115100312, 0.00022087650707742826, 0.00021501186407744851, 0.00020508608220826151, 0.00017284342460856795, 0.00015037627919721214, 0.0001479137364199307, 0.00014275632523949006, 0.0001391693605884093, 0.00013880708693677325, 0.00012181187262224524, 0.00011517159045642197, 0.00011252885411212551, 0.00010761628423016148, 0.00010264742160481728, 0.00010172467364932681, 0.00010138704978573665, 0.00010027191544860973, 0.00010014833640610323, 9.725488834783589e-05, 8.791038051498798e-05, 8.63800480566056e-05, 7.829142233217185e-05, 6.628943135419421e-05, 6.500868715652564e-05, 6.258520092962529e-05, 5.86458135250762e-05, 5.812193373796413e-05, 5.6336585472058107e-05, 5.572973538412894e-05, 5.572186296594688e-05, 5.5153690493171204e-05, 4.923369174610105e-05, 4.595925925796663e-05, 4.552452129892779e-05, 4.480852157366514e-05, 4.341337386321499e-05, 4.274244067284264e-05, 4.124875484861188e-05, 3.846354619362288e-05, 3.75702795791022e-05, 3.7488127371202145e-05, 2.9682771289804697e-05, 2.9435085826187085e-05, 2.9353708088203508e-05, 2.9317252862091726e-05, 2.643742394899037e-05, 2.4943302274862057e-05, 2.4885600128317808e-05, 2.4448309474156666e-05, 2.2102780676964866e-05, 1.9247614949799105e-05, 1.8428274581720663e-05, 1.7586023172454292e-05, 1.338211906086198e-05, 1.0668418590256399e-05, 9.734008959921313e-06, 4.799686687449888e-07, 1.328134872355175e-07, 1.045784535355013e-07, 7.737435270911538e-08, 0.0, 0.0, 0.0, 0.0, 0.0, 0.0, 0.0, 0.0, 0.0, 0.0, 0.0, 0.0, 0.0, 0.0, 0.0, 0.0, 0.0, 0.0, 0.0, 0.0, 0.0, 0.0, 0.0, 0.0, 0.0, 0.0, 0.0, 0.0, 0.0, 0.0, 0.0, 0.0, 0.0, 0.0, 0.0, 0.0, 0.0, 0.0, 0.0, 0.0, 0.0, 0.0, 0.0, 0.0, 0.0, 0.0, 0.0, 0.0, 0.0, 0.0, 0.0, 0.0, 0.0, 0.0, 0.0, 0.0, 0.0, 0.0, 0.0, 0.0, 0.0, 0.0, 0.0, 0.0, 0.0, 0.0, 0.0, 0.0, 0.0, 0.0, 0.0, 0.0], \"y\": [\"0\", \"21\", \"104\", \"100\", \"119\", \"28\", \"53\", \"30\", \"136\", \"82\", \"18\", \"107\", \"133\", \"9\", \"154\", \"23\", \"96\", \"2\", \"127\", \"79\", \"33\", \"16\", \"162\", \"75\", \"24\", \"192\", \"36\", \"78\", \"124\", \"140\", \"66\", \"10\", \"153\", \"197\", \"73\", \"177\", \"145\", \"1\", \"83\", \"19\", \"131\", \"183\", \"114\", \"157\", \"38\", \"108\", \"65\", \"22\", \"49\", \"149\", \"135\", \"118\", \"25\", \"27\", \"201\", \"123\", \"161\", \"174\", \"120\", \"186\", \"32\", \"189\", \"93\", \"101\", \"20\", \"3\", \"129\", \"208\", \"121\", \"68\", \"91\", \"211\", \"139\", \"41\", \"94\", \"143\", \"125\", \"195\", \"34\", \"67\", \"178\", \"29\", \"98\", \"95\", \"151\", \"5\", \"43\", \"204\", \"187\", \"167\", \"134\", \"116\", \"6\", \"4\", \"11\", \"142\", \"146\", \"199\", \"35\", \"26\", \"39\", \"193\", \"117\", \"13\", \"141\", \"212\", \"180\", \"132\", \"185\", \"128\", \"166\", \"138\", \"58\", \"54\", \"194\", \"168\", \"113\", \"84\", \"206\", \"188\", \"88\", \"213\", \"52\", \"81\", \"99\", \"77\", \"48\", \"109\", \"37\", \"203\", \"57\", \"190\", \"47\", \"50\", \"158\", \"181\", \"205\", \"144\", \"202\", \"160\", \"92\", \"71\", \"102\", \"207\", \"191\", \"176\", \"165\", \"210\", \"164\", \"209\", \"182\", \"175\", \"169\", \"170\", \"184\", \"163\", \"171\", \"179\", \"198\", \"196\", \"173\", \"172\", \"200\", \"12\", \"159\", \"7\", \"70\", \"69\", \"64\", \"63\", \"62\", \"61\", \"60\", \"59\", \"56\", \"55\", \"51\", \"74\", \"46\", \"45\", \"44\", \"42\", \"40\", \"31\", \"8\", \"17\", \"15\", \"14\", \"72\", \"76\", \"156\", \"112\", \"155\", \"152\", \"150\", \"148\", \"147\", \"137\", \"130\", \"126\", \"122\", \"115\", \"111\", \"80\", \"110\", \"106\", \"105\", \"103\", \"97\", \"90\", \"89\", \"87\", \"86\", \"85\", \"214\"], \"type\": \"bar\", \"uid\": \"719a0ed1-5a91-47d5-97ee-6b3920b45bc8\"}], {\"autosize\": false, \"height\": 1000, \"width\": 1000, \"xaxis\": {\"tickfont\": {\"color\": \"black\", \"size\": 12}, \"title\": \"Feature Importances\"}, \"yaxis\": {\"automargin\": true}}, {\"showLink\": true, \"linkText\": \"Export to plot.ly\", \"plotlyServerURL\": \"https://plot.ly\"})});</script>"
      ]
     },
     "metadata": {},
     "output_type": "display_data"
    },
    {
     "name": "stdout",
     "output_type": "stream",
     "text": [
      "\n",
      "\n",
      "\u001b[1mExtraTree Classifier\u001b[0m\n",
      "Accuracy of the model for training data is: 0.9273933183604717\n",
      "Confusion Matrix for training data is:\n"
     ]
    },
    {
     "data": {
      "text/plain": [
       "Predicted  False  True  __all__\n",
       "Actual                         \n",
       "False      22377  1963    24340\n",
       "True         106  4050     4156\n",
       "__all__    22483  6013    28496"
      ]
     },
     "metadata": {},
     "output_type": "display_data"
    },
    {
     "name": "stdout",
     "output_type": "stream",
     "text": [
      "Accuracy of the model for test data is: 0.9107508392696307\n",
      "Confusion Matrix for test data is:\n"
     ]
    },
    {
     "data": {
      "text/plain": [
       "Predicted  False  True  __all__\n",
       "Actual                         \n",
       "False       9551   887    10438\n",
       "True         203  1572     1775\n",
       "__all__     9754  2459    12213"
      ]
     },
     "metadata": {},
     "output_type": "display_data"
    },
    {
     "data": {
      "application/vnd.plotly.v1+json": {
       "config": {
        "linkText": "Export to plot.ly",
        "plotlyServerURL": "https://plot.ly",
        "showLink": true
       },
       "data": [
        {
         "marker": {
          "color": "rgb(158,202,225)",
          "line": {
           "color": "rgb(8,48,107)",
           "width": 1.5
          }
         },
         "opacity": 0.6,
         "orientation": "h",
         "text": [
          0.0295,
          0.0236,
          0.021,
          0.0204,
          0.0199,
          0.018,
          0.0177,
          0.017,
          0.0165,
          0.0156,
          0.0147,
          0.0146,
          0.0141,
          0.0131,
          0.013,
          0.0118,
          0.0118,
          0.0118,
          0.0117,
          0.0116,
          0.0112,
          0.0104,
          0.01,
          0.01,
          0.01,
          0.0098,
          0.0098,
          0.0096,
          0.0095,
          0.009,
          0.009,
          0.0089,
          0.0088,
          0.0088,
          0.0087,
          0.0086,
          0.0081,
          0.008,
          0.0078,
          0.0077,
          0.0073,
          0.0073,
          0.0073,
          0.0073,
          0.0073,
          0.007,
          0.0068,
          0.0068,
          0.0065,
          0.0064,
          0.0064,
          0.0062,
          0.0061,
          0.0061,
          0.006,
          0.006,
          0.0057,
          0.0054,
          0.0054,
          0.0052,
          0.0052,
          0.0051,
          0.0049,
          0.0047,
          0.0047,
          0.0045,
          0.0045,
          0.0045,
          0.0044,
          0.0043,
          0.0043,
          0.0042,
          0.0042,
          0.0041,
          0.004,
          0.004,
          0.004,
          0.0039,
          0.0039,
          0.0039,
          0.0039,
          0.0038,
          0.0037,
          0.0037,
          0.0037,
          0.0037,
          0.0036,
          0.0035,
          0.0035,
          0.0035,
          0.0033,
          0.0033,
          0.0032,
          0.0032,
          0.0031,
          0.003,
          0.003,
          0.003,
          0.003,
          0.0029,
          0.0029,
          0.0029,
          0.0029,
          0.0028,
          0.0028,
          0.0027,
          0.0027,
          0.0027,
          0.0026,
          0.0026,
          0.0026,
          0.0026,
          0.0026,
          0.0025,
          0.0025,
          0.0025,
          0.0025,
          0.0025,
          0.0025,
          0.0025,
          0.0025,
          0.0024,
          0.0024,
          0.0023,
          0.0023,
          0.0023,
          0.0023,
          0.0023,
          0.0023,
          0.0022,
          0.0022,
          0.0022,
          0.0021,
          0.0021,
          0.0021,
          0.0021,
          0.0021,
          0.0021,
          0.002,
          0.002,
          0.002,
          0.002,
          0.002,
          0.0019,
          0.0019,
          0.0019,
          0.0019,
          0.0019,
          0.0018,
          0.0018,
          0.0018,
          0.0018,
          0.0018,
          0.0018,
          0.0018,
          0.0017,
          0.0017,
          0.0017,
          0.0017,
          0.0017,
          0.0017,
          0.0017,
          0.0017,
          0.0017,
          0.0016,
          0.0016,
          0.0016,
          0.0016,
          0.0016,
          0.0016,
          0.0016,
          0.0016,
          0.0016,
          0.0016,
          0.0015,
          0.0015,
          0.0015,
          0.0015,
          0.0015,
          0.0015,
          0.0014,
          0.0014,
          0.0014,
          0.0014,
          0.0013,
          0.0013,
          0.0013,
          0.0013,
          0.0013,
          0.0013,
          0.0013,
          0.0013,
          0.0013,
          0.0013,
          0.0013,
          0.0013,
          0.0013,
          0.0012,
          0.0012,
          0.0012,
          0.0012,
          0.0012,
          0.0011,
          0.0011,
          0.0011,
          0.0011,
          0.001,
          0.001,
          0.0009,
          0.0009,
          0.0008,
          0.0008,
          0.0008,
          0.0007,
          0.0006
         ],
         "textposition": "outside",
         "type": "bar",
         "uid": "5ed704ef-07ef-4027-9904-da8155553044",
         "x": [
          0.029506149951242084,
          0.023621595416127555,
          0.021030576988228328,
          0.020372463309347395,
          0.01992176087946228,
          0.01802763975290062,
          0.01767219789191227,
          0.016973734050704164,
          0.01650238470073167,
          0.015558342847419632,
          0.01469558255418971,
          0.0146138740182058,
          0.014086789277389631,
          0.01309227008247319,
          0.01297861665277344,
          0.011839563511608314,
          0.011820310925199983,
          0.01181036750933244,
          0.011716929959687473,
          0.011557652517979213,
          0.011165764286991798,
          0.010370355205965149,
          0.010013233828180246,
          0.009992626787221685,
          0.009950085739348632,
          0.009808641195755897,
          0.009807337620313978,
          0.009602799627720041,
          0.009549317468596042,
          0.00898141583163185,
          0.00895236314635554,
          0.008908904822672202,
          0.008773668248467278,
          0.008764933745922857,
          0.008660808349189758,
          0.008551841065149345,
          0.008101282938660989,
          0.007972399620133234,
          0.007814304429131207,
          0.007684294608762156,
          0.007349998378152578,
          0.007344987278290592,
          0.0073381393447157755,
          0.007298472044107727,
          0.007267592789937853,
          0.006993211194763582,
          0.006809625657355251,
          0.0068026933161317955,
          0.0065329746750424815,
          0.006448073528569513,
          0.0064449463496209685,
          0.006150640635132894,
          0.006107567215475281,
          0.0060699913334733464,
          0.005966287622043861,
          0.005960104835350836,
          0.00572971235716732,
          0.00541590674810684,
          0.005358404023006592,
          0.005220379510496606,
          0.005187226605021834,
          0.005135347174846519,
          0.00489200640041744,
          0.004732481453931421,
          0.004661206802523634,
          0.00452257722329434,
          0.0044966744702993056,
          0.004452158655408095,
          0.004389235213723769,
          0.004305448175304963,
          0.004304440450718243,
          0.004247695283513164,
          0.004211407786575055,
          0.004109912327266761,
          0.003994868079089871,
          0.003956801530048723,
          0.00395530549413349,
          0.0039332195502892655,
          0.003923895860014988,
          0.0038988298718396924,
          0.0038921315617030687,
          0.0037626002909846414,
          0.003735215040087777,
          0.0037130680615795808,
          0.0036977341090134847,
          0.003653687892731626,
          0.0035757508244547466,
          0.0035234150479437135,
          0.003499510058179759,
          0.003463005825191877,
          0.003302723680167631,
          0.0032566256569599925,
          0.00324870612524331,
          0.003208087248768437,
          0.003059667053265007,
          0.003040342191985466,
          0.0030252725000119167,
          0.002991188775985454,
          0.0029578442272206015,
          0.002936012586071844,
          0.002924067926781387,
          0.0028658630933285465,
          0.0028658277400720076,
          0.002779102424438387,
          0.002761210643569733,
          0.0027425911887461745,
          0.0027411018007720976,
          0.002659388858364983,
          0.00264687398628951,
          0.0026421774402634276,
          0.0026188054141768466,
          0.002601582012224951,
          0.0025675007042971353,
          0.002541580493580342,
          0.002532031363668898,
          0.002509527980712521,
          0.0025068471745494795,
          0.00247619854200193,
          0.0024736672121395418,
          0.002472341292065172,
          0.0024720605520812673,
          0.0023955856253982154,
          0.0023928755125987825,
          0.0023490832612876795,
          0.0023474202715246225,
          0.002297102263181354,
          0.0022838905615971327,
          0.0022625068091233153,
          0.002260170337873632,
          0.002202765163863895,
          0.002175107029212889,
          0.0021549069538360256,
          0.0021369467356463457,
          0.0021142489124243062,
          0.0020863297441073687,
          0.0020823645545293363,
          0.002057090219956027,
          0.002056264823623681,
          0.0020420003463395234,
          0.002020782865572119,
          0.0020034610261990154,
          0.0019676989917045825,
          0.0019676246599921294,
          0.0019393453902045257,
          0.0019032411644849488,
          0.0018995635835528085,
          0.0018720730529420073,
          0.0018664819640808652,
          0.0018034487193181973,
          0.0017928826938274048,
          0.001790374667352445,
          0.0017837206523707877,
          0.0017787310603096331,
          0.0017653937609762964,
          0.001764833833172412,
          0.001735769191802679,
          0.0017350545816103829,
          0.0017313070990645607,
          0.0017090173905222046,
          0.0017074307280213602,
          0.001699404132382381,
          0.0016811957507526162,
          0.0016734191404929259,
          0.0016660254517323419,
          0.0016434858242220629,
          0.0016368851328138162,
          0.0016332092167957706,
          0.001622136038646308,
          0.0016110661569927822,
          0.001587615884474573,
          0.0015822452595758494,
          0.0015691208212083255,
          0.0015615148868729923,
          0.0015538420828829485,
          0.001537025521686068,
          0.0015340554954547515,
          0.0015088393528838704,
          0.0014992896488892754,
          0.0014982983434830735,
          0.0014581784329962106,
          0.0014451061393410067,
          0.0014345124657422878,
          0.0014267672533237476,
          0.0014092754701182338,
          0.0013405527759251335,
          0.001326714922767251,
          0.0013141148174313632,
          0.0013124142259405462,
          0.0012999162908517875,
          0.0012982805596666504,
          0.0012826023181856144,
          0.0012809868629925403,
          0.0012800790927535138,
          0.001274464827170344,
          0.0012680567785782726,
          0.00126660736577438,
          0.0012526591907119822,
          0.0012385248463731408,
          0.0011744787108210757,
          0.001171711610423647,
          0.0011701930651752675,
          0.001161446002694001,
          0.0011261533358312965,
          0.001098076630077848,
          0.0010891128115485952,
          0.0010620825321218353,
          0.001041879475449996,
          0.0009899309941992904,
          0.0009142053023031062,
          0.0008579895894816796,
          0.0008476816683397933,
          0.0008345898262436364,
          0.0007596124647310994,
          0.0006962201738611536,
          0.0005726856146428122
         ],
         "y": [
          "0",
          "32",
          "29",
          "66",
          "4",
          "88",
          "94",
          "142",
          "96",
          "186",
          "116",
          "76",
          "126",
          "47",
          "39",
          "100",
          "82",
          "115",
          "124",
          "30",
          "57",
          "117",
          "146",
          "212",
          "110",
          "95",
          "213",
          "24",
          "210",
          "206",
          "174",
          "164",
          "192",
          "188",
          "37",
          "85",
          "153",
          "177",
          "40",
          "71",
          "2",
          "41",
          "185",
          "87",
          "113",
          "138",
          "73",
          "68",
          "111",
          "9",
          "50",
          "31",
          "43",
          "55",
          "118",
          "33",
          "173",
          "145",
          "136",
          "194",
          "175",
          "45",
          "60",
          "17",
          "209",
          "83",
          "197",
          "34",
          "103",
          "122",
          "109",
          "135",
          "184",
          "99",
          "144",
          "18",
          "165",
          "106",
          "161",
          "205",
          "187",
          "8",
          "131",
          "128",
          "69",
          "107",
          "27",
          "102",
          "139",
          "67",
          "140",
          "6",
          "181",
          "180",
          "201",
          "64",
          "77",
          "196",
          "171",
          "200",
          "108",
          "98",
          "61",
          "5",
          "130",
          "22",
          "182",
          "162",
          "123",
          "26",
          "149",
          "11",
          "199",
          "143",
          "46",
          "90",
          "208",
          "70",
          "133",
          "129",
          "91",
          "104",
          "158",
          "105",
          "204",
          "20",
          "79",
          "154",
          "13",
          "211",
          "7",
          "80",
          "157",
          "159",
          "114",
          "121",
          "72",
          "35",
          "183",
          "163",
          "63",
          "189",
          "3",
          "172",
          "134",
          "58",
          "176",
          "195",
          "178",
          "93",
          "132",
          "150",
          "74",
          "59",
          "101",
          "179",
          "125",
          "155",
          "198",
          "151",
          "141",
          "137",
          "56",
          "38",
          "81",
          "54",
          "148",
          "119",
          "190",
          "127",
          "21",
          "167",
          "19",
          "156",
          "14",
          "84",
          "75",
          "53",
          "169",
          "112",
          "97",
          "170",
          "78",
          "92",
          "42",
          "152",
          "89",
          "23",
          "120",
          "191",
          "207",
          "168",
          "62",
          "214",
          "193",
          "1",
          "147",
          "15",
          "160",
          "51",
          "36",
          "48",
          "166",
          "65",
          "52",
          "203",
          "86",
          "49",
          "44",
          "202",
          "28",
          "10",
          "25",
          "12",
          "16"
         ]
        }
       ],
       "layout": {
        "autosize": false,
        "height": 1000,
        "width": 1000,
        "xaxis": {
         "tickfont": {
          "color": "black",
          "size": 12
         },
         "title": "Feature Importances"
        },
        "yaxis": {
         "automargin": true
        }
       }
      },
      "text/html": [
       "<div id=\"a70ef137-44f5-4761-a238-04d0a3542fe5\" style=\"height: 1000px; width: 1000px;\" class=\"plotly-graph-div\"></div><script type=\"text/javascript\">require([\"plotly\"], function(Plotly) { window.PLOTLYENV=window.PLOTLYENV || {};window.PLOTLYENV.BASE_URL=\"https://plot.ly\";Plotly.newPlot(\"a70ef137-44f5-4761-a238-04d0a3542fe5\", [{\"marker\": {\"color\": \"rgb(158,202,225)\", \"line\": {\"color\": \"rgb(8,48,107)\", \"width\": 1.5}}, \"opacity\": 0.6, \"orientation\": \"h\", \"text\": [0.0295, 0.0236, 0.021, 0.0204, 0.0199, 0.018, 0.0177, 0.017, 0.0165, 0.0156, 0.0147, 0.0146, 0.0141, 0.0131, 0.013, 0.0118, 0.0118, 0.0118, 0.0117, 0.0116, 0.0112, 0.0104, 0.01, 0.01, 0.01, 0.0098, 0.0098, 0.0096, 0.0095, 0.009, 0.009, 0.0089, 0.0088, 0.0088, 0.0087, 0.0086, 0.0081, 0.008, 0.0078, 0.0077, 0.0073, 0.0073, 0.0073, 0.0073, 0.0073, 0.007, 0.0068, 0.0068, 0.0065, 0.0064, 0.0064, 0.0062, 0.0061, 0.0061, 0.006, 0.006, 0.0057, 0.0054, 0.0054, 0.0052, 0.0052, 0.0051, 0.0049, 0.0047, 0.0047, 0.0045, 0.0045, 0.0045, 0.0044, 0.0043, 0.0043, 0.0042, 0.0042, 0.0041, 0.004, 0.004, 0.004, 0.0039, 0.0039, 0.0039, 0.0039, 0.0038, 0.0037, 0.0037, 0.0037, 0.0037, 0.0036, 0.0035, 0.0035, 0.0035, 0.0033, 0.0033, 0.0032, 0.0032, 0.0031, 0.003, 0.003, 0.003, 0.003, 0.0029, 0.0029, 0.0029, 0.0029, 0.0028, 0.0028, 0.0027, 0.0027, 0.0027, 0.0026, 0.0026, 0.0026, 0.0026, 0.0026, 0.0025, 0.0025, 0.0025, 0.0025, 0.0025, 0.0025, 0.0025, 0.0025, 0.0024, 0.0024, 0.0023, 0.0023, 0.0023, 0.0023, 0.0023, 0.0023, 0.0022, 0.0022, 0.0022, 0.0021, 0.0021, 0.0021, 0.0021, 0.0021, 0.0021, 0.002, 0.002, 0.002, 0.002, 0.002, 0.0019, 0.0019, 0.0019, 0.0019, 0.0019, 0.0018, 0.0018, 0.0018, 0.0018, 0.0018, 0.0018, 0.0018, 0.0017, 0.0017, 0.0017, 0.0017, 0.0017, 0.0017, 0.0017, 0.0017, 0.0017, 0.0016, 0.0016, 0.0016, 0.0016, 0.0016, 0.0016, 0.0016, 0.0016, 0.0016, 0.0016, 0.0015, 0.0015, 0.0015, 0.0015, 0.0015, 0.0015, 0.0014, 0.0014, 0.0014, 0.0014, 0.0013, 0.0013, 0.0013, 0.0013, 0.0013, 0.0013, 0.0013, 0.0013, 0.0013, 0.0013, 0.0013, 0.0013, 0.0013, 0.0012, 0.0012, 0.0012, 0.0012, 0.0012, 0.0011, 0.0011, 0.0011, 0.0011, 0.001, 0.001, 0.0009, 0.0009, 0.0008, 0.0008, 0.0008, 0.0007, 0.0006], \"textposition\": \"outside\", \"x\": [0.029506149951242084, 0.023621595416127555, 0.021030576988228328, 0.020372463309347395, 0.01992176087946228, 0.01802763975290062, 0.01767219789191227, 0.016973734050704164, 0.01650238470073167, 0.015558342847419632, 0.01469558255418971, 0.0146138740182058, 0.014086789277389631, 0.01309227008247319, 0.01297861665277344, 0.011839563511608314, 0.011820310925199983, 0.01181036750933244, 0.011716929959687473, 0.011557652517979213, 0.011165764286991798, 0.010370355205965149, 0.010013233828180246, 0.009992626787221685, 0.009950085739348632, 0.009808641195755897, 0.009807337620313978, 0.009602799627720041, 0.009549317468596042, 0.00898141583163185, 0.00895236314635554, 0.008908904822672202, 0.008773668248467278, 0.008764933745922857, 0.008660808349189758, 0.008551841065149345, 0.008101282938660989, 0.007972399620133234, 0.007814304429131207, 0.007684294608762156, 0.007349998378152578, 0.007344987278290592, 0.0073381393447157755, 0.007298472044107727, 0.007267592789937853, 0.006993211194763582, 0.006809625657355251, 0.0068026933161317955, 0.0065329746750424815, 0.006448073528569513, 0.0064449463496209685, 0.006150640635132894, 0.006107567215475281, 0.0060699913334733464, 0.005966287622043861, 0.005960104835350836, 0.00572971235716732, 0.00541590674810684, 0.005358404023006592, 0.005220379510496606, 0.005187226605021834, 0.005135347174846519, 0.00489200640041744, 0.004732481453931421, 0.004661206802523634, 0.00452257722329434, 0.0044966744702993056, 0.004452158655408095, 0.004389235213723769, 0.004305448175304963, 0.004304440450718243, 0.004247695283513164, 0.004211407786575055, 0.004109912327266761, 0.003994868079089871, 0.003956801530048723, 0.00395530549413349, 0.0039332195502892655, 0.003923895860014988, 0.0038988298718396924, 0.0038921315617030687, 0.0037626002909846414, 0.003735215040087777, 0.0037130680615795808, 0.0036977341090134847, 0.003653687892731626, 0.0035757508244547466, 0.0035234150479437135, 0.003499510058179759, 0.003463005825191877, 0.003302723680167631, 0.0032566256569599925, 0.00324870612524331, 0.003208087248768437, 0.003059667053265007, 0.003040342191985466, 0.0030252725000119167, 0.002991188775985454, 0.0029578442272206015, 0.002936012586071844, 0.002924067926781387, 0.0028658630933285465, 0.0028658277400720076, 0.002779102424438387, 0.002761210643569733, 0.0027425911887461745, 0.0027411018007720976, 0.002659388858364983, 0.00264687398628951, 0.0026421774402634276, 0.0026188054141768466, 0.002601582012224951, 0.0025675007042971353, 0.002541580493580342, 0.002532031363668898, 0.002509527980712521, 0.0025068471745494795, 0.00247619854200193, 0.0024736672121395418, 0.002472341292065172, 0.0024720605520812673, 0.0023955856253982154, 0.0023928755125987825, 0.0023490832612876795, 0.0023474202715246225, 0.002297102263181354, 0.0022838905615971327, 0.0022625068091233153, 0.002260170337873632, 0.002202765163863895, 0.002175107029212889, 0.0021549069538360256, 0.0021369467356463457, 0.0021142489124243062, 0.0020863297441073687, 0.0020823645545293363, 0.002057090219956027, 0.002056264823623681, 0.0020420003463395234, 0.002020782865572119, 0.0020034610261990154, 0.0019676989917045825, 0.0019676246599921294, 0.0019393453902045257, 0.0019032411644849488, 0.0018995635835528085, 0.0018720730529420073, 0.0018664819640808652, 0.0018034487193181973, 0.0017928826938274048, 0.001790374667352445, 0.0017837206523707877, 0.0017787310603096331, 0.0017653937609762964, 0.001764833833172412, 0.001735769191802679, 0.0017350545816103829, 0.0017313070990645607, 0.0017090173905222046, 0.0017074307280213602, 0.001699404132382381, 0.0016811957507526162, 0.0016734191404929259, 0.0016660254517323419, 0.0016434858242220629, 0.0016368851328138162, 0.0016332092167957706, 0.001622136038646308, 0.0016110661569927822, 0.001587615884474573, 0.0015822452595758494, 0.0015691208212083255, 0.0015615148868729923, 0.0015538420828829485, 0.001537025521686068, 0.0015340554954547515, 0.0015088393528838704, 0.0014992896488892754, 0.0014982983434830735, 0.0014581784329962106, 0.0014451061393410067, 0.0014345124657422878, 0.0014267672533237476, 0.0014092754701182338, 0.0013405527759251335, 0.001326714922767251, 0.0013141148174313632, 0.0013124142259405462, 0.0012999162908517875, 0.0012982805596666504, 0.0012826023181856144, 0.0012809868629925403, 0.0012800790927535138, 0.001274464827170344, 0.0012680567785782726, 0.00126660736577438, 0.0012526591907119822, 0.0012385248463731408, 0.0011744787108210757, 0.001171711610423647, 0.0011701930651752675, 0.001161446002694001, 0.0011261533358312965, 0.001098076630077848, 0.0010891128115485952, 0.0010620825321218353, 0.001041879475449996, 0.0009899309941992904, 0.0009142053023031062, 0.0008579895894816796, 0.0008476816683397933, 0.0008345898262436364, 0.0007596124647310994, 0.0006962201738611536, 0.0005726856146428122], \"y\": [\"0\", \"32\", \"29\", \"66\", \"4\", \"88\", \"94\", \"142\", \"96\", \"186\", \"116\", \"76\", \"126\", \"47\", \"39\", \"100\", \"82\", \"115\", \"124\", \"30\", \"57\", \"117\", \"146\", \"212\", \"110\", \"95\", \"213\", \"24\", \"210\", \"206\", \"174\", \"164\", \"192\", \"188\", \"37\", \"85\", \"153\", \"177\", \"40\", \"71\", \"2\", \"41\", \"185\", \"87\", \"113\", \"138\", \"73\", \"68\", \"111\", \"9\", \"50\", \"31\", \"43\", \"55\", \"118\", \"33\", \"173\", \"145\", \"136\", \"194\", \"175\", \"45\", \"60\", \"17\", \"209\", \"83\", \"197\", \"34\", \"103\", \"122\", \"109\", \"135\", \"184\", \"99\", \"144\", \"18\", \"165\", \"106\", \"161\", \"205\", \"187\", \"8\", \"131\", \"128\", \"69\", \"107\", \"27\", \"102\", \"139\", \"67\", \"140\", \"6\", \"181\", \"180\", \"201\", \"64\", \"77\", \"196\", \"171\", \"200\", \"108\", \"98\", \"61\", \"5\", \"130\", \"22\", \"182\", \"162\", \"123\", \"26\", \"149\", \"11\", \"199\", \"143\", \"46\", \"90\", \"208\", \"70\", \"133\", \"129\", \"91\", \"104\", \"158\", \"105\", \"204\", \"20\", \"79\", \"154\", \"13\", \"211\", \"7\", \"80\", \"157\", \"159\", \"114\", \"121\", \"72\", \"35\", \"183\", \"163\", \"63\", \"189\", \"3\", \"172\", \"134\", \"58\", \"176\", \"195\", \"178\", \"93\", \"132\", \"150\", \"74\", \"59\", \"101\", \"179\", \"125\", \"155\", \"198\", \"151\", \"141\", \"137\", \"56\", \"38\", \"81\", \"54\", \"148\", \"119\", \"190\", \"127\", \"21\", \"167\", \"19\", \"156\", \"14\", \"84\", \"75\", \"53\", \"169\", \"112\", \"97\", \"170\", \"78\", \"92\", \"42\", \"152\", \"89\", \"23\", \"120\", \"191\", \"207\", \"168\", \"62\", \"214\", \"193\", \"1\", \"147\", \"15\", \"160\", \"51\", \"36\", \"48\", \"166\", \"65\", \"52\", \"203\", \"86\", \"49\", \"44\", \"202\", \"28\", \"10\", \"25\", \"12\", \"16\"], \"type\": \"bar\", \"uid\": \"5ed704ef-07ef-4027-9904-da8155553044\"}], {\"autosize\": false, \"height\": 1000, \"width\": 1000, \"xaxis\": {\"tickfont\": {\"color\": \"black\", \"size\": 12}, \"title\": \"Feature Importances\"}, \"yaxis\": {\"automargin\": true}}, {\"showLink\": true, \"linkText\": \"Export to plot.ly\", \"plotlyServerURL\": \"https://plot.ly\"})});</script>"
      ],
      "text/vnd.plotly.v1+html": [
       "<div id=\"a70ef137-44f5-4761-a238-04d0a3542fe5\" style=\"height: 1000px; width: 1000px;\" class=\"plotly-graph-div\"></div><script type=\"text/javascript\">require([\"plotly\"], function(Plotly) { window.PLOTLYENV=window.PLOTLYENV || {};window.PLOTLYENV.BASE_URL=\"https://plot.ly\";Plotly.newPlot(\"a70ef137-44f5-4761-a238-04d0a3542fe5\", [{\"marker\": {\"color\": \"rgb(158,202,225)\", \"line\": {\"color\": \"rgb(8,48,107)\", \"width\": 1.5}}, \"opacity\": 0.6, \"orientation\": \"h\", \"text\": [0.0295, 0.0236, 0.021, 0.0204, 0.0199, 0.018, 0.0177, 0.017, 0.0165, 0.0156, 0.0147, 0.0146, 0.0141, 0.0131, 0.013, 0.0118, 0.0118, 0.0118, 0.0117, 0.0116, 0.0112, 0.0104, 0.01, 0.01, 0.01, 0.0098, 0.0098, 0.0096, 0.0095, 0.009, 0.009, 0.0089, 0.0088, 0.0088, 0.0087, 0.0086, 0.0081, 0.008, 0.0078, 0.0077, 0.0073, 0.0073, 0.0073, 0.0073, 0.0073, 0.007, 0.0068, 0.0068, 0.0065, 0.0064, 0.0064, 0.0062, 0.0061, 0.0061, 0.006, 0.006, 0.0057, 0.0054, 0.0054, 0.0052, 0.0052, 0.0051, 0.0049, 0.0047, 0.0047, 0.0045, 0.0045, 0.0045, 0.0044, 0.0043, 0.0043, 0.0042, 0.0042, 0.0041, 0.004, 0.004, 0.004, 0.0039, 0.0039, 0.0039, 0.0039, 0.0038, 0.0037, 0.0037, 0.0037, 0.0037, 0.0036, 0.0035, 0.0035, 0.0035, 0.0033, 0.0033, 0.0032, 0.0032, 0.0031, 0.003, 0.003, 0.003, 0.003, 0.0029, 0.0029, 0.0029, 0.0029, 0.0028, 0.0028, 0.0027, 0.0027, 0.0027, 0.0026, 0.0026, 0.0026, 0.0026, 0.0026, 0.0025, 0.0025, 0.0025, 0.0025, 0.0025, 0.0025, 0.0025, 0.0025, 0.0024, 0.0024, 0.0023, 0.0023, 0.0023, 0.0023, 0.0023, 0.0023, 0.0022, 0.0022, 0.0022, 0.0021, 0.0021, 0.0021, 0.0021, 0.0021, 0.0021, 0.002, 0.002, 0.002, 0.002, 0.002, 0.0019, 0.0019, 0.0019, 0.0019, 0.0019, 0.0018, 0.0018, 0.0018, 0.0018, 0.0018, 0.0018, 0.0018, 0.0017, 0.0017, 0.0017, 0.0017, 0.0017, 0.0017, 0.0017, 0.0017, 0.0017, 0.0016, 0.0016, 0.0016, 0.0016, 0.0016, 0.0016, 0.0016, 0.0016, 0.0016, 0.0016, 0.0015, 0.0015, 0.0015, 0.0015, 0.0015, 0.0015, 0.0014, 0.0014, 0.0014, 0.0014, 0.0013, 0.0013, 0.0013, 0.0013, 0.0013, 0.0013, 0.0013, 0.0013, 0.0013, 0.0013, 0.0013, 0.0013, 0.0013, 0.0012, 0.0012, 0.0012, 0.0012, 0.0012, 0.0011, 0.0011, 0.0011, 0.0011, 0.001, 0.001, 0.0009, 0.0009, 0.0008, 0.0008, 0.0008, 0.0007, 0.0006], \"textposition\": \"outside\", \"x\": [0.029506149951242084, 0.023621595416127555, 0.021030576988228328, 0.020372463309347395, 0.01992176087946228, 0.01802763975290062, 0.01767219789191227, 0.016973734050704164, 0.01650238470073167, 0.015558342847419632, 0.01469558255418971, 0.0146138740182058, 0.014086789277389631, 0.01309227008247319, 0.01297861665277344, 0.011839563511608314, 0.011820310925199983, 0.01181036750933244, 0.011716929959687473, 0.011557652517979213, 0.011165764286991798, 0.010370355205965149, 0.010013233828180246, 0.009992626787221685, 0.009950085739348632, 0.009808641195755897, 0.009807337620313978, 0.009602799627720041, 0.009549317468596042, 0.00898141583163185, 0.00895236314635554, 0.008908904822672202, 0.008773668248467278, 0.008764933745922857, 0.008660808349189758, 0.008551841065149345, 0.008101282938660989, 0.007972399620133234, 0.007814304429131207, 0.007684294608762156, 0.007349998378152578, 0.007344987278290592, 0.0073381393447157755, 0.007298472044107727, 0.007267592789937853, 0.006993211194763582, 0.006809625657355251, 0.0068026933161317955, 0.0065329746750424815, 0.006448073528569513, 0.0064449463496209685, 0.006150640635132894, 0.006107567215475281, 0.0060699913334733464, 0.005966287622043861, 0.005960104835350836, 0.00572971235716732, 0.00541590674810684, 0.005358404023006592, 0.005220379510496606, 0.005187226605021834, 0.005135347174846519, 0.00489200640041744, 0.004732481453931421, 0.004661206802523634, 0.00452257722329434, 0.0044966744702993056, 0.004452158655408095, 0.004389235213723769, 0.004305448175304963, 0.004304440450718243, 0.004247695283513164, 0.004211407786575055, 0.004109912327266761, 0.003994868079089871, 0.003956801530048723, 0.00395530549413349, 0.0039332195502892655, 0.003923895860014988, 0.0038988298718396924, 0.0038921315617030687, 0.0037626002909846414, 0.003735215040087777, 0.0037130680615795808, 0.0036977341090134847, 0.003653687892731626, 0.0035757508244547466, 0.0035234150479437135, 0.003499510058179759, 0.003463005825191877, 0.003302723680167631, 0.0032566256569599925, 0.00324870612524331, 0.003208087248768437, 0.003059667053265007, 0.003040342191985466, 0.0030252725000119167, 0.002991188775985454, 0.0029578442272206015, 0.002936012586071844, 0.002924067926781387, 0.0028658630933285465, 0.0028658277400720076, 0.002779102424438387, 0.002761210643569733, 0.0027425911887461745, 0.0027411018007720976, 0.002659388858364983, 0.00264687398628951, 0.0026421774402634276, 0.0026188054141768466, 0.002601582012224951, 0.0025675007042971353, 0.002541580493580342, 0.002532031363668898, 0.002509527980712521, 0.0025068471745494795, 0.00247619854200193, 0.0024736672121395418, 0.002472341292065172, 0.0024720605520812673, 0.0023955856253982154, 0.0023928755125987825, 0.0023490832612876795, 0.0023474202715246225, 0.002297102263181354, 0.0022838905615971327, 0.0022625068091233153, 0.002260170337873632, 0.002202765163863895, 0.002175107029212889, 0.0021549069538360256, 0.0021369467356463457, 0.0021142489124243062, 0.0020863297441073687, 0.0020823645545293363, 0.002057090219956027, 0.002056264823623681, 0.0020420003463395234, 0.002020782865572119, 0.0020034610261990154, 0.0019676989917045825, 0.0019676246599921294, 0.0019393453902045257, 0.0019032411644849488, 0.0018995635835528085, 0.0018720730529420073, 0.0018664819640808652, 0.0018034487193181973, 0.0017928826938274048, 0.001790374667352445, 0.0017837206523707877, 0.0017787310603096331, 0.0017653937609762964, 0.001764833833172412, 0.001735769191802679, 0.0017350545816103829, 0.0017313070990645607, 0.0017090173905222046, 0.0017074307280213602, 0.001699404132382381, 0.0016811957507526162, 0.0016734191404929259, 0.0016660254517323419, 0.0016434858242220629, 0.0016368851328138162, 0.0016332092167957706, 0.001622136038646308, 0.0016110661569927822, 0.001587615884474573, 0.0015822452595758494, 0.0015691208212083255, 0.0015615148868729923, 0.0015538420828829485, 0.001537025521686068, 0.0015340554954547515, 0.0015088393528838704, 0.0014992896488892754, 0.0014982983434830735, 0.0014581784329962106, 0.0014451061393410067, 0.0014345124657422878, 0.0014267672533237476, 0.0014092754701182338, 0.0013405527759251335, 0.001326714922767251, 0.0013141148174313632, 0.0013124142259405462, 0.0012999162908517875, 0.0012982805596666504, 0.0012826023181856144, 0.0012809868629925403, 0.0012800790927535138, 0.001274464827170344, 0.0012680567785782726, 0.00126660736577438, 0.0012526591907119822, 0.0012385248463731408, 0.0011744787108210757, 0.001171711610423647, 0.0011701930651752675, 0.001161446002694001, 0.0011261533358312965, 0.001098076630077848, 0.0010891128115485952, 0.0010620825321218353, 0.001041879475449996, 0.0009899309941992904, 0.0009142053023031062, 0.0008579895894816796, 0.0008476816683397933, 0.0008345898262436364, 0.0007596124647310994, 0.0006962201738611536, 0.0005726856146428122], \"y\": [\"0\", \"32\", \"29\", \"66\", \"4\", \"88\", \"94\", \"142\", \"96\", \"186\", \"116\", \"76\", \"126\", \"47\", \"39\", \"100\", \"82\", \"115\", \"124\", \"30\", \"57\", \"117\", \"146\", \"212\", \"110\", \"95\", \"213\", \"24\", \"210\", \"206\", \"174\", \"164\", \"192\", \"188\", \"37\", \"85\", \"153\", \"177\", \"40\", \"71\", \"2\", \"41\", \"185\", \"87\", \"113\", \"138\", \"73\", \"68\", \"111\", \"9\", \"50\", \"31\", \"43\", \"55\", \"118\", \"33\", \"173\", \"145\", \"136\", \"194\", \"175\", \"45\", \"60\", \"17\", \"209\", \"83\", \"197\", \"34\", \"103\", \"122\", \"109\", \"135\", \"184\", \"99\", \"144\", \"18\", \"165\", \"106\", \"161\", \"205\", \"187\", \"8\", \"131\", \"128\", \"69\", \"107\", \"27\", \"102\", \"139\", \"67\", \"140\", \"6\", \"181\", \"180\", \"201\", \"64\", \"77\", \"196\", \"171\", \"200\", \"108\", \"98\", \"61\", \"5\", \"130\", \"22\", \"182\", \"162\", \"123\", \"26\", \"149\", \"11\", \"199\", \"143\", \"46\", \"90\", \"208\", \"70\", \"133\", \"129\", \"91\", \"104\", \"158\", \"105\", \"204\", \"20\", \"79\", \"154\", \"13\", \"211\", \"7\", \"80\", \"157\", \"159\", \"114\", \"121\", \"72\", \"35\", \"183\", \"163\", \"63\", \"189\", \"3\", \"172\", \"134\", \"58\", \"176\", \"195\", \"178\", \"93\", \"132\", \"150\", \"74\", \"59\", \"101\", \"179\", \"125\", \"155\", \"198\", \"151\", \"141\", \"137\", \"56\", \"38\", \"81\", \"54\", \"148\", \"119\", \"190\", \"127\", \"21\", \"167\", \"19\", \"156\", \"14\", \"84\", \"75\", \"53\", \"169\", \"112\", \"97\", \"170\", \"78\", \"92\", \"42\", \"152\", \"89\", \"23\", \"120\", \"191\", \"207\", \"168\", \"62\", \"214\", \"193\", \"1\", \"147\", \"15\", \"160\", \"51\", \"36\", \"48\", \"166\", \"65\", \"52\", \"203\", \"86\", \"49\", \"44\", \"202\", \"28\", \"10\", \"25\", \"12\", \"16\"], \"type\": \"bar\", \"uid\": \"5ed704ef-07ef-4027-9904-da8155553044\"}], {\"autosize\": false, \"height\": 1000, \"width\": 1000, \"xaxis\": {\"tickfont\": {\"color\": \"black\", \"size\": 12}, \"title\": \"Feature Importances\"}, \"yaxis\": {\"automargin\": true}}, {\"showLink\": true, \"linkText\": \"Export to plot.ly\", \"plotlyServerURL\": \"https://plot.ly\"})});</script>"
      ]
     },
     "metadata": {},
     "output_type": "display_data"
    },
    {
     "name": "stdout",
     "output_type": "stream",
     "text": [
      "\n",
      "\n",
      "\u001b[1mBagging Classifier\u001b[0m\n",
      "Accuracy of the model for training data is: 0.9251824817518248\n",
      "Confusion Matrix for training data is:\n"
     ]
    },
    {
     "data": {
      "text/plain": [
       "Predicted  False  True  __all__\n",
       "Actual                         \n",
       "False      22370  1970    24340\n",
       "True         162  3994     4156\n",
       "__all__    22532  5964    28496"
      ]
     },
     "metadata": {},
     "output_type": "display_data"
    },
    {
     "name": "stdout",
     "output_type": "stream",
     "text": [
      "Accuracy of the model for test data is: 0.9093588798820929\n",
      "Confusion Matrix for test data is:\n"
     ]
    },
    {
     "data": {
      "text/plain": [
       "Predicted  False  True  __all__\n",
       "Actual                         \n",
       "False       9525   913    10438\n",
       "True         194  1581     1775\n",
       "__all__     9719  2494    12213"
      ]
     },
     "metadata": {},
     "output_type": "display_data"
    },
    {
     "name": "stdout",
     "output_type": "stream",
     "text": [
      "\n",
      "\n",
      "\u001b[1mNeural Network-1\u001b[0m\n",
      "The accuracy of the model on training data is: 0.9205151600224593\n"
     ]
    },
    {
     "data": {
      "text/plain": [
       "Predicted  False  True  __all__\n",
       "Actual                         \n",
       "False      22232  2108    24340\n",
       "True         157  3999     4156\n",
       "__all__    22389  6107    28496"
      ]
     },
     "metadata": {},
     "output_type": "display_data"
    },
    {
     "name": "stdout",
     "output_type": "stream",
     "text": [
      "The accuracy of the model on test data is: 0.9042823221157783\n"
     ]
    },
    {
     "data": {
      "text/plain": [
       "Predicted  False  True  __all__\n",
       "Actual                         \n",
       "False       9446   992    10438\n",
       "True         177  1598     1775\n",
       "__all__     9623  2590    12213"
      ]
     },
     "metadata": {},
     "output_type": "display_data"
    },
    {
     "name": "stdout",
     "output_type": "stream",
     "text": [
      "\n",
      "\n"
     ]
    }
   ],
   "source": [
    "feat_imp=[None]*4\n",
    "j=0\n",
    "for i in range(0,8):\n",
    "    if i>=2 and i<=5:\n",
    "        model,cm_train,cm_test,acc_train,acc_test,roc_auc,feat_imp[j],mcc=f[i](X_train,Y_train,X_test,Y_test,np.arange(0,215).astype(str))\n",
    "        j=j+1\n",
    "    else:\n",
    "        model,cm_train,cm_test,acc_train,acc_test,roc_auc,mcc=f[i](X_train,Y_train,X_test,Y_test)\n",
    "    table_80_70_train.loc[i]=   ([acc_train,cm_train.TP,cm_train.TN,cm_train.FP,cm_train.FN,cm_train.FPR,cm_train.FNR])\n",
    "    table_80_70_test.loc[i] =   ([acc_test ,cm_test.TP, cm_test.TN, cm_test.FP, cm_test.FN, cm_test.FPR, cm_test.FNR,roc_auc,mcc])\n",
    "    print(\"\\n\")"
   ]
  },
  {
   "cell_type": "markdown",
   "metadata": {},
   "source": [
    "### <a id='5.A' style=\"text-decoration : none; color : #000000;\"> A. Results</a>"
   ]
  },
  {
   "cell_type": "code",
   "execution_count": 101,
   "metadata": {},
   "outputs": [
    {
     "data": {
      "application/vnd.plotly.v1+json": {
       "config": {
        "linkText": "Export to plot.ly",
        "plotlyServerURL": "https://plot.ly",
        "showLink": true
       },
       "data": [
        {
         "mode": "lines",
         "name": "KNN_model",
         "type": "scatter",
         "uid": "2815c0f4-0e1b-47e6-be03-228fb8185d2f",
         "x": [
          "accuracy",
          "FPR",
          "FNR",
          "auc"
         ],
         "y": [
          0.9055105215753705,
          0.09101360413872389,
          0.11492957746478873,
          0.8970284091982436
         ]
        },
        {
         "mode": "lines+markers",
         "name": "Logistic Regression",
         "type": "scatter",
         "uid": "f6e8128e-700b-428a-960d-ad57e4459737",
         "x": [
          "accuracy",
          "FPR",
          "FNR",
          "auc"
         ],
         "y": [
          0.8974862851060346,
          0.09340869898447979,
          0.156056338028169,
          0.8752674814936756
         ]
        },
        {
         "marker": {
          "symbol": "x"
         },
         "mode": "lines+markers",
         "name": "Random Forest",
         "type": "scatter",
         "uid": "74896751-612a-420a-a422-5887b5b9775c",
         "x": [
          "accuracy",
          "FPR",
          "FNR",
          "auc"
         ],
         "y": [
          0.9104233194137394,
          0.08526537650890975,
          0.11492957746478873,
          0.8999025230131508
         ]
        },
        {
         "mode": "lines",
         "name": "Ada Boost",
         "type": "scatter",
         "uid": "b1691546-f574-4c27-9967-c2c56425aa75",
         "x": [
          "accuracy",
          "FPR",
          "FNR",
          "auc"
         ],
         "y": [
          0.9010890035208384,
          0.08794788273615635,
          0.16338028169014085,
          0.8743359177868514
         ]
        },
        {
         "mode": "lines+markers",
         "name": "GradientBoosting",
         "type": "scatter",
         "uid": "54dfe991-3c4f-4ad3-b5ea-e754dfcdc640",
         "x": [
          "accuracy",
          "FPR",
          "FNR",
          "auc"
         ],
         "y": [
          0.9084582002783919,
          0.08526537650890975,
          0.12845070422535212,
          0.893141959632869
         ]
        },
        {
         "marker": {
          "symbol": "x"
         },
         "mode": "lines+markers",
         "name": "ExtraTree Classifier",
         "type": "scatter",
         "uid": "0fdcce42-fcd4-4249-a193-c5c84a7a7768",
         "x": [
          "accuracy",
          "FPR",
          "FNR",
          "auc"
         ],
         "y": [
          0.9107508392696307,
          0.08497796512741905,
          0.1143661971830986,
          0.9003279188447412
         ]
        },
        {
         "marker": {
          "symbol": "x"
         },
         "mode": "lines+markers",
         "name": "Bagging",
         "type": "scatter",
         "uid": "791d7795-0900-49b5-b9bc-f8b57030d872",
         "x": [
          "accuracy",
          "FPR",
          "FNR",
          "auc"
         ],
         "y": [
          0.9093588798820929,
          0.08746886376700518,
          0.10929577464788733,
          0.9016176807925538
         ]
        },
        {
         "marker": {
          "symbol": "x"
         },
         "mode": "lines+markers",
         "name": "Neural Network",
         "type": "scatter",
         "uid": "1782f6dc-a172-4e64-bd53-7fee37ad7034",
         "x": [
          "accuracy",
          "FPR",
          "FNR",
          "auc"
         ],
         "y": [
          0.9042823221157783,
          0.0950373634795938,
          0.09971830985915493,
          0.9026221633306256
         ]
        }
       ],
       "layout": {
        "title": "Result comparision for Features selected in Section 1",
        "yaxis": {
         "dtick": 0.05,
         "tick0": 0
        }
       }
      },
      "text/html": [
       "<div id=\"98e6503e-3cc0-4f09-920f-b8a7bb0553ee\" style=\"height: 525px; width: 100%;\" class=\"plotly-graph-div\"></div><script type=\"text/javascript\">require([\"plotly\"], function(Plotly) { window.PLOTLYENV=window.PLOTLYENV || {};window.PLOTLYENV.BASE_URL=\"https://plot.ly\";Plotly.newPlot(\"98e6503e-3cc0-4f09-920f-b8a7bb0553ee\", [{\"mode\": \"lines\", \"name\": \"KNN_model\", \"x\": [\"accuracy\", \"FPR\", \"FNR\", \"auc\"], \"y\": [0.9055105215753705, 0.09101360413872389, 0.11492957746478873, 0.8970284091982436], \"type\": \"scatter\", \"uid\": \"2815c0f4-0e1b-47e6-be03-228fb8185d2f\"}, {\"mode\": \"lines+markers\", \"name\": \"Logistic Regression\", \"x\": [\"accuracy\", \"FPR\", \"FNR\", \"auc\"], \"y\": [0.8974862851060346, 0.09340869898447979, 0.156056338028169, 0.8752674814936756], \"type\": \"scatter\", \"uid\": \"f6e8128e-700b-428a-960d-ad57e4459737\"}, {\"marker\": {\"symbol\": \"x\"}, \"mode\": \"lines+markers\", \"name\": \"Random Forest\", \"x\": [\"accuracy\", \"FPR\", \"FNR\", \"auc\"], \"y\": [0.9104233194137394, 0.08526537650890975, 0.11492957746478873, 0.8999025230131508], \"type\": \"scatter\", \"uid\": \"74896751-612a-420a-a422-5887b5b9775c\"}, {\"mode\": \"lines\", \"name\": \"Ada Boost\", \"x\": [\"accuracy\", \"FPR\", \"FNR\", \"auc\"], \"y\": [0.9010890035208384, 0.08794788273615635, 0.16338028169014085, 0.8743359177868514], \"type\": \"scatter\", \"uid\": \"b1691546-f574-4c27-9967-c2c56425aa75\"}, {\"mode\": \"lines+markers\", \"name\": \"GradientBoosting\", \"x\": [\"accuracy\", \"FPR\", \"FNR\", \"auc\"], \"y\": [0.9084582002783919, 0.08526537650890975, 0.12845070422535212, 0.893141959632869], \"type\": \"scatter\", \"uid\": \"54dfe991-3c4f-4ad3-b5ea-e754dfcdc640\"}, {\"marker\": {\"symbol\": \"x\"}, \"mode\": \"lines+markers\", \"name\": \"ExtraTree Classifier\", \"x\": [\"accuracy\", \"FPR\", \"FNR\", \"auc\"], \"y\": [0.9107508392696307, 0.08497796512741905, 0.1143661971830986, 0.9003279188447412], \"type\": \"scatter\", \"uid\": \"0fdcce42-fcd4-4249-a193-c5c84a7a7768\"}, {\"marker\": {\"symbol\": \"x\"}, \"mode\": \"lines+markers\", \"name\": \"Bagging\", \"x\": [\"accuracy\", \"FPR\", \"FNR\", \"auc\"], \"y\": [0.9093588798820929, 0.08746886376700518, 0.10929577464788733, 0.9016176807925538], \"type\": \"scatter\", \"uid\": \"791d7795-0900-49b5-b9bc-f8b57030d872\"}, {\"marker\": {\"symbol\": \"x\"}, \"mode\": \"lines+markers\", \"name\": \"Neural Network\", \"x\": [\"accuracy\", \"FPR\", \"FNR\", \"auc\"], \"y\": [0.9042823221157783, 0.0950373634795938, 0.09971830985915493, 0.9026221633306256], \"type\": \"scatter\", \"uid\": \"1782f6dc-a172-4e64-bd53-7fee37ad7034\"}], {\"title\": \"Result comparision for Features selected in Section 1\", \"yaxis\": {\"dtick\": 0.05, \"tick0\": 0}}, {\"showLink\": true, \"linkText\": \"Export to plot.ly\", \"plotlyServerURL\": \"https://plot.ly\"})});</script><script type=\"text/javascript\">window.addEventListener(\"resize\", function(){window._Plotly.Plots.resize(document.getElementById(\"98e6503e-3cc0-4f09-920f-b8a7bb0553ee\"));});</script>"
      ],
      "text/vnd.plotly.v1+html": [
       "<div id=\"98e6503e-3cc0-4f09-920f-b8a7bb0553ee\" style=\"height: 525px; width: 100%;\" class=\"plotly-graph-div\"></div><script type=\"text/javascript\">require([\"plotly\"], function(Plotly) { window.PLOTLYENV=window.PLOTLYENV || {};window.PLOTLYENV.BASE_URL=\"https://plot.ly\";Plotly.newPlot(\"98e6503e-3cc0-4f09-920f-b8a7bb0553ee\", [{\"mode\": \"lines\", \"name\": \"KNN_model\", \"x\": [\"accuracy\", \"FPR\", \"FNR\", \"auc\"], \"y\": [0.9055105215753705, 0.09101360413872389, 0.11492957746478873, 0.8970284091982436], \"type\": \"scatter\", \"uid\": \"2815c0f4-0e1b-47e6-be03-228fb8185d2f\"}, {\"mode\": \"lines+markers\", \"name\": \"Logistic Regression\", \"x\": [\"accuracy\", \"FPR\", \"FNR\", \"auc\"], \"y\": [0.8974862851060346, 0.09340869898447979, 0.156056338028169, 0.8752674814936756], \"type\": \"scatter\", \"uid\": \"f6e8128e-700b-428a-960d-ad57e4459737\"}, {\"marker\": {\"symbol\": \"x\"}, \"mode\": \"lines+markers\", \"name\": \"Random Forest\", \"x\": [\"accuracy\", \"FPR\", \"FNR\", \"auc\"], \"y\": [0.9104233194137394, 0.08526537650890975, 0.11492957746478873, 0.8999025230131508], \"type\": \"scatter\", \"uid\": \"74896751-612a-420a-a422-5887b5b9775c\"}, {\"mode\": \"lines\", \"name\": \"Ada Boost\", \"x\": [\"accuracy\", \"FPR\", \"FNR\", \"auc\"], \"y\": [0.9010890035208384, 0.08794788273615635, 0.16338028169014085, 0.8743359177868514], \"type\": \"scatter\", \"uid\": \"b1691546-f574-4c27-9967-c2c56425aa75\"}, {\"mode\": \"lines+markers\", \"name\": \"GradientBoosting\", \"x\": [\"accuracy\", \"FPR\", \"FNR\", \"auc\"], \"y\": [0.9084582002783919, 0.08526537650890975, 0.12845070422535212, 0.893141959632869], \"type\": \"scatter\", \"uid\": \"54dfe991-3c4f-4ad3-b5ea-e754dfcdc640\"}, {\"marker\": {\"symbol\": \"x\"}, \"mode\": \"lines+markers\", \"name\": \"ExtraTree Classifier\", \"x\": [\"accuracy\", \"FPR\", \"FNR\", \"auc\"], \"y\": [0.9107508392696307, 0.08497796512741905, 0.1143661971830986, 0.9003279188447412], \"type\": \"scatter\", \"uid\": \"0fdcce42-fcd4-4249-a193-c5c84a7a7768\"}, {\"marker\": {\"symbol\": \"x\"}, \"mode\": \"lines+markers\", \"name\": \"Bagging\", \"x\": [\"accuracy\", \"FPR\", \"FNR\", \"auc\"], \"y\": [0.9093588798820929, 0.08746886376700518, 0.10929577464788733, 0.9016176807925538], \"type\": \"scatter\", \"uid\": \"791d7795-0900-49b5-b9bc-f8b57030d872\"}, {\"marker\": {\"symbol\": \"x\"}, \"mode\": \"lines+markers\", \"name\": \"Neural Network\", \"x\": [\"accuracy\", \"FPR\", \"FNR\", \"auc\"], \"y\": [0.9042823221157783, 0.0950373634795938, 0.09971830985915493, 0.9026221633306256], \"type\": \"scatter\", \"uid\": \"1782f6dc-a172-4e64-bd53-7fee37ad7034\"}], {\"title\": \"Result comparision for Features selected in Section 1\", \"yaxis\": {\"dtick\": 0.05, \"tick0\": 0}}, {\"showLink\": true, \"linkText\": \"Export to plot.ly\", \"plotlyServerURL\": \"https://plot.ly\"})});</script><script type=\"text/javascript\">window.addEventListener(\"resize\", function(){window._Plotly.Plots.resize(document.getElementById(\"98e6503e-3cc0-4f09-920f-b8a7bb0553ee\"));});</script>"
      ]
     },
     "metadata": {},
     "output_type": "display_data"
    }
   ],
   "source": [
    "trace0 = go.Scatter(x=table_80_70_test.iloc[0].index.values[[0,5,6,7]],\n",
    "                    y=table_80_70_test.iloc[0].values[[0,5,6,7]],\n",
    "                    mode = 'lines',\n",
    "                    name = 'KNN_model')\n",
    "\n",
    "trace1 = go.Scatter(x=table_80_70_test.iloc[1].index.values[[0,5,6,7]],\n",
    "                    y=table_80_70_test.iloc[1].values[[0,5,6,7]],\n",
    "                    mode = 'lines+markers',\n",
    "                    name = 'Logistic Regression')\n",
    "\n",
    "trace2 = go.Scatter(x=table_80_70_test.iloc[2].index.values[[0,5,6,7]],\n",
    "                    y=table_80_70_test.iloc[2].values[[0,5,6,7]],\n",
    "                    mode = 'lines+markers',marker=dict(symbol='x'),\n",
    "                    name = 'Random Forest')\n",
    "\n",
    "\n",
    "trace3 = go.Scatter(x=table_80_70_test.iloc[3].index.values[[0,5,6,7]],\n",
    "                    y=table_80_70_test.iloc[3].values[[0,5,6,7]],\n",
    "                    mode = 'lines',\n",
    "                    name = 'Ada Boost')\n",
    "\n",
    "trace4 = go.Scatter(x=table_80_70_test.iloc[4].index.values[[0,5,6,7]],\n",
    "                    y=table_80_70_test.iloc[4].values[[0,5,6,7]],\n",
    "                    mode = 'lines+markers',\n",
    "                    name = 'GradientBoosting')\n",
    "\n",
    "trace5 = go.Scatter(x=table_80_70_test.iloc[5].index.values[[0,5,6,7]],\n",
    "                    y=table_80_70_test.iloc[5].values[[0,5,6,7]],\n",
    "                    mode = 'lines+markers',marker=dict(symbol='x'),\n",
    "                    name = 'ExtraTree Classifier')\n",
    "\n",
    "trace6 = go.Scatter(x=table_80_70_test.iloc[6].index.values[[0,5,6,7]],\n",
    "                    y=table_80_70_test.iloc[6].values[[0,5,6,7]],\n",
    "                    mode = 'lines+markers',marker=dict(symbol='x'),\n",
    "                    name = 'Bagging')\n",
    "\n",
    "trace7 = go.Scatter(x=table_80_70_test.iloc[7].index.values[[0,5,6,7]],\n",
    "                    y=table_80_70_test.iloc[7].values[[0,5,6,7]],\n",
    "                    mode = 'lines+markers',marker=dict(symbol='x'),\n",
    "                    name = 'Neural Network')\n",
    "\n",
    "\n",
    "\n",
    "data = [trace0, trace1, trace2, trace3, trace4, trace5, trace6, trace7]\n",
    "layout = go.Layout(yaxis=dict(tick0=0,dtick=0.05),title='Result comparision for Features selected in Section 1')\n",
    "fig = go.Figure(data=data, layout=layout)\n",
    "\n",
    "iplot(fig, filename='Result')"
   ]
  },
  {
   "cell_type": "code",
   "execution_count": 102,
   "metadata": {},
   "outputs": [
    {
     "name": "stdout",
     "output_type": "stream",
     "text": [
      "Training Results\n"
     ]
    },
    {
     "data": {
      "text/html": [
       "<div>\n",
       "<style scoped>\n",
       "    .dataframe tbody tr th:only-of-type {\n",
       "        vertical-align: middle;\n",
       "    }\n",
       "\n",
       "    .dataframe tbody tr th {\n",
       "        vertical-align: top;\n",
       "    }\n",
       "\n",
       "    .dataframe thead th {\n",
       "        text-align: right;\n",
       "    }\n",
       "</style>\n",
       "<table border=\"1\" class=\"dataframe\">\n",
       "  <thead>\n",
       "    <tr style=\"text-align: right;\">\n",
       "      <th></th>\n",
       "      <th>accuracy</th>\n",
       "      <th>TP</th>\n",
       "      <th>TN</th>\n",
       "      <th>FP</th>\n",
       "      <th>FN</th>\n",
       "      <th>FPR</th>\n",
       "      <th>FNR</th>\n",
       "    </tr>\n",
       "    <tr>\n",
       "      <th>index</th>\n",
       "      <th></th>\n",
       "      <th></th>\n",
       "      <th></th>\n",
       "      <th></th>\n",
       "      <th></th>\n",
       "      <th></th>\n",
       "      <th></th>\n",
       "    </tr>\n",
       "  </thead>\n",
       "  <tbody>\n",
       "    <tr>\n",
       "      <th>KNeighborsClassifier</th>\n",
       "      <td>0.912900</td>\n",
       "      <td>3740.0</td>\n",
       "      <td>22274.0</td>\n",
       "      <td>2066.0</td>\n",
       "      <td>416.0</td>\n",
       "      <td>0.084881</td>\n",
       "      <td>0.100096</td>\n",
       "    </tr>\n",
       "    <tr>\n",
       "      <th>LogisticRegression</th>\n",
       "      <td>0.900302</td>\n",
       "      <td>3476.0</td>\n",
       "      <td>22179.0</td>\n",
       "      <td>2161.0</td>\n",
       "      <td>680.0</td>\n",
       "      <td>0.088784</td>\n",
       "      <td>0.163619</td>\n",
       "    </tr>\n",
       "    <tr>\n",
       "      <th>RandomForestClassifier</th>\n",
       "      <td>0.924691</td>\n",
       "      <td>3979.0</td>\n",
       "      <td>22371.0</td>\n",
       "      <td>1969.0</td>\n",
       "      <td>177.0</td>\n",
       "      <td>0.080896</td>\n",
       "      <td>0.042589</td>\n",
       "    </tr>\n",
       "    <tr>\n",
       "      <th>AdaBoostClassifier</th>\n",
       "      <td>0.903811</td>\n",
       "      <td>3457.0</td>\n",
       "      <td>22298.0</td>\n",
       "      <td>2042.0</td>\n",
       "      <td>699.0</td>\n",
       "      <td>0.083895</td>\n",
       "      <td>0.168191</td>\n",
       "    </tr>\n",
       "    <tr>\n",
       "      <th>GradientBoostingClassifier</th>\n",
       "      <td>0.914058</td>\n",
       "      <td>3670.0</td>\n",
       "      <td>22377.0</td>\n",
       "      <td>1963.0</td>\n",
       "      <td>486.0</td>\n",
       "      <td>0.080649</td>\n",
       "      <td>0.116939</td>\n",
       "    </tr>\n",
       "    <tr>\n",
       "      <th>ExtraTreeClassifier</th>\n",
       "      <td>0.927393</td>\n",
       "      <td>4050.0</td>\n",
       "      <td>22377.0</td>\n",
       "      <td>1963.0</td>\n",
       "      <td>106.0</td>\n",
       "      <td>0.080649</td>\n",
       "      <td>0.025505</td>\n",
       "    </tr>\n",
       "    <tr>\n",
       "      <th>BaggingClassifier</th>\n",
       "      <td>0.925182</td>\n",
       "      <td>3994.0</td>\n",
       "      <td>22370.0</td>\n",
       "      <td>1970.0</td>\n",
       "      <td>162.0</td>\n",
       "      <td>0.080937</td>\n",
       "      <td>0.038980</td>\n",
       "    </tr>\n",
       "    <tr>\n",
       "      <th>Neural Network-1</th>\n",
       "      <td>0.920515</td>\n",
       "      <td>3999.0</td>\n",
       "      <td>22232.0</td>\n",
       "      <td>2108.0</td>\n",
       "      <td>157.0</td>\n",
       "      <td>0.086606</td>\n",
       "      <td>0.037777</td>\n",
       "    </tr>\n",
       "  </tbody>\n",
       "</table>\n",
       "</div>"
      ],
      "text/plain": [
       "                            accuracy      TP       TN      FP     FN  \\\n",
       "index                                                                  \n",
       "KNeighborsClassifier        0.912900  3740.0  22274.0  2066.0  416.0   \n",
       "LogisticRegression          0.900302  3476.0  22179.0  2161.0  680.0   \n",
       "RandomForestClassifier      0.924691  3979.0  22371.0  1969.0  177.0   \n",
       "AdaBoostClassifier          0.903811  3457.0  22298.0  2042.0  699.0   \n",
       "GradientBoostingClassifier  0.914058  3670.0  22377.0  1963.0  486.0   \n",
       "ExtraTreeClassifier         0.927393  4050.0  22377.0  1963.0  106.0   \n",
       "BaggingClassifier           0.925182  3994.0  22370.0  1970.0  162.0   \n",
       "Neural Network-1            0.920515  3999.0  22232.0  2108.0  157.0   \n",
       "\n",
       "                                 FPR       FNR  \n",
       "index                                           \n",
       "KNeighborsClassifier        0.084881  0.100096  \n",
       "LogisticRegression          0.088784  0.163619  \n",
       "RandomForestClassifier      0.080896  0.042589  \n",
       "AdaBoostClassifier          0.083895  0.168191  \n",
       "GradientBoostingClassifier  0.080649  0.116939  \n",
       "ExtraTreeClassifier         0.080649  0.025505  \n",
       "BaggingClassifier           0.080937  0.038980  \n",
       "Neural Network-1            0.086606  0.037777  "
      ]
     },
     "metadata": {},
     "output_type": "display_data"
    },
    {
     "name": "stdout",
     "output_type": "stream",
     "text": [
      "Test Results\n"
     ]
    },
    {
     "data": {
      "text/html": [
       "<div>\n",
       "<style scoped>\n",
       "    .dataframe tbody tr th:only-of-type {\n",
       "        vertical-align: middle;\n",
       "    }\n",
       "\n",
       "    .dataframe tbody tr th {\n",
       "        vertical-align: top;\n",
       "    }\n",
       "\n",
       "    .dataframe thead th {\n",
       "        text-align: right;\n",
       "    }\n",
       "</style>\n",
       "<table border=\"1\" class=\"dataframe\">\n",
       "  <thead>\n",
       "    <tr style=\"text-align: right;\">\n",
       "      <th></th>\n",
       "      <th>accuracy</th>\n",
       "      <th>TP</th>\n",
       "      <th>TN</th>\n",
       "      <th>FP</th>\n",
       "      <th>FN</th>\n",
       "      <th>FPR</th>\n",
       "      <th>FNR</th>\n",
       "      <th>auc</th>\n",
       "      <th>mcc</th>\n",
       "    </tr>\n",
       "    <tr>\n",
       "      <th>index</th>\n",
       "      <th></th>\n",
       "      <th></th>\n",
       "      <th></th>\n",
       "      <th></th>\n",
       "      <th></th>\n",
       "      <th></th>\n",
       "      <th></th>\n",
       "      <th></th>\n",
       "      <th></th>\n",
       "    </tr>\n",
       "  </thead>\n",
       "  <tbody>\n",
       "    <tr>\n",
       "      <th>KNeighborsClassifier</th>\n",
       "      <td>0.905511</td>\n",
       "      <td>1571.0</td>\n",
       "      <td>9488.0</td>\n",
       "      <td>950.0</td>\n",
       "      <td>204.0</td>\n",
       "      <td>0.091014</td>\n",
       "      <td>0.114930</td>\n",
       "      <td>0.897028</td>\n",
       "      <td>0.691459</td>\n",
       "    </tr>\n",
       "    <tr>\n",
       "      <th>LogisticRegression</th>\n",
       "      <td>0.897486</td>\n",
       "      <td>1498.0</td>\n",
       "      <td>9463.0</td>\n",
       "      <td>975.0</td>\n",
       "      <td>277.0</td>\n",
       "      <td>0.093409</td>\n",
       "      <td>0.156056</td>\n",
       "      <td>0.875267</td>\n",
       "      <td>0.658244</td>\n",
       "    </tr>\n",
       "    <tr>\n",
       "      <th>RandomForestClassifier</th>\n",
       "      <td>0.910423</td>\n",
       "      <td>1571.0</td>\n",
       "      <td>9548.0</td>\n",
       "      <td>890.0</td>\n",
       "      <td>204.0</td>\n",
       "      <td>0.085265</td>\n",
       "      <td>0.114930</td>\n",
       "      <td>0.899903</td>\n",
       "      <td>0.702731</td>\n",
       "    </tr>\n",
       "    <tr>\n",
       "      <th>AdaBoostClassifier</th>\n",
       "      <td>0.901089</td>\n",
       "      <td>1485.0</td>\n",
       "      <td>9520.0</td>\n",
       "      <td>918.0</td>\n",
       "      <td>290.0</td>\n",
       "      <td>0.087948</td>\n",
       "      <td>0.163380</td>\n",
       "      <td>0.874336</td>\n",
       "      <td>0.663725</td>\n",
       "    </tr>\n",
       "    <tr>\n",
       "      <th>GradientBoostingClassifier</th>\n",
       "      <td>0.908458</td>\n",
       "      <td>1547.0</td>\n",
       "      <td>9548.0</td>\n",
       "      <td>890.0</td>\n",
       "      <td>228.0</td>\n",
       "      <td>0.085265</td>\n",
       "      <td>0.128451</td>\n",
       "      <td>0.893142</td>\n",
       "      <td>0.693392</td>\n",
       "    </tr>\n",
       "    <tr>\n",
       "      <th>ExtraTreeClassifier</th>\n",
       "      <td>0.910751</td>\n",
       "      <td>1572.0</td>\n",
       "      <td>9551.0</td>\n",
       "      <td>887.0</td>\n",
       "      <td>203.0</td>\n",
       "      <td>0.084978</td>\n",
       "      <td>0.114366</td>\n",
       "      <td>0.900328</td>\n",
       "      <td>0.703693</td>\n",
       "    </tr>\n",
       "    <tr>\n",
       "      <th>BaggingClassifier</th>\n",
       "      <td>0.909359</td>\n",
       "      <td>1581.0</td>\n",
       "      <td>9525.0</td>\n",
       "      <td>913.0</td>\n",
       "      <td>194.0</td>\n",
       "      <td>0.087469</td>\n",
       "      <td>0.109296</td>\n",
       "      <td>0.901618</td>\n",
       "      <td>0.702250</td>\n",
       "    </tr>\n",
       "    <tr>\n",
       "      <th>Neural Network-1</th>\n",
       "      <td>0.904282</td>\n",
       "      <td>1598.0</td>\n",
       "      <td>9446.0</td>\n",
       "      <td>992.0</td>\n",
       "      <td>177.0</td>\n",
       "      <td>0.095037</td>\n",
       "      <td>0.099718</td>\n",
       "      <td>0.902622</td>\n",
       "      <td>0.694273</td>\n",
       "    </tr>\n",
       "  </tbody>\n",
       "</table>\n",
       "</div>"
      ],
      "text/plain": [
       "                            accuracy      TP      TN     FP     FN       FPR  \\\n",
       "index                                                                          \n",
       "KNeighborsClassifier        0.905511  1571.0  9488.0  950.0  204.0  0.091014   \n",
       "LogisticRegression          0.897486  1498.0  9463.0  975.0  277.0  0.093409   \n",
       "RandomForestClassifier      0.910423  1571.0  9548.0  890.0  204.0  0.085265   \n",
       "AdaBoostClassifier          0.901089  1485.0  9520.0  918.0  290.0  0.087948   \n",
       "GradientBoostingClassifier  0.908458  1547.0  9548.0  890.0  228.0  0.085265   \n",
       "ExtraTreeClassifier         0.910751  1572.0  9551.0  887.0  203.0  0.084978   \n",
       "BaggingClassifier           0.909359  1581.0  9525.0  913.0  194.0  0.087469   \n",
       "Neural Network-1            0.904282  1598.0  9446.0  992.0  177.0  0.095037   \n",
       "\n",
       "                                 FNR       auc       mcc  \n",
       "index                                                     \n",
       "KNeighborsClassifier        0.114930  0.897028  0.691459  \n",
       "LogisticRegression          0.156056  0.875267  0.658244  \n",
       "RandomForestClassifier      0.114930  0.899903  0.702731  \n",
       "AdaBoostClassifier          0.163380  0.874336  0.663725  \n",
       "GradientBoostingClassifier  0.128451  0.893142  0.693392  \n",
       "ExtraTreeClassifier         0.114366  0.900328  0.703693  \n",
       "BaggingClassifier           0.109296  0.901618  0.702250  \n",
       "Neural Network-1            0.099718  0.902622  0.694273  "
      ]
     },
     "metadata": {},
     "output_type": "display_data"
    }
   ],
   "source": [
    "table_80_70_train['index']=ind_columns\n",
    "table_80_70_test['index']=ind_columns\n",
    "\n",
    "\n",
    "table_80_70_test.set_index(['index'],drop=True,inplace=True)\n",
    "table_80_70_train.set_index(['index'],drop=True,inplace=True)\n",
    "\n",
    "print(\"Training Results\")\n",
    "display(table_80_70_train)\n",
    "print(\"Test Results\")\n",
    "display(table_80_70_test)"
   ]
  },
  {
   "cell_type": "code",
   "execution_count": 103,
   "metadata": {},
   "outputs": [
    {
     "data": {
      "text/html": [
       "<script>\n",
       "code_show=true; \n",
       "function code_toggle() {\n",
       " if (code_show){\n",
       " $('div.input').hide();\n",
       " } else {\n",
       " $('div.input').show();\n",
       " }\n",
       " code_show = !code_show\n",
       "} \n",
       "$( document ).ready(code_toggle);\n",
       "</script>\n",
       "To toggle code, click <a href=\"javascript:code_toggle()\">here</a>."
      ],
      "text/plain": [
       "<IPython.core.display.HTML object>"
      ]
     },
     "execution_count": 103,
     "metadata": {},
     "output_type": "execute_result"
    }
   ],
   "source": [
    "### Original Creator : Darshan Bhansali\n",
    "### HTML code to hide the input cells \n",
    "HTML('''<script>\n",
    "code_show=true; \n",
    "function code_toggle() {\n",
    " if (code_show){\n",
    " $('div.input').hide();\n",
    " } else {\n",
    " $('div.input').show();\n",
    " }\n",
    " code_show = !code_show\n",
    "} \n",
    "$( document ).ready(code_toggle);\n",
    "</script>\n",
    "To toggle code, click <a href=\"javascript:code_toggle()\">here</a>.''')"
   ]
  }
 ],
 "metadata": {
  "kernelspec": {
   "display_name": "Python 3",
   "language": "python",
   "name": "python3"
  },
  "language_info": {
   "codemirror_mode": {
    "name": "ipython",
    "version": 3
   },
   "file_extension": ".py",
   "mimetype": "text/x-python",
   "name": "python",
   "nbconvert_exporter": "python",
   "pygments_lexer": "ipython3",
   "version": "3.6.8"
  }
 },
 "nbformat": 4,
 "nbformat_minor": 2
}
