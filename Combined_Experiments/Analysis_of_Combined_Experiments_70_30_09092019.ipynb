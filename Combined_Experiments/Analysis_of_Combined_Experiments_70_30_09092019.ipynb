{
 "cells": [
  {
   "cell_type": "code",
   "execution_count": 1,
   "metadata": {},
   "outputs": [
    {
     "name": "stderr",
     "output_type": "stream",
     "text": [
      "Using TensorFlow backend.\n",
      "/nethomes/darshan/anaconda3/lib/python3.6/site-packages/sklearn/externals/six.py:31: DeprecationWarning: The module is deprecated in version 0.21 and will be removed in version 0.23 since we've dropped support for Python 2.7. Please rely on the official version of six (https://pypi.org/project/six/).\n",
      "  \"(https://pypi.org/project/six/).\", DeprecationWarning)\n",
      "/nethomes/darshan/anaconda3/lib/python3.6/site-packages/sklearn/externals/joblib/__init__.py:15: DeprecationWarning: sklearn.externals.joblib is deprecated in 0.21 and will be removed in 0.23. Please import this functionality directly from joblib, which can be installed with: pip install joblib. If this warning is raised when loading pickled models, you may need to re-serialize those models with scikit-learn 0.21+.\n",
      "  warnings.warn(msg, category=DeprecationWarning)\n"
     ]
    },
    {
     "data": {
      "text/html": [
       "<script type=\"text/javascript\">window.PlotlyConfig = {MathJaxConfig: 'local'};</script><script type=\"text/javascript\">if (window.MathJax) {MathJax.Hub.Config({SVG: {font: \"STIX-Web\"}});}</script><script>requirejs.config({paths: { 'plotly': ['https://cdn.plot.ly/plotly-latest.min']},});if(!window._Plotly) {require(['plotly'],function(plotly) {window._Plotly=plotly;});}</script>"
      ],
      "text/vnd.plotly.v1+html": [
       "<script type=\"text/javascript\">window.PlotlyConfig = {MathJaxConfig: 'local'};</script><script type=\"text/javascript\">if (window.MathJax) {MathJax.Hub.Config({SVG: {font: \"STIX-Web\"}});}</script><script>requirejs.config({paths: { 'plotly': ['https://cdn.plot.ly/plotly-latest.min']},});if(!window._Plotly) {require(['plotly'],function(plotly) {window._Plotly=plotly;});}</script>"
      ]
     },
     "metadata": {},
     "output_type": "display_data"
    }
   ],
   "source": [
    "import pandas as pd\n",
    "import numpy as np\n",
    "import copy\n",
    "import matplotlib.pyplot as plt\n",
    "import seaborn as sns\n",
    "%matplotlib inline\n",
    "\n",
    "from IPython.display import display,clear_output,HTML\n",
    "import warnings\n",
    "warnings.filterwarnings(\"ignore\")\n",
    "\n",
    "import keras\n",
    "from keras.layers import Dense,Dropout\n",
    "from keras.models import Sequential\n",
    "\n",
    "import researchpy as rp\n",
    "\n",
    "%matplotlib inline\n",
    "pd.set_option('display.max_columns', 500)\n",
    "pd.set_option('display.max_rows',305)\n",
    "\n",
    "from sklearn.feature_selection import SelectKBest,chi2,RFE,RFECV,f_regression,SelectFromModel,f_classif\n",
    "from sklearn.linear_model import LogisticRegression\n",
    "from sklearn.ensemble import ExtraTreesClassifier,RandomForestClassifier,GradientBoostingClassifier,AdaBoostClassifier,BaggingClassifier\n",
    "from sklearn.neighbors import KNeighborsClassifier\n",
    "from sklearn.model_selection import train_test_split,cross_val_score\n",
    "\n",
    "from sklearn.preprocessing import StandardScaler,MinMaxScaler\n",
    "from sklearn import metrics\n",
    "\n",
    "from xgboost import XGBClassifier\n",
    "\n",
    "\n",
    "from sklearn.decomposition import PCA\n",
    "from sklearn.metrics import accuracy_score,auc,roc_curve,recall_score,precision_score,matthews_corrcoef\n",
    "\n",
    "from pandas_ml import ConfusionMatrix\n",
    "\n",
    "\n",
    "from imblearn.over_sampling import SMOTE\n",
    "\n",
    "from plotly.offline import download_plotlyjs, init_notebook_mode, plot, iplot\n",
    "init_notebook_mode(connected=True)\n",
    "import plotly.graph_objs as go\n",
    "\n",
    "import featuretools as ft\n",
    "\n",
    "from scipy import stats\n",
    "import re\n",
    "\n",
    "from statsmodels.stats.outliers_influence import variance_inflation_factor\n",
    "from statsmodels.tools.tools import add_constant"
   ]
  },
  {
   "cell_type": "code",
   "execution_count": 2,
   "metadata": {},
   "outputs": [],
   "source": [
    "### Function to plot Feature Importance\n",
    "def feat_impt_plot(feat_impt,y_labels,width_s=1000,height_s=1000):\n",
    "    \n",
    "    m=pd.DataFrame(y_labels,feat_impt).reset_index()\n",
    "    m.columns=['Feature_Importance','Features']\n",
    "    m.sort_values(by='Feature_Importance',inplace=True,ascending=False)\n",
    "    m['Features']=m['Features'].str.replace(\"dom_function_\",\"\")\n",
    "    m['Features']=m['Features'].str.replace(\"js_function_\",\"\")\n",
    "    m['Features']=m['Features'].apply(lambda x: str(x).lstrip('.'))\n",
    "    m['Features']=m['Features'].str.replace(\"(\",\"\")\n",
    "    \n",
    "    data = [go.Bar(x=m.Feature_Importance.values,y=m.Features.values,text=np.round(m.Feature_Importance,4),\n",
    "            textposition = 'outside',\n",
    "            marker=dict(\n",
    "                color='rgb(158,202,225)',\n",
    "                line=dict(\n",
    "                    color='rgb(8,48,107)',\n",
    "                    width=1.5),\n",
    "            ),\n",
    "            opacity=0.6,\n",
    "            orientation='h'\n",
    "        )]\n",
    "    layout = go.Layout(autosize=False,\n",
    "    width=width_s,\n",
    "    height=height_s,\n",
    "    xaxis=dict(title='Feature Importances',\n",
    "        tickfont=dict(\n",
    "            size=12,\n",
    "            color='black'\n",
    "        )),\n",
    "    yaxis=dict(automargin=True))\n",
    "    fig = go.Figure(data=data, layout=layout)\n",
    "    iplot(fig)"
   ]
  },
  {
   "cell_type": "code",
   "execution_count": 3,
   "metadata": {},
   "outputs": [],
   "source": [
    "def model_build(model,X_train,Y_train,X_test,Y_test,tree=False,feat=None):\n",
    "    \n",
    "    y_pred_train=model.predict(X_train)\n",
    "    acc_train=accuracy_score(Y_train,y_pred_train)\n",
    "    \n",
    "    print(\"Accuracy of the model for training data is:\",acc_train)\n",
    "    print(\"Confusion Matrix for training data is:\")\n",
    "    cm_train=ConfusionMatrix(Y_train,y_pred_train)\n",
    "    display(cm_train)\n",
    "    \n",
    "    \n",
    "    y_pred_test=model.predict(X_test)\n",
    "    acc_test=accuracy_score(Y_test,y_pred_test)\n",
    "    print(\"Accuracy of the model for test data is:\",acc_test)\n",
    "    print(\"Confusion Matrix for test data is:\")\n",
    "    cm_test=ConfusionMatrix(Y_test,y_pred_test)\n",
    "    display(cm_test)\n",
    "\n",
    "    fpr, tpr, threshold = roc_curve(Y_test, y_pred_test)\n",
    "    roc_auc =auc(fpr, tpr)\n",
    "    mcc=matthews_corrcoef(Y_test,y_pred_test)\n",
    "    \n",
    "    precision=precision_score(Y_test,y_pred_test)\n",
    "    recall=recall_score(Y_test,y_pred_test)\n",
    "    if tree==True:\n",
    "        feat_impt_plot(model.feature_importances_,feat)\n",
    "        return model,cm_train,cm_test,acc_train,acc_test,roc_auc,model.feature_importances_,mcc,precision,recall\n",
    "    \n",
    "    return model,cm_train,cm_test,acc_train,acc_test,roc_auc,mcc,precision,recall\n",
    "\n",
    "def KNN_model(X_train,Y_train,X_test,Y_test):\n",
    "    print('\\033[1m' + 'K-Nearest Neighbors' + '\\033[0m')\n",
    "    knn=KNeighborsClassifier()\n",
    "    knn.fit(X_train,Y_train)\n",
    "\n",
    "    return model_build(knn,X_train,Y_train,X_test,Y_test)\n",
    "\n",
    "# def Logistic_model(X_train,Y_train,X_test,Y_test):\n",
    "#     print('\\033[1m' + 'Logistic Regression' + '\\033[0m')\n",
    "#     log=LogisticRegression()\n",
    "#     log.fit(X_train,Y_train)\n",
    "    \n",
    "#     return model_build(log,X_train,Y_train,X_test,Y_test)\n",
    "\n",
    "def RandomForest(X_train,Y_train,X_test,Y_test,feat):\n",
    "    print('\\033[1m' + 'RandomForest Classifier' + '\\033[0m')\n",
    "    rf=RandomForestClassifier(random_state=0)\n",
    "    rf.fit(X_train,Y_train)\n",
    "\n",
    "    \n",
    "    return model_build(rf,X_train,Y_train,X_test,Y_test,True,feat)\n",
    "\n",
    "def AdaBoost(X_train,Y_train,X_test,Y_test,feat):\n",
    "    print('\\033[1m' + 'Adaoost Classifier' + '\\033[0m')\n",
    "    ada=AdaBoostClassifier(random_state=0)\n",
    "    ada.fit(X_train,Y_train)\n",
    "    \n",
    "    return model_build(ada,X_train,Y_train,X_test,Y_test,True,feat)\n",
    "\n",
    "def GradientBoosting(X_train,Y_train,X_test,Y_test,feat):\n",
    "    print('\\033[1m' + 'GradientBoosting Classifier' + '\\033[0m')\n",
    "    gbc=GradientBoostingClassifier(random_state=0)\n",
    "    gbc.fit(X_train,Y_train)\n",
    "    \n",
    "    return model_build(gbc,X_train,Y_train,X_test,Y_test,True,feat)\n",
    "\n",
    "def ExtraTree(X_train,Y_train,X_test,Y_test,feat):\n",
    "    print('\\033[1m' + 'ExtraTree Classifier' + '\\033[0m')\n",
    "    ext_tree=ExtraTreesClassifier(random_state=0)\n",
    "    ext_tree.fit(X_train,Y_train)\n",
    "    \n",
    "    return model_build(ext_tree,X_train,Y_train,X_test,Y_test,True,feat)\n",
    "\n",
    "def XGB(X_train,Y_train,X_test,Y_test,feat):\n",
    "    print('\\033[1m' + 'XGB Classifier' + '\\033[0m')\n",
    "    xgb=XGBClassifier(random_state=0)\n",
    "    xgb.fit(X_train,Y_train)\n",
    "    \n",
    "    return model_build(xgb,X_train,Y_train,X_test,Y_test,True,feat)\n",
    "\n",
    "def Bagging(X_train,Y_train,X_test,Y_test):\n",
    "    print('\\033[1m' + 'Bagging Classifier' + '\\033[0m')\n",
    "    bagging=BaggingClassifier(random_state=0)\n",
    "    bagging.fit(X_train,Y_train)\n",
    "    \n",
    "    return model_build(bagging,X_train,Y_train,X_test,Y_test)\n",
    "\n",
    "def XGB(X_train,Y_train,X_test,Y_test,feat):\n",
    "    print('\\033[1m' + 'XGB Classifier' + '\\033[0m')\n",
    "    xgb=XGBClassifier(random_state=0)\n",
    "    xgb.fit(X_train,Y_train)\n",
    "    \n",
    "    return model_build(xgb,X_train,Y_train,X_test,Y_test,True,feat)\n",
    "\n",
    "def DeepLearning1(X_train,Y_train,X_test,Y_test):\n",
    "    print('\\033[1m' + 'Neural Network-1' + '\\033[0m')\n",
    "    np.random.seed(0)\n",
    "    deep_learning=Sequential()\n",
    "    deep_learning.add(Dense(units=64,activation='relu',use_bias=True,kernel_initializer='uniform',input_dim=X_train.shape[1]))\n",
    "    deep_learning.add(Dense(units=128,activation='relu',use_bias=True,kernel_initializer='uniform'))\n",
    "    deep_learning.add(Dense(units=1,activation='sigmoid',use_bias=True,kernel_initializer='uniform'))\n",
    "    deep_learning.compile(optimizer='adam',loss='binary_crossentropy',metrics=['accuracy'])\n",
    "    deep_learning.fit(X_train,Y_train,batch_size=20,epochs=80,verbose=False)\n",
    "    acc_train=deep_learning.evaluate(X_train,Y_train,verbose=False)[1]\n",
    "    print(\"The accuracy of the model on training data is:\",acc_train)\n",
    "    cm_train=ConfusionMatrix(Y_train,deep_learning.predict_classes(X_train,batch_size=1,verbose=False).reshape(1,len(X_train))[0])\n",
    "    cm_test=ConfusionMatrix(Y_test,deep_learning.predict_classes(X_test,batch_size=1,verbose=False).reshape(1,len(X_test))[0])\n",
    "    display(cm_train)\n",
    "    acc_test=accuracy_score(Y_test,deep_learning.predict_classes(X_test,batch_size=1,verbose=False))\n",
    "    print(\"The accuracy of the model on test data is:\",acc_test)\n",
    "    display(cm_test)\n",
    "    mcc=matthews_corrcoef(Y_test,deep_learning.predict_classes(X_test,batch_size=1,verbose=False))\n",
    "    precision=precision_score(Y_test,deep_learning.predict_classes(X_test,batch_size=1,verbose=False))\n",
    "    recall=recall_score(Y_test,deep_learning.predict_classes(X_test,batch_size=1,verbose=False))\n",
    "    return  deep_learning,cm_train,cm_test,acc_train,acc_test,roc_auc,mcc,precision,recall"
   ]
  },
  {
   "cell_type": "code",
   "execution_count": 4,
   "metadata": {},
   "outputs": [
    {
     "name": "stdout",
     "output_type": "stream",
     "text": [
      "Shape of HTML dataset: (43491, 1461)\n",
      "Shape of JS,DOM dataset: (43294, 401)\n",
      "Shape of HTTP dataset: (45856, 672)\n",
      "Shape of URL dataset: (46771, 4194)\n"
     ]
    }
   ],
   "source": [
    "### Read HTML \n",
    "df_html=pd.read_csv('../html/HTML.csv',index_col='domain')\n",
    "df_html.drop(['Unnamed: 0'],axis=1,inplace=True)\n",
    "cookie=[col for col in df_html.columns if 'number' in col]\n",
    "df_html.drop(cookie,axis=1,inplace=True)\n",
    "print(\"Shape of HTML dataset:\",df_html.shape)\n",
    "df_html.Target=df_html.Target.apply(lambda x: 1 if x=='Malicious' else 0)\n",
    "count_columns=[col for col in df_html.columns if col.endswith('count')]\n",
    "df_html['total_count']=df_html[count_columns].sum(axis=1)\n",
    "\n",
    "href_columns=[col for col in df_html.columns if (('href_absolute' in col) | ('href_relative' in col) | ('href_page' in col))  ]\n",
    "df_html['total_href']=df_html[href_columns].sum(axis=1)\n",
    "\n",
    "total_img_src=[col for col in df_html.columns if 'img_src_' in col]\n",
    "df_html['total_img_src']=df_html[total_img_src].sum(axis=1)\n",
    "\n",
    "\n",
    "### Read JS \n",
    "df_js=pd.read_csv('Javascript.csv',low_memory=False,index_col='domain')\n",
    "cookie=[col for col in df_js.columns if 'number' in col]\n",
    "df_js.drop(cookie,axis=1,inplace=True)\n",
    "df_js.rename(columns={'Malicious':'Target'},inplace=True)\n",
    "print(\"Shape of JS,DOM dataset:\",df_js.shape)\n",
    "df_js.Target=df_js.Target.apply(lambda x: 1 if x=='Malicious' else 0)\n",
    "\n",
    "\n",
    "### Read HTTP\n",
    "df_http=pd.read_csv('HTTP.csv')\n",
    "df_http.rename(columns={'Malicious':'Target'},inplace=True)\n",
    "df_http.fillna(value=0,inplace=True)\n",
    "cookies=[columns for columns in df_http.columns if 'number' in columns]\n",
    "df_http.drop(cookies,axis=1,inplace=True)\n",
    "df_http=df_http[df_http['domain']!=0]\n",
    "df_http.sort_values(by='Target',inplace=True,ascending=False)\n",
    "df_http.drop_duplicates(['domain'], keep='first',inplace=True)\n",
    "df_http=df_http.sample(frac=1,random_state=0)\n",
    "df_http.set_index(['domain'],drop=True,inplace=True)\n",
    "print(\"Shape of HTTP dataset:\",df_http.shape)\n",
    "\n",
    "\n",
    "\n",
    "### Read URL\n",
    "df_url=pd.read_csv('URL.csv')\n",
    "df_url.fillna(value=0,inplace=True)\n",
    "cookies=[columns for columns in df_url.columns if 'number' in columns]\n",
    "df_url.drop(cookies,axis=1,inplace=True)\n",
    "df_url.drop(['url_host','url_ip'],axis=1,inplace=True)\n",
    "df_url=df_url[df_url['domain']!=0]\n",
    "df_url.sort_values(by='Target',inplace=True,ascending=False)\n",
    "df_url.drop_duplicates(['domain'], keep='first',inplace=True)\n",
    "df_url=df_url.sample(frac=1,random_state=0)\n",
    "print(\"Shape of URL dataset:\",df_url.shape)\n",
    "df_url.set_index('domain',inplace=True,drop=True)"
   ]
  },
  {
   "cell_type": "code",
   "execution_count": 5,
   "metadata": {},
   "outputs": [
    {
     "name": "stdout",
     "output_type": "stream",
     "text": [
      "Shape of combined dataset: (39183, 6726)\n"
     ]
    },
    {
     "data": {
      "text/plain": [
       "0    34742\n",
       "1     4441\n",
       "Name: Target, dtype: int64"
      ]
     },
     "execution_count": 5,
     "metadata": {},
     "output_type": "execute_result"
    }
   ],
   "source": [
    "df=pd.concat([df_js,df_html,df_http,df_url],axis=1,join='inner')\n",
    "df.drop(['Unnamed: 0'],axis=1,inplace=True)\n",
    "df['Target_z']=df[['Target','Target','Target','Target']].apply(max,axis=1)\n",
    "df.drop(['Target','Target','Target','Target'],axis=1,inplace=True)\n",
    "print(\"Shape of combined dataset:\",df.shape)\n",
    "df.rename(columns={'Target_z':'Target'},inplace=True)\n",
    "df.Target.value_counts()"
   ]
  },
  {
   "cell_type": "code",
   "execution_count": 6,
   "metadata": {},
   "outputs": [
    {
     "name": "stdout",
     "output_type": "stream",
     "text": [
      "features being used\n"
     ]
    },
    {
     "data": {
      "text/plain": [
       "['js_function_.push(',\n",
       " 'a_count',\n",
       " 'a_href_http',\n",
       " 'a_href_https',\n",
       " 'a_href_out_of_domain',\n",
       " 'a_href_relative',\n",
       " 'center_count',\n",
       " 'form_action_http',\n",
       " 'iframe_src_.html',\n",
       " 'img_src_http',\n",
       " 'link_href_out_of_domain',\n",
       " 'link_type_text/css',\n",
       " 'meta_count',\n",
       " 'p_count',\n",
       " 'script_async_true',\n",
       " 'total_count',\n",
       " 'total_href',\n",
       " 'http_header_cache-control_set_max-age',\n",
       " 'http_header_content-encoding_gzip',\n",
       " 'http_header_server_apache',\n",
       " 'http_header_transfer-encoding_chunked',\n",
       " 'http_header_vary_user-agent',\n",
       " 'http_header_via_1.1',\n",
       " 'url_char_.',\n",
       " 'url_char_f',\n",
       " 'url_char_i',\n",
       " 'url_char_l',\n",
       " 'url_char_p',\n",
       " 'url_char_w',\n",
       " 'url_char_y',\n",
       " 'url_char_z',\n",
       " 'url_extension_.com',\n",
       " 'url_extensions',\n",
       " 'url_length',\n",
       " 'Target']"
      ]
     },
     "metadata": {},
     "output_type": "display_data"
    }
   ],
   "source": [
    "columns=['js_function_.push(',\n",
    " 'a_count',\n",
    " 'a_href_http',\n",
    " 'a_href_https',\n",
    " 'a_href_out_of_domain',\n",
    " 'a_href_relative',\n",
    " 'center_count',\n",
    " 'form_action_http',\n",
    " 'iframe_src_.html',\n",
    " 'img_src_http',\n",
    " 'link_href_out_of_domain',\n",
    " 'link_type_text/css',\n",
    " 'meta_count',\n",
    " 'p_count',\n",
    " 'script_async_true',\n",
    " 'total_count',\n",
    " 'total_href',\n",
    " 'http_header_cache-control_set_max-age',\n",
    " 'http_header_content-encoding_gzip',\n",
    " 'http_header_server_apache',\n",
    " 'http_header_transfer-encoding_chunked',\n",
    " 'http_header_vary_user-agent',\n",
    " 'http_header_via_1.1',\n",
    " 'url_char_.',\n",
    " 'url_char_f',\n",
    " 'url_char_i',\n",
    " 'url_char_l',\n",
    " 'url_char_p',\n",
    " 'url_char_w',\n",
    " 'url_char_y',\n",
    " 'url_char_z',\n",
    " 'url_extension_.com',\n",
    " 'url_extensions',\n",
    " 'url_length',\n",
    " 'Target']\n",
    "\n",
    "print(\"features being used\")\n",
    "display(columns)"
   ]
  },
  {
   "cell_type": "markdown",
   "metadata": {},
   "source": [
    "### <a id='1' style=\"text-decoration : none; color : #000000;\"> 1. Initial Models</a>"
   ]
  },
  {
   "cell_type": "code",
   "execution_count": 8,
   "metadata": {
    "scrolled": false
   },
   "outputs": [
    {
     "name": "stdout",
     "output_type": "stream",
     "text": [
      "\u001b[1mK-Nearest Neighbors\u001b[0m\n",
      "Accuracy of the model for training data is: 0.9795829079772496\n",
      "Confusion Matrix for training data is:\n"
     ]
    },
    {
     "data": {
      "text/plain": [
       "Predicted  False  True  __all__\n",
       "Actual                         \n",
       "False      24148   179    24327\n",
       "True         381  2720     3101\n",
       "__all__    24529  2899    27428"
      ]
     },
     "metadata": {},
     "output_type": "display_data"
    },
    {
     "name": "stdout",
     "output_type": "stream",
     "text": [
      "Accuracy of the model for test data is: 0.9723521905572097\n",
      "Confusion Matrix for test data is:\n"
     ]
    },
    {
     "data": {
      "text/plain": [
       "Predicted  False  True  __all__\n",
       "Actual                         \n",
       "False      10301   114    10415\n",
       "True         211  1129     1340\n",
       "__all__    10512  1243    11755"
      ]
     },
     "metadata": {},
     "output_type": "display_data"
    },
    {
     "name": "stdout",
     "output_type": "stream",
     "text": [
      "\n",
      "\n",
      "\u001b[1mRandomForest Classifier\u001b[0m\n",
      "Accuracy of the model for training data is: 0.996536386174712\n",
      "Confusion Matrix for training data is:\n"
     ]
    },
    {
     "data": {
      "text/plain": [
       "Predicted  False  True  __all__\n",
       "Actual                         \n",
       "False      24307    20    24327\n",
       "True          75  3026     3101\n",
       "__all__    24382  3046    27428"
      ]
     },
     "metadata": {},
     "output_type": "display_data"
    },
    {
     "name": "stdout",
     "output_type": "stream",
     "text": [
      "Accuracy of the model for test data is: 0.978477243726074\n",
      "Confusion Matrix for test data is:\n"
     ]
    },
    {
     "data": {
      "text/plain": [
       "Predicted  False  True  __all__\n",
       "Actual                         \n",
       "False      10345    70    10415\n",
       "True         183  1157     1340\n",
       "__all__    10528  1227    11755"
      ]
     },
     "metadata": {},
     "output_type": "display_data"
    },
    {
     "data": {
      "application/vnd.plotly.v1+json": {
       "config": {
        "linkText": "Export to plot.ly",
        "plotlyServerURL": "https://plot.ly",
        "showLink": true
       },
       "data": [
        {
         "marker": {
          "color": "rgb(158,202,225)",
          "line": {
           "color": "rgb(8,48,107)",
           "width": 1.5
          }
         },
         "opacity": 0.6,
         "orientation": "h",
         "text": [
          0.1628,
          0.1145,
          0.1074,
          0.097,
          0.0659,
          0.0593,
          0.0457,
          0.0348,
          0.0275,
          0.027,
          0.0267,
          0.0226,
          0.0223,
          0.0217,
          0.021,
          0.0171,
          0.0146,
          0.0129,
          0.0126,
          0.0115,
          0.0104,
          0.0097,
          0.0088,
          0.0088,
          0.0068,
          0.0058,
          0.0052,
          0.0046,
          0.0039,
          0.0038,
          0.0038,
          0.0021,
          0.0014,
          0.0001
         ],
         "textposition": "outside",
         "type": "bar",
         "uid": "b3629e0a-2ef4-4fb9-9f82-bd07cc236b7c",
         "x": [
          0.16277401682838813,
          0.11454243947099102,
          0.10744463620612216,
          0.09702729373928709,
          0.06594145840966914,
          0.05933521503876381,
          0.045736537485091676,
          0.034825379097028326,
          0.02751551253846612,
          0.026985571324822443,
          0.02671790021055798,
          0.02255397986323471,
          0.022282717660540803,
          0.02171690364493865,
          0.021033479156513817,
          0.01709568272676745,
          0.014550036433396694,
          0.012894101312922878,
          0.012550203979381976,
          0.011481601963225837,
          0.01035665089929748,
          0.00967813889772901,
          0.00877740512816298,
          0.008768438445577162,
          0.006810771408717662,
          0.005784932510622213,
          0.005166535908564622,
          0.004561760503963521,
          0.0038870950352040243,
          0.003849755506621149,
          0.003786518057819854,
          0.002084163671674651,
          0.0013762047524999543,
          0.00010696218343517919
         ],
         "y": [
          "url_extensions",
          "url_length",
          "meta_count",
          "total_count",
          "url_char_w",
          "url_char_.",
          "a_href_relative",
          "a_count",
          "a_href_out_of_domain",
          "url_char_l",
          "http_header_content-encoding_gzip",
          "script_async_true",
          "url_char_i",
          "http_header_server_apache",
          "url_char_z",
          "link_type_text/css",
          "url_char_p",
          "url_extension_.com",
          "http_header_vary_user-agent",
          "url_char_y",
          "push",
          "url_char_f",
          "a_href_http",
          "p_count",
          "total_href",
          "http_header_transfer-encoding_chunked",
          "link_href_out_of_domain",
          "http_header_cache-control_set_max-age",
          "a_href_https",
          "form_action_http",
          "img_src_http",
          "http_header_via_1.1",
          "center_count",
          "iframe_src_.html"
         ]
        }
       ],
       "layout": {
        "autosize": false,
        "height": 1000,
        "width": 1000,
        "xaxis": {
         "tickfont": {
          "color": "black",
          "size": 12
         },
         "title": "Feature Importances"
        },
        "yaxis": {
         "automargin": true
        }
       }
      },
      "text/html": [
       "<div id=\"381d5a6e-3727-4b3d-8e60-ac7ee3daf8bb\" style=\"height: 1000px; width: 1000px;\" class=\"plotly-graph-div\"></div><script type=\"text/javascript\">require([\"plotly\"], function(Plotly) { window.PLOTLYENV=window.PLOTLYENV || {};window.PLOTLYENV.BASE_URL=\"https://plot.ly\";Plotly.newPlot(\"381d5a6e-3727-4b3d-8e60-ac7ee3daf8bb\", [{\"marker\": {\"color\": \"rgb(158,202,225)\", \"line\": {\"color\": \"rgb(8,48,107)\", \"width\": 1.5}}, \"opacity\": 0.6, \"orientation\": \"h\", \"text\": [0.1628, 0.1145, 0.1074, 0.097, 0.0659, 0.0593, 0.0457, 0.0348, 0.0275, 0.027, 0.0267, 0.0226, 0.0223, 0.0217, 0.021, 0.0171, 0.0146, 0.0129, 0.0126, 0.0115, 0.0104, 0.0097, 0.0088, 0.0088, 0.0068, 0.0058, 0.0052, 0.0046, 0.0039, 0.0038, 0.0038, 0.0021, 0.0014, 0.0001], \"textposition\": \"outside\", \"x\": [0.16277401682838813, 0.11454243947099102, 0.10744463620612216, 0.09702729373928709, 0.06594145840966914, 0.05933521503876381, 0.045736537485091676, 0.034825379097028326, 0.02751551253846612, 0.026985571324822443, 0.02671790021055798, 0.02255397986323471, 0.022282717660540803, 0.02171690364493865, 0.021033479156513817, 0.01709568272676745, 0.014550036433396694, 0.012894101312922878, 0.012550203979381976, 0.011481601963225837, 0.01035665089929748, 0.00967813889772901, 0.00877740512816298, 0.008768438445577162, 0.006810771408717662, 0.005784932510622213, 0.005166535908564622, 0.004561760503963521, 0.0038870950352040243, 0.003849755506621149, 0.003786518057819854, 0.002084163671674651, 0.0013762047524999543, 0.00010696218343517919], \"y\": [\"url_extensions\", \"url_length\", \"meta_count\", \"total_count\", \"url_char_w\", \"url_char_.\", \"a_href_relative\", \"a_count\", \"a_href_out_of_domain\", \"url_char_l\", \"http_header_content-encoding_gzip\", \"script_async_true\", \"url_char_i\", \"http_header_server_apache\", \"url_char_z\", \"link_type_text/css\", \"url_char_p\", \"url_extension_.com\", \"http_header_vary_user-agent\", \"url_char_y\", \"push\", \"url_char_f\", \"a_href_http\", \"p_count\", \"total_href\", \"http_header_transfer-encoding_chunked\", \"link_href_out_of_domain\", \"http_header_cache-control_set_max-age\", \"a_href_https\", \"form_action_http\", \"img_src_http\", \"http_header_via_1.1\", \"center_count\", \"iframe_src_.html\"], \"type\": \"bar\", \"uid\": \"b3629e0a-2ef4-4fb9-9f82-bd07cc236b7c\"}], {\"autosize\": false, \"height\": 1000, \"width\": 1000, \"xaxis\": {\"tickfont\": {\"color\": \"black\", \"size\": 12}, \"title\": \"Feature Importances\"}, \"yaxis\": {\"automargin\": true}}, {\"showLink\": true, \"linkText\": \"Export to plot.ly\", \"plotlyServerURL\": \"https://plot.ly\"})});</script>"
      ],
      "text/vnd.plotly.v1+html": [
       "<div id=\"381d5a6e-3727-4b3d-8e60-ac7ee3daf8bb\" style=\"height: 1000px; width: 1000px;\" class=\"plotly-graph-div\"></div><script type=\"text/javascript\">require([\"plotly\"], function(Plotly) { window.PLOTLYENV=window.PLOTLYENV || {};window.PLOTLYENV.BASE_URL=\"https://plot.ly\";Plotly.newPlot(\"381d5a6e-3727-4b3d-8e60-ac7ee3daf8bb\", [{\"marker\": {\"color\": \"rgb(158,202,225)\", \"line\": {\"color\": \"rgb(8,48,107)\", \"width\": 1.5}}, \"opacity\": 0.6, \"orientation\": \"h\", \"text\": [0.1628, 0.1145, 0.1074, 0.097, 0.0659, 0.0593, 0.0457, 0.0348, 0.0275, 0.027, 0.0267, 0.0226, 0.0223, 0.0217, 0.021, 0.0171, 0.0146, 0.0129, 0.0126, 0.0115, 0.0104, 0.0097, 0.0088, 0.0088, 0.0068, 0.0058, 0.0052, 0.0046, 0.0039, 0.0038, 0.0038, 0.0021, 0.0014, 0.0001], \"textposition\": \"outside\", \"x\": [0.16277401682838813, 0.11454243947099102, 0.10744463620612216, 0.09702729373928709, 0.06594145840966914, 0.05933521503876381, 0.045736537485091676, 0.034825379097028326, 0.02751551253846612, 0.026985571324822443, 0.02671790021055798, 0.02255397986323471, 0.022282717660540803, 0.02171690364493865, 0.021033479156513817, 0.01709568272676745, 0.014550036433396694, 0.012894101312922878, 0.012550203979381976, 0.011481601963225837, 0.01035665089929748, 0.00967813889772901, 0.00877740512816298, 0.008768438445577162, 0.006810771408717662, 0.005784932510622213, 0.005166535908564622, 0.004561760503963521, 0.0038870950352040243, 0.003849755506621149, 0.003786518057819854, 0.002084163671674651, 0.0013762047524999543, 0.00010696218343517919], \"y\": [\"url_extensions\", \"url_length\", \"meta_count\", \"total_count\", \"url_char_w\", \"url_char_.\", \"a_href_relative\", \"a_count\", \"a_href_out_of_domain\", \"url_char_l\", \"http_header_content-encoding_gzip\", \"script_async_true\", \"url_char_i\", \"http_header_server_apache\", \"url_char_z\", \"link_type_text/css\", \"url_char_p\", \"url_extension_.com\", \"http_header_vary_user-agent\", \"url_char_y\", \"push\", \"url_char_f\", \"a_href_http\", \"p_count\", \"total_href\", \"http_header_transfer-encoding_chunked\", \"link_href_out_of_domain\", \"http_header_cache-control_set_max-age\", \"a_href_https\", \"form_action_http\", \"img_src_http\", \"http_header_via_1.1\", \"center_count\", \"iframe_src_.html\"], \"type\": \"bar\", \"uid\": \"b3629e0a-2ef4-4fb9-9f82-bd07cc236b7c\"}], {\"autosize\": false, \"height\": 1000, \"width\": 1000, \"xaxis\": {\"tickfont\": {\"color\": \"black\", \"size\": 12}, \"title\": \"Feature Importances\"}, \"yaxis\": {\"automargin\": true}}, {\"showLink\": true, \"linkText\": \"Export to plot.ly\", \"plotlyServerURL\": \"https://plot.ly\"})});</script>"
      ]
     },
     "metadata": {},
     "output_type": "display_data"
    },
    {
     "name": "stdout",
     "output_type": "stream",
     "text": [
      "\n",
      "\n",
      "\u001b[1mAdaoost Classifier\u001b[0m\n",
      "Accuracy of the model for training data is: 0.9726556803266735\n",
      "Confusion Matrix for training data is:\n"
     ]
    },
    {
     "data": {
      "text/plain": [
       "Predicted  False  True  __all__\n",
       "Actual                         \n",
       "False      23997   330    24327\n",
       "True         420  2681     3101\n",
       "__all__    24417  3011    27428"
      ]
     },
     "metadata": {},
     "output_type": "display_data"
    },
    {
     "name": "stdout",
     "output_type": "stream",
     "text": [
      "Accuracy of the model for test data is: 0.9706507868991918\n",
      "Confusion Matrix for test data is:\n"
     ]
    },
    {
     "data": {
      "text/plain": [
       "Predicted  False  True  __all__\n",
       "Actual                         \n",
       "False      10267   148    10415\n",
       "True         197  1143     1340\n",
       "__all__    10464  1291    11755"
      ]
     },
     "metadata": {},
     "output_type": "display_data"
    },
    {
     "data": {
      "application/vnd.plotly.v1+json": {
       "config": {
        "linkText": "Export to plot.ly",
        "plotlyServerURL": "https://plot.ly",
        "showLink": true
       },
       "data": [
        {
         "marker": {
          "color": "rgb(158,202,225)",
          "line": {
           "color": "rgb(8,48,107)",
           "width": 1.5
          }
         },
         "opacity": 0.6,
         "orientation": "h",
         "text": [
          0.12,
          0.1,
          0.08,
          0.08,
          0.06,
          0.06,
          0.06,
          0.06,
          0.04,
          0.02,
          0.02,
          0.02,
          0.02,
          0.02,
          0.02,
          0.02,
          0.02,
          0.02,
          0.02,
          0.02,
          0.02,
          0.02,
          0.02,
          0.02,
          0.02,
          0.02,
          0,
          0,
          0,
          0,
          0,
          0,
          0,
          0
         ],
         "textposition": "outside",
         "type": "bar",
         "uid": "3c0a1f55-0074-4a58-b41b-7ea70816e16d",
         "x": [
          0.12,
          0.1,
          0.08,
          0.08,
          0.06,
          0.06,
          0.06,
          0.06,
          0.04,
          0.02,
          0.02,
          0.02,
          0.02,
          0.02,
          0.02,
          0.02,
          0.02,
          0.02,
          0.02,
          0.02,
          0.02,
          0.02,
          0.02,
          0.02,
          0.02,
          0.02,
          0,
          0,
          0,
          0,
          0,
          0,
          0,
          0
         ],
         "y": [
          "total_count",
          "a_href_out_of_domain",
          "url_length",
          "url_extensions",
          "img_src_http",
          "url_char_w",
          "p_count",
          "push",
          "a_href_https",
          "iframe_src_.html",
          "http_header_server_apache",
          "a_href_http",
          "url_extension_.com",
          "url_char_z",
          "url_char_y",
          "url_char_i",
          "url_char_f",
          "http_header_via_1.1",
          "form_action_http",
          "http_header_vary_user-agent",
          "http_header_content-encoding_gzip",
          "center_count",
          "meta_count",
          "link_type_text/css",
          "link_href_out_of_domain",
          "http_header_cache-control_set_max-age",
          "http_header_transfer-encoding_chunked",
          "a_count",
          "url_char_.",
          "total_href",
          "a_href_relative",
          "url_char_l",
          "url_char_p",
          "script_async_true"
         ]
        }
       ],
       "layout": {
        "autosize": false,
        "height": 1000,
        "width": 1000,
        "xaxis": {
         "tickfont": {
          "color": "black",
          "size": 12
         },
         "title": "Feature Importances"
        },
        "yaxis": {
         "automargin": true
        }
       }
      },
      "text/html": [
       "<div id=\"994ebba5-0766-4160-bb3b-a9aa41040c01\" style=\"height: 1000px; width: 1000px;\" class=\"plotly-graph-div\"></div><script type=\"text/javascript\">require([\"plotly\"], function(Plotly) { window.PLOTLYENV=window.PLOTLYENV || {};window.PLOTLYENV.BASE_URL=\"https://plot.ly\";Plotly.newPlot(\"994ebba5-0766-4160-bb3b-a9aa41040c01\", [{\"marker\": {\"color\": \"rgb(158,202,225)\", \"line\": {\"color\": \"rgb(8,48,107)\", \"width\": 1.5}}, \"opacity\": 0.6, \"orientation\": \"h\", \"text\": [0.12, 0.1, 0.08, 0.08, 0.06, 0.06, 0.06, 0.06, 0.04, 0.02, 0.02, 0.02, 0.02, 0.02, 0.02, 0.02, 0.02, 0.02, 0.02, 0.02, 0.02, 0.02, 0.02, 0.02, 0.02, 0.02, 0.0, 0.0, 0.0, 0.0, 0.0, 0.0, 0.0, 0.0], \"textposition\": \"outside\", \"x\": [0.12, 0.1, 0.08, 0.08, 0.06, 0.06, 0.06, 0.06, 0.04, 0.02, 0.02, 0.02, 0.02, 0.02, 0.02, 0.02, 0.02, 0.02, 0.02, 0.02, 0.02, 0.02, 0.02, 0.02, 0.02, 0.02, 0.0, 0.0, 0.0, 0.0, 0.0, 0.0, 0.0, 0.0], \"y\": [\"total_count\", \"a_href_out_of_domain\", \"url_length\", \"url_extensions\", \"img_src_http\", \"url_char_w\", \"p_count\", \"push\", \"a_href_https\", \"iframe_src_.html\", \"http_header_server_apache\", \"a_href_http\", \"url_extension_.com\", \"url_char_z\", \"url_char_y\", \"url_char_i\", \"url_char_f\", \"http_header_via_1.1\", \"form_action_http\", \"http_header_vary_user-agent\", \"http_header_content-encoding_gzip\", \"center_count\", \"meta_count\", \"link_type_text/css\", \"link_href_out_of_domain\", \"http_header_cache-control_set_max-age\", \"http_header_transfer-encoding_chunked\", \"a_count\", \"url_char_.\", \"total_href\", \"a_href_relative\", \"url_char_l\", \"url_char_p\", \"script_async_true\"], \"type\": \"bar\", \"uid\": \"3c0a1f55-0074-4a58-b41b-7ea70816e16d\"}], {\"autosize\": false, \"height\": 1000, \"width\": 1000, \"xaxis\": {\"tickfont\": {\"color\": \"black\", \"size\": 12}, \"title\": \"Feature Importances\"}, \"yaxis\": {\"automargin\": true}}, {\"showLink\": true, \"linkText\": \"Export to plot.ly\", \"plotlyServerURL\": \"https://plot.ly\"})});</script>"
      ],
      "text/vnd.plotly.v1+html": [
       "<div id=\"994ebba5-0766-4160-bb3b-a9aa41040c01\" style=\"height: 1000px; width: 1000px;\" class=\"plotly-graph-div\"></div><script type=\"text/javascript\">require([\"plotly\"], function(Plotly) { window.PLOTLYENV=window.PLOTLYENV || {};window.PLOTLYENV.BASE_URL=\"https://plot.ly\";Plotly.newPlot(\"994ebba5-0766-4160-bb3b-a9aa41040c01\", [{\"marker\": {\"color\": \"rgb(158,202,225)\", \"line\": {\"color\": \"rgb(8,48,107)\", \"width\": 1.5}}, \"opacity\": 0.6, \"orientation\": \"h\", \"text\": [0.12, 0.1, 0.08, 0.08, 0.06, 0.06, 0.06, 0.06, 0.04, 0.02, 0.02, 0.02, 0.02, 0.02, 0.02, 0.02, 0.02, 0.02, 0.02, 0.02, 0.02, 0.02, 0.02, 0.02, 0.02, 0.02, 0.0, 0.0, 0.0, 0.0, 0.0, 0.0, 0.0, 0.0], \"textposition\": \"outside\", \"x\": [0.12, 0.1, 0.08, 0.08, 0.06, 0.06, 0.06, 0.06, 0.04, 0.02, 0.02, 0.02, 0.02, 0.02, 0.02, 0.02, 0.02, 0.02, 0.02, 0.02, 0.02, 0.02, 0.02, 0.02, 0.02, 0.02, 0.0, 0.0, 0.0, 0.0, 0.0, 0.0, 0.0, 0.0], \"y\": [\"total_count\", \"a_href_out_of_domain\", \"url_length\", \"url_extensions\", \"img_src_http\", \"url_char_w\", \"p_count\", \"push\", \"a_href_https\", \"iframe_src_.html\", \"http_header_server_apache\", \"a_href_http\", \"url_extension_.com\", \"url_char_z\", \"url_char_y\", \"url_char_i\", \"url_char_f\", \"http_header_via_1.1\", \"form_action_http\", \"http_header_vary_user-agent\", \"http_header_content-encoding_gzip\", \"center_count\", \"meta_count\", \"link_type_text/css\", \"link_href_out_of_domain\", \"http_header_cache-control_set_max-age\", \"http_header_transfer-encoding_chunked\", \"a_count\", \"url_char_.\", \"total_href\", \"a_href_relative\", \"url_char_l\", \"url_char_p\", \"script_async_true\"], \"type\": \"bar\", \"uid\": \"3c0a1f55-0074-4a58-b41b-7ea70816e16d\"}], {\"autosize\": false, \"height\": 1000, \"width\": 1000, \"xaxis\": {\"tickfont\": {\"color\": \"black\", \"size\": 12}, \"title\": \"Feature Importances\"}, \"yaxis\": {\"automargin\": true}}, {\"showLink\": true, \"linkText\": \"Export to plot.ly\", \"plotlyServerURL\": \"https://plot.ly\"})});</script>"
      ]
     },
     "metadata": {},
     "output_type": "display_data"
    },
    {
     "name": "stdout",
     "output_type": "stream",
     "text": [
      "\n",
      "\n",
      "\u001b[1mGradientBoosting Classifier\u001b[0m\n",
      "Accuracy of the model for training data is: 0.9807131398570803\n",
      "Confusion Matrix for training data is:\n"
     ]
    },
    {
     "data": {
      "text/plain": [
       "Predicted  False  True  __all__\n",
       "Actual                         \n",
       "False      24180   147    24327\n",
       "True         382  2719     3101\n",
       "__all__    24562  2866    27428"
      ]
     },
     "metadata": {},
     "output_type": "display_data"
    },
    {
     "name": "stdout",
     "output_type": "stream",
     "text": [
      "Accuracy of the model for test data is: 0.976860910250957\n",
      "Confusion Matrix for test data is:\n"
     ]
    },
    {
     "data": {
      "text/plain": [
       "Predicted  False  True  __all__\n",
       "Actual                         \n",
       "False      10334    81    10415\n",
       "True         191  1149     1340\n",
       "__all__    10525  1230    11755"
      ]
     },
     "metadata": {},
     "output_type": "display_data"
    },
    {
     "data": {
      "application/vnd.plotly.v1+json": {
       "config": {
        "linkText": "Export to plot.ly",
        "plotlyServerURL": "https://plot.ly",
        "showLink": true
       },
       "data": [
        {
         "marker": {
          "color": "rgb(158,202,225)",
          "line": {
           "color": "rgb(8,48,107)",
           "width": 1.5
          }
         },
         "opacity": 0.6,
         "orientation": "h",
         "text": [
          0.2907,
          0.2809,
          0.1335,
          0.0808,
          0.0356,
          0.0339,
          0.0287,
          0.026,
          0.0203,
          0.0124,
          0.0111,
          0.0107,
          0.01,
          0.005,
          0.0043,
          0.0034,
          0.0029,
          0.0018,
          0.0014,
          0.0012,
          0.001,
          0.0009,
          0.0007,
          0.0007,
          0.0004,
          0.0003,
          0.0003,
          0.0003,
          0.0002,
          0.0002,
          0.0001,
          0.0001,
          0,
          0
         ],
         "textposition": "outside",
         "type": "bar",
         "uid": "e3c5e0d2-34b2-4308-b14f-0702bc468ff8",
         "x": [
          0.2907066348328947,
          0.28088988320309566,
          0.13354881893938111,
          0.08082768103975577,
          0.0356249882011577,
          0.0339271275389834,
          0.028739429331728916,
          0.02599283423995528,
          0.020324382970467396,
          0.012390089133949463,
          0.01109677604223847,
          0.010656855100997967,
          0.009958635020934555,
          0.004996817492298985,
          0.004345428727527063,
          0.0034169467128012496,
          0.0029491222431472304,
          0.0018000294012766403,
          0.0013876426893919475,
          0.001217560374522108,
          0.000982000617069019,
          0.0008847594039980745,
          0.0007007037494293758,
          0.0006568857249491078,
          0.00044018912534201743,
          0.0003181987135940416,
          0.00031756603404079625,
          0.00031360847860262915,
          0.00021506399946951728,
          0.0001778543713829134,
          8.839881923416972e-05,
          8.554597615056151e-05,
          2.1541750232180463e-05,
          0
         ],
         "y": [
          "total_count",
          "url_extensions",
          "url_length",
          "url_char_w",
          "total_href",
          "a_href_relative",
          "meta_count",
          "http_header_server_apache",
          "url_char_.",
          "http_header_vary_user-agent",
          "a_href_out_of_domain",
          "http_header_content-encoding_gzip",
          "url_char_z",
          "a_href_https",
          "form_action_http",
          "url_extension_.com",
          "push",
          "http_header_cache-control_set_max-age",
          "url_char_l",
          "img_src_http",
          "p_count",
          "link_href_out_of_domain",
          "url_char_y",
          "a_count",
          "url_char_p",
          "http_header_via_1.1",
          "link_type_text/css",
          "url_char_f",
          "url_char_i",
          "script_async_true",
          "http_header_transfer-encoding_chunked",
          "a_href_http",
          "center_count",
          "iframe_src_.html"
         ]
        }
       ],
       "layout": {
        "autosize": false,
        "height": 1000,
        "width": 1000,
        "xaxis": {
         "tickfont": {
          "color": "black",
          "size": 12
         },
         "title": "Feature Importances"
        },
        "yaxis": {
         "automargin": true
        }
       }
      },
      "text/html": [
       "<div id=\"0c2f7ae1-d292-40de-99bd-7e6ac4664e22\" style=\"height: 1000px; width: 1000px;\" class=\"plotly-graph-div\"></div><script type=\"text/javascript\">require([\"plotly\"], function(Plotly) { window.PLOTLYENV=window.PLOTLYENV || {};window.PLOTLYENV.BASE_URL=\"https://plot.ly\";Plotly.newPlot(\"0c2f7ae1-d292-40de-99bd-7e6ac4664e22\", [{\"marker\": {\"color\": \"rgb(158,202,225)\", \"line\": {\"color\": \"rgb(8,48,107)\", \"width\": 1.5}}, \"opacity\": 0.6, \"orientation\": \"h\", \"text\": [0.2907, 0.2809, 0.1335, 0.0808, 0.0356, 0.0339, 0.0287, 0.026, 0.0203, 0.0124, 0.0111, 0.0107, 0.01, 0.005, 0.0043, 0.0034, 0.0029, 0.0018, 0.0014, 0.0012, 0.001, 0.0009, 0.0007, 0.0007, 0.0004, 0.0003, 0.0003, 0.0003, 0.0002, 0.0002, 0.0001, 0.0001, 0.0, 0.0], \"textposition\": \"outside\", \"x\": [0.2907066348328947, 0.28088988320309566, 0.13354881893938111, 0.08082768103975577, 0.0356249882011577, 0.0339271275389834, 0.028739429331728916, 0.02599283423995528, 0.020324382970467396, 0.012390089133949463, 0.01109677604223847, 0.010656855100997967, 0.009958635020934555, 0.004996817492298985, 0.004345428727527063, 0.0034169467128012496, 0.0029491222431472304, 0.0018000294012766403, 0.0013876426893919475, 0.001217560374522108, 0.000982000617069019, 0.0008847594039980745, 0.0007007037494293758, 0.0006568857249491078, 0.00044018912534201743, 0.0003181987135940416, 0.00031756603404079625, 0.00031360847860262915, 0.00021506399946951728, 0.0001778543713829134, 8.839881923416972e-05, 8.554597615056151e-05, 2.1541750232180463e-05, 0.0], \"y\": [\"total_count\", \"url_extensions\", \"url_length\", \"url_char_w\", \"total_href\", \"a_href_relative\", \"meta_count\", \"http_header_server_apache\", \"url_char_.\", \"http_header_vary_user-agent\", \"a_href_out_of_domain\", \"http_header_content-encoding_gzip\", \"url_char_z\", \"a_href_https\", \"form_action_http\", \"url_extension_.com\", \"push\", \"http_header_cache-control_set_max-age\", \"url_char_l\", \"img_src_http\", \"p_count\", \"link_href_out_of_domain\", \"url_char_y\", \"a_count\", \"url_char_p\", \"http_header_via_1.1\", \"link_type_text/css\", \"url_char_f\", \"url_char_i\", \"script_async_true\", \"http_header_transfer-encoding_chunked\", \"a_href_http\", \"center_count\", \"iframe_src_.html\"], \"type\": \"bar\", \"uid\": \"e3c5e0d2-34b2-4308-b14f-0702bc468ff8\"}], {\"autosize\": false, \"height\": 1000, \"width\": 1000, \"xaxis\": {\"tickfont\": {\"color\": \"black\", \"size\": 12}, \"title\": \"Feature Importances\"}, \"yaxis\": {\"automargin\": true}}, {\"showLink\": true, \"linkText\": \"Export to plot.ly\", \"plotlyServerURL\": \"https://plot.ly\"})});</script>"
      ],
      "text/vnd.plotly.v1+html": [
       "<div id=\"0c2f7ae1-d292-40de-99bd-7e6ac4664e22\" style=\"height: 1000px; width: 1000px;\" class=\"plotly-graph-div\"></div><script type=\"text/javascript\">require([\"plotly\"], function(Plotly) { window.PLOTLYENV=window.PLOTLYENV || {};window.PLOTLYENV.BASE_URL=\"https://plot.ly\";Plotly.newPlot(\"0c2f7ae1-d292-40de-99bd-7e6ac4664e22\", [{\"marker\": {\"color\": \"rgb(158,202,225)\", \"line\": {\"color\": \"rgb(8,48,107)\", \"width\": 1.5}}, \"opacity\": 0.6, \"orientation\": \"h\", \"text\": [0.2907, 0.2809, 0.1335, 0.0808, 0.0356, 0.0339, 0.0287, 0.026, 0.0203, 0.0124, 0.0111, 0.0107, 0.01, 0.005, 0.0043, 0.0034, 0.0029, 0.0018, 0.0014, 0.0012, 0.001, 0.0009, 0.0007, 0.0007, 0.0004, 0.0003, 0.0003, 0.0003, 0.0002, 0.0002, 0.0001, 0.0001, 0.0, 0.0], \"textposition\": \"outside\", \"x\": [0.2907066348328947, 0.28088988320309566, 0.13354881893938111, 0.08082768103975577, 0.0356249882011577, 0.0339271275389834, 0.028739429331728916, 0.02599283423995528, 0.020324382970467396, 0.012390089133949463, 0.01109677604223847, 0.010656855100997967, 0.009958635020934555, 0.004996817492298985, 0.004345428727527063, 0.0034169467128012496, 0.0029491222431472304, 0.0018000294012766403, 0.0013876426893919475, 0.001217560374522108, 0.000982000617069019, 0.0008847594039980745, 0.0007007037494293758, 0.0006568857249491078, 0.00044018912534201743, 0.0003181987135940416, 0.00031756603404079625, 0.00031360847860262915, 0.00021506399946951728, 0.0001778543713829134, 8.839881923416972e-05, 8.554597615056151e-05, 2.1541750232180463e-05, 0.0], \"y\": [\"total_count\", \"url_extensions\", \"url_length\", \"url_char_w\", \"total_href\", \"a_href_relative\", \"meta_count\", \"http_header_server_apache\", \"url_char_.\", \"http_header_vary_user-agent\", \"a_href_out_of_domain\", \"http_header_content-encoding_gzip\", \"url_char_z\", \"a_href_https\", \"form_action_http\", \"url_extension_.com\", \"push\", \"http_header_cache-control_set_max-age\", \"url_char_l\", \"img_src_http\", \"p_count\", \"link_href_out_of_domain\", \"url_char_y\", \"a_count\", \"url_char_p\", \"http_header_via_1.1\", \"link_type_text/css\", \"url_char_f\", \"url_char_i\", \"script_async_true\", \"http_header_transfer-encoding_chunked\", \"a_href_http\", \"center_count\", \"iframe_src_.html\"], \"type\": \"bar\", \"uid\": \"e3c5e0d2-34b2-4308-b14f-0702bc468ff8\"}], {\"autosize\": false, \"height\": 1000, \"width\": 1000, \"xaxis\": {\"tickfont\": {\"color\": \"black\", \"size\": 12}, \"title\": \"Feature Importances\"}, \"yaxis\": {\"automargin\": true}}, {\"showLink\": true, \"linkText\": \"Export to plot.ly\", \"plotlyServerURL\": \"https://plot.ly\"})});</script>"
      ]
     },
     "metadata": {},
     "output_type": "display_data"
    },
    {
     "name": "stdout",
     "output_type": "stream",
     "text": [
      "\n",
      "\n",
      "\u001b[1mExtraTree Classifier\u001b[0m\n",
      "Accuracy of the model for training data is: 0.9981405862622138\n",
      "Confusion Matrix for training data is:\n"
     ]
    },
    {
     "data": {
      "text/plain": [
       "Predicted  False  True  __all__\n",
       "Actual                         \n",
       "False      24324     3    24327\n",
       "True          48  3053     3101\n",
       "__all__    24372  3056    27428"
      ]
     },
     "metadata": {},
     "output_type": "display_data"
    },
    {
     "name": "stdout",
     "output_type": "stream",
     "text": [
      "Accuracy of the model for test data is: 0.9767758400680562\n",
      "Confusion Matrix for test data is:\n"
     ]
    },
    {
     "data": {
      "text/plain": [
       "Predicted  False  True  __all__\n",
       "Actual                         \n",
       "False      10332    83    10415\n",
       "True         190  1150     1340\n",
       "__all__    10522  1233    11755"
      ]
     },
     "metadata": {},
     "output_type": "display_data"
    },
    {
     "data": {
      "application/vnd.plotly.v1+json": {
       "config": {
        "linkText": "Export to plot.ly",
        "plotlyServerURL": "https://plot.ly",
        "showLink": true
       },
       "data": [
        {
         "marker": {
          "color": "rgb(158,202,225)",
          "line": {
           "color": "rgb(8,48,107)",
           "width": 1.5
          }
         },
         "opacity": 0.6,
         "orientation": "h",
         "text": [
          0.136,
          0.1051,
          0.0878,
          0.0873,
          0.0691,
          0.0436,
          0.0427,
          0.0411,
          0.041,
          0.034,
          0.0236,
          0.023,
          0.0221,
          0.0213,
          0.0199,
          0.0193,
          0.0186,
          0.0178,
          0.0163,
          0.0136,
          0.0135,
          0.0132,
          0.011,
          0.011,
          0.0101,
          0.0098,
          0.0095,
          0.0085,
          0.0078,
          0.0074,
          0.0055,
          0.0037,
          0.003,
          0.0029
         ],
         "textposition": "outside",
         "type": "bar",
         "uid": "1d4cf922-20ba-42c5-aaf8-cd672e23dde5",
         "x": [
          0.13595398821392243,
          0.10512567933650556,
          0.08776983984774885,
          0.08726586101345869,
          0.06905482001427295,
          0.043557195227126616,
          0.04265374311607173,
          0.04107872312899867,
          0.040982393400549544,
          0.03396944564313668,
          0.02364570015152654,
          0.02295374189414955,
          0.02207962603477466,
          0.0213170991160496,
          0.019917107308732994,
          0.019279734489999117,
          0.018590232749879955,
          0.017765378512673617,
          0.016312791971058664,
          0.01363454803810169,
          0.013540840006536436,
          0.013245107906792022,
          0.011049911068109233,
          0.010999325385286217,
          0.010086757343242698,
          0.009826880232752263,
          0.009478235710405772,
          0.00846574465452429,
          0.007844222043785114,
          0.007390490332344862,
          0.005523003893900459,
          0.0036654203497919987,
          0.003029429724091343,
          0.0029469821396991705
         ],
         "y": [
          "url_length",
          "http_header_content-encoding_gzip",
          "url_char_.",
          "url_char_w",
          "url_extensions",
          "url_char_z",
          "url_char_y",
          "http_header_transfer-encoding_chunked",
          "total_count",
          "url_char_i",
          "url_char_l",
          "url_extension_.com",
          "link_type_text/css",
          "url_char_p",
          "a_href_relative",
          "script_async_true",
          "http_header_cache-control_set_max-age",
          "a_href_out_of_domain",
          "http_header_server_apache",
          "meta_count",
          "total_href",
          "url_char_f",
          "p_count",
          "a_count",
          "a_href_https",
          "link_href_out_of_domain",
          "a_href_http",
          "form_action_http",
          "push",
          "img_src_http",
          "http_header_vary_user-agent",
          "http_header_via_1.1",
          "center_count",
          "iframe_src_.html"
         ]
        }
       ],
       "layout": {
        "autosize": false,
        "height": 1000,
        "width": 1000,
        "xaxis": {
         "tickfont": {
          "color": "black",
          "size": 12
         },
         "title": "Feature Importances"
        },
        "yaxis": {
         "automargin": true
        }
       }
      },
      "text/html": [
       "<div id=\"ccc04f28-9250-4c40-9360-bde766a3759c\" style=\"height: 1000px; width: 1000px;\" class=\"plotly-graph-div\"></div><script type=\"text/javascript\">require([\"plotly\"], function(Plotly) { window.PLOTLYENV=window.PLOTLYENV || {};window.PLOTLYENV.BASE_URL=\"https://plot.ly\";Plotly.newPlot(\"ccc04f28-9250-4c40-9360-bde766a3759c\", [{\"marker\": {\"color\": \"rgb(158,202,225)\", \"line\": {\"color\": \"rgb(8,48,107)\", \"width\": 1.5}}, \"opacity\": 0.6, \"orientation\": \"h\", \"text\": [0.136, 0.1051, 0.0878, 0.0873, 0.0691, 0.0436, 0.0427, 0.0411, 0.041, 0.034, 0.0236, 0.023, 0.0221, 0.0213, 0.0199, 0.0193, 0.0186, 0.0178, 0.0163, 0.0136, 0.0135, 0.0132, 0.011, 0.011, 0.0101, 0.0098, 0.0095, 0.0085, 0.0078, 0.0074, 0.0055, 0.0037, 0.003, 0.0029], \"textposition\": \"outside\", \"x\": [0.13595398821392243, 0.10512567933650556, 0.08776983984774885, 0.08726586101345869, 0.06905482001427295, 0.043557195227126616, 0.04265374311607173, 0.04107872312899867, 0.040982393400549544, 0.03396944564313668, 0.02364570015152654, 0.02295374189414955, 0.02207962603477466, 0.0213170991160496, 0.019917107308732994, 0.019279734489999117, 0.018590232749879955, 0.017765378512673617, 0.016312791971058664, 0.01363454803810169, 0.013540840006536436, 0.013245107906792022, 0.011049911068109233, 0.010999325385286217, 0.010086757343242698, 0.009826880232752263, 0.009478235710405772, 0.00846574465452429, 0.007844222043785114, 0.007390490332344862, 0.005523003893900459, 0.0036654203497919987, 0.003029429724091343, 0.0029469821396991705], \"y\": [\"url_length\", \"http_header_content-encoding_gzip\", \"url_char_.\", \"url_char_w\", \"url_extensions\", \"url_char_z\", \"url_char_y\", \"http_header_transfer-encoding_chunked\", \"total_count\", \"url_char_i\", \"url_char_l\", \"url_extension_.com\", \"link_type_text/css\", \"url_char_p\", \"a_href_relative\", \"script_async_true\", \"http_header_cache-control_set_max-age\", \"a_href_out_of_domain\", \"http_header_server_apache\", \"meta_count\", \"total_href\", \"url_char_f\", \"p_count\", \"a_count\", \"a_href_https\", \"link_href_out_of_domain\", \"a_href_http\", \"form_action_http\", \"push\", \"img_src_http\", \"http_header_vary_user-agent\", \"http_header_via_1.1\", \"center_count\", \"iframe_src_.html\"], \"type\": \"bar\", \"uid\": \"1d4cf922-20ba-42c5-aaf8-cd672e23dde5\"}], {\"autosize\": false, \"height\": 1000, \"width\": 1000, \"xaxis\": {\"tickfont\": {\"color\": \"black\", \"size\": 12}, \"title\": \"Feature Importances\"}, \"yaxis\": {\"automargin\": true}}, {\"showLink\": true, \"linkText\": \"Export to plot.ly\", \"plotlyServerURL\": \"https://plot.ly\"})});</script>"
      ],
      "text/vnd.plotly.v1+html": [
       "<div id=\"ccc04f28-9250-4c40-9360-bde766a3759c\" style=\"height: 1000px; width: 1000px;\" class=\"plotly-graph-div\"></div><script type=\"text/javascript\">require([\"plotly\"], function(Plotly) { window.PLOTLYENV=window.PLOTLYENV || {};window.PLOTLYENV.BASE_URL=\"https://plot.ly\";Plotly.newPlot(\"ccc04f28-9250-4c40-9360-bde766a3759c\", [{\"marker\": {\"color\": \"rgb(158,202,225)\", \"line\": {\"color\": \"rgb(8,48,107)\", \"width\": 1.5}}, \"opacity\": 0.6, \"orientation\": \"h\", \"text\": [0.136, 0.1051, 0.0878, 0.0873, 0.0691, 0.0436, 0.0427, 0.0411, 0.041, 0.034, 0.0236, 0.023, 0.0221, 0.0213, 0.0199, 0.0193, 0.0186, 0.0178, 0.0163, 0.0136, 0.0135, 0.0132, 0.011, 0.011, 0.0101, 0.0098, 0.0095, 0.0085, 0.0078, 0.0074, 0.0055, 0.0037, 0.003, 0.0029], \"textposition\": \"outside\", \"x\": [0.13595398821392243, 0.10512567933650556, 0.08776983984774885, 0.08726586101345869, 0.06905482001427295, 0.043557195227126616, 0.04265374311607173, 0.04107872312899867, 0.040982393400549544, 0.03396944564313668, 0.02364570015152654, 0.02295374189414955, 0.02207962603477466, 0.0213170991160496, 0.019917107308732994, 0.019279734489999117, 0.018590232749879955, 0.017765378512673617, 0.016312791971058664, 0.01363454803810169, 0.013540840006536436, 0.013245107906792022, 0.011049911068109233, 0.010999325385286217, 0.010086757343242698, 0.009826880232752263, 0.009478235710405772, 0.00846574465452429, 0.007844222043785114, 0.007390490332344862, 0.005523003893900459, 0.0036654203497919987, 0.003029429724091343, 0.0029469821396991705], \"y\": [\"url_length\", \"http_header_content-encoding_gzip\", \"url_char_.\", \"url_char_w\", \"url_extensions\", \"url_char_z\", \"url_char_y\", \"http_header_transfer-encoding_chunked\", \"total_count\", \"url_char_i\", \"url_char_l\", \"url_extension_.com\", \"link_type_text/css\", \"url_char_p\", \"a_href_relative\", \"script_async_true\", \"http_header_cache-control_set_max-age\", \"a_href_out_of_domain\", \"http_header_server_apache\", \"meta_count\", \"total_href\", \"url_char_f\", \"p_count\", \"a_count\", \"a_href_https\", \"link_href_out_of_domain\", \"a_href_http\", \"form_action_http\", \"push\", \"img_src_http\", \"http_header_vary_user-agent\", \"http_header_via_1.1\", \"center_count\", \"iframe_src_.html\"], \"type\": \"bar\", \"uid\": \"1d4cf922-20ba-42c5-aaf8-cd672e23dde5\"}], {\"autosize\": false, \"height\": 1000, \"width\": 1000, \"xaxis\": {\"tickfont\": {\"color\": \"black\", \"size\": 12}, \"title\": \"Feature Importances\"}, \"yaxis\": {\"automargin\": true}}, {\"showLink\": true, \"linkText\": \"Export to plot.ly\", \"plotlyServerURL\": \"https://plot.ly\"})});</script>"
      ]
     },
     "metadata": {},
     "output_type": "display_data"
    },
    {
     "name": "stdout",
     "output_type": "stream",
     "text": [
      "\n",
      "\n",
      "\u001b[1mXGB Classifier\u001b[0m\n",
      "Accuracy of the model for training data is: 0.9794735306985562\n",
      "Confusion Matrix for training data is:\n"
     ]
    },
    {
     "data": {
      "text/plain": [
       "Predicted  False  True  __all__\n",
       "Actual                         \n",
       "False      24179   148    24327\n",
       "True         415  2686     3101\n",
       "__all__    24594  2834    27428"
      ]
     },
     "metadata": {},
     "output_type": "display_data"
    },
    {
     "name": "stdout",
     "output_type": "stream",
     "text": [
      "Accuracy of the model for test data is: 0.9758400680561463\n",
      "Confusion Matrix for test data is:\n"
     ]
    },
    {
     "data": {
      "text/plain": [
       "Predicted  False  True  __all__\n",
       "Actual                         \n",
       "False      10336    79    10415\n",
       "True         205  1135     1340\n",
       "__all__    10541  1214    11755"
      ]
     },
     "metadata": {},
     "output_type": "display_data"
    },
    {
     "data": {
      "application/vnd.plotly.v1+json": {
       "config": {
        "linkText": "Export to plot.ly",
        "plotlyServerURL": "https://plot.ly",
        "showLink": true
       },
       "data": [
        {
         "marker": {
          "color": "rgb(158,202,225)",
          "line": {
           "color": "rgb(8,48,107)",
           "width": 1.5
          }
         },
         "opacity": 0.6,
         "orientation": "h",
         "text": [
          0.1467,
          0.1126,
          0.0681,
          0.0578,
          0.0504,
          0.0474,
          0.04,
          0.0326,
          0.0326,
          0.0281,
          0.0267,
          0.0252,
          0.0252,
          0.0237,
          0.0237,
          0.0237,
          0.0237,
          0.0193,
          0.0193,
          0.0193,
          0.0178,
          0.0178,
          0.0163,
          0.0148,
          0.0148,
          0.0133,
          0.0119,
          0.0089,
          0.0089,
          0.0089,
          0.0089,
          0.0059,
          0.0044,
          0.0015
         ],
         "textposition": "outside",
         "type": "bar",
         "uid": "4057f11c-805e-4c5e-a11d-c1a9c0958369",
         "x": [
          0.14666666090488434,
          0.11259259283542633,
          0.06814815104007721,
          0.057777777314186096,
          0.05037036910653114,
          0.04740740731358528,
          0.03999999910593033,
          0.032592590898275375,
          0.032592590898275375,
          0.028148148208856583,
          0.02666666731238365,
          0.02518518455326557,
          0.02518518455326557,
          0.02370370365679264,
          0.02370370365679264,
          0.02370370365679264,
          0.02370370365679264,
          0.0192592591047287,
          0.0192592591047287,
          0.0192592591047287,
          0.017777778208255768,
          0.017777778208255768,
          0.016296295449137688,
          0.014814814552664757,
          0.014814814552664757,
          0.013333333656191826,
          0.01185185182839632,
          0.008888889104127884,
          0.008888889104127884,
          0.008888889104127884,
          0.008888889104127884,
          0.00592592591419816,
          0.004444444552063942,
          0.00148148147854954
         ],
         "y": [
          "url_length",
          "url_char_w",
          "url_char_.",
          "total_count",
          "a_href_out_of_domain",
          "url_extensions",
          "p_count",
          "link_type_text/css",
          "http_header_server_apache",
          "http_header_content-encoding_gzip",
          "form_action_http",
          "http_header_cache-control_set_max-age",
          "a_href_https",
          "push",
          "url_extension_.com",
          "total_href",
          "url_char_z",
          "http_header_via_1.1",
          "img_src_http",
          "url_char_i",
          "link_href_out_of_domain",
          "a_href_relative",
          "http_header_vary_user-agent",
          "url_char_l",
          "script_async_true",
          "meta_count",
          "center_count",
          "http_header_transfer-encoding_chunked",
          "url_char_f",
          "url_char_p",
          "a_href_http",
          "iframe_src_.html",
          "url_char_y",
          "a_count"
         ]
        }
       ],
       "layout": {
        "autosize": false,
        "height": 1000,
        "width": 1000,
        "xaxis": {
         "tickfont": {
          "color": "black",
          "size": 12
         },
         "title": "Feature Importances"
        },
        "yaxis": {
         "automargin": true
        }
       }
      },
      "text/html": [
       "<div id=\"2f2ac724-1357-469a-beaf-27d85b855357\" style=\"height: 1000px; width: 1000px;\" class=\"plotly-graph-div\"></div><script type=\"text/javascript\">require([\"plotly\"], function(Plotly) { window.PLOTLYENV=window.PLOTLYENV || {};window.PLOTLYENV.BASE_URL=\"https://plot.ly\";Plotly.newPlot(\"2f2ac724-1357-469a-beaf-27d85b855357\", [{\"marker\": {\"color\": \"rgb(158,202,225)\", \"line\": {\"color\": \"rgb(8,48,107)\", \"width\": 1.5}}, \"opacity\": 0.6, \"orientation\": \"h\", \"text\": [0.1467, 0.1126, 0.0681, 0.0578, 0.0504, 0.0474, 0.04, 0.0326, 0.0326, 0.0281, 0.0267, 0.0252, 0.0252, 0.0237, 0.0237, 0.0237, 0.0237, 0.0193, 0.0193, 0.0193, 0.0178, 0.0178, 0.0163, 0.0148, 0.0148, 0.0133, 0.0119, 0.0089, 0.0089, 0.0089, 0.0089, 0.0059, 0.0044, 0.0015], \"textposition\": \"outside\", \"x\": [0.14666666090488434, 0.11259259283542633, 0.06814815104007721, 0.057777777314186096, 0.05037036910653114, 0.04740740731358528, 0.03999999910593033, 0.032592590898275375, 0.032592590898275375, 0.028148148208856583, 0.02666666731238365, 0.02518518455326557, 0.02518518455326557, 0.02370370365679264, 0.02370370365679264, 0.02370370365679264, 0.02370370365679264, 0.0192592591047287, 0.0192592591047287, 0.0192592591047287, 0.017777778208255768, 0.017777778208255768, 0.016296295449137688, 0.014814814552664757, 0.014814814552664757, 0.013333333656191826, 0.01185185182839632, 0.008888889104127884, 0.008888889104127884, 0.008888889104127884, 0.008888889104127884, 0.00592592591419816, 0.004444444552063942, 0.00148148147854954], \"y\": [\"url_length\", \"url_char_w\", \"url_char_.\", \"total_count\", \"a_href_out_of_domain\", \"url_extensions\", \"p_count\", \"link_type_text/css\", \"http_header_server_apache\", \"http_header_content-encoding_gzip\", \"form_action_http\", \"http_header_cache-control_set_max-age\", \"a_href_https\", \"push\", \"url_extension_.com\", \"total_href\", \"url_char_z\", \"http_header_via_1.1\", \"img_src_http\", \"url_char_i\", \"link_href_out_of_domain\", \"a_href_relative\", \"http_header_vary_user-agent\", \"url_char_l\", \"script_async_true\", \"meta_count\", \"center_count\", \"http_header_transfer-encoding_chunked\", \"url_char_f\", \"url_char_p\", \"a_href_http\", \"iframe_src_.html\", \"url_char_y\", \"a_count\"], \"type\": \"bar\", \"uid\": \"4057f11c-805e-4c5e-a11d-c1a9c0958369\"}], {\"autosize\": false, \"height\": 1000, \"width\": 1000, \"xaxis\": {\"tickfont\": {\"color\": \"black\", \"size\": 12}, \"title\": \"Feature Importances\"}, \"yaxis\": {\"automargin\": true}}, {\"showLink\": true, \"linkText\": \"Export to plot.ly\", \"plotlyServerURL\": \"https://plot.ly\"})});</script>"
      ],
      "text/vnd.plotly.v1+html": [
       "<div id=\"2f2ac724-1357-469a-beaf-27d85b855357\" style=\"height: 1000px; width: 1000px;\" class=\"plotly-graph-div\"></div><script type=\"text/javascript\">require([\"plotly\"], function(Plotly) { window.PLOTLYENV=window.PLOTLYENV || {};window.PLOTLYENV.BASE_URL=\"https://plot.ly\";Plotly.newPlot(\"2f2ac724-1357-469a-beaf-27d85b855357\", [{\"marker\": {\"color\": \"rgb(158,202,225)\", \"line\": {\"color\": \"rgb(8,48,107)\", \"width\": 1.5}}, \"opacity\": 0.6, \"orientation\": \"h\", \"text\": [0.1467, 0.1126, 0.0681, 0.0578, 0.0504, 0.0474, 0.04, 0.0326, 0.0326, 0.0281, 0.0267, 0.0252, 0.0252, 0.0237, 0.0237, 0.0237, 0.0237, 0.0193, 0.0193, 0.0193, 0.0178, 0.0178, 0.0163, 0.0148, 0.0148, 0.0133, 0.0119, 0.0089, 0.0089, 0.0089, 0.0089, 0.0059, 0.0044, 0.0015], \"textposition\": \"outside\", \"x\": [0.14666666090488434, 0.11259259283542633, 0.06814815104007721, 0.057777777314186096, 0.05037036910653114, 0.04740740731358528, 0.03999999910593033, 0.032592590898275375, 0.032592590898275375, 0.028148148208856583, 0.02666666731238365, 0.02518518455326557, 0.02518518455326557, 0.02370370365679264, 0.02370370365679264, 0.02370370365679264, 0.02370370365679264, 0.0192592591047287, 0.0192592591047287, 0.0192592591047287, 0.017777778208255768, 0.017777778208255768, 0.016296295449137688, 0.014814814552664757, 0.014814814552664757, 0.013333333656191826, 0.01185185182839632, 0.008888889104127884, 0.008888889104127884, 0.008888889104127884, 0.008888889104127884, 0.00592592591419816, 0.004444444552063942, 0.00148148147854954], \"y\": [\"url_length\", \"url_char_w\", \"url_char_.\", \"total_count\", \"a_href_out_of_domain\", \"url_extensions\", \"p_count\", \"link_type_text/css\", \"http_header_server_apache\", \"http_header_content-encoding_gzip\", \"form_action_http\", \"http_header_cache-control_set_max-age\", \"a_href_https\", \"push\", \"url_extension_.com\", \"total_href\", \"url_char_z\", \"http_header_via_1.1\", \"img_src_http\", \"url_char_i\", \"link_href_out_of_domain\", \"a_href_relative\", \"http_header_vary_user-agent\", \"url_char_l\", \"script_async_true\", \"meta_count\", \"center_count\", \"http_header_transfer-encoding_chunked\", \"url_char_f\", \"url_char_p\", \"a_href_http\", \"iframe_src_.html\", \"url_char_y\", \"a_count\"], \"type\": \"bar\", \"uid\": \"4057f11c-805e-4c5e-a11d-c1a9c0958369\"}], {\"autosize\": false, \"height\": 1000, \"width\": 1000, \"xaxis\": {\"tickfont\": {\"color\": \"black\", \"size\": 12}, \"title\": \"Feature Importances\"}, \"yaxis\": {\"automargin\": true}}, {\"showLink\": true, \"linkText\": \"Export to plot.ly\", \"plotlyServerURL\": \"https://plot.ly\"})});</script>"
      ]
     },
     "metadata": {},
     "output_type": "display_data"
    },
    {
     "name": "stdout",
     "output_type": "stream",
     "text": [
      "\n",
      "\n",
      "\u001b[1mBagging Classifier\u001b[0m\n",
      "Accuracy of the model for training data is: 0.9963176316173253\n",
      "Confusion Matrix for training data is:\n"
     ]
    },
    {
     "data": {
      "text/plain": [
       "Predicted  False  True  __all__\n",
       "Actual                         \n",
       "False      24308    19    24327\n",
       "True          82  3019     3101\n",
       "__all__    24390  3038    27428"
      ]
     },
     "metadata": {},
     "output_type": "display_data"
    },
    {
     "name": "stdout",
     "output_type": "stream",
     "text": [
      "Accuracy of the model for test data is: 0.9762654189706508\n",
      "Confusion Matrix for test data is:\n"
     ]
    },
    {
     "data": {
      "text/plain": [
       "Predicted  False  True  __all__\n",
       "Actual                         \n",
       "False      10324    91    10415\n",
       "True         188  1152     1340\n",
       "__all__    10512  1243    11755"
      ]
     },
     "metadata": {},
     "output_type": "display_data"
    },
    {
     "name": "stdout",
     "output_type": "stream",
     "text": [
      "\n",
      "\n",
      "\u001b[1mNeural Network-1\u001b[0m\n",
      "The accuracy of the model on training data is: 0.9923071313985709\n"
     ]
    },
    {
     "data": {
      "text/plain": [
       "Predicted  False  True  __all__\n",
       "Actual                         \n",
       "False      24247    80    24327\n",
       "True         131  2970     3101\n",
       "__all__    24378  3050    27428"
      ]
     },
     "metadata": {},
     "output_type": "display_data"
    },
    {
     "name": "stdout",
     "output_type": "stream",
     "text": [
      "The accuracy of the model on test data is: 0.9732028923862186\n"
     ]
    },
    {
     "data": {
      "text/plain": [
       "Predicted  False  True  __all__\n",
       "Actual                         \n",
       "False      10275   140    10415\n",
       "True         175  1165     1340\n",
       "__all__    10450  1305    11755"
      ]
     },
     "metadata": {},
     "output_type": "display_data"
    },
    {
     "name": "stdout",
     "output_type": "stream",
     "text": [
      "\n",
      "\n"
     ]
    }
   ],
   "source": [
    "df_sel=df[columns].copy(deep=True)\n",
    "\n",
    "train=df_sel.iloc[:27428,:]\n",
    "train_X=train.iloc[:,train.columns!='Target'].values\n",
    "train_Y=train.Target.values\n",
    "\n",
    "scaler=StandardScaler()\n",
    "scaled_X_train=scaler.fit_transform(train_X)\n",
    "\n",
    "test=df_sel.iloc[27428:,:]\n",
    "test_X=test.iloc[:,test.columns!='Target'].values\n",
    "test_Y=test.Target.values\n",
    "scaled_X_test=scaler.transform(test_X)\n",
    "columns.remove('Target')\n",
    "\n",
    "ind_columns=['KNeighborsClassifier','RandomForestClassifier','AdaBoostClassifier',\n",
    "             'GradientBoostingClassifier','ExtraTreeClassifier','XGB','BaggingClassifier','Neural Network-1']\n",
    "\n",
    "f=[KNN_model,RandomForest,AdaBoost,GradientBoosting, ExtraTree,XGB,Bagging,DeepLearning1]\n",
    "\n",
    "## Table to store training and test measures\n",
    "table_80_50_train=pd.DataFrame(columns=['accuracy','TP','TN','FP','FN','FPR','FNR'])\n",
    "table_80_50_test=pd.DataFrame(columns=['accuracy','TP','TN','FP','FN','FPR','FNR','auc','MCC','Precision','Recall'])\n",
    "\n",
    "feat_imp=[None]*5\n",
    "j=0\n",
    "for i in range(0,8):\n",
    "    if i>=1 and i<=5:\n",
    "        model,cm_train,cm_test,acc_train,acc_test,roc_auc,feat_imp[j],mcc,prec,rec=f[i](scaled_X_train,train_Y,scaled_X_test,test_Y,columns)\n",
    "        j=j+1\n",
    "    else:\n",
    "        model,cm_train,cm_test,acc_train,acc_test,roc_auc,mcc,prec,rec=f[i](scaled_X_train,train_Y,scaled_X_test,test_Y)\n",
    "    table_80_50_train.loc[i]=   ([acc_train,cm_train.TP,cm_train.TN,cm_train.FP,cm_train.FN,cm_train.FPR,cm_train.FNR])\n",
    "    table_80_50_test.loc[i] =   ([acc_test ,cm_test.TP, cm_test.TN, cm_test.FP, cm_test.FN, cm_test.FPR, cm_test.FNR,roc_auc,mcc,prec,rec])\n",
    "    print(\"\\n\")"
   ]
  },
  {
   "cell_type": "markdown",
   "metadata": {},
   "source": [
    "### <a id='1.A' style=\"text-decoration : none; color : #000000;\"> A. Results</a>"
   ]
  },
  {
   "cell_type": "code",
   "execution_count": 9,
   "metadata": {},
   "outputs": [
    {
     "data": {
      "application/vnd.plotly.v1+json": {
       "config": {
        "linkText": "Export to plot.ly",
        "plotlyServerURL": "https://plot.ly",
        "showLink": true
       },
       "data": [
        {
         "mode": "lines",
         "name": "KNN_model",
         "type": "scatter",
         "uid": "db8c5f39-66b2-47e8-aec6-509d9b1e53bc",
         "x": [
          "accuracy",
          "auc",
          "MCC",
          "Precision",
          "Recall"
         ],
         "y": [
          0.9723521905572097,
          0.9157957810563123,
          0.8594366500871768,
          0.9082864038616251,
          0.8425373134328358
         ]
        },
        {
         "mode": "lines+markers",
         "name": "XGB",
         "type": "scatter",
         "uid": "39de9680-d367-4525-bb30-ee45c797d6ba",
         "x": [
          "accuracy",
          "auc",
          "MCC",
          "Precision",
          "Recall"
         ],
         "y": [
          0.9758400680561463,
          0.9197148558694763,
          0.8766295849357328,
          0.9349258649093904,
          0.8470149253731343
         ]
        },
        {
         "marker": {
          "symbol": "x"
         },
         "mode": "lines+markers",
         "name": "Random Forest",
         "type": "scatter",
         "uid": "2a5c8366-d4ef-484c-a356-e9797c191bc2",
         "x": [
          "accuracy",
          "auc",
          "MCC",
          "Precision",
          "Recall"
         ],
         "y": [
          0.978477243726074,
          0.928355880224418,
          0.8904746192811135,
          0.9429502852485737,
          0.8634328358208955
         ]
        },
        {
         "mode": "lines",
         "name": "Ada Boost",
         "type": "scatter",
         "uid": "01763f20-b51a-4e8e-9a99-63d2b9761d8d",
         "x": [
          "accuracy",
          "auc",
          "MCC",
          "Precision",
          "Recall"
         ],
         "y": [
          0.9706507868991918,
          0.9193874004915413,
          0.8525412950094337,
          0.8853601859024013,
          0.8529850746268657
         ]
        },
        {
         "mode": "lines+markers",
         "name": "GradientBoosting",
         "type": "scatter",
         "uid": "a6d5470d-dfa5-41de-81e3-eee2c922b842",
         "x": [
          "accuracy",
          "auc",
          "MCC",
          "Precision",
          "Recall"
         ],
         "y": [
          0.976860910250957,
          0.9248427211040333,
          0.8822194043721783,
          0.9341463414634147,
          0.8574626865671642
         ]
        },
        {
         "marker": {
          "symbol": "x"
         },
         "mode": "lines+markers",
         "name": "ExtraTree Classifier",
         "type": "scatter",
         "uid": "cfa3a634-00b4-4c0d-827c-34f5adcd11f8",
         "x": [
          "accuracy",
          "auc",
          "MCC",
          "Precision",
          "Recall"
         ],
         "y": [
          0.9767758400680562,
          0.9251198400699336,
          0.8818459377211694,
          0.9326845093268451,
          0.8582089552238806
         ]
        },
        {
         "marker": {
          "symbol": "x"
         },
         "mode": "lines+markers",
         "name": "Bagging",
         "type": "scatter",
         "uid": "a9dcdf08-aef9-4209-9708-c597d9f1c1c7",
         "x": [
          "accuracy",
          "auc",
          "MCC",
          "Precision",
          "Recall"
         ],
         "y": [
          0.9762654189706508,
          0.925482047276818,
          0.8794578541774526,
          0.9267900241351569,
          0.8597014925373134
         ]
        },
        {
         "marker": {
          "symbol": "x"
         },
         "mode": "lines+markers",
         "name": "Neural Network",
         "type": "scatter",
         "uid": "60f7901e-f5fb-44f6-b9fc-fab025e7a88d",
         "x": [
          "accuracy",
          "auc",
          "MCC",
          "Precision",
          "Recall"
         ],
         "y": [
          0.9732028923862186,
          0.925482047276818,
          0.8659095484181689,
          0.89272030651341,
          0.8694029850746269
         ]
        }
       ],
       "layout": {
        "title": "Result comparision for Features selected in Section 1",
        "yaxis": {
         "dtick": 0.05,
         "tick0": 0
        }
       }
      },
      "text/html": [
       "<div id=\"e80ffd7b-26b3-4121-b10e-d5a464d82f21\" style=\"height: 525px; width: 100%;\" class=\"plotly-graph-div\"></div><script type=\"text/javascript\">require([\"plotly\"], function(Plotly) { window.PLOTLYENV=window.PLOTLYENV || {};window.PLOTLYENV.BASE_URL=\"https://plot.ly\";Plotly.newPlot(\"e80ffd7b-26b3-4121-b10e-d5a464d82f21\", [{\"mode\": \"lines\", \"name\": \"KNN_model\", \"x\": [\"accuracy\", \"auc\", \"MCC\", \"Precision\", \"Recall\"], \"y\": [0.9723521905572097, 0.9157957810563123, 0.8594366500871768, 0.9082864038616251, 0.8425373134328358], \"type\": \"scatter\", \"uid\": \"db8c5f39-66b2-47e8-aec6-509d9b1e53bc\"}, {\"mode\": \"lines+markers\", \"name\": \"XGB\", \"x\": [\"accuracy\", \"auc\", \"MCC\", \"Precision\", \"Recall\"], \"y\": [0.9758400680561463, 0.9197148558694763, 0.8766295849357328, 0.9349258649093904, 0.8470149253731343], \"type\": \"scatter\", \"uid\": \"39de9680-d367-4525-bb30-ee45c797d6ba\"}, {\"marker\": {\"symbol\": \"x\"}, \"mode\": \"lines+markers\", \"name\": \"Random Forest\", \"x\": [\"accuracy\", \"auc\", \"MCC\", \"Precision\", \"Recall\"], \"y\": [0.978477243726074, 0.928355880224418, 0.8904746192811135, 0.9429502852485737, 0.8634328358208955], \"type\": \"scatter\", \"uid\": \"2a5c8366-d4ef-484c-a356-e9797c191bc2\"}, {\"mode\": \"lines\", \"name\": \"Ada Boost\", \"x\": [\"accuracy\", \"auc\", \"MCC\", \"Precision\", \"Recall\"], \"y\": [0.9706507868991918, 0.9193874004915413, 0.8525412950094337, 0.8853601859024013, 0.8529850746268657], \"type\": \"scatter\", \"uid\": \"01763f20-b51a-4e8e-9a99-63d2b9761d8d\"}, {\"mode\": \"lines+markers\", \"name\": \"GradientBoosting\", \"x\": [\"accuracy\", \"auc\", \"MCC\", \"Precision\", \"Recall\"], \"y\": [0.976860910250957, 0.9248427211040333, 0.8822194043721783, 0.9341463414634147, 0.8574626865671642], \"type\": \"scatter\", \"uid\": \"a6d5470d-dfa5-41de-81e3-eee2c922b842\"}, {\"marker\": {\"symbol\": \"x\"}, \"mode\": \"lines+markers\", \"name\": \"ExtraTree Classifier\", \"x\": [\"accuracy\", \"auc\", \"MCC\", \"Precision\", \"Recall\"], \"y\": [0.9767758400680562, 0.9251198400699336, 0.8818459377211694, 0.9326845093268451, 0.8582089552238806], \"type\": \"scatter\", \"uid\": \"cfa3a634-00b4-4c0d-827c-34f5adcd11f8\"}, {\"marker\": {\"symbol\": \"x\"}, \"mode\": \"lines+markers\", \"name\": \"Bagging\", \"x\": [\"accuracy\", \"auc\", \"MCC\", \"Precision\", \"Recall\"], \"y\": [0.9762654189706508, 0.925482047276818, 0.8794578541774526, 0.9267900241351569, 0.8597014925373134], \"type\": \"scatter\", \"uid\": \"a9dcdf08-aef9-4209-9708-c597d9f1c1c7\"}, {\"marker\": {\"symbol\": \"x\"}, \"mode\": \"lines+markers\", \"name\": \"Neural Network\", \"x\": [\"accuracy\", \"auc\", \"MCC\", \"Precision\", \"Recall\"], \"y\": [0.9732028923862186, 0.925482047276818, 0.8659095484181689, 0.89272030651341, 0.8694029850746269], \"type\": \"scatter\", \"uid\": \"60f7901e-f5fb-44f6-b9fc-fab025e7a88d\"}], {\"title\": \"Result comparision for Features selected in Section 1\", \"yaxis\": {\"dtick\": 0.05, \"tick0\": 0}}, {\"showLink\": true, \"linkText\": \"Export to plot.ly\", \"plotlyServerURL\": \"https://plot.ly\"})});</script><script type=\"text/javascript\">window.addEventListener(\"resize\", function(){window._Plotly.Plots.resize(document.getElementById(\"e80ffd7b-26b3-4121-b10e-d5a464d82f21\"));});</script>"
      ],
      "text/vnd.plotly.v1+html": [
       "<div id=\"e80ffd7b-26b3-4121-b10e-d5a464d82f21\" style=\"height: 525px; width: 100%;\" class=\"plotly-graph-div\"></div><script type=\"text/javascript\">require([\"plotly\"], function(Plotly) { window.PLOTLYENV=window.PLOTLYENV || {};window.PLOTLYENV.BASE_URL=\"https://plot.ly\";Plotly.newPlot(\"e80ffd7b-26b3-4121-b10e-d5a464d82f21\", [{\"mode\": \"lines\", \"name\": \"KNN_model\", \"x\": [\"accuracy\", \"auc\", \"MCC\", \"Precision\", \"Recall\"], \"y\": [0.9723521905572097, 0.9157957810563123, 0.8594366500871768, 0.9082864038616251, 0.8425373134328358], \"type\": \"scatter\", \"uid\": \"db8c5f39-66b2-47e8-aec6-509d9b1e53bc\"}, {\"mode\": \"lines+markers\", \"name\": \"XGB\", \"x\": [\"accuracy\", \"auc\", \"MCC\", \"Precision\", \"Recall\"], \"y\": [0.9758400680561463, 0.9197148558694763, 0.8766295849357328, 0.9349258649093904, 0.8470149253731343], \"type\": \"scatter\", \"uid\": \"39de9680-d367-4525-bb30-ee45c797d6ba\"}, {\"marker\": {\"symbol\": \"x\"}, \"mode\": \"lines+markers\", \"name\": \"Random Forest\", \"x\": [\"accuracy\", \"auc\", \"MCC\", \"Precision\", \"Recall\"], \"y\": [0.978477243726074, 0.928355880224418, 0.8904746192811135, 0.9429502852485737, 0.8634328358208955], \"type\": \"scatter\", \"uid\": \"2a5c8366-d4ef-484c-a356-e9797c191bc2\"}, {\"mode\": \"lines\", \"name\": \"Ada Boost\", \"x\": [\"accuracy\", \"auc\", \"MCC\", \"Precision\", \"Recall\"], \"y\": [0.9706507868991918, 0.9193874004915413, 0.8525412950094337, 0.8853601859024013, 0.8529850746268657], \"type\": \"scatter\", \"uid\": \"01763f20-b51a-4e8e-9a99-63d2b9761d8d\"}, {\"mode\": \"lines+markers\", \"name\": \"GradientBoosting\", \"x\": [\"accuracy\", \"auc\", \"MCC\", \"Precision\", \"Recall\"], \"y\": [0.976860910250957, 0.9248427211040333, 0.8822194043721783, 0.9341463414634147, 0.8574626865671642], \"type\": \"scatter\", \"uid\": \"a6d5470d-dfa5-41de-81e3-eee2c922b842\"}, {\"marker\": {\"symbol\": \"x\"}, \"mode\": \"lines+markers\", \"name\": \"ExtraTree Classifier\", \"x\": [\"accuracy\", \"auc\", \"MCC\", \"Precision\", \"Recall\"], \"y\": [0.9767758400680562, 0.9251198400699336, 0.8818459377211694, 0.9326845093268451, 0.8582089552238806], \"type\": \"scatter\", \"uid\": \"cfa3a634-00b4-4c0d-827c-34f5adcd11f8\"}, {\"marker\": {\"symbol\": \"x\"}, \"mode\": \"lines+markers\", \"name\": \"Bagging\", \"x\": [\"accuracy\", \"auc\", \"MCC\", \"Precision\", \"Recall\"], \"y\": [0.9762654189706508, 0.925482047276818, 0.8794578541774526, 0.9267900241351569, 0.8597014925373134], \"type\": \"scatter\", \"uid\": \"a9dcdf08-aef9-4209-9708-c597d9f1c1c7\"}, {\"marker\": {\"symbol\": \"x\"}, \"mode\": \"lines+markers\", \"name\": \"Neural Network\", \"x\": [\"accuracy\", \"auc\", \"MCC\", \"Precision\", \"Recall\"], \"y\": [0.9732028923862186, 0.925482047276818, 0.8659095484181689, 0.89272030651341, 0.8694029850746269], \"type\": \"scatter\", \"uid\": \"60f7901e-f5fb-44f6-b9fc-fab025e7a88d\"}], {\"title\": \"Result comparision for Features selected in Section 1\", \"yaxis\": {\"dtick\": 0.05, \"tick0\": 0}}, {\"showLink\": true, \"linkText\": \"Export to plot.ly\", \"plotlyServerURL\": \"https://plot.ly\"})});</script><script type=\"text/javascript\">window.addEventListener(\"resize\", function(){window._Plotly.Plots.resize(document.getElementById(\"e80ffd7b-26b3-4121-b10e-d5a464d82f21\"));});</script>"
      ]
     },
     "metadata": {},
     "output_type": "display_data"
    }
   ],
   "source": [
    "trace0 = go.Scatter(x=table_80_50_test.iloc[0].index.values[[0,7,8,9,10]],\n",
    "                    y=table_80_50_test.iloc[0].values[[0,7,8,9,10]],\n",
    "                    mode = 'lines',\n",
    "                    name = 'KNN_model')\n",
    "\n",
    "\n",
    "trace2 = go.Scatter(x=table_80_50_test.iloc[1].index.values[[0,7,8,9,10]],\n",
    "                    y=table_80_50_test.iloc[1].values[[0,7,8,9,10]],\n",
    "                    mode = 'lines+markers',marker=dict(symbol='x'),\n",
    "                    name = 'Random Forest')\n",
    "\n",
    "\n",
    "trace3 = go.Scatter(x=table_80_50_test.iloc[2].index.values[[0,7,8,9,10]],\n",
    "                    y=table_80_50_test.iloc[2].values[[0,7,8,9,10]],\n",
    "                    mode = 'lines',\n",
    "                    name = 'Ada Boost')\n",
    "\n",
    "trace4 = go.Scatter(x=table_80_50_test.iloc[3].index.values[[0,7,8,9,10]],\n",
    "                    y=table_80_50_test.iloc[3].values[[0,7,8,9,10]],\n",
    "                    mode = 'lines+markers',\n",
    "                    name = 'GradientBoosting')\n",
    "\n",
    "trace5 = go.Scatter(x=table_80_50_test.iloc[4].index.values[[0,7,8,9,10]],\n",
    "                    y=table_80_50_test.iloc[4].values[[0,7,8,9,10]],\n",
    "                    mode = 'lines+markers',marker=dict(symbol='x'),\n",
    "                    name = 'ExtraTree Classifier')\n",
    "\n",
    "\n",
    "trace1 = go.Scatter(x=table_80_50_test.iloc[5].index.values[[0,7,8,9,10]],\n",
    "                    y=table_80_50_test.iloc[5].values[[0,7,8,9,10]],\n",
    "                    mode = 'lines+markers',\n",
    "                    name = 'XGB')\n",
    "\n",
    "\n",
    "trace6 = go.Scatter(x=table_80_50_test.iloc[6].index.values[[0,7,8,9,10]],\n",
    "                    y=table_80_50_test.iloc[6].values[[0,7,8,9,10]],\n",
    "                    mode = 'lines+markers',marker=dict(symbol='x'),\n",
    "                    name = 'Bagging')\n",
    "\n",
    "trace7 = go.Scatter(x=table_80_50_test.iloc[7].index.values[[0,7,8,9,10]],\n",
    "                    y=table_80_50_test.iloc[7].values[[0,7,8,9,10]],\n",
    "                    mode = 'lines+markers',marker=dict(symbol='x'),\n",
    "                    name = 'Neural Network')\n",
    "\n",
    "\n",
    "\n",
    "data = [trace0, trace1, trace2, trace3, trace4, trace5, trace6, trace7]\n",
    "layout = go.Layout(yaxis=dict(tick0=0,dtick=0.05),title='Result comparision for Features selected in Section 1')\n",
    "fig = go.Figure(data=data, layout=layout)\n",
    "\n",
    "iplot(fig, filename='Result')"
   ]
  },
  {
   "cell_type": "code",
   "execution_count": 10,
   "metadata": {},
   "outputs": [
    {
     "name": "stdout",
     "output_type": "stream",
     "text": [
      "Training Results\n"
     ]
    },
    {
     "data": {
      "text/html": [
       "<div>\n",
       "<style scoped>\n",
       "    .dataframe tbody tr th:only-of-type {\n",
       "        vertical-align: middle;\n",
       "    }\n",
       "\n",
       "    .dataframe tbody tr th {\n",
       "        vertical-align: top;\n",
       "    }\n",
       "\n",
       "    .dataframe thead th {\n",
       "        text-align: right;\n",
       "    }\n",
       "</style>\n",
       "<table border=\"1\" class=\"dataframe\">\n",
       "  <thead>\n",
       "    <tr style=\"text-align: right;\">\n",
       "      <th></th>\n",
       "      <th>accuracy</th>\n",
       "      <th>TP</th>\n",
       "      <th>TN</th>\n",
       "      <th>FP</th>\n",
       "      <th>FN</th>\n",
       "      <th>FPR</th>\n",
       "      <th>FNR</th>\n",
       "    </tr>\n",
       "    <tr>\n",
       "      <th>index</th>\n",
       "      <th></th>\n",
       "      <th></th>\n",
       "      <th></th>\n",
       "      <th></th>\n",
       "      <th></th>\n",
       "      <th></th>\n",
       "      <th></th>\n",
       "    </tr>\n",
       "  </thead>\n",
       "  <tbody>\n",
       "    <tr>\n",
       "      <th>KNeighborsClassifier</th>\n",
       "      <td>0.979583</td>\n",
       "      <td>2720.0</td>\n",
       "      <td>24148.0</td>\n",
       "      <td>179.0</td>\n",
       "      <td>381.0</td>\n",
       "      <td>0.007358</td>\n",
       "      <td>0.122864</td>\n",
       "    </tr>\n",
       "    <tr>\n",
       "      <th>RandomForestClassifier</th>\n",
       "      <td>0.996536</td>\n",
       "      <td>3026.0</td>\n",
       "      <td>24307.0</td>\n",
       "      <td>20.0</td>\n",
       "      <td>75.0</td>\n",
       "      <td>0.000822</td>\n",
       "      <td>0.024186</td>\n",
       "    </tr>\n",
       "    <tr>\n",
       "      <th>AdaBoostClassifier</th>\n",
       "      <td>0.972656</td>\n",
       "      <td>2681.0</td>\n",
       "      <td>23997.0</td>\n",
       "      <td>330.0</td>\n",
       "      <td>420.0</td>\n",
       "      <td>0.013565</td>\n",
       "      <td>0.135440</td>\n",
       "    </tr>\n",
       "    <tr>\n",
       "      <th>GradientBoostingClassifier</th>\n",
       "      <td>0.980713</td>\n",
       "      <td>2719.0</td>\n",
       "      <td>24180.0</td>\n",
       "      <td>147.0</td>\n",
       "      <td>382.0</td>\n",
       "      <td>0.006043</td>\n",
       "      <td>0.123186</td>\n",
       "    </tr>\n",
       "    <tr>\n",
       "      <th>ExtraTreeClassifier</th>\n",
       "      <td>0.998141</td>\n",
       "      <td>3053.0</td>\n",
       "      <td>24324.0</td>\n",
       "      <td>3.0</td>\n",
       "      <td>48.0</td>\n",
       "      <td>0.000123</td>\n",
       "      <td>0.015479</td>\n",
       "    </tr>\n",
       "    <tr>\n",
       "      <th>XGB</th>\n",
       "      <td>0.979474</td>\n",
       "      <td>2686.0</td>\n",
       "      <td>24179.0</td>\n",
       "      <td>148.0</td>\n",
       "      <td>415.0</td>\n",
       "      <td>0.006084</td>\n",
       "      <td>0.133828</td>\n",
       "    </tr>\n",
       "    <tr>\n",
       "      <th>BaggingClassifier</th>\n",
       "      <td>0.996318</td>\n",
       "      <td>3019.0</td>\n",
       "      <td>24308.0</td>\n",
       "      <td>19.0</td>\n",
       "      <td>82.0</td>\n",
       "      <td>0.000781</td>\n",
       "      <td>0.026443</td>\n",
       "    </tr>\n",
       "    <tr>\n",
       "      <th>Neural Network-1</th>\n",
       "      <td>0.992307</td>\n",
       "      <td>2970.0</td>\n",
       "      <td>24247.0</td>\n",
       "      <td>80.0</td>\n",
       "      <td>131.0</td>\n",
       "      <td>0.003289</td>\n",
       "      <td>0.042244</td>\n",
       "    </tr>\n",
       "  </tbody>\n",
       "</table>\n",
       "</div>"
      ],
      "text/plain": [
       "                            accuracy      TP       TN     FP     FN       FPR  \\\n",
       "index                                                                           \n",
       "KNeighborsClassifier        0.979583  2720.0  24148.0  179.0  381.0  0.007358   \n",
       "RandomForestClassifier      0.996536  3026.0  24307.0   20.0   75.0  0.000822   \n",
       "AdaBoostClassifier          0.972656  2681.0  23997.0  330.0  420.0  0.013565   \n",
       "GradientBoostingClassifier  0.980713  2719.0  24180.0  147.0  382.0  0.006043   \n",
       "ExtraTreeClassifier         0.998141  3053.0  24324.0    3.0   48.0  0.000123   \n",
       "XGB                         0.979474  2686.0  24179.0  148.0  415.0  0.006084   \n",
       "BaggingClassifier           0.996318  3019.0  24308.0   19.0   82.0  0.000781   \n",
       "Neural Network-1            0.992307  2970.0  24247.0   80.0  131.0  0.003289   \n",
       "\n",
       "                                 FNR  \n",
       "index                                 \n",
       "KNeighborsClassifier        0.122864  \n",
       "RandomForestClassifier      0.024186  \n",
       "AdaBoostClassifier          0.135440  \n",
       "GradientBoostingClassifier  0.123186  \n",
       "ExtraTreeClassifier         0.015479  \n",
       "XGB                         0.133828  \n",
       "BaggingClassifier           0.026443  \n",
       "Neural Network-1            0.042244  "
      ]
     },
     "metadata": {},
     "output_type": "display_data"
    },
    {
     "name": "stdout",
     "output_type": "stream",
     "text": [
      "Test Results\n"
     ]
    },
    {
     "data": {
      "text/html": [
       "<div>\n",
       "<style scoped>\n",
       "    .dataframe tbody tr th:only-of-type {\n",
       "        vertical-align: middle;\n",
       "    }\n",
       "\n",
       "    .dataframe tbody tr th {\n",
       "        vertical-align: top;\n",
       "    }\n",
       "\n",
       "    .dataframe thead th {\n",
       "        text-align: right;\n",
       "    }\n",
       "</style>\n",
       "<table border=\"1\" class=\"dataframe\">\n",
       "  <thead>\n",
       "    <tr style=\"text-align: right;\">\n",
       "      <th></th>\n",
       "      <th>accuracy</th>\n",
       "      <th>TP</th>\n",
       "      <th>TN</th>\n",
       "      <th>FP</th>\n",
       "      <th>FN</th>\n",
       "      <th>FPR</th>\n",
       "      <th>FNR</th>\n",
       "      <th>auc</th>\n",
       "      <th>MCC</th>\n",
       "      <th>Precision</th>\n",
       "      <th>Recall</th>\n",
       "    </tr>\n",
       "    <tr>\n",
       "      <th>index</th>\n",
       "      <th></th>\n",
       "      <th></th>\n",
       "      <th></th>\n",
       "      <th></th>\n",
       "      <th></th>\n",
       "      <th></th>\n",
       "      <th></th>\n",
       "      <th></th>\n",
       "      <th></th>\n",
       "      <th></th>\n",
       "      <th></th>\n",
       "    </tr>\n",
       "  </thead>\n",
       "  <tbody>\n",
       "    <tr>\n",
       "      <th>KNeighborsClassifier</th>\n",
       "      <td>0.972352</td>\n",
       "      <td>1129.0</td>\n",
       "      <td>10301.0</td>\n",
       "      <td>114.0</td>\n",
       "      <td>211.0</td>\n",
       "      <td>0.010946</td>\n",
       "      <td>0.157463</td>\n",
       "      <td>0.915796</td>\n",
       "      <td>0.859437</td>\n",
       "      <td>0.908286</td>\n",
       "      <td>0.842537</td>\n",
       "    </tr>\n",
       "    <tr>\n",
       "      <th>RandomForestClassifier</th>\n",
       "      <td>0.978477</td>\n",
       "      <td>1157.0</td>\n",
       "      <td>10345.0</td>\n",
       "      <td>70.0</td>\n",
       "      <td>183.0</td>\n",
       "      <td>0.006721</td>\n",
       "      <td>0.136567</td>\n",
       "      <td>0.928356</td>\n",
       "      <td>0.890475</td>\n",
       "      <td>0.942950</td>\n",
       "      <td>0.863433</td>\n",
       "    </tr>\n",
       "    <tr>\n",
       "      <th>AdaBoostClassifier</th>\n",
       "      <td>0.970651</td>\n",
       "      <td>1143.0</td>\n",
       "      <td>10267.0</td>\n",
       "      <td>148.0</td>\n",
       "      <td>197.0</td>\n",
       "      <td>0.014210</td>\n",
       "      <td>0.147015</td>\n",
       "      <td>0.919387</td>\n",
       "      <td>0.852541</td>\n",
       "      <td>0.885360</td>\n",
       "      <td>0.852985</td>\n",
       "    </tr>\n",
       "    <tr>\n",
       "      <th>GradientBoostingClassifier</th>\n",
       "      <td>0.976861</td>\n",
       "      <td>1149.0</td>\n",
       "      <td>10334.0</td>\n",
       "      <td>81.0</td>\n",
       "      <td>191.0</td>\n",
       "      <td>0.007777</td>\n",
       "      <td>0.142537</td>\n",
       "      <td>0.924843</td>\n",
       "      <td>0.882219</td>\n",
       "      <td>0.934146</td>\n",
       "      <td>0.857463</td>\n",
       "    </tr>\n",
       "    <tr>\n",
       "      <th>ExtraTreeClassifier</th>\n",
       "      <td>0.976776</td>\n",
       "      <td>1150.0</td>\n",
       "      <td>10332.0</td>\n",
       "      <td>83.0</td>\n",
       "      <td>190.0</td>\n",
       "      <td>0.007969</td>\n",
       "      <td>0.141791</td>\n",
       "      <td>0.925120</td>\n",
       "      <td>0.881846</td>\n",
       "      <td>0.932685</td>\n",
       "      <td>0.858209</td>\n",
       "    </tr>\n",
       "    <tr>\n",
       "      <th>XGB</th>\n",
       "      <td>0.975840</td>\n",
       "      <td>1135.0</td>\n",
       "      <td>10336.0</td>\n",
       "      <td>79.0</td>\n",
       "      <td>205.0</td>\n",
       "      <td>0.007585</td>\n",
       "      <td>0.152985</td>\n",
       "      <td>0.919715</td>\n",
       "      <td>0.876630</td>\n",
       "      <td>0.934926</td>\n",
       "      <td>0.847015</td>\n",
       "    </tr>\n",
       "    <tr>\n",
       "      <th>BaggingClassifier</th>\n",
       "      <td>0.976265</td>\n",
       "      <td>1152.0</td>\n",
       "      <td>10324.0</td>\n",
       "      <td>91.0</td>\n",
       "      <td>188.0</td>\n",
       "      <td>0.008737</td>\n",
       "      <td>0.140299</td>\n",
       "      <td>0.925482</td>\n",
       "      <td>0.879458</td>\n",
       "      <td>0.926790</td>\n",
       "      <td>0.859701</td>\n",
       "    </tr>\n",
       "    <tr>\n",
       "      <th>Neural Network-1</th>\n",
       "      <td>0.973203</td>\n",
       "      <td>1165.0</td>\n",
       "      <td>10275.0</td>\n",
       "      <td>140.0</td>\n",
       "      <td>175.0</td>\n",
       "      <td>0.013442</td>\n",
       "      <td>0.130597</td>\n",
       "      <td>0.925482</td>\n",
       "      <td>0.865910</td>\n",
       "      <td>0.892720</td>\n",
       "      <td>0.869403</td>\n",
       "    </tr>\n",
       "  </tbody>\n",
       "</table>\n",
       "</div>"
      ],
      "text/plain": [
       "                            accuracy      TP       TN     FP     FN       FPR  \\\n",
       "index                                                                           \n",
       "KNeighborsClassifier        0.972352  1129.0  10301.0  114.0  211.0  0.010946   \n",
       "RandomForestClassifier      0.978477  1157.0  10345.0   70.0  183.0  0.006721   \n",
       "AdaBoostClassifier          0.970651  1143.0  10267.0  148.0  197.0  0.014210   \n",
       "GradientBoostingClassifier  0.976861  1149.0  10334.0   81.0  191.0  0.007777   \n",
       "ExtraTreeClassifier         0.976776  1150.0  10332.0   83.0  190.0  0.007969   \n",
       "XGB                         0.975840  1135.0  10336.0   79.0  205.0  0.007585   \n",
       "BaggingClassifier           0.976265  1152.0  10324.0   91.0  188.0  0.008737   \n",
       "Neural Network-1            0.973203  1165.0  10275.0  140.0  175.0  0.013442   \n",
       "\n",
       "                                 FNR       auc       MCC  Precision    Recall  \n",
       "index                                                                          \n",
       "KNeighborsClassifier        0.157463  0.915796  0.859437   0.908286  0.842537  \n",
       "RandomForestClassifier      0.136567  0.928356  0.890475   0.942950  0.863433  \n",
       "AdaBoostClassifier          0.147015  0.919387  0.852541   0.885360  0.852985  \n",
       "GradientBoostingClassifier  0.142537  0.924843  0.882219   0.934146  0.857463  \n",
       "ExtraTreeClassifier         0.141791  0.925120  0.881846   0.932685  0.858209  \n",
       "XGB                         0.152985  0.919715  0.876630   0.934926  0.847015  \n",
       "BaggingClassifier           0.140299  0.925482  0.879458   0.926790  0.859701  \n",
       "Neural Network-1            0.130597  0.925482  0.865910   0.892720  0.869403  "
      ]
     },
     "metadata": {},
     "output_type": "display_data"
    }
   ],
   "source": [
    "table_80_50_train['index']=ind_columns\n",
    "table_80_50_test['index']=ind_columns\n",
    "\n",
    "\n",
    "table_80_50_test.set_index(['index'],drop=True,inplace=True)\n",
    "table_80_50_train.set_index(['index'],drop=True,inplace=True)\n",
    "\n",
    "print(\"Training Results\")\n",
    "display(table_80_50_train)\n",
    "print(\"Test Results\")\n",
    "display(table_80_50_test)"
   ]
  },
  {
   "cell_type": "markdown",
   "metadata": {},
   "source": [
    "### <a id='1.B' style=\"text-decoration : none; color : #000000;\"> B. Average Feature Importances</a>"
   ]
  },
  {
   "cell_type": "code",
   "execution_count": 11,
   "metadata": {},
   "outputs": [
    {
     "data": {
      "application/vnd.plotly.v1+json": {
       "config": {
        "linkText": "Export to plot.ly",
        "plotlyServerURL": "https://plot.ly",
        "showLink": true
       },
       "data": [
        {
         "marker": {
          "color": "rgb(158,202,225)",
          "line": {
           "color": "rgb(8,48,107)",
           "width": 1.5
          }
         },
         "opacity": 0.6,
         "orientation": "h",
         "text": [
          0.128,
          0.1221,
          0.1213,
          0.0813,
          0.0471,
          0.0413,
          0.0381,
          0.0366,
          0.0242,
          0.0237,
          0.0235,
          0.0233,
          0.021,
          0.0191,
          0.0184,
          0.0183,
          0.0168,
          0.0166,
          0.0159,
          0.0159,
          0.014,
          0.0134,
          0.0134,
          0.0127,
          0.0114,
          0.0112,
          0.0107,
          0.0104,
          0.0096,
          0.0094,
          0.0091,
          0.009,
          0.0073,
          0.0058
         ],
         "textposition": "outside",
         "type": "bar",
         "uid": "ee1026d8-a5fc-4fa1-8834-35b5c7198b12",
         "x": [
          0.1280252254718684,
          0.12214238150583578,
          0.12129881985738349,
          0.08132551865966199,
          0.047115517779411455,
          0.04134960723998187,
          0.03812971657138362,
          0.036630389446428914,
          0.024160069847337148,
          0.023650602612273523,
          0.02347171010821277,
          0.023323024150845594,
          0.020970739768604495,
          0.019145297281575137,
          0.018417093138771656,
          0.018330765573883103,
          0.01683117088480226,
          0.016593698715333262,
          0.01593606065464089,
          0.015856098676158177,
          0.014027441441677137,
          0.013366745743681139,
          0.013351918491273918,
          0.012665519240211231,
          0.0113652766554563,
          0.011168188712596587,
          0.010731190750714145,
          0.010425148877450309,
          0.009592614337162639,
          0.00944601518376944,
          0.009065408367957878,
          0.00903924275578324,
          0.00725580561104396,
          0.005795974047466502
         ],
         "y": [
          "url_extensions",
          "url_length",
          "total_count",
          "url_char_w",
          "url_char_.",
          "a_href_out_of_domain",
          "http_header_content-encoding_gzip",
          "meta_count",
          "p_count",
          "url_char_z",
          "a_href_relative",
          "http_header_server_apache",
          "push",
          "url_char_i",
          "link_type_text/css",
          "img_src_http",
          "a_href_https",
          "url_extension_.com",
          "total_href",
          "url_char_y",
          "http_header_cache-control_set_max-age",
          "url_char_l",
          "http_header_vary_user-agent",
          "form_action_http",
          "script_async_true",
          "http_header_transfer-encoding_chunked",
          "link_href_out_of_domain",
          "url_char_f",
          "a_count",
          "a_href_http",
          "http_header_via_1.1",
          "url_char_p",
          "center_count",
          "iframe_src_.html"
         ]
        }
       ],
       "layout": {
        "autosize": false,
        "height": 1000,
        "width": 1000,
        "xaxis": {
         "tickfont": {
          "color": "black",
          "size": 12
         },
         "title": "Feature Importances"
        },
        "yaxis": {
         "automargin": true
        }
       }
      },
      "text/html": [
       "<div id=\"9b5ce316-4a8e-4c5c-a5b2-5c2f4b0a2878\" style=\"height: 1000px; width: 1000px;\" class=\"plotly-graph-div\"></div><script type=\"text/javascript\">require([\"plotly\"], function(Plotly) { window.PLOTLYENV=window.PLOTLYENV || {};window.PLOTLYENV.BASE_URL=\"https://plot.ly\";Plotly.newPlot(\"9b5ce316-4a8e-4c5c-a5b2-5c2f4b0a2878\", [{\"marker\": {\"color\": \"rgb(158,202,225)\", \"line\": {\"color\": \"rgb(8,48,107)\", \"width\": 1.5}}, \"opacity\": 0.6, \"orientation\": \"h\", \"text\": [0.128, 0.1221, 0.1213, 0.0813, 0.0471, 0.0413, 0.0381, 0.0366, 0.0242, 0.0237, 0.0235, 0.0233, 0.021, 0.0191, 0.0184, 0.0183, 0.0168, 0.0166, 0.0159, 0.0159, 0.014, 0.0134, 0.0134, 0.0127, 0.0114, 0.0112, 0.0107, 0.0104, 0.0096, 0.0094, 0.0091, 0.009, 0.0073, 0.0058], \"textposition\": \"outside\", \"x\": [0.1280252254718684, 0.12214238150583578, 0.12129881985738349, 0.08132551865966199, 0.047115517779411455, 0.04134960723998187, 0.03812971657138362, 0.036630389446428914, 0.024160069847337148, 0.023650602612273523, 0.02347171010821277, 0.023323024150845594, 0.020970739768604495, 0.019145297281575137, 0.018417093138771656, 0.018330765573883103, 0.01683117088480226, 0.016593698715333262, 0.01593606065464089, 0.015856098676158177, 0.014027441441677137, 0.013366745743681139, 0.013351918491273918, 0.012665519240211231, 0.0113652766554563, 0.011168188712596587, 0.010731190750714145, 0.010425148877450309, 0.009592614337162639, 0.00944601518376944, 0.009065408367957878, 0.00903924275578324, 0.00725580561104396, 0.005795974047466502], \"y\": [\"url_extensions\", \"url_length\", \"total_count\", \"url_char_w\", \"url_char_.\", \"a_href_out_of_domain\", \"http_header_content-encoding_gzip\", \"meta_count\", \"p_count\", \"url_char_z\", \"a_href_relative\", \"http_header_server_apache\", \"push\", \"url_char_i\", \"link_type_text/css\", \"img_src_http\", \"a_href_https\", \"url_extension_.com\", \"total_href\", \"url_char_y\", \"http_header_cache-control_set_max-age\", \"url_char_l\", \"http_header_vary_user-agent\", \"form_action_http\", \"script_async_true\", \"http_header_transfer-encoding_chunked\", \"link_href_out_of_domain\", \"url_char_f\", \"a_count\", \"a_href_http\", \"http_header_via_1.1\", \"url_char_p\", \"center_count\", \"iframe_src_.html\"], \"type\": \"bar\", \"uid\": \"ee1026d8-a5fc-4fa1-8834-35b5c7198b12\"}], {\"autosize\": false, \"height\": 1000, \"width\": 1000, \"xaxis\": {\"tickfont\": {\"color\": \"black\", \"size\": 12}, \"title\": \"Feature Importances\"}, \"yaxis\": {\"automargin\": true}}, {\"showLink\": true, \"linkText\": \"Export to plot.ly\", \"plotlyServerURL\": \"https://plot.ly\"})});</script>"
      ],
      "text/vnd.plotly.v1+html": [
       "<div id=\"9b5ce316-4a8e-4c5c-a5b2-5c2f4b0a2878\" style=\"height: 1000px; width: 1000px;\" class=\"plotly-graph-div\"></div><script type=\"text/javascript\">require([\"plotly\"], function(Plotly) { window.PLOTLYENV=window.PLOTLYENV || {};window.PLOTLYENV.BASE_URL=\"https://plot.ly\";Plotly.newPlot(\"9b5ce316-4a8e-4c5c-a5b2-5c2f4b0a2878\", [{\"marker\": {\"color\": \"rgb(158,202,225)\", \"line\": {\"color\": \"rgb(8,48,107)\", \"width\": 1.5}}, \"opacity\": 0.6, \"orientation\": \"h\", \"text\": [0.128, 0.1221, 0.1213, 0.0813, 0.0471, 0.0413, 0.0381, 0.0366, 0.0242, 0.0237, 0.0235, 0.0233, 0.021, 0.0191, 0.0184, 0.0183, 0.0168, 0.0166, 0.0159, 0.0159, 0.014, 0.0134, 0.0134, 0.0127, 0.0114, 0.0112, 0.0107, 0.0104, 0.0096, 0.0094, 0.0091, 0.009, 0.0073, 0.0058], \"textposition\": \"outside\", \"x\": [0.1280252254718684, 0.12214238150583578, 0.12129881985738349, 0.08132551865966199, 0.047115517779411455, 0.04134960723998187, 0.03812971657138362, 0.036630389446428914, 0.024160069847337148, 0.023650602612273523, 0.02347171010821277, 0.023323024150845594, 0.020970739768604495, 0.019145297281575137, 0.018417093138771656, 0.018330765573883103, 0.01683117088480226, 0.016593698715333262, 0.01593606065464089, 0.015856098676158177, 0.014027441441677137, 0.013366745743681139, 0.013351918491273918, 0.012665519240211231, 0.0113652766554563, 0.011168188712596587, 0.010731190750714145, 0.010425148877450309, 0.009592614337162639, 0.00944601518376944, 0.009065408367957878, 0.00903924275578324, 0.00725580561104396, 0.005795974047466502], \"y\": [\"url_extensions\", \"url_length\", \"total_count\", \"url_char_w\", \"url_char_.\", \"a_href_out_of_domain\", \"http_header_content-encoding_gzip\", \"meta_count\", \"p_count\", \"url_char_z\", \"a_href_relative\", \"http_header_server_apache\", \"push\", \"url_char_i\", \"link_type_text/css\", \"img_src_http\", \"a_href_https\", \"url_extension_.com\", \"total_href\", \"url_char_y\", \"http_header_cache-control_set_max-age\", \"url_char_l\", \"http_header_vary_user-agent\", \"form_action_http\", \"script_async_true\", \"http_header_transfer-encoding_chunked\", \"link_href_out_of_domain\", \"url_char_f\", \"a_count\", \"a_href_http\", \"http_header_via_1.1\", \"url_char_p\", \"center_count\", \"iframe_src_.html\"], \"type\": \"bar\", \"uid\": \"ee1026d8-a5fc-4fa1-8834-35b5c7198b12\"}], {\"autosize\": false, \"height\": 1000, \"width\": 1000, \"xaxis\": {\"tickfont\": {\"color\": \"black\", \"size\": 12}, \"title\": \"Feature Importances\"}, \"yaxis\": {\"automargin\": true}}, {\"showLink\": true, \"linkText\": \"Export to plot.ly\", \"plotlyServerURL\": \"https://plot.ly\"})});</script>"
      ]
     },
     "metadata": {},
     "output_type": "display_data"
    }
   ],
   "source": [
    "feat_impt_plot(np.average(feat_imp,axis=0),columns)"
   ]
  },
  {
   "cell_type": "markdown",
   "metadata": {},
   "source": [
    "### <a id='2' style=\"text-decoration : none; color : #000000;\"> 2. OverSampling </a>"
   ]
  },
  {
   "cell_type": "code",
   "execution_count": 12,
   "metadata": {
    "scrolled": false
   },
   "outputs": [
    {
     "name": "stdout",
     "output_type": "stream",
     "text": [
      "\u001b[1mK-Nearest Neighbors\u001b[0m\n",
      "Accuracy of the model for training data is: 0.9808032227566079\n",
      "Confusion Matrix for training data is:\n"
     ]
    },
    {
     "data": {
      "text/plain": [
       "Predicted  False   True  __all__\n",
       "Actual                          \n",
       "False      23502    825    24327\n",
       "True         109  24218    24327\n",
       "__all__    23611  25043    48654"
      ]
     },
     "metadata": {},
     "output_type": "display_data"
    },
    {
     "name": "stdout",
     "output_type": "stream",
     "text": [
      "Accuracy of the model for test data is: 0.9456401531263292\n",
      "Confusion Matrix for test data is:\n"
     ]
    },
    {
     "data": {
      "text/plain": [
       "Predicted  False  True  __all__\n",
       "Actual                         \n",
       "False       9903   512    10415\n",
       "True         127  1213     1340\n",
       "__all__    10030  1725    11755"
      ]
     },
     "metadata": {},
     "output_type": "display_data"
    },
    {
     "name": "stdout",
     "output_type": "stream",
     "text": [
      "\n",
      "\n",
      "\u001b[1mRandomForest Classifier\u001b[0m\n",
      "Accuracy of the model for training data is: 0.9982529699510831\n",
      "Confusion Matrix for training data is:\n"
     ]
    },
    {
     "data": {
      "text/plain": [
       "Predicted  False   True  __all__\n",
       "Actual                          \n",
       "False      24291     36    24327\n",
       "True          49  24278    24327\n",
       "__all__    24340  24314    48654"
      ]
     },
     "metadata": {},
     "output_type": "display_data"
    },
    {
     "name": "stdout",
     "output_type": "stream",
     "text": [
      "Accuracy of the model for test data is: 0.9760102084219481\n",
      "Confusion Matrix for test data is:\n"
     ]
    },
    {
     "data": {
      "text/plain": [
       "Predicted  False  True  __all__\n",
       "Actual                         \n",
       "False      10306   109    10415\n",
       "True         173  1167     1340\n",
       "__all__    10479  1276    11755"
      ]
     },
     "metadata": {},
     "output_type": "display_data"
    },
    {
     "data": {
      "application/vnd.plotly.v1+json": {
       "config": {
        "linkText": "Export to plot.ly",
        "plotlyServerURL": "https://plot.ly",
        "showLink": true
       },
       "data": [
        {
         "marker": {
          "color": "rgb(158,202,225)",
          "line": {
           "color": "rgb(8,48,107)",
           "width": 1.5
          }
         },
         "opacity": 0.6,
         "orientation": "h",
         "text": [
          0.1745,
          0.1277,
          0.0726,
          0.0692,
          0.0686,
          0.0653,
          0.062,
          0.0549,
          0.049,
          0.036,
          0.0343,
          0.0196,
          0.0181,
          0.0122,
          0.0114,
          0.0114,
          0.0109,
          0.0098,
          0.0096,
          0.0093,
          0.0086,
          0.0082,
          0.0077,
          0.0072,
          0.0072,
          0.0071,
          0.006,
          0.0051,
          0.0049,
          0.0046,
          0.0025,
          0.0022,
          0.0021,
          0.0003
         ],
         "textposition": "outside",
         "type": "bar",
         "uid": "179a42ce-a71e-4c07-8a57-013416da504e",
         "x": [
          0.1744764149427126,
          0.12768884118755922,
          0.07262341552751103,
          0.06919143021352368,
          0.06856253291486515,
          0.06527819617645168,
          0.06197616596161941,
          0.05491718899130753,
          0.04897753989943224,
          0.03602939063017171,
          0.0343228685376382,
          0.019563065401926923,
          0.018078792671265425,
          0.01216723232699955,
          0.011423459032799798,
          0.011392788454622863,
          0.01092347192420995,
          0.009847966629134569,
          0.009635279162559544,
          0.009257159299768378,
          0.008578571835767898,
          0.00816130112381258,
          0.0076983641070963995,
          0.007241479442308913,
          0.007177727748154134,
          0.007104696308862435,
          0.00598785724347961,
          0.00507379850143617,
          0.004923326771365161,
          0.004627539384170997,
          0.0024737333865731312,
          0.002155222513979735,
          0.0021328466892756247,
          0.00033033505763793426
         ],
         "y": [
          "meta_count",
          "total_count",
          "a_count",
          "link_type_text/css",
          "a_href_relative",
          "url_length",
          "link_href_out_of_domain",
          "url_extensions",
          "script_async_true",
          "url_char_w",
          "url_char_.",
          "total_href",
          "url_char_i",
          "http_header_server_apache",
          "http_header_transfer-encoding_chunked",
          "url_char_l",
          "http_header_content-encoding_gzip",
          "a_href_https",
          "push",
          "url_extension_.com",
          "url_char_z",
          "a_href_out_of_domain",
          "a_href_http",
          "url_char_p",
          "p_count",
          "http_header_cache-control_set_max-age",
          "img_src_http",
          "http_header_vary_user-agent",
          "url_char_f",
          "url_char_y",
          "form_action_http",
          "center_count",
          "http_header_via_1.1",
          "iframe_src_.html"
         ]
        }
       ],
       "layout": {
        "autosize": false,
        "height": 1000,
        "width": 1000,
        "xaxis": {
         "tickfont": {
          "color": "black",
          "size": 12
         },
         "title": "Feature Importances"
        },
        "yaxis": {
         "automargin": true
        }
       }
      },
      "text/html": [
       "<div id=\"7b0883f8-52b9-4a97-b0d2-d8d1e66a9eca\" style=\"height: 1000px; width: 1000px;\" class=\"plotly-graph-div\"></div><script type=\"text/javascript\">require([\"plotly\"], function(Plotly) { window.PLOTLYENV=window.PLOTLYENV || {};window.PLOTLYENV.BASE_URL=\"https://plot.ly\";Plotly.newPlot(\"7b0883f8-52b9-4a97-b0d2-d8d1e66a9eca\", [{\"marker\": {\"color\": \"rgb(158,202,225)\", \"line\": {\"color\": \"rgb(8,48,107)\", \"width\": 1.5}}, \"opacity\": 0.6, \"orientation\": \"h\", \"text\": [0.1745, 0.1277, 0.0726, 0.0692, 0.0686, 0.0653, 0.062, 0.0549, 0.049, 0.036, 0.0343, 0.0196, 0.0181, 0.0122, 0.0114, 0.0114, 0.0109, 0.0098, 0.0096, 0.0093, 0.0086, 0.0082, 0.0077, 0.0072, 0.0072, 0.0071, 0.006, 0.0051, 0.0049, 0.0046, 0.0025, 0.0022, 0.0021, 0.0003], \"textposition\": \"outside\", \"x\": [0.1744764149427126, 0.12768884118755922, 0.07262341552751103, 0.06919143021352368, 0.06856253291486515, 0.06527819617645168, 0.06197616596161941, 0.05491718899130753, 0.04897753989943224, 0.03602939063017171, 0.0343228685376382, 0.019563065401926923, 0.018078792671265425, 0.01216723232699955, 0.011423459032799798, 0.011392788454622863, 0.01092347192420995, 0.009847966629134569, 0.009635279162559544, 0.009257159299768378, 0.008578571835767898, 0.00816130112381258, 0.0076983641070963995, 0.007241479442308913, 0.007177727748154134, 0.007104696308862435, 0.00598785724347961, 0.00507379850143617, 0.004923326771365161, 0.004627539384170997, 0.0024737333865731312, 0.002155222513979735, 0.0021328466892756247, 0.00033033505763793426], \"y\": [\"meta_count\", \"total_count\", \"a_count\", \"link_type_text/css\", \"a_href_relative\", \"url_length\", \"link_href_out_of_domain\", \"url_extensions\", \"script_async_true\", \"url_char_w\", \"url_char_.\", \"total_href\", \"url_char_i\", \"http_header_server_apache\", \"http_header_transfer-encoding_chunked\", \"url_char_l\", \"http_header_content-encoding_gzip\", \"a_href_https\", \"push\", \"url_extension_.com\", \"url_char_z\", \"a_href_out_of_domain\", \"a_href_http\", \"url_char_p\", \"p_count\", \"http_header_cache-control_set_max-age\", \"img_src_http\", \"http_header_vary_user-agent\", \"url_char_f\", \"url_char_y\", \"form_action_http\", \"center_count\", \"http_header_via_1.1\", \"iframe_src_.html\"], \"type\": \"bar\", \"uid\": \"179a42ce-a71e-4c07-8a57-013416da504e\"}], {\"autosize\": false, \"height\": 1000, \"width\": 1000, \"xaxis\": {\"tickfont\": {\"color\": \"black\", \"size\": 12}, \"title\": \"Feature Importances\"}, \"yaxis\": {\"automargin\": true}}, {\"showLink\": true, \"linkText\": \"Export to plot.ly\", \"plotlyServerURL\": \"https://plot.ly\"})});</script>"
      ],
      "text/vnd.plotly.v1+html": [
       "<div id=\"7b0883f8-52b9-4a97-b0d2-d8d1e66a9eca\" style=\"height: 1000px; width: 1000px;\" class=\"plotly-graph-div\"></div><script type=\"text/javascript\">require([\"plotly\"], function(Plotly) { window.PLOTLYENV=window.PLOTLYENV || {};window.PLOTLYENV.BASE_URL=\"https://plot.ly\";Plotly.newPlot(\"7b0883f8-52b9-4a97-b0d2-d8d1e66a9eca\", [{\"marker\": {\"color\": \"rgb(158,202,225)\", \"line\": {\"color\": \"rgb(8,48,107)\", \"width\": 1.5}}, \"opacity\": 0.6, \"orientation\": \"h\", \"text\": [0.1745, 0.1277, 0.0726, 0.0692, 0.0686, 0.0653, 0.062, 0.0549, 0.049, 0.036, 0.0343, 0.0196, 0.0181, 0.0122, 0.0114, 0.0114, 0.0109, 0.0098, 0.0096, 0.0093, 0.0086, 0.0082, 0.0077, 0.0072, 0.0072, 0.0071, 0.006, 0.0051, 0.0049, 0.0046, 0.0025, 0.0022, 0.0021, 0.0003], \"textposition\": \"outside\", \"x\": [0.1744764149427126, 0.12768884118755922, 0.07262341552751103, 0.06919143021352368, 0.06856253291486515, 0.06527819617645168, 0.06197616596161941, 0.05491718899130753, 0.04897753989943224, 0.03602939063017171, 0.0343228685376382, 0.019563065401926923, 0.018078792671265425, 0.01216723232699955, 0.011423459032799798, 0.011392788454622863, 0.01092347192420995, 0.009847966629134569, 0.009635279162559544, 0.009257159299768378, 0.008578571835767898, 0.00816130112381258, 0.0076983641070963995, 0.007241479442308913, 0.007177727748154134, 0.007104696308862435, 0.00598785724347961, 0.00507379850143617, 0.004923326771365161, 0.004627539384170997, 0.0024737333865731312, 0.002155222513979735, 0.0021328466892756247, 0.00033033505763793426], \"y\": [\"meta_count\", \"total_count\", \"a_count\", \"link_type_text/css\", \"a_href_relative\", \"url_length\", \"link_href_out_of_domain\", \"url_extensions\", \"script_async_true\", \"url_char_w\", \"url_char_.\", \"total_href\", \"url_char_i\", \"http_header_server_apache\", \"http_header_transfer-encoding_chunked\", \"url_char_l\", \"http_header_content-encoding_gzip\", \"a_href_https\", \"push\", \"url_extension_.com\", \"url_char_z\", \"a_href_out_of_domain\", \"a_href_http\", \"url_char_p\", \"p_count\", \"http_header_cache-control_set_max-age\", \"img_src_http\", \"http_header_vary_user-agent\", \"url_char_f\", \"url_char_y\", \"form_action_http\", \"center_count\", \"http_header_via_1.1\", \"iframe_src_.html\"], \"type\": \"bar\", \"uid\": \"179a42ce-a71e-4c07-8a57-013416da504e\"}], {\"autosize\": false, \"height\": 1000, \"width\": 1000, \"xaxis\": {\"tickfont\": {\"color\": \"black\", \"size\": 12}, \"title\": \"Feature Importances\"}, \"yaxis\": {\"automargin\": true}}, {\"showLink\": true, \"linkText\": \"Export to plot.ly\", \"plotlyServerURL\": \"https://plot.ly\"})});</script>"
      ]
     },
     "metadata": {},
     "output_type": "display_data"
    },
    {
     "name": "stdout",
     "output_type": "stream",
     "text": [
      "\n",
      "\n",
      "\u001b[1mAdaoost Classifier\u001b[0m\n",
      "Accuracy of the model for training data is: 0.9591811567394253\n",
      "Confusion Matrix for training data is:\n"
     ]
    },
    {
     "data": {
      "text/plain": [
       "Predicted  False   True  __all__\n",
       "Actual                          \n",
       "False      23269   1058    24327\n",
       "True         928  23399    24327\n",
       "__all__    24197  24457    48654"
      ]
     },
     "metadata": {},
     "output_type": "display_data"
    },
    {
     "name": "stdout",
     "output_type": "stream",
     "text": [
      "Accuracy of the model for test data is: 0.952190557209698\n",
      "Confusion Matrix for test data is:\n"
     ]
    },
    {
     "data": {
      "text/plain": [
       "Predicted  False  True  __all__\n",
       "Actual                         \n",
       "False       9953   462    10415\n",
       "True         100  1240     1340\n",
       "__all__    10053  1702    11755"
      ]
     },
     "metadata": {},
     "output_type": "display_data"
    },
    {
     "data": {
      "application/vnd.plotly.v1+json": {
       "config": {
        "linkText": "Export to plot.ly",
        "plotlyServerURL": "https://plot.ly",
        "showLink": true
       },
       "data": [
        {
         "marker": {
          "color": "rgb(158,202,225)",
          "line": {
           "color": "rgb(8,48,107)",
           "width": 1.5
          }
         },
         "opacity": 0.6,
         "orientation": "h",
         "text": [
          0.14,
          0.12,
          0.12,
          0.1,
          0.04,
          0.04,
          0.04,
          0.04,
          0.04,
          0.04,
          0.02,
          0.02,
          0.02,
          0.02,
          0.02,
          0.02,
          0.02,
          0.02,
          0.02,
          0.02,
          0.02,
          0.02,
          0.02,
          0.02,
          0,
          0,
          0,
          0,
          0,
          0,
          0,
          0,
          0,
          0
         ],
         "textposition": "outside",
         "type": "bar",
         "uid": "57c35e9a-ee6e-4e48-8e29-e5633b2a3c7b",
         "x": [
          0.14,
          0.12,
          0.12,
          0.1,
          0.04,
          0.04,
          0.04,
          0.04,
          0.04,
          0.04,
          0.02,
          0.02,
          0.02,
          0.02,
          0.02,
          0.02,
          0.02,
          0.02,
          0.02,
          0.02,
          0.02,
          0.02,
          0.02,
          0.02,
          0,
          0,
          0,
          0,
          0,
          0,
          0,
          0,
          0,
          0
         ],
         "y": [
          "url_extensions",
          "url_char_l",
          "total_count",
          "url_length",
          "img_src_http",
          "url_char_w",
          "url_char_i",
          "p_count",
          "link_type_text/css",
          "http_header_cache-control_set_max-age",
          "link_href_out_of_domain",
          "http_header_server_apache",
          "url_extension_.com",
          "url_char_z",
          "a_href_https",
          "a_href_out_of_domain",
          "url_char_f",
          "iframe_src_.html",
          "http_header_vary_user-agent",
          "http_header_via_1.1",
          "http_header_content-encoding_gzip",
          "center_count",
          "meta_count",
          "push",
          "http_header_transfer-encoding_chunked",
          "a_count",
          "url_char_.",
          "total_href",
          "a_href_relative",
          "url_char_p",
          "script_async_true",
          "url_char_y",
          "form_action_http",
          "a_href_http"
         ]
        }
       ],
       "layout": {
        "autosize": false,
        "height": 1000,
        "width": 1000,
        "xaxis": {
         "tickfont": {
          "color": "black",
          "size": 12
         },
         "title": "Feature Importances"
        },
        "yaxis": {
         "automargin": true
        }
       }
      },
      "text/html": [
       "<div id=\"289717ca-8fc2-4d25-8e47-f9e818d560b0\" style=\"height: 1000px; width: 1000px;\" class=\"plotly-graph-div\"></div><script type=\"text/javascript\">require([\"plotly\"], function(Plotly) { window.PLOTLYENV=window.PLOTLYENV || {};window.PLOTLYENV.BASE_URL=\"https://plot.ly\";Plotly.newPlot(\"289717ca-8fc2-4d25-8e47-f9e818d560b0\", [{\"marker\": {\"color\": \"rgb(158,202,225)\", \"line\": {\"color\": \"rgb(8,48,107)\", \"width\": 1.5}}, \"opacity\": 0.6, \"orientation\": \"h\", \"text\": [0.14, 0.12, 0.12, 0.1, 0.04, 0.04, 0.04, 0.04, 0.04, 0.04, 0.02, 0.02, 0.02, 0.02, 0.02, 0.02, 0.02, 0.02, 0.02, 0.02, 0.02, 0.02, 0.02, 0.02, 0.0, 0.0, 0.0, 0.0, 0.0, 0.0, 0.0, 0.0, 0.0, 0.0], \"textposition\": \"outside\", \"x\": [0.14, 0.12, 0.12, 0.1, 0.04, 0.04, 0.04, 0.04, 0.04, 0.04, 0.02, 0.02, 0.02, 0.02, 0.02, 0.02, 0.02, 0.02, 0.02, 0.02, 0.02, 0.02, 0.02, 0.02, 0.0, 0.0, 0.0, 0.0, 0.0, 0.0, 0.0, 0.0, 0.0, 0.0], \"y\": [\"url_extensions\", \"url_char_l\", \"total_count\", \"url_length\", \"img_src_http\", \"url_char_w\", \"url_char_i\", \"p_count\", \"link_type_text/css\", \"http_header_cache-control_set_max-age\", \"link_href_out_of_domain\", \"http_header_server_apache\", \"url_extension_.com\", \"url_char_z\", \"a_href_https\", \"a_href_out_of_domain\", \"url_char_f\", \"iframe_src_.html\", \"http_header_vary_user-agent\", \"http_header_via_1.1\", \"http_header_content-encoding_gzip\", \"center_count\", \"meta_count\", \"push\", \"http_header_transfer-encoding_chunked\", \"a_count\", \"url_char_.\", \"total_href\", \"a_href_relative\", \"url_char_p\", \"script_async_true\", \"url_char_y\", \"form_action_http\", \"a_href_http\"], \"type\": \"bar\", \"uid\": \"57c35e9a-ee6e-4e48-8e29-e5633b2a3c7b\"}], {\"autosize\": false, \"height\": 1000, \"width\": 1000, \"xaxis\": {\"tickfont\": {\"color\": \"black\", \"size\": 12}, \"title\": \"Feature Importances\"}, \"yaxis\": {\"automargin\": true}}, {\"showLink\": true, \"linkText\": \"Export to plot.ly\", \"plotlyServerURL\": \"https://plot.ly\"})});</script>"
      ],
      "text/vnd.plotly.v1+html": [
       "<div id=\"289717ca-8fc2-4d25-8e47-f9e818d560b0\" style=\"height: 1000px; width: 1000px;\" class=\"plotly-graph-div\"></div><script type=\"text/javascript\">require([\"plotly\"], function(Plotly) { window.PLOTLYENV=window.PLOTLYENV || {};window.PLOTLYENV.BASE_URL=\"https://plot.ly\";Plotly.newPlot(\"289717ca-8fc2-4d25-8e47-f9e818d560b0\", [{\"marker\": {\"color\": \"rgb(158,202,225)\", \"line\": {\"color\": \"rgb(8,48,107)\", \"width\": 1.5}}, \"opacity\": 0.6, \"orientation\": \"h\", \"text\": [0.14, 0.12, 0.12, 0.1, 0.04, 0.04, 0.04, 0.04, 0.04, 0.04, 0.02, 0.02, 0.02, 0.02, 0.02, 0.02, 0.02, 0.02, 0.02, 0.02, 0.02, 0.02, 0.02, 0.02, 0.0, 0.0, 0.0, 0.0, 0.0, 0.0, 0.0, 0.0, 0.0, 0.0], \"textposition\": \"outside\", \"x\": [0.14, 0.12, 0.12, 0.1, 0.04, 0.04, 0.04, 0.04, 0.04, 0.04, 0.02, 0.02, 0.02, 0.02, 0.02, 0.02, 0.02, 0.02, 0.02, 0.02, 0.02, 0.02, 0.02, 0.02, 0.0, 0.0, 0.0, 0.0, 0.0, 0.0, 0.0, 0.0, 0.0, 0.0], \"y\": [\"url_extensions\", \"url_char_l\", \"total_count\", \"url_length\", \"img_src_http\", \"url_char_w\", \"url_char_i\", \"p_count\", \"link_type_text/css\", \"http_header_cache-control_set_max-age\", \"link_href_out_of_domain\", \"http_header_server_apache\", \"url_extension_.com\", \"url_char_z\", \"a_href_https\", \"a_href_out_of_domain\", \"url_char_f\", \"iframe_src_.html\", \"http_header_vary_user-agent\", \"http_header_via_1.1\", \"http_header_content-encoding_gzip\", \"center_count\", \"meta_count\", \"push\", \"http_header_transfer-encoding_chunked\", \"a_count\", \"url_char_.\", \"total_href\", \"a_href_relative\", \"url_char_p\", \"script_async_true\", \"url_char_y\", \"form_action_http\", \"a_href_http\"], \"type\": \"bar\", \"uid\": \"57c35e9a-ee6e-4e48-8e29-e5633b2a3c7b\"}], {\"autosize\": false, \"height\": 1000, \"width\": 1000, \"xaxis\": {\"tickfont\": {\"color\": \"black\", \"size\": 12}, \"title\": \"Feature Importances\"}, \"yaxis\": {\"automargin\": true}}, {\"showLink\": true, \"linkText\": \"Export to plot.ly\", \"plotlyServerURL\": \"https://plot.ly\"})});</script>"
      ]
     },
     "metadata": {},
     "output_type": "display_data"
    },
    {
     "name": "stdout",
     "output_type": "stream",
     "text": [
      "\n",
      "\n",
      "\u001b[1mGradientBoosting Classifier\u001b[0m\n",
      "Accuracy of the model for training data is: 0.9724585851111933\n",
      "Confusion Matrix for training data is:\n"
     ]
    },
    {
     "data": {
      "text/plain": [
       "Predicted  False   True  __all__\n",
       "Actual                          \n",
       "False      23665    662    24327\n",
       "True         678  23649    24327\n",
       "__all__    24343  24311    48654"
      ]
     },
     "metadata": {},
     "output_type": "display_data"
    },
    {
     "name": "stdout",
     "output_type": "stream",
     "text": [
      "Accuracy of the model for test data is: 0.9630795406210123\n",
      "Confusion Matrix for test data is:\n"
     ]
    },
    {
     "data": {
      "text/plain": [
       "Predicted  False  True  __all__\n",
       "Actual                         \n",
       "False      10111   304    10415\n",
       "True         130  1210     1340\n",
       "__all__    10241  1514    11755"
      ]
     },
     "metadata": {},
     "output_type": "display_data"
    },
    {
     "data": {
      "application/vnd.plotly.v1+json": {
       "config": {
        "linkText": "Export to plot.ly",
        "plotlyServerURL": "https://plot.ly",
        "showLink": true
       },
       "data": [
        {
         "marker": {
          "color": "rgb(158,202,225)",
          "line": {
           "color": "rgb(8,48,107)",
           "width": 1.5
          }
         },
         "opacity": 0.6,
         "orientation": "h",
         "text": [
          0.3396,
          0.1726,
          0.0896,
          0.072,
          0.0675,
          0.0606,
          0.0409,
          0.0269,
          0.0207,
          0.0149,
          0.0143,
          0.013,
          0.0123,
          0.0083,
          0.007,
          0.0064,
          0.0059,
          0.0041,
          0.004,
          0.0031,
          0.0023,
          0.0018,
          0.0018,
          0.0017,
          0.0017,
          0.0017,
          0.0015,
          0.0012,
          0.0011,
          0.0009,
          0.0002,
          0.0002,
          0.0002,
          0.0001
         ],
         "textposition": "outside",
         "type": "bar",
         "uid": "7418c30f-620a-4aac-b371-3bf92b6fbe74",
         "x": [
          0.3395515187107759,
          0.17257153071853573,
          0.08957870079317679,
          0.07195770218747671,
          0.06746350027858304,
          0.06063293883400118,
          0.040920025788455314,
          0.0268591321765486,
          0.020681745700183565,
          0.01491474490116553,
          0.014262758180641764,
          0.013022066165411786,
          0.01228202975186236,
          0.008325225463261058,
          0.00700950174270693,
          0.0064187894846141355,
          0.005909300062171579,
          0.004131684759799563,
          0.003970092189409816,
          0.003122169475367582,
          0.0022957400313915162,
          0.0017902467189879784,
          0.0017619189520026296,
          0.001717277733470918,
          0.0016924623826651576,
          0.0016881956616403525,
          0.0015069018483180369,
          0.0011635666445222027,
          0.0011077398799873843,
          0.0009302729946412502,
          0.00024902871613473803,
          0.00024135800222431535,
          0.0002200073180195058,
          5.012575184519668e-05
         ],
         "y": [
          "total_count",
          "total_href",
          "url_length",
          "url_char_w",
          "meta_count",
          "url_extensions",
          "link_href_out_of_domain",
          "a_href_out_of_domain",
          "url_char_z",
          "http_header_content-encoding_gzip",
          "push",
          "http_header_server_apache",
          "url_char_i",
          "url_char_.",
          "url_extension_.com",
          "http_header_vary_user-agent",
          "http_header_cache-control_set_max-age",
          "img_src_http",
          "a_href_https",
          "a_count",
          "http_header_via_1.1",
          "url_char_l",
          "script_async_true",
          "link_type_text/css",
          "http_header_transfer-encoding_chunked",
          "center_count",
          "p_count",
          "url_char_f",
          "form_action_http",
          "a_href_relative",
          "a_href_http",
          "url_char_y",
          "url_char_p",
          "iframe_src_.html"
         ]
        }
       ],
       "layout": {
        "autosize": false,
        "height": 1000,
        "width": 1000,
        "xaxis": {
         "tickfont": {
          "color": "black",
          "size": 12
         },
         "title": "Feature Importances"
        },
        "yaxis": {
         "automargin": true
        }
       }
      },
      "text/html": [
       "<div id=\"1b7a6aef-7d37-47d0-892a-b3b51e8a53b0\" style=\"height: 1000px; width: 1000px;\" class=\"plotly-graph-div\"></div><script type=\"text/javascript\">require([\"plotly\"], function(Plotly) { window.PLOTLYENV=window.PLOTLYENV || {};window.PLOTLYENV.BASE_URL=\"https://plot.ly\";Plotly.newPlot(\"1b7a6aef-7d37-47d0-892a-b3b51e8a53b0\", [{\"marker\": {\"color\": \"rgb(158,202,225)\", \"line\": {\"color\": \"rgb(8,48,107)\", \"width\": 1.5}}, \"opacity\": 0.6, \"orientation\": \"h\", \"text\": [0.3396, 0.1726, 0.0896, 0.072, 0.0675, 0.0606, 0.0409, 0.0269, 0.0207, 0.0149, 0.0143, 0.013, 0.0123, 0.0083, 0.007, 0.0064, 0.0059, 0.0041, 0.004, 0.0031, 0.0023, 0.0018, 0.0018, 0.0017, 0.0017, 0.0017, 0.0015, 0.0012, 0.0011, 0.0009, 0.0002, 0.0002, 0.0002, 0.0001], \"textposition\": \"outside\", \"x\": [0.3395515187107759, 0.17257153071853573, 0.08957870079317679, 0.07195770218747671, 0.06746350027858304, 0.06063293883400118, 0.040920025788455314, 0.0268591321765486, 0.020681745700183565, 0.01491474490116553, 0.014262758180641764, 0.013022066165411786, 0.01228202975186236, 0.008325225463261058, 0.00700950174270693, 0.0064187894846141355, 0.005909300062171579, 0.004131684759799563, 0.003970092189409816, 0.003122169475367582, 0.0022957400313915162, 0.0017902467189879784, 0.0017619189520026296, 0.001717277733470918, 0.0016924623826651576, 0.0016881956616403525, 0.0015069018483180369, 0.0011635666445222027, 0.0011077398799873843, 0.0009302729946412502, 0.00024902871613473803, 0.00024135800222431535, 0.0002200073180195058, 5.012575184519668e-05], \"y\": [\"total_count\", \"total_href\", \"url_length\", \"url_char_w\", \"meta_count\", \"url_extensions\", \"link_href_out_of_domain\", \"a_href_out_of_domain\", \"url_char_z\", \"http_header_content-encoding_gzip\", \"push\", \"http_header_server_apache\", \"url_char_i\", \"url_char_.\", \"url_extension_.com\", \"http_header_vary_user-agent\", \"http_header_cache-control_set_max-age\", \"img_src_http\", \"a_href_https\", \"a_count\", \"http_header_via_1.1\", \"url_char_l\", \"script_async_true\", \"link_type_text/css\", \"http_header_transfer-encoding_chunked\", \"center_count\", \"p_count\", \"url_char_f\", \"form_action_http\", \"a_href_relative\", \"a_href_http\", \"url_char_y\", \"url_char_p\", \"iframe_src_.html\"], \"type\": \"bar\", \"uid\": \"7418c30f-620a-4aac-b371-3bf92b6fbe74\"}], {\"autosize\": false, \"height\": 1000, \"width\": 1000, \"xaxis\": {\"tickfont\": {\"color\": \"black\", \"size\": 12}, \"title\": \"Feature Importances\"}, \"yaxis\": {\"automargin\": true}}, {\"showLink\": true, \"linkText\": \"Export to plot.ly\", \"plotlyServerURL\": \"https://plot.ly\"})});</script>"
      ],
      "text/vnd.plotly.v1+html": [
       "<div id=\"1b7a6aef-7d37-47d0-892a-b3b51e8a53b0\" style=\"height: 1000px; width: 1000px;\" class=\"plotly-graph-div\"></div><script type=\"text/javascript\">require([\"plotly\"], function(Plotly) { window.PLOTLYENV=window.PLOTLYENV || {};window.PLOTLYENV.BASE_URL=\"https://plot.ly\";Plotly.newPlot(\"1b7a6aef-7d37-47d0-892a-b3b51e8a53b0\", [{\"marker\": {\"color\": \"rgb(158,202,225)\", \"line\": {\"color\": \"rgb(8,48,107)\", \"width\": 1.5}}, \"opacity\": 0.6, \"orientation\": \"h\", \"text\": [0.3396, 0.1726, 0.0896, 0.072, 0.0675, 0.0606, 0.0409, 0.0269, 0.0207, 0.0149, 0.0143, 0.013, 0.0123, 0.0083, 0.007, 0.0064, 0.0059, 0.0041, 0.004, 0.0031, 0.0023, 0.0018, 0.0018, 0.0017, 0.0017, 0.0017, 0.0015, 0.0012, 0.0011, 0.0009, 0.0002, 0.0002, 0.0002, 0.0001], \"textposition\": \"outside\", \"x\": [0.3395515187107759, 0.17257153071853573, 0.08957870079317679, 0.07195770218747671, 0.06746350027858304, 0.06063293883400118, 0.040920025788455314, 0.0268591321765486, 0.020681745700183565, 0.01491474490116553, 0.014262758180641764, 0.013022066165411786, 0.01228202975186236, 0.008325225463261058, 0.00700950174270693, 0.0064187894846141355, 0.005909300062171579, 0.004131684759799563, 0.003970092189409816, 0.003122169475367582, 0.0022957400313915162, 0.0017902467189879784, 0.0017619189520026296, 0.001717277733470918, 0.0016924623826651576, 0.0016881956616403525, 0.0015069018483180369, 0.0011635666445222027, 0.0011077398799873843, 0.0009302729946412502, 0.00024902871613473803, 0.00024135800222431535, 0.0002200073180195058, 5.012575184519668e-05], \"y\": [\"total_count\", \"total_href\", \"url_length\", \"url_char_w\", \"meta_count\", \"url_extensions\", \"link_href_out_of_domain\", \"a_href_out_of_domain\", \"url_char_z\", \"http_header_content-encoding_gzip\", \"push\", \"http_header_server_apache\", \"url_char_i\", \"url_char_.\", \"url_extension_.com\", \"http_header_vary_user-agent\", \"http_header_cache-control_set_max-age\", \"img_src_http\", \"a_href_https\", \"a_count\", \"http_header_via_1.1\", \"url_char_l\", \"script_async_true\", \"link_type_text/css\", \"http_header_transfer-encoding_chunked\", \"center_count\", \"p_count\", \"url_char_f\", \"form_action_http\", \"a_href_relative\", \"a_href_http\", \"url_char_y\", \"url_char_p\", \"iframe_src_.html\"], \"type\": \"bar\", \"uid\": \"7418c30f-620a-4aac-b371-3bf92b6fbe74\"}], {\"autosize\": false, \"height\": 1000, \"width\": 1000, \"xaxis\": {\"tickfont\": {\"color\": \"black\", \"size\": 12}, \"title\": \"Feature Importances\"}, \"yaxis\": {\"automargin\": true}}, {\"showLink\": true, \"linkText\": \"Export to plot.ly\", \"plotlyServerURL\": \"https://plot.ly\"})});</script>"
      ]
     },
     "metadata": {},
     "output_type": "display_data"
    },
    {
     "name": "stdout",
     "output_type": "stream",
     "text": [
      "\n",
      "\n",
      "\u001b[1mExtraTree Classifier\u001b[0m\n",
      "Accuracy of the model for training data is: 0.9989517819706499\n",
      "Confusion Matrix for training data is:\n"
     ]
    },
    {
     "data": {
      "text/plain": [
       "Predicted  False   True  __all__\n",
       "Actual                          \n",
       "False      24324      3    24327\n",
       "True          48  24279    24327\n",
       "__all__    24372  24282    48654"
      ]
     },
     "metadata": {},
     "output_type": "display_data"
    },
    {
     "name": "stdout",
     "output_type": "stream",
     "text": [
      "Accuracy of the model for test data is: 0.9750744364100383\n",
      "Confusion Matrix for test data is:\n"
     ]
    },
    {
     "data": {
      "text/plain": [
       "Predicted  False  True  __all__\n",
       "Actual                         \n",
       "False      10300   115    10415\n",
       "True         178  1162     1340\n",
       "__all__    10478  1277    11755"
      ]
     },
     "metadata": {},
     "output_type": "display_data"
    },
    {
     "data": {
      "application/vnd.plotly.v1+json": {
       "config": {
        "linkText": "Export to plot.ly",
        "plotlyServerURL": "https://plot.ly",
        "showLink": true
       },
       "data": [
        {
         "marker": {
          "color": "rgb(158,202,225)",
          "line": {
           "color": "rgb(8,48,107)",
           "width": 1.5
          }
         },
         "opacity": 0.6,
         "orientation": "h",
         "text": [
          0.1804,
          0.1142,
          0.0922,
          0.0845,
          0.0516,
          0.0497,
          0.0383,
          0.0358,
          0.0258,
          0.0256,
          0.0237,
          0.023,
          0.0197,
          0.0196,
          0.0171,
          0.0156,
          0.015,
          0.014,
          0.0137,
          0.0136,
          0.0133,
          0.0126,
          0.0125,
          0.0125,
          0.0106,
          0.01,
          0.0095,
          0.0093,
          0.0088,
          0.0084,
          0.0061,
          0.0052,
          0.005,
          0.0032
         ],
         "textposition": "outside",
         "type": "bar",
         "uid": "aa522964-40eb-4d35-9cc4-6c37f7482659",
         "x": [
          0.18040420544375266,
          0.11418237893275322,
          0.09220228398211218,
          0.08454870849314938,
          0.05157501720278876,
          0.04970471225606263,
          0.038264101599104254,
          0.03577261016846092,
          0.025844567859363687,
          0.025619239833159873,
          0.023703150148471255,
          0.023015578291900773,
          0.019690497413632418,
          0.019601708611162665,
          0.017142539034704717,
          0.015559165827801745,
          0.01497673226991967,
          0.014009671644340102,
          0.013704600001588447,
          0.01356241211106817,
          0.013296288781487139,
          0.012630545285508195,
          0.012523201409755207,
          0.012473159510068948,
          0.010608982313868337,
          0.009993468574889574,
          0.009489149343799975,
          0.009258081190705444,
          0.008834250512006153,
          0.008353393789713838,
          0.006057731978639152,
          0.005168769208267654,
          0.004993338455041526,
          0.0032357585209514743
         ],
         "y": [
          "http_header_content-encoding_gzip",
          "http_header_transfer-encoding_chunked",
          "url_length",
          "url_char_.",
          "url_char_w",
          "http_header_cache-control_set_max-age",
          "total_count",
          "url_extensions",
          "url_extension_.com",
          "link_type_text/css",
          "url_char_i",
          "url_char_l",
          "http_header_server_apache",
          "a_count",
          "script_async_true",
          "a_href_out_of_domain",
          "url_char_p",
          "a_href_https",
          "meta_count",
          "http_header_via_1.1",
          "a_href_relative",
          "url_char_z",
          "img_src_http",
          "total_href",
          "url_char_f",
          "url_char_y",
          "iframe_src_.html",
          "link_href_out_of_domain",
          "p_count",
          "http_header_vary_user-agent",
          "a_href_http",
          "form_action_http",
          "push",
          "center_count"
         ]
        }
       ],
       "layout": {
        "autosize": false,
        "height": 1000,
        "width": 1000,
        "xaxis": {
         "tickfont": {
          "color": "black",
          "size": 12
         },
         "title": "Feature Importances"
        },
        "yaxis": {
         "automargin": true
        }
       }
      },
      "text/html": [
       "<div id=\"6ee8b40c-6ce1-40b4-8fd8-29424d6c5d95\" style=\"height: 1000px; width: 1000px;\" class=\"plotly-graph-div\"></div><script type=\"text/javascript\">require([\"plotly\"], function(Plotly) { window.PLOTLYENV=window.PLOTLYENV || {};window.PLOTLYENV.BASE_URL=\"https://plot.ly\";Plotly.newPlot(\"6ee8b40c-6ce1-40b4-8fd8-29424d6c5d95\", [{\"marker\": {\"color\": \"rgb(158,202,225)\", \"line\": {\"color\": \"rgb(8,48,107)\", \"width\": 1.5}}, \"opacity\": 0.6, \"orientation\": \"h\", \"text\": [0.1804, 0.1142, 0.0922, 0.0845, 0.0516, 0.0497, 0.0383, 0.0358, 0.0258, 0.0256, 0.0237, 0.023, 0.0197, 0.0196, 0.0171, 0.0156, 0.015, 0.014, 0.0137, 0.0136, 0.0133, 0.0126, 0.0125, 0.0125, 0.0106, 0.01, 0.0095, 0.0093, 0.0088, 0.0084, 0.0061, 0.0052, 0.005, 0.0032], \"textposition\": \"outside\", \"x\": [0.18040420544375266, 0.11418237893275322, 0.09220228398211218, 0.08454870849314938, 0.05157501720278876, 0.04970471225606263, 0.038264101599104254, 0.03577261016846092, 0.025844567859363687, 0.025619239833159873, 0.023703150148471255, 0.023015578291900773, 0.019690497413632418, 0.019601708611162665, 0.017142539034704717, 0.015559165827801745, 0.01497673226991967, 0.014009671644340102, 0.013704600001588447, 0.01356241211106817, 0.013296288781487139, 0.012630545285508195, 0.012523201409755207, 0.012473159510068948, 0.010608982313868337, 0.009993468574889574, 0.009489149343799975, 0.009258081190705444, 0.008834250512006153, 0.008353393789713838, 0.006057731978639152, 0.005168769208267654, 0.004993338455041526, 0.0032357585209514743], \"y\": [\"http_header_content-encoding_gzip\", \"http_header_transfer-encoding_chunked\", \"url_length\", \"url_char_.\", \"url_char_w\", \"http_header_cache-control_set_max-age\", \"total_count\", \"url_extensions\", \"url_extension_.com\", \"link_type_text/css\", \"url_char_i\", \"url_char_l\", \"http_header_server_apache\", \"a_count\", \"script_async_true\", \"a_href_out_of_domain\", \"url_char_p\", \"a_href_https\", \"meta_count\", \"http_header_via_1.1\", \"a_href_relative\", \"url_char_z\", \"img_src_http\", \"total_href\", \"url_char_f\", \"url_char_y\", \"iframe_src_.html\", \"link_href_out_of_domain\", \"p_count\", \"http_header_vary_user-agent\", \"a_href_http\", \"form_action_http\", \"push\", \"center_count\"], \"type\": \"bar\", \"uid\": \"aa522964-40eb-4d35-9cc4-6c37f7482659\"}], {\"autosize\": false, \"height\": 1000, \"width\": 1000, \"xaxis\": {\"tickfont\": {\"color\": \"black\", \"size\": 12}, \"title\": \"Feature Importances\"}, \"yaxis\": {\"automargin\": true}}, {\"showLink\": true, \"linkText\": \"Export to plot.ly\", \"plotlyServerURL\": \"https://plot.ly\"})});</script>"
      ],
      "text/vnd.plotly.v1+html": [
       "<div id=\"6ee8b40c-6ce1-40b4-8fd8-29424d6c5d95\" style=\"height: 1000px; width: 1000px;\" class=\"plotly-graph-div\"></div><script type=\"text/javascript\">require([\"plotly\"], function(Plotly) { window.PLOTLYENV=window.PLOTLYENV || {};window.PLOTLYENV.BASE_URL=\"https://plot.ly\";Plotly.newPlot(\"6ee8b40c-6ce1-40b4-8fd8-29424d6c5d95\", [{\"marker\": {\"color\": \"rgb(158,202,225)\", \"line\": {\"color\": \"rgb(8,48,107)\", \"width\": 1.5}}, \"opacity\": 0.6, \"orientation\": \"h\", \"text\": [0.1804, 0.1142, 0.0922, 0.0845, 0.0516, 0.0497, 0.0383, 0.0358, 0.0258, 0.0256, 0.0237, 0.023, 0.0197, 0.0196, 0.0171, 0.0156, 0.015, 0.014, 0.0137, 0.0136, 0.0133, 0.0126, 0.0125, 0.0125, 0.0106, 0.01, 0.0095, 0.0093, 0.0088, 0.0084, 0.0061, 0.0052, 0.005, 0.0032], \"textposition\": \"outside\", \"x\": [0.18040420544375266, 0.11418237893275322, 0.09220228398211218, 0.08454870849314938, 0.05157501720278876, 0.04970471225606263, 0.038264101599104254, 0.03577261016846092, 0.025844567859363687, 0.025619239833159873, 0.023703150148471255, 0.023015578291900773, 0.019690497413632418, 0.019601708611162665, 0.017142539034704717, 0.015559165827801745, 0.01497673226991967, 0.014009671644340102, 0.013704600001588447, 0.01356241211106817, 0.013296288781487139, 0.012630545285508195, 0.012523201409755207, 0.012473159510068948, 0.010608982313868337, 0.009993468574889574, 0.009489149343799975, 0.009258081190705444, 0.008834250512006153, 0.008353393789713838, 0.006057731978639152, 0.005168769208267654, 0.004993338455041526, 0.0032357585209514743], \"y\": [\"http_header_content-encoding_gzip\", \"http_header_transfer-encoding_chunked\", \"url_length\", \"url_char_.\", \"url_char_w\", \"http_header_cache-control_set_max-age\", \"total_count\", \"url_extensions\", \"url_extension_.com\", \"link_type_text/css\", \"url_char_i\", \"url_char_l\", \"http_header_server_apache\", \"a_count\", \"script_async_true\", \"a_href_out_of_domain\", \"url_char_p\", \"a_href_https\", \"meta_count\", \"http_header_via_1.1\", \"a_href_relative\", \"url_char_z\", \"img_src_http\", \"total_href\", \"url_char_f\", \"url_char_y\", \"iframe_src_.html\", \"link_href_out_of_domain\", \"p_count\", \"http_header_vary_user-agent\", \"a_href_http\", \"form_action_http\", \"push\", \"center_count\"], \"type\": \"bar\", \"uid\": \"aa522964-40eb-4d35-9cc4-6c37f7482659\"}], {\"autosize\": false, \"height\": 1000, \"width\": 1000, \"xaxis\": {\"tickfont\": {\"color\": \"black\", \"size\": 12}, \"title\": \"Feature Importances\"}, \"yaxis\": {\"automargin\": true}}, {\"showLink\": true, \"linkText\": \"Export to plot.ly\", \"plotlyServerURL\": \"https://plot.ly\"})});</script>"
      ]
     },
     "metadata": {},
     "output_type": "display_data"
    },
    {
     "name": "stdout",
     "output_type": "stream",
     "text": [
      "\n",
      "\n",
      "\u001b[1mXGB Classifier\u001b[0m\n",
      "Accuracy of the model for training data is: 0.9702593825790274\n",
      "Confusion Matrix for training data is:\n"
     ]
    },
    {
     "data": {
      "text/plain": [
       "Predicted  False   True  __all__\n",
       "Actual                          \n",
       "False      23616    711    24327\n",
       "True         736  23591    24327\n",
       "__all__    24352  24302    48654"
      ]
     },
     "metadata": {},
     "output_type": "display_data"
    },
    {
     "name": "stdout",
     "output_type": "stream",
     "text": [
      "Accuracy of the model for test data is: 0.9627392598894088\n",
      "Confusion Matrix for test data is:\n"
     ]
    },
    {
     "data": {
      "text/plain": [
       "Predicted  False  True  __all__\n",
       "Actual                         \n",
       "False      10096   319    10415\n",
       "True         119  1221     1340\n",
       "__all__    10215  1540    11755"
      ]
     },
     "metadata": {},
     "output_type": "display_data"
    },
    {
     "data": {
      "application/vnd.plotly.v1+json": {
       "config": {
        "linkText": "Export to plot.ly",
        "plotlyServerURL": "https://plot.ly",
        "showLink": true
       },
       "data": [
        {
         "marker": {
          "color": "rgb(158,202,225)",
          "line": {
           "color": "rgb(8,48,107)",
           "width": 1.5
          }
         },
         "opacity": 0.6,
         "orientation": "h",
         "text": [
          0.1399,
          0.0795,
          0.0766,
          0.0619,
          0.0427,
          0.0412,
          0.0383,
          0.0383,
          0.0339,
          0.0324,
          0.0309,
          0.0295,
          0.0295,
          0.028,
          0.028,
          0.028,
          0.0236,
          0.0221,
          0.0221,
          0.0206,
          0.0206,
          0.0177,
          0.0177,
          0.0162,
          0.0162,
          0.0133,
          0.0103,
          0.0088,
          0.0088,
          0.0088,
          0.0059,
          0.0044,
          0.0044,
          0
         ],
         "textposition": "outside",
         "type": "bar",
         "uid": "95ef2a85-b6ee-4c29-9103-8f01f5e65bad",
         "x": [
          0.13991163671016693,
          0.07952871918678284,
          0.07658321410417557,
          0.06185567006468773,
          0.042709868401288986,
          0.04123711213469505,
          0.038291607052087784,
          0.038291607052087784,
          0.03387334197759628,
          0.03240058943629265,
          0.030927835032343864,
          0.02945508062839508,
          0.02945508062839508,
          0.027982326224446297,
          0.027982326224446297,
          0.027982326224446297,
          0.023564064875245094,
          0.02209131047129631,
          0.02209131047129631,
          0.020618556067347527,
          0.020618556067347527,
          0.017673049122095108,
          0.017673049122095108,
          0.016200294718146324,
          0.016200294718146324,
          0.013254786841571331,
          0.010309278033673763,
          0.008836524561047554,
          0.008836524561047554,
          0.008836524561047554,
          0.005891016218811274,
          0.004418262280523777,
          0.004418262280523777,
          0
         ],
         "y": [
          "url_length",
          "url_char_w",
          "url_extensions",
          "url_char_.",
          "http_header_content-encoding_gzip",
          "http_header_cache-control_set_max-age",
          "link_type_text/css",
          "total_count",
          "url_extension_.com",
          "form_action_http",
          "url_char_i",
          "p_count",
          "a_href_out_of_domain",
          "center_count",
          "img_src_http",
          "url_char_z",
          "http_header_via_1.1",
          "url_char_l",
          "http_header_server_apache",
          "a_href_https",
          "push",
          "http_header_vary_user-agent",
          "meta_count",
          "a_count",
          "link_href_out_of_domain",
          "script_async_true",
          "http_header_transfer-encoding_chunked",
          "url_char_f",
          "total_href",
          "iframe_src_.html",
          "a_href_relative",
          "url_char_p",
          "a_href_http",
          "url_char_y"
         ]
        }
       ],
       "layout": {
        "autosize": false,
        "height": 1000,
        "width": 1000,
        "xaxis": {
         "tickfont": {
          "color": "black",
          "size": 12
         },
         "title": "Feature Importances"
        },
        "yaxis": {
         "automargin": true
        }
       }
      },
      "text/html": [
       "<div id=\"4f556a2d-29b4-4a45-94bf-c05e155e1e3c\" style=\"height: 1000px; width: 1000px;\" class=\"plotly-graph-div\"></div><script type=\"text/javascript\">require([\"plotly\"], function(Plotly) { window.PLOTLYENV=window.PLOTLYENV || {};window.PLOTLYENV.BASE_URL=\"https://plot.ly\";Plotly.newPlot(\"4f556a2d-29b4-4a45-94bf-c05e155e1e3c\", [{\"marker\": {\"color\": \"rgb(158,202,225)\", \"line\": {\"color\": \"rgb(8,48,107)\", \"width\": 1.5}}, \"opacity\": 0.6, \"orientation\": \"h\", \"text\": [0.1399, 0.0795, 0.0766, 0.0619, 0.0427, 0.0412, 0.0383, 0.0383, 0.0339, 0.0324, 0.0309, 0.0295, 0.0295, 0.028, 0.028, 0.028, 0.0236, 0.0221, 0.0221, 0.0206, 0.0206, 0.0177, 0.0177, 0.0162, 0.0162, 0.0133, 0.0103, 0.0088, 0.0088, 0.0088, 0.0059, 0.0044, 0.0044, 0.0], \"textposition\": \"outside\", \"x\": [0.13991163671016693, 0.07952871918678284, 0.07658321410417557, 0.06185567006468773, 0.042709868401288986, 0.04123711213469505, 0.038291607052087784, 0.038291607052087784, 0.03387334197759628, 0.03240058943629265, 0.030927835032343864, 0.02945508062839508, 0.02945508062839508, 0.027982326224446297, 0.027982326224446297, 0.027982326224446297, 0.023564064875245094, 0.02209131047129631, 0.02209131047129631, 0.020618556067347527, 0.020618556067347527, 0.017673049122095108, 0.017673049122095108, 0.016200294718146324, 0.016200294718146324, 0.013254786841571331, 0.010309278033673763, 0.008836524561047554, 0.008836524561047554, 0.008836524561047554, 0.005891016218811274, 0.004418262280523777, 0.004418262280523777, 0.0], \"y\": [\"url_length\", \"url_char_w\", \"url_extensions\", \"url_char_.\", \"http_header_content-encoding_gzip\", \"http_header_cache-control_set_max-age\", \"link_type_text/css\", \"total_count\", \"url_extension_.com\", \"form_action_http\", \"url_char_i\", \"p_count\", \"a_href_out_of_domain\", \"center_count\", \"img_src_http\", \"url_char_z\", \"http_header_via_1.1\", \"url_char_l\", \"http_header_server_apache\", \"a_href_https\", \"push\", \"http_header_vary_user-agent\", \"meta_count\", \"a_count\", \"link_href_out_of_domain\", \"script_async_true\", \"http_header_transfer-encoding_chunked\", \"url_char_f\", \"total_href\", \"iframe_src_.html\", \"a_href_relative\", \"url_char_p\", \"a_href_http\", \"url_char_y\"], \"type\": \"bar\", \"uid\": \"95ef2a85-b6ee-4c29-9103-8f01f5e65bad\"}], {\"autosize\": false, \"height\": 1000, \"width\": 1000, \"xaxis\": {\"tickfont\": {\"color\": \"black\", \"size\": 12}, \"title\": \"Feature Importances\"}, \"yaxis\": {\"automargin\": true}}, {\"showLink\": true, \"linkText\": \"Export to plot.ly\", \"plotlyServerURL\": \"https://plot.ly\"})});</script>"
      ],
      "text/vnd.plotly.v1+html": [
       "<div id=\"4f556a2d-29b4-4a45-94bf-c05e155e1e3c\" style=\"height: 1000px; width: 1000px;\" class=\"plotly-graph-div\"></div><script type=\"text/javascript\">require([\"plotly\"], function(Plotly) { window.PLOTLYENV=window.PLOTLYENV || {};window.PLOTLYENV.BASE_URL=\"https://plot.ly\";Plotly.newPlot(\"4f556a2d-29b4-4a45-94bf-c05e155e1e3c\", [{\"marker\": {\"color\": \"rgb(158,202,225)\", \"line\": {\"color\": \"rgb(8,48,107)\", \"width\": 1.5}}, \"opacity\": 0.6, \"orientation\": \"h\", \"text\": [0.1399, 0.0795, 0.0766, 0.0619, 0.0427, 0.0412, 0.0383, 0.0383, 0.0339, 0.0324, 0.0309, 0.0295, 0.0295, 0.028, 0.028, 0.028, 0.0236, 0.0221, 0.0221, 0.0206, 0.0206, 0.0177, 0.0177, 0.0162, 0.0162, 0.0133, 0.0103, 0.0088, 0.0088, 0.0088, 0.0059, 0.0044, 0.0044, 0.0], \"textposition\": \"outside\", \"x\": [0.13991163671016693, 0.07952871918678284, 0.07658321410417557, 0.06185567006468773, 0.042709868401288986, 0.04123711213469505, 0.038291607052087784, 0.038291607052087784, 0.03387334197759628, 0.03240058943629265, 0.030927835032343864, 0.02945508062839508, 0.02945508062839508, 0.027982326224446297, 0.027982326224446297, 0.027982326224446297, 0.023564064875245094, 0.02209131047129631, 0.02209131047129631, 0.020618556067347527, 0.020618556067347527, 0.017673049122095108, 0.017673049122095108, 0.016200294718146324, 0.016200294718146324, 0.013254786841571331, 0.010309278033673763, 0.008836524561047554, 0.008836524561047554, 0.008836524561047554, 0.005891016218811274, 0.004418262280523777, 0.004418262280523777, 0.0], \"y\": [\"url_length\", \"url_char_w\", \"url_extensions\", \"url_char_.\", \"http_header_content-encoding_gzip\", \"http_header_cache-control_set_max-age\", \"link_type_text/css\", \"total_count\", \"url_extension_.com\", \"form_action_http\", \"url_char_i\", \"p_count\", \"a_href_out_of_domain\", \"center_count\", \"img_src_http\", \"url_char_z\", \"http_header_via_1.1\", \"url_char_l\", \"http_header_server_apache\", \"a_href_https\", \"push\", \"http_header_vary_user-agent\", \"meta_count\", \"a_count\", \"link_href_out_of_domain\", \"script_async_true\", \"http_header_transfer-encoding_chunked\", \"url_char_f\", \"total_href\", \"iframe_src_.html\", \"a_href_relative\", \"url_char_p\", \"a_href_http\", \"url_char_y\"], \"type\": \"bar\", \"uid\": \"95ef2a85-b6ee-4c29-9103-8f01f5e65bad\"}], {\"autosize\": false, \"height\": 1000, \"width\": 1000, \"xaxis\": {\"tickfont\": {\"color\": \"black\", \"size\": 12}, \"title\": \"Feature Importances\"}, \"yaxis\": {\"automargin\": true}}, {\"showLink\": true, \"linkText\": \"Export to plot.ly\", \"plotlyServerURL\": \"https://plot.ly\"})});</script>"
      ]
     },
     "metadata": {},
     "output_type": "display_data"
    },
    {
     "name": "stdout",
     "output_type": "stream",
     "text": [
      "\n",
      "\n",
      "\u001b[1mBagging Classifier\u001b[0m\n",
      "Accuracy of the model for training data is: 0.9978830106466067\n",
      "Confusion Matrix for training data is:\n"
     ]
    },
    {
     "data": {
      "text/plain": [
       "Predicted  False   True  __all__\n",
       "Actual                          \n",
       "False      24292     35    24327\n",
       "True          68  24259    24327\n",
       "__all__    24360  24294    48654"
      ]
     },
     "metadata": {},
     "output_type": "display_data"
    },
    {
     "name": "stdout",
     "output_type": "stream",
     "text": [
      "Accuracy of the model for test data is: 0.9724372607401106\n",
      "Confusion Matrix for test data is:\n"
     ]
    },
    {
     "data": {
      "text/plain": [
       "Predicted  False  True  __all__\n",
       "Actual                         \n",
       "False      10268   147    10415\n",
       "True         177  1163     1340\n",
       "__all__    10445  1310    11755"
      ]
     },
     "metadata": {},
     "output_type": "display_data"
    },
    {
     "name": "stdout",
     "output_type": "stream",
     "text": [
      "\n",
      "\n",
      "\u001b[1mNeural Network-1\u001b[0m\n",
      "The accuracy of the model on training data is: 0.9914292761056105\n"
     ]
    },
    {
     "data": {
      "text/plain": [
       "Predicted  False   True  __all__\n",
       "Actual                          \n",
       "False      24016    311    24327\n",
       "True         106  24221    24327\n",
       "__all__    24122  24532    48654"
      ]
     },
     "metadata": {},
     "output_type": "display_data"
    },
    {
     "name": "stdout",
     "output_type": "stream",
     "text": [
      "The accuracy of the model on test data is: 0.9599319438536793\n"
     ]
    },
    {
     "data": {
      "text/plain": [
       "Predicted  False  True  __all__\n",
       "Actual                         \n",
       "False      10103   312    10415\n",
       "True         159  1181     1340\n",
       "__all__    10262  1493    11755"
      ]
     },
     "metadata": {},
     "output_type": "display_data"
    },
    {
     "name": "stdout",
     "output_type": "stream",
     "text": [
      "\n",
      "\n"
     ]
    }
   ],
   "source": [
    "sm = SMOTE(random_state=12, ratio = {1:24327})\n",
    "X_train, Y_train = sm.fit_sample(scaled_X_train,train_Y)\n",
    "\n",
    "\n",
    "ind_columns=['KNeighborsClassifier','RandomForestClassifier','AdaBoostClassifier',\n",
    "             'GradientBoostingClassifier','ExtraTreeClassifier','XGB','BaggingClassifier','Neural Network-1']\n",
    "\n",
    "f=[KNN_model,RandomForest,AdaBoost,GradientBoosting, ExtraTree,XGB,Bagging,DeepLearning1]\n",
    "\n",
    "## Table to store training and test measures\n",
    "table_80_50_train=pd.DataFrame(columns=['accuracy','TP','TN','FP','FN','FPR','FNR'])\n",
    "table_80_50_test=pd.DataFrame(columns=['accuracy','TP','TN','FP','FN','FPR','FNR','auc','MCC','Precision','Recall'])\n",
    "\n",
    "feat_imp=[None]*5\n",
    "j=0\n",
    "for i in range(0,8):\n",
    "    if i>=1 and i<=5:\n",
    "        model,cm_train,cm_test,acc_train,acc_test,roc_auc,feat_imp[j],mcc,prec,rec=f[i](X_train,Y_train,scaled_X_test,test_Y,columns)\n",
    "        j=j+1\n",
    "    else:\n",
    "        model,cm_train,cm_test,acc_train,acc_test,roc_auc,mcc,prec,rec=f[i](X_train,Y_train,scaled_X_test,test_Y)\n",
    "    table_80_50_train.loc[i]=   ([acc_train,cm_train.TP,cm_train.TN,cm_train.FP,cm_train.FN,cm_train.FPR,cm_train.FNR])\n",
    "    table_80_50_test.loc[i] =   ([acc_test ,cm_test.TP, cm_test.TN, cm_test.FP, cm_test.FN, cm_test.FPR, cm_test.FNR,roc_auc,mcc,prec,rec])\n",
    "    print(\"\\n\")"
   ]
  },
  {
   "cell_type": "markdown",
   "metadata": {},
   "source": [
    "### <a id='2.A' style=\"text-decoration : none; color : #000000;\"> A. Results</a>"
   ]
  },
  {
   "cell_type": "code",
   "execution_count": 13,
   "metadata": {},
   "outputs": [
    {
     "data": {
      "application/vnd.plotly.v1+json": {
       "config": {
        "linkText": "Export to plot.ly",
        "plotlyServerURL": "https://plot.ly",
        "showLink": true
       },
       "data": [
        {
         "mode": "lines",
         "name": "KNN_model",
         "type": "scatter",
         "uid": "8d32a6a5-913f-499f-b401-0b144e4847b0",
         "x": [
          "accuracy",
          "auc",
          "MCC",
          "Precision",
          "Recall"
         ],
         "y": [
          0.9456401531263292,
          0.9280320075092612,
          0.7688529088674421,
          0.7031884057971014,
          0.905223880597015
         ]
        },
        {
         "mode": "lines+markers",
         "name": "XGB",
         "type": "scatter",
         "uid": "3ee2b909-818e-4705-a301-daae99daa948",
         "x": [
          "accuracy",
          "auc",
          "MCC",
          "Precision",
          "Recall"
         ],
         "y": [
          0.9627392598894088,
          0.9402825646133233,
          0.8293998903832334,
          0.7928571428571428,
          0.9111940298507463
         ]
        },
        {
         "marker": {
          "symbol": "x"
         },
         "mode": "lines+markers",
         "name": "Random Forest",
         "type": "scatter",
         "uid": "023e7f4a-7b1b-46fd-98f9-1de89f6c594d",
         "x": [
          "accuracy",
          "auc",
          "MCC",
          "Precision",
          "Recall"
         ],
         "y": [
          0.9760102084219481,
          0.9302149239400693,
          0.8790473041647158,
          0.914576802507837,
          0.8708955223880597
         ]
        },
        {
         "mode": "lines",
         "name": "Ada Boost",
         "type": "scatter",
         "uid": "e3d9b57d-e92d-48fd-8378-1bddbbe52dfb",
         "x": [
          "accuracy",
          "auc",
          "MCC",
          "Precision",
          "Recall"
         ],
         "y": [
          0.952190557209698,
          0.9405070184363826,
          0.795677807331489,
          0.7285546415981199,
          0.9253731343283582
         ]
        },
        {
         "mode": "lines+markers",
         "name": "GradientBoosting",
         "type": "scatter",
         "uid": "8dcf5b8e-e2f6-423c-8aa8-392f597814d9",
         "x": [
          "accuracy",
          "auc",
          "MCC",
          "Precision",
          "Recall"
         ],
         "y": [
          0.9630795406210123,
          0.9368982022198179,
          0.8290069452270327,
          0.7992073976221928,
          0.9029850746268657
         ]
        },
        {
         "marker": {
          "symbol": "x"
         },
         "mode": "lines+markers",
         "name": "ExtraTree Classifier",
         "type": "scatter",
         "uid": "30c60401-e164-4e92-a014-b34ae0b6e0d1",
         "x": [
          "accuracy",
          "auc",
          "MCC",
          "Precision",
          "Recall"
         ],
         "y": [
          0.9750744364100383,
          0.9280612062109043,
          0.8743458584264451,
          0.9099451840250588,
          0.8671641791044776
         ]
        },
        {
         "marker": {
          "symbol": "x"
         },
         "mode": "lines+markers",
         "name": "Bagging",
         "type": "scatter",
         "uid": "68b55b2f-b737-4600-9180-b23600d2bae2",
         "x": [
          "accuracy",
          "auc",
          "MCC",
          "Precision",
          "Recall"
         ],
         "y": [
          0.9724372607401106,
          0.9268980947399345,
          0.8622761590885136,
          0.8877862595419848,
          0.8679104477611941
         ]
        },
        {
         "marker": {
          "symbol": "x"
         },
         "mode": "lines+markers",
         "name": "Neural Network",
         "type": "scatter",
         "uid": "ed4e23db-ce9d-43c6-b21d-b24a0bfbb495",
         "x": [
          "accuracy",
          "auc",
          "MCC",
          "Precision",
          "Recall"
         ],
         "y": [
          0.9599319438536793,
          0.9268980947399345,
          0.8125739249891748,
          0.7910247823174816,
          0.8813432835820896
         ]
        }
       ],
       "layout": {
        "title": "Result comparision for Features selected in Section 1",
        "yaxis": {
         "dtick": 0.05,
         "tick0": 0
        }
       }
      },
      "text/html": [
       "<div id=\"6a61b036-cb00-4eb9-93c9-96c2df39b5be\" style=\"height: 525px; width: 100%;\" class=\"plotly-graph-div\"></div><script type=\"text/javascript\">require([\"plotly\"], function(Plotly) { window.PLOTLYENV=window.PLOTLYENV || {};window.PLOTLYENV.BASE_URL=\"https://plot.ly\";Plotly.newPlot(\"6a61b036-cb00-4eb9-93c9-96c2df39b5be\", [{\"mode\": \"lines\", \"name\": \"KNN_model\", \"x\": [\"accuracy\", \"auc\", \"MCC\", \"Precision\", \"Recall\"], \"y\": [0.9456401531263292, 0.9280320075092612, 0.7688529088674421, 0.7031884057971014, 0.905223880597015], \"type\": \"scatter\", \"uid\": \"8d32a6a5-913f-499f-b401-0b144e4847b0\"}, {\"mode\": \"lines+markers\", \"name\": \"XGB\", \"x\": [\"accuracy\", \"auc\", \"MCC\", \"Precision\", \"Recall\"], \"y\": [0.9627392598894088, 0.9402825646133233, 0.8293998903832334, 0.7928571428571428, 0.9111940298507463], \"type\": \"scatter\", \"uid\": \"3ee2b909-818e-4705-a301-daae99daa948\"}, {\"marker\": {\"symbol\": \"x\"}, \"mode\": \"lines+markers\", \"name\": \"Random Forest\", \"x\": [\"accuracy\", \"auc\", \"MCC\", \"Precision\", \"Recall\"], \"y\": [0.9760102084219481, 0.9302149239400693, 0.8790473041647158, 0.914576802507837, 0.8708955223880597], \"type\": \"scatter\", \"uid\": \"023e7f4a-7b1b-46fd-98f9-1de89f6c594d\"}, {\"mode\": \"lines\", \"name\": \"Ada Boost\", \"x\": [\"accuracy\", \"auc\", \"MCC\", \"Precision\", \"Recall\"], \"y\": [0.952190557209698, 0.9405070184363826, 0.795677807331489, 0.7285546415981199, 0.9253731343283582], \"type\": \"scatter\", \"uid\": \"e3d9b57d-e92d-48fd-8378-1bddbbe52dfb\"}, {\"mode\": \"lines+markers\", \"name\": \"GradientBoosting\", \"x\": [\"accuracy\", \"auc\", \"MCC\", \"Precision\", \"Recall\"], \"y\": [0.9630795406210123, 0.9368982022198179, 0.8290069452270327, 0.7992073976221928, 0.9029850746268657], \"type\": \"scatter\", \"uid\": \"8dcf5b8e-e2f6-423c-8aa8-392f597814d9\"}, {\"marker\": {\"symbol\": \"x\"}, \"mode\": \"lines+markers\", \"name\": \"ExtraTree Classifier\", \"x\": [\"accuracy\", \"auc\", \"MCC\", \"Precision\", \"Recall\"], \"y\": [0.9750744364100383, 0.9280612062109043, 0.8743458584264451, 0.9099451840250588, 0.8671641791044776], \"type\": \"scatter\", \"uid\": \"30c60401-e164-4e92-a014-b34ae0b6e0d1\"}, {\"marker\": {\"symbol\": \"x\"}, \"mode\": \"lines+markers\", \"name\": \"Bagging\", \"x\": [\"accuracy\", \"auc\", \"MCC\", \"Precision\", \"Recall\"], \"y\": [0.9724372607401106, 0.9268980947399345, 0.8622761590885136, 0.8877862595419848, 0.8679104477611941], \"type\": \"scatter\", \"uid\": \"68b55b2f-b737-4600-9180-b23600d2bae2\"}, {\"marker\": {\"symbol\": \"x\"}, \"mode\": \"lines+markers\", \"name\": \"Neural Network\", \"x\": [\"accuracy\", \"auc\", \"MCC\", \"Precision\", \"Recall\"], \"y\": [0.9599319438536793, 0.9268980947399345, 0.8125739249891748, 0.7910247823174816, 0.8813432835820896], \"type\": \"scatter\", \"uid\": \"ed4e23db-ce9d-43c6-b21d-b24a0bfbb495\"}], {\"title\": \"Result comparision for Features selected in Section 1\", \"yaxis\": {\"dtick\": 0.05, \"tick0\": 0}}, {\"showLink\": true, \"linkText\": \"Export to plot.ly\", \"plotlyServerURL\": \"https://plot.ly\"})});</script><script type=\"text/javascript\">window.addEventListener(\"resize\", function(){window._Plotly.Plots.resize(document.getElementById(\"6a61b036-cb00-4eb9-93c9-96c2df39b5be\"));});</script>"
      ],
      "text/vnd.plotly.v1+html": [
       "<div id=\"6a61b036-cb00-4eb9-93c9-96c2df39b5be\" style=\"height: 525px; width: 100%;\" class=\"plotly-graph-div\"></div><script type=\"text/javascript\">require([\"plotly\"], function(Plotly) { window.PLOTLYENV=window.PLOTLYENV || {};window.PLOTLYENV.BASE_URL=\"https://plot.ly\";Plotly.newPlot(\"6a61b036-cb00-4eb9-93c9-96c2df39b5be\", [{\"mode\": \"lines\", \"name\": \"KNN_model\", \"x\": [\"accuracy\", \"auc\", \"MCC\", \"Precision\", \"Recall\"], \"y\": [0.9456401531263292, 0.9280320075092612, 0.7688529088674421, 0.7031884057971014, 0.905223880597015], \"type\": \"scatter\", \"uid\": \"8d32a6a5-913f-499f-b401-0b144e4847b0\"}, {\"mode\": \"lines+markers\", \"name\": \"XGB\", \"x\": [\"accuracy\", \"auc\", \"MCC\", \"Precision\", \"Recall\"], \"y\": [0.9627392598894088, 0.9402825646133233, 0.8293998903832334, 0.7928571428571428, 0.9111940298507463], \"type\": \"scatter\", \"uid\": \"3ee2b909-818e-4705-a301-daae99daa948\"}, {\"marker\": {\"symbol\": \"x\"}, \"mode\": \"lines+markers\", \"name\": \"Random Forest\", \"x\": [\"accuracy\", \"auc\", \"MCC\", \"Precision\", \"Recall\"], \"y\": [0.9760102084219481, 0.9302149239400693, 0.8790473041647158, 0.914576802507837, 0.8708955223880597], \"type\": \"scatter\", \"uid\": \"023e7f4a-7b1b-46fd-98f9-1de89f6c594d\"}, {\"mode\": \"lines\", \"name\": \"Ada Boost\", \"x\": [\"accuracy\", \"auc\", \"MCC\", \"Precision\", \"Recall\"], \"y\": [0.952190557209698, 0.9405070184363826, 0.795677807331489, 0.7285546415981199, 0.9253731343283582], \"type\": \"scatter\", \"uid\": \"e3d9b57d-e92d-48fd-8378-1bddbbe52dfb\"}, {\"mode\": \"lines+markers\", \"name\": \"GradientBoosting\", \"x\": [\"accuracy\", \"auc\", \"MCC\", \"Precision\", \"Recall\"], \"y\": [0.9630795406210123, 0.9368982022198179, 0.8290069452270327, 0.7992073976221928, 0.9029850746268657], \"type\": \"scatter\", \"uid\": \"8dcf5b8e-e2f6-423c-8aa8-392f597814d9\"}, {\"marker\": {\"symbol\": \"x\"}, \"mode\": \"lines+markers\", \"name\": \"ExtraTree Classifier\", \"x\": [\"accuracy\", \"auc\", \"MCC\", \"Precision\", \"Recall\"], \"y\": [0.9750744364100383, 0.9280612062109043, 0.8743458584264451, 0.9099451840250588, 0.8671641791044776], \"type\": \"scatter\", \"uid\": \"30c60401-e164-4e92-a014-b34ae0b6e0d1\"}, {\"marker\": {\"symbol\": \"x\"}, \"mode\": \"lines+markers\", \"name\": \"Bagging\", \"x\": [\"accuracy\", \"auc\", \"MCC\", \"Precision\", \"Recall\"], \"y\": [0.9724372607401106, 0.9268980947399345, 0.8622761590885136, 0.8877862595419848, 0.8679104477611941], \"type\": \"scatter\", \"uid\": \"68b55b2f-b737-4600-9180-b23600d2bae2\"}, {\"marker\": {\"symbol\": \"x\"}, \"mode\": \"lines+markers\", \"name\": \"Neural Network\", \"x\": [\"accuracy\", \"auc\", \"MCC\", \"Precision\", \"Recall\"], \"y\": [0.9599319438536793, 0.9268980947399345, 0.8125739249891748, 0.7910247823174816, 0.8813432835820896], \"type\": \"scatter\", \"uid\": \"ed4e23db-ce9d-43c6-b21d-b24a0bfbb495\"}], {\"title\": \"Result comparision for Features selected in Section 1\", \"yaxis\": {\"dtick\": 0.05, \"tick0\": 0}}, {\"showLink\": true, \"linkText\": \"Export to plot.ly\", \"plotlyServerURL\": \"https://plot.ly\"})});</script><script type=\"text/javascript\">window.addEventListener(\"resize\", function(){window._Plotly.Plots.resize(document.getElementById(\"6a61b036-cb00-4eb9-93c9-96c2df39b5be\"));});</script>"
      ]
     },
     "metadata": {},
     "output_type": "display_data"
    }
   ],
   "source": [
    "trace0 = go.Scatter(x=table_80_50_test.iloc[0].index.values[[0,7,8,9,10]],\n",
    "                    y=table_80_50_test.iloc[0].values[[0,7,8,9,10]],\n",
    "                    mode = 'lines',\n",
    "                    name = 'KNN_model')\n",
    "\n",
    "\n",
    "trace2 = go.Scatter(x=table_80_50_test.iloc[1].index.values[[0,7,8,9,10]],\n",
    "                    y=table_80_50_test.iloc[1].values[[0,7,8,9,10]],\n",
    "                    mode = 'lines+markers',marker=dict(symbol='x'),\n",
    "                    name = 'Random Forest')\n",
    "\n",
    "\n",
    "trace3 = go.Scatter(x=table_80_50_test.iloc[2].index.values[[0,7,8,9,10]],\n",
    "                    y=table_80_50_test.iloc[2].values[[0,7,8,9,10]],\n",
    "                    mode = 'lines',\n",
    "                    name = 'Ada Boost')\n",
    "\n",
    "trace4 = go.Scatter(x=table_80_50_test.iloc[3].index.values[[0,7,8,9,10]],\n",
    "                    y=table_80_50_test.iloc[3].values[[0,7,8,9,10]],\n",
    "                    mode = 'lines+markers',\n",
    "                    name = 'GradientBoosting')\n",
    "\n",
    "trace5 = go.Scatter(x=table_80_50_test.iloc[4].index.values[[0,7,8,9,10]],\n",
    "                    y=table_80_50_test.iloc[4].values[[0,7,8,9,10]],\n",
    "                    mode = 'lines+markers',marker=dict(symbol='x'),\n",
    "                    name = 'ExtraTree Classifier')\n",
    "\n",
    "\n",
    "trace1 = go.Scatter(x=table_80_50_test.iloc[5].index.values[[0,7,8,9,10]],\n",
    "                    y=table_80_50_test.iloc[5].values[[0,7,8,9,10]],\n",
    "                    mode = 'lines+markers',\n",
    "                    name = 'XGB')\n",
    "\n",
    "\n",
    "trace6 = go.Scatter(x=table_80_50_test.iloc[6].index.values[[0,7,8,9,10]],\n",
    "                    y=table_80_50_test.iloc[6].values[[0,7,8,9,10]],\n",
    "                    mode = 'lines+markers',marker=dict(symbol='x'),\n",
    "                    name = 'Bagging')\n",
    "\n",
    "trace7 = go.Scatter(x=table_80_50_test.iloc[7].index.values[[0,7,8,9,10]],\n",
    "                    y=table_80_50_test.iloc[7].values[[0,7,8,9,10]],\n",
    "                    mode = 'lines+markers',marker=dict(symbol='x'),\n",
    "                    name = 'Neural Network')\n",
    "\n",
    "\n",
    "\n",
    "data = [trace0, trace1, trace2, trace3, trace4, trace5, trace6, trace7]\n",
    "layout = go.Layout(yaxis=dict(tick0=0,dtick=0.05),title='Result comparision for Features selected in Section 1')\n",
    "fig = go.Figure(data=data, layout=layout)\n",
    "\n",
    "iplot(fig, filename='Result')"
   ]
  },
  {
   "cell_type": "code",
   "execution_count": 14,
   "metadata": {},
   "outputs": [
    {
     "name": "stdout",
     "output_type": "stream",
     "text": [
      "Training Results\n"
     ]
    },
    {
     "data": {
      "text/html": [
       "<div>\n",
       "<style scoped>\n",
       "    .dataframe tbody tr th:only-of-type {\n",
       "        vertical-align: middle;\n",
       "    }\n",
       "\n",
       "    .dataframe tbody tr th {\n",
       "        vertical-align: top;\n",
       "    }\n",
       "\n",
       "    .dataframe thead th {\n",
       "        text-align: right;\n",
       "    }\n",
       "</style>\n",
       "<table border=\"1\" class=\"dataframe\">\n",
       "  <thead>\n",
       "    <tr style=\"text-align: right;\">\n",
       "      <th></th>\n",
       "      <th>accuracy</th>\n",
       "      <th>TP</th>\n",
       "      <th>TN</th>\n",
       "      <th>FP</th>\n",
       "      <th>FN</th>\n",
       "      <th>FPR</th>\n",
       "      <th>FNR</th>\n",
       "    </tr>\n",
       "    <tr>\n",
       "      <th>index</th>\n",
       "      <th></th>\n",
       "      <th></th>\n",
       "      <th></th>\n",
       "      <th></th>\n",
       "      <th></th>\n",
       "      <th></th>\n",
       "      <th></th>\n",
       "    </tr>\n",
       "  </thead>\n",
       "  <tbody>\n",
       "    <tr>\n",
       "      <th>KNeighborsClassifier</th>\n",
       "      <td>0.980803</td>\n",
       "      <td>24218.0</td>\n",
       "      <td>23502.0</td>\n",
       "      <td>825.0</td>\n",
       "      <td>109.0</td>\n",
       "      <td>0.033913</td>\n",
       "      <td>0.004481</td>\n",
       "    </tr>\n",
       "    <tr>\n",
       "      <th>RandomForestClassifier</th>\n",
       "      <td>0.998253</td>\n",
       "      <td>24278.0</td>\n",
       "      <td>24291.0</td>\n",
       "      <td>36.0</td>\n",
       "      <td>49.0</td>\n",
       "      <td>0.001480</td>\n",
       "      <td>0.002014</td>\n",
       "    </tr>\n",
       "    <tr>\n",
       "      <th>AdaBoostClassifier</th>\n",
       "      <td>0.959181</td>\n",
       "      <td>23399.0</td>\n",
       "      <td>23269.0</td>\n",
       "      <td>1058.0</td>\n",
       "      <td>928.0</td>\n",
       "      <td>0.043491</td>\n",
       "      <td>0.038147</td>\n",
       "    </tr>\n",
       "    <tr>\n",
       "      <th>GradientBoostingClassifier</th>\n",
       "      <td>0.972459</td>\n",
       "      <td>23649.0</td>\n",
       "      <td>23665.0</td>\n",
       "      <td>662.0</td>\n",
       "      <td>678.0</td>\n",
       "      <td>0.027213</td>\n",
       "      <td>0.027870</td>\n",
       "    </tr>\n",
       "    <tr>\n",
       "      <th>ExtraTreeClassifier</th>\n",
       "      <td>0.998952</td>\n",
       "      <td>24279.0</td>\n",
       "      <td>24324.0</td>\n",
       "      <td>3.0</td>\n",
       "      <td>48.0</td>\n",
       "      <td>0.000123</td>\n",
       "      <td>0.001973</td>\n",
       "    </tr>\n",
       "    <tr>\n",
       "      <th>XGB</th>\n",
       "      <td>0.970259</td>\n",
       "      <td>23591.0</td>\n",
       "      <td>23616.0</td>\n",
       "      <td>711.0</td>\n",
       "      <td>736.0</td>\n",
       "      <td>0.029227</td>\n",
       "      <td>0.030254</td>\n",
       "    </tr>\n",
       "    <tr>\n",
       "      <th>BaggingClassifier</th>\n",
       "      <td>0.997883</td>\n",
       "      <td>24259.0</td>\n",
       "      <td>24292.0</td>\n",
       "      <td>35.0</td>\n",
       "      <td>68.0</td>\n",
       "      <td>0.001439</td>\n",
       "      <td>0.002795</td>\n",
       "    </tr>\n",
       "    <tr>\n",
       "      <th>Neural Network-1</th>\n",
       "      <td>0.991429</td>\n",
       "      <td>24221.0</td>\n",
       "      <td>24016.0</td>\n",
       "      <td>311.0</td>\n",
       "      <td>106.0</td>\n",
       "      <td>0.012784</td>\n",
       "      <td>0.004357</td>\n",
       "    </tr>\n",
       "  </tbody>\n",
       "</table>\n",
       "</div>"
      ],
      "text/plain": [
       "                            accuracy       TP       TN      FP     FN  \\\n",
       "index                                                                   \n",
       "KNeighborsClassifier        0.980803  24218.0  23502.0   825.0  109.0   \n",
       "RandomForestClassifier      0.998253  24278.0  24291.0    36.0   49.0   \n",
       "AdaBoostClassifier          0.959181  23399.0  23269.0  1058.0  928.0   \n",
       "GradientBoostingClassifier  0.972459  23649.0  23665.0   662.0  678.0   \n",
       "ExtraTreeClassifier         0.998952  24279.0  24324.0     3.0   48.0   \n",
       "XGB                         0.970259  23591.0  23616.0   711.0  736.0   \n",
       "BaggingClassifier           0.997883  24259.0  24292.0    35.0   68.0   \n",
       "Neural Network-1            0.991429  24221.0  24016.0   311.0  106.0   \n",
       "\n",
       "                                 FPR       FNR  \n",
       "index                                           \n",
       "KNeighborsClassifier        0.033913  0.004481  \n",
       "RandomForestClassifier      0.001480  0.002014  \n",
       "AdaBoostClassifier          0.043491  0.038147  \n",
       "GradientBoostingClassifier  0.027213  0.027870  \n",
       "ExtraTreeClassifier         0.000123  0.001973  \n",
       "XGB                         0.029227  0.030254  \n",
       "BaggingClassifier           0.001439  0.002795  \n",
       "Neural Network-1            0.012784  0.004357  "
      ]
     },
     "metadata": {},
     "output_type": "display_data"
    },
    {
     "name": "stdout",
     "output_type": "stream",
     "text": [
      "Test Results\n"
     ]
    },
    {
     "data": {
      "text/html": [
       "<div>\n",
       "<style scoped>\n",
       "    .dataframe tbody tr th:only-of-type {\n",
       "        vertical-align: middle;\n",
       "    }\n",
       "\n",
       "    .dataframe tbody tr th {\n",
       "        vertical-align: top;\n",
       "    }\n",
       "\n",
       "    .dataframe thead th {\n",
       "        text-align: right;\n",
       "    }\n",
       "</style>\n",
       "<table border=\"1\" class=\"dataframe\">\n",
       "  <thead>\n",
       "    <tr style=\"text-align: right;\">\n",
       "      <th></th>\n",
       "      <th>accuracy</th>\n",
       "      <th>TP</th>\n",
       "      <th>TN</th>\n",
       "      <th>FP</th>\n",
       "      <th>FN</th>\n",
       "      <th>FPR</th>\n",
       "      <th>FNR</th>\n",
       "      <th>auc</th>\n",
       "      <th>MCC</th>\n",
       "      <th>Precision</th>\n",
       "      <th>Recall</th>\n",
       "    </tr>\n",
       "    <tr>\n",
       "      <th>index</th>\n",
       "      <th></th>\n",
       "      <th></th>\n",
       "      <th></th>\n",
       "      <th></th>\n",
       "      <th></th>\n",
       "      <th></th>\n",
       "      <th></th>\n",
       "      <th></th>\n",
       "      <th></th>\n",
       "      <th></th>\n",
       "      <th></th>\n",
       "    </tr>\n",
       "  </thead>\n",
       "  <tbody>\n",
       "    <tr>\n",
       "      <th>KNeighborsClassifier</th>\n",
       "      <td>0.945640</td>\n",
       "      <td>1213.0</td>\n",
       "      <td>9903.0</td>\n",
       "      <td>512.0</td>\n",
       "      <td>127.0</td>\n",
       "      <td>0.049160</td>\n",
       "      <td>0.094776</td>\n",
       "      <td>0.928032</td>\n",
       "      <td>0.768853</td>\n",
       "      <td>0.703188</td>\n",
       "      <td>0.905224</td>\n",
       "    </tr>\n",
       "    <tr>\n",
       "      <th>RandomForestClassifier</th>\n",
       "      <td>0.976010</td>\n",
       "      <td>1167.0</td>\n",
       "      <td>10306.0</td>\n",
       "      <td>109.0</td>\n",
       "      <td>173.0</td>\n",
       "      <td>0.010466</td>\n",
       "      <td>0.129104</td>\n",
       "      <td>0.930215</td>\n",
       "      <td>0.879047</td>\n",
       "      <td>0.914577</td>\n",
       "      <td>0.870896</td>\n",
       "    </tr>\n",
       "    <tr>\n",
       "      <th>AdaBoostClassifier</th>\n",
       "      <td>0.952191</td>\n",
       "      <td>1240.0</td>\n",
       "      <td>9953.0</td>\n",
       "      <td>462.0</td>\n",
       "      <td>100.0</td>\n",
       "      <td>0.044359</td>\n",
       "      <td>0.074627</td>\n",
       "      <td>0.940507</td>\n",
       "      <td>0.795678</td>\n",
       "      <td>0.728555</td>\n",
       "      <td>0.925373</td>\n",
       "    </tr>\n",
       "    <tr>\n",
       "      <th>GradientBoostingClassifier</th>\n",
       "      <td>0.963080</td>\n",
       "      <td>1210.0</td>\n",
       "      <td>10111.0</td>\n",
       "      <td>304.0</td>\n",
       "      <td>130.0</td>\n",
       "      <td>0.029189</td>\n",
       "      <td>0.097015</td>\n",
       "      <td>0.936898</td>\n",
       "      <td>0.829007</td>\n",
       "      <td>0.799207</td>\n",
       "      <td>0.902985</td>\n",
       "    </tr>\n",
       "    <tr>\n",
       "      <th>ExtraTreeClassifier</th>\n",
       "      <td>0.975074</td>\n",
       "      <td>1162.0</td>\n",
       "      <td>10300.0</td>\n",
       "      <td>115.0</td>\n",
       "      <td>178.0</td>\n",
       "      <td>0.011042</td>\n",
       "      <td>0.132836</td>\n",
       "      <td>0.928061</td>\n",
       "      <td>0.874346</td>\n",
       "      <td>0.909945</td>\n",
       "      <td>0.867164</td>\n",
       "    </tr>\n",
       "    <tr>\n",
       "      <th>XGB</th>\n",
       "      <td>0.962739</td>\n",
       "      <td>1221.0</td>\n",
       "      <td>10096.0</td>\n",
       "      <td>319.0</td>\n",
       "      <td>119.0</td>\n",
       "      <td>0.030629</td>\n",
       "      <td>0.088806</td>\n",
       "      <td>0.940283</td>\n",
       "      <td>0.829400</td>\n",
       "      <td>0.792857</td>\n",
       "      <td>0.911194</td>\n",
       "    </tr>\n",
       "    <tr>\n",
       "      <th>BaggingClassifier</th>\n",
       "      <td>0.972437</td>\n",
       "      <td>1163.0</td>\n",
       "      <td>10268.0</td>\n",
       "      <td>147.0</td>\n",
       "      <td>177.0</td>\n",
       "      <td>0.014114</td>\n",
       "      <td>0.132090</td>\n",
       "      <td>0.926898</td>\n",
       "      <td>0.862276</td>\n",
       "      <td>0.887786</td>\n",
       "      <td>0.867910</td>\n",
       "    </tr>\n",
       "    <tr>\n",
       "      <th>Neural Network-1</th>\n",
       "      <td>0.959932</td>\n",
       "      <td>1181.0</td>\n",
       "      <td>10103.0</td>\n",
       "      <td>312.0</td>\n",
       "      <td>159.0</td>\n",
       "      <td>0.029957</td>\n",
       "      <td>0.118657</td>\n",
       "      <td>0.926898</td>\n",
       "      <td>0.812574</td>\n",
       "      <td>0.791025</td>\n",
       "      <td>0.881343</td>\n",
       "    </tr>\n",
       "  </tbody>\n",
       "</table>\n",
       "</div>"
      ],
      "text/plain": [
       "                            accuracy      TP       TN     FP     FN       FPR  \\\n",
       "index                                                                           \n",
       "KNeighborsClassifier        0.945640  1213.0   9903.0  512.0  127.0  0.049160   \n",
       "RandomForestClassifier      0.976010  1167.0  10306.0  109.0  173.0  0.010466   \n",
       "AdaBoostClassifier          0.952191  1240.0   9953.0  462.0  100.0  0.044359   \n",
       "GradientBoostingClassifier  0.963080  1210.0  10111.0  304.0  130.0  0.029189   \n",
       "ExtraTreeClassifier         0.975074  1162.0  10300.0  115.0  178.0  0.011042   \n",
       "XGB                         0.962739  1221.0  10096.0  319.0  119.0  0.030629   \n",
       "BaggingClassifier           0.972437  1163.0  10268.0  147.0  177.0  0.014114   \n",
       "Neural Network-1            0.959932  1181.0  10103.0  312.0  159.0  0.029957   \n",
       "\n",
       "                                 FNR       auc       MCC  Precision    Recall  \n",
       "index                                                                          \n",
       "KNeighborsClassifier        0.094776  0.928032  0.768853   0.703188  0.905224  \n",
       "RandomForestClassifier      0.129104  0.930215  0.879047   0.914577  0.870896  \n",
       "AdaBoostClassifier          0.074627  0.940507  0.795678   0.728555  0.925373  \n",
       "GradientBoostingClassifier  0.097015  0.936898  0.829007   0.799207  0.902985  \n",
       "ExtraTreeClassifier         0.132836  0.928061  0.874346   0.909945  0.867164  \n",
       "XGB                         0.088806  0.940283  0.829400   0.792857  0.911194  \n",
       "BaggingClassifier           0.132090  0.926898  0.862276   0.887786  0.867910  \n",
       "Neural Network-1            0.118657  0.926898  0.812574   0.791025  0.881343  "
      ]
     },
     "metadata": {},
     "output_type": "display_data"
    }
   ],
   "source": [
    "table_80_50_train['index']=ind_columns\n",
    "table_80_50_test['index']=ind_columns\n",
    "\n",
    "\n",
    "table_80_50_test.set_index(['index'],drop=True,inplace=True)\n",
    "table_80_50_train.set_index(['index'],drop=True,inplace=True)\n",
    "\n",
    "print(\"Training Results\")\n",
    "display(table_80_50_train)\n",
    "print(\"Test Results\")\n",
    "display(table_80_50_test)"
   ]
  },
  {
   "cell_type": "markdown",
   "metadata": {},
   "source": [
    "### <a id='2.B' style=\"text-decoration : none; color : #000000;\"> B. Average Feature Importances</a>"
   ]
  },
  {
   "cell_type": "code",
   "execution_count": 15,
   "metadata": {},
   "outputs": [
    {
     "data": {
      "application/vnd.plotly.v1+json": {
       "config": {
        "linkText": "Export to plot.ly",
        "plotlyServerURL": "https://plot.ly",
        "showLink": true
       },
       "data": [
        {
         "marker": {
          "color": "rgb(158,202,225)",
          "line": {
           "color": "rgb(8,48,107)",
           "width": 1.5
          }
         },
         "opacity": 0.6,
         "orientation": "h",
         "text": [
          0.1328,
          0.0974,
          0.0736,
          0.0587,
          0.0558,
          0.0538,
          0.0427,
          0.0378,
          0.0357,
          0.035,
          0.0297,
          0.0288,
          0.0275,
          0.025,
          0.0223,
          0.02,
          0.0192,
          0.0181,
          0.018,
          0.0177,
          0.0174,
          0.0174,
          0.0162,
          0.0139,
          0.0137,
          0.0123,
          0.0115,
          0.011,
          0.0091,
          0.0082,
          0.0077,
          0.0054,
          0.0037,
          0.003
         ],
         "textposition": "outside",
         "type": "bar",
         "uid": "8cc71ac2-181c-47fc-8057-b3bd83cb580b",
         "x": [
          0.13275921370990543,
          0.0973941635323815,
          0.07358119041958903,
          0.058663512868995835,
          0.055818165841444015,
          0.05379045813408343,
          0.042688856038315834,
          0.03781049451174727,
          0.03565798478736158,
          0.03496391096644845,
          0.029670913531785297,
          0.02879116415235834,
          0.027521515676378387,
          0.024998361520788583,
          0.022309517666437524,
          0.0200069359513116,
          0.019196914175887057,
          0.018125013927496138,
          0.01797463780918119,
          0.017736022181960964,
          0.01739479214737468,
          0.017394221275468014,
          0.01622735694554218,
          0.013901986373118073,
          0.013689257306046403,
          0.012311012741396081,
          0.01150380617957185,
          0.011012300584203572,
          0.009106480058160652,
          0.008230166382224163,
          0.007741226942866132,
          0.005371296262154373,
          0.003684677416478813,
          0.002972473192256977
         ],
         "y": [
          "total_count",
          "url_length",
          "url_extensions",
          "meta_count",
          "url_char_w",
          "http_header_content-encoding_gzip",
          "total_href",
          "url_char_.",
          "url_char_l",
          "link_type_text/css",
          "link_href_out_of_domain",
          "http_header_cache-control_set_max-age",
          "http_header_transfer-encoding_chunked",
          "url_char_i",
          "a_count",
          "a_href_out_of_domain",
          "url_extension_.com",
          "img_src_http",
          "url_char_z",
          "a_href_relative",
          "p_count",
          "http_header_server_apache",
          "script_async_true",
          "push",
          "a_href_https",
          "http_header_via_1.1",
          "http_header_vary_user-agent",
          "center_count",
          "url_char_f",
          "form_action_http",
          "iframe_src_.html",
          "url_char_p",
          "a_href_http",
          "url_char_y"
         ]
        }
       ],
       "layout": {
        "autosize": false,
        "height": 1000,
        "width": 1000,
        "xaxis": {
         "tickfont": {
          "color": "black",
          "size": 12
         },
         "title": "Feature Importances"
        },
        "yaxis": {
         "automargin": true
        }
       }
      },
      "text/html": [
       "<div id=\"49eee62c-e905-4228-bc72-1a2d93c3c9f1\" style=\"height: 1000px; width: 1000px;\" class=\"plotly-graph-div\"></div><script type=\"text/javascript\">require([\"plotly\"], function(Plotly) { window.PLOTLYENV=window.PLOTLYENV || {};window.PLOTLYENV.BASE_URL=\"https://plot.ly\";Plotly.newPlot(\"49eee62c-e905-4228-bc72-1a2d93c3c9f1\", [{\"marker\": {\"color\": \"rgb(158,202,225)\", \"line\": {\"color\": \"rgb(8,48,107)\", \"width\": 1.5}}, \"opacity\": 0.6, \"orientation\": \"h\", \"text\": [0.1328, 0.0974, 0.0736, 0.0587, 0.0558, 0.0538, 0.0427, 0.0378, 0.0357, 0.035, 0.0297, 0.0288, 0.0275, 0.025, 0.0223, 0.02, 0.0192, 0.0181, 0.018, 0.0177, 0.0174, 0.0174, 0.0162, 0.0139, 0.0137, 0.0123, 0.0115, 0.011, 0.0091, 0.0082, 0.0077, 0.0054, 0.0037, 0.003], \"textposition\": \"outside\", \"x\": [0.13275921370990543, 0.0973941635323815, 0.07358119041958903, 0.058663512868995835, 0.055818165841444015, 0.05379045813408343, 0.042688856038315834, 0.03781049451174727, 0.03565798478736158, 0.03496391096644845, 0.029670913531785297, 0.02879116415235834, 0.027521515676378387, 0.024998361520788583, 0.022309517666437524, 0.0200069359513116, 0.019196914175887057, 0.018125013927496138, 0.01797463780918119, 0.017736022181960964, 0.01739479214737468, 0.017394221275468014, 0.01622735694554218, 0.013901986373118073, 0.013689257306046403, 0.012311012741396081, 0.01150380617957185, 0.011012300584203572, 0.009106480058160652, 0.008230166382224163, 0.007741226942866132, 0.005371296262154373, 0.003684677416478813, 0.002972473192256977], \"y\": [\"total_count\", \"url_length\", \"url_extensions\", \"meta_count\", \"url_char_w\", \"http_header_content-encoding_gzip\", \"total_href\", \"url_char_.\", \"url_char_l\", \"link_type_text/css\", \"link_href_out_of_domain\", \"http_header_cache-control_set_max-age\", \"http_header_transfer-encoding_chunked\", \"url_char_i\", \"a_count\", \"a_href_out_of_domain\", \"url_extension_.com\", \"img_src_http\", \"url_char_z\", \"a_href_relative\", \"p_count\", \"http_header_server_apache\", \"script_async_true\", \"push\", \"a_href_https\", \"http_header_via_1.1\", \"http_header_vary_user-agent\", \"center_count\", \"url_char_f\", \"form_action_http\", \"iframe_src_.html\", \"url_char_p\", \"a_href_http\", \"url_char_y\"], \"type\": \"bar\", \"uid\": \"8cc71ac2-181c-47fc-8057-b3bd83cb580b\"}], {\"autosize\": false, \"height\": 1000, \"width\": 1000, \"xaxis\": {\"tickfont\": {\"color\": \"black\", \"size\": 12}, \"title\": \"Feature Importances\"}, \"yaxis\": {\"automargin\": true}}, {\"showLink\": true, \"linkText\": \"Export to plot.ly\", \"plotlyServerURL\": \"https://plot.ly\"})});</script>"
      ],
      "text/vnd.plotly.v1+html": [
       "<div id=\"49eee62c-e905-4228-bc72-1a2d93c3c9f1\" style=\"height: 1000px; width: 1000px;\" class=\"plotly-graph-div\"></div><script type=\"text/javascript\">require([\"plotly\"], function(Plotly) { window.PLOTLYENV=window.PLOTLYENV || {};window.PLOTLYENV.BASE_URL=\"https://plot.ly\";Plotly.newPlot(\"49eee62c-e905-4228-bc72-1a2d93c3c9f1\", [{\"marker\": {\"color\": \"rgb(158,202,225)\", \"line\": {\"color\": \"rgb(8,48,107)\", \"width\": 1.5}}, \"opacity\": 0.6, \"orientation\": \"h\", \"text\": [0.1328, 0.0974, 0.0736, 0.0587, 0.0558, 0.0538, 0.0427, 0.0378, 0.0357, 0.035, 0.0297, 0.0288, 0.0275, 0.025, 0.0223, 0.02, 0.0192, 0.0181, 0.018, 0.0177, 0.0174, 0.0174, 0.0162, 0.0139, 0.0137, 0.0123, 0.0115, 0.011, 0.0091, 0.0082, 0.0077, 0.0054, 0.0037, 0.003], \"textposition\": \"outside\", \"x\": [0.13275921370990543, 0.0973941635323815, 0.07358119041958903, 0.058663512868995835, 0.055818165841444015, 0.05379045813408343, 0.042688856038315834, 0.03781049451174727, 0.03565798478736158, 0.03496391096644845, 0.029670913531785297, 0.02879116415235834, 0.027521515676378387, 0.024998361520788583, 0.022309517666437524, 0.0200069359513116, 0.019196914175887057, 0.018125013927496138, 0.01797463780918119, 0.017736022181960964, 0.01739479214737468, 0.017394221275468014, 0.01622735694554218, 0.013901986373118073, 0.013689257306046403, 0.012311012741396081, 0.01150380617957185, 0.011012300584203572, 0.009106480058160652, 0.008230166382224163, 0.007741226942866132, 0.005371296262154373, 0.003684677416478813, 0.002972473192256977], \"y\": [\"total_count\", \"url_length\", \"url_extensions\", \"meta_count\", \"url_char_w\", \"http_header_content-encoding_gzip\", \"total_href\", \"url_char_.\", \"url_char_l\", \"link_type_text/css\", \"link_href_out_of_domain\", \"http_header_cache-control_set_max-age\", \"http_header_transfer-encoding_chunked\", \"url_char_i\", \"a_count\", \"a_href_out_of_domain\", \"url_extension_.com\", \"img_src_http\", \"url_char_z\", \"a_href_relative\", \"p_count\", \"http_header_server_apache\", \"script_async_true\", \"push\", \"a_href_https\", \"http_header_via_1.1\", \"http_header_vary_user-agent\", \"center_count\", \"url_char_f\", \"form_action_http\", \"iframe_src_.html\", \"url_char_p\", \"a_href_http\", \"url_char_y\"], \"type\": \"bar\", \"uid\": \"8cc71ac2-181c-47fc-8057-b3bd83cb580b\"}], {\"autosize\": false, \"height\": 1000, \"width\": 1000, \"xaxis\": {\"tickfont\": {\"color\": \"black\", \"size\": 12}, \"title\": \"Feature Importances\"}, \"yaxis\": {\"automargin\": true}}, {\"showLink\": true, \"linkText\": \"Export to plot.ly\", \"plotlyServerURL\": \"https://plot.ly\"})});</script>"
      ]
     },
     "metadata": {},
     "output_type": "display_data"
    }
   ],
   "source": [
    "feat_impt_plot(np.average(feat_imp,axis=0),columns)"
   ]
  },
  {
   "cell_type": "markdown",
   "metadata": {},
   "source": [
    "### <a id='3' style=\"text-decoration : none; color : #000000;\">3. UnderSampling </a>"
   ]
  },
  {
   "cell_type": "code",
   "execution_count": 16,
   "metadata": {
    "scrolled": false
   },
   "outputs": [
    {
     "name": "stdout",
     "output_type": "stream",
     "text": [
      "Shape after undersampling (6202, 34)\n",
      "\u001b[1mK-Nearest Neighbors\u001b[0m\n",
      "Accuracy of the model for training data is: 0.9477587874879071\n",
      "Confusion Matrix for training data is:\n"
     ]
    },
    {
     "data": {
      "text/plain": [
       "Predicted  False  True  __all__\n",
       "Actual                         \n",
       "False       2942   159     3101\n",
       "True         165  2936     3101\n",
       "__all__     3107  3095     6202"
      ]
     },
     "metadata": {},
     "output_type": "display_data"
    },
    {
     "name": "stdout",
     "output_type": "stream",
     "text": [
      "Accuracy of the model for test data is: 0.9304125903870694\n",
      "Confusion Matrix for test data is:\n"
     ]
    },
    {
     "data": {
      "text/plain": [
       "Predicted  False  True  __all__\n",
       "Actual                         \n",
       "False       9708   707    10415\n",
       "True         111  1229     1340\n",
       "__all__     9819  1936    11755"
      ]
     },
     "metadata": {},
     "output_type": "display_data"
    },
    {
     "name": "stdout",
     "output_type": "stream",
     "text": [
      "\n",
      "\n",
      "\u001b[1mRandomForest Classifier\u001b[0m\n",
      "Accuracy of the model for training data is: 0.9945178974524347\n",
      "Confusion Matrix for training data is:\n"
     ]
    },
    {
     "data": {
      "text/plain": [
       "Predicted  False  True  __all__\n",
       "Actual                         \n",
       "False       3092     9     3101\n",
       "True          25  3076     3101\n",
       "__all__     3117  3085     6202"
      ]
     },
     "metadata": {},
     "output_type": "display_data"
    },
    {
     "name": "stdout",
     "output_type": "stream",
     "text": [
      "Accuracy of the model for test data is: 0.95618885580604\n",
      "Confusion Matrix for test data is:\n"
     ]
    },
    {
     "data": {
      "text/plain": [
       "Predicted  False  True  __all__\n",
       "Actual                         \n",
       "False      10009   406    10415\n",
       "True         109  1231     1340\n",
       "__all__    10118  1637    11755"
      ]
     },
     "metadata": {},
     "output_type": "display_data"
    },
    {
     "data": {
      "application/vnd.plotly.v1+json": {
       "config": {
        "linkText": "Export to plot.ly",
        "plotlyServerURL": "https://plot.ly",
        "showLink": true
       },
       "data": [
        {
         "marker": {
          "color": "rgb(158,202,225)",
          "line": {
           "color": "rgb(8,48,107)",
           "width": 1.5
          }
         },
         "opacity": 0.6,
         "orientation": "h",
         "text": [
          0.1706,
          0.1284,
          0.08,
          0.0706,
          0.0706,
          0.0623,
          0.0564,
          0.0522,
          0.0521,
          0.0473,
          0.0277,
          0.0249,
          0.0149,
          0.0135,
          0.0107,
          0.0103,
          0.0095,
          0.0094,
          0.0089,
          0.0085,
          0.008,
          0.0077,
          0.0071,
          0.0063,
          0.0061,
          0.006,
          0.0053,
          0.0053,
          0.0053,
          0.0047,
          0.0042,
          0.0034,
          0.0012,
          0.0003
         ],
         "textposition": "outside",
         "type": "bar",
         "uid": "dd2e141c-e8f1-46ce-a396-d57208dfe71c",
         "x": [
          0.17063485791776067,
          0.12843780556580736,
          0.08004650236725264,
          0.0705978262619037,
          0.07057993194244079,
          0.062295391614356654,
          0.056392336348237426,
          0.05222971438513547,
          0.052064261370385674,
          0.04727671303274947,
          0.027717611644111892,
          0.024920078775280588,
          0.014879324093528467,
          0.013548332006639609,
          0.01072988522762778,
          0.010326193692174935,
          0.00953107039209884,
          0.009395122235132444,
          0.008942539990722491,
          0.00850201764350124,
          0.00804389136396327,
          0.007730010738229117,
          0.007143452286209713,
          0.006266693506957147,
          0.006111499415651737,
          0.006042868520969036,
          0.00528467513835645,
          0.005283252256926227,
          0.005257950880270719,
          0.004704810293597578,
          0.004194513020307601,
          0.0033877699215824437,
          0.0011711490133188773,
          0.00032994713681173444
         ],
         "y": [
          "meta_count",
          "total_count",
          "url_length",
          "a_href_relative",
          "a_count",
          "link_type_text/css",
          "link_href_out_of_domain",
          "script_async_true",
          "url_char_w",
          "url_extensions",
          "total_href",
          "url_char_.",
          "url_char_i",
          "http_header_content-encoding_gzip",
          "http_header_transfer-encoding_chunked",
          "url_char_l",
          "p_count",
          "url_char_z",
          "url_char_p",
          "push",
          "a_href_https",
          "url_extension_.com",
          "http_header_server_apache",
          "a_href_out_of_domain",
          "http_header_vary_user-agent",
          "a_href_http",
          "url_char_f",
          "img_src_http",
          "url_char_y",
          "http_header_cache-control_set_max-age",
          "center_count",
          "form_action_http",
          "http_header_via_1.1",
          "iframe_src_.html"
         ]
        }
       ],
       "layout": {
        "autosize": false,
        "height": 1000,
        "width": 1000,
        "xaxis": {
         "tickfont": {
          "color": "black",
          "size": 12
         },
         "title": "Feature Importances"
        },
        "yaxis": {
         "automargin": true
        }
       }
      },
      "text/html": [
       "<div id=\"78fe524d-8bc2-4193-bc35-26ce961ac5c7\" style=\"height: 1000px; width: 1000px;\" class=\"plotly-graph-div\"></div><script type=\"text/javascript\">require([\"plotly\"], function(Plotly) { window.PLOTLYENV=window.PLOTLYENV || {};window.PLOTLYENV.BASE_URL=\"https://plot.ly\";Plotly.newPlot(\"78fe524d-8bc2-4193-bc35-26ce961ac5c7\", [{\"marker\": {\"color\": \"rgb(158,202,225)\", \"line\": {\"color\": \"rgb(8,48,107)\", \"width\": 1.5}}, \"opacity\": 0.6, \"orientation\": \"h\", \"text\": [0.1706, 0.1284, 0.08, 0.0706, 0.0706, 0.0623, 0.0564, 0.0522, 0.0521, 0.0473, 0.0277, 0.0249, 0.0149, 0.0135, 0.0107, 0.0103, 0.0095, 0.0094, 0.0089, 0.0085, 0.008, 0.0077, 0.0071, 0.0063, 0.0061, 0.006, 0.0053, 0.0053, 0.0053, 0.0047, 0.0042, 0.0034, 0.0012, 0.0003], \"textposition\": \"outside\", \"x\": [0.17063485791776067, 0.12843780556580736, 0.08004650236725264, 0.0705978262619037, 0.07057993194244079, 0.062295391614356654, 0.056392336348237426, 0.05222971438513547, 0.052064261370385674, 0.04727671303274947, 0.027717611644111892, 0.024920078775280588, 0.014879324093528467, 0.013548332006639609, 0.01072988522762778, 0.010326193692174935, 0.00953107039209884, 0.009395122235132444, 0.008942539990722491, 0.00850201764350124, 0.00804389136396327, 0.007730010738229117, 0.007143452286209713, 0.006266693506957147, 0.006111499415651737, 0.006042868520969036, 0.00528467513835645, 0.005283252256926227, 0.005257950880270719, 0.004704810293597578, 0.004194513020307601, 0.0033877699215824437, 0.0011711490133188773, 0.00032994713681173444], \"y\": [\"meta_count\", \"total_count\", \"url_length\", \"a_href_relative\", \"a_count\", \"link_type_text/css\", \"link_href_out_of_domain\", \"script_async_true\", \"url_char_w\", \"url_extensions\", \"total_href\", \"url_char_.\", \"url_char_i\", \"http_header_content-encoding_gzip\", \"http_header_transfer-encoding_chunked\", \"url_char_l\", \"p_count\", \"url_char_z\", \"url_char_p\", \"push\", \"a_href_https\", \"url_extension_.com\", \"http_header_server_apache\", \"a_href_out_of_domain\", \"http_header_vary_user-agent\", \"a_href_http\", \"url_char_f\", \"img_src_http\", \"url_char_y\", \"http_header_cache-control_set_max-age\", \"center_count\", \"form_action_http\", \"http_header_via_1.1\", \"iframe_src_.html\"], \"type\": \"bar\", \"uid\": \"dd2e141c-e8f1-46ce-a396-d57208dfe71c\"}], {\"autosize\": false, \"height\": 1000, \"width\": 1000, \"xaxis\": {\"tickfont\": {\"color\": \"black\", \"size\": 12}, \"title\": \"Feature Importances\"}, \"yaxis\": {\"automargin\": true}}, {\"showLink\": true, \"linkText\": \"Export to plot.ly\", \"plotlyServerURL\": \"https://plot.ly\"})});</script>"
      ],
      "text/vnd.plotly.v1+html": [
       "<div id=\"78fe524d-8bc2-4193-bc35-26ce961ac5c7\" style=\"height: 1000px; width: 1000px;\" class=\"plotly-graph-div\"></div><script type=\"text/javascript\">require([\"plotly\"], function(Plotly) { window.PLOTLYENV=window.PLOTLYENV || {};window.PLOTLYENV.BASE_URL=\"https://plot.ly\";Plotly.newPlot(\"78fe524d-8bc2-4193-bc35-26ce961ac5c7\", [{\"marker\": {\"color\": \"rgb(158,202,225)\", \"line\": {\"color\": \"rgb(8,48,107)\", \"width\": 1.5}}, \"opacity\": 0.6, \"orientation\": \"h\", \"text\": [0.1706, 0.1284, 0.08, 0.0706, 0.0706, 0.0623, 0.0564, 0.0522, 0.0521, 0.0473, 0.0277, 0.0249, 0.0149, 0.0135, 0.0107, 0.0103, 0.0095, 0.0094, 0.0089, 0.0085, 0.008, 0.0077, 0.0071, 0.0063, 0.0061, 0.006, 0.0053, 0.0053, 0.0053, 0.0047, 0.0042, 0.0034, 0.0012, 0.0003], \"textposition\": \"outside\", \"x\": [0.17063485791776067, 0.12843780556580736, 0.08004650236725264, 0.0705978262619037, 0.07057993194244079, 0.062295391614356654, 0.056392336348237426, 0.05222971438513547, 0.052064261370385674, 0.04727671303274947, 0.027717611644111892, 0.024920078775280588, 0.014879324093528467, 0.013548332006639609, 0.01072988522762778, 0.010326193692174935, 0.00953107039209884, 0.009395122235132444, 0.008942539990722491, 0.00850201764350124, 0.00804389136396327, 0.007730010738229117, 0.007143452286209713, 0.006266693506957147, 0.006111499415651737, 0.006042868520969036, 0.00528467513835645, 0.005283252256926227, 0.005257950880270719, 0.004704810293597578, 0.004194513020307601, 0.0033877699215824437, 0.0011711490133188773, 0.00032994713681173444], \"y\": [\"meta_count\", \"total_count\", \"url_length\", \"a_href_relative\", \"a_count\", \"link_type_text/css\", \"link_href_out_of_domain\", \"script_async_true\", \"url_char_w\", \"url_extensions\", \"total_href\", \"url_char_.\", \"url_char_i\", \"http_header_content-encoding_gzip\", \"http_header_transfer-encoding_chunked\", \"url_char_l\", \"p_count\", \"url_char_z\", \"url_char_p\", \"push\", \"a_href_https\", \"url_extension_.com\", \"http_header_server_apache\", \"a_href_out_of_domain\", \"http_header_vary_user-agent\", \"a_href_http\", \"url_char_f\", \"img_src_http\", \"url_char_y\", \"http_header_cache-control_set_max-age\", \"center_count\", \"form_action_http\", \"http_header_via_1.1\", \"iframe_src_.html\"], \"type\": \"bar\", \"uid\": \"dd2e141c-e8f1-46ce-a396-d57208dfe71c\"}], {\"autosize\": false, \"height\": 1000, \"width\": 1000, \"xaxis\": {\"tickfont\": {\"color\": \"black\", \"size\": 12}, \"title\": \"Feature Importances\"}, \"yaxis\": {\"automargin\": true}}, {\"showLink\": true, \"linkText\": \"Export to plot.ly\", \"plotlyServerURL\": \"https://plot.ly\"})});</script>"
      ]
     },
     "metadata": {},
     "output_type": "display_data"
    },
    {
     "name": "stdout",
     "output_type": "stream",
     "text": [
      "\n",
      "\n",
      "\u001b[1mAdaoost Classifier\u001b[0m\n",
      "Accuracy of the model for training data is: 0.9448564979039019\n",
      "Confusion Matrix for training data is:\n"
     ]
    },
    {
     "data": {
      "text/plain": [
       "Predicted  False  True  __all__\n",
       "Actual                         \n",
       "False       2932   169     3101\n",
       "True         173  2928     3101\n",
       "__all__     3105  3097     6202"
      ]
     },
     "metadata": {},
     "output_type": "display_data"
    },
    {
     "name": "stdout",
     "output_type": "stream",
     "text": [
      "Accuracy of the model for test data is: 0.9440238196512123\n",
      "Confusion Matrix for test data is:\n"
     ]
    },
    {
     "data": {
      "text/plain": [
       "Predicted  False  True  __all__\n",
       "Actual                         \n",
       "False       9844   571    10415\n",
       "True          87  1253     1340\n",
       "__all__     9931  1824    11755"
      ]
     },
     "metadata": {},
     "output_type": "display_data"
    },
    {
     "data": {
      "application/vnd.plotly.v1+json": {
       "config": {
        "linkText": "Export to plot.ly",
        "plotlyServerURL": "https://plot.ly",
        "showLink": true
       },
       "data": [
        {
         "marker": {
          "color": "rgb(158,202,225)",
          "line": {
           "color": "rgb(8,48,107)",
           "width": 1.5
          }
         },
         "opacity": 0.6,
         "orientation": "h",
         "text": [
          0.16,
          0.08,
          0.08,
          0.06,
          0.06,
          0.06,
          0.06,
          0.04,
          0.04,
          0.02,
          0.02,
          0.02,
          0.02,
          0.02,
          0.02,
          0.02,
          0.02,
          0.02,
          0.02,
          0.02,
          0.02,
          0.02,
          0.02,
          0.02,
          0.02,
          0.02,
          0.02,
          0,
          0,
          0,
          0,
          0,
          0,
          0
         ],
         "textposition": "outside",
         "type": "bar",
         "uid": "e6ab05d0-53d9-490a-b124-2c73ba913053",
         "x": [
          0.16,
          0.08,
          0.08,
          0.06,
          0.06,
          0.06,
          0.06,
          0.04,
          0.04,
          0.02,
          0.02,
          0.02,
          0.02,
          0.02,
          0.02,
          0.02,
          0.02,
          0.02,
          0.02,
          0.02,
          0.02,
          0.02,
          0.02,
          0.02,
          0.02,
          0.02,
          0.02,
          0,
          0,
          0,
          0,
          0,
          0,
          0
         ],
         "y": [
          "total_count",
          "url_extensions",
          "url_char_w",
          "push",
          "p_count",
          "url_length",
          "a_href_out_of_domain",
          "img_src_http",
          "link_type_text/css",
          "center_count",
          "http_header_vary_user-agent",
          "url_extension_.com",
          "url_char_z",
          "url_char_y",
          "a_href_https",
          "url_char_p",
          "url_char_l",
          "url_char_i",
          "url_char_f",
          "http_header_via_1.1",
          "http_header_cache-control_set_max-age",
          "form_action_http",
          "http_header_server_apache",
          "http_header_content-encoding_gzip",
          "a_href_relative",
          "link_href_out_of_domain",
          "iframe_src_.html",
          "url_char_.",
          "a_count",
          "total_href",
          "script_async_true",
          "meta_count",
          "a_href_http",
          "http_header_transfer-encoding_chunked"
         ]
        }
       ],
       "layout": {
        "autosize": false,
        "height": 1000,
        "width": 1000,
        "xaxis": {
         "tickfont": {
          "color": "black",
          "size": 12
         },
         "title": "Feature Importances"
        },
        "yaxis": {
         "automargin": true
        }
       }
      },
      "text/html": [
       "<div id=\"52fa0053-780a-4e7e-87bd-e537300bbaab\" style=\"height: 1000px; width: 1000px;\" class=\"plotly-graph-div\"></div><script type=\"text/javascript\">require([\"plotly\"], function(Plotly) { window.PLOTLYENV=window.PLOTLYENV || {};window.PLOTLYENV.BASE_URL=\"https://plot.ly\";Plotly.newPlot(\"52fa0053-780a-4e7e-87bd-e537300bbaab\", [{\"marker\": {\"color\": \"rgb(158,202,225)\", \"line\": {\"color\": \"rgb(8,48,107)\", \"width\": 1.5}}, \"opacity\": 0.6, \"orientation\": \"h\", \"text\": [0.16, 0.08, 0.08, 0.06, 0.06, 0.06, 0.06, 0.04, 0.04, 0.02, 0.02, 0.02, 0.02, 0.02, 0.02, 0.02, 0.02, 0.02, 0.02, 0.02, 0.02, 0.02, 0.02, 0.02, 0.02, 0.02, 0.02, 0.0, 0.0, 0.0, 0.0, 0.0, 0.0, 0.0], \"textposition\": \"outside\", \"x\": [0.16, 0.08, 0.08, 0.06, 0.06, 0.06, 0.06, 0.04, 0.04, 0.02, 0.02, 0.02, 0.02, 0.02, 0.02, 0.02, 0.02, 0.02, 0.02, 0.02, 0.02, 0.02, 0.02, 0.02, 0.02, 0.02, 0.02, 0.0, 0.0, 0.0, 0.0, 0.0, 0.0, 0.0], \"y\": [\"total_count\", \"url_extensions\", \"url_char_w\", \"push\", \"p_count\", \"url_length\", \"a_href_out_of_domain\", \"img_src_http\", \"link_type_text/css\", \"center_count\", \"http_header_vary_user-agent\", \"url_extension_.com\", \"url_char_z\", \"url_char_y\", \"a_href_https\", \"url_char_p\", \"url_char_l\", \"url_char_i\", \"url_char_f\", \"http_header_via_1.1\", \"http_header_cache-control_set_max-age\", \"form_action_http\", \"http_header_server_apache\", \"http_header_content-encoding_gzip\", \"a_href_relative\", \"link_href_out_of_domain\", \"iframe_src_.html\", \"url_char_.\", \"a_count\", \"total_href\", \"script_async_true\", \"meta_count\", \"a_href_http\", \"http_header_transfer-encoding_chunked\"], \"type\": \"bar\", \"uid\": \"e6ab05d0-53d9-490a-b124-2c73ba913053\"}], {\"autosize\": false, \"height\": 1000, \"width\": 1000, \"xaxis\": {\"tickfont\": {\"color\": \"black\", \"size\": 12}, \"title\": \"Feature Importances\"}, \"yaxis\": {\"automargin\": true}}, {\"showLink\": true, \"linkText\": \"Export to plot.ly\", \"plotlyServerURL\": \"https://plot.ly\"})});</script>"
      ],
      "text/vnd.plotly.v1+html": [
       "<div id=\"52fa0053-780a-4e7e-87bd-e537300bbaab\" style=\"height: 1000px; width: 1000px;\" class=\"plotly-graph-div\"></div><script type=\"text/javascript\">require([\"plotly\"], function(Plotly) { window.PLOTLYENV=window.PLOTLYENV || {};window.PLOTLYENV.BASE_URL=\"https://plot.ly\";Plotly.newPlot(\"52fa0053-780a-4e7e-87bd-e537300bbaab\", [{\"marker\": {\"color\": \"rgb(158,202,225)\", \"line\": {\"color\": \"rgb(8,48,107)\", \"width\": 1.5}}, \"opacity\": 0.6, \"orientation\": \"h\", \"text\": [0.16, 0.08, 0.08, 0.06, 0.06, 0.06, 0.06, 0.04, 0.04, 0.02, 0.02, 0.02, 0.02, 0.02, 0.02, 0.02, 0.02, 0.02, 0.02, 0.02, 0.02, 0.02, 0.02, 0.02, 0.02, 0.02, 0.02, 0.0, 0.0, 0.0, 0.0, 0.0, 0.0, 0.0], \"textposition\": \"outside\", \"x\": [0.16, 0.08, 0.08, 0.06, 0.06, 0.06, 0.06, 0.04, 0.04, 0.02, 0.02, 0.02, 0.02, 0.02, 0.02, 0.02, 0.02, 0.02, 0.02, 0.02, 0.02, 0.02, 0.02, 0.02, 0.02, 0.02, 0.02, 0.0, 0.0, 0.0, 0.0, 0.0, 0.0, 0.0], \"y\": [\"total_count\", \"url_extensions\", \"url_char_w\", \"push\", \"p_count\", \"url_length\", \"a_href_out_of_domain\", \"img_src_http\", \"link_type_text/css\", \"center_count\", \"http_header_vary_user-agent\", \"url_extension_.com\", \"url_char_z\", \"url_char_y\", \"a_href_https\", \"url_char_p\", \"url_char_l\", \"url_char_i\", \"url_char_f\", \"http_header_via_1.1\", \"http_header_cache-control_set_max-age\", \"form_action_http\", \"http_header_server_apache\", \"http_header_content-encoding_gzip\", \"a_href_relative\", \"link_href_out_of_domain\", \"iframe_src_.html\", \"url_char_.\", \"a_count\", \"total_href\", \"script_async_true\", \"meta_count\", \"a_href_http\", \"http_header_transfer-encoding_chunked\"], \"type\": \"bar\", \"uid\": \"e6ab05d0-53d9-490a-b124-2c73ba913053\"}], {\"autosize\": false, \"height\": 1000, \"width\": 1000, \"xaxis\": {\"tickfont\": {\"color\": \"black\", \"size\": 12}, \"title\": \"Feature Importances\"}, \"yaxis\": {\"automargin\": true}}, {\"showLink\": true, \"linkText\": \"Export to plot.ly\", \"plotlyServerURL\": \"https://plot.ly\"})});</script>"
      ]
     },
     "metadata": {},
     "output_type": "display_data"
    },
    {
     "name": "stdout",
     "output_type": "stream",
     "text": [
      "\n",
      "\n",
      "\u001b[1mGradientBoosting Classifier\u001b[0m\n",
      "Accuracy of the model for training data is: 0.9548532731376975\n",
      "Confusion Matrix for training data is:\n"
     ]
    },
    {
     "data": {
      "text/plain": [
       "Predicted  False  True  __all__\n",
       "Actual                         \n",
       "False       2961   140     3101\n",
       "True         140  2961     3101\n",
       "__all__     3101  3101     6202"
      ]
     },
     "metadata": {},
     "output_type": "display_data"
    },
    {
     "name": "stdout",
     "output_type": "stream",
     "text": [
      "Accuracy of the model for test data is: 0.9519353466609953\n",
      "Confusion Matrix for test data is:\n"
     ]
    },
    {
     "data": {
      "text/plain": [
       "Predicted  False  True  __all__\n",
       "Actual                         \n",
       "False       9934   481    10415\n",
       "True          84  1256     1340\n",
       "__all__    10018  1737    11755"
      ]
     },
     "metadata": {},
     "output_type": "display_data"
    },
    {
     "data": {
      "application/vnd.plotly.v1+json": {
       "config": {
        "linkText": "Export to plot.ly",
        "plotlyServerURL": "https://plot.ly",
        "showLink": true
       },
       "data": [
        {
         "marker": {
          "color": "rgb(158,202,225)",
          "line": {
           "color": "rgb(8,48,107)",
           "width": 1.5
          }
         },
         "opacity": 0.6,
         "orientation": "h",
         "text": [
          0.2737,
          0.1732,
          0.1698,
          0.0799,
          0.0792,
          0.0531,
          0.0466,
          0.0218,
          0.0206,
          0.0155,
          0.0106,
          0.0091,
          0.0061,
          0.005,
          0.0045,
          0.0044,
          0.0042,
          0.0039,
          0.0033,
          0.003,
          0.0027,
          0.0019,
          0.0018,
          0.0015,
          0.0012,
          0.0007,
          0.0007,
          0.0006,
          0.0004,
          0.0003,
          0.0003,
          0.0003,
          0.0002,
          0
         ],
         "textposition": "outside",
         "type": "bar",
         "uid": "c6d5901d-ceee-4906-8422-77c7f82841b2",
         "x": [
          0.273729712669813,
          0.17322142352999723,
          0.1698065274802301,
          0.07988325072980597,
          0.0792427325185971,
          0.05305149743855645,
          0.046581332783438935,
          0.021766469716076455,
          0.02064554013363685,
          0.015480329043982308,
          0.01061006596546067,
          0.009063775159052287,
          0.006091376115239832,
          0.0049698916947682826,
          0.004476816920729387,
          0.004416189599788563,
          0.0042458503418038055,
          0.003857947827637307,
          0.0033345146525741868,
          0.0029710548349358426,
          0.0027052448910233596,
          0.001883588931565319,
          0.0017784597278514885,
          0.0014669815873246147,
          0.0012218115576112752,
          0.0006886688592064348,
          0.0006789244191114599,
          0.0006390261372679657,
          0.00039979355103212944,
          0.0002997430253698451,
          0.0002857055311477733,
          0.0002849925087252785,
          0.00020457926135553737,
          1.618085528309194e-05
         ],
         "y": [
          "total_count",
          "a_href_out_of_domain",
          "total_href",
          "url_length",
          "url_char_w",
          "url_extensions",
          "meta_count",
          "push",
          "http_header_server_apache",
          "url_char_z",
          "a_count",
          "url_char_.",
          "http_header_content-encoding_gzip",
          "a_href_https",
          "a_href_relative",
          "link_href_out_of_domain",
          "http_header_vary_user-agent",
          "p_count",
          "link_type_text/css",
          "http_header_via_1.1",
          "form_action_http",
          "url_extension_.com",
          "center_count",
          "http_header_cache-control_set_max-age",
          "http_header_transfer-encoding_chunked",
          "script_async_true",
          "url_char_i",
          "img_src_http",
          "url_char_l",
          "a_href_http",
          "url_char_p",
          "url_char_y",
          "url_char_f",
          "iframe_src_.html"
         ]
        }
       ],
       "layout": {
        "autosize": false,
        "height": 1000,
        "width": 1000,
        "xaxis": {
         "tickfont": {
          "color": "black",
          "size": 12
         },
         "title": "Feature Importances"
        },
        "yaxis": {
         "automargin": true
        }
       }
      },
      "text/html": [
       "<div id=\"1af758f2-14ec-4fdb-83b6-e2ae2bc2c70e\" style=\"height: 1000px; width: 1000px;\" class=\"plotly-graph-div\"></div><script type=\"text/javascript\">require([\"plotly\"], function(Plotly) { window.PLOTLYENV=window.PLOTLYENV || {};window.PLOTLYENV.BASE_URL=\"https://plot.ly\";Plotly.newPlot(\"1af758f2-14ec-4fdb-83b6-e2ae2bc2c70e\", [{\"marker\": {\"color\": \"rgb(158,202,225)\", \"line\": {\"color\": \"rgb(8,48,107)\", \"width\": 1.5}}, \"opacity\": 0.6, \"orientation\": \"h\", \"text\": [0.2737, 0.1732, 0.1698, 0.0799, 0.0792, 0.0531, 0.0466, 0.0218, 0.0206, 0.0155, 0.0106, 0.0091, 0.0061, 0.005, 0.0045, 0.0044, 0.0042, 0.0039, 0.0033, 0.003, 0.0027, 0.0019, 0.0018, 0.0015, 0.0012, 0.0007, 0.0007, 0.0006, 0.0004, 0.0003, 0.0003, 0.0003, 0.0002, 0.0], \"textposition\": \"outside\", \"x\": [0.273729712669813, 0.17322142352999723, 0.1698065274802301, 0.07988325072980597, 0.0792427325185971, 0.05305149743855645, 0.046581332783438935, 0.021766469716076455, 0.02064554013363685, 0.015480329043982308, 0.01061006596546067, 0.009063775159052287, 0.006091376115239832, 0.0049698916947682826, 0.004476816920729387, 0.004416189599788563, 0.0042458503418038055, 0.003857947827637307, 0.0033345146525741868, 0.0029710548349358426, 0.0027052448910233596, 0.001883588931565319, 0.0017784597278514885, 0.0014669815873246147, 0.0012218115576112752, 0.0006886688592064348, 0.0006789244191114599, 0.0006390261372679657, 0.00039979355103212944, 0.0002997430253698451, 0.0002857055311477733, 0.0002849925087252785, 0.00020457926135553737, 1.618085528309194e-05], \"y\": [\"total_count\", \"a_href_out_of_domain\", \"total_href\", \"url_length\", \"url_char_w\", \"url_extensions\", \"meta_count\", \"push\", \"http_header_server_apache\", \"url_char_z\", \"a_count\", \"url_char_.\", \"http_header_content-encoding_gzip\", \"a_href_https\", \"a_href_relative\", \"link_href_out_of_domain\", \"http_header_vary_user-agent\", \"p_count\", \"link_type_text/css\", \"http_header_via_1.1\", \"form_action_http\", \"url_extension_.com\", \"center_count\", \"http_header_cache-control_set_max-age\", \"http_header_transfer-encoding_chunked\", \"script_async_true\", \"url_char_i\", \"img_src_http\", \"url_char_l\", \"a_href_http\", \"url_char_p\", \"url_char_y\", \"url_char_f\", \"iframe_src_.html\"], \"type\": \"bar\", \"uid\": \"c6d5901d-ceee-4906-8422-77c7f82841b2\"}], {\"autosize\": false, \"height\": 1000, \"width\": 1000, \"xaxis\": {\"tickfont\": {\"color\": \"black\", \"size\": 12}, \"title\": \"Feature Importances\"}, \"yaxis\": {\"automargin\": true}}, {\"showLink\": true, \"linkText\": \"Export to plot.ly\", \"plotlyServerURL\": \"https://plot.ly\"})});</script>"
      ],
      "text/vnd.plotly.v1+html": [
       "<div id=\"1af758f2-14ec-4fdb-83b6-e2ae2bc2c70e\" style=\"height: 1000px; width: 1000px;\" class=\"plotly-graph-div\"></div><script type=\"text/javascript\">require([\"plotly\"], function(Plotly) { window.PLOTLYENV=window.PLOTLYENV || {};window.PLOTLYENV.BASE_URL=\"https://plot.ly\";Plotly.newPlot(\"1af758f2-14ec-4fdb-83b6-e2ae2bc2c70e\", [{\"marker\": {\"color\": \"rgb(158,202,225)\", \"line\": {\"color\": \"rgb(8,48,107)\", \"width\": 1.5}}, \"opacity\": 0.6, \"orientation\": \"h\", \"text\": [0.2737, 0.1732, 0.1698, 0.0799, 0.0792, 0.0531, 0.0466, 0.0218, 0.0206, 0.0155, 0.0106, 0.0091, 0.0061, 0.005, 0.0045, 0.0044, 0.0042, 0.0039, 0.0033, 0.003, 0.0027, 0.0019, 0.0018, 0.0015, 0.0012, 0.0007, 0.0007, 0.0006, 0.0004, 0.0003, 0.0003, 0.0003, 0.0002, 0.0], \"textposition\": \"outside\", \"x\": [0.273729712669813, 0.17322142352999723, 0.1698065274802301, 0.07988325072980597, 0.0792427325185971, 0.05305149743855645, 0.046581332783438935, 0.021766469716076455, 0.02064554013363685, 0.015480329043982308, 0.01061006596546067, 0.009063775159052287, 0.006091376115239832, 0.0049698916947682826, 0.004476816920729387, 0.004416189599788563, 0.0042458503418038055, 0.003857947827637307, 0.0033345146525741868, 0.0029710548349358426, 0.0027052448910233596, 0.001883588931565319, 0.0017784597278514885, 0.0014669815873246147, 0.0012218115576112752, 0.0006886688592064348, 0.0006789244191114599, 0.0006390261372679657, 0.00039979355103212944, 0.0002997430253698451, 0.0002857055311477733, 0.0002849925087252785, 0.00020457926135553737, 1.618085528309194e-05], \"y\": [\"total_count\", \"a_href_out_of_domain\", \"total_href\", \"url_length\", \"url_char_w\", \"url_extensions\", \"meta_count\", \"push\", \"http_header_server_apache\", \"url_char_z\", \"a_count\", \"url_char_.\", \"http_header_content-encoding_gzip\", \"a_href_https\", \"a_href_relative\", \"link_href_out_of_domain\", \"http_header_vary_user-agent\", \"p_count\", \"link_type_text/css\", \"http_header_via_1.1\", \"form_action_http\", \"url_extension_.com\", \"center_count\", \"http_header_cache-control_set_max-age\", \"http_header_transfer-encoding_chunked\", \"script_async_true\", \"url_char_i\", \"img_src_http\", \"url_char_l\", \"a_href_http\", \"url_char_p\", \"url_char_y\", \"url_char_f\", \"iframe_src_.html\"], \"type\": \"bar\", \"uid\": \"c6d5901d-ceee-4906-8422-77c7f82841b2\"}], {\"autosize\": false, \"height\": 1000, \"width\": 1000, \"xaxis\": {\"tickfont\": {\"color\": \"black\", \"size\": 12}, \"title\": \"Feature Importances\"}, \"yaxis\": {\"automargin\": true}}, {\"showLink\": true, \"linkText\": \"Export to plot.ly\", \"plotlyServerURL\": \"https://plot.ly\"})});</script>"
      ]
     },
     "metadata": {},
     "output_type": "display_data"
    },
    {
     "name": "stdout",
     "output_type": "stream",
     "text": [
      "\n",
      "\n",
      "\u001b[1mExtraTree Classifier\u001b[0m\n",
      "Accuracy of the model for training data is: 0.9975814253466624\n",
      "Confusion Matrix for training data is:\n"
     ]
    },
    {
     "data": {
      "text/plain": [
       "Predicted  False  True  __all__\n",
       "Actual                         \n",
       "False       3101     0     3101\n",
       "True          15  3086     3101\n",
       "__all__     3116  3086     6202"
      ]
     },
     "metadata": {},
     "output_type": "display_data"
    },
    {
     "name": "stdout",
     "output_type": "stream",
     "text": [
      "Accuracy of the model for test data is: 0.9578902594640578\n",
      "Confusion Matrix for test data is:\n"
     ]
    },
    {
     "data": {
      "text/plain": [
       "Predicted  False  True  __all__\n",
       "Actual                         \n",
       "False      10034   381    10415\n",
       "True         114  1226     1340\n",
       "__all__    10148  1607    11755"
      ]
     },
     "metadata": {},
     "output_type": "display_data"
    },
    {
     "data": {
      "application/vnd.plotly.v1+json": {
       "config": {
        "linkText": "Export to plot.ly",
        "plotlyServerURL": "https://plot.ly",
        "showLink": true
       },
       "data": [
        {
         "marker": {
          "color": "rgb(158,202,225)",
          "line": {
           "color": "rgb(8,48,107)",
           "width": 1.5
          }
         },
         "opacity": 0.6,
         "orientation": "h",
         "text": [
          0.1466,
          0.117,
          0.0592,
          0.0546,
          0.0518,
          0.049,
          0.0483,
          0.0477,
          0.0472,
          0.0265,
          0.024,
          0.0227,
          0.0225,
          0.0219,
          0.0219,
          0.0204,
          0.019,
          0.0167,
          0.0166,
          0.016,
          0.0148,
          0.0138,
          0.0128,
          0.0125,
          0.0122,
          0.012,
          0.012,
          0.0113,
          0.0097,
          0.0092,
          0.0087,
          0.0074,
          0.0071,
          0.0069
         ],
         "textposition": "outside",
         "type": "bar",
         "uid": "6d72d034-c73c-41a8-b018-75b69ddc827b",
         "x": [
          0.14656354281112155,
          0.11704735955755216,
          0.05922190019600075,
          0.05460717916193329,
          0.0517536520261518,
          0.048977949565390116,
          0.04826036179664771,
          0.04765632158868899,
          0.047200976577811735,
          0.026450470206756886,
          0.024004266447415077,
          0.022675209282344923,
          0.02248779841486607,
          0.02188785421897499,
          0.021885983382554788,
          0.020431142161923356,
          0.01904896706132615,
          0.016699052371830163,
          0.0166255209376933,
          0.016046404070505022,
          0.014771711388222957,
          0.013800837302024836,
          0.012802110234083688,
          0.01248060972777737,
          0.012223549308449393,
          0.01202666111514947,
          0.011969114631970864,
          0.011317781177454928,
          0.009722049421670452,
          0.009238953809777736,
          0.008717153728560757,
          0.007394764735415579,
          0.0070775903405571414,
          0.006925201241395967
         ],
         "y": [
          "http_header_content-encoding_gzip",
          "http_header_transfer-encoding_chunked",
          "http_header_cache-control_set_max-age",
          "url_length",
          "url_extensions",
          "url_char_.",
          "total_count",
          "url_char_w",
          "link_type_text/css",
          "a_href_out_of_domain",
          "url_char_i",
          "script_async_true",
          "total_href",
          "url_char_l",
          "meta_count",
          "link_href_out_of_domain",
          "a_count",
          "url_extension_.com",
          "a_href_https",
          "push",
          "a_href_relative",
          "a_href_http",
          "url_char_z",
          "url_char_p",
          "http_header_server_apache",
          "http_header_vary_user-agent",
          "img_src_http",
          "p_count",
          "url_char_f",
          "url_char_y",
          "http_header_via_1.1",
          "center_count",
          "iframe_src_.html",
          "form_action_http"
         ]
        }
       ],
       "layout": {
        "autosize": false,
        "height": 1000,
        "width": 1000,
        "xaxis": {
         "tickfont": {
          "color": "black",
          "size": 12
         },
         "title": "Feature Importances"
        },
        "yaxis": {
         "automargin": true
        }
       }
      },
      "text/html": [
       "<div id=\"9107f7fa-cdac-4c1e-b74a-9be8a9c6d49f\" style=\"height: 1000px; width: 1000px;\" class=\"plotly-graph-div\"></div><script type=\"text/javascript\">require([\"plotly\"], function(Plotly) { window.PLOTLYENV=window.PLOTLYENV || {};window.PLOTLYENV.BASE_URL=\"https://plot.ly\";Plotly.newPlot(\"9107f7fa-cdac-4c1e-b74a-9be8a9c6d49f\", [{\"marker\": {\"color\": \"rgb(158,202,225)\", \"line\": {\"color\": \"rgb(8,48,107)\", \"width\": 1.5}}, \"opacity\": 0.6, \"orientation\": \"h\", \"text\": [0.1466, 0.117, 0.0592, 0.0546, 0.0518, 0.049, 0.0483, 0.0477, 0.0472, 0.0265, 0.024, 0.0227, 0.0225, 0.0219, 0.0219, 0.0204, 0.019, 0.0167, 0.0166, 0.016, 0.0148, 0.0138, 0.0128, 0.0125, 0.0122, 0.012, 0.012, 0.0113, 0.0097, 0.0092, 0.0087, 0.0074, 0.0071, 0.0069], \"textposition\": \"outside\", \"x\": [0.14656354281112155, 0.11704735955755216, 0.05922190019600075, 0.05460717916193329, 0.0517536520261518, 0.048977949565390116, 0.04826036179664771, 0.04765632158868899, 0.047200976577811735, 0.026450470206756886, 0.024004266447415077, 0.022675209282344923, 0.02248779841486607, 0.02188785421897499, 0.021885983382554788, 0.020431142161923356, 0.01904896706132615, 0.016699052371830163, 0.0166255209376933, 0.016046404070505022, 0.014771711388222957, 0.013800837302024836, 0.012802110234083688, 0.01248060972777737, 0.012223549308449393, 0.01202666111514947, 0.011969114631970864, 0.011317781177454928, 0.009722049421670452, 0.009238953809777736, 0.008717153728560757, 0.007394764735415579, 0.0070775903405571414, 0.006925201241395967], \"y\": [\"http_header_content-encoding_gzip\", \"http_header_transfer-encoding_chunked\", \"http_header_cache-control_set_max-age\", \"url_length\", \"url_extensions\", \"url_char_.\", \"total_count\", \"url_char_w\", \"link_type_text/css\", \"a_href_out_of_domain\", \"url_char_i\", \"script_async_true\", \"total_href\", \"url_char_l\", \"meta_count\", \"link_href_out_of_domain\", \"a_count\", \"url_extension_.com\", \"a_href_https\", \"push\", \"a_href_relative\", \"a_href_http\", \"url_char_z\", \"url_char_p\", \"http_header_server_apache\", \"http_header_vary_user-agent\", \"img_src_http\", \"p_count\", \"url_char_f\", \"url_char_y\", \"http_header_via_1.1\", \"center_count\", \"iframe_src_.html\", \"form_action_http\"], \"type\": \"bar\", \"uid\": \"6d72d034-c73c-41a8-b018-75b69ddc827b\"}], {\"autosize\": false, \"height\": 1000, \"width\": 1000, \"xaxis\": {\"tickfont\": {\"color\": \"black\", \"size\": 12}, \"title\": \"Feature Importances\"}, \"yaxis\": {\"automargin\": true}}, {\"showLink\": true, \"linkText\": \"Export to plot.ly\", \"plotlyServerURL\": \"https://plot.ly\"})});</script>"
      ],
      "text/vnd.plotly.v1+html": [
       "<div id=\"9107f7fa-cdac-4c1e-b74a-9be8a9c6d49f\" style=\"height: 1000px; width: 1000px;\" class=\"plotly-graph-div\"></div><script type=\"text/javascript\">require([\"plotly\"], function(Plotly) { window.PLOTLYENV=window.PLOTLYENV || {};window.PLOTLYENV.BASE_URL=\"https://plot.ly\";Plotly.newPlot(\"9107f7fa-cdac-4c1e-b74a-9be8a9c6d49f\", [{\"marker\": {\"color\": \"rgb(158,202,225)\", \"line\": {\"color\": \"rgb(8,48,107)\", \"width\": 1.5}}, \"opacity\": 0.6, \"orientation\": \"h\", \"text\": [0.1466, 0.117, 0.0592, 0.0546, 0.0518, 0.049, 0.0483, 0.0477, 0.0472, 0.0265, 0.024, 0.0227, 0.0225, 0.0219, 0.0219, 0.0204, 0.019, 0.0167, 0.0166, 0.016, 0.0148, 0.0138, 0.0128, 0.0125, 0.0122, 0.012, 0.012, 0.0113, 0.0097, 0.0092, 0.0087, 0.0074, 0.0071, 0.0069], \"textposition\": \"outside\", \"x\": [0.14656354281112155, 0.11704735955755216, 0.05922190019600075, 0.05460717916193329, 0.0517536520261518, 0.048977949565390116, 0.04826036179664771, 0.04765632158868899, 0.047200976577811735, 0.026450470206756886, 0.024004266447415077, 0.022675209282344923, 0.02248779841486607, 0.02188785421897499, 0.021885983382554788, 0.020431142161923356, 0.01904896706132615, 0.016699052371830163, 0.0166255209376933, 0.016046404070505022, 0.014771711388222957, 0.013800837302024836, 0.012802110234083688, 0.01248060972777737, 0.012223549308449393, 0.01202666111514947, 0.011969114631970864, 0.011317781177454928, 0.009722049421670452, 0.009238953809777736, 0.008717153728560757, 0.007394764735415579, 0.0070775903405571414, 0.006925201241395967], \"y\": [\"http_header_content-encoding_gzip\", \"http_header_transfer-encoding_chunked\", \"http_header_cache-control_set_max-age\", \"url_length\", \"url_extensions\", \"url_char_.\", \"total_count\", \"url_char_w\", \"link_type_text/css\", \"a_href_out_of_domain\", \"url_char_i\", \"script_async_true\", \"total_href\", \"url_char_l\", \"meta_count\", \"link_href_out_of_domain\", \"a_count\", \"url_extension_.com\", \"a_href_https\", \"push\", \"a_href_relative\", \"a_href_http\", \"url_char_z\", \"url_char_p\", \"http_header_server_apache\", \"http_header_vary_user-agent\", \"img_src_http\", \"p_count\", \"url_char_f\", \"url_char_y\", \"http_header_via_1.1\", \"center_count\", \"iframe_src_.html\", \"form_action_http\"], \"type\": \"bar\", \"uid\": \"6d72d034-c73c-41a8-b018-75b69ddc827b\"}], {\"autosize\": false, \"height\": 1000, \"width\": 1000, \"xaxis\": {\"tickfont\": {\"color\": \"black\", \"size\": 12}, \"title\": \"Feature Importances\"}, \"yaxis\": {\"automargin\": true}}, {\"showLink\": true, \"linkText\": \"Export to plot.ly\", \"plotlyServerURL\": \"https://plot.ly\"})});</script>"
      ]
     },
     "metadata": {},
     "output_type": "display_data"
    },
    {
     "name": "stdout",
     "output_type": "stream",
     "text": [
      "\n",
      "\n",
      "\u001b[1mXGB Classifier\u001b[0m\n",
      "Accuracy of the model for training data is: 0.9530796517252499\n",
      "Confusion Matrix for training data is:\n"
     ]
    },
    {
     "data": {
      "text/plain": [
       "Predicted  False  True  __all__\n",
       "Actual                         \n",
       "False       2966   135     3101\n",
       "True         156  2945     3101\n",
       "__all__     3122  3080     6202"
      ]
     },
     "metadata": {},
     "output_type": "display_data"
    },
    {
     "name": "stdout",
     "output_type": "stream",
     "text": [
      "Accuracy of the model for test data is: 0.9524457677584007\n",
      "Confusion Matrix for test data is:\n"
     ]
    },
    {
     "data": {
      "text/plain": [
       "Predicted  False  True  __all__\n",
       "Actual                         \n",
       "False       9941   474    10415\n",
       "True          85  1255     1340\n",
       "__all__    10026  1729    11755"
      ]
     },
     "metadata": {},
     "output_type": "display_data"
    },
    {
     "data": {
      "application/vnd.plotly.v1+json": {
       "config": {
        "linkText": "Export to plot.ly",
        "plotlyServerURL": "https://plot.ly",
        "showLink": true
       },
       "data": [
        {
         "marker": {
          "color": "rgb(158,202,225)",
          "line": {
           "color": "rgb(8,48,107)",
           "width": 1.5
          }
         },
         "opacity": 0.6,
         "orientation": "h",
         "text": [
          0.1231,
          0.0888,
          0.0576,
          0.0545,
          0.053,
          0.0514,
          0.0514,
          0.0436,
          0.0421,
          0.0374,
          0.0343,
          0.0327,
          0.0249,
          0.0249,
          0.0218,
          0.0218,
          0.0202,
          0.0187,
          0.0171,
          0.0171,
          0.0156,
          0.014,
          0.014,
          0.014,
          0.014,
          0.014,
          0.014,
          0.0125,
          0.0109,
          0.0109,
          0.0093,
          0.0078,
          0.0078,
          0.0047
         ],
         "textposition": "outside",
         "type": "bar",
         "uid": "128136b9-8a34-4df5-86b5-fe61ac8525e3",
         "x": [
          0.12305296212434769,
          0.08878504484891891,
          0.05763239786028862,
          0.05451713502407074,
          0.05295950174331665,
          0.05140186846256256,
          0.05140186846256256,
          0.04361370578408241,
          0.04205607622861862,
          0.037383176386356354,
          0.034267913550138474,
          0.032710280269384384,
          0.024922117590904236,
          0.024922117590904236,
          0.021806852892041206,
          0.021806852892041206,
          0.020249221473932266,
          0.018691588193178177,
          0.017133956775069237,
          0.017133956775069237,
          0.015576324425637722,
          0.014018691144883633,
          0.014018691144883633,
          0.014018691144883633,
          0.014018691144883633,
          0.014018691144883633,
          0.014018691144883633,
          0.012461058795452118,
          0.010903426446020603,
          0.010903426446020603,
          0.009345794096589088,
          0.007788162212818861,
          0.007788162212818861,
          0.004672897048294544
         ],
         "y": [
          "url_length",
          "url_char_w",
          "push",
          "url_extensions",
          "a_href_out_of_domain",
          "total_count",
          "p_count",
          "url_char_.",
          "http_header_content-encoding_gzip",
          "link_type_text/css",
          "http_header_server_apache",
          "a_href_https",
          "url_char_l",
          "url_extension_.com",
          "img_src_http",
          "link_href_out_of_domain",
          "url_char_z",
          "http_header_via_1.1",
          "total_href",
          "form_action_http",
          "script_async_true",
          "meta_count",
          "a_href_relative",
          "url_char_p",
          "center_count",
          "http_header_vary_user-agent",
          "a_count",
          "http_header_cache-control_set_max-age",
          "url_char_i",
          "url_char_f",
          "iframe_src_.html",
          "a_href_http",
          "http_header_transfer-encoding_chunked",
          "url_char_y"
         ]
        }
       ],
       "layout": {
        "autosize": false,
        "height": 1000,
        "width": 1000,
        "xaxis": {
         "tickfont": {
          "color": "black",
          "size": 12
         },
         "title": "Feature Importances"
        },
        "yaxis": {
         "automargin": true
        }
       }
      },
      "text/html": [
       "<div id=\"23f1bf84-c577-4301-bdfc-52ad65b2cc22\" style=\"height: 1000px; width: 1000px;\" class=\"plotly-graph-div\"></div><script type=\"text/javascript\">require([\"plotly\"], function(Plotly) { window.PLOTLYENV=window.PLOTLYENV || {};window.PLOTLYENV.BASE_URL=\"https://plot.ly\";Plotly.newPlot(\"23f1bf84-c577-4301-bdfc-52ad65b2cc22\", [{\"marker\": {\"color\": \"rgb(158,202,225)\", \"line\": {\"color\": \"rgb(8,48,107)\", \"width\": 1.5}}, \"opacity\": 0.6, \"orientation\": \"h\", \"text\": [0.1231, 0.0888, 0.0576, 0.0545, 0.053, 0.0514, 0.0514, 0.0436, 0.0421, 0.0374, 0.0343, 0.0327, 0.0249, 0.0249, 0.0218, 0.0218, 0.0202, 0.0187, 0.0171, 0.0171, 0.0156, 0.014, 0.014, 0.014, 0.014, 0.014, 0.014, 0.0125, 0.0109, 0.0109, 0.0093, 0.0078, 0.0078, 0.0047], \"textposition\": \"outside\", \"x\": [0.12305296212434769, 0.08878504484891891, 0.05763239786028862, 0.05451713502407074, 0.05295950174331665, 0.05140186846256256, 0.05140186846256256, 0.04361370578408241, 0.04205607622861862, 0.037383176386356354, 0.034267913550138474, 0.032710280269384384, 0.024922117590904236, 0.024922117590904236, 0.021806852892041206, 0.021806852892041206, 0.020249221473932266, 0.018691588193178177, 0.017133956775069237, 0.017133956775069237, 0.015576324425637722, 0.014018691144883633, 0.014018691144883633, 0.014018691144883633, 0.014018691144883633, 0.014018691144883633, 0.014018691144883633, 0.012461058795452118, 0.010903426446020603, 0.010903426446020603, 0.009345794096589088, 0.007788162212818861, 0.007788162212818861, 0.004672897048294544], \"y\": [\"url_length\", \"url_char_w\", \"push\", \"url_extensions\", \"a_href_out_of_domain\", \"total_count\", \"p_count\", \"url_char_.\", \"http_header_content-encoding_gzip\", \"link_type_text/css\", \"http_header_server_apache\", \"a_href_https\", \"url_char_l\", \"url_extension_.com\", \"img_src_http\", \"link_href_out_of_domain\", \"url_char_z\", \"http_header_via_1.1\", \"total_href\", \"form_action_http\", \"script_async_true\", \"meta_count\", \"a_href_relative\", \"url_char_p\", \"center_count\", \"http_header_vary_user-agent\", \"a_count\", \"http_header_cache-control_set_max-age\", \"url_char_i\", \"url_char_f\", \"iframe_src_.html\", \"a_href_http\", \"http_header_transfer-encoding_chunked\", \"url_char_y\"], \"type\": \"bar\", \"uid\": \"128136b9-8a34-4df5-86b5-fe61ac8525e3\"}], {\"autosize\": false, \"height\": 1000, \"width\": 1000, \"xaxis\": {\"tickfont\": {\"color\": \"black\", \"size\": 12}, \"title\": \"Feature Importances\"}, \"yaxis\": {\"automargin\": true}}, {\"showLink\": true, \"linkText\": \"Export to plot.ly\", \"plotlyServerURL\": \"https://plot.ly\"})});</script>"
      ],
      "text/vnd.plotly.v1+html": [
       "<div id=\"23f1bf84-c577-4301-bdfc-52ad65b2cc22\" style=\"height: 1000px; width: 1000px;\" class=\"plotly-graph-div\"></div><script type=\"text/javascript\">require([\"plotly\"], function(Plotly) { window.PLOTLYENV=window.PLOTLYENV || {};window.PLOTLYENV.BASE_URL=\"https://plot.ly\";Plotly.newPlot(\"23f1bf84-c577-4301-bdfc-52ad65b2cc22\", [{\"marker\": {\"color\": \"rgb(158,202,225)\", \"line\": {\"color\": \"rgb(8,48,107)\", \"width\": 1.5}}, \"opacity\": 0.6, \"orientation\": \"h\", \"text\": [0.1231, 0.0888, 0.0576, 0.0545, 0.053, 0.0514, 0.0514, 0.0436, 0.0421, 0.0374, 0.0343, 0.0327, 0.0249, 0.0249, 0.0218, 0.0218, 0.0202, 0.0187, 0.0171, 0.0171, 0.0156, 0.014, 0.014, 0.014, 0.014, 0.014, 0.014, 0.0125, 0.0109, 0.0109, 0.0093, 0.0078, 0.0078, 0.0047], \"textposition\": \"outside\", \"x\": [0.12305296212434769, 0.08878504484891891, 0.05763239786028862, 0.05451713502407074, 0.05295950174331665, 0.05140186846256256, 0.05140186846256256, 0.04361370578408241, 0.04205607622861862, 0.037383176386356354, 0.034267913550138474, 0.032710280269384384, 0.024922117590904236, 0.024922117590904236, 0.021806852892041206, 0.021806852892041206, 0.020249221473932266, 0.018691588193178177, 0.017133956775069237, 0.017133956775069237, 0.015576324425637722, 0.014018691144883633, 0.014018691144883633, 0.014018691144883633, 0.014018691144883633, 0.014018691144883633, 0.014018691144883633, 0.012461058795452118, 0.010903426446020603, 0.010903426446020603, 0.009345794096589088, 0.007788162212818861, 0.007788162212818861, 0.004672897048294544], \"y\": [\"url_length\", \"url_char_w\", \"push\", \"url_extensions\", \"a_href_out_of_domain\", \"total_count\", \"p_count\", \"url_char_.\", \"http_header_content-encoding_gzip\", \"link_type_text/css\", \"http_header_server_apache\", \"a_href_https\", \"url_char_l\", \"url_extension_.com\", \"img_src_http\", \"link_href_out_of_domain\", \"url_char_z\", \"http_header_via_1.1\", \"total_href\", \"form_action_http\", \"script_async_true\", \"meta_count\", \"a_href_relative\", \"url_char_p\", \"center_count\", \"http_header_vary_user-agent\", \"a_count\", \"http_header_cache-control_set_max-age\", \"url_char_i\", \"url_char_f\", \"iframe_src_.html\", \"a_href_http\", \"http_header_transfer-encoding_chunked\", \"url_char_y\"], \"type\": \"bar\", \"uid\": \"128136b9-8a34-4df5-86b5-fe61ac8525e3\"}], {\"autosize\": false, \"height\": 1000, \"width\": 1000, \"xaxis\": {\"tickfont\": {\"color\": \"black\", \"size\": 12}, \"title\": \"Feature Importances\"}, \"yaxis\": {\"automargin\": true}}, {\"showLink\": true, \"linkText\": \"Export to plot.ly\", \"plotlyServerURL\": \"https://plot.ly\"})});</script>"
      ]
     },
     "metadata": {},
     "output_type": "display_data"
    },
    {
     "name": "stdout",
     "output_type": "stream",
     "text": [
      "\n",
      "\n",
      "\u001b[1mBagging Classifier\u001b[0m\n",
      "Accuracy of the model for training data is: 0.9932279909706546\n",
      "Confusion Matrix for training data is:\n"
     ]
    },
    {
     "data": {
      "text/plain": [
       "Predicted  False  True  __all__\n",
       "Actual                         \n",
       "False       3088    13     3101\n",
       "True          29  3072     3101\n",
       "__all__     3117  3085     6202"
      ]
     },
     "metadata": {},
     "output_type": "display_data"
    },
    {
     "name": "stdout",
     "output_type": "stream",
     "text": [
      "Accuracy of the model for test data is: 0.9524457677584007\n",
      "Confusion Matrix for test data is:\n"
     ]
    },
    {
     "data": {
      "text/plain": [
       "Predicted  False  True  __all__\n",
       "Actual                         \n",
       "False       9973   442    10415\n",
       "True         117  1223     1340\n",
       "__all__    10090  1665    11755"
      ]
     },
     "metadata": {},
     "output_type": "display_data"
    },
    {
     "name": "stdout",
     "output_type": "stream",
     "text": [
      "\n",
      "\n",
      "\u001b[1mNeural Network-1\u001b[0m\n",
      "The accuracy of the model on training data is: 0.9850048371493066\n"
     ]
    },
    {
     "data": {
      "text/plain": [
       "Predicted  False  True  __all__\n",
       "Actual                         \n",
       "False       3092     9     3101\n",
       "True          84  3017     3101\n",
       "__all__     3176  3026     6202"
      ]
     },
     "metadata": {},
     "output_type": "display_data"
    },
    {
     "name": "stdout",
     "output_type": "stream",
     "text": [
      "The accuracy of the model on test data is: 0.9562739259889409\n"
     ]
    },
    {
     "data": {
      "text/plain": [
       "Predicted  False  True  __all__\n",
       "Actual                         \n",
       "False      10034   381    10415\n",
       "True         133  1207     1340\n",
       "__all__    10167  1588    11755"
      ]
     },
     "metadata": {},
     "output_type": "display_data"
    },
    {
     "name": "stdout",
     "output_type": "stream",
     "text": [
      "\n",
      "\n"
     ]
    }
   ],
   "source": [
    "df_non=train[train.Target==0]\n",
    "df_mal=train[train.Target==1]\n",
    "\n",
    "df_non=df_non.sample(frac=len(df_mal)/len(df_non),random_state=0)\n",
    "df_u=df_non.append(df_mal)\n",
    "df_u.Target.value_counts() \n",
    "\n",
    "X_train=df_u[columns]\n",
    "X_train=scaler.transform(X_train)\n",
    "Y_train=df_u.Target.values\n",
    "\n",
    "print(\"Shape after undersampling\",X_train.shape)\n",
    "\n",
    "## Table to store training and test measures so we can compare later\n",
    "table_80_50_train=pd.DataFrame(columns=['accuracy','TP','TN','FP','FN','FPR','FNR'])\n",
    "table_80_50_test=pd.DataFrame(columns=['accuracy','TP','TN','FP','FN','FPR','FNR','auc','MCC','Precision','Recall'])\n",
    "\n",
    "feat_imp=[None]*5\n",
    "j=0\n",
    "for i in range(0,8):\n",
    "    if i>=1 and i<=5:\n",
    "        model,cm_train,cm_test,acc_train,acc_test,roc_auc,feat_imp[j],mcc,prec,rec=f[i](X_train,Y_train,scaled_X_test,test_Y,columns)\n",
    "        j=j+1\n",
    "    else:\n",
    "        model,cm_train,cm_test,acc_train,acc_test,roc_auc,mcc,prec,rec=f[i](X_train,Y_train,scaled_X_test,test_Y)\n",
    "    table_80_50_train.loc[i]=   ([acc_train,cm_train.TP,cm_train.TN,cm_train.FP,cm_train.FN,cm_train.FPR,cm_train.FNR])\n",
    "    table_80_50_test.loc[i] =   ([acc_test ,cm_test.TP, cm_test.TN, cm_test.FP, cm_test.FN, cm_test.FPR, cm_test.FNR,roc_auc,mcc,prec,rec])\n",
    "    print(\"\\n\")"
   ]
  },
  {
   "cell_type": "markdown",
   "metadata": {},
   "source": [
    "### <a id='3.A' style=\"text-decoration : none; color : #000000;\"> A. Results</a>"
   ]
  },
  {
   "cell_type": "code",
   "execution_count": 17,
   "metadata": {},
   "outputs": [
    {
     "data": {
      "application/vnd.plotly.v1+json": {
       "config": {
        "linkText": "Export to plot.ly",
        "plotlyServerURL": "https://plot.ly",
        "showLink": true
       },
       "data": [
        {
         "mode": "lines",
         "name": "KNN_model",
         "type": "scatter",
         "uid": "0b861c3b-bc79-4108-b597-fd7478dc414e",
         "x": [
          "accuracy",
          "auc",
          "MCC",
          "Precision",
          "Recall"
         ],
         "y": [
          0.9304125903870694,
          0.9246406589233381,
          0.7276914975220291,
          0.6348140495867769,
          0.9171641791044776
         ]
        },
        {
         "mode": "lines+markers",
         "name": "XGB",
         "type": "scatter",
         "uid": "161292b9-5296-4ebd-bf5c-095a8b0a4b40",
         "x": [
          "accuracy",
          "auc",
          "MCC",
          "Precision",
          "Recall"
         ],
         "y": [
          0.9524457677584007,
          0.9455279411870079,
          0.7995131866704168,
          0.7258530942741469,
          0.9365671641791045
         ]
        },
        {
         "marker": {
          "symbol": "x"
         },
         "mode": "lines+markers",
         "name": "Random Forest",
         "type": "scatter",
         "uid": "af8f9a17-da29-4358-8ea1-25158bc8b4e6",
         "x": [
          "accuracy",
          "auc",
          "MCC",
          "Precision",
          "Recall"
         ],
         "y": [
          0.95618885580604,
          0.9398372396299827,
          0.8074810734057751,
          0.7519853390348198,
          0.9186567164179105
         ]
        },
        {
         "mode": "lines",
         "name": "Ada Boost",
         "type": "scatter",
         "uid": "e3499373-cb5d-4ec3-b8d8-51d20d3754cc",
         "x": [
          "accuracy",
          "auc",
          "MCC",
          "Precision",
          "Recall"
         ],
         "y": [
          0.9440238196512123,
          0.9401249274510787,
          0.7726433846527643,
          0.6869517543859649,
          0.9350746268656717
         ]
        },
        {
         "mode": "lines+markers",
         "name": "GradientBoosting",
         "type": "scatter",
         "uid": "4b10a8e7-77af-4ea5-92d4-2058530eb8e3",
         "x": [
          "accuracy",
          "auc",
          "MCC",
          "Precision",
          "Recall"
         ],
         "y": [
          0.9519353466609953,
          0.9455650217467632,
          0.7980547725339834,
          0.7230857800805988,
          0.9373134328358209
         ]
        },
        {
         "marker": {
          "symbol": "x"
         },
         "mode": "lines+markers",
         "name": "ExtraTree Classifier",
         "type": "scatter",
         "uid": "1158c966-6573-4018-b77b-156acf341ec7",
         "x": [
          "accuracy",
          "auc",
          "MCC",
          "Precision",
          "Recall"
         ],
         "y": [
          0.9578902594640578,
          0.9391717600189164,
          0.8125465867493378,
          0.7629122588674548,
          0.9149253731343283
         ]
        },
        {
         "marker": {
          "symbol": "x"
         },
         "mode": "lines+markers",
         "name": "Bagging",
         "type": "scatter",
         "uid": "d5bd3654-c84d-4499-9f24-344459e344b2",
         "x": [
          "accuracy",
          "auc",
          "MCC",
          "Precision",
          "Recall"
         ],
         "y": [
          0.9524457677584007,
          0.935123888478873,
          0.7931809166265021,
          0.7345345345345345,
          0.9126865671641791
         ]
        },
        {
         "marker": {
          "symbol": "x"
         },
         "mode": "lines+markers",
         "name": "Neural Network",
         "type": "scatter",
         "uid": "d2430456-9c72-4e7f-abac-f01151a65643",
         "x": [
          "accuracy",
          "auc",
          "MCC",
          "Precision",
          "Recall"
         ],
         "y": [
          0.9562739259889409,
          0.935123888478873,
          0.8034461139455354,
          0.7600755667506297,
          0.9007462686567164
         ]
        }
       ],
       "layout": {
        "title": "Result comparision for Features selected in Section 1",
        "yaxis": {
         "dtick": 0.05,
         "tick0": 0
        }
       }
      },
      "text/html": [
       "<div id=\"93a17eac-544c-42c9-88ee-d1229b8e742a\" style=\"height: 525px; width: 100%;\" class=\"plotly-graph-div\"></div><script type=\"text/javascript\">require([\"plotly\"], function(Plotly) { window.PLOTLYENV=window.PLOTLYENV || {};window.PLOTLYENV.BASE_URL=\"https://plot.ly\";Plotly.newPlot(\"93a17eac-544c-42c9-88ee-d1229b8e742a\", [{\"mode\": \"lines\", \"name\": \"KNN_model\", \"x\": [\"accuracy\", \"auc\", \"MCC\", \"Precision\", \"Recall\"], \"y\": [0.9304125903870694, 0.9246406589233381, 0.7276914975220291, 0.6348140495867769, 0.9171641791044776], \"type\": \"scatter\", \"uid\": \"0b861c3b-bc79-4108-b597-fd7478dc414e\"}, {\"mode\": \"lines+markers\", \"name\": \"XGB\", \"x\": [\"accuracy\", \"auc\", \"MCC\", \"Precision\", \"Recall\"], \"y\": [0.9524457677584007, 0.9455279411870079, 0.7995131866704168, 0.7258530942741469, 0.9365671641791045], \"type\": \"scatter\", \"uid\": \"161292b9-5296-4ebd-bf5c-095a8b0a4b40\"}, {\"marker\": {\"symbol\": \"x\"}, \"mode\": \"lines+markers\", \"name\": \"Random Forest\", \"x\": [\"accuracy\", \"auc\", \"MCC\", \"Precision\", \"Recall\"], \"y\": [0.95618885580604, 0.9398372396299827, 0.8074810734057751, 0.7519853390348198, 0.9186567164179105], \"type\": \"scatter\", \"uid\": \"af8f9a17-da29-4358-8ea1-25158bc8b4e6\"}, {\"mode\": \"lines\", \"name\": \"Ada Boost\", \"x\": [\"accuracy\", \"auc\", \"MCC\", \"Precision\", \"Recall\"], \"y\": [0.9440238196512123, 0.9401249274510787, 0.7726433846527643, 0.6869517543859649, 0.9350746268656717], \"type\": \"scatter\", \"uid\": \"e3499373-cb5d-4ec3-b8d8-51d20d3754cc\"}, {\"mode\": \"lines+markers\", \"name\": \"GradientBoosting\", \"x\": [\"accuracy\", \"auc\", \"MCC\", \"Precision\", \"Recall\"], \"y\": [0.9519353466609953, 0.9455650217467632, 0.7980547725339834, 0.7230857800805988, 0.9373134328358209], \"type\": \"scatter\", \"uid\": \"4b10a8e7-77af-4ea5-92d4-2058530eb8e3\"}, {\"marker\": {\"symbol\": \"x\"}, \"mode\": \"lines+markers\", \"name\": \"ExtraTree Classifier\", \"x\": [\"accuracy\", \"auc\", \"MCC\", \"Precision\", \"Recall\"], \"y\": [0.9578902594640578, 0.9391717600189164, 0.8125465867493378, 0.7629122588674548, 0.9149253731343283], \"type\": \"scatter\", \"uid\": \"1158c966-6573-4018-b77b-156acf341ec7\"}, {\"marker\": {\"symbol\": \"x\"}, \"mode\": \"lines+markers\", \"name\": \"Bagging\", \"x\": [\"accuracy\", \"auc\", \"MCC\", \"Precision\", \"Recall\"], \"y\": [0.9524457677584007, 0.935123888478873, 0.7931809166265021, 0.7345345345345345, 0.9126865671641791], \"type\": \"scatter\", \"uid\": \"d5bd3654-c84d-4499-9f24-344459e344b2\"}, {\"marker\": {\"symbol\": \"x\"}, \"mode\": \"lines+markers\", \"name\": \"Neural Network\", \"x\": [\"accuracy\", \"auc\", \"MCC\", \"Precision\", \"Recall\"], \"y\": [0.9562739259889409, 0.935123888478873, 0.8034461139455354, 0.7600755667506297, 0.9007462686567164], \"type\": \"scatter\", \"uid\": \"d2430456-9c72-4e7f-abac-f01151a65643\"}], {\"title\": \"Result comparision for Features selected in Section 1\", \"yaxis\": {\"dtick\": 0.05, \"tick0\": 0}}, {\"showLink\": true, \"linkText\": \"Export to plot.ly\", \"plotlyServerURL\": \"https://plot.ly\"})});</script><script type=\"text/javascript\">window.addEventListener(\"resize\", function(){window._Plotly.Plots.resize(document.getElementById(\"93a17eac-544c-42c9-88ee-d1229b8e742a\"));});</script>"
      ],
      "text/vnd.plotly.v1+html": [
       "<div id=\"93a17eac-544c-42c9-88ee-d1229b8e742a\" style=\"height: 525px; width: 100%;\" class=\"plotly-graph-div\"></div><script type=\"text/javascript\">require([\"plotly\"], function(Plotly) { window.PLOTLYENV=window.PLOTLYENV || {};window.PLOTLYENV.BASE_URL=\"https://plot.ly\";Plotly.newPlot(\"93a17eac-544c-42c9-88ee-d1229b8e742a\", [{\"mode\": \"lines\", \"name\": \"KNN_model\", \"x\": [\"accuracy\", \"auc\", \"MCC\", \"Precision\", \"Recall\"], \"y\": [0.9304125903870694, 0.9246406589233381, 0.7276914975220291, 0.6348140495867769, 0.9171641791044776], \"type\": \"scatter\", \"uid\": \"0b861c3b-bc79-4108-b597-fd7478dc414e\"}, {\"mode\": \"lines+markers\", \"name\": \"XGB\", \"x\": [\"accuracy\", \"auc\", \"MCC\", \"Precision\", \"Recall\"], \"y\": [0.9524457677584007, 0.9455279411870079, 0.7995131866704168, 0.7258530942741469, 0.9365671641791045], \"type\": \"scatter\", \"uid\": \"161292b9-5296-4ebd-bf5c-095a8b0a4b40\"}, {\"marker\": {\"symbol\": \"x\"}, \"mode\": \"lines+markers\", \"name\": \"Random Forest\", \"x\": [\"accuracy\", \"auc\", \"MCC\", \"Precision\", \"Recall\"], \"y\": [0.95618885580604, 0.9398372396299827, 0.8074810734057751, 0.7519853390348198, 0.9186567164179105], \"type\": \"scatter\", \"uid\": \"af8f9a17-da29-4358-8ea1-25158bc8b4e6\"}, {\"mode\": \"lines\", \"name\": \"Ada Boost\", \"x\": [\"accuracy\", \"auc\", \"MCC\", \"Precision\", \"Recall\"], \"y\": [0.9440238196512123, 0.9401249274510787, 0.7726433846527643, 0.6869517543859649, 0.9350746268656717], \"type\": \"scatter\", \"uid\": \"e3499373-cb5d-4ec3-b8d8-51d20d3754cc\"}, {\"mode\": \"lines+markers\", \"name\": \"GradientBoosting\", \"x\": [\"accuracy\", \"auc\", \"MCC\", \"Precision\", \"Recall\"], \"y\": [0.9519353466609953, 0.9455650217467632, 0.7980547725339834, 0.7230857800805988, 0.9373134328358209], \"type\": \"scatter\", \"uid\": \"4b10a8e7-77af-4ea5-92d4-2058530eb8e3\"}, {\"marker\": {\"symbol\": \"x\"}, \"mode\": \"lines+markers\", \"name\": \"ExtraTree Classifier\", \"x\": [\"accuracy\", \"auc\", \"MCC\", \"Precision\", \"Recall\"], \"y\": [0.9578902594640578, 0.9391717600189164, 0.8125465867493378, 0.7629122588674548, 0.9149253731343283], \"type\": \"scatter\", \"uid\": \"1158c966-6573-4018-b77b-156acf341ec7\"}, {\"marker\": {\"symbol\": \"x\"}, \"mode\": \"lines+markers\", \"name\": \"Bagging\", \"x\": [\"accuracy\", \"auc\", \"MCC\", \"Precision\", \"Recall\"], \"y\": [0.9524457677584007, 0.935123888478873, 0.7931809166265021, 0.7345345345345345, 0.9126865671641791], \"type\": \"scatter\", \"uid\": \"d5bd3654-c84d-4499-9f24-344459e344b2\"}, {\"marker\": {\"symbol\": \"x\"}, \"mode\": \"lines+markers\", \"name\": \"Neural Network\", \"x\": [\"accuracy\", \"auc\", \"MCC\", \"Precision\", \"Recall\"], \"y\": [0.9562739259889409, 0.935123888478873, 0.8034461139455354, 0.7600755667506297, 0.9007462686567164], \"type\": \"scatter\", \"uid\": \"d2430456-9c72-4e7f-abac-f01151a65643\"}], {\"title\": \"Result comparision for Features selected in Section 1\", \"yaxis\": {\"dtick\": 0.05, \"tick0\": 0}}, {\"showLink\": true, \"linkText\": \"Export to plot.ly\", \"plotlyServerURL\": \"https://plot.ly\"})});</script><script type=\"text/javascript\">window.addEventListener(\"resize\", function(){window._Plotly.Plots.resize(document.getElementById(\"93a17eac-544c-42c9-88ee-d1229b8e742a\"));});</script>"
      ]
     },
     "metadata": {},
     "output_type": "display_data"
    }
   ],
   "source": [
    "trace0 = go.Scatter(x=table_80_50_test.iloc[0].index.values[[0,7,8,9,10]],\n",
    "                    y=table_80_50_test.iloc[0].values[[0,7,8,9,10]],\n",
    "                    mode = 'lines',\n",
    "                    name = 'KNN_model')\n",
    "\n",
    "\n",
    "trace2 = go.Scatter(x=table_80_50_test.iloc[1].index.values[[0,7,8,9,10]],\n",
    "                    y=table_80_50_test.iloc[1].values[[0,7,8,9,10]],\n",
    "                    mode = 'lines+markers',marker=dict(symbol='x'),\n",
    "                    name = 'Random Forest')\n",
    "\n",
    "\n",
    "trace3 = go.Scatter(x=table_80_50_test.iloc[2].index.values[[0,7,8,9,10]],\n",
    "                    y=table_80_50_test.iloc[2].values[[0,7,8,9,10]],\n",
    "                    mode = 'lines',\n",
    "                    name = 'Ada Boost')\n",
    "\n",
    "trace4 = go.Scatter(x=table_80_50_test.iloc[3].index.values[[0,7,8,9,10]],\n",
    "                    y=table_80_50_test.iloc[3].values[[0,7,8,9,10]],\n",
    "                    mode = 'lines+markers',\n",
    "                    name = 'GradientBoosting')\n",
    "\n",
    "trace5 = go.Scatter(x=table_80_50_test.iloc[4].index.values[[0,7,8,9,10]],\n",
    "                    y=table_80_50_test.iloc[4].values[[0,7,8,9,10]],\n",
    "                    mode = 'lines+markers',marker=dict(symbol='x'),\n",
    "                    name = 'ExtraTree Classifier')\n",
    "\n",
    "\n",
    "trace1 = go.Scatter(x=table_80_50_test.iloc[5].index.values[[0,7,8,9,10]],\n",
    "                    y=table_80_50_test.iloc[5].values[[0,7,8,9,10]],\n",
    "                    mode = 'lines+markers',\n",
    "                    name = 'XGB')\n",
    "\n",
    "\n",
    "trace6 = go.Scatter(x=table_80_50_test.iloc[6].index.values[[0,7,8,9,10]],\n",
    "                    y=table_80_50_test.iloc[6].values[[0,7,8,9,10]],\n",
    "                    mode = 'lines+markers',marker=dict(symbol='x'),\n",
    "                    name = 'Bagging')\n",
    "\n",
    "trace7 = go.Scatter(x=table_80_50_test.iloc[7].index.values[[0,7,8,9,10]],\n",
    "                    y=table_80_50_test.iloc[7].values[[0,7,8,9,10]],\n",
    "                    mode = 'lines+markers',marker=dict(symbol='x'),\n",
    "                    name = 'Neural Network')\n",
    "\n",
    "\n",
    "\n",
    "data = [trace0, trace1, trace2, trace3, trace4, trace5, trace6, trace7]\n",
    "layout = go.Layout(yaxis=dict(tick0=0,dtick=0.05),title='Result comparision for Features selected in Section 1')\n",
    "fig = go.Figure(data=data, layout=layout)\n",
    "\n",
    "iplot(fig, filename='Result')"
   ]
  },
  {
   "cell_type": "code",
   "execution_count": 18,
   "metadata": {},
   "outputs": [
    {
     "name": "stdout",
     "output_type": "stream",
     "text": [
      "Training Results\n"
     ]
    },
    {
     "data": {
      "text/html": [
       "<div>\n",
       "<style scoped>\n",
       "    .dataframe tbody tr th:only-of-type {\n",
       "        vertical-align: middle;\n",
       "    }\n",
       "\n",
       "    .dataframe tbody tr th {\n",
       "        vertical-align: top;\n",
       "    }\n",
       "\n",
       "    .dataframe thead th {\n",
       "        text-align: right;\n",
       "    }\n",
       "</style>\n",
       "<table border=\"1\" class=\"dataframe\">\n",
       "  <thead>\n",
       "    <tr style=\"text-align: right;\">\n",
       "      <th></th>\n",
       "      <th>accuracy</th>\n",
       "      <th>TP</th>\n",
       "      <th>TN</th>\n",
       "      <th>FP</th>\n",
       "      <th>FN</th>\n",
       "      <th>FPR</th>\n",
       "      <th>FNR</th>\n",
       "    </tr>\n",
       "    <tr>\n",
       "      <th>index</th>\n",
       "      <th></th>\n",
       "      <th></th>\n",
       "      <th></th>\n",
       "      <th></th>\n",
       "      <th></th>\n",
       "      <th></th>\n",
       "      <th></th>\n",
       "    </tr>\n",
       "  </thead>\n",
       "  <tbody>\n",
       "    <tr>\n",
       "      <th>KNeighborsClassifier</th>\n",
       "      <td>0.947759</td>\n",
       "      <td>2936.0</td>\n",
       "      <td>2942.0</td>\n",
       "      <td>159.0</td>\n",
       "      <td>165.0</td>\n",
       "      <td>0.051274</td>\n",
       "      <td>0.053209</td>\n",
       "    </tr>\n",
       "    <tr>\n",
       "      <th>RandomForestClassifier</th>\n",
       "      <td>0.994518</td>\n",
       "      <td>3076.0</td>\n",
       "      <td>3092.0</td>\n",
       "      <td>9.0</td>\n",
       "      <td>25.0</td>\n",
       "      <td>0.002902</td>\n",
       "      <td>0.008062</td>\n",
       "    </tr>\n",
       "    <tr>\n",
       "      <th>AdaBoostClassifier</th>\n",
       "      <td>0.944856</td>\n",
       "      <td>2928.0</td>\n",
       "      <td>2932.0</td>\n",
       "      <td>169.0</td>\n",
       "      <td>173.0</td>\n",
       "      <td>0.054499</td>\n",
       "      <td>0.055788</td>\n",
       "    </tr>\n",
       "    <tr>\n",
       "      <th>GradientBoostingClassifier</th>\n",
       "      <td>0.954853</td>\n",
       "      <td>2961.0</td>\n",
       "      <td>2961.0</td>\n",
       "      <td>140.0</td>\n",
       "      <td>140.0</td>\n",
       "      <td>0.045147</td>\n",
       "      <td>0.045147</td>\n",
       "    </tr>\n",
       "    <tr>\n",
       "      <th>ExtraTreeClassifier</th>\n",
       "      <td>0.997581</td>\n",
       "      <td>3086.0</td>\n",
       "      <td>3101.0</td>\n",
       "      <td>0.0</td>\n",
       "      <td>15.0</td>\n",
       "      <td>0.000000</td>\n",
       "      <td>0.004837</td>\n",
       "    </tr>\n",
       "    <tr>\n",
       "      <th>XGB</th>\n",
       "      <td>0.953080</td>\n",
       "      <td>2945.0</td>\n",
       "      <td>2966.0</td>\n",
       "      <td>135.0</td>\n",
       "      <td>156.0</td>\n",
       "      <td>0.043534</td>\n",
       "      <td>0.050306</td>\n",
       "    </tr>\n",
       "    <tr>\n",
       "      <th>BaggingClassifier</th>\n",
       "      <td>0.993228</td>\n",
       "      <td>3072.0</td>\n",
       "      <td>3088.0</td>\n",
       "      <td>13.0</td>\n",
       "      <td>29.0</td>\n",
       "      <td>0.004192</td>\n",
       "      <td>0.009352</td>\n",
       "    </tr>\n",
       "    <tr>\n",
       "      <th>Neural Network-1</th>\n",
       "      <td>0.985005</td>\n",
       "      <td>3017.0</td>\n",
       "      <td>3092.0</td>\n",
       "      <td>9.0</td>\n",
       "      <td>84.0</td>\n",
       "      <td>0.002902</td>\n",
       "      <td>0.027088</td>\n",
       "    </tr>\n",
       "  </tbody>\n",
       "</table>\n",
       "</div>"
      ],
      "text/plain": [
       "                            accuracy      TP      TN     FP     FN       FPR  \\\n",
       "index                                                                          \n",
       "KNeighborsClassifier        0.947759  2936.0  2942.0  159.0  165.0  0.051274   \n",
       "RandomForestClassifier      0.994518  3076.0  3092.0    9.0   25.0  0.002902   \n",
       "AdaBoostClassifier          0.944856  2928.0  2932.0  169.0  173.0  0.054499   \n",
       "GradientBoostingClassifier  0.954853  2961.0  2961.0  140.0  140.0  0.045147   \n",
       "ExtraTreeClassifier         0.997581  3086.0  3101.0    0.0   15.0  0.000000   \n",
       "XGB                         0.953080  2945.0  2966.0  135.0  156.0  0.043534   \n",
       "BaggingClassifier           0.993228  3072.0  3088.0   13.0   29.0  0.004192   \n",
       "Neural Network-1            0.985005  3017.0  3092.0    9.0   84.0  0.002902   \n",
       "\n",
       "                                 FNR  \n",
       "index                                 \n",
       "KNeighborsClassifier        0.053209  \n",
       "RandomForestClassifier      0.008062  \n",
       "AdaBoostClassifier          0.055788  \n",
       "GradientBoostingClassifier  0.045147  \n",
       "ExtraTreeClassifier         0.004837  \n",
       "XGB                         0.050306  \n",
       "BaggingClassifier           0.009352  \n",
       "Neural Network-1            0.027088  "
      ]
     },
     "metadata": {},
     "output_type": "display_data"
    },
    {
     "name": "stdout",
     "output_type": "stream",
     "text": [
      "Test Results\n"
     ]
    },
    {
     "data": {
      "text/html": [
       "<div>\n",
       "<style scoped>\n",
       "    .dataframe tbody tr th:only-of-type {\n",
       "        vertical-align: middle;\n",
       "    }\n",
       "\n",
       "    .dataframe tbody tr th {\n",
       "        vertical-align: top;\n",
       "    }\n",
       "\n",
       "    .dataframe thead th {\n",
       "        text-align: right;\n",
       "    }\n",
       "</style>\n",
       "<table border=\"1\" class=\"dataframe\">\n",
       "  <thead>\n",
       "    <tr style=\"text-align: right;\">\n",
       "      <th></th>\n",
       "      <th>accuracy</th>\n",
       "      <th>TP</th>\n",
       "      <th>TN</th>\n",
       "      <th>FP</th>\n",
       "      <th>FN</th>\n",
       "      <th>FPR</th>\n",
       "      <th>FNR</th>\n",
       "      <th>auc</th>\n",
       "      <th>MCC</th>\n",
       "      <th>Precision</th>\n",
       "      <th>Recall</th>\n",
       "    </tr>\n",
       "    <tr>\n",
       "      <th>index</th>\n",
       "      <th></th>\n",
       "      <th></th>\n",
       "      <th></th>\n",
       "      <th></th>\n",
       "      <th></th>\n",
       "      <th></th>\n",
       "      <th></th>\n",
       "      <th></th>\n",
       "      <th></th>\n",
       "      <th></th>\n",
       "      <th></th>\n",
       "    </tr>\n",
       "  </thead>\n",
       "  <tbody>\n",
       "    <tr>\n",
       "      <th>KNeighborsClassifier</th>\n",
       "      <td>0.930413</td>\n",
       "      <td>1229.0</td>\n",
       "      <td>9708.0</td>\n",
       "      <td>707.0</td>\n",
       "      <td>111.0</td>\n",
       "      <td>0.067883</td>\n",
       "      <td>0.082836</td>\n",
       "      <td>0.924641</td>\n",
       "      <td>0.727691</td>\n",
       "      <td>0.634814</td>\n",
       "      <td>0.917164</td>\n",
       "    </tr>\n",
       "    <tr>\n",
       "      <th>RandomForestClassifier</th>\n",
       "      <td>0.956189</td>\n",
       "      <td>1231.0</td>\n",
       "      <td>10009.0</td>\n",
       "      <td>406.0</td>\n",
       "      <td>109.0</td>\n",
       "      <td>0.038982</td>\n",
       "      <td>0.081343</td>\n",
       "      <td>0.939837</td>\n",
       "      <td>0.807481</td>\n",
       "      <td>0.751985</td>\n",
       "      <td>0.918657</td>\n",
       "    </tr>\n",
       "    <tr>\n",
       "      <th>AdaBoostClassifier</th>\n",
       "      <td>0.944024</td>\n",
       "      <td>1253.0</td>\n",
       "      <td>9844.0</td>\n",
       "      <td>571.0</td>\n",
       "      <td>87.0</td>\n",
       "      <td>0.054825</td>\n",
       "      <td>0.064925</td>\n",
       "      <td>0.940125</td>\n",
       "      <td>0.772643</td>\n",
       "      <td>0.686952</td>\n",
       "      <td>0.935075</td>\n",
       "    </tr>\n",
       "    <tr>\n",
       "      <th>GradientBoostingClassifier</th>\n",
       "      <td>0.951935</td>\n",
       "      <td>1256.0</td>\n",
       "      <td>9934.0</td>\n",
       "      <td>481.0</td>\n",
       "      <td>84.0</td>\n",
       "      <td>0.046183</td>\n",
       "      <td>0.062687</td>\n",
       "      <td>0.945565</td>\n",
       "      <td>0.798055</td>\n",
       "      <td>0.723086</td>\n",
       "      <td>0.937313</td>\n",
       "    </tr>\n",
       "    <tr>\n",
       "      <th>ExtraTreeClassifier</th>\n",
       "      <td>0.957890</td>\n",
       "      <td>1226.0</td>\n",
       "      <td>10034.0</td>\n",
       "      <td>381.0</td>\n",
       "      <td>114.0</td>\n",
       "      <td>0.036582</td>\n",
       "      <td>0.085075</td>\n",
       "      <td>0.939172</td>\n",
       "      <td>0.812547</td>\n",
       "      <td>0.762912</td>\n",
       "      <td>0.914925</td>\n",
       "    </tr>\n",
       "    <tr>\n",
       "      <th>XGB</th>\n",
       "      <td>0.952446</td>\n",
       "      <td>1255.0</td>\n",
       "      <td>9941.0</td>\n",
       "      <td>474.0</td>\n",
       "      <td>85.0</td>\n",
       "      <td>0.045511</td>\n",
       "      <td>0.063433</td>\n",
       "      <td>0.945528</td>\n",
       "      <td>0.799513</td>\n",
       "      <td>0.725853</td>\n",
       "      <td>0.936567</td>\n",
       "    </tr>\n",
       "    <tr>\n",
       "      <th>BaggingClassifier</th>\n",
       "      <td>0.952446</td>\n",
       "      <td>1223.0</td>\n",
       "      <td>9973.0</td>\n",
       "      <td>442.0</td>\n",
       "      <td>117.0</td>\n",
       "      <td>0.042439</td>\n",
       "      <td>0.087313</td>\n",
       "      <td>0.935124</td>\n",
       "      <td>0.793181</td>\n",
       "      <td>0.734535</td>\n",
       "      <td>0.912687</td>\n",
       "    </tr>\n",
       "    <tr>\n",
       "      <th>Neural Network-1</th>\n",
       "      <td>0.956274</td>\n",
       "      <td>1207.0</td>\n",
       "      <td>10034.0</td>\n",
       "      <td>381.0</td>\n",
       "      <td>133.0</td>\n",
       "      <td>0.036582</td>\n",
       "      <td>0.099254</td>\n",
       "      <td>0.935124</td>\n",
       "      <td>0.803446</td>\n",
       "      <td>0.760076</td>\n",
       "      <td>0.900746</td>\n",
       "    </tr>\n",
       "  </tbody>\n",
       "</table>\n",
       "</div>"
      ],
      "text/plain": [
       "                            accuracy      TP       TN     FP     FN       FPR  \\\n",
       "index                                                                           \n",
       "KNeighborsClassifier        0.930413  1229.0   9708.0  707.0  111.0  0.067883   \n",
       "RandomForestClassifier      0.956189  1231.0  10009.0  406.0  109.0  0.038982   \n",
       "AdaBoostClassifier          0.944024  1253.0   9844.0  571.0   87.0  0.054825   \n",
       "GradientBoostingClassifier  0.951935  1256.0   9934.0  481.0   84.0  0.046183   \n",
       "ExtraTreeClassifier         0.957890  1226.0  10034.0  381.0  114.0  0.036582   \n",
       "XGB                         0.952446  1255.0   9941.0  474.0   85.0  0.045511   \n",
       "BaggingClassifier           0.952446  1223.0   9973.0  442.0  117.0  0.042439   \n",
       "Neural Network-1            0.956274  1207.0  10034.0  381.0  133.0  0.036582   \n",
       "\n",
       "                                 FNR       auc       MCC  Precision    Recall  \n",
       "index                                                                          \n",
       "KNeighborsClassifier        0.082836  0.924641  0.727691   0.634814  0.917164  \n",
       "RandomForestClassifier      0.081343  0.939837  0.807481   0.751985  0.918657  \n",
       "AdaBoostClassifier          0.064925  0.940125  0.772643   0.686952  0.935075  \n",
       "GradientBoostingClassifier  0.062687  0.945565  0.798055   0.723086  0.937313  \n",
       "ExtraTreeClassifier         0.085075  0.939172  0.812547   0.762912  0.914925  \n",
       "XGB                         0.063433  0.945528  0.799513   0.725853  0.936567  \n",
       "BaggingClassifier           0.087313  0.935124  0.793181   0.734535  0.912687  \n",
       "Neural Network-1            0.099254  0.935124  0.803446   0.760076  0.900746  "
      ]
     },
     "metadata": {},
     "output_type": "display_data"
    }
   ],
   "source": [
    "table_80_50_train['index']=ind_columns\n",
    "table_80_50_test['index']=ind_columns\n",
    "\n",
    "\n",
    "table_80_50_test.set_index(['index'],drop=True,inplace=True)\n",
    "table_80_50_train.set_index(['index'],drop=True,inplace=True)\n",
    "\n",
    "print(\"Training Results\")\n",
    "display(table_80_50_train)\n",
    "print(\"Test Results\")\n",
    "display(table_80_50_test)"
   ]
  },
  {
   "cell_type": "markdown",
   "metadata": {},
   "source": [
    "### <a id='3.B' style=\"text-decoration : none; color : #000000;\"> B. Average Feature Importances</a>"
   ]
  },
  {
   "cell_type": "code",
   "execution_count": 19,
   "metadata": {},
   "outputs": [
    {
     "data": {
      "application/vnd.plotly.v1+json": {
       "config": {
        "linkText": "Export to plot.ly",
        "plotlyServerURL": "https://plot.ly",
        "showLink": true
       },
       "data": [
        {
         "marker": {
          "color": "rgb(158,202,225)",
          "line": {
           "color": "rgb(8,48,107)",
           "width": 1.5
          }
         },
         "opacity": 0.6,
         "orientation": "h",
         "text": [
          0.1324,
          0.0795,
          0.0695,
          0.0638,
          0.0573,
          0.0506,
          0.0474,
          0.0457,
          0.038,
          0.0328,
          0.0274,
          0.0272,
          0.0253,
          0.0248,
          0.0246,
          0.0229,
          0.0196,
          0.0189,
          0.0182,
          0.0165,
          0.0159,
          0.0156,
          0.0155,
          0.0142,
          0.0141,
          0.0113,
          0.0111,
          0.0103,
          0.01,
          0.0095,
          0.0092,
          0.0079,
          0.0074,
          0.0056
         ],
         "textposition": "outside",
         "type": "bar",
         "uid": "9760b43a-18a9-43b7-a90e-8d6153b756ca",
         "x": [
          0.13236594969896612,
          0.07951797887666792,
          0.06954967206531813,
          0.06377961779740558,
          0.05731979950430569,
          0.050624173045727604,
          0.047429178862855456,
          0.045651865432323926,
          0.038042811846219785,
          0.032789457858074265,
          0.027357443711122014,
          0.027221733571950724,
          0.02531510185676108,
          0.024773009143147937,
          0.024609304200398113,
          0.022851531222822248,
          0.019570950174475014,
          0.018856091055686884,
          0.01823398339046491,
          0.016469916853161848,
          0.01593964918364125,
          0.015585356597426141,
          0.015507191810617257,
          0.014246953926505768,
          0.014093188281215122,
          0.01128054040349773,
          0.011145509278906254,
          0.010310189153998731,
          0.010030434565814202,
          0.00947728572569166,
          0.009222946053480608,
          0.007890958849413656,
          0.007353902485848211,
          0.005586322212236516
         ],
         "y": [
          "total_count",
          "url_length",
          "url_char_w",
          "a_href_out_of_domain",
          "url_extensions",
          "meta_count",
          "total_href",
          "http_header_content-encoding_gzip",
          "link_type_text/css",
          "push",
          "http_header_transfer-encoding_chunked",
          "p_count",
          "url_char_.",
          "a_href_relative",
          "link_href_out_of_domain",
          "a_count",
          "http_header_cache-control_set_max-age",
          "http_header_server_apache",
          "script_async_true",
          "a_href_https",
          "img_src_http",
          "url_char_z",
          "url_char_l",
          "url_extension_.com",
          "url_char_i",
          "http_header_vary_user-agent",
          "url_char_p",
          "http_header_via_1.1",
          "form_action_http",
          "center_count",
          "url_char_f",
          "url_char_y",
          "iframe_src_.html",
          "a_href_http"
         ]
        }
       ],
       "layout": {
        "autosize": false,
        "height": 1000,
        "width": 1000,
        "xaxis": {
         "tickfont": {
          "color": "black",
          "size": 12
         },
         "title": "Feature Importances"
        },
        "yaxis": {
         "automargin": true
        }
       }
      },
      "text/html": [
       "<div id=\"fc750163-9e49-44ab-8480-f8c699b2f07c\" style=\"height: 1000px; width: 1000px;\" class=\"plotly-graph-div\"></div><script type=\"text/javascript\">require([\"plotly\"], function(Plotly) { window.PLOTLYENV=window.PLOTLYENV || {};window.PLOTLYENV.BASE_URL=\"https://plot.ly\";Plotly.newPlot(\"fc750163-9e49-44ab-8480-f8c699b2f07c\", [{\"marker\": {\"color\": \"rgb(158,202,225)\", \"line\": {\"color\": \"rgb(8,48,107)\", \"width\": 1.5}}, \"opacity\": 0.6, \"orientation\": \"h\", \"text\": [0.1324, 0.0795, 0.0695, 0.0638, 0.0573, 0.0506, 0.0474, 0.0457, 0.038, 0.0328, 0.0274, 0.0272, 0.0253, 0.0248, 0.0246, 0.0229, 0.0196, 0.0189, 0.0182, 0.0165, 0.0159, 0.0156, 0.0155, 0.0142, 0.0141, 0.0113, 0.0111, 0.0103, 0.01, 0.0095, 0.0092, 0.0079, 0.0074, 0.0056], \"textposition\": \"outside\", \"x\": [0.13236594969896612, 0.07951797887666792, 0.06954967206531813, 0.06377961779740558, 0.05731979950430569, 0.050624173045727604, 0.047429178862855456, 0.045651865432323926, 0.038042811846219785, 0.032789457858074265, 0.027357443711122014, 0.027221733571950724, 0.02531510185676108, 0.024773009143147937, 0.024609304200398113, 0.022851531222822248, 0.019570950174475014, 0.018856091055686884, 0.01823398339046491, 0.016469916853161848, 0.01593964918364125, 0.015585356597426141, 0.015507191810617257, 0.014246953926505768, 0.014093188281215122, 0.01128054040349773, 0.011145509278906254, 0.010310189153998731, 0.010030434565814202, 0.00947728572569166, 0.009222946053480608, 0.007890958849413656, 0.007353902485848211, 0.005586322212236516], \"y\": [\"total_count\", \"url_length\", \"url_char_w\", \"a_href_out_of_domain\", \"url_extensions\", \"meta_count\", \"total_href\", \"http_header_content-encoding_gzip\", \"link_type_text/css\", \"push\", \"http_header_transfer-encoding_chunked\", \"p_count\", \"url_char_.\", \"a_href_relative\", \"link_href_out_of_domain\", \"a_count\", \"http_header_cache-control_set_max-age\", \"http_header_server_apache\", \"script_async_true\", \"a_href_https\", \"img_src_http\", \"url_char_z\", \"url_char_l\", \"url_extension_.com\", \"url_char_i\", \"http_header_vary_user-agent\", \"url_char_p\", \"http_header_via_1.1\", \"form_action_http\", \"center_count\", \"url_char_f\", \"url_char_y\", \"iframe_src_.html\", \"a_href_http\"], \"type\": \"bar\", \"uid\": \"9760b43a-18a9-43b7-a90e-8d6153b756ca\"}], {\"autosize\": false, \"height\": 1000, \"width\": 1000, \"xaxis\": {\"tickfont\": {\"color\": \"black\", \"size\": 12}, \"title\": \"Feature Importances\"}, \"yaxis\": {\"automargin\": true}}, {\"showLink\": true, \"linkText\": \"Export to plot.ly\", \"plotlyServerURL\": \"https://plot.ly\"})});</script>"
      ],
      "text/vnd.plotly.v1+html": [
       "<div id=\"fc750163-9e49-44ab-8480-f8c699b2f07c\" style=\"height: 1000px; width: 1000px;\" class=\"plotly-graph-div\"></div><script type=\"text/javascript\">require([\"plotly\"], function(Plotly) { window.PLOTLYENV=window.PLOTLYENV || {};window.PLOTLYENV.BASE_URL=\"https://plot.ly\";Plotly.newPlot(\"fc750163-9e49-44ab-8480-f8c699b2f07c\", [{\"marker\": {\"color\": \"rgb(158,202,225)\", \"line\": {\"color\": \"rgb(8,48,107)\", \"width\": 1.5}}, \"opacity\": 0.6, \"orientation\": \"h\", \"text\": [0.1324, 0.0795, 0.0695, 0.0638, 0.0573, 0.0506, 0.0474, 0.0457, 0.038, 0.0328, 0.0274, 0.0272, 0.0253, 0.0248, 0.0246, 0.0229, 0.0196, 0.0189, 0.0182, 0.0165, 0.0159, 0.0156, 0.0155, 0.0142, 0.0141, 0.0113, 0.0111, 0.0103, 0.01, 0.0095, 0.0092, 0.0079, 0.0074, 0.0056], \"textposition\": \"outside\", \"x\": [0.13236594969896612, 0.07951797887666792, 0.06954967206531813, 0.06377961779740558, 0.05731979950430569, 0.050624173045727604, 0.047429178862855456, 0.045651865432323926, 0.038042811846219785, 0.032789457858074265, 0.027357443711122014, 0.027221733571950724, 0.02531510185676108, 0.024773009143147937, 0.024609304200398113, 0.022851531222822248, 0.019570950174475014, 0.018856091055686884, 0.01823398339046491, 0.016469916853161848, 0.01593964918364125, 0.015585356597426141, 0.015507191810617257, 0.014246953926505768, 0.014093188281215122, 0.01128054040349773, 0.011145509278906254, 0.010310189153998731, 0.010030434565814202, 0.00947728572569166, 0.009222946053480608, 0.007890958849413656, 0.007353902485848211, 0.005586322212236516], \"y\": [\"total_count\", \"url_length\", \"url_char_w\", \"a_href_out_of_domain\", \"url_extensions\", \"meta_count\", \"total_href\", \"http_header_content-encoding_gzip\", \"link_type_text/css\", \"push\", \"http_header_transfer-encoding_chunked\", \"p_count\", \"url_char_.\", \"a_href_relative\", \"link_href_out_of_domain\", \"a_count\", \"http_header_cache-control_set_max-age\", \"http_header_server_apache\", \"script_async_true\", \"a_href_https\", \"img_src_http\", \"url_char_z\", \"url_char_l\", \"url_extension_.com\", \"url_char_i\", \"http_header_vary_user-agent\", \"url_char_p\", \"http_header_via_1.1\", \"form_action_http\", \"center_count\", \"url_char_f\", \"url_char_y\", \"iframe_src_.html\", \"a_href_http\"], \"type\": \"bar\", \"uid\": \"9760b43a-18a9-43b7-a90e-8d6153b756ca\"}], {\"autosize\": false, \"height\": 1000, \"width\": 1000, \"xaxis\": {\"tickfont\": {\"color\": \"black\", \"size\": 12}, \"title\": \"Feature Importances\"}, \"yaxis\": {\"automargin\": true}}, {\"showLink\": true, \"linkText\": \"Export to plot.ly\", \"plotlyServerURL\": \"https://plot.ly\"})});</script>"
      ]
     },
     "metadata": {},
     "output_type": "display_data"
    }
   ],
   "source": [
    "feat_impt_plot(np.average(feat_imp,axis=0),columns)"
   ]
  },
  {
   "cell_type": "markdown",
   "metadata": {},
   "source": [
    "### <a id='4' style=\"text-decoration : none; color : #000000;\">4. Feature Transformation with feature selection </a>"
   ]
  },
  {
   "cell_type": "code",
   "execution_count": 20,
   "metadata": {},
   "outputs": [
    {
     "name": "stdout",
     "output_type": "stream",
     "text": [
      "Built 2278 features\n",
      "EntitySet scattered to workers in 4.238 seconds\n",
      "Elapsed: 00:13 | Remaining: 00:00 | Progress: 100%|██████████| Calculated: 11/11 chunks\n"
     ]
    }
   ],
   "source": [
    "df.reset_index(inplace=True)\n",
    "columns.append('domain')\n",
    "df_min=df[columns]\n",
    "\n",
    "es = ft.EntitySet(id = 'malicious')\n",
    "es.entity_from_dataframe(entity_id = 'data', dataframe = df_min, index = 'domain')\n",
    "\n",
    "feature_matrix_sessions, features_defs = ft.dfs(entityset=es,target_entity=\"data\",\n",
    "                                                trans_primitives = ['add','divide','multiply'],n_jobs=-1,\n",
    "                                                verbose=1,max_depth=1)"
   ]
  },
  {
   "cell_type": "code",
   "execution_count": 21,
   "metadata": {},
   "outputs": [
    {
     "name": "stderr",
     "output_type": "stream",
     "text": [
      "distributed.client - ERROR - Failed to reconnect to scheduler after 10.00 seconds, closing client\n",
      "distributed.utils - ERROR - \n",
      "Traceback (most recent call last):\n",
      "  File \"/nethomes/darshan/anaconda3/lib/python3.6/site-packages/distributed/utils.py\", line 713, in log_errors\n",
      "    yield\n",
      "  File \"/nethomes/darshan/anaconda3/lib/python3.6/site-packages/distributed/client.py\", line 1223, in _close\n",
      "    quiet_exceptions=(CancelledError,),\n",
      "  File \"/nethomes/darshan/anaconda3/lib/python3.6/site-packages/tornado/gen.py\", line 584, in with_timeout\n",
      "    chain_future(future_converted, result)\n",
      "  File \"/nethomes/darshan/anaconda3/lib/python3.6/site-packages/tornado/concurrent.py\", line 166, in chain_future\n",
      "    future_add_done_callback(a, copy)\n",
      "  File \"/nethomes/darshan/anaconda3/lib/python3.6/site-packages/tornado/concurrent.py\", line 262, in future_add_done_callback\n",
      "    callback(future)\n",
      "  File \"/nethomes/darshan/anaconda3/lib/python3.6/site-packages/tornado/concurrent.py\", line 160, in copy\n",
      "    elif a.exception() is not None:\n",
      "concurrent.futures._base.CancelledError\n",
      "distributed.utils - ERROR - \n",
      "Traceback (most recent call last):\n",
      "  File \"/nethomes/darshan/anaconda3/lib/python3.6/site-packages/distributed/utils.py\", line 713, in log_errors\n",
      "    yield\n",
      "  File \"/nethomes/darshan/anaconda3/lib/python3.6/site-packages/distributed/client.py\", line 992, in _reconnect\n",
      "    yield self._close()\n",
      "  File \"/nethomes/darshan/anaconda3/lib/python3.6/site-packages/tornado/gen.py\", line 729, in run\n",
      "    value = future.result()\n",
      "  File \"/nethomes/darshan/anaconda3/lib/python3.6/site-packages/tornado/gen.py\", line 209, in wrapper\n",
      "    yielded = next(result)\n",
      "  File \"/nethomes/darshan/anaconda3/lib/python3.6/site-packages/distributed/client.py\", line 1223, in _close\n",
      "    quiet_exceptions=(CancelledError,),\n",
      "  File \"/nethomes/darshan/anaconda3/lib/python3.6/site-packages/tornado/gen.py\", line 584, in with_timeout\n",
      "    chain_future(future_converted, result)\n",
      "  File \"/nethomes/darshan/anaconda3/lib/python3.6/site-packages/tornado/concurrent.py\", line 166, in chain_future\n",
      "    future_add_done_callback(a, copy)\n",
      "  File \"/nethomes/darshan/anaconda3/lib/python3.6/site-packages/tornado/concurrent.py\", line 262, in future_add_done_callback\n",
      "    callback(future)\n",
      "  File \"/nethomes/darshan/anaconda3/lib/python3.6/site-packages/tornado/concurrent.py\", line 160, in copy\n",
      "    elif a.exception() is not None:\n",
      "concurrent.futures._base.CancelledError\n"
     ]
    }
   ],
   "source": [
    "df.set_index(['domain'],drop=True,inplace=True)\n",
    "fs=pd.merge(feature_matrix_sessions,pd.DataFrame(df_sel.Target),left_index=True, right_index=True)\n",
    "fs.replace([np.inf],0,inplace=True)\n",
    "fs.fillna(value=0,inplace=True)\n",
    "fs=fs.reindex(df.index.values)\n",
    "X=fs.loc[:,fs.columns!='Target']\n",
    "y=fs.Target\n",
    "feature_name = X.columns.tolist()"
   ]
  },
  {
   "cell_type": "code",
   "execution_count": 22,
   "metadata": {},
   "outputs": [],
   "source": [
    "def cor_selector(X, y):\n",
    "    cor_list = []\n",
    "    # calculate the correlation with y for each feature\n",
    "    for i in X.columns.tolist():\n",
    "        cor = np.corrcoef(X[i], y)[0, 1]\n",
    "        cor_list.append(cor)\n",
    "    # replace NaN with 0\n",
    "    cor_list = [0 if np.isnan(i) else i for i in cor_list]\n",
    "    # feature name\n",
    "    cor_feature = X.iloc[:,np.argsort(np.abs(cor_list))[-100:]].columns.tolist()\n",
    "    # feature selection? 0 for not select, 1 for select\n",
    "    cor_support = [True if i in cor_feature else False for i in feature_name]\n",
    "    return cor_support, cor_feature\n",
    "cor_support, cor_feature = cor_selector(X, y)\n",
    "\n",
    "X_norm = MinMaxScaler().fit_transform(X)\n",
    "chi_selector = SelectKBest(chi2, k=100)\n",
    "chi_selector.fit(X_norm, y)\n",
    "chi_support = chi_selector.get_support()\n",
    "chi_feature = X.loc[:,chi_support].columns.tolist()\n",
    "\n",
    "rfe_selector = RFE(estimator=LogisticRegression(random_state=0), n_features_to_select=100, step=0.3, verbose=False)\n",
    "rfe_selector.fit(X_norm, y)\n",
    "rfe_support = rfe_selector.get_support()\n",
    "rfe_feature = X.loc[:,rfe_support].columns.tolist()\n",
    "\n",
    "embeded_rf_selector = SelectFromModel(RandomForestClassifier(n_estimators=100,random_state=0), threshold='23*median')\n",
    "embeded_rf_selector.fit(X, y)\n",
    "embeded_rf_support = embeded_rf_selector.get_support()"
   ]
  },
  {
   "cell_type": "code",
   "execution_count": 23,
   "metadata": {},
   "outputs": [],
   "source": [
    "embeded_rf_feature = X.loc[:,embeded_rf_support].columns.tolist()\n",
    "feature_selection_df = pd.DataFrame({'Feature':feature_name, 'Pearson':cor_support, 'Chi-2':chi_support, 'RFE':rfe_support,\n",
    "                                    'Random Forest':embeded_rf_support})\n",
    "# count the selected times for each feature\n",
    "feature_selection_df['Total'] = np.sum(feature_selection_df, axis=1)\n",
    "feature_selection_df = feature_selection_df.sort_values(['Total','Feature'] , ascending=False)\n",
    "feature_selection_df.index = range(1, len(feature_selection_df)+1)"
   ]
  },
  {
   "cell_type": "code",
   "execution_count": 24,
   "metadata": {},
   "outputs": [
    {
     "name": "stdout",
     "output_type": "stream",
     "text": [
      "The train/test split ratio is 70:30\n",
      "Features we will be using:\n",
      "\n"
     ]
    },
    {
     "data": {
      "text/plain": [
       "['url_length / total_count',\n",
       " 'url_extensions / total_count',\n",
       " 'url_char_w + url_char_z',\n",
       " 'url_char_. / total_count',\n",
       " 'url_char_. + url_char_w',\n",
       " 'http_header_server_apache / total_count',\n",
       " 'http_header_server_apache + url_char_w',\n",
       " 'a_href_relative / total_href',\n",
       " 'url_extensions / url_char_z',\n",
       " 'url_extensions',\n",
       " 'url_char_z / total_count',\n",
       " 'url_char_y * url_extensions',\n",
       " 'url_char_w / total_count',\n",
       " 'url_char_w + url_extensions',\n",
       " 'url_char_w * url_length',\n",
       " 'url_char_w * url_extensions',\n",
       " 'url_char_w',\n",
       " 'url_char_p / total_count',\n",
       " 'url_char_p + url_extensions',\n",
       " 'url_char_l / total_count',\n",
       " 'url_char_i / total_count',\n",
       " 'url_char_f / total_count',\n",
       " 'url_char_f + url_extensions',\n",
       " 'url_char_f + url_char_w',\n",
       " 'url_char_. + url_extensions',\n",
       " 'url_char_. + url_char_z',\n",
       " 'url_char_. + url_char_y',\n",
       " 'url_char_. * url_char_w',\n",
       " 'url_char_.',\n",
       " 'http_header_via_1.1 + url_extensions',\n",
       " 'http_header_vary_user-agent + url_extensions',\n",
       " 'http_header_vary_user-agent + url_char_.',\n",
       " 'http_header_server_apache + url_extensions',\n",
       " 'http_header_content-encoding_gzip / url_char_.',\n",
       " 'a_href_relative / a_count',\n",
       " 'a_href_out_of_domain / total_href',\n",
       " 'a_href_https / a_count']"
      ]
     },
     "metadata": {},
     "output_type": "display_data"
    }
   ],
   "source": [
    "X=fs[feature_selection_df[feature_selection_df.Total>=3]['Feature']]\n",
    "X.fillna(value=0,inplace=True)\n",
    "y=fs.Target.values\n",
    "feature_name = X.columns.tolist()\n",
    "\n",
    "scaler=StandardScaler()\n",
    "scaled_X=scaler.fit_transform(X)\n",
    "\n",
    "print(\"The train/test split ratio is 70:30\")\n",
    "X_train, X_test, Y_train, Y_test = train_test_split(scaled_X,y,random_state=0,test_size=0.3)\n",
    "print('Features we will be using:\\n')\n",
    "display(feature_name)"
   ]
  },
  {
   "cell_type": "code",
   "execution_count": 25,
   "metadata": {
    "scrolled": false
   },
   "outputs": [
    {
     "name": "stdout",
     "output_type": "stream",
     "text": [
      "\u001b[1mK-Nearest Neighbors\u001b[0m\n",
      "Accuracy of the model for training data is: 0.9792547761411696\n",
      "Confusion Matrix for training data is:\n"
     ]
    },
    {
     "data": {
      "text/plain": [
       "Predicted  False  True  __all__\n",
       "Actual                         \n",
       "False      24163   164    24327\n",
       "True         405  2696     3101\n",
       "__all__    24568  2860    27428"
      ]
     },
     "metadata": {},
     "output_type": "display_data"
    },
    {
     "name": "stdout",
     "output_type": "stream",
     "text": [
      "Accuracy of the model for test data is: 0.9715865589111017\n",
      "Confusion Matrix for test data is:\n"
     ]
    },
    {
     "data": {
      "text/plain": [
       "Predicted  False  True  __all__\n",
       "Actual                         \n",
       "False      10312   103    10415\n",
       "True         231  1109     1340\n",
       "__all__    10543  1212    11755"
      ]
     },
     "metadata": {},
     "output_type": "display_data"
    },
    {
     "name": "stdout",
     "output_type": "stream",
     "text": [
      "\n",
      "\n",
      "\u001b[1mRandomForest Classifier\u001b[0m\n",
      "Accuracy of the model for training data is: 0.9951873997374945\n",
      "Confusion Matrix for training data is:\n"
     ]
    },
    {
     "data": {
      "text/plain": [
       "Predicted  False  True  __all__\n",
       "Actual                         \n",
       "False      24299    28    24327\n",
       "True         104  2997     3101\n",
       "__all__    24403  3025    27428"
      ]
     },
     "metadata": {},
     "output_type": "display_data"
    },
    {
     "name": "stdout",
     "output_type": "stream",
     "text": [
      "Accuracy of the model for test data is: 0.9762654189706508\n",
      "Confusion Matrix for test data is:\n"
     ]
    },
    {
     "data": {
      "text/plain": [
       "Predicted  False  True  __all__\n",
       "Actual                         \n",
       "False      10338    77    10415\n",
       "True         202  1138     1340\n",
       "__all__    10540  1215    11755"
      ]
     },
     "metadata": {},
     "output_type": "display_data"
    },
    {
     "data": {
      "application/vnd.plotly.v1+json": {
       "config": {
        "linkText": "Export to plot.ly",
        "plotlyServerURL": "https://plot.ly",
        "showLink": true
       },
       "data": [
        {
         "marker": {
          "color": "rgb(158,202,225)",
          "line": {
           "color": "rgb(8,48,107)",
           "width": 1.5
          }
         },
         "opacity": 0.6,
         "orientation": "h",
         "text": [
          0.2392,
          0.1266,
          0.094,
          0.0614,
          0.0527,
          0.0484,
          0.0377,
          0.0325,
          0.0261,
          0.0226,
          0.0163,
          0.016,
          0.0153,
          0.015,
          0.0148,
          0.0144,
          0.0137,
          0.0131,
          0.0125,
          0.0121,
          0.0108,
          0.01,
          0.0099,
          0.0099,
          0.0082,
          0.0075,
          0.0074,
          0.0068,
          0.0062,
          0.0058,
          0.0058,
          0.0057,
          0.0056,
          0.0047,
          0.0047,
          0.0039,
          0.0024
         ],
         "textposition": "outside",
         "type": "bar",
         "uid": "71f99020-6e58-46db-93fe-979d25e28ebf",
         "x": [
          0.23920121661380117,
          0.12664113688802575,
          0.09399772901080047,
          0.061419231686753825,
          0.0527004328702527,
          0.048405930001999574,
          0.03774345704338519,
          0.032454045352920236,
          0.026109386037732458,
          0.022583806195410252,
          0.016337530958583524,
          0.015999619550286316,
          0.015349897586148215,
          0.01497316081252505,
          0.014819617448907441,
          0.014449207229695999,
          0.013677106373610965,
          0.013090493516733928,
          0.012515018794032903,
          0.012126108687225244,
          0.010760536553805386,
          0.010049106115567242,
          0.009912244686606822,
          0.009896628250684502,
          0.00820167450880938,
          0.0075136051946911794,
          0.007410777125096457,
          0.006807714083854094,
          0.006176529501703637,
          0.005827474452658148,
          0.00581341105900615,
          0.0056963771291723845,
          0.005607062184097344,
          0.004744902978707825,
          0.004686232269428676,
          0.0039060424972670307,
          0.0023955487500125243
         ],
         "y": [
          "url_length / total_count",
          "url_extensions / total_count",
          "url_char_i / total_count",
          "url_char_. / total_count",
          "url_char_. + url_extensions",
          "a_href_out_of_domain / total_href",
          "url_char_. + url_char_w",
          "url_char_.",
          "http_header_server_apache + url_char_w",
          "url_char_w + url_extensions",
          "url_char_. + url_char_z",
          "url_char_z / total_count",
          "url_char_w * url_length",
          "url_char_f + url_extensions",
          "http_header_server_apache / total_count",
          "url_char_l / total_count",
          "http_header_content-encoding_gzip / url_char_.",
          "url_extensions / url_char_z",
          "a_href_relative / total_href",
          "url_extensions",
          "url_char_w + url_char_z",
          "url_char_p + url_extensions",
          "url_char_p / total_count",
          "url_char_w",
          "http_header_server_apache + url_extensions",
          "http_header_vary_user-agent + url_char_.",
          "url_char_. + url_char_y",
          "url_char_f + url_char_w",
          "url_char_. * url_char_w",
          "a_href_https / a_count",
          "url_char_f / total_count",
          "http_header_via_1.1 + url_extensions",
          "http_header_vary_user-agent + url_extensions",
          "url_char_w / total_count",
          "url_char_y * url_extensions",
          "a_href_relative / a_count",
          "url_char_w * url_extensions"
         ]
        }
       ],
       "layout": {
        "autosize": false,
        "height": 1000,
        "width": 1000,
        "xaxis": {
         "tickfont": {
          "color": "black",
          "size": 12
         },
         "title": "Feature Importances"
        },
        "yaxis": {
         "automargin": true
        }
       }
      },
      "text/html": [
       "<div id=\"c8fe6e0e-d06f-4c66-a2f9-9e7a76238493\" style=\"height: 1000px; width: 1000px;\" class=\"plotly-graph-div\"></div><script type=\"text/javascript\">require([\"plotly\"], function(Plotly) { window.PLOTLYENV=window.PLOTLYENV || {};window.PLOTLYENV.BASE_URL=\"https://plot.ly\";Plotly.newPlot(\"c8fe6e0e-d06f-4c66-a2f9-9e7a76238493\", [{\"marker\": {\"color\": \"rgb(158,202,225)\", \"line\": {\"color\": \"rgb(8,48,107)\", \"width\": 1.5}}, \"opacity\": 0.6, \"orientation\": \"h\", \"text\": [0.2392, 0.1266, 0.094, 0.0614, 0.0527, 0.0484, 0.0377, 0.0325, 0.0261, 0.0226, 0.0163, 0.016, 0.0153, 0.015, 0.0148, 0.0144, 0.0137, 0.0131, 0.0125, 0.0121, 0.0108, 0.01, 0.0099, 0.0099, 0.0082, 0.0075, 0.0074, 0.0068, 0.0062, 0.0058, 0.0058, 0.0057, 0.0056, 0.0047, 0.0047, 0.0039, 0.0024], \"textposition\": \"outside\", \"x\": [0.23920121661380117, 0.12664113688802575, 0.09399772901080047, 0.061419231686753825, 0.0527004328702527, 0.048405930001999574, 0.03774345704338519, 0.032454045352920236, 0.026109386037732458, 0.022583806195410252, 0.016337530958583524, 0.015999619550286316, 0.015349897586148215, 0.01497316081252505, 0.014819617448907441, 0.014449207229695999, 0.013677106373610965, 0.013090493516733928, 0.012515018794032903, 0.012126108687225244, 0.010760536553805386, 0.010049106115567242, 0.009912244686606822, 0.009896628250684502, 0.00820167450880938, 0.0075136051946911794, 0.007410777125096457, 0.006807714083854094, 0.006176529501703637, 0.005827474452658148, 0.00581341105900615, 0.0056963771291723845, 0.005607062184097344, 0.004744902978707825, 0.004686232269428676, 0.0039060424972670307, 0.0023955487500125243], \"y\": [\"url_length / total_count\", \"url_extensions / total_count\", \"url_char_i / total_count\", \"url_char_. / total_count\", \"url_char_. + url_extensions\", \"a_href_out_of_domain / total_href\", \"url_char_. + url_char_w\", \"url_char_.\", \"http_header_server_apache + url_char_w\", \"url_char_w + url_extensions\", \"url_char_. + url_char_z\", \"url_char_z / total_count\", \"url_char_w * url_length\", \"url_char_f + url_extensions\", \"http_header_server_apache / total_count\", \"url_char_l / total_count\", \"http_header_content-encoding_gzip / url_char_.\", \"url_extensions / url_char_z\", \"a_href_relative / total_href\", \"url_extensions\", \"url_char_w + url_char_z\", \"url_char_p + url_extensions\", \"url_char_p / total_count\", \"url_char_w\", \"http_header_server_apache + url_extensions\", \"http_header_vary_user-agent + url_char_.\", \"url_char_. + url_char_y\", \"url_char_f + url_char_w\", \"url_char_. * url_char_w\", \"a_href_https / a_count\", \"url_char_f / total_count\", \"http_header_via_1.1 + url_extensions\", \"http_header_vary_user-agent + url_extensions\", \"url_char_w / total_count\", \"url_char_y * url_extensions\", \"a_href_relative / a_count\", \"url_char_w * url_extensions\"], \"type\": \"bar\", \"uid\": \"71f99020-6e58-46db-93fe-979d25e28ebf\"}], {\"autosize\": false, \"height\": 1000, \"width\": 1000, \"xaxis\": {\"tickfont\": {\"color\": \"black\", \"size\": 12}, \"title\": \"Feature Importances\"}, \"yaxis\": {\"automargin\": true}}, {\"showLink\": true, \"linkText\": \"Export to plot.ly\", \"plotlyServerURL\": \"https://plot.ly\"})});</script>"
      ],
      "text/vnd.plotly.v1+html": [
       "<div id=\"c8fe6e0e-d06f-4c66-a2f9-9e7a76238493\" style=\"height: 1000px; width: 1000px;\" class=\"plotly-graph-div\"></div><script type=\"text/javascript\">require([\"plotly\"], function(Plotly) { window.PLOTLYENV=window.PLOTLYENV || {};window.PLOTLYENV.BASE_URL=\"https://plot.ly\";Plotly.newPlot(\"c8fe6e0e-d06f-4c66-a2f9-9e7a76238493\", [{\"marker\": {\"color\": \"rgb(158,202,225)\", \"line\": {\"color\": \"rgb(8,48,107)\", \"width\": 1.5}}, \"opacity\": 0.6, \"orientation\": \"h\", \"text\": [0.2392, 0.1266, 0.094, 0.0614, 0.0527, 0.0484, 0.0377, 0.0325, 0.0261, 0.0226, 0.0163, 0.016, 0.0153, 0.015, 0.0148, 0.0144, 0.0137, 0.0131, 0.0125, 0.0121, 0.0108, 0.01, 0.0099, 0.0099, 0.0082, 0.0075, 0.0074, 0.0068, 0.0062, 0.0058, 0.0058, 0.0057, 0.0056, 0.0047, 0.0047, 0.0039, 0.0024], \"textposition\": \"outside\", \"x\": [0.23920121661380117, 0.12664113688802575, 0.09399772901080047, 0.061419231686753825, 0.0527004328702527, 0.048405930001999574, 0.03774345704338519, 0.032454045352920236, 0.026109386037732458, 0.022583806195410252, 0.016337530958583524, 0.015999619550286316, 0.015349897586148215, 0.01497316081252505, 0.014819617448907441, 0.014449207229695999, 0.013677106373610965, 0.013090493516733928, 0.012515018794032903, 0.012126108687225244, 0.010760536553805386, 0.010049106115567242, 0.009912244686606822, 0.009896628250684502, 0.00820167450880938, 0.0075136051946911794, 0.007410777125096457, 0.006807714083854094, 0.006176529501703637, 0.005827474452658148, 0.00581341105900615, 0.0056963771291723845, 0.005607062184097344, 0.004744902978707825, 0.004686232269428676, 0.0039060424972670307, 0.0023955487500125243], \"y\": [\"url_length / total_count\", \"url_extensions / total_count\", \"url_char_i / total_count\", \"url_char_. / total_count\", \"url_char_. + url_extensions\", \"a_href_out_of_domain / total_href\", \"url_char_. + url_char_w\", \"url_char_.\", \"http_header_server_apache + url_char_w\", \"url_char_w + url_extensions\", \"url_char_. + url_char_z\", \"url_char_z / total_count\", \"url_char_w * url_length\", \"url_char_f + url_extensions\", \"http_header_server_apache / total_count\", \"url_char_l / total_count\", \"http_header_content-encoding_gzip / url_char_.\", \"url_extensions / url_char_z\", \"a_href_relative / total_href\", \"url_extensions\", \"url_char_w + url_char_z\", \"url_char_p + url_extensions\", \"url_char_p / total_count\", \"url_char_w\", \"http_header_server_apache + url_extensions\", \"http_header_vary_user-agent + url_char_.\", \"url_char_. + url_char_y\", \"url_char_f + url_char_w\", \"url_char_. * url_char_w\", \"a_href_https / a_count\", \"url_char_f / total_count\", \"http_header_via_1.1 + url_extensions\", \"http_header_vary_user-agent + url_extensions\", \"url_char_w / total_count\", \"url_char_y * url_extensions\", \"a_href_relative / a_count\", \"url_char_w * url_extensions\"], \"type\": \"bar\", \"uid\": \"71f99020-6e58-46db-93fe-979d25e28ebf\"}], {\"autosize\": false, \"height\": 1000, \"width\": 1000, \"xaxis\": {\"tickfont\": {\"color\": \"black\", \"size\": 12}, \"title\": \"Feature Importances\"}, \"yaxis\": {\"automargin\": true}}, {\"showLink\": true, \"linkText\": \"Export to plot.ly\", \"plotlyServerURL\": \"https://plot.ly\"})});</script>"
      ]
     },
     "metadata": {},
     "output_type": "display_data"
    },
    {
     "name": "stdout",
     "output_type": "stream",
     "text": [
      "\n",
      "\n",
      "\u001b[1mAdaoost Classifier\u001b[0m\n",
      "Accuracy of the model for training data is: 0.9753171941082106\n",
      "Confusion Matrix for training data is:\n"
     ]
    },
    {
     "data": {
      "text/plain": [
       "Predicted  False  True  __all__\n",
       "Actual                         \n",
       "False      24099   228    24327\n",
       "True         449  2652     3101\n",
       "__all__    24548  2880    27428"
      ]
     },
     "metadata": {},
     "output_type": "display_data"
    },
    {
     "name": "stdout",
     "output_type": "stream",
     "text": [
      "Accuracy of the model for test data is: 0.9711612079965972\n",
      "Confusion Matrix for test data is:\n"
     ]
    },
    {
     "data": {
      "text/plain": [
       "Predicted  False  True  __all__\n",
       "Actual                         \n",
       "False      10293   122    10415\n",
       "True         217  1123     1340\n",
       "__all__    10510  1245    11755"
      ]
     },
     "metadata": {},
     "output_type": "display_data"
    },
    {
     "data": {
      "application/vnd.plotly.v1+json": {
       "config": {
        "linkText": "Export to plot.ly",
        "plotlyServerURL": "https://plot.ly",
        "showLink": true
       },
       "data": [
        {
         "marker": {
          "color": "rgb(158,202,225)",
          "line": {
           "color": "rgb(8,48,107)",
           "width": 1.5
          }
         },
         "opacity": 0.6,
         "orientation": "h",
         "text": [
          0.16,
          0.14,
          0.1,
          0.1,
          0.06,
          0.04,
          0.04,
          0.04,
          0.04,
          0.04,
          0.04,
          0.04,
          0.02,
          0.02,
          0.02,
          0.02,
          0.02,
          0.02,
          0.02,
          0.02,
          0,
          0,
          0,
          0,
          0,
          0,
          0,
          0,
          0,
          0,
          0,
          0,
          0,
          0,
          0,
          0,
          0
         ],
         "textposition": "outside",
         "type": "bar",
         "uid": "ed0a31d2-bb60-4fc3-945f-44ddb495089a",
         "x": [
          0.16,
          0.14,
          0.1,
          0.1,
          0.06,
          0.04,
          0.04,
          0.04,
          0.04,
          0.04,
          0.04,
          0.04,
          0.02,
          0.02,
          0.02,
          0.02,
          0.02,
          0.02,
          0.02,
          0.02,
          0,
          0,
          0,
          0,
          0,
          0,
          0,
          0,
          0,
          0,
          0,
          0,
          0,
          0,
          0,
          0,
          0
         ],
         "y": [
          "url_length / total_count",
          "url_char_. / total_count",
          "a_href_out_of_domain / total_href",
          "a_href_relative / total_href",
          "url_char_z / total_count",
          "http_header_content-encoding_gzip / url_char_.",
          "http_header_server_apache + url_extensions",
          "http_header_vary_user-agent + url_char_.",
          "url_char_i / total_count",
          "url_char_p + url_extensions",
          "a_href_https / a_count",
          "url_char_w + url_char_z",
          "url_char_. + url_char_y",
          "url_char_w * url_length",
          "url_char_. + url_char_w",
          "http_header_server_apache / total_count",
          "url_char_l / total_count",
          "url_extensions / url_char_z",
          "url_char_f / total_count",
          "url_char_. + url_extensions",
          "a_href_relative / a_count",
          "http_header_server_apache + url_char_w",
          "http_header_vary_user-agent + url_extensions",
          "http_header_via_1.1 + url_extensions",
          "url_char_.",
          "url_char_. * url_char_w",
          "url_extensions",
          "url_char_. + url_char_z",
          "url_char_y * url_extensions",
          "url_char_f + url_extensions",
          "url_extensions / total_count",
          "url_char_p / total_count",
          "url_char_w",
          "url_char_w * url_extensions",
          "url_char_w + url_extensions",
          "url_char_w / total_count",
          "url_char_f + url_char_w"
         ]
        }
       ],
       "layout": {
        "autosize": false,
        "height": 1000,
        "width": 1000,
        "xaxis": {
         "tickfont": {
          "color": "black",
          "size": 12
         },
         "title": "Feature Importances"
        },
        "yaxis": {
         "automargin": true
        }
       }
      },
      "text/html": [
       "<div id=\"a9f365a0-242b-438d-be00-527eb7506ccb\" style=\"height: 1000px; width: 1000px;\" class=\"plotly-graph-div\"></div><script type=\"text/javascript\">require([\"plotly\"], function(Plotly) { window.PLOTLYENV=window.PLOTLYENV || {};window.PLOTLYENV.BASE_URL=\"https://plot.ly\";Plotly.newPlot(\"a9f365a0-242b-438d-be00-527eb7506ccb\", [{\"marker\": {\"color\": \"rgb(158,202,225)\", \"line\": {\"color\": \"rgb(8,48,107)\", \"width\": 1.5}}, \"opacity\": 0.6, \"orientation\": \"h\", \"text\": [0.16, 0.14, 0.1, 0.1, 0.06, 0.04, 0.04, 0.04, 0.04, 0.04, 0.04, 0.04, 0.02, 0.02, 0.02, 0.02, 0.02, 0.02, 0.02, 0.02, 0.0, 0.0, 0.0, 0.0, 0.0, 0.0, 0.0, 0.0, 0.0, 0.0, 0.0, 0.0, 0.0, 0.0, 0.0, 0.0, 0.0], \"textposition\": \"outside\", \"x\": [0.16, 0.14, 0.1, 0.1, 0.06, 0.04, 0.04, 0.04, 0.04, 0.04, 0.04, 0.04, 0.02, 0.02, 0.02, 0.02, 0.02, 0.02, 0.02, 0.02, 0.0, 0.0, 0.0, 0.0, 0.0, 0.0, 0.0, 0.0, 0.0, 0.0, 0.0, 0.0, 0.0, 0.0, 0.0, 0.0, 0.0], \"y\": [\"url_length / total_count\", \"url_char_. / total_count\", \"a_href_out_of_domain / total_href\", \"a_href_relative / total_href\", \"url_char_z / total_count\", \"http_header_content-encoding_gzip / url_char_.\", \"http_header_server_apache + url_extensions\", \"http_header_vary_user-agent + url_char_.\", \"url_char_i / total_count\", \"url_char_p + url_extensions\", \"a_href_https / a_count\", \"url_char_w + url_char_z\", \"url_char_. + url_char_y\", \"url_char_w * url_length\", \"url_char_. + url_char_w\", \"http_header_server_apache / total_count\", \"url_char_l / total_count\", \"url_extensions / url_char_z\", \"url_char_f / total_count\", \"url_char_. + url_extensions\", \"a_href_relative / a_count\", \"http_header_server_apache + url_char_w\", \"http_header_vary_user-agent + url_extensions\", \"http_header_via_1.1 + url_extensions\", \"url_char_.\", \"url_char_. * url_char_w\", \"url_extensions\", \"url_char_. + url_char_z\", \"url_char_y * url_extensions\", \"url_char_f + url_extensions\", \"url_extensions / total_count\", \"url_char_p / total_count\", \"url_char_w\", \"url_char_w * url_extensions\", \"url_char_w + url_extensions\", \"url_char_w / total_count\", \"url_char_f + url_char_w\"], \"type\": \"bar\", \"uid\": \"ed0a31d2-bb60-4fc3-945f-44ddb495089a\"}], {\"autosize\": false, \"height\": 1000, \"width\": 1000, \"xaxis\": {\"tickfont\": {\"color\": \"black\", \"size\": 12}, \"title\": \"Feature Importances\"}, \"yaxis\": {\"automargin\": true}}, {\"showLink\": true, \"linkText\": \"Export to plot.ly\", \"plotlyServerURL\": \"https://plot.ly\"})});</script>"
      ],
      "text/vnd.plotly.v1+html": [
       "<div id=\"a9f365a0-242b-438d-be00-527eb7506ccb\" style=\"height: 1000px; width: 1000px;\" class=\"plotly-graph-div\"></div><script type=\"text/javascript\">require([\"plotly\"], function(Plotly) { window.PLOTLYENV=window.PLOTLYENV || {};window.PLOTLYENV.BASE_URL=\"https://plot.ly\";Plotly.newPlot(\"a9f365a0-242b-438d-be00-527eb7506ccb\", [{\"marker\": {\"color\": \"rgb(158,202,225)\", \"line\": {\"color\": \"rgb(8,48,107)\", \"width\": 1.5}}, \"opacity\": 0.6, \"orientation\": \"h\", \"text\": [0.16, 0.14, 0.1, 0.1, 0.06, 0.04, 0.04, 0.04, 0.04, 0.04, 0.04, 0.04, 0.02, 0.02, 0.02, 0.02, 0.02, 0.02, 0.02, 0.02, 0.0, 0.0, 0.0, 0.0, 0.0, 0.0, 0.0, 0.0, 0.0, 0.0, 0.0, 0.0, 0.0, 0.0, 0.0, 0.0, 0.0], \"textposition\": \"outside\", \"x\": [0.16, 0.14, 0.1, 0.1, 0.06, 0.04, 0.04, 0.04, 0.04, 0.04, 0.04, 0.04, 0.02, 0.02, 0.02, 0.02, 0.02, 0.02, 0.02, 0.02, 0.0, 0.0, 0.0, 0.0, 0.0, 0.0, 0.0, 0.0, 0.0, 0.0, 0.0, 0.0, 0.0, 0.0, 0.0, 0.0, 0.0], \"y\": [\"url_length / total_count\", \"url_char_. / total_count\", \"a_href_out_of_domain / total_href\", \"a_href_relative / total_href\", \"url_char_z / total_count\", \"http_header_content-encoding_gzip / url_char_.\", \"http_header_server_apache + url_extensions\", \"http_header_vary_user-agent + url_char_.\", \"url_char_i / total_count\", \"url_char_p + url_extensions\", \"a_href_https / a_count\", \"url_char_w + url_char_z\", \"url_char_. + url_char_y\", \"url_char_w * url_length\", \"url_char_. + url_char_w\", \"http_header_server_apache / total_count\", \"url_char_l / total_count\", \"url_extensions / url_char_z\", \"url_char_f / total_count\", \"url_char_. + url_extensions\", \"a_href_relative / a_count\", \"http_header_server_apache + url_char_w\", \"http_header_vary_user-agent + url_extensions\", \"http_header_via_1.1 + url_extensions\", \"url_char_.\", \"url_char_. * url_char_w\", \"url_extensions\", \"url_char_. + url_char_z\", \"url_char_y * url_extensions\", \"url_char_f + url_extensions\", \"url_extensions / total_count\", \"url_char_p / total_count\", \"url_char_w\", \"url_char_w * url_extensions\", \"url_char_w + url_extensions\", \"url_char_w / total_count\", \"url_char_f + url_char_w\"], \"type\": \"bar\", \"uid\": \"ed0a31d2-bb60-4fc3-945f-44ddb495089a\"}], {\"autosize\": false, \"height\": 1000, \"width\": 1000, \"xaxis\": {\"tickfont\": {\"color\": \"black\", \"size\": 12}, \"title\": \"Feature Importances\"}, \"yaxis\": {\"automargin\": true}}, {\"showLink\": true, \"linkText\": \"Export to plot.ly\", \"plotlyServerURL\": \"https://plot.ly\"})});</script>"
      ]
     },
     "metadata": {},
     "output_type": "display_data"
    },
    {
     "name": "stdout",
     "output_type": "stream",
     "text": [
      "\n",
      "\n",
      "\u001b[1mGradientBoosting Classifier\u001b[0m\n",
      "Accuracy of the model for training data is: 0.9808589762286715\n",
      "Confusion Matrix for training data is:\n"
     ]
    },
    {
     "data": {
      "text/plain": [
       "Predicted  False  True  __all__\n",
       "Actual                         \n",
       "False      24195   132    24327\n",
       "True         393  2708     3101\n",
       "__all__    24588  2840    27428"
      ]
     },
     "metadata": {},
     "output_type": "display_data"
    },
    {
     "name": "stdout",
     "output_type": "stream",
     "text": [
      "Accuracy of the model for test data is: 0.9759251382390473\n",
      "Confusion Matrix for test data is:\n"
     ]
    },
    {
     "data": {
      "text/plain": [
       "Predicted  False  True  __all__\n",
       "Actual                         \n",
       "False      10349    66    10415\n",
       "True         217  1123     1340\n",
       "__all__    10566  1189    11755"
      ]
     },
     "metadata": {},
     "output_type": "display_data"
    },
    {
     "name": "stderr",
     "output_type": "stream",
     "text": [
      "distributed.utils - ERROR - \n",
      "Traceback (most recent call last):\n",
      "  File \"/nethomes/darshan/anaconda3/lib/python3.6/site-packages/distributed/utils.py\", line 713, in log_errors\n",
      "    yield\n",
      "  File \"/nethomes/darshan/anaconda3/lib/python3.6/site-packages/distributed/client.py\", line 1223, in _close\n",
      "    quiet_exceptions=(CancelledError,),\n",
      "  File \"/nethomes/darshan/anaconda3/lib/python3.6/site-packages/tornado/gen.py\", line 584, in with_timeout\n",
      "    chain_future(future_converted, result)\n",
      "  File \"/nethomes/darshan/anaconda3/lib/python3.6/site-packages/tornado/concurrent.py\", line 166, in chain_future\n",
      "    future_add_done_callback(a, copy)\n",
      "  File \"/nethomes/darshan/anaconda3/lib/python3.6/site-packages/tornado/concurrent.py\", line 262, in future_add_done_callback\n",
      "    callback(future)\n",
      "  File \"/nethomes/darshan/anaconda3/lib/python3.6/site-packages/tornado/concurrent.py\", line 160, in copy\n",
      "    elif a.exception() is not None:\n",
      "concurrent.futures._base.CancelledError\n",
      "Exception ignored in: <bound method Client.__del__ of <Client: not connected>>\n",
      "Traceback (most recent call last):\n",
      "  File \"/nethomes/darshan/anaconda3/lib/python3.6/site-packages/distributed/client.py\", line 1075, in __del__\n",
      "    self.close()\n",
      "  File \"/nethomes/darshan/anaconda3/lib/python3.6/site-packages/distributed/client.py\", line 1290, in close\n",
      "    sync(self.loop, self._close, fast=True)\n",
      "  File \"/nethomes/darshan/anaconda3/lib/python3.6/site-packages/distributed/utils.py\", line 331, in sync\n",
      "    six.reraise(*error[0])\n",
      "  File \"/nethomes/darshan/anaconda3/lib/python3.6/site-packages/six.py\", line 693, in reraise\n",
      "    raise value\n",
      "  File \"/nethomes/darshan/anaconda3/lib/python3.6/site-packages/distributed/utils.py\", line 316, in f\n",
      "    result[0] = yield future\n",
      "  File \"/nethomes/darshan/anaconda3/lib/python3.6/site-packages/tornado/gen.py\", line 729, in run\n",
      "    value = future.result()\n",
      "  File \"/nethomes/darshan/anaconda3/lib/python3.6/site-packages/tornado/gen.py\", line 209, in wrapper\n",
      "    yielded = next(result)\n",
      "  File \"/nethomes/darshan/anaconda3/lib/python3.6/site-packages/distributed/client.py\", line 1223, in _close\n",
      "    quiet_exceptions=(CancelledError,),\n",
      "  File \"/nethomes/darshan/anaconda3/lib/python3.6/site-packages/tornado/gen.py\", line 584, in with_timeout\n",
      "    chain_future(future_converted, result)\n",
      "  File \"/nethomes/darshan/anaconda3/lib/python3.6/site-packages/tornado/concurrent.py\", line 166, in chain_future\n",
      "    future_add_done_callback(a, copy)\n",
      "  File \"/nethomes/darshan/anaconda3/lib/python3.6/site-packages/tornado/concurrent.py\", line 262, in future_add_done_callback\n",
      "    callback(future)\n",
      "  File \"/nethomes/darshan/anaconda3/lib/python3.6/site-packages/tornado/concurrent.py\", line 160, in copy\n",
      "    elif a.exception() is not None:\n",
      "concurrent.futures._base.CancelledError: \n"
     ]
    },
    {
     "data": {
      "application/vnd.plotly.v1+json": {
       "config": {
        "linkText": "Export to plot.ly",
        "plotlyServerURL": "https://plot.ly",
        "showLink": true
       },
       "data": [
        {
         "marker": {
          "color": "rgb(158,202,225)",
          "line": {
           "color": "rgb(8,48,107)",
           "width": 1.5
          }
         },
         "opacity": 0.6,
         "orientation": "h",
         "text": [
          0.53,
          0.1269,
          0.0742,
          0.0667,
          0.033,
          0.0317,
          0.0257,
          0.0162,
          0.0144,
          0.0127,
          0.0102,
          0.0085,
          0.0077,
          0.0061,
          0.0057,
          0.0043,
          0.0042,
          0.0037,
          0.003,
          0.0019,
          0.0018,
          0.0016,
          0.0014,
          0.0013,
          0.0012,
          0.0011,
          0.0009,
          0.0006,
          0.0006,
          0.0005,
          0.0005,
          0.0005,
          0.0005,
          0.0004,
          0.0001,
          0.0001,
          0
         ],
         "textposition": "outside",
         "type": "bar",
         "uid": "5fca03b5-ad47-4767-a293-1c5d04eeaa0d",
         "x": [
          0.5300017707898117,
          0.1268837604935742,
          0.07417429420097303,
          0.0667075290236521,
          0.03299022219733496,
          0.03170858896034517,
          0.025726909575331896,
          0.016235531303807192,
          0.014409082031236094,
          0.01270660117055513,
          0.010158245170659604,
          0.00853815079909401,
          0.007660722433456467,
          0.0060608622062482895,
          0.00565005321143631,
          0.004338594843211013,
          0.004177310748371672,
          0.003699961694982818,
          0.0029923704260235635,
          0.0019198803413460804,
          0.0018056811381197534,
          0.0016426620801519435,
          0.0014415619165350356,
          0.0012796579948402165,
          0.001231268529319147,
          0.0011344655525323366,
          0.0008922375400157805,
          0.0006399034244769247,
          0.0005724789060607946,
          0.0005144249042711009,
          0.000501663215221331,
          0.0005013067058082519,
          0.00047463116422105086,
          0.00044603531820301223,
          0.00012499928823440012,
          5.658070053782861e-05,
          0
         ],
         "y": [
          "url_length / total_count",
          "url_extensions / total_count",
          "url_char_. + url_extensions",
          "url_char_. + url_char_w",
          "http_header_server_apache / total_count",
          "url_char_z / total_count",
          "url_char_w * url_length",
          "url_char_i / total_count",
          "url_extensions",
          "a_href_out_of_domain / total_href",
          "http_header_content-encoding_gzip / url_char_.",
          "url_char_. + url_char_z",
          "url_char_. / total_count",
          "http_header_server_apache + url_extensions",
          "http_header_server_apache + url_char_w",
          "url_char_. * url_char_w",
          "url_char_l / total_count",
          "url_char_f + url_extensions",
          "url_char_w + url_extensions",
          "url_char_p / total_count",
          "url_char_w / total_count",
          "url_char_f / total_count",
          "url_char_p + url_extensions",
          "url_char_y * url_extensions",
          "url_char_. + url_char_y",
          "url_char_f + url_char_w",
          "a_href_https / a_count",
          "http_header_vary_user-agent + url_char_.",
          "a_href_relative / a_count",
          "url_char_w + url_char_z",
          "http_header_via_1.1 + url_extensions",
          "http_header_vary_user-agent + url_extensions",
          "a_href_relative / total_href",
          "url_extensions / url_char_z",
          "url_char_.",
          "url_char_w * url_extensions",
          "url_char_w"
         ]
        }
       ],
       "layout": {
        "autosize": false,
        "height": 1000,
        "width": 1000,
        "xaxis": {
         "tickfont": {
          "color": "black",
          "size": 12
         },
         "title": "Feature Importances"
        },
        "yaxis": {
         "automargin": true
        }
       }
      },
      "text/html": [
       "<div id=\"8f2e3f52-b22e-4f2c-98c5-f80ac1f971d6\" style=\"height: 1000px; width: 1000px;\" class=\"plotly-graph-div\"></div><script type=\"text/javascript\">require([\"plotly\"], function(Plotly) { window.PLOTLYENV=window.PLOTLYENV || {};window.PLOTLYENV.BASE_URL=\"https://plot.ly\";Plotly.newPlot(\"8f2e3f52-b22e-4f2c-98c5-f80ac1f971d6\", [{\"marker\": {\"color\": \"rgb(158,202,225)\", \"line\": {\"color\": \"rgb(8,48,107)\", \"width\": 1.5}}, \"opacity\": 0.6, \"orientation\": \"h\", \"text\": [0.53, 0.1269, 0.0742, 0.0667, 0.033, 0.0317, 0.0257, 0.0162, 0.0144, 0.0127, 0.0102, 0.0085, 0.0077, 0.0061, 0.0057, 0.0043, 0.0042, 0.0037, 0.003, 0.0019, 0.0018, 0.0016, 0.0014, 0.0013, 0.0012, 0.0011, 0.0009, 0.0006, 0.0006, 0.0005, 0.0005, 0.0005, 0.0005, 0.0004, 0.0001, 0.0001, 0.0], \"textposition\": \"outside\", \"x\": [0.5300017707898117, 0.1268837604935742, 0.07417429420097303, 0.0667075290236521, 0.03299022219733496, 0.03170858896034517, 0.025726909575331896, 0.016235531303807192, 0.014409082031236094, 0.01270660117055513, 0.010158245170659604, 0.00853815079909401, 0.007660722433456467, 0.0060608622062482895, 0.00565005321143631, 0.004338594843211013, 0.004177310748371672, 0.003699961694982818, 0.0029923704260235635, 0.0019198803413460804, 0.0018056811381197534, 0.0016426620801519435, 0.0014415619165350356, 0.0012796579948402165, 0.001231268529319147, 0.0011344655525323366, 0.0008922375400157805, 0.0006399034244769247, 0.0005724789060607946, 0.0005144249042711009, 0.000501663215221331, 0.0005013067058082519, 0.00047463116422105086, 0.00044603531820301223, 0.00012499928823440012, 5.658070053782861e-05, 0.0], \"y\": [\"url_length / total_count\", \"url_extensions / total_count\", \"url_char_. + url_extensions\", \"url_char_. + url_char_w\", \"http_header_server_apache / total_count\", \"url_char_z / total_count\", \"url_char_w * url_length\", \"url_char_i / total_count\", \"url_extensions\", \"a_href_out_of_domain / total_href\", \"http_header_content-encoding_gzip / url_char_.\", \"url_char_. + url_char_z\", \"url_char_. / total_count\", \"http_header_server_apache + url_extensions\", \"http_header_server_apache + url_char_w\", \"url_char_. * url_char_w\", \"url_char_l / total_count\", \"url_char_f + url_extensions\", \"url_char_w + url_extensions\", \"url_char_p / total_count\", \"url_char_w / total_count\", \"url_char_f / total_count\", \"url_char_p + url_extensions\", \"url_char_y * url_extensions\", \"url_char_. + url_char_y\", \"url_char_f + url_char_w\", \"a_href_https / a_count\", \"http_header_vary_user-agent + url_char_.\", \"a_href_relative / a_count\", \"url_char_w + url_char_z\", \"http_header_via_1.1 + url_extensions\", \"http_header_vary_user-agent + url_extensions\", \"a_href_relative / total_href\", \"url_extensions / url_char_z\", \"url_char_.\", \"url_char_w * url_extensions\", \"url_char_w\"], \"type\": \"bar\", \"uid\": \"5fca03b5-ad47-4767-a293-1c5d04eeaa0d\"}], {\"autosize\": false, \"height\": 1000, \"width\": 1000, \"xaxis\": {\"tickfont\": {\"color\": \"black\", \"size\": 12}, \"title\": \"Feature Importances\"}, \"yaxis\": {\"automargin\": true}}, {\"showLink\": true, \"linkText\": \"Export to plot.ly\", \"plotlyServerURL\": \"https://plot.ly\"})});</script>"
      ],
      "text/vnd.plotly.v1+html": [
       "<div id=\"8f2e3f52-b22e-4f2c-98c5-f80ac1f971d6\" style=\"height: 1000px; width: 1000px;\" class=\"plotly-graph-div\"></div><script type=\"text/javascript\">require([\"plotly\"], function(Plotly) { window.PLOTLYENV=window.PLOTLYENV || {};window.PLOTLYENV.BASE_URL=\"https://plot.ly\";Plotly.newPlot(\"8f2e3f52-b22e-4f2c-98c5-f80ac1f971d6\", [{\"marker\": {\"color\": \"rgb(158,202,225)\", \"line\": {\"color\": \"rgb(8,48,107)\", \"width\": 1.5}}, \"opacity\": 0.6, \"orientation\": \"h\", \"text\": [0.53, 0.1269, 0.0742, 0.0667, 0.033, 0.0317, 0.0257, 0.0162, 0.0144, 0.0127, 0.0102, 0.0085, 0.0077, 0.0061, 0.0057, 0.0043, 0.0042, 0.0037, 0.003, 0.0019, 0.0018, 0.0016, 0.0014, 0.0013, 0.0012, 0.0011, 0.0009, 0.0006, 0.0006, 0.0005, 0.0005, 0.0005, 0.0005, 0.0004, 0.0001, 0.0001, 0.0], \"textposition\": \"outside\", \"x\": [0.5300017707898117, 0.1268837604935742, 0.07417429420097303, 0.0667075290236521, 0.03299022219733496, 0.03170858896034517, 0.025726909575331896, 0.016235531303807192, 0.014409082031236094, 0.01270660117055513, 0.010158245170659604, 0.00853815079909401, 0.007660722433456467, 0.0060608622062482895, 0.00565005321143631, 0.004338594843211013, 0.004177310748371672, 0.003699961694982818, 0.0029923704260235635, 0.0019198803413460804, 0.0018056811381197534, 0.0016426620801519435, 0.0014415619165350356, 0.0012796579948402165, 0.001231268529319147, 0.0011344655525323366, 0.0008922375400157805, 0.0006399034244769247, 0.0005724789060607946, 0.0005144249042711009, 0.000501663215221331, 0.0005013067058082519, 0.00047463116422105086, 0.00044603531820301223, 0.00012499928823440012, 5.658070053782861e-05, 0.0], \"y\": [\"url_length / total_count\", \"url_extensions / total_count\", \"url_char_. + url_extensions\", \"url_char_. + url_char_w\", \"http_header_server_apache / total_count\", \"url_char_z / total_count\", \"url_char_w * url_length\", \"url_char_i / total_count\", \"url_extensions\", \"a_href_out_of_domain / total_href\", \"http_header_content-encoding_gzip / url_char_.\", \"url_char_. + url_char_z\", \"url_char_. / total_count\", \"http_header_server_apache + url_extensions\", \"http_header_server_apache + url_char_w\", \"url_char_. * url_char_w\", \"url_char_l / total_count\", \"url_char_f + url_extensions\", \"url_char_w + url_extensions\", \"url_char_p / total_count\", \"url_char_w / total_count\", \"url_char_f / total_count\", \"url_char_p + url_extensions\", \"url_char_y * url_extensions\", \"url_char_. + url_char_y\", \"url_char_f + url_char_w\", \"a_href_https / a_count\", \"http_header_vary_user-agent + url_char_.\", \"a_href_relative / a_count\", \"url_char_w + url_char_z\", \"http_header_via_1.1 + url_extensions\", \"http_header_vary_user-agent + url_extensions\", \"a_href_relative / total_href\", \"url_extensions / url_char_z\", \"url_char_.\", \"url_char_w * url_extensions\", \"url_char_w\"], \"type\": \"bar\", \"uid\": \"5fca03b5-ad47-4767-a293-1c5d04eeaa0d\"}], {\"autosize\": false, \"height\": 1000, \"width\": 1000, \"xaxis\": {\"tickfont\": {\"color\": \"black\", \"size\": 12}, \"title\": \"Feature Importances\"}, \"yaxis\": {\"automargin\": true}}, {\"showLink\": true, \"linkText\": \"Export to plot.ly\", \"plotlyServerURL\": \"https://plot.ly\"})});</script>"
      ]
     },
     "metadata": {},
     "output_type": "display_data"
    },
    {
     "name": "stdout",
     "output_type": "stream",
     "text": [
      "\n",
      "\n",
      "\u001b[1mExtraTree Classifier\u001b[0m\n",
      "Accuracy of the model for training data is: 0.9973020271255651\n",
      "Confusion Matrix for training data is:\n"
     ]
    },
    {
     "data": {
      "text/plain": [
       "Predicted  False  True  __all__\n",
       "Actual                         \n",
       "False      24319     8    24327\n",
       "True          66  3035     3101\n",
       "__all__    24385  3043    27428"
      ]
     },
     "metadata": {},
     "output_type": "display_data"
    },
    {
     "name": "stdout",
     "output_type": "stream",
     "text": [
      "Accuracy of the model for test data is: 0.9755848575074436\n",
      "Confusion Matrix for test data is:\n"
     ]
    },
    {
     "data": {
      "text/plain": [
       "Predicted  False  True  __all__\n",
       "Actual                         \n",
       "False      10329    86    10415\n",
       "True         201  1139     1340\n",
       "__all__    10530  1225    11755"
      ]
     },
     "metadata": {},
     "output_type": "display_data"
    },
    {
     "data": {
      "application/vnd.plotly.v1+json": {
       "config": {
        "linkText": "Export to plot.ly",
        "plotlyServerURL": "https://plot.ly",
        "showLink": true
       },
       "data": [
        {
         "marker": {
          "color": "rgb(158,202,225)",
          "line": {
           "color": "rgb(8,48,107)",
           "width": 1.5
          }
         },
         "opacity": 0.6,
         "orientation": "h",
         "text": [
          0.112,
          0.1018,
          0.0979,
          0.0642,
          0.0614,
          0.0573,
          0.0417,
          0.0374,
          0.0325,
          0.0302,
          0.029,
          0.0262,
          0.0253,
          0.0232,
          0.0206,
          0.0205,
          0.0175,
          0.0165,
          0.0146,
          0.014,
          0.0134,
          0.013,
          0.0125,
          0.0121,
          0.0117,
          0.011,
          0.0109,
          0.0107,
          0.0105,
          0.0094,
          0.009,
          0.0082,
          0.0078,
          0.006,
          0.0041,
          0.0032,
          0.0025
         ],
         "textposition": "outside",
         "type": "bar",
         "uid": "ad5882f9-6e43-4cef-b241-a742a88b49d5",
         "x": [
          0.11195388425021127,
          0.101839749853457,
          0.09792378982528735,
          0.06424555515081973,
          0.061362901791777925,
          0.05730524688989621,
          0.04171844733772516,
          0.037428835643947084,
          0.03251456255667847,
          0.03023103678933131,
          0.02898268415034578,
          0.026242970694672983,
          0.025319206768374673,
          0.023154347577128594,
          0.020578690124690713,
          0.020536944989067267,
          0.01751626168973165,
          0.01645555846911573,
          0.014608768320460111,
          0.013990066965062078,
          0.013449215837642197,
          0.013033854941751053,
          0.012535703120471604,
          0.012096177833746495,
          0.011692056034922594,
          0.011035262560261282,
          0.010918128949294288,
          0.010722556109191827,
          0.010478351441769099,
          0.009372241359807826,
          0.00904687998187658,
          0.008157641534076669,
          0.007777571790750758,
          0.0059519821695253605,
          0.0041404877930506035,
          0.0032010650187784566,
          0.0024813136853022192
         ],
         "y": [
          "url_length / total_count",
          "url_extensions / total_count",
          "url_char_w + url_char_z",
          "http_header_content-encoding_gzip / url_char_.",
          "url_char_. / total_count",
          "url_char_i / total_count",
          "a_href_https / a_count",
          "http_header_server_apache + url_extensions",
          "url_char_. + url_char_y",
          "url_char_.",
          "http_header_server_apache / total_count",
          "a_href_relative / total_href",
          "a_href_relative / a_count",
          "url_char_f + url_extensions",
          "url_char_z / total_count",
          "url_char_l / total_count",
          "a_href_out_of_domain / total_href",
          "url_char_. + url_extensions",
          "url_char_w + url_extensions",
          "url_char_y * url_extensions",
          "url_char_. * url_char_w",
          "http_header_server_apache + url_char_w",
          "http_header_vary_user-agent + url_char_.",
          "url_extensions",
          "url_char_w * url_length",
          "url_char_. + url_char_z",
          "http_header_via_1.1 + url_extensions",
          "url_char_p / total_count",
          "url_char_p + url_extensions",
          "url_char_f + url_char_w",
          "url_char_. + url_char_w",
          "url_char_w * url_extensions",
          "http_header_vary_user-agent + url_extensions",
          "url_char_f / total_count",
          "url_char_w",
          "url_extensions / url_char_z",
          "url_char_w / total_count"
         ]
        }
       ],
       "layout": {
        "autosize": false,
        "height": 1000,
        "width": 1000,
        "xaxis": {
         "tickfont": {
          "color": "black",
          "size": 12
         },
         "title": "Feature Importances"
        },
        "yaxis": {
         "automargin": true
        }
       }
      },
      "text/html": [
       "<div id=\"d42d913a-f0a5-4ad9-96b0-64b9e6ffbc1b\" style=\"height: 1000px; width: 1000px;\" class=\"plotly-graph-div\"></div><script type=\"text/javascript\">require([\"plotly\"], function(Plotly) { window.PLOTLYENV=window.PLOTLYENV || {};window.PLOTLYENV.BASE_URL=\"https://plot.ly\";Plotly.newPlot(\"d42d913a-f0a5-4ad9-96b0-64b9e6ffbc1b\", [{\"marker\": {\"color\": \"rgb(158,202,225)\", \"line\": {\"color\": \"rgb(8,48,107)\", \"width\": 1.5}}, \"opacity\": 0.6, \"orientation\": \"h\", \"text\": [0.112, 0.1018, 0.0979, 0.0642, 0.0614, 0.0573, 0.0417, 0.0374, 0.0325, 0.0302, 0.029, 0.0262, 0.0253, 0.0232, 0.0206, 0.0205, 0.0175, 0.0165, 0.0146, 0.014, 0.0134, 0.013, 0.0125, 0.0121, 0.0117, 0.011, 0.0109, 0.0107, 0.0105, 0.0094, 0.009, 0.0082, 0.0078, 0.006, 0.0041, 0.0032, 0.0025], \"textposition\": \"outside\", \"x\": [0.11195388425021127, 0.101839749853457, 0.09792378982528735, 0.06424555515081973, 0.061362901791777925, 0.05730524688989621, 0.04171844733772516, 0.037428835643947084, 0.03251456255667847, 0.03023103678933131, 0.02898268415034578, 0.026242970694672983, 0.025319206768374673, 0.023154347577128594, 0.020578690124690713, 0.020536944989067267, 0.01751626168973165, 0.01645555846911573, 0.014608768320460111, 0.013990066965062078, 0.013449215837642197, 0.013033854941751053, 0.012535703120471604, 0.012096177833746495, 0.011692056034922594, 0.011035262560261282, 0.010918128949294288, 0.010722556109191827, 0.010478351441769099, 0.009372241359807826, 0.00904687998187658, 0.008157641534076669, 0.007777571790750758, 0.0059519821695253605, 0.0041404877930506035, 0.0032010650187784566, 0.0024813136853022192], \"y\": [\"url_length / total_count\", \"url_extensions / total_count\", \"url_char_w + url_char_z\", \"http_header_content-encoding_gzip / url_char_.\", \"url_char_. / total_count\", \"url_char_i / total_count\", \"a_href_https / a_count\", \"http_header_server_apache + url_extensions\", \"url_char_. + url_char_y\", \"url_char_.\", \"http_header_server_apache / total_count\", \"a_href_relative / total_href\", \"a_href_relative / a_count\", \"url_char_f + url_extensions\", \"url_char_z / total_count\", \"url_char_l / total_count\", \"a_href_out_of_domain / total_href\", \"url_char_. + url_extensions\", \"url_char_w + url_extensions\", \"url_char_y * url_extensions\", \"url_char_. * url_char_w\", \"http_header_server_apache + url_char_w\", \"http_header_vary_user-agent + url_char_.\", \"url_extensions\", \"url_char_w * url_length\", \"url_char_. + url_char_z\", \"http_header_via_1.1 + url_extensions\", \"url_char_p / total_count\", \"url_char_p + url_extensions\", \"url_char_f + url_char_w\", \"url_char_. + url_char_w\", \"url_char_w * url_extensions\", \"http_header_vary_user-agent + url_extensions\", \"url_char_f / total_count\", \"url_char_w\", \"url_extensions / url_char_z\", \"url_char_w / total_count\"], \"type\": \"bar\", \"uid\": \"ad5882f9-6e43-4cef-b241-a742a88b49d5\"}], {\"autosize\": false, \"height\": 1000, \"width\": 1000, \"xaxis\": {\"tickfont\": {\"color\": \"black\", \"size\": 12}, \"title\": \"Feature Importances\"}, \"yaxis\": {\"automargin\": true}}, {\"showLink\": true, \"linkText\": \"Export to plot.ly\", \"plotlyServerURL\": \"https://plot.ly\"})});</script>"
      ],
      "text/vnd.plotly.v1+html": [
       "<div id=\"d42d913a-f0a5-4ad9-96b0-64b9e6ffbc1b\" style=\"height: 1000px; width: 1000px;\" class=\"plotly-graph-div\"></div><script type=\"text/javascript\">require([\"plotly\"], function(Plotly) { window.PLOTLYENV=window.PLOTLYENV || {};window.PLOTLYENV.BASE_URL=\"https://plot.ly\";Plotly.newPlot(\"d42d913a-f0a5-4ad9-96b0-64b9e6ffbc1b\", [{\"marker\": {\"color\": \"rgb(158,202,225)\", \"line\": {\"color\": \"rgb(8,48,107)\", \"width\": 1.5}}, \"opacity\": 0.6, \"orientation\": \"h\", \"text\": [0.112, 0.1018, 0.0979, 0.0642, 0.0614, 0.0573, 0.0417, 0.0374, 0.0325, 0.0302, 0.029, 0.0262, 0.0253, 0.0232, 0.0206, 0.0205, 0.0175, 0.0165, 0.0146, 0.014, 0.0134, 0.013, 0.0125, 0.0121, 0.0117, 0.011, 0.0109, 0.0107, 0.0105, 0.0094, 0.009, 0.0082, 0.0078, 0.006, 0.0041, 0.0032, 0.0025], \"textposition\": \"outside\", \"x\": [0.11195388425021127, 0.101839749853457, 0.09792378982528735, 0.06424555515081973, 0.061362901791777925, 0.05730524688989621, 0.04171844733772516, 0.037428835643947084, 0.03251456255667847, 0.03023103678933131, 0.02898268415034578, 0.026242970694672983, 0.025319206768374673, 0.023154347577128594, 0.020578690124690713, 0.020536944989067267, 0.01751626168973165, 0.01645555846911573, 0.014608768320460111, 0.013990066965062078, 0.013449215837642197, 0.013033854941751053, 0.012535703120471604, 0.012096177833746495, 0.011692056034922594, 0.011035262560261282, 0.010918128949294288, 0.010722556109191827, 0.010478351441769099, 0.009372241359807826, 0.00904687998187658, 0.008157641534076669, 0.007777571790750758, 0.0059519821695253605, 0.0041404877930506035, 0.0032010650187784566, 0.0024813136853022192], \"y\": [\"url_length / total_count\", \"url_extensions / total_count\", \"url_char_w + url_char_z\", \"http_header_content-encoding_gzip / url_char_.\", \"url_char_. / total_count\", \"url_char_i / total_count\", \"a_href_https / a_count\", \"http_header_server_apache + url_extensions\", \"url_char_. + url_char_y\", \"url_char_.\", \"http_header_server_apache / total_count\", \"a_href_relative / total_href\", \"a_href_relative / a_count\", \"url_char_f + url_extensions\", \"url_char_z / total_count\", \"url_char_l / total_count\", \"a_href_out_of_domain / total_href\", \"url_char_. + url_extensions\", \"url_char_w + url_extensions\", \"url_char_y * url_extensions\", \"url_char_. * url_char_w\", \"http_header_server_apache + url_char_w\", \"http_header_vary_user-agent + url_char_.\", \"url_extensions\", \"url_char_w * url_length\", \"url_char_. + url_char_z\", \"http_header_via_1.1 + url_extensions\", \"url_char_p / total_count\", \"url_char_p + url_extensions\", \"url_char_f + url_char_w\", \"url_char_. + url_char_w\", \"url_char_w * url_extensions\", \"http_header_vary_user-agent + url_extensions\", \"url_char_f / total_count\", \"url_char_w\", \"url_extensions / url_char_z\", \"url_char_w / total_count\"], \"type\": \"bar\", \"uid\": \"ad5882f9-6e43-4cef-b241-a742a88b49d5\"}], {\"autosize\": false, \"height\": 1000, \"width\": 1000, \"xaxis\": {\"tickfont\": {\"color\": \"black\", \"size\": 12}, \"title\": \"Feature Importances\"}, \"yaxis\": {\"automargin\": true}}, {\"showLink\": true, \"linkText\": \"Export to plot.ly\", \"plotlyServerURL\": \"https://plot.ly\"})});</script>"
      ]
     },
     "metadata": {},
     "output_type": "display_data"
    },
    {
     "name": "stdout",
     "output_type": "stream",
     "text": [
      "\n",
      "\n",
      "\u001b[1mXGB Classifier\u001b[0m\n",
      "Accuracy of the model for training data is: 0.9799474989062272\n",
      "Confusion Matrix for training data is:\n"
     ]
    },
    {
     "data": {
      "text/plain": [
       "Predicted  False  True  __all__\n",
       "Actual                         \n",
       "False      24201   126    24327\n",
       "True         424  2677     3101\n",
       "__all__    24625  2803    27428"
      ]
     },
     "metadata": {},
     "output_type": "display_data"
    },
    {
     "name": "stdout",
     "output_type": "stream",
     "text": [
      "Accuracy of the model for test data is: 0.9749042960442365\n",
      "Confusion Matrix for test data is:\n"
     ]
    },
    {
     "data": {
      "text/plain": [
       "Predicted  False  True  __all__\n",
       "Actual                         \n",
       "False      10341    74    10415\n",
       "True         221  1119     1340\n",
       "__all__    10562  1193    11755"
      ]
     },
     "metadata": {},
     "output_type": "display_data"
    },
    {
     "data": {
      "application/vnd.plotly.v1+json": {
       "config": {
        "linkText": "Export to plot.ly",
        "plotlyServerURL": "https://plot.ly",
        "showLink": true
       },
       "data": [
        {
         "marker": {
          "color": "rgb(158,202,225)",
          "line": {
           "color": "rgb(8,48,107)",
           "width": 1.5
          }
         },
         "opacity": 0.6,
         "orientation": "h",
         "text": [
          0.1194,
          0.0742,
          0.0728,
          0.0684,
          0.0524,
          0.0495,
          0.0451,
          0.0408,
          0.0408,
          0.0378,
          0.0291,
          0.0291,
          0.0262,
          0.0247,
          0.0233,
          0.0218,
          0.0218,
          0.0175,
          0.0175,
          0.016,
          0.016,
          0.016,
          0.016,
          0.016,
          0.0146,
          0.0146,
          0.0131,
          0.0131,
          0.0116,
          0.0102,
          0.0087,
          0.0087,
          0.0044,
          0.0044,
          0.0029,
          0.0015,
          0
         ],
         "textposition": "outside",
         "type": "bar",
         "uid": "24740d97-05e1-492d-a940-96e8f31bd7b8",
         "x": [
          0.11935953050851822,
          0.07423580437898636,
          0.07278020679950714,
          0.0684133917093277,
          0.052401747554540634,
          0.049490537494421005,
          0.04512372612953186,
          0.040756914764642715,
          0.040756914764642715,
          0.03784570470452309,
          0.029112081974744797,
          0.029112081974744797,
          0.026200873777270317,
          0.024745268747210503,
          0.023289665579795837,
          0.021834060549736023,
          0.021834060549736023,
          0.017467249184846878,
          0.017467249184846878,
          0.016011644154787064,
          0.016011644154787064,
          0.016011644154787064,
          0.016011644154787064,
          0.016011644154787064,
          0.014556040987372398,
          0.014556040987372398,
          0.013100436888635159,
          0.013100436888635159,
          0.011644832789897919,
          0.010189228691160679,
          0.008733624592423439,
          0.008733624592423439,
          0.0043668122962117195,
          0.0043668122962117195,
          0.0029112081974744797,
          0.0014556040987372398,
          0
         ],
         "y": [
          "url_length / total_count",
          "url_char_. / total_count",
          "a_href_out_of_domain / total_href",
          "http_header_content-encoding_gzip / url_char_.",
          "url_extensions / total_count",
          "url_char_w * url_length",
          "a_href_https / a_count",
          "http_header_server_apache / total_count",
          "url_char_. + url_extensions",
          "a_href_relative / total_href",
          "url_char_z / total_count",
          "url_char_i / total_count",
          "url_char_l / total_count",
          "a_href_relative / a_count",
          "url_char_. * url_char_w",
          "url_char_. + url_char_w",
          "http_header_server_apache + url_char_w",
          "url_char_p + url_extensions",
          "url_char_y * url_extensions",
          "url_char_p / total_count",
          "url_char_f / total_count",
          "url_extensions",
          "http_header_server_apache + url_extensions",
          "http_header_vary_user-agent + url_char_.",
          "url_char_.",
          "url_char_w + url_extensions",
          "url_char_w + url_char_z",
          "url_char_. + url_char_y",
          "url_char_w / total_count",
          "url_char_. + url_char_z",
          "url_char_w * url_extensions",
          "url_char_f + url_extensions",
          "http_header_via_1.1 + url_extensions",
          "url_extensions / url_char_z",
          "url_char_f + url_char_w",
          "http_header_vary_user-agent + url_extensions",
          "url_char_w"
         ]
        }
       ],
       "layout": {
        "autosize": false,
        "height": 1000,
        "width": 1000,
        "xaxis": {
         "tickfont": {
          "color": "black",
          "size": 12
         },
         "title": "Feature Importances"
        },
        "yaxis": {
         "automargin": true
        }
       }
      },
      "text/html": [
       "<div id=\"9aec62cf-1f44-4a1d-91af-5fd14deba120\" style=\"height: 1000px; width: 1000px;\" class=\"plotly-graph-div\"></div><script type=\"text/javascript\">require([\"plotly\"], function(Plotly) { window.PLOTLYENV=window.PLOTLYENV || {};window.PLOTLYENV.BASE_URL=\"https://plot.ly\";Plotly.newPlot(\"9aec62cf-1f44-4a1d-91af-5fd14deba120\", [{\"marker\": {\"color\": \"rgb(158,202,225)\", \"line\": {\"color\": \"rgb(8,48,107)\", \"width\": 1.5}}, \"opacity\": 0.6, \"orientation\": \"h\", \"text\": [0.1194, 0.0742, 0.0728, 0.0684, 0.0524, 0.0495, 0.0451, 0.0408, 0.0408, 0.0378, 0.0291, 0.0291, 0.0262, 0.0247, 0.0233, 0.0218, 0.0218, 0.0175, 0.0175, 0.016, 0.016, 0.016, 0.016, 0.016, 0.0146, 0.0146, 0.0131, 0.0131, 0.0116, 0.0102, 0.0087, 0.0087, 0.0044, 0.0044, 0.0029, 0.0015, 0.0], \"textposition\": \"outside\", \"x\": [0.11935953050851822, 0.07423580437898636, 0.07278020679950714, 0.0684133917093277, 0.052401747554540634, 0.049490537494421005, 0.04512372612953186, 0.040756914764642715, 0.040756914764642715, 0.03784570470452309, 0.029112081974744797, 0.029112081974744797, 0.026200873777270317, 0.024745268747210503, 0.023289665579795837, 0.021834060549736023, 0.021834060549736023, 0.017467249184846878, 0.017467249184846878, 0.016011644154787064, 0.016011644154787064, 0.016011644154787064, 0.016011644154787064, 0.016011644154787064, 0.014556040987372398, 0.014556040987372398, 0.013100436888635159, 0.013100436888635159, 0.011644832789897919, 0.010189228691160679, 0.008733624592423439, 0.008733624592423439, 0.0043668122962117195, 0.0043668122962117195, 0.0029112081974744797, 0.0014556040987372398, 0.0], \"y\": [\"url_length / total_count\", \"url_char_. / total_count\", \"a_href_out_of_domain / total_href\", \"http_header_content-encoding_gzip / url_char_.\", \"url_extensions / total_count\", \"url_char_w * url_length\", \"a_href_https / a_count\", \"http_header_server_apache / total_count\", \"url_char_. + url_extensions\", \"a_href_relative / total_href\", \"url_char_z / total_count\", \"url_char_i / total_count\", \"url_char_l / total_count\", \"a_href_relative / a_count\", \"url_char_. * url_char_w\", \"url_char_. + url_char_w\", \"http_header_server_apache + url_char_w\", \"url_char_p + url_extensions\", \"url_char_y * url_extensions\", \"url_char_p / total_count\", \"url_char_f / total_count\", \"url_extensions\", \"http_header_server_apache + url_extensions\", \"http_header_vary_user-agent + url_char_.\", \"url_char_.\", \"url_char_w + url_extensions\", \"url_char_w + url_char_z\", \"url_char_. + url_char_y\", \"url_char_w / total_count\", \"url_char_. + url_char_z\", \"url_char_w * url_extensions\", \"url_char_f + url_extensions\", \"http_header_via_1.1 + url_extensions\", \"url_extensions / url_char_z\", \"url_char_f + url_char_w\", \"http_header_vary_user-agent + url_extensions\", \"url_char_w\"], \"type\": \"bar\", \"uid\": \"24740d97-05e1-492d-a940-96e8f31bd7b8\"}], {\"autosize\": false, \"height\": 1000, \"width\": 1000, \"xaxis\": {\"tickfont\": {\"color\": \"black\", \"size\": 12}, \"title\": \"Feature Importances\"}, \"yaxis\": {\"automargin\": true}}, {\"showLink\": true, \"linkText\": \"Export to plot.ly\", \"plotlyServerURL\": \"https://plot.ly\"})});</script>"
      ],
      "text/vnd.plotly.v1+html": [
       "<div id=\"9aec62cf-1f44-4a1d-91af-5fd14deba120\" style=\"height: 1000px; width: 1000px;\" class=\"plotly-graph-div\"></div><script type=\"text/javascript\">require([\"plotly\"], function(Plotly) { window.PLOTLYENV=window.PLOTLYENV || {};window.PLOTLYENV.BASE_URL=\"https://plot.ly\";Plotly.newPlot(\"9aec62cf-1f44-4a1d-91af-5fd14deba120\", [{\"marker\": {\"color\": \"rgb(158,202,225)\", \"line\": {\"color\": \"rgb(8,48,107)\", \"width\": 1.5}}, \"opacity\": 0.6, \"orientation\": \"h\", \"text\": [0.1194, 0.0742, 0.0728, 0.0684, 0.0524, 0.0495, 0.0451, 0.0408, 0.0408, 0.0378, 0.0291, 0.0291, 0.0262, 0.0247, 0.0233, 0.0218, 0.0218, 0.0175, 0.0175, 0.016, 0.016, 0.016, 0.016, 0.016, 0.0146, 0.0146, 0.0131, 0.0131, 0.0116, 0.0102, 0.0087, 0.0087, 0.0044, 0.0044, 0.0029, 0.0015, 0.0], \"textposition\": \"outside\", \"x\": [0.11935953050851822, 0.07423580437898636, 0.07278020679950714, 0.0684133917093277, 0.052401747554540634, 0.049490537494421005, 0.04512372612953186, 0.040756914764642715, 0.040756914764642715, 0.03784570470452309, 0.029112081974744797, 0.029112081974744797, 0.026200873777270317, 0.024745268747210503, 0.023289665579795837, 0.021834060549736023, 0.021834060549736023, 0.017467249184846878, 0.017467249184846878, 0.016011644154787064, 0.016011644154787064, 0.016011644154787064, 0.016011644154787064, 0.016011644154787064, 0.014556040987372398, 0.014556040987372398, 0.013100436888635159, 0.013100436888635159, 0.011644832789897919, 0.010189228691160679, 0.008733624592423439, 0.008733624592423439, 0.0043668122962117195, 0.0043668122962117195, 0.0029112081974744797, 0.0014556040987372398, 0.0], \"y\": [\"url_length / total_count\", \"url_char_. / total_count\", \"a_href_out_of_domain / total_href\", \"http_header_content-encoding_gzip / url_char_.\", \"url_extensions / total_count\", \"url_char_w * url_length\", \"a_href_https / a_count\", \"http_header_server_apache / total_count\", \"url_char_. + url_extensions\", \"a_href_relative / total_href\", \"url_char_z / total_count\", \"url_char_i / total_count\", \"url_char_l / total_count\", \"a_href_relative / a_count\", \"url_char_. * url_char_w\", \"url_char_. + url_char_w\", \"http_header_server_apache + url_char_w\", \"url_char_p + url_extensions\", \"url_char_y * url_extensions\", \"url_char_p / total_count\", \"url_char_f / total_count\", \"url_extensions\", \"http_header_server_apache + url_extensions\", \"http_header_vary_user-agent + url_char_.\", \"url_char_.\", \"url_char_w + url_extensions\", \"url_char_w + url_char_z\", \"url_char_. + url_char_y\", \"url_char_w / total_count\", \"url_char_. + url_char_z\", \"url_char_w * url_extensions\", \"url_char_f + url_extensions\", \"http_header_via_1.1 + url_extensions\", \"url_extensions / url_char_z\", \"url_char_f + url_char_w\", \"http_header_vary_user-agent + url_extensions\", \"url_char_w\"], \"type\": \"bar\", \"uid\": \"24740d97-05e1-492d-a940-96e8f31bd7b8\"}], {\"autosize\": false, \"height\": 1000, \"width\": 1000, \"xaxis\": {\"tickfont\": {\"color\": \"black\", \"size\": 12}, \"title\": \"Feature Importances\"}, \"yaxis\": {\"automargin\": true}}, {\"showLink\": true, \"linkText\": \"Export to plot.ly\", \"plotlyServerURL\": \"https://plot.ly\"})});</script>"
      ]
     },
     "metadata": {},
     "output_type": "display_data"
    },
    {
     "name": "stdout",
     "output_type": "stream",
     "text": [
      "\n",
      "\n",
      "\u001b[1mBagging Classifier\u001b[0m\n",
      "Accuracy of the model for training data is: 0.9952603179232901\n",
      "Confusion Matrix for training data is:\n"
     ]
    },
    {
     "data": {
      "text/plain": [
       "Predicted  False  True  __all__\n",
       "Actual                         \n",
       "False      24293    34    24327\n",
       "True          96  3005     3101\n",
       "__all__    24389  3039    27428"
      ]
     },
     "metadata": {},
     "output_type": "display_data"
    },
    {
     "name": "stdout",
     "output_type": "stream",
     "text": [
      "Accuracy of the model for test data is: 0.9762654189706508\n",
      "Confusion Matrix for test data is:\n"
     ]
    },
    {
     "data": {
      "text/plain": [
       "Predicted  False  True  __all__\n",
       "Actual                         \n",
       "False      10321    94    10415\n",
       "True         185  1155     1340\n",
       "__all__    10506  1249    11755"
      ]
     },
     "metadata": {},
     "output_type": "display_data"
    },
    {
     "name": "stdout",
     "output_type": "stream",
     "text": [
      "\n",
      "\n",
      "\u001b[1mNeural Network-1\u001b[0m\n",
      "The accuracy of the model on training data is: 0.9889528948519761\n"
     ]
    },
    {
     "data": {
      "text/plain": [
       "Predicted  False  True  __all__\n",
       "Actual                         \n",
       "False      24289    38    24327\n",
       "True         265  2836     3101\n",
       "__all__    24554  2874    27428"
      ]
     },
     "metadata": {},
     "output_type": "display_data"
    },
    {
     "name": "stdout",
     "output_type": "stream",
     "text": [
      "The accuracy of the model on test data is: 0.9741386643981285\n"
     ]
    },
    {
     "data": {
      "text/plain": [
       "Predicted  False  True  __all__\n",
       "Actual                         \n",
       "False      10311   104    10415\n",
       "True         200  1140     1340\n",
       "__all__    10511  1244    11755"
      ]
     },
     "metadata": {},
     "output_type": "display_data"
    },
    {
     "name": "stdout",
     "output_type": "stream",
     "text": [
      "\n",
      "\n"
     ]
    }
   ],
   "source": [
    "fs=fs.reindex(df_sel.index.values)\n",
    "\n",
    "train=fs.iloc[:27428]\n",
    "train_Y=train.Target.values\n",
    "train_X=train[feature_name].values\n",
    "\n",
    "\n",
    "scaler=StandardScaler()\n",
    "scaled_X_train=scaler.fit_transform(train_X)\n",
    "\n",
    "test=fs.iloc[27428:]\n",
    "test_Y=test.Target.values\n",
    "test_X=test[feature_name]\n",
    "\n",
    "scaled_X_test=scaler.transform(test_X)\n",
    "\n",
    "table_80_50_train=pd.DataFrame(columns=['accuracy','TP','TN','FP','FN','FPR','FNR'])\n",
    "table_80_50_test=pd.DataFrame(columns=['accuracy','TP','TN','FP','FN','FPR','FNR','auc','MCC','Precision','Recall'])\n",
    "\n",
    "feat_imp=[None]*5\n",
    "j=0\n",
    "for i in range(0,8):\n",
    "    if i>=1 and i<=5:\n",
    "        model,cm_train,cm_test,acc_train,acc_test,roc_auc,feat_imp[j],mcc,prec,rec=f[i](scaled_X_train,train_Y,scaled_X_test,test_Y,feature_name)\n",
    "        j=j+1\n",
    "    else:\n",
    "        model,cm_train,cm_test,acc_train,acc_test,roc_auc,mcc,prec,rec=f[i](scaled_X_train,train_Y,scaled_X_test,test_Y)\n",
    "    table_80_50_train.loc[i]=   ([acc_train,cm_train.TP,cm_train.TN,cm_train.FP,cm_train.FN,cm_train.FPR,cm_train.FNR])\n",
    "    table_80_50_test.loc[i] =   ([acc_test ,cm_test.TP, cm_test.TN, cm_test.FP, cm_test.FN, cm_test.FPR, cm_test.FNR,roc_auc,mcc,prec,rec])\n",
    "    print(\"\\n\")"
   ]
  },
  {
   "cell_type": "markdown",
   "metadata": {},
   "source": [
    "### <a id='4.A' style=\"text-decoration : none; color : #000000;\"> A. Results</a>"
   ]
  },
  {
   "cell_type": "code",
   "execution_count": 26,
   "metadata": {},
   "outputs": [
    {
     "data": {
      "application/vnd.plotly.v1+json": {
       "config": {
        "linkText": "Export to plot.ly",
        "plotlyServerURL": "https://plot.ly",
        "showLink": true
       },
       "data": [
        {
         "mode": "lines",
         "name": "KNN_model",
         "type": "scatter",
         "uid": "80862ac7-f48f-4180-9c0b-aee410b13b9f",
         "x": [
          "accuracy",
          "auc",
          "MCC",
          "Precision",
          "Recall"
         ],
         "y": [
          0.9715865589111017,
          0.9088611789826672,
          0.8545834844205464,
          0.915016501650165,
          0.8276119402985075
         ]
        },
        {
         "mode": "lines+markers",
         "name": "XGB",
         "type": "scatter",
         "uid": "7192b66d-bff0-42ee-9ece-6fba55d4590e",
         "x": [
          "accuracy",
          "auc",
          "MCC",
          "Precision",
          "Recall"
         ],
         "y": [
          0.9749042960442365,
          0.9139847450218901,
          0.8713709287400461,
          0.9379715004191115,
          0.8350746268656717
         ]
        },
        {
         "marker": {
          "symbol": "x"
         },
         "mode": "lines+markers",
         "name": "Random Forest",
         "type": "scatter",
         "uid": "1009bac2-2b35-4699-a86a-b50db1ba8bc0",
         "x": [
          "accuracy",
          "auc",
          "MCC",
          "Precision",
          "Recall"
         ],
         "y": [
          0.9762654189706508,
          0.9209302742170091,
          0.8788479617866144,
          0.9366255144032922,
          0.8492537313432836
         ]
        },
        {
         "mode": "lines",
         "name": "Ada Boost",
         "type": "scatter",
         "uid": "496d75f3-9e3e-4426-bc97-ca826479a37f",
         "x": [
          "accuracy",
          "auc",
          "MCC",
          "Precision",
          "Recall"
         ],
         "y": [
          0.9711612079965972,
          0.9131729136363311,
          0.853410223082301,
          0.9020080321285141,
          0.8380597014925373
         ]
        },
        {
         "mode": "lines+markers",
         "name": "GradientBoosting",
         "type": "scatter",
         "uid": "2aa55431-d20c-4749-9fd0-30c56d54114b",
         "x": [
          "accuracy",
          "auc",
          "MCC",
          "Precision",
          "Recall"
         ],
         "y": [
          0.9759251382390473,
          0.9158613437851549,
          0.8766260136493829,
          0.9444911690496215,
          0.8380597014925373
         ]
        },
        {
         "marker": {
          "symbol": "x"
         },
         "mode": "lines+markers",
         "name": "ExtraTree Classifier",
         "type": "scatter",
         "uid": "72c2423b-36a8-4acf-88de-8c582d670140",
         "x": [
          "accuracy",
          "auc",
          "MCC",
          "Precision",
          "Recall"
         ],
         "y": [
          0.9755848575074436,
          0.9208713394143063,
          0.8755463746979388,
          0.929795918367347,
          0.85
         ]
        },
        {
         "marker": {
          "symbol": "x"
         },
         "mode": "lines+markers",
         "name": "Bagging",
         "type": "scatter",
         "uid": "0ea47f56-0283-449d-b88f-1d97d82f0025",
         "x": [
          "accuracy",
          "auc",
          "MCC",
          "Precision",
          "Recall"
         ],
         "y": [
          0.9762654189706508,
          0.9264574272182058,
          0.8796052181369216,
          0.9247397918334668,
          0.8619402985074627
         ]
        },
        {
         "marker": {
          "symbol": "x"
         },
         "mode": "lines+markers",
         "name": "Neural Network",
         "type": "scatter",
         "uid": "01755373-a232-48f3-a2db-5adabd019fb6",
         "x": [
          "accuracy",
          "auc",
          "MCC",
          "Precision",
          "Recall"
         ],
         "y": [
          0.9741386643981285,
          0.9264574272182058,
          0.868604782429805,
          0.9163987138263665,
          0.8507462686567164
         ]
        }
       ],
       "layout": {
        "title": "Result comparision for Features selected in Section 1",
        "yaxis": {
         "dtick": 0.05,
         "tick0": 0
        }
       }
      },
      "text/html": [
       "<div id=\"0ce3158a-f6d3-4f47-a9cb-eef74cff5e38\" style=\"height: 525px; width: 100%;\" class=\"plotly-graph-div\"></div><script type=\"text/javascript\">require([\"plotly\"], function(Plotly) { window.PLOTLYENV=window.PLOTLYENV || {};window.PLOTLYENV.BASE_URL=\"https://plot.ly\";Plotly.newPlot(\"0ce3158a-f6d3-4f47-a9cb-eef74cff5e38\", [{\"mode\": \"lines\", \"name\": \"KNN_model\", \"x\": [\"accuracy\", \"auc\", \"MCC\", \"Precision\", \"Recall\"], \"y\": [0.9715865589111017, 0.9088611789826672, 0.8545834844205464, 0.915016501650165, 0.8276119402985075], \"type\": \"scatter\", \"uid\": \"80862ac7-f48f-4180-9c0b-aee410b13b9f\"}, {\"mode\": \"lines+markers\", \"name\": \"XGB\", \"x\": [\"accuracy\", \"auc\", \"MCC\", \"Precision\", \"Recall\"], \"y\": [0.9749042960442365, 0.9139847450218901, 0.8713709287400461, 0.9379715004191115, 0.8350746268656717], \"type\": \"scatter\", \"uid\": \"7192b66d-bff0-42ee-9ece-6fba55d4590e\"}, {\"marker\": {\"symbol\": \"x\"}, \"mode\": \"lines+markers\", \"name\": \"Random Forest\", \"x\": [\"accuracy\", \"auc\", \"MCC\", \"Precision\", \"Recall\"], \"y\": [0.9762654189706508, 0.9209302742170091, 0.8788479617866144, 0.9366255144032922, 0.8492537313432836], \"type\": \"scatter\", \"uid\": \"1009bac2-2b35-4699-a86a-b50db1ba8bc0\"}, {\"mode\": \"lines\", \"name\": \"Ada Boost\", \"x\": [\"accuracy\", \"auc\", \"MCC\", \"Precision\", \"Recall\"], \"y\": [0.9711612079965972, 0.9131729136363311, 0.853410223082301, 0.9020080321285141, 0.8380597014925373], \"type\": \"scatter\", \"uid\": \"496d75f3-9e3e-4426-bc97-ca826479a37f\"}, {\"mode\": \"lines+markers\", \"name\": \"GradientBoosting\", \"x\": [\"accuracy\", \"auc\", \"MCC\", \"Precision\", \"Recall\"], \"y\": [0.9759251382390473, 0.9158613437851549, 0.8766260136493829, 0.9444911690496215, 0.8380597014925373], \"type\": \"scatter\", \"uid\": \"2aa55431-d20c-4749-9fd0-30c56d54114b\"}, {\"marker\": {\"symbol\": \"x\"}, \"mode\": \"lines+markers\", \"name\": \"ExtraTree Classifier\", \"x\": [\"accuracy\", \"auc\", \"MCC\", \"Precision\", \"Recall\"], \"y\": [0.9755848575074436, 0.9208713394143063, 0.8755463746979388, 0.929795918367347, 0.85], \"type\": \"scatter\", \"uid\": \"72c2423b-36a8-4acf-88de-8c582d670140\"}, {\"marker\": {\"symbol\": \"x\"}, \"mode\": \"lines+markers\", \"name\": \"Bagging\", \"x\": [\"accuracy\", \"auc\", \"MCC\", \"Precision\", \"Recall\"], \"y\": [0.9762654189706508, 0.9264574272182058, 0.8796052181369216, 0.9247397918334668, 0.8619402985074627], \"type\": \"scatter\", \"uid\": \"0ea47f56-0283-449d-b88f-1d97d82f0025\"}, {\"marker\": {\"symbol\": \"x\"}, \"mode\": \"lines+markers\", \"name\": \"Neural Network\", \"x\": [\"accuracy\", \"auc\", \"MCC\", \"Precision\", \"Recall\"], \"y\": [0.9741386643981285, 0.9264574272182058, 0.868604782429805, 0.9163987138263665, 0.8507462686567164], \"type\": \"scatter\", \"uid\": \"01755373-a232-48f3-a2db-5adabd019fb6\"}], {\"title\": \"Result comparision for Features selected in Section 1\", \"yaxis\": {\"dtick\": 0.05, \"tick0\": 0}}, {\"showLink\": true, \"linkText\": \"Export to plot.ly\", \"plotlyServerURL\": \"https://plot.ly\"})});</script><script type=\"text/javascript\">window.addEventListener(\"resize\", function(){window._Plotly.Plots.resize(document.getElementById(\"0ce3158a-f6d3-4f47-a9cb-eef74cff5e38\"));});</script>"
      ],
      "text/vnd.plotly.v1+html": [
       "<div id=\"0ce3158a-f6d3-4f47-a9cb-eef74cff5e38\" style=\"height: 525px; width: 100%;\" class=\"plotly-graph-div\"></div><script type=\"text/javascript\">require([\"plotly\"], function(Plotly) { window.PLOTLYENV=window.PLOTLYENV || {};window.PLOTLYENV.BASE_URL=\"https://plot.ly\";Plotly.newPlot(\"0ce3158a-f6d3-4f47-a9cb-eef74cff5e38\", [{\"mode\": \"lines\", \"name\": \"KNN_model\", \"x\": [\"accuracy\", \"auc\", \"MCC\", \"Precision\", \"Recall\"], \"y\": [0.9715865589111017, 0.9088611789826672, 0.8545834844205464, 0.915016501650165, 0.8276119402985075], \"type\": \"scatter\", \"uid\": \"80862ac7-f48f-4180-9c0b-aee410b13b9f\"}, {\"mode\": \"lines+markers\", \"name\": \"XGB\", \"x\": [\"accuracy\", \"auc\", \"MCC\", \"Precision\", \"Recall\"], \"y\": [0.9749042960442365, 0.9139847450218901, 0.8713709287400461, 0.9379715004191115, 0.8350746268656717], \"type\": \"scatter\", \"uid\": \"7192b66d-bff0-42ee-9ece-6fba55d4590e\"}, {\"marker\": {\"symbol\": \"x\"}, \"mode\": \"lines+markers\", \"name\": \"Random Forest\", \"x\": [\"accuracy\", \"auc\", \"MCC\", \"Precision\", \"Recall\"], \"y\": [0.9762654189706508, 0.9209302742170091, 0.8788479617866144, 0.9366255144032922, 0.8492537313432836], \"type\": \"scatter\", \"uid\": \"1009bac2-2b35-4699-a86a-b50db1ba8bc0\"}, {\"mode\": \"lines\", \"name\": \"Ada Boost\", \"x\": [\"accuracy\", \"auc\", \"MCC\", \"Precision\", \"Recall\"], \"y\": [0.9711612079965972, 0.9131729136363311, 0.853410223082301, 0.9020080321285141, 0.8380597014925373], \"type\": \"scatter\", \"uid\": \"496d75f3-9e3e-4426-bc97-ca826479a37f\"}, {\"mode\": \"lines+markers\", \"name\": \"GradientBoosting\", \"x\": [\"accuracy\", \"auc\", \"MCC\", \"Precision\", \"Recall\"], \"y\": [0.9759251382390473, 0.9158613437851549, 0.8766260136493829, 0.9444911690496215, 0.8380597014925373], \"type\": \"scatter\", \"uid\": \"2aa55431-d20c-4749-9fd0-30c56d54114b\"}, {\"marker\": {\"symbol\": \"x\"}, \"mode\": \"lines+markers\", \"name\": \"ExtraTree Classifier\", \"x\": [\"accuracy\", \"auc\", \"MCC\", \"Precision\", \"Recall\"], \"y\": [0.9755848575074436, 0.9208713394143063, 0.8755463746979388, 0.929795918367347, 0.85], \"type\": \"scatter\", \"uid\": \"72c2423b-36a8-4acf-88de-8c582d670140\"}, {\"marker\": {\"symbol\": \"x\"}, \"mode\": \"lines+markers\", \"name\": \"Bagging\", \"x\": [\"accuracy\", \"auc\", \"MCC\", \"Precision\", \"Recall\"], \"y\": [0.9762654189706508, 0.9264574272182058, 0.8796052181369216, 0.9247397918334668, 0.8619402985074627], \"type\": \"scatter\", \"uid\": \"0ea47f56-0283-449d-b88f-1d97d82f0025\"}, {\"marker\": {\"symbol\": \"x\"}, \"mode\": \"lines+markers\", \"name\": \"Neural Network\", \"x\": [\"accuracy\", \"auc\", \"MCC\", \"Precision\", \"Recall\"], \"y\": [0.9741386643981285, 0.9264574272182058, 0.868604782429805, 0.9163987138263665, 0.8507462686567164], \"type\": \"scatter\", \"uid\": \"01755373-a232-48f3-a2db-5adabd019fb6\"}], {\"title\": \"Result comparision for Features selected in Section 1\", \"yaxis\": {\"dtick\": 0.05, \"tick0\": 0}}, {\"showLink\": true, \"linkText\": \"Export to plot.ly\", \"plotlyServerURL\": \"https://plot.ly\"})});</script><script type=\"text/javascript\">window.addEventListener(\"resize\", function(){window._Plotly.Plots.resize(document.getElementById(\"0ce3158a-f6d3-4f47-a9cb-eef74cff5e38\"));});</script>"
      ]
     },
     "metadata": {},
     "output_type": "display_data"
    }
   ],
   "source": [
    "trace0 = go.Scatter(x=table_80_50_test.iloc[0].index.values[[0,7,8,9,10]],\n",
    "                    y=table_80_50_test.iloc[0].values[[0,7,8,9,10]],\n",
    "                    mode = 'lines',\n",
    "                    name = 'KNN_model')\n",
    "\n",
    "\n",
    "trace2 = go.Scatter(x=table_80_50_test.iloc[1].index.values[[0,7,8,9,10]],\n",
    "                    y=table_80_50_test.iloc[1].values[[0,7,8,9,10]],\n",
    "                    mode = 'lines+markers',marker=dict(symbol='x'),\n",
    "                    name = 'Random Forest')\n",
    "\n",
    "\n",
    "trace3 = go.Scatter(x=table_80_50_test.iloc[2].index.values[[0,7,8,9,10]],\n",
    "                    y=table_80_50_test.iloc[2].values[[0,7,8,9,10]],\n",
    "                    mode = 'lines',\n",
    "                    name = 'Ada Boost')\n",
    "\n",
    "trace4 = go.Scatter(x=table_80_50_test.iloc[3].index.values[[0,7,8,9,10]],\n",
    "                    y=table_80_50_test.iloc[3].values[[0,7,8,9,10]],\n",
    "                    mode = 'lines+markers',\n",
    "                    name = 'GradientBoosting')\n",
    "\n",
    "trace5 = go.Scatter(x=table_80_50_test.iloc[4].index.values[[0,7,8,9,10]],\n",
    "                    y=table_80_50_test.iloc[4].values[[0,7,8,9,10]],\n",
    "                    mode = 'lines+markers',marker=dict(symbol='x'),\n",
    "                    name = 'ExtraTree Classifier')\n",
    "\n",
    "\n",
    "trace1 = go.Scatter(x=table_80_50_test.iloc[5].index.values[[0,7,8,9,10]],\n",
    "                    y=table_80_50_test.iloc[5].values[[0,7,8,9,10]],\n",
    "                    mode = 'lines+markers',\n",
    "                    name = 'XGB')\n",
    "\n",
    "\n",
    "trace6 = go.Scatter(x=table_80_50_test.iloc[6].index.values[[0,7,8,9,10]],\n",
    "                    y=table_80_50_test.iloc[6].values[[0,7,8,9,10]],\n",
    "                    mode = 'lines+markers',marker=dict(symbol='x'),\n",
    "                    name = 'Bagging')\n",
    "\n",
    "trace7 = go.Scatter(x=table_80_50_test.iloc[7].index.values[[0,7,8,9,10]],\n",
    "                    y=table_80_50_test.iloc[7].values[[0,7,8,9,10]],\n",
    "                    mode = 'lines+markers',marker=dict(symbol='x'),\n",
    "                    name = 'Neural Network')\n",
    "\n",
    "\n",
    "\n",
    "data = [trace0, trace1, trace2, trace3, trace4, trace5, trace6, trace7]\n",
    "layout = go.Layout(yaxis=dict(tick0=0,dtick=0.05),title='Result comparision for Features selected in Section 1')\n",
    "fig = go.Figure(data=data, layout=layout)\n",
    "\n",
    "iplot(fig, filename='Result')"
   ]
  },
  {
   "cell_type": "code",
   "execution_count": 27,
   "metadata": {},
   "outputs": [
    {
     "name": "stdout",
     "output_type": "stream",
     "text": [
      "Training Results\n"
     ]
    },
    {
     "data": {
      "text/html": [
       "<div>\n",
       "<style scoped>\n",
       "    .dataframe tbody tr th:only-of-type {\n",
       "        vertical-align: middle;\n",
       "    }\n",
       "\n",
       "    .dataframe tbody tr th {\n",
       "        vertical-align: top;\n",
       "    }\n",
       "\n",
       "    .dataframe thead th {\n",
       "        text-align: right;\n",
       "    }\n",
       "</style>\n",
       "<table border=\"1\" class=\"dataframe\">\n",
       "  <thead>\n",
       "    <tr style=\"text-align: right;\">\n",
       "      <th></th>\n",
       "      <th>accuracy</th>\n",
       "      <th>TP</th>\n",
       "      <th>TN</th>\n",
       "      <th>FP</th>\n",
       "      <th>FN</th>\n",
       "      <th>FPR</th>\n",
       "      <th>FNR</th>\n",
       "    </tr>\n",
       "    <tr>\n",
       "      <th>index</th>\n",
       "      <th></th>\n",
       "      <th></th>\n",
       "      <th></th>\n",
       "      <th></th>\n",
       "      <th></th>\n",
       "      <th></th>\n",
       "      <th></th>\n",
       "    </tr>\n",
       "  </thead>\n",
       "  <tbody>\n",
       "    <tr>\n",
       "      <th>KNeighborsClassifier</th>\n",
       "      <td>0.979255</td>\n",
       "      <td>2696.0</td>\n",
       "      <td>24163.0</td>\n",
       "      <td>164.0</td>\n",
       "      <td>405.0</td>\n",
       "      <td>0.006741</td>\n",
       "      <td>0.130603</td>\n",
       "    </tr>\n",
       "    <tr>\n",
       "      <th>RandomForestClassifier</th>\n",
       "      <td>0.995187</td>\n",
       "      <td>2997.0</td>\n",
       "      <td>24299.0</td>\n",
       "      <td>28.0</td>\n",
       "      <td>104.0</td>\n",
       "      <td>0.001151</td>\n",
       "      <td>0.033538</td>\n",
       "    </tr>\n",
       "    <tr>\n",
       "      <th>AdaBoostClassifier</th>\n",
       "      <td>0.975317</td>\n",
       "      <td>2652.0</td>\n",
       "      <td>24099.0</td>\n",
       "      <td>228.0</td>\n",
       "      <td>449.0</td>\n",
       "      <td>0.009372</td>\n",
       "      <td>0.144792</td>\n",
       "    </tr>\n",
       "    <tr>\n",
       "      <th>GradientBoostingClassifier</th>\n",
       "      <td>0.980859</td>\n",
       "      <td>2708.0</td>\n",
       "      <td>24195.0</td>\n",
       "      <td>132.0</td>\n",
       "      <td>393.0</td>\n",
       "      <td>0.005426</td>\n",
       "      <td>0.126733</td>\n",
       "    </tr>\n",
       "    <tr>\n",
       "      <th>ExtraTreeClassifier</th>\n",
       "      <td>0.997302</td>\n",
       "      <td>3035.0</td>\n",
       "      <td>24319.0</td>\n",
       "      <td>8.0</td>\n",
       "      <td>66.0</td>\n",
       "      <td>0.000329</td>\n",
       "      <td>0.021283</td>\n",
       "    </tr>\n",
       "    <tr>\n",
       "      <th>XGB</th>\n",
       "      <td>0.979947</td>\n",
       "      <td>2677.0</td>\n",
       "      <td>24201.0</td>\n",
       "      <td>126.0</td>\n",
       "      <td>424.0</td>\n",
       "      <td>0.005179</td>\n",
       "      <td>0.136730</td>\n",
       "    </tr>\n",
       "    <tr>\n",
       "      <th>BaggingClassifier</th>\n",
       "      <td>0.995260</td>\n",
       "      <td>3005.0</td>\n",
       "      <td>24293.0</td>\n",
       "      <td>34.0</td>\n",
       "      <td>96.0</td>\n",
       "      <td>0.001398</td>\n",
       "      <td>0.030958</td>\n",
       "    </tr>\n",
       "    <tr>\n",
       "      <th>Neural Network-1</th>\n",
       "      <td>0.988953</td>\n",
       "      <td>2836.0</td>\n",
       "      <td>24289.0</td>\n",
       "      <td>38.0</td>\n",
       "      <td>265.0</td>\n",
       "      <td>0.001562</td>\n",
       "      <td>0.085456</td>\n",
       "    </tr>\n",
       "  </tbody>\n",
       "</table>\n",
       "</div>"
      ],
      "text/plain": [
       "                            accuracy      TP       TN     FP     FN       FPR  \\\n",
       "index                                                                           \n",
       "KNeighborsClassifier        0.979255  2696.0  24163.0  164.0  405.0  0.006741   \n",
       "RandomForestClassifier      0.995187  2997.0  24299.0   28.0  104.0  0.001151   \n",
       "AdaBoostClassifier          0.975317  2652.0  24099.0  228.0  449.0  0.009372   \n",
       "GradientBoostingClassifier  0.980859  2708.0  24195.0  132.0  393.0  0.005426   \n",
       "ExtraTreeClassifier         0.997302  3035.0  24319.0    8.0   66.0  0.000329   \n",
       "XGB                         0.979947  2677.0  24201.0  126.0  424.0  0.005179   \n",
       "BaggingClassifier           0.995260  3005.0  24293.0   34.0   96.0  0.001398   \n",
       "Neural Network-1            0.988953  2836.0  24289.0   38.0  265.0  0.001562   \n",
       "\n",
       "                                 FNR  \n",
       "index                                 \n",
       "KNeighborsClassifier        0.130603  \n",
       "RandomForestClassifier      0.033538  \n",
       "AdaBoostClassifier          0.144792  \n",
       "GradientBoostingClassifier  0.126733  \n",
       "ExtraTreeClassifier         0.021283  \n",
       "XGB                         0.136730  \n",
       "BaggingClassifier           0.030958  \n",
       "Neural Network-1            0.085456  "
      ]
     },
     "metadata": {},
     "output_type": "display_data"
    },
    {
     "name": "stdout",
     "output_type": "stream",
     "text": [
      "Test Results\n"
     ]
    },
    {
     "data": {
      "text/html": [
       "<div>\n",
       "<style scoped>\n",
       "    .dataframe tbody tr th:only-of-type {\n",
       "        vertical-align: middle;\n",
       "    }\n",
       "\n",
       "    .dataframe tbody tr th {\n",
       "        vertical-align: top;\n",
       "    }\n",
       "\n",
       "    .dataframe thead th {\n",
       "        text-align: right;\n",
       "    }\n",
       "</style>\n",
       "<table border=\"1\" class=\"dataframe\">\n",
       "  <thead>\n",
       "    <tr style=\"text-align: right;\">\n",
       "      <th></th>\n",
       "      <th>accuracy</th>\n",
       "      <th>TP</th>\n",
       "      <th>TN</th>\n",
       "      <th>FP</th>\n",
       "      <th>FN</th>\n",
       "      <th>FPR</th>\n",
       "      <th>FNR</th>\n",
       "      <th>auc</th>\n",
       "      <th>MCC</th>\n",
       "      <th>Precision</th>\n",
       "      <th>Recall</th>\n",
       "    </tr>\n",
       "    <tr>\n",
       "      <th>index</th>\n",
       "      <th></th>\n",
       "      <th></th>\n",
       "      <th></th>\n",
       "      <th></th>\n",
       "      <th></th>\n",
       "      <th></th>\n",
       "      <th></th>\n",
       "      <th></th>\n",
       "      <th></th>\n",
       "      <th></th>\n",
       "      <th></th>\n",
       "    </tr>\n",
       "  </thead>\n",
       "  <tbody>\n",
       "    <tr>\n",
       "      <th>KNeighborsClassifier</th>\n",
       "      <td>0.971587</td>\n",
       "      <td>1109.0</td>\n",
       "      <td>10312.0</td>\n",
       "      <td>103.0</td>\n",
       "      <td>231.0</td>\n",
       "      <td>0.009890</td>\n",
       "      <td>0.172388</td>\n",
       "      <td>0.908861</td>\n",
       "      <td>0.854583</td>\n",
       "      <td>0.915017</td>\n",
       "      <td>0.827612</td>\n",
       "    </tr>\n",
       "    <tr>\n",
       "      <th>RandomForestClassifier</th>\n",
       "      <td>0.976265</td>\n",
       "      <td>1138.0</td>\n",
       "      <td>10338.0</td>\n",
       "      <td>77.0</td>\n",
       "      <td>202.0</td>\n",
       "      <td>0.007393</td>\n",
       "      <td>0.150746</td>\n",
       "      <td>0.920930</td>\n",
       "      <td>0.878848</td>\n",
       "      <td>0.936626</td>\n",
       "      <td>0.849254</td>\n",
       "    </tr>\n",
       "    <tr>\n",
       "      <th>AdaBoostClassifier</th>\n",
       "      <td>0.971161</td>\n",
       "      <td>1123.0</td>\n",
       "      <td>10293.0</td>\n",
       "      <td>122.0</td>\n",
       "      <td>217.0</td>\n",
       "      <td>0.011714</td>\n",
       "      <td>0.161940</td>\n",
       "      <td>0.913173</td>\n",
       "      <td>0.853410</td>\n",
       "      <td>0.902008</td>\n",
       "      <td>0.838060</td>\n",
       "    </tr>\n",
       "    <tr>\n",
       "      <th>GradientBoostingClassifier</th>\n",
       "      <td>0.975925</td>\n",
       "      <td>1123.0</td>\n",
       "      <td>10349.0</td>\n",
       "      <td>66.0</td>\n",
       "      <td>217.0</td>\n",
       "      <td>0.006337</td>\n",
       "      <td>0.161940</td>\n",
       "      <td>0.915861</td>\n",
       "      <td>0.876626</td>\n",
       "      <td>0.944491</td>\n",
       "      <td>0.838060</td>\n",
       "    </tr>\n",
       "    <tr>\n",
       "      <th>ExtraTreeClassifier</th>\n",
       "      <td>0.975585</td>\n",
       "      <td>1139.0</td>\n",
       "      <td>10329.0</td>\n",
       "      <td>86.0</td>\n",
       "      <td>201.0</td>\n",
       "      <td>0.008257</td>\n",
       "      <td>0.150000</td>\n",
       "      <td>0.920871</td>\n",
       "      <td>0.875546</td>\n",
       "      <td>0.929796</td>\n",
       "      <td>0.850000</td>\n",
       "    </tr>\n",
       "    <tr>\n",
       "      <th>XGB</th>\n",
       "      <td>0.974904</td>\n",
       "      <td>1119.0</td>\n",
       "      <td>10341.0</td>\n",
       "      <td>74.0</td>\n",
       "      <td>221.0</td>\n",
       "      <td>0.007105</td>\n",
       "      <td>0.164925</td>\n",
       "      <td>0.913985</td>\n",
       "      <td>0.871371</td>\n",
       "      <td>0.937972</td>\n",
       "      <td>0.835075</td>\n",
       "    </tr>\n",
       "    <tr>\n",
       "      <th>BaggingClassifier</th>\n",
       "      <td>0.976265</td>\n",
       "      <td>1155.0</td>\n",
       "      <td>10321.0</td>\n",
       "      <td>94.0</td>\n",
       "      <td>185.0</td>\n",
       "      <td>0.009025</td>\n",
       "      <td>0.138060</td>\n",
       "      <td>0.926457</td>\n",
       "      <td>0.879605</td>\n",
       "      <td>0.924740</td>\n",
       "      <td>0.861940</td>\n",
       "    </tr>\n",
       "    <tr>\n",
       "      <th>Neural Network-1</th>\n",
       "      <td>0.974139</td>\n",
       "      <td>1140.0</td>\n",
       "      <td>10311.0</td>\n",
       "      <td>104.0</td>\n",
       "      <td>200.0</td>\n",
       "      <td>0.009986</td>\n",
       "      <td>0.149254</td>\n",
       "      <td>0.926457</td>\n",
       "      <td>0.868605</td>\n",
       "      <td>0.916399</td>\n",
       "      <td>0.850746</td>\n",
       "    </tr>\n",
       "  </tbody>\n",
       "</table>\n",
       "</div>"
      ],
      "text/plain": [
       "                            accuracy      TP       TN     FP     FN       FPR  \\\n",
       "index                                                                           \n",
       "KNeighborsClassifier        0.971587  1109.0  10312.0  103.0  231.0  0.009890   \n",
       "RandomForestClassifier      0.976265  1138.0  10338.0   77.0  202.0  0.007393   \n",
       "AdaBoostClassifier          0.971161  1123.0  10293.0  122.0  217.0  0.011714   \n",
       "GradientBoostingClassifier  0.975925  1123.0  10349.0   66.0  217.0  0.006337   \n",
       "ExtraTreeClassifier         0.975585  1139.0  10329.0   86.0  201.0  0.008257   \n",
       "XGB                         0.974904  1119.0  10341.0   74.0  221.0  0.007105   \n",
       "BaggingClassifier           0.976265  1155.0  10321.0   94.0  185.0  0.009025   \n",
       "Neural Network-1            0.974139  1140.0  10311.0  104.0  200.0  0.009986   \n",
       "\n",
       "                                 FNR       auc       MCC  Precision    Recall  \n",
       "index                                                                          \n",
       "KNeighborsClassifier        0.172388  0.908861  0.854583   0.915017  0.827612  \n",
       "RandomForestClassifier      0.150746  0.920930  0.878848   0.936626  0.849254  \n",
       "AdaBoostClassifier          0.161940  0.913173  0.853410   0.902008  0.838060  \n",
       "GradientBoostingClassifier  0.161940  0.915861  0.876626   0.944491  0.838060  \n",
       "ExtraTreeClassifier         0.150000  0.920871  0.875546   0.929796  0.850000  \n",
       "XGB                         0.164925  0.913985  0.871371   0.937972  0.835075  \n",
       "BaggingClassifier           0.138060  0.926457  0.879605   0.924740  0.861940  \n",
       "Neural Network-1            0.149254  0.926457  0.868605   0.916399  0.850746  "
      ]
     },
     "metadata": {},
     "output_type": "display_data"
    }
   ],
   "source": [
    "table_80_50_train['index']=ind_columns\n",
    "table_80_50_test['index']=ind_columns\n",
    "\n",
    "\n",
    "table_80_50_test.set_index(['index'],drop=True,inplace=True)\n",
    "table_80_50_train.set_index(['index'],drop=True,inplace=True)\n",
    "\n",
    "print(\"Training Results\")\n",
    "display(table_80_50_train)\n",
    "print(\"Test Results\")\n",
    "display(table_80_50_test)"
   ]
  },
  {
   "cell_type": "markdown",
   "metadata": {},
   "source": [
    "### <a id='4.B' style=\"text-decoration : none; color : #000000;\"> B. Average Feature Importances</a>"
   ]
  },
  {
   "cell_type": "code",
   "execution_count": 28,
   "metadata": {},
   "outputs": [
    {
     "data": {
      "application/vnd.plotly.v1+json": {
       "config": {
        "linkText": "Export to plot.ly",
        "plotlyServerURL": "https://plot.ly",
        "showLink": true
       },
       "data": [
        {
         "marker": {
          "color": "rgb(158,202,225)",
          "line": {
           "color": "rgb(8,48,107)",
           "width": 1.5
          }
         },
         "opacity": 0.6,
         "orientation": "h",
         "text": [
          0.2321,
          0.0816,
          0.0689,
          0.0503,
          0.0473,
          0.0408,
          0.0393,
          0.0354,
          0.0325,
          0.0315,
          0.0311,
          0.0275,
          0.0267,
          0.0245,
          0.0215,
          0.0171,
          0.0159,
          0.0155,
          0.0153,
          0.0149,
          0.0133,
          0.0109,
          0.0109,
          0.0109,
          0.0101,
          0.0099,
          0.0095,
          0.0092,
          0.0082,
          0.0077,
          0.0075,
          0.0043,
          0.0041,
          0.004,
          0.0039,
          0.0031,
          0.0028
         ],
         "textposition": "outside",
         "type": "bar",
         "uid": "b9c4ced8-bf7f-4e1a-a194-3683445c1092",
         "x": [
          0.23210328043246847,
          0.08155327895791951,
          0.06893573205819492,
          0.050281799932358706,
          0.04733011783584974,
          0.040817440060996836,
          0.039298859680883605,
          0.03541566507149001,
          0.0324598376343998,
          0.0314797961220134,
          0.031066385319729977,
          0.02750988771224618,
          0.02671237709198619,
          0.024451880138164746,
          0.021540603302758365,
          0.01707286734888105,
          0.01588725373174365,
          0.015473224483571668,
          0.015340171178885354,
          0.014851409019945847,
          0.013325470948131168,
          0.010948197185853265,
          0.01092860254139898,
          0.0109085993837826,
          0.01011221893541198,
          0.009883939892694104,
          0.009450801152470536,
          0.009220034601819898,
          0.008220881229985422,
          0.0077132650583863595,
          0.007484641282835569,
          0.004296596317979945,
          0.004135346118405543,
          0.0040451258387337475,
          0.0038686791154100924,
          0.0030683089558787187,
          0.002807423208747021
         ],
         "y": [
          "url_length / total_count",
          "url_extensions / total_count",
          "url_char_. / total_count",
          "a_href_out_of_domain / total_href",
          "url_char_i / total_count",
          "url_char_. + url_extensions",
          "http_header_content-encoding_gzip / url_char_.",
          "a_href_relative / total_href",
          "url_char_w + url_char_z",
          "url_char_z / total_count",
          "url_char_. + url_char_w",
          "http_header_server_apache / total_count",
          "a_href_https / a_count",
          "url_char_w * url_length",
          "http_header_server_apache + url_extensions",
          "url_char_l / total_count",
          "url_char_p + url_extensions",
          "url_char_.",
          "http_header_vary_user-agent + url_char_.",
          "url_char_. + url_char_y",
          "http_header_server_apache + url_char_w",
          "url_char_w + url_extensions",
          "url_extensions",
          "a_href_relative / a_count",
          "url_char_f + url_extensions",
          "url_char_f / total_count",
          "url_char_. * url_char_w",
          "url_char_. + url_char_z",
          "url_extensions / url_char_z",
          "url_char_p / total_count",
          "url_char_y * url_extensions",
          "http_header_via_1.1 + url_extensions",
          "url_char_w / total_count",
          "url_char_f + url_char_w",
          "url_char_w * url_extensions",
          "http_header_vary_user-agent + url_extensions",
          "url_char_w"
         ]
        }
       ],
       "layout": {
        "autosize": false,
        "height": 1000,
        "width": 1000,
        "xaxis": {
         "tickfont": {
          "color": "black",
          "size": 12
         },
         "title": "Feature Importances"
        },
        "yaxis": {
         "automargin": true
        }
       }
      },
      "text/html": [
       "<div id=\"b3d29259-7cb8-4c91-8a56-8b5d2b9f0976\" style=\"height: 1000px; width: 1000px;\" class=\"plotly-graph-div\"></div><script type=\"text/javascript\">require([\"plotly\"], function(Plotly) { window.PLOTLYENV=window.PLOTLYENV || {};window.PLOTLYENV.BASE_URL=\"https://plot.ly\";Plotly.newPlot(\"b3d29259-7cb8-4c91-8a56-8b5d2b9f0976\", [{\"marker\": {\"color\": \"rgb(158,202,225)\", \"line\": {\"color\": \"rgb(8,48,107)\", \"width\": 1.5}}, \"opacity\": 0.6, \"orientation\": \"h\", \"text\": [0.2321, 0.0816, 0.0689, 0.0503, 0.0473, 0.0408, 0.0393, 0.0354, 0.0325, 0.0315, 0.0311, 0.0275, 0.0267, 0.0245, 0.0215, 0.0171, 0.0159, 0.0155, 0.0153, 0.0149, 0.0133, 0.0109, 0.0109, 0.0109, 0.0101, 0.0099, 0.0095, 0.0092, 0.0082, 0.0077, 0.0075, 0.0043, 0.0041, 0.004, 0.0039, 0.0031, 0.0028], \"textposition\": \"outside\", \"x\": [0.23210328043246847, 0.08155327895791951, 0.06893573205819492, 0.050281799932358706, 0.04733011783584974, 0.040817440060996836, 0.039298859680883605, 0.03541566507149001, 0.0324598376343998, 0.0314797961220134, 0.031066385319729977, 0.02750988771224618, 0.02671237709198619, 0.024451880138164746, 0.021540603302758365, 0.01707286734888105, 0.01588725373174365, 0.015473224483571668, 0.015340171178885354, 0.014851409019945847, 0.013325470948131168, 0.010948197185853265, 0.01092860254139898, 0.0109085993837826, 0.01011221893541198, 0.009883939892694104, 0.009450801152470536, 0.009220034601819898, 0.008220881229985422, 0.0077132650583863595, 0.007484641282835569, 0.004296596317979945, 0.004135346118405543, 0.0040451258387337475, 0.0038686791154100924, 0.0030683089558787187, 0.002807423208747021], \"y\": [\"url_length / total_count\", \"url_extensions / total_count\", \"url_char_. / total_count\", \"a_href_out_of_domain / total_href\", \"url_char_i / total_count\", \"url_char_. + url_extensions\", \"http_header_content-encoding_gzip / url_char_.\", \"a_href_relative / total_href\", \"url_char_w + url_char_z\", \"url_char_z / total_count\", \"url_char_. + url_char_w\", \"http_header_server_apache / total_count\", \"a_href_https / a_count\", \"url_char_w * url_length\", \"http_header_server_apache + url_extensions\", \"url_char_l / total_count\", \"url_char_p + url_extensions\", \"url_char_.\", \"http_header_vary_user-agent + url_char_.\", \"url_char_. + url_char_y\", \"http_header_server_apache + url_char_w\", \"url_char_w + url_extensions\", \"url_extensions\", \"a_href_relative / a_count\", \"url_char_f + url_extensions\", \"url_char_f / total_count\", \"url_char_. * url_char_w\", \"url_char_. + url_char_z\", \"url_extensions / url_char_z\", \"url_char_p / total_count\", \"url_char_y * url_extensions\", \"http_header_via_1.1 + url_extensions\", \"url_char_w / total_count\", \"url_char_f + url_char_w\", \"url_char_w * url_extensions\", \"http_header_vary_user-agent + url_extensions\", \"url_char_w\"], \"type\": \"bar\", \"uid\": \"b9c4ced8-bf7f-4e1a-a194-3683445c1092\"}], {\"autosize\": false, \"height\": 1000, \"width\": 1000, \"xaxis\": {\"tickfont\": {\"color\": \"black\", \"size\": 12}, \"title\": \"Feature Importances\"}, \"yaxis\": {\"automargin\": true}}, {\"showLink\": true, \"linkText\": \"Export to plot.ly\", \"plotlyServerURL\": \"https://plot.ly\"})});</script>"
      ],
      "text/vnd.plotly.v1+html": [
       "<div id=\"b3d29259-7cb8-4c91-8a56-8b5d2b9f0976\" style=\"height: 1000px; width: 1000px;\" class=\"plotly-graph-div\"></div><script type=\"text/javascript\">require([\"plotly\"], function(Plotly) { window.PLOTLYENV=window.PLOTLYENV || {};window.PLOTLYENV.BASE_URL=\"https://plot.ly\";Plotly.newPlot(\"b3d29259-7cb8-4c91-8a56-8b5d2b9f0976\", [{\"marker\": {\"color\": \"rgb(158,202,225)\", \"line\": {\"color\": \"rgb(8,48,107)\", \"width\": 1.5}}, \"opacity\": 0.6, \"orientation\": \"h\", \"text\": [0.2321, 0.0816, 0.0689, 0.0503, 0.0473, 0.0408, 0.0393, 0.0354, 0.0325, 0.0315, 0.0311, 0.0275, 0.0267, 0.0245, 0.0215, 0.0171, 0.0159, 0.0155, 0.0153, 0.0149, 0.0133, 0.0109, 0.0109, 0.0109, 0.0101, 0.0099, 0.0095, 0.0092, 0.0082, 0.0077, 0.0075, 0.0043, 0.0041, 0.004, 0.0039, 0.0031, 0.0028], \"textposition\": \"outside\", \"x\": [0.23210328043246847, 0.08155327895791951, 0.06893573205819492, 0.050281799932358706, 0.04733011783584974, 0.040817440060996836, 0.039298859680883605, 0.03541566507149001, 0.0324598376343998, 0.0314797961220134, 0.031066385319729977, 0.02750988771224618, 0.02671237709198619, 0.024451880138164746, 0.021540603302758365, 0.01707286734888105, 0.01588725373174365, 0.015473224483571668, 0.015340171178885354, 0.014851409019945847, 0.013325470948131168, 0.010948197185853265, 0.01092860254139898, 0.0109085993837826, 0.01011221893541198, 0.009883939892694104, 0.009450801152470536, 0.009220034601819898, 0.008220881229985422, 0.0077132650583863595, 0.007484641282835569, 0.004296596317979945, 0.004135346118405543, 0.0040451258387337475, 0.0038686791154100924, 0.0030683089558787187, 0.002807423208747021], \"y\": [\"url_length / total_count\", \"url_extensions / total_count\", \"url_char_. / total_count\", \"a_href_out_of_domain / total_href\", \"url_char_i / total_count\", \"url_char_. + url_extensions\", \"http_header_content-encoding_gzip / url_char_.\", \"a_href_relative / total_href\", \"url_char_w + url_char_z\", \"url_char_z / total_count\", \"url_char_. + url_char_w\", \"http_header_server_apache / total_count\", \"a_href_https / a_count\", \"url_char_w * url_length\", \"http_header_server_apache + url_extensions\", \"url_char_l / total_count\", \"url_char_p + url_extensions\", \"url_char_.\", \"http_header_vary_user-agent + url_char_.\", \"url_char_. + url_char_y\", \"http_header_server_apache + url_char_w\", \"url_char_w + url_extensions\", \"url_extensions\", \"a_href_relative / a_count\", \"url_char_f + url_extensions\", \"url_char_f / total_count\", \"url_char_. * url_char_w\", \"url_char_. + url_char_z\", \"url_extensions / url_char_z\", \"url_char_p / total_count\", \"url_char_y * url_extensions\", \"http_header_via_1.1 + url_extensions\", \"url_char_w / total_count\", \"url_char_f + url_char_w\", \"url_char_w * url_extensions\", \"http_header_vary_user-agent + url_extensions\", \"url_char_w\"], \"type\": \"bar\", \"uid\": \"b9c4ced8-bf7f-4e1a-a194-3683445c1092\"}], {\"autosize\": false, \"height\": 1000, \"width\": 1000, \"xaxis\": {\"tickfont\": {\"color\": \"black\", \"size\": 12}, \"title\": \"Feature Importances\"}, \"yaxis\": {\"automargin\": true}}, {\"showLink\": true, \"linkText\": \"Export to plot.ly\", \"plotlyServerURL\": \"https://plot.ly\"})});</script>"
      ]
     },
     "metadata": {},
     "output_type": "display_data"
    }
   ],
   "source": [
    "feat_impt_plot(np.average(feat_imp,axis=0),feature_name)"
   ]
  },
  {
   "cell_type": "markdown",
   "metadata": {},
   "source": [
    "### <a id='5' style=\"text-decoration : none; color : #000000;\">5. Feature Transformation with PCA </a>"
   ]
  },
  {
   "cell_type": "code",
   "execution_count": 29,
   "metadata": {},
   "outputs": [
    {
     "name": "stderr",
     "output_type": "stream",
     "text": [
      "distributed.core - INFO - Event loop was unresponsive in Nanny for 83.40s.  This is often caused by long-running GIL-holding functions or moving large chunks of data. This can cause timeouts and instability.\n",
      "distributed.core - INFO - Event loop was unresponsive in Nanny for 83.40s.  This is often caused by long-running GIL-holding functions or moving large chunks of data. This can cause timeouts and instability.\n",
      "distributed.core - INFO - Event loop was unresponsive in Nanny for 83.40s.  This is often caused by long-running GIL-holding functions or moving large chunks of data. This can cause timeouts and instability.\n",
      "distributed.core - INFO - Event loop was unresponsive in Nanny for 83.40s.  This is often caused by long-running GIL-holding functions or moving large chunks of data. This can cause timeouts and instability.\n",
      "distributed.core - INFO - Event loop was unresponsive in Nanny for 83.40s.  This is often caused by long-running GIL-holding functions or moving large chunks of data. This can cause timeouts and instability.\n",
      "distributed.core - INFO - Event loop was unresponsive in Nanny for 83.40s.  This is often caused by long-running GIL-holding functions or moving large chunks of data. This can cause timeouts and instability.\n",
      "distributed.core - INFO - Event loop was unresponsive in Nanny for 83.40s.  This is often caused by long-running GIL-holding functions or moving large chunks of data. This can cause timeouts and instability.\n",
      "distributed.core - INFO - Event loop was unresponsive in Nanny for 83.40s.  This is often caused by long-running GIL-holding functions or moving large chunks of data. This can cause timeouts and instability.\n",
      "distributed.core - INFO - Event loop was unresponsive in Nanny for 83.40s.  This is often caused by long-running GIL-holding functions or moving large chunks of data. This can cause timeouts and instability.\n",
      "distributed.core - INFO - Event loop was unresponsive in Nanny for 83.40s.  This is often caused by long-running GIL-holding functions or moving large chunks of data. This can cause timeouts and instability.\n",
      "distributed.core - INFO - Event loop was unresponsive in Nanny for 83.39s.  This is often caused by long-running GIL-holding functions or moving large chunks of data. This can cause timeouts and instability.\n"
     ]
    },
    {
     "data": {
      "image/png": "[encoded data removed]",
      "text/plain": [
       "<Figure size 720x576 with 1 Axes>"
      ]
     },
     "metadata": {},
     "output_type": "display_data"
    }
   ],
   "source": [
    "X=fs.loc[:,fs.columns!='Target']\n",
    "y=fs.Target.values\n",
    "feature_name = X.columns.tolist()\n",
    "X=np.nan_to_num(X)\n",
    "scaler=StandardScaler()\n",
    "scaled_X=scaler.fit_transform(X)\n",
    "\n",
    "sns.set_style('whitegrid')\n",
    "pca = PCA(random_state=0)\n",
    "pca.fit(scaled_X)\n",
    "plt.figure(1, figsize=(10, 8))\n",
    "plt.plot(np.cumsum(pca.explained_variance_ratio_),'--o', linewidth=2)\n",
    "plt.axis('tight')\n",
    "plt.xlabel('Number of Components',size=14)\n",
    "plt.xticks(size=12)\n",
    "plt.xlim([0,200])\n",
    "plt.ylabel('% Explained Variance',size=14)\n",
    "plt.yticks(size=12)\n",
    "plt.title('% Variance Explained by Principal Components',size=14,y=1.05)\n",
    "plt.show()"
   ]
  },
  {
   "cell_type": "code",
   "execution_count": 30,
   "metadata": {},
   "outputs": [
    {
     "name": "stdout",
     "output_type": "stream",
     "text": [
      "Variance explained using 125 components is: 0.7919073266420968\n"
     ]
    }
   ],
   "source": [
    "pca=PCA(n_components=125,whiten=True,random_state=0)\n",
    "X_pca_21=pca.fit_transform(scaled_X)\n",
    "print(\"Variance explained using 125 components is:\",sum(pca.explained_variance_ratio_))"
   ]
  },
  {
   "cell_type": "code",
   "execution_count": 31,
   "metadata": {},
   "outputs": [],
   "source": [
    "X_train=X_pca_21[:27428]\n",
    "Y_train=fs.iloc[:27428]['Target'].values\n",
    "X_test=X_pca_21[27428:]\n",
    "Y_test=fs.iloc[27428:]['Target'].values\n",
    "\n",
    "## Table to store training and test measures so we can compare later\n",
    "table_80_70_train=pd.DataFrame(columns=['accuracy','TP','TN','FP','FN','FPR','FNR'])\n",
    "table_80_70_test=pd.DataFrame(columns=['accuracy','TP','TN','FP','FN','FPR','FNR','auc','mcc'])"
   ]
  },
  {
   "cell_type": "code",
   "execution_count": 32,
   "metadata": {
    "scrolled": false
   },
   "outputs": [
    {
     "name": "stdout",
     "output_type": "stream",
     "text": [
      "\u001b[1mK-Nearest Neighbors\u001b[0m\n",
      "Accuracy of the model for training data is: 0.9807860580428759\n",
      "Confusion Matrix for training data is:\n"
     ]
    },
    {
     "data": {
      "text/plain": [
       "Predicted  False  True  __all__\n",
       "Actual                         \n",
       "False      24189   138    24327\n",
       "True         389  2712     3101\n",
       "__all__    24578  2850    27428"
      ]
     },
     "metadata": {},
     "output_type": "display_data"
    },
    {
     "name": "stdout",
     "output_type": "stream",
     "text": [
      "Accuracy of the model for test data is: 0.9723521905572097\n",
      "Confusion Matrix for test data is:\n"
     ]
    },
    {
     "data": {
      "text/plain": [
       "Predicted  False  True  __all__\n",
       "Actual                         \n",
       "False      10327    88    10415\n",
       "True         237  1103     1340\n",
       "__all__    10564  1191    11755"
      ]
     },
     "metadata": {},
     "output_type": "display_data"
    },
    {
     "name": "stdout",
     "output_type": "stream",
     "text": [
      "\n",
      "\n",
      "\u001b[1mRandomForest Classifier\u001b[0m\n",
      "Accuracy of the model for training data is: 0.9956978270380633\n",
      "Confusion Matrix for training data is:\n"
     ]
    },
    {
     "data": {
      "text/plain": [
       "Predicted  False  True  __all__\n",
       "Actual                         \n",
       "False      24309    18    24327\n",
       "True         100  3001     3101\n",
       "__all__    24409  3019    27428"
      ]
     },
     "metadata": {},
     "output_type": "display_data"
    },
    {
     "name": "stdout",
     "output_type": "stream",
     "text": [
      "Accuracy of the model for test data is: 0.9730327520204168\n",
      "Confusion Matrix for test data is:\n"
     ]
    },
    {
     "data": {
      "text/plain": [
       "Predicted  False  True  __all__\n",
       "Actual                         \n",
       "False      10342    73    10415\n",
       "True         244  1096     1340\n",
       "__all__    10586  1169    11755"
      ]
     },
     "metadata": {},
     "output_type": "display_data"
    },
    {
     "data": {
      "application/vnd.plotly.v1+json": {
       "config": {
        "linkText": "Export to plot.ly",
        "plotlyServerURL": "https://plot.ly",
        "showLink": true
       },
       "data": [
        {
         "marker": {
          "color": "rgb(158,202,225)",
          "line": {
           "color": "rgb(8,48,107)",
           "width": 1.5
          }
         },
         "opacity": 0.6,
         "orientation": "h",
         "text": [
          0.1791,
          0.1735,
          0.0618,
          0.0344,
          0.0336,
          0.0248,
          0.0225,
          0.0154,
          0.0141,
          0.0138,
          0.0137,
          0.0131,
          0.0113,
          0.0112,
          0.0104,
          0.0086,
          0.0076,
          0.0075,
          0.0074,
          0.0072,
          0.0071,
          0.0071,
          0.0071,
          0.0068,
          0.0062,
          0.0062,
          0.0061,
          0.0058,
          0.0057,
          0.0055,
          0.0055,
          0.0054,
          0.0052,
          0.0051,
          0.0051,
          0.0051,
          0.005,
          0.005,
          0.0049,
          0.0047,
          0.0046,
          0.0046,
          0.0044,
          0.0043,
          0.0043,
          0.0043,
          0.0043,
          0.004,
          0.0039,
          0.0038,
          0.0038,
          0.0037,
          0.0036,
          0.0036,
          0.0035,
          0.0035,
          0.0033,
          0.0032,
          0.0032,
          0.0031,
          0.0031,
          0.0031,
          0.0031,
          0.003,
          0.0029,
          0.0029,
          0.0029,
          0.0029,
          0.0029,
          0.0028,
          0.0028,
          0.0027,
          0.0027,
          0.0027,
          0.0026,
          0.0026,
          0.0025,
          0.0025,
          0.0024,
          0.0024,
          0.0023,
          0.0023,
          0.0023,
          0.0023,
          0.0022,
          0.0022,
          0.0022,
          0.0022,
          0.0021,
          0.0021,
          0.0021,
          0.0021,
          0.0021,
          0.0021,
          0.002,
          0.002,
          0.002,
          0.002,
          0.002,
          0.002,
          0.0019,
          0.0019,
          0.0019,
          0.0019,
          0.0018,
          0.0018,
          0.0018,
          0.0018,
          0.0017,
          0.0017,
          0.0017,
          0.0017,
          0.0017,
          0.0016,
          0.0016,
          0.0016,
          0.0016,
          0.0015,
          0.0015,
          0.0014,
          0.0013,
          0.0011,
          0.0009,
          0.0009,
          0.0009
         ],
         "textposition": "outside",
         "type": "bar",
         "uid": "0b2cd4f2-3404-448b-a2f3-5064d321e2c7",
         "x": [
          0.17905548007931388,
          0.17353474092760096,
          0.06178774484956384,
          0.034410092934751224,
          0.0335720707290986,
          0.02484420419988823,
          0.022479786785937518,
          0.015409233151390544,
          0.014148314204103193,
          0.013765491517464267,
          0.013667773501182826,
          0.013102658928617348,
          0.011296421775814029,
          0.011216351831339906,
          0.010355961831479016,
          0.008593956861853668,
          0.007571264434038627,
          0.0075210186070321485,
          0.007373263358851271,
          0.007194548179807229,
          0.007148361639890593,
          0.007119321316601033,
          0.0070817128466208025,
          0.0067970514902097835,
          0.00622509980320371,
          0.0061655333478364965,
          0.006141049861254468,
          0.005802293547002583,
          0.0057342707338635815,
          0.005512491720820218,
          0.005481683617743519,
          0.005433255426814268,
          0.005154555252227539,
          0.005146438755229711,
          0.005143022139414783,
          0.005103807261463577,
          0.004975162999686205,
          0.004954843793695336,
          0.004946293073060498,
          0.004749947565587992,
          0.004623519266397457,
          0.0045807264615945874,
          0.004411799106961422,
          0.0043291416867211035,
          0.004307080816602848,
          0.0042773402295203005,
          0.004275705388355035,
          0.004021055559226197,
          0.003914952042796402,
          0.003841694349739,
          0.0037582174457032164,
          0.0036842521589761806,
          0.0035566435340116816,
          0.0035522680230214198,
          0.0035177542646952454,
          0.003495323149017567,
          0.003328591665942862,
          0.003210729164950476,
          0.00315666619404189,
          0.0031332515484364014,
          0.0031289198354087734,
          0.003090127543239136,
          0.0030619863299135713,
          0.0030355163861506057,
          0.0029433914843562644,
          0.002878044845385493,
          0.002868544299290972,
          0.0028665302496349797,
          0.0028602983449422894,
          0.0028090512062923624,
          0.00275915399291034,
          0.0027384091002394463,
          0.002709838521783423,
          0.0026889625466793325,
          0.0026274909996296266,
          0.002561336296669257,
          0.0025460782743246336,
          0.002530918910347923,
          0.002407901966187546,
          0.0023886267058197616,
          0.0022852748043774495,
          0.0022788633527994324,
          0.0022677962194035542,
          0.0022648289026527694,
          0.002231018061804835,
          0.002223602295617614,
          0.0021676070173975827,
          0.0021547406527569948,
          0.0021495691821080292,
          0.002149017895692148,
          0.0021357001780076706,
          0.002128129810667528,
          0.0021212530618586662,
          0.0020792668576666935,
          0.0020328384530239932,
          0.0020247376865608186,
          0.0020002656567425095,
          0.0019861919648763763,
          0.0019780209826240867,
          0.0019685001035640885,
          0.001943136549195533,
          0.0019071301624592665,
          0.0018941496762316806,
          0.0018726016527577834,
          0.001841243946284457,
          0.0018009615693544596,
          0.0017938260355520625,
          0.0017701611699297772,
          0.0017181224420231486,
          0.0016878846669765492,
          0.001662786470299418,
          0.0016567136607521158,
          0.0016534764628573274,
          0.001641474724170097,
          0.0016227396333573993,
          0.0016126934630758308,
          0.0016044393048608475,
          0.00149023393704976,
          0.0014647223217274694,
          0.0014006720863693571,
          0.0013028110660793842,
          0.0011134221328280593,
          0.0009246462769256595,
          0.0009138518439066441,
          0.0008844608275009313
         ],
         "y": [
          "2",
          "0",
          "1",
          "3",
          "5",
          "10",
          "26",
          "63",
          "4",
          "60",
          "104",
          "30",
          "34",
          "6",
          "31",
          "67",
          "17",
          "7",
          "11",
          "12",
          "8",
          "39",
          "23",
          "52",
          "20",
          "32",
          "79",
          "72",
          "28",
          "61",
          "55",
          "16",
          "78",
          "9",
          "27",
          "37",
          "13",
          "29",
          "42",
          "53",
          "114",
          "44",
          "80",
          "99",
          "25",
          "58",
          "85",
          "59",
          "18",
          "62",
          "90",
          "88",
          "68",
          "83",
          "69",
          "65",
          "14",
          "41",
          "109",
          "35",
          "51",
          "56",
          "77",
          "112",
          "115",
          "93",
          "96",
          "71",
          "84",
          "33",
          "102",
          "107",
          "123",
          "49",
          "92",
          "82",
          "54",
          "70",
          "108",
          "22",
          "119",
          "47",
          "103",
          "21",
          "120",
          "66",
          "64",
          "43",
          "124",
          "98",
          "73",
          "19",
          "121",
          "116",
          "57",
          "94",
          "117",
          "95",
          "87",
          "45",
          "15",
          "48",
          "74",
          "40",
          "50",
          "86",
          "101",
          "76",
          "106",
          "38",
          "81",
          "24",
          "100",
          "75",
          "113",
          "118",
          "110",
          "111",
          "36",
          "91",
          "89",
          "97",
          "105",
          "46",
          "122"
         ]
        }
       ],
       "layout": {
        "autosize": false,
        "height": 1000,
        "width": 1000,
        "xaxis": {
         "tickfont": {
          "color": "black",
          "size": 12
         },
         "title": "Feature Importances"
        },
        "yaxis": {
         "automargin": true
        }
       }
      },
      "text/html": [
       "<div id=\"a3c9d79b-d69e-444b-bc48-6abffebb4ebb\" style=\"height: 1000px; width: 1000px;\" class=\"plotly-graph-div\"></div><script type=\"text/javascript\">require([\"plotly\"], function(Plotly) { window.PLOTLYENV=window.PLOTLYENV || {};window.PLOTLYENV.BASE_URL=\"https://plot.ly\";Plotly.newPlot(\"a3c9d79b-d69e-444b-bc48-6abffebb4ebb\", [{\"marker\": {\"color\": \"rgb(158,202,225)\", \"line\": {\"color\": \"rgb(8,48,107)\", \"width\": 1.5}}, \"opacity\": 0.6, \"orientation\": \"h\", \"text\": [0.1791, 0.1735, 0.0618, 0.0344, 0.0336, 0.0248, 0.0225, 0.0154, 0.0141, 0.0138, 0.0137, 0.0131, 0.0113, 0.0112, 0.0104, 0.0086, 0.0076, 0.0075, 0.0074, 0.0072, 0.0071, 0.0071, 0.0071, 0.0068, 0.0062, 0.0062, 0.0061, 0.0058, 0.0057, 0.0055, 0.0055, 0.0054, 0.0052, 0.0051, 0.0051, 0.0051, 0.005, 0.005, 0.0049, 0.0047, 0.0046, 0.0046, 0.0044, 0.0043, 0.0043, 0.0043, 0.0043, 0.004, 0.0039, 0.0038, 0.0038, 0.0037, 0.0036, 0.0036, 0.0035, 0.0035, 0.0033, 0.0032, 0.0032, 0.0031, 0.0031, 0.0031, 0.0031, 0.003, 0.0029, 0.0029, 0.0029, 0.0029, 0.0029, 0.0028, 0.0028, 0.0027, 0.0027, 0.0027, 0.0026, 0.0026, 0.0025, 0.0025, 0.0024, 0.0024, 0.0023, 0.0023, 0.0023, 0.0023, 0.0022, 0.0022, 0.0022, 0.0022, 0.0021, 0.0021, 0.0021, 0.0021, 0.0021, 0.0021, 0.002, 0.002, 0.002, 0.002, 0.002, 0.002, 0.0019, 0.0019, 0.0019, 0.0019, 0.0018, 0.0018, 0.0018, 0.0018, 0.0017, 0.0017, 0.0017, 0.0017, 0.0017, 0.0016, 0.0016, 0.0016, 0.0016, 0.0015, 0.0015, 0.0014, 0.0013, 0.0011, 0.0009, 0.0009, 0.0009], \"textposition\": \"outside\", \"x\": [0.17905548007931388, 0.17353474092760096, 0.06178774484956384, 0.034410092934751224, 0.0335720707290986, 0.02484420419988823, 0.022479786785937518, 0.015409233151390544, 0.014148314204103193, 0.013765491517464267, 0.013667773501182826, 0.013102658928617348, 0.011296421775814029, 0.011216351831339906, 0.010355961831479016, 0.008593956861853668, 0.007571264434038627, 0.0075210186070321485, 0.007373263358851271, 0.007194548179807229, 0.007148361639890593, 0.007119321316601033, 0.0070817128466208025, 0.0067970514902097835, 0.00622509980320371, 0.0061655333478364965, 0.006141049861254468, 0.005802293547002583, 0.0057342707338635815, 0.005512491720820218, 0.005481683617743519, 0.005433255426814268, 0.005154555252227539, 0.005146438755229711, 0.005143022139414783, 0.005103807261463577, 0.004975162999686205, 0.004954843793695336, 0.004946293073060498, 0.004749947565587992, 0.004623519266397457, 0.0045807264615945874, 0.004411799106961422, 0.0043291416867211035, 0.004307080816602848, 0.0042773402295203005, 0.004275705388355035, 0.004021055559226197, 0.003914952042796402, 0.003841694349739, 0.0037582174457032164, 0.0036842521589761806, 0.0035566435340116816, 0.0035522680230214198, 0.0035177542646952454, 0.003495323149017567, 0.003328591665942862, 0.003210729164950476, 0.00315666619404189, 0.0031332515484364014, 0.0031289198354087734, 0.003090127543239136, 0.0030619863299135713, 0.0030355163861506057, 0.0029433914843562644, 0.002878044845385493, 0.002868544299290972, 0.0028665302496349797, 0.0028602983449422894, 0.0028090512062923624, 0.00275915399291034, 0.0027384091002394463, 0.002709838521783423, 0.0026889625466793325, 0.0026274909996296266, 0.002561336296669257, 0.0025460782743246336, 0.002530918910347923, 0.002407901966187546, 0.0023886267058197616, 0.0022852748043774495, 0.0022788633527994324, 0.0022677962194035542, 0.0022648289026527694, 0.002231018061804835, 0.002223602295617614, 0.0021676070173975827, 0.0021547406527569948, 0.0021495691821080292, 0.002149017895692148, 0.0021357001780076706, 0.002128129810667528, 0.0021212530618586662, 0.0020792668576666935, 0.0020328384530239932, 0.0020247376865608186, 0.0020002656567425095, 0.0019861919648763763, 0.0019780209826240867, 0.0019685001035640885, 0.001943136549195533, 0.0019071301624592665, 0.0018941496762316806, 0.0018726016527577834, 0.001841243946284457, 0.0018009615693544596, 0.0017938260355520625, 0.0017701611699297772, 0.0017181224420231486, 0.0016878846669765492, 0.001662786470299418, 0.0016567136607521158, 0.0016534764628573274, 0.001641474724170097, 0.0016227396333573993, 0.0016126934630758308, 0.0016044393048608475, 0.00149023393704976, 0.0014647223217274694, 0.0014006720863693571, 0.0013028110660793842, 0.0011134221328280593, 0.0009246462769256595, 0.0009138518439066441, 0.0008844608275009313], \"y\": [\"2\", \"0\", \"1\", \"3\", \"5\", \"10\", \"26\", \"63\", \"4\", \"60\", \"104\", \"30\", \"34\", \"6\", \"31\", \"67\", \"17\", \"7\", \"11\", \"12\", \"8\", \"39\", \"23\", \"52\", \"20\", \"32\", \"79\", \"72\", \"28\", \"61\", \"55\", \"16\", \"78\", \"9\", \"27\", \"37\", \"13\", \"29\", \"42\", \"53\", \"114\", \"44\", \"80\", \"99\", \"25\", \"58\", \"85\", \"59\", \"18\", \"62\", \"90\", \"88\", \"68\", \"83\", \"69\", \"65\", \"14\", \"41\", \"109\", \"35\", \"51\", \"56\", \"77\", \"112\", \"115\", \"93\", \"96\", \"71\", \"84\", \"33\", \"102\", \"107\", \"123\", \"49\", \"92\", \"82\", \"54\", \"70\", \"108\", \"22\", \"119\", \"47\", \"103\", \"21\", \"120\", \"66\", \"64\", \"43\", \"124\", \"98\", \"73\", \"19\", \"121\", \"116\", \"57\", \"94\", \"117\", \"95\", \"87\", \"45\", \"15\", \"48\", \"74\", \"40\", \"50\", \"86\", \"101\", \"76\", \"106\", \"38\", \"81\", \"24\", \"100\", \"75\", \"113\", \"118\", \"110\", \"111\", \"36\", \"91\", \"89\", \"97\", \"105\", \"46\", \"122\"], \"type\": \"bar\", \"uid\": \"0b2cd4f2-3404-448b-a2f3-5064d321e2c7\"}], {\"autosize\": false, \"height\": 1000, \"width\": 1000, \"xaxis\": {\"tickfont\": {\"color\": \"black\", \"size\": 12}, \"title\": \"Feature Importances\"}, \"yaxis\": {\"automargin\": true}}, {\"showLink\": true, \"linkText\": \"Export to plot.ly\", \"plotlyServerURL\": \"https://plot.ly\"})});</script>"
      ],
      "text/vnd.plotly.v1+html": [
       "<div id=\"a3c9d79b-d69e-444b-bc48-6abffebb4ebb\" style=\"height: 1000px; width: 1000px;\" class=\"plotly-graph-div\"></div><script type=\"text/javascript\">require([\"plotly\"], function(Plotly) { window.PLOTLYENV=window.PLOTLYENV || {};window.PLOTLYENV.BASE_URL=\"https://plot.ly\";Plotly.newPlot(\"a3c9d79b-d69e-444b-bc48-6abffebb4ebb\", [{\"marker\": {\"color\": \"rgb(158,202,225)\", \"line\": {\"color\": \"rgb(8,48,107)\", \"width\": 1.5}}, \"opacity\": 0.6, \"orientation\": \"h\", \"text\": [0.1791, 0.1735, 0.0618, 0.0344, 0.0336, 0.0248, 0.0225, 0.0154, 0.0141, 0.0138, 0.0137, 0.0131, 0.0113, 0.0112, 0.0104, 0.0086, 0.0076, 0.0075, 0.0074, 0.0072, 0.0071, 0.0071, 0.0071, 0.0068, 0.0062, 0.0062, 0.0061, 0.0058, 0.0057, 0.0055, 0.0055, 0.0054, 0.0052, 0.0051, 0.0051, 0.0051, 0.005, 0.005, 0.0049, 0.0047, 0.0046, 0.0046, 0.0044, 0.0043, 0.0043, 0.0043, 0.0043, 0.004, 0.0039, 0.0038, 0.0038, 0.0037, 0.0036, 0.0036, 0.0035, 0.0035, 0.0033, 0.0032, 0.0032, 0.0031, 0.0031, 0.0031, 0.0031, 0.003, 0.0029, 0.0029, 0.0029, 0.0029, 0.0029, 0.0028, 0.0028, 0.0027, 0.0027, 0.0027, 0.0026, 0.0026, 0.0025, 0.0025, 0.0024, 0.0024, 0.0023, 0.0023, 0.0023, 0.0023, 0.0022, 0.0022, 0.0022, 0.0022, 0.0021, 0.0021, 0.0021, 0.0021, 0.0021, 0.0021, 0.002, 0.002, 0.002, 0.002, 0.002, 0.002, 0.0019, 0.0019, 0.0019, 0.0019, 0.0018, 0.0018, 0.0018, 0.0018, 0.0017, 0.0017, 0.0017, 0.0017, 0.0017, 0.0016, 0.0016, 0.0016, 0.0016, 0.0015, 0.0015, 0.0014, 0.0013, 0.0011, 0.0009, 0.0009, 0.0009], \"textposition\": \"outside\", \"x\": [0.17905548007931388, 0.17353474092760096, 0.06178774484956384, 0.034410092934751224, 0.0335720707290986, 0.02484420419988823, 0.022479786785937518, 0.015409233151390544, 0.014148314204103193, 0.013765491517464267, 0.013667773501182826, 0.013102658928617348, 0.011296421775814029, 0.011216351831339906, 0.010355961831479016, 0.008593956861853668, 0.007571264434038627, 0.0075210186070321485, 0.007373263358851271, 0.007194548179807229, 0.007148361639890593, 0.007119321316601033, 0.0070817128466208025, 0.0067970514902097835, 0.00622509980320371, 0.0061655333478364965, 0.006141049861254468, 0.005802293547002583, 0.0057342707338635815, 0.005512491720820218, 0.005481683617743519, 0.005433255426814268, 0.005154555252227539, 0.005146438755229711, 0.005143022139414783, 0.005103807261463577, 0.004975162999686205, 0.004954843793695336, 0.004946293073060498, 0.004749947565587992, 0.004623519266397457, 0.0045807264615945874, 0.004411799106961422, 0.0043291416867211035, 0.004307080816602848, 0.0042773402295203005, 0.004275705388355035, 0.004021055559226197, 0.003914952042796402, 0.003841694349739, 0.0037582174457032164, 0.0036842521589761806, 0.0035566435340116816, 0.0035522680230214198, 0.0035177542646952454, 0.003495323149017567, 0.003328591665942862, 0.003210729164950476, 0.00315666619404189, 0.0031332515484364014, 0.0031289198354087734, 0.003090127543239136, 0.0030619863299135713, 0.0030355163861506057, 0.0029433914843562644, 0.002878044845385493, 0.002868544299290972, 0.0028665302496349797, 0.0028602983449422894, 0.0028090512062923624, 0.00275915399291034, 0.0027384091002394463, 0.002709838521783423, 0.0026889625466793325, 0.0026274909996296266, 0.002561336296669257, 0.0025460782743246336, 0.002530918910347923, 0.002407901966187546, 0.0023886267058197616, 0.0022852748043774495, 0.0022788633527994324, 0.0022677962194035542, 0.0022648289026527694, 0.002231018061804835, 0.002223602295617614, 0.0021676070173975827, 0.0021547406527569948, 0.0021495691821080292, 0.002149017895692148, 0.0021357001780076706, 0.002128129810667528, 0.0021212530618586662, 0.0020792668576666935, 0.0020328384530239932, 0.0020247376865608186, 0.0020002656567425095, 0.0019861919648763763, 0.0019780209826240867, 0.0019685001035640885, 0.001943136549195533, 0.0019071301624592665, 0.0018941496762316806, 0.0018726016527577834, 0.001841243946284457, 0.0018009615693544596, 0.0017938260355520625, 0.0017701611699297772, 0.0017181224420231486, 0.0016878846669765492, 0.001662786470299418, 0.0016567136607521158, 0.0016534764628573274, 0.001641474724170097, 0.0016227396333573993, 0.0016126934630758308, 0.0016044393048608475, 0.00149023393704976, 0.0014647223217274694, 0.0014006720863693571, 0.0013028110660793842, 0.0011134221328280593, 0.0009246462769256595, 0.0009138518439066441, 0.0008844608275009313], \"y\": [\"2\", \"0\", \"1\", \"3\", \"5\", \"10\", \"26\", \"63\", \"4\", \"60\", \"104\", \"30\", \"34\", \"6\", \"31\", \"67\", \"17\", \"7\", \"11\", \"12\", \"8\", \"39\", \"23\", \"52\", \"20\", \"32\", \"79\", \"72\", \"28\", \"61\", \"55\", \"16\", \"78\", \"9\", \"27\", \"37\", \"13\", \"29\", \"42\", \"53\", \"114\", \"44\", \"80\", \"99\", \"25\", \"58\", \"85\", \"59\", \"18\", \"62\", \"90\", \"88\", \"68\", \"83\", \"69\", \"65\", \"14\", \"41\", \"109\", \"35\", \"51\", \"56\", \"77\", \"112\", \"115\", \"93\", \"96\", \"71\", \"84\", \"33\", \"102\", \"107\", \"123\", \"49\", \"92\", \"82\", \"54\", \"70\", \"108\", \"22\", \"119\", \"47\", \"103\", \"21\", \"120\", \"66\", \"64\", \"43\", \"124\", \"98\", \"73\", \"19\", \"121\", \"116\", \"57\", \"94\", \"117\", \"95\", \"87\", \"45\", \"15\", \"48\", \"74\", \"40\", \"50\", \"86\", \"101\", \"76\", \"106\", \"38\", \"81\", \"24\", \"100\", \"75\", \"113\", \"118\", \"110\", \"111\", \"36\", \"91\", \"89\", \"97\", \"105\", \"46\", \"122\"], \"type\": \"bar\", \"uid\": \"0b2cd4f2-3404-448b-a2f3-5064d321e2c7\"}], {\"autosize\": false, \"height\": 1000, \"width\": 1000, \"xaxis\": {\"tickfont\": {\"color\": \"black\", \"size\": 12}, \"title\": \"Feature Importances\"}, \"yaxis\": {\"automargin\": true}}, {\"showLink\": true, \"linkText\": \"Export to plot.ly\", \"plotlyServerURL\": \"https://plot.ly\"})});</script>"
      ]
     },
     "metadata": {},
     "output_type": "display_data"
    },
    {
     "name": "stdout",
     "output_type": "stream",
     "text": [
      "\n",
      "\n",
      "\u001b[1mAdaoost Classifier\u001b[0m\n",
      "Accuracy of the model for training data is: 0.9736400758349132\n",
      "Confusion Matrix for training data is:\n"
     ]
    },
    {
     "data": {
      "text/plain": [
       "Predicted  False  True  __all__\n",
       "Actual                         \n",
       "False      24064   263    24327\n",
       "True         460  2641     3101\n",
       "__all__    24524  2904    27428"
      ]
     },
     "metadata": {},
     "output_type": "display_data"
    },
    {
     "name": "stdout",
     "output_type": "stream",
     "text": [
      "Accuracy of the model for test data is: 0.9686941726924713\n",
      "Confusion Matrix for test data is:\n"
     ]
    },
    {
     "data": {
      "text/plain": [
       "Predicted  False  True  __all__\n",
       "Actual                         \n",
       "False      10279   136    10415\n",
       "True         232  1108     1340\n",
       "__all__    10511  1244    11755"
      ]
     },
     "metadata": {},
     "output_type": "display_data"
    },
    {
     "data": {
      "application/vnd.plotly.v1+json": {
       "config": {
        "linkText": "Export to plot.ly",
        "plotlyServerURL": "https://plot.ly",
        "showLink": true
       },
       "data": [
        {
         "marker": {
          "color": "rgb(158,202,225)",
          "line": {
           "color": "rgb(8,48,107)",
           "width": 1.5
          }
         },
         "opacity": 0.6,
         "orientation": "h",
         "text": [
          0.16,
          0.08,
          0.06,
          0.06,
          0.04,
          0.04,
          0.02,
          0.02,
          0.02,
          0.02,
          0.02,
          0.02,
          0.02,
          0.02,
          0.02,
          0.02,
          0.02,
          0.02,
          0.02,
          0.02,
          0.02,
          0.02,
          0.02,
          0.02,
          0.02,
          0.02,
          0.02,
          0.02,
          0.02,
          0.02,
          0.02,
          0.02,
          0.02,
          0.02,
          0,
          0,
          0,
          0,
          0,
          0,
          0,
          0,
          0,
          0,
          0,
          0,
          0,
          0,
          0,
          0,
          0,
          0,
          0,
          0,
          0,
          0,
          0,
          0,
          0,
          0,
          0,
          0,
          0,
          0,
          0,
          0,
          0,
          0,
          0,
          0,
          0,
          0,
          0,
          0,
          0,
          0,
          0,
          0,
          0,
          0,
          0,
          0,
          0,
          0,
          0,
          0,
          0,
          0,
          0,
          0,
          0,
          0,
          0,
          0,
          0,
          0,
          0,
          0,
          0,
          0,
          0,
          0,
          0,
          0,
          0,
          0,
          0,
          0,
          0,
          0,
          0,
          0,
          0,
          0,
          0,
          0,
          0,
          0,
          0,
          0,
          0,
          0,
          0,
          0,
          0
         ],
         "textposition": "outside",
         "type": "bar",
         "uid": "091e0fef-6517-459d-9fd9-241b4c5437b4",
         "x": [
          0.16,
          0.08,
          0.06,
          0.06,
          0.04,
          0.04,
          0.02,
          0.02,
          0.02,
          0.02,
          0.02,
          0.02,
          0.02,
          0.02,
          0.02,
          0.02,
          0.02,
          0.02,
          0.02,
          0.02,
          0.02,
          0.02,
          0.02,
          0.02,
          0.02,
          0.02,
          0.02,
          0.02,
          0.02,
          0.02,
          0.02,
          0.02,
          0.02,
          0.02,
          0,
          0,
          0,
          0,
          0,
          0,
          0,
          0,
          0,
          0,
          0,
          0,
          0,
          0,
          0,
          0,
          0,
          0,
          0,
          0,
          0,
          0,
          0,
          0,
          0,
          0,
          0,
          0,
          0,
          0,
          0,
          0,
          0,
          0,
          0,
          0,
          0,
          0,
          0,
          0,
          0,
          0,
          0,
          0,
          0,
          0,
          0,
          0,
          0,
          0,
          0,
          0,
          0,
          0,
          0,
          0,
          0,
          0,
          0,
          0,
          0,
          0,
          0,
          0,
          0,
          0,
          0,
          0,
          0,
          0,
          0,
          0,
          0,
          0,
          0,
          0,
          0,
          0,
          0,
          0,
          0,
          0,
          0,
          0,
          0,
          0,
          0,
          0,
          0,
          0,
          0
         ],
         "y": [
          "0",
          "3",
          "2",
          "42",
          "6",
          "1",
          "35",
          "26",
          "61",
          "30",
          "58",
          "33",
          "34",
          "101",
          "56",
          "74",
          "100",
          "90",
          "44",
          "46",
          "47",
          "25",
          "109",
          "13",
          "78",
          "112",
          "76",
          "114",
          "5",
          "18",
          "17",
          "7",
          "70",
          "118",
          "91",
          "77",
          "89",
          "88",
          "84",
          "79",
          "93",
          "80",
          "81",
          "82",
          "87",
          "86",
          "85",
          "83",
          "92",
          "102",
          "94",
          "95",
          "123",
          "122",
          "121",
          "120",
          "119",
          "117",
          "116",
          "115",
          "113",
          "111",
          "110",
          "108",
          "107",
          "106",
          "105",
          "104",
          "103",
          "99",
          "98",
          "97",
          "96",
          "75",
          "62",
          "73",
          "21",
          "37",
          "36",
          "32",
          "31",
          "29",
          "28",
          "27",
          "24",
          "23",
          "22",
          "20",
          "72",
          "19",
          "16",
          "15",
          "14",
          "12",
          "11",
          "10",
          "9",
          "8",
          "4",
          "38",
          "39",
          "40",
          "41",
          "71",
          "69",
          "68",
          "67",
          "66",
          "65",
          "64",
          "63",
          "60",
          "59",
          "57",
          "55",
          "54",
          "53",
          "52",
          "51",
          "50",
          "49",
          "48",
          "45",
          "43",
          "124"
         ]
        }
       ],
       "layout": {
        "autosize": false,
        "height": 1000,
        "width": 1000,
        "xaxis": {
         "tickfont": {
          "color": "black",
          "size": 12
         },
         "title": "Feature Importances"
        },
        "yaxis": {
         "automargin": true
        }
       }
      },
      "text/html": [
       "<div id=\"eb41e86e-9895-45dd-98ab-30792701c23a\" style=\"height: 1000px; width: 1000px;\" class=\"plotly-graph-div\"></div><script type=\"text/javascript\">require([\"plotly\"], function(Plotly) { window.PLOTLYENV=window.PLOTLYENV || {};window.PLOTLYENV.BASE_URL=\"https://plot.ly\";Plotly.newPlot(\"eb41e86e-9895-45dd-98ab-30792701c23a\", [{\"marker\": {\"color\": \"rgb(158,202,225)\", \"line\": {\"color\": \"rgb(8,48,107)\", \"width\": 1.5}}, \"opacity\": 0.6, \"orientation\": \"h\", \"text\": [0.16, 0.08, 0.06, 0.06, 0.04, 0.04, 0.02, 0.02, 0.02, 0.02, 0.02, 0.02, 0.02, 0.02, 0.02, 0.02, 0.02, 0.02, 0.02, 0.02, 0.02, 0.02, 0.02, 0.02, 0.02, 0.02, 0.02, 0.02, 0.02, 0.02, 0.02, 0.02, 0.02, 0.02, 0.0, 0.0, 0.0, 0.0, 0.0, 0.0, 0.0, 0.0, 0.0, 0.0, 0.0, 0.0, 0.0, 0.0, 0.0, 0.0, 0.0, 0.0, 0.0, 0.0, 0.0, 0.0, 0.0, 0.0, 0.0, 0.0, 0.0, 0.0, 0.0, 0.0, 0.0, 0.0, 0.0, 0.0, 0.0, 0.0, 0.0, 0.0, 0.0, 0.0, 0.0, 0.0, 0.0, 0.0, 0.0, 0.0, 0.0, 0.0, 0.0, 0.0, 0.0, 0.0, 0.0, 0.0, 0.0, 0.0, 0.0, 0.0, 0.0, 0.0, 0.0, 0.0, 0.0, 0.0, 0.0, 0.0, 0.0, 0.0, 0.0, 0.0, 0.0, 0.0, 0.0, 0.0, 0.0, 0.0, 0.0, 0.0, 0.0, 0.0, 0.0, 0.0, 0.0, 0.0, 0.0, 0.0, 0.0, 0.0, 0.0, 0.0, 0.0], \"textposition\": \"outside\", \"x\": [0.16, 0.08, 0.06, 0.06, 0.04, 0.04, 0.02, 0.02, 0.02, 0.02, 0.02, 0.02, 0.02, 0.02, 0.02, 0.02, 0.02, 0.02, 0.02, 0.02, 0.02, 0.02, 0.02, 0.02, 0.02, 0.02, 0.02, 0.02, 0.02, 0.02, 0.02, 0.02, 0.02, 0.02, 0.0, 0.0, 0.0, 0.0, 0.0, 0.0, 0.0, 0.0, 0.0, 0.0, 0.0, 0.0, 0.0, 0.0, 0.0, 0.0, 0.0, 0.0, 0.0, 0.0, 0.0, 0.0, 0.0, 0.0, 0.0, 0.0, 0.0, 0.0, 0.0, 0.0, 0.0, 0.0, 0.0, 0.0, 0.0, 0.0, 0.0, 0.0, 0.0, 0.0, 0.0, 0.0, 0.0, 0.0, 0.0, 0.0, 0.0, 0.0, 0.0, 0.0, 0.0, 0.0, 0.0, 0.0, 0.0, 0.0, 0.0, 0.0, 0.0, 0.0, 0.0, 0.0, 0.0, 0.0, 0.0, 0.0, 0.0, 0.0, 0.0, 0.0, 0.0, 0.0, 0.0, 0.0, 0.0, 0.0, 0.0, 0.0, 0.0, 0.0, 0.0, 0.0, 0.0, 0.0, 0.0, 0.0, 0.0, 0.0, 0.0, 0.0, 0.0], \"y\": [\"0\", \"3\", \"2\", \"42\", \"6\", \"1\", \"35\", \"26\", \"61\", \"30\", \"58\", \"33\", \"34\", \"101\", \"56\", \"74\", \"100\", \"90\", \"44\", \"46\", \"47\", \"25\", \"109\", \"13\", \"78\", \"112\", \"76\", \"114\", \"5\", \"18\", \"17\", \"7\", \"70\", \"118\", \"91\", \"77\", \"89\", \"88\", \"84\", \"79\", \"93\", \"80\", \"81\", \"82\", \"87\", \"86\", \"85\", \"83\", \"92\", \"102\", \"94\", \"95\", \"123\", \"122\", \"121\", \"120\", \"119\", \"117\", \"116\", \"115\", \"113\", \"111\", \"110\", \"108\", \"107\", \"106\", \"105\", \"104\", \"103\", \"99\", \"98\", \"97\", \"96\", \"75\", \"62\", \"73\", \"21\", \"37\", \"36\", \"32\", \"31\", \"29\", \"28\", \"27\", \"24\", \"23\", \"22\", \"20\", \"72\", \"19\", \"16\", \"15\", \"14\", \"12\", \"11\", \"10\", \"9\", \"8\", \"4\", \"38\", \"39\", \"40\", \"41\", \"71\", \"69\", \"68\", \"67\", \"66\", \"65\", \"64\", \"63\", \"60\", \"59\", \"57\", \"55\", \"54\", \"53\", \"52\", \"51\", \"50\", \"49\", \"48\", \"45\", \"43\", \"124\"], \"type\": \"bar\", \"uid\": \"091e0fef-6517-459d-9fd9-241b4c5437b4\"}], {\"autosize\": false, \"height\": 1000, \"width\": 1000, \"xaxis\": {\"tickfont\": {\"color\": \"black\", \"size\": 12}, \"title\": \"Feature Importances\"}, \"yaxis\": {\"automargin\": true}}, {\"showLink\": true, \"linkText\": \"Export to plot.ly\", \"plotlyServerURL\": \"https://plot.ly\"})});</script>"
      ],
      "text/vnd.plotly.v1+html": [
       "<div id=\"eb41e86e-9895-45dd-98ab-30792701c23a\" style=\"height: 1000px; width: 1000px;\" class=\"plotly-graph-div\"></div><script type=\"text/javascript\">require([\"plotly\"], function(Plotly) { window.PLOTLYENV=window.PLOTLYENV || {};window.PLOTLYENV.BASE_URL=\"https://plot.ly\";Plotly.newPlot(\"eb41e86e-9895-45dd-98ab-30792701c23a\", [{\"marker\": {\"color\": \"rgb(158,202,225)\", \"line\": {\"color\": \"rgb(8,48,107)\", \"width\": 1.5}}, \"opacity\": 0.6, \"orientation\": \"h\", \"text\": [0.16, 0.08, 0.06, 0.06, 0.04, 0.04, 0.02, 0.02, 0.02, 0.02, 0.02, 0.02, 0.02, 0.02, 0.02, 0.02, 0.02, 0.02, 0.02, 0.02, 0.02, 0.02, 0.02, 0.02, 0.02, 0.02, 0.02, 0.02, 0.02, 0.02, 0.02, 0.02, 0.02, 0.02, 0.0, 0.0, 0.0, 0.0, 0.0, 0.0, 0.0, 0.0, 0.0, 0.0, 0.0, 0.0, 0.0, 0.0, 0.0, 0.0, 0.0, 0.0, 0.0, 0.0, 0.0, 0.0, 0.0, 0.0, 0.0, 0.0, 0.0, 0.0, 0.0, 0.0, 0.0, 0.0, 0.0, 0.0, 0.0, 0.0, 0.0, 0.0, 0.0, 0.0, 0.0, 0.0, 0.0, 0.0, 0.0, 0.0, 0.0, 0.0, 0.0, 0.0, 0.0, 0.0, 0.0, 0.0, 0.0, 0.0, 0.0, 0.0, 0.0, 0.0, 0.0, 0.0, 0.0, 0.0, 0.0, 0.0, 0.0, 0.0, 0.0, 0.0, 0.0, 0.0, 0.0, 0.0, 0.0, 0.0, 0.0, 0.0, 0.0, 0.0, 0.0, 0.0, 0.0, 0.0, 0.0, 0.0, 0.0, 0.0, 0.0, 0.0, 0.0], \"textposition\": \"outside\", \"x\": [0.16, 0.08, 0.06, 0.06, 0.04, 0.04, 0.02, 0.02, 0.02, 0.02, 0.02, 0.02, 0.02, 0.02, 0.02, 0.02, 0.02, 0.02, 0.02, 0.02, 0.02, 0.02, 0.02, 0.02, 0.02, 0.02, 0.02, 0.02, 0.02, 0.02, 0.02, 0.02, 0.02, 0.02, 0.0, 0.0, 0.0, 0.0, 0.0, 0.0, 0.0, 0.0, 0.0, 0.0, 0.0, 0.0, 0.0, 0.0, 0.0, 0.0, 0.0, 0.0, 0.0, 0.0, 0.0, 0.0, 0.0, 0.0, 0.0, 0.0, 0.0, 0.0, 0.0, 0.0, 0.0, 0.0, 0.0, 0.0, 0.0, 0.0, 0.0, 0.0, 0.0, 0.0, 0.0, 0.0, 0.0, 0.0, 0.0, 0.0, 0.0, 0.0, 0.0, 0.0, 0.0, 0.0, 0.0, 0.0, 0.0, 0.0, 0.0, 0.0, 0.0, 0.0, 0.0, 0.0, 0.0, 0.0, 0.0, 0.0, 0.0, 0.0, 0.0, 0.0, 0.0, 0.0, 0.0, 0.0, 0.0, 0.0, 0.0, 0.0, 0.0, 0.0, 0.0, 0.0, 0.0, 0.0, 0.0, 0.0, 0.0, 0.0, 0.0, 0.0, 0.0], \"y\": [\"0\", \"3\", \"2\", \"42\", \"6\", \"1\", \"35\", \"26\", \"61\", \"30\", \"58\", \"33\", \"34\", \"101\", \"56\", \"74\", \"100\", \"90\", \"44\", \"46\", \"47\", \"25\", \"109\", \"13\", \"78\", \"112\", \"76\", \"114\", \"5\", \"18\", \"17\", \"7\", \"70\", \"118\", \"91\", \"77\", \"89\", \"88\", \"84\", \"79\", \"93\", \"80\", \"81\", \"82\", \"87\", \"86\", \"85\", \"83\", \"92\", \"102\", \"94\", \"95\", \"123\", \"122\", \"121\", \"120\", \"119\", \"117\", \"116\", \"115\", \"113\", \"111\", \"110\", \"108\", \"107\", \"106\", \"105\", \"104\", \"103\", \"99\", \"98\", \"97\", \"96\", \"75\", \"62\", \"73\", \"21\", \"37\", \"36\", \"32\", \"31\", \"29\", \"28\", \"27\", \"24\", \"23\", \"22\", \"20\", \"72\", \"19\", \"16\", \"15\", \"14\", \"12\", \"11\", \"10\", \"9\", \"8\", \"4\", \"38\", \"39\", \"40\", \"41\", \"71\", \"69\", \"68\", \"67\", \"66\", \"65\", \"64\", \"63\", \"60\", \"59\", \"57\", \"55\", \"54\", \"53\", \"52\", \"51\", \"50\", \"49\", \"48\", \"45\", \"43\", \"124\"], \"type\": \"bar\", \"uid\": \"091e0fef-6517-459d-9fd9-241b4c5437b4\"}], {\"autosize\": false, \"height\": 1000, \"width\": 1000, \"xaxis\": {\"tickfont\": {\"color\": \"black\", \"size\": 12}, \"title\": \"Feature Importances\"}, \"yaxis\": {\"automargin\": true}}, {\"showLink\": true, \"linkText\": \"Export to plot.ly\", \"plotlyServerURL\": \"https://plot.ly\"})});</script>"
      ]
     },
     "metadata": {},
     "output_type": "display_data"
    },
    {
     "name": "stdout",
     "output_type": "stream",
     "text": [
      "\n",
      "\n",
      "\u001b[1mGradientBoosting Classifier\u001b[0m\n",
      "Accuracy of the model for training data is: 0.979509989791454\n",
      "Confusion Matrix for training data is:\n"
     ]
    },
    {
     "data": {
      "text/plain": [
       "Predicted  False  True  __all__\n",
       "Actual                         \n",
       "False      24169   158    24327\n",
       "True         404  2697     3101\n",
       "__all__    24573  2855    27428"
      ]
     },
     "metadata": {},
     "output_type": "display_data"
    },
    {
     "name": "stdout",
     "output_type": "stream",
     "text": [
      "Accuracy of the model for test data is: 0.9726924712888133\n",
      "Confusion Matrix for test data is:\n"
     ]
    },
    {
     "data": {
      "text/plain": [
       "Predicted  False  True  __all__\n",
       "Actual                         \n",
       "False      10318    97    10415\n",
       "True         224  1116     1340\n",
       "__all__    10542  1213    11755"
      ]
     },
     "metadata": {},
     "output_type": "display_data"
    },
    {
     "data": {
      "application/vnd.plotly.v1+json": {
       "config": {
        "linkText": "Export to plot.ly",
        "plotlyServerURL": "https://plot.ly",
        "showLink": true
       },
       "data": [
        {
         "marker": {
          "color": "rgb(158,202,225)",
          "line": {
           "color": "rgb(8,48,107)",
           "width": 1.5
          }
         },
         "opacity": 0.6,
         "orientation": "h",
         "text": [
          0.7563,
          0.0895,
          0.0342,
          0.0265,
          0.0159,
          0.0148,
          0.0061,
          0.0051,
          0.0044,
          0.0031,
          0.003,
          0.0027,
          0.0027,
          0.0027,
          0.0024,
          0.0023,
          0.0022,
          0.0019,
          0.0017,
          0.0016,
          0.0016,
          0.0011,
          0.001,
          0.0009,
          0.0009,
          0.0009,
          0.0009,
          0.0008,
          0.0007,
          0.0007,
          0.0006,
          0.0006,
          0.0005,
          0.0005,
          0.0005,
          0.0004,
          0.0004,
          0.0004,
          0.0004,
          0.0004,
          0.0003,
          0.0003,
          0.0003,
          0.0003,
          0.0003,
          0.0003,
          0.0003,
          0.0003,
          0.0002,
          0.0002,
          0.0002,
          0.0002,
          0.0002,
          0.0002,
          0.0002,
          0.0002,
          0.0002,
          0.0001,
          0.0001,
          0.0001,
          0.0001,
          0.0001,
          0.0001,
          0.0001,
          0.0001,
          0.0001,
          0.0001,
          0.0001,
          0.0001,
          0.0001,
          0.0001,
          0.0001,
          0.0001,
          0.0001,
          0.0001,
          0.0001,
          0.0001,
          0.0001,
          0.0001,
          0.0001,
          0.0001,
          0,
          0,
          0,
          0,
          0,
          0,
          0,
          0,
          0,
          0,
          0,
          0,
          0,
          0,
          0,
          0,
          0,
          0,
          0,
          0,
          0,
          0,
          0,
          0,
          0,
          0,
          0,
          0,
          0,
          0,
          0,
          0,
          0,
          0,
          0,
          0,
          0,
          0,
          0,
          0,
          0,
          0,
          0,
          0
         ],
         "textposition": "outside",
         "type": "bar",
         "uid": "ae89057a-2a59-47a6-8edb-66a89cc81aa4",
         "x": [
          0.756346775684575,
          0.08949654117924112,
          0.034204588284956296,
          0.02648034024987192,
          0.015942521833639464,
          0.01478497971416519,
          0.006080417565222065,
          0.005060914647041278,
          0.004439660809650675,
          0.0031490815269070763,
          0.0030106213779346725,
          0.0027393946027981764,
          0.002692005998605878,
          0.0026659210920803476,
          0.0024319465150196944,
          0.0022638643070903193,
          0.0021894908758130745,
          0.001876285325362564,
          0.0016919839835358146,
          0.001614849057463401,
          0.0015646416680181277,
          0.00114733425016524,
          0.0009720551470695045,
          0.0009273489165696331,
          0.0009005552748169801,
          0.0008585685084509823,
          0.0008520799151628587,
          0.0008311516978935701,
          0.0006753852881325193,
          0.000666973852939593,
          0.0005769981074135247,
          0.0005768109414288976,
          0.0005189010740995413,
          0.0005182894916686242,
          0.0004930026115494892,
          0.0003978271780542912,
          0.00039447527106132056,
          0.0003929988373206853,
          0.00039158334886787733,
          0.00035698226555436294,
          0.00034419229967912895,
          0.00031371430765788364,
          0.00030778437787104556,
          0.00030483567160141716,
          0.0002710273146123663,
          0.00027012839311933706,
          0.00026888072396038203,
          0.00026634861580530716,
          0.00023808031185456376,
          0.00020803868295083772,
          0.00020196753767973467,
          0.00019925322123960407,
          0.00018918941374918737,
          0.00017018555829850253,
          0.00016435028361944435,
          0.00015622428277063422,
          0.00015558813309524223,
          0.0001482216147037597,
          0.00014655444328299846,
          0.0001379716588809616,
          0.00013584044434689877,
          0.0001322251162358636,
          0.00012742878950146286,
          0.0001236219432763704,
          0.00012149703184571329,
          0.00012076835864470812,
          0.00011081496115465371,
          0.0001104274332996963,
          0.00011006909981718888,
          0.00010574621643215798,
          0.00010476187920265348,
          0.00010448011253730984,
          9.766296673500497e-05,
          9.019370152638712e-05,
          7.808976791984176e-05,
          7.390012996219202e-05,
          5.979302305331619e-05,
          5.668813931440061e-05,
          5.482566836457618e-05,
          5.478033241747516e-05,
          5.034386798104281e-05,
          4.9727245386642904e-05,
          4.9425369261114445e-05,
          4.750395769460081e-05,
          4.750237674352876e-05,
          3.520979951640598e-05,
          3.40440439135451e-05,
          3.0829203432058e-05,
          2.794169857188129e-05,
          1.5172198266964905e-05,
          0,
          0,
          0,
          0,
          0,
          0,
          0,
          0,
          0,
          0,
          0,
          0,
          0,
          0,
          0,
          0,
          0,
          0,
          0,
          0,
          0,
          0,
          0,
          0,
          0,
          0,
          0,
          0,
          0,
          0,
          0,
          0,
          0,
          0,
          0
         ],
         "y": [
          "0",
          "2",
          "63",
          "42",
          "26",
          "30",
          "58",
          "3",
          "17",
          "12",
          "34",
          "44",
          "16",
          "31",
          "1",
          "72",
          "25",
          "61",
          "7",
          "13",
          "37",
          "100",
          "101",
          "54",
          "20",
          "56",
          "11",
          "93",
          "66",
          "73",
          "78",
          "33",
          "18",
          "9",
          "39",
          "27",
          "6",
          "118",
          "15",
          "69",
          "77",
          "55",
          "28",
          "23",
          "70",
          "46",
          "53",
          "51",
          "67",
          "85",
          "114",
          "90",
          "123",
          "107",
          "29",
          "89",
          "105",
          "84",
          "122",
          "74",
          "60",
          "110",
          "52",
          "119",
          "65",
          "115",
          "109",
          "112",
          "106",
          "104",
          "102",
          "94",
          "68",
          "48",
          "35",
          "124",
          "38",
          "22",
          "121",
          "81",
          "99",
          "120",
          "117",
          "116",
          "4",
          "75",
          "14",
          "76",
          "95",
          "80",
          "24",
          "36",
          "32",
          "108",
          "19",
          "111",
          "21",
          "113",
          "103",
          "10",
          "8",
          "5",
          "40",
          "45",
          "41",
          "88",
          "71",
          "79",
          "82",
          "83",
          "64",
          "59",
          "86",
          "87",
          "57",
          "43",
          "50",
          "91",
          "92",
          "49",
          "47",
          "96",
          "97",
          "98",
          "62"
         ]
        }
       ],
       "layout": {
        "autosize": false,
        "height": 1000,
        "width": 1000,
        "xaxis": {
         "tickfont": {
          "color": "black",
          "size": 12
         },
         "title": "Feature Importances"
        },
        "yaxis": {
         "automargin": true
        }
       }
      },
      "text/html": [
       "<div id=\"ed71128f-fd97-410a-a4d4-738fa86308c0\" style=\"height: 1000px; width: 1000px;\" class=\"plotly-graph-div\"></div><script type=\"text/javascript\">require([\"plotly\"], function(Plotly) { window.PLOTLYENV=window.PLOTLYENV || {};window.PLOTLYENV.BASE_URL=\"https://plot.ly\";Plotly.newPlot(\"ed71128f-fd97-410a-a4d4-738fa86308c0\", [{\"marker\": {\"color\": \"rgb(158,202,225)\", \"line\": {\"color\": \"rgb(8,48,107)\", \"width\": 1.5}}, \"opacity\": 0.6, \"orientation\": \"h\", \"text\": [0.7563, 0.0895, 0.0342, 0.0265, 0.0159, 0.0148, 0.0061, 0.0051, 0.0044, 0.0031, 0.003, 0.0027, 0.0027, 0.0027, 0.0024, 0.0023, 0.0022, 0.0019, 0.0017, 0.0016, 0.0016, 0.0011, 0.001, 0.0009, 0.0009, 0.0009, 0.0009, 0.0008, 0.0007, 0.0007, 0.0006, 0.0006, 0.0005, 0.0005, 0.0005, 0.0004, 0.0004, 0.0004, 0.0004, 0.0004, 0.0003, 0.0003, 0.0003, 0.0003, 0.0003, 0.0003, 0.0003, 0.0003, 0.0002, 0.0002, 0.0002, 0.0002, 0.0002, 0.0002, 0.0002, 0.0002, 0.0002, 0.0001, 0.0001, 0.0001, 0.0001, 0.0001, 0.0001, 0.0001, 0.0001, 0.0001, 0.0001, 0.0001, 0.0001, 0.0001, 0.0001, 0.0001, 0.0001, 0.0001, 0.0001, 0.0001, 0.0001, 0.0001, 0.0001, 0.0001, 0.0001, 0.0, 0.0, 0.0, 0.0, 0.0, 0.0, 0.0, 0.0, 0.0, 0.0, 0.0, 0.0, 0.0, 0.0, 0.0, 0.0, 0.0, 0.0, 0.0, 0.0, 0.0, 0.0, 0.0, 0.0, 0.0, 0.0, 0.0, 0.0, 0.0, 0.0, 0.0, 0.0, 0.0, 0.0, 0.0, 0.0, 0.0, 0.0, 0.0, 0.0, 0.0, 0.0, 0.0, 0.0], \"textposition\": \"outside\", \"x\": [0.756346775684575, 0.08949654117924112, 0.034204588284956296, 0.02648034024987192, 0.015942521833639464, 0.01478497971416519, 0.006080417565222065, 0.005060914647041278, 0.004439660809650675, 0.0031490815269070763, 0.0030106213779346725, 0.0027393946027981764, 0.002692005998605878, 0.0026659210920803476, 0.0024319465150196944, 0.0022638643070903193, 0.0021894908758130745, 0.001876285325362564, 0.0016919839835358146, 0.001614849057463401, 0.0015646416680181277, 0.00114733425016524, 0.0009720551470695045, 0.0009273489165696331, 0.0009005552748169801, 0.0008585685084509823, 0.0008520799151628587, 0.0008311516978935701, 0.0006753852881325193, 0.000666973852939593, 0.0005769981074135247, 0.0005768109414288976, 0.0005189010740995413, 0.0005182894916686242, 0.0004930026115494892, 0.0003978271780542912, 0.00039447527106132056, 0.0003929988373206853, 0.00039158334886787733, 0.00035698226555436294, 0.00034419229967912895, 0.00031371430765788364, 0.00030778437787104556, 0.00030483567160141716, 0.0002710273146123663, 0.00027012839311933706, 0.00026888072396038203, 0.00026634861580530716, 0.00023808031185456376, 0.00020803868295083772, 0.00020196753767973467, 0.00019925322123960407, 0.00018918941374918737, 0.00017018555829850253, 0.00016435028361944435, 0.00015622428277063422, 0.00015558813309524223, 0.0001482216147037597, 0.00014655444328299846, 0.0001379716588809616, 0.00013584044434689877, 0.0001322251162358636, 0.00012742878950146286, 0.0001236219432763704, 0.00012149703184571329, 0.00012076835864470812, 0.00011081496115465371, 0.0001104274332996963, 0.00011006909981718888, 0.00010574621643215798, 0.00010476187920265348, 0.00010448011253730984, 9.766296673500497e-05, 9.019370152638712e-05, 7.808976791984176e-05, 7.390012996219202e-05, 5.979302305331619e-05, 5.668813931440061e-05, 5.482566836457618e-05, 5.478033241747516e-05, 5.034386798104281e-05, 4.9727245386642904e-05, 4.9425369261114445e-05, 4.750395769460081e-05, 4.750237674352876e-05, 3.520979951640598e-05, 3.40440439135451e-05, 3.0829203432058e-05, 2.794169857188129e-05, 1.5172198266964905e-05, 0.0, 0.0, 0.0, 0.0, 0.0, 0.0, 0.0, 0.0, 0.0, 0.0, 0.0, 0.0, 0.0, 0.0, 0.0, 0.0, 0.0, 0.0, 0.0, 0.0, 0.0, 0.0, 0.0, 0.0, 0.0, 0.0, 0.0, 0.0, 0.0, 0.0, 0.0, 0.0, 0.0, 0.0, 0.0], \"y\": [\"0\", \"2\", \"63\", \"42\", \"26\", \"30\", \"58\", \"3\", \"17\", \"12\", \"34\", \"44\", \"16\", \"31\", \"1\", \"72\", \"25\", \"61\", \"7\", \"13\", \"37\", \"100\", \"101\", \"54\", \"20\", \"56\", \"11\", \"93\", \"66\", \"73\", \"78\", \"33\", \"18\", \"9\", \"39\", \"27\", \"6\", \"118\", \"15\", \"69\", \"77\", \"55\", \"28\", \"23\", \"70\", \"46\", \"53\", \"51\", \"67\", \"85\", \"114\", \"90\", \"123\", \"107\", \"29\", \"89\", \"105\", \"84\", \"122\", \"74\", \"60\", \"110\", \"52\", \"119\", \"65\", \"115\", \"109\", \"112\", \"106\", \"104\", \"102\", \"94\", \"68\", \"48\", \"35\", \"124\", \"38\", \"22\", \"121\", \"81\", \"99\", \"120\", \"117\", \"116\", \"4\", \"75\", \"14\", \"76\", \"95\", \"80\", \"24\", \"36\", \"32\", \"108\", \"19\", \"111\", \"21\", \"113\", \"103\", \"10\", \"8\", \"5\", \"40\", \"45\", \"41\", \"88\", \"71\", \"79\", \"82\", \"83\", \"64\", \"59\", \"86\", \"87\", \"57\", \"43\", \"50\", \"91\", \"92\", \"49\", \"47\", \"96\", \"97\", \"98\", \"62\"], \"type\": \"bar\", \"uid\": \"ae89057a-2a59-47a6-8edb-66a89cc81aa4\"}], {\"autosize\": false, \"height\": 1000, \"width\": 1000, \"xaxis\": {\"tickfont\": {\"color\": \"black\", \"size\": 12}, \"title\": \"Feature Importances\"}, \"yaxis\": {\"automargin\": true}}, {\"showLink\": true, \"linkText\": \"Export to plot.ly\", \"plotlyServerURL\": \"https://plot.ly\"})});</script>"
      ],
      "text/vnd.plotly.v1+html": [
       "<div id=\"ed71128f-fd97-410a-a4d4-738fa86308c0\" style=\"height: 1000px; width: 1000px;\" class=\"plotly-graph-div\"></div><script type=\"text/javascript\">require([\"plotly\"], function(Plotly) { window.PLOTLYENV=window.PLOTLYENV || {};window.PLOTLYENV.BASE_URL=\"https://plot.ly\";Plotly.newPlot(\"ed71128f-fd97-410a-a4d4-738fa86308c0\", [{\"marker\": {\"color\": \"rgb(158,202,225)\", \"line\": {\"color\": \"rgb(8,48,107)\", \"width\": 1.5}}, \"opacity\": 0.6, \"orientation\": \"h\", \"text\": [0.7563, 0.0895, 0.0342, 0.0265, 0.0159, 0.0148, 0.0061, 0.0051, 0.0044, 0.0031, 0.003, 0.0027, 0.0027, 0.0027, 0.0024, 0.0023, 0.0022, 0.0019, 0.0017, 0.0016, 0.0016, 0.0011, 0.001, 0.0009, 0.0009, 0.0009, 0.0009, 0.0008, 0.0007, 0.0007, 0.0006, 0.0006, 0.0005, 0.0005, 0.0005, 0.0004, 0.0004, 0.0004, 0.0004, 0.0004, 0.0003, 0.0003, 0.0003, 0.0003, 0.0003, 0.0003, 0.0003, 0.0003, 0.0002, 0.0002, 0.0002, 0.0002, 0.0002, 0.0002, 0.0002, 0.0002, 0.0002, 0.0001, 0.0001, 0.0001, 0.0001, 0.0001, 0.0001, 0.0001, 0.0001, 0.0001, 0.0001, 0.0001, 0.0001, 0.0001, 0.0001, 0.0001, 0.0001, 0.0001, 0.0001, 0.0001, 0.0001, 0.0001, 0.0001, 0.0001, 0.0001, 0.0, 0.0, 0.0, 0.0, 0.0, 0.0, 0.0, 0.0, 0.0, 0.0, 0.0, 0.0, 0.0, 0.0, 0.0, 0.0, 0.0, 0.0, 0.0, 0.0, 0.0, 0.0, 0.0, 0.0, 0.0, 0.0, 0.0, 0.0, 0.0, 0.0, 0.0, 0.0, 0.0, 0.0, 0.0, 0.0, 0.0, 0.0, 0.0, 0.0, 0.0, 0.0, 0.0, 0.0], \"textposition\": \"outside\", \"x\": [0.756346775684575, 0.08949654117924112, 0.034204588284956296, 0.02648034024987192, 0.015942521833639464, 0.01478497971416519, 0.006080417565222065, 0.005060914647041278, 0.004439660809650675, 0.0031490815269070763, 0.0030106213779346725, 0.0027393946027981764, 0.002692005998605878, 0.0026659210920803476, 0.0024319465150196944, 0.0022638643070903193, 0.0021894908758130745, 0.001876285325362564, 0.0016919839835358146, 0.001614849057463401, 0.0015646416680181277, 0.00114733425016524, 0.0009720551470695045, 0.0009273489165696331, 0.0009005552748169801, 0.0008585685084509823, 0.0008520799151628587, 0.0008311516978935701, 0.0006753852881325193, 0.000666973852939593, 0.0005769981074135247, 0.0005768109414288976, 0.0005189010740995413, 0.0005182894916686242, 0.0004930026115494892, 0.0003978271780542912, 0.00039447527106132056, 0.0003929988373206853, 0.00039158334886787733, 0.00035698226555436294, 0.00034419229967912895, 0.00031371430765788364, 0.00030778437787104556, 0.00030483567160141716, 0.0002710273146123663, 0.00027012839311933706, 0.00026888072396038203, 0.00026634861580530716, 0.00023808031185456376, 0.00020803868295083772, 0.00020196753767973467, 0.00019925322123960407, 0.00018918941374918737, 0.00017018555829850253, 0.00016435028361944435, 0.00015622428277063422, 0.00015558813309524223, 0.0001482216147037597, 0.00014655444328299846, 0.0001379716588809616, 0.00013584044434689877, 0.0001322251162358636, 0.00012742878950146286, 0.0001236219432763704, 0.00012149703184571329, 0.00012076835864470812, 0.00011081496115465371, 0.0001104274332996963, 0.00011006909981718888, 0.00010574621643215798, 0.00010476187920265348, 0.00010448011253730984, 9.766296673500497e-05, 9.019370152638712e-05, 7.808976791984176e-05, 7.390012996219202e-05, 5.979302305331619e-05, 5.668813931440061e-05, 5.482566836457618e-05, 5.478033241747516e-05, 5.034386798104281e-05, 4.9727245386642904e-05, 4.9425369261114445e-05, 4.750395769460081e-05, 4.750237674352876e-05, 3.520979951640598e-05, 3.40440439135451e-05, 3.0829203432058e-05, 2.794169857188129e-05, 1.5172198266964905e-05, 0.0, 0.0, 0.0, 0.0, 0.0, 0.0, 0.0, 0.0, 0.0, 0.0, 0.0, 0.0, 0.0, 0.0, 0.0, 0.0, 0.0, 0.0, 0.0, 0.0, 0.0, 0.0, 0.0, 0.0, 0.0, 0.0, 0.0, 0.0, 0.0, 0.0, 0.0, 0.0, 0.0, 0.0, 0.0], \"y\": [\"0\", \"2\", \"63\", \"42\", \"26\", \"30\", \"58\", \"3\", \"17\", \"12\", \"34\", \"44\", \"16\", \"31\", \"1\", \"72\", \"25\", \"61\", \"7\", \"13\", \"37\", \"100\", \"101\", \"54\", \"20\", \"56\", \"11\", \"93\", \"66\", \"73\", \"78\", \"33\", \"18\", \"9\", \"39\", \"27\", \"6\", \"118\", \"15\", \"69\", \"77\", \"55\", \"28\", \"23\", \"70\", \"46\", \"53\", \"51\", \"67\", \"85\", \"114\", \"90\", \"123\", \"107\", \"29\", \"89\", \"105\", \"84\", \"122\", \"74\", \"60\", \"110\", \"52\", \"119\", \"65\", \"115\", \"109\", \"112\", \"106\", \"104\", \"102\", \"94\", \"68\", \"48\", \"35\", \"124\", \"38\", \"22\", \"121\", \"81\", \"99\", \"120\", \"117\", \"116\", \"4\", \"75\", \"14\", \"76\", \"95\", \"80\", \"24\", \"36\", \"32\", \"108\", \"19\", \"111\", \"21\", \"113\", \"103\", \"10\", \"8\", \"5\", \"40\", \"45\", \"41\", \"88\", \"71\", \"79\", \"82\", \"83\", \"64\", \"59\", \"86\", \"87\", \"57\", \"43\", \"50\", \"91\", \"92\", \"49\", \"47\", \"96\", \"97\", \"98\", \"62\"], \"type\": \"bar\", \"uid\": \"ae89057a-2a59-47a6-8edb-66a89cc81aa4\"}], {\"autosize\": false, \"height\": 1000, \"width\": 1000, \"xaxis\": {\"tickfont\": {\"color\": \"black\", \"size\": 12}, \"title\": \"Feature Importances\"}, \"yaxis\": {\"automargin\": true}}, {\"showLink\": true, \"linkText\": \"Export to plot.ly\", \"plotlyServerURL\": \"https://plot.ly\"})});</script>"
      ]
     },
     "metadata": {},
     "output_type": "display_data"
    },
    {
     "name": "stdout",
     "output_type": "stream",
     "text": [
      "\n",
      "\n",
      "\u001b[1mExtraTree Classifier\u001b[0m\n",
      "Accuracy of the model for training data is: 0.9981405862622138\n",
      "Confusion Matrix for training data is:\n"
     ]
    },
    {
     "data": {
      "text/plain": [
       "Predicted  False  True  __all__\n",
       "Actual                         \n",
       "False      24324     3    24327\n",
       "True          48  3053     3101\n",
       "__all__    24372  3056    27428"
      ]
     },
     "metadata": {},
     "output_type": "display_data"
    },
    {
     "name": "stdout",
     "output_type": "stream",
     "text": [
      "Accuracy of the model for test data is: 0.9696299447043811\n",
      "Confusion Matrix for test data is:\n"
     ]
    },
    {
     "data": {
      "text/plain": [
       "Predicted  False  True  __all__\n",
       "Actual                         \n",
       "False      10349    66    10415\n",
       "True         291  1049     1340\n",
       "__all__    10640  1115    11755"
      ]
     },
     "metadata": {},
     "output_type": "display_data"
    },
    {
     "data": {
      "application/vnd.plotly.v1+json": {
       "config": {
        "linkText": "Export to plot.ly",
        "plotlyServerURL": "https://plot.ly",
        "showLink": true
       },
       "data": [
        {
         "marker": {
          "color": "rgb(158,202,225)",
          "line": {
           "color": "rgb(8,48,107)",
           "width": 1.5
          }
         },
         "opacity": 0.6,
         "orientation": "h",
         "text": [
          0.1164,
          0.0425,
          0.0322,
          0.0322,
          0.0196,
          0.0161,
          0.0144,
          0.014,
          0.0129,
          0.0128,
          0.0127,
          0.0126,
          0.0118,
          0.0111,
          0.0107,
          0.0102,
          0.01,
          0.0093,
          0.0091,
          0.0089,
          0.0088,
          0.0087,
          0.0086,
          0.0086,
          0.0086,
          0.0086,
          0.0085,
          0.0085,
          0.0085,
          0.0084,
          0.0084,
          0.0078,
          0.0078,
          0.0077,
          0.0074,
          0.0074,
          0.0073,
          0.0072,
          0.0071,
          0.0071,
          0.0071,
          0.007,
          0.0068,
          0.0068,
          0.0067,
          0.0066,
          0.0065,
          0.0064,
          0.0063,
          0.0063,
          0.0062,
          0.0062,
          0.0061,
          0.006,
          0.006,
          0.006,
          0.006,
          0.0057,
          0.0057,
          0.0057,
          0.0057,
          0.0057,
          0.0056,
          0.0054,
          0.0054,
          0.0054,
          0.0054,
          0.0054,
          0.0054,
          0.0053,
          0.0053,
          0.0052,
          0.0052,
          0.0052,
          0.0052,
          0.0052,
          0.0051,
          0.0051,
          0.0051,
          0.0051,
          0.005,
          0.005,
          0.0049,
          0.0049,
          0.0048,
          0.0048,
          0.0047,
          0.0047,
          0.0046,
          0.0046,
          0.0046,
          0.0045,
          0.0044,
          0.0044,
          0.0044,
          0.0043,
          0.0043,
          0.0043,
          0.0043,
          0.0043,
          0.0042,
          0.0042,
          0.0042,
          0.0042,
          0.0042,
          0.0041,
          0.004,
          0.004,
          0.004,
          0.004,
          0.0039,
          0.0039,
          0.0039,
          0.0039,
          0.0039,
          0.0038,
          0.0038,
          0.0038,
          0.0037,
          0.0034,
          0.0034,
          0.0033,
          0.0032,
          0.0032,
          0.0029
         ],
         "textposition": "outside",
         "type": "bar",
         "uid": "be6f226c-e77c-4a99-ac1d-6525d9db3ca6",
         "x": [
          0.11638900789176101,
          0.04250803214942093,
          0.03224847500426409,
          0.032202501050424395,
          0.019604729584507822,
          0.016082140166192544,
          0.014405149080631447,
          0.013978678872966235,
          0.012905272922719821,
          0.012804042980098598,
          0.012654552805256725,
          0.01259455440931132,
          0.011834383352679178,
          0.011091347902351958,
          0.010742955194218804,
          0.010247851385714098,
          0.009953781967334974,
          0.009330796240619974,
          0.009117031770687803,
          0.008938745567545476,
          0.008842660008098528,
          0.00866332625914948,
          0.008639348818831664,
          0.008605062723096867,
          0.008598281531738621,
          0.008568206779371852,
          0.008538527506863463,
          0.00848588957594213,
          0.00847715246942176,
          0.00836592665375856,
          0.008357081593028759,
          0.007791230517185901,
          0.00778418531083185,
          0.007714086583435355,
          0.007384650611909313,
          0.007359098333192454,
          0.007285009783556509,
          0.00724642836090666,
          0.007147186584758075,
          0.0071320951748373804,
          0.007076766303088412,
          0.006987597637172797,
          0.006840758875033189,
          0.006801047290689926,
          0.006662851062820094,
          0.006609619189666132,
          0.00646446705303102,
          0.006373267100399875,
          0.006344860419753495,
          0.0062539323415954015,
          0.006245557530217309,
          0.006201450052139133,
          0.006117756372540101,
          0.0060497147191543085,
          0.006036280337462881,
          0.0060028725867011115,
          0.005977839803093578,
          0.00574719714818426,
          0.005744620121251787,
          0.005731463332463748,
          0.0057299238667980895,
          0.005707846247069298,
          0.005629918610940641,
          0.005410812367606357,
          0.005382858317769523,
          0.005379006722221738,
          0.005376172451452457,
          0.005359558789650605,
          0.005359209099394711,
          0.0053000908662604,
          0.005254012062758081,
          0.005215214486631531,
          0.00520253015716666,
          0.005199037635372501,
          0.005165274445719267,
          0.005153859401921769,
          0.005135825411833876,
          0.005129461457601447,
          0.005099374098551731,
          0.005094207215675718,
          0.005029631004869172,
          0.004962717756961475,
          0.004899232727125223,
          0.004852184885189928,
          0.00481953507871698,
          0.004805171432723597,
          0.00468696876459832,
          0.004663362765561862,
          0.004626366266597235,
          0.004611781366229044,
          0.004589508574411303,
          0.004523923307458501,
          0.004396940019308338,
          0.004374635996790824,
          0.004366102050937166,
          0.0043357212025447725,
          0.004319551859497032,
          0.004281966868432913,
          0.004277971191202409,
          0.004270044610275188,
          0.004214947804888173,
          0.004203594647982761,
          0.004196732235245376,
          0.004175090576534558,
          0.0041607017635031315,
          0.004074147375099854,
          0.004014461458452307,
          0.004002110515736104,
          0.003987027469316384,
          0.003970915084589284,
          0.003932564723778527,
          0.003931760126524917,
          0.0039046442599775153,
          0.003899630113700754,
          0.003875463754461745,
          0.003777153334834382,
          0.0037766143245343527,
          0.0037670117592252354,
          0.0037479621925379466,
          0.003444828111179544,
          0.003427729393104826,
          0.003321972581314582,
          0.003231595136168508,
          0.0031757384453837112,
          0.0029187066150167785
         ],
         "y": [
          "2",
          "0",
          "30",
          "3",
          "1",
          "31",
          "10",
          "104",
          "7",
          "68",
          "63",
          "5",
          "26",
          "44",
          "29",
          "80",
          "28",
          "34",
          "71",
          "43",
          "67",
          "79",
          "16",
          "65",
          "45",
          "37",
          "4",
          "36",
          "93",
          "72",
          "60",
          "61",
          "17",
          "27",
          "40",
          "69",
          "52",
          "9",
          "18",
          "14",
          "12",
          "96",
          "91",
          "35",
          "32",
          "105",
          "38",
          "39",
          "99",
          "6",
          "62",
          "11",
          "22",
          "42",
          "114",
          "8",
          "74",
          "20",
          "98",
          "111",
          "66",
          "54",
          "102",
          "73",
          "53",
          "55",
          "58",
          "108",
          "76",
          "48",
          "83",
          "117",
          "59",
          "78",
          "57",
          "13",
          "97",
          "94",
          "84",
          "25",
          "51",
          "113",
          "122",
          "64",
          "89",
          "87",
          "118",
          "56",
          "21",
          "112",
          "124",
          "41",
          "106",
          "47",
          "19",
          "88",
          "120",
          "101",
          "15",
          "82",
          "33",
          "23",
          "100",
          "121",
          "119",
          "50",
          "90",
          "110",
          "95",
          "49",
          "75",
          "109",
          "46",
          "70",
          "85",
          "24",
          "107",
          "123",
          "115",
          "116",
          "77",
          "81",
          "103",
          "86",
          "92"
         ]
        }
       ],
       "layout": {
        "autosize": false,
        "height": 1000,
        "width": 1000,
        "xaxis": {
         "tickfont": {
          "color": "black",
          "size": 12
         },
         "title": "Feature Importances"
        },
        "yaxis": {
         "automargin": true
        }
       }
      },
      "text/html": [
       "<div id=\"f9884637-2fbb-47fc-a7ba-dc6442c7e425\" style=\"height: 1000px; width: 1000px;\" class=\"plotly-graph-div\"></div><script type=\"text/javascript\">require([\"plotly\"], function(Plotly) { window.PLOTLYENV=window.PLOTLYENV || {};window.PLOTLYENV.BASE_URL=\"https://plot.ly\";Plotly.newPlot(\"f9884637-2fbb-47fc-a7ba-dc6442c7e425\", [{\"marker\": {\"color\": \"rgb(158,202,225)\", \"line\": {\"color\": \"rgb(8,48,107)\", \"width\": 1.5}}, \"opacity\": 0.6, \"orientation\": \"h\", \"text\": [0.1164, 0.0425, 0.0322, 0.0322, 0.0196, 0.0161, 0.0144, 0.014, 0.0129, 0.0128, 0.0127, 0.0126, 0.0118, 0.0111, 0.0107, 0.0102, 0.01, 0.0093, 0.0091, 0.0089, 0.0088, 0.0087, 0.0086, 0.0086, 0.0086, 0.0086, 0.0085, 0.0085, 0.0085, 0.0084, 0.0084, 0.0078, 0.0078, 0.0077, 0.0074, 0.0074, 0.0073, 0.0072, 0.0071, 0.0071, 0.0071, 0.007, 0.0068, 0.0068, 0.0067, 0.0066, 0.0065, 0.0064, 0.0063, 0.0063, 0.0062, 0.0062, 0.0061, 0.006, 0.006, 0.006, 0.006, 0.0057, 0.0057, 0.0057, 0.0057, 0.0057, 0.0056, 0.0054, 0.0054, 0.0054, 0.0054, 0.0054, 0.0054, 0.0053, 0.0053, 0.0052, 0.0052, 0.0052, 0.0052, 0.0052, 0.0051, 0.0051, 0.0051, 0.0051, 0.005, 0.005, 0.0049, 0.0049, 0.0048, 0.0048, 0.0047, 0.0047, 0.0046, 0.0046, 0.0046, 0.0045, 0.0044, 0.0044, 0.0044, 0.0043, 0.0043, 0.0043, 0.0043, 0.0043, 0.0042, 0.0042, 0.0042, 0.0042, 0.0042, 0.0041, 0.004, 0.004, 0.004, 0.004, 0.0039, 0.0039, 0.0039, 0.0039, 0.0039, 0.0038, 0.0038, 0.0038, 0.0037, 0.0034, 0.0034, 0.0033, 0.0032, 0.0032, 0.0029], \"textposition\": \"outside\", \"x\": [0.11638900789176101, 0.04250803214942093, 0.03224847500426409, 0.032202501050424395, 0.019604729584507822, 0.016082140166192544, 0.014405149080631447, 0.013978678872966235, 0.012905272922719821, 0.012804042980098598, 0.012654552805256725, 0.01259455440931132, 0.011834383352679178, 0.011091347902351958, 0.010742955194218804, 0.010247851385714098, 0.009953781967334974, 0.009330796240619974, 0.009117031770687803, 0.008938745567545476, 0.008842660008098528, 0.00866332625914948, 0.008639348818831664, 0.008605062723096867, 0.008598281531738621, 0.008568206779371852, 0.008538527506863463, 0.00848588957594213, 0.00847715246942176, 0.00836592665375856, 0.008357081593028759, 0.007791230517185901, 0.00778418531083185, 0.007714086583435355, 0.007384650611909313, 0.007359098333192454, 0.007285009783556509, 0.00724642836090666, 0.007147186584758075, 0.0071320951748373804, 0.007076766303088412, 0.006987597637172797, 0.006840758875033189, 0.006801047290689926, 0.006662851062820094, 0.006609619189666132, 0.00646446705303102, 0.006373267100399875, 0.006344860419753495, 0.0062539323415954015, 0.006245557530217309, 0.006201450052139133, 0.006117756372540101, 0.0060497147191543085, 0.006036280337462881, 0.0060028725867011115, 0.005977839803093578, 0.00574719714818426, 0.005744620121251787, 0.005731463332463748, 0.0057299238667980895, 0.005707846247069298, 0.005629918610940641, 0.005410812367606357, 0.005382858317769523, 0.005379006722221738, 0.005376172451452457, 0.005359558789650605, 0.005359209099394711, 0.0053000908662604, 0.005254012062758081, 0.005215214486631531, 0.00520253015716666, 0.005199037635372501, 0.005165274445719267, 0.005153859401921769, 0.005135825411833876, 0.005129461457601447, 0.005099374098551731, 0.005094207215675718, 0.005029631004869172, 0.004962717756961475, 0.004899232727125223, 0.004852184885189928, 0.00481953507871698, 0.004805171432723597, 0.00468696876459832, 0.004663362765561862, 0.004626366266597235, 0.004611781366229044, 0.004589508574411303, 0.004523923307458501, 0.004396940019308338, 0.004374635996790824, 0.004366102050937166, 0.0043357212025447725, 0.004319551859497032, 0.004281966868432913, 0.004277971191202409, 0.004270044610275188, 0.004214947804888173, 0.004203594647982761, 0.004196732235245376, 0.004175090576534558, 0.0041607017635031315, 0.004074147375099854, 0.004014461458452307, 0.004002110515736104, 0.003987027469316384, 0.003970915084589284, 0.003932564723778527, 0.003931760126524917, 0.0039046442599775153, 0.003899630113700754, 0.003875463754461745, 0.003777153334834382, 0.0037766143245343527, 0.0037670117592252354, 0.0037479621925379466, 0.003444828111179544, 0.003427729393104826, 0.003321972581314582, 0.003231595136168508, 0.0031757384453837112, 0.0029187066150167785], \"y\": [\"2\", \"0\", \"30\", \"3\", \"1\", \"31\", \"10\", \"104\", \"7\", \"68\", \"63\", \"5\", \"26\", \"44\", \"29\", \"80\", \"28\", \"34\", \"71\", \"43\", \"67\", \"79\", \"16\", \"65\", \"45\", \"37\", \"4\", \"36\", \"93\", \"72\", \"60\", \"61\", \"17\", \"27\", \"40\", \"69\", \"52\", \"9\", \"18\", \"14\", \"12\", \"96\", \"91\", \"35\", \"32\", \"105\", \"38\", \"39\", \"99\", \"6\", \"62\", \"11\", \"22\", \"42\", \"114\", \"8\", \"74\", \"20\", \"98\", \"111\", \"66\", \"54\", \"102\", \"73\", \"53\", \"55\", \"58\", \"108\", \"76\", \"48\", \"83\", \"117\", \"59\", \"78\", \"57\", \"13\", \"97\", \"94\", \"84\", \"25\", \"51\", \"113\", \"122\", \"64\", \"89\", \"87\", \"118\", \"56\", \"21\", \"112\", \"124\", \"41\", \"106\", \"47\", \"19\", \"88\", \"120\", \"101\", \"15\", \"82\", \"33\", \"23\", \"100\", \"121\", \"119\", \"50\", \"90\", \"110\", \"95\", \"49\", \"75\", \"109\", \"46\", \"70\", \"85\", \"24\", \"107\", \"123\", \"115\", \"116\", \"77\", \"81\", \"103\", \"86\", \"92\"], \"type\": \"bar\", \"uid\": \"be6f226c-e77c-4a99-ac1d-6525d9db3ca6\"}], {\"autosize\": false, \"height\": 1000, \"width\": 1000, \"xaxis\": {\"tickfont\": {\"color\": \"black\", \"size\": 12}, \"title\": \"Feature Importances\"}, \"yaxis\": {\"automargin\": true}}, {\"showLink\": true, \"linkText\": \"Export to plot.ly\", \"plotlyServerURL\": \"https://plot.ly\"})});</script>"
      ],
      "text/vnd.plotly.v1+html": [
       "<div id=\"f9884637-2fbb-47fc-a7ba-dc6442c7e425\" style=\"height: 1000px; width: 1000px;\" class=\"plotly-graph-div\"></div><script type=\"text/javascript\">require([\"plotly\"], function(Plotly) { window.PLOTLYENV=window.PLOTLYENV || {};window.PLOTLYENV.BASE_URL=\"https://plot.ly\";Plotly.newPlot(\"f9884637-2fbb-47fc-a7ba-dc6442c7e425\", [{\"marker\": {\"color\": \"rgb(158,202,225)\", \"line\": {\"color\": \"rgb(8,48,107)\", \"width\": 1.5}}, \"opacity\": 0.6, \"orientation\": \"h\", \"text\": [0.1164, 0.0425, 0.0322, 0.0322, 0.0196, 0.0161, 0.0144, 0.014, 0.0129, 0.0128, 0.0127, 0.0126, 0.0118, 0.0111, 0.0107, 0.0102, 0.01, 0.0093, 0.0091, 0.0089, 0.0088, 0.0087, 0.0086, 0.0086, 0.0086, 0.0086, 0.0085, 0.0085, 0.0085, 0.0084, 0.0084, 0.0078, 0.0078, 0.0077, 0.0074, 0.0074, 0.0073, 0.0072, 0.0071, 0.0071, 0.0071, 0.007, 0.0068, 0.0068, 0.0067, 0.0066, 0.0065, 0.0064, 0.0063, 0.0063, 0.0062, 0.0062, 0.0061, 0.006, 0.006, 0.006, 0.006, 0.0057, 0.0057, 0.0057, 0.0057, 0.0057, 0.0056, 0.0054, 0.0054, 0.0054, 0.0054, 0.0054, 0.0054, 0.0053, 0.0053, 0.0052, 0.0052, 0.0052, 0.0052, 0.0052, 0.0051, 0.0051, 0.0051, 0.0051, 0.005, 0.005, 0.0049, 0.0049, 0.0048, 0.0048, 0.0047, 0.0047, 0.0046, 0.0046, 0.0046, 0.0045, 0.0044, 0.0044, 0.0044, 0.0043, 0.0043, 0.0043, 0.0043, 0.0043, 0.0042, 0.0042, 0.0042, 0.0042, 0.0042, 0.0041, 0.004, 0.004, 0.004, 0.004, 0.0039, 0.0039, 0.0039, 0.0039, 0.0039, 0.0038, 0.0038, 0.0038, 0.0037, 0.0034, 0.0034, 0.0033, 0.0032, 0.0032, 0.0029], \"textposition\": \"outside\", \"x\": [0.11638900789176101, 0.04250803214942093, 0.03224847500426409, 0.032202501050424395, 0.019604729584507822, 0.016082140166192544, 0.014405149080631447, 0.013978678872966235, 0.012905272922719821, 0.012804042980098598, 0.012654552805256725, 0.01259455440931132, 0.011834383352679178, 0.011091347902351958, 0.010742955194218804, 0.010247851385714098, 0.009953781967334974, 0.009330796240619974, 0.009117031770687803, 0.008938745567545476, 0.008842660008098528, 0.00866332625914948, 0.008639348818831664, 0.008605062723096867, 0.008598281531738621, 0.008568206779371852, 0.008538527506863463, 0.00848588957594213, 0.00847715246942176, 0.00836592665375856, 0.008357081593028759, 0.007791230517185901, 0.00778418531083185, 0.007714086583435355, 0.007384650611909313, 0.007359098333192454, 0.007285009783556509, 0.00724642836090666, 0.007147186584758075, 0.0071320951748373804, 0.007076766303088412, 0.006987597637172797, 0.006840758875033189, 0.006801047290689926, 0.006662851062820094, 0.006609619189666132, 0.00646446705303102, 0.006373267100399875, 0.006344860419753495, 0.0062539323415954015, 0.006245557530217309, 0.006201450052139133, 0.006117756372540101, 0.0060497147191543085, 0.006036280337462881, 0.0060028725867011115, 0.005977839803093578, 0.00574719714818426, 0.005744620121251787, 0.005731463332463748, 0.0057299238667980895, 0.005707846247069298, 0.005629918610940641, 0.005410812367606357, 0.005382858317769523, 0.005379006722221738, 0.005376172451452457, 0.005359558789650605, 0.005359209099394711, 0.0053000908662604, 0.005254012062758081, 0.005215214486631531, 0.00520253015716666, 0.005199037635372501, 0.005165274445719267, 0.005153859401921769, 0.005135825411833876, 0.005129461457601447, 0.005099374098551731, 0.005094207215675718, 0.005029631004869172, 0.004962717756961475, 0.004899232727125223, 0.004852184885189928, 0.00481953507871698, 0.004805171432723597, 0.00468696876459832, 0.004663362765561862, 0.004626366266597235, 0.004611781366229044, 0.004589508574411303, 0.004523923307458501, 0.004396940019308338, 0.004374635996790824, 0.004366102050937166, 0.0043357212025447725, 0.004319551859497032, 0.004281966868432913, 0.004277971191202409, 0.004270044610275188, 0.004214947804888173, 0.004203594647982761, 0.004196732235245376, 0.004175090576534558, 0.0041607017635031315, 0.004074147375099854, 0.004014461458452307, 0.004002110515736104, 0.003987027469316384, 0.003970915084589284, 0.003932564723778527, 0.003931760126524917, 0.0039046442599775153, 0.003899630113700754, 0.003875463754461745, 0.003777153334834382, 0.0037766143245343527, 0.0037670117592252354, 0.0037479621925379466, 0.003444828111179544, 0.003427729393104826, 0.003321972581314582, 0.003231595136168508, 0.0031757384453837112, 0.0029187066150167785], \"y\": [\"2\", \"0\", \"30\", \"3\", \"1\", \"31\", \"10\", \"104\", \"7\", \"68\", \"63\", \"5\", \"26\", \"44\", \"29\", \"80\", \"28\", \"34\", \"71\", \"43\", \"67\", \"79\", \"16\", \"65\", \"45\", \"37\", \"4\", \"36\", \"93\", \"72\", \"60\", \"61\", \"17\", \"27\", \"40\", \"69\", \"52\", \"9\", \"18\", \"14\", \"12\", \"96\", \"91\", \"35\", \"32\", \"105\", \"38\", \"39\", \"99\", \"6\", \"62\", \"11\", \"22\", \"42\", \"114\", \"8\", \"74\", \"20\", \"98\", \"111\", \"66\", \"54\", \"102\", \"73\", \"53\", \"55\", \"58\", \"108\", \"76\", \"48\", \"83\", \"117\", \"59\", \"78\", \"57\", \"13\", \"97\", \"94\", \"84\", \"25\", \"51\", \"113\", \"122\", \"64\", \"89\", \"87\", \"118\", \"56\", \"21\", \"112\", \"124\", \"41\", \"106\", \"47\", \"19\", \"88\", \"120\", \"101\", \"15\", \"82\", \"33\", \"23\", \"100\", \"121\", \"119\", \"50\", \"90\", \"110\", \"95\", \"49\", \"75\", \"109\", \"46\", \"70\", \"85\", \"24\", \"107\", \"123\", \"115\", \"116\", \"77\", \"81\", \"103\", \"86\", \"92\"], \"type\": \"bar\", \"uid\": \"be6f226c-e77c-4a99-ac1d-6525d9db3ca6\"}], {\"autosize\": false, \"height\": 1000, \"width\": 1000, \"xaxis\": {\"tickfont\": {\"color\": \"black\", \"size\": 12}, \"title\": \"Feature Importances\"}, \"yaxis\": {\"automargin\": true}}, {\"showLink\": true, \"linkText\": \"Export to plot.ly\", \"plotlyServerURL\": \"https://plot.ly\"})});</script>"
      ]
     },
     "metadata": {},
     "output_type": "display_data"
    },
    {
     "name": "stdout",
     "output_type": "stream",
     "text": [
      "\n",
      "\n",
      "\u001b[1mXGB Classifier\u001b[0m\n",
      "Accuracy of the model for training data is: 0.9800933352778183\n",
      "Confusion Matrix for training data is:\n"
     ]
    },
    {
     "data": {
      "text/plain": [
       "Predicted  False  True  __all__\n",
       "Actual                         \n",
       "False      24189   138    24327\n",
       "True         408  2693     3101\n",
       "__all__    24597  2831    27428"
      ]
     },
     "metadata": {},
     "output_type": "display_data"
    },
    {
     "name": "stdout",
     "output_type": "stream",
     "text": [
      "Accuracy of the model for test data is: 0.9745640153126329\n",
      "Confusion Matrix for test data is:\n"
     ]
    },
    {
     "data": {
      "text/plain": [
       "Predicted  False  True  __all__\n",
       "Actual                         \n",
       "False      10329    86    10415\n",
       "True         213  1127     1340\n",
       "__all__    10542  1213    11755"
      ]
     },
     "metadata": {},
     "output_type": "display_data"
    },
    {
     "data": {
      "application/vnd.plotly.v1+json": {
       "config": {
        "linkText": "Export to plot.ly",
        "plotlyServerURL": "https://plot.ly",
        "showLink": true
       },
       "data": [
        {
         "marker": {
          "color": "rgb(158,202,225)",
          "line": {
           "color": "rgb(8,48,107)",
           "width": 1.5
          }
         },
         "opacity": 0.6,
         "orientation": "h",
         "text": [
          0.1275,
          0.0702,
          0.0444,
          0.0444,
          0.0387,
          0.0372,
          0.033,
          0.0244,
          0.0229,
          0.0229,
          0.0186,
          0.0172,
          0.0158,
          0.0158,
          0.0143,
          0.0129,
          0.0129,
          0.0115,
          0.0115,
          0.0115,
          0.0115,
          0.01,
          0.01,
          0.01,
          0.01,
          0.01,
          0.01,
          0.01,
          0.01,
          0.0086,
          0.0086,
          0.0086,
          0.0086,
          0.0086,
          0.0086,
          0.0086,
          0.0086,
          0.0086,
          0.0086,
          0.0072,
          0.0072,
          0.0072,
          0.0072,
          0.0072,
          0.0057,
          0.0057,
          0.0057,
          0.0057,
          0.0057,
          0.0043,
          0.0043,
          0.0043,
          0.0043,
          0.0043,
          0.0043,
          0.0043,
          0.0043,
          0.0043,
          0.0043,
          0.0043,
          0.0043,
          0.0043,
          0.0043,
          0.0043,
          0.0043,
          0.0029,
          0.0029,
          0.0029,
          0.0029,
          0.0029,
          0.0029,
          0.0029,
          0.0029,
          0.0029,
          0.0029,
          0.0029,
          0.0029,
          0.0029,
          0.0029,
          0.0029,
          0.0029,
          0.0029,
          0.0029,
          0.0014,
          0.0014,
          0.0014,
          0.0014,
          0.0014,
          0.0014,
          0.0014,
          0.0014,
          0.0014,
          0.0014,
          0.0014,
          0.0014,
          0.0014,
          0.0014,
          0.0014,
          0.0014,
          0.0014,
          0.0014,
          0.0014,
          0.0014,
          0.0014,
          0,
          0,
          0,
          0,
          0,
          0,
          0,
          0,
          0,
          0,
          0,
          0,
          0,
          0,
          0,
          0,
          0,
          0,
          0,
          0,
          0
         ],
         "textposition": "outside",
         "type": "bar",
         "uid": "08bd2196-2103-4df4-aa72-7e3193f63b1f",
         "x": [
          0.12750716507434845,
          0.07020056992769241,
          0.044412609189748764,
          0.044412609189748764,
          0.03868194669485092,
          0.037249282002449036,
          0.03295128792524338,
          0.02435530163347721,
          0.022922636941075325,
          0.022922636941075325,
          0.018624641001224518,
          0.017191976308822632,
          0.015759311616420746,
          0.015759311616420746,
          0.014326647855341434,
          0.012893983162939548,
          0.012893983162939548,
          0.011461318470537663,
          0.011461318470537663,
          0.011461318470537663,
          0.011461318470537663,
          0.010028652846813202,
          0.010028652846813202,
          0.010028652846813202,
          0.010028652846813202,
          0.010028652846813202,
          0.010028652846813202,
          0.010028652846813202,
          0.010028652846813202,
          0.008595988154411316,
          0.008595988154411316,
          0.008595988154411316,
          0.008595988154411316,
          0.008595988154411316,
          0.008595988154411316,
          0.008595988154411316,
          0.008595988154411316,
          0.008595988154411316,
          0.008595988154411316,
          0.007163323927670717,
          0.007163323927670717,
          0.007163323927670717,
          0.007163323927670717,
          0.007163323927670717,
          0.005730659235268831,
          0.005730659235268831,
          0.005730659235268831,
          0.005730659235268831,
          0.005730659235268831,
          0.004297994077205658,
          0.004297994077205658,
          0.004297994077205658,
          0.004297994077205658,
          0.004297994077205658,
          0.004297994077205658,
          0.004297994077205658,
          0.004297994077205658,
          0.004297994077205658,
          0.004297994077205658,
          0.004297994077205658,
          0.004297994077205658,
          0.004297994077205658,
          0.004297994077205658,
          0.004297994077205658,
          0.004297994077205658,
          0.0028653296176344156,
          0.0028653296176344156,
          0.0028653296176344156,
          0.0028653296176344156,
          0.0028653296176344156,
          0.0028653296176344156,
          0.0028653296176344156,
          0.0028653296176344156,
          0.0028653296176344156,
          0.0028653296176344156,
          0.0028653296176344156,
          0.0028653296176344156,
          0.0028653296176344156,
          0.0028653296176344156,
          0.0028653296176344156,
          0.0028653296176344156,
          0.0028653296176344156,
          0.0028653296176344156,
          0.0014326648088172078,
          0.0014326648088172078,
          0.0014326648088172078,
          0.0014326648088172078,
          0.0014326648088172078,
          0.0014326648088172078,
          0.0014326648088172078,
          0.0014326648088172078,
          0.0014326648088172078,
          0.0014326648088172078,
          0.0014326648088172078,
          0.0014326648088172078,
          0.0014326648088172078,
          0.0014326648088172078,
          0.0014326648088172078,
          0.0014326648088172078,
          0.0014326648088172078,
          0.0014326648088172078,
          0.0014326648088172078,
          0.0014326648088172078,
          0.0014326648088172078,
          0,
          0,
          0,
          0,
          0,
          0,
          0,
          0,
          0,
          0,
          0,
          0,
          0,
          0,
          0,
          0,
          0,
          0,
          0,
          0,
          0
         ],
         "y": [
          "0",
          "2",
          "17",
          "30",
          "3",
          "1",
          "26",
          "16",
          "7",
          "12",
          "42",
          "58",
          "25",
          "6",
          "93",
          "33",
          "13",
          "100",
          "20",
          "78",
          "4",
          "92",
          "54",
          "101",
          "63",
          "37",
          "34",
          "90",
          "72",
          "51",
          "118",
          "69",
          "27",
          "117",
          "28",
          "9",
          "5",
          "44",
          "55",
          "56",
          "61",
          "46",
          "89",
          "35",
          "109",
          "123",
          "10",
          "88",
          "104",
          "81",
          "65",
          "67",
          "68",
          "77",
          "29",
          "11",
          "94",
          "31",
          "114",
          "23",
          "111",
          "19",
          "22",
          "48",
          "15",
          "122",
          "110",
          "83",
          "85",
          "75",
          "121",
          "76",
          "112",
          "124",
          "36",
          "39",
          "71",
          "43",
          "41",
          "24",
          "64",
          "47",
          "40",
          "73",
          "107",
          "108",
          "74",
          "38",
          "32",
          "115",
          "119",
          "18",
          "8",
          "98",
          "62",
          "84",
          "70",
          "49",
          "59",
          "66",
          "91",
          "60",
          "57",
          "53",
          "116",
          "82",
          "95",
          "80",
          "113",
          "79",
          "120",
          "14",
          "21",
          "86",
          "96",
          "87",
          "106",
          "105",
          "52",
          "103",
          "102",
          "45",
          "50",
          "97",
          "99"
         ]
        }
       ],
       "layout": {
        "autosize": false,
        "height": 1000,
        "width": 1000,
        "xaxis": {
         "tickfont": {
          "color": "black",
          "size": 12
         },
         "title": "Feature Importances"
        },
        "yaxis": {
         "automargin": true
        }
       }
      },
      "text/html": [
       "<div id=\"46cc0c4b-ce37-4eb2-b459-5d1ed9df98c3\" style=\"height: 1000px; width: 1000px;\" class=\"plotly-graph-div\"></div><script type=\"text/javascript\">require([\"plotly\"], function(Plotly) { window.PLOTLYENV=window.PLOTLYENV || {};window.PLOTLYENV.BASE_URL=\"https://plot.ly\";Plotly.newPlot(\"46cc0c4b-ce37-4eb2-b459-5d1ed9df98c3\", [{\"marker\": {\"color\": \"rgb(158,202,225)\", \"line\": {\"color\": \"rgb(8,48,107)\", \"width\": 1.5}}, \"opacity\": 0.6, \"orientation\": \"h\", \"text\": [0.1275, 0.0702, 0.0444, 0.0444, 0.0387, 0.0372, 0.033, 0.0244, 0.0229, 0.0229, 0.0186, 0.0172, 0.0158, 0.0158, 0.0143, 0.0129, 0.0129, 0.0115, 0.0115, 0.0115, 0.0115, 0.01, 0.01, 0.01, 0.01, 0.01, 0.01, 0.01, 0.01, 0.0086, 0.0086, 0.0086, 0.0086, 0.0086, 0.0086, 0.0086, 0.0086, 0.0086, 0.0086, 0.0072, 0.0072, 0.0072, 0.0072, 0.0072, 0.0057, 0.0057, 0.0057, 0.0057, 0.0057, 0.0043, 0.0043, 0.0043, 0.0043, 0.0043, 0.0043, 0.0043, 0.0043, 0.0043, 0.0043, 0.0043, 0.0043, 0.0043, 0.0043, 0.0043, 0.0043, 0.0029, 0.0029, 0.0029, 0.0029, 0.0029, 0.0029, 0.0029, 0.0029, 0.0029, 0.0029, 0.0029, 0.0029, 0.0029, 0.0029, 0.0029, 0.0029, 0.0029, 0.0029, 0.0014, 0.0014, 0.0014, 0.0014, 0.0014, 0.0014, 0.0014, 0.0014, 0.0014, 0.0014, 0.0014, 0.0014, 0.0014, 0.0014, 0.0014, 0.0014, 0.0014, 0.0014, 0.0014, 0.0014, 0.0014, 0.0, 0.0, 0.0, 0.0, 0.0, 0.0, 0.0, 0.0, 0.0, 0.0, 0.0, 0.0, 0.0, 0.0, 0.0, 0.0, 0.0, 0.0, 0.0, 0.0, 0.0], \"textposition\": \"outside\", \"x\": [0.12750716507434845, 0.07020056992769241, 0.044412609189748764, 0.044412609189748764, 0.03868194669485092, 0.037249282002449036, 0.03295128792524338, 0.02435530163347721, 0.022922636941075325, 0.022922636941075325, 0.018624641001224518, 0.017191976308822632, 0.015759311616420746, 0.015759311616420746, 0.014326647855341434, 0.012893983162939548, 0.012893983162939548, 0.011461318470537663, 0.011461318470537663, 0.011461318470537663, 0.011461318470537663, 0.010028652846813202, 0.010028652846813202, 0.010028652846813202, 0.010028652846813202, 0.010028652846813202, 0.010028652846813202, 0.010028652846813202, 0.010028652846813202, 0.008595988154411316, 0.008595988154411316, 0.008595988154411316, 0.008595988154411316, 0.008595988154411316, 0.008595988154411316, 0.008595988154411316, 0.008595988154411316, 0.008595988154411316, 0.008595988154411316, 0.007163323927670717, 0.007163323927670717, 0.007163323927670717, 0.007163323927670717, 0.007163323927670717, 0.005730659235268831, 0.005730659235268831, 0.005730659235268831, 0.005730659235268831, 0.005730659235268831, 0.004297994077205658, 0.004297994077205658, 0.004297994077205658, 0.004297994077205658, 0.004297994077205658, 0.004297994077205658, 0.004297994077205658, 0.004297994077205658, 0.004297994077205658, 0.004297994077205658, 0.004297994077205658, 0.004297994077205658, 0.004297994077205658, 0.004297994077205658, 0.004297994077205658, 0.004297994077205658, 0.0028653296176344156, 0.0028653296176344156, 0.0028653296176344156, 0.0028653296176344156, 0.0028653296176344156, 0.0028653296176344156, 0.0028653296176344156, 0.0028653296176344156, 0.0028653296176344156, 0.0028653296176344156, 0.0028653296176344156, 0.0028653296176344156, 0.0028653296176344156, 0.0028653296176344156, 0.0028653296176344156, 0.0028653296176344156, 0.0028653296176344156, 0.0028653296176344156, 0.0014326648088172078, 0.0014326648088172078, 0.0014326648088172078, 0.0014326648088172078, 0.0014326648088172078, 0.0014326648088172078, 0.0014326648088172078, 0.0014326648088172078, 0.0014326648088172078, 0.0014326648088172078, 0.0014326648088172078, 0.0014326648088172078, 0.0014326648088172078, 0.0014326648088172078, 0.0014326648088172078, 0.0014326648088172078, 0.0014326648088172078, 0.0014326648088172078, 0.0014326648088172078, 0.0014326648088172078, 0.0014326648088172078, 0.0, 0.0, 0.0, 0.0, 0.0, 0.0, 0.0, 0.0, 0.0, 0.0, 0.0, 0.0, 0.0, 0.0, 0.0, 0.0, 0.0, 0.0, 0.0, 0.0, 0.0], \"y\": [\"0\", \"2\", \"17\", \"30\", \"3\", \"1\", \"26\", \"16\", \"7\", \"12\", \"42\", \"58\", \"25\", \"6\", \"93\", \"33\", \"13\", \"100\", \"20\", \"78\", \"4\", \"92\", \"54\", \"101\", \"63\", \"37\", \"34\", \"90\", \"72\", \"51\", \"118\", \"69\", \"27\", \"117\", \"28\", \"9\", \"5\", \"44\", \"55\", \"56\", \"61\", \"46\", \"89\", \"35\", \"109\", \"123\", \"10\", \"88\", \"104\", \"81\", \"65\", \"67\", \"68\", \"77\", \"29\", \"11\", \"94\", \"31\", \"114\", \"23\", \"111\", \"19\", \"22\", \"48\", \"15\", \"122\", \"110\", \"83\", \"85\", \"75\", \"121\", \"76\", \"112\", \"124\", \"36\", \"39\", \"71\", \"43\", \"41\", \"24\", \"64\", \"47\", \"40\", \"73\", \"107\", \"108\", \"74\", \"38\", \"32\", \"115\", \"119\", \"18\", \"8\", \"98\", \"62\", \"84\", \"70\", \"49\", \"59\", \"66\", \"91\", \"60\", \"57\", \"53\", \"116\", \"82\", \"95\", \"80\", \"113\", \"79\", \"120\", \"14\", \"21\", \"86\", \"96\", \"87\", \"106\", \"105\", \"52\", \"103\", \"102\", \"45\", \"50\", \"97\", \"99\"], \"type\": \"bar\", \"uid\": \"08bd2196-2103-4df4-aa72-7e3193f63b1f\"}], {\"autosize\": false, \"height\": 1000, \"width\": 1000, \"xaxis\": {\"tickfont\": {\"color\": \"black\", \"size\": 12}, \"title\": \"Feature Importances\"}, \"yaxis\": {\"automargin\": true}}, {\"showLink\": true, \"linkText\": \"Export to plot.ly\", \"plotlyServerURL\": \"https://plot.ly\"})});</script>"
      ],
      "text/vnd.plotly.v1+html": [
       "<div id=\"46cc0c4b-ce37-4eb2-b459-5d1ed9df98c3\" style=\"height: 1000px; width: 1000px;\" class=\"plotly-graph-div\"></div><script type=\"text/javascript\">require([\"plotly\"], function(Plotly) { window.PLOTLYENV=window.PLOTLYENV || {};window.PLOTLYENV.BASE_URL=\"https://plot.ly\";Plotly.newPlot(\"46cc0c4b-ce37-4eb2-b459-5d1ed9df98c3\", [{\"marker\": {\"color\": \"rgb(158,202,225)\", \"line\": {\"color\": \"rgb(8,48,107)\", \"width\": 1.5}}, \"opacity\": 0.6, \"orientation\": \"h\", \"text\": [0.1275, 0.0702, 0.0444, 0.0444, 0.0387, 0.0372, 0.033, 0.0244, 0.0229, 0.0229, 0.0186, 0.0172, 0.0158, 0.0158, 0.0143, 0.0129, 0.0129, 0.0115, 0.0115, 0.0115, 0.0115, 0.01, 0.01, 0.01, 0.01, 0.01, 0.01, 0.01, 0.01, 0.0086, 0.0086, 0.0086, 0.0086, 0.0086, 0.0086, 0.0086, 0.0086, 0.0086, 0.0086, 0.0072, 0.0072, 0.0072, 0.0072, 0.0072, 0.0057, 0.0057, 0.0057, 0.0057, 0.0057, 0.0043, 0.0043, 0.0043, 0.0043, 0.0043, 0.0043, 0.0043, 0.0043, 0.0043, 0.0043, 0.0043, 0.0043, 0.0043, 0.0043, 0.0043, 0.0043, 0.0029, 0.0029, 0.0029, 0.0029, 0.0029, 0.0029, 0.0029, 0.0029, 0.0029, 0.0029, 0.0029, 0.0029, 0.0029, 0.0029, 0.0029, 0.0029, 0.0029, 0.0029, 0.0014, 0.0014, 0.0014, 0.0014, 0.0014, 0.0014, 0.0014, 0.0014, 0.0014, 0.0014, 0.0014, 0.0014, 0.0014, 0.0014, 0.0014, 0.0014, 0.0014, 0.0014, 0.0014, 0.0014, 0.0014, 0.0, 0.0, 0.0, 0.0, 0.0, 0.0, 0.0, 0.0, 0.0, 0.0, 0.0, 0.0, 0.0, 0.0, 0.0, 0.0, 0.0, 0.0, 0.0, 0.0, 0.0], \"textposition\": \"outside\", \"x\": [0.12750716507434845, 0.07020056992769241, 0.044412609189748764, 0.044412609189748764, 0.03868194669485092, 0.037249282002449036, 0.03295128792524338, 0.02435530163347721, 0.022922636941075325, 0.022922636941075325, 0.018624641001224518, 0.017191976308822632, 0.015759311616420746, 0.015759311616420746, 0.014326647855341434, 0.012893983162939548, 0.012893983162939548, 0.011461318470537663, 0.011461318470537663, 0.011461318470537663, 0.011461318470537663, 0.010028652846813202, 0.010028652846813202, 0.010028652846813202, 0.010028652846813202, 0.010028652846813202, 0.010028652846813202, 0.010028652846813202, 0.010028652846813202, 0.008595988154411316, 0.008595988154411316, 0.008595988154411316, 0.008595988154411316, 0.008595988154411316, 0.008595988154411316, 0.008595988154411316, 0.008595988154411316, 0.008595988154411316, 0.008595988154411316, 0.007163323927670717, 0.007163323927670717, 0.007163323927670717, 0.007163323927670717, 0.007163323927670717, 0.005730659235268831, 0.005730659235268831, 0.005730659235268831, 0.005730659235268831, 0.005730659235268831, 0.004297994077205658, 0.004297994077205658, 0.004297994077205658, 0.004297994077205658, 0.004297994077205658, 0.004297994077205658, 0.004297994077205658, 0.004297994077205658, 0.004297994077205658, 0.004297994077205658, 0.004297994077205658, 0.004297994077205658, 0.004297994077205658, 0.004297994077205658, 0.004297994077205658, 0.004297994077205658, 0.0028653296176344156, 0.0028653296176344156, 0.0028653296176344156, 0.0028653296176344156, 0.0028653296176344156, 0.0028653296176344156, 0.0028653296176344156, 0.0028653296176344156, 0.0028653296176344156, 0.0028653296176344156, 0.0028653296176344156, 0.0028653296176344156, 0.0028653296176344156, 0.0028653296176344156, 0.0028653296176344156, 0.0028653296176344156, 0.0028653296176344156, 0.0028653296176344156, 0.0014326648088172078, 0.0014326648088172078, 0.0014326648088172078, 0.0014326648088172078, 0.0014326648088172078, 0.0014326648088172078, 0.0014326648088172078, 0.0014326648088172078, 0.0014326648088172078, 0.0014326648088172078, 0.0014326648088172078, 0.0014326648088172078, 0.0014326648088172078, 0.0014326648088172078, 0.0014326648088172078, 0.0014326648088172078, 0.0014326648088172078, 0.0014326648088172078, 0.0014326648088172078, 0.0014326648088172078, 0.0014326648088172078, 0.0, 0.0, 0.0, 0.0, 0.0, 0.0, 0.0, 0.0, 0.0, 0.0, 0.0, 0.0, 0.0, 0.0, 0.0, 0.0, 0.0, 0.0, 0.0, 0.0, 0.0], \"y\": [\"0\", \"2\", \"17\", \"30\", \"3\", \"1\", \"26\", \"16\", \"7\", \"12\", \"42\", \"58\", \"25\", \"6\", \"93\", \"33\", \"13\", \"100\", \"20\", \"78\", \"4\", \"92\", \"54\", \"101\", \"63\", \"37\", \"34\", \"90\", \"72\", \"51\", \"118\", \"69\", \"27\", \"117\", \"28\", \"9\", \"5\", \"44\", \"55\", \"56\", \"61\", \"46\", \"89\", \"35\", \"109\", \"123\", \"10\", \"88\", \"104\", \"81\", \"65\", \"67\", \"68\", \"77\", \"29\", \"11\", \"94\", \"31\", \"114\", \"23\", \"111\", \"19\", \"22\", \"48\", \"15\", \"122\", \"110\", \"83\", \"85\", \"75\", \"121\", \"76\", \"112\", \"124\", \"36\", \"39\", \"71\", \"43\", \"41\", \"24\", \"64\", \"47\", \"40\", \"73\", \"107\", \"108\", \"74\", \"38\", \"32\", \"115\", \"119\", \"18\", \"8\", \"98\", \"62\", \"84\", \"70\", \"49\", \"59\", \"66\", \"91\", \"60\", \"57\", \"53\", \"116\", \"82\", \"95\", \"80\", \"113\", \"79\", \"120\", \"14\", \"21\", \"86\", \"96\", \"87\", \"106\", \"105\", \"52\", \"103\", \"102\", \"45\", \"50\", \"97\", \"99\"], \"type\": \"bar\", \"uid\": \"08bd2196-2103-4df4-aa72-7e3193f63b1f\"}], {\"autosize\": false, \"height\": 1000, \"width\": 1000, \"xaxis\": {\"tickfont\": {\"color\": \"black\", \"size\": 12}, \"title\": \"Feature Importances\"}, \"yaxis\": {\"automargin\": true}}, {\"showLink\": true, \"linkText\": \"Export to plot.ly\", \"plotlyServerURL\": \"https://plot.ly\"})});</script>"
      ]
     },
     "metadata": {},
     "output_type": "display_data"
    },
    {
     "name": "stdout",
     "output_type": "stream",
     "text": [
      "\n",
      "\n",
      "\u001b[1mBagging Classifier\u001b[0m\n",
      "Accuracy of the model for training data is: 0.9959894997812454\n",
      "Confusion Matrix for training data is:\n"
     ]
    },
    {
     "data": {
      "text/plain": [
       "Predicted  False  True  __all__\n",
       "Actual                         \n",
       "False      24306    21    24327\n",
       "True          89  3012     3101\n",
       "__all__    24395  3033    27428"
      ]
     },
     "metadata": {},
     "output_type": "display_data"
    },
    {
     "name": "stdout",
     "output_type": "stream",
     "text": [
      "Accuracy of the model for test data is: 0.9730327520204168\n",
      "Confusion Matrix for test data is:\n"
     ]
    },
    {
     "data": {
      "text/plain": [
       "Predicted  False  True  __all__\n",
       "Actual                         \n",
       "False      10329    86    10415\n",
       "True         231  1109     1340\n",
       "__all__    10560  1195    11755"
      ]
     },
     "metadata": {},
     "output_type": "display_data"
    },
    {
     "name": "stdout",
     "output_type": "stream",
     "text": [
      "\n",
      "\n",
      "\u001b[1mNeural Network-1\u001b[0m\n",
      "The accuracy of the model on training data is: 0.9964999270818142\n"
     ]
    },
    {
     "data": {
      "text/plain": [
       "Predicted  False  True  __all__\n",
       "Actual                         \n",
       "False      24301    26    24327\n",
       "True          70  3031     3101\n",
       "__all__    24371  3057    27428"
      ]
     },
     "metadata": {},
     "output_type": "display_data"
    },
    {
     "name": "stdout",
     "output_type": "stream",
     "text": [
      "The accuracy of the model on test data is: 0.9745640153126329\n"
     ]
    },
    {
     "data": {
      "text/plain": [
       "Predicted  False  True  __all__\n",
       "Actual                         \n",
       "False      10297   118    10415\n",
       "True         181  1159     1340\n",
       "__all__    10478  1277    11755"
      ]
     },
     "metadata": {},
     "output_type": "display_data"
    },
    {
     "name": "stdout",
     "output_type": "stream",
     "text": [
      "\n",
      "\n"
     ]
    }
   ],
   "source": [
    "table_80_50_train=pd.DataFrame(columns=['accuracy','TP','TN','FP','FN','FPR','FNR'])\n",
    "table_80_50_test=pd.DataFrame(columns=['accuracy','TP','TN','FP','FN','FPR','FNR','auc','MCC','Precision','Recall'])\n",
    "\n",
    "feat_imp=[None]*5\n",
    "j=0\n",
    "for i in range(0,8):\n",
    "    if i>=1 and i<=5:\n",
    "        model,cm_train,cm_test,acc_train,acc_test,roc_auc,feat_imp[j],mcc,prec,rec=f[i](X_train,Y_train,X_test,Y_test,np.arange(0,125).astype(str))\n",
    "        j=j+1\n",
    "    else:\n",
    "        model,cm_train,cm_test,acc_train,acc_test,roc_auc,mcc,prec,rec=f[i](X_train,Y_train,X_test,Y_test)\n",
    "    table_80_50_train.loc[i]=   ([acc_train,cm_train.TP,cm_train.TN,cm_train.FP,cm_train.FN,cm_train.FPR,cm_train.FNR])\n",
    "    table_80_50_test.loc[i] =   ([acc_test ,cm_test.TP, cm_test.TN, cm_test.FP, cm_test.FN, cm_test.FPR, cm_test.FNR,roc_auc,mcc,prec,rec])\n",
    "    print(\"\\n\")"
   ]
  },
  {
   "cell_type": "code",
   "execution_count": 33,
   "metadata": {},
   "outputs": [
    {
     "data": {
      "application/vnd.plotly.v1+json": {
       "config": {
        "linkText": "Export to plot.ly",
        "plotlyServerURL": "https://plot.ly",
        "showLink": true
       },
       "data": [
        {
         "mode": "lines",
         "name": "KNN_model",
         "type": "scatter",
         "uid": "04bd7313-266d-4f8a-ab18-dc8808ab1031",
         "x": [
          "accuracy",
          "auc",
          "MCC",
          "Precision",
          "Recall"
         ],
         "y": [
          0.9723521905572097,
          0.9073424882309529,
          0.8580284080055273,
          0.926112510495382,
          0.823134328358209
         ]
        },
        {
         "mode": "lines+markers",
         "name": "XGB",
         "type": "scatter",
         "uid": "0ca99cbb-a803-4492-8cdc-e0b062efc849",
         "x": [
          "accuracy",
          "auc",
          "MCC",
          "Precision",
          "Recall"
         ],
         "y": [
          0.9745640153126329,
          0.9163937274740078,
          0.8700101198779189,
          0.9291014014839242,
          0.841044776119403
         ]
        },
        {
         "marker": {
          "symbol": "x"
         },
         "mode": "lines+markers",
         "name": "Random Forest",
         "type": "scatter",
         "uid": "b8afcc0a-7a72-4862-bc74-5ea437d72ebc",
         "x": [
          "accuracy",
          "auc",
          "MCC",
          "Precision",
          "Recall"
         ],
         "y": [
          0.9730327520204168,
          0.9054506631508802,
          0.8611461150465254,
          0.9375534644995723,
          0.817910447761194
         ]
        },
        {
         "mode": "lines",
         "name": "Ada Boost",
         "type": "scatter",
         "uid": "2bb9b5c7-8f50-434b-a0c4-b51e70f3c46e",
         "x": [
          "accuracy",
          "auc",
          "MCC",
          "Precision",
          "Recall"
         ],
         "y": [
          0.9686941726924713,
          0.906903791173752,
          0.8407590678529697,
          0.8906752411575563,
          0.826865671641791
         ]
        },
        {
         "mode": "lines+markers",
         "name": "GradientBoosting",
         "type": "scatter",
         "uid": "22e55760-7564-4d08-94fb-7055d6bc5421",
         "x": [
          "accuracy",
          "auc",
          "MCC",
          "Precision",
          "Recall"
         ],
         "y": [
          0.9726924712888133,
          0.9117611653685486,
          0.8603308772602113,
          0.920032976092333,
          0.8328358208955224
         ]
        },
        {
         "marker": {
          "symbol": "x"
         },
         "mode": "lines+markers",
         "name": "ExtraTree Classifier",
         "type": "scatter",
         "uid": "17f06404-322f-4bf8-b876-bae400358214",
         "x": [
          "accuracy",
          "auc",
          "MCC",
          "Precision",
          "Recall"
         ],
         "y": [
          0.9696299447043811,
          0.8882494034866474,
          0.842198728589927,
          0.9408071748878923,
          0.7828358208955224
         ]
        },
        {
         "marker": {
          "symbol": "x"
         },
         "mode": "lines+markers",
         "name": "Bagging",
         "type": "scatter",
         "uid": "91c2542b-a746-4dd7-b828-67e220e1fd7a",
         "x": [
          "accuracy",
          "auc",
          "MCC",
          "Precision",
          "Recall"
         ],
         "y": [
          0.9730327520204168,
          0.9096773095635601,
          0.8616641633215341,
          0.9280334728033472,
          0.8276119402985075
         ]
        },
        {
         "marker": {
          "symbol": "x"
         },
         "mode": "lines+markers",
         "name": "Neural Network",
         "type": "scatter",
         "uid": "ce16afc3-12c4-4343-8686-ce210b6dce0d",
         "x": [
          "accuracy",
          "auc",
          "MCC",
          "Precision",
          "Recall"
         ],
         "y": [
          0.9745640153126329,
          0.9096773095635601,
          0.8717652197242038,
          0.9075959279561472,
          0.8649253731343284
         ]
        }
       ],
       "layout": {
        "title": "Result comparision for Features selected in Section 1",
        "yaxis": {
         "dtick": 0.05,
         "tick0": 0
        }
       }
      },
      "text/html": [
       "<div id=\"97b33163-85ae-4b38-af70-67e2ecda3415\" style=\"height: 525px; width: 100%;\" class=\"plotly-graph-div\"></div><script type=\"text/javascript\">require([\"plotly\"], function(Plotly) { window.PLOTLYENV=window.PLOTLYENV || {};window.PLOTLYENV.BASE_URL=\"https://plot.ly\";Plotly.newPlot(\"97b33163-85ae-4b38-af70-67e2ecda3415\", [{\"mode\": \"lines\", \"name\": \"KNN_model\", \"x\": [\"accuracy\", \"auc\", \"MCC\", \"Precision\", \"Recall\"], \"y\": [0.9723521905572097, 0.9073424882309529, 0.8580284080055273, 0.926112510495382, 0.823134328358209], \"type\": \"scatter\", \"uid\": \"04bd7313-266d-4f8a-ab18-dc8808ab1031\"}, {\"mode\": \"lines+markers\", \"name\": \"XGB\", \"x\": [\"accuracy\", \"auc\", \"MCC\", \"Precision\", \"Recall\"], \"y\": [0.9745640153126329, 0.9163937274740078, 0.8700101198779189, 0.9291014014839242, 0.841044776119403], \"type\": \"scatter\", \"uid\": \"0ca99cbb-a803-4492-8cdc-e0b062efc849\"}, {\"marker\": {\"symbol\": \"x\"}, \"mode\": \"lines+markers\", \"name\": \"Random Forest\", \"x\": [\"accuracy\", \"auc\", \"MCC\", \"Precision\", \"Recall\"], \"y\": [0.9730327520204168, 0.9054506631508802, 0.8611461150465254, 0.9375534644995723, 0.817910447761194], \"type\": \"scatter\", \"uid\": \"b8afcc0a-7a72-4862-bc74-5ea437d72ebc\"}, {\"mode\": \"lines\", \"name\": \"Ada Boost\", \"x\": [\"accuracy\", \"auc\", \"MCC\", \"Precision\", \"Recall\"], \"y\": [0.9686941726924713, 0.906903791173752, 0.8407590678529697, 0.8906752411575563, 0.826865671641791], \"type\": \"scatter\", \"uid\": \"2bb9b5c7-8f50-434b-a0c4-b51e70f3c46e\"}, {\"mode\": \"lines+markers\", \"name\": \"GradientBoosting\", \"x\": [\"accuracy\", \"auc\", \"MCC\", \"Precision\", \"Recall\"], \"y\": [0.9726924712888133, 0.9117611653685486, 0.8603308772602113, 0.920032976092333, 0.8328358208955224], \"type\": \"scatter\", \"uid\": \"22e55760-7564-4d08-94fb-7055d6bc5421\"}, {\"marker\": {\"symbol\": \"x\"}, \"mode\": \"lines+markers\", \"name\": \"ExtraTree Classifier\", \"x\": [\"accuracy\", \"auc\", \"MCC\", \"Precision\", \"Recall\"], \"y\": [0.9696299447043811, 0.8882494034866474, 0.842198728589927, 0.9408071748878923, 0.7828358208955224], \"type\": \"scatter\", \"uid\": \"17f06404-322f-4bf8-b876-bae400358214\"}, {\"marker\": {\"symbol\": \"x\"}, \"mode\": \"lines+markers\", \"name\": \"Bagging\", \"x\": [\"accuracy\", \"auc\", \"MCC\", \"Precision\", \"Recall\"], \"y\": [0.9730327520204168, 0.9096773095635601, 0.8616641633215341, 0.9280334728033472, 0.8276119402985075], \"type\": \"scatter\", \"uid\": \"91c2542b-a746-4dd7-b828-67e220e1fd7a\"}, {\"marker\": {\"symbol\": \"x\"}, \"mode\": \"lines+markers\", \"name\": \"Neural Network\", \"x\": [\"accuracy\", \"auc\", \"MCC\", \"Precision\", \"Recall\"], \"y\": [0.9745640153126329, 0.9096773095635601, 0.8717652197242038, 0.9075959279561472, 0.8649253731343284], \"type\": \"scatter\", \"uid\": \"ce16afc3-12c4-4343-8686-ce210b6dce0d\"}], {\"title\": \"Result comparision for Features selected in Section 1\", \"yaxis\": {\"dtick\": 0.05, \"tick0\": 0}}, {\"showLink\": true, \"linkText\": \"Export to plot.ly\", \"plotlyServerURL\": \"https://plot.ly\"})});</script><script type=\"text/javascript\">window.addEventListener(\"resize\", function(){window._Plotly.Plots.resize(document.getElementById(\"97b33163-85ae-4b38-af70-67e2ecda3415\"));});</script>"
      ],
      "text/vnd.plotly.v1+html": [
       "<div id=\"97b33163-85ae-4b38-af70-67e2ecda3415\" style=\"height: 525px; width: 100%;\" class=\"plotly-graph-div\"></div><script type=\"text/javascript\">require([\"plotly\"], function(Plotly) { window.PLOTLYENV=window.PLOTLYENV || {};window.PLOTLYENV.BASE_URL=\"https://plot.ly\";Plotly.newPlot(\"97b33163-85ae-4b38-af70-67e2ecda3415\", [{\"mode\": \"lines\", \"name\": \"KNN_model\", \"x\": [\"accuracy\", \"auc\", \"MCC\", \"Precision\", \"Recall\"], \"y\": [0.9723521905572097, 0.9073424882309529, 0.8580284080055273, 0.926112510495382, 0.823134328358209], \"type\": \"scatter\", \"uid\": \"04bd7313-266d-4f8a-ab18-dc8808ab1031\"}, {\"mode\": \"lines+markers\", \"name\": \"XGB\", \"x\": [\"accuracy\", \"auc\", \"MCC\", \"Precision\", \"Recall\"], \"y\": [0.9745640153126329, 0.9163937274740078, 0.8700101198779189, 0.9291014014839242, 0.841044776119403], \"type\": \"scatter\", \"uid\": \"0ca99cbb-a803-4492-8cdc-e0b062efc849\"}, {\"marker\": {\"symbol\": \"x\"}, \"mode\": \"lines+markers\", \"name\": \"Random Forest\", \"x\": [\"accuracy\", \"auc\", \"MCC\", \"Precision\", \"Recall\"], \"y\": [0.9730327520204168, 0.9054506631508802, 0.8611461150465254, 0.9375534644995723, 0.817910447761194], \"type\": \"scatter\", \"uid\": \"b8afcc0a-7a72-4862-bc74-5ea437d72ebc\"}, {\"mode\": \"lines\", \"name\": \"Ada Boost\", \"x\": [\"accuracy\", \"auc\", \"MCC\", \"Precision\", \"Recall\"], \"y\": [0.9686941726924713, 0.906903791173752, 0.8407590678529697, 0.8906752411575563, 0.826865671641791], \"type\": \"scatter\", \"uid\": \"2bb9b5c7-8f50-434b-a0c4-b51e70f3c46e\"}, {\"mode\": \"lines+markers\", \"name\": \"GradientBoosting\", \"x\": [\"accuracy\", \"auc\", \"MCC\", \"Precision\", \"Recall\"], \"y\": [0.9726924712888133, 0.9117611653685486, 0.8603308772602113, 0.920032976092333, 0.8328358208955224], \"type\": \"scatter\", \"uid\": \"22e55760-7564-4d08-94fb-7055d6bc5421\"}, {\"marker\": {\"symbol\": \"x\"}, \"mode\": \"lines+markers\", \"name\": \"ExtraTree Classifier\", \"x\": [\"accuracy\", \"auc\", \"MCC\", \"Precision\", \"Recall\"], \"y\": [0.9696299447043811, 0.8882494034866474, 0.842198728589927, 0.9408071748878923, 0.7828358208955224], \"type\": \"scatter\", \"uid\": \"17f06404-322f-4bf8-b876-bae400358214\"}, {\"marker\": {\"symbol\": \"x\"}, \"mode\": \"lines+markers\", \"name\": \"Bagging\", \"x\": [\"accuracy\", \"auc\", \"MCC\", \"Precision\", \"Recall\"], \"y\": [0.9730327520204168, 0.9096773095635601, 0.8616641633215341, 0.9280334728033472, 0.8276119402985075], \"type\": \"scatter\", \"uid\": \"91c2542b-a746-4dd7-b828-67e220e1fd7a\"}, {\"marker\": {\"symbol\": \"x\"}, \"mode\": \"lines+markers\", \"name\": \"Neural Network\", \"x\": [\"accuracy\", \"auc\", \"MCC\", \"Precision\", \"Recall\"], \"y\": [0.9745640153126329, 0.9096773095635601, 0.8717652197242038, 0.9075959279561472, 0.8649253731343284], \"type\": \"scatter\", \"uid\": \"ce16afc3-12c4-4343-8686-ce210b6dce0d\"}], {\"title\": \"Result comparision for Features selected in Section 1\", \"yaxis\": {\"dtick\": 0.05, \"tick0\": 0}}, {\"showLink\": true, \"linkText\": \"Export to plot.ly\", \"plotlyServerURL\": \"https://plot.ly\"})});</script><script type=\"text/javascript\">window.addEventListener(\"resize\", function(){window._Plotly.Plots.resize(document.getElementById(\"97b33163-85ae-4b38-af70-67e2ecda3415\"));});</script>"
      ]
     },
     "metadata": {},
     "output_type": "display_data"
    }
   ],
   "source": [
    "trace0 = go.Scatter(x=table_80_50_test.iloc[0].index.values[[0,7,8,9,10]],\n",
    "                    y=table_80_50_test.iloc[0].values[[0,7,8,9,10]],\n",
    "                    mode = 'lines',\n",
    "                    name = 'KNN_model')\n",
    "\n",
    "\n",
    "trace2 = go.Scatter(x=table_80_50_test.iloc[1].index.values[[0,7,8,9,10]],\n",
    "                    y=table_80_50_test.iloc[1].values[[0,7,8,9,10]],\n",
    "                    mode = 'lines+markers',marker=dict(symbol='x'),\n",
    "                    name = 'Random Forest')\n",
    "\n",
    "\n",
    "trace3 = go.Scatter(x=table_80_50_test.iloc[2].index.values[[0,7,8,9,10]],\n",
    "                    y=table_80_50_test.iloc[2].values[[0,7,8,9,10]],\n",
    "                    mode = 'lines',\n",
    "                    name = 'Ada Boost')\n",
    "\n",
    "trace4 = go.Scatter(x=table_80_50_test.iloc[3].index.values[[0,7,8,9,10]],\n",
    "                    y=table_80_50_test.iloc[3].values[[0,7,8,9,10]],\n",
    "                    mode = 'lines+markers',\n",
    "                    name = 'GradientBoosting')\n",
    "\n",
    "trace5 = go.Scatter(x=table_80_50_test.iloc[4].index.values[[0,7,8,9,10]],\n",
    "                    y=table_80_50_test.iloc[4].values[[0,7,8,9,10]],\n",
    "                    mode = 'lines+markers',marker=dict(symbol='x'),\n",
    "                    name = 'ExtraTree Classifier')\n",
    "\n",
    "\n",
    "trace1 = go.Scatter(x=table_80_50_test.iloc[5].index.values[[0,7,8,9,10]],\n",
    "                    y=table_80_50_test.iloc[5].values[[0,7,8,9,10]],\n",
    "                    mode = 'lines+markers',\n",
    "                    name = 'XGB')\n",
    "\n",
    "\n",
    "trace6 = go.Scatter(x=table_80_50_test.iloc[6].index.values[[0,7,8,9,10]],\n",
    "                    y=table_80_50_test.iloc[6].values[[0,7,8,9,10]],\n",
    "                    mode = 'lines+markers',marker=dict(symbol='x'),\n",
    "                    name = 'Bagging')\n",
    "\n",
    "trace7 = go.Scatter(x=table_80_50_test.iloc[7].index.values[[0,7,8,9,10]],\n",
    "                    y=table_80_50_test.iloc[7].values[[0,7,8,9,10]],\n",
    "                    mode = 'lines+markers',marker=dict(symbol='x'),\n",
    "                    name = 'Neural Network')\n",
    "\n",
    "\n",
    "\n",
    "data = [trace0, trace1, trace2, trace3, trace4, trace5, trace6, trace7]\n",
    "layout = go.Layout(yaxis=dict(tick0=0,dtick=0.05),title='Result comparision for Features selected in Section 1')\n",
    "fig = go.Figure(data=data, layout=layout)\n",
    "\n",
    "iplot(fig, filename='Result')"
   ]
  },
  {
   "cell_type": "code",
   "execution_count": 34,
   "metadata": {},
   "outputs": [
    {
     "name": "stdout",
     "output_type": "stream",
     "text": [
      "Training Results\n"
     ]
    },
    {
     "data": {
      "text/html": [
       "<div>\n",
       "<style scoped>\n",
       "    .dataframe tbody tr th:only-of-type {\n",
       "        vertical-align: middle;\n",
       "    }\n",
       "\n",
       "    .dataframe tbody tr th {\n",
       "        vertical-align: top;\n",
       "    }\n",
       "\n",
       "    .dataframe thead th {\n",
       "        text-align: right;\n",
       "    }\n",
       "</style>\n",
       "<table border=\"1\" class=\"dataframe\">\n",
       "  <thead>\n",
       "    <tr style=\"text-align: right;\">\n",
       "      <th></th>\n",
       "      <th>accuracy</th>\n",
       "      <th>TP</th>\n",
       "      <th>TN</th>\n",
       "      <th>FP</th>\n",
       "      <th>FN</th>\n",
       "      <th>FPR</th>\n",
       "      <th>FNR</th>\n",
       "    </tr>\n",
       "    <tr>\n",
       "      <th>index</th>\n",
       "      <th></th>\n",
       "      <th></th>\n",
       "      <th></th>\n",
       "      <th></th>\n",
       "      <th></th>\n",
       "      <th></th>\n",
       "      <th></th>\n",
       "    </tr>\n",
       "  </thead>\n",
       "  <tbody>\n",
       "    <tr>\n",
       "      <th>KNeighborsClassifier</th>\n",
       "      <td>0.980786</td>\n",
       "      <td>2712.0</td>\n",
       "      <td>24189.0</td>\n",
       "      <td>138.0</td>\n",
       "      <td>389.0</td>\n",
       "      <td>0.005673</td>\n",
       "      <td>0.125443</td>\n",
       "    </tr>\n",
       "    <tr>\n",
       "      <th>RandomForestClassifier</th>\n",
       "      <td>0.995698</td>\n",
       "      <td>3001.0</td>\n",
       "      <td>24309.0</td>\n",
       "      <td>18.0</td>\n",
       "      <td>100.0</td>\n",
       "      <td>0.000740</td>\n",
       "      <td>0.032248</td>\n",
       "    </tr>\n",
       "    <tr>\n",
       "      <th>AdaBoostClassifier</th>\n",
       "      <td>0.973640</td>\n",
       "      <td>2641.0</td>\n",
       "      <td>24064.0</td>\n",
       "      <td>263.0</td>\n",
       "      <td>460.0</td>\n",
       "      <td>0.010811</td>\n",
       "      <td>0.148339</td>\n",
       "    </tr>\n",
       "    <tr>\n",
       "      <th>GradientBoostingClassifier</th>\n",
       "      <td>0.979510</td>\n",
       "      <td>2697.0</td>\n",
       "      <td>24169.0</td>\n",
       "      <td>158.0</td>\n",
       "      <td>404.0</td>\n",
       "      <td>0.006495</td>\n",
       "      <td>0.130281</td>\n",
       "    </tr>\n",
       "    <tr>\n",
       "      <th>ExtraTreeClassifier</th>\n",
       "      <td>0.998141</td>\n",
       "      <td>3053.0</td>\n",
       "      <td>24324.0</td>\n",
       "      <td>3.0</td>\n",
       "      <td>48.0</td>\n",
       "      <td>0.000123</td>\n",
       "      <td>0.015479</td>\n",
       "    </tr>\n",
       "    <tr>\n",
       "      <th>XGB</th>\n",
       "      <td>0.980093</td>\n",
       "      <td>2693.0</td>\n",
       "      <td>24189.0</td>\n",
       "      <td>138.0</td>\n",
       "      <td>408.0</td>\n",
       "      <td>0.005673</td>\n",
       "      <td>0.131570</td>\n",
       "    </tr>\n",
       "    <tr>\n",
       "      <th>BaggingClassifier</th>\n",
       "      <td>0.995989</td>\n",
       "      <td>3012.0</td>\n",
       "      <td>24306.0</td>\n",
       "      <td>21.0</td>\n",
       "      <td>89.0</td>\n",
       "      <td>0.000863</td>\n",
       "      <td>0.028700</td>\n",
       "    </tr>\n",
       "    <tr>\n",
       "      <th>Neural Network-1</th>\n",
       "      <td>0.996500</td>\n",
       "      <td>3031.0</td>\n",
       "      <td>24301.0</td>\n",
       "      <td>26.0</td>\n",
       "      <td>70.0</td>\n",
       "      <td>0.001069</td>\n",
       "      <td>0.022573</td>\n",
       "    </tr>\n",
       "  </tbody>\n",
       "</table>\n",
       "</div>"
      ],
      "text/plain": [
       "                            accuracy      TP       TN     FP     FN       FPR  \\\n",
       "index                                                                           \n",
       "KNeighborsClassifier        0.980786  2712.0  24189.0  138.0  389.0  0.005673   \n",
       "RandomForestClassifier      0.995698  3001.0  24309.0   18.0  100.0  0.000740   \n",
       "AdaBoostClassifier          0.973640  2641.0  24064.0  263.0  460.0  0.010811   \n",
       "GradientBoostingClassifier  0.979510  2697.0  24169.0  158.0  404.0  0.006495   \n",
       "ExtraTreeClassifier         0.998141  3053.0  24324.0    3.0   48.0  0.000123   \n",
       "XGB                         0.980093  2693.0  24189.0  138.0  408.0  0.005673   \n",
       "BaggingClassifier           0.995989  3012.0  24306.0   21.0   89.0  0.000863   \n",
       "Neural Network-1            0.996500  3031.0  24301.0   26.0   70.0  0.001069   \n",
       "\n",
       "                                 FNR  \n",
       "index                                 \n",
       "KNeighborsClassifier        0.125443  \n",
       "RandomForestClassifier      0.032248  \n",
       "AdaBoostClassifier          0.148339  \n",
       "GradientBoostingClassifier  0.130281  \n",
       "ExtraTreeClassifier         0.015479  \n",
       "XGB                         0.131570  \n",
       "BaggingClassifier           0.028700  \n",
       "Neural Network-1            0.022573  "
      ]
     },
     "metadata": {},
     "output_type": "display_data"
    },
    {
     "name": "stdout",
     "output_type": "stream",
     "text": [
      "Test Results\n"
     ]
    },
    {
     "data": {
      "text/html": [
       "<div>\n",
       "<style scoped>\n",
       "    .dataframe tbody tr th:only-of-type {\n",
       "        vertical-align: middle;\n",
       "    }\n",
       "\n",
       "    .dataframe tbody tr th {\n",
       "        vertical-align: top;\n",
       "    }\n",
       "\n",
       "    .dataframe thead th {\n",
       "        text-align: right;\n",
       "    }\n",
       "</style>\n",
       "<table border=\"1\" class=\"dataframe\">\n",
       "  <thead>\n",
       "    <tr style=\"text-align: right;\">\n",
       "      <th></th>\n",
       "      <th>accuracy</th>\n",
       "      <th>TP</th>\n",
       "      <th>TN</th>\n",
       "      <th>FP</th>\n",
       "      <th>FN</th>\n",
       "      <th>FPR</th>\n",
       "      <th>FNR</th>\n",
       "      <th>auc</th>\n",
       "      <th>MCC</th>\n",
       "      <th>Precision</th>\n",
       "      <th>Recall</th>\n",
       "    </tr>\n",
       "    <tr>\n",
       "      <th>index</th>\n",
       "      <th></th>\n",
       "      <th></th>\n",
       "      <th></th>\n",
       "      <th></th>\n",
       "      <th></th>\n",
       "      <th></th>\n",
       "      <th></th>\n",
       "      <th></th>\n",
       "      <th></th>\n",
       "      <th></th>\n",
       "      <th></th>\n",
       "    </tr>\n",
       "  </thead>\n",
       "  <tbody>\n",
       "    <tr>\n",
       "      <th>KNeighborsClassifier</th>\n",
       "      <td>0.972352</td>\n",
       "      <td>1103.0</td>\n",
       "      <td>10327.0</td>\n",
       "      <td>88.0</td>\n",
       "      <td>237.0</td>\n",
       "      <td>0.008449</td>\n",
       "      <td>0.176866</td>\n",
       "      <td>0.907342</td>\n",
       "      <td>0.858028</td>\n",
       "      <td>0.926113</td>\n",
       "      <td>0.823134</td>\n",
       "    </tr>\n",
       "    <tr>\n",
       "      <th>RandomForestClassifier</th>\n",
       "      <td>0.973033</td>\n",
       "      <td>1096.0</td>\n",
       "      <td>10342.0</td>\n",
       "      <td>73.0</td>\n",
       "      <td>244.0</td>\n",
       "      <td>0.007009</td>\n",
       "      <td>0.182090</td>\n",
       "      <td>0.905451</td>\n",
       "      <td>0.861146</td>\n",
       "      <td>0.937553</td>\n",
       "      <td>0.817910</td>\n",
       "    </tr>\n",
       "    <tr>\n",
       "      <th>AdaBoostClassifier</th>\n",
       "      <td>0.968694</td>\n",
       "      <td>1108.0</td>\n",
       "      <td>10279.0</td>\n",
       "      <td>136.0</td>\n",
       "      <td>232.0</td>\n",
       "      <td>0.013058</td>\n",
       "      <td>0.173134</td>\n",
       "      <td>0.906904</td>\n",
       "      <td>0.840759</td>\n",
       "      <td>0.890675</td>\n",
       "      <td>0.826866</td>\n",
       "    </tr>\n",
       "    <tr>\n",
       "      <th>GradientBoostingClassifier</th>\n",
       "      <td>0.972692</td>\n",
       "      <td>1116.0</td>\n",
       "      <td>10318.0</td>\n",
       "      <td>97.0</td>\n",
       "      <td>224.0</td>\n",
       "      <td>0.009313</td>\n",
       "      <td>0.167164</td>\n",
       "      <td>0.911761</td>\n",
       "      <td>0.860331</td>\n",
       "      <td>0.920033</td>\n",
       "      <td>0.832836</td>\n",
       "    </tr>\n",
       "    <tr>\n",
       "      <th>ExtraTreeClassifier</th>\n",
       "      <td>0.969630</td>\n",
       "      <td>1049.0</td>\n",
       "      <td>10349.0</td>\n",
       "      <td>66.0</td>\n",
       "      <td>291.0</td>\n",
       "      <td>0.006337</td>\n",
       "      <td>0.217164</td>\n",
       "      <td>0.888249</td>\n",
       "      <td>0.842199</td>\n",
       "      <td>0.940807</td>\n",
       "      <td>0.782836</td>\n",
       "    </tr>\n",
       "    <tr>\n",
       "      <th>XGB</th>\n",
       "      <td>0.974564</td>\n",
       "      <td>1127.0</td>\n",
       "      <td>10329.0</td>\n",
       "      <td>86.0</td>\n",
       "      <td>213.0</td>\n",
       "      <td>0.008257</td>\n",
       "      <td>0.158955</td>\n",
       "      <td>0.916394</td>\n",
       "      <td>0.870010</td>\n",
       "      <td>0.929101</td>\n",
       "      <td>0.841045</td>\n",
       "    </tr>\n",
       "    <tr>\n",
       "      <th>BaggingClassifier</th>\n",
       "      <td>0.973033</td>\n",
       "      <td>1109.0</td>\n",
       "      <td>10329.0</td>\n",
       "      <td>86.0</td>\n",
       "      <td>231.0</td>\n",
       "      <td>0.008257</td>\n",
       "      <td>0.172388</td>\n",
       "      <td>0.909677</td>\n",
       "      <td>0.861664</td>\n",
       "      <td>0.928033</td>\n",
       "      <td>0.827612</td>\n",
       "    </tr>\n",
       "    <tr>\n",
       "      <th>Neural Network-1</th>\n",
       "      <td>0.974564</td>\n",
       "      <td>1159.0</td>\n",
       "      <td>10297.0</td>\n",
       "      <td>118.0</td>\n",
       "      <td>181.0</td>\n",
       "      <td>0.011330</td>\n",
       "      <td>0.135075</td>\n",
       "      <td>0.909677</td>\n",
       "      <td>0.871765</td>\n",
       "      <td>0.907596</td>\n",
       "      <td>0.864925</td>\n",
       "    </tr>\n",
       "  </tbody>\n",
       "</table>\n",
       "</div>"
      ],
      "text/plain": [
       "                            accuracy      TP       TN     FP     FN       FPR  \\\n",
       "index                                                                           \n",
       "KNeighborsClassifier        0.972352  1103.0  10327.0   88.0  237.0  0.008449   \n",
       "RandomForestClassifier      0.973033  1096.0  10342.0   73.0  244.0  0.007009   \n",
       "AdaBoostClassifier          0.968694  1108.0  10279.0  136.0  232.0  0.013058   \n",
       "GradientBoostingClassifier  0.972692  1116.0  10318.0   97.0  224.0  0.009313   \n",
       "ExtraTreeClassifier         0.969630  1049.0  10349.0   66.0  291.0  0.006337   \n",
       "XGB                         0.974564  1127.0  10329.0   86.0  213.0  0.008257   \n",
       "BaggingClassifier           0.973033  1109.0  10329.0   86.0  231.0  0.008257   \n",
       "Neural Network-1            0.974564  1159.0  10297.0  118.0  181.0  0.011330   \n",
       "\n",
       "                                 FNR       auc       MCC  Precision    Recall  \n",
       "index                                                                          \n",
       "KNeighborsClassifier        0.176866  0.907342  0.858028   0.926113  0.823134  \n",
       "RandomForestClassifier      0.182090  0.905451  0.861146   0.937553  0.817910  \n",
       "AdaBoostClassifier          0.173134  0.906904  0.840759   0.890675  0.826866  \n",
       "GradientBoostingClassifier  0.167164  0.911761  0.860331   0.920033  0.832836  \n",
       "ExtraTreeClassifier         0.217164  0.888249  0.842199   0.940807  0.782836  \n",
       "XGB                         0.158955  0.916394  0.870010   0.929101  0.841045  \n",
       "BaggingClassifier           0.172388  0.909677  0.861664   0.928033  0.827612  \n",
       "Neural Network-1            0.135075  0.909677  0.871765   0.907596  0.864925  "
      ]
     },
     "metadata": {},
     "output_type": "display_data"
    }
   ],
   "source": [
    "table_80_50_train['index']=ind_columns\n",
    "table_80_50_test['index']=ind_columns\n",
    "\n",
    "\n",
    "table_80_50_test.set_index(['index'],drop=True,inplace=True)\n",
    "table_80_50_train.set_index(['index'],drop=True,inplace=True)\n",
    "\n",
    "print(\"Training Results\")\n",
    "display(table_80_50_train)\n",
    "print(\"Test Results\")\n",
    "display(table_80_50_test)"
   ]
  },
  {
   "cell_type": "code",
   "execution_count": 35,
   "metadata": {},
   "outputs": [
    {
     "data": {
      "text/html": [
       "<script>\n",
       "code_show=true; \n",
       "function code_toggle() {\n",
       " if (code_show){\n",
       " $('div.input').hide();\n",
       " } else {\n",
       " $('div.input').show();\n",
       " }\n",
       " code_show = !code_show\n",
       "} \n",
       "$( document ).ready(code_toggle);\n",
       "</script>\n",
       "To toggle code, click <a href=\"javascript:code_toggle()\">here</a>."
      ],
      "text/plain": [
       "<IPython.core.display.HTML object>"
      ]
     },
     "execution_count": 35,
     "metadata": {},
     "output_type": "execute_result"
    }
   ],
   "source": [
    "### Original Creator : Darshan Bhansali\n",
    "### HTML code to hide the input cells \n",
    "HTML('''<script>\n",
    "code_show=true; \n",
    "function code_toggle() {\n",
    " if (code_show){\n",
    " $('div.input').hide();\n",
    " } else {\n",
    " $('div.input').show();\n",
    " }\n",
    " code_show = !code_show\n",
    "} \n",
    "$( document ).ready(code_toggle);\n",
    "</script>\n",
    "To toggle code, click <a href=\"javascript:code_toggle()\">here</a>.''')"
   ]
  }
 ],
 "metadata": {
  "kernelspec": {
   "display_name": "Python 3",
   "language": "python",
   "name": "python3"
  },
  "language_info": {
   "codemirror_mode": {
    "name": "ipython",
    "version": 3
   },
   "file_extension": ".py",
   "mimetype": "text/x-python",
   "name": "python",
   "nbconvert_exporter": "python",
   "pygments_lexer": "ipython3",
   "version": "3.6.8"
  }
 },
 "nbformat": 4,
 "nbformat_minor": 2
}
