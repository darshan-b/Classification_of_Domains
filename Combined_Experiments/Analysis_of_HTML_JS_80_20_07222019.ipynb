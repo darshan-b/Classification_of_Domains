{
 "cells": [
  {
   "cell_type": "markdown",
   "metadata": {},
   "source": [
    "***\n",
    "## Table of Contents\n",
    "<br>\n",
    "  <br>\n",
    "    <ol>\n",
    "        <h2><a href='#1' style=\"text-decoration : none; color : #000000;\">1. Initial Models</a></h2>\n",
    "        <ul>\n",
    "            <a href='#1.A' style=\"text-decoration : none; color : #000000;\"><h3>A. Results </h3></a>\n",
    "        </ul>\n",
    "        <ul>\n",
    "            <a href='#1.B' style=\"text-decoration : none; color : #000000;\"><h3>B. Average Feature Importance   </h3></a>\n",
    "        </ul>\n",
    "     </ol>\n",
    "     <br> \n",
    "\n",
    "<ol>\n",
    "        <h2><a href='#2' style=\"text-decoration : none; color : #000000;\">2. Oversampling </a></h2>\n",
    "        <ul>\n",
    "            <a href='#2.A' style=\"text-decoration : none; color : #000000;\"><h3>A. Results </h3></a>\n",
    "        </ul>\n",
    "        <ul>\n",
    "            <a href='#2.B' style=\"text-decoration : none; color : #000000;\"><h3>B. Average Feature Importance   </h3></a>\n",
    "        </ul>\n",
    "     </ol>\n",
    "     <br>\n",
    "     \n",
    " <ol>\n",
    "        <h2><a href='#3' style=\"text-decoration : none; color : #000000;\">3. Undersampling</a></h2>\n",
    "        <ul>\n",
    "            <a href='#3.A' style=\"text-decoration : none; color : #000000;\"><h3>A. Results </h3></a>\n",
    "        </ul>\n",
    "        <ul>\n",
    "            <a href='#3.B' style=\"text-decoration : none; color : #000000;\"><h3>B. Average Feature Importance   </h3></a>\n",
    "        </ul>\n",
    "     </ol>\n",
    "     <br>\n",
    "     \n",
    " <ol>\n",
    "        <h2><a href='#4' style=\"text-decoration : none; color : #000000;\">4.Feature Transformation with feature selection</a></h2>\n",
    "        <ul>\n",
    "            <a href='#4.A' style=\"text-decoration : none; color : #000000;\"><h3>A. Results </h3></a>\n",
    "        </ul>\n",
    "        <ul>\n",
    "            <a href='#4.B' style=\"text-decoration : none; color : #000000;\"><h3>B. Average Feature Importance   </h3></a>\n",
    "        </ul>\n",
    "     </ol>\n",
    "     <br>\n",
    "     \n",
    "     \n",
    " <ol>\n",
    "        <h2><a href='#5' style=\"text-decoration : none; color : #000000;\">5.Feature Transformation with PCA</a></h2>\n",
    "        <ul>\n",
    "            <a href='#5.A' style=\"text-decoration : none; color : #000000;\"><h3>A. Results </h3></a>\n",
    "        </ul>\n",
    "     </ol>\n",
    "     <br>"
   ]
  },
  {
   "cell_type": "code",
   "execution_count": 2,
   "metadata": {},
   "outputs": [
    {
     "data": {
      "text/html": [
       "<script type=\"text/javascript\">window.PlotlyConfig = {MathJaxConfig: 'local'};</script><script type=\"text/javascript\">if (window.MathJax) {MathJax.Hub.Config({SVG: {font: \"STIX-Web\"}});}</script><script>requirejs.config({paths: { 'plotly': ['https://cdn.plot.ly/plotly-latest.min']},});if(!window._Plotly) {require(['plotly'],function(plotly) {window._Plotly=plotly;});}</script>"
      ],
      "text/vnd.plotly.v1+html": [
       "<script type=\"text/javascript\">window.PlotlyConfig = {MathJaxConfig: 'local'};</script><script type=\"text/javascript\">if (window.MathJax) {MathJax.Hub.Config({SVG: {font: \"STIX-Web\"}});}</script><script>requirejs.config({paths: { 'plotly': ['https://cdn.plot.ly/plotly-latest.min']},});if(!window._Plotly) {require(['plotly'],function(plotly) {window._Plotly=plotly;});}</script>"
      ]
     },
     "metadata": {},
     "output_type": "display_data"
    }
   ],
   "source": [
    "import pandas as pd\n",
    "import numpy as np\n",
    "import copy\n",
    "import matplotlib.pyplot as plt\n",
    "import seaborn as sns\n",
    "%matplotlib inline\n",
    "\n",
    "from IPython.display import display,clear_output,HTML\n",
    "import warnings\n",
    "warnings.filterwarnings(\"ignore\")\n",
    "warnings.filterwarnings(\"ignore\",category=DeprecationWarning)\n",
    "\n",
    "import keras\n",
    "from keras.layers import Dense,Dropout\n",
    "from keras.models import Sequential\n",
    "warnings.simplefilter(\"ignore\", DeprecationWarning)\n",
    "import researchpy as rp\n",
    "\n",
    "%matplotlib inline\n",
    "pd.set_option('display.max_columns', 500)\n",
    "pd.set_option('display.max_rows',305)\n",
    "\n",
    "from sklearn.feature_selection import SelectKBest,chi2,RFE,RFECV,f_regression,SelectFromModel\n",
    "from sklearn.linear_model import LogisticRegression\n",
    "from sklearn.ensemble import ExtraTreesClassifier,RandomForestClassifier,GradientBoostingClassifier,AdaBoostClassifier,BaggingClassifier\n",
    "from sklearn.neighbors import KNeighborsClassifier\n",
    "from sklearn.model_selection import train_test_split,cross_val_score\n",
    "\n",
    "from sklearn.preprocessing import StandardScaler,MinMaxScaler\n",
    "from sklearn import metrics\n",
    "\n",
    "\n",
    "\n",
    "from sklearn.decomposition import PCA\n",
    "from sklearn.metrics import accuracy_score,auc,roc_curve,recall_score,precision_score,matthews_corrcoef\n",
    "\n",
    "from pandas_ml import ConfusionMatrix\n",
    "\n",
    "\n",
    "from imblearn.over_sampling import SMOTE\n",
    "\n",
    "from plotly.offline import download_plotlyjs, init_notebook_mode, plot, iplot\n",
    "init_notebook_mode(connected=True)\n",
    "import plotly.graph_objs as go\n",
    "\n",
    "import featuretools as ft\n",
    "\n",
    "from scipy import stats\n",
    "import re\n",
    "\n",
    "from xgboost import XGBClassifier\n",
    "from xgboost import plot_importance"
   ]
  },
  {
   "cell_type": "code",
   "execution_count": 3,
   "metadata": {},
   "outputs": [],
   "source": [
    "### Function to plot Feature Importance\n",
    "def feat_impt_plot(feat_impt,y_labels,width_s=1000,height_s=1000):\n",
    "    \n",
    "    m=pd.DataFrame(y_labels,feat_impt).reset_index()\n",
    "    m.columns=['Feature_Importance','Features']\n",
    "    m.sort_values(by='Feature_Importance',inplace=True,ascending=False)\n",
    "    m['Features']=m['Features'].str.replace(\"dom_function_\",\"\")\n",
    "    m['Features']=m['Features'].str.replace(\"js_function_\",\"\")\n",
    "    m['Features']=m['Features'].apply(lambda x: str(x).lstrip('.'))\n",
    "    m['Features']=m['Features'].str.replace(\"(\",\"\")\n",
    "    \n",
    "    data = [go.Bar(x=m.Feature_Importance.values,y=m.Features.values,text=np.round(m.Feature_Importance,4),\n",
    "            textposition = 'outside',\n",
    "            marker=dict(\n",
    "                color='rgb(158,202,225)',\n",
    "                line=dict(\n",
    "                    color='rgb(8,48,107)',\n",
    "                    width=1.5),\n",
    "            ),\n",
    "            opacity=0.6,\n",
    "            orientation='h'\n",
    "        )]\n",
    "    layout = go.Layout(autosize=False,\n",
    "    width=width_s,\n",
    "    height=height_s,\n",
    "    xaxis=dict(title='Feature Importances',\n",
    "        tickfont=dict(\n",
    "            size=12,\n",
    "            color='black'\n",
    "        )),\n",
    "    yaxis=dict(automargin=True))\n",
    "    fig = go.Figure(data=data, layout=layout)\n",
    "    iplot(fig)\n",
    "    \n",
    "def uni_value(data):\n",
    "    lst=[]\n",
    "    for col in data.columns[:]:\n",
    "        lst.append([col,dict(data[col].value_counts()),data[col].value_counts().values[0]>=len(data)*0.95])\n",
    "    col_values=pd.DataFrame(lst,columns=['Feature','Value_Counts','95_%_same_values'])\n",
    "    col_values.set_index('Feature',drop=True,inplace=True)\n",
    "    del lst\n",
    "    return col_values\n",
    "\n",
    "    \n",
    "def check_cat(data):\n",
    "    cat_var=[]\n",
    "    num_var=[]\n",
    "    for col in data.columns:\n",
    "        if col!='Target':\n",
    "            if len(data[col].value_counts())==2:\n",
    "                cat_var.append(col)\n",
    "            else:\n",
    "                num_var.append(col)\n",
    "    return cat_var,num_var\n",
    "\n",
    "\n",
    "def num_stats(data,columns):\n",
    "    lst=[]\n",
    "    c=0\n",
    "    for col in columns:\n",
    "        corr=stats.pointbiserialr(data[col],data.Target)[0]\n",
    "        corr_p=stats.pointbiserialr(data[col],data.Target)[1]\n",
    "        ttest=stats.ttest_ind(data[data.Target==1][col], data[data.Target==0][col], equal_var=False)[0]\n",
    "        ttest_p=stats.ttest_ind(data[data.Target==1][col], data[data.Target==0][col], equal_var=False)[1]\n",
    "        lst.append((corr,corr_p,ttest,ttest_p,col))\n",
    "    stats_data=pd.DataFrame(lst,columns=['Pt. Biserial Corr','Pt. Biserial Corr p-val','ttest','ttest p-val','Feature'])\n",
    "    stats_data.set_index('Feature',drop=True,inplace=True)\n",
    "    stats_data.sort_values(by='ttest',inplace=True)\n",
    "    del lst\n",
    "    return stats_data\n",
    "\n",
    "\n",
    "### Generate statistics for categorical data\n",
    "def cat_stats(data,columns):\n",
    "    lst=[]\n",
    "    c=0\n",
    "    for col in columns:\n",
    "        if col!='Target':\n",
    "            table, results = rp.crosstab(data['Target'], data[col], prop= 'col', test= 'chi-square')\n",
    "            x=results['results'].values.tolist()\n",
    "            x.append(col)\n",
    "            lst.append(x)\n",
    "    chi_df=pd.DataFrame(lst,columns=['Pearson Chi-square','p-value','Cramers V','Feature'])\n",
    "    chi_df.set_index('Feature',drop=True,inplace=True)\n",
    "    chi_df.sort_values(by='Cramers V',ascending=False,inplace=True)\n",
    "    del lst\n",
    "    return chi_df\n",
    "\n",
    "def remove_feat(data):\n",
    "    col_no_unique=[]\n",
    "    for col in data.columns[:]:\n",
    "        if len(data[col].value_counts())<=1:\n",
    "#             print(col)\n",
    "            col_no_unique.append(col)\n",
    "    return col_no_unique\n",
    "\n",
    "### Generate plot for class balance for categorical nature\n",
    "def class_bal(data,title=''):\n",
    "    d = [go.Bar(x=data.Target.value_counts().index.values,\n",
    "               y=data.Target.value_counts().values,\n",
    "               text=data.Target.value_counts().values,\n",
    "               textposition = 'outside',\n",
    "            )]\n",
    "    layout = go.Layout(title=title,xaxis=dict(title='Domain Type',tickfont=dict(size=12,color='black')),\n",
    "                    yaxis=dict(title='Number of Instances'))\n",
    "    fig = go.Figure(data=d, layout=layout)\n",
    "    iplot(fig)"
   ]
  },
  {
   "cell_type": "code",
   "execution_count": 4,
   "metadata": {},
   "outputs": [],
   "source": [
    "def model_build(model,X_train,Y_train,X_test,Y_test,tree=False,feat=None):\n",
    "    \n",
    "    y_pred_train=model.predict(X_train)\n",
    "    acc_train=accuracy_score(Y_train,y_pred_train)\n",
    "    \n",
    "    print(\"Accuracy of the model for training data is:\",acc_train)\n",
    "    print(\"Confusion Matrix for training data is:\")\n",
    "    cm_train=ConfusionMatrix(Y_train,y_pred_train)\n",
    "    display(cm_train)\n",
    "    \n",
    "    \n",
    "    y_pred_test=model.predict(X_test)\n",
    "    acc_test=accuracy_score(Y_test,y_pred_test)\n",
    "    print(\"Accuracy of the model for test data is:\",acc_test)\n",
    "    print(\"Confusion Matrix for test data is:\")\n",
    "    cm_test=ConfusionMatrix(Y_test,y_pred_test)\n",
    "    display(cm_test)\n",
    "\n",
    "    fpr, tpr, threshold = roc_curve(Y_test, y_pred_test)\n",
    "    roc_auc =auc(fpr, tpr)\n",
    "    mcc=matthews_corrcoef(Y_test,y_pred_test)\n",
    "    if tree==True:\n",
    "        feat_impt_plot(model.feature_importances_,feat)\n",
    "        return model,cm_train,cm_test,acc_train,acc_test,roc_auc,model.feature_importances_,mcc\n",
    "    \n",
    "    return model,cm_train,cm_test,acc_train,acc_test,roc_auc,mcc\n",
    "\n",
    "def KNN_model(X_train,Y_train,X_test,Y_test):\n",
    "    print('\\033[1m' + 'K-Nearest Neighbors' + '\\033[0m')\n",
    "    knn=KNeighborsClassifier()\n",
    "    knn.fit(X_train,Y_train)\n",
    "\n",
    "    return model_build(knn,X_train,Y_train,X_test,Y_test)\n",
    "\n",
    "def Logistic_model(X_train,Y_train,X_test,Y_test):\n",
    "    print('\\033[1m' + 'Logistic Regression' + '\\033[0m')\n",
    "    log=LogisticRegression(random_state=0)\n",
    "    log.fit(X_train,Y_train)\n",
    "    \n",
    "    return model_build(log,X_train,Y_train,X_test,Y_test)\n",
    "\n",
    "def RandomForest(X_train,Y_train,X_test,Y_test,feat):\n",
    "    print('\\033[1m' + 'RandomForest Classifier' + '\\033[0m')\n",
    "    rf=RandomForestClassifier(random_state=0)\n",
    "    rf.fit(X_train,Y_train)\n",
    "\n",
    "    \n",
    "    return model_build(rf,X_train,Y_train,X_test,Y_test,True,feat)\n",
    "\n",
    "def AdaBoost(X_train,Y_train,X_test,Y_test,feat):\n",
    "    print('\\033[1m' + 'Adaoost Classifier' + '\\033[0m')\n",
    "    ada=AdaBoostClassifier(random_state=0)\n",
    "    ada.fit(X_train,Y_train)\n",
    "    \n",
    "    return model_build(ada,X_train,Y_train,X_test,Y_test,True,feat)\n",
    "\n",
    "def GradientBoosting(X_train,Y_train,X_test,Y_test,feat):\n",
    "    print('\\033[1m' + 'GradientBoosting Classifier' + '\\033[0m')\n",
    "    gbc=GradientBoostingClassifier(random_state=0)\n",
    "    gbc.fit(X_train,Y_train)\n",
    "    \n",
    "    return model_build(gbc,X_train,Y_train,X_test,Y_test,True,feat)\n",
    "\n",
    "def ExtraTree(X_train,Y_train,X_test,Y_test,feat):\n",
    "    print('\\033[1m' + 'ExtraTree Classifier' + '\\033[0m')\n",
    "    ext_tree=ExtraTreesClassifier(random_state=0)\n",
    "    ext_tree.fit(X_train,Y_train)\n",
    "    \n",
    "    return model_build(ext_tree,X_train,Y_train,X_test,Y_test,True,feat)\n",
    "\n",
    "def Bagging(X_train,Y_train,X_test,Y_test):\n",
    "    print('\\033[1m' + 'Bagging Classifier' + '\\033[0m')\n",
    "    bagging=BaggingClassifier(random_state=0)\n",
    "    bagging.fit(X_train,Y_train)\n",
    "    \n",
    "    return model_build(bagging,X_train,Y_train,X_test,Y_test)\n",
    "\n",
    "def DeepLearning1(X_train,Y_train,X_test,Y_test):\n",
    "    print('\\033[1m' + 'Neural Network-1' + '\\033[0m')\n",
    "    np.random.seed(0)\n",
    "    deep_learning=Sequential()\n",
    "    deep_learning.add(Dense(units=64,activation='relu',use_bias=True,kernel_initializer='uniform',input_dim=X_train.shape[1]))\n",
    "    deep_learning.add(Dense(units=128,activation='relu',use_bias=True,kernel_initializer='uniform'))\n",
    "    deep_learning.add(Dense(units=1,activation='sigmoid',use_bias=True,kernel_initializer='uniform'))\n",
    "    deep_learning.compile(optimizer='adam',loss='binary_crossentropy',metrics=['accuracy'])\n",
    "    deep_learning.fit(X_train,Y_train,batch_size=20,epochs=80,verbose=False)\n",
    "    acc_train=deep_learning.evaluate(X_train,Y_train,verbose=False)[1]\n",
    "    print(\"The accuracy of the model on training data is:\",acc_train)\n",
    "    cm_train=ConfusionMatrix(Y_train,deep_learning.predict_classes(X_train,batch_size=1,verbose=False).reshape(1,len(X_train))[0])\n",
    "    cm_test=ConfusionMatrix(Y_test,deep_learning.predict_classes(X_test,batch_size=1,verbose=False).reshape(1,len(X_test))[0])\n",
    "    display(cm_train)\n",
    "    acc_test=accuracy_score(Y_test,deep_learning.predict_classes(X_test,batch_size=1,verbose=False))\n",
    "    print(\"The accuracy of the model on test data is:\",acc_test)\n",
    "    display(cm_test)\n",
    "    mcc=matthews_corrcoef(Y_test,deep_learning.predict_classes(X_test,batch_size=1,verbose=False))\n",
    "    fpr, tpr, threshold = roc_curve(Y_test, deep_learning.predict_classes(X_test,batch_size=1,verbose=False))\n",
    "    roc_auc =auc(fpr, tpr)\n",
    "    return  deep_learning,cm_train,cm_test,acc_train,acc_test,roc_auc,mcc"
   ]
  },
  {
   "cell_type": "markdown",
   "metadata": {},
   "source": [
    "### HTML Read Data"
   ]
  },
  {
   "cell_type": "code",
   "execution_count": 5,
   "metadata": {},
   "outputs": [
    {
     "name": "stdout",
     "output_type": "stream",
     "text": [
      "Shape of HTML dataset: (43491, 1461)\n",
      "0 columns have only one unique value in them rendering them meaningless for classification\n",
      "Shape of our dataset after dropping them: (43491, 1461)\n",
      "1297 columns have more than 95% same values\n",
      "Shape of our dataset after dropping them: (43491, 164)\n",
      "38 columns are dropped because of high VIF values\n",
      "Shape of our dataset after dropping them: (43491, 126)\n"
     ]
    }
   ],
   "source": [
    "df_html=pd.read_csv('../html/HTML.csv',index_col='domain')\n",
    "df_html.drop(['Unnamed: 0'],axis=1,inplace=True)\n",
    "cookie=[col for col in df_html.columns if 'number' in col]\n",
    "df_html.drop(cookie,axis=1,inplace=True)\n",
    "print(\"Shape of HTML dataset:\",df_html.shape)\n",
    "df_html.Target=df_html.Target.apply(lambda x: 1 if x=='Malicious' else 0)\n",
    "\n",
    "#### Dropping constants\n",
    "\n",
    "col_no_unique=[]\n",
    "for col in df_html.columns[:-1]:\n",
    "    if len(df_html[col].value_counts())==1:\n",
    "        col_no_unique.append(col)\n",
    "\n",
    "print(\"{} columns have only one unique value in them rendering them meaningless for classification\".format(len(col_no_unique)))\n",
    "### Drop those columns\n",
    "df_html.drop(col_no_unique,axis=1,inplace=True)\n",
    "\n",
    "print(\"Shape of our dataset after dropping them:\",df_html.shape)\n",
    "\n",
    "#### 95% same values\n",
    "\n",
    "lst=[]\n",
    "for col in df_html.columns[:-1]:\n",
    "    lst.append([col,dict(df_html[col].value_counts()),df_html[col].value_counts().values[0]>=len(df_html)*0.95])\n",
    "\n",
    "col_values=pd.DataFrame(lst,columns=['Feature','Value_Counts','95_%_same_values'])\n",
    "col_values.set_index('Feature',drop=True,inplace=True)\n",
    "del lst\n",
    "\n",
    "print(\"{} columns have more than 95% same values\".format(len(col_values[col_values['95_%_same_values']==True].index.values)))\n",
    "\n",
    "df_html.drop(col_values[col_values['95_%_same_values']==True].index.values,axis=1,inplace=True)\n",
    "\n",
    "print(\"Shape of our dataset after dropping them:\",df_html.shape)\n",
    "\n",
    "#### Dropping columns based on high VIF values\n",
    "\n",
    "rem=['a_href_absolute','a_href_relative','a_count','a_href_out_of_domain',\n",
    "     'base_count','base_href_absolute','base_href_out_of_domain',\n",
    "     'iframe_src_absolute','iframe_src_relative','iframe_sandbox_allow_same_origin_count','iframe_src_http',\n",
    "     'img_src_absolute','img_src_http','img_srcset_absolute','img_src_relative','img_srcset_relative','img_count',\n",
    "     'script_src_absolute','script_src_http','script_src_relative','script_count','script_src_https',\n",
    "     'link_rel_wlwmanifest','link_href_absolute','link_href_relative','link_rel_EditURI','link_count',\n",
    "     'link_type_application/wlwmanifest+xml','link_href_https','link_rel_stylesheet','link_href_.png',\n",
    "     'form_action_absolute','form_action_relative','form_count','form_action_https',\n",
    "     'form_enctype_application/x-www-form-urlencoded',\n",
    "     'tbody_count',\n",
    "     'nofollow_count']\n",
    "\n",
    "print('{} columns are dropped because of high VIF values'.format(len(rem)))\n",
    "df_html.drop(rem,axis=1,inplace=True)\n",
    "print(\"Shape of our dataset after dropping them:\",df_html.shape)"
   ]
  },
  {
   "cell_type": "markdown",
   "metadata": {},
   "source": [
    "### JavaScript read data"
   ]
  },
  {
   "cell_type": "code",
   "execution_count": 6,
   "metadata": {},
   "outputs": [
    {
     "name": "stdout",
     "output_type": "stream",
     "text": [
      "113 columns have only one unique value in them rendering them meaningless for classification\n",
      "Shape of our dataset after dropping them: (43294, 288)\n",
      "234 columns have more than 95% same values\n",
      "Shape of our dataset after dropping them: (43294, 54)\n",
      "5 columns are dropped because of high VIF values\n",
      "Shape of our dataset after dropping them: (43294, 49)\n"
     ]
    }
   ],
   "source": [
    "df_js=pd.read_csv('Javascript.csv',low_memory=False,index_col='domain')\n",
    "\n",
    "cookie=[col for col in df_js.columns if 'number' in col]\n",
    "df_js.drop(cookie,axis=1,inplace=True)\n",
    "\n",
    "df_js.rename(columns={'Malicious':'Target'},inplace=True)\n",
    "\n",
    "df_js.Target=df_js.Target.apply(lambda x: 1 if x=='Malicious' else 0)\n",
    "\n",
    "#### Dropping constants\n",
    "\n",
    "col_no_unique=[]\n",
    "for col in df_js.columns[:-1]:\n",
    "    if len(df_js[col].value_counts())==1:\n",
    "        col_no_unique.append(col)\n",
    "\n",
    "print(\"{} columns have only one unique value in them rendering them meaningless for classification\".format(len(col_no_unique)))\n",
    "### Drop those columns\n",
    "df_js.drop(col_no_unique,axis=1,inplace=True)\n",
    "\n",
    "print(\"Shape of our dataset after dropping them:\",df_js.shape)\n",
    "\n",
    "#### 95% same values\n",
    "\n",
    "lst=[]\n",
    "for col in df_js.columns[:-1]:\n",
    "    lst.append([col,dict(df_js[col].value_counts()),df_js[col].value_counts().values[0]>=len(df_js)*0.95])\n",
    "\n",
    "col_values=pd.DataFrame(lst,columns=['Feature','Value_Counts','95_%_same_values'])\n",
    "col_values.set_index('Feature',drop=True,inplace=True)\n",
    "del lst\n",
    "\n",
    "\n",
    "print(\"{} columns have more than 95% same values\".format(len(col_values[col_values['95_%_same_values']==True].index.values)))\n",
    "\n",
    "df_js.drop(col_values[col_values['95_%_same_values']==True].index.values,axis=1,inplace=True)\n",
    "\n",
    "print(\"Shape of our dataset after dropping them:\",df_js.shape)\n",
    "\n",
    "\n",
    "#### Dropping columns based on high VIF values\n",
    "\n",
    "rem=['js_function_.defineProperty(','js_function_.keys(','js_function_.substr','js_function_unescape(','js_function_.log(']\n",
    "\n",
    "print('{} columns are dropped because of high VIF values'.format(len(rem)))\n",
    "df_js.drop(rem,axis=1,inplace=True)\n",
    "print(\"Shape of our dataset after dropping them:\",df_js.shape)"
   ]
  },
  {
   "cell_type": "code",
   "execution_count": 7,
   "metadata": {},
   "outputs": [],
   "source": [
    "df=pd.concat([df_js,df_html],axis=1,join='inner')\n",
    "df['Target_z']=df[['Target','Target']].apply(max,axis=1)\n",
    "df.drop(['Target','Target'],axis=1,inplace=True)\n",
    "df.rename(columns={'Target_z':'Target'},inplace=True)"
   ]
  },
  {
   "cell_type": "code",
   "execution_count": 8,
   "metadata": {},
   "outputs": [],
   "source": [
    "df_sel=df.copy(deep=True)"
   ]
  },
  {
   "cell_type": "code",
   "execution_count": 11,
   "metadata": {},
   "outputs": [
    {
     "name": "stdout",
     "output_type": "stream",
     "text": [
      "Accuracy: 90.50%\n"
     ]
    }
   ],
   "source": [
    "X=df_sel.iloc[:,df_sel.columns!='Target']\n",
    "Y=df_sel.Target\n",
    "\n",
    "X_train, X_test, y_train, y_test = train_test_split(X, Y, test_size=0.3, random_state=7)\n",
    "\n",
    "model = XGBClassifier(random_state=0)\n",
    "model.fit(X_train, y_train)\n",
    "y_pred = model.predict(X_test)\n",
    "predictions = [round(value) for value in y_pred]\n",
    "accuracy = accuracy_score(y_test, predictions)\n",
    "print(\"Accuracy: %.2f%%\" % (accuracy * 100.0))\n",
    "thresholds = np.sort(model.feature_importances_)\n",
    "\n",
    "# for thresh in thresholds:\n",
    "#     selection = SelectFromModel(model, threshold=thresh, prefit=True)\n",
    "#     select_X_train = selection.transform(X_train)\n",
    "#     selection_model = XGBClassifier(random_state=0)\n",
    "#     selection_model.fit(select_X_train, y_train)\n",
    "#     select_X_test = selection.transform(X_test)\n",
    "#     y_pred = selection_model.predict(select_X_test)\n",
    "#     predictions = [round(value) for value in y_pred]\n",
    "#     accuracy = accuracy_score(y_test, predictions)\n",
    "#     print(\"Thresh=%.3f, n=%d, Accuracy: %.2f%%\" % (thresh, select_X_train.shape[1], accuracy*100.0))"
   ]
  },
  {
   "cell_type": "code",
   "execution_count": 12,
   "metadata": {
    "scrolled": true
   },
   "outputs": [],
   "source": [
    "# select features using threshold\n",
    "selection = SelectFromModel(model, threshold=0.010, prefit=True)\n",
    "select_X_train = selection.transform(X_train)\n",
    "# train model\n",
    "selection_model = XGBClassifier(random_state=0)\n",
    "selection_model.fit(select_X_train, y_train)\n",
    "# eval model\n",
    "select_X_test = selection.transform(X_test)\n",
    "y_pred = selection_model.predict(select_X_test)\n",
    "\n",
    "selection_model = selection.get_support()\n",
    "embeded_rf_feature = X.loc[:,selection_model].columns.tolist()"
   ]
  },
  {
   "cell_type": "code",
   "execution_count": 13,
   "metadata": {},
   "outputs": [
    {
     "data": {
      "text/plain": [
       "['dom_function_document.getElementById(',\n",
       " 'dom_function_window.addEventListener(',\n",
       " 'js_function_.find(',\n",
       " 'js_function_.get(',\n",
       " 'js_function_.indexOf(',\n",
       " 'js_function_.push(',\n",
       " 'js_function_.replace(',\n",
       " 'js_function_escape(',\n",
       " 'a_href_.com',\n",
       " 'a_href_http',\n",
       " 'a_href_https',\n",
       " 'br_count',\n",
       " 'center_count',\n",
       " 'div_count',\n",
       " 'form_action_http',\n",
       " 'img_src_.jpg',\n",
       " 'img_src_out_of_domain',\n",
       " 'li_count',\n",
       " 'link_href_.css',\n",
       " 'link_href_http',\n",
       " 'link_href_out_of_domain',\n",
       " 'link_rel_https://api.w.org/',\n",
       " 'link_rel_shortlink',\n",
       " 'link_type_application/rsd+xml',\n",
       " 'link_type_text/css',\n",
       " 'meta_count',\n",
       " 'p_count',\n",
       " 'script_async_true',\n",
       " 'script_src_.js',\n",
       " 'script_src_out_of_domain',\n",
       " 'section_count',\n",
       " 'span_count',\n",
       " 'strong_count',\n",
       " 'title_count',\n",
       " 'Target']"
      ]
     },
     "execution_count": 13,
     "metadata": {},
     "output_type": "execute_result"
    }
   ],
   "source": [
    "embeded_rf_feature.append('Target')\n",
    "embeded_rf_feature"
   ]
  },
  {
   "cell_type": "markdown",
   "metadata": {},
   "source": [
    "### <a id='1' style=\"text-decoration : none; color : #000000;\"> 2. Initial Models</a>"
   ]
  },
  {
   "cell_type": "code",
   "execution_count": 14,
   "metadata": {},
   "outputs": [],
   "source": [
    "fin_col=embeded_rf_feature"
   ]
  },
  {
   "cell_type": "code",
   "execution_count": 15,
   "metadata": {},
   "outputs": [],
   "source": [
    "df_sel=df_sel[fin_col]"
   ]
  },
  {
   "cell_type": "code",
   "execution_count": 16,
   "metadata": {},
   "outputs": [
    {
     "data": {
      "text/plain": [
       "32567.2"
      ]
     },
     "execution_count": 16,
     "metadata": {},
     "output_type": "execute_result"
    }
   ],
   "source": [
    "df_sel.shape[0]*0.8"
   ]
  },
  {
   "cell_type": "code",
   "execution_count": 17,
   "metadata": {},
   "outputs": [],
   "source": [
    "train=df_sel.iloc[:32567,:]\n",
    "train_X=train.iloc[:,train.columns!='Target'].values\n",
    "train_Y=train.Target.values\n",
    "\n",
    "scaler=StandardScaler()\n",
    "scaled_X_train=scaler.fit_transform(train_X)\n",
    "\n",
    "test=df_sel[fin_col].iloc[32567:,:]\n",
    "test_X=test.iloc[:,test.columns!='Target'].values\n",
    "test_Y=test.Target.values\n",
    "scaled_X_test=scaler.transform(test_X)"
   ]
  },
  {
   "cell_type": "code",
   "execution_count": 18,
   "metadata": {},
   "outputs": [],
   "source": [
    "columns=fin_col\n",
    "columns.remove('Target')"
   ]
  },
  {
   "cell_type": "code",
   "execution_count": 19,
   "metadata": {
    "scrolled": false
   },
   "outputs": [
    {
     "name": "stdout",
     "output_type": "stream",
     "text": [
      "\u001b[1mK-Nearest Neighbors\u001b[0m\n",
      "Accuracy of the model for training data is: 0.9131022200386895\n",
      "Confusion Matrix for training data is:\n"
     ]
    },
    {
     "data": {
      "text/plain": [
       "Predicted  False  True  __all__\n",
       "Actual                         \n",
       "False      25466  2372    27838\n",
       "True         458  4271     4729\n",
       "__all__    25924  6643    32567"
      ]
     },
     "metadata": {},
     "output_type": "display_data"
    },
    {
     "name": "stdout",
     "output_type": "stream",
     "text": [
      "Accuracy of the model for test data is: 0.9046917219356424\n",
      "Confusion Matrix for test data is:\n"
     ]
    },
    {
     "data": {
      "text/plain": [
       "Predicted  False  True  __all__\n",
       "Actual                         \n",
       "False       6304   636     6940\n",
       "True         140  1062     1202\n",
       "__all__     6444  1698     8142"
      ]
     },
     "metadata": {},
     "output_type": "display_data"
    },
    {
     "name": "stdout",
     "output_type": "stream",
     "text": [
      "\n",
      "\n",
      "\u001b[1mLogistic Regression\u001b[0m\n",
      "Accuracy of the model for training data is: 0.8938803082875303\n",
      "Confusion Matrix for training data is:\n"
     ]
    },
    {
     "data": {
      "text/plain": [
       "Predicted  False  True  __all__\n",
       "Actual                         \n",
       "False      25421  2417    27838\n",
       "True        1039  3690     4729\n",
       "__all__    26460  6107    32567"
      ]
     },
     "metadata": {},
     "output_type": "display_data"
    },
    {
     "name": "stdout",
     "output_type": "stream",
     "text": [
      "Accuracy of the model for test data is: 0.8951117661508229\n",
      "Confusion Matrix for test data is:\n"
     ]
    },
    {
     "data": {
      "text/plain": [
       "Predicted  False  True  __all__\n",
       "Actual                         \n",
       "False       6341   599     6940\n",
       "True         255   947     1202\n",
       "__all__     6596  1546     8142"
      ]
     },
     "metadata": {},
     "output_type": "display_data"
    },
    {
     "name": "stdout",
     "output_type": "stream",
     "text": [
      "\n",
      "\n",
      "\u001b[1mRandomForest Classifier\u001b[0m\n",
      "Accuracy of the model for training data is: 0.9248932968956306\n",
      "Confusion Matrix for training data is:\n"
     ]
    },
    {
     "data": {
      "text/plain": [
       "Predicted  False  True  __all__\n",
       "Actual                         \n",
       "False      25559  2279    27838\n",
       "True         167  4562     4729\n",
       "__all__    25726  6841    32567"
      ]
     },
     "metadata": {},
     "output_type": "display_data"
    },
    {
     "name": "stdout",
     "output_type": "stream",
     "text": [
      "Accuracy of the model for test data is: 0.9114468189633996\n",
      "Confusion Matrix for test data is:\n"
     ]
    },
    {
     "data": {
      "text/plain": [
       "Predicted  False  True  __all__\n",
       "Actual                         \n",
       "False       6350   590     6940\n",
       "True         131  1071     1202\n",
       "__all__     6481  1661     8142"
      ]
     },
     "metadata": {},
     "output_type": "display_data"
    },
    {
     "data": {
      "application/vnd.plotly.v1+json": {
       "config": {
        "linkText": "Export to plot.ly",
        "plotlyServerURL": "https://plot.ly",
        "showLink": true
       },
       "data": [
        {
         "marker": {
          "color": "rgb(158,202,225)",
          "line": {
           "color": "rgb(8,48,107)",
           "width": 1.5
          }
         },
         "opacity": 0.6,
         "orientation": "h",
         "text": [
          0.163,
          0.1197,
          0.086,
          0.0826,
          0.0716,
          0.0644,
          0.0608,
          0.0535,
          0.0408,
          0.0291,
          0.0261,
          0.0192,
          0.0185,
          0.0161,
          0.0141,
          0.0138,
          0.0131,
          0.0121,
          0.012,
          0.0104,
          0.0097,
          0.0094,
          0.0093,
          0.008,
          0.0073,
          0.0061,
          0.0042,
          0.0036,
          0.0033,
          0.0032,
          0.0031,
          0.0025,
          0.0018,
          0.0015
         ],
         "textposition": "outside",
         "type": "bar",
         "uid": "8832dcd8-6887-46cc-9145-d66acb698c87",
         "x": [
          0.1629736797847448,
          0.11969652292481547,
          0.0859872581114812,
          0.08263571337555672,
          0.07161809939469763,
          0.06436180092731932,
          0.060813545211582956,
          0.0535202677563318,
          0.040784745809221215,
          0.029141441421121163,
          0.026091667730946046,
          0.01924218034601336,
          0.018490862679075865,
          0.016117020231413436,
          0.01409079290161023,
          0.01381499411946593,
          0.013114198927105757,
          0.012087039378175197,
          0.011993934936180242,
          0.010425513814146853,
          0.009727910170018953,
          0.009361448227993056,
          0.009267452633737312,
          0.007989124921517352,
          0.007250392459835239,
          0.0061497331721802675,
          0.004168895444990599,
          0.003602151962222633,
          0.0033101100473447503,
          0.0031511076476027585,
          0.003128664185383366,
          0.0025121390696254626,
          0.0018433515897125856,
          0.0015362386868305441
         ],
         "y": [
          "meta_count",
          "script_src_.js",
          "title_count",
          "div_count",
          "li_count",
          "span_count",
          "a_href_https",
          "link_href_out_of_domain",
          "br_count",
          "p_count",
          "a_href_http",
          "push",
          "script_src_out_of_domain",
          "img_src_out_of_domain",
          "section_count",
          "link_type_text/css",
          "script_async_true",
          "document.getElementById",
          "link_href_http",
          "indexOf",
          "link_href_.css",
          "strong_count",
          "center_count",
          "form_action_http",
          "img_src_.jpg",
          "replace",
          "a_href_.com",
          "escape",
          "get",
          "link_type_application/rsd+xml",
          "find",
          "window.addEventListener",
          "link_rel_shortlink",
          "link_rel_https://api.w.org/"
         ]
        }
       ],
       "layout": {
        "autosize": false,
        "height": 1000,
        "width": 1000,
        "xaxis": {
         "tickfont": {
          "color": "black",
          "size": 12
         },
         "title": "Feature Importances"
        },
        "yaxis": {
         "automargin": true
        }
       }
      },
      "text/html": [
       "<div id=\"1203cae7-f058-4fbe-8282-7904445e354e\" style=\"height: 1000px; width: 1000px;\" class=\"plotly-graph-div\"></div><script type=\"text/javascript\">require([\"plotly\"], function(Plotly) { window.PLOTLYENV=window.PLOTLYENV || {};window.PLOTLYENV.BASE_URL=\"https://plot.ly\";Plotly.newPlot(\"1203cae7-f058-4fbe-8282-7904445e354e\", [{\"marker\": {\"color\": \"rgb(158,202,225)\", \"line\": {\"color\": \"rgb(8,48,107)\", \"width\": 1.5}}, \"opacity\": 0.6, \"orientation\": \"h\", \"text\": [0.163, 0.1197, 0.086, 0.0826, 0.0716, 0.0644, 0.0608, 0.0535, 0.0408, 0.0291, 0.0261, 0.0192, 0.0185, 0.0161, 0.0141, 0.0138, 0.0131, 0.0121, 0.012, 0.0104, 0.0097, 0.0094, 0.0093, 0.008, 0.0073, 0.0061, 0.0042, 0.0036, 0.0033, 0.0032, 0.0031, 0.0025, 0.0018, 0.0015], \"textposition\": \"outside\", \"x\": [0.1629736797847448, 0.11969652292481547, 0.0859872581114812, 0.08263571337555672, 0.07161809939469763, 0.06436180092731932, 0.060813545211582956, 0.0535202677563318, 0.040784745809221215, 0.029141441421121163, 0.026091667730946046, 0.01924218034601336, 0.018490862679075865, 0.016117020231413436, 0.01409079290161023, 0.01381499411946593, 0.013114198927105757, 0.012087039378175197, 0.011993934936180242, 0.010425513814146853, 0.009727910170018953, 0.009361448227993056, 0.009267452633737312, 0.007989124921517352, 0.007250392459835239, 0.0061497331721802675, 0.004168895444990599, 0.003602151962222633, 0.0033101100473447503, 0.0031511076476027585, 0.003128664185383366, 0.0025121390696254626, 0.0018433515897125856, 0.0015362386868305441], \"y\": [\"meta_count\", \"script_src_.js\", \"title_count\", \"div_count\", \"li_count\", \"span_count\", \"a_href_https\", \"link_href_out_of_domain\", \"br_count\", \"p_count\", \"a_href_http\", \"push\", \"script_src_out_of_domain\", \"img_src_out_of_domain\", \"section_count\", \"link_type_text/css\", \"script_async_true\", \"document.getElementById\", \"link_href_http\", \"indexOf\", \"link_href_.css\", \"strong_count\", \"center_count\", \"form_action_http\", \"img_src_.jpg\", \"replace\", \"a_href_.com\", \"escape\", \"get\", \"link_type_application/rsd+xml\", \"find\", \"window.addEventListener\", \"link_rel_shortlink\", \"link_rel_https://api.w.org/\"], \"type\": \"bar\", \"uid\": \"8832dcd8-6887-46cc-9145-d66acb698c87\"}], {\"autosize\": false, \"height\": 1000, \"width\": 1000, \"xaxis\": {\"tickfont\": {\"color\": \"black\", \"size\": 12}, \"title\": \"Feature Importances\"}, \"yaxis\": {\"automargin\": true}}, {\"showLink\": true, \"linkText\": \"Export to plot.ly\", \"plotlyServerURL\": \"https://plot.ly\"})});</script>"
      ],
      "text/vnd.plotly.v1+html": [
       "<div id=\"1203cae7-f058-4fbe-8282-7904445e354e\" style=\"height: 1000px; width: 1000px;\" class=\"plotly-graph-div\"></div><script type=\"text/javascript\">require([\"plotly\"], function(Plotly) { window.PLOTLYENV=window.PLOTLYENV || {};window.PLOTLYENV.BASE_URL=\"https://plot.ly\";Plotly.newPlot(\"1203cae7-f058-4fbe-8282-7904445e354e\", [{\"marker\": {\"color\": \"rgb(158,202,225)\", \"line\": {\"color\": \"rgb(8,48,107)\", \"width\": 1.5}}, \"opacity\": 0.6, \"orientation\": \"h\", \"text\": [0.163, 0.1197, 0.086, 0.0826, 0.0716, 0.0644, 0.0608, 0.0535, 0.0408, 0.0291, 0.0261, 0.0192, 0.0185, 0.0161, 0.0141, 0.0138, 0.0131, 0.0121, 0.012, 0.0104, 0.0097, 0.0094, 0.0093, 0.008, 0.0073, 0.0061, 0.0042, 0.0036, 0.0033, 0.0032, 0.0031, 0.0025, 0.0018, 0.0015], \"textposition\": \"outside\", \"x\": [0.1629736797847448, 0.11969652292481547, 0.0859872581114812, 0.08263571337555672, 0.07161809939469763, 0.06436180092731932, 0.060813545211582956, 0.0535202677563318, 0.040784745809221215, 0.029141441421121163, 0.026091667730946046, 0.01924218034601336, 0.018490862679075865, 0.016117020231413436, 0.01409079290161023, 0.01381499411946593, 0.013114198927105757, 0.012087039378175197, 0.011993934936180242, 0.010425513814146853, 0.009727910170018953, 0.009361448227993056, 0.009267452633737312, 0.007989124921517352, 0.007250392459835239, 0.0061497331721802675, 0.004168895444990599, 0.003602151962222633, 0.0033101100473447503, 0.0031511076476027585, 0.003128664185383366, 0.0025121390696254626, 0.0018433515897125856, 0.0015362386868305441], \"y\": [\"meta_count\", \"script_src_.js\", \"title_count\", \"div_count\", \"li_count\", \"span_count\", \"a_href_https\", \"link_href_out_of_domain\", \"br_count\", \"p_count\", \"a_href_http\", \"push\", \"script_src_out_of_domain\", \"img_src_out_of_domain\", \"section_count\", \"link_type_text/css\", \"script_async_true\", \"document.getElementById\", \"link_href_http\", \"indexOf\", \"link_href_.css\", \"strong_count\", \"center_count\", \"form_action_http\", \"img_src_.jpg\", \"replace\", \"a_href_.com\", \"escape\", \"get\", \"link_type_application/rsd+xml\", \"find\", \"window.addEventListener\", \"link_rel_shortlink\", \"link_rel_https://api.w.org/\"], \"type\": \"bar\", \"uid\": \"8832dcd8-6887-46cc-9145-d66acb698c87\"}], {\"autosize\": false, \"height\": 1000, \"width\": 1000, \"xaxis\": {\"tickfont\": {\"color\": \"black\", \"size\": 12}, \"title\": \"Feature Importances\"}, \"yaxis\": {\"automargin\": true}}, {\"showLink\": true, \"linkText\": \"Export to plot.ly\", \"plotlyServerURL\": \"https://plot.ly\"})});</script>"
      ]
     },
     "metadata": {},
     "output_type": "display_data"
    },
    {
     "name": "stdout",
     "output_type": "stream",
     "text": [
      "\n",
      "\n",
      "\u001b[1mAdaoost Classifier\u001b[0m\n",
      "Accuracy of the model for training data is: 0.9006970245954494\n",
      "Confusion Matrix for training data is:\n"
     ]
    },
    {
     "data": {
      "text/plain": [
       "Predicted  False  True  __all__\n",
       "Actual                         \n",
       "False      25392  2446    27838\n",
       "True         788  3941     4729\n",
       "__all__    26180  6387    32567"
      ]
     },
     "metadata": {},
     "output_type": "display_data"
    },
    {
     "name": "stdout",
     "output_type": "stream",
     "text": [
      "Accuracy of the model for test data is: 0.9006386637189879\n",
      "Confusion Matrix for test data is:\n"
     ]
    },
    {
     "data": {
      "text/plain": [
       "Predicted  False  True  __all__\n",
       "Actual                         \n",
       "False       6325   615     6940\n",
       "True         194  1008     1202\n",
       "__all__     6519  1623     8142"
      ]
     },
     "metadata": {},
     "output_type": "display_data"
    },
    {
     "data": {
      "application/vnd.plotly.v1+json": {
       "config": {
        "linkText": "Export to plot.ly",
        "plotlyServerURL": "https://plot.ly",
        "showLink": true
       },
       "data": [
        {
         "marker": {
          "color": "rgb(158,202,225)",
          "line": {
           "color": "rgb(8,48,107)",
           "width": 1.5
          }
         },
         "opacity": 0.6,
         "orientation": "h",
         "text": [
          0.1,
          0.1,
          0.06,
          0.06,
          0.06,
          0.04,
          0.04,
          0.04,
          0.04,
          0.04,
          0.04,
          0.04,
          0.04,
          0.02,
          0.02,
          0.02,
          0.02,
          0.02,
          0.02,
          0.02,
          0.02,
          0.02,
          0.02,
          0.02,
          0.02,
          0.02,
          0.02,
          0.02,
          0,
          0,
          0,
          0,
          0,
          0
         ],
         "textposition": "outside",
         "type": "bar",
         "uid": "41951bf2-0f86-4637-83f4-8d6844ed9c50",
         "x": [
          0.1,
          0.1,
          0.06,
          0.06,
          0.06,
          0.04,
          0.04,
          0.04,
          0.04,
          0.04,
          0.04,
          0.04,
          0.04,
          0.02,
          0.02,
          0.02,
          0.02,
          0.02,
          0.02,
          0.02,
          0.02,
          0.02,
          0.02,
          0.02,
          0.02,
          0.02,
          0.02,
          0.02,
          0,
          0,
          0,
          0,
          0,
          0
         ],
         "y": [
          "title_count",
          "a_href_https",
          "link_href_http",
          "a_href_http",
          "span_count",
          "section_count",
          "script_src_out_of_domain",
          "p_count",
          "link_type_text/css",
          "link_type_application/rsd+xml",
          "form_action_http",
          "img_src_.jpg",
          "window.addEventListener",
          "script_async_true",
          "meta_count",
          "strong_count",
          "link_rel_shortlink",
          "link_href_out_of_domain",
          "document.getElementById",
          "link_href_.css",
          "br_count",
          "a_href_.com",
          "escape",
          "push",
          "indexOf",
          "get",
          "find",
          "li_count",
          "img_src_out_of_domain",
          "link_rel_https://api.w.org/",
          "div_count",
          "center_count",
          "replace",
          "script_src_.js"
         ]
        }
       ],
       "layout": {
        "autosize": false,
        "height": 1000,
        "width": 1000,
        "xaxis": {
         "tickfont": {
          "color": "black",
          "size": 12
         },
         "title": "Feature Importances"
        },
        "yaxis": {
         "automargin": true
        }
       }
      },
      "text/html": [
       "<div id=\"482bd037-589e-4c0d-9aea-9517e0a42442\" style=\"height: 1000px; width: 1000px;\" class=\"plotly-graph-div\"></div><script type=\"text/javascript\">require([\"plotly\"], function(Plotly) { window.PLOTLYENV=window.PLOTLYENV || {};window.PLOTLYENV.BASE_URL=\"https://plot.ly\";Plotly.newPlot(\"482bd037-589e-4c0d-9aea-9517e0a42442\", [{\"marker\": {\"color\": \"rgb(158,202,225)\", \"line\": {\"color\": \"rgb(8,48,107)\", \"width\": 1.5}}, \"opacity\": 0.6, \"orientation\": \"h\", \"text\": [0.1, 0.1, 0.06, 0.06, 0.06, 0.04, 0.04, 0.04, 0.04, 0.04, 0.04, 0.04, 0.04, 0.02, 0.02, 0.02, 0.02, 0.02, 0.02, 0.02, 0.02, 0.02, 0.02, 0.02, 0.02, 0.02, 0.02, 0.02, 0.0, 0.0, 0.0, 0.0, 0.0, 0.0], \"textposition\": \"outside\", \"x\": [0.1, 0.1, 0.06, 0.06, 0.06, 0.04, 0.04, 0.04, 0.04, 0.04, 0.04, 0.04, 0.04, 0.02, 0.02, 0.02, 0.02, 0.02, 0.02, 0.02, 0.02, 0.02, 0.02, 0.02, 0.02, 0.02, 0.02, 0.02, 0.0, 0.0, 0.0, 0.0, 0.0, 0.0], \"y\": [\"title_count\", \"a_href_https\", \"link_href_http\", \"a_href_http\", \"span_count\", \"section_count\", \"script_src_out_of_domain\", \"p_count\", \"link_type_text/css\", \"link_type_application/rsd+xml\", \"form_action_http\", \"img_src_.jpg\", \"window.addEventListener\", \"script_async_true\", \"meta_count\", \"strong_count\", \"link_rel_shortlink\", \"link_href_out_of_domain\", \"document.getElementById\", \"link_href_.css\", \"br_count\", \"a_href_.com\", \"escape\", \"push\", \"indexOf\", \"get\", \"find\", \"li_count\", \"img_src_out_of_domain\", \"link_rel_https://api.w.org/\", \"div_count\", \"center_count\", \"replace\", \"script_src_.js\"], \"type\": \"bar\", \"uid\": \"41951bf2-0f86-4637-83f4-8d6844ed9c50\"}], {\"autosize\": false, \"height\": 1000, \"width\": 1000, \"xaxis\": {\"tickfont\": {\"color\": \"black\", \"size\": 12}, \"title\": \"Feature Importances\"}, \"yaxis\": {\"automargin\": true}}, {\"showLink\": true, \"linkText\": \"Export to plot.ly\", \"plotlyServerURL\": \"https://plot.ly\"})});</script>"
      ],
      "text/vnd.plotly.v1+html": [
       "<div id=\"482bd037-589e-4c0d-9aea-9517e0a42442\" style=\"height: 1000px; width: 1000px;\" class=\"plotly-graph-div\"></div><script type=\"text/javascript\">require([\"plotly\"], function(Plotly) { window.PLOTLYENV=window.PLOTLYENV || {};window.PLOTLYENV.BASE_URL=\"https://plot.ly\";Plotly.newPlot(\"482bd037-589e-4c0d-9aea-9517e0a42442\", [{\"marker\": {\"color\": \"rgb(158,202,225)\", \"line\": {\"color\": \"rgb(8,48,107)\", \"width\": 1.5}}, \"opacity\": 0.6, \"orientation\": \"h\", \"text\": [0.1, 0.1, 0.06, 0.06, 0.06, 0.04, 0.04, 0.04, 0.04, 0.04, 0.04, 0.04, 0.04, 0.02, 0.02, 0.02, 0.02, 0.02, 0.02, 0.02, 0.02, 0.02, 0.02, 0.02, 0.02, 0.02, 0.02, 0.02, 0.0, 0.0, 0.0, 0.0, 0.0, 0.0], \"textposition\": \"outside\", \"x\": [0.1, 0.1, 0.06, 0.06, 0.06, 0.04, 0.04, 0.04, 0.04, 0.04, 0.04, 0.04, 0.04, 0.02, 0.02, 0.02, 0.02, 0.02, 0.02, 0.02, 0.02, 0.02, 0.02, 0.02, 0.02, 0.02, 0.02, 0.02, 0.0, 0.0, 0.0, 0.0, 0.0, 0.0], \"y\": [\"title_count\", \"a_href_https\", \"link_href_http\", \"a_href_http\", \"span_count\", \"section_count\", \"script_src_out_of_domain\", \"p_count\", \"link_type_text/css\", \"link_type_application/rsd+xml\", \"form_action_http\", \"img_src_.jpg\", \"window.addEventListener\", \"script_async_true\", \"meta_count\", \"strong_count\", \"link_rel_shortlink\", \"link_href_out_of_domain\", \"document.getElementById\", \"link_href_.css\", \"br_count\", \"a_href_.com\", \"escape\", \"push\", \"indexOf\", \"get\", \"find\", \"li_count\", \"img_src_out_of_domain\", \"link_rel_https://api.w.org/\", \"div_count\", \"center_count\", \"replace\", \"script_src_.js\"], \"type\": \"bar\", \"uid\": \"41951bf2-0f86-4637-83f4-8d6844ed9c50\"}], {\"autosize\": false, \"height\": 1000, \"width\": 1000, \"xaxis\": {\"tickfont\": {\"color\": \"black\", \"size\": 12}, \"title\": \"Feature Importances\"}, \"yaxis\": {\"automargin\": true}}, {\"showLink\": true, \"linkText\": \"Export to plot.ly\", \"plotlyServerURL\": \"https://plot.ly\"})});</script>"
      ]
     },
     "metadata": {},
     "output_type": "display_data"
    },
    {
     "name": "stdout",
     "output_type": "stream",
     "text": [
      "\n",
      "\n",
      "\u001b[1mGradientBoosting Classifier\u001b[0m\n",
      "Accuracy of the model for training data is: 0.9087726840052814\n",
      "Confusion Matrix for training data is:\n"
     ]
    },
    {
     "data": {
      "text/plain": [
       "Predicted  False  True  __all__\n",
       "Actual                         \n",
       "False      25514  2324    27838\n",
       "True         647  4082     4729\n",
       "__all__    26161  6406    32567"
      ]
     },
     "metadata": {},
     "output_type": "display_data"
    },
    {
     "name": "stdout",
     "output_type": "stream",
     "text": [
      "Accuracy of the model for test data is: 0.9057971014492754\n",
      "Confusion Matrix for test data is:\n"
     ]
    },
    {
     "data": {
      "text/plain": [
       "Predicted  False  True  __all__\n",
       "Actual                         \n",
       "False       6346   594     6940\n",
       "True         173  1029     1202\n",
       "__all__     6519  1623     8142"
      ]
     },
     "metadata": {},
     "output_type": "display_data"
    },
    {
     "data": {
      "application/vnd.plotly.v1+json": {
       "config": {
        "linkText": "Export to plot.ly",
        "plotlyServerURL": "https://plot.ly",
        "showLink": true
       },
       "data": [
        {
         "marker": {
          "color": "rgb(158,202,225)",
          "line": {
           "color": "rgb(8,48,107)",
           "width": 1.5
          }
         },
         "opacity": 0.6,
         "orientation": "h",
         "text": [
          0.7445,
          0.0598,
          0.0392,
          0.0294,
          0.0289,
          0.0122,
          0.01,
          0.0078,
          0.0075,
          0.0057,
          0.0055,
          0.0055,
          0.005,
          0.0046,
          0.0039,
          0.0038,
          0.0036,
          0.0032,
          0.0031,
          0.0023,
          0.0022,
          0.002,
          0.0018,
          0.0017,
          0.0015,
          0.0012,
          0.0011,
          0.0009,
          0.0008,
          0.0007,
          0.0004,
          0.0004,
          0.0002,
          0
         ],
         "textposition": "outside",
         "type": "bar",
         "uid": "528b5741-c532-4d49-bea3-e2e70da5c214",
         "x": [
          0.744546788978257,
          0.05977072749663694,
          0.03924437056524564,
          0.029375432406778403,
          0.028888924336416842,
          0.012195572041952724,
          0.010043373898320147,
          0.007783407850709898,
          0.007467525946581941,
          0.005651071282207446,
          0.005548889136695339,
          0.005485033593766183,
          0.004957520068830981,
          0.004564009937934279,
          0.003874521572328167,
          0.0037500384644150366,
          0.0036054124006160418,
          0.003233439497002641,
          0.0030742012553258446,
          0.0023109275708886245,
          0.0021555391331322697,
          0.001979284381285858,
          0.001823152661996276,
          0.0016664501465261084,
          0.001498997344150698,
          0.0011952293595332984,
          0.0010513929433883494,
          0.000860993872167924,
          0.0008324562384748233,
          0.0006747748722388863,
          0.00037998507994170874,
          0.00035137439247182647,
          0.00015315407380179732,
          6.027199980170042e-06
         ],
         "y": [
          "title_count",
          "link_href_out_of_domain",
          "div_count",
          "meta_count",
          "push",
          "a_href_https",
          "indexOf",
          "a_href_http",
          "link_type_text/css",
          "p_count",
          "document.getElementById",
          "strong_count",
          "script_async_true",
          "section_count",
          "center_count",
          "script_src_.js",
          "li_count",
          "link_href_http",
          "form_action_http",
          "get",
          "script_src_out_of_domain",
          "link_rel_shortlink",
          "span_count",
          "img_src_out_of_domain",
          "br_count",
          "link_type_application/rsd+xml",
          "a_href_.com",
          "escape",
          "img_src_.jpg",
          "replace",
          "link_href_.css",
          "find",
          "window.addEventListener",
          "link_rel_https://api.w.org/"
         ]
        }
       ],
       "layout": {
        "autosize": false,
        "height": 1000,
        "width": 1000,
        "xaxis": {
         "tickfont": {
          "color": "black",
          "size": 12
         },
         "title": "Feature Importances"
        },
        "yaxis": {
         "automargin": true
        }
       }
      },
      "text/html": [
       "<div id=\"0085b5ef-a7f5-494d-9d6e-c378c31a9ea1\" style=\"height: 1000px; width: 1000px;\" class=\"plotly-graph-div\"></div><script type=\"text/javascript\">require([\"plotly\"], function(Plotly) { window.PLOTLYENV=window.PLOTLYENV || {};window.PLOTLYENV.BASE_URL=\"https://plot.ly\";Plotly.newPlot(\"0085b5ef-a7f5-494d-9d6e-c378c31a9ea1\", [{\"marker\": {\"color\": \"rgb(158,202,225)\", \"line\": {\"color\": \"rgb(8,48,107)\", \"width\": 1.5}}, \"opacity\": 0.6, \"orientation\": \"h\", \"text\": [0.7445, 0.0598, 0.0392, 0.0294, 0.0289, 0.0122, 0.01, 0.0078, 0.0075, 0.0057, 0.0055, 0.0055, 0.005, 0.0046, 0.0039, 0.0038, 0.0036, 0.0032, 0.0031, 0.0023, 0.0022, 0.002, 0.0018, 0.0017, 0.0015, 0.0012, 0.0011, 0.0009, 0.0008, 0.0007, 0.0004, 0.0004, 0.0002, 0.0], \"textposition\": \"outside\", \"x\": [0.744546788978257, 0.05977072749663694, 0.03924437056524564, 0.029375432406778403, 0.028888924336416842, 0.012195572041952724, 0.010043373898320147, 0.007783407850709898, 0.007467525946581941, 0.005651071282207446, 0.005548889136695339, 0.005485033593766183, 0.004957520068830981, 0.004564009937934279, 0.003874521572328167, 0.0037500384644150366, 0.0036054124006160418, 0.003233439497002641, 0.0030742012553258446, 0.0023109275708886245, 0.0021555391331322697, 0.001979284381285858, 0.001823152661996276, 0.0016664501465261084, 0.001498997344150698, 0.0011952293595332984, 0.0010513929433883494, 0.000860993872167924, 0.0008324562384748233, 0.0006747748722388863, 0.00037998507994170874, 0.00035137439247182647, 0.00015315407380179732, 6.027199980170042e-06], \"y\": [\"title_count\", \"link_href_out_of_domain\", \"div_count\", \"meta_count\", \"push\", \"a_href_https\", \"indexOf\", \"a_href_http\", \"link_type_text/css\", \"p_count\", \"document.getElementById\", \"strong_count\", \"script_async_true\", \"section_count\", \"center_count\", \"script_src_.js\", \"li_count\", \"link_href_http\", \"form_action_http\", \"get\", \"script_src_out_of_domain\", \"link_rel_shortlink\", \"span_count\", \"img_src_out_of_domain\", \"br_count\", \"link_type_application/rsd+xml\", \"a_href_.com\", \"escape\", \"img_src_.jpg\", \"replace\", \"link_href_.css\", \"find\", \"window.addEventListener\", \"link_rel_https://api.w.org/\"], \"type\": \"bar\", \"uid\": \"528b5741-c532-4d49-bea3-e2e70da5c214\"}], {\"autosize\": false, \"height\": 1000, \"width\": 1000, \"xaxis\": {\"tickfont\": {\"color\": \"black\", \"size\": 12}, \"title\": \"Feature Importances\"}, \"yaxis\": {\"automargin\": true}}, {\"showLink\": true, \"linkText\": \"Export to plot.ly\", \"plotlyServerURL\": \"https://plot.ly\"})});</script>"
      ],
      "text/vnd.plotly.v1+html": [
       "<div id=\"0085b5ef-a7f5-494d-9d6e-c378c31a9ea1\" style=\"height: 1000px; width: 1000px;\" class=\"plotly-graph-div\"></div><script type=\"text/javascript\">require([\"plotly\"], function(Plotly) { window.PLOTLYENV=window.PLOTLYENV || {};window.PLOTLYENV.BASE_URL=\"https://plot.ly\";Plotly.newPlot(\"0085b5ef-a7f5-494d-9d6e-c378c31a9ea1\", [{\"marker\": {\"color\": \"rgb(158,202,225)\", \"line\": {\"color\": \"rgb(8,48,107)\", \"width\": 1.5}}, \"opacity\": 0.6, \"orientation\": \"h\", \"text\": [0.7445, 0.0598, 0.0392, 0.0294, 0.0289, 0.0122, 0.01, 0.0078, 0.0075, 0.0057, 0.0055, 0.0055, 0.005, 0.0046, 0.0039, 0.0038, 0.0036, 0.0032, 0.0031, 0.0023, 0.0022, 0.002, 0.0018, 0.0017, 0.0015, 0.0012, 0.0011, 0.0009, 0.0008, 0.0007, 0.0004, 0.0004, 0.0002, 0.0], \"textposition\": \"outside\", \"x\": [0.744546788978257, 0.05977072749663694, 0.03924437056524564, 0.029375432406778403, 0.028888924336416842, 0.012195572041952724, 0.010043373898320147, 0.007783407850709898, 0.007467525946581941, 0.005651071282207446, 0.005548889136695339, 0.005485033593766183, 0.004957520068830981, 0.004564009937934279, 0.003874521572328167, 0.0037500384644150366, 0.0036054124006160418, 0.003233439497002641, 0.0030742012553258446, 0.0023109275708886245, 0.0021555391331322697, 0.001979284381285858, 0.001823152661996276, 0.0016664501465261084, 0.001498997344150698, 0.0011952293595332984, 0.0010513929433883494, 0.000860993872167924, 0.0008324562384748233, 0.0006747748722388863, 0.00037998507994170874, 0.00035137439247182647, 0.00015315407380179732, 6.027199980170042e-06], \"y\": [\"title_count\", \"link_href_out_of_domain\", \"div_count\", \"meta_count\", \"push\", \"a_href_https\", \"indexOf\", \"a_href_http\", \"link_type_text/css\", \"p_count\", \"document.getElementById\", \"strong_count\", \"script_async_true\", \"section_count\", \"center_count\", \"script_src_.js\", \"li_count\", \"link_href_http\", \"form_action_http\", \"get\", \"script_src_out_of_domain\", \"link_rel_shortlink\", \"span_count\", \"img_src_out_of_domain\", \"br_count\", \"link_type_application/rsd+xml\", \"a_href_.com\", \"escape\", \"img_src_.jpg\", \"replace\", \"link_href_.css\", \"find\", \"window.addEventListener\", \"link_rel_https://api.w.org/\"], \"type\": \"bar\", \"uid\": \"528b5741-c532-4d49-bea3-e2e70da5c214\"}], {\"autosize\": false, \"height\": 1000, \"width\": 1000, \"xaxis\": {\"tickfont\": {\"color\": \"black\", \"size\": 12}, \"title\": \"Feature Importances\"}, \"yaxis\": {\"automargin\": true}}, {\"showLink\": true, \"linkText\": \"Export to plot.ly\", \"plotlyServerURL\": \"https://plot.ly\"})});</script>"
      ]
     },
     "metadata": {},
     "output_type": "display_data"
    },
    {
     "name": "stdout",
     "output_type": "stream",
     "text": [
      "\n",
      "\n",
      "\u001b[1mExtraTree Classifier\u001b[0m\n",
      "Accuracy of the model for training data is: 0.9267663585838425\n",
      "Confusion Matrix for training data is:\n"
     ]
    },
    {
     "data": {
      "text/plain": [
       "Predicted  False  True  __all__\n",
       "Actual                         \n",
       "False      25571  2267    27838\n",
       "True         118  4611     4729\n",
       "__all__    25689  6878    32567"
      ]
     },
     "metadata": {},
     "output_type": "display_data"
    },
    {
     "name": "stdout",
     "output_type": "stream",
     "text": [
      "Accuracy of the model for test data is: 0.9119380987472365\n",
      "Confusion Matrix for test data is:\n"
     ]
    },
    {
     "data": {
      "text/plain": [
       "Predicted  False  True  __all__\n",
       "Actual                         \n",
       "False       6356   584     6940\n",
       "True         133  1069     1202\n",
       "__all__     6489  1653     8142"
      ]
     },
     "metadata": {},
     "output_type": "display_data"
    },
    {
     "data": {
      "application/vnd.plotly.v1+json": {
       "config": {
        "linkText": "Export to plot.ly",
        "plotlyServerURL": "https://plot.ly",
        "showLink": true
       },
       "data": [
        {
         "marker": {
          "color": "rgb(158,202,225)",
          "line": {
           "color": "rgb(8,48,107)",
           "width": 1.5
          }
         },
         "opacity": 0.6,
         "orientation": "h",
         "text": [
          0.0861,
          0.0784,
          0.0776,
          0.0673,
          0.0511,
          0.0493,
          0.0483,
          0.0463,
          0.044,
          0.0413,
          0.0389,
          0.0374,
          0.0338,
          0.0303,
          0.03,
          0.0295,
          0.0214,
          0.0203,
          0.0185,
          0.0178,
          0.0172,
          0.0155,
          0.0129,
          0.0128,
          0.0101,
          0.0099,
          0.0092,
          0.008,
          0.0079,
          0.0063,
          0.0063,
          0.0056,
          0.0055,
          0.005
         ],
         "textposition": "outside",
         "type": "bar",
         "uid": "42664b27-5b24-4c8d-8857-da8f8a91447b",
         "x": [
          0.08613790748503142,
          0.07844308981747801,
          0.07761532573615376,
          0.0673351155600748,
          0.05111797483072031,
          0.04927763551249142,
          0.048263158005195976,
          0.04629313550246429,
          0.04403820203539661,
          0.04127851535484187,
          0.038888737193279926,
          0.037353595686309714,
          0.033811506726134866,
          0.03034114885919376,
          0.03004666076453299,
          0.029539281532013455,
          0.021356511523817314,
          0.020262418597786085,
          0.01850764800629123,
          0.01784728461376546,
          0.017175180801975387,
          0.015538337826983427,
          0.012877947184606175,
          0.012790671158303681,
          0.010106042692280761,
          0.00994365728653095,
          0.009183127820410036,
          0.008048797461717988,
          0.007880237097224529,
          0.006345374335368043,
          0.0062933615352913355,
          0.005562480366883403,
          0.005457598593056349,
          0.005042332496394805
         ],
         "y": [
          "script_async_true",
          "script_src_.js",
          "script_src_out_of_domain",
          "link_type_text/css",
          "br_count",
          "link_href_.css",
          "span_count",
          "title_count",
          "a_href_https",
          "a_href_http",
          "p_count",
          "div_count",
          "meta_count",
          "img_src_out_of_domain",
          "link_href_out_of_domain",
          "img_src_.jpg",
          "section_count",
          "push",
          "form_action_http",
          "replace",
          "document.getElementById",
          "li_count",
          "center_count",
          "link_href_http",
          "strong_count",
          "window.addEventListener",
          "link_rel_https://api.w.org/",
          "indexOf",
          "get",
          "escape",
          "a_href_.com",
          "find",
          "link_rel_shortlink",
          "link_type_application/rsd+xml"
         ]
        }
       ],
       "layout": {
        "autosize": false,
        "height": 1000,
        "width": 1000,
        "xaxis": {
         "tickfont": {
          "color": "black",
          "size": 12
         },
         "title": "Feature Importances"
        },
        "yaxis": {
         "automargin": true
        }
       }
      },
      "text/html": [
       "<div id=\"8cb12e45-9c03-4c7a-9593-e27301b7caad\" style=\"height: 1000px; width: 1000px;\" class=\"plotly-graph-div\"></div><script type=\"text/javascript\">require([\"plotly\"], function(Plotly) { window.PLOTLYENV=window.PLOTLYENV || {};window.PLOTLYENV.BASE_URL=\"https://plot.ly\";Plotly.newPlot(\"8cb12e45-9c03-4c7a-9593-e27301b7caad\", [{\"marker\": {\"color\": \"rgb(158,202,225)\", \"line\": {\"color\": \"rgb(8,48,107)\", \"width\": 1.5}}, \"opacity\": 0.6, \"orientation\": \"h\", \"text\": [0.0861, 0.0784, 0.0776, 0.0673, 0.0511, 0.0493, 0.0483, 0.0463, 0.044, 0.0413, 0.0389, 0.0374, 0.0338, 0.0303, 0.03, 0.0295, 0.0214, 0.0203, 0.0185, 0.0178, 0.0172, 0.0155, 0.0129, 0.0128, 0.0101, 0.0099, 0.0092, 0.008, 0.0079, 0.0063, 0.0063, 0.0056, 0.0055, 0.005], \"textposition\": \"outside\", \"x\": [0.08613790748503142, 0.07844308981747801, 0.07761532573615376, 0.0673351155600748, 0.05111797483072031, 0.04927763551249142, 0.048263158005195976, 0.04629313550246429, 0.04403820203539661, 0.04127851535484187, 0.038888737193279926, 0.037353595686309714, 0.033811506726134866, 0.03034114885919376, 0.03004666076453299, 0.029539281532013455, 0.021356511523817314, 0.020262418597786085, 0.01850764800629123, 0.01784728461376546, 0.017175180801975387, 0.015538337826983427, 0.012877947184606175, 0.012790671158303681, 0.010106042692280761, 0.00994365728653095, 0.009183127820410036, 0.008048797461717988, 0.007880237097224529, 0.006345374335368043, 0.0062933615352913355, 0.005562480366883403, 0.005457598593056349, 0.005042332496394805], \"y\": [\"script_async_true\", \"script_src_.js\", \"script_src_out_of_domain\", \"link_type_text/css\", \"br_count\", \"link_href_.css\", \"span_count\", \"title_count\", \"a_href_https\", \"a_href_http\", \"p_count\", \"div_count\", \"meta_count\", \"img_src_out_of_domain\", \"link_href_out_of_domain\", \"img_src_.jpg\", \"section_count\", \"push\", \"form_action_http\", \"replace\", \"document.getElementById\", \"li_count\", \"center_count\", \"link_href_http\", \"strong_count\", \"window.addEventListener\", \"link_rel_https://api.w.org/\", \"indexOf\", \"get\", \"escape\", \"a_href_.com\", \"find\", \"link_rel_shortlink\", \"link_type_application/rsd+xml\"], \"type\": \"bar\", \"uid\": \"42664b27-5b24-4c8d-8857-da8f8a91447b\"}], {\"autosize\": false, \"height\": 1000, \"width\": 1000, \"xaxis\": {\"tickfont\": {\"color\": \"black\", \"size\": 12}, \"title\": \"Feature Importances\"}, \"yaxis\": {\"automargin\": true}}, {\"showLink\": true, \"linkText\": \"Export to plot.ly\", \"plotlyServerURL\": \"https://plot.ly\"})});</script>"
      ],
      "text/vnd.plotly.v1+html": [
       "<div id=\"8cb12e45-9c03-4c7a-9593-e27301b7caad\" style=\"height: 1000px; width: 1000px;\" class=\"plotly-graph-div\"></div><script type=\"text/javascript\">require([\"plotly\"], function(Plotly) { window.PLOTLYENV=window.PLOTLYENV || {};window.PLOTLYENV.BASE_URL=\"https://plot.ly\";Plotly.newPlot(\"8cb12e45-9c03-4c7a-9593-e27301b7caad\", [{\"marker\": {\"color\": \"rgb(158,202,225)\", \"line\": {\"color\": \"rgb(8,48,107)\", \"width\": 1.5}}, \"opacity\": 0.6, \"orientation\": \"h\", \"text\": [0.0861, 0.0784, 0.0776, 0.0673, 0.0511, 0.0493, 0.0483, 0.0463, 0.044, 0.0413, 0.0389, 0.0374, 0.0338, 0.0303, 0.03, 0.0295, 0.0214, 0.0203, 0.0185, 0.0178, 0.0172, 0.0155, 0.0129, 0.0128, 0.0101, 0.0099, 0.0092, 0.008, 0.0079, 0.0063, 0.0063, 0.0056, 0.0055, 0.005], \"textposition\": \"outside\", \"x\": [0.08613790748503142, 0.07844308981747801, 0.07761532573615376, 0.0673351155600748, 0.05111797483072031, 0.04927763551249142, 0.048263158005195976, 0.04629313550246429, 0.04403820203539661, 0.04127851535484187, 0.038888737193279926, 0.037353595686309714, 0.033811506726134866, 0.03034114885919376, 0.03004666076453299, 0.029539281532013455, 0.021356511523817314, 0.020262418597786085, 0.01850764800629123, 0.01784728461376546, 0.017175180801975387, 0.015538337826983427, 0.012877947184606175, 0.012790671158303681, 0.010106042692280761, 0.00994365728653095, 0.009183127820410036, 0.008048797461717988, 0.007880237097224529, 0.006345374335368043, 0.0062933615352913355, 0.005562480366883403, 0.005457598593056349, 0.005042332496394805], \"y\": [\"script_async_true\", \"script_src_.js\", \"script_src_out_of_domain\", \"link_type_text/css\", \"br_count\", \"link_href_.css\", \"span_count\", \"title_count\", \"a_href_https\", \"a_href_http\", \"p_count\", \"div_count\", \"meta_count\", \"img_src_out_of_domain\", \"link_href_out_of_domain\", \"img_src_.jpg\", \"section_count\", \"push\", \"form_action_http\", \"replace\", \"document.getElementById\", \"li_count\", \"center_count\", \"link_href_http\", \"strong_count\", \"window.addEventListener\", \"link_rel_https://api.w.org/\", \"indexOf\", \"get\", \"escape\", \"a_href_.com\", \"find\", \"link_rel_shortlink\", \"link_type_application/rsd+xml\"], \"type\": \"bar\", \"uid\": \"42664b27-5b24-4c8d-8857-da8f8a91447b\"}], {\"autosize\": false, \"height\": 1000, \"width\": 1000, \"xaxis\": {\"tickfont\": {\"color\": \"black\", \"size\": 12}, \"title\": \"Feature Importances\"}, \"yaxis\": {\"automargin\": true}}, {\"showLink\": true, \"linkText\": \"Export to plot.ly\", \"plotlyServerURL\": \"https://plot.ly\"})});</script>"
      ]
     },
     "metadata": {},
     "output_type": "display_data"
    },
    {
     "name": "stdout",
     "output_type": "stream",
     "text": [
      "\n",
      "\n",
      "\u001b[1mBagging Classifier\u001b[0m\n",
      "Accuracy of the model for training data is: 0.9246783553904259\n",
      "Confusion Matrix for training data is:\n"
     ]
    },
    {
     "data": {
      "text/plain": [
       "Predicted  False  True  __all__\n",
       "Actual                         \n",
       "False      25560  2278    27838\n",
       "True         175  4554     4729\n",
       "__all__    25735  6832    32567"
      ]
     },
     "metadata": {},
     "output_type": "display_data"
    },
    {
     "name": "stdout",
     "output_type": "stream",
     "text": [
      "Accuracy of the model for test data is: 0.9107098992876443\n",
      "Confusion Matrix for test data is:\n"
     ]
    },
    {
     "data": {
      "text/plain": [
       "Predicted  False  True  __all__\n",
       "Actual                         \n",
       "False       6339   601     6940\n",
       "True         126  1076     1202\n",
       "__all__     6465  1677     8142"
      ]
     },
     "metadata": {},
     "output_type": "display_data"
    },
    {
     "name": "stdout",
     "output_type": "stream",
     "text": [
      "\n",
      "\n",
      "\u001b[1mNeural Network-1\u001b[0m\n",
      "The accuracy of the model on training data is: 0.9136549267681888\n"
     ]
    },
    {
     "data": {
      "text/plain": [
       "Predicted  False  True  __all__\n",
       "Actual                         \n",
       "False      25504  2334    27838\n",
       "True         478  4251     4729\n",
       "__all__    25982  6585    32567"
      ]
     },
     "metadata": {},
     "output_type": "display_data"
    },
    {
     "name": "stdout",
     "output_type": "stream",
     "text": [
      "The accuracy of the model on test data is: 0.9042004421518055\n"
     ]
    },
    {
     "data": {
      "text/plain": [
       "Predicted  False  True  __all__\n",
       "Actual                         \n",
       "False       6327   613     6940\n",
       "True         167  1035     1202\n",
       "__all__     6494  1648     8142"
      ]
     },
     "metadata": {},
     "output_type": "display_data"
    },
    {
     "name": "stdout",
     "output_type": "stream",
     "text": [
      "\n",
      "\n"
     ]
    }
   ],
   "source": [
    "ind_columns=['KNeighborsClassifier','LogisticRegression','RandomForestClassifier','AdaBoostClassifier',\n",
    "             'GradientBoostingClassifier','ExtraTreeClassifier','BaggingClassifier','Neural Network-1']\n",
    "\n",
    "f=[KNN_model,Logistic_model,RandomForest,AdaBoost,GradientBoosting, ExtraTree,Bagging,DeepLearning1]\n",
    "\n",
    "## Table to store training and test measures\n",
    "table_80_50_train=pd.DataFrame(columns=['accuracy','TP','TN','FP','FN','FPR','FNR'])\n",
    "table_80_50_test=pd.DataFrame(columns=['accuracy','TP','TN','FP','FN','FPR','FNR','auc','MCC'])\n",
    "\n",
    "feat_imp=[None]*4\n",
    "j=0\n",
    "for i in range(0,8):\n",
    "    if i>=2 and i<=5:\n",
    "        model,cm_train,cm_test,acc_train,acc_test,roc_auc,feat_imp[j],mcc=f[i](scaled_X_train,train_Y,scaled_X_test,test_Y,columns)\n",
    "        j=j+1\n",
    "    else:\n",
    "        model,cm_train,cm_test,acc_train,acc_test,roc_auc,mcc=f[i](scaled_X_train,train_Y,scaled_X_test,test_Y)\n",
    "    table_80_50_train.loc[i]=   ([acc_train,cm_train.TP,cm_train.TN,cm_train.FP,cm_train.FN,cm_train.FPR,cm_train.FNR])\n",
    "    table_80_50_test.loc[i] =   ([acc_test ,cm_test.TP, cm_test.TN, cm_test.FP, cm_test.FN, cm_test.FPR, cm_test.FNR,roc_auc,mcc])\n",
    "    print(\"\\n\")"
   ]
  },
  {
   "cell_type": "markdown",
   "metadata": {},
   "source": [
    "### <a id='1.A' style=\"text-decoration : none; color : #000000;\"> A Results</a>"
   ]
  },
  {
   "cell_type": "code",
   "execution_count": 20,
   "metadata": {},
   "outputs": [
    {
     "data": {
      "application/vnd.plotly.v1+json": {
       "config": {
        "linkText": "Export to plot.ly",
        "plotlyServerURL": "https://plot.ly",
        "showLink": true
       },
       "data": [
        {
         "mode": "lines",
         "name": "KNN_model",
         "type": "scatter",
         "uid": "9f818dbb-600c-4053-b933-4f373a11067e",
         "x": [
          "accuracy",
          "FPR",
          "FNR",
          "auc"
         ],
         "y": [
          0.9046917219356424,
          0.09164265129682997,
          0.11647254575707154,
          0.8959424014730493
         ]
        },
        {
         "mode": "lines+markers",
         "name": "Logistic Regression",
         "type": "scatter",
         "uid": "890aea8a-72eb-4518-8004-f9914ba97fd9",
         "x": [
          "accuracy",
          "FPR",
          "FNR",
          "auc"
         ],
         "y": [
          0.8951117661508229,
          0.08631123919308357,
          0.21214642262895175,
          0.8507711690889823
         ]
        },
        {
         "marker": {
          "symbol": "x"
         },
         "mode": "lines+markers",
         "name": "Random Forest",
         "type": "scatter",
         "uid": "c563ed1a-bc63-46f7-991c-e87fb2a533f1",
         "x": [
          "accuracy",
          "FPR",
          "FNR",
          "auc"
         ],
         "y": [
          0.9114468189633996,
          0.08501440922190202,
          0.10898502495840266,
          0.9030002829098477
         ]
        },
        {
         "mode": "lines",
         "name": "Ada Boost",
         "type": "scatter",
         "uid": "6a085a57-033b-41c5-a68b-b4afc3bed73b",
         "x": [
          "accuracy",
          "FPR",
          "FNR",
          "auc"
         ],
         "y": [
          0.9006386637189879,
          0.08861671469740634,
          0.16139767054908485,
          0.8749928073767544
         ]
        },
        {
         "mode": "lines+markers",
         "name": "GradientBoosting",
         "type": "scatter",
         "uid": "65a7b464-2b9d-49d2-bc9e-7929383edf68",
         "x": [
          "accuracy",
          "FPR",
          "FNR",
          "auc"
         ],
         "y": [
          0.9057971014492754,
          0.08559077809798271,
          0.14392678868552414,
          0.8852412166082466
         ]
        },
        {
         "marker": {
          "symbol": "x"
         },
         "mode": "lines+markers",
         "name": "ExtraTree Classifier",
         "type": "scatter",
         "uid": "31543fd7-7860-486e-aaa4-03d63a917f2d",
         "x": [
          "accuracy",
          "FPR",
          "FNR",
          "auc"
         ],
         "y": [
          0.9119380987472365,
          0.08414985590778098,
          0.11064891846921797,
          0.9026006128115005
         ]
        },
        {
         "marker": {
          "symbol": "x"
         },
         "mode": "lines+markers",
         "name": "Bagging",
         "type": "scatter",
         "uid": "1ac52e13-cc5c-4a73-b944-3093ffe1eb70",
         "x": [
          "accuracy",
          "FPR",
          "FNR",
          "auc"
         ],
         "y": [
          0.9107098992876443,
          0.08659942363112393,
          0.1048252911813644,
          0.9042876425937558
         ]
        },
        {
         "marker": {
          "symbol": "x"
         },
         "mode": "lines+markers",
         "name": "Neural Network",
         "type": "scatter",
         "uid": "e828b8ed-6bf8-410e-b276-7c746479d892",
         "x": [
          "accuracy",
          "FPR",
          "FNR",
          "auc"
         ],
         "y": [
          0.9042004421518055,
          0.08832853025936599,
          0.1389351081530782,
          0.886368180793778
         ]
        }
       ],
       "layout": {
        "title": "Result comparision for Features selected in Section 1",
        "yaxis": {
         "dtick": 0.05,
         "tick0": 0
        }
       }
      },
      "text/html": [
       "<div id=\"1ea3db48-cbfd-481c-a7e9-a546ad9d8b28\" style=\"height: 525px; width: 100%;\" class=\"plotly-graph-div\"></div><script type=\"text/javascript\">require([\"plotly\"], function(Plotly) { window.PLOTLYENV=window.PLOTLYENV || {};window.PLOTLYENV.BASE_URL=\"https://plot.ly\";Plotly.newPlot(\"1ea3db48-cbfd-481c-a7e9-a546ad9d8b28\", [{\"mode\": \"lines\", \"name\": \"KNN_model\", \"x\": [\"accuracy\", \"FPR\", \"FNR\", \"auc\"], \"y\": [0.9046917219356424, 0.09164265129682997, 0.11647254575707154, 0.8959424014730493], \"type\": \"scatter\", \"uid\": \"9f818dbb-600c-4053-b933-4f373a11067e\"}, {\"mode\": \"lines+markers\", \"name\": \"Logistic Regression\", \"x\": [\"accuracy\", \"FPR\", \"FNR\", \"auc\"], \"y\": [0.8951117661508229, 0.08631123919308357, 0.21214642262895175, 0.8507711690889823], \"type\": \"scatter\", \"uid\": \"890aea8a-72eb-4518-8004-f9914ba97fd9\"}, {\"marker\": {\"symbol\": \"x\"}, \"mode\": \"lines+markers\", \"name\": \"Random Forest\", \"x\": [\"accuracy\", \"FPR\", \"FNR\", \"auc\"], \"y\": [0.9114468189633996, 0.08501440922190202, 0.10898502495840266, 0.9030002829098477], \"type\": \"scatter\", \"uid\": \"c563ed1a-bc63-46f7-991c-e87fb2a533f1\"}, {\"mode\": \"lines\", \"name\": \"Ada Boost\", \"x\": [\"accuracy\", \"FPR\", \"FNR\", \"auc\"], \"y\": [0.9006386637189879, 0.08861671469740634, 0.16139767054908485, 0.8749928073767544], \"type\": \"scatter\", \"uid\": \"6a085a57-033b-41c5-a68b-b4afc3bed73b\"}, {\"mode\": \"lines+markers\", \"name\": \"GradientBoosting\", \"x\": [\"accuracy\", \"FPR\", \"FNR\", \"auc\"], \"y\": [0.9057971014492754, 0.08559077809798271, 0.14392678868552414, 0.8852412166082466], \"type\": \"scatter\", \"uid\": \"65a7b464-2b9d-49d2-bc9e-7929383edf68\"}, {\"marker\": {\"symbol\": \"x\"}, \"mode\": \"lines+markers\", \"name\": \"ExtraTree Classifier\", \"x\": [\"accuracy\", \"FPR\", \"FNR\", \"auc\"], \"y\": [0.9119380987472365, 0.08414985590778098, 0.11064891846921797, 0.9026006128115005], \"type\": \"scatter\", \"uid\": \"31543fd7-7860-486e-aaa4-03d63a917f2d\"}, {\"marker\": {\"symbol\": \"x\"}, \"mode\": \"lines+markers\", \"name\": \"Bagging\", \"x\": [\"accuracy\", \"FPR\", \"FNR\", \"auc\"], \"y\": [0.9107098992876443, 0.08659942363112393, 0.1048252911813644, 0.9042876425937558], \"type\": \"scatter\", \"uid\": \"1ac52e13-cc5c-4a73-b944-3093ffe1eb70\"}, {\"marker\": {\"symbol\": \"x\"}, \"mode\": \"lines+markers\", \"name\": \"Neural Network\", \"x\": [\"accuracy\", \"FPR\", \"FNR\", \"auc\"], \"y\": [0.9042004421518055, 0.08832853025936599, 0.1389351081530782, 0.886368180793778], \"type\": \"scatter\", \"uid\": \"e828b8ed-6bf8-410e-b276-7c746479d892\"}], {\"title\": \"Result comparision for Features selected in Section 1\", \"yaxis\": {\"dtick\": 0.05, \"tick0\": 0}}, {\"showLink\": true, \"linkText\": \"Export to plot.ly\", \"plotlyServerURL\": \"https://plot.ly\"})});</script><script type=\"text/javascript\">window.addEventListener(\"resize\", function(){window._Plotly.Plots.resize(document.getElementById(\"1ea3db48-cbfd-481c-a7e9-a546ad9d8b28\"));});</script>"
      ],
      "text/vnd.plotly.v1+html": [
       "<div id=\"1ea3db48-cbfd-481c-a7e9-a546ad9d8b28\" style=\"height: 525px; width: 100%;\" class=\"plotly-graph-div\"></div><script type=\"text/javascript\">require([\"plotly\"], function(Plotly) { window.PLOTLYENV=window.PLOTLYENV || {};window.PLOTLYENV.BASE_URL=\"https://plot.ly\";Plotly.newPlot(\"1ea3db48-cbfd-481c-a7e9-a546ad9d8b28\", [{\"mode\": \"lines\", \"name\": \"KNN_model\", \"x\": [\"accuracy\", \"FPR\", \"FNR\", \"auc\"], \"y\": [0.9046917219356424, 0.09164265129682997, 0.11647254575707154, 0.8959424014730493], \"type\": \"scatter\", \"uid\": \"9f818dbb-600c-4053-b933-4f373a11067e\"}, {\"mode\": \"lines+markers\", \"name\": \"Logistic Regression\", \"x\": [\"accuracy\", \"FPR\", \"FNR\", \"auc\"], \"y\": [0.8951117661508229, 0.08631123919308357, 0.21214642262895175, 0.8507711690889823], \"type\": \"scatter\", \"uid\": \"890aea8a-72eb-4518-8004-f9914ba97fd9\"}, {\"marker\": {\"symbol\": \"x\"}, \"mode\": \"lines+markers\", \"name\": \"Random Forest\", \"x\": [\"accuracy\", \"FPR\", \"FNR\", \"auc\"], \"y\": [0.9114468189633996, 0.08501440922190202, 0.10898502495840266, 0.9030002829098477], \"type\": \"scatter\", \"uid\": \"c563ed1a-bc63-46f7-991c-e87fb2a533f1\"}, {\"mode\": \"lines\", \"name\": \"Ada Boost\", \"x\": [\"accuracy\", \"FPR\", \"FNR\", \"auc\"], \"y\": [0.9006386637189879, 0.08861671469740634, 0.16139767054908485, 0.8749928073767544], \"type\": \"scatter\", \"uid\": \"6a085a57-033b-41c5-a68b-b4afc3bed73b\"}, {\"mode\": \"lines+markers\", \"name\": \"GradientBoosting\", \"x\": [\"accuracy\", \"FPR\", \"FNR\", \"auc\"], \"y\": [0.9057971014492754, 0.08559077809798271, 0.14392678868552414, 0.8852412166082466], \"type\": \"scatter\", \"uid\": \"65a7b464-2b9d-49d2-bc9e-7929383edf68\"}, {\"marker\": {\"symbol\": \"x\"}, \"mode\": \"lines+markers\", \"name\": \"ExtraTree Classifier\", \"x\": [\"accuracy\", \"FPR\", \"FNR\", \"auc\"], \"y\": [0.9119380987472365, 0.08414985590778098, 0.11064891846921797, 0.9026006128115005], \"type\": \"scatter\", \"uid\": \"31543fd7-7860-486e-aaa4-03d63a917f2d\"}, {\"marker\": {\"symbol\": \"x\"}, \"mode\": \"lines+markers\", \"name\": \"Bagging\", \"x\": [\"accuracy\", \"FPR\", \"FNR\", \"auc\"], \"y\": [0.9107098992876443, 0.08659942363112393, 0.1048252911813644, 0.9042876425937558], \"type\": \"scatter\", \"uid\": \"1ac52e13-cc5c-4a73-b944-3093ffe1eb70\"}, {\"marker\": {\"symbol\": \"x\"}, \"mode\": \"lines+markers\", \"name\": \"Neural Network\", \"x\": [\"accuracy\", \"FPR\", \"FNR\", \"auc\"], \"y\": [0.9042004421518055, 0.08832853025936599, 0.1389351081530782, 0.886368180793778], \"type\": \"scatter\", \"uid\": \"e828b8ed-6bf8-410e-b276-7c746479d892\"}], {\"title\": \"Result comparision for Features selected in Section 1\", \"yaxis\": {\"dtick\": 0.05, \"tick0\": 0}}, {\"showLink\": true, \"linkText\": \"Export to plot.ly\", \"plotlyServerURL\": \"https://plot.ly\"})});</script><script type=\"text/javascript\">window.addEventListener(\"resize\", function(){window._Plotly.Plots.resize(document.getElementById(\"1ea3db48-cbfd-481c-a7e9-a546ad9d8b28\"));});</script>"
      ]
     },
     "metadata": {},
     "output_type": "display_data"
    }
   ],
   "source": [
    "trace0 = go.Scatter(x=table_80_50_test.iloc[0].index.values[[0,5,6,7]],\n",
    "                    y=table_80_50_test.iloc[0].values[[0,5,6,7]],\n",
    "                    mode = 'lines',\n",
    "                    name = 'KNN_model')\n",
    "\n",
    "trace1 = go.Scatter(x=table_80_50_test.iloc[1].index.values[[0,5,6,7]],\n",
    "                    y=table_80_50_test.iloc[1].values[[0,5,6,7]],\n",
    "                    mode = 'lines+markers',\n",
    "                    name = 'Logistic Regression')\n",
    "\n",
    "trace2 = go.Scatter(x=table_80_50_test.iloc[2].index.values[[0,5,6,7]],\n",
    "                    y=table_80_50_test.iloc[2].values[[0,5,6,7]],\n",
    "                    mode = 'lines+markers',marker=dict(symbol='x'),\n",
    "                    name = 'Random Forest')\n",
    "\n",
    "\n",
    "trace3 = go.Scatter(x=table_80_50_test.iloc[3].index.values[[0,5,6,7]],\n",
    "                    y=table_80_50_test.iloc[3].values[[0,5,6,7]],\n",
    "                    mode = 'lines',\n",
    "                    name = 'Ada Boost')\n",
    "\n",
    "trace4 = go.Scatter(x=table_80_50_test.iloc[4].index.values[[0,5,6,7]],\n",
    "                    y=table_80_50_test.iloc[4].values[[0,5,6,7]],\n",
    "                    mode = 'lines+markers',\n",
    "                    name = 'GradientBoosting')\n",
    "\n",
    "trace5 = go.Scatter(x=table_80_50_test.iloc[5].index.values[[0,5,6,7]],\n",
    "                    y=table_80_50_test.iloc[5].values[[0,5,6,7]],\n",
    "                    mode = 'lines+markers',marker=dict(symbol='x'),\n",
    "                    name = 'ExtraTree Classifier')\n",
    "\n",
    "trace6 = go.Scatter(x=table_80_50_test.iloc[6].index.values[[0,5,6,7]],\n",
    "                    y=table_80_50_test.iloc[6].values[[0,5,6,7]],\n",
    "                    mode = 'lines+markers',marker=dict(symbol='x'),\n",
    "                    name = 'Bagging')\n",
    "\n",
    "trace7 = go.Scatter(x=table_80_50_test.iloc[7].index.values[[0,5,6,7]],\n",
    "                    y=table_80_50_test.iloc[7].values[[0,5,6,7]],\n",
    "                    mode = 'lines+markers',marker=dict(symbol='x'),\n",
    "                    name = 'Neural Network')\n",
    "\n",
    "\n",
    "\n",
    "data = [trace0, trace1, trace2, trace3, trace4, trace5, trace6, trace7]\n",
    "layout = go.Layout(yaxis=dict(tick0=0,dtick=0.05),title='Result comparision for Features selected in Section 1')\n",
    "fig = go.Figure(data=data, layout=layout)\n",
    "\n",
    "iplot(fig, filename='Result')"
   ]
  },
  {
   "cell_type": "code",
   "execution_count": 21,
   "metadata": {},
   "outputs": [
    {
     "name": "stdout",
     "output_type": "stream",
     "text": [
      "Training Results\n"
     ]
    },
    {
     "data": {
      "text/html": [
       "<div>\n",
       "<style scoped>\n",
       "    .dataframe tbody tr th:only-of-type {\n",
       "        vertical-align: middle;\n",
       "    }\n",
       "\n",
       "    .dataframe tbody tr th {\n",
       "        vertical-align: top;\n",
       "    }\n",
       "\n",
       "    .dataframe thead th {\n",
       "        text-align: right;\n",
       "    }\n",
       "</style>\n",
       "<table border=\"1\" class=\"dataframe\">\n",
       "  <thead>\n",
       "    <tr style=\"text-align: right;\">\n",
       "      <th></th>\n",
       "      <th>accuracy</th>\n",
       "      <th>TP</th>\n",
       "      <th>TN</th>\n",
       "      <th>FP</th>\n",
       "      <th>FN</th>\n",
       "      <th>FPR</th>\n",
       "      <th>FNR</th>\n",
       "    </tr>\n",
       "    <tr>\n",
       "      <th>index</th>\n",
       "      <th></th>\n",
       "      <th></th>\n",
       "      <th></th>\n",
       "      <th></th>\n",
       "      <th></th>\n",
       "      <th></th>\n",
       "      <th></th>\n",
       "    </tr>\n",
       "  </thead>\n",
       "  <tbody>\n",
       "    <tr>\n",
       "      <th>KNeighborsClassifier</th>\n",
       "      <td>0.913102</td>\n",
       "      <td>4271.0</td>\n",
       "      <td>25466.0</td>\n",
       "      <td>2372.0</td>\n",
       "      <td>458.0</td>\n",
       "      <td>0.085207</td>\n",
       "      <td>0.096849</td>\n",
       "    </tr>\n",
       "    <tr>\n",
       "      <th>LogisticRegression</th>\n",
       "      <td>0.893880</td>\n",
       "      <td>3690.0</td>\n",
       "      <td>25421.0</td>\n",
       "      <td>2417.0</td>\n",
       "      <td>1039.0</td>\n",
       "      <td>0.086824</td>\n",
       "      <td>0.219708</td>\n",
       "    </tr>\n",
       "    <tr>\n",
       "      <th>RandomForestClassifier</th>\n",
       "      <td>0.924893</td>\n",
       "      <td>4562.0</td>\n",
       "      <td>25559.0</td>\n",
       "      <td>2279.0</td>\n",
       "      <td>167.0</td>\n",
       "      <td>0.081867</td>\n",
       "      <td>0.035314</td>\n",
       "    </tr>\n",
       "    <tr>\n",
       "      <th>AdaBoostClassifier</th>\n",
       "      <td>0.900697</td>\n",
       "      <td>3941.0</td>\n",
       "      <td>25392.0</td>\n",
       "      <td>2446.0</td>\n",
       "      <td>788.0</td>\n",
       "      <td>0.087866</td>\n",
       "      <td>0.166631</td>\n",
       "    </tr>\n",
       "    <tr>\n",
       "      <th>GradientBoostingClassifier</th>\n",
       "      <td>0.908773</td>\n",
       "      <td>4082.0</td>\n",
       "      <td>25514.0</td>\n",
       "      <td>2324.0</td>\n",
       "      <td>647.0</td>\n",
       "      <td>0.083483</td>\n",
       "      <td>0.136815</td>\n",
       "    </tr>\n",
       "    <tr>\n",
       "      <th>ExtraTreeClassifier</th>\n",
       "      <td>0.926766</td>\n",
       "      <td>4611.0</td>\n",
       "      <td>25571.0</td>\n",
       "      <td>2267.0</td>\n",
       "      <td>118.0</td>\n",
       "      <td>0.081435</td>\n",
       "      <td>0.024952</td>\n",
       "    </tr>\n",
       "    <tr>\n",
       "      <th>BaggingClassifier</th>\n",
       "      <td>0.924678</td>\n",
       "      <td>4554.0</td>\n",
       "      <td>25560.0</td>\n",
       "      <td>2278.0</td>\n",
       "      <td>175.0</td>\n",
       "      <td>0.081831</td>\n",
       "      <td>0.037006</td>\n",
       "    </tr>\n",
       "    <tr>\n",
       "      <th>Neural Network-1</th>\n",
       "      <td>0.913655</td>\n",
       "      <td>4251.0</td>\n",
       "      <td>25504.0</td>\n",
       "      <td>2334.0</td>\n",
       "      <td>478.0</td>\n",
       "      <td>0.083842</td>\n",
       "      <td>0.101078</td>\n",
       "    </tr>\n",
       "  </tbody>\n",
       "</table>\n",
       "</div>"
      ],
      "text/plain": [
       "                            accuracy      TP       TN      FP      FN  \\\n",
       "index                                                                   \n",
       "KNeighborsClassifier        0.913102  4271.0  25466.0  2372.0   458.0   \n",
       "LogisticRegression          0.893880  3690.0  25421.0  2417.0  1039.0   \n",
       "RandomForestClassifier      0.924893  4562.0  25559.0  2279.0   167.0   \n",
       "AdaBoostClassifier          0.900697  3941.0  25392.0  2446.0   788.0   \n",
       "GradientBoostingClassifier  0.908773  4082.0  25514.0  2324.0   647.0   \n",
       "ExtraTreeClassifier         0.926766  4611.0  25571.0  2267.0   118.0   \n",
       "BaggingClassifier           0.924678  4554.0  25560.0  2278.0   175.0   \n",
       "Neural Network-1            0.913655  4251.0  25504.0  2334.0   478.0   \n",
       "\n",
       "                                 FPR       FNR  \n",
       "index                                           \n",
       "KNeighborsClassifier        0.085207  0.096849  \n",
       "LogisticRegression          0.086824  0.219708  \n",
       "RandomForestClassifier      0.081867  0.035314  \n",
       "AdaBoostClassifier          0.087866  0.166631  \n",
       "GradientBoostingClassifier  0.083483  0.136815  \n",
       "ExtraTreeClassifier         0.081435  0.024952  \n",
       "BaggingClassifier           0.081831  0.037006  \n",
       "Neural Network-1            0.083842  0.101078  "
      ]
     },
     "metadata": {},
     "output_type": "display_data"
    },
    {
     "name": "stdout",
     "output_type": "stream",
     "text": [
      "Test Results\n"
     ]
    },
    {
     "data": {
      "text/html": [
       "<div>\n",
       "<style scoped>\n",
       "    .dataframe tbody tr th:only-of-type {\n",
       "        vertical-align: middle;\n",
       "    }\n",
       "\n",
       "    .dataframe tbody tr th {\n",
       "        vertical-align: top;\n",
       "    }\n",
       "\n",
       "    .dataframe thead th {\n",
       "        text-align: right;\n",
       "    }\n",
       "</style>\n",
       "<table border=\"1\" class=\"dataframe\">\n",
       "  <thead>\n",
       "    <tr style=\"text-align: right;\">\n",
       "      <th></th>\n",
       "      <th>accuracy</th>\n",
       "      <th>TP</th>\n",
       "      <th>TN</th>\n",
       "      <th>FP</th>\n",
       "      <th>FN</th>\n",
       "      <th>FPR</th>\n",
       "      <th>FNR</th>\n",
       "      <th>auc</th>\n",
       "      <th>MCC</th>\n",
       "    </tr>\n",
       "    <tr>\n",
       "      <th>index</th>\n",
       "      <th></th>\n",
       "      <th></th>\n",
       "      <th></th>\n",
       "      <th></th>\n",
       "      <th></th>\n",
       "      <th></th>\n",
       "      <th></th>\n",
       "      <th></th>\n",
       "      <th></th>\n",
       "    </tr>\n",
       "  </thead>\n",
       "  <tbody>\n",
       "    <tr>\n",
       "      <th>KNeighborsClassifier</th>\n",
       "      <td>0.904692</td>\n",
       "      <td>1062.0</td>\n",
       "      <td>6304.0</td>\n",
       "      <td>636.0</td>\n",
       "      <td>140.0</td>\n",
       "      <td>0.091643</td>\n",
       "      <td>0.116473</td>\n",
       "      <td>0.895942</td>\n",
       "      <td>0.691429</td>\n",
       "    </tr>\n",
       "    <tr>\n",
       "      <th>LogisticRegression</th>\n",
       "      <td>0.895112</td>\n",
       "      <td>947.0</td>\n",
       "      <td>6341.0</td>\n",
       "      <td>599.0</td>\n",
       "      <td>255.0</td>\n",
       "      <td>0.086311</td>\n",
       "      <td>0.212146</td>\n",
       "      <td>0.850771</td>\n",
       "      <td>0.634513</td>\n",
       "    </tr>\n",
       "    <tr>\n",
       "      <th>RandomForestClassifier</th>\n",
       "      <td>0.911447</td>\n",
       "      <td>1071.0</td>\n",
       "      <td>6350.0</td>\n",
       "      <td>590.0</td>\n",
       "      <td>131.0</td>\n",
       "      <td>0.085014</td>\n",
       "      <td>0.108985</td>\n",
       "      <td>0.903000</td>\n",
       "      <td>0.709515</td>\n",
       "    </tr>\n",
       "    <tr>\n",
       "      <th>AdaBoostClassifier</th>\n",
       "      <td>0.900639</td>\n",
       "      <td>1008.0</td>\n",
       "      <td>6325.0</td>\n",
       "      <td>615.0</td>\n",
       "      <td>194.0</td>\n",
       "      <td>0.088617</td>\n",
       "      <td>0.161398</td>\n",
       "      <td>0.874993</td>\n",
       "      <td>0.665940</td>\n",
       "    </tr>\n",
       "    <tr>\n",
       "      <th>GradientBoostingClassifier</th>\n",
       "      <td>0.905797</td>\n",
       "      <td>1029.0</td>\n",
       "      <td>6346.0</td>\n",
       "      <td>594.0</td>\n",
       "      <td>173.0</td>\n",
       "      <td>0.085591</td>\n",
       "      <td>0.143927</td>\n",
       "      <td>0.885241</td>\n",
       "      <td>0.684140</td>\n",
       "    </tr>\n",
       "    <tr>\n",
       "      <th>ExtraTreeClassifier</th>\n",
       "      <td>0.911938</td>\n",
       "      <td>1069.0</td>\n",
       "      <td>6356.0</td>\n",
       "      <td>584.0</td>\n",
       "      <td>133.0</td>\n",
       "      <td>0.084150</td>\n",
       "      <td>0.110649</td>\n",
       "      <td>0.902601</td>\n",
       "      <td>0.710086</td>\n",
       "    </tr>\n",
       "    <tr>\n",
       "      <th>BaggingClassifier</th>\n",
       "      <td>0.910710</td>\n",
       "      <td>1076.0</td>\n",
       "      <td>6339.0</td>\n",
       "      <td>601.0</td>\n",
       "      <td>126.0</td>\n",
       "      <td>0.086599</td>\n",
       "      <td>0.104825</td>\n",
       "      <td>0.904288</td>\n",
       "      <td>0.709254</td>\n",
       "    </tr>\n",
       "    <tr>\n",
       "      <th>Neural Network-1</th>\n",
       "      <td>0.904200</td>\n",
       "      <td>1035.0</td>\n",
       "      <td>6327.0</td>\n",
       "      <td>613.0</td>\n",
       "      <td>167.0</td>\n",
       "      <td>0.088329</td>\n",
       "      <td>0.138935</td>\n",
       "      <td>0.886368</td>\n",
       "      <td>0.682226</td>\n",
       "    </tr>\n",
       "  </tbody>\n",
       "</table>\n",
       "</div>"
      ],
      "text/plain": [
       "                            accuracy      TP      TN     FP     FN       FPR  \\\n",
       "index                                                                          \n",
       "KNeighborsClassifier        0.904692  1062.0  6304.0  636.0  140.0  0.091643   \n",
       "LogisticRegression          0.895112   947.0  6341.0  599.0  255.0  0.086311   \n",
       "RandomForestClassifier      0.911447  1071.0  6350.0  590.0  131.0  0.085014   \n",
       "AdaBoostClassifier          0.900639  1008.0  6325.0  615.0  194.0  0.088617   \n",
       "GradientBoostingClassifier  0.905797  1029.0  6346.0  594.0  173.0  0.085591   \n",
       "ExtraTreeClassifier         0.911938  1069.0  6356.0  584.0  133.0  0.084150   \n",
       "BaggingClassifier           0.910710  1076.0  6339.0  601.0  126.0  0.086599   \n",
       "Neural Network-1            0.904200  1035.0  6327.0  613.0  167.0  0.088329   \n",
       "\n",
       "                                 FNR       auc       MCC  \n",
       "index                                                     \n",
       "KNeighborsClassifier        0.116473  0.895942  0.691429  \n",
       "LogisticRegression          0.212146  0.850771  0.634513  \n",
       "RandomForestClassifier      0.108985  0.903000  0.709515  \n",
       "AdaBoostClassifier          0.161398  0.874993  0.665940  \n",
       "GradientBoostingClassifier  0.143927  0.885241  0.684140  \n",
       "ExtraTreeClassifier         0.110649  0.902601  0.710086  \n",
       "BaggingClassifier           0.104825  0.904288  0.709254  \n",
       "Neural Network-1            0.138935  0.886368  0.682226  "
      ]
     },
     "metadata": {},
     "output_type": "display_data"
    }
   ],
   "source": [
    "table_80_50_train['index']=ind_columns\n",
    "table_80_50_test['index']=ind_columns\n",
    "\n",
    "\n",
    "table_80_50_test.set_index(['index'],drop=True,inplace=True)\n",
    "table_80_50_train.set_index(['index'],drop=True,inplace=True)\n",
    "\n",
    "print(\"Training Results\")\n",
    "display(table_80_50_train)\n",
    "print(\"Test Results\")\n",
    "display(table_80_50_test)"
   ]
  },
  {
   "cell_type": "markdown",
   "metadata": {},
   "source": [
    "### <a id='1.B' style=\"text-decoration : none; color : #000000;\"> B. Average Feature Importances</a>"
   ]
  },
  {
   "cell_type": "code",
   "execution_count": 22,
   "metadata": {},
   "outputs": [
    {
     "data": {
      "application/vnd.plotly.v1+json": {
       "config": {
        "linkText": "Export to plot.ly",
        "plotlyServerURL": "https://plot.ly",
        "showLink": true
       },
       "data": [
        {
         "marker": {
          "color": "rgb(158,202,225)",
          "line": {
           "color": "rgb(8,48,107)",
           "width": 1.5
          }
         },
         "opacity": 0.6,
         "orientation": "h",
         "text": [
          0.2442,
          0.0615,
          0.0543,
          0.0505,
          0.0436,
          0.0408,
          0.0398,
          0.0346,
          0.0338,
          0.0322,
          0.0311,
          0.0284,
          0.0284,
          0.0277,
          0.0221,
          0.022,
          0.02,
          0.0198,
          0.0194,
          0.0174,
          0.0137,
          0.0132,
          0.0123,
          0.0121,
          0.012,
          0.0112,
          0.0084,
          0.0079,
          0.0077,
          0.0073,
          0.0073,
          0.0065,
          0.0062,
          0.0027
         ],
         "textposition": "outside",
         "type": "bar",
         "uid": "6d49692f-51ab-4a28-b5d3-35fa5f7a5ee7",
         "x": [
          0.24420679564805062,
          0.061540154729414515,
          0.05426182982223308,
          0.05047241280167713,
          0.04361202789862789,
          0.04083441400437544,
          0.03980841990677802,
          0.03456543188709048,
          0.03378839773412445,
          0.032154408906530665,
          0.03105240662024204,
          0.028420312474152134,
          0.028350429496023056,
          0.027690462405574275,
          0.02209838082005407,
          0.02200451139787164,
          0.020002828590840457,
          0.01984638269061302,
          0.01940553255758088,
          0.017392743545783608,
          0.01370277732921148,
          0.013152237607489552,
          0.012347167375882715,
          0.012129421293546248,
          0.012031154809283327,
          0.011238131128510001,
          0.008375318678864476,
          0.007878412480917571,
          0.0077021300424396505,
          0.007320058641013698,
          0.007260629736184649,
          0.006504980347667913,
          0.006167948164546154,
          0.0026813484268051876
         ],
         "y": [
          "title_count",
          "meta_count",
          "a_href_https",
          "script_src_.js",
          "span_count",
          "link_href_out_of_domain",
          "div_count",
          "script_src_out_of_domain",
          "a_href_http",
          "link_type_text/css",
          "script_async_true",
          "p_count",
          "br_count",
          "li_count",
          "push",
          "link_href_http",
          "section_count",
          "link_href_.css",
          "img_src_.jpg",
          "form_action_http",
          "document.getElementById",
          "window.addEventListener",
          "link_type_application/rsd+xml",
          "indexOf",
          "img_src_out_of_domain",
          "strong_count",
          "get",
          "a_href_.com",
          "escape",
          "link_rel_shortlink",
          "find",
          "center_count",
          "replace",
          "link_rel_https://api.w.org/"
         ]
        }
       ],
       "layout": {
        "autosize": false,
        "height": 1000,
        "width": 1000,
        "xaxis": {
         "tickfont": {
          "color": "black",
          "size": 12
         },
         "title": "Feature Importances"
        },
        "yaxis": {
         "automargin": true
        }
       }
      },
      "text/html": [
       "<div id=\"70e1506a-0cea-4b0e-af3b-53e771ff34f5\" style=\"height: 1000px; width: 1000px;\" class=\"plotly-graph-div\"></div><script type=\"text/javascript\">require([\"plotly\"], function(Plotly) { window.PLOTLYENV=window.PLOTLYENV || {};window.PLOTLYENV.BASE_URL=\"https://plot.ly\";Plotly.newPlot(\"70e1506a-0cea-4b0e-af3b-53e771ff34f5\", [{\"marker\": {\"color\": \"rgb(158,202,225)\", \"line\": {\"color\": \"rgb(8,48,107)\", \"width\": 1.5}}, \"opacity\": 0.6, \"orientation\": \"h\", \"text\": [0.2442, 0.0615, 0.0543, 0.0505, 0.0436, 0.0408, 0.0398, 0.0346, 0.0338, 0.0322, 0.0311, 0.0284, 0.0284, 0.0277, 0.0221, 0.022, 0.02, 0.0198, 0.0194, 0.0174, 0.0137, 0.0132, 0.0123, 0.0121, 0.012, 0.0112, 0.0084, 0.0079, 0.0077, 0.0073, 0.0073, 0.0065, 0.0062, 0.0027], \"textposition\": \"outside\", \"x\": [0.24420679564805062, 0.061540154729414515, 0.05426182982223308, 0.05047241280167713, 0.04361202789862789, 0.04083441400437544, 0.03980841990677802, 0.03456543188709048, 0.03378839773412445, 0.032154408906530665, 0.03105240662024204, 0.028420312474152134, 0.028350429496023056, 0.027690462405574275, 0.02209838082005407, 0.02200451139787164, 0.020002828590840457, 0.01984638269061302, 0.01940553255758088, 0.017392743545783608, 0.01370277732921148, 0.013152237607489552, 0.012347167375882715, 0.012129421293546248, 0.012031154809283327, 0.011238131128510001, 0.008375318678864476, 0.007878412480917571, 0.0077021300424396505, 0.007320058641013698, 0.007260629736184649, 0.006504980347667913, 0.006167948164546154, 0.0026813484268051876], \"y\": [\"title_count\", \"meta_count\", \"a_href_https\", \"script_src_.js\", \"span_count\", \"link_href_out_of_domain\", \"div_count\", \"script_src_out_of_domain\", \"a_href_http\", \"link_type_text/css\", \"script_async_true\", \"p_count\", \"br_count\", \"li_count\", \"push\", \"link_href_http\", \"section_count\", \"link_href_.css\", \"img_src_.jpg\", \"form_action_http\", \"document.getElementById\", \"window.addEventListener\", \"link_type_application/rsd+xml\", \"indexOf\", \"img_src_out_of_domain\", \"strong_count\", \"get\", \"a_href_.com\", \"escape\", \"link_rel_shortlink\", \"find\", \"center_count\", \"replace\", \"link_rel_https://api.w.org/\"], \"type\": \"bar\", \"uid\": \"6d49692f-51ab-4a28-b5d3-35fa5f7a5ee7\"}], {\"autosize\": false, \"height\": 1000, \"width\": 1000, \"xaxis\": {\"tickfont\": {\"color\": \"black\", \"size\": 12}, \"title\": \"Feature Importances\"}, \"yaxis\": {\"automargin\": true}}, {\"showLink\": true, \"linkText\": \"Export to plot.ly\", \"plotlyServerURL\": \"https://plot.ly\"})});</script>"
      ],
      "text/vnd.plotly.v1+html": [
       "<div id=\"70e1506a-0cea-4b0e-af3b-53e771ff34f5\" style=\"height: 1000px; width: 1000px;\" class=\"plotly-graph-div\"></div><script type=\"text/javascript\">require([\"plotly\"], function(Plotly) { window.PLOTLYENV=window.PLOTLYENV || {};window.PLOTLYENV.BASE_URL=\"https://plot.ly\";Plotly.newPlot(\"70e1506a-0cea-4b0e-af3b-53e771ff34f5\", [{\"marker\": {\"color\": \"rgb(158,202,225)\", \"line\": {\"color\": \"rgb(8,48,107)\", \"width\": 1.5}}, \"opacity\": 0.6, \"orientation\": \"h\", \"text\": [0.2442, 0.0615, 0.0543, 0.0505, 0.0436, 0.0408, 0.0398, 0.0346, 0.0338, 0.0322, 0.0311, 0.0284, 0.0284, 0.0277, 0.0221, 0.022, 0.02, 0.0198, 0.0194, 0.0174, 0.0137, 0.0132, 0.0123, 0.0121, 0.012, 0.0112, 0.0084, 0.0079, 0.0077, 0.0073, 0.0073, 0.0065, 0.0062, 0.0027], \"textposition\": \"outside\", \"x\": [0.24420679564805062, 0.061540154729414515, 0.05426182982223308, 0.05047241280167713, 0.04361202789862789, 0.04083441400437544, 0.03980841990677802, 0.03456543188709048, 0.03378839773412445, 0.032154408906530665, 0.03105240662024204, 0.028420312474152134, 0.028350429496023056, 0.027690462405574275, 0.02209838082005407, 0.02200451139787164, 0.020002828590840457, 0.01984638269061302, 0.01940553255758088, 0.017392743545783608, 0.01370277732921148, 0.013152237607489552, 0.012347167375882715, 0.012129421293546248, 0.012031154809283327, 0.011238131128510001, 0.008375318678864476, 0.007878412480917571, 0.0077021300424396505, 0.007320058641013698, 0.007260629736184649, 0.006504980347667913, 0.006167948164546154, 0.0026813484268051876], \"y\": [\"title_count\", \"meta_count\", \"a_href_https\", \"script_src_.js\", \"span_count\", \"link_href_out_of_domain\", \"div_count\", \"script_src_out_of_domain\", \"a_href_http\", \"link_type_text/css\", \"script_async_true\", \"p_count\", \"br_count\", \"li_count\", \"push\", \"link_href_http\", \"section_count\", \"link_href_.css\", \"img_src_.jpg\", \"form_action_http\", \"document.getElementById\", \"window.addEventListener\", \"link_type_application/rsd+xml\", \"indexOf\", \"img_src_out_of_domain\", \"strong_count\", \"get\", \"a_href_.com\", \"escape\", \"link_rel_shortlink\", \"find\", \"center_count\", \"replace\", \"link_rel_https://api.w.org/\"], \"type\": \"bar\", \"uid\": \"6d49692f-51ab-4a28-b5d3-35fa5f7a5ee7\"}], {\"autosize\": false, \"height\": 1000, \"width\": 1000, \"xaxis\": {\"tickfont\": {\"color\": \"black\", \"size\": 12}, \"title\": \"Feature Importances\"}, \"yaxis\": {\"automargin\": true}}, {\"showLink\": true, \"linkText\": \"Export to plot.ly\", \"plotlyServerURL\": \"https://plot.ly\"})});</script>"
      ]
     },
     "metadata": {},
     "output_type": "display_data"
    }
   ],
   "source": [
    "feat_impt_plot(np.average(feat_imp,axis=0),columns)"
   ]
  },
  {
   "cell_type": "markdown",
   "metadata": {},
   "source": [
    "### <a id='2' style=\"text-decoration : none; color : #000000;\"> 2. OverSampling </a>"
   ]
  },
  {
   "cell_type": "code",
   "execution_count": 23,
   "metadata": {},
   "outputs": [],
   "source": [
    "sm = SMOTE(random_state=12, ratio = 1.0)\n",
    "X_train, Y_train = sm.fit_sample(scaled_X_train,train_Y)"
   ]
  },
  {
   "cell_type": "code",
   "execution_count": 24,
   "metadata": {
    "scrolled": false
   },
   "outputs": [
    {
     "name": "stdout",
     "output_type": "stream",
     "text": [
      "\u001b[1mK-Nearest Neighbors\u001b[0m\n",
      "Accuracy of the model for training data is: 0.9352862993031108\n",
      "Confusion Matrix for training data is:\n"
     ]
    },
    {
     "data": {
      "text/plain": [
       "Predicted  False   True  __all__\n",
       "Actual                          \n",
       "False      24804   3034    27838\n",
       "True         569  27269    27838\n",
       "__all__    25373  30303    55676"
      ]
     },
     "metadata": {},
     "output_type": "display_data"
    },
    {
     "name": "stdout",
     "output_type": "stream",
     "text": [
      "Accuracy of the model for test data is: 0.8812331122574306\n",
      "Confusion Matrix for test data is:\n"
     ]
    },
    {
     "data": {
      "text/plain": [
       "Predicted  False  True  __all__\n",
       "Actual                         \n",
       "False       6067   873     6940\n",
       "True          94  1108     1202\n",
       "__all__     6161  1981     8142"
      ]
     },
     "metadata": {},
     "output_type": "display_data"
    },
    {
     "name": "stdout",
     "output_type": "stream",
     "text": [
      "\n",
      "\n",
      "\u001b[1mLogistic Regression\u001b[0m\n",
      "Accuracy of the model for training data is: 0.8928802356491127\n",
      "Confusion Matrix for training data is:\n"
     ]
    },
    {
     "data": {
      "text/plain": [
       "Predicted  False   True  __all__\n",
       "Actual                          \n",
       "False      23118   4720    27838\n",
       "True        1244  26594    27838\n",
       "__all__    24362  31314    55676"
      ]
     },
     "metadata": {},
     "output_type": "display_data"
    },
    {
     "name": "stdout",
     "output_type": "stream",
     "text": [
      "Accuracy of the model for test data is: 0.8521247850650946\n",
      "Confusion Matrix for test data is:\n"
     ]
    },
    {
     "data": {
      "text/plain": [
       "Predicted  False  True  __all__\n",
       "Actual                         \n",
       "False       5800  1140     6940\n",
       "True          64  1138     1202\n",
       "__all__     5864  2278     8142"
      ]
     },
     "metadata": {},
     "output_type": "display_data"
    },
    {
     "name": "stdout",
     "output_type": "stream",
     "text": [
      "\n",
      "\n",
      "\u001b[1mRandomForest Classifier\u001b[0m\n",
      "Accuracy of the model for training data is: 0.9522415403405418\n",
      "Confusion Matrix for training data is:\n"
     ]
    },
    {
     "data": {
      "text/plain": [
       "Predicted  False   True  __all__\n",
       "Actual                          \n",
       "False      25489   2349    27838\n",
       "True         310  27528    27838\n",
       "__all__    25799  29877    55676"
      ]
     },
     "metadata": {},
     "output_type": "display_data"
    },
    {
     "name": "stdout",
     "output_type": "stream",
     "text": [
      "Accuracy of the model for test data is: 0.9107098992876443\n",
      "Confusion Matrix for test data is:\n"
     ]
    },
    {
     "data": {
      "text/plain": [
       "Predicted  False  True  __all__\n",
       "Actual                         \n",
       "False       6329   611     6940\n",
       "True         116  1086     1202\n",
       "__all__     6445  1697     8142"
      ]
     },
     "metadata": {},
     "output_type": "display_data"
    },
    {
     "data": {
      "application/vnd.plotly.v1+json": {
       "config": {
        "linkText": "Export to plot.ly",
        "plotlyServerURL": "https://plot.ly",
        "showLink": true
       },
       "data": [
        {
         "marker": {
          "color": "rgb(158,202,225)",
          "line": {
           "color": "rgb(8,48,107)",
           "width": 1.5
          }
         },
         "opacity": 0.6,
         "orientation": "h",
         "text": [
          0.2121,
          0.1465,
          0.0851,
          0.0824,
          0.073,
          0.066,
          0.0528,
          0.0498,
          0.0245,
          0.022,
          0.0186,
          0.017,
          0.0165,
          0.0155,
          0.0151,
          0.0116,
          0.0101,
          0.0085,
          0.0084,
          0.0082,
          0.0071,
          0.0068,
          0.0062,
          0.006,
          0.0058,
          0.0049,
          0.0038,
          0.0036,
          0.0027,
          0.0023,
          0.0021,
          0.0021,
          0.002,
          0.0009
         ],
         "textposition": "outside",
         "type": "bar",
         "uid": "2dc1e8d9-59f2-41ea-9503-30962bd05650",
         "x": [
          0.21212239382038467,
          0.14646186332484307,
          0.08505468815167934,
          0.08239096891701307,
          0.07304144948508234,
          0.0659960565243375,
          0.052830357812971074,
          0.04980304408817705,
          0.024472182600448176,
          0.021992957511631845,
          0.018593154405307517,
          0.01700877500124137,
          0.016508970960478975,
          0.015496525833449133,
          0.015132166645618552,
          0.011596650157634903,
          0.010141492131995744,
          0.00852463065400612,
          0.00835674607594576,
          0.008192356038283301,
          0.0070780027660282685,
          0.006751483220943894,
          0.00621624316300818,
          0.006012815396243835,
          0.005795836295367258,
          0.004947173591671748,
          0.0038034639361745858,
          0.003629989419802154,
          0.0026527747167177183,
          0.002318624551866336,
          0.0021088974380566827,
          0.0020710236659879657,
          0.001974767235879985,
          0.0009214744617216776
         ],
         "y": [
          "script_src_.js",
          "div_count",
          "a_href_https",
          "script_async_true",
          "script_src_out_of_domain",
          "link_href_out_of_domain",
          "title_count",
          "br_count",
          "meta_count",
          "push",
          "section_count",
          "li_count",
          "a_href_http",
          "p_count",
          "img_src_out_of_domain",
          "span_count",
          "link_type_text/css",
          "link_href_.css",
          "link_href_http",
          "strong_count",
          "center_count",
          "form_action_http",
          "document.getElementById",
          "img_src_.jpg",
          "a_href_.com",
          "indexOf",
          "replace",
          "escape",
          "link_type_application/rsd+xml",
          "get",
          "link_rel_shortlink",
          "find",
          "link_rel_https://api.w.org/",
          "window.addEventListener"
         ]
        }
       ],
       "layout": {
        "autosize": false,
        "height": 1000,
        "width": 1000,
        "xaxis": {
         "tickfont": {
          "color": "black",
          "size": 12
         },
         "title": "Feature Importances"
        },
        "yaxis": {
         "automargin": true
        }
       }
      },
      "text/html": [
       "<div id=\"7748b312-e463-432c-84b5-805af323210d\" style=\"height: 1000px; width: 1000px;\" class=\"plotly-graph-div\"></div><script type=\"text/javascript\">require([\"plotly\"], function(Plotly) { window.PLOTLYENV=window.PLOTLYENV || {};window.PLOTLYENV.BASE_URL=\"https://plot.ly\";Plotly.newPlot(\"7748b312-e463-432c-84b5-805af323210d\", [{\"marker\": {\"color\": \"rgb(158,202,225)\", \"line\": {\"color\": \"rgb(8,48,107)\", \"width\": 1.5}}, \"opacity\": 0.6, \"orientation\": \"h\", \"text\": [0.2121, 0.1465, 0.0851, 0.0824, 0.073, 0.066, 0.0528, 0.0498, 0.0245, 0.022, 0.0186, 0.017, 0.0165, 0.0155, 0.0151, 0.0116, 0.0101, 0.0085, 0.0084, 0.0082, 0.0071, 0.0068, 0.0062, 0.006, 0.0058, 0.0049, 0.0038, 0.0036, 0.0027, 0.0023, 0.0021, 0.0021, 0.002, 0.0009], \"textposition\": \"outside\", \"x\": [0.21212239382038467, 0.14646186332484307, 0.08505468815167934, 0.08239096891701307, 0.07304144948508234, 0.0659960565243375, 0.052830357812971074, 0.04980304408817705, 0.024472182600448176, 0.021992957511631845, 0.018593154405307517, 0.01700877500124137, 0.016508970960478975, 0.015496525833449133, 0.015132166645618552, 0.011596650157634903, 0.010141492131995744, 0.00852463065400612, 0.00835674607594576, 0.008192356038283301, 0.0070780027660282685, 0.006751483220943894, 0.00621624316300818, 0.006012815396243835, 0.005795836295367258, 0.004947173591671748, 0.0038034639361745858, 0.003629989419802154, 0.0026527747167177183, 0.002318624551866336, 0.0021088974380566827, 0.0020710236659879657, 0.001974767235879985, 0.0009214744617216776], \"y\": [\"script_src_.js\", \"div_count\", \"a_href_https\", \"script_async_true\", \"script_src_out_of_domain\", \"link_href_out_of_domain\", \"title_count\", \"br_count\", \"meta_count\", \"push\", \"section_count\", \"li_count\", \"a_href_http\", \"p_count\", \"img_src_out_of_domain\", \"span_count\", \"link_type_text/css\", \"link_href_.css\", \"link_href_http\", \"strong_count\", \"center_count\", \"form_action_http\", \"document.getElementById\", \"img_src_.jpg\", \"a_href_.com\", \"indexOf\", \"replace\", \"escape\", \"link_type_application/rsd+xml\", \"get\", \"link_rel_shortlink\", \"find\", \"link_rel_https://api.w.org/\", \"window.addEventListener\"], \"type\": \"bar\", \"uid\": \"2dc1e8d9-59f2-41ea-9503-30962bd05650\"}], {\"autosize\": false, \"height\": 1000, \"width\": 1000, \"xaxis\": {\"tickfont\": {\"color\": \"black\", \"size\": 12}, \"title\": \"Feature Importances\"}, \"yaxis\": {\"automargin\": true}}, {\"showLink\": true, \"linkText\": \"Export to plot.ly\", \"plotlyServerURL\": \"https://plot.ly\"})});</script>"
      ],
      "text/vnd.plotly.v1+html": [
       "<div id=\"7748b312-e463-432c-84b5-805af323210d\" style=\"height: 1000px; width: 1000px;\" class=\"plotly-graph-div\"></div><script type=\"text/javascript\">require([\"plotly\"], function(Plotly) { window.PLOTLYENV=window.PLOTLYENV || {};window.PLOTLYENV.BASE_URL=\"https://plot.ly\";Plotly.newPlot(\"7748b312-e463-432c-84b5-805af323210d\", [{\"marker\": {\"color\": \"rgb(158,202,225)\", \"line\": {\"color\": \"rgb(8,48,107)\", \"width\": 1.5}}, \"opacity\": 0.6, \"orientation\": \"h\", \"text\": [0.2121, 0.1465, 0.0851, 0.0824, 0.073, 0.066, 0.0528, 0.0498, 0.0245, 0.022, 0.0186, 0.017, 0.0165, 0.0155, 0.0151, 0.0116, 0.0101, 0.0085, 0.0084, 0.0082, 0.0071, 0.0068, 0.0062, 0.006, 0.0058, 0.0049, 0.0038, 0.0036, 0.0027, 0.0023, 0.0021, 0.0021, 0.002, 0.0009], \"textposition\": \"outside\", \"x\": [0.21212239382038467, 0.14646186332484307, 0.08505468815167934, 0.08239096891701307, 0.07304144948508234, 0.0659960565243375, 0.052830357812971074, 0.04980304408817705, 0.024472182600448176, 0.021992957511631845, 0.018593154405307517, 0.01700877500124137, 0.016508970960478975, 0.015496525833449133, 0.015132166645618552, 0.011596650157634903, 0.010141492131995744, 0.00852463065400612, 0.00835674607594576, 0.008192356038283301, 0.0070780027660282685, 0.006751483220943894, 0.00621624316300818, 0.006012815396243835, 0.005795836295367258, 0.004947173591671748, 0.0038034639361745858, 0.003629989419802154, 0.0026527747167177183, 0.002318624551866336, 0.0021088974380566827, 0.0020710236659879657, 0.001974767235879985, 0.0009214744617216776], \"y\": [\"script_src_.js\", \"div_count\", \"a_href_https\", \"script_async_true\", \"script_src_out_of_domain\", \"link_href_out_of_domain\", \"title_count\", \"br_count\", \"meta_count\", \"push\", \"section_count\", \"li_count\", \"a_href_http\", \"p_count\", \"img_src_out_of_domain\", \"span_count\", \"link_type_text/css\", \"link_href_.css\", \"link_href_http\", \"strong_count\", \"center_count\", \"form_action_http\", \"document.getElementById\", \"img_src_.jpg\", \"a_href_.com\", \"indexOf\", \"replace\", \"escape\", \"link_type_application/rsd+xml\", \"get\", \"link_rel_shortlink\", \"find\", \"link_rel_https://api.w.org/\", \"window.addEventListener\"], \"type\": \"bar\", \"uid\": \"2dc1e8d9-59f2-41ea-9503-30962bd05650\"}], {\"autosize\": false, \"height\": 1000, \"width\": 1000, \"xaxis\": {\"tickfont\": {\"color\": \"black\", \"size\": 12}, \"title\": \"Feature Importances\"}, \"yaxis\": {\"automargin\": true}}, {\"showLink\": true, \"linkText\": \"Export to plot.ly\", \"plotlyServerURL\": \"https://plot.ly\"})});</script>"
      ]
     },
     "metadata": {},
     "output_type": "display_data"
    },
    {
     "name": "stdout",
     "output_type": "stream",
     "text": [
      "\n",
      "\n",
      "\u001b[1mAdaoost Classifier\u001b[0m\n",
      "Accuracy of the model for training data is: 0.9091349953301243\n",
      "Confusion Matrix for training data is:\n"
     ]
    },
    {
     "data": {
      "text/plain": [
       "Predicted  False   True  __all__\n",
       "Actual                          \n",
       "False      23928   3910    27838\n",
       "True        1149  26689    27838\n",
       "__all__    25077  30599    55676"
      ]
     },
     "metadata": {},
     "output_type": "display_data"
    },
    {
     "name": "stdout",
     "output_type": "stream",
     "text": [
      "Accuracy of the model for test data is: 0.8731269958241218\n",
      "Confusion Matrix for test data is:\n"
     ]
    },
    {
     "data": {
      "text/plain": [
       "Predicted  False  True  __all__\n",
       "Actual                         \n",
       "False       5985   955     6940\n",
       "True          78  1124     1202\n",
       "__all__     6063  2079     8142"
      ]
     },
     "metadata": {},
     "output_type": "display_data"
    },
    {
     "data": {
      "application/vnd.plotly.v1+json": {
       "config": {
        "linkText": "Export to plot.ly",
        "plotlyServerURL": "https://plot.ly",
        "showLink": true
       },
       "data": [
        {
         "marker": {
          "color": "rgb(158,202,225)",
          "line": {
           "color": "rgb(8,48,107)",
           "width": 1.5
          }
         },
         "opacity": 0.6,
         "orientation": "h",
         "text": [
          0.12,
          0.08,
          0.06,
          0.06,
          0.06,
          0.06,
          0.06,
          0.06,
          0.04,
          0.04,
          0.04,
          0.04,
          0.02,
          0.02,
          0.02,
          0.02,
          0.02,
          0.02,
          0.02,
          0.02,
          0.02,
          0.02,
          0.02,
          0.02,
          0.02,
          0.02,
          0,
          0,
          0,
          0,
          0,
          0,
          0,
          0
         ],
         "textposition": "outside",
         "type": "bar",
         "uid": "8aa8c9ce-17eb-49fd-901b-70563a0ba5d5",
         "x": [
          0.12,
          0.08,
          0.06,
          0.06,
          0.06,
          0.06,
          0.06,
          0.06,
          0.04,
          0.04,
          0.04,
          0.04,
          0.02,
          0.02,
          0.02,
          0.02,
          0.02,
          0.02,
          0.02,
          0.02,
          0.02,
          0.02,
          0.02,
          0.02,
          0.02,
          0.02,
          0,
          0,
          0,
          0,
          0,
          0,
          0,
          0
         ],
         "y": [
          "div_count",
          "a_href_.com",
          "title_count",
          "p_count",
          "img_src_.jpg",
          "a_href_https",
          "link_href_out_of_domain",
          "push",
          "link_href_http",
          "script_src_out_of_domain",
          "br_count",
          "link_type_text/css",
          "script_async_true",
          "section_count",
          "link_type_application/rsd+xml",
          "strong_count",
          "link_rel_shortlink",
          "meta_count",
          "li_count",
          "window.addEventListener",
          "form_action_http",
          "center_count",
          "a_href_http",
          "escape",
          "get",
          "find",
          "link_href_.css",
          "link_rel_https://api.w.org/",
          "img_src_out_of_domain",
          "replace",
          "script_src_.js",
          "indexOf",
          "span_count",
          "document.getElementById"
         ]
        }
       ],
       "layout": {
        "autosize": false,
        "height": 1000,
        "width": 1000,
        "xaxis": {
         "tickfont": {
          "color": "black",
          "size": 12
         },
         "title": "Feature Importances"
        },
        "yaxis": {
         "automargin": true
        }
       }
      },
      "text/html": [
       "<div id=\"71a4efa7-e3d3-476a-8043-3f2fe25e595e\" style=\"height: 1000px; width: 1000px;\" class=\"plotly-graph-div\"></div><script type=\"text/javascript\">require([\"plotly\"], function(Plotly) { window.PLOTLYENV=window.PLOTLYENV || {};window.PLOTLYENV.BASE_URL=\"https://plot.ly\";Plotly.newPlot(\"71a4efa7-e3d3-476a-8043-3f2fe25e595e\", [{\"marker\": {\"color\": \"rgb(158,202,225)\", \"line\": {\"color\": \"rgb(8,48,107)\", \"width\": 1.5}}, \"opacity\": 0.6, \"orientation\": \"h\", \"text\": [0.12, 0.08, 0.06, 0.06, 0.06, 0.06, 0.06, 0.06, 0.04, 0.04, 0.04, 0.04, 0.02, 0.02, 0.02, 0.02, 0.02, 0.02, 0.02, 0.02, 0.02, 0.02, 0.02, 0.02, 0.02, 0.02, 0.0, 0.0, 0.0, 0.0, 0.0, 0.0, 0.0, 0.0], \"textposition\": \"outside\", \"x\": [0.12, 0.08, 0.06, 0.06, 0.06, 0.06, 0.06, 0.06, 0.04, 0.04, 0.04, 0.04, 0.02, 0.02, 0.02, 0.02, 0.02, 0.02, 0.02, 0.02, 0.02, 0.02, 0.02, 0.02, 0.02, 0.02, 0.0, 0.0, 0.0, 0.0, 0.0, 0.0, 0.0, 0.0], \"y\": [\"div_count\", \"a_href_.com\", \"title_count\", \"p_count\", \"img_src_.jpg\", \"a_href_https\", \"link_href_out_of_domain\", \"push\", \"link_href_http\", \"script_src_out_of_domain\", \"br_count\", \"link_type_text/css\", \"script_async_true\", \"section_count\", \"link_type_application/rsd+xml\", \"strong_count\", \"link_rel_shortlink\", \"meta_count\", \"li_count\", \"window.addEventListener\", \"form_action_http\", \"center_count\", \"a_href_http\", \"escape\", \"get\", \"find\", \"link_href_.css\", \"link_rel_https://api.w.org/\", \"img_src_out_of_domain\", \"replace\", \"script_src_.js\", \"indexOf\", \"span_count\", \"document.getElementById\"], \"type\": \"bar\", \"uid\": \"8aa8c9ce-17eb-49fd-901b-70563a0ba5d5\"}], {\"autosize\": false, \"height\": 1000, \"width\": 1000, \"xaxis\": {\"tickfont\": {\"color\": \"black\", \"size\": 12}, \"title\": \"Feature Importances\"}, \"yaxis\": {\"automargin\": true}}, {\"showLink\": true, \"linkText\": \"Export to plot.ly\", \"plotlyServerURL\": \"https://plot.ly\"})});</script>"
      ],
      "text/vnd.plotly.v1+html": [
       "<div id=\"71a4efa7-e3d3-476a-8043-3f2fe25e595e\" style=\"height: 1000px; width: 1000px;\" class=\"plotly-graph-div\"></div><script type=\"text/javascript\">require([\"plotly\"], function(Plotly) { window.PLOTLYENV=window.PLOTLYENV || {};window.PLOTLYENV.BASE_URL=\"https://plot.ly\";Plotly.newPlot(\"71a4efa7-e3d3-476a-8043-3f2fe25e595e\", [{\"marker\": {\"color\": \"rgb(158,202,225)\", \"line\": {\"color\": \"rgb(8,48,107)\", \"width\": 1.5}}, \"opacity\": 0.6, \"orientation\": \"h\", \"text\": [0.12, 0.08, 0.06, 0.06, 0.06, 0.06, 0.06, 0.06, 0.04, 0.04, 0.04, 0.04, 0.02, 0.02, 0.02, 0.02, 0.02, 0.02, 0.02, 0.02, 0.02, 0.02, 0.02, 0.02, 0.02, 0.02, 0.0, 0.0, 0.0, 0.0, 0.0, 0.0, 0.0, 0.0], \"textposition\": \"outside\", \"x\": [0.12, 0.08, 0.06, 0.06, 0.06, 0.06, 0.06, 0.06, 0.04, 0.04, 0.04, 0.04, 0.02, 0.02, 0.02, 0.02, 0.02, 0.02, 0.02, 0.02, 0.02, 0.02, 0.02, 0.02, 0.02, 0.02, 0.0, 0.0, 0.0, 0.0, 0.0, 0.0, 0.0, 0.0], \"y\": [\"div_count\", \"a_href_.com\", \"title_count\", \"p_count\", \"img_src_.jpg\", \"a_href_https\", \"link_href_out_of_domain\", \"push\", \"link_href_http\", \"script_src_out_of_domain\", \"br_count\", \"link_type_text/css\", \"script_async_true\", \"section_count\", \"link_type_application/rsd+xml\", \"strong_count\", \"link_rel_shortlink\", \"meta_count\", \"li_count\", \"window.addEventListener\", \"form_action_http\", \"center_count\", \"a_href_http\", \"escape\", \"get\", \"find\", \"link_href_.css\", \"link_rel_https://api.w.org/\", \"img_src_out_of_domain\", \"replace\", \"script_src_.js\", \"indexOf\", \"span_count\", \"document.getElementById\"], \"type\": \"bar\", \"uid\": \"8aa8c9ce-17eb-49fd-901b-70563a0ba5d5\"}], {\"autosize\": false, \"height\": 1000, \"width\": 1000, \"xaxis\": {\"tickfont\": {\"color\": \"black\", \"size\": 12}, \"title\": \"Feature Importances\"}, \"yaxis\": {\"automargin\": true}}, {\"showLink\": true, \"linkText\": \"Export to plot.ly\", \"plotlyServerURL\": \"https://plot.ly\"})});</script>"
      ]
     },
     "metadata": {},
     "output_type": "display_data"
    },
    {
     "name": "stdout",
     "output_type": "stream",
     "text": [
      "\n",
      "\n",
      "\u001b[1mGradientBoosting Classifier\u001b[0m\n",
      "Accuracy of the model for training data is: 0.923342194123141\n",
      "Confusion Matrix for training data is:\n"
     ]
    },
    {
     "data": {
      "text/plain": [
       "Predicted  False   True  __all__\n",
       "Actual                          \n",
       "False      24439   3399    27838\n",
       "True         869  26969    27838\n",
       "__all__    25308  30368    55676"
      ]
     },
     "metadata": {},
     "output_type": "display_data"
    },
    {
     "name": "stdout",
     "output_type": "stream",
     "text": [
      "Accuracy of the model for test data is: 0.8890935887988209\n",
      "Confusion Matrix for test data is:\n"
     ]
    },
    {
     "data": {
      "text/plain": [
       "Predicted  False  True  __all__\n",
       "Actual                         \n",
       "False       6128   812     6940\n",
       "True          91  1111     1202\n",
       "__all__     6219  1923     8142"
      ]
     },
     "metadata": {},
     "output_type": "display_data"
    },
    {
     "data": {
      "application/vnd.plotly.v1+json": {
       "config": {
        "linkText": "Export to plot.ly",
        "plotlyServerURL": "https://plot.ly",
        "showLink": true
       },
       "data": [
        {
         "marker": {
          "color": "rgb(158,202,225)",
          "line": {
           "color": "rgb(8,48,107)",
           "width": 1.5
          }
         },
         "opacity": 0.6,
         "orientation": "h",
         "text": [
          0.3233,
          0.306,
          0.1265,
          0.0392,
          0.0369,
          0.0369,
          0.0268,
          0.0127,
          0.0096,
          0.0086,
          0.0084,
          0.0082,
          0.0066,
          0.0064,
          0.0055,
          0.0049,
          0.0045,
          0.0032,
          0.003,
          0.0028,
          0.0025,
          0.0024,
          0.0023,
          0.0022,
          0.002,
          0.0019,
          0.0014,
          0.0013,
          0.0012,
          0.0012,
          0.0009,
          0.0007,
          0.0001,
          0
         ],
         "textposition": "outside",
         "type": "bar",
         "uid": "729d7cd0-67ae-440f-bd28-b6d9b10c198a",
         "x": [
          0.32334442176451267,
          0.3059576352399324,
          0.12654216211799799,
          0.039174605340611346,
          0.03694276106775141,
          0.03685554390390511,
          0.02678703560904748,
          0.012704739279279727,
          0.009609456954316807,
          0.008566556953705043,
          0.008377213676165066,
          0.008202116641914033,
          0.006551913334872879,
          0.006400339445477363,
          0.005477003874505083,
          0.004931868197127109,
          0.004504031676530575,
          0.0032102702649891134,
          0.003000992705658695,
          0.0027572095312690934,
          0.002467690361900132,
          0.00243272288682818,
          0.0023076679940690252,
          0.0021943103712462717,
          0.0019640989745339163,
          0.0019463410075820124,
          0.0013848190066449012,
          0.0012834464295319232,
          0.0012376445515724708,
          0.0011939999092688272,
          0.0009072348083564755,
          0.0007007090640035186,
          7.459902795031059e-05,
          6.8380269429780335e-06
         ],
         "y": [
          "link_href_out_of_domain",
          "div_count",
          "meta_count",
          "push",
          "title_count",
          "script_async_true",
          "a_href_https",
          "img_src_out_of_domain",
          "a_href_http",
          "link_href_http",
          "strong_count",
          "center_count",
          "indexOf",
          "a_href_.com",
          "script_src_.js",
          "section_count",
          "link_type_text/css",
          "br_count",
          "li_count",
          "span_count",
          "escape",
          "script_src_out_of_domain",
          "window.addEventListener",
          "link_rel_shortlink",
          "find",
          "link_type_application/rsd+xml",
          "p_count",
          "img_src_.jpg",
          "form_action_http",
          "replace",
          "get",
          "document.getElementById",
          "link_rel_https://api.w.org/",
          "link_href_.css"
         ]
        }
       ],
       "layout": {
        "autosize": false,
        "height": 1000,
        "width": 1000,
        "xaxis": {
         "tickfont": {
          "color": "black",
          "size": 12
         },
         "title": "Feature Importances"
        },
        "yaxis": {
         "automargin": true
        }
       }
      },
      "text/html": [
       "<div id=\"a6487084-23b6-4d19-9d13-df04b394625d\" style=\"height: 1000px; width: 1000px;\" class=\"plotly-graph-div\"></div><script type=\"text/javascript\">require([\"plotly\"], function(Plotly) { window.PLOTLYENV=window.PLOTLYENV || {};window.PLOTLYENV.BASE_URL=\"https://plot.ly\";Plotly.newPlot(\"a6487084-23b6-4d19-9d13-df04b394625d\", [{\"marker\": {\"color\": \"rgb(158,202,225)\", \"line\": {\"color\": \"rgb(8,48,107)\", \"width\": 1.5}}, \"opacity\": 0.6, \"orientation\": \"h\", \"text\": [0.3233, 0.306, 0.1265, 0.0392, 0.0369, 0.0369, 0.0268, 0.0127, 0.0096, 0.0086, 0.0084, 0.0082, 0.0066, 0.0064, 0.0055, 0.0049, 0.0045, 0.0032, 0.003, 0.0028, 0.0025, 0.0024, 0.0023, 0.0022, 0.002, 0.0019, 0.0014, 0.0013, 0.0012, 0.0012, 0.0009, 0.0007, 0.0001, 0.0], \"textposition\": \"outside\", \"x\": [0.32334442176451267, 0.3059576352399324, 0.12654216211799799, 0.039174605340611346, 0.03694276106775141, 0.03685554390390511, 0.02678703560904748, 0.012704739279279727, 0.009609456954316807, 0.008566556953705043, 0.008377213676165066, 0.008202116641914033, 0.006551913334872879, 0.006400339445477363, 0.005477003874505083, 0.004931868197127109, 0.004504031676530575, 0.0032102702649891134, 0.003000992705658695, 0.0027572095312690934, 0.002467690361900132, 0.00243272288682818, 0.0023076679940690252, 0.0021943103712462717, 0.0019640989745339163, 0.0019463410075820124, 0.0013848190066449012, 0.0012834464295319232, 0.0012376445515724708, 0.0011939999092688272, 0.0009072348083564755, 0.0007007090640035186, 7.459902795031059e-05, 6.8380269429780335e-06], \"y\": [\"link_href_out_of_domain\", \"div_count\", \"meta_count\", \"push\", \"title_count\", \"script_async_true\", \"a_href_https\", \"img_src_out_of_domain\", \"a_href_http\", \"link_href_http\", \"strong_count\", \"center_count\", \"indexOf\", \"a_href_.com\", \"script_src_.js\", \"section_count\", \"link_type_text/css\", \"br_count\", \"li_count\", \"span_count\", \"escape\", \"script_src_out_of_domain\", \"window.addEventListener\", \"link_rel_shortlink\", \"find\", \"link_type_application/rsd+xml\", \"p_count\", \"img_src_.jpg\", \"form_action_http\", \"replace\", \"get\", \"document.getElementById\", \"link_rel_https://api.w.org/\", \"link_href_.css\"], \"type\": \"bar\", \"uid\": \"729d7cd0-67ae-440f-bd28-b6d9b10c198a\"}], {\"autosize\": false, \"height\": 1000, \"width\": 1000, \"xaxis\": {\"tickfont\": {\"color\": \"black\", \"size\": 12}, \"title\": \"Feature Importances\"}, \"yaxis\": {\"automargin\": true}}, {\"showLink\": true, \"linkText\": \"Export to plot.ly\", \"plotlyServerURL\": \"https://plot.ly\"})});</script>"
      ],
      "text/vnd.plotly.v1+html": [
       "<div id=\"a6487084-23b6-4d19-9d13-df04b394625d\" style=\"height: 1000px; width: 1000px;\" class=\"plotly-graph-div\"></div><script type=\"text/javascript\">require([\"plotly\"], function(Plotly) { window.PLOTLYENV=window.PLOTLYENV || {};window.PLOTLYENV.BASE_URL=\"https://plot.ly\";Plotly.newPlot(\"a6487084-23b6-4d19-9d13-df04b394625d\", [{\"marker\": {\"color\": \"rgb(158,202,225)\", \"line\": {\"color\": \"rgb(8,48,107)\", \"width\": 1.5}}, \"opacity\": 0.6, \"orientation\": \"h\", \"text\": [0.3233, 0.306, 0.1265, 0.0392, 0.0369, 0.0369, 0.0268, 0.0127, 0.0096, 0.0086, 0.0084, 0.0082, 0.0066, 0.0064, 0.0055, 0.0049, 0.0045, 0.0032, 0.003, 0.0028, 0.0025, 0.0024, 0.0023, 0.0022, 0.002, 0.0019, 0.0014, 0.0013, 0.0012, 0.0012, 0.0009, 0.0007, 0.0001, 0.0], \"textposition\": \"outside\", \"x\": [0.32334442176451267, 0.3059576352399324, 0.12654216211799799, 0.039174605340611346, 0.03694276106775141, 0.03685554390390511, 0.02678703560904748, 0.012704739279279727, 0.009609456954316807, 0.008566556953705043, 0.008377213676165066, 0.008202116641914033, 0.006551913334872879, 0.006400339445477363, 0.005477003874505083, 0.004931868197127109, 0.004504031676530575, 0.0032102702649891134, 0.003000992705658695, 0.0027572095312690934, 0.002467690361900132, 0.00243272288682818, 0.0023076679940690252, 0.0021943103712462717, 0.0019640989745339163, 0.0019463410075820124, 0.0013848190066449012, 0.0012834464295319232, 0.0012376445515724708, 0.0011939999092688272, 0.0009072348083564755, 0.0007007090640035186, 7.459902795031059e-05, 6.8380269429780335e-06], \"y\": [\"link_href_out_of_domain\", \"div_count\", \"meta_count\", \"push\", \"title_count\", \"script_async_true\", \"a_href_https\", \"img_src_out_of_domain\", \"a_href_http\", \"link_href_http\", \"strong_count\", \"center_count\", \"indexOf\", \"a_href_.com\", \"script_src_.js\", \"section_count\", \"link_type_text/css\", \"br_count\", \"li_count\", \"span_count\", \"escape\", \"script_src_out_of_domain\", \"window.addEventListener\", \"link_rel_shortlink\", \"find\", \"link_type_application/rsd+xml\", \"p_count\", \"img_src_.jpg\", \"form_action_http\", \"replace\", \"get\", \"document.getElementById\", \"link_rel_https://api.w.org/\", \"link_href_.css\"], \"type\": \"bar\", \"uid\": \"729d7cd0-67ae-440f-bd28-b6d9b10c198a\"}], {\"autosize\": false, \"height\": 1000, \"width\": 1000, \"xaxis\": {\"tickfont\": {\"color\": \"black\", \"size\": 12}, \"title\": \"Feature Importances\"}, \"yaxis\": {\"automargin\": true}}, {\"showLink\": true, \"linkText\": \"Export to plot.ly\", \"plotlyServerURL\": \"https://plot.ly\"})});</script>"
      ]
     },
     "metadata": {},
     "output_type": "display_data"
    },
    {
     "name": "stdout",
     "output_type": "stream",
     "text": [
      "\n",
      "\n",
      "\u001b[1mExtraTree Classifier\u001b[0m\n",
      "Accuracy of the model for training data is: 0.9529060995761189\n",
      "Confusion Matrix for training data is:\n"
     ]
    },
    {
     "data": {
      "text/plain": [
       "Predicted  False   True  __all__\n",
       "Actual                          \n",
       "False      25496   2342    27838\n",
       "True         280  27558    27838\n",
       "__all__    25776  29900    55676"
      ]
     },
     "metadata": {},
     "output_type": "display_data"
    },
    {
     "name": "stdout",
     "output_type": "stream",
     "text": [
      "Accuracy of the model for test data is: 0.9093588798820929\n",
      "Confusion Matrix for test data is:\n"
     ]
    },
    {
     "data": {
      "text/plain": [
       "Predicted  False  True  __all__\n",
       "Actual                         \n",
       "False       6319   621     6940\n",
       "True         117  1085     1202\n",
       "__all__     6436  1706     8142"
      ]
     },
     "metadata": {},
     "output_type": "display_data"
    },
    {
     "data": {
      "application/vnd.plotly.v1+json": {
       "config": {
        "linkText": "Export to plot.ly",
        "plotlyServerURL": "https://plot.ly",
        "showLink": true
       },
       "data": [
        {
         "marker": {
          "color": "rgb(158,202,225)",
          "line": {
           "color": "rgb(8,48,107)",
           "width": 1.5
          }
         },
         "opacity": 0.6,
         "orientation": "h",
         "text": [
          0.101,
          0.0826,
          0.0781,
          0.0687,
          0.0606,
          0.059,
          0.058,
          0.0541,
          0.0478,
          0.0455,
          0.0444,
          0.0245,
          0.0215,
          0.0185,
          0.018,
          0.0178,
          0.0172,
          0.0161,
          0.015,
          0.015,
          0.0141,
          0.0139,
          0.0133,
          0.0116,
          0.0115,
          0.011,
          0.0099,
          0.0091,
          0.009,
          0.0081,
          0.0079,
          0.0073,
          0.0054,
          0.0043
         ],
         "textposition": "outside",
         "type": "bar",
         "uid": "2d9315f9-5e89-477d-b0d0-8d229e7cb9db",
         "x": [
          0.10103540006657978,
          0.08263931975255527,
          0.07814059106698375,
          0.06871701443143664,
          0.060624400720693646,
          0.05897783552413217,
          0.058018037703339694,
          0.054121946843335954,
          0.04782451200700952,
          0.04549075680495812,
          0.04435226667889579,
          0.024458683123933053,
          0.021489022874335656,
          0.018535286633375996,
          0.0179801466569786,
          0.017813942879662276,
          0.017243960058438337,
          0.016104468603969035,
          0.015000498891094548,
          0.014973023432061408,
          0.014062985619872008,
          0.013924058574186791,
          0.013293818208123377,
          0.011603050437182846,
          0.011546126575186754,
          0.010950716984253633,
          0.009934477898324938,
          0.009072285386208868,
          0.009012754836197621,
          0.008146076701899123,
          0.007945181743741378,
          0.007311806624408144,
          0.005381155742073197,
          0.0042743899145722105
         ],
         "y": [
          "link_href_out_of_domain",
          "script_src_out_of_domain",
          "script_src_.js",
          "link_type_text/css",
          "script_async_true",
          "span_count",
          "a_href_https",
          "img_src_.jpg",
          "li_count",
          "link_href_.css",
          "a_href_http",
          "meta_count",
          "p_count",
          "img_src_out_of_domain",
          "br_count",
          "div_count",
          "link_rel_https://api.w.org/",
          "form_action_http",
          "section_count",
          "title_count",
          "push",
          "replace",
          "link_href_http",
          "link_rel_shortlink",
          "escape",
          "link_type_application/rsd+xml",
          "window.addEventListener",
          "a_href_.com",
          "center_count",
          "document.getElementById",
          "indexOf",
          "strong_count",
          "find",
          "get"
         ]
        }
       ],
       "layout": {
        "autosize": false,
        "height": 1000,
        "width": 1000,
        "xaxis": {
         "tickfont": {
          "color": "black",
          "size": 12
         },
         "title": "Feature Importances"
        },
        "yaxis": {
         "automargin": true
        }
       }
      },
      "text/html": [
       "<div id=\"31435f64-3da3-48c1-ae7d-00bbe99ce35e\" style=\"height: 1000px; width: 1000px;\" class=\"plotly-graph-div\"></div><script type=\"text/javascript\">require([\"plotly\"], function(Plotly) { window.PLOTLYENV=window.PLOTLYENV || {};window.PLOTLYENV.BASE_URL=\"https://plot.ly\";Plotly.newPlot(\"31435f64-3da3-48c1-ae7d-00bbe99ce35e\", [{\"marker\": {\"color\": \"rgb(158,202,225)\", \"line\": {\"color\": \"rgb(8,48,107)\", \"width\": 1.5}}, \"opacity\": 0.6, \"orientation\": \"h\", \"text\": [0.101, 0.0826, 0.0781, 0.0687, 0.0606, 0.059, 0.058, 0.0541, 0.0478, 0.0455, 0.0444, 0.0245, 0.0215, 0.0185, 0.018, 0.0178, 0.0172, 0.0161, 0.015, 0.015, 0.0141, 0.0139, 0.0133, 0.0116, 0.0115, 0.011, 0.0099, 0.0091, 0.009, 0.0081, 0.0079, 0.0073, 0.0054, 0.0043], \"textposition\": \"outside\", \"x\": [0.10103540006657978, 0.08263931975255527, 0.07814059106698375, 0.06871701443143664, 0.060624400720693646, 0.05897783552413217, 0.058018037703339694, 0.054121946843335954, 0.04782451200700952, 0.04549075680495812, 0.04435226667889579, 0.024458683123933053, 0.021489022874335656, 0.018535286633375996, 0.0179801466569786, 0.017813942879662276, 0.017243960058438337, 0.016104468603969035, 0.015000498891094548, 0.014973023432061408, 0.014062985619872008, 0.013924058574186791, 0.013293818208123377, 0.011603050437182846, 0.011546126575186754, 0.010950716984253633, 0.009934477898324938, 0.009072285386208868, 0.009012754836197621, 0.008146076701899123, 0.007945181743741378, 0.007311806624408144, 0.005381155742073197, 0.0042743899145722105], \"y\": [\"link_href_out_of_domain\", \"script_src_out_of_domain\", \"script_src_.js\", \"link_type_text/css\", \"script_async_true\", \"span_count\", \"a_href_https\", \"img_src_.jpg\", \"li_count\", \"link_href_.css\", \"a_href_http\", \"meta_count\", \"p_count\", \"img_src_out_of_domain\", \"br_count\", \"div_count\", \"link_rel_https://api.w.org/\", \"form_action_http\", \"section_count\", \"title_count\", \"push\", \"replace\", \"link_href_http\", \"link_rel_shortlink\", \"escape\", \"link_type_application/rsd+xml\", \"window.addEventListener\", \"a_href_.com\", \"center_count\", \"document.getElementById\", \"indexOf\", \"strong_count\", \"find\", \"get\"], \"type\": \"bar\", \"uid\": \"2d9315f9-5e89-477d-b0d0-8d229e7cb9db\"}], {\"autosize\": false, \"height\": 1000, \"width\": 1000, \"xaxis\": {\"tickfont\": {\"color\": \"black\", \"size\": 12}, \"title\": \"Feature Importances\"}, \"yaxis\": {\"automargin\": true}}, {\"showLink\": true, \"linkText\": \"Export to plot.ly\", \"plotlyServerURL\": \"https://plot.ly\"})});</script>"
      ],
      "text/vnd.plotly.v1+html": [
       "<div id=\"31435f64-3da3-48c1-ae7d-00bbe99ce35e\" style=\"height: 1000px; width: 1000px;\" class=\"plotly-graph-div\"></div><script type=\"text/javascript\">require([\"plotly\"], function(Plotly) { window.PLOTLYENV=window.PLOTLYENV || {};window.PLOTLYENV.BASE_URL=\"https://plot.ly\";Plotly.newPlot(\"31435f64-3da3-48c1-ae7d-00bbe99ce35e\", [{\"marker\": {\"color\": \"rgb(158,202,225)\", \"line\": {\"color\": \"rgb(8,48,107)\", \"width\": 1.5}}, \"opacity\": 0.6, \"orientation\": \"h\", \"text\": [0.101, 0.0826, 0.0781, 0.0687, 0.0606, 0.059, 0.058, 0.0541, 0.0478, 0.0455, 0.0444, 0.0245, 0.0215, 0.0185, 0.018, 0.0178, 0.0172, 0.0161, 0.015, 0.015, 0.0141, 0.0139, 0.0133, 0.0116, 0.0115, 0.011, 0.0099, 0.0091, 0.009, 0.0081, 0.0079, 0.0073, 0.0054, 0.0043], \"textposition\": \"outside\", \"x\": [0.10103540006657978, 0.08263931975255527, 0.07814059106698375, 0.06871701443143664, 0.060624400720693646, 0.05897783552413217, 0.058018037703339694, 0.054121946843335954, 0.04782451200700952, 0.04549075680495812, 0.04435226667889579, 0.024458683123933053, 0.021489022874335656, 0.018535286633375996, 0.0179801466569786, 0.017813942879662276, 0.017243960058438337, 0.016104468603969035, 0.015000498891094548, 0.014973023432061408, 0.014062985619872008, 0.013924058574186791, 0.013293818208123377, 0.011603050437182846, 0.011546126575186754, 0.010950716984253633, 0.009934477898324938, 0.009072285386208868, 0.009012754836197621, 0.008146076701899123, 0.007945181743741378, 0.007311806624408144, 0.005381155742073197, 0.0042743899145722105], \"y\": [\"link_href_out_of_domain\", \"script_src_out_of_domain\", \"script_src_.js\", \"link_type_text/css\", \"script_async_true\", \"span_count\", \"a_href_https\", \"img_src_.jpg\", \"li_count\", \"link_href_.css\", \"a_href_http\", \"meta_count\", \"p_count\", \"img_src_out_of_domain\", \"br_count\", \"div_count\", \"link_rel_https://api.w.org/\", \"form_action_http\", \"section_count\", \"title_count\", \"push\", \"replace\", \"link_href_http\", \"link_rel_shortlink\", \"escape\", \"link_type_application/rsd+xml\", \"window.addEventListener\", \"a_href_.com\", \"center_count\", \"document.getElementById\", \"indexOf\", \"strong_count\", \"find\", \"get\"], \"type\": \"bar\", \"uid\": \"2d9315f9-5e89-477d-b0d0-8d229e7cb9db\"}], {\"autosize\": false, \"height\": 1000, \"width\": 1000, \"xaxis\": {\"tickfont\": {\"color\": \"black\", \"size\": 12}, \"title\": \"Feature Importances\"}, \"yaxis\": {\"automargin\": true}}, {\"showLink\": true, \"linkText\": \"Export to plot.ly\", \"plotlyServerURL\": \"https://plot.ly\"})});</script>"
      ]
     },
     "metadata": {},
     "output_type": "display_data"
    },
    {
     "name": "stdout",
     "output_type": "stream",
     "text": [
      "\n",
      "\n",
      "\u001b[1mBagging Classifier\u001b[0m\n",
      "Accuracy of the model for training data is: 0.9521517350384366\n",
      "Confusion Matrix for training data is:\n"
     ]
    },
    {
     "data": {
      "text/plain": [
       "Predicted  False   True  __all__\n",
       "Actual                          \n",
       "False      25487   2351    27838\n",
       "True         313  27525    27838\n",
       "__all__    25800  29876    55676"
      ]
     },
     "metadata": {},
     "output_type": "display_data"
    },
    {
     "name": "stdout",
     "output_type": "stream",
     "text": [
      "Accuracy of the model for test data is: 0.9093588798820929\n",
      "Confusion Matrix for test data is:\n"
     ]
    },
    {
     "data": {
      "text/plain": [
       "Predicted  False  True  __all__\n",
       "Actual                         \n",
       "False       6314   626     6940\n",
       "True         112  1090     1202\n",
       "__all__     6426  1716     8142"
      ]
     },
     "metadata": {},
     "output_type": "display_data"
    },
    {
     "name": "stdout",
     "output_type": "stream",
     "text": [
      "\n",
      "\n",
      "\u001b[1mNeural Network-1\u001b[0m\n",
      "The accuracy of the model on training data is: 0.9375853150369998\n"
     ]
    },
    {
     "data": {
      "text/plain": [
       "Predicted  False   True  __all__\n",
       "Actual                          \n",
       "False      24598   3240    27838\n",
       "True         235  27603    27838\n",
       "__all__    24833  30843    55676"
      ]
     },
     "metadata": {},
     "output_type": "display_data"
    },
    {
     "name": "stdout",
     "output_type": "stream",
     "text": [
      "The accuracy of the model on test data is: 0.8862687300417588\n"
     ]
    },
    {
     "data": {
      "text/plain": [
       "Predicted  False  True  __all__\n",
       "Actual                         \n",
       "False       6088   852     6940\n",
       "True          74  1128     1202\n",
       "__all__     6162  1980     8142"
      ]
     },
     "metadata": {},
     "output_type": "display_data"
    },
    {
     "name": "stdout",
     "output_type": "stream",
     "text": [
      "\n",
      "\n"
     ]
    }
   ],
   "source": [
    "## Table to store training and test measures so we can compare later\n",
    "table_80_80_train=pd.DataFrame(columns=['accuracy','TP','TN','FP','FN','FPR','FNR'])\n",
    "table_80_80_test=pd.DataFrame(columns=['accuracy','TP','TN','FP','FN','FPR','FNR','auc','mcc'])\n",
    "\n",
    "feat_imp=[None]*4\n",
    "j=0\n",
    "for i in range(0,8):\n",
    "    if i>=2 and i<=5:\n",
    "        model,cm_train,cm_test,acc_train,acc_test,roc_auc,feat_imp[j],mcc=f[i](X_train,Y_train,scaled_X_test,test_Y,columns)\n",
    "        j=j+1\n",
    "    else:\n",
    "        model,cm_train,cm_test,acc_train,acc_test,roc_auc,mcc=f[i](X_train,Y_train,scaled_X_test,test_Y)\n",
    "    table_80_80_train.loc[i]=   ([acc_train,cm_train.TP,cm_train.TN,cm_train.FP,cm_train.FN,cm_train.FPR,cm_train.FNR])\n",
    "    table_80_80_test.loc[i] =   ([acc_test ,cm_test.TP, cm_test.TN, cm_test.FP, cm_test.FN, cm_test.FPR, cm_test.FNR,roc_auc,mcc])\n",
    "    print(\"\\n\")"
   ]
  },
  {
   "cell_type": "markdown",
   "metadata": {},
   "source": [
    "### <a id='2.A' style=\"text-decoration : none; color : #000000;\"> A Results</a>"
   ]
  },
  {
   "cell_type": "code",
   "execution_count": 25,
   "metadata": {},
   "outputs": [
    {
     "data": {
      "application/vnd.plotly.v1+json": {
       "config": {
        "linkText": "Export to plot.ly",
        "plotlyServerURL": "https://plot.ly",
        "showLink": true
       },
       "data": [
        {
         "mode": "lines",
         "name": "KNN_model",
         "type": "scatter",
         "uid": "5b2622cf-fdb0-4ab7-b680-674c35b788f2",
         "x": [
          "accuracy",
          "FPR",
          "FNR",
          "auc"
         ],
         "y": [
          0.8812331122574306,
          0.12579250720461094,
          0.07820299500831947,
          0.8980022488935349
         ]
        },
        {
         "mode": "lines+markers",
         "name": "Logistic Regression",
         "type": "scatter",
         "uid": "f4212a98-5ecb-4ede-9f81-4762be011358",
         "x": [
          "accuracy",
          "FPR",
          "FNR",
          "auc"
         ],
         "y": [
          0.8521247850650946,
          0.1642651296829971,
          0.05324459234608985,
          0.8912451389854565
         ]
        },
        {
         "marker": {
          "symbol": "x"
         },
         "mode": "lines+markers",
         "name": "Random Forest",
         "type": "scatter",
         "uid": "7cca1112-8675-4d11-a4ac-62e2a42b65f0",
         "x": [
          "accuracy",
          "FPR",
          "FNR",
          "auc"
         ],
         "y": [
          0.9107098992876443,
          0.08804034582132565,
          0.09650582362728785,
          0.9077269152756933
         ]
        },
        {
         "mode": "lines",
         "name": "Ada Boost",
         "type": "scatter",
         "uid": "f27d9344-de3d-4497-8c16-8bda3cd2f554",
         "x": [
          "accuracy",
          "FPR",
          "FNR",
          "auc"
         ],
         "y": [
          0.8731269958241218,
          0.13760806916426513,
          0.064891846921797,
          0.898750041956969
         ]
        },
        {
         "mode": "lines+markers",
         "name": "GradientBoosting",
         "type": "scatter",
         "uid": "1e25921e-eff0-4a2e-aa13-485494dcd43b",
         "x": [
          "accuracy",
          "FPR",
          "FNR",
          "auc"
         ],
         "y": [
          0.8890935887988209,
          0.1170028818443804,
          0.07570715474209651,
          0.9036449817067616
         ]
        },
        {
         "marker": {
          "symbol": "x"
         },
         "mode": "lines+markers",
         "name": "ExtraTree Classifier",
         "type": "scatter",
         "uid": "b60341f6-c2c9-4d09-873f-766a9c84dab3",
         "x": [
          "accuracy",
          "FPR",
          "FNR",
          "auc"
         ],
         "y": [
          0.9093588798820929,
          0.08948126801152738,
          0.0973377703826955,
          0.9065904808028886
         ]
        },
        {
         "marker": {
          "symbol": "x"
         },
         "mode": "lines+markers",
         "name": "Bagging",
         "type": "scatter",
         "uid": "5b66263e-c58c-436f-80bf-897c4db1f6d9",
         "x": [
          "accuracy",
          "FPR",
          "FNR",
          "auc"
         ],
         "y": [
          0.9093588798820929,
          0.09020172910662824,
          0.09317803660565724,
          0.9083101171438572
         ]
        },
        {
         "marker": {
          "symbol": "x"
         },
         "mode": "lines+markers",
         "name": "Neural Network",
         "type": "scatter",
         "uid": "cccc29ad-4a31-4880-a8a9-2d7c0df034c2",
         "x": [
          "accuracy",
          "FPR",
          "FNR",
          "auc"
         ],
         "y": [
          0.8862687300417588,
          0.12276657060518732,
          0.06156405990016639,
          0.9078346847473231
         ]
        }
       ],
       "layout": {
        "title": "Result comparision for Features selected in Section 1",
        "yaxis": {
         "dtick": 0.05,
         "tick0": 0
        }
       }
      },
      "text/html": [
       "<div id=\"cb93b15f-eb4b-4641-b2a9-3ae1bb712764\" style=\"height: 525px; width: 100%;\" class=\"plotly-graph-div\"></div><script type=\"text/javascript\">require([\"plotly\"], function(Plotly) { window.PLOTLYENV=window.PLOTLYENV || {};window.PLOTLYENV.BASE_URL=\"https://plot.ly\";Plotly.newPlot(\"cb93b15f-eb4b-4641-b2a9-3ae1bb712764\", [{\"mode\": \"lines\", \"name\": \"KNN_model\", \"x\": [\"accuracy\", \"FPR\", \"FNR\", \"auc\"], \"y\": [0.8812331122574306, 0.12579250720461094, 0.07820299500831947, 0.8980022488935349], \"type\": \"scatter\", \"uid\": \"5b2622cf-fdb0-4ab7-b680-674c35b788f2\"}, {\"mode\": \"lines+markers\", \"name\": \"Logistic Regression\", \"x\": [\"accuracy\", \"FPR\", \"FNR\", \"auc\"], \"y\": [0.8521247850650946, 0.1642651296829971, 0.05324459234608985, 0.8912451389854565], \"type\": \"scatter\", \"uid\": \"f4212a98-5ecb-4ede-9f81-4762be011358\"}, {\"marker\": {\"symbol\": \"x\"}, \"mode\": \"lines+markers\", \"name\": \"Random Forest\", \"x\": [\"accuracy\", \"FPR\", \"FNR\", \"auc\"], \"y\": [0.9107098992876443, 0.08804034582132565, 0.09650582362728785, 0.9077269152756933], \"type\": \"scatter\", \"uid\": \"7cca1112-8675-4d11-a4ac-62e2a42b65f0\"}, {\"mode\": \"lines\", \"name\": \"Ada Boost\", \"x\": [\"accuracy\", \"FPR\", \"FNR\", \"auc\"], \"y\": [0.8731269958241218, 0.13760806916426513, 0.064891846921797, 0.898750041956969], \"type\": \"scatter\", \"uid\": \"f27d9344-de3d-4497-8c16-8bda3cd2f554\"}, {\"mode\": \"lines+markers\", \"name\": \"GradientBoosting\", \"x\": [\"accuracy\", \"FPR\", \"FNR\", \"auc\"], \"y\": [0.8890935887988209, 0.1170028818443804, 0.07570715474209651, 0.9036449817067616], \"type\": \"scatter\", \"uid\": \"1e25921e-eff0-4a2e-aa13-485494dcd43b\"}, {\"marker\": {\"symbol\": \"x\"}, \"mode\": \"lines+markers\", \"name\": \"ExtraTree Classifier\", \"x\": [\"accuracy\", \"FPR\", \"FNR\", \"auc\"], \"y\": [0.9093588798820929, 0.08948126801152738, 0.0973377703826955, 0.9065904808028886], \"type\": \"scatter\", \"uid\": \"b60341f6-c2c9-4d09-873f-766a9c84dab3\"}, {\"marker\": {\"symbol\": \"x\"}, \"mode\": \"lines+markers\", \"name\": \"Bagging\", \"x\": [\"accuracy\", \"FPR\", \"FNR\", \"auc\"], \"y\": [0.9093588798820929, 0.09020172910662824, 0.09317803660565724, 0.9083101171438572], \"type\": \"scatter\", \"uid\": \"5b66263e-c58c-436f-80bf-897c4db1f6d9\"}, {\"marker\": {\"symbol\": \"x\"}, \"mode\": \"lines+markers\", \"name\": \"Neural Network\", \"x\": [\"accuracy\", \"FPR\", \"FNR\", \"auc\"], \"y\": [0.8862687300417588, 0.12276657060518732, 0.06156405990016639, 0.9078346847473231], \"type\": \"scatter\", \"uid\": \"cccc29ad-4a31-4880-a8a9-2d7c0df034c2\"}], {\"title\": \"Result comparision for Features selected in Section 1\", \"yaxis\": {\"dtick\": 0.05, \"tick0\": 0}}, {\"showLink\": true, \"linkText\": \"Export to plot.ly\", \"plotlyServerURL\": \"https://plot.ly\"})});</script><script type=\"text/javascript\">window.addEventListener(\"resize\", function(){window._Plotly.Plots.resize(document.getElementById(\"cb93b15f-eb4b-4641-b2a9-3ae1bb712764\"));});</script>"
      ],
      "text/vnd.plotly.v1+html": [
       "<div id=\"cb93b15f-eb4b-4641-b2a9-3ae1bb712764\" style=\"height: 525px; width: 100%;\" class=\"plotly-graph-div\"></div><script type=\"text/javascript\">require([\"plotly\"], function(Plotly) { window.PLOTLYENV=window.PLOTLYENV || {};window.PLOTLYENV.BASE_URL=\"https://plot.ly\";Plotly.newPlot(\"cb93b15f-eb4b-4641-b2a9-3ae1bb712764\", [{\"mode\": \"lines\", \"name\": \"KNN_model\", \"x\": [\"accuracy\", \"FPR\", \"FNR\", \"auc\"], \"y\": [0.8812331122574306, 0.12579250720461094, 0.07820299500831947, 0.8980022488935349], \"type\": \"scatter\", \"uid\": \"5b2622cf-fdb0-4ab7-b680-674c35b788f2\"}, {\"mode\": \"lines+markers\", \"name\": \"Logistic Regression\", \"x\": [\"accuracy\", \"FPR\", \"FNR\", \"auc\"], \"y\": [0.8521247850650946, 0.1642651296829971, 0.05324459234608985, 0.8912451389854565], \"type\": \"scatter\", \"uid\": \"f4212a98-5ecb-4ede-9f81-4762be011358\"}, {\"marker\": {\"symbol\": \"x\"}, \"mode\": \"lines+markers\", \"name\": \"Random Forest\", \"x\": [\"accuracy\", \"FPR\", \"FNR\", \"auc\"], \"y\": [0.9107098992876443, 0.08804034582132565, 0.09650582362728785, 0.9077269152756933], \"type\": \"scatter\", \"uid\": \"7cca1112-8675-4d11-a4ac-62e2a42b65f0\"}, {\"mode\": \"lines\", \"name\": \"Ada Boost\", \"x\": [\"accuracy\", \"FPR\", \"FNR\", \"auc\"], \"y\": [0.8731269958241218, 0.13760806916426513, 0.064891846921797, 0.898750041956969], \"type\": \"scatter\", \"uid\": \"f27d9344-de3d-4497-8c16-8bda3cd2f554\"}, {\"mode\": \"lines+markers\", \"name\": \"GradientBoosting\", \"x\": [\"accuracy\", \"FPR\", \"FNR\", \"auc\"], \"y\": [0.8890935887988209, 0.1170028818443804, 0.07570715474209651, 0.9036449817067616], \"type\": \"scatter\", \"uid\": \"1e25921e-eff0-4a2e-aa13-485494dcd43b\"}, {\"marker\": {\"symbol\": \"x\"}, \"mode\": \"lines+markers\", \"name\": \"ExtraTree Classifier\", \"x\": [\"accuracy\", \"FPR\", \"FNR\", \"auc\"], \"y\": [0.9093588798820929, 0.08948126801152738, 0.0973377703826955, 0.9065904808028886], \"type\": \"scatter\", \"uid\": \"b60341f6-c2c9-4d09-873f-766a9c84dab3\"}, {\"marker\": {\"symbol\": \"x\"}, \"mode\": \"lines+markers\", \"name\": \"Bagging\", \"x\": [\"accuracy\", \"FPR\", \"FNR\", \"auc\"], \"y\": [0.9093588798820929, 0.09020172910662824, 0.09317803660565724, 0.9083101171438572], \"type\": \"scatter\", \"uid\": \"5b66263e-c58c-436f-80bf-897c4db1f6d9\"}, {\"marker\": {\"symbol\": \"x\"}, \"mode\": \"lines+markers\", \"name\": \"Neural Network\", \"x\": [\"accuracy\", \"FPR\", \"FNR\", \"auc\"], \"y\": [0.8862687300417588, 0.12276657060518732, 0.06156405990016639, 0.9078346847473231], \"type\": \"scatter\", \"uid\": \"cccc29ad-4a31-4880-a8a9-2d7c0df034c2\"}], {\"title\": \"Result comparision for Features selected in Section 1\", \"yaxis\": {\"dtick\": 0.05, \"tick0\": 0}}, {\"showLink\": true, \"linkText\": \"Export to plot.ly\", \"plotlyServerURL\": \"https://plot.ly\"})});</script><script type=\"text/javascript\">window.addEventListener(\"resize\", function(){window._Plotly.Plots.resize(document.getElementById(\"cb93b15f-eb4b-4641-b2a9-3ae1bb712764\"));});</script>"
      ]
     },
     "metadata": {},
     "output_type": "display_data"
    }
   ],
   "source": [
    "trace0 = go.Scatter(x=table_80_80_test.iloc[0].index.values[[0,5,6,7]],\n",
    "                    y=table_80_80_test.iloc[0].values[[0,5,6,7]],\n",
    "                    mode = 'lines',\n",
    "                    name = 'KNN_model')\n",
    "\n",
    "trace1 = go.Scatter(x=table_80_80_test.iloc[1].index.values[[0,5,6,7]],\n",
    "                    y=table_80_80_test.iloc[1].values[[0,5,6,7]],\n",
    "                    mode = 'lines+markers',\n",
    "                    name = 'Logistic Regression')\n",
    "\n",
    "trace2 = go.Scatter(x=table_80_80_test.iloc[2].index.values[[0,5,6,7]],\n",
    "                    y=table_80_80_test.iloc[2].values[[0,5,6,7]],\n",
    "                    mode = 'lines+markers',marker=dict(symbol='x'),\n",
    "                    name = 'Random Forest')\n",
    "\n",
    "\n",
    "trace3 = go.Scatter(x=table_80_80_test.iloc[3].index.values[[0,5,6,7]],\n",
    "                    y=table_80_80_test.iloc[3].values[[0,5,6,7]],\n",
    "                    mode = 'lines',\n",
    "                    name = 'Ada Boost')\n",
    "\n",
    "trace4 = go.Scatter(x=table_80_80_test.iloc[4].index.values[[0,5,6,7]],\n",
    "                    y=table_80_80_test.iloc[4].values[[0,5,6,7]],\n",
    "                    mode = 'lines+markers',\n",
    "                    name = 'GradientBoosting')\n",
    "\n",
    "trace5 = go.Scatter(x=table_80_80_test.iloc[5].index.values[[0,5,6,7]],\n",
    "                    y=table_80_80_test.iloc[5].values[[0,5,6,7]],\n",
    "                    mode = 'lines+markers',marker=dict(symbol='x'),\n",
    "                    name = 'ExtraTree Classifier')\n",
    "\n",
    "trace6 = go.Scatter(x=table_80_80_test.iloc[6].index.values[[0,5,6,7]],\n",
    "                    y=table_80_80_test.iloc[6].values[[0,5,6,7]],\n",
    "                    mode = 'lines+markers',marker=dict(symbol='x'),\n",
    "                    name = 'Bagging')\n",
    "\n",
    "trace7 = go.Scatter(x=table_80_80_test.iloc[7].index.values[[0,5,6,7]],\n",
    "                    y=table_80_80_test.iloc[7].values[[0,5,6,7]],\n",
    "                    mode = 'lines+markers',marker=dict(symbol='x'),\n",
    "                    name = 'Neural Network')\n",
    "\n",
    "\n",
    "\n",
    "data = [trace0, trace1, trace2, trace3, trace4, trace5, trace6, trace7]\n",
    "layout = go.Layout(yaxis=dict(tick0=0,dtick=0.05),title='Result comparision for Features selected in Section 1')\n",
    "fig = go.Figure(data=data, layout=layout)\n",
    "\n",
    "iplot(fig, filename='Result')"
   ]
  },
  {
   "cell_type": "code",
   "execution_count": 26,
   "metadata": {},
   "outputs": [
    {
     "name": "stdout",
     "output_type": "stream",
     "text": [
      "Training Results\n"
     ]
    },
    {
     "data": {
      "text/html": [
       "<div>\n",
       "<style scoped>\n",
       "    .dataframe tbody tr th:only-of-type {\n",
       "        vertical-align: middle;\n",
       "    }\n",
       "\n",
       "    .dataframe tbody tr th {\n",
       "        vertical-align: top;\n",
       "    }\n",
       "\n",
       "    .dataframe thead th {\n",
       "        text-align: right;\n",
       "    }\n",
       "</style>\n",
       "<table border=\"1\" class=\"dataframe\">\n",
       "  <thead>\n",
       "    <tr style=\"text-align: right;\">\n",
       "      <th></th>\n",
       "      <th>accuracy</th>\n",
       "      <th>TP</th>\n",
       "      <th>TN</th>\n",
       "      <th>FP</th>\n",
       "      <th>FN</th>\n",
       "      <th>FPR</th>\n",
       "      <th>FNR</th>\n",
       "    </tr>\n",
       "    <tr>\n",
       "      <th>index</th>\n",
       "      <th></th>\n",
       "      <th></th>\n",
       "      <th></th>\n",
       "      <th></th>\n",
       "      <th></th>\n",
       "      <th></th>\n",
       "      <th></th>\n",
       "    </tr>\n",
       "  </thead>\n",
       "  <tbody>\n",
       "    <tr>\n",
       "      <th>KNeighborsClassifier</th>\n",
       "      <td>0.935286</td>\n",
       "      <td>27269.0</td>\n",
       "      <td>24804.0</td>\n",
       "      <td>3034.0</td>\n",
       "      <td>569.0</td>\n",
       "      <td>0.108988</td>\n",
       "      <td>0.020440</td>\n",
       "    </tr>\n",
       "    <tr>\n",
       "      <th>LogisticRegression</th>\n",
       "      <td>0.892880</td>\n",
       "      <td>26594.0</td>\n",
       "      <td>23118.0</td>\n",
       "      <td>4720.0</td>\n",
       "      <td>1244.0</td>\n",
       "      <td>0.169552</td>\n",
       "      <td>0.044687</td>\n",
       "    </tr>\n",
       "    <tr>\n",
       "      <th>RandomForestClassifier</th>\n",
       "      <td>0.952242</td>\n",
       "      <td>27528.0</td>\n",
       "      <td>25489.0</td>\n",
       "      <td>2349.0</td>\n",
       "      <td>310.0</td>\n",
       "      <td>0.084381</td>\n",
       "      <td>0.011136</td>\n",
       "    </tr>\n",
       "    <tr>\n",
       "      <th>AdaBoostClassifier</th>\n",
       "      <td>0.909135</td>\n",
       "      <td>26689.0</td>\n",
       "      <td>23928.0</td>\n",
       "      <td>3910.0</td>\n",
       "      <td>1149.0</td>\n",
       "      <td>0.140455</td>\n",
       "      <td>0.041275</td>\n",
       "    </tr>\n",
       "    <tr>\n",
       "      <th>GradientBoostingClassifier</th>\n",
       "      <td>0.923342</td>\n",
       "      <td>26969.0</td>\n",
       "      <td>24439.0</td>\n",
       "      <td>3399.0</td>\n",
       "      <td>869.0</td>\n",
       "      <td>0.122099</td>\n",
       "      <td>0.031216</td>\n",
       "    </tr>\n",
       "    <tr>\n",
       "      <th>ExtraTreeClassifier</th>\n",
       "      <td>0.952906</td>\n",
       "      <td>27558.0</td>\n",
       "      <td>25496.0</td>\n",
       "      <td>2342.0</td>\n",
       "      <td>280.0</td>\n",
       "      <td>0.084130</td>\n",
       "      <td>0.010058</td>\n",
       "    </tr>\n",
       "    <tr>\n",
       "      <th>BaggingClassifier</th>\n",
       "      <td>0.952152</td>\n",
       "      <td>27525.0</td>\n",
       "      <td>25487.0</td>\n",
       "      <td>2351.0</td>\n",
       "      <td>313.0</td>\n",
       "      <td>0.084453</td>\n",
       "      <td>0.011244</td>\n",
       "    </tr>\n",
       "    <tr>\n",
       "      <th>Neural Network-1</th>\n",
       "      <td>0.937585</td>\n",
       "      <td>27603.0</td>\n",
       "      <td>24598.0</td>\n",
       "      <td>3240.0</td>\n",
       "      <td>235.0</td>\n",
       "      <td>0.116388</td>\n",
       "      <td>0.008442</td>\n",
       "    </tr>\n",
       "  </tbody>\n",
       "</table>\n",
       "</div>"
      ],
      "text/plain": [
       "                            accuracy       TP       TN      FP      FN  \\\n",
       "index                                                                    \n",
       "KNeighborsClassifier        0.935286  27269.0  24804.0  3034.0   569.0   \n",
       "LogisticRegression          0.892880  26594.0  23118.0  4720.0  1244.0   \n",
       "RandomForestClassifier      0.952242  27528.0  25489.0  2349.0   310.0   \n",
       "AdaBoostClassifier          0.909135  26689.0  23928.0  3910.0  1149.0   \n",
       "GradientBoostingClassifier  0.923342  26969.0  24439.0  3399.0   869.0   \n",
       "ExtraTreeClassifier         0.952906  27558.0  25496.0  2342.0   280.0   \n",
       "BaggingClassifier           0.952152  27525.0  25487.0  2351.0   313.0   \n",
       "Neural Network-1            0.937585  27603.0  24598.0  3240.0   235.0   \n",
       "\n",
       "                                 FPR       FNR  \n",
       "index                                           \n",
       "KNeighborsClassifier        0.108988  0.020440  \n",
       "LogisticRegression          0.169552  0.044687  \n",
       "RandomForestClassifier      0.084381  0.011136  \n",
       "AdaBoostClassifier          0.140455  0.041275  \n",
       "GradientBoostingClassifier  0.122099  0.031216  \n",
       "ExtraTreeClassifier         0.084130  0.010058  \n",
       "BaggingClassifier           0.084453  0.011244  \n",
       "Neural Network-1            0.116388  0.008442  "
      ]
     },
     "metadata": {},
     "output_type": "display_data"
    },
    {
     "name": "stdout",
     "output_type": "stream",
     "text": [
      "Test Results\n"
     ]
    },
    {
     "data": {
      "text/html": [
       "<div>\n",
       "<style scoped>\n",
       "    .dataframe tbody tr th:only-of-type {\n",
       "        vertical-align: middle;\n",
       "    }\n",
       "\n",
       "    .dataframe tbody tr th {\n",
       "        vertical-align: top;\n",
       "    }\n",
       "\n",
       "    .dataframe thead th {\n",
       "        text-align: right;\n",
       "    }\n",
       "</style>\n",
       "<table border=\"1\" class=\"dataframe\">\n",
       "  <thead>\n",
       "    <tr style=\"text-align: right;\">\n",
       "      <th></th>\n",
       "      <th>accuracy</th>\n",
       "      <th>TP</th>\n",
       "      <th>TN</th>\n",
       "      <th>FP</th>\n",
       "      <th>FN</th>\n",
       "      <th>FPR</th>\n",
       "      <th>FNR</th>\n",
       "      <th>auc</th>\n",
       "      <th>mcc</th>\n",
       "    </tr>\n",
       "    <tr>\n",
       "      <th>index</th>\n",
       "      <th></th>\n",
       "      <th></th>\n",
       "      <th></th>\n",
       "      <th></th>\n",
       "      <th></th>\n",
       "      <th></th>\n",
       "      <th></th>\n",
       "      <th></th>\n",
       "      <th></th>\n",
       "    </tr>\n",
       "  </thead>\n",
       "  <tbody>\n",
       "    <tr>\n",
       "      <th>KNeighborsClassifier</th>\n",
       "      <td>0.881233</td>\n",
       "      <td>1108.0</td>\n",
       "      <td>6067.0</td>\n",
       "      <td>873.0</td>\n",
       "      <td>94.0</td>\n",
       "      <td>0.125793</td>\n",
       "      <td>0.078203</td>\n",
       "      <td>0.898002</td>\n",
       "      <td>0.658081</td>\n",
       "    </tr>\n",
       "    <tr>\n",
       "      <th>LogisticRegression</th>\n",
       "      <td>0.852125</td>\n",
       "      <td>1138.0</td>\n",
       "      <td>5800.0</td>\n",
       "      <td>1140.0</td>\n",
       "      <td>64.0</td>\n",
       "      <td>0.164265</td>\n",
       "      <td>0.053245</td>\n",
       "      <td>0.891245</td>\n",
       "      <td>0.618354</td>\n",
       "    </tr>\n",
       "    <tr>\n",
       "      <th>RandomForestClassifier</th>\n",
       "      <td>0.910710</td>\n",
       "      <td>1086.0</td>\n",
       "      <td>6329.0</td>\n",
       "      <td>611.0</td>\n",
       "      <td>116.0</td>\n",
       "      <td>0.088040</td>\n",
       "      <td>0.096506</td>\n",
       "      <td>0.907727</td>\n",
       "      <td>0.712162</td>\n",
       "    </tr>\n",
       "    <tr>\n",
       "      <th>AdaBoostClassifier</th>\n",
       "      <td>0.873127</td>\n",
       "      <td>1124.0</td>\n",
       "      <td>5985.0</td>\n",
       "      <td>955.0</td>\n",
       "      <td>78.0</td>\n",
       "      <td>0.137608</td>\n",
       "      <td>0.064892</td>\n",
       "      <td>0.898750</td>\n",
       "      <td>0.648771</td>\n",
       "    </tr>\n",
       "    <tr>\n",
       "      <th>GradientBoostingClassifier</th>\n",
       "      <td>0.889094</td>\n",
       "      <td>1111.0</td>\n",
       "      <td>6128.0</td>\n",
       "      <td>812.0</td>\n",
       "      <td>91.0</td>\n",
       "      <td>0.117003</td>\n",
       "      <td>0.075707</td>\n",
       "      <td>0.903645</td>\n",
       "      <td>0.674235</td>\n",
       "    </tr>\n",
       "    <tr>\n",
       "      <th>ExtraTreeClassifier</th>\n",
       "      <td>0.909359</td>\n",
       "      <td>1085.0</td>\n",
       "      <td>6319.0</td>\n",
       "      <td>621.0</td>\n",
       "      <td>117.0</td>\n",
       "      <td>0.089481</td>\n",
       "      <td>0.097338</td>\n",
       "      <td>0.906590</td>\n",
       "      <td>0.708797</td>\n",
       "    </tr>\n",
       "    <tr>\n",
       "      <th>BaggingClassifier</th>\n",
       "      <td>0.909359</td>\n",
       "      <td>1090.0</td>\n",
       "      <td>6314.0</td>\n",
       "      <td>626.0</td>\n",
       "      <td>112.0</td>\n",
       "      <td>0.090202</td>\n",
       "      <td>0.093178</td>\n",
       "      <td>0.908310</td>\n",
       "      <td>0.710269</td>\n",
       "    </tr>\n",
       "    <tr>\n",
       "      <th>Neural Network-1</th>\n",
       "      <td>0.886269</td>\n",
       "      <td>1128.0</td>\n",
       "      <td>6088.0</td>\n",
       "      <td>852.0</td>\n",
       "      <td>74.0</td>\n",
       "      <td>0.122767</td>\n",
       "      <td>0.061564</td>\n",
       "      <td>0.907835</td>\n",
       "      <td>0.674455</td>\n",
       "    </tr>\n",
       "  </tbody>\n",
       "</table>\n",
       "</div>"
      ],
      "text/plain": [
       "                            accuracy      TP      TN      FP     FN       FPR  \\\n",
       "index                                                                           \n",
       "KNeighborsClassifier        0.881233  1108.0  6067.0   873.0   94.0  0.125793   \n",
       "LogisticRegression          0.852125  1138.0  5800.0  1140.0   64.0  0.164265   \n",
       "RandomForestClassifier      0.910710  1086.0  6329.0   611.0  116.0  0.088040   \n",
       "AdaBoostClassifier          0.873127  1124.0  5985.0   955.0   78.0  0.137608   \n",
       "GradientBoostingClassifier  0.889094  1111.0  6128.0   812.0   91.0  0.117003   \n",
       "ExtraTreeClassifier         0.909359  1085.0  6319.0   621.0  117.0  0.089481   \n",
       "BaggingClassifier           0.909359  1090.0  6314.0   626.0  112.0  0.090202   \n",
       "Neural Network-1            0.886269  1128.0  6088.0   852.0   74.0  0.122767   \n",
       "\n",
       "                                 FNR       auc       mcc  \n",
       "index                                                     \n",
       "KNeighborsClassifier        0.078203  0.898002  0.658081  \n",
       "LogisticRegression          0.053245  0.891245  0.618354  \n",
       "RandomForestClassifier      0.096506  0.907727  0.712162  \n",
       "AdaBoostClassifier          0.064892  0.898750  0.648771  \n",
       "GradientBoostingClassifier  0.075707  0.903645  0.674235  \n",
       "ExtraTreeClassifier         0.097338  0.906590  0.708797  \n",
       "BaggingClassifier           0.093178  0.908310  0.710269  \n",
       "Neural Network-1            0.061564  0.907835  0.674455  "
      ]
     },
     "metadata": {},
     "output_type": "display_data"
    }
   ],
   "source": [
    "table_80_80_train['index']=ind_columns\n",
    "table_80_80_test['index']=ind_columns\n",
    "\n",
    "\n",
    "table_80_80_test.set_index(['index'],drop=True,inplace=True)\n",
    "table_80_80_train.set_index(['index'],drop=True,inplace=True)\n",
    "\n",
    "print(\"Training Results\")\n",
    "display(table_80_80_train)\n",
    "print(\"Test Results\")\n",
    "display(table_80_80_test)"
   ]
  },
  {
   "cell_type": "markdown",
   "metadata": {},
   "source": [
    "### <a id='2.B' style=\"text-decoration : none; color : #000000;\"> B. Average Feature Importances</a>"
   ]
  },
  {
   "cell_type": "code",
   "execution_count": 27,
   "metadata": {},
   "outputs": [
    {
     "data": {
      "application/vnd.plotly.v1+json": {
       "config": {
        "linkText": "Export to plot.ly",
        "plotlyServerURL": "https://plot.ly",
        "showLink": true
       },
       "data": [
        {
         "marker": {
          "color": "rgb(158,202,225)",
          "line": {
           "color": "rgb(8,48,107)",
           "width": 1.5
          }
         },
         "opacity": 0.6,
         "orientation": "h",
         "text": [
          0.1476,
          0.1376,
          0.0739,
          0.0575,
          0.05,
          0.0495,
          0.0489,
          0.0412,
          0.0338,
          0.0308,
          0.0304,
          0.0277,
          0.0253,
          0.0246,
          0.0226,
          0.022,
          0.0183,
          0.0176,
          0.0146,
          0.0135,
          0.0116,
          0.0111,
          0.011,
          0.011,
          0.0094,
          0.009,
          0.0089,
          0.0083,
          0.0074,
          0.0069,
          0.0049,
          0.0048,
          0.0047,
          0.0038
         ],
         "textposition": "outside",
         "type": "bar",
         "uid": "68028d8e-b2ca-4cc8-9b9d-23126f18445c",
         "x": [
          0.14755836036110945,
          0.13759396958885747,
          0.07393499719046838,
          0.057464940366016626,
          0.049967728385402956,
          0.04952837303111645,
          0.04886825696059481,
          0.041186535578195974,
          0.0338076371180288,
          0.03084063455999074,
          0.030354552167277928,
          0.02774836525253619,
          0.025317115281763374,
          0.02459259192860742,
          0.022617673648422893,
          0.021958569928477396,
          0.01833292380325904,
          0.017554280309443546,
          0.014631380373382293,
          0.013505556371476804,
          0.011593048139568568,
          0.011073218561034982,
          0.01102339909412135,
          0.010970344084714128,
          0.00941095158922226,
          0.00897656456162145,
          0.008887458177138341,
          0.00829090508852891,
          0.007354069595648769,
          0.006875062318698755,
          0.004861067167571502,
          0.004823331580567158,
          0.004730380604907551,
          0.003765757232227705
         ],
         "y": [
          "div_count",
          "link_href_out_of_domain",
          "script_src_.js",
          "a_href_https",
          "script_async_true",
          "script_src_out_of_domain",
          "meta_count",
          "title_count",
          "push",
          "link_type_text/css",
          "img_src_.jpg",
          "br_count",
          "a_href_.com",
          "p_count",
          "a_href_http",
          "li_count",
          "span_count",
          "link_href_http",
          "section_count",
          "link_href_.css",
          "img_src_out_of_domain",
          "center_count",
          "form_action_http",
          "strong_count",
          "escape",
          "link_rel_shortlink",
          "link_type_application/rsd+xml",
          "window.addEventListener",
          "find",
          "get",
          "indexOf",
          "link_rel_https://api.w.org/",
          "replace",
          "document.getElementById"
         ]
        }
       ],
       "layout": {
        "autosize": false,
        "height": 1000,
        "width": 1000,
        "xaxis": {
         "tickfont": {
          "color": "black",
          "size": 12
         },
         "title": "Feature Importances"
        },
        "yaxis": {
         "automargin": true
        }
       }
      },
      "text/html": [
       "<div id=\"2d0ef88c-0867-4de9-ad4d-17b00a324485\" style=\"height: 1000px; width: 1000px;\" class=\"plotly-graph-div\"></div><script type=\"text/javascript\">require([\"plotly\"], function(Plotly) { window.PLOTLYENV=window.PLOTLYENV || {};window.PLOTLYENV.BASE_URL=\"https://plot.ly\";Plotly.newPlot(\"2d0ef88c-0867-4de9-ad4d-17b00a324485\", [{\"marker\": {\"color\": \"rgb(158,202,225)\", \"line\": {\"color\": \"rgb(8,48,107)\", \"width\": 1.5}}, \"opacity\": 0.6, \"orientation\": \"h\", \"text\": [0.1476, 0.1376, 0.0739, 0.0575, 0.05, 0.0495, 0.0489, 0.0412, 0.0338, 0.0308, 0.0304, 0.0277, 0.0253, 0.0246, 0.0226, 0.022, 0.0183, 0.0176, 0.0146, 0.0135, 0.0116, 0.0111, 0.011, 0.011, 0.0094, 0.009, 0.0089, 0.0083, 0.0074, 0.0069, 0.0049, 0.0048, 0.0047, 0.0038], \"textposition\": \"outside\", \"x\": [0.14755836036110945, 0.13759396958885747, 0.07393499719046838, 0.057464940366016626, 0.049967728385402956, 0.04952837303111645, 0.04886825696059481, 0.041186535578195974, 0.0338076371180288, 0.03084063455999074, 0.030354552167277928, 0.02774836525253619, 0.025317115281763374, 0.02459259192860742, 0.022617673648422893, 0.021958569928477396, 0.01833292380325904, 0.017554280309443546, 0.014631380373382293, 0.013505556371476804, 0.011593048139568568, 0.011073218561034982, 0.01102339909412135, 0.010970344084714128, 0.00941095158922226, 0.00897656456162145, 0.008887458177138341, 0.00829090508852891, 0.007354069595648769, 0.006875062318698755, 0.004861067167571502, 0.004823331580567158, 0.004730380604907551, 0.003765757232227705], \"y\": [\"div_count\", \"link_href_out_of_domain\", \"script_src_.js\", \"a_href_https\", \"script_async_true\", \"script_src_out_of_domain\", \"meta_count\", \"title_count\", \"push\", \"link_type_text/css\", \"img_src_.jpg\", \"br_count\", \"a_href_.com\", \"p_count\", \"a_href_http\", \"li_count\", \"span_count\", \"link_href_http\", \"section_count\", \"link_href_.css\", \"img_src_out_of_domain\", \"center_count\", \"form_action_http\", \"strong_count\", \"escape\", \"link_rel_shortlink\", \"link_type_application/rsd+xml\", \"window.addEventListener\", \"find\", \"get\", \"indexOf\", \"link_rel_https://api.w.org/\", \"replace\", \"document.getElementById\"], \"type\": \"bar\", \"uid\": \"68028d8e-b2ca-4cc8-9b9d-23126f18445c\"}], {\"autosize\": false, \"height\": 1000, \"width\": 1000, \"xaxis\": {\"tickfont\": {\"color\": \"black\", \"size\": 12}, \"title\": \"Feature Importances\"}, \"yaxis\": {\"automargin\": true}}, {\"showLink\": true, \"linkText\": \"Export to plot.ly\", \"plotlyServerURL\": \"https://plot.ly\"})});</script>"
      ],
      "text/vnd.plotly.v1+html": [
       "<div id=\"2d0ef88c-0867-4de9-ad4d-17b00a324485\" style=\"height: 1000px; width: 1000px;\" class=\"plotly-graph-div\"></div><script type=\"text/javascript\">require([\"plotly\"], function(Plotly) { window.PLOTLYENV=window.PLOTLYENV || {};window.PLOTLYENV.BASE_URL=\"https://plot.ly\";Plotly.newPlot(\"2d0ef88c-0867-4de9-ad4d-17b00a324485\", [{\"marker\": {\"color\": \"rgb(158,202,225)\", \"line\": {\"color\": \"rgb(8,48,107)\", \"width\": 1.5}}, \"opacity\": 0.6, \"orientation\": \"h\", \"text\": [0.1476, 0.1376, 0.0739, 0.0575, 0.05, 0.0495, 0.0489, 0.0412, 0.0338, 0.0308, 0.0304, 0.0277, 0.0253, 0.0246, 0.0226, 0.022, 0.0183, 0.0176, 0.0146, 0.0135, 0.0116, 0.0111, 0.011, 0.011, 0.0094, 0.009, 0.0089, 0.0083, 0.0074, 0.0069, 0.0049, 0.0048, 0.0047, 0.0038], \"textposition\": \"outside\", \"x\": [0.14755836036110945, 0.13759396958885747, 0.07393499719046838, 0.057464940366016626, 0.049967728385402956, 0.04952837303111645, 0.04886825696059481, 0.041186535578195974, 0.0338076371180288, 0.03084063455999074, 0.030354552167277928, 0.02774836525253619, 0.025317115281763374, 0.02459259192860742, 0.022617673648422893, 0.021958569928477396, 0.01833292380325904, 0.017554280309443546, 0.014631380373382293, 0.013505556371476804, 0.011593048139568568, 0.011073218561034982, 0.01102339909412135, 0.010970344084714128, 0.00941095158922226, 0.00897656456162145, 0.008887458177138341, 0.00829090508852891, 0.007354069595648769, 0.006875062318698755, 0.004861067167571502, 0.004823331580567158, 0.004730380604907551, 0.003765757232227705], \"y\": [\"div_count\", \"link_href_out_of_domain\", \"script_src_.js\", \"a_href_https\", \"script_async_true\", \"script_src_out_of_domain\", \"meta_count\", \"title_count\", \"push\", \"link_type_text/css\", \"img_src_.jpg\", \"br_count\", \"a_href_.com\", \"p_count\", \"a_href_http\", \"li_count\", \"span_count\", \"link_href_http\", \"section_count\", \"link_href_.css\", \"img_src_out_of_domain\", \"center_count\", \"form_action_http\", \"strong_count\", \"escape\", \"link_rel_shortlink\", \"link_type_application/rsd+xml\", \"window.addEventListener\", \"find\", \"get\", \"indexOf\", \"link_rel_https://api.w.org/\", \"replace\", \"document.getElementById\"], \"type\": \"bar\", \"uid\": \"68028d8e-b2ca-4cc8-9b9d-23126f18445c\"}], {\"autosize\": false, \"height\": 1000, \"width\": 1000, \"xaxis\": {\"tickfont\": {\"color\": \"black\", \"size\": 12}, \"title\": \"Feature Importances\"}, \"yaxis\": {\"automargin\": true}}, {\"showLink\": true, \"linkText\": \"Export to plot.ly\", \"plotlyServerURL\": \"https://plot.ly\"})});</script>"
      ]
     },
     "metadata": {},
     "output_type": "display_data"
    }
   ],
   "source": [
    "feat_impt_plot(np.average(feat_imp,axis=0),columns)"
   ]
  },
  {
   "cell_type": "markdown",
   "metadata": {},
   "source": [
    "### <a id='3' style=\"text-decoration : none; color : #000000;\"> 3. Undersampling</a>"
   ]
  },
  {
   "cell_type": "code",
   "execution_count": 28,
   "metadata": {
    "scrolled": false
   },
   "outputs": [
    {
     "name": "stdout",
     "output_type": "stream",
     "text": [
      "Shape after undersampling (9458, 34)\n",
      "\u001b[1mK-Nearest Neighbors\u001b[0m\n",
      "Accuracy of the model for training data is: 0.5568830619581306\n",
      "Confusion Matrix for training data is:\n"
     ]
    },
    {
     "data": {
      "text/plain": [
       "Predicted  False  True  __all__\n",
       "Actual                         \n",
       "False       4589   140     4729\n",
       "True        4051   678     4729\n",
       "__all__     8640   818     9458"
      ]
     },
     "metadata": {},
     "output_type": "display_data"
    },
    {
     "name": "stdout",
     "output_type": "stream",
     "text": [
      "Accuracy of the model for test data is: 0.8338246131171703\n",
      "Confusion Matrix for test data is:\n"
     ]
    },
    {
     "data": {
      "text/plain": [
       "Predicted  False  True  __all__\n",
       "Actual                         \n",
       "False       6636   304     6940\n",
       "True        1049   153     1202\n",
       "__all__     7685   457     8142"
      ]
     },
     "metadata": {},
     "output_type": "display_data"
    },
    {
     "name": "stdout",
     "output_type": "stream",
     "text": [
      "\n",
      "\n",
      "\u001b[1mLogistic Regression\u001b[0m\n",
      "Accuracy of the model for training data is: 0.8839078029181645\n",
      "Confusion Matrix for training data is:\n"
     ]
    },
    {
     "data": {
      "text/plain": [
       "Predicted  False  True  __all__\n",
       "Actual                         \n",
       "False       3831   898     4729\n",
       "True         200  4529     4729\n",
       "__all__     4031  5427     9458"
      ]
     },
     "metadata": {},
     "output_type": "display_data"
    },
    {
     "name": "stdout",
     "output_type": "stream",
     "text": [
      "Accuracy of the model for test data is: 0.8360353721444362\n",
      "Confusion Matrix for test data is:\n"
     ]
    },
    {
     "data": {
      "text/plain": [
       "Predicted  False  True  __all__\n",
       "Actual                         \n",
       "False       5662  1278     6940\n",
       "True          57  1145     1202\n",
       "__all__     5719  2423     8142"
      ]
     },
     "metadata": {},
     "output_type": "display_data"
    },
    {
     "name": "stdout",
     "output_type": "stream",
     "text": [
      "\n",
      "\n",
      "\u001b[1mRandomForest Classifier\u001b[0m\n",
      "Accuracy of the model for training data is: 0.947980545569888\n",
      "Confusion Matrix for training data is:\n"
     ]
    },
    {
     "data": {
      "text/plain": [
       "Predicted  False  True  __all__\n",
       "Actual                         \n",
       "False       4327   402     4729\n",
       "True          90  4639     4729\n",
       "__all__     4417  5041     9458"
      ]
     },
     "metadata": {},
     "output_type": "display_data"
    },
    {
     "name": "stdout",
     "output_type": "stream",
     "text": [
      "Accuracy of the model for test data is: 0.9007614836649472\n",
      "Confusion Matrix for test data is:\n"
     ]
    },
    {
     "data": {
      "text/plain": [
       "Predicted  False  True  __all__\n",
       "Actual                         \n",
       "False       6232   708     6940\n",
       "True         100  1102     1202\n",
       "__all__     6332  1810     8142"
      ]
     },
     "metadata": {},
     "output_type": "display_data"
    },
    {
     "data": {
      "application/vnd.plotly.v1+json": {
       "config": {
        "linkText": "Export to plot.ly",
        "plotlyServerURL": "https://plot.ly",
        "showLink": true
       },
       "data": [
        {
         "marker": {
          "color": "rgb(158,202,225)",
          "line": {
           "color": "rgb(8,48,107)",
           "width": 1.5
          }
         },
         "opacity": 0.6,
         "orientation": "h",
         "text": [
          0.1526,
          0.1355,
          0.0914,
          0.0871,
          0.0772,
          0.0725,
          0.0593,
          0.0514,
          0.0485,
          0.024,
          0.0237,
          0.0194,
          0.0192,
          0.0188,
          0.0173,
          0.0114,
          0.0091,
          0.0086,
          0.0077,
          0.0072,
          0.0072,
          0.007,
          0.0062,
          0.0059,
          0.0059,
          0.0054,
          0.0037,
          0.0034,
          0.0027,
          0.0027,
          0.0026,
          0.0021,
          0.002,
          0.0012
         ],
         "textposition": "outside",
         "type": "bar",
         "uid": "3c297d00-6a89-457c-9430-cbc8da44fb9d",
         "x": [
          0.15259299845034663,
          0.13553038339719328,
          0.09137752805997161,
          0.08714153316280618,
          0.07722671547331794,
          0.07254160249672656,
          0.05926138320900019,
          0.05135280758560677,
          0.04853687234768188,
          0.024049307763737267,
          0.023674392662792396,
          0.01940767909241016,
          0.01915120119285927,
          0.01877583204453862,
          0.0172902452283263,
          0.011438768472886596,
          0.00912928531961759,
          0.008605274698643181,
          0.007695545800544525,
          0.00719889435586833,
          0.007180823347573579,
          0.007022259880543796,
          0.006230280072669997,
          0.005937545027250121,
          0.00593090474098965,
          0.00538131855801508,
          0.003701718257822726,
          0.003380861888476263,
          0.0027162765092407968,
          0.002663954396812214,
          0.0026190933825626164,
          0.002056511989470049,
          0.0019507464309255773,
          0.00124945470277226
         ],
         "y": [
          "div_count",
          "script_src_.js",
          "meta_count",
          "a_href_https",
          "script_async_true",
          "script_src_out_of_domain",
          "link_href_out_of_domain",
          "title_count",
          "br_count",
          "a_href_http",
          "push",
          "section_count",
          "img_src_out_of_domain",
          "li_count",
          "p_count",
          "span_count",
          "link_type_text/css",
          "link_href_http",
          "document.getElementById",
          "strong_count",
          "link_href_.css",
          "form_action_http",
          "replace",
          "img_src_.jpg",
          "indexOf",
          "center_count",
          "a_href_.com",
          "link_rel_shortlink",
          "link_type_application/rsd+xml",
          "get",
          "escape",
          "window.addEventListener",
          "link_rel_https://api.w.org/",
          "find"
         ]
        }
       ],
       "layout": {
        "autosize": false,
        "height": 1000,
        "width": 1000,
        "xaxis": {
         "tickfont": {
          "color": "black",
          "size": 12
         },
         "title": "Feature Importances"
        },
        "yaxis": {
         "automargin": true
        }
       }
      },
      "text/html": [
       "<div id=\"f9369f05-a9aa-4953-a375-5f197cf43613\" style=\"height: 1000px; width: 1000px;\" class=\"plotly-graph-div\"></div><script type=\"text/javascript\">require([\"plotly\"], function(Plotly) { window.PLOTLYENV=window.PLOTLYENV || {};window.PLOTLYENV.BASE_URL=\"https://plot.ly\";Plotly.newPlot(\"f9369f05-a9aa-4953-a375-5f197cf43613\", [{\"marker\": {\"color\": \"rgb(158,202,225)\", \"line\": {\"color\": \"rgb(8,48,107)\", \"width\": 1.5}}, \"opacity\": 0.6, \"orientation\": \"h\", \"text\": [0.1526, 0.1355, 0.0914, 0.0871, 0.0772, 0.0725, 0.0593, 0.0514, 0.0485, 0.024, 0.0237, 0.0194, 0.0192, 0.0188, 0.0173, 0.0114, 0.0091, 0.0086, 0.0077, 0.0072, 0.0072, 0.007, 0.0062, 0.0059, 0.0059, 0.0054, 0.0037, 0.0034, 0.0027, 0.0027, 0.0026, 0.0021, 0.002, 0.0012], \"textposition\": \"outside\", \"x\": [0.15259299845034663, 0.13553038339719328, 0.09137752805997161, 0.08714153316280618, 0.07722671547331794, 0.07254160249672656, 0.05926138320900019, 0.05135280758560677, 0.04853687234768188, 0.024049307763737267, 0.023674392662792396, 0.01940767909241016, 0.01915120119285927, 0.01877583204453862, 0.0172902452283263, 0.011438768472886596, 0.00912928531961759, 0.008605274698643181, 0.007695545800544525, 0.00719889435586833, 0.007180823347573579, 0.007022259880543796, 0.006230280072669997, 0.005937545027250121, 0.00593090474098965, 0.00538131855801508, 0.003701718257822726, 0.003380861888476263, 0.0027162765092407968, 0.002663954396812214, 0.0026190933825626164, 0.002056511989470049, 0.0019507464309255773, 0.00124945470277226], \"y\": [\"div_count\", \"script_src_.js\", \"meta_count\", \"a_href_https\", \"script_async_true\", \"script_src_out_of_domain\", \"link_href_out_of_domain\", \"title_count\", \"br_count\", \"a_href_http\", \"push\", \"section_count\", \"img_src_out_of_domain\", \"li_count\", \"p_count\", \"span_count\", \"link_type_text/css\", \"link_href_http\", \"document.getElementById\", \"strong_count\", \"link_href_.css\", \"form_action_http\", \"replace\", \"img_src_.jpg\", \"indexOf\", \"center_count\", \"a_href_.com\", \"link_rel_shortlink\", \"link_type_application/rsd+xml\", \"get\", \"escape\", \"window.addEventListener\", \"link_rel_https://api.w.org/\", \"find\"], \"type\": \"bar\", \"uid\": \"3c297d00-6a89-457c-9430-cbc8da44fb9d\"}], {\"autosize\": false, \"height\": 1000, \"width\": 1000, \"xaxis\": {\"tickfont\": {\"color\": \"black\", \"size\": 12}, \"title\": \"Feature Importances\"}, \"yaxis\": {\"automargin\": true}}, {\"showLink\": true, \"linkText\": \"Export to plot.ly\", \"plotlyServerURL\": \"https://plot.ly\"})});</script>"
      ],
      "text/vnd.plotly.v1+html": [
       "<div id=\"f9369f05-a9aa-4953-a375-5f197cf43613\" style=\"height: 1000px; width: 1000px;\" class=\"plotly-graph-div\"></div><script type=\"text/javascript\">require([\"plotly\"], function(Plotly) { window.PLOTLYENV=window.PLOTLYENV || {};window.PLOTLYENV.BASE_URL=\"https://plot.ly\";Plotly.newPlot(\"f9369f05-a9aa-4953-a375-5f197cf43613\", [{\"marker\": {\"color\": \"rgb(158,202,225)\", \"line\": {\"color\": \"rgb(8,48,107)\", \"width\": 1.5}}, \"opacity\": 0.6, \"orientation\": \"h\", \"text\": [0.1526, 0.1355, 0.0914, 0.0871, 0.0772, 0.0725, 0.0593, 0.0514, 0.0485, 0.024, 0.0237, 0.0194, 0.0192, 0.0188, 0.0173, 0.0114, 0.0091, 0.0086, 0.0077, 0.0072, 0.0072, 0.007, 0.0062, 0.0059, 0.0059, 0.0054, 0.0037, 0.0034, 0.0027, 0.0027, 0.0026, 0.0021, 0.002, 0.0012], \"textposition\": \"outside\", \"x\": [0.15259299845034663, 0.13553038339719328, 0.09137752805997161, 0.08714153316280618, 0.07722671547331794, 0.07254160249672656, 0.05926138320900019, 0.05135280758560677, 0.04853687234768188, 0.024049307763737267, 0.023674392662792396, 0.01940767909241016, 0.01915120119285927, 0.01877583204453862, 0.0172902452283263, 0.011438768472886596, 0.00912928531961759, 0.008605274698643181, 0.007695545800544525, 0.00719889435586833, 0.007180823347573579, 0.007022259880543796, 0.006230280072669997, 0.005937545027250121, 0.00593090474098965, 0.00538131855801508, 0.003701718257822726, 0.003380861888476263, 0.0027162765092407968, 0.002663954396812214, 0.0026190933825626164, 0.002056511989470049, 0.0019507464309255773, 0.00124945470277226], \"y\": [\"div_count\", \"script_src_.js\", \"meta_count\", \"a_href_https\", \"script_async_true\", \"script_src_out_of_domain\", \"link_href_out_of_domain\", \"title_count\", \"br_count\", \"a_href_http\", \"push\", \"section_count\", \"img_src_out_of_domain\", \"li_count\", \"p_count\", \"span_count\", \"link_type_text/css\", \"link_href_http\", \"document.getElementById\", \"strong_count\", \"link_href_.css\", \"form_action_http\", \"replace\", \"img_src_.jpg\", \"indexOf\", \"center_count\", \"a_href_.com\", \"link_rel_shortlink\", \"link_type_application/rsd+xml\", \"get\", \"escape\", \"window.addEventListener\", \"link_rel_https://api.w.org/\", \"find\"], \"type\": \"bar\", \"uid\": \"3c297d00-6a89-457c-9430-cbc8da44fb9d\"}], {\"autosize\": false, \"height\": 1000, \"width\": 1000, \"xaxis\": {\"tickfont\": {\"color\": \"black\", \"size\": 12}, \"title\": \"Feature Importances\"}, \"yaxis\": {\"automargin\": true}}, {\"showLink\": true, \"linkText\": \"Export to plot.ly\", \"plotlyServerURL\": \"https://plot.ly\"})});</script>"
      ]
     },
     "metadata": {},
     "output_type": "display_data"
    },
    {
     "name": "stdout",
     "output_type": "stream",
     "text": [
      "\n",
      "\n",
      "\u001b[1mAdaoost Classifier\u001b[0m\n",
      "Accuracy of the model for training data is: 0.8942694015648128\n",
      "Confusion Matrix for training data is:\n"
     ]
    },
    {
     "data": {
      "text/plain": [
       "Predicted  False  True  __all__\n",
       "Actual                         \n",
       "False       3986   743     4729\n",
       "True         257  4472     4729\n",
       "__all__     4243  5215     9458"
      ]
     },
     "metadata": {},
     "output_type": "display_data"
    },
    {
     "name": "stdout",
     "output_type": "stream",
     "text": [
      "Accuracy of the model for test data is: 0.8599852616064849\n",
      "Confusion Matrix for test data is:\n"
     ]
    },
    {
     "data": {
      "text/plain": [
       "Predicted  False  True  __all__\n",
       "Actual                         \n",
       "False       5874  1066     6940\n",
       "True          74  1128     1202\n",
       "__all__     5948  2194     8142"
      ]
     },
     "metadata": {},
     "output_type": "display_data"
    },
    {
     "data": {
      "application/vnd.plotly.v1+json": {
       "config": {
        "linkText": "Export to plot.ly",
        "plotlyServerURL": "https://plot.ly",
        "showLink": true
       },
       "data": [
        {
         "marker": {
          "color": "rgb(158,202,225)",
          "line": {
           "color": "rgb(8,48,107)",
           "width": 1.5
          }
         },
         "opacity": 0.6,
         "orientation": "h",
         "text": [
          0.14,
          0.08,
          0.08,
          0.06,
          0.06,
          0.06,
          0.06,
          0.04,
          0.04,
          0.04,
          0.02,
          0.02,
          0.02,
          0.02,
          0.02,
          0.02,
          0.02,
          0.02,
          0.02,
          0.02,
          0.02,
          0.02,
          0.02,
          0.02,
          0.02,
          0.02,
          0.02,
          0,
          0,
          0,
          0,
          0,
          0,
          0
         ],
         "textposition": "outside",
         "type": "bar",
         "uid": "c06a56f0-afb4-4bd8-ba79-03fd4b3cf8e9",
         "x": [
          0.14,
          0.08,
          0.08,
          0.06,
          0.06,
          0.06,
          0.06,
          0.04,
          0.04,
          0.04,
          0.02,
          0.02,
          0.02,
          0.02,
          0.02,
          0.02,
          0.02,
          0.02,
          0.02,
          0.02,
          0.02,
          0.02,
          0.02,
          0.02,
          0.02,
          0.02,
          0.02,
          0,
          0,
          0,
          0,
          0,
          0,
          0
         ],
         "y": [
          "link_href_out_of_domain",
          "link_href_http",
          "a_href_https",
          "title_count",
          "span_count",
          "script_src_out_of_domain",
          "p_count",
          "a_href_http",
          "img_src_.jpg",
          "link_type_text/css",
          "window.addEventListener",
          "link_type_application/rsd+xml",
          "link_rel_shortlink",
          "meta_count",
          "section_count",
          "strong_count",
          "link_href_.css",
          "li_count",
          "form_action_http",
          "div_count",
          "center_count",
          "br_count",
          "a_href_.com",
          "push",
          "indexOf",
          "get",
          "find",
          "img_src_out_of_domain",
          "link_rel_https://api.w.org/",
          "escape",
          "replace",
          "script_async_true",
          "script_src_.js",
          "document.getElementById"
         ]
        }
       ],
       "layout": {
        "autosize": false,
        "height": 1000,
        "width": 1000,
        "xaxis": {
         "tickfont": {
          "color": "black",
          "size": 12
         },
         "title": "Feature Importances"
        },
        "yaxis": {
         "automargin": true
        }
       }
      },
      "text/html": [
       "<div id=\"333b2f34-796e-46c2-98db-f834a9ccd911\" style=\"height: 1000px; width: 1000px;\" class=\"plotly-graph-div\"></div><script type=\"text/javascript\">require([\"plotly\"], function(Plotly) { window.PLOTLYENV=window.PLOTLYENV || {};window.PLOTLYENV.BASE_URL=\"https://plot.ly\";Plotly.newPlot(\"333b2f34-796e-46c2-98db-f834a9ccd911\", [{\"marker\": {\"color\": \"rgb(158,202,225)\", \"line\": {\"color\": \"rgb(8,48,107)\", \"width\": 1.5}}, \"opacity\": 0.6, \"orientation\": \"h\", \"text\": [0.14, 0.08, 0.08, 0.06, 0.06, 0.06, 0.06, 0.04, 0.04, 0.04, 0.02, 0.02, 0.02, 0.02, 0.02, 0.02, 0.02, 0.02, 0.02, 0.02, 0.02, 0.02, 0.02, 0.02, 0.02, 0.02, 0.02, 0.0, 0.0, 0.0, 0.0, 0.0, 0.0, 0.0], \"textposition\": \"outside\", \"x\": [0.14, 0.08, 0.08, 0.06, 0.06, 0.06, 0.06, 0.04, 0.04, 0.04, 0.02, 0.02, 0.02, 0.02, 0.02, 0.02, 0.02, 0.02, 0.02, 0.02, 0.02, 0.02, 0.02, 0.02, 0.02, 0.02, 0.02, 0.0, 0.0, 0.0, 0.0, 0.0, 0.0, 0.0], \"y\": [\"link_href_out_of_domain\", \"link_href_http\", \"a_href_https\", \"title_count\", \"span_count\", \"script_src_out_of_domain\", \"p_count\", \"a_href_http\", \"img_src_.jpg\", \"link_type_text/css\", \"window.addEventListener\", \"link_type_application/rsd+xml\", \"link_rel_shortlink\", \"meta_count\", \"section_count\", \"strong_count\", \"link_href_.css\", \"li_count\", \"form_action_http\", \"div_count\", \"center_count\", \"br_count\", \"a_href_.com\", \"push\", \"indexOf\", \"get\", \"find\", \"img_src_out_of_domain\", \"link_rel_https://api.w.org/\", \"escape\", \"replace\", \"script_async_true\", \"script_src_.js\", \"document.getElementById\"], \"type\": \"bar\", \"uid\": \"c06a56f0-afb4-4bd8-ba79-03fd4b3cf8e9\"}], {\"autosize\": false, \"height\": 1000, \"width\": 1000, \"xaxis\": {\"tickfont\": {\"color\": \"black\", \"size\": 12}, \"title\": \"Feature Importances\"}, \"yaxis\": {\"automargin\": true}}, {\"showLink\": true, \"linkText\": \"Export to plot.ly\", \"plotlyServerURL\": \"https://plot.ly\"})});</script>"
      ],
      "text/vnd.plotly.v1+html": [
       "<div id=\"333b2f34-796e-46c2-98db-f834a9ccd911\" style=\"height: 1000px; width: 1000px;\" class=\"plotly-graph-div\"></div><script type=\"text/javascript\">require([\"plotly\"], function(Plotly) { window.PLOTLYENV=window.PLOTLYENV || {};window.PLOTLYENV.BASE_URL=\"https://plot.ly\";Plotly.newPlot(\"333b2f34-796e-46c2-98db-f834a9ccd911\", [{\"marker\": {\"color\": \"rgb(158,202,225)\", \"line\": {\"color\": \"rgb(8,48,107)\", \"width\": 1.5}}, \"opacity\": 0.6, \"orientation\": \"h\", \"text\": [0.14, 0.08, 0.08, 0.06, 0.06, 0.06, 0.06, 0.04, 0.04, 0.04, 0.02, 0.02, 0.02, 0.02, 0.02, 0.02, 0.02, 0.02, 0.02, 0.02, 0.02, 0.02, 0.02, 0.02, 0.02, 0.02, 0.02, 0.0, 0.0, 0.0, 0.0, 0.0, 0.0, 0.0], \"textposition\": \"outside\", \"x\": [0.14, 0.08, 0.08, 0.06, 0.06, 0.06, 0.06, 0.04, 0.04, 0.04, 0.02, 0.02, 0.02, 0.02, 0.02, 0.02, 0.02, 0.02, 0.02, 0.02, 0.02, 0.02, 0.02, 0.02, 0.02, 0.02, 0.02, 0.0, 0.0, 0.0, 0.0, 0.0, 0.0, 0.0], \"y\": [\"link_href_out_of_domain\", \"link_href_http\", \"a_href_https\", \"title_count\", \"span_count\", \"script_src_out_of_domain\", \"p_count\", \"a_href_http\", \"img_src_.jpg\", \"link_type_text/css\", \"window.addEventListener\", \"link_type_application/rsd+xml\", \"link_rel_shortlink\", \"meta_count\", \"section_count\", \"strong_count\", \"link_href_.css\", \"li_count\", \"form_action_http\", \"div_count\", \"center_count\", \"br_count\", \"a_href_.com\", \"push\", \"indexOf\", \"get\", \"find\", \"img_src_out_of_domain\", \"link_rel_https://api.w.org/\", \"escape\", \"replace\", \"script_async_true\", \"script_src_.js\", \"document.getElementById\"], \"type\": \"bar\", \"uid\": \"c06a56f0-afb4-4bd8-ba79-03fd4b3cf8e9\"}], {\"autosize\": false, \"height\": 1000, \"width\": 1000, \"xaxis\": {\"tickfont\": {\"color\": \"black\", \"size\": 12}, \"title\": \"Feature Importances\"}, \"yaxis\": {\"automargin\": true}}, {\"showLink\": true, \"linkText\": \"Export to plot.ly\", \"plotlyServerURL\": \"https://plot.ly\"})});</script>"
      ]
     },
     "metadata": {},
     "output_type": "display_data"
    },
    {
     "name": "stdout",
     "output_type": "stream",
     "text": [
      "\n",
      "\n",
      "\u001b[1mGradientBoosting Classifier\u001b[0m\n",
      "Accuracy of the model for training data is: 0.9109748361175725\n",
      "Confusion Matrix for training data is:\n"
     ]
    },
    {
     "data": {
      "text/plain": [
       "Predicted  False  True  __all__\n",
       "Actual                         \n",
       "False       4108   621     4729\n",
       "True         221  4508     4729\n",
       "__all__     4329  5129     9458"
      ]
     },
     "metadata": {},
     "output_type": "display_data"
    },
    {
     "name": "stdout",
     "output_type": "stream",
     "text": [
      "Accuracy of the model for test data is: 0.8801277327437976\n",
      "Confusion Matrix for test data is:\n"
     ]
    },
    {
     "data": {
      "text/plain": [
       "Predicted  False  True  __all__\n",
       "Actual                         \n",
       "False       6035   905     6940\n",
       "True          71  1131     1202\n",
       "__all__     6106  2036     8142"
      ]
     },
     "metadata": {},
     "output_type": "display_data"
    },
    {
     "data": {
      "application/vnd.plotly.v1+json": {
       "config": {
        "linkText": "Export to plot.ly",
        "plotlyServerURL": "https://plot.ly",
        "showLink": true
       },
       "data": [
        {
         "marker": {
          "color": "rgb(158,202,225)",
          "line": {
           "color": "rgb(8,48,107)",
           "width": 1.5
          }
         },
         "opacity": 0.6,
         "orientation": "h",
         "text": [
          0.5035,
          0.124,
          0.1162,
          0.0653,
          0.0375,
          0.0375,
          0.0226,
          0.0125,
          0.0112,
          0.0066,
          0.0066,
          0.0057,
          0.0056,
          0.0048,
          0.0043,
          0.004,
          0.0036,
          0.0034,
          0.003,
          0.003,
          0.0029,
          0.002,
          0.0018,
          0.0018,
          0.0018,
          0.0016,
          0.0014,
          0.0013,
          0.0012,
          0.001,
          0.001,
          0.0007,
          0.0006,
          0.0001
         ],
         "textposition": "outside",
         "type": "bar",
         "uid": "9573c18f-7062-42d4-bb05-e08b3316b19f",
         "x": [
          0.5034590315145371,
          0.1239593133066748,
          0.11619185144363872,
          0.06530842118552198,
          0.03749643134185309,
          0.03746930415735753,
          0.022630354622977925,
          0.012451635661368619,
          0.011168035839582372,
          0.0066363568734300145,
          0.006634004893577559,
          0.00569705866918204,
          0.0055639902251331235,
          0.004758662298178026,
          0.004345091294734067,
          0.004008411184936621,
          0.0036072465296537043,
          0.003406927019694605,
          0.0030366817814642677,
          0.0030233022765744732,
          0.002913490299355445,
          0.0019664102050630434,
          0.0018042243978964455,
          0.0017890045317591372,
          0.0017877785765846139,
          0.0016240016616894586,
          0.0014170383358619787,
          0.00131715485273712,
          0.001191198844504171,
          0.0010343690695233088,
          0.0009567538567479397,
          0.0007007054458195145,
          0.0005584901117532381,
          8.726769063387316e-05
         ],
         "y": [
          "link_href_out_of_domain",
          "div_count",
          "meta_count",
          "script_async_true",
          "push",
          "a_href_https",
          "title_count",
          "img_src_out_of_domain",
          "a_href_http",
          "link_href_http",
          "script_src_.js",
          "li_count",
          "link_type_text/css",
          "strong_count",
          "link_type_application/rsd+xml",
          "indexOf",
          "center_count",
          "link_rel_shortlink",
          "document.getElementById",
          "p_count",
          "form_action_http",
          "br_count",
          "img_src_.jpg",
          "script_src_out_of_domain",
          "a_href_.com",
          "link_href_.css",
          "section_count",
          "span_count",
          "get",
          "find",
          "escape",
          "replace",
          "link_rel_https://api.w.org/",
          "window.addEventListener"
         ]
        }
       ],
       "layout": {
        "autosize": false,
        "height": 1000,
        "width": 1000,
        "xaxis": {
         "tickfont": {
          "color": "black",
          "size": 12
         },
         "title": "Feature Importances"
        },
        "yaxis": {
         "automargin": true
        }
       }
      },
      "text/html": [
       "<div id=\"330a3b2c-6d26-43b6-83ab-942c52d24963\" style=\"height: 1000px; width: 1000px;\" class=\"plotly-graph-div\"></div><script type=\"text/javascript\">require([\"plotly\"], function(Plotly) { window.PLOTLYENV=window.PLOTLYENV || {};window.PLOTLYENV.BASE_URL=\"https://plot.ly\";Plotly.newPlot(\"330a3b2c-6d26-43b6-83ab-942c52d24963\", [{\"marker\": {\"color\": \"rgb(158,202,225)\", \"line\": {\"color\": \"rgb(8,48,107)\", \"width\": 1.5}}, \"opacity\": 0.6, \"orientation\": \"h\", \"text\": [0.5035, 0.124, 0.1162, 0.0653, 0.0375, 0.0375, 0.0226, 0.0125, 0.0112, 0.0066, 0.0066, 0.0057, 0.0056, 0.0048, 0.0043, 0.004, 0.0036, 0.0034, 0.003, 0.003, 0.0029, 0.002, 0.0018, 0.0018, 0.0018, 0.0016, 0.0014, 0.0013, 0.0012, 0.001, 0.001, 0.0007, 0.0006, 0.0001], \"textposition\": \"outside\", \"x\": [0.5034590315145371, 0.1239593133066748, 0.11619185144363872, 0.06530842118552198, 0.03749643134185309, 0.03746930415735753, 0.022630354622977925, 0.012451635661368619, 0.011168035839582372, 0.0066363568734300145, 0.006634004893577559, 0.00569705866918204, 0.0055639902251331235, 0.004758662298178026, 0.004345091294734067, 0.004008411184936621, 0.0036072465296537043, 0.003406927019694605, 0.0030366817814642677, 0.0030233022765744732, 0.002913490299355445, 0.0019664102050630434, 0.0018042243978964455, 0.0017890045317591372, 0.0017877785765846139, 0.0016240016616894586, 0.0014170383358619787, 0.00131715485273712, 0.001191198844504171, 0.0010343690695233088, 0.0009567538567479397, 0.0007007054458195145, 0.0005584901117532381, 8.726769063387316e-05], \"y\": [\"link_href_out_of_domain\", \"div_count\", \"meta_count\", \"script_async_true\", \"push\", \"a_href_https\", \"title_count\", \"img_src_out_of_domain\", \"a_href_http\", \"link_href_http\", \"script_src_.js\", \"li_count\", \"link_type_text/css\", \"strong_count\", \"link_type_application/rsd+xml\", \"indexOf\", \"center_count\", \"link_rel_shortlink\", \"document.getElementById\", \"p_count\", \"form_action_http\", \"br_count\", \"img_src_.jpg\", \"script_src_out_of_domain\", \"a_href_.com\", \"link_href_.css\", \"section_count\", \"span_count\", \"get\", \"find\", \"escape\", \"replace\", \"link_rel_https://api.w.org/\", \"window.addEventListener\"], \"type\": \"bar\", \"uid\": \"9573c18f-7062-42d4-bb05-e08b3316b19f\"}], {\"autosize\": false, \"height\": 1000, \"width\": 1000, \"xaxis\": {\"tickfont\": {\"color\": \"black\", \"size\": 12}, \"title\": \"Feature Importances\"}, \"yaxis\": {\"automargin\": true}}, {\"showLink\": true, \"linkText\": \"Export to plot.ly\", \"plotlyServerURL\": \"https://plot.ly\"})});</script>"
      ],
      "text/vnd.plotly.v1+html": [
       "<div id=\"330a3b2c-6d26-43b6-83ab-942c52d24963\" style=\"height: 1000px; width: 1000px;\" class=\"plotly-graph-div\"></div><script type=\"text/javascript\">require([\"plotly\"], function(Plotly) { window.PLOTLYENV=window.PLOTLYENV || {};window.PLOTLYENV.BASE_URL=\"https://plot.ly\";Plotly.newPlot(\"330a3b2c-6d26-43b6-83ab-942c52d24963\", [{\"marker\": {\"color\": \"rgb(158,202,225)\", \"line\": {\"color\": \"rgb(8,48,107)\", \"width\": 1.5}}, \"opacity\": 0.6, \"orientation\": \"h\", \"text\": [0.5035, 0.124, 0.1162, 0.0653, 0.0375, 0.0375, 0.0226, 0.0125, 0.0112, 0.0066, 0.0066, 0.0057, 0.0056, 0.0048, 0.0043, 0.004, 0.0036, 0.0034, 0.003, 0.003, 0.0029, 0.002, 0.0018, 0.0018, 0.0018, 0.0016, 0.0014, 0.0013, 0.0012, 0.001, 0.001, 0.0007, 0.0006, 0.0001], \"textposition\": \"outside\", \"x\": [0.5034590315145371, 0.1239593133066748, 0.11619185144363872, 0.06530842118552198, 0.03749643134185309, 0.03746930415735753, 0.022630354622977925, 0.012451635661368619, 0.011168035839582372, 0.0066363568734300145, 0.006634004893577559, 0.00569705866918204, 0.0055639902251331235, 0.004758662298178026, 0.004345091294734067, 0.004008411184936621, 0.0036072465296537043, 0.003406927019694605, 0.0030366817814642677, 0.0030233022765744732, 0.002913490299355445, 0.0019664102050630434, 0.0018042243978964455, 0.0017890045317591372, 0.0017877785765846139, 0.0016240016616894586, 0.0014170383358619787, 0.00131715485273712, 0.001191198844504171, 0.0010343690695233088, 0.0009567538567479397, 0.0007007054458195145, 0.0005584901117532381, 8.726769063387316e-05], \"y\": [\"link_href_out_of_domain\", \"div_count\", \"meta_count\", \"script_async_true\", \"push\", \"a_href_https\", \"title_count\", \"img_src_out_of_domain\", \"a_href_http\", \"link_href_http\", \"script_src_.js\", \"li_count\", \"link_type_text/css\", \"strong_count\", \"link_type_application/rsd+xml\", \"indexOf\", \"center_count\", \"link_rel_shortlink\", \"document.getElementById\", \"p_count\", \"form_action_http\", \"br_count\", \"img_src_.jpg\", \"script_src_out_of_domain\", \"a_href_.com\", \"link_href_.css\", \"section_count\", \"span_count\", \"get\", \"find\", \"escape\", \"replace\", \"link_rel_https://api.w.org/\", \"window.addEventListener\"], \"type\": \"bar\", \"uid\": \"9573c18f-7062-42d4-bb05-e08b3316b19f\"}], {\"autosize\": false, \"height\": 1000, \"width\": 1000, \"xaxis\": {\"tickfont\": {\"color\": \"black\", \"size\": 12}, \"title\": \"Feature Importances\"}, \"yaxis\": {\"automargin\": true}}, {\"showLink\": true, \"linkText\": \"Export to plot.ly\", \"plotlyServerURL\": \"https://plot.ly\"})});</script>"
      ]
     },
     "metadata": {},
     "output_type": "display_data"
    },
    {
     "name": "stdout",
     "output_type": "stream",
     "text": [
      "\n",
      "\n",
      "\u001b[1mExtraTree Classifier\u001b[0m\n",
      "Accuracy of the model for training data is: 0.9519983083104251\n",
      "Confusion Matrix for training data is:\n"
     ]
    },
    {
     "data": {
      "text/plain": [
       "Predicted  False  True  __all__\n",
       "Actual                         \n",
       "False       4334   395     4729\n",
       "True          59  4670     4729\n",
       "__all__     4393  5065     9458"
      ]
     },
     "metadata": {},
     "output_type": "display_data"
    },
    {
     "name": "stdout",
     "output_type": "stream",
     "text": [
      "Accuracy of the model for test data is: 0.9027266028002948\n",
      "Confusion Matrix for test data is:\n"
     ]
    },
    {
     "data": {
      "text/plain": [
       "Predicted  False  True  __all__\n",
       "Actual                         \n",
       "False       6247   693     6940\n",
       "True          99  1103     1202\n",
       "__all__     6346  1796     8142"
      ]
     },
     "metadata": {},
     "output_type": "display_data"
    },
    {
     "data": {
      "application/vnd.plotly.v1+json": {
       "config": {
        "linkText": "Export to plot.ly",
        "plotlyServerURL": "https://plot.ly",
        "showLink": true
       },
       "data": [
        {
         "marker": {
          "color": "rgb(158,202,225)",
          "line": {
           "color": "rgb(8,48,107)",
           "width": 1.5
          }
         },
         "opacity": 0.6,
         "orientation": "h",
         "text": [
          0.1318,
          0.0945,
          0.0768,
          0.0741,
          0.0526,
          0.0516,
          0.0492,
          0.0472,
          0.0436,
          0.031,
          0.028,
          0.0266,
          0.0257,
          0.0229,
          0.0197,
          0.0191,
          0.0181,
          0.018,
          0.0179,
          0.0175,
          0.015,
          0.0149,
          0.014,
          0.0139,
          0.0135,
          0.0112,
          0.009,
          0.0085,
          0.0072,
          0.0069,
          0.0057,
          0.0053,
          0.0051,
          0.0038
         ],
         "textposition": "outside",
         "type": "bar",
         "uid": "96cb3c5e-8521-4238-98f8-8561971a41cb",
         "x": [
          0.1318444749630449,
          0.0944997037836613,
          0.07684104345112398,
          0.07414088824636968,
          0.05260776479836181,
          0.05164015941040732,
          0.04918201127183497,
          0.04723619134456676,
          0.043578193298977205,
          0.031011148004518475,
          0.027962222139476182,
          0.02657515965999769,
          0.025667333101684165,
          0.02288127632061942,
          0.01972770264493487,
          0.01914521515499978,
          0.01805860421562611,
          0.018038440556990488,
          0.017889134520859933,
          0.017511294979892275,
          0.014986552961883295,
          0.014918850942244785,
          0.013977514931860835,
          0.013865650678746264,
          0.013540818842839225,
          0.011191990610647823,
          0.008959500828236242,
          0.008541094797000034,
          0.007209510030156399,
          0.006949844247232956,
          0.005683163346221614,
          0.0053263567624199,
          0.0050510165280053644,
          0.0037601726245580142
         ],
         "y": [
          "script_src_.js",
          "script_async_true",
          "script_src_out_of_domain",
          "a_href_https",
          "link_type_text/css",
          "br_count",
          "img_src_.jpg",
          "a_href_http",
          "img_src_out_of_domain",
          "link_href_.css",
          "p_count",
          "link_href_out_of_domain",
          "meta_count",
          "div_count",
          "li_count",
          "form_action_http",
          "document.getElementById",
          "window.addEventListener",
          "title_count",
          "link_rel_https://api.w.org/",
          "replace",
          "span_count",
          "section_count",
          "push",
          "link_href_http",
          "link_rel_shortlink",
          "a_href_.com",
          "strong_count",
          "indexOf",
          "link_type_application/rsd+xml",
          "find",
          "center_count",
          "escape",
          "get"
         ]
        }
       ],
       "layout": {
        "autosize": false,
        "height": 1000,
        "width": 1000,
        "xaxis": {
         "tickfont": {
          "color": "black",
          "size": 12
         },
         "title": "Feature Importances"
        },
        "yaxis": {
         "automargin": true
        }
       }
      },
      "text/html": [
       "<div id=\"e35f1569-d4d7-4878-b5fa-c34197d12f3b\" style=\"height: 1000px; width: 1000px;\" class=\"plotly-graph-div\"></div><script type=\"text/javascript\">require([\"plotly\"], function(Plotly) { window.PLOTLYENV=window.PLOTLYENV || {};window.PLOTLYENV.BASE_URL=\"https://plot.ly\";Plotly.newPlot(\"e35f1569-d4d7-4878-b5fa-c34197d12f3b\", [{\"marker\": {\"color\": \"rgb(158,202,225)\", \"line\": {\"color\": \"rgb(8,48,107)\", \"width\": 1.5}}, \"opacity\": 0.6, \"orientation\": \"h\", \"text\": [0.1318, 0.0945, 0.0768, 0.0741, 0.0526, 0.0516, 0.0492, 0.0472, 0.0436, 0.031, 0.028, 0.0266, 0.0257, 0.0229, 0.0197, 0.0191, 0.0181, 0.018, 0.0179, 0.0175, 0.015, 0.0149, 0.014, 0.0139, 0.0135, 0.0112, 0.009, 0.0085, 0.0072, 0.0069, 0.0057, 0.0053, 0.0051, 0.0038], \"textposition\": \"outside\", \"x\": [0.1318444749630449, 0.0944997037836613, 0.07684104345112398, 0.07414088824636968, 0.05260776479836181, 0.05164015941040732, 0.04918201127183497, 0.04723619134456676, 0.043578193298977205, 0.031011148004518475, 0.027962222139476182, 0.02657515965999769, 0.025667333101684165, 0.02288127632061942, 0.01972770264493487, 0.01914521515499978, 0.01805860421562611, 0.018038440556990488, 0.017889134520859933, 0.017511294979892275, 0.014986552961883295, 0.014918850942244785, 0.013977514931860835, 0.013865650678746264, 0.013540818842839225, 0.011191990610647823, 0.008959500828236242, 0.008541094797000034, 0.007209510030156399, 0.006949844247232956, 0.005683163346221614, 0.0053263567624199, 0.0050510165280053644, 0.0037601726245580142], \"y\": [\"script_src_.js\", \"script_async_true\", \"script_src_out_of_domain\", \"a_href_https\", \"link_type_text/css\", \"br_count\", \"img_src_.jpg\", \"a_href_http\", \"img_src_out_of_domain\", \"link_href_.css\", \"p_count\", \"link_href_out_of_domain\", \"meta_count\", \"div_count\", \"li_count\", \"form_action_http\", \"document.getElementById\", \"window.addEventListener\", \"title_count\", \"link_rel_https://api.w.org/\", \"replace\", \"span_count\", \"section_count\", \"push\", \"link_href_http\", \"link_rel_shortlink\", \"a_href_.com\", \"strong_count\", \"indexOf\", \"link_type_application/rsd+xml\", \"find\", \"center_count\", \"escape\", \"get\"], \"type\": \"bar\", \"uid\": \"96cb3c5e-8521-4238-98f8-8561971a41cb\"}], {\"autosize\": false, \"height\": 1000, \"width\": 1000, \"xaxis\": {\"tickfont\": {\"color\": \"black\", \"size\": 12}, \"title\": \"Feature Importances\"}, \"yaxis\": {\"automargin\": true}}, {\"showLink\": true, \"linkText\": \"Export to plot.ly\", \"plotlyServerURL\": \"https://plot.ly\"})});</script>"
      ],
      "text/vnd.plotly.v1+html": [
       "<div id=\"e35f1569-d4d7-4878-b5fa-c34197d12f3b\" style=\"height: 1000px; width: 1000px;\" class=\"plotly-graph-div\"></div><script type=\"text/javascript\">require([\"plotly\"], function(Plotly) { window.PLOTLYENV=window.PLOTLYENV || {};window.PLOTLYENV.BASE_URL=\"https://plot.ly\";Plotly.newPlot(\"e35f1569-d4d7-4878-b5fa-c34197d12f3b\", [{\"marker\": {\"color\": \"rgb(158,202,225)\", \"line\": {\"color\": \"rgb(8,48,107)\", \"width\": 1.5}}, \"opacity\": 0.6, \"orientation\": \"h\", \"text\": [0.1318, 0.0945, 0.0768, 0.0741, 0.0526, 0.0516, 0.0492, 0.0472, 0.0436, 0.031, 0.028, 0.0266, 0.0257, 0.0229, 0.0197, 0.0191, 0.0181, 0.018, 0.0179, 0.0175, 0.015, 0.0149, 0.014, 0.0139, 0.0135, 0.0112, 0.009, 0.0085, 0.0072, 0.0069, 0.0057, 0.0053, 0.0051, 0.0038], \"textposition\": \"outside\", \"x\": [0.1318444749630449, 0.0944997037836613, 0.07684104345112398, 0.07414088824636968, 0.05260776479836181, 0.05164015941040732, 0.04918201127183497, 0.04723619134456676, 0.043578193298977205, 0.031011148004518475, 0.027962222139476182, 0.02657515965999769, 0.025667333101684165, 0.02288127632061942, 0.01972770264493487, 0.01914521515499978, 0.01805860421562611, 0.018038440556990488, 0.017889134520859933, 0.017511294979892275, 0.014986552961883295, 0.014918850942244785, 0.013977514931860835, 0.013865650678746264, 0.013540818842839225, 0.011191990610647823, 0.008959500828236242, 0.008541094797000034, 0.007209510030156399, 0.006949844247232956, 0.005683163346221614, 0.0053263567624199, 0.0050510165280053644, 0.0037601726245580142], \"y\": [\"script_src_.js\", \"script_async_true\", \"script_src_out_of_domain\", \"a_href_https\", \"link_type_text/css\", \"br_count\", \"img_src_.jpg\", \"a_href_http\", \"img_src_out_of_domain\", \"link_href_.css\", \"p_count\", \"link_href_out_of_domain\", \"meta_count\", \"div_count\", \"li_count\", \"form_action_http\", \"document.getElementById\", \"window.addEventListener\", \"title_count\", \"link_rel_https://api.w.org/\", \"replace\", \"span_count\", \"section_count\", \"push\", \"link_href_http\", \"link_rel_shortlink\", \"a_href_.com\", \"strong_count\", \"indexOf\", \"link_type_application/rsd+xml\", \"find\", \"center_count\", \"escape\", \"get\"], \"type\": \"bar\", \"uid\": \"96cb3c5e-8521-4238-98f8-8561971a41cb\"}], {\"autosize\": false, \"height\": 1000, \"width\": 1000, \"xaxis\": {\"tickfont\": {\"color\": \"black\", \"size\": 12}, \"title\": \"Feature Importances\"}, \"yaxis\": {\"automargin\": true}}, {\"showLink\": true, \"linkText\": \"Export to plot.ly\", \"plotlyServerURL\": \"https://plot.ly\"})});</script>"
      ]
     },
     "metadata": {},
     "output_type": "display_data"
    },
    {
     "name": "stdout",
     "output_type": "stream",
     "text": [
      "\n",
      "\n",
      "\u001b[1mBagging Classifier\u001b[0m\n",
      "Accuracy of the model for training data is: 0.9481920067667583\n",
      "Confusion Matrix for training data is:\n"
     ]
    },
    {
     "data": {
      "text/plain": [
       "Predicted  False  True  __all__\n",
       "Actual                         \n",
       "False       4322   407     4729\n",
       "True          83  4646     4729\n",
       "__all__     4405  5053     9458"
      ]
     },
     "metadata": {},
     "output_type": "display_data"
    },
    {
     "name": "stdout",
     "output_type": "stream",
     "text": [
      "Accuracy of the model for test data is: 0.8953574060427414\n",
      "Confusion Matrix for test data is:\n"
     ]
    },
    {
     "data": {
      "text/plain": [
       "Predicted  False  True  __all__\n",
       "Actual                         \n",
       "False       6172   768     6940\n",
       "True          84  1118     1202\n",
       "__all__     6256  1886     8142"
      ]
     },
     "metadata": {},
     "output_type": "display_data"
    },
    {
     "name": "stdout",
     "output_type": "stream",
     "text": [
      "\n",
      "\n",
      "\u001b[1mNeural Network-1\u001b[0m\n",
      "The accuracy of the model on training data is: 0.921442165362656\n"
     ]
    },
    {
     "data": {
      "text/plain": [
       "Predicted  False  True  __all__\n",
       "Actual                         \n",
       "False       4016   713     4729\n",
       "True          30  4699     4729\n",
       "__all__     4046  5412     9458"
      ]
     },
     "metadata": {},
     "output_type": "display_data"
    },
    {
     "name": "stdout",
     "output_type": "stream",
     "text": [
      "The accuracy of the model on test data is: 0.8484401866863178\n"
     ]
    },
    {
     "data": {
      "text/plain": [
       "Predicted  False  True  __all__\n",
       "Actual                         \n",
       "False       5749  1191     6940\n",
       "True          43  1159     1202\n",
       "__all__     5792  2350     8142"
      ]
     },
     "metadata": {},
     "output_type": "display_data"
    },
    {
     "name": "stdout",
     "output_type": "stream",
     "text": [
      "\n",
      "\n"
     ]
    }
   ],
   "source": [
    "df_non=train[train.Target==0]\n",
    "df_mal=train[train.Target==1]\n",
    "\n",
    "df_non=df_non.sample(frac=len(df_mal)/len(df_non),random_state=0)\n",
    "df_u=df_non.append(df_mal)\n",
    "df_u.Target.value_counts() \n",
    "\n",
    "X_train=df_u[columns]\n",
    "X_train=scaler.transform(X_train)\n",
    "Y_train=df_u.Target.values\n",
    "\n",
    "print(\"Shape after undersampling\",X_train.shape)\n",
    "\n",
    "## Table to store training and test measures so we can compare later\n",
    "table_80_90_train=pd.DataFrame(columns=['accuracy','TP','TN','FP','FN','FPR','FNR'])\n",
    "table_80_90_test=pd.DataFrame(columns=['accuracy','TP','TN','FP','FN','FPR','FNR','auc','mcc'])\n",
    "\n",
    "feat_imp=[None]*4\n",
    "j=0\n",
    "for i in range(0,8):\n",
    "    if i>=2 and i<=5:\n",
    "        model,cm_train,cm_test,acc_train,acc_test,roc_auc,feat_imp[j],mcc=f[i](X_train,Y_train,scaled_X_test,test_Y,columns)\n",
    "        j=j+1\n",
    "    else:\n",
    "        model,cm_train,cm_test,acc_train,acc_test,roc_auc,mcc=f[i](X_train,Y_train,scaled_X_test,test_Y)\n",
    "    table_80_90_train.loc[i]=   ([acc_train,cm_train.TP,cm_train.TN,cm_train.FP,cm_train.FN,cm_train.FPR,cm_train.FNR])\n",
    "    table_80_90_test.loc[i] =   ([acc_test ,cm_test.TP, cm_test.TN, cm_test.FP, cm_test.FN, cm_test.FPR, cm_test.FNR,roc_auc,mcc])\n",
    "    print(\"\\n\")"
   ]
  },
  {
   "cell_type": "markdown",
   "metadata": {},
   "source": [
    "### <a id='3.A' style=\"text-decoration : none; color : #000000;\"> A. Results</a>"
   ]
  },
  {
   "cell_type": "code",
   "execution_count": 29,
   "metadata": {},
   "outputs": [
    {
     "data": {
      "application/vnd.plotly.v1+json": {
       "config": {
        "linkText": "Export to plot.ly",
        "plotlyServerURL": "https://plot.ly",
        "showLink": true
       },
       "data": [
        {
         "mode": "lines",
         "name": "KNN_model",
         "type": "scatter",
         "uid": "8a00452f-791b-4947-b151-5ca9712a19b5",
         "x": [
          "accuracy",
          "FPR",
          "FNR",
          "auc"
         ],
         "y": [
          0.8338246131171703,
          0.04380403458213256,
          0.872712146422629,
          0.5417419094976191
         ]
        },
        {
         "mode": "lines+markers",
         "name": "Logistic Regression",
         "type": "scatter",
         "uid": "b268b68f-0382-48fe-9371-f02bbef711bc",
         "x": [
          "accuracy",
          "FPR",
          "FNR",
          "auc"
         ],
         "y": [
          0.8360353721444362,
          0.184149855907781,
          0.04742096505823627,
          0.8842145895169915
         ]
        },
        {
         "marker": {
          "symbol": "x"
         },
         "mode": "lines+markers",
         "name": "Random Forest",
         "type": "scatter",
         "uid": "d581e6a3-29cd-4f42-b4ae-05ba3a742d65",
         "x": [
          "accuracy",
          "FPR",
          "FNR",
          "auc"
         ],
         "y": [
          0.9007614836649472,
          0.10201729106628242,
          0.08319467554076539,
          0.9073940166964761
         ]
        },
        {
         "mode": "lines",
         "name": "Ada Boost",
         "type": "scatter",
         "uid": "9a363de0-a589-4955-9000-5ce86e0c624a",
         "x": [
          "accuracy",
          "FPR",
          "FNR",
          "auc"
         ],
         "y": [
          0.8599852616064849,
          0.15360230547550432,
          0.06156405990016639,
          0.8924168173121647
         ]
        },
        {
         "mode": "lines+markers",
         "name": "GradientBoosting",
         "type": "scatter",
         "uid": "afe74e15-b974-4f82-a47b-bfa961ee2a25",
         "x": [
          "accuracy",
          "FPR",
          "FNR",
          "auc"
         ],
         "y": [
          0.8801277327437976,
          0.1304034582132565,
          0.05906821963394343,
          0.9052641610764001
         ]
        },
        {
         "marker": {
          "symbol": "x"
         },
         "mode": "lines+markers",
         "name": "ExtraTree Classifier",
         "type": "scatter",
         "uid": "3f2f45fe-0db2-4edc-9240-a35f30ff51f3",
         "x": [
          "accuracy",
          "FPR",
          "FNR",
          "auc"
         ],
         "y": [
          0.9027266028002948,
          0.09985590778097983,
          0.08236272878535773,
          0.9088906817168312
         ]
        },
        {
         "marker": {
          "symbol": "x"
         },
         "mode": "lines+markers",
         "name": "Bagging",
         "type": "scatter",
         "uid": "75ba13bc-08eb-4829-8d05-37e9c0972df2",
         "x": [
          "accuracy",
          "FPR",
          "FNR",
          "auc"
         ],
         "y": [
          0.8953574060427414,
          0.1106628242074928,
          0.06988352745424292,
          0.9097268241691322
         ]
        },
        {
         "marker": {
          "symbol": "x"
         },
         "mode": "lines+markers",
         "name": "Neural Network",
         "type": "scatter",
         "uid": "2ee80251-d273-4081-8dc0-0269fc54a5b7",
         "x": [
          "accuracy",
          "FPR",
          "FNR",
          "auc"
         ],
         "y": [
          0.8484401866863178,
          0.17161383285302595,
          0.03577371048252912,
          0.8963062283322226
         ]
        }
       ],
       "layout": {
        "title": "Result comparision for Features selected in Section 1",
        "yaxis": {
         "dtick": 0.05,
         "tick0": 0
        }
       }
      },
      "text/html": [
       "<div id=\"183de364-304c-417d-87b9-4d3c3aade7b0\" style=\"height: 525px; width: 100%;\" class=\"plotly-graph-div\"></div><script type=\"text/javascript\">require([\"plotly\"], function(Plotly) { window.PLOTLYENV=window.PLOTLYENV || {};window.PLOTLYENV.BASE_URL=\"https://plot.ly\";Plotly.newPlot(\"183de364-304c-417d-87b9-4d3c3aade7b0\", [{\"mode\": \"lines\", \"name\": \"KNN_model\", \"x\": [\"accuracy\", \"FPR\", \"FNR\", \"auc\"], \"y\": [0.8338246131171703, 0.04380403458213256, 0.872712146422629, 0.5417419094976191], \"type\": \"scatter\", \"uid\": \"8a00452f-791b-4947-b151-5ca9712a19b5\"}, {\"mode\": \"lines+markers\", \"name\": \"Logistic Regression\", \"x\": [\"accuracy\", \"FPR\", \"FNR\", \"auc\"], \"y\": [0.8360353721444362, 0.184149855907781, 0.04742096505823627, 0.8842145895169915], \"type\": \"scatter\", \"uid\": \"b268b68f-0382-48fe-9371-f02bbef711bc\"}, {\"marker\": {\"symbol\": \"x\"}, \"mode\": \"lines+markers\", \"name\": \"Random Forest\", \"x\": [\"accuracy\", \"FPR\", \"FNR\", \"auc\"], \"y\": [0.9007614836649472, 0.10201729106628242, 0.08319467554076539, 0.9073940166964761], \"type\": \"scatter\", \"uid\": \"d581e6a3-29cd-4f42-b4ae-05ba3a742d65\"}, {\"mode\": \"lines\", \"name\": \"Ada Boost\", \"x\": [\"accuracy\", \"FPR\", \"FNR\", \"auc\"], \"y\": [0.8599852616064849, 0.15360230547550432, 0.06156405990016639, 0.8924168173121647], \"type\": \"scatter\", \"uid\": \"9a363de0-a589-4955-9000-5ce86e0c624a\"}, {\"mode\": \"lines+markers\", \"name\": \"GradientBoosting\", \"x\": [\"accuracy\", \"FPR\", \"FNR\", \"auc\"], \"y\": [0.8801277327437976, 0.1304034582132565, 0.05906821963394343, 0.9052641610764001], \"type\": \"scatter\", \"uid\": \"afe74e15-b974-4f82-a47b-bfa961ee2a25\"}, {\"marker\": {\"symbol\": \"x\"}, \"mode\": \"lines+markers\", \"name\": \"ExtraTree Classifier\", \"x\": [\"accuracy\", \"FPR\", \"FNR\", \"auc\"], \"y\": [0.9027266028002948, 0.09985590778097983, 0.08236272878535773, 0.9088906817168312], \"type\": \"scatter\", \"uid\": \"3f2f45fe-0db2-4edc-9240-a35f30ff51f3\"}, {\"marker\": {\"symbol\": \"x\"}, \"mode\": \"lines+markers\", \"name\": \"Bagging\", \"x\": [\"accuracy\", \"FPR\", \"FNR\", \"auc\"], \"y\": [0.8953574060427414, 0.1106628242074928, 0.06988352745424292, 0.9097268241691322], \"type\": \"scatter\", \"uid\": \"75ba13bc-08eb-4829-8d05-37e9c0972df2\"}, {\"marker\": {\"symbol\": \"x\"}, \"mode\": \"lines+markers\", \"name\": \"Neural Network\", \"x\": [\"accuracy\", \"FPR\", \"FNR\", \"auc\"], \"y\": [0.8484401866863178, 0.17161383285302595, 0.03577371048252912, 0.8963062283322226], \"type\": \"scatter\", \"uid\": \"2ee80251-d273-4081-8dc0-0269fc54a5b7\"}], {\"title\": \"Result comparision for Features selected in Section 1\", \"yaxis\": {\"dtick\": 0.05, \"tick0\": 0}}, {\"showLink\": true, \"linkText\": \"Export to plot.ly\", \"plotlyServerURL\": \"https://plot.ly\"})});</script><script type=\"text/javascript\">window.addEventListener(\"resize\", function(){window._Plotly.Plots.resize(document.getElementById(\"183de364-304c-417d-87b9-4d3c3aade7b0\"));});</script>"
      ],
      "text/vnd.plotly.v1+html": [
       "<div id=\"183de364-304c-417d-87b9-4d3c3aade7b0\" style=\"height: 525px; width: 100%;\" class=\"plotly-graph-div\"></div><script type=\"text/javascript\">require([\"plotly\"], function(Plotly) { window.PLOTLYENV=window.PLOTLYENV || {};window.PLOTLYENV.BASE_URL=\"https://plot.ly\";Plotly.newPlot(\"183de364-304c-417d-87b9-4d3c3aade7b0\", [{\"mode\": \"lines\", \"name\": \"KNN_model\", \"x\": [\"accuracy\", \"FPR\", \"FNR\", \"auc\"], \"y\": [0.8338246131171703, 0.04380403458213256, 0.872712146422629, 0.5417419094976191], \"type\": \"scatter\", \"uid\": \"8a00452f-791b-4947-b151-5ca9712a19b5\"}, {\"mode\": \"lines+markers\", \"name\": \"Logistic Regression\", \"x\": [\"accuracy\", \"FPR\", \"FNR\", \"auc\"], \"y\": [0.8360353721444362, 0.184149855907781, 0.04742096505823627, 0.8842145895169915], \"type\": \"scatter\", \"uid\": \"b268b68f-0382-48fe-9371-f02bbef711bc\"}, {\"marker\": {\"symbol\": \"x\"}, \"mode\": \"lines+markers\", \"name\": \"Random Forest\", \"x\": [\"accuracy\", \"FPR\", \"FNR\", \"auc\"], \"y\": [0.9007614836649472, 0.10201729106628242, 0.08319467554076539, 0.9073940166964761], \"type\": \"scatter\", \"uid\": \"d581e6a3-29cd-4f42-b4ae-05ba3a742d65\"}, {\"mode\": \"lines\", \"name\": \"Ada Boost\", \"x\": [\"accuracy\", \"FPR\", \"FNR\", \"auc\"], \"y\": [0.8599852616064849, 0.15360230547550432, 0.06156405990016639, 0.8924168173121647], \"type\": \"scatter\", \"uid\": \"9a363de0-a589-4955-9000-5ce86e0c624a\"}, {\"mode\": \"lines+markers\", \"name\": \"GradientBoosting\", \"x\": [\"accuracy\", \"FPR\", \"FNR\", \"auc\"], \"y\": [0.8801277327437976, 0.1304034582132565, 0.05906821963394343, 0.9052641610764001], \"type\": \"scatter\", \"uid\": \"afe74e15-b974-4f82-a47b-bfa961ee2a25\"}, {\"marker\": {\"symbol\": \"x\"}, \"mode\": \"lines+markers\", \"name\": \"ExtraTree Classifier\", \"x\": [\"accuracy\", \"FPR\", \"FNR\", \"auc\"], \"y\": [0.9027266028002948, 0.09985590778097983, 0.08236272878535773, 0.9088906817168312], \"type\": \"scatter\", \"uid\": \"3f2f45fe-0db2-4edc-9240-a35f30ff51f3\"}, {\"marker\": {\"symbol\": \"x\"}, \"mode\": \"lines+markers\", \"name\": \"Bagging\", \"x\": [\"accuracy\", \"FPR\", \"FNR\", \"auc\"], \"y\": [0.8953574060427414, 0.1106628242074928, 0.06988352745424292, 0.9097268241691322], \"type\": \"scatter\", \"uid\": \"75ba13bc-08eb-4829-8d05-37e9c0972df2\"}, {\"marker\": {\"symbol\": \"x\"}, \"mode\": \"lines+markers\", \"name\": \"Neural Network\", \"x\": [\"accuracy\", \"FPR\", \"FNR\", \"auc\"], \"y\": [0.8484401866863178, 0.17161383285302595, 0.03577371048252912, 0.8963062283322226], \"type\": \"scatter\", \"uid\": \"2ee80251-d273-4081-8dc0-0269fc54a5b7\"}], {\"title\": \"Result comparision for Features selected in Section 1\", \"yaxis\": {\"dtick\": 0.05, \"tick0\": 0}}, {\"showLink\": true, \"linkText\": \"Export to plot.ly\", \"plotlyServerURL\": \"https://plot.ly\"})});</script><script type=\"text/javascript\">window.addEventListener(\"resize\", function(){window._Plotly.Plots.resize(document.getElementById(\"183de364-304c-417d-87b9-4d3c3aade7b0\"));});</script>"
      ]
     },
     "metadata": {},
     "output_type": "display_data"
    }
   ],
   "source": [
    "trace0 = go.Scatter(x=table_80_90_test.iloc[0].index.values[[0,5,6,7]],\n",
    "                    y=table_80_90_test.iloc[0].values[[0,5,6,7]],\n",
    "                    mode = 'lines',\n",
    "                    name = 'KNN_model')\n",
    "\n",
    "trace1 = go.Scatter(x=table_80_90_test.iloc[1].index.values[[0,5,6,7]],\n",
    "                    y=table_80_90_test.iloc[1].values[[0,5,6,7]],\n",
    "                    mode = 'lines+markers',\n",
    "                    name = 'Logistic Regression')\n",
    "\n",
    "trace2 = go.Scatter(x=table_80_90_test.iloc[2].index.values[[0,5,6,7]],\n",
    "                    y=table_80_90_test.iloc[2].values[[0,5,6,7]],\n",
    "                    mode = 'lines+markers',marker=dict(symbol='x'),\n",
    "                    name = 'Random Forest')\n",
    "\n",
    "\n",
    "trace3 = go.Scatter(x=table_80_90_test.iloc[3].index.values[[0,5,6,7]],\n",
    "                    y=table_80_90_test.iloc[3].values[[0,5,6,7]],\n",
    "                    mode = 'lines',\n",
    "                    name = 'Ada Boost')\n",
    "\n",
    "trace4 = go.Scatter(x=table_80_90_test.iloc[4].index.values[[0,5,6,7]],\n",
    "                    y=table_80_90_test.iloc[4].values[[0,5,6,7]],\n",
    "                    mode = 'lines+markers',\n",
    "                    name = 'GradientBoosting')\n",
    "\n",
    "trace5 = go.Scatter(x=table_80_90_test.iloc[5].index.values[[0,5,6,7]],\n",
    "                    y=table_80_90_test.iloc[5].values[[0,5,6,7]],\n",
    "                    mode = 'lines+markers',marker=dict(symbol='x'),\n",
    "                    name = 'ExtraTree Classifier')\n",
    "\n",
    "trace6 = go.Scatter(x=table_80_90_test.iloc[6].index.values[[0,5,6,7]],\n",
    "                    y=table_80_90_test.iloc[6].values[[0,5,6,7]],\n",
    "                    mode = 'lines+markers',marker=dict(symbol='x'),\n",
    "                    name = 'Bagging')\n",
    "\n",
    "trace7 = go.Scatter(x=table_80_90_test.iloc[7].index.values[[0,5,6,7]],\n",
    "                    y=table_80_90_test.iloc[7].values[[0,5,6,7]],\n",
    "                    mode = 'lines+markers',marker=dict(symbol='x'),\n",
    "                    name = 'Neural Network')\n",
    "\n",
    "\n",
    "\n",
    "data = [trace0, trace1, trace2, trace3, trace4, trace5, trace6, trace7]\n",
    "layout = go.Layout(yaxis=dict(tick0=0,dtick=0.05),title='Result comparision for Features selected in Section 1')\n",
    "fig = go.Figure(data=data, layout=layout)\n",
    "\n",
    "iplot(fig, filename='Result')"
   ]
  },
  {
   "cell_type": "code",
   "execution_count": 30,
   "metadata": {},
   "outputs": [
    {
     "name": "stdout",
     "output_type": "stream",
     "text": [
      "Training Results\n"
     ]
    },
    {
     "data": {
      "text/html": [
       "<div>\n",
       "<style scoped>\n",
       "    .dataframe tbody tr th:only-of-type {\n",
       "        vertical-align: middle;\n",
       "    }\n",
       "\n",
       "    .dataframe tbody tr th {\n",
       "        vertical-align: top;\n",
       "    }\n",
       "\n",
       "    .dataframe thead th {\n",
       "        text-align: right;\n",
       "    }\n",
       "</style>\n",
       "<table border=\"1\" class=\"dataframe\">\n",
       "  <thead>\n",
       "    <tr style=\"text-align: right;\">\n",
       "      <th></th>\n",
       "      <th>accuracy</th>\n",
       "      <th>TP</th>\n",
       "      <th>TN</th>\n",
       "      <th>FP</th>\n",
       "      <th>FN</th>\n",
       "      <th>FPR</th>\n",
       "      <th>FNR</th>\n",
       "    </tr>\n",
       "    <tr>\n",
       "      <th>index</th>\n",
       "      <th></th>\n",
       "      <th></th>\n",
       "      <th></th>\n",
       "      <th></th>\n",
       "      <th></th>\n",
       "      <th></th>\n",
       "      <th></th>\n",
       "    </tr>\n",
       "  </thead>\n",
       "  <tbody>\n",
       "    <tr>\n",
       "      <th>KNeighborsClassifier</th>\n",
       "      <td>0.556883</td>\n",
       "      <td>678.0</td>\n",
       "      <td>4589.0</td>\n",
       "      <td>140.0</td>\n",
       "      <td>4051.0</td>\n",
       "      <td>0.029605</td>\n",
       "      <td>0.856629</td>\n",
       "    </tr>\n",
       "    <tr>\n",
       "      <th>LogisticRegression</th>\n",
       "      <td>0.883908</td>\n",
       "      <td>4529.0</td>\n",
       "      <td>3831.0</td>\n",
       "      <td>898.0</td>\n",
       "      <td>200.0</td>\n",
       "      <td>0.189892</td>\n",
       "      <td>0.042292</td>\n",
       "    </tr>\n",
       "    <tr>\n",
       "      <th>RandomForestClassifier</th>\n",
       "      <td>0.947981</td>\n",
       "      <td>4639.0</td>\n",
       "      <td>4327.0</td>\n",
       "      <td>402.0</td>\n",
       "      <td>90.0</td>\n",
       "      <td>0.085007</td>\n",
       "      <td>0.019032</td>\n",
       "    </tr>\n",
       "    <tr>\n",
       "      <th>AdaBoostClassifier</th>\n",
       "      <td>0.894269</td>\n",
       "      <td>4472.0</td>\n",
       "      <td>3986.0</td>\n",
       "      <td>743.0</td>\n",
       "      <td>257.0</td>\n",
       "      <td>0.157116</td>\n",
       "      <td>0.054346</td>\n",
       "    </tr>\n",
       "    <tr>\n",
       "      <th>GradientBoostingClassifier</th>\n",
       "      <td>0.910975</td>\n",
       "      <td>4508.0</td>\n",
       "      <td>4108.0</td>\n",
       "      <td>621.0</td>\n",
       "      <td>221.0</td>\n",
       "      <td>0.131317</td>\n",
       "      <td>0.046733</td>\n",
       "    </tr>\n",
       "    <tr>\n",
       "      <th>ExtraTreeClassifier</th>\n",
       "      <td>0.951998</td>\n",
       "      <td>4670.0</td>\n",
       "      <td>4334.0</td>\n",
       "      <td>395.0</td>\n",
       "      <td>59.0</td>\n",
       "      <td>0.083527</td>\n",
       "      <td>0.012476</td>\n",
       "    </tr>\n",
       "    <tr>\n",
       "      <th>BaggingClassifier</th>\n",
       "      <td>0.948192</td>\n",
       "      <td>4646.0</td>\n",
       "      <td>4322.0</td>\n",
       "      <td>407.0</td>\n",
       "      <td>83.0</td>\n",
       "      <td>0.086065</td>\n",
       "      <td>0.017551</td>\n",
       "    </tr>\n",
       "    <tr>\n",
       "      <th>Neural Network-1</th>\n",
       "      <td>0.921442</td>\n",
       "      <td>4699.0</td>\n",
       "      <td>4016.0</td>\n",
       "      <td>713.0</td>\n",
       "      <td>30.0</td>\n",
       "      <td>0.150772</td>\n",
       "      <td>0.006344</td>\n",
       "    </tr>\n",
       "  </tbody>\n",
       "</table>\n",
       "</div>"
      ],
      "text/plain": [
       "                            accuracy      TP      TN     FP      FN       FPR  \\\n",
       "index                                                                           \n",
       "KNeighborsClassifier        0.556883   678.0  4589.0  140.0  4051.0  0.029605   \n",
       "LogisticRegression          0.883908  4529.0  3831.0  898.0   200.0  0.189892   \n",
       "RandomForestClassifier      0.947981  4639.0  4327.0  402.0    90.0  0.085007   \n",
       "AdaBoostClassifier          0.894269  4472.0  3986.0  743.0   257.0  0.157116   \n",
       "GradientBoostingClassifier  0.910975  4508.0  4108.0  621.0   221.0  0.131317   \n",
       "ExtraTreeClassifier         0.951998  4670.0  4334.0  395.0    59.0  0.083527   \n",
       "BaggingClassifier           0.948192  4646.0  4322.0  407.0    83.0  0.086065   \n",
       "Neural Network-1            0.921442  4699.0  4016.0  713.0    30.0  0.150772   \n",
       "\n",
       "                                 FNR  \n",
       "index                                 \n",
       "KNeighborsClassifier        0.856629  \n",
       "LogisticRegression          0.042292  \n",
       "RandomForestClassifier      0.019032  \n",
       "AdaBoostClassifier          0.054346  \n",
       "GradientBoostingClassifier  0.046733  \n",
       "ExtraTreeClassifier         0.012476  \n",
       "BaggingClassifier           0.017551  \n",
       "Neural Network-1            0.006344  "
      ]
     },
     "metadata": {},
     "output_type": "display_data"
    },
    {
     "name": "stdout",
     "output_type": "stream",
     "text": [
      "Test Results\n"
     ]
    },
    {
     "data": {
      "text/html": [
       "<div>\n",
       "<style scoped>\n",
       "    .dataframe tbody tr th:only-of-type {\n",
       "        vertical-align: middle;\n",
       "    }\n",
       "\n",
       "    .dataframe tbody tr th {\n",
       "        vertical-align: top;\n",
       "    }\n",
       "\n",
       "    .dataframe thead th {\n",
       "        text-align: right;\n",
       "    }\n",
       "</style>\n",
       "<table border=\"1\" class=\"dataframe\">\n",
       "  <thead>\n",
       "    <tr style=\"text-align: right;\">\n",
       "      <th></th>\n",
       "      <th>accuracy</th>\n",
       "      <th>TP</th>\n",
       "      <th>TN</th>\n",
       "      <th>FP</th>\n",
       "      <th>FN</th>\n",
       "      <th>FPR</th>\n",
       "      <th>FNR</th>\n",
       "      <th>auc</th>\n",
       "      <th>mcc</th>\n",
       "    </tr>\n",
       "    <tr>\n",
       "      <th>index</th>\n",
       "      <th></th>\n",
       "      <th></th>\n",
       "      <th></th>\n",
       "      <th></th>\n",
       "      <th></th>\n",
       "      <th></th>\n",
       "      <th></th>\n",
       "      <th></th>\n",
       "      <th></th>\n",
       "    </tr>\n",
       "  </thead>\n",
       "  <tbody>\n",
       "    <tr>\n",
       "      <th>KNeighborsClassifier</th>\n",
       "      <td>0.833825</td>\n",
       "      <td>153.0</td>\n",
       "      <td>6636.0</td>\n",
       "      <td>304.0</td>\n",
       "      <td>1049.0</td>\n",
       "      <td>0.043804</td>\n",
       "      <td>0.872712</td>\n",
       "      <td>0.541742</td>\n",
       "      <td>0.128663</td>\n",
       "    </tr>\n",
       "    <tr>\n",
       "      <th>LogisticRegression</th>\n",
       "      <td>0.836035</td>\n",
       "      <td>1145.0</td>\n",
       "      <td>5662.0</td>\n",
       "      <td>1278.0</td>\n",
       "      <td>57.0</td>\n",
       "      <td>0.184150</td>\n",
       "      <td>0.047421</td>\n",
       "      <td>0.884215</td>\n",
       "      <td>0.596210</td>\n",
       "    </tr>\n",
       "    <tr>\n",
       "      <th>RandomForestClassifier</th>\n",
       "      <td>0.900761</td>\n",
       "      <td>1102.0</td>\n",
       "      <td>6232.0</td>\n",
       "      <td>708.0</td>\n",
       "      <td>100.0</td>\n",
       "      <td>0.102017</td>\n",
       "      <td>0.083195</td>\n",
       "      <td>0.907394</td>\n",
       "      <td>0.695131</td>\n",
       "    </tr>\n",
       "    <tr>\n",
       "      <th>AdaBoostClassifier</th>\n",
       "      <td>0.859985</td>\n",
       "      <td>1128.0</td>\n",
       "      <td>5874.0</td>\n",
       "      <td>1066.0</td>\n",
       "      <td>74.0</td>\n",
       "      <td>0.153602</td>\n",
       "      <td>0.061564</td>\n",
       "      <td>0.892417</td>\n",
       "      <td>0.627489</td>\n",
       "    </tr>\n",
       "    <tr>\n",
       "      <th>GradientBoostingClassifier</th>\n",
       "      <td>0.880128</td>\n",
       "      <td>1131.0</td>\n",
       "      <td>6035.0</td>\n",
       "      <td>905.0</td>\n",
       "      <td>71.0</td>\n",
       "      <td>0.130403</td>\n",
       "      <td>0.059068</td>\n",
       "      <td>0.905264</td>\n",
       "      <td>0.663946</td>\n",
       "    </tr>\n",
       "    <tr>\n",
       "      <th>ExtraTreeClassifier</th>\n",
       "      <td>0.902727</td>\n",
       "      <td>1103.0</td>\n",
       "      <td>6247.0</td>\n",
       "      <td>693.0</td>\n",
       "      <td>99.0</td>\n",
       "      <td>0.099856</td>\n",
       "      <td>0.082363</td>\n",
       "      <td>0.908891</td>\n",
       "      <td>0.699626</td>\n",
       "    </tr>\n",
       "    <tr>\n",
       "      <th>BaggingClassifier</th>\n",
       "      <td>0.895357</td>\n",
       "      <td>1118.0</td>\n",
       "      <td>6172.0</td>\n",
       "      <td>768.0</td>\n",
       "      <td>84.0</td>\n",
       "      <td>0.110663</td>\n",
       "      <td>0.069884</td>\n",
       "      <td>0.909727</td>\n",
       "      <td>0.689028</td>\n",
       "    </tr>\n",
       "    <tr>\n",
       "      <th>Neural Network-1</th>\n",
       "      <td>0.848440</td>\n",
       "      <td>1159.0</td>\n",
       "      <td>5749.0</td>\n",
       "      <td>1191.0</td>\n",
       "      <td>43.0</td>\n",
       "      <td>0.171614</td>\n",
       "      <td>0.035774</td>\n",
       "      <td>0.896306</td>\n",
       "      <td>0.620504</td>\n",
       "    </tr>\n",
       "  </tbody>\n",
       "</table>\n",
       "</div>"
      ],
      "text/plain": [
       "                            accuracy      TP      TN      FP      FN  \\\n",
       "index                                                                  \n",
       "KNeighborsClassifier        0.833825   153.0  6636.0   304.0  1049.0   \n",
       "LogisticRegression          0.836035  1145.0  5662.0  1278.0    57.0   \n",
       "RandomForestClassifier      0.900761  1102.0  6232.0   708.0   100.0   \n",
       "AdaBoostClassifier          0.859985  1128.0  5874.0  1066.0    74.0   \n",
       "GradientBoostingClassifier  0.880128  1131.0  6035.0   905.0    71.0   \n",
       "ExtraTreeClassifier         0.902727  1103.0  6247.0   693.0    99.0   \n",
       "BaggingClassifier           0.895357  1118.0  6172.0   768.0    84.0   \n",
       "Neural Network-1            0.848440  1159.0  5749.0  1191.0    43.0   \n",
       "\n",
       "                                 FPR       FNR       auc       mcc  \n",
       "index                                                               \n",
       "KNeighborsClassifier        0.043804  0.872712  0.541742  0.128663  \n",
       "LogisticRegression          0.184150  0.047421  0.884215  0.596210  \n",
       "RandomForestClassifier      0.102017  0.083195  0.907394  0.695131  \n",
       "AdaBoostClassifier          0.153602  0.061564  0.892417  0.627489  \n",
       "GradientBoostingClassifier  0.130403  0.059068  0.905264  0.663946  \n",
       "ExtraTreeClassifier         0.099856  0.082363  0.908891  0.699626  \n",
       "BaggingClassifier           0.110663  0.069884  0.909727  0.689028  \n",
       "Neural Network-1            0.171614  0.035774  0.896306  0.620504  "
      ]
     },
     "metadata": {},
     "output_type": "display_data"
    }
   ],
   "source": [
    "table_80_90_train['index']=ind_columns\n",
    "table_80_90_test['index']=ind_columns\n",
    "\n",
    "\n",
    "table_80_90_test.set_index(['index'],drop=True,inplace=True)\n",
    "table_80_90_train.set_index(['index'],drop=True,inplace=True)\n",
    "\n",
    "print(\"Training Results\")\n",
    "display(table_80_90_train)\n",
    "print(\"Test Results\")\n",
    "display(table_80_90_test)"
   ]
  },
  {
   "cell_type": "markdown",
   "metadata": {},
   "source": [
    "### <a id='3.B' style=\"text-decoration : none; color : #000000;\"> B. Average Feature Importances</a>"
   ]
  },
  {
   "cell_type": "code",
   "execution_count": 31,
   "metadata": {},
   "outputs": [
    {
     "data": {
      "application/vnd.plotly.v1+json": {
       "config": {
        "linkText": "Export to plot.ly",
        "plotlyServerURL": "https://plot.ly",
        "showLink": true
       },
       "data": [
        {
         "marker": {
          "color": "rgb(158,202,225)",
          "line": {
           "color": "rgb(8,48,107)",
           "width": 1.5
          }
         },
         "opacity": 0.6,
         "orientation": "h",
         "text": [
          0.1823,
          0.0799,
          0.0697,
          0.0685,
          0.0633,
          0.0593,
          0.0528,
          0.038,
          0.0306,
          0.0305,
          0.0272,
          0.0271,
          0.0268,
          0.0242,
          0.0238,
          0.0219,
          0.0188,
          0.0161,
          0.015,
          0.0137,
          0.0123,
          0.0101,
          0.01,
          0.0095,
          0.0093,
          0.0086,
          0.0086,
          0.0085,
          0.0072,
          0.007,
          0.0069,
          0.0055,
          0.005,
          0.0022
         ],
         "textposition": "outside",
         "type": "bar",
         "uid": "9af8e7ee-df0f-49ed-afef-72bc0adde79c",
         "x": [
          0.18232389359588375,
          0.07985839701941021,
          0.06968793139163335,
          0.06850221581345395,
          0.06330917815132363,
          0.05925871011062531,
          0.05279291261990242,
          0.03796807418236116,
          0.0306133837369716,
          0.03053586049078806,
          0.027195612603728107,
          0.02706894241109424,
          0.02682526008577813,
          0.024230945174245386,
          0.023759118670847935,
          0.021918693566967122,
          0.018795257538301274,
          0.01605014833966388,
          0.014953993253445378,
          0.013700558090033245,
          0.012270241333724756,
          0.010124662862761598,
          0.010045555059273601,
          0.009494944879704672,
          0.009287206489020667,
          0.008612249415660895,
          0.008578730462522171,
          0.008502803012801954,
          0.0071977079494087255,
          0.006991746779629295,
          0.006903831466468601,
          0.005479384620093202,
          0.005005132880642773,
          0.0021567159418289803
         ],
         "y": [
          "link_href_out_of_domain",
          "div_count",
          "a_href_https",
          "script_src_.js",
          "meta_count",
          "script_async_true",
          "script_src_out_of_domain",
          "title_count",
          "a_href_http",
          "br_count",
          "link_href_http",
          "p_count",
          "link_type_text/css",
          "img_src_.jpg",
          "push",
          "span_count",
          "img_src_out_of_domain",
          "li_count",
          "link_href_.css",
          "section_count",
          "form_action_http",
          "strong_count",
          "window.addEventListener",
          "link_rel_shortlink",
          "indexOf",
          "a_href_.com",
          "center_count",
          "link_type_application/rsd+xml",
          "document.getElementById",
          "find",
          "get",
          "replace",
          "link_rel_https://api.w.org/",
          "escape"
         ]
        }
       ],
       "layout": {
        "autosize": false,
        "height": 1000,
        "width": 1000,
        "xaxis": {
         "tickfont": {
          "color": "black",
          "size": 12
         },
         "title": "Feature Importances"
        },
        "yaxis": {
         "automargin": true
        }
       }
      },
      "text/html": [
       "<div id=\"388c842e-a141-43c3-b67f-8b5b6f06b623\" style=\"height: 1000px; width: 1000px;\" class=\"plotly-graph-div\"></div><script type=\"text/javascript\">require([\"plotly\"], function(Plotly) { window.PLOTLYENV=window.PLOTLYENV || {};window.PLOTLYENV.BASE_URL=\"https://plot.ly\";Plotly.newPlot(\"388c842e-a141-43c3-b67f-8b5b6f06b623\", [{\"marker\": {\"color\": \"rgb(158,202,225)\", \"line\": {\"color\": \"rgb(8,48,107)\", \"width\": 1.5}}, \"opacity\": 0.6, \"orientation\": \"h\", \"text\": [0.1823, 0.0799, 0.0697, 0.0685, 0.0633, 0.0593, 0.0528, 0.038, 0.0306, 0.0305, 0.0272, 0.0271, 0.0268, 0.0242, 0.0238, 0.0219, 0.0188, 0.0161, 0.015, 0.0137, 0.0123, 0.0101, 0.01, 0.0095, 0.0093, 0.0086, 0.0086, 0.0085, 0.0072, 0.007, 0.0069, 0.0055, 0.005, 0.0022], \"textposition\": \"outside\", \"x\": [0.18232389359588375, 0.07985839701941021, 0.06968793139163335, 0.06850221581345395, 0.06330917815132363, 0.05925871011062531, 0.05279291261990242, 0.03796807418236116, 0.0306133837369716, 0.03053586049078806, 0.027195612603728107, 0.02706894241109424, 0.02682526008577813, 0.024230945174245386, 0.023759118670847935, 0.021918693566967122, 0.018795257538301274, 0.01605014833966388, 0.014953993253445378, 0.013700558090033245, 0.012270241333724756, 0.010124662862761598, 0.010045555059273601, 0.009494944879704672, 0.009287206489020667, 0.008612249415660895, 0.008578730462522171, 0.008502803012801954, 0.0071977079494087255, 0.006991746779629295, 0.006903831466468601, 0.005479384620093202, 0.005005132880642773, 0.0021567159418289803], \"y\": [\"link_href_out_of_domain\", \"div_count\", \"a_href_https\", \"script_src_.js\", \"meta_count\", \"script_async_true\", \"script_src_out_of_domain\", \"title_count\", \"a_href_http\", \"br_count\", \"link_href_http\", \"p_count\", \"link_type_text/css\", \"img_src_.jpg\", \"push\", \"span_count\", \"img_src_out_of_domain\", \"li_count\", \"link_href_.css\", \"section_count\", \"form_action_http\", \"strong_count\", \"window.addEventListener\", \"link_rel_shortlink\", \"indexOf\", \"a_href_.com\", \"center_count\", \"link_type_application/rsd+xml\", \"document.getElementById\", \"find\", \"get\", \"replace\", \"link_rel_https://api.w.org/\", \"escape\"], \"type\": \"bar\", \"uid\": \"9af8e7ee-df0f-49ed-afef-72bc0adde79c\"}], {\"autosize\": false, \"height\": 1000, \"width\": 1000, \"xaxis\": {\"tickfont\": {\"color\": \"black\", \"size\": 12}, \"title\": \"Feature Importances\"}, \"yaxis\": {\"automargin\": true}}, {\"showLink\": true, \"linkText\": \"Export to plot.ly\", \"plotlyServerURL\": \"https://plot.ly\"})});</script>"
      ],
      "text/vnd.plotly.v1+html": [
       "<div id=\"388c842e-a141-43c3-b67f-8b5b6f06b623\" style=\"height: 1000px; width: 1000px;\" class=\"plotly-graph-div\"></div><script type=\"text/javascript\">require([\"plotly\"], function(Plotly) { window.PLOTLYENV=window.PLOTLYENV || {};window.PLOTLYENV.BASE_URL=\"https://plot.ly\";Plotly.newPlot(\"388c842e-a141-43c3-b67f-8b5b6f06b623\", [{\"marker\": {\"color\": \"rgb(158,202,225)\", \"line\": {\"color\": \"rgb(8,48,107)\", \"width\": 1.5}}, \"opacity\": 0.6, \"orientation\": \"h\", \"text\": [0.1823, 0.0799, 0.0697, 0.0685, 0.0633, 0.0593, 0.0528, 0.038, 0.0306, 0.0305, 0.0272, 0.0271, 0.0268, 0.0242, 0.0238, 0.0219, 0.0188, 0.0161, 0.015, 0.0137, 0.0123, 0.0101, 0.01, 0.0095, 0.0093, 0.0086, 0.0086, 0.0085, 0.0072, 0.007, 0.0069, 0.0055, 0.005, 0.0022], \"textposition\": \"outside\", \"x\": [0.18232389359588375, 0.07985839701941021, 0.06968793139163335, 0.06850221581345395, 0.06330917815132363, 0.05925871011062531, 0.05279291261990242, 0.03796807418236116, 0.0306133837369716, 0.03053586049078806, 0.027195612603728107, 0.02706894241109424, 0.02682526008577813, 0.024230945174245386, 0.023759118670847935, 0.021918693566967122, 0.018795257538301274, 0.01605014833966388, 0.014953993253445378, 0.013700558090033245, 0.012270241333724756, 0.010124662862761598, 0.010045555059273601, 0.009494944879704672, 0.009287206489020667, 0.008612249415660895, 0.008578730462522171, 0.008502803012801954, 0.0071977079494087255, 0.006991746779629295, 0.006903831466468601, 0.005479384620093202, 0.005005132880642773, 0.0021567159418289803], \"y\": [\"link_href_out_of_domain\", \"div_count\", \"a_href_https\", \"script_src_.js\", \"meta_count\", \"script_async_true\", \"script_src_out_of_domain\", \"title_count\", \"a_href_http\", \"br_count\", \"link_href_http\", \"p_count\", \"link_type_text/css\", \"img_src_.jpg\", \"push\", \"span_count\", \"img_src_out_of_domain\", \"li_count\", \"link_href_.css\", \"section_count\", \"form_action_http\", \"strong_count\", \"window.addEventListener\", \"link_rel_shortlink\", \"indexOf\", \"a_href_.com\", \"center_count\", \"link_type_application/rsd+xml\", \"document.getElementById\", \"find\", \"get\", \"replace\", \"link_rel_https://api.w.org/\", \"escape\"], \"type\": \"bar\", \"uid\": \"9af8e7ee-df0f-49ed-afef-72bc0adde79c\"}], {\"autosize\": false, \"height\": 1000, \"width\": 1000, \"xaxis\": {\"tickfont\": {\"color\": \"black\", \"size\": 12}, \"title\": \"Feature Importances\"}, \"yaxis\": {\"automargin\": true}}, {\"showLink\": true, \"linkText\": \"Export to plot.ly\", \"plotlyServerURL\": \"https://plot.ly\"})});</script>"
      ]
     },
     "metadata": {},
     "output_type": "display_data"
    }
   ],
   "source": [
    "feat_impt_plot(np.average(feat_imp,axis=0),columns)"
   ]
  },
  {
   "cell_type": "markdown",
   "metadata": {},
   "source": [
    "### <a id='4' style=\"text-decoration : none; color : #000000;\">4. Feature Transformation with feature selection </a>"
   ]
  },
  {
   "cell_type": "code",
   "execution_count": 32,
   "metadata": {},
   "outputs": [
    {
     "name": "stdout",
     "output_type": "stream",
     "text": [
      "Built 2278 features\n",
      "EntitySet scattered to workers in 4.287 seconds\n",
      "Elapsed: 00:12 | Remaining: 00:00 | Progress: 100%|██████████| Calculated: 11/11 chunks\n"
     ]
    }
   ],
   "source": [
    "df_sel.reset_index(inplace=True)\n",
    "\n",
    "# columns=columns.tolist()\n",
    "columns.append('domain')\n",
    "\n",
    "df_min=df_sel[columns]\n",
    "\n",
    "es = ft.EntitySet(id = 'malicious')\n",
    "es.entity_from_dataframe(entity_id = 'data', dataframe = df_min, index = 'domain')\n",
    "\n",
    "feature_matrix_sessions, features_defs = ft.dfs(entityset=es,target_entity=\"data\",\n",
    "                                                trans_primitives = ['add','divide','multiply'],n_jobs=-1,\n",
    "                                                verbose=1,max_depth=1)"
   ]
  },
  {
   "cell_type": "code",
   "execution_count": 33,
   "metadata": {},
   "outputs": [],
   "source": [
    "df_sel.set_index(['domain'],drop=True,inplace=True)\n",
    "fs=pd.merge(feature_matrix_sessions,pd.DataFrame(df_sel.Target),left_index=True, right_index=True)\n",
    "fs.replace([np.inf],0,inplace=True)\n",
    "fs.fillna(value=0,inplace=True)"
   ]
  },
  {
   "cell_type": "code",
   "execution_count": 34,
   "metadata": {},
   "outputs": [],
   "source": [
    "X=fs.loc[:,fs.columns!='Target']\n",
    "y=fs.Target\n",
    "feature_name = X.columns.tolist()"
   ]
  },
  {
   "cell_type": "code",
   "execution_count": 35,
   "metadata": {
    "scrolled": true
   },
   "outputs": [
    {
     "name": "stderr",
     "output_type": "stream",
     "text": [
      "distributed.client - ERROR - Failed to reconnect to scheduler after 10.00 seconds, closing client\n",
      "distributed.utils - ERROR - \n",
      "Traceback (most recent call last):\n",
      "  File \"/nethomes/darshan/anaconda3/lib/python3.6/site-packages/distributed/utils.py\", line 713, in log_errors\n",
      "    yield\n",
      "  File \"/nethomes/darshan/anaconda3/lib/python3.6/site-packages/distributed/client.py\", line 1223, in _close\n",
      "    quiet_exceptions=(CancelledError,),\n",
      "  File \"/nethomes/darshan/anaconda3/lib/python3.6/site-packages/tornado/gen.py\", line 584, in with_timeout\n",
      "    chain_future(future_converted, result)\n",
      "  File \"/nethomes/darshan/anaconda3/lib/python3.6/site-packages/tornado/concurrent.py\", line 166, in chain_future\n",
      "    future_add_done_callback(a, copy)\n",
      "  File \"/nethomes/darshan/anaconda3/lib/python3.6/site-packages/tornado/concurrent.py\", line 262, in future_add_done_callback\n",
      "    callback(future)\n",
      "  File \"/nethomes/darshan/anaconda3/lib/python3.6/site-packages/tornado/concurrent.py\", line 160, in copy\n",
      "    elif a.exception() is not None:\n",
      "concurrent.futures._base.CancelledError\n",
      "distributed.utils - ERROR - \n",
      "Traceback (most recent call last):\n",
      "  File \"/nethomes/darshan/anaconda3/lib/python3.6/site-packages/distributed/utils.py\", line 713, in log_errors\n",
      "    yield\n",
      "  File \"/nethomes/darshan/anaconda3/lib/python3.6/site-packages/distributed/client.py\", line 992, in _reconnect\n",
      "    yield self._close()\n",
      "  File \"/nethomes/darshan/anaconda3/lib/python3.6/site-packages/tornado/gen.py\", line 729, in run\n",
      "    value = future.result()\n",
      "  File \"/nethomes/darshan/anaconda3/lib/python3.6/site-packages/tornado/gen.py\", line 209, in wrapper\n",
      "    yielded = next(result)\n",
      "  File \"/nethomes/darshan/anaconda3/lib/python3.6/site-packages/distributed/client.py\", line 1223, in _close\n",
      "    quiet_exceptions=(CancelledError,),\n",
      "  File \"/nethomes/darshan/anaconda3/lib/python3.6/site-packages/tornado/gen.py\", line 584, in with_timeout\n",
      "    chain_future(future_converted, result)\n",
      "  File \"/nethomes/darshan/anaconda3/lib/python3.6/site-packages/tornado/concurrent.py\", line 166, in chain_future\n",
      "    future_add_done_callback(a, copy)\n",
      "  File \"/nethomes/darshan/anaconda3/lib/python3.6/site-packages/tornado/concurrent.py\", line 262, in future_add_done_callback\n",
      "    callback(future)\n",
      "  File \"/nethomes/darshan/anaconda3/lib/python3.6/site-packages/tornado/concurrent.py\", line 160, in copy\n",
      "    elif a.exception() is not None:\n",
      "concurrent.futures._base.CancelledError\n"
     ]
    }
   ],
   "source": [
    "def cor_selector(X, y):\n",
    "    cor_list = []\n",
    "    # calculate the correlation with y for each feature\n",
    "    for i in X.columns.tolist():\n",
    "        cor = np.corrcoef(X[i], y)[0, 1]\n",
    "        cor_list.append(cor)\n",
    "    # replace NaN with 0\n",
    "    cor_list = [0 if np.isnan(i) else i for i in cor_list]\n",
    "    # feature name\n",
    "    cor_feature = X.iloc[:,np.argsort(np.abs(cor_list))[-100:]].columns.tolist()\n",
    "    # feature selection? 0 for not select, 1 for select\n",
    "    cor_support = [True if i in cor_feature else False for i in feature_name]\n",
    "    return cor_support, cor_feature\n",
    "\n",
    "\n",
    "cor_support, cor_feature = cor_selector(X, y)\n",
    "\n",
    "\n",
    "\n",
    "X_norm = MinMaxScaler().fit_transform(X)\n",
    "chi_selector = SelectKBest(chi2, k=100)\n",
    "chi_selector.fit(X_norm, y)\n",
    "chi_support = chi_selector.get_support()\n",
    "chi_feature = X.loc[:,chi_support].columns.tolist()\n",
    "\n",
    "rfe_selector = RFE(estimator=LogisticRegression(random_state=0), n_features_to_select=100, step=0.3, verbose=False)\n",
    "rfe_selector.fit(X_norm, y)\n",
    "rfe_support = rfe_selector.get_support()\n",
    "rfe_feature = X.loc[:,rfe_support].columns.tolist()\n",
    "\n",
    "embeded_rf_selector = SelectFromModel(RandomForestClassifier(n_estimators=100,random_state=0), threshold='23*median')\n",
    "embeded_rf_selector.fit(X, y)\n",
    "embeded_rf_support = embeded_rf_selector.get_support()\n",
    "embeded_rf_feature = X.loc[:,embeded_rf_support].columns.tolist()\n",
    "\n",
    "feature_selection_df = pd.DataFrame({'Feature':feature_name, 'Pearson':cor_support, 'Chi-2':chi_support, 'RFE':rfe_support,\n",
    "                                    'Random Forest':embeded_rf_support})\n",
    "# count the selected times for each feature\n",
    "feature_selection_df['Total'] = np.sum(feature_selection_df, axis=1)\n",
    "# display the top 100\n",
    "feature_selection_df = feature_selection_df.sort_values(['Total','Feature'] , ascending=False)\n",
    "feature_selection_df.index = range(1, len(feature_selection_df)+1)"
   ]
  },
  {
   "cell_type": "code",
   "execution_count": 38,
   "metadata": {},
   "outputs": [],
   "source": [
    "# X=fs[feature_selection_df[feature_selection_df.Total>=3]['Feature']]\n",
    "# X.fillna(value=0,inplace=True)\n",
    "# y=fs.Target.values\n",
    "# feature_name = X.columns.tolist()\n",
    "\n",
    "# scaler=StandardScaler()\n",
    "# scaled_X=scaler.fit_transform(X)\n",
    "\n",
    "# print(\"The train/test split ratio is 70:30\")\n",
    "# X_train, X_test, Y_train, Y_test = train_test_split(scaled_X,y,random_state=0,test_size=0.3)\n",
    "\n",
    "# X.shape"
   ]
  },
  {
   "cell_type": "code",
   "execution_count": 39,
   "metadata": {},
   "outputs": [],
   "source": [
    "feature_name=['div_count + li_count',\n",
    " 'div_count + js_function_.push(',\n",
    " 'a_href_https + div_count',\n",
    " 'script_src_out_of_domain / title_count',\n",
    " 'script_src_out_of_domain',\n",
    " 'script_src_.js / title_count',\n",
    " 'script_src_.js / link_href_.css',\n",
    " 'script_src_.js + script_src_out_of_domain',\n",
    " 'script_src_.js',\n",
    " 'script_async_true + title_count',\n",
    " 'script_async_true + script_src_out_of_domain',\n",
    " 'link_type_text/css + script_src_.js',\n",
    " 'link_type_application/rsd+xml + script_src_out_of_domain',\n",
    " 'link_type_application/rsd+xml + script_src_.js',\n",
    " 'link_rel_shortlink + script_src_out_of_domain',\n",
    " 'link_rel_shortlink + script_src_.js',\n",
    " 'link_rel_https://api.w.org/ + script_src_out_of_domain',\n",
    " 'link_rel_https://api.w.org/ + script_src_.js',\n",
    " 'img_src_.jpg + script_async_true',\n",
    " 'form_action_http + script_src_out_of_domain',\n",
    " 'form_action_http + script_src_.js',\n",
    " 'dom_function_window.addEventListener( + script_src_out_of_domain',\n",
    " 'dom_function_window.addEventListener( + script_src_.js',\n",
    " 'div_count + title_count',\n",
    " 'div_count + script_async_true',\n",
    " 'div_count + p_count',\n",
    " 'div_count + meta_count',\n",
    " 'div_count + link_href_out_of_domain',\n",
    " 'div_count + img_src_out_of_domain',\n",
    " 'div_count + img_src_.jpg',\n",
    " 'center_count + script_src_out_of_domain',\n",
    " 'center_count + script_src_.js',\n",
    " 'br_count + div_count',\n",
    " 'a_href_http + div_count']"
   ]
  },
  {
   "cell_type": "code",
   "execution_count": 40,
   "metadata": {},
   "outputs": [],
   "source": [
    "fs=fs.reindex(df_sel.index.values)\n",
    "\n",
    "train=fs.iloc[:32567]\n",
    "train_Y=train.Target.values\n",
    "train_X=train[feature_name].values\n",
    "\n",
    "\n",
    "scaler=StandardScaler()\n",
    "scaled_X_train=scaler.fit_transform(train_X)\n",
    "\n",
    "test=fs.iloc[32567:]\n",
    "test_Y=test.Target.values\n",
    "test_X=test[feature_name]\n",
    "\n",
    "scaled_X_test=scaler.transform(test_X)"
   ]
  },
  {
   "cell_type": "code",
   "execution_count": 44,
   "metadata": {
    "scrolled": false
   },
   "outputs": [
    {
     "name": "stdout",
     "output_type": "stream",
     "text": [
      "\u001b[1mK-Nearest Neighbors\u001b[0m\n",
      "Accuracy of the model for training data is: 0.9095096263088402\n",
      "Confusion Matrix for training data is:\n"
     ]
    },
    {
     "data": {
      "text/plain": [
       "Predicted  False  True  __all__\n",
       "Actual                         \n",
       "False      25427  2411    27838\n",
       "True         536  4193     4729\n",
       "__all__    25963  6604    32567"
      ]
     },
     "metadata": {},
     "output_type": "display_data"
    },
    {
     "name": "stdout",
     "output_type": "stream",
     "text": [
      "Accuracy of the model for test data is: 0.9046917219356424\n",
      "Confusion Matrix for test data is:\n"
     ]
    },
    {
     "data": {
      "text/plain": [
       "Predicted  False  True  __all__\n",
       "Actual                         \n",
       "False       6318   622     6940\n",
       "True         154  1048     1202\n",
       "__all__     6472  1670     8142"
      ]
     },
     "metadata": {},
     "output_type": "display_data"
    },
    {
     "name": "stdout",
     "output_type": "stream",
     "text": [
      "\n",
      "\n",
      "\u001b[1mLogistic Regression\u001b[0m\n",
      "Accuracy of the model for training data is: 0.8921607762458931\n",
      "Confusion Matrix for training data is:\n"
     ]
    },
    {
     "data": {
      "text/plain": [
       "Predicted  False  True  __all__\n",
       "Actual                         \n",
       "False      25345  2493    27838\n",
       "True        1019  3710     4729\n",
       "__all__    26364  6203    32567"
      ]
     },
     "metadata": {},
     "output_type": "display_data"
    },
    {
     "name": "stdout",
     "output_type": "stream",
     "text": [
      "Accuracy of the model for test data is: 0.8927781871775976\n",
      "Confusion Matrix for test data is:\n"
     ]
    },
    {
     "data": {
      "text/plain": [
       "Predicted  False  True  __all__\n",
       "Actual                         \n",
       "False       6316   624     6940\n",
       "True         249   953     1202\n",
       "__all__     6565  1577     8142"
      ]
     },
     "metadata": {},
     "output_type": "display_data"
    },
    {
     "name": "stdout",
     "output_type": "stream",
     "text": [
      "\n",
      "\n",
      "\u001b[1mRandomForest Classifier\u001b[0m\n",
      "Accuracy of the model for training data is: 0.9219148217520803\n",
      "Confusion Matrix for training data is:\n"
     ]
    },
    {
     "data": {
      "text/plain": [
       "Predicted  False  True  __all__\n",
       "Actual                         \n",
       "False      25478  2360    27838\n",
       "True         183  4546     4729\n",
       "__all__    25661  6906    32567"
      ]
     },
     "metadata": {},
     "output_type": "display_data"
    },
    {
     "name": "stdout",
     "output_type": "stream",
     "text": [
      "Accuracy of the model for test data is: 0.9086219602063376\n",
      "Confusion Matrix for test data is:\n"
     ]
    },
    {
     "data": {
      "text/plain": [
       "Predicted  False  True  __all__\n",
       "Actual                         \n",
       "False       6327   613     6940\n",
       "True         131  1071     1202\n",
       "__all__     6458  1684     8142"
      ]
     },
     "metadata": {},
     "output_type": "display_data"
    },
    {
     "data": {
      "application/vnd.plotly.v1+json": {
       "config": {
        "linkText": "Export to plot.ly",
        "plotlyServerURL": "https://plot.ly",
        "showLink": true
       },
       "data": [
        {
         "marker": {
          "color": "rgb(158,202,225)",
          "line": {
           "color": "rgb(8,48,107)",
           "width": 1.5
          }
         },
         "opacity": 0.6,
         "orientation": "h",
         "text": [
          0.2111,
          0.0906,
          0.0896,
          0.0881,
          0.0804,
          0.0702,
          0.0639,
          0.061,
          0.0282,
          0.0271,
          0.0255,
          0.0154,
          0.0136,
          0.0131,
          0.0126,
          0.0123,
          0.0119,
          0.009,
          0.0078,
          0.007,
          0.0062,
          0.0061,
          0.0057,
          0.0055,
          0.0047,
          0.0044,
          0.0042,
          0.0038,
          0.0037,
          0.0037,
          0.0036,
          0.0036,
          0.0033,
          0.0032
         ],
         "textposition": "outside",
         "type": "bar",
         "uid": "9693dd35-e269-4089-93f2-fc2cb007ca99",
         "x": [
          0.21108725583717133,
          0.09060580050072002,
          0.08957492603063053,
          0.08810419906744116,
          0.08036695122534683,
          0.07017243321003597,
          0.06389829194300976,
          0.060990467955364835,
          0.028152820966634906,
          0.027101432899930555,
          0.025541518223727126,
          0.015380519203721058,
          0.013646574324847786,
          0.013128688058043975,
          0.01261860180765964,
          0.012276224071606705,
          0.011939122317284282,
          0.008987051084890127,
          0.007756428727051752,
          0.007018526545162678,
          0.00620651298332725,
          0.006058752803424293,
          0.005723249218689571,
          0.005536510048909569,
          0.004734789530317778,
          0.00436467370857122,
          0.004212986862600513,
          0.0037943192877990225,
          0.003706749273391533,
          0.0036687799111966837,
          0.00361554208960081,
          0.0035836127819211987,
          0.0032523005248789585,
          0.003193386975090548
         ],
         "y": [
          "script_async_true + title_count",
          "div_count + meta_count",
          "div_count + p_count",
          "div_count + .push",
          "a_href_https + div_count",
          "div_count + link_href_out_of_domain",
          "script_async_true + script_src_out_of_domain",
          "script_src_.js + script_src_out_of_domain",
          "div_count + li_count",
          "div_count + title_count",
          "a_href_http + div_count",
          "div_count + img_src_out_of_domain",
          "br_count + div_count",
          "div_count + img_src_.jpg",
          "center_count + script_src_.js",
          "div_count + script_async_true",
          "link_type_text/css + script_src_.js",
          "img_src_.jpg + script_async_true",
          "script_src_.js / link_href_.css",
          "center_count + script_src_out_of_domain",
          "script_src_.js",
          "form_action_http + script_src_.js",
          "window.addEventListener + script_src_out_of_domain",
          "window.addEventListener + script_src_.js",
          "form_action_http + script_src_out_of_domain",
          "link_rel_shortlink + script_src_.js",
          "link_type_application/rsd+xml + script_src_.js",
          "script_src_.js / title_count",
          "link_type_application/rsd+xml + script_src_out_of_domain",
          "script_src_out_of_domain / title_count",
          "link_rel_https://api.w.org/ + script_src_.js",
          "script_src_out_of_domain",
          "link_rel_https://api.w.org/ + script_src_out_of_domain",
          "link_rel_shortlink + script_src_out_of_domain"
         ]
        }
       ],
       "layout": {
        "autosize": false,
        "height": 1000,
        "width": 1000,
        "xaxis": {
         "tickfont": {
          "color": "black",
          "size": 12
         },
         "title": "Feature Importances"
        },
        "yaxis": {
         "automargin": true
        }
       }
      },
      "text/html": [
       "<div id=\"7aeff1fc-4473-4253-9356-2d167ac089be\" style=\"height: 1000px; width: 1000px;\" class=\"plotly-graph-div\"></div><script type=\"text/javascript\">require([\"plotly\"], function(Plotly) { window.PLOTLYENV=window.PLOTLYENV || {};window.PLOTLYENV.BASE_URL=\"https://plot.ly\";Plotly.newPlot(\"7aeff1fc-4473-4253-9356-2d167ac089be\", [{\"marker\": {\"color\": \"rgb(158,202,225)\", \"line\": {\"color\": \"rgb(8,48,107)\", \"width\": 1.5}}, \"opacity\": 0.6, \"orientation\": \"h\", \"text\": [0.2111, 0.0906, 0.0896, 0.0881, 0.0804, 0.0702, 0.0639, 0.061, 0.0282, 0.0271, 0.0255, 0.0154, 0.0136, 0.0131, 0.0126, 0.0123, 0.0119, 0.009, 0.0078, 0.007, 0.0062, 0.0061, 0.0057, 0.0055, 0.0047, 0.0044, 0.0042, 0.0038, 0.0037, 0.0037, 0.0036, 0.0036, 0.0033, 0.0032], \"textposition\": \"outside\", \"x\": [0.21108725583717133, 0.09060580050072002, 0.08957492603063053, 0.08810419906744116, 0.08036695122534683, 0.07017243321003597, 0.06389829194300976, 0.060990467955364835, 0.028152820966634906, 0.027101432899930555, 0.025541518223727126, 0.015380519203721058, 0.013646574324847786, 0.013128688058043975, 0.01261860180765964, 0.012276224071606705, 0.011939122317284282, 0.008987051084890127, 0.007756428727051752, 0.007018526545162678, 0.00620651298332725, 0.006058752803424293, 0.005723249218689571, 0.005536510048909569, 0.004734789530317778, 0.00436467370857122, 0.004212986862600513, 0.0037943192877990225, 0.003706749273391533, 0.0036687799111966837, 0.00361554208960081, 0.0035836127819211987, 0.0032523005248789585, 0.003193386975090548], \"y\": [\"script_async_true + title_count\", \"div_count + meta_count\", \"div_count + p_count\", \"div_count + .push\", \"a_href_https + div_count\", \"div_count + link_href_out_of_domain\", \"script_async_true + script_src_out_of_domain\", \"script_src_.js + script_src_out_of_domain\", \"div_count + li_count\", \"div_count + title_count\", \"a_href_http + div_count\", \"div_count + img_src_out_of_domain\", \"br_count + div_count\", \"div_count + img_src_.jpg\", \"center_count + script_src_.js\", \"div_count + script_async_true\", \"link_type_text/css + script_src_.js\", \"img_src_.jpg + script_async_true\", \"script_src_.js / link_href_.css\", \"center_count + script_src_out_of_domain\", \"script_src_.js\", \"form_action_http + script_src_.js\", \"window.addEventListener + script_src_out_of_domain\", \"window.addEventListener + script_src_.js\", \"form_action_http + script_src_out_of_domain\", \"link_rel_shortlink + script_src_.js\", \"link_type_application/rsd+xml + script_src_.js\", \"script_src_.js / title_count\", \"link_type_application/rsd+xml + script_src_out_of_domain\", \"script_src_out_of_domain / title_count\", \"link_rel_https://api.w.org/ + script_src_.js\", \"script_src_out_of_domain\", \"link_rel_https://api.w.org/ + script_src_out_of_domain\", \"link_rel_shortlink + script_src_out_of_domain\"], \"type\": \"bar\", \"uid\": \"9693dd35-e269-4089-93f2-fc2cb007ca99\"}], {\"autosize\": false, \"height\": 1000, \"width\": 1000, \"xaxis\": {\"tickfont\": {\"color\": \"black\", \"size\": 12}, \"title\": \"Feature Importances\"}, \"yaxis\": {\"automargin\": true}}, {\"showLink\": true, \"linkText\": \"Export to plot.ly\", \"plotlyServerURL\": \"https://plot.ly\"})});</script>"
      ],
      "text/vnd.plotly.v1+html": [
       "<div id=\"7aeff1fc-4473-4253-9356-2d167ac089be\" style=\"height: 1000px; width: 1000px;\" class=\"plotly-graph-div\"></div><script type=\"text/javascript\">require([\"plotly\"], function(Plotly) { window.PLOTLYENV=window.PLOTLYENV || {};window.PLOTLYENV.BASE_URL=\"https://plot.ly\";Plotly.newPlot(\"7aeff1fc-4473-4253-9356-2d167ac089be\", [{\"marker\": {\"color\": \"rgb(158,202,225)\", \"line\": {\"color\": \"rgb(8,48,107)\", \"width\": 1.5}}, \"opacity\": 0.6, \"orientation\": \"h\", \"text\": [0.2111, 0.0906, 0.0896, 0.0881, 0.0804, 0.0702, 0.0639, 0.061, 0.0282, 0.0271, 0.0255, 0.0154, 0.0136, 0.0131, 0.0126, 0.0123, 0.0119, 0.009, 0.0078, 0.007, 0.0062, 0.0061, 0.0057, 0.0055, 0.0047, 0.0044, 0.0042, 0.0038, 0.0037, 0.0037, 0.0036, 0.0036, 0.0033, 0.0032], \"textposition\": \"outside\", \"x\": [0.21108725583717133, 0.09060580050072002, 0.08957492603063053, 0.08810419906744116, 0.08036695122534683, 0.07017243321003597, 0.06389829194300976, 0.060990467955364835, 0.028152820966634906, 0.027101432899930555, 0.025541518223727126, 0.015380519203721058, 0.013646574324847786, 0.013128688058043975, 0.01261860180765964, 0.012276224071606705, 0.011939122317284282, 0.008987051084890127, 0.007756428727051752, 0.007018526545162678, 0.00620651298332725, 0.006058752803424293, 0.005723249218689571, 0.005536510048909569, 0.004734789530317778, 0.00436467370857122, 0.004212986862600513, 0.0037943192877990225, 0.003706749273391533, 0.0036687799111966837, 0.00361554208960081, 0.0035836127819211987, 0.0032523005248789585, 0.003193386975090548], \"y\": [\"script_async_true + title_count\", \"div_count + meta_count\", \"div_count + p_count\", \"div_count + .push\", \"a_href_https + div_count\", \"div_count + link_href_out_of_domain\", \"script_async_true + script_src_out_of_domain\", \"script_src_.js + script_src_out_of_domain\", \"div_count + li_count\", \"div_count + title_count\", \"a_href_http + div_count\", \"div_count + img_src_out_of_domain\", \"br_count + div_count\", \"div_count + img_src_.jpg\", \"center_count + script_src_.js\", \"div_count + script_async_true\", \"link_type_text/css + script_src_.js\", \"img_src_.jpg + script_async_true\", \"script_src_.js / link_href_.css\", \"center_count + script_src_out_of_domain\", \"script_src_.js\", \"form_action_http + script_src_.js\", \"window.addEventListener + script_src_out_of_domain\", \"window.addEventListener + script_src_.js\", \"form_action_http + script_src_out_of_domain\", \"link_rel_shortlink + script_src_.js\", \"link_type_application/rsd+xml + script_src_.js\", \"script_src_.js / title_count\", \"link_type_application/rsd+xml + script_src_out_of_domain\", \"script_src_out_of_domain / title_count\", \"link_rel_https://api.w.org/ + script_src_.js\", \"script_src_out_of_domain\", \"link_rel_https://api.w.org/ + script_src_out_of_domain\", \"link_rel_shortlink + script_src_out_of_domain\"], \"type\": \"bar\", \"uid\": \"9693dd35-e269-4089-93f2-fc2cb007ca99\"}], {\"autosize\": false, \"height\": 1000, \"width\": 1000, \"xaxis\": {\"tickfont\": {\"color\": \"black\", \"size\": 12}, \"title\": \"Feature Importances\"}, \"yaxis\": {\"automargin\": true}}, {\"showLink\": true, \"linkText\": \"Export to plot.ly\", \"plotlyServerURL\": \"https://plot.ly\"})});</script>"
      ]
     },
     "metadata": {},
     "output_type": "display_data"
    },
    {
     "name": "stdout",
     "output_type": "stream",
     "text": [
      "\n",
      "\n",
      "\u001b[1mAdaoost Classifier\u001b[0m\n",
      "Accuracy of the model for training data is: 0.8913931280130193\n",
      "Confusion Matrix for training data is:\n"
     ]
    },
    {
     "data": {
      "text/plain": [
       "Predicted  False  True  __all__\n",
       "Actual                         \n",
       "False      25340  2498    27838\n",
       "True        1039  3690     4729\n",
       "__all__    26379  6188    32567"
      ]
     },
     "metadata": {},
     "output_type": "display_data"
    },
    {
     "name": "stdout",
     "output_type": "stream",
     "text": [
      "Accuracy of the model for test data is: 0.8922869073937607\n",
      "Confusion Matrix for test data is:\n"
     ]
    },
    {
     "data": {
      "text/plain": [
       "Predicted  False  True  __all__\n",
       "Actual                         \n",
       "False       6318   622     6940\n",
       "True         255   947     1202\n",
       "__all__     6573  1569     8142"
      ]
     },
     "metadata": {},
     "output_type": "display_data"
    },
    {
     "data": {
      "application/vnd.plotly.v1+json": {
       "config": {
        "linkText": "Export to plot.ly",
        "plotlyServerURL": "https://plot.ly",
        "showLink": true
       },
       "data": [
        {
         "marker": {
          "color": "rgb(158,202,225)",
          "line": {
           "color": "rgb(8,48,107)",
           "width": 1.5
          }
         },
         "opacity": 0.6,
         "orientation": "h",
         "text": [
          0.18,
          0.14,
          0.12,
          0.12,
          0.06,
          0.04,
          0.04,
          0.04,
          0.04,
          0.04,
          0.04,
          0.02,
          0.02,
          0.02,
          0.02,
          0.02,
          0.02,
          0.02,
          0,
          0,
          0,
          0,
          0,
          0,
          0,
          0,
          0,
          0,
          0,
          0,
          0,
          0,
          0,
          0
         ],
         "textposition": "outside",
         "type": "bar",
         "uid": "27debc52-9395-413d-aa9d-24e8c5e0404c",
         "x": [
          0.18,
          0.14,
          0.12,
          0.12,
          0.06,
          0.04,
          0.04,
          0.04,
          0.04,
          0.04,
          0.04,
          0.02,
          0.02,
          0.02,
          0.02,
          0.02,
          0.02,
          0.02,
          0,
          0,
          0,
          0,
          0,
          0,
          0,
          0,
          0,
          0,
          0,
          0,
          0,
          0,
          0,
          0
         ],
         "y": [
          "a_href_https + div_count",
          "div_count + p_count",
          "link_type_text/css + script_src_.js",
          "script_async_true + title_count",
          "script_src_.js + script_src_out_of_domain",
          "img_src_.jpg + script_async_true",
          "window.addEventListener + script_src_.js",
          "center_count + script_src_out_of_domain",
          "a_href_http + div_count",
          "script_src_.js / link_href_.css",
          "script_src_.js / title_count",
          "center_count + script_src_.js",
          "div_count + img_src_.jpg",
          "div_count + img_src_out_of_domain",
          "link_rel_shortlink + script_src_out_of_domain",
          "div_count + meta_count",
          "script_src_out_of_domain",
          "window.addEventListener + script_src_out_of_domain",
          "div_count + link_href_out_of_domain",
          "br_count + div_count",
          "div_count + script_async_true",
          "div_count + title_count",
          "div_count + li_count",
          "form_action_http + script_src_.js",
          "form_action_http + script_src_out_of_domain",
          "div_count + .push",
          "link_rel_https://api.w.org/ + script_src_out_of_domain",
          "link_rel_shortlink + script_src_.js",
          "link_type_application/rsd+xml + script_src_.js",
          "link_type_application/rsd+xml + script_src_out_of_domain",
          "script_async_true + script_src_out_of_domain",
          "script_src_.js",
          "script_src_out_of_domain / title_count",
          "link_rel_https://api.w.org/ + script_src_.js"
         ]
        }
       ],
       "layout": {
        "autosize": false,
        "height": 1000,
        "width": 1000,
        "xaxis": {
         "tickfont": {
          "color": "black",
          "size": 12
         },
         "title": "Feature Importances"
        },
        "yaxis": {
         "automargin": true
        }
       }
      },
      "text/html": [
       "<div id=\"52032d7a-1181-4a7a-8de5-d0d1fe3741fa\" style=\"height: 1000px; width: 1000px;\" class=\"plotly-graph-div\"></div><script type=\"text/javascript\">require([\"plotly\"], function(Plotly) { window.PLOTLYENV=window.PLOTLYENV || {};window.PLOTLYENV.BASE_URL=\"https://plot.ly\";Plotly.newPlot(\"52032d7a-1181-4a7a-8de5-d0d1fe3741fa\", [{\"marker\": {\"color\": \"rgb(158,202,225)\", \"line\": {\"color\": \"rgb(8,48,107)\", \"width\": 1.5}}, \"opacity\": 0.6, \"orientation\": \"h\", \"text\": [0.18, 0.14, 0.12, 0.12, 0.06, 0.04, 0.04, 0.04, 0.04, 0.04, 0.04, 0.02, 0.02, 0.02, 0.02, 0.02, 0.02, 0.02, 0.0, 0.0, 0.0, 0.0, 0.0, 0.0, 0.0, 0.0, 0.0, 0.0, 0.0, 0.0, 0.0, 0.0, 0.0, 0.0], \"textposition\": \"outside\", \"x\": [0.18, 0.14, 0.12, 0.12, 0.06, 0.04, 0.04, 0.04, 0.04, 0.04, 0.04, 0.02, 0.02, 0.02, 0.02, 0.02, 0.02, 0.02, 0.0, 0.0, 0.0, 0.0, 0.0, 0.0, 0.0, 0.0, 0.0, 0.0, 0.0, 0.0, 0.0, 0.0, 0.0, 0.0], \"y\": [\"a_href_https + div_count\", \"div_count + p_count\", \"link_type_text/css + script_src_.js\", \"script_async_true + title_count\", \"script_src_.js + script_src_out_of_domain\", \"img_src_.jpg + script_async_true\", \"window.addEventListener + script_src_.js\", \"center_count + script_src_out_of_domain\", \"a_href_http + div_count\", \"script_src_.js / link_href_.css\", \"script_src_.js / title_count\", \"center_count + script_src_.js\", \"div_count + img_src_.jpg\", \"div_count + img_src_out_of_domain\", \"link_rel_shortlink + script_src_out_of_domain\", \"div_count + meta_count\", \"script_src_out_of_domain\", \"window.addEventListener + script_src_out_of_domain\", \"div_count + link_href_out_of_domain\", \"br_count + div_count\", \"div_count + script_async_true\", \"div_count + title_count\", \"div_count + li_count\", \"form_action_http + script_src_.js\", \"form_action_http + script_src_out_of_domain\", \"div_count + .push\", \"link_rel_https://api.w.org/ + script_src_out_of_domain\", \"link_rel_shortlink + script_src_.js\", \"link_type_application/rsd+xml + script_src_.js\", \"link_type_application/rsd+xml + script_src_out_of_domain\", \"script_async_true + script_src_out_of_domain\", \"script_src_.js\", \"script_src_out_of_domain / title_count\", \"link_rel_https://api.w.org/ + script_src_.js\"], \"type\": \"bar\", \"uid\": \"27debc52-9395-413d-aa9d-24e8c5e0404c\"}], {\"autosize\": false, \"height\": 1000, \"width\": 1000, \"xaxis\": {\"tickfont\": {\"color\": \"black\", \"size\": 12}, \"title\": \"Feature Importances\"}, \"yaxis\": {\"automargin\": true}}, {\"showLink\": true, \"linkText\": \"Export to plot.ly\", \"plotlyServerURL\": \"https://plot.ly\"})});</script>"
      ],
      "text/vnd.plotly.v1+html": [
       "<div id=\"52032d7a-1181-4a7a-8de5-d0d1fe3741fa\" style=\"height: 1000px; width: 1000px;\" class=\"plotly-graph-div\"></div><script type=\"text/javascript\">require([\"plotly\"], function(Plotly) { window.PLOTLYENV=window.PLOTLYENV || {};window.PLOTLYENV.BASE_URL=\"https://plot.ly\";Plotly.newPlot(\"52032d7a-1181-4a7a-8de5-d0d1fe3741fa\", [{\"marker\": {\"color\": \"rgb(158,202,225)\", \"line\": {\"color\": \"rgb(8,48,107)\", \"width\": 1.5}}, \"opacity\": 0.6, \"orientation\": \"h\", \"text\": [0.18, 0.14, 0.12, 0.12, 0.06, 0.04, 0.04, 0.04, 0.04, 0.04, 0.04, 0.02, 0.02, 0.02, 0.02, 0.02, 0.02, 0.02, 0.0, 0.0, 0.0, 0.0, 0.0, 0.0, 0.0, 0.0, 0.0, 0.0, 0.0, 0.0, 0.0, 0.0, 0.0, 0.0], \"textposition\": \"outside\", \"x\": [0.18, 0.14, 0.12, 0.12, 0.06, 0.04, 0.04, 0.04, 0.04, 0.04, 0.04, 0.02, 0.02, 0.02, 0.02, 0.02, 0.02, 0.02, 0.0, 0.0, 0.0, 0.0, 0.0, 0.0, 0.0, 0.0, 0.0, 0.0, 0.0, 0.0, 0.0, 0.0, 0.0, 0.0], \"y\": [\"a_href_https + div_count\", \"div_count + p_count\", \"link_type_text/css + script_src_.js\", \"script_async_true + title_count\", \"script_src_.js + script_src_out_of_domain\", \"img_src_.jpg + script_async_true\", \"window.addEventListener + script_src_.js\", \"center_count + script_src_out_of_domain\", \"a_href_http + div_count\", \"script_src_.js / link_href_.css\", \"script_src_.js / title_count\", \"center_count + script_src_.js\", \"div_count + img_src_.jpg\", \"div_count + img_src_out_of_domain\", \"link_rel_shortlink + script_src_out_of_domain\", \"div_count + meta_count\", \"script_src_out_of_domain\", \"window.addEventListener + script_src_out_of_domain\", \"div_count + link_href_out_of_domain\", \"br_count + div_count\", \"div_count + script_async_true\", \"div_count + title_count\", \"div_count + li_count\", \"form_action_http + script_src_.js\", \"form_action_http + script_src_out_of_domain\", \"div_count + .push\", \"link_rel_https://api.w.org/ + script_src_out_of_domain\", \"link_rel_shortlink + script_src_.js\", \"link_type_application/rsd+xml + script_src_.js\", \"link_type_application/rsd+xml + script_src_out_of_domain\", \"script_async_true + script_src_out_of_domain\", \"script_src_.js\", \"script_src_out_of_domain / title_count\", \"link_rel_https://api.w.org/ + script_src_.js\"], \"type\": \"bar\", \"uid\": \"27debc52-9395-413d-aa9d-24e8c5e0404c\"}], {\"autosize\": false, \"height\": 1000, \"width\": 1000, \"xaxis\": {\"tickfont\": {\"color\": \"black\", \"size\": 12}, \"title\": \"Feature Importances\"}, \"yaxis\": {\"automargin\": true}}, {\"showLink\": true, \"linkText\": \"Export to plot.ly\", \"plotlyServerURL\": \"https://plot.ly\"})});</script>"
      ]
     },
     "metadata": {},
     "output_type": "display_data"
    },
    {
     "name": "stdout",
     "output_type": "stream",
     "text": [
      "\n",
      "\n",
      "\u001b[1mGradientBoosting Classifier\u001b[0m\n"
     ]
    },
    {
     "name": "stderr",
     "output_type": "stream",
     "text": [
      "distributed.utils - ERROR - \n",
      "Traceback (most recent call last):\n",
      "  File \"/nethomes/darshan/anaconda3/lib/python3.6/site-packages/distributed/utils.py\", line 713, in log_errors\n",
      "    yield\n",
      "  File \"/nethomes/darshan/anaconda3/lib/python3.6/site-packages/distributed/client.py\", line 1223, in _close\n",
      "    quiet_exceptions=(CancelledError,),\n",
      "  File \"/nethomes/darshan/anaconda3/lib/python3.6/site-packages/tornado/gen.py\", line 584, in with_timeout\n",
      "    chain_future(future_converted, result)\n",
      "  File \"/nethomes/darshan/anaconda3/lib/python3.6/site-packages/tornado/concurrent.py\", line 166, in chain_future\n",
      "    future_add_done_callback(a, copy)\n",
      "  File \"/nethomes/darshan/anaconda3/lib/python3.6/site-packages/tornado/concurrent.py\", line 262, in future_add_done_callback\n",
      "    callback(future)\n",
      "  File \"/nethomes/darshan/anaconda3/lib/python3.6/site-packages/tornado/concurrent.py\", line 160, in copy\n",
      "    elif a.exception() is not None:\n",
      "concurrent.futures._base.CancelledError\n",
      "Exception ignored in: <bound method Client.__del__ of <Client: not connected>>\n",
      "Traceback (most recent call last):\n",
      "  File \"/nethomes/darshan/anaconda3/lib/python3.6/site-packages/distributed/client.py\", line 1075, in __del__\n",
      "    self.close()\n",
      "  File \"/nethomes/darshan/anaconda3/lib/python3.6/site-packages/distributed/client.py\", line 1290, in close\n",
      "    sync(self.loop, self._close, fast=True)\n",
      "  File \"/nethomes/darshan/anaconda3/lib/python3.6/site-packages/distributed/utils.py\", line 331, in sync\n",
      "    six.reraise(*error[0])\n",
      "  File \"/nethomes/darshan/anaconda3/lib/python3.6/site-packages/six.py\", line 693, in reraise\n",
      "    raise value\n",
      "  File \"/nethomes/darshan/anaconda3/lib/python3.6/site-packages/distributed/utils.py\", line 316, in f\n",
      "    result[0] = yield future\n",
      "  File \"/nethomes/darshan/anaconda3/lib/python3.6/site-packages/tornado/gen.py\", line 729, in run\n",
      "    value = future.result()\n",
      "  File \"/nethomes/darshan/anaconda3/lib/python3.6/site-packages/tornado/gen.py\", line 209, in wrapper\n",
      "    yielded = next(result)\n",
      "  File \"/nethomes/darshan/anaconda3/lib/python3.6/site-packages/distributed/client.py\", line 1223, in _close\n",
      "    quiet_exceptions=(CancelledError,),\n",
      "  File \"/nethomes/darshan/anaconda3/lib/python3.6/site-packages/tornado/gen.py\", line 584, in with_timeout\n",
      "    chain_future(future_converted, result)\n",
      "  File \"/nethomes/darshan/anaconda3/lib/python3.6/site-packages/tornado/concurrent.py\", line 166, in chain_future\n",
      "    future_add_done_callback(a, copy)\n",
      "  File \"/nethomes/darshan/anaconda3/lib/python3.6/site-packages/tornado/concurrent.py\", line 262, in future_add_done_callback\n",
      "    callback(future)\n",
      "  File \"/nethomes/darshan/anaconda3/lib/python3.6/site-packages/tornado/concurrent.py\", line 160, in copy\n",
      "    elif a.exception() is not None:\n",
      "concurrent.futures._base.CancelledError: \n"
     ]
    },
    {
     "name": "stdout",
     "output_type": "stream",
     "text": [
      "Accuracy of the model for training data is: 0.9064390333773452\n",
      "Confusion Matrix for training data is:\n"
     ]
    },
    {
     "data": {
      "text/plain": [
       "Predicted  False  True  __all__\n",
       "Actual                         \n",
       "False      25513  2325    27838\n",
       "True         722  4007     4729\n",
       "__all__    26235  6332    32567"
      ]
     },
     "metadata": {},
     "output_type": "display_data"
    },
    {
     "name": "stdout",
     "output_type": "stream",
     "text": [
      "Accuracy of the model for test data is: 0.9049373618275608\n",
      "Confusion Matrix for test data is:\n"
     ]
    },
    {
     "data": {
      "text/plain": [
       "Predicted  False  True  __all__\n",
       "Actual                         \n",
       "False       6350   590     6940\n",
       "True         184  1018     1202\n",
       "__all__     6534  1608     8142"
      ]
     },
     "metadata": {},
     "output_type": "display_data"
    },
    {
     "data": {
      "application/vnd.plotly.v1+json": {
       "config": {
        "linkText": "Export to plot.ly",
        "plotlyServerURL": "https://plot.ly",
        "showLink": true
       },
       "data": [
        {
         "marker": {
          "color": "rgb(158,202,225)",
          "line": {
           "color": "rgb(8,48,107)",
           "width": 1.5
          }
         },
         "opacity": 0.6,
         "orientation": "h",
         "text": [
          0.6595,
          0.1139,
          0.0381,
          0.0277,
          0.0249,
          0.0234,
          0.0204,
          0.017,
          0.0095,
          0.0076,
          0.0067,
          0.0066,
          0.0055,
          0.0053,
          0.0043,
          0.0035,
          0.0031,
          0.003,
          0.0028,
          0.0027,
          0.0027,
          0.0026,
          0.0023,
          0.0021,
          0.0013,
          0.0009,
          0.0006,
          0.0005,
          0.0004,
          0.0004,
          0.0002,
          0.0001,
          0.0001,
          0
         ],
         "textposition": "outside",
         "type": "bar",
         "uid": "b4711aef-e805-4af6-ba45-404d98a4472f",
         "x": [
          0.6594951188197038,
          0.11388147026565772,
          0.03814283233526037,
          0.027734959487522963,
          0.024888113116707723,
          0.023401126728722865,
          0.020410269904490557,
          0.017043872117469498,
          0.009526454158260787,
          0.007564347991805342,
          0.006651582081599914,
          0.006638037577920476,
          0.005487558418437115,
          0.0052500026287989636,
          0.0042788003096412746,
          0.0035403644200064427,
          0.003129437224091044,
          0.0029812967468554868,
          0.0028380327320849984,
          0.002722462560136894,
          0.0027140621727946563,
          0.0026482920086199763,
          0.0022930955539787975,
          0.002057271888283962,
          0.0013312921300427478,
          0.0009355083417619523,
          0.0005860723587549934,
          0.00048120662647739337,
          0.0004491849030347095,
          0.00042094819286507605,
          0.00024778141009989814,
          0.0001193284497717342,
          0.00010981633833988151,
          0
         ],
         "y": [
          "script_async_true + title_count",
          "script_async_true + script_src_out_of_domain",
          "a_href_https + div_count",
          "div_count + p_count",
          "center_count + script_src_.js",
          "a_href_http + div_count",
          "div_count + .push",
          "div_count + title_count",
          "div_count + meta_count",
          "window.addEventListener + script_src_out_of_domain",
          "div_count + img_src_out_of_domain",
          "center_count + script_src_out_of_domain",
          "form_action_http + script_src_.js",
          "link_type_text/css + script_src_.js",
          "form_action_http + script_src_out_of_domain",
          "div_count + li_count",
          "div_count + img_src_.jpg",
          "script_src_.js + script_src_out_of_domain",
          "br_count + div_count",
          "window.addEventListener + script_src_.js",
          "link_type_application/rsd+xml + script_src_out_of_domain",
          "img_src_.jpg + script_async_true",
          "script_src_.js / link_href_.css",
          "div_count + link_href_out_of_domain",
          "link_type_application/rsd+xml + script_src_.js",
          "div_count + script_async_true",
          "link_rel_shortlink + script_src_out_of_domain",
          "link_rel_https://api.w.org/ + script_src_out_of_domain",
          "link_rel_shortlink + script_src_.js",
          "script_src_.js / title_count",
          "script_src_out_of_domain / title_count",
          "script_src_out_of_domain",
          "script_src_.js",
          "link_rel_https://api.w.org/ + script_src_.js"
         ]
        }
       ],
       "layout": {
        "autosize": false,
        "height": 1000,
        "width": 1000,
        "xaxis": {
         "tickfont": {
          "color": "black",
          "size": 12
         },
         "title": "Feature Importances"
        },
        "yaxis": {
         "automargin": true
        }
       }
      },
      "text/html": [
       "<div id=\"b5e8b66f-e603-4ede-a9ec-da2dfdd52477\" style=\"height: 1000px; width: 1000px;\" class=\"plotly-graph-div\"></div><script type=\"text/javascript\">require([\"plotly\"], function(Plotly) { window.PLOTLYENV=window.PLOTLYENV || {};window.PLOTLYENV.BASE_URL=\"https://plot.ly\";Plotly.newPlot(\"b5e8b66f-e603-4ede-a9ec-da2dfdd52477\", [{\"marker\": {\"color\": \"rgb(158,202,225)\", \"line\": {\"color\": \"rgb(8,48,107)\", \"width\": 1.5}}, \"opacity\": 0.6, \"orientation\": \"h\", \"text\": [0.6595, 0.1139, 0.0381, 0.0277, 0.0249, 0.0234, 0.0204, 0.017, 0.0095, 0.0076, 0.0067, 0.0066, 0.0055, 0.0053, 0.0043, 0.0035, 0.0031, 0.003, 0.0028, 0.0027, 0.0027, 0.0026, 0.0023, 0.0021, 0.0013, 0.0009, 0.0006, 0.0005, 0.0004, 0.0004, 0.0002, 0.0001, 0.0001, 0.0], \"textposition\": \"outside\", \"x\": [0.6594951188197038, 0.11388147026565772, 0.03814283233526037, 0.027734959487522963, 0.024888113116707723, 0.023401126728722865, 0.020410269904490557, 0.017043872117469498, 0.009526454158260787, 0.007564347991805342, 0.006651582081599914, 0.006638037577920476, 0.005487558418437115, 0.0052500026287989636, 0.0042788003096412746, 0.0035403644200064427, 0.003129437224091044, 0.0029812967468554868, 0.0028380327320849984, 0.002722462560136894, 0.0027140621727946563, 0.0026482920086199763, 0.0022930955539787975, 0.002057271888283962, 0.0013312921300427478, 0.0009355083417619523, 0.0005860723587549934, 0.00048120662647739337, 0.0004491849030347095, 0.00042094819286507605, 0.00024778141009989814, 0.0001193284497717342, 0.00010981633833988151, 0.0], \"y\": [\"script_async_true + title_count\", \"script_async_true + script_src_out_of_domain\", \"a_href_https + div_count\", \"div_count + p_count\", \"center_count + script_src_.js\", \"a_href_http + div_count\", \"div_count + .push\", \"div_count + title_count\", \"div_count + meta_count\", \"window.addEventListener + script_src_out_of_domain\", \"div_count + img_src_out_of_domain\", \"center_count + script_src_out_of_domain\", \"form_action_http + script_src_.js\", \"link_type_text/css + script_src_.js\", \"form_action_http + script_src_out_of_domain\", \"div_count + li_count\", \"div_count + img_src_.jpg\", \"script_src_.js + script_src_out_of_domain\", \"br_count + div_count\", \"window.addEventListener + script_src_.js\", \"link_type_application/rsd+xml + script_src_out_of_domain\", \"img_src_.jpg + script_async_true\", \"script_src_.js / link_href_.css\", \"div_count + link_href_out_of_domain\", \"link_type_application/rsd+xml + script_src_.js\", \"div_count + script_async_true\", \"link_rel_shortlink + script_src_out_of_domain\", \"link_rel_https://api.w.org/ + script_src_out_of_domain\", \"link_rel_shortlink + script_src_.js\", \"script_src_.js / title_count\", \"script_src_out_of_domain / title_count\", \"script_src_out_of_domain\", \"script_src_.js\", \"link_rel_https://api.w.org/ + script_src_.js\"], \"type\": \"bar\", \"uid\": \"b4711aef-e805-4af6-ba45-404d98a4472f\"}], {\"autosize\": false, \"height\": 1000, \"width\": 1000, \"xaxis\": {\"tickfont\": {\"color\": \"black\", \"size\": 12}, \"title\": \"Feature Importances\"}, \"yaxis\": {\"automargin\": true}}, {\"showLink\": true, \"linkText\": \"Export to plot.ly\", \"plotlyServerURL\": \"https://plot.ly\"})});</script>"
      ],
      "text/vnd.plotly.v1+html": [
       "<div id=\"b5e8b66f-e603-4ede-a9ec-da2dfdd52477\" style=\"height: 1000px; width: 1000px;\" class=\"plotly-graph-div\"></div><script type=\"text/javascript\">require([\"plotly\"], function(Plotly) { window.PLOTLYENV=window.PLOTLYENV || {};window.PLOTLYENV.BASE_URL=\"https://plot.ly\";Plotly.newPlot(\"b5e8b66f-e603-4ede-a9ec-da2dfdd52477\", [{\"marker\": {\"color\": \"rgb(158,202,225)\", \"line\": {\"color\": \"rgb(8,48,107)\", \"width\": 1.5}}, \"opacity\": 0.6, \"orientation\": \"h\", \"text\": [0.6595, 0.1139, 0.0381, 0.0277, 0.0249, 0.0234, 0.0204, 0.017, 0.0095, 0.0076, 0.0067, 0.0066, 0.0055, 0.0053, 0.0043, 0.0035, 0.0031, 0.003, 0.0028, 0.0027, 0.0027, 0.0026, 0.0023, 0.0021, 0.0013, 0.0009, 0.0006, 0.0005, 0.0004, 0.0004, 0.0002, 0.0001, 0.0001, 0.0], \"textposition\": \"outside\", \"x\": [0.6594951188197038, 0.11388147026565772, 0.03814283233526037, 0.027734959487522963, 0.024888113116707723, 0.023401126728722865, 0.020410269904490557, 0.017043872117469498, 0.009526454158260787, 0.007564347991805342, 0.006651582081599914, 0.006638037577920476, 0.005487558418437115, 0.0052500026287989636, 0.0042788003096412746, 0.0035403644200064427, 0.003129437224091044, 0.0029812967468554868, 0.0028380327320849984, 0.002722462560136894, 0.0027140621727946563, 0.0026482920086199763, 0.0022930955539787975, 0.002057271888283962, 0.0013312921300427478, 0.0009355083417619523, 0.0005860723587549934, 0.00048120662647739337, 0.0004491849030347095, 0.00042094819286507605, 0.00024778141009989814, 0.0001193284497717342, 0.00010981633833988151, 0.0], \"y\": [\"script_async_true + title_count\", \"script_async_true + script_src_out_of_domain\", \"a_href_https + div_count\", \"div_count + p_count\", \"center_count + script_src_.js\", \"a_href_http + div_count\", \"div_count + .push\", \"div_count + title_count\", \"div_count + meta_count\", \"window.addEventListener + script_src_out_of_domain\", \"div_count + img_src_out_of_domain\", \"center_count + script_src_out_of_domain\", \"form_action_http + script_src_.js\", \"link_type_text/css + script_src_.js\", \"form_action_http + script_src_out_of_domain\", \"div_count + li_count\", \"div_count + img_src_.jpg\", \"script_src_.js + script_src_out_of_domain\", \"br_count + div_count\", \"window.addEventListener + script_src_.js\", \"link_type_application/rsd+xml + script_src_out_of_domain\", \"img_src_.jpg + script_async_true\", \"script_src_.js / link_href_.css\", \"div_count + link_href_out_of_domain\", \"link_type_application/rsd+xml + script_src_.js\", \"div_count + script_async_true\", \"link_rel_shortlink + script_src_out_of_domain\", \"link_rel_https://api.w.org/ + script_src_out_of_domain\", \"link_rel_shortlink + script_src_.js\", \"script_src_.js / title_count\", \"script_src_out_of_domain / title_count\", \"script_src_out_of_domain\", \"script_src_.js\", \"link_rel_https://api.w.org/ + script_src_.js\"], \"type\": \"bar\", \"uid\": \"b4711aef-e805-4af6-ba45-404d98a4472f\"}], {\"autosize\": false, \"height\": 1000, \"width\": 1000, \"xaxis\": {\"tickfont\": {\"color\": \"black\", \"size\": 12}, \"title\": \"Feature Importances\"}, \"yaxis\": {\"automargin\": true}}, {\"showLink\": true, \"linkText\": \"Export to plot.ly\", \"plotlyServerURL\": \"https://plot.ly\"})});</script>"
      ]
     },
     "metadata": {},
     "output_type": "display_data"
    },
    {
     "name": "stdout",
     "output_type": "stream",
     "text": [
      "\n",
      "\n",
      "\u001b[1mExtraTree Classifier\u001b[0m\n",
      "Accuracy of the model for training data is: 0.923972119016182\n",
      "Confusion Matrix for training data is:\n"
     ]
    },
    {
     "data": {
      "text/plain": [
       "Predicted  False  True  __all__\n",
       "Actual                         \n",
       "False      25485  2353    27838\n",
       "True         123  4606     4729\n",
       "__all__    25608  6959    32567"
      ]
     },
     "metadata": {},
     "output_type": "display_data"
    },
    {
     "name": "stdout",
     "output_type": "stream",
     "text": [
      "Accuracy of the model for test data is: 0.9091132399901743\n",
      "Confusion Matrix for test data is:\n"
     ]
    },
    {
     "data": {
      "text/plain": [
       "Predicted  False  True  __all__\n",
       "Actual                         \n",
       "False       6325   615     6940\n",
       "True         125  1077     1202\n",
       "__all__     6450  1692     8142"
      ]
     },
     "metadata": {},
     "output_type": "display_data"
    },
    {
     "data": {
      "application/vnd.plotly.v1+json": {
       "config": {
        "linkText": "Export to plot.ly",
        "plotlyServerURL": "https://plot.ly",
        "showLink": true
       },
       "data": [
        {
         "marker": {
          "color": "rgb(158,202,225)",
          "line": {
           "color": "rgb(8,48,107)",
           "width": 1.5
          }
         },
         "opacity": 0.6,
         "orientation": "h",
         "text": [
          0.1129,
          0.0978,
          0.079,
          0.0732,
          0.0471,
          0.041,
          0.0376,
          0.0351,
          0.0312,
          0.0312,
          0.0311,
          0.0292,
          0.028,
          0.0252,
          0.0248,
          0.0248,
          0.0239,
          0.0217,
          0.0207,
          0.0198,
          0.0176,
          0.0153,
          0.015,
          0.0143,
          0.0142,
          0.0139,
          0.0131,
          0.0127,
          0.0118,
          0.0097,
          0.0086,
          0.0081,
          0.0064,
          0.0043
         ],
         "textposition": "outside",
         "type": "bar",
         "uid": "928805dc-d172-46f8-9c61-2f3f4b9eb86a",
         "x": [
          0.11289933046657105,
          0.09781280794731581,
          0.07899054577702207,
          0.07318861101538014,
          0.047081196580983996,
          0.04097893384844559,
          0.03757750847063536,
          0.03509498863942814,
          0.031213808552893386,
          0.031174552513882896,
          0.031103041316293517,
          0.029174592036263186,
          0.027967749912510814,
          0.025172997003475493,
          0.024764011908590122,
          0.024762743377897873,
          0.023945792569602685,
          0.021698460814687112,
          0.020654845766604178,
          0.01978452138825492,
          0.01756331396244246,
          0.015269512769326324,
          0.015005105482385612,
          0.014291397950850788,
          0.014218043187829748,
          0.013949767015019718,
          0.013050246771749282,
          0.0127197599966947,
          0.01175313269272984,
          0.009739941799567374,
          0.008584709020618926,
          0.008080333739702721,
          0.0064189689123221455,
          0.004314726792021958
         ],
         "y": [
          "link_type_text/css + script_src_.js",
          "script_async_true + title_count",
          "window.addEventListener + script_src_.js",
          "script_src_.js",
          "link_rel_https://api.w.org/ + script_src_.js",
          "link_rel_shortlink + script_src_.js",
          "link_rel_https://api.w.org/ + script_src_out_of_domain",
          "div_count + title_count",
          "script_src_out_of_domain",
          "script_src_.js / link_href_.css",
          "div_count + .push",
          "window.addEventListener + script_src_out_of_domain",
          "a_href_http + div_count",
          "div_count + p_count",
          "center_count + script_src_.js",
          "br_count + div_count",
          "div_count + meta_count",
          "form_action_http + script_src_.js",
          "div_count + link_href_out_of_domain",
          "center_count + script_src_out_of_domain",
          "a_href_https + div_count",
          "div_count + script_async_true",
          "div_count + li_count",
          "link_type_application/rsd+xml + script_src_out_of_domain",
          "div_count + img_src_out_of_domain",
          "img_src_.jpg + script_async_true",
          "div_count + img_src_.jpg",
          "script_src_.js / title_count",
          "link_rel_shortlink + script_src_out_of_domain",
          "script_async_true + script_src_out_of_domain",
          "script_src_.js + script_src_out_of_domain",
          "form_action_http + script_src_out_of_domain",
          "link_type_application/rsd+xml + script_src_.js",
          "script_src_out_of_domain / title_count"
         ]
        }
       ],
       "layout": {
        "autosize": false,
        "height": 1000,
        "width": 1000,
        "xaxis": {
         "tickfont": {
          "color": "black",
          "size": 12
         },
         "title": "Feature Importances"
        },
        "yaxis": {
         "automargin": true
        }
       }
      },
      "text/html": [
       "<div id=\"d31e9573-56e5-4038-9023-e2b4bd8227f3\" style=\"height: 1000px; width: 1000px;\" class=\"plotly-graph-div\"></div><script type=\"text/javascript\">require([\"plotly\"], function(Plotly) { window.PLOTLYENV=window.PLOTLYENV || {};window.PLOTLYENV.BASE_URL=\"https://plot.ly\";Plotly.newPlot(\"d31e9573-56e5-4038-9023-e2b4bd8227f3\", [{\"marker\": {\"color\": \"rgb(158,202,225)\", \"line\": {\"color\": \"rgb(8,48,107)\", \"width\": 1.5}}, \"opacity\": 0.6, \"orientation\": \"h\", \"text\": [0.1129, 0.0978, 0.079, 0.0732, 0.0471, 0.041, 0.0376, 0.0351, 0.0312, 0.0312, 0.0311, 0.0292, 0.028, 0.0252, 0.0248, 0.0248, 0.0239, 0.0217, 0.0207, 0.0198, 0.0176, 0.0153, 0.015, 0.0143, 0.0142, 0.0139, 0.0131, 0.0127, 0.0118, 0.0097, 0.0086, 0.0081, 0.0064, 0.0043], \"textposition\": \"outside\", \"x\": [0.11289933046657105, 0.09781280794731581, 0.07899054577702207, 0.07318861101538014, 0.047081196580983996, 0.04097893384844559, 0.03757750847063536, 0.03509498863942814, 0.031213808552893386, 0.031174552513882896, 0.031103041316293517, 0.029174592036263186, 0.027967749912510814, 0.025172997003475493, 0.024764011908590122, 0.024762743377897873, 0.023945792569602685, 0.021698460814687112, 0.020654845766604178, 0.01978452138825492, 0.01756331396244246, 0.015269512769326324, 0.015005105482385612, 0.014291397950850788, 0.014218043187829748, 0.013949767015019718, 0.013050246771749282, 0.0127197599966947, 0.01175313269272984, 0.009739941799567374, 0.008584709020618926, 0.008080333739702721, 0.0064189689123221455, 0.004314726792021958], \"y\": [\"link_type_text/css + script_src_.js\", \"script_async_true + title_count\", \"window.addEventListener + script_src_.js\", \"script_src_.js\", \"link_rel_https://api.w.org/ + script_src_.js\", \"link_rel_shortlink + script_src_.js\", \"link_rel_https://api.w.org/ + script_src_out_of_domain\", \"div_count + title_count\", \"script_src_out_of_domain\", \"script_src_.js / link_href_.css\", \"div_count + .push\", \"window.addEventListener + script_src_out_of_domain\", \"a_href_http + div_count\", \"div_count + p_count\", \"center_count + script_src_.js\", \"br_count + div_count\", \"div_count + meta_count\", \"form_action_http + script_src_.js\", \"div_count + link_href_out_of_domain\", \"center_count + script_src_out_of_domain\", \"a_href_https + div_count\", \"div_count + script_async_true\", \"div_count + li_count\", \"link_type_application/rsd+xml + script_src_out_of_domain\", \"div_count + img_src_out_of_domain\", \"img_src_.jpg + script_async_true\", \"div_count + img_src_.jpg\", \"script_src_.js / title_count\", \"link_rel_shortlink + script_src_out_of_domain\", \"script_async_true + script_src_out_of_domain\", \"script_src_.js + script_src_out_of_domain\", \"form_action_http + script_src_out_of_domain\", \"link_type_application/rsd+xml + script_src_.js\", \"script_src_out_of_domain / title_count\"], \"type\": \"bar\", \"uid\": \"928805dc-d172-46f8-9c61-2f3f4b9eb86a\"}], {\"autosize\": false, \"height\": 1000, \"width\": 1000, \"xaxis\": {\"tickfont\": {\"color\": \"black\", \"size\": 12}, \"title\": \"Feature Importances\"}, \"yaxis\": {\"automargin\": true}}, {\"showLink\": true, \"linkText\": \"Export to plot.ly\", \"plotlyServerURL\": \"https://plot.ly\"})});</script>"
      ],
      "text/vnd.plotly.v1+html": [
       "<div id=\"d31e9573-56e5-4038-9023-e2b4bd8227f3\" style=\"height: 1000px; width: 1000px;\" class=\"plotly-graph-div\"></div><script type=\"text/javascript\">require([\"plotly\"], function(Plotly) { window.PLOTLYENV=window.PLOTLYENV || {};window.PLOTLYENV.BASE_URL=\"https://plot.ly\";Plotly.newPlot(\"d31e9573-56e5-4038-9023-e2b4bd8227f3\", [{\"marker\": {\"color\": \"rgb(158,202,225)\", \"line\": {\"color\": \"rgb(8,48,107)\", \"width\": 1.5}}, \"opacity\": 0.6, \"orientation\": \"h\", \"text\": [0.1129, 0.0978, 0.079, 0.0732, 0.0471, 0.041, 0.0376, 0.0351, 0.0312, 0.0312, 0.0311, 0.0292, 0.028, 0.0252, 0.0248, 0.0248, 0.0239, 0.0217, 0.0207, 0.0198, 0.0176, 0.0153, 0.015, 0.0143, 0.0142, 0.0139, 0.0131, 0.0127, 0.0118, 0.0097, 0.0086, 0.0081, 0.0064, 0.0043], \"textposition\": \"outside\", \"x\": [0.11289933046657105, 0.09781280794731581, 0.07899054577702207, 0.07318861101538014, 0.047081196580983996, 0.04097893384844559, 0.03757750847063536, 0.03509498863942814, 0.031213808552893386, 0.031174552513882896, 0.031103041316293517, 0.029174592036263186, 0.027967749912510814, 0.025172997003475493, 0.024764011908590122, 0.024762743377897873, 0.023945792569602685, 0.021698460814687112, 0.020654845766604178, 0.01978452138825492, 0.01756331396244246, 0.015269512769326324, 0.015005105482385612, 0.014291397950850788, 0.014218043187829748, 0.013949767015019718, 0.013050246771749282, 0.0127197599966947, 0.01175313269272984, 0.009739941799567374, 0.008584709020618926, 0.008080333739702721, 0.0064189689123221455, 0.004314726792021958], \"y\": [\"link_type_text/css + script_src_.js\", \"script_async_true + title_count\", \"window.addEventListener + script_src_.js\", \"script_src_.js\", \"link_rel_https://api.w.org/ + script_src_.js\", \"link_rel_shortlink + script_src_.js\", \"link_rel_https://api.w.org/ + script_src_out_of_domain\", \"div_count + title_count\", \"script_src_out_of_domain\", \"script_src_.js / link_href_.css\", \"div_count + .push\", \"window.addEventListener + script_src_out_of_domain\", \"a_href_http + div_count\", \"div_count + p_count\", \"center_count + script_src_.js\", \"br_count + div_count\", \"div_count + meta_count\", \"form_action_http + script_src_.js\", \"div_count + link_href_out_of_domain\", \"center_count + script_src_out_of_domain\", \"a_href_https + div_count\", \"div_count + script_async_true\", \"div_count + li_count\", \"link_type_application/rsd+xml + script_src_out_of_domain\", \"div_count + img_src_out_of_domain\", \"img_src_.jpg + script_async_true\", \"div_count + img_src_.jpg\", \"script_src_.js / title_count\", \"link_rel_shortlink + script_src_out_of_domain\", \"script_async_true + script_src_out_of_domain\", \"script_src_.js + script_src_out_of_domain\", \"form_action_http + script_src_out_of_domain\", \"link_type_application/rsd+xml + script_src_.js\", \"script_src_out_of_domain / title_count\"], \"type\": \"bar\", \"uid\": \"928805dc-d172-46f8-9c61-2f3f4b9eb86a\"}], {\"autosize\": false, \"height\": 1000, \"width\": 1000, \"xaxis\": {\"tickfont\": {\"color\": \"black\", \"size\": 12}, \"title\": \"Feature Importances\"}, \"yaxis\": {\"automargin\": true}}, {\"showLink\": true, \"linkText\": \"Export to plot.ly\", \"plotlyServerURL\": \"https://plot.ly\"})});</script>"
      ]
     },
     "metadata": {},
     "output_type": "display_data"
    },
    {
     "name": "stdout",
     "output_type": "stream",
     "text": [
      "\n",
      "\n",
      "\u001b[1mBagging Classifier\u001b[0m\n",
      "Accuracy of the model for training data is: 0.9218227039641355\n",
      "Confusion Matrix for training data is:\n"
     ]
    },
    {
     "data": {
      "text/plain": [
       "Predicted  False  True  __all__\n",
       "Actual                         \n",
       "False      25478  2360    27838\n",
       "True         186  4543     4729\n",
       "__all__    25664  6903    32567"
      ]
     },
     "metadata": {},
     "output_type": "display_data"
    },
    {
     "name": "stdout",
     "output_type": "stream",
     "text": [
      "Accuracy of the model for test data is: 0.908867600098256\n",
      "Confusion Matrix for test data is:\n"
     ]
    },
    {
     "data": {
      "text/plain": [
       "Predicted  False  True  __all__\n",
       "Actual                         \n",
       "False       6322   618     6940\n",
       "True         124  1078     1202\n",
       "__all__     6446  1696     8142"
      ]
     },
     "metadata": {},
     "output_type": "display_data"
    },
    {
     "name": "stdout",
     "output_type": "stream",
     "text": [
      "\n",
      "\n",
      "\u001b[1mNeural Network-1\u001b[0m\n",
      "The accuracy of the model on training data is: 0.8989467866263274\n"
     ]
    },
    {
     "data": {
      "text/plain": [
       "Predicted  False  True  __all__\n",
       "Actual                         \n",
       "False      25272  2566    27838\n",
       "True         725  4004     4729\n",
       "__all__    25997  6570    32567"
      ]
     },
     "metadata": {},
     "output_type": "display_data"
    },
    {
     "name": "stdout",
     "output_type": "stream",
     "text": [
      "The accuracy of the model on test data is: 0.8985507246376812\n"
     ]
    },
    {
     "data": {
      "text/plain": [
       "Predicted  False  True  __all__\n",
       "Actual                         \n",
       "False       6299   641     6940\n",
       "True         185  1017     1202\n",
       "__all__     6484  1658     8142"
      ]
     },
     "metadata": {},
     "output_type": "display_data"
    },
    {
     "name": "stdout",
     "output_type": "stream",
     "text": [
      "\n",
      "\n"
     ]
    }
   ],
   "source": [
    "## Table to store training and test measures so we can compare later\n",
    "table_80_60_train=pd.DataFrame(columns=['accuracy','TP','TN','FP','FN','FPR','FNR'])\n",
    "table_80_60_test=pd.DataFrame(columns=['accuracy','TP','TN','FP','FN','FPR','FNR','auc','mcc'])\n",
    "\n",
    "\n",
    "feat_imp=[None]*4\n",
    "j=0\n",
    "for i in range(0,8):\n",
    "    if i>=2 and i<=5:\n",
    "        model,cm_train,cm_test,acc_train,acc_test,roc_auc,feat_imp[j],mcc=f[i](scaled_X_train,train_Y,scaled_X_test,test_Y,feature_name)\n",
    "        j=j+1\n",
    "    else:\n",
    "        model,cm_train,cm_test,acc_train,acc_test,roc_auc,mcc=f[i](scaled_X_train,train_Y,scaled_X_test,test_Y)\n",
    "    table_80_60_train.loc[i]=   ([acc_train,cm_train.TP,cm_train.TN,cm_train.FP,cm_train.FN,cm_train.FPR,cm_train.FNR])\n",
    "    table_80_60_test.loc[i] =   ([acc_test ,cm_test.TP, cm_test.TN, cm_test.FP, cm_test.FN, cm_test.FPR, cm_test.FNR,roc_auc,mcc])\n",
    "    print(\"\\n\")"
   ]
  },
  {
   "cell_type": "markdown",
   "metadata": {},
   "source": [
    "### <a id='4.A' style=\"text-decoration : none; color : #000000;\"> A. Results</a>"
   ]
  },
  {
   "cell_type": "code",
   "execution_count": 45,
   "metadata": {},
   "outputs": [
    {
     "data": {
      "application/vnd.plotly.v1+json": {
       "config": {
        "linkText": "Export to plot.ly",
        "plotlyServerURL": "https://plot.ly",
        "showLink": true
       },
       "data": [
        {
         "mode": "lines",
         "name": "KNN_model",
         "type": "scatter",
         "uid": "de4460e1-064a-4cb3-b5dd-84d685475871",
         "x": [
          "accuracy",
          "FPR",
          "FNR",
          "auc"
         ],
         "y": [
          0.9046917219356424,
          0.08962536023054755,
          0.1281198003327787,
          0.8911274197183369
         ]
        },
        {
         "mode": "lines+markers",
         "name": "Logistic Regression",
         "type": "scatter",
         "uid": "bcb0fd00-c249-4aeb-9a02-7d4fc61a1a47",
         "x": [
          "accuracy",
          "FPR",
          "FNR",
          "auc"
         ],
         "y": [
          0.8927781871775976,
          0.08991354466858789,
          0.20715474209650583,
          0.8514658566174531
         ]
        },
        {
         "marker": {
          "symbol": "x"
         },
         "mode": "lines+markers",
         "name": "Random Forest",
         "type": "scatter",
         "uid": "2b1a826b-e7aa-407e-89ff-1d45d41476a9",
         "x": [
          "accuracy",
          "FPR",
          "FNR",
          "auc"
         ],
         "y": [
          0.9086219602063376,
          0.08832853025936599,
          0.10898502495840266,
          0.9013432223911158
         ]
        },
        {
         "mode": "lines",
         "name": "Ada Boost",
         "type": "scatter",
         "uid": "901a6fe5-51bb-4f7e-a696-e7678fc07203",
         "x": [
          "accuracy",
          "FPR",
          "FNR",
          "auc"
         ],
         "y": [
          0.8922869073937607,
          0.08962536023054755,
          0.21214642262895175,
          0.8491141085702504
         ]
        },
        {
         "mode": "lines+markers",
         "name": "GradientBoosting",
         "type": "scatter",
         "uid": "b2e3b97b-eaeb-431d-8615-b37bc5452d8e",
         "x": [
          "accuracy",
          "FPR",
          "FNR",
          "auc"
         ],
         "y": [
          0.9049373618275608,
          0.08501440922190202,
          0.15307820299500832,
          0.8809536938915449
         ]
        },
        {
         "marker": {
          "symbol": "x"
         },
         "mode": "lines+markers",
         "name": "ExtraTree Classifier",
         "type": "scatter",
         "uid": "1cec8c52-0f3b-4591-9621-02eb566dd74e",
         "x": [
          "accuracy",
          "FPR",
          "FNR",
          "auc"
         ],
         "y": [
          0.9091132399901743,
          0.08861671469740634,
          0.10399334442595674,
          0.9036949704383185
         ]
        },
        {
         "marker": {
          "symbol": "x"
         },
         "mode": "lines+markers",
         "name": "Bagging",
         "type": "scatter",
         "uid": "2b059be0-fc0a-4589-9b33-a82c348bd5cf",
         "x": [
          "accuracy",
          "FPR",
          "FNR",
          "auc"
         ],
         "y": [
          0.908867600098256,
          0.08904899135446685,
          0.10316139767054909,
          0.903894805487492
         ]
        },
        {
         "marker": {
          "symbol": "x"
         },
         "mode": "lines+markers",
         "name": "Neural Network",
         "type": "scatter",
         "uid": "a895111d-da3b-46c7-b13f-f35d1c8b9fa3",
         "x": [
          "accuracy",
          "FPR",
          "FNR",
          "auc"
         ],
         "y": [
          0.8985507246376812,
          0.09236311239193083,
          0.15391014975041598,
          0.8768633689288267
         ]
        }
       ],
       "layout": {
        "title": "Result comparision for Features selected in Section 1",
        "yaxis": {
         "dtick": 0.05,
         "tick0": 0
        }
       }
      },
      "text/html": [
       "<div id=\"7a0d3c67-95de-46fb-accf-38139f8684b4\" style=\"height: 525px; width: 100%;\" class=\"plotly-graph-div\"></div><script type=\"text/javascript\">require([\"plotly\"], function(Plotly) { window.PLOTLYENV=window.PLOTLYENV || {};window.PLOTLYENV.BASE_URL=\"https://plot.ly\";Plotly.newPlot(\"7a0d3c67-95de-46fb-accf-38139f8684b4\", [{\"mode\": \"lines\", \"name\": \"KNN_model\", \"x\": [\"accuracy\", \"FPR\", \"FNR\", \"auc\"], \"y\": [0.9046917219356424, 0.08962536023054755, 0.1281198003327787, 0.8911274197183369], \"type\": \"scatter\", \"uid\": \"de4460e1-064a-4cb3-b5dd-84d685475871\"}, {\"mode\": \"lines+markers\", \"name\": \"Logistic Regression\", \"x\": [\"accuracy\", \"FPR\", \"FNR\", \"auc\"], \"y\": [0.8927781871775976, 0.08991354466858789, 0.20715474209650583, 0.8514658566174531], \"type\": \"scatter\", \"uid\": \"bcb0fd00-c249-4aeb-9a02-7d4fc61a1a47\"}, {\"marker\": {\"symbol\": \"x\"}, \"mode\": \"lines+markers\", \"name\": \"Random Forest\", \"x\": [\"accuracy\", \"FPR\", \"FNR\", \"auc\"], \"y\": [0.9086219602063376, 0.08832853025936599, 0.10898502495840266, 0.9013432223911158], \"type\": \"scatter\", \"uid\": \"2b1a826b-e7aa-407e-89ff-1d45d41476a9\"}, {\"mode\": \"lines\", \"name\": \"Ada Boost\", \"x\": [\"accuracy\", \"FPR\", \"FNR\", \"auc\"], \"y\": [0.8922869073937607, 0.08962536023054755, 0.21214642262895175, 0.8491141085702504], \"type\": \"scatter\", \"uid\": \"901a6fe5-51bb-4f7e-a696-e7678fc07203\"}, {\"mode\": \"lines+markers\", \"name\": \"GradientBoosting\", \"x\": [\"accuracy\", \"FPR\", \"FNR\", \"auc\"], \"y\": [0.9049373618275608, 0.08501440922190202, 0.15307820299500832, 0.8809536938915449], \"type\": \"scatter\", \"uid\": \"b2e3b97b-eaeb-431d-8615-b37bc5452d8e\"}, {\"marker\": {\"symbol\": \"x\"}, \"mode\": \"lines+markers\", \"name\": \"ExtraTree Classifier\", \"x\": [\"accuracy\", \"FPR\", \"FNR\", \"auc\"], \"y\": [0.9091132399901743, 0.08861671469740634, 0.10399334442595674, 0.9036949704383185], \"type\": \"scatter\", \"uid\": \"1cec8c52-0f3b-4591-9621-02eb566dd74e\"}, {\"marker\": {\"symbol\": \"x\"}, \"mode\": \"lines+markers\", \"name\": \"Bagging\", \"x\": [\"accuracy\", \"FPR\", \"FNR\", \"auc\"], \"y\": [0.908867600098256, 0.08904899135446685, 0.10316139767054909, 0.903894805487492], \"type\": \"scatter\", \"uid\": \"2b059be0-fc0a-4589-9b33-a82c348bd5cf\"}, {\"marker\": {\"symbol\": \"x\"}, \"mode\": \"lines+markers\", \"name\": \"Neural Network\", \"x\": [\"accuracy\", \"FPR\", \"FNR\", \"auc\"], \"y\": [0.8985507246376812, 0.09236311239193083, 0.15391014975041598, 0.8768633689288267], \"type\": \"scatter\", \"uid\": \"a895111d-da3b-46c7-b13f-f35d1c8b9fa3\"}], {\"title\": \"Result comparision for Features selected in Section 1\", \"yaxis\": {\"dtick\": 0.05, \"tick0\": 0}}, {\"showLink\": true, \"linkText\": \"Export to plot.ly\", \"plotlyServerURL\": \"https://plot.ly\"})});</script><script type=\"text/javascript\">window.addEventListener(\"resize\", function(){window._Plotly.Plots.resize(document.getElementById(\"7a0d3c67-95de-46fb-accf-38139f8684b4\"));});</script>"
      ],
      "text/vnd.plotly.v1+html": [
       "<div id=\"7a0d3c67-95de-46fb-accf-38139f8684b4\" style=\"height: 525px; width: 100%;\" class=\"plotly-graph-div\"></div><script type=\"text/javascript\">require([\"plotly\"], function(Plotly) { window.PLOTLYENV=window.PLOTLYENV || {};window.PLOTLYENV.BASE_URL=\"https://plot.ly\";Plotly.newPlot(\"7a0d3c67-95de-46fb-accf-38139f8684b4\", [{\"mode\": \"lines\", \"name\": \"KNN_model\", \"x\": [\"accuracy\", \"FPR\", \"FNR\", \"auc\"], \"y\": [0.9046917219356424, 0.08962536023054755, 0.1281198003327787, 0.8911274197183369], \"type\": \"scatter\", \"uid\": \"de4460e1-064a-4cb3-b5dd-84d685475871\"}, {\"mode\": \"lines+markers\", \"name\": \"Logistic Regression\", \"x\": [\"accuracy\", \"FPR\", \"FNR\", \"auc\"], \"y\": [0.8927781871775976, 0.08991354466858789, 0.20715474209650583, 0.8514658566174531], \"type\": \"scatter\", \"uid\": \"bcb0fd00-c249-4aeb-9a02-7d4fc61a1a47\"}, {\"marker\": {\"symbol\": \"x\"}, \"mode\": \"lines+markers\", \"name\": \"Random Forest\", \"x\": [\"accuracy\", \"FPR\", \"FNR\", \"auc\"], \"y\": [0.9086219602063376, 0.08832853025936599, 0.10898502495840266, 0.9013432223911158], \"type\": \"scatter\", \"uid\": \"2b1a826b-e7aa-407e-89ff-1d45d41476a9\"}, {\"mode\": \"lines\", \"name\": \"Ada Boost\", \"x\": [\"accuracy\", \"FPR\", \"FNR\", \"auc\"], \"y\": [0.8922869073937607, 0.08962536023054755, 0.21214642262895175, 0.8491141085702504], \"type\": \"scatter\", \"uid\": \"901a6fe5-51bb-4f7e-a696-e7678fc07203\"}, {\"mode\": \"lines+markers\", \"name\": \"GradientBoosting\", \"x\": [\"accuracy\", \"FPR\", \"FNR\", \"auc\"], \"y\": [0.9049373618275608, 0.08501440922190202, 0.15307820299500832, 0.8809536938915449], \"type\": \"scatter\", \"uid\": \"b2e3b97b-eaeb-431d-8615-b37bc5452d8e\"}, {\"marker\": {\"symbol\": \"x\"}, \"mode\": \"lines+markers\", \"name\": \"ExtraTree Classifier\", \"x\": [\"accuracy\", \"FPR\", \"FNR\", \"auc\"], \"y\": [0.9091132399901743, 0.08861671469740634, 0.10399334442595674, 0.9036949704383185], \"type\": \"scatter\", \"uid\": \"1cec8c52-0f3b-4591-9621-02eb566dd74e\"}, {\"marker\": {\"symbol\": \"x\"}, \"mode\": \"lines+markers\", \"name\": \"Bagging\", \"x\": [\"accuracy\", \"FPR\", \"FNR\", \"auc\"], \"y\": [0.908867600098256, 0.08904899135446685, 0.10316139767054909, 0.903894805487492], \"type\": \"scatter\", \"uid\": \"2b059be0-fc0a-4589-9b33-a82c348bd5cf\"}, {\"marker\": {\"symbol\": \"x\"}, \"mode\": \"lines+markers\", \"name\": \"Neural Network\", \"x\": [\"accuracy\", \"FPR\", \"FNR\", \"auc\"], \"y\": [0.8985507246376812, 0.09236311239193083, 0.15391014975041598, 0.8768633689288267], \"type\": \"scatter\", \"uid\": \"a895111d-da3b-46c7-b13f-f35d1c8b9fa3\"}], {\"title\": \"Result comparision for Features selected in Section 1\", \"yaxis\": {\"dtick\": 0.05, \"tick0\": 0}}, {\"showLink\": true, \"linkText\": \"Export to plot.ly\", \"plotlyServerURL\": \"https://plot.ly\"})});</script><script type=\"text/javascript\">window.addEventListener(\"resize\", function(){window._Plotly.Plots.resize(document.getElementById(\"7a0d3c67-95de-46fb-accf-38139f8684b4\"));});</script>"
      ]
     },
     "metadata": {},
     "output_type": "display_data"
    }
   ],
   "source": [
    "trace0 = go.Scatter(x=table_80_60_test.iloc[0].index.values[[0,5,6,7]],\n",
    "                    y=table_80_60_test.iloc[0].values[[0,5,6,7]],\n",
    "                    mode = 'lines',\n",
    "                    name = 'KNN_model')\n",
    "\n",
    "trace1 = go.Scatter(x=table_80_60_test.iloc[1].index.values[[0,5,6,7]],\n",
    "                    y=table_80_60_test.iloc[1].values[[0,5,6,7]],\n",
    "                    mode = 'lines+markers',\n",
    "                    name = 'Logistic Regression')\n",
    "\n",
    "trace2 = go.Scatter(x=table_80_60_test.iloc[2].index.values[[0,5,6,7]],\n",
    "                    y=table_80_60_test.iloc[2].values[[0,5,6,7]],\n",
    "                    mode = 'lines+markers',marker=dict(symbol='x'),\n",
    "                    name = 'Random Forest')\n",
    "\n",
    "\n",
    "trace3 = go.Scatter(x=table_80_60_test.iloc[3].index.values[[0,5,6,7]],\n",
    "                    y=table_80_60_test.iloc[3].values[[0,5,6,7]],\n",
    "                    mode = 'lines',\n",
    "                    name = 'Ada Boost')\n",
    "\n",
    "trace4 = go.Scatter(x=table_80_60_test.iloc[4].index.values[[0,5,6,7]],\n",
    "                    y=table_80_60_test.iloc[4].values[[0,5,6,7]],\n",
    "                    mode = 'lines+markers',\n",
    "                    name = 'GradientBoosting')\n",
    "\n",
    "trace5 = go.Scatter(x=table_80_60_test.iloc[5].index.values[[0,5,6,7]],\n",
    "                    y=table_80_60_test.iloc[5].values[[0,5,6,7]],\n",
    "                    mode = 'lines+markers',marker=dict(symbol='x'),\n",
    "                    name = 'ExtraTree Classifier')\n",
    "\n",
    "trace6 = go.Scatter(x=table_80_60_test.iloc[6].index.values[[0,5,6,7]],\n",
    "                    y=table_80_60_test.iloc[6].values[[0,5,6,7]],\n",
    "                    mode = 'lines+markers',marker=dict(symbol='x'),\n",
    "                    name = 'Bagging')\n",
    "\n",
    "trace7 = go.Scatter(x=table_80_60_test.iloc[7].index.values[[0,5,6,7]],\n",
    "                    y=table_80_60_test.iloc[7].values[[0,5,6,7]],\n",
    "                    mode = 'lines+markers',marker=dict(symbol='x'),\n",
    "                    name = 'Neural Network')\n",
    "\n",
    "\n",
    "\n",
    "data = [trace0, trace1, trace2, trace3, trace4, trace5, trace6, trace7]\n",
    "layout = go.Layout(yaxis=dict(tick0=0,dtick=0.05),title='Result comparision for Features selected in Section 1')\n",
    "fig = go.Figure(data=data, layout=layout)\n",
    "\n",
    "iplot(fig, filename='Result')"
   ]
  },
  {
   "cell_type": "code",
   "execution_count": 46,
   "metadata": {},
   "outputs": [
    {
     "name": "stdout",
     "output_type": "stream",
     "text": [
      "Training Results\n"
     ]
    },
    {
     "data": {
      "text/html": [
       "<div>\n",
       "<style scoped>\n",
       "    .dataframe tbody tr th:only-of-type {\n",
       "        vertical-align: middle;\n",
       "    }\n",
       "\n",
       "    .dataframe tbody tr th {\n",
       "        vertical-align: top;\n",
       "    }\n",
       "\n",
       "    .dataframe thead th {\n",
       "        text-align: right;\n",
       "    }\n",
       "</style>\n",
       "<table border=\"1\" class=\"dataframe\">\n",
       "  <thead>\n",
       "    <tr style=\"text-align: right;\">\n",
       "      <th></th>\n",
       "      <th>accuracy</th>\n",
       "      <th>TP</th>\n",
       "      <th>TN</th>\n",
       "      <th>FP</th>\n",
       "      <th>FN</th>\n",
       "      <th>FPR</th>\n",
       "      <th>FNR</th>\n",
       "    </tr>\n",
       "    <tr>\n",
       "      <th>index</th>\n",
       "      <th></th>\n",
       "      <th></th>\n",
       "      <th></th>\n",
       "      <th></th>\n",
       "      <th></th>\n",
       "      <th></th>\n",
       "      <th></th>\n",
       "    </tr>\n",
       "  </thead>\n",
       "  <tbody>\n",
       "    <tr>\n",
       "      <th>KNeighborsClassifier</th>\n",
       "      <td>0.909510</td>\n",
       "      <td>4193.0</td>\n",
       "      <td>25427.0</td>\n",
       "      <td>2411.0</td>\n",
       "      <td>536.0</td>\n",
       "      <td>0.086608</td>\n",
       "      <td>0.113343</td>\n",
       "    </tr>\n",
       "    <tr>\n",
       "      <th>LogisticRegression</th>\n",
       "      <td>0.892161</td>\n",
       "      <td>3710.0</td>\n",
       "      <td>25345.0</td>\n",
       "      <td>2493.0</td>\n",
       "      <td>1019.0</td>\n",
       "      <td>0.089554</td>\n",
       "      <td>0.215479</td>\n",
       "    </tr>\n",
       "    <tr>\n",
       "      <th>RandomForestClassifier</th>\n",
       "      <td>0.921915</td>\n",
       "      <td>4546.0</td>\n",
       "      <td>25478.0</td>\n",
       "      <td>2360.0</td>\n",
       "      <td>183.0</td>\n",
       "      <td>0.084776</td>\n",
       "      <td>0.038697</td>\n",
       "    </tr>\n",
       "    <tr>\n",
       "      <th>AdaBoostClassifier</th>\n",
       "      <td>0.891393</td>\n",
       "      <td>3690.0</td>\n",
       "      <td>25340.0</td>\n",
       "      <td>2498.0</td>\n",
       "      <td>1039.0</td>\n",
       "      <td>0.089733</td>\n",
       "      <td>0.219708</td>\n",
       "    </tr>\n",
       "    <tr>\n",
       "      <th>GradientBoostingClassifier</th>\n",
       "      <td>0.906439</td>\n",
       "      <td>4007.0</td>\n",
       "      <td>25513.0</td>\n",
       "      <td>2325.0</td>\n",
       "      <td>722.0</td>\n",
       "      <td>0.083519</td>\n",
       "      <td>0.152675</td>\n",
       "    </tr>\n",
       "    <tr>\n",
       "      <th>ExtraTreeClassifier</th>\n",
       "      <td>0.923972</td>\n",
       "      <td>4606.0</td>\n",
       "      <td>25485.0</td>\n",
       "      <td>2353.0</td>\n",
       "      <td>123.0</td>\n",
       "      <td>0.084525</td>\n",
       "      <td>0.026010</td>\n",
       "    </tr>\n",
       "    <tr>\n",
       "      <th>BaggingClassifier</th>\n",
       "      <td>0.921823</td>\n",
       "      <td>4543.0</td>\n",
       "      <td>25478.0</td>\n",
       "      <td>2360.0</td>\n",
       "      <td>186.0</td>\n",
       "      <td>0.084776</td>\n",
       "      <td>0.039332</td>\n",
       "    </tr>\n",
       "    <tr>\n",
       "      <th>Neural Network-1</th>\n",
       "      <td>0.898947</td>\n",
       "      <td>4004.0</td>\n",
       "      <td>25272.0</td>\n",
       "      <td>2566.0</td>\n",
       "      <td>725.0</td>\n",
       "      <td>0.092176</td>\n",
       "      <td>0.153309</td>\n",
       "    </tr>\n",
       "  </tbody>\n",
       "</table>\n",
       "</div>"
      ],
      "text/plain": [
       "                            accuracy      TP       TN      FP      FN  \\\n",
       "index                                                                   \n",
       "KNeighborsClassifier        0.909510  4193.0  25427.0  2411.0   536.0   \n",
       "LogisticRegression          0.892161  3710.0  25345.0  2493.0  1019.0   \n",
       "RandomForestClassifier      0.921915  4546.0  25478.0  2360.0   183.0   \n",
       "AdaBoostClassifier          0.891393  3690.0  25340.0  2498.0  1039.0   \n",
       "GradientBoostingClassifier  0.906439  4007.0  25513.0  2325.0   722.0   \n",
       "ExtraTreeClassifier         0.923972  4606.0  25485.0  2353.0   123.0   \n",
       "BaggingClassifier           0.921823  4543.0  25478.0  2360.0   186.0   \n",
       "Neural Network-1            0.898947  4004.0  25272.0  2566.0   725.0   \n",
       "\n",
       "                                 FPR       FNR  \n",
       "index                                           \n",
       "KNeighborsClassifier        0.086608  0.113343  \n",
       "LogisticRegression          0.089554  0.215479  \n",
       "RandomForestClassifier      0.084776  0.038697  \n",
       "AdaBoostClassifier          0.089733  0.219708  \n",
       "GradientBoostingClassifier  0.083519  0.152675  \n",
       "ExtraTreeClassifier         0.084525  0.026010  \n",
       "BaggingClassifier           0.084776  0.039332  \n",
       "Neural Network-1            0.092176  0.153309  "
      ]
     },
     "metadata": {},
     "output_type": "display_data"
    },
    {
     "name": "stdout",
     "output_type": "stream",
     "text": [
      "Test Results\n"
     ]
    },
    {
     "data": {
      "text/html": [
       "<div>\n",
       "<style scoped>\n",
       "    .dataframe tbody tr th:only-of-type {\n",
       "        vertical-align: middle;\n",
       "    }\n",
       "\n",
       "    .dataframe tbody tr th {\n",
       "        vertical-align: top;\n",
       "    }\n",
       "\n",
       "    .dataframe thead th {\n",
       "        text-align: right;\n",
       "    }\n",
       "</style>\n",
       "<table border=\"1\" class=\"dataframe\">\n",
       "  <thead>\n",
       "    <tr style=\"text-align: right;\">\n",
       "      <th></th>\n",
       "      <th>accuracy</th>\n",
       "      <th>TP</th>\n",
       "      <th>TN</th>\n",
       "      <th>FP</th>\n",
       "      <th>FN</th>\n",
       "      <th>FPR</th>\n",
       "      <th>FNR</th>\n",
       "      <th>auc</th>\n",
       "      <th>mcc</th>\n",
       "    </tr>\n",
       "    <tr>\n",
       "      <th>index</th>\n",
       "      <th></th>\n",
       "      <th></th>\n",
       "      <th></th>\n",
       "      <th></th>\n",
       "      <th></th>\n",
       "      <th></th>\n",
       "      <th></th>\n",
       "      <th></th>\n",
       "      <th></th>\n",
       "    </tr>\n",
       "  </thead>\n",
       "  <tbody>\n",
       "    <tr>\n",
       "      <th>KNeighborsClassifier</th>\n",
       "      <td>0.904692</td>\n",
       "      <td>1048.0</td>\n",
       "      <td>6318.0</td>\n",
       "      <td>622.0</td>\n",
       "      <td>154.0</td>\n",
       "      <td>0.089625</td>\n",
       "      <td>0.128120</td>\n",
       "      <td>0.891127</td>\n",
       "      <td>0.687231</td>\n",
       "    </tr>\n",
       "    <tr>\n",
       "      <th>LogisticRegression</th>\n",
       "      <td>0.892778</td>\n",
       "      <td>953.0</td>\n",
       "      <td>6316.0</td>\n",
       "      <td>624.0</td>\n",
       "      <td>249.0</td>\n",
       "      <td>0.089914</td>\n",
       "      <td>0.207155</td>\n",
       "      <td>0.851466</td>\n",
       "      <td>0.630975</td>\n",
       "    </tr>\n",
       "    <tr>\n",
       "      <th>RandomForestClassifier</th>\n",
       "      <td>0.908622</td>\n",
       "      <td>1071.0</td>\n",
       "      <td>6327.0</td>\n",
       "      <td>613.0</td>\n",
       "      <td>131.0</td>\n",
       "      <td>0.088329</td>\n",
       "      <td>0.108985</td>\n",
       "      <td>0.901343</td>\n",
       "      <td>0.703004</td>\n",
       "    </tr>\n",
       "    <tr>\n",
       "      <th>AdaBoostClassifier</th>\n",
       "      <td>0.892287</td>\n",
       "      <td>947.0</td>\n",
       "      <td>6318.0</td>\n",
       "      <td>622.0</td>\n",
       "      <td>255.0</td>\n",
       "      <td>0.089625</td>\n",
       "      <td>0.212146</td>\n",
       "      <td>0.849114</td>\n",
       "      <td>0.627966</td>\n",
       "    </tr>\n",
       "    <tr>\n",
       "      <th>GradientBoostingClassifier</th>\n",
       "      <td>0.904937</td>\n",
       "      <td>1018.0</td>\n",
       "      <td>6350.0</td>\n",
       "      <td>590.0</td>\n",
       "      <td>184.0</td>\n",
       "      <td>0.085014</td>\n",
       "      <td>0.153078</td>\n",
       "      <td>0.880954</td>\n",
       "      <td>0.678893</td>\n",
       "    </tr>\n",
       "    <tr>\n",
       "      <th>ExtraTreeClassifier</th>\n",
       "      <td>0.909113</td>\n",
       "      <td>1077.0</td>\n",
       "      <td>6325.0</td>\n",
       "      <td>615.0</td>\n",
       "      <td>125.0</td>\n",
       "      <td>0.088617</td>\n",
       "      <td>0.103993</td>\n",
       "      <td>0.903695</td>\n",
       "      <td>0.705887</td>\n",
       "    </tr>\n",
       "    <tr>\n",
       "      <th>BaggingClassifier</th>\n",
       "      <td>0.908868</td>\n",
       "      <td>1078.0</td>\n",
       "      <td>6322.0</td>\n",
       "      <td>618.0</td>\n",
       "      <td>124.0</td>\n",
       "      <td>0.089049</td>\n",
       "      <td>0.103161</td>\n",
       "      <td>0.903895</td>\n",
       "      <td>0.705622</td>\n",
       "    </tr>\n",
       "    <tr>\n",
       "      <th>Neural Network-1</th>\n",
       "      <td>0.898551</td>\n",
       "      <td>1017.0</td>\n",
       "      <td>6299.0</td>\n",
       "      <td>641.0</td>\n",
       "      <td>185.0</td>\n",
       "      <td>0.092363</td>\n",
       "      <td>0.153910</td>\n",
       "      <td>0.876863</td>\n",
       "      <td>0.663945</td>\n",
       "    </tr>\n",
       "  </tbody>\n",
       "</table>\n",
       "</div>"
      ],
      "text/plain": [
       "                            accuracy      TP      TN     FP     FN       FPR  \\\n",
       "index                                                                          \n",
       "KNeighborsClassifier        0.904692  1048.0  6318.0  622.0  154.0  0.089625   \n",
       "LogisticRegression          0.892778   953.0  6316.0  624.0  249.0  0.089914   \n",
       "RandomForestClassifier      0.908622  1071.0  6327.0  613.0  131.0  0.088329   \n",
       "AdaBoostClassifier          0.892287   947.0  6318.0  622.0  255.0  0.089625   \n",
       "GradientBoostingClassifier  0.904937  1018.0  6350.0  590.0  184.0  0.085014   \n",
       "ExtraTreeClassifier         0.909113  1077.0  6325.0  615.0  125.0  0.088617   \n",
       "BaggingClassifier           0.908868  1078.0  6322.0  618.0  124.0  0.089049   \n",
       "Neural Network-1            0.898551  1017.0  6299.0  641.0  185.0  0.092363   \n",
       "\n",
       "                                 FNR       auc       mcc  \n",
       "index                                                     \n",
       "KNeighborsClassifier        0.128120  0.891127  0.687231  \n",
       "LogisticRegression          0.207155  0.851466  0.630975  \n",
       "RandomForestClassifier      0.108985  0.901343  0.703004  \n",
       "AdaBoostClassifier          0.212146  0.849114  0.627966  \n",
       "GradientBoostingClassifier  0.153078  0.880954  0.678893  \n",
       "ExtraTreeClassifier         0.103993  0.903695  0.705887  \n",
       "BaggingClassifier           0.103161  0.903895  0.705622  \n",
       "Neural Network-1            0.153910  0.876863  0.663945  "
      ]
     },
     "metadata": {},
     "output_type": "display_data"
    }
   ],
   "source": [
    "table_80_60_train['index']=ind_columns\n",
    "table_80_60_test['index']=ind_columns\n",
    "\n",
    "\n",
    "table_80_60_test.set_index(['index'],drop=True,inplace=True)\n",
    "table_80_60_train.set_index(['index'],drop=True,inplace=True)\n",
    "\n",
    "print(\"Training Results\")\n",
    "display(table_80_60_train)\n",
    "print(\"Test Results\")\n",
    "display(table_80_60_test)"
   ]
  },
  {
   "cell_type": "markdown",
   "metadata": {},
   "source": [
    "### <a id='4.B' style=\"text-decoration : none; color : #000000;\"> B. Average Feature Importances</a>"
   ]
  },
  {
   "cell_type": "code",
   "execution_count": 47,
   "metadata": {},
   "outputs": [
    {
     "data": {
      "application/vnd.plotly.v1+json": {
       "config": {
        "linkText": "Export to plot.ly",
        "plotlyServerURL": "https://plot.ly",
        "showLink": true
       },
       "data": [
        {
         "marker": {
          "color": "rgb(158,202,225)",
          "line": {
           "color": "rgb(8,48,107)",
           "width": 1.5
          }
         },
         "opacity": 0.6,
         "orientation": "h",
         "text": [
          0.2721,
          0.079,
          0.0706,
          0.0625,
          0.0469,
          0.036,
          0.0349,
          0.0331,
          0.0318,
          0.0292,
          0.0232,
          0.0206,
          0.0203,
          0.0199,
          0.0198,
          0.0184,
          0.0164,
          0.0156,
          0.0142,
          0.0141,
          0.0137,
          0.0127,
          0.0123,
          0.0117,
          0.0114,
          0.0103,
          0.0103,
          0.0089,
          0.0083,
          0.0071,
          0.0052,
          0.0043,
          0.003,
          0.0021
         ],
         "textposition": "outside",
         "type": "bar",
         "uid": "6c19aa7e-e298-4a24-ae8f-7cd0523ad322",
         "x": [
          0.2720987956510477,
          0.07901827438076242,
          0.07062072063040724,
          0.06252211385316357,
          0.04687992600205872,
          0.036019511807145875,
          0.034904377572056305,
          0.03313911843070981,
          0.031812379596517136,
          0.029227598716240203,
          0.023221137716231025,
          0.020567681708239374,
          0.02030601919872836,
          0.01987623508426182,
          0.019810073414207048,
          0.018360271377834518,
          0.016396277527132457,
          0.015615547311689525,
          0.014233756869339701,
          0.014062536118287682,
          0.01372918744614658,
          0.012674184667646202,
          0.012327093013471076,
          0.011674572717256741,
          0.01144819811501288,
          0.010327753905497929,
          0.010311837608707665,
          0.008883148006643846,
          0.00831119300913713,
          0.007120311295673745,
          0.005178052349259244,
          0.0042734808949154435,
          0.0029908119762413516,
          0.002057822028329635
         ],
         "y": [
          "script_async_true + title_count",
          "a_href_https + div_count",
          "div_count + p_count",
          "link_type_text/css + script_src_.js",
          "script_async_true + script_src_out_of_domain",
          "div_count + meta_count",
          "div_count + .push",
          "script_src_.js + script_src_out_of_domain",
          "window.addEventListener + script_src_.js",
          "a_href_http + div_count",
          "div_count + link_href_out_of_domain",
          "center_count + script_src_.js",
          "script_src_.js / link_href_.css",
          "script_src_.js",
          "div_count + title_count",
          "center_count + script_src_out_of_domain",
          "img_src_.jpg + script_async_true",
          "window.addEventListener + script_src_out_of_domain",
          "script_src_.js / title_count",
          "div_count + img_src_out_of_domain",
          "script_src_out_of_domain",
          "link_rel_https://api.w.org/ + script_src_.js",
          "div_count + img_src_.jpg",
          "div_count + li_count",
          "link_rel_shortlink + script_src_.js",
          "link_rel_https://api.w.org/ + script_src_out_of_domain",
          "br_count + div_count",
          "link_rel_shortlink + script_src_out_of_domain",
          "form_action_http + script_src_.js",
          "div_count + script_async_true",
          "link_type_application/rsd+xml + script_src_out_of_domain",
          "form_action_http + script_src_out_of_domain",
          "link_type_application/rsd+xml + script_src_.js",
          "script_src_out_of_domain / title_count"
         ]
        }
       ],
       "layout": {
        "autosize": false,
        "height": 1000,
        "width": 1000,
        "xaxis": {
         "tickfont": {
          "color": "black",
          "size": 12
         },
         "title": "Feature Importances"
        },
        "yaxis": {
         "automargin": true
        }
       }
      },
      "text/html": [
       "<div id=\"57726fc8-8417-40d6-a95c-ea6466018f54\" style=\"height: 1000px; width: 1000px;\" class=\"plotly-graph-div\"></div><script type=\"text/javascript\">require([\"plotly\"], function(Plotly) { window.PLOTLYENV=window.PLOTLYENV || {};window.PLOTLYENV.BASE_URL=\"https://plot.ly\";Plotly.newPlot(\"57726fc8-8417-40d6-a95c-ea6466018f54\", [{\"marker\": {\"color\": \"rgb(158,202,225)\", \"line\": {\"color\": \"rgb(8,48,107)\", \"width\": 1.5}}, \"opacity\": 0.6, \"orientation\": \"h\", \"text\": [0.2721, 0.079, 0.0706, 0.0625, 0.0469, 0.036, 0.0349, 0.0331, 0.0318, 0.0292, 0.0232, 0.0206, 0.0203, 0.0199, 0.0198, 0.0184, 0.0164, 0.0156, 0.0142, 0.0141, 0.0137, 0.0127, 0.0123, 0.0117, 0.0114, 0.0103, 0.0103, 0.0089, 0.0083, 0.0071, 0.0052, 0.0043, 0.003, 0.0021], \"textposition\": \"outside\", \"x\": [0.2720987956510477, 0.07901827438076242, 0.07062072063040724, 0.06252211385316357, 0.04687992600205872, 0.036019511807145875, 0.034904377572056305, 0.03313911843070981, 0.031812379596517136, 0.029227598716240203, 0.023221137716231025, 0.020567681708239374, 0.02030601919872836, 0.01987623508426182, 0.019810073414207048, 0.018360271377834518, 0.016396277527132457, 0.015615547311689525, 0.014233756869339701, 0.014062536118287682, 0.01372918744614658, 0.012674184667646202, 0.012327093013471076, 0.011674572717256741, 0.01144819811501288, 0.010327753905497929, 0.010311837608707665, 0.008883148006643846, 0.00831119300913713, 0.007120311295673745, 0.005178052349259244, 0.0042734808949154435, 0.0029908119762413516, 0.002057822028329635], \"y\": [\"script_async_true + title_count\", \"a_href_https + div_count\", \"div_count + p_count\", \"link_type_text/css + script_src_.js\", \"script_async_true + script_src_out_of_domain\", \"div_count + meta_count\", \"div_count + .push\", \"script_src_.js + script_src_out_of_domain\", \"window.addEventListener + script_src_.js\", \"a_href_http + div_count\", \"div_count + link_href_out_of_domain\", \"center_count + script_src_.js\", \"script_src_.js / link_href_.css\", \"script_src_.js\", \"div_count + title_count\", \"center_count + script_src_out_of_domain\", \"img_src_.jpg + script_async_true\", \"window.addEventListener + script_src_out_of_domain\", \"script_src_.js / title_count\", \"div_count + img_src_out_of_domain\", \"script_src_out_of_domain\", \"link_rel_https://api.w.org/ + script_src_.js\", \"div_count + img_src_.jpg\", \"div_count + li_count\", \"link_rel_shortlink + script_src_.js\", \"link_rel_https://api.w.org/ + script_src_out_of_domain\", \"br_count + div_count\", \"link_rel_shortlink + script_src_out_of_domain\", \"form_action_http + script_src_.js\", \"div_count + script_async_true\", \"link_type_application/rsd+xml + script_src_out_of_domain\", \"form_action_http + script_src_out_of_domain\", \"link_type_application/rsd+xml + script_src_.js\", \"script_src_out_of_domain / title_count\"], \"type\": \"bar\", \"uid\": \"6c19aa7e-e298-4a24-ae8f-7cd0523ad322\"}], {\"autosize\": false, \"height\": 1000, \"width\": 1000, \"xaxis\": {\"tickfont\": {\"color\": \"black\", \"size\": 12}, \"title\": \"Feature Importances\"}, \"yaxis\": {\"automargin\": true}}, {\"showLink\": true, \"linkText\": \"Export to plot.ly\", \"plotlyServerURL\": \"https://plot.ly\"})});</script>"
      ],
      "text/vnd.plotly.v1+html": [
       "<div id=\"57726fc8-8417-40d6-a95c-ea6466018f54\" style=\"height: 1000px; width: 1000px;\" class=\"plotly-graph-div\"></div><script type=\"text/javascript\">require([\"plotly\"], function(Plotly) { window.PLOTLYENV=window.PLOTLYENV || {};window.PLOTLYENV.BASE_URL=\"https://plot.ly\";Plotly.newPlot(\"57726fc8-8417-40d6-a95c-ea6466018f54\", [{\"marker\": {\"color\": \"rgb(158,202,225)\", \"line\": {\"color\": \"rgb(8,48,107)\", \"width\": 1.5}}, \"opacity\": 0.6, \"orientation\": \"h\", \"text\": [0.2721, 0.079, 0.0706, 0.0625, 0.0469, 0.036, 0.0349, 0.0331, 0.0318, 0.0292, 0.0232, 0.0206, 0.0203, 0.0199, 0.0198, 0.0184, 0.0164, 0.0156, 0.0142, 0.0141, 0.0137, 0.0127, 0.0123, 0.0117, 0.0114, 0.0103, 0.0103, 0.0089, 0.0083, 0.0071, 0.0052, 0.0043, 0.003, 0.0021], \"textposition\": \"outside\", \"x\": [0.2720987956510477, 0.07901827438076242, 0.07062072063040724, 0.06252211385316357, 0.04687992600205872, 0.036019511807145875, 0.034904377572056305, 0.03313911843070981, 0.031812379596517136, 0.029227598716240203, 0.023221137716231025, 0.020567681708239374, 0.02030601919872836, 0.01987623508426182, 0.019810073414207048, 0.018360271377834518, 0.016396277527132457, 0.015615547311689525, 0.014233756869339701, 0.014062536118287682, 0.01372918744614658, 0.012674184667646202, 0.012327093013471076, 0.011674572717256741, 0.01144819811501288, 0.010327753905497929, 0.010311837608707665, 0.008883148006643846, 0.00831119300913713, 0.007120311295673745, 0.005178052349259244, 0.0042734808949154435, 0.0029908119762413516, 0.002057822028329635], \"y\": [\"script_async_true + title_count\", \"a_href_https + div_count\", \"div_count + p_count\", \"link_type_text/css + script_src_.js\", \"script_async_true + script_src_out_of_domain\", \"div_count + meta_count\", \"div_count + .push\", \"script_src_.js + script_src_out_of_domain\", \"window.addEventListener + script_src_.js\", \"a_href_http + div_count\", \"div_count + link_href_out_of_domain\", \"center_count + script_src_.js\", \"script_src_.js / link_href_.css\", \"script_src_.js\", \"div_count + title_count\", \"center_count + script_src_out_of_domain\", \"img_src_.jpg + script_async_true\", \"window.addEventListener + script_src_out_of_domain\", \"script_src_.js / title_count\", \"div_count + img_src_out_of_domain\", \"script_src_out_of_domain\", \"link_rel_https://api.w.org/ + script_src_.js\", \"div_count + img_src_.jpg\", \"div_count + li_count\", \"link_rel_shortlink + script_src_.js\", \"link_rel_https://api.w.org/ + script_src_out_of_domain\", \"br_count + div_count\", \"link_rel_shortlink + script_src_out_of_domain\", \"form_action_http + script_src_.js\", \"div_count + script_async_true\", \"link_type_application/rsd+xml + script_src_out_of_domain\", \"form_action_http + script_src_out_of_domain\", \"link_type_application/rsd+xml + script_src_.js\", \"script_src_out_of_domain / title_count\"], \"type\": \"bar\", \"uid\": \"6c19aa7e-e298-4a24-ae8f-7cd0523ad322\"}], {\"autosize\": false, \"height\": 1000, \"width\": 1000, \"xaxis\": {\"tickfont\": {\"color\": \"black\", \"size\": 12}, \"title\": \"Feature Importances\"}, \"yaxis\": {\"automargin\": true}}, {\"showLink\": true, \"linkText\": \"Export to plot.ly\", \"plotlyServerURL\": \"https://plot.ly\"})});</script>"
      ]
     },
     "metadata": {},
     "output_type": "display_data"
    }
   ],
   "source": [
    "feat_impt_plot(np.average(feat_imp,axis=0),feature_name)"
   ]
  },
  {
   "cell_type": "markdown",
   "metadata": {},
   "source": [
    "### <a id='5' style=\"text-decoration : none; color : #000000;\">5. Feature Transformation with PCA </a>"
   ]
  },
  {
   "cell_type": "code",
   "execution_count": 48,
   "metadata": {},
   "outputs": [
    {
     "name": "stderr",
     "output_type": "stream",
     "text": [
      "distributed.core - INFO - Event loop was unresponsive in Nanny for 91.21s.  This is often caused by long-running GIL-holding functions or moving large chunks of data. This can cause timeouts and instability.\n",
      "distributed.core - INFO - Event loop was unresponsive in Nanny for 91.21s.  This is often caused by long-running GIL-holding functions or moving large chunks of data. This can cause timeouts and instability.\n",
      "distributed.core - INFO - Event loop was unresponsive in Nanny for 91.21s.  This is often caused by long-running GIL-holding functions or moving large chunks of data. This can cause timeouts and instability.\n",
      "distributed.core - INFO - Event loop was unresponsive in Nanny for 91.21s.  This is often caused by long-running GIL-holding functions or moving large chunks of data. This can cause timeouts and instability.\n",
      "distributed.core - INFO - Event loop was unresponsive in Nanny for 91.21s.  This is often caused by long-running GIL-holding functions or moving large chunks of data. This can cause timeouts and instability.\n",
      "distributed.core - INFO - Event loop was unresponsive in Nanny for 91.20s.  This is often caused by long-running GIL-holding functions or moving large chunks of data. This can cause timeouts and instability.\n",
      "distributed.core - INFO - Event loop was unresponsive in Nanny for 91.20s.  This is often caused by long-running GIL-holding functions or moving large chunks of data. This can cause timeouts and instability.\n",
      "distributed.core - INFO - Event loop was unresponsive in Nanny for 91.20s.  This is often caused by long-running GIL-holding functions or moving large chunks of data. This can cause timeouts and instability.\n",
      "distributed.core - INFO - Event loop was unresponsive in Nanny for 91.20s.  This is often caused by long-running GIL-holding functions or moving large chunks of data. This can cause timeouts and instability.\n",
      "distributed.core - INFO - Event loop was unresponsive in Nanny for 91.20s.  This is often caused by long-running GIL-holding functions or moving large chunks of data. This can cause timeouts and instability.\n",
      "distributed.core - INFO - Event loop was unresponsive in Nanny for 91.21s.  This is often caused by long-running GIL-holding functions or moving large chunks of data. This can cause timeouts and instability.\n"
     ]
    },
    {
     "data": {
      "image/png": "[encoded data removed]",
      "text/plain": [
       "<Figure size 720x576 with 1 Axes>"
      ]
     },
     "metadata": {},
     "output_type": "display_data"
    }
   ],
   "source": [
    "X=fs.loc[:,fs.columns!='Target']\n",
    "y=fs.Target.values\n",
    "feature_name = X.columns.tolist()\n",
    "X=np.nan_to_num(X)\n",
    "scaler=StandardScaler()\n",
    "scaled_X=scaler.fit_transform(X)\n",
    "\n",
    "sns.set_style('whitegrid')\n",
    "pca = PCA(random_state=0)\n",
    "pca.fit(scaled_X)\n",
    "plt.figure(1, figsize=(10, 8))\n",
    "plt.plot(np.cumsum(pca.explained_variance_ratio_),'--o', linewidth=2)\n",
    "plt.axis('tight')\n",
    "plt.xlabel('Number of Components',size=14)\n",
    "plt.xticks(size=12)\n",
    "plt.xlim([0,200])\n",
    "plt.ylabel('% Explained Variance',size=14)\n",
    "plt.yticks(size=12)\n",
    "plt.title('% Variance Explained by Principal Components',size=14,y=1.05)\n",
    "plt.show()"
   ]
  },
  {
   "cell_type": "code",
   "execution_count": 49,
   "metadata": {},
   "outputs": [
    {
     "name": "stdout",
     "output_type": "stream",
     "text": [
      "Variance explained using 215 components is: 0.8016671493352625\n"
     ]
    }
   ],
   "source": [
    "pca=PCA(n_components=215,whiten=True,random_state=0)\n",
    "X_pca_21=pca.fit_transform(scaled_X)\n",
    "print(\"Variance explained using 215 components is:\",sum(pca.explained_variance_ratio_))"
   ]
  },
  {
   "cell_type": "code",
   "execution_count": 50,
   "metadata": {},
   "outputs": [],
   "source": [
    "X_train=X_pca_21[:32567]\n",
    "Y_train=fs.iloc[:32567]['Target'].values\n",
    "X_test=X_pca_21[32567:]\n",
    "Y_test=fs.iloc[32567:]['Target'].values\n",
    "\n",
    "## Table to store training and test measures so we can compare later\n",
    "table_80_70_train=pd.DataFrame(columns=['accuracy','TP','TN','FP','FN','FPR','FNR'])\n",
    "table_80_70_test=pd.DataFrame(columns=['accuracy','TP','TN','FP','FN','FPR','FNR','auc','mcc'])"
   ]
  },
  {
   "cell_type": "code",
   "execution_count": 51,
   "metadata": {
    "scrolled": false
   },
   "outputs": [
    {
     "name": "stdout",
     "output_type": "stream",
     "text": [
      "\u001b[1mK-Nearest Neighbors\u001b[0m\n",
      "Accuracy of the model for training data is: 0.8705130960788529\n",
      "Confusion Matrix for training data is:\n"
     ]
    },
    {
     "data": {
      "text/plain": [
       "Predicted  False  True  __all__\n",
       "Actual                         \n",
       "False      27649   189    27838\n",
       "True        4028   701     4729\n",
       "__all__    31677   890    32567"
      ]
     },
     "metadata": {},
     "output_type": "display_data"
    },
    {
     "name": "stdout",
     "output_type": "stream",
     "text": [
      "Accuracy of the model for test data is: 0.8621960206337509\n",
      "Confusion Matrix for test data is:\n"
     ]
    },
    {
     "data": {
      "text/plain": [
       "Predicted  False  True  __all__\n",
       "Actual                         \n",
       "False       6871    69     6940\n",
       "True        1053   149     1202\n",
       "__all__     7924   218     8142"
      ]
     },
     "metadata": {},
     "output_type": "display_data"
    },
    {
     "name": "stdout",
     "output_type": "stream",
     "text": [
      "\n",
      "\n",
      "\u001b[1mLogistic Regression\u001b[0m\n",
      "Accuracy of the model for training data is: 0.8997451407866859\n",
      "Confusion Matrix for training data is:\n"
     ]
    },
    {
     "data": {
      "text/plain": [
       "Predicted  False  True  __all__\n",
       "Actual                         \n",
       "False      25352  2486    27838\n",
       "True         779  3950     4729\n",
       "__all__    26131  6436    32567"
      ]
     },
     "metadata": {},
     "output_type": "display_data"
    },
    {
     "name": "stdout",
     "output_type": "stream",
     "text": [
      "Accuracy of the model for test data is: 0.8986735445836403\n",
      "Confusion Matrix for test data is:\n"
     ]
    },
    {
     "data": {
      "text/plain": [
       "Predicted  False  True  __all__\n",
       "Actual                         \n",
       "False       6309   631     6940\n",
       "True         194  1008     1202\n",
       "__all__     6503  1639     8142"
      ]
     },
     "metadata": {},
     "output_type": "display_data"
    },
    {
     "name": "stdout",
     "output_type": "stream",
     "text": [
      "\n",
      "\n",
      "\u001b[1mRandomForest Classifier\u001b[0m\n",
      "Accuracy of the model for training data is: 0.9244634138852212\n",
      "Confusion Matrix for training data is:\n"
     ]
    },
    {
     "data": {
      "text/plain": [
       "Predicted  False  True  __all__\n",
       "Actual                         \n",
       "False      25560  2278    27838\n",
       "True         182  4547     4729\n",
       "__all__    25742  6825    32567"
      ]
     },
     "metadata": {},
     "output_type": "display_data"
    },
    {
     "name": "stdout",
     "output_type": "stream",
     "text": [
      "Accuracy of the model for test data is: 0.9110783591255219\n",
      "Confusion Matrix for test data is:\n"
     ]
    },
    {
     "data": {
      "text/plain": [
       "Predicted  False  True  __all__\n",
       "Actual                         \n",
       "False       6354   586     6940\n",
       "True         138  1064     1202\n",
       "__all__     6492  1650     8142"
      ]
     },
     "metadata": {},
     "output_type": "display_data"
    },
    {
     "data": {
      "application/vnd.plotly.v1+json": {
       "config": {
        "linkText": "Export to plot.ly",
        "plotlyServerURL": "https://plot.ly",
        "showLink": true
       },
       "data": [
        {
         "marker": {
          "color": "rgb(158,202,225)",
          "line": {
           "color": "rgb(8,48,107)",
           "width": 1.5
          }
         },
         "opacity": 0.6,
         "orientation": "h",
         "text": [
          0.1829,
          0.079,
          0.077,
          0.0704,
          0.0567,
          0.0375,
          0.0241,
          0.0212,
          0.0199,
          0.0187,
          0.0186,
          0.0168,
          0.0164,
          0.0164,
          0.0162,
          0.0087,
          0.0084,
          0.0069,
          0.0063,
          0.0055,
          0.0054,
          0.0046,
          0.0045,
          0.0043,
          0.0042,
          0.0042,
          0.0042,
          0.0042,
          0.0039,
          0.0039,
          0.0036,
          0.0034,
          0.0032,
          0.0031,
          0.0031,
          0.003,
          0.0029,
          0.0028,
          0.0027,
          0.0027,
          0.0026,
          0.0025,
          0.0025,
          0.0025,
          0.0025,
          0.0025,
          0.0024,
          0.0024,
          0.0024,
          0.0024,
          0.0023,
          0.0023,
          0.0023,
          0.0022,
          0.0022,
          0.0021,
          0.0021,
          0.0021,
          0.0021,
          0.0021,
          0.002,
          0.002,
          0.002,
          0.002,
          0.002,
          0.0019,
          0.0019,
          0.0019,
          0.0019,
          0.0018,
          0.0018,
          0.0017,
          0.0017,
          0.0017,
          0.0017,
          0.0017,
          0.0017,
          0.0017,
          0.0016,
          0.0016,
          0.0016,
          0.0016,
          0.0016,
          0.0016,
          0.0016,
          0.0015,
          0.0015,
          0.0015,
          0.0015,
          0.0015,
          0.0015,
          0.0015,
          0.0014,
          0.0014,
          0.0014,
          0.0014,
          0.0014,
          0.0014,
          0.0014,
          0.0014,
          0.0014,
          0.0014,
          0.0014,
          0.0013,
          0.0013,
          0.0013,
          0.0013,
          0.0013,
          0.0013,
          0.0013,
          0.0013,
          0.0013,
          0.0013,
          0.0012,
          0.0012,
          0.0012,
          0.0012,
          0.0012,
          0.0012,
          0.0012,
          0.0012,
          0.0012,
          0.0012,
          0.0012,
          0.0012,
          0.0012,
          0.0011,
          0.0011,
          0.0011,
          0.0011,
          0.0011,
          0.0011,
          0.0011,
          0.0011,
          0.0011,
          0.0011,
          0.0011,
          0.0011,
          0.0011,
          0.0011,
          0.0011,
          0.0011,
          0.001,
          0.001,
          0.001,
          0.001,
          0.001,
          0.001,
          0.001,
          0.001,
          0.001,
          0.001,
          0.001,
          0.001,
          0.001,
          0.001,
          0.0009,
          0.0009,
          0.0009,
          0.0009,
          0.0009,
          0.0009,
          0.0009,
          0.0009,
          0.0009,
          0.0009,
          0.0009,
          0.0009,
          0.0009,
          0.0009,
          0.0009,
          0.0009,
          0.0008,
          0.0008,
          0.0008,
          0.0008,
          0.0008,
          0.0008,
          0.0008,
          0.0008,
          0.0008,
          0.0008,
          0.0008,
          0.0008,
          0.0007,
          0.0007,
          0.0007,
          0.0007,
          0.0007,
          0.0007,
          0.0007,
          0.0007,
          0.0006,
          0.0006,
          0.0006,
          0.0006,
          0.0006,
          0.0006,
          0.0006,
          0.0006,
          0.0006,
          0.0006,
          0.0006,
          0.0006,
          0.0006,
          0.0006,
          0.0005,
          0.0005,
          0.0005,
          0.0005,
          0.0005,
          0.0005,
          0.0005,
          0.0004,
          0.0003
         ],
         "textposition": "outside",
         "type": "bar",
         "uid": "2f58ddda-7464-479b-afb2-3175ba9e0076",
         "x": [
          0.18287996305099247,
          0.07895431633560906,
          0.0769684928929129,
          0.07035660110109146,
          0.05669497073692531,
          0.03754569323866385,
          0.02405218060605282,
          0.02122899461187294,
          0.019870130469667395,
          0.01874321827027984,
          0.01856785074509749,
          0.016786548914825526,
          0.01644774062136754,
          0.016350052541640746,
          0.016177551551538643,
          0.00873417573682179,
          0.008359910042612256,
          0.006944107103063567,
          0.006285852769373915,
          0.005473129721219864,
          0.005352137839553956,
          0.004610881506784658,
          0.004547208186949665,
          0.004288825908825564,
          0.004210821892914762,
          0.00418027851403976,
          0.004174908613876404,
          0.004172749509001494,
          0.00387925796291154,
          0.003860150981712407,
          0.0035630196855408304,
          0.003408181114852322,
          0.0031596156212441314,
          0.00308394067934495,
          0.0030795322912907977,
          0.0029765758531924303,
          0.0028680618748458922,
          0.002784536983267246,
          0.002701062417290116,
          0.0026639775195954926,
          0.002626909612900039,
          0.0025472334586058775,
          0.0025391433797800666,
          0.002531398107816993,
          0.002496673778020211,
          0.0024709958913565646,
          0.0024431541135395223,
          0.0024318608154572817,
          0.0024082953992338963,
          0.002364139965416373,
          0.0022887419074099032,
          0.002282353730686616,
          0.0022550250404714516,
          0.0021751112206613355,
          0.0021566129862328224,
          0.0021336079256942656,
          0.0021334155086095577,
          0.002124017489614302,
          0.002110901916429486,
          0.0020536778324489885,
          0.002028749729648787,
          0.002025375524020846,
          0.0020217455132372567,
          0.0020207499361123175,
          0.0019543535312570876,
          0.00193653466876374,
          0.001926019299788024,
          0.0019035510142137724,
          0.0018516152915148032,
          0.0018140242985373006,
          0.0017739804476163321,
          0.0017414604987506664,
          0.001735493714245384,
          0.0017343494463588562,
          0.0016870011141771814,
          0.001672588189811227,
          0.0016693940970116446,
          0.0016639518238570467,
          0.001643863754699276,
          0.0016323044894000563,
          0.0016308034909166796,
          0.0015789261528806348,
          0.001574952356734851,
          0.001558260011728989,
          0.0015575588509187412,
          0.0015270341496230334,
          0.0015053339277671266,
          0.0014895532902020022,
          0.001486735525434524,
          0.0014855323709809776,
          0.0014718016691278838,
          0.0014509430357739453,
          0.001440883468944219,
          0.0014347829479485642,
          0.0014340817166520973,
          0.001413992934417308,
          0.0014081626835266293,
          0.0013989732559538453,
          0.0013947435999711723,
          0.0013837420014603048,
          0.0013720463029755453,
          0.0013575964763085282,
          0.0013557116518512812,
          0.0013456444414141828,
          0.0013424998363548038,
          0.0013391915075815178,
          0.0013204073767029592,
          0.0013104963539146085,
          0.0012957499210138209,
          0.0012883586735846675,
          0.0012665914043285544,
          0.0012564552119411886,
          0.0012527889596602633,
          0.0012343925313368542,
          0.001233275790885025,
          0.0012295130942230486,
          0.0012251505654216122,
          0.0012024183260642167,
          0.0011918424354330653,
          0.0011905413322558418,
          0.001189259102494761,
          0.0011891971130070385,
          0.0011853420958947277,
          0.0011780241245706528,
          0.0011757621282056058,
          0.0011570263971441672,
          0.0011463792056783698,
          0.0011449685941911072,
          0.0011246777536424984,
          0.0011214012900327217,
          0.0011210802644544568,
          0.001110099882617346,
          0.001107948306209835,
          0.0011056806236525469,
          0.0011047218944078517,
          0.0010872215486528519,
          0.001084409033430715,
          0.0010749888506159213,
          0.0010725470839021763,
          0.0010655110878253526,
          0.0010642765068118345,
          0.0010629617525772547,
          0.0010370071593832205,
          0.001030726746552401,
          0.001010684149630293,
          0.00098705893993079,
          0.0009846002210672795,
          0.000975615230794451,
          0.0009689709714460794,
          0.000968092010604713,
          0.0009672098822825117,
          0.0009664696339177922,
          0.0009662990744242232,
          0.00095974722982685,
          0.0009588447968425773,
          0.0009522414472531542,
          0.0009444345735687771,
          0.0009374171722228262,
          0.0009355592331061381,
          0.0009330529342990049,
          0.0009268878094426213,
          0.0009087585592287782,
          0.0009081573608170151,
          0.0008999527354888735,
          0.0008980958106670114,
          0.0008909828550831575,
          0.0008863902239664616,
          0.0008759319890999458,
          0.0008716659924814152,
          0.0008658885211287153,
          0.0008570446733924718,
          0.0008540497039001736,
          0.0008448327609132279,
          0.0008417509903308624,
          0.0008395343293900745,
          0.0008369111119944488,
          0.0008267377741572489,
          0.0008206399620384064,
          0.0007933557258505558,
          0.0007922719764008972,
          0.0007756394872834244,
          0.0007655293281639342,
          0.0007609095595381357,
          0.0007567450112544952,
          0.0007463955111190046,
          0.000719752039934821,
          0.000691461450833572,
          0.0006854755174966408,
          0.0006700725961887738,
          0.0006682312252298937,
          0.0006653487093203457,
          0.0006618056591137808,
          0.000643324639902822,
          0.0006413819203765053,
          0.0006379073973909745,
          0.0006364556554105246,
          0.0006359251418464933,
          0.0006220473414698562,
          0.0006117277636666226,
          0.0006099567861374267,
          0.0006089484606296402,
          0.0005968269928512565,
          0.000592150306488115,
          0.000563911592712179,
          0.0005567061505656717,
          0.0005559329285335888,
          0.0005400389422720832,
          0.0005328793217216483,
          0.0005110311332604628,
          0.000507303811621121,
          0.0004896531346553213,
          0.0004757846673361598,
          0.00046275503146317513,
          0.00044320089620030894,
          0.00032437485877985674
         ],
         "y": [
          "0",
          "31",
          "23",
          "30",
          "4",
          "25",
          "117",
          "124",
          "176",
          "56",
          "104",
          "49",
          "192",
          "123",
          "61",
          "33",
          "29",
          "190",
          "114",
          "111",
          "1",
          "141",
          "16",
          "201",
          "5",
          "136",
          "57",
          "120",
          "26",
          "100",
          "79",
          "97",
          "81",
          "36",
          "164",
          "129",
          "10",
          "83",
          "47",
          "125",
          "160",
          "65",
          "96",
          "73",
          "53",
          "93",
          "101",
          "67",
          "2",
          "92",
          "197",
          "110",
          "174",
          "152",
          "143",
          "138",
          "162",
          "199",
          "11",
          "70",
          "54",
          "80",
          "64",
          "45",
          "209",
          "43",
          "94",
          "169",
          "86",
          "7",
          "130",
          "72",
          "6",
          "145",
          "135",
          "22",
          "112",
          "3",
          "32",
          "194",
          "91",
          "9",
          "13",
          "184",
          "66",
          "77",
          "14",
          "68",
          "24",
          "40",
          "193",
          "156",
          "159",
          "153",
          "131",
          "214",
          "27",
          "148",
          "76",
          "178",
          "102",
          "211",
          "180",
          "87",
          "19",
          "186",
          "85",
          "18",
          "140",
          "137",
          "15",
          "63",
          "99",
          "213",
          "115",
          "185",
          "163",
          "51",
          "200",
          "105",
          "175",
          "188",
          "133",
          "106",
          "35",
          "142",
          "149",
          "196",
          "78",
          "108",
          "132",
          "41",
          "128",
          "21",
          "37",
          "58",
          "154",
          "69",
          "82",
          "187",
          "44",
          "157",
          "118",
          "198",
          "139",
          "62",
          "179",
          "195",
          "181",
          "107",
          "146",
          "98",
          "191",
          "48",
          "189",
          "52",
          "147",
          "144",
          "38",
          "12",
          "122",
          "88",
          "161",
          "158",
          "208",
          "134",
          "17",
          "172",
          "113",
          "75",
          "210",
          "202",
          "42",
          "206",
          "8",
          "20",
          "183",
          "109",
          "177",
          "28",
          "103",
          "166",
          "203",
          "121",
          "170",
          "46",
          "151",
          "167",
          "212",
          "116",
          "95",
          "34",
          "205",
          "90",
          "127",
          "59",
          "165",
          "119",
          "207",
          "39",
          "71",
          "168",
          "182",
          "150",
          "84",
          "126",
          "173",
          "50",
          "89",
          "204",
          "55",
          "60",
          "171",
          "155",
          "74"
         ]
        }
       ],
       "layout": {
        "autosize": false,
        "height": 1000,
        "width": 1000,
        "xaxis": {
         "tickfont": {
          "color": "black",
          "size": 12
         },
         "title": "Feature Importances"
        },
        "yaxis": {
         "automargin": true
        }
       }
      },
      "text/html": [
       "<div id=\"af4255e9-25d6-49d6-bc46-e26e2774b6d5\" style=\"height: 1000px; width: 1000px;\" class=\"plotly-graph-div\"></div><script type=\"text/javascript\">require([\"plotly\"], function(Plotly) { window.PLOTLYENV=window.PLOTLYENV || {};window.PLOTLYENV.BASE_URL=\"https://plot.ly\";Plotly.newPlot(\"af4255e9-25d6-49d6-bc46-e26e2774b6d5\", [{\"marker\": {\"color\": \"rgb(158,202,225)\", \"line\": {\"color\": \"rgb(8,48,107)\", \"width\": 1.5}}, \"opacity\": 0.6, \"orientation\": \"h\", \"text\": [0.1829, 0.079, 0.077, 0.0704, 0.0567, 0.0375, 0.0241, 0.0212, 0.0199, 0.0187, 0.0186, 0.0168, 0.0164, 0.0164, 0.0162, 0.0087, 0.0084, 0.0069, 0.0063, 0.0055, 0.0054, 0.0046, 0.0045, 0.0043, 0.0042, 0.0042, 0.0042, 0.0042, 0.0039, 0.0039, 0.0036, 0.0034, 0.0032, 0.0031, 0.0031, 0.003, 0.0029, 0.0028, 0.0027, 0.0027, 0.0026, 0.0025, 0.0025, 0.0025, 0.0025, 0.0025, 0.0024, 0.0024, 0.0024, 0.0024, 0.0023, 0.0023, 0.0023, 0.0022, 0.0022, 0.0021, 0.0021, 0.0021, 0.0021, 0.0021, 0.002, 0.002, 0.002, 0.002, 0.002, 0.0019, 0.0019, 0.0019, 0.0019, 0.0018, 0.0018, 0.0017, 0.0017, 0.0017, 0.0017, 0.0017, 0.0017, 0.0017, 0.0016, 0.0016, 0.0016, 0.0016, 0.0016, 0.0016, 0.0016, 0.0015, 0.0015, 0.0015, 0.0015, 0.0015, 0.0015, 0.0015, 0.0014, 0.0014, 0.0014, 0.0014, 0.0014, 0.0014, 0.0014, 0.0014, 0.0014, 0.0014, 0.0014, 0.0013, 0.0013, 0.0013, 0.0013, 0.0013, 0.0013, 0.0013, 0.0013, 0.0013, 0.0013, 0.0012, 0.0012, 0.0012, 0.0012, 0.0012, 0.0012, 0.0012, 0.0012, 0.0012, 0.0012, 0.0012, 0.0012, 0.0012, 0.0011, 0.0011, 0.0011, 0.0011, 0.0011, 0.0011, 0.0011, 0.0011, 0.0011, 0.0011, 0.0011, 0.0011, 0.0011, 0.0011, 0.0011, 0.0011, 0.001, 0.001, 0.001, 0.001, 0.001, 0.001, 0.001, 0.001, 0.001, 0.001, 0.001, 0.001, 0.001, 0.001, 0.0009, 0.0009, 0.0009, 0.0009, 0.0009, 0.0009, 0.0009, 0.0009, 0.0009, 0.0009, 0.0009, 0.0009, 0.0009, 0.0009, 0.0009, 0.0009, 0.0008, 0.0008, 0.0008, 0.0008, 0.0008, 0.0008, 0.0008, 0.0008, 0.0008, 0.0008, 0.0008, 0.0008, 0.0007, 0.0007, 0.0007, 0.0007, 0.0007, 0.0007, 0.0007, 0.0007, 0.0006, 0.0006, 0.0006, 0.0006, 0.0006, 0.0006, 0.0006, 0.0006, 0.0006, 0.0006, 0.0006, 0.0006, 0.0006, 0.0006, 0.0005, 0.0005, 0.0005, 0.0005, 0.0005, 0.0005, 0.0005, 0.0004, 0.0003], \"textposition\": \"outside\", \"x\": [0.18287996305099247, 0.07895431633560906, 0.0769684928929129, 0.07035660110109146, 0.05669497073692531, 0.03754569323866385, 0.02405218060605282, 0.02122899461187294, 0.019870130469667395, 0.01874321827027984, 0.01856785074509749, 0.016786548914825526, 0.01644774062136754, 0.016350052541640746, 0.016177551551538643, 0.00873417573682179, 0.008359910042612256, 0.006944107103063567, 0.006285852769373915, 0.005473129721219864, 0.005352137839553956, 0.004610881506784658, 0.004547208186949665, 0.004288825908825564, 0.004210821892914762, 0.00418027851403976, 0.004174908613876404, 0.004172749509001494, 0.00387925796291154, 0.003860150981712407, 0.0035630196855408304, 0.003408181114852322, 0.0031596156212441314, 0.00308394067934495, 0.0030795322912907977, 0.0029765758531924303, 0.0028680618748458922, 0.002784536983267246, 0.002701062417290116, 0.0026639775195954926, 0.002626909612900039, 0.0025472334586058775, 0.0025391433797800666, 0.002531398107816993, 0.002496673778020211, 0.0024709958913565646, 0.0024431541135395223, 0.0024318608154572817, 0.0024082953992338963, 0.002364139965416373, 0.0022887419074099032, 0.002282353730686616, 0.0022550250404714516, 0.0021751112206613355, 0.0021566129862328224, 0.0021336079256942656, 0.0021334155086095577, 0.002124017489614302, 0.002110901916429486, 0.0020536778324489885, 0.002028749729648787, 0.002025375524020846, 0.0020217455132372567, 0.0020207499361123175, 0.0019543535312570876, 0.00193653466876374, 0.001926019299788024, 0.0019035510142137724, 0.0018516152915148032, 0.0018140242985373006, 0.0017739804476163321, 0.0017414604987506664, 0.001735493714245384, 0.0017343494463588562, 0.0016870011141771814, 0.001672588189811227, 0.0016693940970116446, 0.0016639518238570467, 0.001643863754699276, 0.0016323044894000563, 0.0016308034909166796, 0.0015789261528806348, 0.001574952356734851, 0.001558260011728989, 0.0015575588509187412, 0.0015270341496230334, 0.0015053339277671266, 0.0014895532902020022, 0.001486735525434524, 0.0014855323709809776, 0.0014718016691278838, 0.0014509430357739453, 0.001440883468944219, 0.0014347829479485642, 0.0014340817166520973, 0.001413992934417308, 0.0014081626835266293, 0.0013989732559538453, 0.0013947435999711723, 0.0013837420014603048, 0.0013720463029755453, 0.0013575964763085282, 0.0013557116518512812, 0.0013456444414141828, 0.0013424998363548038, 0.0013391915075815178, 0.0013204073767029592, 0.0013104963539146085, 0.0012957499210138209, 0.0012883586735846675, 0.0012665914043285544, 0.0012564552119411886, 0.0012527889596602633, 0.0012343925313368542, 0.001233275790885025, 0.0012295130942230486, 0.0012251505654216122, 0.0012024183260642167, 0.0011918424354330653, 0.0011905413322558418, 0.001189259102494761, 0.0011891971130070385, 0.0011853420958947277, 0.0011780241245706528, 0.0011757621282056058, 0.0011570263971441672, 0.0011463792056783698, 0.0011449685941911072, 0.0011246777536424984, 0.0011214012900327217, 0.0011210802644544568, 0.001110099882617346, 0.001107948306209835, 0.0011056806236525469, 0.0011047218944078517, 0.0010872215486528519, 0.001084409033430715, 0.0010749888506159213, 0.0010725470839021763, 0.0010655110878253526, 0.0010642765068118345, 0.0010629617525772547, 0.0010370071593832205, 0.001030726746552401, 0.001010684149630293, 0.00098705893993079, 0.0009846002210672795, 0.000975615230794451, 0.0009689709714460794, 0.000968092010604713, 0.0009672098822825117, 0.0009664696339177922, 0.0009662990744242232, 0.00095974722982685, 0.0009588447968425773, 0.0009522414472531542, 0.0009444345735687771, 0.0009374171722228262, 0.0009355592331061381, 0.0009330529342990049, 0.0009268878094426213, 0.0009087585592287782, 0.0009081573608170151, 0.0008999527354888735, 0.0008980958106670114, 0.0008909828550831575, 0.0008863902239664616, 0.0008759319890999458, 0.0008716659924814152, 0.0008658885211287153, 0.0008570446733924718, 0.0008540497039001736, 0.0008448327609132279, 0.0008417509903308624, 0.0008395343293900745, 0.0008369111119944488, 0.0008267377741572489, 0.0008206399620384064, 0.0007933557258505558, 0.0007922719764008972, 0.0007756394872834244, 0.0007655293281639342, 0.0007609095595381357, 0.0007567450112544952, 0.0007463955111190046, 0.000719752039934821, 0.000691461450833572, 0.0006854755174966408, 0.0006700725961887738, 0.0006682312252298937, 0.0006653487093203457, 0.0006618056591137808, 0.000643324639902822, 0.0006413819203765053, 0.0006379073973909745, 0.0006364556554105246, 0.0006359251418464933, 0.0006220473414698562, 0.0006117277636666226, 0.0006099567861374267, 0.0006089484606296402, 0.0005968269928512565, 0.000592150306488115, 0.000563911592712179, 0.0005567061505656717, 0.0005559329285335888, 0.0005400389422720832, 0.0005328793217216483, 0.0005110311332604628, 0.000507303811621121, 0.0004896531346553213, 0.0004757846673361598, 0.00046275503146317513, 0.00044320089620030894, 0.00032437485877985674], \"y\": [\"0\", \"31\", \"23\", \"30\", \"4\", \"25\", \"117\", \"124\", \"176\", \"56\", \"104\", \"49\", \"192\", \"123\", \"61\", \"33\", \"29\", \"190\", \"114\", \"111\", \"1\", \"141\", \"16\", \"201\", \"5\", \"136\", \"57\", \"120\", \"26\", \"100\", \"79\", \"97\", \"81\", \"36\", \"164\", \"129\", \"10\", \"83\", \"47\", \"125\", \"160\", \"65\", \"96\", \"73\", \"53\", \"93\", \"101\", \"67\", \"2\", \"92\", \"197\", \"110\", \"174\", \"152\", \"143\", \"138\", \"162\", \"199\", \"11\", \"70\", \"54\", \"80\", \"64\", \"45\", \"209\", \"43\", \"94\", \"169\", \"86\", \"7\", \"130\", \"72\", \"6\", \"145\", \"135\", \"22\", \"112\", \"3\", \"32\", \"194\", \"91\", \"9\", \"13\", \"184\", \"66\", \"77\", \"14\", \"68\", \"24\", \"40\", \"193\", \"156\", \"159\", \"153\", \"131\", \"214\", \"27\", \"148\", \"76\", \"178\", \"102\", \"211\", \"180\", \"87\", \"19\", \"186\", \"85\", \"18\", \"140\", \"137\", \"15\", \"63\", \"99\", \"213\", \"115\", \"185\", \"163\", \"51\", \"200\", \"105\", \"175\", \"188\", \"133\", \"106\", \"35\", \"142\", \"149\", \"196\", \"78\", \"108\", \"132\", \"41\", \"128\", \"21\", \"37\", \"58\", \"154\", \"69\", \"82\", \"187\", \"44\", \"157\", \"118\", \"198\", \"139\", \"62\", \"179\", \"195\", \"181\", \"107\", \"146\", \"98\", \"191\", \"48\", \"189\", \"52\", \"147\", \"144\", \"38\", \"12\", \"122\", \"88\", \"161\", \"158\", \"208\", \"134\", \"17\", \"172\", \"113\", \"75\", \"210\", \"202\", \"42\", \"206\", \"8\", \"20\", \"183\", \"109\", \"177\", \"28\", \"103\", \"166\", \"203\", \"121\", \"170\", \"46\", \"151\", \"167\", \"212\", \"116\", \"95\", \"34\", \"205\", \"90\", \"127\", \"59\", \"165\", \"119\", \"207\", \"39\", \"71\", \"168\", \"182\", \"150\", \"84\", \"126\", \"173\", \"50\", \"89\", \"204\", \"55\", \"60\", \"171\", \"155\", \"74\"], \"type\": \"bar\", \"uid\": \"2f58ddda-7464-479b-afb2-3175ba9e0076\"}], {\"autosize\": false, \"height\": 1000, \"width\": 1000, \"xaxis\": {\"tickfont\": {\"color\": \"black\", \"size\": 12}, \"title\": \"Feature Importances\"}, \"yaxis\": {\"automargin\": true}}, {\"showLink\": true, \"linkText\": \"Export to plot.ly\", \"plotlyServerURL\": \"https://plot.ly\"})});</script>"
      ],
      "text/vnd.plotly.v1+html": [
       "<div id=\"af4255e9-25d6-49d6-bc46-e26e2774b6d5\" style=\"height: 1000px; width: 1000px;\" class=\"plotly-graph-div\"></div><script type=\"text/javascript\">require([\"plotly\"], function(Plotly) { window.PLOTLYENV=window.PLOTLYENV || {};window.PLOTLYENV.BASE_URL=\"https://plot.ly\";Plotly.newPlot(\"af4255e9-25d6-49d6-bc46-e26e2774b6d5\", [{\"marker\": {\"color\": \"rgb(158,202,225)\", \"line\": {\"color\": \"rgb(8,48,107)\", \"width\": 1.5}}, \"opacity\": 0.6, \"orientation\": \"h\", \"text\": [0.1829, 0.079, 0.077, 0.0704, 0.0567, 0.0375, 0.0241, 0.0212, 0.0199, 0.0187, 0.0186, 0.0168, 0.0164, 0.0164, 0.0162, 0.0087, 0.0084, 0.0069, 0.0063, 0.0055, 0.0054, 0.0046, 0.0045, 0.0043, 0.0042, 0.0042, 0.0042, 0.0042, 0.0039, 0.0039, 0.0036, 0.0034, 0.0032, 0.0031, 0.0031, 0.003, 0.0029, 0.0028, 0.0027, 0.0027, 0.0026, 0.0025, 0.0025, 0.0025, 0.0025, 0.0025, 0.0024, 0.0024, 0.0024, 0.0024, 0.0023, 0.0023, 0.0023, 0.0022, 0.0022, 0.0021, 0.0021, 0.0021, 0.0021, 0.0021, 0.002, 0.002, 0.002, 0.002, 0.002, 0.0019, 0.0019, 0.0019, 0.0019, 0.0018, 0.0018, 0.0017, 0.0017, 0.0017, 0.0017, 0.0017, 0.0017, 0.0017, 0.0016, 0.0016, 0.0016, 0.0016, 0.0016, 0.0016, 0.0016, 0.0015, 0.0015, 0.0015, 0.0015, 0.0015, 0.0015, 0.0015, 0.0014, 0.0014, 0.0014, 0.0014, 0.0014, 0.0014, 0.0014, 0.0014, 0.0014, 0.0014, 0.0014, 0.0013, 0.0013, 0.0013, 0.0013, 0.0013, 0.0013, 0.0013, 0.0013, 0.0013, 0.0013, 0.0012, 0.0012, 0.0012, 0.0012, 0.0012, 0.0012, 0.0012, 0.0012, 0.0012, 0.0012, 0.0012, 0.0012, 0.0012, 0.0011, 0.0011, 0.0011, 0.0011, 0.0011, 0.0011, 0.0011, 0.0011, 0.0011, 0.0011, 0.0011, 0.0011, 0.0011, 0.0011, 0.0011, 0.0011, 0.001, 0.001, 0.001, 0.001, 0.001, 0.001, 0.001, 0.001, 0.001, 0.001, 0.001, 0.001, 0.001, 0.001, 0.0009, 0.0009, 0.0009, 0.0009, 0.0009, 0.0009, 0.0009, 0.0009, 0.0009, 0.0009, 0.0009, 0.0009, 0.0009, 0.0009, 0.0009, 0.0009, 0.0008, 0.0008, 0.0008, 0.0008, 0.0008, 0.0008, 0.0008, 0.0008, 0.0008, 0.0008, 0.0008, 0.0008, 0.0007, 0.0007, 0.0007, 0.0007, 0.0007, 0.0007, 0.0007, 0.0007, 0.0006, 0.0006, 0.0006, 0.0006, 0.0006, 0.0006, 0.0006, 0.0006, 0.0006, 0.0006, 0.0006, 0.0006, 0.0006, 0.0006, 0.0005, 0.0005, 0.0005, 0.0005, 0.0005, 0.0005, 0.0005, 0.0004, 0.0003], \"textposition\": \"outside\", \"x\": [0.18287996305099247, 0.07895431633560906, 0.0769684928929129, 0.07035660110109146, 0.05669497073692531, 0.03754569323866385, 0.02405218060605282, 0.02122899461187294, 0.019870130469667395, 0.01874321827027984, 0.01856785074509749, 0.016786548914825526, 0.01644774062136754, 0.016350052541640746, 0.016177551551538643, 0.00873417573682179, 0.008359910042612256, 0.006944107103063567, 0.006285852769373915, 0.005473129721219864, 0.005352137839553956, 0.004610881506784658, 0.004547208186949665, 0.004288825908825564, 0.004210821892914762, 0.00418027851403976, 0.004174908613876404, 0.004172749509001494, 0.00387925796291154, 0.003860150981712407, 0.0035630196855408304, 0.003408181114852322, 0.0031596156212441314, 0.00308394067934495, 0.0030795322912907977, 0.0029765758531924303, 0.0028680618748458922, 0.002784536983267246, 0.002701062417290116, 0.0026639775195954926, 0.002626909612900039, 0.0025472334586058775, 0.0025391433797800666, 0.002531398107816993, 0.002496673778020211, 0.0024709958913565646, 0.0024431541135395223, 0.0024318608154572817, 0.0024082953992338963, 0.002364139965416373, 0.0022887419074099032, 0.002282353730686616, 0.0022550250404714516, 0.0021751112206613355, 0.0021566129862328224, 0.0021336079256942656, 0.0021334155086095577, 0.002124017489614302, 0.002110901916429486, 0.0020536778324489885, 0.002028749729648787, 0.002025375524020846, 0.0020217455132372567, 0.0020207499361123175, 0.0019543535312570876, 0.00193653466876374, 0.001926019299788024, 0.0019035510142137724, 0.0018516152915148032, 0.0018140242985373006, 0.0017739804476163321, 0.0017414604987506664, 0.001735493714245384, 0.0017343494463588562, 0.0016870011141771814, 0.001672588189811227, 0.0016693940970116446, 0.0016639518238570467, 0.001643863754699276, 0.0016323044894000563, 0.0016308034909166796, 0.0015789261528806348, 0.001574952356734851, 0.001558260011728989, 0.0015575588509187412, 0.0015270341496230334, 0.0015053339277671266, 0.0014895532902020022, 0.001486735525434524, 0.0014855323709809776, 0.0014718016691278838, 0.0014509430357739453, 0.001440883468944219, 0.0014347829479485642, 0.0014340817166520973, 0.001413992934417308, 0.0014081626835266293, 0.0013989732559538453, 0.0013947435999711723, 0.0013837420014603048, 0.0013720463029755453, 0.0013575964763085282, 0.0013557116518512812, 0.0013456444414141828, 0.0013424998363548038, 0.0013391915075815178, 0.0013204073767029592, 0.0013104963539146085, 0.0012957499210138209, 0.0012883586735846675, 0.0012665914043285544, 0.0012564552119411886, 0.0012527889596602633, 0.0012343925313368542, 0.001233275790885025, 0.0012295130942230486, 0.0012251505654216122, 0.0012024183260642167, 0.0011918424354330653, 0.0011905413322558418, 0.001189259102494761, 0.0011891971130070385, 0.0011853420958947277, 0.0011780241245706528, 0.0011757621282056058, 0.0011570263971441672, 0.0011463792056783698, 0.0011449685941911072, 0.0011246777536424984, 0.0011214012900327217, 0.0011210802644544568, 0.001110099882617346, 0.001107948306209835, 0.0011056806236525469, 0.0011047218944078517, 0.0010872215486528519, 0.001084409033430715, 0.0010749888506159213, 0.0010725470839021763, 0.0010655110878253526, 0.0010642765068118345, 0.0010629617525772547, 0.0010370071593832205, 0.001030726746552401, 0.001010684149630293, 0.00098705893993079, 0.0009846002210672795, 0.000975615230794451, 0.0009689709714460794, 0.000968092010604713, 0.0009672098822825117, 0.0009664696339177922, 0.0009662990744242232, 0.00095974722982685, 0.0009588447968425773, 0.0009522414472531542, 0.0009444345735687771, 0.0009374171722228262, 0.0009355592331061381, 0.0009330529342990049, 0.0009268878094426213, 0.0009087585592287782, 0.0009081573608170151, 0.0008999527354888735, 0.0008980958106670114, 0.0008909828550831575, 0.0008863902239664616, 0.0008759319890999458, 0.0008716659924814152, 0.0008658885211287153, 0.0008570446733924718, 0.0008540497039001736, 0.0008448327609132279, 0.0008417509903308624, 0.0008395343293900745, 0.0008369111119944488, 0.0008267377741572489, 0.0008206399620384064, 0.0007933557258505558, 0.0007922719764008972, 0.0007756394872834244, 0.0007655293281639342, 0.0007609095595381357, 0.0007567450112544952, 0.0007463955111190046, 0.000719752039934821, 0.000691461450833572, 0.0006854755174966408, 0.0006700725961887738, 0.0006682312252298937, 0.0006653487093203457, 0.0006618056591137808, 0.000643324639902822, 0.0006413819203765053, 0.0006379073973909745, 0.0006364556554105246, 0.0006359251418464933, 0.0006220473414698562, 0.0006117277636666226, 0.0006099567861374267, 0.0006089484606296402, 0.0005968269928512565, 0.000592150306488115, 0.000563911592712179, 0.0005567061505656717, 0.0005559329285335888, 0.0005400389422720832, 0.0005328793217216483, 0.0005110311332604628, 0.000507303811621121, 0.0004896531346553213, 0.0004757846673361598, 0.00046275503146317513, 0.00044320089620030894, 0.00032437485877985674], \"y\": [\"0\", \"31\", \"23\", \"30\", \"4\", \"25\", \"117\", \"124\", \"176\", \"56\", \"104\", \"49\", \"192\", \"123\", \"61\", \"33\", \"29\", \"190\", \"114\", \"111\", \"1\", \"141\", \"16\", \"201\", \"5\", \"136\", \"57\", \"120\", \"26\", \"100\", \"79\", \"97\", \"81\", \"36\", \"164\", \"129\", \"10\", \"83\", \"47\", \"125\", \"160\", \"65\", \"96\", \"73\", \"53\", \"93\", \"101\", \"67\", \"2\", \"92\", \"197\", \"110\", \"174\", \"152\", \"143\", \"138\", \"162\", \"199\", \"11\", \"70\", \"54\", \"80\", \"64\", \"45\", \"209\", \"43\", \"94\", \"169\", \"86\", \"7\", \"130\", \"72\", \"6\", \"145\", \"135\", \"22\", \"112\", \"3\", \"32\", \"194\", \"91\", \"9\", \"13\", \"184\", \"66\", \"77\", \"14\", \"68\", \"24\", \"40\", \"193\", \"156\", \"159\", \"153\", \"131\", \"214\", \"27\", \"148\", \"76\", \"178\", \"102\", \"211\", \"180\", \"87\", \"19\", \"186\", \"85\", \"18\", \"140\", \"137\", \"15\", \"63\", \"99\", \"213\", \"115\", \"185\", \"163\", \"51\", \"200\", \"105\", \"175\", \"188\", \"133\", \"106\", \"35\", \"142\", \"149\", \"196\", \"78\", \"108\", \"132\", \"41\", \"128\", \"21\", \"37\", \"58\", \"154\", \"69\", \"82\", \"187\", \"44\", \"157\", \"118\", \"198\", \"139\", \"62\", \"179\", \"195\", \"181\", \"107\", \"146\", \"98\", \"191\", \"48\", \"189\", \"52\", \"147\", \"144\", \"38\", \"12\", \"122\", \"88\", \"161\", \"158\", \"208\", \"134\", \"17\", \"172\", \"113\", \"75\", \"210\", \"202\", \"42\", \"206\", \"8\", \"20\", \"183\", \"109\", \"177\", \"28\", \"103\", \"166\", \"203\", \"121\", \"170\", \"46\", \"151\", \"167\", \"212\", \"116\", \"95\", \"34\", \"205\", \"90\", \"127\", \"59\", \"165\", \"119\", \"207\", \"39\", \"71\", \"168\", \"182\", \"150\", \"84\", \"126\", \"173\", \"50\", \"89\", \"204\", \"55\", \"60\", \"171\", \"155\", \"74\"], \"type\": \"bar\", \"uid\": \"2f58ddda-7464-479b-afb2-3175ba9e0076\"}], {\"autosize\": false, \"height\": 1000, \"width\": 1000, \"xaxis\": {\"tickfont\": {\"color\": \"black\", \"size\": 12}, \"title\": \"Feature Importances\"}, \"yaxis\": {\"automargin\": true}}, {\"showLink\": true, \"linkText\": \"Export to plot.ly\", \"plotlyServerURL\": \"https://plot.ly\"})});</script>"
      ]
     },
     "metadata": {},
     "output_type": "display_data"
    },
    {
     "name": "stdout",
     "output_type": "stream",
     "text": [
      "\n",
      "\n",
      "\u001b[1mAdaoost Classifier\u001b[0m\n",
      "Accuracy of the model for training data is: 0.9049037369115976\n",
      "Confusion Matrix for training data is:\n"
     ]
    },
    {
     "data": {
      "text/plain": [
       "Predicted  False  True  __all__\n",
       "Actual                         \n",
       "False      25468  2370    27838\n",
       "True         727  4002     4729\n",
       "__all__    26195  6372    32567"
      ]
     },
     "metadata": {},
     "output_type": "display_data"
    },
    {
     "name": "stdout",
     "output_type": "stream",
     "text": [
      "Accuracy of the model for test data is: 0.9014984033407025\n",
      "Confusion Matrix for test data is:\n"
     ]
    },
    {
     "data": {
      "text/plain": [
       "Predicted  False  True  __all__\n",
       "Actual                         \n",
       "False       6329   611     6940\n",
       "True         191  1011     1202\n",
       "__all__     6520  1622     8142"
      ]
     },
     "metadata": {},
     "output_type": "display_data"
    },
    {
     "data": {
      "application/vnd.plotly.v1+json": {
       "config": {
        "linkText": "Export to plot.ly",
        "plotlyServerURL": "https://plot.ly",
        "showLink": true
       },
       "data": [
        {
         "marker": {
          "color": "rgb(158,202,225)",
          "line": {
           "color": "rgb(8,48,107)",
           "width": 1.5
          }
         },
         "opacity": 0.6,
         "orientation": "h",
         "text": [
          0.06,
          0.04,
          0.02,
          0.02,
          0.02,
          0.02,
          0.02,
          0.02,
          0.02,
          0.02,
          0.02,
          0.02,
          0.02,
          0.02,
          0.02,
          0.02,
          0.02,
          0.02,
          0.02,
          0.02,
          0.02,
          0.02,
          0.02,
          0.02,
          0.02,
          0.02,
          0.02,
          0.02,
          0.02,
          0.02,
          0.02,
          0.02,
          0.02,
          0.02,
          0.02,
          0.02,
          0.02,
          0.02,
          0.02,
          0.02,
          0.02,
          0.02,
          0.02,
          0.02,
          0.02,
          0.02,
          0.02,
          0,
          0,
          0,
          0,
          0,
          0,
          0,
          0,
          0,
          0,
          0,
          0,
          0,
          0,
          0,
          0,
          0,
          0,
          0,
          0,
          0,
          0,
          0,
          0,
          0,
          0,
          0,
          0,
          0,
          0,
          0,
          0,
          0,
          0,
          0,
          0,
          0,
          0,
          0,
          0,
          0,
          0,
          0,
          0,
          0,
          0,
          0,
          0,
          0,
          0,
          0,
          0,
          0,
          0,
          0,
          0,
          0,
          0,
          0,
          0,
          0,
          0,
          0,
          0,
          0,
          0,
          0,
          0,
          0,
          0,
          0,
          0,
          0,
          0,
          0,
          0,
          0,
          0,
          0,
          0,
          0,
          0,
          0,
          0,
          0,
          0,
          0,
          0,
          0,
          0,
          0,
          0,
          0,
          0,
          0,
          0,
          0,
          0,
          0,
          0,
          0,
          0,
          0,
          0,
          0,
          0,
          0,
          0,
          0,
          0,
          0,
          0,
          0,
          0,
          0,
          0,
          0,
          0,
          0,
          0,
          0,
          0,
          0,
          0,
          0,
          0,
          0,
          0,
          0,
          0,
          0,
          0,
          0,
          0,
          0,
          0,
          0,
          0,
          0,
          0,
          0,
          0,
          0,
          0,
          0,
          0,
          0,
          0,
          0,
          0,
          0,
          0,
          0,
          0,
          0,
          0,
          0,
          0,
          0,
          0,
          0,
          0,
          0,
          0,
          0,
          0,
          0,
          0
         ],
         "textposition": "outside",
         "type": "bar",
         "uid": "17efad77-8186-44a8-ad00-ed1038a19755",
         "x": [
          0.06,
          0.04,
          0.02,
          0.02,
          0.02,
          0.02,
          0.02,
          0.02,
          0.02,
          0.02,
          0.02,
          0.02,
          0.02,
          0.02,
          0.02,
          0.02,
          0.02,
          0.02,
          0.02,
          0.02,
          0.02,
          0.02,
          0.02,
          0.02,
          0.02,
          0.02,
          0.02,
          0.02,
          0.02,
          0.02,
          0.02,
          0.02,
          0.02,
          0.02,
          0.02,
          0.02,
          0.02,
          0.02,
          0.02,
          0.02,
          0.02,
          0.02,
          0.02,
          0.02,
          0.02,
          0.02,
          0.02,
          0,
          0,
          0,
          0,
          0,
          0,
          0,
          0,
          0,
          0,
          0,
          0,
          0,
          0,
          0,
          0,
          0,
          0,
          0,
          0,
          0,
          0,
          0,
          0,
          0,
          0,
          0,
          0,
          0,
          0,
          0,
          0,
          0,
          0,
          0,
          0,
          0,
          0,
          0,
          0,
          0,
          0,
          0,
          0,
          0,
          0,
          0,
          0,
          0,
          0,
          0,
          0,
          0,
          0,
          0,
          0,
          0,
          0,
          0,
          0,
          0,
          0,
          0,
          0,
          0,
          0,
          0,
          0,
          0,
          0,
          0,
          0,
          0,
          0,
          0,
          0,
          0,
          0,
          0,
          0,
          0,
          0,
          0,
          0,
          0,
          0,
          0,
          0,
          0,
          0,
          0,
          0,
          0,
          0,
          0,
          0,
          0,
          0,
          0,
          0,
          0,
          0,
          0,
          0,
          0,
          0,
          0,
          0,
          0,
          0,
          0,
          0,
          0,
          0,
          0,
          0,
          0,
          0,
          0,
          0,
          0,
          0,
          0,
          0,
          0,
          0,
          0,
          0,
          0,
          0,
          0,
          0,
          0,
          0,
          0,
          0,
          0,
          0,
          0,
          0,
          0,
          0,
          0,
          0,
          0,
          0,
          0,
          0,
          0,
          0,
          0,
          0,
          0,
          0,
          0,
          0,
          0,
          0,
          0,
          0,
          0,
          0,
          0,
          0,
          0,
          0,
          0,
          0
         ],
         "y": [
          "0",
          "20",
          "133",
          "31",
          "135",
          "136",
          "104",
          "138",
          "100",
          "42",
          "43",
          "96",
          "143",
          "88",
          "178",
          "177",
          "150",
          "56",
          "175",
          "172",
          "65",
          "66",
          "157",
          "69",
          "164",
          "160",
          "73",
          "30",
          "76",
          "18",
          "118",
          "116",
          "114",
          "14",
          "27",
          "9",
          "8",
          "16",
          "17",
          "19",
          "117",
          "126",
          "200",
          "5",
          "22",
          "2",
          "110",
          "127",
          "152",
          "125",
          "154",
          "153",
          "158",
          "155",
          "156",
          "159",
          "151",
          "134",
          "129",
          "128",
          "149",
          "148",
          "147",
          "146",
          "145",
          "144",
          "142",
          "141",
          "140",
          "130",
          "161",
          "137",
          "131",
          "132",
          "139",
          "171",
          "162",
          "203",
          "193",
          "194",
          "195",
          "196",
          "197",
          "198",
          "199",
          "201",
          "202",
          "204",
          "191",
          "205",
          "206",
          "207",
          "208",
          "209",
          "210",
          "211",
          "212",
          "213",
          "192",
          "190",
          "163",
          "176",
          "165",
          "166",
          "167",
          "168",
          "169",
          "170",
          "123",
          "173",
          "174",
          "179",
          "189",
          "180",
          "181",
          "182",
          "183",
          "184",
          "185",
          "186",
          "187",
          "188",
          "124",
          "107",
          "122",
          "37",
          "39",
          "40",
          "41",
          "44",
          "45",
          "46",
          "47",
          "48",
          "49",
          "50",
          "51",
          "52",
          "53",
          "54",
          "55",
          "57",
          "58",
          "59",
          "60",
          "38",
          "36",
          "62",
          "35",
          "3",
          "4",
          "6",
          "7",
          "10",
          "11",
          "12",
          "13",
          "15",
          "21",
          "23",
          "24",
          "25",
          "26",
          "28",
          "29",
          "32",
          "33",
          "34",
          "61",
          "63",
          "121",
          "92",
          "94",
          "95",
          "97",
          "98",
          "99",
          "101",
          "102",
          "103",
          "105",
          "106",
          "1",
          "108",
          "109",
          "111",
          "112",
          "113",
          "115",
          "119",
          "120",
          "93",
          "91",
          "64",
          "90",
          "67",
          "68",
          "70",
          "71",
          "72",
          "74",
          "75",
          "77",
          "78",
          "79",
          "80",
          "81",
          "82",
          "83",
          "84",
          "85",
          "86",
          "87",
          "89",
          "214"
         ]
        }
       ],
       "layout": {
        "autosize": false,
        "height": 1000,
        "width": 1000,
        "xaxis": {
         "tickfont": {
          "color": "black",
          "size": 12
         },
         "title": "Feature Importances"
        },
        "yaxis": {
         "automargin": true
        }
       }
      },
      "text/html": [
       "<div id=\"348f6885-8c95-4215-b967-a8f518dd92fe\" style=\"height: 1000px; width: 1000px;\" class=\"plotly-graph-div\"></div><script type=\"text/javascript\">require([\"plotly\"], function(Plotly) { window.PLOTLYENV=window.PLOTLYENV || {};window.PLOTLYENV.BASE_URL=\"https://plot.ly\";Plotly.newPlot(\"348f6885-8c95-4215-b967-a8f518dd92fe\", [{\"marker\": {\"color\": \"rgb(158,202,225)\", \"line\": {\"color\": \"rgb(8,48,107)\", \"width\": 1.5}}, \"opacity\": 0.6, \"orientation\": \"h\", \"text\": [0.06, 0.04, 0.02, 0.02, 0.02, 0.02, 0.02, 0.02, 0.02, 0.02, 0.02, 0.02, 0.02, 0.02, 0.02, 0.02, 0.02, 0.02, 0.02, 0.02, 0.02, 0.02, 0.02, 0.02, 0.02, 0.02, 0.02, 0.02, 0.02, 0.02, 0.02, 0.02, 0.02, 0.02, 0.02, 0.02, 0.02, 0.02, 0.02, 0.02, 0.02, 0.02, 0.02, 0.02, 0.02, 0.02, 0.02, 0.0, 0.0, 0.0, 0.0, 0.0, 0.0, 0.0, 0.0, 0.0, 0.0, 0.0, 0.0, 0.0, 0.0, 0.0, 0.0, 0.0, 0.0, 0.0, 0.0, 0.0, 0.0, 0.0, 0.0, 0.0, 0.0, 0.0, 0.0, 0.0, 0.0, 0.0, 0.0, 0.0, 0.0, 0.0, 0.0, 0.0, 0.0, 0.0, 0.0, 0.0, 0.0, 0.0, 0.0, 0.0, 0.0, 0.0, 0.0, 0.0, 0.0, 0.0, 0.0, 0.0, 0.0, 0.0, 0.0, 0.0, 0.0, 0.0, 0.0, 0.0, 0.0, 0.0, 0.0, 0.0, 0.0, 0.0, 0.0, 0.0, 0.0, 0.0, 0.0, 0.0, 0.0, 0.0, 0.0, 0.0, 0.0, 0.0, 0.0, 0.0, 0.0, 0.0, 0.0, 0.0, 0.0, 0.0, 0.0, 0.0, 0.0, 0.0, 0.0, 0.0, 0.0, 0.0, 0.0, 0.0, 0.0, 0.0, 0.0, 0.0, 0.0, 0.0, 0.0, 0.0, 0.0, 0.0, 0.0, 0.0, 0.0, 0.0, 0.0, 0.0, 0.0, 0.0, 0.0, 0.0, 0.0, 0.0, 0.0, 0.0, 0.0, 0.0, 0.0, 0.0, 0.0, 0.0, 0.0, 0.0, 0.0, 0.0, 0.0, 0.0, 0.0, 0.0, 0.0, 0.0, 0.0, 0.0, 0.0, 0.0, 0.0, 0.0, 0.0, 0.0, 0.0, 0.0, 0.0, 0.0, 0.0, 0.0, 0.0, 0.0, 0.0, 0.0, 0.0, 0.0, 0.0, 0.0, 0.0, 0.0, 0.0, 0.0, 0.0, 0.0, 0.0, 0.0, 0.0], \"textposition\": \"outside\", \"x\": [0.06, 0.04, 0.02, 0.02, 0.02, 0.02, 0.02, 0.02, 0.02, 0.02, 0.02, 0.02, 0.02, 0.02, 0.02, 0.02, 0.02, 0.02, 0.02, 0.02, 0.02, 0.02, 0.02, 0.02, 0.02, 0.02, 0.02, 0.02, 0.02, 0.02, 0.02, 0.02, 0.02, 0.02, 0.02, 0.02, 0.02, 0.02, 0.02, 0.02, 0.02, 0.02, 0.02, 0.02, 0.02, 0.02, 0.02, 0.0, 0.0, 0.0, 0.0, 0.0, 0.0, 0.0, 0.0, 0.0, 0.0, 0.0, 0.0, 0.0, 0.0, 0.0, 0.0, 0.0, 0.0, 0.0, 0.0, 0.0, 0.0, 0.0, 0.0, 0.0, 0.0, 0.0, 0.0, 0.0, 0.0, 0.0, 0.0, 0.0, 0.0, 0.0, 0.0, 0.0, 0.0, 0.0, 0.0, 0.0, 0.0, 0.0, 0.0, 0.0, 0.0, 0.0, 0.0, 0.0, 0.0, 0.0, 0.0, 0.0, 0.0, 0.0, 0.0, 0.0, 0.0, 0.0, 0.0, 0.0, 0.0, 0.0, 0.0, 0.0, 0.0, 0.0, 0.0, 0.0, 0.0, 0.0, 0.0, 0.0, 0.0, 0.0, 0.0, 0.0, 0.0, 0.0, 0.0, 0.0, 0.0, 0.0, 0.0, 0.0, 0.0, 0.0, 0.0, 0.0, 0.0, 0.0, 0.0, 0.0, 0.0, 0.0, 0.0, 0.0, 0.0, 0.0, 0.0, 0.0, 0.0, 0.0, 0.0, 0.0, 0.0, 0.0, 0.0, 0.0, 0.0, 0.0, 0.0, 0.0, 0.0, 0.0, 0.0, 0.0, 0.0, 0.0, 0.0, 0.0, 0.0, 0.0, 0.0, 0.0, 0.0, 0.0, 0.0, 0.0, 0.0, 0.0, 0.0, 0.0, 0.0, 0.0, 0.0, 0.0, 0.0, 0.0, 0.0, 0.0, 0.0, 0.0, 0.0, 0.0, 0.0, 0.0, 0.0, 0.0, 0.0, 0.0, 0.0, 0.0, 0.0, 0.0, 0.0, 0.0, 0.0, 0.0, 0.0, 0.0, 0.0, 0.0, 0.0, 0.0, 0.0, 0.0, 0.0], \"y\": [\"0\", \"20\", \"133\", \"31\", \"135\", \"136\", \"104\", \"138\", \"100\", \"42\", \"43\", \"96\", \"143\", \"88\", \"178\", \"177\", \"150\", \"56\", \"175\", \"172\", \"65\", \"66\", \"157\", \"69\", \"164\", \"160\", \"73\", \"30\", \"76\", \"18\", \"118\", \"116\", \"114\", \"14\", \"27\", \"9\", \"8\", \"16\", \"17\", \"19\", \"117\", \"126\", \"200\", \"5\", \"22\", \"2\", \"110\", \"127\", \"152\", \"125\", \"154\", \"153\", \"158\", \"155\", \"156\", \"159\", \"151\", \"134\", \"129\", \"128\", \"149\", \"148\", \"147\", \"146\", \"145\", \"144\", \"142\", \"141\", \"140\", \"130\", \"161\", \"137\", \"131\", \"132\", \"139\", \"171\", \"162\", \"203\", \"193\", \"194\", \"195\", \"196\", \"197\", \"198\", \"199\", \"201\", \"202\", \"204\", \"191\", \"205\", \"206\", \"207\", \"208\", \"209\", \"210\", \"211\", \"212\", \"213\", \"192\", \"190\", \"163\", \"176\", \"165\", \"166\", \"167\", \"168\", \"169\", \"170\", \"123\", \"173\", \"174\", \"179\", \"189\", \"180\", \"181\", \"182\", \"183\", \"184\", \"185\", \"186\", \"187\", \"188\", \"124\", \"107\", \"122\", \"37\", \"39\", \"40\", \"41\", \"44\", \"45\", \"46\", \"47\", \"48\", \"49\", \"50\", \"51\", \"52\", \"53\", \"54\", \"55\", \"57\", \"58\", \"59\", \"60\", \"38\", \"36\", \"62\", \"35\", \"3\", \"4\", \"6\", \"7\", \"10\", \"11\", \"12\", \"13\", \"15\", \"21\", \"23\", \"24\", \"25\", \"26\", \"28\", \"29\", \"32\", \"33\", \"34\", \"61\", \"63\", \"121\", \"92\", \"94\", \"95\", \"97\", \"98\", \"99\", \"101\", \"102\", \"103\", \"105\", \"106\", \"1\", \"108\", \"109\", \"111\", \"112\", \"113\", \"115\", \"119\", \"120\", \"93\", \"91\", \"64\", \"90\", \"67\", \"68\", \"70\", \"71\", \"72\", \"74\", \"75\", \"77\", \"78\", \"79\", \"80\", \"81\", \"82\", \"83\", \"84\", \"85\", \"86\", \"87\", \"89\", \"214\"], \"type\": \"bar\", \"uid\": \"17efad77-8186-44a8-ad00-ed1038a19755\"}], {\"autosize\": false, \"height\": 1000, \"width\": 1000, \"xaxis\": {\"tickfont\": {\"color\": \"black\", \"size\": 12}, \"title\": \"Feature Importances\"}, \"yaxis\": {\"automargin\": true}}, {\"showLink\": true, \"linkText\": \"Export to plot.ly\", \"plotlyServerURL\": \"https://plot.ly\"})});</script>"
      ],
      "text/vnd.plotly.v1+html": [
       "<div id=\"348f6885-8c95-4215-b967-a8f518dd92fe\" style=\"height: 1000px; width: 1000px;\" class=\"plotly-graph-div\"></div><script type=\"text/javascript\">require([\"plotly\"], function(Plotly) { window.PLOTLYENV=window.PLOTLYENV || {};window.PLOTLYENV.BASE_URL=\"https://plot.ly\";Plotly.newPlot(\"348f6885-8c95-4215-b967-a8f518dd92fe\", [{\"marker\": {\"color\": \"rgb(158,202,225)\", \"line\": {\"color\": \"rgb(8,48,107)\", \"width\": 1.5}}, \"opacity\": 0.6, \"orientation\": \"h\", \"text\": [0.06, 0.04, 0.02, 0.02, 0.02, 0.02, 0.02, 0.02, 0.02, 0.02, 0.02, 0.02, 0.02, 0.02, 0.02, 0.02, 0.02, 0.02, 0.02, 0.02, 0.02, 0.02, 0.02, 0.02, 0.02, 0.02, 0.02, 0.02, 0.02, 0.02, 0.02, 0.02, 0.02, 0.02, 0.02, 0.02, 0.02, 0.02, 0.02, 0.02, 0.02, 0.02, 0.02, 0.02, 0.02, 0.02, 0.02, 0.0, 0.0, 0.0, 0.0, 0.0, 0.0, 0.0, 0.0, 0.0, 0.0, 0.0, 0.0, 0.0, 0.0, 0.0, 0.0, 0.0, 0.0, 0.0, 0.0, 0.0, 0.0, 0.0, 0.0, 0.0, 0.0, 0.0, 0.0, 0.0, 0.0, 0.0, 0.0, 0.0, 0.0, 0.0, 0.0, 0.0, 0.0, 0.0, 0.0, 0.0, 0.0, 0.0, 0.0, 0.0, 0.0, 0.0, 0.0, 0.0, 0.0, 0.0, 0.0, 0.0, 0.0, 0.0, 0.0, 0.0, 0.0, 0.0, 0.0, 0.0, 0.0, 0.0, 0.0, 0.0, 0.0, 0.0, 0.0, 0.0, 0.0, 0.0, 0.0, 0.0, 0.0, 0.0, 0.0, 0.0, 0.0, 0.0, 0.0, 0.0, 0.0, 0.0, 0.0, 0.0, 0.0, 0.0, 0.0, 0.0, 0.0, 0.0, 0.0, 0.0, 0.0, 0.0, 0.0, 0.0, 0.0, 0.0, 0.0, 0.0, 0.0, 0.0, 0.0, 0.0, 0.0, 0.0, 0.0, 0.0, 0.0, 0.0, 0.0, 0.0, 0.0, 0.0, 0.0, 0.0, 0.0, 0.0, 0.0, 0.0, 0.0, 0.0, 0.0, 0.0, 0.0, 0.0, 0.0, 0.0, 0.0, 0.0, 0.0, 0.0, 0.0, 0.0, 0.0, 0.0, 0.0, 0.0, 0.0, 0.0, 0.0, 0.0, 0.0, 0.0, 0.0, 0.0, 0.0, 0.0, 0.0, 0.0, 0.0, 0.0, 0.0, 0.0, 0.0, 0.0, 0.0, 0.0, 0.0, 0.0, 0.0, 0.0, 0.0, 0.0, 0.0, 0.0, 0.0], \"textposition\": \"outside\", \"x\": [0.06, 0.04, 0.02, 0.02, 0.02, 0.02, 0.02, 0.02, 0.02, 0.02, 0.02, 0.02, 0.02, 0.02, 0.02, 0.02, 0.02, 0.02, 0.02, 0.02, 0.02, 0.02, 0.02, 0.02, 0.02, 0.02, 0.02, 0.02, 0.02, 0.02, 0.02, 0.02, 0.02, 0.02, 0.02, 0.02, 0.02, 0.02, 0.02, 0.02, 0.02, 0.02, 0.02, 0.02, 0.02, 0.02, 0.02, 0.0, 0.0, 0.0, 0.0, 0.0, 0.0, 0.0, 0.0, 0.0, 0.0, 0.0, 0.0, 0.0, 0.0, 0.0, 0.0, 0.0, 0.0, 0.0, 0.0, 0.0, 0.0, 0.0, 0.0, 0.0, 0.0, 0.0, 0.0, 0.0, 0.0, 0.0, 0.0, 0.0, 0.0, 0.0, 0.0, 0.0, 0.0, 0.0, 0.0, 0.0, 0.0, 0.0, 0.0, 0.0, 0.0, 0.0, 0.0, 0.0, 0.0, 0.0, 0.0, 0.0, 0.0, 0.0, 0.0, 0.0, 0.0, 0.0, 0.0, 0.0, 0.0, 0.0, 0.0, 0.0, 0.0, 0.0, 0.0, 0.0, 0.0, 0.0, 0.0, 0.0, 0.0, 0.0, 0.0, 0.0, 0.0, 0.0, 0.0, 0.0, 0.0, 0.0, 0.0, 0.0, 0.0, 0.0, 0.0, 0.0, 0.0, 0.0, 0.0, 0.0, 0.0, 0.0, 0.0, 0.0, 0.0, 0.0, 0.0, 0.0, 0.0, 0.0, 0.0, 0.0, 0.0, 0.0, 0.0, 0.0, 0.0, 0.0, 0.0, 0.0, 0.0, 0.0, 0.0, 0.0, 0.0, 0.0, 0.0, 0.0, 0.0, 0.0, 0.0, 0.0, 0.0, 0.0, 0.0, 0.0, 0.0, 0.0, 0.0, 0.0, 0.0, 0.0, 0.0, 0.0, 0.0, 0.0, 0.0, 0.0, 0.0, 0.0, 0.0, 0.0, 0.0, 0.0, 0.0, 0.0, 0.0, 0.0, 0.0, 0.0, 0.0, 0.0, 0.0, 0.0, 0.0, 0.0, 0.0, 0.0, 0.0, 0.0, 0.0, 0.0, 0.0, 0.0, 0.0], \"y\": [\"0\", \"20\", \"133\", \"31\", \"135\", \"136\", \"104\", \"138\", \"100\", \"42\", \"43\", \"96\", \"143\", \"88\", \"178\", \"177\", \"150\", \"56\", \"175\", \"172\", \"65\", \"66\", \"157\", \"69\", \"164\", \"160\", \"73\", \"30\", \"76\", \"18\", \"118\", \"116\", \"114\", \"14\", \"27\", \"9\", \"8\", \"16\", \"17\", \"19\", \"117\", \"126\", \"200\", \"5\", \"22\", \"2\", \"110\", \"127\", \"152\", \"125\", \"154\", \"153\", \"158\", \"155\", \"156\", \"159\", \"151\", \"134\", \"129\", \"128\", \"149\", \"148\", \"147\", \"146\", \"145\", \"144\", \"142\", \"141\", \"140\", \"130\", \"161\", \"137\", \"131\", \"132\", \"139\", \"171\", \"162\", \"203\", \"193\", \"194\", \"195\", \"196\", \"197\", \"198\", \"199\", \"201\", \"202\", \"204\", \"191\", \"205\", \"206\", \"207\", \"208\", \"209\", \"210\", \"211\", \"212\", \"213\", \"192\", \"190\", \"163\", \"176\", \"165\", \"166\", \"167\", \"168\", \"169\", \"170\", \"123\", \"173\", \"174\", \"179\", \"189\", \"180\", \"181\", \"182\", \"183\", \"184\", \"185\", \"186\", \"187\", \"188\", \"124\", \"107\", \"122\", \"37\", \"39\", \"40\", \"41\", \"44\", \"45\", \"46\", \"47\", \"48\", \"49\", \"50\", \"51\", \"52\", \"53\", \"54\", \"55\", \"57\", \"58\", \"59\", \"60\", \"38\", \"36\", \"62\", \"35\", \"3\", \"4\", \"6\", \"7\", \"10\", \"11\", \"12\", \"13\", \"15\", \"21\", \"23\", \"24\", \"25\", \"26\", \"28\", \"29\", \"32\", \"33\", \"34\", \"61\", \"63\", \"121\", \"92\", \"94\", \"95\", \"97\", \"98\", \"99\", \"101\", \"102\", \"103\", \"105\", \"106\", \"1\", \"108\", \"109\", \"111\", \"112\", \"113\", \"115\", \"119\", \"120\", \"93\", \"91\", \"64\", \"90\", \"67\", \"68\", \"70\", \"71\", \"72\", \"74\", \"75\", \"77\", \"78\", \"79\", \"80\", \"81\", \"82\", \"83\", \"84\", \"85\", \"86\", \"87\", \"89\", \"214\"], \"type\": \"bar\", \"uid\": \"17efad77-8186-44a8-ad00-ed1038a19755\"}], {\"autosize\": false, \"height\": 1000, \"width\": 1000, \"xaxis\": {\"tickfont\": {\"color\": \"black\", \"size\": 12}, \"title\": \"Feature Importances\"}, \"yaxis\": {\"automargin\": true}}, {\"showLink\": true, \"linkText\": \"Export to plot.ly\", \"plotlyServerURL\": \"https://plot.ly\"})});</script>"
      ]
     },
     "metadata": {},
     "output_type": "display_data"
    },
    {
     "name": "stdout",
     "output_type": "stream",
     "text": [
      "\n",
      "\n",
      "\u001b[1mGradientBoosting Classifier\u001b[0m\n",
      "Accuracy of the model for training data is: 0.9137163386249885\n",
      "Confusion Matrix for training data is:\n"
     ]
    },
    {
     "data": {
      "text/plain": [
       "Predicted  False  True  __all__\n",
       "Actual                         \n",
       "False      25565  2273    27838\n",
       "True         537  4192     4729\n",
       "__all__    26102  6465    32567"
      ]
     },
     "metadata": {},
     "output_type": "display_data"
    },
    {
     "name": "stdout",
     "output_type": "stream",
     "text": [
      "Accuracy of the model for test data is: 0.9096045197740112\n",
      "Confusion Matrix for test data is:\n"
     ]
    },
    {
     "data": {
      "text/plain": [
       "Predicted  False  True  __all__\n",
       "Actual                         \n",
       "False       6356   584     6940\n",
       "True         152  1050     1202\n",
       "__all__     6508  1634     8142"
      ]
     },
     "metadata": {},
     "output_type": "display_data"
    },
    {
     "data": {
      "application/vnd.plotly.v1+json": {
       "config": {
        "linkText": "Export to plot.ly",
        "plotlyServerURL": "https://plot.ly",
        "showLink": true
       },
       "data": [
        {
         "marker": {
          "color": "rgb(158,202,225)",
          "line": {
           "color": "rgb(8,48,107)",
           "width": 1.5
          }
         },
         "opacity": 0.6,
         "orientation": "h",
         "text": [
          0.8416,
          0.0107,
          0.0089,
          0.0082,
          0.0076,
          0.0076,
          0.0072,
          0.0071,
          0.0064,
          0.0059,
          0.0043,
          0.0038,
          0.0034,
          0.0034,
          0.0032,
          0.003,
          0.0029,
          0.0025,
          0.0024,
          0.0024,
          0.0021,
          0.0021,
          0.0019,
          0.0018,
          0.0015,
          0.0014,
          0.0012,
          0.0012,
          0.0012,
          0.0012,
          0.0012,
          0.0011,
          0.0011,
          0.0011,
          0.0011,
          0.001,
          0.001,
          0.001,
          0.001,
          0.001,
          0.0009,
          0.0009,
          0.0009,
          0.0009,
          0.0009,
          0.0008,
          0.0008,
          0.0008,
          0.0008,
          0.0008,
          0.0008,
          0.0008,
          0.0007,
          0.0007,
          0.0007,
          0.0007,
          0.0007,
          0.0007,
          0.0006,
          0.0006,
          0.0006,
          0.0006,
          0.0006,
          0.0006,
          0.0005,
          0.0005,
          0.0005,
          0.0005,
          0.0004,
          0.0004,
          0.0004,
          0.0004,
          0.0004,
          0.0004,
          0.0004,
          0.0004,
          0.0004,
          0.0004,
          0.0003,
          0.0003,
          0.0003,
          0.0003,
          0.0003,
          0.0003,
          0.0003,
          0.0003,
          0.0003,
          0.0003,
          0.0003,
          0.0003,
          0.0002,
          0.0002,
          0.0002,
          0.0002,
          0.0002,
          0.0002,
          0.0001,
          0.0001,
          0.0001,
          0.0001,
          0.0001,
          0.0001,
          0.0001,
          0.0001,
          0.0001,
          0.0001,
          0.0001,
          0.0001,
          0.0001,
          0.0001,
          0.0001,
          0.0001,
          0.0001,
          0.0001,
          0.0001,
          0.0001,
          0.0001,
          0.0001,
          0.0001,
          0.0001,
          0.0001,
          0.0001,
          0.0001,
          0,
          0,
          0,
          0,
          0,
          0,
          0,
          0,
          0,
          0,
          0,
          0,
          0,
          0,
          0,
          0,
          0,
          0,
          0,
          0,
          0,
          0,
          0,
          0,
          0,
          0,
          0,
          0,
          0,
          0,
          0,
          0,
          0,
          0,
          0,
          0,
          0,
          0,
          0,
          0,
          0,
          0,
          0,
          0,
          0,
          0,
          0,
          0,
          0,
          0,
          0,
          0,
          0,
          0,
          0,
          0,
          0,
          0,
          0,
          0,
          0,
          0,
          0,
          0,
          0,
          0,
          0,
          0,
          0,
          0,
          0,
          0,
          0,
          0,
          0,
          0,
          0,
          0,
          0,
          0,
          0,
          0,
          0,
          0,
          0,
          0,
          0,
          0,
          0,
          0,
          0,
          0
         ],
         "textposition": "outside",
         "type": "bar",
         "uid": "707a1c84-54df-4abb-96b6-aca0b1427f24",
         "x": [
          0.8415587136753204,
          0.010678890900896564,
          0.008921948661242005,
          0.008215490162029599,
          0.007602439008105782,
          0.007565635964277287,
          0.007157403587310515,
          0.007082622286688592,
          0.006399545036868362,
          0.005949544010480183,
          0.0042842995975420975,
          0.0038445055330722793,
          0.0034267908231753502,
          0.003366008068436673,
          0.003212732246642448,
          0.00298589557178393,
          0.0029461814581285147,
          0.0025112361817185127,
          0.002408927625696466,
          0.0023601229274255262,
          0.002137550555765272,
          0.002113461551836253,
          0.0019163157221589442,
          0.0017868465471545924,
          0.0015257620104621725,
          0.0014402917606491526,
          0.0012280945053499712,
          0.0012207419068380478,
          0.0012178467105190267,
          0.001191577470189659,
          0.0011647306120746346,
          0.001149804253399763,
          0.001098572720471217,
          0.0010947482165122638,
          0.0010923049147857702,
          0.0010479882899611514,
          0.0010194714131614628,
          0.0009793857677053612,
          0.0009784906844987151,
          0.000962261876724111,
          0.0009244520095060965,
          0.0009118943964248612,
          0.0009002929932045134,
          0.0008754253474680891,
          0.0008685458071750744,
          0.0008415484513743047,
          0.0008371816940459243,
          0.0008341751847994142,
          0.0008141373439462207,
          0.0008135256521496445,
          0.000793869970900498,
          0.0007747806158895581,
          0.0007276489488322098,
          0.0007180816651026807,
          0.0007098896589488566,
          0.0007041337427487346,
          0.000663146868259669,
          0.0006506908184707918,
          0.0006112411837957548,
          0.0006085103474491895,
          0.0005981885673581573,
          0.0005573212956447965,
          0.000551088995622081,
          0.00055102361867858,
          0.0005269950537452402,
          0.0004958066240636825,
          0.00045335794354413664,
          0.00045222484794772347,
          0.00044429652978740357,
          0.0004390078312978727,
          0.0004363668131238516,
          0.0004117485883130793,
          0.00039941169943850854,
          0.0003814406001780741,
          0.00036795769665141025,
          0.0003592476759451243,
          0.0003588251140461095,
          0.00035678841717026125,
          0.0003178779886842883,
          0.000316832776945396,
          0.0003025805821896995,
          0.00030106985507319454,
          0.0002803073515657753,
          0.0002727370316246013,
          0.0002677307010909985,
          0.0002672294815382129,
          0.00026673017877023436,
          0.0002557349350571407,
          0.0002549082299111371,
          0.00025468457407126305,
          0.00023776205512466615,
          0.0002024360252763554,
          0.00018878826591056202,
          0.00016823314077823464,
          0.00015423069621843083,
          0.00015278659651344904,
          0.00014170255726361926,
          0.0001390468706858287,
          0.00013527678659405195,
          0.00013089460388883902,
          0.00012816534349605258,
          0.00012548225992846138,
          0.0001234294578712279,
          0.00012342925015955384,
          0.00011599902325614092,
          0.00011174931738660409,
          0.00010995656532748783,
          0.00010571093603675129,
          8.983315946628389e-05,
          7.848595921835743e-05,
          7.816833146848465e-05,
          7.189239255633512e-05,
          7.063558855923545e-05,
          6.52276691367939e-05,
          6.416103155399172e-05,
          6.227528819873936e-05,
          6.0665326317655774e-05,
          6.010793040927266e-05,
          5.985887479062866e-05,
          5.741369970462161e-05,
          5.705745984835969e-05,
          5.7002759090246994e-05,
          5.437958774664155e-05,
          4.8912966629429524e-05,
          4.509165409548198e-05,
          4.452207903234542e-05,
          4.172161139849572e-05,
          4.166070488530443e-05,
          3.938929854883518e-05,
          3.348235371497702e-05,
          3.16507867121974e-05,
          2.8676642055250367e-05,
          2.7749175695128844e-05,
          2.0979992487917575e-05,
          1.9668158799354904e-05,
          1.6986439402024196e-05,
          1.604347453064072e-05,
          9.140556423051988e-06,
          8.752361152885675e-06,
          8.58024140420467e-06,
          3.1725349379844112e-06,
          2.8216430503469658e-06,
          3.187265568071789e-07,
          2.4402207435977305e-07,
          1.9112127854141368e-07,
          1.2114351326973256e-07,
          2.385210125355485e-09,
          0,
          0,
          0,
          0,
          0,
          0,
          0,
          0,
          0,
          0,
          0,
          0,
          0,
          0,
          0,
          0,
          0,
          0,
          0,
          0,
          0,
          0,
          0,
          0,
          0,
          0,
          0,
          0,
          0,
          0,
          0,
          0,
          0,
          0,
          0,
          0,
          0,
          0,
          0,
          0,
          0,
          0,
          0,
          0,
          0,
          0,
          0,
          0,
          0,
          0,
          0,
          0,
          0,
          0,
          0,
          0,
          0,
          0,
          0,
          0,
          0,
          0,
          0,
          0,
          0,
          0,
          0,
          0
         ],
         "y": [
          "0",
          "119",
          "162",
          "28",
          "53",
          "104",
          "21",
          "9",
          "30",
          "100",
          "96",
          "201",
          "2",
          "82",
          "136",
          "23",
          "66",
          "98",
          "24",
          "172",
          "153",
          "183",
          "1",
          "133",
          "75",
          "197",
          "18",
          "79",
          "78",
          "107",
          "140",
          "204",
          "127",
          "65",
          "124",
          "36",
          "93",
          "67",
          "10",
          "131",
          "135",
          "108",
          "19",
          "114",
          "170",
          "13",
          "83",
          "33",
          "163",
          "90",
          "20",
          "69",
          "3",
          "68",
          "91",
          "87",
          "5",
          "129",
          "175",
          "189",
          "177",
          "73",
          "16",
          "143",
          "111",
          "121",
          "60",
          "159",
          "200",
          "169",
          "54",
          "194",
          "34",
          "126",
          "86",
          "32",
          "188",
          "139",
          "92",
          "94",
          "27",
          "41",
          "103",
          "116",
          "29",
          "171",
          "120",
          "22",
          "157",
          "184",
          "35",
          "26",
          "81",
          "110",
          "44",
          "185",
          "51",
          "198",
          "203",
          "74",
          "71",
          "25",
          "11",
          "209",
          "149",
          "39",
          "123",
          "205",
          "52",
          "43",
          "151",
          "95",
          "212",
          "89",
          "125",
          "8",
          "56",
          "128",
          "117",
          "193",
          "4",
          "37",
          "154",
          "138",
          "141",
          "99",
          "80",
          "118",
          "134",
          "147",
          "142",
          "59",
          "187",
          "160",
          "47",
          "168",
          "167",
          "181",
          "161",
          "46",
          "88",
          "155",
          "145",
          "195",
          "109",
          "166",
          "102",
          "179",
          "208",
          "6",
          "210",
          "186",
          "211",
          "213",
          "173",
          "174",
          "207",
          "206",
          "191",
          "202",
          "199",
          "176",
          "180",
          "196",
          "178",
          "190",
          "192",
          "182",
          "122",
          "165",
          "61",
          "85",
          "84",
          "77",
          "76",
          "72",
          "70",
          "64",
          "63",
          "62",
          "58",
          "164",
          "57",
          "55",
          "50",
          "49",
          "48",
          "45",
          "42",
          "40",
          "38",
          "17",
          "97",
          "15",
          "101",
          "7",
          "158",
          "156",
          "152",
          "150",
          "148",
          "146",
          "144",
          "137",
          "132",
          "130",
          "31",
          "12",
          "115",
          "113",
          "112",
          "106",
          "105",
          "14",
          "214"
         ]
        }
       ],
       "layout": {
        "autosize": false,
        "height": 1000,
        "width": 1000,
        "xaxis": {
         "tickfont": {
          "color": "black",
          "size": 12
         },
         "title": "Feature Importances"
        },
        "yaxis": {
         "automargin": true
        }
       }
      },
      "text/html": [
       "<div id=\"30d7e8f3-56b1-4216-82f7-90c359f024fb\" style=\"height: 1000px; width: 1000px;\" class=\"plotly-graph-div\"></div><script type=\"text/javascript\">require([\"plotly\"], function(Plotly) { window.PLOTLYENV=window.PLOTLYENV || {};window.PLOTLYENV.BASE_URL=\"https://plot.ly\";Plotly.newPlot(\"30d7e8f3-56b1-4216-82f7-90c359f024fb\", [{\"marker\": {\"color\": \"rgb(158,202,225)\", \"line\": {\"color\": \"rgb(8,48,107)\", \"width\": 1.5}}, \"opacity\": 0.6, \"orientation\": \"h\", \"text\": [0.8416, 0.0107, 0.0089, 0.0082, 0.0076, 0.0076, 0.0072, 0.0071, 0.0064, 0.0059, 0.0043, 0.0038, 0.0034, 0.0034, 0.0032, 0.003, 0.0029, 0.0025, 0.0024, 0.0024, 0.0021, 0.0021, 0.0019, 0.0018, 0.0015, 0.0014, 0.0012, 0.0012, 0.0012, 0.0012, 0.0012, 0.0011, 0.0011, 0.0011, 0.0011, 0.001, 0.001, 0.001, 0.001, 0.001, 0.0009, 0.0009, 0.0009, 0.0009, 0.0009, 0.0008, 0.0008, 0.0008, 0.0008, 0.0008, 0.0008, 0.0008, 0.0007, 0.0007, 0.0007, 0.0007, 0.0007, 0.0007, 0.0006, 0.0006, 0.0006, 0.0006, 0.0006, 0.0006, 0.0005, 0.0005, 0.0005, 0.0005, 0.0004, 0.0004, 0.0004, 0.0004, 0.0004, 0.0004, 0.0004, 0.0004, 0.0004, 0.0004, 0.0003, 0.0003, 0.0003, 0.0003, 0.0003, 0.0003, 0.0003, 0.0003, 0.0003, 0.0003, 0.0003, 0.0003, 0.0002, 0.0002, 0.0002, 0.0002, 0.0002, 0.0002, 0.0001, 0.0001, 0.0001, 0.0001, 0.0001, 0.0001, 0.0001, 0.0001, 0.0001, 0.0001, 0.0001, 0.0001, 0.0001, 0.0001, 0.0001, 0.0001, 0.0001, 0.0001, 0.0001, 0.0001, 0.0001, 0.0001, 0.0001, 0.0001, 0.0001, 0.0001, 0.0001, 0.0, 0.0, 0.0, 0.0, 0.0, 0.0, 0.0, 0.0, 0.0, 0.0, 0.0, 0.0, 0.0, 0.0, 0.0, 0.0, 0.0, 0.0, 0.0, 0.0, 0.0, 0.0, 0.0, 0.0, 0.0, 0.0, 0.0, 0.0, 0.0, 0.0, 0.0, 0.0, 0.0, 0.0, 0.0, 0.0, 0.0, 0.0, 0.0, 0.0, 0.0, 0.0, 0.0, 0.0, 0.0, 0.0, 0.0, 0.0, 0.0, 0.0, 0.0, 0.0, 0.0, 0.0, 0.0, 0.0, 0.0, 0.0, 0.0, 0.0, 0.0, 0.0, 0.0, 0.0, 0.0, 0.0, 0.0, 0.0, 0.0, 0.0, 0.0, 0.0, 0.0, 0.0, 0.0, 0.0, 0.0, 0.0, 0.0, 0.0, 0.0, 0.0, 0.0, 0.0, 0.0, 0.0, 0.0, 0.0, 0.0, 0.0, 0.0, 0.0], \"textposition\": \"outside\", \"x\": [0.8415587136753204, 0.010678890900896564, 0.008921948661242005, 0.008215490162029599, 0.007602439008105782, 0.007565635964277287, 0.007157403587310515, 0.007082622286688592, 0.006399545036868362, 0.005949544010480183, 0.0042842995975420975, 0.0038445055330722793, 0.0034267908231753502, 0.003366008068436673, 0.003212732246642448, 0.00298589557178393, 0.0029461814581285147, 0.0025112361817185127, 0.002408927625696466, 0.0023601229274255262, 0.002137550555765272, 0.002113461551836253, 0.0019163157221589442, 0.0017868465471545924, 0.0015257620104621725, 0.0014402917606491526, 0.0012280945053499712, 0.0012207419068380478, 0.0012178467105190267, 0.001191577470189659, 0.0011647306120746346, 0.001149804253399763, 0.001098572720471217, 0.0010947482165122638, 0.0010923049147857702, 0.0010479882899611514, 0.0010194714131614628, 0.0009793857677053612, 0.0009784906844987151, 0.000962261876724111, 0.0009244520095060965, 0.0009118943964248612, 0.0009002929932045134, 0.0008754253474680891, 0.0008685458071750744, 0.0008415484513743047, 0.0008371816940459243, 0.0008341751847994142, 0.0008141373439462207, 0.0008135256521496445, 0.000793869970900498, 0.0007747806158895581, 0.0007276489488322098, 0.0007180816651026807, 0.0007098896589488566, 0.0007041337427487346, 0.000663146868259669, 0.0006506908184707918, 0.0006112411837957548, 0.0006085103474491895, 0.0005981885673581573, 0.0005573212956447965, 0.000551088995622081, 0.00055102361867858, 0.0005269950537452402, 0.0004958066240636825, 0.00045335794354413664, 0.00045222484794772347, 0.00044429652978740357, 0.0004390078312978727, 0.0004363668131238516, 0.0004117485883130793, 0.00039941169943850854, 0.0003814406001780741, 0.00036795769665141025, 0.0003592476759451243, 0.0003588251140461095, 0.00035678841717026125, 0.0003178779886842883, 0.000316832776945396, 0.0003025805821896995, 0.00030106985507319454, 0.0002803073515657753, 0.0002727370316246013, 0.0002677307010909985, 0.0002672294815382129, 0.00026673017877023436, 0.0002557349350571407, 0.0002549082299111371, 0.00025468457407126305, 0.00023776205512466615, 0.0002024360252763554, 0.00018878826591056202, 0.00016823314077823464, 0.00015423069621843083, 0.00015278659651344904, 0.00014170255726361926, 0.0001390468706858287, 0.00013527678659405195, 0.00013089460388883902, 0.00012816534349605258, 0.00012548225992846138, 0.0001234294578712279, 0.00012342925015955384, 0.00011599902325614092, 0.00011174931738660409, 0.00010995656532748783, 0.00010571093603675129, 8.983315946628389e-05, 7.848595921835743e-05, 7.816833146848465e-05, 7.189239255633512e-05, 7.063558855923545e-05, 6.52276691367939e-05, 6.416103155399172e-05, 6.227528819873936e-05, 6.0665326317655774e-05, 6.010793040927266e-05, 5.985887479062866e-05, 5.741369970462161e-05, 5.705745984835969e-05, 5.7002759090246994e-05, 5.437958774664155e-05, 4.8912966629429524e-05, 4.509165409548198e-05, 4.452207903234542e-05, 4.172161139849572e-05, 4.166070488530443e-05, 3.938929854883518e-05, 3.348235371497702e-05, 3.16507867121974e-05, 2.8676642055250367e-05, 2.7749175695128844e-05, 2.0979992487917575e-05, 1.9668158799354904e-05, 1.6986439402024196e-05, 1.604347453064072e-05, 9.140556423051988e-06, 8.752361152885675e-06, 8.58024140420467e-06, 3.1725349379844112e-06, 2.8216430503469658e-06, 3.187265568071789e-07, 2.4402207435977305e-07, 1.9112127854141368e-07, 1.2114351326973256e-07, 2.385210125355485e-09, 0.0, 0.0, 0.0, 0.0, 0.0, 0.0, 0.0, 0.0, 0.0, 0.0, 0.0, 0.0, 0.0, 0.0, 0.0, 0.0, 0.0, 0.0, 0.0, 0.0, 0.0, 0.0, 0.0, 0.0, 0.0, 0.0, 0.0, 0.0, 0.0, 0.0, 0.0, 0.0, 0.0, 0.0, 0.0, 0.0, 0.0, 0.0, 0.0, 0.0, 0.0, 0.0, 0.0, 0.0, 0.0, 0.0, 0.0, 0.0, 0.0, 0.0, 0.0, 0.0, 0.0, 0.0, 0.0, 0.0, 0.0, 0.0, 0.0, 0.0, 0.0, 0.0, 0.0, 0.0, 0.0, 0.0, 0.0, 0.0], \"y\": [\"0\", \"119\", \"162\", \"28\", \"53\", \"104\", \"21\", \"9\", \"30\", \"100\", \"96\", \"201\", \"2\", \"82\", \"136\", \"23\", \"66\", \"98\", \"24\", \"172\", \"153\", \"183\", \"1\", \"133\", \"75\", \"197\", \"18\", \"79\", \"78\", \"107\", \"140\", \"204\", \"127\", \"65\", \"124\", \"36\", \"93\", \"67\", \"10\", \"131\", \"135\", \"108\", \"19\", \"114\", \"170\", \"13\", \"83\", \"33\", \"163\", \"90\", \"20\", \"69\", \"3\", \"68\", \"91\", \"87\", \"5\", \"129\", \"175\", \"189\", \"177\", \"73\", \"16\", \"143\", \"111\", \"121\", \"60\", \"159\", \"200\", \"169\", \"54\", \"194\", \"34\", \"126\", \"86\", \"32\", \"188\", \"139\", \"92\", \"94\", \"27\", \"41\", \"103\", \"116\", \"29\", \"171\", \"120\", \"22\", \"157\", \"184\", \"35\", \"26\", \"81\", \"110\", \"44\", \"185\", \"51\", \"198\", \"203\", \"74\", \"71\", \"25\", \"11\", \"209\", \"149\", \"39\", \"123\", \"205\", \"52\", \"43\", \"151\", \"95\", \"212\", \"89\", \"125\", \"8\", \"56\", \"128\", \"117\", \"193\", \"4\", \"37\", \"154\", \"138\", \"141\", \"99\", \"80\", \"118\", \"134\", \"147\", \"142\", \"59\", \"187\", \"160\", \"47\", \"168\", \"167\", \"181\", \"161\", \"46\", \"88\", \"155\", \"145\", \"195\", \"109\", \"166\", \"102\", \"179\", \"208\", \"6\", \"210\", \"186\", \"211\", \"213\", \"173\", \"174\", \"207\", \"206\", \"191\", \"202\", \"199\", \"176\", \"180\", \"196\", \"178\", \"190\", \"192\", \"182\", \"122\", \"165\", \"61\", \"85\", \"84\", \"77\", \"76\", \"72\", \"70\", \"64\", \"63\", \"62\", \"58\", \"164\", \"57\", \"55\", \"50\", \"49\", \"48\", \"45\", \"42\", \"40\", \"38\", \"17\", \"97\", \"15\", \"101\", \"7\", \"158\", \"156\", \"152\", \"150\", \"148\", \"146\", \"144\", \"137\", \"132\", \"130\", \"31\", \"12\", \"115\", \"113\", \"112\", \"106\", \"105\", \"14\", \"214\"], \"type\": \"bar\", \"uid\": \"707a1c84-54df-4abb-96b6-aca0b1427f24\"}], {\"autosize\": false, \"height\": 1000, \"width\": 1000, \"xaxis\": {\"tickfont\": {\"color\": \"black\", \"size\": 12}, \"title\": \"Feature Importances\"}, \"yaxis\": {\"automargin\": true}}, {\"showLink\": true, \"linkText\": \"Export to plot.ly\", \"plotlyServerURL\": \"https://plot.ly\"})});</script>"
      ],
      "text/vnd.plotly.v1+html": [
       "<div id=\"30d7e8f3-56b1-4216-82f7-90c359f024fb\" style=\"height: 1000px; width: 1000px;\" class=\"plotly-graph-div\"></div><script type=\"text/javascript\">require([\"plotly\"], function(Plotly) { window.PLOTLYENV=window.PLOTLYENV || {};window.PLOTLYENV.BASE_URL=\"https://plot.ly\";Plotly.newPlot(\"30d7e8f3-56b1-4216-82f7-90c359f024fb\", [{\"marker\": {\"color\": \"rgb(158,202,225)\", \"line\": {\"color\": \"rgb(8,48,107)\", \"width\": 1.5}}, \"opacity\": 0.6, \"orientation\": \"h\", \"text\": [0.8416, 0.0107, 0.0089, 0.0082, 0.0076, 0.0076, 0.0072, 0.0071, 0.0064, 0.0059, 0.0043, 0.0038, 0.0034, 0.0034, 0.0032, 0.003, 0.0029, 0.0025, 0.0024, 0.0024, 0.0021, 0.0021, 0.0019, 0.0018, 0.0015, 0.0014, 0.0012, 0.0012, 0.0012, 0.0012, 0.0012, 0.0011, 0.0011, 0.0011, 0.0011, 0.001, 0.001, 0.001, 0.001, 0.001, 0.0009, 0.0009, 0.0009, 0.0009, 0.0009, 0.0008, 0.0008, 0.0008, 0.0008, 0.0008, 0.0008, 0.0008, 0.0007, 0.0007, 0.0007, 0.0007, 0.0007, 0.0007, 0.0006, 0.0006, 0.0006, 0.0006, 0.0006, 0.0006, 0.0005, 0.0005, 0.0005, 0.0005, 0.0004, 0.0004, 0.0004, 0.0004, 0.0004, 0.0004, 0.0004, 0.0004, 0.0004, 0.0004, 0.0003, 0.0003, 0.0003, 0.0003, 0.0003, 0.0003, 0.0003, 0.0003, 0.0003, 0.0003, 0.0003, 0.0003, 0.0002, 0.0002, 0.0002, 0.0002, 0.0002, 0.0002, 0.0001, 0.0001, 0.0001, 0.0001, 0.0001, 0.0001, 0.0001, 0.0001, 0.0001, 0.0001, 0.0001, 0.0001, 0.0001, 0.0001, 0.0001, 0.0001, 0.0001, 0.0001, 0.0001, 0.0001, 0.0001, 0.0001, 0.0001, 0.0001, 0.0001, 0.0001, 0.0001, 0.0, 0.0, 0.0, 0.0, 0.0, 0.0, 0.0, 0.0, 0.0, 0.0, 0.0, 0.0, 0.0, 0.0, 0.0, 0.0, 0.0, 0.0, 0.0, 0.0, 0.0, 0.0, 0.0, 0.0, 0.0, 0.0, 0.0, 0.0, 0.0, 0.0, 0.0, 0.0, 0.0, 0.0, 0.0, 0.0, 0.0, 0.0, 0.0, 0.0, 0.0, 0.0, 0.0, 0.0, 0.0, 0.0, 0.0, 0.0, 0.0, 0.0, 0.0, 0.0, 0.0, 0.0, 0.0, 0.0, 0.0, 0.0, 0.0, 0.0, 0.0, 0.0, 0.0, 0.0, 0.0, 0.0, 0.0, 0.0, 0.0, 0.0, 0.0, 0.0, 0.0, 0.0, 0.0, 0.0, 0.0, 0.0, 0.0, 0.0, 0.0, 0.0, 0.0, 0.0, 0.0, 0.0, 0.0, 0.0, 0.0, 0.0, 0.0, 0.0], \"textposition\": \"outside\", \"x\": [0.8415587136753204, 0.010678890900896564, 0.008921948661242005, 0.008215490162029599, 0.007602439008105782, 0.007565635964277287, 0.007157403587310515, 0.007082622286688592, 0.006399545036868362, 0.005949544010480183, 0.0042842995975420975, 0.0038445055330722793, 0.0034267908231753502, 0.003366008068436673, 0.003212732246642448, 0.00298589557178393, 0.0029461814581285147, 0.0025112361817185127, 0.002408927625696466, 0.0023601229274255262, 0.002137550555765272, 0.002113461551836253, 0.0019163157221589442, 0.0017868465471545924, 0.0015257620104621725, 0.0014402917606491526, 0.0012280945053499712, 0.0012207419068380478, 0.0012178467105190267, 0.001191577470189659, 0.0011647306120746346, 0.001149804253399763, 0.001098572720471217, 0.0010947482165122638, 0.0010923049147857702, 0.0010479882899611514, 0.0010194714131614628, 0.0009793857677053612, 0.0009784906844987151, 0.000962261876724111, 0.0009244520095060965, 0.0009118943964248612, 0.0009002929932045134, 0.0008754253474680891, 0.0008685458071750744, 0.0008415484513743047, 0.0008371816940459243, 0.0008341751847994142, 0.0008141373439462207, 0.0008135256521496445, 0.000793869970900498, 0.0007747806158895581, 0.0007276489488322098, 0.0007180816651026807, 0.0007098896589488566, 0.0007041337427487346, 0.000663146868259669, 0.0006506908184707918, 0.0006112411837957548, 0.0006085103474491895, 0.0005981885673581573, 0.0005573212956447965, 0.000551088995622081, 0.00055102361867858, 0.0005269950537452402, 0.0004958066240636825, 0.00045335794354413664, 0.00045222484794772347, 0.00044429652978740357, 0.0004390078312978727, 0.0004363668131238516, 0.0004117485883130793, 0.00039941169943850854, 0.0003814406001780741, 0.00036795769665141025, 0.0003592476759451243, 0.0003588251140461095, 0.00035678841717026125, 0.0003178779886842883, 0.000316832776945396, 0.0003025805821896995, 0.00030106985507319454, 0.0002803073515657753, 0.0002727370316246013, 0.0002677307010909985, 0.0002672294815382129, 0.00026673017877023436, 0.0002557349350571407, 0.0002549082299111371, 0.00025468457407126305, 0.00023776205512466615, 0.0002024360252763554, 0.00018878826591056202, 0.00016823314077823464, 0.00015423069621843083, 0.00015278659651344904, 0.00014170255726361926, 0.0001390468706858287, 0.00013527678659405195, 0.00013089460388883902, 0.00012816534349605258, 0.00012548225992846138, 0.0001234294578712279, 0.00012342925015955384, 0.00011599902325614092, 0.00011174931738660409, 0.00010995656532748783, 0.00010571093603675129, 8.983315946628389e-05, 7.848595921835743e-05, 7.816833146848465e-05, 7.189239255633512e-05, 7.063558855923545e-05, 6.52276691367939e-05, 6.416103155399172e-05, 6.227528819873936e-05, 6.0665326317655774e-05, 6.010793040927266e-05, 5.985887479062866e-05, 5.741369970462161e-05, 5.705745984835969e-05, 5.7002759090246994e-05, 5.437958774664155e-05, 4.8912966629429524e-05, 4.509165409548198e-05, 4.452207903234542e-05, 4.172161139849572e-05, 4.166070488530443e-05, 3.938929854883518e-05, 3.348235371497702e-05, 3.16507867121974e-05, 2.8676642055250367e-05, 2.7749175695128844e-05, 2.0979992487917575e-05, 1.9668158799354904e-05, 1.6986439402024196e-05, 1.604347453064072e-05, 9.140556423051988e-06, 8.752361152885675e-06, 8.58024140420467e-06, 3.1725349379844112e-06, 2.8216430503469658e-06, 3.187265568071789e-07, 2.4402207435977305e-07, 1.9112127854141368e-07, 1.2114351326973256e-07, 2.385210125355485e-09, 0.0, 0.0, 0.0, 0.0, 0.0, 0.0, 0.0, 0.0, 0.0, 0.0, 0.0, 0.0, 0.0, 0.0, 0.0, 0.0, 0.0, 0.0, 0.0, 0.0, 0.0, 0.0, 0.0, 0.0, 0.0, 0.0, 0.0, 0.0, 0.0, 0.0, 0.0, 0.0, 0.0, 0.0, 0.0, 0.0, 0.0, 0.0, 0.0, 0.0, 0.0, 0.0, 0.0, 0.0, 0.0, 0.0, 0.0, 0.0, 0.0, 0.0, 0.0, 0.0, 0.0, 0.0, 0.0, 0.0, 0.0, 0.0, 0.0, 0.0, 0.0, 0.0, 0.0, 0.0, 0.0, 0.0, 0.0, 0.0], \"y\": [\"0\", \"119\", \"162\", \"28\", \"53\", \"104\", \"21\", \"9\", \"30\", \"100\", \"96\", \"201\", \"2\", \"82\", \"136\", \"23\", \"66\", \"98\", \"24\", \"172\", \"153\", \"183\", \"1\", \"133\", \"75\", \"197\", \"18\", \"79\", \"78\", \"107\", \"140\", \"204\", \"127\", \"65\", \"124\", \"36\", \"93\", \"67\", \"10\", \"131\", \"135\", \"108\", \"19\", \"114\", \"170\", \"13\", \"83\", \"33\", \"163\", \"90\", \"20\", \"69\", \"3\", \"68\", \"91\", \"87\", \"5\", \"129\", \"175\", \"189\", \"177\", \"73\", \"16\", \"143\", \"111\", \"121\", \"60\", \"159\", \"200\", \"169\", \"54\", \"194\", \"34\", \"126\", \"86\", \"32\", \"188\", \"139\", \"92\", \"94\", \"27\", \"41\", \"103\", \"116\", \"29\", \"171\", \"120\", \"22\", \"157\", \"184\", \"35\", \"26\", \"81\", \"110\", \"44\", \"185\", \"51\", \"198\", \"203\", \"74\", \"71\", \"25\", \"11\", \"209\", \"149\", \"39\", \"123\", \"205\", \"52\", \"43\", \"151\", \"95\", \"212\", \"89\", \"125\", \"8\", \"56\", \"128\", \"117\", \"193\", \"4\", \"37\", \"154\", \"138\", \"141\", \"99\", \"80\", \"118\", \"134\", \"147\", \"142\", \"59\", \"187\", \"160\", \"47\", \"168\", \"167\", \"181\", \"161\", \"46\", \"88\", \"155\", \"145\", \"195\", \"109\", \"166\", \"102\", \"179\", \"208\", \"6\", \"210\", \"186\", \"211\", \"213\", \"173\", \"174\", \"207\", \"206\", \"191\", \"202\", \"199\", \"176\", \"180\", \"196\", \"178\", \"190\", \"192\", \"182\", \"122\", \"165\", \"61\", \"85\", \"84\", \"77\", \"76\", \"72\", \"70\", \"64\", \"63\", \"62\", \"58\", \"164\", \"57\", \"55\", \"50\", \"49\", \"48\", \"45\", \"42\", \"40\", \"38\", \"17\", \"97\", \"15\", \"101\", \"7\", \"158\", \"156\", \"152\", \"150\", \"148\", \"146\", \"144\", \"137\", \"132\", \"130\", \"31\", \"12\", \"115\", \"113\", \"112\", \"106\", \"105\", \"14\", \"214\"], \"type\": \"bar\", \"uid\": \"707a1c84-54df-4abb-96b6-aca0b1427f24\"}], {\"autosize\": false, \"height\": 1000, \"width\": 1000, \"xaxis\": {\"tickfont\": {\"color\": \"black\", \"size\": 12}, \"title\": \"Feature Importances\"}, \"yaxis\": {\"automargin\": true}}, {\"showLink\": true, \"linkText\": \"Export to plot.ly\", \"plotlyServerURL\": \"https://plot.ly\"})});</script>"
      ]
     },
     "metadata": {},
     "output_type": "display_data"
    },
    {
     "name": "stdout",
     "output_type": "stream",
     "text": [
      "\n",
      "\n",
      "\u001b[1mExtraTree Classifier\u001b[0m\n",
      "Accuracy of the model for training data is: 0.9267663585838425\n",
      "Confusion Matrix for training data is:\n"
     ]
    },
    {
     "data": {
      "text/plain": [
       "Predicted  False  True  __all__\n",
       "Actual                         \n",
       "False      25571  2267    27838\n",
       "True         118  4611     4729\n",
       "__all__    25689  6878    32567"
      ]
     },
     "metadata": {},
     "output_type": "display_data"
    },
    {
     "name": "stdout",
     "output_type": "stream",
     "text": [
      "Accuracy of the model for test data is: 0.9109555391795627\n",
      "Confusion Matrix for test data is:\n"
     ]
    },
    {
     "data": {
      "text/plain": [
       "Predicted  False  True  __all__\n",
       "Actual                         \n",
       "False       6354   586     6940\n",
       "True         139  1063     1202\n",
       "__all__     6493  1649     8142"
      ]
     },
     "metadata": {},
     "output_type": "display_data"
    },
    {
     "data": {
      "application/vnd.plotly.v1+json": {
       "config": {
        "linkText": "Export to plot.ly",
        "plotlyServerURL": "https://plot.ly",
        "showLink": true
       },
       "data": [
        {
         "marker": {
          "color": "rgb(158,202,225)",
          "line": {
           "color": "rgb(8,48,107)",
           "width": 1.5
          }
         },
         "opacity": 0.6,
         "orientation": "h",
         "text": [
          0.0362,
          0.0342,
          0.0266,
          0.0223,
          0.0222,
          0.0209,
          0.0208,
          0.0177,
          0.0159,
          0.0143,
          0.014,
          0.0127,
          0.0125,
          0.0121,
          0.0119,
          0.0117,
          0.0116,
          0.0116,
          0.0112,
          0.0112,
          0.0111,
          0.0106,
          0.0106,
          0.0099,
          0.0098,
          0.0097,
          0.0096,
          0.0093,
          0.0091,
          0.0086,
          0.0085,
          0.0084,
          0.0083,
          0.0082,
          0.0079,
          0.0079,
          0.0077,
          0.0076,
          0.0074,
          0.0074,
          0.0071,
          0.007,
          0.0069,
          0.0069,
          0.0068,
          0.0065,
          0.0064,
          0.0063,
          0.0062,
          0.0061,
          0.006,
          0.0059,
          0.0056,
          0.0056,
          0.0056,
          0.0054,
          0.0054,
          0.0051,
          0.0051,
          0.0051,
          0.005,
          0.005,
          0.0049,
          0.0049,
          0.0047,
          0.0046,
          0.0046,
          0.0044,
          0.0043,
          0.0043,
          0.0042,
          0.0041,
          0.004,
          0.004,
          0.0039,
          0.0039,
          0.0038,
          0.0038,
          0.0038,
          0.0038,
          0.0038,
          0.0038,
          0.0037,
          0.0036,
          0.0036,
          0.0036,
          0.0036,
          0.0035,
          0.0034,
          0.0034,
          0.0034,
          0.0033,
          0.0032,
          0.0032,
          0.0031,
          0.0031,
          0.003,
          0.003,
          0.0029,
          0.0029,
          0.0029,
          0.0028,
          0.0028,
          0.0027,
          0.0027,
          0.0026,
          0.0025,
          0.0025,
          0.0025,
          0.0025,
          0.0025,
          0.0025,
          0.0024,
          0.0024,
          0.0024,
          0.0024,
          0.0024,
          0.0024,
          0.0024,
          0.0024,
          0.0023,
          0.0023,
          0.0023,
          0.0023,
          0.0023,
          0.0023,
          0.0022,
          0.0022,
          0.0022,
          0.0022,
          0.0022,
          0.0021,
          0.0021,
          0.002,
          0.002,
          0.002,
          0.002,
          0.0019,
          0.0019,
          0.0019,
          0.0019,
          0.0019,
          0.0019,
          0.0018,
          0.0018,
          0.0018,
          0.0018,
          0.0018,
          0.0018,
          0.0017,
          0.0017,
          0.0017,
          0.0017,
          0.0017,
          0.0017,
          0.0017,
          0.0017,
          0.0017,
          0.0017,
          0.0017,
          0.0016,
          0.0016,
          0.0016,
          0.0016,
          0.0016,
          0.0015,
          0.0015,
          0.0015,
          0.0015,
          0.0015,
          0.0015,
          0.0015,
          0.0015,
          0.0015,
          0.0014,
          0.0014,
          0.0014,
          0.0014,
          0.0014,
          0.0014,
          0.0014,
          0.0013,
          0.0013,
          0.0013,
          0.0013,
          0.0013,
          0.0013,
          0.0013,
          0.0013,
          0.0012,
          0.0012,
          0.0012,
          0.0012,
          0.0012,
          0.0012,
          0.0012,
          0.0011,
          0.0011,
          0.0011,
          0.0011,
          0.0011,
          0.0011,
          0.0011,
          0.001,
          0.001,
          0.001,
          0.001,
          0.0009,
          0.0009,
          0.0009,
          0.0009,
          0.0009,
          0.0008,
          0.0008,
          0.0007
         ],
         "textposition": "outside",
         "type": "bar",
         "uid": "60fcebd3-9238-467e-9a61-867142e3de3c",
         "x": [
          0.03616726341820315,
          0.034199162913092294,
          0.026568932879213854,
          0.022262011331315702,
          0.02221602786735839,
          0.02086822978501263,
          0.020778637540330148,
          0.0176802668428746,
          0.015898326154049534,
          0.014319238620836538,
          0.013995805191929512,
          0.012744943674106208,
          0.012495986255582575,
          0.0121383701708153,
          0.011944942625307398,
          0.011706949860283547,
          0.011580785803133422,
          0.011558033054975157,
          0.011240069854517263,
          0.01115321762903333,
          0.011053070120759331,
          0.010572715899710159,
          0.010553063599104136,
          0.009916220764610519,
          0.009804047088159195,
          0.009679023382823912,
          0.009568756707168747,
          0.009312159143257321,
          0.009129920993520812,
          0.008559636004193056,
          0.008516823393733943,
          0.008352936136676327,
          0.008297247863481674,
          0.00818598240227384,
          0.007941503274100264,
          0.007937289453766195,
          0.007686715431068359,
          0.0075988920189035145,
          0.007409463143342508,
          0.00738668183834435,
          0.007060428865888961,
          0.007006706420608296,
          0.006938906078100246,
          0.006871207722018285,
          0.006813441603185473,
          0.006499407719439947,
          0.006384206058105094,
          0.0062796803873888035,
          0.006210479980104424,
          0.0060691822951677195,
          0.005961703680181784,
          0.005870037310013721,
          0.0056483929542554745,
          0.0056367597121488484,
          0.005611327983942542,
          0.005446147144555661,
          0.005375697980240351,
          0.005097639918862433,
          0.005071044121588177,
          0.005060227437891981,
          0.005025518664605795,
          0.004986933993026253,
          0.00493415944076634,
          0.004872359870270278,
          0.0046797118061194755,
          0.004607799165871851,
          0.004574048132893649,
          0.004360337070492029,
          0.004297377092839511,
          0.0042871003501725865,
          0.004159932165321023,
          0.004125124355660795,
          0.003995915844723764,
          0.003976993138301897,
          0.003882269178089638,
          0.003851606766017837,
          0.003840168511824028,
          0.003829118573801042,
          0.0038177725381156862,
          0.003814677482050821,
          0.0037901143991499547,
          0.0037531465069524385,
          0.0036690529049691954,
          0.0036398818669849736,
          0.0036391322011805646,
          0.0035927003982800998,
          0.003587805041678694,
          0.003490089249472543,
          0.003440092155873465,
          0.0034097238138709584,
          0.003357810865156424,
          0.003268766235376879,
          0.003229278554652714,
          0.0031851843392837176,
          0.0030622050912628407,
          0.0030583714399547513,
          0.0029929122354174806,
          0.002957038265765025,
          0.002885905537602939,
          0.0028811380747818505,
          0.002869554094514202,
          0.0028149006617405126,
          0.002752392879148741,
          0.002702257640423833,
          0.0026899094946641095,
          0.0025973049407396107,
          0.00253546163955998,
          0.0025347905209892794,
          0.0025341940816876267,
          0.0025103393029693656,
          0.0024993513617631454,
          0.002496633513780459,
          0.0024431579620080414,
          0.0024426951290267246,
          0.002439202351417764,
          0.002435614180909782,
          0.002386658803680444,
          0.0023839072020595082,
          0.002371999684797959,
          0.0023684821712617408,
          0.002331224749541104,
          0.0023140316132644646,
          0.002306718620871183,
          0.0023024915561114536,
          0.0022877407154966146,
          0.0022773053152376657,
          0.002218863636396089,
          0.00221689813281838,
          0.0022155488130418868,
          0.0021896464883764994,
          0.0021804722715163035,
          0.002120022814215756,
          0.002056532786322359,
          0.001999131669512096,
          0.0019927392317798426,
          0.0019566270994376485,
          0.0019524979428573069,
          0.001900018881018215,
          0.0018990624049510562,
          0.001893741749379363,
          0.0018919547732588295,
          0.0018917228314407094,
          0.0018716952161736094,
          0.0018327083920919053,
          0.0018324132921757467,
          0.001801300767538409,
          0.0018002605762262528,
          0.0017929702935131672,
          0.0017849988685742595,
          0.0017464166055196312,
          0.0017344007361371218,
          0.0017214934175042824,
          0.0017198363534398188,
          0.0017045822415447285,
          0.0016996941229961411,
          0.0016815366308381514,
          0.001667703553324222,
          0.001654097359339643,
          0.0016524399783487869,
          0.0016513787727836149,
          0.0016459610687826031,
          0.0016333536509810437,
          0.0016261696298403199,
          0.0016023904593631465,
          0.0015760294266878555,
          0.0015480954666004282,
          0.0015301580342119,
          0.001519171781346958,
          0.0015137191386205315,
          0.0015082698442862588,
          0.0014851358823968603,
          0.001476994013414998,
          0.0014688662508894968,
          0.001452824574739022,
          0.0014150331264451228,
          0.0014075109873186154,
          0.0013994758303409992,
          0.0013980030766765135,
          0.0013886851578753083,
          0.0013668251825897635,
          0.0013630392364455321,
          0.0013249685965256866,
          0.0013222090575662337,
          0.0013064419921954829,
          0.0013004510435769404,
          0.001284426883441153,
          0.001270422019673811,
          0.0012649763576533515,
          0.0012524230051644482,
          0.0012375707226845928,
          0.001232710354667556,
          0.0012119493986589287,
          0.0012054531336989712,
          0.001204956211719058,
          0.0011704506787531134,
          0.0011553817993763097,
          0.0011448239489914092,
          0.001102828748263829,
          0.0010945661101516757,
          0.0010900974694533897,
          0.0010859068883859056,
          0.001067530775322812,
          0.0010591209740060442,
          0.0010486806920241198,
          0.001028896067700261,
          0.0010050876535688399,
          0.0009778162288653794,
          0.0009455270098418467,
          0.0009439228050677277,
          0.0009266197195572045,
          0.0008647837487634743,
          0.0008576727813902567,
          0.0008454001003310737,
          0.0008430493823100057,
          0.0007421881054500717
         ],
         "y": [
          "0",
          "38",
          "149",
          "130",
          "179",
          "30",
          "35",
          "194",
          "53",
          "8",
          "112",
          "183",
          "157",
          "70",
          "195",
          "32",
          "88",
          "80",
          "84",
          "12",
          "168",
          "151",
          "201",
          "189",
          "43",
          "198",
          "199",
          "186",
          "87",
          "124",
          "57",
          "27",
          "163",
          "33",
          "167",
          "153",
          "68",
          "207",
          "42",
          "100",
          "184",
          "71",
          "107",
          "141",
          "178",
          "162",
          "66",
          "115",
          "105",
          "39",
          "182",
          "206",
          "171",
          "64",
          "114",
          "173",
          "203",
          "22",
          "40",
          "10",
          "56",
          "92",
          "155",
          "24",
          "214",
          "109",
          "75",
          "1",
          "106",
          "187",
          "134",
          "161",
          "23",
          "5",
          "46",
          "65",
          "55",
          "9",
          "11",
          "96",
          "54",
          "119",
          "93",
          "129",
          "135",
          "169",
          "142",
          "146",
          "86",
          "156",
          "74",
          "202",
          "108",
          "177",
          "67",
          "154",
          "31",
          "44",
          "91",
          "102",
          "209",
          "117",
          "37",
          "61",
          "136",
          "20",
          "13",
          "205",
          "18",
          "165",
          "15",
          "101",
          "143",
          "34",
          "113",
          "191",
          "152",
          "140",
          "21",
          "97",
          "41",
          "158",
          "197",
          "139",
          "58",
          "76",
          "127",
          "7",
          "204",
          "190",
          "85",
          "17",
          "125",
          "51",
          "103",
          "200",
          "52",
          "98",
          "150",
          "59",
          "180",
          "69",
          "137",
          "25",
          "90",
          "193",
          "208",
          "132",
          "123",
          "116",
          "138",
          "63",
          "181",
          "89",
          "104",
          "36",
          "121",
          "211",
          "50",
          "14",
          "210",
          "144",
          "81",
          "166",
          "170",
          "78",
          "29",
          "175",
          "19",
          "126",
          "49",
          "212",
          "110",
          "48",
          "145",
          "79",
          "164",
          "176",
          "77",
          "174",
          "4",
          "160",
          "196",
          "99",
          "192",
          "213",
          "172",
          "122",
          "73",
          "45",
          "185",
          "60",
          "3",
          "26",
          "95",
          "28",
          "62",
          "128",
          "83",
          "94",
          "147",
          "148",
          "6",
          "111",
          "72",
          "82",
          "188",
          "133",
          "120",
          "2",
          "159",
          "131",
          "16",
          "47",
          "118"
         ]
        }
       ],
       "layout": {
        "autosize": false,
        "height": 1000,
        "width": 1000,
        "xaxis": {
         "tickfont": {
          "color": "black",
          "size": 12
         },
         "title": "Feature Importances"
        },
        "yaxis": {
         "automargin": true
        }
       }
      },
      "text/html": [
       "<div id=\"aa8842d6-6a6f-4d6f-82e1-21fac82f957a\" style=\"height: 1000px; width: 1000px;\" class=\"plotly-graph-div\"></div><script type=\"text/javascript\">require([\"plotly\"], function(Plotly) { window.PLOTLYENV=window.PLOTLYENV || {};window.PLOTLYENV.BASE_URL=\"https://plot.ly\";Plotly.newPlot(\"aa8842d6-6a6f-4d6f-82e1-21fac82f957a\", [{\"marker\": {\"color\": \"rgb(158,202,225)\", \"line\": {\"color\": \"rgb(8,48,107)\", \"width\": 1.5}}, \"opacity\": 0.6, \"orientation\": \"h\", \"text\": [0.0362, 0.0342, 0.0266, 0.0223, 0.0222, 0.0209, 0.0208, 0.0177, 0.0159, 0.0143, 0.014, 0.0127, 0.0125, 0.0121, 0.0119, 0.0117, 0.0116, 0.0116, 0.0112, 0.0112, 0.0111, 0.0106, 0.0106, 0.0099, 0.0098, 0.0097, 0.0096, 0.0093, 0.0091, 0.0086, 0.0085, 0.0084, 0.0083, 0.0082, 0.0079, 0.0079, 0.0077, 0.0076, 0.0074, 0.0074, 0.0071, 0.007, 0.0069, 0.0069, 0.0068, 0.0065, 0.0064, 0.0063, 0.0062, 0.0061, 0.006, 0.0059, 0.0056, 0.0056, 0.0056, 0.0054, 0.0054, 0.0051, 0.0051, 0.0051, 0.005, 0.005, 0.0049, 0.0049, 0.0047, 0.0046, 0.0046, 0.0044, 0.0043, 0.0043, 0.0042, 0.0041, 0.004, 0.004, 0.0039, 0.0039, 0.0038, 0.0038, 0.0038, 0.0038, 0.0038, 0.0038, 0.0037, 0.0036, 0.0036, 0.0036, 0.0036, 0.0035, 0.0034, 0.0034, 0.0034, 0.0033, 0.0032, 0.0032, 0.0031, 0.0031, 0.003, 0.003, 0.0029, 0.0029, 0.0029, 0.0028, 0.0028, 0.0027, 0.0027, 0.0026, 0.0025, 0.0025, 0.0025, 0.0025, 0.0025, 0.0025, 0.0024, 0.0024, 0.0024, 0.0024, 0.0024, 0.0024, 0.0024, 0.0024, 0.0023, 0.0023, 0.0023, 0.0023, 0.0023, 0.0023, 0.0022, 0.0022, 0.0022, 0.0022, 0.0022, 0.0021, 0.0021, 0.002, 0.002, 0.002, 0.002, 0.0019, 0.0019, 0.0019, 0.0019, 0.0019, 0.0019, 0.0018, 0.0018, 0.0018, 0.0018, 0.0018, 0.0018, 0.0017, 0.0017, 0.0017, 0.0017, 0.0017, 0.0017, 0.0017, 0.0017, 0.0017, 0.0017, 0.0017, 0.0016, 0.0016, 0.0016, 0.0016, 0.0016, 0.0015, 0.0015, 0.0015, 0.0015, 0.0015, 0.0015, 0.0015, 0.0015, 0.0015, 0.0014, 0.0014, 0.0014, 0.0014, 0.0014, 0.0014, 0.0014, 0.0013, 0.0013, 0.0013, 0.0013, 0.0013, 0.0013, 0.0013, 0.0013, 0.0012, 0.0012, 0.0012, 0.0012, 0.0012, 0.0012, 0.0012, 0.0011, 0.0011, 0.0011, 0.0011, 0.0011, 0.0011, 0.0011, 0.001, 0.001, 0.001, 0.001, 0.0009, 0.0009, 0.0009, 0.0009, 0.0009, 0.0008, 0.0008, 0.0007], \"textposition\": \"outside\", \"x\": [0.03616726341820315, 0.034199162913092294, 0.026568932879213854, 0.022262011331315702, 0.02221602786735839, 0.02086822978501263, 0.020778637540330148, 0.0176802668428746, 0.015898326154049534, 0.014319238620836538, 0.013995805191929512, 0.012744943674106208, 0.012495986255582575, 0.0121383701708153, 0.011944942625307398, 0.011706949860283547, 0.011580785803133422, 0.011558033054975157, 0.011240069854517263, 0.01115321762903333, 0.011053070120759331, 0.010572715899710159, 0.010553063599104136, 0.009916220764610519, 0.009804047088159195, 0.009679023382823912, 0.009568756707168747, 0.009312159143257321, 0.009129920993520812, 0.008559636004193056, 0.008516823393733943, 0.008352936136676327, 0.008297247863481674, 0.00818598240227384, 0.007941503274100264, 0.007937289453766195, 0.007686715431068359, 0.0075988920189035145, 0.007409463143342508, 0.00738668183834435, 0.007060428865888961, 0.007006706420608296, 0.006938906078100246, 0.006871207722018285, 0.006813441603185473, 0.006499407719439947, 0.006384206058105094, 0.0062796803873888035, 0.006210479980104424, 0.0060691822951677195, 0.005961703680181784, 0.005870037310013721, 0.0056483929542554745, 0.0056367597121488484, 0.005611327983942542, 0.005446147144555661, 0.005375697980240351, 0.005097639918862433, 0.005071044121588177, 0.005060227437891981, 0.005025518664605795, 0.004986933993026253, 0.00493415944076634, 0.004872359870270278, 0.0046797118061194755, 0.004607799165871851, 0.004574048132893649, 0.004360337070492029, 0.004297377092839511, 0.0042871003501725865, 0.004159932165321023, 0.004125124355660795, 0.003995915844723764, 0.003976993138301897, 0.003882269178089638, 0.003851606766017837, 0.003840168511824028, 0.003829118573801042, 0.0038177725381156862, 0.003814677482050821, 0.0037901143991499547, 0.0037531465069524385, 0.0036690529049691954, 0.0036398818669849736, 0.0036391322011805646, 0.0035927003982800998, 0.003587805041678694, 0.003490089249472543, 0.003440092155873465, 0.0034097238138709584, 0.003357810865156424, 0.003268766235376879, 0.003229278554652714, 0.0031851843392837176, 0.0030622050912628407, 0.0030583714399547513, 0.0029929122354174806, 0.002957038265765025, 0.002885905537602939, 0.0028811380747818505, 0.002869554094514202, 0.0028149006617405126, 0.002752392879148741, 0.002702257640423833, 0.0026899094946641095, 0.0025973049407396107, 0.00253546163955998, 0.0025347905209892794, 0.0025341940816876267, 0.0025103393029693656, 0.0024993513617631454, 0.002496633513780459, 0.0024431579620080414, 0.0024426951290267246, 0.002439202351417764, 0.002435614180909782, 0.002386658803680444, 0.0023839072020595082, 0.002371999684797959, 0.0023684821712617408, 0.002331224749541104, 0.0023140316132644646, 0.002306718620871183, 0.0023024915561114536, 0.0022877407154966146, 0.0022773053152376657, 0.002218863636396089, 0.00221689813281838, 0.0022155488130418868, 0.0021896464883764994, 0.0021804722715163035, 0.002120022814215756, 0.002056532786322359, 0.001999131669512096, 0.0019927392317798426, 0.0019566270994376485, 0.0019524979428573069, 0.001900018881018215, 0.0018990624049510562, 0.001893741749379363, 0.0018919547732588295, 0.0018917228314407094, 0.0018716952161736094, 0.0018327083920919053, 0.0018324132921757467, 0.001801300767538409, 0.0018002605762262528, 0.0017929702935131672, 0.0017849988685742595, 0.0017464166055196312, 0.0017344007361371218, 0.0017214934175042824, 0.0017198363534398188, 0.0017045822415447285, 0.0016996941229961411, 0.0016815366308381514, 0.001667703553324222, 0.001654097359339643, 0.0016524399783487869, 0.0016513787727836149, 0.0016459610687826031, 0.0016333536509810437, 0.0016261696298403199, 0.0016023904593631465, 0.0015760294266878555, 0.0015480954666004282, 0.0015301580342119, 0.001519171781346958, 0.0015137191386205315, 0.0015082698442862588, 0.0014851358823968603, 0.001476994013414998, 0.0014688662508894968, 0.001452824574739022, 0.0014150331264451228, 0.0014075109873186154, 0.0013994758303409992, 0.0013980030766765135, 0.0013886851578753083, 0.0013668251825897635, 0.0013630392364455321, 0.0013249685965256866, 0.0013222090575662337, 0.0013064419921954829, 0.0013004510435769404, 0.001284426883441153, 0.001270422019673811, 0.0012649763576533515, 0.0012524230051644482, 0.0012375707226845928, 0.001232710354667556, 0.0012119493986589287, 0.0012054531336989712, 0.001204956211719058, 0.0011704506787531134, 0.0011553817993763097, 0.0011448239489914092, 0.001102828748263829, 0.0010945661101516757, 0.0010900974694533897, 0.0010859068883859056, 0.001067530775322812, 0.0010591209740060442, 0.0010486806920241198, 0.001028896067700261, 0.0010050876535688399, 0.0009778162288653794, 0.0009455270098418467, 0.0009439228050677277, 0.0009266197195572045, 0.0008647837487634743, 0.0008576727813902567, 0.0008454001003310737, 0.0008430493823100057, 0.0007421881054500717], \"y\": [\"0\", \"38\", \"149\", \"130\", \"179\", \"30\", \"35\", \"194\", \"53\", \"8\", \"112\", \"183\", \"157\", \"70\", \"195\", \"32\", \"88\", \"80\", \"84\", \"12\", \"168\", \"151\", \"201\", \"189\", \"43\", \"198\", \"199\", \"186\", \"87\", \"124\", \"57\", \"27\", \"163\", \"33\", \"167\", \"153\", \"68\", \"207\", \"42\", \"100\", \"184\", \"71\", \"107\", \"141\", \"178\", \"162\", \"66\", \"115\", \"105\", \"39\", \"182\", \"206\", \"171\", \"64\", \"114\", \"173\", \"203\", \"22\", \"40\", \"10\", \"56\", \"92\", \"155\", \"24\", \"214\", \"109\", \"75\", \"1\", \"106\", \"187\", \"134\", \"161\", \"23\", \"5\", \"46\", \"65\", \"55\", \"9\", \"11\", \"96\", \"54\", \"119\", \"93\", \"129\", \"135\", \"169\", \"142\", \"146\", \"86\", \"156\", \"74\", \"202\", \"108\", \"177\", \"67\", \"154\", \"31\", \"44\", \"91\", \"102\", \"209\", \"117\", \"37\", \"61\", \"136\", \"20\", \"13\", \"205\", \"18\", \"165\", \"15\", \"101\", \"143\", \"34\", \"113\", \"191\", \"152\", \"140\", \"21\", \"97\", \"41\", \"158\", \"197\", \"139\", \"58\", \"76\", \"127\", \"7\", \"204\", \"190\", \"85\", \"17\", \"125\", \"51\", \"103\", \"200\", \"52\", \"98\", \"150\", \"59\", \"180\", \"69\", \"137\", \"25\", \"90\", \"193\", \"208\", \"132\", \"123\", \"116\", \"138\", \"63\", \"181\", \"89\", \"104\", \"36\", \"121\", \"211\", \"50\", \"14\", \"210\", \"144\", \"81\", \"166\", \"170\", \"78\", \"29\", \"175\", \"19\", \"126\", \"49\", \"212\", \"110\", \"48\", \"145\", \"79\", \"164\", \"176\", \"77\", \"174\", \"4\", \"160\", \"196\", \"99\", \"192\", \"213\", \"172\", \"122\", \"73\", \"45\", \"185\", \"60\", \"3\", \"26\", \"95\", \"28\", \"62\", \"128\", \"83\", \"94\", \"147\", \"148\", \"6\", \"111\", \"72\", \"82\", \"188\", \"133\", \"120\", \"2\", \"159\", \"131\", \"16\", \"47\", \"118\"], \"type\": \"bar\", \"uid\": \"60fcebd3-9238-467e-9a61-867142e3de3c\"}], {\"autosize\": false, \"height\": 1000, \"width\": 1000, \"xaxis\": {\"tickfont\": {\"color\": \"black\", \"size\": 12}, \"title\": \"Feature Importances\"}, \"yaxis\": {\"automargin\": true}}, {\"showLink\": true, \"linkText\": \"Export to plot.ly\", \"plotlyServerURL\": \"https://plot.ly\"})});</script>"
      ],
      "text/vnd.plotly.v1+html": [
       "<div id=\"aa8842d6-6a6f-4d6f-82e1-21fac82f957a\" style=\"height: 1000px; width: 1000px;\" class=\"plotly-graph-div\"></div><script type=\"text/javascript\">require([\"plotly\"], function(Plotly) { window.PLOTLYENV=window.PLOTLYENV || {};window.PLOTLYENV.BASE_URL=\"https://plot.ly\";Plotly.newPlot(\"aa8842d6-6a6f-4d6f-82e1-21fac82f957a\", [{\"marker\": {\"color\": \"rgb(158,202,225)\", \"line\": {\"color\": \"rgb(8,48,107)\", \"width\": 1.5}}, \"opacity\": 0.6, \"orientation\": \"h\", \"text\": [0.0362, 0.0342, 0.0266, 0.0223, 0.0222, 0.0209, 0.0208, 0.0177, 0.0159, 0.0143, 0.014, 0.0127, 0.0125, 0.0121, 0.0119, 0.0117, 0.0116, 0.0116, 0.0112, 0.0112, 0.0111, 0.0106, 0.0106, 0.0099, 0.0098, 0.0097, 0.0096, 0.0093, 0.0091, 0.0086, 0.0085, 0.0084, 0.0083, 0.0082, 0.0079, 0.0079, 0.0077, 0.0076, 0.0074, 0.0074, 0.0071, 0.007, 0.0069, 0.0069, 0.0068, 0.0065, 0.0064, 0.0063, 0.0062, 0.0061, 0.006, 0.0059, 0.0056, 0.0056, 0.0056, 0.0054, 0.0054, 0.0051, 0.0051, 0.0051, 0.005, 0.005, 0.0049, 0.0049, 0.0047, 0.0046, 0.0046, 0.0044, 0.0043, 0.0043, 0.0042, 0.0041, 0.004, 0.004, 0.0039, 0.0039, 0.0038, 0.0038, 0.0038, 0.0038, 0.0038, 0.0038, 0.0037, 0.0036, 0.0036, 0.0036, 0.0036, 0.0035, 0.0034, 0.0034, 0.0034, 0.0033, 0.0032, 0.0032, 0.0031, 0.0031, 0.003, 0.003, 0.0029, 0.0029, 0.0029, 0.0028, 0.0028, 0.0027, 0.0027, 0.0026, 0.0025, 0.0025, 0.0025, 0.0025, 0.0025, 0.0025, 0.0024, 0.0024, 0.0024, 0.0024, 0.0024, 0.0024, 0.0024, 0.0024, 0.0023, 0.0023, 0.0023, 0.0023, 0.0023, 0.0023, 0.0022, 0.0022, 0.0022, 0.0022, 0.0022, 0.0021, 0.0021, 0.002, 0.002, 0.002, 0.002, 0.0019, 0.0019, 0.0019, 0.0019, 0.0019, 0.0019, 0.0018, 0.0018, 0.0018, 0.0018, 0.0018, 0.0018, 0.0017, 0.0017, 0.0017, 0.0017, 0.0017, 0.0017, 0.0017, 0.0017, 0.0017, 0.0017, 0.0017, 0.0016, 0.0016, 0.0016, 0.0016, 0.0016, 0.0015, 0.0015, 0.0015, 0.0015, 0.0015, 0.0015, 0.0015, 0.0015, 0.0015, 0.0014, 0.0014, 0.0014, 0.0014, 0.0014, 0.0014, 0.0014, 0.0013, 0.0013, 0.0013, 0.0013, 0.0013, 0.0013, 0.0013, 0.0013, 0.0012, 0.0012, 0.0012, 0.0012, 0.0012, 0.0012, 0.0012, 0.0011, 0.0011, 0.0011, 0.0011, 0.0011, 0.0011, 0.0011, 0.001, 0.001, 0.001, 0.001, 0.0009, 0.0009, 0.0009, 0.0009, 0.0009, 0.0008, 0.0008, 0.0007], \"textposition\": \"outside\", \"x\": [0.03616726341820315, 0.034199162913092294, 0.026568932879213854, 0.022262011331315702, 0.02221602786735839, 0.02086822978501263, 0.020778637540330148, 0.0176802668428746, 0.015898326154049534, 0.014319238620836538, 0.013995805191929512, 0.012744943674106208, 0.012495986255582575, 0.0121383701708153, 0.011944942625307398, 0.011706949860283547, 0.011580785803133422, 0.011558033054975157, 0.011240069854517263, 0.01115321762903333, 0.011053070120759331, 0.010572715899710159, 0.010553063599104136, 0.009916220764610519, 0.009804047088159195, 0.009679023382823912, 0.009568756707168747, 0.009312159143257321, 0.009129920993520812, 0.008559636004193056, 0.008516823393733943, 0.008352936136676327, 0.008297247863481674, 0.00818598240227384, 0.007941503274100264, 0.007937289453766195, 0.007686715431068359, 0.0075988920189035145, 0.007409463143342508, 0.00738668183834435, 0.007060428865888961, 0.007006706420608296, 0.006938906078100246, 0.006871207722018285, 0.006813441603185473, 0.006499407719439947, 0.006384206058105094, 0.0062796803873888035, 0.006210479980104424, 0.0060691822951677195, 0.005961703680181784, 0.005870037310013721, 0.0056483929542554745, 0.0056367597121488484, 0.005611327983942542, 0.005446147144555661, 0.005375697980240351, 0.005097639918862433, 0.005071044121588177, 0.005060227437891981, 0.005025518664605795, 0.004986933993026253, 0.00493415944076634, 0.004872359870270278, 0.0046797118061194755, 0.004607799165871851, 0.004574048132893649, 0.004360337070492029, 0.004297377092839511, 0.0042871003501725865, 0.004159932165321023, 0.004125124355660795, 0.003995915844723764, 0.003976993138301897, 0.003882269178089638, 0.003851606766017837, 0.003840168511824028, 0.003829118573801042, 0.0038177725381156862, 0.003814677482050821, 0.0037901143991499547, 0.0037531465069524385, 0.0036690529049691954, 0.0036398818669849736, 0.0036391322011805646, 0.0035927003982800998, 0.003587805041678694, 0.003490089249472543, 0.003440092155873465, 0.0034097238138709584, 0.003357810865156424, 0.003268766235376879, 0.003229278554652714, 0.0031851843392837176, 0.0030622050912628407, 0.0030583714399547513, 0.0029929122354174806, 0.002957038265765025, 0.002885905537602939, 0.0028811380747818505, 0.002869554094514202, 0.0028149006617405126, 0.002752392879148741, 0.002702257640423833, 0.0026899094946641095, 0.0025973049407396107, 0.00253546163955998, 0.0025347905209892794, 0.0025341940816876267, 0.0025103393029693656, 0.0024993513617631454, 0.002496633513780459, 0.0024431579620080414, 0.0024426951290267246, 0.002439202351417764, 0.002435614180909782, 0.002386658803680444, 0.0023839072020595082, 0.002371999684797959, 0.0023684821712617408, 0.002331224749541104, 0.0023140316132644646, 0.002306718620871183, 0.0023024915561114536, 0.0022877407154966146, 0.0022773053152376657, 0.002218863636396089, 0.00221689813281838, 0.0022155488130418868, 0.0021896464883764994, 0.0021804722715163035, 0.002120022814215756, 0.002056532786322359, 0.001999131669512096, 0.0019927392317798426, 0.0019566270994376485, 0.0019524979428573069, 0.001900018881018215, 0.0018990624049510562, 0.001893741749379363, 0.0018919547732588295, 0.0018917228314407094, 0.0018716952161736094, 0.0018327083920919053, 0.0018324132921757467, 0.001801300767538409, 0.0018002605762262528, 0.0017929702935131672, 0.0017849988685742595, 0.0017464166055196312, 0.0017344007361371218, 0.0017214934175042824, 0.0017198363534398188, 0.0017045822415447285, 0.0016996941229961411, 0.0016815366308381514, 0.001667703553324222, 0.001654097359339643, 0.0016524399783487869, 0.0016513787727836149, 0.0016459610687826031, 0.0016333536509810437, 0.0016261696298403199, 0.0016023904593631465, 0.0015760294266878555, 0.0015480954666004282, 0.0015301580342119, 0.001519171781346958, 0.0015137191386205315, 0.0015082698442862588, 0.0014851358823968603, 0.001476994013414998, 0.0014688662508894968, 0.001452824574739022, 0.0014150331264451228, 0.0014075109873186154, 0.0013994758303409992, 0.0013980030766765135, 0.0013886851578753083, 0.0013668251825897635, 0.0013630392364455321, 0.0013249685965256866, 0.0013222090575662337, 0.0013064419921954829, 0.0013004510435769404, 0.001284426883441153, 0.001270422019673811, 0.0012649763576533515, 0.0012524230051644482, 0.0012375707226845928, 0.001232710354667556, 0.0012119493986589287, 0.0012054531336989712, 0.001204956211719058, 0.0011704506787531134, 0.0011553817993763097, 0.0011448239489914092, 0.001102828748263829, 0.0010945661101516757, 0.0010900974694533897, 0.0010859068883859056, 0.001067530775322812, 0.0010591209740060442, 0.0010486806920241198, 0.001028896067700261, 0.0010050876535688399, 0.0009778162288653794, 0.0009455270098418467, 0.0009439228050677277, 0.0009266197195572045, 0.0008647837487634743, 0.0008576727813902567, 0.0008454001003310737, 0.0008430493823100057, 0.0007421881054500717], \"y\": [\"0\", \"38\", \"149\", \"130\", \"179\", \"30\", \"35\", \"194\", \"53\", \"8\", \"112\", \"183\", \"157\", \"70\", \"195\", \"32\", \"88\", \"80\", \"84\", \"12\", \"168\", \"151\", \"201\", \"189\", \"43\", \"198\", \"199\", \"186\", \"87\", \"124\", \"57\", \"27\", \"163\", \"33\", \"167\", \"153\", \"68\", \"207\", \"42\", \"100\", \"184\", \"71\", \"107\", \"141\", \"178\", \"162\", \"66\", \"115\", \"105\", \"39\", \"182\", \"206\", \"171\", \"64\", \"114\", \"173\", \"203\", \"22\", \"40\", \"10\", \"56\", \"92\", \"155\", \"24\", \"214\", \"109\", \"75\", \"1\", \"106\", \"187\", \"134\", \"161\", \"23\", \"5\", \"46\", \"65\", \"55\", \"9\", \"11\", \"96\", \"54\", \"119\", \"93\", \"129\", \"135\", \"169\", \"142\", \"146\", \"86\", \"156\", \"74\", \"202\", \"108\", \"177\", \"67\", \"154\", \"31\", \"44\", \"91\", \"102\", \"209\", \"117\", \"37\", \"61\", \"136\", \"20\", \"13\", \"205\", \"18\", \"165\", \"15\", \"101\", \"143\", \"34\", \"113\", \"191\", \"152\", \"140\", \"21\", \"97\", \"41\", \"158\", \"197\", \"139\", \"58\", \"76\", \"127\", \"7\", \"204\", \"190\", \"85\", \"17\", \"125\", \"51\", \"103\", \"200\", \"52\", \"98\", \"150\", \"59\", \"180\", \"69\", \"137\", \"25\", \"90\", \"193\", \"208\", \"132\", \"123\", \"116\", \"138\", \"63\", \"181\", \"89\", \"104\", \"36\", \"121\", \"211\", \"50\", \"14\", \"210\", \"144\", \"81\", \"166\", \"170\", \"78\", \"29\", \"175\", \"19\", \"126\", \"49\", \"212\", \"110\", \"48\", \"145\", \"79\", \"164\", \"176\", \"77\", \"174\", \"4\", \"160\", \"196\", \"99\", \"192\", \"213\", \"172\", \"122\", \"73\", \"45\", \"185\", \"60\", \"3\", \"26\", \"95\", \"28\", \"62\", \"128\", \"83\", \"94\", \"147\", \"148\", \"6\", \"111\", \"72\", \"82\", \"188\", \"133\", \"120\", \"2\", \"159\", \"131\", \"16\", \"47\", \"118\"], \"type\": \"bar\", \"uid\": \"60fcebd3-9238-467e-9a61-867142e3de3c\"}], {\"autosize\": false, \"height\": 1000, \"width\": 1000, \"xaxis\": {\"tickfont\": {\"color\": \"black\", \"size\": 12}, \"title\": \"Feature Importances\"}, \"yaxis\": {\"automargin\": true}}, {\"showLink\": true, \"linkText\": \"Export to plot.ly\", \"plotlyServerURL\": \"https://plot.ly\"})});</script>"
      ]
     },
     "metadata": {},
     "output_type": "display_data"
    },
    {
     "name": "stdout",
     "output_type": "stream",
     "text": [
      "\n",
      "\n",
      "\u001b[1mBagging Classifier\u001b[0m\n",
      "Accuracy of the model for training data is: 0.9244941198145362\n",
      "Confusion Matrix for training data is:\n"
     ]
    },
    {
     "data": {
      "text/plain": [
       "Predicted  False  True  __all__\n",
       "Actual                         \n",
       "False      25561  2277    27838\n",
       "True         182  4547     4729\n",
       "__all__    25743  6824    32567"
      ]
     },
     "metadata": {},
     "output_type": "display_data"
    },
    {
     "name": "stdout",
     "output_type": "stream",
     "text": [
      "Accuracy of the model for test data is: 0.9108327192336035\n",
      "Confusion Matrix for test data is:\n"
     ]
    },
    {
     "data": {
      "text/plain": [
       "Predicted  False  True  __all__\n",
       "Actual                         \n",
       "False       6347   593     6940\n",
       "True         133  1069     1202\n",
       "__all__     6480  1662     8142"
      ]
     },
     "metadata": {},
     "output_type": "display_data"
    },
    {
     "name": "stdout",
     "output_type": "stream",
     "text": [
      "\n",
      "\n",
      "\u001b[1mNeural Network-1\u001b[0m\n",
      "The accuracy of the model on training data is: 0.9218841158245956\n"
     ]
    },
    {
     "data": {
      "text/plain": [
       "Predicted  False  True  __all__\n",
       "Actual                         \n",
       "False      25504  2334    27838\n",
       "True         210  4519     4729\n",
       "__all__    25714  6853    32567"
      ]
     },
     "metadata": {},
     "output_type": "display_data"
    },
    {
     "name": "stdout",
     "output_type": "stream",
     "text": [
      "The accuracy of the model on test data is: 0.90506018177352\n"
     ]
    },
    {
     "data": {
      "text/plain": [
       "Predicted  False  True  __all__\n",
       "Actual                         \n",
       "False       6306   634     6940\n",
       "True         139  1063     1202\n",
       "__all__     6445  1697     8142"
      ]
     },
     "metadata": {},
     "output_type": "display_data"
    },
    {
     "name": "stdout",
     "output_type": "stream",
     "text": [
      "\n",
      "\n"
     ]
    }
   ],
   "source": [
    "feat_imp=[None]*4\n",
    "j=0\n",
    "for i in range(0,8):\n",
    "    if i>=2 and i<=5:\n",
    "        model,cm_train,cm_test,acc_train,acc_test,roc_auc,feat_imp[j],mcc=f[i](X_train,Y_train,X_test,Y_test,np.arange(0,215).astype(str))\n",
    "        j=j+1\n",
    "    else:\n",
    "        model,cm_train,cm_test,acc_train,acc_test,roc_auc,mcc=f[i](X_train,Y_train,X_test,Y_test)\n",
    "    table_80_70_train.loc[i]=   ([acc_train,cm_train.TP,cm_train.TN,cm_train.FP,cm_train.FN,cm_train.FPR,cm_train.FNR])\n",
    "    table_80_70_test.loc[i] =   ([acc_test ,cm_test.TP, cm_test.TN, cm_test.FP, cm_test.FN, cm_test.FPR, cm_test.FNR,roc_auc,mcc])\n",
    "    print(\"\\n\")"
   ]
  },
  {
   "cell_type": "markdown",
   "metadata": {},
   "source": [
    "### <a id='5.A' style=\"text-decoration : none; color : #000000;\"> A. Results</a>"
   ]
  },
  {
   "cell_type": "code",
   "execution_count": 52,
   "metadata": {},
   "outputs": [
    {
     "data": {
      "application/vnd.plotly.v1+json": {
       "config": {
        "linkText": "Export to plot.ly",
        "plotlyServerURL": "https://plot.ly",
        "showLink": true
       },
       "data": [
        {
         "mode": "lines",
         "name": "KNN_model",
         "type": "scatter",
         "uid": "963cf24b-6ca3-47e8-82d8-5f899a436270",
         "x": [
          "accuracy",
          "FPR",
          "FNR",
          "auc"
         ],
         "y": [
          0.8621960206337509,
          0.00994236311239193,
          0.8760399334442596,
          0.5570088517216741
         ]
        },
        {
         "mode": "lines+markers",
         "name": "Logistic Regression",
         "type": "scatter",
         "uid": "6a121dbc-093e-45ba-a578-b79f42de4ac4",
         "x": [
          "accuracy",
          "FPR",
          "FNR",
          "auc"
         ],
         "y": [
          0.8986735445836403,
          0.0909221902017291,
          0.16139767054908485,
          0.8738400696245932
         ]
        },
        {
         "marker": {
          "symbol": "x"
         },
         "mode": "lines+markers",
         "name": "Random Forest",
         "type": "scatter",
         "uid": "c69468f0-620c-4b73-80d9-36969ee4e155",
         "x": [
          "accuracy",
          "FPR",
          "FNR",
          "auc"
         ],
         "y": [
          0.9110783591255219,
          0.08443804034582132,
          0.11480865224625623,
          0.9003766537039611
         ]
        },
        {
         "mode": "lines",
         "name": "Ada Boost",
         "type": "scatter",
         "uid": "7c2528e2-7150-4b23-a9d2-88f9eb831132",
         "x": [
          "accuracy",
          "FPR",
          "FNR",
          "auc"
         ],
         "y": [
          0.9014984033407025,
          0.08804034582132565,
          0.1589018302828619,
          0.8765289119479063
         ]
        },
        {
         "mode": "lines+markers",
         "name": "GradientBoosting",
         "type": "scatter",
         "uid": "db9f7142-31c9-42d1-bc14-653055d9c831",
         "x": [
          "accuracy",
          "FPR",
          "FNR",
          "auc"
         ],
         "y": [
          0.9096045197740112,
          0.08414985590778098,
          0.1264559068219634,
          0.8946971186351279
         ]
        },
        {
         "marker": {
          "symbol": "x"
         },
         "mode": "lines+markers",
         "name": "ExtraTree Classifier",
         "type": "scatter",
         "uid": "b23cb7ce-ea14-42c2-bc72-d1283eb70ede",
         "x": [
          "accuracy",
          "FPR",
          "FNR",
          "auc"
         ],
         "y": [
          0.9109555391795627,
          0.08443804034582132,
          0.11564059900166389,
          0.8999606803262573
         ]
        },
        {
         "marker": {
          "symbol": "x"
         },
         "mode": "lines+markers",
         "name": "Bagging",
         "type": "scatter",
         "uid": "597b3731-cdc4-4668-9296-18a8acd12da5",
         "x": [
          "accuracy",
          "FPR",
          "FNR",
          "auc"
         ],
         "y": [
          0.9108327192336035,
          0.08544668587896254,
          0.11064891846921797,
          0.9019521978259099
         ]
        },
        {
         "marker": {
          "symbol": "x"
         },
         "mode": "lines+markers",
         "name": "Neural Network",
         "type": "scatter",
         "uid": "fac01a9f-8980-4e33-b2bb-b457d1763dc9",
         "x": [
          "accuracy",
          "FPR",
          "FNR",
          "auc"
         ],
         "y": [
          0.90506018177352,
          0.09135446685878963,
          0.11564059900166389,
          0.8965024670697732
         ]
        }
       ],
       "layout": {
        "title": "Result comparision for Features selected in Section 1",
        "yaxis": {
         "dtick": 0.05,
         "tick0": 0
        }
       }
      },
      "text/html": [
       "<div id=\"6ad6268a-888b-4f42-8d12-1acdf334e05f\" style=\"height: 525px; width: 100%;\" class=\"plotly-graph-div\"></div><script type=\"text/javascript\">require([\"plotly\"], function(Plotly) { window.PLOTLYENV=window.PLOTLYENV || {};window.PLOTLYENV.BASE_URL=\"https://plot.ly\";Plotly.newPlot(\"6ad6268a-888b-4f42-8d12-1acdf334e05f\", [{\"mode\": \"lines\", \"name\": \"KNN_model\", \"x\": [\"accuracy\", \"FPR\", \"FNR\", \"auc\"], \"y\": [0.8621960206337509, 0.00994236311239193, 0.8760399334442596, 0.5570088517216741], \"type\": \"scatter\", \"uid\": \"963cf24b-6ca3-47e8-82d8-5f899a436270\"}, {\"mode\": \"lines+markers\", \"name\": \"Logistic Regression\", \"x\": [\"accuracy\", \"FPR\", \"FNR\", \"auc\"], \"y\": [0.8986735445836403, 0.0909221902017291, 0.16139767054908485, 0.8738400696245932], \"type\": \"scatter\", \"uid\": \"6a121dbc-093e-45ba-a578-b79f42de4ac4\"}, {\"marker\": {\"symbol\": \"x\"}, \"mode\": \"lines+markers\", \"name\": \"Random Forest\", \"x\": [\"accuracy\", \"FPR\", \"FNR\", \"auc\"], \"y\": [0.9110783591255219, 0.08443804034582132, 0.11480865224625623, 0.9003766537039611], \"type\": \"scatter\", \"uid\": \"c69468f0-620c-4b73-80d9-36969ee4e155\"}, {\"mode\": \"lines\", \"name\": \"Ada Boost\", \"x\": [\"accuracy\", \"FPR\", \"FNR\", \"auc\"], \"y\": [0.9014984033407025, 0.08804034582132565, 0.1589018302828619, 0.8765289119479063], \"type\": \"scatter\", \"uid\": \"7c2528e2-7150-4b23-a9d2-88f9eb831132\"}, {\"mode\": \"lines+markers\", \"name\": \"GradientBoosting\", \"x\": [\"accuracy\", \"FPR\", \"FNR\", \"auc\"], \"y\": [0.9096045197740112, 0.08414985590778098, 0.1264559068219634, 0.8946971186351279], \"type\": \"scatter\", \"uid\": \"db9f7142-31c9-42d1-bc14-653055d9c831\"}, {\"marker\": {\"symbol\": \"x\"}, \"mode\": \"lines+markers\", \"name\": \"ExtraTree Classifier\", \"x\": [\"accuracy\", \"FPR\", \"FNR\", \"auc\"], \"y\": [0.9109555391795627, 0.08443804034582132, 0.11564059900166389, 0.8999606803262573], \"type\": \"scatter\", \"uid\": \"b23cb7ce-ea14-42c2-bc72-d1283eb70ede\"}, {\"marker\": {\"symbol\": \"x\"}, \"mode\": \"lines+markers\", \"name\": \"Bagging\", \"x\": [\"accuracy\", \"FPR\", \"FNR\", \"auc\"], \"y\": [0.9108327192336035, 0.08544668587896254, 0.11064891846921797, 0.9019521978259099], \"type\": \"scatter\", \"uid\": \"597b3731-cdc4-4668-9296-18a8acd12da5\"}, {\"marker\": {\"symbol\": \"x\"}, \"mode\": \"lines+markers\", \"name\": \"Neural Network\", \"x\": [\"accuracy\", \"FPR\", \"FNR\", \"auc\"], \"y\": [0.90506018177352, 0.09135446685878963, 0.11564059900166389, 0.8965024670697732], \"type\": \"scatter\", \"uid\": \"fac01a9f-8980-4e33-b2bb-b457d1763dc9\"}], {\"title\": \"Result comparision for Features selected in Section 1\", \"yaxis\": {\"dtick\": 0.05, \"tick0\": 0}}, {\"showLink\": true, \"linkText\": \"Export to plot.ly\", \"plotlyServerURL\": \"https://plot.ly\"})});</script><script type=\"text/javascript\">window.addEventListener(\"resize\", function(){window._Plotly.Plots.resize(document.getElementById(\"6ad6268a-888b-4f42-8d12-1acdf334e05f\"));});</script>"
      ],
      "text/vnd.plotly.v1+html": [
       "<div id=\"6ad6268a-888b-4f42-8d12-1acdf334e05f\" style=\"height: 525px; width: 100%;\" class=\"plotly-graph-div\"></div><script type=\"text/javascript\">require([\"plotly\"], function(Plotly) { window.PLOTLYENV=window.PLOTLYENV || {};window.PLOTLYENV.BASE_URL=\"https://plot.ly\";Plotly.newPlot(\"6ad6268a-888b-4f42-8d12-1acdf334e05f\", [{\"mode\": \"lines\", \"name\": \"KNN_model\", \"x\": [\"accuracy\", \"FPR\", \"FNR\", \"auc\"], \"y\": [0.8621960206337509, 0.00994236311239193, 0.8760399334442596, 0.5570088517216741], \"type\": \"scatter\", \"uid\": \"963cf24b-6ca3-47e8-82d8-5f899a436270\"}, {\"mode\": \"lines+markers\", \"name\": \"Logistic Regression\", \"x\": [\"accuracy\", \"FPR\", \"FNR\", \"auc\"], \"y\": [0.8986735445836403, 0.0909221902017291, 0.16139767054908485, 0.8738400696245932], \"type\": \"scatter\", \"uid\": \"6a121dbc-093e-45ba-a578-b79f42de4ac4\"}, {\"marker\": {\"symbol\": \"x\"}, \"mode\": \"lines+markers\", \"name\": \"Random Forest\", \"x\": [\"accuracy\", \"FPR\", \"FNR\", \"auc\"], \"y\": [0.9110783591255219, 0.08443804034582132, 0.11480865224625623, 0.9003766537039611], \"type\": \"scatter\", \"uid\": \"c69468f0-620c-4b73-80d9-36969ee4e155\"}, {\"mode\": \"lines\", \"name\": \"Ada Boost\", \"x\": [\"accuracy\", \"FPR\", \"FNR\", \"auc\"], \"y\": [0.9014984033407025, 0.08804034582132565, 0.1589018302828619, 0.8765289119479063], \"type\": \"scatter\", \"uid\": \"7c2528e2-7150-4b23-a9d2-88f9eb831132\"}, {\"mode\": \"lines+markers\", \"name\": \"GradientBoosting\", \"x\": [\"accuracy\", \"FPR\", \"FNR\", \"auc\"], \"y\": [0.9096045197740112, 0.08414985590778098, 0.1264559068219634, 0.8946971186351279], \"type\": \"scatter\", \"uid\": \"db9f7142-31c9-42d1-bc14-653055d9c831\"}, {\"marker\": {\"symbol\": \"x\"}, \"mode\": \"lines+markers\", \"name\": \"ExtraTree Classifier\", \"x\": [\"accuracy\", \"FPR\", \"FNR\", \"auc\"], \"y\": [0.9109555391795627, 0.08443804034582132, 0.11564059900166389, 0.8999606803262573], \"type\": \"scatter\", \"uid\": \"b23cb7ce-ea14-42c2-bc72-d1283eb70ede\"}, {\"marker\": {\"symbol\": \"x\"}, \"mode\": \"lines+markers\", \"name\": \"Bagging\", \"x\": [\"accuracy\", \"FPR\", \"FNR\", \"auc\"], \"y\": [0.9108327192336035, 0.08544668587896254, 0.11064891846921797, 0.9019521978259099], \"type\": \"scatter\", \"uid\": \"597b3731-cdc4-4668-9296-18a8acd12da5\"}, {\"marker\": {\"symbol\": \"x\"}, \"mode\": \"lines+markers\", \"name\": \"Neural Network\", \"x\": [\"accuracy\", \"FPR\", \"FNR\", \"auc\"], \"y\": [0.90506018177352, 0.09135446685878963, 0.11564059900166389, 0.8965024670697732], \"type\": \"scatter\", \"uid\": \"fac01a9f-8980-4e33-b2bb-b457d1763dc9\"}], {\"title\": \"Result comparision for Features selected in Section 1\", \"yaxis\": {\"dtick\": 0.05, \"tick0\": 0}}, {\"showLink\": true, \"linkText\": \"Export to plot.ly\", \"plotlyServerURL\": \"https://plot.ly\"})});</script><script type=\"text/javascript\">window.addEventListener(\"resize\", function(){window._Plotly.Plots.resize(document.getElementById(\"6ad6268a-888b-4f42-8d12-1acdf334e05f\"));});</script>"
      ]
     },
     "metadata": {},
     "output_type": "display_data"
    }
   ],
   "source": [
    "trace0 = go.Scatter(x=table_80_70_test.iloc[0].index.values[[0,5,6,7]],\n",
    "                    y=table_80_70_test.iloc[0].values[[0,5,6,7]],\n",
    "                    mode = 'lines',\n",
    "                    name = 'KNN_model')\n",
    "\n",
    "trace1 = go.Scatter(x=table_80_70_test.iloc[1].index.values[[0,5,6,7]],\n",
    "                    y=table_80_70_test.iloc[1].values[[0,5,6,7]],\n",
    "                    mode = 'lines+markers',\n",
    "                    name = 'Logistic Regression')\n",
    "\n",
    "trace2 = go.Scatter(x=table_80_70_test.iloc[2].index.values[[0,5,6,7]],\n",
    "                    y=table_80_70_test.iloc[2].values[[0,5,6,7]],\n",
    "                    mode = 'lines+markers',marker=dict(symbol='x'),\n",
    "                    name = 'Random Forest')\n",
    "\n",
    "\n",
    "trace3 = go.Scatter(x=table_80_70_test.iloc[3].index.values[[0,5,6,7]],\n",
    "                    y=table_80_70_test.iloc[3].values[[0,5,6,7]],\n",
    "                    mode = 'lines',\n",
    "                    name = 'Ada Boost')\n",
    "\n",
    "trace4 = go.Scatter(x=table_80_70_test.iloc[4].index.values[[0,5,6,7]],\n",
    "                    y=table_80_70_test.iloc[4].values[[0,5,6,7]],\n",
    "                    mode = 'lines+markers',\n",
    "                    name = 'GradientBoosting')\n",
    "\n",
    "trace5 = go.Scatter(x=table_80_70_test.iloc[5].index.values[[0,5,6,7]],\n",
    "                    y=table_80_70_test.iloc[5].values[[0,5,6,7]],\n",
    "                    mode = 'lines+markers',marker=dict(symbol='x'),\n",
    "                    name = 'ExtraTree Classifier')\n",
    "\n",
    "trace6 = go.Scatter(x=table_80_70_test.iloc[6].index.values[[0,5,6,7]],\n",
    "                    y=table_80_70_test.iloc[6].values[[0,5,6,7]],\n",
    "                    mode = 'lines+markers',marker=dict(symbol='x'),\n",
    "                    name = 'Bagging')\n",
    "\n",
    "trace7 = go.Scatter(x=table_80_70_test.iloc[7].index.values[[0,5,6,7]],\n",
    "                    y=table_80_70_test.iloc[7].values[[0,5,6,7]],\n",
    "                    mode = 'lines+markers',marker=dict(symbol='x'),\n",
    "                    name = 'Neural Network')\n",
    "\n",
    "\n",
    "\n",
    "data = [trace0, trace1, trace2, trace3, trace4, trace5, trace6, trace7]\n",
    "layout = go.Layout(yaxis=dict(tick0=0,dtick=0.05),title='Result comparision for Features selected in Section 1')\n",
    "fig = go.Figure(data=data, layout=layout)\n",
    "\n",
    "iplot(fig, filename='Result')"
   ]
  },
  {
   "cell_type": "code",
   "execution_count": 53,
   "metadata": {},
   "outputs": [
    {
     "name": "stdout",
     "output_type": "stream",
     "text": [
      "Training Results\n"
     ]
    },
    {
     "data": {
      "text/html": [
       "<div>\n",
       "<style scoped>\n",
       "    .dataframe tbody tr th:only-of-type {\n",
       "        vertical-align: middle;\n",
       "    }\n",
       "\n",
       "    .dataframe tbody tr th {\n",
       "        vertical-align: top;\n",
       "    }\n",
       "\n",
       "    .dataframe thead th {\n",
       "        text-align: right;\n",
       "    }\n",
       "</style>\n",
       "<table border=\"1\" class=\"dataframe\">\n",
       "  <thead>\n",
       "    <tr style=\"text-align: right;\">\n",
       "      <th></th>\n",
       "      <th>accuracy</th>\n",
       "      <th>TP</th>\n",
       "      <th>TN</th>\n",
       "      <th>FP</th>\n",
       "      <th>FN</th>\n",
       "      <th>FPR</th>\n",
       "      <th>FNR</th>\n",
       "    </tr>\n",
       "    <tr>\n",
       "      <th>index</th>\n",
       "      <th></th>\n",
       "      <th></th>\n",
       "      <th></th>\n",
       "      <th></th>\n",
       "      <th></th>\n",
       "      <th></th>\n",
       "      <th></th>\n",
       "    </tr>\n",
       "  </thead>\n",
       "  <tbody>\n",
       "    <tr>\n",
       "      <th>KNeighborsClassifier</th>\n",
       "      <td>0.870513</td>\n",
       "      <td>701.0</td>\n",
       "      <td>27649.0</td>\n",
       "      <td>189.0</td>\n",
       "      <td>4028.0</td>\n",
       "      <td>0.006789</td>\n",
       "      <td>0.851766</td>\n",
       "    </tr>\n",
       "    <tr>\n",
       "      <th>LogisticRegression</th>\n",
       "      <td>0.899745</td>\n",
       "      <td>3950.0</td>\n",
       "      <td>25352.0</td>\n",
       "      <td>2486.0</td>\n",
       "      <td>779.0</td>\n",
       "      <td>0.089302</td>\n",
       "      <td>0.164728</td>\n",
       "    </tr>\n",
       "    <tr>\n",
       "      <th>RandomForestClassifier</th>\n",
       "      <td>0.924463</td>\n",
       "      <td>4547.0</td>\n",
       "      <td>25560.0</td>\n",
       "      <td>2278.0</td>\n",
       "      <td>182.0</td>\n",
       "      <td>0.081831</td>\n",
       "      <td>0.038486</td>\n",
       "    </tr>\n",
       "    <tr>\n",
       "      <th>AdaBoostClassifier</th>\n",
       "      <td>0.904904</td>\n",
       "      <td>4002.0</td>\n",
       "      <td>25468.0</td>\n",
       "      <td>2370.0</td>\n",
       "      <td>727.0</td>\n",
       "      <td>0.085135</td>\n",
       "      <td>0.153732</td>\n",
       "    </tr>\n",
       "    <tr>\n",
       "      <th>GradientBoostingClassifier</th>\n",
       "      <td>0.913716</td>\n",
       "      <td>4192.0</td>\n",
       "      <td>25565.0</td>\n",
       "      <td>2273.0</td>\n",
       "      <td>537.0</td>\n",
       "      <td>0.081651</td>\n",
       "      <td>0.113555</td>\n",
       "    </tr>\n",
       "    <tr>\n",
       "      <th>ExtraTreeClassifier</th>\n",
       "      <td>0.926766</td>\n",
       "      <td>4611.0</td>\n",
       "      <td>25571.0</td>\n",
       "      <td>2267.0</td>\n",
       "      <td>118.0</td>\n",
       "      <td>0.081435</td>\n",
       "      <td>0.024952</td>\n",
       "    </tr>\n",
       "    <tr>\n",
       "      <th>BaggingClassifier</th>\n",
       "      <td>0.924494</td>\n",
       "      <td>4547.0</td>\n",
       "      <td>25561.0</td>\n",
       "      <td>2277.0</td>\n",
       "      <td>182.0</td>\n",
       "      <td>0.081795</td>\n",
       "      <td>0.038486</td>\n",
       "    </tr>\n",
       "    <tr>\n",
       "      <th>Neural Network-1</th>\n",
       "      <td>0.921884</td>\n",
       "      <td>4519.0</td>\n",
       "      <td>25504.0</td>\n",
       "      <td>2334.0</td>\n",
       "      <td>210.0</td>\n",
       "      <td>0.083842</td>\n",
       "      <td>0.044407</td>\n",
       "    </tr>\n",
       "  </tbody>\n",
       "</table>\n",
       "</div>"
      ],
      "text/plain": [
       "                            accuracy      TP       TN      FP      FN  \\\n",
       "index                                                                   \n",
       "KNeighborsClassifier        0.870513   701.0  27649.0   189.0  4028.0   \n",
       "LogisticRegression          0.899745  3950.0  25352.0  2486.0   779.0   \n",
       "RandomForestClassifier      0.924463  4547.0  25560.0  2278.0   182.0   \n",
       "AdaBoostClassifier          0.904904  4002.0  25468.0  2370.0   727.0   \n",
       "GradientBoostingClassifier  0.913716  4192.0  25565.0  2273.0   537.0   \n",
       "ExtraTreeClassifier         0.926766  4611.0  25571.0  2267.0   118.0   \n",
       "BaggingClassifier           0.924494  4547.0  25561.0  2277.0   182.0   \n",
       "Neural Network-1            0.921884  4519.0  25504.0  2334.0   210.0   \n",
       "\n",
       "                                 FPR       FNR  \n",
       "index                                           \n",
       "KNeighborsClassifier        0.006789  0.851766  \n",
       "LogisticRegression          0.089302  0.164728  \n",
       "RandomForestClassifier      0.081831  0.038486  \n",
       "AdaBoostClassifier          0.085135  0.153732  \n",
       "GradientBoostingClassifier  0.081651  0.113555  \n",
       "ExtraTreeClassifier         0.081435  0.024952  \n",
       "BaggingClassifier           0.081795  0.038486  \n",
       "Neural Network-1            0.083842  0.044407  "
      ]
     },
     "metadata": {},
     "output_type": "display_data"
    },
    {
     "name": "stdout",
     "output_type": "stream",
     "text": [
      "Test Results\n"
     ]
    },
    {
     "data": {
      "text/html": [
       "<div>\n",
       "<style scoped>\n",
       "    .dataframe tbody tr th:only-of-type {\n",
       "        vertical-align: middle;\n",
       "    }\n",
       "\n",
       "    .dataframe tbody tr th {\n",
       "        vertical-align: top;\n",
       "    }\n",
       "\n",
       "    .dataframe thead th {\n",
       "        text-align: right;\n",
       "    }\n",
       "</style>\n",
       "<table border=\"1\" class=\"dataframe\">\n",
       "  <thead>\n",
       "    <tr style=\"text-align: right;\">\n",
       "      <th></th>\n",
       "      <th>accuracy</th>\n",
       "      <th>TP</th>\n",
       "      <th>TN</th>\n",
       "      <th>FP</th>\n",
       "      <th>FN</th>\n",
       "      <th>FPR</th>\n",
       "      <th>FNR</th>\n",
       "      <th>auc</th>\n",
       "      <th>mcc</th>\n",
       "    </tr>\n",
       "    <tr>\n",
       "      <th>index</th>\n",
       "      <th></th>\n",
       "      <th></th>\n",
       "      <th></th>\n",
       "      <th></th>\n",
       "      <th></th>\n",
       "      <th></th>\n",
       "      <th></th>\n",
       "      <th></th>\n",
       "      <th></th>\n",
       "    </tr>\n",
       "  </thead>\n",
       "  <tbody>\n",
       "    <tr>\n",
       "      <th>KNeighborsClassifier</th>\n",
       "      <td>0.862196</td>\n",
       "      <td>149.0</td>\n",
       "      <td>6871.0</td>\n",
       "      <td>69.0</td>\n",
       "      <td>1053.0</td>\n",
       "      <td>0.009942</td>\n",
       "      <td>0.876040</td>\n",
       "      <td>0.557009</td>\n",
       "      <td>0.250555</td>\n",
       "    </tr>\n",
       "    <tr>\n",
       "      <th>LogisticRegression</th>\n",
       "      <td>0.898674</td>\n",
       "      <td>1008.0</td>\n",
       "      <td>6309.0</td>\n",
       "      <td>631.0</td>\n",
       "      <td>194.0</td>\n",
       "      <td>0.090922</td>\n",
       "      <td>0.161398</td>\n",
       "      <td>0.873840</td>\n",
       "      <td>0.661457</td>\n",
       "    </tr>\n",
       "    <tr>\n",
       "      <th>RandomForestClassifier</th>\n",
       "      <td>0.911078</td>\n",
       "      <td>1064.0</td>\n",
       "      <td>6354.0</td>\n",
       "      <td>586.0</td>\n",
       "      <td>138.0</td>\n",
       "      <td>0.084438</td>\n",
       "      <td>0.114809</td>\n",
       "      <td>0.900377</td>\n",
       "      <td>0.706642</td>\n",
       "    </tr>\n",
       "    <tr>\n",
       "      <th>AdaBoostClassifier</th>\n",
       "      <td>0.901498</td>\n",
       "      <td>1011.0</td>\n",
       "      <td>6329.0</td>\n",
       "      <td>611.0</td>\n",
       "      <td>191.0</td>\n",
       "      <td>0.088040</td>\n",
       "      <td>0.158902</td>\n",
       "      <td>0.876529</td>\n",
       "      <td>0.668823</td>\n",
       "    </tr>\n",
       "    <tr>\n",
       "      <th>GradientBoostingClassifier</th>\n",
       "      <td>0.909605</td>\n",
       "      <td>1050.0</td>\n",
       "      <td>6356.0</td>\n",
       "      <td>584.0</td>\n",
       "      <td>152.0</td>\n",
       "      <td>0.084150</td>\n",
       "      <td>0.126456</td>\n",
       "      <td>0.894697</td>\n",
       "      <td>0.699159</td>\n",
       "    </tr>\n",
       "    <tr>\n",
       "      <th>ExtraTreeClassifier</th>\n",
       "      <td>0.910956</td>\n",
       "      <td>1063.0</td>\n",
       "      <td>6354.0</td>\n",
       "      <td>586.0</td>\n",
       "      <td>139.0</td>\n",
       "      <td>0.084438</td>\n",
       "      <td>0.115641</td>\n",
       "      <td>0.899961</td>\n",
       "      <td>0.706068</td>\n",
       "    </tr>\n",
       "    <tr>\n",
       "      <th>BaggingClassifier</th>\n",
       "      <td>0.910833</td>\n",
       "      <td>1069.0</td>\n",
       "      <td>6347.0</td>\n",
       "      <td>593.0</td>\n",
       "      <td>133.0</td>\n",
       "      <td>0.085447</td>\n",
       "      <td>0.110649</td>\n",
       "      <td>0.901952</td>\n",
       "      <td>0.707511</td>\n",
       "    </tr>\n",
       "    <tr>\n",
       "      <th>Neural Network-1</th>\n",
       "      <td>0.905060</td>\n",
       "      <td>1063.0</td>\n",
       "      <td>6306.0</td>\n",
       "      <td>634.0</td>\n",
       "      <td>139.0</td>\n",
       "      <td>0.091354</td>\n",
       "      <td>0.115641</td>\n",
       "      <td>0.896502</td>\n",
       "      <td>0.692557</td>\n",
       "    </tr>\n",
       "  </tbody>\n",
       "</table>\n",
       "</div>"
      ],
      "text/plain": [
       "                            accuracy      TP      TN     FP      FN       FPR  \\\n",
       "index                                                                           \n",
       "KNeighborsClassifier        0.862196   149.0  6871.0   69.0  1053.0  0.009942   \n",
       "LogisticRegression          0.898674  1008.0  6309.0  631.0   194.0  0.090922   \n",
       "RandomForestClassifier      0.911078  1064.0  6354.0  586.0   138.0  0.084438   \n",
       "AdaBoostClassifier          0.901498  1011.0  6329.0  611.0   191.0  0.088040   \n",
       "GradientBoostingClassifier  0.909605  1050.0  6356.0  584.0   152.0  0.084150   \n",
       "ExtraTreeClassifier         0.910956  1063.0  6354.0  586.0   139.0  0.084438   \n",
       "BaggingClassifier           0.910833  1069.0  6347.0  593.0   133.0  0.085447   \n",
       "Neural Network-1            0.905060  1063.0  6306.0  634.0   139.0  0.091354   \n",
       "\n",
       "                                 FNR       auc       mcc  \n",
       "index                                                     \n",
       "KNeighborsClassifier        0.876040  0.557009  0.250555  \n",
       "LogisticRegression          0.161398  0.873840  0.661457  \n",
       "RandomForestClassifier      0.114809  0.900377  0.706642  \n",
       "AdaBoostClassifier          0.158902  0.876529  0.668823  \n",
       "GradientBoostingClassifier  0.126456  0.894697  0.699159  \n",
       "ExtraTreeClassifier         0.115641  0.899961  0.706068  \n",
       "BaggingClassifier           0.110649  0.901952  0.707511  \n",
       "Neural Network-1            0.115641  0.896502  0.692557  "
      ]
     },
     "metadata": {},
     "output_type": "display_data"
    }
   ],
   "source": [
    "table_80_70_train['index']=ind_columns\n",
    "table_80_70_test['index']=ind_columns\n",
    "\n",
    "\n",
    "table_80_70_test.set_index(['index'],drop=True,inplace=True)\n",
    "table_80_70_train.set_index(['index'],drop=True,inplace=True)\n",
    "\n",
    "print(\"Training Results\")\n",
    "display(table_80_70_train)\n",
    "print(\"Test Results\")\n",
    "display(table_80_70_test)"
   ]
  },
  {
   "cell_type": "code",
   "execution_count": 54,
   "metadata": {},
   "outputs": [
    {
     "data": {
      "text/html": [
       "<script>\n",
       "code_show=true; \n",
       "function code_toggle() {\n",
       " if (code_show){\n",
       " $('div.input').hide();\n",
       " } else {\n",
       " $('div.input').show();\n",
       " }\n",
       " code_show = !code_show\n",
       "} \n",
       "$( document ).ready(code_toggle);\n",
       "</script>\n",
       "To toggle code, click <a href=\"javascript:code_toggle()\">here</a>."
      ],
      "text/plain": [
       "<IPython.core.display.HTML object>"
      ]
     },
     "execution_count": 54,
     "metadata": {},
     "output_type": "execute_result"
    }
   ],
   "source": [
    "### Original Creator : Darshan Bhansali\n",
    "### HTML code to hide the input cells \n",
    "HTML('''<script>\n",
    "code_show=true; \n",
    "function code_toggle() {\n",
    " if (code_show){\n",
    " $('div.input').hide();\n",
    " } else {\n",
    " $('div.input').show();\n",
    " }\n",
    " code_show = !code_show\n",
    "} \n",
    "$( document ).ready(code_toggle);\n",
    "</script>\n",
    "To toggle code, click <a href=\"javascript:code_toggle()\">here</a>.''')"
   ]
  }
 ],
 "metadata": {
  "kernelspec": {
   "display_name": "Python 3",
   "language": "python",
   "name": "python3"
  },
  "language_info": {
   "codemirror_mode": {
    "name": "ipython",
    "version": 3
   },
   "file_extension": ".py",
   "mimetype": "text/x-python",
   "name": "python",
   "nbconvert_exporter": "python",
   "pygments_lexer": "ipython3",
   "version": "3.6.8"
  }
 },
 "nbformat": 4,
 "nbformat_minor": 2
}
