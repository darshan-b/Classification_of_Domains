{
 "cells": [
  {
   "cell_type": "code",
   "execution_count": 1,
   "metadata": {},
   "outputs": [
    {
     "name": "stderr",
     "output_type": "stream",
     "text": [
      "Using TensorFlow backend.\n",
      "/nethomes/darshan/anaconda3/lib/python3.6/site-packages/sklearn/externals/six.py:31: DeprecationWarning: The module is deprecated in version 0.21 and will be removed in version 0.23 since we've dropped support for Python 2.7. Please rely on the official version of six (https://pypi.org/project/six/).\n",
      "  \"(https://pypi.org/project/six/).\", DeprecationWarning)\n",
      "/nethomes/darshan/anaconda3/lib/python3.6/site-packages/sklearn/externals/joblib/__init__.py:15: DeprecationWarning: sklearn.externals.joblib is deprecated in 0.21 and will be removed in 0.23. Please import this functionality directly from joblib, which can be installed with: pip install joblib. If this warning is raised when loading pickled models, you may need to re-serialize those models with scikit-learn 0.21+.\n",
      "  warnings.warn(msg, category=DeprecationWarning)\n"
     ]
    },
    {
     "data": {
      "text/html": [
       "<script type=\"text/javascript\">window.PlotlyConfig = {MathJaxConfig: 'local'};</script><script type=\"text/javascript\">if (window.MathJax) {MathJax.Hub.Config({SVG: {font: \"STIX-Web\"}});}</script><script>requirejs.config({paths: { 'plotly': ['https://cdn.plot.ly/plotly-latest.min']},});if(!window._Plotly) {require(['plotly'],function(plotly) {window._Plotly=plotly;});}</script>"
      ],
      "text/vnd.plotly.v1+html": [
       "<script type=\"text/javascript\">window.PlotlyConfig = {MathJaxConfig: 'local'};</script><script type=\"text/javascript\">if (window.MathJax) {MathJax.Hub.Config({SVG: {font: \"STIX-Web\"}});}</script><script>requirejs.config({paths: { 'plotly': ['https://cdn.plot.ly/plotly-latest.min']},});if(!window._Plotly) {require(['plotly'],function(plotly) {window._Plotly=plotly;});}</script>"
      ]
     },
     "metadata": {},
     "output_type": "display_data"
    }
   ],
   "source": [
    "import pandas as pd\n",
    "import numpy as np\n",
    "import copy\n",
    "import matplotlib.pyplot as plt\n",
    "import seaborn as sns\n",
    "%matplotlib inline\n",
    "\n",
    "from IPython.display import display,clear_output,HTML\n",
    "import warnings\n",
    "warnings.filterwarnings(\"ignore\")\n",
    "\n",
    "import keras\n",
    "from keras.layers import Dense,Dropout\n",
    "from keras.models import Sequential\n",
    "\n",
    "import researchpy as rp\n",
    "\n",
    "%matplotlib inline\n",
    "pd.set_option('display.max_columns', 500)\n",
    "pd.set_option('display.max_rows',305)\n",
    "\n",
    "from sklearn.feature_selection import SelectKBest,chi2,RFE,RFECV,f_regression,SelectFromModel,f_classif\n",
    "from sklearn.linear_model import LogisticRegression\n",
    "from sklearn.ensemble import ExtraTreesClassifier,RandomForestClassifier,GradientBoostingClassifier,AdaBoostClassifier,BaggingClassifier\n",
    "from sklearn.neighbors import KNeighborsClassifier\n",
    "from sklearn.model_selection import train_test_split,cross_val_score\n",
    "\n",
    "from sklearn.preprocessing import StandardScaler,MinMaxScaler\n",
    "from sklearn import metrics\n",
    "\n",
    "from xgboost import XGBClassifier\n",
    "\n",
    "\n",
    "from sklearn.decomposition import PCA\n",
    "from sklearn.metrics import accuracy_score,auc,roc_curve,recall_score,precision_score,matthews_corrcoef\n",
    "\n",
    "from pandas_ml import ConfusionMatrix\n",
    "\n",
    "\n",
    "from imblearn.over_sampling import SMOTE\n",
    "\n",
    "from plotly.offline import download_plotlyjs, init_notebook_mode, plot, iplot\n",
    "init_notebook_mode(connected=True)\n",
    "import plotly.graph_objs as go\n",
    "\n",
    "import featuretools as ft\n",
    "\n",
    "from scipy import stats\n",
    "import re\n",
    "\n",
    "from statsmodels.stats.outliers_influence import variance_inflation_factor\n",
    "from statsmodels.tools.tools import add_constant"
   ]
  },
  {
   "cell_type": "code",
   "execution_count": 2,
   "metadata": {},
   "outputs": [],
   "source": [
    "### Function to plot Feature Importance\n",
    "def feat_impt_plot(feat_impt,y_labels,width_s=1000,height_s=1000):\n",
    "    \n",
    "    m=pd.DataFrame(y_labels,feat_impt).reset_index()\n",
    "    m.columns=['Feature_Importance','Features']\n",
    "    m.sort_values(by='Feature_Importance',inplace=True,ascending=False)\n",
    "    m['Features']=m['Features'].str.replace(\"dom_function_\",\"\")\n",
    "    m['Features']=m['Features'].str.replace(\"js_function_\",\"\")\n",
    "    m['Features']=m['Features'].apply(lambda x: str(x).lstrip('.'))\n",
    "    m['Features']=m['Features'].str.replace(\"(\",\"\")\n",
    "    \n",
    "    data = [go.Bar(x=m.Feature_Importance.values,y=m.Features.values,text=np.round(m.Feature_Importance,4),\n",
    "            textposition = 'outside',\n",
    "            marker=dict(\n",
    "                color='rgb(158,202,225)',\n",
    "                line=dict(\n",
    "                    color='rgb(8,48,107)',\n",
    "                    width=1.5),\n",
    "            ),\n",
    "            opacity=0.6,\n",
    "            orientation='h'\n",
    "        )]\n",
    "    layout = go.Layout(autosize=False,\n",
    "    width=width_s,\n",
    "    height=height_s,\n",
    "    xaxis=dict(title='Feature Importances',\n",
    "        tickfont=dict(\n",
    "            size=12,\n",
    "            color='black'\n",
    "        )),\n",
    "    yaxis=dict(automargin=True))\n",
    "    fig = go.Figure(data=data, layout=layout)\n",
    "    iplot(fig)"
   ]
  },
  {
   "cell_type": "code",
   "execution_count": 3,
   "metadata": {},
   "outputs": [],
   "source": [
    "def model_build(model,X_train,Y_train,X_test,Y_test,tree=False,feat=None):\n",
    "    \n",
    "    y_pred_train=model.predict(X_train)\n",
    "    acc_train=accuracy_score(Y_train,y_pred_train)\n",
    "    \n",
    "    print(\"Accuracy of the model for training data is:\",acc_train)\n",
    "    print(\"Confusion Matrix for training data is:\")\n",
    "    cm_train=ConfusionMatrix(Y_train,y_pred_train)\n",
    "    display(cm_train)\n",
    "    \n",
    "    \n",
    "    y_pred_test=model.predict(X_test)\n",
    "    acc_test=accuracy_score(Y_test,y_pred_test)\n",
    "    print(\"Accuracy of the model for test data is:\",acc_test)\n",
    "    print(\"Confusion Matrix for test data is:\")\n",
    "    cm_test=ConfusionMatrix(Y_test,y_pred_test)\n",
    "    display(cm_test)\n",
    "\n",
    "    fpr, tpr, threshold = roc_curve(Y_test, y_pred_test)\n",
    "    roc_auc =auc(fpr, tpr)\n",
    "    mcc=matthews_corrcoef(Y_test,y_pred_test)\n",
    "    \n",
    "    precision=precision_score(Y_test,y_pred_test)\n",
    "    recall=recall_score(Y_test,y_pred_test)\n",
    "    if tree==True:\n",
    "        feat_impt_plot(model.feature_importances_,feat)\n",
    "        return model,cm_train,cm_test,acc_train,acc_test,roc_auc,model.feature_importances_,mcc,precision,recall\n",
    "    \n",
    "    return model,cm_train,cm_test,acc_train,acc_test,roc_auc,mcc,precision,recall\n",
    "\n",
    "def KNN_model(X_train,Y_train,X_test,Y_test):\n",
    "    print('\\033[1m' + 'K-Nearest Neighbors' + '\\033[0m')\n",
    "    knn=KNeighborsClassifier()\n",
    "    knn.fit(X_train,Y_train)\n",
    "\n",
    "    return model_build(knn,X_train,Y_train,X_test,Y_test)\n",
    "\n",
    "# def Logistic_model(X_train,Y_train,X_test,Y_test):\n",
    "#     print('\\033[1m' + 'Logistic Regression' + '\\033[0m')\n",
    "#     log=LogisticRegression()\n",
    "#     log.fit(X_train,Y_train)\n",
    "    \n",
    "#     return model_build(log,X_train,Y_train,X_test,Y_test)\n",
    "\n",
    "def RandomForest(X_train,Y_train,X_test,Y_test,feat):\n",
    "    print('\\033[1m' + 'RandomForest Classifier' + '\\033[0m')\n",
    "    rf=RandomForestClassifier(random_state=0)\n",
    "    rf.fit(X_train,Y_train)\n",
    "\n",
    "    \n",
    "    return model_build(rf,X_train,Y_train,X_test,Y_test,True,feat)\n",
    "\n",
    "def AdaBoost(X_train,Y_train,X_test,Y_test,feat):\n",
    "    print('\\033[1m' + 'Adaoost Classifier' + '\\033[0m')\n",
    "    ada=AdaBoostClassifier(random_state=0)\n",
    "    ada.fit(X_train,Y_train)\n",
    "    \n",
    "    return model_build(ada,X_train,Y_train,X_test,Y_test,True,feat)\n",
    "\n",
    "def GradientBoosting(X_train,Y_train,X_test,Y_test,feat):\n",
    "    print('\\033[1m' + 'GradientBoosting Classifier' + '\\033[0m')\n",
    "    gbc=GradientBoostingClassifier(random_state=0)\n",
    "    gbc.fit(X_train,Y_train)\n",
    "    \n",
    "    return model_build(gbc,X_train,Y_train,X_test,Y_test,True,feat)\n",
    "\n",
    "def ExtraTree(X_train,Y_train,X_test,Y_test,feat):\n",
    "    print('\\033[1m' + 'ExtraTree Classifier' + '\\033[0m')\n",
    "    ext_tree=ExtraTreesClassifier(random_state=0)\n",
    "    ext_tree.fit(X_train,Y_train)\n",
    "    \n",
    "    return model_build(ext_tree,X_train,Y_train,X_test,Y_test,True,feat)\n",
    "\n",
    "def XGB(X_train,Y_train,X_test,Y_test,feat):\n",
    "    print('\\033[1m' + 'XGB Classifier' + '\\033[0m')\n",
    "    xgb=XGBClassifier(random_state=0)\n",
    "    xgb.fit(X_train,Y_train)\n",
    "    \n",
    "    return model_build(xgb,X_train,Y_train,X_test,Y_test,True,feat)\n",
    "\n",
    "def Bagging(X_train,Y_train,X_test,Y_test):\n",
    "    print('\\033[1m' + 'Bagging Classifier' + '\\033[0m')\n",
    "    bagging=BaggingClassifier(random_state=0)\n",
    "    bagging.fit(X_train,Y_train)\n",
    "    \n",
    "    return model_build(bagging,X_train,Y_train,X_test,Y_test)\n",
    "\n",
    "def XGB(X_train,Y_train,X_test,Y_test,feat):\n",
    "    print('\\033[1m' + 'XGB Classifier' + '\\033[0m')\n",
    "    xgb=XGBClassifier(random_state=0)\n",
    "    xgb.fit(X_train,Y_train)\n",
    "    \n",
    "    return model_build(xgb,X_train,Y_train,X_test,Y_test,True,feat)\n",
    "\n",
    "def DeepLearning1(X_train,Y_train,X_test,Y_test):\n",
    "    print('\\033[1m' + 'Neural Network-1' + '\\033[0m')\n",
    "    np.random.seed(0)\n",
    "    deep_learning=Sequential()\n",
    "    deep_learning.add(Dense(units=64,activation='relu',use_bias=True,kernel_initializer='uniform',input_dim=X_train.shape[1]))\n",
    "    deep_learning.add(Dense(units=128,activation='relu',use_bias=True,kernel_initializer='uniform'))\n",
    "    deep_learning.add(Dense(units=1,activation='sigmoid',use_bias=True,kernel_initializer='uniform'))\n",
    "    deep_learning.compile(optimizer='adam',loss='binary_crossentropy',metrics=['accuracy'])\n",
    "    deep_learning.fit(X_train,Y_train,batch_size=20,epochs=80,verbose=False)\n",
    "    acc_train=deep_learning.evaluate(X_train,Y_train,verbose=False)[1]\n",
    "    print(\"The accuracy of the model on training data is:\",acc_train)\n",
    "    cm_train=ConfusionMatrix(Y_train,deep_learning.predict_classes(X_train,batch_size=1,verbose=False).reshape(1,len(X_train))[0])\n",
    "    cm_test=ConfusionMatrix(Y_test,deep_learning.predict_classes(X_test,batch_size=1,verbose=False).reshape(1,len(X_test))[0])\n",
    "    display(cm_train)\n",
    "    acc_test=accuracy_score(Y_test,deep_learning.predict_classes(X_test,batch_size=1,verbose=False))\n",
    "    print(\"The accuracy of the model on test data is:\",acc_test)\n",
    "    display(cm_test)\n",
    "    mcc=matthews_corrcoef(Y_test,deep_learning.predict_classes(X_test,batch_size=1,verbose=False))\n",
    "    precision=precision_score(Y_test,deep_learning.predict_classes(X_test,batch_size=1,verbose=False))\n",
    "    recall=recall_score(Y_test,deep_learning.predict_classes(X_test,batch_size=1,verbose=False))\n",
    "    return  deep_learning,cm_train,cm_test,acc_train,acc_test,roc_auc,mcc,precision,recall"
   ]
  },
  {
   "cell_type": "code",
   "execution_count": 4,
   "metadata": {},
   "outputs": [
    {
     "name": "stdout",
     "output_type": "stream",
     "text": [
      "Shape of HTML dataset: (43491, 1461)\n",
      "Shape of JS,DOM dataset: (43294, 401)\n",
      "Shape of HTTP dataset: (45856, 672)\n",
      "Shape of URL dataset: (46771, 4194)\n"
     ]
    }
   ],
   "source": [
    "### Read HTML \n",
    "df_html=pd.read_csv('../html/HTML.csv',index_col='domain')\n",
    "df_html.drop(['Unnamed: 0'],axis=1,inplace=True)\n",
    "cookie=[col for col in df_html.columns if 'number' in col]\n",
    "df_html.drop(cookie,axis=1,inplace=True)\n",
    "print(\"Shape of HTML dataset:\",df_html.shape)\n",
    "df_html.Target=df_html.Target.apply(lambda x: 1 if x=='Malicious' else 0)\n",
    "count_columns=[col for col in df_html.columns if col.endswith('count')]\n",
    "df_html['total_count']=df_html[count_columns].sum(axis=1)\n",
    "\n",
    "href_columns=[col for col in df_html.columns if (('href_absolute' in col) | ('href_relative' in col) | ('href_page' in col))  ]\n",
    "df_html['total_href']=df_html[href_columns].sum(axis=1)\n",
    "\n",
    "total_img_src=[col for col in df_html.columns if 'img_src_' in col]\n",
    "df_html['total_img_src']=df_html[total_img_src].sum(axis=1)\n",
    "\n",
    "\n",
    "### Read JS \n",
    "df_js=pd.read_csv('Javascript.csv',low_memory=False,index_col='domain')\n",
    "cookie=[col for col in df_js.columns if 'number' in col]\n",
    "df_js.drop(cookie,axis=1,inplace=True)\n",
    "df_js.rename(columns={'Malicious':'Target'},inplace=True)\n",
    "print(\"Shape of JS,DOM dataset:\",df_js.shape)\n",
    "df_js.Target=df_js.Target.apply(lambda x: 1 if x=='Malicious' else 0)\n",
    "\n",
    "\n",
    "### Read HTTP\n",
    "df_http=pd.read_csv('HTTP.csv')\n",
    "df_http.rename(columns={'Malicious':'Target'},inplace=True)\n",
    "df_http.fillna(value=0,inplace=True)\n",
    "cookies=[columns for columns in df_http.columns if 'number' in columns]\n",
    "df_http.drop(cookies,axis=1,inplace=True)\n",
    "df_http=df_http[df_http['domain']!=0]\n",
    "df_http.sort_values(by='Target',inplace=True,ascending=False)\n",
    "df_http.drop_duplicates(['domain'], keep='first',inplace=True)\n",
    "df_http=df_http.sample(frac=1,random_state=0)\n",
    "df_http.set_index(['domain'],drop=True,inplace=True)\n",
    "print(\"Shape of HTTP dataset:\",df_http.shape)\n",
    "\n",
    "\n",
    "\n",
    "### Read URL\n",
    "df_url=pd.read_csv('URL.csv')\n",
    "df_url.fillna(value=0,inplace=True)\n",
    "cookies=[columns for columns in df_url.columns if 'number' in columns]\n",
    "df_url.drop(cookies,axis=1,inplace=True)\n",
    "df_url.drop(['url_host','url_ip'],axis=1,inplace=True)\n",
    "df_url=df_url[df_url['domain']!=0]\n",
    "df_url.sort_values(by='Target',inplace=True,ascending=False)\n",
    "df_url.drop_duplicates(['domain'], keep='first',inplace=True)\n",
    "df_url=df_url.sample(frac=1,random_state=0)\n",
    "print(\"Shape of URL dataset:\",df_url.shape)\n",
    "df_url.set_index('domain',inplace=True,drop=True)"
   ]
  },
  {
   "cell_type": "code",
   "execution_count": 5,
   "metadata": {},
   "outputs": [
    {
     "name": "stdout",
     "output_type": "stream",
     "text": [
      "Shape of combined dataset: (39183, 6726)\n"
     ]
    },
    {
     "data": {
      "text/plain": [
       "0    34742\n",
       "1     4441\n",
       "Name: Target, dtype: int64"
      ]
     },
     "execution_count": 5,
     "metadata": {},
     "output_type": "execute_result"
    }
   ],
   "source": [
    "df=pd.concat([df_js,df_html,df_http,df_url],axis=1,join='inner')\n",
    "df.drop(['Unnamed: 0'],axis=1,inplace=True)\n",
    "df['Target_z']=df[['Target','Target','Target','Target']].apply(max,axis=1)\n",
    "df.drop(['Target','Target','Target','Target'],axis=1,inplace=True)\n",
    "print(\"Shape of combined dataset:\",df.shape)\n",
    "df.rename(columns={'Target_z':'Target'},inplace=True)\n",
    "df.Target.value_counts()"
   ]
  },
  {
   "cell_type": "code",
   "execution_count": 6,
   "metadata": {},
   "outputs": [
    {
     "name": "stdout",
     "output_type": "stream",
     "text": [
      "features being used\n"
     ]
    },
    {
     "data": {
      "text/plain": [
       "['js_function_.push(',\n",
       " 'a_count',\n",
       " 'a_href_http',\n",
       " 'a_href_https',\n",
       " 'a_href_out_of_domain',\n",
       " 'a_href_relative',\n",
       " 'center_count',\n",
       " 'form_action_http',\n",
       " 'iframe_src_.html',\n",
       " 'img_src_http',\n",
       " 'link_href_out_of_domain',\n",
       " 'link_type_text/css',\n",
       " 'meta_count',\n",
       " 'p_count',\n",
       " 'script_async_true',\n",
       " 'total_count',\n",
       " 'total_href',\n",
       " 'http_header_cache-control_set_max-age',\n",
       " 'http_header_content-encoding_gzip',\n",
       " 'http_header_server_apache',\n",
       " 'http_header_transfer-encoding_chunked',\n",
       " 'http_header_vary_user-agent',\n",
       " 'http_header_via_1.1',\n",
       " 'url_char_.',\n",
       " 'url_char_f',\n",
       " 'url_char_i',\n",
       " 'url_char_l',\n",
       " 'url_char_p',\n",
       " 'url_char_w',\n",
       " 'url_char_y',\n",
       " 'url_char_z',\n",
       " 'url_extension_.com',\n",
       " 'url_extensions',\n",
       " 'url_length',\n",
       " 'Target']"
      ]
     },
     "metadata": {},
     "output_type": "display_data"
    }
   ],
   "source": [
    "columns=['js_function_.push(',\n",
    " 'a_count',\n",
    " 'a_href_http',\n",
    " 'a_href_https',\n",
    " 'a_href_out_of_domain',\n",
    " 'a_href_relative',\n",
    " 'center_count',\n",
    " 'form_action_http',\n",
    " 'iframe_src_.html',\n",
    " 'img_src_http',\n",
    " 'link_href_out_of_domain',\n",
    " 'link_type_text/css',\n",
    " 'meta_count',\n",
    " 'p_count',\n",
    " 'script_async_true',\n",
    " 'total_count',\n",
    " 'total_href',\n",
    " 'http_header_cache-control_set_max-age',\n",
    " 'http_header_content-encoding_gzip',\n",
    " 'http_header_server_apache',\n",
    " 'http_header_transfer-encoding_chunked',\n",
    " 'http_header_vary_user-agent',\n",
    " 'http_header_via_1.1',\n",
    " 'url_char_.',\n",
    " 'url_char_f',\n",
    " 'url_char_i',\n",
    " 'url_char_l',\n",
    " 'url_char_p',\n",
    " 'url_char_w',\n",
    " 'url_char_y',\n",
    " 'url_char_z',\n",
    " 'url_extension_.com',\n",
    " 'url_extensions',\n",
    " 'url_length',\n",
    " 'Target']\n",
    "\n",
    "print(\"features being used\")\n",
    "display(columns)"
   ]
  },
  {
   "cell_type": "code",
   "execution_count": 7,
   "metadata": {},
   "outputs": [],
   "source": [
    "df['url_extension_endswith_.com']=df['url_extension_endswith_.com'].apply(lambda x: 1 if x==True else x)\n",
    "df['url_extension_endswith_.com']=df['url_extension_endswith_.com'].astype(int)"
   ]
  },
  {
   "cell_type": "markdown",
   "metadata": {},
   "source": [
    "### <a id='1' style=\"text-decoration : none; color : #000000;\"> 1. Initial Models</a>"
   ]
  },
  {
   "cell_type": "code",
   "execution_count": 8,
   "metadata": {
    "scrolled": false
   },
   "outputs": [
    {
     "name": "stdout",
     "output_type": "stream",
     "text": [
      "\u001b[1mK-Nearest Neighbors\u001b[0m\n",
      "Accuracy of the model for training data is: 0.9795189178842596\n",
      "Confusion Matrix for training data is:\n"
     ]
    },
    {
     "data": {
      "text/plain": [
       "Predicted  False  True  __all__\n",
       "Actual                         \n",
       "False      27606   199    27805\n",
       "True         443  3098     3541\n",
       "__all__    28049  3297    31346"
      ]
     },
     "metadata": {},
     "output_type": "display_data"
    },
    {
     "name": "stdout",
     "output_type": "stream",
     "text": [
      "Accuracy of the model for test data is: 0.9724384330738803\n",
      "Confusion Matrix for test data is:\n"
     ]
    },
    {
     "data": {
      "text/plain": [
       "Predicted  False  True  __all__\n",
       "Actual                         \n",
       "False       6858    79     6937\n",
       "True         137   763      900\n",
       "__all__     6995   842     7837"
      ]
     },
     "metadata": {},
     "output_type": "display_data"
    },
    {
     "name": "stdout",
     "output_type": "stream",
     "text": [
      "\n",
      "\n",
      "\u001b[1mRandomForest Classifier\u001b[0m\n",
      "Accuracy of the model for training data is: 0.9961398583551331\n",
      "Confusion Matrix for training data is:\n"
     ]
    },
    {
     "data": {
      "text/plain": [
       "Predicted  False  True  __all__\n",
       "Actual                         \n",
       "False      27783    22    27805\n",
       "True          99  3442     3541\n",
       "__all__    27882  3464    31346"
      ]
     },
     "metadata": {},
     "output_type": "display_data"
    },
    {
     "name": "stdout",
     "output_type": "stream",
     "text": [
      "Accuracy of the model for test data is: 0.9795840244991706\n",
      "Confusion Matrix for test data is:\n"
     ]
    },
    {
     "data": {
      "text/plain": [
       "Predicted  False  True  __all__\n",
       "Actual                         \n",
       "False       6894    43     6937\n",
       "True         117   783      900\n",
       "__all__     7011   826     7837"
      ]
     },
     "metadata": {},
     "output_type": "display_data"
    },
    {
     "data": {
      "application/vnd.plotly.v1+json": {
       "config": {
        "linkText": "Export to plot.ly",
        "plotlyServerURL": "https://plot.ly",
        "showLink": true
       },
       "data": [
        {
         "marker": {
          "color": "rgb(158,202,225)",
          "line": {
           "color": "rgb(8,48,107)",
           "width": 1.5
          }
         },
         "opacity": 0.6,
         "orientation": "h",
         "text": [
          0.1457,
          0.1348,
          0.1036,
          0.0919,
          0.0657,
          0.063,
          0.0575,
          0.041,
          0.024,
          0.024,
          0.0225,
          0.0219,
          0.0184,
          0.0171,
          0.017,
          0.0168,
          0.0141,
          0.0136,
          0.0136,
          0.0126,
          0.0111,
          0.0101,
          0.0086,
          0.0084,
          0.0077,
          0.0067,
          0.0066,
          0.0049,
          0.0047,
          0.0047,
          0.0044,
          0.0016,
          0.0013,
          0.0007
         ],
         "textposition": "outside",
         "type": "bar",
         "uid": "39aa653d-0ae1-4869-8cbd-74df14a038d2",
         "x": [
          0.14570459655195933,
          0.1347630269064962,
          0.10355509804547612,
          0.09190043940667152,
          0.06568601790066242,
          0.06301220568355174,
          0.057486085075952605,
          0.04097196160847679,
          0.023965205294869524,
          0.02396079996782726,
          0.022524912496885287,
          0.021897371666513413,
          0.018380358556186204,
          0.01710991601555309,
          0.016992763897540886,
          0.01678540972951882,
          0.014076463446375176,
          0.013626811675823055,
          0.013594679821407487,
          0.012642112243148783,
          0.011132718010187967,
          0.010057897873040773,
          0.008645424146542478,
          0.008360513714774483,
          0.007714438166868631,
          0.00665832514545004,
          0.006563640661551486,
          0.004947640012102691,
          0.004709231399404905,
          0.004667569676108748,
          0.004352617194768877,
          0.0015614071174604614,
          0.0012740075195301615,
          0.000718333371312688
         ],
         "y": [
          "url_length",
          "url_extensions",
          "meta_count",
          "total_count",
          "url_char_w",
          "url_char_.",
          "a_href_relative",
          "a_count",
          "url_char_z",
          "a_href_out_of_domain",
          "script_async_true",
          "url_char_i",
          "http_header_server_apache",
          "http_header_vary_user-agent",
          "url_char_l",
          "link_type_text/css",
          "http_header_content-encoding_gzip",
          "url_char_p",
          "url_extension_.com",
          "total_href",
          "url_char_y",
          "link_href_out_of_domain",
          "push",
          "url_char_f",
          "p_count",
          "a_href_http",
          "http_header_transfer-encoding_chunked",
          "form_action_http",
          "http_header_cache-control_set_max-age",
          "a_href_https",
          "img_src_http",
          "http_header_via_1.1",
          "center_count",
          "iframe_src_.html"
         ]
        }
       ],
       "layout": {
        "autosize": false,
        "height": 1000,
        "width": 1000,
        "xaxis": {
         "tickfont": {
          "color": "black",
          "size": 12
         },
         "title": "Feature Importances"
        },
        "yaxis": {
         "automargin": true
        }
       }
      },
      "text/html": [
       "<div id=\"0cb20a56-fa08-4ec2-9ed0-297af31686a2\" style=\"height: 1000px; width: 1000px;\" class=\"plotly-graph-div\"></div><script type=\"text/javascript\">require([\"plotly\"], function(Plotly) { window.PLOTLYENV=window.PLOTLYENV || {};window.PLOTLYENV.BASE_URL=\"https://plot.ly\";Plotly.newPlot(\"0cb20a56-fa08-4ec2-9ed0-297af31686a2\", [{\"marker\": {\"color\": \"rgb(158,202,225)\", \"line\": {\"color\": \"rgb(8,48,107)\", \"width\": 1.5}}, \"opacity\": 0.6, \"orientation\": \"h\", \"text\": [0.1457, 0.1348, 0.1036, 0.0919, 0.0657, 0.063, 0.0575, 0.041, 0.024, 0.024, 0.0225, 0.0219, 0.0184, 0.0171, 0.017, 0.0168, 0.0141, 0.0136, 0.0136, 0.0126, 0.0111, 0.0101, 0.0086, 0.0084, 0.0077, 0.0067, 0.0066, 0.0049, 0.0047, 0.0047, 0.0044, 0.0016, 0.0013, 0.0007], \"textposition\": \"outside\", \"x\": [0.14570459655195933, 0.1347630269064962, 0.10355509804547612, 0.09190043940667152, 0.06568601790066242, 0.06301220568355174, 0.057486085075952605, 0.04097196160847679, 0.023965205294869524, 0.02396079996782726, 0.022524912496885287, 0.021897371666513413, 0.018380358556186204, 0.01710991601555309, 0.016992763897540886, 0.01678540972951882, 0.014076463446375176, 0.013626811675823055, 0.013594679821407487, 0.012642112243148783, 0.011132718010187967, 0.010057897873040773, 0.008645424146542478, 0.008360513714774483, 0.007714438166868631, 0.00665832514545004, 0.006563640661551486, 0.004947640012102691, 0.004709231399404905, 0.004667569676108748, 0.004352617194768877, 0.0015614071174604614, 0.0012740075195301615, 0.000718333371312688], \"y\": [\"url_length\", \"url_extensions\", \"meta_count\", \"total_count\", \"url_char_w\", \"url_char_.\", \"a_href_relative\", \"a_count\", \"url_char_z\", \"a_href_out_of_domain\", \"script_async_true\", \"url_char_i\", \"http_header_server_apache\", \"http_header_vary_user-agent\", \"url_char_l\", \"link_type_text/css\", \"http_header_content-encoding_gzip\", \"url_char_p\", \"url_extension_.com\", \"total_href\", \"url_char_y\", \"link_href_out_of_domain\", \"push\", \"url_char_f\", \"p_count\", \"a_href_http\", \"http_header_transfer-encoding_chunked\", \"form_action_http\", \"http_header_cache-control_set_max-age\", \"a_href_https\", \"img_src_http\", \"http_header_via_1.1\", \"center_count\", \"iframe_src_.html\"], \"type\": \"bar\", \"uid\": \"39aa653d-0ae1-4869-8cbd-74df14a038d2\"}], {\"autosize\": false, \"height\": 1000, \"width\": 1000, \"xaxis\": {\"tickfont\": {\"color\": \"black\", \"size\": 12}, \"title\": \"Feature Importances\"}, \"yaxis\": {\"automargin\": true}}, {\"showLink\": true, \"linkText\": \"Export to plot.ly\", \"plotlyServerURL\": \"https://plot.ly\"})});</script>"
      ],
      "text/vnd.plotly.v1+html": [
       "<div id=\"0cb20a56-fa08-4ec2-9ed0-297af31686a2\" style=\"height: 1000px; width: 1000px;\" class=\"plotly-graph-div\"></div><script type=\"text/javascript\">require([\"plotly\"], function(Plotly) { window.PLOTLYENV=window.PLOTLYENV || {};window.PLOTLYENV.BASE_URL=\"https://plot.ly\";Plotly.newPlot(\"0cb20a56-fa08-4ec2-9ed0-297af31686a2\", [{\"marker\": {\"color\": \"rgb(158,202,225)\", \"line\": {\"color\": \"rgb(8,48,107)\", \"width\": 1.5}}, \"opacity\": 0.6, \"orientation\": \"h\", \"text\": [0.1457, 0.1348, 0.1036, 0.0919, 0.0657, 0.063, 0.0575, 0.041, 0.024, 0.024, 0.0225, 0.0219, 0.0184, 0.0171, 0.017, 0.0168, 0.0141, 0.0136, 0.0136, 0.0126, 0.0111, 0.0101, 0.0086, 0.0084, 0.0077, 0.0067, 0.0066, 0.0049, 0.0047, 0.0047, 0.0044, 0.0016, 0.0013, 0.0007], \"textposition\": \"outside\", \"x\": [0.14570459655195933, 0.1347630269064962, 0.10355509804547612, 0.09190043940667152, 0.06568601790066242, 0.06301220568355174, 0.057486085075952605, 0.04097196160847679, 0.023965205294869524, 0.02396079996782726, 0.022524912496885287, 0.021897371666513413, 0.018380358556186204, 0.01710991601555309, 0.016992763897540886, 0.01678540972951882, 0.014076463446375176, 0.013626811675823055, 0.013594679821407487, 0.012642112243148783, 0.011132718010187967, 0.010057897873040773, 0.008645424146542478, 0.008360513714774483, 0.007714438166868631, 0.00665832514545004, 0.006563640661551486, 0.004947640012102691, 0.004709231399404905, 0.004667569676108748, 0.004352617194768877, 0.0015614071174604614, 0.0012740075195301615, 0.000718333371312688], \"y\": [\"url_length\", \"url_extensions\", \"meta_count\", \"total_count\", \"url_char_w\", \"url_char_.\", \"a_href_relative\", \"a_count\", \"url_char_z\", \"a_href_out_of_domain\", \"script_async_true\", \"url_char_i\", \"http_header_server_apache\", \"http_header_vary_user-agent\", \"url_char_l\", \"link_type_text/css\", \"http_header_content-encoding_gzip\", \"url_char_p\", \"url_extension_.com\", \"total_href\", \"url_char_y\", \"link_href_out_of_domain\", \"push\", \"url_char_f\", \"p_count\", \"a_href_http\", \"http_header_transfer-encoding_chunked\", \"form_action_http\", \"http_header_cache-control_set_max-age\", \"a_href_https\", \"img_src_http\", \"http_header_via_1.1\", \"center_count\", \"iframe_src_.html\"], \"type\": \"bar\", \"uid\": \"39aa653d-0ae1-4869-8cbd-74df14a038d2\"}], {\"autosize\": false, \"height\": 1000, \"width\": 1000, \"xaxis\": {\"tickfont\": {\"color\": \"black\", \"size\": 12}, \"title\": \"Feature Importances\"}, \"yaxis\": {\"automargin\": true}}, {\"showLink\": true, \"linkText\": \"Export to plot.ly\", \"plotlyServerURL\": \"https://plot.ly\"})});</script>"
      ]
     },
     "metadata": {},
     "output_type": "display_data"
    },
    {
     "name": "stdout",
     "output_type": "stream",
     "text": [
      "\n",
      "\n",
      "\u001b[1mAdaoost Classifier\u001b[0m\n",
      "Accuracy of the model for training data is: 0.9739998723920117\n",
      "Confusion Matrix for training data is:\n"
     ]
    },
    {
     "data": {
      "text/plain": [
       "Predicted  False  True  __all__\n",
       "Actual                         \n",
       "False      27482   323    27805\n",
       "True         492  3049     3541\n",
       "__all__    27974  3372    31346"
      ]
     },
     "metadata": {},
     "output_type": "display_data"
    },
    {
     "name": "stdout",
     "output_type": "stream",
     "text": [
      "Accuracy of the model for test data is: 0.9697588362893964\n",
      "Confusion Matrix for test data is:\n"
     ]
    },
    {
     "data": {
      "text/plain": [
       "Predicted  False  True  __all__\n",
       "Actual                         \n",
       "False       6845    92     6937\n",
       "True         145   755      900\n",
       "__all__     6990   847     7837"
      ]
     },
     "metadata": {},
     "output_type": "display_data"
    },
    {
     "data": {
      "application/vnd.plotly.v1+json": {
       "config": {
        "linkText": "Export to plot.ly",
        "plotlyServerURL": "https://plot.ly",
        "showLink": true
       },
       "data": [
        {
         "marker": {
          "color": "rgb(158,202,225)",
          "line": {
           "color": "rgb(8,48,107)",
           "width": 1.5
          }
         },
         "opacity": 0.6,
         "orientation": "h",
         "text": [
          0.14,
          0.08,
          0.08,
          0.08,
          0.06,
          0.04,
          0.04,
          0.04,
          0.04,
          0.02,
          0.02,
          0.02,
          0.02,
          0.02,
          0.02,
          0.02,
          0.02,
          0.02,
          0.02,
          0.02,
          0.02,
          0.02,
          0.02,
          0.02,
          0.02,
          0.02,
          0.02,
          0.02,
          0.02,
          0,
          0,
          0,
          0,
          0
         ],
         "textposition": "outside",
         "type": "bar",
         "uid": "2bc3e9d7-570b-4064-bd80-f61592ca2ceb",
         "x": [
          0.14,
          0.08,
          0.08,
          0.08,
          0.06,
          0.04,
          0.04,
          0.04,
          0.04,
          0.02,
          0.02,
          0.02,
          0.02,
          0.02,
          0.02,
          0.02,
          0.02,
          0.02,
          0.02,
          0.02,
          0.02,
          0.02,
          0.02,
          0.02,
          0.02,
          0.02,
          0.02,
          0.02,
          0.02,
          0,
          0,
          0,
          0,
          0
         ],
         "y": [
          "total_count",
          "url_length",
          "img_src_http",
          "url_extensions",
          "a_href_out_of_domain",
          "p_count",
          "link_type_text/css",
          "push",
          "a_href_relative",
          "iframe_src_.html",
          "form_action_http",
          "a_href_http",
          "url_extension_.com",
          "url_char_z",
          "url_char_y",
          "url_char_w",
          "url_char_p",
          "url_char_l",
          "url_char_i",
          "url_char_f",
          "http_header_via_1.1",
          "http_header_vary_user-agent",
          "http_header_server_apache",
          "http_header_content-encoding_gzip",
          "a_href_https",
          "meta_count",
          "center_count",
          "link_href_out_of_domain",
          "http_header_cache-control_set_max-age",
          "http_header_transfer-encoding_chunked",
          "url_char_.",
          "a_count",
          "total_href",
          "script_async_true"
         ]
        }
       ],
       "layout": {
        "autosize": false,
        "height": 1000,
        "width": 1000,
        "xaxis": {
         "tickfont": {
          "color": "black",
          "size": 12
         },
         "title": "Feature Importances"
        },
        "yaxis": {
         "automargin": true
        }
       }
      },
      "text/html": [
       "<div id=\"56d0bc0d-225f-48cb-a9a7-ab98313661b2\" style=\"height: 1000px; width: 1000px;\" class=\"plotly-graph-div\"></div><script type=\"text/javascript\">require([\"plotly\"], function(Plotly) { window.PLOTLYENV=window.PLOTLYENV || {};window.PLOTLYENV.BASE_URL=\"https://plot.ly\";Plotly.newPlot(\"56d0bc0d-225f-48cb-a9a7-ab98313661b2\", [{\"marker\": {\"color\": \"rgb(158,202,225)\", \"line\": {\"color\": \"rgb(8,48,107)\", \"width\": 1.5}}, \"opacity\": 0.6, \"orientation\": \"h\", \"text\": [0.14, 0.08, 0.08, 0.08, 0.06, 0.04, 0.04, 0.04, 0.04, 0.02, 0.02, 0.02, 0.02, 0.02, 0.02, 0.02, 0.02, 0.02, 0.02, 0.02, 0.02, 0.02, 0.02, 0.02, 0.02, 0.02, 0.02, 0.02, 0.02, 0.0, 0.0, 0.0, 0.0, 0.0], \"textposition\": \"outside\", \"x\": [0.14, 0.08, 0.08, 0.08, 0.06, 0.04, 0.04, 0.04, 0.04, 0.02, 0.02, 0.02, 0.02, 0.02, 0.02, 0.02, 0.02, 0.02, 0.02, 0.02, 0.02, 0.02, 0.02, 0.02, 0.02, 0.02, 0.02, 0.02, 0.02, 0.0, 0.0, 0.0, 0.0, 0.0], \"y\": [\"total_count\", \"url_length\", \"img_src_http\", \"url_extensions\", \"a_href_out_of_domain\", \"p_count\", \"link_type_text/css\", \"push\", \"a_href_relative\", \"iframe_src_.html\", \"form_action_http\", \"a_href_http\", \"url_extension_.com\", \"url_char_z\", \"url_char_y\", \"url_char_w\", \"url_char_p\", \"url_char_l\", \"url_char_i\", \"url_char_f\", \"http_header_via_1.1\", \"http_header_vary_user-agent\", \"http_header_server_apache\", \"http_header_content-encoding_gzip\", \"a_href_https\", \"meta_count\", \"center_count\", \"link_href_out_of_domain\", \"http_header_cache-control_set_max-age\", \"http_header_transfer-encoding_chunked\", \"url_char_.\", \"a_count\", \"total_href\", \"script_async_true\"], \"type\": \"bar\", \"uid\": \"2bc3e9d7-570b-4064-bd80-f61592ca2ceb\"}], {\"autosize\": false, \"height\": 1000, \"width\": 1000, \"xaxis\": {\"tickfont\": {\"color\": \"black\", \"size\": 12}, \"title\": \"Feature Importances\"}, \"yaxis\": {\"automargin\": true}}, {\"showLink\": true, \"linkText\": \"Export to plot.ly\", \"plotlyServerURL\": \"https://plot.ly\"})});</script>"
      ],
      "text/vnd.plotly.v1+html": [
       "<div id=\"56d0bc0d-225f-48cb-a9a7-ab98313661b2\" style=\"height: 1000px; width: 1000px;\" class=\"plotly-graph-div\"></div><script type=\"text/javascript\">require([\"plotly\"], function(Plotly) { window.PLOTLYENV=window.PLOTLYENV || {};window.PLOTLYENV.BASE_URL=\"https://plot.ly\";Plotly.newPlot(\"56d0bc0d-225f-48cb-a9a7-ab98313661b2\", [{\"marker\": {\"color\": \"rgb(158,202,225)\", \"line\": {\"color\": \"rgb(8,48,107)\", \"width\": 1.5}}, \"opacity\": 0.6, \"orientation\": \"h\", \"text\": [0.14, 0.08, 0.08, 0.08, 0.06, 0.04, 0.04, 0.04, 0.04, 0.02, 0.02, 0.02, 0.02, 0.02, 0.02, 0.02, 0.02, 0.02, 0.02, 0.02, 0.02, 0.02, 0.02, 0.02, 0.02, 0.02, 0.02, 0.02, 0.02, 0.0, 0.0, 0.0, 0.0, 0.0], \"textposition\": \"outside\", \"x\": [0.14, 0.08, 0.08, 0.08, 0.06, 0.04, 0.04, 0.04, 0.04, 0.02, 0.02, 0.02, 0.02, 0.02, 0.02, 0.02, 0.02, 0.02, 0.02, 0.02, 0.02, 0.02, 0.02, 0.02, 0.02, 0.02, 0.02, 0.02, 0.02, 0.0, 0.0, 0.0, 0.0, 0.0], \"y\": [\"total_count\", \"url_length\", \"img_src_http\", \"url_extensions\", \"a_href_out_of_domain\", \"p_count\", \"link_type_text/css\", \"push\", \"a_href_relative\", \"iframe_src_.html\", \"form_action_http\", \"a_href_http\", \"url_extension_.com\", \"url_char_z\", \"url_char_y\", \"url_char_w\", \"url_char_p\", \"url_char_l\", \"url_char_i\", \"url_char_f\", \"http_header_via_1.1\", \"http_header_vary_user-agent\", \"http_header_server_apache\", \"http_header_content-encoding_gzip\", \"a_href_https\", \"meta_count\", \"center_count\", \"link_href_out_of_domain\", \"http_header_cache-control_set_max-age\", \"http_header_transfer-encoding_chunked\", \"url_char_.\", \"a_count\", \"total_href\", \"script_async_true\"], \"type\": \"bar\", \"uid\": \"2bc3e9d7-570b-4064-bd80-f61592ca2ceb\"}], {\"autosize\": false, \"height\": 1000, \"width\": 1000, \"xaxis\": {\"tickfont\": {\"color\": \"black\", \"size\": 12}, \"title\": \"Feature Importances\"}, \"yaxis\": {\"automargin\": true}}, {\"showLink\": true, \"linkText\": \"Export to plot.ly\", \"plotlyServerURL\": \"https://plot.ly\"})});</script>"
      ]
     },
     "metadata": {},
     "output_type": "display_data"
    },
    {
     "name": "stdout",
     "output_type": "stream",
     "text": [
      "\n",
      "\n",
      "\u001b[1mGradientBoosting Classifier\u001b[0m\n",
      "Accuracy of the model for training data is: 0.9798698398519747\n",
      "Confusion Matrix for training data is:\n"
     ]
    },
    {
     "data": {
      "text/plain": [
       "Predicted  False  True  __all__\n",
       "Actual                         \n",
       "False      27632   173    27805\n",
       "True         458  3083     3541\n",
       "__all__    28090  3256    31346"
      ]
     },
     "metadata": {},
     "output_type": "display_data"
    },
    {
     "name": "stdout",
     "output_type": "stream",
     "text": [
      "Accuracy of the model for test data is: 0.9755008293990047\n",
      "Confusion Matrix for test data is:\n"
     ]
    },
    {
     "data": {
      "text/plain": [
       "Predicted  False  True  __all__\n",
       "Actual                         \n",
       "False       6881    56     6937\n",
       "True         136   764      900\n",
       "__all__     7017   820     7837"
      ]
     },
     "metadata": {},
     "output_type": "display_data"
    },
    {
     "data": {
      "application/vnd.plotly.v1+json": {
       "config": {
        "linkText": "Export to plot.ly",
        "plotlyServerURL": "https://plot.ly",
        "showLink": true
       },
       "data": [
        {
         "marker": {
          "color": "rgb(158,202,225)",
          "line": {
           "color": "rgb(8,48,107)",
           "width": 1.5
          }
         },
         "opacity": 0.6,
         "orientation": "h",
         "text": [
          0.3252,
          0.2427,
          0.1477,
          0.0846,
          0.0534,
          0.0277,
          0.0211,
          0.0156,
          0.014,
          0.0134,
          0.0125,
          0.0118,
          0.009,
          0.0051,
          0.0036,
          0.0024,
          0.0019,
          0.0011,
          0.0011,
          0.0011,
          0.001,
          0.0009,
          0.0008,
          0.0006,
          0.0004,
          0.0003,
          0.0003,
          0.0002,
          0.0002,
          0.0001,
          0.0001,
          0.0001,
          0,
          0
         ],
         "textposition": "outside",
         "type": "bar",
         "uid": "b5cc917a-604d-46f8-ac20-d61de40f78a5",
         "x": [
          0.32521437610342996,
          0.24268537248586863,
          0.14770263260138675,
          0.08462578228957005,
          0.05338718061915503,
          0.027728440399481913,
          0.02111830969357897,
          0.015591955468985733,
          0.014013541625287068,
          0.01335215799256552,
          0.012511164401855766,
          0.011756823856218361,
          0.008994690718165627,
          0.005131780376659656,
          0.0035959838478930996,
          0.0023635071364970133,
          0.0018709775891518764,
          0.0010843543856764502,
          0.0010693881003387131,
          0.0010591836905221863,
          0.0009595892401347233,
          0.0009333215171177042,
          0.000781955940259601,
          0.0006235328215032055,
          0.0004274846125780512,
          0.00028023219896822454,
          0.00027546370003099583,
          0.0002438464725736349,
          0.00018997797320980655,
          0.00014489409980296766,
          0.0001398494134817157,
          0.00011953575480649404,
          2.271287324445474e-05,
          0
         ],
         "y": [
          "total_count",
          "url_extensions",
          "url_length",
          "url_char_w",
          "a_href_relative",
          "http_header_server_apache",
          "url_char_.",
          "total_href",
          "http_header_vary_user-agent",
          "a_href_out_of_domain",
          "http_header_content-encoding_gzip",
          "url_char_z",
          "meta_count",
          "form_action_http",
          "push",
          "a_href_https",
          "url_extension_.com",
          "url_char_l",
          "link_type_text/css",
          "link_href_out_of_domain",
          "p_count",
          "http_header_cache-control_set_max-age",
          "img_src_http",
          "url_char_p",
          "url_char_y",
          "http_header_via_1.1",
          "url_char_f",
          "script_async_true",
          "url_char_i",
          "a_href_http",
          "a_count",
          "http_header_transfer-encoding_chunked",
          "center_count",
          "iframe_src_.html"
         ]
        }
       ],
       "layout": {
        "autosize": false,
        "height": 1000,
        "width": 1000,
        "xaxis": {
         "tickfont": {
          "color": "black",
          "size": 12
         },
         "title": "Feature Importances"
        },
        "yaxis": {
         "automargin": true
        }
       }
      },
      "text/html": [
       "<div id=\"ee0820f3-3f48-4fbe-aff8-841db75b9f17\" style=\"height: 1000px; width: 1000px;\" class=\"plotly-graph-div\"></div><script type=\"text/javascript\">require([\"plotly\"], function(Plotly) { window.PLOTLYENV=window.PLOTLYENV || {};window.PLOTLYENV.BASE_URL=\"https://plot.ly\";Plotly.newPlot(\"ee0820f3-3f48-4fbe-aff8-841db75b9f17\", [{\"marker\": {\"color\": \"rgb(158,202,225)\", \"line\": {\"color\": \"rgb(8,48,107)\", \"width\": 1.5}}, \"opacity\": 0.6, \"orientation\": \"h\", \"text\": [0.3252, 0.2427, 0.1477, 0.0846, 0.0534, 0.0277, 0.0211, 0.0156, 0.014, 0.0134, 0.0125, 0.0118, 0.009, 0.0051, 0.0036, 0.0024, 0.0019, 0.0011, 0.0011, 0.0011, 0.001, 0.0009, 0.0008, 0.0006, 0.0004, 0.0003, 0.0003, 0.0002, 0.0002, 0.0001, 0.0001, 0.0001, 0.0, 0.0], \"textposition\": \"outside\", \"x\": [0.32521437610342996, 0.24268537248586863, 0.14770263260138675, 0.08462578228957005, 0.05338718061915503, 0.027728440399481913, 0.02111830969357897, 0.015591955468985733, 0.014013541625287068, 0.01335215799256552, 0.012511164401855766, 0.011756823856218361, 0.008994690718165627, 0.005131780376659656, 0.0035959838478930996, 0.0023635071364970133, 0.0018709775891518764, 0.0010843543856764502, 0.0010693881003387131, 0.0010591836905221863, 0.0009595892401347233, 0.0009333215171177042, 0.000781955940259601, 0.0006235328215032055, 0.0004274846125780512, 0.00028023219896822454, 0.00027546370003099583, 0.0002438464725736349, 0.00018997797320980655, 0.00014489409980296766, 0.0001398494134817157, 0.00011953575480649404, 2.271287324445474e-05, 0.0], \"y\": [\"total_count\", \"url_extensions\", \"url_length\", \"url_char_w\", \"a_href_relative\", \"http_header_server_apache\", \"url_char_.\", \"total_href\", \"http_header_vary_user-agent\", \"a_href_out_of_domain\", \"http_header_content-encoding_gzip\", \"url_char_z\", \"meta_count\", \"form_action_http\", \"push\", \"a_href_https\", \"url_extension_.com\", \"url_char_l\", \"link_type_text/css\", \"link_href_out_of_domain\", \"p_count\", \"http_header_cache-control_set_max-age\", \"img_src_http\", \"url_char_p\", \"url_char_y\", \"http_header_via_1.1\", \"url_char_f\", \"script_async_true\", \"url_char_i\", \"a_href_http\", \"a_count\", \"http_header_transfer-encoding_chunked\", \"center_count\", \"iframe_src_.html\"], \"type\": \"bar\", \"uid\": \"b5cc917a-604d-46f8-ac20-d61de40f78a5\"}], {\"autosize\": false, \"height\": 1000, \"width\": 1000, \"xaxis\": {\"tickfont\": {\"color\": \"black\", \"size\": 12}, \"title\": \"Feature Importances\"}, \"yaxis\": {\"automargin\": true}}, {\"showLink\": true, \"linkText\": \"Export to plot.ly\", \"plotlyServerURL\": \"https://plot.ly\"})});</script>"
      ],
      "text/vnd.plotly.v1+html": [
       "<div id=\"ee0820f3-3f48-4fbe-aff8-841db75b9f17\" style=\"height: 1000px; width: 1000px;\" class=\"plotly-graph-div\"></div><script type=\"text/javascript\">require([\"plotly\"], function(Plotly) { window.PLOTLYENV=window.PLOTLYENV || {};window.PLOTLYENV.BASE_URL=\"https://plot.ly\";Plotly.newPlot(\"ee0820f3-3f48-4fbe-aff8-841db75b9f17\", [{\"marker\": {\"color\": \"rgb(158,202,225)\", \"line\": {\"color\": \"rgb(8,48,107)\", \"width\": 1.5}}, \"opacity\": 0.6, \"orientation\": \"h\", \"text\": [0.3252, 0.2427, 0.1477, 0.0846, 0.0534, 0.0277, 0.0211, 0.0156, 0.014, 0.0134, 0.0125, 0.0118, 0.009, 0.0051, 0.0036, 0.0024, 0.0019, 0.0011, 0.0011, 0.0011, 0.001, 0.0009, 0.0008, 0.0006, 0.0004, 0.0003, 0.0003, 0.0002, 0.0002, 0.0001, 0.0001, 0.0001, 0.0, 0.0], \"textposition\": \"outside\", \"x\": [0.32521437610342996, 0.24268537248586863, 0.14770263260138675, 0.08462578228957005, 0.05338718061915503, 0.027728440399481913, 0.02111830969357897, 0.015591955468985733, 0.014013541625287068, 0.01335215799256552, 0.012511164401855766, 0.011756823856218361, 0.008994690718165627, 0.005131780376659656, 0.0035959838478930996, 0.0023635071364970133, 0.0018709775891518764, 0.0010843543856764502, 0.0010693881003387131, 0.0010591836905221863, 0.0009595892401347233, 0.0009333215171177042, 0.000781955940259601, 0.0006235328215032055, 0.0004274846125780512, 0.00028023219896822454, 0.00027546370003099583, 0.0002438464725736349, 0.00018997797320980655, 0.00014489409980296766, 0.0001398494134817157, 0.00011953575480649404, 2.271287324445474e-05, 0.0], \"y\": [\"total_count\", \"url_extensions\", \"url_length\", \"url_char_w\", \"a_href_relative\", \"http_header_server_apache\", \"url_char_.\", \"total_href\", \"http_header_vary_user-agent\", \"a_href_out_of_domain\", \"http_header_content-encoding_gzip\", \"url_char_z\", \"meta_count\", \"form_action_http\", \"push\", \"a_href_https\", \"url_extension_.com\", \"url_char_l\", \"link_type_text/css\", \"link_href_out_of_domain\", \"p_count\", \"http_header_cache-control_set_max-age\", \"img_src_http\", \"url_char_p\", \"url_char_y\", \"http_header_via_1.1\", \"url_char_f\", \"script_async_true\", \"url_char_i\", \"a_href_http\", \"a_count\", \"http_header_transfer-encoding_chunked\", \"center_count\", \"iframe_src_.html\"], \"type\": \"bar\", \"uid\": \"b5cc917a-604d-46f8-ac20-d61de40f78a5\"}], {\"autosize\": false, \"height\": 1000, \"width\": 1000, \"xaxis\": {\"tickfont\": {\"color\": \"black\", \"size\": 12}, \"title\": \"Feature Importances\"}, \"yaxis\": {\"automargin\": true}}, {\"showLink\": true, \"linkText\": \"Export to plot.ly\", \"plotlyServerURL\": \"https://plot.ly\"})});</script>"
      ]
     },
     "metadata": {},
     "output_type": "display_data"
    },
    {
     "name": "stdout",
     "output_type": "stream",
     "text": [
      "\n",
      "\n",
      "\u001b[1mExtraTree Classifier\u001b[0m\n",
      "Accuracy of the model for training data is: 0.9977349582083839\n",
      "Confusion Matrix for training data is:\n"
     ]
    },
    {
     "data": {
      "text/plain": [
       "Predicted  False  True  __all__\n",
       "Actual                         \n",
       "False      27802     3    27805\n",
       "True          68  3473     3541\n",
       "__all__    27870  3476    31346"
      ]
     },
     "metadata": {},
     "output_type": "display_data"
    },
    {
     "name": "stdout",
     "output_type": "stream",
     "text": [
      "Accuracy of the model for test data is: 0.9767768278678065\n",
      "Confusion Matrix for test data is:\n"
     ]
    },
    {
     "data": {
      "text/plain": [
       "Predicted  False  True  __all__\n",
       "Actual                         \n",
       "False       6890    47     6937\n",
       "True         135   765      900\n",
       "__all__     7025   812     7837"
      ]
     },
     "metadata": {},
     "output_type": "display_data"
    },
    {
     "data": {
      "application/vnd.plotly.v1+json": {
       "config": {
        "linkText": "Export to plot.ly",
        "plotlyServerURL": "https://plot.ly",
        "showLink": true
       },
       "data": [
        {
         "marker": {
          "color": "rgb(158,202,225)",
          "line": {
           "color": "rgb(8,48,107)",
           "width": 1.5
          }
         },
         "opacity": 0.6,
         "orientation": "h",
         "text": [
          0.1249,
          0.1184,
          0.0904,
          0.0871,
          0.0588,
          0.0437,
          0.0402,
          0.0401,
          0.0341,
          0.0311,
          0.0299,
          0.029,
          0.0288,
          0.0234,
          0.0214,
          0.0177,
          0.0168,
          0.0163,
          0.0146,
          0.0136,
          0.0124,
          0.0123,
          0.012,
          0.0115,
          0.0106,
          0.0096,
          0.0084,
          0.0083,
          0.0082,
          0.008,
          0.0075,
          0.0038,
          0.0037,
          0.0032
         ],
         "textposition": "outside",
         "type": "bar",
         "uid": "d8f55d72-ed47-4506-bd58-ee698a67b55f",
         "x": [
          0.12494478239382574,
          0.11843936417205099,
          0.09044643465504831,
          0.08712426936249737,
          0.058783254663270515,
          0.04374359826915871,
          0.0401752641916603,
          0.04014349392113532,
          0.034126287578342976,
          0.031064488908996685,
          0.02992431860635996,
          0.02897697011744338,
          0.028763269551038508,
          0.02344376718902147,
          0.021356560513294556,
          0.017688293608552792,
          0.01684547339256031,
          0.016282448184728078,
          0.01462693944398705,
          0.0136247279659271,
          0.012449187212618758,
          0.01234127713529102,
          0.012032032832846793,
          0.011498326256493652,
          0.010611360971662744,
          0.009584549436244346,
          0.008354190975565643,
          0.008289945494289703,
          0.008199792274692828,
          0.007978619922559448,
          0.007499907330937051,
          0.0037789476092063594,
          0.0037072748436035724,
          0.003150581015087936
         ],
         "y": [
          "url_length",
          "http_header_content-encoding_gzip",
          "url_char_w",
          "url_char_.",
          "url_extensions",
          "http_header_transfer-encoding_chunked",
          "url_char_z",
          "total_count",
          "url_char_y",
          "url_char_i",
          "url_char_l",
          "total_href",
          "url_extension_.com",
          "link_type_text/css",
          "http_header_server_apache",
          "url_char_p",
          "meta_count",
          "link_href_out_of_domain",
          "http_header_cache-control_set_max-age",
          "a_href_relative",
          "a_href_out_of_domain",
          "url_char_f",
          "a_count",
          "p_count",
          "script_async_true",
          "a_href_https",
          "form_action_http",
          "http_header_vary_user-agent",
          "a_href_http",
          "img_src_http",
          "push",
          "http_header_via_1.1",
          "iframe_src_.html",
          "center_count"
         ]
        }
       ],
       "layout": {
        "autosize": false,
        "height": 1000,
        "width": 1000,
        "xaxis": {
         "tickfont": {
          "color": "black",
          "size": 12
         },
         "title": "Feature Importances"
        },
        "yaxis": {
         "automargin": true
        }
       }
      },
      "text/html": [
       "<div id=\"a59add12-217c-42f4-a5dd-9a8eff8eb228\" style=\"height: 1000px; width: 1000px;\" class=\"plotly-graph-div\"></div><script type=\"text/javascript\">require([\"plotly\"], function(Plotly) { window.PLOTLYENV=window.PLOTLYENV || {};window.PLOTLYENV.BASE_URL=\"https://plot.ly\";Plotly.newPlot(\"a59add12-217c-42f4-a5dd-9a8eff8eb228\", [{\"marker\": {\"color\": \"rgb(158,202,225)\", \"line\": {\"color\": \"rgb(8,48,107)\", \"width\": 1.5}}, \"opacity\": 0.6, \"orientation\": \"h\", \"text\": [0.1249, 0.1184, 0.0904, 0.0871, 0.0588, 0.0437, 0.0402, 0.0401, 0.0341, 0.0311, 0.0299, 0.029, 0.0288, 0.0234, 0.0214, 0.0177, 0.0168, 0.0163, 0.0146, 0.0136, 0.0124, 0.0123, 0.012, 0.0115, 0.0106, 0.0096, 0.0084, 0.0083, 0.0082, 0.008, 0.0075, 0.0038, 0.0037, 0.0032], \"textposition\": \"outside\", \"x\": [0.12494478239382574, 0.11843936417205099, 0.09044643465504831, 0.08712426936249737, 0.058783254663270515, 0.04374359826915871, 0.0401752641916603, 0.04014349392113532, 0.034126287578342976, 0.031064488908996685, 0.02992431860635996, 0.02897697011744338, 0.028763269551038508, 0.02344376718902147, 0.021356560513294556, 0.017688293608552792, 0.01684547339256031, 0.016282448184728078, 0.01462693944398705, 0.0136247279659271, 0.012449187212618758, 0.01234127713529102, 0.012032032832846793, 0.011498326256493652, 0.010611360971662744, 0.009584549436244346, 0.008354190975565643, 0.008289945494289703, 0.008199792274692828, 0.007978619922559448, 0.007499907330937051, 0.0037789476092063594, 0.0037072748436035724, 0.003150581015087936], \"y\": [\"url_length\", \"http_header_content-encoding_gzip\", \"url_char_w\", \"url_char_.\", \"url_extensions\", \"http_header_transfer-encoding_chunked\", \"url_char_z\", \"total_count\", \"url_char_y\", \"url_char_i\", \"url_char_l\", \"total_href\", \"url_extension_.com\", \"link_type_text/css\", \"http_header_server_apache\", \"url_char_p\", \"meta_count\", \"link_href_out_of_domain\", \"http_header_cache-control_set_max-age\", \"a_href_relative\", \"a_href_out_of_domain\", \"url_char_f\", \"a_count\", \"p_count\", \"script_async_true\", \"a_href_https\", \"form_action_http\", \"http_header_vary_user-agent\", \"a_href_http\", \"img_src_http\", \"push\", \"http_header_via_1.1\", \"iframe_src_.html\", \"center_count\"], \"type\": \"bar\", \"uid\": \"d8f55d72-ed47-4506-bd58-ee698a67b55f\"}], {\"autosize\": false, \"height\": 1000, \"width\": 1000, \"xaxis\": {\"tickfont\": {\"color\": \"black\", \"size\": 12}, \"title\": \"Feature Importances\"}, \"yaxis\": {\"automargin\": true}}, {\"showLink\": true, \"linkText\": \"Export to plot.ly\", \"plotlyServerURL\": \"https://plot.ly\"})});</script>"
      ],
      "text/vnd.plotly.v1+html": [
       "<div id=\"a59add12-217c-42f4-a5dd-9a8eff8eb228\" style=\"height: 1000px; width: 1000px;\" class=\"plotly-graph-div\"></div><script type=\"text/javascript\">require([\"plotly\"], function(Plotly) { window.PLOTLYENV=window.PLOTLYENV || {};window.PLOTLYENV.BASE_URL=\"https://plot.ly\";Plotly.newPlot(\"a59add12-217c-42f4-a5dd-9a8eff8eb228\", [{\"marker\": {\"color\": \"rgb(158,202,225)\", \"line\": {\"color\": \"rgb(8,48,107)\", \"width\": 1.5}}, \"opacity\": 0.6, \"orientation\": \"h\", \"text\": [0.1249, 0.1184, 0.0904, 0.0871, 0.0588, 0.0437, 0.0402, 0.0401, 0.0341, 0.0311, 0.0299, 0.029, 0.0288, 0.0234, 0.0214, 0.0177, 0.0168, 0.0163, 0.0146, 0.0136, 0.0124, 0.0123, 0.012, 0.0115, 0.0106, 0.0096, 0.0084, 0.0083, 0.0082, 0.008, 0.0075, 0.0038, 0.0037, 0.0032], \"textposition\": \"outside\", \"x\": [0.12494478239382574, 0.11843936417205099, 0.09044643465504831, 0.08712426936249737, 0.058783254663270515, 0.04374359826915871, 0.0401752641916603, 0.04014349392113532, 0.034126287578342976, 0.031064488908996685, 0.02992431860635996, 0.02897697011744338, 0.028763269551038508, 0.02344376718902147, 0.021356560513294556, 0.017688293608552792, 0.01684547339256031, 0.016282448184728078, 0.01462693944398705, 0.0136247279659271, 0.012449187212618758, 0.01234127713529102, 0.012032032832846793, 0.011498326256493652, 0.010611360971662744, 0.009584549436244346, 0.008354190975565643, 0.008289945494289703, 0.008199792274692828, 0.007978619922559448, 0.007499907330937051, 0.0037789476092063594, 0.0037072748436035724, 0.003150581015087936], \"y\": [\"url_length\", \"http_header_content-encoding_gzip\", \"url_char_w\", \"url_char_.\", \"url_extensions\", \"http_header_transfer-encoding_chunked\", \"url_char_z\", \"total_count\", \"url_char_y\", \"url_char_i\", \"url_char_l\", \"total_href\", \"url_extension_.com\", \"link_type_text/css\", \"http_header_server_apache\", \"url_char_p\", \"meta_count\", \"link_href_out_of_domain\", \"http_header_cache-control_set_max-age\", \"a_href_relative\", \"a_href_out_of_domain\", \"url_char_f\", \"a_count\", \"p_count\", \"script_async_true\", \"a_href_https\", \"form_action_http\", \"http_header_vary_user-agent\", \"a_href_http\", \"img_src_http\", \"push\", \"http_header_via_1.1\", \"iframe_src_.html\", \"center_count\"], \"type\": \"bar\", \"uid\": \"d8f55d72-ed47-4506-bd58-ee698a67b55f\"}], {\"autosize\": false, \"height\": 1000, \"width\": 1000, \"xaxis\": {\"tickfont\": {\"color\": \"black\", \"size\": 12}, \"title\": \"Feature Importances\"}, \"yaxis\": {\"automargin\": true}}, {\"showLink\": true, \"linkText\": \"Export to plot.ly\", \"plotlyServerURL\": \"https://plot.ly\"})});</script>"
      ]
     },
     "metadata": {},
     "output_type": "display_data"
    },
    {
     "name": "stdout",
     "output_type": "stream",
     "text": [
      "\n",
      "\n",
      "\u001b[1mXGB Classifier\u001b[0m\n",
      "Accuracy of the model for training data is: 0.9792317999106744\n",
      "Confusion Matrix for training data is:\n"
     ]
    },
    {
     "data": {
      "text/plain": [
       "Predicted  False  True  __all__\n",
       "Actual                         \n",
       "False      27633   172    27805\n",
       "True         479  3062     3541\n",
       "__all__    28112  3234    31346"
      ]
     },
     "metadata": {},
     "output_type": "display_data"
    },
    {
     "name": "stdout",
     "output_type": "stream",
     "text": [
      "Accuracy of the model for test data is: 0.9755008293990047\n",
      "Confusion Matrix for test data is:\n"
     ]
    },
    {
     "data": {
      "text/plain": [
       "Predicted  False  True  __all__\n",
       "Actual                         \n",
       "False       6883    54     6937\n",
       "True         138   762      900\n",
       "__all__     7021   816     7837"
      ]
     },
     "metadata": {},
     "output_type": "display_data"
    },
    {
     "data": {
      "application/vnd.plotly.v1+json": {
       "config": {
        "linkText": "Export to plot.ly",
        "plotlyServerURL": "https://plot.ly",
        "showLink": true
       },
       "data": [
        {
         "marker": {
          "color": "rgb(158,202,225)",
          "line": {
           "color": "rgb(8,48,107)",
           "width": 1.5
          }
         },
         "opacity": 0.6,
         "orientation": "h",
         "text": [
          0.1443,
          0.1064,
          0.0758,
          0.0583,
          0.0525,
          0.0408,
          0.0364,
          0.035,
          0.0335,
          0.0335,
          0.0292,
          0.0262,
          0.0248,
          0.0248,
          0.0248,
          0.0219,
          0.0219,
          0.0204,
          0.019,
          0.0175,
          0.016,
          0.016,
          0.0146,
          0.0146,
          0.0117,
          0.0117,
          0.0117,
          0.0102,
          0.0102,
          0.0102,
          0.0087,
          0.0073,
          0.0058,
          0.0044
         ],
         "textposition": "outside",
         "type": "bar",
         "uid": "005c3d06-bafc-493f-b8da-0da14eb6390e",
         "x": [
          0.14431487023830414,
          0.10641399770975113,
          0.07580175250768661,
          0.05830903723835945,
          0.052478134632110596,
          0.040816325694322586,
          0.03644314780831337,
          0.03498542308807373,
          0.03352769836783409,
          0.03352769836783409,
          0.029154518619179726,
          0.026239067316055298,
          0.02478134073317051,
          0.02478134073317051,
          0.02478134073317051,
          0.02186588943004608,
          0.02186588943004608,
          0.020408162847161293,
          0.018950438126921654,
          0.017492711544036865,
          0.016034984961152077,
          0.016034984961152077,
          0.014577259309589863,
          0.014577259309589863,
          0.011661808006465435,
          0.011661808006465435,
          0.011661808006465435,
          0.010204081423580647,
          0.010204081423580647,
          0.010204081423580647,
          0.008746355772018433,
          0.007288629654794931,
          0.0058309040032327175,
          0.004373177886009216
         ],
         "y": [
          "url_length",
          "url_char_w",
          "url_char_.",
          "total_count",
          "url_extensions",
          "a_href_out_of_domain",
          "link_type_text/css",
          "p_count",
          "a_href_https",
          "http_header_server_apache",
          "push",
          "http_header_content-encoding_gzip",
          "http_header_cache-control_set_max-age",
          "a_href_relative",
          "url_char_i",
          "url_char_z",
          "form_action_http",
          "link_href_out_of_domain",
          "http_header_via_1.1",
          "http_header_vary_user-agent",
          "total_href",
          "url_char_l",
          "img_src_http",
          "url_extension_.com",
          "meta_count",
          "script_async_true",
          "url_char_y",
          "center_count",
          "url_char_f",
          "url_char_p",
          "a_href_http",
          "iframe_src_.html",
          "http_header_transfer-encoding_chunked",
          "a_count"
         ]
        }
       ],
       "layout": {
        "autosize": false,
        "height": 1000,
        "width": 1000,
        "xaxis": {
         "tickfont": {
          "color": "black",
          "size": 12
         },
         "title": "Feature Importances"
        },
        "yaxis": {
         "automargin": true
        }
       }
      },
      "text/html": [
       "<div id=\"356a471e-9873-4091-9858-a6162f958e57\" style=\"height: 1000px; width: 1000px;\" class=\"plotly-graph-div\"></div><script type=\"text/javascript\">require([\"plotly\"], function(Plotly) { window.PLOTLYENV=window.PLOTLYENV || {};window.PLOTLYENV.BASE_URL=\"https://plot.ly\";Plotly.newPlot(\"356a471e-9873-4091-9858-a6162f958e57\", [{\"marker\": {\"color\": \"rgb(158,202,225)\", \"line\": {\"color\": \"rgb(8,48,107)\", \"width\": 1.5}}, \"opacity\": 0.6, \"orientation\": \"h\", \"text\": [0.1443, 0.1064, 0.0758, 0.0583, 0.0525, 0.0408, 0.0364, 0.035, 0.0335, 0.0335, 0.0292, 0.0262, 0.0248, 0.0248, 0.0248, 0.0219, 0.0219, 0.0204, 0.019, 0.0175, 0.016, 0.016, 0.0146, 0.0146, 0.0117, 0.0117, 0.0117, 0.0102, 0.0102, 0.0102, 0.0087, 0.0073, 0.0058, 0.0044], \"textposition\": \"outside\", \"x\": [0.14431487023830414, 0.10641399770975113, 0.07580175250768661, 0.05830903723835945, 0.052478134632110596, 0.040816325694322586, 0.03644314780831337, 0.03498542308807373, 0.03352769836783409, 0.03352769836783409, 0.029154518619179726, 0.026239067316055298, 0.02478134073317051, 0.02478134073317051, 0.02478134073317051, 0.02186588943004608, 0.02186588943004608, 0.020408162847161293, 0.018950438126921654, 0.017492711544036865, 0.016034984961152077, 0.016034984961152077, 0.014577259309589863, 0.014577259309589863, 0.011661808006465435, 0.011661808006465435, 0.011661808006465435, 0.010204081423580647, 0.010204081423580647, 0.010204081423580647, 0.008746355772018433, 0.007288629654794931, 0.0058309040032327175, 0.004373177886009216], \"y\": [\"url_length\", \"url_char_w\", \"url_char_.\", \"total_count\", \"url_extensions\", \"a_href_out_of_domain\", \"link_type_text/css\", \"p_count\", \"a_href_https\", \"http_header_server_apache\", \"push\", \"http_header_content-encoding_gzip\", \"http_header_cache-control_set_max-age\", \"a_href_relative\", \"url_char_i\", \"url_char_z\", \"form_action_http\", \"link_href_out_of_domain\", \"http_header_via_1.1\", \"http_header_vary_user-agent\", \"total_href\", \"url_char_l\", \"img_src_http\", \"url_extension_.com\", \"meta_count\", \"script_async_true\", \"url_char_y\", \"center_count\", \"url_char_f\", \"url_char_p\", \"a_href_http\", \"iframe_src_.html\", \"http_header_transfer-encoding_chunked\", \"a_count\"], \"type\": \"bar\", \"uid\": \"005c3d06-bafc-493f-b8da-0da14eb6390e\"}], {\"autosize\": false, \"height\": 1000, \"width\": 1000, \"xaxis\": {\"tickfont\": {\"color\": \"black\", \"size\": 12}, \"title\": \"Feature Importances\"}, \"yaxis\": {\"automargin\": true}}, {\"showLink\": true, \"linkText\": \"Export to plot.ly\", \"plotlyServerURL\": \"https://plot.ly\"})});</script>"
      ],
      "text/vnd.plotly.v1+html": [
       "<div id=\"356a471e-9873-4091-9858-a6162f958e57\" style=\"height: 1000px; width: 1000px;\" class=\"plotly-graph-div\"></div><script type=\"text/javascript\">require([\"plotly\"], function(Plotly) { window.PLOTLYENV=window.PLOTLYENV || {};window.PLOTLYENV.BASE_URL=\"https://plot.ly\";Plotly.newPlot(\"356a471e-9873-4091-9858-a6162f958e57\", [{\"marker\": {\"color\": \"rgb(158,202,225)\", \"line\": {\"color\": \"rgb(8,48,107)\", \"width\": 1.5}}, \"opacity\": 0.6, \"orientation\": \"h\", \"text\": [0.1443, 0.1064, 0.0758, 0.0583, 0.0525, 0.0408, 0.0364, 0.035, 0.0335, 0.0335, 0.0292, 0.0262, 0.0248, 0.0248, 0.0248, 0.0219, 0.0219, 0.0204, 0.019, 0.0175, 0.016, 0.016, 0.0146, 0.0146, 0.0117, 0.0117, 0.0117, 0.0102, 0.0102, 0.0102, 0.0087, 0.0073, 0.0058, 0.0044], \"textposition\": \"outside\", \"x\": [0.14431487023830414, 0.10641399770975113, 0.07580175250768661, 0.05830903723835945, 0.052478134632110596, 0.040816325694322586, 0.03644314780831337, 0.03498542308807373, 0.03352769836783409, 0.03352769836783409, 0.029154518619179726, 0.026239067316055298, 0.02478134073317051, 0.02478134073317051, 0.02478134073317051, 0.02186588943004608, 0.02186588943004608, 0.020408162847161293, 0.018950438126921654, 0.017492711544036865, 0.016034984961152077, 0.016034984961152077, 0.014577259309589863, 0.014577259309589863, 0.011661808006465435, 0.011661808006465435, 0.011661808006465435, 0.010204081423580647, 0.010204081423580647, 0.010204081423580647, 0.008746355772018433, 0.007288629654794931, 0.0058309040032327175, 0.004373177886009216], \"y\": [\"url_length\", \"url_char_w\", \"url_char_.\", \"total_count\", \"url_extensions\", \"a_href_out_of_domain\", \"link_type_text/css\", \"p_count\", \"a_href_https\", \"http_header_server_apache\", \"push\", \"http_header_content-encoding_gzip\", \"http_header_cache-control_set_max-age\", \"a_href_relative\", \"url_char_i\", \"url_char_z\", \"form_action_http\", \"link_href_out_of_domain\", \"http_header_via_1.1\", \"http_header_vary_user-agent\", \"total_href\", \"url_char_l\", \"img_src_http\", \"url_extension_.com\", \"meta_count\", \"script_async_true\", \"url_char_y\", \"center_count\", \"url_char_f\", \"url_char_p\", \"a_href_http\", \"iframe_src_.html\", \"http_header_transfer-encoding_chunked\", \"a_count\"], \"type\": \"bar\", \"uid\": \"005c3d06-bafc-493f-b8da-0da14eb6390e\"}], {\"autosize\": false, \"height\": 1000, \"width\": 1000, \"xaxis\": {\"tickfont\": {\"color\": \"black\", \"size\": 12}, \"title\": \"Feature Importances\"}, \"yaxis\": {\"automargin\": true}}, {\"showLink\": true, \"linkText\": \"Export to plot.ly\", \"plotlyServerURL\": \"https://plot.ly\"})});</script>"
      ]
     },
     "metadata": {},
     "output_type": "display_data"
    },
    {
     "name": "stdout",
     "output_type": "stream",
     "text": [
      "\n",
      "\n",
      "\u001b[1mBagging Classifier\u001b[0m\n",
      "Accuracy of the model for training data is: 0.9958846423786128\n",
      "Confusion Matrix for training data is:\n"
     ]
    },
    {
     "data": {
      "text/plain": [
       "Predicted  False  True  __all__\n",
       "Actual                         \n",
       "False      27774    31    27805\n",
       "True          98  3443     3541\n",
       "__all__    27872  3474    31346"
      ]
     },
     "metadata": {},
     "output_type": "display_data"
    },
    {
     "name": "stdout",
     "output_type": "stream",
     "text": [
      "Accuracy of the model for test data is: 0.9761388286334056\n",
      "Confusion Matrix for test data is:\n"
     ]
    },
    {
     "data": {
      "text/plain": [
       "Predicted  False  True  __all__\n",
       "Actual                         \n",
       "False       6879    58     6937\n",
       "True         129   771      900\n",
       "__all__     7008   829     7837"
      ]
     },
     "metadata": {},
     "output_type": "display_data"
    },
    {
     "name": "stdout",
     "output_type": "stream",
     "text": [
      "\n",
      "\n",
      "\u001b[1mNeural Network-1\u001b[0m\n",
      "The accuracy of the model on training data is: 0.9924392266955911\n"
     ]
    },
    {
     "data": {
      "text/plain": [
       "Predicted  False  True  __all__\n",
       "Actual                         \n",
       "False      27718    87    27805\n",
       "True         150  3391     3541\n",
       "__all__    27868  3478    31346"
      ]
     },
     "metadata": {},
     "output_type": "display_data"
    },
    {
     "name": "stdout",
     "output_type": "stream",
     "text": [
      "The accuracy of the model on test data is: 0.9724384330738803\n"
     ]
    },
    {
     "data": {
      "text/plain": [
       "Predicted  False  True  __all__\n",
       "Actual                         \n",
       "False       6847    90     6937\n",
       "True         126   774      900\n",
       "__all__     6973   864     7837"
      ]
     },
     "metadata": {},
     "output_type": "display_data"
    },
    {
     "name": "stdout",
     "output_type": "stream",
     "text": [
      "\n",
      "\n"
     ]
    }
   ],
   "source": [
    "df_sel=df[columns].copy(deep=True)\n",
    "\n",
    "train=df_sel.iloc[:31346,:]\n",
    "train_X=train.iloc[:,train.columns!='Target'].values\n",
    "train_Y=train.Target.values\n",
    "\n",
    "scaler=StandardScaler()\n",
    "scaled_X_train=scaler.fit_transform(train_X)\n",
    "\n",
    "test=df_sel.iloc[31346:,:]\n",
    "test_X=test.iloc[:,test.columns!='Target'].values\n",
    "test_Y=test.Target.values\n",
    "scaled_X_test=scaler.transform(test_X)\n",
    "columns.remove('Target')\n",
    "\n",
    "ind_columns=['KNeighborsClassifier','RandomForestClassifier','AdaBoostClassifier',\n",
    "             'GradientBoostingClassifier','ExtraTreeClassifier','XGB','BaggingClassifier','Neural Network-1']\n",
    "\n",
    "f=[KNN_model,RandomForest,AdaBoost,GradientBoosting, ExtraTree,XGB,Bagging,DeepLearning1]\n",
    "\n",
    "## Table to store training and test measures\n",
    "table_80_50_train=pd.DataFrame(columns=['accuracy','TP','TN','FP','FN','FPR','FNR'])\n",
    "table_80_50_test=pd.DataFrame(columns=['accuracy','TP','TN','FP','FN','FPR','FNR','auc','MCC','Precision','Recall'])\n",
    "\n",
    "feat_imp=[None]*5\n",
    "j=0\n",
    "for i in range(0,8):\n",
    "    if i>=1 and i<=5:\n",
    "        model,cm_train,cm_test,acc_train,acc_test,roc_auc,feat_imp[j],mcc,prec,rec=f[i](scaled_X_train,train_Y,scaled_X_test,test_Y,columns)\n",
    "        j=j+1\n",
    "    else:\n",
    "        model,cm_train,cm_test,acc_train,acc_test,roc_auc,mcc,prec,rec=f[i](scaled_X_train,train_Y,scaled_X_test,test_Y)\n",
    "    table_80_50_train.loc[i]=   ([acc_train,cm_train.TP,cm_train.TN,cm_train.FP,cm_train.FN,cm_train.FPR,cm_train.FNR])\n",
    "    table_80_50_test.loc[i] =   ([acc_test ,cm_test.TP, cm_test.TN, cm_test.FP, cm_test.FN, cm_test.FPR, cm_test.FNR,roc_auc,mcc,prec,rec])\n",
    "    print(\"\\n\")"
   ]
  },
  {
   "cell_type": "markdown",
   "metadata": {},
   "source": [
    "### <a id='1.A' style=\"text-decoration : none; color : #000000;\"> A. Results</a>"
   ]
  },
  {
   "cell_type": "code",
   "execution_count": 9,
   "metadata": {},
   "outputs": [
    {
     "data": {
      "application/vnd.plotly.v1+json": {
       "config": {
        "linkText": "Export to plot.ly",
        "plotlyServerURL": "https://plot.ly",
        "showLink": true
       },
       "data": [
        {
         "mode": "lines",
         "name": "KNN_model",
         "type": "scatter",
         "uid": "f32e11ea-1659-42e8-835b-01ab356644bd",
         "x": [
          "accuracy",
          "auc",
          "MCC",
          "Precision",
          "Recall"
         ],
         "y": [
          0.9724384330738803,
          0.9181947848093155,
          0.8611242212688706,
          0.9061757719714965,
          0.8477777777777777
         ]
        },
        {
         "mode": "lines+markers",
         "name": "XGB",
         "type": "scatter",
         "uid": "7ab0f248-f58b-4a57-8121-3842b1f05988",
         "x": [
          "accuracy",
          "auc",
          "MCC",
          "Precision",
          "Recall"
         ],
         "y": [
          0.9755008293990047,
          0.9194411609245111,
          0.8757165924415348,
          0.9338235294117647,
          0.8466666666666667
         ]
        },
        {
         "marker": {
          "symbol": "x"
         },
         "mode": "lines+markers",
         "name": "Random Forest",
         "type": "scatter",
         "uid": "a44c82d1-2a08-4d2b-8967-7a83711ccade",
         "x": [
          "accuracy",
          "auc",
          "MCC",
          "Precision",
          "Recall"
         ],
         "y": [
          0.9795840244991706,
          0.9319006775263082,
          0.8968937047736508,
          0.9479418886198547,
          0.87
         ]
        },
        {
         "mode": "lines",
         "name": "Ada Boost",
         "type": "scatter",
         "uid": "ebdc73b2-f596-4d57-9125-4ddd80bc7235",
         "x": [
          "accuracy",
          "auc",
          "MCC",
          "Precision",
          "Recall"
         ],
         "y": [
          0.9697588362893964,
          0.9128133358960807,
          0.8478334036826639,
          0.8913813459268005,
          0.8388888888888889
         ]
        },
        {
         "mode": "lines+markers",
         "name": "GradientBoosting",
         "type": "scatter",
         "uid": "14359d19-1ff4-4d23-bc8a-6491c7d558f8",
         "x": [
          "accuracy",
          "auc",
          "MCC",
          "Precision",
          "Recall"
         ],
         "y": [
          0.9755008293990047,
          0.920408117501962,
          0.8758415135576019,
          0.9317073170731708,
          0.8488888888888889
         ]
        },
        {
         "marker": {
          "symbol": "x"
         },
         "mode": "lines+markers",
         "name": "ExtraTree Classifier",
         "type": "scatter",
         "uid": "38c89096-ae07-486b-8878-3f4cfed0a7ef",
         "x": [
          "accuracy",
          "auc",
          "MCC",
          "Precision",
          "Recall"
         ],
         "y": [
          0.9767768278678065,
          0.9216123684589881,
          0.8821638594861492,
          0.9421182266009852,
          0.85
         ]
        },
        {
         "marker": {
          "symbol": "x"
         },
         "mode": "lines+markers",
         "name": "Bagging",
         "type": "scatter",
         "uid": "313026d8-61c3-43d7-b5b9-36def950a73d",
         "x": [
          "accuracy",
          "auc",
          "MCC",
          "Precision",
          "Recall"
         ],
         "y": [
          0.9761388286334056,
          0.9241528518571909,
          0.8793973998141795,
          0.9300361881785284,
          0.8566666666666667
         ]
        },
        {
         "marker": {
          "symbol": "x"
         },
         "mode": "lines+markers",
         "name": "Neural Network",
         "type": "scatter",
         "uid": "85c2c534-2729-4941-9863-4253d4e76f56",
         "x": [
          "accuracy",
          "auc",
          "MCC",
          "Precision",
          "Recall"
         ],
         "y": [
          0.9724384330738803,
          0.9241528518571909,
          0.8622579093373915,
          0.8958333333333334,
          0.86
         ]
        }
       ],
       "layout": {
        "title": "Result comparision for Features selected in Section 1",
        "yaxis": {
         "dtick": 0.05,
         "tick0": 0
        }
       }
      },
      "text/html": [
       "<div id=\"6065648b-2635-4ed6-b2cc-90bdb48e7ec5\" style=\"height: 525px; width: 100%;\" class=\"plotly-graph-div\"></div><script type=\"text/javascript\">require([\"plotly\"], function(Plotly) { window.PLOTLYENV=window.PLOTLYENV || {};window.PLOTLYENV.BASE_URL=\"https://plot.ly\";Plotly.newPlot(\"6065648b-2635-4ed6-b2cc-90bdb48e7ec5\", [{\"mode\": \"lines\", \"name\": \"KNN_model\", \"x\": [\"accuracy\", \"auc\", \"MCC\", \"Precision\", \"Recall\"], \"y\": [0.9724384330738803, 0.9181947848093155, 0.8611242212688706, 0.9061757719714965, 0.8477777777777777], \"type\": \"scatter\", \"uid\": \"f32e11ea-1659-42e8-835b-01ab356644bd\"}, {\"mode\": \"lines+markers\", \"name\": \"XGB\", \"x\": [\"accuracy\", \"auc\", \"MCC\", \"Precision\", \"Recall\"], \"y\": [0.9755008293990047, 0.9194411609245111, 0.8757165924415348, 0.9338235294117647, 0.8466666666666667], \"type\": \"scatter\", \"uid\": \"7ab0f248-f58b-4a57-8121-3842b1f05988\"}, {\"marker\": {\"symbol\": \"x\"}, \"mode\": \"lines+markers\", \"name\": \"Random Forest\", \"x\": [\"accuracy\", \"auc\", \"MCC\", \"Precision\", \"Recall\"], \"y\": [0.9795840244991706, 0.9319006775263082, 0.8968937047736508, 0.9479418886198547, 0.87], \"type\": \"scatter\", \"uid\": \"a44c82d1-2a08-4d2b-8967-7a83711ccade\"}, {\"mode\": \"lines\", \"name\": \"Ada Boost\", \"x\": [\"accuracy\", \"auc\", \"MCC\", \"Precision\", \"Recall\"], \"y\": [0.9697588362893964, 0.9128133358960807, 0.8478334036826639, 0.8913813459268005, 0.8388888888888889], \"type\": \"scatter\", \"uid\": \"ebdc73b2-f596-4d57-9125-4ddd80bc7235\"}, {\"mode\": \"lines+markers\", \"name\": \"GradientBoosting\", \"x\": [\"accuracy\", \"auc\", \"MCC\", \"Precision\", \"Recall\"], \"y\": [0.9755008293990047, 0.920408117501962, 0.8758415135576019, 0.9317073170731708, 0.8488888888888889], \"type\": \"scatter\", \"uid\": \"14359d19-1ff4-4d23-bc8a-6491c7d558f8\"}, {\"marker\": {\"symbol\": \"x\"}, \"mode\": \"lines+markers\", \"name\": \"ExtraTree Classifier\", \"x\": [\"accuracy\", \"auc\", \"MCC\", \"Precision\", \"Recall\"], \"y\": [0.9767768278678065, 0.9216123684589881, 0.8821638594861492, 0.9421182266009852, 0.85], \"type\": \"scatter\", \"uid\": \"38c89096-ae07-486b-8878-3f4cfed0a7ef\"}, {\"marker\": {\"symbol\": \"x\"}, \"mode\": \"lines+markers\", \"name\": \"Bagging\", \"x\": [\"accuracy\", \"auc\", \"MCC\", \"Precision\", \"Recall\"], \"y\": [0.9761388286334056, 0.9241528518571909, 0.8793973998141795, 0.9300361881785284, 0.8566666666666667], \"type\": \"scatter\", \"uid\": \"313026d8-61c3-43d7-b5b9-36def950a73d\"}, {\"marker\": {\"symbol\": \"x\"}, \"mode\": \"lines+markers\", \"name\": \"Neural Network\", \"x\": [\"accuracy\", \"auc\", \"MCC\", \"Precision\", \"Recall\"], \"y\": [0.9724384330738803, 0.9241528518571909, 0.8622579093373915, 0.8958333333333334, 0.86], \"type\": \"scatter\", \"uid\": \"85c2c534-2729-4941-9863-4253d4e76f56\"}], {\"title\": \"Result comparision for Features selected in Section 1\", \"yaxis\": {\"dtick\": 0.05, \"tick0\": 0}}, {\"showLink\": true, \"linkText\": \"Export to plot.ly\", \"plotlyServerURL\": \"https://plot.ly\"})});</script><script type=\"text/javascript\">window.addEventListener(\"resize\", function(){window._Plotly.Plots.resize(document.getElementById(\"6065648b-2635-4ed6-b2cc-90bdb48e7ec5\"));});</script>"
      ],
      "text/vnd.plotly.v1+html": [
       "<div id=\"6065648b-2635-4ed6-b2cc-90bdb48e7ec5\" style=\"height: 525px; width: 100%;\" class=\"plotly-graph-div\"></div><script type=\"text/javascript\">require([\"plotly\"], function(Plotly) { window.PLOTLYENV=window.PLOTLYENV || {};window.PLOTLYENV.BASE_URL=\"https://plot.ly\";Plotly.newPlot(\"6065648b-2635-4ed6-b2cc-90bdb48e7ec5\", [{\"mode\": \"lines\", \"name\": \"KNN_model\", \"x\": [\"accuracy\", \"auc\", \"MCC\", \"Precision\", \"Recall\"], \"y\": [0.9724384330738803, 0.9181947848093155, 0.8611242212688706, 0.9061757719714965, 0.8477777777777777], \"type\": \"scatter\", \"uid\": \"f32e11ea-1659-42e8-835b-01ab356644bd\"}, {\"mode\": \"lines+markers\", \"name\": \"XGB\", \"x\": [\"accuracy\", \"auc\", \"MCC\", \"Precision\", \"Recall\"], \"y\": [0.9755008293990047, 0.9194411609245111, 0.8757165924415348, 0.9338235294117647, 0.8466666666666667], \"type\": \"scatter\", \"uid\": \"7ab0f248-f58b-4a57-8121-3842b1f05988\"}, {\"marker\": {\"symbol\": \"x\"}, \"mode\": \"lines+markers\", \"name\": \"Random Forest\", \"x\": [\"accuracy\", \"auc\", \"MCC\", \"Precision\", \"Recall\"], \"y\": [0.9795840244991706, 0.9319006775263082, 0.8968937047736508, 0.9479418886198547, 0.87], \"type\": \"scatter\", \"uid\": \"a44c82d1-2a08-4d2b-8967-7a83711ccade\"}, {\"mode\": \"lines\", \"name\": \"Ada Boost\", \"x\": [\"accuracy\", \"auc\", \"MCC\", \"Precision\", \"Recall\"], \"y\": [0.9697588362893964, 0.9128133358960807, 0.8478334036826639, 0.8913813459268005, 0.8388888888888889], \"type\": \"scatter\", \"uid\": \"ebdc73b2-f596-4d57-9125-4ddd80bc7235\"}, {\"mode\": \"lines+markers\", \"name\": \"GradientBoosting\", \"x\": [\"accuracy\", \"auc\", \"MCC\", \"Precision\", \"Recall\"], \"y\": [0.9755008293990047, 0.920408117501962, 0.8758415135576019, 0.9317073170731708, 0.8488888888888889], \"type\": \"scatter\", \"uid\": \"14359d19-1ff4-4d23-bc8a-6491c7d558f8\"}, {\"marker\": {\"symbol\": \"x\"}, \"mode\": \"lines+markers\", \"name\": \"ExtraTree Classifier\", \"x\": [\"accuracy\", \"auc\", \"MCC\", \"Precision\", \"Recall\"], \"y\": [0.9767768278678065, 0.9216123684589881, 0.8821638594861492, 0.9421182266009852, 0.85], \"type\": \"scatter\", \"uid\": \"38c89096-ae07-486b-8878-3f4cfed0a7ef\"}, {\"marker\": {\"symbol\": \"x\"}, \"mode\": \"lines+markers\", \"name\": \"Bagging\", \"x\": [\"accuracy\", \"auc\", \"MCC\", \"Precision\", \"Recall\"], \"y\": [0.9761388286334056, 0.9241528518571909, 0.8793973998141795, 0.9300361881785284, 0.8566666666666667], \"type\": \"scatter\", \"uid\": \"313026d8-61c3-43d7-b5b9-36def950a73d\"}, {\"marker\": {\"symbol\": \"x\"}, \"mode\": \"lines+markers\", \"name\": \"Neural Network\", \"x\": [\"accuracy\", \"auc\", \"MCC\", \"Precision\", \"Recall\"], \"y\": [0.9724384330738803, 0.9241528518571909, 0.8622579093373915, 0.8958333333333334, 0.86], \"type\": \"scatter\", \"uid\": \"85c2c534-2729-4941-9863-4253d4e76f56\"}], {\"title\": \"Result comparision for Features selected in Section 1\", \"yaxis\": {\"dtick\": 0.05, \"tick0\": 0}}, {\"showLink\": true, \"linkText\": \"Export to plot.ly\", \"plotlyServerURL\": \"https://plot.ly\"})});</script><script type=\"text/javascript\">window.addEventListener(\"resize\", function(){window._Plotly.Plots.resize(document.getElementById(\"6065648b-2635-4ed6-b2cc-90bdb48e7ec5\"));});</script>"
      ]
     },
     "metadata": {},
     "output_type": "display_data"
    }
   ],
   "source": [
    "trace0 = go.Scatter(x=table_80_50_test.iloc[0].index.values[[0,7,8,9,10]],\n",
    "                    y=table_80_50_test.iloc[0].values[[0,7,8,9,10]],\n",
    "                    mode = 'lines',\n",
    "                    name = 'KNN_model')\n",
    "\n",
    "\n",
    "trace2 = go.Scatter(x=table_80_50_test.iloc[1].index.values[[0,7,8,9,10]],\n",
    "                    y=table_80_50_test.iloc[1].values[[0,7,8,9,10]],\n",
    "                    mode = 'lines+markers',marker=dict(symbol='x'),\n",
    "                    name = 'Random Forest')\n",
    "\n",
    "\n",
    "trace3 = go.Scatter(x=table_80_50_test.iloc[2].index.values[[0,7,8,9,10]],\n",
    "                    y=table_80_50_test.iloc[2].values[[0,7,8,9,10]],\n",
    "                    mode = 'lines',\n",
    "                    name = 'Ada Boost')\n",
    "\n",
    "trace4 = go.Scatter(x=table_80_50_test.iloc[3].index.values[[0,7,8,9,10]],\n",
    "                    y=table_80_50_test.iloc[3].values[[0,7,8,9,10]],\n",
    "                    mode = 'lines+markers',\n",
    "                    name = 'GradientBoosting')\n",
    "\n",
    "trace5 = go.Scatter(x=table_80_50_test.iloc[4].index.values[[0,7,8,9,10]],\n",
    "                    y=table_80_50_test.iloc[4].values[[0,7,8,9,10]],\n",
    "                    mode = 'lines+markers',marker=dict(symbol='x'),\n",
    "                    name = 'ExtraTree Classifier')\n",
    "\n",
    "\n",
    "trace1 = go.Scatter(x=table_80_50_test.iloc[5].index.values[[0,7,8,9,10]],\n",
    "                    y=table_80_50_test.iloc[5].values[[0,7,8,9,10]],\n",
    "                    mode = 'lines+markers',\n",
    "                    name = 'XGB')\n",
    "\n",
    "\n",
    "trace6 = go.Scatter(x=table_80_50_test.iloc[6].index.values[[0,7,8,9,10]],\n",
    "                    y=table_80_50_test.iloc[6].values[[0,7,8,9,10]],\n",
    "                    mode = 'lines+markers',marker=dict(symbol='x'),\n",
    "                    name = 'Bagging')\n",
    "\n",
    "trace7 = go.Scatter(x=table_80_50_test.iloc[7].index.values[[0,7,8,9,10]],\n",
    "                    y=table_80_50_test.iloc[7].values[[0,7,8,9,10]],\n",
    "                    mode = 'lines+markers',marker=dict(symbol='x'),\n",
    "                    name = 'Neural Network')\n",
    "\n",
    "\n",
    "\n",
    "data = [trace0, trace1, trace2, trace3, trace4, trace5, trace6, trace7]\n",
    "layout = go.Layout(yaxis=dict(tick0=0,dtick=0.05),title='Result comparision for Features selected in Section 1')\n",
    "fig = go.Figure(data=data, layout=layout)\n",
    "\n",
    "iplot(fig, filename='Result')"
   ]
  },
  {
   "cell_type": "code",
   "execution_count": 10,
   "metadata": {},
   "outputs": [
    {
     "name": "stdout",
     "output_type": "stream",
     "text": [
      "Training Results\n"
     ]
    },
    {
     "data": {
      "text/html": [
       "<div>\n",
       "<style scoped>\n",
       "    .dataframe tbody tr th:only-of-type {\n",
       "        vertical-align: middle;\n",
       "    }\n",
       "\n",
       "    .dataframe tbody tr th {\n",
       "        vertical-align: top;\n",
       "    }\n",
       "\n",
       "    .dataframe thead th {\n",
       "        text-align: right;\n",
       "    }\n",
       "</style>\n",
       "<table border=\"1\" class=\"dataframe\">\n",
       "  <thead>\n",
       "    <tr style=\"text-align: right;\">\n",
       "      <th></th>\n",
       "      <th>accuracy</th>\n",
       "      <th>TP</th>\n",
       "      <th>TN</th>\n",
       "      <th>FP</th>\n",
       "      <th>FN</th>\n",
       "      <th>FPR</th>\n",
       "      <th>FNR</th>\n",
       "    </tr>\n",
       "    <tr>\n",
       "      <th>index</th>\n",
       "      <th></th>\n",
       "      <th></th>\n",
       "      <th></th>\n",
       "      <th></th>\n",
       "      <th></th>\n",
       "      <th></th>\n",
       "      <th></th>\n",
       "    </tr>\n",
       "  </thead>\n",
       "  <tbody>\n",
       "    <tr>\n",
       "      <th>KNeighborsClassifier</th>\n",
       "      <td>0.979519</td>\n",
       "      <td>3098.0</td>\n",
       "      <td>27606.0</td>\n",
       "      <td>199.0</td>\n",
       "      <td>443.0</td>\n",
       "      <td>0.007157</td>\n",
       "      <td>0.125106</td>\n",
       "    </tr>\n",
       "    <tr>\n",
       "      <th>RandomForestClassifier</th>\n",
       "      <td>0.996140</td>\n",
       "      <td>3442.0</td>\n",
       "      <td>27783.0</td>\n",
       "      <td>22.0</td>\n",
       "      <td>99.0</td>\n",
       "      <td>0.000791</td>\n",
       "      <td>0.027958</td>\n",
       "    </tr>\n",
       "    <tr>\n",
       "      <th>AdaBoostClassifier</th>\n",
       "      <td>0.974000</td>\n",
       "      <td>3049.0</td>\n",
       "      <td>27482.0</td>\n",
       "      <td>323.0</td>\n",
       "      <td>492.0</td>\n",
       "      <td>0.011617</td>\n",
       "      <td>0.138944</td>\n",
       "    </tr>\n",
       "    <tr>\n",
       "      <th>GradientBoostingClassifier</th>\n",
       "      <td>0.979870</td>\n",
       "      <td>3083.0</td>\n",
       "      <td>27632.0</td>\n",
       "      <td>173.0</td>\n",
       "      <td>458.0</td>\n",
       "      <td>0.006222</td>\n",
       "      <td>0.129342</td>\n",
       "    </tr>\n",
       "    <tr>\n",
       "      <th>ExtraTreeClassifier</th>\n",
       "      <td>0.997735</td>\n",
       "      <td>3473.0</td>\n",
       "      <td>27802.0</td>\n",
       "      <td>3.0</td>\n",
       "      <td>68.0</td>\n",
       "      <td>0.000108</td>\n",
       "      <td>0.019204</td>\n",
       "    </tr>\n",
       "    <tr>\n",
       "      <th>XGB</th>\n",
       "      <td>0.979232</td>\n",
       "      <td>3062.0</td>\n",
       "      <td>27633.0</td>\n",
       "      <td>172.0</td>\n",
       "      <td>479.0</td>\n",
       "      <td>0.006186</td>\n",
       "      <td>0.135273</td>\n",
       "    </tr>\n",
       "    <tr>\n",
       "      <th>BaggingClassifier</th>\n",
       "      <td>0.995885</td>\n",
       "      <td>3443.0</td>\n",
       "      <td>27774.0</td>\n",
       "      <td>31.0</td>\n",
       "      <td>98.0</td>\n",
       "      <td>0.001115</td>\n",
       "      <td>0.027676</td>\n",
       "    </tr>\n",
       "    <tr>\n",
       "      <th>Neural Network-1</th>\n",
       "      <td>0.992439</td>\n",
       "      <td>3391.0</td>\n",
       "      <td>27718.0</td>\n",
       "      <td>87.0</td>\n",
       "      <td>150.0</td>\n",
       "      <td>0.003129</td>\n",
       "      <td>0.042361</td>\n",
       "    </tr>\n",
       "  </tbody>\n",
       "</table>\n",
       "</div>"
      ],
      "text/plain": [
       "                            accuracy      TP       TN     FP     FN       FPR  \\\n",
       "index                                                                           \n",
       "KNeighborsClassifier        0.979519  3098.0  27606.0  199.0  443.0  0.007157   \n",
       "RandomForestClassifier      0.996140  3442.0  27783.0   22.0   99.0  0.000791   \n",
       "AdaBoostClassifier          0.974000  3049.0  27482.0  323.0  492.0  0.011617   \n",
       "GradientBoostingClassifier  0.979870  3083.0  27632.0  173.0  458.0  0.006222   \n",
       "ExtraTreeClassifier         0.997735  3473.0  27802.0    3.0   68.0  0.000108   \n",
       "XGB                         0.979232  3062.0  27633.0  172.0  479.0  0.006186   \n",
       "BaggingClassifier           0.995885  3443.0  27774.0   31.0   98.0  0.001115   \n",
       "Neural Network-1            0.992439  3391.0  27718.0   87.0  150.0  0.003129   \n",
       "\n",
       "                                 FNR  \n",
       "index                                 \n",
       "KNeighborsClassifier        0.125106  \n",
       "RandomForestClassifier      0.027958  \n",
       "AdaBoostClassifier          0.138944  \n",
       "GradientBoostingClassifier  0.129342  \n",
       "ExtraTreeClassifier         0.019204  \n",
       "XGB                         0.135273  \n",
       "BaggingClassifier           0.027676  \n",
       "Neural Network-1            0.042361  "
      ]
     },
     "metadata": {},
     "output_type": "display_data"
    },
    {
     "name": "stdout",
     "output_type": "stream",
     "text": [
      "Test Results\n"
     ]
    },
    {
     "data": {
      "text/html": [
       "<div>\n",
       "<style scoped>\n",
       "    .dataframe tbody tr th:only-of-type {\n",
       "        vertical-align: middle;\n",
       "    }\n",
       "\n",
       "    .dataframe tbody tr th {\n",
       "        vertical-align: top;\n",
       "    }\n",
       "\n",
       "    .dataframe thead th {\n",
       "        text-align: right;\n",
       "    }\n",
       "</style>\n",
       "<table border=\"1\" class=\"dataframe\">\n",
       "  <thead>\n",
       "    <tr style=\"text-align: right;\">\n",
       "      <th></th>\n",
       "      <th>accuracy</th>\n",
       "      <th>TP</th>\n",
       "      <th>TN</th>\n",
       "      <th>FP</th>\n",
       "      <th>FN</th>\n",
       "      <th>FPR</th>\n",
       "      <th>FNR</th>\n",
       "      <th>auc</th>\n",
       "      <th>MCC</th>\n",
       "      <th>Precision</th>\n",
       "      <th>Recall</th>\n",
       "    </tr>\n",
       "    <tr>\n",
       "      <th>index</th>\n",
       "      <th></th>\n",
       "      <th></th>\n",
       "      <th></th>\n",
       "      <th></th>\n",
       "      <th></th>\n",
       "      <th></th>\n",
       "      <th></th>\n",
       "      <th></th>\n",
       "      <th></th>\n",
       "      <th></th>\n",
       "      <th></th>\n",
       "    </tr>\n",
       "  </thead>\n",
       "  <tbody>\n",
       "    <tr>\n",
       "      <th>KNeighborsClassifier</th>\n",
       "      <td>0.972438</td>\n",
       "      <td>763.0</td>\n",
       "      <td>6858.0</td>\n",
       "      <td>79.0</td>\n",
       "      <td>137.0</td>\n",
       "      <td>0.011388</td>\n",
       "      <td>0.152222</td>\n",
       "      <td>0.918195</td>\n",
       "      <td>0.861124</td>\n",
       "      <td>0.906176</td>\n",
       "      <td>0.847778</td>\n",
       "    </tr>\n",
       "    <tr>\n",
       "      <th>RandomForestClassifier</th>\n",
       "      <td>0.979584</td>\n",
       "      <td>783.0</td>\n",
       "      <td>6894.0</td>\n",
       "      <td>43.0</td>\n",
       "      <td>117.0</td>\n",
       "      <td>0.006199</td>\n",
       "      <td>0.130000</td>\n",
       "      <td>0.931901</td>\n",
       "      <td>0.896894</td>\n",
       "      <td>0.947942</td>\n",
       "      <td>0.870000</td>\n",
       "    </tr>\n",
       "    <tr>\n",
       "      <th>AdaBoostClassifier</th>\n",
       "      <td>0.969759</td>\n",
       "      <td>755.0</td>\n",
       "      <td>6845.0</td>\n",
       "      <td>92.0</td>\n",
       "      <td>145.0</td>\n",
       "      <td>0.013262</td>\n",
       "      <td>0.161111</td>\n",
       "      <td>0.912813</td>\n",
       "      <td>0.847833</td>\n",
       "      <td>0.891381</td>\n",
       "      <td>0.838889</td>\n",
       "    </tr>\n",
       "    <tr>\n",
       "      <th>GradientBoostingClassifier</th>\n",
       "      <td>0.975501</td>\n",
       "      <td>764.0</td>\n",
       "      <td>6881.0</td>\n",
       "      <td>56.0</td>\n",
       "      <td>136.0</td>\n",
       "      <td>0.008073</td>\n",
       "      <td>0.151111</td>\n",
       "      <td>0.920408</td>\n",
       "      <td>0.875842</td>\n",
       "      <td>0.931707</td>\n",
       "      <td>0.848889</td>\n",
       "    </tr>\n",
       "    <tr>\n",
       "      <th>ExtraTreeClassifier</th>\n",
       "      <td>0.976777</td>\n",
       "      <td>765.0</td>\n",
       "      <td>6890.0</td>\n",
       "      <td>47.0</td>\n",
       "      <td>135.0</td>\n",
       "      <td>0.006775</td>\n",
       "      <td>0.150000</td>\n",
       "      <td>0.921612</td>\n",
       "      <td>0.882164</td>\n",
       "      <td>0.942118</td>\n",
       "      <td>0.850000</td>\n",
       "    </tr>\n",
       "    <tr>\n",
       "      <th>XGB</th>\n",
       "      <td>0.975501</td>\n",
       "      <td>762.0</td>\n",
       "      <td>6883.0</td>\n",
       "      <td>54.0</td>\n",
       "      <td>138.0</td>\n",
       "      <td>0.007784</td>\n",
       "      <td>0.153333</td>\n",
       "      <td>0.919441</td>\n",
       "      <td>0.875717</td>\n",
       "      <td>0.933824</td>\n",
       "      <td>0.846667</td>\n",
       "    </tr>\n",
       "    <tr>\n",
       "      <th>BaggingClassifier</th>\n",
       "      <td>0.976139</td>\n",
       "      <td>771.0</td>\n",
       "      <td>6879.0</td>\n",
       "      <td>58.0</td>\n",
       "      <td>129.0</td>\n",
       "      <td>0.008361</td>\n",
       "      <td>0.143333</td>\n",
       "      <td>0.924153</td>\n",
       "      <td>0.879397</td>\n",
       "      <td>0.930036</td>\n",
       "      <td>0.856667</td>\n",
       "    </tr>\n",
       "    <tr>\n",
       "      <th>Neural Network-1</th>\n",
       "      <td>0.972438</td>\n",
       "      <td>774.0</td>\n",
       "      <td>6847.0</td>\n",
       "      <td>90.0</td>\n",
       "      <td>126.0</td>\n",
       "      <td>0.012974</td>\n",
       "      <td>0.140000</td>\n",
       "      <td>0.924153</td>\n",
       "      <td>0.862258</td>\n",
       "      <td>0.895833</td>\n",
       "      <td>0.860000</td>\n",
       "    </tr>\n",
       "  </tbody>\n",
       "</table>\n",
       "</div>"
      ],
      "text/plain": [
       "                            accuracy     TP      TN    FP     FN       FPR  \\\n",
       "index                                                                        \n",
       "KNeighborsClassifier        0.972438  763.0  6858.0  79.0  137.0  0.011388   \n",
       "RandomForestClassifier      0.979584  783.0  6894.0  43.0  117.0  0.006199   \n",
       "AdaBoostClassifier          0.969759  755.0  6845.0  92.0  145.0  0.013262   \n",
       "GradientBoostingClassifier  0.975501  764.0  6881.0  56.0  136.0  0.008073   \n",
       "ExtraTreeClassifier         0.976777  765.0  6890.0  47.0  135.0  0.006775   \n",
       "XGB                         0.975501  762.0  6883.0  54.0  138.0  0.007784   \n",
       "BaggingClassifier           0.976139  771.0  6879.0  58.0  129.0  0.008361   \n",
       "Neural Network-1            0.972438  774.0  6847.0  90.0  126.0  0.012974   \n",
       "\n",
       "                                 FNR       auc       MCC  Precision    Recall  \n",
       "index                                                                          \n",
       "KNeighborsClassifier        0.152222  0.918195  0.861124   0.906176  0.847778  \n",
       "RandomForestClassifier      0.130000  0.931901  0.896894   0.947942  0.870000  \n",
       "AdaBoostClassifier          0.161111  0.912813  0.847833   0.891381  0.838889  \n",
       "GradientBoostingClassifier  0.151111  0.920408  0.875842   0.931707  0.848889  \n",
       "ExtraTreeClassifier         0.150000  0.921612  0.882164   0.942118  0.850000  \n",
       "XGB                         0.153333  0.919441  0.875717   0.933824  0.846667  \n",
       "BaggingClassifier           0.143333  0.924153  0.879397   0.930036  0.856667  \n",
       "Neural Network-1            0.140000  0.924153  0.862258   0.895833  0.860000  "
      ]
     },
     "metadata": {},
     "output_type": "display_data"
    }
   ],
   "source": [
    "table_80_50_train['index']=ind_columns\n",
    "table_80_50_test['index']=ind_columns\n",
    "\n",
    "\n",
    "table_80_50_test.set_index(['index'],drop=True,inplace=True)\n",
    "table_80_50_train.set_index(['index'],drop=True,inplace=True)\n",
    "\n",
    "print(\"Training Results\")\n",
    "display(table_80_50_train)\n",
    "print(\"Test Results\")\n",
    "display(table_80_50_test)"
   ]
  },
  {
   "cell_type": "markdown",
   "metadata": {},
   "source": [
    "### <a id='1.B' style=\"text-decoration : none; color : #000000;\"> B. Average Feature Importances</a>"
   ]
  },
  {
   "cell_type": "code",
   "execution_count": 11,
   "metadata": {},
   "outputs": [
    {
     "data": {
      "application/vnd.plotly.v1+json": {
       "config": {
        "linkText": "Export to plot.ly",
        "plotlyServerURL": "https://plot.ly",
        "showLink": true
       },
       "data": [
        {
         "marker": {
          "color": "rgb(158,202,225)",
          "line": {
           "color": "rgb(8,48,107)",
           "width": 1.5
          }
         },
         "opacity": 0.6,
         "orientation": "h",
         "text": [
          0.1311,
          0.1285,
          0.1137,
          0.0734,
          0.0494,
          0.0383,
          0.0379,
          0.0322,
          0.0301,
          0.0242,
          0.0236,
          0.0235,
          0.0215,
          0.0196,
          0.019,
          0.0178,
          0.0168,
          0.0158,
          0.0155,
          0.0154,
          0.0146,
          0.014,
          0.0136,
          0.013,
          0.0124,
          0.0121,
          0.0115,
          0.0113,
          0.0102,
          0.009,
          0.0089,
          0.0087,
          0.0069,
          0.0063
         ],
         "textposition": "outside",
         "type": "bar",
         "uid": "39b6b766-894f-4969-8e77-36b3c3ea64f4",
         "x": [
          0.13111346933391926,
          0.1285333763570952,
          0.11374195773754918,
          0.07343444651100638,
          0.04941130744946294,
          0.03825321186726745,
          0.03785586687884105,
          0.032211414032533504,
          0.030115694173466823,
          0.024198611567359356,
          0.023552636554558852,
          0.023548342565438474,
          0.021538090473435557,
          0.01958663585637808,
          0.019031555350314148,
          0.01777916678891047,
          0.016807284370145874,
          0.01576123725423755,
          0.015469659641514885,
          0.015381222935833347,
          0.014649204558145995,
          0.014028664923336839,
          0.013561538519090467,
          0.013010166618736035,
          0.012428543905891942,
          0.012059900158874814,
          0.011503404348162905,
          0.011251535737749882,
          0.01023626719473543,
          0.00900838558951742,
          0.00891420501051134,
          0.008749873458392853,
          0.00693027656628864,
          0.006342847573942238
         ],
         "y": [
          "total_count",
          "url_length",
          "url_extensions",
          "url_char_w",
          "url_char_.",
          "http_header_content-encoding_gzip",
          "a_href_relative",
          "meta_count",
          "a_href_out_of_domain",
          "http_header_server_apache",
          "url_char_z",
          "link_type_text/css",
          "img_src_http",
          "url_char_i",
          "p_count",
          "push",
          "url_char_l",
          "url_extension_.com",
          "url_char_y",
          "http_header_vary_user-agent",
          "total_href",
          "a_href_https",
          "link_href_out_of_domain",
          "http_header_cache-control_set_max-age",
          "url_char_p",
          "form_action_http",
          "a_count",
          "http_header_transfer-encoding_chunked",
          "url_char_f",
          "script_async_true",
          "http_header_via_1.1",
          "a_href_http",
          "center_count",
          "iframe_src_.html"
         ]
        }
       ],
       "layout": {
        "autosize": false,
        "height": 1000,
        "width": 1000,
        "xaxis": {
         "tickfont": {
          "color": "black",
          "size": 12
         },
         "title": "Feature Importances"
        },
        "yaxis": {
         "automargin": true
        }
       }
      },
      "text/html": [
       "<div id=\"0d6876f2-6daf-419e-a2b6-1c5672f3450c\" style=\"height: 1000px; width: 1000px;\" class=\"plotly-graph-div\"></div><script type=\"text/javascript\">require([\"plotly\"], function(Plotly) { window.PLOTLYENV=window.PLOTLYENV || {};window.PLOTLYENV.BASE_URL=\"https://plot.ly\";Plotly.newPlot(\"0d6876f2-6daf-419e-a2b6-1c5672f3450c\", [{\"marker\": {\"color\": \"rgb(158,202,225)\", \"line\": {\"color\": \"rgb(8,48,107)\", \"width\": 1.5}}, \"opacity\": 0.6, \"orientation\": \"h\", \"text\": [0.1311, 0.1285, 0.1137, 0.0734, 0.0494, 0.0383, 0.0379, 0.0322, 0.0301, 0.0242, 0.0236, 0.0235, 0.0215, 0.0196, 0.019, 0.0178, 0.0168, 0.0158, 0.0155, 0.0154, 0.0146, 0.014, 0.0136, 0.013, 0.0124, 0.0121, 0.0115, 0.0113, 0.0102, 0.009, 0.0089, 0.0087, 0.0069, 0.0063], \"textposition\": \"outside\", \"x\": [0.13111346933391926, 0.1285333763570952, 0.11374195773754918, 0.07343444651100638, 0.04941130744946294, 0.03825321186726745, 0.03785586687884105, 0.032211414032533504, 0.030115694173466823, 0.024198611567359356, 0.023552636554558852, 0.023548342565438474, 0.021538090473435557, 0.01958663585637808, 0.019031555350314148, 0.01777916678891047, 0.016807284370145874, 0.01576123725423755, 0.015469659641514885, 0.015381222935833347, 0.014649204558145995, 0.014028664923336839, 0.013561538519090467, 0.013010166618736035, 0.012428543905891942, 0.012059900158874814, 0.011503404348162905, 0.011251535737749882, 0.01023626719473543, 0.00900838558951742, 0.00891420501051134, 0.008749873458392853, 0.00693027656628864, 0.006342847573942238], \"y\": [\"total_count\", \"url_length\", \"url_extensions\", \"url_char_w\", \"url_char_.\", \"http_header_content-encoding_gzip\", \"a_href_relative\", \"meta_count\", \"a_href_out_of_domain\", \"http_header_server_apache\", \"url_char_z\", \"link_type_text/css\", \"img_src_http\", \"url_char_i\", \"p_count\", \"push\", \"url_char_l\", \"url_extension_.com\", \"url_char_y\", \"http_header_vary_user-agent\", \"total_href\", \"a_href_https\", \"link_href_out_of_domain\", \"http_header_cache-control_set_max-age\", \"url_char_p\", \"form_action_http\", \"a_count\", \"http_header_transfer-encoding_chunked\", \"url_char_f\", \"script_async_true\", \"http_header_via_1.1\", \"a_href_http\", \"center_count\", \"iframe_src_.html\"], \"type\": \"bar\", \"uid\": \"39b6b766-894f-4969-8e77-36b3c3ea64f4\"}], {\"autosize\": false, \"height\": 1000, \"width\": 1000, \"xaxis\": {\"tickfont\": {\"color\": \"black\", \"size\": 12}, \"title\": \"Feature Importances\"}, \"yaxis\": {\"automargin\": true}}, {\"showLink\": true, \"linkText\": \"Export to plot.ly\", \"plotlyServerURL\": \"https://plot.ly\"})});</script>"
      ],
      "text/vnd.plotly.v1+html": [
       "<div id=\"0d6876f2-6daf-419e-a2b6-1c5672f3450c\" style=\"height: 1000px; width: 1000px;\" class=\"plotly-graph-div\"></div><script type=\"text/javascript\">require([\"plotly\"], function(Plotly) { window.PLOTLYENV=window.PLOTLYENV || {};window.PLOTLYENV.BASE_URL=\"https://plot.ly\";Plotly.newPlot(\"0d6876f2-6daf-419e-a2b6-1c5672f3450c\", [{\"marker\": {\"color\": \"rgb(158,202,225)\", \"line\": {\"color\": \"rgb(8,48,107)\", \"width\": 1.5}}, \"opacity\": 0.6, \"orientation\": \"h\", \"text\": [0.1311, 0.1285, 0.1137, 0.0734, 0.0494, 0.0383, 0.0379, 0.0322, 0.0301, 0.0242, 0.0236, 0.0235, 0.0215, 0.0196, 0.019, 0.0178, 0.0168, 0.0158, 0.0155, 0.0154, 0.0146, 0.014, 0.0136, 0.013, 0.0124, 0.0121, 0.0115, 0.0113, 0.0102, 0.009, 0.0089, 0.0087, 0.0069, 0.0063], \"textposition\": \"outside\", \"x\": [0.13111346933391926, 0.1285333763570952, 0.11374195773754918, 0.07343444651100638, 0.04941130744946294, 0.03825321186726745, 0.03785586687884105, 0.032211414032533504, 0.030115694173466823, 0.024198611567359356, 0.023552636554558852, 0.023548342565438474, 0.021538090473435557, 0.01958663585637808, 0.019031555350314148, 0.01777916678891047, 0.016807284370145874, 0.01576123725423755, 0.015469659641514885, 0.015381222935833347, 0.014649204558145995, 0.014028664923336839, 0.013561538519090467, 0.013010166618736035, 0.012428543905891942, 0.012059900158874814, 0.011503404348162905, 0.011251535737749882, 0.01023626719473543, 0.00900838558951742, 0.00891420501051134, 0.008749873458392853, 0.00693027656628864, 0.006342847573942238], \"y\": [\"total_count\", \"url_length\", \"url_extensions\", \"url_char_w\", \"url_char_.\", \"http_header_content-encoding_gzip\", \"a_href_relative\", \"meta_count\", \"a_href_out_of_domain\", \"http_header_server_apache\", \"url_char_z\", \"link_type_text/css\", \"img_src_http\", \"url_char_i\", \"p_count\", \"push\", \"url_char_l\", \"url_extension_.com\", \"url_char_y\", \"http_header_vary_user-agent\", \"total_href\", \"a_href_https\", \"link_href_out_of_domain\", \"http_header_cache-control_set_max-age\", \"url_char_p\", \"form_action_http\", \"a_count\", \"http_header_transfer-encoding_chunked\", \"url_char_f\", \"script_async_true\", \"http_header_via_1.1\", \"a_href_http\", \"center_count\", \"iframe_src_.html\"], \"type\": \"bar\", \"uid\": \"39b6b766-894f-4969-8e77-36b3c3ea64f4\"}], {\"autosize\": false, \"height\": 1000, \"width\": 1000, \"xaxis\": {\"tickfont\": {\"color\": \"black\", \"size\": 12}, \"title\": \"Feature Importances\"}, \"yaxis\": {\"automargin\": true}}, {\"showLink\": true, \"linkText\": \"Export to plot.ly\", \"plotlyServerURL\": \"https://plot.ly\"})});</script>"
      ]
     },
     "metadata": {},
     "output_type": "display_data"
    }
   ],
   "source": [
    "feat_impt_plot(np.average(feat_imp,axis=0),columns)"
   ]
  },
  {
   "cell_type": "markdown",
   "metadata": {},
   "source": [
    "### <a id='2' style=\"text-decoration : none; color : #000000;\"> 2. OverSampling </a>"
   ]
  },
  {
   "cell_type": "code",
   "execution_count": 12,
   "metadata": {
    "scrolled": false
   },
   "outputs": [
    {
     "name": "stdout",
     "output_type": "stream",
     "text": [
      "\u001b[1mK-Nearest Neighbors\u001b[0m\n",
      "Accuracy of the model for training data is: 0.9803092968890488\n",
      "Confusion Matrix for training data is:\n"
     ]
    },
    {
     "data": {
      "text/plain": [
       "Predicted  False   True  __all__\n",
       "Actual                          \n",
       "False      26847    958    27805\n",
       "True         137  27668    27805\n",
       "__all__    26984  28626    55610"
      ]
     },
     "metadata": {},
     "output_type": "display_data"
    },
    {
     "name": "stdout",
     "output_type": "stream",
     "text": [
      "Accuracy of the model for test data is: 0.9420696695163966\n",
      "Confusion Matrix for test data is:\n"
     ]
    },
    {
     "data": {
      "text/plain": [
       "Predicted  False  True  __all__\n",
       "Actual                         \n",
       "False       6570   367     6937\n",
       "True          87   813      900\n",
       "__all__     6657  1180     7837"
      ]
     },
     "metadata": {},
     "output_type": "display_data"
    },
    {
     "name": "stdout",
     "output_type": "stream",
     "text": [
      "\n",
      "\n",
      "\u001b[1mRandomForest Classifier\u001b[0m\n",
      "Accuracy of the model for training data is: 0.9979140442366481\n",
      "Confusion Matrix for training data is:\n"
     ]
    },
    {
     "data": {
      "text/plain": [
       "Predicted  False   True  __all__\n",
       "Actual                          \n",
       "False      27764     41    27805\n",
       "True          75  27730    27805\n",
       "__all__    27839  27771    55610"
      ]
     },
     "metadata": {},
     "output_type": "display_data"
    },
    {
     "name": "stdout",
     "output_type": "stream",
     "text": [
      "Accuracy of the model for test data is: 0.9770320275615669\n",
      "Confusion Matrix for test data is:\n"
     ]
    },
    {
     "data": {
      "text/plain": [
       "Predicted  False  True  __all__\n",
       "Actual                         \n",
       "False       6868    69     6937\n",
       "True         111   789      900\n",
       "__all__     6979   858     7837"
      ]
     },
     "metadata": {},
     "output_type": "display_data"
    },
    {
     "data": {
      "application/vnd.plotly.v1+json": {
       "config": {
        "linkText": "Export to plot.ly",
        "plotlyServerURL": "https://plot.ly",
        "showLink": true
       },
       "data": [
        {
         "marker": {
          "color": "rgb(158,202,225)",
          "line": {
           "color": "rgb(8,48,107)",
           "width": 1.5
          }
         },
         "opacity": 0.6,
         "orientation": "h",
         "text": [
          0.1811,
          0.1313,
          0.0731,
          0.0714,
          0.0698,
          0.0654,
          0.0654,
          0.0604,
          0.0506,
          0.0286,
          0.0286,
          0.0169,
          0.0165,
          0.0136,
          0.0119,
          0.0108,
          0.0092,
          0.0087,
          0.0083,
          0.0078,
          0.0076,
          0.0076,
          0.0073,
          0.0071,
          0.0071,
          0.0069,
          0.0068,
          0.0048,
          0.0046,
          0.0045,
          0.0023,
          0.0021,
          0.0015,
          0.0002
         ],
         "textposition": "outside",
         "type": "bar",
         "uid": "5611875a-bf0f-4f94-9485-98401d748ccb",
         "x": [
          0.18108296218414732,
          0.1312572952144377,
          0.07306093127604428,
          0.07141568815196762,
          0.06975875028059021,
          0.06542519736508595,
          0.06542469952662774,
          0.060410694093359606,
          0.0506195768006321,
          0.028645018468466142,
          0.028591394015637546,
          0.01690291168537015,
          0.016527249852230783,
          0.013610606417212318,
          0.011937526205269467,
          0.010756221040092337,
          0.009246554293203426,
          0.008722881952414508,
          0.00828655113742142,
          0.007785119458707385,
          0.007637190928886222,
          0.007612443041128623,
          0.0072878219414378356,
          0.007115810388487934,
          0.007051173902955607,
          0.006870670075698517,
          0.00684269424038165,
          0.004809204675445751,
          0.004606966334709635,
          0.004534555382149778,
          0.0023246205072268017,
          0.0021103251428256967,
          0.0015038144759881658,
          0.00022487954375979157
         ],
         "y": [
          "meta_count",
          "total_count",
          "url_length",
          "a_count",
          "link_type_text/css",
          "a_href_relative",
          "link_href_out_of_domain",
          "url_extensions",
          "script_async_true",
          "url_char_.",
          "url_char_w",
          "url_char_i",
          "total_href",
          "url_char_l",
          "http_header_transfer-encoding_chunked",
          "http_header_server_apache",
          "http_header_content-encoding_gzip",
          "push",
          "url_extension_.com",
          "img_src_http",
          "http_header_cache-control_set_max-age",
          "url_char_z",
          "a_href_out_of_domain",
          "url_char_p",
          "p_count",
          "a_href_http",
          "a_href_https",
          "url_char_y",
          "url_char_f",
          "http_header_vary_user-agent",
          "center_count",
          "form_action_http",
          "http_header_via_1.1",
          "iframe_src_.html"
         ]
        }
       ],
       "layout": {
        "autosize": false,
        "height": 1000,
        "width": 1000,
        "xaxis": {
         "tickfont": {
          "color": "black",
          "size": 12
         },
         "title": "Feature Importances"
        },
        "yaxis": {
         "automargin": true
        }
       }
      },
      "text/html": [
       "<div id=\"7c96e22e-a1df-4226-adc0-9db5ed7ab333\" style=\"height: 1000px; width: 1000px;\" class=\"plotly-graph-div\"></div><script type=\"text/javascript\">require([\"plotly\"], function(Plotly) { window.PLOTLYENV=window.PLOTLYENV || {};window.PLOTLYENV.BASE_URL=\"https://plot.ly\";Plotly.newPlot(\"7c96e22e-a1df-4226-adc0-9db5ed7ab333\", [{\"marker\": {\"color\": \"rgb(158,202,225)\", \"line\": {\"color\": \"rgb(8,48,107)\", \"width\": 1.5}}, \"opacity\": 0.6, \"orientation\": \"h\", \"text\": [0.1811, 0.1313, 0.0731, 0.0714, 0.0698, 0.0654, 0.0654, 0.0604, 0.0506, 0.0286, 0.0286, 0.0169, 0.0165, 0.0136, 0.0119, 0.0108, 0.0092, 0.0087, 0.0083, 0.0078, 0.0076, 0.0076, 0.0073, 0.0071, 0.0071, 0.0069, 0.0068, 0.0048, 0.0046, 0.0045, 0.0023, 0.0021, 0.0015, 0.0002], \"textposition\": \"outside\", \"x\": [0.18108296218414732, 0.1312572952144377, 0.07306093127604428, 0.07141568815196762, 0.06975875028059021, 0.06542519736508595, 0.06542469952662774, 0.060410694093359606, 0.0506195768006321, 0.028645018468466142, 0.028591394015637546, 0.01690291168537015, 0.016527249852230783, 0.013610606417212318, 0.011937526205269467, 0.010756221040092337, 0.009246554293203426, 0.008722881952414508, 0.00828655113742142, 0.007785119458707385, 0.007637190928886222, 0.007612443041128623, 0.0072878219414378356, 0.007115810388487934, 0.007051173902955607, 0.006870670075698517, 0.00684269424038165, 0.004809204675445751, 0.004606966334709635, 0.004534555382149778, 0.0023246205072268017, 0.0021103251428256967, 0.0015038144759881658, 0.00022487954375979157], \"y\": [\"meta_count\", \"total_count\", \"url_length\", \"a_count\", \"link_type_text/css\", \"a_href_relative\", \"link_href_out_of_domain\", \"url_extensions\", \"script_async_true\", \"url_char_.\", \"url_char_w\", \"url_char_i\", \"total_href\", \"url_char_l\", \"http_header_transfer-encoding_chunked\", \"http_header_server_apache\", \"http_header_content-encoding_gzip\", \"push\", \"url_extension_.com\", \"img_src_http\", \"http_header_cache-control_set_max-age\", \"url_char_z\", \"a_href_out_of_domain\", \"url_char_p\", \"p_count\", \"a_href_http\", \"a_href_https\", \"url_char_y\", \"url_char_f\", \"http_header_vary_user-agent\", \"center_count\", \"form_action_http\", \"http_header_via_1.1\", \"iframe_src_.html\"], \"type\": \"bar\", \"uid\": \"5611875a-bf0f-4f94-9485-98401d748ccb\"}], {\"autosize\": false, \"height\": 1000, \"width\": 1000, \"xaxis\": {\"tickfont\": {\"color\": \"black\", \"size\": 12}, \"title\": \"Feature Importances\"}, \"yaxis\": {\"automargin\": true}}, {\"showLink\": true, \"linkText\": \"Export to plot.ly\", \"plotlyServerURL\": \"https://plot.ly\"})});</script>"
      ],
      "text/vnd.plotly.v1+html": [
       "<div id=\"7c96e22e-a1df-4226-adc0-9db5ed7ab333\" style=\"height: 1000px; width: 1000px;\" class=\"plotly-graph-div\"></div><script type=\"text/javascript\">require([\"plotly\"], function(Plotly) { window.PLOTLYENV=window.PLOTLYENV || {};window.PLOTLYENV.BASE_URL=\"https://plot.ly\";Plotly.newPlot(\"7c96e22e-a1df-4226-adc0-9db5ed7ab333\", [{\"marker\": {\"color\": \"rgb(158,202,225)\", \"line\": {\"color\": \"rgb(8,48,107)\", \"width\": 1.5}}, \"opacity\": 0.6, \"orientation\": \"h\", \"text\": [0.1811, 0.1313, 0.0731, 0.0714, 0.0698, 0.0654, 0.0654, 0.0604, 0.0506, 0.0286, 0.0286, 0.0169, 0.0165, 0.0136, 0.0119, 0.0108, 0.0092, 0.0087, 0.0083, 0.0078, 0.0076, 0.0076, 0.0073, 0.0071, 0.0071, 0.0069, 0.0068, 0.0048, 0.0046, 0.0045, 0.0023, 0.0021, 0.0015, 0.0002], \"textposition\": \"outside\", \"x\": [0.18108296218414732, 0.1312572952144377, 0.07306093127604428, 0.07141568815196762, 0.06975875028059021, 0.06542519736508595, 0.06542469952662774, 0.060410694093359606, 0.0506195768006321, 0.028645018468466142, 0.028591394015637546, 0.01690291168537015, 0.016527249852230783, 0.013610606417212318, 0.011937526205269467, 0.010756221040092337, 0.009246554293203426, 0.008722881952414508, 0.00828655113742142, 0.007785119458707385, 0.007637190928886222, 0.007612443041128623, 0.0072878219414378356, 0.007115810388487934, 0.007051173902955607, 0.006870670075698517, 0.00684269424038165, 0.004809204675445751, 0.004606966334709635, 0.004534555382149778, 0.0023246205072268017, 0.0021103251428256967, 0.0015038144759881658, 0.00022487954375979157], \"y\": [\"meta_count\", \"total_count\", \"url_length\", \"a_count\", \"link_type_text/css\", \"a_href_relative\", \"link_href_out_of_domain\", \"url_extensions\", \"script_async_true\", \"url_char_.\", \"url_char_w\", \"url_char_i\", \"total_href\", \"url_char_l\", \"http_header_transfer-encoding_chunked\", \"http_header_server_apache\", \"http_header_content-encoding_gzip\", \"push\", \"url_extension_.com\", \"img_src_http\", \"http_header_cache-control_set_max-age\", \"url_char_z\", \"a_href_out_of_domain\", \"url_char_p\", \"p_count\", \"a_href_http\", \"a_href_https\", \"url_char_y\", \"url_char_f\", \"http_header_vary_user-agent\", \"center_count\", \"form_action_http\", \"http_header_via_1.1\", \"iframe_src_.html\"], \"type\": \"bar\", \"uid\": \"5611875a-bf0f-4f94-9485-98401d748ccb\"}], {\"autosize\": false, \"height\": 1000, \"width\": 1000, \"xaxis\": {\"tickfont\": {\"color\": \"black\", \"size\": 12}, \"title\": \"Feature Importances\"}, \"yaxis\": {\"automargin\": true}}, {\"showLink\": true, \"linkText\": \"Export to plot.ly\", \"plotlyServerURL\": \"https://plot.ly\"})});</script>"
      ]
     },
     "metadata": {},
     "output_type": "display_data"
    },
    {
     "name": "stdout",
     "output_type": "stream",
     "text": [
      "\n",
      "\n",
      "\u001b[1mAdaoost Classifier\u001b[0m\n",
      "Accuracy of the model for training data is: 0.9575256248876102\n",
      "Confusion Matrix for training data is:\n"
     ]
    },
    {
     "data": {
      "text/plain": [
       "Predicted  False   True  __all__\n",
       "Actual                          \n",
       "False      26525   1280    27805\n",
       "True        1082  26723    27805\n",
       "__all__    27607  28003    55610"
      ]
     },
     "metadata": {},
     "output_type": "display_data"
    },
    {
     "name": "stdout",
     "output_type": "stream",
     "text": [
      "Accuracy of the model for test data is: 0.9511292586448896\n",
      "Confusion Matrix for test data is:\n"
     ]
    },
    {
     "data": {
      "text/plain": [
       "Predicted  False  True  __all__\n",
       "Actual                         \n",
       "False       6620   317     6937\n",
       "True          66   834      900\n",
       "__all__     6686  1151     7837"
      ]
     },
     "metadata": {},
     "output_type": "display_data"
    },
    {
     "data": {
      "application/vnd.plotly.v1+json": {
       "config": {
        "linkText": "Export to plot.ly",
        "plotlyServerURL": "https://plot.ly",
        "showLink": true
       },
       "data": [
        {
         "marker": {
          "color": "rgb(158,202,225)",
          "line": {
           "color": "rgb(8,48,107)",
           "width": 1.5
          }
         },
         "opacity": 0.6,
         "orientation": "h",
         "text": [
          0.12,
          0.1,
          0.1,
          0.08,
          0.06,
          0.06,
          0.04,
          0.04,
          0.04,
          0.04,
          0.04,
          0.04,
          0.02,
          0.02,
          0.02,
          0.02,
          0.02,
          0.02,
          0.02,
          0.02,
          0.02,
          0.02,
          0.02,
          0.02,
          0,
          0,
          0,
          0,
          0,
          0,
          0,
          0,
          0,
          0
         ],
         "textposition": "outside",
         "type": "bar",
         "uid": "72338d2a-9400-4a0e-9c0c-5259fd3f70f6",
         "x": [
          0.12,
          0.1,
          0.1,
          0.08,
          0.06,
          0.06,
          0.04,
          0.04,
          0.04,
          0.04,
          0.04,
          0.04,
          0.02,
          0.02,
          0.02,
          0.02,
          0.02,
          0.02,
          0.02,
          0.02,
          0.02,
          0.02,
          0.02,
          0.02,
          0,
          0,
          0,
          0,
          0,
          0,
          0,
          0,
          0,
          0
         ],
         "y": [
          "total_count",
          "url_extensions",
          "url_char_l",
          "push",
          "url_char_w",
          "center_count",
          "link_href_out_of_domain",
          "url_char_i",
          "p_count",
          "link_type_text/css",
          "http_header_cache-control_set_max-age",
          "url_length",
          "http_header_server_apache",
          "url_extension_.com",
          "url_char_z",
          "a_href_out_of_domain",
          "url_char_f",
          "http_header_vary_user-agent",
          "img_src_http",
          "http_header_content-encoding_gzip",
          "a_count",
          "form_action_http",
          "iframe_src_.html",
          "http_header_via_1.1",
          "http_header_transfer-encoding_chunked",
          "meta_count",
          "url_char_.",
          "total_href",
          "a_href_relative",
          "url_char_p",
          "a_href_https",
          "url_char_y",
          "script_async_true",
          "a_href_http"
         ]
        }
       ],
       "layout": {
        "autosize": false,
        "height": 1000,
        "width": 1000,
        "xaxis": {
         "tickfont": {
          "color": "black",
          "size": 12
         },
         "title": "Feature Importances"
        },
        "yaxis": {
         "automargin": true
        }
       }
      },
      "text/html": [
       "<div id=\"e6e7d8ac-5b62-4083-8fd4-f1172b413369\" style=\"height: 1000px; width: 1000px;\" class=\"plotly-graph-div\"></div><script type=\"text/javascript\">require([\"plotly\"], function(Plotly) { window.PLOTLYENV=window.PLOTLYENV || {};window.PLOTLYENV.BASE_URL=\"https://plot.ly\";Plotly.newPlot(\"e6e7d8ac-5b62-4083-8fd4-f1172b413369\", [{\"marker\": {\"color\": \"rgb(158,202,225)\", \"line\": {\"color\": \"rgb(8,48,107)\", \"width\": 1.5}}, \"opacity\": 0.6, \"orientation\": \"h\", \"text\": [0.12, 0.1, 0.1, 0.08, 0.06, 0.06, 0.04, 0.04, 0.04, 0.04, 0.04, 0.04, 0.02, 0.02, 0.02, 0.02, 0.02, 0.02, 0.02, 0.02, 0.02, 0.02, 0.02, 0.02, 0.0, 0.0, 0.0, 0.0, 0.0, 0.0, 0.0, 0.0, 0.0, 0.0], \"textposition\": \"outside\", \"x\": [0.12, 0.1, 0.1, 0.08, 0.06, 0.06, 0.04, 0.04, 0.04, 0.04, 0.04, 0.04, 0.02, 0.02, 0.02, 0.02, 0.02, 0.02, 0.02, 0.02, 0.02, 0.02, 0.02, 0.02, 0.0, 0.0, 0.0, 0.0, 0.0, 0.0, 0.0, 0.0, 0.0, 0.0], \"y\": [\"total_count\", \"url_extensions\", \"url_char_l\", \"push\", \"url_char_w\", \"center_count\", \"link_href_out_of_domain\", \"url_char_i\", \"p_count\", \"link_type_text/css\", \"http_header_cache-control_set_max-age\", \"url_length\", \"http_header_server_apache\", \"url_extension_.com\", \"url_char_z\", \"a_href_out_of_domain\", \"url_char_f\", \"http_header_vary_user-agent\", \"img_src_http\", \"http_header_content-encoding_gzip\", \"a_count\", \"form_action_http\", \"iframe_src_.html\", \"http_header_via_1.1\", \"http_header_transfer-encoding_chunked\", \"meta_count\", \"url_char_.\", \"total_href\", \"a_href_relative\", \"url_char_p\", \"a_href_https\", \"url_char_y\", \"script_async_true\", \"a_href_http\"], \"type\": \"bar\", \"uid\": \"72338d2a-9400-4a0e-9c0c-5259fd3f70f6\"}], {\"autosize\": false, \"height\": 1000, \"width\": 1000, \"xaxis\": {\"tickfont\": {\"color\": \"black\", \"size\": 12}, \"title\": \"Feature Importances\"}, \"yaxis\": {\"automargin\": true}}, {\"showLink\": true, \"linkText\": \"Export to plot.ly\", \"plotlyServerURL\": \"https://plot.ly\"})});</script>"
      ],
      "text/vnd.plotly.v1+html": [
       "<div id=\"e6e7d8ac-5b62-4083-8fd4-f1172b413369\" style=\"height: 1000px; width: 1000px;\" class=\"plotly-graph-div\"></div><script type=\"text/javascript\">require([\"plotly\"], function(Plotly) { window.PLOTLYENV=window.PLOTLYENV || {};window.PLOTLYENV.BASE_URL=\"https://plot.ly\";Plotly.newPlot(\"e6e7d8ac-5b62-4083-8fd4-f1172b413369\", [{\"marker\": {\"color\": \"rgb(158,202,225)\", \"line\": {\"color\": \"rgb(8,48,107)\", \"width\": 1.5}}, \"opacity\": 0.6, \"orientation\": \"h\", \"text\": [0.12, 0.1, 0.1, 0.08, 0.06, 0.06, 0.04, 0.04, 0.04, 0.04, 0.04, 0.04, 0.02, 0.02, 0.02, 0.02, 0.02, 0.02, 0.02, 0.02, 0.02, 0.02, 0.02, 0.02, 0.0, 0.0, 0.0, 0.0, 0.0, 0.0, 0.0, 0.0, 0.0, 0.0], \"textposition\": \"outside\", \"x\": [0.12, 0.1, 0.1, 0.08, 0.06, 0.06, 0.04, 0.04, 0.04, 0.04, 0.04, 0.04, 0.02, 0.02, 0.02, 0.02, 0.02, 0.02, 0.02, 0.02, 0.02, 0.02, 0.02, 0.02, 0.0, 0.0, 0.0, 0.0, 0.0, 0.0, 0.0, 0.0, 0.0, 0.0], \"y\": [\"total_count\", \"url_extensions\", \"url_char_l\", \"push\", \"url_char_w\", \"center_count\", \"link_href_out_of_domain\", \"url_char_i\", \"p_count\", \"link_type_text/css\", \"http_header_cache-control_set_max-age\", \"url_length\", \"http_header_server_apache\", \"url_extension_.com\", \"url_char_z\", \"a_href_out_of_domain\", \"url_char_f\", \"http_header_vary_user-agent\", \"img_src_http\", \"http_header_content-encoding_gzip\", \"a_count\", \"form_action_http\", \"iframe_src_.html\", \"http_header_via_1.1\", \"http_header_transfer-encoding_chunked\", \"meta_count\", \"url_char_.\", \"total_href\", \"a_href_relative\", \"url_char_p\", \"a_href_https\", \"url_char_y\", \"script_async_true\", \"a_href_http\"], \"type\": \"bar\", \"uid\": \"72338d2a-9400-4a0e-9c0c-5259fd3f70f6\"}], {\"autosize\": false, \"height\": 1000, \"width\": 1000, \"xaxis\": {\"tickfont\": {\"color\": \"black\", \"size\": 12}, \"title\": \"Feature Importances\"}, \"yaxis\": {\"automargin\": true}}, {\"showLink\": true, \"linkText\": \"Export to plot.ly\", \"plotlyServerURL\": \"https://plot.ly\"})});</script>"
      ]
     },
     "metadata": {},
     "output_type": "display_data"
    },
    {
     "name": "stdout",
     "output_type": "stream",
     "text": [
      "\n",
      "\n",
      "\u001b[1mGradientBoosting Classifier\u001b[0m\n",
      "Accuracy of the model for training data is: 0.9716777557993167\n",
      "Confusion Matrix for training data is:\n"
     ]
    },
    {
     "data": {
      "text/plain": [
       "Predicted  False   True  __all__\n",
       "Actual                          \n",
       "False      27025    780    27805\n",
       "True         795  27010    27805\n",
       "__all__    27820  27790    55610"
      ]
     },
     "metadata": {},
     "output_type": "display_data"
    },
    {
     "name": "stdout",
     "output_type": "stream",
     "text": [
      "Accuracy of the model for test data is: 0.963251244098507\n",
      "Confusion Matrix for test data is:\n"
     ]
    },
    {
     "data": {
      "text/plain": [
       "Predicted  False  True  __all__\n",
       "Actual                         \n",
       "False       6730   207     6937\n",
       "True          81   819      900\n",
       "__all__     6811  1026     7837"
      ]
     },
     "metadata": {},
     "output_type": "display_data"
    },
    {
     "data": {
      "application/vnd.plotly.v1+json": {
       "config": {
        "linkText": "Export to plot.ly",
        "plotlyServerURL": "https://plot.ly",
        "showLink": true
       },
       "data": [
        {
         "marker": {
          "color": "rgb(158,202,225)",
          "line": {
           "color": "rgb(8,48,107)",
           "width": 1.5
          }
         },
         "opacity": 0.6,
         "orientation": "h",
         "text": [
          0.3389,
          0.1347,
          0.0811,
          0.0802,
          0.077,
          0.0665,
          0.0491,
          0.044,
          0.0166,
          0.0162,
          0.0157,
          0.0128,
          0.0119,
          0.0101,
          0.0065,
          0.0061,
          0.0043,
          0.004,
          0.0039,
          0.0031,
          0.0028,
          0.0028,
          0.002,
          0.0017,
          0.0016,
          0.0016,
          0.0014,
          0.0009,
          0.0008,
          0.0006,
          0.0006,
          0.0002,
          0.0002,
          0.0002
         ],
         "textposition": "outside",
         "type": "bar",
         "uid": "1b3edd3f-0d70-4d06-8e76-8d3bcf702c87",
         "x": [
          0.33894881685035333,
          0.13472768460040338,
          0.08105347154058312,
          0.08017901246502163,
          0.07697056305940918,
          0.06654264694794927,
          0.04911205090142881,
          0.04399878989063678,
          0.016577404327304337,
          0.016245081339488494,
          0.015715469743311738,
          0.012790634013742625,
          0.011874457637482098,
          0.010079598706396636,
          0.006498769238613124,
          0.006065698561062706,
          0.00434825636410781,
          0.003966683681612794,
          0.003910509657391204,
          0.0030928079853050528,
          0.002816710505676674,
          0.0028108920872885646,
          0.0019828080349578387,
          0.0016559802830165263,
          0.0016475874273156478,
          0.0016331570695074054,
          0.0013594551194381348,
          0.0008824432176825833,
          0.0007895766083233879,
          0.0006012835222396801,
          0.0005538012067050305,
          0.0002241386283582839,
          0.0001917998378751056,
          0.00015195894001093983
         ],
         "y": [
          "total_count",
          "total_href",
          "meta_count",
          "url_length",
          "url_char_w",
          "url_extensions",
          "link_href_out_of_domain",
          "a_href_out_of_domain",
          "push",
          "http_header_server_apache",
          "url_char_z",
          "http_header_content-encoding_gzip",
          "url_char_i",
          "url_char_.",
          "http_header_vary_user-agent",
          "http_header_cache-control_set_max-age",
          "url_extension_.com",
          "img_src_http",
          "a_count",
          "http_header_via_1.1",
          "http_header_transfer-encoding_chunked",
          "a_href_https",
          "url_char_l",
          "a_href_relative",
          "center_count",
          "link_type_text/css",
          "form_action_http",
          "p_count",
          "script_async_true",
          "a_href_http",
          "url_char_f",
          "url_char_y",
          "url_char_p",
          "iframe_src_.html"
         ]
        }
       ],
       "layout": {
        "autosize": false,
        "height": 1000,
        "width": 1000,
        "xaxis": {
         "tickfont": {
          "color": "black",
          "size": 12
         },
         "title": "Feature Importances"
        },
        "yaxis": {
         "automargin": true
        }
       }
      },
      "text/html": [
       "<div id=\"00b7f972-7954-482e-bafc-34399f8afb85\" style=\"height: 1000px; width: 1000px;\" class=\"plotly-graph-div\"></div><script type=\"text/javascript\">require([\"plotly\"], function(Plotly) { window.PLOTLYENV=window.PLOTLYENV || {};window.PLOTLYENV.BASE_URL=\"https://plot.ly\";Plotly.newPlot(\"00b7f972-7954-482e-bafc-34399f8afb85\", [{\"marker\": {\"color\": \"rgb(158,202,225)\", \"line\": {\"color\": \"rgb(8,48,107)\", \"width\": 1.5}}, \"opacity\": 0.6, \"orientation\": \"h\", \"text\": [0.3389, 0.1347, 0.0811, 0.0802, 0.077, 0.0665, 0.0491, 0.044, 0.0166, 0.0162, 0.0157, 0.0128, 0.0119, 0.0101, 0.0065, 0.0061, 0.0043, 0.004, 0.0039, 0.0031, 0.0028, 0.0028, 0.002, 0.0017, 0.0016, 0.0016, 0.0014, 0.0009, 0.0008, 0.0006, 0.0006, 0.0002, 0.0002, 0.0002], \"textposition\": \"outside\", \"x\": [0.33894881685035333, 0.13472768460040338, 0.08105347154058312, 0.08017901246502163, 0.07697056305940918, 0.06654264694794927, 0.04911205090142881, 0.04399878989063678, 0.016577404327304337, 0.016245081339488494, 0.015715469743311738, 0.012790634013742625, 0.011874457637482098, 0.010079598706396636, 0.006498769238613124, 0.006065698561062706, 0.00434825636410781, 0.003966683681612794, 0.003910509657391204, 0.0030928079853050528, 0.002816710505676674, 0.0028108920872885646, 0.0019828080349578387, 0.0016559802830165263, 0.0016475874273156478, 0.0016331570695074054, 0.0013594551194381348, 0.0008824432176825833, 0.0007895766083233879, 0.0006012835222396801, 0.0005538012067050305, 0.0002241386283582839, 0.0001917998378751056, 0.00015195894001093983], \"y\": [\"total_count\", \"total_href\", \"meta_count\", \"url_length\", \"url_char_w\", \"url_extensions\", \"link_href_out_of_domain\", \"a_href_out_of_domain\", \"push\", \"http_header_server_apache\", \"url_char_z\", \"http_header_content-encoding_gzip\", \"url_char_i\", \"url_char_.\", \"http_header_vary_user-agent\", \"http_header_cache-control_set_max-age\", \"url_extension_.com\", \"img_src_http\", \"a_count\", \"http_header_via_1.1\", \"http_header_transfer-encoding_chunked\", \"a_href_https\", \"url_char_l\", \"a_href_relative\", \"center_count\", \"link_type_text/css\", \"form_action_http\", \"p_count\", \"script_async_true\", \"a_href_http\", \"url_char_f\", \"url_char_y\", \"url_char_p\", \"iframe_src_.html\"], \"type\": \"bar\", \"uid\": \"1b3edd3f-0d70-4d06-8e76-8d3bcf702c87\"}], {\"autosize\": false, \"height\": 1000, \"width\": 1000, \"xaxis\": {\"tickfont\": {\"color\": \"black\", \"size\": 12}, \"title\": \"Feature Importances\"}, \"yaxis\": {\"automargin\": true}}, {\"showLink\": true, \"linkText\": \"Export to plot.ly\", \"plotlyServerURL\": \"https://plot.ly\"})});</script>"
      ],
      "text/vnd.plotly.v1+html": [
       "<div id=\"00b7f972-7954-482e-bafc-34399f8afb85\" style=\"height: 1000px; width: 1000px;\" class=\"plotly-graph-div\"></div><script type=\"text/javascript\">require([\"plotly\"], function(Plotly) { window.PLOTLYENV=window.PLOTLYENV || {};window.PLOTLYENV.BASE_URL=\"https://plot.ly\";Plotly.newPlot(\"00b7f972-7954-482e-bafc-34399f8afb85\", [{\"marker\": {\"color\": \"rgb(158,202,225)\", \"line\": {\"color\": \"rgb(8,48,107)\", \"width\": 1.5}}, \"opacity\": 0.6, \"orientation\": \"h\", \"text\": [0.3389, 0.1347, 0.0811, 0.0802, 0.077, 0.0665, 0.0491, 0.044, 0.0166, 0.0162, 0.0157, 0.0128, 0.0119, 0.0101, 0.0065, 0.0061, 0.0043, 0.004, 0.0039, 0.0031, 0.0028, 0.0028, 0.002, 0.0017, 0.0016, 0.0016, 0.0014, 0.0009, 0.0008, 0.0006, 0.0006, 0.0002, 0.0002, 0.0002], \"textposition\": \"outside\", \"x\": [0.33894881685035333, 0.13472768460040338, 0.08105347154058312, 0.08017901246502163, 0.07697056305940918, 0.06654264694794927, 0.04911205090142881, 0.04399878989063678, 0.016577404327304337, 0.016245081339488494, 0.015715469743311738, 0.012790634013742625, 0.011874457637482098, 0.010079598706396636, 0.006498769238613124, 0.006065698561062706, 0.00434825636410781, 0.003966683681612794, 0.003910509657391204, 0.0030928079853050528, 0.002816710505676674, 0.0028108920872885646, 0.0019828080349578387, 0.0016559802830165263, 0.0016475874273156478, 0.0016331570695074054, 0.0013594551194381348, 0.0008824432176825833, 0.0007895766083233879, 0.0006012835222396801, 0.0005538012067050305, 0.0002241386283582839, 0.0001917998378751056, 0.00015195894001093983], \"y\": [\"total_count\", \"total_href\", \"meta_count\", \"url_length\", \"url_char_w\", \"url_extensions\", \"link_href_out_of_domain\", \"a_href_out_of_domain\", \"push\", \"http_header_server_apache\", \"url_char_z\", \"http_header_content-encoding_gzip\", \"url_char_i\", \"url_char_.\", \"http_header_vary_user-agent\", \"http_header_cache-control_set_max-age\", \"url_extension_.com\", \"img_src_http\", \"a_count\", \"http_header_via_1.1\", \"http_header_transfer-encoding_chunked\", \"a_href_https\", \"url_char_l\", \"a_href_relative\", \"center_count\", \"link_type_text/css\", \"form_action_http\", \"p_count\", \"script_async_true\", \"a_href_http\", \"url_char_f\", \"url_char_y\", \"url_char_p\", \"iframe_src_.html\"], \"type\": \"bar\", \"uid\": \"1b3edd3f-0d70-4d06-8e76-8d3bcf702c87\"}], {\"autosize\": false, \"height\": 1000, \"width\": 1000, \"xaxis\": {\"tickfont\": {\"color\": \"black\", \"size\": 12}, \"title\": \"Feature Importances\"}, \"yaxis\": {\"automargin\": true}}, {\"showLink\": true, \"linkText\": \"Export to plot.ly\", \"plotlyServerURL\": \"https://plot.ly\"})});</script>"
      ]
     },
     "metadata": {},
     "output_type": "display_data"
    },
    {
     "name": "stdout",
     "output_type": "stream",
     "text": [
      "\n",
      "\n",
      "\u001b[1mExtraTree Classifier\u001b[0m\n",
      "Accuracy of the model for training data is: 0.9987232512138104\n",
      "Confusion Matrix for training data is:\n"
     ]
    },
    {
     "data": {
      "text/plain": [
       "Predicted  False   True  __all__\n",
       "Actual                          \n",
       "False      27802      3    27805\n",
       "True          68  27737    27805\n",
       "__all__    27870  27740    55610"
      ]
     },
     "metadata": {},
     "output_type": "display_data"
    },
    {
     "name": "stdout",
     "output_type": "stream",
     "text": [
      "Accuracy of the model for test data is: 0.9771596274084471\n",
      "Confusion Matrix for test data is:\n"
     ]
    },
    {
     "data": {
      "text/plain": [
       "Predicted  False  True  __all__\n",
       "Actual                         \n",
       "False       6863    74     6937\n",
       "True         105   795      900\n",
       "__all__     6968   869     7837"
      ]
     },
     "metadata": {},
     "output_type": "display_data"
    },
    {
     "data": {
      "application/vnd.plotly.v1+json": {
       "config": {
        "linkText": "Export to plot.ly",
        "plotlyServerURL": "https://plot.ly",
        "showLink": true
       },
       "data": [
        {
         "marker": {
          "color": "rgb(158,202,225)",
          "line": {
           "color": "rgb(8,48,107)",
           "width": 1.5
          }
         },
         "opacity": 0.6,
         "orientation": "h",
         "text": [
          0.1571,
          0.115,
          0.1094,
          0.0916,
          0.0469,
          0.0462,
          0.0389,
          0.034,
          0.0321,
          0.0254,
          0.025,
          0.0244,
          0.0192,
          0.0188,
          0.0181,
          0.0149,
          0.0137,
          0.0136,
          0.0135,
          0.0134,
          0.0126,
          0.0126,
          0.0123,
          0.0118,
          0.0107,
          0.0106,
          0.0106,
          0.0098,
          0.0089,
          0.0084,
          0.0062,
          0.0061,
          0.0051,
          0.0032
         ],
         "textposition": "outside",
         "type": "bar",
         "uid": "8a55f11a-16ca-4403-856a-0b33a510469c",
         "x": [
          0.15712984466884067,
          0.1150129391981753,
          0.10941968996391715,
          0.09160162863942681,
          0.04689945033421135,
          0.04623059774058451,
          0.038867883436277735,
          0.033965446373672124,
          0.0320913902577156,
          0.025424601072644736,
          0.02495857558228484,
          0.024360275740620562,
          0.01917549523777459,
          0.01878675434764531,
          0.018118501841229054,
          0.014922824793319103,
          0.013703319404241446,
          0.01356798103755438,
          0.013499440190643591,
          0.013388606393904568,
          0.012645044284042496,
          0.012611906542653628,
          0.012258589602417711,
          0.011798085353525879,
          0.010655363125067732,
          0.010629611125748905,
          0.010627398296709006,
          0.009818623777815897,
          0.00888958478853875,
          0.008359686979246944,
          0.006188650895215398,
          0.006138570894557505,
          0.005098903772036512,
          0.003154734307740216
         ],
         "y": [
          "http_header_content-encoding_gzip",
          "http_header_transfer-encoding_chunked",
          "url_length",
          "url_char_.",
          "url_extensions",
          "http_header_cache-control_set_max-age",
          "url_char_w",
          "total_count",
          "link_type_text/css",
          "script_async_true",
          "url_extension_.com",
          "url_char_i",
          "http_header_server_apache",
          "url_char_l",
          "a_href_relative",
          "link_href_out_of_domain",
          "meta_count",
          "http_header_via_1.1",
          "img_src_http",
          "p_count",
          "a_href_out_of_domain",
          "iframe_src_.html",
          "total_href",
          "url_char_p",
          "http_header_vary_user-agent",
          "a_count",
          "url_char_f",
          "url_char_y",
          "url_char_z",
          "a_href_https",
          "a_href_http",
          "form_action_http",
          "push",
          "center_count"
         ]
        }
       ],
       "layout": {
        "autosize": false,
        "height": 1000,
        "width": 1000,
        "xaxis": {
         "tickfont": {
          "color": "black",
          "size": 12
         },
         "title": "Feature Importances"
        },
        "yaxis": {
         "automargin": true
        }
       }
      },
      "text/html": [
       "<div id=\"5ce18de6-3031-4275-9080-687953e4f2dd\" style=\"height: 1000px; width: 1000px;\" class=\"plotly-graph-div\"></div><script type=\"text/javascript\">require([\"plotly\"], function(Plotly) { window.PLOTLYENV=window.PLOTLYENV || {};window.PLOTLYENV.BASE_URL=\"https://plot.ly\";Plotly.newPlot(\"5ce18de6-3031-4275-9080-687953e4f2dd\", [{\"marker\": {\"color\": \"rgb(158,202,225)\", \"line\": {\"color\": \"rgb(8,48,107)\", \"width\": 1.5}}, \"opacity\": 0.6, \"orientation\": \"h\", \"text\": [0.1571, 0.115, 0.1094, 0.0916, 0.0469, 0.0462, 0.0389, 0.034, 0.0321, 0.0254, 0.025, 0.0244, 0.0192, 0.0188, 0.0181, 0.0149, 0.0137, 0.0136, 0.0135, 0.0134, 0.0126, 0.0126, 0.0123, 0.0118, 0.0107, 0.0106, 0.0106, 0.0098, 0.0089, 0.0084, 0.0062, 0.0061, 0.0051, 0.0032], \"textposition\": \"outside\", \"x\": [0.15712984466884067, 0.1150129391981753, 0.10941968996391715, 0.09160162863942681, 0.04689945033421135, 0.04623059774058451, 0.038867883436277735, 0.033965446373672124, 0.0320913902577156, 0.025424601072644736, 0.02495857558228484, 0.024360275740620562, 0.01917549523777459, 0.01878675434764531, 0.018118501841229054, 0.014922824793319103, 0.013703319404241446, 0.01356798103755438, 0.013499440190643591, 0.013388606393904568, 0.012645044284042496, 0.012611906542653628, 0.012258589602417711, 0.011798085353525879, 0.010655363125067732, 0.010629611125748905, 0.010627398296709006, 0.009818623777815897, 0.00888958478853875, 0.008359686979246944, 0.006188650895215398, 0.006138570894557505, 0.005098903772036512, 0.003154734307740216], \"y\": [\"http_header_content-encoding_gzip\", \"http_header_transfer-encoding_chunked\", \"url_length\", \"url_char_.\", \"url_extensions\", \"http_header_cache-control_set_max-age\", \"url_char_w\", \"total_count\", \"link_type_text/css\", \"script_async_true\", \"url_extension_.com\", \"url_char_i\", \"http_header_server_apache\", \"url_char_l\", \"a_href_relative\", \"link_href_out_of_domain\", \"meta_count\", \"http_header_via_1.1\", \"img_src_http\", \"p_count\", \"a_href_out_of_domain\", \"iframe_src_.html\", \"total_href\", \"url_char_p\", \"http_header_vary_user-agent\", \"a_count\", \"url_char_f\", \"url_char_y\", \"url_char_z\", \"a_href_https\", \"a_href_http\", \"form_action_http\", \"push\", \"center_count\"], \"type\": \"bar\", \"uid\": \"8a55f11a-16ca-4403-856a-0b33a510469c\"}], {\"autosize\": false, \"height\": 1000, \"width\": 1000, \"xaxis\": {\"tickfont\": {\"color\": \"black\", \"size\": 12}, \"title\": \"Feature Importances\"}, \"yaxis\": {\"automargin\": true}}, {\"showLink\": true, \"linkText\": \"Export to plot.ly\", \"plotlyServerURL\": \"https://plot.ly\"})});</script>"
      ],
      "text/vnd.plotly.v1+html": [
       "<div id=\"5ce18de6-3031-4275-9080-687953e4f2dd\" style=\"height: 1000px; width: 1000px;\" class=\"plotly-graph-div\"></div><script type=\"text/javascript\">require([\"plotly\"], function(Plotly) { window.PLOTLYENV=window.PLOTLYENV || {};window.PLOTLYENV.BASE_URL=\"https://plot.ly\";Plotly.newPlot(\"5ce18de6-3031-4275-9080-687953e4f2dd\", [{\"marker\": {\"color\": \"rgb(158,202,225)\", \"line\": {\"color\": \"rgb(8,48,107)\", \"width\": 1.5}}, \"opacity\": 0.6, \"orientation\": \"h\", \"text\": [0.1571, 0.115, 0.1094, 0.0916, 0.0469, 0.0462, 0.0389, 0.034, 0.0321, 0.0254, 0.025, 0.0244, 0.0192, 0.0188, 0.0181, 0.0149, 0.0137, 0.0136, 0.0135, 0.0134, 0.0126, 0.0126, 0.0123, 0.0118, 0.0107, 0.0106, 0.0106, 0.0098, 0.0089, 0.0084, 0.0062, 0.0061, 0.0051, 0.0032], \"textposition\": \"outside\", \"x\": [0.15712984466884067, 0.1150129391981753, 0.10941968996391715, 0.09160162863942681, 0.04689945033421135, 0.04623059774058451, 0.038867883436277735, 0.033965446373672124, 0.0320913902577156, 0.025424601072644736, 0.02495857558228484, 0.024360275740620562, 0.01917549523777459, 0.01878675434764531, 0.018118501841229054, 0.014922824793319103, 0.013703319404241446, 0.01356798103755438, 0.013499440190643591, 0.013388606393904568, 0.012645044284042496, 0.012611906542653628, 0.012258589602417711, 0.011798085353525879, 0.010655363125067732, 0.010629611125748905, 0.010627398296709006, 0.009818623777815897, 0.00888958478853875, 0.008359686979246944, 0.006188650895215398, 0.006138570894557505, 0.005098903772036512, 0.003154734307740216], \"y\": [\"http_header_content-encoding_gzip\", \"http_header_transfer-encoding_chunked\", \"url_length\", \"url_char_.\", \"url_extensions\", \"http_header_cache-control_set_max-age\", \"url_char_w\", \"total_count\", \"link_type_text/css\", \"script_async_true\", \"url_extension_.com\", \"url_char_i\", \"http_header_server_apache\", \"url_char_l\", \"a_href_relative\", \"link_href_out_of_domain\", \"meta_count\", \"http_header_via_1.1\", \"img_src_http\", \"p_count\", \"a_href_out_of_domain\", \"iframe_src_.html\", \"total_href\", \"url_char_p\", \"http_header_vary_user-agent\", \"a_count\", \"url_char_f\", \"url_char_y\", \"url_char_z\", \"a_href_https\", \"a_href_http\", \"form_action_http\", \"push\", \"center_count\"], \"type\": \"bar\", \"uid\": \"8a55f11a-16ca-4403-856a-0b33a510469c\"}], {\"autosize\": false, \"height\": 1000, \"width\": 1000, \"xaxis\": {\"tickfont\": {\"color\": \"black\", \"size\": 12}, \"title\": \"Feature Importances\"}, \"yaxis\": {\"automargin\": true}}, {\"showLink\": true, \"linkText\": \"Export to plot.ly\", \"plotlyServerURL\": \"https://plot.ly\"})});</script>"
      ]
     },
     "metadata": {},
     "output_type": "display_data"
    },
    {
     "name": "stdout",
     "output_type": "stream",
     "text": [
      "\n",
      "\n",
      "\u001b[1mXGB Classifier\u001b[0m\n",
      "Accuracy of the model for training data is: 0.9700233770904514\n",
      "Confusion Matrix for training data is:\n"
     ]
    },
    {
     "data": {
      "text/plain": [
       "Predicted  False   True  __all__\n",
       "Actual                          \n",
       "False      26955    850    27805\n",
       "True         817  26988    27805\n",
       "__all__    27772  27838    55610"
      ]
     },
     "metadata": {},
     "output_type": "display_data"
    },
    {
     "name": "stdout",
     "output_type": "stream",
     "text": [
      "Accuracy of the model for test data is: 0.9622304453234656\n",
      "Confusion Matrix for test data is:\n"
     ]
    },
    {
     "data": {
      "text/plain": [
       "Predicted  False  True  __all__\n",
       "Actual                         \n",
       "False       6719   218     6937\n",
       "True          78   822      900\n",
       "__all__     6797  1040     7837"
      ]
     },
     "metadata": {},
     "output_type": "display_data"
    },
    {
     "data": {
      "application/vnd.plotly.v1+json": {
       "config": {
        "linkText": "Export to plot.ly",
        "plotlyServerURL": "https://plot.ly",
        "showLink": true
       },
       "data": [
        {
         "marker": {
          "color": "rgb(158,202,225)",
          "line": {
           "color": "rgb(8,48,107)",
           "width": 1.5
          }
         },
         "opacity": 0.6,
         "orientation": "h",
         "text": [
          0.1197,
          0.0847,
          0.0832,
          0.0745,
          0.0453,
          0.0394,
          0.038,
          0.0365,
          0.035,
          0.035,
          0.0307,
          0.0292,
          0.0263,
          0.0263,
          0.0248,
          0.0248,
          0.0248,
          0.0234,
          0.0219,
          0.0219,
          0.0204,
          0.019,
          0.019,
          0.019,
          0.0161,
          0.0131,
          0.0102,
          0.0088,
          0.0073,
          0.0073,
          0.0058,
          0.0044,
          0.0029,
          0.0015
         ],
         "textposition": "outside",
         "type": "bar",
         "uid": "593e369e-37e7-4bd7-812f-63bb906a60db",
         "x": [
          0.11970803141593933,
          0.08467153459787369,
          0.08321167528629303,
          0.07445255666971207,
          0.045255474746227264,
          0.03941605985164642,
          0.037956204265356064,
          0.036496348679065704,
          0.03503649681806564,
          0.03503649681806564,
          0.030656933784484863,
          0.029197080060839653,
          0.026277372613549232,
          0.026277372613549232,
          0.024817518889904022,
          0.024817518889904022,
          0.024817518889904022,
          0.023357663303613663,
          0.021897809579968452,
          0.021897809579968452,
          0.020437955856323242,
          0.018978102132678032,
          0.018978102132678032,
          0.018978102132678032,
          0.01605839468538761,
          0.013138686306774616,
          0.010218977928161621,
          0.00875912420451641,
          0.007299270015209913,
          0.007299270015209913,
          0.005839415825903416,
          0.004379562102258205,
          0.002919707912951708,
          0.001459853956475854
         ],
         "y": [
          "url_length",
          "url_extensions",
          "url_char_w",
          "url_char_.",
          "http_header_content-encoding_gzip",
          "url_char_i",
          "http_header_cache-control_set_max-age",
          "form_action_http",
          "p_count",
          "total_count",
          "link_type_text/css",
          "img_src_http",
          "center_count",
          "push",
          "url_char_l",
          "http_header_server_apache",
          "a_href_https",
          "url_extension_.com",
          "http_header_via_1.1",
          "a_href_out_of_domain",
          "url_char_z",
          "a_count",
          "http_header_vary_user-agent",
          "meta_count",
          "link_href_out_of_domain",
          "http_header_transfer-encoding_chunked",
          "url_char_f",
          "iframe_src_.html",
          "url_char_p",
          "a_href_http",
          "total_href",
          "a_href_relative",
          "script_async_true",
          "url_char_y"
         ]
        }
       ],
       "layout": {
        "autosize": false,
        "height": 1000,
        "width": 1000,
        "xaxis": {
         "tickfont": {
          "color": "black",
          "size": 12
         },
         "title": "Feature Importances"
        },
        "yaxis": {
         "automargin": true
        }
       }
      },
      "text/html": [
       "<div id=\"7ac354a5-dfc0-434e-9ca8-2c476b64e966\" style=\"height: 1000px; width: 1000px;\" class=\"plotly-graph-div\"></div><script type=\"text/javascript\">require([\"plotly\"], function(Plotly) { window.PLOTLYENV=window.PLOTLYENV || {};window.PLOTLYENV.BASE_URL=\"https://plot.ly\";Plotly.newPlot(\"7ac354a5-dfc0-434e-9ca8-2c476b64e966\", [{\"marker\": {\"color\": \"rgb(158,202,225)\", \"line\": {\"color\": \"rgb(8,48,107)\", \"width\": 1.5}}, \"opacity\": 0.6, \"orientation\": \"h\", \"text\": [0.1197, 0.0847, 0.0832, 0.0745, 0.0453, 0.0394, 0.038, 0.0365, 0.035, 0.035, 0.0307, 0.0292, 0.0263, 0.0263, 0.0248, 0.0248, 0.0248, 0.0234, 0.0219, 0.0219, 0.0204, 0.019, 0.019, 0.019, 0.0161, 0.0131, 0.0102, 0.0088, 0.0073, 0.0073, 0.0058, 0.0044, 0.0029, 0.0015], \"textposition\": \"outside\", \"x\": [0.11970803141593933, 0.08467153459787369, 0.08321167528629303, 0.07445255666971207, 0.045255474746227264, 0.03941605985164642, 0.037956204265356064, 0.036496348679065704, 0.03503649681806564, 0.03503649681806564, 0.030656933784484863, 0.029197080060839653, 0.026277372613549232, 0.026277372613549232, 0.024817518889904022, 0.024817518889904022, 0.024817518889904022, 0.023357663303613663, 0.021897809579968452, 0.021897809579968452, 0.020437955856323242, 0.018978102132678032, 0.018978102132678032, 0.018978102132678032, 0.01605839468538761, 0.013138686306774616, 0.010218977928161621, 0.00875912420451641, 0.007299270015209913, 0.007299270015209913, 0.005839415825903416, 0.004379562102258205, 0.002919707912951708, 0.001459853956475854], \"y\": [\"url_length\", \"url_extensions\", \"url_char_w\", \"url_char_.\", \"http_header_content-encoding_gzip\", \"url_char_i\", \"http_header_cache-control_set_max-age\", \"form_action_http\", \"p_count\", \"total_count\", \"link_type_text/css\", \"img_src_http\", \"center_count\", \"push\", \"url_char_l\", \"http_header_server_apache\", \"a_href_https\", \"url_extension_.com\", \"http_header_via_1.1\", \"a_href_out_of_domain\", \"url_char_z\", \"a_count\", \"http_header_vary_user-agent\", \"meta_count\", \"link_href_out_of_domain\", \"http_header_transfer-encoding_chunked\", \"url_char_f\", \"iframe_src_.html\", \"url_char_p\", \"a_href_http\", \"total_href\", \"a_href_relative\", \"script_async_true\", \"url_char_y\"], \"type\": \"bar\", \"uid\": \"593e369e-37e7-4bd7-812f-63bb906a60db\"}], {\"autosize\": false, \"height\": 1000, \"width\": 1000, \"xaxis\": {\"tickfont\": {\"color\": \"black\", \"size\": 12}, \"title\": \"Feature Importances\"}, \"yaxis\": {\"automargin\": true}}, {\"showLink\": true, \"linkText\": \"Export to plot.ly\", \"plotlyServerURL\": \"https://plot.ly\"})});</script>"
      ],
      "text/vnd.plotly.v1+html": [
       "<div id=\"7ac354a5-dfc0-434e-9ca8-2c476b64e966\" style=\"height: 1000px; width: 1000px;\" class=\"plotly-graph-div\"></div><script type=\"text/javascript\">require([\"plotly\"], function(Plotly) { window.PLOTLYENV=window.PLOTLYENV || {};window.PLOTLYENV.BASE_URL=\"https://plot.ly\";Plotly.newPlot(\"7ac354a5-dfc0-434e-9ca8-2c476b64e966\", [{\"marker\": {\"color\": \"rgb(158,202,225)\", \"line\": {\"color\": \"rgb(8,48,107)\", \"width\": 1.5}}, \"opacity\": 0.6, \"orientation\": \"h\", \"text\": [0.1197, 0.0847, 0.0832, 0.0745, 0.0453, 0.0394, 0.038, 0.0365, 0.035, 0.035, 0.0307, 0.0292, 0.0263, 0.0263, 0.0248, 0.0248, 0.0248, 0.0234, 0.0219, 0.0219, 0.0204, 0.019, 0.019, 0.019, 0.0161, 0.0131, 0.0102, 0.0088, 0.0073, 0.0073, 0.0058, 0.0044, 0.0029, 0.0015], \"textposition\": \"outside\", \"x\": [0.11970803141593933, 0.08467153459787369, 0.08321167528629303, 0.07445255666971207, 0.045255474746227264, 0.03941605985164642, 0.037956204265356064, 0.036496348679065704, 0.03503649681806564, 0.03503649681806564, 0.030656933784484863, 0.029197080060839653, 0.026277372613549232, 0.026277372613549232, 0.024817518889904022, 0.024817518889904022, 0.024817518889904022, 0.023357663303613663, 0.021897809579968452, 0.021897809579968452, 0.020437955856323242, 0.018978102132678032, 0.018978102132678032, 0.018978102132678032, 0.01605839468538761, 0.013138686306774616, 0.010218977928161621, 0.00875912420451641, 0.007299270015209913, 0.007299270015209913, 0.005839415825903416, 0.004379562102258205, 0.002919707912951708, 0.001459853956475854], \"y\": [\"url_length\", \"url_extensions\", \"url_char_w\", \"url_char_.\", \"http_header_content-encoding_gzip\", \"url_char_i\", \"http_header_cache-control_set_max-age\", \"form_action_http\", \"p_count\", \"total_count\", \"link_type_text/css\", \"img_src_http\", \"center_count\", \"push\", \"url_char_l\", \"http_header_server_apache\", \"a_href_https\", \"url_extension_.com\", \"http_header_via_1.1\", \"a_href_out_of_domain\", \"url_char_z\", \"a_count\", \"http_header_vary_user-agent\", \"meta_count\", \"link_href_out_of_domain\", \"http_header_transfer-encoding_chunked\", \"url_char_f\", \"iframe_src_.html\", \"url_char_p\", \"a_href_http\", \"total_href\", \"a_href_relative\", \"script_async_true\", \"url_char_y\"], \"type\": \"bar\", \"uid\": \"593e369e-37e7-4bd7-812f-63bb906a60db\"}], {\"autosize\": false, \"height\": 1000, \"width\": 1000, \"xaxis\": {\"tickfont\": {\"color\": \"black\", \"size\": 12}, \"title\": \"Feature Importances\"}, \"yaxis\": {\"automargin\": true}}, {\"showLink\": true, \"linkText\": \"Export to plot.ly\", \"plotlyServerURL\": \"https://plot.ly\"})});</script>"
      ]
     },
     "metadata": {},
     "output_type": "display_data"
    },
    {
     "name": "stdout",
     "output_type": "stream",
     "text": [
      "\n",
      "\n",
      "\u001b[1mBagging Classifier\u001b[0m\n",
      "Accuracy of the model for training data is: 0.9977522028412156\n",
      "Confusion Matrix for training data is:\n"
     ]
    },
    {
     "data": {
      "text/plain": [
       "Predicted  False   True  __all__\n",
       "Actual                          \n",
       "False      27766     39    27805\n",
       "True          86  27719    27805\n",
       "__all__    27852  27758    55610"
      ]
     },
     "metadata": {},
     "output_type": "display_data"
    },
    {
     "name": "stdout",
     "output_type": "stream",
     "text": [
      "Accuracy of the model for test data is: 0.9732040321551614\n",
      "Confusion Matrix for test data is:\n"
     ]
    },
    {
     "data": {
      "text/plain": [
       "Predicted  False  True  __all__\n",
       "Actual                         \n",
       "False       6845    92     6937\n",
       "True         118   782      900\n",
       "__all__     6963   874     7837"
      ]
     },
     "metadata": {},
     "output_type": "display_data"
    },
    {
     "name": "stdout",
     "output_type": "stream",
     "text": [
      "\n",
      "\n",
      "\u001b[1mNeural Network-1\u001b[0m\n",
      "The accuracy of the model on training data is: 0.9912605646466462\n"
     ]
    },
    {
     "data": {
      "text/plain": [
       "Predicted  False   True  __all__\n",
       "Actual                          \n",
       "False      27639    166    27805\n",
       "True         320  27485    27805\n",
       "__all__    27959  27651    55610"
      ]
     },
     "metadata": {},
     "output_type": "display_data"
    },
    {
     "name": "stdout",
     "output_type": "stream",
     "text": [
      "The accuracy of the model on test data is: 0.966696439964272\n"
     ]
    },
    {
     "data": {
      "text/plain": [
       "Predicted  False  True  __all__\n",
       "Actual                         \n",
       "False       6784   153     6937\n",
       "True         108   792      900\n",
       "__all__     6892   945     7837"
      ]
     },
     "metadata": {},
     "output_type": "display_data"
    },
    {
     "name": "stdout",
     "output_type": "stream",
     "text": [
      "\n",
      "\n"
     ]
    }
   ],
   "source": [
    "sm = SMOTE(random_state=12, ratio = {1:27805})\n",
    "X_train, Y_train = sm.fit_sample(scaled_X_train,train_Y)\n",
    "\n",
    "\n",
    "ind_columns=['KNeighborsClassifier','RandomForestClassifier','AdaBoostClassifier',\n",
    "             'GradientBoostingClassifier','ExtraTreeClassifier','XGB','BaggingClassifier','Neural Network-1']\n",
    "\n",
    "f=[KNN_model,RandomForest,AdaBoost,GradientBoosting, ExtraTree,XGB,Bagging,DeepLearning1]\n",
    "\n",
    "## Table to store training and test measures\n",
    "table_80_50_train=pd.DataFrame(columns=['accuracy','TP','TN','FP','FN','FPR','FNR'])\n",
    "table_80_50_test=pd.DataFrame(columns=['accuracy','TP','TN','FP','FN','FPR','FNR','auc','MCC','Precision','Recall'])\n",
    "\n",
    "feat_imp=[None]*5\n",
    "j=0\n",
    "for i in range(0,8):\n",
    "    if i>=1 and i<=5:\n",
    "        model,cm_train,cm_test,acc_train,acc_test,roc_auc,feat_imp[j],mcc,prec,rec=f[i](X_train,Y_train,scaled_X_test,test_Y,columns)\n",
    "        j=j+1\n",
    "    else:\n",
    "        model,cm_train,cm_test,acc_train,acc_test,roc_auc,mcc,prec,rec=f[i](X_train,Y_train,scaled_X_test,test_Y)\n",
    "    table_80_50_train.loc[i]=   ([acc_train,cm_train.TP,cm_train.TN,cm_train.FP,cm_train.FN,cm_train.FPR,cm_train.FNR])\n",
    "    table_80_50_test.loc[i] =   ([acc_test ,cm_test.TP, cm_test.TN, cm_test.FP, cm_test.FN, cm_test.FPR, cm_test.FNR,roc_auc,mcc,prec,rec])\n",
    "    print(\"\\n\")"
   ]
  },
  {
   "cell_type": "markdown",
   "metadata": {},
   "source": [
    "### <a id='2.A' style=\"text-decoration : none; color : #000000;\"> A. Results</a>"
   ]
  },
  {
   "cell_type": "code",
   "execution_count": 13,
   "metadata": {},
   "outputs": [
    {
     "data": {
      "application/vnd.plotly.v1+json": {
       "config": {
        "linkText": "Export to plot.ly",
        "plotlyServerURL": "https://plot.ly",
        "showLink": true
       },
       "data": [
        {
         "mode": "lines",
         "name": "KNN_model",
         "type": "scatter",
         "uid": "4492a46d-86e8-44e9-acc9-af3d248721be",
         "x": [
          "accuracy",
          "auc",
          "MCC",
          "Precision",
          "Recall"
         ],
         "y": [
          0.9420696695163966,
          0.9252143097400413,
          0.7581666674880841,
          0.6889830508474576,
          0.9033333333333333
         ]
        },
        {
         "mode": "lines+markers",
         "name": "XGB",
         "type": "scatter",
         "uid": "59c2d603-bd52-476f-9bdc-b823678297b5",
         "x": [
          "accuracy",
          "auc",
          "MCC",
          "Precision",
          "Recall"
         ],
         "y": [
          0.9622304453234656,
          0.9409538224977175,
          0.8288098517913609,
          0.7903846153846154,
          0.9133333333333333
         ]
        },
        {
         "marker": {
          "symbol": "x"
         },
         "mode": "lines+markers",
         "name": "Random Forest",
         "type": "scatter",
         "uid": "2c3ad6cb-1bb8-4bc4-b837-822c3e5fe88a",
         "x": [
          "accuracy",
          "auc",
          "MCC",
          "Precision",
          "Recall"
         ],
         "y": [
          0.9770320275615669,
          0.9333600019220605,
          0.8850049077272638,
          0.9195804195804196,
          0.8766666666666667
         ]
        },
        {
         "mode": "lines",
         "name": "Ada Boost",
         "type": "scatter",
         "uid": "8ef138ec-29a2-4e54-ae7b-8798b84ee1b2",
         "x": [
          "accuracy",
          "auc",
          "MCC",
          "Precision",
          "Recall"
         ],
         "y": [
          0.9511292586448896,
          0.9404848397482102,
          0.7935005196416658,
          0.7245873153779322,
          0.9266666666666666
         ]
        },
        {
         "mode": "lines+markers",
         "name": "GradientBoosting",
         "type": "scatter",
         "uid": "7af89e3d-43f1-4060-8346-c6ef9d30b699",
         "x": [
          "accuracy",
          "auc",
          "MCC",
          "Precision",
          "Recall"
         ],
         "y": [
          0.963251244098507,
          0.9400800057661813,
          0.8319354195692361,
          0.7982456140350878,
          0.91
         ]
        },
        {
         "marker": {
          "symbol": "x"
         },
         "mode": "lines+markers",
         "name": "ExtraTree Classifier",
         "type": "scatter",
         "uid": "afaadcc7-66ac-422b-b75e-3fd55eea0e37",
         "x": [
          "accuracy",
          "auc",
          "MCC",
          "Precision",
          "Recall"
         ],
         "y": [
          0.9771596274084471,
          0.9363329489212435,
          0.8861171614407554,
          0.9148446490218642,
          0.8833333333333333
         ]
        },
        {
         "marker": {
          "symbol": "x"
         },
         "mode": "lines+markers",
         "name": "Bagging",
         "type": "scatter",
         "uid": "6a6e0331-48a5-43cb-b6b0-4ca3d107bd3e",
         "x": [
          "accuracy",
          "auc",
          "MCC",
          "Precision",
          "Recall"
         ],
         "y": [
          0.9732040321551614,
          0.9278133358960806,
          0.866637549443191,
          0.8947368421052632,
          0.8688888888888889
         ]
        },
        {
         "marker": {
          "symbol": "x"
         },
         "mode": "lines+markers",
         "name": "Neural Network",
         "type": "scatter",
         "uid": "4337b74d-3127-4956-8c17-ecb137c311eb",
         "x": [
          "accuracy",
          "auc",
          "MCC",
          "Precision",
          "Recall"
         ],
         "y": [
          0.966696439964272,
          0.9278133358960806,
          0.8399969034235575,
          0.8380952380952381,
          0.88
         ]
        }
       ],
       "layout": {
        "title": "Result comparision for Features selected in Section 1",
        "yaxis": {
         "dtick": 0.05,
         "tick0": 0
        }
       }
      },
      "text/html": [
       "<div id=\"00f0d027-6cb0-4e30-a526-57fc513cc4f5\" style=\"height: 525px; width: 100%;\" class=\"plotly-graph-div\"></div><script type=\"text/javascript\">require([\"plotly\"], function(Plotly) { window.PLOTLYENV=window.PLOTLYENV || {};window.PLOTLYENV.BASE_URL=\"https://plot.ly\";Plotly.newPlot(\"00f0d027-6cb0-4e30-a526-57fc513cc4f5\", [{\"mode\": \"lines\", \"name\": \"KNN_model\", \"x\": [\"accuracy\", \"auc\", \"MCC\", \"Precision\", \"Recall\"], \"y\": [0.9420696695163966, 0.9252143097400413, 0.7581666674880841, 0.6889830508474576, 0.9033333333333333], \"type\": \"scatter\", \"uid\": \"4492a46d-86e8-44e9-acc9-af3d248721be\"}, {\"mode\": \"lines+markers\", \"name\": \"XGB\", \"x\": [\"accuracy\", \"auc\", \"MCC\", \"Precision\", \"Recall\"], \"y\": [0.9622304453234656, 0.9409538224977175, 0.8288098517913609, 0.7903846153846154, 0.9133333333333333], \"type\": \"scatter\", \"uid\": \"59c2d603-bd52-476f-9bdc-b823678297b5\"}, {\"marker\": {\"symbol\": \"x\"}, \"mode\": \"lines+markers\", \"name\": \"Random Forest\", \"x\": [\"accuracy\", \"auc\", \"MCC\", \"Precision\", \"Recall\"], \"y\": [0.9770320275615669, 0.9333600019220605, 0.8850049077272638, 0.9195804195804196, 0.8766666666666667], \"type\": \"scatter\", \"uid\": \"2c3ad6cb-1bb8-4bc4-b837-822c3e5fe88a\"}, {\"mode\": \"lines\", \"name\": \"Ada Boost\", \"x\": [\"accuracy\", \"auc\", \"MCC\", \"Precision\", \"Recall\"], \"y\": [0.9511292586448896, 0.9404848397482102, 0.7935005196416658, 0.7245873153779322, 0.9266666666666666], \"type\": \"scatter\", \"uid\": \"8ef138ec-29a2-4e54-ae7b-8798b84ee1b2\"}, {\"mode\": \"lines+markers\", \"name\": \"GradientBoosting\", \"x\": [\"accuracy\", \"auc\", \"MCC\", \"Precision\", \"Recall\"], \"y\": [0.963251244098507, 0.9400800057661813, 0.8319354195692361, 0.7982456140350878, 0.91], \"type\": \"scatter\", \"uid\": \"7af89e3d-43f1-4060-8346-c6ef9d30b699\"}, {\"marker\": {\"symbol\": \"x\"}, \"mode\": \"lines+markers\", \"name\": \"ExtraTree Classifier\", \"x\": [\"accuracy\", \"auc\", \"MCC\", \"Precision\", \"Recall\"], \"y\": [0.9771596274084471, 0.9363329489212435, 0.8861171614407554, 0.9148446490218642, 0.8833333333333333], \"type\": \"scatter\", \"uid\": \"afaadcc7-66ac-422b-b75e-3fd55eea0e37\"}, {\"marker\": {\"symbol\": \"x\"}, \"mode\": \"lines+markers\", \"name\": \"Bagging\", \"x\": [\"accuracy\", \"auc\", \"MCC\", \"Precision\", \"Recall\"], \"y\": [0.9732040321551614, 0.9278133358960806, 0.866637549443191, 0.8947368421052632, 0.8688888888888889], \"type\": \"scatter\", \"uid\": \"6a6e0331-48a5-43cb-b6b0-4ca3d107bd3e\"}, {\"marker\": {\"symbol\": \"x\"}, \"mode\": \"lines+markers\", \"name\": \"Neural Network\", \"x\": [\"accuracy\", \"auc\", \"MCC\", \"Precision\", \"Recall\"], \"y\": [0.966696439964272, 0.9278133358960806, 0.8399969034235575, 0.8380952380952381, 0.88], \"type\": \"scatter\", \"uid\": \"4337b74d-3127-4956-8c17-ecb137c311eb\"}], {\"title\": \"Result comparision for Features selected in Section 1\", \"yaxis\": {\"dtick\": 0.05, \"tick0\": 0}}, {\"showLink\": true, \"linkText\": \"Export to plot.ly\", \"plotlyServerURL\": \"https://plot.ly\"})});</script><script type=\"text/javascript\">window.addEventListener(\"resize\", function(){window._Plotly.Plots.resize(document.getElementById(\"00f0d027-6cb0-4e30-a526-57fc513cc4f5\"));});</script>"
      ],
      "text/vnd.plotly.v1+html": [
       "<div id=\"00f0d027-6cb0-4e30-a526-57fc513cc4f5\" style=\"height: 525px; width: 100%;\" class=\"plotly-graph-div\"></div><script type=\"text/javascript\">require([\"plotly\"], function(Plotly) { window.PLOTLYENV=window.PLOTLYENV || {};window.PLOTLYENV.BASE_URL=\"https://plot.ly\";Plotly.newPlot(\"00f0d027-6cb0-4e30-a526-57fc513cc4f5\", [{\"mode\": \"lines\", \"name\": \"KNN_model\", \"x\": [\"accuracy\", \"auc\", \"MCC\", \"Precision\", \"Recall\"], \"y\": [0.9420696695163966, 0.9252143097400413, 0.7581666674880841, 0.6889830508474576, 0.9033333333333333], \"type\": \"scatter\", \"uid\": \"4492a46d-86e8-44e9-acc9-af3d248721be\"}, {\"mode\": \"lines+markers\", \"name\": \"XGB\", \"x\": [\"accuracy\", \"auc\", \"MCC\", \"Precision\", \"Recall\"], \"y\": [0.9622304453234656, 0.9409538224977175, 0.8288098517913609, 0.7903846153846154, 0.9133333333333333], \"type\": \"scatter\", \"uid\": \"59c2d603-bd52-476f-9bdc-b823678297b5\"}, {\"marker\": {\"symbol\": \"x\"}, \"mode\": \"lines+markers\", \"name\": \"Random Forest\", \"x\": [\"accuracy\", \"auc\", \"MCC\", \"Precision\", \"Recall\"], \"y\": [0.9770320275615669, 0.9333600019220605, 0.8850049077272638, 0.9195804195804196, 0.8766666666666667], \"type\": \"scatter\", \"uid\": \"2c3ad6cb-1bb8-4bc4-b837-822c3e5fe88a\"}, {\"mode\": \"lines\", \"name\": \"Ada Boost\", \"x\": [\"accuracy\", \"auc\", \"MCC\", \"Precision\", \"Recall\"], \"y\": [0.9511292586448896, 0.9404848397482102, 0.7935005196416658, 0.7245873153779322, 0.9266666666666666], \"type\": \"scatter\", \"uid\": \"8ef138ec-29a2-4e54-ae7b-8798b84ee1b2\"}, {\"mode\": \"lines+markers\", \"name\": \"GradientBoosting\", \"x\": [\"accuracy\", \"auc\", \"MCC\", \"Precision\", \"Recall\"], \"y\": [0.963251244098507, 0.9400800057661813, 0.8319354195692361, 0.7982456140350878, 0.91], \"type\": \"scatter\", \"uid\": \"7af89e3d-43f1-4060-8346-c6ef9d30b699\"}, {\"marker\": {\"symbol\": \"x\"}, \"mode\": \"lines+markers\", \"name\": \"ExtraTree Classifier\", \"x\": [\"accuracy\", \"auc\", \"MCC\", \"Precision\", \"Recall\"], \"y\": [0.9771596274084471, 0.9363329489212435, 0.8861171614407554, 0.9148446490218642, 0.8833333333333333], \"type\": \"scatter\", \"uid\": \"afaadcc7-66ac-422b-b75e-3fd55eea0e37\"}, {\"marker\": {\"symbol\": \"x\"}, \"mode\": \"lines+markers\", \"name\": \"Bagging\", \"x\": [\"accuracy\", \"auc\", \"MCC\", \"Precision\", \"Recall\"], \"y\": [0.9732040321551614, 0.9278133358960806, 0.866637549443191, 0.8947368421052632, 0.8688888888888889], \"type\": \"scatter\", \"uid\": \"6a6e0331-48a5-43cb-b6b0-4ca3d107bd3e\"}, {\"marker\": {\"symbol\": \"x\"}, \"mode\": \"lines+markers\", \"name\": \"Neural Network\", \"x\": [\"accuracy\", \"auc\", \"MCC\", \"Precision\", \"Recall\"], \"y\": [0.966696439964272, 0.9278133358960806, 0.8399969034235575, 0.8380952380952381, 0.88], \"type\": \"scatter\", \"uid\": \"4337b74d-3127-4956-8c17-ecb137c311eb\"}], {\"title\": \"Result comparision for Features selected in Section 1\", \"yaxis\": {\"dtick\": 0.05, \"tick0\": 0}}, {\"showLink\": true, \"linkText\": \"Export to plot.ly\", \"plotlyServerURL\": \"https://plot.ly\"})});</script><script type=\"text/javascript\">window.addEventListener(\"resize\", function(){window._Plotly.Plots.resize(document.getElementById(\"00f0d027-6cb0-4e30-a526-57fc513cc4f5\"));});</script>"
      ]
     },
     "metadata": {},
     "output_type": "display_data"
    }
   ],
   "source": [
    "trace0 = go.Scatter(x=table_80_50_test.iloc[0].index.values[[0,7,8,9,10]],\n",
    "                    y=table_80_50_test.iloc[0].values[[0,7,8,9,10]],\n",
    "                    mode = 'lines',\n",
    "                    name = 'KNN_model')\n",
    "\n",
    "\n",
    "trace2 = go.Scatter(x=table_80_50_test.iloc[1].index.values[[0,7,8,9,10]],\n",
    "                    y=table_80_50_test.iloc[1].values[[0,7,8,9,10]],\n",
    "                    mode = 'lines+markers',marker=dict(symbol='x'),\n",
    "                    name = 'Random Forest')\n",
    "\n",
    "\n",
    "trace3 = go.Scatter(x=table_80_50_test.iloc[2].index.values[[0,7,8,9,10]],\n",
    "                    y=table_80_50_test.iloc[2].values[[0,7,8,9,10]],\n",
    "                    mode = 'lines',\n",
    "                    name = 'Ada Boost')\n",
    "\n",
    "trace4 = go.Scatter(x=table_80_50_test.iloc[3].index.values[[0,7,8,9,10]],\n",
    "                    y=table_80_50_test.iloc[3].values[[0,7,8,9,10]],\n",
    "                    mode = 'lines+markers',\n",
    "                    name = 'GradientBoosting')\n",
    "\n",
    "trace5 = go.Scatter(x=table_80_50_test.iloc[4].index.values[[0,7,8,9,10]],\n",
    "                    y=table_80_50_test.iloc[4].values[[0,7,8,9,10]],\n",
    "                    mode = 'lines+markers',marker=dict(symbol='x'),\n",
    "                    name = 'ExtraTree Classifier')\n",
    "\n",
    "\n",
    "trace1 = go.Scatter(x=table_80_50_test.iloc[5].index.values[[0,7,8,9,10]],\n",
    "                    y=table_80_50_test.iloc[5].values[[0,7,8,9,10]],\n",
    "                    mode = 'lines+markers',\n",
    "                    name = 'XGB')\n",
    "\n",
    "\n",
    "trace6 = go.Scatter(x=table_80_50_test.iloc[6].index.values[[0,7,8,9,10]],\n",
    "                    y=table_80_50_test.iloc[6].values[[0,7,8,9,10]],\n",
    "                    mode = 'lines+markers',marker=dict(symbol='x'),\n",
    "                    name = 'Bagging')\n",
    "\n",
    "trace7 = go.Scatter(x=table_80_50_test.iloc[7].index.values[[0,7,8,9,10]],\n",
    "                    y=table_80_50_test.iloc[7].values[[0,7,8,9,10]],\n",
    "                    mode = 'lines+markers',marker=dict(symbol='x'),\n",
    "                    name = 'Neural Network')\n",
    "\n",
    "\n",
    "\n",
    "data = [trace0, trace1, trace2, trace3, trace4, trace5, trace6, trace7]\n",
    "layout = go.Layout(yaxis=dict(tick0=0,dtick=0.05),title='Result comparision for Features selected in Section 1')\n",
    "fig = go.Figure(data=data, layout=layout)\n",
    "\n",
    "iplot(fig, filename='Result')"
   ]
  },
  {
   "cell_type": "code",
   "execution_count": 14,
   "metadata": {},
   "outputs": [
    {
     "name": "stdout",
     "output_type": "stream",
     "text": [
      "Training Results\n"
     ]
    },
    {
     "data": {
      "text/html": [
       "<div>\n",
       "<style scoped>\n",
       "    .dataframe tbody tr th:only-of-type {\n",
       "        vertical-align: middle;\n",
       "    }\n",
       "\n",
       "    .dataframe tbody tr th {\n",
       "        vertical-align: top;\n",
       "    }\n",
       "\n",
       "    .dataframe thead th {\n",
       "        text-align: right;\n",
       "    }\n",
       "</style>\n",
       "<table border=\"1\" class=\"dataframe\">\n",
       "  <thead>\n",
       "    <tr style=\"text-align: right;\">\n",
       "      <th></th>\n",
       "      <th>accuracy</th>\n",
       "      <th>TP</th>\n",
       "      <th>TN</th>\n",
       "      <th>FP</th>\n",
       "      <th>FN</th>\n",
       "      <th>FPR</th>\n",
       "      <th>FNR</th>\n",
       "    </tr>\n",
       "    <tr>\n",
       "      <th>index</th>\n",
       "      <th></th>\n",
       "      <th></th>\n",
       "      <th></th>\n",
       "      <th></th>\n",
       "      <th></th>\n",
       "      <th></th>\n",
       "      <th></th>\n",
       "    </tr>\n",
       "  </thead>\n",
       "  <tbody>\n",
       "    <tr>\n",
       "      <th>KNeighborsClassifier</th>\n",
       "      <td>0.980309</td>\n",
       "      <td>27668.0</td>\n",
       "      <td>26847.0</td>\n",
       "      <td>958.0</td>\n",
       "      <td>137.0</td>\n",
       "      <td>0.034454</td>\n",
       "      <td>0.004927</td>\n",
       "    </tr>\n",
       "    <tr>\n",
       "      <th>RandomForestClassifier</th>\n",
       "      <td>0.997914</td>\n",
       "      <td>27730.0</td>\n",
       "      <td>27764.0</td>\n",
       "      <td>41.0</td>\n",
       "      <td>75.0</td>\n",
       "      <td>0.001475</td>\n",
       "      <td>0.002697</td>\n",
       "    </tr>\n",
       "    <tr>\n",
       "      <th>AdaBoostClassifier</th>\n",
       "      <td>0.957526</td>\n",
       "      <td>26723.0</td>\n",
       "      <td>26525.0</td>\n",
       "      <td>1280.0</td>\n",
       "      <td>1082.0</td>\n",
       "      <td>0.046035</td>\n",
       "      <td>0.038914</td>\n",
       "    </tr>\n",
       "    <tr>\n",
       "      <th>GradientBoostingClassifier</th>\n",
       "      <td>0.971678</td>\n",
       "      <td>27010.0</td>\n",
       "      <td>27025.0</td>\n",
       "      <td>780.0</td>\n",
       "      <td>795.0</td>\n",
       "      <td>0.028053</td>\n",
       "      <td>0.028592</td>\n",
       "    </tr>\n",
       "    <tr>\n",
       "      <th>ExtraTreeClassifier</th>\n",
       "      <td>0.998723</td>\n",
       "      <td>27737.0</td>\n",
       "      <td>27802.0</td>\n",
       "      <td>3.0</td>\n",
       "      <td>68.0</td>\n",
       "      <td>0.000108</td>\n",
       "      <td>0.002446</td>\n",
       "    </tr>\n",
       "    <tr>\n",
       "      <th>XGB</th>\n",
       "      <td>0.970023</td>\n",
       "      <td>26988.0</td>\n",
       "      <td>26955.0</td>\n",
       "      <td>850.0</td>\n",
       "      <td>817.0</td>\n",
       "      <td>0.030570</td>\n",
       "      <td>0.029383</td>\n",
       "    </tr>\n",
       "    <tr>\n",
       "      <th>BaggingClassifier</th>\n",
       "      <td>0.997752</td>\n",
       "      <td>27719.0</td>\n",
       "      <td>27766.0</td>\n",
       "      <td>39.0</td>\n",
       "      <td>86.0</td>\n",
       "      <td>0.001403</td>\n",
       "      <td>0.003093</td>\n",
       "    </tr>\n",
       "    <tr>\n",
       "      <th>Neural Network-1</th>\n",
       "      <td>0.991261</td>\n",
       "      <td>27485.0</td>\n",
       "      <td>27639.0</td>\n",
       "      <td>166.0</td>\n",
       "      <td>320.0</td>\n",
       "      <td>0.005970</td>\n",
       "      <td>0.011509</td>\n",
       "    </tr>\n",
       "  </tbody>\n",
       "</table>\n",
       "</div>"
      ],
      "text/plain": [
       "                            accuracy       TP       TN      FP      FN  \\\n",
       "index                                                                    \n",
       "KNeighborsClassifier        0.980309  27668.0  26847.0   958.0   137.0   \n",
       "RandomForestClassifier      0.997914  27730.0  27764.0    41.0    75.0   \n",
       "AdaBoostClassifier          0.957526  26723.0  26525.0  1280.0  1082.0   \n",
       "GradientBoostingClassifier  0.971678  27010.0  27025.0   780.0   795.0   \n",
       "ExtraTreeClassifier         0.998723  27737.0  27802.0     3.0    68.0   \n",
       "XGB                         0.970023  26988.0  26955.0   850.0   817.0   \n",
       "BaggingClassifier           0.997752  27719.0  27766.0    39.0    86.0   \n",
       "Neural Network-1            0.991261  27485.0  27639.0   166.0   320.0   \n",
       "\n",
       "                                 FPR       FNR  \n",
       "index                                           \n",
       "KNeighborsClassifier        0.034454  0.004927  \n",
       "RandomForestClassifier      0.001475  0.002697  \n",
       "AdaBoostClassifier          0.046035  0.038914  \n",
       "GradientBoostingClassifier  0.028053  0.028592  \n",
       "ExtraTreeClassifier         0.000108  0.002446  \n",
       "XGB                         0.030570  0.029383  \n",
       "BaggingClassifier           0.001403  0.003093  \n",
       "Neural Network-1            0.005970  0.011509  "
      ]
     },
     "metadata": {},
     "output_type": "display_data"
    },
    {
     "name": "stdout",
     "output_type": "stream",
     "text": [
      "Test Results\n"
     ]
    },
    {
     "data": {
      "text/html": [
       "<div>\n",
       "<style scoped>\n",
       "    .dataframe tbody tr th:only-of-type {\n",
       "        vertical-align: middle;\n",
       "    }\n",
       "\n",
       "    .dataframe tbody tr th {\n",
       "        vertical-align: top;\n",
       "    }\n",
       "\n",
       "    .dataframe thead th {\n",
       "        text-align: right;\n",
       "    }\n",
       "</style>\n",
       "<table border=\"1\" class=\"dataframe\">\n",
       "  <thead>\n",
       "    <tr style=\"text-align: right;\">\n",
       "      <th></th>\n",
       "      <th>accuracy</th>\n",
       "      <th>TP</th>\n",
       "      <th>TN</th>\n",
       "      <th>FP</th>\n",
       "      <th>FN</th>\n",
       "      <th>FPR</th>\n",
       "      <th>FNR</th>\n",
       "      <th>auc</th>\n",
       "      <th>MCC</th>\n",
       "      <th>Precision</th>\n",
       "      <th>Recall</th>\n",
       "    </tr>\n",
       "    <tr>\n",
       "      <th>index</th>\n",
       "      <th></th>\n",
       "      <th></th>\n",
       "      <th></th>\n",
       "      <th></th>\n",
       "      <th></th>\n",
       "      <th></th>\n",
       "      <th></th>\n",
       "      <th></th>\n",
       "      <th></th>\n",
       "      <th></th>\n",
       "      <th></th>\n",
       "    </tr>\n",
       "  </thead>\n",
       "  <tbody>\n",
       "    <tr>\n",
       "      <th>KNeighborsClassifier</th>\n",
       "      <td>0.942070</td>\n",
       "      <td>813.0</td>\n",
       "      <td>6570.0</td>\n",
       "      <td>367.0</td>\n",
       "      <td>87.0</td>\n",
       "      <td>0.052905</td>\n",
       "      <td>0.096667</td>\n",
       "      <td>0.925214</td>\n",
       "      <td>0.758167</td>\n",
       "      <td>0.688983</td>\n",
       "      <td>0.903333</td>\n",
       "    </tr>\n",
       "    <tr>\n",
       "      <th>RandomForestClassifier</th>\n",
       "      <td>0.977032</td>\n",
       "      <td>789.0</td>\n",
       "      <td>6868.0</td>\n",
       "      <td>69.0</td>\n",
       "      <td>111.0</td>\n",
       "      <td>0.009947</td>\n",
       "      <td>0.123333</td>\n",
       "      <td>0.933360</td>\n",
       "      <td>0.885005</td>\n",
       "      <td>0.919580</td>\n",
       "      <td>0.876667</td>\n",
       "    </tr>\n",
       "    <tr>\n",
       "      <th>AdaBoostClassifier</th>\n",
       "      <td>0.951129</td>\n",
       "      <td>834.0</td>\n",
       "      <td>6620.0</td>\n",
       "      <td>317.0</td>\n",
       "      <td>66.0</td>\n",
       "      <td>0.045697</td>\n",
       "      <td>0.073333</td>\n",
       "      <td>0.940485</td>\n",
       "      <td>0.793501</td>\n",
       "      <td>0.724587</td>\n",
       "      <td>0.926667</td>\n",
       "    </tr>\n",
       "    <tr>\n",
       "      <th>GradientBoostingClassifier</th>\n",
       "      <td>0.963251</td>\n",
       "      <td>819.0</td>\n",
       "      <td>6730.0</td>\n",
       "      <td>207.0</td>\n",
       "      <td>81.0</td>\n",
       "      <td>0.029840</td>\n",
       "      <td>0.090000</td>\n",
       "      <td>0.940080</td>\n",
       "      <td>0.831935</td>\n",
       "      <td>0.798246</td>\n",
       "      <td>0.910000</td>\n",
       "    </tr>\n",
       "    <tr>\n",
       "      <th>ExtraTreeClassifier</th>\n",
       "      <td>0.977160</td>\n",
       "      <td>795.0</td>\n",
       "      <td>6863.0</td>\n",
       "      <td>74.0</td>\n",
       "      <td>105.0</td>\n",
       "      <td>0.010667</td>\n",
       "      <td>0.116667</td>\n",
       "      <td>0.936333</td>\n",
       "      <td>0.886117</td>\n",
       "      <td>0.914845</td>\n",
       "      <td>0.883333</td>\n",
       "    </tr>\n",
       "    <tr>\n",
       "      <th>XGB</th>\n",
       "      <td>0.962230</td>\n",
       "      <td>822.0</td>\n",
       "      <td>6719.0</td>\n",
       "      <td>218.0</td>\n",
       "      <td>78.0</td>\n",
       "      <td>0.031426</td>\n",
       "      <td>0.086667</td>\n",
       "      <td>0.940954</td>\n",
       "      <td>0.828810</td>\n",
       "      <td>0.790385</td>\n",
       "      <td>0.913333</td>\n",
       "    </tr>\n",
       "    <tr>\n",
       "      <th>BaggingClassifier</th>\n",
       "      <td>0.973204</td>\n",
       "      <td>782.0</td>\n",
       "      <td>6845.0</td>\n",
       "      <td>92.0</td>\n",
       "      <td>118.0</td>\n",
       "      <td>0.013262</td>\n",
       "      <td>0.131111</td>\n",
       "      <td>0.927813</td>\n",
       "      <td>0.866638</td>\n",
       "      <td>0.894737</td>\n",
       "      <td>0.868889</td>\n",
       "    </tr>\n",
       "    <tr>\n",
       "      <th>Neural Network-1</th>\n",
       "      <td>0.966696</td>\n",
       "      <td>792.0</td>\n",
       "      <td>6784.0</td>\n",
       "      <td>153.0</td>\n",
       "      <td>108.0</td>\n",
       "      <td>0.022056</td>\n",
       "      <td>0.120000</td>\n",
       "      <td>0.927813</td>\n",
       "      <td>0.839997</td>\n",
       "      <td>0.838095</td>\n",
       "      <td>0.880000</td>\n",
       "    </tr>\n",
       "  </tbody>\n",
       "</table>\n",
       "</div>"
      ],
      "text/plain": [
       "                            accuracy     TP      TN     FP     FN       FPR  \\\n",
       "index                                                                         \n",
       "KNeighborsClassifier        0.942070  813.0  6570.0  367.0   87.0  0.052905   \n",
       "RandomForestClassifier      0.977032  789.0  6868.0   69.0  111.0  0.009947   \n",
       "AdaBoostClassifier          0.951129  834.0  6620.0  317.0   66.0  0.045697   \n",
       "GradientBoostingClassifier  0.963251  819.0  6730.0  207.0   81.0  0.029840   \n",
       "ExtraTreeClassifier         0.977160  795.0  6863.0   74.0  105.0  0.010667   \n",
       "XGB                         0.962230  822.0  6719.0  218.0   78.0  0.031426   \n",
       "BaggingClassifier           0.973204  782.0  6845.0   92.0  118.0  0.013262   \n",
       "Neural Network-1            0.966696  792.0  6784.0  153.0  108.0  0.022056   \n",
       "\n",
       "                                 FNR       auc       MCC  Precision    Recall  \n",
       "index                                                                          \n",
       "KNeighborsClassifier        0.096667  0.925214  0.758167   0.688983  0.903333  \n",
       "RandomForestClassifier      0.123333  0.933360  0.885005   0.919580  0.876667  \n",
       "AdaBoostClassifier          0.073333  0.940485  0.793501   0.724587  0.926667  \n",
       "GradientBoostingClassifier  0.090000  0.940080  0.831935   0.798246  0.910000  \n",
       "ExtraTreeClassifier         0.116667  0.936333  0.886117   0.914845  0.883333  \n",
       "XGB                         0.086667  0.940954  0.828810   0.790385  0.913333  \n",
       "BaggingClassifier           0.131111  0.927813  0.866638   0.894737  0.868889  \n",
       "Neural Network-1            0.120000  0.927813  0.839997   0.838095  0.880000  "
      ]
     },
     "metadata": {},
     "output_type": "display_data"
    }
   ],
   "source": [
    "table_80_50_train['index']=ind_columns\n",
    "table_80_50_test['index']=ind_columns\n",
    "\n",
    "\n",
    "table_80_50_test.set_index(['index'],drop=True,inplace=True)\n",
    "table_80_50_train.set_index(['index'],drop=True,inplace=True)\n",
    "\n",
    "print(\"Training Results\")\n",
    "display(table_80_50_train)\n",
    "print(\"Test Results\")\n",
    "display(table_80_50_test)"
   ]
  },
  {
   "cell_type": "markdown",
   "metadata": {},
   "source": [
    "### <a id='2.B' style=\"text-decoration : none; color : #000000;\"> B. Average Feature Importances</a>"
   ]
  },
  {
   "cell_type": "code",
   "execution_count": 15,
   "metadata": {},
   "outputs": [
    {
     "data": {
      "application/vnd.plotly.v1+json": {
       "config": {
        "linkText": "Export to plot.ly",
        "plotlyServerURL": "https://plot.ly",
        "showLink": true
       },
       "data": [
        {
         "marker": {
          "color": "rgb(158,202,225)",
          "line": {
           "color": "rgb(8,48,107)",
           "width": 1.5
          }
         },
         "opacity": 0.6,
         "orientation": "h",
         "text": [
          0.1318,
          0.0845,
          0.0717,
          0.059,
          0.0575,
          0.0489,
          0.041,
          0.0371,
          0.0348,
          0.0339,
          0.0318,
          0.0286,
          0.0276,
          0.0273,
          0.0265,
          0.025,
          0.0212,
          0.0193,
          0.0187,
          0.0182,
          0.0179,
          0.0162,
          0.016,
          0.0149,
          0.0145,
          0.0132,
          0.0121,
          0.012,
          0.0092,
          0.0086,
          0.0083,
          0.0053,
          0.0042,
          0.0033
         ],
         "textposition": "outside",
         "type": "bar",
         "uid": "becd7d46-2940-4a30-998a-63c65adfb6b1",
         "x": [
          0.13184161105130576,
          0.08447353302418448,
          0.07170486519467878,
          0.05896357105232999,
          0.057528303159523494,
          0.0488845015444028,
          0.04095576049680033,
          0.037103593981352656,
          0.03482804627845962,
          0.03387058797619106,
          0.0318395375379439,
          0.028581172443179214,
          0.0275779382991779,
          0.02733531253306092,
          0.02651074098302385,
          0.024986782213557154,
          0.02116589313921711,
          0.019271744066521677,
          0.01868086297116638,
          0.01819886330145189,
          0.017915848318317946,
          0.016190209277485546,
          0.015950692478910386,
          0.014889664678360687,
          0.01453109068586047,
          0.013220939967177409,
          0.012133357975701734,
          0.01201248261576321,
          0.009201428753257059,
          0.008566158439364235,
          0.008349573846188155,
          0.005280993119019766,
          0.004191974901672701,
          0.0032623642076191573
         ],
         "y": [
          "total_count",
          "url_length",
          "url_extensions",
          "meta_count",
          "url_char_w",
          "http_header_content-encoding_gzip",
          "url_char_.",
          "link_href_out_of_domain",
          "link_type_text/css",
          "total_href",
          "url_char_l",
          "http_header_transfer-encoding_chunked",
          "http_header_cache-control_set_max-age",
          "push",
          "url_char_i",
          "a_count",
          "a_href_out_of_domain",
          "p_count",
          "center_count",
          "http_header_server_apache",
          "a_href_relative",
          "url_extension_.com",
          "script_async_true",
          "img_src_http",
          "url_char_z",
          "form_action_http",
          "http_header_vary_user-agent",
          "http_header_via_1.1",
          "url_char_f",
          "a_href_https",
          "iframe_src_.html",
          "url_char_p",
          "a_href_http",
          "url_char_y"
         ]
        }
       ],
       "layout": {
        "autosize": false,
        "height": 1000,
        "width": 1000,
        "xaxis": {
         "tickfont": {
          "color": "black",
          "size": 12
         },
         "title": "Feature Importances"
        },
        "yaxis": {
         "automargin": true
        }
       }
      },
      "text/html": [
       "<div id=\"58bd6f70-62da-41f9-a985-50c865e1729e\" style=\"height: 1000px; width: 1000px;\" class=\"plotly-graph-div\"></div><script type=\"text/javascript\">require([\"plotly\"], function(Plotly) { window.PLOTLYENV=window.PLOTLYENV || {};window.PLOTLYENV.BASE_URL=\"https://plot.ly\";Plotly.newPlot(\"58bd6f70-62da-41f9-a985-50c865e1729e\", [{\"marker\": {\"color\": \"rgb(158,202,225)\", \"line\": {\"color\": \"rgb(8,48,107)\", \"width\": 1.5}}, \"opacity\": 0.6, \"orientation\": \"h\", \"text\": [0.1318, 0.0845, 0.0717, 0.059, 0.0575, 0.0489, 0.041, 0.0371, 0.0348, 0.0339, 0.0318, 0.0286, 0.0276, 0.0273, 0.0265, 0.025, 0.0212, 0.0193, 0.0187, 0.0182, 0.0179, 0.0162, 0.016, 0.0149, 0.0145, 0.0132, 0.0121, 0.012, 0.0092, 0.0086, 0.0083, 0.0053, 0.0042, 0.0033], \"textposition\": \"outside\", \"x\": [0.13184161105130576, 0.08447353302418448, 0.07170486519467878, 0.05896357105232999, 0.057528303159523494, 0.0488845015444028, 0.04095576049680033, 0.037103593981352656, 0.03482804627845962, 0.03387058797619106, 0.0318395375379439, 0.028581172443179214, 0.0275779382991779, 0.02733531253306092, 0.02651074098302385, 0.024986782213557154, 0.02116589313921711, 0.019271744066521677, 0.01868086297116638, 0.01819886330145189, 0.017915848318317946, 0.016190209277485546, 0.015950692478910386, 0.014889664678360687, 0.01453109068586047, 0.013220939967177409, 0.012133357975701734, 0.01201248261576321, 0.009201428753257059, 0.008566158439364235, 0.008349573846188155, 0.005280993119019766, 0.004191974901672701, 0.0032623642076191573], \"y\": [\"total_count\", \"url_length\", \"url_extensions\", \"meta_count\", \"url_char_w\", \"http_header_content-encoding_gzip\", \"url_char_.\", \"link_href_out_of_domain\", \"link_type_text/css\", \"total_href\", \"url_char_l\", \"http_header_transfer-encoding_chunked\", \"http_header_cache-control_set_max-age\", \"push\", \"url_char_i\", \"a_count\", \"a_href_out_of_domain\", \"p_count\", \"center_count\", \"http_header_server_apache\", \"a_href_relative\", \"url_extension_.com\", \"script_async_true\", \"img_src_http\", \"url_char_z\", \"form_action_http\", \"http_header_vary_user-agent\", \"http_header_via_1.1\", \"url_char_f\", \"a_href_https\", \"iframe_src_.html\", \"url_char_p\", \"a_href_http\", \"url_char_y\"], \"type\": \"bar\", \"uid\": \"becd7d46-2940-4a30-998a-63c65adfb6b1\"}], {\"autosize\": false, \"height\": 1000, \"width\": 1000, \"xaxis\": {\"tickfont\": {\"color\": \"black\", \"size\": 12}, \"title\": \"Feature Importances\"}, \"yaxis\": {\"automargin\": true}}, {\"showLink\": true, \"linkText\": \"Export to plot.ly\", \"plotlyServerURL\": \"https://plot.ly\"})});</script>"
      ],
      "text/vnd.plotly.v1+html": [
       "<div id=\"58bd6f70-62da-41f9-a985-50c865e1729e\" style=\"height: 1000px; width: 1000px;\" class=\"plotly-graph-div\"></div><script type=\"text/javascript\">require([\"plotly\"], function(Plotly) { window.PLOTLYENV=window.PLOTLYENV || {};window.PLOTLYENV.BASE_URL=\"https://plot.ly\";Plotly.newPlot(\"58bd6f70-62da-41f9-a985-50c865e1729e\", [{\"marker\": {\"color\": \"rgb(158,202,225)\", \"line\": {\"color\": \"rgb(8,48,107)\", \"width\": 1.5}}, \"opacity\": 0.6, \"orientation\": \"h\", \"text\": [0.1318, 0.0845, 0.0717, 0.059, 0.0575, 0.0489, 0.041, 0.0371, 0.0348, 0.0339, 0.0318, 0.0286, 0.0276, 0.0273, 0.0265, 0.025, 0.0212, 0.0193, 0.0187, 0.0182, 0.0179, 0.0162, 0.016, 0.0149, 0.0145, 0.0132, 0.0121, 0.012, 0.0092, 0.0086, 0.0083, 0.0053, 0.0042, 0.0033], \"textposition\": \"outside\", \"x\": [0.13184161105130576, 0.08447353302418448, 0.07170486519467878, 0.05896357105232999, 0.057528303159523494, 0.0488845015444028, 0.04095576049680033, 0.037103593981352656, 0.03482804627845962, 0.03387058797619106, 0.0318395375379439, 0.028581172443179214, 0.0275779382991779, 0.02733531253306092, 0.02651074098302385, 0.024986782213557154, 0.02116589313921711, 0.019271744066521677, 0.01868086297116638, 0.01819886330145189, 0.017915848318317946, 0.016190209277485546, 0.015950692478910386, 0.014889664678360687, 0.01453109068586047, 0.013220939967177409, 0.012133357975701734, 0.01201248261576321, 0.009201428753257059, 0.008566158439364235, 0.008349573846188155, 0.005280993119019766, 0.004191974901672701, 0.0032623642076191573], \"y\": [\"total_count\", \"url_length\", \"url_extensions\", \"meta_count\", \"url_char_w\", \"http_header_content-encoding_gzip\", \"url_char_.\", \"link_href_out_of_domain\", \"link_type_text/css\", \"total_href\", \"url_char_l\", \"http_header_transfer-encoding_chunked\", \"http_header_cache-control_set_max-age\", \"push\", \"url_char_i\", \"a_count\", \"a_href_out_of_domain\", \"p_count\", \"center_count\", \"http_header_server_apache\", \"a_href_relative\", \"url_extension_.com\", \"script_async_true\", \"img_src_http\", \"url_char_z\", \"form_action_http\", \"http_header_vary_user-agent\", \"http_header_via_1.1\", \"url_char_f\", \"a_href_https\", \"iframe_src_.html\", \"url_char_p\", \"a_href_http\", \"url_char_y\"], \"type\": \"bar\", \"uid\": \"becd7d46-2940-4a30-998a-63c65adfb6b1\"}], {\"autosize\": false, \"height\": 1000, \"width\": 1000, \"xaxis\": {\"tickfont\": {\"color\": \"black\", \"size\": 12}, \"title\": \"Feature Importances\"}, \"yaxis\": {\"automargin\": true}}, {\"showLink\": true, \"linkText\": \"Export to plot.ly\", \"plotlyServerURL\": \"https://plot.ly\"})});</script>"
      ]
     },
     "metadata": {},
     "output_type": "display_data"
    }
   ],
   "source": [
    "feat_impt_plot(np.average(feat_imp,axis=0),columns)"
   ]
  },
  {
   "cell_type": "markdown",
   "metadata": {},
   "source": [
    "### <a id='3' style=\"text-decoration : none; color : #000000;\">3. UnderSampling </a>"
   ]
  },
  {
   "cell_type": "code",
   "execution_count": 16,
   "metadata": {
    "scrolled": false
   },
   "outputs": [
    {
     "name": "stdout",
     "output_type": "stream",
     "text": [
      "Shape after undersampling (7082, 34)\n",
      "\u001b[1mK-Nearest Neighbors\u001b[0m\n",
      "Accuracy of the model for training data is: 0.9502965264049703\n",
      "Confusion Matrix for training data is:\n"
     ]
    },
    {
     "data": {
      "text/plain": [
       "Predicted  False  True  __all__\n",
       "Actual                         \n",
       "False       3375   166     3541\n",
       "True         186  3355     3541\n",
       "__all__     3561  3521     7082"
      ]
     },
     "metadata": {},
     "output_type": "display_data"
    },
    {
     "name": "stdout",
     "output_type": "stream",
     "text": [
      "Accuracy of the model for test data is: 0.9289268852877377\n",
      "Confusion Matrix for test data is:\n"
     ]
    },
    {
     "data": {
      "text/plain": [
       "Predicted  False  True  __all__\n",
       "Actual                         \n",
       "False       6456   481     6937\n",
       "True          76   824      900\n",
       "__all__     6532  1305     7837"
      ]
     },
     "metadata": {},
     "output_type": "display_data"
    },
    {
     "name": "stdout",
     "output_type": "stream",
     "text": [
      "\n",
      "\n",
      "\u001b[1mRandomForest Classifier\u001b[0m\n",
      "Accuracy of the model for training data is: 0.9927986444507201\n",
      "Confusion Matrix for training data is:\n"
     ]
    },
    {
     "data": {
      "text/plain": [
       "Predicted  False  True  __all__\n",
       "Actual                         \n",
       "False       3524    17     3541\n",
       "True          34  3507     3541\n",
       "__all__     3558  3524     7082"
      ]
     },
     "metadata": {},
     "output_type": "display_data"
    },
    {
     "name": "stdout",
     "output_type": "stream",
     "text": [
      "Accuracy of the model for test data is: 0.9547020543575347\n",
      "Confusion Matrix for test data is:\n"
     ]
    },
    {
     "data": {
      "text/plain": [
       "Predicted  False  True  __all__\n",
       "Actual                         \n",
       "False       6642   295     6937\n",
       "True          60   840      900\n",
       "__all__     6702  1135     7837"
      ]
     },
     "metadata": {},
     "output_type": "display_data"
    },
    {
     "data": {
      "application/vnd.plotly.v1+json": {
       "config": {
        "linkText": "Export to plot.ly",
        "plotlyServerURL": "https://plot.ly",
        "showLink": true
       },
       "data": [
        {
         "marker": {
          "color": "rgb(158,202,225)",
          "line": {
           "color": "rgb(8,48,107)",
           "width": 1.5
          }
         },
         "opacity": 0.6,
         "orientation": "h",
         "text": [
          0.1728,
          0.074,
          0.0731,
          0.072,
          0.0717,
          0.0695,
          0.0622,
          0.0609,
          0.0607,
          0.0471,
          0.0357,
          0.0305,
          0.0155,
          0.0153,
          0.0119,
          0.0117,
          0.0107,
          0.0107,
          0.0102,
          0.0099,
          0.0098,
          0.0083,
          0.0082,
          0.0076,
          0.0069,
          0.0058,
          0.0058,
          0.0048,
          0.0044,
          0.0043,
          0.0028,
          0.0025,
          0.002,
          0.0003
         ],
         "textposition": "outside",
         "type": "bar",
         "uid": "4295eb86-72d4-47c9-8fae-2296621e613d",
         "x": [
          0.17280885583516375,
          0.07395613193182302,
          0.07312705038685648,
          0.0720205545554395,
          0.07172743813353592,
          0.06953496276279222,
          0.062168955825600336,
          0.06091571120879273,
          0.06070336664053934,
          0.04712258786474643,
          0.03574406321850874,
          0.030484615561626665,
          0.015504503713604328,
          0.015302512957662157,
          0.011943639604722972,
          0.011673722951371455,
          0.010712825071370833,
          0.010677802739659705,
          0.010229857244971286,
          0.009920042803674204,
          0.009812840335578495,
          0.008342368824590279,
          0.008198052376302757,
          0.007621325652038065,
          0.006864125503536232,
          0.005844104373471449,
          0.0058411927373353215,
          0.004812198837779634,
          0.004373870904618375,
          0.004336602198814782,
          0.0028398312737416497,
          0.0025077241658009904,
          0.0020391665274236883,
          0.00028739527650625433
         ],
         "y": [
          "meta_count",
          "total_count",
          "total_href",
          "a_count",
          "url_length",
          "a_href_relative",
          "url_extensions",
          "link_href_out_of_domain",
          "link_type_text/css",
          "script_async_true",
          "url_char_.",
          "url_char_w",
          "url_char_i",
          "a_href_out_of_domain",
          "p_count",
          "http_header_server_apache",
          "url_char_l",
          "push",
          "url_extension_.com",
          "a_href_https",
          "url_char_p",
          "url_char_z",
          "http_header_content-encoding_gzip",
          "http_header_transfer-encoding_chunked",
          "url_char_y",
          "http_header_vary_user-agent",
          "url_char_f",
          "img_src_http",
          "http_header_cache-control_set_max-age",
          "a_href_http",
          "form_action_http",
          "center_count",
          "http_header_via_1.1",
          "iframe_src_.html"
         ]
        }
       ],
       "layout": {
        "autosize": false,
        "height": 1000,
        "width": 1000,
        "xaxis": {
         "tickfont": {
          "color": "black",
          "size": 12
         },
         "title": "Feature Importances"
        },
        "yaxis": {
         "automargin": true
        }
       }
      },
      "text/html": [
       "<div id=\"c26b22ce-47eb-46c3-83e3-2e07356a7ad5\" style=\"height: 1000px; width: 1000px;\" class=\"plotly-graph-div\"></div><script type=\"text/javascript\">require([\"plotly\"], function(Plotly) { window.PLOTLYENV=window.PLOTLYENV || {};window.PLOTLYENV.BASE_URL=\"https://plot.ly\";Plotly.newPlot(\"c26b22ce-47eb-46c3-83e3-2e07356a7ad5\", [{\"marker\": {\"color\": \"rgb(158,202,225)\", \"line\": {\"color\": \"rgb(8,48,107)\", \"width\": 1.5}}, \"opacity\": 0.6, \"orientation\": \"h\", \"text\": [0.1728, 0.074, 0.0731, 0.072, 0.0717, 0.0695, 0.0622, 0.0609, 0.0607, 0.0471, 0.0357, 0.0305, 0.0155, 0.0153, 0.0119, 0.0117, 0.0107, 0.0107, 0.0102, 0.0099, 0.0098, 0.0083, 0.0082, 0.0076, 0.0069, 0.0058, 0.0058, 0.0048, 0.0044, 0.0043, 0.0028, 0.0025, 0.002, 0.0003], \"textposition\": \"outside\", \"x\": [0.17280885583516375, 0.07395613193182302, 0.07312705038685648, 0.0720205545554395, 0.07172743813353592, 0.06953496276279222, 0.062168955825600336, 0.06091571120879273, 0.06070336664053934, 0.04712258786474643, 0.03574406321850874, 0.030484615561626665, 0.015504503713604328, 0.015302512957662157, 0.011943639604722972, 0.011673722951371455, 0.010712825071370833, 0.010677802739659705, 0.010229857244971286, 0.009920042803674204, 0.009812840335578495, 0.008342368824590279, 0.008198052376302757, 0.007621325652038065, 0.006864125503536232, 0.005844104373471449, 0.0058411927373353215, 0.004812198837779634, 0.004373870904618375, 0.004336602198814782, 0.0028398312737416497, 0.0025077241658009904, 0.0020391665274236883, 0.00028739527650625433], \"y\": [\"meta_count\", \"total_count\", \"total_href\", \"a_count\", \"url_length\", \"a_href_relative\", \"url_extensions\", \"link_href_out_of_domain\", \"link_type_text/css\", \"script_async_true\", \"url_char_.\", \"url_char_w\", \"url_char_i\", \"a_href_out_of_domain\", \"p_count\", \"http_header_server_apache\", \"url_char_l\", \"push\", \"url_extension_.com\", \"a_href_https\", \"url_char_p\", \"url_char_z\", \"http_header_content-encoding_gzip\", \"http_header_transfer-encoding_chunked\", \"url_char_y\", \"http_header_vary_user-agent\", \"url_char_f\", \"img_src_http\", \"http_header_cache-control_set_max-age\", \"a_href_http\", \"form_action_http\", \"center_count\", \"http_header_via_1.1\", \"iframe_src_.html\"], \"type\": \"bar\", \"uid\": \"4295eb86-72d4-47c9-8fae-2296621e613d\"}], {\"autosize\": false, \"height\": 1000, \"width\": 1000, \"xaxis\": {\"tickfont\": {\"color\": \"black\", \"size\": 12}, \"title\": \"Feature Importances\"}, \"yaxis\": {\"automargin\": true}}, {\"showLink\": true, \"linkText\": \"Export to plot.ly\", \"plotlyServerURL\": \"https://plot.ly\"})});</script>"
      ],
      "text/vnd.plotly.v1+html": [
       "<div id=\"c26b22ce-47eb-46c3-83e3-2e07356a7ad5\" style=\"height: 1000px; width: 1000px;\" class=\"plotly-graph-div\"></div><script type=\"text/javascript\">require([\"plotly\"], function(Plotly) { window.PLOTLYENV=window.PLOTLYENV || {};window.PLOTLYENV.BASE_URL=\"https://plot.ly\";Plotly.newPlot(\"c26b22ce-47eb-46c3-83e3-2e07356a7ad5\", [{\"marker\": {\"color\": \"rgb(158,202,225)\", \"line\": {\"color\": \"rgb(8,48,107)\", \"width\": 1.5}}, \"opacity\": 0.6, \"orientation\": \"h\", \"text\": [0.1728, 0.074, 0.0731, 0.072, 0.0717, 0.0695, 0.0622, 0.0609, 0.0607, 0.0471, 0.0357, 0.0305, 0.0155, 0.0153, 0.0119, 0.0117, 0.0107, 0.0107, 0.0102, 0.0099, 0.0098, 0.0083, 0.0082, 0.0076, 0.0069, 0.0058, 0.0058, 0.0048, 0.0044, 0.0043, 0.0028, 0.0025, 0.002, 0.0003], \"textposition\": \"outside\", \"x\": [0.17280885583516375, 0.07395613193182302, 0.07312705038685648, 0.0720205545554395, 0.07172743813353592, 0.06953496276279222, 0.062168955825600336, 0.06091571120879273, 0.06070336664053934, 0.04712258786474643, 0.03574406321850874, 0.030484615561626665, 0.015504503713604328, 0.015302512957662157, 0.011943639604722972, 0.011673722951371455, 0.010712825071370833, 0.010677802739659705, 0.010229857244971286, 0.009920042803674204, 0.009812840335578495, 0.008342368824590279, 0.008198052376302757, 0.007621325652038065, 0.006864125503536232, 0.005844104373471449, 0.0058411927373353215, 0.004812198837779634, 0.004373870904618375, 0.004336602198814782, 0.0028398312737416497, 0.0025077241658009904, 0.0020391665274236883, 0.00028739527650625433], \"y\": [\"meta_count\", \"total_count\", \"total_href\", \"a_count\", \"url_length\", \"a_href_relative\", \"url_extensions\", \"link_href_out_of_domain\", \"link_type_text/css\", \"script_async_true\", \"url_char_.\", \"url_char_w\", \"url_char_i\", \"a_href_out_of_domain\", \"p_count\", \"http_header_server_apache\", \"url_char_l\", \"push\", \"url_extension_.com\", \"a_href_https\", \"url_char_p\", \"url_char_z\", \"http_header_content-encoding_gzip\", \"http_header_transfer-encoding_chunked\", \"url_char_y\", \"http_header_vary_user-agent\", \"url_char_f\", \"img_src_http\", \"http_header_cache-control_set_max-age\", \"a_href_http\", \"form_action_http\", \"center_count\", \"http_header_via_1.1\", \"iframe_src_.html\"], \"type\": \"bar\", \"uid\": \"4295eb86-72d4-47c9-8fae-2296621e613d\"}], {\"autosize\": false, \"height\": 1000, \"width\": 1000, \"xaxis\": {\"tickfont\": {\"color\": \"black\", \"size\": 12}, \"title\": \"Feature Importances\"}, \"yaxis\": {\"automargin\": true}}, {\"showLink\": true, \"linkText\": \"Export to plot.ly\", \"plotlyServerURL\": \"https://plot.ly\"})});</script>"
      ]
     },
     "metadata": {},
     "output_type": "display_data"
    },
    {
     "name": "stdout",
     "output_type": "stream",
     "text": [
      "\n",
      "\n",
      "\u001b[1mAdaoost Classifier\u001b[0m\n",
      "Accuracy of the model for training data is: 0.9402711098559728\n",
      "Confusion Matrix for training data is:\n"
     ]
    },
    {
     "data": {
      "text/plain": [
       "Predicted  False  True  __all__\n",
       "Actual                         \n",
       "False       3305   236     3541\n",
       "True         187  3354     3541\n",
       "__all__     3492  3590     7082"
      ]
     },
     "metadata": {},
     "output_type": "display_data"
    },
    {
     "name": "stdout",
     "output_type": "stream",
     "text": [
      "Accuracy of the model for test data is: 0.9391348730381524\n",
      "Confusion Matrix for test data is:\n"
     ]
    },
    {
     "data": {
      "text/plain": [
       "Predicted  False  True  __all__\n",
       "Actual                         \n",
       "False       6516   421     6937\n",
       "True          56   844      900\n",
       "__all__     6572  1265     7837"
      ]
     },
     "metadata": {},
     "output_type": "display_data"
    },
    {
     "data": {
      "application/vnd.plotly.v1+json": {
       "config": {
        "linkText": "Export to plot.ly",
        "plotlyServerURL": "https://plot.ly",
        "showLink": true
       },
       "data": [
        {
         "marker": {
          "color": "rgb(158,202,225)",
          "line": {
           "color": "rgb(8,48,107)",
           "width": 1.5
          }
         },
         "opacity": 0.6,
         "orientation": "h",
         "text": [
          0.14,
          0.1,
          0.1,
          0.08,
          0.06,
          0.06,
          0.06,
          0.04,
          0.04,
          0.02,
          0.02,
          0.02,
          0.02,
          0.02,
          0.02,
          0.02,
          0.02,
          0.02,
          0.02,
          0.02,
          0.02,
          0.02,
          0.02,
          0.02,
          0.02,
          0,
          0,
          0,
          0,
          0,
          0,
          0,
          0,
          0
         ],
         "textposition": "outside",
         "type": "bar",
         "uid": "55091c36-7560-4312-8bf6-bc13991b12ef",
         "x": [
          0.14,
          0.1,
          0.1,
          0.08,
          0.06,
          0.06,
          0.06,
          0.04,
          0.04,
          0.02,
          0.02,
          0.02,
          0.02,
          0.02,
          0.02,
          0.02,
          0.02,
          0.02,
          0.02,
          0.02,
          0.02,
          0.02,
          0.02,
          0.02,
          0.02,
          0,
          0,
          0,
          0,
          0,
          0,
          0,
          0,
          0
         ],
         "y": [
          "total_count",
          "url_extensions",
          "a_href_https",
          "url_length",
          "p_count",
          "push",
          "a_href_out_of_domain",
          "link_type_text/css",
          "url_char_w",
          "center_count",
          "http_header_vary_user-agent",
          "url_extension_.com",
          "url_char_z",
          "url_char_y",
          "url_char_p",
          "url_char_i",
          "url_char_f",
          "url_char_.",
          "http_header_via_1.1",
          "http_header_cache-control_set_max-age",
          "http_header_server_apache",
          "http_header_content-encoding_gzip",
          "total_href",
          "link_href_out_of_domain",
          "iframe_src_.html",
          "form_action_http",
          "a_count",
          "script_async_true",
          "url_char_l",
          "a_href_relative",
          "meta_count",
          "img_src_http",
          "a_href_http",
          "http_header_transfer-encoding_chunked"
         ]
        }
       ],
       "layout": {
        "autosize": false,
        "height": 1000,
        "width": 1000,
        "xaxis": {
         "tickfont": {
          "color": "black",
          "size": 12
         },
         "title": "Feature Importances"
        },
        "yaxis": {
         "automargin": true
        }
       }
      },
      "text/html": [
       "<div id=\"270bfe62-3a75-470f-b42b-f9669a36b5cf\" style=\"height: 1000px; width: 1000px;\" class=\"plotly-graph-div\"></div><script type=\"text/javascript\">require([\"plotly\"], function(Plotly) { window.PLOTLYENV=window.PLOTLYENV || {};window.PLOTLYENV.BASE_URL=\"https://plot.ly\";Plotly.newPlot(\"270bfe62-3a75-470f-b42b-f9669a36b5cf\", [{\"marker\": {\"color\": \"rgb(158,202,225)\", \"line\": {\"color\": \"rgb(8,48,107)\", \"width\": 1.5}}, \"opacity\": 0.6, \"orientation\": \"h\", \"text\": [0.14, 0.1, 0.1, 0.08, 0.06, 0.06, 0.06, 0.04, 0.04, 0.02, 0.02, 0.02, 0.02, 0.02, 0.02, 0.02, 0.02, 0.02, 0.02, 0.02, 0.02, 0.02, 0.02, 0.02, 0.02, 0.0, 0.0, 0.0, 0.0, 0.0, 0.0, 0.0, 0.0, 0.0], \"textposition\": \"outside\", \"x\": [0.14, 0.1, 0.1, 0.08, 0.06, 0.06, 0.06, 0.04, 0.04, 0.02, 0.02, 0.02, 0.02, 0.02, 0.02, 0.02, 0.02, 0.02, 0.02, 0.02, 0.02, 0.02, 0.02, 0.02, 0.02, 0.0, 0.0, 0.0, 0.0, 0.0, 0.0, 0.0, 0.0, 0.0], \"y\": [\"total_count\", \"url_extensions\", \"a_href_https\", \"url_length\", \"p_count\", \"push\", \"a_href_out_of_domain\", \"link_type_text/css\", \"url_char_w\", \"center_count\", \"http_header_vary_user-agent\", \"url_extension_.com\", \"url_char_z\", \"url_char_y\", \"url_char_p\", \"url_char_i\", \"url_char_f\", \"url_char_.\", \"http_header_via_1.1\", \"http_header_cache-control_set_max-age\", \"http_header_server_apache\", \"http_header_content-encoding_gzip\", \"total_href\", \"link_href_out_of_domain\", \"iframe_src_.html\", \"form_action_http\", \"a_count\", \"script_async_true\", \"url_char_l\", \"a_href_relative\", \"meta_count\", \"img_src_http\", \"a_href_http\", \"http_header_transfer-encoding_chunked\"], \"type\": \"bar\", \"uid\": \"55091c36-7560-4312-8bf6-bc13991b12ef\"}], {\"autosize\": false, \"height\": 1000, \"width\": 1000, \"xaxis\": {\"tickfont\": {\"color\": \"black\", \"size\": 12}, \"title\": \"Feature Importances\"}, \"yaxis\": {\"automargin\": true}}, {\"showLink\": true, \"linkText\": \"Export to plot.ly\", \"plotlyServerURL\": \"https://plot.ly\"})});</script>"
      ],
      "text/vnd.plotly.v1+html": [
       "<div id=\"270bfe62-3a75-470f-b42b-f9669a36b5cf\" style=\"height: 1000px; width: 1000px;\" class=\"plotly-graph-div\"></div><script type=\"text/javascript\">require([\"plotly\"], function(Plotly) { window.PLOTLYENV=window.PLOTLYENV || {};window.PLOTLYENV.BASE_URL=\"https://plot.ly\";Plotly.newPlot(\"270bfe62-3a75-470f-b42b-f9669a36b5cf\", [{\"marker\": {\"color\": \"rgb(158,202,225)\", \"line\": {\"color\": \"rgb(8,48,107)\", \"width\": 1.5}}, \"opacity\": 0.6, \"orientation\": \"h\", \"text\": [0.14, 0.1, 0.1, 0.08, 0.06, 0.06, 0.06, 0.04, 0.04, 0.02, 0.02, 0.02, 0.02, 0.02, 0.02, 0.02, 0.02, 0.02, 0.02, 0.02, 0.02, 0.02, 0.02, 0.02, 0.02, 0.0, 0.0, 0.0, 0.0, 0.0, 0.0, 0.0, 0.0, 0.0], \"textposition\": \"outside\", \"x\": [0.14, 0.1, 0.1, 0.08, 0.06, 0.06, 0.06, 0.04, 0.04, 0.02, 0.02, 0.02, 0.02, 0.02, 0.02, 0.02, 0.02, 0.02, 0.02, 0.02, 0.02, 0.02, 0.02, 0.02, 0.02, 0.0, 0.0, 0.0, 0.0, 0.0, 0.0, 0.0, 0.0, 0.0], \"y\": [\"total_count\", \"url_extensions\", \"a_href_https\", \"url_length\", \"p_count\", \"push\", \"a_href_out_of_domain\", \"link_type_text/css\", \"url_char_w\", \"center_count\", \"http_header_vary_user-agent\", \"url_extension_.com\", \"url_char_z\", \"url_char_y\", \"url_char_p\", \"url_char_i\", \"url_char_f\", \"url_char_.\", \"http_header_via_1.1\", \"http_header_cache-control_set_max-age\", \"http_header_server_apache\", \"http_header_content-encoding_gzip\", \"total_href\", \"link_href_out_of_domain\", \"iframe_src_.html\", \"form_action_http\", \"a_count\", \"script_async_true\", \"url_char_l\", \"a_href_relative\", \"meta_count\", \"img_src_http\", \"a_href_http\", \"http_header_transfer-encoding_chunked\"], \"type\": \"bar\", \"uid\": \"55091c36-7560-4312-8bf6-bc13991b12ef\"}], {\"autosize\": false, \"height\": 1000, \"width\": 1000, \"xaxis\": {\"tickfont\": {\"color\": \"black\", \"size\": 12}, \"title\": \"Feature Importances\"}, \"yaxis\": {\"automargin\": true}}, {\"showLink\": true, \"linkText\": \"Export to plot.ly\", \"plotlyServerURL\": \"https://plot.ly\"})});</script>"
      ]
     },
     "metadata": {},
     "output_type": "display_data"
    },
    {
     "name": "stdout",
     "output_type": "stream",
     "text": [
      "\n",
      "\n",
      "\u001b[1mGradientBoosting Classifier\u001b[0m\n",
      "Accuracy of the model for training data is: 0.9543914148545608\n",
      "Confusion Matrix for training data is:\n"
     ]
    },
    {
     "data": {
      "text/plain": [
       "Predicted  False  True  __all__\n",
       "Actual                         \n",
       "False       3382   159     3541\n",
       "True         164  3377     3541\n",
       "__all__     3546  3536     7082"
      ]
     },
     "metadata": {},
     "output_type": "display_data"
    },
    {
     "name": "stdout",
     "output_type": "stream",
     "text": [
      "Accuracy of the model for test data is: 0.9526604568074518\n",
      "Confusion Matrix for test data is:\n"
     ]
    },
    {
     "data": {
      "text/plain": [
       "Predicted  False  True  __all__\n",
       "Actual                         \n",
       "False       6619   318     6937\n",
       "True          53   847      900\n",
       "__all__     6672  1165     7837"
      ]
     },
     "metadata": {},
     "output_type": "display_data"
    },
    {
     "data": {
      "application/vnd.plotly.v1+json": {
       "config": {
        "linkText": "Export to plot.ly",
        "plotlyServerURL": "https://plot.ly",
        "showLink": true
       },
       "data": [
        {
         "marker": {
          "color": "rgb(158,202,225)",
          "line": {
           "color": "rgb(8,48,107)",
           "width": 1.5
          }
         },
         "opacity": 0.6,
         "orientation": "h",
         "text": [
          0.2867,
          0.2475,
          0.0926,
          0.0848,
          0.082,
          0.043,
          0.0403,
          0.0271,
          0.0137,
          0.0132,
          0.0117,
          0.0094,
          0.0077,
          0.0068,
          0.0062,
          0.0045,
          0.0034,
          0.0029,
          0.0026,
          0.0026,
          0.0021,
          0.0017,
          0.0016,
          0.0015,
          0.001,
          0.001,
          0.0006,
          0.0004,
          0.0004,
          0.0004,
          0.0002,
          0.0002,
          0.0002,
          0
         ],
         "textposition": "outside",
         "type": "bar",
         "uid": "65cb6e8c-4b52-4044-8611-ccaba7bd204d",
         "x": [
          0.28671203556444746,
          0.24754288415522327,
          0.0926171211779273,
          0.08480173821581802,
          0.08195019242209726,
          0.04296171610158749,
          0.04031184280248955,
          0.027144570225552774,
          0.013651360083440292,
          0.013227709550677026,
          0.011711661053779028,
          0.009410545325584416,
          0.007748402878629429,
          0.006761645566995573,
          0.006197747699097084,
          0.004525975062576782,
          0.003385981180786531,
          0.0029274817388222807,
          0.0026375276424449815,
          0.002616632760392696,
          0.0020576458677874776,
          0.00171029137475935,
          0.0015973090823512613,
          0.0014570622318984302,
          0.0009869965256426073,
          0.0009814431750741453,
          0.0005538978889239785,
          0.0004494926048835583,
          0.000408463184008939,
          0.00036894003733868835,
          0.00021402565277350152,
          0.00020023913940416882,
          0.00015314557579602375,
          1.6276450988675432e-05
         ],
         "y": [
          "total_count",
          "total_href",
          "a_href_out_of_domain",
          "url_length",
          "url_char_w",
          "url_extensions",
          "meta_count",
          "http_header_server_apache",
          "url_char_z",
          "url_char_.",
          "push",
          "a_href_https",
          "a_href_relative",
          "http_header_content-encoding_gzip",
          "link_href_out_of_domain",
          "http_header_via_1.1",
          "p_count",
          "http_header_vary_user-agent",
          "center_count",
          "link_type_text/css",
          "http_header_cache-control_set_max-age",
          "form_action_http",
          "a_count",
          "url_extension_.com",
          "script_async_true",
          "url_char_f",
          "url_char_i",
          "img_src_http",
          "url_char_p",
          "http_header_transfer-encoding_chunked",
          "url_char_y",
          "url_char_l",
          "a_href_http",
          "iframe_src_.html"
         ]
        }
       ],
       "layout": {
        "autosize": false,
        "height": 1000,
        "width": 1000,
        "xaxis": {
         "tickfont": {
          "color": "black",
          "size": 12
         },
         "title": "Feature Importances"
        },
        "yaxis": {
         "automargin": true
        }
       }
      },
      "text/html": [
       "<div id=\"f92a027b-29b6-4d96-9ed7-48b8e93579b8\" style=\"height: 1000px; width: 1000px;\" class=\"plotly-graph-div\"></div><script type=\"text/javascript\">require([\"plotly\"], function(Plotly) { window.PLOTLYENV=window.PLOTLYENV || {};window.PLOTLYENV.BASE_URL=\"https://plot.ly\";Plotly.newPlot(\"f92a027b-29b6-4d96-9ed7-48b8e93579b8\", [{\"marker\": {\"color\": \"rgb(158,202,225)\", \"line\": {\"color\": \"rgb(8,48,107)\", \"width\": 1.5}}, \"opacity\": 0.6, \"orientation\": \"h\", \"text\": [0.2867, 0.2475, 0.0926, 0.0848, 0.082, 0.043, 0.0403, 0.0271, 0.0137, 0.0132, 0.0117, 0.0094, 0.0077, 0.0068, 0.0062, 0.0045, 0.0034, 0.0029, 0.0026, 0.0026, 0.0021, 0.0017, 0.0016, 0.0015, 0.001, 0.001, 0.0006, 0.0004, 0.0004, 0.0004, 0.0002, 0.0002, 0.0002, 0.0], \"textposition\": \"outside\", \"x\": [0.28671203556444746, 0.24754288415522327, 0.0926171211779273, 0.08480173821581802, 0.08195019242209726, 0.04296171610158749, 0.04031184280248955, 0.027144570225552774, 0.013651360083440292, 0.013227709550677026, 0.011711661053779028, 0.009410545325584416, 0.007748402878629429, 0.006761645566995573, 0.006197747699097084, 0.004525975062576782, 0.003385981180786531, 0.0029274817388222807, 0.0026375276424449815, 0.002616632760392696, 0.0020576458677874776, 0.00171029137475935, 0.0015973090823512613, 0.0014570622318984302, 0.0009869965256426073, 0.0009814431750741453, 0.0005538978889239785, 0.0004494926048835583, 0.000408463184008939, 0.00036894003733868835, 0.00021402565277350152, 0.00020023913940416882, 0.00015314557579602375, 1.6276450988675432e-05], \"y\": [\"total_count\", \"total_href\", \"a_href_out_of_domain\", \"url_length\", \"url_char_w\", \"url_extensions\", \"meta_count\", \"http_header_server_apache\", \"url_char_z\", \"url_char_.\", \"push\", \"a_href_https\", \"a_href_relative\", \"http_header_content-encoding_gzip\", \"link_href_out_of_domain\", \"http_header_via_1.1\", \"p_count\", \"http_header_vary_user-agent\", \"center_count\", \"link_type_text/css\", \"http_header_cache-control_set_max-age\", \"form_action_http\", \"a_count\", \"url_extension_.com\", \"script_async_true\", \"url_char_f\", \"url_char_i\", \"img_src_http\", \"url_char_p\", \"http_header_transfer-encoding_chunked\", \"url_char_y\", \"url_char_l\", \"a_href_http\", \"iframe_src_.html\"], \"type\": \"bar\", \"uid\": \"65cb6e8c-4b52-4044-8611-ccaba7bd204d\"}], {\"autosize\": false, \"height\": 1000, \"width\": 1000, \"xaxis\": {\"tickfont\": {\"color\": \"black\", \"size\": 12}, \"title\": \"Feature Importances\"}, \"yaxis\": {\"automargin\": true}}, {\"showLink\": true, \"linkText\": \"Export to plot.ly\", \"plotlyServerURL\": \"https://plot.ly\"})});</script>"
      ],
      "text/vnd.plotly.v1+html": [
       "<div id=\"f92a027b-29b6-4d96-9ed7-48b8e93579b8\" style=\"height: 1000px; width: 1000px;\" class=\"plotly-graph-div\"></div><script type=\"text/javascript\">require([\"plotly\"], function(Plotly) { window.PLOTLYENV=window.PLOTLYENV || {};window.PLOTLYENV.BASE_URL=\"https://plot.ly\";Plotly.newPlot(\"f92a027b-29b6-4d96-9ed7-48b8e93579b8\", [{\"marker\": {\"color\": \"rgb(158,202,225)\", \"line\": {\"color\": \"rgb(8,48,107)\", \"width\": 1.5}}, \"opacity\": 0.6, \"orientation\": \"h\", \"text\": [0.2867, 0.2475, 0.0926, 0.0848, 0.082, 0.043, 0.0403, 0.0271, 0.0137, 0.0132, 0.0117, 0.0094, 0.0077, 0.0068, 0.0062, 0.0045, 0.0034, 0.0029, 0.0026, 0.0026, 0.0021, 0.0017, 0.0016, 0.0015, 0.001, 0.001, 0.0006, 0.0004, 0.0004, 0.0004, 0.0002, 0.0002, 0.0002, 0.0], \"textposition\": \"outside\", \"x\": [0.28671203556444746, 0.24754288415522327, 0.0926171211779273, 0.08480173821581802, 0.08195019242209726, 0.04296171610158749, 0.04031184280248955, 0.027144570225552774, 0.013651360083440292, 0.013227709550677026, 0.011711661053779028, 0.009410545325584416, 0.007748402878629429, 0.006761645566995573, 0.006197747699097084, 0.004525975062576782, 0.003385981180786531, 0.0029274817388222807, 0.0026375276424449815, 0.002616632760392696, 0.0020576458677874776, 0.00171029137475935, 0.0015973090823512613, 0.0014570622318984302, 0.0009869965256426073, 0.0009814431750741453, 0.0005538978889239785, 0.0004494926048835583, 0.000408463184008939, 0.00036894003733868835, 0.00021402565277350152, 0.00020023913940416882, 0.00015314557579602375, 1.6276450988675432e-05], \"y\": [\"total_count\", \"total_href\", \"a_href_out_of_domain\", \"url_length\", \"url_char_w\", \"url_extensions\", \"meta_count\", \"http_header_server_apache\", \"url_char_z\", \"url_char_.\", \"push\", \"a_href_https\", \"a_href_relative\", \"http_header_content-encoding_gzip\", \"link_href_out_of_domain\", \"http_header_via_1.1\", \"p_count\", \"http_header_vary_user-agent\", \"center_count\", \"link_type_text/css\", \"http_header_cache-control_set_max-age\", \"form_action_http\", \"a_count\", \"url_extension_.com\", \"script_async_true\", \"url_char_f\", \"url_char_i\", \"img_src_http\", \"url_char_p\", \"http_header_transfer-encoding_chunked\", \"url_char_y\", \"url_char_l\", \"a_href_http\", \"iframe_src_.html\"], \"type\": \"bar\", \"uid\": \"65cb6e8c-4b52-4044-8611-ccaba7bd204d\"}], {\"autosize\": false, \"height\": 1000, \"width\": 1000, \"xaxis\": {\"tickfont\": {\"color\": \"black\", \"size\": 12}, \"title\": \"Feature Importances\"}, \"yaxis\": {\"automargin\": true}}, {\"showLink\": true, \"linkText\": \"Export to plot.ly\", \"plotlyServerURL\": \"https://plot.ly\"})});</script>"
      ]
     },
     "metadata": {},
     "output_type": "display_data"
    },
    {
     "name": "stdout",
     "output_type": "stream",
     "text": [
      "\n",
      "\n",
      "\u001b[1mExtraTree Classifier\u001b[0m\n",
      "Accuracy of the model for training data is: 0.9967523298503248\n",
      "Confusion Matrix for training data is:\n"
     ]
    },
    {
     "data": {
      "text/plain": [
       "Predicted  False  True  __all__\n",
       "Actual                         \n",
       "False       3540     1     3541\n",
       "True          22  3519     3541\n",
       "__all__     3562  3520     7082"
      ]
     },
     "metadata": {},
     "output_type": "display_data"
    },
    {
     "name": "stdout",
     "output_type": "stream",
     "text": [
      "Accuracy of the model for test data is: 0.9575092509888988\n",
      "Confusion Matrix for test data is:\n"
     ]
    },
    {
     "data": {
      "text/plain": [
       "Predicted  False  True  __all__\n",
       "Actual                         \n",
       "False       6669   268     6937\n",
       "True          65   835      900\n",
       "__all__     6734  1103     7837"
      ]
     },
     "metadata": {},
     "output_type": "display_data"
    },
    {
     "data": {
      "application/vnd.plotly.v1+json": {
       "config": {
        "linkText": "Export to plot.ly",
        "plotlyServerURL": "https://plot.ly",
        "showLink": true
       },
       "data": [
        {
         "marker": {
          "color": "rgb(158,202,225)",
          "line": {
           "color": "rgb(8,48,107)",
           "width": 1.5
          }
         },
         "opacity": 0.6,
         "orientation": "h",
         "text": [
          0.1637,
          0.0973,
          0.0921,
          0.0513,
          0.0502,
          0.0487,
          0.0427,
          0.0407,
          0.0363,
          0.03,
          0.0289,
          0.0289,
          0.0235,
          0.021,
          0.0196,
          0.018,
          0.017,
          0.0153,
          0.0152,
          0.0145,
          0.0136,
          0.0134,
          0.013,
          0.0126,
          0.012,
          0.0119,
          0.011,
          0.0108,
          0.0098,
          0.0095,
          0.0082,
          0.0067,
          0.0065,
          0.0061
         ],
         "textposition": "outside",
         "type": "bar",
         "uid": "5e5fca57-6d07-40ca-917f-7dc16486462b",
         "x": [
          0.16373846120356733,
          0.09730919776141489,
          0.09205714685910209,
          0.05133609781071698,
          0.05015389298020202,
          0.04866200543850788,
          0.042676888501043855,
          0.040712205449467194,
          0.036287655154702406,
          0.030004189635334477,
          0.02891472583376333,
          0.02887479974608072,
          0.023540438031290377,
          0.021032141281991535,
          0.019626286809731053,
          0.018005657149140514,
          0.016980797675229427,
          0.01532925794929153,
          0.015150637034282904,
          0.014517877118168293,
          0.013612952176637128,
          0.013387226273459138,
          0.013001236571931165,
          0.012578032535140221,
          0.011956360314066963,
          0.011945168713885242,
          0.011045412207871549,
          0.010776811535522329,
          0.009766615144458457,
          0.009475678344856183,
          0.00820423945239323,
          0.006665775490245146,
          0.006538279304134084,
          0.006135852512370386
         ],
         "y": [
          "http_header_content-encoding_gzip",
          "url_length",
          "http_header_transfer-encoding_chunked",
          "url_extensions",
          "link_type_text/css",
          "http_header_cache-control_set_max-age",
          "url_char_w",
          "url_char_.",
          "a_href_out_of_domain",
          "a_href_relative",
          "script_async_true",
          "link_href_out_of_domain",
          "url_char_i",
          "meta_count",
          "url_char_l",
          "total_href",
          "url_extension_.com",
          "http_header_server_apache",
          "total_count",
          "img_src_http",
          "http_header_vary_user-agent",
          "a_count",
          "url_char_p",
          "a_href_https",
          "url_char_z",
          "http_header_via_1.1",
          "iframe_src_.html",
          "url_char_f",
          "p_count",
          "url_char_y",
          "a_href_http",
          "push",
          "form_action_http",
          "center_count"
         ]
        }
       ],
       "layout": {
        "autosize": false,
        "height": 1000,
        "width": 1000,
        "xaxis": {
         "tickfont": {
          "color": "black",
          "size": 12
         },
         "title": "Feature Importances"
        },
        "yaxis": {
         "automargin": true
        }
       }
      },
      "text/html": [
       "<div id=\"a5439722-a613-4636-af43-9feb4afb7dd3\" style=\"height: 1000px; width: 1000px;\" class=\"plotly-graph-div\"></div><script type=\"text/javascript\">require([\"plotly\"], function(Plotly) { window.PLOTLYENV=window.PLOTLYENV || {};window.PLOTLYENV.BASE_URL=\"https://plot.ly\";Plotly.newPlot(\"a5439722-a613-4636-af43-9feb4afb7dd3\", [{\"marker\": {\"color\": \"rgb(158,202,225)\", \"line\": {\"color\": \"rgb(8,48,107)\", \"width\": 1.5}}, \"opacity\": 0.6, \"orientation\": \"h\", \"text\": [0.1637, 0.0973, 0.0921, 0.0513, 0.0502, 0.0487, 0.0427, 0.0407, 0.0363, 0.03, 0.0289, 0.0289, 0.0235, 0.021, 0.0196, 0.018, 0.017, 0.0153, 0.0152, 0.0145, 0.0136, 0.0134, 0.013, 0.0126, 0.012, 0.0119, 0.011, 0.0108, 0.0098, 0.0095, 0.0082, 0.0067, 0.0065, 0.0061], \"textposition\": \"outside\", \"x\": [0.16373846120356733, 0.09730919776141489, 0.09205714685910209, 0.05133609781071698, 0.05015389298020202, 0.04866200543850788, 0.042676888501043855, 0.040712205449467194, 0.036287655154702406, 0.030004189635334477, 0.02891472583376333, 0.02887479974608072, 0.023540438031290377, 0.021032141281991535, 0.019626286809731053, 0.018005657149140514, 0.016980797675229427, 0.01532925794929153, 0.015150637034282904, 0.014517877118168293, 0.013612952176637128, 0.013387226273459138, 0.013001236571931165, 0.012578032535140221, 0.011956360314066963, 0.011945168713885242, 0.011045412207871549, 0.010776811535522329, 0.009766615144458457, 0.009475678344856183, 0.00820423945239323, 0.006665775490245146, 0.006538279304134084, 0.006135852512370386], \"y\": [\"http_header_content-encoding_gzip\", \"url_length\", \"http_header_transfer-encoding_chunked\", \"url_extensions\", \"link_type_text/css\", \"http_header_cache-control_set_max-age\", \"url_char_w\", \"url_char_.\", \"a_href_out_of_domain\", \"a_href_relative\", \"script_async_true\", \"link_href_out_of_domain\", \"url_char_i\", \"meta_count\", \"url_char_l\", \"total_href\", \"url_extension_.com\", \"http_header_server_apache\", \"total_count\", \"img_src_http\", \"http_header_vary_user-agent\", \"a_count\", \"url_char_p\", \"a_href_https\", \"url_char_z\", \"http_header_via_1.1\", \"iframe_src_.html\", \"url_char_f\", \"p_count\", \"url_char_y\", \"a_href_http\", \"push\", \"form_action_http\", \"center_count\"], \"type\": \"bar\", \"uid\": \"5e5fca57-6d07-40ca-917f-7dc16486462b\"}], {\"autosize\": false, \"height\": 1000, \"width\": 1000, \"xaxis\": {\"tickfont\": {\"color\": \"black\", \"size\": 12}, \"title\": \"Feature Importances\"}, \"yaxis\": {\"automargin\": true}}, {\"showLink\": true, \"linkText\": \"Export to plot.ly\", \"plotlyServerURL\": \"https://plot.ly\"})});</script>"
      ],
      "text/vnd.plotly.v1+html": [
       "<div id=\"a5439722-a613-4636-af43-9feb4afb7dd3\" style=\"height: 1000px; width: 1000px;\" class=\"plotly-graph-div\"></div><script type=\"text/javascript\">require([\"plotly\"], function(Plotly) { window.PLOTLYENV=window.PLOTLYENV || {};window.PLOTLYENV.BASE_URL=\"https://plot.ly\";Plotly.newPlot(\"a5439722-a613-4636-af43-9feb4afb7dd3\", [{\"marker\": {\"color\": \"rgb(158,202,225)\", \"line\": {\"color\": \"rgb(8,48,107)\", \"width\": 1.5}}, \"opacity\": 0.6, \"orientation\": \"h\", \"text\": [0.1637, 0.0973, 0.0921, 0.0513, 0.0502, 0.0487, 0.0427, 0.0407, 0.0363, 0.03, 0.0289, 0.0289, 0.0235, 0.021, 0.0196, 0.018, 0.017, 0.0153, 0.0152, 0.0145, 0.0136, 0.0134, 0.013, 0.0126, 0.012, 0.0119, 0.011, 0.0108, 0.0098, 0.0095, 0.0082, 0.0067, 0.0065, 0.0061], \"textposition\": \"outside\", \"x\": [0.16373846120356733, 0.09730919776141489, 0.09205714685910209, 0.05133609781071698, 0.05015389298020202, 0.04866200543850788, 0.042676888501043855, 0.040712205449467194, 0.036287655154702406, 0.030004189635334477, 0.02891472583376333, 0.02887479974608072, 0.023540438031290377, 0.021032141281991535, 0.019626286809731053, 0.018005657149140514, 0.016980797675229427, 0.01532925794929153, 0.015150637034282904, 0.014517877118168293, 0.013612952176637128, 0.013387226273459138, 0.013001236571931165, 0.012578032535140221, 0.011956360314066963, 0.011945168713885242, 0.011045412207871549, 0.010776811535522329, 0.009766615144458457, 0.009475678344856183, 0.00820423945239323, 0.006665775490245146, 0.006538279304134084, 0.006135852512370386], \"y\": [\"http_header_content-encoding_gzip\", \"url_length\", \"http_header_transfer-encoding_chunked\", \"url_extensions\", \"link_type_text/css\", \"http_header_cache-control_set_max-age\", \"url_char_w\", \"url_char_.\", \"a_href_out_of_domain\", \"a_href_relative\", \"script_async_true\", \"link_href_out_of_domain\", \"url_char_i\", \"meta_count\", \"url_char_l\", \"total_href\", \"url_extension_.com\", \"http_header_server_apache\", \"total_count\", \"img_src_http\", \"http_header_vary_user-agent\", \"a_count\", \"url_char_p\", \"a_href_https\", \"url_char_z\", \"http_header_via_1.1\", \"iframe_src_.html\", \"url_char_f\", \"p_count\", \"url_char_y\", \"a_href_http\", \"push\", \"form_action_http\", \"center_count\"], \"type\": \"bar\", \"uid\": \"5e5fca57-6d07-40ca-917f-7dc16486462b\"}], {\"autosize\": false, \"height\": 1000, \"width\": 1000, \"xaxis\": {\"tickfont\": {\"color\": \"black\", \"size\": 12}, \"title\": \"Feature Importances\"}, \"yaxis\": {\"automargin\": true}}, {\"showLink\": true, \"linkText\": \"Export to plot.ly\", \"plotlyServerURL\": \"https://plot.ly\"})});</script>"
      ]
     },
     "metadata": {},
     "output_type": "display_data"
    },
    {
     "name": "stdout",
     "output_type": "stream",
     "text": [
      "\n",
      "\n",
      "\u001b[1mXGB Classifier\u001b[0m\n",
      "Accuracy of the model for training data is: 0.9515673538548433\n",
      "Confusion Matrix for training data is:\n"
     ]
    },
    {
     "data": {
      "text/plain": [
       "Predicted  False  True  __all__\n",
       "Actual                         \n",
       "False       3376   165     3541\n",
       "True         178  3363     3541\n",
       "__all__     3554  3528     7082"
      ]
     },
     "metadata": {},
     "output_type": "display_data"
    },
    {
     "name": "stdout",
     "output_type": "stream",
     "text": [
      "Accuracy of the model for test data is: 0.95138445833865\n",
      "Confusion Matrix for test data is:\n"
     ]
    },
    {
     "data": {
      "text/plain": [
       "Predicted  False  True  __all__\n",
       "Actual                         \n",
       "False       6613   324     6937\n",
       "True          57   843      900\n",
       "__all__     6670  1167     7837"
      ]
     },
     "metadata": {},
     "output_type": "display_data"
    },
    {
     "data": {
      "application/vnd.plotly.v1+json": {
       "config": {
        "linkText": "Export to plot.ly",
        "plotlyServerURL": "https://plot.ly",
        "showLink": true
       },
       "data": [
        {
         "marker": {
          "color": "rgb(158,202,225)",
          "line": {
           "color": "rgb(8,48,107)",
           "width": 1.5
          }
         },
         "opacity": 0.6,
         "orientation": "h",
         "text": [
          0.129,
          0.091,
          0.0865,
          0.0546,
          0.0531,
          0.0455,
          0.0425,
          0.0395,
          0.0379,
          0.0364,
          0.0288,
          0.0273,
          0.0258,
          0.0258,
          0.0258,
          0.0243,
          0.0228,
          0.0228,
          0.0197,
          0.0182,
          0.0167,
          0.0152,
          0.0152,
          0.0137,
          0.0121,
          0.0121,
          0.0121,
          0.0106,
          0.0091,
          0.0091,
          0.0061,
          0.0046,
          0.003,
          0.003
         ],
         "textposition": "outside",
         "type": "bar",
         "uid": "d4605804-24fa-4ffd-9c01-a6543654db0f",
         "x": [
          0.1289833039045334,
          0.09104704111814499,
          0.08649469166994095,
          0.054628223180770874,
          0.05311077460646629,
          0.045523520559072495,
          0.042488619685173035,
          0.039453718811273575,
          0.037936266511678696,
          0.036418817937374115,
          0.028831563889980316,
          0.027314111590385437,
          0.025796661153435707,
          0.025796661153435707,
          0.025796661153435707,
          0.024279210716485977,
          0.022761760279536247,
          0.022761760279536247,
          0.019726859405636787,
          0.018209408968687057,
          0.01669195666909218,
          0.015174507163465023,
          0.015174507163465023,
          0.013657055795192719,
          0.012139605358242989,
          0.012139605358242989,
          0.012139605358242989,
          0.010622154921293259,
          0.009104704484343529,
          0.009104704484343529,
          0.006069802679121494,
          0.004552352242171764,
          0.003034901339560747,
          0.003034901339560747
         ],
         "y": [
          "url_length",
          "url_char_.",
          "url_char_w",
          "url_extensions",
          "total_count",
          "a_href_out_of_domain",
          "p_count",
          "http_header_server_apache",
          "link_type_text/css",
          "a_href_https",
          "push",
          "a_href_relative",
          "http_header_via_1.1",
          "a_href_http",
          "center_count",
          "form_action_http",
          "http_header_content-encoding_gzip",
          "link_href_out_of_domain",
          "url_extension_.com",
          "http_header_cache-control_set_max-age",
          "img_src_http",
          "meta_count",
          "url_char_z",
          "url_char_p",
          "http_header_transfer-encoding_chunked",
          "http_header_vary_user-agent",
          "url_char_f",
          "total_href",
          "iframe_src_.html",
          "url_char_i",
          "a_count",
          "url_char_l",
          "script_async_true",
          "url_char_y"
         ]
        }
       ],
       "layout": {
        "autosize": false,
        "height": 1000,
        "width": 1000,
        "xaxis": {
         "tickfont": {
          "color": "black",
          "size": 12
         },
         "title": "Feature Importances"
        },
        "yaxis": {
         "automargin": true
        }
       }
      },
      "text/html": [
       "<div id=\"207de7f2-24c0-46eb-b912-88568025e50a\" style=\"height: 1000px; width: 1000px;\" class=\"plotly-graph-div\"></div><script type=\"text/javascript\">require([\"plotly\"], function(Plotly) { window.PLOTLYENV=window.PLOTLYENV || {};window.PLOTLYENV.BASE_URL=\"https://plot.ly\";Plotly.newPlot(\"207de7f2-24c0-46eb-b912-88568025e50a\", [{\"marker\": {\"color\": \"rgb(158,202,225)\", \"line\": {\"color\": \"rgb(8,48,107)\", \"width\": 1.5}}, \"opacity\": 0.6, \"orientation\": \"h\", \"text\": [0.129, 0.091, 0.0865, 0.0546, 0.0531, 0.0455, 0.0425, 0.0395, 0.0379, 0.0364, 0.0288, 0.0273, 0.0258, 0.0258, 0.0258, 0.0243, 0.0228, 0.0228, 0.0197, 0.0182, 0.0167, 0.0152, 0.0152, 0.0137, 0.0121, 0.0121, 0.0121, 0.0106, 0.0091, 0.0091, 0.0061, 0.0046, 0.003, 0.003], \"textposition\": \"outside\", \"x\": [0.1289833039045334, 0.09104704111814499, 0.08649469166994095, 0.054628223180770874, 0.05311077460646629, 0.045523520559072495, 0.042488619685173035, 0.039453718811273575, 0.037936266511678696, 0.036418817937374115, 0.028831563889980316, 0.027314111590385437, 0.025796661153435707, 0.025796661153435707, 0.025796661153435707, 0.024279210716485977, 0.022761760279536247, 0.022761760279536247, 0.019726859405636787, 0.018209408968687057, 0.01669195666909218, 0.015174507163465023, 0.015174507163465023, 0.013657055795192719, 0.012139605358242989, 0.012139605358242989, 0.012139605358242989, 0.010622154921293259, 0.009104704484343529, 0.009104704484343529, 0.006069802679121494, 0.004552352242171764, 0.003034901339560747, 0.003034901339560747], \"y\": [\"url_length\", \"url_char_.\", \"url_char_w\", \"url_extensions\", \"total_count\", \"a_href_out_of_domain\", \"p_count\", \"http_header_server_apache\", \"link_type_text/css\", \"a_href_https\", \"push\", \"a_href_relative\", \"http_header_via_1.1\", \"a_href_http\", \"center_count\", \"form_action_http\", \"http_header_content-encoding_gzip\", \"link_href_out_of_domain\", \"url_extension_.com\", \"http_header_cache-control_set_max-age\", \"img_src_http\", \"meta_count\", \"url_char_z\", \"url_char_p\", \"http_header_transfer-encoding_chunked\", \"http_header_vary_user-agent\", \"url_char_f\", \"total_href\", \"iframe_src_.html\", \"url_char_i\", \"a_count\", \"url_char_l\", \"script_async_true\", \"url_char_y\"], \"type\": \"bar\", \"uid\": \"d4605804-24fa-4ffd-9c01-a6543654db0f\"}], {\"autosize\": false, \"height\": 1000, \"width\": 1000, \"xaxis\": {\"tickfont\": {\"color\": \"black\", \"size\": 12}, \"title\": \"Feature Importances\"}, \"yaxis\": {\"automargin\": true}}, {\"showLink\": true, \"linkText\": \"Export to plot.ly\", \"plotlyServerURL\": \"https://plot.ly\"})});</script>"
      ],
      "text/vnd.plotly.v1+html": [
       "<div id=\"207de7f2-24c0-46eb-b912-88568025e50a\" style=\"height: 1000px; width: 1000px;\" class=\"plotly-graph-div\"></div><script type=\"text/javascript\">require([\"plotly\"], function(Plotly) { window.PLOTLYENV=window.PLOTLYENV || {};window.PLOTLYENV.BASE_URL=\"https://plot.ly\";Plotly.newPlot(\"207de7f2-24c0-46eb-b912-88568025e50a\", [{\"marker\": {\"color\": \"rgb(158,202,225)\", \"line\": {\"color\": \"rgb(8,48,107)\", \"width\": 1.5}}, \"opacity\": 0.6, \"orientation\": \"h\", \"text\": [0.129, 0.091, 0.0865, 0.0546, 0.0531, 0.0455, 0.0425, 0.0395, 0.0379, 0.0364, 0.0288, 0.0273, 0.0258, 0.0258, 0.0258, 0.0243, 0.0228, 0.0228, 0.0197, 0.0182, 0.0167, 0.0152, 0.0152, 0.0137, 0.0121, 0.0121, 0.0121, 0.0106, 0.0091, 0.0091, 0.0061, 0.0046, 0.003, 0.003], \"textposition\": \"outside\", \"x\": [0.1289833039045334, 0.09104704111814499, 0.08649469166994095, 0.054628223180770874, 0.05311077460646629, 0.045523520559072495, 0.042488619685173035, 0.039453718811273575, 0.037936266511678696, 0.036418817937374115, 0.028831563889980316, 0.027314111590385437, 0.025796661153435707, 0.025796661153435707, 0.025796661153435707, 0.024279210716485977, 0.022761760279536247, 0.022761760279536247, 0.019726859405636787, 0.018209408968687057, 0.01669195666909218, 0.015174507163465023, 0.015174507163465023, 0.013657055795192719, 0.012139605358242989, 0.012139605358242989, 0.012139605358242989, 0.010622154921293259, 0.009104704484343529, 0.009104704484343529, 0.006069802679121494, 0.004552352242171764, 0.003034901339560747, 0.003034901339560747], \"y\": [\"url_length\", \"url_char_.\", \"url_char_w\", \"url_extensions\", \"total_count\", \"a_href_out_of_domain\", \"p_count\", \"http_header_server_apache\", \"link_type_text/css\", \"a_href_https\", \"push\", \"a_href_relative\", \"http_header_via_1.1\", \"a_href_http\", \"center_count\", \"form_action_http\", \"http_header_content-encoding_gzip\", \"link_href_out_of_domain\", \"url_extension_.com\", \"http_header_cache-control_set_max-age\", \"img_src_http\", \"meta_count\", \"url_char_z\", \"url_char_p\", \"http_header_transfer-encoding_chunked\", \"http_header_vary_user-agent\", \"url_char_f\", \"total_href\", \"iframe_src_.html\", \"url_char_i\", \"a_count\", \"url_char_l\", \"script_async_true\", \"url_char_y\"], \"type\": \"bar\", \"uid\": \"d4605804-24fa-4ffd-9c01-a6543654db0f\"}], {\"autosize\": false, \"height\": 1000, \"width\": 1000, \"xaxis\": {\"tickfont\": {\"color\": \"black\", \"size\": 12}, \"title\": \"Feature Importances\"}, \"yaxis\": {\"automargin\": true}}, {\"showLink\": true, \"linkText\": \"Export to plot.ly\", \"plotlyServerURL\": \"https://plot.ly\"})});</script>"
      ]
     },
     "metadata": {},
     "output_type": "display_data"
    },
    {
     "name": "stdout",
     "output_type": "stream",
     "text": [
      "\n",
      "\n",
      "\u001b[1mBagging Classifier\u001b[0m\n",
      "Accuracy of the model for training data is: 0.9920926292007908\n",
      "Confusion Matrix for training data is:\n"
     ]
    },
    {
     "data": {
      "text/plain": [
       "Predicted  False  True  __all__\n",
       "Actual                         \n",
       "False       3518    23     3541\n",
       "True          33  3508     3541\n",
       "__all__     3551  3531     7082"
      ]
     },
     "metadata": {},
     "output_type": "display_data"
    },
    {
     "name": "stdout",
     "output_type": "stream",
     "text": [
      "Accuracy of the model for test data is: 0.9515120581855302\n",
      "Confusion Matrix for test data is:\n"
     ]
    },
    {
     "data": {
      "text/plain": [
       "Predicted  False  True  __all__\n",
       "Actual                         \n",
       "False       6627   310     6937\n",
       "True          70   830      900\n",
       "__all__     6697  1140     7837"
      ]
     },
     "metadata": {},
     "output_type": "display_data"
    },
    {
     "name": "stdout",
     "output_type": "stream",
     "text": [
      "\n",
      "\n",
      "\u001b[1mNeural Network-1\u001b[0m\n",
      "The accuracy of the model on training data is: 0.9857384919514262\n"
     ]
    },
    {
     "data": {
      "text/plain": [
       "Predicted  False  True  __all__\n",
       "Actual                         \n",
       "False       3488    53     3541\n",
       "True          48  3493     3541\n",
       "__all__     3536  3546     7082"
      ]
     },
     "metadata": {},
     "output_type": "display_data"
    },
    {
     "name": "stdout",
     "output_type": "stream",
     "text": [
      "The accuracy of the model on test data is: 0.9373484751818297\n"
     ]
    },
    {
     "data": {
      "text/plain": [
       "Predicted  False  True  __all__\n",
       "Actual                         \n",
       "False       6504   433     6937\n",
       "True          58   842      900\n",
       "__all__     6562  1275     7837"
      ]
     },
     "metadata": {},
     "output_type": "display_data"
    },
    {
     "name": "stdout",
     "output_type": "stream",
     "text": [
      "\n",
      "\n"
     ]
    }
   ],
   "source": [
    "df_non=train[train.Target==0]\n",
    "df_mal=train[train.Target==1]\n",
    "\n",
    "df_non=df_non.sample(frac=len(df_mal)/len(df_non),random_state=0)\n",
    "df_u=df_non.append(df_mal)\n",
    "df_u.Target.value_counts() \n",
    "\n",
    "X_train=df_u[columns]\n",
    "X_train=scaler.transform(X_train)\n",
    "Y_train=df_u.Target.values\n",
    "\n",
    "print(\"Shape after undersampling\",X_train.shape)\n",
    "\n",
    "## Table to store training and test measures so we can compare later\n",
    "table_80_50_train=pd.DataFrame(columns=['accuracy','TP','TN','FP','FN','FPR','FNR'])\n",
    "table_80_50_test=pd.DataFrame(columns=['accuracy','TP','TN','FP','FN','FPR','FNR','auc','MCC','Precision','Recall'])\n",
    "\n",
    "feat_imp=[None]*5\n",
    "j=0\n",
    "for i in range(0,8):\n",
    "    if i>=1 and i<=5:\n",
    "        model,cm_train,cm_test,acc_train,acc_test,roc_auc,feat_imp[j],mcc,prec,rec=f[i](X_train,Y_train,scaled_X_test,test_Y,columns)\n",
    "        j=j+1\n",
    "    else:\n",
    "        model,cm_train,cm_test,acc_train,acc_test,roc_auc,mcc,prec,rec=f[i](X_train,Y_train,scaled_X_test,test_Y)\n",
    "    table_80_50_train.loc[i]=   ([acc_train,cm_train.TP,cm_train.TN,cm_train.FP,cm_train.FN,cm_train.FPR,cm_train.FNR])\n",
    "    table_80_50_test.loc[i] =   ([acc_test ,cm_test.TP, cm_test.TN, cm_test.FP, cm_test.FN, cm_test.FPR, cm_test.FNR,roc_auc,mcc,prec,rec])\n",
    "    print(\"\\n\")"
   ]
  },
  {
   "cell_type": "markdown",
   "metadata": {},
   "source": [
    "### <a id='3.A' style=\"text-decoration : none; color : #000000;\"> A. Results</a>"
   ]
  },
  {
   "cell_type": "code",
   "execution_count": 17,
   "metadata": {},
   "outputs": [
    {
     "data": {
      "application/vnd.plotly.v1+json": {
       "config": {
        "linkText": "Export to plot.ly",
        "plotlyServerURL": "https://plot.ly",
        "showLink": true
       },
       "data": [
        {
         "mode": "lines",
         "name": "KNN_model",
         "type": "scatter",
         "uid": "20c50f5e-eb9f-42a3-a2f3-948948d61fb9",
         "x": [
          "accuracy",
          "auc",
          "MCC",
          "Precision",
          "Recall"
         ],
         "y": [
          0.9289268852877377,
          0.9231086124325277,
          0.7242034998692672,
          0.6314176245210728,
          0.9155555555555556
         ]
        },
        {
         "mode": "lines+markers",
         "name": "XGB",
         "type": "scatter",
         "uid": "85df0f3b-d750-45ca-bc59-cd25c7050bf1",
         "x": [
          "accuracy",
          "auc",
          "MCC",
          "Precision",
          "Recall"
         ],
         "y": [
          0.95138445833865,
          0.9449802988803998,
          0.7970389332323027,
          0.7223650385604113,
          0.9366666666666666
         ]
        },
        {
         "marker": {
          "symbol": "x"
         },
         "mode": "lines+markers",
         "name": "Random Forest",
         "type": "scatter",
         "uid": "ce306dc7-d30a-4ff4-8f30-b194723005cc",
         "x": [
          "accuracy",
          "auc",
          "MCC",
          "Precision",
          "Recall"
         ],
         "y": [
          0.9547020543575347,
          0.9454038729518043,
          0.8070323506719925,
          0.7400881057268722,
          0.9333333333333333
         ]
        },
        {
         "mode": "lines",
         "name": "Ada Boost",
         "type": "scatter",
         "uid": "360aac04-17f5-42fc-b321-482e282c5f39",
         "x": [
          "accuracy",
          "auc",
          "MCC",
          "Precision",
          "Recall"
         ],
         "y": [
          0.9391348730381524,
          0.9385443595534412,
          0.7600752431226625,
          0.6671936758893281,
          0.9377777777777778
         ]
        },
        {
         "mode": "lines+markers",
         "name": "GradientBoosting",
         "type": "scatter",
         "uid": "78f392f8-12d2-4943-833a-1f1098b41059",
         "x": [
          "accuracy",
          "auc",
          "MCC",
          "Precision",
          "Recall"
         ],
         "y": [
          0.9526604568074518,
          0.9476349847036022,
          0.8023616030887925,
          0.7270386266094421,
          0.9411111111111111
         ]
        },
        {
         "marker": {
          "symbol": "x"
         },
         "mode": "lines+markers",
         "name": "ExtraTree Classifier",
         "type": "scatter",
         "uid": "55376c8e-3b60-4671-8cc5-6b17625caced",
         "x": [
          "accuracy",
          "auc",
          "MCC",
          "Precision",
          "Recall"
         ],
         "y": [
          0.9575092509888988,
          0.9445721813784377,
          0.8151829152928134,
          0.757026291931097,
          0.9277777777777778
         ]
        },
        {
         "marker": {
          "symbol": "x"
         },
         "mode": "lines+markers",
         "name": "Bagging",
         "type": "scatter",
         "uid": "310652eb-f199-4bc6-ad39-9d0281084394",
         "x": [
          "accuracy",
          "auc",
          "MCC",
          "Precision",
          "Recall"
         ],
         "y": [
          0.9515120581855302,
          0.9387671583937983,
          0.7935579298082368,
          0.7280701754385965,
          0.9222222222222223
         ]
        },
        {
         "marker": {
          "symbol": "x"
         },
         "mode": "lines+markers",
         "name": "Neural Network",
         "type": "scatter",
         "uid": "b367fb20-55e1-4fa6-801b-a480a537007e",
         "x": [
          "accuracy",
          "auc",
          "MCC",
          "Precision",
          "Recall"
         ],
         "y": [
          0.9373484751818297,
          0.9387671583937983,
          0.7542513757131848,
          0.6603921568627451,
          0.9355555555555556
         ]
        }
       ],
       "layout": {
        "title": "Result comparision for Features selected in Section 1",
        "yaxis": {
         "dtick": 0.05,
         "tick0": 0
        }
       }
      },
      "text/html": [
       "<div id=\"0984a807-6b2c-448d-83e7-b69384029f01\" style=\"height: 525px; width: 100%;\" class=\"plotly-graph-div\"></div><script type=\"text/javascript\">require([\"plotly\"], function(Plotly) { window.PLOTLYENV=window.PLOTLYENV || {};window.PLOTLYENV.BASE_URL=\"https://plot.ly\";Plotly.newPlot(\"0984a807-6b2c-448d-83e7-b69384029f01\", [{\"mode\": \"lines\", \"name\": \"KNN_model\", \"x\": [\"accuracy\", \"auc\", \"MCC\", \"Precision\", \"Recall\"], \"y\": [0.9289268852877377, 0.9231086124325277, 0.7242034998692672, 0.6314176245210728, 0.9155555555555556], \"type\": \"scatter\", \"uid\": \"20c50f5e-eb9f-42a3-a2f3-948948d61fb9\"}, {\"mode\": \"lines+markers\", \"name\": \"XGB\", \"x\": [\"accuracy\", \"auc\", \"MCC\", \"Precision\", \"Recall\"], \"y\": [0.95138445833865, 0.9449802988803998, 0.7970389332323027, 0.7223650385604113, 0.9366666666666666], \"type\": \"scatter\", \"uid\": \"85df0f3b-d750-45ca-bc59-cd25c7050bf1\"}, {\"marker\": {\"symbol\": \"x\"}, \"mode\": \"lines+markers\", \"name\": \"Random Forest\", \"x\": [\"accuracy\", \"auc\", \"MCC\", \"Precision\", \"Recall\"], \"y\": [0.9547020543575347, 0.9454038729518043, 0.8070323506719925, 0.7400881057268722, 0.9333333333333333], \"type\": \"scatter\", \"uid\": \"ce306dc7-d30a-4ff4-8f30-b194723005cc\"}, {\"mode\": \"lines\", \"name\": \"Ada Boost\", \"x\": [\"accuracy\", \"auc\", \"MCC\", \"Precision\", \"Recall\"], \"y\": [0.9391348730381524, 0.9385443595534412, 0.7600752431226625, 0.6671936758893281, 0.9377777777777778], \"type\": \"scatter\", \"uid\": \"360aac04-17f5-42fc-b321-482e282c5f39\"}, {\"mode\": \"lines+markers\", \"name\": \"GradientBoosting\", \"x\": [\"accuracy\", \"auc\", \"MCC\", \"Precision\", \"Recall\"], \"y\": [0.9526604568074518, 0.9476349847036022, 0.8023616030887925, 0.7270386266094421, 0.9411111111111111], \"type\": \"scatter\", \"uid\": \"78f392f8-12d2-4943-833a-1f1098b41059\"}, {\"marker\": {\"symbol\": \"x\"}, \"mode\": \"lines+markers\", \"name\": \"ExtraTree Classifier\", \"x\": [\"accuracy\", \"auc\", \"MCC\", \"Precision\", \"Recall\"], \"y\": [0.9575092509888988, 0.9445721813784377, 0.8151829152928134, 0.757026291931097, 0.9277777777777778], \"type\": \"scatter\", \"uid\": \"55376c8e-3b60-4671-8cc5-6b17625caced\"}, {\"marker\": {\"symbol\": \"x\"}, \"mode\": \"lines+markers\", \"name\": \"Bagging\", \"x\": [\"accuracy\", \"auc\", \"MCC\", \"Precision\", \"Recall\"], \"y\": [0.9515120581855302, 0.9387671583937983, 0.7935579298082368, 0.7280701754385965, 0.9222222222222223], \"type\": \"scatter\", \"uid\": \"310652eb-f199-4bc6-ad39-9d0281084394\"}, {\"marker\": {\"symbol\": \"x\"}, \"mode\": \"lines+markers\", \"name\": \"Neural Network\", \"x\": [\"accuracy\", \"auc\", \"MCC\", \"Precision\", \"Recall\"], \"y\": [0.9373484751818297, 0.9387671583937983, 0.7542513757131848, 0.6603921568627451, 0.9355555555555556], \"type\": \"scatter\", \"uid\": \"b367fb20-55e1-4fa6-801b-a480a537007e\"}], {\"title\": \"Result comparision for Features selected in Section 1\", \"yaxis\": {\"dtick\": 0.05, \"tick0\": 0}}, {\"showLink\": true, \"linkText\": \"Export to plot.ly\", \"plotlyServerURL\": \"https://plot.ly\"})});</script><script type=\"text/javascript\">window.addEventListener(\"resize\", function(){window._Plotly.Plots.resize(document.getElementById(\"0984a807-6b2c-448d-83e7-b69384029f01\"));});</script>"
      ],
      "text/vnd.plotly.v1+html": [
       "<div id=\"0984a807-6b2c-448d-83e7-b69384029f01\" style=\"height: 525px; width: 100%;\" class=\"plotly-graph-div\"></div><script type=\"text/javascript\">require([\"plotly\"], function(Plotly) { window.PLOTLYENV=window.PLOTLYENV || {};window.PLOTLYENV.BASE_URL=\"https://plot.ly\";Plotly.newPlot(\"0984a807-6b2c-448d-83e7-b69384029f01\", [{\"mode\": \"lines\", \"name\": \"KNN_model\", \"x\": [\"accuracy\", \"auc\", \"MCC\", \"Precision\", \"Recall\"], \"y\": [0.9289268852877377, 0.9231086124325277, 0.7242034998692672, 0.6314176245210728, 0.9155555555555556], \"type\": \"scatter\", \"uid\": \"20c50f5e-eb9f-42a3-a2f3-948948d61fb9\"}, {\"mode\": \"lines+markers\", \"name\": \"XGB\", \"x\": [\"accuracy\", \"auc\", \"MCC\", \"Precision\", \"Recall\"], \"y\": [0.95138445833865, 0.9449802988803998, 0.7970389332323027, 0.7223650385604113, 0.9366666666666666], \"type\": \"scatter\", \"uid\": \"85df0f3b-d750-45ca-bc59-cd25c7050bf1\"}, {\"marker\": {\"symbol\": \"x\"}, \"mode\": \"lines+markers\", \"name\": \"Random Forest\", \"x\": [\"accuracy\", \"auc\", \"MCC\", \"Precision\", \"Recall\"], \"y\": [0.9547020543575347, 0.9454038729518043, 0.8070323506719925, 0.7400881057268722, 0.9333333333333333], \"type\": \"scatter\", \"uid\": \"ce306dc7-d30a-4ff4-8f30-b194723005cc\"}, {\"mode\": \"lines\", \"name\": \"Ada Boost\", \"x\": [\"accuracy\", \"auc\", \"MCC\", \"Precision\", \"Recall\"], \"y\": [0.9391348730381524, 0.9385443595534412, 0.7600752431226625, 0.6671936758893281, 0.9377777777777778], \"type\": \"scatter\", \"uid\": \"360aac04-17f5-42fc-b321-482e282c5f39\"}, {\"mode\": \"lines+markers\", \"name\": \"GradientBoosting\", \"x\": [\"accuracy\", \"auc\", \"MCC\", \"Precision\", \"Recall\"], \"y\": [0.9526604568074518, 0.9476349847036022, 0.8023616030887925, 0.7270386266094421, 0.9411111111111111], \"type\": \"scatter\", \"uid\": \"78f392f8-12d2-4943-833a-1f1098b41059\"}, {\"marker\": {\"symbol\": \"x\"}, \"mode\": \"lines+markers\", \"name\": \"ExtraTree Classifier\", \"x\": [\"accuracy\", \"auc\", \"MCC\", \"Precision\", \"Recall\"], \"y\": [0.9575092509888988, 0.9445721813784377, 0.8151829152928134, 0.757026291931097, 0.9277777777777778], \"type\": \"scatter\", \"uid\": \"55376c8e-3b60-4671-8cc5-6b17625caced\"}, {\"marker\": {\"symbol\": \"x\"}, \"mode\": \"lines+markers\", \"name\": \"Bagging\", \"x\": [\"accuracy\", \"auc\", \"MCC\", \"Precision\", \"Recall\"], \"y\": [0.9515120581855302, 0.9387671583937983, 0.7935579298082368, 0.7280701754385965, 0.9222222222222223], \"type\": \"scatter\", \"uid\": \"310652eb-f199-4bc6-ad39-9d0281084394\"}, {\"marker\": {\"symbol\": \"x\"}, \"mode\": \"lines+markers\", \"name\": \"Neural Network\", \"x\": [\"accuracy\", \"auc\", \"MCC\", \"Precision\", \"Recall\"], \"y\": [0.9373484751818297, 0.9387671583937983, 0.7542513757131848, 0.6603921568627451, 0.9355555555555556], \"type\": \"scatter\", \"uid\": \"b367fb20-55e1-4fa6-801b-a480a537007e\"}], {\"title\": \"Result comparision for Features selected in Section 1\", \"yaxis\": {\"dtick\": 0.05, \"tick0\": 0}}, {\"showLink\": true, \"linkText\": \"Export to plot.ly\", \"plotlyServerURL\": \"https://plot.ly\"})});</script><script type=\"text/javascript\">window.addEventListener(\"resize\", function(){window._Plotly.Plots.resize(document.getElementById(\"0984a807-6b2c-448d-83e7-b69384029f01\"));});</script>"
      ]
     },
     "metadata": {},
     "output_type": "display_data"
    }
   ],
   "source": [
    "trace0 = go.Scatter(x=table_80_50_test.iloc[0].index.values[[0,7,8,9,10]],\n",
    "                    y=table_80_50_test.iloc[0].values[[0,7,8,9,10]],\n",
    "                    mode = 'lines',\n",
    "                    name = 'KNN_model')\n",
    "\n",
    "\n",
    "trace2 = go.Scatter(x=table_80_50_test.iloc[1].index.values[[0,7,8,9,10]],\n",
    "                    y=table_80_50_test.iloc[1].values[[0,7,8,9,10]],\n",
    "                    mode = 'lines+markers',marker=dict(symbol='x'),\n",
    "                    name = 'Random Forest')\n",
    "\n",
    "\n",
    "trace3 = go.Scatter(x=table_80_50_test.iloc[2].index.values[[0,7,8,9,10]],\n",
    "                    y=table_80_50_test.iloc[2].values[[0,7,8,9,10]],\n",
    "                    mode = 'lines',\n",
    "                    name = 'Ada Boost')\n",
    "\n",
    "trace4 = go.Scatter(x=table_80_50_test.iloc[3].index.values[[0,7,8,9,10]],\n",
    "                    y=table_80_50_test.iloc[3].values[[0,7,8,9,10]],\n",
    "                    mode = 'lines+markers',\n",
    "                    name = 'GradientBoosting')\n",
    "\n",
    "trace5 = go.Scatter(x=table_80_50_test.iloc[4].index.values[[0,7,8,9,10]],\n",
    "                    y=table_80_50_test.iloc[4].values[[0,7,8,9,10]],\n",
    "                    mode = 'lines+markers',marker=dict(symbol='x'),\n",
    "                    name = 'ExtraTree Classifier')\n",
    "\n",
    "\n",
    "trace1 = go.Scatter(x=table_80_50_test.iloc[5].index.values[[0,7,8,9,10]],\n",
    "                    y=table_80_50_test.iloc[5].values[[0,7,8,9,10]],\n",
    "                    mode = 'lines+markers',\n",
    "                    name = 'XGB')\n",
    "\n",
    "\n",
    "trace6 = go.Scatter(x=table_80_50_test.iloc[6].index.values[[0,7,8,9,10]],\n",
    "                    y=table_80_50_test.iloc[6].values[[0,7,8,9,10]],\n",
    "                    mode = 'lines+markers',marker=dict(symbol='x'),\n",
    "                    name = 'Bagging')\n",
    "\n",
    "trace7 = go.Scatter(x=table_80_50_test.iloc[7].index.values[[0,7,8,9,10]],\n",
    "                    y=table_80_50_test.iloc[7].values[[0,7,8,9,10]],\n",
    "                    mode = 'lines+markers',marker=dict(symbol='x'),\n",
    "                    name = 'Neural Network')\n",
    "\n",
    "\n",
    "\n",
    "data = [trace0, trace1, trace2, trace3, trace4, trace5, trace6, trace7]\n",
    "layout = go.Layout(yaxis=dict(tick0=0,dtick=0.05),title='Result comparision for Features selected in Section 1')\n",
    "fig = go.Figure(data=data, layout=layout)\n",
    "\n",
    "iplot(fig, filename='Result')"
   ]
  },
  {
   "cell_type": "code",
   "execution_count": 18,
   "metadata": {},
   "outputs": [
    {
     "name": "stdout",
     "output_type": "stream",
     "text": [
      "Training Results\n"
     ]
    },
    {
     "data": {
      "text/html": [
       "<div>\n",
       "<style scoped>\n",
       "    .dataframe tbody tr th:only-of-type {\n",
       "        vertical-align: middle;\n",
       "    }\n",
       "\n",
       "    .dataframe tbody tr th {\n",
       "        vertical-align: top;\n",
       "    }\n",
       "\n",
       "    .dataframe thead th {\n",
       "        text-align: right;\n",
       "    }\n",
       "</style>\n",
       "<table border=\"1\" class=\"dataframe\">\n",
       "  <thead>\n",
       "    <tr style=\"text-align: right;\">\n",
       "      <th></th>\n",
       "      <th>accuracy</th>\n",
       "      <th>TP</th>\n",
       "      <th>TN</th>\n",
       "      <th>FP</th>\n",
       "      <th>FN</th>\n",
       "      <th>FPR</th>\n",
       "      <th>FNR</th>\n",
       "    </tr>\n",
       "    <tr>\n",
       "      <th>index</th>\n",
       "      <th></th>\n",
       "      <th></th>\n",
       "      <th></th>\n",
       "      <th></th>\n",
       "      <th></th>\n",
       "      <th></th>\n",
       "      <th></th>\n",
       "    </tr>\n",
       "  </thead>\n",
       "  <tbody>\n",
       "    <tr>\n",
       "      <th>KNeighborsClassifier</th>\n",
       "      <td>0.950297</td>\n",
       "      <td>3355.0</td>\n",
       "      <td>3375.0</td>\n",
       "      <td>166.0</td>\n",
       "      <td>186.0</td>\n",
       "      <td>0.046879</td>\n",
       "      <td>0.052528</td>\n",
       "    </tr>\n",
       "    <tr>\n",
       "      <th>RandomForestClassifier</th>\n",
       "      <td>0.992799</td>\n",
       "      <td>3507.0</td>\n",
       "      <td>3524.0</td>\n",
       "      <td>17.0</td>\n",
       "      <td>34.0</td>\n",
       "      <td>0.004801</td>\n",
       "      <td>0.009602</td>\n",
       "    </tr>\n",
       "    <tr>\n",
       "      <th>AdaBoostClassifier</th>\n",
       "      <td>0.940271</td>\n",
       "      <td>3354.0</td>\n",
       "      <td>3305.0</td>\n",
       "      <td>236.0</td>\n",
       "      <td>187.0</td>\n",
       "      <td>0.066648</td>\n",
       "      <td>0.052810</td>\n",
       "    </tr>\n",
       "    <tr>\n",
       "      <th>GradientBoostingClassifier</th>\n",
       "      <td>0.954391</td>\n",
       "      <td>3377.0</td>\n",
       "      <td>3382.0</td>\n",
       "      <td>159.0</td>\n",
       "      <td>164.0</td>\n",
       "      <td>0.044903</td>\n",
       "      <td>0.046315</td>\n",
       "    </tr>\n",
       "    <tr>\n",
       "      <th>ExtraTreeClassifier</th>\n",
       "      <td>0.996752</td>\n",
       "      <td>3519.0</td>\n",
       "      <td>3540.0</td>\n",
       "      <td>1.0</td>\n",
       "      <td>22.0</td>\n",
       "      <td>0.000282</td>\n",
       "      <td>0.006213</td>\n",
       "    </tr>\n",
       "    <tr>\n",
       "      <th>XGB</th>\n",
       "      <td>0.951567</td>\n",
       "      <td>3363.0</td>\n",
       "      <td>3376.0</td>\n",
       "      <td>165.0</td>\n",
       "      <td>178.0</td>\n",
       "      <td>0.046597</td>\n",
       "      <td>0.050268</td>\n",
       "    </tr>\n",
       "    <tr>\n",
       "      <th>BaggingClassifier</th>\n",
       "      <td>0.992093</td>\n",
       "      <td>3508.0</td>\n",
       "      <td>3518.0</td>\n",
       "      <td>23.0</td>\n",
       "      <td>33.0</td>\n",
       "      <td>0.006495</td>\n",
       "      <td>0.009319</td>\n",
       "    </tr>\n",
       "    <tr>\n",
       "      <th>Neural Network-1</th>\n",
       "      <td>0.985738</td>\n",
       "      <td>3493.0</td>\n",
       "      <td>3488.0</td>\n",
       "      <td>53.0</td>\n",
       "      <td>48.0</td>\n",
       "      <td>0.014968</td>\n",
       "      <td>0.013555</td>\n",
       "    </tr>\n",
       "  </tbody>\n",
       "</table>\n",
       "</div>"
      ],
      "text/plain": [
       "                            accuracy      TP      TN     FP     FN       FPR  \\\n",
       "index                                                                          \n",
       "KNeighborsClassifier        0.950297  3355.0  3375.0  166.0  186.0  0.046879   \n",
       "RandomForestClassifier      0.992799  3507.0  3524.0   17.0   34.0  0.004801   \n",
       "AdaBoostClassifier          0.940271  3354.0  3305.0  236.0  187.0  0.066648   \n",
       "GradientBoostingClassifier  0.954391  3377.0  3382.0  159.0  164.0  0.044903   \n",
       "ExtraTreeClassifier         0.996752  3519.0  3540.0    1.0   22.0  0.000282   \n",
       "XGB                         0.951567  3363.0  3376.0  165.0  178.0  0.046597   \n",
       "BaggingClassifier           0.992093  3508.0  3518.0   23.0   33.0  0.006495   \n",
       "Neural Network-1            0.985738  3493.0  3488.0   53.0   48.0  0.014968   \n",
       "\n",
       "                                 FNR  \n",
       "index                                 \n",
       "KNeighborsClassifier        0.052528  \n",
       "RandomForestClassifier      0.009602  \n",
       "AdaBoostClassifier          0.052810  \n",
       "GradientBoostingClassifier  0.046315  \n",
       "ExtraTreeClassifier         0.006213  \n",
       "XGB                         0.050268  \n",
       "BaggingClassifier           0.009319  \n",
       "Neural Network-1            0.013555  "
      ]
     },
     "metadata": {},
     "output_type": "display_data"
    },
    {
     "name": "stdout",
     "output_type": "stream",
     "text": [
      "Test Results\n"
     ]
    },
    {
     "data": {
      "text/html": [
       "<div>\n",
       "<style scoped>\n",
       "    .dataframe tbody tr th:only-of-type {\n",
       "        vertical-align: middle;\n",
       "    }\n",
       "\n",
       "    .dataframe tbody tr th {\n",
       "        vertical-align: top;\n",
       "    }\n",
       "\n",
       "    .dataframe thead th {\n",
       "        text-align: right;\n",
       "    }\n",
       "</style>\n",
       "<table border=\"1\" class=\"dataframe\">\n",
       "  <thead>\n",
       "    <tr style=\"text-align: right;\">\n",
       "      <th></th>\n",
       "      <th>accuracy</th>\n",
       "      <th>TP</th>\n",
       "      <th>TN</th>\n",
       "      <th>FP</th>\n",
       "      <th>FN</th>\n",
       "      <th>FPR</th>\n",
       "      <th>FNR</th>\n",
       "      <th>auc</th>\n",
       "      <th>MCC</th>\n",
       "      <th>Precision</th>\n",
       "      <th>Recall</th>\n",
       "    </tr>\n",
       "    <tr>\n",
       "      <th>index</th>\n",
       "      <th></th>\n",
       "      <th></th>\n",
       "      <th></th>\n",
       "      <th></th>\n",
       "      <th></th>\n",
       "      <th></th>\n",
       "      <th></th>\n",
       "      <th></th>\n",
       "      <th></th>\n",
       "      <th></th>\n",
       "      <th></th>\n",
       "    </tr>\n",
       "  </thead>\n",
       "  <tbody>\n",
       "    <tr>\n",
       "      <th>KNeighborsClassifier</th>\n",
       "      <td>0.928927</td>\n",
       "      <td>824.0</td>\n",
       "      <td>6456.0</td>\n",
       "      <td>481.0</td>\n",
       "      <td>76.0</td>\n",
       "      <td>0.069338</td>\n",
       "      <td>0.084444</td>\n",
       "      <td>0.923109</td>\n",
       "      <td>0.724203</td>\n",
       "      <td>0.631418</td>\n",
       "      <td>0.915556</td>\n",
       "    </tr>\n",
       "    <tr>\n",
       "      <th>RandomForestClassifier</th>\n",
       "      <td>0.954702</td>\n",
       "      <td>840.0</td>\n",
       "      <td>6642.0</td>\n",
       "      <td>295.0</td>\n",
       "      <td>60.0</td>\n",
       "      <td>0.042526</td>\n",
       "      <td>0.066667</td>\n",
       "      <td>0.945404</td>\n",
       "      <td>0.807032</td>\n",
       "      <td>0.740088</td>\n",
       "      <td>0.933333</td>\n",
       "    </tr>\n",
       "    <tr>\n",
       "      <th>AdaBoostClassifier</th>\n",
       "      <td>0.939135</td>\n",
       "      <td>844.0</td>\n",
       "      <td>6516.0</td>\n",
       "      <td>421.0</td>\n",
       "      <td>56.0</td>\n",
       "      <td>0.060689</td>\n",
       "      <td>0.062222</td>\n",
       "      <td>0.938544</td>\n",
       "      <td>0.760075</td>\n",
       "      <td>0.667194</td>\n",
       "      <td>0.937778</td>\n",
       "    </tr>\n",
       "    <tr>\n",
       "      <th>GradientBoostingClassifier</th>\n",
       "      <td>0.952660</td>\n",
       "      <td>847.0</td>\n",
       "      <td>6619.0</td>\n",
       "      <td>318.0</td>\n",
       "      <td>53.0</td>\n",
       "      <td>0.045841</td>\n",
       "      <td>0.058889</td>\n",
       "      <td>0.947635</td>\n",
       "      <td>0.802362</td>\n",
       "      <td>0.727039</td>\n",
       "      <td>0.941111</td>\n",
       "    </tr>\n",
       "    <tr>\n",
       "      <th>ExtraTreeClassifier</th>\n",
       "      <td>0.957509</td>\n",
       "      <td>835.0</td>\n",
       "      <td>6669.0</td>\n",
       "      <td>268.0</td>\n",
       "      <td>65.0</td>\n",
       "      <td>0.038633</td>\n",
       "      <td>0.072222</td>\n",
       "      <td>0.944572</td>\n",
       "      <td>0.815183</td>\n",
       "      <td>0.757026</td>\n",
       "      <td>0.927778</td>\n",
       "    </tr>\n",
       "    <tr>\n",
       "      <th>XGB</th>\n",
       "      <td>0.951384</td>\n",
       "      <td>843.0</td>\n",
       "      <td>6613.0</td>\n",
       "      <td>324.0</td>\n",
       "      <td>57.0</td>\n",
       "      <td>0.046706</td>\n",
       "      <td>0.063333</td>\n",
       "      <td>0.944980</td>\n",
       "      <td>0.797039</td>\n",
       "      <td>0.722365</td>\n",
       "      <td>0.936667</td>\n",
       "    </tr>\n",
       "    <tr>\n",
       "      <th>BaggingClassifier</th>\n",
       "      <td>0.951512</td>\n",
       "      <td>830.0</td>\n",
       "      <td>6627.0</td>\n",
       "      <td>310.0</td>\n",
       "      <td>70.0</td>\n",
       "      <td>0.044688</td>\n",
       "      <td>0.077778</td>\n",
       "      <td>0.938767</td>\n",
       "      <td>0.793558</td>\n",
       "      <td>0.728070</td>\n",
       "      <td>0.922222</td>\n",
       "    </tr>\n",
       "    <tr>\n",
       "      <th>Neural Network-1</th>\n",
       "      <td>0.937348</td>\n",
       "      <td>842.0</td>\n",
       "      <td>6504.0</td>\n",
       "      <td>433.0</td>\n",
       "      <td>58.0</td>\n",
       "      <td>0.062419</td>\n",
       "      <td>0.064444</td>\n",
       "      <td>0.938767</td>\n",
       "      <td>0.754251</td>\n",
       "      <td>0.660392</td>\n",
       "      <td>0.935556</td>\n",
       "    </tr>\n",
       "  </tbody>\n",
       "</table>\n",
       "</div>"
      ],
      "text/plain": [
       "                            accuracy     TP      TN     FP    FN       FPR  \\\n",
       "index                                                                        \n",
       "KNeighborsClassifier        0.928927  824.0  6456.0  481.0  76.0  0.069338   \n",
       "RandomForestClassifier      0.954702  840.0  6642.0  295.0  60.0  0.042526   \n",
       "AdaBoostClassifier          0.939135  844.0  6516.0  421.0  56.0  0.060689   \n",
       "GradientBoostingClassifier  0.952660  847.0  6619.0  318.0  53.0  0.045841   \n",
       "ExtraTreeClassifier         0.957509  835.0  6669.0  268.0  65.0  0.038633   \n",
       "XGB                         0.951384  843.0  6613.0  324.0  57.0  0.046706   \n",
       "BaggingClassifier           0.951512  830.0  6627.0  310.0  70.0  0.044688   \n",
       "Neural Network-1            0.937348  842.0  6504.0  433.0  58.0  0.062419   \n",
       "\n",
       "                                 FNR       auc       MCC  Precision    Recall  \n",
       "index                                                                          \n",
       "KNeighborsClassifier        0.084444  0.923109  0.724203   0.631418  0.915556  \n",
       "RandomForestClassifier      0.066667  0.945404  0.807032   0.740088  0.933333  \n",
       "AdaBoostClassifier          0.062222  0.938544  0.760075   0.667194  0.937778  \n",
       "GradientBoostingClassifier  0.058889  0.947635  0.802362   0.727039  0.941111  \n",
       "ExtraTreeClassifier         0.072222  0.944572  0.815183   0.757026  0.927778  \n",
       "XGB                         0.063333  0.944980  0.797039   0.722365  0.936667  \n",
       "BaggingClassifier           0.077778  0.938767  0.793558   0.728070  0.922222  \n",
       "Neural Network-1            0.064444  0.938767  0.754251   0.660392  0.935556  "
      ]
     },
     "metadata": {},
     "output_type": "display_data"
    }
   ],
   "source": [
    "table_80_50_train['index']=ind_columns\n",
    "table_80_50_test['index']=ind_columns\n",
    "\n",
    "\n",
    "table_80_50_test.set_index(['index'],drop=True,inplace=True)\n",
    "table_80_50_train.set_index(['index'],drop=True,inplace=True)\n",
    "\n",
    "print(\"Training Results\")\n",
    "display(table_80_50_train)\n",
    "print(\"Test Results\")\n",
    "display(table_80_50_test)"
   ]
  },
  {
   "cell_type": "markdown",
   "metadata": {},
   "source": [
    "### <a id='3.B' style=\"text-decoration : none; color : #000000;\"> B. Average Feature Importances</a>"
   ]
  },
  {
   "cell_type": "code",
   "execution_count": 19,
   "metadata": {},
   "outputs": [
    {
     "data": {
      "application/vnd.plotly.v1+json": {
       "config": {
        "linkText": "Export to plot.ly",
        "plotlyServerURL": "https://plot.ly",
        "showLink": true
       },
       "data": [
        {
         "marker": {
          "color": "rgb(158,202,225)",
          "line": {
           "color": "rgb(8,48,107)",
           "width": 1.5
          }
         },
         "opacity": 0.6,
         "orientation": "h",
         "text": [
          0.1138,
          0.0926,
          0.0739,
          0.0622,
          0.0563,
          0.0499,
          0.0499,
          0.0443,
          0.0401,
          0.0383,
          0.0337,
          0.0278,
          0.0269,
          0.0255,
          0.0236,
          0.0227,
          0.0224,
          0.0187,
          0.0186,
          0.016,
          0.0138,
          0.0137,
          0.0137,
          0.0129,
          0.0114,
          0.0114,
          0.0109,
          0.0099,
          0.0081,
          0.0079,
          0.0077,
          0.0073,
          0.0071,
          0.007
         ],
         "textposition": "outside",
         "type": "bar",
         "uid": "4842421a-075a-428c-afd4-899935f2f795",
         "x": [
          0.11378591582740394,
          0.09256433560306045,
          0.07385954932250269,
          0.06221899858373514,
          0.056321277630941746,
          0.04994616196987287,
          0.049865469416621976,
          0.044291983885280384,
          0.040146203867359585,
          0.038282031778562556,
          0.03366548772035459,
          0.02775000378670136,
          0.026920333373428317,
          0.025516971123028198,
          0.023577360634732838,
          0.022720253987497867,
          0.022437403581344367,
          0.018660586235920158,
          0.018614978518074275,
          0.016011842312742625,
          0.01382491927711251,
          0.01374070882363244,
          0.013678915311547185,
          0.012861394291464285,
          0.011415553094810413,
          0.011375919177342264,
          0.01090482872943477,
          0.009947810561234957,
          0.008090757683942,
          0.007917746168145333,
          0.007698129676087949,
          0.0072943050459847334,
          0.007073522533824211,
          0.007018340652535563
         ],
         "y": [
          "total_count",
          "url_length",
          "total_href",
          "url_extensions",
          "url_char_w",
          "a_href_out_of_domain",
          "meta_count",
          "http_header_content-encoding_gzip",
          "url_char_.",
          "link_type_text/css",
          "a_href_https",
          "link_href_out_of_domain",
          "a_href_relative",
          "p_count",
          "push",
          "http_header_server_apache",
          "http_header_transfer-encoding_chunked",
          "http_header_cache-control_set_max-age",
          "a_count",
          "script_async_true",
          "url_char_z",
          "url_char_i",
          "url_extension_.com",
          "http_header_via_1.1",
          "center_count",
          "url_char_p",
          "http_header_vary_user-agent",
          "url_char_f",
          "iframe_src_.html",
          "url_char_y",
          "a_href_http",
          "img_src_http",
          "form_action_http",
          "url_char_l"
         ]
        }
       ],
       "layout": {
        "autosize": false,
        "height": 1000,
        "width": 1000,
        "xaxis": {
         "tickfont": {
          "color": "black",
          "size": 12
         },
         "title": "Feature Importances"
        },
        "yaxis": {
         "automargin": true
        }
       }
      },
      "text/html": [
       "<div id=\"25f28382-16dc-482b-ab29-ad8ef957a780\" style=\"height: 1000px; width: 1000px;\" class=\"plotly-graph-div\"></div><script type=\"text/javascript\">require([\"plotly\"], function(Plotly) { window.PLOTLYENV=window.PLOTLYENV || {};window.PLOTLYENV.BASE_URL=\"https://plot.ly\";Plotly.newPlot(\"25f28382-16dc-482b-ab29-ad8ef957a780\", [{\"marker\": {\"color\": \"rgb(158,202,225)\", \"line\": {\"color\": \"rgb(8,48,107)\", \"width\": 1.5}}, \"opacity\": 0.6, \"orientation\": \"h\", \"text\": [0.1138, 0.0926, 0.0739, 0.0622, 0.0563, 0.0499, 0.0499, 0.0443, 0.0401, 0.0383, 0.0337, 0.0278, 0.0269, 0.0255, 0.0236, 0.0227, 0.0224, 0.0187, 0.0186, 0.016, 0.0138, 0.0137, 0.0137, 0.0129, 0.0114, 0.0114, 0.0109, 0.0099, 0.0081, 0.0079, 0.0077, 0.0073, 0.0071, 0.007], \"textposition\": \"outside\", \"x\": [0.11378591582740394, 0.09256433560306045, 0.07385954932250269, 0.06221899858373514, 0.056321277630941746, 0.04994616196987287, 0.049865469416621976, 0.044291983885280384, 0.040146203867359585, 0.038282031778562556, 0.03366548772035459, 0.02775000378670136, 0.026920333373428317, 0.025516971123028198, 0.023577360634732838, 0.022720253987497867, 0.022437403581344367, 0.018660586235920158, 0.018614978518074275, 0.016011842312742625, 0.01382491927711251, 0.01374070882363244, 0.013678915311547185, 0.012861394291464285, 0.011415553094810413, 0.011375919177342264, 0.01090482872943477, 0.009947810561234957, 0.008090757683942, 0.007917746168145333, 0.007698129676087949, 0.0072943050459847334, 0.007073522533824211, 0.007018340652535563], \"y\": [\"total_count\", \"url_length\", \"total_href\", \"url_extensions\", \"url_char_w\", \"a_href_out_of_domain\", \"meta_count\", \"http_header_content-encoding_gzip\", \"url_char_.\", \"link_type_text/css\", \"a_href_https\", \"link_href_out_of_domain\", \"a_href_relative\", \"p_count\", \"push\", \"http_header_server_apache\", \"http_header_transfer-encoding_chunked\", \"http_header_cache-control_set_max-age\", \"a_count\", \"script_async_true\", \"url_char_z\", \"url_char_i\", \"url_extension_.com\", \"http_header_via_1.1\", \"center_count\", \"url_char_p\", \"http_header_vary_user-agent\", \"url_char_f\", \"iframe_src_.html\", \"url_char_y\", \"a_href_http\", \"img_src_http\", \"form_action_http\", \"url_char_l\"], \"type\": \"bar\", \"uid\": \"4842421a-075a-428c-afd4-899935f2f795\"}], {\"autosize\": false, \"height\": 1000, \"width\": 1000, \"xaxis\": {\"tickfont\": {\"color\": \"black\", \"size\": 12}, \"title\": \"Feature Importances\"}, \"yaxis\": {\"automargin\": true}}, {\"showLink\": true, \"linkText\": \"Export to plot.ly\", \"plotlyServerURL\": \"https://plot.ly\"})});</script>"
      ],
      "text/vnd.plotly.v1+html": [
       "<div id=\"25f28382-16dc-482b-ab29-ad8ef957a780\" style=\"height: 1000px; width: 1000px;\" class=\"plotly-graph-div\"></div><script type=\"text/javascript\">require([\"plotly\"], function(Plotly) { window.PLOTLYENV=window.PLOTLYENV || {};window.PLOTLYENV.BASE_URL=\"https://plot.ly\";Plotly.newPlot(\"25f28382-16dc-482b-ab29-ad8ef957a780\", [{\"marker\": {\"color\": \"rgb(158,202,225)\", \"line\": {\"color\": \"rgb(8,48,107)\", \"width\": 1.5}}, \"opacity\": 0.6, \"orientation\": \"h\", \"text\": [0.1138, 0.0926, 0.0739, 0.0622, 0.0563, 0.0499, 0.0499, 0.0443, 0.0401, 0.0383, 0.0337, 0.0278, 0.0269, 0.0255, 0.0236, 0.0227, 0.0224, 0.0187, 0.0186, 0.016, 0.0138, 0.0137, 0.0137, 0.0129, 0.0114, 0.0114, 0.0109, 0.0099, 0.0081, 0.0079, 0.0077, 0.0073, 0.0071, 0.007], \"textposition\": \"outside\", \"x\": [0.11378591582740394, 0.09256433560306045, 0.07385954932250269, 0.06221899858373514, 0.056321277630941746, 0.04994616196987287, 0.049865469416621976, 0.044291983885280384, 0.040146203867359585, 0.038282031778562556, 0.03366548772035459, 0.02775000378670136, 0.026920333373428317, 0.025516971123028198, 0.023577360634732838, 0.022720253987497867, 0.022437403581344367, 0.018660586235920158, 0.018614978518074275, 0.016011842312742625, 0.01382491927711251, 0.01374070882363244, 0.013678915311547185, 0.012861394291464285, 0.011415553094810413, 0.011375919177342264, 0.01090482872943477, 0.009947810561234957, 0.008090757683942, 0.007917746168145333, 0.007698129676087949, 0.0072943050459847334, 0.007073522533824211, 0.007018340652535563], \"y\": [\"total_count\", \"url_length\", \"total_href\", \"url_extensions\", \"url_char_w\", \"a_href_out_of_domain\", \"meta_count\", \"http_header_content-encoding_gzip\", \"url_char_.\", \"link_type_text/css\", \"a_href_https\", \"link_href_out_of_domain\", \"a_href_relative\", \"p_count\", \"push\", \"http_header_server_apache\", \"http_header_transfer-encoding_chunked\", \"http_header_cache-control_set_max-age\", \"a_count\", \"script_async_true\", \"url_char_z\", \"url_char_i\", \"url_extension_.com\", \"http_header_via_1.1\", \"center_count\", \"url_char_p\", \"http_header_vary_user-agent\", \"url_char_f\", \"iframe_src_.html\", \"url_char_y\", \"a_href_http\", \"img_src_http\", \"form_action_http\", \"url_char_l\"], \"type\": \"bar\", \"uid\": \"4842421a-075a-428c-afd4-899935f2f795\"}], {\"autosize\": false, \"height\": 1000, \"width\": 1000, \"xaxis\": {\"tickfont\": {\"color\": \"black\", \"size\": 12}, \"title\": \"Feature Importances\"}, \"yaxis\": {\"automargin\": true}}, {\"showLink\": true, \"linkText\": \"Export to plot.ly\", \"plotlyServerURL\": \"https://plot.ly\"})});</script>"
      ]
     },
     "metadata": {},
     "output_type": "display_data"
    }
   ],
   "source": [
    "feat_impt_plot(np.average(feat_imp,axis=0),columns)"
   ]
  },
  {
   "cell_type": "markdown",
   "metadata": {},
   "source": [
    "### <a id='4' style=\"text-decoration : none; color : #000000;\">4. Feature Transformation with feature selection </a>"
   ]
  },
  {
   "cell_type": "code",
   "execution_count": 20,
   "metadata": {},
   "outputs": [
    {
     "name": "stdout",
     "output_type": "stream",
     "text": [
      "Built 2278 features\n",
      "EntitySet scattered to workers in 4.625 seconds\n",
      "Elapsed: 00:12 | Remaining: 00:00 | Progress: 100%|██████████| Calculated: 11/11 chunks\n"
     ]
    }
   ],
   "source": [
    "df.reset_index(inplace=True)\n",
    "columns.append('domain')\n",
    "df_min=df[columns]\n",
    "\n",
    "es = ft.EntitySet(id = 'malicious')\n",
    "es.entity_from_dataframe(entity_id = 'data', dataframe = df_min, index = 'domain')\n",
    "\n",
    "feature_matrix_sessions, features_defs = ft.dfs(entityset=es,target_entity=\"data\",\n",
    "                                                trans_primitives = ['add','divide','multiply'],n_jobs=-1,\n",
    "                                                verbose=1,max_depth=1)"
   ]
  },
  {
   "cell_type": "code",
   "execution_count": 21,
   "metadata": {},
   "outputs": [
    {
     "name": "stderr",
     "output_type": "stream",
     "text": [
      "distributed.client - ERROR - Failed to reconnect to scheduler after 10.00 seconds, closing client\n",
      "distributed.utils - ERROR - \n",
      "Traceback (most recent call last):\n",
      "  File \"/nethomes/darshan/anaconda3/lib/python3.6/site-packages/distributed/utils.py\", line 713, in log_errors\n",
      "    yield\n",
      "  File \"/nethomes/darshan/anaconda3/lib/python3.6/site-packages/distributed/client.py\", line 1223, in _close\n",
      "    quiet_exceptions=(CancelledError,),\n",
      "  File \"/nethomes/darshan/anaconda3/lib/python3.6/site-packages/tornado/gen.py\", line 584, in with_timeout\n",
      "    chain_future(future_converted, result)\n",
      "  File \"/nethomes/darshan/anaconda3/lib/python3.6/site-packages/tornado/concurrent.py\", line 166, in chain_future\n",
      "    future_add_done_callback(a, copy)\n",
      "  File \"/nethomes/darshan/anaconda3/lib/python3.6/site-packages/tornado/concurrent.py\", line 262, in future_add_done_callback\n",
      "    callback(future)\n",
      "  File \"/nethomes/darshan/anaconda3/lib/python3.6/site-packages/tornado/concurrent.py\", line 160, in copy\n",
      "    elif a.exception() is not None:\n",
      "concurrent.futures._base.CancelledError\n",
      "distributed.utils - ERROR - \n",
      "Traceback (most recent call last):\n",
      "  File \"/nethomes/darshan/anaconda3/lib/python3.6/site-packages/distributed/utils.py\", line 713, in log_errors\n",
      "    yield\n",
      "  File \"/nethomes/darshan/anaconda3/lib/python3.6/site-packages/distributed/client.py\", line 992, in _reconnect\n",
      "    yield self._close()\n",
      "  File \"/nethomes/darshan/anaconda3/lib/python3.6/site-packages/tornado/gen.py\", line 729, in run\n",
      "    value = future.result()\n",
      "  File \"/nethomes/darshan/anaconda3/lib/python3.6/site-packages/tornado/gen.py\", line 209, in wrapper\n",
      "    yielded = next(result)\n",
      "  File \"/nethomes/darshan/anaconda3/lib/python3.6/site-packages/distributed/client.py\", line 1223, in _close\n",
      "    quiet_exceptions=(CancelledError,),\n",
      "  File \"/nethomes/darshan/anaconda3/lib/python3.6/site-packages/tornado/gen.py\", line 584, in with_timeout\n",
      "    chain_future(future_converted, result)\n",
      "  File \"/nethomes/darshan/anaconda3/lib/python3.6/site-packages/tornado/concurrent.py\", line 166, in chain_future\n",
      "    future_add_done_callback(a, copy)\n",
      "  File \"/nethomes/darshan/anaconda3/lib/python3.6/site-packages/tornado/concurrent.py\", line 262, in future_add_done_callback\n",
      "    callback(future)\n",
      "  File \"/nethomes/darshan/anaconda3/lib/python3.6/site-packages/tornado/concurrent.py\", line 160, in copy\n",
      "    elif a.exception() is not None:\n",
      "concurrent.futures._base.CancelledError\n"
     ]
    }
   ],
   "source": [
    "df.set_index(['domain'],drop=True,inplace=True)\n",
    "fs=pd.merge(feature_matrix_sessions,pd.DataFrame(df_sel.Target),left_index=True, right_index=True)\n",
    "fs.replace([np.inf],0,inplace=True)\n",
    "fs.fillna(value=0,inplace=True)\n",
    "fs=fs.reindex(df.index.values)\n",
    "X=fs.loc[:,fs.columns!='Target']\n",
    "y=fs.Target\n",
    "feature_name = X.columns.tolist()"
   ]
  },
  {
   "cell_type": "code",
   "execution_count": null,
   "metadata": {},
   "outputs": [],
   "source": [
    "def cor_selector(X, y):\n",
    "    cor_list = []\n",
    "    # calculate the correlation with y for each feature\n",
    "    for i in X.columns.tolist():\n",
    "        cor = np.corrcoef(X[i], y)[0, 1]\n",
    "        cor_list.append(cor)\n",
    "    # replace NaN with 0\n",
    "    cor_list = [0 if np.isnan(i) else i for i in cor_list]\n",
    "    # feature name\n",
    "    cor_feature = X.iloc[:,np.argsort(np.abs(cor_list))[-100:]].columns.tolist()\n",
    "    # feature selection? 0 for not select, 1 for select\n",
    "    cor_support = [True if i in cor_feature else False for i in feature_name]\n",
    "    return cor_support, cor_feature\n",
    "cor_support, cor_feature = cor_selector(X, y)\n",
    "\n",
    "X_norm = MinMaxScaler().fit_transform(X)\n",
    "chi_selector = SelectKBest(chi2, k=100)\n",
    "chi_selector.fit(X_norm, y)\n",
    "chi_support = chi_selector.get_support()\n",
    "chi_feature = X.loc[:,chi_support].columns.tolist()\n",
    "\n",
    "rfe_selector = RFE(estimator=LogisticRegression(random_state=0), n_features_to_select=100, step=0.3, verbose=False)\n",
    "rfe_selector.fit(X_norm, y)\n",
    "rfe_support = rfe_selector.get_support()\n",
    "rfe_feature = X.loc[:,rfe_support].columns.tolist()\n",
    "\n",
    "embeded_rf_selector = SelectFromModel(RandomForestClassifier(n_estimators=100,random_state=0), threshold='23*median')\n",
    "embeded_rf_selector.fit(X, y)\n",
    "embeded_rf_support = embeded_rf_selector.get_support()"
   ]
  },
  {
   "cell_type": "code",
   "execution_count": null,
   "metadata": {},
   "outputs": [],
   "source": [
    "embeded_rf_feature = X.loc[:,embeded_rf_support].columns.tolist()\n",
    "feature_selection_df = pd.DataFrame({'Feature':feature_name, 'Pearson':cor_support, 'Chi-2':chi_support, 'RFE':rfe_support,\n",
    "                                    'Random Forest':embeded_rf_support})\n",
    "# count the selected times for each feature\n",
    "feature_selection_df['Total'] = np.sum(feature_selection_df, axis=1)\n",
    "feature_selection_df = feature_selection_df.sort_values(['Total','Feature'] , ascending=False)\n",
    "feature_selection_df.index = range(1, len(feature_selection_df)+1)"
   ]
  },
  {
   "cell_type": "code",
   "execution_count": null,
   "metadata": {},
   "outputs": [],
   "source": [
    "X=fs[feature_selection_df[feature_selection_df.Total>=3]['Feature']]\n",
    "X.fillna(value=0,inplace=True)\n",
    "y=fs.Target.values\n",
    "feature_name = X.columns.tolist()\n",
    "\n",
    "scaler=StandardScaler()\n",
    "scaled_X=scaler.fit_transform(X)\n",
    "\n",
    "print(\"The train/test split ratio is 70:30\")\n",
    "X_train, X_test, Y_train, Y_test = train_test_split(scaled_X,y,random_state=0,test_size=0.3)\n",
    "print('Features we will be using:\\n')\n",
    "display(feature_name)"
   ]
  },
  {
   "cell_type": "code",
   "execution_count": 23,
   "metadata": {},
   "outputs": [],
   "source": [
    "feature_name=['url_length / total_count',\n",
    " 'url_extensions / total_count',\n",
    " 'url_char_w + url_char_z',\n",
    " 'url_char_. / total_count',\n",
    " 'url_char_. + url_char_w',\n",
    " 'http_header_server_apache / total_count',\n",
    " 'http_header_server_apache + url_char_w',\n",
    " 'a_href_relative / total_href',\n",
    " 'url_extensions / url_char_z',\n",
    " 'url_extensions',\n",
    " 'url_char_z / total_count',\n",
    " 'url_char_y * url_extensions',\n",
    " 'url_char_w / total_count',\n",
    " 'url_char_w + url_extensions',\n",
    " 'url_char_w * url_length',\n",
    " 'url_char_w * url_extensions',\n",
    " 'url_char_w',\n",
    " 'url_char_p / total_count',\n",
    " 'url_char_p + url_extensions',\n",
    " 'url_char_l / total_count',\n",
    " 'url_char_i / total_count',\n",
    " 'url_char_f / total_count',\n",
    " 'url_char_f + url_extensions',\n",
    " 'url_char_f + url_char_w',\n",
    " 'url_char_. + url_extensions',\n",
    " 'url_char_. + url_char_z',\n",
    " 'url_char_. + url_char_y',\n",
    " 'url_char_. * url_char_w',\n",
    " 'url_char_.',\n",
    " 'http_header_via_1.1 + url_extensions',\n",
    " 'http_header_vary_user-agent + url_extensions',\n",
    " 'http_header_vary_user-agent + url_char_.',\n",
    " 'http_header_server_apache + url_extensions',\n",
    " 'http_header_content-encoding_gzip / url_char_.',\n",
    " 'a_href_relative / a_count',\n",
    " 'a_href_out_of_domain / total_href',\n",
    " 'a_href_https / a_count']"
   ]
  },
  {
   "cell_type": "code",
   "execution_count": 24,
   "metadata": {
    "scrolled": false
   },
   "outputs": [
    {
     "name": "stdout",
     "output_type": "stream",
     "text": [
      "\u001b[1mK-Nearest Neighbors\u001b[0m\n",
      "Accuracy of the model for training data is: 0.9797103298666496\n",
      "Confusion Matrix for training data is:\n"
     ]
    },
    {
     "data": {
      "text/plain": [
       "Predicted  False  True  __all__\n",
       "Actual                         \n",
       "False      27615   190    27805\n",
       "True         446  3095     3541\n",
       "__all__    28061  3285    31346"
      ]
     },
     "metadata": {},
     "output_type": "display_data"
    },
    {
     "name": "stdout",
     "output_type": "stream",
     "text": [
      "Accuracy of the model for test data is: 0.9709072349113181\n",
      "Confusion Matrix for test data is:\n"
     ]
    },
    {
     "data": {
      "text/plain": [
       "Predicted  False  True  __all__\n",
       "Actual                         \n",
       "False       6858    79     6937\n",
       "True         149   751      900\n",
       "__all__     7007   830     7837"
      ]
     },
     "metadata": {},
     "output_type": "display_data"
    },
    {
     "name": "stdout",
     "output_type": "stream",
     "text": [
      "\n",
      "\n",
      "\u001b[1mRandomForest Classifier\u001b[0m\n",
      "Accuracy of the model for training data is: 0.9948956804695974\n",
      "Confusion Matrix for training data is:\n"
     ]
    },
    {
     "data": {
      "text/plain": [
       "Predicted  False  True  __all__\n",
       "Actual                         \n",
       "False      27776    29    27805\n",
       "True         131  3410     3541\n",
       "__all__    27907  3439    31346"
      ]
     },
     "metadata": {},
     "output_type": "display_data"
    },
    {
     "name": "stdout",
     "output_type": "stream",
     "text": [
      "Accuracy of the model for test data is: 0.9775424269490877\n",
      "Confusion Matrix for test data is:\n"
     ]
    },
    {
     "data": {
      "text/plain": [
       "Predicted  False  True  __all__\n",
       "Actual                         \n",
       "False       6883    54     6937\n",
       "True         122   778      900\n",
       "__all__     7005   832     7837"
      ]
     },
     "metadata": {},
     "output_type": "display_data"
    },
    {
     "data": {
      "application/vnd.plotly.v1+json": {
       "config": {
        "linkText": "Export to plot.ly",
        "plotlyServerURL": "https://plot.ly",
        "showLink": true
       },
       "data": [
        {
         "marker": {
          "color": "rgb(158,202,225)",
          "line": {
           "color": "rgb(8,48,107)",
           "width": 1.5
          }
         },
         "opacity": 0.6,
         "orientation": "h",
         "text": [
          0.2534,
          0.1166,
          0.0938,
          0.0646,
          0.0544,
          0.0362,
          0.0325,
          0.0301,
          0.028,
          0.0245,
          0.0204,
          0.0189,
          0.0179,
          0.0165,
          0.0158,
          0.0139,
          0.0137,
          0.0136,
          0.0126,
          0.0121,
          0.0121,
          0.011,
          0.0104,
          0.0099,
          0.0094,
          0.0068,
          0.0066,
          0.0061,
          0.006,
          0.0057,
          0.0056,
          0.0055,
          0.0055,
          0.0031,
          0.003,
          0.0028,
          0.0009
         ],
         "textposition": "outside",
         "type": "bar",
         "uid": "15fa176c-91bb-46f2-be94-9d4b3aef2f8a",
         "x": [
          0.25338482000724105,
          0.11664881629652563,
          0.09383503469914695,
          0.06459771429987983,
          0.05444398539574602,
          0.0362388986450669,
          0.03245726489264141,
          0.030092857340103554,
          0.02804768317713017,
          0.024527171827511133,
          0.02043890866659202,
          0.01892139682764561,
          0.017929916083530433,
          0.016530249534660948,
          0.015825787053136607,
          0.013945730331830393,
          0.01366204613205366,
          0.013574850476785374,
          0.012588308375263627,
          0.012111007117691813,
          0.012056301572744824,
          0.010960992031251103,
          0.01041914003883203,
          0.009854393424229292,
          0.00938932060458166,
          0.006785963038826202,
          0.006570595634014265,
          0.006108538055363459,
          0.006019737749889266,
          0.005679994740757119,
          0.005599263134830287,
          0.005535209136428323,
          0.00547207779621123,
          0.003081569135608283,
          0.0030310821704326177,
          0.0027775593748989085,
          0.0008558151809181987
         ],
         "y": [
          "url_length / total_count",
          "url_extensions / total_count",
          "url_char_i / total_count",
          "url_char_. / total_count",
          "url_char_. + url_extensions",
          "url_char_. + url_char_w",
          "a_href_relative / total_href",
          "url_char_.",
          "http_header_server_apache + url_char_w",
          "a_href_https / a_count",
          "http_header_server_apache / total_count",
          "url_char_z / total_count",
          "url_char_p + url_extensions",
          "url_char_w + url_char_z",
          "url_char_l / total_count",
          "url_char_. + url_char_z",
          "url_char_w * url_length",
          "url_char_w",
          "a_href_out_of_domain / total_href",
          "url_extensions",
          "http_header_content-encoding_gzip / url_char_.",
          "http_header_via_1.1 + url_extensions",
          "http_header_vary_user-agent + url_extensions",
          "url_char_p / total_count",
          "http_header_server_apache + url_extensions",
          "url_char_y * url_extensions",
          "url_extensions / url_char_z",
          "url_char_f / total_count",
          "url_char_w / total_count",
          "url_char_f + url_extensions",
          "http_header_vary_user-agent + url_char_.",
          "url_char_f + url_char_w",
          "url_char_. + url_char_y",
          "a_href_relative / a_count",
          "url_char_w * url_extensions",
          "url_char_w + url_extensions",
          "url_char_. * url_char_w"
         ]
        }
       ],
       "layout": {
        "autosize": false,
        "height": 1000,
        "width": 1000,
        "xaxis": {
         "tickfont": {
          "color": "black",
          "size": 12
         },
         "title": "Feature Importances"
        },
        "yaxis": {
         "automargin": true
        }
       }
      },
      "text/html": [
       "<div id=\"45b33d3d-6900-4903-80b5-50ff65f6226a\" style=\"height: 1000px; width: 1000px;\" class=\"plotly-graph-div\"></div><script type=\"text/javascript\">require([\"plotly\"], function(Plotly) { window.PLOTLYENV=window.PLOTLYENV || {};window.PLOTLYENV.BASE_URL=\"https://plot.ly\";Plotly.newPlot(\"45b33d3d-6900-4903-80b5-50ff65f6226a\", [{\"marker\": {\"color\": \"rgb(158,202,225)\", \"line\": {\"color\": \"rgb(8,48,107)\", \"width\": 1.5}}, \"opacity\": 0.6, \"orientation\": \"h\", \"text\": [0.2534, 0.1166, 0.0938, 0.0646, 0.0544, 0.0362, 0.0325, 0.0301, 0.028, 0.0245, 0.0204, 0.0189, 0.0179, 0.0165, 0.0158, 0.0139, 0.0137, 0.0136, 0.0126, 0.0121, 0.0121, 0.011, 0.0104, 0.0099, 0.0094, 0.0068, 0.0066, 0.0061, 0.006, 0.0057, 0.0056, 0.0055, 0.0055, 0.0031, 0.003, 0.0028, 0.0009], \"textposition\": \"outside\", \"x\": [0.25338482000724105, 0.11664881629652563, 0.09383503469914695, 0.06459771429987983, 0.05444398539574602, 0.0362388986450669, 0.03245726489264141, 0.030092857340103554, 0.02804768317713017, 0.024527171827511133, 0.02043890866659202, 0.01892139682764561, 0.017929916083530433, 0.016530249534660948, 0.015825787053136607, 0.013945730331830393, 0.01366204613205366, 0.013574850476785374, 0.012588308375263627, 0.012111007117691813, 0.012056301572744824, 0.010960992031251103, 0.01041914003883203, 0.009854393424229292, 0.00938932060458166, 0.006785963038826202, 0.006570595634014265, 0.006108538055363459, 0.006019737749889266, 0.005679994740757119, 0.005599263134830287, 0.005535209136428323, 0.00547207779621123, 0.003081569135608283, 0.0030310821704326177, 0.0027775593748989085, 0.0008558151809181987], \"y\": [\"url_length / total_count\", \"url_extensions / total_count\", \"url_char_i / total_count\", \"url_char_. / total_count\", \"url_char_. + url_extensions\", \"url_char_. + url_char_w\", \"a_href_relative / total_href\", \"url_char_.\", \"http_header_server_apache + url_char_w\", \"a_href_https / a_count\", \"http_header_server_apache / total_count\", \"url_char_z / total_count\", \"url_char_p + url_extensions\", \"url_char_w + url_char_z\", \"url_char_l / total_count\", \"url_char_. + url_char_z\", \"url_char_w * url_length\", \"url_char_w\", \"a_href_out_of_domain / total_href\", \"url_extensions\", \"http_header_content-encoding_gzip / url_char_.\", \"http_header_via_1.1 + url_extensions\", \"http_header_vary_user-agent + url_extensions\", \"url_char_p / total_count\", \"http_header_server_apache + url_extensions\", \"url_char_y * url_extensions\", \"url_extensions / url_char_z\", \"url_char_f / total_count\", \"url_char_w / total_count\", \"url_char_f + url_extensions\", \"http_header_vary_user-agent + url_char_.\", \"url_char_f + url_char_w\", \"url_char_. + url_char_y\", \"a_href_relative / a_count\", \"url_char_w * url_extensions\", \"url_char_w + url_extensions\", \"url_char_. * url_char_w\"], \"type\": \"bar\", \"uid\": \"15fa176c-91bb-46f2-be94-9d4b3aef2f8a\"}], {\"autosize\": false, \"height\": 1000, \"width\": 1000, \"xaxis\": {\"tickfont\": {\"color\": \"black\", \"size\": 12}, \"title\": \"Feature Importances\"}, \"yaxis\": {\"automargin\": true}}, {\"showLink\": true, \"linkText\": \"Export to plot.ly\", \"plotlyServerURL\": \"https://plot.ly\"})});</script>"
      ],
      "text/vnd.plotly.v1+html": [
       "<div id=\"45b33d3d-6900-4903-80b5-50ff65f6226a\" style=\"height: 1000px; width: 1000px;\" class=\"plotly-graph-div\"></div><script type=\"text/javascript\">require([\"plotly\"], function(Plotly) { window.PLOTLYENV=window.PLOTLYENV || {};window.PLOTLYENV.BASE_URL=\"https://plot.ly\";Plotly.newPlot(\"45b33d3d-6900-4903-80b5-50ff65f6226a\", [{\"marker\": {\"color\": \"rgb(158,202,225)\", \"line\": {\"color\": \"rgb(8,48,107)\", \"width\": 1.5}}, \"opacity\": 0.6, \"orientation\": \"h\", \"text\": [0.2534, 0.1166, 0.0938, 0.0646, 0.0544, 0.0362, 0.0325, 0.0301, 0.028, 0.0245, 0.0204, 0.0189, 0.0179, 0.0165, 0.0158, 0.0139, 0.0137, 0.0136, 0.0126, 0.0121, 0.0121, 0.011, 0.0104, 0.0099, 0.0094, 0.0068, 0.0066, 0.0061, 0.006, 0.0057, 0.0056, 0.0055, 0.0055, 0.0031, 0.003, 0.0028, 0.0009], \"textposition\": \"outside\", \"x\": [0.25338482000724105, 0.11664881629652563, 0.09383503469914695, 0.06459771429987983, 0.05444398539574602, 0.0362388986450669, 0.03245726489264141, 0.030092857340103554, 0.02804768317713017, 0.024527171827511133, 0.02043890866659202, 0.01892139682764561, 0.017929916083530433, 0.016530249534660948, 0.015825787053136607, 0.013945730331830393, 0.01366204613205366, 0.013574850476785374, 0.012588308375263627, 0.012111007117691813, 0.012056301572744824, 0.010960992031251103, 0.01041914003883203, 0.009854393424229292, 0.00938932060458166, 0.006785963038826202, 0.006570595634014265, 0.006108538055363459, 0.006019737749889266, 0.005679994740757119, 0.005599263134830287, 0.005535209136428323, 0.00547207779621123, 0.003081569135608283, 0.0030310821704326177, 0.0027775593748989085, 0.0008558151809181987], \"y\": [\"url_length / total_count\", \"url_extensions / total_count\", \"url_char_i / total_count\", \"url_char_. / total_count\", \"url_char_. + url_extensions\", \"url_char_. + url_char_w\", \"a_href_relative / total_href\", \"url_char_.\", \"http_header_server_apache + url_char_w\", \"a_href_https / a_count\", \"http_header_server_apache / total_count\", \"url_char_z / total_count\", \"url_char_p + url_extensions\", \"url_char_w + url_char_z\", \"url_char_l / total_count\", \"url_char_. + url_char_z\", \"url_char_w * url_length\", \"url_char_w\", \"a_href_out_of_domain / total_href\", \"url_extensions\", \"http_header_content-encoding_gzip / url_char_.\", \"http_header_via_1.1 + url_extensions\", \"http_header_vary_user-agent + url_extensions\", \"url_char_p / total_count\", \"http_header_server_apache + url_extensions\", \"url_char_y * url_extensions\", \"url_extensions / url_char_z\", \"url_char_f / total_count\", \"url_char_w / total_count\", \"url_char_f + url_extensions\", \"http_header_vary_user-agent + url_char_.\", \"url_char_f + url_char_w\", \"url_char_. + url_char_y\", \"a_href_relative / a_count\", \"url_char_w * url_extensions\", \"url_char_w + url_extensions\", \"url_char_. * url_char_w\"], \"type\": \"bar\", \"uid\": \"15fa176c-91bb-46f2-be94-9d4b3aef2f8a\"}], {\"autosize\": false, \"height\": 1000, \"width\": 1000, \"xaxis\": {\"tickfont\": {\"color\": \"black\", \"size\": 12}, \"title\": \"Feature Importances\"}, \"yaxis\": {\"automargin\": true}}, {\"showLink\": true, \"linkText\": \"Export to plot.ly\", \"plotlyServerURL\": \"https://plot.ly\"})});</script>"
      ]
     },
     "metadata": {},
     "output_type": "display_data"
    },
    {
     "name": "stdout",
     "output_type": "stream",
     "text": [
      "\n",
      "\n",
      "\u001b[1mAdaoost Classifier\u001b[0m\n",
      "Accuracy of the model for training data is: 0.9737127544184266\n",
      "Confusion Matrix for training data is:\n"
     ]
    },
    {
     "data": {
      "text/plain": [
       "Predicted  False  True  __all__\n",
       "Actual                         \n",
       "False      27507   298    27805\n",
       "True         526  3015     3541\n",
       "__all__    28033  3313    31346"
      ]
     },
     "metadata": {},
     "output_type": "display_data"
    },
    {
     "name": "stdout",
     "output_type": "stream",
     "text": [
      "Accuracy of the model for test data is: 0.9682276381268342\n",
      "Confusion Matrix for test data is:\n"
     ]
    },
    {
     "data": {
      "text/plain": [
       "Predicted  False  True  __all__\n",
       "Actual                         \n",
       "False       6838    99     6937\n",
       "True         150   750      900\n",
       "__all__     6988   849     7837"
      ]
     },
     "metadata": {},
     "output_type": "display_data"
    },
    {
     "data": {
      "application/vnd.plotly.v1+json": {
       "config": {
        "linkText": "Export to plot.ly",
        "plotlyServerURL": "https://plot.ly",
        "showLink": true
       },
       "data": [
        {
         "marker": {
          "color": "rgb(158,202,225)",
          "line": {
           "color": "rgb(8,48,107)",
           "width": 1.5
          }
         },
         "opacity": 0.6,
         "orientation": "h",
         "text": [
          0.12,
          0.1,
          0.1,
          0.1,
          0.06,
          0.06,
          0.04,
          0.04,
          0.04,
          0.04,
          0.04,
          0.04,
          0.04,
          0.02,
          0.02,
          0.02,
          0.02,
          0.02,
          0.02,
          0.02,
          0.02,
          0.02,
          0,
          0,
          0,
          0,
          0,
          0,
          0,
          0,
          0,
          0,
          0,
          0,
          0,
          0,
          0
         ],
         "textposition": "outside",
         "type": "bar",
         "uid": "eac02e6c-dae5-44a5-b4e2-270091d9a604",
         "x": [
          0.12,
          0.1,
          0.1,
          0.1,
          0.06,
          0.06,
          0.04,
          0.04,
          0.04,
          0.04,
          0.04,
          0.04,
          0.04,
          0.02,
          0.02,
          0.02,
          0.02,
          0.02,
          0.02,
          0.02,
          0.02,
          0.02,
          0,
          0,
          0,
          0,
          0,
          0,
          0,
          0,
          0,
          0,
          0,
          0,
          0,
          0,
          0
         ],
         "y": [
          "url_char_. / total_count",
          "url_length / total_count",
          "a_href_out_of_domain / total_href",
          "a_href_relative / total_href",
          "url_char_w + url_char_z",
          "http_header_server_apache + url_extensions",
          "url_char_w * url_length",
          "http_header_content-encoding_gzip / url_char_.",
          "http_header_vary_user-agent + url_char_.",
          "url_char_. + url_extensions",
          "url_char_i / total_count",
          "url_char_p + url_extensions",
          "a_href_https / a_count",
          "url_char_y * url_extensions",
          "url_char_. + url_char_w",
          "a_href_relative / a_count",
          "http_header_server_apache / total_count",
          "url_char_l / total_count",
          "url_char_z / total_count",
          "url_char_f / total_count",
          "url_extensions / url_char_z",
          "url_char_. + url_char_y",
          "url_char_. * url_char_w",
          "http_header_server_apache + url_char_w",
          "http_header_vary_user-agent + url_extensions",
          "http_header_via_1.1 + url_extensions",
          "url_char_.",
          "url_char_w / total_count",
          "url_char_. + url_char_z",
          "url_char_w + url_extensions",
          "url_char_f + url_char_w",
          "url_char_f + url_extensions",
          "url_extensions / total_count",
          "url_char_p / total_count",
          "url_char_w",
          "url_char_w * url_extensions",
          "url_extensions"
         ]
        }
       ],
       "layout": {
        "autosize": false,
        "height": 1000,
        "width": 1000,
        "xaxis": {
         "tickfont": {
          "color": "black",
          "size": 12
         },
         "title": "Feature Importances"
        },
        "yaxis": {
         "automargin": true
        }
       }
      },
      "text/html": [
       "<div id=\"c2a1ec99-87c2-47b5-9e8b-e76b6e10a15f\" style=\"height: 1000px; width: 1000px;\" class=\"plotly-graph-div\"></div><script type=\"text/javascript\">require([\"plotly\"], function(Plotly) { window.PLOTLYENV=window.PLOTLYENV || {};window.PLOTLYENV.BASE_URL=\"https://plot.ly\";Plotly.newPlot(\"c2a1ec99-87c2-47b5-9e8b-e76b6e10a15f\", [{\"marker\": {\"color\": \"rgb(158,202,225)\", \"line\": {\"color\": \"rgb(8,48,107)\", \"width\": 1.5}}, \"opacity\": 0.6, \"orientation\": \"h\", \"text\": [0.12, 0.1, 0.1, 0.1, 0.06, 0.06, 0.04, 0.04, 0.04, 0.04, 0.04, 0.04, 0.04, 0.02, 0.02, 0.02, 0.02, 0.02, 0.02, 0.02, 0.02, 0.02, 0.0, 0.0, 0.0, 0.0, 0.0, 0.0, 0.0, 0.0, 0.0, 0.0, 0.0, 0.0, 0.0, 0.0, 0.0], \"textposition\": \"outside\", \"x\": [0.12, 0.1, 0.1, 0.1, 0.06, 0.06, 0.04, 0.04, 0.04, 0.04, 0.04, 0.04, 0.04, 0.02, 0.02, 0.02, 0.02, 0.02, 0.02, 0.02, 0.02, 0.02, 0.0, 0.0, 0.0, 0.0, 0.0, 0.0, 0.0, 0.0, 0.0, 0.0, 0.0, 0.0, 0.0, 0.0, 0.0], \"y\": [\"url_char_. / total_count\", \"url_length / total_count\", \"a_href_out_of_domain / total_href\", \"a_href_relative / total_href\", \"url_char_w + url_char_z\", \"http_header_server_apache + url_extensions\", \"url_char_w * url_length\", \"http_header_content-encoding_gzip / url_char_.\", \"http_header_vary_user-agent + url_char_.\", \"url_char_. + url_extensions\", \"url_char_i / total_count\", \"url_char_p + url_extensions\", \"a_href_https / a_count\", \"url_char_y * url_extensions\", \"url_char_. + url_char_w\", \"a_href_relative / a_count\", \"http_header_server_apache / total_count\", \"url_char_l / total_count\", \"url_char_z / total_count\", \"url_char_f / total_count\", \"url_extensions / url_char_z\", \"url_char_. + url_char_y\", \"url_char_. * url_char_w\", \"http_header_server_apache + url_char_w\", \"http_header_vary_user-agent + url_extensions\", \"http_header_via_1.1 + url_extensions\", \"url_char_.\", \"url_char_w / total_count\", \"url_char_. + url_char_z\", \"url_char_w + url_extensions\", \"url_char_f + url_char_w\", \"url_char_f + url_extensions\", \"url_extensions / total_count\", \"url_char_p / total_count\", \"url_char_w\", \"url_char_w * url_extensions\", \"url_extensions\"], \"type\": \"bar\", \"uid\": \"eac02e6c-dae5-44a5-b4e2-270091d9a604\"}], {\"autosize\": false, \"height\": 1000, \"width\": 1000, \"xaxis\": {\"tickfont\": {\"color\": \"black\", \"size\": 12}, \"title\": \"Feature Importances\"}, \"yaxis\": {\"automargin\": true}}, {\"showLink\": true, \"linkText\": \"Export to plot.ly\", \"plotlyServerURL\": \"https://plot.ly\"})});</script>"
      ],
      "text/vnd.plotly.v1+html": [
       "<div id=\"c2a1ec99-87c2-47b5-9e8b-e76b6e10a15f\" style=\"height: 1000px; width: 1000px;\" class=\"plotly-graph-div\"></div><script type=\"text/javascript\">require([\"plotly\"], function(Plotly) { window.PLOTLYENV=window.PLOTLYENV || {};window.PLOTLYENV.BASE_URL=\"https://plot.ly\";Plotly.newPlot(\"c2a1ec99-87c2-47b5-9e8b-e76b6e10a15f\", [{\"marker\": {\"color\": \"rgb(158,202,225)\", \"line\": {\"color\": \"rgb(8,48,107)\", \"width\": 1.5}}, \"opacity\": 0.6, \"orientation\": \"h\", \"text\": [0.12, 0.1, 0.1, 0.1, 0.06, 0.06, 0.04, 0.04, 0.04, 0.04, 0.04, 0.04, 0.04, 0.02, 0.02, 0.02, 0.02, 0.02, 0.02, 0.02, 0.02, 0.02, 0.0, 0.0, 0.0, 0.0, 0.0, 0.0, 0.0, 0.0, 0.0, 0.0, 0.0, 0.0, 0.0, 0.0, 0.0], \"textposition\": \"outside\", \"x\": [0.12, 0.1, 0.1, 0.1, 0.06, 0.06, 0.04, 0.04, 0.04, 0.04, 0.04, 0.04, 0.04, 0.02, 0.02, 0.02, 0.02, 0.02, 0.02, 0.02, 0.02, 0.02, 0.0, 0.0, 0.0, 0.0, 0.0, 0.0, 0.0, 0.0, 0.0, 0.0, 0.0, 0.0, 0.0, 0.0, 0.0], \"y\": [\"url_char_. / total_count\", \"url_length / total_count\", \"a_href_out_of_domain / total_href\", \"a_href_relative / total_href\", \"url_char_w + url_char_z\", \"http_header_server_apache + url_extensions\", \"url_char_w * url_length\", \"http_header_content-encoding_gzip / url_char_.\", \"http_header_vary_user-agent + url_char_.\", \"url_char_. + url_extensions\", \"url_char_i / total_count\", \"url_char_p + url_extensions\", \"a_href_https / a_count\", \"url_char_y * url_extensions\", \"url_char_. + url_char_w\", \"a_href_relative / a_count\", \"http_header_server_apache / total_count\", \"url_char_l / total_count\", \"url_char_z / total_count\", \"url_char_f / total_count\", \"url_extensions / url_char_z\", \"url_char_. + url_char_y\", \"url_char_. * url_char_w\", \"http_header_server_apache + url_char_w\", \"http_header_vary_user-agent + url_extensions\", \"http_header_via_1.1 + url_extensions\", \"url_char_.\", \"url_char_w / total_count\", \"url_char_. + url_char_z\", \"url_char_w + url_extensions\", \"url_char_f + url_char_w\", \"url_char_f + url_extensions\", \"url_extensions / total_count\", \"url_char_p / total_count\", \"url_char_w\", \"url_char_w * url_extensions\", \"url_extensions\"], \"type\": \"bar\", \"uid\": \"eac02e6c-dae5-44a5-b4e2-270091d9a604\"}], {\"autosize\": false, \"height\": 1000, \"width\": 1000, \"xaxis\": {\"tickfont\": {\"color\": \"black\", \"size\": 12}, \"title\": \"Feature Importances\"}, \"yaxis\": {\"automargin\": true}}, {\"showLink\": true, \"linkText\": \"Export to plot.ly\", \"plotlyServerURL\": \"https://plot.ly\"})});</script>"
      ]
     },
     "metadata": {},
     "output_type": "display_data"
    },
    {
     "name": "stdout",
     "output_type": "stream",
     "text": [
      "\n",
      "\n",
      "\u001b[1mGradientBoosting Classifier\u001b[0m\n",
      "Accuracy of the model for training data is: 0.98028456581382\n",
      "Confusion Matrix for training data is:\n"
     ]
    },
    {
     "data": {
      "text/plain": [
       "Predicted  False  True  __all__\n",
       "Actual                         \n",
       "False      27649   156    27805\n",
       "True         462  3079     3541\n",
       "__all__    28111  3235    31346"
      ]
     },
     "metadata": {},
     "output_type": "display_data"
    },
    {
     "name": "stdout",
     "output_type": "stream",
     "text": [
      "Accuracy of the model for test data is: 0.975756029092765\n",
      "Confusion Matrix for test data is:\n"
     ]
    },
    {
     "data": {
      "text/plain": [
       "Predicted  False  True  __all__\n",
       "Actual                         \n",
       "False       6888    49     6937\n",
       "True         141   759      900\n",
       "__all__     7029   808     7837"
      ]
     },
     "metadata": {},
     "output_type": "display_data"
    },
    {
     "data": {
      "application/vnd.plotly.v1+json": {
       "config": {
        "linkText": "Export to plot.ly",
        "plotlyServerURL": "https://plot.ly",
        "showLink": true
       },
       "data": [
        {
         "marker": {
          "color": "rgb(158,202,225)",
          "line": {
           "color": "rgb(8,48,107)",
           "width": 1.5
          }
         },
         "opacity": 0.6,
         "orientation": "h",
         "text": [
          0.5278,
          0.1282,
          0.0786,
          0.0658,
          0.038,
          0.0278,
          0.0265,
          0.0147,
          0.0123,
          0.0115,
          0.0109,
          0.0085,
          0.0076,
          0.0064,
          0.0048,
          0.0042,
          0.0037,
          0.0037,
          0.0035,
          0.0032,
          0.0028,
          0.0018,
          0.0015,
          0.0012,
          0.0011,
          0.0007,
          0.0005,
          0.0005,
          0.0004,
          0.0003,
          0.0003,
          0.0003,
          0.0002,
          0.0002,
          0.0002,
          0.0001,
          0
         ],
         "textposition": "outside",
         "type": "bar",
         "uid": "fd21b519-3424-4552-a0bf-687c9bb4037f",
         "x": [
          0.527784694614474,
          0.12817821605857216,
          0.07855891952878949,
          0.0657509715194612,
          0.038048727673805315,
          0.027814959062009374,
          0.026507489959921277,
          0.01474304066537109,
          0.012293388771816372,
          0.01145957361068474,
          0.010899470962410455,
          0.008491056743181102,
          0.007597686049978987,
          0.006430350371641649,
          0.004844168306257189,
          0.004216597321557319,
          0.003728118106861581,
          0.003655697757932743,
          0.0034919874531900443,
          0.003211520740226222,
          0.0028034719396637106,
          0.0017619691521666453,
          0.0015408125141275677,
          0.001155410508310446,
          0.0011206908722032178,
          0.0007064695390695762,
          0.0005351205703642654,
          0.000526569023583323,
          0.0003817856061203113,
          0.00034248805703002844,
          0.00031020026683826405,
          0.0002695245068412261,
          0.0002409683675225985,
          0.00023477989193412257,
          0.00021472126883656127,
          0.0001197429936240219,
          2.8639643621556274e-05
         ],
         "y": [
          "url_length / total_count",
          "url_extensions / total_count",
          "url_char_. + url_extensions",
          "url_char_. + url_char_w",
          "http_header_server_apache / total_count",
          "url_char_z / total_count",
          "url_char_w * url_length",
          "url_char_i / total_count",
          "a_href_out_of_domain / total_href",
          "url_extensions",
          "http_header_content-encoding_gzip / url_char_.",
          "url_char_. / total_count",
          "http_header_server_apache + url_extensions",
          "http_header_server_apache + url_char_w",
          "url_char_w + url_extensions",
          "url_char_l / total_count",
          "url_char_. + url_char_z",
          "url_char_f + url_extensions",
          "url_char_. * url_char_w",
          "url_char_. + url_char_y",
          "url_char_p + url_extensions",
          "url_char_y * url_extensions",
          "a_href_https / a_count",
          "url_char_f / total_count",
          "url_char_p / total_count",
          "url_char_f + url_char_w",
          "a_href_relative / a_count",
          "a_href_relative / total_href",
          "http_header_vary_user-agent + url_extensions",
          "url_extensions / url_char_z",
          "url_char_w + url_char_z",
          "url_char_.",
          "http_header_via_1.1 + url_extensions",
          "http_header_vary_user-agent + url_char_.",
          "url_char_w / total_count",
          "url_char_w",
          "url_char_w * url_extensions"
         ]
        }
       ],
       "layout": {
        "autosize": false,
        "height": 1000,
        "width": 1000,
        "xaxis": {
         "tickfont": {
          "color": "black",
          "size": 12
         },
         "title": "Feature Importances"
        },
        "yaxis": {
         "automargin": true
        }
       }
      },
      "text/html": [
       "<div id=\"84b9c47f-be52-4255-b8d1-ccf7cecf1d43\" style=\"height: 1000px; width: 1000px;\" class=\"plotly-graph-div\"></div><script type=\"text/javascript\">require([\"plotly\"], function(Plotly) { window.PLOTLYENV=window.PLOTLYENV || {};window.PLOTLYENV.BASE_URL=\"https://plot.ly\";Plotly.newPlot(\"84b9c47f-be52-4255-b8d1-ccf7cecf1d43\", [{\"marker\": {\"color\": \"rgb(158,202,225)\", \"line\": {\"color\": \"rgb(8,48,107)\", \"width\": 1.5}}, \"opacity\": 0.6, \"orientation\": \"h\", \"text\": [0.5278, 0.1282, 0.0786, 0.0658, 0.038, 0.0278, 0.0265, 0.0147, 0.0123, 0.0115, 0.0109, 0.0085, 0.0076, 0.0064, 0.0048, 0.0042, 0.0037, 0.0037, 0.0035, 0.0032, 0.0028, 0.0018, 0.0015, 0.0012, 0.0011, 0.0007, 0.0005, 0.0005, 0.0004, 0.0003, 0.0003, 0.0003, 0.0002, 0.0002, 0.0002, 0.0001, 0.0], \"textposition\": \"outside\", \"x\": [0.527784694614474, 0.12817821605857216, 0.07855891952878949, 0.0657509715194612, 0.038048727673805315, 0.027814959062009374, 0.026507489959921277, 0.01474304066537109, 0.012293388771816372, 0.01145957361068474, 0.010899470962410455, 0.008491056743181102, 0.007597686049978987, 0.006430350371641649, 0.004844168306257189, 0.004216597321557319, 0.003728118106861581, 0.003655697757932743, 0.0034919874531900443, 0.003211520740226222, 0.0028034719396637106, 0.0017619691521666453, 0.0015408125141275677, 0.001155410508310446, 0.0011206908722032178, 0.0007064695390695762, 0.0005351205703642654, 0.000526569023583323, 0.0003817856061203113, 0.00034248805703002844, 0.00031020026683826405, 0.0002695245068412261, 0.0002409683675225985, 0.00023477989193412257, 0.00021472126883656127, 0.0001197429936240219, 2.8639643621556274e-05], \"y\": [\"url_length / total_count\", \"url_extensions / total_count\", \"url_char_. + url_extensions\", \"url_char_. + url_char_w\", \"http_header_server_apache / total_count\", \"url_char_z / total_count\", \"url_char_w * url_length\", \"url_char_i / total_count\", \"a_href_out_of_domain / total_href\", \"url_extensions\", \"http_header_content-encoding_gzip / url_char_.\", \"url_char_. / total_count\", \"http_header_server_apache + url_extensions\", \"http_header_server_apache + url_char_w\", \"url_char_w + url_extensions\", \"url_char_l / total_count\", \"url_char_. + url_char_z\", \"url_char_f + url_extensions\", \"url_char_. * url_char_w\", \"url_char_. + url_char_y\", \"url_char_p + url_extensions\", \"url_char_y * url_extensions\", \"a_href_https / a_count\", \"url_char_f / total_count\", \"url_char_p / total_count\", \"url_char_f + url_char_w\", \"a_href_relative / a_count\", \"a_href_relative / total_href\", \"http_header_vary_user-agent + url_extensions\", \"url_extensions / url_char_z\", \"url_char_w + url_char_z\", \"url_char_.\", \"http_header_via_1.1 + url_extensions\", \"http_header_vary_user-agent + url_char_.\", \"url_char_w / total_count\", \"url_char_w\", \"url_char_w * url_extensions\"], \"type\": \"bar\", \"uid\": \"fd21b519-3424-4552-a0bf-687c9bb4037f\"}], {\"autosize\": false, \"height\": 1000, \"width\": 1000, \"xaxis\": {\"tickfont\": {\"color\": \"black\", \"size\": 12}, \"title\": \"Feature Importances\"}, \"yaxis\": {\"automargin\": true}}, {\"showLink\": true, \"linkText\": \"Export to plot.ly\", \"plotlyServerURL\": \"https://plot.ly\"})});</script>"
      ],
      "text/vnd.plotly.v1+html": [
       "<div id=\"84b9c47f-be52-4255-b8d1-ccf7cecf1d43\" style=\"height: 1000px; width: 1000px;\" class=\"plotly-graph-div\"></div><script type=\"text/javascript\">require([\"plotly\"], function(Plotly) { window.PLOTLYENV=window.PLOTLYENV || {};window.PLOTLYENV.BASE_URL=\"https://plot.ly\";Plotly.newPlot(\"84b9c47f-be52-4255-b8d1-ccf7cecf1d43\", [{\"marker\": {\"color\": \"rgb(158,202,225)\", \"line\": {\"color\": \"rgb(8,48,107)\", \"width\": 1.5}}, \"opacity\": 0.6, \"orientation\": \"h\", \"text\": [0.5278, 0.1282, 0.0786, 0.0658, 0.038, 0.0278, 0.0265, 0.0147, 0.0123, 0.0115, 0.0109, 0.0085, 0.0076, 0.0064, 0.0048, 0.0042, 0.0037, 0.0037, 0.0035, 0.0032, 0.0028, 0.0018, 0.0015, 0.0012, 0.0011, 0.0007, 0.0005, 0.0005, 0.0004, 0.0003, 0.0003, 0.0003, 0.0002, 0.0002, 0.0002, 0.0001, 0.0], \"textposition\": \"outside\", \"x\": [0.527784694614474, 0.12817821605857216, 0.07855891952878949, 0.0657509715194612, 0.038048727673805315, 0.027814959062009374, 0.026507489959921277, 0.01474304066537109, 0.012293388771816372, 0.01145957361068474, 0.010899470962410455, 0.008491056743181102, 0.007597686049978987, 0.006430350371641649, 0.004844168306257189, 0.004216597321557319, 0.003728118106861581, 0.003655697757932743, 0.0034919874531900443, 0.003211520740226222, 0.0028034719396637106, 0.0017619691521666453, 0.0015408125141275677, 0.001155410508310446, 0.0011206908722032178, 0.0007064695390695762, 0.0005351205703642654, 0.000526569023583323, 0.0003817856061203113, 0.00034248805703002844, 0.00031020026683826405, 0.0002695245068412261, 0.0002409683675225985, 0.00023477989193412257, 0.00021472126883656127, 0.0001197429936240219, 2.8639643621556274e-05], \"y\": [\"url_length / total_count\", \"url_extensions / total_count\", \"url_char_. + url_extensions\", \"url_char_. + url_char_w\", \"http_header_server_apache / total_count\", \"url_char_z / total_count\", \"url_char_w * url_length\", \"url_char_i / total_count\", \"a_href_out_of_domain / total_href\", \"url_extensions\", \"http_header_content-encoding_gzip / url_char_.\", \"url_char_. / total_count\", \"http_header_server_apache + url_extensions\", \"http_header_server_apache + url_char_w\", \"url_char_w + url_extensions\", \"url_char_l / total_count\", \"url_char_. + url_char_z\", \"url_char_f + url_extensions\", \"url_char_. * url_char_w\", \"url_char_. + url_char_y\", \"url_char_p + url_extensions\", \"url_char_y * url_extensions\", \"a_href_https / a_count\", \"url_char_f / total_count\", \"url_char_p / total_count\", \"url_char_f + url_char_w\", \"a_href_relative / a_count\", \"a_href_relative / total_href\", \"http_header_vary_user-agent + url_extensions\", \"url_extensions / url_char_z\", \"url_char_w + url_char_z\", \"url_char_.\", \"http_header_via_1.1 + url_extensions\", \"http_header_vary_user-agent + url_char_.\", \"url_char_w / total_count\", \"url_char_w\", \"url_char_w * url_extensions\"], \"type\": \"bar\", \"uid\": \"fd21b519-3424-4552-a0bf-687c9bb4037f\"}], {\"autosize\": false, \"height\": 1000, \"width\": 1000, \"xaxis\": {\"tickfont\": {\"color\": \"black\", \"size\": 12}, \"title\": \"Feature Importances\"}, \"yaxis\": {\"automargin\": true}}, {\"showLink\": true, \"linkText\": \"Export to plot.ly\", \"plotlyServerURL\": \"https://plot.ly\"})});</script>"
      ]
     },
     "metadata": {},
     "output_type": "display_data"
    },
    {
     "name": "stdout",
     "output_type": "stream",
     "text": [
      "\n",
      "\n",
      "\u001b[1mExtraTree Classifier\u001b[0m\n",
      "Accuracy of the model for training data is: 0.9969374082817585\n",
      "Confusion Matrix for training data is:\n"
     ]
    },
    {
     "data": {
      "text/plain": [
       "Predicted  False  True  __all__\n",
       "Actual                         \n",
       "False      27797     8    27805\n",
       "True          88  3453     3541\n",
       "__all__    27885  3461    31346"
      ]
     },
     "metadata": {},
     "output_type": "display_data"
    },
    {
     "name": "stdout",
     "output_type": "stream",
     "text": [
      "Accuracy of the model for test data is: 0.9767768278678065\n",
      "Confusion Matrix for test data is:\n"
     ]
    },
    {
     "data": {
      "text/plain": [
       "Predicted  False  True  __all__\n",
       "Actual                         \n",
       "False       6887    50     6937\n",
       "True         132   768      900\n",
       "__all__     7019   818     7837"
      ]
     },
     "metadata": {},
     "output_type": "display_data"
    },
    {
     "name": "stderr",
     "output_type": "stream",
     "text": [
      "distributed.utils - ERROR - \n",
      "Traceback (most recent call last):\n",
      "  File \"/nethomes/darshan/anaconda3/lib/python3.6/site-packages/distributed/utils.py\", line 713, in log_errors\n",
      "    yield\n",
      "  File \"/nethomes/darshan/anaconda3/lib/python3.6/site-packages/distributed/client.py\", line 1223, in _close\n",
      "    quiet_exceptions=(CancelledError,),\n",
      "  File \"/nethomes/darshan/anaconda3/lib/python3.6/site-packages/tornado/gen.py\", line 584, in with_timeout\n",
      "    chain_future(future_converted, result)\n",
      "  File \"/nethomes/darshan/anaconda3/lib/python3.6/site-packages/tornado/concurrent.py\", line 166, in chain_future\n",
      "    future_add_done_callback(a, copy)\n",
      "  File \"/nethomes/darshan/anaconda3/lib/python3.6/site-packages/tornado/concurrent.py\", line 262, in future_add_done_callback\n",
      "    callback(future)\n",
      "  File \"/nethomes/darshan/anaconda3/lib/python3.6/site-packages/tornado/concurrent.py\", line 160, in copy\n",
      "    elif a.exception() is not None:\n",
      "concurrent.futures._base.CancelledError\n",
      "Exception ignored in: <bound method Client.__del__ of <Client: not connected>>\n",
      "Traceback (most recent call last):\n",
      "  File \"/nethomes/darshan/anaconda3/lib/python3.6/site-packages/distributed/client.py\", line 1075, in __del__\n",
      "    self.close()\n",
      "  File \"/nethomes/darshan/anaconda3/lib/python3.6/site-packages/distributed/client.py\", line 1290, in close\n",
      "    sync(self.loop, self._close, fast=True)\n",
      "  File \"/nethomes/darshan/anaconda3/lib/python3.6/site-packages/distributed/utils.py\", line 331, in sync\n",
      "    six.reraise(*error[0])\n",
      "  File \"/nethomes/darshan/anaconda3/lib/python3.6/site-packages/six.py\", line 693, in reraise\n",
      "    raise value\n",
      "  File \"/nethomes/darshan/anaconda3/lib/python3.6/site-packages/distributed/utils.py\", line 316, in f\n",
      "    result[0] = yield future\n",
      "  File \"/nethomes/darshan/anaconda3/lib/python3.6/site-packages/tornado/gen.py\", line 729, in run\n",
      "    value = future.result()\n",
      "  File \"/nethomes/darshan/anaconda3/lib/python3.6/site-packages/tornado/gen.py\", line 209, in wrapper\n",
      "    yielded = next(result)\n",
      "  File \"/nethomes/darshan/anaconda3/lib/python3.6/site-packages/distributed/client.py\", line 1223, in _close\n",
      "    quiet_exceptions=(CancelledError,),\n",
      "  File \"/nethomes/darshan/anaconda3/lib/python3.6/site-packages/tornado/gen.py\", line 584, in with_timeout\n",
      "    chain_future(future_converted, result)\n",
      "  File \"/nethomes/darshan/anaconda3/lib/python3.6/site-packages/tornado/concurrent.py\", line 166, in chain_future\n",
      "    future_add_done_callback(a, copy)\n",
      "  File \"/nethomes/darshan/anaconda3/lib/python3.6/site-packages/tornado/concurrent.py\", line 262, in future_add_done_callback\n",
      "    callback(future)\n",
      "  File \"/nethomes/darshan/anaconda3/lib/python3.6/site-packages/tornado/concurrent.py\", line 160, in copy\n",
      "    elif a.exception() is not None:\n",
      "concurrent.futures._base.CancelledError: \n"
     ]
    },
    {
     "data": {
      "application/vnd.plotly.v1+json": {
       "config": {
        "linkText": "Export to plot.ly",
        "plotlyServerURL": "https://plot.ly",
        "showLink": true
       },
       "data": [
        {
         "marker": {
          "color": "rgb(158,202,225)",
          "line": {
           "color": "rgb(8,48,107)",
           "width": 1.5
          }
         },
         "opacity": 0.6,
         "orientation": "h",
         "text": [
          0.1066,
          0.1016,
          0.0758,
          0.0652,
          0.0597,
          0.0537,
          0.0376,
          0.0373,
          0.0348,
          0.0325,
          0.0321,
          0.0321,
          0.0299,
          0.0287,
          0.0253,
          0.0247,
          0.0195,
          0.0162,
          0.0161,
          0.016,
          0.0133,
          0.0131,
          0.0131,
          0.0122,
          0.0117,
          0.0107,
          0.0105,
          0.0104,
          0.0092,
          0.0089,
          0.0084,
          0.0082,
          0.0069,
          0.006,
          0.0059,
          0.0039,
          0.0023
         ],
         "textposition": "outside",
         "type": "bar",
         "uid": "9377cba6-ef8d-4cdb-a066-f7d480a43a63",
         "x": [
          0.1065968202850962,
          0.10157068269525564,
          0.07584386331119006,
          0.06520215588131358,
          0.059652791653196445,
          0.053692358894753475,
          0.037597347768856614,
          0.037267694959625446,
          0.03483034615573236,
          0.03252314186122352,
          0.03214007300308431,
          0.03209711604753961,
          0.029905353048865168,
          0.028668955378369842,
          0.025331988824474416,
          0.024655795099452194,
          0.019450453759186755,
          0.016217334937836985,
          0.016148657402550587,
          0.016002104042103803,
          0.013302112186252862,
          0.013091901311089236,
          0.013063000086613657,
          0.01219059253022485,
          0.011654633687243038,
          0.0107307720221696,
          0.010504360276996569,
          0.01040609517790152,
          0.009212726290325325,
          0.008927792624752176,
          0.008389103102911395,
          0.008151660151098748,
          0.0068750376297817325,
          0.00602920707456304,
          0.00586355780509837,
          0.003944657586453532,
          0.0022677554468173286
         ],
         "y": [
          "url_extensions / total_count",
          "url_char_w + url_char_z",
          "url_length / total_count",
          "url_char_. / total_count",
          "http_header_content-encoding_gzip / url_char_.",
          "url_char_i / total_count",
          "a_href_https / a_count",
          "url_char_. + url_char_y",
          "http_header_server_apache + url_extensions",
          "url_char_.",
          "url_char_l / total_count",
          "url_char_f + url_extensions",
          "a_href_out_of_domain / total_href",
          "http_header_server_apache / total_count",
          "a_href_relative / total_href",
          "http_header_vary_user-agent + url_extensions",
          "url_extensions",
          "url_char_w * url_length",
          "url_char_. + url_char_z",
          "a_href_relative / a_count",
          "url_char_y * url_extensions",
          "url_char_p + url_extensions",
          "url_char_w + url_extensions",
          "http_header_server_apache + url_char_w",
          "url_char_f + url_char_w",
          "url_char_p / total_count",
          "url_char_z / total_count",
          "url_char_. + url_extensions",
          "http_header_vary_user-agent + url_char_.",
          "url_char_w",
          "http_header_via_1.1 + url_extensions",
          "url_char_. + url_char_w",
          "url_char_f / total_count",
          "url_char_. * url_char_w",
          "url_extensions / url_char_z",
          "url_char_w / total_count",
          "url_char_w * url_extensions"
         ]
        }
       ],
       "layout": {
        "autosize": false,
        "height": 1000,
        "width": 1000,
        "xaxis": {
         "tickfont": {
          "color": "black",
          "size": 12
         },
         "title": "Feature Importances"
        },
        "yaxis": {
         "automargin": true
        }
       }
      },
      "text/html": [
       "<div id=\"880c331f-29d2-46b2-b62f-5dad185d07f2\" style=\"height: 1000px; width: 1000px;\" class=\"plotly-graph-div\"></div><script type=\"text/javascript\">require([\"plotly\"], function(Plotly) { window.PLOTLYENV=window.PLOTLYENV || {};window.PLOTLYENV.BASE_URL=\"https://plot.ly\";Plotly.newPlot(\"880c331f-29d2-46b2-b62f-5dad185d07f2\", [{\"marker\": {\"color\": \"rgb(158,202,225)\", \"line\": {\"color\": \"rgb(8,48,107)\", \"width\": 1.5}}, \"opacity\": 0.6, \"orientation\": \"h\", \"text\": [0.1066, 0.1016, 0.0758, 0.0652, 0.0597, 0.0537, 0.0376, 0.0373, 0.0348, 0.0325, 0.0321, 0.0321, 0.0299, 0.0287, 0.0253, 0.0247, 0.0195, 0.0162, 0.0161, 0.016, 0.0133, 0.0131, 0.0131, 0.0122, 0.0117, 0.0107, 0.0105, 0.0104, 0.0092, 0.0089, 0.0084, 0.0082, 0.0069, 0.006, 0.0059, 0.0039, 0.0023], \"textposition\": \"outside\", \"x\": [0.1065968202850962, 0.10157068269525564, 0.07584386331119006, 0.06520215588131358, 0.059652791653196445, 0.053692358894753475, 0.037597347768856614, 0.037267694959625446, 0.03483034615573236, 0.03252314186122352, 0.03214007300308431, 0.03209711604753961, 0.029905353048865168, 0.028668955378369842, 0.025331988824474416, 0.024655795099452194, 0.019450453759186755, 0.016217334937836985, 0.016148657402550587, 0.016002104042103803, 0.013302112186252862, 0.013091901311089236, 0.013063000086613657, 0.01219059253022485, 0.011654633687243038, 0.0107307720221696, 0.010504360276996569, 0.01040609517790152, 0.009212726290325325, 0.008927792624752176, 0.008389103102911395, 0.008151660151098748, 0.0068750376297817325, 0.00602920707456304, 0.00586355780509837, 0.003944657586453532, 0.0022677554468173286], \"y\": [\"url_extensions / total_count\", \"url_char_w + url_char_z\", \"url_length / total_count\", \"url_char_. / total_count\", \"http_header_content-encoding_gzip / url_char_.\", \"url_char_i / total_count\", \"a_href_https / a_count\", \"url_char_. + url_char_y\", \"http_header_server_apache + url_extensions\", \"url_char_.\", \"url_char_l / total_count\", \"url_char_f + url_extensions\", \"a_href_out_of_domain / total_href\", \"http_header_server_apache / total_count\", \"a_href_relative / total_href\", \"http_header_vary_user-agent + url_extensions\", \"url_extensions\", \"url_char_w * url_length\", \"url_char_. + url_char_z\", \"a_href_relative / a_count\", \"url_char_y * url_extensions\", \"url_char_p + url_extensions\", \"url_char_w + url_extensions\", \"http_header_server_apache + url_char_w\", \"url_char_f + url_char_w\", \"url_char_p / total_count\", \"url_char_z / total_count\", \"url_char_. + url_extensions\", \"http_header_vary_user-agent + url_char_.\", \"url_char_w\", \"http_header_via_1.1 + url_extensions\", \"url_char_. + url_char_w\", \"url_char_f / total_count\", \"url_char_. * url_char_w\", \"url_extensions / url_char_z\", \"url_char_w / total_count\", \"url_char_w * url_extensions\"], \"type\": \"bar\", \"uid\": \"9377cba6-ef8d-4cdb-a066-f7d480a43a63\"}], {\"autosize\": false, \"height\": 1000, \"width\": 1000, \"xaxis\": {\"tickfont\": {\"color\": \"black\", \"size\": 12}, \"title\": \"Feature Importances\"}, \"yaxis\": {\"automargin\": true}}, {\"showLink\": true, \"linkText\": \"Export to plot.ly\", \"plotlyServerURL\": \"https://plot.ly\"})});</script>"
      ],
      "text/vnd.plotly.v1+html": [
       "<div id=\"880c331f-29d2-46b2-b62f-5dad185d07f2\" style=\"height: 1000px; width: 1000px;\" class=\"plotly-graph-div\"></div><script type=\"text/javascript\">require([\"plotly\"], function(Plotly) { window.PLOTLYENV=window.PLOTLYENV || {};window.PLOTLYENV.BASE_URL=\"https://plot.ly\";Plotly.newPlot(\"880c331f-29d2-46b2-b62f-5dad185d07f2\", [{\"marker\": {\"color\": \"rgb(158,202,225)\", \"line\": {\"color\": \"rgb(8,48,107)\", \"width\": 1.5}}, \"opacity\": 0.6, \"orientation\": \"h\", \"text\": [0.1066, 0.1016, 0.0758, 0.0652, 0.0597, 0.0537, 0.0376, 0.0373, 0.0348, 0.0325, 0.0321, 0.0321, 0.0299, 0.0287, 0.0253, 0.0247, 0.0195, 0.0162, 0.0161, 0.016, 0.0133, 0.0131, 0.0131, 0.0122, 0.0117, 0.0107, 0.0105, 0.0104, 0.0092, 0.0089, 0.0084, 0.0082, 0.0069, 0.006, 0.0059, 0.0039, 0.0023], \"textposition\": \"outside\", \"x\": [0.1065968202850962, 0.10157068269525564, 0.07584386331119006, 0.06520215588131358, 0.059652791653196445, 0.053692358894753475, 0.037597347768856614, 0.037267694959625446, 0.03483034615573236, 0.03252314186122352, 0.03214007300308431, 0.03209711604753961, 0.029905353048865168, 0.028668955378369842, 0.025331988824474416, 0.024655795099452194, 0.019450453759186755, 0.016217334937836985, 0.016148657402550587, 0.016002104042103803, 0.013302112186252862, 0.013091901311089236, 0.013063000086613657, 0.01219059253022485, 0.011654633687243038, 0.0107307720221696, 0.010504360276996569, 0.01040609517790152, 0.009212726290325325, 0.008927792624752176, 0.008389103102911395, 0.008151660151098748, 0.0068750376297817325, 0.00602920707456304, 0.00586355780509837, 0.003944657586453532, 0.0022677554468173286], \"y\": [\"url_extensions / total_count\", \"url_char_w + url_char_z\", \"url_length / total_count\", \"url_char_. / total_count\", \"http_header_content-encoding_gzip / url_char_.\", \"url_char_i / total_count\", \"a_href_https / a_count\", \"url_char_. + url_char_y\", \"http_header_server_apache + url_extensions\", \"url_char_.\", \"url_char_l / total_count\", \"url_char_f + url_extensions\", \"a_href_out_of_domain / total_href\", \"http_header_server_apache / total_count\", \"a_href_relative / total_href\", \"http_header_vary_user-agent + url_extensions\", \"url_extensions\", \"url_char_w * url_length\", \"url_char_. + url_char_z\", \"a_href_relative / a_count\", \"url_char_y * url_extensions\", \"url_char_p + url_extensions\", \"url_char_w + url_extensions\", \"http_header_server_apache + url_char_w\", \"url_char_f + url_char_w\", \"url_char_p / total_count\", \"url_char_z / total_count\", \"url_char_. + url_extensions\", \"http_header_vary_user-agent + url_char_.\", \"url_char_w\", \"http_header_via_1.1 + url_extensions\", \"url_char_. + url_char_w\", \"url_char_f / total_count\", \"url_char_. * url_char_w\", \"url_extensions / url_char_z\", \"url_char_w / total_count\", \"url_char_w * url_extensions\"], \"type\": \"bar\", \"uid\": \"9377cba6-ef8d-4cdb-a066-f7d480a43a63\"}], {\"autosize\": false, \"height\": 1000, \"width\": 1000, \"xaxis\": {\"tickfont\": {\"color\": \"black\", \"size\": 12}, \"title\": \"Feature Importances\"}, \"yaxis\": {\"automargin\": true}}, {\"showLink\": true, \"linkText\": \"Export to plot.ly\", \"plotlyServerURL\": \"https://plot.ly\"})});</script>"
      ]
     },
     "metadata": {},
     "output_type": "display_data"
    },
    {
     "name": "stdout",
     "output_type": "stream",
     "text": [
      "\n",
      "\n",
      "\u001b[1mXGB Classifier\u001b[0m\n",
      "Accuracy of the model for training data is: 0.9788808779429592\n",
      "Confusion Matrix for training data is:\n"
     ]
    },
    {
     "data": {
      "text/plain": [
       "Predicted  False  True  __all__\n",
       "Actual                         \n",
       "False      27657   148    27805\n",
       "True         514  3027     3541\n",
       "__all__    28171  3175    31346"
      ]
     },
     "metadata": {},
     "output_type": "display_data"
    },
    {
     "name": "stdout",
     "output_type": "stream",
     "text": [
      "Accuracy of the model for test data is: 0.9747352303177236\n",
      "Confusion Matrix for test data is:\n"
     ]
    },
    {
     "data": {
      "text/plain": [
       "Predicted  False  True  __all__\n",
       "Actual                         \n",
       "False       6886    51     6937\n",
       "True         147   753      900\n",
       "__all__     7033   804     7837"
      ]
     },
     "metadata": {},
     "output_type": "display_data"
    },
    {
     "data": {
      "application/vnd.plotly.v1+json": {
       "config": {
        "linkText": "Export to plot.ly",
        "plotlyServerURL": "https://plot.ly",
        "showLink": true
       },
       "data": [
        {
         "marker": {
          "color": "rgb(158,202,225)",
          "line": {
           "color": "rgb(8,48,107)",
           "width": 1.5
          }
         },
         "opacity": 0.6,
         "orientation": "h",
         "text": [
          0.115,
          0.0873,
          0.0815,
          0.0771,
          0.0524,
          0.0451,
          0.0437,
          0.0408,
          0.0408,
          0.0378,
          0.0291,
          0.0291,
          0.0277,
          0.0247,
          0.0247,
          0.0247,
          0.0233,
          0.0204,
          0.0175,
          0.0175,
          0.016,
          0.0131,
          0.0131,
          0.0131,
          0.0116,
          0.0116,
          0.0116,
          0.0116,
          0.0073,
          0.0073,
          0.0073,
          0.0058,
          0.0044,
          0.0044,
          0.0015,
          0,
          0
         ],
         "textposition": "outside",
         "type": "bar",
         "uid": "dd0fdb60-7d8e-4011-aec4-104a0752d4cb",
         "x": [
          0.11499272286891937,
          0.08733624219894409,
          0.08151382952928543,
          0.07714701443910599,
          0.052401747554540634,
          0.04512372612953186,
          0.043668121099472046,
          0.040756914764642715,
          0.040756914764642715,
          0.03784570470452309,
          0.029112081974744797,
          0.029112081974744797,
          0.027656476944684982,
          0.024745268747210503,
          0.024745268747210503,
          0.024745268747210503,
          0.023289665579795837,
          0.020378457382321358,
          0.017467249184846878,
          0.017467249184846878,
          0.016011644154787064,
          0.013100436888635159,
          0.013100436888635159,
          0.013100436888635159,
          0.011644832789897919,
          0.011644832789897919,
          0.011644832789897919,
          0.011644832789897919,
          0.007278020493686199,
          0.007278020493686199,
          0.007278020493686199,
          0.005822416394948959,
          0.0043668122962117195,
          0.0043668122962117195,
          0.0014556040987372398,
          0,
          0
         ],
         "y": [
          "url_length / total_count",
          "a_href_out_of_domain / total_href",
          "url_char_. / total_count",
          "http_header_content-encoding_gzip / url_char_.",
          "a_href_https / a_count",
          "http_header_server_apache / total_count",
          "url_char_w * url_length",
          "url_extensions / total_count",
          "url_char_. + url_extensions",
          "a_href_relative / total_href",
          "url_char_. + url_char_w",
          "url_char_l / total_count",
          "url_char_i / total_count",
          "url_char_z / total_count",
          "url_char_y * url_extensions",
          "http_header_vary_user-agent + url_char_.",
          "a_href_relative / a_count",
          "url_char_p + url_extensions",
          "url_char_f / total_count",
          "http_header_server_apache + url_char_w",
          "url_char_. * url_char_w",
          "url_char_. + url_char_z",
          "url_extensions",
          "url_char_w + url_char_z",
          "url_char_w * url_extensions",
          "url_char_w + url_extensions",
          "url_char_. + url_char_y",
          "url_char_.",
          "url_char_f + url_extensions",
          "http_header_server_apache + url_extensions",
          "url_char_p / total_count",
          "http_header_via_1.1 + url_extensions",
          "url_char_f + url_char_w",
          "http_header_vary_user-agent + url_extensions",
          "url_char_w / total_count",
          "url_char_w",
          "url_extensions / url_char_z"
         ]
        }
       ],
       "layout": {
        "autosize": false,
        "height": 1000,
        "width": 1000,
        "xaxis": {
         "tickfont": {
          "color": "black",
          "size": 12
         },
         "title": "Feature Importances"
        },
        "yaxis": {
         "automargin": true
        }
       }
      },
      "text/html": [
       "<div id=\"9c52b382-6a11-4995-94c2-f99b816ee6b7\" style=\"height: 1000px; width: 1000px;\" class=\"plotly-graph-div\"></div><script type=\"text/javascript\">require([\"plotly\"], function(Plotly) { window.PLOTLYENV=window.PLOTLYENV || {};window.PLOTLYENV.BASE_URL=\"https://plot.ly\";Plotly.newPlot(\"9c52b382-6a11-4995-94c2-f99b816ee6b7\", [{\"marker\": {\"color\": \"rgb(158,202,225)\", \"line\": {\"color\": \"rgb(8,48,107)\", \"width\": 1.5}}, \"opacity\": 0.6, \"orientation\": \"h\", \"text\": [0.115, 0.0873, 0.0815, 0.0771, 0.0524, 0.0451, 0.0437, 0.0408, 0.0408, 0.0378, 0.0291, 0.0291, 0.0277, 0.0247, 0.0247, 0.0247, 0.0233, 0.0204, 0.0175, 0.0175, 0.016, 0.0131, 0.0131, 0.0131, 0.0116, 0.0116, 0.0116, 0.0116, 0.0073, 0.0073, 0.0073, 0.0058, 0.0044, 0.0044, 0.0015, 0.0, 0.0], \"textposition\": \"outside\", \"x\": [0.11499272286891937, 0.08733624219894409, 0.08151382952928543, 0.07714701443910599, 0.052401747554540634, 0.04512372612953186, 0.043668121099472046, 0.040756914764642715, 0.040756914764642715, 0.03784570470452309, 0.029112081974744797, 0.029112081974744797, 0.027656476944684982, 0.024745268747210503, 0.024745268747210503, 0.024745268747210503, 0.023289665579795837, 0.020378457382321358, 0.017467249184846878, 0.017467249184846878, 0.016011644154787064, 0.013100436888635159, 0.013100436888635159, 0.013100436888635159, 0.011644832789897919, 0.011644832789897919, 0.011644832789897919, 0.011644832789897919, 0.007278020493686199, 0.007278020493686199, 0.007278020493686199, 0.005822416394948959, 0.0043668122962117195, 0.0043668122962117195, 0.0014556040987372398, 0.0, 0.0], \"y\": [\"url_length / total_count\", \"a_href_out_of_domain / total_href\", \"url_char_. / total_count\", \"http_header_content-encoding_gzip / url_char_.\", \"a_href_https / a_count\", \"http_header_server_apache / total_count\", \"url_char_w * url_length\", \"url_extensions / total_count\", \"url_char_. + url_extensions\", \"a_href_relative / total_href\", \"url_char_. + url_char_w\", \"url_char_l / total_count\", \"url_char_i / total_count\", \"url_char_z / total_count\", \"url_char_y * url_extensions\", \"http_header_vary_user-agent + url_char_.\", \"a_href_relative / a_count\", \"url_char_p + url_extensions\", \"url_char_f / total_count\", \"http_header_server_apache + url_char_w\", \"url_char_. * url_char_w\", \"url_char_. + url_char_z\", \"url_extensions\", \"url_char_w + url_char_z\", \"url_char_w * url_extensions\", \"url_char_w + url_extensions\", \"url_char_. + url_char_y\", \"url_char_.\", \"url_char_f + url_extensions\", \"http_header_server_apache + url_extensions\", \"url_char_p / total_count\", \"http_header_via_1.1 + url_extensions\", \"url_char_f + url_char_w\", \"http_header_vary_user-agent + url_extensions\", \"url_char_w / total_count\", \"url_char_w\", \"url_extensions / url_char_z\"], \"type\": \"bar\", \"uid\": \"dd0fdb60-7d8e-4011-aec4-104a0752d4cb\"}], {\"autosize\": false, \"height\": 1000, \"width\": 1000, \"xaxis\": {\"tickfont\": {\"color\": \"black\", \"size\": 12}, \"title\": \"Feature Importances\"}, \"yaxis\": {\"automargin\": true}}, {\"showLink\": true, \"linkText\": \"Export to plot.ly\", \"plotlyServerURL\": \"https://plot.ly\"})});</script>"
      ],
      "text/vnd.plotly.v1+html": [
       "<div id=\"9c52b382-6a11-4995-94c2-f99b816ee6b7\" style=\"height: 1000px; width: 1000px;\" class=\"plotly-graph-div\"></div><script type=\"text/javascript\">require([\"plotly\"], function(Plotly) { window.PLOTLYENV=window.PLOTLYENV || {};window.PLOTLYENV.BASE_URL=\"https://plot.ly\";Plotly.newPlot(\"9c52b382-6a11-4995-94c2-f99b816ee6b7\", [{\"marker\": {\"color\": \"rgb(158,202,225)\", \"line\": {\"color\": \"rgb(8,48,107)\", \"width\": 1.5}}, \"opacity\": 0.6, \"orientation\": \"h\", \"text\": [0.115, 0.0873, 0.0815, 0.0771, 0.0524, 0.0451, 0.0437, 0.0408, 0.0408, 0.0378, 0.0291, 0.0291, 0.0277, 0.0247, 0.0247, 0.0247, 0.0233, 0.0204, 0.0175, 0.0175, 0.016, 0.0131, 0.0131, 0.0131, 0.0116, 0.0116, 0.0116, 0.0116, 0.0073, 0.0073, 0.0073, 0.0058, 0.0044, 0.0044, 0.0015, 0.0, 0.0], \"textposition\": \"outside\", \"x\": [0.11499272286891937, 0.08733624219894409, 0.08151382952928543, 0.07714701443910599, 0.052401747554540634, 0.04512372612953186, 0.043668121099472046, 0.040756914764642715, 0.040756914764642715, 0.03784570470452309, 0.029112081974744797, 0.029112081974744797, 0.027656476944684982, 0.024745268747210503, 0.024745268747210503, 0.024745268747210503, 0.023289665579795837, 0.020378457382321358, 0.017467249184846878, 0.017467249184846878, 0.016011644154787064, 0.013100436888635159, 0.013100436888635159, 0.013100436888635159, 0.011644832789897919, 0.011644832789897919, 0.011644832789897919, 0.011644832789897919, 0.007278020493686199, 0.007278020493686199, 0.007278020493686199, 0.005822416394948959, 0.0043668122962117195, 0.0043668122962117195, 0.0014556040987372398, 0.0, 0.0], \"y\": [\"url_length / total_count\", \"a_href_out_of_domain / total_href\", \"url_char_. / total_count\", \"http_header_content-encoding_gzip / url_char_.\", \"a_href_https / a_count\", \"http_header_server_apache / total_count\", \"url_char_w * url_length\", \"url_extensions / total_count\", \"url_char_. + url_extensions\", \"a_href_relative / total_href\", \"url_char_. + url_char_w\", \"url_char_l / total_count\", \"url_char_i / total_count\", \"url_char_z / total_count\", \"url_char_y * url_extensions\", \"http_header_vary_user-agent + url_char_.\", \"a_href_relative / a_count\", \"url_char_p + url_extensions\", \"url_char_f / total_count\", \"http_header_server_apache + url_char_w\", \"url_char_. * url_char_w\", \"url_char_. + url_char_z\", \"url_extensions\", \"url_char_w + url_char_z\", \"url_char_w * url_extensions\", \"url_char_w + url_extensions\", \"url_char_. + url_char_y\", \"url_char_.\", \"url_char_f + url_extensions\", \"http_header_server_apache + url_extensions\", \"url_char_p / total_count\", \"http_header_via_1.1 + url_extensions\", \"url_char_f + url_char_w\", \"http_header_vary_user-agent + url_extensions\", \"url_char_w / total_count\", \"url_char_w\", \"url_extensions / url_char_z\"], \"type\": \"bar\", \"uid\": \"dd0fdb60-7d8e-4011-aec4-104a0752d4cb\"}], {\"autosize\": false, \"height\": 1000, \"width\": 1000, \"xaxis\": {\"tickfont\": {\"color\": \"black\", \"size\": 12}, \"title\": \"Feature Importances\"}, \"yaxis\": {\"automargin\": true}}, {\"showLink\": true, \"linkText\": \"Export to plot.ly\", \"plotlyServerURL\": \"https://plot.ly\"})});</script>"
      ]
     },
     "metadata": {},
     "output_type": "display_data"
    },
    {
     "name": "stdout",
     "output_type": "stream",
     "text": [
      "\n",
      "\n",
      "\u001b[1mBagging Classifier\u001b[0m\n",
      "Accuracy of the model for training data is: 0.9948318764754673\n",
      "Confusion Matrix for training data is:\n"
     ]
    },
    {
     "data": {
      "text/plain": [
       "Predicted  False  True  __all__\n",
       "Actual                         \n",
       "False      27773    32    27805\n",
       "True         130  3411     3541\n",
       "__all__    27903  3443    31346"
      ]
     },
     "metadata": {},
     "output_type": "display_data"
    },
    {
     "name": "stdout",
     "output_type": "stream",
     "text": [
      "Accuracy of the model for test data is: 0.9770320275615669\n",
      "Confusion Matrix for test data is:\n"
     ]
    },
    {
     "data": {
      "text/plain": [
       "Predicted  False  True  __all__\n",
       "Actual                         \n",
       "False       6877    60     6937\n",
       "True         120   780      900\n",
       "__all__     6997   840     7837"
      ]
     },
     "metadata": {},
     "output_type": "display_data"
    },
    {
     "name": "stdout",
     "output_type": "stream",
     "text": [
      "\n",
      "\n",
      "\u001b[1mNeural Network-1\u001b[0m\n",
      "The accuracy of the model on training data is: 0.9858993172972628\n"
     ]
    },
    {
     "data": {
      "text/plain": [
       "Predicted  False  True  __all__\n",
       "Actual                         \n",
       "False      27630   175    27805\n",
       "True         267  3274     3541\n",
       "__all__    27897  3449    31346"
      ]
     },
     "metadata": {},
     "output_type": "display_data"
    },
    {
     "name": "stdout",
     "output_type": "stream",
     "text": [
      "The accuracy of the model on test data is: 0.9719280336863596\n"
     ]
    },
    {
     "data": {
      "text/plain": [
       "Predicted  False  True  __all__\n",
       "Actual                         \n",
       "False       6828   109     6937\n",
       "True         111   789      900\n",
       "__all__     6939   898     7837"
      ]
     },
     "metadata": {},
     "output_type": "display_data"
    },
    {
     "name": "stdout",
     "output_type": "stream",
     "text": [
      "\n",
      "\n"
     ]
    }
   ],
   "source": [
    "fs=fs.reindex(df_sel.index.values)\n",
    "\n",
    "train=fs.iloc[:31346]\n",
    "train_Y=train.Target.values\n",
    "train_X=train[feature_name].values\n",
    "\n",
    "\n",
    "scaler=StandardScaler()\n",
    "scaled_X_train=scaler.fit_transform(train_X)\n",
    "\n",
    "test=fs.iloc[31346:]\n",
    "test_Y=test.Target.values\n",
    "test_X=test[feature_name]\n",
    "\n",
    "scaled_X_test=scaler.transform(test_X)\n",
    "\n",
    "table_80_50_train=pd.DataFrame(columns=['accuracy','TP','TN','FP','FN','FPR','FNR'])\n",
    "table_80_50_test=pd.DataFrame(columns=['accuracy','TP','TN','FP','FN','FPR','FNR','auc','MCC','Precision','Recall'])\n",
    "\n",
    "feat_imp=[None]*5\n",
    "j=0\n",
    "for i in range(0,8):\n",
    "    if i>=1 and i<=5:\n",
    "        model,cm_train,cm_test,acc_train,acc_test,roc_auc,feat_imp[j],mcc,prec,rec=f[i](scaled_X_train,train_Y,scaled_X_test,test_Y,feature_name)\n",
    "        j=j+1\n",
    "    else:\n",
    "        model,cm_train,cm_test,acc_train,acc_test,roc_auc,mcc,prec,rec=f[i](scaled_X_train,train_Y,scaled_X_test,test_Y)\n",
    "    table_80_50_train.loc[i]=   ([acc_train,cm_train.TP,cm_train.TN,cm_train.FP,cm_train.FN,cm_train.FPR,cm_train.FNR])\n",
    "    table_80_50_test.loc[i] =   ([acc_test ,cm_test.TP, cm_test.TN, cm_test.FP, cm_test.FN, cm_test.FPR, cm_test.FNR,roc_auc,mcc,prec,rec])\n",
    "    print(\"\\n\")"
   ]
  },
  {
   "cell_type": "markdown",
   "metadata": {},
   "source": [
    "### <a id='4.A' style=\"text-decoration : none; color : #000000;\"> A. Results</a>"
   ]
  },
  {
   "cell_type": "code",
   "execution_count": 25,
   "metadata": {},
   "outputs": [
    {
     "data": {
      "application/vnd.plotly.v1+json": {
       "config": {
        "linkText": "Export to plot.ly",
        "plotlyServerURL": "https://plot.ly",
        "showLink": true
       },
       "data": [
        {
         "mode": "lines",
         "name": "KNN_model",
         "type": "scatter",
         "uid": "5f8842dd-02ff-4ec1-a69a-ac174442efb7",
         "x": [
          "accuracy",
          "auc",
          "MCC",
          "Precision",
          "Recall"
         ],
         "y": [
          0.9709072349113181,
          0.9115281181426488,
          0.8527692013004784,
          0.9048192771084337,
          0.8344444444444444
         ]
        },
        {
         "mode": "lines+markers",
         "name": "XGB",
         "type": "scatter",
         "uid": "fcd12efe-cdf8-4cf4-98d2-3eebe208620c",
         "x": [
          "accuracy",
          "auc",
          "MCC",
          "Precision",
          "Recall"
         ],
         "y": [
          0.9747352303177236,
          0.9146573927250011,
          0.8714213121407348,
          0.9365671641791045,
          0.8366666666666667
         ]
        },
        {
         "marker": {
          "symbol": "x"
         },
         "mode": "lines+markers",
         "name": "Random Forest",
         "type": "scatter",
         "uid": "2fe1d0f8-b5c5-4098-ae29-37e00dfa849a",
         "x": [
          "accuracy",
          "auc",
          "MCC",
          "Precision",
          "Recall"
         ],
         "y": [
          0.9775424269490877,
          0.9283300498134,
          0.8866452839270809,
          0.9350961538461539,
          0.8644444444444445
         ]
        },
        {
         "mode": "lines",
         "name": "Ada Boost",
         "type": "scatter",
         "uid": "d11ad4c2-9c7c-4317-94ef-e90a4dff6afc",
         "x": [
          "accuracy",
          "auc",
          "MCC",
          "Precision",
          "Recall"
         ],
         "y": [
          0.9682276381268342,
          0.9095310172504927,
          0.8402211405574374,
          0.8833922261484098,
          0.8333333333333334
         ]
        },
        {
         "mode": "lines+markers",
         "name": "GradientBoosting",
         "type": "scatter",
         "uid": "8bbba96c-49bc-4a81-aa93-eaf60f0f280a",
         "x": [
          "accuracy",
          "auc",
          "MCC",
          "Precision",
          "Recall"
         ],
         "y": [
          0.975756029092765,
          0.9181348805919946,
          0.8768010137471736,
          0.9393564356435643,
          0.8433333333333334
         ]
        },
        {
         "marker": {
          "symbol": "x"
         },
         "mode": "lines+markers",
         "name": "ExtraTree Classifier",
         "type": "scatter",
         "uid": "9aa0374d-0b53-4834-8fbf-4c5f9a09e2ba",
         "x": [
          "accuracy",
          "auc",
          "MCC",
          "Precision",
          "Recall"
         ],
         "y": [
          0.9767768278678065,
          0.9230628033251647,
          0.8823231362064343,
          0.9388753056234719,
          0.8533333333333334
         ]
        },
        {
         "marker": {
          "symbol": "x"
         },
         "mode": "lines+markers",
         "name": "Bagging",
         "type": "scatter",
         "uid": "a7bab900-1763-460a-b077-da697b3559fe",
         "x": [
          "accuracy",
          "auc",
          "MCC",
          "Precision",
          "Recall"
         ],
         "y": [
          0.9770320275615669,
          0.929008697323531,
          0.8843162679494152,
          0.9285714285714286,
          0.8666666666666667
         ]
        },
        {
         "marker": {
          "symbol": "x"
         },
         "mode": "lines+markers",
         "name": "Neural Network",
         "type": "scatter",
         "uid": "abf5fd1e-e94f-4bd9-9ae5-a00f04815863",
         "x": [
          "accuracy",
          "auc",
          "MCC",
          "Precision",
          "Recall"
         ],
         "y": [
          0.9719280336863596,
          0.929008697323531,
          0.8617878135057911,
          0.878619153674833,
          0.8766666666666667
         ]
        }
       ],
       "layout": {
        "title": "Result comparision for Features selected in Section 1",
        "yaxis": {
         "dtick": 0.05,
         "tick0": 0
        }
       }
      },
      "text/html": [
       "<div id=\"b2835543-875e-434d-8198-8915bd77a3a1\" style=\"height: 525px; width: 100%;\" class=\"plotly-graph-div\"></div><script type=\"text/javascript\">require([\"plotly\"], function(Plotly) { window.PLOTLYENV=window.PLOTLYENV || {};window.PLOTLYENV.BASE_URL=\"https://plot.ly\";Plotly.newPlot(\"b2835543-875e-434d-8198-8915bd77a3a1\", [{\"mode\": \"lines\", \"name\": \"KNN_model\", \"x\": [\"accuracy\", \"auc\", \"MCC\", \"Precision\", \"Recall\"], \"y\": [0.9709072349113181, 0.9115281181426488, 0.8527692013004784, 0.9048192771084337, 0.8344444444444444], \"type\": \"scatter\", \"uid\": \"5f8842dd-02ff-4ec1-a69a-ac174442efb7\"}, {\"mode\": \"lines+markers\", \"name\": \"XGB\", \"x\": [\"accuracy\", \"auc\", \"MCC\", \"Precision\", \"Recall\"], \"y\": [0.9747352303177236, 0.9146573927250011, 0.8714213121407348, 0.9365671641791045, 0.8366666666666667], \"type\": \"scatter\", \"uid\": \"fcd12efe-cdf8-4cf4-98d2-3eebe208620c\"}, {\"marker\": {\"symbol\": \"x\"}, \"mode\": \"lines+markers\", \"name\": \"Random Forest\", \"x\": [\"accuracy\", \"auc\", \"MCC\", \"Precision\", \"Recall\"], \"y\": [0.9775424269490877, 0.9283300498134, 0.8866452839270809, 0.9350961538461539, 0.8644444444444445], \"type\": \"scatter\", \"uid\": \"2fe1d0f8-b5c5-4098-ae29-37e00dfa849a\"}, {\"mode\": \"lines\", \"name\": \"Ada Boost\", \"x\": [\"accuracy\", \"auc\", \"MCC\", \"Precision\", \"Recall\"], \"y\": [0.9682276381268342, 0.9095310172504927, 0.8402211405574374, 0.8833922261484098, 0.8333333333333334], \"type\": \"scatter\", \"uid\": \"d11ad4c2-9c7c-4317-94ef-e90a4dff6afc\"}, {\"mode\": \"lines+markers\", \"name\": \"GradientBoosting\", \"x\": [\"accuracy\", \"auc\", \"MCC\", \"Precision\", \"Recall\"], \"y\": [0.975756029092765, 0.9181348805919946, 0.8768010137471736, 0.9393564356435643, 0.8433333333333334], \"type\": \"scatter\", \"uid\": \"8bbba96c-49bc-4a81-aa93-eaf60f0f280a\"}, {\"marker\": {\"symbol\": \"x\"}, \"mode\": \"lines+markers\", \"name\": \"ExtraTree Classifier\", \"x\": [\"accuracy\", \"auc\", \"MCC\", \"Precision\", \"Recall\"], \"y\": [0.9767768278678065, 0.9230628033251647, 0.8823231362064343, 0.9388753056234719, 0.8533333333333334], \"type\": \"scatter\", \"uid\": \"9aa0374d-0b53-4834-8fbf-4c5f9a09e2ba\"}, {\"marker\": {\"symbol\": \"x\"}, \"mode\": \"lines+markers\", \"name\": \"Bagging\", \"x\": [\"accuracy\", \"auc\", \"MCC\", \"Precision\", \"Recall\"], \"y\": [0.9770320275615669, 0.929008697323531, 0.8843162679494152, 0.9285714285714286, 0.8666666666666667], \"type\": \"scatter\", \"uid\": \"a7bab900-1763-460a-b077-da697b3559fe\"}, {\"marker\": {\"symbol\": \"x\"}, \"mode\": \"lines+markers\", \"name\": \"Neural Network\", \"x\": [\"accuracy\", \"auc\", \"MCC\", \"Precision\", \"Recall\"], \"y\": [0.9719280336863596, 0.929008697323531, 0.8617878135057911, 0.878619153674833, 0.8766666666666667], \"type\": \"scatter\", \"uid\": \"abf5fd1e-e94f-4bd9-9ae5-a00f04815863\"}], {\"title\": \"Result comparision for Features selected in Section 1\", \"yaxis\": {\"dtick\": 0.05, \"tick0\": 0}}, {\"showLink\": true, \"linkText\": \"Export to plot.ly\", \"plotlyServerURL\": \"https://plot.ly\"})});</script><script type=\"text/javascript\">window.addEventListener(\"resize\", function(){window._Plotly.Plots.resize(document.getElementById(\"b2835543-875e-434d-8198-8915bd77a3a1\"));});</script>"
      ],
      "text/vnd.plotly.v1+html": [
       "<div id=\"b2835543-875e-434d-8198-8915bd77a3a1\" style=\"height: 525px; width: 100%;\" class=\"plotly-graph-div\"></div><script type=\"text/javascript\">require([\"plotly\"], function(Plotly) { window.PLOTLYENV=window.PLOTLYENV || {};window.PLOTLYENV.BASE_URL=\"https://plot.ly\";Plotly.newPlot(\"b2835543-875e-434d-8198-8915bd77a3a1\", [{\"mode\": \"lines\", \"name\": \"KNN_model\", \"x\": [\"accuracy\", \"auc\", \"MCC\", \"Precision\", \"Recall\"], \"y\": [0.9709072349113181, 0.9115281181426488, 0.8527692013004784, 0.9048192771084337, 0.8344444444444444], \"type\": \"scatter\", \"uid\": \"5f8842dd-02ff-4ec1-a69a-ac174442efb7\"}, {\"mode\": \"lines+markers\", \"name\": \"XGB\", \"x\": [\"accuracy\", \"auc\", \"MCC\", \"Precision\", \"Recall\"], \"y\": [0.9747352303177236, 0.9146573927250011, 0.8714213121407348, 0.9365671641791045, 0.8366666666666667], \"type\": \"scatter\", \"uid\": \"fcd12efe-cdf8-4cf4-98d2-3eebe208620c\"}, {\"marker\": {\"symbol\": \"x\"}, \"mode\": \"lines+markers\", \"name\": \"Random Forest\", \"x\": [\"accuracy\", \"auc\", \"MCC\", \"Precision\", \"Recall\"], \"y\": [0.9775424269490877, 0.9283300498134, 0.8866452839270809, 0.9350961538461539, 0.8644444444444445], \"type\": \"scatter\", \"uid\": \"2fe1d0f8-b5c5-4098-ae29-37e00dfa849a\"}, {\"mode\": \"lines\", \"name\": \"Ada Boost\", \"x\": [\"accuracy\", \"auc\", \"MCC\", \"Precision\", \"Recall\"], \"y\": [0.9682276381268342, 0.9095310172504927, 0.8402211405574374, 0.8833922261484098, 0.8333333333333334], \"type\": \"scatter\", \"uid\": \"d11ad4c2-9c7c-4317-94ef-e90a4dff6afc\"}, {\"mode\": \"lines+markers\", \"name\": \"GradientBoosting\", \"x\": [\"accuracy\", \"auc\", \"MCC\", \"Precision\", \"Recall\"], \"y\": [0.975756029092765, 0.9181348805919946, 0.8768010137471736, 0.9393564356435643, 0.8433333333333334], \"type\": \"scatter\", \"uid\": \"8bbba96c-49bc-4a81-aa93-eaf60f0f280a\"}, {\"marker\": {\"symbol\": \"x\"}, \"mode\": \"lines+markers\", \"name\": \"ExtraTree Classifier\", \"x\": [\"accuracy\", \"auc\", \"MCC\", \"Precision\", \"Recall\"], \"y\": [0.9767768278678065, 0.9230628033251647, 0.8823231362064343, 0.9388753056234719, 0.8533333333333334], \"type\": \"scatter\", \"uid\": \"9aa0374d-0b53-4834-8fbf-4c5f9a09e2ba\"}, {\"marker\": {\"symbol\": \"x\"}, \"mode\": \"lines+markers\", \"name\": \"Bagging\", \"x\": [\"accuracy\", \"auc\", \"MCC\", \"Precision\", \"Recall\"], \"y\": [0.9770320275615669, 0.929008697323531, 0.8843162679494152, 0.9285714285714286, 0.8666666666666667], \"type\": \"scatter\", \"uid\": \"a7bab900-1763-460a-b077-da697b3559fe\"}, {\"marker\": {\"symbol\": \"x\"}, \"mode\": \"lines+markers\", \"name\": \"Neural Network\", \"x\": [\"accuracy\", \"auc\", \"MCC\", \"Precision\", \"Recall\"], \"y\": [0.9719280336863596, 0.929008697323531, 0.8617878135057911, 0.878619153674833, 0.8766666666666667], \"type\": \"scatter\", \"uid\": \"abf5fd1e-e94f-4bd9-9ae5-a00f04815863\"}], {\"title\": \"Result comparision for Features selected in Section 1\", \"yaxis\": {\"dtick\": 0.05, \"tick0\": 0}}, {\"showLink\": true, \"linkText\": \"Export to plot.ly\", \"plotlyServerURL\": \"https://plot.ly\"})});</script><script type=\"text/javascript\">window.addEventListener(\"resize\", function(){window._Plotly.Plots.resize(document.getElementById(\"b2835543-875e-434d-8198-8915bd77a3a1\"));});</script>"
      ]
     },
     "metadata": {},
     "output_type": "display_data"
    }
   ],
   "source": [
    "trace0 = go.Scatter(x=table_80_50_test.iloc[0].index.values[[0,7,8,9,10]],\n",
    "                    y=table_80_50_test.iloc[0].values[[0,7,8,9,10]],\n",
    "                    mode = 'lines',\n",
    "                    name = 'KNN_model')\n",
    "\n",
    "\n",
    "trace2 = go.Scatter(x=table_80_50_test.iloc[1].index.values[[0,7,8,9,10]],\n",
    "                    y=table_80_50_test.iloc[1].values[[0,7,8,9,10]],\n",
    "                    mode = 'lines+markers',marker=dict(symbol='x'),\n",
    "                    name = 'Random Forest')\n",
    "\n",
    "\n",
    "trace3 = go.Scatter(x=table_80_50_test.iloc[2].index.values[[0,7,8,9,10]],\n",
    "                    y=table_80_50_test.iloc[2].values[[0,7,8,9,10]],\n",
    "                    mode = 'lines',\n",
    "                    name = 'Ada Boost')\n",
    "\n",
    "trace4 = go.Scatter(x=table_80_50_test.iloc[3].index.values[[0,7,8,9,10]],\n",
    "                    y=table_80_50_test.iloc[3].values[[0,7,8,9,10]],\n",
    "                    mode = 'lines+markers',\n",
    "                    name = 'GradientBoosting')\n",
    "\n",
    "trace5 = go.Scatter(x=table_80_50_test.iloc[4].index.values[[0,7,8,9,10]],\n",
    "                    y=table_80_50_test.iloc[4].values[[0,7,8,9,10]],\n",
    "                    mode = 'lines+markers',marker=dict(symbol='x'),\n",
    "                    name = 'ExtraTree Classifier')\n",
    "\n",
    "\n",
    "trace1 = go.Scatter(x=table_80_50_test.iloc[5].index.values[[0,7,8,9,10]],\n",
    "                    y=table_80_50_test.iloc[5].values[[0,7,8,9,10]],\n",
    "                    mode = 'lines+markers',\n",
    "                    name = 'XGB')\n",
    "\n",
    "\n",
    "trace6 = go.Scatter(x=table_80_50_test.iloc[6].index.values[[0,7,8,9,10]],\n",
    "                    y=table_80_50_test.iloc[6].values[[0,7,8,9,10]],\n",
    "                    mode = 'lines+markers',marker=dict(symbol='x'),\n",
    "                    name = 'Bagging')\n",
    "\n",
    "trace7 = go.Scatter(x=table_80_50_test.iloc[7].index.values[[0,7,8,9,10]],\n",
    "                    y=table_80_50_test.iloc[7].values[[0,7,8,9,10]],\n",
    "                    mode = 'lines+markers',marker=dict(symbol='x'),\n",
    "                    name = 'Neural Network')\n",
    "\n",
    "\n",
    "\n",
    "data = [trace0, trace1, trace2, trace3, trace4, trace5, trace6, trace7]\n",
    "layout = go.Layout(yaxis=dict(tick0=0,dtick=0.05),title='Result comparision for Features selected in Section 1')\n",
    "fig = go.Figure(data=data, layout=layout)\n",
    "\n",
    "iplot(fig, filename='Result')"
   ]
  },
  {
   "cell_type": "code",
   "execution_count": 26,
   "metadata": {},
   "outputs": [
    {
     "name": "stdout",
     "output_type": "stream",
     "text": [
      "Training Results\n"
     ]
    },
    {
     "data": {
      "text/html": [
       "<div>\n",
       "<style scoped>\n",
       "    .dataframe tbody tr th:only-of-type {\n",
       "        vertical-align: middle;\n",
       "    }\n",
       "\n",
       "    .dataframe tbody tr th {\n",
       "        vertical-align: top;\n",
       "    }\n",
       "\n",
       "    .dataframe thead th {\n",
       "        text-align: right;\n",
       "    }\n",
       "</style>\n",
       "<table border=\"1\" class=\"dataframe\">\n",
       "  <thead>\n",
       "    <tr style=\"text-align: right;\">\n",
       "      <th></th>\n",
       "      <th>accuracy</th>\n",
       "      <th>TP</th>\n",
       "      <th>TN</th>\n",
       "      <th>FP</th>\n",
       "      <th>FN</th>\n",
       "      <th>FPR</th>\n",
       "      <th>FNR</th>\n",
       "    </tr>\n",
       "    <tr>\n",
       "      <th>index</th>\n",
       "      <th></th>\n",
       "      <th></th>\n",
       "      <th></th>\n",
       "      <th></th>\n",
       "      <th></th>\n",
       "      <th></th>\n",
       "      <th></th>\n",
       "    </tr>\n",
       "  </thead>\n",
       "  <tbody>\n",
       "    <tr>\n",
       "      <th>KNeighborsClassifier</th>\n",
       "      <td>0.979710</td>\n",
       "      <td>3095.0</td>\n",
       "      <td>27615.0</td>\n",
       "      <td>190.0</td>\n",
       "      <td>446.0</td>\n",
       "      <td>0.006833</td>\n",
       "      <td>0.125953</td>\n",
       "    </tr>\n",
       "    <tr>\n",
       "      <th>RandomForestClassifier</th>\n",
       "      <td>0.994896</td>\n",
       "      <td>3410.0</td>\n",
       "      <td>27776.0</td>\n",
       "      <td>29.0</td>\n",
       "      <td>131.0</td>\n",
       "      <td>0.001043</td>\n",
       "      <td>0.036995</td>\n",
       "    </tr>\n",
       "    <tr>\n",
       "      <th>AdaBoostClassifier</th>\n",
       "      <td>0.973713</td>\n",
       "      <td>3015.0</td>\n",
       "      <td>27507.0</td>\n",
       "      <td>298.0</td>\n",
       "      <td>526.0</td>\n",
       "      <td>0.010717</td>\n",
       "      <td>0.148546</td>\n",
       "    </tr>\n",
       "    <tr>\n",
       "      <th>GradientBoostingClassifier</th>\n",
       "      <td>0.980285</td>\n",
       "      <td>3079.0</td>\n",
       "      <td>27649.0</td>\n",
       "      <td>156.0</td>\n",
       "      <td>462.0</td>\n",
       "      <td>0.005611</td>\n",
       "      <td>0.130472</td>\n",
       "    </tr>\n",
       "    <tr>\n",
       "      <th>ExtraTreeClassifier</th>\n",
       "      <td>0.996937</td>\n",
       "      <td>3453.0</td>\n",
       "      <td>27797.0</td>\n",
       "      <td>8.0</td>\n",
       "      <td>88.0</td>\n",
       "      <td>0.000288</td>\n",
       "      <td>0.024852</td>\n",
       "    </tr>\n",
       "    <tr>\n",
       "      <th>XGB</th>\n",
       "      <td>0.978881</td>\n",
       "      <td>3027.0</td>\n",
       "      <td>27657.0</td>\n",
       "      <td>148.0</td>\n",
       "      <td>514.0</td>\n",
       "      <td>0.005323</td>\n",
       "      <td>0.145157</td>\n",
       "    </tr>\n",
       "    <tr>\n",
       "      <th>BaggingClassifier</th>\n",
       "      <td>0.994832</td>\n",
       "      <td>3411.0</td>\n",
       "      <td>27773.0</td>\n",
       "      <td>32.0</td>\n",
       "      <td>130.0</td>\n",
       "      <td>0.001151</td>\n",
       "      <td>0.036713</td>\n",
       "    </tr>\n",
       "    <tr>\n",
       "      <th>Neural Network-1</th>\n",
       "      <td>0.985899</td>\n",
       "      <td>3274.0</td>\n",
       "      <td>27630.0</td>\n",
       "      <td>175.0</td>\n",
       "      <td>267.0</td>\n",
       "      <td>0.006294</td>\n",
       "      <td>0.075402</td>\n",
       "    </tr>\n",
       "  </tbody>\n",
       "</table>\n",
       "</div>"
      ],
      "text/plain": [
       "                            accuracy      TP       TN     FP     FN       FPR  \\\n",
       "index                                                                           \n",
       "KNeighborsClassifier        0.979710  3095.0  27615.0  190.0  446.0  0.006833   \n",
       "RandomForestClassifier      0.994896  3410.0  27776.0   29.0  131.0  0.001043   \n",
       "AdaBoostClassifier          0.973713  3015.0  27507.0  298.0  526.0  0.010717   \n",
       "GradientBoostingClassifier  0.980285  3079.0  27649.0  156.0  462.0  0.005611   \n",
       "ExtraTreeClassifier         0.996937  3453.0  27797.0    8.0   88.0  0.000288   \n",
       "XGB                         0.978881  3027.0  27657.0  148.0  514.0  0.005323   \n",
       "BaggingClassifier           0.994832  3411.0  27773.0   32.0  130.0  0.001151   \n",
       "Neural Network-1            0.985899  3274.0  27630.0  175.0  267.0  0.006294   \n",
       "\n",
       "                                 FNR  \n",
       "index                                 \n",
       "KNeighborsClassifier        0.125953  \n",
       "RandomForestClassifier      0.036995  \n",
       "AdaBoostClassifier          0.148546  \n",
       "GradientBoostingClassifier  0.130472  \n",
       "ExtraTreeClassifier         0.024852  \n",
       "XGB                         0.145157  \n",
       "BaggingClassifier           0.036713  \n",
       "Neural Network-1            0.075402  "
      ]
     },
     "metadata": {},
     "output_type": "display_data"
    },
    {
     "name": "stdout",
     "output_type": "stream",
     "text": [
      "Test Results\n"
     ]
    },
    {
     "data": {
      "text/html": [
       "<div>\n",
       "<style scoped>\n",
       "    .dataframe tbody tr th:only-of-type {\n",
       "        vertical-align: middle;\n",
       "    }\n",
       "\n",
       "    .dataframe tbody tr th {\n",
       "        vertical-align: top;\n",
       "    }\n",
       "\n",
       "    .dataframe thead th {\n",
       "        text-align: right;\n",
       "    }\n",
       "</style>\n",
       "<table border=\"1\" class=\"dataframe\">\n",
       "  <thead>\n",
       "    <tr style=\"text-align: right;\">\n",
       "      <th></th>\n",
       "      <th>accuracy</th>\n",
       "      <th>TP</th>\n",
       "      <th>TN</th>\n",
       "      <th>FP</th>\n",
       "      <th>FN</th>\n",
       "      <th>FPR</th>\n",
       "      <th>FNR</th>\n",
       "      <th>auc</th>\n",
       "      <th>MCC</th>\n",
       "      <th>Precision</th>\n",
       "      <th>Recall</th>\n",
       "    </tr>\n",
       "    <tr>\n",
       "      <th>index</th>\n",
       "      <th></th>\n",
       "      <th></th>\n",
       "      <th></th>\n",
       "      <th></th>\n",
       "      <th></th>\n",
       "      <th></th>\n",
       "      <th></th>\n",
       "      <th></th>\n",
       "      <th></th>\n",
       "      <th></th>\n",
       "      <th></th>\n",
       "    </tr>\n",
       "  </thead>\n",
       "  <tbody>\n",
       "    <tr>\n",
       "      <th>KNeighborsClassifier</th>\n",
       "      <td>0.970907</td>\n",
       "      <td>751.0</td>\n",
       "      <td>6858.0</td>\n",
       "      <td>79.0</td>\n",
       "      <td>149.0</td>\n",
       "      <td>0.011388</td>\n",
       "      <td>0.165556</td>\n",
       "      <td>0.911528</td>\n",
       "      <td>0.852769</td>\n",
       "      <td>0.904819</td>\n",
       "      <td>0.834444</td>\n",
       "    </tr>\n",
       "    <tr>\n",
       "      <th>RandomForestClassifier</th>\n",
       "      <td>0.977542</td>\n",
       "      <td>778.0</td>\n",
       "      <td>6883.0</td>\n",
       "      <td>54.0</td>\n",
       "      <td>122.0</td>\n",
       "      <td>0.007784</td>\n",
       "      <td>0.135556</td>\n",
       "      <td>0.928330</td>\n",
       "      <td>0.886645</td>\n",
       "      <td>0.935096</td>\n",
       "      <td>0.864444</td>\n",
       "    </tr>\n",
       "    <tr>\n",
       "      <th>AdaBoostClassifier</th>\n",
       "      <td>0.968228</td>\n",
       "      <td>750.0</td>\n",
       "      <td>6838.0</td>\n",
       "      <td>99.0</td>\n",
       "      <td>150.0</td>\n",
       "      <td>0.014271</td>\n",
       "      <td>0.166667</td>\n",
       "      <td>0.909531</td>\n",
       "      <td>0.840221</td>\n",
       "      <td>0.883392</td>\n",
       "      <td>0.833333</td>\n",
       "    </tr>\n",
       "    <tr>\n",
       "      <th>GradientBoostingClassifier</th>\n",
       "      <td>0.975756</td>\n",
       "      <td>759.0</td>\n",
       "      <td>6888.0</td>\n",
       "      <td>49.0</td>\n",
       "      <td>141.0</td>\n",
       "      <td>0.007064</td>\n",
       "      <td>0.156667</td>\n",
       "      <td>0.918135</td>\n",
       "      <td>0.876801</td>\n",
       "      <td>0.939356</td>\n",
       "      <td>0.843333</td>\n",
       "    </tr>\n",
       "    <tr>\n",
       "      <th>ExtraTreeClassifier</th>\n",
       "      <td>0.976777</td>\n",
       "      <td>768.0</td>\n",
       "      <td>6887.0</td>\n",
       "      <td>50.0</td>\n",
       "      <td>132.0</td>\n",
       "      <td>0.007208</td>\n",
       "      <td>0.146667</td>\n",
       "      <td>0.923063</td>\n",
       "      <td>0.882323</td>\n",
       "      <td>0.938875</td>\n",
       "      <td>0.853333</td>\n",
       "    </tr>\n",
       "    <tr>\n",
       "      <th>XGB</th>\n",
       "      <td>0.974735</td>\n",
       "      <td>753.0</td>\n",
       "      <td>6886.0</td>\n",
       "      <td>51.0</td>\n",
       "      <td>147.0</td>\n",
       "      <td>0.007352</td>\n",
       "      <td>0.163333</td>\n",
       "      <td>0.914657</td>\n",
       "      <td>0.871421</td>\n",
       "      <td>0.936567</td>\n",
       "      <td>0.836667</td>\n",
       "    </tr>\n",
       "    <tr>\n",
       "      <th>BaggingClassifier</th>\n",
       "      <td>0.977032</td>\n",
       "      <td>780.0</td>\n",
       "      <td>6877.0</td>\n",
       "      <td>60.0</td>\n",
       "      <td>120.0</td>\n",
       "      <td>0.008649</td>\n",
       "      <td>0.133333</td>\n",
       "      <td>0.929009</td>\n",
       "      <td>0.884316</td>\n",
       "      <td>0.928571</td>\n",
       "      <td>0.866667</td>\n",
       "    </tr>\n",
       "    <tr>\n",
       "      <th>Neural Network-1</th>\n",
       "      <td>0.971928</td>\n",
       "      <td>789.0</td>\n",
       "      <td>6828.0</td>\n",
       "      <td>109.0</td>\n",
       "      <td>111.0</td>\n",
       "      <td>0.015713</td>\n",
       "      <td>0.123333</td>\n",
       "      <td>0.929009</td>\n",
       "      <td>0.861788</td>\n",
       "      <td>0.878619</td>\n",
       "      <td>0.876667</td>\n",
       "    </tr>\n",
       "  </tbody>\n",
       "</table>\n",
       "</div>"
      ],
      "text/plain": [
       "                            accuracy     TP      TN     FP     FN       FPR  \\\n",
       "index                                                                         \n",
       "KNeighborsClassifier        0.970907  751.0  6858.0   79.0  149.0  0.011388   \n",
       "RandomForestClassifier      0.977542  778.0  6883.0   54.0  122.0  0.007784   \n",
       "AdaBoostClassifier          0.968228  750.0  6838.0   99.0  150.0  0.014271   \n",
       "GradientBoostingClassifier  0.975756  759.0  6888.0   49.0  141.0  0.007064   \n",
       "ExtraTreeClassifier         0.976777  768.0  6887.0   50.0  132.0  0.007208   \n",
       "XGB                         0.974735  753.0  6886.0   51.0  147.0  0.007352   \n",
       "BaggingClassifier           0.977032  780.0  6877.0   60.0  120.0  0.008649   \n",
       "Neural Network-1            0.971928  789.0  6828.0  109.0  111.0  0.015713   \n",
       "\n",
       "                                 FNR       auc       MCC  Precision    Recall  \n",
       "index                                                                          \n",
       "KNeighborsClassifier        0.165556  0.911528  0.852769   0.904819  0.834444  \n",
       "RandomForestClassifier      0.135556  0.928330  0.886645   0.935096  0.864444  \n",
       "AdaBoostClassifier          0.166667  0.909531  0.840221   0.883392  0.833333  \n",
       "GradientBoostingClassifier  0.156667  0.918135  0.876801   0.939356  0.843333  \n",
       "ExtraTreeClassifier         0.146667  0.923063  0.882323   0.938875  0.853333  \n",
       "XGB                         0.163333  0.914657  0.871421   0.936567  0.836667  \n",
       "BaggingClassifier           0.133333  0.929009  0.884316   0.928571  0.866667  \n",
       "Neural Network-1            0.123333  0.929009  0.861788   0.878619  0.876667  "
      ]
     },
     "metadata": {},
     "output_type": "display_data"
    }
   ],
   "source": [
    "table_80_50_train['index']=ind_columns\n",
    "table_80_50_test['index']=ind_columns\n",
    "\n",
    "\n",
    "table_80_50_test.set_index(['index'],drop=True,inplace=True)\n",
    "table_80_50_train.set_index(['index'],drop=True,inplace=True)\n",
    "\n",
    "print(\"Training Results\")\n",
    "display(table_80_50_train)\n",
    "print(\"Test Results\")\n",
    "display(table_80_50_test)"
   ]
  },
  {
   "cell_type": "markdown",
   "metadata": {},
   "source": [
    "### <a id='4.B' style=\"text-decoration : none; color : #000000;\"> B. Average Feature Importances</a>"
   ]
  },
  {
   "cell_type": "code",
   "execution_count": 27,
   "metadata": {},
   "outputs": [
    {
     "data": {
      "application/vnd.plotly.v1+json": {
       "config": {
        "linkText": "Export to plot.ly",
        "plotlyServerURL": "https://plot.ly",
        "showLink": true
       },
       "data": [
        {
         "marker": {
          "color": "rgb(158,202,225)",
          "line": {
           "color": "rgb(8,48,107)",
           "width": 1.5
          }
         },
         "opacity": 0.6,
         "orientation": "h",
         "text": [
          0.2144,
          0.0784,
          0.068,
          0.0484,
          0.046,
          0.0448,
          0.04,
          0.0392,
          0.0383,
          0.0319,
          0.0312,
          0.0305,
          0.028,
          0.0238,
          0.0204,
          0.0203,
          0.0188,
          0.016,
          0.0155,
          0.0149,
          0.0133,
          0.0128,
          0.0126,
          0.0112,
          0.0103,
          0.0097,
          0.0094,
          0.008,
          0.0066,
          0.0065,
          0.0058,
          0.0053,
          0.0051,
          0.0045,
          0.0045,
          0.0034,
          0.0023
         ],
         "textposition": "outside",
         "type": "bar",
         "uid": "4da7b727-ee2e-4ccf-816f-eb58d5c3eeb2",
         "x": [
          0.2144012201603649,
          0.07843615348096734,
          0.06796095129073199,
          0.04842465847897785,
          0.04598538224079131,
          0.04483318297341595,
          0.039951115725491544,
          0.03923230548904445,
          0.038302313877078005,
          0.031850722458074326,
          0.031213415933007187,
          0.030456063569659807,
          0.028010998425856793,
          0.02381907466079584,
          0.02039719698277241,
          0.020258907870504606,
          0.01884074934332095,
          0.01595840761286005,
          0.015519225257192164,
          0.014906071299613244,
          0.013319062624891242,
          0.012827175052768707,
          0.012581691865574438,
          0.011224294275239693,
          0.010321247075660503,
          0.009742165807983134,
          0.009384588545975545,
          0.007964706608123252,
          0.006555328299228533,
          0.006465912111533534,
          0.0057967753624576625,
          0.005277730772691669,
          0.0050826959793268105,
          0.004524477219032315,
          0.0044526249317905315,
          0.0033944620101538842,
          0.00232694414078332
         ],
         "y": [
          "url_length / total_count",
          "url_extensions / total_count",
          "url_char_. / total_count",
          "a_href_out_of_domain / total_href",
          "url_char_i / total_count",
          "url_char_. + url_extensions",
          "http_header_content-encoding_gzip / url_char_.",
          "a_href_relative / total_href",
          "url_char_w + url_char_z",
          "url_char_. + url_char_w",
          "a_href_https / a_count",
          "http_header_server_apache / total_count",
          "url_char_w * url_length",
          "http_header_server_apache + url_extensions",
          "url_char_z / total_count",
          "url_char_l / total_count",
          "url_char_p + url_extensions",
          "http_header_vary_user-agent + url_char_.",
          "url_char_. + url_char_y",
          "url_char_.",
          "url_char_y * url_extensions",
          "http_header_server_apache + url_char_w",
          "a_href_relative / a_count",
          "url_extensions",
          "url_char_f / total_count",
          "url_char_f + url_extensions",
          "url_char_. + url_char_z",
          "http_header_vary_user-agent + url_extensions",
          "url_extensions / url_char_z",
          "url_char_w + url_extensions",
          "url_char_p / total_count",
          "url_char_. * url_char_w",
          "http_header_via_1.1 + url_extensions",
          "url_char_w",
          "url_char_f + url_char_w",
          "url_char_w * url_extensions",
          "url_char_w / total_count"
         ]
        }
       ],
       "layout": {
        "autosize": false,
        "height": 1000,
        "width": 1000,
        "xaxis": {
         "tickfont": {
          "color": "black",
          "size": 12
         },
         "title": "Feature Importances"
        },
        "yaxis": {
         "automargin": true
        }
       }
      },
      "text/html": [
       "<div id=\"4899bbd1-fa7d-42c3-ac90-d2b09260c357\" style=\"height: 1000px; width: 1000px;\" class=\"plotly-graph-div\"></div><script type=\"text/javascript\">require([\"plotly\"], function(Plotly) { window.PLOTLYENV=window.PLOTLYENV || {};window.PLOTLYENV.BASE_URL=\"https://plot.ly\";Plotly.newPlot(\"4899bbd1-fa7d-42c3-ac90-d2b09260c357\", [{\"marker\": {\"color\": \"rgb(158,202,225)\", \"line\": {\"color\": \"rgb(8,48,107)\", \"width\": 1.5}}, \"opacity\": 0.6, \"orientation\": \"h\", \"text\": [0.2144, 0.0784, 0.068, 0.0484, 0.046, 0.0448, 0.04, 0.0392, 0.0383, 0.0319, 0.0312, 0.0305, 0.028, 0.0238, 0.0204, 0.0203, 0.0188, 0.016, 0.0155, 0.0149, 0.0133, 0.0128, 0.0126, 0.0112, 0.0103, 0.0097, 0.0094, 0.008, 0.0066, 0.0065, 0.0058, 0.0053, 0.0051, 0.0045, 0.0045, 0.0034, 0.0023], \"textposition\": \"outside\", \"x\": [0.2144012201603649, 0.07843615348096734, 0.06796095129073199, 0.04842465847897785, 0.04598538224079131, 0.04483318297341595, 0.039951115725491544, 0.03923230548904445, 0.038302313877078005, 0.031850722458074326, 0.031213415933007187, 0.030456063569659807, 0.028010998425856793, 0.02381907466079584, 0.02039719698277241, 0.020258907870504606, 0.01884074934332095, 0.01595840761286005, 0.015519225257192164, 0.014906071299613244, 0.013319062624891242, 0.012827175052768707, 0.012581691865574438, 0.011224294275239693, 0.010321247075660503, 0.009742165807983134, 0.009384588545975545, 0.007964706608123252, 0.006555328299228533, 0.006465912111533534, 0.0057967753624576625, 0.005277730772691669, 0.0050826959793268105, 0.004524477219032315, 0.0044526249317905315, 0.0033944620101538842, 0.00232694414078332], \"y\": [\"url_length / total_count\", \"url_extensions / total_count\", \"url_char_. / total_count\", \"a_href_out_of_domain / total_href\", \"url_char_i / total_count\", \"url_char_. + url_extensions\", \"http_header_content-encoding_gzip / url_char_.\", \"a_href_relative / total_href\", \"url_char_w + url_char_z\", \"url_char_. + url_char_w\", \"a_href_https / a_count\", \"http_header_server_apache / total_count\", \"url_char_w * url_length\", \"http_header_server_apache + url_extensions\", \"url_char_z / total_count\", \"url_char_l / total_count\", \"url_char_p + url_extensions\", \"http_header_vary_user-agent + url_char_.\", \"url_char_. + url_char_y\", \"url_char_.\", \"url_char_y * url_extensions\", \"http_header_server_apache + url_char_w\", \"a_href_relative / a_count\", \"url_extensions\", \"url_char_f / total_count\", \"url_char_f + url_extensions\", \"url_char_. + url_char_z\", \"http_header_vary_user-agent + url_extensions\", \"url_extensions / url_char_z\", \"url_char_w + url_extensions\", \"url_char_p / total_count\", \"url_char_. * url_char_w\", \"http_header_via_1.1 + url_extensions\", \"url_char_w\", \"url_char_f + url_char_w\", \"url_char_w * url_extensions\", \"url_char_w / total_count\"], \"type\": \"bar\", \"uid\": \"4da7b727-ee2e-4ccf-816f-eb58d5c3eeb2\"}], {\"autosize\": false, \"height\": 1000, \"width\": 1000, \"xaxis\": {\"tickfont\": {\"color\": \"black\", \"size\": 12}, \"title\": \"Feature Importances\"}, \"yaxis\": {\"automargin\": true}}, {\"showLink\": true, \"linkText\": \"Export to plot.ly\", \"plotlyServerURL\": \"https://plot.ly\"})});</script>"
      ],
      "text/vnd.plotly.v1+html": [
       "<div id=\"4899bbd1-fa7d-42c3-ac90-d2b09260c357\" style=\"height: 1000px; width: 1000px;\" class=\"plotly-graph-div\"></div><script type=\"text/javascript\">require([\"plotly\"], function(Plotly) { window.PLOTLYENV=window.PLOTLYENV || {};window.PLOTLYENV.BASE_URL=\"https://plot.ly\";Plotly.newPlot(\"4899bbd1-fa7d-42c3-ac90-d2b09260c357\", [{\"marker\": {\"color\": \"rgb(158,202,225)\", \"line\": {\"color\": \"rgb(8,48,107)\", \"width\": 1.5}}, \"opacity\": 0.6, \"orientation\": \"h\", \"text\": [0.2144, 0.0784, 0.068, 0.0484, 0.046, 0.0448, 0.04, 0.0392, 0.0383, 0.0319, 0.0312, 0.0305, 0.028, 0.0238, 0.0204, 0.0203, 0.0188, 0.016, 0.0155, 0.0149, 0.0133, 0.0128, 0.0126, 0.0112, 0.0103, 0.0097, 0.0094, 0.008, 0.0066, 0.0065, 0.0058, 0.0053, 0.0051, 0.0045, 0.0045, 0.0034, 0.0023], \"textposition\": \"outside\", \"x\": [0.2144012201603649, 0.07843615348096734, 0.06796095129073199, 0.04842465847897785, 0.04598538224079131, 0.04483318297341595, 0.039951115725491544, 0.03923230548904445, 0.038302313877078005, 0.031850722458074326, 0.031213415933007187, 0.030456063569659807, 0.028010998425856793, 0.02381907466079584, 0.02039719698277241, 0.020258907870504606, 0.01884074934332095, 0.01595840761286005, 0.015519225257192164, 0.014906071299613244, 0.013319062624891242, 0.012827175052768707, 0.012581691865574438, 0.011224294275239693, 0.010321247075660503, 0.009742165807983134, 0.009384588545975545, 0.007964706608123252, 0.006555328299228533, 0.006465912111533534, 0.0057967753624576625, 0.005277730772691669, 0.0050826959793268105, 0.004524477219032315, 0.0044526249317905315, 0.0033944620101538842, 0.00232694414078332], \"y\": [\"url_length / total_count\", \"url_extensions / total_count\", \"url_char_. / total_count\", \"a_href_out_of_domain / total_href\", \"url_char_i / total_count\", \"url_char_. + url_extensions\", \"http_header_content-encoding_gzip / url_char_.\", \"a_href_relative / total_href\", \"url_char_w + url_char_z\", \"url_char_. + url_char_w\", \"a_href_https / a_count\", \"http_header_server_apache / total_count\", \"url_char_w * url_length\", \"http_header_server_apache + url_extensions\", \"url_char_z / total_count\", \"url_char_l / total_count\", \"url_char_p + url_extensions\", \"http_header_vary_user-agent + url_char_.\", \"url_char_. + url_char_y\", \"url_char_.\", \"url_char_y * url_extensions\", \"http_header_server_apache + url_char_w\", \"a_href_relative / a_count\", \"url_extensions\", \"url_char_f / total_count\", \"url_char_f + url_extensions\", \"url_char_. + url_char_z\", \"http_header_vary_user-agent + url_extensions\", \"url_extensions / url_char_z\", \"url_char_w + url_extensions\", \"url_char_p / total_count\", \"url_char_. * url_char_w\", \"http_header_via_1.1 + url_extensions\", \"url_char_w\", \"url_char_f + url_char_w\", \"url_char_w * url_extensions\", \"url_char_w / total_count\"], \"type\": \"bar\", \"uid\": \"4da7b727-ee2e-4ccf-816f-eb58d5c3eeb2\"}], {\"autosize\": false, \"height\": 1000, \"width\": 1000, \"xaxis\": {\"tickfont\": {\"color\": \"black\", \"size\": 12}, \"title\": \"Feature Importances\"}, \"yaxis\": {\"automargin\": true}}, {\"showLink\": true, \"linkText\": \"Export to plot.ly\", \"plotlyServerURL\": \"https://plot.ly\"})});</script>"
      ]
     },
     "metadata": {},
     "output_type": "display_data"
    }
   ],
   "source": [
    "feat_impt_plot(np.average(feat_imp,axis=0),feature_name)"
   ]
  },
  {
   "cell_type": "markdown",
   "metadata": {},
   "source": [
    "### <a id='5' style=\"text-decoration : none; color : #000000;\">5. Feature Transformation with PCA </a>"
   ]
  },
  {
   "cell_type": "code",
   "execution_count": 28,
   "metadata": {},
   "outputs": [
    {
     "name": "stderr",
     "output_type": "stream",
     "text": [
      "distributed.core - INFO - Event loop was unresponsive in Nanny for 83.42s.  This is often caused by long-running GIL-holding functions or moving large chunks of data. This can cause timeouts and instability.\n",
      "distributed.core - INFO - Event loop was unresponsive in Nanny for 83.42s.  This is often caused by long-running GIL-holding functions or moving large chunks of data. This can cause timeouts and instability.\n",
      "distributed.core - INFO - Event loop was unresponsive in Nanny for 83.42s.  This is often caused by long-running GIL-holding functions or moving large chunks of data. This can cause timeouts and instability.\n",
      "distributed.core - INFO - Event loop was unresponsive in Nanny for 83.41s.  This is often caused by long-running GIL-holding functions or moving large chunks of data. This can cause timeouts and instability.\n",
      "distributed.core - INFO - Event loop was unresponsive in Nanny for 83.41s.  This is often caused by long-running GIL-holding functions or moving large chunks of data. This can cause timeouts and instability.\n",
      "distributed.core - INFO - Event loop was unresponsive in Nanny for 83.41s.  This is often caused by long-running GIL-holding functions or moving large chunks of data. This can cause timeouts and instability.\n",
      "distributed.core - INFO - Event loop was unresponsive in Nanny for 83.41s.  This is often caused by long-running GIL-holding functions or moving large chunks of data. This can cause timeouts and instability.\n",
      "distributed.core - INFO - Event loop was unresponsive in Nanny for 83.41s.  This is often caused by long-running GIL-holding functions or moving large chunks of data. This can cause timeouts and instability.\n",
      "distributed.core - INFO - Event loop was unresponsive in Nanny for 83.41s.  This is often caused by long-running GIL-holding functions or moving large chunks of data. This can cause timeouts and instability.\n",
      "distributed.core - INFO - Event loop was unresponsive in Nanny for 83.41s.  This is often caused by long-running GIL-holding functions or moving large chunks of data. This can cause timeouts and instability.\n",
      "distributed.core - INFO - Event loop was unresponsive in Nanny for 83.41s.  This is often caused by long-running GIL-holding functions or moving large chunks of data. This can cause timeouts and instability.\n"
     ]
    },
    {
     "data": {
      "image/png": "[encoded data removed]",
      "text/plain": [
       "<Figure size 720x576 with 1 Axes>"
      ]
     },
     "metadata": {},
     "output_type": "display_data"
    }
   ],
   "source": [
    "X=fs.loc[:,fs.columns!='Target']\n",
    "y=fs.Target.values\n",
    "feature_name = X.columns.tolist()\n",
    "X=np.nan_to_num(X)\n",
    "scaler=StandardScaler()\n",
    "scaled_X=scaler.fit_transform(X)\n",
    "\n",
    "sns.set_style('whitegrid')\n",
    "pca = PCA(random_state=0)\n",
    "pca.fit(scaled_X)\n",
    "plt.figure(1, figsize=(10, 8))\n",
    "plt.plot(np.cumsum(pca.explained_variance_ratio_),'--o', linewidth=2)\n",
    "plt.axis('tight')\n",
    "plt.xlabel('Number of Components',size=14)\n",
    "plt.xticks(size=12)\n",
    "plt.xlim([0,200])\n",
    "plt.ylabel('% Explained Variance',size=14)\n",
    "plt.yticks(size=12)\n",
    "plt.title('% Variance Explained by Principal Components',size=14,y=1.05)\n",
    "plt.show()"
   ]
  },
  {
   "cell_type": "code",
   "execution_count": 29,
   "metadata": {},
   "outputs": [
    {
     "name": "stdout",
     "output_type": "stream",
     "text": [
      "Variance explained using 125 components is: 0.791882110553281\n"
     ]
    }
   ],
   "source": [
    "pca=PCA(n_components=125,whiten=True,random_state=0)\n",
    "X_pca_21=pca.fit_transform(scaled_X)\n",
    "print(\"Variance explained using 125 components is:\",sum(pca.explained_variance_ratio_))"
   ]
  },
  {
   "cell_type": "code",
   "execution_count": 30,
   "metadata": {},
   "outputs": [],
   "source": [
    "X_train=X_pca_21[:31346]\n",
    "Y_train=fs.iloc[:31346]['Target'].values\n",
    "X_test=X_pca_21[31346:]\n",
    "Y_test=fs.iloc[31346:]['Target'].values\n",
    "\n",
    "## Table to store training and test measures so we can compare later\n",
    "table_80_70_train=pd.DataFrame(columns=['accuracy','TP','TN','FP','FN','FPR','FNR'])\n",
    "table_80_70_test=pd.DataFrame(columns=['accuracy','TP','TN','FP','FN','FPR','FNR','auc','mcc'])"
   ]
  },
  {
   "cell_type": "code",
   "execution_count": 31,
   "metadata": {
    "scrolled": false
   },
   "outputs": [
    {
     "name": "stdout",
     "output_type": "stream",
     "text": [
      "\u001b[1mK-Nearest Neighbors\u001b[0m\n",
      "Accuracy of the model for training data is: 0.9809545077521853\n",
      "Confusion Matrix for training data is:\n"
     ]
    },
    {
     "data": {
      "text/plain": [
       "Predicted  False  True  __all__\n",
       "Actual                         \n",
       "False      27647   158    27805\n",
       "True         439  3102     3541\n",
       "__all__    28086  3260    31346"
      ]
     },
     "metadata": {},
     "output_type": "display_data"
    },
    {
     "name": "stdout",
     "output_type": "stream",
     "text": [
      "Accuracy of the model for test data is: 0.9703968355237974\n",
      "Confusion Matrix for test data is:\n"
     ]
    },
    {
     "data": {
      "text/plain": [
       "Predicted  False  True  __all__\n",
       "Actual                         \n",
       "False       6866    71     6937\n",
       "True         161   739      900\n",
       "__all__     7027   810     7837"
      ]
     },
     "metadata": {},
     "output_type": "display_data"
    },
    {
     "name": "stdout",
     "output_type": "stream",
     "text": [
      "\n",
      "\n",
      "\u001b[1mRandomForest Classifier\u001b[0m\n",
      "Accuracy of the model for training data is: 0.9956932303962228\n",
      "Confusion Matrix for training data is:\n"
     ]
    },
    {
     "data": {
      "text/plain": [
       "Predicted  False  True  __all__\n",
       "Actual                         \n",
       "False      27783    22    27805\n",
       "True         113  3428     3541\n",
       "__all__    27896  3450    31346"
      ]
     },
     "metadata": {},
     "output_type": "display_data"
    },
    {
     "name": "stdout",
     "output_type": "stream",
     "text": [
      "Accuracy of the model for test data is: 0.9733316320020416\n",
      "Confusion Matrix for test data is:\n"
     ]
    },
    {
     "data": {
      "text/plain": [
       "Predicted  False  True  __all__\n",
       "Actual                         \n",
       "False       6883    54     6937\n",
       "True         155   745      900\n",
       "__all__     7038   799     7837"
      ]
     },
     "metadata": {},
     "output_type": "display_data"
    },
    {
     "data": {
      "application/vnd.plotly.v1+json": {
       "config": {
        "linkText": "Export to plot.ly",
        "plotlyServerURL": "https://plot.ly",
        "showLink": true
       },
       "data": [
        {
         "marker": {
          "color": "rgb(158,202,225)",
          "line": {
           "color": "rgb(8,48,107)",
           "width": 1.5
          }
         },
         "opacity": 0.6,
         "orientation": "h",
         "text": [
          0.1884,
          0.1653,
          0.0856,
          0.0406,
          0.0335,
          0.0269,
          0.0165,
          0.0138,
          0.0137,
          0.0124,
          0.0113,
          0.0111,
          0.0107,
          0.0096,
          0.0089,
          0.0084,
          0.0084,
          0.0075,
          0.0072,
          0.0072,
          0.0068,
          0.0067,
          0.0063,
          0.0062,
          0.006,
          0.0056,
          0.0053,
          0.0053,
          0.0052,
          0.0051,
          0.005,
          0.005,
          0.0049,
          0.0049,
          0.0048,
          0.0047,
          0.0045,
          0.0044,
          0.0042,
          0.0042,
          0.0041,
          0.004,
          0.0039,
          0.0038,
          0.0038,
          0.0038,
          0.0037,
          0.0036,
          0.0036,
          0.0035,
          0.0035,
          0.0034,
          0.0034,
          0.0033,
          0.0033,
          0.0033,
          0.0032,
          0.0032,
          0.0031,
          0.0031,
          0.003,
          0.003,
          0.0029,
          0.0029,
          0.0029,
          0.0028,
          0.0028,
          0.0028,
          0.0028,
          0.0028,
          0.0027,
          0.0027,
          0.0027,
          0.0027,
          0.0026,
          0.0026,
          0.0026,
          0.0025,
          0.0025,
          0.0025,
          0.0025,
          0.0025,
          0.0024,
          0.0024,
          0.0024,
          0.0024,
          0.0023,
          0.0023,
          0.0022,
          0.0021,
          0.0021,
          0.0021,
          0.002,
          0.002,
          0.002,
          0.002,
          0.002,
          0.002,
          0.0019,
          0.0019,
          0.0019,
          0.0019,
          0.0019,
          0.0019,
          0.0018,
          0.0018,
          0.0018,
          0.0018,
          0.0018,
          0.0017,
          0.0017,
          0.0016,
          0.0016,
          0.0015,
          0.0015,
          0.0015,
          0.0015,
          0.0015,
          0.0015,
          0.0014,
          0.0012,
          0.0011,
          0.0011,
          0.0011,
          0.001
         ],
         "textposition": "outside",
         "type": "bar",
         "uid": "344b3fce-09e3-495f-a445-22ee03b59fee",
         "x": [
          0.18843832070038483,
          0.16529850764760384,
          0.08563153125428537,
          0.04058236279108522,
          0.03350535732117137,
          0.026918018608031176,
          0.01645835683711042,
          0.013753400430134576,
          0.01365784733043367,
          0.01244482273069399,
          0.011334184188375066,
          0.011063457129418672,
          0.010681088394848052,
          0.009608679749711345,
          0.008929142335860512,
          0.008410347059922564,
          0.008381048606985356,
          0.0075098225948890445,
          0.007247568198224502,
          0.007179369516762219,
          0.006768441019409129,
          0.0067296919170982085,
          0.006309902844644577,
          0.0061855968268055925,
          0.005963064295017834,
          0.005570166151600737,
          0.005329362039951094,
          0.0052746572333037265,
          0.005207603658738258,
          0.005055704381110272,
          0.005049799706310652,
          0.0049589731373235624,
          0.0049251356322955325,
          0.0048639639036977805,
          0.004776415137814759,
          0.004738190474807993,
          0.004481407936976242,
          0.004363904899999274,
          0.0042480798396842745,
          0.004195777448638592,
          0.004081946594906609,
          0.004017596350969273,
          0.0038657795157854913,
          0.003810561414963356,
          0.0037967327576995022,
          0.0037782390590762336,
          0.0037195013437883477,
          0.003555941335339684,
          0.0035549225005488106,
          0.0035334622271110385,
          0.00351278771921798,
          0.0034463342312815158,
          0.0034287207533345,
          0.003349538885450365,
          0.0032887434829292606,
          0.0032692821577677785,
          0.003196574158290111,
          0.0031946441244797507,
          0.003133061200476193,
          0.0031084080850084434,
          0.0030439296883468863,
          0.0029936513640359042,
          0.002924243209986011,
          0.0028582383160345045,
          0.0028522709459336626,
          0.0028078226551603164,
          0.0028073014501941813,
          0.002800224671513697,
          0.0027988075907843064,
          0.002754324528213806,
          0.0027187782522713256,
          0.002682716712274732,
          0.0026743386916644055,
          0.0026709163450738763,
          0.0026187576679808835,
          0.0026017055314614666,
          0.0025667292749992974,
          0.0025481281367369557,
          0.00254523827087721,
          0.0025414324545978096,
          0.002478038678650402,
          0.002451233505061548,
          0.0024328097839769283,
          0.002406135056193856,
          0.0023753753366063195,
          0.002354426661934051,
          0.0023385387743057274,
          0.0022705089340665937,
          0.0021927454296436256,
          0.0021148633865116125,
          0.0021105964457682983,
          0.0020734107356145813,
          0.002030727385502393,
          0.002029092223276573,
          0.0020103938904523456,
          0.0020064849675356143,
          0.00200045277771537,
          0.001954949948671732,
          0.0019460335254730906,
          0.0019231471720038578,
          0.0019137226660076011,
          0.0018986222125274344,
          0.0018870270368797205,
          0.0018798224347725012,
          0.0018452088599081675,
          0.001822131284668416,
          0.0017913689544314406,
          0.0017717915293348843,
          0.0017559462585600896,
          0.0017014598468458014,
          0.0016911770951155481,
          0.001625425514380242,
          0.0015921678140125746,
          0.0015407391074261948,
          0.001517965727682067,
          0.0015136470357351916,
          0.001490118699717686,
          0.0014884851878310596,
          0.0014737061365099496,
          0.001376946235305896,
          0.0011694734373659276,
          0.0011450786838282326,
          0.0011079258551775452,
          0.0010661341622802928,
          0.0009525380370056449
         ],
         "y": [
          "0",
          "2",
          "1",
          "3",
          "5",
          "30",
          "10",
          "31",
          "26",
          "63",
          "28",
          "6",
          "27",
          "64",
          "7",
          "51",
          "12",
          "60",
          "42",
          "34",
          "104",
          "39",
          "32",
          "25",
          "37",
          "48",
          "14",
          "4",
          "17",
          "58",
          "53",
          "11",
          "8",
          "52",
          "67",
          "79",
          "44",
          "18",
          "13",
          "93",
          "16",
          "29",
          "98",
          "54",
          "94",
          "105",
          "78",
          "49",
          "80",
          "85",
          "84",
          "59",
          "81",
          "103",
          "72",
          "71",
          "69",
          "65",
          "35",
          "70",
          "38",
          "66",
          "82",
          "61",
          "9",
          "19",
          "118",
          "41",
          "92",
          "68",
          "101",
          "116",
          "62",
          "57",
          "33",
          "111",
          "73",
          "56",
          "88",
          "55",
          "75",
          "117",
          "124",
          "76",
          "22",
          "87",
          "45",
          "36",
          "46",
          "91",
          "20",
          "77",
          "121",
          "123",
          "99",
          "96",
          "113",
          "47",
          "83",
          "90",
          "23",
          "112",
          "119",
          "40",
          "89",
          "86",
          "21",
          "15",
          "50",
          "102",
          "106",
          "24",
          "115",
          "109",
          "97",
          "107",
          "122",
          "43",
          "108",
          "74",
          "95",
          "100",
          "120",
          "114",
          "110"
         ]
        }
       ],
       "layout": {
        "autosize": false,
        "height": 1000,
        "width": 1000,
        "xaxis": {
         "tickfont": {
          "color": "black",
          "size": 12
         },
         "title": "Feature Importances"
        },
        "yaxis": {
         "automargin": true
        }
       }
      },
      "text/html": [
       "<div id=\"d9c9d329-0ff9-4b81-bd70-8df5643d48a3\" style=\"height: 1000px; width: 1000px;\" class=\"plotly-graph-div\"></div><script type=\"text/javascript\">require([\"plotly\"], function(Plotly) { window.PLOTLYENV=window.PLOTLYENV || {};window.PLOTLYENV.BASE_URL=\"https://plot.ly\";Plotly.newPlot(\"d9c9d329-0ff9-4b81-bd70-8df5643d48a3\", [{\"marker\": {\"color\": \"rgb(158,202,225)\", \"line\": {\"color\": \"rgb(8,48,107)\", \"width\": 1.5}}, \"opacity\": 0.6, \"orientation\": \"h\", \"text\": [0.1884, 0.1653, 0.0856, 0.0406, 0.0335, 0.0269, 0.0165, 0.0138, 0.0137, 0.0124, 0.0113, 0.0111, 0.0107, 0.0096, 0.0089, 0.0084, 0.0084, 0.0075, 0.0072, 0.0072, 0.0068, 0.0067, 0.0063, 0.0062, 0.006, 0.0056, 0.0053, 0.0053, 0.0052, 0.0051, 0.005, 0.005, 0.0049, 0.0049, 0.0048, 0.0047, 0.0045, 0.0044, 0.0042, 0.0042, 0.0041, 0.004, 0.0039, 0.0038, 0.0038, 0.0038, 0.0037, 0.0036, 0.0036, 0.0035, 0.0035, 0.0034, 0.0034, 0.0033, 0.0033, 0.0033, 0.0032, 0.0032, 0.0031, 0.0031, 0.003, 0.003, 0.0029, 0.0029, 0.0029, 0.0028, 0.0028, 0.0028, 0.0028, 0.0028, 0.0027, 0.0027, 0.0027, 0.0027, 0.0026, 0.0026, 0.0026, 0.0025, 0.0025, 0.0025, 0.0025, 0.0025, 0.0024, 0.0024, 0.0024, 0.0024, 0.0023, 0.0023, 0.0022, 0.0021, 0.0021, 0.0021, 0.002, 0.002, 0.002, 0.002, 0.002, 0.002, 0.0019, 0.0019, 0.0019, 0.0019, 0.0019, 0.0019, 0.0018, 0.0018, 0.0018, 0.0018, 0.0018, 0.0017, 0.0017, 0.0016, 0.0016, 0.0015, 0.0015, 0.0015, 0.0015, 0.0015, 0.0015, 0.0014, 0.0012, 0.0011, 0.0011, 0.0011, 0.001], \"textposition\": \"outside\", \"x\": [0.18843832070038483, 0.16529850764760384, 0.08563153125428537, 0.04058236279108522, 0.03350535732117137, 0.026918018608031176, 0.01645835683711042, 0.013753400430134576, 0.01365784733043367, 0.01244482273069399, 0.011334184188375066, 0.011063457129418672, 0.010681088394848052, 0.009608679749711345, 0.008929142335860512, 0.008410347059922564, 0.008381048606985356, 0.0075098225948890445, 0.007247568198224502, 0.007179369516762219, 0.006768441019409129, 0.0067296919170982085, 0.006309902844644577, 0.0061855968268055925, 0.005963064295017834, 0.005570166151600737, 0.005329362039951094, 0.0052746572333037265, 0.005207603658738258, 0.005055704381110272, 0.005049799706310652, 0.0049589731373235624, 0.0049251356322955325, 0.0048639639036977805, 0.004776415137814759, 0.004738190474807993, 0.004481407936976242, 0.004363904899999274, 0.0042480798396842745, 0.004195777448638592, 0.004081946594906609, 0.004017596350969273, 0.0038657795157854913, 0.003810561414963356, 0.0037967327576995022, 0.0037782390590762336, 0.0037195013437883477, 0.003555941335339684, 0.0035549225005488106, 0.0035334622271110385, 0.00351278771921798, 0.0034463342312815158, 0.0034287207533345, 0.003349538885450365, 0.0032887434829292606, 0.0032692821577677785, 0.003196574158290111, 0.0031946441244797507, 0.003133061200476193, 0.0031084080850084434, 0.0030439296883468863, 0.0029936513640359042, 0.002924243209986011, 0.0028582383160345045, 0.0028522709459336626, 0.0028078226551603164, 0.0028073014501941813, 0.002800224671513697, 0.0027988075907843064, 0.002754324528213806, 0.0027187782522713256, 0.002682716712274732, 0.0026743386916644055, 0.0026709163450738763, 0.0026187576679808835, 0.0026017055314614666, 0.0025667292749992974, 0.0025481281367369557, 0.00254523827087721, 0.0025414324545978096, 0.002478038678650402, 0.002451233505061548, 0.0024328097839769283, 0.002406135056193856, 0.0023753753366063195, 0.002354426661934051, 0.0023385387743057274, 0.0022705089340665937, 0.0021927454296436256, 0.0021148633865116125, 0.0021105964457682983, 0.0020734107356145813, 0.002030727385502393, 0.002029092223276573, 0.0020103938904523456, 0.0020064849675356143, 0.00200045277771537, 0.001954949948671732, 0.0019460335254730906, 0.0019231471720038578, 0.0019137226660076011, 0.0018986222125274344, 0.0018870270368797205, 0.0018798224347725012, 0.0018452088599081675, 0.001822131284668416, 0.0017913689544314406, 0.0017717915293348843, 0.0017559462585600896, 0.0017014598468458014, 0.0016911770951155481, 0.001625425514380242, 0.0015921678140125746, 0.0015407391074261948, 0.001517965727682067, 0.0015136470357351916, 0.001490118699717686, 0.0014884851878310596, 0.0014737061365099496, 0.001376946235305896, 0.0011694734373659276, 0.0011450786838282326, 0.0011079258551775452, 0.0010661341622802928, 0.0009525380370056449], \"y\": [\"0\", \"2\", \"1\", \"3\", \"5\", \"30\", \"10\", \"31\", \"26\", \"63\", \"28\", \"6\", \"27\", \"64\", \"7\", \"51\", \"12\", \"60\", \"42\", \"34\", \"104\", \"39\", \"32\", \"25\", \"37\", \"48\", \"14\", \"4\", \"17\", \"58\", \"53\", \"11\", \"8\", \"52\", \"67\", \"79\", \"44\", \"18\", \"13\", \"93\", \"16\", \"29\", \"98\", \"54\", \"94\", \"105\", \"78\", \"49\", \"80\", \"85\", \"84\", \"59\", \"81\", \"103\", \"72\", \"71\", \"69\", \"65\", \"35\", \"70\", \"38\", \"66\", \"82\", \"61\", \"9\", \"19\", \"118\", \"41\", \"92\", \"68\", \"101\", \"116\", \"62\", \"57\", \"33\", \"111\", \"73\", \"56\", \"88\", \"55\", \"75\", \"117\", \"124\", \"76\", \"22\", \"87\", \"45\", \"36\", \"46\", \"91\", \"20\", \"77\", \"121\", \"123\", \"99\", \"96\", \"113\", \"47\", \"83\", \"90\", \"23\", \"112\", \"119\", \"40\", \"89\", \"86\", \"21\", \"15\", \"50\", \"102\", \"106\", \"24\", \"115\", \"109\", \"97\", \"107\", \"122\", \"43\", \"108\", \"74\", \"95\", \"100\", \"120\", \"114\", \"110\"], \"type\": \"bar\", \"uid\": \"344b3fce-09e3-495f-a445-22ee03b59fee\"}], {\"autosize\": false, \"height\": 1000, \"width\": 1000, \"xaxis\": {\"tickfont\": {\"color\": \"black\", \"size\": 12}, \"title\": \"Feature Importances\"}, \"yaxis\": {\"automargin\": true}}, {\"showLink\": true, \"linkText\": \"Export to plot.ly\", \"plotlyServerURL\": \"https://plot.ly\"})});</script>"
      ],
      "text/vnd.plotly.v1+html": [
       "<div id=\"d9c9d329-0ff9-4b81-bd70-8df5643d48a3\" style=\"height: 1000px; width: 1000px;\" class=\"plotly-graph-div\"></div><script type=\"text/javascript\">require([\"plotly\"], function(Plotly) { window.PLOTLYENV=window.PLOTLYENV || {};window.PLOTLYENV.BASE_URL=\"https://plot.ly\";Plotly.newPlot(\"d9c9d329-0ff9-4b81-bd70-8df5643d48a3\", [{\"marker\": {\"color\": \"rgb(158,202,225)\", \"line\": {\"color\": \"rgb(8,48,107)\", \"width\": 1.5}}, \"opacity\": 0.6, \"orientation\": \"h\", \"text\": [0.1884, 0.1653, 0.0856, 0.0406, 0.0335, 0.0269, 0.0165, 0.0138, 0.0137, 0.0124, 0.0113, 0.0111, 0.0107, 0.0096, 0.0089, 0.0084, 0.0084, 0.0075, 0.0072, 0.0072, 0.0068, 0.0067, 0.0063, 0.0062, 0.006, 0.0056, 0.0053, 0.0053, 0.0052, 0.0051, 0.005, 0.005, 0.0049, 0.0049, 0.0048, 0.0047, 0.0045, 0.0044, 0.0042, 0.0042, 0.0041, 0.004, 0.0039, 0.0038, 0.0038, 0.0038, 0.0037, 0.0036, 0.0036, 0.0035, 0.0035, 0.0034, 0.0034, 0.0033, 0.0033, 0.0033, 0.0032, 0.0032, 0.0031, 0.0031, 0.003, 0.003, 0.0029, 0.0029, 0.0029, 0.0028, 0.0028, 0.0028, 0.0028, 0.0028, 0.0027, 0.0027, 0.0027, 0.0027, 0.0026, 0.0026, 0.0026, 0.0025, 0.0025, 0.0025, 0.0025, 0.0025, 0.0024, 0.0024, 0.0024, 0.0024, 0.0023, 0.0023, 0.0022, 0.0021, 0.0021, 0.0021, 0.002, 0.002, 0.002, 0.002, 0.002, 0.002, 0.0019, 0.0019, 0.0019, 0.0019, 0.0019, 0.0019, 0.0018, 0.0018, 0.0018, 0.0018, 0.0018, 0.0017, 0.0017, 0.0016, 0.0016, 0.0015, 0.0015, 0.0015, 0.0015, 0.0015, 0.0015, 0.0014, 0.0012, 0.0011, 0.0011, 0.0011, 0.001], \"textposition\": \"outside\", \"x\": [0.18843832070038483, 0.16529850764760384, 0.08563153125428537, 0.04058236279108522, 0.03350535732117137, 0.026918018608031176, 0.01645835683711042, 0.013753400430134576, 0.01365784733043367, 0.01244482273069399, 0.011334184188375066, 0.011063457129418672, 0.010681088394848052, 0.009608679749711345, 0.008929142335860512, 0.008410347059922564, 0.008381048606985356, 0.0075098225948890445, 0.007247568198224502, 0.007179369516762219, 0.006768441019409129, 0.0067296919170982085, 0.006309902844644577, 0.0061855968268055925, 0.005963064295017834, 0.005570166151600737, 0.005329362039951094, 0.0052746572333037265, 0.005207603658738258, 0.005055704381110272, 0.005049799706310652, 0.0049589731373235624, 0.0049251356322955325, 0.0048639639036977805, 0.004776415137814759, 0.004738190474807993, 0.004481407936976242, 0.004363904899999274, 0.0042480798396842745, 0.004195777448638592, 0.004081946594906609, 0.004017596350969273, 0.0038657795157854913, 0.003810561414963356, 0.0037967327576995022, 0.0037782390590762336, 0.0037195013437883477, 0.003555941335339684, 0.0035549225005488106, 0.0035334622271110385, 0.00351278771921798, 0.0034463342312815158, 0.0034287207533345, 0.003349538885450365, 0.0032887434829292606, 0.0032692821577677785, 0.003196574158290111, 0.0031946441244797507, 0.003133061200476193, 0.0031084080850084434, 0.0030439296883468863, 0.0029936513640359042, 0.002924243209986011, 0.0028582383160345045, 0.0028522709459336626, 0.0028078226551603164, 0.0028073014501941813, 0.002800224671513697, 0.0027988075907843064, 0.002754324528213806, 0.0027187782522713256, 0.002682716712274732, 0.0026743386916644055, 0.0026709163450738763, 0.0026187576679808835, 0.0026017055314614666, 0.0025667292749992974, 0.0025481281367369557, 0.00254523827087721, 0.0025414324545978096, 0.002478038678650402, 0.002451233505061548, 0.0024328097839769283, 0.002406135056193856, 0.0023753753366063195, 0.002354426661934051, 0.0023385387743057274, 0.0022705089340665937, 0.0021927454296436256, 0.0021148633865116125, 0.0021105964457682983, 0.0020734107356145813, 0.002030727385502393, 0.002029092223276573, 0.0020103938904523456, 0.0020064849675356143, 0.00200045277771537, 0.001954949948671732, 0.0019460335254730906, 0.0019231471720038578, 0.0019137226660076011, 0.0018986222125274344, 0.0018870270368797205, 0.0018798224347725012, 0.0018452088599081675, 0.001822131284668416, 0.0017913689544314406, 0.0017717915293348843, 0.0017559462585600896, 0.0017014598468458014, 0.0016911770951155481, 0.001625425514380242, 0.0015921678140125746, 0.0015407391074261948, 0.001517965727682067, 0.0015136470357351916, 0.001490118699717686, 0.0014884851878310596, 0.0014737061365099496, 0.001376946235305896, 0.0011694734373659276, 0.0011450786838282326, 0.0011079258551775452, 0.0010661341622802928, 0.0009525380370056449], \"y\": [\"0\", \"2\", \"1\", \"3\", \"5\", \"30\", \"10\", \"31\", \"26\", \"63\", \"28\", \"6\", \"27\", \"64\", \"7\", \"51\", \"12\", \"60\", \"42\", \"34\", \"104\", \"39\", \"32\", \"25\", \"37\", \"48\", \"14\", \"4\", \"17\", \"58\", \"53\", \"11\", \"8\", \"52\", \"67\", \"79\", \"44\", \"18\", \"13\", \"93\", \"16\", \"29\", \"98\", \"54\", \"94\", \"105\", \"78\", \"49\", \"80\", \"85\", \"84\", \"59\", \"81\", \"103\", \"72\", \"71\", \"69\", \"65\", \"35\", \"70\", \"38\", \"66\", \"82\", \"61\", \"9\", \"19\", \"118\", \"41\", \"92\", \"68\", \"101\", \"116\", \"62\", \"57\", \"33\", \"111\", \"73\", \"56\", \"88\", \"55\", \"75\", \"117\", \"124\", \"76\", \"22\", \"87\", \"45\", \"36\", \"46\", \"91\", \"20\", \"77\", \"121\", \"123\", \"99\", \"96\", \"113\", \"47\", \"83\", \"90\", \"23\", \"112\", \"119\", \"40\", \"89\", \"86\", \"21\", \"15\", \"50\", \"102\", \"106\", \"24\", \"115\", \"109\", \"97\", \"107\", \"122\", \"43\", \"108\", \"74\", \"95\", \"100\", \"120\", \"114\", \"110\"], \"type\": \"bar\", \"uid\": \"344b3fce-09e3-495f-a445-22ee03b59fee\"}], {\"autosize\": false, \"height\": 1000, \"width\": 1000, \"xaxis\": {\"tickfont\": {\"color\": \"black\", \"size\": 12}, \"title\": \"Feature Importances\"}, \"yaxis\": {\"automargin\": true}}, {\"showLink\": true, \"linkText\": \"Export to plot.ly\", \"plotlyServerURL\": \"https://plot.ly\"})});</script>"
      ]
     },
     "metadata": {},
     "output_type": "display_data"
    },
    {
     "name": "stdout",
     "output_type": "stream",
     "text": [
      "\n",
      "\n",
      "\u001b[1mAdaoost Classifier\u001b[0m\n",
      "Accuracy of the model for training data is: 0.9729790084859312\n",
      "Confusion Matrix for training data is:\n"
     ]
    },
    {
     "data": {
      "text/plain": [
       "Predicted  False  True  __all__\n",
       "Actual                         \n",
       "False      27483   322    27805\n",
       "True         525  3016     3541\n",
       "__all__    28008  3338    31346"
      ]
     },
     "metadata": {},
     "output_type": "display_data"
    },
    {
     "name": "stdout",
     "output_type": "stream",
     "text": [
      "Accuracy of the model for test data is: 0.9670792395049126\n",
      "Confusion Matrix for test data is:\n"
     ]
    },
    {
     "data": {
      "text/plain": [
       "Predicted  False  True  __all__\n",
       "Actual                         \n",
       "False       6833   104     6937\n",
       "True         154   746      900\n",
       "__all__     6987   850     7837"
      ]
     },
     "metadata": {},
     "output_type": "display_data"
    },
    {
     "data": {
      "application/vnd.plotly.v1+json": {
       "config": {
        "linkText": "Export to plot.ly",
        "plotlyServerURL": "https://plot.ly",
        "showLink": true
       },
       "data": [
        {
         "marker": {
          "color": "rgb(158,202,225)",
          "line": {
           "color": "rgb(8,48,107)",
           "width": 1.5
          }
         },
         "opacity": 0.6,
         "orientation": "h",
         "text": [
          0.16,
          0.06,
          0.04,
          0.04,
          0.04,
          0.04,
          0.02,
          0.02,
          0.02,
          0.02,
          0.02,
          0.02,
          0.02,
          0.02,
          0.02,
          0.02,
          0.02,
          0.02,
          0.02,
          0.02,
          0.02,
          0.02,
          0.02,
          0.02,
          0.02,
          0.02,
          0.02,
          0.02,
          0.02,
          0.02,
          0.02,
          0.02,
          0.02,
          0.02,
          0.02,
          0.02,
          0.02,
          0,
          0,
          0,
          0,
          0,
          0,
          0,
          0,
          0,
          0,
          0,
          0,
          0,
          0,
          0,
          0,
          0,
          0,
          0,
          0,
          0,
          0,
          0,
          0,
          0,
          0,
          0,
          0,
          0,
          0,
          0,
          0,
          0,
          0,
          0,
          0,
          0,
          0,
          0,
          0,
          0,
          0,
          0,
          0,
          0,
          0,
          0,
          0,
          0,
          0,
          0,
          0,
          0,
          0,
          0,
          0,
          0,
          0,
          0,
          0,
          0,
          0,
          0,
          0,
          0,
          0,
          0,
          0,
          0,
          0,
          0,
          0,
          0,
          0,
          0,
          0,
          0,
          0,
          0,
          0,
          0,
          0,
          0,
          0,
          0,
          0,
          0,
          0
         ],
         "textposition": "outside",
         "type": "bar",
         "uid": "5aac080d-773b-4c6f-90a8-2612a3316dbd",
         "x": [
          0.16,
          0.06,
          0.04,
          0.04,
          0.04,
          0.04,
          0.02,
          0.02,
          0.02,
          0.02,
          0.02,
          0.02,
          0.02,
          0.02,
          0.02,
          0.02,
          0.02,
          0.02,
          0.02,
          0.02,
          0.02,
          0.02,
          0.02,
          0.02,
          0.02,
          0.02,
          0.02,
          0.02,
          0.02,
          0.02,
          0.02,
          0.02,
          0.02,
          0.02,
          0.02,
          0.02,
          0.02,
          0,
          0,
          0,
          0,
          0,
          0,
          0,
          0,
          0,
          0,
          0,
          0,
          0,
          0,
          0,
          0,
          0,
          0,
          0,
          0,
          0,
          0,
          0,
          0,
          0,
          0,
          0,
          0,
          0,
          0,
          0,
          0,
          0,
          0,
          0,
          0,
          0,
          0,
          0,
          0,
          0,
          0,
          0,
          0,
          0,
          0,
          0,
          0,
          0,
          0,
          0,
          0,
          0,
          0,
          0,
          0,
          0,
          0,
          0,
          0,
          0,
          0,
          0,
          0,
          0,
          0,
          0,
          0,
          0,
          0,
          0,
          0,
          0,
          0,
          0,
          0,
          0,
          0,
          0,
          0,
          0,
          0,
          0,
          0,
          0,
          0,
          0,
          0
         ],
         "y": [
          "0",
          "3",
          "2",
          "5",
          "1",
          "20",
          "46",
          "30",
          "104",
          "35",
          "101",
          "100",
          "41",
          "42",
          "97",
          "51",
          "47",
          "110",
          "55",
          "90",
          "88",
          "61",
          "68",
          "78",
          "76",
          "109",
          "37",
          "26",
          "113",
          "6",
          "7",
          "12",
          "25",
          "17",
          "18",
          "13",
          "74",
          "83",
          "120",
          "87",
          "86",
          "121",
          "122",
          "85",
          "84",
          "82",
          "119",
          "81",
          "111",
          "80",
          "79",
          "108",
          "77",
          "123",
          "89",
          "103",
          "75",
          "116",
          "102",
          "114",
          "115",
          "112",
          "105",
          "99",
          "98",
          "117",
          "91",
          "118",
          "96",
          "95",
          "94",
          "106",
          "93",
          "92",
          "107",
          "62",
          "73",
          "39",
          "36",
          "34",
          "33",
          "32",
          "31",
          "29",
          "28",
          "27",
          "24",
          "23",
          "22",
          "21",
          "19",
          "16",
          "15",
          "14",
          "11",
          "10",
          "9",
          "8",
          "4",
          "38",
          "40",
          "72",
          "43",
          "71",
          "70",
          "69",
          "67",
          "66",
          "65",
          "64",
          "63",
          "60",
          "59",
          "58",
          "57",
          "56",
          "54",
          "53",
          "52",
          "50",
          "49",
          "48",
          "45",
          "44",
          "124"
         ]
        }
       ],
       "layout": {
        "autosize": false,
        "height": 1000,
        "width": 1000,
        "xaxis": {
         "tickfont": {
          "color": "black",
          "size": 12
         },
         "title": "Feature Importances"
        },
        "yaxis": {
         "automargin": true
        }
       }
      },
      "text/html": [
       "<div id=\"57c680c3-4e2b-4cf3-8b4f-e289fb8a01b8\" style=\"height: 1000px; width: 1000px;\" class=\"plotly-graph-div\"></div><script type=\"text/javascript\">require([\"plotly\"], function(Plotly) { window.PLOTLYENV=window.PLOTLYENV || {};window.PLOTLYENV.BASE_URL=\"https://plot.ly\";Plotly.newPlot(\"57c680c3-4e2b-4cf3-8b4f-e289fb8a01b8\", [{\"marker\": {\"color\": \"rgb(158,202,225)\", \"line\": {\"color\": \"rgb(8,48,107)\", \"width\": 1.5}}, \"opacity\": 0.6, \"orientation\": \"h\", \"text\": [0.16, 0.06, 0.04, 0.04, 0.04, 0.04, 0.02, 0.02, 0.02, 0.02, 0.02, 0.02, 0.02, 0.02, 0.02, 0.02, 0.02, 0.02, 0.02, 0.02, 0.02, 0.02, 0.02, 0.02, 0.02, 0.02, 0.02, 0.02, 0.02, 0.02, 0.02, 0.02, 0.02, 0.02, 0.02, 0.02, 0.02, 0.0, 0.0, 0.0, 0.0, 0.0, 0.0, 0.0, 0.0, 0.0, 0.0, 0.0, 0.0, 0.0, 0.0, 0.0, 0.0, 0.0, 0.0, 0.0, 0.0, 0.0, 0.0, 0.0, 0.0, 0.0, 0.0, 0.0, 0.0, 0.0, 0.0, 0.0, 0.0, 0.0, 0.0, 0.0, 0.0, 0.0, 0.0, 0.0, 0.0, 0.0, 0.0, 0.0, 0.0, 0.0, 0.0, 0.0, 0.0, 0.0, 0.0, 0.0, 0.0, 0.0, 0.0, 0.0, 0.0, 0.0, 0.0, 0.0, 0.0, 0.0, 0.0, 0.0, 0.0, 0.0, 0.0, 0.0, 0.0, 0.0, 0.0, 0.0, 0.0, 0.0, 0.0, 0.0, 0.0, 0.0, 0.0, 0.0, 0.0, 0.0, 0.0, 0.0, 0.0, 0.0, 0.0, 0.0, 0.0], \"textposition\": \"outside\", \"x\": [0.16, 0.06, 0.04, 0.04, 0.04, 0.04, 0.02, 0.02, 0.02, 0.02, 0.02, 0.02, 0.02, 0.02, 0.02, 0.02, 0.02, 0.02, 0.02, 0.02, 0.02, 0.02, 0.02, 0.02, 0.02, 0.02, 0.02, 0.02, 0.02, 0.02, 0.02, 0.02, 0.02, 0.02, 0.02, 0.02, 0.02, 0.0, 0.0, 0.0, 0.0, 0.0, 0.0, 0.0, 0.0, 0.0, 0.0, 0.0, 0.0, 0.0, 0.0, 0.0, 0.0, 0.0, 0.0, 0.0, 0.0, 0.0, 0.0, 0.0, 0.0, 0.0, 0.0, 0.0, 0.0, 0.0, 0.0, 0.0, 0.0, 0.0, 0.0, 0.0, 0.0, 0.0, 0.0, 0.0, 0.0, 0.0, 0.0, 0.0, 0.0, 0.0, 0.0, 0.0, 0.0, 0.0, 0.0, 0.0, 0.0, 0.0, 0.0, 0.0, 0.0, 0.0, 0.0, 0.0, 0.0, 0.0, 0.0, 0.0, 0.0, 0.0, 0.0, 0.0, 0.0, 0.0, 0.0, 0.0, 0.0, 0.0, 0.0, 0.0, 0.0, 0.0, 0.0, 0.0, 0.0, 0.0, 0.0, 0.0, 0.0, 0.0, 0.0, 0.0, 0.0], \"y\": [\"0\", \"3\", \"2\", \"5\", \"1\", \"20\", \"46\", \"30\", \"104\", \"35\", \"101\", \"100\", \"41\", \"42\", \"97\", \"51\", \"47\", \"110\", \"55\", \"90\", \"88\", \"61\", \"68\", \"78\", \"76\", \"109\", \"37\", \"26\", \"113\", \"6\", \"7\", \"12\", \"25\", \"17\", \"18\", \"13\", \"74\", \"83\", \"120\", \"87\", \"86\", \"121\", \"122\", \"85\", \"84\", \"82\", \"119\", \"81\", \"111\", \"80\", \"79\", \"108\", \"77\", \"123\", \"89\", \"103\", \"75\", \"116\", \"102\", \"114\", \"115\", \"112\", \"105\", \"99\", \"98\", \"117\", \"91\", \"118\", \"96\", \"95\", \"94\", \"106\", \"93\", \"92\", \"107\", \"62\", \"73\", \"39\", \"36\", \"34\", \"33\", \"32\", \"31\", \"29\", \"28\", \"27\", \"24\", \"23\", \"22\", \"21\", \"19\", \"16\", \"15\", \"14\", \"11\", \"10\", \"9\", \"8\", \"4\", \"38\", \"40\", \"72\", \"43\", \"71\", \"70\", \"69\", \"67\", \"66\", \"65\", \"64\", \"63\", \"60\", \"59\", \"58\", \"57\", \"56\", \"54\", \"53\", \"52\", \"50\", \"49\", \"48\", \"45\", \"44\", \"124\"], \"type\": \"bar\", \"uid\": \"5aac080d-773b-4c6f-90a8-2612a3316dbd\"}], {\"autosize\": false, \"height\": 1000, \"width\": 1000, \"xaxis\": {\"tickfont\": {\"color\": \"black\", \"size\": 12}, \"title\": \"Feature Importances\"}, \"yaxis\": {\"automargin\": true}}, {\"showLink\": true, \"linkText\": \"Export to plot.ly\", \"plotlyServerURL\": \"https://plot.ly\"})});</script>"
      ],
      "text/vnd.plotly.v1+html": [
       "<div id=\"57c680c3-4e2b-4cf3-8b4f-e289fb8a01b8\" style=\"height: 1000px; width: 1000px;\" class=\"plotly-graph-div\"></div><script type=\"text/javascript\">require([\"plotly\"], function(Plotly) { window.PLOTLYENV=window.PLOTLYENV || {};window.PLOTLYENV.BASE_URL=\"https://plot.ly\";Plotly.newPlot(\"57c680c3-4e2b-4cf3-8b4f-e289fb8a01b8\", [{\"marker\": {\"color\": \"rgb(158,202,225)\", \"line\": {\"color\": \"rgb(8,48,107)\", \"width\": 1.5}}, \"opacity\": 0.6, \"orientation\": \"h\", \"text\": [0.16, 0.06, 0.04, 0.04, 0.04, 0.04, 0.02, 0.02, 0.02, 0.02, 0.02, 0.02, 0.02, 0.02, 0.02, 0.02, 0.02, 0.02, 0.02, 0.02, 0.02, 0.02, 0.02, 0.02, 0.02, 0.02, 0.02, 0.02, 0.02, 0.02, 0.02, 0.02, 0.02, 0.02, 0.02, 0.02, 0.02, 0.0, 0.0, 0.0, 0.0, 0.0, 0.0, 0.0, 0.0, 0.0, 0.0, 0.0, 0.0, 0.0, 0.0, 0.0, 0.0, 0.0, 0.0, 0.0, 0.0, 0.0, 0.0, 0.0, 0.0, 0.0, 0.0, 0.0, 0.0, 0.0, 0.0, 0.0, 0.0, 0.0, 0.0, 0.0, 0.0, 0.0, 0.0, 0.0, 0.0, 0.0, 0.0, 0.0, 0.0, 0.0, 0.0, 0.0, 0.0, 0.0, 0.0, 0.0, 0.0, 0.0, 0.0, 0.0, 0.0, 0.0, 0.0, 0.0, 0.0, 0.0, 0.0, 0.0, 0.0, 0.0, 0.0, 0.0, 0.0, 0.0, 0.0, 0.0, 0.0, 0.0, 0.0, 0.0, 0.0, 0.0, 0.0, 0.0, 0.0, 0.0, 0.0, 0.0, 0.0, 0.0, 0.0, 0.0, 0.0], \"textposition\": \"outside\", \"x\": [0.16, 0.06, 0.04, 0.04, 0.04, 0.04, 0.02, 0.02, 0.02, 0.02, 0.02, 0.02, 0.02, 0.02, 0.02, 0.02, 0.02, 0.02, 0.02, 0.02, 0.02, 0.02, 0.02, 0.02, 0.02, 0.02, 0.02, 0.02, 0.02, 0.02, 0.02, 0.02, 0.02, 0.02, 0.02, 0.02, 0.02, 0.0, 0.0, 0.0, 0.0, 0.0, 0.0, 0.0, 0.0, 0.0, 0.0, 0.0, 0.0, 0.0, 0.0, 0.0, 0.0, 0.0, 0.0, 0.0, 0.0, 0.0, 0.0, 0.0, 0.0, 0.0, 0.0, 0.0, 0.0, 0.0, 0.0, 0.0, 0.0, 0.0, 0.0, 0.0, 0.0, 0.0, 0.0, 0.0, 0.0, 0.0, 0.0, 0.0, 0.0, 0.0, 0.0, 0.0, 0.0, 0.0, 0.0, 0.0, 0.0, 0.0, 0.0, 0.0, 0.0, 0.0, 0.0, 0.0, 0.0, 0.0, 0.0, 0.0, 0.0, 0.0, 0.0, 0.0, 0.0, 0.0, 0.0, 0.0, 0.0, 0.0, 0.0, 0.0, 0.0, 0.0, 0.0, 0.0, 0.0, 0.0, 0.0, 0.0, 0.0, 0.0, 0.0, 0.0, 0.0], \"y\": [\"0\", \"3\", \"2\", \"5\", \"1\", \"20\", \"46\", \"30\", \"104\", \"35\", \"101\", \"100\", \"41\", \"42\", \"97\", \"51\", \"47\", \"110\", \"55\", \"90\", \"88\", \"61\", \"68\", \"78\", \"76\", \"109\", \"37\", \"26\", \"113\", \"6\", \"7\", \"12\", \"25\", \"17\", \"18\", \"13\", \"74\", \"83\", \"120\", \"87\", \"86\", \"121\", \"122\", \"85\", \"84\", \"82\", \"119\", \"81\", \"111\", \"80\", \"79\", \"108\", \"77\", \"123\", \"89\", \"103\", \"75\", \"116\", \"102\", \"114\", \"115\", \"112\", \"105\", \"99\", \"98\", \"117\", \"91\", \"118\", \"96\", \"95\", \"94\", \"106\", \"93\", \"92\", \"107\", \"62\", \"73\", \"39\", \"36\", \"34\", \"33\", \"32\", \"31\", \"29\", \"28\", \"27\", \"24\", \"23\", \"22\", \"21\", \"19\", \"16\", \"15\", \"14\", \"11\", \"10\", \"9\", \"8\", \"4\", \"38\", \"40\", \"72\", \"43\", \"71\", \"70\", \"69\", \"67\", \"66\", \"65\", \"64\", \"63\", \"60\", \"59\", \"58\", \"57\", \"56\", \"54\", \"53\", \"52\", \"50\", \"49\", \"48\", \"45\", \"44\", \"124\"], \"type\": \"bar\", \"uid\": \"5aac080d-773b-4c6f-90a8-2612a3316dbd\"}], {\"autosize\": false, \"height\": 1000, \"width\": 1000, \"xaxis\": {\"tickfont\": {\"color\": \"black\", \"size\": 12}, \"title\": \"Feature Importances\"}, \"yaxis\": {\"automargin\": true}}, {\"showLink\": true, \"linkText\": \"Export to plot.ly\", \"plotlyServerURL\": \"https://plot.ly\"})});</script>"
      ]
     },
     "metadata": {},
     "output_type": "display_data"
    },
    {
     "name": "stdout",
     "output_type": "stream",
     "text": [
      "\n",
      "\n",
      "\u001b[1mGradientBoosting Classifier\u001b[0m\n",
      "Accuracy of the model for training data is: 0.9798698398519747\n",
      "Confusion Matrix for training data is:\n"
     ]
    },
    {
     "data": {
      "text/plain": [
       "Predicted  False  True  __all__\n",
       "Actual                         \n",
       "False      27651   154    27805\n",
       "True         477  3064     3541\n",
       "__all__    28128  3218    31346"
      ]
     },
     "metadata": {},
     "output_type": "display_data"
    },
    {
     "name": "stdout",
     "output_type": "stream",
     "text": [
      "Accuracy of the model for test data is: 0.9725660329207605\n",
      "Confusion Matrix for test data is:\n"
     ]
    },
    {
     "data": {
      "text/plain": [
       "Predicted  False  True  __all__\n",
       "Actual                         \n",
       "False       6870    67     6937\n",
       "True         148   752      900\n",
       "__all__     7018   819     7837"
      ]
     },
     "metadata": {},
     "output_type": "display_data"
    },
    {
     "data": {
      "application/vnd.plotly.v1+json": {
       "config": {
        "linkText": "Export to plot.ly",
        "plotlyServerURL": "https://plot.ly",
        "showLink": true
       },
       "data": [
        {
         "marker": {
          "color": "rgb(158,202,225)",
          "line": {
           "color": "rgb(8,48,107)",
           "width": 1.5
          }
         },
         "opacity": 0.6,
         "orientation": "h",
         "text": [
          0.7741,
          0.066,
          0.0369,
          0.027,
          0.0162,
          0.0147,
          0.006,
          0.005,
          0.0041,
          0.0039,
          0.0035,
          0.003,
          0.0026,
          0.0024,
          0.0022,
          0.0022,
          0.0021,
          0.002,
          0.0018,
          0.0017,
          0.0015,
          0.0012,
          0.0012,
          0.0011,
          0.001,
          0.001,
          0.0008,
          0.0007,
          0.0007,
          0.0007,
          0.0007,
          0.0006,
          0.0006,
          0.0006,
          0.0006,
          0.0006,
          0.0005,
          0.0005,
          0.0005,
          0.0004,
          0.0004,
          0.0004,
          0.0004,
          0.0004,
          0.0004,
          0.0003,
          0.0003,
          0.0003,
          0.0003,
          0.0003,
          0.0003,
          0.0003,
          0.0002,
          0.0002,
          0.0002,
          0.0002,
          0.0002,
          0.0002,
          0.0002,
          0.0002,
          0.0001,
          0.0001,
          0.0001,
          0.0001,
          0.0001,
          0.0001,
          0.0001,
          0.0001,
          0.0001,
          0.0001,
          0.0001,
          0.0001,
          0.0001,
          0,
          0,
          0,
          0,
          0,
          0,
          0,
          0,
          0,
          0,
          0,
          0,
          0,
          0,
          0,
          0,
          0,
          0,
          0,
          0,
          0,
          0,
          0,
          0,
          0,
          0,
          0,
          0,
          0,
          0,
          0,
          0,
          0,
          0,
          0,
          0,
          0,
          0,
          0,
          0,
          0,
          0,
          0,
          0,
          0,
          0,
          0,
          0,
          0,
          0,
          0,
          0
         ],
         "textposition": "outside",
         "type": "bar",
         "uid": "d8ca8e7f-de87-45c7-9348-1c6556e26d5c",
         "x": [
          0.7740619398505829,
          0.06601346742085598,
          0.03685437939989685,
          0.02695944310673289,
          0.016158385710916868,
          0.014698846760176312,
          0.005988487070009356,
          0.005049368680536308,
          0.004126670644293999,
          0.0038807281793595736,
          0.003485644307224303,
          0.0029671939092209662,
          0.002599096425501213,
          0.002420043462585736,
          0.002247573788766814,
          0.002212390690525942,
          0.0021266549826460127,
          0.001995697600861978,
          0.001821318944905235,
          0.001691778013982913,
          0.0015454239089369975,
          0.0012374615500748577,
          0.0012046330548524764,
          0.0011109548913159509,
          0.0010403389429144252,
          0.0009986048227641332,
          0.0007586511280601818,
          0.0007312590048766603,
          0.0006749141132261515,
          0.0006716117889104191,
          0.0006581300414484759,
          0.0006358472452739965,
          0.0005797250201157924,
          0.0005766115992193674,
          0.0005566533764540296,
          0.0005511273548903407,
          0.0005432617532839818,
          0.0005429660678951064,
          0.0005030177668641015,
          0.00043927253502010146,
          0.0004111749485814472,
          0.00038718980638225163,
          0.00037215672071697363,
          0.000362823216825673,
          0.00036267807157463214,
          0.0003463954584729672,
          0.0003075111344368203,
          0.00030029480888342085,
          0.00029920326497036173,
          0.00027054728101237716,
          0.00026700152213700784,
          0.0002655722560975218,
          0.00021835519274316948,
          0.00020942653079248662,
          0.00020830783567743743,
          0.00020441082235103436,
          0.00019760868401508556,
          0.00019736110160992553,
          0.00016588579279224985,
          0.00015830627094539544,
          0.00012865293207068356,
          0.00012176509335441067,
          0.00010665022666158237,
          0.00010589180961865976,
          9.713217738234454e-05,
          8.63967241949283e-05,
          8.604599845848387e-05,
          8.473719346695128e-05,
          8.413280280453226e-05,
          7.626976949557492e-05,
          7.544375845175198e-05,
          6.46039768931746e-05,
          6.340215180228592e-05,
          4.853548249188717e-05,
          4.796423573940563e-05,
          4.319329258185251e-05,
          3.990996161509523e-05,
          3.630741075421315e-05,
          3.626122451084004e-05,
          3.574545190246567e-05,
          2.47552675560794e-05,
          2.3072320657570048e-05,
          2.2752228379211885e-05,
          1.3380658151528913e-05,
          8.690706507226213e-06,
          6.5215074991675875e-06,
          0,
          0,
          0,
          0,
          0,
          0,
          0,
          0,
          0,
          0,
          0,
          0,
          0,
          0,
          0,
          0,
          0,
          0,
          0,
          0,
          0,
          0,
          0,
          0,
          0,
          0,
          0,
          0,
          0,
          0,
          0,
          0,
          0,
          0,
          0,
          0,
          0,
          0,
          0
         ],
         "y": [
          "0",
          "2",
          "42",
          "63",
          "26",
          "30",
          "58",
          "61",
          "3",
          "12",
          "17",
          "13",
          "34",
          "31",
          "37",
          "44",
          "25",
          "7",
          "16",
          "72",
          "56",
          "1",
          "27",
          "69",
          "28",
          "101",
          "10",
          "93",
          "18",
          "66",
          "6",
          "59",
          "90",
          "109",
          "51",
          "55",
          "20",
          "39",
          "106",
          "54",
          "100",
          "11",
          "53",
          "15",
          "113",
          "67",
          "9",
          "35",
          "105",
          "46",
          "33",
          "40",
          "38",
          "112",
          "73",
          "85",
          "115",
          "29",
          "43",
          "78",
          "77",
          "60",
          "95",
          "108",
          "118",
          "65",
          "19",
          "76",
          "23",
          "4",
          "71",
          "70",
          "97",
          "104",
          "79",
          "21",
          "86",
          "119",
          "92",
          "83",
          "50",
          "124",
          "111",
          "96",
          "5",
          "41",
          "82",
          "22",
          "107",
          "36",
          "32",
          "110",
          "24",
          "114",
          "47",
          "14",
          "116",
          "117",
          "8",
          "120",
          "121",
          "122",
          "123",
          "45",
          "103",
          "81",
          "102",
          "84",
          "80",
          "75",
          "87",
          "88",
          "89",
          "74",
          "91",
          "68",
          "64",
          "94",
          "57",
          "52",
          "98",
          "99",
          "49",
          "48",
          "62"
         ]
        }
       ],
       "layout": {
        "autosize": false,
        "height": 1000,
        "width": 1000,
        "xaxis": {
         "tickfont": {
          "color": "black",
          "size": 12
         },
         "title": "Feature Importances"
        },
        "yaxis": {
         "automargin": true
        }
       }
      },
      "text/html": [
       "<div id=\"95c2980c-66b6-4581-87bf-ff8a1005112f\" style=\"height: 1000px; width: 1000px;\" class=\"plotly-graph-div\"></div><script type=\"text/javascript\">require([\"plotly\"], function(Plotly) { window.PLOTLYENV=window.PLOTLYENV || {};window.PLOTLYENV.BASE_URL=\"https://plot.ly\";Plotly.newPlot(\"95c2980c-66b6-4581-87bf-ff8a1005112f\", [{\"marker\": {\"color\": \"rgb(158,202,225)\", \"line\": {\"color\": \"rgb(8,48,107)\", \"width\": 1.5}}, \"opacity\": 0.6, \"orientation\": \"h\", \"text\": [0.7741, 0.066, 0.0369, 0.027, 0.0162, 0.0147, 0.006, 0.005, 0.0041, 0.0039, 0.0035, 0.003, 0.0026, 0.0024, 0.0022, 0.0022, 0.0021, 0.002, 0.0018, 0.0017, 0.0015, 0.0012, 0.0012, 0.0011, 0.001, 0.001, 0.0008, 0.0007, 0.0007, 0.0007, 0.0007, 0.0006, 0.0006, 0.0006, 0.0006, 0.0006, 0.0005, 0.0005, 0.0005, 0.0004, 0.0004, 0.0004, 0.0004, 0.0004, 0.0004, 0.0003, 0.0003, 0.0003, 0.0003, 0.0003, 0.0003, 0.0003, 0.0002, 0.0002, 0.0002, 0.0002, 0.0002, 0.0002, 0.0002, 0.0002, 0.0001, 0.0001, 0.0001, 0.0001, 0.0001, 0.0001, 0.0001, 0.0001, 0.0001, 0.0001, 0.0001, 0.0001, 0.0001, 0.0, 0.0, 0.0, 0.0, 0.0, 0.0, 0.0, 0.0, 0.0, 0.0, 0.0, 0.0, 0.0, 0.0, 0.0, 0.0, 0.0, 0.0, 0.0, 0.0, 0.0, 0.0, 0.0, 0.0, 0.0, 0.0, 0.0, 0.0, 0.0, 0.0, 0.0, 0.0, 0.0, 0.0, 0.0, 0.0, 0.0, 0.0, 0.0, 0.0, 0.0, 0.0, 0.0, 0.0, 0.0, 0.0, 0.0, 0.0, 0.0, 0.0, 0.0, 0.0], \"textposition\": \"outside\", \"x\": [0.7740619398505829, 0.06601346742085598, 0.03685437939989685, 0.02695944310673289, 0.016158385710916868, 0.014698846760176312, 0.005988487070009356, 0.005049368680536308, 0.004126670644293999, 0.0038807281793595736, 0.003485644307224303, 0.0029671939092209662, 0.002599096425501213, 0.002420043462585736, 0.002247573788766814, 0.002212390690525942, 0.0021266549826460127, 0.001995697600861978, 0.001821318944905235, 0.001691778013982913, 0.0015454239089369975, 0.0012374615500748577, 0.0012046330548524764, 0.0011109548913159509, 0.0010403389429144252, 0.0009986048227641332, 0.0007586511280601818, 0.0007312590048766603, 0.0006749141132261515, 0.0006716117889104191, 0.0006581300414484759, 0.0006358472452739965, 0.0005797250201157924, 0.0005766115992193674, 0.0005566533764540296, 0.0005511273548903407, 0.0005432617532839818, 0.0005429660678951064, 0.0005030177668641015, 0.00043927253502010146, 0.0004111749485814472, 0.00038718980638225163, 0.00037215672071697363, 0.000362823216825673, 0.00036267807157463214, 0.0003463954584729672, 0.0003075111344368203, 0.00030029480888342085, 0.00029920326497036173, 0.00027054728101237716, 0.00026700152213700784, 0.0002655722560975218, 0.00021835519274316948, 0.00020942653079248662, 0.00020830783567743743, 0.00020441082235103436, 0.00019760868401508556, 0.00019736110160992553, 0.00016588579279224985, 0.00015830627094539544, 0.00012865293207068356, 0.00012176509335441067, 0.00010665022666158237, 0.00010589180961865976, 9.713217738234454e-05, 8.63967241949283e-05, 8.604599845848387e-05, 8.473719346695128e-05, 8.413280280453226e-05, 7.626976949557492e-05, 7.544375845175198e-05, 6.46039768931746e-05, 6.340215180228592e-05, 4.853548249188717e-05, 4.796423573940563e-05, 4.319329258185251e-05, 3.990996161509523e-05, 3.630741075421315e-05, 3.626122451084004e-05, 3.574545190246567e-05, 2.47552675560794e-05, 2.3072320657570048e-05, 2.2752228379211885e-05, 1.3380658151528913e-05, 8.690706507226213e-06, 6.5215074991675875e-06, 0.0, 0.0, 0.0, 0.0, 0.0, 0.0, 0.0, 0.0, 0.0, 0.0, 0.0, 0.0, 0.0, 0.0, 0.0, 0.0, 0.0, 0.0, 0.0, 0.0, 0.0, 0.0, 0.0, 0.0, 0.0, 0.0, 0.0, 0.0, 0.0, 0.0, 0.0, 0.0, 0.0, 0.0, 0.0, 0.0, 0.0, 0.0, 0.0], \"y\": [\"0\", \"2\", \"42\", \"63\", \"26\", \"30\", \"58\", \"61\", \"3\", \"12\", \"17\", \"13\", \"34\", \"31\", \"37\", \"44\", \"25\", \"7\", \"16\", \"72\", \"56\", \"1\", \"27\", \"69\", \"28\", \"101\", \"10\", \"93\", \"18\", \"66\", \"6\", \"59\", \"90\", \"109\", \"51\", \"55\", \"20\", \"39\", \"106\", \"54\", \"100\", \"11\", \"53\", \"15\", \"113\", \"67\", \"9\", \"35\", \"105\", \"46\", \"33\", \"40\", \"38\", \"112\", \"73\", \"85\", \"115\", \"29\", \"43\", \"78\", \"77\", \"60\", \"95\", \"108\", \"118\", \"65\", \"19\", \"76\", \"23\", \"4\", \"71\", \"70\", \"97\", \"104\", \"79\", \"21\", \"86\", \"119\", \"92\", \"83\", \"50\", \"124\", \"111\", \"96\", \"5\", \"41\", \"82\", \"22\", \"107\", \"36\", \"32\", \"110\", \"24\", \"114\", \"47\", \"14\", \"116\", \"117\", \"8\", \"120\", \"121\", \"122\", \"123\", \"45\", \"103\", \"81\", \"102\", \"84\", \"80\", \"75\", \"87\", \"88\", \"89\", \"74\", \"91\", \"68\", \"64\", \"94\", \"57\", \"52\", \"98\", \"99\", \"49\", \"48\", \"62\"], \"type\": \"bar\", \"uid\": \"d8ca8e7f-de87-45c7-9348-1c6556e26d5c\"}], {\"autosize\": false, \"height\": 1000, \"width\": 1000, \"xaxis\": {\"tickfont\": {\"color\": \"black\", \"size\": 12}, \"title\": \"Feature Importances\"}, \"yaxis\": {\"automargin\": true}}, {\"showLink\": true, \"linkText\": \"Export to plot.ly\", \"plotlyServerURL\": \"https://plot.ly\"})});</script>"
      ],
      "text/vnd.plotly.v1+html": [
       "<div id=\"95c2980c-66b6-4581-87bf-ff8a1005112f\" style=\"height: 1000px; width: 1000px;\" class=\"plotly-graph-div\"></div><script type=\"text/javascript\">require([\"plotly\"], function(Plotly) { window.PLOTLYENV=window.PLOTLYENV || {};window.PLOTLYENV.BASE_URL=\"https://plot.ly\";Plotly.newPlot(\"95c2980c-66b6-4581-87bf-ff8a1005112f\", [{\"marker\": {\"color\": \"rgb(158,202,225)\", \"line\": {\"color\": \"rgb(8,48,107)\", \"width\": 1.5}}, \"opacity\": 0.6, \"orientation\": \"h\", \"text\": [0.7741, 0.066, 0.0369, 0.027, 0.0162, 0.0147, 0.006, 0.005, 0.0041, 0.0039, 0.0035, 0.003, 0.0026, 0.0024, 0.0022, 0.0022, 0.0021, 0.002, 0.0018, 0.0017, 0.0015, 0.0012, 0.0012, 0.0011, 0.001, 0.001, 0.0008, 0.0007, 0.0007, 0.0007, 0.0007, 0.0006, 0.0006, 0.0006, 0.0006, 0.0006, 0.0005, 0.0005, 0.0005, 0.0004, 0.0004, 0.0004, 0.0004, 0.0004, 0.0004, 0.0003, 0.0003, 0.0003, 0.0003, 0.0003, 0.0003, 0.0003, 0.0002, 0.0002, 0.0002, 0.0002, 0.0002, 0.0002, 0.0002, 0.0002, 0.0001, 0.0001, 0.0001, 0.0001, 0.0001, 0.0001, 0.0001, 0.0001, 0.0001, 0.0001, 0.0001, 0.0001, 0.0001, 0.0, 0.0, 0.0, 0.0, 0.0, 0.0, 0.0, 0.0, 0.0, 0.0, 0.0, 0.0, 0.0, 0.0, 0.0, 0.0, 0.0, 0.0, 0.0, 0.0, 0.0, 0.0, 0.0, 0.0, 0.0, 0.0, 0.0, 0.0, 0.0, 0.0, 0.0, 0.0, 0.0, 0.0, 0.0, 0.0, 0.0, 0.0, 0.0, 0.0, 0.0, 0.0, 0.0, 0.0, 0.0, 0.0, 0.0, 0.0, 0.0, 0.0, 0.0, 0.0], \"textposition\": \"outside\", \"x\": [0.7740619398505829, 0.06601346742085598, 0.03685437939989685, 0.02695944310673289, 0.016158385710916868, 0.014698846760176312, 0.005988487070009356, 0.005049368680536308, 0.004126670644293999, 0.0038807281793595736, 0.003485644307224303, 0.0029671939092209662, 0.002599096425501213, 0.002420043462585736, 0.002247573788766814, 0.002212390690525942, 0.0021266549826460127, 0.001995697600861978, 0.001821318944905235, 0.001691778013982913, 0.0015454239089369975, 0.0012374615500748577, 0.0012046330548524764, 0.0011109548913159509, 0.0010403389429144252, 0.0009986048227641332, 0.0007586511280601818, 0.0007312590048766603, 0.0006749141132261515, 0.0006716117889104191, 0.0006581300414484759, 0.0006358472452739965, 0.0005797250201157924, 0.0005766115992193674, 0.0005566533764540296, 0.0005511273548903407, 0.0005432617532839818, 0.0005429660678951064, 0.0005030177668641015, 0.00043927253502010146, 0.0004111749485814472, 0.00038718980638225163, 0.00037215672071697363, 0.000362823216825673, 0.00036267807157463214, 0.0003463954584729672, 0.0003075111344368203, 0.00030029480888342085, 0.00029920326497036173, 0.00027054728101237716, 0.00026700152213700784, 0.0002655722560975218, 0.00021835519274316948, 0.00020942653079248662, 0.00020830783567743743, 0.00020441082235103436, 0.00019760868401508556, 0.00019736110160992553, 0.00016588579279224985, 0.00015830627094539544, 0.00012865293207068356, 0.00012176509335441067, 0.00010665022666158237, 0.00010589180961865976, 9.713217738234454e-05, 8.63967241949283e-05, 8.604599845848387e-05, 8.473719346695128e-05, 8.413280280453226e-05, 7.626976949557492e-05, 7.544375845175198e-05, 6.46039768931746e-05, 6.340215180228592e-05, 4.853548249188717e-05, 4.796423573940563e-05, 4.319329258185251e-05, 3.990996161509523e-05, 3.630741075421315e-05, 3.626122451084004e-05, 3.574545190246567e-05, 2.47552675560794e-05, 2.3072320657570048e-05, 2.2752228379211885e-05, 1.3380658151528913e-05, 8.690706507226213e-06, 6.5215074991675875e-06, 0.0, 0.0, 0.0, 0.0, 0.0, 0.0, 0.0, 0.0, 0.0, 0.0, 0.0, 0.0, 0.0, 0.0, 0.0, 0.0, 0.0, 0.0, 0.0, 0.0, 0.0, 0.0, 0.0, 0.0, 0.0, 0.0, 0.0, 0.0, 0.0, 0.0, 0.0, 0.0, 0.0, 0.0, 0.0, 0.0, 0.0, 0.0, 0.0], \"y\": [\"0\", \"2\", \"42\", \"63\", \"26\", \"30\", \"58\", \"61\", \"3\", \"12\", \"17\", \"13\", \"34\", \"31\", \"37\", \"44\", \"25\", \"7\", \"16\", \"72\", \"56\", \"1\", \"27\", \"69\", \"28\", \"101\", \"10\", \"93\", \"18\", \"66\", \"6\", \"59\", \"90\", \"109\", \"51\", \"55\", \"20\", \"39\", \"106\", \"54\", \"100\", \"11\", \"53\", \"15\", \"113\", \"67\", \"9\", \"35\", \"105\", \"46\", \"33\", \"40\", \"38\", \"112\", \"73\", \"85\", \"115\", \"29\", \"43\", \"78\", \"77\", \"60\", \"95\", \"108\", \"118\", \"65\", \"19\", \"76\", \"23\", \"4\", \"71\", \"70\", \"97\", \"104\", \"79\", \"21\", \"86\", \"119\", \"92\", \"83\", \"50\", \"124\", \"111\", \"96\", \"5\", \"41\", \"82\", \"22\", \"107\", \"36\", \"32\", \"110\", \"24\", \"114\", \"47\", \"14\", \"116\", \"117\", \"8\", \"120\", \"121\", \"122\", \"123\", \"45\", \"103\", \"81\", \"102\", \"84\", \"80\", \"75\", \"87\", \"88\", \"89\", \"74\", \"91\", \"68\", \"64\", \"94\", \"57\", \"52\", \"98\", \"99\", \"49\", \"48\", \"62\"], \"type\": \"bar\", \"uid\": \"d8ca8e7f-de87-45c7-9348-1c6556e26d5c\"}], {\"autosize\": false, \"height\": 1000, \"width\": 1000, \"xaxis\": {\"tickfont\": {\"color\": \"black\", \"size\": 12}, \"title\": \"Feature Importances\"}, \"yaxis\": {\"automargin\": true}}, {\"showLink\": true, \"linkText\": \"Export to plot.ly\", \"plotlyServerURL\": \"https://plot.ly\"})});</script>"
      ]
     },
     "metadata": {},
     "output_type": "display_data"
    },
    {
     "name": "stdout",
     "output_type": "stream",
     "text": [
      "\n",
      "\n",
      "\u001b[1mExtraTree Classifier\u001b[0m\n",
      "Accuracy of the model for training data is: 0.9977349582083839\n",
      "Confusion Matrix for training data is:\n"
     ]
    },
    {
     "data": {
      "text/plain": [
       "Predicted  False  True  __all__\n",
       "Actual                         \n",
       "False      27802     3    27805\n",
       "True          68  3473     3541\n",
       "__all__    27870  3476    31346"
      ]
     },
     "metadata": {},
     "output_type": "display_data"
    },
    {
     "name": "stdout",
     "output_type": "stream",
     "text": [
      "Accuracy of the model for test data is: 0.9700140359831568\n",
      "Confusion Matrix for test data is:\n"
     ]
    },
    {
     "data": {
      "text/plain": [
       "Predicted  False  True  __all__\n",
       "Actual                         \n",
       "False       6890    47     6937\n",
       "True         188   712      900\n",
       "__all__     7078   759     7837"
      ]
     },
     "metadata": {},
     "output_type": "display_data"
    },
    {
     "data": {
      "application/vnd.plotly.v1+json": {
       "config": {
        "linkText": "Export to plot.ly",
        "plotlyServerURL": "https://plot.ly",
        "showLink": true
       },
       "data": [
        {
         "marker": {
          "color": "rgb(158,202,225)",
          "line": {
           "color": "rgb(8,48,107)",
           "width": 1.5
          }
         },
         "opacity": 0.6,
         "orientation": "h",
         "text": [
          0.0842,
          0.0403,
          0.0374,
          0.0368,
          0.0214,
          0.0191,
          0.014,
          0.0137,
          0.013,
          0.0127,
          0.0117,
          0.0113,
          0.0109,
          0.0107,
          0.0107,
          0.0105,
          0.0104,
          0.0103,
          0.0102,
          0.0099,
          0.0098,
          0.0098,
          0.0098,
          0.0097,
          0.0093,
          0.0089,
          0.0087,
          0.0083,
          0.0082,
          0.0082,
          0.0082,
          0.0081,
          0.0081,
          0.0079,
          0.0079,
          0.0077,
          0.0076,
          0.0076,
          0.0075,
          0.0073,
          0.0072,
          0.0071,
          0.007,
          0.0069,
          0.0069,
          0.0068,
          0.0066,
          0.0066,
          0.0066,
          0.0065,
          0.0065,
          0.0065,
          0.0065,
          0.0064,
          0.0064,
          0.0064,
          0.0064,
          0.0063,
          0.0063,
          0.0062,
          0.0062,
          0.0061,
          0.0061,
          0.0061,
          0.0059,
          0.0059,
          0.0059,
          0.0058,
          0.0058,
          0.0057,
          0.0057,
          0.0057,
          0.0056,
          0.0055,
          0.0055,
          0.0054,
          0.0054,
          0.0054,
          0.0053,
          0.0052,
          0.0052,
          0.0052,
          0.0051,
          0.0051,
          0.005,
          0.005,
          0.0049,
          0.0048,
          0.0047,
          0.0047,
          0.0046,
          0.0045,
          0.0045,
          0.0044,
          0.0044,
          0.0044,
          0.0043,
          0.0043,
          0.0043,
          0.0042,
          0.0042,
          0.0042,
          0.0042,
          0.0041,
          0.004,
          0.004,
          0.0039,
          0.0039,
          0.0039,
          0.0038,
          0.0038,
          0.0038,
          0.0038,
          0.0038,
          0.0037,
          0.0037,
          0.0036,
          0.0036,
          0.0036,
          0.0035,
          0.0034,
          0.0032,
          0.003,
          0.0029,
          0.0027
         ],
         "textposition": "outside",
         "type": "bar",
         "uid": "f3c66f8a-e73e-4e01-bac8-575f9750e58b",
         "x": [
          0.08423636956171875,
          0.040349149230235276,
          0.03738983345450529,
          0.03675969027306149,
          0.021353691543372043,
          0.019147613760519114,
          0.01401945520720948,
          0.013721265484810332,
          0.013025845714248724,
          0.012726256530850933,
          0.011695259815212185,
          0.01126257170672553,
          0.010948020892521363,
          0.010655654076146936,
          0.01065354393537766,
          0.010480630516757839,
          0.010390618298140305,
          0.010282680639683631,
          0.010155412968064308,
          0.009884489825099114,
          0.009792896233771938,
          0.009774388512105513,
          0.009754619072749885,
          0.00972318202903916,
          0.009333262291101919,
          0.008926819527450868,
          0.008718226709706975,
          0.008281911136093709,
          0.008169202440859393,
          0.008164911529482954,
          0.008159475626597888,
          0.008148068986948101,
          0.008065562506537305,
          0.00791586883898226,
          0.007855648555166708,
          0.007725387806565396,
          0.007647051440200695,
          0.007603929848145237,
          0.007474288361096104,
          0.00725887660296642,
          0.007226335276915774,
          0.007076800517311944,
          0.007018594804395238,
          0.00693848108092477,
          0.006865795925163158,
          0.0067530539578896775,
          0.00662834726686166,
          0.0066089861583940816,
          0.0065529920771789495,
          0.006527073175761849,
          0.00648933874069699,
          0.006486974682043764,
          0.00645301033507918,
          0.006440147373136046,
          0.0064378216580500275,
          0.006430345516978653,
          0.0063957664964012974,
          0.006339864847315734,
          0.006288706297099952,
          0.006240281741799824,
          0.006206443250595994,
          0.006118579484538838,
          0.006099625680036007,
          0.006055105863658635,
          0.005949957921142145,
          0.0059278386299505565,
          0.005891672668403076,
          0.005844810858124672,
          0.005779470327046646,
          0.005702068245004044,
          0.005689908077409686,
          0.005673755026618662,
          0.005569903787257939,
          0.0055076029194953075,
          0.005475028059801788,
          0.00544614038031182,
          0.005378252827400355,
          0.005372349811685212,
          0.00527343260116204,
          0.005212866694895489,
          0.0052109217737817525,
          0.005162544784187902,
          0.0051490320977329316,
          0.005085178042154656,
          0.0049964511045555195,
          0.004971251245171511,
          0.0049292130163472074,
          0.004779682950653652,
          0.004713817946134042,
          0.0046551473443699224,
          0.004642559828724045,
          0.004470978529343646,
          0.004464045593677817,
          0.00442896765815953,
          0.004364080389506737,
          0.0043623856335782375,
          0.004348594403990421,
          0.004347755877980109,
          0.004292622435532087,
          0.004227620425583676,
          0.0041755280335842426,
          0.004159949754964281,
          0.0041510113730106706,
          0.004103810855405426,
          0.004006402225502483,
          0.003982687296105898,
          0.0039470793213124975,
          0.0039157143361620616,
          0.003896844538905461,
          0.003847190147997978,
          0.0038423850485667247,
          0.0038377116772393637,
          0.0038327229674002352,
          0.0037579267029788366,
          0.0037108791350437473,
          0.0036771344748779107,
          0.0036432237163865114,
          0.00362585987956597,
          0.0036135701337186945,
          0.003489501115584854,
          0.0034223237223061317,
          0.0031545981297291747,
          0.0030412767002401357,
          0.0029045794215566945,
          0.0026520756769224142
         ],
         "y": [
          "2",
          "0",
          "3",
          "30",
          "1",
          "10",
          "5",
          "37",
          "31",
          "104",
          "53",
          "26",
          "68",
          "79",
          "6",
          "63",
          "27",
          "45",
          "71",
          "65",
          "4",
          "12",
          "80",
          "72",
          "28",
          "51",
          "43",
          "17",
          "35",
          "25",
          "34",
          "16",
          "38",
          "105",
          "9",
          "61",
          "11",
          "42",
          "107",
          "50",
          "19",
          "69",
          "93",
          "14",
          "44",
          "41",
          "89",
          "23",
          "91",
          "52",
          "48",
          "15",
          "81",
          "103",
          "8",
          "55",
          "96",
          "21",
          "36",
          "29",
          "7",
          "39",
          "60",
          "40",
          "102",
          "66",
          "90",
          "75",
          "98",
          "32",
          "97",
          "18",
          "84",
          "99",
          "101",
          "70",
          "83",
          "67",
          "116",
          "58",
          "112",
          "47",
          "78",
          "54",
          "109",
          "22",
          "94",
          "115",
          "73",
          "33",
          "113",
          "59",
          "56",
          "82",
          "118",
          "62",
          "114",
          "120",
          "122",
          "49",
          "57",
          "108",
          "87",
          "74",
          "111",
          "88",
          "64",
          "95",
          "20",
          "121",
          "46",
          "85",
          "110",
          "100",
          "86",
          "77",
          "76",
          "106",
          "13",
          "24",
          "119",
          "123",
          "124",
          "117",
          "92"
         ]
        }
       ],
       "layout": {
        "autosize": false,
        "height": 1000,
        "width": 1000,
        "xaxis": {
         "tickfont": {
          "color": "black",
          "size": 12
         },
         "title": "Feature Importances"
        },
        "yaxis": {
         "automargin": true
        }
       }
      },
      "text/html": [
       "<div id=\"0d33a05d-af4b-4610-8192-31bf124d2cb5\" style=\"height: 1000px; width: 1000px;\" class=\"plotly-graph-div\"></div><script type=\"text/javascript\">require([\"plotly\"], function(Plotly) { window.PLOTLYENV=window.PLOTLYENV || {};window.PLOTLYENV.BASE_URL=\"https://plot.ly\";Plotly.newPlot(\"0d33a05d-af4b-4610-8192-31bf124d2cb5\", [{\"marker\": {\"color\": \"rgb(158,202,225)\", \"line\": {\"color\": \"rgb(8,48,107)\", \"width\": 1.5}}, \"opacity\": 0.6, \"orientation\": \"h\", \"text\": [0.0842, 0.0403, 0.0374, 0.0368, 0.0214, 0.0191, 0.014, 0.0137, 0.013, 0.0127, 0.0117, 0.0113, 0.0109, 0.0107, 0.0107, 0.0105, 0.0104, 0.0103, 0.0102, 0.0099, 0.0098, 0.0098, 0.0098, 0.0097, 0.0093, 0.0089, 0.0087, 0.0083, 0.0082, 0.0082, 0.0082, 0.0081, 0.0081, 0.0079, 0.0079, 0.0077, 0.0076, 0.0076, 0.0075, 0.0073, 0.0072, 0.0071, 0.007, 0.0069, 0.0069, 0.0068, 0.0066, 0.0066, 0.0066, 0.0065, 0.0065, 0.0065, 0.0065, 0.0064, 0.0064, 0.0064, 0.0064, 0.0063, 0.0063, 0.0062, 0.0062, 0.0061, 0.0061, 0.0061, 0.0059, 0.0059, 0.0059, 0.0058, 0.0058, 0.0057, 0.0057, 0.0057, 0.0056, 0.0055, 0.0055, 0.0054, 0.0054, 0.0054, 0.0053, 0.0052, 0.0052, 0.0052, 0.0051, 0.0051, 0.005, 0.005, 0.0049, 0.0048, 0.0047, 0.0047, 0.0046, 0.0045, 0.0045, 0.0044, 0.0044, 0.0044, 0.0043, 0.0043, 0.0043, 0.0042, 0.0042, 0.0042, 0.0042, 0.0041, 0.004, 0.004, 0.0039, 0.0039, 0.0039, 0.0038, 0.0038, 0.0038, 0.0038, 0.0038, 0.0037, 0.0037, 0.0036, 0.0036, 0.0036, 0.0035, 0.0034, 0.0032, 0.003, 0.0029, 0.0027], \"textposition\": \"outside\", \"x\": [0.08423636956171875, 0.040349149230235276, 0.03738983345450529, 0.03675969027306149, 0.021353691543372043, 0.019147613760519114, 0.01401945520720948, 0.013721265484810332, 0.013025845714248724, 0.012726256530850933, 0.011695259815212185, 0.01126257170672553, 0.010948020892521363, 0.010655654076146936, 0.01065354393537766, 0.010480630516757839, 0.010390618298140305, 0.010282680639683631, 0.010155412968064308, 0.009884489825099114, 0.009792896233771938, 0.009774388512105513, 0.009754619072749885, 0.00972318202903916, 0.009333262291101919, 0.008926819527450868, 0.008718226709706975, 0.008281911136093709, 0.008169202440859393, 0.008164911529482954, 0.008159475626597888, 0.008148068986948101, 0.008065562506537305, 0.00791586883898226, 0.007855648555166708, 0.007725387806565396, 0.007647051440200695, 0.007603929848145237, 0.007474288361096104, 0.00725887660296642, 0.007226335276915774, 0.007076800517311944, 0.007018594804395238, 0.00693848108092477, 0.006865795925163158, 0.0067530539578896775, 0.00662834726686166, 0.0066089861583940816, 0.0065529920771789495, 0.006527073175761849, 0.00648933874069699, 0.006486974682043764, 0.00645301033507918, 0.006440147373136046, 0.0064378216580500275, 0.006430345516978653, 0.0063957664964012974, 0.006339864847315734, 0.006288706297099952, 0.006240281741799824, 0.006206443250595994, 0.006118579484538838, 0.006099625680036007, 0.006055105863658635, 0.005949957921142145, 0.0059278386299505565, 0.005891672668403076, 0.005844810858124672, 0.005779470327046646, 0.005702068245004044, 0.005689908077409686, 0.005673755026618662, 0.005569903787257939, 0.0055076029194953075, 0.005475028059801788, 0.00544614038031182, 0.005378252827400355, 0.005372349811685212, 0.00527343260116204, 0.005212866694895489, 0.0052109217737817525, 0.005162544784187902, 0.0051490320977329316, 0.005085178042154656, 0.0049964511045555195, 0.004971251245171511, 0.0049292130163472074, 0.004779682950653652, 0.004713817946134042, 0.0046551473443699224, 0.004642559828724045, 0.004470978529343646, 0.004464045593677817, 0.00442896765815953, 0.004364080389506737, 0.0043623856335782375, 0.004348594403990421, 0.004347755877980109, 0.004292622435532087, 0.004227620425583676, 0.0041755280335842426, 0.004159949754964281, 0.0041510113730106706, 0.004103810855405426, 0.004006402225502483, 0.003982687296105898, 0.0039470793213124975, 0.0039157143361620616, 0.003896844538905461, 0.003847190147997978, 0.0038423850485667247, 0.0038377116772393637, 0.0038327229674002352, 0.0037579267029788366, 0.0037108791350437473, 0.0036771344748779107, 0.0036432237163865114, 0.00362585987956597, 0.0036135701337186945, 0.003489501115584854, 0.0034223237223061317, 0.0031545981297291747, 0.0030412767002401357, 0.0029045794215566945, 0.0026520756769224142], \"y\": [\"2\", \"0\", \"3\", \"30\", \"1\", \"10\", \"5\", \"37\", \"31\", \"104\", \"53\", \"26\", \"68\", \"79\", \"6\", \"63\", \"27\", \"45\", \"71\", \"65\", \"4\", \"12\", \"80\", \"72\", \"28\", \"51\", \"43\", \"17\", \"35\", \"25\", \"34\", \"16\", \"38\", \"105\", \"9\", \"61\", \"11\", \"42\", \"107\", \"50\", \"19\", \"69\", \"93\", \"14\", \"44\", \"41\", \"89\", \"23\", \"91\", \"52\", \"48\", \"15\", \"81\", \"103\", \"8\", \"55\", \"96\", \"21\", \"36\", \"29\", \"7\", \"39\", \"60\", \"40\", \"102\", \"66\", \"90\", \"75\", \"98\", \"32\", \"97\", \"18\", \"84\", \"99\", \"101\", \"70\", \"83\", \"67\", \"116\", \"58\", \"112\", \"47\", \"78\", \"54\", \"109\", \"22\", \"94\", \"115\", \"73\", \"33\", \"113\", \"59\", \"56\", \"82\", \"118\", \"62\", \"114\", \"120\", \"122\", \"49\", \"57\", \"108\", \"87\", \"74\", \"111\", \"88\", \"64\", \"95\", \"20\", \"121\", \"46\", \"85\", \"110\", \"100\", \"86\", \"77\", \"76\", \"106\", \"13\", \"24\", \"119\", \"123\", \"124\", \"117\", \"92\"], \"type\": \"bar\", \"uid\": \"f3c66f8a-e73e-4e01-bac8-575f9750e58b\"}], {\"autosize\": false, \"height\": 1000, \"width\": 1000, \"xaxis\": {\"tickfont\": {\"color\": \"black\", \"size\": 12}, \"title\": \"Feature Importances\"}, \"yaxis\": {\"automargin\": true}}, {\"showLink\": true, \"linkText\": \"Export to plot.ly\", \"plotlyServerURL\": \"https://plot.ly\"})});</script>"
      ],
      "text/vnd.plotly.v1+html": [
       "<div id=\"0d33a05d-af4b-4610-8192-31bf124d2cb5\" style=\"height: 1000px; width: 1000px;\" class=\"plotly-graph-div\"></div><script type=\"text/javascript\">require([\"plotly\"], function(Plotly) { window.PLOTLYENV=window.PLOTLYENV || {};window.PLOTLYENV.BASE_URL=\"https://plot.ly\";Plotly.newPlot(\"0d33a05d-af4b-4610-8192-31bf124d2cb5\", [{\"marker\": {\"color\": \"rgb(158,202,225)\", \"line\": {\"color\": \"rgb(8,48,107)\", \"width\": 1.5}}, \"opacity\": 0.6, \"orientation\": \"h\", \"text\": [0.0842, 0.0403, 0.0374, 0.0368, 0.0214, 0.0191, 0.014, 0.0137, 0.013, 0.0127, 0.0117, 0.0113, 0.0109, 0.0107, 0.0107, 0.0105, 0.0104, 0.0103, 0.0102, 0.0099, 0.0098, 0.0098, 0.0098, 0.0097, 0.0093, 0.0089, 0.0087, 0.0083, 0.0082, 0.0082, 0.0082, 0.0081, 0.0081, 0.0079, 0.0079, 0.0077, 0.0076, 0.0076, 0.0075, 0.0073, 0.0072, 0.0071, 0.007, 0.0069, 0.0069, 0.0068, 0.0066, 0.0066, 0.0066, 0.0065, 0.0065, 0.0065, 0.0065, 0.0064, 0.0064, 0.0064, 0.0064, 0.0063, 0.0063, 0.0062, 0.0062, 0.0061, 0.0061, 0.0061, 0.0059, 0.0059, 0.0059, 0.0058, 0.0058, 0.0057, 0.0057, 0.0057, 0.0056, 0.0055, 0.0055, 0.0054, 0.0054, 0.0054, 0.0053, 0.0052, 0.0052, 0.0052, 0.0051, 0.0051, 0.005, 0.005, 0.0049, 0.0048, 0.0047, 0.0047, 0.0046, 0.0045, 0.0045, 0.0044, 0.0044, 0.0044, 0.0043, 0.0043, 0.0043, 0.0042, 0.0042, 0.0042, 0.0042, 0.0041, 0.004, 0.004, 0.0039, 0.0039, 0.0039, 0.0038, 0.0038, 0.0038, 0.0038, 0.0038, 0.0037, 0.0037, 0.0036, 0.0036, 0.0036, 0.0035, 0.0034, 0.0032, 0.003, 0.0029, 0.0027], \"textposition\": \"outside\", \"x\": [0.08423636956171875, 0.040349149230235276, 0.03738983345450529, 0.03675969027306149, 0.021353691543372043, 0.019147613760519114, 0.01401945520720948, 0.013721265484810332, 0.013025845714248724, 0.012726256530850933, 0.011695259815212185, 0.01126257170672553, 0.010948020892521363, 0.010655654076146936, 0.01065354393537766, 0.010480630516757839, 0.010390618298140305, 0.010282680639683631, 0.010155412968064308, 0.009884489825099114, 0.009792896233771938, 0.009774388512105513, 0.009754619072749885, 0.00972318202903916, 0.009333262291101919, 0.008926819527450868, 0.008718226709706975, 0.008281911136093709, 0.008169202440859393, 0.008164911529482954, 0.008159475626597888, 0.008148068986948101, 0.008065562506537305, 0.00791586883898226, 0.007855648555166708, 0.007725387806565396, 0.007647051440200695, 0.007603929848145237, 0.007474288361096104, 0.00725887660296642, 0.007226335276915774, 0.007076800517311944, 0.007018594804395238, 0.00693848108092477, 0.006865795925163158, 0.0067530539578896775, 0.00662834726686166, 0.0066089861583940816, 0.0065529920771789495, 0.006527073175761849, 0.00648933874069699, 0.006486974682043764, 0.00645301033507918, 0.006440147373136046, 0.0064378216580500275, 0.006430345516978653, 0.0063957664964012974, 0.006339864847315734, 0.006288706297099952, 0.006240281741799824, 0.006206443250595994, 0.006118579484538838, 0.006099625680036007, 0.006055105863658635, 0.005949957921142145, 0.0059278386299505565, 0.005891672668403076, 0.005844810858124672, 0.005779470327046646, 0.005702068245004044, 0.005689908077409686, 0.005673755026618662, 0.005569903787257939, 0.0055076029194953075, 0.005475028059801788, 0.00544614038031182, 0.005378252827400355, 0.005372349811685212, 0.00527343260116204, 0.005212866694895489, 0.0052109217737817525, 0.005162544784187902, 0.0051490320977329316, 0.005085178042154656, 0.0049964511045555195, 0.004971251245171511, 0.0049292130163472074, 0.004779682950653652, 0.004713817946134042, 0.0046551473443699224, 0.004642559828724045, 0.004470978529343646, 0.004464045593677817, 0.00442896765815953, 0.004364080389506737, 0.0043623856335782375, 0.004348594403990421, 0.004347755877980109, 0.004292622435532087, 0.004227620425583676, 0.0041755280335842426, 0.004159949754964281, 0.0041510113730106706, 0.004103810855405426, 0.004006402225502483, 0.003982687296105898, 0.0039470793213124975, 0.0039157143361620616, 0.003896844538905461, 0.003847190147997978, 0.0038423850485667247, 0.0038377116772393637, 0.0038327229674002352, 0.0037579267029788366, 0.0037108791350437473, 0.0036771344748779107, 0.0036432237163865114, 0.00362585987956597, 0.0036135701337186945, 0.003489501115584854, 0.0034223237223061317, 0.0031545981297291747, 0.0030412767002401357, 0.0029045794215566945, 0.0026520756769224142], \"y\": [\"2\", \"0\", \"3\", \"30\", \"1\", \"10\", \"5\", \"37\", \"31\", \"104\", \"53\", \"26\", \"68\", \"79\", \"6\", \"63\", \"27\", \"45\", \"71\", \"65\", \"4\", \"12\", \"80\", \"72\", \"28\", \"51\", \"43\", \"17\", \"35\", \"25\", \"34\", \"16\", \"38\", \"105\", \"9\", \"61\", \"11\", \"42\", \"107\", \"50\", \"19\", \"69\", \"93\", \"14\", \"44\", \"41\", \"89\", \"23\", \"91\", \"52\", \"48\", \"15\", \"81\", \"103\", \"8\", \"55\", \"96\", \"21\", \"36\", \"29\", \"7\", \"39\", \"60\", \"40\", \"102\", \"66\", \"90\", \"75\", \"98\", \"32\", \"97\", \"18\", \"84\", \"99\", \"101\", \"70\", \"83\", \"67\", \"116\", \"58\", \"112\", \"47\", \"78\", \"54\", \"109\", \"22\", \"94\", \"115\", \"73\", \"33\", \"113\", \"59\", \"56\", \"82\", \"118\", \"62\", \"114\", \"120\", \"122\", \"49\", \"57\", \"108\", \"87\", \"74\", \"111\", \"88\", \"64\", \"95\", \"20\", \"121\", \"46\", \"85\", \"110\", \"100\", \"86\", \"77\", \"76\", \"106\", \"13\", \"24\", \"119\", \"123\", \"124\", \"117\", \"92\"], \"type\": \"bar\", \"uid\": \"f3c66f8a-e73e-4e01-bac8-575f9750e58b\"}], {\"autosize\": false, \"height\": 1000, \"width\": 1000, \"xaxis\": {\"tickfont\": {\"color\": \"black\", \"size\": 12}, \"title\": \"Feature Importances\"}, \"yaxis\": {\"automargin\": true}}, {\"showLink\": true, \"linkText\": \"Export to plot.ly\", \"plotlyServerURL\": \"https://plot.ly\"})});</script>"
      ]
     },
     "metadata": {},
     "output_type": "display_data"
    },
    {
     "name": "stdout",
     "output_type": "stream",
     "text": [
      "\n",
      "\n",
      "\u001b[1mXGB Classifier\u001b[0m\n",
      "Accuracy of the model for training data is: 0.9797103298666496\n",
      "Confusion Matrix for training data is:\n"
     ]
    },
    {
     "data": {
      "text/plain": [
       "Predicted  False  True  __all__\n",
       "Actual                         \n",
       "False      27651   154    27805\n",
       "True         482  3059     3541\n",
       "__all__    28133  3213    31346"
      ]
     },
     "metadata": {},
     "output_type": "display_data"
    },
    {
     "name": "stdout",
     "output_type": "stream",
     "text": [
      "Accuracy of the model for test data is: 0.9734592318489218\n",
      "Confusion Matrix for test data is:\n"
     ]
    },
    {
     "data": {
      "text/plain": [
       "Predicted  False  True  __all__\n",
       "Actual                         \n",
       "False       6875    62     6937\n",
       "True         146   754      900\n",
       "__all__     7021   816     7837"
      ]
     },
     "metadata": {},
     "output_type": "display_data"
    },
    {
     "data": {
      "application/vnd.plotly.v1+json": {
       "config": {
        "linkText": "Export to plot.ly",
        "plotlyServerURL": "https://plot.ly",
        "showLink": true
       },
       "data": [
        {
         "marker": {
          "color": "rgb(158,202,225)",
          "line": {
           "color": "rgb(8,48,107)",
           "width": 1.5
          }
         },
         "opacity": 0.6,
         "orientation": "h",
         "text": [
          0.1263,
          0.066,
          0.0502,
          0.0445,
          0.0387,
          0.0359,
          0.0359,
          0.023,
          0.023,
          0.0215,
          0.0215,
          0.0201,
          0.0172,
          0.0172,
          0.0172,
          0.0172,
          0.0158,
          0.0158,
          0.0143,
          0.0129,
          0.0129,
          0.0129,
          0.0115,
          0.0115,
          0.01,
          0.01,
          0.01,
          0.01,
          0.0086,
          0.0086,
          0.0086,
          0.0086,
          0.0086,
          0.0086,
          0.0086,
          0.0072,
          0.0072,
          0.0072,
          0.0072,
          0.0072,
          0.0057,
          0.0057,
          0.0057,
          0.0057,
          0.0057,
          0.0057,
          0.0057,
          0.0057,
          0.0057,
          0.0043,
          0.0043,
          0.0043,
          0.0043,
          0.0043,
          0.0043,
          0.0043,
          0.0043,
          0.0043,
          0.0043,
          0.0043,
          0.0043,
          0.0043,
          0.0043,
          0.0043,
          0.0029,
          0.0029,
          0.0029,
          0.0029,
          0.0029,
          0.0029,
          0.0029,
          0.0029,
          0.0029,
          0.0029,
          0.0014,
          0.0014,
          0.0014,
          0.0014,
          0.0014,
          0.0014,
          0.0014,
          0.0014,
          0.0014,
          0.0014,
          0.0014,
          0.0014,
          0.0014,
          0.0014,
          0.0014,
          0.0014,
          0.0014,
          0.0014,
          0.0014,
          0.0014,
          0.0014,
          0.0014,
          0.0014,
          0.0014,
          0.0014,
          0,
          0,
          0,
          0,
          0,
          0,
          0,
          0,
          0,
          0,
          0,
          0,
          0,
          0,
          0,
          0,
          0,
          0,
          0,
          0,
          0,
          0,
          0,
          0,
          0,
          0
         ],
         "textposition": "outside",
         "type": "bar",
         "uid": "3f77e4d1-acc9-441a-a282-e1269cfeb63c",
         "x": [
          0.12625537812709808,
          0.06599713116884232,
          0.050215207040309906,
          0.04447632655501366,
          0.03873744606971741,
          0.03586800396442413,
          0.03586800396442413,
          0.022955523803830147,
          0.022955523803830147,
          0.02152080275118351,
          0.02152080275118351,
          0.020086083561182022,
          0.017216643318533897,
          0.017216643318533897,
          0.017216643318533897,
          0.017216643318533897,
          0.01578192226588726,
          0.01578192226588726,
          0.014347202144563198,
          0.012912482023239136,
          0.012912482023239136,
          0.012912482023239136,
          0.011477761901915073,
          0.011477761901915073,
          0.010043041780591011,
          0.010043041780591011,
          0.010043041780591011,
          0.010043041780591011,
          0.008608321659266949,
          0.008608321659266949,
          0.008608321659266949,
          0.008608321659266949,
          0.008608321659266949,
          0.008608321659266949,
          0.008608321659266949,
          0.007173601072281599,
          0.007173601072281599,
          0.007173601072281599,
          0.007173601072281599,
          0.007173601072281599,
          0.005738880950957537,
          0.005738880950957537,
          0.005738880950957537,
          0.005738880950957537,
          0.005738880950957537,
          0.005738880950957537,
          0.005738880950957537,
          0.005738880950957537,
          0.005738880950957537,
          0.004304160829633474,
          0.004304160829633474,
          0.004304160829633474,
          0.004304160829633474,
          0.004304160829633474,
          0.004304160829633474,
          0.004304160829633474,
          0.004304160829633474,
          0.004304160829633474,
          0.004304160829633474,
          0.004304160829633474,
          0.004304160829633474,
          0.004304160829633474,
          0.004304160829633474,
          0.004304160829633474,
          0.0028694404754787683,
          0.0028694404754787683,
          0.0028694404754787683,
          0.0028694404754787683,
          0.0028694404754787683,
          0.0028694404754787683,
          0.0028694404754787683,
          0.0028694404754787683,
          0.0028694404754787683,
          0.0028694404754787683,
          0.0014347202377393842,
          0.0014347202377393842,
          0.0014347202377393842,
          0.0014347202377393842,
          0.0014347202377393842,
          0.0014347202377393842,
          0.0014347202377393842,
          0.0014347202377393842,
          0.0014347202377393842,
          0.0014347202377393842,
          0.0014347202377393842,
          0.0014347202377393842,
          0.0014347202377393842,
          0.0014347202377393842,
          0.0014347202377393842,
          0.0014347202377393842,
          0.0014347202377393842,
          0.0014347202377393842,
          0.0014347202377393842,
          0.0014347202377393842,
          0.0014347202377393842,
          0.0014347202377393842,
          0.0014347202377393842,
          0.0014347202377393842,
          0.0014347202377393842,
          0,
          0,
          0,
          0,
          0,
          0,
          0,
          0,
          0,
          0,
          0,
          0,
          0,
          0,
          0,
          0,
          0,
          0,
          0,
          0,
          0,
          0,
          0,
          0,
          0,
          0
         ],
         "y": [
          "0",
          "2",
          "3",
          "17",
          "30",
          "1",
          "26",
          "7",
          "101",
          "25",
          "42",
          "12",
          "6",
          "13",
          "16",
          "93",
          "90",
          "58",
          "20",
          "109",
          "44",
          "100",
          "28",
          "37",
          "63",
          "92",
          "4",
          "34",
          "75",
          "5",
          "61",
          "78",
          "72",
          "54",
          "56",
          "65",
          "33",
          "55",
          "31",
          "46",
          "9",
          "49",
          "59",
          "69",
          "81",
          "10",
          "71",
          "113",
          "88",
          "67",
          "115",
          "60",
          "120",
          "116",
          "108",
          "66",
          "104",
          "23",
          "68",
          "95",
          "89",
          "48",
          "119",
          "106",
          "76",
          "84",
          "114",
          "64",
          "51",
          "39",
          "105",
          "18",
          "19",
          "94",
          "96",
          "97",
          "99",
          "83",
          "117",
          "86",
          "111",
          "85",
          "62",
          "38",
          "53",
          "32",
          "29",
          "27",
          "40",
          "22",
          "21",
          "15",
          "14",
          "11",
          "8",
          "70",
          "73",
          "77",
          "35",
          "118",
          "107",
          "24",
          "112",
          "121",
          "122",
          "110",
          "123",
          "82",
          "36",
          "50",
          "79",
          "87",
          "74",
          "91",
          "57",
          "52",
          "47",
          "80",
          "45",
          "98",
          "43",
          "41",
          "102",
          "103",
          "124"
         ]
        }
       ],
       "layout": {
        "autosize": false,
        "height": 1000,
        "width": 1000,
        "xaxis": {
         "tickfont": {
          "color": "black",
          "size": 12
         },
         "title": "Feature Importances"
        },
        "yaxis": {
         "automargin": true
        }
       }
      },
      "text/html": [
       "<div id=\"61088667-db00-450e-a66b-ab8b2ac0b74c\" style=\"height: 1000px; width: 1000px;\" class=\"plotly-graph-div\"></div><script type=\"text/javascript\">require([\"plotly\"], function(Plotly) { window.PLOTLYENV=window.PLOTLYENV || {};window.PLOTLYENV.BASE_URL=\"https://plot.ly\";Plotly.newPlot(\"61088667-db00-450e-a66b-ab8b2ac0b74c\", [{\"marker\": {\"color\": \"rgb(158,202,225)\", \"line\": {\"color\": \"rgb(8,48,107)\", \"width\": 1.5}}, \"opacity\": 0.6, \"orientation\": \"h\", \"text\": [0.1263, 0.066, 0.0502, 0.0445, 0.0387, 0.0359, 0.0359, 0.023, 0.023, 0.0215, 0.0215, 0.0201, 0.0172, 0.0172, 0.0172, 0.0172, 0.0158, 0.0158, 0.0143, 0.0129, 0.0129, 0.0129, 0.0115, 0.0115, 0.01, 0.01, 0.01, 0.01, 0.0086, 0.0086, 0.0086, 0.0086, 0.0086, 0.0086, 0.0086, 0.0072, 0.0072, 0.0072, 0.0072, 0.0072, 0.0057, 0.0057, 0.0057, 0.0057, 0.0057, 0.0057, 0.0057, 0.0057, 0.0057, 0.0043, 0.0043, 0.0043, 0.0043, 0.0043, 0.0043, 0.0043, 0.0043, 0.0043, 0.0043, 0.0043, 0.0043, 0.0043, 0.0043, 0.0043, 0.0029, 0.0029, 0.0029, 0.0029, 0.0029, 0.0029, 0.0029, 0.0029, 0.0029, 0.0029, 0.0014, 0.0014, 0.0014, 0.0014, 0.0014, 0.0014, 0.0014, 0.0014, 0.0014, 0.0014, 0.0014, 0.0014, 0.0014, 0.0014, 0.0014, 0.0014, 0.0014, 0.0014, 0.0014, 0.0014, 0.0014, 0.0014, 0.0014, 0.0014, 0.0014, 0.0, 0.0, 0.0, 0.0, 0.0, 0.0, 0.0, 0.0, 0.0, 0.0, 0.0, 0.0, 0.0, 0.0, 0.0, 0.0, 0.0, 0.0, 0.0, 0.0, 0.0, 0.0, 0.0, 0.0, 0.0, 0.0], \"textposition\": \"outside\", \"x\": [0.12625537812709808, 0.06599713116884232, 0.050215207040309906, 0.04447632655501366, 0.03873744606971741, 0.03586800396442413, 0.03586800396442413, 0.022955523803830147, 0.022955523803830147, 0.02152080275118351, 0.02152080275118351, 0.020086083561182022, 0.017216643318533897, 0.017216643318533897, 0.017216643318533897, 0.017216643318533897, 0.01578192226588726, 0.01578192226588726, 0.014347202144563198, 0.012912482023239136, 0.012912482023239136, 0.012912482023239136, 0.011477761901915073, 0.011477761901915073, 0.010043041780591011, 0.010043041780591011, 0.010043041780591011, 0.010043041780591011, 0.008608321659266949, 0.008608321659266949, 0.008608321659266949, 0.008608321659266949, 0.008608321659266949, 0.008608321659266949, 0.008608321659266949, 0.007173601072281599, 0.007173601072281599, 0.007173601072281599, 0.007173601072281599, 0.007173601072281599, 0.005738880950957537, 0.005738880950957537, 0.005738880950957537, 0.005738880950957537, 0.005738880950957537, 0.005738880950957537, 0.005738880950957537, 0.005738880950957537, 0.005738880950957537, 0.004304160829633474, 0.004304160829633474, 0.004304160829633474, 0.004304160829633474, 0.004304160829633474, 0.004304160829633474, 0.004304160829633474, 0.004304160829633474, 0.004304160829633474, 0.004304160829633474, 0.004304160829633474, 0.004304160829633474, 0.004304160829633474, 0.004304160829633474, 0.004304160829633474, 0.0028694404754787683, 0.0028694404754787683, 0.0028694404754787683, 0.0028694404754787683, 0.0028694404754787683, 0.0028694404754787683, 0.0028694404754787683, 0.0028694404754787683, 0.0028694404754787683, 0.0028694404754787683, 0.0014347202377393842, 0.0014347202377393842, 0.0014347202377393842, 0.0014347202377393842, 0.0014347202377393842, 0.0014347202377393842, 0.0014347202377393842, 0.0014347202377393842, 0.0014347202377393842, 0.0014347202377393842, 0.0014347202377393842, 0.0014347202377393842, 0.0014347202377393842, 0.0014347202377393842, 0.0014347202377393842, 0.0014347202377393842, 0.0014347202377393842, 0.0014347202377393842, 0.0014347202377393842, 0.0014347202377393842, 0.0014347202377393842, 0.0014347202377393842, 0.0014347202377393842, 0.0014347202377393842, 0.0014347202377393842, 0.0, 0.0, 0.0, 0.0, 0.0, 0.0, 0.0, 0.0, 0.0, 0.0, 0.0, 0.0, 0.0, 0.0, 0.0, 0.0, 0.0, 0.0, 0.0, 0.0, 0.0, 0.0, 0.0, 0.0, 0.0, 0.0], \"y\": [\"0\", \"2\", \"3\", \"17\", \"30\", \"1\", \"26\", \"7\", \"101\", \"25\", \"42\", \"12\", \"6\", \"13\", \"16\", \"93\", \"90\", \"58\", \"20\", \"109\", \"44\", \"100\", \"28\", \"37\", \"63\", \"92\", \"4\", \"34\", \"75\", \"5\", \"61\", \"78\", \"72\", \"54\", \"56\", \"65\", \"33\", \"55\", \"31\", \"46\", \"9\", \"49\", \"59\", \"69\", \"81\", \"10\", \"71\", \"113\", \"88\", \"67\", \"115\", \"60\", \"120\", \"116\", \"108\", \"66\", \"104\", \"23\", \"68\", \"95\", \"89\", \"48\", \"119\", \"106\", \"76\", \"84\", \"114\", \"64\", \"51\", \"39\", \"105\", \"18\", \"19\", \"94\", \"96\", \"97\", \"99\", \"83\", \"117\", \"86\", \"111\", \"85\", \"62\", \"38\", \"53\", \"32\", \"29\", \"27\", \"40\", \"22\", \"21\", \"15\", \"14\", \"11\", \"8\", \"70\", \"73\", \"77\", \"35\", \"118\", \"107\", \"24\", \"112\", \"121\", \"122\", \"110\", \"123\", \"82\", \"36\", \"50\", \"79\", \"87\", \"74\", \"91\", \"57\", \"52\", \"47\", \"80\", \"45\", \"98\", \"43\", \"41\", \"102\", \"103\", \"124\"], \"type\": \"bar\", \"uid\": \"3f77e4d1-acc9-441a-a282-e1269cfeb63c\"}], {\"autosize\": false, \"height\": 1000, \"width\": 1000, \"xaxis\": {\"tickfont\": {\"color\": \"black\", \"size\": 12}, \"title\": \"Feature Importances\"}, \"yaxis\": {\"automargin\": true}}, {\"showLink\": true, \"linkText\": \"Export to plot.ly\", \"plotlyServerURL\": \"https://plot.ly\"})});</script>"
      ],
      "text/vnd.plotly.v1+html": [
       "<div id=\"61088667-db00-450e-a66b-ab8b2ac0b74c\" style=\"height: 1000px; width: 1000px;\" class=\"plotly-graph-div\"></div><script type=\"text/javascript\">require([\"plotly\"], function(Plotly) { window.PLOTLYENV=window.PLOTLYENV || {};window.PLOTLYENV.BASE_URL=\"https://plot.ly\";Plotly.newPlot(\"61088667-db00-450e-a66b-ab8b2ac0b74c\", [{\"marker\": {\"color\": \"rgb(158,202,225)\", \"line\": {\"color\": \"rgb(8,48,107)\", \"width\": 1.5}}, \"opacity\": 0.6, \"orientation\": \"h\", \"text\": [0.1263, 0.066, 0.0502, 0.0445, 0.0387, 0.0359, 0.0359, 0.023, 0.023, 0.0215, 0.0215, 0.0201, 0.0172, 0.0172, 0.0172, 0.0172, 0.0158, 0.0158, 0.0143, 0.0129, 0.0129, 0.0129, 0.0115, 0.0115, 0.01, 0.01, 0.01, 0.01, 0.0086, 0.0086, 0.0086, 0.0086, 0.0086, 0.0086, 0.0086, 0.0072, 0.0072, 0.0072, 0.0072, 0.0072, 0.0057, 0.0057, 0.0057, 0.0057, 0.0057, 0.0057, 0.0057, 0.0057, 0.0057, 0.0043, 0.0043, 0.0043, 0.0043, 0.0043, 0.0043, 0.0043, 0.0043, 0.0043, 0.0043, 0.0043, 0.0043, 0.0043, 0.0043, 0.0043, 0.0029, 0.0029, 0.0029, 0.0029, 0.0029, 0.0029, 0.0029, 0.0029, 0.0029, 0.0029, 0.0014, 0.0014, 0.0014, 0.0014, 0.0014, 0.0014, 0.0014, 0.0014, 0.0014, 0.0014, 0.0014, 0.0014, 0.0014, 0.0014, 0.0014, 0.0014, 0.0014, 0.0014, 0.0014, 0.0014, 0.0014, 0.0014, 0.0014, 0.0014, 0.0014, 0.0, 0.0, 0.0, 0.0, 0.0, 0.0, 0.0, 0.0, 0.0, 0.0, 0.0, 0.0, 0.0, 0.0, 0.0, 0.0, 0.0, 0.0, 0.0, 0.0, 0.0, 0.0, 0.0, 0.0, 0.0, 0.0], \"textposition\": \"outside\", \"x\": [0.12625537812709808, 0.06599713116884232, 0.050215207040309906, 0.04447632655501366, 0.03873744606971741, 0.03586800396442413, 0.03586800396442413, 0.022955523803830147, 0.022955523803830147, 0.02152080275118351, 0.02152080275118351, 0.020086083561182022, 0.017216643318533897, 0.017216643318533897, 0.017216643318533897, 0.017216643318533897, 0.01578192226588726, 0.01578192226588726, 0.014347202144563198, 0.012912482023239136, 0.012912482023239136, 0.012912482023239136, 0.011477761901915073, 0.011477761901915073, 0.010043041780591011, 0.010043041780591011, 0.010043041780591011, 0.010043041780591011, 0.008608321659266949, 0.008608321659266949, 0.008608321659266949, 0.008608321659266949, 0.008608321659266949, 0.008608321659266949, 0.008608321659266949, 0.007173601072281599, 0.007173601072281599, 0.007173601072281599, 0.007173601072281599, 0.007173601072281599, 0.005738880950957537, 0.005738880950957537, 0.005738880950957537, 0.005738880950957537, 0.005738880950957537, 0.005738880950957537, 0.005738880950957537, 0.005738880950957537, 0.005738880950957537, 0.004304160829633474, 0.004304160829633474, 0.004304160829633474, 0.004304160829633474, 0.004304160829633474, 0.004304160829633474, 0.004304160829633474, 0.004304160829633474, 0.004304160829633474, 0.004304160829633474, 0.004304160829633474, 0.004304160829633474, 0.004304160829633474, 0.004304160829633474, 0.004304160829633474, 0.0028694404754787683, 0.0028694404754787683, 0.0028694404754787683, 0.0028694404754787683, 0.0028694404754787683, 0.0028694404754787683, 0.0028694404754787683, 0.0028694404754787683, 0.0028694404754787683, 0.0028694404754787683, 0.0014347202377393842, 0.0014347202377393842, 0.0014347202377393842, 0.0014347202377393842, 0.0014347202377393842, 0.0014347202377393842, 0.0014347202377393842, 0.0014347202377393842, 0.0014347202377393842, 0.0014347202377393842, 0.0014347202377393842, 0.0014347202377393842, 0.0014347202377393842, 0.0014347202377393842, 0.0014347202377393842, 0.0014347202377393842, 0.0014347202377393842, 0.0014347202377393842, 0.0014347202377393842, 0.0014347202377393842, 0.0014347202377393842, 0.0014347202377393842, 0.0014347202377393842, 0.0014347202377393842, 0.0014347202377393842, 0.0, 0.0, 0.0, 0.0, 0.0, 0.0, 0.0, 0.0, 0.0, 0.0, 0.0, 0.0, 0.0, 0.0, 0.0, 0.0, 0.0, 0.0, 0.0, 0.0, 0.0, 0.0, 0.0, 0.0, 0.0, 0.0], \"y\": [\"0\", \"2\", \"3\", \"17\", \"30\", \"1\", \"26\", \"7\", \"101\", \"25\", \"42\", \"12\", \"6\", \"13\", \"16\", \"93\", \"90\", \"58\", \"20\", \"109\", \"44\", \"100\", \"28\", \"37\", \"63\", \"92\", \"4\", \"34\", \"75\", \"5\", \"61\", \"78\", \"72\", \"54\", \"56\", \"65\", \"33\", \"55\", \"31\", \"46\", \"9\", \"49\", \"59\", \"69\", \"81\", \"10\", \"71\", \"113\", \"88\", \"67\", \"115\", \"60\", \"120\", \"116\", \"108\", \"66\", \"104\", \"23\", \"68\", \"95\", \"89\", \"48\", \"119\", \"106\", \"76\", \"84\", \"114\", \"64\", \"51\", \"39\", \"105\", \"18\", \"19\", \"94\", \"96\", \"97\", \"99\", \"83\", \"117\", \"86\", \"111\", \"85\", \"62\", \"38\", \"53\", \"32\", \"29\", \"27\", \"40\", \"22\", \"21\", \"15\", \"14\", \"11\", \"8\", \"70\", \"73\", \"77\", \"35\", \"118\", \"107\", \"24\", \"112\", \"121\", \"122\", \"110\", \"123\", \"82\", \"36\", \"50\", \"79\", \"87\", \"74\", \"91\", \"57\", \"52\", \"47\", \"80\", \"45\", \"98\", \"43\", \"41\", \"102\", \"103\", \"124\"], \"type\": \"bar\", \"uid\": \"3f77e4d1-acc9-441a-a282-e1269cfeb63c\"}], {\"autosize\": false, \"height\": 1000, \"width\": 1000, \"xaxis\": {\"tickfont\": {\"color\": \"black\", \"size\": 12}, \"title\": \"Feature Importances\"}, \"yaxis\": {\"automargin\": true}}, {\"showLink\": true, \"linkText\": \"Export to plot.ly\", \"plotlyServerURL\": \"https://plot.ly\"})});</script>"
      ]
     },
     "metadata": {},
     "output_type": "display_data"
    },
    {
     "name": "stdout",
     "output_type": "stream",
     "text": [
      "\n",
      "\n",
      "\u001b[1mBagging Classifier\u001b[0m\n",
      "Accuracy of the model for training data is: 0.9956613283991578\n",
      "Confusion Matrix for training data is:\n"
     ]
    },
    {
     "data": {
      "text/plain": [
       "Predicted  False  True  __all__\n",
       "Actual                         \n",
       "False      27780    25    27805\n",
       "True         111  3430     3541\n",
       "__all__    27891  3455    31346"
      ]
     },
     "metadata": {},
     "output_type": "display_data"
    },
    {
     "name": "stdout",
     "output_type": "stream",
     "text": [
      "Accuracy of the model for test data is: 0.9742248309302028\n",
      "Confusion Matrix for test data is:\n"
     ]
    },
    {
     "data": {
      "text/plain": [
       "Predicted  False  True  __all__\n",
       "Actual                         \n",
       "False       6880    57     6937\n",
       "True         145   755      900\n",
       "__all__     7025   812     7837"
      ]
     },
     "metadata": {},
     "output_type": "display_data"
    },
    {
     "name": "stdout",
     "output_type": "stream",
     "text": [
      "\n",
      "\n",
      "\u001b[1mNeural Network-1\u001b[0m\n",
      "The accuracy of the model on training data is: 0.9949594844637274\n"
     ]
    },
    {
     "data": {
      "text/plain": [
       "Predicted  False  True  __all__\n",
       "Actual                         \n",
       "False      27732    73    27805\n",
       "True          85  3456     3541\n",
       "__all__    27817  3529    31346"
      ]
     },
     "metadata": {},
     "output_type": "display_data"
    },
    {
     "name": "stdout",
     "output_type": "stream",
     "text": [
      "The accuracy of the model on test data is: 0.9716728339925992\n"
     ]
    },
    {
     "data": {
      "text/plain": [
       "Predicted  False  True  __all__\n",
       "Actual                         \n",
       "False       6830   107     6937\n",
       "True         115   785      900\n",
       "__all__     6945   892     7837"
      ]
     },
     "metadata": {},
     "output_type": "display_data"
    },
    {
     "name": "stdout",
     "output_type": "stream",
     "text": [
      "\n",
      "\n"
     ]
    }
   ],
   "source": [
    "table_80_50_train=pd.DataFrame(columns=['accuracy','TP','TN','FP','FN','FPR','FNR'])\n",
    "table_80_50_test=pd.DataFrame(columns=['accuracy','TP','TN','FP','FN','FPR','FNR','auc','MCC','Precision','Recall'])\n",
    "\n",
    "feat_imp=[None]*5\n",
    "j=0\n",
    "for i in range(0,8):\n",
    "    if i>=1 and i<=5:\n",
    "        model,cm_train,cm_test,acc_train,acc_test,roc_auc,feat_imp[j],mcc,prec,rec=f[i](X_train,Y_train,X_test,Y_test,np.arange(0,125).astype(str))\n",
    "        j=j+1\n",
    "    else:\n",
    "        model,cm_train,cm_test,acc_train,acc_test,roc_auc,mcc,prec,rec=f[i](X_train,Y_train,X_test,Y_test)\n",
    "    table_80_50_train.loc[i]=   ([acc_train,cm_train.TP,cm_train.TN,cm_train.FP,cm_train.FN,cm_train.FPR,cm_train.FNR])\n",
    "    table_80_50_test.loc[i] =   ([acc_test ,cm_test.TP, cm_test.TN, cm_test.FP, cm_test.FN, cm_test.FPR, cm_test.FNR,roc_auc,mcc,prec,rec])\n",
    "    print(\"\\n\")"
   ]
  },
  {
   "cell_type": "code",
   "execution_count": 32,
   "metadata": {},
   "outputs": [
    {
     "data": {
      "application/vnd.plotly.v1+json": {
       "config": {
        "linkText": "Export to plot.ly",
        "plotlyServerURL": "https://plot.ly",
        "showLink": true
       },
       "data": [
        {
         "mode": "lines",
         "name": "KNN_model",
         "type": "scatter",
         "uid": "7e205b53-dd8b-4298-9bac-b5e95f4b060c",
         "x": [
          "accuracy",
          "auc",
          "MCC",
          "Precision",
          "Recall"
         ],
         "y": [
          0.9703968355237974,
          0.9054380696106226,
          0.8492472257980412,
          0.9123456790123456,
          0.8211111111111111
         ]
        },
        {
         "mode": "lines+markers",
         "name": "XGB",
         "type": "scatter",
         "uid": "b2294341-8c55-4aae-92a1-bc9ea2eaf5b3",
         "x": [
          "accuracy",
          "auc",
          "MCC",
          "Precision",
          "Recall"
         ],
         "y": [
          0.9734592318489218,
          0.9144200983454263,
          0.8652335301629064,
          0.9240196078431373,
          0.8377777777777777
         ]
        },
        {
         "marker": {
          "symbol": "x"
         },
         "mode": "lines+markers",
         "name": "Random Forest",
         "type": "scatter",
         "uid": "74067397-6e7d-4433-bcf1-351f6b3088c9",
         "x": [
          "accuracy",
          "auc",
          "MCC",
          "Precision",
          "Recall"
         ],
         "y": [
          0.9733316320020416,
          0.9099967164800666,
          0.8640113654485959,
          0.932415519399249,
          0.8277777777777777
         ]
        },
        {
         "mode": "lines",
         "name": "Ada Boost",
         "type": "scatter",
         "uid": "4224cb5d-8901-4d92-8b61-833f440e3687",
         "x": [
          "accuracy",
          "auc",
          "MCC",
          "Precision",
          "Recall"
         ],
         "y": [
          0.9670792395049126,
          0.9069484086941201,
          0.8344909242251461,
          0.8776470588235294,
          0.8288888888888889
         ]
        },
        {
         "mode": "lines+markers",
         "name": "GradientBoosting",
         "type": "scatter",
         "uid": "d4c77dd3-ba99-4a9f-a9f9-21ab6e70e2f9",
         "x": [
          "accuracy",
          "auc",
          "MCC",
          "Precision",
          "Recall"
         ],
         "y": [
          0.9725660329207605,
          0.912948600900165,
          0.8607647309050445,
          0.9181929181929182,
          0.8355555555555556
         ]
        },
        {
         "marker": {
          "symbol": "x"
         },
         "mode": "lines+markers",
         "name": "ExtraTree Classifier",
         "type": "scatter",
         "uid": "a625c770-9166-440e-abb5-73a0fe887a15",
         "x": [
          "accuracy",
          "auc",
          "MCC",
          "Precision",
          "Recall"
         ],
         "y": [
          0.9700140359831568,
          0.8921679240145436,
          0.8455377457183647,
          0.9380764163372859,
          0.7911111111111111
         ]
        },
        {
         "marker": {
          "symbol": "x"
         },
         "mode": "lines+markers",
         "name": "Bagging",
         "type": "scatter",
         "uid": "435c7ba8-4a22-44d6-8a17-a1a616431268",
         "x": [
          "accuracy",
          "auc",
          "MCC",
          "Precision",
          "Recall"
         ],
         "y": [
          0.9742248309302028,
          0.9153360402351323,
          0.8690315361873909,
          0.9298029556650246,
          0.8388888888888889
         ]
        },
        {
         "marker": {
          "symbol": "x"
         },
         "mode": "lines+markers",
         "name": "Neural Network",
         "type": "scatter",
         "uid": "cb21db49-52c7-4661-a875-2834f8c2b411",
         "x": [
          "accuracy",
          "auc",
          "MCC",
          "Precision",
          "Recall"
         ],
         "y": [
          0.9716728339925992,
          0.9153360402351323,
          0.8601354261877187,
          0.8800448430493274,
          0.8722222222222222
         ]
        }
       ],
       "layout": {
        "title": "Result comparision for Features selected in Section 1",
        "yaxis": {
         "dtick": 0.05,
         "tick0": 0
        }
       }
      },
      "text/html": [
       "<div id=\"659d62a9-2bf0-434d-86d7-f7774ff7c1df\" style=\"height: 525px; width: 100%;\" class=\"plotly-graph-div\"></div><script type=\"text/javascript\">require([\"plotly\"], function(Plotly) { window.PLOTLYENV=window.PLOTLYENV || {};window.PLOTLYENV.BASE_URL=\"https://plot.ly\";Plotly.newPlot(\"659d62a9-2bf0-434d-86d7-f7774ff7c1df\", [{\"mode\": \"lines\", \"name\": \"KNN_model\", \"x\": [\"accuracy\", \"auc\", \"MCC\", \"Precision\", \"Recall\"], \"y\": [0.9703968355237974, 0.9054380696106226, 0.8492472257980412, 0.9123456790123456, 0.8211111111111111], \"type\": \"scatter\", \"uid\": \"7e205b53-dd8b-4298-9bac-b5e95f4b060c\"}, {\"mode\": \"lines+markers\", \"name\": \"XGB\", \"x\": [\"accuracy\", \"auc\", \"MCC\", \"Precision\", \"Recall\"], \"y\": [0.9734592318489218, 0.9144200983454263, 0.8652335301629064, 0.9240196078431373, 0.8377777777777777], \"type\": \"scatter\", \"uid\": \"b2294341-8c55-4aae-92a1-bc9ea2eaf5b3\"}, {\"marker\": {\"symbol\": \"x\"}, \"mode\": \"lines+markers\", \"name\": \"Random Forest\", \"x\": [\"accuracy\", \"auc\", \"MCC\", \"Precision\", \"Recall\"], \"y\": [0.9733316320020416, 0.9099967164800666, 0.8640113654485959, 0.932415519399249, 0.8277777777777777], \"type\": \"scatter\", \"uid\": \"74067397-6e7d-4433-bcf1-351f6b3088c9\"}, {\"mode\": \"lines\", \"name\": \"Ada Boost\", \"x\": [\"accuracy\", \"auc\", \"MCC\", \"Precision\", \"Recall\"], \"y\": [0.9670792395049126, 0.9069484086941201, 0.8344909242251461, 0.8776470588235294, 0.8288888888888889], \"type\": \"scatter\", \"uid\": \"4224cb5d-8901-4d92-8b61-833f440e3687\"}, {\"mode\": \"lines+markers\", \"name\": \"GradientBoosting\", \"x\": [\"accuracy\", \"auc\", \"MCC\", \"Precision\", \"Recall\"], \"y\": [0.9725660329207605, 0.912948600900165, 0.8607647309050445, 0.9181929181929182, 0.8355555555555556], \"type\": \"scatter\", \"uid\": \"d4c77dd3-ba99-4a9f-a9f9-21ab6e70e2f9\"}, {\"marker\": {\"symbol\": \"x\"}, \"mode\": \"lines+markers\", \"name\": \"ExtraTree Classifier\", \"x\": [\"accuracy\", \"auc\", \"MCC\", \"Precision\", \"Recall\"], \"y\": [0.9700140359831568, 0.8921679240145436, 0.8455377457183647, 0.9380764163372859, 0.7911111111111111], \"type\": \"scatter\", \"uid\": \"a625c770-9166-440e-abb5-73a0fe887a15\"}, {\"marker\": {\"symbol\": \"x\"}, \"mode\": \"lines+markers\", \"name\": \"Bagging\", \"x\": [\"accuracy\", \"auc\", \"MCC\", \"Precision\", \"Recall\"], \"y\": [0.9742248309302028, 0.9153360402351323, 0.8690315361873909, 0.9298029556650246, 0.8388888888888889], \"type\": \"scatter\", \"uid\": \"435c7ba8-4a22-44d6-8a17-a1a616431268\"}, {\"marker\": {\"symbol\": \"x\"}, \"mode\": \"lines+markers\", \"name\": \"Neural Network\", \"x\": [\"accuracy\", \"auc\", \"MCC\", \"Precision\", \"Recall\"], \"y\": [0.9716728339925992, 0.9153360402351323, 0.8601354261877187, 0.8800448430493274, 0.8722222222222222], \"type\": \"scatter\", \"uid\": \"cb21db49-52c7-4661-a875-2834f8c2b411\"}], {\"title\": \"Result comparision for Features selected in Section 1\", \"yaxis\": {\"dtick\": 0.05, \"tick0\": 0}}, {\"showLink\": true, \"linkText\": \"Export to plot.ly\", \"plotlyServerURL\": \"https://plot.ly\"})});</script><script type=\"text/javascript\">window.addEventListener(\"resize\", function(){window._Plotly.Plots.resize(document.getElementById(\"659d62a9-2bf0-434d-86d7-f7774ff7c1df\"));});</script>"
      ],
      "text/vnd.plotly.v1+html": [
       "<div id=\"659d62a9-2bf0-434d-86d7-f7774ff7c1df\" style=\"height: 525px; width: 100%;\" class=\"plotly-graph-div\"></div><script type=\"text/javascript\">require([\"plotly\"], function(Plotly) { window.PLOTLYENV=window.PLOTLYENV || {};window.PLOTLYENV.BASE_URL=\"https://plot.ly\";Plotly.newPlot(\"659d62a9-2bf0-434d-86d7-f7774ff7c1df\", [{\"mode\": \"lines\", \"name\": \"KNN_model\", \"x\": [\"accuracy\", \"auc\", \"MCC\", \"Precision\", \"Recall\"], \"y\": [0.9703968355237974, 0.9054380696106226, 0.8492472257980412, 0.9123456790123456, 0.8211111111111111], \"type\": \"scatter\", \"uid\": \"7e205b53-dd8b-4298-9bac-b5e95f4b060c\"}, {\"mode\": \"lines+markers\", \"name\": \"XGB\", \"x\": [\"accuracy\", \"auc\", \"MCC\", \"Precision\", \"Recall\"], \"y\": [0.9734592318489218, 0.9144200983454263, 0.8652335301629064, 0.9240196078431373, 0.8377777777777777], \"type\": \"scatter\", \"uid\": \"b2294341-8c55-4aae-92a1-bc9ea2eaf5b3\"}, {\"marker\": {\"symbol\": \"x\"}, \"mode\": \"lines+markers\", \"name\": \"Random Forest\", \"x\": [\"accuracy\", \"auc\", \"MCC\", \"Precision\", \"Recall\"], \"y\": [0.9733316320020416, 0.9099967164800666, 0.8640113654485959, 0.932415519399249, 0.8277777777777777], \"type\": \"scatter\", \"uid\": \"74067397-6e7d-4433-bcf1-351f6b3088c9\"}, {\"mode\": \"lines\", \"name\": \"Ada Boost\", \"x\": [\"accuracy\", \"auc\", \"MCC\", \"Precision\", \"Recall\"], \"y\": [0.9670792395049126, 0.9069484086941201, 0.8344909242251461, 0.8776470588235294, 0.8288888888888889], \"type\": \"scatter\", \"uid\": \"4224cb5d-8901-4d92-8b61-833f440e3687\"}, {\"mode\": \"lines+markers\", \"name\": \"GradientBoosting\", \"x\": [\"accuracy\", \"auc\", \"MCC\", \"Precision\", \"Recall\"], \"y\": [0.9725660329207605, 0.912948600900165, 0.8607647309050445, 0.9181929181929182, 0.8355555555555556], \"type\": \"scatter\", \"uid\": \"d4c77dd3-ba99-4a9f-a9f9-21ab6e70e2f9\"}, {\"marker\": {\"symbol\": \"x\"}, \"mode\": \"lines+markers\", \"name\": \"ExtraTree Classifier\", \"x\": [\"accuracy\", \"auc\", \"MCC\", \"Precision\", \"Recall\"], \"y\": [0.9700140359831568, 0.8921679240145436, 0.8455377457183647, 0.9380764163372859, 0.7911111111111111], \"type\": \"scatter\", \"uid\": \"a625c770-9166-440e-abb5-73a0fe887a15\"}, {\"marker\": {\"symbol\": \"x\"}, \"mode\": \"lines+markers\", \"name\": \"Bagging\", \"x\": [\"accuracy\", \"auc\", \"MCC\", \"Precision\", \"Recall\"], \"y\": [0.9742248309302028, 0.9153360402351323, 0.8690315361873909, 0.9298029556650246, 0.8388888888888889], \"type\": \"scatter\", \"uid\": \"435c7ba8-4a22-44d6-8a17-a1a616431268\"}, {\"marker\": {\"symbol\": \"x\"}, \"mode\": \"lines+markers\", \"name\": \"Neural Network\", \"x\": [\"accuracy\", \"auc\", \"MCC\", \"Precision\", \"Recall\"], \"y\": [0.9716728339925992, 0.9153360402351323, 0.8601354261877187, 0.8800448430493274, 0.8722222222222222], \"type\": \"scatter\", \"uid\": \"cb21db49-52c7-4661-a875-2834f8c2b411\"}], {\"title\": \"Result comparision for Features selected in Section 1\", \"yaxis\": {\"dtick\": 0.05, \"tick0\": 0}}, {\"showLink\": true, \"linkText\": \"Export to plot.ly\", \"plotlyServerURL\": \"https://plot.ly\"})});</script><script type=\"text/javascript\">window.addEventListener(\"resize\", function(){window._Plotly.Plots.resize(document.getElementById(\"659d62a9-2bf0-434d-86d7-f7774ff7c1df\"));});</script>"
      ]
     },
     "metadata": {},
     "output_type": "display_data"
    }
   ],
   "source": [
    "trace0 = go.Scatter(x=table_80_50_test.iloc[0].index.values[[0,7,8,9,10]],\n",
    "                    y=table_80_50_test.iloc[0].values[[0,7,8,9,10]],\n",
    "                    mode = 'lines',\n",
    "                    name = 'KNN_model')\n",
    "\n",
    "\n",
    "trace2 = go.Scatter(x=table_80_50_test.iloc[1].index.values[[0,7,8,9,10]],\n",
    "                    y=table_80_50_test.iloc[1].values[[0,7,8,9,10]],\n",
    "                    mode = 'lines+markers',marker=dict(symbol='x'),\n",
    "                    name = 'Random Forest')\n",
    "\n",
    "\n",
    "trace3 = go.Scatter(x=table_80_50_test.iloc[2].index.values[[0,7,8,9,10]],\n",
    "                    y=table_80_50_test.iloc[2].values[[0,7,8,9,10]],\n",
    "                    mode = 'lines',\n",
    "                    name = 'Ada Boost')\n",
    "\n",
    "trace4 = go.Scatter(x=table_80_50_test.iloc[3].index.values[[0,7,8,9,10]],\n",
    "                    y=table_80_50_test.iloc[3].values[[0,7,8,9,10]],\n",
    "                    mode = 'lines+markers',\n",
    "                    name = 'GradientBoosting')\n",
    "\n",
    "trace5 = go.Scatter(x=table_80_50_test.iloc[4].index.values[[0,7,8,9,10]],\n",
    "                    y=table_80_50_test.iloc[4].values[[0,7,8,9,10]],\n",
    "                    mode = 'lines+markers',marker=dict(symbol='x'),\n",
    "                    name = 'ExtraTree Classifier')\n",
    "\n",
    "\n",
    "trace1 = go.Scatter(x=table_80_50_test.iloc[5].index.values[[0,7,8,9,10]],\n",
    "                    y=table_80_50_test.iloc[5].values[[0,7,8,9,10]],\n",
    "                    mode = 'lines+markers',\n",
    "                    name = 'XGB')\n",
    "\n",
    "\n",
    "trace6 = go.Scatter(x=table_80_50_test.iloc[6].index.values[[0,7,8,9,10]],\n",
    "                    y=table_80_50_test.iloc[6].values[[0,7,8,9,10]],\n",
    "                    mode = 'lines+markers',marker=dict(symbol='x'),\n",
    "                    name = 'Bagging')\n",
    "\n",
    "trace7 = go.Scatter(x=table_80_50_test.iloc[7].index.values[[0,7,8,9,10]],\n",
    "                    y=table_80_50_test.iloc[7].values[[0,7,8,9,10]],\n",
    "                    mode = 'lines+markers',marker=dict(symbol='x'),\n",
    "                    name = 'Neural Network')\n",
    "\n",
    "\n",
    "\n",
    "data = [trace0, trace1, trace2, trace3, trace4, trace5, trace6, trace7]\n",
    "layout = go.Layout(yaxis=dict(tick0=0,dtick=0.05),title='Result comparision for Features selected in Section 1')\n",
    "fig = go.Figure(data=data, layout=layout)\n",
    "\n",
    "iplot(fig, filename='Result')"
   ]
  },
  {
   "cell_type": "code",
   "execution_count": 33,
   "metadata": {},
   "outputs": [
    {
     "name": "stdout",
     "output_type": "stream",
     "text": [
      "Training Results\n"
     ]
    },
    {
     "data": {
      "text/html": [
       "<div>\n",
       "<style scoped>\n",
       "    .dataframe tbody tr th:only-of-type {\n",
       "        vertical-align: middle;\n",
       "    }\n",
       "\n",
       "    .dataframe tbody tr th {\n",
       "        vertical-align: top;\n",
       "    }\n",
       "\n",
       "    .dataframe thead th {\n",
       "        text-align: right;\n",
       "    }\n",
       "</style>\n",
       "<table border=\"1\" class=\"dataframe\">\n",
       "  <thead>\n",
       "    <tr style=\"text-align: right;\">\n",
       "      <th></th>\n",
       "      <th>accuracy</th>\n",
       "      <th>TP</th>\n",
       "      <th>TN</th>\n",
       "      <th>FP</th>\n",
       "      <th>FN</th>\n",
       "      <th>FPR</th>\n",
       "      <th>FNR</th>\n",
       "    </tr>\n",
       "    <tr>\n",
       "      <th>index</th>\n",
       "      <th></th>\n",
       "      <th></th>\n",
       "      <th></th>\n",
       "      <th></th>\n",
       "      <th></th>\n",
       "      <th></th>\n",
       "      <th></th>\n",
       "    </tr>\n",
       "  </thead>\n",
       "  <tbody>\n",
       "    <tr>\n",
       "      <th>KNeighborsClassifier</th>\n",
       "      <td>0.980955</td>\n",
       "      <td>3102.0</td>\n",
       "      <td>27647.0</td>\n",
       "      <td>158.0</td>\n",
       "      <td>439.0</td>\n",
       "      <td>0.005682</td>\n",
       "      <td>0.123976</td>\n",
       "    </tr>\n",
       "    <tr>\n",
       "      <th>RandomForestClassifier</th>\n",
       "      <td>0.995693</td>\n",
       "      <td>3428.0</td>\n",
       "      <td>27783.0</td>\n",
       "      <td>22.0</td>\n",
       "      <td>113.0</td>\n",
       "      <td>0.000791</td>\n",
       "      <td>0.031912</td>\n",
       "    </tr>\n",
       "    <tr>\n",
       "      <th>AdaBoostClassifier</th>\n",
       "      <td>0.972979</td>\n",
       "      <td>3016.0</td>\n",
       "      <td>27483.0</td>\n",
       "      <td>322.0</td>\n",
       "      <td>525.0</td>\n",
       "      <td>0.011581</td>\n",
       "      <td>0.148263</td>\n",
       "    </tr>\n",
       "    <tr>\n",
       "      <th>GradientBoostingClassifier</th>\n",
       "      <td>0.979870</td>\n",
       "      <td>3064.0</td>\n",
       "      <td>27651.0</td>\n",
       "      <td>154.0</td>\n",
       "      <td>477.0</td>\n",
       "      <td>0.005539</td>\n",
       "      <td>0.134708</td>\n",
       "    </tr>\n",
       "    <tr>\n",
       "      <th>ExtraTreeClassifier</th>\n",
       "      <td>0.997735</td>\n",
       "      <td>3473.0</td>\n",
       "      <td>27802.0</td>\n",
       "      <td>3.0</td>\n",
       "      <td>68.0</td>\n",
       "      <td>0.000108</td>\n",
       "      <td>0.019204</td>\n",
       "    </tr>\n",
       "    <tr>\n",
       "      <th>XGB</th>\n",
       "      <td>0.979710</td>\n",
       "      <td>3059.0</td>\n",
       "      <td>27651.0</td>\n",
       "      <td>154.0</td>\n",
       "      <td>482.0</td>\n",
       "      <td>0.005539</td>\n",
       "      <td>0.136120</td>\n",
       "    </tr>\n",
       "    <tr>\n",
       "      <th>BaggingClassifier</th>\n",
       "      <td>0.995661</td>\n",
       "      <td>3430.0</td>\n",
       "      <td>27780.0</td>\n",
       "      <td>25.0</td>\n",
       "      <td>111.0</td>\n",
       "      <td>0.000899</td>\n",
       "      <td>0.031347</td>\n",
       "    </tr>\n",
       "    <tr>\n",
       "      <th>Neural Network-1</th>\n",
       "      <td>0.994959</td>\n",
       "      <td>3456.0</td>\n",
       "      <td>27732.0</td>\n",
       "      <td>73.0</td>\n",
       "      <td>85.0</td>\n",
       "      <td>0.002625</td>\n",
       "      <td>0.024005</td>\n",
       "    </tr>\n",
       "  </tbody>\n",
       "</table>\n",
       "</div>"
      ],
      "text/plain": [
       "                            accuracy      TP       TN     FP     FN       FPR  \\\n",
       "index                                                                           \n",
       "KNeighborsClassifier        0.980955  3102.0  27647.0  158.0  439.0  0.005682   \n",
       "RandomForestClassifier      0.995693  3428.0  27783.0   22.0  113.0  0.000791   \n",
       "AdaBoostClassifier          0.972979  3016.0  27483.0  322.0  525.0  0.011581   \n",
       "GradientBoostingClassifier  0.979870  3064.0  27651.0  154.0  477.0  0.005539   \n",
       "ExtraTreeClassifier         0.997735  3473.0  27802.0    3.0   68.0  0.000108   \n",
       "XGB                         0.979710  3059.0  27651.0  154.0  482.0  0.005539   \n",
       "BaggingClassifier           0.995661  3430.0  27780.0   25.0  111.0  0.000899   \n",
       "Neural Network-1            0.994959  3456.0  27732.0   73.0   85.0  0.002625   \n",
       "\n",
       "                                 FNR  \n",
       "index                                 \n",
       "KNeighborsClassifier        0.123976  \n",
       "RandomForestClassifier      0.031912  \n",
       "AdaBoostClassifier          0.148263  \n",
       "GradientBoostingClassifier  0.134708  \n",
       "ExtraTreeClassifier         0.019204  \n",
       "XGB                         0.136120  \n",
       "BaggingClassifier           0.031347  \n",
       "Neural Network-1            0.024005  "
      ]
     },
     "metadata": {},
     "output_type": "display_data"
    },
    {
     "name": "stdout",
     "output_type": "stream",
     "text": [
      "Test Results\n"
     ]
    },
    {
     "data": {
      "text/html": [
       "<div>\n",
       "<style scoped>\n",
       "    .dataframe tbody tr th:only-of-type {\n",
       "        vertical-align: middle;\n",
       "    }\n",
       "\n",
       "    .dataframe tbody tr th {\n",
       "        vertical-align: top;\n",
       "    }\n",
       "\n",
       "    .dataframe thead th {\n",
       "        text-align: right;\n",
       "    }\n",
       "</style>\n",
       "<table border=\"1\" class=\"dataframe\">\n",
       "  <thead>\n",
       "    <tr style=\"text-align: right;\">\n",
       "      <th></th>\n",
       "      <th>accuracy</th>\n",
       "      <th>TP</th>\n",
       "      <th>TN</th>\n",
       "      <th>FP</th>\n",
       "      <th>FN</th>\n",
       "      <th>FPR</th>\n",
       "      <th>FNR</th>\n",
       "      <th>auc</th>\n",
       "      <th>MCC</th>\n",
       "      <th>Precision</th>\n",
       "      <th>Recall</th>\n",
       "    </tr>\n",
       "    <tr>\n",
       "      <th>index</th>\n",
       "      <th></th>\n",
       "      <th></th>\n",
       "      <th></th>\n",
       "      <th></th>\n",
       "      <th></th>\n",
       "      <th></th>\n",
       "      <th></th>\n",
       "      <th></th>\n",
       "      <th></th>\n",
       "      <th></th>\n",
       "      <th></th>\n",
       "    </tr>\n",
       "  </thead>\n",
       "  <tbody>\n",
       "    <tr>\n",
       "      <th>KNeighborsClassifier</th>\n",
       "      <td>0.970397</td>\n",
       "      <td>739.0</td>\n",
       "      <td>6866.0</td>\n",
       "      <td>71.0</td>\n",
       "      <td>161.0</td>\n",
       "      <td>0.010235</td>\n",
       "      <td>0.178889</td>\n",
       "      <td>0.905438</td>\n",
       "      <td>0.849247</td>\n",
       "      <td>0.912346</td>\n",
       "      <td>0.821111</td>\n",
       "    </tr>\n",
       "    <tr>\n",
       "      <th>RandomForestClassifier</th>\n",
       "      <td>0.973332</td>\n",
       "      <td>745.0</td>\n",
       "      <td>6883.0</td>\n",
       "      <td>54.0</td>\n",
       "      <td>155.0</td>\n",
       "      <td>0.007784</td>\n",
       "      <td>0.172222</td>\n",
       "      <td>0.909997</td>\n",
       "      <td>0.864011</td>\n",
       "      <td>0.932416</td>\n",
       "      <td>0.827778</td>\n",
       "    </tr>\n",
       "    <tr>\n",
       "      <th>AdaBoostClassifier</th>\n",
       "      <td>0.967079</td>\n",
       "      <td>746.0</td>\n",
       "      <td>6833.0</td>\n",
       "      <td>104.0</td>\n",
       "      <td>154.0</td>\n",
       "      <td>0.014992</td>\n",
       "      <td>0.171111</td>\n",
       "      <td>0.906948</td>\n",
       "      <td>0.834491</td>\n",
       "      <td>0.877647</td>\n",
       "      <td>0.828889</td>\n",
       "    </tr>\n",
       "    <tr>\n",
       "      <th>GradientBoostingClassifier</th>\n",
       "      <td>0.972566</td>\n",
       "      <td>752.0</td>\n",
       "      <td>6870.0</td>\n",
       "      <td>67.0</td>\n",
       "      <td>148.0</td>\n",
       "      <td>0.009658</td>\n",
       "      <td>0.164444</td>\n",
       "      <td>0.912949</td>\n",
       "      <td>0.860765</td>\n",
       "      <td>0.918193</td>\n",
       "      <td>0.835556</td>\n",
       "    </tr>\n",
       "    <tr>\n",
       "      <th>ExtraTreeClassifier</th>\n",
       "      <td>0.970014</td>\n",
       "      <td>712.0</td>\n",
       "      <td>6890.0</td>\n",
       "      <td>47.0</td>\n",
       "      <td>188.0</td>\n",
       "      <td>0.006775</td>\n",
       "      <td>0.208889</td>\n",
       "      <td>0.892168</td>\n",
       "      <td>0.845538</td>\n",
       "      <td>0.938076</td>\n",
       "      <td>0.791111</td>\n",
       "    </tr>\n",
       "    <tr>\n",
       "      <th>XGB</th>\n",
       "      <td>0.973459</td>\n",
       "      <td>754.0</td>\n",
       "      <td>6875.0</td>\n",
       "      <td>62.0</td>\n",
       "      <td>146.0</td>\n",
       "      <td>0.008938</td>\n",
       "      <td>0.162222</td>\n",
       "      <td>0.914420</td>\n",
       "      <td>0.865234</td>\n",
       "      <td>0.924020</td>\n",
       "      <td>0.837778</td>\n",
       "    </tr>\n",
       "    <tr>\n",
       "      <th>BaggingClassifier</th>\n",
       "      <td>0.974225</td>\n",
       "      <td>755.0</td>\n",
       "      <td>6880.0</td>\n",
       "      <td>57.0</td>\n",
       "      <td>145.0</td>\n",
       "      <td>0.008217</td>\n",
       "      <td>0.161111</td>\n",
       "      <td>0.915336</td>\n",
       "      <td>0.869032</td>\n",
       "      <td>0.929803</td>\n",
       "      <td>0.838889</td>\n",
       "    </tr>\n",
       "    <tr>\n",
       "      <th>Neural Network-1</th>\n",
       "      <td>0.971673</td>\n",
       "      <td>785.0</td>\n",
       "      <td>6830.0</td>\n",
       "      <td>107.0</td>\n",
       "      <td>115.0</td>\n",
       "      <td>0.015425</td>\n",
       "      <td>0.127778</td>\n",
       "      <td>0.915336</td>\n",
       "      <td>0.860135</td>\n",
       "      <td>0.880045</td>\n",
       "      <td>0.872222</td>\n",
       "    </tr>\n",
       "  </tbody>\n",
       "</table>\n",
       "</div>"
      ],
      "text/plain": [
       "                            accuracy     TP      TN     FP     FN       FPR  \\\n",
       "index                                                                         \n",
       "KNeighborsClassifier        0.970397  739.0  6866.0   71.0  161.0  0.010235   \n",
       "RandomForestClassifier      0.973332  745.0  6883.0   54.0  155.0  0.007784   \n",
       "AdaBoostClassifier          0.967079  746.0  6833.0  104.0  154.0  0.014992   \n",
       "GradientBoostingClassifier  0.972566  752.0  6870.0   67.0  148.0  0.009658   \n",
       "ExtraTreeClassifier         0.970014  712.0  6890.0   47.0  188.0  0.006775   \n",
       "XGB                         0.973459  754.0  6875.0   62.0  146.0  0.008938   \n",
       "BaggingClassifier           0.974225  755.0  6880.0   57.0  145.0  0.008217   \n",
       "Neural Network-1            0.971673  785.0  6830.0  107.0  115.0  0.015425   \n",
       "\n",
       "                                 FNR       auc       MCC  Precision    Recall  \n",
       "index                                                                          \n",
       "KNeighborsClassifier        0.178889  0.905438  0.849247   0.912346  0.821111  \n",
       "RandomForestClassifier      0.172222  0.909997  0.864011   0.932416  0.827778  \n",
       "AdaBoostClassifier          0.171111  0.906948  0.834491   0.877647  0.828889  \n",
       "GradientBoostingClassifier  0.164444  0.912949  0.860765   0.918193  0.835556  \n",
       "ExtraTreeClassifier         0.208889  0.892168  0.845538   0.938076  0.791111  \n",
       "XGB                         0.162222  0.914420  0.865234   0.924020  0.837778  \n",
       "BaggingClassifier           0.161111  0.915336  0.869032   0.929803  0.838889  \n",
       "Neural Network-1            0.127778  0.915336  0.860135   0.880045  0.872222  "
      ]
     },
     "metadata": {},
     "output_type": "display_data"
    }
   ],
   "source": [
    "table_80_50_train['index']=ind_columns\n",
    "table_80_50_test['index']=ind_columns\n",
    "\n",
    "\n",
    "table_80_50_test.set_index(['index'],drop=True,inplace=True)\n",
    "table_80_50_train.set_index(['index'],drop=True,inplace=True)\n",
    "\n",
    "print(\"Training Results\")\n",
    "display(table_80_50_train)\n",
    "print(\"Test Results\")\n",
    "display(table_80_50_test)"
   ]
  },
  {
   "cell_type": "code",
   "execution_count": 34,
   "metadata": {},
   "outputs": [
    {
     "data": {
      "text/html": [
       "<script>\n",
       "code_show=true; \n",
       "function code_toggle() {\n",
       " if (code_show){\n",
       " $('div.input').hide();\n",
       " } else {\n",
       " $('div.input').show();\n",
       " }\n",
       " code_show = !code_show\n",
       "} \n",
       "$( document ).ready(code_toggle);\n",
       "</script>\n",
       "To toggle code, click <a href=\"javascript:code_toggle()\">here</a>."
      ],
      "text/plain": [
       "<IPython.core.display.HTML object>"
      ]
     },
     "execution_count": 34,
     "metadata": {},
     "output_type": "execute_result"
    }
   ],
   "source": [
    "### Original Creator : Darshan Bhansali\n",
    "### HTML code to hide the input cells \n",
    "HTML('''<script>\n",
    "code_show=true; \n",
    "function code_toggle() {\n",
    " if (code_show){\n",
    " $('div.input').hide();\n",
    " } else {\n",
    " $('div.input').show();\n",
    " }\n",
    " code_show = !code_show\n",
    "} \n",
    "$( document ).ready(code_toggle);\n",
    "</script>\n",
    "To toggle code, click <a href=\"javascript:code_toggle()\">here</a>.''')"
   ]
  }
 ],
 "metadata": {
  "kernelspec": {
   "display_name": "Python 3",
   "language": "python",
   "name": "python3"
  },
  "language_info": {
   "codemirror_mode": {
    "name": "ipython",
    "version": 3
   },
   "file_extension": ".py",
   "mimetype": "text/x-python",
   "name": "python",
   "nbconvert_exporter": "python",
   "pygments_lexer": "ipython3",
   "version": "3.6.8"
  }
 },
 "nbformat": 4,
 "nbformat_minor": 2
}
