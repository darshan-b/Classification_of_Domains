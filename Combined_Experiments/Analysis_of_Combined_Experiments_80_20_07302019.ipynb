{
 "cells": [
  {
   "cell_type": "code",
   "execution_count": 1,
   "metadata": {},
   "outputs": [
    {
     "name": "stderr",
     "output_type": "stream",
     "text": [
      "Using TensorFlow backend.\n",
      "/nethomes/darshan/anaconda3/lib/python3.6/site-packages/sklearn/externals/six.py:31: DeprecationWarning: The module is deprecated in version 0.21 and will be removed in version 0.23 since we've dropped support for Python 2.7. Please rely on the official version of six (https://pypi.org/project/six/).\n",
      "  \"(https://pypi.org/project/six/).\", DeprecationWarning)\n",
      "/nethomes/darshan/anaconda3/lib/python3.6/site-packages/sklearn/externals/joblib/__init__.py:15: DeprecationWarning: sklearn.externals.joblib is deprecated in 0.21 and will be removed in 0.23. Please import this functionality directly from joblib, which can be installed with: pip install joblib. If this warning is raised when loading pickled models, you may need to re-serialize those models with scikit-learn 0.21+.\n",
      "  warnings.warn(msg, category=DeprecationWarning)\n"
     ]
    },
    {
     "data": {
      "text/html": [
       "<script type=\"text/javascript\">window.PlotlyConfig = {MathJaxConfig: 'local'};</script><script type=\"text/javascript\">if (window.MathJax) {MathJax.Hub.Config({SVG: {font: \"STIX-Web\"}});}</script><script>requirejs.config({paths: { 'plotly': ['https://cdn.plot.ly/plotly-latest.min']},});if(!window._Plotly) {require(['plotly'],function(plotly) {window._Plotly=plotly;});}</script>"
      ],
      "text/vnd.plotly.v1+html": [
       "<script type=\"text/javascript\">window.PlotlyConfig = {MathJaxConfig: 'local'};</script><script type=\"text/javascript\">if (window.MathJax) {MathJax.Hub.Config({SVG: {font: \"STIX-Web\"}});}</script><script>requirejs.config({paths: { 'plotly': ['https://cdn.plot.ly/plotly-latest.min']},});if(!window._Plotly) {require(['plotly'],function(plotly) {window._Plotly=plotly;});}</script>"
      ]
     },
     "metadata": {},
     "output_type": "display_data"
    }
   ],
   "source": [
    "import pandas as pd\n",
    "import numpy as np\n",
    "import copy\n",
    "import matplotlib.pyplot as plt\n",
    "import seaborn as sns\n",
    "%matplotlib inline\n",
    "\n",
    "from IPython.display import display,clear_output,HTML\n",
    "import warnings\n",
    "warnings.filterwarnings(\"ignore\")\n",
    "warnings.simplefilter(\"ignore\", DeprecationWarning)\n",
    "\n",
    "import keras\n",
    "from keras.layers import Dense,Dropout\n",
    "from keras.models import Sequential\n",
    "\n",
    "import researchpy as rp\n",
    "\n",
    "%matplotlib inline\n",
    "pd.set_option('display.max_columns', 500)\n",
    "pd.set_option('display.max_rows',305)\n",
    "\n",
    "from sklearn.feature_selection import SelectKBest,chi2,RFE,RFECV,f_regression,SelectFromModel,f_classif\n",
    "from sklearn.linear_model import LogisticRegression\n",
    "from sklearn.ensemble import ExtraTreesClassifier,RandomForestClassifier,GradientBoostingClassifier,AdaBoostClassifier,BaggingClassifier\n",
    "from sklearn.neighbors import KNeighborsClassifier\n",
    "from sklearn.model_selection import train_test_split,cross_val_score\n",
    "\n",
    "from sklearn.preprocessing import StandardScaler,MinMaxScaler\n",
    "from sklearn import metrics\n",
    "\n",
    "from xgboost import XGBClassifier\n",
    "\n",
    "\n",
    "from sklearn.decomposition import PCA\n",
    "from sklearn.metrics import accuracy_score,auc,roc_curve,recall_score,precision_score,matthews_corrcoef\n",
    "\n",
    "from pandas_ml import ConfusionMatrix\n",
    "\n",
    "\n",
    "from imblearn.over_sampling import SMOTE\n",
    "\n",
    "from plotly.offline import download_plotlyjs, init_notebook_mode, plot, iplot\n",
    "init_notebook_mode(connected=True)\n",
    "import plotly.graph_objs as go\n",
    "\n",
    "import featuretools as ft\n",
    "\n",
    "from scipy import stats\n",
    "import re\n",
    "\n",
    "from statsmodels.stats.outliers_influence import variance_inflation_factor\n",
    "from statsmodels.tools.tools import add_constant"
   ]
  },
  {
   "cell_type": "code",
   "execution_count": 2,
   "metadata": {},
   "outputs": [],
   "source": [
    "### Function to plot Feature Importance\n",
    "def feat_impt_plot(feat_impt,y_labels,width_s=1000,height_s=1000):\n",
    "    \n",
    "    m=pd.DataFrame(y_labels,feat_impt).reset_index()\n",
    "    m.columns=['Feature_Importance','Features']\n",
    "    m.sort_values(by='Feature_Importance',inplace=True,ascending=False)\n",
    "    m['Features']=m['Features'].str.replace(\"dom_function_\",\"\")\n",
    "    m['Features']=m['Features'].str.replace(\"js_function_\",\"\")\n",
    "    m['Features']=m['Features'].apply(lambda x: str(x).lstrip('.'))\n",
    "    m['Features']=m['Features'].str.replace(\"(\",\"\")\n",
    "    \n",
    "    data = [go.Bar(x=m.Feature_Importance.values,y=m.Features.values,text=np.round(m.Feature_Importance,4),\n",
    "            textposition = 'outside',\n",
    "            marker=dict(\n",
    "                color='rgb(158,202,225)',\n",
    "                line=dict(\n",
    "                    color='rgb(8,48,107)',\n",
    "                    width=1.5),\n",
    "            ),\n",
    "            opacity=0.6,\n",
    "            orientation='h'\n",
    "        )]\n",
    "    layout = go.Layout(autosize=False,\n",
    "    width=width_s,\n",
    "    height=height_s,\n",
    "    xaxis=dict(title='Feature Importances',\n",
    "        tickfont=dict(\n",
    "            size=12,\n",
    "            color='black'\n",
    "        )),\n",
    "    yaxis=dict(automargin=True))\n",
    "    fig = go.Figure(data=data, layout=layout)\n",
    "    iplot(fig)"
   ]
  },
  {
   "cell_type": "code",
   "execution_count": 3,
   "metadata": {},
   "outputs": [],
   "source": [
    "def model_build(model,X_train,Y_train,X_test,Y_test,tree=False,feat=None):\n",
    "    \n",
    "    y_pred_train=model.predict(X_train)\n",
    "    acc_train=accuracy_score(Y_train,y_pred_train)\n",
    "    \n",
    "    print(\"Accuracy of the model for training data is:\",acc_train)\n",
    "    print(\"Confusion Matrix for training data is:\")\n",
    "    cm_train=ConfusionMatrix(Y_train,y_pred_train)\n",
    "    display(cm_train)\n",
    "    \n",
    "    \n",
    "    y_pred_test=model.predict(X_test)\n",
    "    acc_test=accuracy_score(Y_test,y_pred_test)\n",
    "    print(\"Accuracy of the model for test data is:\",acc_test)\n",
    "    print(\"Confusion Matrix for test data is:\")\n",
    "    cm_test=ConfusionMatrix(Y_test,y_pred_test)\n",
    "    display(cm_test)\n",
    "\n",
    "    fpr, tpr, threshold = roc_curve(Y_test, y_pred_test)\n",
    "    roc_auc =auc(fpr, tpr)\n",
    "    mcc=matthews_corrcoef(Y_test,y_pred_test)\n",
    "    \n",
    "    precision=precision_score(Y_test,y_pred_test)\n",
    "    recall=recall_score(Y_test,y_pred_test)\n",
    "    if tree==True:\n",
    "        feat_impt_plot(model.feature_importances_,feat)\n",
    "        return model,cm_train,cm_test,acc_train,acc_test,roc_auc,model.feature_importances_,mcc,precision,recall\n",
    "    \n",
    "    return model,cm_train,cm_test,acc_train,acc_test,roc_auc,mcc,precision,recall\n",
    "\n",
    "def KNN_model(X_train,Y_train,X_test,Y_test):\n",
    "    print('\\033[1m' + 'K-Nearest Neighbors' + '\\033[0m')\n",
    "    knn=KNeighborsClassifier()\n",
    "    knn.fit(X_train,Y_train)\n",
    "\n",
    "    return model_build(knn,X_train,Y_train,X_test,Y_test)\n",
    "\n",
    "# def Logistic_model(X_train,Y_train,X_test,Y_test):\n",
    "#     print('\\033[1m' + 'Logistic Regression' + '\\033[0m')\n",
    "#     log=LogisticRegression()\n",
    "#     log.fit(X_train,Y_train)\n",
    "    \n",
    "#     return model_build(log,X_train,Y_train,X_test,Y_test)\n",
    "\n",
    "def RandomForest(X_train,Y_train,X_test,Y_test,feat):\n",
    "    print('\\033[1m' + 'RandomForest Classifier' + '\\033[0m')\n",
    "    rf=RandomForestClassifier(random_state=0)\n",
    "    rf.fit(X_train,Y_train)\n",
    "\n",
    "    \n",
    "    return model_build(rf,X_train,Y_train,X_test,Y_test,True,feat)\n",
    "\n",
    "def AdaBoost(X_train,Y_train,X_test,Y_test,feat):\n",
    "    print('\\033[1m' + 'Adaoost Classifier' + '\\033[0m')\n",
    "    ada=AdaBoostClassifier(random_state=0)\n",
    "    ada.fit(X_train,Y_train)\n",
    "    \n",
    "    return model_build(ada,X_train,Y_train,X_test,Y_test,True,feat)\n",
    "\n",
    "def GradientBoosting(X_train,Y_train,X_test,Y_test,feat):\n",
    "    print('\\033[1m' + 'GradientBoosting Classifier' + '\\033[0m')\n",
    "    gbc=GradientBoostingClassifier(random_state=0)\n",
    "    gbc.fit(X_train,Y_train)\n",
    "    \n",
    "    return model_build(gbc,X_train,Y_train,X_test,Y_test,True,feat)\n",
    "\n",
    "def ExtraTree(X_train,Y_train,X_test,Y_test,feat):\n",
    "    print('\\033[1m' + 'ExtraTree Classifier' + '\\033[0m')\n",
    "    ext_tree=ExtraTreesClassifier(random_state=0)\n",
    "    ext_tree.fit(X_train,Y_train)\n",
    "    \n",
    "    return model_build(ext_tree,X_train,Y_train,X_test,Y_test,True,feat)\n",
    "\n",
    "def XGB(X_train,Y_train,X_test,Y_test,feat):\n",
    "    print('\\033[1m' + 'XGB Classifier' + '\\033[0m')\n",
    "    xgb=XGBClassifier(random_state=0)\n",
    "    xgb.fit(X_train,Y_train)\n",
    "    \n",
    "    return model_build(xgb,X_train,Y_train,X_test,Y_test,True,feat)\n",
    "\n",
    "def Bagging(X_train,Y_train,X_test,Y_test):\n",
    "    print('\\033[1m' + 'Bagging Classifier' + '\\033[0m')\n",
    "    bagging=BaggingClassifier(random_state=0)\n",
    "    bagging.fit(X_train,Y_train)\n",
    "    \n",
    "    return model_build(bagging,X_train,Y_train,X_test,Y_test)\n",
    "\n",
    "def XGB(X_train,Y_train,X_test,Y_test,feat):\n",
    "    print('\\033[1m' + 'XGB Classifier' + '\\033[0m')\n",
    "    xgb=XGBClassifier(random_state=0)\n",
    "    xgb.fit(X_train,Y_train)\n",
    "    \n",
    "    return model_build(xgb,X_train,Y_train,X_test,Y_test,True,feat)\n",
    "\n",
    "def DeepLearning1(X_train,Y_train,X_test,Y_test):\n",
    "    print('\\033[1m' + 'Neural Network-1' + '\\033[0m')\n",
    "    np.random.seed(0)\n",
    "    deep_learning=Sequential()\n",
    "    deep_learning.add(Dense(units=64,activation='relu',use_bias=True,kernel_initializer='uniform',input_dim=X_train.shape[1]))\n",
    "    deep_learning.add(Dense(units=128,activation='relu',use_bias=True,kernel_initializer='uniform'))\n",
    "    deep_learning.add(Dense(units=1,activation='sigmoid',use_bias=True,kernel_initializer='uniform'))\n",
    "    deep_learning.compile(optimizer='adam',loss='binary_crossentropy',metrics=['accuracy'])\n",
    "    deep_learning.fit(X_train,Y_train,batch_size=20,epochs=80,verbose=False)\n",
    "    acc_train=deep_learning.evaluate(X_train,Y_train,verbose=False)[1]\n",
    "    print(\"The accuracy of the model on training data is:\",acc_train)\n",
    "    cm_train=ConfusionMatrix(Y_train,deep_learning.predict_classes(X_train,batch_size=1,verbose=False).reshape(1,len(X_train))[0])\n",
    "    cm_test=ConfusionMatrix(Y_test,deep_learning.predict_classes(X_test,batch_size=1,verbose=False).reshape(1,len(X_test))[0])\n",
    "    display(cm_train)\n",
    "    acc_test=accuracy_score(Y_test,deep_learning.predict_classes(X_test,batch_size=1,verbose=False))\n",
    "    print(\"The accuracy of the model on test data is:\",acc_test)\n",
    "    display(cm_test)\n",
    "    mcc=matthews_corrcoef(Y_test,deep_learning.predict_classes(X_test,batch_size=1,verbose=False))\n",
    "    precision=precision_score(Y_test,deep_learning.predict_classes(X_test,batch_size=1,verbose=False))\n",
    "    recall=recall_score(Y_test,deep_learning.predict_classes(X_test,batch_size=1,verbose=False))\n",
    "    return  deep_learning,cm_train,cm_test,acc_train,acc_test,roc_auc,mcc,precision,recall"
   ]
  },
  {
   "cell_type": "code",
   "execution_count": 4,
   "metadata": {},
   "outputs": [
    {
     "name": "stdout",
     "output_type": "stream",
     "text": [
      "Shape of HTML dataset: (43491, 1461)\n",
      "Shape of JS,DOM dataset: (43294, 401)\n",
      "Shape of HTTP dataset: (45856, 672)\n",
      "Shape of URL dataset: (46771, 4194)\n"
     ]
    }
   ],
   "source": [
    "### Read HTML \n",
    "df_html=pd.read_csv('../html/HTML.csv',index_col='domain')\n",
    "df_html.drop(['Unnamed: 0'],axis=1,inplace=True)\n",
    "cookie=[col for col in df_html.columns if 'number' in col]\n",
    "df_html.drop(cookie,axis=1,inplace=True)\n",
    "print(\"Shape of HTML dataset:\",df_html.shape)\n",
    "df_html.Target=df_html.Target.apply(lambda x: 1 if x=='Malicious' else 0)\n",
    "\n",
    "\n",
    "### Read JS \n",
    "df_js=pd.read_csv('Javascript.csv',low_memory=False,index_col='domain')\n",
    "cookie=[col for col in df_js.columns if 'number' in col]\n",
    "df_js.drop(cookie,axis=1,inplace=True)\n",
    "df_js.rename(columns={'Malicious':'Target'},inplace=True)\n",
    "print(\"Shape of JS,DOM dataset:\",df_js.shape)\n",
    "df_js.Target=df_js.Target.apply(lambda x: 1 if x=='Malicious' else 0)\n",
    "\n",
    "\n",
    "### Read HTTP\n",
    "df_http=pd.read_csv('HTTP.csv')\n",
    "df_http.rename(columns={'Malicious':'Target'},inplace=True)\n",
    "df_http.fillna(value=0,inplace=True)\n",
    "cookies=[columns for columns in df_http.columns if 'number' in columns]\n",
    "df_http.drop(cookies,axis=1,inplace=True)\n",
    "df_http=df_http[df_http['domain']!=0]\n",
    "df_http.sort_values(by='Target',inplace=True,ascending=False)\n",
    "df_http.drop_duplicates(['domain'], keep='first',inplace=True)\n",
    "df_http=df_http.sample(frac=1,random_state=0)\n",
    "df_http.set_index(['domain'],drop=True,inplace=True)\n",
    "print(\"Shape of HTTP dataset:\",df_http.shape)\n",
    "\n",
    "\n",
    "\n",
    "### Read URL\n",
    "df_url=pd.read_csv('URL.csv')\n",
    "df_url.fillna(value=0,inplace=True)\n",
    "cookies=[columns for columns in df_url.columns if 'number' in columns]\n",
    "df_url.drop(cookies,axis=1,inplace=True)\n",
    "df_url.drop(['url_host','url_ip'],axis=1,inplace=True)\n",
    "df_url=df_url[df_url['domain']!=0]\n",
    "df_url.sort_values(by='Target',inplace=True,ascending=False)\n",
    "df_url.drop_duplicates(['domain'], keep='first',inplace=True)\n",
    "df_url=df_url.sample(frac=1,random_state=0)\n",
    "print(\"Shape of URL dataset:\",df_url.shape)\n",
    "df_url.set_index('domain',inplace=True,drop=True)"
   ]
  },
  {
   "cell_type": "code",
   "execution_count": 5,
   "metadata": {},
   "outputs": [
    {
     "name": "stdout",
     "output_type": "stream",
     "text": [
      "Shape of combined dataset: (39183, 6723)\n"
     ]
    },
    {
     "data": {
      "text/plain": [
       "0    34742\n",
       "1     4441\n",
       "Name: Target, dtype: int64"
      ]
     },
     "execution_count": 5,
     "metadata": {},
     "output_type": "execute_result"
    }
   ],
   "source": [
    "df=pd.concat([df_js,df_html,df_http,df_url],axis=1,join='inner')\n",
    "df.drop(['Unnamed: 0'],axis=1,inplace=True)\n",
    "df['Target_z']=df[['Target','Target','Target','Target']].apply(max,axis=1)\n",
    "df.drop(['Target','Target','Target','Target'],axis=1,inplace=True)\n",
    "print(\"Shape of combined dataset:\",df.shape)\n",
    "df.rename(columns={'Target_z':'Target'},inplace=True)\n",
    "df.Target.value_counts()"
   ]
  },
  {
   "cell_type": "code",
   "execution_count": 6,
   "metadata": {},
   "outputs": [],
   "source": [
    "columns=['js_function_.push(','a_count','a_href_http','a_href_https','a_href_out_of_domain','a_href_relative',\n",
    " 'center_count','iframe_src_.html','img_src_http','input_count','li_count','link_href_out_of_domain','link_type_text/css',\n",
    " 'meta_count','p_count','script_count','script_src_https','script_src_out_of_domain','title_count',\n",
    " 'http_header_cache-control_set_max-age','http_header_content-encoding_gzip','http_header_content-length',\n",
    " 'http_header_server_apache','http_header_transfer-encoding_chunked','http_header_vary_user-agent','http_header_via_1.1',\n",
    " 'url_char_.','url_char_d','url_char_f','url_char_i','url_char_l','url_char_p','url_char_t','url_char_w',\n",
    " 'url_char_y','url_char_z','url_extension_endswith_.com','url_extensions','url_length','Target']"
   ]
  },
  {
   "cell_type": "code",
   "execution_count": 7,
   "metadata": {},
   "outputs": [
    {
     "name": "stdout",
     "output_type": "stream",
     "text": [
      "features being used\n"
     ]
    },
    {
     "data": {
      "text/plain": [
       "['js_function_.push(',\n",
       " 'a_count',\n",
       " 'a_href_http',\n",
       " 'a_href_https',\n",
       " 'a_href_out_of_domain',\n",
       " 'a_href_relative',\n",
       " 'center_count',\n",
       " 'iframe_src_.html',\n",
       " 'img_src_http',\n",
       " 'input_count',\n",
       " 'li_count',\n",
       " 'link_href_out_of_domain',\n",
       " 'link_type_text/css',\n",
       " 'meta_count',\n",
       " 'p_count',\n",
       " 'script_count',\n",
       " 'script_src_https',\n",
       " 'script_src_out_of_domain',\n",
       " 'title_count',\n",
       " 'http_header_cache-control_set_max-age',\n",
       " 'http_header_content-encoding_gzip',\n",
       " 'http_header_content-length',\n",
       " 'http_header_server_apache',\n",
       " 'http_header_transfer-encoding_chunked',\n",
       " 'http_header_vary_user-agent',\n",
       " 'http_header_via_1.1',\n",
       " 'url_char_.',\n",
       " 'url_char_d',\n",
       " 'url_char_f',\n",
       " 'url_char_i',\n",
       " 'url_char_l',\n",
       " 'url_char_p',\n",
       " 'url_char_t',\n",
       " 'url_char_w',\n",
       " 'url_char_y',\n",
       " 'url_char_z',\n",
       " 'url_extension_endswith_.com',\n",
       " 'url_extensions',\n",
       " 'url_length',\n",
       " 'Target']"
      ]
     },
     "metadata": {},
     "output_type": "display_data"
    }
   ],
   "source": [
    "print(\"features being used\")\n",
    "display(columns)"
   ]
  },
  {
   "cell_type": "code",
   "execution_count": 8,
   "metadata": {},
   "outputs": [],
   "source": [
    "df['url_extension_endswith_.com']=df['url_extension_endswith_.com'].apply(lambda x: 1 if x==True else x)\n",
    "df['url_extension_endswith_.com']=df['url_extension_endswith_.com'].astype(int)"
   ]
  },
  {
   "cell_type": "markdown",
   "metadata": {},
   "source": [
    "### <a id='1' style=\"text-decoration : none; color : #000000;\"> 1. Initial Models</a>"
   ]
  },
  {
   "cell_type": "code",
   "execution_count": 9,
   "metadata": {},
   "outputs": [],
   "source": [
    "df_sel=df[columns].copy(deep=True)"
   ]
  },
  {
   "cell_type": "code",
   "execution_count": 10,
   "metadata": {},
   "outputs": [],
   "source": [
    "train=df_sel.iloc[:31346,:]\n",
    "train_X=train.iloc[:,train.columns!='Target'].values\n",
    "train_Y=train.Target.values\n",
    "\n",
    "scaler=StandardScaler()\n",
    "scaled_X_train=scaler.fit_transform(train_X)\n",
    "\n",
    "test=df_sel.iloc[31346:,:]\n",
    "test_X=test.iloc[:,test.columns!='Target'].values\n",
    "test_Y=test.Target.values\n",
    "scaled_X_test=scaler.transform(test_X)\n",
    "columns.remove('Target')"
   ]
  },
  {
   "cell_type": "code",
   "execution_count": 11,
   "metadata": {
    "scrolled": false
   },
   "outputs": [
    {
     "name": "stdout",
     "output_type": "stream",
     "text": [
      "\u001b[1mK-Nearest Neighbors\u001b[0m\n",
      "Accuracy of the model for training data is: 0.9806035857844702\n",
      "Confusion Matrix for training data is:\n"
     ]
    },
    {
     "data": {
      "text/plain": [
       "Predicted  False  True  __all__\n",
       "Actual                         \n",
       "False      27624   181    27805\n",
       "True         427  3114     3541\n",
       "__all__    28051  3295    31346"
      ]
     },
     "metadata": {},
     "output_type": "display_data"
    },
    {
     "name": "stdout",
     "output_type": "stream",
     "text": [
      "Accuracy of the model for test data is: 0.9744800306239633\n",
      "Confusion Matrix for test data is:\n"
     ]
    },
    {
     "data": {
      "text/plain": [
       "Predicted  False  True  __all__\n",
       "Actual                         \n",
       "False       6869    68     6937\n",
       "True         132   768      900\n",
       "__all__     7001   836     7837"
      ]
     },
     "metadata": {},
     "output_type": "display_data"
    },
    {
     "name": "stdout",
     "output_type": "stream",
     "text": [
      "\n",
      "\n",
      "\u001b[1mRandomForest Classifier\u001b[0m\n",
      "Accuracy of the model for training data is: 0.9974159382377337\n",
      "Confusion Matrix for training data is:\n"
     ]
    },
    {
     "data": {
      "text/plain": [
       "Predicted  False  True  __all__\n",
       "Actual                         \n",
       "False      27796     9    27805\n",
       "True          72  3469     3541\n",
       "__all__    27868  3478    31346"
      ]
     },
     "metadata": {},
     "output_type": "display_data"
    },
    {
     "name": "stdout",
     "output_type": "stream",
     "text": [
      "Accuracy of the model for test data is: 0.9797116243460507\n",
      "Confusion Matrix for test data is:\n"
     ]
    },
    {
     "data": {
      "text/plain": [
       "Predicted  False  True  __all__\n",
       "Actual                         \n",
       "False       6897    40     6937\n",
       "True         119   781      900\n",
       "__all__     7016   821     7837"
      ]
     },
     "metadata": {},
     "output_type": "display_data"
    },
    {
     "data": {
      "application/vnd.plotly.v1+json": {
       "config": {
        "linkText": "Export to plot.ly",
        "plotlyServerURL": "https://plot.ly",
        "showLink": true
       },
       "data": [
        {
         "marker": {
          "color": "rgb(158,202,225)",
          "line": {
           "color": "rgb(8,48,107)",
           "width": 1.5
          }
         },
         "opacity": 0.6,
         "orientation": "h",
         "text": [
          0.2146,
          0.1046,
          0.0869,
          0.058,
          0.0565,
          0.0548,
          0.0517,
          0.0459,
          0.0425,
          0.0257,
          0.0251,
          0.0179,
          0.0166,
          0.0151,
          0.015,
          0.0143,
          0.0132,
          0.013,
          0.0124,
          0.012,
          0.0105,
          0.0102,
          0.0099,
          0.0087,
          0.0078,
          0.0069,
          0.0069,
          0.0063,
          0.0061,
          0.0051,
          0.0047,
          0.004,
          0.0036,
          0.0034,
          0.003,
          0.0029,
          0.0016,
          0.0016,
          0.0008
         ],
         "textposition": "outside",
         "type": "bar",
         "uid": "4a3d903d-99c7-4fa2-9d34-0b5d96a67345",
         "x": [
          0.21459252768372292,
          0.1045632179108366,
          0.086947832723072,
          0.058041049810792285,
          0.05652100335084836,
          0.05480950270980319,
          0.051695309442401964,
          0.045916226879412436,
          0.04248094449532646,
          0.025676035247564715,
          0.02514708999941168,
          0.017850243283245092,
          0.016639412649312152,
          0.015118752368309443,
          0.014965787802759476,
          0.014341414628894857,
          0.013162774997423273,
          0.013020428625698015,
          0.012426871931470511,
          0.012047380306301777,
          0.010531264673557496,
          0.010224483967044772,
          0.00991559193231342,
          0.008651325482600263,
          0.0077717279539386945,
          0.006939370317791001,
          0.006880375649131096,
          0.00627984054781306,
          0.00605530007688402,
          0.005148458178172828,
          0.0046774928565592394,
          0.004034842071772376,
          0.003578642073676044,
          0.0033541356453166108,
          0.00304461330930676,
          0.0028558239401942696,
          0.0016404236487532384,
          0.0016339083125824954,
          0.0008185725159852177
         ],
         "y": [
          "url_extensions",
          "url_length",
          "title_count",
          "meta_count",
          "url_char_w",
          "a_count",
          "url_char_.",
          "script_count",
          "a_href_out_of_domain",
          "a_href_relative",
          "url_char_z",
          "url_char_i",
          "url_extension_endswith_.com",
          "url_char_l",
          "http_header_vary_user-agent",
          "http_header_server_apache",
          "url_char_p",
          "http_header_content-encoding_gzip",
          "http_header_content-length",
          "url_char_t",
          "url_char_y",
          "url_char_d",
          "url_char_f",
          "script_src_https",
          "p_count",
          "link_href_out_of_domain",
          "a_href_http",
          "http_header_transfer-encoding_chunked",
          "push",
          "a_href_https",
          "link_type_text/css",
          "img_src_http",
          "li_count",
          "http_header_cache-control_set_max-age",
          "script_src_out_of_domain",
          "input_count",
          "http_header_via_1.1",
          "center_count",
          "iframe_src_.html"
         ]
        }
       ],
       "layout": {
        "autosize": false,
        "height": 1000,
        "width": 1000,
        "xaxis": {
         "tickfont": {
          "color": "black",
          "size": 12
         },
         "title": "Feature Importances"
        },
        "yaxis": {
         "automargin": true
        }
       }
      },
      "text/html": [
       "<div id=\"625b38b9-cbab-4cde-98e2-da1616170e54\" style=\"height: 1000px; width: 1000px;\" class=\"plotly-graph-div\"></div><script type=\"text/javascript\">require([\"plotly\"], function(Plotly) { window.PLOTLYENV=window.PLOTLYENV || {};window.PLOTLYENV.BASE_URL=\"https://plot.ly\";Plotly.newPlot(\"625b38b9-cbab-4cde-98e2-da1616170e54\", [{\"marker\": {\"color\": \"rgb(158,202,225)\", \"line\": {\"color\": \"rgb(8,48,107)\", \"width\": 1.5}}, \"opacity\": 0.6, \"orientation\": \"h\", \"text\": [0.2146, 0.1046, 0.0869, 0.058, 0.0565, 0.0548, 0.0517, 0.0459, 0.0425, 0.0257, 0.0251, 0.0179, 0.0166, 0.0151, 0.015, 0.0143, 0.0132, 0.013, 0.0124, 0.012, 0.0105, 0.0102, 0.0099, 0.0087, 0.0078, 0.0069, 0.0069, 0.0063, 0.0061, 0.0051, 0.0047, 0.004, 0.0036, 0.0034, 0.003, 0.0029, 0.0016, 0.0016, 0.0008], \"textposition\": \"outside\", \"x\": [0.21459252768372292, 0.1045632179108366, 0.086947832723072, 0.058041049810792285, 0.05652100335084836, 0.05480950270980319, 0.051695309442401964, 0.045916226879412436, 0.04248094449532646, 0.025676035247564715, 0.02514708999941168, 0.017850243283245092, 0.016639412649312152, 0.015118752368309443, 0.014965787802759476, 0.014341414628894857, 0.013162774997423273, 0.013020428625698015, 0.012426871931470511, 0.012047380306301777, 0.010531264673557496, 0.010224483967044772, 0.00991559193231342, 0.008651325482600263, 0.0077717279539386945, 0.006939370317791001, 0.006880375649131096, 0.00627984054781306, 0.00605530007688402, 0.005148458178172828, 0.0046774928565592394, 0.004034842071772376, 0.003578642073676044, 0.0033541356453166108, 0.00304461330930676, 0.0028558239401942696, 0.0016404236487532384, 0.0016339083125824954, 0.0008185725159852177], \"y\": [\"url_extensions\", \"url_length\", \"title_count\", \"meta_count\", \"url_char_w\", \"a_count\", \"url_char_.\", \"script_count\", \"a_href_out_of_domain\", \"a_href_relative\", \"url_char_z\", \"url_char_i\", \"url_extension_endswith_.com\", \"url_char_l\", \"http_header_vary_user-agent\", \"http_header_server_apache\", \"url_char_p\", \"http_header_content-encoding_gzip\", \"http_header_content-length\", \"url_char_t\", \"url_char_y\", \"url_char_d\", \"url_char_f\", \"script_src_https\", \"p_count\", \"link_href_out_of_domain\", \"a_href_http\", \"http_header_transfer-encoding_chunked\", \"push\", \"a_href_https\", \"link_type_text/css\", \"img_src_http\", \"li_count\", \"http_header_cache-control_set_max-age\", \"script_src_out_of_domain\", \"input_count\", \"http_header_via_1.1\", \"center_count\", \"iframe_src_.html\"], \"type\": \"bar\", \"uid\": \"4a3d903d-99c7-4fa2-9d34-0b5d96a67345\"}], {\"autosize\": false, \"height\": 1000, \"width\": 1000, \"xaxis\": {\"tickfont\": {\"color\": \"black\", \"size\": 12}, \"title\": \"Feature Importances\"}, \"yaxis\": {\"automargin\": true}}, {\"showLink\": true, \"linkText\": \"Export to plot.ly\", \"plotlyServerURL\": \"https://plot.ly\"})});</script>"
      ],
      "text/vnd.plotly.v1+html": [
       "<div id=\"625b38b9-cbab-4cde-98e2-da1616170e54\" style=\"height: 1000px; width: 1000px;\" class=\"plotly-graph-div\"></div><script type=\"text/javascript\">require([\"plotly\"], function(Plotly) { window.PLOTLYENV=window.PLOTLYENV || {};window.PLOTLYENV.BASE_URL=\"https://plot.ly\";Plotly.newPlot(\"625b38b9-cbab-4cde-98e2-da1616170e54\", [{\"marker\": {\"color\": \"rgb(158,202,225)\", \"line\": {\"color\": \"rgb(8,48,107)\", \"width\": 1.5}}, \"opacity\": 0.6, \"orientation\": \"h\", \"text\": [0.2146, 0.1046, 0.0869, 0.058, 0.0565, 0.0548, 0.0517, 0.0459, 0.0425, 0.0257, 0.0251, 0.0179, 0.0166, 0.0151, 0.015, 0.0143, 0.0132, 0.013, 0.0124, 0.012, 0.0105, 0.0102, 0.0099, 0.0087, 0.0078, 0.0069, 0.0069, 0.0063, 0.0061, 0.0051, 0.0047, 0.004, 0.0036, 0.0034, 0.003, 0.0029, 0.0016, 0.0016, 0.0008], \"textposition\": \"outside\", \"x\": [0.21459252768372292, 0.1045632179108366, 0.086947832723072, 0.058041049810792285, 0.05652100335084836, 0.05480950270980319, 0.051695309442401964, 0.045916226879412436, 0.04248094449532646, 0.025676035247564715, 0.02514708999941168, 0.017850243283245092, 0.016639412649312152, 0.015118752368309443, 0.014965787802759476, 0.014341414628894857, 0.013162774997423273, 0.013020428625698015, 0.012426871931470511, 0.012047380306301777, 0.010531264673557496, 0.010224483967044772, 0.00991559193231342, 0.008651325482600263, 0.0077717279539386945, 0.006939370317791001, 0.006880375649131096, 0.00627984054781306, 0.00605530007688402, 0.005148458178172828, 0.0046774928565592394, 0.004034842071772376, 0.003578642073676044, 0.0033541356453166108, 0.00304461330930676, 0.0028558239401942696, 0.0016404236487532384, 0.0016339083125824954, 0.0008185725159852177], \"y\": [\"url_extensions\", \"url_length\", \"title_count\", \"meta_count\", \"url_char_w\", \"a_count\", \"url_char_.\", \"script_count\", \"a_href_out_of_domain\", \"a_href_relative\", \"url_char_z\", \"url_char_i\", \"url_extension_endswith_.com\", \"url_char_l\", \"http_header_vary_user-agent\", \"http_header_server_apache\", \"url_char_p\", \"http_header_content-encoding_gzip\", \"http_header_content-length\", \"url_char_t\", \"url_char_y\", \"url_char_d\", \"url_char_f\", \"script_src_https\", \"p_count\", \"link_href_out_of_domain\", \"a_href_http\", \"http_header_transfer-encoding_chunked\", \"push\", \"a_href_https\", \"link_type_text/css\", \"img_src_http\", \"li_count\", \"http_header_cache-control_set_max-age\", \"script_src_out_of_domain\", \"input_count\", \"http_header_via_1.1\", \"center_count\", \"iframe_src_.html\"], \"type\": \"bar\", \"uid\": \"4a3d903d-99c7-4fa2-9d34-0b5d96a67345\"}], {\"autosize\": false, \"height\": 1000, \"width\": 1000, \"xaxis\": {\"tickfont\": {\"color\": \"black\", \"size\": 12}, \"title\": \"Feature Importances\"}, \"yaxis\": {\"automargin\": true}}, {\"showLink\": true, \"linkText\": \"Export to plot.ly\", \"plotlyServerURL\": \"https://plot.ly\"})});</script>"
      ]
     },
     "metadata": {},
     "output_type": "display_data"
    },
    {
     "name": "stdout",
     "output_type": "stream",
     "text": [
      "\n",
      "\n",
      "\u001b[1mAdaoost Classifier\u001b[0m\n",
      "Accuracy of the model for training data is: 0.9737446564154916\n",
      "Confusion Matrix for training data is:\n"
     ]
    },
    {
     "data": {
      "text/plain": [
       "Predicted  False  True  __all__\n",
       "Actual                         \n",
       "False      27466   339    27805\n",
       "True         484  3057     3541\n",
       "__all__    27950  3396    31346"
      ]
     },
     "metadata": {},
     "output_type": "display_data"
    },
    {
     "name": "stdout",
     "output_type": "stream",
     "text": [
      "Accuracy of the model for test data is: 0.9691208370549955\n",
      "Confusion Matrix for test data is:\n"
     ]
    },
    {
     "data": {
      "text/plain": [
       "Predicted  False  True  __all__\n",
       "Actual                         \n",
       "False       6841    96     6937\n",
       "True         146   754      900\n",
       "__all__     6987   850     7837"
      ]
     },
     "metadata": {},
     "output_type": "display_data"
    },
    {
     "data": {
      "application/vnd.plotly.v1+json": {
       "config": {
        "linkText": "Export to plot.ly",
        "plotlyServerURL": "https://plot.ly",
        "showLink": true
       },
       "data": [
        {
         "marker": {
          "color": "rgb(158,202,225)",
          "line": {
           "color": "rgb(8,48,107)",
           "width": 1.5
          }
         },
         "opacity": 0.6,
         "orientation": "h",
         "text": [
          0.1,
          0.06,
          0.06,
          0.06,
          0.06,
          0.06,
          0.04,
          0.04,
          0.04,
          0.04,
          0.04,
          0.02,
          0.02,
          0.02,
          0.02,
          0.02,
          0.02,
          0.02,
          0.02,
          0.02,
          0.02,
          0.02,
          0.02,
          0.02,
          0.02,
          0.02,
          0.02,
          0.02,
          0.02,
          0.02,
          0.02,
          0,
          0,
          0,
          0,
          0,
          0,
          0,
          0
         ],
         "textposition": "outside",
         "type": "bar",
         "uid": "f37e9d12-a7dc-4869-9fc6-b6fc9ed2c561",
         "x": [
          0.1,
          0.06,
          0.06,
          0.06,
          0.06,
          0.06,
          0.04,
          0.04,
          0.04,
          0.04,
          0.04,
          0.02,
          0.02,
          0.02,
          0.02,
          0.02,
          0.02,
          0.02,
          0.02,
          0.02,
          0.02,
          0.02,
          0.02,
          0.02,
          0.02,
          0.02,
          0.02,
          0.02,
          0.02,
          0.02,
          0.02,
          0,
          0,
          0,
          0,
          0,
          0,
          0,
          0
         ],
         "y": [
          "title_count",
          "url_length",
          "a_href_out_of_domain",
          "http_header_content-length",
          "p_count",
          "img_src_http",
          "link_href_out_of_domain",
          "url_extensions",
          "url_char_w",
          "link_type_text/css",
          "push",
          "li_count",
          "http_header_vary_user-agent",
          "a_href_http",
          "url_char_z",
          "url_char_y",
          "a_href_https",
          "url_char_p",
          "url_char_l",
          "url_char_i",
          "url_char_f",
          "url_char_d",
          "url_char_.",
          "http_header_via_1.1",
          "http_header_server_apache",
          "a_href_relative",
          "http_header_content-encoding_gzip",
          "center_count",
          "script_src_out_of_domain",
          "iframe_src_.html",
          "http_header_cache-control_set_max-age",
          "http_header_transfer-encoding_chunked",
          "input_count",
          "a_count",
          "url_char_t",
          "script_src_https",
          "script_count",
          "url_extension_endswith_.com",
          "meta_count"
         ]
        }
       ],
       "layout": {
        "autosize": false,
        "height": 1000,
        "width": 1000,
        "xaxis": {
         "tickfont": {
          "color": "black",
          "size": 12
         },
         "title": "Feature Importances"
        },
        "yaxis": {
         "automargin": true
        }
       }
      },
      "text/html": [
       "<div id=\"05aec51a-0549-4850-b962-9574b8df5f35\" style=\"height: 1000px; width: 1000px;\" class=\"plotly-graph-div\"></div><script type=\"text/javascript\">require([\"plotly\"], function(Plotly) { window.PLOTLYENV=window.PLOTLYENV || {};window.PLOTLYENV.BASE_URL=\"https://plot.ly\";Plotly.newPlot(\"05aec51a-0549-4850-b962-9574b8df5f35\", [{\"marker\": {\"color\": \"rgb(158,202,225)\", \"line\": {\"color\": \"rgb(8,48,107)\", \"width\": 1.5}}, \"opacity\": 0.6, \"orientation\": \"h\", \"text\": [0.1, 0.06, 0.06, 0.06, 0.06, 0.06, 0.04, 0.04, 0.04, 0.04, 0.04, 0.02, 0.02, 0.02, 0.02, 0.02, 0.02, 0.02, 0.02, 0.02, 0.02, 0.02, 0.02, 0.02, 0.02, 0.02, 0.02, 0.02, 0.02, 0.02, 0.02, 0.0, 0.0, 0.0, 0.0, 0.0, 0.0, 0.0, 0.0], \"textposition\": \"outside\", \"x\": [0.1, 0.06, 0.06, 0.06, 0.06, 0.06, 0.04, 0.04, 0.04, 0.04, 0.04, 0.02, 0.02, 0.02, 0.02, 0.02, 0.02, 0.02, 0.02, 0.02, 0.02, 0.02, 0.02, 0.02, 0.02, 0.02, 0.02, 0.02, 0.02, 0.02, 0.02, 0.0, 0.0, 0.0, 0.0, 0.0, 0.0, 0.0, 0.0], \"y\": [\"title_count\", \"url_length\", \"a_href_out_of_domain\", \"http_header_content-length\", \"p_count\", \"img_src_http\", \"link_href_out_of_domain\", \"url_extensions\", \"url_char_w\", \"link_type_text/css\", \"push\", \"li_count\", \"http_header_vary_user-agent\", \"a_href_http\", \"url_char_z\", \"url_char_y\", \"a_href_https\", \"url_char_p\", \"url_char_l\", \"url_char_i\", \"url_char_f\", \"url_char_d\", \"url_char_.\", \"http_header_via_1.1\", \"http_header_server_apache\", \"a_href_relative\", \"http_header_content-encoding_gzip\", \"center_count\", \"script_src_out_of_domain\", \"iframe_src_.html\", \"http_header_cache-control_set_max-age\", \"http_header_transfer-encoding_chunked\", \"input_count\", \"a_count\", \"url_char_t\", \"script_src_https\", \"script_count\", \"url_extension_endswith_.com\", \"meta_count\"], \"type\": \"bar\", \"uid\": \"f37e9d12-a7dc-4869-9fc6-b6fc9ed2c561\"}], {\"autosize\": false, \"height\": 1000, \"width\": 1000, \"xaxis\": {\"tickfont\": {\"color\": \"black\", \"size\": 12}, \"title\": \"Feature Importances\"}, \"yaxis\": {\"automargin\": true}}, {\"showLink\": true, \"linkText\": \"Export to plot.ly\", \"plotlyServerURL\": \"https://plot.ly\"})});</script>"
      ],
      "text/vnd.plotly.v1+html": [
       "<div id=\"05aec51a-0549-4850-b962-9574b8df5f35\" style=\"height: 1000px; width: 1000px;\" class=\"plotly-graph-div\"></div><script type=\"text/javascript\">require([\"plotly\"], function(Plotly) { window.PLOTLYENV=window.PLOTLYENV || {};window.PLOTLYENV.BASE_URL=\"https://plot.ly\";Plotly.newPlot(\"05aec51a-0549-4850-b962-9574b8df5f35\", [{\"marker\": {\"color\": \"rgb(158,202,225)\", \"line\": {\"color\": \"rgb(8,48,107)\", \"width\": 1.5}}, \"opacity\": 0.6, \"orientation\": \"h\", \"text\": [0.1, 0.06, 0.06, 0.06, 0.06, 0.06, 0.04, 0.04, 0.04, 0.04, 0.04, 0.02, 0.02, 0.02, 0.02, 0.02, 0.02, 0.02, 0.02, 0.02, 0.02, 0.02, 0.02, 0.02, 0.02, 0.02, 0.02, 0.02, 0.02, 0.02, 0.02, 0.0, 0.0, 0.0, 0.0, 0.0, 0.0, 0.0, 0.0], \"textposition\": \"outside\", \"x\": [0.1, 0.06, 0.06, 0.06, 0.06, 0.06, 0.04, 0.04, 0.04, 0.04, 0.04, 0.02, 0.02, 0.02, 0.02, 0.02, 0.02, 0.02, 0.02, 0.02, 0.02, 0.02, 0.02, 0.02, 0.02, 0.02, 0.02, 0.02, 0.02, 0.02, 0.02, 0.0, 0.0, 0.0, 0.0, 0.0, 0.0, 0.0, 0.0], \"y\": [\"title_count\", \"url_length\", \"a_href_out_of_domain\", \"http_header_content-length\", \"p_count\", \"img_src_http\", \"link_href_out_of_domain\", \"url_extensions\", \"url_char_w\", \"link_type_text/css\", \"push\", \"li_count\", \"http_header_vary_user-agent\", \"a_href_http\", \"url_char_z\", \"url_char_y\", \"a_href_https\", \"url_char_p\", \"url_char_l\", \"url_char_i\", \"url_char_f\", \"url_char_d\", \"url_char_.\", \"http_header_via_1.1\", \"http_header_server_apache\", \"a_href_relative\", \"http_header_content-encoding_gzip\", \"center_count\", \"script_src_out_of_domain\", \"iframe_src_.html\", \"http_header_cache-control_set_max-age\", \"http_header_transfer-encoding_chunked\", \"input_count\", \"a_count\", \"url_char_t\", \"script_src_https\", \"script_count\", \"url_extension_endswith_.com\", \"meta_count\"], \"type\": \"bar\", \"uid\": \"f37e9d12-a7dc-4869-9fc6-b6fc9ed2c561\"}], {\"autosize\": false, \"height\": 1000, \"width\": 1000, \"xaxis\": {\"tickfont\": {\"color\": \"black\", \"size\": 12}, \"title\": \"Feature Importances\"}, \"yaxis\": {\"automargin\": true}}, {\"showLink\": true, \"linkText\": \"Export to plot.ly\", \"plotlyServerURL\": \"https://plot.ly\"})});</script>"
      ]
     },
     "metadata": {},
     "output_type": "display_data"
    },
    {
     "name": "stdout",
     "output_type": "stream",
     "text": [
      "\n",
      "\n",
      "\u001b[1mGradientBoosting Classifier\u001b[0m\n",
      "Accuracy of the model for training data is: 0.9794232118930645\n",
      "Confusion Matrix for training data is:\n"
     ]
    },
    {
     "data": {
      "text/plain": [
       "Predicted  False  True  __all__\n",
       "Actual                         \n",
       "False      27624   181    27805\n",
       "True         464  3077     3541\n",
       "__all__    28088  3258    31346"
      ]
     },
     "metadata": {},
     "output_type": "display_data"
    },
    {
     "name": "stdout",
     "output_type": "stream",
     "text": [
      "Accuracy of the model for test data is: 0.9747352303177236\n",
      "Confusion Matrix for test data is:\n"
     ]
    },
    {
     "data": {
      "text/plain": [
       "Predicted  False  True  __all__\n",
       "Actual                         \n",
       "False       6878    59     6937\n",
       "True         139   761      900\n",
       "__all__     7017   820     7837"
      ]
     },
     "metadata": {},
     "output_type": "display_data"
    },
    {
     "data": {
      "application/vnd.plotly.v1+json": {
       "config": {
        "linkText": "Export to plot.ly",
        "plotlyServerURL": "https://plot.ly",
        "showLink": true
       },
       "data": [
        {
         "marker": {
          "color": "rgb(158,202,225)",
          "line": {
           "color": "rgb(8,48,107)",
           "width": 1.5
          }
         },
         "opacity": 0.6,
         "orientation": "h",
         "text": [
          0.3022,
          0.1879,
          0.1476,
          0.0825,
          0.0756,
          0.0389,
          0.0241,
          0.0232,
          0.0205,
          0.0186,
          0.0185,
          0.0161,
          0.0116,
          0.0078,
          0.0052,
          0.0033,
          0.0024,
          0.0021,
          0.0016,
          0.0013,
          0.001,
          0.0009,
          0.0009,
          0.0009,
          0.0008,
          0.0008,
          0.0008,
          0.0006,
          0.0006,
          0.0006,
          0.0004,
          0.0003,
          0.0002,
          0.0001,
          0.0001,
          0.0001,
          0,
          0,
          0
         ],
         "textposition": "outside",
         "type": "bar",
         "uid": "ab5424c0-4f65-44ca-bfd5-6210951fc11c",
         "x": [
          0.30216232329981235,
          0.1879407939362239,
          0.14762278148414779,
          0.08249602120512263,
          0.07559614412955669,
          0.03894990672183726,
          0.024116758740271124,
          0.0232051554459021,
          0.0204794139381447,
          0.018620234532961043,
          0.01849139075850346,
          0.016101571142898462,
          0.011553484043364868,
          0.00779549580576927,
          0.00516697277117404,
          0.0033389093878399773,
          0.0024187726397107974,
          0.0020704159754957666,
          0.0016229022245834992,
          0.0013164430309255569,
          0.0009798204815108576,
          0.0009275560320724401,
          0.0008969020715904136,
          0.0008616154053815107,
          0.0008442956355651001,
          0.0008167770569599081,
          0.0007566118181857572,
          0.0005665156426408402,
          0.0005581395032703607,
          0.0005534561183651218,
          0.0003877814881122485,
          0.0002757172921616583,
          0.00019275897637404188,
          0.00014116934790735407,
          0.00010276466869538842,
          6.038334722677641e-05,
          1.1843899734949849e-05,
          0,
          0
         ],
         "y": [
          "url_extensions",
          "title_count",
          "url_length",
          "a_href_relative",
          "url_char_w",
          "meta_count",
          "http_header_content-encoding_gzip",
          "http_header_server_apache",
          "a_count",
          "a_href_out_of_domain",
          "url_char_.",
          "http_header_vary_user-agent",
          "url_char_z",
          "script_count",
          "script_src_https",
          "push",
          "a_href_https",
          "url_extension_endswith_.com",
          "url_char_l",
          "img_src_http",
          "a_href_http",
          "link_href_out_of_domain",
          "http_header_content-length",
          "p_count",
          "link_type_text/css",
          "url_char_y",
          "http_header_via_1.1",
          "url_char_p",
          "http_header_transfer-encoding_chunked",
          "http_header_cache-control_set_max-age",
          "url_char_f",
          "url_char_t",
          "url_char_i",
          "script_src_out_of_domain",
          "url_char_d",
          "li_count",
          "center_count",
          "iframe_src_.html",
          "input_count"
         ]
        }
       ],
       "layout": {
        "autosize": false,
        "height": 1000,
        "width": 1000,
        "xaxis": {
         "tickfont": {
          "color": "black",
          "size": 12
         },
         "title": "Feature Importances"
        },
        "yaxis": {
         "automargin": true
        }
       }
      },
      "text/html": [
       "<div id=\"fb538aff-2ce7-4268-8eef-d6074cd9bae8\" style=\"height: 1000px; width: 1000px;\" class=\"plotly-graph-div\"></div><script type=\"text/javascript\">require([\"plotly\"], function(Plotly) { window.PLOTLYENV=window.PLOTLYENV || {};window.PLOTLYENV.BASE_URL=\"https://plot.ly\";Plotly.newPlot(\"fb538aff-2ce7-4268-8eef-d6074cd9bae8\", [{\"marker\": {\"color\": \"rgb(158,202,225)\", \"line\": {\"color\": \"rgb(8,48,107)\", \"width\": 1.5}}, \"opacity\": 0.6, \"orientation\": \"h\", \"text\": [0.3022, 0.1879, 0.1476, 0.0825, 0.0756, 0.0389, 0.0241, 0.0232, 0.0205, 0.0186, 0.0185, 0.0161, 0.0116, 0.0078, 0.0052, 0.0033, 0.0024, 0.0021, 0.0016, 0.0013, 0.001, 0.0009, 0.0009, 0.0009, 0.0008, 0.0008, 0.0008, 0.0006, 0.0006, 0.0006, 0.0004, 0.0003, 0.0002, 0.0001, 0.0001, 0.0001, 0.0, 0.0, 0.0], \"textposition\": \"outside\", \"x\": [0.30216232329981235, 0.1879407939362239, 0.14762278148414779, 0.08249602120512263, 0.07559614412955669, 0.03894990672183726, 0.024116758740271124, 0.0232051554459021, 0.0204794139381447, 0.018620234532961043, 0.01849139075850346, 0.016101571142898462, 0.011553484043364868, 0.00779549580576927, 0.00516697277117404, 0.0033389093878399773, 0.0024187726397107974, 0.0020704159754957666, 0.0016229022245834992, 0.0013164430309255569, 0.0009798204815108576, 0.0009275560320724401, 0.0008969020715904136, 0.0008616154053815107, 0.0008442956355651001, 0.0008167770569599081, 0.0007566118181857572, 0.0005665156426408402, 0.0005581395032703607, 0.0005534561183651218, 0.0003877814881122485, 0.0002757172921616583, 0.00019275897637404188, 0.00014116934790735407, 0.00010276466869538842, 6.038334722677641e-05, 1.1843899734949849e-05, 0.0, 0.0], \"y\": [\"url_extensions\", \"title_count\", \"url_length\", \"a_href_relative\", \"url_char_w\", \"meta_count\", \"http_header_content-encoding_gzip\", \"http_header_server_apache\", \"a_count\", \"a_href_out_of_domain\", \"url_char_.\", \"http_header_vary_user-agent\", \"url_char_z\", \"script_count\", \"script_src_https\", \"push\", \"a_href_https\", \"url_extension_endswith_.com\", \"url_char_l\", \"img_src_http\", \"a_href_http\", \"link_href_out_of_domain\", \"http_header_content-length\", \"p_count\", \"link_type_text/css\", \"url_char_y\", \"http_header_via_1.1\", \"url_char_p\", \"http_header_transfer-encoding_chunked\", \"http_header_cache-control_set_max-age\", \"url_char_f\", \"url_char_t\", \"url_char_i\", \"script_src_out_of_domain\", \"url_char_d\", \"li_count\", \"center_count\", \"iframe_src_.html\", \"input_count\"], \"type\": \"bar\", \"uid\": \"ab5424c0-4f65-44ca-bfd5-6210951fc11c\"}], {\"autosize\": false, \"height\": 1000, \"width\": 1000, \"xaxis\": {\"tickfont\": {\"color\": \"black\", \"size\": 12}, \"title\": \"Feature Importances\"}, \"yaxis\": {\"automargin\": true}}, {\"showLink\": true, \"linkText\": \"Export to plot.ly\", \"plotlyServerURL\": \"https://plot.ly\"})});</script>"
      ],
      "text/vnd.plotly.v1+html": [
       "<div id=\"fb538aff-2ce7-4268-8eef-d6074cd9bae8\" style=\"height: 1000px; width: 1000px;\" class=\"plotly-graph-div\"></div><script type=\"text/javascript\">require([\"plotly\"], function(Plotly) { window.PLOTLYENV=window.PLOTLYENV || {};window.PLOTLYENV.BASE_URL=\"https://plot.ly\";Plotly.newPlot(\"fb538aff-2ce7-4268-8eef-d6074cd9bae8\", [{\"marker\": {\"color\": \"rgb(158,202,225)\", \"line\": {\"color\": \"rgb(8,48,107)\", \"width\": 1.5}}, \"opacity\": 0.6, \"orientation\": \"h\", \"text\": [0.3022, 0.1879, 0.1476, 0.0825, 0.0756, 0.0389, 0.0241, 0.0232, 0.0205, 0.0186, 0.0185, 0.0161, 0.0116, 0.0078, 0.0052, 0.0033, 0.0024, 0.0021, 0.0016, 0.0013, 0.001, 0.0009, 0.0009, 0.0009, 0.0008, 0.0008, 0.0008, 0.0006, 0.0006, 0.0006, 0.0004, 0.0003, 0.0002, 0.0001, 0.0001, 0.0001, 0.0, 0.0, 0.0], \"textposition\": \"outside\", \"x\": [0.30216232329981235, 0.1879407939362239, 0.14762278148414779, 0.08249602120512263, 0.07559614412955669, 0.03894990672183726, 0.024116758740271124, 0.0232051554459021, 0.0204794139381447, 0.018620234532961043, 0.01849139075850346, 0.016101571142898462, 0.011553484043364868, 0.00779549580576927, 0.00516697277117404, 0.0033389093878399773, 0.0024187726397107974, 0.0020704159754957666, 0.0016229022245834992, 0.0013164430309255569, 0.0009798204815108576, 0.0009275560320724401, 0.0008969020715904136, 0.0008616154053815107, 0.0008442956355651001, 0.0008167770569599081, 0.0007566118181857572, 0.0005665156426408402, 0.0005581395032703607, 0.0005534561183651218, 0.0003877814881122485, 0.0002757172921616583, 0.00019275897637404188, 0.00014116934790735407, 0.00010276466869538842, 6.038334722677641e-05, 1.1843899734949849e-05, 0.0, 0.0], \"y\": [\"url_extensions\", \"title_count\", \"url_length\", \"a_href_relative\", \"url_char_w\", \"meta_count\", \"http_header_content-encoding_gzip\", \"http_header_server_apache\", \"a_count\", \"a_href_out_of_domain\", \"url_char_.\", \"http_header_vary_user-agent\", \"url_char_z\", \"script_count\", \"script_src_https\", \"push\", \"a_href_https\", \"url_extension_endswith_.com\", \"url_char_l\", \"img_src_http\", \"a_href_http\", \"link_href_out_of_domain\", \"http_header_content-length\", \"p_count\", \"link_type_text/css\", \"url_char_y\", \"http_header_via_1.1\", \"url_char_p\", \"http_header_transfer-encoding_chunked\", \"http_header_cache-control_set_max-age\", \"url_char_f\", \"url_char_t\", \"url_char_i\", \"script_src_out_of_domain\", \"url_char_d\", \"li_count\", \"center_count\", \"iframe_src_.html\", \"input_count\"], \"type\": \"bar\", \"uid\": \"ab5424c0-4f65-44ca-bfd5-6210951fc11c\"}], {\"autosize\": false, \"height\": 1000, \"width\": 1000, \"xaxis\": {\"tickfont\": {\"color\": \"black\", \"size\": 12}, \"title\": \"Feature Importances\"}, \"yaxis\": {\"automargin\": true}}, {\"showLink\": true, \"linkText\": \"Export to plot.ly\", \"plotlyServerURL\": \"https://plot.ly\"})});</script>"
      ]
     },
     "metadata": {},
     "output_type": "display_data"
    },
    {
     "name": "stdout",
     "output_type": "stream",
     "text": [
      "\n",
      "\n",
      "\u001b[1mExtraTree Classifier\u001b[0m\n",
      "Accuracy of the model for training data is: 0.9993938620557646\n",
      "Confusion Matrix for training data is:\n"
     ]
    },
    {
     "data": {
      "text/plain": [
       "Predicted  False  True  __all__\n",
       "Actual                         \n",
       "False      27803     2    27805\n",
       "True          17  3524     3541\n",
       "__all__    27820  3526    31346"
      ]
     },
     "metadata": {},
     "output_type": "display_data"
    },
    {
     "name": "stdout",
     "output_type": "stream",
     "text": [
      "Accuracy of the model for test data is: 0.9776700267959678\n",
      "Confusion Matrix for test data is:\n"
     ]
    },
    {
     "data": {
      "text/plain": [
       "Predicted  False  True  __all__\n",
       "Actual                         \n",
       "False       6890    47     6937\n",
       "True         128   772      900\n",
       "__all__     7018   819     7837"
      ]
     },
     "metadata": {},
     "output_type": "display_data"
    },
    {
     "data": {
      "application/vnd.plotly.v1+json": {
       "config": {
        "linkText": "Export to plot.ly",
        "plotlyServerURL": "https://plot.ly",
        "showLink": true
       },
       "data": [
        {
         "marker": {
          "color": "rgb(158,202,225)",
          "line": {
           "color": "rgb(8,48,107)",
           "width": 1.5
          }
         },
         "opacity": 0.6,
         "orientation": "h",
         "text": [
          0.1169,
          0.1008,
          0.0981,
          0.0768,
          0.0629,
          0.0592,
          0.0357,
          0.0311,
          0.03,
          0.0281,
          0.0279,
          0.0272,
          0.0248,
          0.0211,
          0.0209,
          0.019,
          0.0181,
          0.0167,
          0.0163,
          0.0158,
          0.0151,
          0.0143,
          0.0129,
          0.0127,
          0.0099,
          0.0089,
          0.0085,
          0.0085,
          0.0082,
          0.008,
          0.0077,
          0.0072,
          0.0063,
          0.006,
          0.0054,
          0.0053,
          0.0046,
          0.0025,
          0.001
         ],
         "textposition": "outside",
         "type": "bar",
         "uid": "f89774cc-977c-40a0-9ce4-2fff72171d92",
         "x": [
          0.11686387828012093,
          0.10084186772998054,
          0.09807854821098635,
          0.07684013157980049,
          0.06287281118158528,
          0.059182380228378004,
          0.03572665911699612,
          0.031097894253506453,
          0.029973975899347232,
          0.028112088212392437,
          0.027858259635220754,
          0.02717297024349728,
          0.024770110798714672,
          0.021065042611907808,
          0.020942308936529166,
          0.018960294125862222,
          0.018070312529779187,
          0.01665598489124776,
          0.016316825973020296,
          0.015772923010687744,
          0.01512125937268903,
          0.014259663698925252,
          0.012910441976793922,
          0.012718788721852527,
          0.009918226129876698,
          0.008938097433337715,
          0.008469883672951277,
          0.008454177099759768,
          0.00816901820401574,
          0.008040489332088997,
          0.00766937714947403,
          0.0071843911128435575,
          0.0062826639444142195,
          0.005952135281979419,
          0.00535472653730142,
          0.005290824132525332,
          0.004631981510164229,
          0.0024772089589776597,
          0.0009813782804684818
         ],
         "y": [
          "http_header_content-encoding_gzip",
          "url_length",
          "url_extensions",
          "url_char_w",
          "url_char_.",
          "http_header_transfer-encoding_chunked",
          "script_src_out_of_domain",
          "url_char_z",
          "url_extension_endswith_.com",
          "url_char_i",
          "url_char_y",
          "url_char_l",
          "http_header_content-length",
          "http_header_cache-control_set_max-age",
          "script_count",
          "title_count",
          "http_header_server_apache",
          "script_src_https",
          "meta_count",
          "url_char_t",
          "url_char_p",
          "url_char_f",
          "url_char_d",
          "http_header_vary_user-agent",
          "link_type_text/css",
          "a_count",
          "a_href_out_of_domain",
          "a_href_relative",
          "link_href_out_of_domain",
          "http_header_via_1.1",
          "push",
          "p_count",
          "a_href_https",
          "li_count",
          "input_count",
          "a_href_http",
          "img_src_http",
          "center_count",
          "iframe_src_.html"
         ]
        }
       ],
       "layout": {
        "autosize": false,
        "height": 1000,
        "width": 1000,
        "xaxis": {
         "tickfont": {
          "color": "black",
          "size": 12
         },
         "title": "Feature Importances"
        },
        "yaxis": {
         "automargin": true
        }
       }
      },
      "text/html": [
       "<div id=\"5475186d-d599-4589-ae34-368bf5a84636\" style=\"height: 1000px; width: 1000px;\" class=\"plotly-graph-div\"></div><script type=\"text/javascript\">require([\"plotly\"], function(Plotly) { window.PLOTLYENV=window.PLOTLYENV || {};window.PLOTLYENV.BASE_URL=\"https://plot.ly\";Plotly.newPlot(\"5475186d-d599-4589-ae34-368bf5a84636\", [{\"marker\": {\"color\": \"rgb(158,202,225)\", \"line\": {\"color\": \"rgb(8,48,107)\", \"width\": 1.5}}, \"opacity\": 0.6, \"orientation\": \"h\", \"text\": [0.1169, 0.1008, 0.0981, 0.0768, 0.0629, 0.0592, 0.0357, 0.0311, 0.03, 0.0281, 0.0279, 0.0272, 0.0248, 0.0211, 0.0209, 0.019, 0.0181, 0.0167, 0.0163, 0.0158, 0.0151, 0.0143, 0.0129, 0.0127, 0.0099, 0.0089, 0.0085, 0.0085, 0.0082, 0.008, 0.0077, 0.0072, 0.0063, 0.006, 0.0054, 0.0053, 0.0046, 0.0025, 0.001], \"textposition\": \"outside\", \"x\": [0.11686387828012093, 0.10084186772998054, 0.09807854821098635, 0.07684013157980049, 0.06287281118158528, 0.059182380228378004, 0.03572665911699612, 0.031097894253506453, 0.029973975899347232, 0.028112088212392437, 0.027858259635220754, 0.02717297024349728, 0.024770110798714672, 0.021065042611907808, 0.020942308936529166, 0.018960294125862222, 0.018070312529779187, 0.01665598489124776, 0.016316825973020296, 0.015772923010687744, 0.01512125937268903, 0.014259663698925252, 0.012910441976793922, 0.012718788721852527, 0.009918226129876698, 0.008938097433337715, 0.008469883672951277, 0.008454177099759768, 0.00816901820401574, 0.008040489332088997, 0.00766937714947403, 0.0071843911128435575, 0.0062826639444142195, 0.005952135281979419, 0.00535472653730142, 0.005290824132525332, 0.004631981510164229, 0.0024772089589776597, 0.0009813782804684818], \"y\": [\"http_header_content-encoding_gzip\", \"url_length\", \"url_extensions\", \"url_char_w\", \"url_char_.\", \"http_header_transfer-encoding_chunked\", \"script_src_out_of_domain\", \"url_char_z\", \"url_extension_endswith_.com\", \"url_char_i\", \"url_char_y\", \"url_char_l\", \"http_header_content-length\", \"http_header_cache-control_set_max-age\", \"script_count\", \"title_count\", \"http_header_server_apache\", \"script_src_https\", \"meta_count\", \"url_char_t\", \"url_char_p\", \"url_char_f\", \"url_char_d\", \"http_header_vary_user-agent\", \"link_type_text/css\", \"a_count\", \"a_href_out_of_domain\", \"a_href_relative\", \"link_href_out_of_domain\", \"http_header_via_1.1\", \"push\", \"p_count\", \"a_href_https\", \"li_count\", \"input_count\", \"a_href_http\", \"img_src_http\", \"center_count\", \"iframe_src_.html\"], \"type\": \"bar\", \"uid\": \"f89774cc-977c-40a0-9ce4-2fff72171d92\"}], {\"autosize\": false, \"height\": 1000, \"width\": 1000, \"xaxis\": {\"tickfont\": {\"color\": \"black\", \"size\": 12}, \"title\": \"Feature Importances\"}, \"yaxis\": {\"automargin\": true}}, {\"showLink\": true, \"linkText\": \"Export to plot.ly\", \"plotlyServerURL\": \"https://plot.ly\"})});</script>"
      ],
      "text/vnd.plotly.v1+html": [
       "<div id=\"5475186d-d599-4589-ae34-368bf5a84636\" style=\"height: 1000px; width: 1000px;\" class=\"plotly-graph-div\"></div><script type=\"text/javascript\">require([\"plotly\"], function(Plotly) { window.PLOTLYENV=window.PLOTLYENV || {};window.PLOTLYENV.BASE_URL=\"https://plot.ly\";Plotly.newPlot(\"5475186d-d599-4589-ae34-368bf5a84636\", [{\"marker\": {\"color\": \"rgb(158,202,225)\", \"line\": {\"color\": \"rgb(8,48,107)\", \"width\": 1.5}}, \"opacity\": 0.6, \"orientation\": \"h\", \"text\": [0.1169, 0.1008, 0.0981, 0.0768, 0.0629, 0.0592, 0.0357, 0.0311, 0.03, 0.0281, 0.0279, 0.0272, 0.0248, 0.0211, 0.0209, 0.019, 0.0181, 0.0167, 0.0163, 0.0158, 0.0151, 0.0143, 0.0129, 0.0127, 0.0099, 0.0089, 0.0085, 0.0085, 0.0082, 0.008, 0.0077, 0.0072, 0.0063, 0.006, 0.0054, 0.0053, 0.0046, 0.0025, 0.001], \"textposition\": \"outside\", \"x\": [0.11686387828012093, 0.10084186772998054, 0.09807854821098635, 0.07684013157980049, 0.06287281118158528, 0.059182380228378004, 0.03572665911699612, 0.031097894253506453, 0.029973975899347232, 0.028112088212392437, 0.027858259635220754, 0.02717297024349728, 0.024770110798714672, 0.021065042611907808, 0.020942308936529166, 0.018960294125862222, 0.018070312529779187, 0.01665598489124776, 0.016316825973020296, 0.015772923010687744, 0.01512125937268903, 0.014259663698925252, 0.012910441976793922, 0.012718788721852527, 0.009918226129876698, 0.008938097433337715, 0.008469883672951277, 0.008454177099759768, 0.00816901820401574, 0.008040489332088997, 0.00766937714947403, 0.0071843911128435575, 0.0062826639444142195, 0.005952135281979419, 0.00535472653730142, 0.005290824132525332, 0.004631981510164229, 0.0024772089589776597, 0.0009813782804684818], \"y\": [\"http_header_content-encoding_gzip\", \"url_length\", \"url_extensions\", \"url_char_w\", \"url_char_.\", \"http_header_transfer-encoding_chunked\", \"script_src_out_of_domain\", \"url_char_z\", \"url_extension_endswith_.com\", \"url_char_i\", \"url_char_y\", \"url_char_l\", \"http_header_content-length\", \"http_header_cache-control_set_max-age\", \"script_count\", \"title_count\", \"http_header_server_apache\", \"script_src_https\", \"meta_count\", \"url_char_t\", \"url_char_p\", \"url_char_f\", \"url_char_d\", \"http_header_vary_user-agent\", \"link_type_text/css\", \"a_count\", \"a_href_out_of_domain\", \"a_href_relative\", \"link_href_out_of_domain\", \"http_header_via_1.1\", \"push\", \"p_count\", \"a_href_https\", \"li_count\", \"input_count\", \"a_href_http\", \"img_src_http\", \"center_count\", \"iframe_src_.html\"], \"type\": \"bar\", \"uid\": \"f89774cc-977c-40a0-9ce4-2fff72171d92\"}], {\"autosize\": false, \"height\": 1000, \"width\": 1000, \"xaxis\": {\"tickfont\": {\"color\": \"black\", \"size\": 12}, \"title\": \"Feature Importances\"}, \"yaxis\": {\"automargin\": true}}, {\"showLink\": true, \"linkText\": \"Export to plot.ly\", \"plotlyServerURL\": \"https://plot.ly\"})});</script>"
      ]
     },
     "metadata": {},
     "output_type": "display_data"
    },
    {
     "name": "stdout",
     "output_type": "stream",
     "text": [
      "\n",
      "\n",
      "\u001b[1mXGB Classifier\u001b[0m\n",
      "Accuracy of the model for training data is: 0.9794870158871946\n",
      "Confusion Matrix for training data is:\n"
     ]
    },
    {
     "data": {
      "text/plain": [
       "Predicted  False  True  __all__\n",
       "Actual                         \n",
       "False      27631   174    27805\n",
       "True         469  3072     3541\n",
       "__all__    28100  3246    31346"
      ]
     },
     "metadata": {},
     "output_type": "display_data"
    },
    {
     "name": "stdout",
     "output_type": "stream",
     "text": [
      "Accuracy of the model for test data is: 0.9761388286334056\n",
      "Confusion Matrix for test data is:\n"
     ]
    },
    {
     "data": {
      "text/plain": [
       "Predicted  False  True  __all__\n",
       "Actual                         \n",
       "False       6886    51     6937\n",
       "True         136   764      900\n",
       "__all__     7022   815     7837"
      ]
     },
     "metadata": {},
     "output_type": "display_data"
    },
    {
     "data": {
      "application/vnd.plotly.v1+json": {
       "config": {
        "linkText": "Export to plot.ly",
        "plotlyServerURL": "https://plot.ly",
        "showLink": true
       },
       "data": [
        {
         "marker": {
          "color": "rgb(158,202,225)",
          "line": {
           "color": "rgb(8,48,107)",
           "width": 1.5
          }
         },
         "opacity": 0.6,
         "orientation": "h",
         "text": [
          0.1199,
          0.1171,
          0.0679,
          0.0506,
          0.0477,
          0.039,
          0.039,
          0.039,
          0.0376,
          0.0318,
          0.026,
          0.0231,
          0.0231,
          0.0202,
          0.0202,
          0.0202,
          0.0173,
          0.0159,
          0.0159,
          0.0159,
          0.0159,
          0.0159,
          0.0159,
          0.0145,
          0.0145,
          0.0145,
          0.0145,
          0.0145,
          0.013,
          0.013,
          0.0101,
          0.0101,
          0.0087,
          0.0087,
          0.0072,
          0.0072,
          0.0072,
          0.0072,
          0
         ],
         "textposition": "outside",
         "type": "bar",
         "uid": "216900fe-3811-4606-ad46-1d884a0ade3a",
         "x": [
          0.11994219571352005,
          0.11705202609300613,
          0.06791907548904419,
          0.0505780354142189,
          0.04768786206841469,
          0.039017342031002045,
          0.039017342031002045,
          0.039017342031002045,
          0.03757225349545479,
          0.03179190680384636,
          0.02601156011223793,
          0.023121386766433716,
          0.023121386766433716,
          0.0202312134206295,
          0.0202312134206295,
          0.0202312134206295,
          0.017341040074825287,
          0.01589595340192318,
          0.01589595340192318,
          0.01589595340192318,
          0.01589595340192318,
          0.01589595340192318,
          0.01589595340192318,
          0.014450866729021072,
          0.014450866729021072,
          0.014450866729021072,
          0.014450866729021072,
          0.014450866729021072,
          0.013005780056118965,
          0.013005780056118965,
          0.01011560671031475,
          0.01011560671031475,
          0.008670520037412643,
          0.008670520037412643,
          0.007225433364510536,
          0.007225433364510536,
          0.007225433364510536,
          0.007225433364510536,
          0
         ],
         "y": [
          "url_length",
          "url_char_w",
          "url_char_.",
          "a_href_out_of_domain",
          "url_extensions",
          "http_header_server_apache",
          "http_header_content-length",
          "http_header_content-encoding_gzip",
          "link_type_text/css",
          "p_count",
          "push",
          "img_src_http",
          "a_href_https",
          "http_header_via_1.1",
          "url_char_z",
          "http_header_cache-control_set_max-age",
          "input_count",
          "a_href_relative",
          "title_count",
          "url_char_l",
          "url_char_i",
          "script_src_out_of_domain",
          "http_header_vary_user-agent",
          "script_src_https",
          "url_extension_endswith_.com",
          "link_href_out_of_domain",
          "li_count",
          "a_count",
          "meta_count",
          "a_href_http",
          "url_char_f",
          "script_count",
          "url_char_p",
          "url_char_y",
          "http_header_transfer-encoding_chunked",
          "center_count",
          "iframe_src_.html",
          "url_char_d",
          "url_char_t"
         ]
        }
       ],
       "layout": {
        "autosize": false,
        "height": 1000,
        "width": 1000,
        "xaxis": {
         "tickfont": {
          "color": "black",
          "size": 12
         },
         "title": "Feature Importances"
        },
        "yaxis": {
         "automargin": true
        }
       }
      },
      "text/html": [
       "<div id=\"8136a412-0c9d-40c9-ba87-0f2c2f28cd4c\" style=\"height: 1000px; width: 1000px;\" class=\"plotly-graph-div\"></div><script type=\"text/javascript\">require([\"plotly\"], function(Plotly) { window.PLOTLYENV=window.PLOTLYENV || {};window.PLOTLYENV.BASE_URL=\"https://plot.ly\";Plotly.newPlot(\"8136a412-0c9d-40c9-ba87-0f2c2f28cd4c\", [{\"marker\": {\"color\": \"rgb(158,202,225)\", \"line\": {\"color\": \"rgb(8,48,107)\", \"width\": 1.5}}, \"opacity\": 0.6, \"orientation\": \"h\", \"text\": [0.1199, 0.1171, 0.0679, 0.0506, 0.0477, 0.039, 0.039, 0.039, 0.0376, 0.0318, 0.026, 0.0231, 0.0231, 0.0202, 0.0202, 0.0202, 0.0173, 0.0159, 0.0159, 0.0159, 0.0159, 0.0159, 0.0159, 0.0145, 0.0145, 0.0145, 0.0145, 0.0145, 0.013, 0.013, 0.0101, 0.0101, 0.0087, 0.0087, 0.0072, 0.0072, 0.0072, 0.0072, 0.0], \"textposition\": \"outside\", \"x\": [0.11994219571352005, 0.11705202609300613, 0.06791907548904419, 0.0505780354142189, 0.04768786206841469, 0.039017342031002045, 0.039017342031002045, 0.039017342031002045, 0.03757225349545479, 0.03179190680384636, 0.02601156011223793, 0.023121386766433716, 0.023121386766433716, 0.0202312134206295, 0.0202312134206295, 0.0202312134206295, 0.017341040074825287, 0.01589595340192318, 0.01589595340192318, 0.01589595340192318, 0.01589595340192318, 0.01589595340192318, 0.01589595340192318, 0.014450866729021072, 0.014450866729021072, 0.014450866729021072, 0.014450866729021072, 0.014450866729021072, 0.013005780056118965, 0.013005780056118965, 0.01011560671031475, 0.01011560671031475, 0.008670520037412643, 0.008670520037412643, 0.007225433364510536, 0.007225433364510536, 0.007225433364510536, 0.007225433364510536, 0.0], \"y\": [\"url_length\", \"url_char_w\", \"url_char_.\", \"a_href_out_of_domain\", \"url_extensions\", \"http_header_server_apache\", \"http_header_content-length\", \"http_header_content-encoding_gzip\", \"link_type_text/css\", \"p_count\", \"push\", \"img_src_http\", \"a_href_https\", \"http_header_via_1.1\", \"url_char_z\", \"http_header_cache-control_set_max-age\", \"input_count\", \"a_href_relative\", \"title_count\", \"url_char_l\", \"url_char_i\", \"script_src_out_of_domain\", \"http_header_vary_user-agent\", \"script_src_https\", \"url_extension_endswith_.com\", \"link_href_out_of_domain\", \"li_count\", \"a_count\", \"meta_count\", \"a_href_http\", \"url_char_f\", \"script_count\", \"url_char_p\", \"url_char_y\", \"http_header_transfer-encoding_chunked\", \"center_count\", \"iframe_src_.html\", \"url_char_d\", \"url_char_t\"], \"type\": \"bar\", \"uid\": \"216900fe-3811-4606-ad46-1d884a0ade3a\"}], {\"autosize\": false, \"height\": 1000, \"width\": 1000, \"xaxis\": {\"tickfont\": {\"color\": \"black\", \"size\": 12}, \"title\": \"Feature Importances\"}, \"yaxis\": {\"automargin\": true}}, {\"showLink\": true, \"linkText\": \"Export to plot.ly\", \"plotlyServerURL\": \"https://plot.ly\"})});</script>"
      ],
      "text/vnd.plotly.v1+html": [
       "<div id=\"8136a412-0c9d-40c9-ba87-0f2c2f28cd4c\" style=\"height: 1000px; width: 1000px;\" class=\"plotly-graph-div\"></div><script type=\"text/javascript\">require([\"plotly\"], function(Plotly) { window.PLOTLYENV=window.PLOTLYENV || {};window.PLOTLYENV.BASE_URL=\"https://plot.ly\";Plotly.newPlot(\"8136a412-0c9d-40c9-ba87-0f2c2f28cd4c\", [{\"marker\": {\"color\": \"rgb(158,202,225)\", \"line\": {\"color\": \"rgb(8,48,107)\", \"width\": 1.5}}, \"opacity\": 0.6, \"orientation\": \"h\", \"text\": [0.1199, 0.1171, 0.0679, 0.0506, 0.0477, 0.039, 0.039, 0.039, 0.0376, 0.0318, 0.026, 0.0231, 0.0231, 0.0202, 0.0202, 0.0202, 0.0173, 0.0159, 0.0159, 0.0159, 0.0159, 0.0159, 0.0159, 0.0145, 0.0145, 0.0145, 0.0145, 0.0145, 0.013, 0.013, 0.0101, 0.0101, 0.0087, 0.0087, 0.0072, 0.0072, 0.0072, 0.0072, 0.0], \"textposition\": \"outside\", \"x\": [0.11994219571352005, 0.11705202609300613, 0.06791907548904419, 0.0505780354142189, 0.04768786206841469, 0.039017342031002045, 0.039017342031002045, 0.039017342031002045, 0.03757225349545479, 0.03179190680384636, 0.02601156011223793, 0.023121386766433716, 0.023121386766433716, 0.0202312134206295, 0.0202312134206295, 0.0202312134206295, 0.017341040074825287, 0.01589595340192318, 0.01589595340192318, 0.01589595340192318, 0.01589595340192318, 0.01589595340192318, 0.01589595340192318, 0.014450866729021072, 0.014450866729021072, 0.014450866729021072, 0.014450866729021072, 0.014450866729021072, 0.013005780056118965, 0.013005780056118965, 0.01011560671031475, 0.01011560671031475, 0.008670520037412643, 0.008670520037412643, 0.007225433364510536, 0.007225433364510536, 0.007225433364510536, 0.007225433364510536, 0.0], \"y\": [\"url_length\", \"url_char_w\", \"url_char_.\", \"a_href_out_of_domain\", \"url_extensions\", \"http_header_server_apache\", \"http_header_content-length\", \"http_header_content-encoding_gzip\", \"link_type_text/css\", \"p_count\", \"push\", \"img_src_http\", \"a_href_https\", \"http_header_via_1.1\", \"url_char_z\", \"http_header_cache-control_set_max-age\", \"input_count\", \"a_href_relative\", \"title_count\", \"url_char_l\", \"url_char_i\", \"script_src_out_of_domain\", \"http_header_vary_user-agent\", \"script_src_https\", \"url_extension_endswith_.com\", \"link_href_out_of_domain\", \"li_count\", \"a_count\", \"meta_count\", \"a_href_http\", \"url_char_f\", \"script_count\", \"url_char_p\", \"url_char_y\", \"http_header_transfer-encoding_chunked\", \"center_count\", \"iframe_src_.html\", \"url_char_d\", \"url_char_t\"], \"type\": \"bar\", \"uid\": \"216900fe-3811-4606-ad46-1d884a0ade3a\"}], {\"autosize\": false, \"height\": 1000, \"width\": 1000, \"xaxis\": {\"tickfont\": {\"color\": \"black\", \"size\": 12}, \"title\": \"Feature Importances\"}, \"yaxis\": {\"automargin\": true}}, {\"showLink\": true, \"linkText\": \"Export to plot.ly\", \"plotlyServerURL\": \"https://plot.ly\"})});</script>"
      ]
     },
     "metadata": {},
     "output_type": "display_data"
    },
    {
     "name": "stdout",
     "output_type": "stream",
     "text": [
      "\n",
      "\n",
      "\u001b[1mBagging Classifier\u001b[0m\n",
      "Accuracy of the model for training data is: 0.9973521342436037\n",
      "Confusion Matrix for training data is:\n"
     ]
    },
    {
     "data": {
      "text/plain": [
       "Predicted  False  True  __all__\n",
       "Actual                         \n",
       "False      27792    13    27805\n",
       "True          70  3471     3541\n",
       "__all__    27862  3484    31346"
      ]
     },
     "metadata": {},
     "output_type": "display_data"
    },
    {
     "name": "stdout",
     "output_type": "stream",
     "text": [
      "Accuracy of the model for test data is: 0.9776700267959678\n",
      "Confusion Matrix for test data is:\n"
     ]
    },
    {
     "data": {
      "text/plain": [
       "Predicted  False  True  __all__\n",
       "Actual                         \n",
       "False       6883    54     6937\n",
       "True         121   779      900\n",
       "__all__     7004   833     7837"
      ]
     },
     "metadata": {},
     "output_type": "display_data"
    },
    {
     "name": "stdout",
     "output_type": "stream",
     "text": [
      "\n",
      "\n",
      "\u001b[1mNeural Network-1\u001b[0m\n",
      "The accuracy of the model on training data is: 0.9948637784725324\n"
     ]
    },
    {
     "data": {
      "text/plain": [
       "Predicted  False  True  __all__\n",
       "Actual                         \n",
       "False      27777    28    27805\n",
       "True         133  3408     3541\n",
       "__all__    27910  3436    31346"
      ]
     },
     "metadata": {},
     "output_type": "display_data"
    },
    {
     "name": "stdout",
     "output_type": "stream",
     "text": [
      "The accuracy of the model on test data is: 0.9740972310833227\n"
     ]
    },
    {
     "data": {
      "text/plain": [
       "Predicted  False  True  __all__\n",
       "Actual                         \n",
       "False       6861    76     6937\n",
       "True         127   773      900\n",
       "__all__     6988   849     7837"
      ]
     },
     "metadata": {},
     "output_type": "display_data"
    },
    {
     "name": "stdout",
     "output_type": "stream",
     "text": [
      "\n",
      "\n"
     ]
    }
   ],
   "source": [
    "ind_columns=['KNeighborsClassifier','RandomForestClassifier','AdaBoostClassifier',\n",
    "             'GradientBoostingClassifier','ExtraTreeClassifier','XGB','BaggingClassifier','Neural Network-1']\n",
    "\n",
    "f=[KNN_model,RandomForest,AdaBoost,GradientBoosting, ExtraTree,XGB,Bagging,DeepLearning1]\n",
    "\n",
    "## Table to store training and test measures\n",
    "table_80_50_train=pd.DataFrame(columns=['accuracy','TP','TN','FP','FN','FPR','FNR'])\n",
    "table_80_50_test=pd.DataFrame(columns=['accuracy','TP','TN','FP','FN','FPR','FNR','auc','MCC','Precision','Recall'])\n",
    "\n",
    "feat_imp=[None]*5\n",
    "j=0\n",
    "for i in range(0,8):\n",
    "    if i>=1 and i<=5:\n",
    "        model,cm_train,cm_test,acc_train,acc_test,roc_auc,feat_imp[j],mcc,prec,rec=f[i](scaled_X_train,train_Y,scaled_X_test,test_Y,columns)\n",
    "        j=j+1\n",
    "    else:\n",
    "        model,cm_train,cm_test,acc_train,acc_test,roc_auc,mcc,prec,rec=f[i](scaled_X_train,train_Y,scaled_X_test,test_Y)\n",
    "    table_80_50_train.loc[i]=   ([acc_train,cm_train.TP,cm_train.TN,cm_train.FP,cm_train.FN,cm_train.FPR,cm_train.FNR])\n",
    "    table_80_50_test.loc[i] =   ([acc_test ,cm_test.TP, cm_test.TN, cm_test.FP, cm_test.FN, cm_test.FPR, cm_test.FNR,roc_auc,mcc,prec,rec])\n",
    "    print(\"\\n\")"
   ]
  },
  {
   "cell_type": "markdown",
   "metadata": {},
   "source": [
    "### <a id='1.A' style=\"text-decoration : none; color : #000000;\"> A. Results</a>"
   ]
  },
  {
   "cell_type": "code",
   "execution_count": 12,
   "metadata": {},
   "outputs": [
    {
     "data": {
      "application/vnd.plotly.v1+json": {
       "config": {
        "linkText": "Export to plot.ly",
        "plotlyServerURL": "https://plot.ly",
        "showLink": true
       },
       "data": [
        {
         "mode": "lines",
         "name": "KNN_model",
         "type": "scatter",
         "uid": "1f1294a9-aff5-4c72-bf64-aa73f03601fc",
         "x": [
          "accuracy",
          "auc",
          "MCC",
          "Precision",
          "Recall"
         ],
         "y": [
          0.9744800306239633,
          0.9217654125222239,
          0.8712140728140244,
          0.9186602870813397,
          0.8533333333333334
         ]
        },
        {
         "mode": "lines+markers",
         "name": "XGB",
         "type": "scatter",
         "uid": "8e1541d1-8de0-4bab-8f9c-863dd0563722",
         "x": [
          "accuracy",
          "auc",
          "MCC",
          "Precision",
          "Recall"
         ],
         "y": [
          0.9761388286334056,
          0.9207685038361122,
          0.878964033434976,
          0.9374233128834356,
          0.8488888888888889
         ]
        },
        {
         "marker": {
          "symbol": "x"
         },
         "mode": "lines+markers",
         "name": "Random Forest",
         "type": "scatter",
         "uid": "c2e89403-712d-4ff8-a2c8-b9fc7218d48b",
         "x": [
          "accuracy",
          "auc",
          "MCC",
          "Precision",
          "Recall"
         ],
         "y": [
          0.9797116243460507,
          0.9310057982156872,
          0.8974367327431546,
          0.951278928136419,
          0.8677777777777778
         ]
        },
        {
         "mode": "lines",
         "name": "Ada Boost",
         "type": "scatter",
         "uid": "a6835cb6-59cc-4f39-a6fc-a58a9be53fa8",
         "x": [
          "accuracy",
          "auc",
          "MCC",
          "Precision",
          "Recall"
         ],
         "y": [
          0.9691208370549955,
          0.9119694712732049,
          0.8447871462097912,
          0.8870588235294118,
          0.8377777777777777
         ]
        },
        {
         "mode": "lines+markers",
         "name": "GradientBoosting",
         "type": "scatter",
         "uid": "c16760a2-c44e-465a-ba29-e97b2b0c6b51",
         "x": [
          "accuracy",
          "auc",
          "MCC",
          "Precision",
          "Recall"
         ],
         "y": [
          0.9747352303177236,
          0.9185252190348052,
          0.8719188475226337,
          0.9280487804878049,
          0.8455555555555555
         ]
        },
        {
         "marker": {
          "symbol": "x"
         },
         "mode": "lines+markers",
         "name": "ExtraTree Classifier",
         "type": "scatter",
         "uid": "03c32d2e-09a6-4996-8099-71ca3d5653fb",
         "x": [
          "accuracy",
          "auc",
          "MCC",
          "Precision",
          "Recall"
         ],
         "y": [
          0.9776700267959678,
          0.9255012573478769,
          0.8869299338523489,
          0.9426129426129426,
          0.8577777777777778
         ]
        },
        {
         "marker": {
          "symbol": "x"
         },
         "mode": "lines+markers",
         "name": "Bagging",
         "type": "scatter",
         "uid": "fa80b6a6-85dd-4854-af4b-9d7b4883293a",
         "x": [
          "accuracy",
          "auc",
          "MCC",
          "Precision",
          "Recall"
         ],
         "y": [
          0.9776700267959678,
          0.9288856053689554,
          0.8873255736899431,
          0.9351740696278511,
          0.8655555555555555
         ]
        },
        {
         "marker": {
          "symbol": "x"
         },
         "mode": "lines+markers",
         "name": "Neural Network",
         "type": "scatter",
         "uid": "0b3c8e9b-2517-408c-9608-9da71d5debb8",
         "x": [
          "accuracy",
          "auc",
          "MCC",
          "Precision",
          "Recall"
         ],
         "y": [
          0.9740972310833227,
          0.9288856053689554,
          0.8698380875144287,
          0.9104829210836278,
          0.8588888888888889
         ]
        }
       ],
       "layout": {
        "title": "Result comparision for Features selected in Section 1",
        "yaxis": {
         "dtick": 0.05,
         "tick0": 0
        }
       }
      },
      "text/html": [
       "<div id=\"ef97d4a1-ea21-4749-9723-018765a50570\" style=\"height: 525px; width: 100%;\" class=\"plotly-graph-div\"></div><script type=\"text/javascript\">require([\"plotly\"], function(Plotly) { window.PLOTLYENV=window.PLOTLYENV || {};window.PLOTLYENV.BASE_URL=\"https://plot.ly\";Plotly.newPlot(\"ef97d4a1-ea21-4749-9723-018765a50570\", [{\"mode\": \"lines\", \"name\": \"KNN_model\", \"x\": [\"accuracy\", \"auc\", \"MCC\", \"Precision\", \"Recall\"], \"y\": [0.9744800306239633, 0.9217654125222239, 0.8712140728140244, 0.9186602870813397, 0.8533333333333334], \"type\": \"scatter\", \"uid\": \"1f1294a9-aff5-4c72-bf64-aa73f03601fc\"}, {\"mode\": \"lines+markers\", \"name\": \"XGB\", \"x\": [\"accuracy\", \"auc\", \"MCC\", \"Precision\", \"Recall\"], \"y\": [0.9761388286334056, 0.9207685038361122, 0.878964033434976, 0.9374233128834356, 0.8488888888888889], \"type\": \"scatter\", \"uid\": \"8e1541d1-8de0-4bab-8f9c-863dd0563722\"}, {\"marker\": {\"symbol\": \"x\"}, \"mode\": \"lines+markers\", \"name\": \"Random Forest\", \"x\": [\"accuracy\", \"auc\", \"MCC\", \"Precision\", \"Recall\"], \"y\": [0.9797116243460507, 0.9310057982156872, 0.8974367327431546, 0.951278928136419, 0.8677777777777778], \"type\": \"scatter\", \"uid\": \"c2e89403-712d-4ff8-a2c8-b9fc7218d48b\"}, {\"mode\": \"lines\", \"name\": \"Ada Boost\", \"x\": [\"accuracy\", \"auc\", \"MCC\", \"Precision\", \"Recall\"], \"y\": [0.9691208370549955, 0.9119694712732049, 0.8447871462097912, 0.8870588235294118, 0.8377777777777777], \"type\": \"scatter\", \"uid\": \"a6835cb6-59cc-4f39-a6fc-a58a9be53fa8\"}, {\"mode\": \"lines+markers\", \"name\": \"GradientBoosting\", \"x\": [\"accuracy\", \"auc\", \"MCC\", \"Precision\", \"Recall\"], \"y\": [0.9747352303177236, 0.9185252190348052, 0.8719188475226337, 0.9280487804878049, 0.8455555555555555], \"type\": \"scatter\", \"uid\": \"c16760a2-c44e-465a-ba29-e97b2b0c6b51\"}, {\"marker\": {\"symbol\": \"x\"}, \"mode\": \"lines+markers\", \"name\": \"ExtraTree Classifier\", \"x\": [\"accuracy\", \"auc\", \"MCC\", \"Precision\", \"Recall\"], \"y\": [0.9776700267959678, 0.9255012573478769, 0.8869299338523489, 0.9426129426129426, 0.8577777777777778], \"type\": \"scatter\", \"uid\": \"03c32d2e-09a6-4996-8099-71ca3d5653fb\"}, {\"marker\": {\"symbol\": \"x\"}, \"mode\": \"lines+markers\", \"name\": \"Bagging\", \"x\": [\"accuracy\", \"auc\", \"MCC\", \"Precision\", \"Recall\"], \"y\": [0.9776700267959678, 0.9288856053689554, 0.8873255736899431, 0.9351740696278511, 0.8655555555555555], \"type\": \"scatter\", \"uid\": \"fa80b6a6-85dd-4854-af4b-9d7b4883293a\"}, {\"marker\": {\"symbol\": \"x\"}, \"mode\": \"lines+markers\", \"name\": \"Neural Network\", \"x\": [\"accuracy\", \"auc\", \"MCC\", \"Precision\", \"Recall\"], \"y\": [0.9740972310833227, 0.9288856053689554, 0.8698380875144287, 0.9104829210836278, 0.8588888888888889], \"type\": \"scatter\", \"uid\": \"0b3c8e9b-2517-408c-9608-9da71d5debb8\"}], {\"title\": \"Result comparision for Features selected in Section 1\", \"yaxis\": {\"dtick\": 0.05, \"tick0\": 0}}, {\"showLink\": true, \"linkText\": \"Export to plot.ly\", \"plotlyServerURL\": \"https://plot.ly\"})});</script><script type=\"text/javascript\">window.addEventListener(\"resize\", function(){window._Plotly.Plots.resize(document.getElementById(\"ef97d4a1-ea21-4749-9723-018765a50570\"));});</script>"
      ],
      "text/vnd.plotly.v1+html": [
       "<div id=\"ef97d4a1-ea21-4749-9723-018765a50570\" style=\"height: 525px; width: 100%;\" class=\"plotly-graph-div\"></div><script type=\"text/javascript\">require([\"plotly\"], function(Plotly) { window.PLOTLYENV=window.PLOTLYENV || {};window.PLOTLYENV.BASE_URL=\"https://plot.ly\";Plotly.newPlot(\"ef97d4a1-ea21-4749-9723-018765a50570\", [{\"mode\": \"lines\", \"name\": \"KNN_model\", \"x\": [\"accuracy\", \"auc\", \"MCC\", \"Precision\", \"Recall\"], \"y\": [0.9744800306239633, 0.9217654125222239, 0.8712140728140244, 0.9186602870813397, 0.8533333333333334], \"type\": \"scatter\", \"uid\": \"1f1294a9-aff5-4c72-bf64-aa73f03601fc\"}, {\"mode\": \"lines+markers\", \"name\": \"XGB\", \"x\": [\"accuracy\", \"auc\", \"MCC\", \"Precision\", \"Recall\"], \"y\": [0.9761388286334056, 0.9207685038361122, 0.878964033434976, 0.9374233128834356, 0.8488888888888889], \"type\": \"scatter\", \"uid\": \"8e1541d1-8de0-4bab-8f9c-863dd0563722\"}, {\"marker\": {\"symbol\": \"x\"}, \"mode\": \"lines+markers\", \"name\": \"Random Forest\", \"x\": [\"accuracy\", \"auc\", \"MCC\", \"Precision\", \"Recall\"], \"y\": [0.9797116243460507, 0.9310057982156872, 0.8974367327431546, 0.951278928136419, 0.8677777777777778], \"type\": \"scatter\", \"uid\": \"c2e89403-712d-4ff8-a2c8-b9fc7218d48b\"}, {\"mode\": \"lines\", \"name\": \"Ada Boost\", \"x\": [\"accuracy\", \"auc\", \"MCC\", \"Precision\", \"Recall\"], \"y\": [0.9691208370549955, 0.9119694712732049, 0.8447871462097912, 0.8870588235294118, 0.8377777777777777], \"type\": \"scatter\", \"uid\": \"a6835cb6-59cc-4f39-a6fc-a58a9be53fa8\"}, {\"mode\": \"lines+markers\", \"name\": \"GradientBoosting\", \"x\": [\"accuracy\", \"auc\", \"MCC\", \"Precision\", \"Recall\"], \"y\": [0.9747352303177236, 0.9185252190348052, 0.8719188475226337, 0.9280487804878049, 0.8455555555555555], \"type\": \"scatter\", \"uid\": \"c16760a2-c44e-465a-ba29-e97b2b0c6b51\"}, {\"marker\": {\"symbol\": \"x\"}, \"mode\": \"lines+markers\", \"name\": \"ExtraTree Classifier\", \"x\": [\"accuracy\", \"auc\", \"MCC\", \"Precision\", \"Recall\"], \"y\": [0.9776700267959678, 0.9255012573478769, 0.8869299338523489, 0.9426129426129426, 0.8577777777777778], \"type\": \"scatter\", \"uid\": \"03c32d2e-09a6-4996-8099-71ca3d5653fb\"}, {\"marker\": {\"symbol\": \"x\"}, \"mode\": \"lines+markers\", \"name\": \"Bagging\", \"x\": [\"accuracy\", \"auc\", \"MCC\", \"Precision\", \"Recall\"], \"y\": [0.9776700267959678, 0.9288856053689554, 0.8873255736899431, 0.9351740696278511, 0.8655555555555555], \"type\": \"scatter\", \"uid\": \"fa80b6a6-85dd-4854-af4b-9d7b4883293a\"}, {\"marker\": {\"symbol\": \"x\"}, \"mode\": \"lines+markers\", \"name\": \"Neural Network\", \"x\": [\"accuracy\", \"auc\", \"MCC\", \"Precision\", \"Recall\"], \"y\": [0.9740972310833227, 0.9288856053689554, 0.8698380875144287, 0.9104829210836278, 0.8588888888888889], \"type\": \"scatter\", \"uid\": \"0b3c8e9b-2517-408c-9608-9da71d5debb8\"}], {\"title\": \"Result comparision for Features selected in Section 1\", \"yaxis\": {\"dtick\": 0.05, \"tick0\": 0}}, {\"showLink\": true, \"linkText\": \"Export to plot.ly\", \"plotlyServerURL\": \"https://plot.ly\"})});</script><script type=\"text/javascript\">window.addEventListener(\"resize\", function(){window._Plotly.Plots.resize(document.getElementById(\"ef97d4a1-ea21-4749-9723-018765a50570\"));});</script>"
      ]
     },
     "metadata": {},
     "output_type": "display_data"
    }
   ],
   "source": [
    "trace0 = go.Scatter(x=table_80_50_test.iloc[0].index.values[[0,7,8,9,10]],\n",
    "                    y=table_80_50_test.iloc[0].values[[0,7,8,9,10]],\n",
    "                    mode = 'lines',\n",
    "                    name = 'KNN_model')\n",
    "\n",
    "\n",
    "trace2 = go.Scatter(x=table_80_50_test.iloc[1].index.values[[0,7,8,9,10]],\n",
    "                    y=table_80_50_test.iloc[1].values[[0,7,8,9,10]],\n",
    "                    mode = 'lines+markers',marker=dict(symbol='x'),\n",
    "                    name = 'Random Forest')\n",
    "\n",
    "\n",
    "trace3 = go.Scatter(x=table_80_50_test.iloc[2].index.values[[0,7,8,9,10]],\n",
    "                    y=table_80_50_test.iloc[2].values[[0,7,8,9,10]],\n",
    "                    mode = 'lines',\n",
    "                    name = 'Ada Boost')\n",
    "\n",
    "trace4 = go.Scatter(x=table_80_50_test.iloc[3].index.values[[0,7,8,9,10]],\n",
    "                    y=table_80_50_test.iloc[3].values[[0,7,8,9,10]],\n",
    "                    mode = 'lines+markers',\n",
    "                    name = 'GradientBoosting')\n",
    "\n",
    "trace5 = go.Scatter(x=table_80_50_test.iloc[4].index.values[[0,7,8,9,10]],\n",
    "                    y=table_80_50_test.iloc[4].values[[0,7,8,9,10]],\n",
    "                    mode = 'lines+markers',marker=dict(symbol='x'),\n",
    "                    name = 'ExtraTree Classifier')\n",
    "\n",
    "\n",
    "trace1 = go.Scatter(x=table_80_50_test.iloc[5].index.values[[0,7,8,9,10]],\n",
    "                    y=table_80_50_test.iloc[5].values[[0,7,8,9,10]],\n",
    "                    mode = 'lines+markers',\n",
    "                    name = 'XGB')\n",
    "\n",
    "\n",
    "trace6 = go.Scatter(x=table_80_50_test.iloc[6].index.values[[0,7,8,9,10]],\n",
    "                    y=table_80_50_test.iloc[6].values[[0,7,8,9,10]],\n",
    "                    mode = 'lines+markers',marker=dict(symbol='x'),\n",
    "                    name = 'Bagging')\n",
    "\n",
    "trace7 = go.Scatter(x=table_80_50_test.iloc[7].index.values[[0,7,8,9,10]],\n",
    "                    y=table_80_50_test.iloc[7].values[[0,7,8,9,10]],\n",
    "                    mode = 'lines+markers',marker=dict(symbol='x'),\n",
    "                    name = 'Neural Network')\n",
    "\n",
    "\n",
    "\n",
    "data = [trace0, trace1, trace2, trace3, trace4, trace5, trace6, trace7]\n",
    "layout = go.Layout(yaxis=dict(tick0=0,dtick=0.05),title='Result comparision for Features selected in Section 1')\n",
    "fig = go.Figure(data=data, layout=layout)\n",
    "\n",
    "iplot(fig, filename='Result')"
   ]
  },
  {
   "cell_type": "code",
   "execution_count": 13,
   "metadata": {},
   "outputs": [
    {
     "name": "stdout",
     "output_type": "stream",
     "text": [
      "Training Results\n"
     ]
    },
    {
     "data": {
      "text/html": [
       "<div>\n",
       "<style scoped>\n",
       "    .dataframe tbody tr th:only-of-type {\n",
       "        vertical-align: middle;\n",
       "    }\n",
       "\n",
       "    .dataframe tbody tr th {\n",
       "        vertical-align: top;\n",
       "    }\n",
       "\n",
       "    .dataframe thead th {\n",
       "        text-align: right;\n",
       "    }\n",
       "</style>\n",
       "<table border=\"1\" class=\"dataframe\">\n",
       "  <thead>\n",
       "    <tr style=\"text-align: right;\">\n",
       "      <th></th>\n",
       "      <th>accuracy</th>\n",
       "      <th>TP</th>\n",
       "      <th>TN</th>\n",
       "      <th>FP</th>\n",
       "      <th>FN</th>\n",
       "      <th>FPR</th>\n",
       "      <th>FNR</th>\n",
       "    </tr>\n",
       "    <tr>\n",
       "      <th>index</th>\n",
       "      <th></th>\n",
       "      <th></th>\n",
       "      <th></th>\n",
       "      <th></th>\n",
       "      <th></th>\n",
       "      <th></th>\n",
       "      <th></th>\n",
       "    </tr>\n",
       "  </thead>\n",
       "  <tbody>\n",
       "    <tr>\n",
       "      <th>KNeighborsClassifier</th>\n",
       "      <td>0.980604</td>\n",
       "      <td>3114.0</td>\n",
       "      <td>27624.0</td>\n",
       "      <td>181.0</td>\n",
       "      <td>427.0</td>\n",
       "      <td>0.006510</td>\n",
       "      <td>0.120587</td>\n",
       "    </tr>\n",
       "    <tr>\n",
       "      <th>RandomForestClassifier</th>\n",
       "      <td>0.997416</td>\n",
       "      <td>3469.0</td>\n",
       "      <td>27796.0</td>\n",
       "      <td>9.0</td>\n",
       "      <td>72.0</td>\n",
       "      <td>0.000324</td>\n",
       "      <td>0.020333</td>\n",
       "    </tr>\n",
       "    <tr>\n",
       "      <th>AdaBoostClassifier</th>\n",
       "      <td>0.973745</td>\n",
       "      <td>3057.0</td>\n",
       "      <td>27466.0</td>\n",
       "      <td>339.0</td>\n",
       "      <td>484.0</td>\n",
       "      <td>0.012192</td>\n",
       "      <td>0.136685</td>\n",
       "    </tr>\n",
       "    <tr>\n",
       "      <th>GradientBoostingClassifier</th>\n",
       "      <td>0.979423</td>\n",
       "      <td>3077.0</td>\n",
       "      <td>27624.0</td>\n",
       "      <td>181.0</td>\n",
       "      <td>464.0</td>\n",
       "      <td>0.006510</td>\n",
       "      <td>0.131036</td>\n",
       "    </tr>\n",
       "    <tr>\n",
       "      <th>ExtraTreeClassifier</th>\n",
       "      <td>0.999394</td>\n",
       "      <td>3524.0</td>\n",
       "      <td>27803.0</td>\n",
       "      <td>2.0</td>\n",
       "      <td>17.0</td>\n",
       "      <td>0.000072</td>\n",
       "      <td>0.004801</td>\n",
       "    </tr>\n",
       "    <tr>\n",
       "      <th>XGB</th>\n",
       "      <td>0.979487</td>\n",
       "      <td>3072.0</td>\n",
       "      <td>27631.0</td>\n",
       "      <td>174.0</td>\n",
       "      <td>469.0</td>\n",
       "      <td>0.006258</td>\n",
       "      <td>0.132448</td>\n",
       "    </tr>\n",
       "    <tr>\n",
       "      <th>BaggingClassifier</th>\n",
       "      <td>0.997352</td>\n",
       "      <td>3471.0</td>\n",
       "      <td>27792.0</td>\n",
       "      <td>13.0</td>\n",
       "      <td>70.0</td>\n",
       "      <td>0.000468</td>\n",
       "      <td>0.019768</td>\n",
       "    </tr>\n",
       "    <tr>\n",
       "      <th>Neural Network-1</th>\n",
       "      <td>0.994864</td>\n",
       "      <td>3408.0</td>\n",
       "      <td>27777.0</td>\n",
       "      <td>28.0</td>\n",
       "      <td>133.0</td>\n",
       "      <td>0.001007</td>\n",
       "      <td>0.037560</td>\n",
       "    </tr>\n",
       "  </tbody>\n",
       "</table>\n",
       "</div>"
      ],
      "text/plain": [
       "                            accuracy      TP       TN     FP     FN       FPR  \\\n",
       "index                                                                           \n",
       "KNeighborsClassifier        0.980604  3114.0  27624.0  181.0  427.0  0.006510   \n",
       "RandomForestClassifier      0.997416  3469.0  27796.0    9.0   72.0  0.000324   \n",
       "AdaBoostClassifier          0.973745  3057.0  27466.0  339.0  484.0  0.012192   \n",
       "GradientBoostingClassifier  0.979423  3077.0  27624.0  181.0  464.0  0.006510   \n",
       "ExtraTreeClassifier         0.999394  3524.0  27803.0    2.0   17.0  0.000072   \n",
       "XGB                         0.979487  3072.0  27631.0  174.0  469.0  0.006258   \n",
       "BaggingClassifier           0.997352  3471.0  27792.0   13.0   70.0  0.000468   \n",
       "Neural Network-1            0.994864  3408.0  27777.0   28.0  133.0  0.001007   \n",
       "\n",
       "                                 FNR  \n",
       "index                                 \n",
       "KNeighborsClassifier        0.120587  \n",
       "RandomForestClassifier      0.020333  \n",
       "AdaBoostClassifier          0.136685  \n",
       "GradientBoostingClassifier  0.131036  \n",
       "ExtraTreeClassifier         0.004801  \n",
       "XGB                         0.132448  \n",
       "BaggingClassifier           0.019768  \n",
       "Neural Network-1            0.037560  "
      ]
     },
     "metadata": {},
     "output_type": "display_data"
    },
    {
     "name": "stdout",
     "output_type": "stream",
     "text": [
      "Test Results\n"
     ]
    },
    {
     "data": {
      "text/html": [
       "<div>\n",
       "<style scoped>\n",
       "    .dataframe tbody tr th:only-of-type {\n",
       "        vertical-align: middle;\n",
       "    }\n",
       "\n",
       "    .dataframe tbody tr th {\n",
       "        vertical-align: top;\n",
       "    }\n",
       "\n",
       "    .dataframe thead th {\n",
       "        text-align: right;\n",
       "    }\n",
       "</style>\n",
       "<table border=\"1\" class=\"dataframe\">\n",
       "  <thead>\n",
       "    <tr style=\"text-align: right;\">\n",
       "      <th></th>\n",
       "      <th>accuracy</th>\n",
       "      <th>TP</th>\n",
       "      <th>TN</th>\n",
       "      <th>FP</th>\n",
       "      <th>FN</th>\n",
       "      <th>FPR</th>\n",
       "      <th>FNR</th>\n",
       "      <th>auc</th>\n",
       "      <th>MCC</th>\n",
       "      <th>Precision</th>\n",
       "      <th>Recall</th>\n",
       "    </tr>\n",
       "    <tr>\n",
       "      <th>index</th>\n",
       "      <th></th>\n",
       "      <th></th>\n",
       "      <th></th>\n",
       "      <th></th>\n",
       "      <th></th>\n",
       "      <th></th>\n",
       "      <th></th>\n",
       "      <th></th>\n",
       "      <th></th>\n",
       "      <th></th>\n",
       "      <th></th>\n",
       "    </tr>\n",
       "  </thead>\n",
       "  <tbody>\n",
       "    <tr>\n",
       "      <th>KNeighborsClassifier</th>\n",
       "      <td>0.974480</td>\n",
       "      <td>768.0</td>\n",
       "      <td>6869.0</td>\n",
       "      <td>68.0</td>\n",
       "      <td>132.0</td>\n",
       "      <td>0.009803</td>\n",
       "      <td>0.146667</td>\n",
       "      <td>0.921765</td>\n",
       "      <td>0.871214</td>\n",
       "      <td>0.918660</td>\n",
       "      <td>0.853333</td>\n",
       "    </tr>\n",
       "    <tr>\n",
       "      <th>RandomForestClassifier</th>\n",
       "      <td>0.979712</td>\n",
       "      <td>781.0</td>\n",
       "      <td>6897.0</td>\n",
       "      <td>40.0</td>\n",
       "      <td>119.0</td>\n",
       "      <td>0.005766</td>\n",
       "      <td>0.132222</td>\n",
       "      <td>0.931006</td>\n",
       "      <td>0.897437</td>\n",
       "      <td>0.951279</td>\n",
       "      <td>0.867778</td>\n",
       "    </tr>\n",
       "    <tr>\n",
       "      <th>AdaBoostClassifier</th>\n",
       "      <td>0.969121</td>\n",
       "      <td>754.0</td>\n",
       "      <td>6841.0</td>\n",
       "      <td>96.0</td>\n",
       "      <td>146.0</td>\n",
       "      <td>0.013839</td>\n",
       "      <td>0.162222</td>\n",
       "      <td>0.911969</td>\n",
       "      <td>0.844787</td>\n",
       "      <td>0.887059</td>\n",
       "      <td>0.837778</td>\n",
       "    </tr>\n",
       "    <tr>\n",
       "      <th>GradientBoostingClassifier</th>\n",
       "      <td>0.974735</td>\n",
       "      <td>761.0</td>\n",
       "      <td>6878.0</td>\n",
       "      <td>59.0</td>\n",
       "      <td>139.0</td>\n",
       "      <td>0.008505</td>\n",
       "      <td>0.154444</td>\n",
       "      <td>0.918525</td>\n",
       "      <td>0.871919</td>\n",
       "      <td>0.928049</td>\n",
       "      <td>0.845556</td>\n",
       "    </tr>\n",
       "    <tr>\n",
       "      <th>ExtraTreeClassifier</th>\n",
       "      <td>0.977670</td>\n",
       "      <td>772.0</td>\n",
       "      <td>6890.0</td>\n",
       "      <td>47.0</td>\n",
       "      <td>128.0</td>\n",
       "      <td>0.006775</td>\n",
       "      <td>0.142222</td>\n",
       "      <td>0.925501</td>\n",
       "      <td>0.886930</td>\n",
       "      <td>0.942613</td>\n",
       "      <td>0.857778</td>\n",
       "    </tr>\n",
       "    <tr>\n",
       "      <th>XGB</th>\n",
       "      <td>0.976139</td>\n",
       "      <td>764.0</td>\n",
       "      <td>6886.0</td>\n",
       "      <td>51.0</td>\n",
       "      <td>136.0</td>\n",
       "      <td>0.007352</td>\n",
       "      <td>0.151111</td>\n",
       "      <td>0.920769</td>\n",
       "      <td>0.878964</td>\n",
       "      <td>0.937423</td>\n",
       "      <td>0.848889</td>\n",
       "    </tr>\n",
       "    <tr>\n",
       "      <th>BaggingClassifier</th>\n",
       "      <td>0.977670</td>\n",
       "      <td>779.0</td>\n",
       "      <td>6883.0</td>\n",
       "      <td>54.0</td>\n",
       "      <td>121.0</td>\n",
       "      <td>0.007784</td>\n",
       "      <td>0.134444</td>\n",
       "      <td>0.928886</td>\n",
       "      <td>0.887326</td>\n",
       "      <td>0.935174</td>\n",
       "      <td>0.865556</td>\n",
       "    </tr>\n",
       "    <tr>\n",
       "      <th>Neural Network-1</th>\n",
       "      <td>0.974097</td>\n",
       "      <td>773.0</td>\n",
       "      <td>6861.0</td>\n",
       "      <td>76.0</td>\n",
       "      <td>127.0</td>\n",
       "      <td>0.010956</td>\n",
       "      <td>0.141111</td>\n",
       "      <td>0.928886</td>\n",
       "      <td>0.869838</td>\n",
       "      <td>0.910483</td>\n",
       "      <td>0.858889</td>\n",
       "    </tr>\n",
       "  </tbody>\n",
       "</table>\n",
       "</div>"
      ],
      "text/plain": [
       "                            accuracy     TP      TN    FP     FN       FPR  \\\n",
       "index                                                                        \n",
       "KNeighborsClassifier        0.974480  768.0  6869.0  68.0  132.0  0.009803   \n",
       "RandomForestClassifier      0.979712  781.0  6897.0  40.0  119.0  0.005766   \n",
       "AdaBoostClassifier          0.969121  754.0  6841.0  96.0  146.0  0.013839   \n",
       "GradientBoostingClassifier  0.974735  761.0  6878.0  59.0  139.0  0.008505   \n",
       "ExtraTreeClassifier         0.977670  772.0  6890.0  47.0  128.0  0.006775   \n",
       "XGB                         0.976139  764.0  6886.0  51.0  136.0  0.007352   \n",
       "BaggingClassifier           0.977670  779.0  6883.0  54.0  121.0  0.007784   \n",
       "Neural Network-1            0.974097  773.0  6861.0  76.0  127.0  0.010956   \n",
       "\n",
       "                                 FNR       auc       MCC  Precision    Recall  \n",
       "index                                                                          \n",
       "KNeighborsClassifier        0.146667  0.921765  0.871214   0.918660  0.853333  \n",
       "RandomForestClassifier      0.132222  0.931006  0.897437   0.951279  0.867778  \n",
       "AdaBoostClassifier          0.162222  0.911969  0.844787   0.887059  0.837778  \n",
       "GradientBoostingClassifier  0.154444  0.918525  0.871919   0.928049  0.845556  \n",
       "ExtraTreeClassifier         0.142222  0.925501  0.886930   0.942613  0.857778  \n",
       "XGB                         0.151111  0.920769  0.878964   0.937423  0.848889  \n",
       "BaggingClassifier           0.134444  0.928886  0.887326   0.935174  0.865556  \n",
       "Neural Network-1            0.141111  0.928886  0.869838   0.910483  0.858889  "
      ]
     },
     "metadata": {},
     "output_type": "display_data"
    }
   ],
   "source": [
    "table_80_50_train['index']=ind_columns\n",
    "table_80_50_test['index']=ind_columns\n",
    "\n",
    "\n",
    "table_80_50_test.set_index(['index'],drop=True,inplace=True)\n",
    "table_80_50_train.set_index(['index'],drop=True,inplace=True)\n",
    "\n",
    "print(\"Training Results\")\n",
    "display(table_80_50_train)\n",
    "print(\"Test Results\")\n",
    "display(table_80_50_test)"
   ]
  },
  {
   "cell_type": "markdown",
   "metadata": {},
   "source": [
    "### <a id='1.B' style=\"text-decoration : none; color : #000000;\"> B. Average Feature Importances</a>"
   ]
  },
  {
   "cell_type": "code",
   "execution_count": 14,
   "metadata": {},
   "outputs": [
    {
     "data": {
      "application/vnd.plotly.v1+json": {
       "config": {
        "linkText": "Export to plot.ly",
        "plotlyServerURL": "https://plot.ly",
        "showLink": true
       },
       "data": [
        {
         "marker": {
          "color": "rgb(158,202,225)",
          "line": {
           "color": "rgb(8,48,107)",
           "width": 1.5
          }
         },
         "opacity": 0.6,
         "orientation": "h",
         "text": [
          0.1405,
          0.1066,
          0.0819,
          0.0732,
          0.0442,
          0.0426,
          0.036,
          0.0305,
          0.0274,
          0.0253,
          0.0229,
          0.0216,
          0.0215,
          0.0197,
          0.0186,
          0.0186,
          0.017,
          0.0166,
          0.0164,
          0.016,
          0.0159,
          0.015,
          0.0146,
          0.0141,
          0.0136,
          0.013,
          0.0126,
          0.0115,
          0.0114,
          0.0109,
          0.0101,
          0.0101,
          0.0092,
          0.009,
          0.0088,
          0.0063,
          0.0058,
          0.0056,
          0.0051
         ],
         "textposition": "outside",
         "type": "bar",
         "uid": "7e8a39f9-cf40-43da-aead-8b80aca09895",
         "x": [
          0.14050425225258728,
          0.106594012567697,
          0.08194897483741626,
          0.07320186103064233,
          0.04419571737430698,
          0.04260368153541842,
          0.03602981962309154,
          0.030504437390874058,
          0.02742224536655553,
          0.025262712512353756,
          0.022926844927115636,
          0.021605936343382502,
          0.021521928255202025,
          0.019735576162061334,
          0.018620930675859175,
          0.018602453623491166,
          0.016953927666405126,
          0.01661502934528719,
          0.01641020877478695,
          0.01596211564766268,
          0.015936420213886728,
          0.014961679035226683,
          0.014649158728794392,
          0.014097362256580051,
          0.01357536428063016,
          0.013040769559243808,
          0.012626934250635245,
          0.011504214010033157,
          0.011394256305746312,
          0.010935728765933133,
          0.010133747643931499,
          0.010092624795408924,
          0.00923136006385725,
          0.008985029974808626,
          0.008808405486380663,
          0.006269678907161127,
          0.005805076832192847,
          0.005619204121830236,
          0.005110318110464195
         ],
         "y": [
          "url_extensions",
          "url_length",
          "title_count",
          "url_char_w",
          "url_char_.",
          "http_header_content-encoding_gzip",
          "a_href_out_of_domain",
          "a_href_relative",
          "http_header_content-length",
          "meta_count",
          "http_header_server_apache",
          "url_char_z",
          "p_count",
          "a_count",
          "img_src_http",
          "link_type_text/css",
          "script_count",
          "push",
          "url_char_i",
          "url_char_l",
          "http_header_vary_user-agent",
          "script_src_out_of_domain",
          "http_header_transfer-encoding_chunked",
          "link_href_out_of_domain",
          "url_char_y",
          "http_header_cache-control_set_max-age",
          "url_extension_endswith_.com",
          "url_char_p",
          "a_href_https",
          "url_char_f",
          "http_header_via_1.1",
          "url_char_d",
          "a_href_http",
          "script_src_https",
          "li_count",
          "center_count",
          "iframe_src_.html",
          "url_char_t",
          "input_count"
         ]
        }
       ],
       "layout": {
        "autosize": false,
        "height": 1000,
        "width": 1000,
        "xaxis": {
         "tickfont": {
          "color": "black",
          "size": 12
         },
         "title": "Feature Importances"
        },
        "yaxis": {
         "automargin": true
        }
       }
      },
      "text/html": [
       "<div id=\"1be48e66-44ef-44b1-8812-0c6c6c81535d\" style=\"height: 1000px; width: 1000px;\" class=\"plotly-graph-div\"></div><script type=\"text/javascript\">require([\"plotly\"], function(Plotly) { window.PLOTLYENV=window.PLOTLYENV || {};window.PLOTLYENV.BASE_URL=\"https://plot.ly\";Plotly.newPlot(\"1be48e66-44ef-44b1-8812-0c6c6c81535d\", [{\"marker\": {\"color\": \"rgb(158,202,225)\", \"line\": {\"color\": \"rgb(8,48,107)\", \"width\": 1.5}}, \"opacity\": 0.6, \"orientation\": \"h\", \"text\": [0.1405, 0.1066, 0.0819, 0.0732, 0.0442, 0.0426, 0.036, 0.0305, 0.0274, 0.0253, 0.0229, 0.0216, 0.0215, 0.0197, 0.0186, 0.0186, 0.017, 0.0166, 0.0164, 0.016, 0.0159, 0.015, 0.0146, 0.0141, 0.0136, 0.013, 0.0126, 0.0115, 0.0114, 0.0109, 0.0101, 0.0101, 0.0092, 0.009, 0.0088, 0.0063, 0.0058, 0.0056, 0.0051], \"textposition\": \"outside\", \"x\": [0.14050425225258728, 0.106594012567697, 0.08194897483741626, 0.07320186103064233, 0.04419571737430698, 0.04260368153541842, 0.03602981962309154, 0.030504437390874058, 0.02742224536655553, 0.025262712512353756, 0.022926844927115636, 0.021605936343382502, 0.021521928255202025, 0.019735576162061334, 0.018620930675859175, 0.018602453623491166, 0.016953927666405126, 0.01661502934528719, 0.01641020877478695, 0.01596211564766268, 0.015936420213886728, 0.014961679035226683, 0.014649158728794392, 0.014097362256580051, 0.01357536428063016, 0.013040769559243808, 0.012626934250635245, 0.011504214010033157, 0.011394256305746312, 0.010935728765933133, 0.010133747643931499, 0.010092624795408924, 0.00923136006385725, 0.008985029974808626, 0.008808405486380663, 0.006269678907161127, 0.005805076832192847, 0.005619204121830236, 0.005110318110464195], \"y\": [\"url_extensions\", \"url_length\", \"title_count\", \"url_char_w\", \"url_char_.\", \"http_header_content-encoding_gzip\", \"a_href_out_of_domain\", \"a_href_relative\", \"http_header_content-length\", \"meta_count\", \"http_header_server_apache\", \"url_char_z\", \"p_count\", \"a_count\", \"img_src_http\", \"link_type_text/css\", \"script_count\", \"push\", \"url_char_i\", \"url_char_l\", \"http_header_vary_user-agent\", \"script_src_out_of_domain\", \"http_header_transfer-encoding_chunked\", \"link_href_out_of_domain\", \"url_char_y\", \"http_header_cache-control_set_max-age\", \"url_extension_endswith_.com\", \"url_char_p\", \"a_href_https\", \"url_char_f\", \"http_header_via_1.1\", \"url_char_d\", \"a_href_http\", \"script_src_https\", \"li_count\", \"center_count\", \"iframe_src_.html\", \"url_char_t\", \"input_count\"], \"type\": \"bar\", \"uid\": \"7e8a39f9-cf40-43da-aead-8b80aca09895\"}], {\"autosize\": false, \"height\": 1000, \"width\": 1000, \"xaxis\": {\"tickfont\": {\"color\": \"black\", \"size\": 12}, \"title\": \"Feature Importances\"}, \"yaxis\": {\"automargin\": true}}, {\"showLink\": true, \"linkText\": \"Export to plot.ly\", \"plotlyServerURL\": \"https://plot.ly\"})});</script>"
      ],
      "text/vnd.plotly.v1+html": [
       "<div id=\"1be48e66-44ef-44b1-8812-0c6c6c81535d\" style=\"height: 1000px; width: 1000px;\" class=\"plotly-graph-div\"></div><script type=\"text/javascript\">require([\"plotly\"], function(Plotly) { window.PLOTLYENV=window.PLOTLYENV || {};window.PLOTLYENV.BASE_URL=\"https://plot.ly\";Plotly.newPlot(\"1be48e66-44ef-44b1-8812-0c6c6c81535d\", [{\"marker\": {\"color\": \"rgb(158,202,225)\", \"line\": {\"color\": \"rgb(8,48,107)\", \"width\": 1.5}}, \"opacity\": 0.6, \"orientation\": \"h\", \"text\": [0.1405, 0.1066, 0.0819, 0.0732, 0.0442, 0.0426, 0.036, 0.0305, 0.0274, 0.0253, 0.0229, 0.0216, 0.0215, 0.0197, 0.0186, 0.0186, 0.017, 0.0166, 0.0164, 0.016, 0.0159, 0.015, 0.0146, 0.0141, 0.0136, 0.013, 0.0126, 0.0115, 0.0114, 0.0109, 0.0101, 0.0101, 0.0092, 0.009, 0.0088, 0.0063, 0.0058, 0.0056, 0.0051], \"textposition\": \"outside\", \"x\": [0.14050425225258728, 0.106594012567697, 0.08194897483741626, 0.07320186103064233, 0.04419571737430698, 0.04260368153541842, 0.03602981962309154, 0.030504437390874058, 0.02742224536655553, 0.025262712512353756, 0.022926844927115636, 0.021605936343382502, 0.021521928255202025, 0.019735576162061334, 0.018620930675859175, 0.018602453623491166, 0.016953927666405126, 0.01661502934528719, 0.01641020877478695, 0.01596211564766268, 0.015936420213886728, 0.014961679035226683, 0.014649158728794392, 0.014097362256580051, 0.01357536428063016, 0.013040769559243808, 0.012626934250635245, 0.011504214010033157, 0.011394256305746312, 0.010935728765933133, 0.010133747643931499, 0.010092624795408924, 0.00923136006385725, 0.008985029974808626, 0.008808405486380663, 0.006269678907161127, 0.005805076832192847, 0.005619204121830236, 0.005110318110464195], \"y\": [\"url_extensions\", \"url_length\", \"title_count\", \"url_char_w\", \"url_char_.\", \"http_header_content-encoding_gzip\", \"a_href_out_of_domain\", \"a_href_relative\", \"http_header_content-length\", \"meta_count\", \"http_header_server_apache\", \"url_char_z\", \"p_count\", \"a_count\", \"img_src_http\", \"link_type_text/css\", \"script_count\", \"push\", \"url_char_i\", \"url_char_l\", \"http_header_vary_user-agent\", \"script_src_out_of_domain\", \"http_header_transfer-encoding_chunked\", \"link_href_out_of_domain\", \"url_char_y\", \"http_header_cache-control_set_max-age\", \"url_extension_endswith_.com\", \"url_char_p\", \"a_href_https\", \"url_char_f\", \"http_header_via_1.1\", \"url_char_d\", \"a_href_http\", \"script_src_https\", \"li_count\", \"center_count\", \"iframe_src_.html\", \"url_char_t\", \"input_count\"], \"type\": \"bar\", \"uid\": \"7e8a39f9-cf40-43da-aead-8b80aca09895\"}], {\"autosize\": false, \"height\": 1000, \"width\": 1000, \"xaxis\": {\"tickfont\": {\"color\": \"black\", \"size\": 12}, \"title\": \"Feature Importances\"}, \"yaxis\": {\"automargin\": true}}, {\"showLink\": true, \"linkText\": \"Export to plot.ly\", \"plotlyServerURL\": \"https://plot.ly\"})});</script>"
      ]
     },
     "metadata": {},
     "output_type": "display_data"
    }
   ],
   "source": [
    "feat_impt_plot(np.average(feat_imp,axis=0),columns)"
   ]
  },
  {
   "cell_type": "markdown",
   "metadata": {},
   "source": [
    "### <a id='2' style=\"text-decoration : none; color : #000000;\"> 2. OverSampling </a>"
   ]
  },
  {
   "cell_type": "code",
   "execution_count": 17,
   "metadata": {
    "scrolled": false
   },
   "outputs": [
    {
     "name": "stdout",
     "output_type": "stream",
     "text": [
      "\u001b[1mK-Nearest Neighbors\u001b[0m\n",
      "Accuracy of the model for training data is: 0.9807408739435354\n",
      "Confusion Matrix for training data is:\n"
     ]
    },
    {
     "data": {
      "text/plain": [
       "Predicted  False   True  __all__\n",
       "Actual                          \n",
       "False      26785   1020    27805\n",
       "True          51  27754    27805\n",
       "__all__    26836  28774    55610"
      ]
     },
     "metadata": {},
     "output_type": "display_data"
    },
    {
     "name": "stdout",
     "output_type": "stream",
     "text": [
      "Accuracy of the model for test data is: 0.9448768661477607\n",
      "Confusion Matrix for test data is:\n"
     ]
    },
    {
     "data": {
      "text/plain": [
       "Predicted  False  True  __all__\n",
       "Actual                         \n",
       "False       6590   347     6937\n",
       "True          85   815      900\n",
       "__all__     6675  1162     7837"
      ]
     },
     "metadata": {},
     "output_type": "display_data"
    },
    {
     "name": "stdout",
     "output_type": "stream",
     "text": [
      "\n",
      "\n",
      "\u001b[1mRandomForest Classifier\u001b[0m\n",
      "Accuracy of the model for training data is: 0.9990109692501349\n",
      "Confusion Matrix for training data is:\n"
     ]
    },
    {
     "data": {
      "text/plain": [
       "Predicted  False   True  __all__\n",
       "Actual                          \n",
       "False      27792     13    27805\n",
       "True          42  27763    27805\n",
       "__all__    27834  27776    55610"
      ]
     },
     "metadata": {},
     "output_type": "display_data"
    },
    {
     "name": "stdout",
     "output_type": "stream",
     "text": [
      "Accuracy of the model for test data is: 0.9788184254178895\n",
      "Confusion Matrix for test data is:\n"
     ]
    },
    {
     "data": {
      "text/plain": [
       "Predicted  False  True  __all__\n",
       "Actual                         \n",
       "False       6882    55     6937\n",
       "True         111   789      900\n",
       "__all__     6993   844     7837"
      ]
     },
     "metadata": {},
     "output_type": "display_data"
    },
    {
     "data": {
      "application/vnd.plotly.v1+json": {
       "config": {
        "linkText": "Export to plot.ly",
        "plotlyServerURL": "https://plot.ly",
        "showLink": true
       },
       "data": [
        {
         "marker": {
          "color": "rgb(158,202,225)",
          "line": {
           "color": "rgb(8,48,107)",
           "width": 1.5
          }
         },
         "opacity": 0.6,
         "orientation": "h",
         "text": [
          0.1339,
          0.1107,
          0.0709,
          0.0678,
          0.0645,
          0.0619,
          0.0606,
          0.0541,
          0.0537,
          0.0449,
          0.0442,
          0.0247,
          0.0159,
          0.0158,
          0.0131,
          0.0126,
          0.0124,
          0.0121,
          0.011,
          0.0104,
          0.0102,
          0.0087,
          0.0085,
          0.0083,
          0.0083,
          0.0079,
          0.0072,
          0.0072,
          0.0061,
          0.0054,
          0.0051,
          0.0047,
          0.0047,
          0.0036,
          0.0032,
          0.0027,
          0.0017,
          0.0012,
          0.0003
         ],
         "textposition": "outside",
         "type": "bar",
         "uid": "81b88945-3981-4b2a-b7c1-ff52b18c5716",
         "x": [
          0.13392664936618343,
          0.11071430977372983,
          0.07086999475656938,
          0.06775940744390388,
          0.06445029526690652,
          0.06193043090850623,
          0.06064252820279986,
          0.05408196157351867,
          0.053742683532080004,
          0.04490721890166026,
          0.0442144327249646,
          0.02469127132436393,
          0.015856046823431686,
          0.015758357583586367,
          0.013127924534668304,
          0.012579668115206832,
          0.012449617766415554,
          0.012081907716384916,
          0.010982899238867324,
          0.010365703130311044,
          0.010194502277095088,
          0.008653913579178742,
          0.008451835082049702,
          0.008299429744896187,
          0.00829108318675257,
          0.007885650807209715,
          0.007212664972401657,
          0.0071737516127912595,
          0.006118705790214086,
          0.0053631815223411485,
          0.005064602195620981,
          0.0047260089500594776,
          0.004665359848065749,
          0.003566659267700066,
          0.003210024395880793,
          0.0027480035790431448,
          0.0017318648621412389,
          0.0011891083714800385,
          0.0003203412710198129
         ],
         "y": [
          "title_count",
          "script_src_out_of_domain",
          "meta_count",
          "a_count",
          "link_href_out_of_domain",
          "script_count",
          "a_href_out_of_domain",
          "url_length",
          "li_count",
          "url_extensions",
          "url_char_.",
          "url_char_w",
          "url_char_i",
          "http_header_content-encoding_gzip",
          "a_href_relative",
          "a_href_https",
          "http_header_transfer-encoding_chunked",
          "url_char_l",
          "url_extension_endswith_.com",
          "push",
          "http_header_content-length",
          "img_src_http",
          "url_char_t",
          "http_header_server_apache",
          "url_char_z",
          "url_char_d",
          "a_href_http",
          "http_header_cache-control_set_max-age",
          "url_char_p",
          "script_src_https",
          "url_char_f",
          "link_type_text/css",
          "p_count",
          "url_char_y",
          "input_count",
          "center_count",
          "http_header_vary_user-agent",
          "http_header_via_1.1",
          "iframe_src_.html"
         ]
        }
       ],
       "layout": {
        "autosize": false,
        "height": 1000,
        "width": 1000,
        "xaxis": {
         "tickfont": {
          "color": "black",
          "size": 12
         },
         "title": "Feature Importances"
        },
        "yaxis": {
         "automargin": true
        }
       }
      },
      "text/html": [
       "<div id=\"152ac552-267d-42da-845f-233ed6dd7b6b\" style=\"height: 1000px; width: 1000px;\" class=\"plotly-graph-div\"></div><script type=\"text/javascript\">require([\"plotly\"], function(Plotly) { window.PLOTLYENV=window.PLOTLYENV || {};window.PLOTLYENV.BASE_URL=\"https://plot.ly\";Plotly.newPlot(\"152ac552-267d-42da-845f-233ed6dd7b6b\", [{\"marker\": {\"color\": \"rgb(158,202,225)\", \"line\": {\"color\": \"rgb(8,48,107)\", \"width\": 1.5}}, \"opacity\": 0.6, \"orientation\": \"h\", \"text\": [0.1339, 0.1107, 0.0709, 0.0678, 0.0645, 0.0619, 0.0606, 0.0541, 0.0537, 0.0449, 0.0442, 0.0247, 0.0159, 0.0158, 0.0131, 0.0126, 0.0124, 0.0121, 0.011, 0.0104, 0.0102, 0.0087, 0.0085, 0.0083, 0.0083, 0.0079, 0.0072, 0.0072, 0.0061, 0.0054, 0.0051, 0.0047, 0.0047, 0.0036, 0.0032, 0.0027, 0.0017, 0.0012, 0.0003], \"textposition\": \"outside\", \"x\": [0.13392664936618343, 0.11071430977372983, 0.07086999475656938, 0.06775940744390388, 0.06445029526690652, 0.06193043090850623, 0.06064252820279986, 0.05408196157351867, 0.053742683532080004, 0.04490721890166026, 0.0442144327249646, 0.02469127132436393, 0.015856046823431686, 0.015758357583586367, 0.013127924534668304, 0.012579668115206832, 0.012449617766415554, 0.012081907716384916, 0.010982899238867324, 0.010365703130311044, 0.010194502277095088, 0.008653913579178742, 0.008451835082049702, 0.008299429744896187, 0.00829108318675257, 0.007885650807209715, 0.007212664972401657, 0.0071737516127912595, 0.006118705790214086, 0.0053631815223411485, 0.005064602195620981, 0.0047260089500594776, 0.004665359848065749, 0.003566659267700066, 0.003210024395880793, 0.0027480035790431448, 0.0017318648621412389, 0.0011891083714800385, 0.0003203412710198129], \"y\": [\"title_count\", \"script_src_out_of_domain\", \"meta_count\", \"a_count\", \"link_href_out_of_domain\", \"script_count\", \"a_href_out_of_domain\", \"url_length\", \"li_count\", \"url_extensions\", \"url_char_.\", \"url_char_w\", \"url_char_i\", \"http_header_content-encoding_gzip\", \"a_href_relative\", \"a_href_https\", \"http_header_transfer-encoding_chunked\", \"url_char_l\", \"url_extension_endswith_.com\", \"push\", \"http_header_content-length\", \"img_src_http\", \"url_char_t\", \"http_header_server_apache\", \"url_char_z\", \"url_char_d\", \"a_href_http\", \"http_header_cache-control_set_max-age\", \"url_char_p\", \"script_src_https\", \"url_char_f\", \"link_type_text/css\", \"p_count\", \"url_char_y\", \"input_count\", \"center_count\", \"http_header_vary_user-agent\", \"http_header_via_1.1\", \"iframe_src_.html\"], \"type\": \"bar\", \"uid\": \"81b88945-3981-4b2a-b7c1-ff52b18c5716\"}], {\"autosize\": false, \"height\": 1000, \"width\": 1000, \"xaxis\": {\"tickfont\": {\"color\": \"black\", \"size\": 12}, \"title\": \"Feature Importances\"}, \"yaxis\": {\"automargin\": true}}, {\"showLink\": true, \"linkText\": \"Export to plot.ly\", \"plotlyServerURL\": \"https://plot.ly\"})});</script>"
      ],
      "text/vnd.plotly.v1+html": [
       "<div id=\"152ac552-267d-42da-845f-233ed6dd7b6b\" style=\"height: 1000px; width: 1000px;\" class=\"plotly-graph-div\"></div><script type=\"text/javascript\">require([\"plotly\"], function(Plotly) { window.PLOTLYENV=window.PLOTLYENV || {};window.PLOTLYENV.BASE_URL=\"https://plot.ly\";Plotly.newPlot(\"152ac552-267d-42da-845f-233ed6dd7b6b\", [{\"marker\": {\"color\": \"rgb(158,202,225)\", \"line\": {\"color\": \"rgb(8,48,107)\", \"width\": 1.5}}, \"opacity\": 0.6, \"orientation\": \"h\", \"text\": [0.1339, 0.1107, 0.0709, 0.0678, 0.0645, 0.0619, 0.0606, 0.0541, 0.0537, 0.0449, 0.0442, 0.0247, 0.0159, 0.0158, 0.0131, 0.0126, 0.0124, 0.0121, 0.011, 0.0104, 0.0102, 0.0087, 0.0085, 0.0083, 0.0083, 0.0079, 0.0072, 0.0072, 0.0061, 0.0054, 0.0051, 0.0047, 0.0047, 0.0036, 0.0032, 0.0027, 0.0017, 0.0012, 0.0003], \"textposition\": \"outside\", \"x\": [0.13392664936618343, 0.11071430977372983, 0.07086999475656938, 0.06775940744390388, 0.06445029526690652, 0.06193043090850623, 0.06064252820279986, 0.05408196157351867, 0.053742683532080004, 0.04490721890166026, 0.0442144327249646, 0.02469127132436393, 0.015856046823431686, 0.015758357583586367, 0.013127924534668304, 0.012579668115206832, 0.012449617766415554, 0.012081907716384916, 0.010982899238867324, 0.010365703130311044, 0.010194502277095088, 0.008653913579178742, 0.008451835082049702, 0.008299429744896187, 0.00829108318675257, 0.007885650807209715, 0.007212664972401657, 0.0071737516127912595, 0.006118705790214086, 0.0053631815223411485, 0.005064602195620981, 0.0047260089500594776, 0.004665359848065749, 0.003566659267700066, 0.003210024395880793, 0.0027480035790431448, 0.0017318648621412389, 0.0011891083714800385, 0.0003203412710198129], \"y\": [\"title_count\", \"script_src_out_of_domain\", \"meta_count\", \"a_count\", \"link_href_out_of_domain\", \"script_count\", \"a_href_out_of_domain\", \"url_length\", \"li_count\", \"url_extensions\", \"url_char_.\", \"url_char_w\", \"url_char_i\", \"http_header_content-encoding_gzip\", \"a_href_relative\", \"a_href_https\", \"http_header_transfer-encoding_chunked\", \"url_char_l\", \"url_extension_endswith_.com\", \"push\", \"http_header_content-length\", \"img_src_http\", \"url_char_t\", \"http_header_server_apache\", \"url_char_z\", \"url_char_d\", \"a_href_http\", \"http_header_cache-control_set_max-age\", \"url_char_p\", \"script_src_https\", \"url_char_f\", \"link_type_text/css\", \"p_count\", \"url_char_y\", \"input_count\", \"center_count\", \"http_header_vary_user-agent\", \"http_header_via_1.1\", \"iframe_src_.html\"], \"type\": \"bar\", \"uid\": \"81b88945-3981-4b2a-b7c1-ff52b18c5716\"}], {\"autosize\": false, \"height\": 1000, \"width\": 1000, \"xaxis\": {\"tickfont\": {\"color\": \"black\", \"size\": 12}, \"title\": \"Feature Importances\"}, \"yaxis\": {\"automargin\": true}}, {\"showLink\": true, \"linkText\": \"Export to plot.ly\", \"plotlyServerURL\": \"https://plot.ly\"})});</script>"
      ]
     },
     "metadata": {},
     "output_type": "display_data"
    },
    {
     "name": "stdout",
     "output_type": "stream",
     "text": [
      "\n",
      "\n",
      "\u001b[1mAdaoost Classifier\u001b[0m\n",
      "Accuracy of the model for training data is: 0.9638374393094767\n",
      "Confusion Matrix for training data is:\n"
     ]
    },
    {
     "data": {
      "text/plain": [
       "Predicted  False   True  __all__\n",
       "Actual                          \n",
       "False      26757   1048    27805\n",
       "True         963  26842    27805\n",
       "__all__    27720  27890    55610"
      ]
     },
     "metadata": {},
     "output_type": "display_data"
    },
    {
     "name": "stdout",
     "output_type": "stream",
     "text": [
      "Accuracy of the model for test data is: 0.9561056526732168\n",
      "Confusion Matrix for test data is:\n"
     ]
    },
    {
     "data": {
      "text/plain": [
       "Predicted  False  True  __all__\n",
       "Actual                         \n",
       "False       6676   261     6937\n",
       "True          83   817      900\n",
       "__all__     6759  1078     7837"
      ]
     },
     "metadata": {},
     "output_type": "display_data"
    },
    {
     "data": {
      "application/vnd.plotly.v1+json": {
       "config": {
        "linkText": "Export to plot.ly",
        "plotlyServerURL": "https://plot.ly",
        "showLink": true
       },
       "data": [
        {
         "marker": {
          "color": "rgb(158,202,225)",
          "line": {
           "color": "rgb(8,48,107)",
           "width": 1.5
          }
         },
         "opacity": 0.6,
         "orientation": "h",
         "text": [
          0.12,
          0.06,
          0.06,
          0.06,
          0.06,
          0.06,
          0.04,
          0.04,
          0.04,
          0.04,
          0.02,
          0.02,
          0.02,
          0.02,
          0.02,
          0.02,
          0.02,
          0.02,
          0.02,
          0.02,
          0.02,
          0.02,
          0.02,
          0.02,
          0.02,
          0.02,
          0.02,
          0.02,
          0.02,
          0.02,
          0.02,
          0,
          0,
          0,
          0,
          0,
          0,
          0,
          0
         ],
         "textposition": "outside",
         "type": "bar",
         "uid": "45d7d60c-15ef-4ce0-8d67-2eb9b1d1be23",
         "x": [
          0.12,
          0.06,
          0.06,
          0.06,
          0.06,
          0.06,
          0.04,
          0.04,
          0.04,
          0.04,
          0.02,
          0.02,
          0.02,
          0.02,
          0.02,
          0.02,
          0.02,
          0.02,
          0.02,
          0.02,
          0.02,
          0.02,
          0.02,
          0.02,
          0.02,
          0.02,
          0.02,
          0.02,
          0.02,
          0.02,
          0.02,
          0,
          0,
          0,
          0,
          0,
          0,
          0,
          0
         ],
         "y": [
          "url_char_t",
          "push",
          "p_count",
          "url_char_w",
          "url_char_l",
          "title_count",
          "url_extensions",
          "url_char_i",
          "url_char_d",
          "url_length",
          "li_count",
          "link_href_out_of_domain",
          "a_href_http",
          "url_extension_endswith_.com",
          "url_char_z",
          "url_char_y",
          "a_href_out_of_domain",
          "url_char_p",
          "center_count",
          "url_char_f",
          "iframe_src_.html",
          "http_header_via_1.1",
          "http_header_vary_user-agent",
          "http_header_server_apache",
          "http_header_content-length",
          "http_header_content-encoding_gzip",
          "a_count",
          "img_src_http",
          "script_src_out_of_domain",
          "link_type_text/css",
          "http_header_cache-control_set_max-age",
          "http_header_transfer-encoding_chunked",
          "url_char_.",
          "a_href_relative",
          "script_src_https",
          "a_href_https",
          "script_count",
          "input_count",
          "meta_count"
         ]
        }
       ],
       "layout": {
        "autosize": false,
        "height": 1000,
        "width": 1000,
        "xaxis": {
         "tickfont": {
          "color": "black",
          "size": 12
         },
         "title": "Feature Importances"
        },
        "yaxis": {
         "automargin": true
        }
       }
      },
      "text/html": [
       "<div id=\"ed9b491f-7d73-43d8-a6b9-b4e21d99033c\" style=\"height: 1000px; width: 1000px;\" class=\"plotly-graph-div\"></div><script type=\"text/javascript\">require([\"plotly\"], function(Plotly) { window.PLOTLYENV=window.PLOTLYENV || {};window.PLOTLYENV.BASE_URL=\"https://plot.ly\";Plotly.newPlot(\"ed9b491f-7d73-43d8-a6b9-b4e21d99033c\", [{\"marker\": {\"color\": \"rgb(158,202,225)\", \"line\": {\"color\": \"rgb(8,48,107)\", \"width\": 1.5}}, \"opacity\": 0.6, \"orientation\": \"h\", \"text\": [0.12, 0.06, 0.06, 0.06, 0.06, 0.06, 0.04, 0.04, 0.04, 0.04, 0.02, 0.02, 0.02, 0.02, 0.02, 0.02, 0.02, 0.02, 0.02, 0.02, 0.02, 0.02, 0.02, 0.02, 0.02, 0.02, 0.02, 0.02, 0.02, 0.02, 0.02, 0.0, 0.0, 0.0, 0.0, 0.0, 0.0, 0.0, 0.0], \"textposition\": \"outside\", \"x\": [0.12, 0.06, 0.06, 0.06, 0.06, 0.06, 0.04, 0.04, 0.04, 0.04, 0.02, 0.02, 0.02, 0.02, 0.02, 0.02, 0.02, 0.02, 0.02, 0.02, 0.02, 0.02, 0.02, 0.02, 0.02, 0.02, 0.02, 0.02, 0.02, 0.02, 0.02, 0.0, 0.0, 0.0, 0.0, 0.0, 0.0, 0.0, 0.0], \"y\": [\"url_char_t\", \"push\", \"p_count\", \"url_char_w\", \"url_char_l\", \"title_count\", \"url_extensions\", \"url_char_i\", \"url_char_d\", \"url_length\", \"li_count\", \"link_href_out_of_domain\", \"a_href_http\", \"url_extension_endswith_.com\", \"url_char_z\", \"url_char_y\", \"a_href_out_of_domain\", \"url_char_p\", \"center_count\", \"url_char_f\", \"iframe_src_.html\", \"http_header_via_1.1\", \"http_header_vary_user-agent\", \"http_header_server_apache\", \"http_header_content-length\", \"http_header_content-encoding_gzip\", \"a_count\", \"img_src_http\", \"script_src_out_of_domain\", \"link_type_text/css\", \"http_header_cache-control_set_max-age\", \"http_header_transfer-encoding_chunked\", \"url_char_.\", \"a_href_relative\", \"script_src_https\", \"a_href_https\", \"script_count\", \"input_count\", \"meta_count\"], \"type\": \"bar\", \"uid\": \"45d7d60c-15ef-4ce0-8d67-2eb9b1d1be23\"}], {\"autosize\": false, \"height\": 1000, \"width\": 1000, \"xaxis\": {\"tickfont\": {\"color\": \"black\", \"size\": 12}, \"title\": \"Feature Importances\"}, \"yaxis\": {\"automargin\": true}}, {\"showLink\": true, \"linkText\": \"Export to plot.ly\", \"plotlyServerURL\": \"https://plot.ly\"})});</script>"
      ],
      "text/vnd.plotly.v1+html": [
       "<div id=\"ed9b491f-7d73-43d8-a6b9-b4e21d99033c\" style=\"height: 1000px; width: 1000px;\" class=\"plotly-graph-div\"></div><script type=\"text/javascript\">require([\"plotly\"], function(Plotly) { window.PLOTLYENV=window.PLOTLYENV || {};window.PLOTLYENV.BASE_URL=\"https://plot.ly\";Plotly.newPlot(\"ed9b491f-7d73-43d8-a6b9-b4e21d99033c\", [{\"marker\": {\"color\": \"rgb(158,202,225)\", \"line\": {\"color\": \"rgb(8,48,107)\", \"width\": 1.5}}, \"opacity\": 0.6, \"orientation\": \"h\", \"text\": [0.12, 0.06, 0.06, 0.06, 0.06, 0.06, 0.04, 0.04, 0.04, 0.04, 0.02, 0.02, 0.02, 0.02, 0.02, 0.02, 0.02, 0.02, 0.02, 0.02, 0.02, 0.02, 0.02, 0.02, 0.02, 0.02, 0.02, 0.02, 0.02, 0.02, 0.02, 0.0, 0.0, 0.0, 0.0, 0.0, 0.0, 0.0, 0.0], \"textposition\": \"outside\", \"x\": [0.12, 0.06, 0.06, 0.06, 0.06, 0.06, 0.04, 0.04, 0.04, 0.04, 0.02, 0.02, 0.02, 0.02, 0.02, 0.02, 0.02, 0.02, 0.02, 0.02, 0.02, 0.02, 0.02, 0.02, 0.02, 0.02, 0.02, 0.02, 0.02, 0.02, 0.02, 0.0, 0.0, 0.0, 0.0, 0.0, 0.0, 0.0, 0.0], \"y\": [\"url_char_t\", \"push\", \"p_count\", \"url_char_w\", \"url_char_l\", \"title_count\", \"url_extensions\", \"url_char_i\", \"url_char_d\", \"url_length\", \"li_count\", \"link_href_out_of_domain\", \"a_href_http\", \"url_extension_endswith_.com\", \"url_char_z\", \"url_char_y\", \"a_href_out_of_domain\", \"url_char_p\", \"center_count\", \"url_char_f\", \"iframe_src_.html\", \"http_header_via_1.1\", \"http_header_vary_user-agent\", \"http_header_server_apache\", \"http_header_content-length\", \"http_header_content-encoding_gzip\", \"a_count\", \"img_src_http\", \"script_src_out_of_domain\", \"link_type_text/css\", \"http_header_cache-control_set_max-age\", \"http_header_transfer-encoding_chunked\", \"url_char_.\", \"a_href_relative\", \"script_src_https\", \"a_href_https\", \"script_count\", \"input_count\", \"meta_count\"], \"type\": \"bar\", \"uid\": \"45d7d60c-15ef-4ce0-8d67-2eb9b1d1be23\"}], {\"autosize\": false, \"height\": 1000, \"width\": 1000, \"xaxis\": {\"tickfont\": {\"color\": \"black\", \"size\": 12}, \"title\": \"Feature Importances\"}, \"yaxis\": {\"automargin\": true}}, {\"showLink\": true, \"linkText\": \"Export to plot.ly\", \"plotlyServerURL\": \"https://plot.ly\"})});</script>"
      ]
     },
     "metadata": {},
     "output_type": "display_data"
    },
    {
     "name": "stdout",
     "output_type": "stream",
     "text": [
      "\n",
      "\n",
      "\u001b[1mGradientBoosting Classifier\u001b[0m\n",
      "Accuracy of the model for training data is: 0.9758676497032908\n",
      "Confusion Matrix for training data is:\n"
     ]
    },
    {
     "data": {
      "text/plain": [
       "Predicted  False   True  __all__\n",
       "Actual                          \n",
       "False      27135    670    27805\n",
       "True         672  27133    27805\n",
       "__all__    27807  27803    55610"
      ]
     },
     "metadata": {},
     "output_type": "display_data"
    },
    {
     "name": "stdout",
     "output_type": "stream",
     "text": [
      "Accuracy of the model for test data is: 0.9661860405767513\n",
      "Confusion Matrix for test data is:\n"
     ]
    },
    {
     "data": {
      "text/plain": [
       "Predicted  False  True  __all__\n",
       "Actual                         \n",
       "False       6764   173     6937\n",
       "True          92   808      900\n",
       "__all__     6856   981     7837"
      ]
     },
     "metadata": {},
     "output_type": "display_data"
    },
    {
     "data": {
      "application/vnd.plotly.v1+json": {
       "config": {
        "linkText": "Export to plot.ly",
        "plotlyServerURL": "https://plot.ly",
        "showLink": true
       },
       "data": [
        {
         "marker": {
          "color": "rgb(158,202,225)",
          "line": {
           "color": "rgb(8,48,107)",
           "width": 1.5
          }
         },
         "opacity": 0.6,
         "orientation": "h",
         "text": [
          0.5458,
          0.0781,
          0.0678,
          0.0597,
          0.0572,
          0.0295,
          0.0247,
          0.0218,
          0.019,
          0.014,
          0.0139,
          0.0132,
          0.0088,
          0.0071,
          0.0069,
          0.0056,
          0.005,
          0.0032,
          0.0024,
          0.0024,
          0.0022,
          0.0017,
          0.0015,
          0.0015,
          0.0013,
          0.0012,
          0.0009,
          0.0008,
          0.0006,
          0.0006,
          0.0005,
          0.0005,
          0.0002,
          0.0002,
          0.0001,
          0.0001,
          0,
          0,
          0
         ],
         "textposition": "outside",
         "type": "bar",
         "uid": "702f66c9-861d-4272-abb0-e00ef108f117",
         "x": [
          0.545754761089878,
          0.07811146642795073,
          0.0678174640968823,
          0.0597337533269033,
          0.057168187793752996,
          0.029466456313966237,
          0.02472361843805701,
          0.021778175298237033,
          0.018971980402249303,
          0.014008314503490623,
          0.013944320736544485,
          0.013151997726005242,
          0.008849962807960432,
          0.007050895594179827,
          0.006859757271964044,
          0.005633418348695004,
          0.004996423789255044,
          0.0032336645490463243,
          0.0023822850086787643,
          0.002352988953876304,
          0.00215923945794333,
          0.0016544502908331909,
          0.0014973530821787533,
          0.001495243303538128,
          0.0013017351334393978,
          0.0012412107151384252,
          0.0009316641385435997,
          0.0007908243156290568,
          0.00062933457020312,
          0.000620293993899788,
          0.0005358433520057794,
          0.0004676677347613974,
          0.00023376247087374802,
          0.00021576731126405127,
          0.0001287798237495238,
          7.755523424987548e-05,
          2.9382594175657167e-05,
          0,
          0
         ],
         "y": [
          "title_count",
          "url_char_w",
          "url_length",
          "url_extensions",
          "meta_count",
          "link_href_out_of_domain",
          "a_count",
          "a_href_relative",
          "push",
          "http_header_server_apache",
          "url_char_z",
          "a_href_out_of_domain",
          "url_char_i",
          "http_header_content-encoding_gzip",
          "url_char_.",
          "img_src_http",
          "http_header_cache-control_set_max-age",
          "url_extension_endswith_.com",
          "http_header_vary_user-agent",
          "http_header_content-length",
          "a_href_https",
          "url_char_l",
          "url_char_d",
          "http_header_via_1.1",
          "a_href_http",
          "http_header_transfer-encoding_chunked",
          "link_type_text/css",
          "p_count",
          "center_count",
          "url_char_f",
          "url_char_p",
          "url_char_t",
          "url_char_y",
          "script_count",
          "li_count",
          "script_src_https",
          "script_src_out_of_domain",
          "iframe_src_.html",
          "input_count"
         ]
        }
       ],
       "layout": {
        "autosize": false,
        "height": 1000,
        "width": 1000,
        "xaxis": {
         "tickfont": {
          "color": "black",
          "size": 12
         },
         "title": "Feature Importances"
        },
        "yaxis": {
         "automargin": true
        }
       }
      },
      "text/html": [
       "<div id=\"f920b747-4c2d-4d8f-8996-3fbf79b5da7a\" style=\"height: 1000px; width: 1000px;\" class=\"plotly-graph-div\"></div><script type=\"text/javascript\">require([\"plotly\"], function(Plotly) { window.PLOTLYENV=window.PLOTLYENV || {};window.PLOTLYENV.BASE_URL=\"https://plot.ly\";Plotly.newPlot(\"f920b747-4c2d-4d8f-8996-3fbf79b5da7a\", [{\"marker\": {\"color\": \"rgb(158,202,225)\", \"line\": {\"color\": \"rgb(8,48,107)\", \"width\": 1.5}}, \"opacity\": 0.6, \"orientation\": \"h\", \"text\": [0.5458, 0.0781, 0.0678, 0.0597, 0.0572, 0.0295, 0.0247, 0.0218, 0.019, 0.014, 0.0139, 0.0132, 0.0088, 0.0071, 0.0069, 0.0056, 0.005, 0.0032, 0.0024, 0.0024, 0.0022, 0.0017, 0.0015, 0.0015, 0.0013, 0.0012, 0.0009, 0.0008, 0.0006, 0.0006, 0.0005, 0.0005, 0.0002, 0.0002, 0.0001, 0.0001, 0.0, 0.0, 0.0], \"textposition\": \"outside\", \"x\": [0.545754761089878, 0.07811146642795073, 0.0678174640968823, 0.0597337533269033, 0.057168187793752996, 0.029466456313966237, 0.02472361843805701, 0.021778175298237033, 0.018971980402249303, 0.014008314503490623, 0.013944320736544485, 0.013151997726005242, 0.008849962807960432, 0.007050895594179827, 0.006859757271964044, 0.005633418348695004, 0.004996423789255044, 0.0032336645490463243, 0.0023822850086787643, 0.002352988953876304, 0.00215923945794333, 0.0016544502908331909, 0.0014973530821787533, 0.001495243303538128, 0.0013017351334393978, 0.0012412107151384252, 0.0009316641385435997, 0.0007908243156290568, 0.00062933457020312, 0.000620293993899788, 0.0005358433520057794, 0.0004676677347613974, 0.00023376247087374802, 0.00021576731126405127, 0.0001287798237495238, 7.755523424987548e-05, 2.9382594175657167e-05, 0.0, 0.0], \"y\": [\"title_count\", \"url_char_w\", \"url_length\", \"url_extensions\", \"meta_count\", \"link_href_out_of_domain\", \"a_count\", \"a_href_relative\", \"push\", \"http_header_server_apache\", \"url_char_z\", \"a_href_out_of_domain\", \"url_char_i\", \"http_header_content-encoding_gzip\", \"url_char_.\", \"img_src_http\", \"http_header_cache-control_set_max-age\", \"url_extension_endswith_.com\", \"http_header_vary_user-agent\", \"http_header_content-length\", \"a_href_https\", \"url_char_l\", \"url_char_d\", \"http_header_via_1.1\", \"a_href_http\", \"http_header_transfer-encoding_chunked\", \"link_type_text/css\", \"p_count\", \"center_count\", \"url_char_f\", \"url_char_p\", \"url_char_t\", \"url_char_y\", \"script_count\", \"li_count\", \"script_src_https\", \"script_src_out_of_domain\", \"iframe_src_.html\", \"input_count\"], \"type\": \"bar\", \"uid\": \"702f66c9-861d-4272-abb0-e00ef108f117\"}], {\"autosize\": false, \"height\": 1000, \"width\": 1000, \"xaxis\": {\"tickfont\": {\"color\": \"black\", \"size\": 12}, \"title\": \"Feature Importances\"}, \"yaxis\": {\"automargin\": true}}, {\"showLink\": true, \"linkText\": \"Export to plot.ly\", \"plotlyServerURL\": \"https://plot.ly\"})});</script>"
      ],
      "text/vnd.plotly.v1+html": [
       "<div id=\"f920b747-4c2d-4d8f-8996-3fbf79b5da7a\" style=\"height: 1000px; width: 1000px;\" class=\"plotly-graph-div\"></div><script type=\"text/javascript\">require([\"plotly\"], function(Plotly) { window.PLOTLYENV=window.PLOTLYENV || {};window.PLOTLYENV.BASE_URL=\"https://plot.ly\";Plotly.newPlot(\"f920b747-4c2d-4d8f-8996-3fbf79b5da7a\", [{\"marker\": {\"color\": \"rgb(158,202,225)\", \"line\": {\"color\": \"rgb(8,48,107)\", \"width\": 1.5}}, \"opacity\": 0.6, \"orientation\": \"h\", \"text\": [0.5458, 0.0781, 0.0678, 0.0597, 0.0572, 0.0295, 0.0247, 0.0218, 0.019, 0.014, 0.0139, 0.0132, 0.0088, 0.0071, 0.0069, 0.0056, 0.005, 0.0032, 0.0024, 0.0024, 0.0022, 0.0017, 0.0015, 0.0015, 0.0013, 0.0012, 0.0009, 0.0008, 0.0006, 0.0006, 0.0005, 0.0005, 0.0002, 0.0002, 0.0001, 0.0001, 0.0, 0.0, 0.0], \"textposition\": \"outside\", \"x\": [0.545754761089878, 0.07811146642795073, 0.0678174640968823, 0.0597337533269033, 0.057168187793752996, 0.029466456313966237, 0.02472361843805701, 0.021778175298237033, 0.018971980402249303, 0.014008314503490623, 0.013944320736544485, 0.013151997726005242, 0.008849962807960432, 0.007050895594179827, 0.006859757271964044, 0.005633418348695004, 0.004996423789255044, 0.0032336645490463243, 0.0023822850086787643, 0.002352988953876304, 0.00215923945794333, 0.0016544502908331909, 0.0014973530821787533, 0.001495243303538128, 0.0013017351334393978, 0.0012412107151384252, 0.0009316641385435997, 0.0007908243156290568, 0.00062933457020312, 0.000620293993899788, 0.0005358433520057794, 0.0004676677347613974, 0.00023376247087374802, 0.00021576731126405127, 0.0001287798237495238, 7.755523424987548e-05, 2.9382594175657167e-05, 0.0, 0.0], \"y\": [\"title_count\", \"url_char_w\", \"url_length\", \"url_extensions\", \"meta_count\", \"link_href_out_of_domain\", \"a_count\", \"a_href_relative\", \"push\", \"http_header_server_apache\", \"url_char_z\", \"a_href_out_of_domain\", \"url_char_i\", \"http_header_content-encoding_gzip\", \"url_char_.\", \"img_src_http\", \"http_header_cache-control_set_max-age\", \"url_extension_endswith_.com\", \"http_header_vary_user-agent\", \"http_header_content-length\", \"a_href_https\", \"url_char_l\", \"url_char_d\", \"http_header_via_1.1\", \"a_href_http\", \"http_header_transfer-encoding_chunked\", \"link_type_text/css\", \"p_count\", \"center_count\", \"url_char_f\", \"url_char_p\", \"url_char_t\", \"url_char_y\", \"script_count\", \"li_count\", \"script_src_https\", \"script_src_out_of_domain\", \"iframe_src_.html\", \"input_count\"], \"type\": \"bar\", \"uid\": \"702f66c9-861d-4272-abb0-e00ef108f117\"}], {\"autosize\": false, \"height\": 1000, \"width\": 1000, \"xaxis\": {\"tickfont\": {\"color\": \"black\", \"size\": 12}, \"title\": \"Feature Importances\"}, \"yaxis\": {\"automargin\": true}}, {\"showLink\": true, \"linkText\": \"Export to plot.ly\", \"plotlyServerURL\": \"https://plot.ly\"})});</script>"
      ]
     },
     "metadata": {},
     "output_type": "display_data"
    },
    {
     "name": "stdout",
     "output_type": "stream",
     "text": [
      "\n",
      "\n",
      "\u001b[1mExtraTree Classifier\u001b[0m\n",
      "Accuracy of the model for training data is: 0.9996583348318647\n",
      "Confusion Matrix for training data is:\n"
     ]
    },
    {
     "data": {
      "text/plain": [
       "Predicted  False   True  __all__\n",
       "Actual                          \n",
       "False      27803      2    27805\n",
       "True          17  27788    27805\n",
       "__all__    27820  27790    55610"
      ]
     },
     "metadata": {},
     "output_type": "display_data"
    },
    {
     "name": "stdout",
     "output_type": "stream",
     "text": [
      "Accuracy of the model for test data is: 0.9786908255710093\n",
      "Confusion Matrix for test data is:\n"
     ]
    },
    {
     "data": {
      "text/plain": [
       "Predicted  False  True  __all__\n",
       "Actual                         \n",
       "False       6887    50     6937\n",
       "True         117   783      900\n",
       "__all__     7004   833     7837"
      ]
     },
     "metadata": {},
     "output_type": "display_data"
    },
    {
     "data": {
      "application/vnd.plotly.v1+json": {
       "config": {
        "linkText": "Export to plot.ly",
        "plotlyServerURL": "https://plot.ly",
        "showLink": true
       },
       "data": [
        {
         "marker": {
          "color": "rgb(158,202,225)",
          "line": {
           "color": "rgb(8,48,107)",
           "width": 1.5
          }
         },
         "opacity": 0.6,
         "orientation": "h",
         "text": [
          0.1867,
          0.0957,
          0.0954,
          0.0588,
          0.0505,
          0.0473,
          0.0431,
          0.0408,
          0.024,
          0.0237,
          0.0235,
          0.0224,
          0.0223,
          0.0199,
          0.0181,
          0.0177,
          0.0175,
          0.0168,
          0.0143,
          0.0129,
          0.0125,
          0.0119,
          0.0115,
          0.0107,
          0.0103,
          0.01,
          0.01,
          0.0091,
          0.0091,
          0.0087,
          0.008,
          0.0075,
          0.0056,
          0.0053,
          0.005,
          0.0043,
          0.0036,
          0.0035,
          0.0021
         ],
         "textposition": "outside",
         "type": "bar",
         "uid": "102fa242-134a-4cdc-8bfb-1f024d36358f",
         "x": [
          0.18666792085613162,
          0.09572766323494339,
          0.09544816439209976,
          0.05878538625259081,
          0.05046081866295453,
          0.04730449502911106,
          0.04305438778671105,
          0.04077362940537877,
          0.02395777817055397,
          0.023749273218464057,
          0.023502402990036926,
          0.02238294461988924,
          0.022266458128428354,
          0.01987459257309044,
          0.01809482213048332,
          0.01773555328067915,
          0.01747860990008463,
          0.016781709330907002,
          0.014286772249615864,
          0.012854660894333755,
          0.012515951629518388,
          0.01191760881422194,
          0.011501039970186163,
          0.010747545006574901,
          0.010252403154882543,
          0.010025211303002995,
          0.009984517423345706,
          0.009140978581482695,
          0.00911131800501112,
          0.008712204525587,
          0.008032714898820095,
          0.007498085916667438,
          0.005636288661866501,
          0.005261181829956898,
          0.0049803079696132315,
          0.004269039303133964,
          0.0035943234655828105,
          0.0035013109501820564,
          0.002129925483875859
         ],
         "y": [
          "http_header_content-encoding_gzip",
          "http_header_transfer-encoding_chunked",
          "url_extensions",
          "url_length",
          "url_char_.",
          "url_char_w",
          "http_header_cache-control_set_max-age",
          "script_src_out_of_domain",
          "http_header_content-length",
          "url_char_l",
          "script_src_https",
          "url_extension_endswith_.com",
          "url_char_z",
          "url_char_i",
          "http_header_vary_user-agent",
          "a_count",
          "a_href_out_of_domain",
          "url_char_y",
          "http_header_server_apache",
          "http_header_via_1.1",
          "a_href_relative",
          "script_count",
          "link_type_text/css",
          "url_char_t",
          "li_count",
          "url_char_p",
          "url_char_d",
          "url_char_f",
          "title_count",
          "link_href_out_of_domain",
          "a_href_https",
          "meta_count",
          "img_src_http",
          "p_count",
          "a_href_http",
          "input_count",
          "push",
          "center_count",
          "iframe_src_.html"
         ]
        }
       ],
       "layout": {
        "autosize": false,
        "height": 1000,
        "width": 1000,
        "xaxis": {
         "tickfont": {
          "color": "black",
          "size": 12
         },
         "title": "Feature Importances"
        },
        "yaxis": {
         "automargin": true
        }
       }
      },
      "text/html": [
       "<div id=\"0476dcff-1302-419e-8e90-c512bfd7a767\" style=\"height: 1000px; width: 1000px;\" class=\"plotly-graph-div\"></div><script type=\"text/javascript\">require([\"plotly\"], function(Plotly) { window.PLOTLYENV=window.PLOTLYENV || {};window.PLOTLYENV.BASE_URL=\"https://plot.ly\";Plotly.newPlot(\"0476dcff-1302-419e-8e90-c512bfd7a767\", [{\"marker\": {\"color\": \"rgb(158,202,225)\", \"line\": {\"color\": \"rgb(8,48,107)\", \"width\": 1.5}}, \"opacity\": 0.6, \"orientation\": \"h\", \"text\": [0.1867, 0.0957, 0.0954, 0.0588, 0.0505, 0.0473, 0.0431, 0.0408, 0.024, 0.0237, 0.0235, 0.0224, 0.0223, 0.0199, 0.0181, 0.0177, 0.0175, 0.0168, 0.0143, 0.0129, 0.0125, 0.0119, 0.0115, 0.0107, 0.0103, 0.01, 0.01, 0.0091, 0.0091, 0.0087, 0.008, 0.0075, 0.0056, 0.0053, 0.005, 0.0043, 0.0036, 0.0035, 0.0021], \"textposition\": \"outside\", \"x\": [0.18666792085613162, 0.09572766323494339, 0.09544816439209976, 0.05878538625259081, 0.05046081866295453, 0.04730449502911106, 0.04305438778671105, 0.04077362940537877, 0.02395777817055397, 0.023749273218464057, 0.023502402990036926, 0.02238294461988924, 0.022266458128428354, 0.01987459257309044, 0.01809482213048332, 0.01773555328067915, 0.01747860990008463, 0.016781709330907002, 0.014286772249615864, 0.012854660894333755, 0.012515951629518388, 0.01191760881422194, 0.011501039970186163, 0.010747545006574901, 0.010252403154882543, 0.010025211303002995, 0.009984517423345706, 0.009140978581482695, 0.00911131800501112, 0.008712204525587, 0.008032714898820095, 0.007498085916667438, 0.005636288661866501, 0.005261181829956898, 0.0049803079696132315, 0.004269039303133964, 0.0035943234655828105, 0.0035013109501820564, 0.002129925483875859], \"y\": [\"http_header_content-encoding_gzip\", \"http_header_transfer-encoding_chunked\", \"url_extensions\", \"url_length\", \"url_char_.\", \"url_char_w\", \"http_header_cache-control_set_max-age\", \"script_src_out_of_domain\", \"http_header_content-length\", \"url_char_l\", \"script_src_https\", \"url_extension_endswith_.com\", \"url_char_z\", \"url_char_i\", \"http_header_vary_user-agent\", \"a_count\", \"a_href_out_of_domain\", \"url_char_y\", \"http_header_server_apache\", \"http_header_via_1.1\", \"a_href_relative\", \"script_count\", \"link_type_text/css\", \"url_char_t\", \"li_count\", \"url_char_p\", \"url_char_d\", \"url_char_f\", \"title_count\", \"link_href_out_of_domain\", \"a_href_https\", \"meta_count\", \"img_src_http\", \"p_count\", \"a_href_http\", \"input_count\", \"push\", \"center_count\", \"iframe_src_.html\"], \"type\": \"bar\", \"uid\": \"102fa242-134a-4cdc-8bfb-1f024d36358f\"}], {\"autosize\": false, \"height\": 1000, \"width\": 1000, \"xaxis\": {\"tickfont\": {\"color\": \"black\", \"size\": 12}, \"title\": \"Feature Importances\"}, \"yaxis\": {\"automargin\": true}}, {\"showLink\": true, \"linkText\": \"Export to plot.ly\", \"plotlyServerURL\": \"https://plot.ly\"})});</script>"
      ],
      "text/vnd.plotly.v1+html": [
       "<div id=\"0476dcff-1302-419e-8e90-c512bfd7a767\" style=\"height: 1000px; width: 1000px;\" class=\"plotly-graph-div\"></div><script type=\"text/javascript\">require([\"plotly\"], function(Plotly) { window.PLOTLYENV=window.PLOTLYENV || {};window.PLOTLYENV.BASE_URL=\"https://plot.ly\";Plotly.newPlot(\"0476dcff-1302-419e-8e90-c512bfd7a767\", [{\"marker\": {\"color\": \"rgb(158,202,225)\", \"line\": {\"color\": \"rgb(8,48,107)\", \"width\": 1.5}}, \"opacity\": 0.6, \"orientation\": \"h\", \"text\": [0.1867, 0.0957, 0.0954, 0.0588, 0.0505, 0.0473, 0.0431, 0.0408, 0.024, 0.0237, 0.0235, 0.0224, 0.0223, 0.0199, 0.0181, 0.0177, 0.0175, 0.0168, 0.0143, 0.0129, 0.0125, 0.0119, 0.0115, 0.0107, 0.0103, 0.01, 0.01, 0.0091, 0.0091, 0.0087, 0.008, 0.0075, 0.0056, 0.0053, 0.005, 0.0043, 0.0036, 0.0035, 0.0021], \"textposition\": \"outside\", \"x\": [0.18666792085613162, 0.09572766323494339, 0.09544816439209976, 0.05878538625259081, 0.05046081866295453, 0.04730449502911106, 0.04305438778671105, 0.04077362940537877, 0.02395777817055397, 0.023749273218464057, 0.023502402990036926, 0.02238294461988924, 0.022266458128428354, 0.01987459257309044, 0.01809482213048332, 0.01773555328067915, 0.01747860990008463, 0.016781709330907002, 0.014286772249615864, 0.012854660894333755, 0.012515951629518388, 0.01191760881422194, 0.011501039970186163, 0.010747545006574901, 0.010252403154882543, 0.010025211303002995, 0.009984517423345706, 0.009140978581482695, 0.00911131800501112, 0.008712204525587, 0.008032714898820095, 0.007498085916667438, 0.005636288661866501, 0.005261181829956898, 0.0049803079696132315, 0.004269039303133964, 0.0035943234655828105, 0.0035013109501820564, 0.002129925483875859], \"y\": [\"http_header_content-encoding_gzip\", \"http_header_transfer-encoding_chunked\", \"url_extensions\", \"url_length\", \"url_char_.\", \"url_char_w\", \"http_header_cache-control_set_max-age\", \"script_src_out_of_domain\", \"http_header_content-length\", \"url_char_l\", \"script_src_https\", \"url_extension_endswith_.com\", \"url_char_z\", \"url_char_i\", \"http_header_vary_user-agent\", \"a_count\", \"a_href_out_of_domain\", \"url_char_y\", \"http_header_server_apache\", \"http_header_via_1.1\", \"a_href_relative\", \"script_count\", \"link_type_text/css\", \"url_char_t\", \"li_count\", \"url_char_p\", \"url_char_d\", \"url_char_f\", \"title_count\", \"link_href_out_of_domain\", \"a_href_https\", \"meta_count\", \"img_src_http\", \"p_count\", \"a_href_http\", \"input_count\", \"push\", \"center_count\", \"iframe_src_.html\"], \"type\": \"bar\", \"uid\": \"102fa242-134a-4cdc-8bfb-1f024d36358f\"}], {\"autosize\": false, \"height\": 1000, \"width\": 1000, \"xaxis\": {\"tickfont\": {\"color\": \"black\", \"size\": 12}, \"title\": \"Feature Importances\"}, \"yaxis\": {\"automargin\": true}}, {\"showLink\": true, \"linkText\": \"Export to plot.ly\", \"plotlyServerURL\": \"https://plot.ly\"})});</script>"
      ]
     },
     "metadata": {},
     "output_type": "display_data"
    },
    {
     "name": "stdout",
     "output_type": "stream",
     "text": [
      "\n",
      "\n",
      "\u001b[1mXGB Classifier\u001b[0m\n",
      "Accuracy of the model for training data is: 0.974375112389858\n",
      "Confusion Matrix for training data is:\n"
     ]
    },
    {
     "data": {
      "text/plain": [
       "Predicted  False   True  __all__\n",
       "Actual                          \n",
       "False      27098    707    27805\n",
       "True         718  27087    27805\n",
       "__all__    27816  27794    55610"
      ]
     },
     "metadata": {},
     "output_type": "display_data"
    },
    {
     "name": "stdout",
     "output_type": "stream",
     "text": [
      "Accuracy of the model for test data is: 0.9643996427204288\n",
      "Confusion Matrix for test data is:\n"
     ]
    },
    {
     "data": {
      "text/plain": [
       "Predicted  False  True  __all__\n",
       "Actual                         \n",
       "False       6751   186     6937\n",
       "True          93   807      900\n",
       "__all__     6844   993     7837"
      ]
     },
     "metadata": {},
     "output_type": "display_data"
    },
    {
     "data": {
      "application/vnd.plotly.v1+json": {
       "config": {
        "linkText": "Export to plot.ly",
        "plotlyServerURL": "https://plot.ly",
        "showLink": true
       },
       "data": [
        {
         "marker": {
          "color": "rgb(158,202,225)",
          "line": {
           "color": "rgb(8,48,107)",
           "width": 1.5
          }
         },
         "opacity": 0.6,
         "orientation": "h",
         "text": [
          0.1255,
          0.0774,
          0.0686,
          0.0642,
          0.0482,
          0.0365,
          0.035,
          0.0336,
          0.0321,
          0.0307,
          0.0292,
          0.0263,
          0.0263,
          0.0263,
          0.0248,
          0.0219,
          0.0204,
          0.0204,
          0.0204,
          0.019,
          0.0175,
          0.0161,
          0.0161,
          0.0161,
          0.0146,
          0.0146,
          0.0131,
          0.0131,
          0.0131,
          0.0117,
          0.0117,
          0.0102,
          0.0088,
          0.0088,
          0.0073,
          0.0073,
          0.0058,
          0.0044,
          0.0029
         ],
         "textposition": "outside",
         "type": "bar",
         "uid": "1061e879-e7f3-47c9-942c-602c059ffd56",
         "x": [
          0.12554743885993958,
          0.07737226039171219,
          0.06861314177513123,
          0.06423357874155045,
          0.048175182193517685,
          0.036496348679065704,
          0.03503649681806564,
          0.033576641231775284,
          0.03211678937077522,
          0.030656933784484863,
          0.029197080060839653,
          0.026277372613549232,
          0.026277372613549232,
          0.026277372613549232,
          0.024817518889904022,
          0.021897809579968452,
          0.020437955856323242,
          0.020437955856323242,
          0.020437955856323242,
          0.018978102132678032,
          0.01751824840903282,
          0.01605839468538761,
          0.01605839468538761,
          0.01605839468538761,
          0.014598540030419827,
          0.014598540030419827,
          0.013138686306774616,
          0.013138686306774616,
          0.013138686306774616,
          0.011678831651806831,
          0.011678831651806831,
          0.010218977928161621,
          0.00875912420451641,
          0.00875912420451641,
          0.007299270015209913,
          0.007299270015209913,
          0.005839415825903416,
          0.004379562102258205,
          0.002919707912951708
         ],
         "y": [
          "url_length",
          "url_char_w",
          "url_char_.",
          "url_extensions",
          "title_count",
          "http_header_content-encoding_gzip",
          "link_type_text/css",
          "push",
          "img_src_http",
          "http_header_server_apache",
          "url_char_i",
          "p_count",
          "a_href_out_of_domain",
          "http_header_cache-control_set_max-age",
          "a_count",
          "url_char_z",
          "meta_count",
          "http_header_via_1.1",
          "url_char_l",
          "center_count",
          "url_char_p",
          "url_extension_endswith_.com",
          "http_header_content-length",
          "http_header_vary_user-agent",
          "url_char_f",
          "http_header_transfer-encoding_chunked",
          "url_char_d",
          "a_href_https",
          "link_href_out_of_domain",
          "input_count",
          "a_href_http",
          "script_src_out_of_domain",
          "li_count",
          "url_char_y",
          "iframe_src_.html",
          "a_href_relative",
          "script_count",
          "script_src_https",
          "url_char_t"
         ]
        }
       ],
       "layout": {
        "autosize": false,
        "height": 1000,
        "width": 1000,
        "xaxis": {
         "tickfont": {
          "color": "black",
          "size": 12
         },
         "title": "Feature Importances"
        },
        "yaxis": {
         "automargin": true
        }
       }
      },
      "text/html": [
       "<div id=\"6e6f3ca3-026a-416a-9e28-b31a29e53933\" style=\"height: 1000px; width: 1000px;\" class=\"plotly-graph-div\"></div><script type=\"text/javascript\">require([\"plotly\"], function(Plotly) { window.PLOTLYENV=window.PLOTLYENV || {};window.PLOTLYENV.BASE_URL=\"https://plot.ly\";Plotly.newPlot(\"6e6f3ca3-026a-416a-9e28-b31a29e53933\", [{\"marker\": {\"color\": \"rgb(158,202,225)\", \"line\": {\"color\": \"rgb(8,48,107)\", \"width\": 1.5}}, \"opacity\": 0.6, \"orientation\": \"h\", \"text\": [0.1255, 0.0774, 0.0686, 0.0642, 0.0482, 0.0365, 0.035, 0.0336, 0.0321, 0.0307, 0.0292, 0.0263, 0.0263, 0.0263, 0.0248, 0.0219, 0.0204, 0.0204, 0.0204, 0.019, 0.0175, 0.0161, 0.0161, 0.0161, 0.0146, 0.0146, 0.0131, 0.0131, 0.0131, 0.0117, 0.0117, 0.0102, 0.0088, 0.0088, 0.0073, 0.0073, 0.0058, 0.0044, 0.0029], \"textposition\": \"outside\", \"x\": [0.12554743885993958, 0.07737226039171219, 0.06861314177513123, 0.06423357874155045, 0.048175182193517685, 0.036496348679065704, 0.03503649681806564, 0.033576641231775284, 0.03211678937077522, 0.030656933784484863, 0.029197080060839653, 0.026277372613549232, 0.026277372613549232, 0.026277372613549232, 0.024817518889904022, 0.021897809579968452, 0.020437955856323242, 0.020437955856323242, 0.020437955856323242, 0.018978102132678032, 0.01751824840903282, 0.01605839468538761, 0.01605839468538761, 0.01605839468538761, 0.014598540030419827, 0.014598540030419827, 0.013138686306774616, 0.013138686306774616, 0.013138686306774616, 0.011678831651806831, 0.011678831651806831, 0.010218977928161621, 0.00875912420451641, 0.00875912420451641, 0.007299270015209913, 0.007299270015209913, 0.005839415825903416, 0.004379562102258205, 0.002919707912951708], \"y\": [\"url_length\", \"url_char_w\", \"url_char_.\", \"url_extensions\", \"title_count\", \"http_header_content-encoding_gzip\", \"link_type_text/css\", \"push\", \"img_src_http\", \"http_header_server_apache\", \"url_char_i\", \"p_count\", \"a_href_out_of_domain\", \"http_header_cache-control_set_max-age\", \"a_count\", \"url_char_z\", \"meta_count\", \"http_header_via_1.1\", \"url_char_l\", \"center_count\", \"url_char_p\", \"url_extension_endswith_.com\", \"http_header_content-length\", \"http_header_vary_user-agent\", \"url_char_f\", \"http_header_transfer-encoding_chunked\", \"url_char_d\", \"a_href_https\", \"link_href_out_of_domain\", \"input_count\", \"a_href_http\", \"script_src_out_of_domain\", \"li_count\", \"url_char_y\", \"iframe_src_.html\", \"a_href_relative\", \"script_count\", \"script_src_https\", \"url_char_t\"], \"type\": \"bar\", \"uid\": \"1061e879-e7f3-47c9-942c-602c059ffd56\"}], {\"autosize\": false, \"height\": 1000, \"width\": 1000, \"xaxis\": {\"tickfont\": {\"color\": \"black\", \"size\": 12}, \"title\": \"Feature Importances\"}, \"yaxis\": {\"automargin\": true}}, {\"showLink\": true, \"linkText\": \"Export to plot.ly\", \"plotlyServerURL\": \"https://plot.ly\"})});</script>"
      ],
      "text/vnd.plotly.v1+html": [
       "<div id=\"6e6f3ca3-026a-416a-9e28-b31a29e53933\" style=\"height: 1000px; width: 1000px;\" class=\"plotly-graph-div\"></div><script type=\"text/javascript\">require([\"plotly\"], function(Plotly) { window.PLOTLYENV=window.PLOTLYENV || {};window.PLOTLYENV.BASE_URL=\"https://plot.ly\";Plotly.newPlot(\"6e6f3ca3-026a-416a-9e28-b31a29e53933\", [{\"marker\": {\"color\": \"rgb(158,202,225)\", \"line\": {\"color\": \"rgb(8,48,107)\", \"width\": 1.5}}, \"opacity\": 0.6, \"orientation\": \"h\", \"text\": [0.1255, 0.0774, 0.0686, 0.0642, 0.0482, 0.0365, 0.035, 0.0336, 0.0321, 0.0307, 0.0292, 0.0263, 0.0263, 0.0263, 0.0248, 0.0219, 0.0204, 0.0204, 0.0204, 0.019, 0.0175, 0.0161, 0.0161, 0.0161, 0.0146, 0.0146, 0.0131, 0.0131, 0.0131, 0.0117, 0.0117, 0.0102, 0.0088, 0.0088, 0.0073, 0.0073, 0.0058, 0.0044, 0.0029], \"textposition\": \"outside\", \"x\": [0.12554743885993958, 0.07737226039171219, 0.06861314177513123, 0.06423357874155045, 0.048175182193517685, 0.036496348679065704, 0.03503649681806564, 0.033576641231775284, 0.03211678937077522, 0.030656933784484863, 0.029197080060839653, 0.026277372613549232, 0.026277372613549232, 0.026277372613549232, 0.024817518889904022, 0.021897809579968452, 0.020437955856323242, 0.020437955856323242, 0.020437955856323242, 0.018978102132678032, 0.01751824840903282, 0.01605839468538761, 0.01605839468538761, 0.01605839468538761, 0.014598540030419827, 0.014598540030419827, 0.013138686306774616, 0.013138686306774616, 0.013138686306774616, 0.011678831651806831, 0.011678831651806831, 0.010218977928161621, 0.00875912420451641, 0.00875912420451641, 0.007299270015209913, 0.007299270015209913, 0.005839415825903416, 0.004379562102258205, 0.002919707912951708], \"y\": [\"url_length\", \"url_char_w\", \"url_char_.\", \"url_extensions\", \"title_count\", \"http_header_content-encoding_gzip\", \"link_type_text/css\", \"push\", \"img_src_http\", \"http_header_server_apache\", \"url_char_i\", \"p_count\", \"a_href_out_of_domain\", \"http_header_cache-control_set_max-age\", \"a_count\", \"url_char_z\", \"meta_count\", \"http_header_via_1.1\", \"url_char_l\", \"center_count\", \"url_char_p\", \"url_extension_endswith_.com\", \"http_header_content-length\", \"http_header_vary_user-agent\", \"url_char_f\", \"http_header_transfer-encoding_chunked\", \"url_char_d\", \"a_href_https\", \"link_href_out_of_domain\", \"input_count\", \"a_href_http\", \"script_src_out_of_domain\", \"li_count\", \"url_char_y\", \"iframe_src_.html\", \"a_href_relative\", \"script_count\", \"script_src_https\", \"url_char_t\"], \"type\": \"bar\", \"uid\": \"1061e879-e7f3-47c9-942c-602c059ffd56\"}], {\"autosize\": false, \"height\": 1000, \"width\": 1000, \"xaxis\": {\"tickfont\": {\"color\": \"black\", \"size\": 12}, \"title\": \"Feature Importances\"}, \"yaxis\": {\"automargin\": true}}, {\"showLink\": true, \"linkText\": \"Export to plot.ly\", \"plotlyServerURL\": \"https://plot.ly\"})});</script>"
      ]
     },
     "metadata": {},
     "output_type": "display_data"
    },
    {
     "name": "stdout",
     "output_type": "stream",
     "text": [
      "\n",
      "\n",
      "\u001b[1mBagging Classifier\u001b[0m\n",
      "Accuracy of the model for training data is: 0.9985254450638374\n",
      "Confusion Matrix for training data is:\n"
     ]
    },
    {
     "data": {
      "text/plain": [
       "Predicted  False   True  __all__\n",
       "Actual                          \n",
       "False      27785     20    27805\n",
       "True          62  27743    27805\n",
       "__all__    27847  27763    55610"
      ]
     },
     "metadata": {},
     "output_type": "display_data"
    },
    {
     "name": "stdout",
     "output_type": "stream",
     "text": [
      "Accuracy of the model for test data is: 0.9765216281740462\n",
      "Confusion Matrix for test data is:\n"
     ]
    },
    {
     "data": {
      "text/plain": [
       "Predicted  False  True  __all__\n",
       "Actual                         \n",
       "False       6870    67     6937\n",
       "True         117   783      900\n",
       "__all__     6987   850     7837"
      ]
     },
     "metadata": {},
     "output_type": "display_data"
    },
    {
     "name": "stdout",
     "output_type": "stream",
     "text": [
      "\n",
      "\n",
      "\u001b[1mNeural Network-1\u001b[0m\n",
      "The accuracy of the model on training data is: 0.9970508901276749\n"
     ]
    },
    {
     "data": {
      "text/plain": [
       "Predicted  False   True  __all__\n",
       "Actual                          \n",
       "False      27711     94    27805\n",
       "True          70  27735    27805\n",
       "__all__    27781  27829    55610"
      ]
     },
     "metadata": {},
     "output_type": "display_data"
    },
    {
     "name": "stdout",
     "output_type": "stream",
     "text": [
      "The accuracy of the model on test data is: 0.9716728339925992\n"
     ]
    },
    {
     "data": {
      "text/plain": [
       "Predicted  False  True  __all__\n",
       "Actual                         \n",
       "False       6831   106     6937\n",
       "True         116   784      900\n",
       "__all__     6947   890     7837"
      ]
     },
     "metadata": {},
     "output_type": "display_data"
    },
    {
     "name": "stdout",
     "output_type": "stream",
     "text": [
      "\n",
      "\n"
     ]
    }
   ],
   "source": [
    "sm = SMOTE(random_state=12, ratio = {1:27805})\n",
    "X_train, Y_train = sm.fit_sample(scaled_X_train,train_Y)\n",
    "\n",
    "\n",
    "ind_columns=['KNeighborsClassifier','RandomForestClassifier','AdaBoostClassifier',\n",
    "             'GradientBoostingClassifier','ExtraTreeClassifier','XGB','BaggingClassifier','Neural Network-1']\n",
    "\n",
    "f=[KNN_model,RandomForest,AdaBoost,GradientBoosting, ExtraTree,XGB,Bagging,DeepLearning1]\n",
    "\n",
    "## Table to store training and test measures\n",
    "table_80_50_train=pd.DataFrame(columns=['accuracy','TP','TN','FP','FN','FPR','FNR'])\n",
    "table_80_50_test=pd.DataFrame(columns=['accuracy','TP','TN','FP','FN','FPR','FNR','auc','MCC','Precision','Recall'])\n",
    "\n",
    "feat_imp=[None]*5\n",
    "j=0\n",
    "for i in range(0,8):\n",
    "    if i>=1 and i<=5:\n",
    "        model,cm_train,cm_test,acc_train,acc_test,roc_auc,feat_imp[j],mcc,prec,rec=f[i](X_train,Y_train,scaled_X_test,test_Y,columns)\n",
    "        j=j+1\n",
    "    else:\n",
    "        model,cm_train,cm_test,acc_train,acc_test,roc_auc,mcc,prec,rec=f[i](X_train,Y_train,scaled_X_test,test_Y)\n",
    "    table_80_50_train.loc[i]=   ([acc_train,cm_train.TP,cm_train.TN,cm_train.FP,cm_train.FN,cm_train.FPR,cm_train.FNR])\n",
    "    table_80_50_test.loc[i] =   ([acc_test ,cm_test.TP, cm_test.TN, cm_test.FP, cm_test.FN, cm_test.FPR, cm_test.FNR,roc_auc,mcc,prec,rec])\n",
    "    print(\"\\n\")"
   ]
  },
  {
   "cell_type": "markdown",
   "metadata": {},
   "source": [
    "### <a id='2.A' style=\"text-decoration : none; color : #000000;\"> A. Results</a>"
   ]
  },
  {
   "cell_type": "code",
   "execution_count": 18,
   "metadata": {},
   "outputs": [
    {
     "data": {
      "application/vnd.plotly.v1+json": {
       "config": {
        "linkText": "Export to plot.ly",
        "plotlyServerURL": "https://plot.ly",
        "showLink": true
       },
       "data": [
        {
         "mode": "lines",
         "name": "KNN_model",
         "type": "scatter",
         "uid": "6ae4658a-9247-496f-9a4b-e75627078225",
         "x": [
          "accuracy",
          "auc",
          "MCC",
          "Precision",
          "Recall"
         ],
         "y": [
          0.9448768661477607,
          0.9277669661877532,
          0.7675658465670585,
          0.7013769363166954,
          0.9055555555555556
         ]
        },
        {
         "mode": "lines+markers",
         "name": "XGB",
         "type": "scatter",
         "uid": "54ffeeb7-ddf7-436d-a1a1-4ca28e2a4850",
         "x": [
          "accuracy",
          "auc",
          "MCC",
          "Precision",
          "Recall"
         ],
         "y": [
          0.9643996427204288,
          0.9349269617029455,
          0.8337268804466751,
          0.8126888217522659,
          0.8966666666666666
         ]
        },
        {
         "marker": {
          "symbol": "x"
         },
         "mode": "lines+markers",
         "name": "Random Forest",
         "type": "scatter",
         "uid": "22213797-dfbf-4685-ab2d-1c0ebfae69f5",
         "x": [
          "accuracy",
          "auc",
          "MCC",
          "Precision",
          "Recall"
         ],
         "y": [
          0.9788184254178895,
          0.9343690836576811,
          0.893496831686102,
          0.9348341232227488,
          0.8766666666666667
         ]
        },
        {
         "mode": "lines",
         "name": "Ada Boost",
         "type": "scatter",
         "uid": "6ce38761-4cbb-4dfd-b5b9-59695b4da1c6",
         "x": [
          "accuracy",
          "auc",
          "MCC",
          "Precision",
          "Recall"
         ],
         "y": [
          0.9561056526732168,
          0.935076722246248,
          0.8054755127934292,
          0.7578849721706865,
          0.9077777777777778
         ]
        },
        {
         "mode": "lines+markers",
         "name": "GradientBoosting",
         "type": "scatter",
         "uid": "cc48de03-3d4b-42bb-85ae-4bdfc9c9f73c",
         "x": [
          "accuracy",
          "auc",
          "MCC",
          "Precision",
          "Recall"
         ],
         "y": [
          0.9661860405767513,
          0.9364195217272917,
          0.8409522918795898,
          0.8236493374108053,
          0.8977777777777778
         ]
        },
        {
         "marker": {
          "symbol": "x"
         },
         "mode": "lines+markers",
         "name": "ExtraTree Classifier",
         "type": "scatter",
         "uid": "9bcfb1eb-c121-4b1d-b938-d80dc8416c51",
         "x": [
          "accuracy",
          "auc",
          "MCC",
          "Precision",
          "Recall"
         ],
         "y": [
          0.9786908255710093,
          0.931396136658498,
          0.8925196361366028,
          0.9399759903961584,
          0.87
         ]
        },
        {
         "marker": {
          "symbol": "x"
         },
         "mode": "lines+markers",
         "name": "Bagging",
         "type": "scatter",
         "uid": "6a15f36d-feb4-424e-bd37-074de6999525",
         "x": [
          "accuracy",
          "auc",
          "MCC",
          "Precision",
          "Recall"
         ],
         "y": [
          0.9765216281740462,
          0.9301708231223872,
          0.8821109509041298,
          0.9211764705882353,
          0.87
         ]
        },
        {
         "marker": {
          "symbol": "x"
         },
         "mode": "lines+markers",
         "name": "Neural Network",
         "type": "scatter",
         "uid": "645ad93e-6717-408f-adb5-58e7669a4118",
         "x": [
          "accuracy",
          "auc",
          "MCC",
          "Precision",
          "Recall"
         ],
         "y": [
          0.9716728339925992,
          0.9301708231223872,
          0.8600056926106581,
          0.8808988764044944,
          0.8711111111111111
         ]
        }
       ],
       "layout": {
        "title": "Result comparision for Features selected in Section 1",
        "yaxis": {
         "dtick": 0.05,
         "tick0": 0
        }
       }
      },
      "text/html": [
       "<div id=\"17ebeff2-007b-46ae-a001-8b79d75db6a7\" style=\"height: 525px; width: 100%;\" class=\"plotly-graph-div\"></div><script type=\"text/javascript\">require([\"plotly\"], function(Plotly) { window.PLOTLYENV=window.PLOTLYENV || {};window.PLOTLYENV.BASE_URL=\"https://plot.ly\";Plotly.newPlot(\"17ebeff2-007b-46ae-a001-8b79d75db6a7\", [{\"mode\": \"lines\", \"name\": \"KNN_model\", \"x\": [\"accuracy\", \"auc\", \"MCC\", \"Precision\", \"Recall\"], \"y\": [0.9448768661477607, 0.9277669661877532, 0.7675658465670585, 0.7013769363166954, 0.9055555555555556], \"type\": \"scatter\", \"uid\": \"6ae4658a-9247-496f-9a4b-e75627078225\"}, {\"mode\": \"lines+markers\", \"name\": \"XGB\", \"x\": [\"accuracy\", \"auc\", \"MCC\", \"Precision\", \"Recall\"], \"y\": [0.9643996427204288, 0.9349269617029455, 0.8337268804466751, 0.8126888217522659, 0.8966666666666666], \"type\": \"scatter\", \"uid\": \"54ffeeb7-ddf7-436d-a1a1-4ca28e2a4850\"}, {\"marker\": {\"symbol\": \"x\"}, \"mode\": \"lines+markers\", \"name\": \"Random Forest\", \"x\": [\"accuracy\", \"auc\", \"MCC\", \"Precision\", \"Recall\"], \"y\": [0.9788184254178895, 0.9343690836576811, 0.893496831686102, 0.9348341232227488, 0.8766666666666667], \"type\": \"scatter\", \"uid\": \"22213797-dfbf-4685-ab2d-1c0ebfae69f5\"}, {\"mode\": \"lines\", \"name\": \"Ada Boost\", \"x\": [\"accuracy\", \"auc\", \"MCC\", \"Precision\", \"Recall\"], \"y\": [0.9561056526732168, 0.935076722246248, 0.8054755127934292, 0.7578849721706865, 0.9077777777777778], \"type\": \"scatter\", \"uid\": \"6ce38761-4cbb-4dfd-b5b9-59695b4da1c6\"}, {\"mode\": \"lines+markers\", \"name\": \"GradientBoosting\", \"x\": [\"accuracy\", \"auc\", \"MCC\", \"Precision\", \"Recall\"], \"y\": [0.9661860405767513, 0.9364195217272917, 0.8409522918795898, 0.8236493374108053, 0.8977777777777778], \"type\": \"scatter\", \"uid\": \"cc48de03-3d4b-42bb-85ae-4bdfc9c9f73c\"}, {\"marker\": {\"symbol\": \"x\"}, \"mode\": \"lines+markers\", \"name\": \"ExtraTree Classifier\", \"x\": [\"accuracy\", \"auc\", \"MCC\", \"Precision\", \"Recall\"], \"y\": [0.9786908255710093, 0.931396136658498, 0.8925196361366028, 0.9399759903961584, 0.87], \"type\": \"scatter\", \"uid\": \"9bcfb1eb-c121-4b1d-b938-d80dc8416c51\"}, {\"marker\": {\"symbol\": \"x\"}, \"mode\": \"lines+markers\", \"name\": \"Bagging\", \"x\": [\"accuracy\", \"auc\", \"MCC\", \"Precision\", \"Recall\"], \"y\": [0.9765216281740462, 0.9301708231223872, 0.8821109509041298, 0.9211764705882353, 0.87], \"type\": \"scatter\", \"uid\": \"6a15f36d-feb4-424e-bd37-074de6999525\"}, {\"marker\": {\"symbol\": \"x\"}, \"mode\": \"lines+markers\", \"name\": \"Neural Network\", \"x\": [\"accuracy\", \"auc\", \"MCC\", \"Precision\", \"Recall\"], \"y\": [0.9716728339925992, 0.9301708231223872, 0.8600056926106581, 0.8808988764044944, 0.8711111111111111], \"type\": \"scatter\", \"uid\": \"645ad93e-6717-408f-adb5-58e7669a4118\"}], {\"title\": \"Result comparision for Features selected in Section 1\", \"yaxis\": {\"dtick\": 0.05, \"tick0\": 0}}, {\"showLink\": true, \"linkText\": \"Export to plot.ly\", \"plotlyServerURL\": \"https://plot.ly\"})});</script><script type=\"text/javascript\">window.addEventListener(\"resize\", function(){window._Plotly.Plots.resize(document.getElementById(\"17ebeff2-007b-46ae-a001-8b79d75db6a7\"));});</script>"
      ],
      "text/vnd.plotly.v1+html": [
       "<div id=\"17ebeff2-007b-46ae-a001-8b79d75db6a7\" style=\"height: 525px; width: 100%;\" class=\"plotly-graph-div\"></div><script type=\"text/javascript\">require([\"plotly\"], function(Plotly) { window.PLOTLYENV=window.PLOTLYENV || {};window.PLOTLYENV.BASE_URL=\"https://plot.ly\";Plotly.newPlot(\"17ebeff2-007b-46ae-a001-8b79d75db6a7\", [{\"mode\": \"lines\", \"name\": \"KNN_model\", \"x\": [\"accuracy\", \"auc\", \"MCC\", \"Precision\", \"Recall\"], \"y\": [0.9448768661477607, 0.9277669661877532, 0.7675658465670585, 0.7013769363166954, 0.9055555555555556], \"type\": \"scatter\", \"uid\": \"6ae4658a-9247-496f-9a4b-e75627078225\"}, {\"mode\": \"lines+markers\", \"name\": \"XGB\", \"x\": [\"accuracy\", \"auc\", \"MCC\", \"Precision\", \"Recall\"], \"y\": [0.9643996427204288, 0.9349269617029455, 0.8337268804466751, 0.8126888217522659, 0.8966666666666666], \"type\": \"scatter\", \"uid\": \"54ffeeb7-ddf7-436d-a1a1-4ca28e2a4850\"}, {\"marker\": {\"symbol\": \"x\"}, \"mode\": \"lines+markers\", \"name\": \"Random Forest\", \"x\": [\"accuracy\", \"auc\", \"MCC\", \"Precision\", \"Recall\"], \"y\": [0.9788184254178895, 0.9343690836576811, 0.893496831686102, 0.9348341232227488, 0.8766666666666667], \"type\": \"scatter\", \"uid\": \"22213797-dfbf-4685-ab2d-1c0ebfae69f5\"}, {\"mode\": \"lines\", \"name\": \"Ada Boost\", \"x\": [\"accuracy\", \"auc\", \"MCC\", \"Precision\", \"Recall\"], \"y\": [0.9561056526732168, 0.935076722246248, 0.8054755127934292, 0.7578849721706865, 0.9077777777777778], \"type\": \"scatter\", \"uid\": \"6ce38761-4cbb-4dfd-b5b9-59695b4da1c6\"}, {\"mode\": \"lines+markers\", \"name\": \"GradientBoosting\", \"x\": [\"accuracy\", \"auc\", \"MCC\", \"Precision\", \"Recall\"], \"y\": [0.9661860405767513, 0.9364195217272917, 0.8409522918795898, 0.8236493374108053, 0.8977777777777778], \"type\": \"scatter\", \"uid\": \"cc48de03-3d4b-42bb-85ae-4bdfc9c9f73c\"}, {\"marker\": {\"symbol\": \"x\"}, \"mode\": \"lines+markers\", \"name\": \"ExtraTree Classifier\", \"x\": [\"accuracy\", \"auc\", \"MCC\", \"Precision\", \"Recall\"], \"y\": [0.9786908255710093, 0.931396136658498, 0.8925196361366028, 0.9399759903961584, 0.87], \"type\": \"scatter\", \"uid\": \"9bcfb1eb-c121-4b1d-b938-d80dc8416c51\"}, {\"marker\": {\"symbol\": \"x\"}, \"mode\": \"lines+markers\", \"name\": \"Bagging\", \"x\": [\"accuracy\", \"auc\", \"MCC\", \"Precision\", \"Recall\"], \"y\": [0.9765216281740462, 0.9301708231223872, 0.8821109509041298, 0.9211764705882353, 0.87], \"type\": \"scatter\", \"uid\": \"6a15f36d-feb4-424e-bd37-074de6999525\"}, {\"marker\": {\"symbol\": \"x\"}, \"mode\": \"lines+markers\", \"name\": \"Neural Network\", \"x\": [\"accuracy\", \"auc\", \"MCC\", \"Precision\", \"Recall\"], \"y\": [0.9716728339925992, 0.9301708231223872, 0.8600056926106581, 0.8808988764044944, 0.8711111111111111], \"type\": \"scatter\", \"uid\": \"645ad93e-6717-408f-adb5-58e7669a4118\"}], {\"title\": \"Result comparision for Features selected in Section 1\", \"yaxis\": {\"dtick\": 0.05, \"tick0\": 0}}, {\"showLink\": true, \"linkText\": \"Export to plot.ly\", \"plotlyServerURL\": \"https://plot.ly\"})});</script><script type=\"text/javascript\">window.addEventListener(\"resize\", function(){window._Plotly.Plots.resize(document.getElementById(\"17ebeff2-007b-46ae-a001-8b79d75db6a7\"));});</script>"
      ]
     },
     "metadata": {},
     "output_type": "display_data"
    }
   ],
   "source": [
    "trace0 = go.Scatter(x=table_80_50_test.iloc[0].index.values[[0,7,8,9,10]],\n",
    "                    y=table_80_50_test.iloc[0].values[[0,7,8,9,10]],\n",
    "                    mode = 'lines',\n",
    "                    name = 'KNN_model')\n",
    "\n",
    "\n",
    "trace2 = go.Scatter(x=table_80_50_test.iloc[1].index.values[[0,7,8,9,10]],\n",
    "                    y=table_80_50_test.iloc[1].values[[0,7,8,9,10]],\n",
    "                    mode = 'lines+markers',marker=dict(symbol='x'),\n",
    "                    name = 'Random Forest')\n",
    "\n",
    "\n",
    "trace3 = go.Scatter(x=table_80_50_test.iloc[2].index.values[[0,7,8,9,10]],\n",
    "                    y=table_80_50_test.iloc[2].values[[0,7,8,9,10]],\n",
    "                    mode = 'lines',\n",
    "                    name = 'Ada Boost')\n",
    "\n",
    "trace4 = go.Scatter(x=table_80_50_test.iloc[3].index.values[[0,7,8,9,10]],\n",
    "                    y=table_80_50_test.iloc[3].values[[0,7,8,9,10]],\n",
    "                    mode = 'lines+markers',\n",
    "                    name = 'GradientBoosting')\n",
    "\n",
    "trace5 = go.Scatter(x=table_80_50_test.iloc[4].index.values[[0,7,8,9,10]],\n",
    "                    y=table_80_50_test.iloc[4].values[[0,7,8,9,10]],\n",
    "                    mode = 'lines+markers',marker=dict(symbol='x'),\n",
    "                    name = 'ExtraTree Classifier')\n",
    "\n",
    "\n",
    "trace1 = go.Scatter(x=table_80_50_test.iloc[5].index.values[[0,7,8,9,10]],\n",
    "                    y=table_80_50_test.iloc[5].values[[0,7,8,9,10]],\n",
    "                    mode = 'lines+markers',\n",
    "                    name = 'XGB')\n",
    "\n",
    "\n",
    "trace6 = go.Scatter(x=table_80_50_test.iloc[6].index.values[[0,7,8,9,10]],\n",
    "                    y=table_80_50_test.iloc[6].values[[0,7,8,9,10]],\n",
    "                    mode = 'lines+markers',marker=dict(symbol='x'),\n",
    "                    name = 'Bagging')\n",
    "\n",
    "trace7 = go.Scatter(x=table_80_50_test.iloc[7].index.values[[0,7,8,9,10]],\n",
    "                    y=table_80_50_test.iloc[7].values[[0,7,8,9,10]],\n",
    "                    mode = 'lines+markers',marker=dict(symbol='x'),\n",
    "                    name = 'Neural Network')\n",
    "\n",
    "\n",
    "\n",
    "data = [trace0, trace1, trace2, trace3, trace4, trace5, trace6, trace7]\n",
    "layout = go.Layout(yaxis=dict(tick0=0,dtick=0.05),title='Result comparision for Features selected in Section 1')\n",
    "fig = go.Figure(data=data, layout=layout)\n",
    "\n",
    "iplot(fig, filename='Result')"
   ]
  },
  {
   "cell_type": "code",
   "execution_count": 19,
   "metadata": {},
   "outputs": [
    {
     "name": "stdout",
     "output_type": "stream",
     "text": [
      "Training Results\n"
     ]
    },
    {
     "data": {
      "text/html": [
       "<div>\n",
       "<style scoped>\n",
       "    .dataframe tbody tr th:only-of-type {\n",
       "        vertical-align: middle;\n",
       "    }\n",
       "\n",
       "    .dataframe tbody tr th {\n",
       "        vertical-align: top;\n",
       "    }\n",
       "\n",
       "    .dataframe thead th {\n",
       "        text-align: right;\n",
       "    }\n",
       "</style>\n",
       "<table border=\"1\" class=\"dataframe\">\n",
       "  <thead>\n",
       "    <tr style=\"text-align: right;\">\n",
       "      <th></th>\n",
       "      <th>accuracy</th>\n",
       "      <th>TP</th>\n",
       "      <th>TN</th>\n",
       "      <th>FP</th>\n",
       "      <th>FN</th>\n",
       "      <th>FPR</th>\n",
       "      <th>FNR</th>\n",
       "    </tr>\n",
       "    <tr>\n",
       "      <th>index</th>\n",
       "      <th></th>\n",
       "      <th></th>\n",
       "      <th></th>\n",
       "      <th></th>\n",
       "      <th></th>\n",
       "      <th></th>\n",
       "      <th></th>\n",
       "    </tr>\n",
       "  </thead>\n",
       "  <tbody>\n",
       "    <tr>\n",
       "      <th>KNeighborsClassifier</th>\n",
       "      <td>0.980741</td>\n",
       "      <td>27754.0</td>\n",
       "      <td>26785.0</td>\n",
       "      <td>1020.0</td>\n",
       "      <td>51.0</td>\n",
       "      <td>0.036684</td>\n",
       "      <td>0.001834</td>\n",
       "    </tr>\n",
       "    <tr>\n",
       "      <th>RandomForestClassifier</th>\n",
       "      <td>0.999011</td>\n",
       "      <td>27763.0</td>\n",
       "      <td>27792.0</td>\n",
       "      <td>13.0</td>\n",
       "      <td>42.0</td>\n",
       "      <td>0.000468</td>\n",
       "      <td>0.001511</td>\n",
       "    </tr>\n",
       "    <tr>\n",
       "      <th>AdaBoostClassifier</th>\n",
       "      <td>0.963837</td>\n",
       "      <td>26842.0</td>\n",
       "      <td>26757.0</td>\n",
       "      <td>1048.0</td>\n",
       "      <td>963.0</td>\n",
       "      <td>0.037691</td>\n",
       "      <td>0.034634</td>\n",
       "    </tr>\n",
       "    <tr>\n",
       "      <th>GradientBoostingClassifier</th>\n",
       "      <td>0.975868</td>\n",
       "      <td>27133.0</td>\n",
       "      <td>27135.0</td>\n",
       "      <td>670.0</td>\n",
       "      <td>672.0</td>\n",
       "      <td>0.024096</td>\n",
       "      <td>0.024168</td>\n",
       "    </tr>\n",
       "    <tr>\n",
       "      <th>ExtraTreeClassifier</th>\n",
       "      <td>0.999658</td>\n",
       "      <td>27788.0</td>\n",
       "      <td>27803.0</td>\n",
       "      <td>2.0</td>\n",
       "      <td>17.0</td>\n",
       "      <td>0.000072</td>\n",
       "      <td>0.000611</td>\n",
       "    </tr>\n",
       "    <tr>\n",
       "      <th>XGB</th>\n",
       "      <td>0.974375</td>\n",
       "      <td>27087.0</td>\n",
       "      <td>27098.0</td>\n",
       "      <td>707.0</td>\n",
       "      <td>718.0</td>\n",
       "      <td>0.025427</td>\n",
       "      <td>0.025823</td>\n",
       "    </tr>\n",
       "    <tr>\n",
       "      <th>BaggingClassifier</th>\n",
       "      <td>0.998525</td>\n",
       "      <td>27743.0</td>\n",
       "      <td>27785.0</td>\n",
       "      <td>20.0</td>\n",
       "      <td>62.0</td>\n",
       "      <td>0.000719</td>\n",
       "      <td>0.002230</td>\n",
       "    </tr>\n",
       "    <tr>\n",
       "      <th>Neural Network-1</th>\n",
       "      <td>0.997051</td>\n",
       "      <td>27735.0</td>\n",
       "      <td>27711.0</td>\n",
       "      <td>94.0</td>\n",
       "      <td>70.0</td>\n",
       "      <td>0.003381</td>\n",
       "      <td>0.002518</td>\n",
       "    </tr>\n",
       "  </tbody>\n",
       "</table>\n",
       "</div>"
      ],
      "text/plain": [
       "                            accuracy       TP       TN      FP     FN  \\\n",
       "index                                                                   \n",
       "KNeighborsClassifier        0.980741  27754.0  26785.0  1020.0   51.0   \n",
       "RandomForestClassifier      0.999011  27763.0  27792.0    13.0   42.0   \n",
       "AdaBoostClassifier          0.963837  26842.0  26757.0  1048.0  963.0   \n",
       "GradientBoostingClassifier  0.975868  27133.0  27135.0   670.0  672.0   \n",
       "ExtraTreeClassifier         0.999658  27788.0  27803.0     2.0   17.0   \n",
       "XGB                         0.974375  27087.0  27098.0   707.0  718.0   \n",
       "BaggingClassifier           0.998525  27743.0  27785.0    20.0   62.0   \n",
       "Neural Network-1            0.997051  27735.0  27711.0    94.0   70.0   \n",
       "\n",
       "                                 FPR       FNR  \n",
       "index                                           \n",
       "KNeighborsClassifier        0.036684  0.001834  \n",
       "RandomForestClassifier      0.000468  0.001511  \n",
       "AdaBoostClassifier          0.037691  0.034634  \n",
       "GradientBoostingClassifier  0.024096  0.024168  \n",
       "ExtraTreeClassifier         0.000072  0.000611  \n",
       "XGB                         0.025427  0.025823  \n",
       "BaggingClassifier           0.000719  0.002230  \n",
       "Neural Network-1            0.003381  0.002518  "
      ]
     },
     "metadata": {},
     "output_type": "display_data"
    },
    {
     "name": "stdout",
     "output_type": "stream",
     "text": [
      "Test Results\n"
     ]
    },
    {
     "data": {
      "text/html": [
       "<div>\n",
       "<style scoped>\n",
       "    .dataframe tbody tr th:only-of-type {\n",
       "        vertical-align: middle;\n",
       "    }\n",
       "\n",
       "    .dataframe tbody tr th {\n",
       "        vertical-align: top;\n",
       "    }\n",
       "\n",
       "    .dataframe thead th {\n",
       "        text-align: right;\n",
       "    }\n",
       "</style>\n",
       "<table border=\"1\" class=\"dataframe\">\n",
       "  <thead>\n",
       "    <tr style=\"text-align: right;\">\n",
       "      <th></th>\n",
       "      <th>accuracy</th>\n",
       "      <th>TP</th>\n",
       "      <th>TN</th>\n",
       "      <th>FP</th>\n",
       "      <th>FN</th>\n",
       "      <th>FPR</th>\n",
       "      <th>FNR</th>\n",
       "      <th>auc</th>\n",
       "      <th>MCC</th>\n",
       "      <th>Precision</th>\n",
       "      <th>Recall</th>\n",
       "    </tr>\n",
       "    <tr>\n",
       "      <th>index</th>\n",
       "      <th></th>\n",
       "      <th></th>\n",
       "      <th></th>\n",
       "      <th></th>\n",
       "      <th></th>\n",
       "      <th></th>\n",
       "      <th></th>\n",
       "      <th></th>\n",
       "      <th></th>\n",
       "      <th></th>\n",
       "      <th></th>\n",
       "    </tr>\n",
       "  </thead>\n",
       "  <tbody>\n",
       "    <tr>\n",
       "      <th>KNeighborsClassifier</th>\n",
       "      <td>0.944877</td>\n",
       "      <td>815.0</td>\n",
       "      <td>6590.0</td>\n",
       "      <td>347.0</td>\n",
       "      <td>85.0</td>\n",
       "      <td>0.050022</td>\n",
       "      <td>0.094444</td>\n",
       "      <td>0.927767</td>\n",
       "      <td>0.767566</td>\n",
       "      <td>0.701377</td>\n",
       "      <td>0.905556</td>\n",
       "    </tr>\n",
       "    <tr>\n",
       "      <th>RandomForestClassifier</th>\n",
       "      <td>0.978818</td>\n",
       "      <td>789.0</td>\n",
       "      <td>6882.0</td>\n",
       "      <td>55.0</td>\n",
       "      <td>111.0</td>\n",
       "      <td>0.007928</td>\n",
       "      <td>0.123333</td>\n",
       "      <td>0.934369</td>\n",
       "      <td>0.893497</td>\n",
       "      <td>0.934834</td>\n",
       "      <td>0.876667</td>\n",
       "    </tr>\n",
       "    <tr>\n",
       "      <th>AdaBoostClassifier</th>\n",
       "      <td>0.956106</td>\n",
       "      <td>817.0</td>\n",
       "      <td>6676.0</td>\n",
       "      <td>261.0</td>\n",
       "      <td>83.0</td>\n",
       "      <td>0.037624</td>\n",
       "      <td>0.092222</td>\n",
       "      <td>0.935077</td>\n",
       "      <td>0.805476</td>\n",
       "      <td>0.757885</td>\n",
       "      <td>0.907778</td>\n",
       "    </tr>\n",
       "    <tr>\n",
       "      <th>GradientBoostingClassifier</th>\n",
       "      <td>0.966186</td>\n",
       "      <td>808.0</td>\n",
       "      <td>6764.0</td>\n",
       "      <td>173.0</td>\n",
       "      <td>92.0</td>\n",
       "      <td>0.024939</td>\n",
       "      <td>0.102222</td>\n",
       "      <td>0.936420</td>\n",
       "      <td>0.840952</td>\n",
       "      <td>0.823649</td>\n",
       "      <td>0.897778</td>\n",
       "    </tr>\n",
       "    <tr>\n",
       "      <th>ExtraTreeClassifier</th>\n",
       "      <td>0.978691</td>\n",
       "      <td>783.0</td>\n",
       "      <td>6887.0</td>\n",
       "      <td>50.0</td>\n",
       "      <td>117.0</td>\n",
       "      <td>0.007208</td>\n",
       "      <td>0.130000</td>\n",
       "      <td>0.931396</td>\n",
       "      <td>0.892520</td>\n",
       "      <td>0.939976</td>\n",
       "      <td>0.870000</td>\n",
       "    </tr>\n",
       "    <tr>\n",
       "      <th>XGB</th>\n",
       "      <td>0.964400</td>\n",
       "      <td>807.0</td>\n",
       "      <td>6751.0</td>\n",
       "      <td>186.0</td>\n",
       "      <td>93.0</td>\n",
       "      <td>0.026813</td>\n",
       "      <td>0.103333</td>\n",
       "      <td>0.934927</td>\n",
       "      <td>0.833727</td>\n",
       "      <td>0.812689</td>\n",
       "      <td>0.896667</td>\n",
       "    </tr>\n",
       "    <tr>\n",
       "      <th>BaggingClassifier</th>\n",
       "      <td>0.976522</td>\n",
       "      <td>783.0</td>\n",
       "      <td>6870.0</td>\n",
       "      <td>67.0</td>\n",
       "      <td>117.0</td>\n",
       "      <td>0.009658</td>\n",
       "      <td>0.130000</td>\n",
       "      <td>0.930171</td>\n",
       "      <td>0.882111</td>\n",
       "      <td>0.921176</td>\n",
       "      <td>0.870000</td>\n",
       "    </tr>\n",
       "    <tr>\n",
       "      <th>Neural Network-1</th>\n",
       "      <td>0.971673</td>\n",
       "      <td>784.0</td>\n",
       "      <td>6831.0</td>\n",
       "      <td>106.0</td>\n",
       "      <td>116.0</td>\n",
       "      <td>0.015280</td>\n",
       "      <td>0.128889</td>\n",
       "      <td>0.930171</td>\n",
       "      <td>0.860006</td>\n",
       "      <td>0.880899</td>\n",
       "      <td>0.871111</td>\n",
       "    </tr>\n",
       "  </tbody>\n",
       "</table>\n",
       "</div>"
      ],
      "text/plain": [
       "                            accuracy     TP      TN     FP     FN       FPR  \\\n",
       "index                                                                         \n",
       "KNeighborsClassifier        0.944877  815.0  6590.0  347.0   85.0  0.050022   \n",
       "RandomForestClassifier      0.978818  789.0  6882.0   55.0  111.0  0.007928   \n",
       "AdaBoostClassifier          0.956106  817.0  6676.0  261.0   83.0  0.037624   \n",
       "GradientBoostingClassifier  0.966186  808.0  6764.0  173.0   92.0  0.024939   \n",
       "ExtraTreeClassifier         0.978691  783.0  6887.0   50.0  117.0  0.007208   \n",
       "XGB                         0.964400  807.0  6751.0  186.0   93.0  0.026813   \n",
       "BaggingClassifier           0.976522  783.0  6870.0   67.0  117.0  0.009658   \n",
       "Neural Network-1            0.971673  784.0  6831.0  106.0  116.0  0.015280   \n",
       "\n",
       "                                 FNR       auc       MCC  Precision    Recall  \n",
       "index                                                                          \n",
       "KNeighborsClassifier        0.094444  0.927767  0.767566   0.701377  0.905556  \n",
       "RandomForestClassifier      0.123333  0.934369  0.893497   0.934834  0.876667  \n",
       "AdaBoostClassifier          0.092222  0.935077  0.805476   0.757885  0.907778  \n",
       "GradientBoostingClassifier  0.102222  0.936420  0.840952   0.823649  0.897778  \n",
       "ExtraTreeClassifier         0.130000  0.931396  0.892520   0.939976  0.870000  \n",
       "XGB                         0.103333  0.934927  0.833727   0.812689  0.896667  \n",
       "BaggingClassifier           0.130000  0.930171  0.882111   0.921176  0.870000  \n",
       "Neural Network-1            0.128889  0.930171  0.860006   0.880899  0.871111  "
      ]
     },
     "metadata": {},
     "output_type": "display_data"
    }
   ],
   "source": [
    "### 14164\n",
    "table_80_50_train['index']=ind_columns\n",
    "table_80_50_test['index']=ind_columns\n",
    "\n",
    "\n",
    "table_80_50_test.set_index(['index'],drop=True,inplace=True)\n",
    "table_80_50_train.set_index(['index'],drop=True,inplace=True)\n",
    "\n",
    "print(\"Training Results\")\n",
    "display(table_80_50_train)\n",
    "print(\"Test Results\")\n",
    "display(table_80_50_test)"
   ]
  },
  {
   "cell_type": "markdown",
   "metadata": {},
   "source": [
    "### <a id='2.B' style=\"text-decoration : none; color : #000000;\"> B. Average Feature Importances</a>"
   ]
  },
  {
   "cell_type": "code",
   "execution_count": 20,
   "metadata": {},
   "outputs": [
    {
     "data": {
      "application/vnd.plotly.v1+json": {
       "config": {
        "linkText": "Export to plot.ly",
        "plotlyServerURL": "https://plot.ly",
        "showLink": true
       },
       "data": [
        {
         "marker": {
          "color": "rgb(158,202,225)",
          "line": {
           "color": "rgb(8,48,107)",
           "width": 1.5
          }
         },
         "opacity": 0.6,
         "orientation": "h",
         "text": [
          0.1594,
          0.0692,
          0.0609,
          0.0575,
          0.0532,
          0.0363,
          0.034,
          0.0312,
          0.031,
          0.0285,
          0.0275,
          0.0272,
          0.0253,
          0.0248,
          0.0236,
          0.0228,
          0.0203,
          0.0194,
          0.0186,
          0.0175,
          0.0173,
          0.016,
          0.0145,
          0.0145,
          0.0145,
          0.0144,
          0.0144,
          0.0117,
          0.0112,
          0.0109,
          0.0108,
          0.0099,
          0.0099,
          0.0092,
          0.009,
          0.0072,
          0.0067,
          0.0059,
          0.0038
         ],
         "textposition": "outside",
         "type": "bar",
         "uid": "7980e486-78d7-450e-a925-9564fe37aad2",
         "x": [
          0.15939358213091803,
          0.06924645015658627,
          0.060864543072442746,
          0.05749589863462758,
          0.053194704542592695,
          0.03634725994028917,
          0.03402963008700288,
          0.031194844864662608,
          0.031007219610508813,
          0.028517351147267538,
          0.027510101688487793,
          0.02715352848264687,
          0.025301729645983685,
          0.02480340634938344,
          0.02358471741640108,
          0.022755536453064447,
          0.020300387160461317,
          0.01939894772144019,
          0.018576598143045697,
          0.01745029005649751,
          0.017279934326338772,
          0.015980644571979126,
          0.014531580618638101,
          0.014512732817382596,
          0.014501241523901759,
          0.014439041975370975,
          0.014408081992103094,
          0.011653473337338186,
          0.011195393685135033,
          0.010944264295526727,
          0.010839601770851137,
          0.009884882960284658,
          0.009868251054799446,
          0.00917135024642127,
          0.009034707945452223,
          0.0071820617557489756,
          0.006664540369777231,
          0.005949907354021117,
          0.003831579070164318
         ],
         "y": [
          "title_count",
          "url_length",
          "url_extensions",
          "url_char_w",
          "http_header_content-encoding_gzip",
          "script_src_out_of_domain",
          "url_char_.",
          "meta_count",
          "a_count",
          "url_char_t",
          "a_href_out_of_domain",
          "link_href_out_of_domain",
          "push",
          "http_header_transfer-encoding_chunked",
          "url_char_l",
          "url_char_i",
          "http_header_cache-control_set_max-age",
          "p_count",
          "li_count",
          "http_header_server_apache",
          "url_char_z",
          "script_count",
          "url_extension_endswith_.com",
          "http_header_content-length",
          "url_char_d",
          "link_type_text/css",
          "img_src_http",
          "http_header_vary_user-agent",
          "http_header_via_1.1",
          "a_href_relative",
          "url_char_p",
          "url_char_f",
          "url_char_y",
          "center_count",
          "a_href_http",
          "a_href_https",
          "script_src_https",
          "iframe_src_.html",
          "input_count"
         ]
        }
       ],
       "layout": {
        "autosize": false,
        "height": 1000,
        "width": 1000,
        "xaxis": {
         "tickfont": {
          "color": "black",
          "size": 12
         },
         "title": "Feature Importances"
        },
        "yaxis": {
         "automargin": true
        }
       }
      },
      "text/html": [
       "<div id=\"c056152f-6b37-4c6e-83cb-5f572215cd1a\" style=\"height: 1000px; width: 1000px;\" class=\"plotly-graph-div\"></div><script type=\"text/javascript\">require([\"plotly\"], function(Plotly) { window.PLOTLYENV=window.PLOTLYENV || {};window.PLOTLYENV.BASE_URL=\"https://plot.ly\";Plotly.newPlot(\"c056152f-6b37-4c6e-83cb-5f572215cd1a\", [{\"marker\": {\"color\": \"rgb(158,202,225)\", \"line\": {\"color\": \"rgb(8,48,107)\", \"width\": 1.5}}, \"opacity\": 0.6, \"orientation\": \"h\", \"text\": [0.1594, 0.0692, 0.0609, 0.0575, 0.0532, 0.0363, 0.034, 0.0312, 0.031, 0.0285, 0.0275, 0.0272, 0.0253, 0.0248, 0.0236, 0.0228, 0.0203, 0.0194, 0.0186, 0.0175, 0.0173, 0.016, 0.0145, 0.0145, 0.0145, 0.0144, 0.0144, 0.0117, 0.0112, 0.0109, 0.0108, 0.0099, 0.0099, 0.0092, 0.009, 0.0072, 0.0067, 0.0059, 0.0038], \"textposition\": \"outside\", \"x\": [0.15939358213091803, 0.06924645015658627, 0.060864543072442746, 0.05749589863462758, 0.053194704542592695, 0.03634725994028917, 0.03402963008700288, 0.031194844864662608, 0.031007219610508813, 0.028517351147267538, 0.027510101688487793, 0.02715352848264687, 0.025301729645983685, 0.02480340634938344, 0.02358471741640108, 0.022755536453064447, 0.020300387160461317, 0.01939894772144019, 0.018576598143045697, 0.01745029005649751, 0.017279934326338772, 0.015980644571979126, 0.014531580618638101, 0.014512732817382596, 0.014501241523901759, 0.014439041975370975, 0.014408081992103094, 0.011653473337338186, 0.011195393685135033, 0.010944264295526727, 0.010839601770851137, 0.009884882960284658, 0.009868251054799446, 0.00917135024642127, 0.009034707945452223, 0.0071820617557489756, 0.006664540369777231, 0.005949907354021117, 0.003831579070164318], \"y\": [\"title_count\", \"url_length\", \"url_extensions\", \"url_char_w\", \"http_header_content-encoding_gzip\", \"script_src_out_of_domain\", \"url_char_.\", \"meta_count\", \"a_count\", \"url_char_t\", \"a_href_out_of_domain\", \"link_href_out_of_domain\", \"push\", \"http_header_transfer-encoding_chunked\", \"url_char_l\", \"url_char_i\", \"http_header_cache-control_set_max-age\", \"p_count\", \"li_count\", \"http_header_server_apache\", \"url_char_z\", \"script_count\", \"url_extension_endswith_.com\", \"http_header_content-length\", \"url_char_d\", \"link_type_text/css\", \"img_src_http\", \"http_header_vary_user-agent\", \"http_header_via_1.1\", \"a_href_relative\", \"url_char_p\", \"url_char_f\", \"url_char_y\", \"center_count\", \"a_href_http\", \"a_href_https\", \"script_src_https\", \"iframe_src_.html\", \"input_count\"], \"type\": \"bar\", \"uid\": \"7980e486-78d7-450e-a925-9564fe37aad2\"}], {\"autosize\": false, \"height\": 1000, \"width\": 1000, \"xaxis\": {\"tickfont\": {\"color\": \"black\", \"size\": 12}, \"title\": \"Feature Importances\"}, \"yaxis\": {\"automargin\": true}}, {\"showLink\": true, \"linkText\": \"Export to plot.ly\", \"plotlyServerURL\": \"https://plot.ly\"})});</script>"
      ],
      "text/vnd.plotly.v1+html": [
       "<div id=\"c056152f-6b37-4c6e-83cb-5f572215cd1a\" style=\"height: 1000px; width: 1000px;\" class=\"plotly-graph-div\"></div><script type=\"text/javascript\">require([\"plotly\"], function(Plotly) { window.PLOTLYENV=window.PLOTLYENV || {};window.PLOTLYENV.BASE_URL=\"https://plot.ly\";Plotly.newPlot(\"c056152f-6b37-4c6e-83cb-5f572215cd1a\", [{\"marker\": {\"color\": \"rgb(158,202,225)\", \"line\": {\"color\": \"rgb(8,48,107)\", \"width\": 1.5}}, \"opacity\": 0.6, \"orientation\": \"h\", \"text\": [0.1594, 0.0692, 0.0609, 0.0575, 0.0532, 0.0363, 0.034, 0.0312, 0.031, 0.0285, 0.0275, 0.0272, 0.0253, 0.0248, 0.0236, 0.0228, 0.0203, 0.0194, 0.0186, 0.0175, 0.0173, 0.016, 0.0145, 0.0145, 0.0145, 0.0144, 0.0144, 0.0117, 0.0112, 0.0109, 0.0108, 0.0099, 0.0099, 0.0092, 0.009, 0.0072, 0.0067, 0.0059, 0.0038], \"textposition\": \"outside\", \"x\": [0.15939358213091803, 0.06924645015658627, 0.060864543072442746, 0.05749589863462758, 0.053194704542592695, 0.03634725994028917, 0.03402963008700288, 0.031194844864662608, 0.031007219610508813, 0.028517351147267538, 0.027510101688487793, 0.02715352848264687, 0.025301729645983685, 0.02480340634938344, 0.02358471741640108, 0.022755536453064447, 0.020300387160461317, 0.01939894772144019, 0.018576598143045697, 0.01745029005649751, 0.017279934326338772, 0.015980644571979126, 0.014531580618638101, 0.014512732817382596, 0.014501241523901759, 0.014439041975370975, 0.014408081992103094, 0.011653473337338186, 0.011195393685135033, 0.010944264295526727, 0.010839601770851137, 0.009884882960284658, 0.009868251054799446, 0.00917135024642127, 0.009034707945452223, 0.0071820617557489756, 0.006664540369777231, 0.005949907354021117, 0.003831579070164318], \"y\": [\"title_count\", \"url_length\", \"url_extensions\", \"url_char_w\", \"http_header_content-encoding_gzip\", \"script_src_out_of_domain\", \"url_char_.\", \"meta_count\", \"a_count\", \"url_char_t\", \"a_href_out_of_domain\", \"link_href_out_of_domain\", \"push\", \"http_header_transfer-encoding_chunked\", \"url_char_l\", \"url_char_i\", \"http_header_cache-control_set_max-age\", \"p_count\", \"li_count\", \"http_header_server_apache\", \"url_char_z\", \"script_count\", \"url_extension_endswith_.com\", \"http_header_content-length\", \"url_char_d\", \"link_type_text/css\", \"img_src_http\", \"http_header_vary_user-agent\", \"http_header_via_1.1\", \"a_href_relative\", \"url_char_p\", \"url_char_f\", \"url_char_y\", \"center_count\", \"a_href_http\", \"a_href_https\", \"script_src_https\", \"iframe_src_.html\", \"input_count\"], \"type\": \"bar\", \"uid\": \"7980e486-78d7-450e-a925-9564fe37aad2\"}], {\"autosize\": false, \"height\": 1000, \"width\": 1000, \"xaxis\": {\"tickfont\": {\"color\": \"black\", \"size\": 12}, \"title\": \"Feature Importances\"}, \"yaxis\": {\"automargin\": true}}, {\"showLink\": true, \"linkText\": \"Export to plot.ly\", \"plotlyServerURL\": \"https://plot.ly\"})});</script>"
      ]
     },
     "metadata": {},
     "output_type": "display_data"
    }
   ],
   "source": [
    "feat_impt_plot(np.average(feat_imp,axis=0),columns)"
   ]
  },
  {
   "cell_type": "code",
   "execution_count": 21,
   "metadata": {
    "scrolled": false
   },
   "outputs": [
    {
     "name": "stdout",
     "output_type": "stream",
     "text": [
      "Shape after undersampling (7082, 39)\n",
      "\u001b[1mK-Nearest Neighbors\u001b[0m\n",
      "Accuracy of the model for training data is: 0.9512849477548715\n",
      "Confusion Matrix for training data is:\n"
     ]
    },
    {
     "data": {
      "text/plain": [
       "Predicted  False  True  __all__\n",
       "Actual                         \n",
       "False       3383   158     3541\n",
       "True         187  3354     3541\n",
       "__all__     3570  3512     7082"
      ]
     },
     "metadata": {},
     "output_type": "display_data"
    },
    {
     "name": "stdout",
     "output_type": "stream",
     "text": [
      "Accuracy of the model for test data is: 0.9341584790098252\n",
      "Confusion Matrix for test data is:\n"
     ]
    },
    {
     "data": {
      "text/plain": [
       "Predicted  False  True  __all__\n",
       "Actual                         \n",
       "False       6492   445     6937\n",
       "True          71   829      900\n",
       "__all__     6563  1274     7837"
      ]
     },
     "metadata": {},
     "output_type": "display_data"
    },
    {
     "name": "stdout",
     "output_type": "stream",
     "text": [
      "\n",
      "\n",
      "\u001b[1mRandomForest Classifier\u001b[0m\n",
      "Accuracy of the model for training data is: 0.9963287207003672\n",
      "Confusion Matrix for training data is:\n"
     ]
    },
    {
     "data": {
      "text/plain": [
       "Predicted  False  True  __all__\n",
       "Actual                         \n",
       "False       3535     6     3541\n",
       "True          20  3521     3541\n",
       "__all__     3555  3527     7082"
      ]
     },
     "metadata": {},
     "output_type": "display_data"
    },
    {
     "name": "stdout",
     "output_type": "stream",
     "text": [
      "Accuracy of the model for test data is: 0.9577644506826591\n",
      "Confusion Matrix for test data is:\n"
     ]
    },
    {
     "data": {
      "text/plain": [
       "Predicted  False  True  __all__\n",
       "Actual                         \n",
       "False       6683   254     6937\n",
       "True          77   823      900\n",
       "__all__     6760  1077     7837"
      ]
     },
     "metadata": {},
     "output_type": "display_data"
    },
    {
     "data": {
      "application/vnd.plotly.v1+json": {
       "config": {
        "linkText": "Export to plot.ly",
        "plotlyServerURL": "https://plot.ly",
        "showLink": true
       },
       "data": [
        {
         "marker": {
          "color": "rgb(158,202,225)",
          "line": {
           "color": "rgb(8,48,107)",
           "width": 1.5
          }
         },
         "opacity": 0.6,
         "orientation": "h",
         "text": [
          0.1196,
          0.1024,
          0.069,
          0.0668,
          0.0666,
          0.066,
          0.0656,
          0.0604,
          0.0547,
          0.0472,
          0.0412,
          0.0299,
          0.016,
          0.0143,
          0.0116,
          0.0116,
          0.0102,
          0.0102,
          0.0096,
          0.0095,
          0.0086,
          0.0083,
          0.0083,
          0.0082,
          0.008,
          0.0073,
          0.0073,
          0.0073,
          0.0072,
          0.0072,
          0.0064,
          0.0062,
          0.006,
          0.0059,
          0.0055,
          0.0035,
          0.0028,
          0.0028,
          0.0008
         ],
         "textposition": "outside",
         "type": "bar",
         "uid": "c5e3907b-9424-4846-9749-5a884e10d799",
         "x": [
          0.11959557065112887,
          0.10238208827530908,
          0.0690310550632605,
          0.06682300019084363,
          0.06655506096991212,
          0.06600272369582458,
          0.0656240227984768,
          0.060416580414129485,
          0.05467030125476198,
          0.04720295370971447,
          0.04116862804186716,
          0.029892343258526834,
          0.01601771586532858,
          0.014258778159071997,
          0.01163883379594505,
          0.011607272949526173,
          0.010202110159872591,
          0.01017159118158491,
          0.00963690792874225,
          0.00948171493003722,
          0.00864196822232569,
          0.008308262905716401,
          0.008291609686031933,
          0.008165725757749646,
          0.008049413932638284,
          0.007331404569265901,
          0.007301513491257475,
          0.007301356436025102,
          0.007211073162120904,
          0.007173688396269387,
          0.006388790356976791,
          0.006158390401520456,
          0.005952549364862993,
          0.005929238420616639,
          0.005529528611741645,
          0.00347318544000228,
          0.0028279616812560155,
          0.002776163553342232,
          0.0008089223164159415
         ],
         "y": [
          "script_count",
          "script_src_out_of_domain",
          "a_href_relative",
          "meta_count",
          "a_count",
          "a_href_out_of_domain",
          "url_length",
          "link_href_out_of_domain",
          "li_count",
          "url_extensions",
          "url_char_.",
          "url_char_w",
          "a_href_https",
          "http_header_content-encoding_gzip",
          "url_char_i",
          "url_char_t",
          "http_header_content-length",
          "http_header_server_apache",
          "url_char_l",
          "push",
          "url_extension_endswith_.com",
          "url_char_z",
          "url_char_p",
          "p_count",
          "img_src_http",
          "url_char_y",
          "http_header_transfer-encoding_chunked",
          "script_src_https",
          "url_char_d",
          "http_header_cache-control_set_max-age",
          "a_href_http",
          "link_type_text/css",
          "input_count",
          "url_char_f",
          "title_count",
          "http_header_vary_user-agent",
          "center_count",
          "http_header_via_1.1",
          "iframe_src_.html"
         ]
        }
       ],
       "layout": {
        "autosize": false,
        "height": 1000,
        "width": 1000,
        "xaxis": {
         "tickfont": {
          "color": "black",
          "size": 12
         },
         "title": "Feature Importances"
        },
        "yaxis": {
         "automargin": true
        }
       }
      },
      "text/html": [
       "<div id=\"ad1462e2-832c-4404-bd14-b001c7d42d12\" style=\"height: 1000px; width: 1000px;\" class=\"plotly-graph-div\"></div><script type=\"text/javascript\">require([\"plotly\"], function(Plotly) { window.PLOTLYENV=window.PLOTLYENV || {};window.PLOTLYENV.BASE_URL=\"https://plot.ly\";Plotly.newPlot(\"ad1462e2-832c-4404-bd14-b001c7d42d12\", [{\"marker\": {\"color\": \"rgb(158,202,225)\", \"line\": {\"color\": \"rgb(8,48,107)\", \"width\": 1.5}}, \"opacity\": 0.6, \"orientation\": \"h\", \"text\": [0.1196, 0.1024, 0.069, 0.0668, 0.0666, 0.066, 0.0656, 0.0604, 0.0547, 0.0472, 0.0412, 0.0299, 0.016, 0.0143, 0.0116, 0.0116, 0.0102, 0.0102, 0.0096, 0.0095, 0.0086, 0.0083, 0.0083, 0.0082, 0.008, 0.0073, 0.0073, 0.0073, 0.0072, 0.0072, 0.0064, 0.0062, 0.006, 0.0059, 0.0055, 0.0035, 0.0028, 0.0028, 0.0008], \"textposition\": \"outside\", \"x\": [0.11959557065112887, 0.10238208827530908, 0.0690310550632605, 0.06682300019084363, 0.06655506096991212, 0.06600272369582458, 0.0656240227984768, 0.060416580414129485, 0.05467030125476198, 0.04720295370971447, 0.04116862804186716, 0.029892343258526834, 0.01601771586532858, 0.014258778159071997, 0.01163883379594505, 0.011607272949526173, 0.010202110159872591, 0.01017159118158491, 0.00963690792874225, 0.00948171493003722, 0.00864196822232569, 0.008308262905716401, 0.008291609686031933, 0.008165725757749646, 0.008049413932638284, 0.007331404569265901, 0.007301513491257475, 0.007301356436025102, 0.007211073162120904, 0.007173688396269387, 0.006388790356976791, 0.006158390401520456, 0.005952549364862993, 0.005929238420616639, 0.005529528611741645, 0.00347318544000228, 0.0028279616812560155, 0.002776163553342232, 0.0008089223164159415], \"y\": [\"script_count\", \"script_src_out_of_domain\", \"a_href_relative\", \"meta_count\", \"a_count\", \"a_href_out_of_domain\", \"url_length\", \"link_href_out_of_domain\", \"li_count\", \"url_extensions\", \"url_char_.\", \"url_char_w\", \"a_href_https\", \"http_header_content-encoding_gzip\", \"url_char_i\", \"url_char_t\", \"http_header_content-length\", \"http_header_server_apache\", \"url_char_l\", \"push\", \"url_extension_endswith_.com\", \"url_char_z\", \"url_char_p\", \"p_count\", \"img_src_http\", \"url_char_y\", \"http_header_transfer-encoding_chunked\", \"script_src_https\", \"url_char_d\", \"http_header_cache-control_set_max-age\", \"a_href_http\", \"link_type_text/css\", \"input_count\", \"url_char_f\", \"title_count\", \"http_header_vary_user-agent\", \"center_count\", \"http_header_via_1.1\", \"iframe_src_.html\"], \"type\": \"bar\", \"uid\": \"c5e3907b-9424-4846-9749-5a884e10d799\"}], {\"autosize\": false, \"height\": 1000, \"width\": 1000, \"xaxis\": {\"tickfont\": {\"color\": \"black\", \"size\": 12}, \"title\": \"Feature Importances\"}, \"yaxis\": {\"automargin\": true}}, {\"showLink\": true, \"linkText\": \"Export to plot.ly\", \"plotlyServerURL\": \"https://plot.ly\"})});</script>"
      ],
      "text/vnd.plotly.v1+html": [
       "<div id=\"ad1462e2-832c-4404-bd14-b001c7d42d12\" style=\"height: 1000px; width: 1000px;\" class=\"plotly-graph-div\"></div><script type=\"text/javascript\">require([\"plotly\"], function(Plotly) { window.PLOTLYENV=window.PLOTLYENV || {};window.PLOTLYENV.BASE_URL=\"https://plot.ly\";Plotly.newPlot(\"ad1462e2-832c-4404-bd14-b001c7d42d12\", [{\"marker\": {\"color\": \"rgb(158,202,225)\", \"line\": {\"color\": \"rgb(8,48,107)\", \"width\": 1.5}}, \"opacity\": 0.6, \"orientation\": \"h\", \"text\": [0.1196, 0.1024, 0.069, 0.0668, 0.0666, 0.066, 0.0656, 0.0604, 0.0547, 0.0472, 0.0412, 0.0299, 0.016, 0.0143, 0.0116, 0.0116, 0.0102, 0.0102, 0.0096, 0.0095, 0.0086, 0.0083, 0.0083, 0.0082, 0.008, 0.0073, 0.0073, 0.0073, 0.0072, 0.0072, 0.0064, 0.0062, 0.006, 0.0059, 0.0055, 0.0035, 0.0028, 0.0028, 0.0008], \"textposition\": \"outside\", \"x\": [0.11959557065112887, 0.10238208827530908, 0.0690310550632605, 0.06682300019084363, 0.06655506096991212, 0.06600272369582458, 0.0656240227984768, 0.060416580414129485, 0.05467030125476198, 0.04720295370971447, 0.04116862804186716, 0.029892343258526834, 0.01601771586532858, 0.014258778159071997, 0.01163883379594505, 0.011607272949526173, 0.010202110159872591, 0.01017159118158491, 0.00963690792874225, 0.00948171493003722, 0.00864196822232569, 0.008308262905716401, 0.008291609686031933, 0.008165725757749646, 0.008049413932638284, 0.007331404569265901, 0.007301513491257475, 0.007301356436025102, 0.007211073162120904, 0.007173688396269387, 0.006388790356976791, 0.006158390401520456, 0.005952549364862993, 0.005929238420616639, 0.005529528611741645, 0.00347318544000228, 0.0028279616812560155, 0.002776163553342232, 0.0008089223164159415], \"y\": [\"script_count\", \"script_src_out_of_domain\", \"a_href_relative\", \"meta_count\", \"a_count\", \"a_href_out_of_domain\", \"url_length\", \"link_href_out_of_domain\", \"li_count\", \"url_extensions\", \"url_char_.\", \"url_char_w\", \"a_href_https\", \"http_header_content-encoding_gzip\", \"url_char_i\", \"url_char_t\", \"http_header_content-length\", \"http_header_server_apache\", \"url_char_l\", \"push\", \"url_extension_endswith_.com\", \"url_char_z\", \"url_char_p\", \"p_count\", \"img_src_http\", \"url_char_y\", \"http_header_transfer-encoding_chunked\", \"script_src_https\", \"url_char_d\", \"http_header_cache-control_set_max-age\", \"a_href_http\", \"link_type_text/css\", \"input_count\", \"url_char_f\", \"title_count\", \"http_header_vary_user-agent\", \"center_count\", \"http_header_via_1.1\", \"iframe_src_.html\"], \"type\": \"bar\", \"uid\": \"c5e3907b-9424-4846-9749-5a884e10d799\"}], {\"autosize\": false, \"height\": 1000, \"width\": 1000, \"xaxis\": {\"tickfont\": {\"color\": \"black\", \"size\": 12}, \"title\": \"Feature Importances\"}, \"yaxis\": {\"automargin\": true}}, {\"showLink\": true, \"linkText\": \"Export to plot.ly\", \"plotlyServerURL\": \"https://plot.ly\"})});</script>"
      ]
     },
     "metadata": {},
     "output_type": "display_data"
    },
    {
     "name": "stdout",
     "output_type": "stream",
     "text": [
      "\n",
      "\n",
      "\u001b[1mAdaoost Classifier\u001b[0m\n",
      "Accuracy of the model for training data is: 0.9391414854560859\n",
      "Confusion Matrix for training data is:\n"
     ]
    },
    {
     "data": {
      "text/plain": [
       "Predicted  False  True  __all__\n",
       "Actual                         \n",
       "False       3288   253     3541\n",
       "True         178  3363     3541\n",
       "__all__     3466  3616     7082"
      ]
     },
     "metadata": {},
     "output_type": "display_data"
    },
    {
     "name": "stdout",
     "output_type": "stream",
     "text": [
      "Accuracy of the model for test data is: 0.9363276764067883\n",
      "Confusion Matrix for test data is:\n"
     ]
    },
    {
     "data": {
      "text/plain": [
       "Predicted  False  True  __all__\n",
       "Actual                         \n",
       "False       6490   447     6937\n",
       "True          52   848      900\n",
       "__all__     6542  1295     7837"
      ]
     },
     "metadata": {},
     "output_type": "display_data"
    },
    {
     "data": {
      "application/vnd.plotly.v1+json": {
       "config": {
        "linkText": "Export to plot.ly",
        "plotlyServerURL": "https://plot.ly",
        "showLink": true
       },
       "data": [
        {
         "marker": {
          "color": "rgb(158,202,225)",
          "line": {
           "color": "rgb(8,48,107)",
           "width": 1.5
          }
         },
         "opacity": 0.6,
         "orientation": "h",
         "text": [
          0.08,
          0.08,
          0.06,
          0.06,
          0.06,
          0.04,
          0.04,
          0.04,
          0.04,
          0.04,
          0.02,
          0.02,
          0.02,
          0.02,
          0.02,
          0.02,
          0.02,
          0.02,
          0.02,
          0.02,
          0.02,
          0.02,
          0.02,
          0.02,
          0.02,
          0.02,
          0.02,
          0.02,
          0.02,
          0.02,
          0.02,
          0.02,
          0.02,
          0,
          0,
          0,
          0,
          0,
          0
         ],
         "textposition": "outside",
         "type": "bar",
         "uid": "b7bcf48c-85f5-47f1-ae0b-7e6627fc574e",
         "x": [
          0.08,
          0.08,
          0.06,
          0.06,
          0.06,
          0.04,
          0.04,
          0.04,
          0.04,
          0.04,
          0.02,
          0.02,
          0.02,
          0.02,
          0.02,
          0.02,
          0.02,
          0.02,
          0.02,
          0.02,
          0.02,
          0.02,
          0.02,
          0.02,
          0.02,
          0.02,
          0.02,
          0.02,
          0.02,
          0.02,
          0.02,
          0.02,
          0.02,
          0,
          0,
          0,
          0,
          0,
          0
         ],
         "y": [
          "push",
          "url_extensions",
          "p_count",
          "url_char_w",
          "url_length",
          "http_header_content-length",
          "a_count",
          "li_count",
          "link_type_text/css",
          "script_src_out_of_domain",
          "a_href_relative",
          "url_char_f",
          "http_header_via_1.1",
          "url_char_.",
          "url_char_d",
          "url_char_i",
          "http_header_transfer-encoding_chunked",
          "url_char_p",
          "a_href_https",
          "url_char_y",
          "url_char_z",
          "a_href_http",
          "http_header_vary_user-agent",
          "http_header_server_apache",
          "center_count",
          "http_header_content-encoding_gzip",
          "script_count",
          "a_href_out_of_domain",
          "meta_count",
          "link_href_out_of_domain",
          "input_count",
          "iframe_src_.html",
          "http_header_cache-control_set_max-age",
          "title_count",
          "script_src_https",
          "url_char_l",
          "url_char_t",
          "img_src_http",
          "url_extension_endswith_.com"
         ]
        }
       ],
       "layout": {
        "autosize": false,
        "height": 1000,
        "width": 1000,
        "xaxis": {
         "tickfont": {
          "color": "black",
          "size": 12
         },
         "title": "Feature Importances"
        },
        "yaxis": {
         "automargin": true
        }
       }
      },
      "text/html": [
       "<div id=\"4882e335-2232-4067-9641-c392611fb1b8\" style=\"height: 1000px; width: 1000px;\" class=\"plotly-graph-div\"></div><script type=\"text/javascript\">require([\"plotly\"], function(Plotly) { window.PLOTLYENV=window.PLOTLYENV || {};window.PLOTLYENV.BASE_URL=\"https://plot.ly\";Plotly.newPlot(\"4882e335-2232-4067-9641-c392611fb1b8\", [{\"marker\": {\"color\": \"rgb(158,202,225)\", \"line\": {\"color\": \"rgb(8,48,107)\", \"width\": 1.5}}, \"opacity\": 0.6, \"orientation\": \"h\", \"text\": [0.08, 0.08, 0.06, 0.06, 0.06, 0.04, 0.04, 0.04, 0.04, 0.04, 0.02, 0.02, 0.02, 0.02, 0.02, 0.02, 0.02, 0.02, 0.02, 0.02, 0.02, 0.02, 0.02, 0.02, 0.02, 0.02, 0.02, 0.02, 0.02, 0.02, 0.02, 0.02, 0.02, 0.0, 0.0, 0.0, 0.0, 0.0, 0.0], \"textposition\": \"outside\", \"x\": [0.08, 0.08, 0.06, 0.06, 0.06, 0.04, 0.04, 0.04, 0.04, 0.04, 0.02, 0.02, 0.02, 0.02, 0.02, 0.02, 0.02, 0.02, 0.02, 0.02, 0.02, 0.02, 0.02, 0.02, 0.02, 0.02, 0.02, 0.02, 0.02, 0.02, 0.02, 0.02, 0.02, 0.0, 0.0, 0.0, 0.0, 0.0, 0.0], \"y\": [\"push\", \"url_extensions\", \"p_count\", \"url_char_w\", \"url_length\", \"http_header_content-length\", \"a_count\", \"li_count\", \"link_type_text/css\", \"script_src_out_of_domain\", \"a_href_relative\", \"url_char_f\", \"http_header_via_1.1\", \"url_char_.\", \"url_char_d\", \"url_char_i\", \"http_header_transfer-encoding_chunked\", \"url_char_p\", \"a_href_https\", \"url_char_y\", \"url_char_z\", \"a_href_http\", \"http_header_vary_user-agent\", \"http_header_server_apache\", \"center_count\", \"http_header_content-encoding_gzip\", \"script_count\", \"a_href_out_of_domain\", \"meta_count\", \"link_href_out_of_domain\", \"input_count\", \"iframe_src_.html\", \"http_header_cache-control_set_max-age\", \"title_count\", \"script_src_https\", \"url_char_l\", \"url_char_t\", \"img_src_http\", \"url_extension_endswith_.com\"], \"type\": \"bar\", \"uid\": \"b7bcf48c-85f5-47f1-ae0b-7e6627fc574e\"}], {\"autosize\": false, \"height\": 1000, \"width\": 1000, \"xaxis\": {\"tickfont\": {\"color\": \"black\", \"size\": 12}, \"title\": \"Feature Importances\"}, \"yaxis\": {\"automargin\": true}}, {\"showLink\": true, \"linkText\": \"Export to plot.ly\", \"plotlyServerURL\": \"https://plot.ly\"})});</script>"
      ],
      "text/vnd.plotly.v1+html": [
       "<div id=\"4882e335-2232-4067-9641-c392611fb1b8\" style=\"height: 1000px; width: 1000px;\" class=\"plotly-graph-div\"></div><script type=\"text/javascript\">require([\"plotly\"], function(Plotly) { window.PLOTLYENV=window.PLOTLYENV || {};window.PLOTLYENV.BASE_URL=\"https://plot.ly\";Plotly.newPlot(\"4882e335-2232-4067-9641-c392611fb1b8\", [{\"marker\": {\"color\": \"rgb(158,202,225)\", \"line\": {\"color\": \"rgb(8,48,107)\", \"width\": 1.5}}, \"opacity\": 0.6, \"orientation\": \"h\", \"text\": [0.08, 0.08, 0.06, 0.06, 0.06, 0.04, 0.04, 0.04, 0.04, 0.04, 0.02, 0.02, 0.02, 0.02, 0.02, 0.02, 0.02, 0.02, 0.02, 0.02, 0.02, 0.02, 0.02, 0.02, 0.02, 0.02, 0.02, 0.02, 0.02, 0.02, 0.02, 0.02, 0.02, 0.0, 0.0, 0.0, 0.0, 0.0, 0.0], \"textposition\": \"outside\", \"x\": [0.08, 0.08, 0.06, 0.06, 0.06, 0.04, 0.04, 0.04, 0.04, 0.04, 0.02, 0.02, 0.02, 0.02, 0.02, 0.02, 0.02, 0.02, 0.02, 0.02, 0.02, 0.02, 0.02, 0.02, 0.02, 0.02, 0.02, 0.02, 0.02, 0.02, 0.02, 0.02, 0.02, 0.0, 0.0, 0.0, 0.0, 0.0, 0.0], \"y\": [\"push\", \"url_extensions\", \"p_count\", \"url_char_w\", \"url_length\", \"http_header_content-length\", \"a_count\", \"li_count\", \"link_type_text/css\", \"script_src_out_of_domain\", \"a_href_relative\", \"url_char_f\", \"http_header_via_1.1\", \"url_char_.\", \"url_char_d\", \"url_char_i\", \"http_header_transfer-encoding_chunked\", \"url_char_p\", \"a_href_https\", \"url_char_y\", \"url_char_z\", \"a_href_http\", \"http_header_vary_user-agent\", \"http_header_server_apache\", \"center_count\", \"http_header_content-encoding_gzip\", \"script_count\", \"a_href_out_of_domain\", \"meta_count\", \"link_href_out_of_domain\", \"input_count\", \"iframe_src_.html\", \"http_header_cache-control_set_max-age\", \"title_count\", \"script_src_https\", \"url_char_l\", \"url_char_t\", \"img_src_http\", \"url_extension_endswith_.com\"], \"type\": \"bar\", \"uid\": \"b7bcf48c-85f5-47f1-ae0b-7e6627fc574e\"}], {\"autosize\": false, \"height\": 1000, \"width\": 1000, \"xaxis\": {\"tickfont\": {\"color\": \"black\", \"size\": 12}, \"title\": \"Feature Importances\"}, \"yaxis\": {\"automargin\": true}}, {\"showLink\": true, \"linkText\": \"Export to plot.ly\", \"plotlyServerURL\": \"https://plot.ly\"})});</script>"
      ]
     },
     "metadata": {},
     "output_type": "display_data"
    },
    {
     "name": "stdout",
     "output_type": "stream",
     "text": [
      "\n",
      "\n",
      "\u001b[1mGradientBoosting Classifier\u001b[0m\n",
      "Accuracy of the model for training data is: 0.9548150240045185\n",
      "Confusion Matrix for training data is:\n"
     ]
    },
    {
     "data": {
      "text/plain": [
       "Predicted  False  True  __all__\n",
       "Actual                         \n",
       "False       3389   152     3541\n",
       "True         168  3373     3541\n",
       "__all__     3557  3525     7082"
      ]
     },
     "metadata": {},
     "output_type": "display_data"
    },
    {
     "name": "stdout",
     "output_type": "stream",
     "text": [
      "Accuracy of the model for test data is: 0.9520224575730509\n",
      "Confusion Matrix for test data is:\n"
     ]
    },
    {
     "data": {
      "text/plain": [
       "Predicted  False  True  __all__\n",
       "Actual                         \n",
       "False       6618   319     6937\n",
       "True          57   843      900\n",
       "__all__     6675  1162     7837"
      ]
     },
     "metadata": {},
     "output_type": "display_data"
    },
    {
     "data": {
      "application/vnd.plotly.v1+json": {
       "config": {
        "linkText": "Export to plot.ly",
        "plotlyServerURL": "https://plot.ly",
        "showLink": true
       },
       "data": [
        {
         "marker": {
          "color": "rgb(158,202,225)",
          "line": {
           "color": "rgb(8,48,107)",
           "width": 1.5
          }
         },
         "opacity": 0.6,
         "orientation": "h",
         "text": [
          0.4224,
          0.103,
          0.0904,
          0.0889,
          0.0808,
          0.0473,
          0.0284,
          0.0277,
          0.0151,
          0.014,
          0.0128,
          0.0107,
          0.0095,
          0.0083,
          0.0081,
          0.0043,
          0.0042,
          0.0032,
          0.0031,
          0.0025,
          0.0024,
          0.0022,
          0.0018,
          0.0013,
          0.0011,
          0.001,
          0.0009,
          0.0007,
          0.0006,
          0.0006,
          0.0006,
          0.0005,
          0.0005,
          0.0003,
          0.0002,
          0.0002,
          0.0001,
          0.0001,
          0
         ],
         "textposition": "outside",
         "type": "bar",
         "uid": "bcb56dbf-0cc8-47ba-a968-e6fd77545d7e",
         "x": [
          0.42235078670048887,
          0.10300504813111747,
          0.09043107536202998,
          0.08887522890889987,
          0.08081371128421562,
          0.04733355487421803,
          0.028387455236229795,
          0.027727931737980556,
          0.01507081068774017,
          0.01401703636232109,
          0.012839091247175553,
          0.010748703884414278,
          0.009500957799115823,
          0.008329639042678482,
          0.008051839483438045,
          0.004291338561337558,
          0.004224669645153144,
          0.0031875627436837787,
          0.003091771619766523,
          0.002464353992221743,
          0.002391588264317991,
          0.0021952238690908328,
          0.0018314386776065907,
          0.001286730748788869,
          0.0011226607947524068,
          0.0009858067969295756,
          0.000920333000947062,
          0.0006910310641217098,
          0.0006270241258898454,
          0.0006189992518008264,
          0.0006145018592417313,
          0.0005274301130102298,
          0.0005003200065444071,
          0.0003133415381394651,
          0.00023314977591680548,
          0.0002126853233564733,
          9.867520951858316e-05,
          8.649227580017428e-05,
          0
         ],
         "y": [
          "a_count",
          "a_href_out_of_domain",
          "meta_count",
          "url_length",
          "url_char_w",
          "url_extensions",
          "http_header_server_apache",
          "title_count",
          "push",
          "url_char_z",
          "url_char_.",
          "link_href_out_of_domain",
          "a_href_https",
          "http_header_content-encoding_gzip",
          "a_href_relative",
          "p_count",
          "http_header_via_1.1",
          "link_type_text/css",
          "center_count",
          "http_header_content-length",
          "http_header_vary_user-agent",
          "http_header_cache-control_set_max-age",
          "url_extension_endswith_.com",
          "li_count",
          "script_count",
          "script_src_https",
          "http_header_transfer-encoding_chunked",
          "img_src_http",
          "url_char_p",
          "url_char_i",
          "url_char_f",
          "script_src_out_of_domain",
          "url_char_d",
          "url_char_l",
          "url_char_y",
          "input_count",
          "a_href_http",
          "url_char_t",
          "iframe_src_.html"
         ]
        }
       ],
       "layout": {
        "autosize": false,
        "height": 1000,
        "width": 1000,
        "xaxis": {
         "tickfont": {
          "color": "black",
          "size": 12
         },
         "title": "Feature Importances"
        },
        "yaxis": {
         "automargin": true
        }
       }
      },
      "text/html": [
       "<div id=\"60adb545-a42e-4fe5-82be-518cb45ae9f9\" style=\"height: 1000px; width: 1000px;\" class=\"plotly-graph-div\"></div><script type=\"text/javascript\">require([\"plotly\"], function(Plotly) { window.PLOTLYENV=window.PLOTLYENV || {};window.PLOTLYENV.BASE_URL=\"https://plot.ly\";Plotly.newPlot(\"60adb545-a42e-4fe5-82be-518cb45ae9f9\", [{\"marker\": {\"color\": \"rgb(158,202,225)\", \"line\": {\"color\": \"rgb(8,48,107)\", \"width\": 1.5}}, \"opacity\": 0.6, \"orientation\": \"h\", \"text\": [0.4224, 0.103, 0.0904, 0.0889, 0.0808, 0.0473, 0.0284, 0.0277, 0.0151, 0.014, 0.0128, 0.0107, 0.0095, 0.0083, 0.0081, 0.0043, 0.0042, 0.0032, 0.0031, 0.0025, 0.0024, 0.0022, 0.0018, 0.0013, 0.0011, 0.001, 0.0009, 0.0007, 0.0006, 0.0006, 0.0006, 0.0005, 0.0005, 0.0003, 0.0002, 0.0002, 0.0001, 0.0001, 0.0], \"textposition\": \"outside\", \"x\": [0.42235078670048887, 0.10300504813111747, 0.09043107536202998, 0.08887522890889987, 0.08081371128421562, 0.04733355487421803, 0.028387455236229795, 0.027727931737980556, 0.01507081068774017, 0.01401703636232109, 0.012839091247175553, 0.010748703884414278, 0.009500957799115823, 0.008329639042678482, 0.008051839483438045, 0.004291338561337558, 0.004224669645153144, 0.0031875627436837787, 0.003091771619766523, 0.002464353992221743, 0.002391588264317991, 0.0021952238690908328, 0.0018314386776065907, 0.001286730748788869, 0.0011226607947524068, 0.0009858067969295756, 0.000920333000947062, 0.0006910310641217098, 0.0006270241258898454, 0.0006189992518008264, 0.0006145018592417313, 0.0005274301130102298, 0.0005003200065444071, 0.0003133415381394651, 0.00023314977591680548, 0.0002126853233564733, 9.867520951858316e-05, 8.649227580017428e-05, 0.0], \"y\": [\"a_count\", \"a_href_out_of_domain\", \"meta_count\", \"url_length\", \"url_char_w\", \"url_extensions\", \"http_header_server_apache\", \"title_count\", \"push\", \"url_char_z\", \"url_char_.\", \"link_href_out_of_domain\", \"a_href_https\", \"http_header_content-encoding_gzip\", \"a_href_relative\", \"p_count\", \"http_header_via_1.1\", \"link_type_text/css\", \"center_count\", \"http_header_content-length\", \"http_header_vary_user-agent\", \"http_header_cache-control_set_max-age\", \"url_extension_endswith_.com\", \"li_count\", \"script_count\", \"script_src_https\", \"http_header_transfer-encoding_chunked\", \"img_src_http\", \"url_char_p\", \"url_char_i\", \"url_char_f\", \"script_src_out_of_domain\", \"url_char_d\", \"url_char_l\", \"url_char_y\", \"input_count\", \"a_href_http\", \"url_char_t\", \"iframe_src_.html\"], \"type\": \"bar\", \"uid\": \"bcb56dbf-0cc8-47ba-a968-e6fd77545d7e\"}], {\"autosize\": false, \"height\": 1000, \"width\": 1000, \"xaxis\": {\"tickfont\": {\"color\": \"black\", \"size\": 12}, \"title\": \"Feature Importances\"}, \"yaxis\": {\"automargin\": true}}, {\"showLink\": true, \"linkText\": \"Export to plot.ly\", \"plotlyServerURL\": \"https://plot.ly\"})});</script>"
      ],
      "text/vnd.plotly.v1+html": [
       "<div id=\"60adb545-a42e-4fe5-82be-518cb45ae9f9\" style=\"height: 1000px; width: 1000px;\" class=\"plotly-graph-div\"></div><script type=\"text/javascript\">require([\"plotly\"], function(Plotly) { window.PLOTLYENV=window.PLOTLYENV || {};window.PLOTLYENV.BASE_URL=\"https://plot.ly\";Plotly.newPlot(\"60adb545-a42e-4fe5-82be-518cb45ae9f9\", [{\"marker\": {\"color\": \"rgb(158,202,225)\", \"line\": {\"color\": \"rgb(8,48,107)\", \"width\": 1.5}}, \"opacity\": 0.6, \"orientation\": \"h\", \"text\": [0.4224, 0.103, 0.0904, 0.0889, 0.0808, 0.0473, 0.0284, 0.0277, 0.0151, 0.014, 0.0128, 0.0107, 0.0095, 0.0083, 0.0081, 0.0043, 0.0042, 0.0032, 0.0031, 0.0025, 0.0024, 0.0022, 0.0018, 0.0013, 0.0011, 0.001, 0.0009, 0.0007, 0.0006, 0.0006, 0.0006, 0.0005, 0.0005, 0.0003, 0.0002, 0.0002, 0.0001, 0.0001, 0.0], \"textposition\": \"outside\", \"x\": [0.42235078670048887, 0.10300504813111747, 0.09043107536202998, 0.08887522890889987, 0.08081371128421562, 0.04733355487421803, 0.028387455236229795, 0.027727931737980556, 0.01507081068774017, 0.01401703636232109, 0.012839091247175553, 0.010748703884414278, 0.009500957799115823, 0.008329639042678482, 0.008051839483438045, 0.004291338561337558, 0.004224669645153144, 0.0031875627436837787, 0.003091771619766523, 0.002464353992221743, 0.002391588264317991, 0.0021952238690908328, 0.0018314386776065907, 0.001286730748788869, 0.0011226607947524068, 0.0009858067969295756, 0.000920333000947062, 0.0006910310641217098, 0.0006270241258898454, 0.0006189992518008264, 0.0006145018592417313, 0.0005274301130102298, 0.0005003200065444071, 0.0003133415381394651, 0.00023314977591680548, 0.0002126853233564733, 9.867520951858316e-05, 8.649227580017428e-05, 0.0], \"y\": [\"a_count\", \"a_href_out_of_domain\", \"meta_count\", \"url_length\", \"url_char_w\", \"url_extensions\", \"http_header_server_apache\", \"title_count\", \"push\", \"url_char_z\", \"url_char_.\", \"link_href_out_of_domain\", \"a_href_https\", \"http_header_content-encoding_gzip\", \"a_href_relative\", \"p_count\", \"http_header_via_1.1\", \"link_type_text/css\", \"center_count\", \"http_header_content-length\", \"http_header_vary_user-agent\", \"http_header_cache-control_set_max-age\", \"url_extension_endswith_.com\", \"li_count\", \"script_count\", \"script_src_https\", \"http_header_transfer-encoding_chunked\", \"img_src_http\", \"url_char_p\", \"url_char_i\", \"url_char_f\", \"script_src_out_of_domain\", \"url_char_d\", \"url_char_l\", \"url_char_y\", \"input_count\", \"a_href_http\", \"url_char_t\", \"iframe_src_.html\"], \"type\": \"bar\", \"uid\": \"bcb56dbf-0cc8-47ba-a968-e6fd77545d7e\"}], {\"autosize\": false, \"height\": 1000, \"width\": 1000, \"xaxis\": {\"tickfont\": {\"color\": \"black\", \"size\": 12}, \"title\": \"Feature Importances\"}, \"yaxis\": {\"automargin\": true}}, {\"showLink\": true, \"linkText\": \"Export to plot.ly\", \"plotlyServerURL\": \"https://plot.ly\"})});</script>"
      ]
     },
     "metadata": {},
     "output_type": "display_data"
    },
    {
     "name": "stdout",
     "output_type": "stream",
     "text": [
      "\n",
      "\n",
      "\u001b[1mExtraTree Classifier\u001b[0m\n",
      "Accuracy of the model for training data is: 0.9997175939000282\n",
      "Confusion Matrix for training data is:\n"
     ]
    },
    {
     "data": {
      "text/plain": [
       "Predicted  False  True  __all__\n",
       "Actual                         \n",
       "False       3541     0     3541\n",
       "True           2  3539     3541\n",
       "__all__     3543  3539     7082"
      ]
     },
     "metadata": {},
     "output_type": "display_data"
    },
    {
     "name": "stdout",
     "output_type": "stream",
     "text": [
      "Accuracy of the model for test data is: 0.9603164476202628\n",
      "Confusion Matrix for test data is:\n"
     ]
    },
    {
     "data": {
      "text/plain": [
       "Predicted  False  True  __all__\n",
       "Actual                         \n",
       "False       6693   244     6937\n",
       "True          67   833      900\n",
       "__all__     6760  1077     7837"
      ]
     },
     "metadata": {},
     "output_type": "display_data"
    },
    {
     "data": {
      "application/vnd.plotly.v1+json": {
       "config": {
        "linkText": "Export to plot.ly",
        "plotlyServerURL": "https://plot.ly",
        "showLink": true
       },
       "data": [
        {
         "marker": {
          "color": "rgb(158,202,225)",
          "line": {
           "color": "rgb(8,48,107)",
           "width": 1.5
          }
         },
         "opacity": 0.6,
         "orientation": "h",
         "text": [
          0.1406,
          0.0928,
          0.0753,
          0.0748,
          0.072,
          0.057,
          0.0388,
          0.0352,
          0.032,
          0.0274,
          0.0265,
          0.0207,
          0.0196,
          0.0189,
          0.0187,
          0.0181,
          0.0177,
          0.0159,
          0.0149,
          0.0127,
          0.0126,
          0.0122,
          0.0115,
          0.0114,
          0.0113,
          0.0112,
          0.0112,
          0.0099,
          0.0088,
          0.0083,
          0.0082,
          0.008,
          0.0078,
          0.0075,
          0.0073,
          0.0072,
          0.0061,
          0.0059,
          0.0042
         ],
         "textposition": "outside",
         "type": "bar",
         "uid": "9d9218b0-7ba2-4050-b3dd-f0f48af29df1",
         "x": [
          0.1406457232463204,
          0.09278190912231608,
          0.07528429240259742,
          0.07484628533168376,
          0.071987049656817,
          0.05700727253382323,
          0.03877724350241366,
          0.03518156381332258,
          0.03196366752007236,
          0.027402480284952593,
          0.026457009649330357,
          0.02074195986533453,
          0.019574185648082297,
          0.01887133699533272,
          0.01871305339560614,
          0.01811223941478932,
          0.017673068758506588,
          0.01592974387465875,
          0.014860397260468105,
          0.012749125785033188,
          0.012622204502181841,
          0.012220487927969398,
          0.011478799713965,
          0.011392276717814431,
          0.011316586310145578,
          0.011202097547214771,
          0.01115130557696603,
          0.00987693382817142,
          0.008800395979120279,
          0.00828208841362666,
          0.0081547330911353,
          0.007986917219074251,
          0.007819094862062724,
          0.007477449797839091,
          0.007273615548711329,
          0.007182278676065134,
          0.0061248457639237345,
          0.0059045721119621855,
          0.004173708350589902
         ],
         "y": [
          "http_header_content-encoding_gzip",
          "http_header_transfer-encoding_chunked",
          "link_href_out_of_domain",
          "url_extensions",
          "url_length",
          "url_char_w",
          "url_char_.",
          "http_header_cache-control_set_max-age",
          "script_src_out_of_domain",
          "http_header_content-length",
          "script_count",
          "meta_count",
          "url_char_z",
          "url_extension_endswith_.com",
          "link_type_text/css",
          "url_char_y",
          "a_href_https",
          "url_char_i",
          "url_char_l",
          "a_href_out_of_domain",
          "script_src_https",
          "a_href_relative",
          "url_char_p",
          "url_char_d",
          "url_char_f",
          "http_header_server_apache",
          "url_char_t",
          "http_header_via_1.1",
          "center_count",
          "title_count",
          "a_href_http",
          "img_src_http",
          "http_header_vary_user-agent",
          "p_count",
          "li_count",
          "a_count",
          "input_count",
          "push",
          "iframe_src_.html"
         ]
        }
       ],
       "layout": {
        "autosize": false,
        "height": 1000,
        "width": 1000,
        "xaxis": {
         "tickfont": {
          "color": "black",
          "size": 12
         },
         "title": "Feature Importances"
        },
        "yaxis": {
         "automargin": true
        }
       }
      },
      "text/html": [
       "<div id=\"4fffaf4c-0a63-4cb2-85f3-7f6773d099f7\" style=\"height: 1000px; width: 1000px;\" class=\"plotly-graph-div\"></div><script type=\"text/javascript\">require([\"plotly\"], function(Plotly) { window.PLOTLYENV=window.PLOTLYENV || {};window.PLOTLYENV.BASE_URL=\"https://plot.ly\";Plotly.newPlot(\"4fffaf4c-0a63-4cb2-85f3-7f6773d099f7\", [{\"marker\": {\"color\": \"rgb(158,202,225)\", \"line\": {\"color\": \"rgb(8,48,107)\", \"width\": 1.5}}, \"opacity\": 0.6, \"orientation\": \"h\", \"text\": [0.1406, 0.0928, 0.0753, 0.0748, 0.072, 0.057, 0.0388, 0.0352, 0.032, 0.0274, 0.0265, 0.0207, 0.0196, 0.0189, 0.0187, 0.0181, 0.0177, 0.0159, 0.0149, 0.0127, 0.0126, 0.0122, 0.0115, 0.0114, 0.0113, 0.0112, 0.0112, 0.0099, 0.0088, 0.0083, 0.0082, 0.008, 0.0078, 0.0075, 0.0073, 0.0072, 0.0061, 0.0059, 0.0042], \"textposition\": \"outside\", \"x\": [0.1406457232463204, 0.09278190912231608, 0.07528429240259742, 0.07484628533168376, 0.071987049656817, 0.05700727253382323, 0.03877724350241366, 0.03518156381332258, 0.03196366752007236, 0.027402480284952593, 0.026457009649330357, 0.02074195986533453, 0.019574185648082297, 0.01887133699533272, 0.01871305339560614, 0.01811223941478932, 0.017673068758506588, 0.01592974387465875, 0.014860397260468105, 0.012749125785033188, 0.012622204502181841, 0.012220487927969398, 0.011478799713965, 0.011392276717814431, 0.011316586310145578, 0.011202097547214771, 0.01115130557696603, 0.00987693382817142, 0.008800395979120279, 0.00828208841362666, 0.0081547330911353, 0.007986917219074251, 0.007819094862062724, 0.007477449797839091, 0.007273615548711329, 0.007182278676065134, 0.0061248457639237345, 0.0059045721119621855, 0.004173708350589902], \"y\": [\"http_header_content-encoding_gzip\", \"http_header_transfer-encoding_chunked\", \"link_href_out_of_domain\", \"url_extensions\", \"url_length\", \"url_char_w\", \"url_char_.\", \"http_header_cache-control_set_max-age\", \"script_src_out_of_domain\", \"http_header_content-length\", \"script_count\", \"meta_count\", \"url_char_z\", \"url_extension_endswith_.com\", \"link_type_text/css\", \"url_char_y\", \"a_href_https\", \"url_char_i\", \"url_char_l\", \"a_href_out_of_domain\", \"script_src_https\", \"a_href_relative\", \"url_char_p\", \"url_char_d\", \"url_char_f\", \"http_header_server_apache\", \"url_char_t\", \"http_header_via_1.1\", \"center_count\", \"title_count\", \"a_href_http\", \"img_src_http\", \"http_header_vary_user-agent\", \"p_count\", \"li_count\", \"a_count\", \"input_count\", \"push\", \"iframe_src_.html\"], \"type\": \"bar\", \"uid\": \"9d9218b0-7ba2-4050-b3dd-f0f48af29df1\"}], {\"autosize\": false, \"height\": 1000, \"width\": 1000, \"xaxis\": {\"tickfont\": {\"color\": \"black\", \"size\": 12}, \"title\": \"Feature Importances\"}, \"yaxis\": {\"automargin\": true}}, {\"showLink\": true, \"linkText\": \"Export to plot.ly\", \"plotlyServerURL\": \"https://plot.ly\"})});</script>"
      ],
      "text/vnd.plotly.v1+html": [
       "<div id=\"4fffaf4c-0a63-4cb2-85f3-7f6773d099f7\" style=\"height: 1000px; width: 1000px;\" class=\"plotly-graph-div\"></div><script type=\"text/javascript\">require([\"plotly\"], function(Plotly) { window.PLOTLYENV=window.PLOTLYENV || {};window.PLOTLYENV.BASE_URL=\"https://plot.ly\";Plotly.newPlot(\"4fffaf4c-0a63-4cb2-85f3-7f6773d099f7\", [{\"marker\": {\"color\": \"rgb(158,202,225)\", \"line\": {\"color\": \"rgb(8,48,107)\", \"width\": 1.5}}, \"opacity\": 0.6, \"orientation\": \"h\", \"text\": [0.1406, 0.0928, 0.0753, 0.0748, 0.072, 0.057, 0.0388, 0.0352, 0.032, 0.0274, 0.0265, 0.0207, 0.0196, 0.0189, 0.0187, 0.0181, 0.0177, 0.0159, 0.0149, 0.0127, 0.0126, 0.0122, 0.0115, 0.0114, 0.0113, 0.0112, 0.0112, 0.0099, 0.0088, 0.0083, 0.0082, 0.008, 0.0078, 0.0075, 0.0073, 0.0072, 0.0061, 0.0059, 0.0042], \"textposition\": \"outside\", \"x\": [0.1406457232463204, 0.09278190912231608, 0.07528429240259742, 0.07484628533168376, 0.071987049656817, 0.05700727253382323, 0.03877724350241366, 0.03518156381332258, 0.03196366752007236, 0.027402480284952593, 0.026457009649330357, 0.02074195986533453, 0.019574185648082297, 0.01887133699533272, 0.01871305339560614, 0.01811223941478932, 0.017673068758506588, 0.01592974387465875, 0.014860397260468105, 0.012749125785033188, 0.012622204502181841, 0.012220487927969398, 0.011478799713965, 0.011392276717814431, 0.011316586310145578, 0.011202097547214771, 0.01115130557696603, 0.00987693382817142, 0.008800395979120279, 0.00828208841362666, 0.0081547330911353, 0.007986917219074251, 0.007819094862062724, 0.007477449797839091, 0.007273615548711329, 0.007182278676065134, 0.0061248457639237345, 0.0059045721119621855, 0.004173708350589902], \"y\": [\"http_header_content-encoding_gzip\", \"http_header_transfer-encoding_chunked\", \"link_href_out_of_domain\", \"url_extensions\", \"url_length\", \"url_char_w\", \"url_char_.\", \"http_header_cache-control_set_max-age\", \"script_src_out_of_domain\", \"http_header_content-length\", \"script_count\", \"meta_count\", \"url_char_z\", \"url_extension_endswith_.com\", \"link_type_text/css\", \"url_char_y\", \"a_href_https\", \"url_char_i\", \"url_char_l\", \"a_href_out_of_domain\", \"script_src_https\", \"a_href_relative\", \"url_char_p\", \"url_char_d\", \"url_char_f\", \"http_header_server_apache\", \"url_char_t\", \"http_header_via_1.1\", \"center_count\", \"title_count\", \"a_href_http\", \"img_src_http\", \"http_header_vary_user-agent\", \"p_count\", \"li_count\", \"a_count\", \"input_count\", \"push\", \"iframe_src_.html\"], \"type\": \"bar\", \"uid\": \"9d9218b0-7ba2-4050-b3dd-f0f48af29df1\"}], {\"autosize\": false, \"height\": 1000, \"width\": 1000, \"xaxis\": {\"tickfont\": {\"color\": \"black\", \"size\": 12}, \"title\": \"Feature Importances\"}, \"yaxis\": {\"automargin\": true}}, {\"showLink\": true, \"linkText\": \"Export to plot.ly\", \"plotlyServerURL\": \"https://plot.ly\"})});</script>"
      ]
     },
     "metadata": {},
     "output_type": "display_data"
    },
    {
     "name": "stdout",
     "output_type": "stream",
     "text": [
      "\n",
      "\n",
      "\u001b[1mXGB Classifier\u001b[0m\n",
      "Accuracy of the model for training data is: 0.9521321660547868\n",
      "Confusion Matrix for training data is:\n"
     ]
    },
    {
     "data": {
      "text/plain": [
       "Predicted  False  True  __all__\n",
       "Actual                         \n",
       "False       3382   159     3541\n",
       "True         180  3361     3541\n",
       "__all__     3562  3520     7082"
      ]
     },
     "metadata": {},
     "output_type": "display_data"
    },
    {
     "name": "stdout",
     "output_type": "stream",
     "text": [
      "Accuracy of the model for test data is: 0.9517672578792905\n",
      "Confusion Matrix for test data is:\n"
     ]
    },
    {
     "data": {
      "text/plain": [
       "Predicted  False  True  __all__\n",
       "Actual                         \n",
       "False       6618   319     6937\n",
       "True          59   841      900\n",
       "__all__     6677  1160     7837"
      ]
     },
     "metadata": {},
     "output_type": "display_data"
    },
    {
     "data": {
      "application/vnd.plotly.v1+json": {
       "config": {
        "linkText": "Export to plot.ly",
        "plotlyServerURL": "https://plot.ly",
        "showLink": true
       },
       "data": [
        {
         "marker": {
          "color": "rgb(158,202,225)",
          "line": {
           "color": "rgb(8,48,107)",
           "width": 1.5
          }
         },
         "opacity": 0.6,
         "orientation": "h",
         "text": [
          0.0945,
          0.093,
          0.0732,
          0.0549,
          0.0518,
          0.0442,
          0.0412,
          0.0396,
          0.0366,
          0.0305,
          0.0274,
          0.0274,
          0.0259,
          0.0244,
          0.0229,
          0.0213,
          0.0198,
          0.0183,
          0.0183,
          0.0183,
          0.0183,
          0.0183,
          0.0183,
          0.0183,
          0.0168,
          0.0137,
          0.0137,
          0.0137,
          0.0122,
          0.0122,
          0.0107,
          0.0107,
          0.0107,
          0.0091,
          0.0076,
          0.0061,
          0.003,
          0.003,
          0
         ],
         "textposition": "outside",
         "type": "bar",
         "uid": "b62ef6e2-fdca-4781-b1f7-2bd621a55477",
         "x": [
          0.09451219439506531,
          0.09298780560493469,
          0.0731707289814949,
          0.05487804859876633,
          0.0518292672932148,
          0.044207315891981125,
          0.041158538311719894,
          0.03963414579629898,
          0.03658536449074745,
          0.030487805604934692,
          0.027439024299383163,
          0.027439024299383163,
          0.0259146336466074,
          0.024390242993831635,
          0.02286585420370102,
          0.021341463550925255,
          0.01981707289814949,
          0.018292682245373726,
          0.018292682245373726,
          0.018292682245373726,
          0.018292682245373726,
          0.018292682245373726,
          0.018292682245373726,
          0.018292682245373726,
          0.01676829345524311,
          0.013719512149691582,
          0.013719512149691582,
          0.013719512149691582,
          0.012195121496915817,
          0.012195121496915817,
          0.010670731775462627,
          0.010670731775462627,
          0.010670731775462627,
          0.009146341122686863,
          0.007621951401233673,
          0.006097560748457909,
          0.0030487803742289543,
          0.0030487803742289543,
          0
         ],
         "y": [
          "url_length",
          "url_char_w",
          "url_char_.",
          "p_count",
          "url_extensions",
          "li_count",
          "link_type_text/css",
          "http_header_server_apache",
          "a_href_out_of_domain",
          "http_header_content-length",
          "http_header_via_1.1",
          "http_header_content-encoding_gzip",
          "a_href_https",
          "center_count",
          "push",
          "img_src_http",
          "a_count",
          "http_header_cache-control_set_max-age",
          "url_char_p",
          "link_href_out_of_domain",
          "input_count",
          "http_header_transfer-encoding_chunked",
          "url_char_z",
          "a_href_relative",
          "url_extension_endswith_.com",
          "script_src_out_of_domain",
          "a_href_http",
          "url_char_i",
          "http_header_vary_user-agent",
          "url_char_f",
          "url_char_d",
          "meta_count",
          "title_count",
          "iframe_src_.html",
          "script_count",
          "script_src_https",
          "url_char_l",
          "url_char_y",
          "url_char_t"
         ]
        }
       ],
       "layout": {
        "autosize": false,
        "height": 1000,
        "width": 1000,
        "xaxis": {
         "tickfont": {
          "color": "black",
          "size": 12
         },
         "title": "Feature Importances"
        },
        "yaxis": {
         "automargin": true
        }
       }
      },
      "text/html": [
       "<div id=\"d4614758-a2ae-4f77-965e-e9a4145144df\" style=\"height: 1000px; width: 1000px;\" class=\"plotly-graph-div\"></div><script type=\"text/javascript\">require([\"plotly\"], function(Plotly) { window.PLOTLYENV=window.PLOTLYENV || {};window.PLOTLYENV.BASE_URL=\"https://plot.ly\";Plotly.newPlot(\"d4614758-a2ae-4f77-965e-e9a4145144df\", [{\"marker\": {\"color\": \"rgb(158,202,225)\", \"line\": {\"color\": \"rgb(8,48,107)\", \"width\": 1.5}}, \"opacity\": 0.6, \"orientation\": \"h\", \"text\": [0.0945, 0.093, 0.0732, 0.0549, 0.0518, 0.0442, 0.0412, 0.0396, 0.0366, 0.0305, 0.0274, 0.0274, 0.0259, 0.0244, 0.0229, 0.0213, 0.0198, 0.0183, 0.0183, 0.0183, 0.0183, 0.0183, 0.0183, 0.0183, 0.0168, 0.0137, 0.0137, 0.0137, 0.0122, 0.0122, 0.0107, 0.0107, 0.0107, 0.0091, 0.0076, 0.0061, 0.003, 0.003, 0.0], \"textposition\": \"outside\", \"x\": [0.09451219439506531, 0.09298780560493469, 0.0731707289814949, 0.05487804859876633, 0.0518292672932148, 0.044207315891981125, 0.041158538311719894, 0.03963414579629898, 0.03658536449074745, 0.030487805604934692, 0.027439024299383163, 0.027439024299383163, 0.0259146336466074, 0.024390242993831635, 0.02286585420370102, 0.021341463550925255, 0.01981707289814949, 0.018292682245373726, 0.018292682245373726, 0.018292682245373726, 0.018292682245373726, 0.018292682245373726, 0.018292682245373726, 0.018292682245373726, 0.01676829345524311, 0.013719512149691582, 0.013719512149691582, 0.013719512149691582, 0.012195121496915817, 0.012195121496915817, 0.010670731775462627, 0.010670731775462627, 0.010670731775462627, 0.009146341122686863, 0.007621951401233673, 0.006097560748457909, 0.0030487803742289543, 0.0030487803742289543, 0.0], \"y\": [\"url_length\", \"url_char_w\", \"url_char_.\", \"p_count\", \"url_extensions\", \"li_count\", \"link_type_text/css\", \"http_header_server_apache\", \"a_href_out_of_domain\", \"http_header_content-length\", \"http_header_via_1.1\", \"http_header_content-encoding_gzip\", \"a_href_https\", \"center_count\", \"push\", \"img_src_http\", \"a_count\", \"http_header_cache-control_set_max-age\", \"url_char_p\", \"link_href_out_of_domain\", \"input_count\", \"http_header_transfer-encoding_chunked\", \"url_char_z\", \"a_href_relative\", \"url_extension_endswith_.com\", \"script_src_out_of_domain\", \"a_href_http\", \"url_char_i\", \"http_header_vary_user-agent\", \"url_char_f\", \"url_char_d\", \"meta_count\", \"title_count\", \"iframe_src_.html\", \"script_count\", \"script_src_https\", \"url_char_l\", \"url_char_y\", \"url_char_t\"], \"type\": \"bar\", \"uid\": \"b62ef6e2-fdca-4781-b1f7-2bd621a55477\"}], {\"autosize\": false, \"height\": 1000, \"width\": 1000, \"xaxis\": {\"tickfont\": {\"color\": \"black\", \"size\": 12}, \"title\": \"Feature Importances\"}, \"yaxis\": {\"automargin\": true}}, {\"showLink\": true, \"linkText\": \"Export to plot.ly\", \"plotlyServerURL\": \"https://plot.ly\"})});</script>"
      ],
      "text/vnd.plotly.v1+html": [
       "<div id=\"d4614758-a2ae-4f77-965e-e9a4145144df\" style=\"height: 1000px; width: 1000px;\" class=\"plotly-graph-div\"></div><script type=\"text/javascript\">require([\"plotly\"], function(Plotly) { window.PLOTLYENV=window.PLOTLYENV || {};window.PLOTLYENV.BASE_URL=\"https://plot.ly\";Plotly.newPlot(\"d4614758-a2ae-4f77-965e-e9a4145144df\", [{\"marker\": {\"color\": \"rgb(158,202,225)\", \"line\": {\"color\": \"rgb(8,48,107)\", \"width\": 1.5}}, \"opacity\": 0.6, \"orientation\": \"h\", \"text\": [0.0945, 0.093, 0.0732, 0.0549, 0.0518, 0.0442, 0.0412, 0.0396, 0.0366, 0.0305, 0.0274, 0.0274, 0.0259, 0.0244, 0.0229, 0.0213, 0.0198, 0.0183, 0.0183, 0.0183, 0.0183, 0.0183, 0.0183, 0.0183, 0.0168, 0.0137, 0.0137, 0.0137, 0.0122, 0.0122, 0.0107, 0.0107, 0.0107, 0.0091, 0.0076, 0.0061, 0.003, 0.003, 0.0], \"textposition\": \"outside\", \"x\": [0.09451219439506531, 0.09298780560493469, 0.0731707289814949, 0.05487804859876633, 0.0518292672932148, 0.044207315891981125, 0.041158538311719894, 0.03963414579629898, 0.03658536449074745, 0.030487805604934692, 0.027439024299383163, 0.027439024299383163, 0.0259146336466074, 0.024390242993831635, 0.02286585420370102, 0.021341463550925255, 0.01981707289814949, 0.018292682245373726, 0.018292682245373726, 0.018292682245373726, 0.018292682245373726, 0.018292682245373726, 0.018292682245373726, 0.018292682245373726, 0.01676829345524311, 0.013719512149691582, 0.013719512149691582, 0.013719512149691582, 0.012195121496915817, 0.012195121496915817, 0.010670731775462627, 0.010670731775462627, 0.010670731775462627, 0.009146341122686863, 0.007621951401233673, 0.006097560748457909, 0.0030487803742289543, 0.0030487803742289543, 0.0], \"y\": [\"url_length\", \"url_char_w\", \"url_char_.\", \"p_count\", \"url_extensions\", \"li_count\", \"link_type_text/css\", \"http_header_server_apache\", \"a_href_out_of_domain\", \"http_header_content-length\", \"http_header_via_1.1\", \"http_header_content-encoding_gzip\", \"a_href_https\", \"center_count\", \"push\", \"img_src_http\", \"a_count\", \"http_header_cache-control_set_max-age\", \"url_char_p\", \"link_href_out_of_domain\", \"input_count\", \"http_header_transfer-encoding_chunked\", \"url_char_z\", \"a_href_relative\", \"url_extension_endswith_.com\", \"script_src_out_of_domain\", \"a_href_http\", \"url_char_i\", \"http_header_vary_user-agent\", \"url_char_f\", \"url_char_d\", \"meta_count\", \"title_count\", \"iframe_src_.html\", \"script_count\", \"script_src_https\", \"url_char_l\", \"url_char_y\", \"url_char_t\"], \"type\": \"bar\", \"uid\": \"b62ef6e2-fdca-4781-b1f7-2bd621a55477\"}], {\"autosize\": false, \"height\": 1000, \"width\": 1000, \"xaxis\": {\"tickfont\": {\"color\": \"black\", \"size\": 12}, \"title\": \"Feature Importances\"}, \"yaxis\": {\"automargin\": true}}, {\"showLink\": true, \"linkText\": \"Export to plot.ly\", \"plotlyServerURL\": \"https://plot.ly\"})});</script>"
      ]
     },
     "metadata": {},
     "output_type": "display_data"
    },
    {
     "name": "stdout",
     "output_type": "stream",
     "text": [
      "\n",
      "\n",
      "\u001b[1mBagging Classifier\u001b[0m\n",
      "Accuracy of the model for training data is: 0.9947754871505224\n",
      "Confusion Matrix for training data is:\n"
     ]
    },
    {
     "data": {
      "text/plain": [
       "Predicted  False  True  __all__\n",
       "Actual                         \n",
       "False       3530    11     3541\n",
       "True          26  3515     3541\n",
       "__all__     3556  3526     7082"
      ]
     },
     "metadata": {},
     "output_type": "display_data"
    },
    {
     "name": "stdout",
     "output_type": "stream",
     "text": [
      "Accuracy of the model for test data is: 0.9571264514482583\n",
      "Confusion Matrix for test data is:\n"
     ]
    },
    {
     "data": {
      "text/plain": [
       "Predicted  False  True  __all__\n",
       "Actual                         \n",
       "False       6677   260     6937\n",
       "True          76   824      900\n",
       "__all__     6753  1084     7837"
      ]
     },
     "metadata": {},
     "output_type": "display_data"
    },
    {
     "name": "stdout",
     "output_type": "stream",
     "text": [
      "\n",
      "\n",
      "\u001b[1mNeural Network-1\u001b[0m\n",
      "The accuracy of the model on training data is: 0.9933634566506636\n"
     ]
    },
    {
     "data": {
      "text/plain": [
       "Predicted  False  True  __all__\n",
       "Actual                         \n",
       "False       3529    12     3541\n",
       "True          35  3506     3541\n",
       "__all__     3564  3518     7082"
      ]
     },
     "metadata": {},
     "output_type": "display_data"
    },
    {
     "name": "stdout",
     "output_type": "stream",
     "text": [
      "The accuracy of the model on test data is: 0.9481944621666454\n"
     ]
    },
    {
     "data": {
      "text/plain": [
       "Predicted  False  True  __all__\n",
       "Actual                         \n",
       "False       6587   350     6937\n",
       "True          56   844      900\n",
       "__all__     6643  1194     7837"
      ]
     },
     "metadata": {},
     "output_type": "display_data"
    },
    {
     "name": "stdout",
     "output_type": "stream",
     "text": [
      "\n",
      "\n"
     ]
    }
   ],
   "source": [
    "df_non=train[train.Target==0]\n",
    "df_mal=train[train.Target==1]\n",
    "\n",
    "df_non=df_non.sample(frac=len(df_mal)/len(df_non),random_state=0)\n",
    "df_u=df_non.append(df_mal)\n",
    "df_u.Target.value_counts() \n",
    "\n",
    "X_train=df_u[columns]\n",
    "X_train=scaler.transform(X_train)\n",
    "Y_train=df_u.Target.values\n",
    "\n",
    "print(\"Shape after undersampling\",X_train.shape)\n",
    "\n",
    "## Table to store training and test measures so we can compare later\n",
    "table_80_50_train=pd.DataFrame(columns=['accuracy','TP','TN','FP','FN','FPR','FNR'])\n",
    "table_80_50_test=pd.DataFrame(columns=['accuracy','TP','TN','FP','FN','FPR','FNR','auc','MCC','Precision','Recall'])\n",
    "\n",
    "feat_imp=[None]*5\n",
    "j=0\n",
    "for i in range(0,8):\n",
    "    if i>=1 and i<=5:\n",
    "        model,cm_train,cm_test,acc_train,acc_test,roc_auc,feat_imp[j],mcc,prec,rec=f[i](X_train,Y_train,scaled_X_test,test_Y,columns)\n",
    "        j=j+1\n",
    "    else:\n",
    "        model,cm_train,cm_test,acc_train,acc_test,roc_auc,mcc,prec,rec=f[i](X_train,Y_train,scaled_X_test,test_Y)\n",
    "    table_80_50_train.loc[i]=   ([acc_train,cm_train.TP,cm_train.TN,cm_train.FP,cm_train.FN,cm_train.FPR,cm_train.FNR])\n",
    "    table_80_50_test.loc[i] =   ([acc_test ,cm_test.TP, cm_test.TN, cm_test.FP, cm_test.FN, cm_test.FPR, cm_test.FNR,roc_auc,mcc,prec,rec])\n",
    "    print(\"\\n\")"
   ]
  },
  {
   "cell_type": "markdown",
   "metadata": {},
   "source": [
    "### <a id='3.A' style=\"text-decoration : none; color : #000000;\"> A. Results</a>"
   ]
  },
  {
   "cell_type": "code",
   "execution_count": 22,
   "metadata": {},
   "outputs": [
    {
     "data": {
      "application/vnd.plotly.v1+json": {
       "config": {
        "linkText": "Export to plot.ly",
        "plotlyServerURL": "https://plot.ly",
        "showLink": true
       },
       "data": [
        {
         "mode": "lines",
         "name": "KNN_model",
         "type": "scatter",
         "uid": "cf53d44d-c69a-4726-ac1c-9d5bc5b20e2d",
         "x": [
          "accuracy",
          "auc",
          "MCC",
          "Precision",
          "Recall"
         ],
         "y": [
          0.9341584790098252,
          0.928481171816187,
          0.740513404818384,
          0.6507064364207221,
          0.9211111111111111
         ]
        },
        {
         "mode": "lines+markers",
         "name": "XGB",
         "type": "scatter",
         "uid": "55069b62-e9a5-4391-b097-4396a576f7c2",
         "x": [
          "accuracy",
          "auc",
          "MCC",
          "Precision",
          "Recall"
         ],
         "y": [
          0.9517672578792905,
          0.9442295741034389,
          0.7976729828478752,
          0.725,
          0.9344444444444444
         ]
        },
        {
         "marker": {
          "symbol": "x"
         },
         "mode": "lines+markers",
         "name": "Random Forest",
         "type": "scatter",
         "uid": "b5a603ab-9ae6-4633-92c3-12e7f1a4ee15",
         "x": [
          "accuracy",
          "auc",
          "MCC",
          "Precision",
          "Recall"
         ],
         "y": [
          0.9577644506826591,
          0.9389145964473915,
          0.8128977507844141,
          0.7641597028783659,
          0.9144444444444444
         ]
        },
        {
         "mode": "lines",
         "name": "Ada Boost",
         "type": "scatter",
         "uid": "4ef2a526-33f9-4c75-90bc-a26b351dc1a3",
         "x": [
          "accuracy",
          "auc",
          "MCC",
          "Precision",
          "Recall"
         ],
         "y": [
          0.9363276764067883,
          0.9388925728380824,
          0.7535380293995411,
          0.6548262548262548,
          0.9422222222222222
         ]
        },
        {
         "mode": "lines+markers",
         "name": "GradientBoosting",
         "type": "scatter",
         "uid": "169315a7-ad23-4689-b1e9-96ad6ee9e52a",
         "x": [
          "accuracy",
          "auc",
          "MCC",
          "Precision",
          "Recall"
         ],
         "y": [
          0.9520224575730509,
          0.94534068521455,
          0.7990993393057529,
          0.725473321858864,
          0.9366666666666666
         ]
        },
        {
         "marker": {
          "symbol": "x"
         },
         "mode": "lines+markers",
         "name": "ExtraTree Classifier",
         "type": "scatter",
         "uid": "6226ad75-b2bb-47c4-b248-e18c4a0e64b2",
         "x": [
          "accuracy",
          "auc",
          "MCC",
          "Precision",
          "Recall"
         ],
         "y": [
          0.9603164476202628,
          0.9451909246712475,
          0.8245219098751652,
          0.7734447539461468,
          0.9255555555555556
         ]
        },
        {
         "marker": {
          "symbol": "x"
         },
         "mode": "lines+markers",
         "name": "Bagging",
         "type": "scatter",
         "uid": "156020c9-2ca1-4075-a233-e60b7648c02e",
         "x": [
          "accuracy",
          "auc",
          "MCC",
          "Precision",
          "Recall"
         ],
         "y": [
          0.9571264514482583,
          0.939037688401967,
          0.8109160285223106,
          0.7601476014760148,
          0.9155555555555556
         ]
        },
        {
         "marker": {
          "symbol": "x"
         },
         "mode": "lines+markers",
         "name": "Neural Network",
         "type": "scatter",
         "uid": "8ea9a3d3-e417-467e-b9dd-e2812b678469",
         "x": [
          "accuracy",
          "auc",
          "MCC",
          "Precision",
          "Recall"
         ],
         "y": [
          0.9481944621666454,
          0.939037688401967,
          0.7872358974458529,
          0.7068676716917923,
          0.9377777777777778
         ]
        }
       ],
       "layout": {
        "title": "Result comparision for Features selected in Section 1",
        "yaxis": {
         "dtick": 0.05,
         "tick0": 0
        }
       }
      },
      "text/html": [
       "<div id=\"9dee8c8e-44bf-4404-a29d-4f0b7f0a31c9\" style=\"height: 525px; width: 100%;\" class=\"plotly-graph-div\"></div><script type=\"text/javascript\">require([\"plotly\"], function(Plotly) { window.PLOTLYENV=window.PLOTLYENV || {};window.PLOTLYENV.BASE_URL=\"https://plot.ly\";Plotly.newPlot(\"9dee8c8e-44bf-4404-a29d-4f0b7f0a31c9\", [{\"mode\": \"lines\", \"name\": \"KNN_model\", \"x\": [\"accuracy\", \"auc\", \"MCC\", \"Precision\", \"Recall\"], \"y\": [0.9341584790098252, 0.928481171816187, 0.740513404818384, 0.6507064364207221, 0.9211111111111111], \"type\": \"scatter\", \"uid\": \"cf53d44d-c69a-4726-ac1c-9d5bc5b20e2d\"}, {\"mode\": \"lines+markers\", \"name\": \"XGB\", \"x\": [\"accuracy\", \"auc\", \"MCC\", \"Precision\", \"Recall\"], \"y\": [0.9517672578792905, 0.9442295741034389, 0.7976729828478752, 0.725, 0.9344444444444444], \"type\": \"scatter\", \"uid\": \"55069b62-e9a5-4391-b097-4396a576f7c2\"}, {\"marker\": {\"symbol\": \"x\"}, \"mode\": \"lines+markers\", \"name\": \"Random Forest\", \"x\": [\"accuracy\", \"auc\", \"MCC\", \"Precision\", \"Recall\"], \"y\": [0.9577644506826591, 0.9389145964473915, 0.8128977507844141, 0.7641597028783659, 0.9144444444444444], \"type\": \"scatter\", \"uid\": \"b5a603ab-9ae6-4633-92c3-12e7f1a4ee15\"}, {\"mode\": \"lines\", \"name\": \"Ada Boost\", \"x\": [\"accuracy\", \"auc\", \"MCC\", \"Precision\", \"Recall\"], \"y\": [0.9363276764067883, 0.9388925728380824, 0.7535380293995411, 0.6548262548262548, 0.9422222222222222], \"type\": \"scatter\", \"uid\": \"4ef2a526-33f9-4c75-90bc-a26b351dc1a3\"}, {\"mode\": \"lines+markers\", \"name\": \"GradientBoosting\", \"x\": [\"accuracy\", \"auc\", \"MCC\", \"Precision\", \"Recall\"], \"y\": [0.9520224575730509, 0.94534068521455, 0.7990993393057529, 0.725473321858864, 0.9366666666666666], \"type\": \"scatter\", \"uid\": \"169315a7-ad23-4689-b1e9-96ad6ee9e52a\"}, {\"marker\": {\"symbol\": \"x\"}, \"mode\": \"lines+markers\", \"name\": \"ExtraTree Classifier\", \"x\": [\"accuracy\", \"auc\", \"MCC\", \"Precision\", \"Recall\"], \"y\": [0.9603164476202628, 0.9451909246712475, 0.8245219098751652, 0.7734447539461468, 0.9255555555555556], \"type\": \"scatter\", \"uid\": \"6226ad75-b2bb-47c4-b248-e18c4a0e64b2\"}, {\"marker\": {\"symbol\": \"x\"}, \"mode\": \"lines+markers\", \"name\": \"Bagging\", \"x\": [\"accuracy\", \"auc\", \"MCC\", \"Precision\", \"Recall\"], \"y\": [0.9571264514482583, 0.939037688401967, 0.8109160285223106, 0.7601476014760148, 0.9155555555555556], \"type\": \"scatter\", \"uid\": \"156020c9-2ca1-4075-a233-e60b7648c02e\"}, {\"marker\": {\"symbol\": \"x\"}, \"mode\": \"lines+markers\", \"name\": \"Neural Network\", \"x\": [\"accuracy\", \"auc\", \"MCC\", \"Precision\", \"Recall\"], \"y\": [0.9481944621666454, 0.939037688401967, 0.7872358974458529, 0.7068676716917923, 0.9377777777777778], \"type\": \"scatter\", \"uid\": \"8ea9a3d3-e417-467e-b9dd-e2812b678469\"}], {\"title\": \"Result comparision for Features selected in Section 1\", \"yaxis\": {\"dtick\": 0.05, \"tick0\": 0}}, {\"showLink\": true, \"linkText\": \"Export to plot.ly\", \"plotlyServerURL\": \"https://plot.ly\"})});</script><script type=\"text/javascript\">window.addEventListener(\"resize\", function(){window._Plotly.Plots.resize(document.getElementById(\"9dee8c8e-44bf-4404-a29d-4f0b7f0a31c9\"));});</script>"
      ],
      "text/vnd.plotly.v1+html": [
       "<div id=\"9dee8c8e-44bf-4404-a29d-4f0b7f0a31c9\" style=\"height: 525px; width: 100%;\" class=\"plotly-graph-div\"></div><script type=\"text/javascript\">require([\"plotly\"], function(Plotly) { window.PLOTLYENV=window.PLOTLYENV || {};window.PLOTLYENV.BASE_URL=\"https://plot.ly\";Plotly.newPlot(\"9dee8c8e-44bf-4404-a29d-4f0b7f0a31c9\", [{\"mode\": \"lines\", \"name\": \"KNN_model\", \"x\": [\"accuracy\", \"auc\", \"MCC\", \"Precision\", \"Recall\"], \"y\": [0.9341584790098252, 0.928481171816187, 0.740513404818384, 0.6507064364207221, 0.9211111111111111], \"type\": \"scatter\", \"uid\": \"cf53d44d-c69a-4726-ac1c-9d5bc5b20e2d\"}, {\"mode\": \"lines+markers\", \"name\": \"XGB\", \"x\": [\"accuracy\", \"auc\", \"MCC\", \"Precision\", \"Recall\"], \"y\": [0.9517672578792905, 0.9442295741034389, 0.7976729828478752, 0.725, 0.9344444444444444], \"type\": \"scatter\", \"uid\": \"55069b62-e9a5-4391-b097-4396a576f7c2\"}, {\"marker\": {\"symbol\": \"x\"}, \"mode\": \"lines+markers\", \"name\": \"Random Forest\", \"x\": [\"accuracy\", \"auc\", \"MCC\", \"Precision\", \"Recall\"], \"y\": [0.9577644506826591, 0.9389145964473915, 0.8128977507844141, 0.7641597028783659, 0.9144444444444444], \"type\": \"scatter\", \"uid\": \"b5a603ab-9ae6-4633-92c3-12e7f1a4ee15\"}, {\"mode\": \"lines\", \"name\": \"Ada Boost\", \"x\": [\"accuracy\", \"auc\", \"MCC\", \"Precision\", \"Recall\"], \"y\": [0.9363276764067883, 0.9388925728380824, 0.7535380293995411, 0.6548262548262548, 0.9422222222222222], \"type\": \"scatter\", \"uid\": \"4ef2a526-33f9-4c75-90bc-a26b351dc1a3\"}, {\"mode\": \"lines+markers\", \"name\": \"GradientBoosting\", \"x\": [\"accuracy\", \"auc\", \"MCC\", \"Precision\", \"Recall\"], \"y\": [0.9520224575730509, 0.94534068521455, 0.7990993393057529, 0.725473321858864, 0.9366666666666666], \"type\": \"scatter\", \"uid\": \"169315a7-ad23-4689-b1e9-96ad6ee9e52a\"}, {\"marker\": {\"symbol\": \"x\"}, \"mode\": \"lines+markers\", \"name\": \"ExtraTree Classifier\", \"x\": [\"accuracy\", \"auc\", \"MCC\", \"Precision\", \"Recall\"], \"y\": [0.9603164476202628, 0.9451909246712475, 0.8245219098751652, 0.7734447539461468, 0.9255555555555556], \"type\": \"scatter\", \"uid\": \"6226ad75-b2bb-47c4-b248-e18c4a0e64b2\"}, {\"marker\": {\"symbol\": \"x\"}, \"mode\": \"lines+markers\", \"name\": \"Bagging\", \"x\": [\"accuracy\", \"auc\", \"MCC\", \"Precision\", \"Recall\"], \"y\": [0.9571264514482583, 0.939037688401967, 0.8109160285223106, 0.7601476014760148, 0.9155555555555556], \"type\": \"scatter\", \"uid\": \"156020c9-2ca1-4075-a233-e60b7648c02e\"}, {\"marker\": {\"symbol\": \"x\"}, \"mode\": \"lines+markers\", \"name\": \"Neural Network\", \"x\": [\"accuracy\", \"auc\", \"MCC\", \"Precision\", \"Recall\"], \"y\": [0.9481944621666454, 0.939037688401967, 0.7872358974458529, 0.7068676716917923, 0.9377777777777778], \"type\": \"scatter\", \"uid\": \"8ea9a3d3-e417-467e-b9dd-e2812b678469\"}], {\"title\": \"Result comparision for Features selected in Section 1\", \"yaxis\": {\"dtick\": 0.05, \"tick0\": 0}}, {\"showLink\": true, \"linkText\": \"Export to plot.ly\", \"plotlyServerURL\": \"https://plot.ly\"})});</script><script type=\"text/javascript\">window.addEventListener(\"resize\", function(){window._Plotly.Plots.resize(document.getElementById(\"9dee8c8e-44bf-4404-a29d-4f0b7f0a31c9\"));});</script>"
      ]
     },
     "metadata": {},
     "output_type": "display_data"
    }
   ],
   "source": [
    "trace0 = go.Scatter(x=table_80_50_test.iloc[0].index.values[[0,7,8,9,10]],\n",
    "                    y=table_80_50_test.iloc[0].values[[0,7,8,9,10]],\n",
    "                    mode = 'lines',\n",
    "                    name = 'KNN_model')\n",
    "\n",
    "\n",
    "trace2 = go.Scatter(x=table_80_50_test.iloc[1].index.values[[0,7,8,9,10]],\n",
    "                    y=table_80_50_test.iloc[1].values[[0,7,8,9,10]],\n",
    "                    mode = 'lines+markers',marker=dict(symbol='x'),\n",
    "                    name = 'Random Forest')\n",
    "\n",
    "\n",
    "trace3 = go.Scatter(x=table_80_50_test.iloc[2].index.values[[0,7,8,9,10]],\n",
    "                    y=table_80_50_test.iloc[2].values[[0,7,8,9,10]],\n",
    "                    mode = 'lines',\n",
    "                    name = 'Ada Boost')\n",
    "\n",
    "trace4 = go.Scatter(x=table_80_50_test.iloc[3].index.values[[0,7,8,9,10]],\n",
    "                    y=table_80_50_test.iloc[3].values[[0,7,8,9,10]],\n",
    "                    mode = 'lines+markers',\n",
    "                    name = 'GradientBoosting')\n",
    "\n",
    "trace5 = go.Scatter(x=table_80_50_test.iloc[4].index.values[[0,7,8,9,10]],\n",
    "                    y=table_80_50_test.iloc[4].values[[0,7,8,9,10]],\n",
    "                    mode = 'lines+markers',marker=dict(symbol='x'),\n",
    "                    name = 'ExtraTree Classifier')\n",
    "\n",
    "\n",
    "trace1 = go.Scatter(x=table_80_50_test.iloc[5].index.values[[0,7,8,9,10]],\n",
    "                    y=table_80_50_test.iloc[5].values[[0,7,8,9,10]],\n",
    "                    mode = 'lines+markers',\n",
    "                    name = 'XGB')\n",
    "\n",
    "\n",
    "trace6 = go.Scatter(x=table_80_50_test.iloc[6].index.values[[0,7,8,9,10]],\n",
    "                    y=table_80_50_test.iloc[6].values[[0,7,8,9,10]],\n",
    "                    mode = 'lines+markers',marker=dict(symbol='x'),\n",
    "                    name = 'Bagging')\n",
    "\n",
    "trace7 = go.Scatter(x=table_80_50_test.iloc[7].index.values[[0,7,8,9,10]],\n",
    "                    y=table_80_50_test.iloc[7].values[[0,7,8,9,10]],\n",
    "                    mode = 'lines+markers',marker=dict(symbol='x'),\n",
    "                    name = 'Neural Network')\n",
    "\n",
    "\n",
    "\n",
    "data = [trace0, trace1, trace2, trace3, trace4, trace5, trace6, trace7]\n",
    "layout = go.Layout(yaxis=dict(tick0=0,dtick=0.05),title='Result comparision for Features selected in Section 1')\n",
    "fig = go.Figure(data=data, layout=layout)\n",
    "\n",
    "iplot(fig, filename='Result')"
   ]
  },
  {
   "cell_type": "code",
   "execution_count": 23,
   "metadata": {},
   "outputs": [
    {
     "name": "stdout",
     "output_type": "stream",
     "text": [
      "Training Results\n"
     ]
    },
    {
     "data": {
      "text/html": [
       "<div>\n",
       "<style scoped>\n",
       "    .dataframe tbody tr th:only-of-type {\n",
       "        vertical-align: middle;\n",
       "    }\n",
       "\n",
       "    .dataframe tbody tr th {\n",
       "        vertical-align: top;\n",
       "    }\n",
       "\n",
       "    .dataframe thead th {\n",
       "        text-align: right;\n",
       "    }\n",
       "</style>\n",
       "<table border=\"1\" class=\"dataframe\">\n",
       "  <thead>\n",
       "    <tr style=\"text-align: right;\">\n",
       "      <th></th>\n",
       "      <th>accuracy</th>\n",
       "      <th>TP</th>\n",
       "      <th>TN</th>\n",
       "      <th>FP</th>\n",
       "      <th>FN</th>\n",
       "      <th>FPR</th>\n",
       "      <th>FNR</th>\n",
       "    </tr>\n",
       "    <tr>\n",
       "      <th>index</th>\n",
       "      <th></th>\n",
       "      <th></th>\n",
       "      <th></th>\n",
       "      <th></th>\n",
       "      <th></th>\n",
       "      <th></th>\n",
       "      <th></th>\n",
       "    </tr>\n",
       "  </thead>\n",
       "  <tbody>\n",
       "    <tr>\n",
       "      <th>KNeighborsClassifier</th>\n",
       "      <td>0.951285</td>\n",
       "      <td>3354.0</td>\n",
       "      <td>3383.0</td>\n",
       "      <td>158.0</td>\n",
       "      <td>187.0</td>\n",
       "      <td>0.044620</td>\n",
       "      <td>0.052810</td>\n",
       "    </tr>\n",
       "    <tr>\n",
       "      <th>RandomForestClassifier</th>\n",
       "      <td>0.996329</td>\n",
       "      <td>3521.0</td>\n",
       "      <td>3535.0</td>\n",
       "      <td>6.0</td>\n",
       "      <td>20.0</td>\n",
       "      <td>0.001694</td>\n",
       "      <td>0.005648</td>\n",
       "    </tr>\n",
       "    <tr>\n",
       "      <th>AdaBoostClassifier</th>\n",
       "      <td>0.939141</td>\n",
       "      <td>3363.0</td>\n",
       "      <td>3288.0</td>\n",
       "      <td>253.0</td>\n",
       "      <td>178.0</td>\n",
       "      <td>0.071449</td>\n",
       "      <td>0.050268</td>\n",
       "    </tr>\n",
       "    <tr>\n",
       "      <th>GradientBoostingClassifier</th>\n",
       "      <td>0.954815</td>\n",
       "      <td>3373.0</td>\n",
       "      <td>3389.0</td>\n",
       "      <td>152.0</td>\n",
       "      <td>168.0</td>\n",
       "      <td>0.042926</td>\n",
       "      <td>0.047444</td>\n",
       "    </tr>\n",
       "    <tr>\n",
       "      <th>ExtraTreeClassifier</th>\n",
       "      <td>0.999718</td>\n",
       "      <td>3539.0</td>\n",
       "      <td>3541.0</td>\n",
       "      <td>0.0</td>\n",
       "      <td>2.0</td>\n",
       "      <td>0.000000</td>\n",
       "      <td>0.000565</td>\n",
       "    </tr>\n",
       "    <tr>\n",
       "      <th>XGB</th>\n",
       "      <td>0.952132</td>\n",
       "      <td>3361.0</td>\n",
       "      <td>3382.0</td>\n",
       "      <td>159.0</td>\n",
       "      <td>180.0</td>\n",
       "      <td>0.044903</td>\n",
       "      <td>0.050833</td>\n",
       "    </tr>\n",
       "    <tr>\n",
       "      <th>BaggingClassifier</th>\n",
       "      <td>0.994775</td>\n",
       "      <td>3515.0</td>\n",
       "      <td>3530.0</td>\n",
       "      <td>11.0</td>\n",
       "      <td>26.0</td>\n",
       "      <td>0.003106</td>\n",
       "      <td>0.007343</td>\n",
       "    </tr>\n",
       "    <tr>\n",
       "      <th>Neural Network-1</th>\n",
       "      <td>0.993363</td>\n",
       "      <td>3506.0</td>\n",
       "      <td>3529.0</td>\n",
       "      <td>12.0</td>\n",
       "      <td>35.0</td>\n",
       "      <td>0.003389</td>\n",
       "      <td>0.009884</td>\n",
       "    </tr>\n",
       "  </tbody>\n",
       "</table>\n",
       "</div>"
      ],
      "text/plain": [
       "                            accuracy      TP      TN     FP     FN       FPR  \\\n",
       "index                                                                          \n",
       "KNeighborsClassifier        0.951285  3354.0  3383.0  158.0  187.0  0.044620   \n",
       "RandomForestClassifier      0.996329  3521.0  3535.0    6.0   20.0  0.001694   \n",
       "AdaBoostClassifier          0.939141  3363.0  3288.0  253.0  178.0  0.071449   \n",
       "GradientBoostingClassifier  0.954815  3373.0  3389.0  152.0  168.0  0.042926   \n",
       "ExtraTreeClassifier         0.999718  3539.0  3541.0    0.0    2.0  0.000000   \n",
       "XGB                         0.952132  3361.0  3382.0  159.0  180.0  0.044903   \n",
       "BaggingClassifier           0.994775  3515.0  3530.0   11.0   26.0  0.003106   \n",
       "Neural Network-1            0.993363  3506.0  3529.0   12.0   35.0  0.003389   \n",
       "\n",
       "                                 FNR  \n",
       "index                                 \n",
       "KNeighborsClassifier        0.052810  \n",
       "RandomForestClassifier      0.005648  \n",
       "AdaBoostClassifier          0.050268  \n",
       "GradientBoostingClassifier  0.047444  \n",
       "ExtraTreeClassifier         0.000565  \n",
       "XGB                         0.050833  \n",
       "BaggingClassifier           0.007343  \n",
       "Neural Network-1            0.009884  "
      ]
     },
     "metadata": {},
     "output_type": "display_data"
    },
    {
     "name": "stdout",
     "output_type": "stream",
     "text": [
      "Test Results\n"
     ]
    },
    {
     "data": {
      "text/html": [
       "<div>\n",
       "<style scoped>\n",
       "    .dataframe tbody tr th:only-of-type {\n",
       "        vertical-align: middle;\n",
       "    }\n",
       "\n",
       "    .dataframe tbody tr th {\n",
       "        vertical-align: top;\n",
       "    }\n",
       "\n",
       "    .dataframe thead th {\n",
       "        text-align: right;\n",
       "    }\n",
       "</style>\n",
       "<table border=\"1\" class=\"dataframe\">\n",
       "  <thead>\n",
       "    <tr style=\"text-align: right;\">\n",
       "      <th></th>\n",
       "      <th>accuracy</th>\n",
       "      <th>TP</th>\n",
       "      <th>TN</th>\n",
       "      <th>FP</th>\n",
       "      <th>FN</th>\n",
       "      <th>FPR</th>\n",
       "      <th>FNR</th>\n",
       "      <th>auc</th>\n",
       "      <th>MCC</th>\n",
       "      <th>Precision</th>\n",
       "      <th>Recall</th>\n",
       "    </tr>\n",
       "    <tr>\n",
       "      <th>index</th>\n",
       "      <th></th>\n",
       "      <th></th>\n",
       "      <th></th>\n",
       "      <th></th>\n",
       "      <th></th>\n",
       "      <th></th>\n",
       "      <th></th>\n",
       "      <th></th>\n",
       "      <th></th>\n",
       "      <th></th>\n",
       "      <th></th>\n",
       "    </tr>\n",
       "  </thead>\n",
       "  <tbody>\n",
       "    <tr>\n",
       "      <th>KNeighborsClassifier</th>\n",
       "      <td>0.934158</td>\n",
       "      <td>829.0</td>\n",
       "      <td>6492.0</td>\n",
       "      <td>445.0</td>\n",
       "      <td>71.0</td>\n",
       "      <td>0.064149</td>\n",
       "      <td>0.078889</td>\n",
       "      <td>0.928481</td>\n",
       "      <td>0.740513</td>\n",
       "      <td>0.650706</td>\n",
       "      <td>0.921111</td>\n",
       "    </tr>\n",
       "    <tr>\n",
       "      <th>RandomForestClassifier</th>\n",
       "      <td>0.957764</td>\n",
       "      <td>823.0</td>\n",
       "      <td>6683.0</td>\n",
       "      <td>254.0</td>\n",
       "      <td>77.0</td>\n",
       "      <td>0.036615</td>\n",
       "      <td>0.085556</td>\n",
       "      <td>0.938915</td>\n",
       "      <td>0.812898</td>\n",
       "      <td>0.764160</td>\n",
       "      <td>0.914444</td>\n",
       "    </tr>\n",
       "    <tr>\n",
       "      <th>AdaBoostClassifier</th>\n",
       "      <td>0.936328</td>\n",
       "      <td>848.0</td>\n",
       "      <td>6490.0</td>\n",
       "      <td>447.0</td>\n",
       "      <td>52.0</td>\n",
       "      <td>0.064437</td>\n",
       "      <td>0.057778</td>\n",
       "      <td>0.938893</td>\n",
       "      <td>0.753538</td>\n",
       "      <td>0.654826</td>\n",
       "      <td>0.942222</td>\n",
       "    </tr>\n",
       "    <tr>\n",
       "      <th>GradientBoostingClassifier</th>\n",
       "      <td>0.952022</td>\n",
       "      <td>843.0</td>\n",
       "      <td>6618.0</td>\n",
       "      <td>319.0</td>\n",
       "      <td>57.0</td>\n",
       "      <td>0.045985</td>\n",
       "      <td>0.063333</td>\n",
       "      <td>0.945341</td>\n",
       "      <td>0.799099</td>\n",
       "      <td>0.725473</td>\n",
       "      <td>0.936667</td>\n",
       "    </tr>\n",
       "    <tr>\n",
       "      <th>ExtraTreeClassifier</th>\n",
       "      <td>0.960316</td>\n",
       "      <td>833.0</td>\n",
       "      <td>6693.0</td>\n",
       "      <td>244.0</td>\n",
       "      <td>67.0</td>\n",
       "      <td>0.035174</td>\n",
       "      <td>0.074444</td>\n",
       "      <td>0.945191</td>\n",
       "      <td>0.824522</td>\n",
       "      <td>0.773445</td>\n",
       "      <td>0.925556</td>\n",
       "    </tr>\n",
       "    <tr>\n",
       "      <th>XGB</th>\n",
       "      <td>0.951767</td>\n",
       "      <td>841.0</td>\n",
       "      <td>6618.0</td>\n",
       "      <td>319.0</td>\n",
       "      <td>59.0</td>\n",
       "      <td>0.045985</td>\n",
       "      <td>0.065556</td>\n",
       "      <td>0.944230</td>\n",
       "      <td>0.797673</td>\n",
       "      <td>0.725000</td>\n",
       "      <td>0.934444</td>\n",
       "    </tr>\n",
       "    <tr>\n",
       "      <th>BaggingClassifier</th>\n",
       "      <td>0.957126</td>\n",
       "      <td>824.0</td>\n",
       "      <td>6677.0</td>\n",
       "      <td>260.0</td>\n",
       "      <td>76.0</td>\n",
       "      <td>0.037480</td>\n",
       "      <td>0.084444</td>\n",
       "      <td>0.939038</td>\n",
       "      <td>0.810916</td>\n",
       "      <td>0.760148</td>\n",
       "      <td>0.915556</td>\n",
       "    </tr>\n",
       "    <tr>\n",
       "      <th>Neural Network-1</th>\n",
       "      <td>0.948194</td>\n",
       "      <td>844.0</td>\n",
       "      <td>6587.0</td>\n",
       "      <td>350.0</td>\n",
       "      <td>56.0</td>\n",
       "      <td>0.050454</td>\n",
       "      <td>0.062222</td>\n",
       "      <td>0.939038</td>\n",
       "      <td>0.787236</td>\n",
       "      <td>0.706868</td>\n",
       "      <td>0.937778</td>\n",
       "    </tr>\n",
       "  </tbody>\n",
       "</table>\n",
       "</div>"
      ],
      "text/plain": [
       "                            accuracy     TP      TN     FP    FN       FPR  \\\n",
       "index                                                                        \n",
       "KNeighborsClassifier        0.934158  829.0  6492.0  445.0  71.0  0.064149   \n",
       "RandomForestClassifier      0.957764  823.0  6683.0  254.0  77.0  0.036615   \n",
       "AdaBoostClassifier          0.936328  848.0  6490.0  447.0  52.0  0.064437   \n",
       "GradientBoostingClassifier  0.952022  843.0  6618.0  319.0  57.0  0.045985   \n",
       "ExtraTreeClassifier         0.960316  833.0  6693.0  244.0  67.0  0.035174   \n",
       "XGB                         0.951767  841.0  6618.0  319.0  59.0  0.045985   \n",
       "BaggingClassifier           0.957126  824.0  6677.0  260.0  76.0  0.037480   \n",
       "Neural Network-1            0.948194  844.0  6587.0  350.0  56.0  0.050454   \n",
       "\n",
       "                                 FNR       auc       MCC  Precision    Recall  \n",
       "index                                                                          \n",
       "KNeighborsClassifier        0.078889  0.928481  0.740513   0.650706  0.921111  \n",
       "RandomForestClassifier      0.085556  0.938915  0.812898   0.764160  0.914444  \n",
       "AdaBoostClassifier          0.057778  0.938893  0.753538   0.654826  0.942222  \n",
       "GradientBoostingClassifier  0.063333  0.945341  0.799099   0.725473  0.936667  \n",
       "ExtraTreeClassifier         0.074444  0.945191  0.824522   0.773445  0.925556  \n",
       "XGB                         0.065556  0.944230  0.797673   0.725000  0.934444  \n",
       "BaggingClassifier           0.084444  0.939038  0.810916   0.760148  0.915556  \n",
       "Neural Network-1            0.062222  0.939038  0.787236   0.706868  0.937778  "
      ]
     },
     "metadata": {},
     "output_type": "display_data"
    }
   ],
   "source": [
    "table_80_50_train['index']=ind_columns\n",
    "table_80_50_test['index']=ind_columns\n",
    "\n",
    "\n",
    "table_80_50_test.set_index(['index'],drop=True,inplace=True)\n",
    "table_80_50_train.set_index(['index'],drop=True,inplace=True)\n",
    "\n",
    "print(\"Training Results\")\n",
    "display(table_80_50_train)\n",
    "print(\"Test Results\")\n",
    "display(table_80_50_test)"
   ]
  },
  {
   "cell_type": "markdown",
   "metadata": {},
   "source": [
    "### <a id='3.B' style=\"text-decoration : none; color : #000000;\"> B. Average Feature Importances</a>"
   ]
  },
  {
   "cell_type": "code",
   "execution_count": 24,
   "metadata": {},
   "outputs": [
    {
     "data": {
      "application/vnd.plotly.v1+json": {
       "config": {
        "linkText": "Export to plot.ly",
        "plotlyServerURL": "https://plot.ly",
        "showLink": true
       },
       "data": [
        {
         "marker": {
          "color": "rgb(158,202,225)",
          "line": {
           "color": "rgb(8,48,107)",
           "width": 1.5
          }
         },
         "opacity": 0.6,
         "orientation": "h",
         "text": [
          0.1112,
          0.0762,
          0.0641,
          0.0602,
          0.0477,
          0.0421,
          0.0417,
          0.0377,
          0.0372,
          0.0369,
          0.035,
          0.0295,
          0.0279,
          0.027,
          0.0267,
          0.0255,
          0.0221,
          0.0219,
          0.0218,
          0.0178,
          0.0166,
          0.016,
          0.0129,
          0.0124,
          0.0118,
          0.0117,
          0.0104,
          0.0101,
          0.01,
          0.01,
          0.0097,
          0.0097,
          0.0092,
          0.0092,
          0.0076,
          0.0068,
          0.0056,
          0.0054,
          0.0046
         ],
         "textposition": "outside",
         "type": "bar",
         "uid": "9d508d12-c924-4f85-8b0f-663a23fddc99",
         "x": [
          0.11118103984892311,
          0.07619969915185179,
          0.06414022653630007,
          0.060242412241766206,
          0.04766845242054454,
          0.04213463294949081,
          0.04173335343873415,
          0.037718539611616655,
          0.03719113835459026,
          0.036948451789302984,
          0.034959438499289064,
          0.02948759268884866,
          0.02785928757197887,
          0.026962512543138528,
          0.02666459038668812,
          0.025519212944008336,
          0.022111350008396324,
          0.02187905795226569,
          0.021843508970506055,
          0.017821275213911678,
          0.016568631664811307,
          0.016038433432298705,
          0.01286335826520999,
          0.012381417814419243,
          0.011822074454794891,
          0.011738023154252101,
          0.010442056107762297,
          0.010116552539503386,
          0.010011089617383954,
          0.009954880332388474,
          0.009745114826840196,
          0.00967234216146445,
          0.009222607470101622,
          0.009175798012659763,
          0.0076137651533519,
          0.006825794357938541,
          0.005571885420315755,
          0.005401385696718886,
          0.004569014160458476
         ],
         "y": [
          "a_count",
          "url_length",
          "url_char_w",
          "url_extensions",
          "a_href_out_of_domain",
          "http_header_content-encoding_gzip",
          "meta_count",
          "script_src_out_of_domain",
          "url_char_.",
          "link_href_out_of_domain",
          "script_count",
          "li_count",
          "http_header_transfer-encoding_chunked",
          "p_count",
          "push",
          "a_href_relative",
          "http_header_content-length",
          "http_header_server_apache",
          "link_type_text/css",
          "a_href_https",
          "http_header_cache-control_set_max-age",
          "url_char_z",
          "http_header_via_1.1",
          "url_char_i",
          "center_count",
          "url_char_p",
          "title_count",
          "input_count",
          "url_char_f",
          "url_char_d",
          "url_char_y",
          "a_href_http",
          "url_extension_endswith_.com",
          "http_header_vary_user-agent",
          "img_src_http",
          "iframe_src_.html",
          "url_char_l",
          "script_src_https",
          "url_char_t"
         ]
        }
       ],
       "layout": {
        "autosize": false,
        "height": 1000,
        "width": 1000,
        "xaxis": {
         "tickfont": {
          "color": "black",
          "size": 12
         },
         "title": "Feature Importances"
        },
        "yaxis": {
         "automargin": true
        }
       }
      },
      "text/html": [
       "<div id=\"7bffe1e1-a4e4-42ed-aa97-63f7afce6b84\" style=\"height: 1000px; width: 1000px;\" class=\"plotly-graph-div\"></div><script type=\"text/javascript\">require([\"plotly\"], function(Plotly) { window.PLOTLYENV=window.PLOTLYENV || {};window.PLOTLYENV.BASE_URL=\"https://plot.ly\";Plotly.newPlot(\"7bffe1e1-a4e4-42ed-aa97-63f7afce6b84\", [{\"marker\": {\"color\": \"rgb(158,202,225)\", \"line\": {\"color\": \"rgb(8,48,107)\", \"width\": 1.5}}, \"opacity\": 0.6, \"orientation\": \"h\", \"text\": [0.1112, 0.0762, 0.0641, 0.0602, 0.0477, 0.0421, 0.0417, 0.0377, 0.0372, 0.0369, 0.035, 0.0295, 0.0279, 0.027, 0.0267, 0.0255, 0.0221, 0.0219, 0.0218, 0.0178, 0.0166, 0.016, 0.0129, 0.0124, 0.0118, 0.0117, 0.0104, 0.0101, 0.01, 0.01, 0.0097, 0.0097, 0.0092, 0.0092, 0.0076, 0.0068, 0.0056, 0.0054, 0.0046], \"textposition\": \"outside\", \"x\": [0.11118103984892311, 0.07619969915185179, 0.06414022653630007, 0.060242412241766206, 0.04766845242054454, 0.04213463294949081, 0.04173335343873415, 0.037718539611616655, 0.03719113835459026, 0.036948451789302984, 0.034959438499289064, 0.02948759268884866, 0.02785928757197887, 0.026962512543138528, 0.02666459038668812, 0.025519212944008336, 0.022111350008396324, 0.02187905795226569, 0.021843508970506055, 0.017821275213911678, 0.016568631664811307, 0.016038433432298705, 0.01286335826520999, 0.012381417814419243, 0.011822074454794891, 0.011738023154252101, 0.010442056107762297, 0.010116552539503386, 0.010011089617383954, 0.009954880332388474, 0.009745114826840196, 0.00967234216146445, 0.009222607470101622, 0.009175798012659763, 0.0076137651533519, 0.006825794357938541, 0.005571885420315755, 0.005401385696718886, 0.004569014160458476], \"y\": [\"a_count\", \"url_length\", \"url_char_w\", \"url_extensions\", \"a_href_out_of_domain\", \"http_header_content-encoding_gzip\", \"meta_count\", \"script_src_out_of_domain\", \"url_char_.\", \"link_href_out_of_domain\", \"script_count\", \"li_count\", \"http_header_transfer-encoding_chunked\", \"p_count\", \"push\", \"a_href_relative\", \"http_header_content-length\", \"http_header_server_apache\", \"link_type_text/css\", \"a_href_https\", \"http_header_cache-control_set_max-age\", \"url_char_z\", \"http_header_via_1.1\", \"url_char_i\", \"center_count\", \"url_char_p\", \"title_count\", \"input_count\", \"url_char_f\", \"url_char_d\", \"url_char_y\", \"a_href_http\", \"url_extension_endswith_.com\", \"http_header_vary_user-agent\", \"img_src_http\", \"iframe_src_.html\", \"url_char_l\", \"script_src_https\", \"url_char_t\"], \"type\": \"bar\", \"uid\": \"9d508d12-c924-4f85-8b0f-663a23fddc99\"}], {\"autosize\": false, \"height\": 1000, \"width\": 1000, \"xaxis\": {\"tickfont\": {\"color\": \"black\", \"size\": 12}, \"title\": \"Feature Importances\"}, \"yaxis\": {\"automargin\": true}}, {\"showLink\": true, \"linkText\": \"Export to plot.ly\", \"plotlyServerURL\": \"https://plot.ly\"})});</script>"
      ],
      "text/vnd.plotly.v1+html": [
       "<div id=\"7bffe1e1-a4e4-42ed-aa97-63f7afce6b84\" style=\"height: 1000px; width: 1000px;\" class=\"plotly-graph-div\"></div><script type=\"text/javascript\">require([\"plotly\"], function(Plotly) { window.PLOTLYENV=window.PLOTLYENV || {};window.PLOTLYENV.BASE_URL=\"https://plot.ly\";Plotly.newPlot(\"7bffe1e1-a4e4-42ed-aa97-63f7afce6b84\", [{\"marker\": {\"color\": \"rgb(158,202,225)\", \"line\": {\"color\": \"rgb(8,48,107)\", \"width\": 1.5}}, \"opacity\": 0.6, \"orientation\": \"h\", \"text\": [0.1112, 0.0762, 0.0641, 0.0602, 0.0477, 0.0421, 0.0417, 0.0377, 0.0372, 0.0369, 0.035, 0.0295, 0.0279, 0.027, 0.0267, 0.0255, 0.0221, 0.0219, 0.0218, 0.0178, 0.0166, 0.016, 0.0129, 0.0124, 0.0118, 0.0117, 0.0104, 0.0101, 0.01, 0.01, 0.0097, 0.0097, 0.0092, 0.0092, 0.0076, 0.0068, 0.0056, 0.0054, 0.0046], \"textposition\": \"outside\", \"x\": [0.11118103984892311, 0.07619969915185179, 0.06414022653630007, 0.060242412241766206, 0.04766845242054454, 0.04213463294949081, 0.04173335343873415, 0.037718539611616655, 0.03719113835459026, 0.036948451789302984, 0.034959438499289064, 0.02948759268884866, 0.02785928757197887, 0.026962512543138528, 0.02666459038668812, 0.025519212944008336, 0.022111350008396324, 0.02187905795226569, 0.021843508970506055, 0.017821275213911678, 0.016568631664811307, 0.016038433432298705, 0.01286335826520999, 0.012381417814419243, 0.011822074454794891, 0.011738023154252101, 0.010442056107762297, 0.010116552539503386, 0.010011089617383954, 0.009954880332388474, 0.009745114826840196, 0.00967234216146445, 0.009222607470101622, 0.009175798012659763, 0.0076137651533519, 0.006825794357938541, 0.005571885420315755, 0.005401385696718886, 0.004569014160458476], \"y\": [\"a_count\", \"url_length\", \"url_char_w\", \"url_extensions\", \"a_href_out_of_domain\", \"http_header_content-encoding_gzip\", \"meta_count\", \"script_src_out_of_domain\", \"url_char_.\", \"link_href_out_of_domain\", \"script_count\", \"li_count\", \"http_header_transfer-encoding_chunked\", \"p_count\", \"push\", \"a_href_relative\", \"http_header_content-length\", \"http_header_server_apache\", \"link_type_text/css\", \"a_href_https\", \"http_header_cache-control_set_max-age\", \"url_char_z\", \"http_header_via_1.1\", \"url_char_i\", \"center_count\", \"url_char_p\", \"title_count\", \"input_count\", \"url_char_f\", \"url_char_d\", \"url_char_y\", \"a_href_http\", \"url_extension_endswith_.com\", \"http_header_vary_user-agent\", \"img_src_http\", \"iframe_src_.html\", \"url_char_l\", \"script_src_https\", \"url_char_t\"], \"type\": \"bar\", \"uid\": \"9d508d12-c924-4f85-8b0f-663a23fddc99\"}], {\"autosize\": false, \"height\": 1000, \"width\": 1000, \"xaxis\": {\"tickfont\": {\"color\": \"black\", \"size\": 12}, \"title\": \"Feature Importances\"}, \"yaxis\": {\"automargin\": true}}, {\"showLink\": true, \"linkText\": \"Export to plot.ly\", \"plotlyServerURL\": \"https://plot.ly\"})});</script>"
      ]
     },
     "metadata": {},
     "output_type": "display_data"
    }
   ],
   "source": [
    "feat_impt_plot(np.average(feat_imp,axis=0),columns)"
   ]
  },
  {
   "cell_type": "markdown",
   "metadata": {},
   "source": [
    "### <a id='4' style=\"text-decoration : none; color : #000000;\">4. Feature Transformation with feature selection </a>"
   ]
  },
  {
   "cell_type": "code",
   "execution_count": 54,
   "metadata": {},
   "outputs": [],
   "source": [
    "df.reset_index(inplace=True)"
   ]
  },
  {
   "cell_type": "code",
   "execution_count": null,
   "metadata": {},
   "outputs": [],
   "source": [
    "# columns=columns.tolist()\n",
    "columns.append('domain')\n",
    "columns.remove('Target')"
   ]
  },
  {
   "cell_type": "code",
   "execution_count": 56,
   "metadata": {},
   "outputs": [],
   "source": [
    "df_min=df[columns]"
   ]
  },
  {
   "cell_type": "code",
   "execution_count": 57,
   "metadata": {
    "scrolled": true
   },
   "outputs": [
    {
     "name": "stdout",
     "output_type": "stream",
     "text": [
      "Built 3003 features\n",
      "EntitySet scattered to workers in 4.430 seconds\n",
      "\n",
      "Elapsed: 00:00 | Remaining: ? | Progress:   0%|          | Calculated: 0/11 chunks\u001b[A\n",
      "Elapsed: 00:09 | Remaining: 01:37 | Progress:   9%|▉         | Calculated: 1/11 chunks\u001b[A\n",
      "Elapsed: 00:12 | Remaining: 01:09 | Progress:  18%|█▊        | Calculated: 2/11 chunks\u001b[A\n",
      "Elapsed: 00:14 | Remaining: 00:46 | Progress:  27%|██▋       | Calculated: 3/11 chunks\u001b[A\n",
      "Elapsed: 00:17 | Remaining: 00:27 | Progress:  45%|████▌     | Calculated: 5/11 chunks\u001b[A\n",
      "Elapsed: 00:17 | Remaining: 00:00 | Progress: 100%|██████████| Calculated: 11/11 chunks\u001b[A"
     ]
    }
   ],
   "source": [
    "es = ft.EntitySet(id = 'malicious')\n",
    "es.entity_from_dataframe(entity_id = 'data', dataframe = df_min, index = 'domain')\n",
    "\n",
    "feature_matrix_sessions, features_defs = ft.dfs(entityset=es,target_entity=\"data\",\n",
    "                                                trans_primitives = ['add','divide','multiply'],n_jobs=-1,\n",
    "                                                verbose=1,max_depth=1)"
   ]
  },
  {
   "cell_type": "code",
   "execution_count": 58,
   "metadata": {},
   "outputs": [],
   "source": [
    "df.set_index(['domain'],drop=True,inplace=True)"
   ]
  },
  {
   "cell_type": "code",
   "execution_count": 59,
   "metadata": {},
   "outputs": [
    {
     "name": "stderr",
     "output_type": "stream",
     "text": [
      "distributed.core - INFO - Event loop was unresponsive in Nanny for 3.17s.  This is often caused by long-running GIL-holding functions or moving large chunks of data. This can cause timeouts and instability.\n",
      "distributed.core - INFO - Event loop was unresponsive in Nanny for 3.17s.  This is often caused by long-running GIL-holding functions or moving large chunks of data. This can cause timeouts and instability.\n",
      "distributed.core - INFO - Event loop was unresponsive in Nanny for 3.18s.  This is often caused by long-running GIL-holding functions or moving large chunks of data. This can cause timeouts and instability.\n",
      "distributed.core - INFO - Event loop was unresponsive in Nanny for 3.74s.  This is often caused by long-running GIL-holding functions or moving large chunks of data. This can cause timeouts and instability.\n",
      "distributed.core - INFO - Event loop was unresponsive in Nanny for 3.79s.  This is often caused by long-running GIL-holding functions or moving large chunks of data. This can cause timeouts and instability.\n",
      "distributed.core - INFO - Event loop was unresponsive in Nanny for 4.36s.  This is often caused by long-running GIL-holding functions or moving large chunks of data. This can cause timeouts and instability.\n",
      "distributed.core - INFO - Event loop was unresponsive in Nanny for 4.43s.  This is often caused by long-running GIL-holding functions or moving large chunks of data. This can cause timeouts and instability.\n",
      "distributed.core - INFO - Event loop was unresponsive in Nanny for 4.43s.  This is often caused by long-running GIL-holding functions or moving large chunks of data. This can cause timeouts and instability.\n",
      "distributed.core - INFO - Event loop was unresponsive in Nanny for 5.21s.  This is often caused by long-running GIL-holding functions or moving large chunks of data. This can cause timeouts and instability.\n",
      "distributed.core - INFO - Event loop was unresponsive in Nanny for 5.22s.  This is often caused by long-running GIL-holding functions or moving large chunks of data. This can cause timeouts and instability.\n",
      "distributed.core - INFO - Event loop was unresponsive in Nanny for 5.23s.  This is often caused by long-running GIL-holding functions or moving large chunks of data. This can cause timeouts and instability.\n",
      "distributed.core - INFO - Event loop was unresponsive in Nanny for 5.84s.  This is often caused by long-running GIL-holding functions or moving large chunks of data. This can cause timeouts and instability.\n",
      "distributed.core - INFO - Event loop was unresponsive in Nanny for 6.42s.  This is often caused by long-running GIL-holding functions or moving large chunks of data. This can cause timeouts and instability.\n",
      "distributed.core - INFO - Event loop was unresponsive in Nanny for 6.42s.  This is often caused by long-running GIL-holding functions or moving large chunks of data. This can cause timeouts and instability.\n",
      "distributed.core - INFO - Event loop was unresponsive in Nanny for 6.49s.  This is often caused by long-running GIL-holding functions or moving large chunks of data. This can cause timeouts and instability.\n",
      "distributed.core - INFO - Event loop was unresponsive in Nanny for 6.49s.  This is often caused by long-running GIL-holding functions or moving large chunks of data. This can cause timeouts and instability.\n",
      "distributed.core - INFO - Event loop was unresponsive in Nanny for 7.06s.  This is often caused by long-running GIL-holding functions or moving large chunks of data. This can cause timeouts and instability.\n",
      "distributed.core - INFO - Event loop was unresponsive in Nanny for 6.50s.  This is often caused by long-running GIL-holding functions or moving large chunks of data. This can cause timeouts and instability.\n",
      "distributed.core - INFO - Event loop was unresponsive in Nanny for 7.14s.  This is often caused by long-running GIL-holding functions or moving large chunks of data. This can cause timeouts and instability.\n",
      "distributed.core - INFO - Event loop was unresponsive in Nanny for 7.21s.  This is often caused by long-running GIL-holding functions or moving large chunks of data. This can cause timeouts and instability.\n",
      "distributed.core - INFO - Event loop was unresponsive in Nanny for 7.78s.  This is often caused by long-running GIL-holding functions or moving large chunks of data. This can cause timeouts and instability.\n",
      "distributed.core - INFO - Event loop was unresponsive in Nanny for 7.22s.  This is often caused by long-running GIL-holding functions or moving large chunks of data. This can cause timeouts and instability.\n",
      "distributed.core - INFO - Event loop was unresponsive in Nanny for 7.79s.  This is often caused by long-running GIL-holding functions or moving large chunks of data. This can cause timeouts and instability.\n",
      "distributed.core - INFO - Event loop was unresponsive in Nanny for 7.83s.  This is often caused by long-running GIL-holding functions or moving large chunks of data. This can cause timeouts and instability.\n",
      "distributed.core - INFO - Event loop was unresponsive in Nanny for 8.39s.  This is often caused by long-running GIL-holding functions or moving large chunks of data. This can cause timeouts and instability.\n",
      "distributed.core - INFO - Event loop was unresponsive in Nanny for 8.37s.  This is often caused by long-running GIL-holding functions or moving large chunks of data. This can cause timeouts and instability.\n",
      "distributed.core - INFO - Event loop was unresponsive in Nanny for 8.96s.  This is often caused by long-running GIL-holding functions or moving large chunks of data. This can cause timeouts and instability.\n",
      "distributed.core - INFO - Event loop was unresponsive in Nanny for 8.45s.  This is often caused by long-running GIL-holding functions or moving large chunks of data. This can cause timeouts and instability.\n",
      "distributed.core - INFO - Event loop was unresponsive in Nanny for 9.57s.  This is often caused by long-running GIL-holding functions or moving large chunks of data. This can cause timeouts and instability.\n",
      "distributed.core - INFO - Event loop was unresponsive in Nanny for 9.02s.  This is often caused by long-running GIL-holding functions or moving large chunks of data. This can cause timeouts and instability.\n",
      "distributed.core - INFO - Event loop was unresponsive in Nanny for 9.09s.  This is often caused by long-running GIL-holding functions or moving large chunks of data. This can cause timeouts and instability.\n",
      "distributed.core - INFO - Event loop was unresponsive in Nanny for 9.65s.  This is often caused by long-running GIL-holding functions or moving large chunks of data. This can cause timeouts and instability.\n",
      "distributed.core - INFO - Event loop was unresponsive in Nanny for 9.72s.  This is often caused by long-running GIL-holding functions or moving large chunks of data. This can cause timeouts and instability.\n",
      "distributed.core - INFO - Event loop was unresponsive in Nanny for 9.08s.  This is often caused by long-running GIL-holding functions or moving large chunks of data. This can cause timeouts and instability.\n",
      "distributed.core - INFO - Event loop was unresponsive in Nanny for 9.66s.  This is often caused by long-running GIL-holding functions or moving large chunks of data. This can cause timeouts and instability.\n",
      "distributed.core - INFO - Event loop was unresponsive in Nanny for 10.20s.  This is often caused by long-running GIL-holding functions or moving large chunks of data. This can cause timeouts and instability.\n",
      "distributed.core - INFO - Event loop was unresponsive in Nanny for 9.64s.  This is often caused by long-running GIL-holding functions or moving large chunks of data. This can cause timeouts and instability.\n",
      "distributed.core - INFO - Event loop was unresponsive in Nanny for 9.07s.  This is often caused by long-running GIL-holding functions or moving large chunks of data. This can cause timeouts and instability.\n",
      "distributed.core - INFO - Event loop was unresponsive in Nanny for 9.63s.  This is often caused by long-running GIL-holding functions or moving large chunks of data. This can cause timeouts and instability.\n",
      "distributed.core - INFO - Event loop was unresponsive in Nanny for 9.64s.  This is often caused by long-running GIL-holding functions or moving large chunks of data. This can cause timeouts and instability.\n"
     ]
    },
    {
     "name": "stderr",
     "output_type": "stream",
     "text": [
      "distributed.core - INFO - Event loop was unresponsive in Nanny for 9.41s.  This is often caused by long-running GIL-holding functions or moving large chunks of data. This can cause timeouts and instability.\n",
      "distributed.core - INFO - Event loop was unresponsive in Nanny for 9.47s.  This is often caused by long-running GIL-holding functions or moving large chunks of data. This can cause timeouts and instability.\n",
      "distributed.core - INFO - Event loop was unresponsive in Nanny for 12.09s.  This is often caused by long-running GIL-holding functions or moving large chunks of data. This can cause timeouts and instability.\n",
      "distributed.core - INFO - Event loop was unresponsive in Nanny for 10.11s.  This is often caused by long-running GIL-holding functions or moving large chunks of data. This can cause timeouts and instability.\n",
      "distributed.core - INFO - Event loop was unresponsive in Nanny for 10.12s.  This is often caused by long-running GIL-holding functions or moving large chunks of data. This can cause timeouts and instability.\n",
      "distributed.core - INFO - Event loop was unresponsive in Nanny for 9.54s.  This is often caused by long-running GIL-holding functions or moving large chunks of data. This can cause timeouts and instability.\n",
      "distributed.core - INFO - Event loop was unresponsive in Nanny for 9.53s.  This is often caused by long-running GIL-holding functions or moving large chunks of data. This can cause timeouts and instability.\n",
      "distributed.core - INFO - Event loop was unresponsive in Nanny for 8.93s.  This is often caused by long-running GIL-holding functions or moving large chunks of data. This can cause timeouts and instability.\n",
      "distributed.core - INFO - Event loop was unresponsive in Nanny for 10.32s.  This is often caused by long-running GIL-holding functions or moving large chunks of data. This can cause timeouts and instability.\n",
      "distributed.core - INFO - Event loop was unresponsive in Nanny for 9.61s.  This is often caused by long-running GIL-holding functions or moving large chunks of data. This can cause timeouts and instability.\n",
      "distributed.core - INFO - Event loop was unresponsive in Nanny for 9.60s.  This is often caused by long-running GIL-holding functions or moving large chunks of data. This can cause timeouts and instability.\n",
      "distributed.core - INFO - Event loop was unresponsive in Nanny for 9.01s.  This is often caused by long-running GIL-holding functions or moving large chunks of data. This can cause timeouts and instability.\n",
      "distributed.core - INFO - Event loop was unresponsive in Nanny for 8.52s.  This is often caused by long-running GIL-holding functions or moving large chunks of data. This can cause timeouts and instability.\n",
      "distributed.core - INFO - Event loop was unresponsive in Nanny for 8.44s.  This is often caused by long-running GIL-holding functions or moving large chunks of data. This can cause timeouts and instability.\n",
      "distributed.core - INFO - Event loop was unresponsive in Nanny for 8.45s.  This is often caused by long-running GIL-holding functions or moving large chunks of data. This can cause timeouts and instability.\n",
      "distributed.core - INFO - Event loop was unresponsive in Nanny for 8.38s.  This is often caused by long-running GIL-holding functions or moving large chunks of data. This can cause timeouts and instability.\n",
      "distributed.core - INFO - Event loop was unresponsive in Nanny for 7.88s.  This is often caused by long-running GIL-holding functions or moving large chunks of data. This can cause timeouts and instability.\n",
      "distributed.core - INFO - Event loop was unresponsive in Nanny for 8.40s.  This is often caused by long-running GIL-holding functions or moving large chunks of data. This can cause timeouts and instability.\n",
      "distributed.core - INFO - Event loop was unresponsive in Nanny for 13.46s.  This is often caused by long-running GIL-holding functions or moving large chunks of data. This can cause timeouts and instability.\n",
      "distributed.core - INFO - Event loop was unresponsive in Nanny for 12.90s.  This is often caused by long-running GIL-holding functions or moving large chunks of data. This can cause timeouts and instability.\n",
      "distributed.core - INFO - Event loop was unresponsive in Nanny for 12.87s.  This is often caused by long-running GIL-holding functions or moving large chunks of data. This can cause timeouts and instability.\n",
      "distributed.core - INFO - Event loop was unresponsive in Nanny for 12.89s.  This is often caused by long-running GIL-holding functions or moving large chunks of data. This can cause timeouts and instability.\n",
      "distributed.core - INFO - Event loop was unresponsive in Nanny for 12.88s.  This is often caused by long-running GIL-holding functions or moving large chunks of data. This can cause timeouts and instability.\n",
      "distributed.core - INFO - Event loop was unresponsive in Nanny for 12.82s.  This is often caused by long-running GIL-holding functions or moving large chunks of data. This can cause timeouts and instability.\n",
      "distributed.core - INFO - Event loop was unresponsive in Nanny for 12.33s.  This is often caused by long-running GIL-holding functions or moving large chunks of data. This can cause timeouts and instability.\n",
      "distributed.core - INFO - Event loop was unresponsive in Nanny for 12.29s.  This is often caused by long-running GIL-holding functions or moving large chunks of data. This can cause timeouts and instability.\n",
      "distributed.core - INFO - Event loop was unresponsive in Nanny for 9.71s.  This is often caused by long-running GIL-holding functions or moving large chunks of data. This can cause timeouts and instability.\n",
      "distributed.core - INFO - Event loop was unresponsive in Nanny for 10.29s.  This is often caused by long-running GIL-holding functions or moving large chunks of data. This can cause timeouts and instability.\n",
      "distributed.core - INFO - Event loop was unresponsive in Nanny for 10.38s.  This is often caused by long-running GIL-holding functions or moving large chunks of data. This can cause timeouts and instability.\n",
      "distributed.core - INFO - Event loop was unresponsive in Nanny for 9.77s.  This is often caused by long-running GIL-holding functions or moving large chunks of data. This can cause timeouts and instability.\n",
      "distributed.core - INFO - Event loop was unresponsive in Nanny for 10.32s.  This is often caused by long-running GIL-holding functions or moving large chunks of data. This can cause timeouts and instability.\n",
      "distributed.core - INFO - Event loop was unresponsive in Nanny for 10.40s.  This is often caused by long-running GIL-holding functions or moving large chunks of data. This can cause timeouts and instability.\n",
      "distributed.core - INFO - Event loop was unresponsive in Nanny for 10.35s.  This is often caused by long-running GIL-holding functions or moving large chunks of data. This can cause timeouts and instability.\n",
      "distributed.core - INFO - Event loop was unresponsive in Nanny for 8.50s.  This is often caused by long-running GIL-holding functions or moving large chunks of data. This can cause timeouts and instability.\n",
      "distributed.core - INFO - Event loop was unresponsive in Nanny for 12.27s.  This is often caused by long-running GIL-holding functions or moving large chunks of data. This can cause timeouts and instability.\n",
      "distributed.core - INFO - Event loop was unresponsive in Nanny for 9.76s.  This is often caused by long-running GIL-holding functions or moving large chunks of data. This can cause timeouts and instability.\n",
      "distributed.core - INFO - Event loop was unresponsive in Nanny for 11.73s.  This is often caused by long-running GIL-holding functions or moving large chunks of data. This can cause timeouts and instability.\n",
      "distributed.core - INFO - Event loop was unresponsive in Nanny for 7.11s.  This is often caused by long-running GIL-holding functions or moving large chunks of data. This can cause timeouts and instability.\n",
      "distributed.core - INFO - Event loop was unresponsive in Nanny for 9.15s.  This is often caused by long-running GIL-holding functions or moving large chunks of data. This can cause timeouts and instability.\n"
     ]
    },
    {
     "name": "stderr",
     "output_type": "stream",
     "text": [
      "distributed.core - INFO - Event loop was unresponsive in Nanny for 7.11s.  This is often caused by long-running GIL-holding functions or moving large chunks of data. This can cause timeouts and instability.\n",
      "distributed.core - INFO - Event loop was unresponsive in Nanny for 9.15s.  This is often caused by long-running GIL-holding functions or moving large chunks of data. This can cause timeouts and instability.\n",
      "distributed.core - INFO - Event loop was unresponsive in Nanny for 7.66s.  This is often caused by long-running GIL-holding functions or moving large chunks of data. This can cause timeouts and instability.\n",
      "distributed.core - INFO - Event loop was unresponsive in Nanny for 10.76s.  This is often caused by long-running GIL-holding functions or moving large chunks of data. This can cause timeouts and instability.\n",
      "distributed.core - INFO - Event loop was unresponsive in Nanny for 10.73s.  This is often caused by long-running GIL-holding functions or moving large chunks of data. This can cause timeouts and instability.\n",
      "distributed.core - INFO - Event loop was unresponsive in Nanny for 8.67s.  This is often caused by long-running GIL-holding functions or moving large chunks of data. This can cause timeouts and instability.\n",
      "distributed.core - INFO - Event loop was unresponsive in Nanny for 9.17s.  This is often caused by long-running GIL-holding functions or moving large chunks of data. This can cause timeouts and instability.\n",
      "distributed.core - INFO - Event loop was unresponsive in Nanny for 9.26s.  This is often caused by long-running GIL-holding functions or moving large chunks of data. This can cause timeouts and instability.\n",
      "distributed.core - INFO - Event loop was unresponsive in Nanny for 9.23s.  This is often caused by long-running GIL-holding functions or moving large chunks of data. This can cause timeouts and instability.\n",
      "distributed.core - INFO - Event loop was unresponsive in Nanny for 9.30s.  This is often caused by long-running GIL-holding functions or moving large chunks of data. This can cause timeouts and instability.\n",
      "distributed.core - INFO - Event loop was unresponsive in Nanny for 9.24s.  This is often caused by long-running GIL-holding functions or moving large chunks of data. This can cause timeouts and instability.\n",
      "distributed.core - INFO - Event loop was unresponsive in Nanny for 9.29s.  This is often caused by long-running GIL-holding functions or moving large chunks of data. This can cause timeouts and instability.\n",
      "distributed.core - INFO - Event loop was unresponsive in Nanny for 9.85s.  This is often caused by long-running GIL-holding functions or moving large chunks of data. This can cause timeouts and instability.\n",
      "distributed.core - INFO - Event loop was unresponsive in Nanny for 10.48s.  This is often caused by long-running GIL-holding functions or moving large chunks of data. This can cause timeouts and instability.\n",
      "distributed.core - INFO - Event loop was unresponsive in Nanny for 10.48s.  This is often caused by long-running GIL-holding functions or moving large chunks of data. This can cause timeouts and instability.\n",
      "distributed.core - INFO - Event loop was unresponsive in Nanny for 8.57s.  This is often caused by long-running GIL-holding functions or moving large chunks of data. This can cause timeouts and instability.\n",
      "distributed.core - INFO - Event loop was unresponsive in Nanny for 10.38s.  This is often caused by long-running GIL-holding functions or moving large chunks of data. This can cause timeouts and instability.\n",
      "distributed.core - INFO - Event loop was unresponsive in Nanny for 10.45s.  This is often caused by long-running GIL-holding functions or moving large chunks of data. This can cause timeouts and instability.\n",
      "distributed.core - INFO - Event loop was unresponsive in Nanny for 9.91s.  This is often caused by long-running GIL-holding functions or moving large chunks of data. This can cause timeouts and instability.\n",
      "distributed.core - INFO - Event loop was unresponsive in Nanny for 9.84s.  This is often caused by long-running GIL-holding functions or moving large chunks of data. This can cause timeouts and instability.\n",
      "distributed.core - INFO - Event loop was unresponsive in Nanny for 9.27s.  This is often caused by long-running GIL-holding functions or moving large chunks of data. This can cause timeouts and instability.\n",
      "distributed.core - INFO - Event loop was unresponsive in Nanny for 8.65s.  This is often caused by long-running GIL-holding functions or moving large chunks of data. This can cause timeouts and instability.\n",
      "distributed.core - INFO - Event loop was unresponsive in Nanny for 10.62s.  This is often caused by long-running GIL-holding functions or moving large chunks of data. This can cause timeouts and instability.\n",
      "distributed.core - INFO - Event loop was unresponsive in Nanny for 10.00s.  This is often caused by long-running GIL-holding functions or moving large chunks of data. This can cause timeouts and instability.\n",
      "distributed.core - INFO - Event loop was unresponsive in Nanny for 11.28s.  This is often caused by long-running GIL-holding functions or moving large chunks of data. This can cause timeouts and instability.\n",
      "distributed.core - INFO - Event loop was unresponsive in Nanny for 10.00s.  This is often caused by long-running GIL-holding functions or moving large chunks of data. This can cause timeouts and instability.\n",
      "distributed.core - INFO - Event loop was unresponsive in Nanny for 11.34s.  This is often caused by long-running GIL-holding functions or moving large chunks of data. This can cause timeouts and instability.\n",
      "distributed.core - INFO - Event loop was unresponsive in Nanny for 11.29s.  This is often caused by long-running GIL-holding functions or moving large chunks of data. This can cause timeouts and instability.\n",
      "distributed.core - INFO - Event loop was unresponsive in Nanny for 11.28s.  This is often caused by long-running GIL-holding functions or moving large chunks of data. This can cause timeouts and instability.\n",
      "distributed.core - INFO - Event loop was unresponsive in Nanny for 11.23s.  This is often caused by long-running GIL-holding functions or moving large chunks of data. This can cause timeouts and instability.\n",
      "distributed.core - INFO - Event loop was unresponsive in Nanny for 11.78s.  This is often caused by long-running GIL-holding functions or moving large chunks of data. This can cause timeouts and instability.\n",
      "distributed.core - INFO - Event loop was unresponsive in Nanny for 12.42s.  This is often caused by long-running GIL-holding functions or moving large chunks of data. This can cause timeouts and instability.\n",
      "distributed.core - INFO - Event loop was unresponsive in Nanny for 12.44s.  This is often caused by long-running GIL-holding functions or moving large chunks of data. This can cause timeouts and instability.\n",
      "distributed.core - INFO - Event loop was unresponsive in Nanny for 11.56s.  This is often caused by long-running GIL-holding functions or moving large chunks of data. This can cause timeouts and instability.\n",
      "distributed.core - INFO - Event loop was unresponsive in Nanny for 13.05s.  This is often caused by long-running GIL-holding functions or moving large chunks of data. This can cause timeouts and instability.\n",
      "distributed.core - INFO - Event loop was unresponsive in Nanny for 12.19s.  This is often caused by long-running GIL-holding functions or moving large chunks of data. This can cause timeouts and instability.\n",
      "distributed.core - INFO - Event loop was unresponsive in Nanny for 14.41s.  This is often caused by long-running GIL-holding functions or moving large chunks of data. This can cause timeouts and instability.\n",
      "distributed.core - INFO - Event loop was unresponsive in Nanny for 13.85s.  This is often caused by long-running GIL-holding functions or moving large chunks of data. This can cause timeouts and instability.\n",
      "distributed.core - INFO - Event loop was unresponsive in Nanny for 13.50s.  This is often caused by long-running GIL-holding functions or moving large chunks of data. This can cause timeouts and instability.\n",
      "distributed.core - INFO - Event loop was unresponsive in Nanny for 12.95s.  This is often caused by long-running GIL-holding functions or moving large chunks of data. This can cause timeouts and instability.\n"
     ]
    },
    {
     "name": "stderr",
     "output_type": "stream",
     "text": [
      "distributed.core - INFO - Event loop was unresponsive in Nanny for 12.87s.  This is often caused by long-running GIL-holding functions or moving large chunks of data. This can cause timeouts and instability.\n",
      "distributed.core - INFO - Event loop was unresponsive in Nanny for 12.96s.  This is often caused by long-running GIL-holding functions or moving large chunks of data. This can cause timeouts and instability.\n",
      "distributed.core - INFO - Event loop was unresponsive in Nanny for 10.42s.  This is often caused by long-running GIL-holding functions or moving large chunks of data. This can cause timeouts and instability.\n",
      "distributed.core - INFO - Event loop was unresponsive in Nanny for 12.89s.  This is often caused by long-running GIL-holding functions or moving large chunks of data. This can cause timeouts and instability.\n",
      "distributed.core - INFO - Event loop was unresponsive in Nanny for 13.46s.  This is often caused by long-running GIL-holding functions or moving large chunks of data. This can cause timeouts and instability.\n",
      "distributed.core - INFO - Event loop was unresponsive in Nanny for 12.88s.  This is often caused by long-running GIL-holding functions or moving large chunks of data. This can cause timeouts and instability.\n",
      "distributed.core - INFO - Event loop was unresponsive in Nanny for 11.57s.  This is often caused by long-running GIL-holding functions or moving large chunks of data. This can cause timeouts and instability.\n",
      "distributed.core - INFO - Event loop was unresponsive in Nanny for 11.51s.  This is often caused by long-running GIL-holding functions or moving large chunks of data. This can cause timeouts and instability.\n",
      "distributed.core - INFO - Event loop was unresponsive in Nanny for 10.97s.  This is often caused by long-running GIL-holding functions or moving large chunks of data. This can cause timeouts and instability.\n",
      "distributed.core - INFO - Event loop was unresponsive in Nanny for 10.97s.  This is often caused by long-running GIL-holding functions or moving large chunks of data. This can cause timeouts and instability.\n",
      "distributed.core - INFO - Event loop was unresponsive in Nanny for 11.61s.  This is often caused by long-running GIL-holding functions or moving large chunks of data. This can cause timeouts and instability.\n",
      "distributed.core - INFO - Event loop was unresponsive in Nanny for 11.61s.  This is often caused by long-running GIL-holding functions or moving large chunks of data. This can cause timeouts and instability.\n",
      "distributed.core - INFO - Event loop was unresponsive in Nanny for 11.62s.  This is often caused by long-running GIL-holding functions or moving large chunks of data. This can cause timeouts and instability.\n",
      "distributed.core - INFO - Event loop was unresponsive in Nanny for 13.43s.  This is often caused by long-running GIL-holding functions or moving large chunks of data. This can cause timeouts and instability.\n",
      "distributed.core - INFO - Event loop was unresponsive in Nanny for 9.50s.  This is often caused by long-running GIL-holding functions or moving large chunks of data. This can cause timeouts and instability.\n",
      "distributed.core - INFO - Event loop was unresponsive in Nanny for 12.22s.  This is often caused by long-running GIL-holding functions or moving large chunks of data. This can cause timeouts and instability.\n",
      "distributed.core - INFO - Event loop was unresponsive in Nanny for 10.75s.  This is often caused by long-running GIL-holding functions or moving large chunks of data. This can cause timeouts and instability.\n",
      "distributed.core - INFO - Event loop was unresponsive in Nanny for 11.96s.  This is often caused by long-running GIL-holding functions or moving large chunks of data. This can cause timeouts and instability.\n",
      "distributed.core - INFO - Event loop was unresponsive in Nanny for 9.52s.  This is often caused by long-running GIL-holding functions or moving large chunks of data. This can cause timeouts and instability.\n",
      "distributed.core - INFO - Event loop was unresponsive in Nanny for 13.30s.  This is often caused by long-running GIL-holding functions or moving large chunks of data. This can cause timeouts and instability.\n",
      "distributed.core - INFO - Event loop was unresponsive in Nanny for 12.68s.  This is often caused by long-running GIL-holding functions or moving large chunks of data. This can cause timeouts and instability.\n",
      "distributed.core - INFO - Event loop was unresponsive in Nanny for 12.08s.  This is often caused by long-running GIL-holding functions or moving large chunks of data. This can cause timeouts and instability.\n",
      "distributed.core - INFO - Event loop was unresponsive in Nanny for 11.52s.  This is often caused by long-running GIL-holding functions or moving large chunks of data. This can cause timeouts and instability.\n",
      "distributed.core - INFO - Event loop was unresponsive in Nanny for 12.08s.  This is often caused by long-running GIL-holding functions or moving large chunks of data. This can cause timeouts and instability.\n",
      "distributed.core - INFO - Event loop was unresponsive in Nanny for 11.42s.  This is often caused by long-running GIL-holding functions or moving large chunks of data. This can cause timeouts and instability.\n",
      "distributed.core - INFO - Event loop was unresponsive in Nanny for 12.63s.  This is often caused by long-running GIL-holding functions or moving large chunks of data. This can cause timeouts and instability.\n",
      "distributed.core - INFO - Event loop was unresponsive in Nanny for 9.45s.  This is often caused by long-running GIL-holding functions or moving large chunks of data. This can cause timeouts and instability.\n",
      "distributed.core - INFO - Event loop was unresponsive in Nanny for 11.44s.  This is often caused by long-running GIL-holding functions or moving large chunks of data. This can cause timeouts and instability.\n",
      "distributed.core - INFO - Event loop was unresponsive in Nanny for 8.18s.  This is often caused by long-running GIL-holding functions or moving large chunks of data. This can cause timeouts and instability.\n",
      "distributed.core - INFO - Event loop was unresponsive in Nanny for 9.50s.  This is often caused by long-running GIL-holding functions or moving large chunks of data. This can cause timeouts and instability.\n",
      "distributed.core - INFO - Event loop was unresponsive in Nanny for 10.87s.  This is often caused by long-running GIL-holding functions or moving large chunks of data. This can cause timeouts and instability.\n",
      "distributed.core - INFO - Event loop was unresponsive in Nanny for 10.16s.  This is often caused by long-running GIL-holding functions or moving large chunks of data. This can cause timeouts and instability.\n",
      "distributed.core - INFO - Event loop was unresponsive in Nanny for 8.85s.  This is often caused by long-running GIL-holding functions or moving large chunks of data. This can cause timeouts and instability.\n",
      "distributed.core - INFO - Event loop was unresponsive in Nanny for 8.86s.  This is often caused by long-running GIL-holding functions or moving large chunks of data. This can cause timeouts and instability.\n",
      "distributed.core - INFO - Event loop was unresponsive in Nanny for 6.42s.  This is often caused by long-running GIL-holding functions or moving large chunks of data. This can cause timeouts and instability.\n",
      "distributed.core - INFO - Event loop was unresponsive in Nanny for 6.43s.  This is often caused by long-running GIL-holding functions or moving large chunks of data. This can cause timeouts and instability.\n",
      "distributed.core - INFO - Event loop was unresponsive in Nanny for 6.42s.  This is often caused by long-running GIL-holding functions or moving large chunks of data. This can cause timeouts and instability.\n",
      "distributed.core - INFO - Event loop was unresponsive in Nanny for 6.34s.  This is often caused by long-running GIL-holding functions or moving large chunks of data. This can cause timeouts and instability.\n",
      "distributed.core - INFO - Event loop was unresponsive in Nanny for 5.70s.  This is often caused by long-running GIL-holding functions or moving large chunks of data. This can cause timeouts and instability.\n",
      "distributed.core - INFO - Event loop was unresponsive in Nanny for 5.70s.  This is often caused by long-running GIL-holding functions or moving large chunks of data. This can cause timeouts and instability.\n"
     ]
    },
    {
     "name": "stderr",
     "output_type": "stream",
     "text": [
      "distributed.core - INFO - Event loop was unresponsive in Nanny for 5.69s.  This is often caused by long-running GIL-holding functions or moving large chunks of data. This can cause timeouts and instability.\n",
      "distributed.core - INFO - Event loop was unresponsive in Nanny for 8.86s.  This is often caused by long-running GIL-holding functions or moving large chunks of data. This can cause timeouts and instability.\n",
      "distributed.core - INFO - Event loop was unresponsive in Nanny for 8.22s.  This is often caused by long-running GIL-holding functions or moving large chunks of data. This can cause timeouts and instability.\n",
      "distributed.core - INFO - Event loop was unresponsive in Nanny for 8.22s.  This is often caused by long-running GIL-holding functions or moving large chunks of data. This can cause timeouts and instability.\n",
      "distributed.core - INFO - Event loop was unresponsive in Nanny for 7.65s.  This is often caused by long-running GIL-holding functions or moving large chunks of data. This can cause timeouts and instability.\n",
      "distributed.core - INFO - Event loop was unresponsive in Nanny for 7.59s.  This is often caused by long-running GIL-holding functions or moving large chunks of data. This can cause timeouts and instability.\n",
      "distributed.core - INFO - Event loop was unresponsive in Nanny for 4.47s.  This is often caused by long-running GIL-holding functions or moving large chunks of data. This can cause timeouts and instability.\n",
      "distributed.core - INFO - Event loop was unresponsive in Nanny for 3.21s.  This is often caused by long-running GIL-holding functions or moving large chunks of data. This can cause timeouts and instability.\n",
      "distributed.core - INFO - Event loop was unresponsive in Nanny for 4.52s.  This is often caused by long-running GIL-holding functions or moving large chunks of data. This can cause timeouts and instability.\n",
      "distributed.core - INFO - Event loop was unresponsive in Nanny for 4.48s.  This is often caused by long-running GIL-holding functions or moving large chunks of data. This can cause timeouts and instability.\n",
      "distributed.client - ERROR - Failed to reconnect to scheduler after 10.00 seconds, closing client\n",
      "distributed.utils - ERROR - \n",
      "Traceback (most recent call last):\n",
      "  File \"/nethomes/darshan/anaconda3/lib/python3.6/site-packages/distributed/utils.py\", line 713, in log_errors\n",
      "    yield\n",
      "  File \"/nethomes/darshan/anaconda3/lib/python3.6/site-packages/distributed/client.py\", line 1223, in _close\n",
      "    quiet_exceptions=(CancelledError,),\n",
      "  File \"/nethomes/darshan/anaconda3/lib/python3.6/site-packages/tornado/gen.py\", line 584, in with_timeout\n",
      "    chain_future(future_converted, result)\n",
      "  File \"/nethomes/darshan/anaconda3/lib/python3.6/site-packages/tornado/concurrent.py\", line 166, in chain_future\n",
      "    future_add_done_callback(a, copy)\n",
      "  File \"/nethomes/darshan/anaconda3/lib/python3.6/site-packages/tornado/concurrent.py\", line 262, in future_add_done_callback\n",
      "    callback(future)\n",
      "  File \"/nethomes/darshan/anaconda3/lib/python3.6/site-packages/tornado/concurrent.py\", line 160, in copy\n",
      "    elif a.exception() is not None:\n",
      "concurrent.futures._base.CancelledError\n",
      "distributed.utils - ERROR - \n",
      "Traceback (most recent call last):\n",
      "  File \"/nethomes/darshan/anaconda3/lib/python3.6/site-packages/distributed/utils.py\", line 713, in log_errors\n",
      "    yield\n",
      "  File \"/nethomes/darshan/anaconda3/lib/python3.6/site-packages/distributed/client.py\", line 992, in _reconnect\n",
      "    yield self._close()\n",
      "  File \"/nethomes/darshan/anaconda3/lib/python3.6/site-packages/tornado/gen.py\", line 729, in run\n",
      "    value = future.result()\n",
      "  File \"/nethomes/darshan/anaconda3/lib/python3.6/site-packages/tornado/gen.py\", line 209, in wrapper\n",
      "    yielded = next(result)\n",
      "  File \"/nethomes/darshan/anaconda3/lib/python3.6/site-packages/distributed/client.py\", line 1223, in _close\n",
      "    quiet_exceptions=(CancelledError,),\n",
      "  File \"/nethomes/darshan/anaconda3/lib/python3.6/site-packages/tornado/gen.py\", line 584, in with_timeout\n",
      "    chain_future(future_converted, result)\n",
      "  File \"/nethomes/darshan/anaconda3/lib/python3.6/site-packages/tornado/concurrent.py\", line 166, in chain_future\n",
      "    future_add_done_callback(a, copy)\n",
      "  File \"/nethomes/darshan/anaconda3/lib/python3.6/site-packages/tornado/concurrent.py\", line 262, in future_add_done_callback\n",
      "    callback(future)\n",
      "  File \"/nethomes/darshan/anaconda3/lib/python3.6/site-packages/tornado/concurrent.py\", line 160, in copy\n",
      "    elif a.exception() is not None:\n",
      "concurrent.futures._base.CancelledError\n"
     ]
    }
   ],
   "source": [
    "fs=pd.merge(feature_matrix_sessions,pd.DataFrame(df_sel.Target),left_index=True, right_index=True)\n",
    "fs.replace([np.inf],0,inplace=True)\n",
    "fs.fillna(value=0,inplace=True)"
   ]
  },
  {
   "cell_type": "code",
   "execution_count": 41,
   "metadata": {
    "scrolled": true
   },
   "outputs": [],
   "source": [
    "X=fs.loc[:,fs.columns!='Target']\n",
    "y=fs.Target\n",
    "feature_name = X.columns.tolist()"
   ]
  },
  {
   "cell_type": "code",
   "execution_count": 42,
   "metadata": {},
   "outputs": [],
   "source": [
    "feature_name=['url_char_w + url_char_z',\n",
    " 'url_char_f + url_char_w',\n",
    " 'url_char_. + url_char_z',\n",
    " 'url_char_. + url_char_w',\n",
    " 'url_char_. + url_char_f',\n",
    " 'url_extensions + url_length',\n",
    " 'url_char_z + url_extensions',\n",
    " 'url_char_z * url_length',\n",
    " 'url_char_y / url_char_z',\n",
    " 'url_char_y * url_extensions',\n",
    " 'url_char_w + url_length',\n",
    " 'url_char_w + url_extensions',\n",
    " 'url_char_w + url_char_y',\n",
    " 'url_char_w * url_length',\n",
    " 'url_char_w * url_extensions',\n",
    " 'url_char_w',\n",
    " 'url_char_p + url_extensions',\n",
    " 'url_char_l + url_extensions',\n",
    " 'url_char_l + url_char_w',\n",
    " 'url_char_f + url_extensions',\n",
    " 'url_char_. + url_char_y',\n",
    " 'url_char_. * url_char_z',\n",
    " 'url_char_. * url_char_w',\n",
    " 'url_char_.',\n",
    " 'http_header_vary_user-agent / url_char_z',\n",
    " 'http_header_vary_user-agent / http_header_content-length',\n",
    " 'http_header_vary_user-agent + url_char_.',\n",
    " 'http_header_server_apache + url_char_w',\n",
    " 'http_header_server_apache + url_char_.',\n",
    " 'http_header_content-encoding_gzip / url_char_.',\n",
    " 'http_header_content-encoding_gzip / http_header_content-length',\n",
    " 'a_href_out_of_domain / a_count',\n",
    " 'a_href_https / a_count']"
   ]
  },
  {
   "cell_type": "code",
   "execution_count": 43,
   "metadata": {},
   "outputs": [],
   "source": [
    "feature_name.append('Target')"
   ]
  },
  {
   "cell_type": "code",
   "execution_count": 44,
   "metadata": {},
   "outputs": [],
   "source": [
    "fs=fs[feature_name]"
   ]
  },
  {
   "cell_type": "code",
   "execution_count": 45,
   "metadata": {},
   "outputs": [],
   "source": [
    "train=fs.iloc[:31346]\n",
    "train_Y=train.Target.values\n",
    "train_X=train.iloc[:,train.columns!='Target'].values\n",
    "\n",
    "\n",
    "scaler=StandardScaler()\n",
    "scaled_X_train=scaler.fit_transform(train_X)\n",
    "\n",
    "test=fs.iloc[31346:]\n",
    "test_Y=test.Target.values\n",
    "test_X=test.iloc[:,test.columns!='Target'].values\n",
    "\n",
    "scaled_X_test=scaler.transform(test_X)"
   ]
  },
  {
   "cell_type": "code",
   "execution_count": 48,
   "metadata": {},
   "outputs": [],
   "source": [
    "feature_name.remove('Target')"
   ]
  },
  {
   "cell_type": "code",
   "execution_count": 49,
   "metadata": {
    "scrolled": false
   },
   "outputs": [
    {
     "name": "stdout",
     "output_type": "stream",
     "text": [
      "\u001b[1mK-Nearest Neighbors\u001b[0m\n",
      "Accuracy of the model for training data is: 0.9778281120398137\n",
      "Confusion Matrix for training data is:\n"
     ]
    },
    {
     "data": {
      "text/plain": [
       "Predicted  False  True  __all__\n",
       "Actual                         \n",
       "False      28012   191    28203\n",
       "True         504  2639     3143\n",
       "__all__    28516  2830    31346"
      ]
     },
     "metadata": {},
     "output_type": "display_data"
    },
    {
     "name": "stdout",
     "output_type": "stream",
     "text": [
      "Accuracy of the model for test data is: 0.9714176342988389\n",
      "Confusion Matrix for test data is:\n"
     ]
    },
    {
     "data": {
      "text/plain": [
       "Predicted  False  True  __all__\n",
       "Actual                         \n",
       "False       6448    91     6539\n",
       "True         133  1165     1298\n",
       "__all__     6581  1256     7837"
      ]
     },
     "metadata": {},
     "output_type": "display_data"
    },
    {
     "name": "stdout",
     "output_type": "stream",
     "text": [
      "\n",
      "\n",
      "\u001b[1mRandomForest Classifier\u001b[0m\n",
      "Accuracy of the model for training data is: 0.9907484208511452\n",
      "Confusion Matrix for training data is:\n"
     ]
    },
    {
     "data": {
      "text/plain": [
       "Predicted  False  True  __all__\n",
       "Actual                         \n",
       "False      28148    55    28203\n",
       "True         235  2908     3143\n",
       "__all__    28383  2963    31346"
      ]
     },
     "metadata": {},
     "output_type": "display_data"
    },
    {
     "name": "stdout",
     "output_type": "stream",
     "text": [
      "Accuracy of the model for test data is: 0.9575092509888988\n",
      "Confusion Matrix for test data is:\n"
     ]
    },
    {
     "data": {
      "text/plain": [
       "Predicted  False  True  __all__\n",
       "Actual                         \n",
       "False       6472    67     6539\n",
       "True         266  1032     1298\n",
       "__all__     6738  1099     7837"
      ]
     },
     "metadata": {},
     "output_type": "display_data"
    },
    {
     "data": {
      "application/vnd.plotly.v1+json": {
       "config": {
        "linkText": "Export to plot.ly",
        "plotlyServerURL": "https://plot.ly",
        "showLink": true
       },
       "data": [
        {
         "marker": {
          "color": "rgb(158,202,225)",
          "line": {
           "color": "rgb(8,48,107)",
           "width": 1.5
          }
         },
         "opacity": 0.6,
         "orientation": "h",
         "text": [
          0.1791,
          0.119,
          0.0817,
          0.0779,
          0.0743,
          0.07,
          0.0356,
          0.0345,
          0.0337,
          0.031,
          0.0257,
          0.0242,
          0.0197,
          0.0193,
          0.0183,
          0.0165,
          0.0148,
          0.0145,
          0.0135,
          0.0125,
          0.0103,
          0.0099,
          0.0097,
          0.0095,
          0.0085,
          0.0077,
          0.0063,
          0.0056,
          0.0054,
          0.0046,
          0.0039,
          0.0018,
          0.0009
         ],
         "textposition": "outside",
         "type": "bar",
         "uid": "83841810-e339-4ded-a24e-20b41482b3ed",
         "x": [
          0.17906294976746656,
          0.11904422784209936,
          0.08166418587099611,
          0.07793594869266669,
          0.07434669384903372,
          0.06997356088618319,
          0.03559034645608311,
          0.034530429944184565,
          0.03374706686682652,
          0.030960728275545774,
          0.025705248000619258,
          0.024234073998296298,
          0.01974281305404684,
          0.01927654897545832,
          0.018269689266960078,
          0.01648812090852974,
          0.014807925050940881,
          0.014528265728822126,
          0.013515524359404962,
          0.012477940256123447,
          0.010344929867808219,
          0.009857855671826295,
          0.009713558369229384,
          0.009492833285351993,
          0.008516004830419008,
          0.007742601003703213,
          0.006303341178181536,
          0.005569377453028228,
          0.005379225556896242,
          0.0045604597882188454,
          0.0038537000468385043,
          0.001824407606600568,
          0.0009394172916104149
         ],
         "y": [
          "url_char_w + url_length",
          "a_href_out_of_domain / a_count",
          "a_href_https / a_count",
          "url_extensions + url_length",
          "url_char_z + url_extensions",
          "http_header_content-encoding_gzip / url_char_.",
          "http_header_vary_user-agent + url_char_.",
          "url_char_. + url_char_y",
          "url_char_p + url_extensions",
          "url_char_w + url_extensions",
          "url_char_. + url_char_z",
          "url_char_.",
          "http_header_content-encoding_gzip / http_header_content-length",
          "http_header_vary_user-agent / http_header_content-length",
          "url_char_y / url_char_z",
          "url_char_l + url_extensions",
          "url_char_l + url_char_w",
          "http_header_vary_user-agent / url_char_z",
          "url_char_. * url_char_z",
          "http_header_server_apache + url_char_.",
          "url_char_f + url_extensions",
          "url_char_y * url_extensions",
          "url_char_z * url_length",
          "http_header_server_apache + url_char_w",
          "url_char_. + url_char_f",
          "url_char_w * url_length",
          "url_char_f + url_char_w",
          "url_char_w + url_char_y",
          "url_char_w + url_char_z",
          "url_char_w * url_extensions",
          "url_char_. + url_char_w",
          "url_char_. * url_char_w",
          "url_char_w"
         ]
        }
       ],
       "layout": {
        "autosize": false,
        "height": 1000,
        "width": 1000,
        "xaxis": {
         "tickfont": {
          "color": "black",
          "size": 12
         },
         "title": "Feature Importances"
        },
        "yaxis": {
         "automargin": true
        }
       }
      },
      "text/html": [
       "<div id=\"5b90fd5a-a5a2-4c76-ac03-1b131730d653\" style=\"height: 1000px; width: 1000px;\" class=\"plotly-graph-div\"></div><script type=\"text/javascript\">require([\"plotly\"], function(Plotly) { window.PLOTLYENV=window.PLOTLYENV || {};window.PLOTLYENV.BASE_URL=\"https://plot.ly\";Plotly.newPlot(\"5b90fd5a-a5a2-4c76-ac03-1b131730d653\", [{\"marker\": {\"color\": \"rgb(158,202,225)\", \"line\": {\"color\": \"rgb(8,48,107)\", \"width\": 1.5}}, \"opacity\": 0.6, \"orientation\": \"h\", \"text\": [0.1791, 0.119, 0.0817, 0.0779, 0.0743, 0.07, 0.0356, 0.0345, 0.0337, 0.031, 0.0257, 0.0242, 0.0197, 0.0193, 0.0183, 0.0165, 0.0148, 0.0145, 0.0135, 0.0125, 0.0103, 0.0099, 0.0097, 0.0095, 0.0085, 0.0077, 0.0063, 0.0056, 0.0054, 0.0046, 0.0039, 0.0018, 0.0009], \"textposition\": \"outside\", \"x\": [0.17906294976746656, 0.11904422784209936, 0.08166418587099611, 0.07793594869266669, 0.07434669384903372, 0.06997356088618319, 0.03559034645608311, 0.034530429944184565, 0.03374706686682652, 0.030960728275545774, 0.025705248000619258, 0.024234073998296298, 0.01974281305404684, 0.01927654897545832, 0.018269689266960078, 0.01648812090852974, 0.014807925050940881, 0.014528265728822126, 0.013515524359404962, 0.012477940256123447, 0.010344929867808219, 0.009857855671826295, 0.009713558369229384, 0.009492833285351993, 0.008516004830419008, 0.007742601003703213, 0.006303341178181536, 0.005569377453028228, 0.005379225556896242, 0.0045604597882188454, 0.0038537000468385043, 0.001824407606600568, 0.0009394172916104149], \"y\": [\"url_char_w + url_length\", \"a_href_out_of_domain / a_count\", \"a_href_https / a_count\", \"url_extensions + url_length\", \"url_char_z + url_extensions\", \"http_header_content-encoding_gzip / url_char_.\", \"http_header_vary_user-agent + url_char_.\", \"url_char_. + url_char_y\", \"url_char_p + url_extensions\", \"url_char_w + url_extensions\", \"url_char_. + url_char_z\", \"url_char_.\", \"http_header_content-encoding_gzip / http_header_content-length\", \"http_header_vary_user-agent / http_header_content-length\", \"url_char_y / url_char_z\", \"url_char_l + url_extensions\", \"url_char_l + url_char_w\", \"http_header_vary_user-agent / url_char_z\", \"url_char_. * url_char_z\", \"http_header_server_apache + url_char_.\", \"url_char_f + url_extensions\", \"url_char_y * url_extensions\", \"url_char_z * url_length\", \"http_header_server_apache + url_char_w\", \"url_char_. + url_char_f\", \"url_char_w * url_length\", \"url_char_f + url_char_w\", \"url_char_w + url_char_y\", \"url_char_w + url_char_z\", \"url_char_w * url_extensions\", \"url_char_. + url_char_w\", \"url_char_. * url_char_w\", \"url_char_w\"], \"type\": \"bar\", \"uid\": \"83841810-e339-4ded-a24e-20b41482b3ed\"}], {\"autosize\": false, \"height\": 1000, \"width\": 1000, \"xaxis\": {\"tickfont\": {\"color\": \"black\", \"size\": 12}, \"title\": \"Feature Importances\"}, \"yaxis\": {\"automargin\": true}}, {\"showLink\": true, \"linkText\": \"Export to plot.ly\", \"plotlyServerURL\": \"https://plot.ly\"})});</script>"
      ],
      "text/vnd.plotly.v1+html": [
       "<div id=\"5b90fd5a-a5a2-4c76-ac03-1b131730d653\" style=\"height: 1000px; width: 1000px;\" class=\"plotly-graph-div\"></div><script type=\"text/javascript\">require([\"plotly\"], function(Plotly) { window.PLOTLYENV=window.PLOTLYENV || {};window.PLOTLYENV.BASE_URL=\"https://plot.ly\";Plotly.newPlot(\"5b90fd5a-a5a2-4c76-ac03-1b131730d653\", [{\"marker\": {\"color\": \"rgb(158,202,225)\", \"line\": {\"color\": \"rgb(8,48,107)\", \"width\": 1.5}}, \"opacity\": 0.6, \"orientation\": \"h\", \"text\": [0.1791, 0.119, 0.0817, 0.0779, 0.0743, 0.07, 0.0356, 0.0345, 0.0337, 0.031, 0.0257, 0.0242, 0.0197, 0.0193, 0.0183, 0.0165, 0.0148, 0.0145, 0.0135, 0.0125, 0.0103, 0.0099, 0.0097, 0.0095, 0.0085, 0.0077, 0.0063, 0.0056, 0.0054, 0.0046, 0.0039, 0.0018, 0.0009], \"textposition\": \"outside\", \"x\": [0.17906294976746656, 0.11904422784209936, 0.08166418587099611, 0.07793594869266669, 0.07434669384903372, 0.06997356088618319, 0.03559034645608311, 0.034530429944184565, 0.03374706686682652, 0.030960728275545774, 0.025705248000619258, 0.024234073998296298, 0.01974281305404684, 0.01927654897545832, 0.018269689266960078, 0.01648812090852974, 0.014807925050940881, 0.014528265728822126, 0.013515524359404962, 0.012477940256123447, 0.010344929867808219, 0.009857855671826295, 0.009713558369229384, 0.009492833285351993, 0.008516004830419008, 0.007742601003703213, 0.006303341178181536, 0.005569377453028228, 0.005379225556896242, 0.0045604597882188454, 0.0038537000468385043, 0.001824407606600568, 0.0009394172916104149], \"y\": [\"url_char_w + url_length\", \"a_href_out_of_domain / a_count\", \"a_href_https / a_count\", \"url_extensions + url_length\", \"url_char_z + url_extensions\", \"http_header_content-encoding_gzip / url_char_.\", \"http_header_vary_user-agent + url_char_.\", \"url_char_. + url_char_y\", \"url_char_p + url_extensions\", \"url_char_w + url_extensions\", \"url_char_. + url_char_z\", \"url_char_.\", \"http_header_content-encoding_gzip / http_header_content-length\", \"http_header_vary_user-agent / http_header_content-length\", \"url_char_y / url_char_z\", \"url_char_l + url_extensions\", \"url_char_l + url_char_w\", \"http_header_vary_user-agent / url_char_z\", \"url_char_. * url_char_z\", \"http_header_server_apache + url_char_.\", \"url_char_f + url_extensions\", \"url_char_y * url_extensions\", \"url_char_z * url_length\", \"http_header_server_apache + url_char_w\", \"url_char_. + url_char_f\", \"url_char_w * url_length\", \"url_char_f + url_char_w\", \"url_char_w + url_char_y\", \"url_char_w + url_char_z\", \"url_char_w * url_extensions\", \"url_char_. + url_char_w\", \"url_char_. * url_char_w\", \"url_char_w\"], \"type\": \"bar\", \"uid\": \"83841810-e339-4ded-a24e-20b41482b3ed\"}], {\"autosize\": false, \"height\": 1000, \"width\": 1000, \"xaxis\": {\"tickfont\": {\"color\": \"black\", \"size\": 12}, \"title\": \"Feature Importances\"}, \"yaxis\": {\"automargin\": true}}, {\"showLink\": true, \"linkText\": \"Export to plot.ly\", \"plotlyServerURL\": \"https://plot.ly\"})});</script>"
      ]
     },
     "metadata": {},
     "output_type": "display_data"
    },
    {
     "name": "stdout",
     "output_type": "stream",
     "text": [
      "\n",
      "\n",
      "\u001b[1mAdaoost Classifier\u001b[0m\n",
      "Accuracy of the model for training data is: 0.9718624385886556\n",
      "Confusion Matrix for training data is:\n"
     ]
    },
    {
     "data": {
      "text/plain": [
       "Predicted  False  True  __all__\n",
       "Actual                         \n",
       "False      27921   282    28203\n",
       "True         600  2543     3143\n",
       "__all__    28521  2825    31346"
      ]
     },
     "metadata": {},
     "output_type": "display_data"
    },
    {
     "name": "stdout",
     "output_type": "stream",
     "text": [
      "Accuracy of the model for test data is: 0.9572540512951384\n",
      "Confusion Matrix for test data is:\n"
     ]
    },
    {
     "data": {
      "text/plain": [
       "Predicted  False  True  __all__\n",
       "Actual                         \n",
       "False       6466    73     6539\n",
       "True         262  1036     1298\n",
       "__all__     6728  1109     7837"
      ]
     },
     "metadata": {},
     "output_type": "display_data"
    },
    {
     "data": {
      "application/vnd.plotly.v1+json": {
       "config": {
        "linkText": "Export to plot.ly",
        "plotlyServerURL": "https://plot.ly",
        "showLink": true
       },
       "data": [
        {
         "marker": {
          "color": "rgb(158,202,225)",
          "line": {
           "color": "rgb(8,48,107)",
           "width": 1.5
          }
         },
         "opacity": 0.6,
         "orientation": "h",
         "text": [
          0.16,
          0.12,
          0.12,
          0.08,
          0.08,
          0.08,
          0.08,
          0.04,
          0.04,
          0.04,
          0.02,
          0.02,
          0.02,
          0.02,
          0.02,
          0.02,
          0.02,
          0.02,
          0,
          0,
          0,
          0,
          0,
          0,
          0,
          0,
          0,
          0,
          0,
          0,
          0,
          0,
          0
         ],
         "textposition": "outside",
         "type": "bar",
         "uid": "3179dde0-8f25-47e5-aa12-1dd89007e8e8",
         "x": [
          0.16,
          0.12,
          0.12,
          0.08,
          0.08,
          0.08,
          0.08,
          0.04,
          0.04,
          0.04,
          0.02,
          0.02,
          0.02,
          0.02,
          0.02,
          0.02,
          0.02,
          0.02,
          0,
          0,
          0,
          0,
          0,
          0,
          0,
          0,
          0,
          0,
          0,
          0,
          0,
          0,
          0
         ],
         "y": [
          "a_href_out_of_domain / a_count",
          "http_header_content-encoding_gzip / http_header_content-length",
          "url_extensions + url_length",
          "a_href_https / a_count",
          "url_char_w + url_length",
          "http_header_server_apache + url_char_.",
          "http_header_vary_user-agent / http_header_content-length",
          "http_header_content-encoding_gzip / url_char_.",
          "url_char_p + url_extensions",
          "url_char_z * url_length",
          "url_char_y * url_extensions",
          "url_char_. + url_char_z",
          "url_char_w + url_char_y",
          "url_char_z + url_extensions",
          "url_char_l + url_extensions",
          "http_header_vary_user-agent + url_char_.",
          "url_char_f + url_extensions",
          "url_char_y / url_char_z",
          "url_char_.",
          "url_char_. + url_char_w",
          "url_char_. + url_char_f",
          "http_header_server_apache + url_char_w",
          "http_header_vary_user-agent / url_char_z",
          "url_char_. * url_char_z",
          "url_char_. * url_char_w",
          "url_char_. + url_char_y",
          "url_char_l + url_char_w",
          "url_char_f + url_char_w",
          "url_char_w",
          "url_char_w * url_extensions",
          "url_char_w * url_length",
          "url_char_w + url_extensions",
          "url_char_w + url_char_z"
         ]
        }
       ],
       "layout": {
        "autosize": false,
        "height": 1000,
        "width": 1000,
        "xaxis": {
         "tickfont": {
          "color": "black",
          "size": 12
         },
         "title": "Feature Importances"
        },
        "yaxis": {
         "automargin": true
        }
       }
      },
      "text/html": [
       "<div id=\"3e67e28d-dd62-4dce-a1df-1bde764e542d\" style=\"height: 1000px; width: 1000px;\" class=\"plotly-graph-div\"></div><script type=\"text/javascript\">require([\"plotly\"], function(Plotly) { window.PLOTLYENV=window.PLOTLYENV || {};window.PLOTLYENV.BASE_URL=\"https://plot.ly\";Plotly.newPlot(\"3e67e28d-dd62-4dce-a1df-1bde764e542d\", [{\"marker\": {\"color\": \"rgb(158,202,225)\", \"line\": {\"color\": \"rgb(8,48,107)\", \"width\": 1.5}}, \"opacity\": 0.6, \"orientation\": \"h\", \"text\": [0.16, 0.12, 0.12, 0.08, 0.08, 0.08, 0.08, 0.04, 0.04, 0.04, 0.02, 0.02, 0.02, 0.02, 0.02, 0.02, 0.02, 0.02, 0.0, 0.0, 0.0, 0.0, 0.0, 0.0, 0.0, 0.0, 0.0, 0.0, 0.0, 0.0, 0.0, 0.0, 0.0], \"textposition\": \"outside\", \"x\": [0.16, 0.12, 0.12, 0.08, 0.08, 0.08, 0.08, 0.04, 0.04, 0.04, 0.02, 0.02, 0.02, 0.02, 0.02, 0.02, 0.02, 0.02, 0.0, 0.0, 0.0, 0.0, 0.0, 0.0, 0.0, 0.0, 0.0, 0.0, 0.0, 0.0, 0.0, 0.0, 0.0], \"y\": [\"a_href_out_of_domain / a_count\", \"http_header_content-encoding_gzip / http_header_content-length\", \"url_extensions + url_length\", \"a_href_https / a_count\", \"url_char_w + url_length\", \"http_header_server_apache + url_char_.\", \"http_header_vary_user-agent / http_header_content-length\", \"http_header_content-encoding_gzip / url_char_.\", \"url_char_p + url_extensions\", \"url_char_z * url_length\", \"url_char_y * url_extensions\", \"url_char_. + url_char_z\", \"url_char_w + url_char_y\", \"url_char_z + url_extensions\", \"url_char_l + url_extensions\", \"http_header_vary_user-agent + url_char_.\", \"url_char_f + url_extensions\", \"url_char_y / url_char_z\", \"url_char_.\", \"url_char_. + url_char_w\", \"url_char_. + url_char_f\", \"http_header_server_apache + url_char_w\", \"http_header_vary_user-agent / url_char_z\", \"url_char_. * url_char_z\", \"url_char_. * url_char_w\", \"url_char_. + url_char_y\", \"url_char_l + url_char_w\", \"url_char_f + url_char_w\", \"url_char_w\", \"url_char_w * url_extensions\", \"url_char_w * url_length\", \"url_char_w + url_extensions\", \"url_char_w + url_char_z\"], \"type\": \"bar\", \"uid\": \"3179dde0-8f25-47e5-aa12-1dd89007e8e8\"}], {\"autosize\": false, \"height\": 1000, \"width\": 1000, \"xaxis\": {\"tickfont\": {\"color\": \"black\", \"size\": 12}, \"title\": \"Feature Importances\"}, \"yaxis\": {\"automargin\": true}}, {\"showLink\": true, \"linkText\": \"Export to plot.ly\", \"plotlyServerURL\": \"https://plot.ly\"})});</script>"
      ],
      "text/vnd.plotly.v1+html": [
       "<div id=\"3e67e28d-dd62-4dce-a1df-1bde764e542d\" style=\"height: 1000px; width: 1000px;\" class=\"plotly-graph-div\"></div><script type=\"text/javascript\">require([\"plotly\"], function(Plotly) { window.PLOTLYENV=window.PLOTLYENV || {};window.PLOTLYENV.BASE_URL=\"https://plot.ly\";Plotly.newPlot(\"3e67e28d-dd62-4dce-a1df-1bde764e542d\", [{\"marker\": {\"color\": \"rgb(158,202,225)\", \"line\": {\"color\": \"rgb(8,48,107)\", \"width\": 1.5}}, \"opacity\": 0.6, \"orientation\": \"h\", \"text\": [0.16, 0.12, 0.12, 0.08, 0.08, 0.08, 0.08, 0.04, 0.04, 0.04, 0.02, 0.02, 0.02, 0.02, 0.02, 0.02, 0.02, 0.02, 0.0, 0.0, 0.0, 0.0, 0.0, 0.0, 0.0, 0.0, 0.0, 0.0, 0.0, 0.0, 0.0, 0.0, 0.0], \"textposition\": \"outside\", \"x\": [0.16, 0.12, 0.12, 0.08, 0.08, 0.08, 0.08, 0.04, 0.04, 0.04, 0.02, 0.02, 0.02, 0.02, 0.02, 0.02, 0.02, 0.02, 0.0, 0.0, 0.0, 0.0, 0.0, 0.0, 0.0, 0.0, 0.0, 0.0, 0.0, 0.0, 0.0, 0.0, 0.0], \"y\": [\"a_href_out_of_domain / a_count\", \"http_header_content-encoding_gzip / http_header_content-length\", \"url_extensions + url_length\", \"a_href_https / a_count\", \"url_char_w + url_length\", \"http_header_server_apache + url_char_.\", \"http_header_vary_user-agent / http_header_content-length\", \"http_header_content-encoding_gzip / url_char_.\", \"url_char_p + url_extensions\", \"url_char_z * url_length\", \"url_char_y * url_extensions\", \"url_char_. + url_char_z\", \"url_char_w + url_char_y\", \"url_char_z + url_extensions\", \"url_char_l + url_extensions\", \"http_header_vary_user-agent + url_char_.\", \"url_char_f + url_extensions\", \"url_char_y / url_char_z\", \"url_char_.\", \"url_char_. + url_char_w\", \"url_char_. + url_char_f\", \"http_header_server_apache + url_char_w\", \"http_header_vary_user-agent / url_char_z\", \"url_char_. * url_char_z\", \"url_char_. * url_char_w\", \"url_char_. + url_char_y\", \"url_char_l + url_char_w\", \"url_char_f + url_char_w\", \"url_char_w\", \"url_char_w * url_extensions\", \"url_char_w * url_length\", \"url_char_w + url_extensions\", \"url_char_w + url_char_z\"], \"type\": \"bar\", \"uid\": \"3179dde0-8f25-47e5-aa12-1dd89007e8e8\"}], {\"autosize\": false, \"height\": 1000, \"width\": 1000, \"xaxis\": {\"tickfont\": {\"color\": \"black\", \"size\": 12}, \"title\": \"Feature Importances\"}, \"yaxis\": {\"automargin\": true}}, {\"showLink\": true, \"linkText\": \"Export to plot.ly\", \"plotlyServerURL\": \"https://plot.ly\"})});</script>"
      ]
     },
     "metadata": {},
     "output_type": "display_data"
    },
    {
     "name": "stdout",
     "output_type": "stream",
     "text": [
      "\n",
      "\n",
      "\u001b[1mGradientBoosting Classifier\u001b[0m\n",
      "Accuracy of the model for training data is: 0.9761692081924328\n",
      "Confusion Matrix for training data is:\n"
     ]
    },
    {
     "data": {
      "text/plain": [
       "Predicted  False  True  __all__\n",
       "Actual                         \n",
       "False      28004   199    28203\n",
       "True         548  2595     3143\n",
       "__all__    28552  2794    31346"
      ]
     },
     "metadata": {},
     "output_type": "display_data"
    },
    {
     "name": "stdout",
     "output_type": "stream",
     "text": [
      "Accuracy of the model for test data is: 0.9552124537450555\n",
      "Confusion Matrix for test data is:\n"
     ]
    },
    {
     "data": {
      "text/plain": [
       "Predicted  False  True  __all__\n",
       "Actual                         \n",
       "False       6490    49     6539\n",
       "True         302   996     1298\n",
       "__all__     6792  1045     7837"
      ]
     },
     "metadata": {},
     "output_type": "display_data"
    },
    {
     "data": {
      "application/vnd.plotly.v1+json": {
       "config": {
        "linkText": "Export to plot.ly",
        "plotlyServerURL": "https://plot.ly",
        "showLink": true
       },
       "data": [
        {
         "marker": {
          "color": "rgb(158,202,225)",
          "line": {
           "color": "rgb(8,48,107)",
           "width": 1.5
          }
         },
         "opacity": 0.6,
         "orientation": "h",
         "text": [
          0.2898,
          0.1698,
          0.1393,
          0.1087,
          0.0816,
          0.0799,
          0.0764,
          0.0083,
          0.0071,
          0.0053,
          0.0047,
          0.0046,
          0.0038,
          0.0031,
          0.0027,
          0.0025,
          0.0024,
          0.0015,
          0.0015,
          0.0014,
          0.0013,
          0.0012,
          0.0008,
          0.0007,
          0.0005,
          0.0003,
          0.0003,
          0.0002,
          0.0001,
          0.0001,
          0.0001,
          0,
          0
         ],
         "textposition": "outside",
         "type": "bar",
         "uid": "d593ad9e-dd79-453c-af95-6e5e0f8bb98c",
         "x": [
          0.2897857564442261,
          0.16983338243553261,
          0.1392989072426573,
          0.10866435194486877,
          0.08159448498475005,
          0.07988964646771436,
          0.0763852183875505,
          0.008349720916892962,
          0.0071207972082347375,
          0.005300130132124027,
          0.004676615691576028,
          0.00455051555528935,
          0.0038090175698615547,
          0.0030710953139942974,
          0.0027492407459830913,
          0.0025189091337747267,
          0.002415683119524878,
          0.0015326288150698884,
          0.0015166008455897982,
          0.0014231058684013838,
          0.0013276749967616307,
          0.001168047809040566,
          0.0008397294030332522,
          0.000684402854861321,
          0.0005108425926997746,
          0.00031318659452261123,
          0.0002833913639576838,
          0.0001669312178233561,
          8.882370939973112e-05,
          6.575152491573942e-05,
          6.410318070356955e-05,
          1.3059286642456839e-06,
          0
         ],
         "y": [
          "url_extensions + url_length",
          "http_header_content-encoding_gzip / url_char_.",
          "a_href_out_of_domain / a_count",
          "url_char_z + url_extensions",
          "http_header_vary_user-agent / http_header_content-length",
          "url_char_. + url_char_z",
          "a_href_https / a_count",
          "url_char_. + url_char_w",
          "http_header_content-encoding_gzip / http_header_content-length",
          "url_char_y * url_extensions",
          "url_char_w + url_extensions",
          "http_header_server_apache + url_char_w",
          "url_char_w + url_length",
          "http_header_server_apache + url_char_.",
          "url_char_. + url_char_f",
          "url_char_w * url_length",
          "url_char_f + url_extensions",
          "url_char_p + url_extensions",
          "url_char_l + url_char_w",
          "url_char_.",
          "url_char_. + url_char_y",
          "url_char_y / url_char_z",
          "url_char_l + url_extensions",
          "url_char_. * url_char_z",
          "url_char_z * url_length",
          "http_header_vary_user-agent + url_char_.",
          "url_char_f + url_char_w",
          "url_char_w + url_char_z",
          "url_char_w + url_char_y",
          "http_header_vary_user-agent / url_char_z",
          "url_char_w * url_extensions",
          "url_char_. * url_char_w",
          "url_char_w"
         ]
        }
       ],
       "layout": {
        "autosize": false,
        "height": 1000,
        "width": 1000,
        "xaxis": {
         "tickfont": {
          "color": "black",
          "size": 12
         },
         "title": "Feature Importances"
        },
        "yaxis": {
         "automargin": true
        }
       }
      },
      "text/html": [
       "<div id=\"eeefb779-0812-429b-b5d6-2d894e364f46\" style=\"height: 1000px; width: 1000px;\" class=\"plotly-graph-div\"></div><script type=\"text/javascript\">require([\"plotly\"], function(Plotly) { window.PLOTLYENV=window.PLOTLYENV || {};window.PLOTLYENV.BASE_URL=\"https://plot.ly\";Plotly.newPlot(\"eeefb779-0812-429b-b5d6-2d894e364f46\", [{\"marker\": {\"color\": \"rgb(158,202,225)\", \"line\": {\"color\": \"rgb(8,48,107)\", \"width\": 1.5}}, \"opacity\": 0.6, \"orientation\": \"h\", \"text\": [0.2898, 0.1698, 0.1393, 0.1087, 0.0816, 0.0799, 0.0764, 0.0083, 0.0071, 0.0053, 0.0047, 0.0046, 0.0038, 0.0031, 0.0027, 0.0025, 0.0024, 0.0015, 0.0015, 0.0014, 0.0013, 0.0012, 0.0008, 0.0007, 0.0005, 0.0003, 0.0003, 0.0002, 0.0001, 0.0001, 0.0001, 0.0, 0.0], \"textposition\": \"outside\", \"x\": [0.2897857564442261, 0.16983338243553261, 0.1392989072426573, 0.10866435194486877, 0.08159448498475005, 0.07988964646771436, 0.0763852183875505, 0.008349720916892962, 0.0071207972082347375, 0.005300130132124027, 0.004676615691576028, 0.00455051555528935, 0.0038090175698615547, 0.0030710953139942974, 0.0027492407459830913, 0.0025189091337747267, 0.002415683119524878, 0.0015326288150698884, 0.0015166008455897982, 0.0014231058684013838, 0.0013276749967616307, 0.001168047809040566, 0.0008397294030332522, 0.000684402854861321, 0.0005108425926997746, 0.00031318659452261123, 0.0002833913639576838, 0.0001669312178233561, 8.882370939973112e-05, 6.575152491573942e-05, 6.410318070356955e-05, 1.3059286642456839e-06, 0.0], \"y\": [\"url_extensions + url_length\", \"http_header_content-encoding_gzip / url_char_.\", \"a_href_out_of_domain / a_count\", \"url_char_z + url_extensions\", \"http_header_vary_user-agent / http_header_content-length\", \"url_char_. + url_char_z\", \"a_href_https / a_count\", \"url_char_. + url_char_w\", \"http_header_content-encoding_gzip / http_header_content-length\", \"url_char_y * url_extensions\", \"url_char_w + url_extensions\", \"http_header_server_apache + url_char_w\", \"url_char_w + url_length\", \"http_header_server_apache + url_char_.\", \"url_char_. + url_char_f\", \"url_char_w * url_length\", \"url_char_f + url_extensions\", \"url_char_p + url_extensions\", \"url_char_l + url_char_w\", \"url_char_.\", \"url_char_. + url_char_y\", \"url_char_y / url_char_z\", \"url_char_l + url_extensions\", \"url_char_. * url_char_z\", \"url_char_z * url_length\", \"http_header_vary_user-agent + url_char_.\", \"url_char_f + url_char_w\", \"url_char_w + url_char_z\", \"url_char_w + url_char_y\", \"http_header_vary_user-agent / url_char_z\", \"url_char_w * url_extensions\", \"url_char_. * url_char_w\", \"url_char_w\"], \"type\": \"bar\", \"uid\": \"d593ad9e-dd79-453c-af95-6e5e0f8bb98c\"}], {\"autosize\": false, \"height\": 1000, \"width\": 1000, \"xaxis\": {\"tickfont\": {\"color\": \"black\", \"size\": 12}, \"title\": \"Feature Importances\"}, \"yaxis\": {\"automargin\": true}}, {\"showLink\": true, \"linkText\": \"Export to plot.ly\", \"plotlyServerURL\": \"https://plot.ly\"})});</script>"
      ],
      "text/vnd.plotly.v1+html": [
       "<div id=\"eeefb779-0812-429b-b5d6-2d894e364f46\" style=\"height: 1000px; width: 1000px;\" class=\"plotly-graph-div\"></div><script type=\"text/javascript\">require([\"plotly\"], function(Plotly) { window.PLOTLYENV=window.PLOTLYENV || {};window.PLOTLYENV.BASE_URL=\"https://plot.ly\";Plotly.newPlot(\"eeefb779-0812-429b-b5d6-2d894e364f46\", [{\"marker\": {\"color\": \"rgb(158,202,225)\", \"line\": {\"color\": \"rgb(8,48,107)\", \"width\": 1.5}}, \"opacity\": 0.6, \"orientation\": \"h\", \"text\": [0.2898, 0.1698, 0.1393, 0.1087, 0.0816, 0.0799, 0.0764, 0.0083, 0.0071, 0.0053, 0.0047, 0.0046, 0.0038, 0.0031, 0.0027, 0.0025, 0.0024, 0.0015, 0.0015, 0.0014, 0.0013, 0.0012, 0.0008, 0.0007, 0.0005, 0.0003, 0.0003, 0.0002, 0.0001, 0.0001, 0.0001, 0.0, 0.0], \"textposition\": \"outside\", \"x\": [0.2897857564442261, 0.16983338243553261, 0.1392989072426573, 0.10866435194486877, 0.08159448498475005, 0.07988964646771436, 0.0763852183875505, 0.008349720916892962, 0.0071207972082347375, 0.005300130132124027, 0.004676615691576028, 0.00455051555528935, 0.0038090175698615547, 0.0030710953139942974, 0.0027492407459830913, 0.0025189091337747267, 0.002415683119524878, 0.0015326288150698884, 0.0015166008455897982, 0.0014231058684013838, 0.0013276749967616307, 0.001168047809040566, 0.0008397294030332522, 0.000684402854861321, 0.0005108425926997746, 0.00031318659452261123, 0.0002833913639576838, 0.0001669312178233561, 8.882370939973112e-05, 6.575152491573942e-05, 6.410318070356955e-05, 1.3059286642456839e-06, 0.0], \"y\": [\"url_extensions + url_length\", \"http_header_content-encoding_gzip / url_char_.\", \"a_href_out_of_domain / a_count\", \"url_char_z + url_extensions\", \"http_header_vary_user-agent / http_header_content-length\", \"url_char_. + url_char_z\", \"a_href_https / a_count\", \"url_char_. + url_char_w\", \"http_header_content-encoding_gzip / http_header_content-length\", \"url_char_y * url_extensions\", \"url_char_w + url_extensions\", \"http_header_server_apache + url_char_w\", \"url_char_w + url_length\", \"http_header_server_apache + url_char_.\", \"url_char_. + url_char_f\", \"url_char_w * url_length\", \"url_char_f + url_extensions\", \"url_char_p + url_extensions\", \"url_char_l + url_char_w\", \"url_char_.\", \"url_char_. + url_char_y\", \"url_char_y / url_char_z\", \"url_char_l + url_extensions\", \"url_char_. * url_char_z\", \"url_char_z * url_length\", \"http_header_vary_user-agent + url_char_.\", \"url_char_f + url_char_w\", \"url_char_w + url_char_z\", \"url_char_w + url_char_y\", \"http_header_vary_user-agent / url_char_z\", \"url_char_w * url_extensions\", \"url_char_. * url_char_w\", \"url_char_w\"], \"type\": \"bar\", \"uid\": \"d593ad9e-dd79-453c-af95-6e5e0f8bb98c\"}], {\"autosize\": false, \"height\": 1000, \"width\": 1000, \"xaxis\": {\"tickfont\": {\"color\": \"black\", \"size\": 12}, \"title\": \"Feature Importances\"}, \"yaxis\": {\"automargin\": true}}, {\"showLink\": true, \"linkText\": \"Export to plot.ly\", \"plotlyServerURL\": \"https://plot.ly\"})});</script>"
      ]
     },
     "metadata": {},
     "output_type": "display_data"
    },
    {
     "name": "stdout",
     "output_type": "stream",
     "text": [
      "\n",
      "\n",
      "\u001b[1mExtraTree Classifier\u001b[0m\n",
      "Accuracy of the model for training data is: 0.9928220506603713\n",
      "Confusion Matrix for training data is:\n"
     ]
    },
    {
     "data": {
      "text/plain": [
       "Predicted  False  True  __all__\n",
       "Actual                         \n",
       "False      28182    21    28203\n",
       "True         204  2939     3143\n",
       "__all__    28386  2960    31346"
      ]
     },
     "metadata": {},
     "output_type": "display_data"
    },
    {
     "name": "stdout",
     "output_type": "stream",
     "text": [
      "Accuracy of the model for test data is: 0.9598060482327421\n",
      "Confusion Matrix for test data is:\n"
     ]
    },
    {
     "data": {
      "text/plain": [
       "Predicted  False  True  __all__\n",
       "Actual                         \n",
       "False       6468    71     6539\n",
       "True         244  1054     1298\n",
       "__all__     6712  1125     7837"
      ]
     },
     "metadata": {},
     "output_type": "display_data"
    },
    {
     "data": {
      "application/vnd.plotly.v1+json": {
       "config": {
        "linkText": "Export to plot.ly",
        "plotlyServerURL": "https://plot.ly",
        "showLink": true
       },
       "data": [
        {
         "marker": {
          "color": "rgb(158,202,225)",
          "line": {
           "color": "rgb(8,48,107)",
           "width": 1.5
          }
         },
         "opacity": 0.6,
         "orientation": "h",
         "text": [
          0.1661,
          0.1132,
          0.0679,
          0.0672,
          0.0461,
          0.0401,
          0.0378,
          0.0365,
          0.0364,
          0.0296,
          0.0282,
          0.0267,
          0.0262,
          0.0234,
          0.0219,
          0.0217,
          0.0208,
          0.0205,
          0.0202,
          0.0189,
          0.0154,
          0.0149,
          0.0148,
          0.0142,
          0.0138,
          0.013,
          0.0079,
          0.0078,
          0.0073,
          0.0067,
          0.0062,
          0.0044,
          0.0043
         ],
         "textposition": "outside",
         "type": "bar",
         "uid": "ac990cba-4bb5-4e36-833a-b3a991ed4842",
         "x": [
          0.16613109981719404,
          0.11316384239550892,
          0.06788329479644592,
          0.06720096278666779,
          0.04613243190615775,
          0.04011393914697177,
          0.03778620920794246,
          0.036494757380809865,
          0.036428940179849365,
          0.029636654727954924,
          0.02820409088227519,
          0.026671687086871308,
          0.026192822211440453,
          0.02335692576700397,
          0.02188450872722525,
          0.02170993832778797,
          0.02076192876999413,
          0.020494591679878105,
          0.020241611432154777,
          0.018931023958361434,
          0.015369661834251463,
          0.014945510179056173,
          0.014762171524978163,
          0.014180745157104994,
          0.013813262492571646,
          0.012986114085816791,
          0.007873919884448006,
          0.007835766371650281,
          0.0073194144634464555,
          0.006686270642727085,
          0.006156423392708571,
          0.004394272566849798,
          0.004255206215895203
         ],
         "y": [
          "a_href_out_of_domain / a_count",
          "http_header_content-encoding_gzip / url_char_.",
          "url_extensions + url_length",
          "url_char_w + url_length",
          "url_char_p + url_extensions",
          "a_href_https / a_count",
          "url_char_y / url_char_z",
          "url_char_f + url_extensions",
          "http_header_vary_user-agent / http_header_content-length",
          "url_char_z + url_extensions",
          "http_header_content-encoding_gzip / http_header_content-length",
          "url_char_l + url_extensions",
          "http_header_server_apache + url_char_.",
          "url_char_.",
          "url_char_w * url_extensions",
          "url_char_w + url_extensions",
          "url_char_. + url_char_f",
          "url_char_w * url_length",
          "url_char_l + url_char_w",
          "url_char_w + url_char_z",
          "url_char_. + url_char_y",
          "http_header_server_apache + url_char_w",
          "url_char_. + url_char_z",
          "url_char_y * url_extensions",
          "url_char_w + url_char_y",
          "http_header_vary_user-agent + url_char_.",
          "url_char_z * url_length",
          "url_char_f + url_char_w",
          "http_header_vary_user-agent / url_char_z",
          "url_char_w",
          "url_char_. * url_char_w",
          "url_char_. + url_char_w",
          "url_char_. * url_char_z"
         ]
        }
       ],
       "layout": {
        "autosize": false,
        "height": 1000,
        "width": 1000,
        "xaxis": {
         "tickfont": {
          "color": "black",
          "size": 12
         },
         "title": "Feature Importances"
        },
        "yaxis": {
         "automargin": true
        }
       }
      },
      "text/html": [
       "<div id=\"01df1cf0-4ade-4a47-9f5b-0ad2d1d5e022\" style=\"height: 1000px; width: 1000px;\" class=\"plotly-graph-div\"></div><script type=\"text/javascript\">require([\"plotly\"], function(Plotly) { window.PLOTLYENV=window.PLOTLYENV || {};window.PLOTLYENV.BASE_URL=\"https://plot.ly\";Plotly.newPlot(\"01df1cf0-4ade-4a47-9f5b-0ad2d1d5e022\", [{\"marker\": {\"color\": \"rgb(158,202,225)\", \"line\": {\"color\": \"rgb(8,48,107)\", \"width\": 1.5}}, \"opacity\": 0.6, \"orientation\": \"h\", \"text\": [0.1661, 0.1132, 0.0679, 0.0672, 0.0461, 0.0401, 0.0378, 0.0365, 0.0364, 0.0296, 0.0282, 0.0267, 0.0262, 0.0234, 0.0219, 0.0217, 0.0208, 0.0205, 0.0202, 0.0189, 0.0154, 0.0149, 0.0148, 0.0142, 0.0138, 0.013, 0.0079, 0.0078, 0.0073, 0.0067, 0.0062, 0.0044, 0.0043], \"textposition\": \"outside\", \"x\": [0.16613109981719404, 0.11316384239550892, 0.06788329479644592, 0.06720096278666779, 0.04613243190615775, 0.04011393914697177, 0.03778620920794246, 0.036494757380809865, 0.036428940179849365, 0.029636654727954924, 0.02820409088227519, 0.026671687086871308, 0.026192822211440453, 0.02335692576700397, 0.02188450872722525, 0.02170993832778797, 0.02076192876999413, 0.020494591679878105, 0.020241611432154777, 0.018931023958361434, 0.015369661834251463, 0.014945510179056173, 0.014762171524978163, 0.014180745157104994, 0.013813262492571646, 0.012986114085816791, 0.007873919884448006, 0.007835766371650281, 0.0073194144634464555, 0.006686270642727085, 0.006156423392708571, 0.004394272566849798, 0.004255206215895203], \"y\": [\"a_href_out_of_domain / a_count\", \"http_header_content-encoding_gzip / url_char_.\", \"url_extensions + url_length\", \"url_char_w + url_length\", \"url_char_p + url_extensions\", \"a_href_https / a_count\", \"url_char_y / url_char_z\", \"url_char_f + url_extensions\", \"http_header_vary_user-agent / http_header_content-length\", \"url_char_z + url_extensions\", \"http_header_content-encoding_gzip / http_header_content-length\", \"url_char_l + url_extensions\", \"http_header_server_apache + url_char_.\", \"url_char_.\", \"url_char_w * url_extensions\", \"url_char_w + url_extensions\", \"url_char_. + url_char_f\", \"url_char_w * url_length\", \"url_char_l + url_char_w\", \"url_char_w + url_char_z\", \"url_char_. + url_char_y\", \"http_header_server_apache + url_char_w\", \"url_char_. + url_char_z\", \"url_char_y * url_extensions\", \"url_char_w + url_char_y\", \"http_header_vary_user-agent + url_char_.\", \"url_char_z * url_length\", \"url_char_f + url_char_w\", \"http_header_vary_user-agent / url_char_z\", \"url_char_w\", \"url_char_. * url_char_w\", \"url_char_. + url_char_w\", \"url_char_. * url_char_z\"], \"type\": \"bar\", \"uid\": \"ac990cba-4bb5-4e36-833a-b3a991ed4842\"}], {\"autosize\": false, \"height\": 1000, \"width\": 1000, \"xaxis\": {\"tickfont\": {\"color\": \"black\", \"size\": 12}, \"title\": \"Feature Importances\"}, \"yaxis\": {\"automargin\": true}}, {\"showLink\": true, \"linkText\": \"Export to plot.ly\", \"plotlyServerURL\": \"https://plot.ly\"})});</script>"
      ],
      "text/vnd.plotly.v1+html": [
       "<div id=\"01df1cf0-4ade-4a47-9f5b-0ad2d1d5e022\" style=\"height: 1000px; width: 1000px;\" class=\"plotly-graph-div\"></div><script type=\"text/javascript\">require([\"plotly\"], function(Plotly) { window.PLOTLYENV=window.PLOTLYENV || {};window.PLOTLYENV.BASE_URL=\"https://plot.ly\";Plotly.newPlot(\"01df1cf0-4ade-4a47-9f5b-0ad2d1d5e022\", [{\"marker\": {\"color\": \"rgb(158,202,225)\", \"line\": {\"color\": \"rgb(8,48,107)\", \"width\": 1.5}}, \"opacity\": 0.6, \"orientation\": \"h\", \"text\": [0.1661, 0.1132, 0.0679, 0.0672, 0.0461, 0.0401, 0.0378, 0.0365, 0.0364, 0.0296, 0.0282, 0.0267, 0.0262, 0.0234, 0.0219, 0.0217, 0.0208, 0.0205, 0.0202, 0.0189, 0.0154, 0.0149, 0.0148, 0.0142, 0.0138, 0.013, 0.0079, 0.0078, 0.0073, 0.0067, 0.0062, 0.0044, 0.0043], \"textposition\": \"outside\", \"x\": [0.16613109981719404, 0.11316384239550892, 0.06788329479644592, 0.06720096278666779, 0.04613243190615775, 0.04011393914697177, 0.03778620920794246, 0.036494757380809865, 0.036428940179849365, 0.029636654727954924, 0.02820409088227519, 0.026671687086871308, 0.026192822211440453, 0.02335692576700397, 0.02188450872722525, 0.02170993832778797, 0.02076192876999413, 0.020494591679878105, 0.020241611432154777, 0.018931023958361434, 0.015369661834251463, 0.014945510179056173, 0.014762171524978163, 0.014180745157104994, 0.013813262492571646, 0.012986114085816791, 0.007873919884448006, 0.007835766371650281, 0.0073194144634464555, 0.006686270642727085, 0.006156423392708571, 0.004394272566849798, 0.004255206215895203], \"y\": [\"a_href_out_of_domain / a_count\", \"http_header_content-encoding_gzip / url_char_.\", \"url_extensions + url_length\", \"url_char_w + url_length\", \"url_char_p + url_extensions\", \"a_href_https / a_count\", \"url_char_y / url_char_z\", \"url_char_f + url_extensions\", \"http_header_vary_user-agent / http_header_content-length\", \"url_char_z + url_extensions\", \"http_header_content-encoding_gzip / http_header_content-length\", \"url_char_l + url_extensions\", \"http_header_server_apache + url_char_.\", \"url_char_.\", \"url_char_w * url_extensions\", \"url_char_w + url_extensions\", \"url_char_. + url_char_f\", \"url_char_w * url_length\", \"url_char_l + url_char_w\", \"url_char_w + url_char_z\", \"url_char_. + url_char_y\", \"http_header_server_apache + url_char_w\", \"url_char_. + url_char_z\", \"url_char_y * url_extensions\", \"url_char_w + url_char_y\", \"http_header_vary_user-agent + url_char_.\", \"url_char_z * url_length\", \"url_char_f + url_char_w\", \"http_header_vary_user-agent / url_char_z\", \"url_char_w\", \"url_char_. * url_char_w\", \"url_char_. + url_char_w\", \"url_char_. * url_char_z\"], \"type\": \"bar\", \"uid\": \"ac990cba-4bb5-4e36-833a-b3a991ed4842\"}], {\"autosize\": false, \"height\": 1000, \"width\": 1000, \"xaxis\": {\"tickfont\": {\"color\": \"black\", \"size\": 12}, \"title\": \"Feature Importances\"}, \"yaxis\": {\"automargin\": true}}, {\"showLink\": true, \"linkText\": \"Export to plot.ly\", \"plotlyServerURL\": \"https://plot.ly\"})});</script>"
      ]
     },
     "metadata": {},
     "output_type": "display_data"
    },
    {
     "name": "stdout",
     "output_type": "stream",
     "text": [
      "\n",
      "\n",
      "\u001b[1mXGB Classifier\u001b[0m\n",
      "Accuracy of the model for training data is: 0.9757863842276526\n",
      "Confusion Matrix for training data is:\n"
     ]
    },
    {
     "data": {
      "text/plain": [
       "Predicted  False  True  __all__\n",
       "Actual                         \n",
       "False      28012   191    28203\n",
       "True         568  2575     3143\n",
       "__all__    28580  2766    31346"
      ]
     },
     "metadata": {},
     "output_type": "display_data"
    },
    {
     "name": "stdout",
     "output_type": "stream",
     "text": [
      "Accuracy of the model for test data is: 0.9589128493045809\n",
      "Confusion Matrix for test data is:\n"
     ]
    },
    {
     "data": {
      "text/plain": [
       "Predicted  False  True  __all__\n",
       "Actual                         \n",
       "False       6492    47     6539\n",
       "True         275  1023     1298\n",
       "__all__     6767  1070     7837"
      ]
     },
     "metadata": {},
     "output_type": "display_data"
    },
    {
     "data": {
      "application/vnd.plotly.v1+json": {
       "config": {
        "linkText": "Export to plot.ly",
        "plotlyServerURL": "https://plot.ly",
        "showLink": true
       },
       "data": [
        {
         "marker": {
          "color": "rgb(158,202,225)",
          "line": {
           "color": "rgb(8,48,107)",
           "width": 1.5
          }
         },
         "opacity": 0.6,
         "orientation": "h",
         "text": [
          0.1273,
          0.1212,
          0.1091,
          0.103,
          0.05,
          0.0455,
          0.0455,
          0.0439,
          0.0394,
          0.0288,
          0.0288,
          0.0273,
          0.0227,
          0.0212,
          0.0212,
          0.0182,
          0.0182,
          0.0182,
          0.0167,
          0.0167,
          0.0136,
          0.0121,
          0.0106,
          0.0106,
          0.0091,
          0.0076,
          0.0076,
          0.0045,
          0.0015,
          0,
          0,
          0,
          0
         ],
         "textposition": "outside",
         "type": "bar",
         "uid": "dffc2ed0-062e-477f-86ef-ecc05c031df7",
         "x": [
          0.12727272510528564,
          0.12121212482452393,
          0.1090909093618393,
          0.10303030163049698,
          0.05000000074505806,
          0.04545454680919647,
          0.04545454680919647,
          0.043939393013715744,
          0.039393939077854156,
          0.028787879273295403,
          0.028787879273295403,
          0.027272727340459824,
          0.022727273404598236,
          0.021212121471762657,
          0.021212121471762657,
          0.0181818176060915,
          0.0181818176060915,
          0.0181818176060915,
          0.01666666753590107,
          0.01666666753590107,
          0.013636363670229912,
          0.012121211737394333,
          0.010606060735881329,
          0.010606060735881329,
          0.00909090880304575,
          0.007575757801532745,
          0.007575757801532745,
          0.004545454401522875,
          0.0015151514671742916,
          0,
          0,
          0,
          0
         ],
         "y": [
          "a_href_https / a_count",
          "a_href_out_of_domain / a_count",
          "url_extensions + url_length",
          "http_header_content-encoding_gzip / url_char_.",
          "url_char_w + url_length",
          "http_header_content-encoding_gzip / http_header_content-length",
          "http_header_server_apache + url_char_w",
          "http_header_vary_user-agent / http_header_content-length",
          "url_char_p + url_extensions",
          "url_char_y * url_extensions",
          "url_char_z + url_extensions",
          "http_header_server_apache + url_char_.",
          "url_char_. + url_char_f",
          "url_char_f + url_extensions",
          "url_char_l + url_char_w",
          "http_header_vary_user-agent + url_char_.",
          "http_header_vary_user-agent / url_char_z",
          "url_char_.",
          "url_char_y / url_char_z",
          "url_char_. * url_char_z",
          "url_char_w + url_extensions",
          "url_char_w * url_length",
          "url_char_l + url_extensions",
          "url_char_. + url_char_z",
          "url_char_. + url_char_w",
          "url_char_. + url_char_y",
          "url_char_z * url_length",
          "url_char_w + url_char_y",
          "url_char_w + url_char_z",
          "url_char_. * url_char_w",
          "url_char_f + url_char_w",
          "url_char_w",
          "url_char_w * url_extensions"
         ]
        }
       ],
       "layout": {
        "autosize": false,
        "height": 1000,
        "width": 1000,
        "xaxis": {
         "tickfont": {
          "color": "black",
          "size": 12
         },
         "title": "Feature Importances"
        },
        "yaxis": {
         "automargin": true
        }
       }
      },
      "text/html": [
       "<div id=\"3dece98a-b70d-4ba8-9c16-917ed7c9bc95\" style=\"height: 1000px; width: 1000px;\" class=\"plotly-graph-div\"></div><script type=\"text/javascript\">require([\"plotly\"], function(Plotly) { window.PLOTLYENV=window.PLOTLYENV || {};window.PLOTLYENV.BASE_URL=\"https://plot.ly\";Plotly.newPlot(\"3dece98a-b70d-4ba8-9c16-917ed7c9bc95\", [{\"marker\": {\"color\": \"rgb(158,202,225)\", \"line\": {\"color\": \"rgb(8,48,107)\", \"width\": 1.5}}, \"opacity\": 0.6, \"orientation\": \"h\", \"text\": [0.1273, 0.1212, 0.1091, 0.103, 0.05, 0.0455, 0.0455, 0.0439, 0.0394, 0.0288, 0.0288, 0.0273, 0.0227, 0.0212, 0.0212, 0.0182, 0.0182, 0.0182, 0.0167, 0.0167, 0.0136, 0.0121, 0.0106, 0.0106, 0.0091, 0.0076, 0.0076, 0.0045, 0.0015, 0.0, 0.0, 0.0, 0.0], \"textposition\": \"outside\", \"x\": [0.12727272510528564, 0.12121212482452393, 0.1090909093618393, 0.10303030163049698, 0.05000000074505806, 0.04545454680919647, 0.04545454680919647, 0.043939393013715744, 0.039393939077854156, 0.028787879273295403, 0.028787879273295403, 0.027272727340459824, 0.022727273404598236, 0.021212121471762657, 0.021212121471762657, 0.0181818176060915, 0.0181818176060915, 0.0181818176060915, 0.01666666753590107, 0.01666666753590107, 0.013636363670229912, 0.012121211737394333, 0.010606060735881329, 0.010606060735881329, 0.00909090880304575, 0.007575757801532745, 0.007575757801532745, 0.004545454401522875, 0.0015151514671742916, 0.0, 0.0, 0.0, 0.0], \"y\": [\"a_href_https / a_count\", \"a_href_out_of_domain / a_count\", \"url_extensions + url_length\", \"http_header_content-encoding_gzip / url_char_.\", \"url_char_w + url_length\", \"http_header_content-encoding_gzip / http_header_content-length\", \"http_header_server_apache + url_char_w\", \"http_header_vary_user-agent / http_header_content-length\", \"url_char_p + url_extensions\", \"url_char_y * url_extensions\", \"url_char_z + url_extensions\", \"http_header_server_apache + url_char_.\", \"url_char_. + url_char_f\", \"url_char_f + url_extensions\", \"url_char_l + url_char_w\", \"http_header_vary_user-agent + url_char_.\", \"http_header_vary_user-agent / url_char_z\", \"url_char_.\", \"url_char_y / url_char_z\", \"url_char_. * url_char_z\", \"url_char_w + url_extensions\", \"url_char_w * url_length\", \"url_char_l + url_extensions\", \"url_char_. + url_char_z\", \"url_char_. + url_char_w\", \"url_char_. + url_char_y\", \"url_char_z * url_length\", \"url_char_w + url_char_y\", \"url_char_w + url_char_z\", \"url_char_. * url_char_w\", \"url_char_f + url_char_w\", \"url_char_w\", \"url_char_w * url_extensions\"], \"type\": \"bar\", \"uid\": \"dffc2ed0-062e-477f-86ef-ecc05c031df7\"}], {\"autosize\": false, \"height\": 1000, \"width\": 1000, \"xaxis\": {\"tickfont\": {\"color\": \"black\", \"size\": 12}, \"title\": \"Feature Importances\"}, \"yaxis\": {\"automargin\": true}}, {\"showLink\": true, \"linkText\": \"Export to plot.ly\", \"plotlyServerURL\": \"https://plot.ly\"})});</script>"
      ],
      "text/vnd.plotly.v1+html": [
       "<div id=\"3dece98a-b70d-4ba8-9c16-917ed7c9bc95\" style=\"height: 1000px; width: 1000px;\" class=\"plotly-graph-div\"></div><script type=\"text/javascript\">require([\"plotly\"], function(Plotly) { window.PLOTLYENV=window.PLOTLYENV || {};window.PLOTLYENV.BASE_URL=\"https://plot.ly\";Plotly.newPlot(\"3dece98a-b70d-4ba8-9c16-917ed7c9bc95\", [{\"marker\": {\"color\": \"rgb(158,202,225)\", \"line\": {\"color\": \"rgb(8,48,107)\", \"width\": 1.5}}, \"opacity\": 0.6, \"orientation\": \"h\", \"text\": [0.1273, 0.1212, 0.1091, 0.103, 0.05, 0.0455, 0.0455, 0.0439, 0.0394, 0.0288, 0.0288, 0.0273, 0.0227, 0.0212, 0.0212, 0.0182, 0.0182, 0.0182, 0.0167, 0.0167, 0.0136, 0.0121, 0.0106, 0.0106, 0.0091, 0.0076, 0.0076, 0.0045, 0.0015, 0.0, 0.0, 0.0, 0.0], \"textposition\": \"outside\", \"x\": [0.12727272510528564, 0.12121212482452393, 0.1090909093618393, 0.10303030163049698, 0.05000000074505806, 0.04545454680919647, 0.04545454680919647, 0.043939393013715744, 0.039393939077854156, 0.028787879273295403, 0.028787879273295403, 0.027272727340459824, 0.022727273404598236, 0.021212121471762657, 0.021212121471762657, 0.0181818176060915, 0.0181818176060915, 0.0181818176060915, 0.01666666753590107, 0.01666666753590107, 0.013636363670229912, 0.012121211737394333, 0.010606060735881329, 0.010606060735881329, 0.00909090880304575, 0.007575757801532745, 0.007575757801532745, 0.004545454401522875, 0.0015151514671742916, 0.0, 0.0, 0.0, 0.0], \"y\": [\"a_href_https / a_count\", \"a_href_out_of_domain / a_count\", \"url_extensions + url_length\", \"http_header_content-encoding_gzip / url_char_.\", \"url_char_w + url_length\", \"http_header_content-encoding_gzip / http_header_content-length\", \"http_header_server_apache + url_char_w\", \"http_header_vary_user-agent / http_header_content-length\", \"url_char_p + url_extensions\", \"url_char_y * url_extensions\", \"url_char_z + url_extensions\", \"http_header_server_apache + url_char_.\", \"url_char_. + url_char_f\", \"url_char_f + url_extensions\", \"url_char_l + url_char_w\", \"http_header_vary_user-agent + url_char_.\", \"http_header_vary_user-agent / url_char_z\", \"url_char_.\", \"url_char_y / url_char_z\", \"url_char_. * url_char_z\", \"url_char_w + url_extensions\", \"url_char_w * url_length\", \"url_char_l + url_extensions\", \"url_char_. + url_char_z\", \"url_char_. + url_char_w\", \"url_char_. + url_char_y\", \"url_char_z * url_length\", \"url_char_w + url_char_y\", \"url_char_w + url_char_z\", \"url_char_. * url_char_w\", \"url_char_f + url_char_w\", \"url_char_w\", \"url_char_w * url_extensions\"], \"type\": \"bar\", \"uid\": \"dffc2ed0-062e-477f-86ef-ecc05c031df7\"}], {\"autosize\": false, \"height\": 1000, \"width\": 1000, \"xaxis\": {\"tickfont\": {\"color\": \"black\", \"size\": 12}, \"title\": \"Feature Importances\"}, \"yaxis\": {\"automargin\": true}}, {\"showLink\": true, \"linkText\": \"Export to plot.ly\", \"plotlyServerURL\": \"https://plot.ly\"})});</script>"
      ]
     },
     "metadata": {},
     "output_type": "display_data"
    },
    {
     "name": "stdout",
     "output_type": "stream",
     "text": [
      "\n",
      "\n",
      "\u001b[1mBagging Classifier\u001b[0m\n",
      "Accuracy of the model for training data is: 0.9906527148599502\n",
      "Confusion Matrix for training data is:\n"
     ]
    },
    {
     "data": {
      "text/plain": [
       "Predicted  False  True  __all__\n",
       "Actual                         \n",
       "False      28143    60    28203\n",
       "True         233  2910     3143\n",
       "__all__    28376  2970    31346"
      ]
     },
     "metadata": {},
     "output_type": "display_data"
    },
    {
     "name": "stdout",
     "output_type": "stream",
     "text": [
      "Accuracy of the model for test data is: 0.9432180681383182\n",
      "Confusion Matrix for test data is:\n"
     ]
    },
    {
     "data": {
      "text/plain": [
       "Predicted  False  True  __all__\n",
       "Actual                         \n",
       "False       6465    74     6539\n",
       "True         371   927     1298\n",
       "__all__     6836  1001     7837"
      ]
     },
     "metadata": {},
     "output_type": "display_data"
    },
    {
     "name": "stdout",
     "output_type": "stream",
     "text": [
      "\n",
      "\n",
      "\u001b[1mNeural Network-1\u001b[0m\n",
      "The accuracy of the model on training data is: 0.9841766094557519\n"
     ]
    },
    {
     "data": {
      "text/plain": [
       "Predicted  False  True  __all__\n",
       "Actual                         \n",
       "False      28116    87    28203\n",
       "True         409  2734     3143\n",
       "__all__    28525  2821    31346"
      ]
     },
     "metadata": {},
     "output_type": "display_data"
    },
    {
     "name": "stdout",
     "output_type": "stream",
     "text": [
      "The accuracy of the model on test data is: 0.9651652418017098\n"
     ]
    },
    {
     "data": {
      "text/plain": [
       "Predicted  False  True  __all__\n",
       "Actual                         \n",
       "False       6481    58     6539\n",
       "True         215  1083     1298\n",
       "__all__     6696  1141     7837"
      ]
     },
     "metadata": {},
     "output_type": "display_data"
    },
    {
     "name": "stdout",
     "output_type": "stream",
     "text": [
      "\n",
      "\n"
     ]
    }
   ],
   "source": [
    "table_80_50_train=pd.DataFrame(columns=['accuracy','TP','TN','FP','FN','FPR','FNR'])\n",
    "table_80_50_test=pd.DataFrame(columns=['accuracy','TP','TN','FP','FN','FPR','FNR','auc','MCC','Precision','Recall'])\n",
    "\n",
    "feat_imp=[None]*5\n",
    "j=0\n",
    "for i in range(0,8):\n",
    "    if i>=1 and i<=5:\n",
    "        model,cm_train,cm_test,acc_train,acc_test,roc_auc,feat_imp[j],mcc,prec,rec=f[i](scaled_X_train,train_Y,scaled_X_test,test_Y,feature_name)\n",
    "        j=j+1\n",
    "    else:\n",
    "        model,cm_train,cm_test,acc_train,acc_test,roc_auc,mcc,prec,rec=f[i](scaled_X_train,train_Y,scaled_X_test,test_Y)\n",
    "    table_80_50_train.loc[i]=   ([acc_train,cm_train.TP,cm_train.TN,cm_train.FP,cm_train.FN,cm_train.FPR,cm_train.FNR])\n",
    "    table_80_50_test.loc[i] =   ([acc_test ,cm_test.TP, cm_test.TN, cm_test.FP, cm_test.FN, cm_test.FPR, cm_test.FNR,roc_auc,mcc,prec,rec])\n",
    "    print(\"\\n\")"
   ]
  },
  {
   "cell_type": "markdown",
   "metadata": {},
   "source": [
    "### <a id='4.A' style=\"text-decoration : none; color : #000000;\"> A. Results</a>"
   ]
  },
  {
   "cell_type": "code",
   "execution_count": 50,
   "metadata": {},
   "outputs": [
    {
     "data": {
      "application/vnd.plotly.v1+json": {
       "config": {
        "linkText": "Export to plot.ly",
        "plotlyServerURL": "https://plot.ly",
        "showLink": true
       },
       "data": [
        {
         "mode": "lines",
         "name": "KNN_model",
         "type": "scatter",
         "uid": "5c0259de-a712-4d17-b03f-90b72f687fa3",
         "x": [
          "accuracy",
          "auc",
          "MCC",
          "Precision",
          "Recall"
         ],
         "y": [
          0.9714176342988389,
          0.9418090838635369,
          0.8953995802628483,
          0.927547770700637,
          0.8975346687211094
         ]
        },
        {
         "mode": "lines+markers",
         "name": "XGB",
         "type": "scatter",
         "uid": "eaf6c5c3-eaa4-4cee-bd8f-b02af2182300",
         "x": [
          "accuracy",
          "auc",
          "MCC",
          "Precision",
          "Recall"
         ],
         "y": [
          0.9589128493045809,
          0.8904739749248965,
          0.8455224181631099,
          0.9560747663551402,
          0.788135593220339
         ]
        },
        {
         "marker": {
          "symbol": "x"
         },
         "mode": "lines+markers",
         "name": "Random Forest",
         "type": "scatter",
         "uid": "b0768777-cc2c-4f6c-b3b9-a5565783a433",
         "x": [
          "accuracy",
          "auc",
          "MCC",
          "Precision",
          "Recall"
         ],
         "y": [
          0.9575092509888988,
          0.892411561212316,
          0.8402343944034691,
          0.9390354868061874,
          0.7950693374422187
         ]
        },
        {
         "mode": "lines",
         "name": "Ada Boost",
         "type": "scatter",
         "uid": "9919693f-5186-493d-8bd7-142fe4477888",
         "x": [
          "accuracy",
          "auc",
          "MCC",
          "Precision",
          "Recall"
         ],
         "y": [
          0.9572540512951384,
          0.8934936075145666,
          0.8393670710669925,
          0.9341749323715058,
          0.7981510015408321
         ]
        },
        {
         "mode": "lines+markers",
         "name": "GradientBoosting",
         "type": "scatter",
         "uid": "752bfb07-4996-4e71-b4f2-41fbeee89ebe",
         "x": [
          "accuracy",
          "auc",
          "MCC",
          "Precision",
          "Recall"
         ],
         "y": [
          0.9552124537450555,
          0.8799204300097248,
          0.8309189714829723,
          0.9531100478468899,
          0.7673343605546995
         ]
        },
        {
         "marker": {
          "symbol": "x"
         },
         "mode": "lines+markers",
         "name": "ExtraTree Classifier",
         "type": "scatter",
         "uid": "a4856c6c-ea46-4920-9fcc-5ce03b046bb6",
         "x": [
          "accuracy",
          "auc",
          "MCC",
          "Precision",
          "Recall"
         ],
         "y": [
          0.9598060482327421,
          0.9005802803187983,
          0.8493962544564765,
          0.9368888888888889,
          0.8120184899845917
         ]
        },
        {
         "marker": {
          "symbol": "x"
         },
         "mode": "lines+markers",
         "name": "Bagging",
         "type": "scatter",
         "uid": "8b4ecea2-d618-441a-8a7f-ab5f75ebed99",
         "x": [
          "accuracy",
          "auc",
          "MCC",
          "Precision",
          "Recall"
         ],
         "y": [
          0.9432180681383182,
          0.8514294698797851,
          0.7827861305598682,
          0.926073926073926,
          0.714175654853621
         ]
        },
        {
         "marker": {
          "symbol": "x"
         },
         "mode": "lines+markers",
         "name": "Neural Network",
         "type": "scatter",
         "uid": "1631763c-743a-4f48-86a2-aeca61826f8c",
         "x": [
          "accuracy",
          "auc",
          "MCC",
          "Precision",
          "Recall"
         ],
         "y": [
          0.9651652418017098,
          0.8514294698797851,
          0.8700709195642989,
          0.9491673970201577,
          0.8343605546995377
         ]
        }
       ],
       "layout": {
        "title": "Result comparision for Features selected in Section 1",
        "yaxis": {
         "dtick": 0.05,
         "tick0": 0
        }
       }
      },
      "text/html": [
       "<div id=\"cc185d6e-f8ec-483f-ae8c-205690de7fcf\" style=\"height: 525px; width: 100%;\" class=\"plotly-graph-div\"></div><script type=\"text/javascript\">require([\"plotly\"], function(Plotly) { window.PLOTLYENV=window.PLOTLYENV || {};window.PLOTLYENV.BASE_URL=\"https://plot.ly\";Plotly.newPlot(\"cc185d6e-f8ec-483f-ae8c-205690de7fcf\", [{\"mode\": \"lines\", \"name\": \"KNN_model\", \"x\": [\"accuracy\", \"auc\", \"MCC\", \"Precision\", \"Recall\"], \"y\": [0.9714176342988389, 0.9418090838635369, 0.8953995802628483, 0.927547770700637, 0.8975346687211094], \"type\": \"scatter\", \"uid\": \"5c0259de-a712-4d17-b03f-90b72f687fa3\"}, {\"mode\": \"lines+markers\", \"name\": \"XGB\", \"x\": [\"accuracy\", \"auc\", \"MCC\", \"Precision\", \"Recall\"], \"y\": [0.9589128493045809, 0.8904739749248965, 0.8455224181631099, 0.9560747663551402, 0.788135593220339], \"type\": \"scatter\", \"uid\": \"eaf6c5c3-eaa4-4cee-bd8f-b02af2182300\"}, {\"marker\": {\"symbol\": \"x\"}, \"mode\": \"lines+markers\", \"name\": \"Random Forest\", \"x\": [\"accuracy\", \"auc\", \"MCC\", \"Precision\", \"Recall\"], \"y\": [0.9575092509888988, 0.892411561212316, 0.8402343944034691, 0.9390354868061874, 0.7950693374422187], \"type\": \"scatter\", \"uid\": \"b0768777-cc2c-4f6c-b3b9-a5565783a433\"}, {\"mode\": \"lines\", \"name\": \"Ada Boost\", \"x\": [\"accuracy\", \"auc\", \"MCC\", \"Precision\", \"Recall\"], \"y\": [0.9572540512951384, 0.8934936075145666, 0.8393670710669925, 0.9341749323715058, 0.7981510015408321], \"type\": \"scatter\", \"uid\": \"9919693f-5186-493d-8bd7-142fe4477888\"}, {\"mode\": \"lines+markers\", \"name\": \"GradientBoosting\", \"x\": [\"accuracy\", \"auc\", \"MCC\", \"Precision\", \"Recall\"], \"y\": [0.9552124537450555, 0.8799204300097248, 0.8309189714829723, 0.9531100478468899, 0.7673343605546995], \"type\": \"scatter\", \"uid\": \"752bfb07-4996-4e71-b4f2-41fbeee89ebe\"}, {\"marker\": {\"symbol\": \"x\"}, \"mode\": \"lines+markers\", \"name\": \"ExtraTree Classifier\", \"x\": [\"accuracy\", \"auc\", \"MCC\", \"Precision\", \"Recall\"], \"y\": [0.9598060482327421, 0.9005802803187983, 0.8493962544564765, 0.9368888888888889, 0.8120184899845917], \"type\": \"scatter\", \"uid\": \"a4856c6c-ea46-4920-9fcc-5ce03b046bb6\"}, {\"marker\": {\"symbol\": \"x\"}, \"mode\": \"lines+markers\", \"name\": \"Bagging\", \"x\": [\"accuracy\", \"auc\", \"MCC\", \"Precision\", \"Recall\"], \"y\": [0.9432180681383182, 0.8514294698797851, 0.7827861305598682, 0.926073926073926, 0.714175654853621], \"type\": \"scatter\", \"uid\": \"8b4ecea2-d618-441a-8a7f-ab5f75ebed99\"}, {\"marker\": {\"symbol\": \"x\"}, \"mode\": \"lines+markers\", \"name\": \"Neural Network\", \"x\": [\"accuracy\", \"auc\", \"MCC\", \"Precision\", \"Recall\"], \"y\": [0.9651652418017098, 0.8514294698797851, 0.8700709195642989, 0.9491673970201577, 0.8343605546995377], \"type\": \"scatter\", \"uid\": \"1631763c-743a-4f48-86a2-aeca61826f8c\"}], {\"title\": \"Result comparision for Features selected in Section 1\", \"yaxis\": {\"dtick\": 0.05, \"tick0\": 0}}, {\"showLink\": true, \"linkText\": \"Export to plot.ly\", \"plotlyServerURL\": \"https://plot.ly\"})});</script><script type=\"text/javascript\">window.addEventListener(\"resize\", function(){window._Plotly.Plots.resize(document.getElementById(\"cc185d6e-f8ec-483f-ae8c-205690de7fcf\"));});</script>"
      ],
      "text/vnd.plotly.v1+html": [
       "<div id=\"cc185d6e-f8ec-483f-ae8c-205690de7fcf\" style=\"height: 525px; width: 100%;\" class=\"plotly-graph-div\"></div><script type=\"text/javascript\">require([\"plotly\"], function(Plotly) { window.PLOTLYENV=window.PLOTLYENV || {};window.PLOTLYENV.BASE_URL=\"https://plot.ly\";Plotly.newPlot(\"cc185d6e-f8ec-483f-ae8c-205690de7fcf\", [{\"mode\": \"lines\", \"name\": \"KNN_model\", \"x\": [\"accuracy\", \"auc\", \"MCC\", \"Precision\", \"Recall\"], \"y\": [0.9714176342988389, 0.9418090838635369, 0.8953995802628483, 0.927547770700637, 0.8975346687211094], \"type\": \"scatter\", \"uid\": \"5c0259de-a712-4d17-b03f-90b72f687fa3\"}, {\"mode\": \"lines+markers\", \"name\": \"XGB\", \"x\": [\"accuracy\", \"auc\", \"MCC\", \"Precision\", \"Recall\"], \"y\": [0.9589128493045809, 0.8904739749248965, 0.8455224181631099, 0.9560747663551402, 0.788135593220339], \"type\": \"scatter\", \"uid\": \"eaf6c5c3-eaa4-4cee-bd8f-b02af2182300\"}, {\"marker\": {\"symbol\": \"x\"}, \"mode\": \"lines+markers\", \"name\": \"Random Forest\", \"x\": [\"accuracy\", \"auc\", \"MCC\", \"Precision\", \"Recall\"], \"y\": [0.9575092509888988, 0.892411561212316, 0.8402343944034691, 0.9390354868061874, 0.7950693374422187], \"type\": \"scatter\", \"uid\": \"b0768777-cc2c-4f6c-b3b9-a5565783a433\"}, {\"mode\": \"lines\", \"name\": \"Ada Boost\", \"x\": [\"accuracy\", \"auc\", \"MCC\", \"Precision\", \"Recall\"], \"y\": [0.9572540512951384, 0.8934936075145666, 0.8393670710669925, 0.9341749323715058, 0.7981510015408321], \"type\": \"scatter\", \"uid\": \"9919693f-5186-493d-8bd7-142fe4477888\"}, {\"mode\": \"lines+markers\", \"name\": \"GradientBoosting\", \"x\": [\"accuracy\", \"auc\", \"MCC\", \"Precision\", \"Recall\"], \"y\": [0.9552124537450555, 0.8799204300097248, 0.8309189714829723, 0.9531100478468899, 0.7673343605546995], \"type\": \"scatter\", \"uid\": \"752bfb07-4996-4e71-b4f2-41fbeee89ebe\"}, {\"marker\": {\"symbol\": \"x\"}, \"mode\": \"lines+markers\", \"name\": \"ExtraTree Classifier\", \"x\": [\"accuracy\", \"auc\", \"MCC\", \"Precision\", \"Recall\"], \"y\": [0.9598060482327421, 0.9005802803187983, 0.8493962544564765, 0.9368888888888889, 0.8120184899845917], \"type\": \"scatter\", \"uid\": \"a4856c6c-ea46-4920-9fcc-5ce03b046bb6\"}, {\"marker\": {\"symbol\": \"x\"}, \"mode\": \"lines+markers\", \"name\": \"Bagging\", \"x\": [\"accuracy\", \"auc\", \"MCC\", \"Precision\", \"Recall\"], \"y\": [0.9432180681383182, 0.8514294698797851, 0.7827861305598682, 0.926073926073926, 0.714175654853621], \"type\": \"scatter\", \"uid\": \"8b4ecea2-d618-441a-8a7f-ab5f75ebed99\"}, {\"marker\": {\"symbol\": \"x\"}, \"mode\": \"lines+markers\", \"name\": \"Neural Network\", \"x\": [\"accuracy\", \"auc\", \"MCC\", \"Precision\", \"Recall\"], \"y\": [0.9651652418017098, 0.8514294698797851, 0.8700709195642989, 0.9491673970201577, 0.8343605546995377], \"type\": \"scatter\", \"uid\": \"1631763c-743a-4f48-86a2-aeca61826f8c\"}], {\"title\": \"Result comparision for Features selected in Section 1\", \"yaxis\": {\"dtick\": 0.05, \"tick0\": 0}}, {\"showLink\": true, \"linkText\": \"Export to plot.ly\", \"plotlyServerURL\": \"https://plot.ly\"})});</script><script type=\"text/javascript\">window.addEventListener(\"resize\", function(){window._Plotly.Plots.resize(document.getElementById(\"cc185d6e-f8ec-483f-ae8c-205690de7fcf\"));});</script>"
      ]
     },
     "metadata": {},
     "output_type": "display_data"
    }
   ],
   "source": [
    "trace0 = go.Scatter(x=table_80_50_test.iloc[0].index.values[[0,7,8,9,10]],\n",
    "                    y=table_80_50_test.iloc[0].values[[0,7,8,9,10]],\n",
    "                    mode = 'lines',\n",
    "                    name = 'KNN_model')\n",
    "\n",
    "\n",
    "trace2 = go.Scatter(x=table_80_50_test.iloc[1].index.values[[0,7,8,9,10]],\n",
    "                    y=table_80_50_test.iloc[1].values[[0,7,8,9,10]],\n",
    "                    mode = 'lines+markers',marker=dict(symbol='x'),\n",
    "                    name = 'Random Forest')\n",
    "\n",
    "\n",
    "trace3 = go.Scatter(x=table_80_50_test.iloc[2].index.values[[0,7,8,9,10]],\n",
    "                    y=table_80_50_test.iloc[2].values[[0,7,8,9,10]],\n",
    "                    mode = 'lines',\n",
    "                    name = 'Ada Boost')\n",
    "\n",
    "trace4 = go.Scatter(x=table_80_50_test.iloc[3].index.values[[0,7,8,9,10]],\n",
    "                    y=table_80_50_test.iloc[3].values[[0,7,8,9,10]],\n",
    "                    mode = 'lines+markers',\n",
    "                    name = 'GradientBoosting')\n",
    "\n",
    "trace5 = go.Scatter(x=table_80_50_test.iloc[4].index.values[[0,7,8,9,10]],\n",
    "                    y=table_80_50_test.iloc[4].values[[0,7,8,9,10]],\n",
    "                    mode = 'lines+markers',marker=dict(symbol='x'),\n",
    "                    name = 'ExtraTree Classifier')\n",
    "\n",
    "\n",
    "trace1 = go.Scatter(x=table_80_50_test.iloc[5].index.values[[0,7,8,9,10]],\n",
    "                    y=table_80_50_test.iloc[5].values[[0,7,8,9,10]],\n",
    "                    mode = 'lines+markers',\n",
    "                    name = 'XGB')\n",
    "\n",
    "\n",
    "trace6 = go.Scatter(x=table_80_50_test.iloc[6].index.values[[0,7,8,9,10]],\n",
    "                    y=table_80_50_test.iloc[6].values[[0,7,8,9,10]],\n",
    "                    mode = 'lines+markers',marker=dict(symbol='x'),\n",
    "                    name = 'Bagging')\n",
    "\n",
    "trace7 = go.Scatter(x=table_80_50_test.iloc[7].index.values[[0,7,8,9,10]],\n",
    "                    y=table_80_50_test.iloc[7].values[[0,7,8,9,10]],\n",
    "                    mode = 'lines+markers',marker=dict(symbol='x'),\n",
    "                    name = 'Neural Network')\n",
    "\n",
    "\n",
    "\n",
    "data = [trace0, trace1, trace2, trace3, trace4, trace5, trace6, trace7]\n",
    "layout = go.Layout(yaxis=dict(tick0=0,dtick=0.05),title='Result comparision for Features selected in Section 1')\n",
    "fig = go.Figure(data=data, layout=layout)\n",
    "\n",
    "iplot(fig, filename='Result')"
   ]
  },
  {
   "cell_type": "code",
   "execution_count": 51,
   "metadata": {},
   "outputs": [
    {
     "name": "stdout",
     "output_type": "stream",
     "text": [
      "Training Results\n"
     ]
    },
    {
     "data": {
      "text/html": [
       "<div>\n",
       "<style scoped>\n",
       "    .dataframe tbody tr th:only-of-type {\n",
       "        vertical-align: middle;\n",
       "    }\n",
       "\n",
       "    .dataframe tbody tr th {\n",
       "        vertical-align: top;\n",
       "    }\n",
       "\n",
       "    .dataframe thead th {\n",
       "        text-align: right;\n",
       "    }\n",
       "</style>\n",
       "<table border=\"1\" class=\"dataframe\">\n",
       "  <thead>\n",
       "    <tr style=\"text-align: right;\">\n",
       "      <th></th>\n",
       "      <th>accuracy</th>\n",
       "      <th>TP</th>\n",
       "      <th>TN</th>\n",
       "      <th>FP</th>\n",
       "      <th>FN</th>\n",
       "      <th>FPR</th>\n",
       "      <th>FNR</th>\n",
       "    </tr>\n",
       "    <tr>\n",
       "      <th>index</th>\n",
       "      <th></th>\n",
       "      <th></th>\n",
       "      <th></th>\n",
       "      <th></th>\n",
       "      <th></th>\n",
       "      <th></th>\n",
       "      <th></th>\n",
       "    </tr>\n",
       "  </thead>\n",
       "  <tbody>\n",
       "    <tr>\n",
       "      <th>KNeighborsClassifier</th>\n",
       "      <td>0.977828</td>\n",
       "      <td>2639.0</td>\n",
       "      <td>28012.0</td>\n",
       "      <td>191.0</td>\n",
       "      <td>504.0</td>\n",
       "      <td>0.006772</td>\n",
       "      <td>0.160356</td>\n",
       "    </tr>\n",
       "    <tr>\n",
       "      <th>RandomForestClassifier</th>\n",
       "      <td>0.990748</td>\n",
       "      <td>2908.0</td>\n",
       "      <td>28148.0</td>\n",
       "      <td>55.0</td>\n",
       "      <td>235.0</td>\n",
       "      <td>0.001950</td>\n",
       "      <td>0.074769</td>\n",
       "    </tr>\n",
       "    <tr>\n",
       "      <th>AdaBoostClassifier</th>\n",
       "      <td>0.971862</td>\n",
       "      <td>2543.0</td>\n",
       "      <td>27921.0</td>\n",
       "      <td>282.0</td>\n",
       "      <td>600.0</td>\n",
       "      <td>0.009999</td>\n",
       "      <td>0.190900</td>\n",
       "    </tr>\n",
       "    <tr>\n",
       "      <th>GradientBoostingClassifier</th>\n",
       "      <td>0.976169</td>\n",
       "      <td>2595.0</td>\n",
       "      <td>28004.0</td>\n",
       "      <td>199.0</td>\n",
       "      <td>548.0</td>\n",
       "      <td>0.007056</td>\n",
       "      <td>0.174356</td>\n",
       "    </tr>\n",
       "    <tr>\n",
       "      <th>ExtraTreeClassifier</th>\n",
       "      <td>0.992822</td>\n",
       "      <td>2939.0</td>\n",
       "      <td>28182.0</td>\n",
       "      <td>21.0</td>\n",
       "      <td>204.0</td>\n",
       "      <td>0.000745</td>\n",
       "      <td>0.064906</td>\n",
       "    </tr>\n",
       "    <tr>\n",
       "      <th>XGB</th>\n",
       "      <td>0.975786</td>\n",
       "      <td>2575.0</td>\n",
       "      <td>28012.0</td>\n",
       "      <td>191.0</td>\n",
       "      <td>568.0</td>\n",
       "      <td>0.006772</td>\n",
       "      <td>0.180719</td>\n",
       "    </tr>\n",
       "    <tr>\n",
       "      <th>BaggingClassifier</th>\n",
       "      <td>0.990653</td>\n",
       "      <td>2910.0</td>\n",
       "      <td>28143.0</td>\n",
       "      <td>60.0</td>\n",
       "      <td>233.0</td>\n",
       "      <td>0.002127</td>\n",
       "      <td>0.074133</td>\n",
       "    </tr>\n",
       "    <tr>\n",
       "      <th>Neural Network-1</th>\n",
       "      <td>0.984177</td>\n",
       "      <td>2734.0</td>\n",
       "      <td>28116.0</td>\n",
       "      <td>87.0</td>\n",
       "      <td>409.0</td>\n",
       "      <td>0.003085</td>\n",
       "      <td>0.130130</td>\n",
       "    </tr>\n",
       "  </tbody>\n",
       "</table>\n",
       "</div>"
      ],
      "text/plain": [
       "                            accuracy      TP       TN     FP     FN       FPR  \\\n",
       "index                                                                           \n",
       "KNeighborsClassifier        0.977828  2639.0  28012.0  191.0  504.0  0.006772   \n",
       "RandomForestClassifier      0.990748  2908.0  28148.0   55.0  235.0  0.001950   \n",
       "AdaBoostClassifier          0.971862  2543.0  27921.0  282.0  600.0  0.009999   \n",
       "GradientBoostingClassifier  0.976169  2595.0  28004.0  199.0  548.0  0.007056   \n",
       "ExtraTreeClassifier         0.992822  2939.0  28182.0   21.0  204.0  0.000745   \n",
       "XGB                         0.975786  2575.0  28012.0  191.0  568.0  0.006772   \n",
       "BaggingClassifier           0.990653  2910.0  28143.0   60.0  233.0  0.002127   \n",
       "Neural Network-1            0.984177  2734.0  28116.0   87.0  409.0  0.003085   \n",
       "\n",
       "                                 FNR  \n",
       "index                                 \n",
       "KNeighborsClassifier        0.160356  \n",
       "RandomForestClassifier      0.074769  \n",
       "AdaBoostClassifier          0.190900  \n",
       "GradientBoostingClassifier  0.174356  \n",
       "ExtraTreeClassifier         0.064906  \n",
       "XGB                         0.180719  \n",
       "BaggingClassifier           0.074133  \n",
       "Neural Network-1            0.130130  "
      ]
     },
     "metadata": {},
     "output_type": "display_data"
    },
    {
     "name": "stdout",
     "output_type": "stream",
     "text": [
      "Test Results\n"
     ]
    },
    {
     "data": {
      "text/html": [
       "<div>\n",
       "<style scoped>\n",
       "    .dataframe tbody tr th:only-of-type {\n",
       "        vertical-align: middle;\n",
       "    }\n",
       "\n",
       "    .dataframe tbody tr th {\n",
       "        vertical-align: top;\n",
       "    }\n",
       "\n",
       "    .dataframe thead th {\n",
       "        text-align: right;\n",
       "    }\n",
       "</style>\n",
       "<table border=\"1\" class=\"dataframe\">\n",
       "  <thead>\n",
       "    <tr style=\"text-align: right;\">\n",
       "      <th></th>\n",
       "      <th>accuracy</th>\n",
       "      <th>TP</th>\n",
       "      <th>TN</th>\n",
       "      <th>FP</th>\n",
       "      <th>FN</th>\n",
       "      <th>FPR</th>\n",
       "      <th>FNR</th>\n",
       "      <th>auc</th>\n",
       "      <th>MCC</th>\n",
       "      <th>Precision</th>\n",
       "      <th>Recall</th>\n",
       "    </tr>\n",
       "    <tr>\n",
       "      <th>index</th>\n",
       "      <th></th>\n",
       "      <th></th>\n",
       "      <th></th>\n",
       "      <th></th>\n",
       "      <th></th>\n",
       "      <th></th>\n",
       "      <th></th>\n",
       "      <th></th>\n",
       "      <th></th>\n",
       "      <th></th>\n",
       "      <th></th>\n",
       "    </tr>\n",
       "  </thead>\n",
       "  <tbody>\n",
       "    <tr>\n",
       "      <th>KNeighborsClassifier</th>\n",
       "      <td>0.971418</td>\n",
       "      <td>1165.0</td>\n",
       "      <td>6448.0</td>\n",
       "      <td>91.0</td>\n",
       "      <td>133.0</td>\n",
       "      <td>0.013917</td>\n",
       "      <td>0.102465</td>\n",
       "      <td>0.941809</td>\n",
       "      <td>0.895400</td>\n",
       "      <td>0.927548</td>\n",
       "      <td>0.897535</td>\n",
       "    </tr>\n",
       "    <tr>\n",
       "      <th>RandomForestClassifier</th>\n",
       "      <td>0.957509</td>\n",
       "      <td>1032.0</td>\n",
       "      <td>6472.0</td>\n",
       "      <td>67.0</td>\n",
       "      <td>266.0</td>\n",
       "      <td>0.010246</td>\n",
       "      <td>0.204931</td>\n",
       "      <td>0.892412</td>\n",
       "      <td>0.840234</td>\n",
       "      <td>0.939035</td>\n",
       "      <td>0.795069</td>\n",
       "    </tr>\n",
       "    <tr>\n",
       "      <th>AdaBoostClassifier</th>\n",
       "      <td>0.957254</td>\n",
       "      <td>1036.0</td>\n",
       "      <td>6466.0</td>\n",
       "      <td>73.0</td>\n",
       "      <td>262.0</td>\n",
       "      <td>0.011164</td>\n",
       "      <td>0.201849</td>\n",
       "      <td>0.893494</td>\n",
       "      <td>0.839367</td>\n",
       "      <td>0.934175</td>\n",
       "      <td>0.798151</td>\n",
       "    </tr>\n",
       "    <tr>\n",
       "      <th>GradientBoostingClassifier</th>\n",
       "      <td>0.955212</td>\n",
       "      <td>996.0</td>\n",
       "      <td>6490.0</td>\n",
       "      <td>49.0</td>\n",
       "      <td>302.0</td>\n",
       "      <td>0.007494</td>\n",
       "      <td>0.232666</td>\n",
       "      <td>0.879920</td>\n",
       "      <td>0.830919</td>\n",
       "      <td>0.953110</td>\n",
       "      <td>0.767334</td>\n",
       "    </tr>\n",
       "    <tr>\n",
       "      <th>ExtraTreeClassifier</th>\n",
       "      <td>0.959806</td>\n",
       "      <td>1054.0</td>\n",
       "      <td>6468.0</td>\n",
       "      <td>71.0</td>\n",
       "      <td>244.0</td>\n",
       "      <td>0.010858</td>\n",
       "      <td>0.187982</td>\n",
       "      <td>0.900580</td>\n",
       "      <td>0.849396</td>\n",
       "      <td>0.936889</td>\n",
       "      <td>0.812018</td>\n",
       "    </tr>\n",
       "    <tr>\n",
       "      <th>XGB</th>\n",
       "      <td>0.958913</td>\n",
       "      <td>1023.0</td>\n",
       "      <td>6492.0</td>\n",
       "      <td>47.0</td>\n",
       "      <td>275.0</td>\n",
       "      <td>0.007188</td>\n",
       "      <td>0.211864</td>\n",
       "      <td>0.890474</td>\n",
       "      <td>0.845522</td>\n",
       "      <td>0.956075</td>\n",
       "      <td>0.788136</td>\n",
       "    </tr>\n",
       "    <tr>\n",
       "      <th>BaggingClassifier</th>\n",
       "      <td>0.943218</td>\n",
       "      <td>927.0</td>\n",
       "      <td>6465.0</td>\n",
       "      <td>74.0</td>\n",
       "      <td>371.0</td>\n",
       "      <td>0.011317</td>\n",
       "      <td>0.285824</td>\n",
       "      <td>0.851429</td>\n",
       "      <td>0.782786</td>\n",
       "      <td>0.926074</td>\n",
       "      <td>0.714176</td>\n",
       "    </tr>\n",
       "    <tr>\n",
       "      <th>Neural Network-1</th>\n",
       "      <td>0.965165</td>\n",
       "      <td>1083.0</td>\n",
       "      <td>6481.0</td>\n",
       "      <td>58.0</td>\n",
       "      <td>215.0</td>\n",
       "      <td>0.008870</td>\n",
       "      <td>0.165639</td>\n",
       "      <td>0.851429</td>\n",
       "      <td>0.870071</td>\n",
       "      <td>0.949167</td>\n",
       "      <td>0.834361</td>\n",
       "    </tr>\n",
       "  </tbody>\n",
       "</table>\n",
       "</div>"
      ],
      "text/plain": [
       "                            accuracy      TP      TN    FP     FN       FPR  \\\n",
       "index                                                                         \n",
       "KNeighborsClassifier        0.971418  1165.0  6448.0  91.0  133.0  0.013917   \n",
       "RandomForestClassifier      0.957509  1032.0  6472.0  67.0  266.0  0.010246   \n",
       "AdaBoostClassifier          0.957254  1036.0  6466.0  73.0  262.0  0.011164   \n",
       "GradientBoostingClassifier  0.955212   996.0  6490.0  49.0  302.0  0.007494   \n",
       "ExtraTreeClassifier         0.959806  1054.0  6468.0  71.0  244.0  0.010858   \n",
       "XGB                         0.958913  1023.0  6492.0  47.0  275.0  0.007188   \n",
       "BaggingClassifier           0.943218   927.0  6465.0  74.0  371.0  0.011317   \n",
       "Neural Network-1            0.965165  1083.0  6481.0  58.0  215.0  0.008870   \n",
       "\n",
       "                                 FNR       auc       MCC  Precision    Recall  \n",
       "index                                                                          \n",
       "KNeighborsClassifier        0.102465  0.941809  0.895400   0.927548  0.897535  \n",
       "RandomForestClassifier      0.204931  0.892412  0.840234   0.939035  0.795069  \n",
       "AdaBoostClassifier          0.201849  0.893494  0.839367   0.934175  0.798151  \n",
       "GradientBoostingClassifier  0.232666  0.879920  0.830919   0.953110  0.767334  \n",
       "ExtraTreeClassifier         0.187982  0.900580  0.849396   0.936889  0.812018  \n",
       "XGB                         0.211864  0.890474  0.845522   0.956075  0.788136  \n",
       "BaggingClassifier           0.285824  0.851429  0.782786   0.926074  0.714176  \n",
       "Neural Network-1            0.165639  0.851429  0.870071   0.949167  0.834361  "
      ]
     },
     "metadata": {},
     "output_type": "display_data"
    }
   ],
   "source": [
    "table_80_50_train['index']=ind_columns\n",
    "table_80_50_test['index']=ind_columns\n",
    "\n",
    "\n",
    "table_80_50_test.set_index(['index'],drop=True,inplace=True)\n",
    "table_80_50_train.set_index(['index'],drop=True,inplace=True)\n",
    "\n",
    "print(\"Training Results\")\n",
    "display(table_80_50_train)\n",
    "print(\"Test Results\")\n",
    "display(table_80_50_test)"
   ]
  },
  {
   "cell_type": "markdown",
   "metadata": {},
   "source": [
    "### <a id='4.B' style=\"text-decoration : none; color : #000000;\"> B. Average Feature Importances</a>"
   ]
  },
  {
   "cell_type": "code",
   "execution_count": 52,
   "metadata": {},
   "outputs": [
    {
     "data": {
      "application/vnd.plotly.v1+json": {
       "config": {
        "linkText": "Export to plot.ly",
        "plotlyServerURL": "https://plot.ly",
        "showLink": true
       },
       "data": [
        {
         "marker": {
          "color": "rgb(158,202,225)",
          "line": {
           "color": "rgb(8,48,107)",
           "width": 1.5
          }
         },
         "opacity": 0.6,
         "orientation": "h",
         "text": [
          0.1411,
          0.1329,
          0.0992,
          0.0811,
          0.076,
          0.0523,
          0.0522,
          0.0441,
          0.0322,
          0.0302,
          0.0298,
          0.0188,
          0.0181,
          0.0174,
          0.0156,
          0.0149,
          0.0149,
          0.0142,
          0.0134,
          0.0131,
          0.0118,
          0.0116,
          0.011,
          0.0088,
          0.0086,
          0.008,
          0.007,
          0.0053,
          0.0052,
          0.0051,
          0.0029,
          0.0016,
          0.0015
         ],
         "textposition": "outside",
         "type": "bar",
         "uid": "d8dcd9ce-aa71-442c-b3ce-547cdda57f03",
         "x": [
          0.14113727194529493,
          0.13293918185903558,
          0.09920021746954434,
          0.0810872137021608,
          0.07601458617381081,
          0.05228711595903057,
          0.052247873430754696,
          0.04410444959075065,
          0.032161213333181664,
          0.03019262534583862,
          0.02980291702440361,
          0.018778122763968834,
          0.018093498367981124,
          0.017414292948502802,
          0.015625322046870144,
          0.014921119626863124,
          0.014888681165778798,
          0.014196729193027936,
          0.01343918464795863,
          0.013134815729581983,
          0.011760704915346082,
          0.011555651760089622,
          0.010950889550198893,
          0.008803383611304496,
          0.008575462710950076,
          0.008019049864655164,
          0.007024360193212511,
          0.005301814339229533,
          0.005198466440051065,
          0.005137720466725402,
          0.0028844997827579,
          0.001596427385594677,
          0.0015251375868675
         ],
         "y": [
          "a_href_out_of_domain / a_count",
          "url_extensions + url_length",
          "http_header_content-encoding_gzip / url_char_.",
          "a_href_https / a_count",
          "url_char_w + url_length",
          "url_char_z + url_extensions",
          "http_header_vary_user-agent / http_header_content-length",
          "http_header_content-encoding_gzip / http_header_content-length",
          "url_char_p + url_extensions",
          "url_char_. + url_char_z",
          "http_header_server_apache + url_char_.",
          "url_char_y / url_char_z",
          "url_char_f + url_extensions",
          "http_header_vary_user-agent + url_char_.",
          "url_char_y * url_extensions",
          "url_char_l + url_extensions",
          "http_header_server_apache + url_char_w",
          "url_char_w + url_extensions",
          "url_char_.",
          "url_char_z * url_length",
          "url_char_. + url_char_y",
          "url_char_l + url_char_w",
          "url_char_. + url_char_f",
          "url_char_w + url_char_y",
          "url_char_w * url_length",
          "http_header_vary_user-agent / url_char_z",
          "url_char_. * url_char_z",
          "url_char_w * url_extensions",
          "url_char_w + url_char_z",
          "url_char_. + url_char_w",
          "url_char_f + url_char_w",
          "url_char_. * url_char_w",
          "url_char_w"
         ]
        }
       ],
       "layout": {
        "autosize": false,
        "height": 1000,
        "width": 1000,
        "xaxis": {
         "tickfont": {
          "color": "black",
          "size": 12
         },
         "title": "Feature Importances"
        },
        "yaxis": {
         "automargin": true
        }
       }
      },
      "text/html": [
       "<div id=\"859b70c6-71ac-47e2-b47d-b3f03fe1bfca\" style=\"height: 1000px; width: 1000px;\" class=\"plotly-graph-div\"></div><script type=\"text/javascript\">require([\"plotly\"], function(Plotly) { window.PLOTLYENV=window.PLOTLYENV || {};window.PLOTLYENV.BASE_URL=\"https://plot.ly\";Plotly.newPlot(\"859b70c6-71ac-47e2-b47d-b3f03fe1bfca\", [{\"marker\": {\"color\": \"rgb(158,202,225)\", \"line\": {\"color\": \"rgb(8,48,107)\", \"width\": 1.5}}, \"opacity\": 0.6, \"orientation\": \"h\", \"text\": [0.1411, 0.1329, 0.0992, 0.0811, 0.076, 0.0523, 0.0522, 0.0441, 0.0322, 0.0302, 0.0298, 0.0188, 0.0181, 0.0174, 0.0156, 0.0149, 0.0149, 0.0142, 0.0134, 0.0131, 0.0118, 0.0116, 0.011, 0.0088, 0.0086, 0.008, 0.007, 0.0053, 0.0052, 0.0051, 0.0029, 0.0016, 0.0015], \"textposition\": \"outside\", \"x\": [0.14113727194529493, 0.13293918185903558, 0.09920021746954434, 0.0810872137021608, 0.07601458617381081, 0.05228711595903057, 0.052247873430754696, 0.04410444959075065, 0.032161213333181664, 0.03019262534583862, 0.02980291702440361, 0.018778122763968834, 0.018093498367981124, 0.017414292948502802, 0.015625322046870144, 0.014921119626863124, 0.014888681165778798, 0.014196729193027936, 0.01343918464795863, 0.013134815729581983, 0.011760704915346082, 0.011555651760089622, 0.010950889550198893, 0.008803383611304496, 0.008575462710950076, 0.008019049864655164, 0.007024360193212511, 0.005301814339229533, 0.005198466440051065, 0.005137720466725402, 0.0028844997827579, 0.001596427385594677, 0.0015251375868675], \"y\": [\"a_href_out_of_domain / a_count\", \"url_extensions + url_length\", \"http_header_content-encoding_gzip / url_char_.\", \"a_href_https / a_count\", \"url_char_w + url_length\", \"url_char_z + url_extensions\", \"http_header_vary_user-agent / http_header_content-length\", \"http_header_content-encoding_gzip / http_header_content-length\", \"url_char_p + url_extensions\", \"url_char_. + url_char_z\", \"http_header_server_apache + url_char_.\", \"url_char_y / url_char_z\", \"url_char_f + url_extensions\", \"http_header_vary_user-agent + url_char_.\", \"url_char_y * url_extensions\", \"url_char_l + url_extensions\", \"http_header_server_apache + url_char_w\", \"url_char_w + url_extensions\", \"url_char_.\", \"url_char_z * url_length\", \"url_char_. + url_char_y\", \"url_char_l + url_char_w\", \"url_char_. + url_char_f\", \"url_char_w + url_char_y\", \"url_char_w * url_length\", \"http_header_vary_user-agent / url_char_z\", \"url_char_. * url_char_z\", \"url_char_w * url_extensions\", \"url_char_w + url_char_z\", \"url_char_. + url_char_w\", \"url_char_f + url_char_w\", \"url_char_. * url_char_w\", \"url_char_w\"], \"type\": \"bar\", \"uid\": \"d8dcd9ce-aa71-442c-b3ce-547cdda57f03\"}], {\"autosize\": false, \"height\": 1000, \"width\": 1000, \"xaxis\": {\"tickfont\": {\"color\": \"black\", \"size\": 12}, \"title\": \"Feature Importances\"}, \"yaxis\": {\"automargin\": true}}, {\"showLink\": true, \"linkText\": \"Export to plot.ly\", \"plotlyServerURL\": \"https://plot.ly\"})});</script>"
      ],
      "text/vnd.plotly.v1+html": [
       "<div id=\"859b70c6-71ac-47e2-b47d-b3f03fe1bfca\" style=\"height: 1000px; width: 1000px;\" class=\"plotly-graph-div\"></div><script type=\"text/javascript\">require([\"plotly\"], function(Plotly) { window.PLOTLYENV=window.PLOTLYENV || {};window.PLOTLYENV.BASE_URL=\"https://plot.ly\";Plotly.newPlot(\"859b70c6-71ac-47e2-b47d-b3f03fe1bfca\", [{\"marker\": {\"color\": \"rgb(158,202,225)\", \"line\": {\"color\": \"rgb(8,48,107)\", \"width\": 1.5}}, \"opacity\": 0.6, \"orientation\": \"h\", \"text\": [0.1411, 0.1329, 0.0992, 0.0811, 0.076, 0.0523, 0.0522, 0.0441, 0.0322, 0.0302, 0.0298, 0.0188, 0.0181, 0.0174, 0.0156, 0.0149, 0.0149, 0.0142, 0.0134, 0.0131, 0.0118, 0.0116, 0.011, 0.0088, 0.0086, 0.008, 0.007, 0.0053, 0.0052, 0.0051, 0.0029, 0.0016, 0.0015], \"textposition\": \"outside\", \"x\": [0.14113727194529493, 0.13293918185903558, 0.09920021746954434, 0.0810872137021608, 0.07601458617381081, 0.05228711595903057, 0.052247873430754696, 0.04410444959075065, 0.032161213333181664, 0.03019262534583862, 0.02980291702440361, 0.018778122763968834, 0.018093498367981124, 0.017414292948502802, 0.015625322046870144, 0.014921119626863124, 0.014888681165778798, 0.014196729193027936, 0.01343918464795863, 0.013134815729581983, 0.011760704915346082, 0.011555651760089622, 0.010950889550198893, 0.008803383611304496, 0.008575462710950076, 0.008019049864655164, 0.007024360193212511, 0.005301814339229533, 0.005198466440051065, 0.005137720466725402, 0.0028844997827579, 0.001596427385594677, 0.0015251375868675], \"y\": [\"a_href_out_of_domain / a_count\", \"url_extensions + url_length\", \"http_header_content-encoding_gzip / url_char_.\", \"a_href_https / a_count\", \"url_char_w + url_length\", \"url_char_z + url_extensions\", \"http_header_vary_user-agent / http_header_content-length\", \"http_header_content-encoding_gzip / http_header_content-length\", \"url_char_p + url_extensions\", \"url_char_. + url_char_z\", \"http_header_server_apache + url_char_.\", \"url_char_y / url_char_z\", \"url_char_f + url_extensions\", \"http_header_vary_user-agent + url_char_.\", \"url_char_y * url_extensions\", \"url_char_l + url_extensions\", \"http_header_server_apache + url_char_w\", \"url_char_w + url_extensions\", \"url_char_.\", \"url_char_z * url_length\", \"url_char_. + url_char_y\", \"url_char_l + url_char_w\", \"url_char_. + url_char_f\", \"url_char_w + url_char_y\", \"url_char_w * url_length\", \"http_header_vary_user-agent / url_char_z\", \"url_char_. * url_char_z\", \"url_char_w * url_extensions\", \"url_char_w + url_char_z\", \"url_char_. + url_char_w\", \"url_char_f + url_char_w\", \"url_char_. * url_char_w\", \"url_char_w\"], \"type\": \"bar\", \"uid\": \"d8dcd9ce-aa71-442c-b3ce-547cdda57f03\"}], {\"autosize\": false, \"height\": 1000, \"width\": 1000, \"xaxis\": {\"tickfont\": {\"color\": \"black\", \"size\": 12}, \"title\": \"Feature Importances\"}, \"yaxis\": {\"automargin\": true}}, {\"showLink\": true, \"linkText\": \"Export to plot.ly\", \"plotlyServerURL\": \"https://plot.ly\"})});</script>"
      ]
     },
     "metadata": {},
     "output_type": "display_data"
    }
   ],
   "source": [
    "feat_impt_plot(np.average(feat_imp,axis=0),feature_name)"
   ]
  },
  {
   "cell_type": "markdown",
   "metadata": {},
   "source": [
    "### <a id='5' style=\"text-decoration : none; color : #000000;\">5. Feature Transformation with PCA </a>"
   ]
  },
  {
   "cell_type": "code",
   "execution_count": 60,
   "metadata": {
    "scrolled": true
   },
   "outputs": [
    {
     "name": "stderr",
     "output_type": "stream",
     "text": [
      "distributed.core - INFO - Event loop was unresponsive in Nanny for 146.80s.  This is often caused by long-running GIL-holding functions or moving large chunks of data. This can cause timeouts and instability.\n",
      "distributed.core - INFO - Event loop was unresponsive in Nanny for 146.80s.  This is often caused by long-running GIL-holding functions or moving large chunks of data. This can cause timeouts and instability.\n",
      "distributed.core - INFO - Event loop was unresponsive in Nanny for 146.80s.  This is often caused by long-running GIL-holding functions or moving large chunks of data. This can cause timeouts and instability.\n",
      "distributed.core - INFO - Event loop was unresponsive in Nanny for 146.80s.  This is often caused by long-running GIL-holding functions or moving large chunks of data. This can cause timeouts and instability.\n",
      "distributed.core - INFO - Event loop was unresponsive in Nanny for 146.80s.  This is often caused by long-running GIL-holding functions or moving large chunks of data. This can cause timeouts and instability.\n",
      "distributed.core - INFO - Event loop was unresponsive in Nanny for 146.80s.  This is often caused by long-running GIL-holding functions or moving large chunks of data. This can cause timeouts and instability.\n",
      "distributed.core - INFO - Event loop was unresponsive in Nanny for 146.80s.  This is often caused by long-running GIL-holding functions or moving large chunks of data. This can cause timeouts and instability.\n",
      "distributed.core - INFO - Event loop was unresponsive in Nanny for 146.81s.  This is often caused by long-running GIL-holding functions or moving large chunks of data. This can cause timeouts and instability.\n",
      "distributed.core - INFO - Event loop was unresponsive in Nanny for 146.80s.  This is often caused by long-running GIL-holding functions or moving large chunks of data. This can cause timeouts and instability.\n",
      "distributed.core - INFO - Event loop was unresponsive in Nanny for 146.81s.  This is often caused by long-running GIL-holding functions or moving large chunks of data. This can cause timeouts and instability.\n",
      "distributed.core - INFO - Event loop was unresponsive in Nanny for 146.81s.  This is often caused by long-running GIL-holding functions or moving large chunks of data. This can cause timeouts and instability.\n",
      "distributed.core - INFO - Event loop was unresponsive in Nanny for 146.80s.  This is often caused by long-running GIL-holding functions or moving large chunks of data. This can cause timeouts and instability.\n",
      "distributed.core - INFO - Event loop was unresponsive in Nanny for 146.81s.  This is often caused by long-running GIL-holding functions or moving large chunks of data. This can cause timeouts and instability.\n",
      "distributed.core - INFO - Event loop was unresponsive in Nanny for 146.81s.  This is often caused by long-running GIL-holding functions or moving large chunks of data. This can cause timeouts and instability.\n",
      "distributed.core - INFO - Event loop was unresponsive in Nanny for 146.81s.  This is often caused by long-running GIL-holding functions or moving large chunks of data. This can cause timeouts and instability.\n",
      "distributed.core - INFO - Event loop was unresponsive in Nanny for 146.81s.  This is often caused by long-running GIL-holding functions or moving large chunks of data. This can cause timeouts and instability.\n",
      "distributed.core - INFO - Event loop was unresponsive in Nanny for 146.81s.  This is often caused by long-running GIL-holding functions or moving large chunks of data. This can cause timeouts and instability.\n",
      "distributed.core - INFO - Event loop was unresponsive in Nanny for 146.81s.  This is often caused by long-running GIL-holding functions or moving large chunks of data. This can cause timeouts and instability.\n",
      "distributed.core - INFO - Event loop was unresponsive in Nanny for 146.82s.  This is often caused by long-running GIL-holding functions or moving large chunks of data. This can cause timeouts and instability.\n",
      "distributed.core - INFO - Event loop was unresponsive in Nanny for 146.81s.  This is often caused by long-running GIL-holding functions or moving large chunks of data. This can cause timeouts and instability.\n",
      "distributed.core - INFO - Event loop was unresponsive in Nanny for 146.81s.  This is often caused by long-running GIL-holding functions or moving large chunks of data. This can cause timeouts and instability.\n",
      "distributed.core - INFO - Event loop was unresponsive in Nanny for 146.82s.  This is often caused by long-running GIL-holding functions or moving large chunks of data. This can cause timeouts and instability.\n",
      "distributed.core - INFO - Event loop was unresponsive in Nanny for 146.81s.  This is often caused by long-running GIL-holding functions or moving large chunks of data. This can cause timeouts and instability.\n",
      "distributed.core - INFO - Event loop was unresponsive in Nanny for 146.81s.  This is often caused by long-running GIL-holding functions or moving large chunks of data. This can cause timeouts and instability.\n",
      "distributed.core - INFO - Event loop was unresponsive in Nanny for 146.81s.  This is often caused by long-running GIL-holding functions or moving large chunks of data. This can cause timeouts and instability.\n",
      "distributed.core - INFO - Event loop was unresponsive in Nanny for 146.81s.  This is often caused by long-running GIL-holding functions or moving large chunks of data. This can cause timeouts and instability.\n",
      "distributed.core - INFO - Event loop was unresponsive in Nanny for 146.81s.  This is often caused by long-running GIL-holding functions or moving large chunks of data. This can cause timeouts and instability.\n",
      "distributed.core - INFO - Event loop was unresponsive in Nanny for 146.81s.  This is often caused by long-running GIL-holding functions or moving large chunks of data. This can cause timeouts and instability.\n",
      "distributed.core - INFO - Event loop was unresponsive in Nanny for 146.81s.  This is often caused by long-running GIL-holding functions or moving large chunks of data. This can cause timeouts and instability.\n",
      "distributed.core - INFO - Event loop was unresponsive in Nanny for 146.81s.  This is often caused by long-running GIL-holding functions or moving large chunks of data. This can cause timeouts and instability.\n",
      "distributed.core - INFO - Event loop was unresponsive in Nanny for 146.82s.  This is often caused by long-running GIL-holding functions or moving large chunks of data. This can cause timeouts and instability.\n",
      "distributed.core - INFO - Event loop was unresponsive in Nanny for 146.81s.  This is often caused by long-running GIL-holding functions or moving large chunks of data. This can cause timeouts and instability.\n",
      "distributed.core - INFO - Event loop was unresponsive in Nanny for 146.82s.  This is often caused by long-running GIL-holding functions or moving large chunks of data. This can cause timeouts and instability.\n"
     ]
    },
    {
     "data": {
      "image/png": "[encoded data removed]",
      "text/plain": [
       "<Figure size 720x576 with 1 Axes>"
      ]
     },
     "metadata": {},
     "output_type": "display_data"
    }
   ],
   "source": [
    "X=fs.loc[:,fs.columns!='Target']\n",
    "y=fs.Target.values\n",
    "feature_name = X.columns.tolist()\n",
    "X=np.nan_to_num(X)\n",
    "scaler=StandardScaler()\n",
    "scaled_X=scaler.fit_transform(X)\n",
    "\n",
    "sns.set_style('whitegrid')\n",
    "pca = PCA(random_state=0)\n",
    "pca.fit(scaled_X)\n",
    "plt.figure(1, figsize=(10, 8))\n",
    "plt.plot(np.cumsum(pca.explained_variance_ratio_),'--o', linewidth=2)\n",
    "plt.axis('tight')\n",
    "plt.xlabel('Number of Components',size=14)\n",
    "plt.xticks(size=12)\n",
    "plt.xlim([0,200])\n",
    "plt.ylabel('% Explained Variance',size=14)\n",
    "plt.yticks(size=12)\n",
    "plt.title('% Variance Explained by Principal Components',size=14,y=1.05)\n",
    "plt.show()"
   ]
  },
  {
   "cell_type": "code",
   "execution_count": 61,
   "metadata": {},
   "outputs": [
    {
     "name": "stdout",
     "output_type": "stream",
     "text": [
      "Variance explained using 175 components is: 0.7944958667037355\n"
     ]
    }
   ],
   "source": [
    "pca=PCA(n_components=175,whiten=True,random_state=0)\n",
    "X_pca_21=pca.fit_transform(scaled_X)\n",
    "print(\"Variance explained using 175 components is:\",sum(pca.explained_variance_ratio_))"
   ]
  },
  {
   "cell_type": "code",
   "execution_count": 62,
   "metadata": {},
   "outputs": [],
   "source": [
    "X_train=X_pca_21[:31346]\n",
    "Y_train=fs.iloc[:31346]['Target'].values\n",
    "X_test=X_pca_21[31346:]\n",
    "Y_test=fs.iloc[31346:]['Target'].values\n",
    "\n",
    "## Table to store training and test measures so we can compare later\n",
    "table_80_70_train=pd.DataFrame(columns=['accuracy','TP','TN','FP','FN','FPR','FNR'])\n",
    "table_80_70_test=pd.DataFrame(columns=['accuracy','TP','TN','FP','FN','FPR','FNR','auc','mcc'])"
   ]
  },
  {
   "cell_type": "code",
   "execution_count": 63,
   "metadata": {
    "scrolled": false
   },
   "outputs": [
    {
     "name": "stdout",
     "output_type": "stream",
     "text": [
      "\u001b[1mK-Nearest Neighbors\u001b[0m\n"
     ]
    },
    {
     "name": "stderr",
     "output_type": "stream",
     "text": [
      "distributed.utils - ERROR - \n",
      "Traceback (most recent call last):\n",
      "  File \"/nethomes/darshan/anaconda3/lib/python3.6/site-packages/distributed/utils.py\", line 713, in log_errors\n",
      "    yield\n",
      "  File \"/nethomes/darshan/anaconda3/lib/python3.6/site-packages/distributed/client.py\", line 1223, in _close\n",
      "    quiet_exceptions=(CancelledError,),\n",
      "  File \"/nethomes/darshan/anaconda3/lib/python3.6/site-packages/tornado/gen.py\", line 584, in with_timeout\n",
      "    chain_future(future_converted, result)\n",
      "  File \"/nethomes/darshan/anaconda3/lib/python3.6/site-packages/tornado/concurrent.py\", line 166, in chain_future\n",
      "    future_add_done_callback(a, copy)\n",
      "  File \"/nethomes/darshan/anaconda3/lib/python3.6/site-packages/tornado/concurrent.py\", line 262, in future_add_done_callback\n",
      "    callback(future)\n",
      "  File \"/nethomes/darshan/anaconda3/lib/python3.6/site-packages/tornado/concurrent.py\", line 160, in copy\n",
      "    elif a.exception() is not None:\n",
      "concurrent.futures._base.CancelledError\n",
      "Exception ignored in: <bound method Client.__del__ of <Client: not connected>>\n",
      "Traceback (most recent call last):\n",
      "  File \"/nethomes/darshan/anaconda3/lib/python3.6/site-packages/distributed/client.py\", line 1075, in __del__\n",
      "    self.close()\n",
      "  File \"/nethomes/darshan/anaconda3/lib/python3.6/site-packages/distributed/client.py\", line 1290, in close\n",
      "    sync(self.loop, self._close, fast=True)\n",
      "  File \"/nethomes/darshan/anaconda3/lib/python3.6/site-packages/distributed/utils.py\", line 331, in sync\n",
      "    six.reraise(*error[0])\n",
      "  File \"/nethomes/darshan/anaconda3/lib/python3.6/site-packages/six.py\", line 693, in reraise\n",
      "    raise value\n",
      "  File \"/nethomes/darshan/anaconda3/lib/python3.6/site-packages/distributed/utils.py\", line 316, in f\n",
      "    result[0] = yield future\n",
      "  File \"/nethomes/darshan/anaconda3/lib/python3.6/site-packages/tornado/gen.py\", line 729, in run\n",
      "    value = future.result()\n",
      "  File \"/nethomes/darshan/anaconda3/lib/python3.6/site-packages/tornado/gen.py\", line 209, in wrapper\n",
      "    yielded = next(result)\n",
      "  File \"/nethomes/darshan/anaconda3/lib/python3.6/site-packages/distributed/client.py\", line 1223, in _close\n",
      "    quiet_exceptions=(CancelledError,),\n",
      "  File \"/nethomes/darshan/anaconda3/lib/python3.6/site-packages/tornado/gen.py\", line 584, in with_timeout\n",
      "    chain_future(future_converted, result)\n",
      "  File \"/nethomes/darshan/anaconda3/lib/python3.6/site-packages/tornado/concurrent.py\", line 166, in chain_future\n",
      "    future_add_done_callback(a, copy)\n",
      "  File \"/nethomes/darshan/anaconda3/lib/python3.6/site-packages/tornado/concurrent.py\", line 262, in future_add_done_callback\n",
      "    callback(future)\n",
      "  File \"/nethomes/darshan/anaconda3/lib/python3.6/site-packages/tornado/concurrent.py\", line 160, in copy\n",
      "    elif a.exception() is not None:\n",
      "concurrent.futures._base.CancelledError: \n"
     ]
    },
    {
     "name": "stdout",
     "output_type": "stream",
     "text": [
      "Accuracy of the model for training data is: 0.9814330377081605\n",
      "Confusion Matrix for training data is:\n"
     ]
    },
    {
     "data": {
      "text/plain": [
       "Predicted  False  True  __all__\n",
       "Actual                         \n",
       "False      28074   129    28203\n",
       "True         453  2690     3143\n",
       "__all__    28527  2819    31346"
      ]
     },
     "metadata": {},
     "output_type": "display_data"
    },
    {
     "name": "stdout",
     "output_type": "stream",
     "text": [
      "Accuracy of the model for test data is: 0.9335204797754243\n",
      "Confusion Matrix for test data is:\n"
     ]
    },
    {
     "data": {
      "text/plain": [
       "Predicted  False  True  __all__\n",
       "Actual                         \n",
       "False       6483    56     6539\n",
       "True         465   833     1298\n",
       "__all__     6948   889     7837"
      ]
     },
     "metadata": {},
     "output_type": "display_data"
    },
    {
     "name": "stdout",
     "output_type": "stream",
     "text": [
      "\n",
      "\n",
      "\u001b[1mRandomForest Classifier\u001b[0m\n",
      "Accuracy of the model for training data is: 0.996107956358068\n",
      "Confusion Matrix for training data is:\n"
     ]
    },
    {
     "data": {
      "text/plain": [
       "Predicted  False  True  __all__\n",
       "Actual                         \n",
       "False      28192    11    28203\n",
       "True         111  3032     3143\n",
       "__all__    28303  3043    31346"
      ]
     },
     "metadata": {},
     "output_type": "display_data"
    },
    {
     "name": "stdout",
     "output_type": "stream",
     "text": [
      "Accuracy of the model for test data is: 0.925736889115733\n",
      "Confusion Matrix for test data is:\n"
     ]
    },
    {
     "data": {
      "text/plain": [
       "Predicted  False  True  __all__\n",
       "Actual                         \n",
       "False       6505    34     6539\n",
       "True         548   750     1298\n",
       "__all__     7053   784     7837"
      ]
     },
     "metadata": {},
     "output_type": "display_data"
    },
    {
     "data": {
      "application/vnd.plotly.v1+json": {
       "config": {
        "linkText": "Export to plot.ly",
        "plotlyServerURL": "https://plot.ly",
        "showLink": true
       },
       "data": [
        {
         "marker": {
          "color": "rgb(158,202,225)",
          "line": {
           "color": "rgb(8,48,107)",
           "width": 1.5
          }
         },
         "opacity": 0.6,
         "orientation": "h",
         "text": [
          0.1456,
          0.0939,
          0.0462,
          0.0444,
          0.0403,
          0.0379,
          0.0373,
          0.0231,
          0.0211,
          0.0207,
          0.0169,
          0.0145,
          0.0145,
          0.013,
          0.0127,
          0.0127,
          0.0125,
          0.0115,
          0.0091,
          0.009,
          0.0082,
          0.0077,
          0.0077,
          0.0077,
          0.0074,
          0.0067,
          0.0067,
          0.0063,
          0.0062,
          0.0061,
          0.006,
          0.0057,
          0.0055,
          0.0054,
          0.0053,
          0.0053,
          0.0049,
          0.0047,
          0.0045,
          0.0044,
          0.0043,
          0.0039,
          0.0038,
          0.0037,
          0.0036,
          0.0035,
          0.0035,
          0.0034,
          0.0033,
          0.0032,
          0.0031,
          0.003,
          0.003,
          0.0029,
          0.0029,
          0.0029,
          0.0029,
          0.0028,
          0.0028,
          0.0028,
          0.0027,
          0.0026,
          0.0025,
          0.0025,
          0.0024,
          0.0024,
          0.0024,
          0.0023,
          0.0023,
          0.0023,
          0.0023,
          0.0022,
          0.0022,
          0.0022,
          0.0021,
          0.0021,
          0.0021,
          0.0021,
          0.0021,
          0.0021,
          0.0021,
          0.002,
          0.002,
          0.002,
          0.002,
          0.0019,
          0.0019,
          0.0019,
          0.0019,
          0.0019,
          0.0018,
          0.0018,
          0.0018,
          0.0018,
          0.0018,
          0.0018,
          0.0017,
          0.0017,
          0.0017,
          0.0017,
          0.0017,
          0.0017,
          0.0017,
          0.0017,
          0.0017,
          0.0016,
          0.0016,
          0.0016,
          0.0016,
          0.0016,
          0.0016,
          0.0015,
          0.0015,
          0.0015,
          0.0015,
          0.0015,
          0.0015,
          0.0015,
          0.0014,
          0.0014,
          0.0014,
          0.0014,
          0.0014,
          0.0014,
          0.0014,
          0.0014,
          0.0014,
          0.0014,
          0.0013,
          0.0013,
          0.0013,
          0.0013,
          0.0013,
          0.0013,
          0.0013,
          0.0013,
          0.0012,
          0.0012,
          0.0012,
          0.0012,
          0.0012,
          0.0012,
          0.0012,
          0.0012,
          0.0012,
          0.0012,
          0.0011,
          0.0011,
          0.0011,
          0.0011,
          0.0011,
          0.0011,
          0.0011,
          0.0011,
          0.001,
          0.001,
          0.001,
          0.001,
          0.001,
          0.001,
          0.0009,
          0.0009,
          0.0009,
          0.0009,
          0.0009,
          0.0009,
          0.0009,
          0.0009,
          0.0008,
          0.0008,
          0.0008,
          0.0008,
          0.0007,
          0.0007,
          0.0007
         ],
         "textposition": "outside",
         "type": "bar",
         "uid": "41f74ea8-769f-4b23-89e2-4652b86f2234",
         "x": [
          0.14556215627212216,
          0.09389679856618861,
          0.04623450398919568,
          0.04439857372708075,
          0.04027414505284538,
          0.03785351924042812,
          0.03728424009496,
          0.023142977485708222,
          0.02105572351669761,
          0.02069387672256459,
          0.016946094466165858,
          0.014514059777001913,
          0.014489343094882291,
          0.013026446248949579,
          0.012742056183742145,
          0.012683648380050674,
          0.012521596668434616,
          0.011487162072239042,
          0.009097146807453617,
          0.008981513383912983,
          0.008206539046896315,
          0.007732311735311418,
          0.007705048180583689,
          0.00766235774470712,
          0.007398531898713882,
          0.006738183755156394,
          0.006655055275374028,
          0.006301706189119045,
          0.006205365468601725,
          0.0061038123703817245,
          0.0060184177070287115,
          0.005686257233777969,
          0.005532344709931072,
          0.005427803491840439,
          0.0053176874652917875,
          0.005274085939917331,
          0.00485472835127143,
          0.004674613992564977,
          0.0044533068477967674,
          0.004414079722770334,
          0.004335110015985084,
          0.0038746192786658935,
          0.0037927182609664356,
          0.0037267926513471442,
          0.003605383807701168,
          0.003549871457416779,
          0.003537507009711903,
          0.00335401238486678,
          0.0032588399398713348,
          0.003151119882064499,
          0.0030778635689141247,
          0.0030075851467652017,
          0.0029609198785311617,
          0.0029435158446942406,
          0.0029182351368495923,
          0.002911436067067003,
          0.0028894850891507825,
          0.002846829483432754,
          0.0028454968567379712,
          0.0028040886445066995,
          0.002714304786531084,
          0.0025604824228845297,
          0.002517550439980021,
          0.0025099630928734173,
          0.002426922294338313,
          0.0023817654581324635,
          0.0023504371416785755,
          0.002349417755968821,
          0.0023352020745886787,
          0.0022942897622327493,
          0.0022598685137131544,
          0.002211034880506547,
          0.0021566554590838043,
          0.0021502498604136226,
          0.002135389842917631,
          0.0021220055003438472,
          0.0021164359303866196,
          0.00208819903898297,
          0.0020862717745911874,
          0.0020546266677007033,
          0.002053927602687911,
          0.002023375450206836,
          0.002003004059654844,
          0.0019979673864847936,
          0.0019585524204767733,
          0.0019078338182238876,
          0.0019023539277190213,
          0.001899766052579262,
          0.0018978093521413583,
          0.0018739818679538263,
          0.001849711141581776,
          0.0018458474377917515,
          0.0018296936021763239,
          0.0018255861809201033,
          0.001759606125758065,
          0.0017556704004409458,
          0.001733657548825599,
          0.0017258265938408345,
          0.0017187766433618362,
          0.001715263238478309,
          0.0017043442513338242,
          0.001695154024846266,
          0.0016738705427935883,
          0.0016593710010762803,
          0.0016512200067045574,
          0.0016423870368200944,
          0.0016401126883686073,
          0.0016226665526283982,
          0.0016104092647998463,
          0.00160984610784553,
          0.0015887888527417729,
          0.0015314653610829846,
          0.0015288138211070979,
          0.0015138634721785112,
          0.0015084915960989686,
          0.0015025817324044461,
          0.0015022822020769307,
          0.0014620013208657232,
          0.0014217509267977844,
          0.001419731284421136,
          0.0013921506724444074,
          0.0013911980903981629,
          0.0013905219403876968,
          0.0013840046564049181,
          0.0013594648878923407,
          0.0013534116380067875,
          0.001351894970418071,
          0.0013505325457798022,
          0.0013305993437054007,
          0.0013113521953451615,
          0.0013063695943031103,
          0.001305351973963777,
          0.0012960874103772162,
          0.001293612768819687,
          0.0012848911628784976,
          0.0012589659697083814,
          0.001243035488323254,
          0.0012384086334939512,
          0.001236934852982597,
          0.001230479555337358,
          0.0012299926314444463,
          0.0012265007019697544,
          0.0012224398605533543,
          0.0012203299277240818,
          0.0012068693052935007,
          0.0011511404457985048,
          0.0011340578853213763,
          0.0011294259418204908,
          0.001118685215987688,
          0.0011088003648312987,
          0.001105382486328464,
          0.0010783228384121288,
          0.0010782253741556174,
          0.0010543133533803882,
          0.001045176246092697,
          0.0010136148834378285,
          0.000992998252278998,
          0.00097137661322537,
          0.0009637219903331962,
          0.0009588883432186377,
          0.0009273704476981364,
          0.0009204744141562026,
          0.0009152510020260539,
          0.0008882987290786504,
          0.0008856733533024968,
          0.0008813085129570302,
          0.00086344654709181,
          0.0008599189842986794,
          0.0008256563554198032,
          0.0008069584006089816,
          0.000787979466833783,
          0.0007571400043445704,
          0.0007475582386417976,
          0.0007088994203594208,
          0.0006768502315526363
         ],
         "y": [
          "1",
          "0",
          "8",
          "3",
          "2",
          "6",
          "11",
          "45",
          "4",
          "13",
          "39",
          "12",
          "30",
          "37",
          "43",
          "31",
          "5",
          "40",
          "32",
          "9",
          "58",
          "33",
          "52",
          "75",
          "50",
          "34",
          "27",
          "51",
          "100",
          "99",
          "56",
          "76",
          "14",
          "53",
          "38",
          "48",
          "10",
          "62",
          "64",
          "41",
          "93",
          "7",
          "47",
          "89",
          "29",
          "35",
          "16",
          "96",
          "36",
          "22",
          "167",
          "80",
          "97",
          "87",
          "57",
          "105",
          "23",
          "117",
          "106",
          "81",
          "49",
          "88",
          "112",
          "113",
          "21",
          "63",
          "54",
          "126",
          "86",
          "161",
          "70",
          "42",
          "172",
          "24",
          "131",
          "104",
          "91",
          "174",
          "69",
          "98",
          "102",
          "120",
          "115",
          "77",
          "44",
          "17",
          "26",
          "82",
          "28",
          "95",
          "90",
          "15",
          "79",
          "55",
          "165",
          "94",
          "152",
          "92",
          "150",
          "156",
          "59",
          "139",
          "109",
          "83",
          "73",
          "111",
          "159",
          "132",
          "103",
          "46",
          "20",
          "85",
          "142",
          "162",
          "68",
          "158",
          "157",
          "146",
          "160",
          "163",
          "140",
          "133",
          "107",
          "125",
          "101",
          "135",
          "134",
          "128",
          "171",
          "164",
          "149",
          "19",
          "168",
          "84",
          "155",
          "173",
          "25",
          "72",
          "67",
          "71",
          "65",
          "18",
          "151",
          "121",
          "114",
          "154",
          "124",
          "61",
          "148",
          "136",
          "110",
          "129",
          "78",
          "144",
          "118",
          "137",
          "122",
          "130",
          "66",
          "147",
          "127",
          "166",
          "145",
          "119",
          "123",
          "108",
          "170",
          "153",
          "143",
          "169",
          "116",
          "141",
          "138",
          "60",
          "74"
         ]
        }
       ],
       "layout": {
        "autosize": false,
        "height": 1000,
        "width": 1000,
        "xaxis": {
         "tickfont": {
          "color": "black",
          "size": 12
         },
         "title": "Feature Importances"
        },
        "yaxis": {
         "automargin": true
        }
       }
      },
      "text/html": [
       "<div id=\"c5435326-5dd3-4a21-8305-2f56e4f6c3dc\" style=\"height: 1000px; width: 1000px;\" class=\"plotly-graph-div\"></div><script type=\"text/javascript\">require([\"plotly\"], function(Plotly) { window.PLOTLYENV=window.PLOTLYENV || {};window.PLOTLYENV.BASE_URL=\"https://plot.ly\";Plotly.newPlot(\"c5435326-5dd3-4a21-8305-2f56e4f6c3dc\", [{\"marker\": {\"color\": \"rgb(158,202,225)\", \"line\": {\"color\": \"rgb(8,48,107)\", \"width\": 1.5}}, \"opacity\": 0.6, \"orientation\": \"h\", \"text\": [0.1456, 0.0939, 0.0462, 0.0444, 0.0403, 0.0379, 0.0373, 0.0231, 0.0211, 0.0207, 0.0169, 0.0145, 0.0145, 0.013, 0.0127, 0.0127, 0.0125, 0.0115, 0.0091, 0.009, 0.0082, 0.0077, 0.0077, 0.0077, 0.0074, 0.0067, 0.0067, 0.0063, 0.0062, 0.0061, 0.006, 0.0057, 0.0055, 0.0054, 0.0053, 0.0053, 0.0049, 0.0047, 0.0045, 0.0044, 0.0043, 0.0039, 0.0038, 0.0037, 0.0036, 0.0035, 0.0035, 0.0034, 0.0033, 0.0032, 0.0031, 0.003, 0.003, 0.0029, 0.0029, 0.0029, 0.0029, 0.0028, 0.0028, 0.0028, 0.0027, 0.0026, 0.0025, 0.0025, 0.0024, 0.0024, 0.0024, 0.0023, 0.0023, 0.0023, 0.0023, 0.0022, 0.0022, 0.0022, 0.0021, 0.0021, 0.0021, 0.0021, 0.0021, 0.0021, 0.0021, 0.002, 0.002, 0.002, 0.002, 0.0019, 0.0019, 0.0019, 0.0019, 0.0019, 0.0018, 0.0018, 0.0018, 0.0018, 0.0018, 0.0018, 0.0017, 0.0017, 0.0017, 0.0017, 0.0017, 0.0017, 0.0017, 0.0017, 0.0017, 0.0016, 0.0016, 0.0016, 0.0016, 0.0016, 0.0016, 0.0015, 0.0015, 0.0015, 0.0015, 0.0015, 0.0015, 0.0015, 0.0014, 0.0014, 0.0014, 0.0014, 0.0014, 0.0014, 0.0014, 0.0014, 0.0014, 0.0014, 0.0013, 0.0013, 0.0013, 0.0013, 0.0013, 0.0013, 0.0013, 0.0013, 0.0012, 0.0012, 0.0012, 0.0012, 0.0012, 0.0012, 0.0012, 0.0012, 0.0012, 0.0012, 0.0011, 0.0011, 0.0011, 0.0011, 0.0011, 0.0011, 0.0011, 0.0011, 0.001, 0.001, 0.001, 0.001, 0.001, 0.001, 0.0009, 0.0009, 0.0009, 0.0009, 0.0009, 0.0009, 0.0009, 0.0009, 0.0008, 0.0008, 0.0008, 0.0008, 0.0007, 0.0007, 0.0007], \"textposition\": \"outside\", \"x\": [0.14556215627212216, 0.09389679856618861, 0.04623450398919568, 0.04439857372708075, 0.04027414505284538, 0.03785351924042812, 0.03728424009496, 0.023142977485708222, 0.02105572351669761, 0.02069387672256459, 0.016946094466165858, 0.014514059777001913, 0.014489343094882291, 0.013026446248949579, 0.012742056183742145, 0.012683648380050674, 0.012521596668434616, 0.011487162072239042, 0.009097146807453617, 0.008981513383912983, 0.008206539046896315, 0.007732311735311418, 0.007705048180583689, 0.00766235774470712, 0.007398531898713882, 0.006738183755156394, 0.006655055275374028, 0.006301706189119045, 0.006205365468601725, 0.0061038123703817245, 0.0060184177070287115, 0.005686257233777969, 0.005532344709931072, 0.005427803491840439, 0.0053176874652917875, 0.005274085939917331, 0.00485472835127143, 0.004674613992564977, 0.0044533068477967674, 0.004414079722770334, 0.004335110015985084, 0.0038746192786658935, 0.0037927182609664356, 0.0037267926513471442, 0.003605383807701168, 0.003549871457416779, 0.003537507009711903, 0.00335401238486678, 0.0032588399398713348, 0.003151119882064499, 0.0030778635689141247, 0.0030075851467652017, 0.0029609198785311617, 0.0029435158446942406, 0.0029182351368495923, 0.002911436067067003, 0.0028894850891507825, 0.002846829483432754, 0.0028454968567379712, 0.0028040886445066995, 0.002714304786531084, 0.0025604824228845297, 0.002517550439980021, 0.0025099630928734173, 0.002426922294338313, 0.0023817654581324635, 0.0023504371416785755, 0.002349417755968821, 0.0023352020745886787, 0.0022942897622327493, 0.0022598685137131544, 0.002211034880506547, 0.0021566554590838043, 0.0021502498604136226, 0.002135389842917631, 0.0021220055003438472, 0.0021164359303866196, 0.00208819903898297, 0.0020862717745911874, 0.0020546266677007033, 0.002053927602687911, 0.002023375450206836, 0.002003004059654844, 0.0019979673864847936, 0.0019585524204767733, 0.0019078338182238876, 0.0019023539277190213, 0.001899766052579262, 0.0018978093521413583, 0.0018739818679538263, 0.001849711141581776, 0.0018458474377917515, 0.0018296936021763239, 0.0018255861809201033, 0.001759606125758065, 0.0017556704004409458, 0.001733657548825599, 0.0017258265938408345, 0.0017187766433618362, 0.001715263238478309, 0.0017043442513338242, 0.001695154024846266, 0.0016738705427935883, 0.0016593710010762803, 0.0016512200067045574, 0.0016423870368200944, 0.0016401126883686073, 0.0016226665526283982, 0.0016104092647998463, 0.00160984610784553, 0.0015887888527417729, 0.0015314653610829846, 0.0015288138211070979, 0.0015138634721785112, 0.0015084915960989686, 0.0015025817324044461, 0.0015022822020769307, 0.0014620013208657232, 0.0014217509267977844, 0.001419731284421136, 0.0013921506724444074, 0.0013911980903981629, 0.0013905219403876968, 0.0013840046564049181, 0.0013594648878923407, 0.0013534116380067875, 0.001351894970418071, 0.0013505325457798022, 0.0013305993437054007, 0.0013113521953451615, 0.0013063695943031103, 0.001305351973963777, 0.0012960874103772162, 0.001293612768819687, 0.0012848911628784976, 0.0012589659697083814, 0.001243035488323254, 0.0012384086334939512, 0.001236934852982597, 0.001230479555337358, 0.0012299926314444463, 0.0012265007019697544, 0.0012224398605533543, 0.0012203299277240818, 0.0012068693052935007, 0.0011511404457985048, 0.0011340578853213763, 0.0011294259418204908, 0.001118685215987688, 0.0011088003648312987, 0.001105382486328464, 0.0010783228384121288, 0.0010782253741556174, 0.0010543133533803882, 0.001045176246092697, 0.0010136148834378285, 0.000992998252278998, 0.00097137661322537, 0.0009637219903331962, 0.0009588883432186377, 0.0009273704476981364, 0.0009204744141562026, 0.0009152510020260539, 0.0008882987290786504, 0.0008856733533024968, 0.0008813085129570302, 0.00086344654709181, 0.0008599189842986794, 0.0008256563554198032, 0.0008069584006089816, 0.000787979466833783, 0.0007571400043445704, 0.0007475582386417976, 0.0007088994203594208, 0.0006768502315526363], \"y\": [\"1\", \"0\", \"8\", \"3\", \"2\", \"6\", \"11\", \"45\", \"4\", \"13\", \"39\", \"12\", \"30\", \"37\", \"43\", \"31\", \"5\", \"40\", \"32\", \"9\", \"58\", \"33\", \"52\", \"75\", \"50\", \"34\", \"27\", \"51\", \"100\", \"99\", \"56\", \"76\", \"14\", \"53\", \"38\", \"48\", \"10\", \"62\", \"64\", \"41\", \"93\", \"7\", \"47\", \"89\", \"29\", \"35\", \"16\", \"96\", \"36\", \"22\", \"167\", \"80\", \"97\", \"87\", \"57\", \"105\", \"23\", \"117\", \"106\", \"81\", \"49\", \"88\", \"112\", \"113\", \"21\", \"63\", \"54\", \"126\", \"86\", \"161\", \"70\", \"42\", \"172\", \"24\", \"131\", \"104\", \"91\", \"174\", \"69\", \"98\", \"102\", \"120\", \"115\", \"77\", \"44\", \"17\", \"26\", \"82\", \"28\", \"95\", \"90\", \"15\", \"79\", \"55\", \"165\", \"94\", \"152\", \"92\", \"150\", \"156\", \"59\", \"139\", \"109\", \"83\", \"73\", \"111\", \"159\", \"132\", \"103\", \"46\", \"20\", \"85\", \"142\", \"162\", \"68\", \"158\", \"157\", \"146\", \"160\", \"163\", \"140\", \"133\", \"107\", \"125\", \"101\", \"135\", \"134\", \"128\", \"171\", \"164\", \"149\", \"19\", \"168\", \"84\", \"155\", \"173\", \"25\", \"72\", \"67\", \"71\", \"65\", \"18\", \"151\", \"121\", \"114\", \"154\", \"124\", \"61\", \"148\", \"136\", \"110\", \"129\", \"78\", \"144\", \"118\", \"137\", \"122\", \"130\", \"66\", \"147\", \"127\", \"166\", \"145\", \"119\", \"123\", \"108\", \"170\", \"153\", \"143\", \"169\", \"116\", \"141\", \"138\", \"60\", \"74\"], \"type\": \"bar\", \"uid\": \"41f74ea8-769f-4b23-89e2-4652b86f2234\"}], {\"autosize\": false, \"height\": 1000, \"width\": 1000, \"xaxis\": {\"tickfont\": {\"color\": \"black\", \"size\": 12}, \"title\": \"Feature Importances\"}, \"yaxis\": {\"automargin\": true}}, {\"showLink\": true, \"linkText\": \"Export to plot.ly\", \"plotlyServerURL\": \"https://plot.ly\"})});</script>"
      ],
      "text/vnd.plotly.v1+html": [
       "<div id=\"c5435326-5dd3-4a21-8305-2f56e4f6c3dc\" style=\"height: 1000px; width: 1000px;\" class=\"plotly-graph-div\"></div><script type=\"text/javascript\">require([\"plotly\"], function(Plotly) { window.PLOTLYENV=window.PLOTLYENV || {};window.PLOTLYENV.BASE_URL=\"https://plot.ly\";Plotly.newPlot(\"c5435326-5dd3-4a21-8305-2f56e4f6c3dc\", [{\"marker\": {\"color\": \"rgb(158,202,225)\", \"line\": {\"color\": \"rgb(8,48,107)\", \"width\": 1.5}}, \"opacity\": 0.6, \"orientation\": \"h\", \"text\": [0.1456, 0.0939, 0.0462, 0.0444, 0.0403, 0.0379, 0.0373, 0.0231, 0.0211, 0.0207, 0.0169, 0.0145, 0.0145, 0.013, 0.0127, 0.0127, 0.0125, 0.0115, 0.0091, 0.009, 0.0082, 0.0077, 0.0077, 0.0077, 0.0074, 0.0067, 0.0067, 0.0063, 0.0062, 0.0061, 0.006, 0.0057, 0.0055, 0.0054, 0.0053, 0.0053, 0.0049, 0.0047, 0.0045, 0.0044, 0.0043, 0.0039, 0.0038, 0.0037, 0.0036, 0.0035, 0.0035, 0.0034, 0.0033, 0.0032, 0.0031, 0.003, 0.003, 0.0029, 0.0029, 0.0029, 0.0029, 0.0028, 0.0028, 0.0028, 0.0027, 0.0026, 0.0025, 0.0025, 0.0024, 0.0024, 0.0024, 0.0023, 0.0023, 0.0023, 0.0023, 0.0022, 0.0022, 0.0022, 0.0021, 0.0021, 0.0021, 0.0021, 0.0021, 0.0021, 0.0021, 0.002, 0.002, 0.002, 0.002, 0.0019, 0.0019, 0.0019, 0.0019, 0.0019, 0.0018, 0.0018, 0.0018, 0.0018, 0.0018, 0.0018, 0.0017, 0.0017, 0.0017, 0.0017, 0.0017, 0.0017, 0.0017, 0.0017, 0.0017, 0.0016, 0.0016, 0.0016, 0.0016, 0.0016, 0.0016, 0.0015, 0.0015, 0.0015, 0.0015, 0.0015, 0.0015, 0.0015, 0.0014, 0.0014, 0.0014, 0.0014, 0.0014, 0.0014, 0.0014, 0.0014, 0.0014, 0.0014, 0.0013, 0.0013, 0.0013, 0.0013, 0.0013, 0.0013, 0.0013, 0.0013, 0.0012, 0.0012, 0.0012, 0.0012, 0.0012, 0.0012, 0.0012, 0.0012, 0.0012, 0.0012, 0.0011, 0.0011, 0.0011, 0.0011, 0.0011, 0.0011, 0.0011, 0.0011, 0.001, 0.001, 0.001, 0.001, 0.001, 0.001, 0.0009, 0.0009, 0.0009, 0.0009, 0.0009, 0.0009, 0.0009, 0.0009, 0.0008, 0.0008, 0.0008, 0.0008, 0.0007, 0.0007, 0.0007], \"textposition\": \"outside\", \"x\": [0.14556215627212216, 0.09389679856618861, 0.04623450398919568, 0.04439857372708075, 0.04027414505284538, 0.03785351924042812, 0.03728424009496, 0.023142977485708222, 0.02105572351669761, 0.02069387672256459, 0.016946094466165858, 0.014514059777001913, 0.014489343094882291, 0.013026446248949579, 0.012742056183742145, 0.012683648380050674, 0.012521596668434616, 0.011487162072239042, 0.009097146807453617, 0.008981513383912983, 0.008206539046896315, 0.007732311735311418, 0.007705048180583689, 0.00766235774470712, 0.007398531898713882, 0.006738183755156394, 0.006655055275374028, 0.006301706189119045, 0.006205365468601725, 0.0061038123703817245, 0.0060184177070287115, 0.005686257233777969, 0.005532344709931072, 0.005427803491840439, 0.0053176874652917875, 0.005274085939917331, 0.00485472835127143, 0.004674613992564977, 0.0044533068477967674, 0.004414079722770334, 0.004335110015985084, 0.0038746192786658935, 0.0037927182609664356, 0.0037267926513471442, 0.003605383807701168, 0.003549871457416779, 0.003537507009711903, 0.00335401238486678, 0.0032588399398713348, 0.003151119882064499, 0.0030778635689141247, 0.0030075851467652017, 0.0029609198785311617, 0.0029435158446942406, 0.0029182351368495923, 0.002911436067067003, 0.0028894850891507825, 0.002846829483432754, 0.0028454968567379712, 0.0028040886445066995, 0.002714304786531084, 0.0025604824228845297, 0.002517550439980021, 0.0025099630928734173, 0.002426922294338313, 0.0023817654581324635, 0.0023504371416785755, 0.002349417755968821, 0.0023352020745886787, 0.0022942897622327493, 0.0022598685137131544, 0.002211034880506547, 0.0021566554590838043, 0.0021502498604136226, 0.002135389842917631, 0.0021220055003438472, 0.0021164359303866196, 0.00208819903898297, 0.0020862717745911874, 0.0020546266677007033, 0.002053927602687911, 0.002023375450206836, 0.002003004059654844, 0.0019979673864847936, 0.0019585524204767733, 0.0019078338182238876, 0.0019023539277190213, 0.001899766052579262, 0.0018978093521413583, 0.0018739818679538263, 0.001849711141581776, 0.0018458474377917515, 0.0018296936021763239, 0.0018255861809201033, 0.001759606125758065, 0.0017556704004409458, 0.001733657548825599, 0.0017258265938408345, 0.0017187766433618362, 0.001715263238478309, 0.0017043442513338242, 0.001695154024846266, 0.0016738705427935883, 0.0016593710010762803, 0.0016512200067045574, 0.0016423870368200944, 0.0016401126883686073, 0.0016226665526283982, 0.0016104092647998463, 0.00160984610784553, 0.0015887888527417729, 0.0015314653610829846, 0.0015288138211070979, 0.0015138634721785112, 0.0015084915960989686, 0.0015025817324044461, 0.0015022822020769307, 0.0014620013208657232, 0.0014217509267977844, 0.001419731284421136, 0.0013921506724444074, 0.0013911980903981629, 0.0013905219403876968, 0.0013840046564049181, 0.0013594648878923407, 0.0013534116380067875, 0.001351894970418071, 0.0013505325457798022, 0.0013305993437054007, 0.0013113521953451615, 0.0013063695943031103, 0.001305351973963777, 0.0012960874103772162, 0.001293612768819687, 0.0012848911628784976, 0.0012589659697083814, 0.001243035488323254, 0.0012384086334939512, 0.001236934852982597, 0.001230479555337358, 0.0012299926314444463, 0.0012265007019697544, 0.0012224398605533543, 0.0012203299277240818, 0.0012068693052935007, 0.0011511404457985048, 0.0011340578853213763, 0.0011294259418204908, 0.001118685215987688, 0.0011088003648312987, 0.001105382486328464, 0.0010783228384121288, 0.0010782253741556174, 0.0010543133533803882, 0.001045176246092697, 0.0010136148834378285, 0.000992998252278998, 0.00097137661322537, 0.0009637219903331962, 0.0009588883432186377, 0.0009273704476981364, 0.0009204744141562026, 0.0009152510020260539, 0.0008882987290786504, 0.0008856733533024968, 0.0008813085129570302, 0.00086344654709181, 0.0008599189842986794, 0.0008256563554198032, 0.0008069584006089816, 0.000787979466833783, 0.0007571400043445704, 0.0007475582386417976, 0.0007088994203594208, 0.0006768502315526363], \"y\": [\"1\", \"0\", \"8\", \"3\", \"2\", \"6\", \"11\", \"45\", \"4\", \"13\", \"39\", \"12\", \"30\", \"37\", \"43\", \"31\", \"5\", \"40\", \"32\", \"9\", \"58\", \"33\", \"52\", \"75\", \"50\", \"34\", \"27\", \"51\", \"100\", \"99\", \"56\", \"76\", \"14\", \"53\", \"38\", \"48\", \"10\", \"62\", \"64\", \"41\", \"93\", \"7\", \"47\", \"89\", \"29\", \"35\", \"16\", \"96\", \"36\", \"22\", \"167\", \"80\", \"97\", \"87\", \"57\", \"105\", \"23\", \"117\", \"106\", \"81\", \"49\", \"88\", \"112\", \"113\", \"21\", \"63\", \"54\", \"126\", \"86\", \"161\", \"70\", \"42\", \"172\", \"24\", \"131\", \"104\", \"91\", \"174\", \"69\", \"98\", \"102\", \"120\", \"115\", \"77\", \"44\", \"17\", \"26\", \"82\", \"28\", \"95\", \"90\", \"15\", \"79\", \"55\", \"165\", \"94\", \"152\", \"92\", \"150\", \"156\", \"59\", \"139\", \"109\", \"83\", \"73\", \"111\", \"159\", \"132\", \"103\", \"46\", \"20\", \"85\", \"142\", \"162\", \"68\", \"158\", \"157\", \"146\", \"160\", \"163\", \"140\", \"133\", \"107\", \"125\", \"101\", \"135\", \"134\", \"128\", \"171\", \"164\", \"149\", \"19\", \"168\", \"84\", \"155\", \"173\", \"25\", \"72\", \"67\", \"71\", \"65\", \"18\", \"151\", \"121\", \"114\", \"154\", \"124\", \"61\", \"148\", \"136\", \"110\", \"129\", \"78\", \"144\", \"118\", \"137\", \"122\", \"130\", \"66\", \"147\", \"127\", \"166\", \"145\", \"119\", \"123\", \"108\", \"170\", \"153\", \"143\", \"169\", \"116\", \"141\", \"138\", \"60\", \"74\"], \"type\": \"bar\", \"uid\": \"41f74ea8-769f-4b23-89e2-4652b86f2234\"}], {\"autosize\": false, \"height\": 1000, \"width\": 1000, \"xaxis\": {\"tickfont\": {\"color\": \"black\", \"size\": 12}, \"title\": \"Feature Importances\"}, \"yaxis\": {\"automargin\": true}}, {\"showLink\": true, \"linkText\": \"Export to plot.ly\", \"plotlyServerURL\": \"https://plot.ly\"})});</script>"
      ]
     },
     "metadata": {},
     "output_type": "display_data"
    },
    {
     "name": "stdout",
     "output_type": "stream",
     "text": [
      "\n",
      "\n",
      "\u001b[1mAdaoost Classifier\u001b[0m\n",
      "Accuracy of the model for training data is: 0.9732342244624513\n",
      "Confusion Matrix for training data is:\n"
     ]
    },
    {
     "data": {
      "text/plain": [
       "Predicted  False  True  __all__\n",
       "Actual                         \n",
       "False      27885   318    28203\n",
       "True         521  2622     3143\n",
       "__all__    28406  2940    31346"
      ]
     },
     "metadata": {},
     "output_type": "display_data"
    },
    {
     "name": "stdout",
     "output_type": "stream",
     "text": [
      "Accuracy of the model for test data is: 0.9423248692101569\n",
      "Confusion Matrix for test data is:\n"
     ]
    },
    {
     "data": {
      "text/plain": [
       "Predicted  False  True  __all__\n",
       "Actual                         \n",
       "False       6442    97     6539\n",
       "True         355   943     1298\n",
       "__all__     6797  1040     7837"
      ]
     },
     "metadata": {},
     "output_type": "display_data"
    },
    {
     "data": {
      "application/vnd.plotly.v1+json": {
       "config": {
        "linkText": "Export to plot.ly",
        "plotlyServerURL": "https://plot.ly",
        "showLink": true
       },
       "data": [
        {
         "marker": {
          "color": "rgb(158,202,225)",
          "line": {
           "color": "rgb(8,48,107)",
           "width": 1.5
          }
         },
         "opacity": 0.6,
         "orientation": "h",
         "text": [
          0.18,
          0.08,
          0.06,
          0.04,
          0.04,
          0.04,
          0.04,
          0.02,
          0.02,
          0.02,
          0.02,
          0.02,
          0.02,
          0.02,
          0.02,
          0.02,
          0.02,
          0.02,
          0.02,
          0.02,
          0.02,
          0.02,
          0.02,
          0.02,
          0.02,
          0.02,
          0.02,
          0.02,
          0.02,
          0.02,
          0.02,
          0.02,
          0.02,
          0,
          0,
          0,
          0,
          0,
          0,
          0,
          0,
          0,
          0,
          0,
          0,
          0,
          0,
          0,
          0,
          0,
          0,
          0,
          0,
          0,
          0,
          0,
          0,
          0,
          0,
          0,
          0,
          0,
          0,
          0,
          0,
          0,
          0,
          0,
          0,
          0,
          0,
          0,
          0,
          0,
          0,
          0,
          0,
          0,
          0,
          0,
          0,
          0,
          0,
          0,
          0,
          0,
          0,
          0,
          0,
          0,
          0,
          0,
          0,
          0,
          0,
          0,
          0,
          0,
          0,
          0,
          0,
          0,
          0,
          0,
          0,
          0,
          0,
          0,
          0,
          0,
          0,
          0,
          0,
          0,
          0,
          0,
          0,
          0,
          0,
          0,
          0,
          0,
          0,
          0,
          0,
          0,
          0,
          0,
          0,
          0,
          0,
          0,
          0,
          0,
          0,
          0,
          0,
          0,
          0,
          0,
          0,
          0,
          0,
          0,
          0,
          0,
          0,
          0,
          0,
          0,
          0,
          0,
          0,
          0,
          0,
          0,
          0,
          0,
          0,
          0,
          0,
          0,
          0,
          0,
          0,
          0,
          0,
          0,
          0,
          0,
          0,
          0,
          0,
          0,
          0
         ],
         "textposition": "outside",
         "type": "bar",
         "uid": "3f64c0ff-e367-4410-bdd2-f607c3acb5a8",
         "x": [
          0.18,
          0.08,
          0.06,
          0.04,
          0.04,
          0.04,
          0.04,
          0.02,
          0.02,
          0.02,
          0.02,
          0.02,
          0.02,
          0.02,
          0.02,
          0.02,
          0.02,
          0.02,
          0.02,
          0.02,
          0.02,
          0.02,
          0.02,
          0.02,
          0.02,
          0.02,
          0.02,
          0.02,
          0.02,
          0.02,
          0.02,
          0.02,
          0.02,
          0,
          0,
          0,
          0,
          0,
          0,
          0,
          0,
          0,
          0,
          0,
          0,
          0,
          0,
          0,
          0,
          0,
          0,
          0,
          0,
          0,
          0,
          0,
          0,
          0,
          0,
          0,
          0,
          0,
          0,
          0,
          0,
          0,
          0,
          0,
          0,
          0,
          0,
          0,
          0,
          0,
          0,
          0,
          0,
          0,
          0,
          0,
          0,
          0,
          0,
          0,
          0,
          0,
          0,
          0,
          0,
          0,
          0,
          0,
          0,
          0,
          0,
          0,
          0,
          0,
          0,
          0,
          0,
          0,
          0,
          0,
          0,
          0,
          0,
          0,
          0,
          0,
          0,
          0,
          0,
          0,
          0,
          0,
          0,
          0,
          0,
          0,
          0,
          0,
          0,
          0,
          0,
          0,
          0,
          0,
          0,
          0,
          0,
          0,
          0,
          0,
          0,
          0,
          0,
          0,
          0,
          0,
          0,
          0,
          0,
          0,
          0,
          0,
          0,
          0,
          0,
          0,
          0,
          0,
          0,
          0,
          0,
          0,
          0,
          0,
          0,
          0,
          0,
          0,
          0,
          0,
          0,
          0,
          0,
          0,
          0,
          0,
          0,
          0,
          0,
          0,
          0
         ],
         "y": [
          "0",
          "4",
          "32",
          "6",
          "10",
          "31",
          "88",
          "138",
          "94",
          "33",
          "37",
          "39",
          "40",
          "44",
          "45",
          "142",
          "53",
          "1",
          "58",
          "59",
          "27",
          "63",
          "67",
          "106",
          "116",
          "80",
          "133",
          "49",
          "101",
          "156",
          "166",
          "3",
          "7",
          "122",
          "117",
          "118",
          "119",
          "120",
          "121",
          "124",
          "123",
          "171",
          "125",
          "126",
          "127",
          "169",
          "170",
          "114",
          "115",
          "129",
          "113",
          "112",
          "111",
          "110",
          "172",
          "109",
          "108",
          "107",
          "105",
          "173",
          "104",
          "103",
          "102",
          "128",
          "153",
          "130",
          "147",
          "160",
          "144",
          "145",
          "146",
          "159",
          "158",
          "157",
          "152",
          "148",
          "149",
          "150",
          "155",
          "154",
          "151",
          "161",
          "143",
          "162",
          "141",
          "100",
          "140",
          "139",
          "163",
          "164",
          "137",
          "136",
          "135",
          "134",
          "165",
          "167",
          "132",
          "131",
          "168",
          "87",
          "99",
          "24",
          "26",
          "28",
          "29",
          "30",
          "34",
          "35",
          "36",
          "38",
          "41",
          "42",
          "43",
          "46",
          "47",
          "48",
          "50",
          "25",
          "23",
          "52",
          "22",
          "2",
          "5",
          "8",
          "9",
          "11",
          "12",
          "13",
          "14",
          "15",
          "16",
          "17",
          "18",
          "19",
          "20",
          "21",
          "51",
          "54",
          "98",
          "77",
          "79",
          "81",
          "82",
          "83",
          "84",
          "85",
          "86",
          "89",
          "90",
          "91",
          "92",
          "93",
          "95",
          "96",
          "97",
          "78",
          "76",
          "55",
          "75",
          "56",
          "57",
          "60",
          "61",
          "62",
          "64",
          "65",
          "66",
          "68",
          "69",
          "70",
          "71",
          "72",
          "73",
          "74",
          "174"
         ]
        }
       ],
       "layout": {
        "autosize": false,
        "height": 1000,
        "width": 1000,
        "xaxis": {
         "tickfont": {
          "color": "black",
          "size": 12
         },
         "title": "Feature Importances"
        },
        "yaxis": {
         "automargin": true
        }
       }
      },
      "text/html": [
       "<div id=\"c2688357-9b8d-4b92-bd19-b2f46c01c9fb\" style=\"height: 1000px; width: 1000px;\" class=\"plotly-graph-div\"></div><script type=\"text/javascript\">require([\"plotly\"], function(Plotly) { window.PLOTLYENV=window.PLOTLYENV || {};window.PLOTLYENV.BASE_URL=\"https://plot.ly\";Plotly.newPlot(\"c2688357-9b8d-4b92-bd19-b2f46c01c9fb\", [{\"marker\": {\"color\": \"rgb(158,202,225)\", \"line\": {\"color\": \"rgb(8,48,107)\", \"width\": 1.5}}, \"opacity\": 0.6, \"orientation\": \"h\", \"text\": [0.18, 0.08, 0.06, 0.04, 0.04, 0.04, 0.04, 0.02, 0.02, 0.02, 0.02, 0.02, 0.02, 0.02, 0.02, 0.02, 0.02, 0.02, 0.02, 0.02, 0.02, 0.02, 0.02, 0.02, 0.02, 0.02, 0.02, 0.02, 0.02, 0.02, 0.02, 0.02, 0.02, 0.0, 0.0, 0.0, 0.0, 0.0, 0.0, 0.0, 0.0, 0.0, 0.0, 0.0, 0.0, 0.0, 0.0, 0.0, 0.0, 0.0, 0.0, 0.0, 0.0, 0.0, 0.0, 0.0, 0.0, 0.0, 0.0, 0.0, 0.0, 0.0, 0.0, 0.0, 0.0, 0.0, 0.0, 0.0, 0.0, 0.0, 0.0, 0.0, 0.0, 0.0, 0.0, 0.0, 0.0, 0.0, 0.0, 0.0, 0.0, 0.0, 0.0, 0.0, 0.0, 0.0, 0.0, 0.0, 0.0, 0.0, 0.0, 0.0, 0.0, 0.0, 0.0, 0.0, 0.0, 0.0, 0.0, 0.0, 0.0, 0.0, 0.0, 0.0, 0.0, 0.0, 0.0, 0.0, 0.0, 0.0, 0.0, 0.0, 0.0, 0.0, 0.0, 0.0, 0.0, 0.0, 0.0, 0.0, 0.0, 0.0, 0.0, 0.0, 0.0, 0.0, 0.0, 0.0, 0.0, 0.0, 0.0, 0.0, 0.0, 0.0, 0.0, 0.0, 0.0, 0.0, 0.0, 0.0, 0.0, 0.0, 0.0, 0.0, 0.0, 0.0, 0.0, 0.0, 0.0, 0.0, 0.0, 0.0, 0.0, 0.0, 0.0, 0.0, 0.0, 0.0, 0.0, 0.0, 0.0, 0.0, 0.0, 0.0, 0.0, 0.0, 0.0, 0.0, 0.0, 0.0, 0.0, 0.0, 0.0, 0.0, 0.0], \"textposition\": \"outside\", \"x\": [0.18, 0.08, 0.06, 0.04, 0.04, 0.04, 0.04, 0.02, 0.02, 0.02, 0.02, 0.02, 0.02, 0.02, 0.02, 0.02, 0.02, 0.02, 0.02, 0.02, 0.02, 0.02, 0.02, 0.02, 0.02, 0.02, 0.02, 0.02, 0.02, 0.02, 0.02, 0.02, 0.02, 0.0, 0.0, 0.0, 0.0, 0.0, 0.0, 0.0, 0.0, 0.0, 0.0, 0.0, 0.0, 0.0, 0.0, 0.0, 0.0, 0.0, 0.0, 0.0, 0.0, 0.0, 0.0, 0.0, 0.0, 0.0, 0.0, 0.0, 0.0, 0.0, 0.0, 0.0, 0.0, 0.0, 0.0, 0.0, 0.0, 0.0, 0.0, 0.0, 0.0, 0.0, 0.0, 0.0, 0.0, 0.0, 0.0, 0.0, 0.0, 0.0, 0.0, 0.0, 0.0, 0.0, 0.0, 0.0, 0.0, 0.0, 0.0, 0.0, 0.0, 0.0, 0.0, 0.0, 0.0, 0.0, 0.0, 0.0, 0.0, 0.0, 0.0, 0.0, 0.0, 0.0, 0.0, 0.0, 0.0, 0.0, 0.0, 0.0, 0.0, 0.0, 0.0, 0.0, 0.0, 0.0, 0.0, 0.0, 0.0, 0.0, 0.0, 0.0, 0.0, 0.0, 0.0, 0.0, 0.0, 0.0, 0.0, 0.0, 0.0, 0.0, 0.0, 0.0, 0.0, 0.0, 0.0, 0.0, 0.0, 0.0, 0.0, 0.0, 0.0, 0.0, 0.0, 0.0, 0.0, 0.0, 0.0, 0.0, 0.0, 0.0, 0.0, 0.0, 0.0, 0.0, 0.0, 0.0, 0.0, 0.0, 0.0, 0.0, 0.0, 0.0, 0.0, 0.0, 0.0, 0.0, 0.0, 0.0, 0.0, 0.0, 0.0], \"y\": [\"0\", \"4\", \"32\", \"6\", \"10\", \"31\", \"88\", \"138\", \"94\", \"33\", \"37\", \"39\", \"40\", \"44\", \"45\", \"142\", \"53\", \"1\", \"58\", \"59\", \"27\", \"63\", \"67\", \"106\", \"116\", \"80\", \"133\", \"49\", \"101\", \"156\", \"166\", \"3\", \"7\", \"122\", \"117\", \"118\", \"119\", \"120\", \"121\", \"124\", \"123\", \"171\", \"125\", \"126\", \"127\", \"169\", \"170\", \"114\", \"115\", \"129\", \"113\", \"112\", \"111\", \"110\", \"172\", \"109\", \"108\", \"107\", \"105\", \"173\", \"104\", \"103\", \"102\", \"128\", \"153\", \"130\", \"147\", \"160\", \"144\", \"145\", \"146\", \"159\", \"158\", \"157\", \"152\", \"148\", \"149\", \"150\", \"155\", \"154\", \"151\", \"161\", \"143\", \"162\", \"141\", \"100\", \"140\", \"139\", \"163\", \"164\", \"137\", \"136\", \"135\", \"134\", \"165\", \"167\", \"132\", \"131\", \"168\", \"87\", \"99\", \"24\", \"26\", \"28\", \"29\", \"30\", \"34\", \"35\", \"36\", \"38\", \"41\", \"42\", \"43\", \"46\", \"47\", \"48\", \"50\", \"25\", \"23\", \"52\", \"22\", \"2\", \"5\", \"8\", \"9\", \"11\", \"12\", \"13\", \"14\", \"15\", \"16\", \"17\", \"18\", \"19\", \"20\", \"21\", \"51\", \"54\", \"98\", \"77\", \"79\", \"81\", \"82\", \"83\", \"84\", \"85\", \"86\", \"89\", \"90\", \"91\", \"92\", \"93\", \"95\", \"96\", \"97\", \"78\", \"76\", \"55\", \"75\", \"56\", \"57\", \"60\", \"61\", \"62\", \"64\", \"65\", \"66\", \"68\", \"69\", \"70\", \"71\", \"72\", \"73\", \"74\", \"174\"], \"type\": \"bar\", \"uid\": \"3f64c0ff-e367-4410-bdd2-f607c3acb5a8\"}], {\"autosize\": false, \"height\": 1000, \"width\": 1000, \"xaxis\": {\"tickfont\": {\"color\": \"black\", \"size\": 12}, \"title\": \"Feature Importances\"}, \"yaxis\": {\"automargin\": true}}, {\"showLink\": true, \"linkText\": \"Export to plot.ly\", \"plotlyServerURL\": \"https://plot.ly\"})});</script>"
      ],
      "text/vnd.plotly.v1+html": [
       "<div id=\"c2688357-9b8d-4b92-bd19-b2f46c01c9fb\" style=\"height: 1000px; width: 1000px;\" class=\"plotly-graph-div\"></div><script type=\"text/javascript\">require([\"plotly\"], function(Plotly) { window.PLOTLYENV=window.PLOTLYENV || {};window.PLOTLYENV.BASE_URL=\"https://plot.ly\";Plotly.newPlot(\"c2688357-9b8d-4b92-bd19-b2f46c01c9fb\", [{\"marker\": {\"color\": \"rgb(158,202,225)\", \"line\": {\"color\": \"rgb(8,48,107)\", \"width\": 1.5}}, \"opacity\": 0.6, \"orientation\": \"h\", \"text\": [0.18, 0.08, 0.06, 0.04, 0.04, 0.04, 0.04, 0.02, 0.02, 0.02, 0.02, 0.02, 0.02, 0.02, 0.02, 0.02, 0.02, 0.02, 0.02, 0.02, 0.02, 0.02, 0.02, 0.02, 0.02, 0.02, 0.02, 0.02, 0.02, 0.02, 0.02, 0.02, 0.02, 0.0, 0.0, 0.0, 0.0, 0.0, 0.0, 0.0, 0.0, 0.0, 0.0, 0.0, 0.0, 0.0, 0.0, 0.0, 0.0, 0.0, 0.0, 0.0, 0.0, 0.0, 0.0, 0.0, 0.0, 0.0, 0.0, 0.0, 0.0, 0.0, 0.0, 0.0, 0.0, 0.0, 0.0, 0.0, 0.0, 0.0, 0.0, 0.0, 0.0, 0.0, 0.0, 0.0, 0.0, 0.0, 0.0, 0.0, 0.0, 0.0, 0.0, 0.0, 0.0, 0.0, 0.0, 0.0, 0.0, 0.0, 0.0, 0.0, 0.0, 0.0, 0.0, 0.0, 0.0, 0.0, 0.0, 0.0, 0.0, 0.0, 0.0, 0.0, 0.0, 0.0, 0.0, 0.0, 0.0, 0.0, 0.0, 0.0, 0.0, 0.0, 0.0, 0.0, 0.0, 0.0, 0.0, 0.0, 0.0, 0.0, 0.0, 0.0, 0.0, 0.0, 0.0, 0.0, 0.0, 0.0, 0.0, 0.0, 0.0, 0.0, 0.0, 0.0, 0.0, 0.0, 0.0, 0.0, 0.0, 0.0, 0.0, 0.0, 0.0, 0.0, 0.0, 0.0, 0.0, 0.0, 0.0, 0.0, 0.0, 0.0, 0.0, 0.0, 0.0, 0.0, 0.0, 0.0, 0.0, 0.0, 0.0, 0.0, 0.0, 0.0, 0.0, 0.0, 0.0, 0.0, 0.0, 0.0, 0.0, 0.0, 0.0], \"textposition\": \"outside\", \"x\": [0.18, 0.08, 0.06, 0.04, 0.04, 0.04, 0.04, 0.02, 0.02, 0.02, 0.02, 0.02, 0.02, 0.02, 0.02, 0.02, 0.02, 0.02, 0.02, 0.02, 0.02, 0.02, 0.02, 0.02, 0.02, 0.02, 0.02, 0.02, 0.02, 0.02, 0.02, 0.02, 0.02, 0.0, 0.0, 0.0, 0.0, 0.0, 0.0, 0.0, 0.0, 0.0, 0.0, 0.0, 0.0, 0.0, 0.0, 0.0, 0.0, 0.0, 0.0, 0.0, 0.0, 0.0, 0.0, 0.0, 0.0, 0.0, 0.0, 0.0, 0.0, 0.0, 0.0, 0.0, 0.0, 0.0, 0.0, 0.0, 0.0, 0.0, 0.0, 0.0, 0.0, 0.0, 0.0, 0.0, 0.0, 0.0, 0.0, 0.0, 0.0, 0.0, 0.0, 0.0, 0.0, 0.0, 0.0, 0.0, 0.0, 0.0, 0.0, 0.0, 0.0, 0.0, 0.0, 0.0, 0.0, 0.0, 0.0, 0.0, 0.0, 0.0, 0.0, 0.0, 0.0, 0.0, 0.0, 0.0, 0.0, 0.0, 0.0, 0.0, 0.0, 0.0, 0.0, 0.0, 0.0, 0.0, 0.0, 0.0, 0.0, 0.0, 0.0, 0.0, 0.0, 0.0, 0.0, 0.0, 0.0, 0.0, 0.0, 0.0, 0.0, 0.0, 0.0, 0.0, 0.0, 0.0, 0.0, 0.0, 0.0, 0.0, 0.0, 0.0, 0.0, 0.0, 0.0, 0.0, 0.0, 0.0, 0.0, 0.0, 0.0, 0.0, 0.0, 0.0, 0.0, 0.0, 0.0, 0.0, 0.0, 0.0, 0.0, 0.0, 0.0, 0.0, 0.0, 0.0, 0.0, 0.0, 0.0, 0.0, 0.0, 0.0, 0.0], \"y\": [\"0\", \"4\", \"32\", \"6\", \"10\", \"31\", \"88\", \"138\", \"94\", \"33\", \"37\", \"39\", \"40\", \"44\", \"45\", \"142\", \"53\", \"1\", \"58\", \"59\", \"27\", \"63\", \"67\", \"106\", \"116\", \"80\", \"133\", \"49\", \"101\", \"156\", \"166\", \"3\", \"7\", \"122\", \"117\", \"118\", \"119\", \"120\", \"121\", \"124\", \"123\", \"171\", \"125\", \"126\", \"127\", \"169\", \"170\", \"114\", \"115\", \"129\", \"113\", \"112\", \"111\", \"110\", \"172\", \"109\", \"108\", \"107\", \"105\", \"173\", \"104\", \"103\", \"102\", \"128\", \"153\", \"130\", \"147\", \"160\", \"144\", \"145\", \"146\", \"159\", \"158\", \"157\", \"152\", \"148\", \"149\", \"150\", \"155\", \"154\", \"151\", \"161\", \"143\", \"162\", \"141\", \"100\", \"140\", \"139\", \"163\", \"164\", \"137\", \"136\", \"135\", \"134\", \"165\", \"167\", \"132\", \"131\", \"168\", \"87\", \"99\", \"24\", \"26\", \"28\", \"29\", \"30\", \"34\", \"35\", \"36\", \"38\", \"41\", \"42\", \"43\", \"46\", \"47\", \"48\", \"50\", \"25\", \"23\", \"52\", \"22\", \"2\", \"5\", \"8\", \"9\", \"11\", \"12\", \"13\", \"14\", \"15\", \"16\", \"17\", \"18\", \"19\", \"20\", \"21\", \"51\", \"54\", \"98\", \"77\", \"79\", \"81\", \"82\", \"83\", \"84\", \"85\", \"86\", \"89\", \"90\", \"91\", \"92\", \"93\", \"95\", \"96\", \"97\", \"78\", \"76\", \"55\", \"75\", \"56\", \"57\", \"60\", \"61\", \"62\", \"64\", \"65\", \"66\", \"68\", \"69\", \"70\", \"71\", \"72\", \"73\", \"74\", \"174\"], \"type\": \"bar\", \"uid\": \"3f64c0ff-e367-4410-bdd2-f607c3acb5a8\"}], {\"autosize\": false, \"height\": 1000, \"width\": 1000, \"xaxis\": {\"tickfont\": {\"color\": \"black\", \"size\": 12}, \"title\": \"Feature Importances\"}, \"yaxis\": {\"automargin\": true}}, {\"showLink\": true, \"linkText\": \"Export to plot.ly\", \"plotlyServerURL\": \"https://plot.ly\"})});</script>"
      ]
     },
     "metadata": {},
     "output_type": "display_data"
    },
    {
     "name": "stdout",
     "output_type": "stream",
     "text": [
      "\n",
      "\n",
      "\u001b[1mGradientBoosting Classifier\u001b[0m\n",
      "Accuracy of the model for training data is: 0.9793913098959995\n",
      "Confusion Matrix for training data is:\n"
     ]
    },
    {
     "data": {
      "text/plain": [
       "Predicted  False  True  __all__\n",
       "Actual                         \n",
       "False      28060   143    28203\n",
       "True         503  2640     3143\n",
       "__all__    28563  2783    31346"
      ]
     },
     "metadata": {},
     "output_type": "display_data"
    },
    {
     "name": "stdout",
     "output_type": "stream",
     "text": [
      "Accuracy of the model for test data is: 0.9555952532856961\n",
      "Confusion Matrix for test data is:\n"
     ]
    },
    {
     "data": {
      "text/plain": [
       "Predicted  False  True  __all__\n",
       "Actual                         \n",
       "False       6494    45     6539\n",
       "True         303   995     1298\n",
       "__all__     6797  1040     7837"
      ]
     },
     "metadata": {},
     "output_type": "display_data"
    },
    {
     "data": {
      "application/vnd.plotly.v1+json": {
       "config": {
        "linkText": "Export to plot.ly",
        "plotlyServerURL": "https://plot.ly",
        "showLink": true
       },
       "data": [
        {
         "marker": {
          "color": "rgb(158,202,225)",
          "line": {
           "color": "rgb(8,48,107)",
           "width": 1.5
          }
         },
         "opacity": 0.6,
         "orientation": "h",
         "text": [
          0.8046,
          0.0511,
          0.0312,
          0.0178,
          0.0136,
          0.0129,
          0.0078,
          0.004,
          0.0039,
          0.0037,
          0.0031,
          0.0031,
          0.0028,
          0.0027,
          0.0023,
          0.0022,
          0.0022,
          0.002,
          0.0019,
          0.0019,
          0.0019,
          0.0018,
          0.0014,
          0.0013,
          0.0013,
          0.0013,
          0.001,
          0.0009,
          0.0008,
          0.0008,
          0.0008,
          0.0007,
          0.0006,
          0.0006,
          0.0005,
          0.0005,
          0.0005,
          0.0005,
          0.0004,
          0.0004,
          0.0004,
          0.0003,
          0.0003,
          0.0003,
          0.0003,
          0.0003,
          0.0003,
          0.0003,
          0.0003,
          0.0003,
          0.0002,
          0.0002,
          0.0002,
          0.0002,
          0.0002,
          0.0002,
          0.0002,
          0.0001,
          0.0001,
          0.0001,
          0.0001,
          0.0001,
          0.0001,
          0.0001,
          0.0001,
          0.0001,
          0.0001,
          0.0001,
          0.0001,
          0.0001,
          0.0001,
          0.0001,
          0.0001,
          0.0001,
          0.0001,
          0.0001,
          0.0001,
          0.0001,
          0.0001,
          0.0001,
          0.0001,
          0,
          0,
          0,
          0,
          0,
          0,
          0,
          0,
          0,
          0,
          0,
          0,
          0,
          0,
          0,
          0,
          0,
          0,
          0,
          0,
          0,
          0,
          0,
          0,
          0,
          0,
          0,
          0,
          0,
          0,
          0,
          0,
          0,
          0,
          0,
          0,
          0,
          0,
          0,
          0,
          0,
          0,
          0,
          0,
          0,
          0,
          0,
          0,
          0,
          0,
          0,
          0,
          0,
          0,
          0,
          0,
          0,
          0,
          0,
          0,
          0,
          0,
          0,
          0,
          0,
          0,
          0,
          0,
          0,
          0,
          0,
          0,
          0,
          0,
          0,
          0,
          0,
          0,
          0,
          0,
          0,
          0,
          0,
          0,
          0,
          0,
          0,
          0,
          0,
          0,
          0,
          0,
          0,
          0
         ],
         "textposition": "outside",
         "type": "bar",
         "uid": "f3420489-41c2-4bef-88d3-60f01bfb654e",
         "x": [
          0.8045938558126254,
          0.051143200842206665,
          0.031191385896763117,
          0.017792406977493583,
          0.013642803996446995,
          0.012853670043925685,
          0.007820846926692016,
          0.003953361239053667,
          0.003914034546438978,
          0.003675272748978778,
          0.0031495244170786367,
          0.0031198194768554764,
          0.0027921102502364726,
          0.002749351139460925,
          0.0023430700769013642,
          0.002235063761630376,
          0.002168579215223062,
          0.0020058247591110165,
          0.00194706247364351,
          0.0018734048052743038,
          0.0018535996464858822,
          0.00182397271787824,
          0.0013967339635462168,
          0.0013150962227448414,
          0.0013037243010372433,
          0.0012974815271896614,
          0.0009527620895155159,
          0.0008745567719120574,
          0.0008163694522258888,
          0.0008025204549934683,
          0.0007980728514419857,
          0.0006763478702771111,
          0.0006293343448412316,
          0.0005802263962010804,
          0.0005262184870383854,
          0.0005218088494385765,
          0.0005096801849182165,
          0.0004964034463717422,
          0.00038544520641451476,
          0.0003653989588571745,
          0.0003627956891924,
          0.0003336665750526449,
          0.00030614460491846764,
          0.00029990011113530454,
          0.0002976268435370999,
          0.0002859693505436013,
          0.00026522231929067914,
          0.0002637323636890498,
          0.000263052310230239,
          0.0002624767228995362,
          0.0002488691652014334,
          0.00023788828083729272,
          0.00023609768195288191,
          0.00021731897879462308,
          0.00017169461856918382,
          0.0001688679914910711,
          0.00015318927481676385,
          0.00014552745666840836,
          0.00014527311931811275,
          0.00014473394502369563,
          0.00014015945417405752,
          0.00012730935853164321,
          0.00012472304789634537,
          0.00012433928994377383,
          0.00012231267837638986,
          0.00011295304535306557,
          0.0001092164233835366,
          9.957802443705466e-05,
          9.788965142549442e-05,
          9.745475308781213e-05,
          9.400829323419036e-05,
          9.232894558802955e-05,
          8.973528353897868e-05,
          8.355466031481169e-05,
          8.299074608039998e-05,
          7.39864015667767e-05,
          7.121560618664532e-05,
          5.984658728530949e-05,
          5.697903213060216e-05,
          5.438306858949805e-05,
          5.314870871170799e-05,
          4.551428984824016e-05,
          4.126601586194649e-05,
          3.5859380559919796e-05,
          3.20516829676747e-05,
          2.6997072486800517e-05,
          2.5737646488264897e-05,
          2.4731584881340734e-05,
          2.2663646782450893e-05,
          2.0473906079126325e-05,
          1.8888545647691675e-05,
          1.5653151843281205e-05,
          6.89973329748259e-06,
          5.0344456243138655e-06,
          4.3435461694561155e-06,
          3.127656206081182e-06,
          2.194082887923533e-06,
          0,
          0,
          0,
          0,
          0,
          0,
          0,
          0,
          0,
          0,
          0,
          0,
          0,
          0,
          0,
          0,
          0,
          0,
          0,
          0,
          0,
          0,
          0,
          0,
          0,
          0,
          0,
          0,
          0,
          0,
          0,
          0,
          0,
          0,
          0,
          0,
          0,
          0,
          0,
          0,
          0,
          0,
          0,
          0,
          0,
          0,
          0,
          0,
          0,
          0,
          0,
          0,
          0,
          0,
          0,
          0,
          0,
          0,
          0,
          0,
          0,
          0,
          0,
          0,
          0,
          0,
          0,
          0,
          0,
          0,
          0,
          0,
          0,
          0,
          0,
          0,
          0,
          0
         ],
         "y": [
          "0",
          "52",
          "31",
          "3",
          "58",
          "80",
          "59",
          "38",
          "40",
          "39",
          "77",
          "32",
          "6",
          "22",
          "4",
          "37",
          "14",
          "2",
          "10",
          "97",
          "30",
          "50",
          "165",
          "43",
          "33",
          "118",
          "12",
          "75",
          "78",
          "109",
          "56",
          "1",
          "111",
          "5",
          "171",
          "36",
          "73",
          "49",
          "11",
          "44",
          "88",
          "93",
          "79",
          "68",
          "95",
          "126",
          "62",
          "96",
          "164",
          "15",
          "67",
          "150",
          "16",
          "45",
          "167",
          "84",
          "34",
          "42",
          "146",
          "101",
          "103",
          "85",
          "131",
          "13",
          "25",
          "135",
          "127",
          "142",
          "169",
          "89",
          "23",
          "86",
          "61",
          "151",
          "108",
          "7",
          "162",
          "116",
          "170",
          "63",
          "57",
          "90",
          "128",
          "27",
          "48",
          "99",
          "166",
          "106",
          "55",
          "136",
          "28",
          "124",
          "140",
          "132",
          "72",
          "60",
          "145",
          "144",
          "134",
          "133",
          "163",
          "157",
          "125",
          "173",
          "130",
          "129",
          "158",
          "159",
          "161",
          "172",
          "155",
          "156",
          "137",
          "154",
          "138",
          "139",
          "153",
          "152",
          "141",
          "149",
          "148",
          "147",
          "168",
          "143",
          "160",
          "87",
          "123",
          "71",
          "69",
          "66",
          "65",
          "64",
          "54",
          "53",
          "51",
          "47",
          "46",
          "41",
          "35",
          "29",
          "26",
          "24",
          "21",
          "20",
          "19",
          "18",
          "17",
          "9",
          "8",
          "70",
          "74",
          "122",
          "76",
          "121",
          "120",
          "119",
          "117",
          "115",
          "114",
          "113",
          "112",
          "110",
          "107",
          "105",
          "104",
          "102",
          "100",
          "98",
          "94",
          "92",
          "91",
          "83",
          "82",
          "81",
          "174"
         ]
        }
       ],
       "layout": {
        "autosize": false,
        "height": 1000,
        "width": 1000,
        "xaxis": {
         "tickfont": {
          "color": "black",
          "size": 12
         },
         "title": "Feature Importances"
        },
        "yaxis": {
         "automargin": true
        }
       }
      },
      "text/html": [
       "<div id=\"1552c70b-fd2d-4530-a8d2-7fde1eb5c57a\" style=\"height: 1000px; width: 1000px;\" class=\"plotly-graph-div\"></div><script type=\"text/javascript\">require([\"plotly\"], function(Plotly) { window.PLOTLYENV=window.PLOTLYENV || {};window.PLOTLYENV.BASE_URL=\"https://plot.ly\";Plotly.newPlot(\"1552c70b-fd2d-4530-a8d2-7fde1eb5c57a\", [{\"marker\": {\"color\": \"rgb(158,202,225)\", \"line\": {\"color\": \"rgb(8,48,107)\", \"width\": 1.5}}, \"opacity\": 0.6, \"orientation\": \"h\", \"text\": [0.8046, 0.0511, 0.0312, 0.0178, 0.0136, 0.0129, 0.0078, 0.004, 0.0039, 0.0037, 0.0031, 0.0031, 0.0028, 0.0027, 0.0023, 0.0022, 0.0022, 0.002, 0.0019, 0.0019, 0.0019, 0.0018, 0.0014, 0.0013, 0.0013, 0.0013, 0.001, 0.0009, 0.0008, 0.0008, 0.0008, 0.0007, 0.0006, 0.0006, 0.0005, 0.0005, 0.0005, 0.0005, 0.0004, 0.0004, 0.0004, 0.0003, 0.0003, 0.0003, 0.0003, 0.0003, 0.0003, 0.0003, 0.0003, 0.0003, 0.0002, 0.0002, 0.0002, 0.0002, 0.0002, 0.0002, 0.0002, 0.0001, 0.0001, 0.0001, 0.0001, 0.0001, 0.0001, 0.0001, 0.0001, 0.0001, 0.0001, 0.0001, 0.0001, 0.0001, 0.0001, 0.0001, 0.0001, 0.0001, 0.0001, 0.0001, 0.0001, 0.0001, 0.0001, 0.0001, 0.0001, 0.0, 0.0, 0.0, 0.0, 0.0, 0.0, 0.0, 0.0, 0.0, 0.0, 0.0, 0.0, 0.0, 0.0, 0.0, 0.0, 0.0, 0.0, 0.0, 0.0, 0.0, 0.0, 0.0, 0.0, 0.0, 0.0, 0.0, 0.0, 0.0, 0.0, 0.0, 0.0, 0.0, 0.0, 0.0, 0.0, 0.0, 0.0, 0.0, 0.0, 0.0, 0.0, 0.0, 0.0, 0.0, 0.0, 0.0, 0.0, 0.0, 0.0, 0.0, 0.0, 0.0, 0.0, 0.0, 0.0, 0.0, 0.0, 0.0, 0.0, 0.0, 0.0, 0.0, 0.0, 0.0, 0.0, 0.0, 0.0, 0.0, 0.0, 0.0, 0.0, 0.0, 0.0, 0.0, 0.0, 0.0, 0.0, 0.0, 0.0, 0.0, 0.0, 0.0, 0.0, 0.0, 0.0, 0.0, 0.0, 0.0, 0.0, 0.0, 0.0, 0.0, 0.0], \"textposition\": \"outside\", \"x\": [0.8045938558126254, 0.051143200842206665, 0.031191385896763117, 0.017792406977493583, 0.013642803996446995, 0.012853670043925685, 0.007820846926692016, 0.003953361239053667, 0.003914034546438978, 0.003675272748978778, 0.0031495244170786367, 0.0031198194768554764, 0.0027921102502364726, 0.002749351139460925, 0.0023430700769013642, 0.002235063761630376, 0.002168579215223062, 0.0020058247591110165, 0.00194706247364351, 0.0018734048052743038, 0.0018535996464858822, 0.00182397271787824, 0.0013967339635462168, 0.0013150962227448414, 0.0013037243010372433, 0.0012974815271896614, 0.0009527620895155159, 0.0008745567719120574, 0.0008163694522258888, 0.0008025204549934683, 0.0007980728514419857, 0.0006763478702771111, 0.0006293343448412316, 0.0005802263962010804, 0.0005262184870383854, 0.0005218088494385765, 0.0005096801849182165, 0.0004964034463717422, 0.00038544520641451476, 0.0003653989588571745, 0.0003627956891924, 0.0003336665750526449, 0.00030614460491846764, 0.00029990011113530454, 0.0002976268435370999, 0.0002859693505436013, 0.00026522231929067914, 0.0002637323636890498, 0.000263052310230239, 0.0002624767228995362, 0.0002488691652014334, 0.00023788828083729272, 0.00023609768195288191, 0.00021731897879462308, 0.00017169461856918382, 0.0001688679914910711, 0.00015318927481676385, 0.00014552745666840836, 0.00014527311931811275, 0.00014473394502369563, 0.00014015945417405752, 0.00012730935853164321, 0.00012472304789634537, 0.00012433928994377383, 0.00012231267837638986, 0.00011295304535306557, 0.0001092164233835366, 9.957802443705466e-05, 9.788965142549442e-05, 9.745475308781213e-05, 9.400829323419036e-05, 9.232894558802955e-05, 8.973528353897868e-05, 8.355466031481169e-05, 8.299074608039998e-05, 7.39864015667767e-05, 7.121560618664532e-05, 5.984658728530949e-05, 5.697903213060216e-05, 5.438306858949805e-05, 5.314870871170799e-05, 4.551428984824016e-05, 4.126601586194649e-05, 3.5859380559919796e-05, 3.20516829676747e-05, 2.6997072486800517e-05, 2.5737646488264897e-05, 2.4731584881340734e-05, 2.2663646782450893e-05, 2.0473906079126325e-05, 1.8888545647691675e-05, 1.5653151843281205e-05, 6.89973329748259e-06, 5.0344456243138655e-06, 4.3435461694561155e-06, 3.127656206081182e-06, 2.194082887923533e-06, 0.0, 0.0, 0.0, 0.0, 0.0, 0.0, 0.0, 0.0, 0.0, 0.0, 0.0, 0.0, 0.0, 0.0, 0.0, 0.0, 0.0, 0.0, 0.0, 0.0, 0.0, 0.0, 0.0, 0.0, 0.0, 0.0, 0.0, 0.0, 0.0, 0.0, 0.0, 0.0, 0.0, 0.0, 0.0, 0.0, 0.0, 0.0, 0.0, 0.0, 0.0, 0.0, 0.0, 0.0, 0.0, 0.0, 0.0, 0.0, 0.0, 0.0, 0.0, 0.0, 0.0, 0.0, 0.0, 0.0, 0.0, 0.0, 0.0, 0.0, 0.0, 0.0, 0.0, 0.0, 0.0, 0.0, 0.0, 0.0, 0.0, 0.0, 0.0, 0.0, 0.0, 0.0, 0.0, 0.0, 0.0, 0.0], \"y\": [\"0\", \"52\", \"31\", \"3\", \"58\", \"80\", \"59\", \"38\", \"40\", \"39\", \"77\", \"32\", \"6\", \"22\", \"4\", \"37\", \"14\", \"2\", \"10\", \"97\", \"30\", \"50\", \"165\", \"43\", \"33\", \"118\", \"12\", \"75\", \"78\", \"109\", \"56\", \"1\", \"111\", \"5\", \"171\", \"36\", \"73\", \"49\", \"11\", \"44\", \"88\", \"93\", \"79\", \"68\", \"95\", \"126\", \"62\", \"96\", \"164\", \"15\", \"67\", \"150\", \"16\", \"45\", \"167\", \"84\", \"34\", \"42\", \"146\", \"101\", \"103\", \"85\", \"131\", \"13\", \"25\", \"135\", \"127\", \"142\", \"169\", \"89\", \"23\", \"86\", \"61\", \"151\", \"108\", \"7\", \"162\", \"116\", \"170\", \"63\", \"57\", \"90\", \"128\", \"27\", \"48\", \"99\", \"166\", \"106\", \"55\", \"136\", \"28\", \"124\", \"140\", \"132\", \"72\", \"60\", \"145\", \"144\", \"134\", \"133\", \"163\", \"157\", \"125\", \"173\", \"130\", \"129\", \"158\", \"159\", \"161\", \"172\", \"155\", \"156\", \"137\", \"154\", \"138\", \"139\", \"153\", \"152\", \"141\", \"149\", \"148\", \"147\", \"168\", \"143\", \"160\", \"87\", \"123\", \"71\", \"69\", \"66\", \"65\", \"64\", \"54\", \"53\", \"51\", \"47\", \"46\", \"41\", \"35\", \"29\", \"26\", \"24\", \"21\", \"20\", \"19\", \"18\", \"17\", \"9\", \"8\", \"70\", \"74\", \"122\", \"76\", \"121\", \"120\", \"119\", \"117\", \"115\", \"114\", \"113\", \"112\", \"110\", \"107\", \"105\", \"104\", \"102\", \"100\", \"98\", \"94\", \"92\", \"91\", \"83\", \"82\", \"81\", \"174\"], \"type\": \"bar\", \"uid\": \"f3420489-41c2-4bef-88d3-60f01bfb654e\"}], {\"autosize\": false, \"height\": 1000, \"width\": 1000, \"xaxis\": {\"tickfont\": {\"color\": \"black\", \"size\": 12}, \"title\": \"Feature Importances\"}, \"yaxis\": {\"automargin\": true}}, {\"showLink\": true, \"linkText\": \"Export to plot.ly\", \"plotlyServerURL\": \"https://plot.ly\"})});</script>"
      ],
      "text/vnd.plotly.v1+html": [
       "<div id=\"1552c70b-fd2d-4530-a8d2-7fde1eb5c57a\" style=\"height: 1000px; width: 1000px;\" class=\"plotly-graph-div\"></div><script type=\"text/javascript\">require([\"plotly\"], function(Plotly) { window.PLOTLYENV=window.PLOTLYENV || {};window.PLOTLYENV.BASE_URL=\"https://plot.ly\";Plotly.newPlot(\"1552c70b-fd2d-4530-a8d2-7fde1eb5c57a\", [{\"marker\": {\"color\": \"rgb(158,202,225)\", \"line\": {\"color\": \"rgb(8,48,107)\", \"width\": 1.5}}, \"opacity\": 0.6, \"orientation\": \"h\", \"text\": [0.8046, 0.0511, 0.0312, 0.0178, 0.0136, 0.0129, 0.0078, 0.004, 0.0039, 0.0037, 0.0031, 0.0031, 0.0028, 0.0027, 0.0023, 0.0022, 0.0022, 0.002, 0.0019, 0.0019, 0.0019, 0.0018, 0.0014, 0.0013, 0.0013, 0.0013, 0.001, 0.0009, 0.0008, 0.0008, 0.0008, 0.0007, 0.0006, 0.0006, 0.0005, 0.0005, 0.0005, 0.0005, 0.0004, 0.0004, 0.0004, 0.0003, 0.0003, 0.0003, 0.0003, 0.0003, 0.0003, 0.0003, 0.0003, 0.0003, 0.0002, 0.0002, 0.0002, 0.0002, 0.0002, 0.0002, 0.0002, 0.0001, 0.0001, 0.0001, 0.0001, 0.0001, 0.0001, 0.0001, 0.0001, 0.0001, 0.0001, 0.0001, 0.0001, 0.0001, 0.0001, 0.0001, 0.0001, 0.0001, 0.0001, 0.0001, 0.0001, 0.0001, 0.0001, 0.0001, 0.0001, 0.0, 0.0, 0.0, 0.0, 0.0, 0.0, 0.0, 0.0, 0.0, 0.0, 0.0, 0.0, 0.0, 0.0, 0.0, 0.0, 0.0, 0.0, 0.0, 0.0, 0.0, 0.0, 0.0, 0.0, 0.0, 0.0, 0.0, 0.0, 0.0, 0.0, 0.0, 0.0, 0.0, 0.0, 0.0, 0.0, 0.0, 0.0, 0.0, 0.0, 0.0, 0.0, 0.0, 0.0, 0.0, 0.0, 0.0, 0.0, 0.0, 0.0, 0.0, 0.0, 0.0, 0.0, 0.0, 0.0, 0.0, 0.0, 0.0, 0.0, 0.0, 0.0, 0.0, 0.0, 0.0, 0.0, 0.0, 0.0, 0.0, 0.0, 0.0, 0.0, 0.0, 0.0, 0.0, 0.0, 0.0, 0.0, 0.0, 0.0, 0.0, 0.0, 0.0, 0.0, 0.0, 0.0, 0.0, 0.0, 0.0, 0.0, 0.0, 0.0, 0.0, 0.0], \"textposition\": \"outside\", \"x\": [0.8045938558126254, 0.051143200842206665, 0.031191385896763117, 0.017792406977493583, 0.013642803996446995, 0.012853670043925685, 0.007820846926692016, 0.003953361239053667, 0.003914034546438978, 0.003675272748978778, 0.0031495244170786367, 0.0031198194768554764, 0.0027921102502364726, 0.002749351139460925, 0.0023430700769013642, 0.002235063761630376, 0.002168579215223062, 0.0020058247591110165, 0.00194706247364351, 0.0018734048052743038, 0.0018535996464858822, 0.00182397271787824, 0.0013967339635462168, 0.0013150962227448414, 0.0013037243010372433, 0.0012974815271896614, 0.0009527620895155159, 0.0008745567719120574, 0.0008163694522258888, 0.0008025204549934683, 0.0007980728514419857, 0.0006763478702771111, 0.0006293343448412316, 0.0005802263962010804, 0.0005262184870383854, 0.0005218088494385765, 0.0005096801849182165, 0.0004964034463717422, 0.00038544520641451476, 0.0003653989588571745, 0.0003627956891924, 0.0003336665750526449, 0.00030614460491846764, 0.00029990011113530454, 0.0002976268435370999, 0.0002859693505436013, 0.00026522231929067914, 0.0002637323636890498, 0.000263052310230239, 0.0002624767228995362, 0.0002488691652014334, 0.00023788828083729272, 0.00023609768195288191, 0.00021731897879462308, 0.00017169461856918382, 0.0001688679914910711, 0.00015318927481676385, 0.00014552745666840836, 0.00014527311931811275, 0.00014473394502369563, 0.00014015945417405752, 0.00012730935853164321, 0.00012472304789634537, 0.00012433928994377383, 0.00012231267837638986, 0.00011295304535306557, 0.0001092164233835366, 9.957802443705466e-05, 9.788965142549442e-05, 9.745475308781213e-05, 9.400829323419036e-05, 9.232894558802955e-05, 8.973528353897868e-05, 8.355466031481169e-05, 8.299074608039998e-05, 7.39864015667767e-05, 7.121560618664532e-05, 5.984658728530949e-05, 5.697903213060216e-05, 5.438306858949805e-05, 5.314870871170799e-05, 4.551428984824016e-05, 4.126601586194649e-05, 3.5859380559919796e-05, 3.20516829676747e-05, 2.6997072486800517e-05, 2.5737646488264897e-05, 2.4731584881340734e-05, 2.2663646782450893e-05, 2.0473906079126325e-05, 1.8888545647691675e-05, 1.5653151843281205e-05, 6.89973329748259e-06, 5.0344456243138655e-06, 4.3435461694561155e-06, 3.127656206081182e-06, 2.194082887923533e-06, 0.0, 0.0, 0.0, 0.0, 0.0, 0.0, 0.0, 0.0, 0.0, 0.0, 0.0, 0.0, 0.0, 0.0, 0.0, 0.0, 0.0, 0.0, 0.0, 0.0, 0.0, 0.0, 0.0, 0.0, 0.0, 0.0, 0.0, 0.0, 0.0, 0.0, 0.0, 0.0, 0.0, 0.0, 0.0, 0.0, 0.0, 0.0, 0.0, 0.0, 0.0, 0.0, 0.0, 0.0, 0.0, 0.0, 0.0, 0.0, 0.0, 0.0, 0.0, 0.0, 0.0, 0.0, 0.0, 0.0, 0.0, 0.0, 0.0, 0.0, 0.0, 0.0, 0.0, 0.0, 0.0, 0.0, 0.0, 0.0, 0.0, 0.0, 0.0, 0.0, 0.0, 0.0, 0.0, 0.0, 0.0, 0.0], \"y\": [\"0\", \"52\", \"31\", \"3\", \"58\", \"80\", \"59\", \"38\", \"40\", \"39\", \"77\", \"32\", \"6\", \"22\", \"4\", \"37\", \"14\", \"2\", \"10\", \"97\", \"30\", \"50\", \"165\", \"43\", \"33\", \"118\", \"12\", \"75\", \"78\", \"109\", \"56\", \"1\", \"111\", \"5\", \"171\", \"36\", \"73\", \"49\", \"11\", \"44\", \"88\", \"93\", \"79\", \"68\", \"95\", \"126\", \"62\", \"96\", \"164\", \"15\", \"67\", \"150\", \"16\", \"45\", \"167\", \"84\", \"34\", \"42\", \"146\", \"101\", \"103\", \"85\", \"131\", \"13\", \"25\", \"135\", \"127\", \"142\", \"169\", \"89\", \"23\", \"86\", \"61\", \"151\", \"108\", \"7\", \"162\", \"116\", \"170\", \"63\", \"57\", \"90\", \"128\", \"27\", \"48\", \"99\", \"166\", \"106\", \"55\", \"136\", \"28\", \"124\", \"140\", \"132\", \"72\", \"60\", \"145\", \"144\", \"134\", \"133\", \"163\", \"157\", \"125\", \"173\", \"130\", \"129\", \"158\", \"159\", \"161\", \"172\", \"155\", \"156\", \"137\", \"154\", \"138\", \"139\", \"153\", \"152\", \"141\", \"149\", \"148\", \"147\", \"168\", \"143\", \"160\", \"87\", \"123\", \"71\", \"69\", \"66\", \"65\", \"64\", \"54\", \"53\", \"51\", \"47\", \"46\", \"41\", \"35\", \"29\", \"26\", \"24\", \"21\", \"20\", \"19\", \"18\", \"17\", \"9\", \"8\", \"70\", \"74\", \"122\", \"76\", \"121\", \"120\", \"119\", \"117\", \"115\", \"114\", \"113\", \"112\", \"110\", \"107\", \"105\", \"104\", \"102\", \"100\", \"98\", \"94\", \"92\", \"91\", \"83\", \"82\", \"81\", \"174\"], \"type\": \"bar\", \"uid\": \"f3420489-41c2-4bef-88d3-60f01bfb654e\"}], {\"autosize\": false, \"height\": 1000, \"width\": 1000, \"xaxis\": {\"tickfont\": {\"color\": \"black\", \"size\": 12}, \"title\": \"Feature Importances\"}, \"yaxis\": {\"automargin\": true}}, {\"showLink\": true, \"linkText\": \"Export to plot.ly\", \"plotlyServerURL\": \"https://plot.ly\"})});</script>"
      ]
     },
     "metadata": {},
     "output_type": "display_data"
    },
    {
     "name": "stdout",
     "output_type": "stream",
     "text": [
      "\n",
      "\n",
      "\u001b[1mExtraTree Classifier\u001b[0m\n",
      "Accuracy of the model for training data is: 0.9991386460792445\n",
      "Confusion Matrix for training data is:\n"
     ]
    },
    {
     "data": {
      "text/plain": [
       "Predicted  False  True  __all__\n",
       "Actual                         \n",
       "False      28200     3    28203\n",
       "True          24  3119     3143\n",
       "__all__    28224  3122    31346"
      ]
     },
     "metadata": {},
     "output_type": "display_data"
    },
    {
     "name": "stdout",
     "output_type": "stream",
     "text": [
      "Accuracy of the model for test data is: 0.9017481179022585\n",
      "Confusion Matrix for test data is:\n"
     ]
    },
    {
     "data": {
      "text/plain": [
       "Predicted  False  True  __all__\n",
       "Actual                         \n",
       "False       6503    36     6539\n",
       "True         734   564     1298\n",
       "__all__     7237   600     7837"
      ]
     },
     "metadata": {},
     "output_type": "display_data"
    },
    {
     "data": {
      "application/vnd.plotly.v1+json": {
       "config": {
        "linkText": "Export to plot.ly",
        "plotlyServerURL": "https://plot.ly",
        "showLink": true
       },
       "data": [
        {
         "marker": {
          "color": "rgb(158,202,225)",
          "line": {
           "color": "rgb(8,48,107)",
           "width": 1.5
          }
         },
         "opacity": 0.6,
         "orientation": "h",
         "text": [
          0.0434,
          0.0383,
          0.0305,
          0.0273,
          0.0227,
          0.0184,
          0.0174,
          0.0169,
          0.0151,
          0.014,
          0.0132,
          0.0127,
          0.0118,
          0.0114,
          0.011,
          0.009,
          0.0087,
          0.0086,
          0.0083,
          0.0082,
          0.0078,
          0.0076,
          0.0076,
          0.0076,
          0.0073,
          0.0073,
          0.0072,
          0.0072,
          0.007,
          0.007,
          0.007,
          0.0068,
          0.0067,
          0.0067,
          0.0067,
          0.0066,
          0.0064,
          0.0064,
          0.0064,
          0.0063,
          0.0062,
          0.0061,
          0.0061,
          0.006,
          0.006,
          0.006,
          0.006,
          0.006,
          0.0059,
          0.0058,
          0.0058,
          0.0058,
          0.0056,
          0.0055,
          0.0055,
          0.0055,
          0.0054,
          0.0054,
          0.0054,
          0.0054,
          0.005,
          0.0049,
          0.0048,
          0.0048,
          0.0047,
          0.0047,
          0.0047,
          0.0047,
          0.0047,
          0.0046,
          0.0046,
          0.0046,
          0.0044,
          0.0044,
          0.0044,
          0.0044,
          0.0043,
          0.0043,
          0.0043,
          0.0042,
          0.0042,
          0.0042,
          0.0042,
          0.0042,
          0.0041,
          0.0041,
          0.0041,
          0.0041,
          0.0041,
          0.004,
          0.004,
          0.004,
          0.004,
          0.004,
          0.004,
          0.004,
          0.0039,
          0.0039,
          0.0039,
          0.0039,
          0.0038,
          0.0038,
          0.0038,
          0.0038,
          0.0038,
          0.0037,
          0.0037,
          0.0037,
          0.0036,
          0.0036,
          0.0036,
          0.0036,
          0.0036,
          0.0036,
          0.0036,
          0.0035,
          0.0035,
          0.0035,
          0.0035,
          0.0034,
          0.0034,
          0.0034,
          0.0034,
          0.0034,
          0.0034,
          0.0034,
          0.0034,
          0.0034,
          0.0033,
          0.0033,
          0.0033,
          0.0033,
          0.0032,
          0.0032,
          0.0032,
          0.0032,
          0.0031,
          0.0031,
          0.0031,
          0.003,
          0.003,
          0.003,
          0.0029,
          0.0029,
          0.0028,
          0.0028,
          0.0028,
          0.0028,
          0.0027,
          0.0027,
          0.0027,
          0.0027,
          0.0027,
          0.0027,
          0.0027,
          0.0027,
          0.0026,
          0.0026,
          0.0025,
          0.0025,
          0.0025,
          0.0024,
          0.0024,
          0.0024,
          0.0023,
          0.0023,
          0.0023,
          0.0023,
          0.0021,
          0.0021,
          0.0021,
          0.0021,
          0.002,
          0.0019,
          0.0018
         ],
         "textposition": "outside",
         "type": "bar",
         "uid": "76d10b54-cb4c-40b9-b813-f74fab44daab",
         "x": [
          0.04340345796367639,
          0.03826246930329615,
          0.030520396620506162,
          0.027335880286580898,
          0.022690963120697516,
          0.018415383400373384,
          0.01735038572088795,
          0.016874011554220646,
          0.015092495300964142,
          0.013971514941543996,
          0.013168803753429638,
          0.012713028689155711,
          0.011767418148654321,
          0.011394361400106814,
          0.010960478475439671,
          0.008952742183667832,
          0.008660320230042425,
          0.00863572603866872,
          0.008253664829220225,
          0.00823571960734017,
          0.00784705123630166,
          0.007630724243848628,
          0.007569422559015187,
          0.007554190201927887,
          0.007332786606199458,
          0.007263984973109255,
          0.007228701379172159,
          0.007216645135645575,
          0.0070050293781747435,
          0.006959204866943975,
          0.006957224771986122,
          0.006822424755347583,
          0.006747751989067231,
          0.006711707002798186,
          0.006672337698966239,
          0.006557508262488094,
          0.006442505973535153,
          0.0064297675796459765,
          0.006380261620213163,
          0.006321117248683083,
          0.006175192190088992,
          0.006078864700270042,
          0.00606665918909625,
          0.006020206153646647,
          0.006010542032070898,
          0.0060009305231928205,
          0.005989238568603696,
          0.005988919223419024,
          0.005869534675767329,
          0.005830617619132695,
          0.005761801913474166,
          0.005752033530513333,
          0.005629998833302065,
          0.005512548695867878,
          0.005499897027277448,
          0.0054850713095901,
          0.005386618789105035,
          0.005381429211057353,
          0.005378579954921441,
          0.005366214207730816,
          0.004964560111066041,
          0.004933346095972348,
          0.004825305986773222,
          0.004801632729927811,
          0.0047477182169885,
          0.00474431102115321,
          0.004738355167368047,
          0.00467615099089165,
          0.004675459464580473,
          0.004611517898588557,
          0.00460763383388578,
          0.004577385778641692,
          0.004449588305169617,
          0.004409761762030674,
          0.0043996337615374225,
          0.004372740366890871,
          0.004346511870916221,
          0.004331570346910359,
          0.00431725693438711,
          0.004243295618577071,
          0.004209501125309955,
          0.004199774633749385,
          0.004182967047984139,
          0.004160225379978263,
          0.0041228917058045485,
          0.004116912686375999,
          0.004102560523628177,
          0.004098437222879012,
          0.00406617149619033,
          0.004019633154594485,
          0.0040177423096566306,
          0.00401575267294869,
          0.004006759122835235,
          0.004004025696503311,
          0.003982857017073053,
          0.0039631729905183445,
          0.003929542948665483,
          0.00391921958008501,
          0.00391412031462559,
          0.0038806657888025937,
          0.003836911064180486,
          0.003829800588315863,
          0.0038168430865012748,
          0.003799861331300793,
          0.003792533273374218,
          0.00373238807940494,
          0.0037007186886754227,
          0.0036861045569433165,
          0.0036345218079105648,
          0.0036280411934640103,
          0.003621851883007473,
          0.003618551607886148,
          0.003586531017829493,
          0.003571516751747266,
          0.00355605393608887,
          0.0035133474374763325,
          0.0034974040497335467,
          0.0034676642792791142,
          0.0034503061632249654,
          0.003438275999142187,
          0.003425716857939058,
          0.0034136957397200903,
          0.003410571039936428,
          0.0033972222212374495,
          0.003394933630355528,
          0.0033845762852270085,
          0.003377616989285787,
          0.003352132149571426,
          0.003318784973675721,
          0.0033121834568932886,
          0.003282151857668431,
          0.0032614728044619086,
          0.0032228840671702248,
          0.0032003907276158543,
          0.003175602573276474,
          0.0031516608985435912,
          0.0031260133158582007,
          0.003083481935264398,
          0.0030565712669681183,
          0.0030428877310665968,
          0.003007454809024954,
          0.0029810137422390114,
          0.0029221474374155993,
          0.0028601198531753957,
          0.002847960634485189,
          0.00280796563978208,
          0.0027845837823870746,
          0.0027629828787772057,
          0.0027420063994412123,
          0.00272812996074254,
          0.0027262515254497847,
          0.0027024455834757668,
          0.0026738664278648564,
          0.002669365333817066,
          0.0026645949162267635,
          0.0026550234839450167,
          0.0026216400199540408,
          0.0025682437698421254,
          0.0025014217350854814,
          0.002496210222791414,
          0.0024830316232412413,
          0.002419900527109622,
          0.002395195969165567,
          0.0023906661239682016,
          0.0022908762635986987,
          0.0022746394146477525,
          0.0022707962309863484,
          0.002255329737743094,
          0.002128539411046572,
          0.0021190916672566983,
          0.0021022026111807723,
          0.0020632303799877996,
          0.0019828164159916856,
          0.0019271493814516916,
          0.0018221916893449033
         ],
         "y": [
          "3",
          "0",
          "5",
          "2",
          "6",
          "1",
          "37",
          "14",
          "39",
          "43",
          "100",
          "35",
          "4",
          "89",
          "11",
          "45",
          "112",
          "87",
          "110",
          "86",
          "62",
          "81",
          "7",
          "10",
          "99",
          "34",
          "52",
          "38",
          "41",
          "8",
          "74",
          "119",
          "51",
          "40",
          "13",
          "31",
          "49",
          "23",
          "76",
          "92",
          "93",
          "117",
          "30",
          "83",
          "103",
          "102",
          "22",
          "149",
          "12",
          "33",
          "125",
          "42",
          "59",
          "82",
          "79",
          "27",
          "26",
          "75",
          "69",
          "98",
          "25",
          "115",
          "50",
          "66",
          "113",
          "48",
          "68",
          "124",
          "106",
          "57",
          "121",
          "152",
          "131",
          "78",
          "47",
          "101",
          "54",
          "135",
          "32",
          "123",
          "56",
          "120",
          "134",
          "24",
          "36",
          "150",
          "85",
          "109",
          "104",
          "67",
          "146",
          "77",
          "90",
          "44",
          "46",
          "64",
          "58",
          "116",
          "65",
          "139",
          "9",
          "165",
          "16",
          "72",
          "96",
          "19",
          "164",
          "63",
          "70",
          "140",
          "53",
          "28",
          "60",
          "15",
          "151",
          "155",
          "61",
          "80",
          "18",
          "143",
          "111",
          "156",
          "141",
          "167",
          "118",
          "21",
          "136",
          "154",
          "122",
          "137",
          "157",
          "142",
          "97",
          "88",
          "17",
          "147",
          "160",
          "133",
          "20",
          "71",
          "95",
          "132",
          "130",
          "173",
          "55",
          "94",
          "114",
          "127",
          "108",
          "162",
          "107",
          "84",
          "73",
          "171",
          "169",
          "138",
          "153",
          "105",
          "163",
          "172",
          "128",
          "129",
          "145",
          "170",
          "29",
          "161",
          "144",
          "158",
          "166",
          "91",
          "148",
          "168",
          "159",
          "174",
          "126"
         ]
        }
       ],
       "layout": {
        "autosize": false,
        "height": 1000,
        "width": 1000,
        "xaxis": {
         "tickfont": {
          "color": "black",
          "size": 12
         },
         "title": "Feature Importances"
        },
        "yaxis": {
         "automargin": true
        }
       }
      },
      "text/html": [
       "<div id=\"fe50e0b3-17d9-4594-8701-c9bd86a6147c\" style=\"height: 1000px; width: 1000px;\" class=\"plotly-graph-div\"></div><script type=\"text/javascript\">require([\"plotly\"], function(Plotly) { window.PLOTLYENV=window.PLOTLYENV || {};window.PLOTLYENV.BASE_URL=\"https://plot.ly\";Plotly.newPlot(\"fe50e0b3-17d9-4594-8701-c9bd86a6147c\", [{\"marker\": {\"color\": \"rgb(158,202,225)\", \"line\": {\"color\": \"rgb(8,48,107)\", \"width\": 1.5}}, \"opacity\": 0.6, \"orientation\": \"h\", \"text\": [0.0434, 0.0383, 0.0305, 0.0273, 0.0227, 0.0184, 0.0174, 0.0169, 0.0151, 0.014, 0.0132, 0.0127, 0.0118, 0.0114, 0.011, 0.009, 0.0087, 0.0086, 0.0083, 0.0082, 0.0078, 0.0076, 0.0076, 0.0076, 0.0073, 0.0073, 0.0072, 0.0072, 0.007, 0.007, 0.007, 0.0068, 0.0067, 0.0067, 0.0067, 0.0066, 0.0064, 0.0064, 0.0064, 0.0063, 0.0062, 0.0061, 0.0061, 0.006, 0.006, 0.006, 0.006, 0.006, 0.0059, 0.0058, 0.0058, 0.0058, 0.0056, 0.0055, 0.0055, 0.0055, 0.0054, 0.0054, 0.0054, 0.0054, 0.005, 0.0049, 0.0048, 0.0048, 0.0047, 0.0047, 0.0047, 0.0047, 0.0047, 0.0046, 0.0046, 0.0046, 0.0044, 0.0044, 0.0044, 0.0044, 0.0043, 0.0043, 0.0043, 0.0042, 0.0042, 0.0042, 0.0042, 0.0042, 0.0041, 0.0041, 0.0041, 0.0041, 0.0041, 0.004, 0.004, 0.004, 0.004, 0.004, 0.004, 0.004, 0.0039, 0.0039, 0.0039, 0.0039, 0.0038, 0.0038, 0.0038, 0.0038, 0.0038, 0.0037, 0.0037, 0.0037, 0.0036, 0.0036, 0.0036, 0.0036, 0.0036, 0.0036, 0.0036, 0.0035, 0.0035, 0.0035, 0.0035, 0.0034, 0.0034, 0.0034, 0.0034, 0.0034, 0.0034, 0.0034, 0.0034, 0.0034, 0.0033, 0.0033, 0.0033, 0.0033, 0.0032, 0.0032, 0.0032, 0.0032, 0.0031, 0.0031, 0.0031, 0.003, 0.003, 0.003, 0.0029, 0.0029, 0.0028, 0.0028, 0.0028, 0.0028, 0.0027, 0.0027, 0.0027, 0.0027, 0.0027, 0.0027, 0.0027, 0.0027, 0.0026, 0.0026, 0.0025, 0.0025, 0.0025, 0.0024, 0.0024, 0.0024, 0.0023, 0.0023, 0.0023, 0.0023, 0.0021, 0.0021, 0.0021, 0.0021, 0.002, 0.0019, 0.0018], \"textposition\": \"outside\", \"x\": [0.04340345796367639, 0.03826246930329615, 0.030520396620506162, 0.027335880286580898, 0.022690963120697516, 0.018415383400373384, 0.01735038572088795, 0.016874011554220646, 0.015092495300964142, 0.013971514941543996, 0.013168803753429638, 0.012713028689155711, 0.011767418148654321, 0.011394361400106814, 0.010960478475439671, 0.008952742183667832, 0.008660320230042425, 0.00863572603866872, 0.008253664829220225, 0.00823571960734017, 0.00784705123630166, 0.007630724243848628, 0.007569422559015187, 0.007554190201927887, 0.007332786606199458, 0.007263984973109255, 0.007228701379172159, 0.007216645135645575, 0.0070050293781747435, 0.006959204866943975, 0.006957224771986122, 0.006822424755347583, 0.006747751989067231, 0.006711707002798186, 0.006672337698966239, 0.006557508262488094, 0.006442505973535153, 0.0064297675796459765, 0.006380261620213163, 0.006321117248683083, 0.006175192190088992, 0.006078864700270042, 0.00606665918909625, 0.006020206153646647, 0.006010542032070898, 0.0060009305231928205, 0.005989238568603696, 0.005988919223419024, 0.005869534675767329, 0.005830617619132695, 0.005761801913474166, 0.005752033530513333, 0.005629998833302065, 0.005512548695867878, 0.005499897027277448, 0.0054850713095901, 0.005386618789105035, 0.005381429211057353, 0.005378579954921441, 0.005366214207730816, 0.004964560111066041, 0.004933346095972348, 0.004825305986773222, 0.004801632729927811, 0.0047477182169885, 0.00474431102115321, 0.004738355167368047, 0.00467615099089165, 0.004675459464580473, 0.004611517898588557, 0.00460763383388578, 0.004577385778641692, 0.004449588305169617, 0.004409761762030674, 0.0043996337615374225, 0.004372740366890871, 0.004346511870916221, 0.004331570346910359, 0.00431725693438711, 0.004243295618577071, 0.004209501125309955, 0.004199774633749385, 0.004182967047984139, 0.004160225379978263, 0.0041228917058045485, 0.004116912686375999, 0.004102560523628177, 0.004098437222879012, 0.00406617149619033, 0.004019633154594485, 0.0040177423096566306, 0.00401575267294869, 0.004006759122835235, 0.004004025696503311, 0.003982857017073053, 0.0039631729905183445, 0.003929542948665483, 0.00391921958008501, 0.00391412031462559, 0.0038806657888025937, 0.003836911064180486, 0.003829800588315863, 0.0038168430865012748, 0.003799861331300793, 0.003792533273374218, 0.00373238807940494, 0.0037007186886754227, 0.0036861045569433165, 0.0036345218079105648, 0.0036280411934640103, 0.003621851883007473, 0.003618551607886148, 0.003586531017829493, 0.003571516751747266, 0.00355605393608887, 0.0035133474374763325, 0.0034974040497335467, 0.0034676642792791142, 0.0034503061632249654, 0.003438275999142187, 0.003425716857939058, 0.0034136957397200903, 0.003410571039936428, 0.0033972222212374495, 0.003394933630355528, 0.0033845762852270085, 0.003377616989285787, 0.003352132149571426, 0.003318784973675721, 0.0033121834568932886, 0.003282151857668431, 0.0032614728044619086, 0.0032228840671702248, 0.0032003907276158543, 0.003175602573276474, 0.0031516608985435912, 0.0031260133158582007, 0.003083481935264398, 0.0030565712669681183, 0.0030428877310665968, 0.003007454809024954, 0.0029810137422390114, 0.0029221474374155993, 0.0028601198531753957, 0.002847960634485189, 0.00280796563978208, 0.0027845837823870746, 0.0027629828787772057, 0.0027420063994412123, 0.00272812996074254, 0.0027262515254497847, 0.0027024455834757668, 0.0026738664278648564, 0.002669365333817066, 0.0026645949162267635, 0.0026550234839450167, 0.0026216400199540408, 0.0025682437698421254, 0.0025014217350854814, 0.002496210222791414, 0.0024830316232412413, 0.002419900527109622, 0.002395195969165567, 0.0023906661239682016, 0.0022908762635986987, 0.0022746394146477525, 0.0022707962309863484, 0.002255329737743094, 0.002128539411046572, 0.0021190916672566983, 0.0021022026111807723, 0.0020632303799877996, 0.0019828164159916856, 0.0019271493814516916, 0.0018221916893449033], \"y\": [\"3\", \"0\", \"5\", \"2\", \"6\", \"1\", \"37\", \"14\", \"39\", \"43\", \"100\", \"35\", \"4\", \"89\", \"11\", \"45\", \"112\", \"87\", \"110\", \"86\", \"62\", \"81\", \"7\", \"10\", \"99\", \"34\", \"52\", \"38\", \"41\", \"8\", \"74\", \"119\", \"51\", \"40\", \"13\", \"31\", \"49\", \"23\", \"76\", \"92\", \"93\", \"117\", \"30\", \"83\", \"103\", \"102\", \"22\", \"149\", \"12\", \"33\", \"125\", \"42\", \"59\", \"82\", \"79\", \"27\", \"26\", \"75\", \"69\", \"98\", \"25\", \"115\", \"50\", \"66\", \"113\", \"48\", \"68\", \"124\", \"106\", \"57\", \"121\", \"152\", \"131\", \"78\", \"47\", \"101\", \"54\", \"135\", \"32\", \"123\", \"56\", \"120\", \"134\", \"24\", \"36\", \"150\", \"85\", \"109\", \"104\", \"67\", \"146\", \"77\", \"90\", \"44\", \"46\", \"64\", \"58\", \"116\", \"65\", \"139\", \"9\", \"165\", \"16\", \"72\", \"96\", \"19\", \"164\", \"63\", \"70\", \"140\", \"53\", \"28\", \"60\", \"15\", \"151\", \"155\", \"61\", \"80\", \"18\", \"143\", \"111\", \"156\", \"141\", \"167\", \"118\", \"21\", \"136\", \"154\", \"122\", \"137\", \"157\", \"142\", \"97\", \"88\", \"17\", \"147\", \"160\", \"133\", \"20\", \"71\", \"95\", \"132\", \"130\", \"173\", \"55\", \"94\", \"114\", \"127\", \"108\", \"162\", \"107\", \"84\", \"73\", \"171\", \"169\", \"138\", \"153\", \"105\", \"163\", \"172\", \"128\", \"129\", \"145\", \"170\", \"29\", \"161\", \"144\", \"158\", \"166\", \"91\", \"148\", \"168\", \"159\", \"174\", \"126\"], \"type\": \"bar\", \"uid\": \"76d10b54-cb4c-40b9-b813-f74fab44daab\"}], {\"autosize\": false, \"height\": 1000, \"width\": 1000, \"xaxis\": {\"tickfont\": {\"color\": \"black\", \"size\": 12}, \"title\": \"Feature Importances\"}, \"yaxis\": {\"automargin\": true}}, {\"showLink\": true, \"linkText\": \"Export to plot.ly\", \"plotlyServerURL\": \"https://plot.ly\"})});</script>"
      ],
      "text/vnd.plotly.v1+html": [
       "<div id=\"fe50e0b3-17d9-4594-8701-c9bd86a6147c\" style=\"height: 1000px; width: 1000px;\" class=\"plotly-graph-div\"></div><script type=\"text/javascript\">require([\"plotly\"], function(Plotly) { window.PLOTLYENV=window.PLOTLYENV || {};window.PLOTLYENV.BASE_URL=\"https://plot.ly\";Plotly.newPlot(\"fe50e0b3-17d9-4594-8701-c9bd86a6147c\", [{\"marker\": {\"color\": \"rgb(158,202,225)\", \"line\": {\"color\": \"rgb(8,48,107)\", \"width\": 1.5}}, \"opacity\": 0.6, \"orientation\": \"h\", \"text\": [0.0434, 0.0383, 0.0305, 0.0273, 0.0227, 0.0184, 0.0174, 0.0169, 0.0151, 0.014, 0.0132, 0.0127, 0.0118, 0.0114, 0.011, 0.009, 0.0087, 0.0086, 0.0083, 0.0082, 0.0078, 0.0076, 0.0076, 0.0076, 0.0073, 0.0073, 0.0072, 0.0072, 0.007, 0.007, 0.007, 0.0068, 0.0067, 0.0067, 0.0067, 0.0066, 0.0064, 0.0064, 0.0064, 0.0063, 0.0062, 0.0061, 0.0061, 0.006, 0.006, 0.006, 0.006, 0.006, 0.0059, 0.0058, 0.0058, 0.0058, 0.0056, 0.0055, 0.0055, 0.0055, 0.0054, 0.0054, 0.0054, 0.0054, 0.005, 0.0049, 0.0048, 0.0048, 0.0047, 0.0047, 0.0047, 0.0047, 0.0047, 0.0046, 0.0046, 0.0046, 0.0044, 0.0044, 0.0044, 0.0044, 0.0043, 0.0043, 0.0043, 0.0042, 0.0042, 0.0042, 0.0042, 0.0042, 0.0041, 0.0041, 0.0041, 0.0041, 0.0041, 0.004, 0.004, 0.004, 0.004, 0.004, 0.004, 0.004, 0.0039, 0.0039, 0.0039, 0.0039, 0.0038, 0.0038, 0.0038, 0.0038, 0.0038, 0.0037, 0.0037, 0.0037, 0.0036, 0.0036, 0.0036, 0.0036, 0.0036, 0.0036, 0.0036, 0.0035, 0.0035, 0.0035, 0.0035, 0.0034, 0.0034, 0.0034, 0.0034, 0.0034, 0.0034, 0.0034, 0.0034, 0.0034, 0.0033, 0.0033, 0.0033, 0.0033, 0.0032, 0.0032, 0.0032, 0.0032, 0.0031, 0.0031, 0.0031, 0.003, 0.003, 0.003, 0.0029, 0.0029, 0.0028, 0.0028, 0.0028, 0.0028, 0.0027, 0.0027, 0.0027, 0.0027, 0.0027, 0.0027, 0.0027, 0.0027, 0.0026, 0.0026, 0.0025, 0.0025, 0.0025, 0.0024, 0.0024, 0.0024, 0.0023, 0.0023, 0.0023, 0.0023, 0.0021, 0.0021, 0.0021, 0.0021, 0.002, 0.0019, 0.0018], \"textposition\": \"outside\", \"x\": [0.04340345796367639, 0.03826246930329615, 0.030520396620506162, 0.027335880286580898, 0.022690963120697516, 0.018415383400373384, 0.01735038572088795, 0.016874011554220646, 0.015092495300964142, 0.013971514941543996, 0.013168803753429638, 0.012713028689155711, 0.011767418148654321, 0.011394361400106814, 0.010960478475439671, 0.008952742183667832, 0.008660320230042425, 0.00863572603866872, 0.008253664829220225, 0.00823571960734017, 0.00784705123630166, 0.007630724243848628, 0.007569422559015187, 0.007554190201927887, 0.007332786606199458, 0.007263984973109255, 0.007228701379172159, 0.007216645135645575, 0.0070050293781747435, 0.006959204866943975, 0.006957224771986122, 0.006822424755347583, 0.006747751989067231, 0.006711707002798186, 0.006672337698966239, 0.006557508262488094, 0.006442505973535153, 0.0064297675796459765, 0.006380261620213163, 0.006321117248683083, 0.006175192190088992, 0.006078864700270042, 0.00606665918909625, 0.006020206153646647, 0.006010542032070898, 0.0060009305231928205, 0.005989238568603696, 0.005988919223419024, 0.005869534675767329, 0.005830617619132695, 0.005761801913474166, 0.005752033530513333, 0.005629998833302065, 0.005512548695867878, 0.005499897027277448, 0.0054850713095901, 0.005386618789105035, 0.005381429211057353, 0.005378579954921441, 0.005366214207730816, 0.004964560111066041, 0.004933346095972348, 0.004825305986773222, 0.004801632729927811, 0.0047477182169885, 0.00474431102115321, 0.004738355167368047, 0.00467615099089165, 0.004675459464580473, 0.004611517898588557, 0.00460763383388578, 0.004577385778641692, 0.004449588305169617, 0.004409761762030674, 0.0043996337615374225, 0.004372740366890871, 0.004346511870916221, 0.004331570346910359, 0.00431725693438711, 0.004243295618577071, 0.004209501125309955, 0.004199774633749385, 0.004182967047984139, 0.004160225379978263, 0.0041228917058045485, 0.004116912686375999, 0.004102560523628177, 0.004098437222879012, 0.00406617149619033, 0.004019633154594485, 0.0040177423096566306, 0.00401575267294869, 0.004006759122835235, 0.004004025696503311, 0.003982857017073053, 0.0039631729905183445, 0.003929542948665483, 0.00391921958008501, 0.00391412031462559, 0.0038806657888025937, 0.003836911064180486, 0.003829800588315863, 0.0038168430865012748, 0.003799861331300793, 0.003792533273374218, 0.00373238807940494, 0.0037007186886754227, 0.0036861045569433165, 0.0036345218079105648, 0.0036280411934640103, 0.003621851883007473, 0.003618551607886148, 0.003586531017829493, 0.003571516751747266, 0.00355605393608887, 0.0035133474374763325, 0.0034974040497335467, 0.0034676642792791142, 0.0034503061632249654, 0.003438275999142187, 0.003425716857939058, 0.0034136957397200903, 0.003410571039936428, 0.0033972222212374495, 0.003394933630355528, 0.0033845762852270085, 0.003377616989285787, 0.003352132149571426, 0.003318784973675721, 0.0033121834568932886, 0.003282151857668431, 0.0032614728044619086, 0.0032228840671702248, 0.0032003907276158543, 0.003175602573276474, 0.0031516608985435912, 0.0031260133158582007, 0.003083481935264398, 0.0030565712669681183, 0.0030428877310665968, 0.003007454809024954, 0.0029810137422390114, 0.0029221474374155993, 0.0028601198531753957, 0.002847960634485189, 0.00280796563978208, 0.0027845837823870746, 0.0027629828787772057, 0.0027420063994412123, 0.00272812996074254, 0.0027262515254497847, 0.0027024455834757668, 0.0026738664278648564, 0.002669365333817066, 0.0026645949162267635, 0.0026550234839450167, 0.0026216400199540408, 0.0025682437698421254, 0.0025014217350854814, 0.002496210222791414, 0.0024830316232412413, 0.002419900527109622, 0.002395195969165567, 0.0023906661239682016, 0.0022908762635986987, 0.0022746394146477525, 0.0022707962309863484, 0.002255329737743094, 0.002128539411046572, 0.0021190916672566983, 0.0021022026111807723, 0.0020632303799877996, 0.0019828164159916856, 0.0019271493814516916, 0.0018221916893449033], \"y\": [\"3\", \"0\", \"5\", \"2\", \"6\", \"1\", \"37\", \"14\", \"39\", \"43\", \"100\", \"35\", \"4\", \"89\", \"11\", \"45\", \"112\", \"87\", \"110\", \"86\", \"62\", \"81\", \"7\", \"10\", \"99\", \"34\", \"52\", \"38\", \"41\", \"8\", \"74\", \"119\", \"51\", \"40\", \"13\", \"31\", \"49\", \"23\", \"76\", \"92\", \"93\", \"117\", \"30\", \"83\", \"103\", \"102\", \"22\", \"149\", \"12\", \"33\", \"125\", \"42\", \"59\", \"82\", \"79\", \"27\", \"26\", \"75\", \"69\", \"98\", \"25\", \"115\", \"50\", \"66\", \"113\", \"48\", \"68\", \"124\", \"106\", \"57\", \"121\", \"152\", \"131\", \"78\", \"47\", \"101\", \"54\", \"135\", \"32\", \"123\", \"56\", \"120\", \"134\", \"24\", \"36\", \"150\", \"85\", \"109\", \"104\", \"67\", \"146\", \"77\", \"90\", \"44\", \"46\", \"64\", \"58\", \"116\", \"65\", \"139\", \"9\", \"165\", \"16\", \"72\", \"96\", \"19\", \"164\", \"63\", \"70\", \"140\", \"53\", \"28\", \"60\", \"15\", \"151\", \"155\", \"61\", \"80\", \"18\", \"143\", \"111\", \"156\", \"141\", \"167\", \"118\", \"21\", \"136\", \"154\", \"122\", \"137\", \"157\", \"142\", \"97\", \"88\", \"17\", \"147\", \"160\", \"133\", \"20\", \"71\", \"95\", \"132\", \"130\", \"173\", \"55\", \"94\", \"114\", \"127\", \"108\", \"162\", \"107\", \"84\", \"73\", \"171\", \"169\", \"138\", \"153\", \"105\", \"163\", \"172\", \"128\", \"129\", \"145\", \"170\", \"29\", \"161\", \"144\", \"158\", \"166\", \"91\", \"148\", \"168\", \"159\", \"174\", \"126\"], \"type\": \"bar\", \"uid\": \"76d10b54-cb4c-40b9-b813-f74fab44daab\"}], {\"autosize\": false, \"height\": 1000, \"width\": 1000, \"xaxis\": {\"tickfont\": {\"color\": \"black\", \"size\": 12}, \"title\": \"Feature Importances\"}, \"yaxis\": {\"automargin\": true}}, {\"showLink\": true, \"linkText\": \"Export to plot.ly\", \"plotlyServerURL\": \"https://plot.ly\"})});</script>"
      ]
     },
     "metadata": {},
     "output_type": "display_data"
    },
    {
     "name": "stdout",
     "output_type": "stream",
     "text": [
      "\n",
      "\n",
      "\u001b[1mXGB Classifier\u001b[0m\n",
      "Accuracy of the model for training data is: 0.9796465258725197\n",
      "Confusion Matrix for training data is:\n"
     ]
    },
    {
     "data": {
      "text/plain": [
       "Predicted  False  True  __all__\n",
       "Actual                         \n",
       "False      28062   141    28203\n",
       "True         497  2646     3143\n",
       "__all__    28559  2787    31346"
      ]
     },
     "metadata": {},
     "output_type": "display_data"
    },
    {
     "name": "stdout",
     "output_type": "stream",
     "text": [
      "Accuracy of the model for test data is: 0.9504912594104887\n",
      "Confusion Matrix for test data is:\n"
     ]
    },
    {
     "data": {
      "text/plain": [
       "Predicted  False  True  __all__\n",
       "Actual                         \n",
       "False       6496    43     6539\n",
       "True         345   953     1298\n",
       "__all__     6841   996     7837"
      ]
     },
     "metadata": {},
     "output_type": "display_data"
    },
    {
     "data": {
      "application/vnd.plotly.v1+json": {
       "config": {
        "linkText": "Export to plot.ly",
        "plotlyServerURL": "https://plot.ly",
        "showLink": true
       },
       "data": [
        {
         "marker": {
          "color": "rgb(158,202,225)",
          "line": {
           "color": "rgb(8,48,107)",
           "width": 1.5
          }
         },
         "opacity": 0.6,
         "orientation": "h",
         "text": [
          0.1778,
          0.0481,
          0.0408,
          0.0321,
          0.0306,
          0.0277,
          0.0277,
          0.0248,
          0.0219,
          0.0219,
          0.019,
          0.019,
          0.0175,
          0.0146,
          0.0146,
          0.0146,
          0.0131,
          0.0117,
          0.0117,
          0.0102,
          0.0102,
          0.0102,
          0.0102,
          0.0102,
          0.0102,
          0.0087,
          0.0087,
          0.0087,
          0.0087,
          0.0087,
          0.0087,
          0.0087,
          0.0087,
          0.0087,
          0.0087,
          0.0087,
          0.0073,
          0.0073,
          0.0073,
          0.0073,
          0.0073,
          0.0058,
          0.0058,
          0.0058,
          0.0058,
          0.0058,
          0.0058,
          0.0058,
          0.0058,
          0.0058,
          0.0058,
          0.0044,
          0.0044,
          0.0044,
          0.0044,
          0.0044,
          0.0044,
          0.0044,
          0.0044,
          0.0044,
          0.0044,
          0.0044,
          0.0029,
          0.0029,
          0.0029,
          0.0029,
          0.0029,
          0.0029,
          0.0029,
          0.0029,
          0.0029,
          0.0029,
          0.0029,
          0.0029,
          0.0029,
          0.0029,
          0.0029,
          0.0029,
          0.0029,
          0.0029,
          0.0029,
          0.0029,
          0.0029,
          0.0029,
          0.0029,
          0.0029,
          0.0015,
          0.0015,
          0.0015,
          0.0015,
          0.0015,
          0.0015,
          0.0015,
          0.0015,
          0.0015,
          0.0015,
          0.0015,
          0.0015,
          0.0015,
          0.0015,
          0.0015,
          0.0015,
          0.0015,
          0.0015,
          0.0015,
          0.0015,
          0.0015,
          0.0015,
          0.0015,
          0.0015,
          0.0015,
          0.0015,
          0.0015,
          0.0015,
          0,
          0,
          0,
          0,
          0,
          0,
          0,
          0,
          0,
          0,
          0,
          0,
          0,
          0,
          0,
          0,
          0,
          0,
          0,
          0,
          0,
          0,
          0,
          0,
          0,
          0,
          0,
          0,
          0,
          0,
          0,
          0,
          0,
          0,
          0,
          0,
          0,
          0,
          0,
          0,
          0,
          0,
          0,
          0,
          0,
          0,
          0,
          0,
          0,
          0,
          0,
          0,
          0,
          0,
          0,
          0,
          0,
          0,
          0,
          0,
          0
         ],
         "textposition": "outside",
         "type": "bar",
         "uid": "e2d04a26-e6e2-4c29-a2a5-a06293642219",
         "x": [
          0.17784257233142853,
          0.04810495674610138,
          0.040816325694322586,
          0.03206996992230415,
          0.030612245202064514,
          0.027696793898940086,
          0.027696793898940086,
          0.02478134073317051,
          0.02186588943004608,
          0.02186588943004608,
          0.018950438126921654,
          0.018950438126921654,
          0.017492711544036865,
          0.014577259309589863,
          0.014577259309589863,
          0.014577259309589863,
          0.013119533658027649,
          0.011661808006465435,
          0.011661808006465435,
          0.010204081423580647,
          0.010204081423580647,
          0.010204081423580647,
          0.010204081423580647,
          0.010204081423580647,
          0.010204081423580647,
          0.008746355772018433,
          0.008746355772018433,
          0.008746355772018433,
          0.008746355772018433,
          0.008746355772018433,
          0.008746355772018433,
          0.008746355772018433,
          0.008746355772018433,
          0.008746355772018433,
          0.008746355772018433,
          0.008746355772018433,
          0.007288629654794931,
          0.007288629654794931,
          0.007288629654794931,
          0.007288629654794931,
          0.007288629654794931,
          0.0058309040032327175,
          0.0058309040032327175,
          0.0058309040032327175,
          0.0058309040032327175,
          0.0058309040032327175,
          0.0058309040032327175,
          0.0058309040032327175,
          0.0058309040032327175,
          0.0058309040032327175,
          0.0058309040032327175,
          0.004373177886009216,
          0.004373177886009216,
          0.004373177886009216,
          0.004373177886009216,
          0.004373177886009216,
          0.004373177886009216,
          0.004373177886009216,
          0.004373177886009216,
          0.004373177886009216,
          0.004373177886009216,
          0.004373177886009216,
          0.0029154520016163588,
          0.0029154520016163588,
          0.0029154520016163588,
          0.0029154520016163588,
          0.0029154520016163588,
          0.0029154520016163588,
          0.0029154520016163588,
          0.0029154520016163588,
          0.0029154520016163588,
          0.0029154520016163588,
          0.0029154520016163588,
          0.0029154520016163588,
          0.0029154520016163588,
          0.0029154520016163588,
          0.0029154520016163588,
          0.0029154520016163588,
          0.0029154520016163588,
          0.0029154520016163588,
          0.0029154520016163588,
          0.0029154520016163588,
          0.0029154520016163588,
          0.0029154520016163588,
          0.0029154520016163588,
          0.0029154520016163588,
          0.0014577260008081794,
          0.0014577260008081794,
          0.0014577260008081794,
          0.0014577260008081794,
          0.0014577260008081794,
          0.0014577260008081794,
          0.0014577260008081794,
          0.0014577260008081794,
          0.0014577260008081794,
          0.0014577260008081794,
          0.0014577260008081794,
          0.0014577260008081794,
          0.0014577260008081794,
          0.0014577260008081794,
          0.0014577260008081794,
          0.0014577260008081794,
          0.0014577260008081794,
          0.0014577260008081794,
          0.0014577260008081794,
          0.0014577260008081794,
          0.0014577260008081794,
          0.0014577260008081794,
          0.0014577260008081794,
          0.0014577260008081794,
          0.0014577260008081794,
          0.0014577260008081794,
          0.0014577260008081794,
          0.0014577260008081794,
          0,
          0,
          0,
          0,
          0,
          0,
          0,
          0,
          0,
          0,
          0,
          0,
          0,
          0,
          0,
          0,
          0,
          0,
          0,
          0,
          0,
          0,
          0,
          0,
          0,
          0,
          0,
          0,
          0,
          0,
          0,
          0,
          0,
          0,
          0,
          0,
          0,
          0,
          0,
          0,
          0,
          0,
          0,
          0,
          0,
          0,
          0,
          0,
          0,
          0,
          0,
          0,
          0,
          0,
          0,
          0,
          0,
          0,
          0,
          0,
          0
         ],
         "y": [
          "0",
          "3",
          "4",
          "39",
          "32",
          "6",
          "31",
          "80",
          "5",
          "11",
          "58",
          "62",
          "44",
          "77",
          "10",
          "43",
          "38",
          "99",
          "67",
          "88",
          "1",
          "56",
          "42",
          "59",
          "118",
          "12",
          "30",
          "40",
          "96",
          "37",
          "93",
          "78",
          "27",
          "75",
          "127",
          "49",
          "2",
          "36",
          "52",
          "29",
          "106",
          "53",
          "101",
          "34",
          "33",
          "86",
          "95",
          "72",
          "7",
          "116",
          "131",
          "85",
          "64",
          "142",
          "50",
          "82",
          "69",
          "164",
          "165",
          "166",
          "23",
          "9",
          "81",
          "151",
          "83",
          "91",
          "92",
          "100",
          "103",
          "104",
          "105",
          "74",
          "68",
          "13",
          "22",
          "70",
          "167",
          "136",
          "14",
          "65",
          "45",
          "162",
          "17",
          "156",
          "158",
          "128",
          "35",
          "150",
          "25",
          "108",
          "121",
          "172",
          "148",
          "147",
          "111",
          "145",
          "144",
          "119",
          "132",
          "73",
          "98",
          "57",
          "76",
          "122",
          "138",
          "63",
          "126",
          "97",
          "84",
          "89",
          "90",
          "129",
          "130",
          "134",
          "141",
          "137",
          "140",
          "139",
          "169",
          "143",
          "146",
          "149",
          "152",
          "168",
          "153",
          "154",
          "155",
          "157",
          "159",
          "160",
          "161",
          "163",
          "171",
          "170",
          "173",
          "87",
          "135",
          "26",
          "54",
          "51",
          "48",
          "47",
          "46",
          "41",
          "28",
          "24",
          "60",
          "21",
          "20",
          "19",
          "18",
          "16",
          "15",
          "8",
          "55",
          "61",
          "133",
          "113",
          "125",
          "124",
          "123",
          "120",
          "117",
          "115",
          "114",
          "112",
          "66",
          "110",
          "109",
          "107",
          "102",
          "94",
          "79",
          "71",
          "174"
         ]
        }
       ],
       "layout": {
        "autosize": false,
        "height": 1000,
        "width": 1000,
        "xaxis": {
         "tickfont": {
          "color": "black",
          "size": 12
         },
         "title": "Feature Importances"
        },
        "yaxis": {
         "automargin": true
        }
       }
      },
      "text/html": [
       "<div id=\"cc29d0eb-780c-4064-8000-cd676b272050\" style=\"height: 1000px; width: 1000px;\" class=\"plotly-graph-div\"></div><script type=\"text/javascript\">require([\"plotly\"], function(Plotly) { window.PLOTLYENV=window.PLOTLYENV || {};window.PLOTLYENV.BASE_URL=\"https://plot.ly\";Plotly.newPlot(\"cc29d0eb-780c-4064-8000-cd676b272050\", [{\"marker\": {\"color\": \"rgb(158,202,225)\", \"line\": {\"color\": \"rgb(8,48,107)\", \"width\": 1.5}}, \"opacity\": 0.6, \"orientation\": \"h\", \"text\": [0.1778, 0.0481, 0.0408, 0.0321, 0.0306, 0.0277, 0.0277, 0.0248, 0.0219, 0.0219, 0.019, 0.019, 0.0175, 0.0146, 0.0146, 0.0146, 0.0131, 0.0117, 0.0117, 0.0102, 0.0102, 0.0102, 0.0102, 0.0102, 0.0102, 0.0087, 0.0087, 0.0087, 0.0087, 0.0087, 0.0087, 0.0087, 0.0087, 0.0087, 0.0087, 0.0087, 0.0073, 0.0073, 0.0073, 0.0073, 0.0073, 0.0058, 0.0058, 0.0058, 0.0058, 0.0058, 0.0058, 0.0058, 0.0058, 0.0058, 0.0058, 0.0044, 0.0044, 0.0044, 0.0044, 0.0044, 0.0044, 0.0044, 0.0044, 0.0044, 0.0044, 0.0044, 0.0029, 0.0029, 0.0029, 0.0029, 0.0029, 0.0029, 0.0029, 0.0029, 0.0029, 0.0029, 0.0029, 0.0029, 0.0029, 0.0029, 0.0029, 0.0029, 0.0029, 0.0029, 0.0029, 0.0029, 0.0029, 0.0029, 0.0029, 0.0029, 0.0015, 0.0015, 0.0015, 0.0015, 0.0015, 0.0015, 0.0015, 0.0015, 0.0015, 0.0015, 0.0015, 0.0015, 0.0015, 0.0015, 0.0015, 0.0015, 0.0015, 0.0015, 0.0015, 0.0015, 0.0015, 0.0015, 0.0015, 0.0015, 0.0015, 0.0015, 0.0015, 0.0015, 0.0, 0.0, 0.0, 0.0, 0.0, 0.0, 0.0, 0.0, 0.0, 0.0, 0.0, 0.0, 0.0, 0.0, 0.0, 0.0, 0.0, 0.0, 0.0, 0.0, 0.0, 0.0, 0.0, 0.0, 0.0, 0.0, 0.0, 0.0, 0.0, 0.0, 0.0, 0.0, 0.0, 0.0, 0.0, 0.0, 0.0, 0.0, 0.0, 0.0, 0.0, 0.0, 0.0, 0.0, 0.0, 0.0, 0.0, 0.0, 0.0, 0.0, 0.0, 0.0, 0.0, 0.0, 0.0, 0.0, 0.0, 0.0, 0.0, 0.0, 0.0], \"textposition\": \"outside\", \"x\": [0.17784257233142853, 0.04810495674610138, 0.040816325694322586, 0.03206996992230415, 0.030612245202064514, 0.027696793898940086, 0.027696793898940086, 0.02478134073317051, 0.02186588943004608, 0.02186588943004608, 0.018950438126921654, 0.018950438126921654, 0.017492711544036865, 0.014577259309589863, 0.014577259309589863, 0.014577259309589863, 0.013119533658027649, 0.011661808006465435, 0.011661808006465435, 0.010204081423580647, 0.010204081423580647, 0.010204081423580647, 0.010204081423580647, 0.010204081423580647, 0.010204081423580647, 0.008746355772018433, 0.008746355772018433, 0.008746355772018433, 0.008746355772018433, 0.008746355772018433, 0.008746355772018433, 0.008746355772018433, 0.008746355772018433, 0.008746355772018433, 0.008746355772018433, 0.008746355772018433, 0.007288629654794931, 0.007288629654794931, 0.007288629654794931, 0.007288629654794931, 0.007288629654794931, 0.0058309040032327175, 0.0058309040032327175, 0.0058309040032327175, 0.0058309040032327175, 0.0058309040032327175, 0.0058309040032327175, 0.0058309040032327175, 0.0058309040032327175, 0.0058309040032327175, 0.0058309040032327175, 0.004373177886009216, 0.004373177886009216, 0.004373177886009216, 0.004373177886009216, 0.004373177886009216, 0.004373177886009216, 0.004373177886009216, 0.004373177886009216, 0.004373177886009216, 0.004373177886009216, 0.004373177886009216, 0.0029154520016163588, 0.0029154520016163588, 0.0029154520016163588, 0.0029154520016163588, 0.0029154520016163588, 0.0029154520016163588, 0.0029154520016163588, 0.0029154520016163588, 0.0029154520016163588, 0.0029154520016163588, 0.0029154520016163588, 0.0029154520016163588, 0.0029154520016163588, 0.0029154520016163588, 0.0029154520016163588, 0.0029154520016163588, 0.0029154520016163588, 0.0029154520016163588, 0.0029154520016163588, 0.0029154520016163588, 0.0029154520016163588, 0.0029154520016163588, 0.0029154520016163588, 0.0029154520016163588, 0.0014577260008081794, 0.0014577260008081794, 0.0014577260008081794, 0.0014577260008081794, 0.0014577260008081794, 0.0014577260008081794, 0.0014577260008081794, 0.0014577260008081794, 0.0014577260008081794, 0.0014577260008081794, 0.0014577260008081794, 0.0014577260008081794, 0.0014577260008081794, 0.0014577260008081794, 0.0014577260008081794, 0.0014577260008081794, 0.0014577260008081794, 0.0014577260008081794, 0.0014577260008081794, 0.0014577260008081794, 0.0014577260008081794, 0.0014577260008081794, 0.0014577260008081794, 0.0014577260008081794, 0.0014577260008081794, 0.0014577260008081794, 0.0014577260008081794, 0.0014577260008081794, 0.0, 0.0, 0.0, 0.0, 0.0, 0.0, 0.0, 0.0, 0.0, 0.0, 0.0, 0.0, 0.0, 0.0, 0.0, 0.0, 0.0, 0.0, 0.0, 0.0, 0.0, 0.0, 0.0, 0.0, 0.0, 0.0, 0.0, 0.0, 0.0, 0.0, 0.0, 0.0, 0.0, 0.0, 0.0, 0.0, 0.0, 0.0, 0.0, 0.0, 0.0, 0.0, 0.0, 0.0, 0.0, 0.0, 0.0, 0.0, 0.0, 0.0, 0.0, 0.0, 0.0, 0.0, 0.0, 0.0, 0.0, 0.0, 0.0, 0.0, 0.0], \"y\": [\"0\", \"3\", \"4\", \"39\", \"32\", \"6\", \"31\", \"80\", \"5\", \"11\", \"58\", \"62\", \"44\", \"77\", \"10\", \"43\", \"38\", \"99\", \"67\", \"88\", \"1\", \"56\", \"42\", \"59\", \"118\", \"12\", \"30\", \"40\", \"96\", \"37\", \"93\", \"78\", \"27\", \"75\", \"127\", \"49\", \"2\", \"36\", \"52\", \"29\", \"106\", \"53\", \"101\", \"34\", \"33\", \"86\", \"95\", \"72\", \"7\", \"116\", \"131\", \"85\", \"64\", \"142\", \"50\", \"82\", \"69\", \"164\", \"165\", \"166\", \"23\", \"9\", \"81\", \"151\", \"83\", \"91\", \"92\", \"100\", \"103\", \"104\", \"105\", \"74\", \"68\", \"13\", \"22\", \"70\", \"167\", \"136\", \"14\", \"65\", \"45\", \"162\", \"17\", \"156\", \"158\", \"128\", \"35\", \"150\", \"25\", \"108\", \"121\", \"172\", \"148\", \"147\", \"111\", \"145\", \"144\", \"119\", \"132\", \"73\", \"98\", \"57\", \"76\", \"122\", \"138\", \"63\", \"126\", \"97\", \"84\", \"89\", \"90\", \"129\", \"130\", \"134\", \"141\", \"137\", \"140\", \"139\", \"169\", \"143\", \"146\", \"149\", \"152\", \"168\", \"153\", \"154\", \"155\", \"157\", \"159\", \"160\", \"161\", \"163\", \"171\", \"170\", \"173\", \"87\", \"135\", \"26\", \"54\", \"51\", \"48\", \"47\", \"46\", \"41\", \"28\", \"24\", \"60\", \"21\", \"20\", \"19\", \"18\", \"16\", \"15\", \"8\", \"55\", \"61\", \"133\", \"113\", \"125\", \"124\", \"123\", \"120\", \"117\", \"115\", \"114\", \"112\", \"66\", \"110\", \"109\", \"107\", \"102\", \"94\", \"79\", \"71\", \"174\"], \"type\": \"bar\", \"uid\": \"e2d04a26-e6e2-4c29-a2a5-a06293642219\"}], {\"autosize\": false, \"height\": 1000, \"width\": 1000, \"xaxis\": {\"tickfont\": {\"color\": \"black\", \"size\": 12}, \"title\": \"Feature Importances\"}, \"yaxis\": {\"automargin\": true}}, {\"showLink\": true, \"linkText\": \"Export to plot.ly\", \"plotlyServerURL\": \"https://plot.ly\"})});</script>"
      ],
      "text/vnd.plotly.v1+html": [
       "<div id=\"cc29d0eb-780c-4064-8000-cd676b272050\" style=\"height: 1000px; width: 1000px;\" class=\"plotly-graph-div\"></div><script type=\"text/javascript\">require([\"plotly\"], function(Plotly) { window.PLOTLYENV=window.PLOTLYENV || {};window.PLOTLYENV.BASE_URL=\"https://plot.ly\";Plotly.newPlot(\"cc29d0eb-780c-4064-8000-cd676b272050\", [{\"marker\": {\"color\": \"rgb(158,202,225)\", \"line\": {\"color\": \"rgb(8,48,107)\", \"width\": 1.5}}, \"opacity\": 0.6, \"orientation\": \"h\", \"text\": [0.1778, 0.0481, 0.0408, 0.0321, 0.0306, 0.0277, 0.0277, 0.0248, 0.0219, 0.0219, 0.019, 0.019, 0.0175, 0.0146, 0.0146, 0.0146, 0.0131, 0.0117, 0.0117, 0.0102, 0.0102, 0.0102, 0.0102, 0.0102, 0.0102, 0.0087, 0.0087, 0.0087, 0.0087, 0.0087, 0.0087, 0.0087, 0.0087, 0.0087, 0.0087, 0.0087, 0.0073, 0.0073, 0.0073, 0.0073, 0.0073, 0.0058, 0.0058, 0.0058, 0.0058, 0.0058, 0.0058, 0.0058, 0.0058, 0.0058, 0.0058, 0.0044, 0.0044, 0.0044, 0.0044, 0.0044, 0.0044, 0.0044, 0.0044, 0.0044, 0.0044, 0.0044, 0.0029, 0.0029, 0.0029, 0.0029, 0.0029, 0.0029, 0.0029, 0.0029, 0.0029, 0.0029, 0.0029, 0.0029, 0.0029, 0.0029, 0.0029, 0.0029, 0.0029, 0.0029, 0.0029, 0.0029, 0.0029, 0.0029, 0.0029, 0.0029, 0.0015, 0.0015, 0.0015, 0.0015, 0.0015, 0.0015, 0.0015, 0.0015, 0.0015, 0.0015, 0.0015, 0.0015, 0.0015, 0.0015, 0.0015, 0.0015, 0.0015, 0.0015, 0.0015, 0.0015, 0.0015, 0.0015, 0.0015, 0.0015, 0.0015, 0.0015, 0.0015, 0.0015, 0.0, 0.0, 0.0, 0.0, 0.0, 0.0, 0.0, 0.0, 0.0, 0.0, 0.0, 0.0, 0.0, 0.0, 0.0, 0.0, 0.0, 0.0, 0.0, 0.0, 0.0, 0.0, 0.0, 0.0, 0.0, 0.0, 0.0, 0.0, 0.0, 0.0, 0.0, 0.0, 0.0, 0.0, 0.0, 0.0, 0.0, 0.0, 0.0, 0.0, 0.0, 0.0, 0.0, 0.0, 0.0, 0.0, 0.0, 0.0, 0.0, 0.0, 0.0, 0.0, 0.0, 0.0, 0.0, 0.0, 0.0, 0.0, 0.0, 0.0, 0.0], \"textposition\": \"outside\", \"x\": [0.17784257233142853, 0.04810495674610138, 0.040816325694322586, 0.03206996992230415, 0.030612245202064514, 0.027696793898940086, 0.027696793898940086, 0.02478134073317051, 0.02186588943004608, 0.02186588943004608, 0.018950438126921654, 0.018950438126921654, 0.017492711544036865, 0.014577259309589863, 0.014577259309589863, 0.014577259309589863, 0.013119533658027649, 0.011661808006465435, 0.011661808006465435, 0.010204081423580647, 0.010204081423580647, 0.010204081423580647, 0.010204081423580647, 0.010204081423580647, 0.010204081423580647, 0.008746355772018433, 0.008746355772018433, 0.008746355772018433, 0.008746355772018433, 0.008746355772018433, 0.008746355772018433, 0.008746355772018433, 0.008746355772018433, 0.008746355772018433, 0.008746355772018433, 0.008746355772018433, 0.007288629654794931, 0.007288629654794931, 0.007288629654794931, 0.007288629654794931, 0.007288629654794931, 0.0058309040032327175, 0.0058309040032327175, 0.0058309040032327175, 0.0058309040032327175, 0.0058309040032327175, 0.0058309040032327175, 0.0058309040032327175, 0.0058309040032327175, 0.0058309040032327175, 0.0058309040032327175, 0.004373177886009216, 0.004373177886009216, 0.004373177886009216, 0.004373177886009216, 0.004373177886009216, 0.004373177886009216, 0.004373177886009216, 0.004373177886009216, 0.004373177886009216, 0.004373177886009216, 0.004373177886009216, 0.0029154520016163588, 0.0029154520016163588, 0.0029154520016163588, 0.0029154520016163588, 0.0029154520016163588, 0.0029154520016163588, 0.0029154520016163588, 0.0029154520016163588, 0.0029154520016163588, 0.0029154520016163588, 0.0029154520016163588, 0.0029154520016163588, 0.0029154520016163588, 0.0029154520016163588, 0.0029154520016163588, 0.0029154520016163588, 0.0029154520016163588, 0.0029154520016163588, 0.0029154520016163588, 0.0029154520016163588, 0.0029154520016163588, 0.0029154520016163588, 0.0029154520016163588, 0.0029154520016163588, 0.0014577260008081794, 0.0014577260008081794, 0.0014577260008081794, 0.0014577260008081794, 0.0014577260008081794, 0.0014577260008081794, 0.0014577260008081794, 0.0014577260008081794, 0.0014577260008081794, 0.0014577260008081794, 0.0014577260008081794, 0.0014577260008081794, 0.0014577260008081794, 0.0014577260008081794, 0.0014577260008081794, 0.0014577260008081794, 0.0014577260008081794, 0.0014577260008081794, 0.0014577260008081794, 0.0014577260008081794, 0.0014577260008081794, 0.0014577260008081794, 0.0014577260008081794, 0.0014577260008081794, 0.0014577260008081794, 0.0014577260008081794, 0.0014577260008081794, 0.0014577260008081794, 0.0, 0.0, 0.0, 0.0, 0.0, 0.0, 0.0, 0.0, 0.0, 0.0, 0.0, 0.0, 0.0, 0.0, 0.0, 0.0, 0.0, 0.0, 0.0, 0.0, 0.0, 0.0, 0.0, 0.0, 0.0, 0.0, 0.0, 0.0, 0.0, 0.0, 0.0, 0.0, 0.0, 0.0, 0.0, 0.0, 0.0, 0.0, 0.0, 0.0, 0.0, 0.0, 0.0, 0.0, 0.0, 0.0, 0.0, 0.0, 0.0, 0.0, 0.0, 0.0, 0.0, 0.0, 0.0, 0.0, 0.0, 0.0, 0.0, 0.0, 0.0], \"y\": [\"0\", \"3\", \"4\", \"39\", \"32\", \"6\", \"31\", \"80\", \"5\", \"11\", \"58\", \"62\", \"44\", \"77\", \"10\", \"43\", \"38\", \"99\", \"67\", \"88\", \"1\", \"56\", \"42\", \"59\", \"118\", \"12\", \"30\", \"40\", \"96\", \"37\", \"93\", \"78\", \"27\", \"75\", \"127\", \"49\", \"2\", \"36\", \"52\", \"29\", \"106\", \"53\", \"101\", \"34\", \"33\", \"86\", \"95\", \"72\", \"7\", \"116\", \"131\", \"85\", \"64\", \"142\", \"50\", \"82\", \"69\", \"164\", \"165\", \"166\", \"23\", \"9\", \"81\", \"151\", \"83\", \"91\", \"92\", \"100\", \"103\", \"104\", \"105\", \"74\", \"68\", \"13\", \"22\", \"70\", \"167\", \"136\", \"14\", \"65\", \"45\", \"162\", \"17\", \"156\", \"158\", \"128\", \"35\", \"150\", \"25\", \"108\", \"121\", \"172\", \"148\", \"147\", \"111\", \"145\", \"144\", \"119\", \"132\", \"73\", \"98\", \"57\", \"76\", \"122\", \"138\", \"63\", \"126\", \"97\", \"84\", \"89\", \"90\", \"129\", \"130\", \"134\", \"141\", \"137\", \"140\", \"139\", \"169\", \"143\", \"146\", \"149\", \"152\", \"168\", \"153\", \"154\", \"155\", \"157\", \"159\", \"160\", \"161\", \"163\", \"171\", \"170\", \"173\", \"87\", \"135\", \"26\", \"54\", \"51\", \"48\", \"47\", \"46\", \"41\", \"28\", \"24\", \"60\", \"21\", \"20\", \"19\", \"18\", \"16\", \"15\", \"8\", \"55\", \"61\", \"133\", \"113\", \"125\", \"124\", \"123\", \"120\", \"117\", \"115\", \"114\", \"112\", \"66\", \"110\", \"109\", \"107\", \"102\", \"94\", \"79\", \"71\", \"174\"], \"type\": \"bar\", \"uid\": \"e2d04a26-e6e2-4c29-a2a5-a06293642219\"}], {\"autosize\": false, \"height\": 1000, \"width\": 1000, \"xaxis\": {\"tickfont\": {\"color\": \"black\", \"size\": 12}, \"title\": \"Feature Importances\"}, \"yaxis\": {\"automargin\": true}}, {\"showLink\": true, \"linkText\": \"Export to plot.ly\", \"plotlyServerURL\": \"https://plot.ly\"})});</script>"
      ]
     },
     "metadata": {},
     "output_type": "display_data"
    },
    {
     "name": "stdout",
     "output_type": "stream",
     "text": [
      "\n",
      "\n",
      "\u001b[1mBagging Classifier\u001b[0m\n",
      "Accuracy of the model for training data is: 0.9963950743316532\n",
      "Confusion Matrix for training data is:\n"
     ]
    },
    {
     "data": {
      "text/plain": [
       "Predicted  False  True  __all__\n",
       "Actual                         \n",
       "False      28188    15    28203\n",
       "True          98  3045     3143\n",
       "__all__    28286  3060    31346"
      ]
     },
     "metadata": {},
     "output_type": "display_data"
    },
    {
     "name": "stdout",
     "output_type": "stream",
     "text": [
      "Accuracy of the model for test data is: 0.9452596656884011\n",
      "Confusion Matrix for test data is:\n"
     ]
    },
    {
     "data": {
      "text/plain": [
       "Predicted  False  True  __all__\n",
       "Actual                         \n",
       "False       6498    41     6539\n",
       "True         388   910     1298\n",
       "__all__     6886   951     7837"
      ]
     },
     "metadata": {},
     "output_type": "display_data"
    },
    {
     "name": "stdout",
     "output_type": "stream",
     "text": [
      "\n",
      "\n",
      "\u001b[1mNeural Network-1\u001b[0m\n",
      "The accuracy of the model on training data is: 0.9964907803228482\n"
     ]
    },
    {
     "data": {
      "text/plain": [
       "Predicted  False  True  __all__\n",
       "Actual                         \n",
       "False      28165    38    28203\n",
       "True          72  3071     3143\n",
       "__all__    28237  3109    31346"
      ]
     },
     "metadata": {},
     "output_type": "display_data"
    },
    {
     "name": "stdout",
     "output_type": "stream",
     "text": [
      "The accuracy of the model on test data is: 0.9272680872782952\n"
     ]
    },
    {
     "data": {
      "text/plain": [
       "Predicted  False  True  __all__\n",
       "Actual                         \n",
       "False       6464    75     6539\n",
       "True         495   803     1298\n",
       "__all__     6959   878     7837"
      ]
     },
     "metadata": {},
     "output_type": "display_data"
    },
    {
     "name": "stdout",
     "output_type": "stream",
     "text": [
      "\n",
      "\n"
     ]
    }
   ],
   "source": [
    "table_80_50_train=pd.DataFrame(columns=['accuracy','TP','TN','FP','FN','FPR','FNR'])\n",
    "table_80_50_test=pd.DataFrame(columns=['accuracy','TP','TN','FP','FN','FPR','FNR','auc','MCC','Precision','Recall'])\n",
    "\n",
    "feat_imp=[None]*5\n",
    "j=0\n",
    "for i in range(0,8):\n",
    "    if i>=1 and i<=5:\n",
    "        model,cm_train,cm_test,acc_train,acc_test,roc_auc,feat_imp[j],mcc,prec,rec=f[i](X_train,Y_train,X_test,Y_test,np.arange(0,175).astype(str))\n",
    "        j=j+1\n",
    "    else:\n",
    "        model,cm_train,cm_test,acc_train,acc_test,roc_auc,mcc,prec,rec=f[i](X_train,Y_train,X_test,Y_test)\n",
    "    table_80_50_train.loc[i]=   ([acc_train,cm_train.TP,cm_train.TN,cm_train.FP,cm_train.FN,cm_train.FPR,cm_train.FNR])\n",
    "    table_80_50_test.loc[i] =   ([acc_test ,cm_test.TP, cm_test.TN, cm_test.FP, cm_test.FN, cm_test.FPR, cm_test.FNR,roc_auc,mcc,prec,rec])\n",
    "    print(\"\\n\")"
   ]
  },
  {
   "cell_type": "markdown",
   "metadata": {},
   "source": [
    "### <a id='5.A' style=\"text-decoration : none; color : #000000;\"> A. Results</a>"
   ]
  },
  {
   "cell_type": "code",
   "execution_count": 64,
   "metadata": {},
   "outputs": [
    {
     "data": {
      "application/vnd.plotly.v1+json": {
       "config": {
        "linkText": "Export to plot.ly",
        "plotlyServerURL": "https://plot.ly",
        "showLink": true
       },
       "data": [
        {
         "mode": "lines",
         "name": "KNN_model",
         "type": "scatter",
         "uid": "73338241-b910-40ed-a5bc-53256b0a7290",
         "x": [
          "accuracy",
          "auc",
          "MCC",
          "Precision",
          "Recall"
         ],
         "y": [
          0.9335204797754243,
          0.8165962739622475,
          0.7422462712098045,
          0.937007874015748,
          0.6417565485362096
         ]
        },
        {
         "mode": "lines+markers",
         "name": "XGB",
         "type": "scatter",
         "uid": "3d3d49a6-56d2-4f51-968f-19707f1bffdc",
         "x": [
          "accuracy",
          "auc",
          "MCC",
          "Precision",
          "Recall"
         ],
         "y": [
          0.9504912594104887,
          0.8638152712267346,
          0.8121092756141838,
          0.9568273092369478,
          0.734206471494607
         ]
        },
        {
         "marker": {
          "symbol": "x"
         },
         "mode": "lines+markers",
         "name": "Random Forest",
         "type": "scatter",
         "uid": "556a18c1-b731-492a-916d-0822a1b4ecc8",
         "x": [
          "accuracy",
          "auc",
          "MCC",
          "Precision",
          "Recall"
         ],
         "y": [
          0.925736889115733,
          0.7863062233450075,
          0.7094288170290298,
          0.9566326530612245,
          0.5778120184899846
         ]
        },
        {
         "mode": "lines",
         "name": "Ada Boost",
         "type": "scatter",
         "uid": "30c5aecd-396d-4329-a3ed-1ed5511c8b0b",
         "x": [
          "accuracy",
          "auc",
          "MCC",
          "Precision",
          "Recall"
         ],
         "y": [
          0.9423248692101569,
          0.8558341193799629,
          0.7798216609190132,
          0.9067307692307692,
          0.726502311248074
         ]
        },
        {
         "mode": "lines+markers",
         "name": "GradientBoosting",
         "type": "scatter",
         "uid": "9139ce0e-6bb3-4389-9a4f-ddae00b66468",
         "x": [
          "accuracy",
          "auc",
          "MCC",
          "Precision",
          "Recall"
         ],
         "y": [
          0.9555952532856961,
          0.8798410791621022,
          0.8324336681192926,
          0.9567307692307693,
          0.7665639445300462
         ]
        },
        {
         "marker": {
          "symbol": "x"
         },
         "mode": "lines+markers",
         "name": "ExtraTree Classifier",
         "type": "scatter",
         "uid": "f8727874-5ac4-478f-87ab-d6a837a393fa",
         "x": [
          "accuracy",
          "auc",
          "MCC",
          "Precision",
          "Recall"
         ],
         "y": [
          0.9017481179022585,
          0.7145046044698974,
          0.599797592296287,
          0.94,
          0.4345146379044684
         ]
        },
        {
         "marker": {
          "symbol": "x"
         },
         "mode": "lines+markers",
         "name": "Bagging",
         "type": "scatter",
         "uid": "7e521280-63f0-4897-9510-f282367c82eb",
         "x": [
          "accuracy",
          "auc",
          "MCC",
          "Precision",
          "Recall"
         ],
         "y": [
          0.9452596656884011,
          0.8474042552790405,
          0.7910143762765669,
          0.9568874868559412,
          0.7010785824345146
         ]
        },
        {
         "marker": {
          "symbol": "x"
         },
         "mode": "lines+markers",
         "name": "Neural Network",
         "type": "scatter",
         "uid": "6a406bc1-3edd-4745-a9eb-c8defc888ed9",
         "x": [
          "accuracy",
          "auc",
          "MCC",
          "Precision",
          "Recall"
         ],
         "y": [
          0.9272680872782952,
          0.8474042552790405,
          0.7156255013743653,
          0.9145785876993167,
          0.6186440677966102
         ]
        }
       ],
       "layout": {
        "title": "Result comparision for Features selected in Section 1",
        "yaxis": {
         "dtick": 0.05,
         "tick0": 0
        }
       }
      },
      "text/html": [
       "<div id=\"7248d581-c164-41fe-afc5-73623250919b\" style=\"height: 525px; width: 100%;\" class=\"plotly-graph-div\"></div><script type=\"text/javascript\">require([\"plotly\"], function(Plotly) { window.PLOTLYENV=window.PLOTLYENV || {};window.PLOTLYENV.BASE_URL=\"https://plot.ly\";Plotly.newPlot(\"7248d581-c164-41fe-afc5-73623250919b\", [{\"mode\": \"lines\", \"name\": \"KNN_model\", \"x\": [\"accuracy\", \"auc\", \"MCC\", \"Precision\", \"Recall\"], \"y\": [0.9335204797754243, 0.8165962739622475, 0.7422462712098045, 0.937007874015748, 0.6417565485362096], \"type\": \"scatter\", \"uid\": \"73338241-b910-40ed-a5bc-53256b0a7290\"}, {\"mode\": \"lines+markers\", \"name\": \"XGB\", \"x\": [\"accuracy\", \"auc\", \"MCC\", \"Precision\", \"Recall\"], \"y\": [0.9504912594104887, 0.8638152712267346, 0.8121092756141838, 0.9568273092369478, 0.734206471494607], \"type\": \"scatter\", \"uid\": \"3d3d49a6-56d2-4f51-968f-19707f1bffdc\"}, {\"marker\": {\"symbol\": \"x\"}, \"mode\": \"lines+markers\", \"name\": \"Random Forest\", \"x\": [\"accuracy\", \"auc\", \"MCC\", \"Precision\", \"Recall\"], \"y\": [0.925736889115733, 0.7863062233450075, 0.7094288170290298, 0.9566326530612245, 0.5778120184899846], \"type\": \"scatter\", \"uid\": \"556a18c1-b731-492a-916d-0822a1b4ecc8\"}, {\"mode\": \"lines\", \"name\": \"Ada Boost\", \"x\": [\"accuracy\", \"auc\", \"MCC\", \"Precision\", \"Recall\"], \"y\": [0.9423248692101569, 0.8558341193799629, 0.7798216609190132, 0.9067307692307692, 0.726502311248074], \"type\": \"scatter\", \"uid\": \"30c5aecd-396d-4329-a3ed-1ed5511c8b0b\"}, {\"mode\": \"lines+markers\", \"name\": \"GradientBoosting\", \"x\": [\"accuracy\", \"auc\", \"MCC\", \"Precision\", \"Recall\"], \"y\": [0.9555952532856961, 0.8798410791621022, 0.8324336681192926, 0.9567307692307693, 0.7665639445300462], \"type\": \"scatter\", \"uid\": \"9139ce0e-6bb3-4389-9a4f-ddae00b66468\"}, {\"marker\": {\"symbol\": \"x\"}, \"mode\": \"lines+markers\", \"name\": \"ExtraTree Classifier\", \"x\": [\"accuracy\", \"auc\", \"MCC\", \"Precision\", \"Recall\"], \"y\": [0.9017481179022585, 0.7145046044698974, 0.599797592296287, 0.94, 0.4345146379044684], \"type\": \"scatter\", \"uid\": \"f8727874-5ac4-478f-87ab-d6a837a393fa\"}, {\"marker\": {\"symbol\": \"x\"}, \"mode\": \"lines+markers\", \"name\": \"Bagging\", \"x\": [\"accuracy\", \"auc\", \"MCC\", \"Precision\", \"Recall\"], \"y\": [0.9452596656884011, 0.8474042552790405, 0.7910143762765669, 0.9568874868559412, 0.7010785824345146], \"type\": \"scatter\", \"uid\": \"7e521280-63f0-4897-9510-f282367c82eb\"}, {\"marker\": {\"symbol\": \"x\"}, \"mode\": \"lines+markers\", \"name\": \"Neural Network\", \"x\": [\"accuracy\", \"auc\", \"MCC\", \"Precision\", \"Recall\"], \"y\": [0.9272680872782952, 0.8474042552790405, 0.7156255013743653, 0.9145785876993167, 0.6186440677966102], \"type\": \"scatter\", \"uid\": \"6a406bc1-3edd-4745-a9eb-c8defc888ed9\"}], {\"title\": \"Result comparision for Features selected in Section 1\", \"yaxis\": {\"dtick\": 0.05, \"tick0\": 0}}, {\"showLink\": true, \"linkText\": \"Export to plot.ly\", \"plotlyServerURL\": \"https://plot.ly\"})});</script><script type=\"text/javascript\">window.addEventListener(\"resize\", function(){window._Plotly.Plots.resize(document.getElementById(\"7248d581-c164-41fe-afc5-73623250919b\"));});</script>"
      ],
      "text/vnd.plotly.v1+html": [
       "<div id=\"7248d581-c164-41fe-afc5-73623250919b\" style=\"height: 525px; width: 100%;\" class=\"plotly-graph-div\"></div><script type=\"text/javascript\">require([\"plotly\"], function(Plotly) { window.PLOTLYENV=window.PLOTLYENV || {};window.PLOTLYENV.BASE_URL=\"https://plot.ly\";Plotly.newPlot(\"7248d581-c164-41fe-afc5-73623250919b\", [{\"mode\": \"lines\", \"name\": \"KNN_model\", \"x\": [\"accuracy\", \"auc\", \"MCC\", \"Precision\", \"Recall\"], \"y\": [0.9335204797754243, 0.8165962739622475, 0.7422462712098045, 0.937007874015748, 0.6417565485362096], \"type\": \"scatter\", \"uid\": \"73338241-b910-40ed-a5bc-53256b0a7290\"}, {\"mode\": \"lines+markers\", \"name\": \"XGB\", \"x\": [\"accuracy\", \"auc\", \"MCC\", \"Precision\", \"Recall\"], \"y\": [0.9504912594104887, 0.8638152712267346, 0.8121092756141838, 0.9568273092369478, 0.734206471494607], \"type\": \"scatter\", \"uid\": \"3d3d49a6-56d2-4f51-968f-19707f1bffdc\"}, {\"marker\": {\"symbol\": \"x\"}, \"mode\": \"lines+markers\", \"name\": \"Random Forest\", \"x\": [\"accuracy\", \"auc\", \"MCC\", \"Precision\", \"Recall\"], \"y\": [0.925736889115733, 0.7863062233450075, 0.7094288170290298, 0.9566326530612245, 0.5778120184899846], \"type\": \"scatter\", \"uid\": \"556a18c1-b731-492a-916d-0822a1b4ecc8\"}, {\"mode\": \"lines\", \"name\": \"Ada Boost\", \"x\": [\"accuracy\", \"auc\", \"MCC\", \"Precision\", \"Recall\"], \"y\": [0.9423248692101569, 0.8558341193799629, 0.7798216609190132, 0.9067307692307692, 0.726502311248074], \"type\": \"scatter\", \"uid\": \"30c5aecd-396d-4329-a3ed-1ed5511c8b0b\"}, {\"mode\": \"lines+markers\", \"name\": \"GradientBoosting\", \"x\": [\"accuracy\", \"auc\", \"MCC\", \"Precision\", \"Recall\"], \"y\": [0.9555952532856961, 0.8798410791621022, 0.8324336681192926, 0.9567307692307693, 0.7665639445300462], \"type\": \"scatter\", \"uid\": \"9139ce0e-6bb3-4389-9a4f-ddae00b66468\"}, {\"marker\": {\"symbol\": \"x\"}, \"mode\": \"lines+markers\", \"name\": \"ExtraTree Classifier\", \"x\": [\"accuracy\", \"auc\", \"MCC\", \"Precision\", \"Recall\"], \"y\": [0.9017481179022585, 0.7145046044698974, 0.599797592296287, 0.94, 0.4345146379044684], \"type\": \"scatter\", \"uid\": \"f8727874-5ac4-478f-87ab-d6a837a393fa\"}, {\"marker\": {\"symbol\": \"x\"}, \"mode\": \"lines+markers\", \"name\": \"Bagging\", \"x\": [\"accuracy\", \"auc\", \"MCC\", \"Precision\", \"Recall\"], \"y\": [0.9452596656884011, 0.8474042552790405, 0.7910143762765669, 0.9568874868559412, 0.7010785824345146], \"type\": \"scatter\", \"uid\": \"7e521280-63f0-4897-9510-f282367c82eb\"}, {\"marker\": {\"symbol\": \"x\"}, \"mode\": \"lines+markers\", \"name\": \"Neural Network\", \"x\": [\"accuracy\", \"auc\", \"MCC\", \"Precision\", \"Recall\"], \"y\": [0.9272680872782952, 0.8474042552790405, 0.7156255013743653, 0.9145785876993167, 0.6186440677966102], \"type\": \"scatter\", \"uid\": \"6a406bc1-3edd-4745-a9eb-c8defc888ed9\"}], {\"title\": \"Result comparision for Features selected in Section 1\", \"yaxis\": {\"dtick\": 0.05, \"tick0\": 0}}, {\"showLink\": true, \"linkText\": \"Export to plot.ly\", \"plotlyServerURL\": \"https://plot.ly\"})});</script><script type=\"text/javascript\">window.addEventListener(\"resize\", function(){window._Plotly.Plots.resize(document.getElementById(\"7248d581-c164-41fe-afc5-73623250919b\"));});</script>"
      ]
     },
     "metadata": {},
     "output_type": "display_data"
    }
   ],
   "source": [
    "trace0 = go.Scatter(x=table_80_50_test.iloc[0].index.values[[0,7,8,9,10]],\n",
    "                    y=table_80_50_test.iloc[0].values[[0,7,8,9,10]],\n",
    "                    mode = 'lines',\n",
    "                    name = 'KNN_model')\n",
    "\n",
    "\n",
    "trace2 = go.Scatter(x=table_80_50_test.iloc[1].index.values[[0,7,8,9,10]],\n",
    "                    y=table_80_50_test.iloc[1].values[[0,7,8,9,10]],\n",
    "                    mode = 'lines+markers',marker=dict(symbol='x'),\n",
    "                    name = 'Random Forest')\n",
    "\n",
    "\n",
    "trace3 = go.Scatter(x=table_80_50_test.iloc[2].index.values[[0,7,8,9,10]],\n",
    "                    y=table_80_50_test.iloc[2].values[[0,7,8,9,10]],\n",
    "                    mode = 'lines',\n",
    "                    name = 'Ada Boost')\n",
    "\n",
    "trace4 = go.Scatter(x=table_80_50_test.iloc[3].index.values[[0,7,8,9,10]],\n",
    "                    y=table_80_50_test.iloc[3].values[[0,7,8,9,10]],\n",
    "                    mode = 'lines+markers',\n",
    "                    name = 'GradientBoosting')\n",
    "\n",
    "trace5 = go.Scatter(x=table_80_50_test.iloc[4].index.values[[0,7,8,9,10]],\n",
    "                    y=table_80_50_test.iloc[4].values[[0,7,8,9,10]],\n",
    "                    mode = 'lines+markers',marker=dict(symbol='x'),\n",
    "                    name = 'ExtraTree Classifier')\n",
    "\n",
    "\n",
    "trace1 = go.Scatter(x=table_80_50_test.iloc[5].index.values[[0,7,8,9,10]],\n",
    "                    y=table_80_50_test.iloc[5].values[[0,7,8,9,10]],\n",
    "                    mode = 'lines+markers',\n",
    "                    name = 'XGB')\n",
    "\n",
    "\n",
    "trace6 = go.Scatter(x=table_80_50_test.iloc[6].index.values[[0,7,8,9,10]],\n",
    "                    y=table_80_50_test.iloc[6].values[[0,7,8,9,10]],\n",
    "                    mode = 'lines+markers',marker=dict(symbol='x'),\n",
    "                    name = 'Bagging')\n",
    "\n",
    "trace7 = go.Scatter(x=table_80_50_test.iloc[7].index.values[[0,7,8,9,10]],\n",
    "                    y=table_80_50_test.iloc[7].values[[0,7,8,9,10]],\n",
    "                    mode = 'lines+markers',marker=dict(symbol='x'),\n",
    "                    name = 'Neural Network')\n",
    "\n",
    "\n",
    "\n",
    "data = [trace0, trace1, trace2, trace3, trace4, trace5, trace6, trace7]\n",
    "layout = go.Layout(yaxis=dict(tick0=0,dtick=0.05),title='Result comparision for Features selected in Section 1')\n",
    "fig = go.Figure(data=data, layout=layout)\n",
    "\n",
    "iplot(fig, filename='Result')"
   ]
  },
  {
   "cell_type": "code",
   "execution_count": 65,
   "metadata": {},
   "outputs": [
    {
     "name": "stdout",
     "output_type": "stream",
     "text": [
      "Training Results\n"
     ]
    },
    {
     "data": {
      "text/html": [
       "<div>\n",
       "<style scoped>\n",
       "    .dataframe tbody tr th:only-of-type {\n",
       "        vertical-align: middle;\n",
       "    }\n",
       "\n",
       "    .dataframe tbody tr th {\n",
       "        vertical-align: top;\n",
       "    }\n",
       "\n",
       "    .dataframe thead th {\n",
       "        text-align: right;\n",
       "    }\n",
       "</style>\n",
       "<table border=\"1\" class=\"dataframe\">\n",
       "  <thead>\n",
       "    <tr style=\"text-align: right;\">\n",
       "      <th></th>\n",
       "      <th>accuracy</th>\n",
       "      <th>TP</th>\n",
       "      <th>TN</th>\n",
       "      <th>FP</th>\n",
       "      <th>FN</th>\n",
       "      <th>FPR</th>\n",
       "      <th>FNR</th>\n",
       "    </tr>\n",
       "    <tr>\n",
       "      <th>index</th>\n",
       "      <th></th>\n",
       "      <th></th>\n",
       "      <th></th>\n",
       "      <th></th>\n",
       "      <th></th>\n",
       "      <th></th>\n",
       "      <th></th>\n",
       "    </tr>\n",
       "  </thead>\n",
       "  <tbody>\n",
       "    <tr>\n",
       "      <th>KNeighborsClassifier</th>\n",
       "      <td>0.981433</td>\n",
       "      <td>2690.0</td>\n",
       "      <td>28074.0</td>\n",
       "      <td>129.0</td>\n",
       "      <td>453.0</td>\n",
       "      <td>0.004574</td>\n",
       "      <td>0.144130</td>\n",
       "    </tr>\n",
       "    <tr>\n",
       "      <th>RandomForestClassifier</th>\n",
       "      <td>0.996108</td>\n",
       "      <td>3032.0</td>\n",
       "      <td>28192.0</td>\n",
       "      <td>11.0</td>\n",
       "      <td>111.0</td>\n",
       "      <td>0.000390</td>\n",
       "      <td>0.035317</td>\n",
       "    </tr>\n",
       "    <tr>\n",
       "      <th>AdaBoostClassifier</th>\n",
       "      <td>0.973234</td>\n",
       "      <td>2622.0</td>\n",
       "      <td>27885.0</td>\n",
       "      <td>318.0</td>\n",
       "      <td>521.0</td>\n",
       "      <td>0.011275</td>\n",
       "      <td>0.165765</td>\n",
       "    </tr>\n",
       "    <tr>\n",
       "      <th>GradientBoostingClassifier</th>\n",
       "      <td>0.979391</td>\n",
       "      <td>2640.0</td>\n",
       "      <td>28060.0</td>\n",
       "      <td>143.0</td>\n",
       "      <td>503.0</td>\n",
       "      <td>0.005070</td>\n",
       "      <td>0.160038</td>\n",
       "    </tr>\n",
       "    <tr>\n",
       "      <th>ExtraTreeClassifier</th>\n",
       "      <td>0.999139</td>\n",
       "      <td>3119.0</td>\n",
       "      <td>28200.0</td>\n",
       "      <td>3.0</td>\n",
       "      <td>24.0</td>\n",
       "      <td>0.000106</td>\n",
       "      <td>0.007636</td>\n",
       "    </tr>\n",
       "    <tr>\n",
       "      <th>XGB</th>\n",
       "      <td>0.979647</td>\n",
       "      <td>2646.0</td>\n",
       "      <td>28062.0</td>\n",
       "      <td>141.0</td>\n",
       "      <td>497.0</td>\n",
       "      <td>0.004999</td>\n",
       "      <td>0.158129</td>\n",
       "    </tr>\n",
       "    <tr>\n",
       "      <th>BaggingClassifier</th>\n",
       "      <td>0.996395</td>\n",
       "      <td>3045.0</td>\n",
       "      <td>28188.0</td>\n",
       "      <td>15.0</td>\n",
       "      <td>98.0</td>\n",
       "      <td>0.000532</td>\n",
       "      <td>0.031180</td>\n",
       "    </tr>\n",
       "    <tr>\n",
       "      <th>Neural Network-1</th>\n",
       "      <td>0.996491</td>\n",
       "      <td>3071.0</td>\n",
       "      <td>28165.0</td>\n",
       "      <td>38.0</td>\n",
       "      <td>72.0</td>\n",
       "      <td>0.001347</td>\n",
       "      <td>0.022908</td>\n",
       "    </tr>\n",
       "  </tbody>\n",
       "</table>\n",
       "</div>"
      ],
      "text/plain": [
       "                            accuracy      TP       TN     FP     FN       FPR  \\\n",
       "index                                                                           \n",
       "KNeighborsClassifier        0.981433  2690.0  28074.0  129.0  453.0  0.004574   \n",
       "RandomForestClassifier      0.996108  3032.0  28192.0   11.0  111.0  0.000390   \n",
       "AdaBoostClassifier          0.973234  2622.0  27885.0  318.0  521.0  0.011275   \n",
       "GradientBoostingClassifier  0.979391  2640.0  28060.0  143.0  503.0  0.005070   \n",
       "ExtraTreeClassifier         0.999139  3119.0  28200.0    3.0   24.0  0.000106   \n",
       "XGB                         0.979647  2646.0  28062.0  141.0  497.0  0.004999   \n",
       "BaggingClassifier           0.996395  3045.0  28188.0   15.0   98.0  0.000532   \n",
       "Neural Network-1            0.996491  3071.0  28165.0   38.0   72.0  0.001347   \n",
       "\n",
       "                                 FNR  \n",
       "index                                 \n",
       "KNeighborsClassifier        0.144130  \n",
       "RandomForestClassifier      0.035317  \n",
       "AdaBoostClassifier          0.165765  \n",
       "GradientBoostingClassifier  0.160038  \n",
       "ExtraTreeClassifier         0.007636  \n",
       "XGB                         0.158129  \n",
       "BaggingClassifier           0.031180  \n",
       "Neural Network-1            0.022908  "
      ]
     },
     "metadata": {},
     "output_type": "display_data"
    },
    {
     "name": "stdout",
     "output_type": "stream",
     "text": [
      "Test Results\n"
     ]
    },
    {
     "data": {
      "text/html": [
       "<div>\n",
       "<style scoped>\n",
       "    .dataframe tbody tr th:only-of-type {\n",
       "        vertical-align: middle;\n",
       "    }\n",
       "\n",
       "    .dataframe tbody tr th {\n",
       "        vertical-align: top;\n",
       "    }\n",
       "\n",
       "    .dataframe thead th {\n",
       "        text-align: right;\n",
       "    }\n",
       "</style>\n",
       "<table border=\"1\" class=\"dataframe\">\n",
       "  <thead>\n",
       "    <tr style=\"text-align: right;\">\n",
       "      <th></th>\n",
       "      <th>accuracy</th>\n",
       "      <th>TP</th>\n",
       "      <th>TN</th>\n",
       "      <th>FP</th>\n",
       "      <th>FN</th>\n",
       "      <th>FPR</th>\n",
       "      <th>FNR</th>\n",
       "      <th>auc</th>\n",
       "      <th>MCC</th>\n",
       "      <th>Precision</th>\n",
       "      <th>Recall</th>\n",
       "    </tr>\n",
       "    <tr>\n",
       "      <th>index</th>\n",
       "      <th></th>\n",
       "      <th></th>\n",
       "      <th></th>\n",
       "      <th></th>\n",
       "      <th></th>\n",
       "      <th></th>\n",
       "      <th></th>\n",
       "      <th></th>\n",
       "      <th></th>\n",
       "      <th></th>\n",
       "      <th></th>\n",
       "    </tr>\n",
       "  </thead>\n",
       "  <tbody>\n",
       "    <tr>\n",
       "      <th>KNeighborsClassifier</th>\n",
       "      <td>0.933520</td>\n",
       "      <td>833.0</td>\n",
       "      <td>6483.0</td>\n",
       "      <td>56.0</td>\n",
       "      <td>465.0</td>\n",
       "      <td>0.008564</td>\n",
       "      <td>0.358243</td>\n",
       "      <td>0.816596</td>\n",
       "      <td>0.742246</td>\n",
       "      <td>0.937008</td>\n",
       "      <td>0.641757</td>\n",
       "    </tr>\n",
       "    <tr>\n",
       "      <th>RandomForestClassifier</th>\n",
       "      <td>0.925737</td>\n",
       "      <td>750.0</td>\n",
       "      <td>6505.0</td>\n",
       "      <td>34.0</td>\n",
       "      <td>548.0</td>\n",
       "      <td>0.005200</td>\n",
       "      <td>0.422188</td>\n",
       "      <td>0.786306</td>\n",
       "      <td>0.709429</td>\n",
       "      <td>0.956633</td>\n",
       "      <td>0.577812</td>\n",
       "    </tr>\n",
       "    <tr>\n",
       "      <th>AdaBoostClassifier</th>\n",
       "      <td>0.942325</td>\n",
       "      <td>943.0</td>\n",
       "      <td>6442.0</td>\n",
       "      <td>97.0</td>\n",
       "      <td>355.0</td>\n",
       "      <td>0.014834</td>\n",
       "      <td>0.273498</td>\n",
       "      <td>0.855834</td>\n",
       "      <td>0.779822</td>\n",
       "      <td>0.906731</td>\n",
       "      <td>0.726502</td>\n",
       "    </tr>\n",
       "    <tr>\n",
       "      <th>GradientBoostingClassifier</th>\n",
       "      <td>0.955595</td>\n",
       "      <td>995.0</td>\n",
       "      <td>6494.0</td>\n",
       "      <td>45.0</td>\n",
       "      <td>303.0</td>\n",
       "      <td>0.006882</td>\n",
       "      <td>0.233436</td>\n",
       "      <td>0.879841</td>\n",
       "      <td>0.832434</td>\n",
       "      <td>0.956731</td>\n",
       "      <td>0.766564</td>\n",
       "    </tr>\n",
       "    <tr>\n",
       "      <th>ExtraTreeClassifier</th>\n",
       "      <td>0.901748</td>\n",
       "      <td>564.0</td>\n",
       "      <td>6503.0</td>\n",
       "      <td>36.0</td>\n",
       "      <td>734.0</td>\n",
       "      <td>0.005505</td>\n",
       "      <td>0.565485</td>\n",
       "      <td>0.714505</td>\n",
       "      <td>0.599798</td>\n",
       "      <td>0.940000</td>\n",
       "      <td>0.434515</td>\n",
       "    </tr>\n",
       "    <tr>\n",
       "      <th>XGB</th>\n",
       "      <td>0.950491</td>\n",
       "      <td>953.0</td>\n",
       "      <td>6496.0</td>\n",
       "      <td>43.0</td>\n",
       "      <td>345.0</td>\n",
       "      <td>0.006576</td>\n",
       "      <td>0.265794</td>\n",
       "      <td>0.863815</td>\n",
       "      <td>0.812109</td>\n",
       "      <td>0.956827</td>\n",
       "      <td>0.734206</td>\n",
       "    </tr>\n",
       "    <tr>\n",
       "      <th>BaggingClassifier</th>\n",
       "      <td>0.945260</td>\n",
       "      <td>910.0</td>\n",
       "      <td>6498.0</td>\n",
       "      <td>41.0</td>\n",
       "      <td>388.0</td>\n",
       "      <td>0.006270</td>\n",
       "      <td>0.298921</td>\n",
       "      <td>0.847404</td>\n",
       "      <td>0.791014</td>\n",
       "      <td>0.956887</td>\n",
       "      <td>0.701079</td>\n",
       "    </tr>\n",
       "    <tr>\n",
       "      <th>Neural Network-1</th>\n",
       "      <td>0.927268</td>\n",
       "      <td>803.0</td>\n",
       "      <td>6464.0</td>\n",
       "      <td>75.0</td>\n",
       "      <td>495.0</td>\n",
       "      <td>0.011470</td>\n",
       "      <td>0.381356</td>\n",
       "      <td>0.847404</td>\n",
       "      <td>0.715626</td>\n",
       "      <td>0.914579</td>\n",
       "      <td>0.618644</td>\n",
       "    </tr>\n",
       "  </tbody>\n",
       "</table>\n",
       "</div>"
      ],
      "text/plain": [
       "                            accuracy     TP      TN    FP     FN       FPR  \\\n",
       "index                                                                        \n",
       "KNeighborsClassifier        0.933520  833.0  6483.0  56.0  465.0  0.008564   \n",
       "RandomForestClassifier      0.925737  750.0  6505.0  34.0  548.0  0.005200   \n",
       "AdaBoostClassifier          0.942325  943.0  6442.0  97.0  355.0  0.014834   \n",
       "GradientBoostingClassifier  0.955595  995.0  6494.0  45.0  303.0  0.006882   \n",
       "ExtraTreeClassifier         0.901748  564.0  6503.0  36.0  734.0  0.005505   \n",
       "XGB                         0.950491  953.0  6496.0  43.0  345.0  0.006576   \n",
       "BaggingClassifier           0.945260  910.0  6498.0  41.0  388.0  0.006270   \n",
       "Neural Network-1            0.927268  803.0  6464.0  75.0  495.0  0.011470   \n",
       "\n",
       "                                 FNR       auc       MCC  Precision    Recall  \n",
       "index                                                                          \n",
       "KNeighborsClassifier        0.358243  0.816596  0.742246   0.937008  0.641757  \n",
       "RandomForestClassifier      0.422188  0.786306  0.709429   0.956633  0.577812  \n",
       "AdaBoostClassifier          0.273498  0.855834  0.779822   0.906731  0.726502  \n",
       "GradientBoostingClassifier  0.233436  0.879841  0.832434   0.956731  0.766564  \n",
       "ExtraTreeClassifier         0.565485  0.714505  0.599798   0.940000  0.434515  \n",
       "XGB                         0.265794  0.863815  0.812109   0.956827  0.734206  \n",
       "BaggingClassifier           0.298921  0.847404  0.791014   0.956887  0.701079  \n",
       "Neural Network-1            0.381356  0.847404  0.715626   0.914579  0.618644  "
      ]
     },
     "metadata": {},
     "output_type": "display_data"
    }
   ],
   "source": [
    "table_80_50_train['index']=ind_columns\n",
    "table_80_50_test['index']=ind_columns\n",
    "\n",
    "\n",
    "table_80_50_test.set_index(['index'],drop=True,inplace=True)\n",
    "table_80_50_train.set_index(['index'],drop=True,inplace=True)\n",
    "\n",
    "print(\"Training Results\")\n",
    "display(table_80_50_train)\n",
    "print(\"Test Results\")\n",
    "display(table_80_50_test)"
   ]
  },
  {
   "cell_type": "code",
   "execution_count": 66,
   "metadata": {},
   "outputs": [
    {
     "data": {
      "text/html": [
       "<script>\n",
       "code_show=true; \n",
       "function code_toggle() {\n",
       " if (code_show){\n",
       " $('div.input').hide();\n",
       " } else {\n",
       " $('div.input').show();\n",
       " }\n",
       " code_show = !code_show\n",
       "} \n",
       "$( document ).ready(code_toggle);\n",
       "</script>\n",
       "To toggle code, click <a href=\"javascript:code_toggle()\">here</a>."
      ],
      "text/plain": [
       "<IPython.core.display.HTML object>"
      ]
     },
     "execution_count": 66,
     "metadata": {},
     "output_type": "execute_result"
    }
   ],
   "source": [
    "### Original Creator : Darshan Bhansali\n",
    "### HTML code to hide the input cells \n",
    "HTML('''<script>\n",
    "code_show=true; \n",
    "function code_toggle() {\n",
    " if (code_show){\n",
    " $('div.input').hide();\n",
    " } else {\n",
    " $('div.input').show();\n",
    " }\n",
    " code_show = !code_show\n",
    "} \n",
    "$( document ).ready(code_toggle);\n",
    "</script>\n",
    "To toggle code, click <a href=\"javascript:code_toggle()\">here</a>.''')"
   ]
  }
 ],
 "metadata": {
  "kernelspec": {
   "display_name": "Python 3",
   "language": "python",
   "name": "python3"
  },
  "language_info": {
   "codemirror_mode": {
    "name": "ipython",
    "version": 3
   },
   "file_extension": ".py",
   "mimetype": "text/x-python",
   "name": "python",
   "nbconvert_exporter": "python",
   "pygments_lexer": "ipython3",
   "version": "3.6.8"
  }
 },
 "nbformat": 4,
 "nbformat_minor": 2
}
